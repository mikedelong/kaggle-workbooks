{
 "cells": [
  {
   "cell_type": "code",
   "execution_count": 1,
   "id": "faaaef90",
   "metadata": {
    "execution": {
     "iopub.execute_input": "2023-10-23T19:06:09.467890Z",
     "iopub.status.busy": "2023-10-23T19:06:09.467164Z",
     "iopub.status.idle": "2023-10-23T19:06:10.216829Z",
     "shell.execute_reply": "2023-10-23T19:06:10.215924Z"
    },
    "papermill": {
     "duration": 0.758041,
     "end_time": "2023-10-23T19:06:10.220120",
     "exception": false,
     "start_time": "2023-10-23T19:06:09.462079",
     "status": "completed"
    },
    "tags": []
   },
   "outputs": [
    {
     "data": {
      "text/html": [
       "<div>\n",
       "<style scoped>\n",
       "    .dataframe tbody tr th:only-of-type {\n",
       "        vertical-align: middle;\n",
       "    }\n",
       "\n",
       "    .dataframe tbody tr th {\n",
       "        vertical-align: top;\n",
       "    }\n",
       "\n",
       "    .dataframe thead th {\n",
       "        text-align: right;\n",
       "    }\n",
       "</style>\n",
       "<table border=\"1\" class=\"dataframe\">\n",
       "  <thead>\n",
       "    <tr style=\"text-align: right;\">\n",
       "      <th></th>\n",
       "      <th>Product ID</th>\n",
       "      <th>Coffee Type</th>\n",
       "      <th>Roast Type</th>\n",
       "      <th>Size</th>\n",
       "      <th>Unit Price</th>\n",
       "      <th>Price per 100g</th>\n",
       "      <th>Profit</th>\n",
       "    </tr>\n",
       "  </thead>\n",
       "  <tbody>\n",
       "    <tr>\n",
       "      <th>0</th>\n",
       "      <td>A-L-0.2</td>\n",
       "      <td>Ara</td>\n",
       "      <td>L</td>\n",
       "      <td>0.2</td>\n",
       "      <td>3.885</td>\n",
       "      <td>1.9425</td>\n",
       "      <td>0.34965</td>\n",
       "    </tr>\n",
       "    <tr>\n",
       "      <th>1</th>\n",
       "      <td>A-L-0.5</td>\n",
       "      <td>Ara</td>\n",
       "      <td>L</td>\n",
       "      <td>0.5</td>\n",
       "      <td>7.770</td>\n",
       "      <td>1.5540</td>\n",
       "      <td>0.69930</td>\n",
       "    </tr>\n",
       "    <tr>\n",
       "      <th>2</th>\n",
       "      <td>A-L-1</td>\n",
       "      <td>Ara</td>\n",
       "      <td>L</td>\n",
       "      <td>1.0</td>\n",
       "      <td>12.950</td>\n",
       "      <td>1.2950</td>\n",
       "      <td>1.16550</td>\n",
       "    </tr>\n",
       "    <tr>\n",
       "      <th>3</th>\n",
       "      <td>A-L-2.5</td>\n",
       "      <td>Ara</td>\n",
       "      <td>L</td>\n",
       "      <td>2.5</td>\n",
       "      <td>29.785</td>\n",
       "      <td>1.1914</td>\n",
       "      <td>2.68065</td>\n",
       "    </tr>\n",
       "    <tr>\n",
       "      <th>4</th>\n",
       "      <td>A-M-0.2</td>\n",
       "      <td>Ara</td>\n",
       "      <td>M</td>\n",
       "      <td>0.2</td>\n",
       "      <td>3.375</td>\n",
       "      <td>1.6875</td>\n",
       "      <td>0.30375</td>\n",
       "    </tr>\n",
       "  </tbody>\n",
       "</table>\n",
       "</div>"
      ],
      "text/plain": [
       "  Product ID Coffee Type Roast Type  Size  Unit Price  Price per 100g   Profit\n",
       "0    A-L-0.2         Ara          L   0.2       3.885          1.9425  0.34965\n",
       "1    A-L-0.5         Ara          L   0.5       7.770          1.5540  0.69930\n",
       "2      A-L-1         Ara          L   1.0      12.950          1.2950  1.16550\n",
       "3    A-L-2.5         Ara          L   2.5      29.785          1.1914  2.68065\n",
       "4    A-M-0.2         Ara          M   0.2       3.375          1.6875  0.30375"
      ]
     },
     "execution_count": 1,
     "metadata": {},
     "output_type": "execute_result"
    }
   ],
   "source": [
    "import pandas as pd\n",
    "workbook = pd.ExcelFile(path_or_buffer='/kaggle/input/coffee-bean-sales-raw-dataset/Raw Data.xlsx')\n",
    "product_df = pd.read_excel(io=workbook, sheet_name='products')\n",
    "product_df.head()"
   ]
  },
  {
   "cell_type": "code",
   "execution_count": 2,
   "id": "682465d3",
   "metadata": {
    "execution": {
     "iopub.execute_input": "2023-10-23T19:06:10.228913Z",
     "iopub.status.busy": "2023-10-23T19:06:10.227484Z",
     "iopub.status.idle": "2023-10-23T19:06:10.254216Z",
     "shell.execute_reply": "2023-10-23T19:06:10.252949Z"
    },
    "papermill": {
     "duration": 0.033033,
     "end_time": "2023-10-23T19:06:10.256503",
     "exception": false,
     "start_time": "2023-10-23T19:06:10.223470",
     "status": "completed"
    },
    "tags": []
   },
   "outputs": [
    {
     "name": "stdout",
     "output_type": "stream",
     "text": [
      "<class 'pandas.core.frame.DataFrame'>\n",
      "RangeIndex: 48 entries, 0 to 47\n",
      "Data columns (total 7 columns):\n",
      " #   Column          Non-Null Count  Dtype  \n",
      "---  ------          --------------  -----  \n",
      " 0   Product ID      48 non-null     object \n",
      " 1   Coffee Type     48 non-null     object \n",
      " 2   Roast Type      48 non-null     object \n",
      " 3   Size            48 non-null     float64\n",
      " 4   Unit Price      48 non-null     float64\n",
      " 5   Price per 100g  48 non-null     float64\n",
      " 6   Profit          48 non-null     float64\n",
      "dtypes: float64(4), object(3)\n",
      "memory usage: 2.8+ KB\n"
     ]
    }
   ],
   "source": [
    "product_df.info()"
   ]
  },
  {
   "cell_type": "code",
   "execution_count": 3,
   "id": "46c6bb2f",
   "metadata": {
    "execution": {
     "iopub.execute_input": "2023-10-23T19:06:10.266655Z",
     "iopub.status.busy": "2023-10-23T19:06:10.266283Z",
     "iopub.status.idle": "2023-10-23T19:06:12.596832Z",
     "shell.execute_reply": "2023-10-23T19:06:12.595932Z"
    },
    "papermill": {
     "duration": 2.337662,
     "end_time": "2023-10-23T19:06:12.598770",
     "exception": false,
     "start_time": "2023-10-23T19:06:10.261108",
     "status": "completed"
    },
    "tags": []
   },
   "outputs": [
    {
     "data": {
      "text/html": [
       "        <script type=\"text/javascript\">\n",
       "        window.PlotlyConfig = {MathJaxConfig: 'local'};\n",
       "        if (window.MathJax && window.MathJax.Hub && window.MathJax.Hub.Config) {window.MathJax.Hub.Config({SVG: {font: \"STIX-Web\"}});}\n",
       "        if (typeof require !== 'undefined') {\n",
       "        require.undef(\"plotly\");\n",
       "        requirejs.config({\n",
       "            paths: {\n",
       "                'plotly': ['https://cdn.plot.ly/plotly-2.24.1.min']\n",
       "            }\n",
       "        });\n",
       "        require(['plotly'], function(Plotly) {\n",
       "            window._Plotly = Plotly;\n",
       "        });\n",
       "        }\n",
       "        </script>\n",
       "        "
      ]
     },
     "metadata": {},
     "output_type": "display_data"
    },
    {
     "data": {
      "text/html": [
       "<div>                            <div id=\"3f1607b9-3b3c-4329-8b54-6b30848f202e\" class=\"plotly-graph-div\" style=\"height:525px; width:100%;\"></div>            <script type=\"text/javascript\">                require([\"plotly\"], function(Plotly) {                    window.PLOTLYENV=window.PLOTLYENV || {};                                    if (document.getElementById(\"3f1607b9-3b3c-4329-8b54-6b30848f202e\")) {                    Plotly.newPlot(                        \"3f1607b9-3b3c-4329-8b54-6b30848f202e\",                        [{\"customdata\":[[\"Ara\",\"L\"],[\"Ara\",\"L\"],[\"Ara\",\"L\"],[\"Ara\",\"L\"],[\"Ara\",\"M\"],[\"Ara\",\"M\"],[\"Ara\",\"M\"],[\"Ara\",\"M\"],[\"Ara\",\"D\"],[\"Ara\",\"D\"],[\"Ara\",\"D\"],[\"Ara\",\"D\"],[\"Rob\",\"L\"],[\"Rob\",\"L\"],[\"Rob\",\"L\"],[\"Rob\",\"L\"],[\"Rob\",\"M\"],[\"Rob\",\"M\"],[\"Rob\",\"M\"],[\"Rob\",\"M\"],[\"Rob\",\"D\"],[\"Rob\",\"D\"],[\"Rob\",\"D\"],[\"Rob\",\"D\"],[\"Lib\",\"L\"],[\"Lib\",\"L\"],[\"Lib\",\"L\"],[\"Lib\",\"L\"],[\"Lib\",\"M\"],[\"Lib\",\"M\"],[\"Lib\",\"M\"],[\"Lib\",\"M\"],[\"Lib\",\"D\"],[\"Lib\",\"D\"],[\"Lib\",\"D\"],[\"Lib\",\"D\"],[\"Exc\",\"L\"],[\"Exc\",\"L\"],[\"Exc\",\"L\"],[\"Exc\",\"L\"],[\"Exc\",\"M\"],[\"Exc\",\"M\"],[\"Exc\",\"M\"],[\"Exc\",\"M\"],[\"Exc\",\"D\"],[\"Exc\",\"D\"],[\"Exc\",\"D\"],[\"Exc\",\"D\"]],\"hovertemplate\":\"\\u003cb\\u003e%{hovertext}\\u003c\\u002fb\\u003e\\u003cbr\\u003e\\u003cbr\\u003eUnit Price=%{x}\\u003cbr\\u003ePrice per 100g=%{y}\\u003cbr\\u003eCoffee Type=%{customdata[0]}\\u003cbr\\u003eRoast Type=%{customdata[1]}\\u003cbr\\u003eSize=%{marker.color}\\u003cextra\\u003e\\u003c\\u002fextra\\u003e\",\"hovertext\":[\"A-L-0.2\",\"A-L-0.5\",\"A-L-1\",\"A-L-2.5\",\"A-M-0.2\",\"A-M-0.5\",\"A-M-1\",\"A-M-2.5\",\"A-D-0.2\",\"A-D-0.5\",\"A-D-1\",\"A-D-2.5\",\"R-L-0.2\",\"R-L-0.5\",\"R-L-1\",\"R-L-2.5\",\"R-M-0.2\",\"R-M-0.5\",\"R-M-1\",\"R-M-2.5\",\"R-D-0.2\",\"R-D-0.5\",\"R-D-1\",\"R-D-2.5\",\"L-L-0.2\",\"L-L-0.5\",\"L-L-1\",\"L-L-2.5\",\"L-M-0.2\",\"L-M-0.5\",\"L-M-1\",\"L-M-2.5\",\"L-D-0.2\",\"L-D-0.5\",\"L-D-1\",\"L-D-2.5\",\"E-L-0.2\",\"E-L-0.5\",\"E-L-1\",\"E-L-2.5\",\"E-M-0.2\",\"E-M-0.5\",\"E-M-1\",\"E-M-2.5\",\"E-D-0.2\",\"E-D-0.5\",\"E-D-1\",\"E-D-2.5\"],\"legendgroup\":\"\",\"marker\":{\"color\":[0.2,0.5,1.0,2.5,0.2,0.5,1.0,2.5,0.2,0.5,1.0,2.5,0.2,0.5,1.0,2.5,0.2,0.5,1.0,2.5,0.2,0.5,1.0,2.5,0.2,0.5,1.0,2.5,0.2,0.5,1.0,2.5,0.2,0.5,1.0,2.5,0.2,0.5,1.0,2.5,0.2,0.5,1.0,2.5,0.2,0.5,1.0,2.5],\"coloraxis\":\"coloraxis\",\"symbol\":\"circle\"},\"mode\":\"markers\",\"name\":\"\",\"orientation\":\"v\",\"showlegend\":false,\"x\":[3.885,7.77,12.95,29.784999999999997,3.375,6.75,11.25,25.874999999999996,2.985,5.97,9.95,22.884999999999998,3.5849999999999995,7.169999999999999,11.95,27.484999999999996,2.985,5.97,9.95,22.884999999999998,2.6849999999999996,5.369999999999999,8.95,20.584999999999997,4.755,9.51,15.85,36.455,4.365,8.73,14.55,33.464999999999996,3.885,7.77,12.95,29.784999999999997,4.455,8.91,14.85,34.154999999999994,4.125,8.25,13.75,31.624999999999996,3.645,7.29,12.15,27.945],\"xaxis\":\"x\",\"y\":[1.9425,1.5539999999999998,1.295,1.1913999999999998,1.6875,1.35,1.125,1.035,1.4925,1.194,0.9949999999999999,0.9153999999999999,1.7924999999999998,1.4339999999999997,1.1949999999999998,1.0994,1.4925,1.194,0.9949999999999999,0.9153999999999999,1.3424999999999998,1.0739999999999998,0.8949999999999999,0.8233999999999999,2.3775,1.902,1.585,1.4582,2.1825,1.746,1.455,1.3385999999999998,1.9425,1.5539999999999998,1.295,1.1913999999999998,2.2275,1.782,1.4849999999999999,1.3661999999999999,2.0625,1.65,1.375,1.265,1.8225,1.458,1.215,1.1178],\"yaxis\":\"y\",\"type\":\"scatter\"}],                        {\"template\":{\"data\":{\"histogram2dcontour\":[{\"type\":\"histogram2dcontour\",\"colorbar\":{\"outlinewidth\":0,\"ticks\":\"\"},\"colorscale\":[[0.0,\"#0d0887\"],[0.1111111111111111,\"#46039f\"],[0.2222222222222222,\"#7201a8\"],[0.3333333333333333,\"#9c179e\"],[0.4444444444444444,\"#bd3786\"],[0.5555555555555556,\"#d8576b\"],[0.6666666666666666,\"#ed7953\"],[0.7777777777777778,\"#fb9f3a\"],[0.8888888888888888,\"#fdca26\"],[1.0,\"#f0f921\"]]}],\"choropleth\":[{\"type\":\"choropleth\",\"colorbar\":{\"outlinewidth\":0,\"ticks\":\"\"}}],\"histogram2d\":[{\"type\":\"histogram2d\",\"colorbar\":{\"outlinewidth\":0,\"ticks\":\"\"},\"colorscale\":[[0.0,\"#0d0887\"],[0.1111111111111111,\"#46039f\"],[0.2222222222222222,\"#7201a8\"],[0.3333333333333333,\"#9c179e\"],[0.4444444444444444,\"#bd3786\"],[0.5555555555555556,\"#d8576b\"],[0.6666666666666666,\"#ed7953\"],[0.7777777777777778,\"#fb9f3a\"],[0.8888888888888888,\"#fdca26\"],[1.0,\"#f0f921\"]]}],\"heatmap\":[{\"type\":\"heatmap\",\"colorbar\":{\"outlinewidth\":0,\"ticks\":\"\"},\"colorscale\":[[0.0,\"#0d0887\"],[0.1111111111111111,\"#46039f\"],[0.2222222222222222,\"#7201a8\"],[0.3333333333333333,\"#9c179e\"],[0.4444444444444444,\"#bd3786\"],[0.5555555555555556,\"#d8576b\"],[0.6666666666666666,\"#ed7953\"],[0.7777777777777778,\"#fb9f3a\"],[0.8888888888888888,\"#fdca26\"],[1.0,\"#f0f921\"]]}],\"heatmapgl\":[{\"type\":\"heatmapgl\",\"colorbar\":{\"outlinewidth\":0,\"ticks\":\"\"},\"colorscale\":[[0.0,\"#0d0887\"],[0.1111111111111111,\"#46039f\"],[0.2222222222222222,\"#7201a8\"],[0.3333333333333333,\"#9c179e\"],[0.4444444444444444,\"#bd3786\"],[0.5555555555555556,\"#d8576b\"],[0.6666666666666666,\"#ed7953\"],[0.7777777777777778,\"#fb9f3a\"],[0.8888888888888888,\"#fdca26\"],[1.0,\"#f0f921\"]]}],\"contourcarpet\":[{\"type\":\"contourcarpet\",\"colorbar\":{\"outlinewidth\":0,\"ticks\":\"\"}}],\"contour\":[{\"type\":\"contour\",\"colorbar\":{\"outlinewidth\":0,\"ticks\":\"\"},\"colorscale\":[[0.0,\"#0d0887\"],[0.1111111111111111,\"#46039f\"],[0.2222222222222222,\"#7201a8\"],[0.3333333333333333,\"#9c179e\"],[0.4444444444444444,\"#bd3786\"],[0.5555555555555556,\"#d8576b\"],[0.6666666666666666,\"#ed7953\"],[0.7777777777777778,\"#fb9f3a\"],[0.8888888888888888,\"#fdca26\"],[1.0,\"#f0f921\"]]}],\"surface\":[{\"type\":\"surface\",\"colorbar\":{\"outlinewidth\":0,\"ticks\":\"\"},\"colorscale\":[[0.0,\"#0d0887\"],[0.1111111111111111,\"#46039f\"],[0.2222222222222222,\"#7201a8\"],[0.3333333333333333,\"#9c179e\"],[0.4444444444444444,\"#bd3786\"],[0.5555555555555556,\"#d8576b\"],[0.6666666666666666,\"#ed7953\"],[0.7777777777777778,\"#fb9f3a\"],[0.8888888888888888,\"#fdca26\"],[1.0,\"#f0f921\"]]}],\"mesh3d\":[{\"type\":\"mesh3d\",\"colorbar\":{\"outlinewidth\":0,\"ticks\":\"\"}}],\"scatter\":[{\"fillpattern\":{\"fillmode\":\"overlay\",\"size\":10,\"solidity\":0.2},\"type\":\"scatter\"}],\"parcoords\":[{\"type\":\"parcoords\",\"line\":{\"colorbar\":{\"outlinewidth\":0,\"ticks\":\"\"}}}],\"scatterpolargl\":[{\"type\":\"scatterpolargl\",\"marker\":{\"colorbar\":{\"outlinewidth\":0,\"ticks\":\"\"}}}],\"bar\":[{\"error_x\":{\"color\":\"#2a3f5f\"},\"error_y\":{\"color\":\"#2a3f5f\"},\"marker\":{\"line\":{\"color\":\"#E5ECF6\",\"width\":0.5},\"pattern\":{\"fillmode\":\"overlay\",\"size\":10,\"solidity\":0.2}},\"type\":\"bar\"}],\"scattergeo\":[{\"type\":\"scattergeo\",\"marker\":{\"colorbar\":{\"outlinewidth\":0,\"ticks\":\"\"}}}],\"scatterpolar\":[{\"type\":\"scatterpolar\",\"marker\":{\"colorbar\":{\"outlinewidth\":0,\"ticks\":\"\"}}}],\"histogram\":[{\"marker\":{\"pattern\":{\"fillmode\":\"overlay\",\"size\":10,\"solidity\":0.2}},\"type\":\"histogram\"}],\"scattergl\":[{\"type\":\"scattergl\",\"marker\":{\"colorbar\":{\"outlinewidth\":0,\"ticks\":\"\"}}}],\"scatter3d\":[{\"type\":\"scatter3d\",\"line\":{\"colorbar\":{\"outlinewidth\":0,\"ticks\":\"\"}},\"marker\":{\"colorbar\":{\"outlinewidth\":0,\"ticks\":\"\"}}}],\"scattermapbox\":[{\"type\":\"scattermapbox\",\"marker\":{\"colorbar\":{\"outlinewidth\":0,\"ticks\":\"\"}}}],\"scatterternary\":[{\"type\":\"scatterternary\",\"marker\":{\"colorbar\":{\"outlinewidth\":0,\"ticks\":\"\"}}}],\"scattercarpet\":[{\"type\":\"scattercarpet\",\"marker\":{\"colorbar\":{\"outlinewidth\":0,\"ticks\":\"\"}}}],\"carpet\":[{\"aaxis\":{\"endlinecolor\":\"#2a3f5f\",\"gridcolor\":\"white\",\"linecolor\":\"white\",\"minorgridcolor\":\"white\",\"startlinecolor\":\"#2a3f5f\"},\"baxis\":{\"endlinecolor\":\"#2a3f5f\",\"gridcolor\":\"white\",\"linecolor\":\"white\",\"minorgridcolor\":\"white\",\"startlinecolor\":\"#2a3f5f\"},\"type\":\"carpet\"}],\"table\":[{\"cells\":{\"fill\":{\"color\":\"#EBF0F8\"},\"line\":{\"color\":\"white\"}},\"header\":{\"fill\":{\"color\":\"#C8D4E3\"},\"line\":{\"color\":\"white\"}},\"type\":\"table\"}],\"barpolar\":[{\"marker\":{\"line\":{\"color\":\"#E5ECF6\",\"width\":0.5},\"pattern\":{\"fillmode\":\"overlay\",\"size\":10,\"solidity\":0.2}},\"type\":\"barpolar\"}],\"pie\":[{\"automargin\":true,\"type\":\"pie\"}]},\"layout\":{\"autotypenumbers\":\"strict\",\"colorway\":[\"#636efa\",\"#EF553B\",\"#00cc96\",\"#ab63fa\",\"#FFA15A\",\"#19d3f3\",\"#FF6692\",\"#B6E880\",\"#FF97FF\",\"#FECB52\"],\"font\":{\"color\":\"#2a3f5f\"},\"hovermode\":\"closest\",\"hoverlabel\":{\"align\":\"left\"},\"paper_bgcolor\":\"white\",\"plot_bgcolor\":\"#E5ECF6\",\"polar\":{\"bgcolor\":\"#E5ECF6\",\"angularaxis\":{\"gridcolor\":\"white\",\"linecolor\":\"white\",\"ticks\":\"\"},\"radialaxis\":{\"gridcolor\":\"white\",\"linecolor\":\"white\",\"ticks\":\"\"}},\"ternary\":{\"bgcolor\":\"#E5ECF6\",\"aaxis\":{\"gridcolor\":\"white\",\"linecolor\":\"white\",\"ticks\":\"\"},\"baxis\":{\"gridcolor\":\"white\",\"linecolor\":\"white\",\"ticks\":\"\"},\"caxis\":{\"gridcolor\":\"white\",\"linecolor\":\"white\",\"ticks\":\"\"}},\"coloraxis\":{\"colorbar\":{\"outlinewidth\":0,\"ticks\":\"\"}},\"colorscale\":{\"sequential\":[[0.0,\"#0d0887\"],[0.1111111111111111,\"#46039f\"],[0.2222222222222222,\"#7201a8\"],[0.3333333333333333,\"#9c179e\"],[0.4444444444444444,\"#bd3786\"],[0.5555555555555556,\"#d8576b\"],[0.6666666666666666,\"#ed7953\"],[0.7777777777777778,\"#fb9f3a\"],[0.8888888888888888,\"#fdca26\"],[1.0,\"#f0f921\"]],\"sequentialminus\":[[0.0,\"#0d0887\"],[0.1111111111111111,\"#46039f\"],[0.2222222222222222,\"#7201a8\"],[0.3333333333333333,\"#9c179e\"],[0.4444444444444444,\"#bd3786\"],[0.5555555555555556,\"#d8576b\"],[0.6666666666666666,\"#ed7953\"],[0.7777777777777778,\"#fb9f3a\"],[0.8888888888888888,\"#fdca26\"],[1.0,\"#f0f921\"]],\"diverging\":[[0,\"#8e0152\"],[0.1,\"#c51b7d\"],[0.2,\"#de77ae\"],[0.3,\"#f1b6da\"],[0.4,\"#fde0ef\"],[0.5,\"#f7f7f7\"],[0.6,\"#e6f5d0\"],[0.7,\"#b8e186\"],[0.8,\"#7fbc41\"],[0.9,\"#4d9221\"],[1,\"#276419\"]]},\"xaxis\":{\"gridcolor\":\"white\",\"linecolor\":\"white\",\"ticks\":\"\",\"title\":{\"standoff\":15},\"zerolinecolor\":\"white\",\"automargin\":true,\"zerolinewidth\":2},\"yaxis\":{\"gridcolor\":\"white\",\"linecolor\":\"white\",\"ticks\":\"\",\"title\":{\"standoff\":15},\"zerolinecolor\":\"white\",\"automargin\":true,\"zerolinewidth\":2},\"scene\":{\"xaxis\":{\"backgroundcolor\":\"#E5ECF6\",\"gridcolor\":\"white\",\"linecolor\":\"white\",\"showbackground\":true,\"ticks\":\"\",\"zerolinecolor\":\"white\",\"gridwidth\":2},\"yaxis\":{\"backgroundcolor\":\"#E5ECF6\",\"gridcolor\":\"white\",\"linecolor\":\"white\",\"showbackground\":true,\"ticks\":\"\",\"zerolinecolor\":\"white\",\"gridwidth\":2},\"zaxis\":{\"backgroundcolor\":\"#E5ECF6\",\"gridcolor\":\"white\",\"linecolor\":\"white\",\"showbackground\":true,\"ticks\":\"\",\"zerolinecolor\":\"white\",\"gridwidth\":2}},\"shapedefaults\":{\"line\":{\"color\":\"#2a3f5f\"}},\"annotationdefaults\":{\"arrowcolor\":\"#2a3f5f\",\"arrowhead\":0,\"arrowwidth\":1},\"geo\":{\"bgcolor\":\"white\",\"landcolor\":\"#E5ECF6\",\"subunitcolor\":\"white\",\"showland\":true,\"showlakes\":true,\"lakecolor\":\"white\"},\"title\":{\"x\":0.05},\"mapbox\":{\"style\":\"light\"}}},\"xaxis\":{\"anchor\":\"y\",\"domain\":[0.0,1.0],\"title\":{\"text\":\"Unit Price\"}},\"yaxis\":{\"anchor\":\"x\",\"domain\":[0.0,1.0],\"title\":{\"text\":\"Price per 100g\"}},\"coloraxis\":{\"colorbar\":{\"title\":{\"text\":\"Size\"}},\"colorscale\":[[0.0,\"#ff0000\"],[0.1111111111111111,\"#ffa700\"],[0.2222222222222222,\"#afff00\"],[0.3333333333333333,\"#08ff00\"],[0.4444444444444444,\"#00ff9f\"],[0.5555555555555556,\"#00b7ff\"],[0.6666666666666666,\"#0010ff\"],[0.7777777777777778,\"#9700ff\"],[0.8888888888888888,\"#ff00bf\"],[1.0,\"#ff0000\"]]},\"legend\":{\"tracegroupgap\":0},\"margin\":{\"t\":60}},                        {\"responsive\": true}                    ).then(function(){\n",
       "                            \n",
       "var gd = document.getElementById('3f1607b9-3b3c-4329-8b54-6b30848f202e');\n",
       "var x = new MutationObserver(function (mutations, observer) {{\n",
       "        var display = window.getComputedStyle(gd).display;\n",
       "        if (!display || display === 'none') {{\n",
       "            console.log([gd, 'removed!']);\n",
       "            Plotly.purge(gd);\n",
       "            observer.disconnect();\n",
       "        }}\n",
       "}});\n",
       "\n",
       "// Listen for the removal of the full notebook cells\n",
       "var notebookContainer = gd.closest('#notebook-container');\n",
       "if (notebookContainer) {{\n",
       "    x.observe(notebookContainer, {childList: true});\n",
       "}}\n",
       "\n",
       "// Listen for the clearing of the current output cell\n",
       "var outputEl = gd.closest('.output');\n",
       "if (outputEl) {{\n",
       "    x.observe(outputEl, {childList: true});\n",
       "}}\n",
       "\n",
       "                        })                };                });            </script>        </div>"
      ]
     },
     "metadata": {},
     "output_type": "display_data"
    }
   ],
   "source": [
    "from plotly.express import scatter\n",
    "scatter(data_frame=product_df, x='Unit Price', y='Price per 100g', color='Size', hover_name='Product ID', color_continuous_scale='hsv',\n",
    "       hover_data=['Coffee Type', 'Roast Type'], )"
   ]
  },
  {
   "cell_type": "code",
   "execution_count": 4,
   "id": "4aeeaf26",
   "metadata": {
    "execution": {
     "iopub.execute_input": "2023-10-23T19:06:12.607610Z",
     "iopub.status.busy": "2023-10-23T19:06:12.607131Z",
     "iopub.status.idle": "2023-10-23T19:06:12.663739Z",
     "shell.execute_reply": "2023-10-23T19:06:12.663034Z"
    },
    "papermill": {
     "duration": 0.062883,
     "end_time": "2023-10-23T19:06:12.665522",
     "exception": false,
     "start_time": "2023-10-23T19:06:12.602639",
     "status": "completed"
    },
    "tags": []
   },
   "outputs": [
    {
     "data": {
      "text/html": [
       "<div>                            <div id=\"c41033b5-07e4-4b43-8eb9-e6fa597e8025\" class=\"plotly-graph-div\" style=\"height:525px; width:100%;\"></div>            <script type=\"text/javascript\">                require([\"plotly\"], function(Plotly) {                    window.PLOTLYENV=window.PLOTLYENV || {};                                    if (document.getElementById(\"c41033b5-07e4-4b43-8eb9-e6fa597e8025\")) {                    Plotly.newPlot(                        \"c41033b5-07e4-4b43-8eb9-e6fa597e8025\",                        [{\"customdata\":[[\"Ara\",\"L\"],[\"Ara\",\"L\"],[\"Ara\",\"L\"],[\"Ara\",\"L\"],[\"Ara\",\"M\"],[\"Ara\",\"M\"],[\"Ara\",\"M\"],[\"Ara\",\"M\"],[\"Ara\",\"D\"],[\"Ara\",\"D\"],[\"Ara\",\"D\"],[\"Ara\",\"D\"],[\"Rob\",\"L\"],[\"Rob\",\"L\"],[\"Rob\",\"L\"],[\"Rob\",\"L\"],[\"Rob\",\"M\"],[\"Rob\",\"M\"],[\"Rob\",\"M\"],[\"Rob\",\"M\"],[\"Rob\",\"D\"],[\"Rob\",\"D\"],[\"Rob\",\"D\"],[\"Rob\",\"D\"],[\"Lib\",\"L\"],[\"Lib\",\"L\"],[\"Lib\",\"L\"],[\"Lib\",\"L\"],[\"Lib\",\"M\"],[\"Lib\",\"M\"],[\"Lib\",\"M\"],[\"Lib\",\"M\"],[\"Lib\",\"D\"],[\"Lib\",\"D\"],[\"Lib\",\"D\"],[\"Lib\",\"D\"],[\"Exc\",\"L\"],[\"Exc\",\"L\"],[\"Exc\",\"L\"],[\"Exc\",\"L\"],[\"Exc\",\"M\"],[\"Exc\",\"M\"],[\"Exc\",\"M\"],[\"Exc\",\"M\"],[\"Exc\",\"D\"],[\"Exc\",\"D\"],[\"Exc\",\"D\"],[\"Exc\",\"D\"]],\"hovertemplate\":\"\\u003cb\\u003e%{hovertext}\\u003c\\u002fb\\u003e\\u003cbr\\u003e\\u003cbr\\u003eUnit Price=%{x}\\u003cbr\\u003eProfit=%{y}\\u003cbr\\u003eCoffee Type=%{customdata[0]}\\u003cbr\\u003eRoast Type=%{customdata[1]}\\u003cbr\\u003eSize=%{marker.color}\\u003cextra\\u003e\\u003c\\u002fextra\\u003e\",\"hovertext\":[\"A-L-0.2\",\"A-L-0.5\",\"A-L-1\",\"A-L-2.5\",\"A-M-0.2\",\"A-M-0.5\",\"A-M-1\",\"A-M-2.5\",\"A-D-0.2\",\"A-D-0.5\",\"A-D-1\",\"A-D-2.5\",\"R-L-0.2\",\"R-L-0.5\",\"R-L-1\",\"R-L-2.5\",\"R-M-0.2\",\"R-M-0.5\",\"R-M-1\",\"R-M-2.5\",\"R-D-0.2\",\"R-D-0.5\",\"R-D-1\",\"R-D-2.5\",\"L-L-0.2\",\"L-L-0.5\",\"L-L-1\",\"L-L-2.5\",\"L-M-0.2\",\"L-M-0.5\",\"L-M-1\",\"L-M-2.5\",\"L-D-0.2\",\"L-D-0.5\",\"L-D-1\",\"L-D-2.5\",\"E-L-0.2\",\"E-L-0.5\",\"E-L-1\",\"E-L-2.5\",\"E-M-0.2\",\"E-M-0.5\",\"E-M-1\",\"E-M-2.5\",\"E-D-0.2\",\"E-D-0.5\",\"E-D-1\",\"E-D-2.5\"],\"legendgroup\":\"\",\"marker\":{\"color\":[0.2,0.5,1.0,2.5,0.2,0.5,1.0,2.5,0.2,0.5,1.0,2.5,0.2,0.5,1.0,2.5,0.2,0.5,1.0,2.5,0.2,0.5,1.0,2.5,0.2,0.5,1.0,2.5,0.2,0.5,1.0,2.5,0.2,0.5,1.0,2.5,0.2,0.5,1.0,2.5,0.2,0.5,1.0,2.5,0.2,0.5,1.0,2.5],\"coloraxis\":\"coloraxis\",\"symbol\":\"circle\"},\"mode\":\"markers\",\"name\":\"\",\"orientation\":\"v\",\"showlegend\":false,\"x\":[3.885,7.77,12.95,29.784999999999997,3.375,6.75,11.25,25.874999999999996,2.985,5.97,9.95,22.884999999999998,3.5849999999999995,7.169999999999999,11.95,27.484999999999996,2.985,5.97,9.95,22.884999999999998,2.6849999999999996,5.369999999999999,8.95,20.584999999999997,4.755,9.51,15.85,36.455,4.365,8.73,14.55,33.464999999999996,3.885,7.77,12.95,29.784999999999997,4.455,8.91,14.85,34.154999999999994,4.125,8.25,13.75,31.624999999999996,3.645,7.29,12.15,27.945],\"xaxis\":\"x\",\"y\":[0.34964999999999996,0.6992999999999999,1.1655,2.6806499999999995,0.30374999999999996,0.6074999999999999,1.0125,2.3287499999999994,0.26865,0.5373,0.8954999999999999,2.0596499999999995,0.21509999999999996,0.4301999999999999,0.717,1.6490999999999998,0.17909999999999998,0.35819999999999996,0.597,1.3730999999999998,0.16109999999999997,0.32219999999999993,0.5369999999999999,1.2350999999999999,0.61815,1.2363,2.0605,4.7391499999999995,0.56745,1.1349,1.8915000000000002,4.3504499999999995,0.50505,1.0101,1.6835,3.8720499999999998,0.49005,0.9801,1.6335,3.7570499999999996,0.45375,0.9075,1.5125,3.47875,0.40095000000000003,0.8019000000000001,1.3365,3.07395],\"yaxis\":\"y\",\"type\":\"scatter\"}],                        {\"template\":{\"data\":{\"histogram2dcontour\":[{\"type\":\"histogram2dcontour\",\"colorbar\":{\"outlinewidth\":0,\"ticks\":\"\"},\"colorscale\":[[0.0,\"#0d0887\"],[0.1111111111111111,\"#46039f\"],[0.2222222222222222,\"#7201a8\"],[0.3333333333333333,\"#9c179e\"],[0.4444444444444444,\"#bd3786\"],[0.5555555555555556,\"#d8576b\"],[0.6666666666666666,\"#ed7953\"],[0.7777777777777778,\"#fb9f3a\"],[0.8888888888888888,\"#fdca26\"],[1.0,\"#f0f921\"]]}],\"choropleth\":[{\"type\":\"choropleth\",\"colorbar\":{\"outlinewidth\":0,\"ticks\":\"\"}}],\"histogram2d\":[{\"type\":\"histogram2d\",\"colorbar\":{\"outlinewidth\":0,\"ticks\":\"\"},\"colorscale\":[[0.0,\"#0d0887\"],[0.1111111111111111,\"#46039f\"],[0.2222222222222222,\"#7201a8\"],[0.3333333333333333,\"#9c179e\"],[0.4444444444444444,\"#bd3786\"],[0.5555555555555556,\"#d8576b\"],[0.6666666666666666,\"#ed7953\"],[0.7777777777777778,\"#fb9f3a\"],[0.8888888888888888,\"#fdca26\"],[1.0,\"#f0f921\"]]}],\"heatmap\":[{\"type\":\"heatmap\",\"colorbar\":{\"outlinewidth\":0,\"ticks\":\"\"},\"colorscale\":[[0.0,\"#0d0887\"],[0.1111111111111111,\"#46039f\"],[0.2222222222222222,\"#7201a8\"],[0.3333333333333333,\"#9c179e\"],[0.4444444444444444,\"#bd3786\"],[0.5555555555555556,\"#d8576b\"],[0.6666666666666666,\"#ed7953\"],[0.7777777777777778,\"#fb9f3a\"],[0.8888888888888888,\"#fdca26\"],[1.0,\"#f0f921\"]]}],\"heatmapgl\":[{\"type\":\"heatmapgl\",\"colorbar\":{\"outlinewidth\":0,\"ticks\":\"\"},\"colorscale\":[[0.0,\"#0d0887\"],[0.1111111111111111,\"#46039f\"],[0.2222222222222222,\"#7201a8\"],[0.3333333333333333,\"#9c179e\"],[0.4444444444444444,\"#bd3786\"],[0.5555555555555556,\"#d8576b\"],[0.6666666666666666,\"#ed7953\"],[0.7777777777777778,\"#fb9f3a\"],[0.8888888888888888,\"#fdca26\"],[1.0,\"#f0f921\"]]}],\"contourcarpet\":[{\"type\":\"contourcarpet\",\"colorbar\":{\"outlinewidth\":0,\"ticks\":\"\"}}],\"contour\":[{\"type\":\"contour\",\"colorbar\":{\"outlinewidth\":0,\"ticks\":\"\"},\"colorscale\":[[0.0,\"#0d0887\"],[0.1111111111111111,\"#46039f\"],[0.2222222222222222,\"#7201a8\"],[0.3333333333333333,\"#9c179e\"],[0.4444444444444444,\"#bd3786\"],[0.5555555555555556,\"#d8576b\"],[0.6666666666666666,\"#ed7953\"],[0.7777777777777778,\"#fb9f3a\"],[0.8888888888888888,\"#fdca26\"],[1.0,\"#f0f921\"]]}],\"surface\":[{\"type\":\"surface\",\"colorbar\":{\"outlinewidth\":0,\"ticks\":\"\"},\"colorscale\":[[0.0,\"#0d0887\"],[0.1111111111111111,\"#46039f\"],[0.2222222222222222,\"#7201a8\"],[0.3333333333333333,\"#9c179e\"],[0.4444444444444444,\"#bd3786\"],[0.5555555555555556,\"#d8576b\"],[0.6666666666666666,\"#ed7953\"],[0.7777777777777778,\"#fb9f3a\"],[0.8888888888888888,\"#fdca26\"],[1.0,\"#f0f921\"]]}],\"mesh3d\":[{\"type\":\"mesh3d\",\"colorbar\":{\"outlinewidth\":0,\"ticks\":\"\"}}],\"scatter\":[{\"fillpattern\":{\"fillmode\":\"overlay\",\"size\":10,\"solidity\":0.2},\"type\":\"scatter\"}],\"parcoords\":[{\"type\":\"parcoords\",\"line\":{\"colorbar\":{\"outlinewidth\":0,\"ticks\":\"\"}}}],\"scatterpolargl\":[{\"type\":\"scatterpolargl\",\"marker\":{\"colorbar\":{\"outlinewidth\":0,\"ticks\":\"\"}}}],\"bar\":[{\"error_x\":{\"color\":\"#2a3f5f\"},\"error_y\":{\"color\":\"#2a3f5f\"},\"marker\":{\"line\":{\"color\":\"#E5ECF6\",\"width\":0.5},\"pattern\":{\"fillmode\":\"overlay\",\"size\":10,\"solidity\":0.2}},\"type\":\"bar\"}],\"scattergeo\":[{\"type\":\"scattergeo\",\"marker\":{\"colorbar\":{\"outlinewidth\":0,\"ticks\":\"\"}}}],\"scatterpolar\":[{\"type\":\"scatterpolar\",\"marker\":{\"colorbar\":{\"outlinewidth\":0,\"ticks\":\"\"}}}],\"histogram\":[{\"marker\":{\"pattern\":{\"fillmode\":\"overlay\",\"size\":10,\"solidity\":0.2}},\"type\":\"histogram\"}],\"scattergl\":[{\"type\":\"scattergl\",\"marker\":{\"colorbar\":{\"outlinewidth\":0,\"ticks\":\"\"}}}],\"scatter3d\":[{\"type\":\"scatter3d\",\"line\":{\"colorbar\":{\"outlinewidth\":0,\"ticks\":\"\"}},\"marker\":{\"colorbar\":{\"outlinewidth\":0,\"ticks\":\"\"}}}],\"scattermapbox\":[{\"type\":\"scattermapbox\",\"marker\":{\"colorbar\":{\"outlinewidth\":0,\"ticks\":\"\"}}}],\"scatterternary\":[{\"type\":\"scatterternary\",\"marker\":{\"colorbar\":{\"outlinewidth\":0,\"ticks\":\"\"}}}],\"scattercarpet\":[{\"type\":\"scattercarpet\",\"marker\":{\"colorbar\":{\"outlinewidth\":0,\"ticks\":\"\"}}}],\"carpet\":[{\"aaxis\":{\"endlinecolor\":\"#2a3f5f\",\"gridcolor\":\"white\",\"linecolor\":\"white\",\"minorgridcolor\":\"white\",\"startlinecolor\":\"#2a3f5f\"},\"baxis\":{\"endlinecolor\":\"#2a3f5f\",\"gridcolor\":\"white\",\"linecolor\":\"white\",\"minorgridcolor\":\"white\",\"startlinecolor\":\"#2a3f5f\"},\"type\":\"carpet\"}],\"table\":[{\"cells\":{\"fill\":{\"color\":\"#EBF0F8\"},\"line\":{\"color\":\"white\"}},\"header\":{\"fill\":{\"color\":\"#C8D4E3\"},\"line\":{\"color\":\"white\"}},\"type\":\"table\"}],\"barpolar\":[{\"marker\":{\"line\":{\"color\":\"#E5ECF6\",\"width\":0.5},\"pattern\":{\"fillmode\":\"overlay\",\"size\":10,\"solidity\":0.2}},\"type\":\"barpolar\"}],\"pie\":[{\"automargin\":true,\"type\":\"pie\"}]},\"layout\":{\"autotypenumbers\":\"strict\",\"colorway\":[\"#636efa\",\"#EF553B\",\"#00cc96\",\"#ab63fa\",\"#FFA15A\",\"#19d3f3\",\"#FF6692\",\"#B6E880\",\"#FF97FF\",\"#FECB52\"],\"font\":{\"color\":\"#2a3f5f\"},\"hovermode\":\"closest\",\"hoverlabel\":{\"align\":\"left\"},\"paper_bgcolor\":\"white\",\"plot_bgcolor\":\"#E5ECF6\",\"polar\":{\"bgcolor\":\"#E5ECF6\",\"angularaxis\":{\"gridcolor\":\"white\",\"linecolor\":\"white\",\"ticks\":\"\"},\"radialaxis\":{\"gridcolor\":\"white\",\"linecolor\":\"white\",\"ticks\":\"\"}},\"ternary\":{\"bgcolor\":\"#E5ECF6\",\"aaxis\":{\"gridcolor\":\"white\",\"linecolor\":\"white\",\"ticks\":\"\"},\"baxis\":{\"gridcolor\":\"white\",\"linecolor\":\"white\",\"ticks\":\"\"},\"caxis\":{\"gridcolor\":\"white\",\"linecolor\":\"white\",\"ticks\":\"\"}},\"coloraxis\":{\"colorbar\":{\"outlinewidth\":0,\"ticks\":\"\"}},\"colorscale\":{\"sequential\":[[0.0,\"#0d0887\"],[0.1111111111111111,\"#46039f\"],[0.2222222222222222,\"#7201a8\"],[0.3333333333333333,\"#9c179e\"],[0.4444444444444444,\"#bd3786\"],[0.5555555555555556,\"#d8576b\"],[0.6666666666666666,\"#ed7953\"],[0.7777777777777778,\"#fb9f3a\"],[0.8888888888888888,\"#fdca26\"],[1.0,\"#f0f921\"]],\"sequentialminus\":[[0.0,\"#0d0887\"],[0.1111111111111111,\"#46039f\"],[0.2222222222222222,\"#7201a8\"],[0.3333333333333333,\"#9c179e\"],[0.4444444444444444,\"#bd3786\"],[0.5555555555555556,\"#d8576b\"],[0.6666666666666666,\"#ed7953\"],[0.7777777777777778,\"#fb9f3a\"],[0.8888888888888888,\"#fdca26\"],[1.0,\"#f0f921\"]],\"diverging\":[[0,\"#8e0152\"],[0.1,\"#c51b7d\"],[0.2,\"#de77ae\"],[0.3,\"#f1b6da\"],[0.4,\"#fde0ef\"],[0.5,\"#f7f7f7\"],[0.6,\"#e6f5d0\"],[0.7,\"#b8e186\"],[0.8,\"#7fbc41\"],[0.9,\"#4d9221\"],[1,\"#276419\"]]},\"xaxis\":{\"gridcolor\":\"white\",\"linecolor\":\"white\",\"ticks\":\"\",\"title\":{\"standoff\":15},\"zerolinecolor\":\"white\",\"automargin\":true,\"zerolinewidth\":2},\"yaxis\":{\"gridcolor\":\"white\",\"linecolor\":\"white\",\"ticks\":\"\",\"title\":{\"standoff\":15},\"zerolinecolor\":\"white\",\"automargin\":true,\"zerolinewidth\":2},\"scene\":{\"xaxis\":{\"backgroundcolor\":\"#E5ECF6\",\"gridcolor\":\"white\",\"linecolor\":\"white\",\"showbackground\":true,\"ticks\":\"\",\"zerolinecolor\":\"white\",\"gridwidth\":2},\"yaxis\":{\"backgroundcolor\":\"#E5ECF6\",\"gridcolor\":\"white\",\"linecolor\":\"white\",\"showbackground\":true,\"ticks\":\"\",\"zerolinecolor\":\"white\",\"gridwidth\":2},\"zaxis\":{\"backgroundcolor\":\"#E5ECF6\",\"gridcolor\":\"white\",\"linecolor\":\"white\",\"showbackground\":true,\"ticks\":\"\",\"zerolinecolor\":\"white\",\"gridwidth\":2}},\"shapedefaults\":{\"line\":{\"color\":\"#2a3f5f\"}},\"annotationdefaults\":{\"arrowcolor\":\"#2a3f5f\",\"arrowhead\":0,\"arrowwidth\":1},\"geo\":{\"bgcolor\":\"white\",\"landcolor\":\"#E5ECF6\",\"subunitcolor\":\"white\",\"showland\":true,\"showlakes\":true,\"lakecolor\":\"white\"},\"title\":{\"x\":0.05},\"mapbox\":{\"style\":\"light\"}}},\"xaxis\":{\"anchor\":\"y\",\"domain\":[0.0,1.0],\"title\":{\"text\":\"Unit Price\"}},\"yaxis\":{\"anchor\":\"x\",\"domain\":[0.0,1.0],\"title\":{\"text\":\"Profit\"}},\"coloraxis\":{\"colorbar\":{\"title\":{\"text\":\"Size\"}},\"colorscale\":[[0.0,\"#ff0000\"],[0.1111111111111111,\"#ffa700\"],[0.2222222222222222,\"#afff00\"],[0.3333333333333333,\"#08ff00\"],[0.4444444444444444,\"#00ff9f\"],[0.5555555555555556,\"#00b7ff\"],[0.6666666666666666,\"#0010ff\"],[0.7777777777777778,\"#9700ff\"],[0.8888888888888888,\"#ff00bf\"],[1.0,\"#ff0000\"]]},\"legend\":{\"tracegroupgap\":0},\"margin\":{\"t\":60}},                        {\"responsive\": true}                    ).then(function(){\n",
       "                            \n",
       "var gd = document.getElementById('c41033b5-07e4-4b43-8eb9-e6fa597e8025');\n",
       "var x = new MutationObserver(function (mutations, observer) {{\n",
       "        var display = window.getComputedStyle(gd).display;\n",
       "        if (!display || display === 'none') {{\n",
       "            console.log([gd, 'removed!']);\n",
       "            Plotly.purge(gd);\n",
       "            observer.disconnect();\n",
       "        }}\n",
       "}});\n",
       "\n",
       "// Listen for the removal of the full notebook cells\n",
       "var notebookContainer = gd.closest('#notebook-container');\n",
       "if (notebookContainer) {{\n",
       "    x.observe(notebookContainer, {childList: true});\n",
       "}}\n",
       "\n",
       "// Listen for the clearing of the current output cell\n",
       "var outputEl = gd.closest('.output');\n",
       "if (outputEl) {{\n",
       "    x.observe(outputEl, {childList: true});\n",
       "}}\n",
       "\n",
       "                        })                };                });            </script>        </div>"
      ]
     },
     "metadata": {},
     "output_type": "display_data"
    }
   ],
   "source": [
    "scatter(data_frame=product_df, x='Unit Price', y='Profit', color='Size', hover_name='Product ID', color_continuous_scale='hsv',\n",
    "       hover_data=['Coffee Type', 'Roast Type'], )"
   ]
  },
  {
   "cell_type": "code",
   "execution_count": 5,
   "id": "71e61e65",
   "metadata": {
    "execution": {
     "iopub.execute_input": "2023-10-23T19:06:12.674892Z",
     "iopub.status.busy": "2023-10-23T19:06:12.674156Z",
     "iopub.status.idle": "2023-10-23T19:06:12.769202Z",
     "shell.execute_reply": "2023-10-23T19:06:12.768025Z"
    },
    "papermill": {
     "duration": 0.1021,
     "end_time": "2023-10-23T19:06:12.771502",
     "exception": false,
     "start_time": "2023-10-23T19:06:12.669402",
     "status": "completed"
    },
    "tags": []
   },
   "outputs": [
    {
     "data": {
      "text/html": [
       "<div>                            <div id=\"224b8aae-e100-4fe9-8f18-f7d1e184de7e\" class=\"plotly-graph-div\" style=\"height:525px; width:100%;\"></div>            <script type=\"text/javascript\">                require([\"plotly\"], function(Plotly) {                    window.PLOTLYENV=window.PLOTLYENV || {};                                    if (document.getElementById(\"224b8aae-e100-4fe9-8f18-f7d1e184de7e\")) {                    Plotly.newPlot(                        \"224b8aae-e100-4fe9-8f18-f7d1e184de7e\",                        [{\"alignmentgroup\":\"True\",\"bingroup\":\"x\",\"hovertemplate\":\"Size=0.2\\u003cbr\\u003eProfit=%{x}\\u003cbr\\u003ecount=%{y}\\u003cextra\\u003e\\u003c\\u002fextra\\u003e\",\"legendgroup\":\"0.2\",\"marker\":{\"color\":\"#636efa\",\"pattern\":{\"shape\":\"\"}},\"name\":\"0.2\",\"offsetgroup\":\"0.2\",\"orientation\":\"v\",\"showlegend\":true,\"x\":[0.34964999999999996,0.30374999999999996,0.26865,0.21509999999999996,0.17909999999999998,0.16109999999999997,0.61815,0.56745,0.50505,0.49005,0.45375,0.40095000000000003],\"xaxis\":\"x\",\"yaxis\":\"y\",\"type\":\"histogram\"},{\"alignmentgroup\":\"True\",\"bingroup\":\"x\",\"hovertemplate\":\"Size=0.5\\u003cbr\\u003eProfit=%{x}\\u003cbr\\u003ecount=%{y}\\u003cextra\\u003e\\u003c\\u002fextra\\u003e\",\"legendgroup\":\"0.5\",\"marker\":{\"color\":\"#EF553B\",\"pattern\":{\"shape\":\"\"}},\"name\":\"0.5\",\"offsetgroup\":\"0.5\",\"orientation\":\"v\",\"showlegend\":true,\"x\":[0.6992999999999999,0.6074999999999999,0.5373,0.4301999999999999,0.35819999999999996,0.32219999999999993,1.2363,1.1349,1.0101,0.9801,0.9075,0.8019000000000001],\"xaxis\":\"x\",\"yaxis\":\"y\",\"type\":\"histogram\"},{\"alignmentgroup\":\"True\",\"bingroup\":\"x\",\"hovertemplate\":\"Size=1.0\\u003cbr\\u003eProfit=%{x}\\u003cbr\\u003ecount=%{y}\\u003cextra\\u003e\\u003c\\u002fextra\\u003e\",\"legendgroup\":\"1.0\",\"marker\":{\"color\":\"#00cc96\",\"pattern\":{\"shape\":\"\"}},\"name\":\"1.0\",\"offsetgroup\":\"1.0\",\"orientation\":\"v\",\"showlegend\":true,\"x\":[1.1655,1.0125,0.8954999999999999,0.717,0.597,0.5369999999999999,2.0605,1.8915000000000002,1.6835,1.6335,1.5125,1.3365],\"xaxis\":\"x\",\"yaxis\":\"y\",\"type\":\"histogram\"},{\"alignmentgroup\":\"True\",\"bingroup\":\"x\",\"hovertemplate\":\"Size=2.5\\u003cbr\\u003eProfit=%{x}\\u003cbr\\u003ecount=%{y}\\u003cextra\\u003e\\u003c\\u002fextra\\u003e\",\"legendgroup\":\"2.5\",\"marker\":{\"color\":\"#ab63fa\",\"pattern\":{\"shape\":\"\"}},\"name\":\"2.5\",\"offsetgroup\":\"2.5\",\"orientation\":\"v\",\"showlegend\":true,\"x\":[2.6806499999999995,2.3287499999999994,2.0596499999999995,1.6490999999999998,1.3730999999999998,1.2350999999999999,4.7391499999999995,4.3504499999999995,3.8720499999999998,3.7570499999999996,3.47875,3.07395],\"xaxis\":\"x\",\"yaxis\":\"y\",\"type\":\"histogram\"}],                        {\"template\":{\"data\":{\"histogram2dcontour\":[{\"type\":\"histogram2dcontour\",\"colorbar\":{\"outlinewidth\":0,\"ticks\":\"\"},\"colorscale\":[[0.0,\"#0d0887\"],[0.1111111111111111,\"#46039f\"],[0.2222222222222222,\"#7201a8\"],[0.3333333333333333,\"#9c179e\"],[0.4444444444444444,\"#bd3786\"],[0.5555555555555556,\"#d8576b\"],[0.6666666666666666,\"#ed7953\"],[0.7777777777777778,\"#fb9f3a\"],[0.8888888888888888,\"#fdca26\"],[1.0,\"#f0f921\"]]}],\"choropleth\":[{\"type\":\"choropleth\",\"colorbar\":{\"outlinewidth\":0,\"ticks\":\"\"}}],\"histogram2d\":[{\"type\":\"histogram2d\",\"colorbar\":{\"outlinewidth\":0,\"ticks\":\"\"},\"colorscale\":[[0.0,\"#0d0887\"],[0.1111111111111111,\"#46039f\"],[0.2222222222222222,\"#7201a8\"],[0.3333333333333333,\"#9c179e\"],[0.4444444444444444,\"#bd3786\"],[0.5555555555555556,\"#d8576b\"],[0.6666666666666666,\"#ed7953\"],[0.7777777777777778,\"#fb9f3a\"],[0.8888888888888888,\"#fdca26\"],[1.0,\"#f0f921\"]]}],\"heatmap\":[{\"type\":\"heatmap\",\"colorbar\":{\"outlinewidth\":0,\"ticks\":\"\"},\"colorscale\":[[0.0,\"#0d0887\"],[0.1111111111111111,\"#46039f\"],[0.2222222222222222,\"#7201a8\"],[0.3333333333333333,\"#9c179e\"],[0.4444444444444444,\"#bd3786\"],[0.5555555555555556,\"#d8576b\"],[0.6666666666666666,\"#ed7953\"],[0.7777777777777778,\"#fb9f3a\"],[0.8888888888888888,\"#fdca26\"],[1.0,\"#f0f921\"]]}],\"heatmapgl\":[{\"type\":\"heatmapgl\",\"colorbar\":{\"outlinewidth\":0,\"ticks\":\"\"},\"colorscale\":[[0.0,\"#0d0887\"],[0.1111111111111111,\"#46039f\"],[0.2222222222222222,\"#7201a8\"],[0.3333333333333333,\"#9c179e\"],[0.4444444444444444,\"#bd3786\"],[0.5555555555555556,\"#d8576b\"],[0.6666666666666666,\"#ed7953\"],[0.7777777777777778,\"#fb9f3a\"],[0.8888888888888888,\"#fdca26\"],[1.0,\"#f0f921\"]]}],\"contourcarpet\":[{\"type\":\"contourcarpet\",\"colorbar\":{\"outlinewidth\":0,\"ticks\":\"\"}}],\"contour\":[{\"type\":\"contour\",\"colorbar\":{\"outlinewidth\":0,\"ticks\":\"\"},\"colorscale\":[[0.0,\"#0d0887\"],[0.1111111111111111,\"#46039f\"],[0.2222222222222222,\"#7201a8\"],[0.3333333333333333,\"#9c179e\"],[0.4444444444444444,\"#bd3786\"],[0.5555555555555556,\"#d8576b\"],[0.6666666666666666,\"#ed7953\"],[0.7777777777777778,\"#fb9f3a\"],[0.8888888888888888,\"#fdca26\"],[1.0,\"#f0f921\"]]}],\"surface\":[{\"type\":\"surface\",\"colorbar\":{\"outlinewidth\":0,\"ticks\":\"\"},\"colorscale\":[[0.0,\"#0d0887\"],[0.1111111111111111,\"#46039f\"],[0.2222222222222222,\"#7201a8\"],[0.3333333333333333,\"#9c179e\"],[0.4444444444444444,\"#bd3786\"],[0.5555555555555556,\"#d8576b\"],[0.6666666666666666,\"#ed7953\"],[0.7777777777777778,\"#fb9f3a\"],[0.8888888888888888,\"#fdca26\"],[1.0,\"#f0f921\"]]}],\"mesh3d\":[{\"type\":\"mesh3d\",\"colorbar\":{\"outlinewidth\":0,\"ticks\":\"\"}}],\"scatter\":[{\"fillpattern\":{\"fillmode\":\"overlay\",\"size\":10,\"solidity\":0.2},\"type\":\"scatter\"}],\"parcoords\":[{\"type\":\"parcoords\",\"line\":{\"colorbar\":{\"outlinewidth\":0,\"ticks\":\"\"}}}],\"scatterpolargl\":[{\"type\":\"scatterpolargl\",\"marker\":{\"colorbar\":{\"outlinewidth\":0,\"ticks\":\"\"}}}],\"bar\":[{\"error_x\":{\"color\":\"#2a3f5f\"},\"error_y\":{\"color\":\"#2a3f5f\"},\"marker\":{\"line\":{\"color\":\"#E5ECF6\",\"width\":0.5},\"pattern\":{\"fillmode\":\"overlay\",\"size\":10,\"solidity\":0.2}},\"type\":\"bar\"}],\"scattergeo\":[{\"type\":\"scattergeo\",\"marker\":{\"colorbar\":{\"outlinewidth\":0,\"ticks\":\"\"}}}],\"scatterpolar\":[{\"type\":\"scatterpolar\",\"marker\":{\"colorbar\":{\"outlinewidth\":0,\"ticks\":\"\"}}}],\"histogram\":[{\"marker\":{\"pattern\":{\"fillmode\":\"overlay\",\"size\":10,\"solidity\":0.2}},\"type\":\"histogram\"}],\"scattergl\":[{\"type\":\"scattergl\",\"marker\":{\"colorbar\":{\"outlinewidth\":0,\"ticks\":\"\"}}}],\"scatter3d\":[{\"type\":\"scatter3d\",\"line\":{\"colorbar\":{\"outlinewidth\":0,\"ticks\":\"\"}},\"marker\":{\"colorbar\":{\"outlinewidth\":0,\"ticks\":\"\"}}}],\"scattermapbox\":[{\"type\":\"scattermapbox\",\"marker\":{\"colorbar\":{\"outlinewidth\":0,\"ticks\":\"\"}}}],\"scatterternary\":[{\"type\":\"scatterternary\",\"marker\":{\"colorbar\":{\"outlinewidth\":0,\"ticks\":\"\"}}}],\"scattercarpet\":[{\"type\":\"scattercarpet\",\"marker\":{\"colorbar\":{\"outlinewidth\":0,\"ticks\":\"\"}}}],\"carpet\":[{\"aaxis\":{\"endlinecolor\":\"#2a3f5f\",\"gridcolor\":\"white\",\"linecolor\":\"white\",\"minorgridcolor\":\"white\",\"startlinecolor\":\"#2a3f5f\"},\"baxis\":{\"endlinecolor\":\"#2a3f5f\",\"gridcolor\":\"white\",\"linecolor\":\"white\",\"minorgridcolor\":\"white\",\"startlinecolor\":\"#2a3f5f\"},\"type\":\"carpet\"}],\"table\":[{\"cells\":{\"fill\":{\"color\":\"#EBF0F8\"},\"line\":{\"color\":\"white\"}},\"header\":{\"fill\":{\"color\":\"#C8D4E3\"},\"line\":{\"color\":\"white\"}},\"type\":\"table\"}],\"barpolar\":[{\"marker\":{\"line\":{\"color\":\"#E5ECF6\",\"width\":0.5},\"pattern\":{\"fillmode\":\"overlay\",\"size\":10,\"solidity\":0.2}},\"type\":\"barpolar\"}],\"pie\":[{\"automargin\":true,\"type\":\"pie\"}]},\"layout\":{\"autotypenumbers\":\"strict\",\"colorway\":[\"#636efa\",\"#EF553B\",\"#00cc96\",\"#ab63fa\",\"#FFA15A\",\"#19d3f3\",\"#FF6692\",\"#B6E880\",\"#FF97FF\",\"#FECB52\"],\"font\":{\"color\":\"#2a3f5f\"},\"hovermode\":\"closest\",\"hoverlabel\":{\"align\":\"left\"},\"paper_bgcolor\":\"white\",\"plot_bgcolor\":\"#E5ECF6\",\"polar\":{\"bgcolor\":\"#E5ECF6\",\"angularaxis\":{\"gridcolor\":\"white\",\"linecolor\":\"white\",\"ticks\":\"\"},\"radialaxis\":{\"gridcolor\":\"white\",\"linecolor\":\"white\",\"ticks\":\"\"}},\"ternary\":{\"bgcolor\":\"#E5ECF6\",\"aaxis\":{\"gridcolor\":\"white\",\"linecolor\":\"white\",\"ticks\":\"\"},\"baxis\":{\"gridcolor\":\"white\",\"linecolor\":\"white\",\"ticks\":\"\"},\"caxis\":{\"gridcolor\":\"white\",\"linecolor\":\"white\",\"ticks\":\"\"}},\"coloraxis\":{\"colorbar\":{\"outlinewidth\":0,\"ticks\":\"\"}},\"colorscale\":{\"sequential\":[[0.0,\"#0d0887\"],[0.1111111111111111,\"#46039f\"],[0.2222222222222222,\"#7201a8\"],[0.3333333333333333,\"#9c179e\"],[0.4444444444444444,\"#bd3786\"],[0.5555555555555556,\"#d8576b\"],[0.6666666666666666,\"#ed7953\"],[0.7777777777777778,\"#fb9f3a\"],[0.8888888888888888,\"#fdca26\"],[1.0,\"#f0f921\"]],\"sequentialminus\":[[0.0,\"#0d0887\"],[0.1111111111111111,\"#46039f\"],[0.2222222222222222,\"#7201a8\"],[0.3333333333333333,\"#9c179e\"],[0.4444444444444444,\"#bd3786\"],[0.5555555555555556,\"#d8576b\"],[0.6666666666666666,\"#ed7953\"],[0.7777777777777778,\"#fb9f3a\"],[0.8888888888888888,\"#fdca26\"],[1.0,\"#f0f921\"]],\"diverging\":[[0,\"#8e0152\"],[0.1,\"#c51b7d\"],[0.2,\"#de77ae\"],[0.3,\"#f1b6da\"],[0.4,\"#fde0ef\"],[0.5,\"#f7f7f7\"],[0.6,\"#e6f5d0\"],[0.7,\"#b8e186\"],[0.8,\"#7fbc41\"],[0.9,\"#4d9221\"],[1,\"#276419\"]]},\"xaxis\":{\"gridcolor\":\"white\",\"linecolor\":\"white\",\"ticks\":\"\",\"title\":{\"standoff\":15},\"zerolinecolor\":\"white\",\"automargin\":true,\"zerolinewidth\":2},\"yaxis\":{\"gridcolor\":\"white\",\"linecolor\":\"white\",\"ticks\":\"\",\"title\":{\"standoff\":15},\"zerolinecolor\":\"white\",\"automargin\":true,\"zerolinewidth\":2},\"scene\":{\"xaxis\":{\"backgroundcolor\":\"#E5ECF6\",\"gridcolor\":\"white\",\"linecolor\":\"white\",\"showbackground\":true,\"ticks\":\"\",\"zerolinecolor\":\"white\",\"gridwidth\":2},\"yaxis\":{\"backgroundcolor\":\"#E5ECF6\",\"gridcolor\":\"white\",\"linecolor\":\"white\",\"showbackground\":true,\"ticks\":\"\",\"zerolinecolor\":\"white\",\"gridwidth\":2},\"zaxis\":{\"backgroundcolor\":\"#E5ECF6\",\"gridcolor\":\"white\",\"linecolor\":\"white\",\"showbackground\":true,\"ticks\":\"\",\"zerolinecolor\":\"white\",\"gridwidth\":2}},\"shapedefaults\":{\"line\":{\"color\":\"#2a3f5f\"}},\"annotationdefaults\":{\"arrowcolor\":\"#2a3f5f\",\"arrowhead\":0,\"arrowwidth\":1},\"geo\":{\"bgcolor\":\"white\",\"landcolor\":\"#E5ECF6\",\"subunitcolor\":\"white\",\"showland\":true,\"showlakes\":true,\"lakecolor\":\"white\"},\"title\":{\"x\":0.05},\"mapbox\":{\"style\":\"light\"}}},\"xaxis\":{\"anchor\":\"y\",\"domain\":[0.0,1.0],\"title\":{\"text\":\"Profit\"}},\"yaxis\":{\"anchor\":\"x\",\"domain\":[0.0,1.0],\"title\":{\"text\":\"count\"}},\"legend\":{\"title\":{\"text\":\"Size\"},\"tracegroupgap\":0},\"margin\":{\"t\":60},\"barmode\":\"relative\"},                        {\"responsive\": true}                    ).then(function(){\n",
       "                            \n",
       "var gd = document.getElementById('224b8aae-e100-4fe9-8f18-f7d1e184de7e');\n",
       "var x = new MutationObserver(function (mutations, observer) {{\n",
       "        var display = window.getComputedStyle(gd).display;\n",
       "        if (!display || display === 'none') {{\n",
       "            console.log([gd, 'removed!']);\n",
       "            Plotly.purge(gd);\n",
       "            observer.disconnect();\n",
       "        }}\n",
       "}});\n",
       "\n",
       "// Listen for the removal of the full notebook cells\n",
       "var notebookContainer = gd.closest('#notebook-container');\n",
       "if (notebookContainer) {{\n",
       "    x.observe(notebookContainer, {childList: true});\n",
       "}}\n",
       "\n",
       "// Listen for the clearing of the current output cell\n",
       "var outputEl = gd.closest('.output');\n",
       "if (outputEl) {{\n",
       "    x.observe(outputEl, {childList: true});\n",
       "}}\n",
       "\n",
       "                        })                };                });            </script>        </div>"
      ]
     },
     "metadata": {},
     "output_type": "display_data"
    }
   ],
   "source": [
    "from plotly.express import histogram\n",
    "histogram(data_frame=product_df, x='Profit', color='Size')"
   ]
  },
  {
   "cell_type": "markdown",
   "id": "410d6f26",
   "metadata": {
    "papermill": {
     "duration": 0.003782,
     "end_time": "2023-10-23T19:06:12.779567",
     "exception": false,
     "start_time": "2023-10-23T19:06:12.775785",
     "status": "completed"
    },
    "tags": []
   },
   "source": [
    "Large sizes drive profits; is that surprising? "
   ]
  },
  {
   "cell_type": "code",
   "execution_count": 6,
   "id": "b947a49c",
   "metadata": {
    "execution": {
     "iopub.execute_input": "2023-10-23T19:06:12.789531Z",
     "iopub.status.busy": "2023-10-23T19:06:12.788595Z",
     "iopub.status.idle": "2023-10-23T19:06:12.999117Z",
     "shell.execute_reply": "2023-10-23T19:06:12.998248Z"
    },
    "papermill": {
     "duration": 0.217459,
     "end_time": "2023-10-23T19:06:13.000920",
     "exception": false,
     "start_time": "2023-10-23T19:06:12.783461",
     "status": "completed"
    },
    "tags": []
   },
   "outputs": [
    {
     "data": {
      "text/html": [
       "<div>\n",
       "<style scoped>\n",
       "    .dataframe tbody tr th:only-of-type {\n",
       "        vertical-align: middle;\n",
       "    }\n",
       "\n",
       "    .dataframe tbody tr th {\n",
       "        vertical-align: top;\n",
       "    }\n",
       "\n",
       "    .dataframe thead th {\n",
       "        text-align: right;\n",
       "    }\n",
       "</style>\n",
       "<table border=\"1\" class=\"dataframe\">\n",
       "  <thead>\n",
       "    <tr style=\"text-align: right;\">\n",
       "      <th></th>\n",
       "      <th>Order ID</th>\n",
       "      <th>Order Date</th>\n",
       "      <th>Customer ID</th>\n",
       "      <th>Product ID</th>\n",
       "      <th>Quantity</th>\n",
       "      <th>Coffee Type</th>\n",
       "      <th>Roast Type</th>\n",
       "      <th>Size</th>\n",
       "      <th>Unit Price</th>\n",
       "      <th>Price per 100g</th>\n",
       "      <th>Profit</th>\n",
       "      <th>total_profit</th>\n",
       "    </tr>\n",
       "  </thead>\n",
       "  <tbody>\n",
       "    <tr>\n",
       "      <th>0</th>\n",
       "      <td>QEV-37451-860</td>\n",
       "      <td>2019-09-05</td>\n",
       "      <td>17670-51384-MA</td>\n",
       "      <td>R-M-1</td>\n",
       "      <td>2</td>\n",
       "      <td>Rob</td>\n",
       "      <td>M</td>\n",
       "      <td>1.0</td>\n",
       "      <td>9.95</td>\n",
       "      <td>0.995</td>\n",
       "      <td>0.597</td>\n",
       "      <td>1.194</td>\n",
       "    </tr>\n",
       "    <tr>\n",
       "      <th>1</th>\n",
       "      <td>SZW-48378-399</td>\n",
       "      <td>2022-07-02</td>\n",
       "      <td>34136-36674-OM</td>\n",
       "      <td>R-M-1</td>\n",
       "      <td>5</td>\n",
       "      <td>Rob</td>\n",
       "      <td>M</td>\n",
       "      <td>1.0</td>\n",
       "      <td>9.95</td>\n",
       "      <td>0.995</td>\n",
       "      <td>0.597</td>\n",
       "      <td>2.985</td>\n",
       "    </tr>\n",
       "    <tr>\n",
       "      <th>2</th>\n",
       "      <td>OFX-99147-470</td>\n",
       "      <td>2021-11-24</td>\n",
       "      <td>49860-68865-AB</td>\n",
       "      <td>R-M-1</td>\n",
       "      <td>6</td>\n",
       "      <td>Rob</td>\n",
       "      <td>M</td>\n",
       "      <td>1.0</td>\n",
       "      <td>9.95</td>\n",
       "      <td>0.995</td>\n",
       "      <td>0.597</td>\n",
       "      <td>3.582</td>\n",
       "    </tr>\n",
       "    <tr>\n",
       "      <th>3</th>\n",
       "      <td>JHW-74554-805</td>\n",
       "      <td>2019-11-26</td>\n",
       "      <td>14103-58987-ZU</td>\n",
       "      <td>R-M-1</td>\n",
       "      <td>6</td>\n",
       "      <td>Rob</td>\n",
       "      <td>M</td>\n",
       "      <td>1.0</td>\n",
       "      <td>9.95</td>\n",
       "      <td>0.995</td>\n",
       "      <td>0.597</td>\n",
       "      <td>3.582</td>\n",
       "    </tr>\n",
       "    <tr>\n",
       "      <th>4</th>\n",
       "      <td>JDS-33440-914</td>\n",
       "      <td>2021-10-28</td>\n",
       "      <td>58511-10548-ZU</td>\n",
       "      <td>R-M-1</td>\n",
       "      <td>3</td>\n",
       "      <td>Rob</td>\n",
       "      <td>M</td>\n",
       "      <td>1.0</td>\n",
       "      <td>9.95</td>\n",
       "      <td>0.995</td>\n",
       "      <td>0.597</td>\n",
       "      <td>1.791</td>\n",
       "    </tr>\n",
       "  </tbody>\n",
       "</table>\n",
       "</div>"
      ],
      "text/plain": [
       "        Order ID Order Date     Customer ID Product ID  Quantity Coffee Type  \\\n",
       "0  QEV-37451-860 2019-09-05  17670-51384-MA      R-M-1         2         Rob   \n",
       "1  SZW-48378-399 2022-07-02  34136-36674-OM      R-M-1         5         Rob   \n",
       "2  OFX-99147-470 2021-11-24  49860-68865-AB      R-M-1         6         Rob   \n",
       "3  JHW-74554-805 2019-11-26  14103-58987-ZU      R-M-1         6         Rob   \n",
       "4  JDS-33440-914 2021-10-28  58511-10548-ZU      R-M-1         3         Rob   \n",
       "\n",
       "  Roast Type  Size  Unit Price  Price per 100g  Profit  total_profit  \n",
       "0          M   1.0        9.95           0.995   0.597         1.194  \n",
       "1          M   1.0        9.95           0.995   0.597         2.985  \n",
       "2          M   1.0        9.95           0.995   0.597         3.582  \n",
       "3          M   1.0        9.95           0.995   0.597         3.582  \n",
       "4          M   1.0        9.95           0.995   0.597         1.791  "
      ]
     },
     "execution_count": 6,
     "metadata": {},
     "output_type": "execute_result"
    }
   ],
   "source": [
    "order_df = pd.read_excel(io=workbook, sheet_name='orders', usecols=['Order ID', 'Order Date', 'Customer ID', 'Product ID', 'Quantity'],\n",
    "                  parse_dates=['Order Date'])\n",
    "df = order_df.merge(right=product_df, on='Product ID', how='inner')\n",
    "df['total_profit'] = df['Quantity'] * df['Profit']\n",
    "df.head()"
   ]
  },
  {
   "cell_type": "code",
   "execution_count": 7,
   "id": "ae0803be",
   "metadata": {
    "execution": {
     "iopub.execute_input": "2023-10-23T19:06:13.010942Z",
     "iopub.status.busy": "2023-10-23T19:06:13.010107Z",
     "iopub.status.idle": "2023-10-23T19:06:13.022679Z",
     "shell.execute_reply": "2023-10-23T19:06:13.021594Z"
    },
    "papermill": {
     "duration": 0.019999,
     "end_time": "2023-10-23T19:06:13.025164",
     "exception": false,
     "start_time": "2023-10-23T19:06:13.005165",
     "status": "completed"
    },
    "tags": []
   },
   "outputs": [
    {
     "name": "stdout",
     "output_type": "stream",
     "text": [
      "<class 'pandas.core.frame.DataFrame'>\n",
      "RangeIndex: 1000 entries, 0 to 999\n",
      "Data columns (total 12 columns):\n",
      " #   Column          Non-Null Count  Dtype         \n",
      "---  ------          --------------  -----         \n",
      " 0   Order ID        1000 non-null   object        \n",
      " 1   Order Date      1000 non-null   datetime64[ns]\n",
      " 2   Customer ID     1000 non-null   object        \n",
      " 3   Product ID      1000 non-null   object        \n",
      " 4   Quantity        1000 non-null   int64         \n",
      " 5   Coffee Type     1000 non-null   object        \n",
      " 6   Roast Type      1000 non-null   object        \n",
      " 7   Size            1000 non-null   float64       \n",
      " 8   Unit Price      1000 non-null   float64       \n",
      " 9   Price per 100g  1000 non-null   float64       \n",
      " 10  Profit          1000 non-null   float64       \n",
      " 11  total_profit    1000 non-null   float64       \n",
      "dtypes: datetime64[ns](1), float64(5), int64(1), object(5)\n",
      "memory usage: 93.9+ KB\n"
     ]
    }
   ],
   "source": [
    "df.info()"
   ]
  },
  {
   "cell_type": "code",
   "execution_count": 8,
   "id": "e8b03c78",
   "metadata": {
    "execution": {
     "iopub.execute_input": "2023-10-23T19:06:13.035770Z",
     "iopub.status.busy": "2023-10-23T19:06:13.035474Z",
     "iopub.status.idle": "2023-10-23T19:06:13.044957Z",
     "shell.execute_reply": "2023-10-23T19:06:13.044026Z"
    },
    "papermill": {
     "duration": 0.016729,
     "end_time": "2023-10-23T19:06:13.046569",
     "exception": false,
     "start_time": "2023-10-23T19:06:13.029840",
     "status": "completed"
    },
    "tags": []
   },
   "outputs": [
    {
     "data": {
      "text/plain": [
       "Order ID          957\n",
       "Order Date        689\n",
       "Customer ID       913\n",
       "Product ID         48\n",
       "Quantity            6\n",
       "Coffee Type         4\n",
       "Roast Type          3\n",
       "Size                4\n",
       "Unit Price         40\n",
       "Price per 100g     40\n",
       "Profit             48\n",
       "total_profit      236\n",
       "dtype: int64"
      ]
     },
     "execution_count": 8,
     "metadata": {},
     "output_type": "execute_result"
    }
   ],
   "source": [
    "df.nunique()"
   ]
  },
  {
   "cell_type": "code",
   "execution_count": 9,
   "id": "bb87c4de",
   "metadata": {
    "execution": {
     "iopub.execute_input": "2023-10-23T19:06:13.057400Z",
     "iopub.status.busy": "2023-10-23T19:06:13.056480Z",
     "iopub.status.idle": "2023-10-23T19:06:13.182843Z",
     "shell.execute_reply": "2023-10-23T19:06:13.181827Z"
    },
    "papermill": {
     "duration": 0.133815,
     "end_time": "2023-10-23T19:06:13.184844",
     "exception": false,
     "start_time": "2023-10-23T19:06:13.051029",
     "status": "completed"
    },
    "tags": []
   },
   "outputs": [
    {
     "data": {
      "text/html": [
       "<div>\n",
       "<style scoped>\n",
       "    .dataframe tbody tr th:only-of-type {\n",
       "        vertical-align: middle;\n",
       "    }\n",
       "\n",
       "    .dataframe tbody tr th {\n",
       "        vertical-align: top;\n",
       "    }\n",
       "\n",
       "    .dataframe thead th {\n",
       "        text-align: right;\n",
       "    }\n",
       "</style>\n",
       "<table border=\"1\" class=\"dataframe\">\n",
       "  <thead>\n",
       "    <tr style=\"text-align: right;\">\n",
       "      <th></th>\n",
       "      <th>Customer ID</th>\n",
       "      <th>Country</th>\n",
       "      <th>Loyalty Card</th>\n",
       "    </tr>\n",
       "  </thead>\n",
       "  <tbody>\n",
       "    <tr>\n",
       "      <th>0</th>\n",
       "      <td>17670-51384-MA</td>\n",
       "      <td>United States</td>\n",
       "      <td>Yes</td>\n",
       "    </tr>\n",
       "    <tr>\n",
       "      <th>1</th>\n",
       "      <td>73342-18763-UW</td>\n",
       "      <td>Ireland</td>\n",
       "      <td>No</td>\n",
       "    </tr>\n",
       "    <tr>\n",
       "      <th>2</th>\n",
       "      <td>21125-22134-PX</td>\n",
       "      <td>United States</td>\n",
       "      <td>Yes</td>\n",
       "    </tr>\n",
       "    <tr>\n",
       "      <th>3</th>\n",
       "      <td>71253-00052-RN</td>\n",
       "      <td>United States</td>\n",
       "      <td>Yes</td>\n",
       "    </tr>\n",
       "    <tr>\n",
       "      <th>4</th>\n",
       "      <td>23806-46781-OU</td>\n",
       "      <td>Ireland</td>\n",
       "      <td>No</td>\n",
       "    </tr>\n",
       "  </tbody>\n",
       "</table>\n",
       "</div>"
      ],
      "text/plain": [
       "      Customer ID        Country Loyalty Card\n",
       "0  17670-51384-MA  United States          Yes\n",
       "1  73342-18763-UW        Ireland           No\n",
       "2  21125-22134-PX  United States          Yes\n",
       "3  71253-00052-RN  United States          Yes\n",
       "4  23806-46781-OU        Ireland           No"
      ]
     },
     "execution_count": 9,
     "metadata": {},
     "output_type": "execute_result"
    }
   ],
   "source": [
    "customer_df = pd.read_excel(io=workbook, sheet_name='customers', usecols=['Customer ID', 'Country', 'Loyalty Card'])\n",
    "customer_df.head()"
   ]
  },
  {
   "cell_type": "code",
   "execution_count": 10,
   "id": "9a7632d1",
   "metadata": {
    "execution": {
     "iopub.execute_input": "2023-10-23T19:06:13.195665Z",
     "iopub.status.busy": "2023-10-23T19:06:13.195278Z",
     "iopub.status.idle": "2023-10-23T19:06:13.315296Z",
     "shell.execute_reply": "2023-10-23T19:06:13.314310Z"
    },
    "papermill": {
     "duration": 0.127978,
     "end_time": "2023-10-23T19:06:13.317479",
     "exception": false,
     "start_time": "2023-10-23T19:06:13.189501",
     "status": "completed"
    },
    "tags": []
   },
   "outputs": [
    {
     "data": {
      "text/html": [
       "<div>                            <div id=\"6ff3f5d5-f939-4b44-9a34-747f9a12a784\" class=\"plotly-graph-div\" style=\"height:525px; width:100%;\"></div>            <script type=\"text/javascript\">                require([\"plotly\"], function(Plotly) {                    window.PLOTLYENV=window.PLOTLYENV || {};                                    if (document.getElementById(\"6ff3f5d5-f939-4b44-9a34-747f9a12a784\")) {                    Plotly.newPlot(                        \"6ff3f5d5-f939-4b44-9a34-747f9a12a784\",                        [{\"alignmentgroup\":\"True\",\"bingroup\":\"x\",\"hovertemplate\":\"Country=United States\\u003cbr\\u003etotal_profit=%{x}\\u003cbr\\u003ecount=%{y}\\u003cextra\\u003e\\u003c\\u002fextra\\u003e\",\"legendgroup\":\"United States\",\"marker\":{\"color\":\"#636efa\",\"pattern\":{\"shape\":\"\"}},\"name\":\"United States\",\"offsetgroup\":\"United States\",\"orientation\":\"v\",\"showlegend\":true,\"x\":[34.723549999999996,31.59935,29.45085,28.67375,28.4349,26.1027,25.972499999999997,23.695749999999997,23.2323,23.2323,23.2323,22.542299999999997,22.542299999999997,22.542299999999997,22.542299999999997,22.542299999999997,21.22215,20.8725,20.040999999999997,19.36025,18.956599999999998,18.956599999999998,18.956599999999998,18.956599999999998,18.785249999999998,18.4437,18.4437,17.401799999999998,17.401799999999998,17.401799999999998,17.401799999999998,17.393749999999997,16.083899999999996,16.083899999999996,16.083899999999996,16.083899999999996,15.8727,15.488199999999999,15.488199999999999,15.488199999999999,15.488199999999999,15.36975,15.36975,15.36975,15.028199999999998,15.028199999999998,14.21745,13.972499999999997,13.972499999999997,13.972499999999997,13.972499999999997,13.972499999999997,13.972499999999997,13.972499999999997,13.915,13.915,13.4469,13.403249999999998,13.403249999999998,13.403249999999998,13.403249999999998,13.403249999999998,13.403249999999998,13.184849999999997,13.05135,12.87045,12.363000000000001,12.363000000000001,12.357899999999997,12.2958,12.2958,12.2958,11.643749999999997,11.61615,11.61615,11.533349999999997,11.349,11.349,11.349,11.271149999999999,10.968,10.722599999999998,10.43625,10.43625,10.302500000000002,10.302500000000002,10.302500000000002,10.302500000000002,10.298249999999998,10.298249999999998,10.298249999999998,10.298249999999998,10.298249999999998,10.15065,10.100999999999999,10.100999999999999,10.100999999999999,9.801,9.801,9.801,9.478299999999999,9.478299999999999,9.478299999999999,9.478299999999999,9.457500000000001,9.314999999999998,9.314999999999998,9.314999999999998,9.314999999999998,9.22185,9.2121,9.116549999999998,9.075,9.075,9.075,9.075,9.0291,8.700899999999999,8.700899999999999,8.6995,8.525,8.522699999999999,8.3659,8.24595,8.2455,8.2455,8.242,8.242,8.238599999999998,8.238599999999998,8.238599999999998,8.238599999999998,8.1675,8.1675,8.1675,8.041949999999998,8.041949999999998,8.019,8.019,7.7440999999999995,7.566000000000001,7.566000000000001,7.566000000000001,7.5625,7.5625,7.5625,7.514099999999999,7.514099999999999,7.4178,7.4178,7.4178,7.410599999999999,7.410599999999999,7.0107,6.993,6.993,6.993,6.993,6.993,6.993,6.986249999999998,6.986249999999998,6.986249999999998,6.986249999999998,6.986249999999998,6.9575,6.9575,6.9575,6.9575,6.9575,6.9575,6.9575,6.9575,6.865499999999999,6.865499999999999,6.865499999999999,6.734,6.734,6.6825,6.596399999999999,6.596399999999999,6.596399999999999,6.534,6.534,6.534,6.534,6.534,6.181500000000001,6.181500000000001,6.181500000000001,6.1815,6.1815,6.178949999999999,6.178949999999999,6.178949999999999,6.1754999999999995,6.1479,6.074999999999999,6.074999999999999,6.074999999999999,6.074999999999999,6.0606,6.0606,6.05,6.05,5.880599999999999,5.880599999999999,5.880599999999999,5.880599999999999,5.880599999999999,5.880599999999999,5.7315,5.6745,5.6745,5.6745,5.6745,5.6745,5.6745,5.6745,5.6745,5.54655,5.492399999999999,5.492399999999999,5.361299999999999,5.361299999999999,5.346,5.13675,5.0625,5.0625,5.0625,5.0504999999999995,5.0504999999999995,5.0504999999999995,4.9806,4.947299999999999,4.9452,4.9452,4.9452,4.9452,4.9403999999999995,4.9403999999999995,4.9403999999999995,4.9403999999999995,4.9005,4.9005,4.9005,4.9005,4.9005,4.811400000000001,4.7391499999999995,4.7391499999999995,4.7391499999999995,4.7391499999999995,4.728899999999999,4.657499999999999,4.657499999999999,4.657499999999999,4.657499999999999,4.657499999999999,4.657499999999999,4.657499999999999,4.5396,4.5375,4.5375,4.5375,4.5375,4.5375,4.5375,4.5375,4.5375,4.477499999999999,4.477499999999999,4.3504499999999995,4.3504499999999995,4.3504499999999995,4.3504499999999995,4.3303,4.302,4.195799999999999,4.195799999999999,4.121,4.121,4.119299999999999,4.119299999999999,4.119299999999999,4.05,4.05,4.05,4.0404,4.0404,4.0095,4.0095,4.0095,4.0095,4.0095,4.0095,3.9204,3.9204,3.9204,3.8720499999999998,3.8720499999999998,3.7830000000000004,3.7570499999999996,3.7570499999999996,3.7089,3.7089,3.7089,3.7089,3.7089,3.6449999999999996,3.6449999999999996,3.6449999999999996,3.6449999999999996,3.63,3.585,3.585,3.585,3.585,3.585,3.585,3.585,3.582,3.582,3.582,3.582,3.5819999999999994,3.5623,3.4965,3.4965,3.4965,3.4965,3.4964999999999997,3.4964999999999997,3.4964999999999997,3.47875,3.4047,3.4047,3.4047,3.4047,3.4047,3.4047,3.3723,3.2981999999999996,3.2237999999999998,3.2237999999999998,3.2219999999999995,3.2076000000000002,3.12255,3.09075,3.09075,3.09075,3.09075,3.09075,3.09075,3.07395,3.07395,3.0691499999999996,3.0374999999999996,3.0374999999999996,3.0374999999999996,3.0374999999999996,3.0374999999999996,3.0374999999999996,3.0303,3.0303,3.0303,3.0303,3.0303,3.0303,3.025,3.025,2.985,2.9402999999999997,2.9402999999999997,2.9402999999999997,2.8930499999999997,2.868,2.868,2.868,2.868,2.868,2.83725,2.83725,2.8284,2.7971999999999997,2.7971999999999997,2.7461999999999995,2.7461999999999995,2.7461999999999995,2.7225,2.7225,2.7053999999999996,2.6865,2.6865,2.6865,2.6864999999999997,2.6849999999999996,2.6849999999999996,2.6849999999999996,2.6806499999999995,2.6806499999999995,2.6806499999999995,2.673,2.673,2.673,2.65575,2.6054999999999997,2.5252499999999998,2.4726,2.4726,2.4726,2.4701999999999997,2.4701999999999997,2.4701999999999997,2.4701999999999997,2.45025,2.45025,2.4299999999999997,2.4299999999999997,2.4299999999999997,2.4299999999999997,2.4299999999999997,2.4057000000000004,2.4057000000000004,2.4057000000000004,2.4057000000000004,2.4057000000000004,2.4057000000000004,2.4057000000000004,2.4057000000000004,2.4057000000000004,2.388,2.331,2.331,2.331,2.331,2.3287499999999994,2.3287499999999994,2.2698,2.2698,2.2698,2.2698,2.26875,2.26875,2.151,2.151,2.151,2.151,2.151,2.151,2.151,2.151,2.1492,2.1492,2.1492,2.1492,2.1491999999999996,2.1491999999999996,2.1491999999999996,2.1479999999999997,2.0978999999999997,2.0978999999999997,2.0978999999999997,2.0978999999999997,2.0978999999999997,2.0978999999999997,2.0978999999999997,2.0596499999999995,2.0596499999999995,2.025,2.025,2.025,2.025,2.0202,2.0202,2.0202,2.0202,2.0202,2.0202,2.0202,2.00475,2.00475,1.9602,1.9602,1.9602,1.9602,1.9331999999999996,1.9331999999999996,1.9331999999999996,1.8224999999999998,1.8224999999999998,1.8224999999999998,1.8224999999999998,1.8224999999999998,1.815,1.815,1.815,1.791,1.791,1.7909999999999997,1.7207999999999997,1.7207999999999997,1.70235,1.70235,1.6835,1.6835,1.6835,1.6835,1.6490999999999998,1.6490999999999998,1.6490999999999998,1.6118999999999999,1.6118999999999999,1.6118999999999999,1.6118999999999999,1.6118999999999999,1.6118999999999999,1.6118999999999999,1.6118999999999999,1.6109999999999998,1.6109999999999998,1.6109999999999998,1.6109999999999998,1.6109999999999998,1.6038000000000001,1.6038000000000001,1.6038000000000001,1.6038000000000001,1.5408,1.5187499999999998,1.51515,1.51515,1.5125,1.4701499999999998,1.4701499999999998,1.4701499999999998,1.434,1.4327999999999999,1.4327999999999999,1.3985999999999998,1.3985999999999998,1.3985999999999998,1.3730999999999998,1.36125,1.36125,1.34325,1.3365,1.3365,1.3238999999999999,1.2905999999999997,1.2905999999999997,1.2905999999999997,1.2905999999999997,1.2905999999999997,1.2905999999999997,1.2887999999999997,1.2887999999999997,1.2363,1.2363,1.2363,1.2363,1.2363,1.2350999999999999,1.2350999999999999,1.2149999999999999,1.2149999999999999,1.2149999999999999,1.2149999999999999,1.2149999999999999,1.2149999999999999,1.2028500000000002,1.2028500000000002,1.2028500000000002,1.194,1.1655,1.1349,1.1349,1.1349,1.1349,1.1349,1.1349,1.1349,1.1349,1.1349,1.0755,1.0755,1.0746,1.0746,1.0746,1.0746,1.0746,1.0745999999999998,1.0745999999999998,1.0745999999999998,1.0745999999999998,1.0745999999999998,1.0745999999999998,1.0745999999999998,1.0739999999999998,1.0125,1.0125,1.0125,1.0101,1.0101,1.0101,1.0101,1.0101,1.0101,1.0101,0.9801,0.9801,0.9801,0.9801,0.9801,0.9665999999999998,0.9665999999999998,0.9075,0.9075,0.9075,0.9075,0.9075,0.8955,0.8954999999999999,0.8954999999999999,0.8954999999999999,0.8954999999999999,0.8603999999999998,0.8603999999999998,0.8603999999999998,0.8603999999999998,0.8603999999999998,0.8603999999999998,0.8059499999999999,0.8059499999999999,0.8054999999999999,0.8054999999999999,0.8054999999999999,0.8054999999999999,0.8019000000000001,0.8019000000000001,0.8019000000000001,0.8019000000000001,0.8019000000000001,0.7163999999999999,0.7163999999999999,0.7163999999999999,0.6992999999999999,0.6992999999999999,0.6992999999999999,0.6992999999999999,0.6992999999999999,0.6992999999999999,0.6452999999999999,0.6452999999999999,0.6443999999999999,0.6443999999999999,0.6443999999999999,0.61815,0.61815,0.6074999999999999,0.6074999999999999,0.6074999999999999,0.6074999999999999,0.6074999999999999,0.6074999999999999,0.6074999999999999,0.6074999999999999,0.597,0.56745,0.5373,0.5373,0.5373,0.5373,0.5373,0.5373,0.5372999999999999,0.5372999999999999,0.5372999999999999,0.5369999999999999,0.50505,0.49005,0.4832999999999999,0.4832999999999999,0.4832999999999999,0.4832999999999999,0.4832999999999999,0.4832999999999999,0.45375,0.4301999999999999,0.4301999999999999,0.40095000000000003,0.35819999999999996,0.35819999999999996,0.35819999999999996,0.35819999999999996,0.35819999999999996,0.35819999999999996,0.35819999999999996,0.32219999999999993,0.32219999999999993,0.32219999999999993,0.32219999999999993,0.32219999999999993,0.26865,0.21509999999999996,0.21509999999999996,0.21509999999999996,0.17909999999999998,0.17909999999999998,0.17909999999999998,0.16109999999999997,0.16109999999999997],\"xaxis\":\"x\",\"yaxis\":\"y\",\"type\":\"histogram\"},{\"alignmentgroup\":\"True\",\"bingroup\":\"x\",\"hovertemplate\":\"Country=Ireland\\u003cbr\\u003etotal_profit=%{x}\\u003cbr\\u003ecount=%{y}\\u003cextra\\u003e\\u003c\\u002fextra\\u003e\",\"legendgroup\":\"Ireland\",\"marker\":{\"color\":\"#EF553B\",\"pattern\":{\"shape\":\"\"}},\"name\":\"Ireland\",\"offsetgroup\":\"Ireland\",\"orientation\":\"v\",\"showlegend\":true,\"x\":[29.307299999999998,23.695749999999997,22.542299999999997,19.36025,18.956599999999998,15.488199999999999,15.488199999999999,15.028199999999998,14.21745,13.763399999999999,13.42485,13.403249999999998,13.05135,11.61615,11.271149999999999,11.15965,10.100999999999999,9.894599999999999,9.8703,9.22185,9.22185,9.075,8.700899999999999,8.242,8.041949999999998,8.019,8.019,7.410599999999999,6.986249999999998,6.9575,6.8094,6.596399999999999,6.596399999999999,6.3232,6.181500000000001,6.181500000000001,6.0606,5.8275,5.6745,5.445,5.372999999999999,5.0625,5.0504999999999995,4.9452,4.9403999999999995,4.9403999999999995,4.9403999999999995,4.662,4.5396,4.50765,4.302,4.121,4.119299999999999,4.0095,3.9204,3.8720499999999998,3.8720499999999998,3.7052999999999994,3.6449999999999996,3.585,3.5819999999999994,3.5819999999999994,3.5819999999999994,3.47875,3.47875,3.47875,3.4047,3.367,3.367,3.2219999999999995,3.2076000000000002,3.2076000000000002,3.09075,3.0374999999999996,3.0303,3.0303,3.025,2.9402999999999997,2.7461999999999995,2.7461999999999995,2.7225,2.6865,2.6806499999999995,2.4726,2.45025,2.4057000000000004,2.0978999999999997,2.0596499999999995,2.025,1.8915000000000002,1.8224999999999998,1.8224999999999998,1.815,1.791,1.7207999999999997,1.6335,1.6118999999999999,1.6118999999999999,1.6118999999999999,1.6118999999999999,1.6118999999999999,1.6038000000000001,1.6038000000000001,1.5187499999999998,1.3985999999999998,1.2905999999999997,1.2905999999999997,1.2905999999999997,1.2363,1.2363,1.2363,1.2149999999999999,1.194,1.1349,1.0739999999999998,1.0125,0.9665999999999998,0.9665999999999998,0.9075,0.8955,0.8603999999999998,0.8603999999999998,0.8059499999999999,0.8059499999999999,0.8019000000000001,0.8019000000000001,0.6452999999999999,0.61815,0.5369999999999999,0.4832999999999999,0.4832999999999999,0.4301999999999999,0.40095000000000003,0.32219999999999993,0.26865,0.26865,0.21509999999999996,0.16109999999999997],\"xaxis\":\"x\",\"yaxis\":\"y\",\"type\":\"histogram\"},{\"alignmentgroup\":\"True\",\"bingroup\":\"x\",\"hovertemplate\":\"Country=United Kingdom\\u003cbr\\u003etotal_profit=%{x}\\u003cbr\\u003ecount=%{y}\\u003cextra\\u003e\\u003c\\u002fextra\\u003e\",\"legendgroup\":\"United Kingdom\",\"marker\":{\"color\":\"#00cc96\",\"pattern\":{\"shape\":\"\"}},\"name\":\"United Kingdom\",\"offsetgroup\":\"United Kingdom\",\"orientation\":\"v\",\"showlegend\":true,\"x\":[28.9989,20.897399999999998,18.4437,15.488199999999999,13.915,12.363000000000001,11.2693,11.11985,9.22185,8.238599999999998,7.514099999999999,7.4178,6.8094,5.6745,5.0504999999999995,4.9005,4.5375,4.05,3.9204,3.9204,3.7089,3.7089,3.582,3.2981999999999996,3.267,3.09075,3.0374999999999996,3.0132000000000003,2.83725,2.6865,2.673,2.673,2.5811999999999995,2.4701999999999997,2.26875,2.1491999999999996,2.0605,2.0202,1.9602,1.815,1.791,1.791,1.7207999999999997,1.6490999999999998,1.6335,1.6109999999999998,1.434,1.434,1.36125,1.3365,1.2905999999999997,1.2363,1.1349,1.0101,0.9665999999999998,0.9075,0.6992999999999999,0.6452999999999999,0.6443999999999999,0.6074999999999999,0.56745,0.35819999999999996,0.32219999999999993],\"xaxis\":\"x\",\"yaxis\":\"y\",\"type\":\"histogram\"}],                        {\"template\":{\"data\":{\"histogram2dcontour\":[{\"type\":\"histogram2dcontour\",\"colorbar\":{\"outlinewidth\":0,\"ticks\":\"\"},\"colorscale\":[[0.0,\"#0d0887\"],[0.1111111111111111,\"#46039f\"],[0.2222222222222222,\"#7201a8\"],[0.3333333333333333,\"#9c179e\"],[0.4444444444444444,\"#bd3786\"],[0.5555555555555556,\"#d8576b\"],[0.6666666666666666,\"#ed7953\"],[0.7777777777777778,\"#fb9f3a\"],[0.8888888888888888,\"#fdca26\"],[1.0,\"#f0f921\"]]}],\"choropleth\":[{\"type\":\"choropleth\",\"colorbar\":{\"outlinewidth\":0,\"ticks\":\"\"}}],\"histogram2d\":[{\"type\":\"histogram2d\",\"colorbar\":{\"outlinewidth\":0,\"ticks\":\"\"},\"colorscale\":[[0.0,\"#0d0887\"],[0.1111111111111111,\"#46039f\"],[0.2222222222222222,\"#7201a8\"],[0.3333333333333333,\"#9c179e\"],[0.4444444444444444,\"#bd3786\"],[0.5555555555555556,\"#d8576b\"],[0.6666666666666666,\"#ed7953\"],[0.7777777777777778,\"#fb9f3a\"],[0.8888888888888888,\"#fdca26\"],[1.0,\"#f0f921\"]]}],\"heatmap\":[{\"type\":\"heatmap\",\"colorbar\":{\"outlinewidth\":0,\"ticks\":\"\"},\"colorscale\":[[0.0,\"#0d0887\"],[0.1111111111111111,\"#46039f\"],[0.2222222222222222,\"#7201a8\"],[0.3333333333333333,\"#9c179e\"],[0.4444444444444444,\"#bd3786\"],[0.5555555555555556,\"#d8576b\"],[0.6666666666666666,\"#ed7953\"],[0.7777777777777778,\"#fb9f3a\"],[0.8888888888888888,\"#fdca26\"],[1.0,\"#f0f921\"]]}],\"heatmapgl\":[{\"type\":\"heatmapgl\",\"colorbar\":{\"outlinewidth\":0,\"ticks\":\"\"},\"colorscale\":[[0.0,\"#0d0887\"],[0.1111111111111111,\"#46039f\"],[0.2222222222222222,\"#7201a8\"],[0.3333333333333333,\"#9c179e\"],[0.4444444444444444,\"#bd3786\"],[0.5555555555555556,\"#d8576b\"],[0.6666666666666666,\"#ed7953\"],[0.7777777777777778,\"#fb9f3a\"],[0.8888888888888888,\"#fdca26\"],[1.0,\"#f0f921\"]]}],\"contourcarpet\":[{\"type\":\"contourcarpet\",\"colorbar\":{\"outlinewidth\":0,\"ticks\":\"\"}}],\"contour\":[{\"type\":\"contour\",\"colorbar\":{\"outlinewidth\":0,\"ticks\":\"\"},\"colorscale\":[[0.0,\"#0d0887\"],[0.1111111111111111,\"#46039f\"],[0.2222222222222222,\"#7201a8\"],[0.3333333333333333,\"#9c179e\"],[0.4444444444444444,\"#bd3786\"],[0.5555555555555556,\"#d8576b\"],[0.6666666666666666,\"#ed7953\"],[0.7777777777777778,\"#fb9f3a\"],[0.8888888888888888,\"#fdca26\"],[1.0,\"#f0f921\"]]}],\"surface\":[{\"type\":\"surface\",\"colorbar\":{\"outlinewidth\":0,\"ticks\":\"\"},\"colorscale\":[[0.0,\"#0d0887\"],[0.1111111111111111,\"#46039f\"],[0.2222222222222222,\"#7201a8\"],[0.3333333333333333,\"#9c179e\"],[0.4444444444444444,\"#bd3786\"],[0.5555555555555556,\"#d8576b\"],[0.6666666666666666,\"#ed7953\"],[0.7777777777777778,\"#fb9f3a\"],[0.8888888888888888,\"#fdca26\"],[1.0,\"#f0f921\"]]}],\"mesh3d\":[{\"type\":\"mesh3d\",\"colorbar\":{\"outlinewidth\":0,\"ticks\":\"\"}}],\"scatter\":[{\"fillpattern\":{\"fillmode\":\"overlay\",\"size\":10,\"solidity\":0.2},\"type\":\"scatter\"}],\"parcoords\":[{\"type\":\"parcoords\",\"line\":{\"colorbar\":{\"outlinewidth\":0,\"ticks\":\"\"}}}],\"scatterpolargl\":[{\"type\":\"scatterpolargl\",\"marker\":{\"colorbar\":{\"outlinewidth\":0,\"ticks\":\"\"}}}],\"bar\":[{\"error_x\":{\"color\":\"#2a3f5f\"},\"error_y\":{\"color\":\"#2a3f5f\"},\"marker\":{\"line\":{\"color\":\"#E5ECF6\",\"width\":0.5},\"pattern\":{\"fillmode\":\"overlay\",\"size\":10,\"solidity\":0.2}},\"type\":\"bar\"}],\"scattergeo\":[{\"type\":\"scattergeo\",\"marker\":{\"colorbar\":{\"outlinewidth\":0,\"ticks\":\"\"}}}],\"scatterpolar\":[{\"type\":\"scatterpolar\",\"marker\":{\"colorbar\":{\"outlinewidth\":0,\"ticks\":\"\"}}}],\"histogram\":[{\"marker\":{\"pattern\":{\"fillmode\":\"overlay\",\"size\":10,\"solidity\":0.2}},\"type\":\"histogram\"}],\"scattergl\":[{\"type\":\"scattergl\",\"marker\":{\"colorbar\":{\"outlinewidth\":0,\"ticks\":\"\"}}}],\"scatter3d\":[{\"type\":\"scatter3d\",\"line\":{\"colorbar\":{\"outlinewidth\":0,\"ticks\":\"\"}},\"marker\":{\"colorbar\":{\"outlinewidth\":0,\"ticks\":\"\"}}}],\"scattermapbox\":[{\"type\":\"scattermapbox\",\"marker\":{\"colorbar\":{\"outlinewidth\":0,\"ticks\":\"\"}}}],\"scatterternary\":[{\"type\":\"scatterternary\",\"marker\":{\"colorbar\":{\"outlinewidth\":0,\"ticks\":\"\"}}}],\"scattercarpet\":[{\"type\":\"scattercarpet\",\"marker\":{\"colorbar\":{\"outlinewidth\":0,\"ticks\":\"\"}}}],\"carpet\":[{\"aaxis\":{\"endlinecolor\":\"#2a3f5f\",\"gridcolor\":\"white\",\"linecolor\":\"white\",\"minorgridcolor\":\"white\",\"startlinecolor\":\"#2a3f5f\"},\"baxis\":{\"endlinecolor\":\"#2a3f5f\",\"gridcolor\":\"white\",\"linecolor\":\"white\",\"minorgridcolor\":\"white\",\"startlinecolor\":\"#2a3f5f\"},\"type\":\"carpet\"}],\"table\":[{\"cells\":{\"fill\":{\"color\":\"#EBF0F8\"},\"line\":{\"color\":\"white\"}},\"header\":{\"fill\":{\"color\":\"#C8D4E3\"},\"line\":{\"color\":\"white\"}},\"type\":\"table\"}],\"barpolar\":[{\"marker\":{\"line\":{\"color\":\"#E5ECF6\",\"width\":0.5},\"pattern\":{\"fillmode\":\"overlay\",\"size\":10,\"solidity\":0.2}},\"type\":\"barpolar\"}],\"pie\":[{\"automargin\":true,\"type\":\"pie\"}]},\"layout\":{\"autotypenumbers\":\"strict\",\"colorway\":[\"#636efa\",\"#EF553B\",\"#00cc96\",\"#ab63fa\",\"#FFA15A\",\"#19d3f3\",\"#FF6692\",\"#B6E880\",\"#FF97FF\",\"#FECB52\"],\"font\":{\"color\":\"#2a3f5f\"},\"hovermode\":\"closest\",\"hoverlabel\":{\"align\":\"left\"},\"paper_bgcolor\":\"white\",\"plot_bgcolor\":\"#E5ECF6\",\"polar\":{\"bgcolor\":\"#E5ECF6\",\"angularaxis\":{\"gridcolor\":\"white\",\"linecolor\":\"white\",\"ticks\":\"\"},\"radialaxis\":{\"gridcolor\":\"white\",\"linecolor\":\"white\",\"ticks\":\"\"}},\"ternary\":{\"bgcolor\":\"#E5ECF6\",\"aaxis\":{\"gridcolor\":\"white\",\"linecolor\":\"white\",\"ticks\":\"\"},\"baxis\":{\"gridcolor\":\"white\",\"linecolor\":\"white\",\"ticks\":\"\"},\"caxis\":{\"gridcolor\":\"white\",\"linecolor\":\"white\",\"ticks\":\"\"}},\"coloraxis\":{\"colorbar\":{\"outlinewidth\":0,\"ticks\":\"\"}},\"colorscale\":{\"sequential\":[[0.0,\"#0d0887\"],[0.1111111111111111,\"#46039f\"],[0.2222222222222222,\"#7201a8\"],[0.3333333333333333,\"#9c179e\"],[0.4444444444444444,\"#bd3786\"],[0.5555555555555556,\"#d8576b\"],[0.6666666666666666,\"#ed7953\"],[0.7777777777777778,\"#fb9f3a\"],[0.8888888888888888,\"#fdca26\"],[1.0,\"#f0f921\"]],\"sequentialminus\":[[0.0,\"#0d0887\"],[0.1111111111111111,\"#46039f\"],[0.2222222222222222,\"#7201a8\"],[0.3333333333333333,\"#9c179e\"],[0.4444444444444444,\"#bd3786\"],[0.5555555555555556,\"#d8576b\"],[0.6666666666666666,\"#ed7953\"],[0.7777777777777778,\"#fb9f3a\"],[0.8888888888888888,\"#fdca26\"],[1.0,\"#f0f921\"]],\"diverging\":[[0,\"#8e0152\"],[0.1,\"#c51b7d\"],[0.2,\"#de77ae\"],[0.3,\"#f1b6da\"],[0.4,\"#fde0ef\"],[0.5,\"#f7f7f7\"],[0.6,\"#e6f5d0\"],[0.7,\"#b8e186\"],[0.8,\"#7fbc41\"],[0.9,\"#4d9221\"],[1,\"#276419\"]]},\"xaxis\":{\"gridcolor\":\"white\",\"linecolor\":\"white\",\"ticks\":\"\",\"title\":{\"standoff\":15},\"zerolinecolor\":\"white\",\"automargin\":true,\"zerolinewidth\":2},\"yaxis\":{\"gridcolor\":\"white\",\"linecolor\":\"white\",\"ticks\":\"\",\"title\":{\"standoff\":15},\"zerolinecolor\":\"white\",\"automargin\":true,\"zerolinewidth\":2},\"scene\":{\"xaxis\":{\"backgroundcolor\":\"#E5ECF6\",\"gridcolor\":\"white\",\"linecolor\":\"white\",\"showbackground\":true,\"ticks\":\"\",\"zerolinecolor\":\"white\",\"gridwidth\":2},\"yaxis\":{\"backgroundcolor\":\"#E5ECF6\",\"gridcolor\":\"white\",\"linecolor\":\"white\",\"showbackground\":true,\"ticks\":\"\",\"zerolinecolor\":\"white\",\"gridwidth\":2},\"zaxis\":{\"backgroundcolor\":\"#E5ECF6\",\"gridcolor\":\"white\",\"linecolor\":\"white\",\"showbackground\":true,\"ticks\":\"\",\"zerolinecolor\":\"white\",\"gridwidth\":2}},\"shapedefaults\":{\"line\":{\"color\":\"#2a3f5f\"}},\"annotationdefaults\":{\"arrowcolor\":\"#2a3f5f\",\"arrowhead\":0,\"arrowwidth\":1},\"geo\":{\"bgcolor\":\"white\",\"landcolor\":\"#E5ECF6\",\"subunitcolor\":\"white\",\"showland\":true,\"showlakes\":true,\"lakecolor\":\"white\"},\"title\":{\"x\":0.05},\"mapbox\":{\"style\":\"light\"}}},\"xaxis\":{\"anchor\":\"y\",\"domain\":[0.0,1.0],\"title\":{\"text\":\"total_profit\"}},\"yaxis\":{\"anchor\":\"x\",\"domain\":[0.0,1.0],\"title\":{\"text\":\"count\"}},\"legend\":{\"title\":{\"text\":\"Country\"},\"tracegroupgap\":0},\"margin\":{\"t\":60},\"barmode\":\"relative\"},                        {\"responsive\": true}                    ).then(function(){\n",
       "                            \n",
       "var gd = document.getElementById('6ff3f5d5-f939-4b44-9a34-747f9a12a784');\n",
       "var x = new MutationObserver(function (mutations, observer) {{\n",
       "        var display = window.getComputedStyle(gd).display;\n",
       "        if (!display || display === 'none') {{\n",
       "            console.log([gd, 'removed!']);\n",
       "            Plotly.purge(gd);\n",
       "            observer.disconnect();\n",
       "        }}\n",
       "}});\n",
       "\n",
       "// Listen for the removal of the full notebook cells\n",
       "var notebookContainer = gd.closest('#notebook-container');\n",
       "if (notebookContainer) {{\n",
       "    x.observe(notebookContainer, {childList: true});\n",
       "}}\n",
       "\n",
       "// Listen for the clearing of the current output cell\n",
       "var outputEl = gd.closest('.output');\n",
       "if (outputEl) {{\n",
       "    x.observe(outputEl, {childList: true});\n",
       "}}\n",
       "\n",
       "                        })                };                });            </script>        </div>"
      ]
     },
     "metadata": {},
     "output_type": "display_data"
    },
    {
     "data": {
      "text/html": [
       "<div>                            <div id=\"74f9405c-667d-45cb-a893-3323b3d714af\" class=\"plotly-graph-div\" style=\"height:525px; width:100%;\"></div>            <script type=\"text/javascript\">                require([\"plotly\"], function(Plotly) {                    window.PLOTLYENV=window.PLOTLYENV || {};                                    if (document.getElementById(\"74f9405c-667d-45cb-a893-3323b3d714af\")) {                    Plotly.newPlot(                        \"74f9405c-667d-45cb-a893-3323b3d714af\",                        [{\"alignmentgroup\":\"True\",\"bingroup\":\"x\",\"hovertemplate\":\"Loyalty Card=No\\u003cbr\\u003etotal_profit=%{x}\\u003cbr\\u003ecount=%{y}\\u003cextra\\u003e\\u003c\\u002fextra\\u003e\",\"legendgroup\":\"No\",\"marker\":{\"color\":\"#636efa\",\"pattern\":{\"shape\":\"\"}},\"name\":\"No\",\"offsetgroup\":\"No\",\"orientation\":\"v\",\"showlegend\":true,\"x\":[34.723549999999996,31.59935,28.9989,28.67375,28.4349,25.972499999999997,23.695749999999997,23.2323,23.2323,22.542299999999997,22.542299999999997,22.542299999999997,22.542299999999997,19.36025,18.956599999999998,18.956599999999998,18.956599999999998,18.4437,18.4437,17.401799999999998,17.401799999999998,17.401799999999998,17.393749999999997,16.083899999999996,15.8727,15.488199999999999,15.488199999999999,15.488199999999999,15.36975,15.36975,15.028199999999998,15.028199999999998,14.21745,13.972499999999997,13.972499999999997,13.972499999999997,13.915,13.915,13.4469,13.403249999999998,13.403249999999998,13.403249999999998,13.184849999999997,12.87045,12.363000000000001,12.363000000000001,12.2958,11.643749999999997,11.61615,11.61615,11.349,11.349,11.271149999999999,11.2693,11.15965,11.11985,10.722599999999998,10.43625,10.302500000000002,10.298249999999998,10.298249999999998,10.298249999999998,10.15065,10.100999999999999,9.894599999999999,9.8703,9.801,9.801,9.478299999999999,9.478299999999999,9.457500000000001,9.314999999999998,9.314999999999998,9.314999999999998,9.22185,9.2121,9.116549999999998,9.075,9.075,9.075,9.0291,8.700899999999999,8.700899999999999,8.6995,8.3659,8.24595,8.2455,8.242,8.242,8.238599999999998,8.238599999999998,8.238599999999998,8.238599999999998,8.041949999999998,8.019,7.566000000000001,7.566000000000001,7.5625,7.514099999999999,7.514099999999999,7.4178,7.4178,7.410599999999999,7.410599999999999,7.0107,6.993,6.993,6.993,6.993,6.993,6.986249999999998,6.986249999999998,6.9575,6.9575,6.865499999999999,6.865499999999999,6.865499999999999,6.734,6.6825,6.596399999999999,6.596399999999999,6.534,6.534,6.534,6.3232,6.181500000000001,6.181500000000001,6.181500000000001,6.1815,6.1815,6.178949999999999,6.178949999999999,6.1479,6.074999999999999,6.074999999999999,6.074999999999999,6.0606,6.0606,6.05,5.880599999999999,5.880599999999999,5.880599999999999,5.880599999999999,5.8275,5.6745,5.6745,5.6745,5.6745,5.6745,5.492399999999999,5.445,5.372999999999999,5.361299999999999,5.361299999999999,5.346,5.13675,5.0625,5.0625,5.0504999999999995,5.0504999999999995,5.0504999999999995,5.0504999999999995,4.947299999999999,4.9452,4.9452,4.9452,4.9403999999999995,4.9005,4.9005,4.9005,4.811400000000001,4.7391499999999995,4.7391499999999995,4.7391499999999995,4.657499999999999,4.657499999999999,4.5396,4.5375,4.5375,4.5375,4.5375,4.50765,4.477499999999999,4.3504499999999995,4.3504499999999995,4.302,4.195799999999999,4.121,4.121,4.121,4.119299999999999,4.05,4.05,4.05,4.0404,4.0095,4.0095,3.9204,3.9204,3.9204,3.9204,3.8720499999999998,3.8720499999999998,3.7089,3.7089,3.7089,3.7089,3.7089,3.7052999999999994,3.6449999999999996,3.63,3.585,3.585,3.585,3.585,3.585,3.585,3.582,3.582,3.582,3.5819999999999994,3.5819999999999994,3.5819999999999994,3.5623,3.4965,3.4965,3.4964999999999997,3.4047,3.4047,3.3723,3.367,3.2981999999999996,3.2237999999999998,3.2076000000000002,3.09075,3.09075,3.09075,3.09075,3.07395,3.0691499999999996,3.0374999999999996,3.0374999999999996,3.0374999999999996,3.0374999999999996,3.0374999999999996,3.0303,3.0303,3.0303,3.0303,3.0303,3.0303,3.025,3.025,3.0132000000000003,2.985,2.9402999999999997,2.8930499999999997,2.868,2.868,2.868,2.868,2.868,2.83725,2.8284,2.7971999999999997,2.7971999999999997,2.7461999999999995,2.7225,2.7225,2.6865,2.6865,2.6865,2.6864999999999997,2.6849999999999996,2.6849999999999996,2.6806499999999995,2.673,2.673,2.673,2.673,2.4726,2.4726,2.4701999999999997,2.4701999999999997,2.4701999999999997,2.45025,2.4299999999999997,2.4299999999999997,2.4057000000000004,2.4057000000000004,2.4057000000000004,2.388,2.331,2.331,2.331,2.3287499999999994,2.3287499999999994,2.2698,2.2698,2.2698,2.2698,2.26875,2.26875,2.26875,2.151,2.151,2.151,2.151,2.151,2.151,2.1492,2.1491999999999996,2.1491999999999996,2.0978999999999997,2.0978999999999997,2.0978999999999997,2.0978999999999997,2.0605,2.0596499999999995,2.0596499999999995,2.025,2.025,2.025,2.025,2.0202,2.0202,2.0202,2.0202,1.9602,1.9331999999999996,1.9331999999999996,1.8915000000000002,1.8224999999999998,1.8224999999999998,1.8224999999999998,1.8224999999999998,1.815,1.815,1.815,1.791,1.7909999999999997,1.7207999999999997,1.7207999999999997,1.7207999999999997,1.6835,1.6835,1.6490999999999998,1.6490999999999998,1.6335,1.6335,1.6118999999999999,1.6118999999999999,1.6118999999999999,1.6118999999999999,1.6118999999999999,1.6118999999999999,1.6109999999999998,1.6109999999999998,1.6109999999999998,1.6038000000000001,1.6038000000000001,1.5408,1.5187499999999998,1.5125,1.4701499999999998,1.434,1.434,1.3985999999999998,1.3985999999999998,1.36125,1.3365,1.2905999999999997,1.2905999999999997,1.2905999999999997,1.2905999999999997,1.2905999999999997,1.2905999999999997,1.2905999999999997,1.2887999999999997,1.2363,1.2363,1.2363,1.2363,1.2363,1.2363,1.2350999999999999,1.2149999999999999,1.2149999999999999,1.2149999999999999,1.2028500000000002,1.2028500000000002,1.1349,1.1349,1.1349,1.1349,1.1349,1.0755,1.0755,1.0746,1.0746,1.0745999999999998,1.0745999999999998,1.0745999999999998,1.0745999999999998,1.0739999999999998,1.0739999999999998,1.0125,1.0125,1.0125,1.0125,1.0101,1.0101,1.0101,1.0101,0.9801,0.9801,0.9665999999999998,0.9665999999999998,0.9075,0.9075,0.9075,0.8955,0.8954999999999999,0.8954999999999999,0.8603999999999998,0.8603999999999998,0.8603999999999998,0.8603999999999998,0.8603999999999998,0.8059499999999999,0.8054999999999999,0.8019000000000001,0.8019000000000001,0.7163999999999999,0.6992999999999999,0.6992999999999999,0.6452999999999999,0.6452999999999999,0.6443999999999999,0.6443999999999999,0.61815,0.6074999999999999,0.6074999999999999,0.6074999999999999,0.6074999999999999,0.6074999999999999,0.56745,0.56745,0.5373,0.5373,0.5373,0.5373,0.5372999999999999,0.5372999999999999,0.5369999999999999,0.4832999999999999,0.4301999999999999,0.4301999999999999,0.35819999999999996,0.35819999999999996,0.35819999999999996,0.35819999999999996,0.35819999999999996,0.32219999999999993,0.26865,0.26865,0.26865,0.17909999999999998,0.17909999999999998,0.16109999999999997],\"xaxis\":\"x\",\"yaxis\":\"y\",\"type\":\"histogram\"},{\"alignmentgroup\":\"True\",\"bingroup\":\"x\",\"hovertemplate\":\"Loyalty Card=Yes\\u003cbr\\u003etotal_profit=%{x}\\u003cbr\\u003ecount=%{y}\\u003cextra\\u003e\\u003c\\u002fextra\\u003e\",\"legendgroup\":\"Yes\",\"marker\":{\"color\":\"#EF553B\",\"pattern\":{\"shape\":\"\"}},\"name\":\"Yes\",\"offsetgroup\":\"Yes\",\"orientation\":\"v\",\"showlegend\":true,\"x\":[29.45085,29.307299999999998,26.1027,23.695749999999997,23.2323,22.542299999999997,22.542299999999997,21.22215,20.897399999999998,20.8725,20.040999999999997,19.36025,18.956599999999998,18.956599999999998,18.785249999999998,18.4437,17.401799999999998,16.083899999999996,16.083899999999996,16.083899999999996,15.488199999999999,15.488199999999999,15.488199999999999,15.488199999999999,15.36975,15.028199999999998,14.21745,13.972499999999997,13.972499999999997,13.972499999999997,13.972499999999997,13.915,13.763399999999999,13.42485,13.403249999999998,13.403249999999998,13.403249999999998,13.403249999999998,13.05135,13.05135,12.363000000000001,12.357899999999997,12.2958,12.2958,11.61615,11.533349999999997,11.349,11.271149999999999,10.968,10.43625,10.302500000000002,10.302500000000002,10.302500000000002,10.298249999999998,10.298249999999998,10.100999999999999,10.100999999999999,10.100999999999999,9.801,9.478299999999999,9.478299999999999,9.314999999999998,9.22185,9.22185,9.22185,9.075,9.075,8.700899999999999,8.525,8.522699999999999,8.2455,8.242,8.238599999999998,8.1675,8.1675,8.1675,8.041949999999998,8.041949999999998,8.019,8.019,8.019,7.7440999999999995,7.566000000000001,7.5625,7.5625,7.514099999999999,7.4178,7.4178,7.410599999999999,6.993,6.986249999999998,6.986249999999998,6.986249999999998,6.986249999999998,6.9575,6.9575,6.9575,6.9575,6.9575,6.9575,6.9575,6.8094,6.8094,6.734,6.596399999999999,6.596399999999999,6.596399999999999,6.534,6.534,6.181500000000001,6.181500000000001,6.178949999999999,6.1754999999999995,6.074999999999999,6.0606,6.05,5.880599999999999,5.880599999999999,5.7315,5.6745,5.6745,5.6745,5.6745,5.6745,5.54655,5.492399999999999,5.0625,5.0625,5.0504999999999995,4.9806,4.9452,4.9452,4.9403999999999995,4.9403999999999995,4.9403999999999995,4.9403999999999995,4.9403999999999995,4.9403999999999995,4.9005,4.9005,4.9005,4.7391499999999995,4.728899999999999,4.662,4.657499999999999,4.657499999999999,4.657499999999999,4.657499999999999,4.657499999999999,4.5396,4.5375,4.5375,4.5375,4.5375,4.5375,4.477499999999999,4.3504499999999995,4.3504499999999995,4.3303,4.302,4.195799999999999,4.119299999999999,4.119299999999999,4.119299999999999,4.05,4.0404,4.0095,4.0095,4.0095,4.0095,4.0095,3.9204,3.9204,3.8720499999999998,3.8720499999999998,3.7830000000000004,3.7570499999999996,3.7570499999999996,3.7089,3.7089,3.6449999999999996,3.6449999999999996,3.6449999999999996,3.6449999999999996,3.585,3.585,3.582,3.582,3.5819999999999994,3.4965,3.4965,3.4964999999999997,3.4964999999999997,3.47875,3.47875,3.47875,3.47875,3.4047,3.4047,3.4047,3.4047,3.4047,3.367,3.2981999999999996,3.267,3.2237999999999998,3.2219999999999995,3.2219999999999995,3.2076000000000002,3.2076000000000002,3.12255,3.09075,3.09075,3.09075,3.09075,3.07395,3.0374999999999996,3.0374999999999996,3.0374999999999996,3.0303,3.0303,3.025,2.9402999999999997,2.9402999999999997,2.9402999999999997,2.83725,2.83725,2.7461999999999995,2.7461999999999995,2.7461999999999995,2.7461999999999995,2.7225,2.7053999999999996,2.6865,2.6865,2.6849999999999996,2.6806499999999995,2.6806499999999995,2.6806499999999995,2.673,2.65575,2.6054999999999997,2.5811999999999995,2.5252499999999998,2.4726,2.4726,2.4701999999999997,2.4701999999999997,2.45025,2.45025,2.4299999999999997,2.4299999999999997,2.4299999999999997,2.4057000000000004,2.4057000000000004,2.4057000000000004,2.4057000000000004,2.4057000000000004,2.4057000000000004,2.4057000000000004,2.331,2.151,2.151,2.1492,2.1492,2.1492,2.1491999999999996,2.1491999999999996,2.1479999999999997,2.0978999999999997,2.0978999999999997,2.0978999999999997,2.0978999999999997,2.0596499999999995,2.025,2.0202,2.0202,2.0202,2.0202,2.00475,2.00475,1.9602,1.9602,1.9602,1.9602,1.9331999999999996,1.8224999999999998,1.8224999999999998,1.8224999999999998,1.815,1.815,1.791,1.791,1.791,1.791,1.7207999999999997,1.70235,1.70235,1.6835,1.6835,1.6490999999999998,1.6490999999999998,1.6118999999999999,1.6118999999999999,1.6118999999999999,1.6118999999999999,1.6118999999999999,1.6118999999999999,1.6118999999999999,1.6109999999999998,1.6109999999999998,1.6109999999999998,1.6038000000000001,1.6038000000000001,1.6038000000000001,1.6038000000000001,1.5187499999999998,1.51515,1.51515,1.4701499999999998,1.4701499999999998,1.434,1.4327999999999999,1.4327999999999999,1.3985999999999998,1.3985999999999998,1.3730999999999998,1.36125,1.36125,1.34325,1.3365,1.3365,1.3238999999999999,1.2905999999999997,1.2905999999999997,1.2905999999999997,1.2887999999999997,1.2363,1.2363,1.2363,1.2350999999999999,1.2149999999999999,1.2149999999999999,1.2149999999999999,1.2149999999999999,1.2028500000000002,1.194,1.194,1.1655,1.1349,1.1349,1.1349,1.1349,1.1349,1.1349,1.0746,1.0746,1.0746,1.0745999999999998,1.0745999999999998,1.0745999999999998,1.0101,1.0101,1.0101,1.0101,0.9801,0.9801,0.9801,0.9665999999999998,0.9665999999999998,0.9665999999999998,0.9075,0.9075,0.9075,0.9075,0.8955,0.8954999999999999,0.8954999999999999,0.8603999999999998,0.8603999999999998,0.8603999999999998,0.8059499999999999,0.8059499999999999,0.8059499999999999,0.8054999999999999,0.8054999999999999,0.8054999999999999,0.8019000000000001,0.8019000000000001,0.8019000000000001,0.8019000000000001,0.8019000000000001,0.7163999999999999,0.7163999999999999,0.6992999999999999,0.6992999999999999,0.6992999999999999,0.6992999999999999,0.6992999999999999,0.6452999999999999,0.6452999999999999,0.6443999999999999,0.6443999999999999,0.61815,0.61815,0.6074999999999999,0.6074999999999999,0.6074999999999999,0.6074999999999999,0.597,0.5373,0.5373,0.5372999999999999,0.5369999999999999,0.50505,0.49005,0.4832999999999999,0.4832999999999999,0.4832999999999999,0.4832999999999999,0.4832999999999999,0.4832999999999999,0.4832999999999999,0.45375,0.4301999999999999,0.40095000000000003,0.40095000000000003,0.35819999999999996,0.35819999999999996,0.35819999999999996,0.32219999999999993,0.32219999999999993,0.32219999999999993,0.32219999999999993,0.32219999999999993,0.32219999999999993,0.21509999999999996,0.21509999999999996,0.21509999999999996,0.21509999999999996,0.17909999999999998,0.16109999999999997,0.16109999999999997],\"xaxis\":\"x\",\"yaxis\":\"y\",\"type\":\"histogram\"}],                        {\"template\":{\"data\":{\"histogram2dcontour\":[{\"type\":\"histogram2dcontour\",\"colorbar\":{\"outlinewidth\":0,\"ticks\":\"\"},\"colorscale\":[[0.0,\"#0d0887\"],[0.1111111111111111,\"#46039f\"],[0.2222222222222222,\"#7201a8\"],[0.3333333333333333,\"#9c179e\"],[0.4444444444444444,\"#bd3786\"],[0.5555555555555556,\"#d8576b\"],[0.6666666666666666,\"#ed7953\"],[0.7777777777777778,\"#fb9f3a\"],[0.8888888888888888,\"#fdca26\"],[1.0,\"#f0f921\"]]}],\"choropleth\":[{\"type\":\"choropleth\",\"colorbar\":{\"outlinewidth\":0,\"ticks\":\"\"}}],\"histogram2d\":[{\"type\":\"histogram2d\",\"colorbar\":{\"outlinewidth\":0,\"ticks\":\"\"},\"colorscale\":[[0.0,\"#0d0887\"],[0.1111111111111111,\"#46039f\"],[0.2222222222222222,\"#7201a8\"],[0.3333333333333333,\"#9c179e\"],[0.4444444444444444,\"#bd3786\"],[0.5555555555555556,\"#d8576b\"],[0.6666666666666666,\"#ed7953\"],[0.7777777777777778,\"#fb9f3a\"],[0.8888888888888888,\"#fdca26\"],[1.0,\"#f0f921\"]]}],\"heatmap\":[{\"type\":\"heatmap\",\"colorbar\":{\"outlinewidth\":0,\"ticks\":\"\"},\"colorscale\":[[0.0,\"#0d0887\"],[0.1111111111111111,\"#46039f\"],[0.2222222222222222,\"#7201a8\"],[0.3333333333333333,\"#9c179e\"],[0.4444444444444444,\"#bd3786\"],[0.5555555555555556,\"#d8576b\"],[0.6666666666666666,\"#ed7953\"],[0.7777777777777778,\"#fb9f3a\"],[0.8888888888888888,\"#fdca26\"],[1.0,\"#f0f921\"]]}],\"heatmapgl\":[{\"type\":\"heatmapgl\",\"colorbar\":{\"outlinewidth\":0,\"ticks\":\"\"},\"colorscale\":[[0.0,\"#0d0887\"],[0.1111111111111111,\"#46039f\"],[0.2222222222222222,\"#7201a8\"],[0.3333333333333333,\"#9c179e\"],[0.4444444444444444,\"#bd3786\"],[0.5555555555555556,\"#d8576b\"],[0.6666666666666666,\"#ed7953\"],[0.7777777777777778,\"#fb9f3a\"],[0.8888888888888888,\"#fdca26\"],[1.0,\"#f0f921\"]]}],\"contourcarpet\":[{\"type\":\"contourcarpet\",\"colorbar\":{\"outlinewidth\":0,\"ticks\":\"\"}}],\"contour\":[{\"type\":\"contour\",\"colorbar\":{\"outlinewidth\":0,\"ticks\":\"\"},\"colorscale\":[[0.0,\"#0d0887\"],[0.1111111111111111,\"#46039f\"],[0.2222222222222222,\"#7201a8\"],[0.3333333333333333,\"#9c179e\"],[0.4444444444444444,\"#bd3786\"],[0.5555555555555556,\"#d8576b\"],[0.6666666666666666,\"#ed7953\"],[0.7777777777777778,\"#fb9f3a\"],[0.8888888888888888,\"#fdca26\"],[1.0,\"#f0f921\"]]}],\"surface\":[{\"type\":\"surface\",\"colorbar\":{\"outlinewidth\":0,\"ticks\":\"\"},\"colorscale\":[[0.0,\"#0d0887\"],[0.1111111111111111,\"#46039f\"],[0.2222222222222222,\"#7201a8\"],[0.3333333333333333,\"#9c179e\"],[0.4444444444444444,\"#bd3786\"],[0.5555555555555556,\"#d8576b\"],[0.6666666666666666,\"#ed7953\"],[0.7777777777777778,\"#fb9f3a\"],[0.8888888888888888,\"#fdca26\"],[1.0,\"#f0f921\"]]}],\"mesh3d\":[{\"type\":\"mesh3d\",\"colorbar\":{\"outlinewidth\":0,\"ticks\":\"\"}}],\"scatter\":[{\"fillpattern\":{\"fillmode\":\"overlay\",\"size\":10,\"solidity\":0.2},\"type\":\"scatter\"}],\"parcoords\":[{\"type\":\"parcoords\",\"line\":{\"colorbar\":{\"outlinewidth\":0,\"ticks\":\"\"}}}],\"scatterpolargl\":[{\"type\":\"scatterpolargl\",\"marker\":{\"colorbar\":{\"outlinewidth\":0,\"ticks\":\"\"}}}],\"bar\":[{\"error_x\":{\"color\":\"#2a3f5f\"},\"error_y\":{\"color\":\"#2a3f5f\"},\"marker\":{\"line\":{\"color\":\"#E5ECF6\",\"width\":0.5},\"pattern\":{\"fillmode\":\"overlay\",\"size\":10,\"solidity\":0.2}},\"type\":\"bar\"}],\"scattergeo\":[{\"type\":\"scattergeo\",\"marker\":{\"colorbar\":{\"outlinewidth\":0,\"ticks\":\"\"}}}],\"scatterpolar\":[{\"type\":\"scatterpolar\",\"marker\":{\"colorbar\":{\"outlinewidth\":0,\"ticks\":\"\"}}}],\"histogram\":[{\"marker\":{\"pattern\":{\"fillmode\":\"overlay\",\"size\":10,\"solidity\":0.2}},\"type\":\"histogram\"}],\"scattergl\":[{\"type\":\"scattergl\",\"marker\":{\"colorbar\":{\"outlinewidth\":0,\"ticks\":\"\"}}}],\"scatter3d\":[{\"type\":\"scatter3d\",\"line\":{\"colorbar\":{\"outlinewidth\":0,\"ticks\":\"\"}},\"marker\":{\"colorbar\":{\"outlinewidth\":0,\"ticks\":\"\"}}}],\"scattermapbox\":[{\"type\":\"scattermapbox\",\"marker\":{\"colorbar\":{\"outlinewidth\":0,\"ticks\":\"\"}}}],\"scatterternary\":[{\"type\":\"scatterternary\",\"marker\":{\"colorbar\":{\"outlinewidth\":0,\"ticks\":\"\"}}}],\"scattercarpet\":[{\"type\":\"scattercarpet\",\"marker\":{\"colorbar\":{\"outlinewidth\":0,\"ticks\":\"\"}}}],\"carpet\":[{\"aaxis\":{\"endlinecolor\":\"#2a3f5f\",\"gridcolor\":\"white\",\"linecolor\":\"white\",\"minorgridcolor\":\"white\",\"startlinecolor\":\"#2a3f5f\"},\"baxis\":{\"endlinecolor\":\"#2a3f5f\",\"gridcolor\":\"white\",\"linecolor\":\"white\",\"minorgridcolor\":\"white\",\"startlinecolor\":\"#2a3f5f\"},\"type\":\"carpet\"}],\"table\":[{\"cells\":{\"fill\":{\"color\":\"#EBF0F8\"},\"line\":{\"color\":\"white\"}},\"header\":{\"fill\":{\"color\":\"#C8D4E3\"},\"line\":{\"color\":\"white\"}},\"type\":\"table\"}],\"barpolar\":[{\"marker\":{\"line\":{\"color\":\"#E5ECF6\",\"width\":0.5},\"pattern\":{\"fillmode\":\"overlay\",\"size\":10,\"solidity\":0.2}},\"type\":\"barpolar\"}],\"pie\":[{\"automargin\":true,\"type\":\"pie\"}]},\"layout\":{\"autotypenumbers\":\"strict\",\"colorway\":[\"#636efa\",\"#EF553B\",\"#00cc96\",\"#ab63fa\",\"#FFA15A\",\"#19d3f3\",\"#FF6692\",\"#B6E880\",\"#FF97FF\",\"#FECB52\"],\"font\":{\"color\":\"#2a3f5f\"},\"hovermode\":\"closest\",\"hoverlabel\":{\"align\":\"left\"},\"paper_bgcolor\":\"white\",\"plot_bgcolor\":\"#E5ECF6\",\"polar\":{\"bgcolor\":\"#E5ECF6\",\"angularaxis\":{\"gridcolor\":\"white\",\"linecolor\":\"white\",\"ticks\":\"\"},\"radialaxis\":{\"gridcolor\":\"white\",\"linecolor\":\"white\",\"ticks\":\"\"}},\"ternary\":{\"bgcolor\":\"#E5ECF6\",\"aaxis\":{\"gridcolor\":\"white\",\"linecolor\":\"white\",\"ticks\":\"\"},\"baxis\":{\"gridcolor\":\"white\",\"linecolor\":\"white\",\"ticks\":\"\"},\"caxis\":{\"gridcolor\":\"white\",\"linecolor\":\"white\",\"ticks\":\"\"}},\"coloraxis\":{\"colorbar\":{\"outlinewidth\":0,\"ticks\":\"\"}},\"colorscale\":{\"sequential\":[[0.0,\"#0d0887\"],[0.1111111111111111,\"#46039f\"],[0.2222222222222222,\"#7201a8\"],[0.3333333333333333,\"#9c179e\"],[0.4444444444444444,\"#bd3786\"],[0.5555555555555556,\"#d8576b\"],[0.6666666666666666,\"#ed7953\"],[0.7777777777777778,\"#fb9f3a\"],[0.8888888888888888,\"#fdca26\"],[1.0,\"#f0f921\"]],\"sequentialminus\":[[0.0,\"#0d0887\"],[0.1111111111111111,\"#46039f\"],[0.2222222222222222,\"#7201a8\"],[0.3333333333333333,\"#9c179e\"],[0.4444444444444444,\"#bd3786\"],[0.5555555555555556,\"#d8576b\"],[0.6666666666666666,\"#ed7953\"],[0.7777777777777778,\"#fb9f3a\"],[0.8888888888888888,\"#fdca26\"],[1.0,\"#f0f921\"]],\"diverging\":[[0,\"#8e0152\"],[0.1,\"#c51b7d\"],[0.2,\"#de77ae\"],[0.3,\"#f1b6da\"],[0.4,\"#fde0ef\"],[0.5,\"#f7f7f7\"],[0.6,\"#e6f5d0\"],[0.7,\"#b8e186\"],[0.8,\"#7fbc41\"],[0.9,\"#4d9221\"],[1,\"#276419\"]]},\"xaxis\":{\"gridcolor\":\"white\",\"linecolor\":\"white\",\"ticks\":\"\",\"title\":{\"standoff\":15},\"zerolinecolor\":\"white\",\"automargin\":true,\"zerolinewidth\":2},\"yaxis\":{\"gridcolor\":\"white\",\"linecolor\":\"white\",\"ticks\":\"\",\"title\":{\"standoff\":15},\"zerolinecolor\":\"white\",\"automargin\":true,\"zerolinewidth\":2},\"scene\":{\"xaxis\":{\"backgroundcolor\":\"#E5ECF6\",\"gridcolor\":\"white\",\"linecolor\":\"white\",\"showbackground\":true,\"ticks\":\"\",\"zerolinecolor\":\"white\",\"gridwidth\":2},\"yaxis\":{\"backgroundcolor\":\"#E5ECF6\",\"gridcolor\":\"white\",\"linecolor\":\"white\",\"showbackground\":true,\"ticks\":\"\",\"zerolinecolor\":\"white\",\"gridwidth\":2},\"zaxis\":{\"backgroundcolor\":\"#E5ECF6\",\"gridcolor\":\"white\",\"linecolor\":\"white\",\"showbackground\":true,\"ticks\":\"\",\"zerolinecolor\":\"white\",\"gridwidth\":2}},\"shapedefaults\":{\"line\":{\"color\":\"#2a3f5f\"}},\"annotationdefaults\":{\"arrowcolor\":\"#2a3f5f\",\"arrowhead\":0,\"arrowwidth\":1},\"geo\":{\"bgcolor\":\"white\",\"landcolor\":\"#E5ECF6\",\"subunitcolor\":\"white\",\"showland\":true,\"showlakes\":true,\"lakecolor\":\"white\"},\"title\":{\"x\":0.05},\"mapbox\":{\"style\":\"light\"}}},\"xaxis\":{\"anchor\":\"y\",\"domain\":[0.0,1.0],\"title\":{\"text\":\"total_profit\"}},\"yaxis\":{\"anchor\":\"x\",\"domain\":[0.0,1.0],\"title\":{\"text\":\"count\"}},\"legend\":{\"title\":{\"text\":\"Loyalty Card\"},\"tracegroupgap\":0},\"margin\":{\"t\":60},\"barmode\":\"relative\"},                        {\"responsive\": true}                    ).then(function(){\n",
       "                            \n",
       "var gd = document.getElementById('74f9405c-667d-45cb-a893-3323b3d714af');\n",
       "var x = new MutationObserver(function (mutations, observer) {{\n",
       "        var display = window.getComputedStyle(gd).display;\n",
       "        if (!display || display === 'none') {{\n",
       "            console.log([gd, 'removed!']);\n",
       "            Plotly.purge(gd);\n",
       "            observer.disconnect();\n",
       "        }}\n",
       "}});\n",
       "\n",
       "// Listen for the removal of the full notebook cells\n",
       "var notebookContainer = gd.closest('#notebook-container');\n",
       "if (notebookContainer) {{\n",
       "    x.observe(notebookContainer, {childList: true});\n",
       "}}\n",
       "\n",
       "// Listen for the clearing of the current output cell\n",
       "var outputEl = gd.closest('.output');\n",
       "if (outputEl) {{\n",
       "    x.observe(outputEl, {childList: true});\n",
       "}}\n",
       "\n",
       "                        })                };                });            </script>        </div>"
      ]
     },
     "metadata": {},
     "output_type": "display_data"
    }
   ],
   "source": [
    "customer_profit_df = df[['Customer ID', 'total_profit']].groupby(by=['Customer ID']).sum().sort_values(ascending=False, by='total_profit').reset_index()\n",
    "customer_profit_df = customer_profit_df.merge(right=customer_df, on='Customer ID', how='inner')\n",
    "for color in ['Country', 'Loyalty Card']:\n",
    "    histogram(data_frame=customer_profit_df, x='total_profit', color=color).show()"
   ]
  },
  {
   "cell_type": "code",
   "execution_count": 11,
   "id": "5bb7084c",
   "metadata": {
    "execution": {
     "iopub.execute_input": "2023-10-23T19:06:13.329706Z",
     "iopub.status.busy": "2023-10-23T19:06:13.328794Z",
     "iopub.status.idle": "2023-10-23T19:06:13.338877Z",
     "shell.execute_reply": "2023-10-23T19:06:13.338086Z"
    },
    "papermill": {
     "duration": 0.017936,
     "end_time": "2023-10-23T19:06:13.340582",
     "exception": false,
     "start_time": "2023-10-23T19:06:13.322646",
     "status": "completed"
    },
    "tags": []
   },
   "outputs": [
    {
     "data": {
      "text/plain": [
       "(4.950950054764512, 3.0374999999999996)"
      ]
     },
     "execution_count": 11,
     "metadata": {},
     "output_type": "execute_result"
    }
   ],
   "source": [
    "customer_profit_df['total_profit'].mean(), customer_profit_df['total_profit'].median()"
   ]
  },
  {
   "cell_type": "markdown",
   "id": "f40478a2",
   "metadata": {
    "papermill": {
     "duration": 0.004655,
     "end_time": "2023-10-23T19:06:13.350300",
     "exception": false,
     "start_time": "2023-10-23T19:06:13.345645",
     "status": "completed"
    },
    "tags": []
   },
   "source": [
    "Our total profit distribution skews right; we do more business with lower-profit customers (left of the mean), but we make more of our profit with our fewer, more eccentric higher-profit customers. And our loyalty cards are more prevalent with lower-profit customers. Hmmm."
   ]
  }
 ],
 "metadata": {
  "kernelspec": {
   "display_name": "Python 3",
   "language": "python",
   "name": "python3"
  },
  "language_info": {
   "codemirror_mode": {
    "name": "ipython",
    "version": 3
   },
   "file_extension": ".py",
   "mimetype": "text/x-python",
   "name": "python",
   "nbconvert_exporter": "python",
   "pygments_lexer": "ipython3",
   "version": "3.10.12"
  },
  "papermill": {
   "default_parameters": {},
   "duration": 7.122845,
   "end_time": "2023-10-23T19:06:13.874506",
   "environment_variables": {},
   "exception": null,
   "input_path": "__notebook__.ipynb",
   "output_path": "__notebook__.ipynb",
   "parameters": {},
   "start_time": "2023-10-23T19:06:06.751661",
   "version": "2.4.0"
  }
 },
 "nbformat": 4,
 "nbformat_minor": 5
}
