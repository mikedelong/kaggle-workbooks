{
 "cells": [
  {
   "cell_type": "code",
   "execution_count": 1,
   "id": "9c76be4f",
   "metadata": {
    "_cell_guid": "b1076dfc-b9ad-4769-8c92-a6c4dae69d19",
    "_uuid": "8f2839f25d086af736a60e9eeb907d3b93b6e0e5",
    "execution": {
     "iopub.execute_input": "2024-03-16T13:10:56.180640Z",
     "iopub.status.busy": "2024-03-16T13:10:56.180029Z",
     "iopub.status.idle": "2024-03-16T13:11:10.097487Z",
     "shell.execute_reply": "2024-03-16T13:11:10.095824Z"
    },
    "papermill": {
     "duration": 13.924641,
     "end_time": "2024-03-16T13:11:10.100433",
     "exception": false,
     "start_time": "2024-03-16T13:10:56.175792",
     "status": "completed"
    },
    "tags": []
   },
   "outputs": [
    {
     "name": "stdout",
     "output_type": "stream",
     "text": [
      "pip install img2vec complete\n"
     ]
    }
   ],
   "source": [
    "!pip install --quiet img2vec_pytorch\n",
    "print('pip install img2vec complete')"
   ]
  },
  {
   "cell_type": "code",
   "execution_count": 2,
   "id": "64514830",
   "metadata": {
    "execution": {
     "iopub.execute_input": "2024-03-16T13:11:10.107576Z",
     "iopub.status.busy": "2024-03-16T13:11:10.106349Z",
     "iopub.status.idle": "2024-03-16T13:11:18.950418Z",
     "shell.execute_reply": "2024-03-16T13:11:18.949431Z"
    },
    "papermill": {
     "duration": 8.849802,
     "end_time": "2024-03-16T13:11:18.952688",
     "exception": false,
     "start_time": "2024-03-16T13:11:10.102886",
     "status": "completed"
    },
    "tags": []
   },
   "outputs": [
    {
     "name": "stderr",
     "output_type": "stream",
     "text": [
      "/opt/conda/lib/python3.10/site-packages/torchvision/models/_utils.py:208: UserWarning: The parameter 'pretrained' is deprecated since 0.13 and may be removed in the future, please use 'weights' instead.\n",
      "  warnings.warn(\n",
      "/opt/conda/lib/python3.10/site-packages/torchvision/models/_utils.py:223: UserWarning: Arguments other than a weight enum or `None` for 'weights' are deprecated since 0.13 and may be removed in the future. The current behavior is equivalent to passing `weights=ResNet18_Weights.IMAGENET1K_V1`. You can also use `weights=ResNet18_Weights.DEFAULT` to get the most up-to-date weights.\n",
      "  warnings.warn(msg)\n",
      "Downloading: \"https://download.pytorch.org/models/resnet18-f37072fd.pth\" to /root/.cache/torch/hub/checkpoints/resnet18-f37072fd.pth\n",
      "100%|██████████| 44.7M/44.7M [00:01<00:00, 29.7MB/s]\n"
     ]
    },
    {
     "name": "stdout",
     "output_type": "stream",
     "text": [
      "encoded MitesOnly data 0 rows in 0:00:00.004956\n",
      "encoded MitesOnBees_Cluster data 0 rows in 0:00:00.002835\n",
      "encoded MitesOnBess_Sparse data 0 rows in 0:00:00.002796\n",
      "encoded BeeDetritusMites data 0 rows in 0:00:00.002985\n",
      "encoded BeesMixedDetritus data 0 rows in 0:00:00.002995\n",
      "encoded BeesOnly data 0 rows in 0:00:00.002991\n",
      "done in 0:00:00.036446\n"
     ]
    }
   ],
   "source": [
    "import base64\n",
    "import pandas as pd\n",
    "\n",
    "from glob import glob\n",
    "from io import BytesIO\n",
    "from os.path import basename\n",
    "\n",
    "from arrow import now\n",
    "from img2vec_pytorch import Img2Vec\n",
    "from PIL import Image\n",
    "\n",
    "SIZE = 512\n",
    "STOP =  7500\n",
    "DATA_GLOB = '/kaggle/input/bee-dataset-but-hs/BeeDataset_BUT_HS'\n",
    "\n",
    "# https://stackoverflow.com/a/952952\n",
    "def flatten(arg):\n",
    "    return [x for xs in arg for x in xs]\n",
    "\n",
    "def get_from_glob(arg: str, tag: str, stop: int) -> list:\n",
    "    time_get = now()\n",
    "    result = []\n",
    "    for index, input_file in enumerate(glob(pathname=arg)):\n",
    "        if index < stop:\n",
    "            name = basename(input_file)\n",
    "            with Image.open(fp=input_file, mode='r') as image:\n",
    "                vector = img2vec.get_vec(image, tensor=True).numpy().reshape(SIZE,)\n",
    "                buffer = BytesIO()\n",
    "                width, height = image.size\n",
    "                size = (int(width / 2), int(height / 2))\n",
    "                image.resize(size=size).save(buffer, format='png')\n",
    "                result.append(pd.Series(data=[tag, name, vector, \n",
    "                                              'data:image/png;base64,' + base64.b64encode(buffer.getvalue()).decode(),\n",
    "                                             ], index=['tag', 'name', 'value', 'image']))\n",
    "    print('encoded {} data {} rows in {}'.format(tag, len(result), now() - time_get))\n",
    "    return result\n",
    "\n",
    "img2vec = Img2Vec(cuda=False, model='resnet-18', layer='default', layer_output_size=SIZE)\n",
    "\n",
    "time_start = now()\n",
    "\n",
    "files = {basename(folder) : folder + '/*.jpg' for folder in glob(DATA_GLOB + '/*')}\n",
    "data = [get_from_glob(arg=value, tag=key, stop=STOP) for key, value in files.items()]\n",
    "df = pd.DataFrame(data=flatten(arg=data))\n",
    "    \n",
    "print('done in {}'.format(now() - time_start))\n"
   ]
  }
 ],
 "metadata": {
  "kaggle": {
   "accelerator": "none",
   "dataSources": [
    {
     "datasetId": 4600115,
     "sourceId": 7845514,
     "sourceType": "datasetVersion"
    }
   ],
   "dockerImageVersionId": 30664,
   "isGpuEnabled": false,
   "isInternetEnabled": true,
   "language": "python",
   "sourceType": "notebook"
  },
  "kernelspec": {
   "display_name": "Python 3",
   "language": "python",
   "name": "python3"
  },
  "language_info": {
   "codemirror_mode": {
    "name": "ipython",
    "version": 3
   },
   "file_extension": ".py",
   "mimetype": "text/x-python",
   "name": "python",
   "nbconvert_exporter": "python",
   "pygments_lexer": "ipython3",
   "version": "3.10.13"
  },
  "papermill": {
   "default_parameters": {},
   "duration": 26.859937,
   "end_time": "2024-03-16T13:11:20.278992",
   "environment_variables": {},
   "exception": null,
   "input_path": "__notebook__.ipynb",
   "output_path": "__notebook__.ipynb",
   "parameters": {},
   "start_time": "2024-03-16T13:10:53.419055",
   "version": "2.5.0"
  }
 },
 "nbformat": 4,
 "nbformat_minor": 5
}
