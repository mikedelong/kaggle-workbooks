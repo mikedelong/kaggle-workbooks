{
 "cells": [
  {
   "cell_type": "code",
   "execution_count": 1,
   "id": "ac5cf250",
   "metadata": {
    "_cell_guid": "b1076dfc-b9ad-4769-8c92-a6c4dae69d19",
    "_uuid": "8f2839f25d086af736a60e9eeb907d3b93b6e0e5",
    "execution": {
     "iopub.execute_input": "2024-03-06T16:19:39.649343Z",
     "iopub.status.busy": "2024-03-06T16:19:39.648599Z",
     "iopub.status.idle": "2024-03-06T16:19:41.412486Z",
     "shell.execute_reply": "2024-03-06T16:19:41.411029Z"
    },
    "papermill": {
     "duration": 1.775541,
     "end_time": "2024-03-06T16:19:41.415413",
     "exception": false,
     "start_time": "2024-03-06T16:19:39.639872",
     "status": "completed"
    },
    "tags": []
   },
   "outputs": [
    {
     "data": {
      "text/html": [
       "<div>\n",
       "<style scoped>\n",
       "    .dataframe tbody tr th:only-of-type {\n",
       "        vertical-align: middle;\n",
       "    }\n",
       "\n",
       "    .dataframe tbody tr th {\n",
       "        vertical-align: top;\n",
       "    }\n",
       "\n",
       "    .dataframe thead th {\n",
       "        text-align: right;\n",
       "    }\n",
       "</style>\n",
       "<table border=\"1\" class=\"dataframe\">\n",
       "  <thead>\n",
       "    <tr style=\"text-align: right;\">\n",
       "      <th></th>\n",
       "      <th>Grade</th>\n",
       "      <th>Gender</th>\n",
       "      <th>Age_at_diagnosis</th>\n",
       "      <th>Race</th>\n",
       "      <th>IDH1</th>\n",
       "      <th>TP53</th>\n",
       "      <th>ATRX</th>\n",
       "      <th>PTEN</th>\n",
       "      <th>EGFR</th>\n",
       "      <th>CIC</th>\n",
       "      <th>...</th>\n",
       "      <th>RB1</th>\n",
       "      <th>NOTCH1</th>\n",
       "      <th>BCOR</th>\n",
       "      <th>CSMD3</th>\n",
       "      <th>SMARCA4</th>\n",
       "      <th>GRIN2A</th>\n",
       "      <th>IDH2</th>\n",
       "      <th>FAT4</th>\n",
       "      <th>PDGFRA</th>\n",
       "      <th>grade</th>\n",
       "    </tr>\n",
       "  </thead>\n",
       "  <tbody>\n",
       "    <tr>\n",
       "      <th>0</th>\n",
       "      <td>0</td>\n",
       "      <td>0</td>\n",
       "      <td>51.30</td>\n",
       "      <td>0</td>\n",
       "      <td>1</td>\n",
       "      <td>0</td>\n",
       "      <td>0</td>\n",
       "      <td>0</td>\n",
       "      <td>0</td>\n",
       "      <td>0</td>\n",
       "      <td>...</td>\n",
       "      <td>0</td>\n",
       "      <td>0</td>\n",
       "      <td>0</td>\n",
       "      <td>0</td>\n",
       "      <td>0</td>\n",
       "      <td>0</td>\n",
       "      <td>0</td>\n",
       "      <td>0</td>\n",
       "      <td>0</td>\n",
       "      <td>LGG</td>\n",
       "    </tr>\n",
       "    <tr>\n",
       "      <th>1</th>\n",
       "      <td>0</td>\n",
       "      <td>0</td>\n",
       "      <td>38.72</td>\n",
       "      <td>0</td>\n",
       "      <td>1</td>\n",
       "      <td>0</td>\n",
       "      <td>0</td>\n",
       "      <td>0</td>\n",
       "      <td>0</td>\n",
       "      <td>1</td>\n",
       "      <td>...</td>\n",
       "      <td>0</td>\n",
       "      <td>0</td>\n",
       "      <td>0</td>\n",
       "      <td>0</td>\n",
       "      <td>0</td>\n",
       "      <td>0</td>\n",
       "      <td>0</td>\n",
       "      <td>0</td>\n",
       "      <td>0</td>\n",
       "      <td>LGG</td>\n",
       "    </tr>\n",
       "    <tr>\n",
       "      <th>2</th>\n",
       "      <td>0</td>\n",
       "      <td>0</td>\n",
       "      <td>35.17</td>\n",
       "      <td>0</td>\n",
       "      <td>1</td>\n",
       "      <td>1</td>\n",
       "      <td>1</td>\n",
       "      <td>0</td>\n",
       "      <td>0</td>\n",
       "      <td>0</td>\n",
       "      <td>...</td>\n",
       "      <td>0</td>\n",
       "      <td>0</td>\n",
       "      <td>0</td>\n",
       "      <td>0</td>\n",
       "      <td>0</td>\n",
       "      <td>0</td>\n",
       "      <td>0</td>\n",
       "      <td>0</td>\n",
       "      <td>0</td>\n",
       "      <td>LGG</td>\n",
       "    </tr>\n",
       "    <tr>\n",
       "      <th>3</th>\n",
       "      <td>0</td>\n",
       "      <td>1</td>\n",
       "      <td>32.78</td>\n",
       "      <td>0</td>\n",
       "      <td>1</td>\n",
       "      <td>1</td>\n",
       "      <td>1</td>\n",
       "      <td>0</td>\n",
       "      <td>0</td>\n",
       "      <td>0</td>\n",
       "      <td>...</td>\n",
       "      <td>0</td>\n",
       "      <td>0</td>\n",
       "      <td>0</td>\n",
       "      <td>0</td>\n",
       "      <td>0</td>\n",
       "      <td>0</td>\n",
       "      <td>0</td>\n",
       "      <td>1</td>\n",
       "      <td>0</td>\n",
       "      <td>LGG</td>\n",
       "    </tr>\n",
       "    <tr>\n",
       "      <th>4</th>\n",
       "      <td>0</td>\n",
       "      <td>0</td>\n",
       "      <td>31.51</td>\n",
       "      <td>0</td>\n",
       "      <td>1</td>\n",
       "      <td>1</td>\n",
       "      <td>1</td>\n",
       "      <td>0</td>\n",
       "      <td>0</td>\n",
       "      <td>0</td>\n",
       "      <td>...</td>\n",
       "      <td>0</td>\n",
       "      <td>0</td>\n",
       "      <td>0</td>\n",
       "      <td>0</td>\n",
       "      <td>0</td>\n",
       "      <td>0</td>\n",
       "      <td>0</td>\n",
       "      <td>0</td>\n",
       "      <td>0</td>\n",
       "      <td>LGG</td>\n",
       "    </tr>\n",
       "  </tbody>\n",
       "</table>\n",
       "<p>5 rows × 25 columns</p>\n",
       "</div>"
      ],
      "text/plain": [
       "   Grade  Gender  Age_at_diagnosis  Race  IDH1  TP53  ATRX  PTEN  EGFR  CIC  \\\n",
       "0      0       0             51.30     0     1     0     0     0     0    0   \n",
       "1      0       0             38.72     0     1     0     0     0     0    1   \n",
       "2      0       0             35.17     0     1     1     1     0     0    0   \n",
       "3      0       1             32.78     0     1     1     1     0     0    0   \n",
       "4      0       0             31.51     0     1     1     1     0     0    0   \n",
       "\n",
       "   ...  RB1  NOTCH1  BCOR  CSMD3  SMARCA4  GRIN2A  IDH2  FAT4  PDGFRA  grade  \n",
       "0  ...    0       0     0      0        0       0     0     0       0    LGG  \n",
       "1  ...    0       0     0      0        0       0     0     0       0    LGG  \n",
       "2  ...    0       0     0      0        0       0     0     0       0    LGG  \n",
       "3  ...    0       0     0      0        0       0     0     1       0    LGG  \n",
       "4  ...    0       0     0      0        0       0     0     0       0    LGG  \n",
       "\n",
       "[5 rows x 25 columns]"
      ]
     },
     "execution_count": 1,
     "metadata": {},
     "output_type": "execute_result"
    }
   ],
   "source": [
    "import pandas as pd\n",
    "from plotly import express\n",
    "import warnings\n",
    "warnings.filterwarnings(action='ignore', category=FutureWarning)\n",
    "\n",
    "INFO = '/kaggle/input/glioma-grading-clinical-and-mutation-features/TCGA_InfoWithGrade.csv'\n",
    "df = pd.read_csv(filepath_or_buffer=INFO)\n",
    "df['grade'] = df['Grade'].map({0:'LGG', 1:'GMB'})\n",
    "df.head()"
   ]
  },
  {
   "cell_type": "markdown",
   "id": "5332a1c6",
   "metadata": {
    "papermill": {
     "duration": 0.00518,
     "end_time": "2024-03-06T16:19:41.426717",
     "exception": false,
     "start_time": "2024-03-06T16:19:41.421537",
     "status": "completed"
    },
    "tags": []
   },
   "source": [
    "Grade is our target variable; everything else is an input variable."
   ]
  },
  {
   "cell_type": "code",
   "execution_count": 2,
   "id": "9bd21d68",
   "metadata": {
    "execution": {
     "iopub.execute_input": "2024-03-06T16:19:41.439938Z",
     "iopub.status.busy": "2024-03-06T16:19:41.439491Z",
     "iopub.status.idle": "2024-03-06T16:19:43.554812Z",
     "shell.execute_reply": "2024-03-06T16:19:43.553554Z"
    },
    "papermill": {
     "duration": 2.125523,
     "end_time": "2024-03-06T16:19:43.557729",
     "exception": false,
     "start_time": "2024-03-06T16:19:41.432206",
     "status": "completed"
    },
    "tags": []
   },
   "outputs": [
    {
     "data": {
      "text/html": [
       "        <script type=\"text/javascript\">\n",
       "        window.PlotlyConfig = {MathJaxConfig: 'local'};\n",
       "        if (window.MathJax && window.MathJax.Hub && window.MathJax.Hub.Config) {window.MathJax.Hub.Config({SVG: {font: \"STIX-Web\"}});}\n",
       "        if (typeof require !== 'undefined') {\n",
       "        require.undef(\"plotly\");\n",
       "        requirejs.config({\n",
       "            paths: {\n",
       "                'plotly': ['https://cdn.plot.ly/plotly-2.27.0.min']\n",
       "            }\n",
       "        });\n",
       "        require(['plotly'], function(Plotly) {\n",
       "            window._Plotly = Plotly;\n",
       "        });\n",
       "        }\n",
       "        </script>\n",
       "        "
      ]
     },
     "metadata": {},
     "output_type": "display_data"
    },
    {
     "data": {
      "text/html": [
       "<div>                            <div id=\"f461630d-4077-4254-a601-947320da9b76\" class=\"plotly-graph-div\" style=\"height:525px; width:100%;\"></div>            <script type=\"text/javascript\">                require([\"plotly\"], function(Plotly) {                    window.PLOTLYENV=window.PLOTLYENV || {};                                    if (document.getElementById(\"f461630d-4077-4254-a601-947320da9b76\")) {                    Plotly.newPlot(                        \"f461630d-4077-4254-a601-947320da9b76\",                        [{\"customdata\":[[\"LGG\"],[\"LGG\"],[\"LGG\"],[\"LGG\"],[\"LGG\"],[\"LGG\"],[\"LGG\"],[\"LGG\"],[\"LGG\"],[\"LGG\"],[\"LGG\"],[\"LGG\"],[\"LGG\"],[\"LGG\"],[\"LGG\"],[\"LGG\"],[\"LGG\"],[\"LGG\"],[\"LGG\"],[\"LGG\"],[\"LGG\"],[\"LGG\"],[\"LGG\"],[\"LGG\"],[\"LGG\"],[\"LGG\"],[\"LGG\"],[\"LGG\"],[\"LGG\"],[\"LGG\"],[\"LGG\"],[\"LGG\"],[\"LGG\"],[\"LGG\"],[\"LGG\"],[\"LGG\"],[\"LGG\"],[\"LGG\"],[\"LGG\"],[\"LGG\"],[\"LGG\"],[\"LGG\"],[\"LGG\"],[\"LGG\"],[\"LGG\"],[\"LGG\"],[\"LGG\"],[\"LGG\"],[\"LGG\"],[\"LGG\"],[\"LGG\"],[\"LGG\"],[\"LGG\"],[\"LGG\"],[\"LGG\"],[\"LGG\"],[\"LGG\"],[\"LGG\"],[\"LGG\"],[\"LGG\"],[\"LGG\"],[\"LGG\"],[\"LGG\"],[\"LGG\"],[\"LGG\"],[\"LGG\"],[\"LGG\"],[\"LGG\"],[\"LGG\"],[\"LGG\"],[\"LGG\"],[\"LGG\"],[\"LGG\"],[\"LGG\"],[\"LGG\"],[\"LGG\"],[\"LGG\"],[\"LGG\"],[\"LGG\"],[\"LGG\"],[\"LGG\"],[\"LGG\"],[\"LGG\"],[\"LGG\"],[\"LGG\"],[\"LGG\"],[\"LGG\"],[\"LGG\"],[\"LGG\"],[\"LGG\"],[\"LGG\"],[\"LGG\"],[\"LGG\"],[\"LGG\"],[\"LGG\"],[\"LGG\"],[\"LGG\"],[\"LGG\"],[\"LGG\"],[\"LGG\"],[\"LGG\"],[\"LGG\"],[\"LGG\"],[\"LGG\"],[\"LGG\"],[\"LGG\"],[\"LGG\"],[\"LGG\"],[\"LGG\"],[\"LGG\"],[\"LGG\"],[\"LGG\"],[\"LGG\"],[\"LGG\"],[\"LGG\"],[\"LGG\"],[\"LGG\"],[\"LGG\"],[\"LGG\"],[\"LGG\"],[\"LGG\"],[\"LGG\"],[\"LGG\"],[\"LGG\"],[\"LGG\"],[\"LGG\"],[\"LGG\"],[\"LGG\"],[\"LGG\"],[\"LGG\"],[\"LGG\"],[\"LGG\"],[\"LGG\"],[\"LGG\"],[\"LGG\"],[\"LGG\"],[\"LGG\"],[\"LGG\"],[\"LGG\"],[\"LGG\"],[\"LGG\"],[\"LGG\"],[\"LGG\"],[\"LGG\"],[\"LGG\"],[\"LGG\"],[\"LGG\"],[\"LGG\"],[\"LGG\"],[\"LGG\"],[\"LGG\"],[\"LGG\"],[\"LGG\"],[\"LGG\"],[\"LGG\"],[\"LGG\"],[\"LGG\"],[\"LGG\"],[\"LGG\"],[\"LGG\"],[\"LGG\"],[\"LGG\"],[\"LGG\"],[\"LGG\"],[\"LGG\"],[\"LGG\"],[\"LGG\"],[\"LGG\"],[\"LGG\"],[\"LGG\"],[\"LGG\"],[\"LGG\"],[\"LGG\"],[\"LGG\"],[\"LGG\"],[\"LGG\"],[\"LGG\"],[\"LGG\"],[\"LGG\"],[\"LGG\"],[\"LGG\"],[\"LGG\"],[\"LGG\"],[\"LGG\"],[\"LGG\"],[\"LGG\"],[\"LGG\"],[\"LGG\"],[\"LGG\"],[\"LGG\"],[\"LGG\"],[\"LGG\"],[\"LGG\"],[\"LGG\"],[\"LGG\"],[\"LGG\"],[\"LGG\"],[\"LGG\"],[\"LGG\"],[\"LGG\"],[\"LGG\"],[\"LGG\"],[\"LGG\"],[\"LGG\"],[\"LGG\"],[\"LGG\"],[\"LGG\"],[\"LGG\"],[\"LGG\"],[\"LGG\"],[\"LGG\"],[\"LGG\"],[\"LGG\"],[\"LGG\"],[\"LGG\"],[\"LGG\"],[\"LGG\"],[\"LGG\"],[\"LGG\"],[\"LGG\"],[\"LGG\"],[\"LGG\"],[\"LGG\"],[\"LGG\"],[\"LGG\"],[\"LGG\"],[\"LGG\"],[\"LGG\"],[\"LGG\"],[\"LGG\"],[\"LGG\"],[\"LGG\"],[\"LGG\"],[\"LGG\"],[\"LGG\"],[\"LGG\"],[\"LGG\"],[\"LGG\"],[\"LGG\"],[\"LGG\"],[\"LGG\"],[\"LGG\"],[\"LGG\"],[\"LGG\"],[\"LGG\"],[\"LGG\"],[\"LGG\"],[\"LGG\"],[\"LGG\"],[\"LGG\"],[\"LGG\"],[\"LGG\"],[\"LGG\"],[\"LGG\"],[\"LGG\"],[\"LGG\"],[\"LGG\"],[\"LGG\"],[\"LGG\"],[\"LGG\"],[\"LGG\"],[\"LGG\"],[\"LGG\"],[\"LGG\"],[\"LGG\"],[\"LGG\"],[\"LGG\"],[\"LGG\"],[\"LGG\"],[\"LGG\"],[\"LGG\"],[\"LGG\"],[\"LGG\"],[\"LGG\"],[\"LGG\"],[\"LGG\"],[\"LGG\"],[\"LGG\"],[\"LGG\"],[\"LGG\"],[\"LGG\"],[\"LGG\"],[\"LGG\"],[\"LGG\"],[\"LGG\"],[\"LGG\"],[\"LGG\"],[\"LGG\"],[\"LGG\"],[\"LGG\"],[\"LGG\"],[\"LGG\"],[\"LGG\"],[\"LGG\"],[\"LGG\"],[\"LGG\"],[\"LGG\"],[\"LGG\"],[\"LGG\"],[\"LGG\"],[\"LGG\"],[\"LGG\"],[\"LGG\"],[\"LGG\"],[\"LGG\"],[\"LGG\"],[\"LGG\"],[\"LGG\"],[\"LGG\"],[\"LGG\"],[\"LGG\"],[\"LGG\"],[\"LGG\"],[\"LGG\"],[\"LGG\"],[\"LGG\"],[\"LGG\"],[\"LGG\"],[\"LGG\"],[\"LGG\"],[\"LGG\"],[\"LGG\"],[\"LGG\"],[\"LGG\"],[\"LGG\"],[\"LGG\"],[\"LGG\"],[\"LGG\"],[\"LGG\"],[\"LGG\"],[\"LGG\"],[\"LGG\"],[\"LGG\"],[\"LGG\"],[\"LGG\"],[\"LGG\"],[\"LGG\"],[\"LGG\"],[\"LGG\"],[\"LGG\"],[\"LGG\"],[\"LGG\"],[\"LGG\"],[\"LGG\"],[\"LGG\"],[\"LGG\"],[\"LGG\"],[\"LGG\"],[\"LGG\"],[\"LGG\"],[\"LGG\"],[\"LGG\"],[\"LGG\"],[\"LGG\"],[\"LGG\"],[\"LGG\"],[\"LGG\"],[\"LGG\"],[\"LGG\"],[\"LGG\"],[\"LGG\"],[\"LGG\"],[\"LGG\"],[\"LGG\"],[\"LGG\"],[\"LGG\"],[\"LGG\"],[\"LGG\"],[\"LGG\"],[\"LGG\"],[\"LGG\"],[\"LGG\"],[\"LGG\"],[\"LGG\"],[\"LGG\"],[\"LGG\"],[\"LGG\"],[\"LGG\"],[\"LGG\"],[\"LGG\"],[\"LGG\"],[\"LGG\"],[\"LGG\"],[\"LGG\"],[\"LGG\"],[\"LGG\"],[\"LGG\"],[\"LGG\"],[\"LGG\"],[\"LGG\"],[\"LGG\"],[\"LGG\"],[\"LGG\"],[\"LGG\"],[\"LGG\"],[\"LGG\"],[\"LGG\"],[\"LGG\"],[\"LGG\"],[\"LGG\"],[\"LGG\"],[\"LGG\"],[\"LGG\"],[\"LGG\"],[\"LGG\"],[\"LGG\"],[\"LGG\"],[\"LGG\"],[\"LGG\"],[\"LGG\"],[\"LGG\"],[\"LGG\"],[\"LGG\"],[\"LGG\"],[\"LGG\"],[\"LGG\"],[\"LGG\"],[\"LGG\"],[\"LGG\"],[\"LGG\"],[\"LGG\"],[\"LGG\"],[\"LGG\"],[\"LGG\"],[\"LGG\"],[\"LGG\"],[\"LGG\"],[\"LGG\"],[\"LGG\"],[\"LGG\"],[\"LGG\"],[\"LGG\"],[\"LGG\"],[\"LGG\"],[\"LGG\"],[\"LGG\"],[\"LGG\"],[\"LGG\"],[\"LGG\"],[\"LGG\"],[\"LGG\"],[\"LGG\"],[\"LGG\"],[\"LGG\"],[\"LGG\"],[\"LGG\"],[\"LGG\"],[\"LGG\"],[\"LGG\"],[\"LGG\"],[\"LGG\"],[\"LGG\"],[\"LGG\"],[\"LGG\"],[\"LGG\"],[\"LGG\"],[\"LGG\"],[\"LGG\"],[\"LGG\"],[\"LGG\"],[\"LGG\"],[\"LGG\"],[\"LGG\"],[\"LGG\"],[\"LGG\"],[\"LGG\"],[\"LGG\"],[\"LGG\"],[\"LGG\"],[\"LGG\"],[\"LGG\"],[\"LGG\"],[\"LGG\"],[\"LGG\"],[\"LGG\"],[\"LGG\"],[\"LGG\"],[\"LGG\"],[\"LGG\"],[\"LGG\"],[\"LGG\"],[\"LGG\"],[\"LGG\"],[\"LGG\"],[\"LGG\"],[\"LGG\"],[\"LGG\"],[\"GMB\"],[\"GMB\"],[\"GMB\"],[\"GMB\"],[\"GMB\"],[\"GMB\"],[\"GMB\"],[\"GMB\"],[\"GMB\"],[\"GMB\"],[\"GMB\"],[\"GMB\"],[\"GMB\"],[\"GMB\"],[\"GMB\"],[\"GMB\"],[\"GMB\"],[\"GMB\"],[\"GMB\"],[\"GMB\"],[\"GMB\"],[\"GMB\"],[\"GMB\"],[\"GMB\"],[\"GMB\"],[\"GMB\"],[\"GMB\"],[\"GMB\"],[\"GMB\"],[\"GMB\"],[\"GMB\"],[\"GMB\"],[\"GMB\"],[\"GMB\"],[\"GMB\"],[\"GMB\"],[\"GMB\"],[\"GMB\"],[\"GMB\"],[\"GMB\"],[\"GMB\"],[\"GMB\"],[\"GMB\"],[\"GMB\"],[\"GMB\"],[\"GMB\"],[\"GMB\"],[\"GMB\"],[\"GMB\"],[\"GMB\"],[\"GMB\"],[\"GMB\"],[\"GMB\"],[\"GMB\"],[\"GMB\"],[\"GMB\"],[\"GMB\"],[\"GMB\"],[\"GMB\"],[\"GMB\"],[\"GMB\"],[\"GMB\"],[\"GMB\"],[\"GMB\"],[\"GMB\"],[\"GMB\"],[\"GMB\"],[\"GMB\"],[\"GMB\"],[\"GMB\"],[\"GMB\"],[\"GMB\"],[\"GMB\"],[\"GMB\"],[\"GMB\"],[\"GMB\"],[\"GMB\"],[\"GMB\"],[\"GMB\"],[\"GMB\"],[\"GMB\"],[\"GMB\"],[\"GMB\"],[\"GMB\"],[\"GMB\"],[\"GMB\"],[\"GMB\"],[\"GMB\"],[\"GMB\"],[\"GMB\"],[\"GMB\"],[\"GMB\"],[\"GMB\"],[\"GMB\"],[\"GMB\"],[\"GMB\"],[\"GMB\"],[\"GMB\"],[\"GMB\"],[\"GMB\"],[\"GMB\"],[\"GMB\"],[\"GMB\"],[\"GMB\"],[\"GMB\"],[\"GMB\"],[\"GMB\"],[\"GMB\"],[\"GMB\"],[\"GMB\"],[\"GMB\"],[\"GMB\"],[\"GMB\"],[\"GMB\"],[\"GMB\"],[\"GMB\"],[\"GMB\"],[\"GMB\"],[\"GMB\"],[\"GMB\"],[\"GMB\"],[\"GMB\"],[\"GMB\"],[\"GMB\"],[\"GMB\"],[\"GMB\"],[\"GMB\"],[\"GMB\"],[\"GMB\"],[\"GMB\"],[\"GMB\"],[\"GMB\"],[\"GMB\"],[\"GMB\"],[\"GMB\"],[\"GMB\"],[\"GMB\"],[\"GMB\"],[\"GMB\"],[\"GMB\"],[\"GMB\"],[\"GMB\"],[\"GMB\"],[\"GMB\"],[\"GMB\"],[\"GMB\"],[\"GMB\"],[\"GMB\"],[\"GMB\"],[\"GMB\"],[\"GMB\"],[\"GMB\"],[\"GMB\"],[\"GMB\"],[\"GMB\"],[\"GMB\"],[\"GMB\"],[\"GMB\"],[\"GMB\"],[\"GMB\"],[\"GMB\"],[\"GMB\"],[\"GMB\"],[\"GMB\"],[\"GMB\"],[\"GMB\"],[\"GMB\"],[\"GMB\"],[\"GMB\"],[\"GMB\"],[\"GMB\"],[\"GMB\"],[\"GMB\"],[\"GMB\"],[\"GMB\"],[\"GMB\"],[\"GMB\"],[\"GMB\"],[\"GMB\"],[\"GMB\"],[\"GMB\"],[\"GMB\"],[\"GMB\"],[\"GMB\"],[\"GMB\"],[\"GMB\"],[\"GMB\"],[\"GMB\"],[\"GMB\"],[\"GMB\"],[\"GMB\"],[\"GMB\"],[\"GMB\"],[\"GMB\"],[\"GMB\"],[\"GMB\"],[\"GMB\"],[\"GMB\"],[\"GMB\"],[\"GMB\"],[\"GMB\"],[\"GMB\"],[\"GMB\"],[\"GMB\"],[\"GMB\"],[\"GMB\"],[\"GMB\"],[\"GMB\"],[\"GMB\"],[\"GMB\"],[\"GMB\"],[\"GMB\"],[\"GMB\"],[\"GMB\"],[\"GMB\"],[\"GMB\"],[\"GMB\"],[\"GMB\"],[\"GMB\"],[\"GMB\"],[\"GMB\"],[\"GMB\"],[\"GMB\"],[\"GMB\"],[\"GMB\"],[\"GMB\"],[\"GMB\"],[\"GMB\"],[\"GMB\"],[\"GMB\"],[\"GMB\"],[\"GMB\"],[\"GMB\"],[\"GMB\"],[\"GMB\"],[\"GMB\"],[\"GMB\"],[\"GMB\"],[\"GMB\"],[\"GMB\"],[\"GMB\"],[\"GMB\"],[\"GMB\"],[\"GMB\"],[\"GMB\"],[\"GMB\"],[\"GMB\"],[\"GMB\"],[\"GMB\"],[\"GMB\"],[\"GMB\"],[\"GMB\"],[\"GMB\"],[\"GMB\"],[\"GMB\"],[\"GMB\"],[\"GMB\"],[\"GMB\"],[\"GMB\"],[\"GMB\"],[\"GMB\"],[\"GMB\"],[\"GMB\"],[\"GMB\"],[\"GMB\"],[\"GMB\"],[\"GMB\"],[\"GMB\"],[\"GMB\"],[\"GMB\"],[\"GMB\"],[\"GMB\"],[\"GMB\"],[\"GMB\"],[\"GMB\"],[\"GMB\"],[\"GMB\"],[\"GMB\"],[\"GMB\"],[\"GMB\"],[\"GMB\"],[\"GMB\"],[\"GMB\"],[\"GMB\"],[\"GMB\"],[\"GMB\"],[\"GMB\"],[\"GMB\"],[\"GMB\"],[\"GMB\"],[\"GMB\"],[\"GMB\"],[\"GMB\"],[\"GMB\"],[\"GMB\"],[\"GMB\"],[\"GMB\"],[\"GMB\"],[\"GMB\"],[\"GMB\"],[\"GMB\"],[\"GMB\"],[\"GMB\"],[\"GMB\"],[\"GMB\"],[\"GMB\"],[\"GMB\"],[\"GMB\"],[\"GMB\"],[\"GMB\"],[\"GMB\"],[\"GMB\"],[\"GMB\"],[\"GMB\"],[\"GMB\"],[\"GMB\"],[\"GMB\"],[\"GMB\"],[\"GMB\"],[\"GMB\"],[\"GMB\"],[\"GMB\"],[\"GMB\"],[\"GMB\"],[\"GMB\"],[\"GMB\"],[\"GMB\"],[\"GMB\"],[\"GMB\"],[\"GMB\"],[\"GMB\"],[\"GMB\"],[\"GMB\"],[\"GMB\"],[\"GMB\"],[\"GMB\"],[\"GMB\"],[\"GMB\"],[\"GMB\"],[\"GMB\"],[\"GMB\"],[\"GMB\"],[\"GMB\"],[\"GMB\"],[\"GMB\"],[\"GMB\"],[\"GMB\"],[\"GMB\"],[\"GMB\"],[\"GMB\"],[\"GMB\"],[\"GMB\"]],\"domain\":{\"x\":[0.0,1.0],\"y\":[0.0,1.0]},\"hovertemplate\":\"grade=%{customdata[0]}\\u003cextra\\u003e\\u003c\\u002fextra\\u003e\",\"labels\":[\"LGG\",\"LGG\",\"LGG\",\"LGG\",\"LGG\",\"LGG\",\"LGG\",\"LGG\",\"LGG\",\"LGG\",\"LGG\",\"LGG\",\"LGG\",\"LGG\",\"LGG\",\"LGG\",\"LGG\",\"LGG\",\"LGG\",\"LGG\",\"LGG\",\"LGG\",\"LGG\",\"LGG\",\"LGG\",\"LGG\",\"LGG\",\"LGG\",\"LGG\",\"LGG\",\"LGG\",\"LGG\",\"LGG\",\"LGG\",\"LGG\",\"LGG\",\"LGG\",\"LGG\",\"LGG\",\"LGG\",\"LGG\",\"LGG\",\"LGG\",\"LGG\",\"LGG\",\"LGG\",\"LGG\",\"LGG\",\"LGG\",\"LGG\",\"LGG\",\"LGG\",\"LGG\",\"LGG\",\"LGG\",\"LGG\",\"LGG\",\"LGG\",\"LGG\",\"LGG\",\"LGG\",\"LGG\",\"LGG\",\"LGG\",\"LGG\",\"LGG\",\"LGG\",\"LGG\",\"LGG\",\"LGG\",\"LGG\",\"LGG\",\"LGG\",\"LGG\",\"LGG\",\"LGG\",\"LGG\",\"LGG\",\"LGG\",\"LGG\",\"LGG\",\"LGG\",\"LGG\",\"LGG\",\"LGG\",\"LGG\",\"LGG\",\"LGG\",\"LGG\",\"LGG\",\"LGG\",\"LGG\",\"LGG\",\"LGG\",\"LGG\",\"LGG\",\"LGG\",\"LGG\",\"LGG\",\"LGG\",\"LGG\",\"LGG\",\"LGG\",\"LGG\",\"LGG\",\"LGG\",\"LGG\",\"LGG\",\"LGG\",\"LGG\",\"LGG\",\"LGG\",\"LGG\",\"LGG\",\"LGG\",\"LGG\",\"LGG\",\"LGG\",\"LGG\",\"LGG\",\"LGG\",\"LGG\",\"LGG\",\"LGG\",\"LGG\",\"LGG\",\"LGG\",\"LGG\",\"LGG\",\"LGG\",\"LGG\",\"LGG\",\"LGG\",\"LGG\",\"LGG\",\"LGG\",\"LGG\",\"LGG\",\"LGG\",\"LGG\",\"LGG\",\"LGG\",\"LGG\",\"LGG\",\"LGG\",\"LGG\",\"LGG\",\"LGG\",\"LGG\",\"LGG\",\"LGG\",\"LGG\",\"LGG\",\"LGG\",\"LGG\",\"LGG\",\"LGG\",\"LGG\",\"LGG\",\"LGG\",\"LGG\",\"LGG\",\"LGG\",\"LGG\",\"LGG\",\"LGG\",\"LGG\",\"LGG\",\"LGG\",\"LGG\",\"LGG\",\"LGG\",\"LGG\",\"LGG\",\"LGG\",\"LGG\",\"LGG\",\"LGG\",\"LGG\",\"LGG\",\"LGG\",\"LGG\",\"LGG\",\"LGG\",\"LGG\",\"LGG\",\"LGG\",\"LGG\",\"LGG\",\"LGG\",\"LGG\",\"LGG\",\"LGG\",\"LGG\",\"LGG\",\"LGG\",\"LGG\",\"LGG\",\"LGG\",\"LGG\",\"LGG\",\"LGG\",\"LGG\",\"LGG\",\"LGG\",\"LGG\",\"LGG\",\"LGG\",\"LGG\",\"LGG\",\"LGG\",\"LGG\",\"LGG\",\"LGG\",\"LGG\",\"LGG\",\"LGG\",\"LGG\",\"LGG\",\"LGG\",\"LGG\",\"LGG\",\"LGG\",\"LGG\",\"LGG\",\"LGG\",\"LGG\",\"LGG\",\"LGG\",\"LGG\",\"LGG\",\"LGG\",\"LGG\",\"LGG\",\"LGG\",\"LGG\",\"LGG\",\"LGG\",\"LGG\",\"LGG\",\"LGG\",\"LGG\",\"LGG\",\"LGG\",\"LGG\",\"LGG\",\"LGG\",\"LGG\",\"LGG\",\"LGG\",\"LGG\",\"LGG\",\"LGG\",\"LGG\",\"LGG\",\"LGG\",\"LGG\",\"LGG\",\"LGG\",\"LGG\",\"LGG\",\"LGG\",\"LGG\",\"LGG\",\"LGG\",\"LGG\",\"LGG\",\"LGG\",\"LGG\",\"LGG\",\"LGG\",\"LGG\",\"LGG\",\"LGG\",\"LGG\",\"LGG\",\"LGG\",\"LGG\",\"LGG\",\"LGG\",\"LGG\",\"LGG\",\"LGG\",\"LGG\",\"LGG\",\"LGG\",\"LGG\",\"LGG\",\"LGG\",\"LGG\",\"LGG\",\"LGG\",\"LGG\",\"LGG\",\"LGG\",\"LGG\",\"LGG\",\"LGG\",\"LGG\",\"LGG\",\"LGG\",\"LGG\",\"LGG\",\"LGG\",\"LGG\",\"LGG\",\"LGG\",\"LGG\",\"LGG\",\"LGG\",\"LGG\",\"LGG\",\"LGG\",\"LGG\",\"LGG\",\"LGG\",\"LGG\",\"LGG\",\"LGG\",\"LGG\",\"LGG\",\"LGG\",\"LGG\",\"LGG\",\"LGG\",\"LGG\",\"LGG\",\"LGG\",\"LGG\",\"LGG\",\"LGG\",\"LGG\",\"LGG\",\"LGG\",\"LGG\",\"LGG\",\"LGG\",\"LGG\",\"LGG\",\"LGG\",\"LGG\",\"LGG\",\"LGG\",\"LGG\",\"LGG\",\"LGG\",\"LGG\",\"LGG\",\"LGG\",\"LGG\",\"LGG\",\"LGG\",\"LGG\",\"LGG\",\"LGG\",\"LGG\",\"LGG\",\"LGG\",\"LGG\",\"LGG\",\"LGG\",\"LGG\",\"LGG\",\"LGG\",\"LGG\",\"LGG\",\"LGG\",\"LGG\",\"LGG\",\"LGG\",\"LGG\",\"LGG\",\"LGG\",\"LGG\",\"LGG\",\"LGG\",\"LGG\",\"LGG\",\"LGG\",\"LGG\",\"LGG\",\"LGG\",\"LGG\",\"LGG\",\"LGG\",\"LGG\",\"LGG\",\"LGG\",\"LGG\",\"LGG\",\"LGG\",\"LGG\",\"LGG\",\"LGG\",\"LGG\",\"LGG\",\"LGG\",\"LGG\",\"LGG\",\"LGG\",\"LGG\",\"LGG\",\"LGG\",\"LGG\",\"LGG\",\"LGG\",\"LGG\",\"LGG\",\"LGG\",\"LGG\",\"LGG\",\"LGG\",\"LGG\",\"LGG\",\"LGG\",\"LGG\",\"LGG\",\"LGG\",\"LGG\",\"LGG\",\"LGG\",\"LGG\",\"LGG\",\"LGG\",\"LGG\",\"LGG\",\"LGG\",\"LGG\",\"LGG\",\"LGG\",\"LGG\",\"LGG\",\"LGG\",\"LGG\",\"LGG\",\"LGG\",\"LGG\",\"LGG\",\"LGG\",\"LGG\",\"LGG\",\"LGG\",\"LGG\",\"LGG\",\"LGG\",\"LGG\",\"LGG\",\"LGG\",\"LGG\",\"LGG\",\"LGG\",\"LGG\",\"LGG\",\"LGG\",\"LGG\",\"LGG\",\"LGG\",\"LGG\",\"LGG\",\"LGG\",\"LGG\",\"LGG\",\"LGG\",\"LGG\",\"LGG\",\"LGG\",\"LGG\",\"LGG\",\"LGG\",\"LGG\",\"LGG\",\"LGG\",\"LGG\",\"LGG\",\"LGG\",\"LGG\",\"LGG\",\"LGG\",\"LGG\",\"LGG\",\"LGG\",\"LGG\",\"LGG\",\"LGG\",\"LGG\",\"LGG\",\"LGG\",\"GMB\",\"GMB\",\"GMB\",\"GMB\",\"GMB\",\"GMB\",\"GMB\",\"GMB\",\"GMB\",\"GMB\",\"GMB\",\"GMB\",\"GMB\",\"GMB\",\"GMB\",\"GMB\",\"GMB\",\"GMB\",\"GMB\",\"GMB\",\"GMB\",\"GMB\",\"GMB\",\"GMB\",\"GMB\",\"GMB\",\"GMB\",\"GMB\",\"GMB\",\"GMB\",\"GMB\",\"GMB\",\"GMB\",\"GMB\",\"GMB\",\"GMB\",\"GMB\",\"GMB\",\"GMB\",\"GMB\",\"GMB\",\"GMB\",\"GMB\",\"GMB\",\"GMB\",\"GMB\",\"GMB\",\"GMB\",\"GMB\",\"GMB\",\"GMB\",\"GMB\",\"GMB\",\"GMB\",\"GMB\",\"GMB\",\"GMB\",\"GMB\",\"GMB\",\"GMB\",\"GMB\",\"GMB\",\"GMB\",\"GMB\",\"GMB\",\"GMB\",\"GMB\",\"GMB\",\"GMB\",\"GMB\",\"GMB\",\"GMB\",\"GMB\",\"GMB\",\"GMB\",\"GMB\",\"GMB\",\"GMB\",\"GMB\",\"GMB\",\"GMB\",\"GMB\",\"GMB\",\"GMB\",\"GMB\",\"GMB\",\"GMB\",\"GMB\",\"GMB\",\"GMB\",\"GMB\",\"GMB\",\"GMB\",\"GMB\",\"GMB\",\"GMB\",\"GMB\",\"GMB\",\"GMB\",\"GMB\",\"GMB\",\"GMB\",\"GMB\",\"GMB\",\"GMB\",\"GMB\",\"GMB\",\"GMB\",\"GMB\",\"GMB\",\"GMB\",\"GMB\",\"GMB\",\"GMB\",\"GMB\",\"GMB\",\"GMB\",\"GMB\",\"GMB\",\"GMB\",\"GMB\",\"GMB\",\"GMB\",\"GMB\",\"GMB\",\"GMB\",\"GMB\",\"GMB\",\"GMB\",\"GMB\",\"GMB\",\"GMB\",\"GMB\",\"GMB\",\"GMB\",\"GMB\",\"GMB\",\"GMB\",\"GMB\",\"GMB\",\"GMB\",\"GMB\",\"GMB\",\"GMB\",\"GMB\",\"GMB\",\"GMB\",\"GMB\",\"GMB\",\"GMB\",\"GMB\",\"GMB\",\"GMB\",\"GMB\",\"GMB\",\"GMB\",\"GMB\",\"GMB\",\"GMB\",\"GMB\",\"GMB\",\"GMB\",\"GMB\",\"GMB\",\"GMB\",\"GMB\",\"GMB\",\"GMB\",\"GMB\",\"GMB\",\"GMB\",\"GMB\",\"GMB\",\"GMB\",\"GMB\",\"GMB\",\"GMB\",\"GMB\",\"GMB\",\"GMB\",\"GMB\",\"GMB\",\"GMB\",\"GMB\",\"GMB\",\"GMB\",\"GMB\",\"GMB\",\"GMB\",\"GMB\",\"GMB\",\"GMB\",\"GMB\",\"GMB\",\"GMB\",\"GMB\",\"GMB\",\"GMB\",\"GMB\",\"GMB\",\"GMB\",\"GMB\",\"GMB\",\"GMB\",\"GMB\",\"GMB\",\"GMB\",\"GMB\",\"GMB\",\"GMB\",\"GMB\",\"GMB\",\"GMB\",\"GMB\",\"GMB\",\"GMB\",\"GMB\",\"GMB\",\"GMB\",\"GMB\",\"GMB\",\"GMB\",\"GMB\",\"GMB\",\"GMB\",\"GMB\",\"GMB\",\"GMB\",\"GMB\",\"GMB\",\"GMB\",\"GMB\",\"GMB\",\"GMB\",\"GMB\",\"GMB\",\"GMB\",\"GMB\",\"GMB\",\"GMB\",\"GMB\",\"GMB\",\"GMB\",\"GMB\",\"GMB\",\"GMB\",\"GMB\",\"GMB\",\"GMB\",\"GMB\",\"GMB\",\"GMB\",\"GMB\",\"GMB\",\"GMB\",\"GMB\",\"GMB\",\"GMB\",\"GMB\",\"GMB\",\"GMB\",\"GMB\",\"GMB\",\"GMB\",\"GMB\",\"GMB\",\"GMB\",\"GMB\",\"GMB\",\"GMB\",\"GMB\",\"GMB\",\"GMB\",\"GMB\",\"GMB\",\"GMB\",\"GMB\",\"GMB\",\"GMB\",\"GMB\",\"GMB\",\"GMB\",\"GMB\",\"GMB\",\"GMB\",\"GMB\",\"GMB\",\"GMB\",\"GMB\",\"GMB\",\"GMB\",\"GMB\",\"GMB\",\"GMB\",\"GMB\",\"GMB\",\"GMB\",\"GMB\",\"GMB\",\"GMB\",\"GMB\",\"GMB\",\"GMB\",\"GMB\",\"GMB\",\"GMB\",\"GMB\",\"GMB\",\"GMB\",\"GMB\",\"GMB\",\"GMB\",\"GMB\",\"GMB\",\"GMB\",\"GMB\",\"GMB\",\"GMB\",\"GMB\",\"GMB\",\"GMB\",\"GMB\",\"GMB\",\"GMB\",\"GMB\",\"GMB\",\"GMB\",\"GMB\",\"GMB\",\"GMB\",\"GMB\",\"GMB\",\"GMB\",\"GMB\",\"GMB\",\"GMB\",\"GMB\",\"GMB\",\"GMB\",\"GMB\",\"GMB\",\"GMB\",\"GMB\",\"GMB\",\"GMB\",\"GMB\",\"GMB\",\"GMB\",\"GMB\",\"GMB\",\"GMB\",\"GMB\"],\"legendgroup\":\"\",\"marker\":{\"colors\":[\"#636efa\",\"#636efa\",\"#636efa\",\"#636efa\",\"#636efa\",\"#636efa\",\"#636efa\",\"#636efa\",\"#636efa\",\"#636efa\",\"#636efa\",\"#636efa\",\"#636efa\",\"#636efa\",\"#636efa\",\"#636efa\",\"#636efa\",\"#636efa\",\"#636efa\",\"#636efa\",\"#636efa\",\"#636efa\",\"#636efa\",\"#636efa\",\"#636efa\",\"#636efa\",\"#636efa\",\"#636efa\",\"#636efa\",\"#636efa\",\"#636efa\",\"#636efa\",\"#636efa\",\"#636efa\",\"#636efa\",\"#636efa\",\"#636efa\",\"#636efa\",\"#636efa\",\"#636efa\",\"#636efa\",\"#636efa\",\"#636efa\",\"#636efa\",\"#636efa\",\"#636efa\",\"#636efa\",\"#636efa\",\"#636efa\",\"#636efa\",\"#636efa\",\"#636efa\",\"#636efa\",\"#636efa\",\"#636efa\",\"#636efa\",\"#636efa\",\"#636efa\",\"#636efa\",\"#636efa\",\"#636efa\",\"#636efa\",\"#636efa\",\"#636efa\",\"#636efa\",\"#636efa\",\"#636efa\",\"#636efa\",\"#636efa\",\"#636efa\",\"#636efa\",\"#636efa\",\"#636efa\",\"#636efa\",\"#636efa\",\"#636efa\",\"#636efa\",\"#636efa\",\"#636efa\",\"#636efa\",\"#636efa\",\"#636efa\",\"#636efa\",\"#636efa\",\"#636efa\",\"#636efa\",\"#636efa\",\"#636efa\",\"#636efa\",\"#636efa\",\"#636efa\",\"#636efa\",\"#636efa\",\"#636efa\",\"#636efa\",\"#636efa\",\"#636efa\",\"#636efa\",\"#636efa\",\"#636efa\",\"#636efa\",\"#636efa\",\"#636efa\",\"#636efa\",\"#636efa\",\"#636efa\",\"#636efa\",\"#636efa\",\"#636efa\",\"#636efa\",\"#636efa\",\"#636efa\",\"#636efa\",\"#636efa\",\"#636efa\",\"#636efa\",\"#636efa\",\"#636efa\",\"#636efa\",\"#636efa\",\"#636efa\",\"#636efa\",\"#636efa\",\"#636efa\",\"#636efa\",\"#636efa\",\"#636efa\",\"#636efa\",\"#636efa\",\"#636efa\",\"#636efa\",\"#636efa\",\"#636efa\",\"#636efa\",\"#636efa\",\"#636efa\",\"#636efa\",\"#636efa\",\"#636efa\",\"#636efa\",\"#636efa\",\"#636efa\",\"#636efa\",\"#636efa\",\"#636efa\",\"#636efa\",\"#636efa\",\"#636efa\",\"#636efa\",\"#636efa\",\"#636efa\",\"#636efa\",\"#636efa\",\"#636efa\",\"#636efa\",\"#636efa\",\"#636efa\",\"#636efa\",\"#636efa\",\"#636efa\",\"#636efa\",\"#636efa\",\"#636efa\",\"#636efa\",\"#636efa\",\"#636efa\",\"#636efa\",\"#636efa\",\"#636efa\",\"#636efa\",\"#636efa\",\"#636efa\",\"#636efa\",\"#636efa\",\"#636efa\",\"#636efa\",\"#636efa\",\"#636efa\",\"#636efa\",\"#636efa\",\"#636efa\",\"#636efa\",\"#636efa\",\"#636efa\",\"#636efa\",\"#636efa\",\"#636efa\",\"#636efa\",\"#636efa\",\"#636efa\",\"#636efa\",\"#636efa\",\"#636efa\",\"#636efa\",\"#636efa\",\"#636efa\",\"#636efa\",\"#636efa\",\"#636efa\",\"#636efa\",\"#636efa\",\"#636efa\",\"#636efa\",\"#636efa\",\"#636efa\",\"#636efa\",\"#636efa\",\"#636efa\",\"#636efa\",\"#636efa\",\"#636efa\",\"#636efa\",\"#636efa\",\"#636efa\",\"#636efa\",\"#636efa\",\"#636efa\",\"#636efa\",\"#636efa\",\"#636efa\",\"#636efa\",\"#636efa\",\"#636efa\",\"#636efa\",\"#636efa\",\"#636efa\",\"#636efa\",\"#636efa\",\"#636efa\",\"#636efa\",\"#636efa\",\"#636efa\",\"#636efa\",\"#636efa\",\"#636efa\",\"#636efa\",\"#636efa\",\"#636efa\",\"#636efa\",\"#636efa\",\"#636efa\",\"#636efa\",\"#636efa\",\"#636efa\",\"#636efa\",\"#636efa\",\"#636efa\",\"#636efa\",\"#636efa\",\"#636efa\",\"#636efa\",\"#636efa\",\"#636efa\",\"#636efa\",\"#636efa\",\"#636efa\",\"#636efa\",\"#636efa\",\"#636efa\",\"#636efa\",\"#636efa\",\"#636efa\",\"#636efa\",\"#636efa\",\"#636efa\",\"#636efa\",\"#636efa\",\"#636efa\",\"#636efa\",\"#636efa\",\"#636efa\",\"#636efa\",\"#636efa\",\"#636efa\",\"#636efa\",\"#636efa\",\"#636efa\",\"#636efa\",\"#636efa\",\"#636efa\",\"#636efa\",\"#636efa\",\"#636efa\",\"#636efa\",\"#636efa\",\"#636efa\",\"#636efa\",\"#636efa\",\"#636efa\",\"#636efa\",\"#636efa\",\"#636efa\",\"#636efa\",\"#636efa\",\"#636efa\",\"#636efa\",\"#636efa\",\"#636efa\",\"#636efa\",\"#636efa\",\"#636efa\",\"#636efa\",\"#636efa\",\"#636efa\",\"#636efa\",\"#636efa\",\"#636efa\",\"#636efa\",\"#636efa\",\"#636efa\",\"#636efa\",\"#636efa\",\"#636efa\",\"#636efa\",\"#636efa\",\"#636efa\",\"#636efa\",\"#636efa\",\"#636efa\",\"#636efa\",\"#636efa\",\"#636efa\",\"#636efa\",\"#636efa\",\"#636efa\",\"#636efa\",\"#636efa\",\"#636efa\",\"#636efa\",\"#636efa\",\"#636efa\",\"#636efa\",\"#636efa\",\"#636efa\",\"#636efa\",\"#636efa\",\"#636efa\",\"#636efa\",\"#636efa\",\"#636efa\",\"#636efa\",\"#636efa\",\"#636efa\",\"#636efa\",\"#636efa\",\"#636efa\",\"#636efa\",\"#636efa\",\"#636efa\",\"#636efa\",\"#636efa\",\"#636efa\",\"#636efa\",\"#636efa\",\"#636efa\",\"#636efa\",\"#636efa\",\"#636efa\",\"#636efa\",\"#636efa\",\"#636efa\",\"#636efa\",\"#636efa\",\"#636efa\",\"#636efa\",\"#636efa\",\"#636efa\",\"#636efa\",\"#636efa\",\"#636efa\",\"#636efa\",\"#636efa\",\"#636efa\",\"#636efa\",\"#636efa\",\"#636efa\",\"#636efa\",\"#636efa\",\"#636efa\",\"#636efa\",\"#636efa\",\"#636efa\",\"#636efa\",\"#636efa\",\"#636efa\",\"#636efa\",\"#636efa\",\"#636efa\",\"#636efa\",\"#636efa\",\"#636efa\",\"#636efa\",\"#636efa\",\"#636efa\",\"#636efa\",\"#636efa\",\"#636efa\",\"#636efa\",\"#636efa\",\"#636efa\",\"#636efa\",\"#636efa\",\"#636efa\",\"#636efa\",\"#636efa\",\"#636efa\",\"#636efa\",\"#636efa\",\"#636efa\",\"#636efa\",\"#636efa\",\"#636efa\",\"#636efa\",\"#636efa\",\"#636efa\",\"#636efa\",\"#636efa\",\"#636efa\",\"#636efa\",\"#636efa\",\"#636efa\",\"#636efa\",\"#636efa\",\"#636efa\",\"#636efa\",\"#636efa\",\"#636efa\",\"#636efa\",\"#636efa\",\"#636efa\",\"#636efa\",\"#636efa\",\"#636efa\",\"#636efa\",\"#636efa\",\"#636efa\",\"#636efa\",\"#636efa\",\"#636efa\",\"#636efa\",\"#636efa\",\"#636efa\",\"#636efa\",\"#636efa\",\"#636efa\",\"#636efa\",\"#636efa\",\"#636efa\",\"#636efa\",\"#636efa\",\"#636efa\",\"#636efa\",\"#636efa\",\"#636efa\",\"#636efa\",\"#636efa\",\"#636efa\",\"#636efa\",\"#636efa\",\"#636efa\",\"#636efa\",\"#636efa\",\"#636efa\",\"#636efa\",\"#636efa\",\"#636efa\",\"#636efa\",\"#636efa\",\"#636efa\",\"#636efa\",\"#636efa\",\"#636efa\",\"#636efa\",\"#636efa\",\"#636efa\",\"#636efa\",\"#636efa\",\"#636efa\",\"#636efa\",\"#636efa\",\"#636efa\",\"#636efa\",\"#636efa\",\"#636efa\",\"#636efa\",\"#636efa\",\"#636efa\",\"#EF553B\",\"#EF553B\",\"#EF553B\",\"#EF553B\",\"#EF553B\",\"#EF553B\",\"#EF553B\",\"#EF553B\",\"#EF553B\",\"#EF553B\",\"#EF553B\",\"#EF553B\",\"#EF553B\",\"#EF553B\",\"#EF553B\",\"#EF553B\",\"#EF553B\",\"#EF553B\",\"#EF553B\",\"#EF553B\",\"#EF553B\",\"#EF553B\",\"#EF553B\",\"#EF553B\",\"#EF553B\",\"#EF553B\",\"#EF553B\",\"#EF553B\",\"#EF553B\",\"#EF553B\",\"#EF553B\",\"#EF553B\",\"#EF553B\",\"#EF553B\",\"#EF553B\",\"#EF553B\",\"#EF553B\",\"#EF553B\",\"#EF553B\",\"#EF553B\",\"#EF553B\",\"#EF553B\",\"#EF553B\",\"#EF553B\",\"#EF553B\",\"#EF553B\",\"#EF553B\",\"#EF553B\",\"#EF553B\",\"#EF553B\",\"#EF553B\",\"#EF553B\",\"#EF553B\",\"#EF553B\",\"#EF553B\",\"#EF553B\",\"#EF553B\",\"#EF553B\",\"#EF553B\",\"#EF553B\",\"#EF553B\",\"#EF553B\",\"#EF553B\",\"#EF553B\",\"#EF553B\",\"#EF553B\",\"#EF553B\",\"#EF553B\",\"#EF553B\",\"#EF553B\",\"#EF553B\",\"#EF553B\",\"#EF553B\",\"#EF553B\",\"#EF553B\",\"#EF553B\",\"#EF553B\",\"#EF553B\",\"#EF553B\",\"#EF553B\",\"#EF553B\",\"#EF553B\",\"#EF553B\",\"#EF553B\",\"#EF553B\",\"#EF553B\",\"#EF553B\",\"#EF553B\",\"#EF553B\",\"#EF553B\",\"#EF553B\",\"#EF553B\",\"#EF553B\",\"#EF553B\",\"#EF553B\",\"#EF553B\",\"#EF553B\",\"#EF553B\",\"#EF553B\",\"#EF553B\",\"#EF553B\",\"#EF553B\",\"#EF553B\",\"#EF553B\",\"#EF553B\",\"#EF553B\",\"#EF553B\",\"#EF553B\",\"#EF553B\",\"#EF553B\",\"#EF553B\",\"#EF553B\",\"#EF553B\",\"#EF553B\",\"#EF553B\",\"#EF553B\",\"#EF553B\",\"#EF553B\",\"#EF553B\",\"#EF553B\",\"#EF553B\",\"#EF553B\",\"#EF553B\",\"#EF553B\",\"#EF553B\",\"#EF553B\",\"#EF553B\",\"#EF553B\",\"#EF553B\",\"#EF553B\",\"#EF553B\",\"#EF553B\",\"#EF553B\",\"#EF553B\",\"#EF553B\",\"#EF553B\",\"#EF553B\",\"#EF553B\",\"#EF553B\",\"#EF553B\",\"#EF553B\",\"#EF553B\",\"#EF553B\",\"#EF553B\",\"#EF553B\",\"#EF553B\",\"#EF553B\",\"#EF553B\",\"#EF553B\",\"#EF553B\",\"#EF553B\",\"#EF553B\",\"#EF553B\",\"#EF553B\",\"#EF553B\",\"#EF553B\",\"#EF553B\",\"#EF553B\",\"#EF553B\",\"#EF553B\",\"#EF553B\",\"#EF553B\",\"#EF553B\",\"#EF553B\",\"#EF553B\",\"#EF553B\",\"#EF553B\",\"#EF553B\",\"#EF553B\",\"#EF553B\",\"#EF553B\",\"#EF553B\",\"#EF553B\",\"#EF553B\",\"#EF553B\",\"#EF553B\",\"#EF553B\",\"#EF553B\",\"#EF553B\",\"#EF553B\",\"#EF553B\",\"#EF553B\",\"#EF553B\",\"#EF553B\",\"#EF553B\",\"#EF553B\",\"#EF553B\",\"#EF553B\",\"#EF553B\",\"#EF553B\",\"#EF553B\",\"#EF553B\",\"#EF553B\",\"#EF553B\",\"#EF553B\",\"#EF553B\",\"#EF553B\",\"#EF553B\",\"#EF553B\",\"#EF553B\",\"#EF553B\",\"#EF553B\",\"#EF553B\",\"#EF553B\",\"#EF553B\",\"#EF553B\",\"#EF553B\",\"#EF553B\",\"#EF553B\",\"#EF553B\",\"#EF553B\",\"#EF553B\",\"#EF553B\",\"#EF553B\",\"#EF553B\",\"#EF553B\",\"#EF553B\",\"#EF553B\",\"#EF553B\",\"#EF553B\",\"#EF553B\",\"#EF553B\",\"#EF553B\",\"#EF553B\",\"#EF553B\",\"#EF553B\",\"#EF553B\",\"#EF553B\",\"#EF553B\",\"#EF553B\",\"#EF553B\",\"#EF553B\",\"#EF553B\",\"#EF553B\",\"#EF553B\",\"#EF553B\",\"#EF553B\",\"#EF553B\",\"#EF553B\",\"#EF553B\",\"#EF553B\",\"#EF553B\",\"#EF553B\",\"#EF553B\",\"#EF553B\",\"#EF553B\",\"#EF553B\",\"#EF553B\",\"#EF553B\",\"#EF553B\",\"#EF553B\",\"#EF553B\",\"#EF553B\",\"#EF553B\",\"#EF553B\",\"#EF553B\",\"#EF553B\",\"#EF553B\",\"#EF553B\",\"#EF553B\",\"#EF553B\",\"#EF553B\",\"#EF553B\",\"#EF553B\",\"#EF553B\",\"#EF553B\",\"#EF553B\",\"#EF553B\",\"#EF553B\",\"#EF553B\",\"#EF553B\",\"#EF553B\",\"#EF553B\",\"#EF553B\",\"#EF553B\",\"#EF553B\",\"#EF553B\",\"#EF553B\",\"#EF553B\",\"#EF553B\",\"#EF553B\",\"#EF553B\",\"#EF553B\",\"#EF553B\",\"#EF553B\",\"#EF553B\",\"#EF553B\",\"#EF553B\",\"#EF553B\",\"#EF553B\",\"#EF553B\",\"#EF553B\",\"#EF553B\",\"#EF553B\",\"#EF553B\",\"#EF553B\",\"#EF553B\",\"#EF553B\",\"#EF553B\",\"#EF553B\",\"#EF553B\",\"#EF553B\",\"#EF553B\",\"#EF553B\",\"#EF553B\",\"#EF553B\",\"#EF553B\",\"#EF553B\",\"#EF553B\",\"#EF553B\",\"#EF553B\",\"#EF553B\",\"#EF553B\",\"#EF553B\",\"#EF553B\",\"#EF553B\",\"#EF553B\",\"#EF553B\",\"#EF553B\",\"#EF553B\",\"#EF553B\",\"#EF553B\",\"#EF553B\",\"#EF553B\",\"#EF553B\",\"#EF553B\",\"#EF553B\",\"#EF553B\",\"#EF553B\",\"#EF553B\",\"#EF553B\",\"#EF553B\",\"#EF553B\",\"#EF553B\",\"#EF553B\",\"#EF553B\",\"#EF553B\",\"#EF553B\",\"#EF553B\",\"#EF553B\",\"#EF553B\",\"#EF553B\",\"#EF553B\",\"#EF553B\",\"#EF553B\",\"#EF553B\",\"#EF553B\",\"#EF553B\",\"#EF553B\",\"#EF553B\",\"#EF553B\",\"#EF553B\"]},\"name\":\"\",\"showlegend\":true,\"type\":\"pie\"}],                        {\"template\":{\"data\":{\"histogram2dcontour\":[{\"type\":\"histogram2dcontour\",\"colorbar\":{\"outlinewidth\":0,\"ticks\":\"\"},\"colorscale\":[[0.0,\"#0d0887\"],[0.1111111111111111,\"#46039f\"],[0.2222222222222222,\"#7201a8\"],[0.3333333333333333,\"#9c179e\"],[0.4444444444444444,\"#bd3786\"],[0.5555555555555556,\"#d8576b\"],[0.6666666666666666,\"#ed7953\"],[0.7777777777777778,\"#fb9f3a\"],[0.8888888888888888,\"#fdca26\"],[1.0,\"#f0f921\"]]}],\"choropleth\":[{\"type\":\"choropleth\",\"colorbar\":{\"outlinewidth\":0,\"ticks\":\"\"}}],\"histogram2d\":[{\"type\":\"histogram2d\",\"colorbar\":{\"outlinewidth\":0,\"ticks\":\"\"},\"colorscale\":[[0.0,\"#0d0887\"],[0.1111111111111111,\"#46039f\"],[0.2222222222222222,\"#7201a8\"],[0.3333333333333333,\"#9c179e\"],[0.4444444444444444,\"#bd3786\"],[0.5555555555555556,\"#d8576b\"],[0.6666666666666666,\"#ed7953\"],[0.7777777777777778,\"#fb9f3a\"],[0.8888888888888888,\"#fdca26\"],[1.0,\"#f0f921\"]]}],\"heatmap\":[{\"type\":\"heatmap\",\"colorbar\":{\"outlinewidth\":0,\"ticks\":\"\"},\"colorscale\":[[0.0,\"#0d0887\"],[0.1111111111111111,\"#46039f\"],[0.2222222222222222,\"#7201a8\"],[0.3333333333333333,\"#9c179e\"],[0.4444444444444444,\"#bd3786\"],[0.5555555555555556,\"#d8576b\"],[0.6666666666666666,\"#ed7953\"],[0.7777777777777778,\"#fb9f3a\"],[0.8888888888888888,\"#fdca26\"],[1.0,\"#f0f921\"]]}],\"heatmapgl\":[{\"type\":\"heatmapgl\",\"colorbar\":{\"outlinewidth\":0,\"ticks\":\"\"},\"colorscale\":[[0.0,\"#0d0887\"],[0.1111111111111111,\"#46039f\"],[0.2222222222222222,\"#7201a8\"],[0.3333333333333333,\"#9c179e\"],[0.4444444444444444,\"#bd3786\"],[0.5555555555555556,\"#d8576b\"],[0.6666666666666666,\"#ed7953\"],[0.7777777777777778,\"#fb9f3a\"],[0.8888888888888888,\"#fdca26\"],[1.0,\"#f0f921\"]]}],\"contourcarpet\":[{\"type\":\"contourcarpet\",\"colorbar\":{\"outlinewidth\":0,\"ticks\":\"\"}}],\"contour\":[{\"type\":\"contour\",\"colorbar\":{\"outlinewidth\":0,\"ticks\":\"\"},\"colorscale\":[[0.0,\"#0d0887\"],[0.1111111111111111,\"#46039f\"],[0.2222222222222222,\"#7201a8\"],[0.3333333333333333,\"#9c179e\"],[0.4444444444444444,\"#bd3786\"],[0.5555555555555556,\"#d8576b\"],[0.6666666666666666,\"#ed7953\"],[0.7777777777777778,\"#fb9f3a\"],[0.8888888888888888,\"#fdca26\"],[1.0,\"#f0f921\"]]}],\"surface\":[{\"type\":\"surface\",\"colorbar\":{\"outlinewidth\":0,\"ticks\":\"\"},\"colorscale\":[[0.0,\"#0d0887\"],[0.1111111111111111,\"#46039f\"],[0.2222222222222222,\"#7201a8\"],[0.3333333333333333,\"#9c179e\"],[0.4444444444444444,\"#bd3786\"],[0.5555555555555556,\"#d8576b\"],[0.6666666666666666,\"#ed7953\"],[0.7777777777777778,\"#fb9f3a\"],[0.8888888888888888,\"#fdca26\"],[1.0,\"#f0f921\"]]}],\"mesh3d\":[{\"type\":\"mesh3d\",\"colorbar\":{\"outlinewidth\":0,\"ticks\":\"\"}}],\"scatter\":[{\"fillpattern\":{\"fillmode\":\"overlay\",\"size\":10,\"solidity\":0.2},\"type\":\"scatter\"}],\"parcoords\":[{\"type\":\"parcoords\",\"line\":{\"colorbar\":{\"outlinewidth\":0,\"ticks\":\"\"}}}],\"scatterpolargl\":[{\"type\":\"scatterpolargl\",\"marker\":{\"colorbar\":{\"outlinewidth\":0,\"ticks\":\"\"}}}],\"bar\":[{\"error_x\":{\"color\":\"#2a3f5f\"},\"error_y\":{\"color\":\"#2a3f5f\"},\"marker\":{\"line\":{\"color\":\"#E5ECF6\",\"width\":0.5},\"pattern\":{\"fillmode\":\"overlay\",\"size\":10,\"solidity\":0.2}},\"type\":\"bar\"}],\"scattergeo\":[{\"type\":\"scattergeo\",\"marker\":{\"colorbar\":{\"outlinewidth\":0,\"ticks\":\"\"}}}],\"scatterpolar\":[{\"type\":\"scatterpolar\",\"marker\":{\"colorbar\":{\"outlinewidth\":0,\"ticks\":\"\"}}}],\"histogram\":[{\"marker\":{\"pattern\":{\"fillmode\":\"overlay\",\"size\":10,\"solidity\":0.2}},\"type\":\"histogram\"}],\"scattergl\":[{\"type\":\"scattergl\",\"marker\":{\"colorbar\":{\"outlinewidth\":0,\"ticks\":\"\"}}}],\"scatter3d\":[{\"type\":\"scatter3d\",\"line\":{\"colorbar\":{\"outlinewidth\":0,\"ticks\":\"\"}},\"marker\":{\"colorbar\":{\"outlinewidth\":0,\"ticks\":\"\"}}}],\"scattermapbox\":[{\"type\":\"scattermapbox\",\"marker\":{\"colorbar\":{\"outlinewidth\":0,\"ticks\":\"\"}}}],\"scatterternary\":[{\"type\":\"scatterternary\",\"marker\":{\"colorbar\":{\"outlinewidth\":0,\"ticks\":\"\"}}}],\"scattercarpet\":[{\"type\":\"scattercarpet\",\"marker\":{\"colorbar\":{\"outlinewidth\":0,\"ticks\":\"\"}}}],\"carpet\":[{\"aaxis\":{\"endlinecolor\":\"#2a3f5f\",\"gridcolor\":\"white\",\"linecolor\":\"white\",\"minorgridcolor\":\"white\",\"startlinecolor\":\"#2a3f5f\"},\"baxis\":{\"endlinecolor\":\"#2a3f5f\",\"gridcolor\":\"white\",\"linecolor\":\"white\",\"minorgridcolor\":\"white\",\"startlinecolor\":\"#2a3f5f\"},\"type\":\"carpet\"}],\"table\":[{\"cells\":{\"fill\":{\"color\":\"#EBF0F8\"},\"line\":{\"color\":\"white\"}},\"header\":{\"fill\":{\"color\":\"#C8D4E3\"},\"line\":{\"color\":\"white\"}},\"type\":\"table\"}],\"barpolar\":[{\"marker\":{\"line\":{\"color\":\"#E5ECF6\",\"width\":0.5},\"pattern\":{\"fillmode\":\"overlay\",\"size\":10,\"solidity\":0.2}},\"type\":\"barpolar\"}],\"pie\":[{\"automargin\":true,\"type\":\"pie\"}]},\"layout\":{\"autotypenumbers\":\"strict\",\"colorway\":[\"#636efa\",\"#EF553B\",\"#00cc96\",\"#ab63fa\",\"#FFA15A\",\"#19d3f3\",\"#FF6692\",\"#B6E880\",\"#FF97FF\",\"#FECB52\"],\"font\":{\"color\":\"#2a3f5f\"},\"hovermode\":\"closest\",\"hoverlabel\":{\"align\":\"left\"},\"paper_bgcolor\":\"white\",\"plot_bgcolor\":\"#E5ECF6\",\"polar\":{\"bgcolor\":\"#E5ECF6\",\"angularaxis\":{\"gridcolor\":\"white\",\"linecolor\":\"white\",\"ticks\":\"\"},\"radialaxis\":{\"gridcolor\":\"white\",\"linecolor\":\"white\",\"ticks\":\"\"}},\"ternary\":{\"bgcolor\":\"#E5ECF6\",\"aaxis\":{\"gridcolor\":\"white\",\"linecolor\":\"white\",\"ticks\":\"\"},\"baxis\":{\"gridcolor\":\"white\",\"linecolor\":\"white\",\"ticks\":\"\"},\"caxis\":{\"gridcolor\":\"white\",\"linecolor\":\"white\",\"ticks\":\"\"}},\"coloraxis\":{\"colorbar\":{\"outlinewidth\":0,\"ticks\":\"\"}},\"colorscale\":{\"sequential\":[[0.0,\"#0d0887\"],[0.1111111111111111,\"#46039f\"],[0.2222222222222222,\"#7201a8\"],[0.3333333333333333,\"#9c179e\"],[0.4444444444444444,\"#bd3786\"],[0.5555555555555556,\"#d8576b\"],[0.6666666666666666,\"#ed7953\"],[0.7777777777777778,\"#fb9f3a\"],[0.8888888888888888,\"#fdca26\"],[1.0,\"#f0f921\"]],\"sequentialminus\":[[0.0,\"#0d0887\"],[0.1111111111111111,\"#46039f\"],[0.2222222222222222,\"#7201a8\"],[0.3333333333333333,\"#9c179e\"],[0.4444444444444444,\"#bd3786\"],[0.5555555555555556,\"#d8576b\"],[0.6666666666666666,\"#ed7953\"],[0.7777777777777778,\"#fb9f3a\"],[0.8888888888888888,\"#fdca26\"],[1.0,\"#f0f921\"]],\"diverging\":[[0,\"#8e0152\"],[0.1,\"#c51b7d\"],[0.2,\"#de77ae\"],[0.3,\"#f1b6da\"],[0.4,\"#fde0ef\"],[0.5,\"#f7f7f7\"],[0.6,\"#e6f5d0\"],[0.7,\"#b8e186\"],[0.8,\"#7fbc41\"],[0.9,\"#4d9221\"],[1,\"#276419\"]]},\"xaxis\":{\"gridcolor\":\"white\",\"linecolor\":\"white\",\"ticks\":\"\",\"title\":{\"standoff\":15},\"zerolinecolor\":\"white\",\"automargin\":true,\"zerolinewidth\":2},\"yaxis\":{\"gridcolor\":\"white\",\"linecolor\":\"white\",\"ticks\":\"\",\"title\":{\"standoff\":15},\"zerolinecolor\":\"white\",\"automargin\":true,\"zerolinewidth\":2},\"scene\":{\"xaxis\":{\"backgroundcolor\":\"#E5ECF6\",\"gridcolor\":\"white\",\"linecolor\":\"white\",\"showbackground\":true,\"ticks\":\"\",\"zerolinecolor\":\"white\",\"gridwidth\":2},\"yaxis\":{\"backgroundcolor\":\"#E5ECF6\",\"gridcolor\":\"white\",\"linecolor\":\"white\",\"showbackground\":true,\"ticks\":\"\",\"zerolinecolor\":\"white\",\"gridwidth\":2},\"zaxis\":{\"backgroundcolor\":\"#E5ECF6\",\"gridcolor\":\"white\",\"linecolor\":\"white\",\"showbackground\":true,\"ticks\":\"\",\"zerolinecolor\":\"white\",\"gridwidth\":2}},\"shapedefaults\":{\"line\":{\"color\":\"#2a3f5f\"}},\"annotationdefaults\":{\"arrowcolor\":\"#2a3f5f\",\"arrowhead\":0,\"arrowwidth\":1},\"geo\":{\"bgcolor\":\"white\",\"landcolor\":\"#E5ECF6\",\"subunitcolor\":\"white\",\"showland\":true,\"showlakes\":true,\"lakecolor\":\"white\"},\"title\":{\"x\":0.05},\"mapbox\":{\"style\":\"light\"}}},\"legend\":{\"tracegroupgap\":0},\"margin\":{\"t\":60}},                        {\"responsive\": true}                    ).then(function(){\n",
       "                            \n",
       "var gd = document.getElementById('f461630d-4077-4254-a601-947320da9b76');\n",
       "var x = new MutationObserver(function (mutations, observer) {{\n",
       "        var display = window.getComputedStyle(gd).display;\n",
       "        if (!display || display === 'none') {{\n",
       "            console.log([gd, 'removed!']);\n",
       "            Plotly.purge(gd);\n",
       "            observer.disconnect();\n",
       "        }}\n",
       "}});\n",
       "\n",
       "// Listen for the removal of the full notebook cells\n",
       "var notebookContainer = gd.closest('#notebook-container');\n",
       "if (notebookContainer) {{\n",
       "    x.observe(notebookContainer, {childList: true});\n",
       "}}\n",
       "\n",
       "// Listen for the clearing of the current output cell\n",
       "var outputEl = gd.closest('.output');\n",
       "if (outputEl) {{\n",
       "    x.observe(outputEl, {childList: true});\n",
       "}}\n",
       "\n",
       "                        })                };                });            </script>        </div>"
      ]
     },
     "metadata": {},
     "output_type": "display_data"
    }
   ],
   "source": [
    "express.pie(data_frame=df, names='grade',  color='grade')"
   ]
  },
  {
   "cell_type": "markdown",
   "id": "2483a331",
   "metadata": {
    "papermill": {
     "duration": 0.005708,
     "end_time": "2024-03-06T16:19:43.569848",
     "exception": false,
     "start_time": "2024-03-06T16:19:43.564140",
     "status": "completed"
    },
    "tags": []
   },
   "source": [
    "Our classes are moderately unbalanced."
   ]
  },
  {
   "cell_type": "code",
   "execution_count": 3,
   "id": "c2af16ff",
   "metadata": {
    "execution": {
     "iopub.execute_input": "2024-03-06T16:19:43.583675Z",
     "iopub.status.busy": "2024-03-06T16:19:43.583231Z",
     "iopub.status.idle": "2024-03-06T16:19:43.762834Z",
     "shell.execute_reply": "2024-03-06T16:19:43.761688Z"
    },
    "papermill": {
     "duration": 0.189986,
     "end_time": "2024-03-06T16:19:43.765776",
     "exception": false,
     "start_time": "2024-03-06T16:19:43.575790",
     "status": "completed"
    },
    "tags": []
   },
   "outputs": [
    {
     "data": {
      "text/html": [
       "<div>                            <div id=\"ec6968c5-8dda-400e-a83f-e7815a7fe472\" class=\"plotly-graph-div\" style=\"height:525px; width:100%;\"></div>            <script type=\"text/javascript\">                require([\"plotly\"], function(Plotly) {                    window.PLOTLYENV=window.PLOTLYENV || {};                                    if (document.getElementById(\"ec6968c5-8dda-400e-a83f-e7815a7fe472\")) {                    Plotly.newPlot(                        \"ec6968c5-8dda-400e-a83f-e7815a7fe472\",                        [{\"alignmentgroup\":\"True\",\"bingroup\":\"x\",\"hovertemplate\":\"Grade=0\\u003cbr\\u003eAge_at_diagnosis=%{x}\\u003cbr\\u003ecount=%{y}\\u003cextra\\u003e\\u003c\\u002fextra\\u003e\",\"legendgroup\":\"0\",\"marker\":{\"color\":\"#636efa\",\"pattern\":{\"shape\":\"\"}},\"name\":\"0\",\"offsetgroup\":\"0\",\"orientation\":\"v\",\"showlegend\":true,\"x\":[51.3,38.72,35.17,32.78,31.51,33.21,35.19,44.65,33.96,87.0,51.9,54.26,52.59,47.34,34.36,40.53,53.96,41.19,43.44,37.44,47.47,31.02,25.52,66.84,56.68,35.99,51.99,37.09,54.5,32.21,65.08,43.36,51.16,43.61,25.59,45.07,50.42,27.45,53.69,46.39,24.65,34.19,29.54,45.34,62.25,46.61,36.68,62.55,70.44,53.11,48.34,40.19,40.02,20.98,57.55,38.88,52.53,56.28,59.75,67.29,48.95,59.7,58.4,27.68,51.63,74.03,52.63,61.17,66.4,42.09,48.73,33.93,34.58,24.15,55.13,27.88,29.09,39.36,70.01,30.93,39.49,25.11,48.44,57.05,34.84,58.38,55.57,60.13,38.04,56.31,54.49,31.42,54.4,52.66,33.15,42.47,20.21,64.29,29.64,36.61,31.99,35.19,36.18,32.47,38.8,29.82,41.21,35.52,33.11,32.14,49.76,69.59,14.42,33.96,47.25,33.16,64.0,62.56,37.23,53.5,53.2,45.21,33.91,53.98,52.43,64.83,71.19,40.82,36.97,25.68,63.47,40.85,47.59,73.66,24.14,48.94,41.89,36.52,45.92,39.36,44.56,27.02,50.5,42.39,40.68,62.53,33.53,46.12,41.32,47.91,56.44,38.18,60.18,29.41,59.54,44.18,69.16,63.69,43.39,61.87,39.18,51.45,41.56,60.99,74.43,63.22,66.47,51.85,39.17,38.3,37.25,30.09,54.39,36.98,48.54,29.22,32.37,44.1,30.9,57.79,19.15,70.66,63.18,41.7,29.8,42.87,51.47,38.07,28.94,32.45,26.12,67.9,40.89,59.81,58.04,56.47,20.76,49.81,37.08,48.67,71.62,43.87,27.85,25.21,30.35,31.72,30.81,30.76,24.4,41.18,34.52,56.42,39.95,23.01,31.75,17.74,64.3,27.61,69.18,37.14,44.25,25.27,29.64,26.57,47.81,39.69,35.07,74.56,50.46,65.86,60.32,34.95,44.63,21.67,55.24,43.99,36.13,70.27,23.96,43.53,30.72,38.38,34.52,55.25,30.65,61.19,44.94,35.65,68.35,44.56,38.24,52.09,36.5,33.48,60.33,44.25,58.43,34.0,62.64,44.62,36.85,29.36,20.84,61.84,41.61,47.61,59.58,48.85,38.07,27.16,58.04,41.32,26.32,44.57,32.54,22.84,25.87,34.07,24.76,30.95,39.77,22.65,53.78,30.97,37.65,36.2,41.86,57.55,52.67,31.95,32.46,44.36,40.29,44.72,39.01,62.25,45.81,48.36,49.51,38.53,28.32,38.75,37.22,58.43,41.49,60.04,50.64,75.8,43.39,52.17,38.91,50.64,66.94,30.16,59.72,35.1,38.56,42.85,59.45,26.26,58.73,31.03,30.44,45.63,37.45,34.44,34.93,32.15,66.48,46.24,38.89,33.58,40.17,52.4,58.15,31.51,43.77,33.53,55.11,43.62,60.34,33.91,48.22,70.56,53.54,66.37,36.75,40.13,73.28,36.45,74.15,43.4,40.88,38.35,54.8,63.15,62.83,35.15,39.48,29.93,46.91,46.3,51.9,54.61,42.25,64.3,29.6,65.53,41.25,31.56,58.01,54.87,28.07,20.32,34.44,54.54,45.71,48.89,29.24,22.02,32.44,40.14,61.13,57.76,54.27,56.87,34.38,27.79,53.69,43.91,41.03,33.28,39.1,31.82,67.6,30.38,48.58,50.83,45.09,47.82,32.43,38.04,26.47,29.58,28.22,66.04,39.83,33.65,60.21,35.18,35.12,58.46,26.14,30.31,38.22,35.89,39.8,55.84,49.92,50.16,52.45,51.33,61.78,52.41,35.18,47.73,35.19,31.29,31.1,37.14,37.27,52.43,42.68,32.32,61.06,48.21,34.12,30.69,30.24,28.53,47.62,35.25,23.47,49.72,36.21,22.82,42.01,28.58,25.64,66.01,46.5,57.85,43.06,49.85,33.27,27.84,62.45,55.42,37.78,37.29,32.33,38.39,42.79,47.45,54.62,29.13,39.98,28.68,23.3,21.76,38.63,49.83,38.84,22.56,67.59,73.9,62.27,57.86,30.92,20.23,41.32,53.71,34.65,51.96,30.09,58.0,31.48],\"xaxis\":\"x\",\"yaxis\":\"y\",\"type\":\"histogram\"},{\"alignmentgroup\":\"True\",\"bingroup\":\"x\",\"hovertemplate\":\"Grade=1\\u003cbr\\u003eAge_at_diagnosis=%{x}\\u003cbr\\u003ecount=%{y}\\u003cextra\\u003e\\u003c\\u002fextra\\u003e\",\"legendgroup\":\"1\",\"marker\":{\"color\":\"#EF553B\",\"pattern\":{\"shape\":\"\"}},\"name\":\"1\",\"offsetgroup\":\"1\",\"orientation\":\"v\",\"showlegend\":true,\"x\":[57.39,49.72,60.29,73.68,64.82,33.65,67.41,72.2,69.34,79.11,68.02,76.01,82.04,58.02,52.69,81.59,74.47,76.24,57.3,67.33,63.86,64.39,69.14,66.08,54.95,45.63,36.6,49.48,69.6,54.93,58.9,61.5,64.52,65.85,60.82,53.85,39.53,58.62,56.47,65.94,36.16,72.53,48.95,39.43,54.48,63.91,66.44,52.27,64.82,89.29,54.66,60.72,77.32,60.72,80.17,51.72,53.4,43.86,74.39,76.32,49.62,48.91,68.92,74.98,69.58,64.53,58.39,47.24,61.77,75.53,52.67,47.55,21.79,72.46,68.3,67.0,52.65,59.03,59.41,48.99,76.16,72.53,67.51,82.32,64.57,75.73,85.61,73.29,78.75,45.37,42.62,53.82,68.79,43.67,59.79,52.38,61.67,40.57,63.72,63.84,70.27,59.99,56.28,62.52,24.23,72.95,54.55,86.42,62.61,63.27,58.55,60.01,67.05,23.85,58.16,64.05,65.1,61.09,52.44,78.72,63.33,63.24,23.36,65.26,50.22,55.57,60.71,62.6,69.26,56.51,76.2,76.69,86.02,69.22,59.6,75.92,57.55,69.7,45.62,47.36,74.16,60.01,78.25,59.18,21.73,81.09,70.16,62.42,75.52,60.37,63.15,61.14,47.19,76.41,84.79,77.42,48.5,69.61,56.03,76.47,70.32,34.73,68.93,54.59,74.86,73.53,57.31,44.63,83.73,74.8,51.75,52.16,73.28,81.84,78.26,57.85,53.4,50.9,78.15,76.65,57.32,36.3,72.78,31.03,65.18,63.55,49.96,59.85,69.64,62.83,52.74,56.81,81.46,40.8,81.87,50.47,38.02,48.5,51.24,66.93,71.86,24.43,63.53,69.32,78.02,30.42,52.79,65.16,78.74,61.1,50.47,39.16,55.13,66.22,49.02,54.21,58.13,73.01,53.83,63.8,66.52,49.88,59.92,54.9,57.75,59.43,44.15,58.04,65.05,67.09,75.47,88.57,38.56,53.23,75.35,66.74,51.14,40.99,58.02,57.08,40.73,40.56,54.24,53.37,56.02,59.84,75.32,59.03,44.37,46.65,68.68,30.93,64.82,36.83,78.74,83.64,51.55,63.32,59.62,72.53,53.64,74.23,60.67,54.81,63.02,58.84,60.75,71.7,75.21,50.85,67.02,60.98,65.39,51.25,45.82,39.87,70.67,73.36,65.99,53.64,72.69,61.48,65.06,30.9,64.14,55.73,79.34,74.81,63.07,81.06,53.24,69.94,60.94,55.59,75.94,47.96,71.19,71.41,25.22,61.68,47.83,50.35,72.27,31.02,86.59,38.59,72.83,55.13,66.88,55.99,65.94,72.16,33.02,83.31,43.71,68.61,47.73,79.5,67.89,49.82,66.7,68.61,47.14,61.6,49.43,67.33,32.73,65.11,66.58,62.77,50.04,34.3,61.03,77.97,54.28,51.09,53.02,46.92,52.67,48.68,51.56,62.11,58.05,61.31,66.3,64.12,56.31,77.89,85.18,77.49,63.33,76.61],\"xaxis\":\"x2\",\"yaxis\":\"y2\",\"type\":\"histogram\"}],                        {\"template\":{\"data\":{\"histogram2dcontour\":[{\"type\":\"histogram2dcontour\",\"colorbar\":{\"outlinewidth\":0,\"ticks\":\"\"},\"colorscale\":[[0.0,\"#0d0887\"],[0.1111111111111111,\"#46039f\"],[0.2222222222222222,\"#7201a8\"],[0.3333333333333333,\"#9c179e\"],[0.4444444444444444,\"#bd3786\"],[0.5555555555555556,\"#d8576b\"],[0.6666666666666666,\"#ed7953\"],[0.7777777777777778,\"#fb9f3a\"],[0.8888888888888888,\"#fdca26\"],[1.0,\"#f0f921\"]]}],\"choropleth\":[{\"type\":\"choropleth\",\"colorbar\":{\"outlinewidth\":0,\"ticks\":\"\"}}],\"histogram2d\":[{\"type\":\"histogram2d\",\"colorbar\":{\"outlinewidth\":0,\"ticks\":\"\"},\"colorscale\":[[0.0,\"#0d0887\"],[0.1111111111111111,\"#46039f\"],[0.2222222222222222,\"#7201a8\"],[0.3333333333333333,\"#9c179e\"],[0.4444444444444444,\"#bd3786\"],[0.5555555555555556,\"#d8576b\"],[0.6666666666666666,\"#ed7953\"],[0.7777777777777778,\"#fb9f3a\"],[0.8888888888888888,\"#fdca26\"],[1.0,\"#f0f921\"]]}],\"heatmap\":[{\"type\":\"heatmap\",\"colorbar\":{\"outlinewidth\":0,\"ticks\":\"\"},\"colorscale\":[[0.0,\"#0d0887\"],[0.1111111111111111,\"#46039f\"],[0.2222222222222222,\"#7201a8\"],[0.3333333333333333,\"#9c179e\"],[0.4444444444444444,\"#bd3786\"],[0.5555555555555556,\"#d8576b\"],[0.6666666666666666,\"#ed7953\"],[0.7777777777777778,\"#fb9f3a\"],[0.8888888888888888,\"#fdca26\"],[1.0,\"#f0f921\"]]}],\"heatmapgl\":[{\"type\":\"heatmapgl\",\"colorbar\":{\"outlinewidth\":0,\"ticks\":\"\"},\"colorscale\":[[0.0,\"#0d0887\"],[0.1111111111111111,\"#46039f\"],[0.2222222222222222,\"#7201a8\"],[0.3333333333333333,\"#9c179e\"],[0.4444444444444444,\"#bd3786\"],[0.5555555555555556,\"#d8576b\"],[0.6666666666666666,\"#ed7953\"],[0.7777777777777778,\"#fb9f3a\"],[0.8888888888888888,\"#fdca26\"],[1.0,\"#f0f921\"]]}],\"contourcarpet\":[{\"type\":\"contourcarpet\",\"colorbar\":{\"outlinewidth\":0,\"ticks\":\"\"}}],\"contour\":[{\"type\":\"contour\",\"colorbar\":{\"outlinewidth\":0,\"ticks\":\"\"},\"colorscale\":[[0.0,\"#0d0887\"],[0.1111111111111111,\"#46039f\"],[0.2222222222222222,\"#7201a8\"],[0.3333333333333333,\"#9c179e\"],[0.4444444444444444,\"#bd3786\"],[0.5555555555555556,\"#d8576b\"],[0.6666666666666666,\"#ed7953\"],[0.7777777777777778,\"#fb9f3a\"],[0.8888888888888888,\"#fdca26\"],[1.0,\"#f0f921\"]]}],\"surface\":[{\"type\":\"surface\",\"colorbar\":{\"outlinewidth\":0,\"ticks\":\"\"},\"colorscale\":[[0.0,\"#0d0887\"],[0.1111111111111111,\"#46039f\"],[0.2222222222222222,\"#7201a8\"],[0.3333333333333333,\"#9c179e\"],[0.4444444444444444,\"#bd3786\"],[0.5555555555555556,\"#d8576b\"],[0.6666666666666666,\"#ed7953\"],[0.7777777777777778,\"#fb9f3a\"],[0.8888888888888888,\"#fdca26\"],[1.0,\"#f0f921\"]]}],\"mesh3d\":[{\"type\":\"mesh3d\",\"colorbar\":{\"outlinewidth\":0,\"ticks\":\"\"}}],\"scatter\":[{\"fillpattern\":{\"fillmode\":\"overlay\",\"size\":10,\"solidity\":0.2},\"type\":\"scatter\"}],\"parcoords\":[{\"type\":\"parcoords\",\"line\":{\"colorbar\":{\"outlinewidth\":0,\"ticks\":\"\"}}}],\"scatterpolargl\":[{\"type\":\"scatterpolargl\",\"marker\":{\"colorbar\":{\"outlinewidth\":0,\"ticks\":\"\"}}}],\"bar\":[{\"error_x\":{\"color\":\"#2a3f5f\"},\"error_y\":{\"color\":\"#2a3f5f\"},\"marker\":{\"line\":{\"color\":\"#E5ECF6\",\"width\":0.5},\"pattern\":{\"fillmode\":\"overlay\",\"size\":10,\"solidity\":0.2}},\"type\":\"bar\"}],\"scattergeo\":[{\"type\":\"scattergeo\",\"marker\":{\"colorbar\":{\"outlinewidth\":0,\"ticks\":\"\"}}}],\"scatterpolar\":[{\"type\":\"scatterpolar\",\"marker\":{\"colorbar\":{\"outlinewidth\":0,\"ticks\":\"\"}}}],\"histogram\":[{\"marker\":{\"pattern\":{\"fillmode\":\"overlay\",\"size\":10,\"solidity\":0.2}},\"type\":\"histogram\"}],\"scattergl\":[{\"type\":\"scattergl\",\"marker\":{\"colorbar\":{\"outlinewidth\":0,\"ticks\":\"\"}}}],\"scatter3d\":[{\"type\":\"scatter3d\",\"line\":{\"colorbar\":{\"outlinewidth\":0,\"ticks\":\"\"}},\"marker\":{\"colorbar\":{\"outlinewidth\":0,\"ticks\":\"\"}}}],\"scattermapbox\":[{\"type\":\"scattermapbox\",\"marker\":{\"colorbar\":{\"outlinewidth\":0,\"ticks\":\"\"}}}],\"scatterternary\":[{\"type\":\"scatterternary\",\"marker\":{\"colorbar\":{\"outlinewidth\":0,\"ticks\":\"\"}}}],\"scattercarpet\":[{\"type\":\"scattercarpet\",\"marker\":{\"colorbar\":{\"outlinewidth\":0,\"ticks\":\"\"}}}],\"carpet\":[{\"aaxis\":{\"endlinecolor\":\"#2a3f5f\",\"gridcolor\":\"white\",\"linecolor\":\"white\",\"minorgridcolor\":\"white\",\"startlinecolor\":\"#2a3f5f\"},\"baxis\":{\"endlinecolor\":\"#2a3f5f\",\"gridcolor\":\"white\",\"linecolor\":\"white\",\"minorgridcolor\":\"white\",\"startlinecolor\":\"#2a3f5f\"},\"type\":\"carpet\"}],\"table\":[{\"cells\":{\"fill\":{\"color\":\"#EBF0F8\"},\"line\":{\"color\":\"white\"}},\"header\":{\"fill\":{\"color\":\"#C8D4E3\"},\"line\":{\"color\":\"white\"}},\"type\":\"table\"}],\"barpolar\":[{\"marker\":{\"line\":{\"color\":\"#E5ECF6\",\"width\":0.5},\"pattern\":{\"fillmode\":\"overlay\",\"size\":10,\"solidity\":0.2}},\"type\":\"barpolar\"}],\"pie\":[{\"automargin\":true,\"type\":\"pie\"}]},\"layout\":{\"autotypenumbers\":\"strict\",\"colorway\":[\"#636efa\",\"#EF553B\",\"#00cc96\",\"#ab63fa\",\"#FFA15A\",\"#19d3f3\",\"#FF6692\",\"#B6E880\",\"#FF97FF\",\"#FECB52\"],\"font\":{\"color\":\"#2a3f5f\"},\"hovermode\":\"closest\",\"hoverlabel\":{\"align\":\"left\"},\"paper_bgcolor\":\"white\",\"plot_bgcolor\":\"#E5ECF6\",\"polar\":{\"bgcolor\":\"#E5ECF6\",\"angularaxis\":{\"gridcolor\":\"white\",\"linecolor\":\"white\",\"ticks\":\"\"},\"radialaxis\":{\"gridcolor\":\"white\",\"linecolor\":\"white\",\"ticks\":\"\"}},\"ternary\":{\"bgcolor\":\"#E5ECF6\",\"aaxis\":{\"gridcolor\":\"white\",\"linecolor\":\"white\",\"ticks\":\"\"},\"baxis\":{\"gridcolor\":\"white\",\"linecolor\":\"white\",\"ticks\":\"\"},\"caxis\":{\"gridcolor\":\"white\",\"linecolor\":\"white\",\"ticks\":\"\"}},\"coloraxis\":{\"colorbar\":{\"outlinewidth\":0,\"ticks\":\"\"}},\"colorscale\":{\"sequential\":[[0.0,\"#0d0887\"],[0.1111111111111111,\"#46039f\"],[0.2222222222222222,\"#7201a8\"],[0.3333333333333333,\"#9c179e\"],[0.4444444444444444,\"#bd3786\"],[0.5555555555555556,\"#d8576b\"],[0.6666666666666666,\"#ed7953\"],[0.7777777777777778,\"#fb9f3a\"],[0.8888888888888888,\"#fdca26\"],[1.0,\"#f0f921\"]],\"sequentialminus\":[[0.0,\"#0d0887\"],[0.1111111111111111,\"#46039f\"],[0.2222222222222222,\"#7201a8\"],[0.3333333333333333,\"#9c179e\"],[0.4444444444444444,\"#bd3786\"],[0.5555555555555556,\"#d8576b\"],[0.6666666666666666,\"#ed7953\"],[0.7777777777777778,\"#fb9f3a\"],[0.8888888888888888,\"#fdca26\"],[1.0,\"#f0f921\"]],\"diverging\":[[0,\"#8e0152\"],[0.1,\"#c51b7d\"],[0.2,\"#de77ae\"],[0.3,\"#f1b6da\"],[0.4,\"#fde0ef\"],[0.5,\"#f7f7f7\"],[0.6,\"#e6f5d0\"],[0.7,\"#b8e186\"],[0.8,\"#7fbc41\"],[0.9,\"#4d9221\"],[1,\"#276419\"]]},\"xaxis\":{\"gridcolor\":\"white\",\"linecolor\":\"white\",\"ticks\":\"\",\"title\":{\"standoff\":15},\"zerolinecolor\":\"white\",\"automargin\":true,\"zerolinewidth\":2},\"yaxis\":{\"gridcolor\":\"white\",\"linecolor\":\"white\",\"ticks\":\"\",\"title\":{\"standoff\":15},\"zerolinecolor\":\"white\",\"automargin\":true,\"zerolinewidth\":2},\"scene\":{\"xaxis\":{\"backgroundcolor\":\"#E5ECF6\",\"gridcolor\":\"white\",\"linecolor\":\"white\",\"showbackground\":true,\"ticks\":\"\",\"zerolinecolor\":\"white\",\"gridwidth\":2},\"yaxis\":{\"backgroundcolor\":\"#E5ECF6\",\"gridcolor\":\"white\",\"linecolor\":\"white\",\"showbackground\":true,\"ticks\":\"\",\"zerolinecolor\":\"white\",\"gridwidth\":2},\"zaxis\":{\"backgroundcolor\":\"#E5ECF6\",\"gridcolor\":\"white\",\"linecolor\":\"white\",\"showbackground\":true,\"ticks\":\"\",\"zerolinecolor\":\"white\",\"gridwidth\":2}},\"shapedefaults\":{\"line\":{\"color\":\"#2a3f5f\"}},\"annotationdefaults\":{\"arrowcolor\":\"#2a3f5f\",\"arrowhead\":0,\"arrowwidth\":1},\"geo\":{\"bgcolor\":\"white\",\"landcolor\":\"#E5ECF6\",\"subunitcolor\":\"white\",\"showland\":true,\"showlakes\":true,\"lakecolor\":\"white\"},\"title\":{\"x\":0.05},\"mapbox\":{\"style\":\"light\"}}},\"xaxis\":{\"anchor\":\"y\",\"domain\":[0.0,0.49],\"title\":{\"text\":\"Age_at_diagnosis\"}},\"yaxis\":{\"anchor\":\"x\",\"domain\":[0.0,1.0],\"title\":{\"text\":\"count\"}},\"xaxis2\":{\"anchor\":\"y2\",\"domain\":[0.51,1.0],\"matches\":\"x\",\"title\":{\"text\":\"Age_at_diagnosis\"}},\"yaxis2\":{\"anchor\":\"x2\",\"domain\":[0.0,1.0],\"matches\":\"y\",\"showticklabels\":false},\"annotations\":[{\"font\":{},\"showarrow\":false,\"text\":\"Grade=0\",\"x\":0.245,\"xanchor\":\"center\",\"xref\":\"paper\",\"y\":1.0,\"yanchor\":\"bottom\",\"yref\":\"paper\"},{\"font\":{},\"showarrow\":false,\"text\":\"Grade=1\",\"x\":0.755,\"xanchor\":\"center\",\"xref\":\"paper\",\"y\":1.0,\"yanchor\":\"bottom\",\"yref\":\"paper\"}],\"legend\":{\"title\":{\"text\":\"Grade\"},\"tracegroupgap\":0},\"margin\":{\"t\":60},\"barmode\":\"relative\"},                        {\"responsive\": true}                    ).then(function(){\n",
       "                            \n",
       "var gd = document.getElementById('ec6968c5-8dda-400e-a83f-e7815a7fe472');\n",
       "var x = new MutationObserver(function (mutations, observer) {{\n",
       "        var display = window.getComputedStyle(gd).display;\n",
       "        if (!display || display === 'none') {{\n",
       "            console.log([gd, 'removed!']);\n",
       "            Plotly.purge(gd);\n",
       "            observer.disconnect();\n",
       "        }}\n",
       "}});\n",
       "\n",
       "// Listen for the removal of the full notebook cells\n",
       "var notebookContainer = gd.closest('#notebook-container');\n",
       "if (notebookContainer) {{\n",
       "    x.observe(notebookContainer, {childList: true});\n",
       "}}\n",
       "\n",
       "// Listen for the clearing of the current output cell\n",
       "var outputEl = gd.closest('.output');\n",
       "if (outputEl) {{\n",
       "    x.observe(outputEl, {childList: true});\n",
       "}}\n",
       "\n",
       "                        })                };                });            </script>        </div>"
      ]
     },
     "metadata": {},
     "output_type": "display_data"
    }
   ],
   "source": [
    "express.histogram(data_frame=df, x='Age_at_diagnosis', color='Grade', facet_col='Grade')"
   ]
  },
  {
   "cell_type": "markdown",
   "id": "f8a9783a",
   "metadata": {
    "papermill": {
     "duration": 0.006441,
     "end_time": "2024-03-06T16:19:43.779187",
     "exception": false,
     "start_time": "2024-03-06T16:19:43.772746",
     "status": "completed"
    },
    "tags": []
   },
   "source": [
    "Obviously our grades have different age distributions."
   ]
  },
  {
   "cell_type": "code",
   "execution_count": 4,
   "id": "bbeb0916",
   "metadata": {
    "execution": {
     "iopub.execute_input": "2024-03-06T16:19:43.794736Z",
     "iopub.status.busy": "2024-03-06T16:19:43.794269Z",
     "iopub.status.idle": "2024-03-06T16:20:32.900926Z",
     "shell.execute_reply": "2024-03-06T16:20:32.899563Z"
    },
    "papermill": {
     "duration": 49.118033,
     "end_time": "2024-03-06T16:20:32.903842",
     "exception": false,
     "start_time": "2024-03-06T16:19:43.785809",
     "status": "completed"
    },
    "tags": []
   },
   "outputs": [
    {
     "name": "stderr",
     "output_type": "stream",
     "text": [
      "2024-03-06 16:20:06.706988: E external/local_xla/xla/stream_executor/cuda/cuda_dnn.cc:9261] Unable to register cuDNN factory: Attempting to register factory for plugin cuDNN when one has already been registered\n",
      "2024-03-06 16:20:06.707178: E external/local_xla/xla/stream_executor/cuda/cuda_fft.cc:607] Unable to register cuFFT factory: Attempting to register factory for plugin cuFFT when one has already been registered\n",
      "2024-03-06 16:20:06.864458: E external/local_xla/xla/stream_executor/cuda/cuda_blas.cc:1515] Unable to register cuBLAS factory: Attempting to register factory for plugin cuBLAS when one has already been registered\n"
     ]
    },
    {
     "name": "stdout",
     "output_type": "stream",
     "text": [
      "UMAP(n_epochs=200, n_jobs=1, random_state=2024, transform_seed=2024, verbose=True)\n",
      "Wed Mar  6 16:20:21 2024 Construct fuzzy simplicial set\n",
      "Wed Mar  6 16:20:22 2024 Finding Nearest Neighbors\n",
      "Wed Mar  6 16:20:26 2024 Finished Nearest Neighbor Search\n",
      "Wed Mar  6 16:20:30 2024 Construct embedding\n"
     ]
    },
    {
     "data": {
      "application/vnd.jupyter.widget-view+json": {
       "model_id": "76c34b9a530542afbd54d17f40cc3270",
       "version_major": 2,
       "version_minor": 0
      },
      "text/plain": [
       "Epochs completed:   0%|            0/200 [00:00]"
      ]
     },
     "metadata": {},
     "output_type": "display_data"
    },
    {
     "name": "stdout",
     "output_type": "stream",
     "text": [
      "\tcompleted  0  /  200 epochs\n",
      "\tcompleted  20  /  200 epochs\n",
      "\tcompleted  40  /  200 epochs\n",
      "\tcompleted  60  /  200 epochs\n",
      "\tcompleted  80  /  200 epochs\n",
      "\tcompleted  100  /  200 epochs\n",
      "\tcompleted  120  /  200 epochs\n",
      "\tcompleted  140  /  200 epochs\n",
      "\tcompleted  160  /  200 epochs\n",
      "\tcompleted  180  /  200 epochs\n",
      "Wed Mar  6 16:20:32 2024 Finished embedding\n"
     ]
    },
    {
     "data": {
      "text/html": [
       "<div>                            <div id=\"234ededb-5a7f-4ec9-87af-13f1dc6736ee\" class=\"plotly-graph-div\" style=\"height:525px; width:100%;\"></div>            <script type=\"text/javascript\">                require([\"plotly\"], function(Plotly) {                    window.PLOTLYENV=window.PLOTLYENV || {};                                    if (document.getElementById(\"234ededb-5a7f-4ec9-87af-13f1dc6736ee\")) {                    Plotly.newPlot(                        \"234ededb-5a7f-4ec9-87af-13f1dc6736ee\",                        [{\"hovertemplate\":\"grade=LGG\\u003cbr\\u003ex=%{x}\\u003cbr\\u003ey=%{y}\\u003cextra\\u003e\\u003c\\u002fextra\\u003e\",\"legendgroup\":\"LGG\",\"marker\":{\"color\":\"#636efa\",\"symbol\":\"circle\"},\"mode\":\"markers\",\"name\":\"LGG\",\"orientation\":\"v\",\"showlegend\":true,\"x\":[5.4389753,-1.4158765,-1.5300078,-1.599763,-1.5033555,-1.6889098,-1.7455134,1.29724,-1.6703762,9.971319,5.57402,7.6206684,6.0772104,2.9968078,-1.9651661,-0.6640261,7.095233,-0.74450904,0.9192783,-1.1501464,3.0110512,-1.4126999,-1.890859,9.337625,8.414351,-1.6431515,5.9985905,-1.5402617,7.165595,-1.6053722,9.675425,0.6204757,5.0819855,0.5827529,-1.72859,1.6179852,5.073896,-1.5851232,7.354979,2.502022,-1.9672128,-1.9882141,-1.7330536,1.4028778,9.646862,2.3172612,-1.2629308,9.707369,9.474394,6.6885457,3.2587607,-1.1154459,-0.7113607,-2.1695879,8.63293,-0.96430886,6.11776,8.168606,9.375456,9.375004,3.8941379,9.262802,8.923402,-1.5190301,5.933876,9.642486,6.298071,9.558171,9.452963,-0.39925215,3.350746,-1.6782407,-1.7713084,-1.9292011,7.9397516,-1.5519681,-1.4443803,-0.7335491,9.416845,-1.9117317,-1.2746462,-1.758164,3.640311,8.56376,-1.810509,8.929147,8.158765,9.428151,-1.3447872,8.391631,7.192012,-1.6387866,7.1268873,6.2470427,-1.6185108,-0.044183534,-2.2780697,9.599069,-1.4360261,-1.4127905,-1.800757,-1.4746763,-1.4929799,-1.6557435,-1.2887126,-1.8201909,-0.3571211,-1.4802443,-1.6886587,-1.6161795,4.5834618,9.521063,-2.2540035,-1.71446,2.7110367,-1.6942756,9.759407,9.82559,-1.4890901,7.408454,6.3360014,1.5461563,-1.9882928,6.862119,6.4801984,9.564518,9.556423,-0.5065302,-1.3781304,-1.8942565,9.703837,-1.19663,3.0749867,9.7110615,-1.9728749,3.9729052,-0.23961708,-1.4179261,2.1470451,-0.8221332,1.3406074,-1.7190737,4.4098334,-0.013704886,-0.71291995,9.760297,-1.6158296,2.5571816,-0.33656842,3.011531,8.48867,-1.1184497,9.585253,-1.4211931,9.214083,0.8285706,9.305187,9.800335,0.6870908,9.58474,-0.9863487,6.3001065,-0.34053499,9.536711,9.735712,9.791203,9.386168,5.688463,-1.2770938,-1.0360383,-1.4339855,-1.4436122,7.591883,-1.4480814,3.6718726,-1.4441885,-1.7981863,1.1131924,-1.9030997,8.987319,-2.2610147,9.491073,9.787458,-0.33159614,-1.3679185,0.5372465,5.830686,-0.95312154,-1.4891678,-1.7477882,-1.8862244,9.389006,-1.0262449,9.573842,8.935876,8.394745,-2.1650786,4.53383,-1.5570247,3.4453287,9.6453,0.88840663,-1.4948462,-1.895917,-1.7380688,-1.5740458,-1.4314355,-1.6066856,-1.8411129,-0.5756392,-1.7452207,8.441336,-0.6249641,-2.0251517,-1.5915875,-2.2444081,9.72712,-1.4285811,9.473904,-1.3885047,0.7467699,-1.8638791,-1.844501,-1.8464814,3.1148672,-0.8785556,-1.863514,9.7232275,4.884709,9.368053,9.299314,-1.9912903,1.333913,-2.140894,7.9340982,0.73821896,-1.4479296,9.349569,-1.9692527,0.7231696,-1.4508127,-1.3908024,-1.9015657,7.839607,-1.9727778,9.570263,1.3992013,-1.5061007,9.419177,1.3025074,-0.89428973,5.798509,-1.3960274,-1.6789353,9.407658,1.1325816,9.180629,-1.9496535,9.796845,1.2834089,-1.3767993,-1.434936,-2.1828628,9.60812,-0.38195884,3.0458484,9.17169,3.7596157,-0.89465606,-1.575218,8.864014,-0.9409448,-1.887497,1.3346717,-1.7889308,-2.0295575,-1.9025308,-2.0874178,-1.8549651,-1.5173312,-0.9377412,-2.090223,6.991763,-1.2517029,-1.0046575,-1.4038646,-0.3171104,9.076205,6.517304,-1.5995644,-1.5589195,1.153087,-1.1066806,1.5547705,-0.89064574,9.733793,2.17808,3.5500562,4.3156347,-1.3027937,-1.5111085,-0.8125223,-1.1498277,9.118077,-0.4274869,9.604146,4.243149,9.767202,0.7308105,6.132087,-0.8526636,4.820149,9.3459015,-1.6550715,9.392911,-1.9563587,-1.0019369,0.62547404,9.222388,-1.8010828,9.260441,-1.9707937,-1.3443674,2.1243267,-1.4660805,-1.7939769,-2.0120115,-1.723957,9.371849,2.5149329,-0.8724703,-1.7701213,-1.0248212,6.539069,8.872224,-1.4858066,1.1743785,-1.7582283,7.919512,0.8111595,9.522993,-2.0322042,3.2534947,9.489177,6.701555,9.450605,-1.6137818,-1.1880893,9.717213,-1.4637779,9.735954,0.72192174,-0.9426621,-1.414362,8.012847,9.686857,9.756721,-1.6750027,-0.9061099,-1.3702092,2.885466,2.0645437,6.5243187,7.6601686,-0.37378827,9.678843,-1.550104,9.548243,-0.42339852,-1.7642843,8.9958515,7.9435763,-1.5071154,-2.2329295,-1.9086124,7.679668,2.0567794,3.796143,-1.4277487,-2.130442,-1.8553687,-1.0326128,9.561828,9.038156,7.551723,8.522314,-1.6419413,-1.5607843,7.740178,0.7739187,-0.4547219,-2.0488935,-0.93603516,-1.5626159,9.470295,-1.406472,3.682243,5.149368,1.9246335,3.2538824,-1.8604321,-1.4474137,-1.9336438,-1.5864679,-1.5565561,9.490917,-1.1053447,-2.0336454,9.452558,-1.493595,-1.8549179,9.065629,-1.8830178,-1.3505822,-1.2358627,-1.4582932,-1.1812729,8.274788,4.119569,4.3916926,6.519915,5.3034644,9.674803,6.539352,-1.4827241,3.1371393,-2.0162308,-1.5802693,-1.9708458,-1.5745621,-1.3066413,6.412772,0.1876722,-1.8173382,9.52015,3.2918062,-1.6178323,-1.957225,-1.3229188,-1.5388715,3.000977,-1.9398758,-2.082232,4.2163043,-1.6046035,-2.0109024,-0.25695074,-1.6850661,-1.8285041,9.54481,2.702622,9.082965,0.554647,4.577539,-1.6737773,-1.5341048,9.754823,8.041391,-1.5199558,-1.30666,-1.7913222,-0.88698816,0.24530189,2.7273097,7.8412375,-1.4376943,-0.6069664,-1.7844937,-1.9802995,-2.0144134,-1.0202711,4.10016,-1.363053,-2.0559225,9.38758,9.722126,9.64946,8.775465,-1.6994394,-2.3103929,-0.5620084,7.1685486,-1.4054106,6.4259,-1.5750681,9.064367,-1.4331326],\"xaxis\":\"x\",\"y\":[14.313421,7.503602,4.4872494,2.8419108,1.5172683,3.0386093,4.1152625,11.745256,3.1615593,-5.177775,14.260592,14.191876,14.067857,13.859544,3.943553,9.241454,14.187295,9.389787,11.347451,6.4907937,13.704374,1.323197,-2.0506687,3.27986,12.192754,5.662793,14.582857,6.234054,14.042571,1.8357383,5.0233183,11.288401,14.184368,11.459025,-1.7527566,12.386676,14.42754,-0.8837541,14.319817,13.297284,-2.3466787,3.7997954,0.23321994,12.230547,7.50755,13.06866,5.704477,7.307648,0.9351268,14.444628,13.416117,8.765305,8.51266,-3.2133164,12.187262,7.9222083,14.555885,13.767577,9.659179,3.2308836,14.340905,9.597077,11.388731,-0.59331256,14.529175,-0.9992456,14.39741,8.830484,3.37975,9.853295,13.456562,3.3526933,3.951196,-2.4191303,14.080935,-0.65398365,-0.16834964,7.9061995,1.4869071,0.75167626,8.489183,-1.8732617,13.830067,12.316964,4.096778,11.200845,12.848778,9.459559,7.377566,12.480746,14.097341,1.3452027,14.079885,14.485061,3.0483103,10.31575,-3.3496716,4.987723,0.14948368,5.6153073,2.3169484,4.519223,5.549096,2.174825,7.8830967,0.39863196,9.743466,4.6296167,2.9997804,1.8576949,14.091073,1.2931567,-3.3287559,3.1137774,13.212423,2.9863098,5.771143,6.807021,7.0854144,14.258138,14.262009,12.294121,3.9597387,13.784448,14.721307,4.8185277,0.3134612,9.521773,5.85095,-1.9965351,6.305241,8.657173,13.917278,-1.3231707,-2.5190437,14.450927,10.0224695,6.1844516,12.946273,8.209,11.765923,-1.4278535,14.432219,10.321447,8.538969,7.2279177,3.0936677,13.36905,9.816699,13.71966,12.483237,7.2455125,9.0806675,-0.018272344,9.761237,11.52512,1.4184065,5.9697227,11.402151,7.847321,8.042329,14.80445,9.89932,8.320634,-1.6588659,6.659592,3.145316,14.373552,8.47777,7.689744,7.0773563,0.7063409,13.580257,6.004428,13.868183,-0.044527788,2.435163,11.998514,0.6739868,11.353311,-3.3329673,0.88377094,6.205362,9.861169,0.2439921,11.325273,14.682506,7.1060205,-0.22057427,2.4706392,-1.9606341,2.8438482,8.836075,9.130779,11.040041,12.496617,-3.2062857,14.264777,6.819202,13.575119,-0.04686426,11.701301,-0.6200161,-2.149783,0.55961263,1.6986275,1.1285322,0.9458922,-2.3273075,9.538265,3.8268824,12.478649,8.648734,-2.8635926,1.5938114,-3.3322854,5.4926057,-0.6711445,1.4150536,5.9110193,11.568401,-2.064208,0.4303131,-1.8022193,13.403632,8.082709,4.079332,-1.5929706,14.444766,3.8196292,9.3934765,4.0213537,11.784994,-3.1531427,13.064485,11.593089,5.529796,1.1639869,-2.5702584,11.4044895,0.90464807,7.2534304,3.9397619,13.142089,0.73605037,7.9486547,11.855004,5.0861983,2.6811383,11.772433,7.6433053,14.080874,5.5500793,3.0762177,8.977124,11.773558,11.030037,3.7418387,7.0791407,11.738747,5.849476,0.0073199086,-3.225399,7.73926,9.848401,13.656824,9.726698,14.236239,7.037186,-0.8371003,11.474483,9.026993,-1.8822074,11.7567005,2.585307,-2.8681974,-1.961012,3.8362353,-2.192608,1.3305066,8.152618,-3.028111,14.241158,1.187268,6.8386483,5.511285,9.914638,11.172331,14.696849,1.8652643,1.9507859,11.515835,8.819478,11.926562,7.59085,7.0580845,12.988362,13.717469,14.288548,7.3342533,-0.63054603,7.533142,6.515228,11.040629,9.861565,8.511036,14.470842,-1.9321518,11.319634,14.638294,7.81029,14.305011,3.1794982,0.4410104,9.73409,4.075592,7.440339,11.145233,9.726526,-1.7937282,10.863957,0.67700815,0.99258375,12.748989,7.010163,3.9670181,3.9972856,2.0488577,3.788078,13.343913,7.55896,3.1383562,8.693347,14.588792,11.550742,1.5109729,11.466607,3.1939552,14.050727,11.277719,8.541608,3.7042956,13.396841,0.9265776,14.488114,3.378941,6.029399,8.682966,-1.195229,5.501262,-1.3931642,11.50453,9.021336,7.501899,14.114958,6.511633,7.2274284,4.3051763,8.0673,0.28116766,13.758532,12.835971,14.71029,14.040205,9.881798,5.4489517,0.29866093,4.5365973,9.875341,1.1622972,11.425883,14.057053,-0.57901305,-3.289018,3.9504411,14.057322,12.870479,14.30798,-0.09906616,-3.1833062,2.3707304,8.433063,8.096892,11.054134,13.492193,12.371122,3.587426,-0.6659578,14.216692,11.4033165,9.676386,3.5751882,8.034714,1.7549336,3.1063788,0.77197325,14.135441,14.197688,12.75039,13.988879,2.4143598,7.134578,-1.8789358,0.25600097,-0.6136096,4.136126,8.389387,3.6010926,9.5800905,4.532232,4.2965474,11.102732,-1.838173,0.55641365,7.3100314,5.328096,8.596174,12.547932,14.39858,14.512348,14.761741,14.073009,7.7938685,14.694979,4.5528398,13.347116,4.1412396,1.3938407,0.71512896,6.9405785,5.8843493,14.564839,10.594668,2.4398766,8.473556,13.377269,3.3926508,0.7142611,0.4944032,-0.50368124,13.945951,4.2620068,-2.7104533,14.532882,6.16278,-2.8424704,10.016473,-0.05851808,-1.7652715,3.821408,13.568908,11.070365,11.337107,14.100693,3.0079546,-0.5982321,7.1720943,13.97555,6.9842033,6.0301647,2.413791,7.660305,10.79916,13.488548,14.094777,-0.28484994,8.683119,0.07796174,-2.807095,-2.96806,7.748754,14.442311,7.3662376,-2.9911559,3.0649676,-1.411269,7.50753,11.55245,0.68820995,-3.3914711,9.592682,14.121164,4.3334103,14.660658,0.53443146,11.149633,1.4561735],\"yaxis\":\"y\",\"type\":\"scatter\"},{\"hovertemplate\":\"grade=GBM\\u003cbr\\u003ex=%{x}\\u003cbr\\u003ey=%{y}\\u003cextra\\u003e\\u003c\\u002fextra\\u003e\",\"legendgroup\":\"GBM\",\"marker\":{\"color\":\"#EF553B\",\"symbol\":\"circle\"},\"mode\":\"markers\",\"name\":\"GBM\",\"orientation\":\"v\",\"showlegend\":true,\"x\":[8.792534,4.579067,9.361369,9.607165,9.736037,-1.8635856,9.387171,9.633133,9.525166,9.844672,9.389458,9.796421,9.957981,9.124131,6.45594,9.949789,9.680456,9.7476015,8.687434,9.53753,9.805391,9.681496,9.480307,9.518874,7.6994104,1.4074006,-1.5413027,4.149488,9.383912,7.768192,9.224899,9.567413,9.763248,9.347161,9.501059,6.986428,-1.0245924,9.190028,8.441532,9.405365,-1.388592,9.671396,3.891487,-0.9805118,7.6187754,9.808148,9.335681,6.0999904,9.659995,9.950408,7.5945687,9.656255,9.811724,9.516999,9.899766,5.6528325,6.9917593,0.79241145,9.67413,9.733402,4.385157,4.190931,9.459017,9.801615,9.491206,9.66896,9.152033,2.830137,9.705191,9.78539,6.256618,3.034706,-2.1933658,9.637922,9.422056,9.315795,6.2549796,9.240516,9.421805,3.899078,9.695023,9.719875,9.375112,9.977445,9.594157,9.801435,9.937891,9.639161,9.689352,1.422446,0.043262288,7.170373,9.473699,0.80817807,9.390633,5.7474704,9.505377,-0.91150904,9.764443,9.679513,9.466033,9.310898,8.477298,9.708067,-2.0154886,9.6412525,7.4780154,9.984288,9.796905,9.695381,9.150905,9.420395,9.3760395,-1.9757274,9.073731,9.6986265,9.693442,9.440736,6.037973,9.759428,9.799846,9.837425,-2.0753157,9.453648,4.626885,8.093127,9.502356,9.724487,9.415411,8.2443285,9.827099,9.872784,9.96991,9.444971,9.531366,9.778496,8.891535,9.440933,1.7886931,2.8484268,9.634323,9.5594,9.809118,9.283573,-2.1724896,9.950931,9.36051,9.718352,9.760748,9.619295,9.850625,9.379092,2.9215033,9.840559,9.955403,9.966433,3.4262357,9.407602,8.232237,9.802384,9.388701,-1.5049926,9.578799,7.2762394,9.658832,9.637062,8.715796,0.94956833,9.95102,9.658288,5.5319266,5.830027,9.600861,9.890906,9.819924,8.9977865,6.5016627,4.945824,9.846406,9.80256,9.158399,-1.501207,9.716889,-1.3668455,9.619283,9.911737,4.0976954,9.30112,9.529098,9.797567,6.458366,8.654046,9.9589205,-0.9678799,9.960007,4.8268666,-1.3969233,3.8130174,5.1511493,9.205515,9.609821,-1.9949815,9.65467,9.484292,9.811905,-1.6114712,6.629728,9.675239,9.811526,9.369595,5.011175,-0.827499,7.8278823,9.286288,4.11698,6.9616785,9.157192,9.62725,7.0850234,9.780874,9.478216,4.3416963,9.429214,7.6146173,8.871281,9.500271,1.1695732,8.986555,9.592958,9.377117,9.704506,9.961553,-1.1386797,6.750838,9.716717,9.550281,5.235568,-0.4670821,9.01909,8.842879,-0.948999,-0.52204484,7.284967,6.647737,8.27735,9.339154,9.866523,9.244942,1.3865856,2.723204,9.555266,-1.4313757,9.681246,-1.4401951,9.820534,9.968057,5.5719023,9.774903,9.401557,9.661726,6.852213,9.639681,9.407104,7.7239795,9.8636675,9.216741,9.483103,9.510761,9.680597,4.700317,9.196238,9.427354,9.674264,5.1799664,2.6593125,-0.9526799,9.492152,9.691556,9.441017,6.96127,9.67867,9.582095,9.632442,-1.3979635,9.785228,8.21942,9.729622,9.679407,9.936428,9.954368,6.7822485,9.459497,9.633252,8.037162,9.863632,3.3359883,9.542547,9.543487,-1.8391176,9.675133,3.199045,4.8028946,9.638327,-1.3632766,9.991338,-1.077493,9.616113,7.6309204,9.418092,8.310027,9.409654,9.688699,-1.7543973,9.947907,1.0538226,9.469567,3.2113855,9.831178,9.279017,4.6725583,9.421026,9.507161,2.7289004,9.774896,4.0775437,9.55266,-1.7561995,9.714244,9.38095,9.871065,4.685444,-1.9181743,9.491882,9.858797,7.436424,5.202078,6.279741,2.6278737,6.0504184,3.3990953,5.5637054,9.757974,8.99467,9.628297,9.399033,9.732151,8.343153,9.804952,9.961194,9.812181,9.795591,9.794119],\"xaxis\":\"x\",\"y\":[11.697874,14.094133,9.363437,-1.0793931,5.24195,3.7828171,3.0111463,-0.33388194,1.646559,-3.611279,2.6701255,-2.3450458,-4.6666856,11.089198,14.149686,-4.584868,-1.7324314,-2.4889553,11.8090105,3.1964087,6.004729,5.3911915,1.3774332,3.8055227,13.345014,11.819805,6.1212616,14.061836,1.2841315,13.495032,10.510746,7.955186,5.6623054,3.2688103,8.807285,13.990789,8.414237,10.751213,12.351327,3.9400103,5.500623,-0.5875574,13.959357,8.743604,13.547978,5.9395175,3.1910737,14.030863,5.2518654,-5.1358256,13.439045,8.9159,-3.133932,8.896978,-4.1396284,14.131808,13.797247,11.771457,-1.8129253,-2.500529,14.113598,13.926353,1.6603978,-2.250117,1.3629303,5.3841634,10.985162,13.627506,7.6293335,-2.331426,14.1996975,13.779988,-3.2360606,-0.52877563,2.5144494,3.313197,14.051758,10.410647,9.524475,13.982076,-2.351451,-0.6113229,2.891022,-4.6216893,5.4108872,-2.4176958,-5.117012,-0.82960904,-3.4645534,11.84633,10.47645,13.607578,1.8418179,11.468537,9.662958,14.196536,8.452751,8.95995,6.0611696,6.2410026,1.0616914,9.400655,12.220796,6.7663555,-2.6135507,-0.8176318,13.543415,-5.1976757,7.1160874,6.310018,10.941331,9.806229,3.1857207,-2.5576146,10.999802,5.641444,4.829305,8.741837,13.981033,-3.3787048,6.515511,6.5007453,-2.6480968,4.2489815,14.111379,12.889842,9.087264,6.8894544,1.528797,12.539878,-2.5097394,-2.8673913,-5.177601,1.3448001,9.6678295,-2.3555598,11.410915,1.5414256,12.307489,13.534604,-1.6417954,9.615498,-3.3284297,10.409489,-3.2216165,-4.5130825,1.009013,6.9194794,-2.2525935,9.060044,6.6345487,8.698957,13.608705,-2.5634527,-5.171193,-3.1631396,13.792812,1.0766343,12.601081,-2.5168786,1.0775304,4.384598,1.6010388,13.946524,-1.8988792,-0.96822035,11.745321,11.925596,-4.929711,-1.8481617,14.166124,14.181815,-0.9889131,-4.6880803,-3.4383824,11.253849,13.921235,14.030999,-3.4245014,-2.5759315,11.28537,5.9826794,-0.62287515,1.15278,4.8690944,6.220265,14.400444,9.3899765,1.2604241,6.7015195,14.091937,11.83096,-4.6017537,8.993736,-4.63478,14.038453,7.118152,13.945532,14.280438,2.9059403,-0.14466603,-2.5971334,6.20103,1.5052118,-3.4129262,0.5821869,14.61223,4.922261,-3.570173,8.816991,14.306179,7.9451203,13.185672,3.2400863,13.934999,13.808356,11.047714,-0.75544864,13.907927,5.9853716,3.6227455,13.948357,9.204011,13.366572,11.523347,9.623444,11.885568,11.320012,4.973832,3.2406383,-2.3542495,-5.149947,7.401258,13.8078,-2.0901835,3.5349832,14.224167,9.55492,11.501387,11.454985,9.005229,9.332204,13.6971035,13.865141,12.629937,9.524429,-2.2810848,10.963821,11.876938,13.590697,1.6228478,1.2900811,5.3794193,6.544337,-3.601927,-4.9202104,14.107148,6.1130576,9.506221,-0.59686,13.98903,-1.6988461,8.714279,13.273171,6.836793,10.620938,8.625136,0.10798181,-2.247647,14.079891,3.3299158,8.659712,4.9610662,14.249083,13.489634,8.945916,0.85387,-0.8634368,3.7567816,13.972774,-0.64023864,8.1416445,4.9782367,1.2010077,5.6818194,12.685607,-3.4306939,-1.8298577,6.6174707,-4.487591,14.204986,1.5924177,8.893661,12.890614,-2.4842753,13.748792,0.31450275,0.27549562,-2.1363049,7.876624,13.733818,14.203323,-0.6762796,0.999442,-5.170786,7.466356,-0.6649358,13.279982,3.3333025,12.576517,3.5834572,-0.6349602,2.570187,-4.7802143,11.4048605,1.8500131,13.778,-3.7660067,2.7810047,13.883656,3.6810665,1.8090645,13.501127,7.651282,14.013991,3.4471002,2.5583427,5.382138,3.7366838,6.904899,14.0788145,3.9730687,8.39519,-3.4969678,13.533618,14.19783,14.049175,13.397536,13.988545,14.118286,14.189957,7.2066307,11.07203,8.353594,3.7923648,5.72292,12.443938,-3.3966358,-5.0813537,-3.238744,6.653575,-2.5979416],\"yaxis\":\"y\",\"type\":\"scatter\"}],                        {\"template\":{\"data\":{\"histogram2dcontour\":[{\"type\":\"histogram2dcontour\",\"colorbar\":{\"outlinewidth\":0,\"ticks\":\"\"},\"colorscale\":[[0.0,\"#0d0887\"],[0.1111111111111111,\"#46039f\"],[0.2222222222222222,\"#7201a8\"],[0.3333333333333333,\"#9c179e\"],[0.4444444444444444,\"#bd3786\"],[0.5555555555555556,\"#d8576b\"],[0.6666666666666666,\"#ed7953\"],[0.7777777777777778,\"#fb9f3a\"],[0.8888888888888888,\"#fdca26\"],[1.0,\"#f0f921\"]]}],\"choropleth\":[{\"type\":\"choropleth\",\"colorbar\":{\"outlinewidth\":0,\"ticks\":\"\"}}],\"histogram2d\":[{\"type\":\"histogram2d\",\"colorbar\":{\"outlinewidth\":0,\"ticks\":\"\"},\"colorscale\":[[0.0,\"#0d0887\"],[0.1111111111111111,\"#46039f\"],[0.2222222222222222,\"#7201a8\"],[0.3333333333333333,\"#9c179e\"],[0.4444444444444444,\"#bd3786\"],[0.5555555555555556,\"#d8576b\"],[0.6666666666666666,\"#ed7953\"],[0.7777777777777778,\"#fb9f3a\"],[0.8888888888888888,\"#fdca26\"],[1.0,\"#f0f921\"]]}],\"heatmap\":[{\"type\":\"heatmap\",\"colorbar\":{\"outlinewidth\":0,\"ticks\":\"\"},\"colorscale\":[[0.0,\"#0d0887\"],[0.1111111111111111,\"#46039f\"],[0.2222222222222222,\"#7201a8\"],[0.3333333333333333,\"#9c179e\"],[0.4444444444444444,\"#bd3786\"],[0.5555555555555556,\"#d8576b\"],[0.6666666666666666,\"#ed7953\"],[0.7777777777777778,\"#fb9f3a\"],[0.8888888888888888,\"#fdca26\"],[1.0,\"#f0f921\"]]}],\"heatmapgl\":[{\"type\":\"heatmapgl\",\"colorbar\":{\"outlinewidth\":0,\"ticks\":\"\"},\"colorscale\":[[0.0,\"#0d0887\"],[0.1111111111111111,\"#46039f\"],[0.2222222222222222,\"#7201a8\"],[0.3333333333333333,\"#9c179e\"],[0.4444444444444444,\"#bd3786\"],[0.5555555555555556,\"#d8576b\"],[0.6666666666666666,\"#ed7953\"],[0.7777777777777778,\"#fb9f3a\"],[0.8888888888888888,\"#fdca26\"],[1.0,\"#f0f921\"]]}],\"contourcarpet\":[{\"type\":\"contourcarpet\",\"colorbar\":{\"outlinewidth\":0,\"ticks\":\"\"}}],\"contour\":[{\"type\":\"contour\",\"colorbar\":{\"outlinewidth\":0,\"ticks\":\"\"},\"colorscale\":[[0.0,\"#0d0887\"],[0.1111111111111111,\"#46039f\"],[0.2222222222222222,\"#7201a8\"],[0.3333333333333333,\"#9c179e\"],[0.4444444444444444,\"#bd3786\"],[0.5555555555555556,\"#d8576b\"],[0.6666666666666666,\"#ed7953\"],[0.7777777777777778,\"#fb9f3a\"],[0.8888888888888888,\"#fdca26\"],[1.0,\"#f0f921\"]]}],\"surface\":[{\"type\":\"surface\",\"colorbar\":{\"outlinewidth\":0,\"ticks\":\"\"},\"colorscale\":[[0.0,\"#0d0887\"],[0.1111111111111111,\"#46039f\"],[0.2222222222222222,\"#7201a8\"],[0.3333333333333333,\"#9c179e\"],[0.4444444444444444,\"#bd3786\"],[0.5555555555555556,\"#d8576b\"],[0.6666666666666666,\"#ed7953\"],[0.7777777777777778,\"#fb9f3a\"],[0.8888888888888888,\"#fdca26\"],[1.0,\"#f0f921\"]]}],\"mesh3d\":[{\"type\":\"mesh3d\",\"colorbar\":{\"outlinewidth\":0,\"ticks\":\"\"}}],\"scatter\":[{\"fillpattern\":{\"fillmode\":\"overlay\",\"size\":10,\"solidity\":0.2},\"type\":\"scatter\"}],\"parcoords\":[{\"type\":\"parcoords\",\"line\":{\"colorbar\":{\"outlinewidth\":0,\"ticks\":\"\"}}}],\"scatterpolargl\":[{\"type\":\"scatterpolargl\",\"marker\":{\"colorbar\":{\"outlinewidth\":0,\"ticks\":\"\"}}}],\"bar\":[{\"error_x\":{\"color\":\"#2a3f5f\"},\"error_y\":{\"color\":\"#2a3f5f\"},\"marker\":{\"line\":{\"color\":\"#E5ECF6\",\"width\":0.5},\"pattern\":{\"fillmode\":\"overlay\",\"size\":10,\"solidity\":0.2}},\"type\":\"bar\"}],\"scattergeo\":[{\"type\":\"scattergeo\",\"marker\":{\"colorbar\":{\"outlinewidth\":0,\"ticks\":\"\"}}}],\"scatterpolar\":[{\"type\":\"scatterpolar\",\"marker\":{\"colorbar\":{\"outlinewidth\":0,\"ticks\":\"\"}}}],\"histogram\":[{\"marker\":{\"pattern\":{\"fillmode\":\"overlay\",\"size\":10,\"solidity\":0.2}},\"type\":\"histogram\"}],\"scattergl\":[{\"type\":\"scattergl\",\"marker\":{\"colorbar\":{\"outlinewidth\":0,\"ticks\":\"\"}}}],\"scatter3d\":[{\"type\":\"scatter3d\",\"line\":{\"colorbar\":{\"outlinewidth\":0,\"ticks\":\"\"}},\"marker\":{\"colorbar\":{\"outlinewidth\":0,\"ticks\":\"\"}}}],\"scattermapbox\":[{\"type\":\"scattermapbox\",\"marker\":{\"colorbar\":{\"outlinewidth\":0,\"ticks\":\"\"}}}],\"scatterternary\":[{\"type\":\"scatterternary\",\"marker\":{\"colorbar\":{\"outlinewidth\":0,\"ticks\":\"\"}}}],\"scattercarpet\":[{\"type\":\"scattercarpet\",\"marker\":{\"colorbar\":{\"outlinewidth\":0,\"ticks\":\"\"}}}],\"carpet\":[{\"aaxis\":{\"endlinecolor\":\"#2a3f5f\",\"gridcolor\":\"white\",\"linecolor\":\"white\",\"minorgridcolor\":\"white\",\"startlinecolor\":\"#2a3f5f\"},\"baxis\":{\"endlinecolor\":\"#2a3f5f\",\"gridcolor\":\"white\",\"linecolor\":\"white\",\"minorgridcolor\":\"white\",\"startlinecolor\":\"#2a3f5f\"},\"type\":\"carpet\"}],\"table\":[{\"cells\":{\"fill\":{\"color\":\"#EBF0F8\"},\"line\":{\"color\":\"white\"}},\"header\":{\"fill\":{\"color\":\"#C8D4E3\"},\"line\":{\"color\":\"white\"}},\"type\":\"table\"}],\"barpolar\":[{\"marker\":{\"line\":{\"color\":\"#E5ECF6\",\"width\":0.5},\"pattern\":{\"fillmode\":\"overlay\",\"size\":10,\"solidity\":0.2}},\"type\":\"barpolar\"}],\"pie\":[{\"automargin\":true,\"type\":\"pie\"}]},\"layout\":{\"autotypenumbers\":\"strict\",\"colorway\":[\"#636efa\",\"#EF553B\",\"#00cc96\",\"#ab63fa\",\"#FFA15A\",\"#19d3f3\",\"#FF6692\",\"#B6E880\",\"#FF97FF\",\"#FECB52\"],\"font\":{\"color\":\"#2a3f5f\"},\"hovermode\":\"closest\",\"hoverlabel\":{\"align\":\"left\"},\"paper_bgcolor\":\"white\",\"plot_bgcolor\":\"#E5ECF6\",\"polar\":{\"bgcolor\":\"#E5ECF6\",\"angularaxis\":{\"gridcolor\":\"white\",\"linecolor\":\"white\",\"ticks\":\"\"},\"radialaxis\":{\"gridcolor\":\"white\",\"linecolor\":\"white\",\"ticks\":\"\"}},\"ternary\":{\"bgcolor\":\"#E5ECF6\",\"aaxis\":{\"gridcolor\":\"white\",\"linecolor\":\"white\",\"ticks\":\"\"},\"baxis\":{\"gridcolor\":\"white\",\"linecolor\":\"white\",\"ticks\":\"\"},\"caxis\":{\"gridcolor\":\"white\",\"linecolor\":\"white\",\"ticks\":\"\"}},\"coloraxis\":{\"colorbar\":{\"outlinewidth\":0,\"ticks\":\"\"}},\"colorscale\":{\"sequential\":[[0.0,\"#0d0887\"],[0.1111111111111111,\"#46039f\"],[0.2222222222222222,\"#7201a8\"],[0.3333333333333333,\"#9c179e\"],[0.4444444444444444,\"#bd3786\"],[0.5555555555555556,\"#d8576b\"],[0.6666666666666666,\"#ed7953\"],[0.7777777777777778,\"#fb9f3a\"],[0.8888888888888888,\"#fdca26\"],[1.0,\"#f0f921\"]],\"sequentialminus\":[[0.0,\"#0d0887\"],[0.1111111111111111,\"#46039f\"],[0.2222222222222222,\"#7201a8\"],[0.3333333333333333,\"#9c179e\"],[0.4444444444444444,\"#bd3786\"],[0.5555555555555556,\"#d8576b\"],[0.6666666666666666,\"#ed7953\"],[0.7777777777777778,\"#fb9f3a\"],[0.8888888888888888,\"#fdca26\"],[1.0,\"#f0f921\"]],\"diverging\":[[0,\"#8e0152\"],[0.1,\"#c51b7d\"],[0.2,\"#de77ae\"],[0.3,\"#f1b6da\"],[0.4,\"#fde0ef\"],[0.5,\"#f7f7f7\"],[0.6,\"#e6f5d0\"],[0.7,\"#b8e186\"],[0.8,\"#7fbc41\"],[0.9,\"#4d9221\"],[1,\"#276419\"]]},\"xaxis\":{\"gridcolor\":\"white\",\"linecolor\":\"white\",\"ticks\":\"\",\"title\":{\"standoff\":15},\"zerolinecolor\":\"white\",\"automargin\":true,\"zerolinewidth\":2},\"yaxis\":{\"gridcolor\":\"white\",\"linecolor\":\"white\",\"ticks\":\"\",\"title\":{\"standoff\":15},\"zerolinecolor\":\"white\",\"automargin\":true,\"zerolinewidth\":2},\"scene\":{\"xaxis\":{\"backgroundcolor\":\"#E5ECF6\",\"gridcolor\":\"white\",\"linecolor\":\"white\",\"showbackground\":true,\"ticks\":\"\",\"zerolinecolor\":\"white\",\"gridwidth\":2},\"yaxis\":{\"backgroundcolor\":\"#E5ECF6\",\"gridcolor\":\"white\",\"linecolor\":\"white\",\"showbackground\":true,\"ticks\":\"\",\"zerolinecolor\":\"white\",\"gridwidth\":2},\"zaxis\":{\"backgroundcolor\":\"#E5ECF6\",\"gridcolor\":\"white\",\"linecolor\":\"white\",\"showbackground\":true,\"ticks\":\"\",\"zerolinecolor\":\"white\",\"gridwidth\":2}},\"shapedefaults\":{\"line\":{\"color\":\"#2a3f5f\"}},\"annotationdefaults\":{\"arrowcolor\":\"#2a3f5f\",\"arrowhead\":0,\"arrowwidth\":1},\"geo\":{\"bgcolor\":\"white\",\"landcolor\":\"#E5ECF6\",\"subunitcolor\":\"white\",\"showland\":true,\"showlakes\":true,\"lakecolor\":\"white\"},\"title\":{\"x\":0.05},\"mapbox\":{\"style\":\"light\"}}},\"xaxis\":{\"anchor\":\"y\",\"domain\":[0.0,1.0],\"title\":{\"text\":\"x\"}},\"yaxis\":{\"anchor\":\"x\",\"domain\":[0.0,1.0],\"title\":{\"text\":\"y\"}},\"legend\":{\"title\":{\"text\":\"grade\"},\"tracegroupgap\":0},\"margin\":{\"t\":60}},                        {\"responsive\": true}                    ).then(function(){\n",
       "                            \n",
       "var gd = document.getElementById('234ededb-5a7f-4ec9-87af-13f1dc6736ee');\n",
       "var x = new MutationObserver(function (mutations, observer) {{\n",
       "        var display = window.getComputedStyle(gd).display;\n",
       "        if (!display || display === 'none') {{\n",
       "            console.log([gd, 'removed!']);\n",
       "            Plotly.purge(gd);\n",
       "            observer.disconnect();\n",
       "        }}\n",
       "}});\n",
       "\n",
       "// Listen for the removal of the full notebook cells\n",
       "var notebookContainer = gd.closest('#notebook-container');\n",
       "if (notebookContainer) {{\n",
       "    x.observe(notebookContainer, {childList: true});\n",
       "}}\n",
       "\n",
       "// Listen for the clearing of the current output cell\n",
       "var outputEl = gd.closest('.output');\n",
       "if (outputEl) {{\n",
       "    x.observe(outputEl, {childList: true});\n",
       "}}\n",
       "\n",
       "                        })                };                });            </script>        </div>"
      ]
     },
     "metadata": {},
     "output_type": "display_data"
    }
   ],
   "source": [
    "from umap import UMAP\n",
    "from plotly import express\n",
    "\n",
    "columns = ['Gender', 'Age_at_diagnosis', 'Race', 'IDH1', 'TP53', 'ATRX','PTEN', 'EGFR', 'CIC', 'MUC16', 'PIK3CA', 'NF1', 'PIK3R1', 'FUBP1', 'RB1', 'NOTCH1', 'BCOR', 'CSMD3', 'SMARCA4', 'GRIN2A', 'IDH2', 'FAT4','PDGFRA']\n",
    "df['grade'] = df['Grade'].map({0: 'LGG', 1: 'GBM'})\n",
    "target = 'grade'\n",
    "\n",
    "reducer = UMAP(n_components=2, random_state=2024, transform_seed=2024, verbose=True, n_jobs=1, n_epochs=200)\n",
    "df[['x', 'y']] = pd.DataFrame(data=reducer.fit_transform(X=df[columns]))\n",
    "express.scatter(data_frame=df, x='x', y='y', color=target, ).show()"
   ]
  },
  {
   "cell_type": "markdown",
   "id": "0cfe84b7",
   "metadata": {
    "papermill": {
     "duration": 0.007919,
     "end_time": "2024-03-06T16:20:32.919699",
     "exception": false,
     "start_time": "2024-03-06T16:20:32.911780",
     "status": "completed"
    },
    "tags": []
   },
   "source": [
    "This looks encouraging: we have lots of cases that dimension reduction separates and a minority that it does'nt; let's build a simple classifier and see which features matter."
   ]
  },
  {
   "cell_type": "code",
   "execution_count": 5,
   "id": "a6ea9ae5",
   "metadata": {
    "execution": {
     "iopub.execute_input": "2024-03-06T16:20:32.937757Z",
     "iopub.status.busy": "2024-03-06T16:20:32.936874Z",
     "iopub.status.idle": "2024-03-06T16:20:33.185392Z",
     "shell.execute_reply": "2024-03-06T16:20:33.184184Z"
    },
    "papermill": {
     "duration": 0.261028,
     "end_time": "2024-03-06T16:20:33.188459",
     "exception": false,
     "start_time": "2024-03-06T16:20:32.927431",
     "status": "completed"
    },
    "tags": []
   },
   "outputs": [
    {
     "name": "stdout",
     "output_type": "stream",
     "text": [
      "accuracy: 0.8690 \n"
     ]
    },
    {
     "data": {
      "text/html": [
       "<div>                            <div id=\"c99a32c6-02d6-40b4-8258-c20f49624f37\" class=\"plotly-graph-div\" style=\"height:525px; width:100%;\"></div>            <script type=\"text/javascript\">                require([\"plotly\"], function(Plotly) {                    window.PLOTLYENV=window.PLOTLYENV || {};                                    if (document.getElementById(\"c99a32c6-02d6-40b4-8258-c20f49624f37\")) {                    Plotly.newPlot(                        \"c99a32c6-02d6-40b4-8258-c20f49624f37\",                        [{\"alignmentgroup\":\"True\",\"bingroup\":\"x\",\"histfunc\":\"sum\",\"hovertemplate\":\"x=%{x}\\u003cbr\\u003esum of y=%{y}\\u003cextra\\u003e\\u003c\\u002fextra\\u003e\",\"legendgroup\":\"\",\"marker\":{\"color\":\"#636efa\",\"pattern\":{\"shape\":\"\"}},\"name\":\"\",\"offsetgroup\":\"\",\"orientation\":\"v\",\"showlegend\":false,\"x\":[\"Gender\",\"Age_at_diagnosis\",\"Race\",\"IDH1\",\"TP53\",\"ATRX\",\"PTEN\",\"EGFR\",\"CIC\",\"MUC16\",\"PIK3CA\",\"NF1\",\"PIK3R1\",\"FUBP1\",\"RB1\",\"NOTCH1\",\"BCOR\",\"CSMD3\",\"SMARCA4\",\"GRIN2A\",\"IDH2\",\"FAT4\",\"PDGFRA\"],\"xaxis\":\"x\",\"y\":[0.09233102499694201,-0.038119080782892084,-0.19855088422923028,3.5587856739935573,-0.9103919114697057,0.27101151499381365,-0.6115076604268507,0.6311026289182665,0.714343345986537,-0.554538459887015,-0.16210629176071925,0.8066592323550347,-1.1079249239321067,0.40093330510657493,-0.3005887848880815,1.1964389654085628,0.2130291950036003,-0.30256215910891593,0.46733565584861164,-0.9356757518323046,1.734436055349924,-0.20540354440716882,-0.5526811339189839],\"yaxis\":\"y\",\"type\":\"histogram\"}],                        {\"template\":{\"data\":{\"histogram2dcontour\":[{\"type\":\"histogram2dcontour\",\"colorbar\":{\"outlinewidth\":0,\"ticks\":\"\"},\"colorscale\":[[0.0,\"#0d0887\"],[0.1111111111111111,\"#46039f\"],[0.2222222222222222,\"#7201a8\"],[0.3333333333333333,\"#9c179e\"],[0.4444444444444444,\"#bd3786\"],[0.5555555555555556,\"#d8576b\"],[0.6666666666666666,\"#ed7953\"],[0.7777777777777778,\"#fb9f3a\"],[0.8888888888888888,\"#fdca26\"],[1.0,\"#f0f921\"]]}],\"choropleth\":[{\"type\":\"choropleth\",\"colorbar\":{\"outlinewidth\":0,\"ticks\":\"\"}}],\"histogram2d\":[{\"type\":\"histogram2d\",\"colorbar\":{\"outlinewidth\":0,\"ticks\":\"\"},\"colorscale\":[[0.0,\"#0d0887\"],[0.1111111111111111,\"#46039f\"],[0.2222222222222222,\"#7201a8\"],[0.3333333333333333,\"#9c179e\"],[0.4444444444444444,\"#bd3786\"],[0.5555555555555556,\"#d8576b\"],[0.6666666666666666,\"#ed7953\"],[0.7777777777777778,\"#fb9f3a\"],[0.8888888888888888,\"#fdca26\"],[1.0,\"#f0f921\"]]}],\"heatmap\":[{\"type\":\"heatmap\",\"colorbar\":{\"outlinewidth\":0,\"ticks\":\"\"},\"colorscale\":[[0.0,\"#0d0887\"],[0.1111111111111111,\"#46039f\"],[0.2222222222222222,\"#7201a8\"],[0.3333333333333333,\"#9c179e\"],[0.4444444444444444,\"#bd3786\"],[0.5555555555555556,\"#d8576b\"],[0.6666666666666666,\"#ed7953\"],[0.7777777777777778,\"#fb9f3a\"],[0.8888888888888888,\"#fdca26\"],[1.0,\"#f0f921\"]]}],\"heatmapgl\":[{\"type\":\"heatmapgl\",\"colorbar\":{\"outlinewidth\":0,\"ticks\":\"\"},\"colorscale\":[[0.0,\"#0d0887\"],[0.1111111111111111,\"#46039f\"],[0.2222222222222222,\"#7201a8\"],[0.3333333333333333,\"#9c179e\"],[0.4444444444444444,\"#bd3786\"],[0.5555555555555556,\"#d8576b\"],[0.6666666666666666,\"#ed7953\"],[0.7777777777777778,\"#fb9f3a\"],[0.8888888888888888,\"#fdca26\"],[1.0,\"#f0f921\"]]}],\"contourcarpet\":[{\"type\":\"contourcarpet\",\"colorbar\":{\"outlinewidth\":0,\"ticks\":\"\"}}],\"contour\":[{\"type\":\"contour\",\"colorbar\":{\"outlinewidth\":0,\"ticks\":\"\"},\"colorscale\":[[0.0,\"#0d0887\"],[0.1111111111111111,\"#46039f\"],[0.2222222222222222,\"#7201a8\"],[0.3333333333333333,\"#9c179e\"],[0.4444444444444444,\"#bd3786\"],[0.5555555555555556,\"#d8576b\"],[0.6666666666666666,\"#ed7953\"],[0.7777777777777778,\"#fb9f3a\"],[0.8888888888888888,\"#fdca26\"],[1.0,\"#f0f921\"]]}],\"surface\":[{\"type\":\"surface\",\"colorbar\":{\"outlinewidth\":0,\"ticks\":\"\"},\"colorscale\":[[0.0,\"#0d0887\"],[0.1111111111111111,\"#46039f\"],[0.2222222222222222,\"#7201a8\"],[0.3333333333333333,\"#9c179e\"],[0.4444444444444444,\"#bd3786\"],[0.5555555555555556,\"#d8576b\"],[0.6666666666666666,\"#ed7953\"],[0.7777777777777778,\"#fb9f3a\"],[0.8888888888888888,\"#fdca26\"],[1.0,\"#f0f921\"]]}],\"mesh3d\":[{\"type\":\"mesh3d\",\"colorbar\":{\"outlinewidth\":0,\"ticks\":\"\"}}],\"scatter\":[{\"fillpattern\":{\"fillmode\":\"overlay\",\"size\":10,\"solidity\":0.2},\"type\":\"scatter\"}],\"parcoords\":[{\"type\":\"parcoords\",\"line\":{\"colorbar\":{\"outlinewidth\":0,\"ticks\":\"\"}}}],\"scatterpolargl\":[{\"type\":\"scatterpolargl\",\"marker\":{\"colorbar\":{\"outlinewidth\":0,\"ticks\":\"\"}}}],\"bar\":[{\"error_x\":{\"color\":\"#2a3f5f\"},\"error_y\":{\"color\":\"#2a3f5f\"},\"marker\":{\"line\":{\"color\":\"#E5ECF6\",\"width\":0.5},\"pattern\":{\"fillmode\":\"overlay\",\"size\":10,\"solidity\":0.2}},\"type\":\"bar\"}],\"scattergeo\":[{\"type\":\"scattergeo\",\"marker\":{\"colorbar\":{\"outlinewidth\":0,\"ticks\":\"\"}}}],\"scatterpolar\":[{\"type\":\"scatterpolar\",\"marker\":{\"colorbar\":{\"outlinewidth\":0,\"ticks\":\"\"}}}],\"histogram\":[{\"marker\":{\"pattern\":{\"fillmode\":\"overlay\",\"size\":10,\"solidity\":0.2}},\"type\":\"histogram\"}],\"scattergl\":[{\"type\":\"scattergl\",\"marker\":{\"colorbar\":{\"outlinewidth\":0,\"ticks\":\"\"}}}],\"scatter3d\":[{\"type\":\"scatter3d\",\"line\":{\"colorbar\":{\"outlinewidth\":0,\"ticks\":\"\"}},\"marker\":{\"colorbar\":{\"outlinewidth\":0,\"ticks\":\"\"}}}],\"scattermapbox\":[{\"type\":\"scattermapbox\",\"marker\":{\"colorbar\":{\"outlinewidth\":0,\"ticks\":\"\"}}}],\"scatterternary\":[{\"type\":\"scatterternary\",\"marker\":{\"colorbar\":{\"outlinewidth\":0,\"ticks\":\"\"}}}],\"scattercarpet\":[{\"type\":\"scattercarpet\",\"marker\":{\"colorbar\":{\"outlinewidth\":0,\"ticks\":\"\"}}}],\"carpet\":[{\"aaxis\":{\"endlinecolor\":\"#2a3f5f\",\"gridcolor\":\"white\",\"linecolor\":\"white\",\"minorgridcolor\":\"white\",\"startlinecolor\":\"#2a3f5f\"},\"baxis\":{\"endlinecolor\":\"#2a3f5f\",\"gridcolor\":\"white\",\"linecolor\":\"white\",\"minorgridcolor\":\"white\",\"startlinecolor\":\"#2a3f5f\"},\"type\":\"carpet\"}],\"table\":[{\"cells\":{\"fill\":{\"color\":\"#EBF0F8\"},\"line\":{\"color\":\"white\"}},\"header\":{\"fill\":{\"color\":\"#C8D4E3\"},\"line\":{\"color\":\"white\"}},\"type\":\"table\"}],\"barpolar\":[{\"marker\":{\"line\":{\"color\":\"#E5ECF6\",\"width\":0.5},\"pattern\":{\"fillmode\":\"overlay\",\"size\":10,\"solidity\":0.2}},\"type\":\"barpolar\"}],\"pie\":[{\"automargin\":true,\"type\":\"pie\"}]},\"layout\":{\"autotypenumbers\":\"strict\",\"colorway\":[\"#636efa\",\"#EF553B\",\"#00cc96\",\"#ab63fa\",\"#FFA15A\",\"#19d3f3\",\"#FF6692\",\"#B6E880\",\"#FF97FF\",\"#FECB52\"],\"font\":{\"color\":\"#2a3f5f\"},\"hovermode\":\"closest\",\"hoverlabel\":{\"align\":\"left\"},\"paper_bgcolor\":\"white\",\"plot_bgcolor\":\"#E5ECF6\",\"polar\":{\"bgcolor\":\"#E5ECF6\",\"angularaxis\":{\"gridcolor\":\"white\",\"linecolor\":\"white\",\"ticks\":\"\"},\"radialaxis\":{\"gridcolor\":\"white\",\"linecolor\":\"white\",\"ticks\":\"\"}},\"ternary\":{\"bgcolor\":\"#E5ECF6\",\"aaxis\":{\"gridcolor\":\"white\",\"linecolor\":\"white\",\"ticks\":\"\"},\"baxis\":{\"gridcolor\":\"white\",\"linecolor\":\"white\",\"ticks\":\"\"},\"caxis\":{\"gridcolor\":\"white\",\"linecolor\":\"white\",\"ticks\":\"\"}},\"coloraxis\":{\"colorbar\":{\"outlinewidth\":0,\"ticks\":\"\"}},\"colorscale\":{\"sequential\":[[0.0,\"#0d0887\"],[0.1111111111111111,\"#46039f\"],[0.2222222222222222,\"#7201a8\"],[0.3333333333333333,\"#9c179e\"],[0.4444444444444444,\"#bd3786\"],[0.5555555555555556,\"#d8576b\"],[0.6666666666666666,\"#ed7953\"],[0.7777777777777778,\"#fb9f3a\"],[0.8888888888888888,\"#fdca26\"],[1.0,\"#f0f921\"]],\"sequentialminus\":[[0.0,\"#0d0887\"],[0.1111111111111111,\"#46039f\"],[0.2222222222222222,\"#7201a8\"],[0.3333333333333333,\"#9c179e\"],[0.4444444444444444,\"#bd3786\"],[0.5555555555555556,\"#d8576b\"],[0.6666666666666666,\"#ed7953\"],[0.7777777777777778,\"#fb9f3a\"],[0.8888888888888888,\"#fdca26\"],[1.0,\"#f0f921\"]],\"diverging\":[[0,\"#8e0152\"],[0.1,\"#c51b7d\"],[0.2,\"#de77ae\"],[0.3,\"#f1b6da\"],[0.4,\"#fde0ef\"],[0.5,\"#f7f7f7\"],[0.6,\"#e6f5d0\"],[0.7,\"#b8e186\"],[0.8,\"#7fbc41\"],[0.9,\"#4d9221\"],[1,\"#276419\"]]},\"xaxis\":{\"gridcolor\":\"white\",\"linecolor\":\"white\",\"ticks\":\"\",\"title\":{\"standoff\":15},\"zerolinecolor\":\"white\",\"automargin\":true,\"zerolinewidth\":2},\"yaxis\":{\"gridcolor\":\"white\",\"linecolor\":\"white\",\"ticks\":\"\",\"title\":{\"standoff\":15},\"zerolinecolor\":\"white\",\"automargin\":true,\"zerolinewidth\":2},\"scene\":{\"xaxis\":{\"backgroundcolor\":\"#E5ECF6\",\"gridcolor\":\"white\",\"linecolor\":\"white\",\"showbackground\":true,\"ticks\":\"\",\"zerolinecolor\":\"white\",\"gridwidth\":2},\"yaxis\":{\"backgroundcolor\":\"#E5ECF6\",\"gridcolor\":\"white\",\"linecolor\":\"white\",\"showbackground\":true,\"ticks\":\"\",\"zerolinecolor\":\"white\",\"gridwidth\":2},\"zaxis\":{\"backgroundcolor\":\"#E5ECF6\",\"gridcolor\":\"white\",\"linecolor\":\"white\",\"showbackground\":true,\"ticks\":\"\",\"zerolinecolor\":\"white\",\"gridwidth\":2}},\"shapedefaults\":{\"line\":{\"color\":\"#2a3f5f\"}},\"annotationdefaults\":{\"arrowcolor\":\"#2a3f5f\",\"arrowhead\":0,\"arrowwidth\":1},\"geo\":{\"bgcolor\":\"white\",\"landcolor\":\"#E5ECF6\",\"subunitcolor\":\"white\",\"showland\":true,\"showlakes\":true,\"lakecolor\":\"white\"},\"title\":{\"x\":0.05},\"mapbox\":{\"style\":\"light\"}}},\"xaxis\":{\"anchor\":\"y\",\"domain\":[0.0,1.0],\"title\":{\"text\":\"x\"}},\"yaxis\":{\"anchor\":\"x\",\"domain\":[0.0,1.0],\"title\":{\"text\":\"sum of y\"}},\"legend\":{\"tracegroupgap\":0},\"margin\":{\"t\":60},\"barmode\":\"relative\"},                        {\"responsive\": true}                    ).then(function(){\n",
       "                            \n",
       "var gd = document.getElementById('c99a32c6-02d6-40b4-8258-c20f49624f37');\n",
       "var x = new MutationObserver(function (mutations, observer) {{\n",
       "        var display = window.getComputedStyle(gd).display;\n",
       "        if (!display || display === 'none') {{\n",
       "            console.log([gd, 'removed!']);\n",
       "            Plotly.purge(gd);\n",
       "            observer.disconnect();\n",
       "        }}\n",
       "}});\n",
       "\n",
       "// Listen for the removal of the full notebook cells\n",
       "var notebookContainer = gd.closest('#notebook-container');\n",
       "if (notebookContainer) {{\n",
       "    x.observe(notebookContainer, {childList: true});\n",
       "}}\n",
       "\n",
       "// Listen for the clearing of the current output cell\n",
       "var outputEl = gd.closest('.output');\n",
       "if (outputEl) {{\n",
       "    x.observe(outputEl, {childList: true});\n",
       "}}\n",
       "\n",
       "                        })                };                });            </script>        </div>"
      ]
     },
     "metadata": {},
     "output_type": "display_data"
    }
   ],
   "source": [
    "from sklearn.linear_model import LogisticRegression\n",
    "from sklearn.model_selection import train_test_split\n",
    "from sklearn.metrics import accuracy_score\n",
    "\n",
    "X_train, X_test, y_train, y_test = train_test_split(df[columns], df['grade'], test_size=0.2, random_state=2024)\n",
    "\n",
    "regression = LogisticRegression(max_iter=100000)\n",
    "\n",
    "regression.fit(X=X_train, y=y_train)\n",
    "print('accuracy: {:5.4f} '.format(regression.score(X=X_test, y=y_test)))\n",
    "express.histogram(y=regression.coef_.tolist()[0], x=columns).show(validate=True)"
   ]
  },
  {
   "cell_type": "markdown",
   "id": "46185fc4",
   "metadata": {
    "papermill": {
     "duration": 0.008102,
     "end_time": "2024-03-06T16:20:33.205333",
     "exception": false,
     "start_time": "2024-03-06T16:20:33.197231",
     "status": "completed"
    },
    "tags": []
   },
   "source": [
    "Wow. Genetic mutations dominate our regression coefficients. Let's build a more complicated model and see if we can improve the accuracy."
   ]
  },
  {
   "cell_type": "code",
   "execution_count": 6,
   "id": "96f8772b",
   "metadata": {
    "execution": {
     "iopub.execute_input": "2024-03-06T16:20:33.225796Z",
     "iopub.status.busy": "2024-03-06T16:20:33.224500Z",
     "iopub.status.idle": "2024-03-06T16:20:33.615911Z",
     "shell.execute_reply": "2024-03-06T16:20:33.614686Z"
    },
    "papermill": {
     "duration": 0.404806,
     "end_time": "2024-03-06T16:20:33.618656",
     "exception": false,
     "start_time": "2024-03-06T16:20:33.213850",
     "status": "completed"
    },
    "tags": []
   },
   "outputs": [
    {
     "name": "stdout",
     "output_type": "stream",
     "text": [
      "score: 0.8869\n",
      "              precision    recall  f1-score   support\n",
      "\n",
      "         GBM       0.88      0.81      0.84        63\n",
      "         LGG       0.89      0.93      0.91       105\n",
      "\n",
      "    accuracy                           0.89       168\n",
      "   macro avg       0.89      0.87      0.88       168\n",
      "weighted avg       0.89      0.89      0.89       168\n",
      "\n"
     ]
    }
   ],
   "source": [
    "from sklearn.metrics import classification_report\n",
    "from sklearn.ensemble import AdaBoostClassifier\n",
    "from sklearn.tree import DecisionTreeClassifier\n",
    "\n",
    "\n",
    "model = AdaBoostClassifier(algorithm='SAMME', estimator=DecisionTreeClassifier(max_depth=4, random_state=2024), n_estimators=71, random_state=2024)\n",
    "model.fit(X=X_train, y=y_train)\n",
    "print('score: {:5.4f}'.format(model.score(X=X_test, y=y_test)))\n",
    "print(classification_report(y_true=y_test, y_pred=model.predict(X=X_test,)))\n"
   ]
  },
  {
   "cell_type": "markdown",
   "id": "3d1d3eef",
   "metadata": {
    "papermill": {
     "duration": 0.008202,
     "end_time": "2024-03-06T16:20:33.635359",
     "exception": false,
     "start_time": "2024-03-06T16:20:33.627157",
     "status": "completed"
    },
    "tags": []
   },
   "source": [
    "Let's look at the feature importances from the AdaBoost model."
   ]
  },
  {
   "cell_type": "code",
   "execution_count": 7,
   "id": "52af858b",
   "metadata": {
    "execution": {
     "iopub.execute_input": "2024-03-06T16:20:33.655231Z",
     "iopub.status.busy": "2024-03-06T16:20:33.654483Z",
     "iopub.status.idle": "2024-03-06T16:20:33.729603Z",
     "shell.execute_reply": "2024-03-06T16:20:33.728415Z"
    },
    "papermill": {
     "duration": 0.088158,
     "end_time": "2024-03-06T16:20:33.732053",
     "exception": false,
     "start_time": "2024-03-06T16:20:33.643895",
     "status": "completed"
    },
    "tags": []
   },
   "outputs": [
    {
     "data": {
      "text/html": [
       "<div>                            <div id=\"1ed0598d-a97f-4a9a-90ad-827ca1d21b39\" class=\"plotly-graph-div\" style=\"height:525px; width:100%;\"></div>            <script type=\"text/javascript\">                require([\"plotly\"], function(Plotly) {                    window.PLOTLYENV=window.PLOTLYENV || {};                                    if (document.getElementById(\"1ed0598d-a97f-4a9a-90ad-827ca1d21b39\")) {                    Plotly.newPlot(                        \"1ed0598d-a97f-4a9a-90ad-827ca1d21b39\",                        [{\"alignmentgroup\":\"True\",\"bingroup\":\"x\",\"histfunc\":\"sum\",\"hovertemplate\":\"x=%{x}\\u003cbr\\u003esum of y=%{y}\\u003cextra\\u003e\\u003c\\u002fextra\\u003e\",\"legendgroup\":\"\",\"marker\":{\"color\":\"#636efa\",\"pattern\":{\"shape\":\"\"}},\"name\":\"\",\"offsetgroup\":\"\",\"orientation\":\"v\",\"showlegend\":false,\"x\":[\"Gender\",\"Age_at_diagnosis\",\"Race\",\"IDH1\",\"TP53\",\"ATRX\",\"PTEN\",\"EGFR\",\"CIC\",\"MUC16\",\"PIK3CA\",\"NF1\",\"PIK3R1\",\"FUBP1\",\"RB1\",\"NOTCH1\",\"BCOR\",\"CSMD3\",\"SMARCA4\",\"GRIN2A\",\"IDH2\",\"FAT4\",\"PDGFRA\"],\"xaxis\":\"x\",\"y\":[0.019434813726657535,0.5458775952066254,0.040102208886771774,0.11032712216119471,0.032351785180608834,0.027059862087691382,0.013173247762217921,0.008172449754027793,0.01827172210925631,0.016102080947872074,0.018566843011291682,0.010203817475306715,0.012671536568004323,0.010649774131395085,0.00467751581120035,0.035578189355342286,0.0018719610508880912,4.293910618526225e-18,0.01204124157604012,0.023475982849728263,0.03496718604274855,0.0028926948596636128,0.001530369445467364],\"yaxis\":\"y\",\"type\":\"histogram\"}],                        {\"template\":{\"data\":{\"histogram2dcontour\":[{\"type\":\"histogram2dcontour\",\"colorbar\":{\"outlinewidth\":0,\"ticks\":\"\"},\"colorscale\":[[0.0,\"#0d0887\"],[0.1111111111111111,\"#46039f\"],[0.2222222222222222,\"#7201a8\"],[0.3333333333333333,\"#9c179e\"],[0.4444444444444444,\"#bd3786\"],[0.5555555555555556,\"#d8576b\"],[0.6666666666666666,\"#ed7953\"],[0.7777777777777778,\"#fb9f3a\"],[0.8888888888888888,\"#fdca26\"],[1.0,\"#f0f921\"]]}],\"choropleth\":[{\"type\":\"choropleth\",\"colorbar\":{\"outlinewidth\":0,\"ticks\":\"\"}}],\"histogram2d\":[{\"type\":\"histogram2d\",\"colorbar\":{\"outlinewidth\":0,\"ticks\":\"\"},\"colorscale\":[[0.0,\"#0d0887\"],[0.1111111111111111,\"#46039f\"],[0.2222222222222222,\"#7201a8\"],[0.3333333333333333,\"#9c179e\"],[0.4444444444444444,\"#bd3786\"],[0.5555555555555556,\"#d8576b\"],[0.6666666666666666,\"#ed7953\"],[0.7777777777777778,\"#fb9f3a\"],[0.8888888888888888,\"#fdca26\"],[1.0,\"#f0f921\"]]}],\"heatmap\":[{\"type\":\"heatmap\",\"colorbar\":{\"outlinewidth\":0,\"ticks\":\"\"},\"colorscale\":[[0.0,\"#0d0887\"],[0.1111111111111111,\"#46039f\"],[0.2222222222222222,\"#7201a8\"],[0.3333333333333333,\"#9c179e\"],[0.4444444444444444,\"#bd3786\"],[0.5555555555555556,\"#d8576b\"],[0.6666666666666666,\"#ed7953\"],[0.7777777777777778,\"#fb9f3a\"],[0.8888888888888888,\"#fdca26\"],[1.0,\"#f0f921\"]]}],\"heatmapgl\":[{\"type\":\"heatmapgl\",\"colorbar\":{\"outlinewidth\":0,\"ticks\":\"\"},\"colorscale\":[[0.0,\"#0d0887\"],[0.1111111111111111,\"#46039f\"],[0.2222222222222222,\"#7201a8\"],[0.3333333333333333,\"#9c179e\"],[0.4444444444444444,\"#bd3786\"],[0.5555555555555556,\"#d8576b\"],[0.6666666666666666,\"#ed7953\"],[0.7777777777777778,\"#fb9f3a\"],[0.8888888888888888,\"#fdca26\"],[1.0,\"#f0f921\"]]}],\"contourcarpet\":[{\"type\":\"contourcarpet\",\"colorbar\":{\"outlinewidth\":0,\"ticks\":\"\"}}],\"contour\":[{\"type\":\"contour\",\"colorbar\":{\"outlinewidth\":0,\"ticks\":\"\"},\"colorscale\":[[0.0,\"#0d0887\"],[0.1111111111111111,\"#46039f\"],[0.2222222222222222,\"#7201a8\"],[0.3333333333333333,\"#9c179e\"],[0.4444444444444444,\"#bd3786\"],[0.5555555555555556,\"#d8576b\"],[0.6666666666666666,\"#ed7953\"],[0.7777777777777778,\"#fb9f3a\"],[0.8888888888888888,\"#fdca26\"],[1.0,\"#f0f921\"]]}],\"surface\":[{\"type\":\"surface\",\"colorbar\":{\"outlinewidth\":0,\"ticks\":\"\"},\"colorscale\":[[0.0,\"#0d0887\"],[0.1111111111111111,\"#46039f\"],[0.2222222222222222,\"#7201a8\"],[0.3333333333333333,\"#9c179e\"],[0.4444444444444444,\"#bd3786\"],[0.5555555555555556,\"#d8576b\"],[0.6666666666666666,\"#ed7953\"],[0.7777777777777778,\"#fb9f3a\"],[0.8888888888888888,\"#fdca26\"],[1.0,\"#f0f921\"]]}],\"mesh3d\":[{\"type\":\"mesh3d\",\"colorbar\":{\"outlinewidth\":0,\"ticks\":\"\"}}],\"scatter\":[{\"fillpattern\":{\"fillmode\":\"overlay\",\"size\":10,\"solidity\":0.2},\"type\":\"scatter\"}],\"parcoords\":[{\"type\":\"parcoords\",\"line\":{\"colorbar\":{\"outlinewidth\":0,\"ticks\":\"\"}}}],\"scatterpolargl\":[{\"type\":\"scatterpolargl\",\"marker\":{\"colorbar\":{\"outlinewidth\":0,\"ticks\":\"\"}}}],\"bar\":[{\"error_x\":{\"color\":\"#2a3f5f\"},\"error_y\":{\"color\":\"#2a3f5f\"},\"marker\":{\"line\":{\"color\":\"#E5ECF6\",\"width\":0.5},\"pattern\":{\"fillmode\":\"overlay\",\"size\":10,\"solidity\":0.2}},\"type\":\"bar\"}],\"scattergeo\":[{\"type\":\"scattergeo\",\"marker\":{\"colorbar\":{\"outlinewidth\":0,\"ticks\":\"\"}}}],\"scatterpolar\":[{\"type\":\"scatterpolar\",\"marker\":{\"colorbar\":{\"outlinewidth\":0,\"ticks\":\"\"}}}],\"histogram\":[{\"marker\":{\"pattern\":{\"fillmode\":\"overlay\",\"size\":10,\"solidity\":0.2}},\"type\":\"histogram\"}],\"scattergl\":[{\"type\":\"scattergl\",\"marker\":{\"colorbar\":{\"outlinewidth\":0,\"ticks\":\"\"}}}],\"scatter3d\":[{\"type\":\"scatter3d\",\"line\":{\"colorbar\":{\"outlinewidth\":0,\"ticks\":\"\"}},\"marker\":{\"colorbar\":{\"outlinewidth\":0,\"ticks\":\"\"}}}],\"scattermapbox\":[{\"type\":\"scattermapbox\",\"marker\":{\"colorbar\":{\"outlinewidth\":0,\"ticks\":\"\"}}}],\"scatterternary\":[{\"type\":\"scatterternary\",\"marker\":{\"colorbar\":{\"outlinewidth\":0,\"ticks\":\"\"}}}],\"scattercarpet\":[{\"type\":\"scattercarpet\",\"marker\":{\"colorbar\":{\"outlinewidth\":0,\"ticks\":\"\"}}}],\"carpet\":[{\"aaxis\":{\"endlinecolor\":\"#2a3f5f\",\"gridcolor\":\"white\",\"linecolor\":\"white\",\"minorgridcolor\":\"white\",\"startlinecolor\":\"#2a3f5f\"},\"baxis\":{\"endlinecolor\":\"#2a3f5f\",\"gridcolor\":\"white\",\"linecolor\":\"white\",\"minorgridcolor\":\"white\",\"startlinecolor\":\"#2a3f5f\"},\"type\":\"carpet\"}],\"table\":[{\"cells\":{\"fill\":{\"color\":\"#EBF0F8\"},\"line\":{\"color\":\"white\"}},\"header\":{\"fill\":{\"color\":\"#C8D4E3\"},\"line\":{\"color\":\"white\"}},\"type\":\"table\"}],\"barpolar\":[{\"marker\":{\"line\":{\"color\":\"#E5ECF6\",\"width\":0.5},\"pattern\":{\"fillmode\":\"overlay\",\"size\":10,\"solidity\":0.2}},\"type\":\"barpolar\"}],\"pie\":[{\"automargin\":true,\"type\":\"pie\"}]},\"layout\":{\"autotypenumbers\":\"strict\",\"colorway\":[\"#636efa\",\"#EF553B\",\"#00cc96\",\"#ab63fa\",\"#FFA15A\",\"#19d3f3\",\"#FF6692\",\"#B6E880\",\"#FF97FF\",\"#FECB52\"],\"font\":{\"color\":\"#2a3f5f\"},\"hovermode\":\"closest\",\"hoverlabel\":{\"align\":\"left\"},\"paper_bgcolor\":\"white\",\"plot_bgcolor\":\"#E5ECF6\",\"polar\":{\"bgcolor\":\"#E5ECF6\",\"angularaxis\":{\"gridcolor\":\"white\",\"linecolor\":\"white\",\"ticks\":\"\"},\"radialaxis\":{\"gridcolor\":\"white\",\"linecolor\":\"white\",\"ticks\":\"\"}},\"ternary\":{\"bgcolor\":\"#E5ECF6\",\"aaxis\":{\"gridcolor\":\"white\",\"linecolor\":\"white\",\"ticks\":\"\"},\"baxis\":{\"gridcolor\":\"white\",\"linecolor\":\"white\",\"ticks\":\"\"},\"caxis\":{\"gridcolor\":\"white\",\"linecolor\":\"white\",\"ticks\":\"\"}},\"coloraxis\":{\"colorbar\":{\"outlinewidth\":0,\"ticks\":\"\"}},\"colorscale\":{\"sequential\":[[0.0,\"#0d0887\"],[0.1111111111111111,\"#46039f\"],[0.2222222222222222,\"#7201a8\"],[0.3333333333333333,\"#9c179e\"],[0.4444444444444444,\"#bd3786\"],[0.5555555555555556,\"#d8576b\"],[0.6666666666666666,\"#ed7953\"],[0.7777777777777778,\"#fb9f3a\"],[0.8888888888888888,\"#fdca26\"],[1.0,\"#f0f921\"]],\"sequentialminus\":[[0.0,\"#0d0887\"],[0.1111111111111111,\"#46039f\"],[0.2222222222222222,\"#7201a8\"],[0.3333333333333333,\"#9c179e\"],[0.4444444444444444,\"#bd3786\"],[0.5555555555555556,\"#d8576b\"],[0.6666666666666666,\"#ed7953\"],[0.7777777777777778,\"#fb9f3a\"],[0.8888888888888888,\"#fdca26\"],[1.0,\"#f0f921\"]],\"diverging\":[[0,\"#8e0152\"],[0.1,\"#c51b7d\"],[0.2,\"#de77ae\"],[0.3,\"#f1b6da\"],[0.4,\"#fde0ef\"],[0.5,\"#f7f7f7\"],[0.6,\"#e6f5d0\"],[0.7,\"#b8e186\"],[0.8,\"#7fbc41\"],[0.9,\"#4d9221\"],[1,\"#276419\"]]},\"xaxis\":{\"gridcolor\":\"white\",\"linecolor\":\"white\",\"ticks\":\"\",\"title\":{\"standoff\":15},\"zerolinecolor\":\"white\",\"automargin\":true,\"zerolinewidth\":2},\"yaxis\":{\"gridcolor\":\"white\",\"linecolor\":\"white\",\"ticks\":\"\",\"title\":{\"standoff\":15},\"zerolinecolor\":\"white\",\"automargin\":true,\"zerolinewidth\":2},\"scene\":{\"xaxis\":{\"backgroundcolor\":\"#E5ECF6\",\"gridcolor\":\"white\",\"linecolor\":\"white\",\"showbackground\":true,\"ticks\":\"\",\"zerolinecolor\":\"white\",\"gridwidth\":2},\"yaxis\":{\"backgroundcolor\":\"#E5ECF6\",\"gridcolor\":\"white\",\"linecolor\":\"white\",\"showbackground\":true,\"ticks\":\"\",\"zerolinecolor\":\"white\",\"gridwidth\":2},\"zaxis\":{\"backgroundcolor\":\"#E5ECF6\",\"gridcolor\":\"white\",\"linecolor\":\"white\",\"showbackground\":true,\"ticks\":\"\",\"zerolinecolor\":\"white\",\"gridwidth\":2}},\"shapedefaults\":{\"line\":{\"color\":\"#2a3f5f\"}},\"annotationdefaults\":{\"arrowcolor\":\"#2a3f5f\",\"arrowhead\":0,\"arrowwidth\":1},\"geo\":{\"bgcolor\":\"white\",\"landcolor\":\"#E5ECF6\",\"subunitcolor\":\"white\",\"showland\":true,\"showlakes\":true,\"lakecolor\":\"white\"},\"title\":{\"x\":0.05},\"mapbox\":{\"style\":\"light\"}}},\"xaxis\":{\"anchor\":\"y\",\"domain\":[0.0,1.0],\"title\":{\"text\":\"x\"}},\"yaxis\":{\"anchor\":\"x\",\"domain\":[0.0,1.0],\"title\":{\"text\":\"sum of y\"}},\"legend\":{\"tracegroupgap\":0},\"margin\":{\"t\":60},\"barmode\":\"relative\"},                        {\"responsive\": true}                    ).then(function(){\n",
       "                            \n",
       "var gd = document.getElementById('1ed0598d-a97f-4a9a-90ad-827ca1d21b39');\n",
       "var x = new MutationObserver(function (mutations, observer) {{\n",
       "        var display = window.getComputedStyle(gd).display;\n",
       "        if (!display || display === 'none') {{\n",
       "            console.log([gd, 'removed!']);\n",
       "            Plotly.purge(gd);\n",
       "            observer.disconnect();\n",
       "        }}\n",
       "}});\n",
       "\n",
       "// Listen for the removal of the full notebook cells\n",
       "var notebookContainer = gd.closest('#notebook-container');\n",
       "if (notebookContainer) {{\n",
       "    x.observe(notebookContainer, {childList: true});\n",
       "}}\n",
       "\n",
       "// Listen for the clearing of the current output cell\n",
       "var outputEl = gd.closest('.output');\n",
       "if (outputEl) {{\n",
       "    x.observe(outputEl, {childList: true});\n",
       "}}\n",
       "\n",
       "                        })                };                });            </script>        </div>"
      ]
     },
     "metadata": {},
     "output_type": "display_data"
    }
   ],
   "source": [
    "express.histogram(y=model.feature_importances_, x=columns).show(validate=True)"
   ]
  },
  {
   "cell_type": "markdown",
   "id": "faeca3e0",
   "metadata": {
    "papermill": {
     "duration": 0.008389,
     "end_time": "2024-03-06T16:20:33.749327",
     "exception": false,
     "start_time": "2024-03-06T16:20:33.740938",
     "status": "completed"
    },
    "tags": []
   },
   "source": [
    "This is a somewhat stark reminder that feature importances and regression coefficients are different things."
   ]
  }
 ],
 "metadata": {
  "kaggle": {
   "accelerator": "none",
   "dataSources": [
    {
     "datasetId": 4546744,
     "sourceId": 7771919,
     "sourceType": "datasetVersion"
    }
   ],
   "dockerImageVersionId": 30664,
   "isGpuEnabled": false,
   "isInternetEnabled": true,
   "language": "python",
   "sourceType": "notebook"
  },
  "kernelspec": {
   "display_name": "Python 3",
   "language": "python",
   "name": "python3"
  },
  "language_info": {
   "codemirror_mode": {
    "name": "ipython",
    "version": 3
   },
   "file_extension": ".py",
   "mimetype": "text/x-python",
   "name": "python",
   "nbconvert_exporter": "python",
   "pygments_lexer": "ipython3",
   "version": "3.10.13"
  },
  "papermill": {
   "default_parameters": {},
   "duration": 60.228388,
   "end_time": "2024-03-06T16:20:36.680903",
   "environment_variables": {},
   "exception": null,
   "input_path": "__notebook__.ipynb",
   "output_path": "__notebook__.ipynb",
   "parameters": {},
   "start_time": "2024-03-06T16:19:36.452515",
   "version": "2.5.0"
  },
  "widgets": {
   "application/vnd.jupyter.widget-state+json": {
    "state": {
     "1335ef219d824597a6fe6a15934760a7": {
      "model_module": "@jupyter-widgets/controls",
      "model_module_version": "1.5.0",
      "model_name": "DescriptionStyleModel",
      "state": {
       "_model_module": "@jupyter-widgets/controls",
       "_model_module_version": "1.5.0",
       "_model_name": "DescriptionStyleModel",
       "_view_count": null,
       "_view_module": "@jupyter-widgets/base",
       "_view_module_version": "1.2.0",
       "_view_name": "StyleView",
       "description_width": ""
      }
     },
     "677f91a752304ab59f894d3cbe0f102d": {
      "model_module": "@jupyter-widgets/controls",
      "model_module_version": "1.5.0",
      "model_name": "HTMLModel",
      "state": {
       "_dom_classes": [],
       "_model_module": "@jupyter-widgets/controls",
       "_model_module_version": "1.5.0",
       "_model_name": "HTMLModel",
       "_view_count": null,
       "_view_module": "@jupyter-widgets/controls",
       "_view_module_version": "1.5.0",
       "_view_name": "HTMLView",
       "description": "",
       "description_tooltip": null,
       "layout": "IPY_MODEL_75ab7a6e2b444027bb80f6ee16e4e708",
       "placeholder": "​",
       "style": "IPY_MODEL_c089bb6f5e194381bf6e4a59db418890",
       "value": "Epochs completed: 100%| "
      }
     },
     "6e9f0d90b90e4baaae9475d61f57dddc": {
      "model_module": "@jupyter-widgets/controls",
      "model_module_version": "1.5.0",
      "model_name": "ProgressStyleModel",
      "state": {
       "_model_module": "@jupyter-widgets/controls",
       "_model_module_version": "1.5.0",
       "_model_name": "ProgressStyleModel",
       "_view_count": null,
       "_view_module": "@jupyter-widgets/base",
       "_view_module_version": "1.2.0",
       "_view_name": "StyleView",
       "bar_color": null,
       "description_width": ""
      }
     },
     "75ab7a6e2b444027bb80f6ee16e4e708": {
      "model_module": "@jupyter-widgets/base",
      "model_module_version": "1.2.0",
      "model_name": "LayoutModel",
      "state": {
       "_model_module": "@jupyter-widgets/base",
       "_model_module_version": "1.2.0",
       "_model_name": "LayoutModel",
       "_view_count": null,
       "_view_module": "@jupyter-widgets/base",
       "_view_module_version": "1.2.0",
       "_view_name": "LayoutView",
       "align_content": null,
       "align_items": null,
       "align_self": null,
       "border": null,
       "bottom": null,
       "display": null,
       "flex": null,
       "flex_flow": null,
       "grid_area": null,
       "grid_auto_columns": null,
       "grid_auto_flow": null,
       "grid_auto_rows": null,
       "grid_column": null,
       "grid_gap": null,
       "grid_row": null,
       "grid_template_areas": null,
       "grid_template_columns": null,
       "grid_template_rows": null,
       "height": null,
       "justify_content": null,
       "justify_items": null,
       "left": null,
       "margin": null,
       "max_height": null,
       "max_width": null,
       "min_height": null,
       "min_width": null,
       "object_fit": null,
       "object_position": null,
       "order": null,
       "overflow": null,
       "overflow_x": null,
       "overflow_y": null,
       "padding": null,
       "right": null,
       "top": null,
       "visibility": null,
       "width": null
      }
     },
     "76c34b9a530542afbd54d17f40cc3270": {
      "model_module": "@jupyter-widgets/controls",
      "model_module_version": "1.5.0",
      "model_name": "HBoxModel",
      "state": {
       "_dom_classes": [],
       "_model_module": "@jupyter-widgets/controls",
       "_model_module_version": "1.5.0",
       "_model_name": "HBoxModel",
       "_view_count": null,
       "_view_module": "@jupyter-widgets/controls",
       "_view_module_version": "1.5.0",
       "_view_name": "HBoxView",
       "box_style": "",
       "children": [
        "IPY_MODEL_677f91a752304ab59f894d3cbe0f102d",
        "IPY_MODEL_f2b54d3d3f024191b2738e8472329b73",
        "IPY_MODEL_8a8d4cc320a64ffd90d2b9b2b9641ab3"
       ],
       "layout": "IPY_MODEL_7c1c511a844f444c90cddf624fcb7be4"
      }
     },
     "7c1c511a844f444c90cddf624fcb7be4": {
      "model_module": "@jupyter-widgets/base",
      "model_module_version": "1.2.0",
      "model_name": "LayoutModel",
      "state": {
       "_model_module": "@jupyter-widgets/base",
       "_model_module_version": "1.2.0",
       "_model_name": "LayoutModel",
       "_view_count": null,
       "_view_module": "@jupyter-widgets/base",
       "_view_module_version": "1.2.0",
       "_view_name": "LayoutView",
       "align_content": null,
       "align_items": null,
       "align_self": null,
       "border": null,
       "bottom": null,
       "display": null,
       "flex": null,
       "flex_flow": null,
       "grid_area": null,
       "grid_auto_columns": null,
       "grid_auto_flow": null,
       "grid_auto_rows": null,
       "grid_column": null,
       "grid_gap": null,
       "grid_row": null,
       "grid_template_areas": null,
       "grid_template_columns": null,
       "grid_template_rows": null,
       "height": null,
       "justify_content": null,
       "justify_items": null,
       "left": null,
       "margin": null,
       "max_height": null,
       "max_width": null,
       "min_height": null,
       "min_width": null,
       "object_fit": null,
       "object_position": null,
       "order": null,
       "overflow": null,
       "overflow_x": null,
       "overflow_y": null,
       "padding": null,
       "right": null,
       "top": null,
       "visibility": null,
       "width": null
      }
     },
     "8a8d4cc320a64ffd90d2b9b2b9641ab3": {
      "model_module": "@jupyter-widgets/controls",
      "model_module_version": "1.5.0",
      "model_name": "HTMLModel",
      "state": {
       "_dom_classes": [],
       "_model_module": "@jupyter-widgets/controls",
       "_model_module_version": "1.5.0",
       "_model_name": "HTMLModel",
       "_view_count": null,
       "_view_module": "@jupyter-widgets/controls",
       "_view_module_version": "1.5.0",
       "_view_name": "HTMLView",
       "description": "",
       "description_tooltip": null,
       "layout": "IPY_MODEL_b0bb3f87ef7742b6bfbae3a9f4223983",
       "placeholder": "​",
       "style": "IPY_MODEL_1335ef219d824597a6fe6a15934760a7",
       "value": " 200/200 [00:01]"
      }
     },
     "93eb758edba9437db824c7fb408c5ddb": {
      "model_module": "@jupyter-widgets/base",
      "model_module_version": "1.2.0",
      "model_name": "LayoutModel",
      "state": {
       "_model_module": "@jupyter-widgets/base",
       "_model_module_version": "1.2.0",
       "_model_name": "LayoutModel",
       "_view_count": null,
       "_view_module": "@jupyter-widgets/base",
       "_view_module_version": "1.2.0",
       "_view_name": "LayoutView",
       "align_content": null,
       "align_items": null,
       "align_self": null,
       "border": null,
       "bottom": null,
       "display": null,
       "flex": null,
       "flex_flow": null,
       "grid_area": null,
       "grid_auto_columns": null,
       "grid_auto_flow": null,
       "grid_auto_rows": null,
       "grid_column": null,
       "grid_gap": null,
       "grid_row": null,
       "grid_template_areas": null,
       "grid_template_columns": null,
       "grid_template_rows": null,
       "height": null,
       "justify_content": null,
       "justify_items": null,
       "left": null,
       "margin": null,
       "max_height": null,
       "max_width": null,
       "min_height": null,
       "min_width": null,
       "object_fit": null,
       "object_position": null,
       "order": null,
       "overflow": null,
       "overflow_x": null,
       "overflow_y": null,
       "padding": null,
       "right": null,
       "top": null,
       "visibility": null,
       "width": null
      }
     },
     "b0bb3f87ef7742b6bfbae3a9f4223983": {
      "model_module": "@jupyter-widgets/base",
      "model_module_version": "1.2.0",
      "model_name": "LayoutModel",
      "state": {
       "_model_module": "@jupyter-widgets/base",
       "_model_module_version": "1.2.0",
       "_model_name": "LayoutModel",
       "_view_count": null,
       "_view_module": "@jupyter-widgets/base",
       "_view_module_version": "1.2.0",
       "_view_name": "LayoutView",
       "align_content": null,
       "align_items": null,
       "align_self": null,
       "border": null,
       "bottom": null,
       "display": null,
       "flex": null,
       "flex_flow": null,
       "grid_area": null,
       "grid_auto_columns": null,
       "grid_auto_flow": null,
       "grid_auto_rows": null,
       "grid_column": null,
       "grid_gap": null,
       "grid_row": null,
       "grid_template_areas": null,
       "grid_template_columns": null,
       "grid_template_rows": null,
       "height": null,
       "justify_content": null,
       "justify_items": null,
       "left": null,
       "margin": null,
       "max_height": null,
       "max_width": null,
       "min_height": null,
       "min_width": null,
       "object_fit": null,
       "object_position": null,
       "order": null,
       "overflow": null,
       "overflow_x": null,
       "overflow_y": null,
       "padding": null,
       "right": null,
       "top": null,
       "visibility": null,
       "width": null
      }
     },
     "c089bb6f5e194381bf6e4a59db418890": {
      "model_module": "@jupyter-widgets/controls",
      "model_module_version": "1.5.0",
      "model_name": "DescriptionStyleModel",
      "state": {
       "_model_module": "@jupyter-widgets/controls",
       "_model_module_version": "1.5.0",
       "_model_name": "DescriptionStyleModel",
       "_view_count": null,
       "_view_module": "@jupyter-widgets/base",
       "_view_module_version": "1.2.0",
       "_view_name": "StyleView",
       "description_width": ""
      }
     },
     "f2b54d3d3f024191b2738e8472329b73": {
      "model_module": "@jupyter-widgets/controls",
      "model_module_version": "1.5.0",
      "model_name": "FloatProgressModel",
      "state": {
       "_dom_classes": [],
       "_model_module": "@jupyter-widgets/controls",
       "_model_module_version": "1.5.0",
       "_model_name": "FloatProgressModel",
       "_view_count": null,
       "_view_module": "@jupyter-widgets/controls",
       "_view_module_version": "1.5.0",
       "_view_name": "ProgressView",
       "bar_style": "success",
       "description": "",
       "description_tooltip": null,
       "layout": "IPY_MODEL_93eb758edba9437db824c7fb408c5ddb",
       "max": 200.0,
       "min": 0.0,
       "orientation": "horizontal",
       "style": "IPY_MODEL_6e9f0d90b90e4baaae9475d61f57dddc",
       "value": 200.0
      }
     }
    },
    "version_major": 2,
    "version_minor": 0
   }
  }
 },
 "nbformat": 4,
 "nbformat_minor": 5
}
