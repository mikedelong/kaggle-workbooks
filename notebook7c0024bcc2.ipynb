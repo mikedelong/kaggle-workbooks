{
 "cells": [
  {
   "cell_type": "code",
   "execution_count": 1,
   "id": "4165aa9e",
   "metadata": {
    "execution": {
     "iopub.execute_input": "2023-10-18T16:10:34.797073Z",
     "iopub.status.busy": "2023-10-18T16:10:34.796371Z",
     "iopub.status.idle": "2023-10-18T16:10:34.831122Z",
     "shell.execute_reply": "2023-10-18T16:10:34.829895Z"
    },
    "papermill": {
     "duration": 0.043106,
     "end_time": "2023-10-18T16:10:34.833549",
     "exception": false,
     "start_time": "2023-10-18T16:10:34.790443",
     "status": "completed"
    },
    "tags": []
   },
   "outputs": [],
   "source": [
    "with open(file='/kaggle/input/moby-dick-herman-melville/melville-moby_dick.txt', mode='r', encoding='utf-8', ) as input_fp:\n",
    "    data = input_fp.read()"
   ]
  },
  {
   "cell_type": "code",
   "execution_count": 2,
   "id": "1a958ae4",
   "metadata": {
    "execution": {
     "iopub.execute_input": "2023-10-18T16:10:34.842666Z",
     "iopub.status.busy": "2023-10-18T16:10:34.842041Z",
     "iopub.status.idle": "2023-10-18T16:11:38.988174Z",
     "shell.execute_reply": "2023-10-18T16:11:38.987034Z"
    },
    "papermill": {
     "duration": 64.155386,
     "end_time": "2023-10-18T16:11:38.993549",
     "exception": false,
     "start_time": "2023-10-18T16:10:34.838163",
     "status": "completed"
    },
    "tags": []
   },
   "outputs": [
    {
     "name": "stdout",
     "output_type": "stream",
     "text": [
      "0:00:47.624911\n"
     ]
    }
   ],
   "source": [
    "from arrow import now\n",
    "from spacy import load\n",
    "time_start = now()\n",
    "spacy_model = load('en_core_web_sm')\n",
    "spacy_model.max_length = 1200000\n",
    "spacy_result = spacy_model(data.replace('\\n', ' '))\n",
    "print(now() - time_start)"
   ]
  },
  {
   "cell_type": "code",
   "execution_count": 3,
   "id": "fbcae645",
   "metadata": {
    "execution": {
     "iopub.execute_input": "2023-10-18T16:11:39.001067Z",
     "iopub.status.busy": "2023-10-18T16:11:39.000340Z",
     "iopub.status.idle": "2023-10-18T16:11:39.146811Z",
     "shell.execute_reply": "2023-10-18T16:11:39.145447Z"
    },
    "papermill": {
     "duration": 0.153168,
     "end_time": "2023-10-18T16:11:39.149480",
     "exception": false,
     "start_time": "2023-10-18T16:11:38.996312",
     "status": "completed"
    },
    "tags": []
   },
   "outputs": [],
   "source": [
    "documents = [item.text for item in spacy_result.sents]"
   ]
  },
  {
   "cell_type": "code",
   "execution_count": 4,
   "id": "7e34049d",
   "metadata": {
    "execution": {
     "iopub.execute_input": "2023-10-18T16:11:39.157123Z",
     "iopub.status.busy": "2023-10-18T16:11:39.156723Z",
     "iopub.status.idle": "2023-10-18T16:12:07.398476Z",
     "shell.execute_reply": "2023-10-18T16:12:07.397224Z"
    },
    "papermill": {
     "duration": 28.248533,
     "end_time": "2023-10-18T16:12:07.401253",
     "exception": false,
     "start_time": "2023-10-18T16:11:39.152720",
     "status": "completed"
    },
    "tags": []
   },
   "outputs": [],
   "source": [
    "from pprint import pprint  # pretty-printer\n",
    "from collections import defaultdict\n",
    "from gensim.parsing.preprocessing import preprocess_documents\n",
    "\n",
    "# # remove common words and tokenize\n",
    "# stoplist = set('for a of the and to in'.split())\n",
    "# texts = [\n",
    "#     [word for word in document.lower().split() if word not in stoplist]\n",
    "#     for document in documents\n",
    "# ]\n",
    "texts = preprocess_documents(docs=documents)\n",
    "\n",
    "# remove words that appear only once\n",
    "frequency = defaultdict(int)\n",
    "for text in texts:\n",
    "    for token in text:\n",
    "        frequency[token] += 1\n",
    "\n",
    "texts = [\n",
    "    [token for token in text if frequency[token] > 1]\n",
    "    for text in texts\n",
    "]"
   ]
  },
  {
   "cell_type": "code",
   "execution_count": 5,
   "id": "577b44e4",
   "metadata": {
    "execution": {
     "iopub.execute_input": "2023-10-18T16:12:07.408576Z",
     "iopub.status.busy": "2023-10-18T16:12:07.408240Z",
     "iopub.status.idle": "2023-10-18T16:12:07.542403Z",
     "shell.execute_reply": "2023-10-18T16:12:07.541339Z"
    },
    "papermill": {
     "duration": 0.140393,
     "end_time": "2023-10-18T16:12:07.544702",
     "exception": false,
     "start_time": "2023-10-18T16:12:07.404309",
     "status": "completed"
    },
    "tags": []
   },
   "outputs": [
    {
     "name": "stdout",
     "output_type": "stream",
     "text": [
      "Dictionary<6600 unique tokens: ['chapter', 'loom', 'ishmael', 'ago', 'have']...>\n"
     ]
    }
   ],
   "source": [
    "from gensim import corpora\n",
    "dictionary = corpora.Dictionary(texts)\n",
    "dictionary.save('/kaggle/working/melville.dict')  # store the dictionary, for future reference\n",
    "print(dictionary)"
   ]
  },
  {
   "cell_type": "markdown",
   "id": "68e4a7eb",
   "metadata": {
    "papermill": {
     "duration": 0.002456,
     "end_time": "2023-10-18T16:12:07.550052",
     "exception": false,
     "start_time": "2023-10-18T16:12:07.547596",
     "status": "completed"
    },
    "tags": []
   },
   "source": [
    "TODO: find a better way to preprocess this, so we don't have so much punctuation in our corpus."
   ]
  },
  {
   "cell_type": "code",
   "execution_count": 6,
   "id": "d9061d8e",
   "metadata": {
    "execution": {
     "iopub.execute_input": "2023-10-18T16:12:07.557405Z",
     "iopub.status.busy": "2023-10-18T16:12:07.556576Z",
     "iopub.status.idle": "2023-10-18T16:12:07.643475Z",
     "shell.execute_reply": "2023-10-18T16:12:07.642262Z"
    },
    "papermill": {
     "duration": 0.093264,
     "end_time": "2023-10-18T16:12:07.645868",
     "exception": false,
     "start_time": "2023-10-18T16:12:07.552604",
     "status": "completed"
    },
    "tags": []
   },
   "outputs": [],
   "source": [
    "corpus = [dictionary.doc2bow(text) for text in texts]"
   ]
  },
  {
   "cell_type": "code",
   "execution_count": 7,
   "id": "9ae0d40c",
   "metadata": {
    "execution": {
     "iopub.execute_input": "2023-10-18T16:12:07.653285Z",
     "iopub.status.busy": "2023-10-18T16:12:07.652884Z",
     "iopub.status.idle": "2023-10-18T16:12:07.690378Z",
     "shell.execute_reply": "2023-10-18T16:12:07.689397Z"
    },
    "papermill": {
     "duration": 0.043837,
     "end_time": "2023-10-18T16:12:07.692744",
     "exception": false,
     "start_time": "2023-10-18T16:12:07.648907",
     "status": "completed"
    },
    "tags": []
   },
   "outputs": [],
   "source": [
    "from gensim.models import TfidfModel\n",
    "\n",
    "tfidf = TfidfModel(corpus)  # step 1 -- initialize a model"
   ]
  },
  {
   "cell_type": "code",
   "execution_count": 8,
   "id": "b441c45a",
   "metadata": {
    "execution": {
     "iopub.execute_input": "2023-10-18T16:12:07.700031Z",
     "iopub.status.busy": "2023-10-18T16:12:07.699647Z",
     "iopub.status.idle": "2023-10-18T16:12:21.157541Z",
     "shell.execute_reply": "2023-10-18T16:12:21.156247Z"
    },
    "papermill": {
     "duration": 13.464516,
     "end_time": "2023-10-18T16:12:21.160301",
     "exception": false,
     "start_time": "2023-10-18T16:12:07.695785",
     "status": "completed"
    },
    "tags": []
   },
   "outputs": [],
   "source": [
    "from gensim.models import HdpModel\n",
    "model = HdpModel(corpus, id2word=dictionary)"
   ]
  },
  {
   "cell_type": "code",
   "execution_count": 9,
   "id": "fc35558c",
   "metadata": {
    "execution": {
     "iopub.execute_input": "2023-10-18T16:12:21.167528Z",
     "iopub.status.busy": "2023-10-18T16:12:21.167179Z",
     "iopub.status.idle": "2023-10-18T16:12:21.297397Z",
     "shell.execute_reply": "2023-10-18T16:12:21.296289Z"
    },
    "papermill": {
     "duration": 0.136248,
     "end_time": "2023-10-18T16:12:21.299481",
     "exception": false,
     "start_time": "2023-10-18T16:12:21.163233",
     "status": "completed"
    },
    "tags": []
   },
   "outputs": [
    {
     "data": {
      "text/plain": [
       "[(0,\n",
       "  '0.002*whale + 0.001*gener + 0.001*ship + 0.001*sea + 0.001*time + 0.001*nantucket + 0.001*ey + 0.001*duti + 0.001*envi + 0.001*gardin'),\n",
       " (1,\n",
       "  '0.002*boat + 0.001*whale + 0.001*extent + 0.001*digniti + 0.001*arm + 0.001*like + 0.001*said + 0.001*bank + 0.001*aromat + 0.001*latitud'),\n",
       " (2,\n",
       "  '0.002*whale + 0.001*cob + 0.001*shoreless + 0.001*interest + 0.001*treat + 0.001*supremaci + 0.001*rampart + 0.001*bliss + 0.001*reev + 0.001*poniard'),\n",
       " (3,\n",
       "  '0.002*whale + 0.002*great + 0.001*claim + 0.001*yea + 0.001*like + 0.001*hosea + 0.001*greatest + 0.001*brim + 0.001*boat + 0.001*wear'),\n",
       " (4,\n",
       "  '0.001*ahab + 0.001*dai + 0.001*ey + 0.001*head + 0.001*think + 0.001*sentri + 0.001*perceiv + 0.001*eloqu + 0.001*whale + 0.001*grimli'),\n",
       " (5,\n",
       "  '0.001*beard + 0.001*ebb + 0.001*stubb + 0.001*concert + 0.001*beneath + 0.001*whale + 0.001*prometheu + 0.001*africa + 0.001*men + 0.001*round'),\n",
       " (6,\n",
       "  '0.002*often + 0.001*whale + 0.001*gasp + 0.001*right + 0.001*launch + 0.001*affair + 0.001*illustr + 0.001*deck + 0.001*ham + 0.001*guarante'),\n",
       " (7,\n",
       "  '0.001*unconquer + 0.001*head + 0.001*street + 0.001*whosoev + 0.001*whale + 0.001*sadder + 0.001*crimson + 0.001*immeasur + 0.001*scar + 0.001*hideou'),\n",
       " (8,\n",
       "  '0.002*whale + 0.002*capac + 0.001*denomin + 0.001*deer + 0.001*cross + 0.001*bernard + 0.001*bodili + 0.001*idl + 0.001*cleav + 0.001*reliev'),\n",
       " (9,\n",
       "  '0.001*nobl + 0.001*straw + 0.001*whale + 0.001*queequeg + 0.001*weari + 0.001*black + 0.001*threshold + 0.001*night + 0.001*brighter + 0.001*substitut'),\n",
       " (10,\n",
       "  '0.002*white + 0.001*freer + 0.001*jealou + 0.001*heard + 0.001*hole + 0.001*seclus + 0.001*column + 0.001*vacat + 0.001*idli + 0.001*buffalo'),\n",
       " (11,\n",
       "  '0.001*cheerili + 0.001*mankind + 0.001*learn + 0.001*ship + 0.001*voyag + 0.001*embattl + 0.001*whale + 0.001*fleeci + 0.001*outright + 0.001*phrensi'),\n",
       " (12,\n",
       "  '0.001*whale + 0.001*eber + 0.001*water + 0.001*kei + 0.001*boiler + 0.001*white + 0.001*man + 0.001*lazi + 0.001*frontier + 0.001*stubb'),\n",
       " (13,\n",
       "  '0.001*whale + 0.001*husband + 0.001*robust + 0.001*fortress + 0.001*wearili + 0.001*beefsteak + 0.001*littl + 0.001*toe + 0.001*solemn + 0.001*morrow'),\n",
       " (14,\n",
       "  '0.001*whale + 0.001*stake + 0.001*beneath + 0.001*philosophi + 0.001*wisest + 0.001*lieu + 0.001*mighti + 0.001*clamor + 0.001*boat + 0.001*brave'),\n",
       " (15,\n",
       "  '0.002*ship + 0.001*whale + 0.001*boat + 0.001*gomorrah + 0.001*roman + 0.001*entangl + 0.001*gestur + 0.001*architect + 0.001*hand + 0.001*fang'),\n",
       " (16,\n",
       "  '0.002*whale + 0.001*sea + 0.001*bulkington + 0.001*perform + 0.001*fate + 0.001*spiracl + 0.001*craft + 0.001*tackl + 0.001*woebegon + 0.001*embattl'),\n",
       " (17,\n",
       "  '0.001*fine + 0.001*whale + 0.001*cabaco + 0.001*canal + 0.001*ten + 0.001*ant + 0.001*forbid + 0.001*rumpl + 0.001*allur + 0.001*distinguish'),\n",
       " (18,\n",
       "  '0.001*dear + 0.001*amaz + 0.001*neskyeuna + 0.001*whale + 0.001*pioneer + 0.001*hollow + 0.001*circumnavig + 0.001*confidenti + 0.001*desol + 0.001*crown'),\n",
       " (19,\n",
       "  '0.001*pugnaci + 0.001*sunris + 0.001*whale + 0.001*smaller + 0.001*box + 0.001*plume + 0.001*said + 0.001*written + 0.001*coffin + 0.001*peculiar')]"
      ]
     },
     "execution_count": 9,
     "metadata": {},
     "output_type": "execute_result"
    }
   ],
   "source": [
    "model.print_topics()"
   ]
  }
 ],
 "metadata": {
  "kernelspec": {
   "display_name": "Python 3",
   "language": "python",
   "name": "python3"
  },
  "language_info": {
   "codemirror_mode": {
    "name": "ipython",
    "version": 3
   },
   "file_extension": ".py",
   "mimetype": "text/x-python",
   "name": "python",
   "nbconvert_exporter": "python",
   "pygments_lexer": "ipython3",
   "version": "3.10.12"
  },
  "papermill": {
   "default_parameters": {},
   "duration": 112.393349,
   "end_time": "2023-10-18T16:12:23.938668",
   "environment_variables": {},
   "exception": null,
   "input_path": "__notebook__.ipynb",
   "output_path": "__notebook__.ipynb",
   "parameters": {},
   "start_time": "2023-10-18T16:10:31.545319",
   "version": "2.4.0"
  }
 },
 "nbformat": 4,
 "nbformat_minor": 5
}
