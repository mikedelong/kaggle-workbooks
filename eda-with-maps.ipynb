{
 "cells": [
  {
   "cell_type": "code",
   "execution_count": 1,
   "id": "eda6811d",
   "metadata": {
    "execution": {
     "iopub.execute_input": "2023-12-24T18:09:29.769027Z",
     "iopub.status.busy": "2023-12-24T18:09:29.768648Z",
     "iopub.status.idle": "2023-12-24T18:09:30.305331Z",
     "shell.execute_reply": "2023-12-24T18:09:30.304184Z"
    },
    "papermill": {
     "duration": 0.544156,
     "end_time": "2023-12-24T18:09:30.307793",
     "exception": false,
     "start_time": "2023-12-24T18:09:29.763637",
     "status": "completed"
    },
    "tags": []
   },
   "outputs": [
    {
     "data": {
      "text/html": [
       "<div>\n",
       "<style scoped>\n",
       "    .dataframe tbody tr th:only-of-type {\n",
       "        vertical-align: middle;\n",
       "    }\n",
       "\n",
       "    .dataframe tbody tr th {\n",
       "        vertical-align: top;\n",
       "    }\n",
       "\n",
       "    .dataframe thead th {\n",
       "        text-align: right;\n",
       "    }\n",
       "</style>\n",
       "<table border=\"1\" class=\"dataframe\">\n",
       "  <thead>\n",
       "    <tr style=\"text-align: right;\">\n",
       "      <th></th>\n",
       "      <th>X</th>\n",
       "      <th>Y</th>\n",
       "      <th>CALLSIGN</th>\n",
       "      <th>SERVICE</th>\n",
       "      <th>CHANNEL</th>\n",
       "      <th>CITY</th>\n",
       "      <th>STATE</th>\n",
       "      <th>FILENUM</th>\n",
       "      <th>ERP</th>\n",
       "      <th>HAAT</th>\n",
       "      <th>FACID</th>\n",
       "      <th>LICENSEE</th>\n",
       "      <th>ERP (kW)</th>\n",
       "    </tr>\n",
       "    <tr>\n",
       "      <th>FID</th>\n",
       "      <th></th>\n",
       "      <th></th>\n",
       "      <th></th>\n",
       "      <th></th>\n",
       "      <th></th>\n",
       "      <th></th>\n",
       "      <th></th>\n",
       "      <th></th>\n",
       "      <th></th>\n",
       "      <th></th>\n",
       "      <th></th>\n",
       "      <th></th>\n",
       "      <th></th>\n",
       "    </tr>\n",
       "  </thead>\n",
       "  <tbody>\n",
       "    <tr>\n",
       "      <th>1</th>\n",
       "      <td>-118.217886</td>\n",
       "      <td>40.580551</td>\n",
       "      <td>K41GI-D</td>\n",
       "      <td>LD</td>\n",
       "      <td>41</td>\n",
       "      <td>IMLAY</td>\n",
       "      <td>NV</td>\n",
       "      <td>BLDTT  -20070403ABD</td>\n",
       "      <td>0.19   kW</td>\n",
       "      <td>0.0</td>\n",
       "      <td>28092</td>\n",
       "      <td>HUMBOLDT COUNTY</td>\n",
       "      <td>0.1900</td>\n",
       "    </tr>\n",
       "    <tr>\n",
       "      <th>2</th>\n",
       "      <td>-117.683106</td>\n",
       "      <td>35.479755</td>\n",
       "      <td>K41GO</td>\n",
       "      <td>TX</td>\n",
       "      <td>41</td>\n",
       "      <td>RIDGECREST</td>\n",
       "      <td>CA</td>\n",
       "      <td>BLTT   -20040212ADO</td>\n",
       "      <td>2.38   kW</td>\n",
       "      <td>0.0</td>\n",
       "      <td>28586</td>\n",
       "      <td>INDIAN WELLS VALLEY TV BOOSTER, INC.</td>\n",
       "      <td>2.3800</td>\n",
       "    </tr>\n",
       "    <tr>\n",
       "      <th>3</th>\n",
       "      <td>-117.400946</td>\n",
       "      <td>39.346677</td>\n",
       "      <td>K41HH-D</td>\n",
       "      <td>LD</td>\n",
       "      <td>41</td>\n",
       "      <td>AUSTIN</td>\n",
       "      <td>NV</td>\n",
       "      <td>BLDTT  -20100817AAL</td>\n",
       "      <td>0.04   kW</td>\n",
       "      <td>0.0</td>\n",
       "      <td>3350</td>\n",
       "      <td>AUSTIN TELEVISION ASSOCIATION</td>\n",
       "      <td>0.0400</td>\n",
       "    </tr>\n",
       "    <tr>\n",
       "      <th>4</th>\n",
       "      <td>-116.197594</td>\n",
       "      <td>44.764924</td>\n",
       "      <td>K41HS-D</td>\n",
       "      <td>LD</td>\n",
       "      <td>41</td>\n",
       "      <td>MCCALL</td>\n",
       "      <td>ID</td>\n",
       "      <td>BLDTT  -20090515AAY</td>\n",
       "      <td>0.0845 kW</td>\n",
       "      <td>0.0</td>\n",
       "      <td>125493</td>\n",
       "      <td>STATE BOARD OF EDUCATION, STATE OF IDAHO</td>\n",
       "      <td>0.0845</td>\n",
       "    </tr>\n",
       "    <tr>\n",
       "      <th>5</th>\n",
       "      <td>-119.130760</td>\n",
       "      <td>43.573807</td>\n",
       "      <td>K41HZ</td>\n",
       "      <td>TX</td>\n",
       "      <td>41</td>\n",
       "      <td>BURNS</td>\n",
       "      <td>OR</td>\n",
       "      <td>BLTT   -20060526ALC</td>\n",
       "      <td>9.45   kW</td>\n",
       "      <td>0.0</td>\n",
       "      <td>14201</td>\n",
       "      <td>NPG OF OREGON, INC.</td>\n",
       "      <td>9.4500</td>\n",
       "    </tr>\n",
       "  </tbody>\n",
       "</table>\n",
       "</div>"
      ],
      "text/plain": [
       "              X          Y CALLSIGN SERVICE  CHANNEL        CITY STATE  \\\n",
       "FID                                                                      \n",
       "1   -118.217886  40.580551  K41GI-D      LD       41       IMLAY    NV   \n",
       "2   -117.683106  35.479755    K41GO      TX       41  RIDGECREST    CA   \n",
       "3   -117.400946  39.346677  K41HH-D      LD       41      AUSTIN    NV   \n",
       "4   -116.197594  44.764924  K41HS-D      LD       41      MCCALL    ID   \n",
       "5   -119.130760  43.573807    K41HZ      TX       41       BURNS    OR   \n",
       "\n",
       "                 FILENUM        ERP  HAAT   FACID  \\\n",
       "FID                                                 \n",
       "1    BLDTT  -20070403ABD  0.19   kW   0.0   28092   \n",
       "2    BLTT   -20040212ADO  2.38   kW   0.0   28586   \n",
       "3    BLDTT  -20100817AAL  0.04   kW   0.0    3350   \n",
       "4    BLDTT  -20090515AAY  0.0845 kW   0.0  125493   \n",
       "5    BLTT   -20060526ALC  9.45   kW   0.0   14201   \n",
       "\n",
       "                                     LICENSEE  ERP (kW)  \n",
       "FID                                                      \n",
       "1                             HUMBOLDT COUNTY    0.1900  \n",
       "2        INDIAN WELLS VALLEY TV BOOSTER, INC.    2.3800  \n",
       "3               AUSTIN TELEVISION ASSOCIATION    0.0400  \n",
       "4    STATE BOARD OF EDUCATION, STATE OF IDAHO    0.0845  \n",
       "5                         NPG OF OREGON, INC.    9.4500  "
      ]
     },
     "execution_count": 1,
     "metadata": {},
     "output_type": "execute_result"
    }
   ],
   "source": [
    "import pandas as pd\n",
    "df = pd.read_csv(filepath_or_buffer='/kaggle/input/analog-television-station-licensing/TV_Analog_Station_Transmitters.csv',\n",
    "                index_col=['FID'],).drop(columns=['index', 'LAT', 'LON', 'LATDD', 'LONDD', 'STATUS', 'COUNTRY'])\n",
    "df['ERP (kW)'] = df['ERP'].apply(func=lambda x: float(x.split()[0]))\n",
    "df.head()"
   ]
  },
  {
   "cell_type": "code",
   "execution_count": 2,
   "id": "4390aff2",
   "metadata": {
    "execution": {
     "iopub.execute_input": "2023-12-24T18:09:30.315240Z",
     "iopub.status.busy": "2023-12-24T18:09:30.314800Z",
     "iopub.status.idle": "2023-12-24T18:09:30.341493Z",
     "shell.execute_reply": "2023-12-24T18:09:30.340527Z"
    },
    "papermill": {
     "duration": 0.033506,
     "end_time": "2023-12-24T18:09:30.344182",
     "exception": false,
     "start_time": "2023-12-24T18:09:30.310676",
     "status": "completed"
    },
    "tags": []
   },
   "outputs": [
    {
     "name": "stdout",
     "output_type": "stream",
     "text": [
      "<class 'pandas.core.frame.DataFrame'>\n",
      "Index: 6537 entries, 1 to 4000\n",
      "Data columns (total 13 columns):\n",
      " #   Column    Non-Null Count  Dtype  \n",
      "---  ------    --------------  -----  \n",
      " 0   X         6537 non-null   float64\n",
      " 1   Y         6537 non-null   float64\n",
      " 2   CALLSIGN  6537 non-null   object \n",
      " 3   SERVICE   6537 non-null   object \n",
      " 4   CHANNEL   6537 non-null   int64  \n",
      " 5   CITY      6537 non-null   object \n",
      " 6   STATE     6537 non-null   object \n",
      " 7   FILENUM   6537 non-null   object \n",
      " 8   ERP       6537 non-null   object \n",
      " 9   HAAT      6537 non-null   float64\n",
      " 10  FACID     6537 non-null   int64  \n",
      " 11  LICENSEE  6537 non-null   object \n",
      " 12  ERP (kW)  6537 non-null   float64\n",
      "dtypes: float64(4), int64(2), object(7)\n",
      "memory usage: 715.0+ KB\n"
     ]
    }
   ],
   "source": [
    "df.info()"
   ]
  },
  {
   "cell_type": "code",
   "execution_count": 3,
   "id": "90c227a6",
   "metadata": {
    "execution": {
     "iopub.execute_input": "2023-12-24T18:09:30.352320Z",
     "iopub.status.busy": "2023-12-24T18:09:30.351715Z",
     "iopub.status.idle": "2023-12-24T18:09:30.370485Z",
     "shell.execute_reply": "2023-12-24T18:09:30.369694Z"
    },
    "papermill": {
     "duration": 0.02567,
     "end_time": "2023-12-24T18:09:30.373009",
     "exception": false,
     "start_time": "2023-12-24T18:09:30.347339",
     "status": "completed"
    },
    "tags": []
   },
   "outputs": [
    {
     "data": {
      "text/plain": [
       "X           3597\n",
       "Y           3589\n",
       "CALLSIGN    6510\n",
       "SERVICE        4\n",
       "CHANNEL       67\n",
       "CITY        2412\n",
       "STATE         56\n",
       "FILENUM     6537\n",
       "ERP         1253\n",
       "HAAT           9\n",
       "FACID       6511\n",
       "LICENSEE    1508\n",
       "ERP (kW)    1252\n",
       "dtype: int64"
      ]
     },
     "execution_count": 3,
     "metadata": {},
     "output_type": "execute_result"
    }
   ],
   "source": [
    "df.nunique()"
   ]
  }
 ],
 "metadata": {
  "kaggle": {
   "accelerator": "none",
   "dataSources": [
    {
     "datasetId": 4201902,
     "sourceId": 7252158,
     "sourceType": "datasetVersion"
    }
   ],
   "dockerImageVersionId": 30626,
   "isGpuEnabled": false,
   "isInternetEnabled": true,
   "language": "python",
   "sourceType": "notebook"
  },
  "kernelspec": {
   "display_name": "Python 3",
   "language": "python",
   "name": "python3"
  },
  "language_info": {
   "codemirror_mode": {
    "name": "ipython",
    "version": 3
   },
   "file_extension": ".py",
   "mimetype": "text/x-python",
   "name": "python",
   "nbconvert_exporter": "python",
   "pygments_lexer": "ipython3",
   "version": "3.10.12"
  },
  "papermill": {
   "default_parameters": {},
   "duration": 4.59387,
   "end_time": "2023-12-24T18:09:30.899578",
   "environment_variables": {},
   "exception": null,
   "input_path": "__notebook__.ipynb",
   "output_path": "__notebook__.ipynb",
   "parameters": {},
   "start_time": "2023-12-24T18:09:26.305708",
   "version": "2.4.0"
  }
 },
 "nbformat": 4,
 "nbformat_minor": 5
}
