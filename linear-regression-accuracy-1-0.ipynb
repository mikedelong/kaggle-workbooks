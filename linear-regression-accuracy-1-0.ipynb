{
 "cells": [
  {
   "cell_type": "code",
   "execution_count": 1,
   "id": "56b4e825",
   "metadata": {
    "execution": {
     "iopub.execute_input": "2024-03-16T12:55:37.465844Z",
     "iopub.status.busy": "2024-03-16T12:55:37.465229Z",
     "iopub.status.idle": "2024-03-16T12:55:38.267428Z",
     "shell.execute_reply": "2024-03-16T12:55:38.266480Z"
    },
    "papermill": {
     "duration": 0.809071,
     "end_time": "2024-03-16T12:55:38.269316",
     "exception": false,
     "start_time": "2024-03-16T12:55:37.460245",
     "status": "completed"
    },
    "tags": []
   },
   "outputs": [
    {
     "data": {
      "text/html": [
       "<div>\n",
       "<style scoped>\n",
       "    .dataframe tbody tr th:only-of-type {\n",
       "        vertical-align: middle;\n",
       "    }\n",
       "\n",
       "    .dataframe tbody tr th {\n",
       "        vertical-align: top;\n",
       "    }\n",
       "\n",
       "    .dataframe thead th {\n",
       "        text-align: right;\n",
       "    }\n",
       "</style>\n",
       "<table border=\"1\" class=\"dataframe\">\n",
       "  <thead>\n",
       "    <tr style=\"text-align: right;\">\n",
       "      <th></th>\n",
       "      <th>A1</th>\n",
       "      <th>A2</th>\n",
       "      <th>A3</th>\n",
       "      <th>A4</th>\n",
       "      <th>A5</th>\n",
       "      <th>A6</th>\n",
       "      <th>A7</th>\n",
       "      <th>A8</th>\n",
       "      <th>A9</th>\n",
       "      <th>A10</th>\n",
       "      <th>...</th>\n",
       "      <th>Sex</th>\n",
       "      <th>Ethnicity</th>\n",
       "      <th>Jaundice</th>\n",
       "      <th>Family_mem_with_ASD</th>\n",
       "      <th>Who completed the test</th>\n",
       "      <th>Class/ASD Traits</th>\n",
       "      <th>target</th>\n",
       "      <th>male</th>\n",
       "      <th>jaundice</th>\n",
       "      <th>family</th>\n",
       "    </tr>\n",
       "    <tr>\n",
       "      <th>Case_No</th>\n",
       "      <th></th>\n",
       "      <th></th>\n",
       "      <th></th>\n",
       "      <th></th>\n",
       "      <th></th>\n",
       "      <th></th>\n",
       "      <th></th>\n",
       "      <th></th>\n",
       "      <th></th>\n",
       "      <th></th>\n",
       "      <th></th>\n",
       "      <th></th>\n",
       "      <th></th>\n",
       "      <th></th>\n",
       "      <th></th>\n",
       "      <th></th>\n",
       "      <th></th>\n",
       "      <th></th>\n",
       "      <th></th>\n",
       "      <th></th>\n",
       "      <th></th>\n",
       "    </tr>\n",
       "  </thead>\n",
       "  <tbody>\n",
       "    <tr>\n",
       "      <th>1</th>\n",
       "      <td>0</td>\n",
       "      <td>0</td>\n",
       "      <td>0</td>\n",
       "      <td>0</td>\n",
       "      <td>0</td>\n",
       "      <td>0</td>\n",
       "      <td>1</td>\n",
       "      <td>1</td>\n",
       "      <td>0</td>\n",
       "      <td>1</td>\n",
       "      <td>...</td>\n",
       "      <td>f</td>\n",
       "      <td>middle eastern</td>\n",
       "      <td>yes</td>\n",
       "      <td>no</td>\n",
       "      <td>family member</td>\n",
       "      <td>No</td>\n",
       "      <td>False</td>\n",
       "      <td>False</td>\n",
       "      <td>True</td>\n",
       "      <td>False</td>\n",
       "    </tr>\n",
       "    <tr>\n",
       "      <th>2</th>\n",
       "      <td>1</td>\n",
       "      <td>1</td>\n",
       "      <td>0</td>\n",
       "      <td>0</td>\n",
       "      <td>0</td>\n",
       "      <td>1</td>\n",
       "      <td>1</td>\n",
       "      <td>0</td>\n",
       "      <td>0</td>\n",
       "      <td>0</td>\n",
       "      <td>...</td>\n",
       "      <td>m</td>\n",
       "      <td>White European</td>\n",
       "      <td>yes</td>\n",
       "      <td>no</td>\n",
       "      <td>family member</td>\n",
       "      <td>Yes</td>\n",
       "      <td>True</td>\n",
       "      <td>True</td>\n",
       "      <td>True</td>\n",
       "      <td>False</td>\n",
       "    </tr>\n",
       "    <tr>\n",
       "      <th>3</th>\n",
       "      <td>1</td>\n",
       "      <td>0</td>\n",
       "      <td>0</td>\n",
       "      <td>0</td>\n",
       "      <td>0</td>\n",
       "      <td>0</td>\n",
       "      <td>1</td>\n",
       "      <td>1</td>\n",
       "      <td>0</td>\n",
       "      <td>1</td>\n",
       "      <td>...</td>\n",
       "      <td>m</td>\n",
       "      <td>middle eastern</td>\n",
       "      <td>yes</td>\n",
       "      <td>no</td>\n",
       "      <td>family member</td>\n",
       "      <td>Yes</td>\n",
       "      <td>True</td>\n",
       "      <td>True</td>\n",
       "      <td>True</td>\n",
       "      <td>False</td>\n",
       "    </tr>\n",
       "    <tr>\n",
       "      <th>4</th>\n",
       "      <td>1</td>\n",
       "      <td>1</td>\n",
       "      <td>1</td>\n",
       "      <td>1</td>\n",
       "      <td>1</td>\n",
       "      <td>1</td>\n",
       "      <td>1</td>\n",
       "      <td>1</td>\n",
       "      <td>1</td>\n",
       "      <td>1</td>\n",
       "      <td>...</td>\n",
       "      <td>m</td>\n",
       "      <td>Hispanic</td>\n",
       "      <td>no</td>\n",
       "      <td>no</td>\n",
       "      <td>family member</td>\n",
       "      <td>Yes</td>\n",
       "      <td>True</td>\n",
       "      <td>True</td>\n",
       "      <td>False</td>\n",
       "      <td>False</td>\n",
       "    </tr>\n",
       "    <tr>\n",
       "      <th>5</th>\n",
       "      <td>1</td>\n",
       "      <td>1</td>\n",
       "      <td>0</td>\n",
       "      <td>1</td>\n",
       "      <td>1</td>\n",
       "      <td>1</td>\n",
       "      <td>1</td>\n",
       "      <td>1</td>\n",
       "      <td>1</td>\n",
       "      <td>1</td>\n",
       "      <td>...</td>\n",
       "      <td>f</td>\n",
       "      <td>White European</td>\n",
       "      <td>no</td>\n",
       "      <td>yes</td>\n",
       "      <td>family member</td>\n",
       "      <td>Yes</td>\n",
       "      <td>True</td>\n",
       "      <td>False</td>\n",
       "      <td>False</td>\n",
       "      <td>True</td>\n",
       "    </tr>\n",
       "  </tbody>\n",
       "</table>\n",
       "<p>5 rows × 22 columns</p>\n",
       "</div>"
      ],
      "text/plain": [
       "         A1  A2  A3  A4  A5  A6  A7  A8  A9  A10  ...  Sex       Ethnicity  \\\n",
       "Case_No                                           ...                        \n",
       "1         0   0   0   0   0   0   1   1   0    1  ...    f  middle eastern   \n",
       "2         1   1   0   0   0   1   1   0   0    0  ...    m  White European   \n",
       "3         1   0   0   0   0   0   1   1   0    1  ...    m  middle eastern   \n",
       "4         1   1   1   1   1   1   1   1   1    1  ...    m        Hispanic   \n",
       "5         1   1   0   1   1   1   1   1   1    1  ...    f  White European   \n",
       "\n",
       "        Jaundice Family_mem_with_ASD Who completed the test Class/ASD Traits   \\\n",
       "Case_No                                                                         \n",
       "1            yes                  no          family member                No   \n",
       "2            yes                  no          family member               Yes   \n",
       "3            yes                  no          family member               Yes   \n",
       "4             no                  no          family member               Yes   \n",
       "5             no                 yes          family member               Yes   \n",
       "\n",
       "        target   male  jaundice  family  \n",
       "Case_No                                  \n",
       "1        False  False      True   False  \n",
       "2         True   True      True   False  \n",
       "3         True   True      True   False  \n",
       "4         True   True     False   False  \n",
       "5         True  False     False    True  \n",
       "\n",
       "[5 rows x 22 columns]"
      ]
     },
     "execution_count": 1,
     "metadata": {},
     "output_type": "execute_result"
    }
   ],
   "source": [
    "import os\n",
    "import pandas as pd\n",
    "\n",
    "for dirname, _, filenames in os.walk('/kaggle/input'):\n",
    "    if filenames:\n",
    "        input_file = os.path.join(dirname, filenames[0])\n",
    "\n",
    "df = pd.read_csv(filepath_or_buffer=input_file, index_col=['Case_No'])\n",
    "# we have several booleans we want to transform\n",
    "df['target'] = df['Class/ASD Traits '] == 'Yes'\n",
    "df['male'] = df['Sex'] == 'm'\n",
    "df['jaundice'] = df['Jaundice'] == 'yes'\n",
    "df['family'] = df['Family_mem_with_ASD'] == 'yes'\n",
    "df.head()"
   ]
  },
  {
   "cell_type": "code",
   "execution_count": 2,
   "id": "d51500f9",
   "metadata": {
    "execution": {
     "iopub.execute_input": "2024-03-16T12:55:38.277627Z",
     "iopub.status.busy": "2024-03-16T12:55:38.277332Z",
     "iopub.status.idle": "2024-03-16T12:55:40.502902Z",
     "shell.execute_reply": "2024-03-16T12:55:40.501800Z"
    },
    "papermill": {
     "duration": 2.232716,
     "end_time": "2024-03-16T12:55:40.505764",
     "exception": false,
     "start_time": "2024-03-16T12:55:38.273048",
     "status": "completed"
    },
    "tags": []
   },
   "outputs": [
    {
     "data": {
      "text/html": [
       "        <script type=\"text/javascript\">\n",
       "        window.PlotlyConfig = {MathJaxConfig: 'local'};\n",
       "        if (window.MathJax && window.MathJax.Hub && window.MathJax.Hub.Config) {window.MathJax.Hub.Config({SVG: {font: \"STIX-Web\"}});}\n",
       "        if (typeof require !== 'undefined') {\n",
       "        require.undef(\"plotly\");\n",
       "        requirejs.config({\n",
       "            paths: {\n",
       "                'plotly': ['https://cdn.plot.ly/plotly-2.27.0.min']\n",
       "            }\n",
       "        });\n",
       "        require(['plotly'], function(Plotly) {\n",
       "            window._Plotly = Plotly;\n",
       "        });\n",
       "        }\n",
       "        </script>\n",
       "        "
      ]
     },
     "metadata": {},
     "output_type": "display_data"
    },
    {
     "data": {
      "text/html": [
       "<div>                            <div id=\"21301288-b94a-4dfe-963e-109467503c92\" class=\"plotly-graph-div\" style=\"height:525px; width:100%;\"></div>            <script type=\"text/javascript\">                require([\"plotly\"], function(Plotly) {                    window.PLOTLYENV=window.PLOTLYENV || {};                                    if (document.getElementById(\"21301288-b94a-4dfe-963e-109467503c92\")) {                    Plotly.newPlot(                        \"21301288-b94a-4dfe-963e-109467503c92\",                        [{\"alignmentgroup\":\"True\",\"bingroup\":\"x\",\"hovertemplate\":\"target=False\\u003cbr\\u003eQchat-10-Score=%{x}\\u003cbr\\u003ecount=%{y}\\u003cextra\\u003e\\u003c\\u002fextra\\u003e\",\"legendgroup\":\"False\",\"marker\":{\"color\":\"#636efa\",\"pattern\":{\"shape\":\"\"}},\"name\":\"False\",\"offsetgroup\":\"False\",\"orientation\":\"v\",\"showlegend\":true,\"x\":[3,2,0,0,0,3,0,0,0,0,1,0,1,1,0,0,1,1,0,0,0,1,2,1,1,1,1,1,1,1,1,2,1,1,1,3,1,2,1,0,0,0,3,2,0,3,1,3,1,2,1,1,2,1,1,2,2,2,3,1,1,1,1,0,2,1,3,3,1,1,2,2,3,3,1,1,3,1,0,0,3,1,2,2,3,2,3,3,1,3,3,3,2,3,3,1,3,3,2,3,3,3,1,2,0,3,1,2,2,3,0,3,0,3,3,1,3,1,0,3,1,0,0,0,3,1,2,2,1,1,1,1,0,2,0,2,2,3,0,1,3,3,3,0,2,0,2,1,3,3,3,2,2,3,3,0,0,2,2,1,2,2,1,3,3,2,0,2,1,3,3,2,2,2,2,1,3,1,2,1,1,3,2,1,2,2,3,2,3,1,2,1,2,3,3,3,3,3,2,2,3,1,3,3,1,1,2,0,1,0,1,2,3,2,3,1,2,3,0,2,3,1,1,2,3,2,2,2,2,3,2,2,2,1,1,0,3,3,1,0,3,2,1,3,3,0,2,0,2,3,3,3,1,1,2,2,1,1,1,0,2,2,2,0,2,0,3,1,1,0,2,3,0,3,3,0,0,0,1,2,3,2,3,3,3,3,3,3,3,2,2,3,1,2,0,2,3,2,2,2,3,3,1,3,2,0,2,3,2,3,2,3,2,0,1,3,1,3,2,1,1,1,2,0,1,3],\"xaxis\":\"x\",\"yaxis\":\"y\",\"type\":\"histogram\"},{\"alignmentgroup\":\"True\",\"bingroup\":\"x\",\"hovertemplate\":\"target=True\\u003cbr\\u003eQchat-10-Score=%{x}\\u003cbr\\u003ecount=%{y}\\u003cextra\\u003e\\u003c\\u002fextra\\u003e\",\"legendgroup\":\"True\",\"marker\":{\"color\":\"#EF553B\",\"pattern\":{\"shape\":\"\"}},\"name\":\"True\",\"offsetgroup\":\"True\",\"orientation\":\"v\",\"showlegend\":true,\"x\":[4,4,10,9,8,5,6,8,6,8,7,7,8,7,7,7,7,7,9,8,10,7,10,10,6,5,6,8,5,9,4,8,6,7,10,4,7,7,8,7,6,5,4,9,7,5,8,6,4,5,4,4,9,6,7,4,7,8,4,10,6,5,5,8,6,6,7,7,7,4,10,4,9,4,9,7,5,9,7,4,9,5,9,9,6,6,8,8,6,9,7,5,5,9,4,9,5,4,8,6,7,8,5,9,9,7,4,7,4,9,5,7,7,10,4,9,7,8,6,4,9,9,4,7,7,9,5,5,9,10,4,6,7,5,10,7,7,6,8,6,8,10,9,4,7,8,9,9,8,7,7,9,5,4,7,6,5,8,5,8,5,7,7,9,10,9,7,9,8,4,7,4,5,6,4,6,5,8,9,8,8,9,7,8,7,5,10,5,5,6,5,10,6,6,7,7,5,5,10,10,4,5,7,5,7,6,6,5,4,10,9,10,7,10,9,6,6,5,6,4,6,8,7,7,10,4,8,5,7,9,9,9,7,6,10,7,5,5,4,8,6,4,4,8,4,7,4,9,5,7,4,9,5,5,4,7,9,7,9,7,7,6,4,8,9,4,6,4,8,5,8,6,5,7,7,5,4,4,9,9,8,5,4,5,6,7,7,8,6,5,6,10,6,7,8,4,7,8,8,4,4,8,6,7,7,10,6,4,9,4,9,5,4,9,10,7,6,9,7,8,9,6,10,10,6,7,10,8,5,6,10,4,8,7,4,4,4,5,6,8,4,10,5,10,8,4,5,8,8,10,5,5,8,7,8,9,9,9,5,7,4,5,4,10,7,7,5,10,5,5,6,8,5,8,6,8,10,7,4,6,10,7,5,10,8,4,7,4,5,6,5,8,6,10,8,5,5,8,6,6,7,5,5,8,8,9,6,9,10,10,10,4,4,10,6,4,8,7,5,5,9,8,8,9,10,8,9,10,7,10,4,4,10,4,5,4,7,6,6,4,6,5,5,6,10,4,4,6,6,6,6,8,10,7,7,9,5,5,8,7,8,7,4,5,7,9,8,7,6,5,9,9,5,7,9,8,10,6,9,6,9,8,6,7,7,7,5,7,8,6,8,10,4,4,8,7,10,6,10,8,7,7,6,7,9,5,9,7,6,8,9,7,8,9,5,4,8,7,8,9,5,5,8,7,10,6,7,5,9,7,4,9,8,4,7,7,4,9,6,9,7,4,10,7,5,5,4,4,8,9,8,6,10,4,9,6,5,6,9,7,7,7,9,8,6,8,9,5,9,7,5,5,10,6,4,10,9,10,6,5,4,10,4,8,4,9,4,7,7,4,5,6,10,10,10,9,9,6,7,10,7,7,10,7,4,7,10,5,7,5,7,5,10,5,5,10,5,10,5,8,10,9,9,8,5,8,7,6,6,10,5,10,5,7,5,4,8,8,8,7,6,5,7,4,4,8,4,4,9,4,7,7,4,9,9,5,5,9,5,9,4,6,6,8,7,6,7,4,4,5,7,5,5,4,7,7,7,5,8,10,6,7,9,4,9,8,8,4,10,4,7,4,5,4,5,8,6,6,9,5,9,4,9,5,4,5,6,6,7,4,5,5,8,6,5,5,6,4,4,8,10,10,10,7,5,5,9,6],\"xaxis\":\"x\",\"yaxis\":\"y\",\"type\":\"histogram\"}],                        {\"template\":{\"data\":{\"histogram2dcontour\":[{\"type\":\"histogram2dcontour\",\"colorbar\":{\"outlinewidth\":0,\"ticks\":\"\"},\"colorscale\":[[0.0,\"#0d0887\"],[0.1111111111111111,\"#46039f\"],[0.2222222222222222,\"#7201a8\"],[0.3333333333333333,\"#9c179e\"],[0.4444444444444444,\"#bd3786\"],[0.5555555555555556,\"#d8576b\"],[0.6666666666666666,\"#ed7953\"],[0.7777777777777778,\"#fb9f3a\"],[0.8888888888888888,\"#fdca26\"],[1.0,\"#f0f921\"]]}],\"choropleth\":[{\"type\":\"choropleth\",\"colorbar\":{\"outlinewidth\":0,\"ticks\":\"\"}}],\"histogram2d\":[{\"type\":\"histogram2d\",\"colorbar\":{\"outlinewidth\":0,\"ticks\":\"\"},\"colorscale\":[[0.0,\"#0d0887\"],[0.1111111111111111,\"#46039f\"],[0.2222222222222222,\"#7201a8\"],[0.3333333333333333,\"#9c179e\"],[0.4444444444444444,\"#bd3786\"],[0.5555555555555556,\"#d8576b\"],[0.6666666666666666,\"#ed7953\"],[0.7777777777777778,\"#fb9f3a\"],[0.8888888888888888,\"#fdca26\"],[1.0,\"#f0f921\"]]}],\"heatmap\":[{\"type\":\"heatmap\",\"colorbar\":{\"outlinewidth\":0,\"ticks\":\"\"},\"colorscale\":[[0.0,\"#0d0887\"],[0.1111111111111111,\"#46039f\"],[0.2222222222222222,\"#7201a8\"],[0.3333333333333333,\"#9c179e\"],[0.4444444444444444,\"#bd3786\"],[0.5555555555555556,\"#d8576b\"],[0.6666666666666666,\"#ed7953\"],[0.7777777777777778,\"#fb9f3a\"],[0.8888888888888888,\"#fdca26\"],[1.0,\"#f0f921\"]]}],\"heatmapgl\":[{\"type\":\"heatmapgl\",\"colorbar\":{\"outlinewidth\":0,\"ticks\":\"\"},\"colorscale\":[[0.0,\"#0d0887\"],[0.1111111111111111,\"#46039f\"],[0.2222222222222222,\"#7201a8\"],[0.3333333333333333,\"#9c179e\"],[0.4444444444444444,\"#bd3786\"],[0.5555555555555556,\"#d8576b\"],[0.6666666666666666,\"#ed7953\"],[0.7777777777777778,\"#fb9f3a\"],[0.8888888888888888,\"#fdca26\"],[1.0,\"#f0f921\"]]}],\"contourcarpet\":[{\"type\":\"contourcarpet\",\"colorbar\":{\"outlinewidth\":0,\"ticks\":\"\"}}],\"contour\":[{\"type\":\"contour\",\"colorbar\":{\"outlinewidth\":0,\"ticks\":\"\"},\"colorscale\":[[0.0,\"#0d0887\"],[0.1111111111111111,\"#46039f\"],[0.2222222222222222,\"#7201a8\"],[0.3333333333333333,\"#9c179e\"],[0.4444444444444444,\"#bd3786\"],[0.5555555555555556,\"#d8576b\"],[0.6666666666666666,\"#ed7953\"],[0.7777777777777778,\"#fb9f3a\"],[0.8888888888888888,\"#fdca26\"],[1.0,\"#f0f921\"]]}],\"surface\":[{\"type\":\"surface\",\"colorbar\":{\"outlinewidth\":0,\"ticks\":\"\"},\"colorscale\":[[0.0,\"#0d0887\"],[0.1111111111111111,\"#46039f\"],[0.2222222222222222,\"#7201a8\"],[0.3333333333333333,\"#9c179e\"],[0.4444444444444444,\"#bd3786\"],[0.5555555555555556,\"#d8576b\"],[0.6666666666666666,\"#ed7953\"],[0.7777777777777778,\"#fb9f3a\"],[0.8888888888888888,\"#fdca26\"],[1.0,\"#f0f921\"]]}],\"mesh3d\":[{\"type\":\"mesh3d\",\"colorbar\":{\"outlinewidth\":0,\"ticks\":\"\"}}],\"scatter\":[{\"fillpattern\":{\"fillmode\":\"overlay\",\"size\":10,\"solidity\":0.2},\"type\":\"scatter\"}],\"parcoords\":[{\"type\":\"parcoords\",\"line\":{\"colorbar\":{\"outlinewidth\":0,\"ticks\":\"\"}}}],\"scatterpolargl\":[{\"type\":\"scatterpolargl\",\"marker\":{\"colorbar\":{\"outlinewidth\":0,\"ticks\":\"\"}}}],\"bar\":[{\"error_x\":{\"color\":\"#2a3f5f\"},\"error_y\":{\"color\":\"#2a3f5f\"},\"marker\":{\"line\":{\"color\":\"#E5ECF6\",\"width\":0.5},\"pattern\":{\"fillmode\":\"overlay\",\"size\":10,\"solidity\":0.2}},\"type\":\"bar\"}],\"scattergeo\":[{\"type\":\"scattergeo\",\"marker\":{\"colorbar\":{\"outlinewidth\":0,\"ticks\":\"\"}}}],\"scatterpolar\":[{\"type\":\"scatterpolar\",\"marker\":{\"colorbar\":{\"outlinewidth\":0,\"ticks\":\"\"}}}],\"histogram\":[{\"marker\":{\"pattern\":{\"fillmode\":\"overlay\",\"size\":10,\"solidity\":0.2}},\"type\":\"histogram\"}],\"scattergl\":[{\"type\":\"scattergl\",\"marker\":{\"colorbar\":{\"outlinewidth\":0,\"ticks\":\"\"}}}],\"scatter3d\":[{\"type\":\"scatter3d\",\"line\":{\"colorbar\":{\"outlinewidth\":0,\"ticks\":\"\"}},\"marker\":{\"colorbar\":{\"outlinewidth\":0,\"ticks\":\"\"}}}],\"scattermapbox\":[{\"type\":\"scattermapbox\",\"marker\":{\"colorbar\":{\"outlinewidth\":0,\"ticks\":\"\"}}}],\"scatterternary\":[{\"type\":\"scatterternary\",\"marker\":{\"colorbar\":{\"outlinewidth\":0,\"ticks\":\"\"}}}],\"scattercarpet\":[{\"type\":\"scattercarpet\",\"marker\":{\"colorbar\":{\"outlinewidth\":0,\"ticks\":\"\"}}}],\"carpet\":[{\"aaxis\":{\"endlinecolor\":\"#2a3f5f\",\"gridcolor\":\"white\",\"linecolor\":\"white\",\"minorgridcolor\":\"white\",\"startlinecolor\":\"#2a3f5f\"},\"baxis\":{\"endlinecolor\":\"#2a3f5f\",\"gridcolor\":\"white\",\"linecolor\":\"white\",\"minorgridcolor\":\"white\",\"startlinecolor\":\"#2a3f5f\"},\"type\":\"carpet\"}],\"table\":[{\"cells\":{\"fill\":{\"color\":\"#EBF0F8\"},\"line\":{\"color\":\"white\"}},\"header\":{\"fill\":{\"color\":\"#C8D4E3\"},\"line\":{\"color\":\"white\"}},\"type\":\"table\"}],\"barpolar\":[{\"marker\":{\"line\":{\"color\":\"#E5ECF6\",\"width\":0.5},\"pattern\":{\"fillmode\":\"overlay\",\"size\":10,\"solidity\":0.2}},\"type\":\"barpolar\"}],\"pie\":[{\"automargin\":true,\"type\":\"pie\"}]},\"layout\":{\"autotypenumbers\":\"strict\",\"colorway\":[\"#636efa\",\"#EF553B\",\"#00cc96\",\"#ab63fa\",\"#FFA15A\",\"#19d3f3\",\"#FF6692\",\"#B6E880\",\"#FF97FF\",\"#FECB52\"],\"font\":{\"color\":\"#2a3f5f\"},\"hovermode\":\"closest\",\"hoverlabel\":{\"align\":\"left\"},\"paper_bgcolor\":\"white\",\"plot_bgcolor\":\"#E5ECF6\",\"polar\":{\"bgcolor\":\"#E5ECF6\",\"angularaxis\":{\"gridcolor\":\"white\",\"linecolor\":\"white\",\"ticks\":\"\"},\"radialaxis\":{\"gridcolor\":\"white\",\"linecolor\":\"white\",\"ticks\":\"\"}},\"ternary\":{\"bgcolor\":\"#E5ECF6\",\"aaxis\":{\"gridcolor\":\"white\",\"linecolor\":\"white\",\"ticks\":\"\"},\"baxis\":{\"gridcolor\":\"white\",\"linecolor\":\"white\",\"ticks\":\"\"},\"caxis\":{\"gridcolor\":\"white\",\"linecolor\":\"white\",\"ticks\":\"\"}},\"coloraxis\":{\"colorbar\":{\"outlinewidth\":0,\"ticks\":\"\"}},\"colorscale\":{\"sequential\":[[0.0,\"#0d0887\"],[0.1111111111111111,\"#46039f\"],[0.2222222222222222,\"#7201a8\"],[0.3333333333333333,\"#9c179e\"],[0.4444444444444444,\"#bd3786\"],[0.5555555555555556,\"#d8576b\"],[0.6666666666666666,\"#ed7953\"],[0.7777777777777778,\"#fb9f3a\"],[0.8888888888888888,\"#fdca26\"],[1.0,\"#f0f921\"]],\"sequentialminus\":[[0.0,\"#0d0887\"],[0.1111111111111111,\"#46039f\"],[0.2222222222222222,\"#7201a8\"],[0.3333333333333333,\"#9c179e\"],[0.4444444444444444,\"#bd3786\"],[0.5555555555555556,\"#d8576b\"],[0.6666666666666666,\"#ed7953\"],[0.7777777777777778,\"#fb9f3a\"],[0.8888888888888888,\"#fdca26\"],[1.0,\"#f0f921\"]],\"diverging\":[[0,\"#8e0152\"],[0.1,\"#c51b7d\"],[0.2,\"#de77ae\"],[0.3,\"#f1b6da\"],[0.4,\"#fde0ef\"],[0.5,\"#f7f7f7\"],[0.6,\"#e6f5d0\"],[0.7,\"#b8e186\"],[0.8,\"#7fbc41\"],[0.9,\"#4d9221\"],[1,\"#276419\"]]},\"xaxis\":{\"gridcolor\":\"white\",\"linecolor\":\"white\",\"ticks\":\"\",\"title\":{\"standoff\":15},\"zerolinecolor\":\"white\",\"automargin\":true,\"zerolinewidth\":2},\"yaxis\":{\"gridcolor\":\"white\",\"linecolor\":\"white\",\"ticks\":\"\",\"title\":{\"standoff\":15},\"zerolinecolor\":\"white\",\"automargin\":true,\"zerolinewidth\":2},\"scene\":{\"xaxis\":{\"backgroundcolor\":\"#E5ECF6\",\"gridcolor\":\"white\",\"linecolor\":\"white\",\"showbackground\":true,\"ticks\":\"\",\"zerolinecolor\":\"white\",\"gridwidth\":2},\"yaxis\":{\"backgroundcolor\":\"#E5ECF6\",\"gridcolor\":\"white\",\"linecolor\":\"white\",\"showbackground\":true,\"ticks\":\"\",\"zerolinecolor\":\"white\",\"gridwidth\":2},\"zaxis\":{\"backgroundcolor\":\"#E5ECF6\",\"gridcolor\":\"white\",\"linecolor\":\"white\",\"showbackground\":true,\"ticks\":\"\",\"zerolinecolor\":\"white\",\"gridwidth\":2}},\"shapedefaults\":{\"line\":{\"color\":\"#2a3f5f\"}},\"annotationdefaults\":{\"arrowcolor\":\"#2a3f5f\",\"arrowhead\":0,\"arrowwidth\":1},\"geo\":{\"bgcolor\":\"white\",\"landcolor\":\"#E5ECF6\",\"subunitcolor\":\"white\",\"showland\":true,\"showlakes\":true,\"lakecolor\":\"white\"},\"title\":{\"x\":0.05},\"mapbox\":{\"style\":\"light\"}}},\"xaxis\":{\"anchor\":\"y\",\"domain\":[0.0,1.0],\"title\":{\"text\":\"Qchat-10-Score\"}},\"yaxis\":{\"anchor\":\"x\",\"domain\":[0.0,1.0],\"title\":{\"text\":\"count\"}},\"legend\":{\"title\":{\"text\":\"target\"},\"tracegroupgap\":0},\"margin\":{\"t\":60},\"barmode\":\"relative\"},                        {\"responsive\": true}                    ).then(function(){\n",
       "                            \n",
       "var gd = document.getElementById('21301288-b94a-4dfe-963e-109467503c92');\n",
       "var x = new MutationObserver(function (mutations, observer) {{\n",
       "        var display = window.getComputedStyle(gd).display;\n",
       "        if (!display || display === 'none') {{\n",
       "            console.log([gd, 'removed!']);\n",
       "            Plotly.purge(gd);\n",
       "            observer.disconnect();\n",
       "        }}\n",
       "}});\n",
       "\n",
       "// Listen for the removal of the full notebook cells\n",
       "var notebookContainer = gd.closest('#notebook-container');\n",
       "if (notebookContainer) {{\n",
       "    x.observe(notebookContainer, {childList: true});\n",
       "}}\n",
       "\n",
       "// Listen for the clearing of the current output cell\n",
       "var outputEl = gd.closest('.output');\n",
       "if (outputEl) {{\n",
       "    x.observe(outputEl, {childList: true});\n",
       "}}\n",
       "\n",
       "                        })                };                });            </script>        </div>"
      ]
     },
     "metadata": {},
     "output_type": "display_data"
    }
   ],
   "source": [
    "import warnings\n",
    "from plotly import express\n",
    "warnings.filterwarnings(action='ignore', category=FutureWarning)\n",
    "\n",
    "x = 'Qchat-10-Score'\n",
    "express.histogram(data_frame=df, x=x, color='target').show()"
   ]
  },
  {
   "cell_type": "markdown",
   "id": "bcd65142",
   "metadata": {
    "papermill": {
     "duration": 0.003279,
     "end_time": "2024-03-16T12:55:40.512807",
     "exception": false,
     "start_time": "2024-03-16T12:55:40.509528",
     "status": "completed"
    },
    "tags": []
   },
   "source": [
    "If we want to build a classifier we need to leave this variable out."
   ]
  },
  {
   "cell_type": "code",
   "execution_count": 3,
   "id": "29f19359",
   "metadata": {
    "execution": {
     "iopub.execute_input": "2024-03-16T12:55:40.521157Z",
     "iopub.status.busy": "2024-03-16T12:55:40.520827Z",
     "iopub.status.idle": "2024-03-16T12:55:40.835553Z",
     "shell.execute_reply": "2024-03-16T12:55:40.834205Z"
    },
    "papermill": {
     "duration": 0.321601,
     "end_time": "2024-03-16T12:55:40.837865",
     "exception": false,
     "start_time": "2024-03-16T12:55:40.516264",
     "status": "completed"
    },
    "tags": []
   },
   "outputs": [
    {
     "data": {
      "text/html": [
       "<div>                            <div id=\"e43fa06e-8dbe-48ec-a4fc-0031462e2e0d\" class=\"plotly-graph-div\" style=\"height:525px; width:100%;\"></div>            <script type=\"text/javascript\">                require([\"plotly\"], function(Plotly) {                    window.PLOTLYENV=window.PLOTLYENV || {};                                    if (document.getElementById(\"e43fa06e-8dbe-48ec-a4fc-0031462e2e0d\")) {                    Plotly.newPlot(                        \"e43fa06e-8dbe-48ec-a4fc-0031462e2e0d\",                        [{\"alignmentgroup\":\"True\",\"bingroup\":\"x\",\"hovertemplate\":\"target=False\\u003cbr\\u003eAge_Mons=%{x}\\u003cbr\\u003ecount=%{y}\\u003cextra\\u003e\\u003c\\u002fextra\\u003e\",\"legendgroup\":\"False\",\"marker\":{\"color\":\"#636efa\",\"pattern\":{\"shape\":\"\"}},\"name\":\"False\",\"offsetgroup\":\"False\",\"orientation\":\"v\",\"showlegend\":true,\"x\":[28,36,25,18,36,29,24,32,18,12,15,12,12,15,15,15,15,12,15,15,15,15,19,18,12,14,14,12,12,15,12,15,13,13,12,36,29,23,30,36,36,36,30,30,22,20,34,34,36,12,34,31,24,23,36,12,32,32,28,26,25,25,36,33,33,34,36,26,12,30,19,36,33,22,12,36,36,30,30,36,19,12,36,36,33,33,33,33,30,33,30,32,31,31,27,36,36,15,36,30,35,13,28,12,31,31,19,26,36,27,24,36,36,36,36,25,24,36,32,33,36,36,24,21,29,13,36,36,36,13,13,13,36,36,19,36,33,30,36,36,28,36,25,36,13,30,33,27,34,36,36,12,35,36,36,36,35,36,36,15,36,25,36,36,36,17,15,12,28,12,36,35,12,36,36,12,13,36,36,34,36,12,36,36,36,36,16,36,28,31,36,36,36,36,36,36,22,36,30,36,32,12,25,24,12,36,30,36,24,13,30,21,36,36,29,36,26,35,12,36,27,36,15,17,17,17,23,23,36,12,31,36,30,22,22,36,36,36,15,17,36,22,34,36,27,36,36,25,24,36,36,24,30,36,25,14,31,31,31,28,32,21,21,20,36,36,12,36,30,36,12,36,36,34,34,24,26,28,24,12,36,27,12,12,12,12,20,36,36,36,19,20,12,12,12,24,36,18,36,36,36,30,24,24,12,36,36,36,36,34,32,21,19,36,35,23,36,36,16,28,12,25,25,30,24,19],\"xaxis\":\"x\",\"yaxis\":\"y\",\"type\":\"histogram\"},{\"alignmentgroup\":\"True\",\"bingroup\":\"x\",\"hovertemplate\":\"target=True\\u003cbr\\u003eAge_Mons=%{x}\\u003cbr\\u003ecount=%{y}\\u003cextra\\u003e\\u003c\\u002fextra\\u003e\",\"legendgroup\":\"True\",\"marker\":{\"color\":\"#EF553B\",\"pattern\":{\"shape\":\"\"}},\"name\":\"True\",\"offsetgroup\":\"True\",\"orientation\":\"v\",\"showlegend\":true,\"x\":[36,36,24,20,21,33,33,22,36,17,15,12,12,12,36,36,36,36,22,36,35,36,15,12,36,32,25,36,30,12,36,18,34,34,21,26,19,29,36,30,30,23,34,34,32,33,24,34,31,31,36,31,25,24,36,36,30,32,32,29,18,27,27,19,36,17,36,36,20,33,24,36,35,26,23,24,36,23,23,33,26,33,36,24,28,36,30,23,12,29,23,33,12,35,12,30,24,27,36,36,20,20,35,36,30,30,34,36,15,36,36,36,36,16,25,25,22,23,36,36,21,22,30,13,20,22,33,33,36,20,36,36,36,31,15,19,19,24,28,36,28,18,36,23,36,36,31,31,35,23,33,36,30,30,16,36,36,30,29,32,32,36,36,12,28,27,15,36,28,31,23,36,26,20,20,31,12,36,17,24,18,26,23,21,36,33,33,36,36,36,32,26,26,26,14,16,28,30,12,32,31,23,12,23,36,36,26,36,36,33,36,28,36,28,12,36,36,36,36,36,34,24,14,14,36,34,36,32,36,36,36,36,36,27,36,17,35,30,30,36,30,30,30,24,28,26,36,32,36,36,36,36,20,26,32,24,35,24,24,36,36,36,33,36,27,29,36,33,12,30,36,36,30,15,18,36,12,26,36,36,36,36,30,25,14,14,26,36,35,28,28,12,36,19,24,30,32,35,29,36,15,19,24,36,13,13,36,36,36,17,22,20,36,36,28,30,30,28,26,28,36,36,28,36,28,24,34,32,29,27,25,36,12,36,36,36,36,30,35,31,36,36,36,26,22,24,19,24,21,20,30,13,31,31,17,12,13,13,34,34,36,25,25,24,36,35,35,19,12,36,36,36,36,33,22,22,31,29,36,36,36,23,36,28,35,32,36,35,24,24,24,30,26,12,36,23,36,34,36,36,36,36,36,36,36,36,26,36,27,36,36,36,36,36,30,26,25,20,20,20,28,28,28,28,28,36,29,30,27,22,22,36,36,36,34,24,25,25,33,36,24,24,24,29,28,24,24,16,22,22,32,18,28,34,24,22,36,14,36,24,14,14,26,36,24,33,33,32,31,17,19,19,29,36,14,16,14,24,36,32,27,33,23,34,16,36,24,35,15,15,12,22,36,30,36,29,26,23,15,25,33,12,28,36,30,30,36,29,34,36,31,36,36,12,26,36,36,28,36,12,31,31,22,36,15,34,14,27,28,14,31,28,36,26,15,12,16,28,34,24,22,36,29,14,36,35,35,31,36,15,36,36,36,36,24,24,23,34,13,36,36,36,16,24,20,28,29,24,19,34,18,36,14,14,35,35,19,29,36,26,28,36,36,18,21,32,36,27,18,24,36,22,30,19,16,26,24,30,26,30,36,36,21,36,31,30,30,33,26,36,36,24,24,36,34,24,29,20,30,36,30,27,23,23,36,22,36,36,26,21,25,28,13,15,23,24,36,29,36,32,36,36,36,12,12,32,35,20,12,36,15,36,36,27,27,36,35,36,22,29,36,27,26,26,16,28,18,35,30,33,36,36,24,16,30,36,24,36,36,34,24,23,30,36,35,35,33,34,24,36,33,23,34,36,27,36,24,24,32,24,30,36,30,30,24,36,36,36,12,36,29,22,36,36,32,18,14,26,26,30,25,25,30,24,30,12,18,24],\"xaxis\":\"x\",\"yaxis\":\"y\",\"type\":\"histogram\"}],                        {\"template\":{\"data\":{\"histogram2dcontour\":[{\"type\":\"histogram2dcontour\",\"colorbar\":{\"outlinewidth\":0,\"ticks\":\"\"},\"colorscale\":[[0.0,\"#0d0887\"],[0.1111111111111111,\"#46039f\"],[0.2222222222222222,\"#7201a8\"],[0.3333333333333333,\"#9c179e\"],[0.4444444444444444,\"#bd3786\"],[0.5555555555555556,\"#d8576b\"],[0.6666666666666666,\"#ed7953\"],[0.7777777777777778,\"#fb9f3a\"],[0.8888888888888888,\"#fdca26\"],[1.0,\"#f0f921\"]]}],\"choropleth\":[{\"type\":\"choropleth\",\"colorbar\":{\"outlinewidth\":0,\"ticks\":\"\"}}],\"histogram2d\":[{\"type\":\"histogram2d\",\"colorbar\":{\"outlinewidth\":0,\"ticks\":\"\"},\"colorscale\":[[0.0,\"#0d0887\"],[0.1111111111111111,\"#46039f\"],[0.2222222222222222,\"#7201a8\"],[0.3333333333333333,\"#9c179e\"],[0.4444444444444444,\"#bd3786\"],[0.5555555555555556,\"#d8576b\"],[0.6666666666666666,\"#ed7953\"],[0.7777777777777778,\"#fb9f3a\"],[0.8888888888888888,\"#fdca26\"],[1.0,\"#f0f921\"]]}],\"heatmap\":[{\"type\":\"heatmap\",\"colorbar\":{\"outlinewidth\":0,\"ticks\":\"\"},\"colorscale\":[[0.0,\"#0d0887\"],[0.1111111111111111,\"#46039f\"],[0.2222222222222222,\"#7201a8\"],[0.3333333333333333,\"#9c179e\"],[0.4444444444444444,\"#bd3786\"],[0.5555555555555556,\"#d8576b\"],[0.6666666666666666,\"#ed7953\"],[0.7777777777777778,\"#fb9f3a\"],[0.8888888888888888,\"#fdca26\"],[1.0,\"#f0f921\"]]}],\"heatmapgl\":[{\"type\":\"heatmapgl\",\"colorbar\":{\"outlinewidth\":0,\"ticks\":\"\"},\"colorscale\":[[0.0,\"#0d0887\"],[0.1111111111111111,\"#46039f\"],[0.2222222222222222,\"#7201a8\"],[0.3333333333333333,\"#9c179e\"],[0.4444444444444444,\"#bd3786\"],[0.5555555555555556,\"#d8576b\"],[0.6666666666666666,\"#ed7953\"],[0.7777777777777778,\"#fb9f3a\"],[0.8888888888888888,\"#fdca26\"],[1.0,\"#f0f921\"]]}],\"contourcarpet\":[{\"type\":\"contourcarpet\",\"colorbar\":{\"outlinewidth\":0,\"ticks\":\"\"}}],\"contour\":[{\"type\":\"contour\",\"colorbar\":{\"outlinewidth\":0,\"ticks\":\"\"},\"colorscale\":[[0.0,\"#0d0887\"],[0.1111111111111111,\"#46039f\"],[0.2222222222222222,\"#7201a8\"],[0.3333333333333333,\"#9c179e\"],[0.4444444444444444,\"#bd3786\"],[0.5555555555555556,\"#d8576b\"],[0.6666666666666666,\"#ed7953\"],[0.7777777777777778,\"#fb9f3a\"],[0.8888888888888888,\"#fdca26\"],[1.0,\"#f0f921\"]]}],\"surface\":[{\"type\":\"surface\",\"colorbar\":{\"outlinewidth\":0,\"ticks\":\"\"},\"colorscale\":[[0.0,\"#0d0887\"],[0.1111111111111111,\"#46039f\"],[0.2222222222222222,\"#7201a8\"],[0.3333333333333333,\"#9c179e\"],[0.4444444444444444,\"#bd3786\"],[0.5555555555555556,\"#d8576b\"],[0.6666666666666666,\"#ed7953\"],[0.7777777777777778,\"#fb9f3a\"],[0.8888888888888888,\"#fdca26\"],[1.0,\"#f0f921\"]]}],\"mesh3d\":[{\"type\":\"mesh3d\",\"colorbar\":{\"outlinewidth\":0,\"ticks\":\"\"}}],\"scatter\":[{\"fillpattern\":{\"fillmode\":\"overlay\",\"size\":10,\"solidity\":0.2},\"type\":\"scatter\"}],\"parcoords\":[{\"type\":\"parcoords\",\"line\":{\"colorbar\":{\"outlinewidth\":0,\"ticks\":\"\"}}}],\"scatterpolargl\":[{\"type\":\"scatterpolargl\",\"marker\":{\"colorbar\":{\"outlinewidth\":0,\"ticks\":\"\"}}}],\"bar\":[{\"error_x\":{\"color\":\"#2a3f5f\"},\"error_y\":{\"color\":\"#2a3f5f\"},\"marker\":{\"line\":{\"color\":\"#E5ECF6\",\"width\":0.5},\"pattern\":{\"fillmode\":\"overlay\",\"size\":10,\"solidity\":0.2}},\"type\":\"bar\"}],\"scattergeo\":[{\"type\":\"scattergeo\",\"marker\":{\"colorbar\":{\"outlinewidth\":0,\"ticks\":\"\"}}}],\"scatterpolar\":[{\"type\":\"scatterpolar\",\"marker\":{\"colorbar\":{\"outlinewidth\":0,\"ticks\":\"\"}}}],\"histogram\":[{\"marker\":{\"pattern\":{\"fillmode\":\"overlay\",\"size\":10,\"solidity\":0.2}},\"type\":\"histogram\"}],\"scattergl\":[{\"type\":\"scattergl\",\"marker\":{\"colorbar\":{\"outlinewidth\":0,\"ticks\":\"\"}}}],\"scatter3d\":[{\"type\":\"scatter3d\",\"line\":{\"colorbar\":{\"outlinewidth\":0,\"ticks\":\"\"}},\"marker\":{\"colorbar\":{\"outlinewidth\":0,\"ticks\":\"\"}}}],\"scattermapbox\":[{\"type\":\"scattermapbox\",\"marker\":{\"colorbar\":{\"outlinewidth\":0,\"ticks\":\"\"}}}],\"scatterternary\":[{\"type\":\"scatterternary\",\"marker\":{\"colorbar\":{\"outlinewidth\":0,\"ticks\":\"\"}}}],\"scattercarpet\":[{\"type\":\"scattercarpet\",\"marker\":{\"colorbar\":{\"outlinewidth\":0,\"ticks\":\"\"}}}],\"carpet\":[{\"aaxis\":{\"endlinecolor\":\"#2a3f5f\",\"gridcolor\":\"white\",\"linecolor\":\"white\",\"minorgridcolor\":\"white\",\"startlinecolor\":\"#2a3f5f\"},\"baxis\":{\"endlinecolor\":\"#2a3f5f\",\"gridcolor\":\"white\",\"linecolor\":\"white\",\"minorgridcolor\":\"white\",\"startlinecolor\":\"#2a3f5f\"},\"type\":\"carpet\"}],\"table\":[{\"cells\":{\"fill\":{\"color\":\"#EBF0F8\"},\"line\":{\"color\":\"white\"}},\"header\":{\"fill\":{\"color\":\"#C8D4E3\"},\"line\":{\"color\":\"white\"}},\"type\":\"table\"}],\"barpolar\":[{\"marker\":{\"line\":{\"color\":\"#E5ECF6\",\"width\":0.5},\"pattern\":{\"fillmode\":\"overlay\",\"size\":10,\"solidity\":0.2}},\"type\":\"barpolar\"}],\"pie\":[{\"automargin\":true,\"type\":\"pie\"}]},\"layout\":{\"autotypenumbers\":\"strict\",\"colorway\":[\"#636efa\",\"#EF553B\",\"#00cc96\",\"#ab63fa\",\"#FFA15A\",\"#19d3f3\",\"#FF6692\",\"#B6E880\",\"#FF97FF\",\"#FECB52\"],\"font\":{\"color\":\"#2a3f5f\"},\"hovermode\":\"closest\",\"hoverlabel\":{\"align\":\"left\"},\"paper_bgcolor\":\"white\",\"plot_bgcolor\":\"#E5ECF6\",\"polar\":{\"bgcolor\":\"#E5ECF6\",\"angularaxis\":{\"gridcolor\":\"white\",\"linecolor\":\"white\",\"ticks\":\"\"},\"radialaxis\":{\"gridcolor\":\"white\",\"linecolor\":\"white\",\"ticks\":\"\"}},\"ternary\":{\"bgcolor\":\"#E5ECF6\",\"aaxis\":{\"gridcolor\":\"white\",\"linecolor\":\"white\",\"ticks\":\"\"},\"baxis\":{\"gridcolor\":\"white\",\"linecolor\":\"white\",\"ticks\":\"\"},\"caxis\":{\"gridcolor\":\"white\",\"linecolor\":\"white\",\"ticks\":\"\"}},\"coloraxis\":{\"colorbar\":{\"outlinewidth\":0,\"ticks\":\"\"}},\"colorscale\":{\"sequential\":[[0.0,\"#0d0887\"],[0.1111111111111111,\"#46039f\"],[0.2222222222222222,\"#7201a8\"],[0.3333333333333333,\"#9c179e\"],[0.4444444444444444,\"#bd3786\"],[0.5555555555555556,\"#d8576b\"],[0.6666666666666666,\"#ed7953\"],[0.7777777777777778,\"#fb9f3a\"],[0.8888888888888888,\"#fdca26\"],[1.0,\"#f0f921\"]],\"sequentialminus\":[[0.0,\"#0d0887\"],[0.1111111111111111,\"#46039f\"],[0.2222222222222222,\"#7201a8\"],[0.3333333333333333,\"#9c179e\"],[0.4444444444444444,\"#bd3786\"],[0.5555555555555556,\"#d8576b\"],[0.6666666666666666,\"#ed7953\"],[0.7777777777777778,\"#fb9f3a\"],[0.8888888888888888,\"#fdca26\"],[1.0,\"#f0f921\"]],\"diverging\":[[0,\"#8e0152\"],[0.1,\"#c51b7d\"],[0.2,\"#de77ae\"],[0.3,\"#f1b6da\"],[0.4,\"#fde0ef\"],[0.5,\"#f7f7f7\"],[0.6,\"#e6f5d0\"],[0.7,\"#b8e186\"],[0.8,\"#7fbc41\"],[0.9,\"#4d9221\"],[1,\"#276419\"]]},\"xaxis\":{\"gridcolor\":\"white\",\"linecolor\":\"white\",\"ticks\":\"\",\"title\":{\"standoff\":15},\"zerolinecolor\":\"white\",\"automargin\":true,\"zerolinewidth\":2},\"yaxis\":{\"gridcolor\":\"white\",\"linecolor\":\"white\",\"ticks\":\"\",\"title\":{\"standoff\":15},\"zerolinecolor\":\"white\",\"automargin\":true,\"zerolinewidth\":2},\"scene\":{\"xaxis\":{\"backgroundcolor\":\"#E5ECF6\",\"gridcolor\":\"white\",\"linecolor\":\"white\",\"showbackground\":true,\"ticks\":\"\",\"zerolinecolor\":\"white\",\"gridwidth\":2},\"yaxis\":{\"backgroundcolor\":\"#E5ECF6\",\"gridcolor\":\"white\",\"linecolor\":\"white\",\"showbackground\":true,\"ticks\":\"\",\"zerolinecolor\":\"white\",\"gridwidth\":2},\"zaxis\":{\"backgroundcolor\":\"#E5ECF6\",\"gridcolor\":\"white\",\"linecolor\":\"white\",\"showbackground\":true,\"ticks\":\"\",\"zerolinecolor\":\"white\",\"gridwidth\":2}},\"shapedefaults\":{\"line\":{\"color\":\"#2a3f5f\"}},\"annotationdefaults\":{\"arrowcolor\":\"#2a3f5f\",\"arrowhead\":0,\"arrowwidth\":1},\"geo\":{\"bgcolor\":\"white\",\"landcolor\":\"#E5ECF6\",\"subunitcolor\":\"white\",\"showland\":true,\"showlakes\":true,\"lakecolor\":\"white\"},\"title\":{\"x\":0.05},\"mapbox\":{\"style\":\"light\"}}},\"xaxis\":{\"anchor\":\"y\",\"domain\":[0.0,1.0],\"title\":{\"text\":\"Age_Mons\"}},\"yaxis\":{\"anchor\":\"x\",\"domain\":[0.0,1.0],\"title\":{\"text\":\"count\"}},\"legend\":{\"title\":{\"text\":\"target\"},\"tracegroupgap\":0},\"margin\":{\"t\":60},\"barmode\":\"relative\"},                        {\"responsive\": true}                    ).then(function(){\n",
       "                            \n",
       "var gd = document.getElementById('e43fa06e-8dbe-48ec-a4fc-0031462e2e0d');\n",
       "var x = new MutationObserver(function (mutations, observer) {{\n",
       "        var display = window.getComputedStyle(gd).display;\n",
       "        if (!display || display === 'none') {{\n",
       "            console.log([gd, 'removed!']);\n",
       "            Plotly.purge(gd);\n",
       "            observer.disconnect();\n",
       "        }}\n",
       "}});\n",
       "\n",
       "// Listen for the removal of the full notebook cells\n",
       "var notebookContainer = gd.closest('#notebook-container');\n",
       "if (notebookContainer) {{\n",
       "    x.observe(notebookContainer, {childList: true});\n",
       "}}\n",
       "\n",
       "// Listen for the clearing of the current output cell\n",
       "var outputEl = gd.closest('.output');\n",
       "if (outputEl) {{\n",
       "    x.observe(outputEl, {childList: true});\n",
       "}}\n",
       "\n",
       "                        })                };                });            </script>        </div>"
      ]
     },
     "metadata": {},
     "output_type": "display_data"
    },
    {
     "data": {
      "text/html": [
       "<div>                            <div id=\"99c2e2d4-7791-48a5-bdd1-109654333800\" class=\"plotly-graph-div\" style=\"height:525px; width:100%;\"></div>            <script type=\"text/javascript\">                require([\"plotly\"], function(Plotly) {                    window.PLOTLYENV=window.PLOTLYENV || {};                                    if (document.getElementById(\"99c2e2d4-7791-48a5-bdd1-109654333800\")) {                    Plotly.newPlot(                        \"99c2e2d4-7791-48a5-bdd1-109654333800\",                        [{\"alignmentgroup\":\"True\",\"bingroup\":\"x\",\"hovertemplate\":\"target=False\\u003cbr\\u003eSex=%{x}\\u003cbr\\u003ecount=%{y}\\u003cextra\\u003e\\u003c\\u002fextra\\u003e\",\"legendgroup\":\"False\",\"marker\":{\"color\":\"#636efa\",\"pattern\":{\"shape\":\"\"}},\"name\":\"False\",\"offsetgroup\":\"False\",\"orientation\":\"v\",\"showlegend\":true,\"x\":[\"f\",\"m\",\"f\",\"m\",\"m\",\"f\",\"f\",\"m\",\"f\",\"f\",\"f\",\"f\",\"f\",\"f\",\"f\",\"f\",\"f\",\"f\",\"f\",\"f\",\"f\",\"f\",\"m\",\"m\",\"f\",\"f\",\"f\",\"m\",\"f\",\"f\",\"f\",\"f\",\"f\",\"f\",\"f\",\"m\",\"m\",\"m\",\"m\",\"m\",\"m\",\"m\",\"m\",\"m\",\"m\",\"m\",\"m\",\"m\",\"f\",\"f\",\"m\",\"f\",\"m\",\"f\",\"f\",\"m\",\"m\",\"m\",\"m\",\"f\",\"f\",\"f\",\"m\",\"f\",\"f\",\"f\",\"f\",\"f\",\"m\",\"f\",\"m\",\"f\",\"m\",\"m\",\"m\",\"f\",\"f\",\"f\",\"f\",\"m\",\"f\",\"m\",\"f\",\"f\",\"m\",\"m\",\"m\",\"m\",\"m\",\"m\",\"m\",\"m\",\"m\",\"m\",\"f\",\"m\",\"m\",\"m\",\"m\",\"m\",\"m\",\"f\",\"m\",\"f\",\"m\",\"m\",\"f\",\"m\",\"m\",\"m\",\"m\",\"m\",\"m\",\"m\",\"m\",\"m\",\"f\",\"f\",\"m\",\"m\",\"m\",\"f\",\"m\",\"m\",\"f\",\"f\",\"m\",\"m\",\"m\",\"f\",\"f\",\"f\",\"m\",\"m\",\"f\",\"m\",\"m\",\"f\",\"m\",\"m\",\"f\",\"m\",\"m\",\"f\",\"m\",\"m\",\"m\",\"m\",\"f\",\"m\",\"m\",\"m\",\"f\",\"m\",\"m\",\"m\",\"m\",\"m\",\"m\",\"f\",\"m\",\"m\",\"m\",\"m\",\"m\",\"m\",\"f\",\"f\",\"m\",\"f\",\"m\",\"m\",\"f\",\"m\",\"m\",\"f\",\"f\",\"m\",\"m\",\"f\",\"f\",\"f\",\"f\",\"f\",\"f\",\"m\",\"m\",\"m\",\"m\",\"m\",\"f\",\"f\",\"m\",\"m\",\"m\",\"m\",\"f\",\"f\",\"f\",\"f\",\"m\",\"m\",\"f\",\"m\",\"m\",\"m\",\"m\",\"f\",\"m\",\"f\",\"m\",\"f\",\"m\",\"m\",\"m\",\"f\",\"f\",\"f\",\"m\",\"f\",\"m\",\"m\",\"m\",\"m\",\"m\",\"m\",\"m\",\"m\",\"f\",\"f\",\"m\",\"m\",\"m\",\"f\",\"m\",\"f\",\"m\",\"m\",\"f\",\"f\",\"m\",\"m\",\"m\",\"m\",\"m\",\"f\",\"m\",\"m\",\"f\",\"m\",\"m\",\"f\",\"f\",\"m\",\"f\",\"m\",\"f\",\"f\",\"f\",\"m\",\"m\",\"m\",\"m\",\"m\",\"f\",\"f\",\"m\",\"m\",\"f\",\"m\",\"f\",\"m\",\"m\",\"f\",\"f\",\"m\",\"f\",\"f\",\"m\",\"m\",\"m\",\"m\",\"m\",\"m\",\"m\",\"m\",\"m\",\"f\",\"f\",\"m\",\"m\",\"m\",\"m\",\"m\",\"m\",\"m\",\"f\",\"m\",\"m\",\"m\",\"m\",\"m\",\"m\",\"m\",\"m\",\"m\",\"m\",\"m\",\"m\",\"f\",\"m\",\"m\",\"f\",\"f\",\"m\",\"m\",\"m\",\"m\",\"m\",\"m\",\"m\",\"m\",\"m\",\"f\",\"f\",\"m\"],\"xaxis\":\"x\",\"yaxis\":\"y\",\"type\":\"histogram\"},{\"alignmentgroup\":\"True\",\"bingroup\":\"x\",\"hovertemplate\":\"target=True\\u003cbr\\u003eSex=%{x}\\u003cbr\\u003ecount=%{y}\\u003cextra\\u003e\\u003c\\u002fextra\\u003e\",\"legendgroup\":\"True\",\"marker\":{\"color\":\"#EF553B\",\"pattern\":{\"shape\":\"\"}},\"name\":\"True\",\"offsetgroup\":\"True\",\"orientation\":\"v\",\"showlegend\":true,\"x\":[\"m\",\"m\",\"m\",\"f\",\"m\",\"m\",\"m\",\"m\",\"m\",\"m\",\"f\",\"m\",\"f\",\"f\",\"m\",\"m\",\"m\",\"m\",\"m\",\"m\",\"m\",\"m\",\"f\",\"f\",\"f\",\"f\",\"m\",\"m\",\"m\",\"f\",\"f\",\"f\",\"m\",\"m\",\"f\",\"m\",\"m\",\"m\",\"f\",\"m\",\"m\",\"m\",\"m\",\"m\",\"m\",\"m\",\"f\",\"m\",\"f\",\"f\",\"m\",\"f\",\"m\",\"m\",\"f\",\"m\",\"m\",\"m\",\"m\",\"m\",\"m\",\"m\",\"f\",\"m\",\"m\",\"f\",\"m\",\"f\",\"m\",\"f\",\"m\",\"m\",\"m\",\"f\",\"m\",\"m\",\"f\",\"m\",\"m\",\"m\",\"m\",\"m\",\"m\",\"f\",\"m\",\"m\",\"m\",\"m\",\"m\",\"m\",\"m\",\"m\",\"f\",\"m\",\"f\",\"m\",\"m\",\"f\",\"f\",\"f\",\"m\",\"m\",\"m\",\"f\",\"f\",\"f\",\"m\",\"m\",\"m\",\"m\",\"m\",\"m\",\"f\",\"f\",\"m\",\"f\",\"m\",\"m\",\"f\",\"m\",\"m\",\"m\",\"f\",\"m\",\"f\",\"f\",\"m\",\"m\",\"m\",\"m\",\"m\",\"m\",\"m\",\"m\",\"f\",\"f\",\"f\",\"m\",\"m\",\"m\",\"m\",\"m\",\"m\",\"f\",\"m\",\"m\",\"m\",\"m\",\"m\",\"m\",\"f\",\"m\",\"f\",\"m\",\"f\",\"m\",\"m\",\"m\",\"m\",\"m\",\"m\",\"m\",\"m\",\"m\",\"m\",\"m\",\"f\",\"f\",\"m\",\"m\",\"m\",\"m\",\"m\",\"m\",\"m\",\"f\",\"f\",\"m\",\"m\",\"f\",\"f\",\"m\",\"m\",\"m\",\"m\",\"m\",\"m\",\"m\",\"m\",\"m\",\"f\",\"m\",\"m\",\"m\",\"m\",\"m\",\"m\",\"m\",\"f\",\"m\",\"m\",\"m\",\"m\",\"m\",\"m\",\"f\",\"m\",\"f\",\"m\",\"m\",\"m\",\"m\",\"f\",\"m\",\"m\",\"m\",\"m\",\"m\",\"m\",\"m\",\"m\",\"m\",\"m\",\"m\",\"m\",\"m\",\"m\",\"f\",\"m\",\"m\",\"m\",\"m\",\"f\",\"f\",\"m\",\"f\",\"m\",\"m\",\"m\",\"f\",\"m\",\"m\",\"m\",\"m\",\"f\",\"m\",\"m\",\"m\",\"m\",\"m\",\"m\",\"m\",\"m\",\"m\",\"m\",\"f\",\"m\",\"f\",\"f\",\"m\",\"m\",\"m\",\"m\",\"m\",\"m\",\"m\",\"m\",\"m\",\"m\",\"f\",\"m\",\"m\",\"m\",\"m\",\"f\",\"m\",\"m\",\"m\",\"m\",\"m\",\"m\",\"f\",\"m\",\"m\",\"f\",\"f\",\"f\",\"f\",\"f\",\"m\",\"m\",\"m\",\"m\",\"m\",\"f\",\"f\",\"m\",\"m\",\"m\",\"m\",\"f\",\"m\",\"m\",\"m\",\"m\",\"m\",\"m\",\"m\",\"f\",\"m\",\"f\",\"m\",\"m\",\"f\",\"m\",\"f\",\"f\",\"m\",\"m\",\"m\",\"f\",\"m\",\"m\",\"m\",\"m\",\"f\",\"m\",\"m\",\"m\",\"m\",\"m\",\"m\",\"m\",\"m\",\"m\",\"m\",\"m\",\"f\",\"m\",\"f\",\"m\",\"m\",\"f\",\"f\",\"m\",\"m\",\"m\",\"m\",\"m\",\"f\",\"m\",\"f\",\"f\",\"f\",\"m\",\"f\",\"m\",\"m\",\"m\",\"m\",\"m\",\"m\",\"m\",\"f\",\"m\",\"m\",\"m\",\"m\",\"f\",\"m\",\"m\",\"m\",\"m\",\"m\",\"m\",\"m\",\"m\",\"f\",\"m\",\"m\",\"m\",\"m\",\"m\",\"f\",\"f\",\"f\",\"f\",\"m\",\"m\",\"m\",\"m\",\"f\",\"m\",\"m\",\"m\",\"m\",\"m\",\"f\",\"m\",\"m\",\"m\",\"m\",\"m\",\"m\",\"m\",\"m\",\"m\",\"m\",\"m\",\"m\",\"m\",\"m\",\"m\",\"m\",\"m\",\"m\",\"f\",\"f\",\"m\",\"f\",\"m\",\"m\",\"m\",\"m\",\"m\",\"m\",\"f\",\"m\",\"m\",\"f\",\"m\",\"f\",\"m\",\"m\",\"m\",\"m\",\"m\",\"m\",\"m\",\"m\",\"f\",\"f\",\"f\",\"m\",\"m\",\"m\",\"m\",\"f\",\"f\",\"f\",\"f\",\"m\",\"m\",\"m\",\"f\",\"m\",\"f\",\"m\",\"f\",\"m\",\"m\",\"m\",\"f\",\"m\",\"m\",\"f\",\"f\",\"f\",\"f\",\"m\",\"f\",\"f\",\"m\",\"m\",\"m\",\"m\",\"m\",\"m\",\"m\",\"m\",\"m\",\"m\",\"m\",\"m\",\"f\",\"m\",\"m\",\"m\",\"m\",\"m\",\"f\",\"m\",\"m\",\"m\",\"m\",\"m\",\"m\",\"m\",\"m\",\"m\",\"f\",\"f\",\"m\",\"m\",\"m\",\"m\",\"f\",\"m\",\"f\",\"f\",\"m\",\"f\",\"m\",\"m\",\"m\",\"f\",\"m\",\"m\",\"f\",\"m\",\"m\",\"m\",\"m\",\"m\",\"f\",\"f\",\"m\",\"m\",\"m\",\"m\",\"m\",\"m\",\"f\",\"f\",\"m\",\"m\",\"m\",\"m\",\"f\",\"m\",\"m\",\"f\",\"m\",\"m\",\"m\",\"m\",\"f\",\"f\",\"m\",\"m\",\"f\",\"f\",\"f\",\"m\",\"f\",\"f\",\"f\",\"f\",\"m\",\"m\",\"m\",\"m\",\"m\",\"f\",\"m\",\"m\",\"m\",\"m\",\"m\",\"f\",\"m\",\"f\",\"m\",\"m\",\"m\",\"m\",\"f\",\"m\",\"m\",\"m\",\"m\",\"m\",\"m\",\"m\",\"m\",\"m\",\"m\",\"m\",\"m\",\"m\",\"m\",\"f\",\"m\",\"m\",\"m\",\"f\",\"f\",\"f\",\"f\",\"m\",\"f\",\"f\",\"m\",\"m\",\"m\",\"f\",\"f\",\"m\",\"m\",\"m\",\"m\",\"f\",\"m\",\"m\",\"f\",\"m\",\"m\",\"m\",\"m\",\"m\",\"m\",\"f\",\"m\",\"m\",\"f\",\"f\",\"f\",\"m\",\"m\",\"m\",\"m\",\"f\",\"f\",\"m\",\"m\",\"m\",\"m\",\"m\",\"m\",\"m\",\"m\",\"m\",\"m\",\"m\",\"m\",\"m\",\"f\",\"m\",\"m\",\"m\",\"m\",\"m\",\"m\",\"m\",\"m\",\"m\",\"f\",\"f\",\"f\",\"m\",\"m\",\"m\",\"f\",\"m\",\"m\",\"m\",\"m\",\"f\",\"m\",\"m\",\"m\",\"m\",\"m\",\"f\",\"m\",\"m\",\"m\",\"m\",\"m\",\"f\",\"m\",\"m\",\"f\",\"m\",\"f\",\"f\",\"m\",\"m\",\"f\",\"m\",\"f\",\"f\",\"f\",\"m\",\"m\",\"m\",\"m\",\"m\",\"m\",\"m\",\"m\",\"m\",\"m\",\"f\",\"m\",\"m\",\"f\",\"m\",\"m\",\"m\",\"m\",\"f\",\"m\",\"f\",\"m\",\"m\",\"f\",\"m\",\"m\",\"m\",\"m\",\"m\",\"m\",\"f\",\"f\",\"m\",\"m\",\"m\"],\"xaxis\":\"x\",\"yaxis\":\"y\",\"type\":\"histogram\"}],                        {\"template\":{\"data\":{\"histogram2dcontour\":[{\"type\":\"histogram2dcontour\",\"colorbar\":{\"outlinewidth\":0,\"ticks\":\"\"},\"colorscale\":[[0.0,\"#0d0887\"],[0.1111111111111111,\"#46039f\"],[0.2222222222222222,\"#7201a8\"],[0.3333333333333333,\"#9c179e\"],[0.4444444444444444,\"#bd3786\"],[0.5555555555555556,\"#d8576b\"],[0.6666666666666666,\"#ed7953\"],[0.7777777777777778,\"#fb9f3a\"],[0.8888888888888888,\"#fdca26\"],[1.0,\"#f0f921\"]]}],\"choropleth\":[{\"type\":\"choropleth\",\"colorbar\":{\"outlinewidth\":0,\"ticks\":\"\"}}],\"histogram2d\":[{\"type\":\"histogram2d\",\"colorbar\":{\"outlinewidth\":0,\"ticks\":\"\"},\"colorscale\":[[0.0,\"#0d0887\"],[0.1111111111111111,\"#46039f\"],[0.2222222222222222,\"#7201a8\"],[0.3333333333333333,\"#9c179e\"],[0.4444444444444444,\"#bd3786\"],[0.5555555555555556,\"#d8576b\"],[0.6666666666666666,\"#ed7953\"],[0.7777777777777778,\"#fb9f3a\"],[0.8888888888888888,\"#fdca26\"],[1.0,\"#f0f921\"]]}],\"heatmap\":[{\"type\":\"heatmap\",\"colorbar\":{\"outlinewidth\":0,\"ticks\":\"\"},\"colorscale\":[[0.0,\"#0d0887\"],[0.1111111111111111,\"#46039f\"],[0.2222222222222222,\"#7201a8\"],[0.3333333333333333,\"#9c179e\"],[0.4444444444444444,\"#bd3786\"],[0.5555555555555556,\"#d8576b\"],[0.6666666666666666,\"#ed7953\"],[0.7777777777777778,\"#fb9f3a\"],[0.8888888888888888,\"#fdca26\"],[1.0,\"#f0f921\"]]}],\"heatmapgl\":[{\"type\":\"heatmapgl\",\"colorbar\":{\"outlinewidth\":0,\"ticks\":\"\"},\"colorscale\":[[0.0,\"#0d0887\"],[0.1111111111111111,\"#46039f\"],[0.2222222222222222,\"#7201a8\"],[0.3333333333333333,\"#9c179e\"],[0.4444444444444444,\"#bd3786\"],[0.5555555555555556,\"#d8576b\"],[0.6666666666666666,\"#ed7953\"],[0.7777777777777778,\"#fb9f3a\"],[0.8888888888888888,\"#fdca26\"],[1.0,\"#f0f921\"]]}],\"contourcarpet\":[{\"type\":\"contourcarpet\",\"colorbar\":{\"outlinewidth\":0,\"ticks\":\"\"}}],\"contour\":[{\"type\":\"contour\",\"colorbar\":{\"outlinewidth\":0,\"ticks\":\"\"},\"colorscale\":[[0.0,\"#0d0887\"],[0.1111111111111111,\"#46039f\"],[0.2222222222222222,\"#7201a8\"],[0.3333333333333333,\"#9c179e\"],[0.4444444444444444,\"#bd3786\"],[0.5555555555555556,\"#d8576b\"],[0.6666666666666666,\"#ed7953\"],[0.7777777777777778,\"#fb9f3a\"],[0.8888888888888888,\"#fdca26\"],[1.0,\"#f0f921\"]]}],\"surface\":[{\"type\":\"surface\",\"colorbar\":{\"outlinewidth\":0,\"ticks\":\"\"},\"colorscale\":[[0.0,\"#0d0887\"],[0.1111111111111111,\"#46039f\"],[0.2222222222222222,\"#7201a8\"],[0.3333333333333333,\"#9c179e\"],[0.4444444444444444,\"#bd3786\"],[0.5555555555555556,\"#d8576b\"],[0.6666666666666666,\"#ed7953\"],[0.7777777777777778,\"#fb9f3a\"],[0.8888888888888888,\"#fdca26\"],[1.0,\"#f0f921\"]]}],\"mesh3d\":[{\"type\":\"mesh3d\",\"colorbar\":{\"outlinewidth\":0,\"ticks\":\"\"}}],\"scatter\":[{\"fillpattern\":{\"fillmode\":\"overlay\",\"size\":10,\"solidity\":0.2},\"type\":\"scatter\"}],\"parcoords\":[{\"type\":\"parcoords\",\"line\":{\"colorbar\":{\"outlinewidth\":0,\"ticks\":\"\"}}}],\"scatterpolargl\":[{\"type\":\"scatterpolargl\",\"marker\":{\"colorbar\":{\"outlinewidth\":0,\"ticks\":\"\"}}}],\"bar\":[{\"error_x\":{\"color\":\"#2a3f5f\"},\"error_y\":{\"color\":\"#2a3f5f\"},\"marker\":{\"line\":{\"color\":\"#E5ECF6\",\"width\":0.5},\"pattern\":{\"fillmode\":\"overlay\",\"size\":10,\"solidity\":0.2}},\"type\":\"bar\"}],\"scattergeo\":[{\"type\":\"scattergeo\",\"marker\":{\"colorbar\":{\"outlinewidth\":0,\"ticks\":\"\"}}}],\"scatterpolar\":[{\"type\":\"scatterpolar\",\"marker\":{\"colorbar\":{\"outlinewidth\":0,\"ticks\":\"\"}}}],\"histogram\":[{\"marker\":{\"pattern\":{\"fillmode\":\"overlay\",\"size\":10,\"solidity\":0.2}},\"type\":\"histogram\"}],\"scattergl\":[{\"type\":\"scattergl\",\"marker\":{\"colorbar\":{\"outlinewidth\":0,\"ticks\":\"\"}}}],\"scatter3d\":[{\"type\":\"scatter3d\",\"line\":{\"colorbar\":{\"outlinewidth\":0,\"ticks\":\"\"}},\"marker\":{\"colorbar\":{\"outlinewidth\":0,\"ticks\":\"\"}}}],\"scattermapbox\":[{\"type\":\"scattermapbox\",\"marker\":{\"colorbar\":{\"outlinewidth\":0,\"ticks\":\"\"}}}],\"scatterternary\":[{\"type\":\"scatterternary\",\"marker\":{\"colorbar\":{\"outlinewidth\":0,\"ticks\":\"\"}}}],\"scattercarpet\":[{\"type\":\"scattercarpet\",\"marker\":{\"colorbar\":{\"outlinewidth\":0,\"ticks\":\"\"}}}],\"carpet\":[{\"aaxis\":{\"endlinecolor\":\"#2a3f5f\",\"gridcolor\":\"white\",\"linecolor\":\"white\",\"minorgridcolor\":\"white\",\"startlinecolor\":\"#2a3f5f\"},\"baxis\":{\"endlinecolor\":\"#2a3f5f\",\"gridcolor\":\"white\",\"linecolor\":\"white\",\"minorgridcolor\":\"white\",\"startlinecolor\":\"#2a3f5f\"},\"type\":\"carpet\"}],\"table\":[{\"cells\":{\"fill\":{\"color\":\"#EBF0F8\"},\"line\":{\"color\":\"white\"}},\"header\":{\"fill\":{\"color\":\"#C8D4E3\"},\"line\":{\"color\":\"white\"}},\"type\":\"table\"}],\"barpolar\":[{\"marker\":{\"line\":{\"color\":\"#E5ECF6\",\"width\":0.5},\"pattern\":{\"fillmode\":\"overlay\",\"size\":10,\"solidity\":0.2}},\"type\":\"barpolar\"}],\"pie\":[{\"automargin\":true,\"type\":\"pie\"}]},\"layout\":{\"autotypenumbers\":\"strict\",\"colorway\":[\"#636efa\",\"#EF553B\",\"#00cc96\",\"#ab63fa\",\"#FFA15A\",\"#19d3f3\",\"#FF6692\",\"#B6E880\",\"#FF97FF\",\"#FECB52\"],\"font\":{\"color\":\"#2a3f5f\"},\"hovermode\":\"closest\",\"hoverlabel\":{\"align\":\"left\"},\"paper_bgcolor\":\"white\",\"plot_bgcolor\":\"#E5ECF6\",\"polar\":{\"bgcolor\":\"#E5ECF6\",\"angularaxis\":{\"gridcolor\":\"white\",\"linecolor\":\"white\",\"ticks\":\"\"},\"radialaxis\":{\"gridcolor\":\"white\",\"linecolor\":\"white\",\"ticks\":\"\"}},\"ternary\":{\"bgcolor\":\"#E5ECF6\",\"aaxis\":{\"gridcolor\":\"white\",\"linecolor\":\"white\",\"ticks\":\"\"},\"baxis\":{\"gridcolor\":\"white\",\"linecolor\":\"white\",\"ticks\":\"\"},\"caxis\":{\"gridcolor\":\"white\",\"linecolor\":\"white\",\"ticks\":\"\"}},\"coloraxis\":{\"colorbar\":{\"outlinewidth\":0,\"ticks\":\"\"}},\"colorscale\":{\"sequential\":[[0.0,\"#0d0887\"],[0.1111111111111111,\"#46039f\"],[0.2222222222222222,\"#7201a8\"],[0.3333333333333333,\"#9c179e\"],[0.4444444444444444,\"#bd3786\"],[0.5555555555555556,\"#d8576b\"],[0.6666666666666666,\"#ed7953\"],[0.7777777777777778,\"#fb9f3a\"],[0.8888888888888888,\"#fdca26\"],[1.0,\"#f0f921\"]],\"sequentialminus\":[[0.0,\"#0d0887\"],[0.1111111111111111,\"#46039f\"],[0.2222222222222222,\"#7201a8\"],[0.3333333333333333,\"#9c179e\"],[0.4444444444444444,\"#bd3786\"],[0.5555555555555556,\"#d8576b\"],[0.6666666666666666,\"#ed7953\"],[0.7777777777777778,\"#fb9f3a\"],[0.8888888888888888,\"#fdca26\"],[1.0,\"#f0f921\"]],\"diverging\":[[0,\"#8e0152\"],[0.1,\"#c51b7d\"],[0.2,\"#de77ae\"],[0.3,\"#f1b6da\"],[0.4,\"#fde0ef\"],[0.5,\"#f7f7f7\"],[0.6,\"#e6f5d0\"],[0.7,\"#b8e186\"],[0.8,\"#7fbc41\"],[0.9,\"#4d9221\"],[1,\"#276419\"]]},\"xaxis\":{\"gridcolor\":\"white\",\"linecolor\":\"white\",\"ticks\":\"\",\"title\":{\"standoff\":15},\"zerolinecolor\":\"white\",\"automargin\":true,\"zerolinewidth\":2},\"yaxis\":{\"gridcolor\":\"white\",\"linecolor\":\"white\",\"ticks\":\"\",\"title\":{\"standoff\":15},\"zerolinecolor\":\"white\",\"automargin\":true,\"zerolinewidth\":2},\"scene\":{\"xaxis\":{\"backgroundcolor\":\"#E5ECF6\",\"gridcolor\":\"white\",\"linecolor\":\"white\",\"showbackground\":true,\"ticks\":\"\",\"zerolinecolor\":\"white\",\"gridwidth\":2},\"yaxis\":{\"backgroundcolor\":\"#E5ECF6\",\"gridcolor\":\"white\",\"linecolor\":\"white\",\"showbackground\":true,\"ticks\":\"\",\"zerolinecolor\":\"white\",\"gridwidth\":2},\"zaxis\":{\"backgroundcolor\":\"#E5ECF6\",\"gridcolor\":\"white\",\"linecolor\":\"white\",\"showbackground\":true,\"ticks\":\"\",\"zerolinecolor\":\"white\",\"gridwidth\":2}},\"shapedefaults\":{\"line\":{\"color\":\"#2a3f5f\"}},\"annotationdefaults\":{\"arrowcolor\":\"#2a3f5f\",\"arrowhead\":0,\"arrowwidth\":1},\"geo\":{\"bgcolor\":\"white\",\"landcolor\":\"#E5ECF6\",\"subunitcolor\":\"white\",\"showland\":true,\"showlakes\":true,\"lakecolor\":\"white\"},\"title\":{\"x\":0.05},\"mapbox\":{\"style\":\"light\"}}},\"xaxis\":{\"anchor\":\"y\",\"domain\":[0.0,1.0],\"title\":{\"text\":\"Sex\"}},\"yaxis\":{\"anchor\":\"x\",\"domain\":[0.0,1.0],\"title\":{\"text\":\"count\"}},\"legend\":{\"title\":{\"text\":\"target\"},\"tracegroupgap\":0},\"margin\":{\"t\":60},\"barmode\":\"relative\"},                        {\"responsive\": true}                    ).then(function(){\n",
       "                            \n",
       "var gd = document.getElementById('99c2e2d4-7791-48a5-bdd1-109654333800');\n",
       "var x = new MutationObserver(function (mutations, observer) {{\n",
       "        var display = window.getComputedStyle(gd).display;\n",
       "        if (!display || display === 'none') {{\n",
       "            console.log([gd, 'removed!']);\n",
       "            Plotly.purge(gd);\n",
       "            observer.disconnect();\n",
       "        }}\n",
       "}});\n",
       "\n",
       "// Listen for the removal of the full notebook cells\n",
       "var notebookContainer = gd.closest('#notebook-container');\n",
       "if (notebookContainer) {{\n",
       "    x.observe(notebookContainer, {childList: true});\n",
       "}}\n",
       "\n",
       "// Listen for the clearing of the current output cell\n",
       "var outputEl = gd.closest('.output');\n",
       "if (outputEl) {{\n",
       "    x.observe(outputEl, {childList: true});\n",
       "}}\n",
       "\n",
       "                        })                };                });            </script>        </div>"
      ]
     },
     "metadata": {},
     "output_type": "display_data"
    },
    {
     "data": {
      "text/html": [
       "<div>                            <div id=\"6ba73806-448f-4a5e-8570-886db7c2cf60\" class=\"plotly-graph-div\" style=\"height:525px; width:100%;\"></div>            <script type=\"text/javascript\">                require([\"plotly\"], function(Plotly) {                    window.PLOTLYENV=window.PLOTLYENV || {};                                    if (document.getElementById(\"6ba73806-448f-4a5e-8570-886db7c2cf60\")) {                    Plotly.newPlot(                        \"6ba73806-448f-4a5e-8570-886db7c2cf60\",                        [{\"alignmentgroup\":\"True\",\"bingroup\":\"x\",\"hovertemplate\":\"target=False\\u003cbr\\u003eEthnicity=%{x}\\u003cbr\\u003ecount=%{y}\\u003cextra\\u003e\\u003c\\u002fextra\\u003e\",\"legendgroup\":\"False\",\"marker\":{\"color\":\"#636efa\",\"pattern\":{\"shape\":\"\"}},\"name\":\"False\",\"offsetgroup\":\"False\",\"orientation\":\"v\",\"showlegend\":true,\"x\":[\"middle eastern\",\"asian\",\"middle eastern\",\"middle eastern\",\"middle eastern\",\"middle eastern\",\"middle eastern\",\"middle eastern\",\"middle eastern\",\"middle eastern\",\"middle eastern\",\"middle eastern\",\"middle eastern\",\"middle eastern\",\"middle eastern\",\"middle eastern\",\"middle eastern\",\"middle eastern\",\"black\",\"black\",\"middle eastern\",\"middle eastern\",\"asian\",\"middle eastern\",\"White European\",\"White European\",\"middle eastern\",\"middle eastern\",\"middle eastern\",\"middle eastern\",\"black\",\"White European\",\"middle eastern\",\"middle eastern\",\"middle eastern\",\"middle eastern\",\"White European\",\"south asian\",\"middle eastern\",\"asian\",\"asian\",\"asian\",\"middle eastern\",\"middle eastern\",\"middle eastern\",\"middle eastern\",\"asian\",\"asian\",\"Others\",\"middle eastern\",\"asian\",\"Others\",\"middle eastern\",\"middle eastern\",\"middle eastern\",\"middle eastern\",\"asian\",\"asian\",\"middle eastern\",\"White European\",\"asian\",\"White European\",\"middle eastern\",\"south asian\",\"south asian\",\"south asian\",\"asian\",\"middle eastern\",\"asian\",\"Latino\",\"White European\",\"asian\",\"asian\",\"White European\",\"asian\",\"Others\",\"asian\",\"White European\",\"Latino\",\"mixed\",\"mixed\",\"middle eastern\",\"White European\",\"White European\",\"asian\",\"asian\",\"asian\",\"asian\",\"south asian\",\"asian\",\"south asian\",\"White European\",\"White European\",\"White European\",\"south asian\",\"middle eastern\",\"middle eastern\",\"middle eastern\",\"south asian\",\"asian\",\"middle eastern\",\"middle eastern\",\"middle eastern\",\"White European\",\"White European\",\"White European\",\"middle eastern\",\"asian\",\"middle eastern\",\"White European\",\"middle eastern\",\"asian\",\"mixed\",\"asian\",\"asian\",\"White European\",\"Hispanic\",\"asian\",\"White European\",\"White European\",\"asian\",\"asian\",\"asian\",\"asian\",\"middle eastern\",\"Hispanic\",\"asian\",\"asian\",\"asian\",\"middle eastern\",\"middle eastern\",\"middle eastern\",\"asian\",\"asian\",\"asian\",\"asian\",\"asian\",\"south asian\",\"White European\",\"White European\",\"middle eastern\",\"asian\",\"White European\",\"White European\",\"middle eastern\",\"White European\",\"asian\",\"White European\",\"asian\",\"asian\",\"asian\",\"south asian\",\"asian\",\"asian\",\"White European\",\"middle eastern\",\"asian\",\"asian\",\"asian\",\"middle eastern\",\"middle eastern\",\"asian\",\"asian\",\"asian\",\"asian\",\"asian\",\"middle eastern\",\"Hispanic\",\"White European\",\"White European\",\"White European\",\"asian\",\"south asian\",\"asian\",\"asian\",\"middle eastern\",\"middle eastern\",\"Hispanic\",\"Hispanic\",\"White European\",\"White European\",\"south asian\",\"White European\",\"black\",\"black\",\"Hispanic\",\"White European\",\"White European\",\"middle eastern\",\"Pacifica\",\"Latino\",\"black\",\"White European\",\"Hispanic\",\"Hispanic\",\"asian\",\"White European\",\"asian\",\"middle eastern\",\"asian\",\"black\",\"middle eastern\",\"asian\",\"asian\",\"White European\",\"asian\",\"asian\",\"Others\",\"asian\",\"White European\",\"White European\",\"White European\",\"south asian\",\"White European\",\"White European\",\"White European\",\"White European\",\"black\",\"asian\",\"middle eastern\",\"south asian\",\"White European\",\"asian\",\"asian\",\"middle eastern\",\"middle eastern\",\"White European\",\"White European\",\"White European\",\"White European\",\"asian\",\"Hispanic\",\"asian\",\"middle eastern\",\"middle eastern\",\"middle eastern\",\"White European\",\"south asian\",\"asian\",\"asian\",\"White European\",\"White European\",\"White European\",\"asian\",\"White European\",\"black\",\"White European\",\"asian\",\"middle eastern\",\"middle eastern\",\"White European\",\"middle eastern\",\"middle eastern\",\"White European\",\"asian\",\"middle eastern\",\"middle eastern\",\"middle eastern\",\"middle eastern\",\"middle eastern\",\"middle eastern\",\"middle eastern\",\"middle eastern\",\"asian\",\"White European\",\"White European\",\"middle eastern\",\"White European\",\"Latino\",\"Others\",\"middle eastern\",\"Hispanic\",\"Others\",\"black\",\"black\",\"black\",\"south asian\",\"black\",\"asian\",\"asian\",\"south asian\",\"asian\",\"Latino\",\"White European\",\"White European\",\"White European\",\"south asian\",\"asian\",\"asian\",\"White European\",\"middle eastern\",\"middle eastern\",\"White European\",\"White European\",\"White European\",\"middle eastern\",\"White European\",\"black\",\"asian\",\"south asian\",\"south asian\",\"middle eastern\",\"White European\",\"White European\",\"White European\",\"middle eastern\",\"middle eastern\",\"asian\",\"Latino\",\"White European\",\"south asian\",\"asian\",\"White European\",\"White European\",\"asian\",\"asian\",\"White European\",\"south asian\",\"south asian\",\"White European\",\"White European\",\"White European\",\"White European\",\"White European\",\"White European\",\"White European\"],\"xaxis\":\"x\",\"yaxis\":\"y\",\"type\":\"histogram\"},{\"alignmentgroup\":\"True\",\"bingroup\":\"x\",\"hovertemplate\":\"target=True\\u003cbr\\u003eEthnicity=%{x}\\u003cbr\\u003ecount=%{y}\\u003cextra\\u003e\\u003c\\u002fextra\\u003e\",\"legendgroup\":\"True\",\"marker\":{\"color\":\"#EF553B\",\"pattern\":{\"shape\":\"\"}},\"name\":\"True\",\"offsetgroup\":\"True\",\"orientation\":\"v\",\"showlegend\":true,\"x\":[\"White European\",\"middle eastern\",\"Hispanic\",\"White European\",\"black\",\"asian\",\"asian\",\"south asian\",\"Hispanic\",\"middle eastern\",\"middle eastern\",\"black\",\"middle eastern\",\"black\",\"middle eastern\",\"middle eastern\",\"Native Indian\",\"middle eastern\",\"White European\",\"middle eastern\",\"Others\",\"middle eastern\",\"middle eastern\",\"middle eastern\",\"White European\",\"south asian\",\"asian\",\"White European\",\"White European\",\"White European\",\"middle eastern\",\"asian\",\"Others\",\"asian\",\"White European\",\"asian\",\"middle eastern\",\"asian\",\"White European\",\"asian\",\"middle eastern\",\"White European\",\"asian\",\"asian\",\"asian\",\"asian\",\"asian\",\"asian\",\"middle eastern\",\"middle eastern\",\"middle eastern\",\"middle eastern\",\"middle eastern\",\"middle eastern\",\"middle eastern\",\"south asian\",\"White European\",\"asian\",\"asian\",\"White European\",\"Hispanic\",\"asian\",\"White European\",\"White European\",\"asian\",\"White European\",\"middle eastern\",\"asian\",\"asian\",\"south asian\",\"middle eastern\",\"asian\",\"south asian\",\"asian\",\"south asian\",\"middle eastern\",\"White European\",\"asian\",\"asian\",\"asian\",\"White European\",\"asian\",\"middle eastern\",\"White European\",\"middle eastern\",\"asian\",\"asian\",\"White European\",\"White European\",\"White European\",\"middle eastern\",\"asian\",\"White European\",\"asian\",\"White European\",\"asian\",\"White European\",\"south asian\",\"asian\",\"asian\",\"middle eastern\",\"asian\",\"middle eastern\",\"asian\",\"black\",\"black\",\"White European\",\"Latino\",\"middle eastern\",\"White European\",\"White European\",\"asian\",\"middle eastern\",\"White European\",\"Hispanic\",\"White European\",\"black\",\"black\",\"White European\",\"White European\",\"middle eastern\",\"black\",\"asian\",\"black\",\"middle eastern\",\"asian\",\"asian\",\"asian\",\"asian\",\"middle eastern\",\"asian\",\"asian\",\"asian\",\"White European\",\"middle eastern\",\"middle eastern\",\"middle eastern\",\"White European\",\"south asian\",\"asian\",\"middle eastern\",\"White European\",\"black\",\"asian\",\"White European\",\"asian\",\"White European\",\"White European\",\"White European\",\"White European\",\"mixed\",\"White European\",\"middle eastern\",\"middle eastern\",\"asian\",\"asian\",\"Latino\",\"White European\",\"black\",\"asian\",\"asian\",\"middle eastern\",\"middle eastern\",\"White European\",\"White European\",\"White European\",\"White European\",\"White European\",\"White European\",\"Hispanic\",\"south asian\",\"White European\",\"White European\",\"middle eastern\",\"middle eastern\",\"asian\",\"Hispanic\",\"middle eastern\",\"Hispanic\",\"Hispanic\",\"White European\",\"Others\",\"asian\",\"asian\",\"White European\",\"White European\",\"asian\",\"White European\",\"south asian\",\"White European\",\"asian\",\"asian\",\"asian\",\"asian\",\"White European\",\"middle eastern\",\"White European\",\"asian\",\"asian\",\"White European\",\"White European\",\"White European\",\"black\",\"asian\",\"asian\",\"White European\",\"asian\",\"White European\",\"asian\",\"White European\",\"Latino\",\"White European\",\"White European\",\"White European\",\"asian\",\"asian\",\"asian\",\"black\",\"south asian\",\"asian\",\"asian\",\"black\",\"asian\",\"asian\",\"White European\",\"black\",\"asian\",\"Hispanic\",\"asian\",\"Latino\",\"asian\",\"asian\",\"asian\",\"south asian\",\"south asian\",\"White European\",\"middle eastern\",\"asian\",\"asian\",\"middle eastern\",\"asian\",\"asian\",\"Hispanic\",\"black\",\"middle eastern\",\"White European\",\"asian\",\"asian\",\"asian\",\"asian\",\"Latino\",\"White European\",\"black\",\"White European\",\"White European\",\"south asian\",\"White European\",\"south asian\",\"south asian\",\"asian\",\"asian\",\"asian\",\"White European\",\"south asian\",\"White European\",\"Others\",\"White European\",\"asian\",\"asian\",\"asian\",\"Others\",\"asian\",\"asian\",\"White European\",\"White European\",\"asian\",\"asian\",\"south asian\",\"White European\",\"middle eastern\",\"White European\",\"asian\",\"south asian\",\"asian\",\"White European\",\"White European\",\"White European\",\"Others\",\"asian\",\"middle eastern\",\"middle eastern\",\"Pacifica\",\"White European\",\"asian\",\"White European\",\"asian\",\"asian\",\"asian\",\"middle eastern\",\"asian\",\"middle eastern\",\"asian\",\"Hispanic\",\"Hispanic\",\"White European\",\"White European\",\"White European\",\"White European\",\"White European\",\"asian\",\"White European\",\"White European\",\"White European\",\"south asian\",\"White European\",\"asian\",\"asian\",\"middle eastern\",\"Hispanic\",\"Pacifica\",\"Others\",\"Hispanic\",\"black\",\"black\",\"White European\",\"asian\",\"Native Indian\",\"black\",\"White European\",\"White European\",\"White European\",\"White European\",\"White European\",\"White European\",\"south asian\",\"asian\",\"asian\",\"asian\",\"asian\",\"White European\",\"asian\",\"black\",\"White European\",\"Latino\",\"asian\",\"asian\",\"middle eastern\",\"black\",\"White European\",\"White European\",\"middle eastern\",\"asian\",\"asian\",\"asian\",\"asian\",\"middle eastern\",\"Hispanic\",\"Hispanic\",\"Others\",\"Others\",\"Hispanic\",\"middle eastern\",\"middle eastern\",\"black\",\"White European\",\"asian\",\"asian\",\"White European\",\"middle eastern\",\"White European\",\"asian\",\"White European\",\"White European\",\"White European\",\"White European\",\"White European\",\"White European\",\"White European\",\"asian\",\"asian\",\"White European\",\"black\",\"White European\",\"White European\",\"asian\",\"White European\",\"White European\",\"asian\",\"White European\",\"White European\",\"White European\",\"White European\",\"White European\",\"Others\",\"White European\",\"asian\",\"asian\",\"White European\",\"Hispanic\",\"Others\",\"White European\",\"asian\",\"asian\",\"black\",\"White European\",\"Hispanic\",\"asian\",\"White European\",\"White European\",\"asian\",\"asian\",\"black\",\"black\",\"black\",\"White European\",\"mixed\",\"Pacifica\",\"south asian\",\"asian\",\"asian\",\"asian\",\"asian\",\"asian\",\"asian\",\"asian\",\"White European\",\"Latino\",\"Latino\",\"White European\",\"White European\",\"Hispanic\",\"asian\",\"asian\",\"asian\",\"Others\",\"asian\",\"White European\",\"White European\",\"White European\",\"middle eastern\",\"asian\",\"asian\",\"asian\",\"White European\",\"south asian\",\"asian\",\"asian\",\"asian\",\"White European\",\"White European\",\"asian\",\"middle eastern\",\"White European\",\"White European\",\"asian\",\"asian\",\"White European\",\"asian\",\"Others\",\"Others\",\"White European\",\"White European\",\"middle eastern\",\"south asian\",\"Others\",\"asian\",\"asian\",\"White European\",\"White European\",\"asian\",\"White European\",\"White European\",\"White European\",\"White European\",\"White European\",\"black\",\"White European\",\"White European\",\"asian\",\"White European\",\"Others\",\"White European\",\"White European\",\"White European\",\"White European\",\"White European\",\"White European\",\"middle eastern\",\"White European\",\"White European\",\"White European\",\"White European\",\"Others\",\"asian\",\"White European\",\"White European\",\"Pacifica\",\"White European\",\"south asian\",\"White European\",\"asian\",\"middle eastern\",\"White European\",\"middle eastern\",\"asian\",\"asian\",\"middle eastern\",\"Pacifica\",\"asian\",\"White European\",\"White European\",\"White European\",\"middle eastern\",\"Latino\",\"asian\",\"Latino\",\"asian\",\"south asian\",\"White European\",\"White European\",\"White European\",\"White European\",\"south asian\",\"White European\",\"middle eastern\",\"asian\",\"White European\",\"asian\",\"White European\",\"White European\",\"White European\",\"Others\",\"asian\",\"Others\",\"White European\",\"Hispanic\",\"White European\",\"White European\",\"asian\",\"asian\",\"middle eastern\",\"asian\",\"White European\",\"White European\",\"asian\",\"Others\",\"White European\",\"White European\",\"asian\",\"mixed\",\"White European\",\"middle eastern\",\"middle eastern\",\"Others\",\"south asian\",\"south asian\",\"asian\",\"asian\",\"black\",\"White European\",\"White European\",\"White European\",\"middle eastern\",\"White European\",\"White European\",\"middle eastern\",\"asian\",\"White European\",\"middle eastern\",\"asian\",\"asian\",\"White European\",\"middle eastern\",\"White European\",\"asian\",\"asian\",\"Hispanic\",\"White European\",\"White European\",\"White European\",\"middle eastern\",\"Latino\",\"White European\",\"Hispanic\",\"middle eastern\",\"Hispanic\",\"asian\",\"asian\",\"black\",\"asian\",\"asian\",\"Others\",\"White European\",\"White European\",\"White European\",\"middle eastern\",\"Hispanic\",\"Others\",\"White European\",\"White European\",\"mixed\",\"mixed\",\"White European\",\"White European\",\"south asian\",\"Others\",\"Others\",\"White European\",\"White European\",\"White European\",\"asian\",\"White European\",\"south asian\",\"Others\",\"black\",\"White European\",\"asian\",\"middle eastern\",\"Latino\",\"middle eastern\",\"White European\",\"White European\",\"Latino\",\"Latino\",\"south asian\",\"Pacifica\",\"White European\",\"Hispanic\",\"black\",\"asian\",\"White European\",\"White European\",\"Latino\",\"White European\",\"White European\",\"asian\",\"Hispanic\",\"White European\",\"middle eastern\",\"asian\",\"White European\",\"Others\",\"asian\",\"White European\",\"White European\",\"asian\",\"asian\",\"middle eastern\",\"White European\",\"asian\",\"White European\",\"White European\",\"Native Indian\",\"black\",\"black\",\"south asian\",\"asian\",\"White European\",\"Hispanic\",\"south asian\",\"asian\",\"White European\",\"White European\",\"middle eastern\",\"White European\",\"asian\",\"White European\",\"asian\",\"middle eastern\",\"middle eastern\",\"White European\",\"White European\",\"black\",\"Latino\",\"White European\",\"asian\",\"middle eastern\",\"south asian\",\"asian\",\"White European\",\"White European\",\"White European\",\"middle eastern\",\"south asian\",\"middle eastern\",\"middle eastern\",\"White European\",\"asian\",\"Latino\",\"White European\",\"middle eastern\",\"Pacifica\",\"asian\",\"black\",\"White European\",\"black\",\"asian\",\"asian\",\"south asian\",\"asian\",\"Latino\",\"White European\",\"middle eastern\",\"White European\",\"Latino\",\"Hispanic\",\"asian\",\"asian\",\"White European\",\"White European\",\"White European\",\"Latino\",\"White European\",\"Others\",\"White European\",\"Others\",\"asian\",\"asian\",\"asian\",\"Hispanic\",\"asian\",\"asian\",\"middle eastern\",\"middle eastern\",\"White European\",\"black\",\"middle eastern\",\"asian\"],\"xaxis\":\"x\",\"yaxis\":\"y\",\"type\":\"histogram\"}],                        {\"template\":{\"data\":{\"histogram2dcontour\":[{\"type\":\"histogram2dcontour\",\"colorbar\":{\"outlinewidth\":0,\"ticks\":\"\"},\"colorscale\":[[0.0,\"#0d0887\"],[0.1111111111111111,\"#46039f\"],[0.2222222222222222,\"#7201a8\"],[0.3333333333333333,\"#9c179e\"],[0.4444444444444444,\"#bd3786\"],[0.5555555555555556,\"#d8576b\"],[0.6666666666666666,\"#ed7953\"],[0.7777777777777778,\"#fb9f3a\"],[0.8888888888888888,\"#fdca26\"],[1.0,\"#f0f921\"]]}],\"choropleth\":[{\"type\":\"choropleth\",\"colorbar\":{\"outlinewidth\":0,\"ticks\":\"\"}}],\"histogram2d\":[{\"type\":\"histogram2d\",\"colorbar\":{\"outlinewidth\":0,\"ticks\":\"\"},\"colorscale\":[[0.0,\"#0d0887\"],[0.1111111111111111,\"#46039f\"],[0.2222222222222222,\"#7201a8\"],[0.3333333333333333,\"#9c179e\"],[0.4444444444444444,\"#bd3786\"],[0.5555555555555556,\"#d8576b\"],[0.6666666666666666,\"#ed7953\"],[0.7777777777777778,\"#fb9f3a\"],[0.8888888888888888,\"#fdca26\"],[1.0,\"#f0f921\"]]}],\"heatmap\":[{\"type\":\"heatmap\",\"colorbar\":{\"outlinewidth\":0,\"ticks\":\"\"},\"colorscale\":[[0.0,\"#0d0887\"],[0.1111111111111111,\"#46039f\"],[0.2222222222222222,\"#7201a8\"],[0.3333333333333333,\"#9c179e\"],[0.4444444444444444,\"#bd3786\"],[0.5555555555555556,\"#d8576b\"],[0.6666666666666666,\"#ed7953\"],[0.7777777777777778,\"#fb9f3a\"],[0.8888888888888888,\"#fdca26\"],[1.0,\"#f0f921\"]]}],\"heatmapgl\":[{\"type\":\"heatmapgl\",\"colorbar\":{\"outlinewidth\":0,\"ticks\":\"\"},\"colorscale\":[[0.0,\"#0d0887\"],[0.1111111111111111,\"#46039f\"],[0.2222222222222222,\"#7201a8\"],[0.3333333333333333,\"#9c179e\"],[0.4444444444444444,\"#bd3786\"],[0.5555555555555556,\"#d8576b\"],[0.6666666666666666,\"#ed7953\"],[0.7777777777777778,\"#fb9f3a\"],[0.8888888888888888,\"#fdca26\"],[1.0,\"#f0f921\"]]}],\"contourcarpet\":[{\"type\":\"contourcarpet\",\"colorbar\":{\"outlinewidth\":0,\"ticks\":\"\"}}],\"contour\":[{\"type\":\"contour\",\"colorbar\":{\"outlinewidth\":0,\"ticks\":\"\"},\"colorscale\":[[0.0,\"#0d0887\"],[0.1111111111111111,\"#46039f\"],[0.2222222222222222,\"#7201a8\"],[0.3333333333333333,\"#9c179e\"],[0.4444444444444444,\"#bd3786\"],[0.5555555555555556,\"#d8576b\"],[0.6666666666666666,\"#ed7953\"],[0.7777777777777778,\"#fb9f3a\"],[0.8888888888888888,\"#fdca26\"],[1.0,\"#f0f921\"]]}],\"surface\":[{\"type\":\"surface\",\"colorbar\":{\"outlinewidth\":0,\"ticks\":\"\"},\"colorscale\":[[0.0,\"#0d0887\"],[0.1111111111111111,\"#46039f\"],[0.2222222222222222,\"#7201a8\"],[0.3333333333333333,\"#9c179e\"],[0.4444444444444444,\"#bd3786\"],[0.5555555555555556,\"#d8576b\"],[0.6666666666666666,\"#ed7953\"],[0.7777777777777778,\"#fb9f3a\"],[0.8888888888888888,\"#fdca26\"],[1.0,\"#f0f921\"]]}],\"mesh3d\":[{\"type\":\"mesh3d\",\"colorbar\":{\"outlinewidth\":0,\"ticks\":\"\"}}],\"scatter\":[{\"fillpattern\":{\"fillmode\":\"overlay\",\"size\":10,\"solidity\":0.2},\"type\":\"scatter\"}],\"parcoords\":[{\"type\":\"parcoords\",\"line\":{\"colorbar\":{\"outlinewidth\":0,\"ticks\":\"\"}}}],\"scatterpolargl\":[{\"type\":\"scatterpolargl\",\"marker\":{\"colorbar\":{\"outlinewidth\":0,\"ticks\":\"\"}}}],\"bar\":[{\"error_x\":{\"color\":\"#2a3f5f\"},\"error_y\":{\"color\":\"#2a3f5f\"},\"marker\":{\"line\":{\"color\":\"#E5ECF6\",\"width\":0.5},\"pattern\":{\"fillmode\":\"overlay\",\"size\":10,\"solidity\":0.2}},\"type\":\"bar\"}],\"scattergeo\":[{\"type\":\"scattergeo\",\"marker\":{\"colorbar\":{\"outlinewidth\":0,\"ticks\":\"\"}}}],\"scatterpolar\":[{\"type\":\"scatterpolar\",\"marker\":{\"colorbar\":{\"outlinewidth\":0,\"ticks\":\"\"}}}],\"histogram\":[{\"marker\":{\"pattern\":{\"fillmode\":\"overlay\",\"size\":10,\"solidity\":0.2}},\"type\":\"histogram\"}],\"scattergl\":[{\"type\":\"scattergl\",\"marker\":{\"colorbar\":{\"outlinewidth\":0,\"ticks\":\"\"}}}],\"scatter3d\":[{\"type\":\"scatter3d\",\"line\":{\"colorbar\":{\"outlinewidth\":0,\"ticks\":\"\"}},\"marker\":{\"colorbar\":{\"outlinewidth\":0,\"ticks\":\"\"}}}],\"scattermapbox\":[{\"type\":\"scattermapbox\",\"marker\":{\"colorbar\":{\"outlinewidth\":0,\"ticks\":\"\"}}}],\"scatterternary\":[{\"type\":\"scatterternary\",\"marker\":{\"colorbar\":{\"outlinewidth\":0,\"ticks\":\"\"}}}],\"scattercarpet\":[{\"type\":\"scattercarpet\",\"marker\":{\"colorbar\":{\"outlinewidth\":0,\"ticks\":\"\"}}}],\"carpet\":[{\"aaxis\":{\"endlinecolor\":\"#2a3f5f\",\"gridcolor\":\"white\",\"linecolor\":\"white\",\"minorgridcolor\":\"white\",\"startlinecolor\":\"#2a3f5f\"},\"baxis\":{\"endlinecolor\":\"#2a3f5f\",\"gridcolor\":\"white\",\"linecolor\":\"white\",\"minorgridcolor\":\"white\",\"startlinecolor\":\"#2a3f5f\"},\"type\":\"carpet\"}],\"table\":[{\"cells\":{\"fill\":{\"color\":\"#EBF0F8\"},\"line\":{\"color\":\"white\"}},\"header\":{\"fill\":{\"color\":\"#C8D4E3\"},\"line\":{\"color\":\"white\"}},\"type\":\"table\"}],\"barpolar\":[{\"marker\":{\"line\":{\"color\":\"#E5ECF6\",\"width\":0.5},\"pattern\":{\"fillmode\":\"overlay\",\"size\":10,\"solidity\":0.2}},\"type\":\"barpolar\"}],\"pie\":[{\"automargin\":true,\"type\":\"pie\"}]},\"layout\":{\"autotypenumbers\":\"strict\",\"colorway\":[\"#636efa\",\"#EF553B\",\"#00cc96\",\"#ab63fa\",\"#FFA15A\",\"#19d3f3\",\"#FF6692\",\"#B6E880\",\"#FF97FF\",\"#FECB52\"],\"font\":{\"color\":\"#2a3f5f\"},\"hovermode\":\"closest\",\"hoverlabel\":{\"align\":\"left\"},\"paper_bgcolor\":\"white\",\"plot_bgcolor\":\"#E5ECF6\",\"polar\":{\"bgcolor\":\"#E5ECF6\",\"angularaxis\":{\"gridcolor\":\"white\",\"linecolor\":\"white\",\"ticks\":\"\"},\"radialaxis\":{\"gridcolor\":\"white\",\"linecolor\":\"white\",\"ticks\":\"\"}},\"ternary\":{\"bgcolor\":\"#E5ECF6\",\"aaxis\":{\"gridcolor\":\"white\",\"linecolor\":\"white\",\"ticks\":\"\"},\"baxis\":{\"gridcolor\":\"white\",\"linecolor\":\"white\",\"ticks\":\"\"},\"caxis\":{\"gridcolor\":\"white\",\"linecolor\":\"white\",\"ticks\":\"\"}},\"coloraxis\":{\"colorbar\":{\"outlinewidth\":0,\"ticks\":\"\"}},\"colorscale\":{\"sequential\":[[0.0,\"#0d0887\"],[0.1111111111111111,\"#46039f\"],[0.2222222222222222,\"#7201a8\"],[0.3333333333333333,\"#9c179e\"],[0.4444444444444444,\"#bd3786\"],[0.5555555555555556,\"#d8576b\"],[0.6666666666666666,\"#ed7953\"],[0.7777777777777778,\"#fb9f3a\"],[0.8888888888888888,\"#fdca26\"],[1.0,\"#f0f921\"]],\"sequentialminus\":[[0.0,\"#0d0887\"],[0.1111111111111111,\"#46039f\"],[0.2222222222222222,\"#7201a8\"],[0.3333333333333333,\"#9c179e\"],[0.4444444444444444,\"#bd3786\"],[0.5555555555555556,\"#d8576b\"],[0.6666666666666666,\"#ed7953\"],[0.7777777777777778,\"#fb9f3a\"],[0.8888888888888888,\"#fdca26\"],[1.0,\"#f0f921\"]],\"diverging\":[[0,\"#8e0152\"],[0.1,\"#c51b7d\"],[0.2,\"#de77ae\"],[0.3,\"#f1b6da\"],[0.4,\"#fde0ef\"],[0.5,\"#f7f7f7\"],[0.6,\"#e6f5d0\"],[0.7,\"#b8e186\"],[0.8,\"#7fbc41\"],[0.9,\"#4d9221\"],[1,\"#276419\"]]},\"xaxis\":{\"gridcolor\":\"white\",\"linecolor\":\"white\",\"ticks\":\"\",\"title\":{\"standoff\":15},\"zerolinecolor\":\"white\",\"automargin\":true,\"zerolinewidth\":2},\"yaxis\":{\"gridcolor\":\"white\",\"linecolor\":\"white\",\"ticks\":\"\",\"title\":{\"standoff\":15},\"zerolinecolor\":\"white\",\"automargin\":true,\"zerolinewidth\":2},\"scene\":{\"xaxis\":{\"backgroundcolor\":\"#E5ECF6\",\"gridcolor\":\"white\",\"linecolor\":\"white\",\"showbackground\":true,\"ticks\":\"\",\"zerolinecolor\":\"white\",\"gridwidth\":2},\"yaxis\":{\"backgroundcolor\":\"#E5ECF6\",\"gridcolor\":\"white\",\"linecolor\":\"white\",\"showbackground\":true,\"ticks\":\"\",\"zerolinecolor\":\"white\",\"gridwidth\":2},\"zaxis\":{\"backgroundcolor\":\"#E5ECF6\",\"gridcolor\":\"white\",\"linecolor\":\"white\",\"showbackground\":true,\"ticks\":\"\",\"zerolinecolor\":\"white\",\"gridwidth\":2}},\"shapedefaults\":{\"line\":{\"color\":\"#2a3f5f\"}},\"annotationdefaults\":{\"arrowcolor\":\"#2a3f5f\",\"arrowhead\":0,\"arrowwidth\":1},\"geo\":{\"bgcolor\":\"white\",\"landcolor\":\"#E5ECF6\",\"subunitcolor\":\"white\",\"showland\":true,\"showlakes\":true,\"lakecolor\":\"white\"},\"title\":{\"x\":0.05},\"mapbox\":{\"style\":\"light\"}}},\"xaxis\":{\"anchor\":\"y\",\"domain\":[0.0,1.0],\"title\":{\"text\":\"Ethnicity\"}},\"yaxis\":{\"anchor\":\"x\",\"domain\":[0.0,1.0],\"title\":{\"text\":\"count\"}},\"legend\":{\"title\":{\"text\":\"target\"},\"tracegroupgap\":0},\"margin\":{\"t\":60},\"barmode\":\"relative\"},                        {\"responsive\": true}                    ).then(function(){\n",
       "                            \n",
       "var gd = document.getElementById('6ba73806-448f-4a5e-8570-886db7c2cf60');\n",
       "var x = new MutationObserver(function (mutations, observer) {{\n",
       "        var display = window.getComputedStyle(gd).display;\n",
       "        if (!display || display === 'none') {{\n",
       "            console.log([gd, 'removed!']);\n",
       "            Plotly.purge(gd);\n",
       "            observer.disconnect();\n",
       "        }}\n",
       "}});\n",
       "\n",
       "// Listen for the removal of the full notebook cells\n",
       "var notebookContainer = gd.closest('#notebook-container');\n",
       "if (notebookContainer) {{\n",
       "    x.observe(notebookContainer, {childList: true});\n",
       "}}\n",
       "\n",
       "// Listen for the clearing of the current output cell\n",
       "var outputEl = gd.closest('.output');\n",
       "if (outputEl) {{\n",
       "    x.observe(outputEl, {childList: true});\n",
       "}}\n",
       "\n",
       "                        })                };                });            </script>        </div>"
      ]
     },
     "metadata": {},
     "output_type": "display_data"
    },
    {
     "data": {
      "text/html": [
       "<div>                            <div id=\"cc0e05e0-2388-45d8-8835-6db9d3c5192e\" class=\"plotly-graph-div\" style=\"height:525px; width:100%;\"></div>            <script type=\"text/javascript\">                require([\"plotly\"], function(Plotly) {                    window.PLOTLYENV=window.PLOTLYENV || {};                                    if (document.getElementById(\"cc0e05e0-2388-45d8-8835-6db9d3c5192e\")) {                    Plotly.newPlot(                        \"cc0e05e0-2388-45d8-8835-6db9d3c5192e\",                        [{\"alignmentgroup\":\"True\",\"bingroup\":\"x\",\"hovertemplate\":\"target=False\\u003cbr\\u003eJaundice=%{x}\\u003cbr\\u003ecount=%{y}\\u003cextra\\u003e\\u003c\\u002fextra\\u003e\",\"legendgroup\":\"False\",\"marker\":{\"color\":\"#636efa\",\"pattern\":{\"shape\":\"\"}},\"name\":\"False\",\"offsetgroup\":\"False\",\"orientation\":\"v\",\"showlegend\":true,\"x\":[\"yes\",\"no\",\"yes\",\"no\",\"no\",\"no\",\"no\",\"yes\",\"no\",\"no\",\"no\",\"no\",\"no\",\"no\",\"no\",\"no\",\"no\",\"no\",\"no\",\"no\",\"no\",\"no\",\"no\",\"yes\",\"no\",\"no\",\"no\",\"no\",\"no\",\"no\",\"no\",\"no\",\"no\",\"no\",\"no\",\"yes\",\"no\",\"no\",\"no\",\"no\",\"no\",\"no\",\"no\",\"no\",\"yes\",\"no\",\"no\",\"no\",\"yes\",\"no\",\"no\",\"no\",\"no\",\"yes\",\"no\",\"no\",\"no\",\"no\",\"no\",\"yes\",\"no\",\"no\",\"no\",\"yes\",\"yes\",\"yes\",\"no\",\"yes\",\"no\",\"no\",\"no\",\"no\",\"no\",\"no\",\"no\",\"no\",\"no\",\"yes\",\"no\",\"no\",\"no\",\"no\",\"yes\",\"yes\",\"no\",\"no\",\"no\",\"no\",\"yes\",\"no\",\"yes\",\"no\",\"yes\",\"yes\",\"no\",\"no\",\"no\",\"yes\",\"no\",\"no\",\"no\",\"no\",\"no\",\"no\",\"yes\",\"yes\",\"no\",\"no\",\"no\",\"yes\",\"no\",\"yes\",\"no\",\"no\",\"no\",\"yes\",\"no\",\"no\",\"yes\",\"no\",\"no\",\"no\",\"no\",\"no\",\"no\",\"no\",\"no\",\"no\",\"no\",\"yes\",\"yes\",\"yes\",\"no\",\"no\",\"no\",\"no\",\"no\",\"no\",\"no\",\"no\",\"no\",\"yes\",\"no\",\"no\",\"no\",\"no\",\"no\",\"no\",\"no\",\"no\",\"no\",\"yes\",\"yes\",\"no\",\"no\",\"no\",\"no\",\"no\",\"no\",\"yes\",\"no\",\"no\",\"no\",\"no\",\"no\",\"no\",\"yes\",\"no\",\"yes\",\"no\",\"no\",\"no\",\"no\",\"no\",\"no\",\"no\",\"yes\",\"no\",\"no\",\"no\",\"no\",\"no\",\"no\",\"no\",\"no\",\"no\",\"no\",\"yes\",\"yes\",\"no\",\"no\",\"no\",\"yes\",\"no\",\"no\",\"no\",\"yes\",\"no\",\"no\",\"no\",\"yes\",\"no\",\"no\",\"no\",\"yes\",\"no\",\"no\",\"yes\",\"yes\",\"no\",\"no\",\"no\",\"no\",\"no\",\"no\",\"no\",\"yes\",\"yes\",\"no\",\"no\",\"no\",\"yes\",\"no\",\"no\",\"no\",\"no\",\"yes\",\"yes\",\"no\",\"no\",\"no\",\"no\",\"no\",\"no\",\"no\",\"yes\",\"no\",\"no\",\"no\",\"no\",\"no\",\"yes\",\"yes\",\"no\",\"no\",\"no\",\"no\",\"no\",\"no\",\"no\",\"no\",\"no\",\"no\",\"no\",\"no\",\"no\",\"yes\",\"yes\",\"yes\",\"no\",\"no\",\"yes\",\"yes\",\"yes\",\"yes\",\"yes\",\"yes\",\"no\",\"no\",\"no\",\"no\",\"no\",\"no\",\"yes\",\"no\",\"no\",\"no\",\"no\",\"no\",\"yes\",\"no\",\"no\",\"no\",\"no\",\"no\",\"no\",\"no\",\"no\",\"no\",\"yes\",\"no\",\"no\",\"no\",\"no\",\"no\",\"no\",\"no\",\"no\",\"no\",\"yes\",\"no\",\"no\",\"no\",\"no\",\"no\",\"no\",\"yes\",\"no\",\"no\",\"no\",\"no\",\"no\",\"yes\",\"no\",\"yes\",\"yes\",\"no\",\"yes\",\"yes\",\"no\",\"no\",\"no\",\"yes\",\"no\",\"no\",\"no\"],\"xaxis\":\"x\",\"yaxis\":\"y\",\"type\":\"histogram\"},{\"alignmentgroup\":\"True\",\"bingroup\":\"x\",\"hovertemplate\":\"target=True\\u003cbr\\u003eJaundice=%{x}\\u003cbr\\u003ecount=%{y}\\u003cextra\\u003e\\u003c\\u002fextra\\u003e\",\"legendgroup\":\"True\",\"marker\":{\"color\":\"#EF553B\",\"pattern\":{\"shape\":\"\"}},\"name\":\"True\",\"offsetgroup\":\"True\",\"orientation\":\"v\",\"showlegend\":true,\"x\":[\"yes\",\"yes\",\"no\",\"no\",\"no\",\"yes\",\"yes\",\"no\",\"yes\",\"yes\",\"yes\",\"no\",\"yes\",\"no\",\"no\",\"no\",\"yes\",\"yes\",\"no\",\"no\",\"yes\",\"no\",\"no\",\"no\",\"no\",\"no\",\"no\",\"yes\",\"no\",\"no\",\"yes\",\"yes\",\"no\",\"no\",\"no\",\"no\",\"no\",\"no\",\"yes\",\"no\",\"no\",\"yes\",\"no\",\"no\",\"no\",\"no\",\"no\",\"no\",\"no\",\"yes\",\"no\",\"yes\",\"no\",\"no\",\"no\",\"no\",\"yes\",\"no\",\"no\",\"no\",\"yes\",\"no\",\"no\",\"no\",\"no\",\"yes\",\"no\",\"no\",\"no\",\"yes\",\"yes\",\"yes\",\"no\",\"yes\",\"no\",\"no\",\"no\",\"no\",\"no\",\"no\",\"no\",\"no\",\"no\",\"no\",\"no\",\"no\",\"no\",\"no\",\"yes\",\"yes\",\"no\",\"no\",\"no\",\"no\",\"yes\",\"yes\",\"no\",\"no\",\"yes\",\"yes\",\"no\",\"no\",\"no\",\"no\",\"no\",\"no\",\"yes\",\"yes\",\"yes\",\"no\",\"no\",\"no\",\"no\",\"yes\",\"no\",\"no\",\"no\",\"no\",\"no\",\"no\",\"yes\",\"no\",\"no\",\"yes\",\"no\",\"no\",\"no\",\"no\",\"no\",\"no\",\"yes\",\"yes\",\"no\",\"yes\",\"no\",\"no\",\"no\",\"yes\",\"yes\",\"no\",\"no\",\"yes\",\"no\",\"no\",\"no\",\"no\",\"no\",\"no\",\"no\",\"yes\",\"no\",\"yes\",\"no\",\"no\",\"no\",\"no\",\"no\",\"no\",\"no\",\"yes\",\"no\",\"no\",\"no\",\"yes\",\"no\",\"no\",\"yes\",\"yes\",\"no\",\"yes\",\"no\",\"yes\",\"yes\",\"no\",\"no\",\"yes\",\"yes\",\"yes\",\"yes\",\"no\",\"no\",\"no\",\"no\",\"no\",\"no\",\"yes\",\"yes\",\"no\",\"yes\",\"no\",\"yes\",\"no\",\"no\",\"no\",\"yes\",\"yes\",\"yes\",\"no\",\"no\",\"yes\",\"yes\",\"yes\",\"yes\",\"no\",\"no\",\"yes\",\"no\",\"yes\",\"no\",\"no\",\"no\",\"yes\",\"no\",\"no\",\"no\",\"no\",\"no\",\"yes\",\"no\",\"yes\",\"no\",\"yes\",\"no\",\"no\",\"no\",\"yes\",\"no\",\"no\",\"no\",\"yes\",\"no\",\"no\",\"yes\",\"no\",\"no\",\"no\",\"yes\",\"no\",\"no\",\"no\",\"no\",\"no\",\"no\",\"yes\",\"no\",\"yes\",\"no\",\"no\",\"no\",\"no\",\"no\",\"no\",\"no\",\"no\",\"yes\",\"no\",\"no\",\"no\",\"no\",\"no\",\"no\",\"no\",\"yes\",\"no\",\"no\",\"no\",\"no\",\"no\",\"no\",\"no\",\"yes\",\"no\",\"no\",\"no\",\"no\",\"no\",\"no\",\"yes\",\"no\",\"no\",\"no\",\"no\",\"yes\",\"no\",\"no\",\"no\",\"no\",\"yes\",\"no\",\"no\",\"no\",\"no\",\"yes\",\"no\",\"no\",\"yes\",\"yes\",\"no\",\"no\",\"no\",\"yes\",\"no\",\"no\",\"no\",\"yes\",\"yes\",\"no\",\"no\",\"yes\",\"no\",\"no\",\"yes\",\"yes\",\"yes\",\"no\",\"yes\",\"no\",\"no\",\"no\",\"no\",\"no\",\"no\",\"no\",\"no\",\"yes\",\"yes\",\"yes\",\"no\",\"yes\",\"yes\",\"no\",\"yes\",\"no\",\"no\",\"no\",\"no\",\"no\",\"no\",\"no\",\"no\",\"no\",\"no\",\"no\",\"no\",\"no\",\"yes\",\"no\",\"yes\",\"yes\",\"no\",\"no\",\"no\",\"no\",\"no\",\"no\",\"no\",\"yes\",\"yes\",\"no\",\"no\",\"no\",\"yes\",\"no\",\"no\",\"no\",\"no\",\"yes\",\"yes\",\"yes\",\"no\",\"no\",\"yes\",\"yes\",\"yes\",\"no\",\"no\",\"yes\",\"no\",\"no\",\"no\",\"no\",\"yes\",\"yes\",\"yes\",\"no\",\"yes\",\"yes\",\"yes\",\"no\",\"no\",\"no\",\"no\",\"no\",\"yes\",\"no\",\"yes\",\"yes\",\"no\",\"no\",\"no\",\"yes\",\"no\",\"no\",\"no\",\"no\",\"no\",\"no\",\"no\",\"yes\",\"no\",\"no\",\"yes\",\"yes\",\"no\",\"no\",\"no\",\"yes\",\"no\",\"yes\",\"no\",\"no\",\"no\",\"no\",\"no\",\"no\",\"yes\",\"no\",\"no\",\"no\",\"no\",\"yes\",\"no\",\"no\",\"no\",\"yes\",\"yes\",\"yes\",\"no\",\"yes\",\"no\",\"no\",\"no\",\"no\",\"yes\",\"no\",\"no\",\"no\",\"no\",\"no\",\"no\",\"no\",\"yes\",\"no\",\"yes\",\"no\",\"no\",\"no\",\"yes\",\"no\",\"no\",\"no\",\"no\",\"no\",\"no\",\"no\",\"no\",\"no\",\"no\",\"no\",\"yes\",\"yes\",\"yes\",\"no\",\"no\",\"yes\",\"no\",\"no\",\"no\",\"yes\",\"no\",\"yes\",\"no\",\"yes\",\"yes\",\"yes\",\"yes\",\"yes\",\"no\",\"yes\",\"yes\",\"no\",\"yes\",\"no\",\"yes\",\"no\",\"no\",\"no\",\"yes\",\"no\",\"no\",\"no\",\"no\",\"no\",\"no\",\"no\",\"no\",\"yes\",\"no\",\"no\",\"no\",\"no\",\"no\",\"no\",\"yes\",\"no\",\"no\",\"yes\",\"no\",\"no\",\"no\",\"no\",\"yes\",\"no\",\"no\",\"no\",\"no\",\"yes\",\"no\",\"no\",\"yes\",\"yes\",\"no\",\"no\",\"no\",\"no\",\"no\",\"yes\",\"no\",\"no\",\"no\",\"yes\",\"yes\",\"no\",\"yes\",\"no\",\"no\",\"yes\",\"no\",\"yes\",\"no\",\"no\",\"no\",\"yes\",\"yes\",\"no\",\"no\",\"no\",\"no\",\"yes\",\"no\",\"no\",\"no\",\"no\",\"no\",\"yes\",\"no\",\"no\",\"no\",\"no\",\"no\",\"no\",\"no\",\"no\",\"yes\",\"no\",\"no\",\"no\",\"no\",\"no\",\"no\",\"no\",\"no\",\"no\",\"no\",\"yes\",\"no\",\"no\",\"yes\",\"yes\",\"no\",\"no\",\"no\",\"yes\",\"yes\",\"no\",\"no\",\"no\",\"yes\",\"no\",\"yes\",\"yes\",\"yes\",\"yes\",\"no\",\"no\",\"yes\",\"no\",\"no\",\"no\",\"yes\",\"no\",\"no\",\"no\",\"no\",\"no\",\"no\",\"no\",\"no\",\"yes\",\"no\",\"yes\",\"no\",\"no\",\"no\",\"no\",\"yes\",\"no\",\"no\",\"no\",\"no\",\"yes\",\"yes\",\"no\",\"yes\",\"no\",\"no\",\"no\",\"yes\",\"yes\",\"no\",\"yes\",\"yes\",\"no\",\"no\",\"no\",\"no\",\"no\",\"no\",\"no\",\"no\",\"yes\",\"no\",\"no\",\"no\",\"no\",\"no\",\"no\",\"no\",\"no\",\"yes\",\"no\",\"no\",\"no\",\"yes\",\"no\",\"no\",\"no\",\"no\",\"no\",\"no\",\"yes\",\"no\",\"no\",\"no\",\"yes\",\"no\",\"yes\",\"yes\",\"no\",\"no\",\"no\",\"no\",\"no\",\"yes\",\"no\",\"no\",\"no\",\"yes\",\"no\",\"yes\",\"no\",\"yes\",\"no\",\"yes\",\"no\",\"no\",\"no\",\"no\",\"yes\",\"no\",\"no\",\"no\",\"no\",\"no\",\"no\",\"no\",\"no\",\"no\",\"no\",\"no\",\"no\",\"no\",\"no\",\"no\",\"yes\",\"yes\",\"no\",\"no\",\"no\",\"yes\",\"no\",\"no\",\"no\",\"no\",\"no\",\"yes\",\"yes\",\"yes\"],\"xaxis\":\"x\",\"yaxis\":\"y\",\"type\":\"histogram\"}],                        {\"template\":{\"data\":{\"histogram2dcontour\":[{\"type\":\"histogram2dcontour\",\"colorbar\":{\"outlinewidth\":0,\"ticks\":\"\"},\"colorscale\":[[0.0,\"#0d0887\"],[0.1111111111111111,\"#46039f\"],[0.2222222222222222,\"#7201a8\"],[0.3333333333333333,\"#9c179e\"],[0.4444444444444444,\"#bd3786\"],[0.5555555555555556,\"#d8576b\"],[0.6666666666666666,\"#ed7953\"],[0.7777777777777778,\"#fb9f3a\"],[0.8888888888888888,\"#fdca26\"],[1.0,\"#f0f921\"]]}],\"choropleth\":[{\"type\":\"choropleth\",\"colorbar\":{\"outlinewidth\":0,\"ticks\":\"\"}}],\"histogram2d\":[{\"type\":\"histogram2d\",\"colorbar\":{\"outlinewidth\":0,\"ticks\":\"\"},\"colorscale\":[[0.0,\"#0d0887\"],[0.1111111111111111,\"#46039f\"],[0.2222222222222222,\"#7201a8\"],[0.3333333333333333,\"#9c179e\"],[0.4444444444444444,\"#bd3786\"],[0.5555555555555556,\"#d8576b\"],[0.6666666666666666,\"#ed7953\"],[0.7777777777777778,\"#fb9f3a\"],[0.8888888888888888,\"#fdca26\"],[1.0,\"#f0f921\"]]}],\"heatmap\":[{\"type\":\"heatmap\",\"colorbar\":{\"outlinewidth\":0,\"ticks\":\"\"},\"colorscale\":[[0.0,\"#0d0887\"],[0.1111111111111111,\"#46039f\"],[0.2222222222222222,\"#7201a8\"],[0.3333333333333333,\"#9c179e\"],[0.4444444444444444,\"#bd3786\"],[0.5555555555555556,\"#d8576b\"],[0.6666666666666666,\"#ed7953\"],[0.7777777777777778,\"#fb9f3a\"],[0.8888888888888888,\"#fdca26\"],[1.0,\"#f0f921\"]]}],\"heatmapgl\":[{\"type\":\"heatmapgl\",\"colorbar\":{\"outlinewidth\":0,\"ticks\":\"\"},\"colorscale\":[[0.0,\"#0d0887\"],[0.1111111111111111,\"#46039f\"],[0.2222222222222222,\"#7201a8\"],[0.3333333333333333,\"#9c179e\"],[0.4444444444444444,\"#bd3786\"],[0.5555555555555556,\"#d8576b\"],[0.6666666666666666,\"#ed7953\"],[0.7777777777777778,\"#fb9f3a\"],[0.8888888888888888,\"#fdca26\"],[1.0,\"#f0f921\"]]}],\"contourcarpet\":[{\"type\":\"contourcarpet\",\"colorbar\":{\"outlinewidth\":0,\"ticks\":\"\"}}],\"contour\":[{\"type\":\"contour\",\"colorbar\":{\"outlinewidth\":0,\"ticks\":\"\"},\"colorscale\":[[0.0,\"#0d0887\"],[0.1111111111111111,\"#46039f\"],[0.2222222222222222,\"#7201a8\"],[0.3333333333333333,\"#9c179e\"],[0.4444444444444444,\"#bd3786\"],[0.5555555555555556,\"#d8576b\"],[0.6666666666666666,\"#ed7953\"],[0.7777777777777778,\"#fb9f3a\"],[0.8888888888888888,\"#fdca26\"],[1.0,\"#f0f921\"]]}],\"surface\":[{\"type\":\"surface\",\"colorbar\":{\"outlinewidth\":0,\"ticks\":\"\"},\"colorscale\":[[0.0,\"#0d0887\"],[0.1111111111111111,\"#46039f\"],[0.2222222222222222,\"#7201a8\"],[0.3333333333333333,\"#9c179e\"],[0.4444444444444444,\"#bd3786\"],[0.5555555555555556,\"#d8576b\"],[0.6666666666666666,\"#ed7953\"],[0.7777777777777778,\"#fb9f3a\"],[0.8888888888888888,\"#fdca26\"],[1.0,\"#f0f921\"]]}],\"mesh3d\":[{\"type\":\"mesh3d\",\"colorbar\":{\"outlinewidth\":0,\"ticks\":\"\"}}],\"scatter\":[{\"fillpattern\":{\"fillmode\":\"overlay\",\"size\":10,\"solidity\":0.2},\"type\":\"scatter\"}],\"parcoords\":[{\"type\":\"parcoords\",\"line\":{\"colorbar\":{\"outlinewidth\":0,\"ticks\":\"\"}}}],\"scatterpolargl\":[{\"type\":\"scatterpolargl\",\"marker\":{\"colorbar\":{\"outlinewidth\":0,\"ticks\":\"\"}}}],\"bar\":[{\"error_x\":{\"color\":\"#2a3f5f\"},\"error_y\":{\"color\":\"#2a3f5f\"},\"marker\":{\"line\":{\"color\":\"#E5ECF6\",\"width\":0.5},\"pattern\":{\"fillmode\":\"overlay\",\"size\":10,\"solidity\":0.2}},\"type\":\"bar\"}],\"scattergeo\":[{\"type\":\"scattergeo\",\"marker\":{\"colorbar\":{\"outlinewidth\":0,\"ticks\":\"\"}}}],\"scatterpolar\":[{\"type\":\"scatterpolar\",\"marker\":{\"colorbar\":{\"outlinewidth\":0,\"ticks\":\"\"}}}],\"histogram\":[{\"marker\":{\"pattern\":{\"fillmode\":\"overlay\",\"size\":10,\"solidity\":0.2}},\"type\":\"histogram\"}],\"scattergl\":[{\"type\":\"scattergl\",\"marker\":{\"colorbar\":{\"outlinewidth\":0,\"ticks\":\"\"}}}],\"scatter3d\":[{\"type\":\"scatter3d\",\"line\":{\"colorbar\":{\"outlinewidth\":0,\"ticks\":\"\"}},\"marker\":{\"colorbar\":{\"outlinewidth\":0,\"ticks\":\"\"}}}],\"scattermapbox\":[{\"type\":\"scattermapbox\",\"marker\":{\"colorbar\":{\"outlinewidth\":0,\"ticks\":\"\"}}}],\"scatterternary\":[{\"type\":\"scatterternary\",\"marker\":{\"colorbar\":{\"outlinewidth\":0,\"ticks\":\"\"}}}],\"scattercarpet\":[{\"type\":\"scattercarpet\",\"marker\":{\"colorbar\":{\"outlinewidth\":0,\"ticks\":\"\"}}}],\"carpet\":[{\"aaxis\":{\"endlinecolor\":\"#2a3f5f\",\"gridcolor\":\"white\",\"linecolor\":\"white\",\"minorgridcolor\":\"white\",\"startlinecolor\":\"#2a3f5f\"},\"baxis\":{\"endlinecolor\":\"#2a3f5f\",\"gridcolor\":\"white\",\"linecolor\":\"white\",\"minorgridcolor\":\"white\",\"startlinecolor\":\"#2a3f5f\"},\"type\":\"carpet\"}],\"table\":[{\"cells\":{\"fill\":{\"color\":\"#EBF0F8\"},\"line\":{\"color\":\"white\"}},\"header\":{\"fill\":{\"color\":\"#C8D4E3\"},\"line\":{\"color\":\"white\"}},\"type\":\"table\"}],\"barpolar\":[{\"marker\":{\"line\":{\"color\":\"#E5ECF6\",\"width\":0.5},\"pattern\":{\"fillmode\":\"overlay\",\"size\":10,\"solidity\":0.2}},\"type\":\"barpolar\"}],\"pie\":[{\"automargin\":true,\"type\":\"pie\"}]},\"layout\":{\"autotypenumbers\":\"strict\",\"colorway\":[\"#636efa\",\"#EF553B\",\"#00cc96\",\"#ab63fa\",\"#FFA15A\",\"#19d3f3\",\"#FF6692\",\"#B6E880\",\"#FF97FF\",\"#FECB52\"],\"font\":{\"color\":\"#2a3f5f\"},\"hovermode\":\"closest\",\"hoverlabel\":{\"align\":\"left\"},\"paper_bgcolor\":\"white\",\"plot_bgcolor\":\"#E5ECF6\",\"polar\":{\"bgcolor\":\"#E5ECF6\",\"angularaxis\":{\"gridcolor\":\"white\",\"linecolor\":\"white\",\"ticks\":\"\"},\"radialaxis\":{\"gridcolor\":\"white\",\"linecolor\":\"white\",\"ticks\":\"\"}},\"ternary\":{\"bgcolor\":\"#E5ECF6\",\"aaxis\":{\"gridcolor\":\"white\",\"linecolor\":\"white\",\"ticks\":\"\"},\"baxis\":{\"gridcolor\":\"white\",\"linecolor\":\"white\",\"ticks\":\"\"},\"caxis\":{\"gridcolor\":\"white\",\"linecolor\":\"white\",\"ticks\":\"\"}},\"coloraxis\":{\"colorbar\":{\"outlinewidth\":0,\"ticks\":\"\"}},\"colorscale\":{\"sequential\":[[0.0,\"#0d0887\"],[0.1111111111111111,\"#46039f\"],[0.2222222222222222,\"#7201a8\"],[0.3333333333333333,\"#9c179e\"],[0.4444444444444444,\"#bd3786\"],[0.5555555555555556,\"#d8576b\"],[0.6666666666666666,\"#ed7953\"],[0.7777777777777778,\"#fb9f3a\"],[0.8888888888888888,\"#fdca26\"],[1.0,\"#f0f921\"]],\"sequentialminus\":[[0.0,\"#0d0887\"],[0.1111111111111111,\"#46039f\"],[0.2222222222222222,\"#7201a8\"],[0.3333333333333333,\"#9c179e\"],[0.4444444444444444,\"#bd3786\"],[0.5555555555555556,\"#d8576b\"],[0.6666666666666666,\"#ed7953\"],[0.7777777777777778,\"#fb9f3a\"],[0.8888888888888888,\"#fdca26\"],[1.0,\"#f0f921\"]],\"diverging\":[[0,\"#8e0152\"],[0.1,\"#c51b7d\"],[0.2,\"#de77ae\"],[0.3,\"#f1b6da\"],[0.4,\"#fde0ef\"],[0.5,\"#f7f7f7\"],[0.6,\"#e6f5d0\"],[0.7,\"#b8e186\"],[0.8,\"#7fbc41\"],[0.9,\"#4d9221\"],[1,\"#276419\"]]},\"xaxis\":{\"gridcolor\":\"white\",\"linecolor\":\"white\",\"ticks\":\"\",\"title\":{\"standoff\":15},\"zerolinecolor\":\"white\",\"automargin\":true,\"zerolinewidth\":2},\"yaxis\":{\"gridcolor\":\"white\",\"linecolor\":\"white\",\"ticks\":\"\",\"title\":{\"standoff\":15},\"zerolinecolor\":\"white\",\"automargin\":true,\"zerolinewidth\":2},\"scene\":{\"xaxis\":{\"backgroundcolor\":\"#E5ECF6\",\"gridcolor\":\"white\",\"linecolor\":\"white\",\"showbackground\":true,\"ticks\":\"\",\"zerolinecolor\":\"white\",\"gridwidth\":2},\"yaxis\":{\"backgroundcolor\":\"#E5ECF6\",\"gridcolor\":\"white\",\"linecolor\":\"white\",\"showbackground\":true,\"ticks\":\"\",\"zerolinecolor\":\"white\",\"gridwidth\":2},\"zaxis\":{\"backgroundcolor\":\"#E5ECF6\",\"gridcolor\":\"white\",\"linecolor\":\"white\",\"showbackground\":true,\"ticks\":\"\",\"zerolinecolor\":\"white\",\"gridwidth\":2}},\"shapedefaults\":{\"line\":{\"color\":\"#2a3f5f\"}},\"annotationdefaults\":{\"arrowcolor\":\"#2a3f5f\",\"arrowhead\":0,\"arrowwidth\":1},\"geo\":{\"bgcolor\":\"white\",\"landcolor\":\"#E5ECF6\",\"subunitcolor\":\"white\",\"showland\":true,\"showlakes\":true,\"lakecolor\":\"white\"},\"title\":{\"x\":0.05},\"mapbox\":{\"style\":\"light\"}}},\"xaxis\":{\"anchor\":\"y\",\"domain\":[0.0,1.0],\"title\":{\"text\":\"Jaundice\"}},\"yaxis\":{\"anchor\":\"x\",\"domain\":[0.0,1.0],\"title\":{\"text\":\"count\"}},\"legend\":{\"title\":{\"text\":\"target\"},\"tracegroupgap\":0},\"margin\":{\"t\":60},\"barmode\":\"relative\"},                        {\"responsive\": true}                    ).then(function(){\n",
       "                            \n",
       "var gd = document.getElementById('cc0e05e0-2388-45d8-8835-6db9d3c5192e');\n",
       "var x = new MutationObserver(function (mutations, observer) {{\n",
       "        var display = window.getComputedStyle(gd).display;\n",
       "        if (!display || display === 'none') {{\n",
       "            console.log([gd, 'removed!']);\n",
       "            Plotly.purge(gd);\n",
       "            observer.disconnect();\n",
       "        }}\n",
       "}});\n",
       "\n",
       "// Listen for the removal of the full notebook cells\n",
       "var notebookContainer = gd.closest('#notebook-container');\n",
       "if (notebookContainer) {{\n",
       "    x.observe(notebookContainer, {childList: true});\n",
       "}}\n",
       "\n",
       "// Listen for the clearing of the current output cell\n",
       "var outputEl = gd.closest('.output');\n",
       "if (outputEl) {{\n",
       "    x.observe(outputEl, {childList: true});\n",
       "}}\n",
       "\n",
       "                        })                };                });            </script>        </div>"
      ]
     },
     "metadata": {},
     "output_type": "display_data"
    },
    {
     "data": {
      "text/html": [
       "<div>                            <div id=\"2f2ce2bb-02ec-450d-bbaa-9186e88b60c0\" class=\"plotly-graph-div\" style=\"height:525px; width:100%;\"></div>            <script type=\"text/javascript\">                require([\"plotly\"], function(Plotly) {                    window.PLOTLYENV=window.PLOTLYENV || {};                                    if (document.getElementById(\"2f2ce2bb-02ec-450d-bbaa-9186e88b60c0\")) {                    Plotly.newPlot(                        \"2f2ce2bb-02ec-450d-bbaa-9186e88b60c0\",                        [{\"alignmentgroup\":\"True\",\"bingroup\":\"x\",\"hovertemplate\":\"target=False\\u003cbr\\u003eFamily_mem_with_ASD=%{x}\\u003cbr\\u003ecount=%{y}\\u003cextra\\u003e\\u003c\\u002fextra\\u003e\",\"legendgroup\":\"False\",\"marker\":{\"color\":\"#636efa\",\"pattern\":{\"shape\":\"\"}},\"name\":\"False\",\"offsetgroup\":\"False\",\"orientation\":\"v\",\"showlegend\":true,\"x\":[\"no\",\"no\",\"no\",\"no\",\"yes\",\"no\",\"no\",\"no\",\"no\",\"no\",\"no\",\"no\",\"no\",\"no\",\"no\",\"no\",\"no\",\"no\",\"no\",\"no\",\"no\",\"no\",\"no\",\"no\",\"no\",\"no\",\"no\",\"no\",\"no\",\"no\",\"no\",\"no\",\"no\",\"no\",\"no\",\"yes\",\"yes\",\"yes\",\"no\",\"no\",\"no\",\"no\",\"no\",\"no\",\"yes\",\"no\",\"no\",\"no\",\"yes\",\"no\",\"no\",\"no\",\"no\",\"no\",\"no\",\"no\",\"no\",\"no\",\"no\",\"no\",\"no\",\"no\",\"no\",\"no\",\"no\",\"no\",\"no\",\"no\",\"no\",\"yes\",\"no\",\"no\",\"no\",\"yes\",\"no\",\"yes\",\"no\",\"yes\",\"yes\",\"no\",\"no\",\"yes\",\"yes\",\"yes\",\"yes\",\"yes\",\"yes\",\"yes\",\"no\",\"yes\",\"no\",\"yes\",\"no\",\"no\",\"no\",\"no\",\"no\",\"no\",\"no\",\"no\",\"no\",\"no\",\"no\",\"no\",\"no\",\"no\",\"no\",\"no\",\"no\",\"yes\",\"no\",\"no\",\"no\",\"yes\",\"yes\",\"no\",\"no\",\"no\",\"no\",\"no\",\"no\",\"no\",\"no\",\"yes\",\"no\",\"no\",\"no\",\"no\",\"no\",\"no\",\"no\",\"no\",\"no\",\"no\",\"yes\",\"no\",\"no\",\"no\",\"no\",\"no\",\"no\",\"no\",\"no\",\"yes\",\"no\",\"no\",\"no\",\"no\",\"no\",\"no\",\"no\",\"no\",\"no\",\"no\",\"no\",\"yes\",\"no\",\"yes\",\"yes\",\"no\",\"yes\",\"no\",\"yes\",\"yes\",\"yes\",\"no\",\"no\",\"no\",\"no\",\"no\",\"no\",\"no\",\"no\",\"yes\",\"yes\",\"no\",\"no\",\"no\",\"no\",\"yes\",\"no\",\"no\",\"no\",\"no\",\"no\",\"no\",\"no\",\"no\",\"no\",\"no\",\"no\",\"no\",\"yes\",\"no\",\"no\",\"no\",\"no\",\"no\",\"no\",\"no\",\"no\",\"no\",\"no\",\"no\",\"yes\",\"no\",\"no\",\"no\",\"no\",\"yes\",\"no\",\"no\",\"no\",\"no\",\"no\",\"yes\",\"no\",\"no\",\"no\",\"no\",\"no\",\"no\",\"no\",\"no\",\"no\",\"no\",\"yes\",\"no\",\"no\",\"no\",\"yes\",\"no\",\"no\",\"no\",\"no\",\"no\",\"no\",\"no\",\"yes\",\"yes\",\"no\",\"yes\",\"yes\",\"no\",\"no\",\"yes\",\"yes\",\"no\",\"no\",\"no\",\"no\",\"no\",\"no\",\"no\",\"no\",\"no\",\"no\",\"no\",\"no\",\"no\",\"no\",\"no\",\"no\",\"no\",\"no\",\"no\",\"no\",\"no\",\"no\",\"no\",\"no\",\"no\",\"no\",\"no\",\"no\",\"no\",\"no\",\"no\",\"no\",\"no\",\"no\",\"yes\",\"no\",\"no\",\"no\",\"no\",\"no\",\"no\",\"no\",\"no\",\"no\",\"no\",\"no\",\"no\",\"no\",\"no\",\"no\",\"no\",\"no\",\"no\",\"no\",\"no\",\"no\",\"no\",\"no\",\"no\",\"no\",\"no\",\"no\",\"yes\",\"no\",\"no\",\"yes\",\"yes\",\"no\",\"no\",\"no\",\"no\",\"yes\",\"no\",\"no\",\"no\",\"no\",\"no\",\"yes\",\"yes\"],\"xaxis\":\"x\",\"yaxis\":\"y\",\"type\":\"histogram\"},{\"alignmentgroup\":\"True\",\"bingroup\":\"x\",\"hovertemplate\":\"target=True\\u003cbr\\u003eFamily_mem_with_ASD=%{x}\\u003cbr\\u003ecount=%{y}\\u003cextra\\u003e\\u003c\\u002fextra\\u003e\",\"legendgroup\":\"True\",\"marker\":{\"color\":\"#EF553B\",\"pattern\":{\"shape\":\"\"}},\"name\":\"True\",\"offsetgroup\":\"True\",\"orientation\":\"v\",\"showlegend\":true,\"x\":[\"no\",\"no\",\"no\",\"yes\",\"no\",\"no\",\"no\",\"no\",\"yes\",\"no\",\"no\",\"no\",\"no\",\"no\",\"no\",\"no\",\"yes\",\"yes\",\"no\",\"no\",\"no\",\"yes\",\"no\",\"no\",\"no\",\"no\",\"no\",\"no\",\"no\",\"yes\",\"no\",\"yes\",\"no\",\"no\",\"no\",\"no\",\"no\",\"no\",\"no\",\"no\",\"no\",\"yes\",\"no\",\"no\",\"no\",\"no\",\"no\",\"no\",\"yes\",\"no\",\"no\",\"no\",\"no\",\"no\",\"no\",\"no\",\"yes\",\"no\",\"no\",\"no\",\"yes\",\"no\",\"yes\",\"no\",\"no\",\"no\",\"no\",\"no\",\"no\",\"yes\",\"no\",\"no\",\"no\",\"no\",\"no\",\"no\",\"no\",\"no\",\"no\",\"no\",\"no\",\"no\",\"no\",\"yes\",\"no\",\"no\",\"no\",\"no\",\"no\",\"no\",\"no\",\"yes\",\"no\",\"no\",\"no\",\"no\",\"yes\",\"no\",\"no\",\"no\",\"no\",\"no\",\"yes\",\"no\",\"no\",\"no\",\"yes\",\"no\",\"no\",\"yes\",\"no\",\"no\",\"no\",\"no\",\"no\",\"yes\",\"no\",\"no\",\"no\",\"no\",\"no\",\"no\",\"yes\",\"yes\",\"no\",\"no\",\"no\",\"no\",\"no\",\"yes\",\"no\",\"no\",\"no\",\"no\",\"no\",\"no\",\"no\",\"no\",\"no\",\"no\",\"yes\",\"no\",\"yes\",\"no\",\"no\",\"no\",\"no\",\"no\",\"yes\",\"no\",\"no\",\"yes\",\"no\",\"no\",\"no\",\"no\",\"no\",\"no\",\"no\",\"no\",\"no\",\"no\",\"no\",\"no\",\"no\",\"no\",\"no\",\"no\",\"no\",\"no\",\"yes\",\"no\",\"no\",\"no\",\"no\",\"no\",\"yes\",\"yes\",\"yes\",\"yes\",\"no\",\"yes\",\"no\",\"no\",\"no\",\"no\",\"no\",\"no\",\"yes\",\"no\",\"no\",\"no\",\"no\",\"no\",\"no\",\"yes\",\"no\",\"no\",\"no\",\"no\",\"no\",\"no\",\"no\",\"no\",\"no\",\"no\",\"no\",\"no\",\"no\",\"yes\",\"no\",\"no\",\"no\",\"no\",\"no\",\"no\",\"no\",\"no\",\"no\",\"no\",\"no\",\"yes\",\"no\",\"no\",\"no\",\"no\",\"no\",\"yes\",\"no\",\"no\",\"no\",\"no\",\"no\",\"no\",\"no\",\"no\",\"no\",\"no\",\"no\",\"no\",\"no\",\"no\",\"no\",\"no\",\"no\",\"yes\",\"no\",\"no\",\"no\",\"no\",\"no\",\"yes\",\"yes\",\"no\",\"no\",\"no\",\"yes\",\"no\",\"no\",\"no\",\"no\",\"no\",\"no\",\"no\",\"no\",\"no\",\"no\",\"no\",\"yes\",\"no\",\"no\",\"no\",\"no\",\"no\",\"no\",\"no\",\"no\",\"no\",\"no\",\"no\",\"no\",\"no\",\"no\",\"no\",\"no\",\"no\",\"no\",\"no\",\"yes\",\"yes\",\"yes\",\"no\",\"no\",\"no\",\"no\",\"no\",\"yes\",\"no\",\"no\",\"yes\",\"no\",\"no\",\"yes\",\"yes\",\"yes\",\"yes\",\"no\",\"no\",\"no\",\"no\",\"no\",\"no\",\"no\",\"no\",\"no\",\"no\",\"no\",\"no\",\"yes\",\"no\",\"no\",\"no\",\"no\",\"no\",\"no\",\"no\",\"no\",\"no\",\"no\",\"yes\",\"no\",\"no\",\"yes\",\"no\",\"no\",\"no\",\"no\",\"no\",\"no\",\"no\",\"no\",\"no\",\"no\",\"no\",\"no\",\"no\",\"no\",\"no\",\"yes\",\"no\",\"no\",\"no\",\"no\",\"no\",\"no\",\"no\",\"no\",\"no\",\"no\",\"no\",\"no\",\"no\",\"no\",\"no\",\"no\",\"yes\",\"no\",\"no\",\"no\",\"yes\",\"no\",\"yes\",\"yes\",\"no\",\"yes\",\"no\",\"yes\",\"no\",\"no\",\"no\",\"no\",\"no\",\"no\",\"no\",\"no\",\"no\",\"yes\",\"no\",\"no\",\"no\",\"no\",\"no\",\"no\",\"yes\",\"no\",\"no\",\"no\",\"yes\",\"no\",\"no\",\"no\",\"no\",\"no\",\"no\",\"no\",\"no\",\"no\",\"yes\",\"no\",\"no\",\"no\",\"yes\",\"yes\",\"yes\",\"no\",\"no\",\"no\",\"no\",\"no\",\"no\",\"no\",\"no\",\"no\",\"no\",\"no\",\"no\",\"no\",\"no\",\"no\",\"no\",\"no\",\"no\",\"no\",\"no\",\"no\",\"no\",\"yes\",\"yes\",\"no\",\"no\",\"no\",\"no\",\"no\",\"no\",\"no\",\"no\",\"no\",\"no\",\"yes\",\"yes\",\"no\",\"no\",\"no\",\"no\",\"no\",\"no\",\"no\",\"no\",\"no\",\"no\",\"no\",\"no\",\"no\",\"no\",\"no\",\"no\",\"no\",\"no\",\"no\",\"no\",\"no\",\"no\",\"no\",\"no\",\"no\",\"no\",\"no\",\"no\",\"yes\",\"no\",\"yes\",\"no\",\"no\",\"no\",\"no\",\"yes\",\"yes\",\"no\",\"no\",\"no\",\"no\",\"no\",\"yes\",\"no\",\"no\",\"no\",\"no\",\"yes\",\"no\",\"no\",\"no\",\"no\",\"no\",\"no\",\"no\",\"no\",\"no\",\"yes\",\"no\",\"no\",\"no\",\"no\",\"no\",\"no\",\"no\",\"no\",\"no\",\"no\",\"no\",\"yes\",\"no\",\"no\",\"no\",\"no\",\"yes\",\"no\",\"no\",\"no\",\"no\",\"no\",\"no\",\"no\",\"no\",\"no\",\"no\",\"no\",\"no\",\"no\",\"no\",\"no\",\"yes\",\"no\",\"no\",\"no\",\"no\",\"no\",\"no\",\"yes\",\"no\",\"no\",\"no\",\"yes\",\"no\",\"no\",\"no\",\"no\",\"no\",\"no\",\"yes\",\"no\",\"yes\",\"yes\",\"no\",\"no\",\"yes\",\"no\",\"no\",\"no\",\"no\",\"no\",\"yes\",\"yes\",\"no\",\"no\",\"no\",\"no\",\"no\",\"no\",\"no\",\"no\",\"no\",\"no\",\"no\",\"no\",\"no\",\"no\",\"no\",\"no\",\"yes\",\"no\",\"no\",\"no\",\"yes\",\"no\",\"no\",\"no\",\"no\",\"no\",\"no\",\"yes\",\"no\",\"no\",\"no\",\"no\",\"no\",\"no\",\"no\",\"no\",\"yes\",\"no\",\"no\",\"no\",\"no\",\"no\",\"no\",\"no\",\"no\",\"yes\",\"no\",\"no\",\"no\",\"no\",\"no\",\"no\",\"no\",\"no\",\"no\",\"no\",\"no\",\"no\",\"no\",\"no\",\"no\",\"no\",\"no\",\"no\",\"yes\",\"no\",\"yes\",\"no\",\"no\",\"no\",\"no\",\"no\",\"no\",\"no\",\"no\",\"no\",\"no\",\"no\",\"no\",\"no\",\"no\",\"yes\",\"yes\",\"no\",\"no\",\"no\",\"no\",\"no\",\"no\",\"yes\",\"no\",\"no\",\"yes\",\"no\",\"no\",\"no\",\"no\",\"no\",\"yes\",\"yes\",\"no\",\"no\",\"no\",\"no\",\"no\",\"no\",\"no\",\"no\",\"no\",\"no\",\"no\",\"no\",\"no\",\"no\",\"no\",\"no\",\"no\",\"no\",\"no\",\"no\",\"no\",\"no\",\"no\",\"yes\",\"no\",\"no\",\"yes\",\"no\",\"no\",\"yes\",\"no\",\"no\",\"no\",\"no\",\"no\",\"no\",\"no\",\"yes\",\"no\",\"no\",\"yes\",\"yes\",\"no\",\"no\",\"no\",\"yes\",\"yes\",\"no\",\"yes\",\"yes\",\"no\",\"no\",\"no\",\"no\",\"no\",\"yes\"],\"xaxis\":\"x\",\"yaxis\":\"y\",\"type\":\"histogram\"}],                        {\"template\":{\"data\":{\"histogram2dcontour\":[{\"type\":\"histogram2dcontour\",\"colorbar\":{\"outlinewidth\":0,\"ticks\":\"\"},\"colorscale\":[[0.0,\"#0d0887\"],[0.1111111111111111,\"#46039f\"],[0.2222222222222222,\"#7201a8\"],[0.3333333333333333,\"#9c179e\"],[0.4444444444444444,\"#bd3786\"],[0.5555555555555556,\"#d8576b\"],[0.6666666666666666,\"#ed7953\"],[0.7777777777777778,\"#fb9f3a\"],[0.8888888888888888,\"#fdca26\"],[1.0,\"#f0f921\"]]}],\"choropleth\":[{\"type\":\"choropleth\",\"colorbar\":{\"outlinewidth\":0,\"ticks\":\"\"}}],\"histogram2d\":[{\"type\":\"histogram2d\",\"colorbar\":{\"outlinewidth\":0,\"ticks\":\"\"},\"colorscale\":[[0.0,\"#0d0887\"],[0.1111111111111111,\"#46039f\"],[0.2222222222222222,\"#7201a8\"],[0.3333333333333333,\"#9c179e\"],[0.4444444444444444,\"#bd3786\"],[0.5555555555555556,\"#d8576b\"],[0.6666666666666666,\"#ed7953\"],[0.7777777777777778,\"#fb9f3a\"],[0.8888888888888888,\"#fdca26\"],[1.0,\"#f0f921\"]]}],\"heatmap\":[{\"type\":\"heatmap\",\"colorbar\":{\"outlinewidth\":0,\"ticks\":\"\"},\"colorscale\":[[0.0,\"#0d0887\"],[0.1111111111111111,\"#46039f\"],[0.2222222222222222,\"#7201a8\"],[0.3333333333333333,\"#9c179e\"],[0.4444444444444444,\"#bd3786\"],[0.5555555555555556,\"#d8576b\"],[0.6666666666666666,\"#ed7953\"],[0.7777777777777778,\"#fb9f3a\"],[0.8888888888888888,\"#fdca26\"],[1.0,\"#f0f921\"]]}],\"heatmapgl\":[{\"type\":\"heatmapgl\",\"colorbar\":{\"outlinewidth\":0,\"ticks\":\"\"},\"colorscale\":[[0.0,\"#0d0887\"],[0.1111111111111111,\"#46039f\"],[0.2222222222222222,\"#7201a8\"],[0.3333333333333333,\"#9c179e\"],[0.4444444444444444,\"#bd3786\"],[0.5555555555555556,\"#d8576b\"],[0.6666666666666666,\"#ed7953\"],[0.7777777777777778,\"#fb9f3a\"],[0.8888888888888888,\"#fdca26\"],[1.0,\"#f0f921\"]]}],\"contourcarpet\":[{\"type\":\"contourcarpet\",\"colorbar\":{\"outlinewidth\":0,\"ticks\":\"\"}}],\"contour\":[{\"type\":\"contour\",\"colorbar\":{\"outlinewidth\":0,\"ticks\":\"\"},\"colorscale\":[[0.0,\"#0d0887\"],[0.1111111111111111,\"#46039f\"],[0.2222222222222222,\"#7201a8\"],[0.3333333333333333,\"#9c179e\"],[0.4444444444444444,\"#bd3786\"],[0.5555555555555556,\"#d8576b\"],[0.6666666666666666,\"#ed7953\"],[0.7777777777777778,\"#fb9f3a\"],[0.8888888888888888,\"#fdca26\"],[1.0,\"#f0f921\"]]}],\"surface\":[{\"type\":\"surface\",\"colorbar\":{\"outlinewidth\":0,\"ticks\":\"\"},\"colorscale\":[[0.0,\"#0d0887\"],[0.1111111111111111,\"#46039f\"],[0.2222222222222222,\"#7201a8\"],[0.3333333333333333,\"#9c179e\"],[0.4444444444444444,\"#bd3786\"],[0.5555555555555556,\"#d8576b\"],[0.6666666666666666,\"#ed7953\"],[0.7777777777777778,\"#fb9f3a\"],[0.8888888888888888,\"#fdca26\"],[1.0,\"#f0f921\"]]}],\"mesh3d\":[{\"type\":\"mesh3d\",\"colorbar\":{\"outlinewidth\":0,\"ticks\":\"\"}}],\"scatter\":[{\"fillpattern\":{\"fillmode\":\"overlay\",\"size\":10,\"solidity\":0.2},\"type\":\"scatter\"}],\"parcoords\":[{\"type\":\"parcoords\",\"line\":{\"colorbar\":{\"outlinewidth\":0,\"ticks\":\"\"}}}],\"scatterpolargl\":[{\"type\":\"scatterpolargl\",\"marker\":{\"colorbar\":{\"outlinewidth\":0,\"ticks\":\"\"}}}],\"bar\":[{\"error_x\":{\"color\":\"#2a3f5f\"},\"error_y\":{\"color\":\"#2a3f5f\"},\"marker\":{\"line\":{\"color\":\"#E5ECF6\",\"width\":0.5},\"pattern\":{\"fillmode\":\"overlay\",\"size\":10,\"solidity\":0.2}},\"type\":\"bar\"}],\"scattergeo\":[{\"type\":\"scattergeo\",\"marker\":{\"colorbar\":{\"outlinewidth\":0,\"ticks\":\"\"}}}],\"scatterpolar\":[{\"type\":\"scatterpolar\",\"marker\":{\"colorbar\":{\"outlinewidth\":0,\"ticks\":\"\"}}}],\"histogram\":[{\"marker\":{\"pattern\":{\"fillmode\":\"overlay\",\"size\":10,\"solidity\":0.2}},\"type\":\"histogram\"}],\"scattergl\":[{\"type\":\"scattergl\",\"marker\":{\"colorbar\":{\"outlinewidth\":0,\"ticks\":\"\"}}}],\"scatter3d\":[{\"type\":\"scatter3d\",\"line\":{\"colorbar\":{\"outlinewidth\":0,\"ticks\":\"\"}},\"marker\":{\"colorbar\":{\"outlinewidth\":0,\"ticks\":\"\"}}}],\"scattermapbox\":[{\"type\":\"scattermapbox\",\"marker\":{\"colorbar\":{\"outlinewidth\":0,\"ticks\":\"\"}}}],\"scatterternary\":[{\"type\":\"scatterternary\",\"marker\":{\"colorbar\":{\"outlinewidth\":0,\"ticks\":\"\"}}}],\"scattercarpet\":[{\"type\":\"scattercarpet\",\"marker\":{\"colorbar\":{\"outlinewidth\":0,\"ticks\":\"\"}}}],\"carpet\":[{\"aaxis\":{\"endlinecolor\":\"#2a3f5f\",\"gridcolor\":\"white\",\"linecolor\":\"white\",\"minorgridcolor\":\"white\",\"startlinecolor\":\"#2a3f5f\"},\"baxis\":{\"endlinecolor\":\"#2a3f5f\",\"gridcolor\":\"white\",\"linecolor\":\"white\",\"minorgridcolor\":\"white\",\"startlinecolor\":\"#2a3f5f\"},\"type\":\"carpet\"}],\"table\":[{\"cells\":{\"fill\":{\"color\":\"#EBF0F8\"},\"line\":{\"color\":\"white\"}},\"header\":{\"fill\":{\"color\":\"#C8D4E3\"},\"line\":{\"color\":\"white\"}},\"type\":\"table\"}],\"barpolar\":[{\"marker\":{\"line\":{\"color\":\"#E5ECF6\",\"width\":0.5},\"pattern\":{\"fillmode\":\"overlay\",\"size\":10,\"solidity\":0.2}},\"type\":\"barpolar\"}],\"pie\":[{\"automargin\":true,\"type\":\"pie\"}]},\"layout\":{\"autotypenumbers\":\"strict\",\"colorway\":[\"#636efa\",\"#EF553B\",\"#00cc96\",\"#ab63fa\",\"#FFA15A\",\"#19d3f3\",\"#FF6692\",\"#B6E880\",\"#FF97FF\",\"#FECB52\"],\"font\":{\"color\":\"#2a3f5f\"},\"hovermode\":\"closest\",\"hoverlabel\":{\"align\":\"left\"},\"paper_bgcolor\":\"white\",\"plot_bgcolor\":\"#E5ECF6\",\"polar\":{\"bgcolor\":\"#E5ECF6\",\"angularaxis\":{\"gridcolor\":\"white\",\"linecolor\":\"white\",\"ticks\":\"\"},\"radialaxis\":{\"gridcolor\":\"white\",\"linecolor\":\"white\",\"ticks\":\"\"}},\"ternary\":{\"bgcolor\":\"#E5ECF6\",\"aaxis\":{\"gridcolor\":\"white\",\"linecolor\":\"white\",\"ticks\":\"\"},\"baxis\":{\"gridcolor\":\"white\",\"linecolor\":\"white\",\"ticks\":\"\"},\"caxis\":{\"gridcolor\":\"white\",\"linecolor\":\"white\",\"ticks\":\"\"}},\"coloraxis\":{\"colorbar\":{\"outlinewidth\":0,\"ticks\":\"\"}},\"colorscale\":{\"sequential\":[[0.0,\"#0d0887\"],[0.1111111111111111,\"#46039f\"],[0.2222222222222222,\"#7201a8\"],[0.3333333333333333,\"#9c179e\"],[0.4444444444444444,\"#bd3786\"],[0.5555555555555556,\"#d8576b\"],[0.6666666666666666,\"#ed7953\"],[0.7777777777777778,\"#fb9f3a\"],[0.8888888888888888,\"#fdca26\"],[1.0,\"#f0f921\"]],\"sequentialminus\":[[0.0,\"#0d0887\"],[0.1111111111111111,\"#46039f\"],[0.2222222222222222,\"#7201a8\"],[0.3333333333333333,\"#9c179e\"],[0.4444444444444444,\"#bd3786\"],[0.5555555555555556,\"#d8576b\"],[0.6666666666666666,\"#ed7953\"],[0.7777777777777778,\"#fb9f3a\"],[0.8888888888888888,\"#fdca26\"],[1.0,\"#f0f921\"]],\"diverging\":[[0,\"#8e0152\"],[0.1,\"#c51b7d\"],[0.2,\"#de77ae\"],[0.3,\"#f1b6da\"],[0.4,\"#fde0ef\"],[0.5,\"#f7f7f7\"],[0.6,\"#e6f5d0\"],[0.7,\"#b8e186\"],[0.8,\"#7fbc41\"],[0.9,\"#4d9221\"],[1,\"#276419\"]]},\"xaxis\":{\"gridcolor\":\"white\",\"linecolor\":\"white\",\"ticks\":\"\",\"title\":{\"standoff\":15},\"zerolinecolor\":\"white\",\"automargin\":true,\"zerolinewidth\":2},\"yaxis\":{\"gridcolor\":\"white\",\"linecolor\":\"white\",\"ticks\":\"\",\"title\":{\"standoff\":15},\"zerolinecolor\":\"white\",\"automargin\":true,\"zerolinewidth\":2},\"scene\":{\"xaxis\":{\"backgroundcolor\":\"#E5ECF6\",\"gridcolor\":\"white\",\"linecolor\":\"white\",\"showbackground\":true,\"ticks\":\"\",\"zerolinecolor\":\"white\",\"gridwidth\":2},\"yaxis\":{\"backgroundcolor\":\"#E5ECF6\",\"gridcolor\":\"white\",\"linecolor\":\"white\",\"showbackground\":true,\"ticks\":\"\",\"zerolinecolor\":\"white\",\"gridwidth\":2},\"zaxis\":{\"backgroundcolor\":\"#E5ECF6\",\"gridcolor\":\"white\",\"linecolor\":\"white\",\"showbackground\":true,\"ticks\":\"\",\"zerolinecolor\":\"white\",\"gridwidth\":2}},\"shapedefaults\":{\"line\":{\"color\":\"#2a3f5f\"}},\"annotationdefaults\":{\"arrowcolor\":\"#2a3f5f\",\"arrowhead\":0,\"arrowwidth\":1},\"geo\":{\"bgcolor\":\"white\",\"landcolor\":\"#E5ECF6\",\"subunitcolor\":\"white\",\"showland\":true,\"showlakes\":true,\"lakecolor\":\"white\"},\"title\":{\"x\":0.05},\"mapbox\":{\"style\":\"light\"}}},\"xaxis\":{\"anchor\":\"y\",\"domain\":[0.0,1.0],\"title\":{\"text\":\"Family_mem_with_ASD\"}},\"yaxis\":{\"anchor\":\"x\",\"domain\":[0.0,1.0],\"title\":{\"text\":\"count\"}},\"legend\":{\"title\":{\"text\":\"target\"},\"tracegroupgap\":0},\"margin\":{\"t\":60},\"barmode\":\"relative\"},                        {\"responsive\": true}                    ).then(function(){\n",
       "                            \n",
       "var gd = document.getElementById('2f2ce2bb-02ec-450d-bbaa-9186e88b60c0');\n",
       "var x = new MutationObserver(function (mutations, observer) {{\n",
       "        var display = window.getComputedStyle(gd).display;\n",
       "        if (!display || display === 'none') {{\n",
       "            console.log([gd, 'removed!']);\n",
       "            Plotly.purge(gd);\n",
       "            observer.disconnect();\n",
       "        }}\n",
       "}});\n",
       "\n",
       "// Listen for the removal of the full notebook cells\n",
       "var notebookContainer = gd.closest('#notebook-container');\n",
       "if (notebookContainer) {{\n",
       "    x.observe(notebookContainer, {childList: true});\n",
       "}}\n",
       "\n",
       "// Listen for the clearing of the current output cell\n",
       "var outputEl = gd.closest('.output');\n",
       "if (outputEl) {{\n",
       "    x.observe(outputEl, {childList: true});\n",
       "}}\n",
       "\n",
       "                        })                };                });            </script>        </div>"
      ]
     },
     "metadata": {},
     "output_type": "display_data"
    },
    {
     "data": {
      "text/html": [
       "<div>                            <div id=\"7cbcbdc5-3f6b-4e59-9b2f-1a746d07882b\" class=\"plotly-graph-div\" style=\"height:525px; width:100%;\"></div>            <script type=\"text/javascript\">                require([\"plotly\"], function(Plotly) {                    window.PLOTLYENV=window.PLOTLYENV || {};                                    if (document.getElementById(\"7cbcbdc5-3f6b-4e59-9b2f-1a746d07882b\")) {                    Plotly.newPlot(                        \"7cbcbdc5-3f6b-4e59-9b2f-1a746d07882b\",                        [{\"alignmentgroup\":\"True\",\"bingroup\":\"x\",\"hovertemplate\":\"target=False\\u003cbr\\u003eWho completed the test=%{x}\\u003cbr\\u003ecount=%{y}\\u003cextra\\u003e\\u003c\\u002fextra\\u003e\",\"legendgroup\":\"False\",\"marker\":{\"color\":\"#636efa\",\"pattern\":{\"shape\":\"\"}},\"name\":\"False\",\"offsetgroup\":\"False\",\"orientation\":\"v\",\"showlegend\":true,\"x\":[\"family member\",\"family member\",\"family member\",\"family member\",\"family member\",\"family member\",\"family member\",\"family member\",\"family member\",\"family member\",\"Health care professional\",\"family member\",\"family member\",\"family member\",\"family member\",\"family member\",\"family member\",\"family member\",\"family member\",\"family member\",\"family member\",\"family member\",\"family member\",\"family member\",\"family member\",\"family member\",\"Self\",\"family member\",\"family member\",\"family member\",\"family member\",\"family member\",\"family member\",\"family member\",\"family member\",\"family member\",\"family member\",\"family member\",\"family member\",\"family member\",\"family member\",\"family member\",\"Health Care Professional\",\"family member\",\"family member\",\"family member\",\"family member\",\"family member\",\"family member\",\"family member\",\"family member\",\"family member\",\"family member\",\"family member\",\"family member\",\"family member\",\"family member\",\"family member\",\"family member\",\"family member\",\"family member\",\"family member\",\"family member\",\"family member\",\"family member\",\"family member\",\"family member\",\"family member\",\"family member\",\"family member\",\"family member\",\"Health care professional\",\"family member\",\"family member\",\"Health Care Professional\",\"family member\",\"family member\",\"family member\",\"family member\",\"family member\",\"family member\",\"family member\",\"family member\",\"family member\",\"family member\",\"family member\",\"family member\",\"family member\",\"family member\",\"family member\",\"family member\",\"family member\",\"family member\",\"family member\",\"family member\",\"Health Care Professional\",\"Health Care Professional\",\"family member\",\"family member\",\"family member\",\"family member\",\"family member\",\"family member\",\"family member\",\"family member\",\"family member\",\"family member\",\"family member\",\"family member\",\"family member\",\"family member\",\"family member\",\"family member\",\"family member\",\"family member\",\"family member\",\"family member\",\"family member\",\"family member\",\"family member\",\"family member\",\"family member\",\"family member\",\"family member\",\"family member\",\"family member\",\"family member\",\"family member\",\"family member\",\"family member\",\"family member\",\"family member\",\"family member\",\"family member\",\"family member\",\"family member\",\"family member\",\"family member\",\"family member\",\"family member\",\"family member\",\"family member\",\"family member\",\"family member\",\"family member\",\"family member\",\"family member\",\"family member\",\"family member\",\"family member\",\"family member\",\"family member\",\"family member\",\"family member\",\"family member\",\"family member\",\"family member\",\"family member\",\"family member\",\"family member\",\"family member\",\"family member\",\"family member\",\"family member\",\"family member\",\"family member\",\"family member\",\"Health care professional\",\"family member\",\"family member\",\"family member\",\"family member\",\"family member\",\"family member\",\"family member\",\"family member\",\"family member\",\"family member\",\"family member\",\"family member\",\"family member\",\"family member\",\"family member\",\"family member\",\"family member\",\"family member\",\"family member\",\"family member\",\"family member\",\"family member\",\"family member\",\"family member\",\"family member\",\"family member\",\"family member\",\"family member\",\"family member\",\"family member\",\"family member\",\"family member\",\"family member\",\"family member\",\"family member\",\"family member\",\"family member\",\"family member\",\"family member\",\"family member\",\"family member\",\"family member\",\"family member\",\"family member\",\"family member\",\"family member\",\"family member\",\"family member\",\"family member\",\"family member\",\"family member\",\"family member\",\"family member\",\"family member\",\"family member\",\"family member\",\"family member\",\"family member\",\"family member\",\"family member\",\"family member\",\"family member\",\"family member\",\"family member\",\"family member\",\"family member\",\"Health Care Professional\",\"family member\",\"family member\",\"family member\",\"family member\",\"family member\",\"family member\",\"family member\",\"family member\",\"family member\",\"family member\",\"family member\",\"family member\",\"family member\",\"family member\",\"family member\",\"family member\",\"family member\",\"family member\",\"family member\",\"family member\",\"family member\",\"family member\",\"family member\",\"family member\",\"family member\",\"family member\",\"family member\",\"family member\",\"family member\",\"family member\",\"family member\",\"family member\",\"family member\",\"family member\",\"family member\",\"family member\",\"family member\",\"family member\",\"family member\",\"family member\",\"family member\",\"family member\",\"family member\",\"family member\",\"family member\",\"family member\",\"family member\",\"family member\",\"family member\",\"family member\",\"family member\",\"family member\",\"family member\",\"family member\",\"family member\",\"family member\",\"family member\",\"family member\",\"family member\",\"family member\",\"family member\",\"family member\",\"family member\",\"family member\",\"family member\",\"family member\",\"family member\",\"family member\",\"family member\",\"family member\",\"family member\",\"family member\",\"family member\",\"family member\",\"family member\",\"family member\",\"family member\",\"family member\",\"family member\",\"family member\",\"family member\",\"family member\",\"family member\",\"Health Care Professional\",\"family member\",\"family member\",\"family member\",\"family member\",\"family member\",\"family member\",\"family member\"],\"xaxis\":\"x\",\"yaxis\":\"y\",\"type\":\"histogram\"},{\"alignmentgroup\":\"True\",\"bingroup\":\"x\",\"hovertemplate\":\"target=True\\u003cbr\\u003eWho completed the test=%{x}\\u003cbr\\u003ecount=%{y}\\u003cextra\\u003e\\u003c\\u002fextra\\u003e\",\"legendgroup\":\"True\",\"marker\":{\"color\":\"#EF553B\",\"pattern\":{\"shape\":\"\"}},\"name\":\"True\",\"offsetgroup\":\"True\",\"orientation\":\"v\",\"showlegend\":true,\"x\":[\"family member\",\"family member\",\"family member\",\"family member\",\"family member\",\"family member\",\"family member\",\"Health Care Professional\",\"family member\",\"family member\",\"family member\",\"family member\",\"family member\",\"family member\",\"family member\",\"family member\",\"Health Care Professional\",\"family member\",\"family member\",\"family member\",\"family member\",\"family member\",\"family member\",\"family member\",\"family member\",\"family member\",\"family member\",\"family member\",\"family member\",\"family member\",\"family member\",\"family member\",\"family member\",\"family member\",\"family member\",\"family member\",\"family member\",\"family member\",\"family member\",\"family member\",\"family member\",\"family member\",\"family member\",\"family member\",\"family member\",\"family member\",\"family member\",\"family member\",\"family member\",\"family member\",\"family member\",\"family member\",\"family member\",\"family member\",\"family member\",\"family member\",\"family member\",\"family member\",\"family member\",\"family member\",\"family member\",\"family member\",\"family member\",\"family member\",\"family member\",\"family member\",\"family member\",\"family member\",\"family member\",\"family member\",\"family member\",\"family member\",\"family member\",\"family member\",\"family member\",\"family member\",\"family member\",\"family member\",\"family member\",\"family member\",\"family member\",\"family member\",\"family member\",\"family member\",\"family member\",\"family member\",\"family member\",\"family member\",\"family member\",\"family member\",\"family member\",\"family member\",\"family member\",\"family member\",\"family member\",\"family member\",\"family member\",\"family member\",\"family member\",\"family member\",\"family member\",\"family member\",\"family member\",\"family member\",\"family member\",\"family member\",\"family member\",\"family member\",\"family member\",\"family member\",\"family member\",\"family member\",\"family member\",\"family member\",\"family member\",\"family member\",\"family member\",\"family member\",\"family member\",\"family member\",\"family member\",\"family member\",\"family member\",\"family member\",\"family member\",\"family member\",\"Health Care Professional\",\"family member\",\"family member\",\"family member\",\"family member\",\"family member\",\"family member\",\"family member\",\"family member\",\"family member\",\"family member\",\"family member\",\"family member\",\"family member\",\"family member\",\"family member\",\"Health Care Professional\",\"family member\",\"family member\",\"family member\",\"family member\",\"family member\",\"family member\",\"family member\",\"family member\",\"family member\",\"family member\",\"family member\",\"family member\",\"family member\",\"family member\",\"family member\",\"family member\",\"family member\",\"family member\",\"family member\",\"family member\",\"family member\",\"family member\",\"family member\",\"family member\",\"family member\",\"family member\",\"family member\",\"family member\",\"family member\",\"family member\",\"family member\",\"family member\",\"family member\",\"family member\",\"family member\",\"family member\",\"family member\",\"family member\",\"family member\",\"family member\",\"family member\",\"family member\",\"family member\",\"family member\",\"family member\",\"Health Care Professional\",\"family member\",\"family member\",\"family member\",\"family member\",\"family member\",\"family member\",\"family member\",\"family member\",\"family member\",\"family member\",\"family member\",\"family member\",\"family member\",\"family member\",\"family member\",\"family member\",\"family member\",\"family member\",\"family member\",\"family member\",\"family member\",\"family member\",\"family member\",\"family member\",\"family member\",\"family member\",\"family member\",\"family member\",\"family member\",\"family member\",\"family member\",\"family member\",\"Health Care Professional\",\"family member\",\"family member\",\"Health Care Professional\",\"family member\",\"family member\",\"family member\",\"Health Care Professional\",\"family member\",\"family member\",\"family member\",\"family member\",\"family member\",\"family member\",\"family member\",\"family member\",\"family member\",\"Health Care Professional\",\"family member\",\"family member\",\"family member\",\"family member\",\"family member\",\"family member\",\"family member\",\"family member\",\"family member\",\"family member\",\"family member\",\"family member\",\"family member\",\"family member\",\"family member\",\"family member\",\"family member\",\"family member\",\"family member\",\"family member\",\"family member\",\"family member\",\"family member\",\"family member\",\"family member\",\"family member\",\"family member\",\"family member\",\"Health Care Professional\",\"family member\",\"family member\",\"family member\",\"family member\",\"family member\",\"family member\",\"family member\",\"family member\",\"family member\",\"family member\",\"family member\",\"family member\",\"family member\",\"family member\",\"family member\",\"family member\",\"family member\",\"family member\",\"family member\",\"family member\",\"family member\",\"family member\",\"family member\",\"family member\",\"family member\",\"family member\",\"family member\",\"family member\",\"family member\",\"family member\",\"family member\",\"family member\",\"family member\",\"family member\",\"family member\",\"family member\",\"family member\",\"family member\",\"Others\",\"family member\",\"family member\",\"family member\",\"family member\",\"family member\",\"Health Care Professional\",\"family member\",\"family member\",\"family member\",\"family member\",\"family member\",\"family member\",\"family member\",\"Self\",\"family member\",\"family member\",\"family member\",\"family member\",\"family member\",\"family member\",\"family member\",\"family member\",\"family member\",\"family member\",\"family member\",\"family member\",\"family member\",\"family member\",\"family member\",\"family member\",\"family member\",\"family member\",\"family member\",\"family member\",\"family member\",\"family member\",\"family member\",\"family member\",\"family member\",\"family member\",\"family member\",\"family member\",\"family member\",\"family member\",\"family member\",\"family member\",\"family member\",\"family member\",\"family member\",\"family member\",\"family member\",\"family member\",\"family member\",\"family member\",\"family member\",\"family member\",\"family member\",\"family member\",\"family member\",\"family member\",\"family member\",\"family member\",\"family member\",\"family member\",\"family member\",\"family member\",\"family member\",\"family member\",\"family member\",\"family member\",\"family member\",\"family member\",\"family member\",\"family member\",\"family member\",\"family member\",\"family member\",\"family member\",\"family member\",\"family member\",\"family member\",\"family member\",\"family member\",\"family member\",\"family member\",\"family member\",\"family member\",\"family member\",\"family member\",\"family member\",\"family member\",\"family member\",\"family member\",\"family member\",\"family member\",\"family member\",\"family member\",\"family member\",\"family member\",\"family member\",\"family member\",\"family member\",\"family member\",\"family member\",\"family member\",\"family member\",\"family member\",\"family member\",\"family member\",\"family member\",\"family member\",\"family member\",\"Health care professional\",\"family member\",\"family member\",\"family member\",\"family member\",\"family member\",\"family member\",\"family member\",\"Others\",\"family member\",\"family member\",\"family member\",\"family member\",\"family member\",\"family member\",\"family member\",\"family member\",\"family member\",\"family member\",\"family member\",\"family member\",\"family member\",\"family member\",\"family member\",\"family member\",\"family member\",\"family member\",\"family member\",\"family member\",\"family member\",\"family member\",\"family member\",\"family member\",\"family member\",\"family member\",\"family member\",\"family member\",\"family member\",\"family member\",\"family member\",\"family member\",\"family member\",\"family member\",\"family member\",\"family member\",\"family member\",\"family member\",\"family member\",\"family member\",\"family member\",\"family member\",\"family member\",\"family member\",\"family member\",\"Health Care Professional\",\"family member\",\"family member\",\"family member\",\"family member\",\"family member\",\"family member\",\"family member\",\"family member\",\"family member\",\"family member\",\"family member\",\"family member\",\"family member\",\"family member\",\"family member\",\"family member\",\"family member\",\"family member\",\"family member\",\"family member\",\"family member\",\"family member\",\"family member\",\"family member\",\"family member\",\"family member\",\"family member\",\"family member\",\"family member\",\"family member\",\"family member\",\"family member\",\"family member\",\"family member\",\"family member\",\"Self\",\"family member\",\"family member\",\"family member\",\"family member\",\"family member\",\"family member\",\"family member\",\"family member\",\"family member\",\"Health Care Professional\",\"family member\",\"family member\",\"family member\",\"family member\",\"family member\",\"family member\",\"family member\",\"family member\",\"family member\",\"family member\",\"family member\",\"family member\",\"family member\",\"family member\",\"family member\",\"family member\",\"family member\",\"family member\",\"family member\",\"family member\",\"family member\",\"family member\",\"family member\",\"family member\",\"family member\",\"family member\",\"family member\",\"family member\",\"family member\",\"family member\",\"family member\",\"family member\",\"family member\",\"family member\",\"family member\",\"family member\",\"family member\",\"family member\",\"family member\",\"family member\",\"family member\",\"family member\",\"family member\",\"family member\",\"family member\",\"family member\",\"family member\",\"family member\",\"Health Care Professional\",\"family member\",\"family member\",\"family member\",\"family member\",\"family member\",\"family member\",\"family member\",\"family member\",\"family member\",\"family member\",\"family member\",\"family member\",\"family member\",\"family member\",\"family member\",\"family member\",\"family member\",\"family member\",\"family member\",\"family member\",\"family member\",\"family member\",\"family member\",\"family member\",\"family member\",\"family member\",\"family member\",\"family member\",\"family member\",\"family member\",\"family member\",\"family member\",\"family member\",\"family member\",\"family member\",\"family member\",\"family member\",\"family member\",\"family member\",\"family member\",\"family member\",\"family member\",\"family member\",\"family member\",\"family member\",\"family member\",\"Health Care Professional\",\"family member\",\"family member\",\"family member\",\"family member\",\"family member\",\"family member\",\"family member\",\"Health Care Professional\",\"family member\",\"family member\",\"family member\",\"family member\",\"family member\",\"family member\",\"family member\",\"family member\",\"family member\",\"family member\",\"family member\",\"family member\",\"family member\",\"family member\",\"family member\",\"family member\",\"family member\",\"family member\",\"family member\",\"family member\",\"family member\",\"family member\",\"family member\",\"family member\",\"family member\",\"Health Care Professional\",\"family member\",\"family member\",\"family member\",\"family member\",\"family member\",\"family member\",\"family member\",\"family member\",\"family member\",\"family member\",\"family member\",\"family member\",\"family member\",\"family member\",\"family member\",\"family member\",\"family member\",\"family member\",\"family member\",\"family member\",\"family member\",\"family member\",\"Others\",\"family member\",\"family member\",\"family member\",\"family member\",\"family member\",\"family member\",\"family member\",\"family member\",\"family member\",\"family member\",\"family member\",\"family member\",\"family member\",\"family member\",\"family member\",\"Health care professional\",\"family member\",\"family member\",\"family member\",\"family member\",\"Self\",\"family member\",\"family member\",\"family member\",\"family member\",\"family member\",\"family member\",\"family member\",\"family member\",\"family member\",\"family member\",\"family member\",\"family member\",\"family member\",\"family member\",\"family member\",\"family member\",\"family member\",\"family member\",\"family member\",\"family member\",\"family member\",\"family member\",\"family member\",\"family member\",\"family member\",\"family member\",\"family member\",\"family member\",\"Health Care Professional\",\"family member\",\"family member\",\"family member\",\"family member\",\"family member\"],\"xaxis\":\"x\",\"yaxis\":\"y\",\"type\":\"histogram\"}],                        {\"template\":{\"data\":{\"histogram2dcontour\":[{\"type\":\"histogram2dcontour\",\"colorbar\":{\"outlinewidth\":0,\"ticks\":\"\"},\"colorscale\":[[0.0,\"#0d0887\"],[0.1111111111111111,\"#46039f\"],[0.2222222222222222,\"#7201a8\"],[0.3333333333333333,\"#9c179e\"],[0.4444444444444444,\"#bd3786\"],[0.5555555555555556,\"#d8576b\"],[0.6666666666666666,\"#ed7953\"],[0.7777777777777778,\"#fb9f3a\"],[0.8888888888888888,\"#fdca26\"],[1.0,\"#f0f921\"]]}],\"choropleth\":[{\"type\":\"choropleth\",\"colorbar\":{\"outlinewidth\":0,\"ticks\":\"\"}}],\"histogram2d\":[{\"type\":\"histogram2d\",\"colorbar\":{\"outlinewidth\":0,\"ticks\":\"\"},\"colorscale\":[[0.0,\"#0d0887\"],[0.1111111111111111,\"#46039f\"],[0.2222222222222222,\"#7201a8\"],[0.3333333333333333,\"#9c179e\"],[0.4444444444444444,\"#bd3786\"],[0.5555555555555556,\"#d8576b\"],[0.6666666666666666,\"#ed7953\"],[0.7777777777777778,\"#fb9f3a\"],[0.8888888888888888,\"#fdca26\"],[1.0,\"#f0f921\"]]}],\"heatmap\":[{\"type\":\"heatmap\",\"colorbar\":{\"outlinewidth\":0,\"ticks\":\"\"},\"colorscale\":[[0.0,\"#0d0887\"],[0.1111111111111111,\"#46039f\"],[0.2222222222222222,\"#7201a8\"],[0.3333333333333333,\"#9c179e\"],[0.4444444444444444,\"#bd3786\"],[0.5555555555555556,\"#d8576b\"],[0.6666666666666666,\"#ed7953\"],[0.7777777777777778,\"#fb9f3a\"],[0.8888888888888888,\"#fdca26\"],[1.0,\"#f0f921\"]]}],\"heatmapgl\":[{\"type\":\"heatmapgl\",\"colorbar\":{\"outlinewidth\":0,\"ticks\":\"\"},\"colorscale\":[[0.0,\"#0d0887\"],[0.1111111111111111,\"#46039f\"],[0.2222222222222222,\"#7201a8\"],[0.3333333333333333,\"#9c179e\"],[0.4444444444444444,\"#bd3786\"],[0.5555555555555556,\"#d8576b\"],[0.6666666666666666,\"#ed7953\"],[0.7777777777777778,\"#fb9f3a\"],[0.8888888888888888,\"#fdca26\"],[1.0,\"#f0f921\"]]}],\"contourcarpet\":[{\"type\":\"contourcarpet\",\"colorbar\":{\"outlinewidth\":0,\"ticks\":\"\"}}],\"contour\":[{\"type\":\"contour\",\"colorbar\":{\"outlinewidth\":0,\"ticks\":\"\"},\"colorscale\":[[0.0,\"#0d0887\"],[0.1111111111111111,\"#46039f\"],[0.2222222222222222,\"#7201a8\"],[0.3333333333333333,\"#9c179e\"],[0.4444444444444444,\"#bd3786\"],[0.5555555555555556,\"#d8576b\"],[0.6666666666666666,\"#ed7953\"],[0.7777777777777778,\"#fb9f3a\"],[0.8888888888888888,\"#fdca26\"],[1.0,\"#f0f921\"]]}],\"surface\":[{\"type\":\"surface\",\"colorbar\":{\"outlinewidth\":0,\"ticks\":\"\"},\"colorscale\":[[0.0,\"#0d0887\"],[0.1111111111111111,\"#46039f\"],[0.2222222222222222,\"#7201a8\"],[0.3333333333333333,\"#9c179e\"],[0.4444444444444444,\"#bd3786\"],[0.5555555555555556,\"#d8576b\"],[0.6666666666666666,\"#ed7953\"],[0.7777777777777778,\"#fb9f3a\"],[0.8888888888888888,\"#fdca26\"],[1.0,\"#f0f921\"]]}],\"mesh3d\":[{\"type\":\"mesh3d\",\"colorbar\":{\"outlinewidth\":0,\"ticks\":\"\"}}],\"scatter\":[{\"fillpattern\":{\"fillmode\":\"overlay\",\"size\":10,\"solidity\":0.2},\"type\":\"scatter\"}],\"parcoords\":[{\"type\":\"parcoords\",\"line\":{\"colorbar\":{\"outlinewidth\":0,\"ticks\":\"\"}}}],\"scatterpolargl\":[{\"type\":\"scatterpolargl\",\"marker\":{\"colorbar\":{\"outlinewidth\":0,\"ticks\":\"\"}}}],\"bar\":[{\"error_x\":{\"color\":\"#2a3f5f\"},\"error_y\":{\"color\":\"#2a3f5f\"},\"marker\":{\"line\":{\"color\":\"#E5ECF6\",\"width\":0.5},\"pattern\":{\"fillmode\":\"overlay\",\"size\":10,\"solidity\":0.2}},\"type\":\"bar\"}],\"scattergeo\":[{\"type\":\"scattergeo\",\"marker\":{\"colorbar\":{\"outlinewidth\":0,\"ticks\":\"\"}}}],\"scatterpolar\":[{\"type\":\"scatterpolar\",\"marker\":{\"colorbar\":{\"outlinewidth\":0,\"ticks\":\"\"}}}],\"histogram\":[{\"marker\":{\"pattern\":{\"fillmode\":\"overlay\",\"size\":10,\"solidity\":0.2}},\"type\":\"histogram\"}],\"scattergl\":[{\"type\":\"scattergl\",\"marker\":{\"colorbar\":{\"outlinewidth\":0,\"ticks\":\"\"}}}],\"scatter3d\":[{\"type\":\"scatter3d\",\"line\":{\"colorbar\":{\"outlinewidth\":0,\"ticks\":\"\"}},\"marker\":{\"colorbar\":{\"outlinewidth\":0,\"ticks\":\"\"}}}],\"scattermapbox\":[{\"type\":\"scattermapbox\",\"marker\":{\"colorbar\":{\"outlinewidth\":0,\"ticks\":\"\"}}}],\"scatterternary\":[{\"type\":\"scatterternary\",\"marker\":{\"colorbar\":{\"outlinewidth\":0,\"ticks\":\"\"}}}],\"scattercarpet\":[{\"type\":\"scattercarpet\",\"marker\":{\"colorbar\":{\"outlinewidth\":0,\"ticks\":\"\"}}}],\"carpet\":[{\"aaxis\":{\"endlinecolor\":\"#2a3f5f\",\"gridcolor\":\"white\",\"linecolor\":\"white\",\"minorgridcolor\":\"white\",\"startlinecolor\":\"#2a3f5f\"},\"baxis\":{\"endlinecolor\":\"#2a3f5f\",\"gridcolor\":\"white\",\"linecolor\":\"white\",\"minorgridcolor\":\"white\",\"startlinecolor\":\"#2a3f5f\"},\"type\":\"carpet\"}],\"table\":[{\"cells\":{\"fill\":{\"color\":\"#EBF0F8\"},\"line\":{\"color\":\"white\"}},\"header\":{\"fill\":{\"color\":\"#C8D4E3\"},\"line\":{\"color\":\"white\"}},\"type\":\"table\"}],\"barpolar\":[{\"marker\":{\"line\":{\"color\":\"#E5ECF6\",\"width\":0.5},\"pattern\":{\"fillmode\":\"overlay\",\"size\":10,\"solidity\":0.2}},\"type\":\"barpolar\"}],\"pie\":[{\"automargin\":true,\"type\":\"pie\"}]},\"layout\":{\"autotypenumbers\":\"strict\",\"colorway\":[\"#636efa\",\"#EF553B\",\"#00cc96\",\"#ab63fa\",\"#FFA15A\",\"#19d3f3\",\"#FF6692\",\"#B6E880\",\"#FF97FF\",\"#FECB52\"],\"font\":{\"color\":\"#2a3f5f\"},\"hovermode\":\"closest\",\"hoverlabel\":{\"align\":\"left\"},\"paper_bgcolor\":\"white\",\"plot_bgcolor\":\"#E5ECF6\",\"polar\":{\"bgcolor\":\"#E5ECF6\",\"angularaxis\":{\"gridcolor\":\"white\",\"linecolor\":\"white\",\"ticks\":\"\"},\"radialaxis\":{\"gridcolor\":\"white\",\"linecolor\":\"white\",\"ticks\":\"\"}},\"ternary\":{\"bgcolor\":\"#E5ECF6\",\"aaxis\":{\"gridcolor\":\"white\",\"linecolor\":\"white\",\"ticks\":\"\"},\"baxis\":{\"gridcolor\":\"white\",\"linecolor\":\"white\",\"ticks\":\"\"},\"caxis\":{\"gridcolor\":\"white\",\"linecolor\":\"white\",\"ticks\":\"\"}},\"coloraxis\":{\"colorbar\":{\"outlinewidth\":0,\"ticks\":\"\"}},\"colorscale\":{\"sequential\":[[0.0,\"#0d0887\"],[0.1111111111111111,\"#46039f\"],[0.2222222222222222,\"#7201a8\"],[0.3333333333333333,\"#9c179e\"],[0.4444444444444444,\"#bd3786\"],[0.5555555555555556,\"#d8576b\"],[0.6666666666666666,\"#ed7953\"],[0.7777777777777778,\"#fb9f3a\"],[0.8888888888888888,\"#fdca26\"],[1.0,\"#f0f921\"]],\"sequentialminus\":[[0.0,\"#0d0887\"],[0.1111111111111111,\"#46039f\"],[0.2222222222222222,\"#7201a8\"],[0.3333333333333333,\"#9c179e\"],[0.4444444444444444,\"#bd3786\"],[0.5555555555555556,\"#d8576b\"],[0.6666666666666666,\"#ed7953\"],[0.7777777777777778,\"#fb9f3a\"],[0.8888888888888888,\"#fdca26\"],[1.0,\"#f0f921\"]],\"diverging\":[[0,\"#8e0152\"],[0.1,\"#c51b7d\"],[0.2,\"#de77ae\"],[0.3,\"#f1b6da\"],[0.4,\"#fde0ef\"],[0.5,\"#f7f7f7\"],[0.6,\"#e6f5d0\"],[0.7,\"#b8e186\"],[0.8,\"#7fbc41\"],[0.9,\"#4d9221\"],[1,\"#276419\"]]},\"xaxis\":{\"gridcolor\":\"white\",\"linecolor\":\"white\",\"ticks\":\"\",\"title\":{\"standoff\":15},\"zerolinecolor\":\"white\",\"automargin\":true,\"zerolinewidth\":2},\"yaxis\":{\"gridcolor\":\"white\",\"linecolor\":\"white\",\"ticks\":\"\",\"title\":{\"standoff\":15},\"zerolinecolor\":\"white\",\"automargin\":true,\"zerolinewidth\":2},\"scene\":{\"xaxis\":{\"backgroundcolor\":\"#E5ECF6\",\"gridcolor\":\"white\",\"linecolor\":\"white\",\"showbackground\":true,\"ticks\":\"\",\"zerolinecolor\":\"white\",\"gridwidth\":2},\"yaxis\":{\"backgroundcolor\":\"#E5ECF6\",\"gridcolor\":\"white\",\"linecolor\":\"white\",\"showbackground\":true,\"ticks\":\"\",\"zerolinecolor\":\"white\",\"gridwidth\":2},\"zaxis\":{\"backgroundcolor\":\"#E5ECF6\",\"gridcolor\":\"white\",\"linecolor\":\"white\",\"showbackground\":true,\"ticks\":\"\",\"zerolinecolor\":\"white\",\"gridwidth\":2}},\"shapedefaults\":{\"line\":{\"color\":\"#2a3f5f\"}},\"annotationdefaults\":{\"arrowcolor\":\"#2a3f5f\",\"arrowhead\":0,\"arrowwidth\":1},\"geo\":{\"bgcolor\":\"white\",\"landcolor\":\"#E5ECF6\",\"subunitcolor\":\"white\",\"showland\":true,\"showlakes\":true,\"lakecolor\":\"white\"},\"title\":{\"x\":0.05},\"mapbox\":{\"style\":\"light\"}}},\"xaxis\":{\"anchor\":\"y\",\"domain\":[0.0,1.0],\"title\":{\"text\":\"Who completed the test\"}},\"yaxis\":{\"anchor\":\"x\",\"domain\":[0.0,1.0],\"title\":{\"text\":\"count\"}},\"legend\":{\"title\":{\"text\":\"target\"},\"tracegroupgap\":0},\"margin\":{\"t\":60},\"barmode\":\"relative\"},                        {\"responsive\": true}                    ).then(function(){\n",
       "                            \n",
       "var gd = document.getElementById('7cbcbdc5-3f6b-4e59-9b2f-1a746d07882b');\n",
       "var x = new MutationObserver(function (mutations, observer) {{\n",
       "        var display = window.getComputedStyle(gd).display;\n",
       "        if (!display || display === 'none') {{\n",
       "            console.log([gd, 'removed!']);\n",
       "            Plotly.purge(gd);\n",
       "            observer.disconnect();\n",
       "        }}\n",
       "}});\n",
       "\n",
       "// Listen for the removal of the full notebook cells\n",
       "var notebookContainer = gd.closest('#notebook-container');\n",
       "if (notebookContainer) {{\n",
       "    x.observe(notebookContainer, {childList: true});\n",
       "}}\n",
       "\n",
       "// Listen for the clearing of the current output cell\n",
       "var outputEl = gd.closest('.output');\n",
       "if (outputEl) {{\n",
       "    x.observe(outputEl, {childList: true});\n",
       "}}\n",
       "\n",
       "                        })                };                });            </script>        </div>"
      ]
     },
     "metadata": {},
     "output_type": "display_data"
    }
   ],
   "source": [
    "import warnings\n",
    "from plotly import express\n",
    "warnings.filterwarnings(action='ignore', category=FutureWarning)\n",
    "\n",
    "columns = ['Age_Mons','Sex', 'Ethnicity', 'Jaundice', 'Family_mem_with_ASD', 'Who completed the test',]\n",
    "for x in columns:\n",
    "    express.histogram(data_frame=df, x=x, color='target').show()"
   ]
  },
  {
   "cell_type": "markdown",
   "id": "aec1bc27",
   "metadata": {
    "papermill": {
     "duration": 0.00448,
     "end_time": "2024-03-16T12:55:40.847317",
     "exception": false,
     "start_time": "2024-03-16T12:55:40.842837",
     "status": "completed"
    },
    "tags": []
   },
   "source": [
    "We don't have an enormous amount of data so let's use dimension reduction to see if it clusters."
   ]
  },
  {
   "cell_type": "code",
   "execution_count": 4,
   "id": "224a98c8",
   "metadata": {
    "execution": {
     "iopub.execute_input": "2024-03-16T12:55:40.858327Z",
     "iopub.status.busy": "2024-03-16T12:55:40.858002Z",
     "iopub.status.idle": "2024-03-16T12:55:40.864664Z",
     "shell.execute_reply": "2024-03-16T12:55:40.863740Z"
    },
    "papermill": {
     "duration": 0.014873,
     "end_time": "2024-03-16T12:55:40.866930",
     "exception": false,
     "start_time": "2024-03-16T12:55:40.852057",
     "status": "completed"
    },
    "tags": []
   },
   "outputs": [
    {
     "data": {
      "text/plain": [
       "Index(['A1', 'A2', 'A3', 'A4', 'A5', 'A6', 'A7', 'A8', 'A9', 'A10', 'Age_Mons',\n",
       "       'Qchat-10-Score', 'Sex', 'Ethnicity', 'Jaundice', 'Family_mem_with_ASD',\n",
       "       'Who completed the test', 'Class/ASD Traits ', 'target', 'male',\n",
       "       'jaundice', 'family'],\n",
       "      dtype='object')"
      ]
     },
     "execution_count": 4,
     "metadata": {},
     "output_type": "execute_result"
    }
   ],
   "source": [
    "df.columns"
   ]
  },
  {
   "cell_type": "code",
   "execution_count": 5,
   "id": "c1d024bc",
   "metadata": {
    "execution": {
     "iopub.execute_input": "2024-03-16T12:55:40.878511Z",
     "iopub.status.busy": "2024-03-16T12:55:40.877844Z",
     "iopub.status.idle": "2024-03-16T12:56:15.081613Z",
     "shell.execute_reply": "2024-03-16T12:56:15.080339Z"
    },
    "papermill": {
     "duration": 34.211953,
     "end_time": "2024-03-16T12:56:15.084080",
     "exception": false,
     "start_time": "2024-03-16T12:55:40.872127",
     "status": "completed"
    },
    "tags": []
   },
   "outputs": [
    {
     "name": "stderr",
     "output_type": "stream",
     "text": [
      "2024-03-16 12:55:56.993005: E external/local_xla/xla/stream_executor/cuda/cuda_dnn.cc:9261] Unable to register cuDNN factory: Attempting to register factory for plugin cuDNN when one has already been registered\n",
      "2024-03-16 12:55:56.993108: E external/local_xla/xla/stream_executor/cuda/cuda_fft.cc:607] Unable to register cuFFT factory: Attempting to register factory for plugin cuFFT when one has already been registered\n",
      "2024-03-16 12:55:57.142522: E external/local_xla/xla/stream_executor/cuda/cuda_blas.cc:1515] Unable to register cuBLAS factory: Attempting to register factory for plugin cuBLAS when one has already been registered\n"
     ]
    },
    {
     "name": "stdout",
     "output_type": "stream",
     "text": [
      "UMAP(n_epochs=100, n_jobs=1, random_state=2024, transform_seed=2024, verbose=True)\n",
      "Sat Mar 16 12:56:07 2024 Construct fuzzy simplicial set\n",
      "Sat Mar 16 12:56:08 2024 Finding Nearest Neighbors\n",
      "Sat Mar 16 12:56:11 2024 Finished Nearest Neighbor Search\n",
      "Sat Mar 16 12:56:13 2024 Construct embedding\n"
     ]
    },
    {
     "data": {
      "application/vnd.jupyter.widget-view+json": {
       "model_id": "286fc5068b5949f0ad1caee28228fc3a",
       "version_major": 2,
       "version_minor": 0
      },
      "text/plain": [
       "Epochs completed:   0%|            0/100 [00:00]"
      ]
     },
     "metadata": {},
     "output_type": "display_data"
    },
    {
     "name": "stdout",
     "output_type": "stream",
     "text": [
      "\tcompleted  0  /  100 epochs\n",
      "\tcompleted  10  /  100 epochs\n",
      "\tcompleted  20  /  100 epochs\n",
      "\tcompleted  30  /  100 epochs\n",
      "\tcompleted  40  /  100 epochs\n",
      "\tcompleted  50  /  100 epochs\n",
      "\tcompleted  60  /  100 epochs\n",
      "\tcompleted  70  /  100 epochs\n",
      "\tcompleted  80  /  100 epochs\n",
      "\tcompleted  90  /  100 epochs\n",
      "Sat Mar 16 12:56:14 2024 Finished embedding\n"
     ]
    },
    {
     "data": {
      "text/html": [
       "<div>                            <div id=\"8baebf9d-a1f6-4bd5-9c93-e8257f59f259\" class=\"plotly-graph-div\" style=\"height:800px; width:100%;\"></div>            <script type=\"text/javascript\">                require([\"plotly\"], function(Plotly) {                    window.PLOTLYENV=window.PLOTLYENV || {};                                    if (document.getElementById(\"8baebf9d-a1f6-4bd5-9c93-e8257f59f259\")) {                    Plotly.newPlot(                        \"8baebf9d-a1f6-4bd5-9c93-e8257f59f259\",                        [{\"hovertemplate\":\"target=False\\u003cbr\\u003ex=%{x}\\u003cbr\\u003ey=%{y}\\u003cextra\\u003e\\u003c\\u002fextra\\u003e\",\"legendgroup\":\"False\",\"marker\":{\"color\":\"#636efa\",\"symbol\":\"circle\"},\"mode\":\"markers\",\"name\":\"False\",\"showlegend\":true,\"x\":[11.725634,3.9593225,-1.0587251,-2.5139835,-2.5751197,-2.6286166,10.877164,1.4338138,-4.719174,-2.2886436,-4.7408295,-4.8317437,-0.73087454,-2.2788997,-2.2831757,-2.2437553,-4.8529177,-2.263148,-2.2469933,-2.2458096,-2.3563282,1.8531775,1.3916125,-4.8912344,-2.441966,-2.4354138,-4.6831117,-4.823851,-2.379275,-2.455246,10.156883,-5.0592656,-5.0398803,-4.8925714,11.323616,-2.5954175,5.314228,1.7607772,6.972521,14.143666,14.115523,9.577495,9.958672,10.250299,2.336665,10.422757,9.974039,10.619558,10.333485,5.2587676,9.860429,5.3722844,9.822608,5.2738943,-4.3746433,12.493149,10.095664,10.521862,1.7884661,6.1717353,2.1967793,13.964404,1.6208622,9.661822,9.590874,5.436916,6.364157,4.8645735,9.595571,1.5680789,13.852417,10.078102,7.198268,-4.436792,13.9026575,12.958509,9.554946,9.527586,14.167304,1.6661099,4.2940006,13.509972,13.613994,9.736588,9.691025,9.830214,9.827963,-3.7026653,9.8008375,10.418664,9.56248,10.103486,10.136909,5.0113997,7.909071,11.808265,10.546302,13.695103,10.299505,10.556729,-4.9519877,6.1205792,12.258528,10.630061,10.287761,-0.8337915,4.8600187,9.506369,4.356452,10.590081,-0.2176931,11.567752,8.700308,11.46326,10.754897,-2.3598177,10.369237,2.423704,9.782643,9.523664,10.517699,7.293879,2.9303207,10.133524,-2.655352,5.1689596,13.3854265,13.647367,10.837788,-5.1501145,-5.1430182,14.196423,10.579871,5.466444,10.400015,9.361963,9.683606,9.762494,14.373697,8.376679,8.397333,6.5196276,10.607995,2.4501007,5.3959203,10.32779,9.7471895,-2.5905905,11.304545,12.182603,-0.8564566,9.462434,9.337282,10.181368,14.317058,-2.4107792,10.348685,11.668699,-2.1222556,13.62543,2.121203,-2.0819626,11.469208,11.452469,1.3583378,3.891335,9.962599,10.199699,5.0784855,10.827376,13.073636,9.982098,11.299801,11.467764,11.911275,-2.5722876,-2.0916831,13.973113,10.42214,12.339824,10.128606,10.897964,10.799231,13.939158,9.332305,-1.7647996,13.764267,10.158071,9.8576975,9.202412,9.558173,14.133232,10.835574,12.768976,9.7772665,13.129966,3.4023893,12.820301,13.937864,10.173827,10.76148,5.28034,4.922316,5.370342,3.7010458,11.150788,11.350074,5.535677,10.483853,10.599457,5.297494,13.0104065,9.173331,9.598315,3.9756036,6.3706546,13.44359,9.427433,14.0868845,5.6165876,-2.8331735,-2.2029645,10.4071,1.228714,1.2373409,9.703388,3.2815225,13.866376,-0.76601344,-2.6882272,10.447964,10.021875,10.349645,10.870238,9.505916,10.036082,10.605516,10.693755,10.627238,9.904768,3.042271,-0.15946493,9.776831,-0.8332228,11.872061,11.367769,2.6665251,5.8199906,4.97243,2.0391464,5.697663,11.979094,14.059087,6.3815145,-2.4156137,-0.8381877,10.122429,10.156944,10.453004,7.44753,9.211586,2.6948762,2.7534723,9.761386,14.168034,11.354106,7.0413966,10.61072,3.5620131,10.13205,11.709305,9.80909,5.515075,9.671483,5.6601696,9.5885725,9.147482,3.6909165,5.3887606,10.257537,8.162404,10.54225,9.897053,-3.9526007,-3.7036564,2.404496,12.713252,12.820646,13.685521,10.688615,2.0509834,-4.235064,-4.743328,-4.4052715,-2.4706197,12.5819435,9.153113,9.913431,11.118409,-0.48907515,10.992696,9.448687,10.889974,10.349072,10.667476,13.269254,13.409953,10.79926,10.84097,10.843903,10.448184,11.442901,-2.562182,12.306255,3.261997,13.98373,10.1694355,11.895388,8.448686,1.7015437,7.141439,6.067899,10.609234,5.820657,-3.3320992,4.883778],\"xaxis\":\"x\",\"y\":[11.083511,-0.6660314,4.040569,6.0379047,6.053486,6.084026,9.446081,0.5562353,6.284123,3.6903265,6.251982,6.293638,4.176473,3.6041625,3.5786896,3.588056,6.2764654,3.5832915,3.5538583,3.5518944,3.719655,0.19891825,0.5892046,6.2473054,3.7761009,3.7772307,6.372531,6.283013,3.605954,5.982924,9.994426,5.984569,6.0023866,6.243712,10.063253,6.0562687,-3.0222733,1.4827226,-2.6020317,11.719816,11.66572,1.277766,1.3994838,-0.7834392,-0.14526558,4.7282,4.277949,3.7172267,4.1136265,-1.9229423,1.5753521,-2.9524426,1.5265151,-1.8546075,6.387277,11.212228,2.9537935,-0.58530915,1.3992349,-3.3041992,0.7710139,11.545379,1.5304967,4.4582453,4.5401945,-1.6136365,-3.1643305,-1.2655939,1.349342,0.4002891,12.250762,4.0197005,-1.9767355,6.3993487,12.149412,12.060831,1.3356475,1.4076003,11.718197,0.48216507,-1.094252,12.242715,12.246864,4.3995423,4.4557753,4.6090903,4.6097174,6.2925334,4.4811993,1.2429984,8.3315525,1.853161,1.8804684,-2.251502,-2.555421,12.107818,9.377825,11.412569,1.1687202,10.552457,5.962562,-1.7744797,10.886306,9.050701,1.5612475,4.2334304,-1.8495059,8.606413,-1.7036135,4.0592446,4.4669576,10.479649,-2.221459,12.739242,3.740316,5.9451437,1.7346308,0.3814469,4.256949,9.4334545,4.379144,-2.1828213,-0.7878061,0.6324454,5.963767,-2.5488982,11.70891,11.738048,4.175131,5.864925,5.89488,11.699395,4.820887,-1.6531217,4.52143,8.583809,1.3000169,1.1985263,11.593545,-2.58032,-2.5065508,-3.0016198,3.8491435,0.024256863,-1.7688957,10.322984,4.0200686,6.082994,10.006784,11.92992,4.2223697,8.694236,8.587413,1.0397334,11.787963,5.982141,-0.94284767,12.430516,3.7906377,11.581252,0.9410849,5.778713,12.720984,12.772098,1.0502019,-0.9205794,9.334181,-1.6816068,-1.7951388,3.6668541,11.514042,0.6886253,11.472628,12.701852,10.354012,6.0661187,5.7747893,11.487444,4.589998,10.889375,9.655534,10.42382,-0.38705784,12.329943,8.556904,3.6661437,11.845613,1.9151727,1.571244,9.625489,9.887641,12.033583,9.892895,11.582006,-1.9168037,11.9846945,-1.3817192,11.664483,12.553652,2.6636674,4.080617,-1.8928846,-1.9277492,-2.8376238,-0.9016451,11.468741,9.954028,-1.7816429,3.654168,0.5320363,-2.3348618,11.4483,-2.0382814,0.53297865,-1.6429064,-3.473717,12.166714,9.490667,12.568552,-2.4468377,5.91548,3.6596005,1.2774726,0.8268021,0.81366885,-0.43699664,-1.3793613,12.432988,4.218457,6.067931,-0.6879381,9.221041,-1.4091187,5.2414627,8.960423,8.585534,0.8864652,10.760083,1.4601686,-1.5882053,-1.1219212,4.6782656,10.228753,4.231133,11.423974,10.404867,0.025943372,-3.089734,-2.1437042,1.0092657,-3.0164244,10.336515,11.594606,-3.1839256,3.851401,4.303086,1.8012297,1.8802342,-1.2528495,-2.5536478,8.609892,-0.6503114,-0.72337997,-1.9082003,12.254584,11.312622,-2.0780964,9.0082855,-0.36901218,0.30625403,10.901041,10.098348,-1.6234576,4.8454547,-1.4981695,0.23473044,8.849127,-0.38048023,-2.9495327,-0.72520953,-2.642861,3.579542,9.783067,6.3677773,6.224198,-0.17405333,11.958464,12.029996,11.618456,3.7319746,0.06319106,6.391266,6.403484,6.337813,6.0272784,11.947358,-2.0432894,9.229002,11.168137,4.153487,5.4003334,1.2075604,9.170691,-0.48763415,-0.0068265283,12.016108,11.585902,4.5142074,5.4483438,3.6235669,-0.53728014,10.446107,6.075784,10.717856,-1.4483712,11.428684,-0.49638513,10.226379,-2.5251663,1.3482796,-2.514196,-3.1894238,-0.5728738,-3.3171232,6.1573644,-1.8003463],\"yaxis\":\"y\",\"type\":\"scattergl\"},{\"hovertemplate\":\"target=True\\u003cbr\\u003ex=%{x}\\u003cbr\\u003ey=%{y}\\u003cextra\\u003e\\u003c\\u002fextra\\u003e\",\"legendgroup\":\"True\",\"marker\":{\"color\":\"#EF553B\",\"symbol\":\"circle\"},\"mode\":\"markers\",\"name\":\"True\",\"showlegend\":true,\"x\":[12.318602,5.546147,2.7425718,3.7095227,10.607939,10.344584,13.247262,10.081281,1.5955908,6.1906023,1.3787781,14.169875,9.577848,9.9188795,9.588403,9.344058,9.536605,3.9504647,5.8096595,9.407553,9.55012,10.09361,-2.322446,-4.863653,10.432957,6.617217,-2.3121176,10.578695,13.001335,11.776542,9.558803,10.523487,10.690001,3.6131475,9.726912,2.0559301,14.088218,10.845027,10.291303,10.070438,4.549651,3.0494733,10.656359,9.853187,14.12351,-4.990746,10.3821335,9.872739,9.9390335,10.619184,10.137342,6.4280524,3.2416813,11.537458,13.910466,10.084527,10.832065,10.190968,10.385045,8.610386,8.155502,8.149563,6.3274803,10.916655,6.0688944,11.090324,11.394327,2.370794,9.642339,9.633039,12.783495,9.603233,6.518416,4.761269,5.518909,11.856777,13.028808,4.8938694,-4.6971316,10.041633,10.182524,9.349087,5.644356,10.094276,9.0742,10.586503,4.2204566,-3.3235617,10.314737,3.1103988,-4.871234,9.780352,10.160178,-4.4795933,10.449367,9.826551,8.024359,13.667723,10.4159,2.92631,2.490483,11.664023,10.219831,10.561521,10.513923,10.046855,9.579565,-1.6392719,9.285587,11.207922,-2.1133554,11.18484,-0.79629046,6.1221557,13.282244,4.1616116,4.2577763,10.130249,8.342654,3.6506898,3.9719791,9.693005,-2.061722,2.4974065,3.8760898,10.346405,10.296465,9.473224,2.908529,12.827309,11.269056,-4.7069545,10.14,10.178004,2.1600142,2.0927029,1.5633816,10.27741,10.782633,10.336206,1.8211615,6.6651015,5.55182,10.333132,9.744187,10.761758,10.763029,9.715523,13.65194,7.6922374,9.439505,10.351561,10.464138,5.593727,11.21006,11.157035,10.444209,14.181887,11.468758,10.535333,9.778004,9.51887,6.150212,10.227972,8.669982,-0.9236706,10.417293,9.956128,5.9430017,4.483102,12.072858,6.6798077,13.550343,2.4837945,10.249452,-4.3593893,10.123347,1.7496731,5.7502866,2.0094304,6.844707,4.9810905,3.790909,9.515524,14.068358,10.7916765,11.234407,9.8545265,10.7471895,10.633883,7.0222445,14.164806,7.4656515,-0.16241401,-1.3147883,8.569283,5.583016,-2.5096219,10.849839,10.553578,4.2963185,9.94138,-5.0630107,9.610241,10.612072,7.4232674,12.23178,13.237327,13.216939,9.380287,10.173512,11.386571,10.225179,-2.4477272,10.6759615,10.758013,10.899321,10.517455,11.624274,-5.1534305,13.244943,-0.8468375,-0.94223917,9.367826,1.6085532,10.168053,10.622981,11.524021,9.537034,13.251562,9.366289,11.266786,7.8527374,9.318432,1.4365835,9.977199,10.133926,9.844723,10.582209,10.21266,9.774525,9.455906,5.390573,14.21442,7.104055,12.937729,11.773192,12.309238,11.054103,12.267326,9.599085,14.276317,6.969164,10.249574,5.4032974,9.292913,-4.997558,5.486975,9.573112,9.50286,9.795408,10.107047,9.673394,8.594455,9.798305,11.618011,9.7691,8.192559,10.129482,10.288106,10.766244,10.118076,12.013779,1.6859424,12.168472,-4.2895684,7.3270006,-4.6526384,13.616079,9.259038,12.090074,12.81325,5.7208304,-0.88770926,-0.8954001,7.055972,11.296302,11.926306,8.559106,9.164665,11.883981,11.46876,2.1219087,5.237455,10.176381,10.684553,9.630848,14.290828,11.321807,11.530402,-2.066038,5.0810733,11.105755,-1.9438347,6.2032056,11.246066,12.357585,10.527262,11.527567,1.2237117,2.2581549,11.7622175,-2.2826526,10.17203,10.126627,10.079031,10.23247,7.1943645,10.281464,10.264644,10.549203,-4.934108,9.290855,9.0668545,8.449378,10.815713,-4.0758066,9.697779,7.2551475,6.3026342,11.863815,-2.5947745,9.943196,11.537028,12.27479,12.350331,9.857569,10.679167,10.640082,-4.909558,9.346765,11.471899,7.0499587,4.051211,6.0995836,2.2064612,5.727322,3.4661055,2.79516,9.9648485,-4.8004756,10.541749,10.639911,1.6603469,-4.970594,-5.1959076,-2.123133,13.905023,10.517197,9.75874,6.474265,6.3809934,5.561659,11.004177,13.843939,10.88644,1.9874161,-3.1246018,11.823715,-5.0180335,10.713105,11.690428,10.843973,4.017097,4.052918,12.830672,10.529683,12.253872,10.761676,13.899785,4.2373357,11.703066,10.309422,10.491789,13.955451,10.508979,11.069006,4.920455,4.8992453,4.941277,10.590918,7.2873874,-2.244289,8.522359,4.1944766,10.5442505,10.898418,9.146609,11.474668,10.582915,11.720141,11.4636965,12.906393,13.925855,9.3372135,7.081715,9.389251,12.027963,9.30487,9.311848,13.061391,13.103797,9.368829,10.029756,6.760166,6.3856144,2.4227881,2.3265858,2.481546,9.926758,9.971996,9.890288,10.224123,10.203676,10.423081,10.328654,10.566833,9.588799,3.772183,3.1443543,12.876849,9.254154,11.152377,10.209162,5.2815204,6.14115,6.7162437,9.5304785,10.908326,-4.5562224,6.1928263,4.962434,9.704694,10.181221,5.3128095,5.308537,-0.40039328,-4.593801,3.6836905,10.503752,1.9222832,10.087743,10.516012,5.0839624,3.8000472,14.026497,-0.2465158,9.7988615,14.085532,-0.8847999,-0.8496527,6.817424,9.896983,5.3636217,10.919178,10.869826,5.461004,-5.0649977,1.5331594,2.0249634,2.0657196,9.650802,10.718859,-1.0192986,-0.4992058,-0.84980065,9.521053,9.442497,10.638001,2.7325618,10.87477,13.698956,10.568636,-1.0346144,14.279228,-4.4127793,9.902439,-0.28876695,-0.16085301,8.076543,3.788652,11.672488,14.304888,10.741972,1.2360464,7.0247946,4.010324,3.2968147,6.5327587,10.821452,-4.856201,8.82447,9.994984,9.658044,10.034621,13.93619,9.874556,3.0921617,10.228016,11.013652,10.645523,3.0716054,-2.2983932,7.042236,10.901639,9.595476,9.69794,14.034505,-2.4152575,12.509146,10.641592,4.1495695,13.167238,-0.58810204,10.8608,-0.16724202,8.358545,9.931535,-0.16034208,-2.284397,1.1988262,10.10448,7.1494555,-0.64284116,-2.6403053,-1.5850565,10.044583,10.839175,5.352283,3.7145534,12.881997,10.440089,12.727132,9.835924,11.541159,12.341407,9.811432,10.739047,11.6950035,10.445854,10.215357,10.290314,7.988432,5.5568933,5.4262815,4.129148,10.584881,-2.0162053,14.260718,11.538098,11.587483,-0.5629891,5.438163,12.885381,10.054835,10.312955,6.1157956,11.775384,10.686173,1.7820226,13.174008,9.655783,-0.17636932,12.059747,9.261802,2.1237588,10.164885,10.463764,8.404391,8.704124,10.030904,11.4234295,1.798505,2.7239127,10.755014,10.780866,2.5467408,1.7781535,5.505354,14.064549,3.7265697,10.645698,1.9588332,-0.6240664,7.005698,5.4686933,10.497623,-4.6533365,10.703222,13.950447,10.809895,9.52712,11.426089,14.162735,10.520767,10.612669,10.7002,7.104348,-4.92561,12.306979,5.6704597,14.192207,12.094737,10.072607,9.579501,5.577645,2.911131,9.837356,6.3593245,10.590763,7.339299,4.517241,4.5841203,9.879818,3.7597573,10.534851,10.505916,6.8943686,8.367105,6.3428326,10.4163885,-3.0581877,-0.15981366,4.201099,5.600202,9.504901,-4.6097307,9.458902,12.626676,-4.116068,10.269454,11.332691,-3.7364442,-3.7514744,-3.8211443,10.948472,1.7571176,2.0294187,11.750604,-0.120925866,10.690337,11.016638,5.702217,9.152677,10.468304,10.907068,1.3199441,4.1138644,10.298105,13.068251,8.532644,7.3746524,7.022478,12.099353,9.839707,1.9080044,12.268606,9.461262,9.778135,5.4845543,12.157375,5.622107,-1.706352,5.5771737,9.654517,4.7443,11.62499,9.509639,10.866721,5.2058167,4.6603084,-4.1795907,11.775918,9.592434,9.714411,10.807789,10.083614,5.617735,12.529121,14.478523,4.735547,14.055756,11.253026,8.391349,9.382636,5.2746415,5.201805,9.99347,5.4454436,10.629364,11.406572,10.048921,10.170378,5.3577166,11.917416,11.941155,3.0132825,1.5525937,14.2655115,13.961247,3.5416873,9.706694,11.758162,10.575479,-2.0149326,-1.0448569,-4.243558,6.886646,6.058198,6.278909,6.2896094,10.673408,5.5351863,10.093069,9.421853,1.7708539,1.6444155,null],\"xaxis\":\"x\",\"y\":[11.109421,-1.6483119,0.21710631,-0.4661575,4.498577,4.2702503,11.545482,9.5906315,1.4302822,-3.3136127,0.61713696,11.818262,0.8952909,10.02463,9.713992,9.253357,9.540323,-0.7994466,-3.3166566,8.520875,9.386403,2.6438093,3.6492708,6.270232,3.7446187,-2.1427743,3.6829228,0.61806756,12.042973,11.426662,1.1518793,4.8230414,4.80571,-0.38879415,1.2498034,0.9390023,11.635912,9.303995,0.23349175,1.0904615,-1.4811735,-1.0303769,4.968169,4.375993,12.209067,6.1703024,4.979863,4.4365096,1.4386989,10.856832,1.584212,-1.847267,-1.2800043,10.112924,12.010875,2.9535344,4.2576427,3.5111012,-1.2777405,-2.326241,-2.3085623,-2.643653,-3.3003545,10.747267,-3.3692634,10.044644,10.105549,0.5108855,4.383384,4.732911,11.967648,8.589337,-3.234814,-1.2431122,-1.9324244,10.250125,12.0642395,-1.2783735,6.3150864,3.866476,3.9619493,8.585183,-1.6757946,-1.1299816,9.075914,-0.5276216,-0.8928034,6.164519,-1.3721998,-0.8294317,6.3021536,4.3911967,1.6822182,6.286691,-0.51603705,3.9045587,-2.7017064,11.617018,9.510272,0.031117769,0.38965812,11.329046,8.857791,-0.19998208,0.18043311,4.2895436,9.250889,3.8059824,8.733188,11.50113,3.676593,9.966723,4.110481,-2.816974,11.748208,-0.8673851,-0.95042104,9.872236,-2.5521483,-0.42522815,-0.71252555,1.270913,5.7634425,0.38136724,-0.5965145,4.2735176,4.2035875,8.489319,0.040475555,11.995463,11.439508,6.3317122,1.8861195,1.7047195,0.80340374,0.8493334,0.39378804,-1.5909271,10.105288,-1.5878472,1.3025761,-3.0574844,-2.3848786,10.0821,8.90246,-0.20820785,-0.25680554,8.691214,11.776723,-2.5105464,9.539689,0.3069793,0.8322449,-3.2161324,11.458053,11.538829,-0.3263152,11.651048,12.717543,3.7551281,9.966068,8.9889345,-3.3212159,-1.6296955,-1.8896298,4.2467957,9.161622,-1.7875078,-3.1438794,-1.4646618,11.338053,-2.6172314,12.210444,-0.06961476,0.7588546,6.272137,2.5986588,1.4422258,-1.7014452,1.0143561,-1.9032291,-1.3378296,-0.6803657,9.551352,11.73237,4.3002367,11.146962,9.9679575,10.5056505,3.6736317,-1.9687942,12.087031,-1.989708,4.683516,3.8001432,-2.3426065,-3.2161684,6.029573,3.913374,1.8188995,-1.7224057,0.4970974,5.955715,9.904949,8.954002,-2.082528,10.856455,11.780704,11.730705,8.567212,-1.6306219,9.992559,-1.6353177,6.044015,10.691104,10.491078,11.004916,10.781055,11.287709,5.8808913,11.882098,4.4152036,4.404934,8.622086,0.32270098,10.081614,4.0974483,10.347873,8.601138,11.922489,8.55498,9.683236,-2.3487203,8.567219,1.1637801,10.3217945,0.16331266,4.269743,9.060474,0.25737232,1.288032,1.158573,-1.6729994,11.669487,-2.3285625,11.584416,11.416511,10.786123,10.045971,11.269922,8.646228,12.175979,-2.916805,2.801938,-1.7710788,8.5591345,6.099406,-1.7455238,9.853529,9.821082,1.3081605,3.962828,9.70792,-1.7892292,0.50108945,10.416058,4.103563,-2.5777104,0.6342639,4.9805284,10.048111,0.32145554,12.018022,1.1429619,10.839857,6.5378623,-2.286509,6.4899697,12.164726,8.671991,10.61641,11.178505,-2.8985872,4.411907,4.4119916,-2.1499197,9.83549,10.230581,-2.2143912,-1.9556664,11.67312,10.5087595,0.9081253,-1.937859,0.86776704,3.7025373,8.454476,11.612638,12.859421,12.58908,3.576151,-2.100083,10.161803,5.6907873,-3.10316,10.089483,11.255032,9.182605,12.670121,0.91031015,0.6575223,10.9981165,3.5061429,-1.6683105,0.66999996,0.6773043,-1.716601,-2.3055174,-1.6507376,9.210547,10.509307,6.1162148,8.583537,-2.1606147,-2.522485,4.7068815,6.350291,0.28693748,-2.4642746,-1.7135572,11.006066,6.0640845,9.3888,12.175668,11.482929,11.606644,5.140673,10.214038,0.10090449,6.31714,8.529305,12.696631,-1.9546242,-0.7285835,-2.6724346,0.791749,-1.7194153,-0.3556104,0.2271933,0.17821497,6.061256,0.36226618,0.34731287,1.2594643,6.2136626,5.8245807,5.7919545,11.876431,4.607223,4.453679,-2.7086492,-2.898536,-1.6936729,9.482257,11.858074,10.458835,1.1192298,6.1182404,10.596204,6.180879,8.991603,11.176,4.3051033,-0.61853415,-0.49480978,12.060272,0.019991621,10.749476,10.083095,12.310646,-1.6418102,10.902776,-1.5800933,9.200452,11.378588,8.873773,10.498784,-1.9394298,-2.033888,-1.9860814,0.027674196,-2.2451699,5.880411,-2.460621,-1.6873717,10.315373,5.1219096,9.208399,10.493853,9.982074,10.830825,10.45464,12.010213,12.382458,8.734122,-2.7563534,9.235349,11.796471,8.541447,8.608656,11.524332,11.990649,8.397005,0.4545334,-2.8904407,-1.9563861,0.51284313,0.62125087,0.14402746,-1.8834842,-1.8185873,-1.8718735,-1.7468512,-1.6901971,9.357367,-1.0058712,-0.5824572,-1.9732467,-0.8041445,-1.2091109,11.903074,8.476712,11.4692335,4.4680457,-2.5111692,-1.7519143,-2.420551,1.3751999,10.8116255,6.394276,-3.1842666,-1.9035207,0.43867424,-1.7248958,-2.7877307,-2.763878,4.1493926,6.4977274,-1.0140274,3.6602702,1.375531,-1.8097078,4.3125052,-1.9055274,-0.7719808,11.528157,4.641269,1.3766017,12.173634,4.4722114,4.50848,-2.7637157,10.237859,-1.5014517,4.7256045,4.903341,-3.2779202,5.989216,1.33546,1.0660387,0.9792049,0.27610552,10.490384,4.5677743,4.1616387,4.30473,1.4403754,9.555682,3.7200212,-0.5790076,4.611217,11.764908,4.4601803,3.9817903,12.213484,6.3357472,8.776563,4.5014057,4.6611304,-2.355597,-0.6188967,12.291214,12.066338,9.843486,0.80291116,-1.9053806,-1.611851,-1.3779614,-1.9208586,4.696273,6.330147,-2.144059,10.349953,1.7135442,0.9151204,11.374173,1.2426902,-1.1105808,8.888411,0.054600418,9.292441,-1.0447668,5.910813,-2.4472938,10.995731,9.618004,-1.9593912,12.287488,6.0120153,11.466763,1.2136861,-0.6360307,11.560642,4.026553,5.2171726,4.671805,-2.1837537,-1.8960713,4.6803308,3.54748,0.70959,9.163074,-2.7099383,4.146378,6.145622,3.744331,-1.7806647,5.260599,-1.5147293,-0.83837235,11.480243,-1.2375903,11.38187,4.466171,11.435272,10.9869585,1.4794586,9.72192,11.905548,9.36483,10.224089,9.080926,-2.497937,-1.6870489,-1.7659001,-1.6763725,5.0035605,5.7308545,12.134222,10.417563,10.372493,4.052861,-1.8837887,11.821585,-1.7166795,-1.1482786,-3.239682,11.503852,5.0792007,1.2724379,11.646581,1.3111557,4.6771755,12.017606,8.408235,0.8950066,1.8921273,10.365427,-2.5406733,-2.23191,2.6951277,11.065692,1.2766695,-0.67443246,3.7519627,10.479427,-0.46121868,1.2972647,-2.3232973,12.283986,-1.0143262,-0.50164807,1.1446764,4.0956287,-2.00234,-1.7537786,0.2734511,6.5926485,-0.47630376,11.643818,9.566659,1.3511317,10.281585,11.80519,0.23955442,-0.35837233,4.6376233,-2.3715844,6.298679,11.417924,-2.1783404,11.722161,11.992262,5.0096903,4.875367,-3.2012336,0.03881263,0.7016737,-3.3637884,-0.6246085,-1.8809997,-1.30272,-1.3986214,10.19753,-0.88266104,9.451232,10.81677,-1.9315989,-2.6278794,-2.7242012,-1.5085145,5.9973984,4.662578,-1.7182977,-3.2243013,9.059168,6.489266,9.506579,11.812106,6.411824,9.835831,10.380489,6.2558594,6.21232,6.218632,5.3441477,0.20364766,0.007827647,10.884444,4.6949773,10.737826,10.692019,-2.986381,-2.0314398,10.749955,5.3094215,0.6768454,-0.7956777,-1.4415025,11.322185,-2.115327,-2.0394106,-2.0598693,11.25478,-1.5140668,1.2007368,11.377147,1.1218325,4.144184,-3.0818195,10.593272,-2.0524688,3.5287142,-2.864785,9.62068,-1.83896,11.385597,9.683282,5.0222526,-2.269128,-1.7410762,6.3677964,11.535939,8.297974,8.432669,4.097927,4.0714135,-1.699511,11.666232,11.715104,-1.7098318,11.485469,11.47787,-2.2689388,9.142522,-2.5760734,-2.6068006,4.0457106,-2.5736554,-0.5504751,11.032519,3.0092766,0.5428093,-2.8598988,11.258109,10.276166,-0.7349688,0.30742946,12.17014,11.323361,-1.1660022,8.70888,11.218704,2.6000197,3.742827,4.3783083,6.349205,-2.4621975,-3.2194712,-1.7470357,-1.7462014,-0.5590141,-1.7904229,0.6650869,1.3930987,1.35692,0.27366894,null],\"yaxis\":\"y\",\"type\":\"scattergl\"}],                        {\"template\":{\"data\":{\"histogram2dcontour\":[{\"type\":\"histogram2dcontour\",\"colorbar\":{\"outlinewidth\":0,\"ticks\":\"\"},\"colorscale\":[[0.0,\"#0d0887\"],[0.1111111111111111,\"#46039f\"],[0.2222222222222222,\"#7201a8\"],[0.3333333333333333,\"#9c179e\"],[0.4444444444444444,\"#bd3786\"],[0.5555555555555556,\"#d8576b\"],[0.6666666666666666,\"#ed7953\"],[0.7777777777777778,\"#fb9f3a\"],[0.8888888888888888,\"#fdca26\"],[1.0,\"#f0f921\"]]}],\"choropleth\":[{\"type\":\"choropleth\",\"colorbar\":{\"outlinewidth\":0,\"ticks\":\"\"}}],\"histogram2d\":[{\"type\":\"histogram2d\",\"colorbar\":{\"outlinewidth\":0,\"ticks\":\"\"},\"colorscale\":[[0.0,\"#0d0887\"],[0.1111111111111111,\"#46039f\"],[0.2222222222222222,\"#7201a8\"],[0.3333333333333333,\"#9c179e\"],[0.4444444444444444,\"#bd3786\"],[0.5555555555555556,\"#d8576b\"],[0.6666666666666666,\"#ed7953\"],[0.7777777777777778,\"#fb9f3a\"],[0.8888888888888888,\"#fdca26\"],[1.0,\"#f0f921\"]]}],\"heatmap\":[{\"type\":\"heatmap\",\"colorbar\":{\"outlinewidth\":0,\"ticks\":\"\"},\"colorscale\":[[0.0,\"#0d0887\"],[0.1111111111111111,\"#46039f\"],[0.2222222222222222,\"#7201a8\"],[0.3333333333333333,\"#9c179e\"],[0.4444444444444444,\"#bd3786\"],[0.5555555555555556,\"#d8576b\"],[0.6666666666666666,\"#ed7953\"],[0.7777777777777778,\"#fb9f3a\"],[0.8888888888888888,\"#fdca26\"],[1.0,\"#f0f921\"]]}],\"heatmapgl\":[{\"type\":\"heatmapgl\",\"colorbar\":{\"outlinewidth\":0,\"ticks\":\"\"},\"colorscale\":[[0.0,\"#0d0887\"],[0.1111111111111111,\"#46039f\"],[0.2222222222222222,\"#7201a8\"],[0.3333333333333333,\"#9c179e\"],[0.4444444444444444,\"#bd3786\"],[0.5555555555555556,\"#d8576b\"],[0.6666666666666666,\"#ed7953\"],[0.7777777777777778,\"#fb9f3a\"],[0.8888888888888888,\"#fdca26\"],[1.0,\"#f0f921\"]]}],\"contourcarpet\":[{\"type\":\"contourcarpet\",\"colorbar\":{\"outlinewidth\":0,\"ticks\":\"\"}}],\"contour\":[{\"type\":\"contour\",\"colorbar\":{\"outlinewidth\":0,\"ticks\":\"\"},\"colorscale\":[[0.0,\"#0d0887\"],[0.1111111111111111,\"#46039f\"],[0.2222222222222222,\"#7201a8\"],[0.3333333333333333,\"#9c179e\"],[0.4444444444444444,\"#bd3786\"],[0.5555555555555556,\"#d8576b\"],[0.6666666666666666,\"#ed7953\"],[0.7777777777777778,\"#fb9f3a\"],[0.8888888888888888,\"#fdca26\"],[1.0,\"#f0f921\"]]}],\"surface\":[{\"type\":\"surface\",\"colorbar\":{\"outlinewidth\":0,\"ticks\":\"\"},\"colorscale\":[[0.0,\"#0d0887\"],[0.1111111111111111,\"#46039f\"],[0.2222222222222222,\"#7201a8\"],[0.3333333333333333,\"#9c179e\"],[0.4444444444444444,\"#bd3786\"],[0.5555555555555556,\"#d8576b\"],[0.6666666666666666,\"#ed7953\"],[0.7777777777777778,\"#fb9f3a\"],[0.8888888888888888,\"#fdca26\"],[1.0,\"#f0f921\"]]}],\"mesh3d\":[{\"type\":\"mesh3d\",\"colorbar\":{\"outlinewidth\":0,\"ticks\":\"\"}}],\"scatter\":[{\"fillpattern\":{\"fillmode\":\"overlay\",\"size\":10,\"solidity\":0.2},\"type\":\"scatter\"}],\"parcoords\":[{\"type\":\"parcoords\",\"line\":{\"colorbar\":{\"outlinewidth\":0,\"ticks\":\"\"}}}],\"scatterpolargl\":[{\"type\":\"scatterpolargl\",\"marker\":{\"colorbar\":{\"outlinewidth\":0,\"ticks\":\"\"}}}],\"bar\":[{\"error_x\":{\"color\":\"#2a3f5f\"},\"error_y\":{\"color\":\"#2a3f5f\"},\"marker\":{\"line\":{\"color\":\"#E5ECF6\",\"width\":0.5},\"pattern\":{\"fillmode\":\"overlay\",\"size\":10,\"solidity\":0.2}},\"type\":\"bar\"}],\"scattergeo\":[{\"type\":\"scattergeo\",\"marker\":{\"colorbar\":{\"outlinewidth\":0,\"ticks\":\"\"}}}],\"scatterpolar\":[{\"type\":\"scatterpolar\",\"marker\":{\"colorbar\":{\"outlinewidth\":0,\"ticks\":\"\"}}}],\"histogram\":[{\"marker\":{\"pattern\":{\"fillmode\":\"overlay\",\"size\":10,\"solidity\":0.2}},\"type\":\"histogram\"}],\"scattergl\":[{\"type\":\"scattergl\",\"marker\":{\"colorbar\":{\"outlinewidth\":0,\"ticks\":\"\"}}}],\"scatter3d\":[{\"type\":\"scatter3d\",\"line\":{\"colorbar\":{\"outlinewidth\":0,\"ticks\":\"\"}},\"marker\":{\"colorbar\":{\"outlinewidth\":0,\"ticks\":\"\"}}}],\"scattermapbox\":[{\"type\":\"scattermapbox\",\"marker\":{\"colorbar\":{\"outlinewidth\":0,\"ticks\":\"\"}}}],\"scatterternary\":[{\"type\":\"scatterternary\",\"marker\":{\"colorbar\":{\"outlinewidth\":0,\"ticks\":\"\"}}}],\"scattercarpet\":[{\"type\":\"scattercarpet\",\"marker\":{\"colorbar\":{\"outlinewidth\":0,\"ticks\":\"\"}}}],\"carpet\":[{\"aaxis\":{\"endlinecolor\":\"#2a3f5f\",\"gridcolor\":\"white\",\"linecolor\":\"white\",\"minorgridcolor\":\"white\",\"startlinecolor\":\"#2a3f5f\"},\"baxis\":{\"endlinecolor\":\"#2a3f5f\",\"gridcolor\":\"white\",\"linecolor\":\"white\",\"minorgridcolor\":\"white\",\"startlinecolor\":\"#2a3f5f\"},\"type\":\"carpet\"}],\"table\":[{\"cells\":{\"fill\":{\"color\":\"#EBF0F8\"},\"line\":{\"color\":\"white\"}},\"header\":{\"fill\":{\"color\":\"#C8D4E3\"},\"line\":{\"color\":\"white\"}},\"type\":\"table\"}],\"barpolar\":[{\"marker\":{\"line\":{\"color\":\"#E5ECF6\",\"width\":0.5},\"pattern\":{\"fillmode\":\"overlay\",\"size\":10,\"solidity\":0.2}},\"type\":\"barpolar\"}],\"pie\":[{\"automargin\":true,\"type\":\"pie\"}]},\"layout\":{\"autotypenumbers\":\"strict\",\"colorway\":[\"#636efa\",\"#EF553B\",\"#00cc96\",\"#ab63fa\",\"#FFA15A\",\"#19d3f3\",\"#FF6692\",\"#B6E880\",\"#FF97FF\",\"#FECB52\"],\"font\":{\"color\":\"#2a3f5f\"},\"hovermode\":\"closest\",\"hoverlabel\":{\"align\":\"left\"},\"paper_bgcolor\":\"white\",\"plot_bgcolor\":\"#E5ECF6\",\"polar\":{\"bgcolor\":\"#E5ECF6\",\"angularaxis\":{\"gridcolor\":\"white\",\"linecolor\":\"white\",\"ticks\":\"\"},\"radialaxis\":{\"gridcolor\":\"white\",\"linecolor\":\"white\",\"ticks\":\"\"}},\"ternary\":{\"bgcolor\":\"#E5ECF6\",\"aaxis\":{\"gridcolor\":\"white\",\"linecolor\":\"white\",\"ticks\":\"\"},\"baxis\":{\"gridcolor\":\"white\",\"linecolor\":\"white\",\"ticks\":\"\"},\"caxis\":{\"gridcolor\":\"white\",\"linecolor\":\"white\",\"ticks\":\"\"}},\"coloraxis\":{\"colorbar\":{\"outlinewidth\":0,\"ticks\":\"\"}},\"colorscale\":{\"sequential\":[[0.0,\"#0d0887\"],[0.1111111111111111,\"#46039f\"],[0.2222222222222222,\"#7201a8\"],[0.3333333333333333,\"#9c179e\"],[0.4444444444444444,\"#bd3786\"],[0.5555555555555556,\"#d8576b\"],[0.6666666666666666,\"#ed7953\"],[0.7777777777777778,\"#fb9f3a\"],[0.8888888888888888,\"#fdca26\"],[1.0,\"#f0f921\"]],\"sequentialminus\":[[0.0,\"#0d0887\"],[0.1111111111111111,\"#46039f\"],[0.2222222222222222,\"#7201a8\"],[0.3333333333333333,\"#9c179e\"],[0.4444444444444444,\"#bd3786\"],[0.5555555555555556,\"#d8576b\"],[0.6666666666666666,\"#ed7953\"],[0.7777777777777778,\"#fb9f3a\"],[0.8888888888888888,\"#fdca26\"],[1.0,\"#f0f921\"]],\"diverging\":[[0,\"#8e0152\"],[0.1,\"#c51b7d\"],[0.2,\"#de77ae\"],[0.3,\"#f1b6da\"],[0.4,\"#fde0ef\"],[0.5,\"#f7f7f7\"],[0.6,\"#e6f5d0\"],[0.7,\"#b8e186\"],[0.8,\"#7fbc41\"],[0.9,\"#4d9221\"],[1,\"#276419\"]]},\"xaxis\":{\"gridcolor\":\"white\",\"linecolor\":\"white\",\"ticks\":\"\",\"title\":{\"standoff\":15},\"zerolinecolor\":\"white\",\"automargin\":true,\"zerolinewidth\":2},\"yaxis\":{\"gridcolor\":\"white\",\"linecolor\":\"white\",\"ticks\":\"\",\"title\":{\"standoff\":15},\"zerolinecolor\":\"white\",\"automargin\":true,\"zerolinewidth\":2},\"scene\":{\"xaxis\":{\"backgroundcolor\":\"#E5ECF6\",\"gridcolor\":\"white\",\"linecolor\":\"white\",\"showbackground\":true,\"ticks\":\"\",\"zerolinecolor\":\"white\",\"gridwidth\":2},\"yaxis\":{\"backgroundcolor\":\"#E5ECF6\",\"gridcolor\":\"white\",\"linecolor\":\"white\",\"showbackground\":true,\"ticks\":\"\",\"zerolinecolor\":\"white\",\"gridwidth\":2},\"zaxis\":{\"backgroundcolor\":\"#E5ECF6\",\"gridcolor\":\"white\",\"linecolor\":\"white\",\"showbackground\":true,\"ticks\":\"\",\"zerolinecolor\":\"white\",\"gridwidth\":2}},\"shapedefaults\":{\"line\":{\"color\":\"#2a3f5f\"}},\"annotationdefaults\":{\"arrowcolor\":\"#2a3f5f\",\"arrowhead\":0,\"arrowwidth\":1},\"geo\":{\"bgcolor\":\"white\",\"landcolor\":\"#E5ECF6\",\"subunitcolor\":\"white\",\"showland\":true,\"showlakes\":true,\"lakecolor\":\"white\"},\"title\":{\"x\":0.05},\"mapbox\":{\"style\":\"light\"}}},\"xaxis\":{\"anchor\":\"y\",\"domain\":[0.0,1.0],\"title\":{\"text\":\"x\"}},\"yaxis\":{\"anchor\":\"x\",\"domain\":[0.0,1.0],\"title\":{\"text\":\"y\"}},\"legend\":{\"title\":{\"text\":\"target\"},\"tracegroupgap\":0},\"margin\":{\"t\":60},\"height\":800},                        {\"responsive\": true}                    ).then(function(){\n",
       "                            \n",
       "var gd = document.getElementById('8baebf9d-a1f6-4bd5-9c93-e8257f59f259');\n",
       "var x = new MutationObserver(function (mutations, observer) {{\n",
       "        var display = window.getComputedStyle(gd).display;\n",
       "        if (!display || display === 'none') {{\n",
       "            console.log([gd, 'removed!']);\n",
       "            Plotly.purge(gd);\n",
       "            observer.disconnect();\n",
       "        }}\n",
       "}});\n",
       "\n",
       "// Listen for the removal of the full notebook cells\n",
       "var notebookContainer = gd.closest('#notebook-container');\n",
       "if (notebookContainer) {{\n",
       "    x.observe(notebookContainer, {childList: true});\n",
       "}}\n",
       "\n",
       "// Listen for the clearing of the current output cell\n",
       "var outputEl = gd.closest('.output');\n",
       "if (outputEl) {{\n",
       "    x.observe(outputEl, {childList: true});\n",
       "}}\n",
       "\n",
       "                        })                };                });            </script>        </div>"
      ]
     },
     "metadata": {},
     "output_type": "display_data"
    },
    {
     "name": "stdout",
     "output_type": "stream",
     "text": [
      "UMAP done in 0:00:07.140450\n"
     ]
    }
   ],
   "source": [
    "from umap import UMAP\n",
    "from arrow import now\n",
    "\n",
    "target = 'target'\n",
    "columns = ['A1', 'A2', 'A3', 'A4', 'A5', 'A6', 'A7', 'A8', 'A9', 'A10', 'Age_Mons',  'male', 'jaundice', 'family']\n",
    "\n",
    "time_start = now()\n",
    "reducer = UMAP(n_components=2, random_state=2024, transform_seed=2024, verbose=True, n_jobs=1, n_epochs=100)\n",
    "df[['x', 'y']] = pd.DataFrame(data=reducer.fit_transform(X=df[columns]))\n",
    "express.scatter(data_frame=df, x='x', y='y', color='target', height=800, ).show()\n",
    "print('UMAP done in {}'.format(now() - time_start))"
   ]
  },
  {
   "cell_type": "markdown",
   "id": "574654f7",
   "metadata": {
    "papermill": {
     "duration": 0.005449,
     "end_time": "2024-03-16T12:56:15.095479",
     "exception": false,
     "start_time": "2024-03-16T12:56:15.090030",
     "status": "completed"
    },
    "tags": []
   },
   "source": [
    "Dimension reduction induces clustering, but the target variable is not strongly evident in the induced clusters."
   ]
  },
  {
   "cell_type": "markdown",
   "id": "067373f6",
   "metadata": {
    "papermill": {
     "duration": 0.005504,
     "end_time": "2024-03-16T12:56:15.107256",
     "exception": false,
     "start_time": "2024-03-16T12:56:15.101752",
     "status": "completed"
    },
    "tags": []
   },
   "source": [
    "Before we proceed let's look at our correlations with the target variable."
   ]
  },
  {
   "cell_type": "code",
   "execution_count": 6,
   "id": "f102689c",
   "metadata": {
    "execution": {
     "iopub.execute_input": "2024-03-16T12:56:15.120619Z",
     "iopub.status.busy": "2024-03-16T12:56:15.120037Z",
     "iopub.status.idle": "2024-03-16T12:56:15.175068Z",
     "shell.execute_reply": "2024-03-16T12:56:15.174002Z"
    },
    "papermill": {
     "duration": 0.064819,
     "end_time": "2024-03-16T12:56:15.177737",
     "exception": false,
     "start_time": "2024-03-16T12:56:15.112918",
     "status": "completed"
    },
    "tags": []
   },
   "outputs": [
    {
     "data": {
      "text/html": [
       "<div>                            <div id=\"8c6735e0-ea81-4528-aeb9-6bab930d8e4e\" class=\"plotly-graph-div\" style=\"height:525px; width:100%;\"></div>            <script type=\"text/javascript\">                require([\"plotly\"], function(Plotly) {                    window.PLOTLYENV=window.PLOTLYENV || {};                                    if (document.getElementById(\"8c6735e0-ea81-4528-aeb9-6bab930d8e4e\")) {                    Plotly.newPlot(                        \"8c6735e0-ea81-4528-aeb9-6bab930d8e4e\",                        [{\"alignmentgroup\":\"True\",\"bingroup\":\"x\",\"histfunc\":\"sum\",\"hovertemplate\":\"index=%{x}\\u003cbr\\u003esum of target=%{y}\\u003cextra\\u003e\\u003c\\u002fextra\\u003e\",\"legendgroup\":\"\",\"marker\":{\"color\":\"#636efa\",\"pattern\":{\"shape\":\"\"}},\"name\":\"\",\"offsetgroup\":\"\",\"orientation\":\"v\",\"showlegend\":false,\"x\":[\"A1\",\"A2\",\"A3\",\"A4\",\"A5\",\"A6\",\"A7\",\"A8\",\"A9\",\"A10\",\"Age_Mons\",\"male\",\"jaundice\",\"family\"],\"xaxis\":\"x\",\"y\":[0.5038096574587835,0.4634673756124362,0.40970069893039746,0.5052036573508756,0.5632971772384437,0.5694241254863145,0.5631766877505504,0.4271550681626077,0.5773357085503201,0.17983337128104715,0.06683109672029726,0.11766393765011922,0.07405972305574837,-0.013502528342102008],\"yaxis\":\"y\",\"type\":\"histogram\"}],                        {\"template\":{\"data\":{\"histogram2dcontour\":[{\"type\":\"histogram2dcontour\",\"colorbar\":{\"outlinewidth\":0,\"ticks\":\"\"},\"colorscale\":[[0.0,\"#0d0887\"],[0.1111111111111111,\"#46039f\"],[0.2222222222222222,\"#7201a8\"],[0.3333333333333333,\"#9c179e\"],[0.4444444444444444,\"#bd3786\"],[0.5555555555555556,\"#d8576b\"],[0.6666666666666666,\"#ed7953\"],[0.7777777777777778,\"#fb9f3a\"],[0.8888888888888888,\"#fdca26\"],[1.0,\"#f0f921\"]]}],\"choropleth\":[{\"type\":\"choropleth\",\"colorbar\":{\"outlinewidth\":0,\"ticks\":\"\"}}],\"histogram2d\":[{\"type\":\"histogram2d\",\"colorbar\":{\"outlinewidth\":0,\"ticks\":\"\"},\"colorscale\":[[0.0,\"#0d0887\"],[0.1111111111111111,\"#46039f\"],[0.2222222222222222,\"#7201a8\"],[0.3333333333333333,\"#9c179e\"],[0.4444444444444444,\"#bd3786\"],[0.5555555555555556,\"#d8576b\"],[0.6666666666666666,\"#ed7953\"],[0.7777777777777778,\"#fb9f3a\"],[0.8888888888888888,\"#fdca26\"],[1.0,\"#f0f921\"]]}],\"heatmap\":[{\"type\":\"heatmap\",\"colorbar\":{\"outlinewidth\":0,\"ticks\":\"\"},\"colorscale\":[[0.0,\"#0d0887\"],[0.1111111111111111,\"#46039f\"],[0.2222222222222222,\"#7201a8\"],[0.3333333333333333,\"#9c179e\"],[0.4444444444444444,\"#bd3786\"],[0.5555555555555556,\"#d8576b\"],[0.6666666666666666,\"#ed7953\"],[0.7777777777777778,\"#fb9f3a\"],[0.8888888888888888,\"#fdca26\"],[1.0,\"#f0f921\"]]}],\"heatmapgl\":[{\"type\":\"heatmapgl\",\"colorbar\":{\"outlinewidth\":0,\"ticks\":\"\"},\"colorscale\":[[0.0,\"#0d0887\"],[0.1111111111111111,\"#46039f\"],[0.2222222222222222,\"#7201a8\"],[0.3333333333333333,\"#9c179e\"],[0.4444444444444444,\"#bd3786\"],[0.5555555555555556,\"#d8576b\"],[0.6666666666666666,\"#ed7953\"],[0.7777777777777778,\"#fb9f3a\"],[0.8888888888888888,\"#fdca26\"],[1.0,\"#f0f921\"]]}],\"contourcarpet\":[{\"type\":\"contourcarpet\",\"colorbar\":{\"outlinewidth\":0,\"ticks\":\"\"}}],\"contour\":[{\"type\":\"contour\",\"colorbar\":{\"outlinewidth\":0,\"ticks\":\"\"},\"colorscale\":[[0.0,\"#0d0887\"],[0.1111111111111111,\"#46039f\"],[0.2222222222222222,\"#7201a8\"],[0.3333333333333333,\"#9c179e\"],[0.4444444444444444,\"#bd3786\"],[0.5555555555555556,\"#d8576b\"],[0.6666666666666666,\"#ed7953\"],[0.7777777777777778,\"#fb9f3a\"],[0.8888888888888888,\"#fdca26\"],[1.0,\"#f0f921\"]]}],\"surface\":[{\"type\":\"surface\",\"colorbar\":{\"outlinewidth\":0,\"ticks\":\"\"},\"colorscale\":[[0.0,\"#0d0887\"],[0.1111111111111111,\"#46039f\"],[0.2222222222222222,\"#7201a8\"],[0.3333333333333333,\"#9c179e\"],[0.4444444444444444,\"#bd3786\"],[0.5555555555555556,\"#d8576b\"],[0.6666666666666666,\"#ed7953\"],[0.7777777777777778,\"#fb9f3a\"],[0.8888888888888888,\"#fdca26\"],[1.0,\"#f0f921\"]]}],\"mesh3d\":[{\"type\":\"mesh3d\",\"colorbar\":{\"outlinewidth\":0,\"ticks\":\"\"}}],\"scatter\":[{\"fillpattern\":{\"fillmode\":\"overlay\",\"size\":10,\"solidity\":0.2},\"type\":\"scatter\"}],\"parcoords\":[{\"type\":\"parcoords\",\"line\":{\"colorbar\":{\"outlinewidth\":0,\"ticks\":\"\"}}}],\"scatterpolargl\":[{\"type\":\"scatterpolargl\",\"marker\":{\"colorbar\":{\"outlinewidth\":0,\"ticks\":\"\"}}}],\"bar\":[{\"error_x\":{\"color\":\"#2a3f5f\"},\"error_y\":{\"color\":\"#2a3f5f\"},\"marker\":{\"line\":{\"color\":\"#E5ECF6\",\"width\":0.5},\"pattern\":{\"fillmode\":\"overlay\",\"size\":10,\"solidity\":0.2}},\"type\":\"bar\"}],\"scattergeo\":[{\"type\":\"scattergeo\",\"marker\":{\"colorbar\":{\"outlinewidth\":0,\"ticks\":\"\"}}}],\"scatterpolar\":[{\"type\":\"scatterpolar\",\"marker\":{\"colorbar\":{\"outlinewidth\":0,\"ticks\":\"\"}}}],\"histogram\":[{\"marker\":{\"pattern\":{\"fillmode\":\"overlay\",\"size\":10,\"solidity\":0.2}},\"type\":\"histogram\"}],\"scattergl\":[{\"type\":\"scattergl\",\"marker\":{\"colorbar\":{\"outlinewidth\":0,\"ticks\":\"\"}}}],\"scatter3d\":[{\"type\":\"scatter3d\",\"line\":{\"colorbar\":{\"outlinewidth\":0,\"ticks\":\"\"}},\"marker\":{\"colorbar\":{\"outlinewidth\":0,\"ticks\":\"\"}}}],\"scattermapbox\":[{\"type\":\"scattermapbox\",\"marker\":{\"colorbar\":{\"outlinewidth\":0,\"ticks\":\"\"}}}],\"scatterternary\":[{\"type\":\"scatterternary\",\"marker\":{\"colorbar\":{\"outlinewidth\":0,\"ticks\":\"\"}}}],\"scattercarpet\":[{\"type\":\"scattercarpet\",\"marker\":{\"colorbar\":{\"outlinewidth\":0,\"ticks\":\"\"}}}],\"carpet\":[{\"aaxis\":{\"endlinecolor\":\"#2a3f5f\",\"gridcolor\":\"white\",\"linecolor\":\"white\",\"minorgridcolor\":\"white\",\"startlinecolor\":\"#2a3f5f\"},\"baxis\":{\"endlinecolor\":\"#2a3f5f\",\"gridcolor\":\"white\",\"linecolor\":\"white\",\"minorgridcolor\":\"white\",\"startlinecolor\":\"#2a3f5f\"},\"type\":\"carpet\"}],\"table\":[{\"cells\":{\"fill\":{\"color\":\"#EBF0F8\"},\"line\":{\"color\":\"white\"}},\"header\":{\"fill\":{\"color\":\"#C8D4E3\"},\"line\":{\"color\":\"white\"}},\"type\":\"table\"}],\"barpolar\":[{\"marker\":{\"line\":{\"color\":\"#E5ECF6\",\"width\":0.5},\"pattern\":{\"fillmode\":\"overlay\",\"size\":10,\"solidity\":0.2}},\"type\":\"barpolar\"}],\"pie\":[{\"automargin\":true,\"type\":\"pie\"}]},\"layout\":{\"autotypenumbers\":\"strict\",\"colorway\":[\"#636efa\",\"#EF553B\",\"#00cc96\",\"#ab63fa\",\"#FFA15A\",\"#19d3f3\",\"#FF6692\",\"#B6E880\",\"#FF97FF\",\"#FECB52\"],\"font\":{\"color\":\"#2a3f5f\"},\"hovermode\":\"closest\",\"hoverlabel\":{\"align\":\"left\"},\"paper_bgcolor\":\"white\",\"plot_bgcolor\":\"#E5ECF6\",\"polar\":{\"bgcolor\":\"#E5ECF6\",\"angularaxis\":{\"gridcolor\":\"white\",\"linecolor\":\"white\",\"ticks\":\"\"},\"radialaxis\":{\"gridcolor\":\"white\",\"linecolor\":\"white\",\"ticks\":\"\"}},\"ternary\":{\"bgcolor\":\"#E5ECF6\",\"aaxis\":{\"gridcolor\":\"white\",\"linecolor\":\"white\",\"ticks\":\"\"},\"baxis\":{\"gridcolor\":\"white\",\"linecolor\":\"white\",\"ticks\":\"\"},\"caxis\":{\"gridcolor\":\"white\",\"linecolor\":\"white\",\"ticks\":\"\"}},\"coloraxis\":{\"colorbar\":{\"outlinewidth\":0,\"ticks\":\"\"}},\"colorscale\":{\"sequential\":[[0.0,\"#0d0887\"],[0.1111111111111111,\"#46039f\"],[0.2222222222222222,\"#7201a8\"],[0.3333333333333333,\"#9c179e\"],[0.4444444444444444,\"#bd3786\"],[0.5555555555555556,\"#d8576b\"],[0.6666666666666666,\"#ed7953\"],[0.7777777777777778,\"#fb9f3a\"],[0.8888888888888888,\"#fdca26\"],[1.0,\"#f0f921\"]],\"sequentialminus\":[[0.0,\"#0d0887\"],[0.1111111111111111,\"#46039f\"],[0.2222222222222222,\"#7201a8\"],[0.3333333333333333,\"#9c179e\"],[0.4444444444444444,\"#bd3786\"],[0.5555555555555556,\"#d8576b\"],[0.6666666666666666,\"#ed7953\"],[0.7777777777777778,\"#fb9f3a\"],[0.8888888888888888,\"#fdca26\"],[1.0,\"#f0f921\"]],\"diverging\":[[0,\"#8e0152\"],[0.1,\"#c51b7d\"],[0.2,\"#de77ae\"],[0.3,\"#f1b6da\"],[0.4,\"#fde0ef\"],[0.5,\"#f7f7f7\"],[0.6,\"#e6f5d0\"],[0.7,\"#b8e186\"],[0.8,\"#7fbc41\"],[0.9,\"#4d9221\"],[1,\"#276419\"]]},\"xaxis\":{\"gridcolor\":\"white\",\"linecolor\":\"white\",\"ticks\":\"\",\"title\":{\"standoff\":15},\"zerolinecolor\":\"white\",\"automargin\":true,\"zerolinewidth\":2},\"yaxis\":{\"gridcolor\":\"white\",\"linecolor\":\"white\",\"ticks\":\"\",\"title\":{\"standoff\":15},\"zerolinecolor\":\"white\",\"automargin\":true,\"zerolinewidth\":2},\"scene\":{\"xaxis\":{\"backgroundcolor\":\"#E5ECF6\",\"gridcolor\":\"white\",\"linecolor\":\"white\",\"showbackground\":true,\"ticks\":\"\",\"zerolinecolor\":\"white\",\"gridwidth\":2},\"yaxis\":{\"backgroundcolor\":\"#E5ECF6\",\"gridcolor\":\"white\",\"linecolor\":\"white\",\"showbackground\":true,\"ticks\":\"\",\"zerolinecolor\":\"white\",\"gridwidth\":2},\"zaxis\":{\"backgroundcolor\":\"#E5ECF6\",\"gridcolor\":\"white\",\"linecolor\":\"white\",\"showbackground\":true,\"ticks\":\"\",\"zerolinecolor\":\"white\",\"gridwidth\":2}},\"shapedefaults\":{\"line\":{\"color\":\"#2a3f5f\"}},\"annotationdefaults\":{\"arrowcolor\":\"#2a3f5f\",\"arrowhead\":0,\"arrowwidth\":1},\"geo\":{\"bgcolor\":\"white\",\"landcolor\":\"#E5ECF6\",\"subunitcolor\":\"white\",\"showland\":true,\"showlakes\":true,\"lakecolor\":\"white\"},\"title\":{\"x\":0.05},\"mapbox\":{\"style\":\"light\"}}},\"xaxis\":{\"anchor\":\"y\",\"domain\":[0.0,1.0],\"title\":{\"text\":\"index\"}},\"yaxis\":{\"anchor\":\"x\",\"domain\":[0.0,1.0],\"title\":{\"text\":\"sum of target\"}},\"legend\":{\"tracegroupgap\":0},\"margin\":{\"t\":60},\"barmode\":\"relative\"},                        {\"responsive\": true}                    ).then(function(){\n",
       "                            \n",
       "var gd = document.getElementById('8c6735e0-ea81-4528-aeb9-6bab930d8e4e');\n",
       "var x = new MutationObserver(function (mutations, observer) {{\n",
       "        var display = window.getComputedStyle(gd).display;\n",
       "        if (!display || display === 'none') {{\n",
       "            console.log([gd, 'removed!']);\n",
       "            Plotly.purge(gd);\n",
       "            observer.disconnect();\n",
       "        }}\n",
       "}});\n",
       "\n",
       "// Listen for the removal of the full notebook cells\n",
       "var notebookContainer = gd.closest('#notebook-container');\n",
       "if (notebookContainer) {{\n",
       "    x.observe(notebookContainer, {childList: true});\n",
       "}}\n",
       "\n",
       "// Listen for the clearing of the current output cell\n",
       "var outputEl = gd.closest('.output');\n",
       "if (outputEl) {{\n",
       "    x.observe(outputEl, {childList: true});\n",
       "}}\n",
       "\n",
       "                        })                };                });            </script>        </div>"
      ]
     },
     "metadata": {},
     "output_type": "display_data"
    }
   ],
   "source": [
    "express.histogram(data_frame=df[columns + [target]].corr()['target'].to_frame().reset_index().head(n=len(columns)), x='index', y='target')"
   ]
  },
  {
   "cell_type": "markdown",
   "id": "0c111215",
   "metadata": {
    "papermill": {
     "duration": 0.006634,
     "end_time": "2024-03-16T12:56:15.190795",
     "exception": false,
     "start_time": "2024-03-16T12:56:15.184161",
     "status": "completed"
    },
    "tags": []
   },
   "source": [
    "All of our A variables are highly correlated with the target except one. This is encouraging. Let's build a model."
   ]
  },
  {
   "cell_type": "code",
   "execution_count": 7,
   "id": "43e69db6",
   "metadata": {
    "execution": {
     "iopub.execute_input": "2024-03-16T12:56:15.205163Z",
     "iopub.status.busy": "2024-03-16T12:56:15.204342Z",
     "iopub.status.idle": "2024-03-16T12:56:15.300089Z",
     "shell.execute_reply": "2024-03-16T12:56:15.299406Z"
    },
    "papermill": {
     "duration": 0.105883,
     "end_time": "2024-03-16T12:56:15.302957",
     "exception": false,
     "start_time": "2024-03-16T12:56:15.197074",
     "status": "completed"
    },
    "tags": []
   },
   "outputs": [
    {
     "name": "stdout",
     "output_type": "stream",
     "text": [
      "fit complete after 92 iterations.\n",
      "accuracy: 1.0000\n"
     ]
    },
    {
     "data": {
      "text/html": [
       "<div>                            <div id=\"5f7f0ba6-8e64-4cc4-911e-7911e88f2ad0\" class=\"plotly-graph-div\" style=\"height:525px; width:100%;\"></div>            <script type=\"text/javascript\">                require([\"plotly\"], function(Plotly) {                    window.PLOTLYENV=window.PLOTLYENV || {};                                    if (document.getElementById(\"5f7f0ba6-8e64-4cc4-911e-7911e88f2ad0\")) {                    Plotly.newPlot(                        \"5f7f0ba6-8e64-4cc4-911e-7911e88f2ad0\",                        [{\"alignmentgroup\":\"True\",\"bingroup\":\"x\",\"histfunc\":\"sum\",\"hovertemplate\":\"x=%{x}\\u003cbr\\u003esum of y=%{y}\\u003cextra\\u003e\\u003c\\u002fextra\\u003e\",\"legendgroup\":\"\",\"marker\":{\"color\":\"#636efa\",\"pattern\":{\"shape\":\"\"}},\"name\":\"\",\"offsetgroup\":\"\",\"orientation\":\"v\",\"showlegend\":false,\"x\":[\"A1\",\"A2\",\"A3\",\"A4\",\"A5\",\"A6\",\"A7\",\"A8\",\"A9\",\"A10\",\"Age_Mons\",\"male\",\"jaundice\",\"family\"],\"xaxis\":\"x\",\"y\":[2.113231897105042,2.5071504041278883,1.9308631690073057,2.2299951586577436,2.095034240676594,2.4524241085378073,2.213372516213245,2.344374590140847,2.507416414589941,1.9285664612208184,0.014410767602538002,0.3906211426214313,0.5548779643936833,-0.17191242822543915],\"yaxis\":\"y\",\"type\":\"histogram\"}],                        {\"template\":{\"data\":{\"histogram2dcontour\":[{\"type\":\"histogram2dcontour\",\"colorbar\":{\"outlinewidth\":0,\"ticks\":\"\"},\"colorscale\":[[0.0,\"#0d0887\"],[0.1111111111111111,\"#46039f\"],[0.2222222222222222,\"#7201a8\"],[0.3333333333333333,\"#9c179e\"],[0.4444444444444444,\"#bd3786\"],[0.5555555555555556,\"#d8576b\"],[0.6666666666666666,\"#ed7953\"],[0.7777777777777778,\"#fb9f3a\"],[0.8888888888888888,\"#fdca26\"],[1.0,\"#f0f921\"]]}],\"choropleth\":[{\"type\":\"choropleth\",\"colorbar\":{\"outlinewidth\":0,\"ticks\":\"\"}}],\"histogram2d\":[{\"type\":\"histogram2d\",\"colorbar\":{\"outlinewidth\":0,\"ticks\":\"\"},\"colorscale\":[[0.0,\"#0d0887\"],[0.1111111111111111,\"#46039f\"],[0.2222222222222222,\"#7201a8\"],[0.3333333333333333,\"#9c179e\"],[0.4444444444444444,\"#bd3786\"],[0.5555555555555556,\"#d8576b\"],[0.6666666666666666,\"#ed7953\"],[0.7777777777777778,\"#fb9f3a\"],[0.8888888888888888,\"#fdca26\"],[1.0,\"#f0f921\"]]}],\"heatmap\":[{\"type\":\"heatmap\",\"colorbar\":{\"outlinewidth\":0,\"ticks\":\"\"},\"colorscale\":[[0.0,\"#0d0887\"],[0.1111111111111111,\"#46039f\"],[0.2222222222222222,\"#7201a8\"],[0.3333333333333333,\"#9c179e\"],[0.4444444444444444,\"#bd3786\"],[0.5555555555555556,\"#d8576b\"],[0.6666666666666666,\"#ed7953\"],[0.7777777777777778,\"#fb9f3a\"],[0.8888888888888888,\"#fdca26\"],[1.0,\"#f0f921\"]]}],\"heatmapgl\":[{\"type\":\"heatmapgl\",\"colorbar\":{\"outlinewidth\":0,\"ticks\":\"\"},\"colorscale\":[[0.0,\"#0d0887\"],[0.1111111111111111,\"#46039f\"],[0.2222222222222222,\"#7201a8\"],[0.3333333333333333,\"#9c179e\"],[0.4444444444444444,\"#bd3786\"],[0.5555555555555556,\"#d8576b\"],[0.6666666666666666,\"#ed7953\"],[0.7777777777777778,\"#fb9f3a\"],[0.8888888888888888,\"#fdca26\"],[1.0,\"#f0f921\"]]}],\"contourcarpet\":[{\"type\":\"contourcarpet\",\"colorbar\":{\"outlinewidth\":0,\"ticks\":\"\"}}],\"contour\":[{\"type\":\"contour\",\"colorbar\":{\"outlinewidth\":0,\"ticks\":\"\"},\"colorscale\":[[0.0,\"#0d0887\"],[0.1111111111111111,\"#46039f\"],[0.2222222222222222,\"#7201a8\"],[0.3333333333333333,\"#9c179e\"],[0.4444444444444444,\"#bd3786\"],[0.5555555555555556,\"#d8576b\"],[0.6666666666666666,\"#ed7953\"],[0.7777777777777778,\"#fb9f3a\"],[0.8888888888888888,\"#fdca26\"],[1.0,\"#f0f921\"]]}],\"surface\":[{\"type\":\"surface\",\"colorbar\":{\"outlinewidth\":0,\"ticks\":\"\"},\"colorscale\":[[0.0,\"#0d0887\"],[0.1111111111111111,\"#46039f\"],[0.2222222222222222,\"#7201a8\"],[0.3333333333333333,\"#9c179e\"],[0.4444444444444444,\"#bd3786\"],[0.5555555555555556,\"#d8576b\"],[0.6666666666666666,\"#ed7953\"],[0.7777777777777778,\"#fb9f3a\"],[0.8888888888888888,\"#fdca26\"],[1.0,\"#f0f921\"]]}],\"mesh3d\":[{\"type\":\"mesh3d\",\"colorbar\":{\"outlinewidth\":0,\"ticks\":\"\"}}],\"scatter\":[{\"fillpattern\":{\"fillmode\":\"overlay\",\"size\":10,\"solidity\":0.2},\"type\":\"scatter\"}],\"parcoords\":[{\"type\":\"parcoords\",\"line\":{\"colorbar\":{\"outlinewidth\":0,\"ticks\":\"\"}}}],\"scatterpolargl\":[{\"type\":\"scatterpolargl\",\"marker\":{\"colorbar\":{\"outlinewidth\":0,\"ticks\":\"\"}}}],\"bar\":[{\"error_x\":{\"color\":\"#2a3f5f\"},\"error_y\":{\"color\":\"#2a3f5f\"},\"marker\":{\"line\":{\"color\":\"#E5ECF6\",\"width\":0.5},\"pattern\":{\"fillmode\":\"overlay\",\"size\":10,\"solidity\":0.2}},\"type\":\"bar\"}],\"scattergeo\":[{\"type\":\"scattergeo\",\"marker\":{\"colorbar\":{\"outlinewidth\":0,\"ticks\":\"\"}}}],\"scatterpolar\":[{\"type\":\"scatterpolar\",\"marker\":{\"colorbar\":{\"outlinewidth\":0,\"ticks\":\"\"}}}],\"histogram\":[{\"marker\":{\"pattern\":{\"fillmode\":\"overlay\",\"size\":10,\"solidity\":0.2}},\"type\":\"histogram\"}],\"scattergl\":[{\"type\":\"scattergl\",\"marker\":{\"colorbar\":{\"outlinewidth\":0,\"ticks\":\"\"}}}],\"scatter3d\":[{\"type\":\"scatter3d\",\"line\":{\"colorbar\":{\"outlinewidth\":0,\"ticks\":\"\"}},\"marker\":{\"colorbar\":{\"outlinewidth\":0,\"ticks\":\"\"}}}],\"scattermapbox\":[{\"type\":\"scattermapbox\",\"marker\":{\"colorbar\":{\"outlinewidth\":0,\"ticks\":\"\"}}}],\"scatterternary\":[{\"type\":\"scatterternary\",\"marker\":{\"colorbar\":{\"outlinewidth\":0,\"ticks\":\"\"}}}],\"scattercarpet\":[{\"type\":\"scattercarpet\",\"marker\":{\"colorbar\":{\"outlinewidth\":0,\"ticks\":\"\"}}}],\"carpet\":[{\"aaxis\":{\"endlinecolor\":\"#2a3f5f\",\"gridcolor\":\"white\",\"linecolor\":\"white\",\"minorgridcolor\":\"white\",\"startlinecolor\":\"#2a3f5f\"},\"baxis\":{\"endlinecolor\":\"#2a3f5f\",\"gridcolor\":\"white\",\"linecolor\":\"white\",\"minorgridcolor\":\"white\",\"startlinecolor\":\"#2a3f5f\"},\"type\":\"carpet\"}],\"table\":[{\"cells\":{\"fill\":{\"color\":\"#EBF0F8\"},\"line\":{\"color\":\"white\"}},\"header\":{\"fill\":{\"color\":\"#C8D4E3\"},\"line\":{\"color\":\"white\"}},\"type\":\"table\"}],\"barpolar\":[{\"marker\":{\"line\":{\"color\":\"#E5ECF6\",\"width\":0.5},\"pattern\":{\"fillmode\":\"overlay\",\"size\":10,\"solidity\":0.2}},\"type\":\"barpolar\"}],\"pie\":[{\"automargin\":true,\"type\":\"pie\"}]},\"layout\":{\"autotypenumbers\":\"strict\",\"colorway\":[\"#636efa\",\"#EF553B\",\"#00cc96\",\"#ab63fa\",\"#FFA15A\",\"#19d3f3\",\"#FF6692\",\"#B6E880\",\"#FF97FF\",\"#FECB52\"],\"font\":{\"color\":\"#2a3f5f\"},\"hovermode\":\"closest\",\"hoverlabel\":{\"align\":\"left\"},\"paper_bgcolor\":\"white\",\"plot_bgcolor\":\"#E5ECF6\",\"polar\":{\"bgcolor\":\"#E5ECF6\",\"angularaxis\":{\"gridcolor\":\"white\",\"linecolor\":\"white\",\"ticks\":\"\"},\"radialaxis\":{\"gridcolor\":\"white\",\"linecolor\":\"white\",\"ticks\":\"\"}},\"ternary\":{\"bgcolor\":\"#E5ECF6\",\"aaxis\":{\"gridcolor\":\"white\",\"linecolor\":\"white\",\"ticks\":\"\"},\"baxis\":{\"gridcolor\":\"white\",\"linecolor\":\"white\",\"ticks\":\"\"},\"caxis\":{\"gridcolor\":\"white\",\"linecolor\":\"white\",\"ticks\":\"\"}},\"coloraxis\":{\"colorbar\":{\"outlinewidth\":0,\"ticks\":\"\"}},\"colorscale\":{\"sequential\":[[0.0,\"#0d0887\"],[0.1111111111111111,\"#46039f\"],[0.2222222222222222,\"#7201a8\"],[0.3333333333333333,\"#9c179e\"],[0.4444444444444444,\"#bd3786\"],[0.5555555555555556,\"#d8576b\"],[0.6666666666666666,\"#ed7953\"],[0.7777777777777778,\"#fb9f3a\"],[0.8888888888888888,\"#fdca26\"],[1.0,\"#f0f921\"]],\"sequentialminus\":[[0.0,\"#0d0887\"],[0.1111111111111111,\"#46039f\"],[0.2222222222222222,\"#7201a8\"],[0.3333333333333333,\"#9c179e\"],[0.4444444444444444,\"#bd3786\"],[0.5555555555555556,\"#d8576b\"],[0.6666666666666666,\"#ed7953\"],[0.7777777777777778,\"#fb9f3a\"],[0.8888888888888888,\"#fdca26\"],[1.0,\"#f0f921\"]],\"diverging\":[[0,\"#8e0152\"],[0.1,\"#c51b7d\"],[0.2,\"#de77ae\"],[0.3,\"#f1b6da\"],[0.4,\"#fde0ef\"],[0.5,\"#f7f7f7\"],[0.6,\"#e6f5d0\"],[0.7,\"#b8e186\"],[0.8,\"#7fbc41\"],[0.9,\"#4d9221\"],[1,\"#276419\"]]},\"xaxis\":{\"gridcolor\":\"white\",\"linecolor\":\"white\",\"ticks\":\"\",\"title\":{\"standoff\":15},\"zerolinecolor\":\"white\",\"automargin\":true,\"zerolinewidth\":2},\"yaxis\":{\"gridcolor\":\"white\",\"linecolor\":\"white\",\"ticks\":\"\",\"title\":{\"standoff\":15},\"zerolinecolor\":\"white\",\"automargin\":true,\"zerolinewidth\":2},\"scene\":{\"xaxis\":{\"backgroundcolor\":\"#E5ECF6\",\"gridcolor\":\"white\",\"linecolor\":\"white\",\"showbackground\":true,\"ticks\":\"\",\"zerolinecolor\":\"white\",\"gridwidth\":2},\"yaxis\":{\"backgroundcolor\":\"#E5ECF6\",\"gridcolor\":\"white\",\"linecolor\":\"white\",\"showbackground\":true,\"ticks\":\"\",\"zerolinecolor\":\"white\",\"gridwidth\":2},\"zaxis\":{\"backgroundcolor\":\"#E5ECF6\",\"gridcolor\":\"white\",\"linecolor\":\"white\",\"showbackground\":true,\"ticks\":\"\",\"zerolinecolor\":\"white\",\"gridwidth\":2}},\"shapedefaults\":{\"line\":{\"color\":\"#2a3f5f\"}},\"annotationdefaults\":{\"arrowcolor\":\"#2a3f5f\",\"arrowhead\":0,\"arrowwidth\":1},\"geo\":{\"bgcolor\":\"white\",\"landcolor\":\"#E5ECF6\",\"subunitcolor\":\"white\",\"showland\":true,\"showlakes\":true,\"lakecolor\":\"white\"},\"title\":{\"x\":0.05},\"mapbox\":{\"style\":\"light\"}}},\"xaxis\":{\"anchor\":\"y\",\"domain\":[0.0,1.0],\"title\":{\"text\":\"x\"}},\"yaxis\":{\"anchor\":\"x\",\"domain\":[0.0,1.0],\"title\":{\"text\":\"sum of y\"}},\"legend\":{\"tracegroupgap\":0},\"margin\":{\"t\":60},\"barmode\":\"relative\"},                        {\"responsive\": true}                    ).then(function(){\n",
       "                            \n",
       "var gd = document.getElementById('5f7f0ba6-8e64-4cc4-911e-7911e88f2ad0');\n",
       "var x = new MutationObserver(function (mutations, observer) {{\n",
       "        var display = window.getComputedStyle(gd).display;\n",
       "        if (!display || display === 'none') {{\n",
       "            console.log([gd, 'removed!']);\n",
       "            Plotly.purge(gd);\n",
       "            observer.disconnect();\n",
       "        }}\n",
       "}});\n",
       "\n",
       "// Listen for the removal of the full notebook cells\n",
       "var notebookContainer = gd.closest('#notebook-container');\n",
       "if (notebookContainer) {{\n",
       "    x.observe(notebookContainer, {childList: true});\n",
       "}}\n",
       "\n",
       "// Listen for the clearing of the current output cell\n",
       "var outputEl = gd.closest('.output');\n",
       "if (outputEl) {{\n",
       "    x.observe(outputEl, {childList: true});\n",
       "}}\n",
       "\n",
       "                        })                };                });            </script>        </div>"
      ]
     },
     "metadata": {},
     "output_type": "display_data"
    },
    {
     "name": "stdout",
     "output_type": "stream",
     "text": [
      "done in 0:00:00.089079\n"
     ]
    }
   ],
   "source": [
    "from sklearn.linear_model import LogisticRegression\n",
    "from sklearn.model_selection import train_test_split\n",
    "from sklearn.metrics import accuracy_score\n",
    "from arrow import now\n",
    "\n",
    "time_start = now()\n",
    "X_train, X_test, y_train, y_test = train_test_split(df[columns], df[target], test_size=0.34, random_state=2024, stratify=df[target])\n",
    "\n",
    "regression = LogisticRegression(max_iter=1000, tol=1e-12)\n",
    "regression.fit(X=X_train, y=y_train)\n",
    "print('fit complete after {} iterations.'.format(regression.n_iter_[0]))\n",
    "print('accuracy: {:5.4f}'.format(regression.score(X=X_test, y=y_test)))\n",
    "express.histogram(x=columns, y=regression.coef_[0]).show()\n",
    "print('done in {}'.format(now() - time_start))"
   ]
  }
 ],
 "metadata": {
  "kaggle": {
   "accelerator": "none",
   "dataSources": [
    {
     "datasetId": 4610114,
     "sourceId": 7859270,
     "sourceType": "datasetVersion"
    }
   ],
   "dockerImageVersionId": 30664,
   "isGpuEnabled": false,
   "isInternetEnabled": true,
   "language": "python",
   "sourceType": "notebook"
  },
  "kernelspec": {
   "display_name": "Python 3",
   "language": "python",
   "name": "python3"
  },
  "language_info": {
   "codemirror_mode": {
    "name": "ipython",
    "version": 3
   },
   "file_extension": ".py",
   "mimetype": "text/x-python",
   "name": "python",
   "nbconvert_exporter": "python",
   "pygments_lexer": "ipython3",
   "version": "3.10.13"
  },
  "papermill": {
   "default_parameters": {},
   "duration": 42.877776,
   "end_time": "2024-03-16T12:56:18.041406",
   "environment_variables": {},
   "exception": null,
   "input_path": "__notebook__.ipynb",
   "output_path": "__notebook__.ipynb",
   "parameters": {},
   "start_time": "2024-03-16T12:55:35.163630",
   "version": "2.5.0"
  },
  "widgets": {
   "application/vnd.jupyter.widget-state+json": {
    "state": {
     "1352175435ed42e48e253644eac762a8": {
      "model_module": "@jupyter-widgets/controls",
      "model_module_version": "1.5.0",
      "model_name": "FloatProgressModel",
      "state": {
       "_dom_classes": [],
       "_model_module": "@jupyter-widgets/controls",
       "_model_module_version": "1.5.0",
       "_model_name": "FloatProgressModel",
       "_view_count": null,
       "_view_module": "@jupyter-widgets/controls",
       "_view_module_version": "1.5.0",
       "_view_name": "ProgressView",
       "bar_style": "success",
       "description": "",
       "description_tooltip": null,
       "layout": "IPY_MODEL_60a35e22ae7d477183b323b0b9cdf72f",
       "max": 100.0,
       "min": 0.0,
       "orientation": "horizontal",
       "style": "IPY_MODEL_bf03ec61b99a42de8e11f16ca2ec73f1",
       "value": 100.0
      }
     },
     "286fc5068b5949f0ad1caee28228fc3a": {
      "model_module": "@jupyter-widgets/controls",
      "model_module_version": "1.5.0",
      "model_name": "HBoxModel",
      "state": {
       "_dom_classes": [],
       "_model_module": "@jupyter-widgets/controls",
       "_model_module_version": "1.5.0",
       "_model_name": "HBoxModel",
       "_view_count": null,
       "_view_module": "@jupyter-widgets/controls",
       "_view_module_version": "1.5.0",
       "_view_name": "HBoxView",
       "box_style": "",
       "children": [
        "IPY_MODEL_417be988024746518acd3e9baa0d2f12",
        "IPY_MODEL_1352175435ed42e48e253644eac762a8",
        "IPY_MODEL_c716764eb167487f9c01eb482e9713f0"
       ],
       "layout": "IPY_MODEL_efae7b5831c74a00b4f4268e904a3a04"
      }
     },
     "417be988024746518acd3e9baa0d2f12": {
      "model_module": "@jupyter-widgets/controls",
      "model_module_version": "1.5.0",
      "model_name": "HTMLModel",
      "state": {
       "_dom_classes": [],
       "_model_module": "@jupyter-widgets/controls",
       "_model_module_version": "1.5.0",
       "_model_name": "HTMLModel",
       "_view_count": null,
       "_view_module": "@jupyter-widgets/controls",
       "_view_module_version": "1.5.0",
       "_view_name": "HTMLView",
       "description": "",
       "description_tooltip": null,
       "layout": "IPY_MODEL_8678bebff5674162897713d086066014",
       "placeholder": "​",
       "style": "IPY_MODEL_ec2cbfafa87b46eaa90d60179accfb77",
       "value": "Epochs completed: 100%| "
      }
     },
     "5a28aac2a2514318b9cfbc8cc03e5a1f": {
      "model_module": "@jupyter-widgets/controls",
      "model_module_version": "1.5.0",
      "model_name": "DescriptionStyleModel",
      "state": {
       "_model_module": "@jupyter-widgets/controls",
       "_model_module_version": "1.5.0",
       "_model_name": "DescriptionStyleModel",
       "_view_count": null,
       "_view_module": "@jupyter-widgets/base",
       "_view_module_version": "1.2.0",
       "_view_name": "StyleView",
       "description_width": ""
      }
     },
     "60a35e22ae7d477183b323b0b9cdf72f": {
      "model_module": "@jupyter-widgets/base",
      "model_module_version": "1.2.0",
      "model_name": "LayoutModel",
      "state": {
       "_model_module": "@jupyter-widgets/base",
       "_model_module_version": "1.2.0",
       "_model_name": "LayoutModel",
       "_view_count": null,
       "_view_module": "@jupyter-widgets/base",
       "_view_module_version": "1.2.0",
       "_view_name": "LayoutView",
       "align_content": null,
       "align_items": null,
       "align_self": null,
       "border": null,
       "bottom": null,
       "display": null,
       "flex": null,
       "flex_flow": null,
       "grid_area": null,
       "grid_auto_columns": null,
       "grid_auto_flow": null,
       "grid_auto_rows": null,
       "grid_column": null,
       "grid_gap": null,
       "grid_row": null,
       "grid_template_areas": null,
       "grid_template_columns": null,
       "grid_template_rows": null,
       "height": null,
       "justify_content": null,
       "justify_items": null,
       "left": null,
       "margin": null,
       "max_height": null,
       "max_width": null,
       "min_height": null,
       "min_width": null,
       "object_fit": null,
       "object_position": null,
       "order": null,
       "overflow": null,
       "overflow_x": null,
       "overflow_y": null,
       "padding": null,
       "right": null,
       "top": null,
       "visibility": null,
       "width": null
      }
     },
     "6cada6445d6843929254a926f42112a9": {
      "model_module": "@jupyter-widgets/base",
      "model_module_version": "1.2.0",
      "model_name": "LayoutModel",
      "state": {
       "_model_module": "@jupyter-widgets/base",
       "_model_module_version": "1.2.0",
       "_model_name": "LayoutModel",
       "_view_count": null,
       "_view_module": "@jupyter-widgets/base",
       "_view_module_version": "1.2.0",
       "_view_name": "LayoutView",
       "align_content": null,
       "align_items": null,
       "align_self": null,
       "border": null,
       "bottom": null,
       "display": null,
       "flex": null,
       "flex_flow": null,
       "grid_area": null,
       "grid_auto_columns": null,
       "grid_auto_flow": null,
       "grid_auto_rows": null,
       "grid_column": null,
       "grid_gap": null,
       "grid_row": null,
       "grid_template_areas": null,
       "grid_template_columns": null,
       "grid_template_rows": null,
       "height": null,
       "justify_content": null,
       "justify_items": null,
       "left": null,
       "margin": null,
       "max_height": null,
       "max_width": null,
       "min_height": null,
       "min_width": null,
       "object_fit": null,
       "object_position": null,
       "order": null,
       "overflow": null,
       "overflow_x": null,
       "overflow_y": null,
       "padding": null,
       "right": null,
       "top": null,
       "visibility": null,
       "width": null
      }
     },
     "8678bebff5674162897713d086066014": {
      "model_module": "@jupyter-widgets/base",
      "model_module_version": "1.2.0",
      "model_name": "LayoutModel",
      "state": {
       "_model_module": "@jupyter-widgets/base",
       "_model_module_version": "1.2.0",
       "_model_name": "LayoutModel",
       "_view_count": null,
       "_view_module": "@jupyter-widgets/base",
       "_view_module_version": "1.2.0",
       "_view_name": "LayoutView",
       "align_content": null,
       "align_items": null,
       "align_self": null,
       "border": null,
       "bottom": null,
       "display": null,
       "flex": null,
       "flex_flow": null,
       "grid_area": null,
       "grid_auto_columns": null,
       "grid_auto_flow": null,
       "grid_auto_rows": null,
       "grid_column": null,
       "grid_gap": null,
       "grid_row": null,
       "grid_template_areas": null,
       "grid_template_columns": null,
       "grid_template_rows": null,
       "height": null,
       "justify_content": null,
       "justify_items": null,
       "left": null,
       "margin": null,
       "max_height": null,
       "max_width": null,
       "min_height": null,
       "min_width": null,
       "object_fit": null,
       "object_position": null,
       "order": null,
       "overflow": null,
       "overflow_x": null,
       "overflow_y": null,
       "padding": null,
       "right": null,
       "top": null,
       "visibility": null,
       "width": null
      }
     },
     "bf03ec61b99a42de8e11f16ca2ec73f1": {
      "model_module": "@jupyter-widgets/controls",
      "model_module_version": "1.5.0",
      "model_name": "ProgressStyleModel",
      "state": {
       "_model_module": "@jupyter-widgets/controls",
       "_model_module_version": "1.5.0",
       "_model_name": "ProgressStyleModel",
       "_view_count": null,
       "_view_module": "@jupyter-widgets/base",
       "_view_module_version": "1.2.0",
       "_view_name": "StyleView",
       "bar_color": null,
       "description_width": ""
      }
     },
     "c716764eb167487f9c01eb482e9713f0": {
      "model_module": "@jupyter-widgets/controls",
      "model_module_version": "1.5.0",
      "model_name": "HTMLModel",
      "state": {
       "_dom_classes": [],
       "_model_module": "@jupyter-widgets/controls",
       "_model_module_version": "1.5.0",
       "_model_name": "HTMLModel",
       "_view_count": null,
       "_view_module": "@jupyter-widgets/controls",
       "_view_module_version": "1.5.0",
       "_view_name": "HTMLView",
       "description": "",
       "description_tooltip": null,
       "layout": "IPY_MODEL_6cada6445d6843929254a926f42112a9",
       "placeholder": "​",
       "style": "IPY_MODEL_5a28aac2a2514318b9cfbc8cc03e5a1f",
       "value": " 100/100 [00:01]"
      }
     },
     "ec2cbfafa87b46eaa90d60179accfb77": {
      "model_module": "@jupyter-widgets/controls",
      "model_module_version": "1.5.0",
      "model_name": "DescriptionStyleModel",
      "state": {
       "_model_module": "@jupyter-widgets/controls",
       "_model_module_version": "1.5.0",
       "_model_name": "DescriptionStyleModel",
       "_view_count": null,
       "_view_module": "@jupyter-widgets/base",
       "_view_module_version": "1.2.0",
       "_view_name": "StyleView",
       "description_width": ""
      }
     },
     "efae7b5831c74a00b4f4268e904a3a04": {
      "model_module": "@jupyter-widgets/base",
      "model_module_version": "1.2.0",
      "model_name": "LayoutModel",
      "state": {
       "_model_module": "@jupyter-widgets/base",
       "_model_module_version": "1.2.0",
       "_model_name": "LayoutModel",
       "_view_count": null,
       "_view_module": "@jupyter-widgets/base",
       "_view_module_version": "1.2.0",
       "_view_name": "LayoutView",
       "align_content": null,
       "align_items": null,
       "align_self": null,
       "border": null,
       "bottom": null,
       "display": null,
       "flex": null,
       "flex_flow": null,
       "grid_area": null,
       "grid_auto_columns": null,
       "grid_auto_flow": null,
       "grid_auto_rows": null,
       "grid_column": null,
       "grid_gap": null,
       "grid_row": null,
       "grid_template_areas": null,
       "grid_template_columns": null,
       "grid_template_rows": null,
       "height": null,
       "justify_content": null,
       "justify_items": null,
       "left": null,
       "margin": null,
       "max_height": null,
       "max_width": null,
       "min_height": null,
       "min_width": null,
       "object_fit": null,
       "object_position": null,
       "order": null,
       "overflow": null,
       "overflow_x": null,
       "overflow_y": null,
       "padding": null,
       "right": null,
       "top": null,
       "visibility": null,
       "width": null
      }
     }
    },
    "version_major": 2,
    "version_minor": 0
   }
  }
 },
 "nbformat": 4,
 "nbformat_minor": 5
}
