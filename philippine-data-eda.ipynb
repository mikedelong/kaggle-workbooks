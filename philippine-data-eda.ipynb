{
 "cells": [
  {
   "cell_type": "markdown",
   "id": "4bb89c91",
   "metadata": {
    "papermill": {
     "duration": 0.002456,
     "end_time": "2025-02-15T18:19:47.751621",
     "exception": false,
     "start_time": "2025-02-15T18:19:47.749165",
     "status": "completed"
    },
    "tags": []
   },
   "source": [
    "Let's load up our data and do a little cleanup. We have two-line headers, so our columns will be a MultiIndex. We have two date columns, so we need to parse them. And we have four columns that always contain the same value, so we can drop them. Once we've done that we can convert our column names to a single index, and our data will be easier to work with."
   ]
  },
  {
   "cell_type": "code",
   "execution_count": 1,
   "id": "636d4639",
   "metadata": {
    "_cell_guid": "b1076dfc-b9ad-4769-8c92-a6c4dae69d19",
    "_uuid": "8f2839f25d086af736a60e9eeb907d3b93b6e0e5",
    "execution": {
     "iopub.execute_input": "2025-02-15T18:19:47.756643Z",
     "iopub.status.busy": "2025-02-15T18:19:47.756337Z",
     "iopub.status.idle": "2025-02-15T18:19:48.878982Z",
     "shell.execute_reply": "2025-02-15T18:19:48.878126Z"
    },
    "papermill": {
     "duration": 1.126528,
     "end_time": "2025-02-15T18:19:48.880239",
     "exception": false,
     "start_time": "2025-02-15T18:19:47.753711",
     "status": "completed"
    },
    "tags": []
   },
   "outputs": [
    {
     "data": {
      "text/html": [
       "<div>\n",
       "<style scoped>\n",
       "    .dataframe tbody tr th:only-of-type {\n",
       "        vertical-align: middle;\n",
       "    }\n",
       "\n",
       "    .dataframe tbody tr th {\n",
       "        vertical-align: top;\n",
       "    }\n",
       "\n",
       "    .dataframe thead th {\n",
       "        text-align: right;\n",
       "    }\n",
       "</style>\n",
       "<table border=\"1\" class=\"dataframe\">\n",
       "  <thead>\n",
       "    <tr style=\"text-align: right;\">\n",
       "      <th></th>\n",
       "      <th>StartDate</th>\n",
       "      <th>EndDate</th>\n",
       "      <th>Item Code</th>\n",
       "      <th>Item</th>\n",
       "      <th>Element Code</th>\n",
       "      <th>Element</th>\n",
       "      <th>Year Code</th>\n",
       "      <th>Year</th>\n",
       "      <th>Unit</th>\n",
       "      <th>Value</th>\n",
       "      <th>Flag</th>\n",
       "      <th>Note</th>\n",
       "    </tr>\n",
       "  </thead>\n",
       "  <tbody>\n",
       "    <tr>\n",
       "      <th>0</th>\n",
       "      <td>2000-01-01</td>\n",
       "      <td>2002-12-31</td>\n",
       "      <td>21010</td>\n",
       "      <td>Average dietary energy supply adequacy (percen...</td>\n",
       "      <td>6121</td>\n",
       "      <td>Value</td>\n",
       "      <td>20002002</td>\n",
       "      <td>2002</td>\n",
       "      <td>%</td>\n",
       "      <td>109.0</td>\n",
       "      <td>E</td>\n",
       "      <td>NaN</td>\n",
       "    </tr>\n",
       "    <tr>\n",
       "      <th>1</th>\n",
       "      <td>2001-01-01</td>\n",
       "      <td>2003-12-31</td>\n",
       "      <td>21010</td>\n",
       "      <td>Average dietary energy supply adequacy (percen...</td>\n",
       "      <td>6121</td>\n",
       "      <td>Value</td>\n",
       "      <td>20012003</td>\n",
       "      <td>2003</td>\n",
       "      <td>%</td>\n",
       "      <td>109.0</td>\n",
       "      <td>E</td>\n",
       "      <td>NaN</td>\n",
       "    </tr>\n",
       "    <tr>\n",
       "      <th>2</th>\n",
       "      <td>2002-01-01</td>\n",
       "      <td>2004-12-31</td>\n",
       "      <td>21010</td>\n",
       "      <td>Average dietary energy supply adequacy (percen...</td>\n",
       "      <td>6121</td>\n",
       "      <td>Value</td>\n",
       "      <td>20022004</td>\n",
       "      <td>2004</td>\n",
       "      <td>%</td>\n",
       "      <td>110.0</td>\n",
       "      <td>E</td>\n",
       "      <td>NaN</td>\n",
       "    </tr>\n",
       "    <tr>\n",
       "      <th>3</th>\n",
       "      <td>2003-01-01</td>\n",
       "      <td>2005-12-31</td>\n",
       "      <td>21010</td>\n",
       "      <td>Average dietary energy supply adequacy (percen...</td>\n",
       "      <td>6121</td>\n",
       "      <td>Value</td>\n",
       "      <td>20032005</td>\n",
       "      <td>2005</td>\n",
       "      <td>%</td>\n",
       "      <td>111.0</td>\n",
       "      <td>E</td>\n",
       "      <td>NaN</td>\n",
       "    </tr>\n",
       "    <tr>\n",
       "      <th>4</th>\n",
       "      <td>2004-01-01</td>\n",
       "      <td>2006-12-31</td>\n",
       "      <td>21010</td>\n",
       "      <td>Average dietary energy supply adequacy (percen...</td>\n",
       "      <td>6121</td>\n",
       "      <td>Value</td>\n",
       "      <td>20042006</td>\n",
       "      <td>2006</td>\n",
       "      <td>%</td>\n",
       "      <td>112.0</td>\n",
       "      <td>E</td>\n",
       "      <td>NaN</td>\n",
       "    </tr>\n",
       "  </tbody>\n",
       "</table>\n",
       "</div>"
      ],
      "text/plain": [
       "   StartDate    EndDate Item Code  \\\n",
       "0 2000-01-01 2002-12-31     21010   \n",
       "1 2001-01-01 2003-12-31     21010   \n",
       "2 2002-01-01 2004-12-31     21010   \n",
       "3 2003-01-01 2005-12-31     21010   \n",
       "4 2004-01-01 2006-12-31     21010   \n",
       "\n",
       "                                                Item  Element Code Element  \\\n",
       "0  Average dietary energy supply adequacy (percen...          6121   Value   \n",
       "1  Average dietary energy supply adequacy (percen...          6121   Value   \n",
       "2  Average dietary energy supply adequacy (percen...          6121   Value   \n",
       "3  Average dietary energy supply adequacy (percen...          6121   Value   \n",
       "4  Average dietary energy supply adequacy (percen...          6121   Value   \n",
       "\n",
       "   Year Code  Year Unit  Value Flag Note  \n",
       "0   20002002  2002    %  109.0    E  NaN  \n",
       "1   20012003  2003    %  109.0    E  NaN  \n",
       "2   20022004  2004    %  110.0    E  NaN  \n",
       "3   20032005  2005    %  111.0    E  NaN  \n",
       "4   20042006  2006    %  112.0    E  NaN  "
      ]
     },
     "execution_count": 1,
     "metadata": {},
     "output_type": "execute_result"
    }
   ],
   "source": [
    "import pandas as pd\n",
    "\n",
    "DATA = '/kaggle/input/philippines-food-security-and-nutrition-indicators/suite-of-food-security-indicators_phl.csv'\n",
    "df = pd.read_csv(filepath_or_buffer=DATA, header=[0, 1], parse_dates=[('StartDate', '#date+start'), ('EndDate', '#date+end')])\n",
    "df = df.drop(columns=[('Iso3', '#country+code'), ('Area Code', 'Unnamed: 3_level_1'), ('Area Code (M49)', 'Unnamed: 4_level_1'), ('Area', '#country+name')])\n",
    "df.columns = df.columns.get_level_values(0)\n",
    "df.head()"
   ]
  },
  {
   "cell_type": "markdown",
   "id": "83af5711",
   "metadata": {
    "papermill": {
     "duration": 0.0018,
     "end_time": "2025-02-15T18:19:48.884326",
     "exception": false,
     "start_time": "2025-02-15T18:19:48.882526",
     "status": "completed"
    },
    "tags": []
   },
   "source": [
    "How many items do we have?"
   ]
  },
  {
   "cell_type": "code",
   "execution_count": 2,
   "id": "07af1576",
   "metadata": {
    "execution": {
     "iopub.execute_input": "2025-02-15T18:19:48.889083Z",
     "iopub.status.busy": "2025-02-15T18:19:48.888808Z",
     "iopub.status.idle": "2025-02-15T18:19:48.893673Z",
     "shell.execute_reply": "2025-02-15T18:19:48.892942Z"
    },
    "papermill": {
     "duration": 0.008637,
     "end_time": "2025-02-15T18:19:48.894842",
     "exception": false,
     "start_time": "2025-02-15T18:19:48.886205",
     "status": "completed"
    },
    "tags": []
   },
   "outputs": [
    {
     "data": {
      "text/plain": [
       "49"
      ]
     },
     "execution_count": 2,
     "metadata": {},
     "output_type": "execute_result"
    }
   ],
   "source": [
    "df['Item'].nunique()"
   ]
  },
  {
   "cell_type": "markdown",
   "id": "dea729a2",
   "metadata": {
    "papermill": {
     "duration": 0.001768,
     "end_time": "2025-02-15T18:19:48.898804",
     "exception": false,
     "start_time": "2025-02-15T18:19:48.897036",
     "status": "completed"
    },
    "tags": []
   },
   "source": [
    "It turns out we have a lot of different series of data here. We're going to need a lot of colors if we plot them all together on one graph."
   ]
  },
  {
   "cell_type": "markdown",
   "id": "c470786c",
   "metadata": {
    "papermill": {
     "duration": 0.001759,
     "end_time": "2025-02-15T18:19:48.902462",
     "exception": false,
     "start_time": "2025-02-15T18:19:48.900703",
     "status": "completed"
    },
    "tags": []
   },
   "source": [
    "Let's make an exploratory plot. Because we have so many variables and not many years of data we probably should use a line plot to see year over year changes. Also, we probably need a log plot because so many of our variables are so similar."
   ]
  },
  {
   "cell_type": "code",
   "execution_count": 3,
   "id": "b75ff751",
   "metadata": {
    "execution": {
     "iopub.execute_input": "2025-02-15T18:19:48.907942Z",
     "iopub.status.busy": "2025-02-15T18:19:48.907634Z",
     "iopub.status.idle": "2025-02-15T18:19:51.925982Z",
     "shell.execute_reply": "2025-02-15T18:19:51.925072Z"
    },
    "papermill": {
     "duration": 3.022776,
     "end_time": "2025-02-15T18:19:51.927453",
     "exception": false,
     "start_time": "2025-02-15T18:19:48.904677",
     "status": "completed"
    },
    "tags": []
   },
   "outputs": [
    {
     "data": {
      "text/html": [
       "        <script type=\"text/javascript\">\n",
       "        window.PlotlyConfig = {MathJaxConfig: 'local'};\n",
       "        if (window.MathJax && window.MathJax.Hub && window.MathJax.Hub.Config) {window.MathJax.Hub.Config({SVG: {font: \"STIX-Web\"}});}\n",
       "        if (typeof require !== 'undefined') {\n",
       "        require.undef(\"plotly\");\n",
       "        requirejs.config({\n",
       "            paths: {\n",
       "                'plotly': ['https://cdn.plot.ly/plotly-2.35.2.min']\n",
       "            }\n",
       "        });\n",
       "        require(['plotly'], function(Plotly) {\n",
       "            window._Plotly = Plotly;\n",
       "        });\n",
       "        }\n",
       "        </script>\n",
       "        "
      ]
     },
     "metadata": {},
     "output_type": "display_data"
    },
    {
     "data": {
      "text/html": [
       "<iframe\n",
       "    scrolling=\"no\"\n",
       "    width=\"100%\"\n",
       "    height=\"920\"\n",
       "    src=\"iframe_figures/figure_3.html\"\n",
       "    frameborder=\"0\"\n",
       "    allowfullscreen\n",
       "></iframe>\n"
      ]
     },
     "metadata": {},
     "output_type": "display_data"
    }
   ],
   "source": [
    "from plotly import colors\n",
    "from plotly import express\n",
    "from plotly.offline import init_notebook_mode\n",
    "\n",
    "init_notebook_mode(connected=True)\n",
    "\n",
    "express.line(data_frame=df, x='Year', y='Value', color='Item Code', color_discrete_sequence = colors.sample_colorscale('HSV', 50), log_y=True, height=900).show(renderer='iframe_connected', )"
   ]
  },
  {
   "cell_type": "markdown",
   "id": "24014f86",
   "metadata": {
    "papermill": {
     "duration": 0.002004,
     "end_time": "2025-02-15T18:19:51.931942",
     "exception": false,
     "start_time": "2025-02-15T18:19:51.929938",
     "status": "completed"
    },
    "tags": []
   },
   "source": [
    "What do we see? We see that for most of our variables we have only partial series. And most of them change very little from year to year."
   ]
  },
  {
   "cell_type": "code",
   "execution_count": 4,
   "id": "e5334ba9",
   "metadata": {
    "execution": {
     "iopub.execute_input": "2025-02-15T18:19:51.937264Z",
     "iopub.status.busy": "2025-02-15T18:19:51.936945Z",
     "iopub.status.idle": "2025-02-15T18:19:51.950636Z",
     "shell.execute_reply": "2025-02-15T18:19:51.949708Z"
    },
    "papermill": {
     "duration": 0.017908,
     "end_time": "2025-02-15T18:19:51.951929",
     "exception": false,
     "start_time": "2025-02-15T18:19:51.934021",
     "status": "completed"
    },
    "tags": []
   },
   "outputs": [
    {
     "data": {
      "text/html": [
       "<div>\n",
       "<style scoped>\n",
       "    .dataframe tbody tr th:only-of-type {\n",
       "        vertical-align: middle;\n",
       "    }\n",
       "\n",
       "    .dataframe tbody tr th {\n",
       "        vertical-align: top;\n",
       "    }\n",
       "\n",
       "    .dataframe thead th {\n",
       "        text-align: right;\n",
       "    }\n",
       "</style>\n",
       "<table border=\"1\" class=\"dataframe\">\n",
       "  <thead>\n",
       "    <tr style=\"text-align: right;\">\n",
       "      <th></th>\n",
       "      <th>StartDate</th>\n",
       "      <th>EndDate</th>\n",
       "      <th>Item Code</th>\n",
       "      <th>Item</th>\n",
       "      <th>Element Code</th>\n",
       "      <th>Element</th>\n",
       "      <th>Year Code</th>\n",
       "      <th>Year</th>\n",
       "      <th>Unit</th>\n",
       "      <th>Value</th>\n",
       "      <th>Flag</th>\n",
       "      <th>Note</th>\n",
       "    </tr>\n",
       "  </thead>\n",
       "  <tbody>\n",
       "    <tr>\n",
       "      <th>574</th>\n",
       "      <td>2000-01-01</td>\n",
       "      <td>2000-12-31</td>\n",
       "      <td>21031</td>\n",
       "      <td>Per capita food supply variability (kcal/cap/day)</td>\n",
       "      <td>6128</td>\n",
       "      <td>Value</td>\n",
       "      <td>2000</td>\n",
       "      <td>2000</td>\n",
       "      <td>kcal/cap/d</td>\n",
       "      <td>40.0</td>\n",
       "      <td>E</td>\n",
       "      <td>NaN</td>\n",
       "    </tr>\n",
       "    <tr>\n",
       "      <th>575</th>\n",
       "      <td>2001-01-01</td>\n",
       "      <td>2001-12-31</td>\n",
       "      <td>21031</td>\n",
       "      <td>Per capita food supply variability (kcal/cap/day)</td>\n",
       "      <td>6128</td>\n",
       "      <td>Value</td>\n",
       "      <td>2001</td>\n",
       "      <td>2001</td>\n",
       "      <td>kcal/cap/d</td>\n",
       "      <td>40.0</td>\n",
       "      <td>E</td>\n",
       "      <td>NaN</td>\n",
       "    </tr>\n",
       "    <tr>\n",
       "      <th>576</th>\n",
       "      <td>2002-01-01</td>\n",
       "      <td>2002-12-31</td>\n",
       "      <td>21031</td>\n",
       "      <td>Per capita food supply variability (kcal/cap/day)</td>\n",
       "      <td>6128</td>\n",
       "      <td>Value</td>\n",
       "      <td>2002</td>\n",
       "      <td>2002</td>\n",
       "      <td>kcal/cap/d</td>\n",
       "      <td>29.0</td>\n",
       "      <td>E</td>\n",
       "      <td>NaN</td>\n",
       "    </tr>\n",
       "    <tr>\n",
       "      <th>577</th>\n",
       "      <td>2003-01-01</td>\n",
       "      <td>2003-12-31</td>\n",
       "      <td>21031</td>\n",
       "      <td>Per capita food supply variability (kcal/cap/day)</td>\n",
       "      <td>6128</td>\n",
       "      <td>Value</td>\n",
       "      <td>2003</td>\n",
       "      <td>2003</td>\n",
       "      <td>kcal/cap/d</td>\n",
       "      <td>25.0</td>\n",
       "      <td>E</td>\n",
       "      <td>NaN</td>\n",
       "    </tr>\n",
       "    <tr>\n",
       "      <th>578</th>\n",
       "      <td>2004-01-01</td>\n",
       "      <td>2004-12-31</td>\n",
       "      <td>21031</td>\n",
       "      <td>Per capita food supply variability (kcal/cap/day)</td>\n",
       "      <td>6128</td>\n",
       "      <td>Value</td>\n",
       "      <td>2004</td>\n",
       "      <td>2004</td>\n",
       "      <td>kcal/cap/d</td>\n",
       "      <td>17.0</td>\n",
       "      <td>E</td>\n",
       "      <td>NaN</td>\n",
       "    </tr>\n",
       "  </tbody>\n",
       "</table>\n",
       "</div>"
      ],
      "text/plain": [
       "     StartDate    EndDate Item Code  \\\n",
       "574 2000-01-01 2000-12-31     21031   \n",
       "575 2001-01-01 2001-12-31     21031   \n",
       "576 2002-01-01 2002-12-31     21031   \n",
       "577 2003-01-01 2003-12-31     21031   \n",
       "578 2004-01-01 2004-12-31     21031   \n",
       "\n",
       "                                                  Item  Element Code Element  \\\n",
       "574  Per capita food supply variability (kcal/cap/day)          6128   Value   \n",
       "575  Per capita food supply variability (kcal/cap/day)          6128   Value   \n",
       "576  Per capita food supply variability (kcal/cap/day)          6128   Value   \n",
       "577  Per capita food supply variability (kcal/cap/day)          6128   Value   \n",
       "578  Per capita food supply variability (kcal/cap/day)          6128   Value   \n",
       "\n",
       "     Year Code  Year        Unit  Value Flag Note  \n",
       "574       2000  2000  kcal/cap/d   40.0    E  NaN  \n",
       "575       2001  2001  kcal/cap/d   40.0    E  NaN  \n",
       "576       2002  2002  kcal/cap/d   29.0    E  NaN  \n",
       "577       2003  2003  kcal/cap/d   25.0    E  NaN  \n",
       "578       2004  2004  kcal/cap/d   17.0    E  NaN  "
      ]
     },
     "execution_count": 4,
     "metadata": {},
     "output_type": "execute_result"
    }
   ],
   "source": [
    "df[df['Item Code'] == '21031'].head()"
   ]
  },
  {
   "cell_type": "markdown",
   "id": "d7092e51",
   "metadata": {
    "papermill": {
     "duration": 0.002171,
     "end_time": "2025-02-15T18:19:51.956779",
     "exception": false,
     "start_time": "2025-02-15T18:19:51.954608",
     "status": "completed"
    },
    "tags": []
   },
   "source": [
    "The only variable with much variability year to year is Per capita food supply variability, which is interesting."
   ]
  }
 ],
 "metadata": {
  "kaggle": {
   "accelerator": "none",
   "dataSources": [
    {
     "datasetId": 6663722,
     "sourceId": 10745245,
     "sourceType": "datasetVersion"
    }
   ],
   "dockerImageVersionId": 30886,
   "isGpuEnabled": false,
   "isInternetEnabled": true,
   "language": "python",
   "sourceType": "notebook"
  },
  "kernelspec": {
   "display_name": "Python 3",
   "language": "python",
   "name": "python3"
  },
  "language_info": {
   "codemirror_mode": {
    "name": "ipython",
    "version": 3
   },
   "file_extension": ".py",
   "mimetype": "text/x-python",
   "name": "python",
   "nbconvert_exporter": "python",
   "pygments_lexer": "ipython3",
   "version": "3.10.12"
  },
  "papermill": {
   "default_parameters": {},
   "duration": 7.150279,
   "end_time": "2025-02-15T18:19:52.579695",
   "environment_variables": {},
   "exception": null,
   "input_path": "__notebook__.ipynb",
   "output_path": "__notebook__.ipynb",
   "parameters": {},
   "start_time": "2025-02-15T18:19:45.429416",
   "version": "2.6.0"
  }
 },
 "nbformat": 4,
 "nbformat_minor": 5
}
