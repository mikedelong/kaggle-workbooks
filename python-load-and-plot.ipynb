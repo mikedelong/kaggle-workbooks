{
 "cells": [
  {
   "cell_type": "code",
   "execution_count": 1,
   "id": "2314d04a",
   "metadata": {
    "execution": {
     "iopub.execute_input": "2023-08-23T17:52:38.301215Z",
     "iopub.status.busy": "2023-08-23T17:52:38.300263Z",
     "iopub.status.idle": "2023-08-23T17:52:38.451920Z",
     "shell.execute_reply": "2023-08-23T17:52:38.450755Z"
    },
    "papermill": {
     "duration": 0.161887,
     "end_time": "2023-08-23T17:52:38.455208",
     "exception": false,
     "start_time": "2023-08-23T17:52:38.293321",
     "status": "completed"
    },
    "tags": []
   },
   "outputs": [
    {
     "name": "stdout",
     "output_type": "stream",
     "text": [
      "<class 'pandas.core.frame.DataFrame'>\n",
      "Int64Index: 2714 entries, 0 to 9984\n",
      "Data columns (total 8 columns):\n",
      " #   Column            Non-Null Count  Dtype  \n",
      "---  ------            --------------  -----  \n",
      " 0   Company name      2714 non-null   object \n",
      " 1   Rating            2714 non-null   float64\n",
      " 2   Company type      2714 non-null   object \n",
      " 3   Sector            2714 non-null   object \n",
      " 4   Old               2714 non-null   object \n",
      " 5   Company location  2714 non-null   object \n",
      " 6   Employees         2714 non-null   object \n",
      " 7   Reviews           2714 non-null   object \n",
      "dtypes: float64(1), object(7)\n",
      "memory usage: 190.8+ KB\n"
     ]
    }
   ],
   "source": [
    "import pandas as pd\n",
    "df = pd.read_csv(filepath_or_buffer='/kaggle/input/company-reviews-and-ratings-from-ambitionbox/AmbitionBox_dataset.csv', \n",
    "                index_col=['Index'], skipinitialspace=True, )\n",
    "# we have a lot of damaged rows; let's drop them\n",
    "df = df.dropna()\n",
    "df.info()"
   ]
  },
  {
   "cell_type": "code",
   "execution_count": 2,
   "id": "18c3b2d9",
   "metadata": {
    "execution": {
     "iopub.execute_input": "2023-08-23T17:52:38.465734Z",
     "iopub.status.busy": "2023-08-23T17:52:38.464680Z",
     "iopub.status.idle": "2023-08-23T17:52:38.488793Z",
     "shell.execute_reply": "2023-08-23T17:52:38.487475Z"
    },
    "papermill": {
     "duration": 0.032361,
     "end_time": "2023-08-23T17:52:38.491792",
     "exception": false,
     "start_time": "2023-08-23T17:52:38.459431",
     "status": "completed"
    },
    "tags": []
   },
   "outputs": [],
   "source": [
    "# we have a lot of trailing spaces we need to remove\n",
    "for column in [item for item in df.columns.tolist() if item != 'Rating']:\n",
    "    df[column] = df[column].str.strip()"
   ]
  },
  {
   "cell_type": "code",
   "execution_count": 3,
   "id": "e2ae5c22",
   "metadata": {
    "execution": {
     "iopub.execute_input": "2023-08-23T17:52:38.502174Z",
     "iopub.status.busy": "2023-08-23T17:52:38.501050Z",
     "iopub.status.idle": "2023-08-23T17:52:38.921107Z",
     "shell.execute_reply": "2023-08-23T17:52:38.919654Z"
    },
    "papermill": {
     "duration": 0.428204,
     "end_time": "2023-08-23T17:52:38.924118",
     "exception": false,
     "start_time": "2023-08-23T17:52:38.495914",
     "status": "completed"
    },
    "tags": []
   },
   "outputs": [
    {
     "data": {
      "text/plain": [
       "<Axes: ylabel='Frequency'>"
      ]
     },
     "execution_count": 3,
     "metadata": {},
     "output_type": "execute_result"
    },
    {
     "data": {
      "image/png": "[encoded data removed]",
      "text/plain": [
       "<Figure size 640x480 with 1 Axes>"
      ]
     },
     "metadata": {},
     "output_type": "display_data"
    }
   ],
   "source": [
    "df['Rating'].plot.hist(bins=30)"
   ]
  },
  {
   "cell_type": "code",
   "execution_count": 4,
   "id": "f128518e",
   "metadata": {
    "execution": {
     "iopub.execute_input": "2023-08-23T17:52:38.934844Z",
     "iopub.status.busy": "2023-08-23T17:52:38.934402Z",
     "iopub.status.idle": "2023-08-23T17:52:38.964077Z",
     "shell.execute_reply": "2023-08-23T17:52:38.962966Z"
    },
    "papermill": {
     "duration": 0.038215,
     "end_time": "2023-08-23T17:52:38.966926",
     "exception": false,
     "start_time": "2023-08-23T17:52:38.928711",
     "status": "completed"
    },
    "tags": []
   },
   "outputs": [
    {
     "data": {
      "text/html": [
       "<div>\n",
       "<style scoped>\n",
       "    .dataframe tbody tr th:only-of-type {\n",
       "        vertical-align: middle;\n",
       "    }\n",
       "\n",
       "    .dataframe tbody tr th {\n",
       "        vertical-align: top;\n",
       "    }\n",
       "\n",
       "    .dataframe thead th {\n",
       "        text-align: right;\n",
       "    }\n",
       "</style>\n",
       "<table border=\"1\" class=\"dataframe\">\n",
       "  <thead>\n",
       "    <tr style=\"text-align: right;\">\n",
       "      <th></th>\n",
       "      <th>Company name</th>\n",
       "      <th>Rating</th>\n",
       "      <th>Company type</th>\n",
       "      <th>Sector</th>\n",
       "      <th>Old</th>\n",
       "      <th>Company location</th>\n",
       "      <th>Employees</th>\n",
       "      <th>Reviews</th>\n",
       "      <th>Age (years)</th>\n",
       "    </tr>\n",
       "    <tr>\n",
       "      <th>Index</th>\n",
       "      <th></th>\n",
       "      <th></th>\n",
       "      <th></th>\n",
       "      <th></th>\n",
       "      <th></th>\n",
       "      <th></th>\n",
       "      <th></th>\n",
       "      <th></th>\n",
       "      <th></th>\n",
       "    </tr>\n",
       "  </thead>\n",
       "  <tbody>\n",
       "    <tr>\n",
       "      <th>0</th>\n",
       "      <td>TCS</td>\n",
       "      <td>3.8</td>\n",
       "      <td>Public</td>\n",
       "      <td>IT Services &amp; Consulting</td>\n",
       "      <td>55 years old</td>\n",
       "      <td>Mumbai +280 more</td>\n",
       "      <td>1 Lakh+ Employees</td>\n",
       "      <td>62.2k Reviews</td>\n",
       "      <td>55</td>\n",
       "    </tr>\n",
       "    <tr>\n",
       "      <th>1</th>\n",
       "      <td>Accenture</td>\n",
       "      <td>4.1</td>\n",
       "      <td>Public</td>\n",
       "      <td>IT Services &amp; Consulting</td>\n",
       "      <td>34 years old</td>\n",
       "      <td>Dublin +141 more</td>\n",
       "      <td>1 Lakh+ Employees</td>\n",
       "      <td>39.7k Reviews</td>\n",
       "      <td>34</td>\n",
       "    </tr>\n",
       "    <tr>\n",
       "      <th>2</th>\n",
       "      <td>Cognizant</td>\n",
       "      <td>3.9</td>\n",
       "      <td>Forbes Global 2000</td>\n",
       "      <td>IT Services &amp; Consulting</td>\n",
       "      <td>29 years old</td>\n",
       "      <td>Teaneck. New Jersey. +111 more</td>\n",
       "      <td>1 Lakh+ Employees</td>\n",
       "      <td>36.2k Reviews</td>\n",
       "      <td>29</td>\n",
       "    </tr>\n",
       "    <tr>\n",
       "      <th>3</th>\n",
       "      <td>Wipro</td>\n",
       "      <td>3.8</td>\n",
       "      <td>Public</td>\n",
       "      <td>IT Services &amp; Consulting</td>\n",
       "      <td>78 years old</td>\n",
       "      <td>Bangalore/Bengaluru +243 more</td>\n",
       "      <td>1 Lakh+ Employees</td>\n",
       "      <td>29.8k Reviews</td>\n",
       "      <td>78</td>\n",
       "    </tr>\n",
       "    <tr>\n",
       "      <th>4</th>\n",
       "      <td>ICICI Bank</td>\n",
       "      <td>4.0</td>\n",
       "      <td>Public</td>\n",
       "      <td>Banking</td>\n",
       "      <td>29 years old</td>\n",
       "      <td>Mumbai +1183 more</td>\n",
       "      <td>1 Lakh+ Employees</td>\n",
       "      <td>29.4k Reviews</td>\n",
       "      <td>29</td>\n",
       "    </tr>\n",
       "  </tbody>\n",
       "</table>\n",
       "</div>"
      ],
      "text/plain": [
       "      Company name  Rating        Company type                    Sector  \\\n",
       "Index                                                                      \n",
       "0              TCS     3.8              Public  IT Services & Consulting   \n",
       "1        Accenture     4.1              Public  IT Services & Consulting   \n",
       "2        Cognizant     3.9  Forbes Global 2000  IT Services & Consulting   \n",
       "3            Wipro     3.8              Public  IT Services & Consulting   \n",
       "4       ICICI Bank     4.0              Public                   Banking   \n",
       "\n",
       "                Old                Company location          Employees  \\\n",
       "Index                                                                    \n",
       "0      55 years old                Mumbai +280 more  1 Lakh+ Employees   \n",
       "1      34 years old                Dublin +141 more  1 Lakh+ Employees   \n",
       "2      29 years old  Teaneck. New Jersey. +111 more  1 Lakh+ Employees   \n",
       "3      78 years old   Bangalore/Bengaluru +243 more  1 Lakh+ Employees   \n",
       "4      29 years old               Mumbai +1183 more  1 Lakh+ Employees   \n",
       "\n",
       "             Reviews  Age (years)  \n",
       "Index                              \n",
       "0      62.2k Reviews           55  \n",
       "1      39.7k Reviews           34  \n",
       "2      36.2k Reviews           29  \n",
       "3      29.8k Reviews           78  \n",
       "4      29.4k Reviews           29  "
      ]
     },
     "execution_count": 4,
     "metadata": {},
     "output_type": "execute_result"
    }
   ],
   "source": [
    "df['Age (years)'] = df['Old'].apply(func=lambda x: int(x.split()[0]))\n",
    "df.head()"
   ]
  },
  {
   "cell_type": "code",
   "execution_count": 5,
   "id": "19dbb14b",
   "metadata": {
    "execution": {
     "iopub.execute_input": "2023-08-23T17:52:38.978824Z",
     "iopub.status.busy": "2023-08-23T17:52:38.978051Z",
     "iopub.status.idle": "2023-08-23T17:52:38.983375Z",
     "shell.execute_reply": "2023-08-23T17:52:38.982251Z"
    },
    "papermill": {
     "duration": 0.013968,
     "end_time": "2023-08-23T17:52:38.985769",
     "exception": false,
     "start_time": "2023-08-23T17:52:38.971801",
     "status": "completed"
    },
    "tags": []
   },
   "outputs": [],
   "source": [
    "# df = df[df['Age (years)'] < 2023]"
   ]
  },
  {
   "cell_type": "code",
   "execution_count": 6,
   "id": "1439cdd2",
   "metadata": {
    "execution": {
     "iopub.execute_input": "2023-08-23T17:52:38.996950Z",
     "iopub.status.busy": "2023-08-23T17:52:38.996513Z",
     "iopub.status.idle": "2023-08-23T17:52:39.765586Z",
     "shell.execute_reply": "2023-08-23T17:52:39.764285Z"
    },
    "papermill": {
     "duration": 0.777838,
     "end_time": "2023-08-23T17:52:39.768392",
     "exception": false,
     "start_time": "2023-08-23T17:52:38.990554",
     "status": "completed"
    },
    "tags": []
   },
   "outputs": [
    {
     "data": {
      "text/plain": [
       "<Axes: ylabel='Frequency'>"
      ]
     },
     "execution_count": 6,
     "metadata": {},
     "output_type": "execute_result"
    },
    {
     "data": {
      "image/png": "[encoded data removed]",
      "text/plain": [
       "<Figure size 640x480 with 1 Axes>"
      ]
     },
     "metadata": {},
     "output_type": "display_data"
    }
   ],
   "source": [
    "df['Age (years)'].plot.hist(bins=100, legend=True)"
   ]
  },
  {
   "cell_type": "code",
   "execution_count": 7,
   "id": "a6129829",
   "metadata": {
    "execution": {
     "iopub.execute_input": "2023-08-23T17:52:39.781957Z",
     "iopub.status.busy": "2023-08-23T17:52:39.781450Z",
     "iopub.status.idle": "2023-08-23T17:52:39.796070Z",
     "shell.execute_reply": "2023-08-23T17:52:39.794972Z"
    },
    "papermill": {
     "duration": 0.024428,
     "end_time": "2023-08-23T17:52:39.798578",
     "exception": false,
     "start_time": "2023-08-23T17:52:39.774150",
     "status": "completed"
    },
    "tags": []
   },
   "outputs": [
    {
     "data": {
      "text/plain": [
       "Index\n",
       "1231    2023\n",
       "6072    2023\n",
       "6097    2023\n",
       "575      358\n",
       "354      333\n",
       "990      327\n",
       "4619     279\n",
       "3708     258\n",
       "4769     248\n",
       "2145     235\n",
       "Name: Age (years), dtype: int64"
      ]
     },
     "execution_count": 7,
     "metadata": {},
     "output_type": "execute_result"
    }
   ],
   "source": [
    "df['Age (years)'].nlargest(n=10)"
   ]
  },
  {
   "cell_type": "code",
   "execution_count": 8,
   "id": "7dcb0584",
   "metadata": {
    "execution": {
     "iopub.execute_input": "2023-08-23T17:52:39.812102Z",
     "iopub.status.busy": "2023-08-23T17:52:39.811582Z",
     "iopub.status.idle": "2023-08-23T17:52:41.870354Z",
     "shell.execute_reply": "2023-08-23T17:52:41.869113Z"
    },
    "papermill": {
     "duration": 2.068769,
     "end_time": "2023-08-23T17:52:41.872988",
     "exception": false,
     "start_time": "2023-08-23T17:52:39.804219",
     "status": "completed"
    },
    "tags": []
   },
   "outputs": [
    {
     "name": "stderr",
     "output_type": "stream",
     "text": [
      "/opt/conda/lib/python3.10/site-packages/scipy/__init__.py:146: UserWarning: A NumPy version >=1.16.5 and <1.23.0 is required for this version of SciPy (detected version 1.23.5\n",
      "  warnings.warn(f\"A NumPy version >={np_minversion} and <{np_maxversion}\"\n"
     ]
    },
    {
     "data": {
      "text/plain": [
       "[None]"
      ]
     },
     "execution_count": 8,
     "metadata": {},
     "output_type": "execute_result"
    },
    {
     "data": {
      "image/png": "[encoded data removed]",
      "text/plain": [
       "<Figure size 640x480 with 1 Axes>"
      ]
     },
     "metadata": {},
     "output_type": "display_data"
    }
   ],
   "source": [
    "from seaborn import scatterplot\n",
    "scatterplot(data=df, x='Age (years)', y='Rating',).set(xscale='log')"
   ]
  }
 ],
 "metadata": {
  "kernelspec": {
   "display_name": "Python 3",
   "language": "python",
   "name": "python3"
  },
  "language_info": {
   "codemirror_mode": {
    "name": "ipython",
    "version": 3
   },
   "file_extension": ".py",
   "mimetype": "text/x-python",
   "name": "python",
   "nbconvert_exporter": "python",
   "pygments_lexer": "ipython3",
   "version": "3.10.12"
  },
  "papermill": {
   "default_parameters": {},
   "duration": 18.481693,
   "end_time": "2023-08-23T17:52:43.407208",
   "environment_variables": {},
   "exception": null,
   "input_path": "__notebook__.ipynb",
   "output_path": "__notebook__.ipynb",
   "parameters": {},
   "start_time": "2023-08-23T17:52:24.925515",
   "version": "2.4.0"
  }
 },
 "nbformat": 4,
 "nbformat_minor": 5
}
