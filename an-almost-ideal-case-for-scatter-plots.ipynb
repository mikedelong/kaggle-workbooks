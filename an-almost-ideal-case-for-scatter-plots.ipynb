{
 "cells": [
  {
   "cell_type": "code",
   "execution_count": 1,
   "id": "c7d43f83",
   "metadata": {
    "execution": {
     "iopub.execute_input": "2023-12-27T15:48:07.881337Z",
     "iopub.status.busy": "2023-12-27T15:48:07.880855Z",
     "iopub.status.idle": "2023-12-27T15:48:08.372910Z",
     "shell.execute_reply": "2023-12-27T15:48:08.371851Z"
    },
    "papermill": {
     "duration": 0.501653,
     "end_time": "2023-12-27T15:48:08.375644",
     "exception": false,
     "start_time": "2023-12-27T15:48:07.873991",
     "status": "completed"
    },
    "tags": []
   },
   "outputs": [
    {
     "data": {
      "text/html": [
       "<div>\n",
       "<style scoped>\n",
       "    .dataframe tbody tr th:only-of-type {\n",
       "        vertical-align: middle;\n",
       "    }\n",
       "\n",
       "    .dataframe tbody tr th {\n",
       "        vertical-align: top;\n",
       "    }\n",
       "\n",
       "    .dataframe thead th {\n",
       "        text-align: right;\n",
       "    }\n",
       "</style>\n",
       "<table border=\"1\" class=\"dataframe\">\n",
       "  <thead>\n",
       "    <tr style=\"text-align: right;\">\n",
       "      <th></th>\n",
       "      <th>Rank</th>\n",
       "      <th>Title</th>\n",
       "      <th>Year</th>\n",
       "      <th>Lifetime_Gross</th>\n",
       "    </tr>\n",
       "  </thead>\n",
       "  <tbody>\n",
       "    <tr>\n",
       "      <th>0</th>\n",
       "      <td>1</td>\n",
       "      <td>Avatar</td>\n",
       "      <td>2009</td>\n",
       "      <td>2923706026</td>\n",
       "    </tr>\n",
       "    <tr>\n",
       "      <th>1</th>\n",
       "      <td>2</td>\n",
       "      <td>Avengers: Endgame</td>\n",
       "      <td>2019</td>\n",
       "      <td>2799439100</td>\n",
       "    </tr>\n",
       "    <tr>\n",
       "      <th>2</th>\n",
       "      <td>3</td>\n",
       "      <td>Avatar: The Way of Water</td>\n",
       "      <td>2022</td>\n",
       "      <td>2320250281</td>\n",
       "    </tr>\n",
       "    <tr>\n",
       "      <th>3</th>\n",
       "      <td>4</td>\n",
       "      <td>Titanic</td>\n",
       "      <td>1997</td>\n",
       "      <td>2264743305</td>\n",
       "    </tr>\n",
       "    <tr>\n",
       "      <th>4</th>\n",
       "      <td>5</td>\n",
       "      <td>Star Wars: Episode VII - The Force Awakens</td>\n",
       "      <td>2015</td>\n",
       "      <td>2071310218</td>\n",
       "    </tr>\n",
       "  </tbody>\n",
       "</table>\n",
       "</div>"
      ],
      "text/plain": [
       "   Rank                                       Title  Year  Lifetime_Gross\n",
       "0     1                                      Avatar  2009      2923706026\n",
       "1     2                           Avengers: Endgame  2019      2799439100\n",
       "2     3                    Avatar: The Way of Water  2022      2320250281\n",
       "3     4                                     Titanic  1997      2264743305\n",
       "4     5  Star Wars: Episode VII - The Force Awakens  2015      2071310218"
      ]
     },
     "execution_count": 1,
     "metadata": {},
     "output_type": "execute_result"
    }
   ],
   "source": [
    "import pandas as pd\n",
    "df = pd.read_csv(filepath_or_buffer='/kaggle/input/top-200-movies-lifetime-gross/Top 200 Movies Lifetime Gross.csv',\n",
    "                 thousands=',')\n",
    "df.head()"
   ]
  },
  {
   "cell_type": "code",
   "execution_count": 2,
   "id": "bf7be182",
   "metadata": {
    "execution": {
     "iopub.execute_input": "2023-12-27T15:48:08.387615Z",
     "iopub.status.busy": "2023-12-27T15:48:08.386383Z",
     "iopub.status.idle": "2023-12-27T15:48:08.415652Z",
     "shell.execute_reply": "2023-12-27T15:48:08.414543Z"
    },
    "papermill": {
     "duration": 0.038175,
     "end_time": "2023-12-27T15:48:08.418469",
     "exception": false,
     "start_time": "2023-12-27T15:48:08.380294",
     "status": "completed"
    },
    "tags": []
   },
   "outputs": [
    {
     "name": "stdout",
     "output_type": "stream",
     "text": [
      "<class 'pandas.core.frame.DataFrame'>\n",
      "RangeIndex: 200 entries, 0 to 199\n",
      "Data columns (total 4 columns):\n",
      " #   Column          Non-Null Count  Dtype \n",
      "---  ------          --------------  ----- \n",
      " 0   Rank            200 non-null    int64 \n",
      " 1   Title           200 non-null    object\n",
      " 2   Year            200 non-null    int64 \n",
      " 3   Lifetime_Gross  200 non-null    int64 \n",
      "dtypes: int64(3), object(1)\n",
      "memory usage: 6.4+ KB\n"
     ]
    }
   ],
   "source": [
    "df.info()"
   ]
  },
  {
   "cell_type": "code",
   "execution_count": 3,
   "id": "0510ee76",
   "metadata": {
    "execution": {
     "iopub.execute_input": "2023-12-27T15:48:08.429859Z",
     "iopub.status.busy": "2023-12-27T15:48:08.428553Z",
     "iopub.status.idle": "2023-12-27T15:48:11.603966Z",
     "shell.execute_reply": "2023-12-27T15:48:11.602416Z"
    },
    "papermill": {
     "duration": 3.184164,
     "end_time": "2023-12-27T15:48:11.607034",
     "exception": false,
     "start_time": "2023-12-27T15:48:08.422870",
     "status": "completed"
    },
    "tags": []
   },
   "outputs": [
    {
     "data": {
      "text/html": [
       "        <script type=\"text/javascript\">\n",
       "        window.PlotlyConfig = {MathJaxConfig: 'local'};\n",
       "        if (window.MathJax && window.MathJax.Hub && window.MathJax.Hub.Config) {window.MathJax.Hub.Config({SVG: {font: \"STIX-Web\"}});}\n",
       "        if (typeof require !== 'undefined') {\n",
       "        require.undef(\"plotly\");\n",
       "        requirejs.config({\n",
       "            paths: {\n",
       "                'plotly': ['https://cdn.plot.ly/plotly-2.25.2.min']\n",
       "            }\n",
       "        });\n",
       "        require(['plotly'], function(Plotly) {\n",
       "            window._Plotly = Plotly;\n",
       "        });\n",
       "        }\n",
       "        </script>\n",
       "        "
      ]
     },
     "metadata": {},
     "output_type": "display_data"
    },
    {
     "data": {
      "text/html": [
       "<div>                            <div id=\"be6eefa5-9ed5-4200-8152-df48b926de58\" class=\"plotly-graph-div\" style=\"height:525px; width:100%;\"></div>            <script type=\"text/javascript\">                require([\"plotly\"], function(Plotly) {                    window.PLOTLYENV=window.PLOTLYENV || {};                                    if (document.getElementById(\"be6eefa5-9ed5-4200-8152-df48b926de58\")) {                    Plotly.newPlot(                        \"be6eefa5-9ed5-4200-8152-df48b926de58\",                        [{\"hovertemplate\":\"\\u003cb\\u003e%{hovertext}\\u003c\\u002fb\\u003e\\u003cbr\\u003e\\u003cbr\\u003eYear=%{x}\\u003cbr\\u003eLifetime_Gross=%{y}\\u003cbr\\u003eRank=%{marker.color}\\u003cextra\\u003e\\u003c\\u002fextra\\u003e\",\"hovertext\":[\"Avatar\",\"Avengers: Endgame\",\"Avatar: The Way of Water\",\"Titanic\",\"Star Wars: Episode VII - The Force Awakens\",\"Avengers: Infinity War\",\"Spider-Man: No Way Home\",\"Jurassic World\",\"The Lion King\",\"The Avengers\",\"Furious 7\",\"Top Gun: Maverick\",\"Frozen II\",\"Barbie\",\"Avengers: Age of Ultron\",\"Frozen\",\"The Super Mario Bros. Movie\",\"Harry Potter and the Deathly Hallows: Part 2\",\"Black Panther\",\"Star Wars: Episode VIII - The Last Jedi\",\"Jurassic World: Fallen Kingdom\",\"Beauty and the Beast\",\"Incredibles 2\",\"The Fate of the Furious\",\"Iron Man 3\",\"Minions\",\"The Lord of the Rings: The Return of the King\",\"Captain America: Civil War\",\"Aquaman\",\"Skyfall\",\"Spider-Man: Far from Home\",\"Captain Marvel\",\"Transformers: Dark of the Moon\",\"Jurassic Park\",\"The Dark Knight Rises\",\"Transformers: Age of Extinction\",\"Joker\",\"Star Wars: Episode IX - The Rise of Skywalker\",\"Toy Story 4\",\"Toy Story 3\",\"Pirates of the Caribbean: Dead Man's Chest\",\"Rogue One: A Star Wars Story\",\"Aladdin\",\"Pirates of the Caribbean: On Stranger Tides\",\"Despicable Me 3\",\"Finding Dory\",\"The Dark Knight\",\"Star Wars: Episode I - The Phantom Menace\",\"Zootopia\",\"Alice in Wonderland\",\"Harry Potter and the Sorcerer's Stone\",\"The Hobbit: An Unexpected Journey\",\"Jurassic World Dominion\",\"Jumanji: Welcome to the Jungle\",\"Harry Potter and the Deathly Hallows: Part 1\",\"Despicable Me 2\",\"The Lion King\",\"The Jungle Book\",\"The Hobbit: The Battle of the Five Armies\",\"Pirates of the Caribbean: At World's End\",\"The Hobbit: The Desolation of Smaug\",\"Doctor Strange in the Multiverse of Madness\",\"Oppenheimer\",\"The Lord of the Rings: The Two Towers\",\"Finding Nemo\",\"Minions: The Rise of Gru\",\"Harry Potter and the Order of the Phoenix\",\"Harry Potter and the Half-Blood Prince\",\"Shrek 2\",\"Harry Potter and the Chamber of Secrets\",\"Bohemian Rhapsody\",\"The Battle at Lake Changjin\",\"Harry Potter and the Goblet of Fire\",\"Spider-Man 3\",\"The Secret Life of Pets\",\"Ice Age: Dawn of the Dinosaurs\",\"The Lord of the Rings: The Fellowship of the Ring\",\"Spectre\",\"Spider-Man: Homecoming\",\"Ice Age: Continental Drift\",\"Batman v Superman: Dawn of Justice\",\"Wolf Warrior 2\",\"Star Wars: Episode III - Revenge of the Sith\",\"The Hunger Games: Catching Fire\",\"Guardians of the Galaxy Vol. 2\",\"Black Panther: Wakanda Forever\",\"Inside Out\",\"Venom\",\"Thor: Ragnarok\",\"The Twilight Saga: Breaking Dawn - Part 2\",\"Guardians of the Galaxy Vol. 3\",\"Inception\",\"Transformers: Revenge of the Fallen\",\"Spider-Man\",\"Wonder Woman\",\"Hi, Mom\",\"Independence Day\",\"Fantastic Beasts and Where to Find Them\",\"Coco\",\"Shrek the Third\",\"Harry Potter and the Prisoner of Azkaban\",\"Jumanji: The Next Level\",\"Pirates of the Caribbean: Dead Men Tell No Tales\",\"E.T. the Extra-Terrestrial\",\"Mission: Impossible - Fallout\",\"2012\",\"Indiana Jones and the Kingdom of the Crystal Skull\",\"Spider-Man 2\",\"Fast & Furious 6\",\"Deadpool 2\",\"Deadpool\",\"Star Wars: Episode IV - A New Hope\",\"No Time to Die\",\"Guardians of the Galaxy\",\"Gravity\",\"The Batman\",\"Thor: Love and Thunder\",\"Fast & Furious Presents: Hobbs & Shaw\",\"The Da Vinci Code\",\"Maleficent\",\"The Amazing Spider-Man\",\"The Hunger Games: Mockingjay - Part 1\",\"Shrek Forever After\",\"Suicide Squad\",\"Madagascar 3: Europe's Most Wanted\",\"X-Men: Days of Future Past\",\"The Chronicles of Narnia: The Lion, the Witch and the Wardrobe\",\"Monsters University\",\"The Matrix Reloaded\",\"Up\",\"Interstellar\",\"Ne Zha\",\"F9: The Fast Saga\",\"Captain America: The Winter Soldier\",\"The Twilight Saga: Breaking Dawn - Part 1\",\"The Twilight Saga: New Moon\",\"Dawn of the Planet of the Apes\",\"Transformers\",\"The Amazing Spider-Man 2\",\"Fast X\",\"It\",\"The Wandering Earth\",\"The Twilight Saga: Eclipse\",\"The Hunger Games\",\"Mission: Impossible - Ghost Protocol\",\"Mamma Mia!\",\"Spider-Man: Across the Spider-Verse\",\"Moana\",\"Detective Chinatown 3\",\"Mission: Impossible - Rogue Nation\",\"Forrest Gump\",\"Doctor Strange\",\"The Sixth Sense\",\"Man of Steel\",\"Ice Age: The Meltdown\",\"Kung Fu Panda 2\",\"The Hunger Games: Mockingjay - Part 2\",\"Justice League\",\"Big Hero 6\",\"Fantastic Beasts: The Crimes of Grindelwald\",\"Pirates of the Caribbean: The Curse of the Black Pearl\",\"Men in Black 3\",\"Star Wars: Episode II - Attack of the Clones\",\"Thor: The Dark World\",\"Sing\",\"Kung Fu Panda\",\"The Incredibles\",\"The Martian\",\"Hancock\",\"Water Gate Bridge\",\"Fast Five\",\"Iron Man 2\",\"Ratatouille\",\"Ant-Man and the Wasp\",\"How to Train Your Dragon 2\",\"Logan\",\"The Lost World: Jurassic Park\",\"Casino Royale\",\"The Passion of the Christ\",\"Life of Pi\",\"Ready Player One\",\"Transformers: The Last Knight\",\"Madagascar: Escape 2 Africa\",\"War of the Worlds\",\"Tangled\",\"Quantum of Solace\",\"Men in Black\",\"The Croods\",\"The Hangover Part II\",\"Iron Man\",\"I Am Legend\",\"Monsters, Inc.\",\"Operation Red Sea\",\"Night at the Museum\",\"Fifty Shades of Grey\",\"The Little Mermaid\",\"Kong: Skull Island\",\"Mission: Impossible - Dead Reckoning Part One\",\"The Smurfs\",\"Cars 2\"],\"legendgroup\":\"\",\"marker\":{\"color\":[1,2,3,4,5,6,7,8,9,10,11,12,13,14,15,16,17,18,19,20,21,22,23,24,25,26,27,28,29,30,31,32,33,34,35,36,37,38,39,40,41,42,43,44,45,46,47,48,49,50,51,52,53,54,55,56,57,58,59,60,61,62,63,64,65,66,67,68,69,70,71,72,73,74,75,76,77,78,79,80,81,82,83,84,85,86,87,88,89,90,91,92,93,94,95,96,97,98,99,100,101,102,103,104,105,106,107,108,109,110,111,112,113,114,115,116,117,118,119,120,121,122,123,124,125,126,127,128,129,130,131,132,133,134,135,136,137,138,139,140,141,142,143,144,145,146,147,148,149,150,151,152,153,154,155,156,157,158,159,160,161,162,163,164,165,166,167,168,169,170,171,172,173,174,175,176,177,178,179,180,181,182,183,184,185,186,187,188,189,190,191,192,193,194,195,196,197,198,199,200],\"coloraxis\":\"coloraxis\",\"symbol\":\"circle\"},\"mode\":\"markers\",\"name\":\"\",\"orientation\":\"v\",\"showlegend\":false,\"x\":[2009,2019,2022,1997,2015,2018,2021,2015,2019,2012,2015,2022,2019,2023,2015,2013,2023,2011,2018,2017,2018,2017,2018,2017,2013,2015,2003,2016,2018,2012,2019,2019,2011,1993,2012,2014,2019,2019,2019,2010,2006,2016,2019,2011,2017,2016,2008,1999,2016,2010,2001,2012,2022,2017,2010,2013,1994,2016,2014,2007,2013,2022,2023,2002,2003,2022,2007,2009,2004,2002,2018,2021,2005,2007,2016,2009,2001,2015,2017,2012,2016,2017,2005,2013,2017,2022,2015,2018,2017,2012,2023,2010,2009,2002,2017,2021,1996,2016,2017,2007,2004,2019,2017,1982,2018,2009,2008,2004,2013,2018,2016,1977,2021,2014,2013,2022,2022,2019,2006,2014,2012,2014,2010,2016,2012,2014,2005,2013,2003,2009,2014,2019,2021,2014,2011,2009,2014,2007,2014,2023,2017,2019,2010,2012,2011,2008,2023,2016,2021,2015,1994,2016,1999,2013,2006,2011,2015,2017,2014,2018,2003,2012,2002,2013,2016,2008,2004,2015,2008,2022,2011,2010,2007,2018,2014,2017,1997,2006,2004,2012,2018,2017,2008,2005,2010,2008,1997,2013,2011,2008,2007,2001,2018,2006,2015,2023,2017,2023,2011,2011],\"xaxis\":\"x\",\"y\":[2923706026,2799439100,2320250281,2264743305,2071310218,2052415039,1921847111,1671537444,1663075401,1520538536,1515341399,1495696292,1453683476,1441817322,1405018048,1397042530,1361427971,1356841356,1349926083,1334407706,1310466296,1266115964,1243225667,1236005118,1215577205,1159444662,1156194180,1155046416,1152028393,1142471295,1131927996,1131416446,1123794079,1114429886,1114085030,1104054072,1078958282,1077022372,1073841394,1067316101,1066179747,1058682142,1054304000,1046721266,1034800131,1029266989,1029266147,1027082707,1025521689,1025468216,1024264477,1017030651,1001978080,995339117,972584232,970766005,968511805,967724775,962201338,961691209,959027992,955775804,951996130,948945489,941637960,939628210,939288806,934770304,928760770,926201000,910809311,902548476,897048648,894983373,894328469,886686817,883407846,880705312,880166924,877244782,874362803,870325439,868390560,865011746,863756051,859208836,858848019,856085151,855301806,848593948,845555777,839030630,836303693,825025036,823970682,822009764,817400891,816037575,814337054,813367380,807047946,801693929,795922298,792910554,791657398,791217826,790653942,788976453,788680968,785896609,782836791,775398007,774153007,773350147,773031583,772245583,760928081,760732926,760006945,759853685,757930663,755357103,752600867,749200054,746921274,746045700,745013115,743559645,741847937,735099102,731079637,726264074,726229501,714421503,712205856,711025481,710644566,709709780,708982323,704709660,704242551,699992512,698509825,695220619,694713380,694479834,690516673,687228908,686257563,682716636,678226465,677796076,672806432,670145518,667094506,665692281,661456563,661326987,657869686,655755901,654264015,654213485,653779970,644783140,634338384,632083197,631684650,630620818,629443428,626571697,626137675,623933331,623726085,622674139,621537519,619179950,618638999,616505162,612054506,609016565,607874134,605425157,603900354,603873119,592462816,589580482,589390539,587235983,586764305,585796247,585410052,579707738,579330426,574481229,569651467,569626289,568652812,567535383,563749323,559852396],\"yaxis\":\"y\",\"type\":\"scatter\"}],                        {\"template\":{\"data\":{\"histogram2dcontour\":[{\"type\":\"histogram2dcontour\",\"colorbar\":{\"outlinewidth\":0,\"ticks\":\"\"},\"colorscale\":[[0.0,\"#0d0887\"],[0.1111111111111111,\"#46039f\"],[0.2222222222222222,\"#7201a8\"],[0.3333333333333333,\"#9c179e\"],[0.4444444444444444,\"#bd3786\"],[0.5555555555555556,\"#d8576b\"],[0.6666666666666666,\"#ed7953\"],[0.7777777777777778,\"#fb9f3a\"],[0.8888888888888888,\"#fdca26\"],[1.0,\"#f0f921\"]]}],\"choropleth\":[{\"type\":\"choropleth\",\"colorbar\":{\"outlinewidth\":0,\"ticks\":\"\"}}],\"histogram2d\":[{\"type\":\"histogram2d\",\"colorbar\":{\"outlinewidth\":0,\"ticks\":\"\"},\"colorscale\":[[0.0,\"#0d0887\"],[0.1111111111111111,\"#46039f\"],[0.2222222222222222,\"#7201a8\"],[0.3333333333333333,\"#9c179e\"],[0.4444444444444444,\"#bd3786\"],[0.5555555555555556,\"#d8576b\"],[0.6666666666666666,\"#ed7953\"],[0.7777777777777778,\"#fb9f3a\"],[0.8888888888888888,\"#fdca26\"],[1.0,\"#f0f921\"]]}],\"heatmap\":[{\"type\":\"heatmap\",\"colorbar\":{\"outlinewidth\":0,\"ticks\":\"\"},\"colorscale\":[[0.0,\"#0d0887\"],[0.1111111111111111,\"#46039f\"],[0.2222222222222222,\"#7201a8\"],[0.3333333333333333,\"#9c179e\"],[0.4444444444444444,\"#bd3786\"],[0.5555555555555556,\"#d8576b\"],[0.6666666666666666,\"#ed7953\"],[0.7777777777777778,\"#fb9f3a\"],[0.8888888888888888,\"#fdca26\"],[1.0,\"#f0f921\"]]}],\"heatmapgl\":[{\"type\":\"heatmapgl\",\"colorbar\":{\"outlinewidth\":0,\"ticks\":\"\"},\"colorscale\":[[0.0,\"#0d0887\"],[0.1111111111111111,\"#46039f\"],[0.2222222222222222,\"#7201a8\"],[0.3333333333333333,\"#9c179e\"],[0.4444444444444444,\"#bd3786\"],[0.5555555555555556,\"#d8576b\"],[0.6666666666666666,\"#ed7953\"],[0.7777777777777778,\"#fb9f3a\"],[0.8888888888888888,\"#fdca26\"],[1.0,\"#f0f921\"]]}],\"contourcarpet\":[{\"type\":\"contourcarpet\",\"colorbar\":{\"outlinewidth\":0,\"ticks\":\"\"}}],\"contour\":[{\"type\":\"contour\",\"colorbar\":{\"outlinewidth\":0,\"ticks\":\"\"},\"colorscale\":[[0.0,\"#0d0887\"],[0.1111111111111111,\"#46039f\"],[0.2222222222222222,\"#7201a8\"],[0.3333333333333333,\"#9c179e\"],[0.4444444444444444,\"#bd3786\"],[0.5555555555555556,\"#d8576b\"],[0.6666666666666666,\"#ed7953\"],[0.7777777777777778,\"#fb9f3a\"],[0.8888888888888888,\"#fdca26\"],[1.0,\"#f0f921\"]]}],\"surface\":[{\"type\":\"surface\",\"colorbar\":{\"outlinewidth\":0,\"ticks\":\"\"},\"colorscale\":[[0.0,\"#0d0887\"],[0.1111111111111111,\"#46039f\"],[0.2222222222222222,\"#7201a8\"],[0.3333333333333333,\"#9c179e\"],[0.4444444444444444,\"#bd3786\"],[0.5555555555555556,\"#d8576b\"],[0.6666666666666666,\"#ed7953\"],[0.7777777777777778,\"#fb9f3a\"],[0.8888888888888888,\"#fdca26\"],[1.0,\"#f0f921\"]]}],\"mesh3d\":[{\"type\":\"mesh3d\",\"colorbar\":{\"outlinewidth\":0,\"ticks\":\"\"}}],\"scatter\":[{\"fillpattern\":{\"fillmode\":\"overlay\",\"size\":10,\"solidity\":0.2},\"type\":\"scatter\"}],\"parcoords\":[{\"type\":\"parcoords\",\"line\":{\"colorbar\":{\"outlinewidth\":0,\"ticks\":\"\"}}}],\"scatterpolargl\":[{\"type\":\"scatterpolargl\",\"marker\":{\"colorbar\":{\"outlinewidth\":0,\"ticks\":\"\"}}}],\"bar\":[{\"error_x\":{\"color\":\"#2a3f5f\"},\"error_y\":{\"color\":\"#2a3f5f\"},\"marker\":{\"line\":{\"color\":\"#E5ECF6\",\"width\":0.5},\"pattern\":{\"fillmode\":\"overlay\",\"size\":10,\"solidity\":0.2}},\"type\":\"bar\"}],\"scattergeo\":[{\"type\":\"scattergeo\",\"marker\":{\"colorbar\":{\"outlinewidth\":0,\"ticks\":\"\"}}}],\"scatterpolar\":[{\"type\":\"scatterpolar\",\"marker\":{\"colorbar\":{\"outlinewidth\":0,\"ticks\":\"\"}}}],\"histogram\":[{\"marker\":{\"pattern\":{\"fillmode\":\"overlay\",\"size\":10,\"solidity\":0.2}},\"type\":\"histogram\"}],\"scattergl\":[{\"type\":\"scattergl\",\"marker\":{\"colorbar\":{\"outlinewidth\":0,\"ticks\":\"\"}}}],\"scatter3d\":[{\"type\":\"scatter3d\",\"line\":{\"colorbar\":{\"outlinewidth\":0,\"ticks\":\"\"}},\"marker\":{\"colorbar\":{\"outlinewidth\":0,\"ticks\":\"\"}}}],\"scattermapbox\":[{\"type\":\"scattermapbox\",\"marker\":{\"colorbar\":{\"outlinewidth\":0,\"ticks\":\"\"}}}],\"scatterternary\":[{\"type\":\"scatterternary\",\"marker\":{\"colorbar\":{\"outlinewidth\":0,\"ticks\":\"\"}}}],\"scattercarpet\":[{\"type\":\"scattercarpet\",\"marker\":{\"colorbar\":{\"outlinewidth\":0,\"ticks\":\"\"}}}],\"carpet\":[{\"aaxis\":{\"endlinecolor\":\"#2a3f5f\",\"gridcolor\":\"white\",\"linecolor\":\"white\",\"minorgridcolor\":\"white\",\"startlinecolor\":\"#2a3f5f\"},\"baxis\":{\"endlinecolor\":\"#2a3f5f\",\"gridcolor\":\"white\",\"linecolor\":\"white\",\"minorgridcolor\":\"white\",\"startlinecolor\":\"#2a3f5f\"},\"type\":\"carpet\"}],\"table\":[{\"cells\":{\"fill\":{\"color\":\"#EBF0F8\"},\"line\":{\"color\":\"white\"}},\"header\":{\"fill\":{\"color\":\"#C8D4E3\"},\"line\":{\"color\":\"white\"}},\"type\":\"table\"}],\"barpolar\":[{\"marker\":{\"line\":{\"color\":\"#E5ECF6\",\"width\":0.5},\"pattern\":{\"fillmode\":\"overlay\",\"size\":10,\"solidity\":0.2}},\"type\":\"barpolar\"}],\"pie\":[{\"automargin\":true,\"type\":\"pie\"}]},\"layout\":{\"autotypenumbers\":\"strict\",\"colorway\":[\"#636efa\",\"#EF553B\",\"#00cc96\",\"#ab63fa\",\"#FFA15A\",\"#19d3f3\",\"#FF6692\",\"#B6E880\",\"#FF97FF\",\"#FECB52\"],\"font\":{\"color\":\"#2a3f5f\"},\"hovermode\":\"closest\",\"hoverlabel\":{\"align\":\"left\"},\"paper_bgcolor\":\"white\",\"plot_bgcolor\":\"#E5ECF6\",\"polar\":{\"bgcolor\":\"#E5ECF6\",\"angularaxis\":{\"gridcolor\":\"white\",\"linecolor\":\"white\",\"ticks\":\"\"},\"radialaxis\":{\"gridcolor\":\"white\",\"linecolor\":\"white\",\"ticks\":\"\"}},\"ternary\":{\"bgcolor\":\"#E5ECF6\",\"aaxis\":{\"gridcolor\":\"white\",\"linecolor\":\"white\",\"ticks\":\"\"},\"baxis\":{\"gridcolor\":\"white\",\"linecolor\":\"white\",\"ticks\":\"\"},\"caxis\":{\"gridcolor\":\"white\",\"linecolor\":\"white\",\"ticks\":\"\"}},\"coloraxis\":{\"colorbar\":{\"outlinewidth\":0,\"ticks\":\"\"}},\"colorscale\":{\"sequential\":[[0.0,\"#0d0887\"],[0.1111111111111111,\"#46039f\"],[0.2222222222222222,\"#7201a8\"],[0.3333333333333333,\"#9c179e\"],[0.4444444444444444,\"#bd3786\"],[0.5555555555555556,\"#d8576b\"],[0.6666666666666666,\"#ed7953\"],[0.7777777777777778,\"#fb9f3a\"],[0.8888888888888888,\"#fdca26\"],[1.0,\"#f0f921\"]],\"sequentialminus\":[[0.0,\"#0d0887\"],[0.1111111111111111,\"#46039f\"],[0.2222222222222222,\"#7201a8\"],[0.3333333333333333,\"#9c179e\"],[0.4444444444444444,\"#bd3786\"],[0.5555555555555556,\"#d8576b\"],[0.6666666666666666,\"#ed7953\"],[0.7777777777777778,\"#fb9f3a\"],[0.8888888888888888,\"#fdca26\"],[1.0,\"#f0f921\"]],\"diverging\":[[0,\"#8e0152\"],[0.1,\"#c51b7d\"],[0.2,\"#de77ae\"],[0.3,\"#f1b6da\"],[0.4,\"#fde0ef\"],[0.5,\"#f7f7f7\"],[0.6,\"#e6f5d0\"],[0.7,\"#b8e186\"],[0.8,\"#7fbc41\"],[0.9,\"#4d9221\"],[1,\"#276419\"]]},\"xaxis\":{\"gridcolor\":\"white\",\"linecolor\":\"white\",\"ticks\":\"\",\"title\":{\"standoff\":15},\"zerolinecolor\":\"white\",\"automargin\":true,\"zerolinewidth\":2},\"yaxis\":{\"gridcolor\":\"white\",\"linecolor\":\"white\",\"ticks\":\"\",\"title\":{\"standoff\":15},\"zerolinecolor\":\"white\",\"automargin\":true,\"zerolinewidth\":2},\"scene\":{\"xaxis\":{\"backgroundcolor\":\"#E5ECF6\",\"gridcolor\":\"white\",\"linecolor\":\"white\",\"showbackground\":true,\"ticks\":\"\",\"zerolinecolor\":\"white\",\"gridwidth\":2},\"yaxis\":{\"backgroundcolor\":\"#E5ECF6\",\"gridcolor\":\"white\",\"linecolor\":\"white\",\"showbackground\":true,\"ticks\":\"\",\"zerolinecolor\":\"white\",\"gridwidth\":2},\"zaxis\":{\"backgroundcolor\":\"#E5ECF6\",\"gridcolor\":\"white\",\"linecolor\":\"white\",\"showbackground\":true,\"ticks\":\"\",\"zerolinecolor\":\"white\",\"gridwidth\":2}},\"shapedefaults\":{\"line\":{\"color\":\"#2a3f5f\"}},\"annotationdefaults\":{\"arrowcolor\":\"#2a3f5f\",\"arrowhead\":0,\"arrowwidth\":1},\"geo\":{\"bgcolor\":\"white\",\"landcolor\":\"#E5ECF6\",\"subunitcolor\":\"white\",\"showland\":true,\"showlakes\":true,\"lakecolor\":\"white\"},\"title\":{\"x\":0.05},\"mapbox\":{\"style\":\"light\"}}},\"xaxis\":{\"anchor\":\"y\",\"domain\":[0.0,1.0],\"title\":{\"text\":\"Year\"}},\"yaxis\":{\"anchor\":\"x\",\"domain\":[0.0,1.0],\"title\":{\"text\":\"Lifetime_Gross\"},\"type\":\"log\"},\"coloraxis\":{\"colorbar\":{\"title\":{\"text\":\"Rank\"}},\"colorscale\":[[0.0,\"#0d0887\"],[0.1111111111111111,\"#46039f\"],[0.2222222222222222,\"#7201a8\"],[0.3333333333333333,\"#9c179e\"],[0.4444444444444444,\"#bd3786\"],[0.5555555555555556,\"#d8576b\"],[0.6666666666666666,\"#ed7953\"],[0.7777777777777778,\"#fb9f3a\"],[0.8888888888888888,\"#fdca26\"],[1.0,\"#f0f921\"]]},\"legend\":{\"tracegroupgap\":0},\"margin\":{\"t\":60}},                        {\"responsive\": true}                    ).then(function(){\n",
       "                            \n",
       "var gd = document.getElementById('be6eefa5-9ed5-4200-8152-df48b926de58');\n",
       "var x = new MutationObserver(function (mutations, observer) {{\n",
       "        var display = window.getComputedStyle(gd).display;\n",
       "        if (!display || display === 'none') {{\n",
       "            console.log([gd, 'removed!']);\n",
       "            Plotly.purge(gd);\n",
       "            observer.disconnect();\n",
       "        }}\n",
       "}});\n",
       "\n",
       "// Listen for the removal of the full notebook cells\n",
       "var notebookContainer = gd.closest('#notebook-container');\n",
       "if (notebookContainer) {{\n",
       "    x.observe(notebookContainer, {childList: true});\n",
       "}}\n",
       "\n",
       "// Listen for the clearing of the current output cell\n",
       "var outputEl = gd.closest('.output');\n",
       "if (outputEl) {{\n",
       "    x.observe(outputEl, {childList: true});\n",
       "}}\n",
       "\n",
       "                        })                };                });            </script>        </div>"
      ]
     },
     "metadata": {},
     "output_type": "display_data"
    }
   ],
   "source": [
    "from plotly.express import scatter\n",
    "scatter(data_frame=df, x='Year', y='Lifetime_Gross', hover_name='Title', color='Rank', log_y=True)"
   ]
  },
  {
   "cell_type": "markdown",
   "id": "a6e358e5",
   "metadata": {
    "papermill": {
     "duration": 0.004814,
     "end_time": "2023-12-27T15:48:11.617446",
     "exception": false,
     "start_time": "2023-12-27T15:48:11.612632",
     "status": "completed"
    },
    "tags": []
   },
   "source": [
    "Because small is good for rank we get poor value out of using it as a color; it would be better if we had a rank that put larger values higher, or a way to invert the colorbar.\n",
    "\n",
    "We do get good value from using log_y here, though, as is clear from the next graph."
   ]
  },
  {
   "cell_type": "code",
   "execution_count": 4,
   "id": "38653312",
   "metadata": {
    "execution": {
     "iopub.execute_input": "2023-12-27T15:48:11.629915Z",
     "iopub.status.busy": "2023-12-27T15:48:11.629428Z",
     "iopub.status.idle": "2023-12-27T15:48:11.711808Z",
     "shell.execute_reply": "2023-12-27T15:48:11.710552Z"
    },
    "papermill": {
     "duration": 0.092064,
     "end_time": "2023-12-27T15:48:11.714642",
     "exception": false,
     "start_time": "2023-12-27T15:48:11.622578",
     "status": "completed"
    },
    "tags": []
   },
   "outputs": [
    {
     "data": {
      "text/html": [
       "<div>                            <div id=\"380564fe-9081-4b60-b4a4-bab73e834020\" class=\"plotly-graph-div\" style=\"height:525px; width:100%;\"></div>            <script type=\"text/javascript\">                require([\"plotly\"], function(Plotly) {                    window.PLOTLYENV=window.PLOTLYENV || {};                                    if (document.getElementById(\"380564fe-9081-4b60-b4a4-bab73e834020\")) {                    Plotly.newPlot(                        \"380564fe-9081-4b60-b4a4-bab73e834020\",                        [{\"hovertemplate\":\"\\u003cb\\u003e%{hovertext}\\u003c\\u002fb\\u003e\\u003cbr\\u003e\\u003cbr\\u003eYear=%{x}\\u003cbr\\u003eRank=%{y}\\u003cbr\\u003eLifetime_Gross=%{marker.color}\\u003cextra\\u003e\\u003c\\u002fextra\\u003e\",\"hovertext\":[\"Avatar\",\"Avengers: Endgame\",\"Avatar: The Way of Water\",\"Titanic\",\"Star Wars: Episode VII - The Force Awakens\",\"Avengers: Infinity War\",\"Spider-Man: No Way Home\",\"Jurassic World\",\"The Lion King\",\"The Avengers\",\"Furious 7\",\"Top Gun: Maverick\",\"Frozen II\",\"Barbie\",\"Avengers: Age of Ultron\",\"Frozen\",\"The Super Mario Bros. Movie\",\"Harry Potter and the Deathly Hallows: Part 2\",\"Black Panther\",\"Star Wars: Episode VIII - The Last Jedi\",\"Jurassic World: Fallen Kingdom\",\"Beauty and the Beast\",\"Incredibles 2\",\"The Fate of the Furious\",\"Iron Man 3\",\"Minions\",\"The Lord of the Rings: The Return of the King\",\"Captain America: Civil War\",\"Aquaman\",\"Skyfall\",\"Spider-Man: Far from Home\",\"Captain Marvel\",\"Transformers: Dark of the Moon\",\"Jurassic Park\",\"The Dark Knight Rises\",\"Transformers: Age of Extinction\",\"Joker\",\"Star Wars: Episode IX - The Rise of Skywalker\",\"Toy Story 4\",\"Toy Story 3\",\"Pirates of the Caribbean: Dead Man's Chest\",\"Rogue One: A Star Wars Story\",\"Aladdin\",\"Pirates of the Caribbean: On Stranger Tides\",\"Despicable Me 3\",\"Finding Dory\",\"The Dark Knight\",\"Star Wars: Episode I - The Phantom Menace\",\"Zootopia\",\"Alice in Wonderland\",\"Harry Potter and the Sorcerer's Stone\",\"The Hobbit: An Unexpected Journey\",\"Jurassic World Dominion\",\"Jumanji: Welcome to the Jungle\",\"Harry Potter and the Deathly Hallows: Part 1\",\"Despicable Me 2\",\"The Lion King\",\"The Jungle Book\",\"The Hobbit: The Battle of the Five Armies\",\"Pirates of the Caribbean: At World's End\",\"The Hobbit: The Desolation of Smaug\",\"Doctor Strange in the Multiverse of Madness\",\"Oppenheimer\",\"The Lord of the Rings: The Two Towers\",\"Finding Nemo\",\"Minions: The Rise of Gru\",\"Harry Potter and the Order of the Phoenix\",\"Harry Potter and the Half-Blood Prince\",\"Shrek 2\",\"Harry Potter and the Chamber of Secrets\",\"Bohemian Rhapsody\",\"The Battle at Lake Changjin\",\"Harry Potter and the Goblet of Fire\",\"Spider-Man 3\",\"The Secret Life of Pets\",\"Ice Age: Dawn of the Dinosaurs\",\"The Lord of the Rings: The Fellowship of the Ring\",\"Spectre\",\"Spider-Man: Homecoming\",\"Ice Age: Continental Drift\",\"Batman v Superman: Dawn of Justice\",\"Wolf Warrior 2\",\"Star Wars: Episode III - Revenge of the Sith\",\"The Hunger Games: Catching Fire\",\"Guardians of the Galaxy Vol. 2\",\"Black Panther: Wakanda Forever\",\"Inside Out\",\"Venom\",\"Thor: Ragnarok\",\"The Twilight Saga: Breaking Dawn - Part 2\",\"Guardians of the Galaxy Vol. 3\",\"Inception\",\"Transformers: Revenge of the Fallen\",\"Spider-Man\",\"Wonder Woman\",\"Hi, Mom\",\"Independence Day\",\"Fantastic Beasts and Where to Find Them\",\"Coco\",\"Shrek the Third\",\"Harry Potter and the Prisoner of Azkaban\",\"Jumanji: The Next Level\",\"Pirates of the Caribbean: Dead Men Tell No Tales\",\"E.T. the Extra-Terrestrial\",\"Mission: Impossible - Fallout\",\"2012\",\"Indiana Jones and the Kingdom of the Crystal Skull\",\"Spider-Man 2\",\"Fast & Furious 6\",\"Deadpool 2\",\"Deadpool\",\"Star Wars: Episode IV - A New Hope\",\"No Time to Die\",\"Guardians of the Galaxy\",\"Gravity\",\"The Batman\",\"Thor: Love and Thunder\",\"Fast & Furious Presents: Hobbs & Shaw\",\"The Da Vinci Code\",\"Maleficent\",\"The Amazing Spider-Man\",\"The Hunger Games: Mockingjay - Part 1\",\"Shrek Forever After\",\"Suicide Squad\",\"Madagascar 3: Europe's Most Wanted\",\"X-Men: Days of Future Past\",\"The Chronicles of Narnia: The Lion, the Witch and the Wardrobe\",\"Monsters University\",\"The Matrix Reloaded\",\"Up\",\"Interstellar\",\"Ne Zha\",\"F9: The Fast Saga\",\"Captain America: The Winter Soldier\",\"The Twilight Saga: Breaking Dawn - Part 1\",\"The Twilight Saga: New Moon\",\"Dawn of the Planet of the Apes\",\"Transformers\",\"The Amazing Spider-Man 2\",\"Fast X\",\"It\",\"The Wandering Earth\",\"The Twilight Saga: Eclipse\",\"The Hunger Games\",\"Mission: Impossible - Ghost Protocol\",\"Mamma Mia!\",\"Spider-Man: Across the Spider-Verse\",\"Moana\",\"Detective Chinatown 3\",\"Mission: Impossible - Rogue Nation\",\"Forrest Gump\",\"Doctor Strange\",\"The Sixth Sense\",\"Man of Steel\",\"Ice Age: The Meltdown\",\"Kung Fu Panda 2\",\"The Hunger Games: Mockingjay - Part 2\",\"Justice League\",\"Big Hero 6\",\"Fantastic Beasts: The Crimes of Grindelwald\",\"Pirates of the Caribbean: The Curse of the Black Pearl\",\"Men in Black 3\",\"Star Wars: Episode II - Attack of the Clones\",\"Thor: The Dark World\",\"Sing\",\"Kung Fu Panda\",\"The Incredibles\",\"The Martian\",\"Hancock\",\"Water Gate Bridge\",\"Fast Five\",\"Iron Man 2\",\"Ratatouille\",\"Ant-Man and the Wasp\",\"How to Train Your Dragon 2\",\"Logan\",\"The Lost World: Jurassic Park\",\"Casino Royale\",\"The Passion of the Christ\",\"Life of Pi\",\"Ready Player One\",\"Transformers: The Last Knight\",\"Madagascar: Escape 2 Africa\",\"War of the Worlds\",\"Tangled\",\"Quantum of Solace\",\"Men in Black\",\"The Croods\",\"The Hangover Part II\",\"Iron Man\",\"I Am Legend\",\"Monsters, Inc.\",\"Operation Red Sea\",\"Night at the Museum\",\"Fifty Shades of Grey\",\"The Little Mermaid\",\"Kong: Skull Island\",\"Mission: Impossible - Dead Reckoning Part One\",\"The Smurfs\",\"Cars 2\"],\"legendgroup\":\"\",\"marker\":{\"color\":[2923706026,2799439100,2320250281,2264743305,2071310218,2052415039,1921847111,1671537444,1663075401,1520538536,1515341399,1495696292,1453683476,1441817322,1405018048,1397042530,1361427971,1356841356,1349926083,1334407706,1310466296,1266115964,1243225667,1236005118,1215577205,1159444662,1156194180,1155046416,1152028393,1142471295,1131927996,1131416446,1123794079,1114429886,1114085030,1104054072,1078958282,1077022372,1073841394,1067316101,1066179747,1058682142,1054304000,1046721266,1034800131,1029266989,1029266147,1027082707,1025521689,1025468216,1024264477,1017030651,1001978080,995339117,972584232,970766005,968511805,967724775,962201338,961691209,959027992,955775804,951996130,948945489,941637960,939628210,939288806,934770304,928760770,926201000,910809311,902548476,897048648,894983373,894328469,886686817,883407846,880705312,880166924,877244782,874362803,870325439,868390560,865011746,863756051,859208836,858848019,856085151,855301806,848593948,845555777,839030630,836303693,825025036,823970682,822009764,817400891,816037575,814337054,813367380,807047946,801693929,795922298,792910554,791657398,791217826,790653942,788976453,788680968,785896609,782836791,775398007,774153007,773350147,773031583,772245583,760928081,760732926,760006945,759853685,757930663,755357103,752600867,749200054,746921274,746045700,745013115,743559645,741847937,735099102,731079637,726264074,726229501,714421503,712205856,711025481,710644566,709709780,708982323,704709660,704242551,699992512,698509825,695220619,694713380,694479834,690516673,687228908,686257563,682716636,678226465,677796076,672806432,670145518,667094506,665692281,661456563,661326987,657869686,655755901,654264015,654213485,653779970,644783140,634338384,632083197,631684650,630620818,629443428,626571697,626137675,623933331,623726085,622674139,621537519,619179950,618638999,616505162,612054506,609016565,607874134,605425157,603900354,603873119,592462816,589580482,589390539,587235983,586764305,585796247,585410052,579707738,579330426,574481229,569651467,569626289,568652812,567535383,563749323,559852396],\"coloraxis\":\"coloraxis\",\"symbol\":\"circle\"},\"mode\":\"markers\",\"name\":\"\",\"orientation\":\"v\",\"showlegend\":false,\"x\":[2009,2019,2022,1997,2015,2018,2021,2015,2019,2012,2015,2022,2019,2023,2015,2013,2023,2011,2018,2017,2018,2017,2018,2017,2013,2015,2003,2016,2018,2012,2019,2019,2011,1993,2012,2014,2019,2019,2019,2010,2006,2016,2019,2011,2017,2016,2008,1999,2016,2010,2001,2012,2022,2017,2010,2013,1994,2016,2014,2007,2013,2022,2023,2002,2003,2022,2007,2009,2004,2002,2018,2021,2005,2007,2016,2009,2001,2015,2017,2012,2016,2017,2005,2013,2017,2022,2015,2018,2017,2012,2023,2010,2009,2002,2017,2021,1996,2016,2017,2007,2004,2019,2017,1982,2018,2009,2008,2004,2013,2018,2016,1977,2021,2014,2013,2022,2022,2019,2006,2014,2012,2014,2010,2016,2012,2014,2005,2013,2003,2009,2014,2019,2021,2014,2011,2009,2014,2007,2014,2023,2017,2019,2010,2012,2011,2008,2023,2016,2021,2015,1994,2016,1999,2013,2006,2011,2015,2017,2014,2018,2003,2012,2002,2013,2016,2008,2004,2015,2008,2022,2011,2010,2007,2018,2014,2017,1997,2006,2004,2012,2018,2017,2008,2005,2010,2008,1997,2013,2011,2008,2007,2001,2018,2006,2015,2023,2017,2023,2011,2011],\"xaxis\":\"x\",\"y\":[1,2,3,4,5,6,7,8,9,10,11,12,13,14,15,16,17,18,19,20,21,22,23,24,25,26,27,28,29,30,31,32,33,34,35,36,37,38,39,40,41,42,43,44,45,46,47,48,49,50,51,52,53,54,55,56,57,58,59,60,61,62,63,64,65,66,67,68,69,70,71,72,73,74,75,76,77,78,79,80,81,82,83,84,85,86,87,88,89,90,91,92,93,94,95,96,97,98,99,100,101,102,103,104,105,106,107,108,109,110,111,112,113,114,115,116,117,118,119,120,121,122,123,124,125,126,127,128,129,130,131,132,133,134,135,136,137,138,139,140,141,142,143,144,145,146,147,148,149,150,151,152,153,154,155,156,157,158,159,160,161,162,163,164,165,166,167,168,169,170,171,172,173,174,175,176,177,178,179,180,181,182,183,184,185,186,187,188,189,190,191,192,193,194,195,196,197,198,199,200],\"yaxis\":\"y\",\"type\":\"scatter\"}],                        {\"template\":{\"data\":{\"histogram2dcontour\":[{\"type\":\"histogram2dcontour\",\"colorbar\":{\"outlinewidth\":0,\"ticks\":\"\"},\"colorscale\":[[0.0,\"#0d0887\"],[0.1111111111111111,\"#46039f\"],[0.2222222222222222,\"#7201a8\"],[0.3333333333333333,\"#9c179e\"],[0.4444444444444444,\"#bd3786\"],[0.5555555555555556,\"#d8576b\"],[0.6666666666666666,\"#ed7953\"],[0.7777777777777778,\"#fb9f3a\"],[0.8888888888888888,\"#fdca26\"],[1.0,\"#f0f921\"]]}],\"choropleth\":[{\"type\":\"choropleth\",\"colorbar\":{\"outlinewidth\":0,\"ticks\":\"\"}}],\"histogram2d\":[{\"type\":\"histogram2d\",\"colorbar\":{\"outlinewidth\":0,\"ticks\":\"\"},\"colorscale\":[[0.0,\"#0d0887\"],[0.1111111111111111,\"#46039f\"],[0.2222222222222222,\"#7201a8\"],[0.3333333333333333,\"#9c179e\"],[0.4444444444444444,\"#bd3786\"],[0.5555555555555556,\"#d8576b\"],[0.6666666666666666,\"#ed7953\"],[0.7777777777777778,\"#fb9f3a\"],[0.8888888888888888,\"#fdca26\"],[1.0,\"#f0f921\"]]}],\"heatmap\":[{\"type\":\"heatmap\",\"colorbar\":{\"outlinewidth\":0,\"ticks\":\"\"},\"colorscale\":[[0.0,\"#0d0887\"],[0.1111111111111111,\"#46039f\"],[0.2222222222222222,\"#7201a8\"],[0.3333333333333333,\"#9c179e\"],[0.4444444444444444,\"#bd3786\"],[0.5555555555555556,\"#d8576b\"],[0.6666666666666666,\"#ed7953\"],[0.7777777777777778,\"#fb9f3a\"],[0.8888888888888888,\"#fdca26\"],[1.0,\"#f0f921\"]]}],\"heatmapgl\":[{\"type\":\"heatmapgl\",\"colorbar\":{\"outlinewidth\":0,\"ticks\":\"\"},\"colorscale\":[[0.0,\"#0d0887\"],[0.1111111111111111,\"#46039f\"],[0.2222222222222222,\"#7201a8\"],[0.3333333333333333,\"#9c179e\"],[0.4444444444444444,\"#bd3786\"],[0.5555555555555556,\"#d8576b\"],[0.6666666666666666,\"#ed7953\"],[0.7777777777777778,\"#fb9f3a\"],[0.8888888888888888,\"#fdca26\"],[1.0,\"#f0f921\"]]}],\"contourcarpet\":[{\"type\":\"contourcarpet\",\"colorbar\":{\"outlinewidth\":0,\"ticks\":\"\"}}],\"contour\":[{\"type\":\"contour\",\"colorbar\":{\"outlinewidth\":0,\"ticks\":\"\"},\"colorscale\":[[0.0,\"#0d0887\"],[0.1111111111111111,\"#46039f\"],[0.2222222222222222,\"#7201a8\"],[0.3333333333333333,\"#9c179e\"],[0.4444444444444444,\"#bd3786\"],[0.5555555555555556,\"#d8576b\"],[0.6666666666666666,\"#ed7953\"],[0.7777777777777778,\"#fb9f3a\"],[0.8888888888888888,\"#fdca26\"],[1.0,\"#f0f921\"]]}],\"surface\":[{\"type\":\"surface\",\"colorbar\":{\"outlinewidth\":0,\"ticks\":\"\"},\"colorscale\":[[0.0,\"#0d0887\"],[0.1111111111111111,\"#46039f\"],[0.2222222222222222,\"#7201a8\"],[0.3333333333333333,\"#9c179e\"],[0.4444444444444444,\"#bd3786\"],[0.5555555555555556,\"#d8576b\"],[0.6666666666666666,\"#ed7953\"],[0.7777777777777778,\"#fb9f3a\"],[0.8888888888888888,\"#fdca26\"],[1.0,\"#f0f921\"]]}],\"mesh3d\":[{\"type\":\"mesh3d\",\"colorbar\":{\"outlinewidth\":0,\"ticks\":\"\"}}],\"scatter\":[{\"fillpattern\":{\"fillmode\":\"overlay\",\"size\":10,\"solidity\":0.2},\"type\":\"scatter\"}],\"parcoords\":[{\"type\":\"parcoords\",\"line\":{\"colorbar\":{\"outlinewidth\":0,\"ticks\":\"\"}}}],\"scatterpolargl\":[{\"type\":\"scatterpolargl\",\"marker\":{\"colorbar\":{\"outlinewidth\":0,\"ticks\":\"\"}}}],\"bar\":[{\"error_x\":{\"color\":\"#2a3f5f\"},\"error_y\":{\"color\":\"#2a3f5f\"},\"marker\":{\"line\":{\"color\":\"#E5ECF6\",\"width\":0.5},\"pattern\":{\"fillmode\":\"overlay\",\"size\":10,\"solidity\":0.2}},\"type\":\"bar\"}],\"scattergeo\":[{\"type\":\"scattergeo\",\"marker\":{\"colorbar\":{\"outlinewidth\":0,\"ticks\":\"\"}}}],\"scatterpolar\":[{\"type\":\"scatterpolar\",\"marker\":{\"colorbar\":{\"outlinewidth\":0,\"ticks\":\"\"}}}],\"histogram\":[{\"marker\":{\"pattern\":{\"fillmode\":\"overlay\",\"size\":10,\"solidity\":0.2}},\"type\":\"histogram\"}],\"scattergl\":[{\"type\":\"scattergl\",\"marker\":{\"colorbar\":{\"outlinewidth\":0,\"ticks\":\"\"}}}],\"scatter3d\":[{\"type\":\"scatter3d\",\"line\":{\"colorbar\":{\"outlinewidth\":0,\"ticks\":\"\"}},\"marker\":{\"colorbar\":{\"outlinewidth\":0,\"ticks\":\"\"}}}],\"scattermapbox\":[{\"type\":\"scattermapbox\",\"marker\":{\"colorbar\":{\"outlinewidth\":0,\"ticks\":\"\"}}}],\"scatterternary\":[{\"type\":\"scatterternary\",\"marker\":{\"colorbar\":{\"outlinewidth\":0,\"ticks\":\"\"}}}],\"scattercarpet\":[{\"type\":\"scattercarpet\",\"marker\":{\"colorbar\":{\"outlinewidth\":0,\"ticks\":\"\"}}}],\"carpet\":[{\"aaxis\":{\"endlinecolor\":\"#2a3f5f\",\"gridcolor\":\"white\",\"linecolor\":\"white\",\"minorgridcolor\":\"white\",\"startlinecolor\":\"#2a3f5f\"},\"baxis\":{\"endlinecolor\":\"#2a3f5f\",\"gridcolor\":\"white\",\"linecolor\":\"white\",\"minorgridcolor\":\"white\",\"startlinecolor\":\"#2a3f5f\"},\"type\":\"carpet\"}],\"table\":[{\"cells\":{\"fill\":{\"color\":\"#EBF0F8\"},\"line\":{\"color\":\"white\"}},\"header\":{\"fill\":{\"color\":\"#C8D4E3\"},\"line\":{\"color\":\"white\"}},\"type\":\"table\"}],\"barpolar\":[{\"marker\":{\"line\":{\"color\":\"#E5ECF6\",\"width\":0.5},\"pattern\":{\"fillmode\":\"overlay\",\"size\":10,\"solidity\":0.2}},\"type\":\"barpolar\"}],\"pie\":[{\"automargin\":true,\"type\":\"pie\"}]},\"layout\":{\"autotypenumbers\":\"strict\",\"colorway\":[\"#636efa\",\"#EF553B\",\"#00cc96\",\"#ab63fa\",\"#FFA15A\",\"#19d3f3\",\"#FF6692\",\"#B6E880\",\"#FF97FF\",\"#FECB52\"],\"font\":{\"color\":\"#2a3f5f\"},\"hovermode\":\"closest\",\"hoverlabel\":{\"align\":\"left\"},\"paper_bgcolor\":\"white\",\"plot_bgcolor\":\"#E5ECF6\",\"polar\":{\"bgcolor\":\"#E5ECF6\",\"angularaxis\":{\"gridcolor\":\"white\",\"linecolor\":\"white\",\"ticks\":\"\"},\"radialaxis\":{\"gridcolor\":\"white\",\"linecolor\":\"white\",\"ticks\":\"\"}},\"ternary\":{\"bgcolor\":\"#E5ECF6\",\"aaxis\":{\"gridcolor\":\"white\",\"linecolor\":\"white\",\"ticks\":\"\"},\"baxis\":{\"gridcolor\":\"white\",\"linecolor\":\"white\",\"ticks\":\"\"},\"caxis\":{\"gridcolor\":\"white\",\"linecolor\":\"white\",\"ticks\":\"\"}},\"coloraxis\":{\"colorbar\":{\"outlinewidth\":0,\"ticks\":\"\"}},\"colorscale\":{\"sequential\":[[0.0,\"#0d0887\"],[0.1111111111111111,\"#46039f\"],[0.2222222222222222,\"#7201a8\"],[0.3333333333333333,\"#9c179e\"],[0.4444444444444444,\"#bd3786\"],[0.5555555555555556,\"#d8576b\"],[0.6666666666666666,\"#ed7953\"],[0.7777777777777778,\"#fb9f3a\"],[0.8888888888888888,\"#fdca26\"],[1.0,\"#f0f921\"]],\"sequentialminus\":[[0.0,\"#0d0887\"],[0.1111111111111111,\"#46039f\"],[0.2222222222222222,\"#7201a8\"],[0.3333333333333333,\"#9c179e\"],[0.4444444444444444,\"#bd3786\"],[0.5555555555555556,\"#d8576b\"],[0.6666666666666666,\"#ed7953\"],[0.7777777777777778,\"#fb9f3a\"],[0.8888888888888888,\"#fdca26\"],[1.0,\"#f0f921\"]],\"diverging\":[[0,\"#8e0152\"],[0.1,\"#c51b7d\"],[0.2,\"#de77ae\"],[0.3,\"#f1b6da\"],[0.4,\"#fde0ef\"],[0.5,\"#f7f7f7\"],[0.6,\"#e6f5d0\"],[0.7,\"#b8e186\"],[0.8,\"#7fbc41\"],[0.9,\"#4d9221\"],[1,\"#276419\"]]},\"xaxis\":{\"gridcolor\":\"white\",\"linecolor\":\"white\",\"ticks\":\"\",\"title\":{\"standoff\":15},\"zerolinecolor\":\"white\",\"automargin\":true,\"zerolinewidth\":2},\"yaxis\":{\"gridcolor\":\"white\",\"linecolor\":\"white\",\"ticks\":\"\",\"title\":{\"standoff\":15},\"zerolinecolor\":\"white\",\"automargin\":true,\"zerolinewidth\":2},\"scene\":{\"xaxis\":{\"backgroundcolor\":\"#E5ECF6\",\"gridcolor\":\"white\",\"linecolor\":\"white\",\"showbackground\":true,\"ticks\":\"\",\"zerolinecolor\":\"white\",\"gridwidth\":2},\"yaxis\":{\"backgroundcolor\":\"#E5ECF6\",\"gridcolor\":\"white\",\"linecolor\":\"white\",\"showbackground\":true,\"ticks\":\"\",\"zerolinecolor\":\"white\",\"gridwidth\":2},\"zaxis\":{\"backgroundcolor\":\"#E5ECF6\",\"gridcolor\":\"white\",\"linecolor\":\"white\",\"showbackground\":true,\"ticks\":\"\",\"zerolinecolor\":\"white\",\"gridwidth\":2}},\"shapedefaults\":{\"line\":{\"color\":\"#2a3f5f\"}},\"annotationdefaults\":{\"arrowcolor\":\"#2a3f5f\",\"arrowhead\":0,\"arrowwidth\":1},\"geo\":{\"bgcolor\":\"white\",\"landcolor\":\"#E5ECF6\",\"subunitcolor\":\"white\",\"showland\":true,\"showlakes\":true,\"lakecolor\":\"white\"},\"title\":{\"x\":0.05},\"mapbox\":{\"style\":\"light\"}}},\"xaxis\":{\"anchor\":\"y\",\"domain\":[0.0,1.0],\"title\":{\"text\":\"Year\"}},\"yaxis\":{\"anchor\":\"x\",\"domain\":[0.0,1.0],\"title\":{\"text\":\"Rank\"}},\"coloraxis\":{\"colorbar\":{\"title\":{\"text\":\"Lifetime_Gross\"}},\"colorscale\":[[0.0,\"#0d0887\"],[0.1111111111111111,\"#46039f\"],[0.2222222222222222,\"#7201a8\"],[0.3333333333333333,\"#9c179e\"],[0.4444444444444444,\"#bd3786\"],[0.5555555555555556,\"#d8576b\"],[0.6666666666666666,\"#ed7953\"],[0.7777777777777778,\"#fb9f3a\"],[0.8888888888888888,\"#fdca26\"],[1.0,\"#f0f921\"]]},\"legend\":{\"tracegroupgap\":0},\"margin\":{\"t\":60}},                        {\"responsive\": true}                    ).then(function(){\n",
       "                            \n",
       "var gd = document.getElementById('380564fe-9081-4b60-b4a4-bab73e834020');\n",
       "var x = new MutationObserver(function (mutations, observer) {{\n",
       "        var display = window.getComputedStyle(gd).display;\n",
       "        if (!display || display === 'none') {{\n",
       "            console.log([gd, 'removed!']);\n",
       "            Plotly.purge(gd);\n",
       "            observer.disconnect();\n",
       "        }}\n",
       "}});\n",
       "\n",
       "// Listen for the removal of the full notebook cells\n",
       "var notebookContainer = gd.closest('#notebook-container');\n",
       "if (notebookContainer) {{\n",
       "    x.observe(notebookContainer, {childList: true});\n",
       "}}\n",
       "\n",
       "// Listen for the clearing of the current output cell\n",
       "var outputEl = gd.closest('.output');\n",
       "if (outputEl) {{\n",
       "    x.observe(outputEl, {childList: true});\n",
       "}}\n",
       "\n",
       "                        })                };                });            </script>        </div>"
      ]
     },
     "metadata": {},
     "output_type": "display_data"
    }
   ],
   "source": [
    "from plotly.express import scatter\n",
    "scatter(data_frame=df, x='Year', color='Lifetime_Gross', hover_name='Title', y='Rank',)"
   ]
  },
  {
   "cell_type": "markdown",
   "id": "8cfcd069",
   "metadata": {
    "papermill": {
     "duration": 0.00498,
     "end_time": "2023-12-27T15:48:11.725081",
     "exception": false,
     "start_time": "2023-12-27T15:48:11.720101",
     "status": "completed"
    },
    "tags": []
   },
   "source": [
    "The fact that most of the highest-grossing values come from the years 2010-2020 suggest maybe inflation-adjusted values would be more informative, but also that something has changed in the blockbuster part of the movie business recently.\n",
    "\n",
    "Again rank is somewhat unhelpful because the highest ranking movies are at the bottom of the graph, and log_y won't bail us out here."
   ]
  },
  {
   "cell_type": "code",
   "execution_count": 5,
   "id": "ae1d740f",
   "metadata": {
    "execution": {
     "iopub.execute_input": "2023-12-27T15:48:11.738430Z",
     "iopub.status.busy": "2023-12-27T15:48:11.737939Z",
     "iopub.status.idle": "2023-12-27T15:48:15.157073Z",
     "shell.execute_reply": "2023-12-27T15:48:15.155514Z"
    },
    "papermill": {
     "duration": 3.429869,
     "end_time": "2023-12-27T15:48:15.160132",
     "exception": false,
     "start_time": "2023-12-27T15:48:11.730263",
     "status": "completed"
    },
    "tags": []
   },
   "outputs": [
    {
     "data": {
      "text/html": [
       "<div>                            <div id=\"7d120fc5-e0be-408e-843d-f29f13a38a42\" class=\"plotly-graph-div\" style=\"height:525px; width:100%;\"></div>            <script type=\"text/javascript\">                require([\"plotly\"], function(Plotly) {                    window.PLOTLYENV=window.PLOTLYENV || {};                                    if (document.getElementById(\"7d120fc5-e0be-408e-843d-f29f13a38a42\")) {                    Plotly.newPlot(                        \"7d120fc5-e0be-408e-843d-f29f13a38a42\",                        [{\"hovertemplate\":\"\\u003cb\\u003e%{hovertext}\\u003c\\u002fb\\u003e\\u003cbr\\u003e\\u003cbr\\u003eRank=%{x}\\u003cbr\\u003eLifetime_Gross=%{y}\\u003cbr\\u003eYear=%{marker.color}\\u003cextra\\u003e\\u003c\\u002fextra\\u003e\",\"hovertext\":[\"Avatar\",\"Avengers: Endgame\",\"Avatar: The Way of Water\",\"Titanic\",\"Star Wars: Episode VII - The Force Awakens\",\"Avengers: Infinity War\",\"Spider-Man: No Way Home\",\"Jurassic World\",\"The Lion King\",\"The Avengers\",\"Furious 7\",\"Top Gun: Maverick\",\"Frozen II\",\"Barbie\",\"Avengers: Age of Ultron\",\"Frozen\",\"The Super Mario Bros. Movie\",\"Harry Potter and the Deathly Hallows: Part 2\",\"Black Panther\",\"Star Wars: Episode VIII - The Last Jedi\",\"Jurassic World: Fallen Kingdom\",\"Beauty and the Beast\",\"Incredibles 2\",\"The Fate of the Furious\",\"Iron Man 3\",\"Minions\",\"The Lord of the Rings: The Return of the King\",\"Captain America: Civil War\",\"Aquaman\",\"Skyfall\",\"Spider-Man: Far from Home\",\"Captain Marvel\",\"Transformers: Dark of the Moon\",\"Jurassic Park\",\"The Dark Knight Rises\",\"Transformers: Age of Extinction\",\"Joker\",\"Star Wars: Episode IX - The Rise of Skywalker\",\"Toy Story 4\",\"Toy Story 3\",\"Pirates of the Caribbean: Dead Man's Chest\",\"Rogue One: A Star Wars Story\",\"Aladdin\",\"Pirates of the Caribbean: On Stranger Tides\",\"Despicable Me 3\",\"Finding Dory\",\"The Dark Knight\",\"Star Wars: Episode I - The Phantom Menace\",\"Zootopia\",\"Alice in Wonderland\",\"Harry Potter and the Sorcerer's Stone\",\"The Hobbit: An Unexpected Journey\",\"Jurassic World Dominion\",\"Jumanji: Welcome to the Jungle\",\"Harry Potter and the Deathly Hallows: Part 1\",\"Despicable Me 2\",\"The Lion King\",\"The Jungle Book\",\"The Hobbit: The Battle of the Five Armies\",\"Pirates of the Caribbean: At World's End\",\"The Hobbit: The Desolation of Smaug\",\"Doctor Strange in the Multiverse of Madness\",\"Oppenheimer\",\"The Lord of the Rings: The Two Towers\",\"Finding Nemo\",\"Minions: The Rise of Gru\",\"Harry Potter and the Order of the Phoenix\",\"Harry Potter and the Half-Blood Prince\",\"Shrek 2\",\"Harry Potter and the Chamber of Secrets\",\"Bohemian Rhapsody\",\"The Battle at Lake Changjin\",\"Harry Potter and the Goblet of Fire\",\"Spider-Man 3\",\"The Secret Life of Pets\",\"Ice Age: Dawn of the Dinosaurs\",\"The Lord of the Rings: The Fellowship of the Ring\",\"Spectre\",\"Spider-Man: Homecoming\",\"Ice Age: Continental Drift\",\"Batman v Superman: Dawn of Justice\",\"Wolf Warrior 2\",\"Star Wars: Episode III - Revenge of the Sith\",\"The Hunger Games: Catching Fire\",\"Guardians of the Galaxy Vol. 2\",\"Black Panther: Wakanda Forever\",\"Inside Out\",\"Venom\",\"Thor: Ragnarok\",\"The Twilight Saga: Breaking Dawn - Part 2\",\"Guardians of the Galaxy Vol. 3\",\"Inception\",\"Transformers: Revenge of the Fallen\",\"Spider-Man\",\"Wonder Woman\",\"Hi, Mom\",\"Independence Day\",\"Fantastic Beasts and Where to Find Them\",\"Coco\",\"Shrek the Third\",\"Harry Potter and the Prisoner of Azkaban\",\"Jumanji: The Next Level\",\"Pirates of the Caribbean: Dead Men Tell No Tales\",\"E.T. the Extra-Terrestrial\",\"Mission: Impossible - Fallout\",\"2012\",\"Indiana Jones and the Kingdom of the Crystal Skull\",\"Spider-Man 2\",\"Fast & Furious 6\",\"Deadpool 2\",\"Deadpool\",\"Star Wars: Episode IV - A New Hope\",\"No Time to Die\",\"Guardians of the Galaxy\",\"Gravity\",\"The Batman\",\"Thor: Love and Thunder\",\"Fast & Furious Presents: Hobbs & Shaw\",\"The Da Vinci Code\",\"Maleficent\",\"The Amazing Spider-Man\",\"The Hunger Games: Mockingjay - Part 1\",\"Shrek Forever After\",\"Suicide Squad\",\"Madagascar 3: Europe's Most Wanted\",\"X-Men: Days of Future Past\",\"The Chronicles of Narnia: The Lion, the Witch and the Wardrobe\",\"Monsters University\",\"The Matrix Reloaded\",\"Up\",\"Interstellar\",\"Ne Zha\",\"F9: The Fast Saga\",\"Captain America: The Winter Soldier\",\"The Twilight Saga: Breaking Dawn - Part 1\",\"The Twilight Saga: New Moon\",\"Dawn of the Planet of the Apes\",\"Transformers\",\"The Amazing Spider-Man 2\",\"Fast X\",\"It\",\"The Wandering Earth\",\"The Twilight Saga: Eclipse\",\"The Hunger Games\",\"Mission: Impossible - Ghost Protocol\",\"Mamma Mia!\",\"Spider-Man: Across the Spider-Verse\",\"Moana\",\"Detective Chinatown 3\",\"Mission: Impossible - Rogue Nation\",\"Forrest Gump\",\"Doctor Strange\",\"The Sixth Sense\",\"Man of Steel\",\"Ice Age: The Meltdown\",\"Kung Fu Panda 2\",\"The Hunger Games: Mockingjay - Part 2\",\"Justice League\",\"Big Hero 6\",\"Fantastic Beasts: The Crimes of Grindelwald\",\"Pirates of the Caribbean: The Curse of the Black Pearl\",\"Men in Black 3\",\"Star Wars: Episode II - Attack of the Clones\",\"Thor: The Dark World\",\"Sing\",\"Kung Fu Panda\",\"The Incredibles\",\"The Martian\",\"Hancock\",\"Water Gate Bridge\",\"Fast Five\",\"Iron Man 2\",\"Ratatouille\",\"Ant-Man and the Wasp\",\"How to Train Your Dragon 2\",\"Logan\",\"The Lost World: Jurassic Park\",\"Casino Royale\",\"The Passion of the Christ\",\"Life of Pi\",\"Ready Player One\",\"Transformers: The Last Knight\",\"Madagascar: Escape 2 Africa\",\"War of the Worlds\",\"Tangled\",\"Quantum of Solace\",\"Men in Black\",\"The Croods\",\"The Hangover Part II\",\"Iron Man\",\"I Am Legend\",\"Monsters, Inc.\",\"Operation Red Sea\",\"Night at the Museum\",\"Fifty Shades of Grey\",\"The Little Mermaid\",\"Kong: Skull Island\",\"Mission: Impossible - Dead Reckoning Part One\",\"The Smurfs\",\"Cars 2\"],\"legendgroup\":\"\",\"marker\":{\"color\":[2009,2019,2022,1997,2015,2018,2021,2015,2019,2012,2015,2022,2019,2023,2015,2013,2023,2011,2018,2017,2018,2017,2018,2017,2013,2015,2003,2016,2018,2012,2019,2019,2011,1993,2012,2014,2019,2019,2019,2010,2006,2016,2019,2011,2017,2016,2008,1999,2016,2010,2001,2012,2022,2017,2010,2013,1994,2016,2014,2007,2013,2022,2023,2002,2003,2022,2007,2009,2004,2002,2018,2021,2005,2007,2016,2009,2001,2015,2017,2012,2016,2017,2005,2013,2017,2022,2015,2018,2017,2012,2023,2010,2009,2002,2017,2021,1996,2016,2017,2007,2004,2019,2017,1982,2018,2009,2008,2004,2013,2018,2016,1977,2021,2014,2013,2022,2022,2019,2006,2014,2012,2014,2010,2016,2012,2014,2005,2013,2003,2009,2014,2019,2021,2014,2011,2009,2014,2007,2014,2023,2017,2019,2010,2012,2011,2008,2023,2016,2021,2015,1994,2016,1999,2013,2006,2011,2015,2017,2014,2018,2003,2012,2002,2013,2016,2008,2004,2015,2008,2022,2011,2010,2007,2018,2014,2017,1997,2006,2004,2012,2018,2017,2008,2005,2010,2008,1997,2013,2011,2008,2007,2001,2018,2006,2015,2023,2017,2023,2011,2011],\"coloraxis\":\"coloraxis\",\"symbol\":\"circle\"},\"mode\":\"markers\",\"name\":\"\",\"orientation\":\"v\",\"showlegend\":false,\"x\":[1,2,3,4,5,6,7,8,9,10,11,12,13,14,15,16,17,18,19,20,21,22,23,24,25,26,27,28,29,30,31,32,33,34,35,36,37,38,39,40,41,42,43,44,45,46,47,48,49,50,51,52,53,54,55,56,57,58,59,60,61,62,63,64,65,66,67,68,69,70,71,72,73,74,75,76,77,78,79,80,81,82,83,84,85,86,87,88,89,90,91,92,93,94,95,96,97,98,99,100,101,102,103,104,105,106,107,108,109,110,111,112,113,114,115,116,117,118,119,120,121,122,123,124,125,126,127,128,129,130,131,132,133,134,135,136,137,138,139,140,141,142,143,144,145,146,147,148,149,150,151,152,153,154,155,156,157,158,159,160,161,162,163,164,165,166,167,168,169,170,171,172,173,174,175,176,177,178,179,180,181,182,183,184,185,186,187,188,189,190,191,192,193,194,195,196,197,198,199,200],\"xaxis\":\"x\",\"y\":[2923706026,2799439100,2320250281,2264743305,2071310218,2052415039,1921847111,1671537444,1663075401,1520538536,1515341399,1495696292,1453683476,1441817322,1405018048,1397042530,1361427971,1356841356,1349926083,1334407706,1310466296,1266115964,1243225667,1236005118,1215577205,1159444662,1156194180,1155046416,1152028393,1142471295,1131927996,1131416446,1123794079,1114429886,1114085030,1104054072,1078958282,1077022372,1073841394,1067316101,1066179747,1058682142,1054304000,1046721266,1034800131,1029266989,1029266147,1027082707,1025521689,1025468216,1024264477,1017030651,1001978080,995339117,972584232,970766005,968511805,967724775,962201338,961691209,959027992,955775804,951996130,948945489,941637960,939628210,939288806,934770304,928760770,926201000,910809311,902548476,897048648,894983373,894328469,886686817,883407846,880705312,880166924,877244782,874362803,870325439,868390560,865011746,863756051,859208836,858848019,856085151,855301806,848593948,845555777,839030630,836303693,825025036,823970682,822009764,817400891,816037575,814337054,813367380,807047946,801693929,795922298,792910554,791657398,791217826,790653942,788976453,788680968,785896609,782836791,775398007,774153007,773350147,773031583,772245583,760928081,760732926,760006945,759853685,757930663,755357103,752600867,749200054,746921274,746045700,745013115,743559645,741847937,735099102,731079637,726264074,726229501,714421503,712205856,711025481,710644566,709709780,708982323,704709660,704242551,699992512,698509825,695220619,694713380,694479834,690516673,687228908,686257563,682716636,678226465,677796076,672806432,670145518,667094506,665692281,661456563,661326987,657869686,655755901,654264015,654213485,653779970,644783140,634338384,632083197,631684650,630620818,629443428,626571697,626137675,623933331,623726085,622674139,621537519,619179950,618638999,616505162,612054506,609016565,607874134,605425157,603900354,603873119,592462816,589580482,589390539,587235983,586764305,585796247,585410052,579707738,579330426,574481229,569651467,569626289,568652812,567535383,563749323,559852396],\"yaxis\":\"y\",\"type\":\"scatter\"},{\"hovertemplate\":\"\\u003cb\\u003eOLS trendline\\u003c\\u002fb\\u003e\\u003cbr\\u003eLifetime_Gross = -5.08703e+06 * Rank + 1.42091e+09\\u003cbr\\u003eR\\u003csup\\u003e2\\u003c\\u002fsup\\u003e=0.649540\\u003cbr\\u003e\\u003cbr\\u003eRank=%{x}\\u003cbr\\u003eLifetime_Gross=%{y} \\u003cb\\u003e(trend)\\u003c\\u002fb\\u003e\\u003cextra\\u003e\\u003c\\u002fextra\\u003e\",\"legendgroup\":\"\",\"marker\":{\"symbol\":\"circle\"},\"mode\":\"lines\",\"name\":\"\",\"showlegend\":false,\"x\":[1,2,3,4,5,6,7,8,9,10,11,12,13,14,15,16,17,18,19,20,21,22,23,24,25,26,27,28,29,30,31,32,33,34,35,36,37,38,39,40,41,42,43,44,45,46,47,48,49,50,51,52,53,54,55,56,57,58,59,60,61,62,63,64,65,66,67,68,69,70,71,72,73,74,75,76,77,78,79,80,81,82,83,84,85,86,87,88,89,90,91,92,93,94,95,96,97,98,99,100,101,102,103,104,105,106,107,108,109,110,111,112,113,114,115,116,117,118,119,120,121,122,123,124,125,126,127,128,129,130,131,132,133,134,135,136,137,138,139,140,141,142,143,144,145,146,147,148,149,150,151,152,153,154,155,156,157,158,159,160,161,162,163,164,165,166,167,168,169,170,171,172,173,174,175,176,177,178,179,180,181,182,183,184,185,186,187,188,189,190,191,192,193,194,195,196,197,198,199,200],\"xaxis\":\"x\",\"y\":[1415826558.2580595,1410739524.199486,1405652490.1409125,1400565456.082339,1395478422.0237658,1390391387.9651923,1385304353.9066188,1380217319.8480453,1375130285.7894719,1370043251.7308984,1364956217.672325,1359869183.6137514,1354782149.5551782,1349695115.4966047,1344608081.4380312,1339521047.3794577,1334434013.3208842,1329346979.2623107,1324259945.2037373,1319172911.1451638,1314085877.0865903,1308998843.028017,1303911808.9694436,1298824774.91087,1293737740.8522966,1288650706.793723,1283563672.7351496,1278476638.6765761,1273389604.6180027,1268302570.5594292,1263215536.500856,1258128502.4422824,1253041468.383709,1247954434.3251355,1242867400.266562,1237780366.2079885,1232693332.149415,1227606298.0908418,1222519264.0322683,1217432229.9736948,1212345195.9151213,1207258161.8565478,1202171127.7979743,1197084093.7394009,1191997059.6808274,1186910025.622254,1181822991.5636806,1176735957.5051072,1171648923.4465337,1166561889.3879602,1161474855.3293867,1156387821.2708132,1151300787.2122397,1146213753.1536663,1141126719.0950928,1136039685.0365195,1130952650.977946,1125865616.9193726,1120778582.860799,1115691548.8022256,1110604514.743652,1105517480.6850786,1100430446.6265054,1095343412.5679317,1090256378.5093584,1085169344.450785,1080082310.3922114,1074995276.333638,1069908242.2750645,1064821208.216491,1059734174.1579175,1054647140.0993441,1049560106.0407706,1044473071.9821973,1039386037.9236238,1034299003.8650503,1029211969.8064768,1024124935.7479033,1019037901.6893299,1013950867.6307565,1008863833.572183,1003776799.5136095,998689765.4550362,993602731.3964627,988515697.3378892,983428663.2793157,978341629.2207422,973254595.1621687,968167561.1035954,963080527.0450219,957993492.9864485,952906458.927875,947819424.8693016,942732390.8107281,937645356.7521546,932558322.6935811,927471288.6350076,922384254.5764343,917297220.5178608,912210186.4592874,907123152.4007139,902036118.3421404,896949084.283567,891862050.2249935,886775016.16642,881687982.1078466,876600948.0492731,871513913.9906996,866426879.9321263,861339845.8735528,856252811.8149793,851165777.7564058,846078743.6978323,840991709.639259,835904675.5806855,830817641.522112,825730607.4635385,820643573.4049652,815556539.3463917,810469505.2878182,805382471.2292447,800295437.1706713,795208403.1120979,790121369.0535244,785034334.9949509,779947300.9363775,774860266.877804,769773232.8192306,764686198.7606571,759599164.7020836,754512130.6435102,749425096.5849367,744338062.5263633,739251028.4677898,734163994.4092164,729076960.3506429,723989926.2920694,718902892.233496,713815858.1749226,708728824.1163491,703641790.0577756,698554755.9992021,693467721.9406288,688380687.8820553,683293653.8234818,678206619.7649083,673119585.7063348,668032551.6477615,662945517.589188,657858483.5306145,652771449.472041,647684415.4134676,642597381.3548942,637510347.2963207,632423313.2377472,627336279.1791738,622249245.1206003,617162211.0620269,612075177.0034534,606988142.94488,601901108.8863065,596814074.827733,591727040.7691596,586640006.7105861,581552972.6520127,576465938.5934392,571378904.5348657,566291870.4762923,561204836.4177189,556117802.3591454,551030768.3005719,545943734.2419984,540856700.1834251,535769666.1248516,530682632.0662781,525595598.0077046,520508563.94913113,515421529.89055777,510334495.8319843,505247461.7734108,500160427.7148373,495073393.65626395,489986359.59769046,484899325.539117,479812291.4805435,474725257.4219701,469638223.36339664,464551189.30482316,459464155.2462497,454377121.1876763,449290087.1291028,444203053.07052934,439116019.01195586,434028984.9533824,428941950.894809,423854916.8362355,418767882.77766204,413680848.71908855,408593814.6605152,403506780.6019417],\"yaxis\":\"y\",\"type\":\"scatter\"}],                        {\"template\":{\"data\":{\"histogram2dcontour\":[{\"type\":\"histogram2dcontour\",\"colorbar\":{\"outlinewidth\":0,\"ticks\":\"\"},\"colorscale\":[[0.0,\"#0d0887\"],[0.1111111111111111,\"#46039f\"],[0.2222222222222222,\"#7201a8\"],[0.3333333333333333,\"#9c179e\"],[0.4444444444444444,\"#bd3786\"],[0.5555555555555556,\"#d8576b\"],[0.6666666666666666,\"#ed7953\"],[0.7777777777777778,\"#fb9f3a\"],[0.8888888888888888,\"#fdca26\"],[1.0,\"#f0f921\"]]}],\"choropleth\":[{\"type\":\"choropleth\",\"colorbar\":{\"outlinewidth\":0,\"ticks\":\"\"}}],\"histogram2d\":[{\"type\":\"histogram2d\",\"colorbar\":{\"outlinewidth\":0,\"ticks\":\"\"},\"colorscale\":[[0.0,\"#0d0887\"],[0.1111111111111111,\"#46039f\"],[0.2222222222222222,\"#7201a8\"],[0.3333333333333333,\"#9c179e\"],[0.4444444444444444,\"#bd3786\"],[0.5555555555555556,\"#d8576b\"],[0.6666666666666666,\"#ed7953\"],[0.7777777777777778,\"#fb9f3a\"],[0.8888888888888888,\"#fdca26\"],[1.0,\"#f0f921\"]]}],\"heatmap\":[{\"type\":\"heatmap\",\"colorbar\":{\"outlinewidth\":0,\"ticks\":\"\"},\"colorscale\":[[0.0,\"#0d0887\"],[0.1111111111111111,\"#46039f\"],[0.2222222222222222,\"#7201a8\"],[0.3333333333333333,\"#9c179e\"],[0.4444444444444444,\"#bd3786\"],[0.5555555555555556,\"#d8576b\"],[0.6666666666666666,\"#ed7953\"],[0.7777777777777778,\"#fb9f3a\"],[0.8888888888888888,\"#fdca26\"],[1.0,\"#f0f921\"]]}],\"heatmapgl\":[{\"type\":\"heatmapgl\",\"colorbar\":{\"outlinewidth\":0,\"ticks\":\"\"},\"colorscale\":[[0.0,\"#0d0887\"],[0.1111111111111111,\"#46039f\"],[0.2222222222222222,\"#7201a8\"],[0.3333333333333333,\"#9c179e\"],[0.4444444444444444,\"#bd3786\"],[0.5555555555555556,\"#d8576b\"],[0.6666666666666666,\"#ed7953\"],[0.7777777777777778,\"#fb9f3a\"],[0.8888888888888888,\"#fdca26\"],[1.0,\"#f0f921\"]]}],\"contourcarpet\":[{\"type\":\"contourcarpet\",\"colorbar\":{\"outlinewidth\":0,\"ticks\":\"\"}}],\"contour\":[{\"type\":\"contour\",\"colorbar\":{\"outlinewidth\":0,\"ticks\":\"\"},\"colorscale\":[[0.0,\"#0d0887\"],[0.1111111111111111,\"#46039f\"],[0.2222222222222222,\"#7201a8\"],[0.3333333333333333,\"#9c179e\"],[0.4444444444444444,\"#bd3786\"],[0.5555555555555556,\"#d8576b\"],[0.6666666666666666,\"#ed7953\"],[0.7777777777777778,\"#fb9f3a\"],[0.8888888888888888,\"#fdca26\"],[1.0,\"#f0f921\"]]}],\"surface\":[{\"type\":\"surface\",\"colorbar\":{\"outlinewidth\":0,\"ticks\":\"\"},\"colorscale\":[[0.0,\"#0d0887\"],[0.1111111111111111,\"#46039f\"],[0.2222222222222222,\"#7201a8\"],[0.3333333333333333,\"#9c179e\"],[0.4444444444444444,\"#bd3786\"],[0.5555555555555556,\"#d8576b\"],[0.6666666666666666,\"#ed7953\"],[0.7777777777777778,\"#fb9f3a\"],[0.8888888888888888,\"#fdca26\"],[1.0,\"#f0f921\"]]}],\"mesh3d\":[{\"type\":\"mesh3d\",\"colorbar\":{\"outlinewidth\":0,\"ticks\":\"\"}}],\"scatter\":[{\"fillpattern\":{\"fillmode\":\"overlay\",\"size\":10,\"solidity\":0.2},\"type\":\"scatter\"}],\"parcoords\":[{\"type\":\"parcoords\",\"line\":{\"colorbar\":{\"outlinewidth\":0,\"ticks\":\"\"}}}],\"scatterpolargl\":[{\"type\":\"scatterpolargl\",\"marker\":{\"colorbar\":{\"outlinewidth\":0,\"ticks\":\"\"}}}],\"bar\":[{\"error_x\":{\"color\":\"#2a3f5f\"},\"error_y\":{\"color\":\"#2a3f5f\"},\"marker\":{\"line\":{\"color\":\"#E5ECF6\",\"width\":0.5},\"pattern\":{\"fillmode\":\"overlay\",\"size\":10,\"solidity\":0.2}},\"type\":\"bar\"}],\"scattergeo\":[{\"type\":\"scattergeo\",\"marker\":{\"colorbar\":{\"outlinewidth\":0,\"ticks\":\"\"}}}],\"scatterpolar\":[{\"type\":\"scatterpolar\",\"marker\":{\"colorbar\":{\"outlinewidth\":0,\"ticks\":\"\"}}}],\"histogram\":[{\"marker\":{\"pattern\":{\"fillmode\":\"overlay\",\"size\":10,\"solidity\":0.2}},\"type\":\"histogram\"}],\"scattergl\":[{\"type\":\"scattergl\",\"marker\":{\"colorbar\":{\"outlinewidth\":0,\"ticks\":\"\"}}}],\"scatter3d\":[{\"type\":\"scatter3d\",\"line\":{\"colorbar\":{\"outlinewidth\":0,\"ticks\":\"\"}},\"marker\":{\"colorbar\":{\"outlinewidth\":0,\"ticks\":\"\"}}}],\"scattermapbox\":[{\"type\":\"scattermapbox\",\"marker\":{\"colorbar\":{\"outlinewidth\":0,\"ticks\":\"\"}}}],\"scatterternary\":[{\"type\":\"scatterternary\",\"marker\":{\"colorbar\":{\"outlinewidth\":0,\"ticks\":\"\"}}}],\"scattercarpet\":[{\"type\":\"scattercarpet\",\"marker\":{\"colorbar\":{\"outlinewidth\":0,\"ticks\":\"\"}}}],\"carpet\":[{\"aaxis\":{\"endlinecolor\":\"#2a3f5f\",\"gridcolor\":\"white\",\"linecolor\":\"white\",\"minorgridcolor\":\"white\",\"startlinecolor\":\"#2a3f5f\"},\"baxis\":{\"endlinecolor\":\"#2a3f5f\",\"gridcolor\":\"white\",\"linecolor\":\"white\",\"minorgridcolor\":\"white\",\"startlinecolor\":\"#2a3f5f\"},\"type\":\"carpet\"}],\"table\":[{\"cells\":{\"fill\":{\"color\":\"#EBF0F8\"},\"line\":{\"color\":\"white\"}},\"header\":{\"fill\":{\"color\":\"#C8D4E3\"},\"line\":{\"color\":\"white\"}},\"type\":\"table\"}],\"barpolar\":[{\"marker\":{\"line\":{\"color\":\"#E5ECF6\",\"width\":0.5},\"pattern\":{\"fillmode\":\"overlay\",\"size\":10,\"solidity\":0.2}},\"type\":\"barpolar\"}],\"pie\":[{\"automargin\":true,\"type\":\"pie\"}]},\"layout\":{\"autotypenumbers\":\"strict\",\"colorway\":[\"#636efa\",\"#EF553B\",\"#00cc96\",\"#ab63fa\",\"#FFA15A\",\"#19d3f3\",\"#FF6692\",\"#B6E880\",\"#FF97FF\",\"#FECB52\"],\"font\":{\"color\":\"#2a3f5f\"},\"hovermode\":\"closest\",\"hoverlabel\":{\"align\":\"left\"},\"paper_bgcolor\":\"white\",\"plot_bgcolor\":\"#E5ECF6\",\"polar\":{\"bgcolor\":\"#E5ECF6\",\"angularaxis\":{\"gridcolor\":\"white\",\"linecolor\":\"white\",\"ticks\":\"\"},\"radialaxis\":{\"gridcolor\":\"white\",\"linecolor\":\"white\",\"ticks\":\"\"}},\"ternary\":{\"bgcolor\":\"#E5ECF6\",\"aaxis\":{\"gridcolor\":\"white\",\"linecolor\":\"white\",\"ticks\":\"\"},\"baxis\":{\"gridcolor\":\"white\",\"linecolor\":\"white\",\"ticks\":\"\"},\"caxis\":{\"gridcolor\":\"white\",\"linecolor\":\"white\",\"ticks\":\"\"}},\"coloraxis\":{\"colorbar\":{\"outlinewidth\":0,\"ticks\":\"\"}},\"colorscale\":{\"sequential\":[[0.0,\"#0d0887\"],[0.1111111111111111,\"#46039f\"],[0.2222222222222222,\"#7201a8\"],[0.3333333333333333,\"#9c179e\"],[0.4444444444444444,\"#bd3786\"],[0.5555555555555556,\"#d8576b\"],[0.6666666666666666,\"#ed7953\"],[0.7777777777777778,\"#fb9f3a\"],[0.8888888888888888,\"#fdca26\"],[1.0,\"#f0f921\"]],\"sequentialminus\":[[0.0,\"#0d0887\"],[0.1111111111111111,\"#46039f\"],[0.2222222222222222,\"#7201a8\"],[0.3333333333333333,\"#9c179e\"],[0.4444444444444444,\"#bd3786\"],[0.5555555555555556,\"#d8576b\"],[0.6666666666666666,\"#ed7953\"],[0.7777777777777778,\"#fb9f3a\"],[0.8888888888888888,\"#fdca26\"],[1.0,\"#f0f921\"]],\"diverging\":[[0,\"#8e0152\"],[0.1,\"#c51b7d\"],[0.2,\"#de77ae\"],[0.3,\"#f1b6da\"],[0.4,\"#fde0ef\"],[0.5,\"#f7f7f7\"],[0.6,\"#e6f5d0\"],[0.7,\"#b8e186\"],[0.8,\"#7fbc41\"],[0.9,\"#4d9221\"],[1,\"#276419\"]]},\"xaxis\":{\"gridcolor\":\"white\",\"linecolor\":\"white\",\"ticks\":\"\",\"title\":{\"standoff\":15},\"zerolinecolor\":\"white\",\"automargin\":true,\"zerolinewidth\":2},\"yaxis\":{\"gridcolor\":\"white\",\"linecolor\":\"white\",\"ticks\":\"\",\"title\":{\"standoff\":15},\"zerolinecolor\":\"white\",\"automargin\":true,\"zerolinewidth\":2},\"scene\":{\"xaxis\":{\"backgroundcolor\":\"#E5ECF6\",\"gridcolor\":\"white\",\"linecolor\":\"white\",\"showbackground\":true,\"ticks\":\"\",\"zerolinecolor\":\"white\",\"gridwidth\":2},\"yaxis\":{\"backgroundcolor\":\"#E5ECF6\",\"gridcolor\":\"white\",\"linecolor\":\"white\",\"showbackground\":true,\"ticks\":\"\",\"zerolinecolor\":\"white\",\"gridwidth\":2},\"zaxis\":{\"backgroundcolor\":\"#E5ECF6\",\"gridcolor\":\"white\",\"linecolor\":\"white\",\"showbackground\":true,\"ticks\":\"\",\"zerolinecolor\":\"white\",\"gridwidth\":2}},\"shapedefaults\":{\"line\":{\"color\":\"#2a3f5f\"}},\"annotationdefaults\":{\"arrowcolor\":\"#2a3f5f\",\"arrowhead\":0,\"arrowwidth\":1},\"geo\":{\"bgcolor\":\"white\",\"landcolor\":\"#E5ECF6\",\"subunitcolor\":\"white\",\"showland\":true,\"showlakes\":true,\"lakecolor\":\"white\"},\"title\":{\"x\":0.05},\"mapbox\":{\"style\":\"light\"}}},\"xaxis\":{\"anchor\":\"y\",\"domain\":[0.0,1.0],\"title\":{\"text\":\"Rank\"}},\"yaxis\":{\"anchor\":\"x\",\"domain\":[0.0,1.0],\"title\":{\"text\":\"Lifetime_Gross\"},\"type\":\"log\"},\"coloraxis\":{\"colorbar\":{\"title\":{\"text\":\"Year\"}},\"colorscale\":[[0.0,\"#0d0887\"],[0.1111111111111111,\"#46039f\"],[0.2222222222222222,\"#7201a8\"],[0.3333333333333333,\"#9c179e\"],[0.4444444444444444,\"#bd3786\"],[0.5555555555555556,\"#d8576b\"],[0.6666666666666666,\"#ed7953\"],[0.7777777777777778,\"#fb9f3a\"],[0.8888888888888888,\"#fdca26\"],[1.0,\"#f0f921\"]]},\"legend\":{\"tracegroupgap\":0},\"margin\":{\"t\":60}},                        {\"responsive\": true}                    ).then(function(){\n",
       "                            \n",
       "var gd = document.getElementById('7d120fc5-e0be-408e-843d-f29f13a38a42');\n",
       "var x = new MutationObserver(function (mutations, observer) {{\n",
       "        var display = window.getComputedStyle(gd).display;\n",
       "        if (!display || display === 'none') {{\n",
       "            console.log([gd, 'removed!']);\n",
       "            Plotly.purge(gd);\n",
       "            observer.disconnect();\n",
       "        }}\n",
       "}});\n",
       "\n",
       "// Listen for the removal of the full notebook cells\n",
       "var notebookContainer = gd.closest('#notebook-container');\n",
       "if (notebookContainer) {{\n",
       "    x.observe(notebookContainer, {childList: true});\n",
       "}}\n",
       "\n",
       "// Listen for the clearing of the current output cell\n",
       "var outputEl = gd.closest('.output');\n",
       "if (outputEl) {{\n",
       "    x.observe(outputEl, {childList: true});\n",
       "}}\n",
       "\n",
       "                        })                };                });            </script>        </div>"
      ]
     },
     "metadata": {},
     "output_type": "display_data"
    }
   ],
   "source": [
    "scatter(data_frame=df, x='Rank', y='Lifetime_Gross', hover_name='Title', color='Year', log_y=True, trendline='ols')"
   ]
  },
  {
   "cell_type": "code",
   "execution_count": 6,
   "id": "336088c7",
   "metadata": {
    "execution": {
     "iopub.execute_input": "2023-12-27T15:48:15.174645Z",
     "iopub.status.busy": "2023-12-27T15:48:15.174198Z",
     "iopub.status.idle": "2023-12-27T15:48:15.282239Z",
     "shell.execute_reply": "2023-12-27T15:48:15.280826Z"
    },
    "papermill": {
     "duration": 0.118814,
     "end_time": "2023-12-27T15:48:15.285096",
     "exception": false,
     "start_time": "2023-12-27T15:48:15.166282",
     "status": "completed"
    },
    "tags": []
   },
   "outputs": [
    {
     "data": {
      "text/html": [
       "<div>                            <div id=\"fb65f355-14ab-4542-9700-60df404ecc28\" class=\"plotly-graph-div\" style=\"height:525px; width:100%;\"></div>            <script type=\"text/javascript\">                require([\"plotly\"], function(Plotly) {                    window.PLOTLYENV=window.PLOTLYENV || {};                                    if (document.getElementById(\"fb65f355-14ab-4542-9700-60df404ecc28\")) {                    Plotly.newPlot(                        \"fb65f355-14ab-4542-9700-60df404ecc28\",                        [{\"alignmentgroup\":\"True\",\"bingroup\":\"x\",\"hovertemplate\":\"Lifetime_Gross=%{x}\\u003cbr\\u003ecount=%{y}\\u003cextra\\u003e\\u003c\\u002fextra\\u003e\",\"legendgroup\":\"\",\"marker\":{\"color\":\"#636efa\",\"pattern\":{\"shape\":\"\"}},\"name\":\"\",\"offsetgroup\":\"\",\"orientation\":\"v\",\"showlegend\":false,\"x\":[2923706026,2799439100,2320250281,2264743305,2071310218,2052415039,1921847111,1671537444,1663075401,1520538536,1515341399,1495696292,1453683476,1441817322,1405018048,1397042530,1361427971,1356841356,1349926083,1334407706,1310466296,1266115964,1243225667,1236005118,1215577205,1159444662,1156194180,1155046416,1152028393,1142471295,1131927996,1131416446,1123794079,1114429886,1114085030,1104054072,1078958282,1077022372,1073841394,1067316101,1066179747,1058682142,1054304000,1046721266,1034800131,1029266989,1029266147,1027082707,1025521689,1025468216,1024264477,1017030651,1001978080,995339117,972584232,970766005,968511805,967724775,962201338,961691209,959027992,955775804,951996130,948945489,941637960,939628210,939288806,934770304,928760770,926201000,910809311,902548476,897048648,894983373,894328469,886686817,883407846,880705312,880166924,877244782,874362803,870325439,868390560,865011746,863756051,859208836,858848019,856085151,855301806,848593948,845555777,839030630,836303693,825025036,823970682,822009764,817400891,816037575,814337054,813367380,807047946,801693929,795922298,792910554,791657398,791217826,790653942,788976453,788680968,785896609,782836791,775398007,774153007,773350147,773031583,772245583,760928081,760732926,760006945,759853685,757930663,755357103,752600867,749200054,746921274,746045700,745013115,743559645,741847937,735099102,731079637,726264074,726229501,714421503,712205856,711025481,710644566,709709780,708982323,704709660,704242551,699992512,698509825,695220619,694713380,694479834,690516673,687228908,686257563,682716636,678226465,677796076,672806432,670145518,667094506,665692281,661456563,661326987,657869686,655755901,654264015,654213485,653779970,644783140,634338384,632083197,631684650,630620818,629443428,626571697,626137675,623933331,623726085,622674139,621537519,619179950,618638999,616505162,612054506,609016565,607874134,605425157,603900354,603873119,592462816,589580482,589390539,587235983,586764305,585796247,585410052,579707738,579330426,574481229,569651467,569626289,568652812,567535383,563749323,559852396],\"xaxis\":\"x\",\"yaxis\":\"y\",\"type\":\"histogram\"}],                        {\"template\":{\"data\":{\"histogram2dcontour\":[{\"type\":\"histogram2dcontour\",\"colorbar\":{\"outlinewidth\":0,\"ticks\":\"\"},\"colorscale\":[[0.0,\"#0d0887\"],[0.1111111111111111,\"#46039f\"],[0.2222222222222222,\"#7201a8\"],[0.3333333333333333,\"#9c179e\"],[0.4444444444444444,\"#bd3786\"],[0.5555555555555556,\"#d8576b\"],[0.6666666666666666,\"#ed7953\"],[0.7777777777777778,\"#fb9f3a\"],[0.8888888888888888,\"#fdca26\"],[1.0,\"#f0f921\"]]}],\"choropleth\":[{\"type\":\"choropleth\",\"colorbar\":{\"outlinewidth\":0,\"ticks\":\"\"}}],\"histogram2d\":[{\"type\":\"histogram2d\",\"colorbar\":{\"outlinewidth\":0,\"ticks\":\"\"},\"colorscale\":[[0.0,\"#0d0887\"],[0.1111111111111111,\"#46039f\"],[0.2222222222222222,\"#7201a8\"],[0.3333333333333333,\"#9c179e\"],[0.4444444444444444,\"#bd3786\"],[0.5555555555555556,\"#d8576b\"],[0.6666666666666666,\"#ed7953\"],[0.7777777777777778,\"#fb9f3a\"],[0.8888888888888888,\"#fdca26\"],[1.0,\"#f0f921\"]]}],\"heatmap\":[{\"type\":\"heatmap\",\"colorbar\":{\"outlinewidth\":0,\"ticks\":\"\"},\"colorscale\":[[0.0,\"#0d0887\"],[0.1111111111111111,\"#46039f\"],[0.2222222222222222,\"#7201a8\"],[0.3333333333333333,\"#9c179e\"],[0.4444444444444444,\"#bd3786\"],[0.5555555555555556,\"#d8576b\"],[0.6666666666666666,\"#ed7953\"],[0.7777777777777778,\"#fb9f3a\"],[0.8888888888888888,\"#fdca26\"],[1.0,\"#f0f921\"]]}],\"heatmapgl\":[{\"type\":\"heatmapgl\",\"colorbar\":{\"outlinewidth\":0,\"ticks\":\"\"},\"colorscale\":[[0.0,\"#0d0887\"],[0.1111111111111111,\"#46039f\"],[0.2222222222222222,\"#7201a8\"],[0.3333333333333333,\"#9c179e\"],[0.4444444444444444,\"#bd3786\"],[0.5555555555555556,\"#d8576b\"],[0.6666666666666666,\"#ed7953\"],[0.7777777777777778,\"#fb9f3a\"],[0.8888888888888888,\"#fdca26\"],[1.0,\"#f0f921\"]]}],\"contourcarpet\":[{\"type\":\"contourcarpet\",\"colorbar\":{\"outlinewidth\":0,\"ticks\":\"\"}}],\"contour\":[{\"type\":\"contour\",\"colorbar\":{\"outlinewidth\":0,\"ticks\":\"\"},\"colorscale\":[[0.0,\"#0d0887\"],[0.1111111111111111,\"#46039f\"],[0.2222222222222222,\"#7201a8\"],[0.3333333333333333,\"#9c179e\"],[0.4444444444444444,\"#bd3786\"],[0.5555555555555556,\"#d8576b\"],[0.6666666666666666,\"#ed7953\"],[0.7777777777777778,\"#fb9f3a\"],[0.8888888888888888,\"#fdca26\"],[1.0,\"#f0f921\"]]}],\"surface\":[{\"type\":\"surface\",\"colorbar\":{\"outlinewidth\":0,\"ticks\":\"\"},\"colorscale\":[[0.0,\"#0d0887\"],[0.1111111111111111,\"#46039f\"],[0.2222222222222222,\"#7201a8\"],[0.3333333333333333,\"#9c179e\"],[0.4444444444444444,\"#bd3786\"],[0.5555555555555556,\"#d8576b\"],[0.6666666666666666,\"#ed7953\"],[0.7777777777777778,\"#fb9f3a\"],[0.8888888888888888,\"#fdca26\"],[1.0,\"#f0f921\"]]}],\"mesh3d\":[{\"type\":\"mesh3d\",\"colorbar\":{\"outlinewidth\":0,\"ticks\":\"\"}}],\"scatter\":[{\"fillpattern\":{\"fillmode\":\"overlay\",\"size\":10,\"solidity\":0.2},\"type\":\"scatter\"}],\"parcoords\":[{\"type\":\"parcoords\",\"line\":{\"colorbar\":{\"outlinewidth\":0,\"ticks\":\"\"}}}],\"scatterpolargl\":[{\"type\":\"scatterpolargl\",\"marker\":{\"colorbar\":{\"outlinewidth\":0,\"ticks\":\"\"}}}],\"bar\":[{\"error_x\":{\"color\":\"#2a3f5f\"},\"error_y\":{\"color\":\"#2a3f5f\"},\"marker\":{\"line\":{\"color\":\"#E5ECF6\",\"width\":0.5},\"pattern\":{\"fillmode\":\"overlay\",\"size\":10,\"solidity\":0.2}},\"type\":\"bar\"}],\"scattergeo\":[{\"type\":\"scattergeo\",\"marker\":{\"colorbar\":{\"outlinewidth\":0,\"ticks\":\"\"}}}],\"scatterpolar\":[{\"type\":\"scatterpolar\",\"marker\":{\"colorbar\":{\"outlinewidth\":0,\"ticks\":\"\"}}}],\"histogram\":[{\"marker\":{\"pattern\":{\"fillmode\":\"overlay\",\"size\":10,\"solidity\":0.2}},\"type\":\"histogram\"}],\"scattergl\":[{\"type\":\"scattergl\",\"marker\":{\"colorbar\":{\"outlinewidth\":0,\"ticks\":\"\"}}}],\"scatter3d\":[{\"type\":\"scatter3d\",\"line\":{\"colorbar\":{\"outlinewidth\":0,\"ticks\":\"\"}},\"marker\":{\"colorbar\":{\"outlinewidth\":0,\"ticks\":\"\"}}}],\"scattermapbox\":[{\"type\":\"scattermapbox\",\"marker\":{\"colorbar\":{\"outlinewidth\":0,\"ticks\":\"\"}}}],\"scatterternary\":[{\"type\":\"scatterternary\",\"marker\":{\"colorbar\":{\"outlinewidth\":0,\"ticks\":\"\"}}}],\"scattercarpet\":[{\"type\":\"scattercarpet\",\"marker\":{\"colorbar\":{\"outlinewidth\":0,\"ticks\":\"\"}}}],\"carpet\":[{\"aaxis\":{\"endlinecolor\":\"#2a3f5f\",\"gridcolor\":\"white\",\"linecolor\":\"white\",\"minorgridcolor\":\"white\",\"startlinecolor\":\"#2a3f5f\"},\"baxis\":{\"endlinecolor\":\"#2a3f5f\",\"gridcolor\":\"white\",\"linecolor\":\"white\",\"minorgridcolor\":\"white\",\"startlinecolor\":\"#2a3f5f\"},\"type\":\"carpet\"}],\"table\":[{\"cells\":{\"fill\":{\"color\":\"#EBF0F8\"},\"line\":{\"color\":\"white\"}},\"header\":{\"fill\":{\"color\":\"#C8D4E3\"},\"line\":{\"color\":\"white\"}},\"type\":\"table\"}],\"barpolar\":[{\"marker\":{\"line\":{\"color\":\"#E5ECF6\",\"width\":0.5},\"pattern\":{\"fillmode\":\"overlay\",\"size\":10,\"solidity\":0.2}},\"type\":\"barpolar\"}],\"pie\":[{\"automargin\":true,\"type\":\"pie\"}]},\"layout\":{\"autotypenumbers\":\"strict\",\"colorway\":[\"#636efa\",\"#EF553B\",\"#00cc96\",\"#ab63fa\",\"#FFA15A\",\"#19d3f3\",\"#FF6692\",\"#B6E880\",\"#FF97FF\",\"#FECB52\"],\"font\":{\"color\":\"#2a3f5f\"},\"hovermode\":\"closest\",\"hoverlabel\":{\"align\":\"left\"},\"paper_bgcolor\":\"white\",\"plot_bgcolor\":\"#E5ECF6\",\"polar\":{\"bgcolor\":\"#E5ECF6\",\"angularaxis\":{\"gridcolor\":\"white\",\"linecolor\":\"white\",\"ticks\":\"\"},\"radialaxis\":{\"gridcolor\":\"white\",\"linecolor\":\"white\",\"ticks\":\"\"}},\"ternary\":{\"bgcolor\":\"#E5ECF6\",\"aaxis\":{\"gridcolor\":\"white\",\"linecolor\":\"white\",\"ticks\":\"\"},\"baxis\":{\"gridcolor\":\"white\",\"linecolor\":\"white\",\"ticks\":\"\"},\"caxis\":{\"gridcolor\":\"white\",\"linecolor\":\"white\",\"ticks\":\"\"}},\"coloraxis\":{\"colorbar\":{\"outlinewidth\":0,\"ticks\":\"\"}},\"colorscale\":{\"sequential\":[[0.0,\"#0d0887\"],[0.1111111111111111,\"#46039f\"],[0.2222222222222222,\"#7201a8\"],[0.3333333333333333,\"#9c179e\"],[0.4444444444444444,\"#bd3786\"],[0.5555555555555556,\"#d8576b\"],[0.6666666666666666,\"#ed7953\"],[0.7777777777777778,\"#fb9f3a\"],[0.8888888888888888,\"#fdca26\"],[1.0,\"#f0f921\"]],\"sequentialminus\":[[0.0,\"#0d0887\"],[0.1111111111111111,\"#46039f\"],[0.2222222222222222,\"#7201a8\"],[0.3333333333333333,\"#9c179e\"],[0.4444444444444444,\"#bd3786\"],[0.5555555555555556,\"#d8576b\"],[0.6666666666666666,\"#ed7953\"],[0.7777777777777778,\"#fb9f3a\"],[0.8888888888888888,\"#fdca26\"],[1.0,\"#f0f921\"]],\"diverging\":[[0,\"#8e0152\"],[0.1,\"#c51b7d\"],[0.2,\"#de77ae\"],[0.3,\"#f1b6da\"],[0.4,\"#fde0ef\"],[0.5,\"#f7f7f7\"],[0.6,\"#e6f5d0\"],[0.7,\"#b8e186\"],[0.8,\"#7fbc41\"],[0.9,\"#4d9221\"],[1,\"#276419\"]]},\"xaxis\":{\"gridcolor\":\"white\",\"linecolor\":\"white\",\"ticks\":\"\",\"title\":{\"standoff\":15},\"zerolinecolor\":\"white\",\"automargin\":true,\"zerolinewidth\":2},\"yaxis\":{\"gridcolor\":\"white\",\"linecolor\":\"white\",\"ticks\":\"\",\"title\":{\"standoff\":15},\"zerolinecolor\":\"white\",\"automargin\":true,\"zerolinewidth\":2},\"scene\":{\"xaxis\":{\"backgroundcolor\":\"#E5ECF6\",\"gridcolor\":\"white\",\"linecolor\":\"white\",\"showbackground\":true,\"ticks\":\"\",\"zerolinecolor\":\"white\",\"gridwidth\":2},\"yaxis\":{\"backgroundcolor\":\"#E5ECF6\",\"gridcolor\":\"white\",\"linecolor\":\"white\",\"showbackground\":true,\"ticks\":\"\",\"zerolinecolor\":\"white\",\"gridwidth\":2},\"zaxis\":{\"backgroundcolor\":\"#E5ECF6\",\"gridcolor\":\"white\",\"linecolor\":\"white\",\"showbackground\":true,\"ticks\":\"\",\"zerolinecolor\":\"white\",\"gridwidth\":2}},\"shapedefaults\":{\"line\":{\"color\":\"#2a3f5f\"}},\"annotationdefaults\":{\"arrowcolor\":\"#2a3f5f\",\"arrowhead\":0,\"arrowwidth\":1},\"geo\":{\"bgcolor\":\"white\",\"landcolor\":\"#E5ECF6\",\"subunitcolor\":\"white\",\"showland\":true,\"showlakes\":true,\"lakecolor\":\"white\"},\"title\":{\"x\":0.05},\"mapbox\":{\"style\":\"light\"}}},\"xaxis\":{\"anchor\":\"y\",\"domain\":[0.0,1.0],\"title\":{\"text\":\"Lifetime_Gross\"}},\"yaxis\":{\"anchor\":\"x\",\"domain\":[0.0,1.0],\"title\":{\"text\":\"count\"}},\"legend\":{\"tracegroupgap\":0},\"margin\":{\"t\":60},\"barmode\":\"relative\"},                        {\"responsive\": true}                    ).then(function(){\n",
       "                            \n",
       "var gd = document.getElementById('fb65f355-14ab-4542-9700-60df404ecc28');\n",
       "var x = new MutationObserver(function (mutations, observer) {{\n",
       "        var display = window.getComputedStyle(gd).display;\n",
       "        if (!display || display === 'none') {{\n",
       "            console.log([gd, 'removed!']);\n",
       "            Plotly.purge(gd);\n",
       "            observer.disconnect();\n",
       "        }}\n",
       "}});\n",
       "\n",
       "// Listen for the removal of the full notebook cells\n",
       "var notebookContainer = gd.closest('#notebook-container');\n",
       "if (notebookContainer) {{\n",
       "    x.observe(notebookContainer, {childList: true});\n",
       "}}\n",
       "\n",
       "// Listen for the clearing of the current output cell\n",
       "var outputEl = gd.closest('.output');\n",
       "if (outputEl) {{\n",
       "    x.observe(outputEl, {childList: true});\n",
       "}}\n",
       "\n",
       "                        })                };                });            </script>        </div>"
      ]
     },
     "metadata": {},
     "output_type": "display_data"
    }
   ],
   "source": [
    "from plotly.express import histogram\n",
    "histogram(data_frame=df, x='Lifetime_Gross')"
   ]
  },
  {
   "cell_type": "markdown",
   "id": "0fc05b1f",
   "metadata": {
    "papermill": {
     "duration": 0.006239,
     "end_time": "2023-12-27T15:48:15.297821",
     "exception": false,
     "start_time": "2023-12-27T15:48:15.291582",
     "status": "completed"
    },
    "tags": []
   },
   "source": [
    "These two graphs show us much the same thing: the differences between the outliers are enormous."
   ]
  }
 ],
 "metadata": {
  "kaggle": {
   "accelerator": "none",
   "dataSources": [
    {
     "datasetId": 4199005,
     "sourceId": 7247970,
     "sourceType": "datasetVersion"
    }
   ],
   "dockerImageVersionId": 30626,
   "isGpuEnabled": false,
   "isInternetEnabled": true,
   "language": "python",
   "sourceType": "notebook"
  },
  "kernelspec": {
   "display_name": "Python 3",
   "language": "python",
   "name": "python3"
  },
  "language_info": {
   "codemirror_mode": {
    "name": "ipython",
    "version": 3
   },
   "file_extension": ".py",
   "mimetype": "text/x-python",
   "name": "python",
   "nbconvert_exporter": "python",
   "pygments_lexer": "ipython3",
   "version": "3.10.12"
  },
  "papermill": {
   "default_parameters": {},
   "duration": 12.087765,
   "end_time": "2023-12-27T15:48:16.228672",
   "environment_variables": {},
   "exception": null,
   "input_path": "__notebook__.ipynb",
   "output_path": "__notebook__.ipynb",
   "parameters": {},
   "start_time": "2023-12-27T15:48:04.140907",
   "version": "2.4.0"
  }
 },
 "nbformat": 4,
 "nbformat_minor": 5
}
