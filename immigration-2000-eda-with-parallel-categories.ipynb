{
 "cells": [
  {
   "cell_type": "code",
   "execution_count": 1,
   "id": "59671469",
   "metadata": {
    "_cell_guid": "b1076dfc-b9ad-4769-8c92-a6c4dae69d19",
    "_uuid": "8f2839f25d086af736a60e9eeb907d3b93b6e0e5",
    "execution": {
     "iopub.execute_input": "2025-01-28T19:32:36.291859Z",
     "iopub.status.busy": "2025-01-28T19:32:36.291454Z",
     "iopub.status.idle": "2025-01-28T19:32:37.693439Z",
     "shell.execute_reply": "2025-01-28T19:32:37.692228Z"
    },
    "papermill": {
     "duration": 1.407353,
     "end_time": "2025-01-28T19:32:37.695371",
     "exception": false,
     "start_time": "2025-01-28T19:32:36.288018",
     "status": "completed"
    },
    "tags": []
   },
   "outputs": [
    {
     "data": {
      "text/html": [
       "<div>\n",
       "<style scoped>\n",
       "    .dataframe tbody tr th:only-of-type {\n",
       "        vertical-align: middle;\n",
       "    }\n",
       "\n",
       "    .dataframe tbody tr th {\n",
       "        vertical-align: top;\n",
       "    }\n",
       "\n",
       "    .dataframe thead th {\n",
       "        text-align: right;\n",
       "    }\n",
       "</style>\n",
       "<table border=\"1\" class=\"dataframe\">\n",
       "  <thead>\n",
       "    <tr style=\"text-align: right;\">\n",
       "      <th></th>\n",
       "      <th>Country Origin Name</th>\n",
       "      <th>Country Origin Code</th>\n",
       "      <th>Migration by Gender Name</th>\n",
       "      <th>Migration by Gender Code</th>\n",
       "      <th>Country Dest Name</th>\n",
       "      <th>CountryDestCode</th>\n",
       "      <th>1960 [1960]</th>\n",
       "      <th>1970 [1970]</th>\n",
       "      <th>1980 [1980]</th>\n",
       "      <th>1990 [1990]</th>\n",
       "      <th>2000</th>\n",
       "    </tr>\n",
       "  </thead>\n",
       "  <tbody>\n",
       "    <tr>\n",
       "      <th>0</th>\n",
       "      <td>Afghanistan</td>\n",
       "      <td>AFG</td>\n",
       "      <td>Female</td>\n",
       "      <td>FEM</td>\n",
       "      <td>Afghanistan</td>\n",
       "      <td>AFG</td>\n",
       "      <td>0</td>\n",
       "      <td>0</td>\n",
       "      <td>0</td>\n",
       "      <td>0</td>\n",
       "      <td>0</td>\n",
       "    </tr>\n",
       "    <tr>\n",
       "      <th>1</th>\n",
       "      <td>Afghanistan</td>\n",
       "      <td>AFG</td>\n",
       "      <td>Female</td>\n",
       "      <td>FEM</td>\n",
       "      <td>Albania</td>\n",
       "      <td>ALB</td>\n",
       "      <td>0</td>\n",
       "      <td>0</td>\n",
       "      <td>0</td>\n",
       "      <td>0</td>\n",
       "      <td>0</td>\n",
       "    </tr>\n",
       "    <tr>\n",
       "      <th>2</th>\n",
       "      <td>Afghanistan</td>\n",
       "      <td>AFG</td>\n",
       "      <td>Female</td>\n",
       "      <td>FEM</td>\n",
       "      <td>Algeria</td>\n",
       "      <td>DZA</td>\n",
       "      <td>22</td>\n",
       "      <td>8</td>\n",
       "      <td>6</td>\n",
       "      <td>5</td>\n",
       "      <td>4</td>\n",
       "    </tr>\n",
       "    <tr>\n",
       "      <th>3</th>\n",
       "      <td>Afghanistan</td>\n",
       "      <td>AFG</td>\n",
       "      <td>Female</td>\n",
       "      <td>FEM</td>\n",
       "      <td>American Samoa</td>\n",
       "      <td>ASM</td>\n",
       "      <td>0</td>\n",
       "      <td>0</td>\n",
       "      <td>0</td>\n",
       "      <td>0</td>\n",
       "      <td>0</td>\n",
       "    </tr>\n",
       "    <tr>\n",
       "      <th>4</th>\n",
       "      <td>Afghanistan</td>\n",
       "      <td>AFG</td>\n",
       "      <td>Female</td>\n",
       "      <td>FEM</td>\n",
       "      <td>Andorra</td>\n",
       "      <td>AND</td>\n",
       "      <td>0</td>\n",
       "      <td>0</td>\n",
       "      <td>0</td>\n",
       "      <td>2</td>\n",
       "      <td>3</td>\n",
       "    </tr>\n",
       "  </tbody>\n",
       "</table>\n",
       "</div>"
      ],
      "text/plain": [
       "  Country Origin Name Country Origin Code Migration by Gender Name  \\\n",
       "0         Afghanistan                 AFG                   Female   \n",
       "1         Afghanistan                 AFG                   Female   \n",
       "2         Afghanistan                 AFG                   Female   \n",
       "3         Afghanistan                 AFG                   Female   \n",
       "4         Afghanistan                 AFG                   Female   \n",
       "\n",
       "  Migration by Gender Code Country Dest Name CountryDestCode 1960 [1960]  \\\n",
       "0                      FEM       Afghanistan             AFG           0   \n",
       "1                      FEM           Albania             ALB           0   \n",
       "2                      FEM           Algeria             DZA          22   \n",
       "3                      FEM    American Samoa             ASM           0   \n",
       "4                      FEM           Andorra             AND           0   \n",
       "\n",
       "  1970 [1970] 1980 [1980] 1990 [1990] 2000  \n",
       "0           0           0           0    0  \n",
       "1           0           0           0    0  \n",
       "2           8           6           5    4  \n",
       "3           0           0           0    0  \n",
       "4           0           0           2    3  "
      ]
     },
     "execution_count": 1,
     "metadata": {},
     "output_type": "execute_result"
    }
   ],
   "source": [
    "import pandas as pd\n",
    "\n",
    "DATA = '/kaggle/input/global-bilateral-migration/global_migration.csv'\n",
    "df = pd.read_csv(filepath_or_buffer=DATA)\n",
    "df.head()"
   ]
  },
  {
   "cell_type": "markdown",
   "id": "fa67ae2d",
   "metadata": {
    "papermill": {
     "duration": 0.001792,
     "end_time": "2025-01-28T19:32:37.699601",
     "exception": false,
     "start_time": "2025-01-28T19:32:37.697809",
     "status": "completed"
    },
    "tags": []
   },
   "source": [
    "Migration figures are of such different scales we can't use line width to represent size, so we'll make all of our lines the same width and color them according to their magnitude. And we can use the log of the count to see more nuance in our plot."
   ]
  },
  {
   "cell_type": "code",
   "execution_count": 2,
   "id": "f9ba0691",
   "metadata": {
    "execution": {
     "iopub.execute_input": "2025-01-28T19:32:37.704881Z",
     "iopub.status.busy": "2025-01-28T19:32:37.704523Z",
     "iopub.status.idle": "2025-01-28T19:32:40.960026Z",
     "shell.execute_reply": "2025-01-28T19:32:40.958924Z"
    },
    "papermill": {
     "duration": 3.260193,
     "end_time": "2025-01-28T19:32:40.961765",
     "exception": false,
     "start_time": "2025-01-28T19:32:37.701572",
     "status": "completed"
    },
    "tags": []
   },
   "outputs": [
    {
     "data": {
      "text/html": [
       "<html>\n",
       "<head><meta charset=\"utf-8\" /></head>\n",
       "<body>\n",
       "    <div>            <script src=\"https://cdnjs.cloudflare.com/ajax/libs/mathjax/2.7.5/MathJax.js?config=TeX-AMS-MML_SVG\"></script><script type=\"text/javascript\">if (window.MathJax && window.MathJax.Hub && window.MathJax.Hub.Config) {window.MathJax.Hub.Config({SVG: {font: \"STIX-Web\"}});}</script>                <script type=\"text/javascript\">window.PlotlyConfig = {MathJaxConfig: 'local'};</script>\n",
       "        <script charset=\"utf-8\" src=\"https://cdn.plot.ly/plotly-2.35.2.min.js\"></script>                <div id=\"5e51aa56-1dac-4370-bdaa-36e0a822eb83\" class=\"plotly-graph-div\" style=\"height:800px; width:100%;\"></div>            <script type=\"text/javascript\">                                    window.PLOTLYENV=window.PLOTLYENV || {};                                    if (document.getElementById(\"5e51aa56-1dac-4370-bdaa-36e0a822eb83\")) {                    Plotly.newPlot(                        \"5e51aa56-1dac-4370-bdaa-36e0a822eb83\",                        [{\"dimensions\":[{\"label\":\"Country Origin Code\",\"values\":[\"MEX\",\"MEX\",\"MEX\",\"BGD\",\"RUS\",\"UKR\",\"KAZ\",\"IND\",\"UKR\",\"CHN\",\"RUS\",\"TUR\",\"POL\",\"BGD\",\"RUS\",\"BGD\",\"PHL\",\"RUS\",\"PRI\",\"KAZ\",\"IND\",\"PAK\",\"UKR\",\"BFA\",\"DEU\",\"RUS\",\"IND\",\"KAZ\",\"CHN\",\"TUR\",\"CHN\",\"DZA\",\"IND\",\"VNM\",\"POL\",\"GBR\",\"CHN\",\"IND\",\"EGY\",\"RUS\",\"POL\",\"CAN\",\"IND\",\"BLR\",\"TUR\",\"UZB\",\"KOR\",\"CUB\",\"IDN\",\"PHL\",\"AZE\",\"EGY\",\"GBR\",\"SLV\",\"IND\",\"IND\",\"POL\",\"RUS\",\"AFG\",\"PRI\",\"IND\",\"RUS\",\"MYS\",\"DEU\",\"SCG\",\"BFA\",\"DOM\",\"PRI\",\"PAK\",\"KOR\",\"NPL\",\"PHL\",\"PAK\",\"PAK\",\"IRL\",\"ITA\",\"GEO\",\"COL\",\"GBR\",\"JAM\",\"PAK\",\"IND\",\"IND\",\"BLR\",\"RUS\",\"ITA\",\"BFA\",\"CHN\",\"DZA\",\"COL\",\"RUS\",\"CAN\",\"DEU\",\"IND\",\"DZA\",\"IND\",\"VNM\",\"GBR\",\"KOR\",\"GBR\",\"VNM\",\"JPN\",\"POL\",\"GTM\",\"IDN\",\"UZB\",\"ARM\",\"BGR\",\"IND\",\"ISR\",\"CHN\",\"KGZ\",\"GBR\",\"BIH\",\"PSE\",\"CUB\",\"AFG\",\"RUS\",\"RUS\",\"MLI\"]},{\"label\":\"CountryDestCode\",\"values\":[\"USA\",\"USA\",\"USA\",\"IND\",\"UKR\",\"RUS\",\"RUS\",\"PAK\",\"RUS\",\"HKG\",\"UKR\",\"DEU\",\"DEU\",\"IND\",\"KAZ\",\"IND\",\"USA\",\"UKR\",\"USA\",\"RUS\",\"PAK\",\"IND\",\"RUS\",\"CIV\",\"USA\",\"KAZ\",\"PAK\",\"RUS\",\"HKG\",\"DEU\",\"HKG\",\"FRA\",\"USA\",\"USA\",\"DEU\",\"AUS\",\"USA\",\"SAU\",\"SAU\",\"DEU\",\"DEU\",\"USA\",\"BGD\",\"RUS\",\"DEU\",\"RUS\",\"USA\",\"USA\",\"MYS\",\"USA\",\"RUS\",\"SAU\",\"USA\",\"USA\",\"BGD\",\"SAU\",\"FRA\",\"KAZ\",\"IRN\",\"USA\",\"ARE\",\"UZB\",\"SGP\",\"USA\",\"DEU\",\"CIV\",\"USA\",\"USA\",\"IND\",\"JPN\",\"IND\",\"USA\",\"SAU\",\"IND\",\"GBR\",\"DEU\",\"RUS\",\"VEN\",\"CAN\",\"USA\",\"ARE\",\"NPL\",\"USA\",\"RUS\",\"BLR\",\"USA\",\"CIV\",\"USA\",\"FRA\",\"USA\",\"DEU\",\"USA\",\"USA\",\"GBR\",\"FRA\",\"ARE\",\"USA\",\"AUS\",\"USA\",\"AUS\",\"USA\",\"USA\",\"USA\",\"USA\",\"MYS\",\"RUS\",\"RUS\",\"TUR\",\"USA\",\"PSE\",\"USA\",\"RUS\",\"USA\",\"HRV\",\"SYR\",\"USA\",\"IRN\",\"DEU\",\"UZB\",\"CIV\"]}],\"domain\":{\"x\":[0.0,1.0],\"y\":[0.0,1.0]},\"line\":{\"color\":[6.971642709701889,6.715241072871195,6.620867594438612,6.578567814795927,6.557896809399175,6.551446948141367,6.412452987112053,6.400176243290215,6.34889708602841,6.335406544587269,6.329496728587626,6.302975397060949,6.301024566949028,6.300378934763636,6.285986665698198,6.25342863545389,6.17777306105538,6.169602143575367,6.162891348393355,6.161235297510094,6.137966187010966,6.124393028604481,6.122848994857742,6.097638321840539,6.097193080740201,6.0587595893753425,6.056512666396649,6.055148124881706,6.039904852383395,6.037143516700806,6.02877696520816,6.024130451840331,6.017584209701192,6.012184871633142,6.0120438075545035,6.011381376515516,6.00706978379177,6.003309278230792,5.991316913507024,5.990690854762052,5.987601473365183,5.977974509293108,5.971345905551802,5.971174687173903,5.963641464327151,5.962860185092322,5.952783728017214,5.951609474914598,5.947104199736619,5.934870472130821,5.927423748204681,5.923880482719304,5.921092099717961,5.917811560918272,5.906529514768139,5.906172824616183,5.903300026148439,5.89599128710638,5.882028487411139,5.881384086080997,5.875722046174425,5.873050173682667,5.860701463752576,5.859834532274634,5.8514228601137885,5.84939852784577,5.8493542954568145,5.8414195416175545,5.841366979804605,5.836288028514379,5.812355765622676,5.809615596996399,5.80523299462098,5.804580320760026,5.8039696356837736,5.798851520594956,5.798632002833681,5.790808535895977,5.7829904587379355,5.7603056002573325,5.755536431304189,5.750948637269094,5.749151711194774,5.742277255135924,5.740155758104383,5.738648189448139,5.736502473137775,5.730737067939949,5.728723789374594,5.7267426901674465,5.7233645345194955,5.722164828650272,5.721526211680819,5.719990516183633,5.717403354706499,5.71664595787633,5.7142995760682815,5.711995242065511,5.7106478453622085,5.708702123101703,5.707987239101958,5.699427509656973,5.690726658638153,5.689758906638925,5.689634679766251,5.683558519636188,5.682441126360074,5.681888577290016,5.681309995225369,5.680995067414431,5.679851989736431,5.66606941480742,5.664409725724003,5.662122920216203,5.661444467275753,5.660577116959704,5.655455392526794,5.653120819705561,5.650670740635351,5.647798481089409],\"coloraxis\":\"coloraxis\"},\"name\":\"\",\"type\":\"parcats\"}],                        {\"template\":{\"data\":{\"histogram2dcontour\":[{\"type\":\"histogram2dcontour\",\"colorbar\":{\"outlinewidth\":0,\"ticks\":\"\"},\"colorscale\":[[0.0,\"#0d0887\"],[0.1111111111111111,\"#46039f\"],[0.2222222222222222,\"#7201a8\"],[0.3333333333333333,\"#9c179e\"],[0.4444444444444444,\"#bd3786\"],[0.5555555555555556,\"#d8576b\"],[0.6666666666666666,\"#ed7953\"],[0.7777777777777778,\"#fb9f3a\"],[0.8888888888888888,\"#fdca26\"],[1.0,\"#f0f921\"]]}],\"choropleth\":[{\"type\":\"choropleth\",\"colorbar\":{\"outlinewidth\":0,\"ticks\":\"\"}}],\"histogram2d\":[{\"type\":\"histogram2d\",\"colorbar\":{\"outlinewidth\":0,\"ticks\":\"\"},\"colorscale\":[[0.0,\"#0d0887\"],[0.1111111111111111,\"#46039f\"],[0.2222222222222222,\"#7201a8\"],[0.3333333333333333,\"#9c179e\"],[0.4444444444444444,\"#bd3786\"],[0.5555555555555556,\"#d8576b\"],[0.6666666666666666,\"#ed7953\"],[0.7777777777777778,\"#fb9f3a\"],[0.8888888888888888,\"#fdca26\"],[1.0,\"#f0f921\"]]}],\"heatmap\":[{\"type\":\"heatmap\",\"colorbar\":{\"outlinewidth\":0,\"ticks\":\"\"},\"colorscale\":[[0.0,\"#0d0887\"],[0.1111111111111111,\"#46039f\"],[0.2222222222222222,\"#7201a8\"],[0.3333333333333333,\"#9c179e\"],[0.4444444444444444,\"#bd3786\"],[0.5555555555555556,\"#d8576b\"],[0.6666666666666666,\"#ed7953\"],[0.7777777777777778,\"#fb9f3a\"],[0.8888888888888888,\"#fdca26\"],[1.0,\"#f0f921\"]]}],\"heatmapgl\":[{\"type\":\"heatmapgl\",\"colorbar\":{\"outlinewidth\":0,\"ticks\":\"\"},\"colorscale\":[[0.0,\"#0d0887\"],[0.1111111111111111,\"#46039f\"],[0.2222222222222222,\"#7201a8\"],[0.3333333333333333,\"#9c179e\"],[0.4444444444444444,\"#bd3786\"],[0.5555555555555556,\"#d8576b\"],[0.6666666666666666,\"#ed7953\"],[0.7777777777777778,\"#fb9f3a\"],[0.8888888888888888,\"#fdca26\"],[1.0,\"#f0f921\"]]}],\"contourcarpet\":[{\"type\":\"contourcarpet\",\"colorbar\":{\"outlinewidth\":0,\"ticks\":\"\"}}],\"contour\":[{\"type\":\"contour\",\"colorbar\":{\"outlinewidth\":0,\"ticks\":\"\"},\"colorscale\":[[0.0,\"#0d0887\"],[0.1111111111111111,\"#46039f\"],[0.2222222222222222,\"#7201a8\"],[0.3333333333333333,\"#9c179e\"],[0.4444444444444444,\"#bd3786\"],[0.5555555555555556,\"#d8576b\"],[0.6666666666666666,\"#ed7953\"],[0.7777777777777778,\"#fb9f3a\"],[0.8888888888888888,\"#fdca26\"],[1.0,\"#f0f921\"]]}],\"surface\":[{\"type\":\"surface\",\"colorbar\":{\"outlinewidth\":0,\"ticks\":\"\"},\"colorscale\":[[0.0,\"#0d0887\"],[0.1111111111111111,\"#46039f\"],[0.2222222222222222,\"#7201a8\"],[0.3333333333333333,\"#9c179e\"],[0.4444444444444444,\"#bd3786\"],[0.5555555555555556,\"#d8576b\"],[0.6666666666666666,\"#ed7953\"],[0.7777777777777778,\"#fb9f3a\"],[0.8888888888888888,\"#fdca26\"],[1.0,\"#f0f921\"]]}],\"mesh3d\":[{\"type\":\"mesh3d\",\"colorbar\":{\"outlinewidth\":0,\"ticks\":\"\"}}],\"scatter\":[{\"fillpattern\":{\"fillmode\":\"overlay\",\"size\":10,\"solidity\":0.2},\"type\":\"scatter\"}],\"parcoords\":[{\"type\":\"parcoords\",\"line\":{\"colorbar\":{\"outlinewidth\":0,\"ticks\":\"\"}}}],\"scatterpolargl\":[{\"type\":\"scatterpolargl\",\"marker\":{\"colorbar\":{\"outlinewidth\":0,\"ticks\":\"\"}}}],\"bar\":[{\"error_x\":{\"color\":\"#2a3f5f\"},\"error_y\":{\"color\":\"#2a3f5f\"},\"marker\":{\"line\":{\"color\":\"#E5ECF6\",\"width\":0.5},\"pattern\":{\"fillmode\":\"overlay\",\"size\":10,\"solidity\":0.2}},\"type\":\"bar\"}],\"scattergeo\":[{\"type\":\"scattergeo\",\"marker\":{\"colorbar\":{\"outlinewidth\":0,\"ticks\":\"\"}}}],\"scatterpolar\":[{\"type\":\"scatterpolar\",\"marker\":{\"colorbar\":{\"outlinewidth\":0,\"ticks\":\"\"}}}],\"histogram\":[{\"marker\":{\"pattern\":{\"fillmode\":\"overlay\",\"size\":10,\"solidity\":0.2}},\"type\":\"histogram\"}],\"scattergl\":[{\"type\":\"scattergl\",\"marker\":{\"colorbar\":{\"outlinewidth\":0,\"ticks\":\"\"}}}],\"scatter3d\":[{\"type\":\"scatter3d\",\"line\":{\"colorbar\":{\"outlinewidth\":0,\"ticks\":\"\"}},\"marker\":{\"colorbar\":{\"outlinewidth\":0,\"ticks\":\"\"}}}],\"scattermapbox\":[{\"type\":\"scattermapbox\",\"marker\":{\"colorbar\":{\"outlinewidth\":0,\"ticks\":\"\"}}}],\"scatterternary\":[{\"type\":\"scatterternary\",\"marker\":{\"colorbar\":{\"outlinewidth\":0,\"ticks\":\"\"}}}],\"scattercarpet\":[{\"type\":\"scattercarpet\",\"marker\":{\"colorbar\":{\"outlinewidth\":0,\"ticks\":\"\"}}}],\"carpet\":[{\"aaxis\":{\"endlinecolor\":\"#2a3f5f\",\"gridcolor\":\"white\",\"linecolor\":\"white\",\"minorgridcolor\":\"white\",\"startlinecolor\":\"#2a3f5f\"},\"baxis\":{\"endlinecolor\":\"#2a3f5f\",\"gridcolor\":\"white\",\"linecolor\":\"white\",\"minorgridcolor\":\"white\",\"startlinecolor\":\"#2a3f5f\"},\"type\":\"carpet\"}],\"table\":[{\"cells\":{\"fill\":{\"color\":\"#EBF0F8\"},\"line\":{\"color\":\"white\"}},\"header\":{\"fill\":{\"color\":\"#C8D4E3\"},\"line\":{\"color\":\"white\"}},\"type\":\"table\"}],\"barpolar\":[{\"marker\":{\"line\":{\"color\":\"#E5ECF6\",\"width\":0.5},\"pattern\":{\"fillmode\":\"overlay\",\"size\":10,\"solidity\":0.2}},\"type\":\"barpolar\"}],\"pie\":[{\"automargin\":true,\"type\":\"pie\"}]},\"layout\":{\"autotypenumbers\":\"strict\",\"colorway\":[\"#636efa\",\"#EF553B\",\"#00cc96\",\"#ab63fa\",\"#FFA15A\",\"#19d3f3\",\"#FF6692\",\"#B6E880\",\"#FF97FF\",\"#FECB52\"],\"font\":{\"color\":\"#2a3f5f\"},\"hovermode\":\"closest\",\"hoverlabel\":{\"align\":\"left\"},\"paper_bgcolor\":\"white\",\"plot_bgcolor\":\"#E5ECF6\",\"polar\":{\"bgcolor\":\"#E5ECF6\",\"angularaxis\":{\"gridcolor\":\"white\",\"linecolor\":\"white\",\"ticks\":\"\"},\"radialaxis\":{\"gridcolor\":\"white\",\"linecolor\":\"white\",\"ticks\":\"\"}},\"ternary\":{\"bgcolor\":\"#E5ECF6\",\"aaxis\":{\"gridcolor\":\"white\",\"linecolor\":\"white\",\"ticks\":\"\"},\"baxis\":{\"gridcolor\":\"white\",\"linecolor\":\"white\",\"ticks\":\"\"},\"caxis\":{\"gridcolor\":\"white\",\"linecolor\":\"white\",\"ticks\":\"\"}},\"coloraxis\":{\"colorbar\":{\"outlinewidth\":0,\"ticks\":\"\"}},\"colorscale\":{\"sequential\":[[0.0,\"#0d0887\"],[0.1111111111111111,\"#46039f\"],[0.2222222222222222,\"#7201a8\"],[0.3333333333333333,\"#9c179e\"],[0.4444444444444444,\"#bd3786\"],[0.5555555555555556,\"#d8576b\"],[0.6666666666666666,\"#ed7953\"],[0.7777777777777778,\"#fb9f3a\"],[0.8888888888888888,\"#fdca26\"],[1.0,\"#f0f921\"]],\"sequentialminus\":[[0.0,\"#0d0887\"],[0.1111111111111111,\"#46039f\"],[0.2222222222222222,\"#7201a8\"],[0.3333333333333333,\"#9c179e\"],[0.4444444444444444,\"#bd3786\"],[0.5555555555555556,\"#d8576b\"],[0.6666666666666666,\"#ed7953\"],[0.7777777777777778,\"#fb9f3a\"],[0.8888888888888888,\"#fdca26\"],[1.0,\"#f0f921\"]],\"diverging\":[[0,\"#8e0152\"],[0.1,\"#c51b7d\"],[0.2,\"#de77ae\"],[0.3,\"#f1b6da\"],[0.4,\"#fde0ef\"],[0.5,\"#f7f7f7\"],[0.6,\"#e6f5d0\"],[0.7,\"#b8e186\"],[0.8,\"#7fbc41\"],[0.9,\"#4d9221\"],[1,\"#276419\"]]},\"xaxis\":{\"gridcolor\":\"white\",\"linecolor\":\"white\",\"ticks\":\"\",\"title\":{\"standoff\":15},\"zerolinecolor\":\"white\",\"automargin\":true,\"zerolinewidth\":2},\"yaxis\":{\"gridcolor\":\"white\",\"linecolor\":\"white\",\"ticks\":\"\",\"title\":{\"standoff\":15},\"zerolinecolor\":\"white\",\"automargin\":true,\"zerolinewidth\":2},\"scene\":{\"xaxis\":{\"backgroundcolor\":\"#E5ECF6\",\"gridcolor\":\"white\",\"linecolor\":\"white\",\"showbackground\":true,\"ticks\":\"\",\"zerolinecolor\":\"white\",\"gridwidth\":2},\"yaxis\":{\"backgroundcolor\":\"#E5ECF6\",\"gridcolor\":\"white\",\"linecolor\":\"white\",\"showbackground\":true,\"ticks\":\"\",\"zerolinecolor\":\"white\",\"gridwidth\":2},\"zaxis\":{\"backgroundcolor\":\"#E5ECF6\",\"gridcolor\":\"white\",\"linecolor\":\"white\",\"showbackground\":true,\"ticks\":\"\",\"zerolinecolor\":\"white\",\"gridwidth\":2}},\"shapedefaults\":{\"line\":{\"color\":\"#2a3f5f\"}},\"annotationdefaults\":{\"arrowcolor\":\"#2a3f5f\",\"arrowhead\":0,\"arrowwidth\":1},\"geo\":{\"bgcolor\":\"white\",\"landcolor\":\"#E5ECF6\",\"subunitcolor\":\"white\",\"showland\":true,\"showlakes\":true,\"lakecolor\":\"white\"},\"title\":{\"x\":0.05},\"mapbox\":{\"style\":\"light\"}}},\"coloraxis\":{\"colorbar\":{\"title\":{\"text\":\"log 2000\"}},\"colorscale\":[[0.0,\"#0d0887\"],[0.1111111111111111,\"#46039f\"],[0.2222222222222222,\"#7201a8\"],[0.3333333333333333,\"#9c179e\"],[0.4444444444444444,\"#bd3786\"],[0.5555555555555556,\"#d8576b\"],[0.6666666666666666,\"#ed7953\"],[0.7777777777777778,\"#fb9f3a\"],[0.8888888888888888,\"#fdca26\"],[1.0,\"#f0f921\"]]},\"legend\":{\"tracegroupgap\":0},\"margin\":{\"t\":60},\"height\":800},                        {\"responsive\": true}                    ).then(function(){\n",
       "                            \n",
       "var gd = document.getElementById('5e51aa56-1dac-4370-bdaa-36e0a822eb83');\n",
       "var x = new MutationObserver(function (mutations, observer) {{\n",
       "        var display = window.getComputedStyle(gd).display;\n",
       "        if (!display || display === 'none') {{\n",
       "            console.log([gd, 'removed!']);\n",
       "            Plotly.purge(gd);\n",
       "            observer.disconnect();\n",
       "        }}\n",
       "}});\n",
       "\n",
       "// Listen for the removal of the full notebook cells\n",
       "var notebookContainer = gd.closest('#notebook-container');\n",
       "if (notebookContainer) {{\n",
       "    x.observe(notebookContainer, {childList: true});\n",
       "}}\n",
       "\n",
       "// Listen for the clearing of the current output cell\n",
       "var outputEl = gd.closest('.output');\n",
       "if (outputEl) {{\n",
       "    x.observe(outputEl, {childList: true});\n",
       "}}\n",
       "\n",
       "                        })                };                            </script>        </div>\n",
       "</body>\n",
       "</html>"
      ]
     },
     "metadata": {},
     "output_type": "display_data"
    }
   ],
   "source": [
    "from math import log10\n",
    "from plotly import express\n",
    "\n",
    "N = 120\n",
    "plot_df = df[['Country Origin Code', 'CountryDestCode', '2000']].copy()\n",
    "plot_df['2000'] = plot_df['2000'].apply(func=lambda x: 0 if not x.isnumeric() else int(x))\n",
    "plot_df['log 2000'] = plot_df['2000'].apply(func=lambda x: 0 if x == 0 else log10(x))\n",
    "\n",
    "express.parallel_categories(data_frame=plot_df.sort_values(ascending=False, by='2000').head(n=N), dimensions=['Country Origin Code', 'CountryDestCode'], color='log 2000', height=800)"
   ]
  }
 ],
 "metadata": {
  "kaggle": {
   "accelerator": "none",
   "dataSources": [
    {
     "datasetId": 6549484,
     "sourceId": 10583396,
     "sourceType": "datasetVersion"
    }
   ],
   "dockerImageVersionId": 30839,
   "isGpuEnabled": false,
   "isInternetEnabled": true,
   "language": "python",
   "sourceType": "notebook"
  },
  "kernelspec": {
   "display_name": "Python 3",
   "language": "python",
   "name": "python3"
  },
  "language_info": {
   "codemirror_mode": {
    "name": "ipython",
    "version": 3
   },
   "file_extension": ".py",
   "mimetype": "text/x-python",
   "name": "python",
   "nbconvert_exporter": "python",
   "pygments_lexer": "ipython3",
   "version": "3.10.12"
  },
  "papermill": {
   "default_parameters": {},
   "duration": 8.216204,
   "end_time": "2025-01-28T19:32:41.684385",
   "environment_variables": {},
   "exception": null,
   "input_path": "__notebook__.ipynb",
   "output_path": "__notebook__.ipynb",
   "parameters": {},
   "start_time": "2025-01-28T19:32:33.468181",
   "version": "2.6.0"
  }
 },
 "nbformat": 4,
 "nbformat_minor": 5
}
