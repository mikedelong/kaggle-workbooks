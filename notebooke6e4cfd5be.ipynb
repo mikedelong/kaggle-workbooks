{
 "cells": [
  {
   "cell_type": "code",
   "execution_count": 1,
   "id": "8559b1c7",
   "metadata": {
    "_cell_guid": "b1076dfc-b9ad-4769-8c92-a6c4dae69d19",
    "_uuid": "8f2839f25d086af736a60e9eeb907d3b93b6e0e5",
    "execution": {
     "iopub.execute_input": "2024-02-26T16:31:57.354929Z",
     "iopub.status.busy": "2024-02-26T16:31:57.354465Z",
     "iopub.status.idle": "2024-02-26T16:32:10.579962Z",
     "shell.execute_reply": "2024-02-26T16:32:10.577765Z"
    },
    "papermill": {
     "duration": 13.23267,
     "end_time": "2024-02-26T16:32:10.582710",
     "exception": false,
     "start_time": "2024-02-26T16:31:57.350040",
     "status": "completed"
    },
    "tags": []
   },
   "outputs": [
    {
     "name": "stdout",
     "output_type": "stream",
     "text": [
      "pip installed img2vec\n"
     ]
    }
   ],
   "source": [
    "!pip install --quiet img2vec_pytorch\n",
    "print('pip installed img2vec')\n",
    "\n",
    "from warnings import filterwarnings\n",
    "filterwarnings(action='ignore', category=UserWarning)"
   ]
  },
  {
   "cell_type": "code",
   "execution_count": 2,
   "id": "67d23c50",
   "metadata": {
    "execution": {
     "iopub.execute_input": "2024-02-26T16:32:10.588986Z",
     "iopub.status.busy": "2024-02-26T16:32:10.588534Z",
     "iopub.status.idle": "2024-02-26T16:35:30.351925Z",
     "shell.execute_reply": "2024-02-26T16:35:30.350958Z"
    },
    "papermill": {
     "duration": 199.771188,
     "end_time": "2024-02-26T16:35:30.356359",
     "exception": false,
     "start_time": "2024-02-26T16:32:10.585171",
     "status": "completed"
    },
    "tags": []
   },
   "outputs": [
    {
     "name": "stderr",
     "output_type": "stream",
     "text": [
      "Downloading: \"https://download.pytorch.org/models/resnet18-f37072fd.pth\" to /root/.cache/torch/hub/checkpoints/resnet18-f37072fd.pth\n",
      "100%|██████████| 44.7M/44.7M [00:00<00:00, 139MB/s]\n"
     ]
    },
    {
     "name": "stdout",
     "output_type": "stream",
     "text": [
      "encoded labels data 0 rows in 0:00:00.294651\n",
      "encoded images data 2226 rows in 0:03:10.618292\n",
      "done in 0:03:11.090688\n"
     ]
    }
   ],
   "source": [
    "import base64\n",
    "import pandas as pd\n",
    "\n",
    "from glob import glob\n",
    "from io import BytesIO\n",
    "from os.path import basename\n",
    "\n",
    "from arrow import now\n",
    "from img2vec_pytorch import Img2Vec\n",
    "from PIL import Image\n",
    "\n",
    "SIZE = 512\n",
    "STOP =  10000\n",
    "DATA_GLOB = '/kaggle/input/road-sign-recognition/dataset/train/'\n",
    "\n",
    "# https://stackoverflow.com/a/952952\n",
    "def flatten(arg):\n",
    "    return [x for xs in arg for x in xs]\n",
    "\n",
    "def get_picture_from_glob(arg: str, tag: str, stop: int) -> list:\n",
    "    time_get = now()\n",
    "    result = []\n",
    "    for index, input_file in enumerate(glob(pathname=arg)):\n",
    "        if index < stop:\n",
    "            name = basename(input_file)\n",
    "            with Image.open(fp=input_file, mode='r') as image:\n",
    "                vector = img2vec.get_vec(image, tensor=True).numpy().reshape(SIZE,)\n",
    "                buffer = BytesIO()\n",
    "                width, height = image.size\n",
    "                size = (int(width / 2), int(height / 2))\n",
    "                image.resize(size=size).save(buffer, format='png')\n",
    "                result.append(pd.Series(data=[tag, name, vector, \n",
    "                                              'data:image/png;base64,' + base64.b64encode(buffer.getvalue()).decode(),\n",
    "                                             ], index=['tag', 'name', 'value', 'image']))\n",
    "    print('encoded {} data {} rows in {}'.format(tag, len(result), now() - time_get))\n",
    "    return result\n",
    "\n",
    "img2vec = Img2Vec(cuda=False, model='resnet-18', layer='default', layer_output_size=SIZE)\n",
    "\n",
    "time_start = now()\n",
    "\n",
    "files = {basename(folder) : folder + '/*.jpg' for folder in glob(DATA_GLOB + '/*')}\n",
    "data = [get_picture_from_glob(arg=value, tag=key, stop=STOP) for key, value in files.items()]\n",
    "df = pd.DataFrame(data=flatten(arg=data))\n",
    "    \n",
    "print('done in {}'.format(now() - time_start))"
   ]
  },
  {
   "cell_type": "code",
   "execution_count": 3,
   "id": "87492d67",
   "metadata": {
    "execution": {
     "iopub.execute_input": "2024-02-26T16:35:30.363088Z",
     "iopub.status.busy": "2024-02-26T16:35:30.362338Z",
     "iopub.status.idle": "2024-02-26T16:35:30.385794Z",
     "shell.execute_reply": "2024-02-26T16:35:30.384491Z"
    },
    "papermill": {
     "duration": 0.02902,
     "end_time": "2024-02-26T16:35:30.387877",
     "exception": false,
     "start_time": "2024-02-26T16:35:30.358857",
     "status": "completed"
    },
    "tags": []
   },
   "outputs": [
    {
     "data": {
      "text/html": [
       "<div>\n",
       "<style scoped>\n",
       "    .dataframe tbody tr th:only-of-type {\n",
       "        vertical-align: middle;\n",
       "    }\n",
       "\n",
       "    .dataframe tbody tr th {\n",
       "        vertical-align: top;\n",
       "    }\n",
       "\n",
       "    .dataframe thead th {\n",
       "        text-align: right;\n",
       "    }\n",
       "</style>\n",
       "<table border=\"1\" class=\"dataframe\">\n",
       "  <thead>\n",
       "    <tr style=\"text-align: right;\">\n",
       "      <th></th>\n",
       "      <th>tag</th>\n",
       "      <th>name</th>\n",
       "      <th>value</th>\n",
       "      <th>image</th>\n",
       "    </tr>\n",
       "  </thead>\n",
       "  <tbody>\n",
       "    <tr>\n",
       "      <th>0</th>\n",
       "      <td>images</td>\n",
       "      <td>1_2373_1577671991-718851_png.rf.b28b9ebcdc4d28...</td>\n",
       "      <td>[1.0638386, 1.9909817, 2.6237235, 0.08078678, ...</td>\n",
       "      <td>data:image/png;base64,iVBORw0KGgoAAAANSUhEUgAA...</td>\n",
       "    </tr>\n",
       "    <tr>\n",
       "      <th>1</th>\n",
       "      <td>images</td>\n",
       "      <td>5_12992_1577672001-8633876_png.rf.9b377ef1004f...</td>\n",
       "      <td>[1.2768145, 0.4280679, 0.33815253, 0.7156649, ...</td>\n",
       "      <td>data:image/png;base64,iVBORw0KGgoAAAANSUhEUgAA...</td>\n",
       "    </tr>\n",
       "    <tr>\n",
       "      <th>2</th>\n",
       "      <td>images</td>\n",
       "      <td>1_4118_1577671993-2669392_png.rf.614d0aa994823...</td>\n",
       "      <td>[0.27165878, 2.3489494, 3.739036, 0.4390427, 0...</td>\n",
       "      <td>data:image/png;base64,iVBORw0KGgoAAAANSUhEUgAA...</td>\n",
       "    </tr>\n",
       "    <tr>\n",
       "      <th>3</th>\n",
       "      <td>images</td>\n",
       "      <td>2_33136_1577672020-1000376_png.rf.fed0a7be06fa...</td>\n",
       "      <td>[0.3531035, 2.4403796, 4.678871, 0.1387279, 0....</td>\n",
       "      <td>data:image/png;base64,iVBORw0KGgoAAAANSUhEUgAA...</td>\n",
       "    </tr>\n",
       "    <tr>\n",
       "      <th>4</th>\n",
       "      <td>images</td>\n",
       "      <td>3_6095_1577671995-0935838_png.rf.eae00312d4be3...</td>\n",
       "      <td>[0.81593037, 1.0673971, 2.078659, 0.34446526, ...</td>\n",
       "      <td>data:image/png;base64,iVBORw0KGgoAAAANSUhEUgAA...</td>\n",
       "    </tr>\n",
       "  </tbody>\n",
       "</table>\n",
       "</div>"
      ],
      "text/plain": [
       "      tag                                               name  \\\n",
       "0  images  1_2373_1577671991-718851_png.rf.b28b9ebcdc4d28...   \n",
       "1  images  5_12992_1577672001-8633876_png.rf.9b377ef1004f...   \n",
       "2  images  1_4118_1577671993-2669392_png.rf.614d0aa994823...   \n",
       "3  images  2_33136_1577672020-1000376_png.rf.fed0a7be06fa...   \n",
       "4  images  3_6095_1577671995-0935838_png.rf.eae00312d4be3...   \n",
       "\n",
       "                                               value  \\\n",
       "0  [1.0638386, 1.9909817, 2.6237235, 0.08078678, ...   \n",
       "1  [1.2768145, 0.4280679, 0.33815253, 0.7156649, ...   \n",
       "2  [0.27165878, 2.3489494, 3.739036, 0.4390427, 0...   \n",
       "3  [0.3531035, 2.4403796, 4.678871, 0.1387279, 0....   \n",
       "4  [0.81593037, 1.0673971, 2.078659, 0.34446526, ...   \n",
       "\n",
       "                                               image  \n",
       "0  data:image/png;base64,iVBORw0KGgoAAAANSUhEUgAA...  \n",
       "1  data:image/png;base64,iVBORw0KGgoAAAANSUhEUgAA...  \n",
       "2  data:image/png;base64,iVBORw0KGgoAAAANSUhEUgAA...  \n",
       "3  data:image/png;base64,iVBORw0KGgoAAAANSUhEUgAA...  \n",
       "4  data:image/png;base64,iVBORw0KGgoAAAANSUhEUgAA...  "
      ]
     },
     "execution_count": 3,
     "metadata": {},
     "output_type": "execute_result"
    }
   ],
   "source": [
    "df.head()"
   ]
  },
  {
   "cell_type": "code",
   "execution_count": 4,
   "id": "f3e822d4",
   "metadata": {
    "execution": {
     "iopub.execute_input": "2024-02-26T16:35:30.395777Z",
     "iopub.status.busy": "2024-02-26T16:35:30.395362Z",
     "iopub.status.idle": "2024-02-26T16:35:57.996972Z",
     "shell.execute_reply": "2024-02-26T16:35:57.995837Z"
    },
    "papermill": {
     "duration": 27.608701,
     "end_time": "2024-02-26T16:35:57.999779",
     "exception": false,
     "start_time": "2024-02-26T16:35:30.391078",
     "status": "completed"
    },
    "tags": []
   },
   "outputs": [
    {
     "name": "stderr",
     "output_type": "stream",
     "text": [
      "/tmp/ipykernel_17/831638892.py:10: FutureWarning: The behavior of DataFrame concatenation with empty or all-NA entries is deprecated. In a future version, this will no longer exclude empty or all-NA columns when determining the result dtypes. To retain the old behavior, exclude the relevant entries before the concat operation.\n",
      "  labels_df = pd.concat(objs=items)\n"
     ]
    },
    {
     "data": {
      "text/html": [
       "<div>\n",
       "<style scoped>\n",
       "    .dataframe tbody tr th:only-of-type {\n",
       "        vertical-align: middle;\n",
       "    }\n",
       "\n",
       "    .dataframe tbody tr th {\n",
       "        vertical-align: top;\n",
       "    }\n",
       "\n",
       "    .dataframe thead th {\n",
       "        text-align: right;\n",
       "    }\n",
       "</style>\n",
       "<table border=\"1\" class=\"dataframe\">\n",
       "  <thead>\n",
       "    <tr style=\"text-align: right;\">\n",
       "      <th></th>\n",
       "      <th>label</th>\n",
       "      <th>w0</th>\n",
       "      <th>w1</th>\n",
       "      <th>w2</th>\n",
       "      <th>w3</th>\n",
       "      <th>file</th>\n",
       "    </tr>\n",
       "  </thead>\n",
       "  <tbody>\n",
       "    <tr>\n",
       "      <th>0</th>\n",
       "      <td>1</td>\n",
       "      <td>0.517188</td>\n",
       "      <td>0.525000</td>\n",
       "      <td>0.744531</td>\n",
       "      <td>0.729688</td>\n",
       "      <td>8_17085_1577672005-4909124_png.rf.73364ddd5f3f...</td>\n",
       "    </tr>\n",
       "    <tr>\n",
       "      <th>0</th>\n",
       "      <td>5</td>\n",
       "      <td>0.514844</td>\n",
       "      <td>0.510156</td>\n",
       "      <td>0.690625</td>\n",
       "      <td>0.705469</td>\n",
       "      <td>4_7787_1577671996-6581323_png.rf.1e439fa8d0d2b...</td>\n",
       "    </tr>\n",
       "    <tr>\n",
       "      <th>0</th>\n",
       "      <td>1</td>\n",
       "      <td>0.510938</td>\n",
       "      <td>0.495312</td>\n",
       "      <td>0.589063</td>\n",
       "      <td>0.606250</td>\n",
       "      <td>8_16027_1577672004-536039_png.rf.0c1a04e89912e...</td>\n",
       "    </tr>\n",
       "    <tr>\n",
       "      <th>0</th>\n",
       "      <td>1</td>\n",
       "      <td>0.465625</td>\n",
       "      <td>0.532031</td>\n",
       "      <td>0.554688</td>\n",
       "      <td>0.524219</td>\n",
       "      <td>8_16173_1577672004-6906445_png.rf.723003474db6...</td>\n",
       "    </tr>\n",
       "    <tr>\n",
       "      <th>0</th>\n",
       "      <td>3</td>\n",
       "      <td>0.571875</td>\n",
       "      <td>0.556250</td>\n",
       "      <td>0.567187</td>\n",
       "      <td>0.542188</td>\n",
       "      <td>1_2493_1577671991-8255537_png.rf.71c9c5af1c0f4...</td>\n",
       "    </tr>\n",
       "  </tbody>\n",
       "</table>\n",
       "</div>"
      ],
      "text/plain": [
       "  label        w0        w1        w2        w3  \\\n",
       "0     1  0.517188  0.525000  0.744531  0.729688   \n",
       "0     5  0.514844  0.510156  0.690625  0.705469   \n",
       "0     1  0.510938  0.495312  0.589063  0.606250   \n",
       "0     1  0.465625  0.532031  0.554688  0.524219   \n",
       "0     3  0.571875  0.556250  0.567187  0.542188   \n",
       "\n",
       "                                                file  \n",
       "0  8_17085_1577672005-4909124_png.rf.73364ddd5f3f...  \n",
       "0  4_7787_1577671996-6581323_png.rf.1e439fa8d0d2b...  \n",
       "0  8_16027_1577672004-536039_png.rf.0c1a04e89912e...  \n",
       "0  8_16173_1577672004-6906445_png.rf.723003474db6...  \n",
       "0  1_2493_1577671991-8255537_png.rf.71c9c5af1c0f4...  "
      ]
     },
     "execution_count": 4,
     "metadata": {},
     "output_type": "execute_result"
    }
   ],
   "source": [
    "from os.path import basename\n",
    "items = []\n",
    "for input_file in glob(DATA_GLOB + '/labels/*.txt'):\n",
    "    try:\n",
    "        item_df = pd.read_csv(filepath_or_buffer=input_file, sep=' ', names=['label', 'w0', 'w1', 'w2', 'w3'] )\n",
    "        item_df['file'] = basename(input_file).replace('.txt', '.jpg')\n",
    "        items.append(item_df)\n",
    "    except pd.errors.EmptyDataError:\n",
    "        pass\n",
    "labels_df = pd.concat(objs=items)\n",
    "labels_df.head()"
   ]
  },
  {
   "cell_type": "code",
   "execution_count": 5,
   "id": "583fedae",
   "metadata": {
    "execution": {
     "iopub.execute_input": "2024-02-26T16:35:58.008265Z",
     "iopub.status.busy": "2024-02-26T16:35:58.007883Z",
     "iopub.status.idle": "2024-02-26T16:35:58.041074Z",
     "shell.execute_reply": "2024-02-26T16:35:58.039464Z"
    },
    "papermill": {
     "duration": 0.040822,
     "end_time": "2024-02-26T16:35:58.044047",
     "exception": false,
     "start_time": "2024-02-26T16:35:58.003225",
     "status": "completed"
    },
    "tags": []
   },
   "outputs": [
    {
     "data": {
      "text/html": [
       "<div>\n",
       "<style scoped>\n",
       "    .dataframe tbody tr th:only-of-type {\n",
       "        vertical-align: middle;\n",
       "    }\n",
       "\n",
       "    .dataframe tbody tr th {\n",
       "        vertical-align: top;\n",
       "    }\n",
       "\n",
       "    .dataframe thead th {\n",
       "        text-align: right;\n",
       "    }\n",
       "</style>\n",
       "<table border=\"1\" class=\"dataframe\">\n",
       "  <thead>\n",
       "    <tr style=\"text-align: right;\">\n",
       "      <th></th>\n",
       "      <th>name</th>\n",
       "      <th>value</th>\n",
       "      <th>image</th>\n",
       "      <th>label</th>\n",
       "    </tr>\n",
       "  </thead>\n",
       "  <tbody>\n",
       "    <tr>\n",
       "      <th>0</th>\n",
       "      <td>1_2373_1577671991-718851_png.rf.b28b9ebcdc4d28...</td>\n",
       "      <td>[1.0638386, 1.9909817, 2.6237235, 0.08078678, ...</td>\n",
       "      <td>data:image/png;base64,iVBORw0KGgoAAAANSUhEUgAA...</td>\n",
       "      <td>3</td>\n",
       "    </tr>\n",
       "    <tr>\n",
       "      <th>1</th>\n",
       "      <td>5_12992_1577672001-8633876_png.rf.9b377ef1004f...</td>\n",
       "      <td>[1.2768145, 0.4280679, 0.33815253, 0.7156649, ...</td>\n",
       "      <td>data:image/png;base64,iVBORw0KGgoAAAANSUhEUgAA...</td>\n",
       "      <td>7</td>\n",
       "    </tr>\n",
       "    <tr>\n",
       "      <th>2</th>\n",
       "      <td>1_4118_1577671993-2669392_png.rf.614d0aa994823...</td>\n",
       "      <td>[0.27165878, 2.3489494, 3.739036, 0.4390427, 0...</td>\n",
       "      <td>data:image/png;base64,iVBORw0KGgoAAAANSUhEUgAA...</td>\n",
       "      <td>3</td>\n",
       "    </tr>\n",
       "    <tr>\n",
       "      <th>3</th>\n",
       "      <td>2_33136_1577672020-1000376_png.rf.fed0a7be06fa...</td>\n",
       "      <td>[0.3531035, 2.4403796, 4.678871, 0.1387279, 0....</td>\n",
       "      <td>data:image/png;base64,iVBORw0KGgoAAAANSUhEUgAA...</td>\n",
       "      <td>4</td>\n",
       "    </tr>\n",
       "    <tr>\n",
       "      <th>4</th>\n",
       "      <td>3_6095_1577671995-0935838_png.rf.eae00312d4be3...</td>\n",
       "      <td>[0.81593037, 1.0673971, 2.078659, 0.34446526, ...</td>\n",
       "      <td>data:image/png;base64,iVBORw0KGgoAAAANSUhEUgAA...</td>\n",
       "      <td>6</td>\n",
       "    </tr>\n",
       "  </tbody>\n",
       "</table>\n",
       "</div>"
      ],
      "text/plain": [
       "                                                name  \\\n",
       "0  1_2373_1577671991-718851_png.rf.b28b9ebcdc4d28...   \n",
       "1  5_12992_1577672001-8633876_png.rf.9b377ef1004f...   \n",
       "2  1_4118_1577671993-2669392_png.rf.614d0aa994823...   \n",
       "3  2_33136_1577672020-1000376_png.rf.fed0a7be06fa...   \n",
       "4  3_6095_1577671995-0935838_png.rf.eae00312d4be3...   \n",
       "\n",
       "                                               value  \\\n",
       "0  [1.0638386, 1.9909817, 2.6237235, 0.08078678, ...   \n",
       "1  [1.2768145, 0.4280679, 0.33815253, 0.7156649, ...   \n",
       "2  [0.27165878, 2.3489494, 3.739036, 0.4390427, 0...   \n",
       "3  [0.3531035, 2.4403796, 4.678871, 0.1387279, 0....   \n",
       "4  [0.81593037, 1.0673971, 2.078659, 0.34446526, ...   \n",
       "\n",
       "                                               image label  \n",
       "0  data:image/png;base64,iVBORw0KGgoAAAANSUhEUgAA...     3  \n",
       "1  data:image/png;base64,iVBORw0KGgoAAAANSUhEUgAA...     7  \n",
       "2  data:image/png;base64,iVBORw0KGgoAAAANSUhEUgAA...     3  \n",
       "3  data:image/png;base64,iVBORw0KGgoAAAANSUhEUgAA...     4  \n",
       "4  data:image/png;base64,iVBORw0KGgoAAAANSUhEUgAA...     6  "
      ]
     },
     "execution_count": 5,
     "metadata": {},
     "output_type": "execute_result"
    }
   ],
   "source": [
    "df = df.merge(right=labels_df, left_on='name', right_on='file', how='inner').drop(columns=['tag', 'w0', 'w1', 'w2', 'w3', 'file'])\n",
    "df.head()"
   ]
  }
 ],
 "metadata": {
  "kaggle": {
   "accelerator": "none",
   "dataSources": [
    {
     "datasetId": 4425719,
     "sourceId": 7696339,
     "sourceType": "datasetVersion"
    }
   ],
   "dockerImageVersionId": 30646,
   "isGpuEnabled": false,
   "isInternetEnabled": true,
   "language": "python",
   "sourceType": "notebook"
  },
  "kernelspec": {
   "display_name": "Python 3",
   "language": "python",
   "name": "python3"
  },
  "language_info": {
   "codemirror_mode": {
    "name": "ipython",
    "version": 3
   },
   "file_extension": ".py",
   "mimetype": "text/x-python",
   "name": "python",
   "nbconvert_exporter": "python",
   "pygments_lexer": "ipython3",
   "version": "3.10.13"
  },
  "papermill": {
   "default_parameters": {},
   "duration": 246.200991,
   "end_time": "2024-02-26T16:36:00.764783",
   "environment_variables": {},
   "exception": null,
   "input_path": "__notebook__.ipynb",
   "output_path": "__notebook__.ipynb",
   "parameters": {},
   "start_time": "2024-02-26T16:31:54.563792",
   "version": "2.5.0"
  }
 },
 "nbformat": 4,
 "nbformat_minor": 5
}
