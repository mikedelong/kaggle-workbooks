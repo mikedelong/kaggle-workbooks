{
 "cells": [
  {
   "cell_type": "markdown",
   "id": "647e9a00",
   "metadata": {
    "papermill": {
     "duration": 0.004634,
     "end_time": "2023-08-09T14:23:57.535625",
     "exception": false,
     "start_time": "2023-08-09T14:23:57.530991",
     "status": "completed"
    },
    "tags": []
   },
   "source": [
    "# Deaths per Year by Continent"
   ]
  },
  {
   "cell_type": "code",
   "execution_count": 1,
   "id": "685de6d1",
   "metadata": {
    "_cell_guid": "b1076dfc-b9ad-4769-8c92-a6c4dae69d19",
    "_uuid": "8f2839f25d086af736a60e9eeb907d3b93b6e0e5",
    "execution": {
     "iopub.execute_input": "2023-08-09T14:23:57.545979Z",
     "iopub.status.busy": "2023-08-09T14:23:57.545522Z",
     "iopub.status.idle": "2023-08-09T14:23:58.661727Z",
     "shell.execute_reply": "2023-08-09T14:23:58.660267Z"
    },
    "papermill": {
     "duration": 1.125029,
     "end_time": "2023-08-09T14:23:58.665048",
     "exception": false,
     "start_time": "2023-08-09T14:23:57.540019",
     "status": "completed"
    },
    "tags": []
   },
   "outputs": [],
   "source": [
    "import os\n",
    "import numpy as np\n",
    "import pandas as pd\n",
    "import matplotlib.pyplot as plt\n",
    "import plotly.express as px\n",
    "import plotly.graph_objects as go\n",
    "from plotly.subplots import make_subplots"
   ]
  },
  {
   "cell_type": "code",
   "execution_count": 2,
   "id": "1e2ec4fd",
   "metadata": {
    "execution": {
     "iopub.execute_input": "2023-08-09T14:23:58.675347Z",
     "iopub.status.busy": "2023-08-09T14:23:58.674900Z",
     "iopub.status.idle": "2023-08-09T14:23:58.742386Z",
     "shell.execute_reply": "2023-08-09T14:23:58.740636Z"
    },
    "papermill": {
     "duration": 0.07581,
     "end_time": "2023-08-09T14:23:58.745303",
     "exception": false,
     "start_time": "2023-08-09T14:23:58.669493",
     "status": "completed"
    },
    "tags": []
   },
   "outputs": [
    {
     "name": "stdout",
     "output_type": "stream",
     "text": [
      "['Years', 'Africa', 'Asia', 'Europe', 'Latin America and the Caribbean', 'Northern America', 'Oceania', 'World']\n"
     ]
    },
    {
     "data": {
      "text/html": [
       "<div>\n",
       "<style scoped>\n",
       "    .dataframe tbody tr th:only-of-type {\n",
       "        vertical-align: middle;\n",
       "    }\n",
       "\n",
       "    .dataframe tbody tr th {\n",
       "        vertical-align: top;\n",
       "    }\n",
       "\n",
       "    .dataframe thead th {\n",
       "        text-align: right;\n",
       "    }\n",
       "</style>\n",
       "<table border=\"1\" class=\"dataframe\">\n",
       "  <thead>\n",
       "    <tr style=\"text-align: right;\">\n",
       "      <th></th>\n",
       "      <th>Years</th>\n",
       "      <th>Africa</th>\n",
       "      <th>Asia</th>\n",
       "      <th>Europe</th>\n",
       "      <th>Latin America and the Caribbean</th>\n",
       "      <th>Northern America</th>\n",
       "      <th>Oceania</th>\n",
       "      <th>World</th>\n",
       "    </tr>\n",
       "  </thead>\n",
       "  <tbody>\n",
       "    <tr>\n",
       "      <th>0</th>\n",
       "      <td>1950</td>\n",
       "      <td>6062986</td>\n",
       "      <td>31626510</td>\n",
       "      <td>6473233</td>\n",
       "      <td>2925484</td>\n",
       "      <td>1551914</td>\n",
       "      <td>148.409</td>\n",
       "      <td>48788536</td>\n",
       "    </tr>\n",
       "    <tr>\n",
       "      <th>1</th>\n",
       "      <td>1951</td>\n",
       "      <td>6132451</td>\n",
       "      <td>31092766</td>\n",
       "      <td>6609794</td>\n",
       "      <td>2938142</td>\n",
       "      <td>1584821</td>\n",
       "      <td>156.578</td>\n",
       "      <td>48514550</td>\n",
       "    </tr>\n",
       "    <tr>\n",
       "      <th>2</th>\n",
       "      <td>1952</td>\n",
       "      <td>6154863</td>\n",
       "      <td>30549918</td>\n",
       "      <td>6265135</td>\n",
       "      <td>2925067</td>\n",
       "      <td>1600065</td>\n",
       "      <td>151.564</td>\n",
       "      <td>47646612</td>\n",
       "    </tr>\n",
       "    <tr>\n",
       "      <th>3</th>\n",
       "      <td>1953</td>\n",
       "      <td>6188063</td>\n",
       "      <td>30398354</td>\n",
       "      <td>6220937</td>\n",
       "      <td>2924775</td>\n",
       "      <td>1617795</td>\n",
       "      <td>149160.000</td>\n",
       "      <td>47499084</td>\n",
       "    </tr>\n",
       "    <tr>\n",
       "      <th>4</th>\n",
       "      <td>1954</td>\n",
       "      <td>6233523</td>\n",
       "      <td>30052708</td>\n",
       "      <td>6072645</td>\n",
       "      <td>2914769</td>\n",
       "      <td>1578409</td>\n",
       "      <td>150750.000</td>\n",
       "      <td>47002804</td>\n",
       "    </tr>\n",
       "    <tr>\n",
       "      <th>...</th>\n",
       "      <td>...</td>\n",
       "      <td>...</td>\n",
       "      <td>...</td>\n",
       "      <td>...</td>\n",
       "      <td>...</td>\n",
       "      <td>...</td>\n",
       "      <td>...</td>\n",
       "      <td>...</td>\n",
       "    </tr>\n",
       "    <tr>\n",
       "      <th>67</th>\n",
       "      <td>2017</td>\n",
       "      <td>10694839</td>\n",
       "      <td>30770426</td>\n",
       "      <td>8076159</td>\n",
       "      <td>4104061</td>\n",
       "      <td>3049504</td>\n",
       "      <td>270.970</td>\n",
       "      <td>56965956</td>\n",
       "    </tr>\n",
       "    <tr>\n",
       "      <th>68</th>\n",
       "      <td>2018</td>\n",
       "      <td>10763424</td>\n",
       "      <td>30948894</td>\n",
       "      <td>8112356</td>\n",
       "      <td>4190846</td>\n",
       "      <td>3064891</td>\n",
       "      <td>271.264</td>\n",
       "      <td>57351676</td>\n",
       "    </tr>\n",
       "    <tr>\n",
       "      <th>69</th>\n",
       "      <td>2019</td>\n",
       "      <td>10840634</td>\n",
       "      <td>31476206</td>\n",
       "      <td>8020246</td>\n",
       "      <td>4257246</td>\n",
       "      <td>3063270</td>\n",
       "      <td>280.924</td>\n",
       "      <td>57938524</td>\n",
       "    </tr>\n",
       "    <tr>\n",
       "      <th>70</th>\n",
       "      <td>2020</td>\n",
       "      <td>11390416</td>\n",
       "      <td>33775732</td>\n",
       "      <td>9119281</td>\n",
       "      <td>5066101</td>\n",
       "      <td>3544380</td>\n",
       "      <td>278.401</td>\n",
       "      <td>63174308</td>\n",
       "    </tr>\n",
       "    <tr>\n",
       "      <th>71</th>\n",
       "      <td>2021</td>\n",
       "      <td>12038022</td>\n",
       "      <td>38150400</td>\n",
       "      <td>9656398</td>\n",
       "      <td>5534706</td>\n",
       "      <td>3579160</td>\n",
       "      <td>289.468</td>\n",
       "      <td>69248160</td>\n",
       "    </tr>\n",
       "  </tbody>\n",
       "</table>\n",
       "<p>72 rows × 8 columns</p>\n",
       "</div>"
      ],
      "text/plain": [
       "    Years    Africa      Asia   Europe  Latin America and the Caribbean  \\\n",
       "0    1950   6062986  31626510  6473233                          2925484   \n",
       "1    1951   6132451  31092766  6609794                          2938142   \n",
       "2    1952   6154863  30549918  6265135                          2925067   \n",
       "3    1953   6188063  30398354  6220937                          2924775   \n",
       "4    1954   6233523  30052708  6072645                          2914769   \n",
       "..    ...       ...       ...      ...                              ...   \n",
       "67   2017  10694839  30770426  8076159                          4104061   \n",
       "68   2018  10763424  30948894  8112356                          4190846   \n",
       "69   2019  10840634  31476206  8020246                          4257246   \n",
       "70   2020  11390416  33775732  9119281                          5066101   \n",
       "71   2021  12038022  38150400  9656398                          5534706   \n",
       "\n",
       "    Northern America     Oceania     World  \n",
       "0            1551914     148.409  48788536  \n",
       "1            1584821     156.578  48514550  \n",
       "2            1600065     151.564  47646612  \n",
       "3            1617795  149160.000  47499084  \n",
       "4            1578409  150750.000  47002804  \n",
       "..               ...         ...       ...  \n",
       "67           3049504     270.970  56965956  \n",
       "68           3064891     271.264  57351676  \n",
       "69           3063270     280.924  57938524  \n",
       "70           3544380     278.401  63174308  \n",
       "71           3579160     289.468  69248160  \n",
       "\n",
       "[72 rows x 8 columns]"
      ]
     },
     "metadata": {},
     "output_type": "display_data"
    }
   ],
   "source": [
    "data=pd.read_csv('/kaggle/input/continental-deaths-1950-2021/death per year by continent.csv', thousands=',').drop(columns=['Unnamed: 8'])\n",
    "# fix the column names so they're uniform\n",
    "data.columns = [item.replace('(UN)', '').strip() for item in data.columns.tolist()]\n",
    "print(data.columns.tolist())\n",
    "display(data)"
   ]
  },
  {
   "cell_type": "markdown",
   "id": "04a71408",
   "metadata": {
    "papermill": {
     "duration": 0.003972,
     "end_time": "2023-08-09T14:23:58.753739",
     "exception": false,
     "start_time": "2023-08-09T14:23:58.749767",
     "status": "completed"
    },
    "tags": []
   },
   "source": [
    "That Oceania data looks odd; let's look at it in isolation."
   ]
  },
  {
   "cell_type": "code",
   "execution_count": 3,
   "id": "5a4f710d",
   "metadata": {
    "execution": {
     "iopub.execute_input": "2023-08-09T14:23:58.765903Z",
     "iopub.status.busy": "2023-08-09T14:23:58.765404Z",
     "iopub.status.idle": "2023-08-09T14:23:59.128347Z",
     "shell.execute_reply": "2023-08-09T14:23:59.127083Z"
    },
    "papermill": {
     "duration": 0.372336,
     "end_time": "2023-08-09T14:23:59.131085",
     "exception": false,
     "start_time": "2023-08-09T14:23:58.758749",
     "status": "completed"
    },
    "tags": []
   },
   "outputs": [
    {
     "data": {
      "text/plain": [
       "<Axes: >"
      ]
     },
     "execution_count": 3,
     "metadata": {},
     "output_type": "execute_result"
    },
    {
     "data": {
      "image/png": "[encoded data removed]",
      "text/plain": [
       "<Figure size 640x480 with 1 Axes>"
      ]
     },
     "metadata": {},
     "output_type": "display_data"
    }
   ],
   "source": [
    "data['Oceania'].plot()"
   ]
  },
  {
   "cell_type": "markdown",
   "id": "143e702f",
   "metadata": {
    "papermill": {
     "duration": 0.00474,
     "end_time": "2023-08-09T14:23:59.140904",
     "exception": false,
     "start_time": "2023-08-09T14:23:59.136164",
     "status": "completed"
    },
    "tags": []
   },
   "source": [
    "Yeah that's weird. Let's fix that."
   ]
  },
  {
   "cell_type": "code",
   "execution_count": 4,
   "id": "2e6c9fc0",
   "metadata": {
    "execution": {
     "iopub.execute_input": "2023-08-09T14:23:59.154693Z",
     "iopub.status.busy": "2023-08-09T14:23:59.152914Z",
     "iopub.status.idle": "2023-08-09T14:23:59.411068Z",
     "shell.execute_reply": "2023-08-09T14:23:59.410041Z"
    },
    "papermill": {
     "duration": 0.267797,
     "end_time": "2023-08-09T14:23:59.413844",
     "exception": false,
     "start_time": "2023-08-09T14:23:59.146047",
     "status": "completed"
    },
    "tags": []
   },
   "outputs": [
    {
     "data": {
      "image/png": "[encoded data removed]",
      "text/plain": [
       "<Figure size 640x480 with 1 Axes>"
      ]
     },
     "metadata": {},
     "output_type": "display_data"
    }
   ],
   "source": [
    "data['Oceania (fixed)'] = data['Oceania'].apply(func=lambda x: int(x) if x > 50000 else int(1000 * x))\n",
    "data['Oceania (fixed)'].plot()\n",
    "data = data.drop(columns=['Oceania'])\n",
    "# now we need to put the columns back in order so World is last\n",
    "data = data[[item for item in data.columns if item != 'World'] + ['World']]"
   ]
  },
  {
   "cell_type": "code",
   "execution_count": 5,
   "id": "907838db",
   "metadata": {
    "execution": {
     "iopub.execute_input": "2023-08-09T14:23:59.428772Z",
     "iopub.status.busy": "2023-08-09T14:23:59.427165Z",
     "iopub.status.idle": "2023-08-09T14:23:59.451463Z",
     "shell.execute_reply": "2023-08-09T14:23:59.449636Z"
    },
    "papermill": {
     "duration": 0.034357,
     "end_time": "2023-08-09T14:23:59.454202",
     "exception": false,
     "start_time": "2023-08-09T14:23:59.419845",
     "status": "completed"
    },
    "tags": []
   },
   "outputs": [
    {
     "name": "stdout",
     "output_type": "stream",
     "text": [
      "<class 'pandas.core.frame.DataFrame'>\n",
      "RangeIndex: 72 entries, 0 to 71\n",
      "Data columns (total 8 columns):\n",
      " #   Column                           Non-Null Count  Dtype\n",
      "---  ------                           --------------  -----\n",
      " 0   Years                            72 non-null     int64\n",
      " 1   Africa                           72 non-null     int64\n",
      " 2   Asia                             72 non-null     int64\n",
      " 3   Europe                           72 non-null     int64\n",
      " 4   Latin America and the Caribbean  72 non-null     int64\n",
      " 5   Northern America                 72 non-null     int64\n",
      " 6   Oceania (fixed)                  72 non-null     int64\n",
      " 7   World                            72 non-null     int64\n",
      "dtypes: int64(8)\n",
      "memory usage: 4.6 KB\n"
     ]
    },
    {
     "data": {
      "text/plain": [
       "None"
      ]
     },
     "metadata": {},
     "output_type": "display_data"
    }
   ],
   "source": [
    "display(data.info())"
   ]
  },
  {
   "cell_type": "code",
   "execution_count": 6,
   "id": "0276cf6c",
   "metadata": {
    "execution": {
     "iopub.execute_input": "2023-08-09T14:23:59.469477Z",
     "iopub.status.busy": "2023-08-09T14:23:59.468963Z",
     "iopub.status.idle": "2023-08-09T14:23:59.957436Z",
     "shell.execute_reply": "2023-08-09T14:23:59.956124Z"
    },
    "papermill": {
     "duration": 0.499128,
     "end_time": "2023-08-09T14:23:59.960139",
     "exception": false,
     "start_time": "2023-08-09T14:23:59.461011",
     "status": "completed"
    },
    "tags": []
   },
   "outputs": [
    {
     "data": {
      "text/html": [
       "        <script type=\"text/javascript\">\n",
       "        window.PlotlyConfig = {MathJaxConfig: 'local'};\n",
       "        if (window.MathJax && window.MathJax.Hub && window.MathJax.Hub.Config) {window.MathJax.Hub.Config({SVG: {font: \"STIX-Web\"}});}\n",
       "        if (typeof require !== 'undefined') {\n",
       "        require.undef(\"plotly\");\n",
       "        requirejs.config({\n",
       "            paths: {\n",
       "                'plotly': ['https://cdn.plot.ly/plotly-2.24.1.min']\n",
       "            }\n",
       "        });\n",
       "        require(['plotly'], function(Plotly) {\n",
       "            window._Plotly = Plotly;\n",
       "        });\n",
       "        }\n",
       "        </script>\n",
       "        "
      ]
     },
     "metadata": {},
     "output_type": "display_data"
    },
    {
     "data": {
      "text/html": [
       "<div>                            <div id=\"6fc6664b-c9bd-4769-b6c4-35ae1ab43d20\" class=\"plotly-graph-div\" style=\"height:500px; width:900px;\"></div>            <script type=\"text/javascript\">                require([\"plotly\"], function(Plotly) {                    window.PLOTLYENV=window.PLOTLYENV || {};                                    if (document.getElementById(\"6fc6664b-c9bd-4769-b6c4-35ae1ab43d20\")) {                    Plotly.newPlot(                        \"6fc6664b-c9bd-4769-b6c4-35ae1ab43d20\",                        [{\"name\":\"Africa\",\"x\":[1950,1951,1952,1953,1954,1955,1956,1957,1958,1959,1960,1961,1962,1963,1964,1965,1966,1967,1968,1969,1970,1971,1972,1973,1974,1975,1976,1977,1978,1979,1980,1981,1982,1983,1984,1985,1986,1987,1988,1989,1990,1991,1992,1993,1994,1995,1996,1997,1998,1999,2000,2001,2002,2003,2004,2005,2006,2007,2008,2009,2010,2011,2012,2013,2014,2015,2016,2017,2018,2019,2020,2021],\"y\":[6062986,6132451,6154863,6188063,6233523,6257619,6311850,6490080,6555509,6458970,6552895,6612369,6669906,6723633,6773391,6887077,7054363,7156392,7210043,7328002,7384342,7423189,7572144,7547254,7657616,7723873,7709523,7763576,7841359,7901076,7986043,8055264,8146474,8632791,8773801,8849905,8891338,8943504,9359657,9072295,9278030,9556209,9850229,9906520,10475652,10080149,10281946,10413205,10805981,10633379,10614270,10727599,10799192,10848609,10875616,10866028,10806686,10784102,10769381,10679182,10652256,10594121,10561944,10569044,10589947,10646590,10651816,10694839,10763424,10840634,11390416,12038022],\"type\":\"scatter\",\"xaxis\":\"x\",\"yaxis\":\"y\"},{\"name\":\"Asia\",\"x\":[1950,1951,1952,1953,1954,1955,1956,1957,1958,1959,1960,1961,1962,1963,1964,1965,1966,1967,1968,1969,1970,1971,1972,1973,1974,1975,1976,1977,1978,1979,1980,1981,1982,1983,1984,1985,1986,1987,1988,1989,1990,1991,1992,1993,1994,1995,1996,1997,1998,1999,2000,2001,2002,2003,2004,2005,2006,2007,2008,2009,2010,2011,2012,2013,2014,2015,2016,2017,2018,2019,2020,2021],\"y\":[31626510,31092766,30549918,30398354,30052708,30023178,29862650,30004412,29771578,34213372,37750030,32762174,28761320,29495050,29429128,30454046,29806172,29450992,29110966,29048826,29273266,30374566,28421286,28048130,27767736,27668036,27355722,26717434,26562204,26458566,26530844,26568916,26661274,26548234,26569430,26651356,26708254,26805184,26923840,26940726,27124774,27164170,26807018,26747264,26823378,26930792,27031148,26972888,26867314,27001490,27090732,26959014,27059516,27185292,27564758,27647110,27730676,28092588,28643880,28678614,28900242,29175558,29395322,29576076,29720634,29933580,30245778,30770426,30948894,31476206,33775732,38150400],\"type\":\"scatter\",\"xaxis\":\"x\",\"yaxis\":\"y\"},{\"name\":\"Europe\",\"x\":[1950,1951,1952,1953,1954,1955,1956,1957,1958,1959,1960,1961,1962,1963,1964,1965,1966,1967,1968,1969,1970,1971,1972,1973,1974,1975,1976,1977,1978,1979,1980,1981,1982,1983,1984,1985,1986,1987,1988,1989,1990,1991,1992,1993,1994,1995,1996,1997,1998,1999,2000,2001,2002,2003,2004,2005,2006,2007,2008,2009,2010,2011,2012,2013,2014,2015,2016,2017,2018,2019,2020,2021],\"y\":[6473233,6609794,6265135,6220937,6072645,5987151,5899594,5963269,5647571,5816056,5783828,5749292,6023706,6031219,5843514,6058752,6074808,6204646,6427622,6652543,6602177,6675051,6699913,6814598,6818259,7009188,7085837,7039667,7183531,7268744,7422720,7404116,7373734,7562097,7584914,7702883,7423641,7407417,7475880,7527904,7681197,7796555,7935829,8412609,8492472,8553348,8394631,8240385,8193142,8402774,8401888,8364598,8520890,8655471,8381364,8494391,8237212,8187820,8195293,8099043,8128387,7958960,8078292,8033963,7955740,8177599,8009194,8076159,8112356,8020246,9119281,9656398],\"type\":\"scatter\",\"xaxis\":\"x\",\"yaxis\":\"y\"},{\"name\":\"Latin America and the Caribbean\",\"x\":[1950,1951,1952,1953,1954,1955,1956,1957,1958,1959,1960,1961,1962,1963,1964,1965,1966,1967,1968,1969,1970,1971,1972,1973,1974,1975,1976,1977,1978,1979,1980,1981,1982,1983,1984,1985,1986,1987,1988,1989,1990,1991,1992,1993,1994,1995,1996,1997,1998,1999,2000,2001,2002,2003,2004,2005,2006,2007,2008,2009,2010,2011,2012,2013,2014,2015,2016,2017,2018,2019,2020,2021],\"y\":[2925484,2938142,2925067,2924775,2914769,2920958,2912713,2922277,2912317,2918863,2918475,2917620,2928345,2945502,2945236,2955451,2962074,2969226,2978028,2991863,3053103,2990200,3006769,2995795,3004211,2993822,3038075,3020116,3040233,3063067,3074936,3065318,3080425,3049091,3045618,3052299,3015633,3006117,2999552,3007602,3026889,3030644,3040612,3054100,3057785,3083556,3092912,3108958,3144973,3148606,3172244,3205777,3222576,3281836,3299804,3308268,3359578,3434053,3478654,3535176,3694621,3653166,3707735,3750384,3806243,3906059,4038449,4104061,4190846,4257246,5066101,5534706],\"type\":\"scatter\",\"xaxis\":\"x\",\"yaxis\":\"y\"},{\"name\":\"Northern America\",\"x\":[1950,1951,1952,1953,1954,1955,1956,1957,1958,1959,1960,1961,1962,1963,1964,1965,1966,1967,1968,1969,1970,1971,1972,1973,1974,1975,1976,1977,1978,1979,1980,1981,1982,1983,1984,1985,1986,1987,1988,1989,1990,1991,1992,1993,1994,1995,1996,1997,1998,1999,2000,2001,2002,2003,2004,2005,2006,2007,2008,2009,2010,2011,2012,2013,2014,2015,2016,2017,2018,2019,2020,2021],\"y\":[1551914,1584821,1600065,1617795,1578409,1626378,1664674,1734402,1743261,1761238,1811029,1803051,1859954,1919639,1903538,1934819,1971776,1962477,2042421,2037933,2039147,2042695,2082468,2095236,2062564,2021315,2038122,2028796,2057578,2048416,2125573,2118094,2118371,2163107,2186179,2240801,2263021,2282056,2334058,2318068,2317754,2343136,2350968,2452749,2467228,2504956,2510626,2515385,2541299,2599266,2608888,2623558,2657397,2665221,2618741,2673100,2651559,2656053,2709416,2676852,2710578,2762957,2793608,2852080,2885075,2964800,2987878,3049504,3064891,3063270,3544380,3579160],\"type\":\"scatter\",\"xaxis\":\"x\",\"yaxis\":\"y\"},{\"name\":\"Oceania (fixed)\",\"x\":[1950,1951,1952,1953,1954,1955,1956,1957,1958,1959,1960,1961,1962,1963,1964,1965,1966,1967,1968,1969,1970,1971,1972,1973,1974,1975,1976,1977,1978,1979,1980,1981,1982,1983,1984,1985,1986,1987,1988,1989,1990,1991,1992,1993,1994,1995,1996,1997,1998,1999,2000,2001,2002,2003,2004,2005,2006,2007,2008,2009,2010,2011,2012,2013,2014,2015,2016,2017,2018,2019,2020,2021],\"y\":[148409,156578,151564,149160,150750,150816,155091,154629,152499,158553,157420,158676,163172,164523,170620,169708,174380,171756,178895,175711,182094,178251,179228,179346,183535,176528,180369,176334,175041,173727,176497,176477,181683,178559,181345,188194,185216,189809,191188,197596,191051,191345,196963,195794,202723,202660,207507,208355,209053,211093,211796,214737,221876,222042,224765,224460,230140,237200,241038,241323,243110,249038,252882,252900,259935,264406,267501,270970,271264,280924,278401,289468],\"type\":\"scatter\",\"xaxis\":\"x\",\"yaxis\":\"y\"}],                        {\"template\":{\"data\":{\"histogram2dcontour\":[{\"type\":\"histogram2dcontour\",\"colorbar\":{\"outlinewidth\":0,\"ticks\":\"\"},\"colorscale\":[[0.0,\"#0d0887\"],[0.1111111111111111,\"#46039f\"],[0.2222222222222222,\"#7201a8\"],[0.3333333333333333,\"#9c179e\"],[0.4444444444444444,\"#bd3786\"],[0.5555555555555556,\"#d8576b\"],[0.6666666666666666,\"#ed7953\"],[0.7777777777777778,\"#fb9f3a\"],[0.8888888888888888,\"#fdca26\"],[1.0,\"#f0f921\"]]}],\"choropleth\":[{\"type\":\"choropleth\",\"colorbar\":{\"outlinewidth\":0,\"ticks\":\"\"}}],\"histogram2d\":[{\"type\":\"histogram2d\",\"colorbar\":{\"outlinewidth\":0,\"ticks\":\"\"},\"colorscale\":[[0.0,\"#0d0887\"],[0.1111111111111111,\"#46039f\"],[0.2222222222222222,\"#7201a8\"],[0.3333333333333333,\"#9c179e\"],[0.4444444444444444,\"#bd3786\"],[0.5555555555555556,\"#d8576b\"],[0.6666666666666666,\"#ed7953\"],[0.7777777777777778,\"#fb9f3a\"],[0.8888888888888888,\"#fdca26\"],[1.0,\"#f0f921\"]]}],\"heatmap\":[{\"type\":\"heatmap\",\"colorbar\":{\"outlinewidth\":0,\"ticks\":\"\"},\"colorscale\":[[0.0,\"#0d0887\"],[0.1111111111111111,\"#46039f\"],[0.2222222222222222,\"#7201a8\"],[0.3333333333333333,\"#9c179e\"],[0.4444444444444444,\"#bd3786\"],[0.5555555555555556,\"#d8576b\"],[0.6666666666666666,\"#ed7953\"],[0.7777777777777778,\"#fb9f3a\"],[0.8888888888888888,\"#fdca26\"],[1.0,\"#f0f921\"]]}],\"heatmapgl\":[{\"type\":\"heatmapgl\",\"colorbar\":{\"outlinewidth\":0,\"ticks\":\"\"},\"colorscale\":[[0.0,\"#0d0887\"],[0.1111111111111111,\"#46039f\"],[0.2222222222222222,\"#7201a8\"],[0.3333333333333333,\"#9c179e\"],[0.4444444444444444,\"#bd3786\"],[0.5555555555555556,\"#d8576b\"],[0.6666666666666666,\"#ed7953\"],[0.7777777777777778,\"#fb9f3a\"],[0.8888888888888888,\"#fdca26\"],[1.0,\"#f0f921\"]]}],\"contourcarpet\":[{\"type\":\"contourcarpet\",\"colorbar\":{\"outlinewidth\":0,\"ticks\":\"\"}}],\"contour\":[{\"type\":\"contour\",\"colorbar\":{\"outlinewidth\":0,\"ticks\":\"\"},\"colorscale\":[[0.0,\"#0d0887\"],[0.1111111111111111,\"#46039f\"],[0.2222222222222222,\"#7201a8\"],[0.3333333333333333,\"#9c179e\"],[0.4444444444444444,\"#bd3786\"],[0.5555555555555556,\"#d8576b\"],[0.6666666666666666,\"#ed7953\"],[0.7777777777777778,\"#fb9f3a\"],[0.8888888888888888,\"#fdca26\"],[1.0,\"#f0f921\"]]}],\"surface\":[{\"type\":\"surface\",\"colorbar\":{\"outlinewidth\":0,\"ticks\":\"\"},\"colorscale\":[[0.0,\"#0d0887\"],[0.1111111111111111,\"#46039f\"],[0.2222222222222222,\"#7201a8\"],[0.3333333333333333,\"#9c179e\"],[0.4444444444444444,\"#bd3786\"],[0.5555555555555556,\"#d8576b\"],[0.6666666666666666,\"#ed7953\"],[0.7777777777777778,\"#fb9f3a\"],[0.8888888888888888,\"#fdca26\"],[1.0,\"#f0f921\"]]}],\"mesh3d\":[{\"type\":\"mesh3d\",\"colorbar\":{\"outlinewidth\":0,\"ticks\":\"\"}}],\"scatter\":[{\"fillpattern\":{\"fillmode\":\"overlay\",\"size\":10,\"solidity\":0.2},\"type\":\"scatter\"}],\"parcoords\":[{\"type\":\"parcoords\",\"line\":{\"colorbar\":{\"outlinewidth\":0,\"ticks\":\"\"}}}],\"scatterpolargl\":[{\"type\":\"scatterpolargl\",\"marker\":{\"colorbar\":{\"outlinewidth\":0,\"ticks\":\"\"}}}],\"bar\":[{\"error_x\":{\"color\":\"#2a3f5f\"},\"error_y\":{\"color\":\"#2a3f5f\"},\"marker\":{\"line\":{\"color\":\"#E5ECF6\",\"width\":0.5},\"pattern\":{\"fillmode\":\"overlay\",\"size\":10,\"solidity\":0.2}},\"type\":\"bar\"}],\"scattergeo\":[{\"type\":\"scattergeo\",\"marker\":{\"colorbar\":{\"outlinewidth\":0,\"ticks\":\"\"}}}],\"scatterpolar\":[{\"type\":\"scatterpolar\",\"marker\":{\"colorbar\":{\"outlinewidth\":0,\"ticks\":\"\"}}}],\"histogram\":[{\"marker\":{\"pattern\":{\"fillmode\":\"overlay\",\"size\":10,\"solidity\":0.2}},\"type\":\"histogram\"}],\"scattergl\":[{\"type\":\"scattergl\",\"marker\":{\"colorbar\":{\"outlinewidth\":0,\"ticks\":\"\"}}}],\"scatter3d\":[{\"type\":\"scatter3d\",\"line\":{\"colorbar\":{\"outlinewidth\":0,\"ticks\":\"\"}},\"marker\":{\"colorbar\":{\"outlinewidth\":0,\"ticks\":\"\"}}}],\"scattermapbox\":[{\"type\":\"scattermapbox\",\"marker\":{\"colorbar\":{\"outlinewidth\":0,\"ticks\":\"\"}}}],\"scatterternary\":[{\"type\":\"scatterternary\",\"marker\":{\"colorbar\":{\"outlinewidth\":0,\"ticks\":\"\"}}}],\"scattercarpet\":[{\"type\":\"scattercarpet\",\"marker\":{\"colorbar\":{\"outlinewidth\":0,\"ticks\":\"\"}}}],\"carpet\":[{\"aaxis\":{\"endlinecolor\":\"#2a3f5f\",\"gridcolor\":\"white\",\"linecolor\":\"white\",\"minorgridcolor\":\"white\",\"startlinecolor\":\"#2a3f5f\"},\"baxis\":{\"endlinecolor\":\"#2a3f5f\",\"gridcolor\":\"white\",\"linecolor\":\"white\",\"minorgridcolor\":\"white\",\"startlinecolor\":\"#2a3f5f\"},\"type\":\"carpet\"}],\"table\":[{\"cells\":{\"fill\":{\"color\":\"#EBF0F8\"},\"line\":{\"color\":\"white\"}},\"header\":{\"fill\":{\"color\":\"#C8D4E3\"},\"line\":{\"color\":\"white\"}},\"type\":\"table\"}],\"barpolar\":[{\"marker\":{\"line\":{\"color\":\"#E5ECF6\",\"width\":0.5},\"pattern\":{\"fillmode\":\"overlay\",\"size\":10,\"solidity\":0.2}},\"type\":\"barpolar\"}],\"pie\":[{\"automargin\":true,\"type\":\"pie\"}]},\"layout\":{\"autotypenumbers\":\"strict\",\"colorway\":[\"#636efa\",\"#EF553B\",\"#00cc96\",\"#ab63fa\",\"#FFA15A\",\"#19d3f3\",\"#FF6692\",\"#B6E880\",\"#FF97FF\",\"#FECB52\"],\"font\":{\"color\":\"#2a3f5f\"},\"hovermode\":\"closest\",\"hoverlabel\":{\"align\":\"left\"},\"paper_bgcolor\":\"white\",\"plot_bgcolor\":\"#E5ECF6\",\"polar\":{\"bgcolor\":\"#E5ECF6\",\"angularaxis\":{\"gridcolor\":\"white\",\"linecolor\":\"white\",\"ticks\":\"\"},\"radialaxis\":{\"gridcolor\":\"white\",\"linecolor\":\"white\",\"ticks\":\"\"}},\"ternary\":{\"bgcolor\":\"#E5ECF6\",\"aaxis\":{\"gridcolor\":\"white\",\"linecolor\":\"white\",\"ticks\":\"\"},\"baxis\":{\"gridcolor\":\"white\",\"linecolor\":\"white\",\"ticks\":\"\"},\"caxis\":{\"gridcolor\":\"white\",\"linecolor\":\"white\",\"ticks\":\"\"}},\"coloraxis\":{\"colorbar\":{\"outlinewidth\":0,\"ticks\":\"\"}},\"colorscale\":{\"sequential\":[[0.0,\"#0d0887\"],[0.1111111111111111,\"#46039f\"],[0.2222222222222222,\"#7201a8\"],[0.3333333333333333,\"#9c179e\"],[0.4444444444444444,\"#bd3786\"],[0.5555555555555556,\"#d8576b\"],[0.6666666666666666,\"#ed7953\"],[0.7777777777777778,\"#fb9f3a\"],[0.8888888888888888,\"#fdca26\"],[1.0,\"#f0f921\"]],\"sequentialminus\":[[0.0,\"#0d0887\"],[0.1111111111111111,\"#46039f\"],[0.2222222222222222,\"#7201a8\"],[0.3333333333333333,\"#9c179e\"],[0.4444444444444444,\"#bd3786\"],[0.5555555555555556,\"#d8576b\"],[0.6666666666666666,\"#ed7953\"],[0.7777777777777778,\"#fb9f3a\"],[0.8888888888888888,\"#fdca26\"],[1.0,\"#f0f921\"]],\"diverging\":[[0,\"#8e0152\"],[0.1,\"#c51b7d\"],[0.2,\"#de77ae\"],[0.3,\"#f1b6da\"],[0.4,\"#fde0ef\"],[0.5,\"#f7f7f7\"],[0.6,\"#e6f5d0\"],[0.7,\"#b8e186\"],[0.8,\"#7fbc41\"],[0.9,\"#4d9221\"],[1,\"#276419\"]]},\"xaxis\":{\"gridcolor\":\"white\",\"linecolor\":\"white\",\"ticks\":\"\",\"title\":{\"standoff\":15},\"zerolinecolor\":\"white\",\"automargin\":true,\"zerolinewidth\":2},\"yaxis\":{\"gridcolor\":\"white\",\"linecolor\":\"white\",\"ticks\":\"\",\"title\":{\"standoff\":15},\"zerolinecolor\":\"white\",\"automargin\":true,\"zerolinewidth\":2},\"scene\":{\"xaxis\":{\"backgroundcolor\":\"#E5ECF6\",\"gridcolor\":\"white\",\"linecolor\":\"white\",\"showbackground\":true,\"ticks\":\"\",\"zerolinecolor\":\"white\",\"gridwidth\":2},\"yaxis\":{\"backgroundcolor\":\"#E5ECF6\",\"gridcolor\":\"white\",\"linecolor\":\"white\",\"showbackground\":true,\"ticks\":\"\",\"zerolinecolor\":\"white\",\"gridwidth\":2},\"zaxis\":{\"backgroundcolor\":\"#E5ECF6\",\"gridcolor\":\"white\",\"linecolor\":\"white\",\"showbackground\":true,\"ticks\":\"\",\"zerolinecolor\":\"white\",\"gridwidth\":2}},\"shapedefaults\":{\"line\":{\"color\":\"#2a3f5f\"}},\"annotationdefaults\":{\"arrowcolor\":\"#2a3f5f\",\"arrowhead\":0,\"arrowwidth\":1},\"geo\":{\"bgcolor\":\"white\",\"landcolor\":\"#E5ECF6\",\"subunitcolor\":\"white\",\"showland\":true,\"showlakes\":true,\"lakecolor\":\"white\"},\"title\":{\"x\":0.05},\"mapbox\":{\"style\":\"light\"}}},\"xaxis\":{\"anchor\":\"y\",\"domain\":[0.0,1.0],\"title\":{\"text\":\"Year\"}},\"yaxis\":{\"anchor\":\"x\",\"domain\":[0.0,1.0],\"title\":{\"text\":\"Numbers\"}},\"title\":{\"text\":\"Deaths per Year by Continent\"},\"autosize\":false,\"width\":900,\"height\":500},                        {\"responsive\": true}                    ).then(function(){\n",
       "                            \n",
       "var gd = document.getElementById('6fc6664b-c9bd-4769-b6c4-35ae1ab43d20');\n",
       "var x = new MutationObserver(function (mutations, observer) {{\n",
       "        var display = window.getComputedStyle(gd).display;\n",
       "        if (!display || display === 'none') {{\n",
       "            console.log([gd, 'removed!']);\n",
       "            Plotly.purge(gd);\n",
       "            observer.disconnect();\n",
       "        }}\n",
       "}});\n",
       "\n",
       "// Listen for the removal of the full notebook cells\n",
       "var notebookContainer = gd.closest('#notebook-container');\n",
       "if (notebookContainer) {{\n",
       "    x.observe(notebookContainer, {childList: true});\n",
       "}}\n",
       "\n",
       "// Listen for the clearing of the current output cell\n",
       "var outputEl = gd.closest('.output');\n",
       "if (outputEl) {{\n",
       "    x.observe(outputEl, {childList: true});\n",
       "}}\n",
       "\n",
       "                        })                };                });            </script>        </div>"
      ]
     },
     "metadata": {},
     "output_type": "display_data"
    }
   ],
   "source": [
    "cols = data.columns\n",
    "fig=make_subplots(specs=[[{\"secondary_y\":False}]])\n",
    "for col in cols[1:-1]:\n",
    "    fig.add_trace(go.Scatter(x=data['Years'],y=data[col],name=col),secondary_y=False,)\n",
    "fig.update_layout(autosize=False,width=900,height=500,title_text=\"Deaths per Year by Continent\")\n",
    "fig.update_xaxes(title_text=\"Year\")\n",
    "fig.update_yaxes(title_text=\"Numbers\",secondary_y=False)\n",
    "fig.show()"
   ]
  }
 ],
 "metadata": {
  "kernelspec": {
   "display_name": "Python 3",
   "language": "python",
   "name": "python3"
  },
  "language_info": {
   "codemirror_mode": {
    "name": "ipython",
    "version": 3
   },
   "file_extension": ".py",
   "mimetype": "text/x-python",
   "name": "python",
   "nbconvert_exporter": "python",
   "pygments_lexer": "ipython3",
   "version": "3.10.12"
  },
  "papermill": {
   "default_parameters": {},
   "duration": 16.596877,
   "end_time": "2023-08-09T14:24:01.192846",
   "environment_variables": {},
   "exception": null,
   "input_path": "__notebook__.ipynb",
   "output_path": "__notebook__.ipynb",
   "parameters": {},
   "start_time": "2023-08-09T14:23:44.595969",
   "version": "2.4.0"
  }
 },
 "nbformat": 4,
 "nbformat_minor": 5
}
