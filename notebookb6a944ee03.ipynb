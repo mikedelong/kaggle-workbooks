{
 "cells": [
  {
   "cell_type": "code",
   "execution_count": 1,
   "id": "74b4060e",
   "metadata": {
    "_cell_guid": "b1076dfc-b9ad-4769-8c92-a6c4dae69d19",
    "_uuid": "8f2839f25d086af736a60e9eeb907d3b93b6e0e5",
    "execution": {
     "iopub.execute_input": "2024-11-25T22:42:30.975068Z",
     "iopub.status.busy": "2024-11-25T22:42:30.974480Z",
     "iopub.status.idle": "2024-11-25T22:42:32.128265Z",
     "shell.execute_reply": "2024-11-25T22:42:32.126973Z"
    },
    "papermill": {
     "duration": 1.162371,
     "end_time": "2024-11-25T22:42:32.130637",
     "exception": false,
     "start_time": "2024-11-25T22:42:30.968266",
     "status": "completed"
    },
    "tags": []
   },
   "outputs": [
    {
     "data": {
      "text/html": [
       "<div>\n",
       "<style scoped>\n",
       "    .dataframe tbody tr th:only-of-type {\n",
       "        vertical-align: middle;\n",
       "    }\n",
       "\n",
       "    .dataframe tbody tr th {\n",
       "        vertical-align: top;\n",
       "    }\n",
       "\n",
       "    .dataframe thead th {\n",
       "        text-align: right;\n",
       "    }\n",
       "</style>\n",
       "<table border=\"1\" class=\"dataframe\">\n",
       "  <thead>\n",
       "    <tr style=\"text-align: right;\">\n",
       "      <th></th>\n",
       "      <th>date</th>\n",
       "      <th>open_price</th>\n",
       "      <th>high_price</th>\n",
       "      <th>low_price</th>\n",
       "      <th>close_price</th>\n",
       "      <th>volume</th>\n",
       "      <th>adjclose_price</th>\n",
       "      <th>year</th>\n",
       "    </tr>\n",
       "  </thead>\n",
       "  <tbody>\n",
       "    <tr>\n",
       "      <th>0</th>\n",
       "      <td>2021-01-28</td>\n",
       "      <td>265.000000</td>\n",
       "      <td>483.000000</td>\n",
       "      <td>112.250000</td>\n",
       "      <td>193.600006</td>\n",
       "      <td>58815800.0</td>\n",
       "      <td>193.600006</td>\n",
       "      <td>2021</td>\n",
       "    </tr>\n",
       "    <tr>\n",
       "      <th>1</th>\n",
       "      <td>2021-01-27</td>\n",
       "      <td>354.829987</td>\n",
       "      <td>380.000000</td>\n",
       "      <td>249.000000</td>\n",
       "      <td>347.510010</td>\n",
       "      <td>93396700.0</td>\n",
       "      <td>347.510010</td>\n",
       "      <td>2021</td>\n",
       "    </tr>\n",
       "    <tr>\n",
       "      <th>2</th>\n",
       "      <td>2021-01-26</td>\n",
       "      <td>88.559998</td>\n",
       "      <td>150.000000</td>\n",
       "      <td>80.199997</td>\n",
       "      <td>147.979996</td>\n",
       "      <td>178588000.0</td>\n",
       "      <td>147.979996</td>\n",
       "      <td>2021</td>\n",
       "    </tr>\n",
       "    <tr>\n",
       "      <th>3</th>\n",
       "      <td>2021-01-25</td>\n",
       "      <td>96.730003</td>\n",
       "      <td>159.179993</td>\n",
       "      <td>61.130001</td>\n",
       "      <td>76.790001</td>\n",
       "      <td>177874000.0</td>\n",
       "      <td>76.790001</td>\n",
       "      <td>2021</td>\n",
       "    </tr>\n",
       "    <tr>\n",
       "      <th>4</th>\n",
       "      <td>2021-01-22</td>\n",
       "      <td>42.590000</td>\n",
       "      <td>76.760002</td>\n",
       "      <td>42.320000</td>\n",
       "      <td>65.010002</td>\n",
       "      <td>196784300.0</td>\n",
       "      <td>65.010002</td>\n",
       "      <td>2021</td>\n",
       "    </tr>\n",
       "  </tbody>\n",
       "</table>\n",
       "</div>"
      ],
      "text/plain": [
       "        date  open_price  high_price   low_price  close_price       volume  \\\n",
       "0 2021-01-28  265.000000  483.000000  112.250000   193.600006   58815800.0   \n",
       "1 2021-01-27  354.829987  380.000000  249.000000   347.510010   93396700.0   \n",
       "2 2021-01-26   88.559998  150.000000   80.199997   147.979996  178588000.0   \n",
       "3 2021-01-25   96.730003  159.179993   61.130001    76.790001  177874000.0   \n",
       "4 2021-01-22   42.590000   76.760002   42.320000    65.010002  196784300.0   \n",
       "\n",
       "   adjclose_price  year  \n",
       "0      193.600006  2021  \n",
       "1      347.510010  2021  \n",
       "2      147.979996  2021  \n",
       "3       76.790001  2021  \n",
       "4       65.010002  2021  "
      ]
     },
     "execution_count": 1,
     "metadata": {},
     "output_type": "execute_result"
    }
   ],
   "source": [
    "import pandas as pd\n",
    "\n",
    "DATA = '/kaggle/input/gamestop-historical-stock-prices/GME_stock.csv'\n",
    "df = pd.read_csv(filepath_or_buffer=DATA, parse_dates=['date'])\n",
    "df['year'] = df['date'].dt.year\n",
    "df.head()"
   ]
  },
  {
   "cell_type": "markdown",
   "id": "5cddf5ac",
   "metadata": {
    "papermill": {
     "duration": 0.002306,
     "end_time": "2024-11-25T22:42:32.135875",
     "exception": false,
     "start_time": "2024-11-25T22:42:32.133569",
     "status": "completed"
    },
    "tags": []
   },
   "source": [
    "How many years of quotes do we have?"
   ]
  },
  {
   "cell_type": "code",
   "execution_count": 2,
   "id": "685cb903",
   "metadata": {
    "execution": {
     "iopub.execute_input": "2024-11-25T22:42:32.142374Z",
     "iopub.status.busy": "2024-11-25T22:42:32.141989Z",
     "iopub.status.idle": "2024-11-25T22:42:34.544322Z",
     "shell.execute_reply": "2024-11-25T22:42:34.542944Z"
    },
    "papermill": {
     "duration": 2.409052,
     "end_time": "2024-11-25T22:42:34.547398",
     "exception": false,
     "start_time": "2024-11-25T22:42:32.138346",
     "status": "completed"
    },
    "tags": []
   },
   "outputs": [
    {
     "data": {
      "text/plain": [
       "<Axes: xlabel='year', ylabel='Count'>"
      ]
     },
     "execution_count": 2,
     "metadata": {},
     "output_type": "execute_result"
    },
    {
     "data": {
      "image/png": "[encoded data removed]",
      "text/plain": [
       "<Figure size 640x480 with 1 Axes>"
      ]
     },
     "metadata": {},
     "output_type": "display_data"
    }
   ],
   "source": [
    "from seaborn import histplot\n",
    "from warnings import filterwarnings\n",
    "\n",
    "filterwarnings(action='ignore', category=FutureWarning)\n",
    "\n",
    "\n",
    "histplot(data=df, x='year', bins=20)"
   ]
  },
  {
   "cell_type": "markdown",
   "id": "2312b3cb",
   "metadata": {
    "papermill": {
     "duration": 0.002953,
     "end_time": "2024-11-25T22:42:34.554898",
     "exception": false,
     "start_time": "2024-11-25T22:42:34.551945",
     "status": "completed"
    },
    "tags": []
   },
   "source": [
    "We have about 19 years of quotes, and most of our years are complete."
   ]
  },
  {
   "cell_type": "markdown",
   "id": "0bfb1859",
   "metadata": {
    "papermill": {
     "duration": 0.002937,
     "end_time": "2024-11-25T22:42:34.561096",
     "exception": false,
     "start_time": "2024-11-25T22:42:34.558159",
     "status": "completed"
    },
    "tags": []
   },
   "source": [
    "Let's start by looking at the price correlations."
   ]
  },
  {
   "cell_type": "code",
   "execution_count": 3,
   "id": "f9e3ca22",
   "metadata": {
    "execution": {
     "iopub.execute_input": "2024-11-25T22:42:34.569533Z",
     "iopub.status.busy": "2024-11-25T22:42:34.568827Z",
     "iopub.status.idle": "2024-11-25T22:42:34.585959Z",
     "shell.execute_reply": "2024-11-25T22:42:34.584716Z"
    },
    "papermill": {
     "duration": 0.02448,
     "end_time": "2024-11-25T22:42:34.588645",
     "exception": false,
     "start_time": "2024-11-25T22:42:34.564165",
     "status": "completed"
    },
    "tags": []
   },
   "outputs": [
    {
     "data": {
      "text/html": [
       "<div>\n",
       "<style scoped>\n",
       "    .dataframe tbody tr th:only-of-type {\n",
       "        vertical-align: middle;\n",
       "    }\n",
       "\n",
       "    .dataframe tbody tr th {\n",
       "        vertical-align: top;\n",
       "    }\n",
       "\n",
       "    .dataframe thead th {\n",
       "        text-align: right;\n",
       "    }\n",
       "</style>\n",
       "<table border=\"1\" class=\"dataframe\">\n",
       "  <thead>\n",
       "    <tr style=\"text-align: right;\">\n",
       "      <th></th>\n",
       "      <th>open_price</th>\n",
       "      <th>high_price</th>\n",
       "      <th>low_price</th>\n",
       "      <th>close_price</th>\n",
       "      <th>adjclose_price</th>\n",
       "    </tr>\n",
       "  </thead>\n",
       "  <tbody>\n",
       "    <tr>\n",
       "      <th>open_price</th>\n",
       "      <td>1.000000</td>\n",
       "      <td>0.979230</td>\n",
       "      <td>0.983531</td>\n",
       "      <td>0.994380</td>\n",
       "      <td>0.973626</td>\n",
       "    </tr>\n",
       "    <tr>\n",
       "      <th>high_price</th>\n",
       "      <td>0.979230</td>\n",
       "      <td>1.000000</td>\n",
       "      <td>0.933568</td>\n",
       "      <td>0.964880</td>\n",
       "      <td>0.964430</td>\n",
       "    </tr>\n",
       "    <tr>\n",
       "      <th>low_price</th>\n",
       "      <td>0.983531</td>\n",
       "      <td>0.933568</td>\n",
       "      <td>1.000000</td>\n",
       "      <td>0.989899</td>\n",
       "      <td>0.945227</td>\n",
       "    </tr>\n",
       "    <tr>\n",
       "      <th>close_price</th>\n",
       "      <td>0.994380</td>\n",
       "      <td>0.964880</td>\n",
       "      <td>0.989899</td>\n",
       "      <td>1.000000</td>\n",
       "      <td>0.976725</td>\n",
       "    </tr>\n",
       "    <tr>\n",
       "      <th>adjclose_price</th>\n",
       "      <td>0.973626</td>\n",
       "      <td>0.964430</td>\n",
       "      <td>0.945227</td>\n",
       "      <td>0.976725</td>\n",
       "      <td>1.000000</td>\n",
       "    </tr>\n",
       "  </tbody>\n",
       "</table>\n",
       "</div>"
      ],
      "text/plain": [
       "                open_price  high_price  low_price  close_price  adjclose_price\n",
       "open_price        1.000000    0.979230   0.983531     0.994380        0.973626\n",
       "high_price        0.979230    1.000000   0.933568     0.964880        0.964430\n",
       "low_price         0.983531    0.933568   1.000000     0.989899        0.945227\n",
       "close_price       0.994380    0.964880   0.989899     1.000000        0.976725\n",
       "adjclose_price    0.973626    0.964430   0.945227     0.976725        1.000000"
      ]
     },
     "execution_count": 3,
     "metadata": {},
     "output_type": "execute_result"
    }
   ],
   "source": [
    "df[['open_price', 'high_price', 'low_price', 'close_price', 'adjclose_price']].corr()"
   ]
  }
 ],
 "metadata": {
  "kaggle": {
   "accelerator": "none",
   "dataSources": [
    {
     "datasetId": 1127151,
     "sourceId": 1902821,
     "sourceType": "datasetVersion"
    }
   ],
   "dockerImageVersionId": 30786,
   "isGpuEnabled": false,
   "isInternetEnabled": true,
   "language": "python",
   "sourceType": "notebook"
  },
  "kernelspec": {
   "display_name": "Python 3",
   "language": "python",
   "name": "python3"
  },
  "language_info": {
   "codemirror_mode": {
    "name": "ipython",
    "version": 3
   },
   "file_extension": ".py",
   "mimetype": "text/x-python",
   "name": "python",
   "nbconvert_exporter": "python",
   "pygments_lexer": "ipython3",
   "version": "3.10.14"
  },
  "papermill": {
   "default_parameters": {},
   "duration": 7.132945,
   "end_time": "2024-11-25T22:42:35.316245",
   "environment_variables": {},
   "exception": null,
   "input_path": "__notebook__.ipynb",
   "output_path": "__notebook__.ipynb",
   "parameters": {},
   "start_time": "2024-11-25T22:42:28.183300",
   "version": "2.6.0"
  }
 },
 "nbformat": 4,
 "nbformat_minor": 5
}
