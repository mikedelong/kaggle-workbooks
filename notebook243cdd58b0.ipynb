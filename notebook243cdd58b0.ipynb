{
 "cells": [
  {
   "cell_type": "markdown",
   "id": "87ce461f",
   "metadata": {
    "papermill": {
     "duration": 0.004182,
     "end_time": "2024-04-06T19:24:56.316323",
     "exception": false,
     "start_time": "2024-04-06T19:24:56.312141",
     "status": "completed"
    },
    "tags": []
   },
   "source": [
    "This demo as been adapted from https://wandb.ai/mostafaibrahim17/ml-articles/reports/An-Introduction-to-Audio-Classification-with-Keras--Vmlldzo0MDQzNDUy"
   ]
  },
  {
   "cell_type": "code",
   "execution_count": 1,
   "id": "90e1a4ae",
   "metadata": {
    "_cell_guid": "b1076dfc-b9ad-4769-8c92-a6c4dae69d19",
    "_uuid": "8f2839f25d086af736a60e9eeb907d3b93b6e0e5",
    "execution": {
     "iopub.execute_input": "2024-04-06T19:24:56.326056Z",
     "iopub.status.busy": "2024-04-06T19:24:56.324916Z",
     "iopub.status.idle": "2024-04-06T19:31:31.966973Z",
     "shell.execute_reply": "2024-04-06T19:31:31.964538Z"
    },
    "papermill": {
     "duration": 395.651033,
     "end_time": "2024-04-06T19:31:31.971093",
     "exception": false,
     "start_time": "2024-04-06T19:24:56.320060",
     "status": "completed"
    },
    "tags": []
   },
   "outputs": [
    {
     "name": "stderr",
     "output_type": "stream",
     "text": [
      "2024-04-06 19:24:59.127906: E external/local_xla/xla/stream_executor/cuda/cuda_dnn.cc:9261] Unable to register cuDNN factory: Attempting to register factory for plugin cuDNN when one has already been registered\n",
      "2024-04-06 19:24:59.128039: E external/local_xla/xla/stream_executor/cuda/cuda_fft.cc:607] Unable to register cuFFT factory: Attempting to register factory for plugin cuFFT when one has already been registered\n",
      "2024-04-06 19:24:59.274324: E external/local_xla/xla/stream_executor/cuda/cuda_blas.cc:1515] Unable to register cuBLAS factory: Attempting to register factory for plugin cuBLAS when one has already been registered\n"
     ]
    },
    {
     "name": "stdout",
     "output_type": "stream",
     "text": [
      "0:00:57.325552: row: 1000 file: 122690-6-0-0.wav\n",
      "0:01:39.194021: row: 2000 file: 147926-0-0-44.wav\n",
      "0:02:23.850667: row: 3000 file: 162434-6-2-0.wav\n"
     ]
    },
    {
     "name": "stderr",
     "output_type": "stream",
     "text": [
      "/opt/conda/lib/python3.10/site-packages/librosa/core/spectrum.py:257: UserWarning: n_fft=2048 is too large for input signal of length=1323\n",
      "  warnings.warn(\n"
     ]
    },
    {
     "name": "stdout",
     "output_type": "stream",
     "text": [
      "0:03:07.167097: row: 4000 file: 178260-7-1-9.wav\n",
      "0:03:53.152472: row: 5000 file: 195969-0-0-19.wav\n",
      "0:04:32.973436: row: 6000 file: 30204-0-0-11.wav\n",
      "0:05:10.336423: row: 7000 file: 60605-9-0-90.wav\n",
      "0:05:53.133589: row: 8000 file: 77751-4-9-1.wav\n"
     ]
    },
    {
     "name": "stderr",
     "output_type": "stream",
     "text": [
      "/opt/conda/lib/python3.10/site-packages/librosa/core/spectrum.py:257: UserWarning: n_fft=2048 is too large for input signal of length=1103\n",
      "  warnings.warn(\n",
      "/opt/conda/lib/python3.10/site-packages/librosa/core/spectrum.py:257: UserWarning: n_fft=2048 is too large for input signal of length=1523\n",
      "  warnings.warn(\n"
     ]
    },
    {
     "name": "stdout",
     "output_type": "stream",
     "text": [
      "0:06:21.066036 data load complete\n"
     ]
    }
   ],
   "source": [
    "import arrow\n",
    "import os\n",
    "import numpy as np\n",
    "import pandas as pd\n",
    "import librosa\n",
    "from keras.utils import to_categorical\n",
    "from sklearn.model_selection import train_test_split\n",
    "\n",
    "DATA = '/kaggle/input/urbansound8k'\n",
    "METADATA = '/kaggle/input/urbansound8k/UrbanSound8K.csv'\n",
    "SAMPLE_RATE = 22050\n",
    "\n",
    "\n",
    "def load_data(data_path, metadata_path):\n",
    "    features = []\n",
    "    labels = []\n",
    "    metadata = pd.read_csv(metadata_path)\n",
    "\n",
    "    for index, row in metadata.iterrows():\n",
    "        file_path = os.path.join(data_path, 'fold{}'.format(row['fold']), '{}'.format(row['slice_file_name']))\n",
    "        audio, sample_rate = librosa.load(file_path, sr=SAMPLE_RATE)\n",
    "        mfccs = librosa.feature.mfcc(y=audio, sr=SAMPLE_RATE, n_mfcc=40)\n",
    "        mfccs_scaled = np.mean(mfccs.T, axis=0)\n",
    "        features.append(mfccs_scaled)\n",
    "        labels.append(row['class'])\n",
    "        if index > 0 and index % 1000 == 0:\n",
    "            print('{}: row: {} file: {}'.format(arrow.now() - time_start, index, row['slice_file_name']))\n",
    "    return np.array(features), np.array(labels)\n",
    "\n",
    "time_start = arrow.now()\n",
    "features, labels = load_data(data_path=DATA, metadata_path=METADATA)\n",
    "print('{} data load complete'.format(arrow.now() - time_start))"
   ]
  },
  {
   "cell_type": "code",
   "execution_count": 2,
   "id": "dfcc4242",
   "metadata": {
    "execution": {
     "iopub.execute_input": "2024-04-06T19:31:31.991920Z",
     "iopub.status.busy": "2024-04-06T19:31:31.988965Z",
     "iopub.status.idle": "2024-04-06T19:31:32.003337Z",
     "shell.execute_reply": "2024-04-06T19:31:32.002311Z"
    },
    "papermill": {
     "duration": 0.02788,
     "end_time": "2024-04-06T19:31:32.006565",
     "exception": false,
     "start_time": "2024-04-06T19:31:31.978685",
     "status": "completed"
    },
    "tags": []
   },
   "outputs": [],
   "source": [
    "from sklearn.preprocessing import LabelEncoder\n",
    "\n",
    "encoder = LabelEncoder()\n",
    "labels_onehot = to_categorical(encoder.fit_transform(labels))\n"
   ]
  },
  {
   "cell_type": "code",
   "execution_count": 3,
   "id": "56374302",
   "metadata": {
    "execution": {
     "iopub.execute_input": "2024-04-06T19:31:32.023340Z",
     "iopub.status.busy": "2024-04-06T19:31:32.022650Z",
     "iopub.status.idle": "2024-04-06T19:31:32.153891Z",
     "shell.execute_reply": "2024-04-06T19:31:32.152666Z"
    },
    "papermill": {
     "duration": 0.143215,
     "end_time": "2024-04-06T19:31:32.156904",
     "exception": false,
     "start_time": "2024-04-06T19:31:32.013689",
     "status": "completed"
    },
    "tags": []
   },
   "outputs": [],
   "source": [
    "# Split the data into training and testing sets\n",
    "X_train, X_test, y_train, y_test = train_test_split(features, labels_onehot, test_size=0.2, random_state=42, stratify=labels_onehot)\n"
   ]
  },
  {
   "cell_type": "code",
   "execution_count": 4,
   "id": "55b9e019",
   "metadata": {
    "execution": {
     "iopub.execute_input": "2024-04-06T19:31:32.167669Z",
     "iopub.status.busy": "2024-04-06T19:31:32.167270Z",
     "iopub.status.idle": "2024-04-06T19:31:32.442615Z",
     "shell.execute_reply": "2024-04-06T19:31:32.441476Z"
    },
    "papermill": {
     "duration": 0.283425,
     "end_time": "2024-04-06T19:31:32.444843",
     "exception": false,
     "start_time": "2024-04-06T19:31:32.161418",
     "status": "completed"
    },
    "tags": []
   },
   "outputs": [
    {
     "data": {
      "text/html": [
       "<pre style=\"white-space:pre;overflow-x:auto;line-height:normal;font-family:Menlo,'DejaVu Sans Mono',consolas,'Courier New',monospace\"><span style=\"font-weight: bold\">Model: \"sequential\"</span>\n",
       "</pre>\n"
      ],
      "text/plain": [
       "\u001b[1mModel: \"sequential\"\u001b[0m\n"
      ]
     },
     "metadata": {},
     "output_type": "display_data"
    },
    {
     "data": {
      "text/html": [
       "<pre style=\"white-space:pre;overflow-x:auto;line-height:normal;font-family:Menlo,'DejaVu Sans Mono',consolas,'Courier New',monospace\">┏━━━━━━━━━━━━━━━━━━━━━━━━━━━━━━━━━┳━━━━━━━━━━━━━━━━━━━━━━━━┳━━━━━━━━━━━━━━━┓\n",
       "┃<span style=\"font-weight: bold\"> Layer (type)                    </span>┃<span style=\"font-weight: bold\"> Output Shape           </span>┃<span style=\"font-weight: bold\">       Param # </span>┃\n",
       "┡━━━━━━━━━━━━━━━━━━━━━━━━━━━━━━━━━╇━━━━━━━━━━━━━━━━━━━━━━━━╇━━━━━━━━━━━━━━━┩\n",
       "│ conv1d (<span style=\"color: #0087ff; text-decoration-color: #0087ff\">Conv1D</span>)                 │ (<span style=\"color: #00d7ff; text-decoration-color: #00d7ff\">None</span>, <span style=\"color: #00af00; text-decoration-color: #00af00\">40</span>, <span style=\"color: #00af00; text-decoration-color: #00af00\">64</span>)         │           <span style=\"color: #00af00; text-decoration-color: #00af00\">256</span> │\n",
       "├─────────────────────────────────┼────────────────────────┼───────────────┤\n",
       "│ max_pooling1d (<span style=\"color: #0087ff; text-decoration-color: #0087ff\">MaxPooling1D</span>)    │ (<span style=\"color: #00d7ff; text-decoration-color: #00d7ff\">None</span>, <span style=\"color: #00af00; text-decoration-color: #00af00\">20</span>, <span style=\"color: #00af00; text-decoration-color: #00af00\">64</span>)         │             <span style=\"color: #00af00; text-decoration-color: #00af00\">0</span> │\n",
       "├─────────────────────────────────┼────────────────────────┼───────────────┤\n",
       "│ dropout (<span style=\"color: #0087ff; text-decoration-color: #0087ff\">Dropout</span>)               │ (<span style=\"color: #00d7ff; text-decoration-color: #00d7ff\">None</span>, <span style=\"color: #00af00; text-decoration-color: #00af00\">20</span>, <span style=\"color: #00af00; text-decoration-color: #00af00\">64</span>)         │             <span style=\"color: #00af00; text-decoration-color: #00af00\">0</span> │\n",
       "├─────────────────────────────────┼────────────────────────┼───────────────┤\n",
       "│ conv1d_1 (<span style=\"color: #0087ff; text-decoration-color: #0087ff\">Conv1D</span>)               │ (<span style=\"color: #00d7ff; text-decoration-color: #00d7ff\">None</span>, <span style=\"color: #00af00; text-decoration-color: #00af00\">20</span>, <span style=\"color: #00af00; text-decoration-color: #00af00\">128</span>)        │        <span style=\"color: #00af00; text-decoration-color: #00af00\">24,704</span> │\n",
       "├─────────────────────────────────┼────────────────────────┼───────────────┤\n",
       "│ max_pooling1d_1 (<span style=\"color: #0087ff; text-decoration-color: #0087ff\">MaxPooling1D</span>)  │ (<span style=\"color: #00d7ff; text-decoration-color: #00d7ff\">None</span>, <span style=\"color: #00af00; text-decoration-color: #00af00\">10</span>, <span style=\"color: #00af00; text-decoration-color: #00af00\">128</span>)        │             <span style=\"color: #00af00; text-decoration-color: #00af00\">0</span> │\n",
       "├─────────────────────────────────┼────────────────────────┼───────────────┤\n",
       "│ dropout_1 (<span style=\"color: #0087ff; text-decoration-color: #0087ff\">Dropout</span>)             │ (<span style=\"color: #00d7ff; text-decoration-color: #00d7ff\">None</span>, <span style=\"color: #00af00; text-decoration-color: #00af00\">10</span>, <span style=\"color: #00af00; text-decoration-color: #00af00\">128</span>)        │             <span style=\"color: #00af00; text-decoration-color: #00af00\">0</span> │\n",
       "├─────────────────────────────────┼────────────────────────┼───────────────┤\n",
       "│ flatten (<span style=\"color: #0087ff; text-decoration-color: #0087ff\">Flatten</span>)               │ (<span style=\"color: #00d7ff; text-decoration-color: #00d7ff\">None</span>, <span style=\"color: #00af00; text-decoration-color: #00af00\">1280</span>)           │             <span style=\"color: #00af00; text-decoration-color: #00af00\">0</span> │\n",
       "├─────────────────────────────────┼────────────────────────┼───────────────┤\n",
       "│ dense (<span style=\"color: #0087ff; text-decoration-color: #0087ff\">Dense</span>)                   │ (<span style=\"color: #00d7ff; text-decoration-color: #00d7ff\">None</span>, <span style=\"color: #00af00; text-decoration-color: #00af00\">512</span>)            │       <span style=\"color: #00af00; text-decoration-color: #00af00\">655,872</span> │\n",
       "├─────────────────────────────────┼────────────────────────┼───────────────┤\n",
       "│ dropout_2 (<span style=\"color: #0087ff; text-decoration-color: #0087ff\">Dropout</span>)             │ (<span style=\"color: #00d7ff; text-decoration-color: #00d7ff\">None</span>, <span style=\"color: #00af00; text-decoration-color: #00af00\">512</span>)            │             <span style=\"color: #00af00; text-decoration-color: #00af00\">0</span> │\n",
       "├─────────────────────────────────┼────────────────────────┼───────────────┤\n",
       "│ dense_1 (<span style=\"color: #0087ff; text-decoration-color: #0087ff\">Dense</span>)                 │ (<span style=\"color: #00d7ff; text-decoration-color: #00d7ff\">None</span>, <span style=\"color: #00af00; text-decoration-color: #00af00\">10</span>)             │         <span style=\"color: #00af00; text-decoration-color: #00af00\">5,130</span> │\n",
       "└─────────────────────────────────┴────────────────────────┴───────────────┘\n",
       "</pre>\n"
      ],
      "text/plain": [
       "┏━━━━━━━━━━━━━━━━━━━━━━━━━━━━━━━━━┳━━━━━━━━━━━━━━━━━━━━━━━━┳━━━━━━━━━━━━━━━┓\n",
       "┃\u001b[1m \u001b[0m\u001b[1mLayer (type)                   \u001b[0m\u001b[1m \u001b[0m┃\u001b[1m \u001b[0m\u001b[1mOutput Shape          \u001b[0m\u001b[1m \u001b[0m┃\u001b[1m \u001b[0m\u001b[1m      Param #\u001b[0m\u001b[1m \u001b[0m┃\n",
       "┡━━━━━━━━━━━━━━━━━━━━━━━━━━━━━━━━━╇━━━━━━━━━━━━━━━━━━━━━━━━╇━━━━━━━━━━━━━━━┩\n",
       "│ conv1d (\u001b[38;5;33mConv1D\u001b[0m)                 │ (\u001b[38;5;45mNone\u001b[0m, \u001b[38;5;34m40\u001b[0m, \u001b[38;5;34m64\u001b[0m)         │           \u001b[38;5;34m256\u001b[0m │\n",
       "├─────────────────────────────────┼────────────────────────┼───────────────┤\n",
       "│ max_pooling1d (\u001b[38;5;33mMaxPooling1D\u001b[0m)    │ (\u001b[38;5;45mNone\u001b[0m, \u001b[38;5;34m20\u001b[0m, \u001b[38;5;34m64\u001b[0m)         │             \u001b[38;5;34m0\u001b[0m │\n",
       "├─────────────────────────────────┼────────────────────────┼───────────────┤\n",
       "│ dropout (\u001b[38;5;33mDropout\u001b[0m)               │ (\u001b[38;5;45mNone\u001b[0m, \u001b[38;5;34m20\u001b[0m, \u001b[38;5;34m64\u001b[0m)         │             \u001b[38;5;34m0\u001b[0m │\n",
       "├─────────────────────────────────┼────────────────────────┼───────────────┤\n",
       "│ conv1d_1 (\u001b[38;5;33mConv1D\u001b[0m)               │ (\u001b[38;5;45mNone\u001b[0m, \u001b[38;5;34m20\u001b[0m, \u001b[38;5;34m128\u001b[0m)        │        \u001b[38;5;34m24,704\u001b[0m │\n",
       "├─────────────────────────────────┼────────────────────────┼───────────────┤\n",
       "│ max_pooling1d_1 (\u001b[38;5;33mMaxPooling1D\u001b[0m)  │ (\u001b[38;5;45mNone\u001b[0m, \u001b[38;5;34m10\u001b[0m, \u001b[38;5;34m128\u001b[0m)        │             \u001b[38;5;34m0\u001b[0m │\n",
       "├─────────────────────────────────┼────────────────────────┼───────────────┤\n",
       "│ dropout_1 (\u001b[38;5;33mDropout\u001b[0m)             │ (\u001b[38;5;45mNone\u001b[0m, \u001b[38;5;34m10\u001b[0m, \u001b[38;5;34m128\u001b[0m)        │             \u001b[38;5;34m0\u001b[0m │\n",
       "├─────────────────────────────────┼────────────────────────┼───────────────┤\n",
       "│ flatten (\u001b[38;5;33mFlatten\u001b[0m)               │ (\u001b[38;5;45mNone\u001b[0m, \u001b[38;5;34m1280\u001b[0m)           │             \u001b[38;5;34m0\u001b[0m │\n",
       "├─────────────────────────────────┼────────────────────────┼───────────────┤\n",
       "│ dense (\u001b[38;5;33mDense\u001b[0m)                   │ (\u001b[38;5;45mNone\u001b[0m, \u001b[38;5;34m512\u001b[0m)            │       \u001b[38;5;34m655,872\u001b[0m │\n",
       "├─────────────────────────────────┼────────────────────────┼───────────────┤\n",
       "│ dropout_2 (\u001b[38;5;33mDropout\u001b[0m)             │ (\u001b[38;5;45mNone\u001b[0m, \u001b[38;5;34m512\u001b[0m)            │             \u001b[38;5;34m0\u001b[0m │\n",
       "├─────────────────────────────────┼────────────────────────┼───────────────┤\n",
       "│ dense_1 (\u001b[38;5;33mDense\u001b[0m)                 │ (\u001b[38;5;45mNone\u001b[0m, \u001b[38;5;34m10\u001b[0m)             │         \u001b[38;5;34m5,130\u001b[0m │\n",
       "└─────────────────────────────────┴────────────────────────┴───────────────┘\n"
      ]
     },
     "metadata": {},
     "output_type": "display_data"
    },
    {
     "data": {
      "text/html": [
       "<pre style=\"white-space:pre;overflow-x:auto;line-height:normal;font-family:Menlo,'DejaVu Sans Mono',consolas,'Courier New',monospace\"><span style=\"font-weight: bold\"> Total params: </span><span style=\"color: #00af00; text-decoration-color: #00af00\">685,962</span> (2.62 MB)\n",
       "</pre>\n"
      ],
      "text/plain": [
       "\u001b[1m Total params: \u001b[0m\u001b[38;5;34m685,962\u001b[0m (2.62 MB)\n"
      ]
     },
     "metadata": {},
     "output_type": "display_data"
    },
    {
     "data": {
      "text/html": [
       "<pre style=\"white-space:pre;overflow-x:auto;line-height:normal;font-family:Menlo,'DejaVu Sans Mono',consolas,'Courier New',monospace\"><span style=\"font-weight: bold\"> Trainable params: </span><span style=\"color: #00af00; text-decoration-color: #00af00\">685,962</span> (2.62 MB)\n",
       "</pre>\n"
      ],
      "text/plain": [
       "\u001b[1m Trainable params: \u001b[0m\u001b[38;5;34m685,962\u001b[0m (2.62 MB)\n"
      ]
     },
     "metadata": {},
     "output_type": "display_data"
    },
    {
     "data": {
      "text/html": [
       "<pre style=\"white-space:pre;overflow-x:auto;line-height:normal;font-family:Menlo,'DejaVu Sans Mono',consolas,'Courier New',monospace\"><span style=\"font-weight: bold\"> Non-trainable params: </span><span style=\"color: #00af00; text-decoration-color: #00af00\">0</span> (0.00 B)\n",
       "</pre>\n"
      ],
      "text/plain": [
       "\u001b[1m Non-trainable params: \u001b[0m\u001b[38;5;34m0\u001b[0m (0.00 B)\n"
      ]
     },
     "metadata": {},
     "output_type": "display_data"
    }
   ],
   "source": [
    "from keras.layers import Activation\n",
    "from keras.layers import Conv1D\n",
    "from keras.layers import Dense\n",
    "from keras.layers import Dropout\n",
    "from keras.layers import Flatten\n",
    "from keras.layers import Input\n",
    "from keras.layers import MaxPooling1D\n",
    "from keras.models import Sequential\n",
    "\n",
    "model = Sequential()\n",
    "model.add(Input(shape=(X_train.shape[1], 1)))\n",
    "model.add(Conv1D(64, 3, padding='same', activation='relu',))\n",
    "model.add(MaxPooling1D(pool_size=2))\n",
    "model.add(Dropout(0.25))\n",
    "model.add(Conv1D(128, 3, padding='same', activation='relu'))\n",
    "model.add(MaxPooling1D(pool_size=2))\n",
    "model.add(Dropout(0.25))\n",
    "model.add(Flatten())\n",
    "model.add(Dense(512, activation='relu'))\n",
    "model.add(Dropout(0.5))\n",
    "model.add(Dense(len(encoder.classes_), activation='softmax'))\n",
    "model.compile(loss='categorical_crossentropy', optimizer='adam', metrics=['accuracy'])\n",
    "model.summary()"
   ]
  },
  {
   "cell_type": "code",
   "execution_count": 5,
   "id": "97d6a149",
   "metadata": {
    "execution": {
     "iopub.execute_input": "2024-04-06T19:31:32.462358Z",
     "iopub.status.busy": "2024-04-06T19:31:32.461054Z",
     "iopub.status.idle": "2024-04-06T19:31:32.468422Z",
     "shell.execute_reply": "2024-04-06T19:31:32.467201Z"
    },
    "papermill": {
     "duration": 0.018696,
     "end_time": "2024-04-06T19:31:32.470580",
     "exception": false,
     "start_time": "2024-04-06T19:31:32.451884",
     "status": "completed"
    },
    "tags": []
   },
   "outputs": [
    {
     "name": "stdout",
     "output_type": "stream",
     "text": [
      "6985 1747\n"
     ]
    }
   ],
   "source": [
    "X_train = X_train.reshape(X_train.shape[0], X_train.shape[1], 1)\n",
    "X_test = X_test.reshape(X_test.shape[0], X_test.shape[1], 1)\n",
    "print(len(X_train), len(X_test))"
   ]
  },
  {
   "cell_type": "code",
   "execution_count": 6,
   "id": "139122bc",
   "metadata": {
    "execution": {
     "iopub.execute_input": "2024-04-06T19:31:32.489948Z",
     "iopub.status.busy": "2024-04-06T19:31:32.488785Z",
     "iopub.status.idle": "2024-04-06T19:31:32.495824Z",
     "shell.execute_reply": "2024-04-06T19:31:32.495068Z"
    },
    "papermill": {
     "duration": 0.021434,
     "end_time": "2024-04-06T19:31:32.497966",
     "exception": false,
     "start_time": "2024-04-06T19:31:32.476532",
     "status": "completed"
    },
    "tags": []
   },
   "outputs": [],
   "source": [
    "def make_predictions(model, le, file_path):\n",
    "    audio, sample_rate = librosa.load(file_path, sr=22050)\n",
    "    mfccs = librosa.feature.mfcc(y=audio, sr=22050, n_mfcc=40)\n",
    "    mfccs_scaled = np.mean(mfccs.T, axis=0)\n",
    "    predicted_vector = model.predict(x=mfccs_scaled.reshape(1, mfccs_scaled.shape[0], 1), verbose=0)\n",
    "    predicted_class_index = np.argmax(predicted_vector, axis=-1)\n",
    "    return le.inverse_transform(predicted_class_index)[0]\n"
   ]
  },
  {
   "cell_type": "code",
   "execution_count": 7,
   "id": "343c516c",
   "metadata": {
    "execution": {
     "iopub.execute_input": "2024-04-06T19:31:32.511344Z",
     "iopub.status.busy": "2024-04-06T19:31:32.510169Z",
     "iopub.status.idle": "2024-04-06T19:31:33.467688Z",
     "shell.execute_reply": "2024-04-06T19:31:33.466333Z"
    },
    "papermill": {
     "duration": 0.967318,
     "end_time": "2024-04-06T19:31:33.470623",
     "exception": false,
     "start_time": "2024-04-06T19:31:32.503305",
     "status": "completed"
    },
    "tags": []
   },
   "outputs": [
    {
     "name": "stdout",
     "output_type": "stream",
     "text": [
      "{'/kaggle/input/urbansound8k/fold1/101415-3-0-2.wav': 'gun_shot', '/kaggle/input/urbansound8k/fold1/101415-3-0-3.wav': 'gun_shot', '/kaggle/input/urbansound8k/fold1/102305-6-0-0.wav': 'children_playing', '/kaggle/input/urbansound8k/fold1/103074-7-0-2.wav': 'gun_shot', '/kaggle/input/urbansound8k/fold1/103074-7-4-3.wav': 'gun_shot'}\n"
     ]
    }
   ],
   "source": [
    "test_files = [\n",
    "    ('/kaggle/input/urbansound8k/fold1/101415-3-0-2.wav', 'Dog bark'),\n",
    "    ('/kaggle/input/urbansound8k/fold1/101415-3-0-3.wav', 'Dog bark'),\n",
    "    ('/kaggle/input/urbansound8k/fold1/102305-6-0-0.wav', 'Gun shots'),\n",
    "    ('/kaggle/input/urbansound8k/fold1/103074-7-0-2.wav', 'Jack hammer'),\n",
    "    ('/kaggle/input/urbansound8k/fold1/103074-7-4-3.wav', 'Jack hammer')\n",
    "]\n",
    "\n",
    "\n",
    "old_predictions = {\n",
    "    file_path: make_predictions(model, encoder, file_path) for file_path, true_label in test_files\n",
    "}\n",
    "print(old_predictions)"
   ]
  },
  {
   "cell_type": "code",
   "execution_count": 8,
   "id": "e90abe19",
   "metadata": {
    "execution": {
     "iopub.execute_input": "2024-04-06T19:31:33.484161Z",
     "iopub.status.busy": "2024-04-06T19:31:33.483741Z",
     "iopub.status.idle": "2024-04-06T19:33:34.579846Z",
     "shell.execute_reply": "2024-04-06T19:33:34.578578Z"
    },
    "papermill": {
     "duration": 121.110256,
     "end_time": "2024-04-06T19:33:34.586801",
     "exception": false,
     "start_time": "2024-04-06T19:31:33.476545",
     "status": "completed"
    },
    "tags": []
   },
   "outputs": [
    {
     "name": "stdout",
     "output_type": "stream",
     "text": [
      "0:02:01.087837 done training\n"
     ]
    }
   ],
   "source": [
    "import arrow\n",
    "\n",
    "time_start = arrow.now()\n",
    "history = model.fit(X_train, y_train, batch_size=256, epochs=100, validation_data=(X_test, y_test), verbose=0, callbacks=None)\n",
    "print('{} done training'.format(arrow.now() - time_start))"
   ]
  },
  {
   "cell_type": "code",
   "execution_count": 9,
   "id": "7f42812c",
   "metadata": {
    "execution": {
     "iopub.execute_input": "2024-04-06T19:33:34.599626Z",
     "iopub.status.busy": "2024-04-06T19:33:34.598957Z",
     "iopub.status.idle": "2024-04-06T19:33:37.346974Z",
     "shell.execute_reply": "2024-04-06T19:33:37.345893Z"
    },
    "papermill": {
     "duration": 2.757358,
     "end_time": "2024-04-06T19:33:37.349388",
     "exception": false,
     "start_time": "2024-04-06T19:33:34.592030",
     "status": "completed"
    },
    "tags": []
   },
   "outputs": [
    {
     "data": {
      "text/html": [
       "        <script type=\"text/javascript\">\n",
       "        window.PlotlyConfig = {MathJaxConfig: 'local'};\n",
       "        if (window.MathJax && window.MathJax.Hub && window.MathJax.Hub.Config) {window.MathJax.Hub.Config({SVG: {font: \"STIX-Web\"}});}\n",
       "        if (typeof require !== 'undefined') {\n",
       "        require.undef(\"plotly\");\n",
       "        requirejs.config({\n",
       "            paths: {\n",
       "                'plotly': ['https://cdn.plot.ly/plotly-2.27.0.min']\n",
       "            }\n",
       "        });\n",
       "        require(['plotly'], function(Plotly) {\n",
       "            window._Plotly = Plotly;\n",
       "        });\n",
       "        }\n",
       "        </script>\n",
       "        "
      ]
     },
     "metadata": {},
     "output_type": "display_data"
    },
    {
     "data": {
      "text/html": [
       "<div>                            <div id=\"bb8870c1-0df1-4ffd-b73c-47e6725d5a6a\" class=\"plotly-graph-div\" style=\"height:525px; width:100%;\"></div>            <script type=\"text/javascript\">                require([\"plotly\"], function(Plotly) {                    window.PLOTLYENV=window.PLOTLYENV || {};                                    if (document.getElementById(\"bb8870c1-0df1-4ffd-b73c-47e6725d5a6a\")) {                    Plotly.newPlot(                        \"bb8870c1-0df1-4ffd-b73c-47e6725d5a6a\",                        [{\"hovertemplate\":\"variable=accuracy\\u003cbr\\u003eepoch=%{x}\\u003cbr\\u003evalue=%{y}\\u003cextra\\u003e\\u003c\\u002fextra\\u003e\",\"legendgroup\":\"accuracy\",\"line\":{\"color\":\"#636efa\",\"dash\":\"solid\"},\"marker\":{\"symbol\":\"circle\"},\"mode\":\"lines\",\"name\":\"accuracy\",\"orientation\":\"v\",\"showlegend\":true,\"x\":[0,1,2,3,4,5,6,7,8,9,10,11,12,13,14,15,16,17,18,19,20,21,22,23,24,25,26,27,28,29,30,31,32,33,34,35,36,37,38,39,40,41,42,43,44,45,46,47,48,49,50,51,52,53,54,55,56,57,58,59,60,61,62,63,64,65,66,67,68,69,70,71,72,73,74,75,76,77,78,79,80,81,82,83,84,85,86,87,88,89,90,91,92,93,94,95,96,97,98,99],\"xaxis\":\"x\",\"y\":[0.2070150375366211,0.33128130435943604,0.39856836199760437,0.4596993625164032,0.4927702248096466,0.5334287881851196,0.5649248361587524,0.5954187512397766,0.6137437224388123,0.6355046629905701,0.6546885967254639,0.6667143702507019,0.690765917301178,0.7000715732574463,0.7123836874961853,0.7185397148132324,0.742161750793457,0.7531853914260864,0.7518969178199768,0.7703650593757629,0.7785254120826721,0.7799570560455322,0.7962777614593506,0.8071581721305847,0.8048675656318665,0.817036509513855,0.8201861381530762,0.8230493664741516,0.8289191126823425,0.8347888588905334,0.839656412601471,0.8456692695617676,0.8565497398376465,0.8558339476585388,0.8588403463363647,0.8657122254371643,0.8672870397567749,0.8745884299278259,0.8785970211029053,0.8813170790672302,0.8831782341003418,0.885755181312561,0.8771653771400452,0.8921975493431091,0.8957766890525818,0.9000715613365173,0.8976377844810486,0.9022190570831299,0.9075161218643188,0.8997852802276611,0.9132426381111145,0.9092340469360352,0.9096635580062866,0.9138153195381165,0.9128131866455078,0.9151037931442261,0.9189692139625549,0.9229778051376343,0.9297065138816833,0.9229778051376343,0.9278453588485718,0.9248389601707458,0.9264137148857117,0.9271295666694641,0.9332855939865112,0.9334287643432617,0.9340014457702637,0.9350035786628723,0.9325698018074036,0.9362920522689819,0.9388689994812012,0.9374373555183411,0.9455977082252502,0.9443092346191406,0.9448819160461426,0.9437365531921387,0.9428775906562805,0.9425912499427795,0.9447387456893921,0.9423049688339233,0.9491767883300781,0.9467430114746094,0.9491767883300781,0.9490336179733276,0.9407301545143127,0.9520400762557983,0.9508947730064392,0.953328549861908,0.9534717202186584,0.9491767883300781,0.9549033641815186,0.953328549861908,0.9527559280395508,0.9561918377876282,0.9534717202186584,0.9589119553565979,0.9609162211418152,0.959770917892456,0.9579098224639893,0.9566213488578796],\"yaxis\":\"y\",\"type\":\"scatter\"},{\"hovertemplate\":\"variable=loss\\u003cbr\\u003eepoch=%{x}\\u003cbr\\u003evalue=%{y}\\u003cextra\\u003e\\u003c\\u002fextra\\u003e\",\"legendgroup\":\"loss\",\"line\":{\"color\":\"#EF553B\",\"dash\":\"solid\"},\"marker\":{\"symbol\":\"circle\"},\"mode\":\"lines\",\"name\":\"loss\",\"orientation\":\"v\",\"showlegend\":true,\"x\":[0,1,2,3,4,5,6,7,8,9,10,11,12,13,14,15,16,17,18,19,20,21,22,23,24,25,26,27,28,29,30,31,32,33,34,35,36,37,38,39,40,41,42,43,44,45,46,47,48,49,50,51,52,53,54,55,56,57,58,59,60,61,62,63,64,65,66,67,68,69,70,71,72,73,74,75,76,77,78,79,80,81,82,83,84,85,86,87,88,89,90,91,92,93,94,95,96,97,98,99],\"xaxis\":\"x\",\"y\":[4.8979620933532715,1.9383577108383179,1.7015990018844604,1.5458060503005981,1.4399653673171997,1.334114909172058,1.274504542350769,1.1986163854599,1.1280723810195923,1.0779070854187012,1.029760479927063,0.9735801815986633,0.9094470739364624,0.8848060369491577,0.8415142893791199,0.819442629814148,0.7695098519325256,0.7382626533508301,0.7311158776283264,0.6695408821105957,0.6444520354270935,0.6492406129837036,0.6017724871635437,0.5776501893997192,0.5775370001792908,0.5352987051010132,0.5320419073104858,0.5076327323913574,0.49938106536865234,0.47446542978286743,0.4539061188697815,0.44597452878952026,0.4356800615787506,0.42709699273109436,0.4102082848548889,0.40045809745788574,0.3947586417198181,0.3767818510532379,0.3586272895336151,0.3444521725177765,0.3349166810512543,0.3290480673313141,0.3427782654762268,0.31987789273262024,0.3121202886104584,0.2956540882587433,0.29356279969215393,0.28458115458488464,0.2729346454143524,0.28288009762763977,0.26176175475120544,0.2671727240085602,0.26336270570755005,0.25269392132759094,0.2507251501083374,0.23861610889434814,0.2381429672241211,0.22726669907569885,0.20172588527202606,0.21984879672527313,0.21459855139255524,0.21686053276062012,0.21489010751247406,0.21972902119159698,0.199702650308609,0.19974644482135773,0.18743278086185455,0.18761411309242249,0.1877896785736084,0.1781851351261139,0.1758902370929718,0.17685700953006744,0.1558382511138916,0.16721071302890778,0.1678556501865387,0.17134331166744232,0.17567764222621918,0.1645212322473526,0.16156913340091705,0.1648242473602295,0.1439836323261261,0.142740398645401,0.14631645381450653,0.1541825234889984,0.16483178734779358,0.145011767745018,0.1391047090291977,0.14251884818077087,0.14110802114009857,0.14185552299022675,0.1343289166688919,0.13569140434265137,0.13550378382205963,0.12088511884212494,0.12552370131015778,0.11765141040086746,0.1144026517868042,0.1255524903535843,0.1306128054857254,0.13104431331157684],\"yaxis\":\"y\",\"type\":\"scatter\"},{\"hovertemplate\":\"variable=val_accuracy\\u003cbr\\u003eepoch=%{x}\\u003cbr\\u003evalue=%{y}\\u003cextra\\u003e\\u003c\\u002fextra\\u003e\",\"legendgroup\":\"val_accuracy\",\"line\":{\"color\":\"#00cc96\",\"dash\":\"solid\"},\"marker\":{\"symbol\":\"circle\"},\"mode\":\"lines\",\"name\":\"val_accuracy\",\"orientation\":\"v\",\"showlegend\":true,\"x\":[0,1,2,3,4,5,6,7,8,9,10,11,12,13,14,15,16,17,18,19,20,21,22,23,24,25,26,27,28,29,30,31,32,33,34,35,36,37,38,39,40,41,42,43,44,45,46,47,48,49,50,51,52,53,54,55,56,57,58,59,60,61,62,63,64,65,66,67,68,69,70,71,72,73,74,75,76,77,78,79,80,81,82,83,84,85,86,87,88,89,90,91,92,93,94,95,96,97,98,99],\"xaxis\":\"x\",\"y\":[0.4298797845840454,0.4808242619037628,0.5483686327934265,0.610188901424408,0.6210646629333496,0.656554102897644,0.684029757976532,0.7149398922920227,0.7263880968093872,0.7349742650985718,0.7521465420722961,0.7653119564056396,0.7904980182647705,0.7893531918525696,0.7967945337295532,0.8145391941070557,0.8248425722122192,0.8225529193878174,0.831139087677002,0.8483113646507263,0.8414424657821655,0.8580423593521118,0.8666285276412964,0.8643388748168945,0.8649112582206726,0.8763594627380371,0.8712077736854553,0.8826559782028198,0.8866628408432007,0.8946765661239624,0.8826559782028198,0.8941041827201843,0.8958213925361633,0.8963938355445862,0.8981110453605652,0.9055523872375488,0.9055523872375488,0.9084144234657288,0.9044075608253479,0.9061247706413269,0.9124212861061096,0.9072695970535278,0.9101316332817078,0.9124212861061096,0.9181454181671143,0.9141384959220886,0.9164281487464905,0.9147109389305115,0.9215798377990723,0.9192901849746704,0.9187178015708923,0.9221522808074951,0.926731526851654,0.9210074543952942,0.9221522808074951,0.9221522808074951,0.9210074543952942,0.926159143447876,0.9244418740272522,0.9255867004394531,0.926159143447876,0.9290211796760559,0.9284487962722778,0.927876353263855,0.9238694906234741,0.9284487962722778,0.9284487962722778,0.9313108325004578,0.9290211796760559,0.9318832159042358,0.9284487962722778,0.9318832159042358,0.926159143447876,0.9301660060882568,0.926159143447876,0.9301660060882568,0.9330280423164368,0.926159143447876,0.929593563079834,0.927876353263855,0.9313108325004578,0.9307383894920349,0.926731526851654,0.9307383894920349,0.9318832159042358,0.9284487962722778,0.9313108325004578,0.9330280423164368,0.9318832159042358,0.9341728687286377,0.9336004853248596,0.9318832159042358,0.9301660060882568,0.9336004853248596,0.929593563079834,0.9336004853248596,0.9353176951408386,0.9353176951408386,0.9330280423164368,0.9313108325004578],\"yaxis\":\"y\",\"type\":\"scatter\"},{\"hovertemplate\":\"variable=val_loss\\u003cbr\\u003eepoch=%{x}\\u003cbr\\u003evalue=%{y}\\u003cextra\\u003e\\u003c\\u002fextra\\u003e\",\"legendgroup\":\"val_loss\",\"line\":{\"color\":\"#ab63fa\",\"dash\":\"solid\"},\"marker\":{\"symbol\":\"circle\"},\"mode\":\"lines\",\"name\":\"val_loss\",\"orientation\":\"v\",\"showlegend\":true,\"x\":[0,1,2,3,4,5,6,7,8,9,10,11,12,13,14,15,16,17,18,19,20,21,22,23,24,25,26,27,28,29,30,31,32,33,34,35,36,37,38,39,40,41,42,43,44,45,46,47,48,49,50,51,52,53,54,55,56,57,58,59,60,61,62,63,64,65,66,67,68,69,70,71,72,73,74,75,76,77,78,79,80,81,82,83,84,85,86,87,88,89,90,91,92,93,94,95,96,97,98,99],\"xaxis\":\"x\",\"y\":[1.9158564805984497,1.6246042251586914,1.4069570302963257,1.2339088916778564,1.1499030590057373,1.0486388206481934,0.9789254069328308,0.9125640988349915,0.8647207617759705,0.8228474259376526,0.7874042391777039,0.7379406094551086,0.672001838684082,0.6645095944404602,0.623939037322998,0.609028160572052,0.5630111694335938,0.5442402958869934,0.5367377400398254,0.4974500834941864,0.4860735237598419,0.47680729627609253,0.4503801167011261,0.4400765597820282,0.4255233108997345,0.40235137939453125,0.4072933793067932,0.3991762697696686,0.38644298911094666,0.371002197265625,0.38129857182502747,0.36970779299736023,0.3584485352039337,0.34975698590278625,0.3512808382511139,0.34038564562797546,0.34010499715805054,0.3255748748779297,0.3346412181854248,0.31751736998558044,0.31560251116752625,0.32274338603019714,0.32313185930252075,0.31971079111099243,0.2999381422996521,0.29597538709640503,0.29983633756637573,0.29463261365890503,0.2899988293647766,0.29132312536239624,0.2949095666408539,0.28294119238853455,0.28565704822540283,0.27820682525634766,0.2699582278728485,0.28117361664772034,0.27881547808647156,0.26603055000305176,0.28357604146003723,0.27830180525779724,0.2636304497718811,0.2615881860256195,0.25296148657798767,0.2604833245277405,0.260859876871109,0.26595374941825867,0.2671092748641968,0.274787962436676,0.25725609064102173,0.24694857001304626,0.23676703870296478,0.241359680891037,0.2578262984752655,0.26333382725715637,0.263202965259552,0.2526285946369171,0.2596707046031952,0.2818898558616638,0.25254523754119873,0.26698270440101624,0.25838157534599304,0.2627435326576233,0.2758418917655945,0.26696810126304626,0.262613981962204,0.2679668366909027,0.25387176871299744,0.2599349617958069,0.2495916783809662,0.26050886511802673,0.261123389005661,0.25824591517448425,0.2547038495540619,0.26114311814308167,0.268209308385849,0.2754933834075928,0.24795247614383698,0.2541411221027374,0.2412262260913849,0.257103830575943],\"yaxis\":\"y\",\"type\":\"scatter\"}],                        {\"template\":{\"data\":{\"histogram2dcontour\":[{\"type\":\"histogram2dcontour\",\"colorbar\":{\"outlinewidth\":0,\"ticks\":\"\"},\"colorscale\":[[0.0,\"#0d0887\"],[0.1111111111111111,\"#46039f\"],[0.2222222222222222,\"#7201a8\"],[0.3333333333333333,\"#9c179e\"],[0.4444444444444444,\"#bd3786\"],[0.5555555555555556,\"#d8576b\"],[0.6666666666666666,\"#ed7953\"],[0.7777777777777778,\"#fb9f3a\"],[0.8888888888888888,\"#fdca26\"],[1.0,\"#f0f921\"]]}],\"choropleth\":[{\"type\":\"choropleth\",\"colorbar\":{\"outlinewidth\":0,\"ticks\":\"\"}}],\"histogram2d\":[{\"type\":\"histogram2d\",\"colorbar\":{\"outlinewidth\":0,\"ticks\":\"\"},\"colorscale\":[[0.0,\"#0d0887\"],[0.1111111111111111,\"#46039f\"],[0.2222222222222222,\"#7201a8\"],[0.3333333333333333,\"#9c179e\"],[0.4444444444444444,\"#bd3786\"],[0.5555555555555556,\"#d8576b\"],[0.6666666666666666,\"#ed7953\"],[0.7777777777777778,\"#fb9f3a\"],[0.8888888888888888,\"#fdca26\"],[1.0,\"#f0f921\"]]}],\"heatmap\":[{\"type\":\"heatmap\",\"colorbar\":{\"outlinewidth\":0,\"ticks\":\"\"},\"colorscale\":[[0.0,\"#0d0887\"],[0.1111111111111111,\"#46039f\"],[0.2222222222222222,\"#7201a8\"],[0.3333333333333333,\"#9c179e\"],[0.4444444444444444,\"#bd3786\"],[0.5555555555555556,\"#d8576b\"],[0.6666666666666666,\"#ed7953\"],[0.7777777777777778,\"#fb9f3a\"],[0.8888888888888888,\"#fdca26\"],[1.0,\"#f0f921\"]]}],\"heatmapgl\":[{\"type\":\"heatmapgl\",\"colorbar\":{\"outlinewidth\":0,\"ticks\":\"\"},\"colorscale\":[[0.0,\"#0d0887\"],[0.1111111111111111,\"#46039f\"],[0.2222222222222222,\"#7201a8\"],[0.3333333333333333,\"#9c179e\"],[0.4444444444444444,\"#bd3786\"],[0.5555555555555556,\"#d8576b\"],[0.6666666666666666,\"#ed7953\"],[0.7777777777777778,\"#fb9f3a\"],[0.8888888888888888,\"#fdca26\"],[1.0,\"#f0f921\"]]}],\"contourcarpet\":[{\"type\":\"contourcarpet\",\"colorbar\":{\"outlinewidth\":0,\"ticks\":\"\"}}],\"contour\":[{\"type\":\"contour\",\"colorbar\":{\"outlinewidth\":0,\"ticks\":\"\"},\"colorscale\":[[0.0,\"#0d0887\"],[0.1111111111111111,\"#46039f\"],[0.2222222222222222,\"#7201a8\"],[0.3333333333333333,\"#9c179e\"],[0.4444444444444444,\"#bd3786\"],[0.5555555555555556,\"#d8576b\"],[0.6666666666666666,\"#ed7953\"],[0.7777777777777778,\"#fb9f3a\"],[0.8888888888888888,\"#fdca26\"],[1.0,\"#f0f921\"]]}],\"surface\":[{\"type\":\"surface\",\"colorbar\":{\"outlinewidth\":0,\"ticks\":\"\"},\"colorscale\":[[0.0,\"#0d0887\"],[0.1111111111111111,\"#46039f\"],[0.2222222222222222,\"#7201a8\"],[0.3333333333333333,\"#9c179e\"],[0.4444444444444444,\"#bd3786\"],[0.5555555555555556,\"#d8576b\"],[0.6666666666666666,\"#ed7953\"],[0.7777777777777778,\"#fb9f3a\"],[0.8888888888888888,\"#fdca26\"],[1.0,\"#f0f921\"]]}],\"mesh3d\":[{\"type\":\"mesh3d\",\"colorbar\":{\"outlinewidth\":0,\"ticks\":\"\"}}],\"scatter\":[{\"fillpattern\":{\"fillmode\":\"overlay\",\"size\":10,\"solidity\":0.2},\"type\":\"scatter\"}],\"parcoords\":[{\"type\":\"parcoords\",\"line\":{\"colorbar\":{\"outlinewidth\":0,\"ticks\":\"\"}}}],\"scatterpolargl\":[{\"type\":\"scatterpolargl\",\"marker\":{\"colorbar\":{\"outlinewidth\":0,\"ticks\":\"\"}}}],\"bar\":[{\"error_x\":{\"color\":\"#2a3f5f\"},\"error_y\":{\"color\":\"#2a3f5f\"},\"marker\":{\"line\":{\"color\":\"#E5ECF6\",\"width\":0.5},\"pattern\":{\"fillmode\":\"overlay\",\"size\":10,\"solidity\":0.2}},\"type\":\"bar\"}],\"scattergeo\":[{\"type\":\"scattergeo\",\"marker\":{\"colorbar\":{\"outlinewidth\":0,\"ticks\":\"\"}}}],\"scatterpolar\":[{\"type\":\"scatterpolar\",\"marker\":{\"colorbar\":{\"outlinewidth\":0,\"ticks\":\"\"}}}],\"histogram\":[{\"marker\":{\"pattern\":{\"fillmode\":\"overlay\",\"size\":10,\"solidity\":0.2}},\"type\":\"histogram\"}],\"scattergl\":[{\"type\":\"scattergl\",\"marker\":{\"colorbar\":{\"outlinewidth\":0,\"ticks\":\"\"}}}],\"scatter3d\":[{\"type\":\"scatter3d\",\"line\":{\"colorbar\":{\"outlinewidth\":0,\"ticks\":\"\"}},\"marker\":{\"colorbar\":{\"outlinewidth\":0,\"ticks\":\"\"}}}],\"scattermapbox\":[{\"type\":\"scattermapbox\",\"marker\":{\"colorbar\":{\"outlinewidth\":0,\"ticks\":\"\"}}}],\"scatterternary\":[{\"type\":\"scatterternary\",\"marker\":{\"colorbar\":{\"outlinewidth\":0,\"ticks\":\"\"}}}],\"scattercarpet\":[{\"type\":\"scattercarpet\",\"marker\":{\"colorbar\":{\"outlinewidth\":0,\"ticks\":\"\"}}}],\"carpet\":[{\"aaxis\":{\"endlinecolor\":\"#2a3f5f\",\"gridcolor\":\"white\",\"linecolor\":\"white\",\"minorgridcolor\":\"white\",\"startlinecolor\":\"#2a3f5f\"},\"baxis\":{\"endlinecolor\":\"#2a3f5f\",\"gridcolor\":\"white\",\"linecolor\":\"white\",\"minorgridcolor\":\"white\",\"startlinecolor\":\"#2a3f5f\"},\"type\":\"carpet\"}],\"table\":[{\"cells\":{\"fill\":{\"color\":\"#EBF0F8\"},\"line\":{\"color\":\"white\"}},\"header\":{\"fill\":{\"color\":\"#C8D4E3\"},\"line\":{\"color\":\"white\"}},\"type\":\"table\"}],\"barpolar\":[{\"marker\":{\"line\":{\"color\":\"#E5ECF6\",\"width\":0.5},\"pattern\":{\"fillmode\":\"overlay\",\"size\":10,\"solidity\":0.2}},\"type\":\"barpolar\"}],\"pie\":[{\"automargin\":true,\"type\":\"pie\"}]},\"layout\":{\"autotypenumbers\":\"strict\",\"colorway\":[\"#636efa\",\"#EF553B\",\"#00cc96\",\"#ab63fa\",\"#FFA15A\",\"#19d3f3\",\"#FF6692\",\"#B6E880\",\"#FF97FF\",\"#FECB52\"],\"font\":{\"color\":\"#2a3f5f\"},\"hovermode\":\"closest\",\"hoverlabel\":{\"align\":\"left\"},\"paper_bgcolor\":\"white\",\"plot_bgcolor\":\"#E5ECF6\",\"polar\":{\"bgcolor\":\"#E5ECF6\",\"angularaxis\":{\"gridcolor\":\"white\",\"linecolor\":\"white\",\"ticks\":\"\"},\"radialaxis\":{\"gridcolor\":\"white\",\"linecolor\":\"white\",\"ticks\":\"\"}},\"ternary\":{\"bgcolor\":\"#E5ECF6\",\"aaxis\":{\"gridcolor\":\"white\",\"linecolor\":\"white\",\"ticks\":\"\"},\"baxis\":{\"gridcolor\":\"white\",\"linecolor\":\"white\",\"ticks\":\"\"},\"caxis\":{\"gridcolor\":\"white\",\"linecolor\":\"white\",\"ticks\":\"\"}},\"coloraxis\":{\"colorbar\":{\"outlinewidth\":0,\"ticks\":\"\"}},\"colorscale\":{\"sequential\":[[0.0,\"#0d0887\"],[0.1111111111111111,\"#46039f\"],[0.2222222222222222,\"#7201a8\"],[0.3333333333333333,\"#9c179e\"],[0.4444444444444444,\"#bd3786\"],[0.5555555555555556,\"#d8576b\"],[0.6666666666666666,\"#ed7953\"],[0.7777777777777778,\"#fb9f3a\"],[0.8888888888888888,\"#fdca26\"],[1.0,\"#f0f921\"]],\"sequentialminus\":[[0.0,\"#0d0887\"],[0.1111111111111111,\"#46039f\"],[0.2222222222222222,\"#7201a8\"],[0.3333333333333333,\"#9c179e\"],[0.4444444444444444,\"#bd3786\"],[0.5555555555555556,\"#d8576b\"],[0.6666666666666666,\"#ed7953\"],[0.7777777777777778,\"#fb9f3a\"],[0.8888888888888888,\"#fdca26\"],[1.0,\"#f0f921\"]],\"diverging\":[[0,\"#8e0152\"],[0.1,\"#c51b7d\"],[0.2,\"#de77ae\"],[0.3,\"#f1b6da\"],[0.4,\"#fde0ef\"],[0.5,\"#f7f7f7\"],[0.6,\"#e6f5d0\"],[0.7,\"#b8e186\"],[0.8,\"#7fbc41\"],[0.9,\"#4d9221\"],[1,\"#276419\"]]},\"xaxis\":{\"gridcolor\":\"white\",\"linecolor\":\"white\",\"ticks\":\"\",\"title\":{\"standoff\":15},\"zerolinecolor\":\"white\",\"automargin\":true,\"zerolinewidth\":2},\"yaxis\":{\"gridcolor\":\"white\",\"linecolor\":\"white\",\"ticks\":\"\",\"title\":{\"standoff\":15},\"zerolinecolor\":\"white\",\"automargin\":true,\"zerolinewidth\":2},\"scene\":{\"xaxis\":{\"backgroundcolor\":\"#E5ECF6\",\"gridcolor\":\"white\",\"linecolor\":\"white\",\"showbackground\":true,\"ticks\":\"\",\"zerolinecolor\":\"white\",\"gridwidth\":2},\"yaxis\":{\"backgroundcolor\":\"#E5ECF6\",\"gridcolor\":\"white\",\"linecolor\":\"white\",\"showbackground\":true,\"ticks\":\"\",\"zerolinecolor\":\"white\",\"gridwidth\":2},\"zaxis\":{\"backgroundcolor\":\"#E5ECF6\",\"gridcolor\":\"white\",\"linecolor\":\"white\",\"showbackground\":true,\"ticks\":\"\",\"zerolinecolor\":\"white\",\"gridwidth\":2}},\"shapedefaults\":{\"line\":{\"color\":\"#2a3f5f\"}},\"annotationdefaults\":{\"arrowcolor\":\"#2a3f5f\",\"arrowhead\":0,\"arrowwidth\":1},\"geo\":{\"bgcolor\":\"white\",\"landcolor\":\"#E5ECF6\",\"subunitcolor\":\"white\",\"showland\":true,\"showlakes\":true,\"lakecolor\":\"white\"},\"title\":{\"x\":0.05},\"mapbox\":{\"style\":\"light\"}}},\"xaxis\":{\"anchor\":\"y\",\"domain\":[0.0,1.0],\"title\":{\"text\":\"epoch\"}},\"yaxis\":{\"anchor\":\"x\",\"domain\":[0.0,1.0],\"title\":{\"text\":\"value\"}},\"legend\":{\"title\":{\"text\":\"variable\"},\"tracegroupgap\":0},\"margin\":{\"t\":60}},                        {\"responsive\": true}                    ).then(function(){\n",
       "                            \n",
       "var gd = document.getElementById('bb8870c1-0df1-4ffd-b73c-47e6725d5a6a');\n",
       "var x = new MutationObserver(function (mutations, observer) {{\n",
       "        var display = window.getComputedStyle(gd).display;\n",
       "        if (!display || display === 'none') {{\n",
       "            console.log([gd, 'removed!']);\n",
       "            Plotly.purge(gd);\n",
       "            observer.disconnect();\n",
       "        }}\n",
       "}});\n",
       "\n",
       "// Listen for the removal of the full notebook cells\n",
       "var notebookContainer = gd.closest('#notebook-container');\n",
       "if (notebookContainer) {{\n",
       "    x.observe(notebookContainer, {childList: true});\n",
       "}}\n",
       "\n",
       "// Listen for the clearing of the current output cell\n",
       "var outputEl = gd.closest('.output');\n",
       "if (outputEl) {{\n",
       "    x.observe(outputEl, {childList: true});\n",
       "}}\n",
       "\n",
       "                        })                };                });            </script>        </div>"
      ]
     },
     "metadata": {},
     "output_type": "display_data"
    }
   ],
   "source": [
    "from plotly import express\n",
    "express.line(data_frame=pd.DataFrame(data=history.history,).reset_index().rename(columns={'index': 'epoch'}), x='epoch', y=list(history.history.keys()))"
   ]
  },
  {
   "cell_type": "code",
   "execution_count": 10,
   "id": "f079f173",
   "metadata": {
    "execution": {
     "iopub.execute_input": "2024-04-06T19:33:37.363595Z",
     "iopub.status.busy": "2024-04-06T19:33:37.362805Z",
     "iopub.status.idle": "2024-04-06T19:33:38.104036Z",
     "shell.execute_reply": "2024-04-06T19:33:38.102908Z"
    },
    "papermill": {
     "duration": 0.752283,
     "end_time": "2024-04-06T19:33:38.107817",
     "exception": false,
     "start_time": "2024-04-06T19:33:37.355534",
     "status": "completed"
    },
    "tags": []
   },
   "outputs": [
    {
     "data": {
      "text/plain": [
       "{'/kaggle/input/urbansound8k/fold1/101415-3-0-2.wav': 'dog_bark',\n",
       " '/kaggle/input/urbansound8k/fold1/101415-3-0-3.wav': 'dog_bark',\n",
       " '/kaggle/input/urbansound8k/fold1/102305-6-0-0.wav': 'gun_shot',\n",
       " '/kaggle/input/urbansound8k/fold1/103074-7-0-2.wav': 'jackhammer',\n",
       " '/kaggle/input/urbansound8k/fold1/103074-7-4-3.wav': 'jackhammer'}"
      ]
     },
     "execution_count": 10,
     "metadata": {},
     "output_type": "execute_result"
    }
   ],
   "source": [
    "new_predictions = {\n",
    "    file_path: make_predictions(model, encoder, file_path) for file_path, true_label in test_files\n",
    "}\n",
    "new_predictions"
   ]
  }
 ],
 "metadata": {
  "kaggle": {
   "accelerator": "none",
   "dataSources": [
    {
     "datasetId": 500970,
     "sourceId": 928025,
     "sourceType": "datasetVersion"
    }
   ],
   "dockerImageVersionId": 30673,
   "isGpuEnabled": false,
   "isInternetEnabled": true,
   "language": "python",
   "sourceType": "notebook"
  },
  "kernelspec": {
   "display_name": "Python 3",
   "language": "python",
   "name": "python3"
  },
  "language_info": {
   "codemirror_mode": {
    "name": "ipython",
    "version": 3
   },
   "file_extension": ".py",
   "mimetype": "text/x-python",
   "name": "python",
   "nbconvert_exporter": "python",
   "pygments_lexer": "ipython3",
   "version": "3.10.13"
  },
  "papermill": {
   "default_parameters": {},
   "duration": 527.326212,
   "end_time": "2024-04-06T19:33:40.965262",
   "environment_variables": {},
   "exception": null,
   "input_path": "__notebook__.ipynb",
   "output_path": "__notebook__.ipynb",
   "parameters": {},
   "start_time": "2024-04-06T19:24:53.639050",
   "version": "2.5.0"
  }
 },
 "nbformat": 4,
 "nbformat_minor": 5
}
