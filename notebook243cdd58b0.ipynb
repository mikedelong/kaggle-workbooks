{
 "cells": [
  {
   "cell_type": "markdown",
   "id": "fee949d4",
   "metadata": {
    "papermill": {
     "duration": 0.004483,
     "end_time": "2024-04-06T19:17:44.479654",
     "exception": false,
     "start_time": "2024-04-06T19:17:44.475171",
     "status": "completed"
    },
    "tags": []
   },
   "source": [
    "This demo as been adapted from https://wandb.ai/mostafaibrahim17/ml-articles/reports/An-Introduction-to-Audio-Classification-with-Keras--Vmlldzo0MDQzNDUy"
   ]
  },
  {
   "cell_type": "code",
   "execution_count": 1,
   "id": "b533f4eb",
   "metadata": {
    "_cell_guid": "b1076dfc-b9ad-4769-8c92-a6c4dae69d19",
    "_uuid": "8f2839f25d086af736a60e9eeb907d3b93b6e0e5",
    "execution": {
     "iopub.execute_input": "2024-04-06T19:17:44.491389Z",
     "iopub.status.busy": "2024-04-06T19:17:44.490475Z",
     "iopub.status.idle": "2024-04-06T19:26:08.316361Z",
     "shell.execute_reply": "2024-04-06T19:26:08.314366Z"
    },
    "papermill": {
     "duration": 503.838461,
     "end_time": "2024-04-06T19:26:08.322564",
     "exception": false,
     "start_time": "2024-04-06T19:17:44.484103",
     "status": "completed"
    },
    "tags": []
   },
   "outputs": [
    {
     "name": "stderr",
     "output_type": "stream",
     "text": [
      "2024-04-06 19:17:48.104696: E external/local_xla/xla/stream_executor/cuda/cuda_dnn.cc:9261] Unable to register cuDNN factory: Attempting to register factory for plugin cuDNN when one has already been registered\n",
      "2024-04-06 19:17:48.104881: E external/local_xla/xla/stream_executor/cuda/cuda_fft.cc:607] Unable to register cuFFT factory: Attempting to register factory for plugin cuFFT when one has already been registered\n",
      "2024-04-06 19:17:48.283152: E external/local_xla/xla/stream_executor/cuda/cuda_blas.cc:1515] Unable to register cuBLAS factory: Attempting to register factory for plugin cuBLAS when one has already been registered\n"
     ]
    },
    {
     "name": "stdout",
     "output_type": "stream",
     "text": [
      "0:01:13.458540: row: 1000 file: 122690-6-0-0.wav\n",
      "0:02:05.553570: row: 2000 file: 147926-0-0-44.wav\n",
      "0:03:02.418866: row: 3000 file: 162434-6-2-0.wav\n"
     ]
    },
    {
     "name": "stderr",
     "output_type": "stream",
     "text": [
      "/opt/conda/lib/python3.10/site-packages/librosa/core/spectrum.py:257: UserWarning: n_fft=2048 is too large for input signal of length=1323\n",
      "  warnings.warn(\n"
     ]
    },
    {
     "name": "stdout",
     "output_type": "stream",
     "text": [
      "0:03:57.713684: row: 4000 file: 178260-7-1-9.wav\n",
      "0:04:57.318837: row: 5000 file: 195969-0-0-19.wav\n",
      "0:05:49.187344: row: 6000 file: 30204-0-0-11.wav\n",
      "0:06:37.693113: row: 7000 file: 60605-9-0-90.wav\n",
      "0:07:28.561668: row: 8000 file: 77751-4-9-1.wav\n"
     ]
    },
    {
     "name": "stderr",
     "output_type": "stream",
     "text": [
      "/opt/conda/lib/python3.10/site-packages/librosa/core/spectrum.py:257: UserWarning: n_fft=2048 is too large for input signal of length=1103\n",
      "  warnings.warn(\n",
      "/opt/conda/lib/python3.10/site-packages/librosa/core/spectrum.py:257: UserWarning: n_fft=2048 is too large for input signal of length=1523\n",
      "  warnings.warn(\n"
     ]
    },
    {
     "name": "stdout",
     "output_type": "stream",
     "text": [
      "0:08:05.378160 data load complete\n"
     ]
    }
   ],
   "source": [
    "import arrow\n",
    "import os\n",
    "import numpy as np\n",
    "import pandas as pd\n",
    "import librosa\n",
    "from keras.utils import to_categorical\n",
    "from sklearn.model_selection import train_test_split\n",
    "\n",
    "DATA = '/kaggle/input/urbansound8k'\n",
    "METADATA = '/kaggle/input/urbansound8k/UrbanSound8K.csv'\n",
    "SAMPLE_RATE = 22050\n",
    "\n",
    "\n",
    "def load_data(data_path, metadata_path):\n",
    "    features = []\n",
    "    labels = []\n",
    "    metadata = pd.read_csv(metadata_path)\n",
    "\n",
    "    for index, row in metadata.iterrows():\n",
    "        file_path = os.path.join(data_path, 'fold{}'.format(row['fold']), '{}'.format(row['slice_file_name']))\n",
    "        audio, sample_rate = librosa.load(file_path, sr=SAMPLE_RATE)\n",
    "        mfccs = librosa.feature.mfcc(y=audio, sr=SAMPLE_RATE, n_mfcc=40)\n",
    "        mfccs_scaled = np.mean(mfccs.T, axis=0)\n",
    "        features.append(mfccs_scaled)\n",
    "        labels.append(row['class'])\n",
    "        if index > 0 and index % 1000 == 0:\n",
    "            print('{}: row: {} file: {}'.format(arrow.now() - time_start, index, row['slice_file_name']))\n",
    "    return np.array(features), np.array(labels)\n",
    "\n",
    "time_start = arrow.now()\n",
    "features, labels = load_data(data_path=DATA, metadata_path=METADATA)\n",
    "print('{} data load complete'.format(arrow.now() - time_start))"
   ]
  },
  {
   "cell_type": "code",
   "execution_count": 2,
   "id": "ec170086",
   "metadata": {
    "execution": {
     "iopub.execute_input": "2024-04-06T19:26:08.369435Z",
     "iopub.status.busy": "2024-04-06T19:26:08.367517Z",
     "iopub.status.idle": "2024-04-06T19:26:08.388706Z",
     "shell.execute_reply": "2024-04-06T19:26:08.386883Z"
    },
    "papermill": {
     "duration": 0.050338,
     "end_time": "2024-04-06T19:26:08.392630",
     "exception": false,
     "start_time": "2024-04-06T19:26:08.342292",
     "status": "completed"
    },
    "tags": []
   },
   "outputs": [],
   "source": [
    "from sklearn.preprocessing import LabelEncoder\n",
    "\n",
    "encoder = LabelEncoder()\n",
    "labels_onehot = to_categorical(encoder.fit_transform(labels))\n"
   ]
  },
  {
   "cell_type": "code",
   "execution_count": 3,
   "id": "7b3aadb3",
   "metadata": {
    "execution": {
     "iopub.execute_input": "2024-04-06T19:26:08.411957Z",
     "iopub.status.busy": "2024-04-06T19:26:08.410949Z",
     "iopub.status.idle": "2024-04-06T19:26:08.584193Z",
     "shell.execute_reply": "2024-04-06T19:26:08.582979Z"
    },
    "papermill": {
     "duration": 0.185169,
     "end_time": "2024-04-06T19:26:08.587210",
     "exception": false,
     "start_time": "2024-04-06T19:26:08.402041",
     "status": "completed"
    },
    "tags": []
   },
   "outputs": [],
   "source": [
    "# Split the data into training and testing sets\n",
    "X_train, X_test, y_train, y_test = train_test_split(features, labels_onehot, test_size=0.2, random_state=42, stratify=labels_onehot)\n"
   ]
  },
  {
   "cell_type": "code",
   "execution_count": 4,
   "id": "34108578",
   "metadata": {
    "execution": {
     "iopub.execute_input": "2024-04-06T19:26:08.602174Z",
     "iopub.status.busy": "2024-04-06T19:26:08.601767Z",
     "iopub.status.idle": "2024-04-06T19:26:08.837355Z",
     "shell.execute_reply": "2024-04-06T19:26:08.835881Z"
    },
    "papermill": {
     "duration": 0.248236,
     "end_time": "2024-04-06T19:26:08.840987",
     "exception": false,
     "start_time": "2024-04-06T19:26:08.592751",
     "status": "completed"
    },
    "tags": []
   },
   "outputs": [
    {
     "data": {
      "text/html": [
       "<pre style=\"white-space:pre;overflow-x:auto;line-height:normal;font-family:Menlo,'DejaVu Sans Mono',consolas,'Courier New',monospace\"><span style=\"font-weight: bold\">Model: \"sequential\"</span>\n",
       "</pre>\n"
      ],
      "text/plain": [
       "\u001b[1mModel: \"sequential\"\u001b[0m\n"
      ]
     },
     "metadata": {},
     "output_type": "display_data"
    },
    {
     "data": {
      "text/html": [
       "<pre style=\"white-space:pre;overflow-x:auto;line-height:normal;font-family:Menlo,'DejaVu Sans Mono',consolas,'Courier New',monospace\">┏━━━━━━━━━━━━━━━━━━━━━━━━━━━━━━━━━┳━━━━━━━━━━━━━━━━━━━━━━━━┳━━━━━━━━━━━━━━━┓\n",
       "┃<span style=\"font-weight: bold\"> Layer (type)                    </span>┃<span style=\"font-weight: bold\"> Output Shape           </span>┃<span style=\"font-weight: bold\">       Param # </span>┃\n",
       "┡━━━━━━━━━━━━━━━━━━━━━━━━━━━━━━━━━╇━━━━━━━━━━━━━━━━━━━━━━━━╇━━━━━━━━━━━━━━━┩\n",
       "│ conv1d (<span style=\"color: #0087ff; text-decoration-color: #0087ff\">Conv1D</span>)                 │ (<span style=\"color: #00d7ff; text-decoration-color: #00d7ff\">None</span>, <span style=\"color: #00af00; text-decoration-color: #00af00\">40</span>, <span style=\"color: #00af00; text-decoration-color: #00af00\">64</span>)         │           <span style=\"color: #00af00; text-decoration-color: #00af00\">256</span> │\n",
       "├─────────────────────────────────┼────────────────────────┼───────────────┤\n",
       "│ max_pooling1d (<span style=\"color: #0087ff; text-decoration-color: #0087ff\">MaxPooling1D</span>)    │ (<span style=\"color: #00d7ff; text-decoration-color: #00d7ff\">None</span>, <span style=\"color: #00af00; text-decoration-color: #00af00\">20</span>, <span style=\"color: #00af00; text-decoration-color: #00af00\">64</span>)         │             <span style=\"color: #00af00; text-decoration-color: #00af00\">0</span> │\n",
       "├─────────────────────────────────┼────────────────────────┼───────────────┤\n",
       "│ dropout (<span style=\"color: #0087ff; text-decoration-color: #0087ff\">Dropout</span>)               │ (<span style=\"color: #00d7ff; text-decoration-color: #00d7ff\">None</span>, <span style=\"color: #00af00; text-decoration-color: #00af00\">20</span>, <span style=\"color: #00af00; text-decoration-color: #00af00\">64</span>)         │             <span style=\"color: #00af00; text-decoration-color: #00af00\">0</span> │\n",
       "├─────────────────────────────────┼────────────────────────┼───────────────┤\n",
       "│ conv1d_1 (<span style=\"color: #0087ff; text-decoration-color: #0087ff\">Conv1D</span>)               │ (<span style=\"color: #00d7ff; text-decoration-color: #00d7ff\">None</span>, <span style=\"color: #00af00; text-decoration-color: #00af00\">20</span>, <span style=\"color: #00af00; text-decoration-color: #00af00\">128</span>)        │        <span style=\"color: #00af00; text-decoration-color: #00af00\">24,704</span> │\n",
       "├─────────────────────────────────┼────────────────────────┼───────────────┤\n",
       "│ max_pooling1d_1 (<span style=\"color: #0087ff; text-decoration-color: #0087ff\">MaxPooling1D</span>)  │ (<span style=\"color: #00d7ff; text-decoration-color: #00d7ff\">None</span>, <span style=\"color: #00af00; text-decoration-color: #00af00\">10</span>, <span style=\"color: #00af00; text-decoration-color: #00af00\">128</span>)        │             <span style=\"color: #00af00; text-decoration-color: #00af00\">0</span> │\n",
       "├─────────────────────────────────┼────────────────────────┼───────────────┤\n",
       "│ dropout_1 (<span style=\"color: #0087ff; text-decoration-color: #0087ff\">Dropout</span>)             │ (<span style=\"color: #00d7ff; text-decoration-color: #00d7ff\">None</span>, <span style=\"color: #00af00; text-decoration-color: #00af00\">10</span>, <span style=\"color: #00af00; text-decoration-color: #00af00\">128</span>)        │             <span style=\"color: #00af00; text-decoration-color: #00af00\">0</span> │\n",
       "├─────────────────────────────────┼────────────────────────┼───────────────┤\n",
       "│ flatten (<span style=\"color: #0087ff; text-decoration-color: #0087ff\">Flatten</span>)               │ (<span style=\"color: #00d7ff; text-decoration-color: #00d7ff\">None</span>, <span style=\"color: #00af00; text-decoration-color: #00af00\">1280</span>)           │             <span style=\"color: #00af00; text-decoration-color: #00af00\">0</span> │\n",
       "├─────────────────────────────────┼────────────────────────┼───────────────┤\n",
       "│ dense (<span style=\"color: #0087ff; text-decoration-color: #0087ff\">Dense</span>)                   │ (<span style=\"color: #00d7ff; text-decoration-color: #00d7ff\">None</span>, <span style=\"color: #00af00; text-decoration-color: #00af00\">512</span>)            │       <span style=\"color: #00af00; text-decoration-color: #00af00\">655,872</span> │\n",
       "├─────────────────────────────────┼────────────────────────┼───────────────┤\n",
       "│ dropout_2 (<span style=\"color: #0087ff; text-decoration-color: #0087ff\">Dropout</span>)             │ (<span style=\"color: #00d7ff; text-decoration-color: #00d7ff\">None</span>, <span style=\"color: #00af00; text-decoration-color: #00af00\">512</span>)            │             <span style=\"color: #00af00; text-decoration-color: #00af00\">0</span> │\n",
       "├─────────────────────────────────┼────────────────────────┼───────────────┤\n",
       "│ dense_1 (<span style=\"color: #0087ff; text-decoration-color: #0087ff\">Dense</span>)                 │ (<span style=\"color: #00d7ff; text-decoration-color: #00d7ff\">None</span>, <span style=\"color: #00af00; text-decoration-color: #00af00\">10</span>)             │         <span style=\"color: #00af00; text-decoration-color: #00af00\">5,130</span> │\n",
       "└─────────────────────────────────┴────────────────────────┴───────────────┘\n",
       "</pre>\n"
      ],
      "text/plain": [
       "┏━━━━━━━━━━━━━━━━━━━━━━━━━━━━━━━━━┳━━━━━━━━━━━━━━━━━━━━━━━━┳━━━━━━━━━━━━━━━┓\n",
       "┃\u001b[1m \u001b[0m\u001b[1mLayer (type)                   \u001b[0m\u001b[1m \u001b[0m┃\u001b[1m \u001b[0m\u001b[1mOutput Shape          \u001b[0m\u001b[1m \u001b[0m┃\u001b[1m \u001b[0m\u001b[1m      Param #\u001b[0m\u001b[1m \u001b[0m┃\n",
       "┡━━━━━━━━━━━━━━━━━━━━━━━━━━━━━━━━━╇━━━━━━━━━━━━━━━━━━━━━━━━╇━━━━━━━━━━━━━━━┩\n",
       "│ conv1d (\u001b[38;5;33mConv1D\u001b[0m)                 │ (\u001b[38;5;45mNone\u001b[0m, \u001b[38;5;34m40\u001b[0m, \u001b[38;5;34m64\u001b[0m)         │           \u001b[38;5;34m256\u001b[0m │\n",
       "├─────────────────────────────────┼────────────────────────┼───────────────┤\n",
       "│ max_pooling1d (\u001b[38;5;33mMaxPooling1D\u001b[0m)    │ (\u001b[38;5;45mNone\u001b[0m, \u001b[38;5;34m20\u001b[0m, \u001b[38;5;34m64\u001b[0m)         │             \u001b[38;5;34m0\u001b[0m │\n",
       "├─────────────────────────────────┼────────────────────────┼───────────────┤\n",
       "│ dropout (\u001b[38;5;33mDropout\u001b[0m)               │ (\u001b[38;5;45mNone\u001b[0m, \u001b[38;5;34m20\u001b[0m, \u001b[38;5;34m64\u001b[0m)         │             \u001b[38;5;34m0\u001b[0m │\n",
       "├─────────────────────────────────┼────────────────────────┼───────────────┤\n",
       "│ conv1d_1 (\u001b[38;5;33mConv1D\u001b[0m)               │ (\u001b[38;5;45mNone\u001b[0m, \u001b[38;5;34m20\u001b[0m, \u001b[38;5;34m128\u001b[0m)        │        \u001b[38;5;34m24,704\u001b[0m │\n",
       "├─────────────────────────────────┼────────────────────────┼───────────────┤\n",
       "│ max_pooling1d_1 (\u001b[38;5;33mMaxPooling1D\u001b[0m)  │ (\u001b[38;5;45mNone\u001b[0m, \u001b[38;5;34m10\u001b[0m, \u001b[38;5;34m128\u001b[0m)        │             \u001b[38;5;34m0\u001b[0m │\n",
       "├─────────────────────────────────┼────────────────────────┼───────────────┤\n",
       "│ dropout_1 (\u001b[38;5;33mDropout\u001b[0m)             │ (\u001b[38;5;45mNone\u001b[0m, \u001b[38;5;34m10\u001b[0m, \u001b[38;5;34m128\u001b[0m)        │             \u001b[38;5;34m0\u001b[0m │\n",
       "├─────────────────────────────────┼────────────────────────┼───────────────┤\n",
       "│ flatten (\u001b[38;5;33mFlatten\u001b[0m)               │ (\u001b[38;5;45mNone\u001b[0m, \u001b[38;5;34m1280\u001b[0m)           │             \u001b[38;5;34m0\u001b[0m │\n",
       "├─────────────────────────────────┼────────────────────────┼───────────────┤\n",
       "│ dense (\u001b[38;5;33mDense\u001b[0m)                   │ (\u001b[38;5;45mNone\u001b[0m, \u001b[38;5;34m512\u001b[0m)            │       \u001b[38;5;34m655,872\u001b[0m │\n",
       "├─────────────────────────────────┼────────────────────────┼───────────────┤\n",
       "│ dropout_2 (\u001b[38;5;33mDropout\u001b[0m)             │ (\u001b[38;5;45mNone\u001b[0m, \u001b[38;5;34m512\u001b[0m)            │             \u001b[38;5;34m0\u001b[0m │\n",
       "├─────────────────────────────────┼────────────────────────┼───────────────┤\n",
       "│ dense_1 (\u001b[38;5;33mDense\u001b[0m)                 │ (\u001b[38;5;45mNone\u001b[0m, \u001b[38;5;34m10\u001b[0m)             │         \u001b[38;5;34m5,130\u001b[0m │\n",
       "└─────────────────────────────────┴────────────────────────┴───────────────┘\n"
      ]
     },
     "metadata": {},
     "output_type": "display_data"
    },
    {
     "data": {
      "text/html": [
       "<pre style=\"white-space:pre;overflow-x:auto;line-height:normal;font-family:Menlo,'DejaVu Sans Mono',consolas,'Courier New',monospace\"><span style=\"font-weight: bold\"> Total params: </span><span style=\"color: #00af00; text-decoration-color: #00af00\">685,962</span> (2.62 MB)\n",
       "</pre>\n"
      ],
      "text/plain": [
       "\u001b[1m Total params: \u001b[0m\u001b[38;5;34m685,962\u001b[0m (2.62 MB)\n"
      ]
     },
     "metadata": {},
     "output_type": "display_data"
    },
    {
     "data": {
      "text/html": [
       "<pre style=\"white-space:pre;overflow-x:auto;line-height:normal;font-family:Menlo,'DejaVu Sans Mono',consolas,'Courier New',monospace\"><span style=\"font-weight: bold\"> Trainable params: </span><span style=\"color: #00af00; text-decoration-color: #00af00\">685,962</span> (2.62 MB)\n",
       "</pre>\n"
      ],
      "text/plain": [
       "\u001b[1m Trainable params: \u001b[0m\u001b[38;5;34m685,962\u001b[0m (2.62 MB)\n"
      ]
     },
     "metadata": {},
     "output_type": "display_data"
    },
    {
     "data": {
      "text/html": [
       "<pre style=\"white-space:pre;overflow-x:auto;line-height:normal;font-family:Menlo,'DejaVu Sans Mono',consolas,'Courier New',monospace\"><span style=\"font-weight: bold\"> Non-trainable params: </span><span style=\"color: #00af00; text-decoration-color: #00af00\">0</span> (0.00 B)\n",
       "</pre>\n"
      ],
      "text/plain": [
       "\u001b[1m Non-trainable params: \u001b[0m\u001b[38;5;34m0\u001b[0m (0.00 B)\n"
      ]
     },
     "metadata": {},
     "output_type": "display_data"
    }
   ],
   "source": [
    "from keras.layers import Activation\n",
    "from keras.layers import Conv1D\n",
    "from keras.layers import Dense\n",
    "from keras.layers import Dropout\n",
    "from keras.layers import Flatten\n",
    "from keras.layers import Input\n",
    "from keras.layers import MaxPooling1D\n",
    "from keras.models import Sequential\n",
    "\n",
    "model = Sequential()\n",
    "model.add(Input(shape=(X_train.shape[1], 1)))\n",
    "model.add(Conv1D(64, 3, padding='same', activation='relu',))\n",
    "model.add(MaxPooling1D(pool_size=2))\n",
    "model.add(Dropout(0.25))\n",
    "model.add(Conv1D(128, 3, padding='same', activation='relu'))\n",
    "model.add(MaxPooling1D(pool_size=2))\n",
    "model.add(Dropout(0.25))\n",
    "model.add(Flatten())\n",
    "model.add(Dense(512, activation='relu'))\n",
    "model.add(Dropout(0.5))\n",
    "model.add(Dense(len(encoder.classes_), activation='softmax'))\n",
    "model.compile(loss='categorical_crossentropy', optimizer='adam', metrics=['accuracy'])\n",
    "model.summary()"
   ]
  },
  {
   "cell_type": "code",
   "execution_count": 5,
   "id": "6fdaf65b",
   "metadata": {
    "execution": {
     "iopub.execute_input": "2024-04-06T19:26:08.856154Z",
     "iopub.status.busy": "2024-04-06T19:26:08.855726Z",
     "iopub.status.idle": "2024-04-06T19:26:08.863248Z",
     "shell.execute_reply": "2024-04-06T19:26:08.861890Z"
    },
    "papermill": {
     "duration": 0.018462,
     "end_time": "2024-04-06T19:26:08.866150",
     "exception": false,
     "start_time": "2024-04-06T19:26:08.847688",
     "status": "completed"
    },
    "tags": []
   },
   "outputs": [
    {
     "name": "stdout",
     "output_type": "stream",
     "text": [
      "6985 1747\n"
     ]
    }
   ],
   "source": [
    "X_train = X_train.reshape(X_train.shape[0], X_train.shape[1], 1)\n",
    "X_test = X_test.reshape(X_test.shape[0], X_test.shape[1], 1)\n",
    "print(len(X_train), len(X_test))"
   ]
  },
  {
   "cell_type": "code",
   "execution_count": 6,
   "id": "027ae6ca",
   "metadata": {
    "execution": {
     "iopub.execute_input": "2024-04-06T19:26:08.881656Z",
     "iopub.status.busy": "2024-04-06T19:26:08.881185Z",
     "iopub.status.idle": "2024-04-06T19:26:08.890392Z",
     "shell.execute_reply": "2024-04-06T19:26:08.888952Z"
    },
    "papermill": {
     "duration": 0.020153,
     "end_time": "2024-04-06T19:26:08.893080",
     "exception": false,
     "start_time": "2024-04-06T19:26:08.872927",
     "status": "completed"
    },
    "tags": []
   },
   "outputs": [],
   "source": [
    "def make_predictions(model, le, file_path):\n",
    "    audio, sample_rate = librosa.load(file_path, sr=22050)\n",
    "    mfccs = librosa.feature.mfcc(y=audio, sr=22050, n_mfcc=40)\n",
    "    mfccs_scaled = np.mean(mfccs.T, axis=0)\n",
    "    features = mfccs_scaled.reshape(1, mfccs_scaled.shape[0], 1)\n",
    "    predicted_vector = model.predict(features)\n",
    "    predicted_class_index = np.argmax(predicted_vector, axis=-1)\n",
    "    return le.inverse_transform(predicted_class_index)[0]\n"
   ]
  },
  {
   "cell_type": "code",
   "execution_count": 7,
   "id": "a22d7bf5",
   "metadata": {
    "execution": {
     "iopub.execute_input": "2024-04-06T19:26:08.909024Z",
     "iopub.status.busy": "2024-04-06T19:26:08.908606Z",
     "iopub.status.idle": "2024-04-06T19:26:09.962185Z",
     "shell.execute_reply": "2024-04-06T19:26:09.960545Z"
    },
    "papermill": {
     "duration": 1.065596,
     "end_time": "2024-04-06T19:26:09.965646",
     "exception": false,
     "start_time": "2024-04-06T19:26:08.900050",
     "status": "completed"
    },
    "tags": []
   },
   "outputs": [
    {
     "name": "stdout",
     "output_type": "stream",
     "text": [
      "\u001b[1m1/1\u001b[0m \u001b[32m━━━━━━━━━━━━━━━━━━━━\u001b[0m\u001b[37m\u001b[0m \u001b[1m0s\u001b[0m 232ms/step\n",
      "\u001b[1m1/1\u001b[0m \u001b[32m━━━━━━━━━━━━━━━━━━━━\u001b[0m\u001b[37m\u001b[0m \u001b[1m0s\u001b[0m 29ms/step\n",
      "\u001b[1m1/1\u001b[0m \u001b[32m━━━━━━━━━━━━━━━━━━━━\u001b[0m\u001b[37m\u001b[0m \u001b[1m0s\u001b[0m 29ms/step\n",
      "\u001b[1m1/1\u001b[0m \u001b[32m━━━━━━━━━━━━━━━━━━━━\u001b[0m\u001b[37m\u001b[0m \u001b[1m0s\u001b[0m 32ms/step\n",
      "\u001b[1m1/1\u001b[0m \u001b[32m━━━━━━━━━━━━━━━━━━━━\u001b[0m\u001b[37m\u001b[0m \u001b[1m0s\u001b[0m 26ms/step\n"
     ]
    }
   ],
   "source": [
    "test_files = [\n",
    "    ('/kaggle/input/urbansound8k/fold1/101415-3-0-2.wav', 'Dog bark'),\n",
    "    ('/kaggle/input/urbansound8k/fold1/101415-3-0-3.wav', 'Dog bark'),\n",
    "    ('/kaggle/input/urbansound8k/fold1/102305-6-0-0.wav', 'Gun shots'),\n",
    "    ('/kaggle/input/urbansound8k/fold1/103074-7-0-2.wav', 'Jack hammer'),\n",
    "    ('/kaggle/input/urbansound8k/fold1/103074-7-4-3.wav', 'Jack hammer')\n",
    "]\n",
    "\n",
    "\n",
    "old_predictions = {\n",
    "    file_path: make_predictions(model, encoder, file_path) for file_path, true_label in test_files\n",
    "}"
   ]
  },
  {
   "cell_type": "code",
   "execution_count": 8,
   "id": "1fd8fa52",
   "metadata": {
    "execution": {
     "iopub.execute_input": "2024-04-06T19:26:09.983716Z",
     "iopub.status.busy": "2024-04-06T19:26:09.983287Z",
     "iopub.status.idle": "2024-04-06T19:28:20.743314Z",
     "shell.execute_reply": "2024-04-06T19:28:20.742241Z"
    },
    "papermill": {
     "duration": 130.778191,
     "end_time": "2024-04-06T19:28:20.752076",
     "exception": false,
     "start_time": "2024-04-06T19:26:09.973885",
     "status": "completed"
    },
    "tags": []
   },
   "outputs": [
    {
     "name": "stdout",
     "output_type": "stream",
     "text": [
      "0:02:10.752219 done training\n"
     ]
    }
   ],
   "source": [
    "import arrow\n",
    "\n",
    "time_start = arrow.now()\n",
    "history = model.fit(X_train, y_train, batch_size=256, epochs=100, validation_data=(X_test, y_test), verbose=0, callbacks=None)\n",
    "print('{} done training'.format(arrow.now() - time_start))"
   ]
  },
  {
   "cell_type": "code",
   "execution_count": 9,
   "id": "b35a23ef",
   "metadata": {
    "execution": {
     "iopub.execute_input": "2024-04-06T19:28:20.770904Z",
     "iopub.status.busy": "2024-04-06T19:28:20.770154Z",
     "iopub.status.idle": "2024-04-06T19:28:24.179207Z",
     "shell.execute_reply": "2024-04-06T19:28:24.178009Z"
    },
    "papermill": {
     "duration": 3.422126,
     "end_time": "2024-04-06T19:28:24.182106",
     "exception": false,
     "start_time": "2024-04-06T19:28:20.759980",
     "status": "completed"
    },
    "tags": []
   },
   "outputs": [
    {
     "data": {
      "text/html": [
       "        <script type=\"text/javascript\">\n",
       "        window.PlotlyConfig = {MathJaxConfig: 'local'};\n",
       "        if (window.MathJax && window.MathJax.Hub && window.MathJax.Hub.Config) {window.MathJax.Hub.Config({SVG: {font: \"STIX-Web\"}});}\n",
       "        if (typeof require !== 'undefined') {\n",
       "        require.undef(\"plotly\");\n",
       "        requirejs.config({\n",
       "            paths: {\n",
       "                'plotly': ['https://cdn.plot.ly/plotly-2.27.0.min']\n",
       "            }\n",
       "        });\n",
       "        require(['plotly'], function(Plotly) {\n",
       "            window._Plotly = Plotly;\n",
       "        });\n",
       "        }\n",
       "        </script>\n",
       "        "
      ]
     },
     "metadata": {},
     "output_type": "display_data"
    },
    {
     "data": {
      "text/html": [
       "<div>                            <div id=\"cc0f3acc-efe7-4d47-8afc-02145308f276\" class=\"plotly-graph-div\" style=\"height:525px; width:100%;\"></div>            <script type=\"text/javascript\">                require([\"plotly\"], function(Plotly) {                    window.PLOTLYENV=window.PLOTLYENV || {};                                    if (document.getElementById(\"cc0f3acc-efe7-4d47-8afc-02145308f276\")) {                    Plotly.newPlot(                        \"cc0f3acc-efe7-4d47-8afc-02145308f276\",                        [{\"hovertemplate\":\"variable=accuracy\\u003cbr\\u003eepoch=%{x}\\u003cbr\\u003evalue=%{y}\\u003cextra\\u003e\\u003c\\u002fextra\\u003e\",\"legendgroup\":\"accuracy\",\"line\":{\"color\":\"#636efa\",\"dash\":\"solid\"},\"marker\":{\"symbol\":\"circle\"},\"mode\":\"lines\",\"name\":\"accuracy\",\"orientation\":\"v\",\"showlegend\":true,\"x\":[0,1,2,3,4,5,6,7,8,9,10,11,12,13,14,15,16,17,18,19,20,21,22,23,24,25,26,27,28,29,30,31,32,33,34,35,36,37,38,39,40,41,42,43,44,45,46,47,48,49,50,51,52,53,54,55,56,57,58,59,60,61,62,63,64,65,66,67,68,69,70,71,72,73,74,75,76,77,78,79,80,81,82,83,84,85,86,87,88,89,90,91,92,93,94,95,96,97,98,99],\"xaxis\":\"x\",\"y\":[0.2292054444551468,0.3443092405796051,0.42261990904808044,0.48117393255233765,0.5169649124145508,0.5534717440605164,0.5896921753883362,0.6154617071151733,0.6327845454216003,0.6523979902267456,0.6712956428527832,0.6989262700080872,0.702791690826416,0.725697934627533,0.7334287762641907,0.7451682090759277,0.7561918497085571,0.7703650593757629,0.7746599912643433,0.7855404615402222,0.7924123406410217,0.7959914207458496,0.8111667633056641,0.8131710886955261,0.822333574295044,0.8327845335006714,0.834359347820282,0.8369362950325012,0.8432354927062988,0.8549749255180359,0.8552612662315369,0.8578382134437561,0.8631352782249451,0.8717251420021057,0.8725841045379639,0.8764495253562927,0.8818897604942322,0.8850393891334534,0.8876163363456726,0.885755181312561,0.8891911506652832,0.8874731659889221,0.9025053977966309,0.9006442427635193,0.8996421098709106,0.8977809548377991,0.908088743686676,0.9109520316123962,0.9118109941482544,0.9076592922210693,0.915676474571228,0.9128131866455078,0.9169649481773376,0.9239799380302429,0.9238367676734924,0.9265568852424622,0.9225482940673828,0.9241231083869934,0.9301360249519348,0.930708646774292,0.9289907217025757,0.9331424236297607,0.9322834610939026,0.9335719347000122,0.9321402907371521,0.9325698018074036,0.9367215633392334,0.9423049688339233,0.937723696231842,0.9438797235488892,0.9453113675117493,0.9428775906562805,0.9408733248710632,0.9411596059799194,0.9494631290435791,0.9464566707611084,0.9490336179733276,0.9488905072212219,0.9510379433631897,0.9471725225448608,0.9487473368644714,0.9470293521881104,0.9460272192955017,0.9544738531112671,0.9526127576828003,0.9536148905754089,0.9491767883300781,0.9571939706802368,0.9559054970741272,0.9520400762557983,0.9563350081443787,0.9559054970741272,0.9571939706802368,0.9604867696762085,0.9602004289627075,0.9589119553565979,0.9599140882492065,0.9642090201377869,0.9576234817504883,0.9614889025688171],\"yaxis\":\"y\",\"type\":\"scatter\"},{\"hovertemplate\":\"variable=loss\\u003cbr\\u003eepoch=%{x}\\u003cbr\\u003evalue=%{y}\\u003cextra\\u003e\\u003c\\u002fextra\\u003e\",\"legendgroup\":\"loss\",\"line\":{\"color\":\"#EF553B\",\"dash\":\"solid\"},\"marker\":{\"symbol\":\"circle\"},\"mode\":\"lines\",\"name\":\"loss\",\"orientation\":\"v\",\"showlegend\":true,\"x\":[0,1,2,3,4,5,6,7,8,9,10,11,12,13,14,15,16,17,18,19,20,21,22,23,24,25,26,27,28,29,30,31,32,33,34,35,36,37,38,39,40,41,42,43,44,45,46,47,48,49,50,51,52,53,54,55,56,57,58,59,60,61,62,63,64,65,66,67,68,69,70,71,72,73,74,75,76,77,78,79,80,81,82,83,84,85,86,87,88,89,90,91,92,93,94,95,96,97,98,99],\"xaxis\":\"x\",\"y\":[4.213277339935303,1.8762634992599487,1.651638388633728,1.4957287311553955,1.3823120594024658,1.2780101299285889,1.204965353012085,1.136001706123352,1.0762184858322144,1.0119856595993042,0.9636126756668091,0.8958660364151001,0.8715094327926636,0.8261934518814087,0.7897623777389526,0.7453474998474121,0.7370394468307495,0.6946281790733337,0.6687089800834656,0.6372359395027161,0.6169595122337341,0.5981432199478149,0.5603264570236206,0.5474164485931396,0.5235568881034851,0.49939221143722534,0.48473435640335083,0.47757968306541443,0.44988545775413513,0.435202419757843,0.43202999234199524,0.41713371872901917,0.4070886969566345,0.3883591592311859,0.3837640583515167,0.36598387360572815,0.34986624121665955,0.3336193859577179,0.33049067854881287,0.3311772048473358,0.3164002299308777,0.30908578634262085,0.2917831838130951,0.3001520037651062,0.29099711775779724,0.2928444445133209,0.26873037219047546,0.2637422978878021,0.25363966822624207,0.2602285146713257,0.24509699642658234,0.24587905406951904,0.23776470124721527,0.23981888592243195,0.22265125811100006,0.21540115773677826,0.2195146083831787,0.22176878154277802,0.21001112461090088,0.2104674130678177,0.19919024407863617,0.19164057075977325,0.19745095074176788,0.18673154711723328,0.19835568964481354,0.1924504190683365,0.17962680757045746,0.17360348999500275,0.17218516767024994,0.17394641041755676,0.16318129003047943,0.16601495444774628,0.16812637448310852,0.16353313624858856,0.15749718248844147,0.1557052880525589,0.1582554578781128,0.15650853514671326,0.15126201510429382,0.1503685712814331,0.1482105553150177,0.1551135778427124,0.1493881493806839,0.1365395337343216,0.14554044604301453,0.1448638141155243,0.14797160029411316,0.1275632083415985,0.12893123924732208,0.13907936215400696,0.13317644596099854,0.13146385550498962,0.12574809789657593,0.12069034576416016,0.12289296835660934,0.1217990592122078,0.11635611951351166,0.10983751714229584,0.12354361265897751,0.11245317757129669],\"yaxis\":\"y\",\"type\":\"scatter\"},{\"hovertemplate\":\"variable=val_accuracy\\u003cbr\\u003eepoch=%{x}\\u003cbr\\u003evalue=%{y}\\u003cextra\\u003e\\u003c\\u002fextra\\u003e\",\"legendgroup\":\"val_accuracy\",\"line\":{\"color\":\"#00cc96\",\"dash\":\"solid\"},\"marker\":{\"symbol\":\"circle\"},\"mode\":\"lines\",\"name\":\"val_accuracy\",\"orientation\":\"v\",\"showlegend\":true,\"x\":[0,1,2,3,4,5,6,7,8,9,10,11,12,13,14,15,16,17,18,19,20,21,22,23,24,25,26,27,28,29,30,31,32,33,34,35,36,37,38,39,40,41,42,43,44,45,46,47,48,49,50,51,52,53,54,55,56,57,58,59,60,61,62,63,64,65,66,67,68,69,70,71,72,73,74,75,76,77,78,79,80,81,82,83,84,85,86,87,88,89,90,91,92,93,94,95,96,97,98,99],\"xaxis\":\"x\",\"y\":[0.43846595287323,0.5300515294075012,0.5718374252319336,0.5981683135032654,0.6422438621520996,0.6685746908187866,0.6960503458976746,0.7172295451164246,0.7510017156600952,0.7550085783004761,0.7630223035812378,0.7784773707389832,0.7830566763877869,0.8042358160018921,0.8151116371154785,0.8162564635276794,0.8317115306854248,0.8374356031417847,0.8437321186065674,0.8517458438873291,0.8568975329399109,0.8643388748168945,0.8689181208610535,0.8677733540534973,0.878649115562439,0.880366325378418,0.880366325378418,0.8860904574394226,0.8843731880187988,0.8889524936676025,0.8946765661239624,0.8975386619567871,0.8986834287643433,0.903835117816925,0.9055523872375488,0.9044075608253479,0.9044075608253479,0.9089868068695068,0.9118489027023315,0.9147109389305115,0.9164281487464905,0.9204350113868713,0.9135661125183105,0.9164281487464905,0.9164281487464905,0.9118489027023315,0.9192901849746704,0.9152833223342896,0.9198626279830933,0.9221522808074951,0.925014317035675,0.9192901849746704,0.9244418740272522,0.9238694906234741,0.929593563079834,0.925014317035675,0.927876353263855,0.9290211796760559,0.9284487962722778,0.9330280423164368,0.9313108325004578,0.9307383894920349,0.9244418740272522,0.929593563079834,0.9301660060882568,0.9341728687286377,0.925014317035675,0.9284487962722778,0.926159143447876,0.9330280423164368,0.9307383894920349,0.9301660060882568,0.9313108325004578,0.9370349049568176,0.9353176951408386,0.9330280423164368,0.9341728687286377,0.9336004853248596,0.9347452521324158,0.9353176951408386,0.9318832159042358,0.9353176951408386,0.9318832159042358,0.9341728687286377,0.9387521743774414,0.9358900785446167,0.9318832159042358,0.9364625215530396,0.9347452521324158,0.9307383894920349,0.9410417675971985,0.9450486302375793,0.9398969411849976,0.9336004853248596,0.9336004853248596,0.9410417675971985,0.9393245577812195,0.9416142106056213,0.9404693841934204,0.9358900785446167],\"yaxis\":\"y\",\"type\":\"scatter\"},{\"hovertemplate\":\"variable=val_loss\\u003cbr\\u003eepoch=%{x}\\u003cbr\\u003evalue=%{y}\\u003cextra\\u003e\\u003c\\u002fextra\\u003e\",\"legendgroup\":\"val_loss\",\"line\":{\"color\":\"#ab63fa\",\"dash\":\"solid\"},\"marker\":{\"symbol\":\"circle\"},\"mode\":\"lines\",\"name\":\"val_loss\",\"orientation\":\"v\",\"showlegend\":true,\"x\":[0,1,2,3,4,5,6,7,8,9,10,11,12,13,14,15,16,17,18,19,20,21,22,23,24,25,26,27,28,29,30,31,32,33,34,35,36,37,38,39,40,41,42,43,44,45,46,47,48,49,50,51,52,53,54,55,56,57,58,59,60,61,62,63,64,65,66,67,68,69,70,71,72,73,74,75,76,77,78,79,80,81,82,83,84,85,86,87,88,89,90,91,92,93,94,95,96,97,98,99],\"xaxis\":\"x\",\"y\":[1.8954495191574097,1.5359421968460083,1.320577621459961,1.2110649347305298,1.0998797416687012,1.0135183334350586,0.9415673613548279,0.8628246188163757,0.8004856109619141,0.7631661295890808,0.7304542660713196,0.6825008392333984,0.6476054787635803,0.6100014448165894,0.5813139081001282,0.546011209487915,0.5239085555076599,0.5192444324493408,0.48792359232902527,0.4778318405151367,0.45314690470695496,0.4337187707424164,0.41192933917045593,0.4092959761619568,0.39644554257392883,0.3715592324733734,0.38648802042007446,0.3667010962963104,0.35359707474708557,0.34109899401664734,0.3402861952781677,0.3402513563632965,0.31698116660118103,0.3115876317024231,0.31875699758529663,0.32283517718315125,0.30892056226730347,0.3025059401988983,0.3078010380268097,0.2823222875595093,0.28812214732170105,0.27173173427581787,0.28000858426094055,0.28083038330078125,0.2924329936504364,0.2954033315181732,0.2852897346019745,0.28211838006973267,0.27444931864738464,0.2672487497329712,0.2833828628063202,0.28258436918258667,0.28776782751083374,0.2645982801914215,0.2695547044277191,0.2603609561920166,0.2637558579444885,0.2684607207775116,0.27689164876937866,0.2646879255771637,0.2554003596305847,0.24767611920833588,0.2694556713104248,0.25296464562416077,0.24601253867149353,0.2612604796886444,0.2720528841018677,0.2580276429653168,0.2694253623485565,0.2583567202091217,0.2752385437488556,0.2754787504673004,0.2594684660434723,0.25568389892578125,0.2480032742023468,0.25322607159614563,0.2610458731651306,0.26049432158470154,0.2683788239955902,0.2625592052936554,0.2684277296066284,0.2544749081134796,0.25617608428001404,0.25009703636169434,0.2510177195072174,0.2534589171409607,0.2536716163158417,0.24652373790740967,0.25361937284469604,0.2688804566860199,0.24779359996318817,0.24567857384681702,0.24968154728412628,0.2650865614414215,0.26192358136177063,0.2420833855867386,0.25560951232910156,0.26089924573898315,0.2693485915660858,0.2604908347129822],\"yaxis\":\"y\",\"type\":\"scatter\"}],                        {\"template\":{\"data\":{\"histogram2dcontour\":[{\"type\":\"histogram2dcontour\",\"colorbar\":{\"outlinewidth\":0,\"ticks\":\"\"},\"colorscale\":[[0.0,\"#0d0887\"],[0.1111111111111111,\"#46039f\"],[0.2222222222222222,\"#7201a8\"],[0.3333333333333333,\"#9c179e\"],[0.4444444444444444,\"#bd3786\"],[0.5555555555555556,\"#d8576b\"],[0.6666666666666666,\"#ed7953\"],[0.7777777777777778,\"#fb9f3a\"],[0.8888888888888888,\"#fdca26\"],[1.0,\"#f0f921\"]]}],\"choropleth\":[{\"type\":\"choropleth\",\"colorbar\":{\"outlinewidth\":0,\"ticks\":\"\"}}],\"histogram2d\":[{\"type\":\"histogram2d\",\"colorbar\":{\"outlinewidth\":0,\"ticks\":\"\"},\"colorscale\":[[0.0,\"#0d0887\"],[0.1111111111111111,\"#46039f\"],[0.2222222222222222,\"#7201a8\"],[0.3333333333333333,\"#9c179e\"],[0.4444444444444444,\"#bd3786\"],[0.5555555555555556,\"#d8576b\"],[0.6666666666666666,\"#ed7953\"],[0.7777777777777778,\"#fb9f3a\"],[0.8888888888888888,\"#fdca26\"],[1.0,\"#f0f921\"]]}],\"heatmap\":[{\"type\":\"heatmap\",\"colorbar\":{\"outlinewidth\":0,\"ticks\":\"\"},\"colorscale\":[[0.0,\"#0d0887\"],[0.1111111111111111,\"#46039f\"],[0.2222222222222222,\"#7201a8\"],[0.3333333333333333,\"#9c179e\"],[0.4444444444444444,\"#bd3786\"],[0.5555555555555556,\"#d8576b\"],[0.6666666666666666,\"#ed7953\"],[0.7777777777777778,\"#fb9f3a\"],[0.8888888888888888,\"#fdca26\"],[1.0,\"#f0f921\"]]}],\"heatmapgl\":[{\"type\":\"heatmapgl\",\"colorbar\":{\"outlinewidth\":0,\"ticks\":\"\"},\"colorscale\":[[0.0,\"#0d0887\"],[0.1111111111111111,\"#46039f\"],[0.2222222222222222,\"#7201a8\"],[0.3333333333333333,\"#9c179e\"],[0.4444444444444444,\"#bd3786\"],[0.5555555555555556,\"#d8576b\"],[0.6666666666666666,\"#ed7953\"],[0.7777777777777778,\"#fb9f3a\"],[0.8888888888888888,\"#fdca26\"],[1.0,\"#f0f921\"]]}],\"contourcarpet\":[{\"type\":\"contourcarpet\",\"colorbar\":{\"outlinewidth\":0,\"ticks\":\"\"}}],\"contour\":[{\"type\":\"contour\",\"colorbar\":{\"outlinewidth\":0,\"ticks\":\"\"},\"colorscale\":[[0.0,\"#0d0887\"],[0.1111111111111111,\"#46039f\"],[0.2222222222222222,\"#7201a8\"],[0.3333333333333333,\"#9c179e\"],[0.4444444444444444,\"#bd3786\"],[0.5555555555555556,\"#d8576b\"],[0.6666666666666666,\"#ed7953\"],[0.7777777777777778,\"#fb9f3a\"],[0.8888888888888888,\"#fdca26\"],[1.0,\"#f0f921\"]]}],\"surface\":[{\"type\":\"surface\",\"colorbar\":{\"outlinewidth\":0,\"ticks\":\"\"},\"colorscale\":[[0.0,\"#0d0887\"],[0.1111111111111111,\"#46039f\"],[0.2222222222222222,\"#7201a8\"],[0.3333333333333333,\"#9c179e\"],[0.4444444444444444,\"#bd3786\"],[0.5555555555555556,\"#d8576b\"],[0.6666666666666666,\"#ed7953\"],[0.7777777777777778,\"#fb9f3a\"],[0.8888888888888888,\"#fdca26\"],[1.0,\"#f0f921\"]]}],\"mesh3d\":[{\"type\":\"mesh3d\",\"colorbar\":{\"outlinewidth\":0,\"ticks\":\"\"}}],\"scatter\":[{\"fillpattern\":{\"fillmode\":\"overlay\",\"size\":10,\"solidity\":0.2},\"type\":\"scatter\"}],\"parcoords\":[{\"type\":\"parcoords\",\"line\":{\"colorbar\":{\"outlinewidth\":0,\"ticks\":\"\"}}}],\"scatterpolargl\":[{\"type\":\"scatterpolargl\",\"marker\":{\"colorbar\":{\"outlinewidth\":0,\"ticks\":\"\"}}}],\"bar\":[{\"error_x\":{\"color\":\"#2a3f5f\"},\"error_y\":{\"color\":\"#2a3f5f\"},\"marker\":{\"line\":{\"color\":\"#E5ECF6\",\"width\":0.5},\"pattern\":{\"fillmode\":\"overlay\",\"size\":10,\"solidity\":0.2}},\"type\":\"bar\"}],\"scattergeo\":[{\"type\":\"scattergeo\",\"marker\":{\"colorbar\":{\"outlinewidth\":0,\"ticks\":\"\"}}}],\"scatterpolar\":[{\"type\":\"scatterpolar\",\"marker\":{\"colorbar\":{\"outlinewidth\":0,\"ticks\":\"\"}}}],\"histogram\":[{\"marker\":{\"pattern\":{\"fillmode\":\"overlay\",\"size\":10,\"solidity\":0.2}},\"type\":\"histogram\"}],\"scattergl\":[{\"type\":\"scattergl\",\"marker\":{\"colorbar\":{\"outlinewidth\":0,\"ticks\":\"\"}}}],\"scatter3d\":[{\"type\":\"scatter3d\",\"line\":{\"colorbar\":{\"outlinewidth\":0,\"ticks\":\"\"}},\"marker\":{\"colorbar\":{\"outlinewidth\":0,\"ticks\":\"\"}}}],\"scattermapbox\":[{\"type\":\"scattermapbox\",\"marker\":{\"colorbar\":{\"outlinewidth\":0,\"ticks\":\"\"}}}],\"scatterternary\":[{\"type\":\"scatterternary\",\"marker\":{\"colorbar\":{\"outlinewidth\":0,\"ticks\":\"\"}}}],\"scattercarpet\":[{\"type\":\"scattercarpet\",\"marker\":{\"colorbar\":{\"outlinewidth\":0,\"ticks\":\"\"}}}],\"carpet\":[{\"aaxis\":{\"endlinecolor\":\"#2a3f5f\",\"gridcolor\":\"white\",\"linecolor\":\"white\",\"minorgridcolor\":\"white\",\"startlinecolor\":\"#2a3f5f\"},\"baxis\":{\"endlinecolor\":\"#2a3f5f\",\"gridcolor\":\"white\",\"linecolor\":\"white\",\"minorgridcolor\":\"white\",\"startlinecolor\":\"#2a3f5f\"},\"type\":\"carpet\"}],\"table\":[{\"cells\":{\"fill\":{\"color\":\"#EBF0F8\"},\"line\":{\"color\":\"white\"}},\"header\":{\"fill\":{\"color\":\"#C8D4E3\"},\"line\":{\"color\":\"white\"}},\"type\":\"table\"}],\"barpolar\":[{\"marker\":{\"line\":{\"color\":\"#E5ECF6\",\"width\":0.5},\"pattern\":{\"fillmode\":\"overlay\",\"size\":10,\"solidity\":0.2}},\"type\":\"barpolar\"}],\"pie\":[{\"automargin\":true,\"type\":\"pie\"}]},\"layout\":{\"autotypenumbers\":\"strict\",\"colorway\":[\"#636efa\",\"#EF553B\",\"#00cc96\",\"#ab63fa\",\"#FFA15A\",\"#19d3f3\",\"#FF6692\",\"#B6E880\",\"#FF97FF\",\"#FECB52\"],\"font\":{\"color\":\"#2a3f5f\"},\"hovermode\":\"closest\",\"hoverlabel\":{\"align\":\"left\"},\"paper_bgcolor\":\"white\",\"plot_bgcolor\":\"#E5ECF6\",\"polar\":{\"bgcolor\":\"#E5ECF6\",\"angularaxis\":{\"gridcolor\":\"white\",\"linecolor\":\"white\",\"ticks\":\"\"},\"radialaxis\":{\"gridcolor\":\"white\",\"linecolor\":\"white\",\"ticks\":\"\"}},\"ternary\":{\"bgcolor\":\"#E5ECF6\",\"aaxis\":{\"gridcolor\":\"white\",\"linecolor\":\"white\",\"ticks\":\"\"},\"baxis\":{\"gridcolor\":\"white\",\"linecolor\":\"white\",\"ticks\":\"\"},\"caxis\":{\"gridcolor\":\"white\",\"linecolor\":\"white\",\"ticks\":\"\"}},\"coloraxis\":{\"colorbar\":{\"outlinewidth\":0,\"ticks\":\"\"}},\"colorscale\":{\"sequential\":[[0.0,\"#0d0887\"],[0.1111111111111111,\"#46039f\"],[0.2222222222222222,\"#7201a8\"],[0.3333333333333333,\"#9c179e\"],[0.4444444444444444,\"#bd3786\"],[0.5555555555555556,\"#d8576b\"],[0.6666666666666666,\"#ed7953\"],[0.7777777777777778,\"#fb9f3a\"],[0.8888888888888888,\"#fdca26\"],[1.0,\"#f0f921\"]],\"sequentialminus\":[[0.0,\"#0d0887\"],[0.1111111111111111,\"#46039f\"],[0.2222222222222222,\"#7201a8\"],[0.3333333333333333,\"#9c179e\"],[0.4444444444444444,\"#bd3786\"],[0.5555555555555556,\"#d8576b\"],[0.6666666666666666,\"#ed7953\"],[0.7777777777777778,\"#fb9f3a\"],[0.8888888888888888,\"#fdca26\"],[1.0,\"#f0f921\"]],\"diverging\":[[0,\"#8e0152\"],[0.1,\"#c51b7d\"],[0.2,\"#de77ae\"],[0.3,\"#f1b6da\"],[0.4,\"#fde0ef\"],[0.5,\"#f7f7f7\"],[0.6,\"#e6f5d0\"],[0.7,\"#b8e186\"],[0.8,\"#7fbc41\"],[0.9,\"#4d9221\"],[1,\"#276419\"]]},\"xaxis\":{\"gridcolor\":\"white\",\"linecolor\":\"white\",\"ticks\":\"\",\"title\":{\"standoff\":15},\"zerolinecolor\":\"white\",\"automargin\":true,\"zerolinewidth\":2},\"yaxis\":{\"gridcolor\":\"white\",\"linecolor\":\"white\",\"ticks\":\"\",\"title\":{\"standoff\":15},\"zerolinecolor\":\"white\",\"automargin\":true,\"zerolinewidth\":2},\"scene\":{\"xaxis\":{\"backgroundcolor\":\"#E5ECF6\",\"gridcolor\":\"white\",\"linecolor\":\"white\",\"showbackground\":true,\"ticks\":\"\",\"zerolinecolor\":\"white\",\"gridwidth\":2},\"yaxis\":{\"backgroundcolor\":\"#E5ECF6\",\"gridcolor\":\"white\",\"linecolor\":\"white\",\"showbackground\":true,\"ticks\":\"\",\"zerolinecolor\":\"white\",\"gridwidth\":2},\"zaxis\":{\"backgroundcolor\":\"#E5ECF6\",\"gridcolor\":\"white\",\"linecolor\":\"white\",\"showbackground\":true,\"ticks\":\"\",\"zerolinecolor\":\"white\",\"gridwidth\":2}},\"shapedefaults\":{\"line\":{\"color\":\"#2a3f5f\"}},\"annotationdefaults\":{\"arrowcolor\":\"#2a3f5f\",\"arrowhead\":0,\"arrowwidth\":1},\"geo\":{\"bgcolor\":\"white\",\"landcolor\":\"#E5ECF6\",\"subunitcolor\":\"white\",\"showland\":true,\"showlakes\":true,\"lakecolor\":\"white\"},\"title\":{\"x\":0.05},\"mapbox\":{\"style\":\"light\"}}},\"xaxis\":{\"anchor\":\"y\",\"domain\":[0.0,1.0],\"title\":{\"text\":\"epoch\"}},\"yaxis\":{\"anchor\":\"x\",\"domain\":[0.0,1.0],\"title\":{\"text\":\"value\"}},\"legend\":{\"title\":{\"text\":\"variable\"},\"tracegroupgap\":0},\"margin\":{\"t\":60}},                        {\"responsive\": true}                    ).then(function(){\n",
       "                            \n",
       "var gd = document.getElementById('cc0f3acc-efe7-4d47-8afc-02145308f276');\n",
       "var x = new MutationObserver(function (mutations, observer) {{\n",
       "        var display = window.getComputedStyle(gd).display;\n",
       "        if (!display || display === 'none') {{\n",
       "            console.log([gd, 'removed!']);\n",
       "            Plotly.purge(gd);\n",
       "            observer.disconnect();\n",
       "        }}\n",
       "}});\n",
       "\n",
       "// Listen for the removal of the full notebook cells\n",
       "var notebookContainer = gd.closest('#notebook-container');\n",
       "if (notebookContainer) {{\n",
       "    x.observe(notebookContainer, {childList: true});\n",
       "}}\n",
       "\n",
       "// Listen for the clearing of the current output cell\n",
       "var outputEl = gd.closest('.output');\n",
       "if (outputEl) {{\n",
       "    x.observe(outputEl, {childList: true});\n",
       "}}\n",
       "\n",
       "                        })                };                });            </script>        </div>"
      ]
     },
     "metadata": {},
     "output_type": "display_data"
    }
   ],
   "source": [
    "from plotly import express\n",
    "express.line(data_frame=pd.DataFrame(data=history.history,).reset_index().rename(columns={'index': 'epoch'}), x='epoch', y=list(history.history.keys()))"
   ]
  },
  {
   "cell_type": "code",
   "execution_count": 10,
   "id": "5d6e308b",
   "metadata": {
    "execution": {
     "iopub.execute_input": "2024-04-06T19:28:24.202568Z",
     "iopub.status.busy": "2024-04-06T19:28:24.202078Z",
     "iopub.status.idle": "2024-04-06T19:28:25.054959Z",
     "shell.execute_reply": "2024-04-06T19:28:25.053658Z"
    },
    "papermill": {
     "duration": 0.866185,
     "end_time": "2024-04-06T19:28:25.057715",
     "exception": false,
     "start_time": "2024-04-06T19:28:24.191530",
     "status": "completed"
    },
    "tags": []
   },
   "outputs": [
    {
     "name": "stdout",
     "output_type": "stream",
     "text": [
      "\u001b[1m1/1\u001b[0m \u001b[32m━━━━━━━━━━━━━━━━━━━━\u001b[0m\u001b[37m\u001b[0m \u001b[1m0s\u001b[0m 27ms/step\n",
      "\u001b[1m1/1\u001b[0m \u001b[32m━━━━━━━━━━━━━━━━━━━━\u001b[0m\u001b[37m\u001b[0m \u001b[1m0s\u001b[0m 36ms/step\n",
      "\u001b[1m1/1\u001b[0m \u001b[32m━━━━━━━━━━━━━━━━━━━━\u001b[0m\u001b[37m\u001b[0m \u001b[1m0s\u001b[0m 29ms/step\n",
      "\u001b[1m1/1\u001b[0m \u001b[32m━━━━━━━━━━━━━━━━━━━━\u001b[0m\u001b[37m\u001b[0m \u001b[1m0s\u001b[0m 28ms/step\n",
      "\u001b[1m1/1\u001b[0m \u001b[32m━━━━━━━━━━━━━━━━━━━━\u001b[0m\u001b[37m\u001b[0m \u001b[1m0s\u001b[0m 31ms/step\n"
     ]
    },
    {
     "data": {
      "text/plain": [
       "{'/kaggle/input/urbansound8k/fold1/101415-3-0-2.wav': 'dog_bark',\n",
       " '/kaggle/input/urbansound8k/fold1/101415-3-0-3.wav': 'dog_bark',\n",
       " '/kaggle/input/urbansound8k/fold1/102305-6-0-0.wav': 'gun_shot',\n",
       " '/kaggle/input/urbansound8k/fold1/103074-7-0-2.wav': 'jackhammer',\n",
       " '/kaggle/input/urbansound8k/fold1/103074-7-4-3.wav': 'jackhammer'}"
      ]
     },
     "execution_count": 10,
     "metadata": {},
     "output_type": "execute_result"
    }
   ],
   "source": [
    "new_predictions = {\n",
    "    file_path: make_predictions(model, encoder, file_path) for file_path, true_label in test_files\n",
    "}\n",
    "new_predictions"
   ]
  }
 ],
 "metadata": {
  "kaggle": {
   "accelerator": "none",
   "dataSources": [
    {
     "datasetId": 500970,
     "sourceId": 928025,
     "sourceType": "datasetVersion"
    }
   ],
   "dockerImageVersionId": 30673,
   "isGpuEnabled": false,
   "isInternetEnabled": true,
   "language": "python",
   "sourceType": "notebook"
  },
  "kernelspec": {
   "display_name": "Python 3",
   "language": "python",
   "name": "python3"
  },
  "language_info": {
   "codemirror_mode": {
    "name": "ipython",
    "version": 3
   },
   "file_extension": ".py",
   "mimetype": "text/x-python",
   "name": "python",
   "nbconvert_exporter": "python",
   "pygments_lexer": "ipython3",
   "version": "3.10.13"
  },
  "papermill": {
   "default_parameters": {},
   "duration": 647.045695,
   "end_time": "2024-04-06T19:28:27.838691",
   "environment_variables": {},
   "exception": null,
   "input_path": "__notebook__.ipynb",
   "output_path": "__notebook__.ipynb",
   "parameters": {},
   "start_time": "2024-04-06T19:17:40.792996",
   "version": "2.5.0"
  }
 },
 "nbformat": 4,
 "nbformat_minor": 5
}
