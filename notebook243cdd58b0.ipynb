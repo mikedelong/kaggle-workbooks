{
 "cells": [
  {
   "cell_type": "markdown",
   "id": "20167ef6",
   "metadata": {
    "papermill": {
     "duration": 0.005553,
     "end_time": "2024-04-06T19:46:14.904438",
     "exception": false,
     "start_time": "2024-04-06T19:46:14.898885",
     "status": "completed"
    },
    "tags": []
   },
   "source": [
    "This demo as been adapted from https://wandb.ai/mostafaibrahim17/ml-articles/reports/An-Introduction-to-Audio-Classification-with-Keras--Vmlldzo0MDQzNDUy"
   ]
  },
  {
   "cell_type": "code",
   "execution_count": 1,
   "id": "00841125",
   "metadata": {
    "_cell_guid": "b1076dfc-b9ad-4769-8c92-a6c4dae69d19",
    "_uuid": "8f2839f25d086af736a60e9eeb907d3b93b6e0e5",
    "execution": {
     "iopub.execute_input": "2024-04-06T19:46:14.917602Z",
     "iopub.status.busy": "2024-04-06T19:46:14.916656Z",
     "iopub.status.idle": "2024-04-06T19:54:37.209194Z",
     "shell.execute_reply": "2024-04-06T19:54:37.206449Z"
    },
    "papermill": {
     "duration": 502.315137,
     "end_time": "2024-04-06T19:54:37.224940",
     "exception": false,
     "start_time": "2024-04-06T19:46:14.909803",
     "status": "completed"
    },
    "tags": []
   },
   "outputs": [
    {
     "name": "stdout",
     "output_type": "stream",
     "text": [
      "0:01:12.487814: row: 1000 file: 122690-6-0-0.wav\n",
      "0:02:05.882046: row: 2000 file: 147926-0-0-44.wav\n",
      "0:03:02.847170: row: 3000 file: 162434-6-2-0.wav\n"
     ]
    },
    {
     "name": "stderr",
     "output_type": "stream",
     "text": [
      "/opt/conda/lib/python3.10/site-packages/librosa/core/spectrum.py:257: UserWarning: n_fft=2048 is too large for input signal of length=1323\n",
      "  warnings.warn(\n"
     ]
    },
    {
     "name": "stdout",
     "output_type": "stream",
     "text": [
      "0:03:59.252271: row: 4000 file: 178260-7-1-9.wav\n",
      "0:05:00.959667: row: 5000 file: 195969-0-0-19.wav\n",
      "0:05:56.180728: row: 6000 file: 30204-0-0-11.wav\n",
      "0:06:47.442029: row: 7000 file: 60605-9-0-90.wav\n",
      "0:07:42.720960: row: 8000 file: 77751-4-9-1.wav\n"
     ]
    },
    {
     "name": "stderr",
     "output_type": "stream",
     "text": [
      "/opt/conda/lib/python3.10/site-packages/librosa/core/spectrum.py:257: UserWarning: n_fft=2048 is too large for input signal of length=1103\n",
      "  warnings.warn(\n",
      "/opt/conda/lib/python3.10/site-packages/librosa/core/spectrum.py:257: UserWarning: n_fft=2048 is too large for input signal of length=1523\n",
      "  warnings.warn(\n"
     ]
    },
    {
     "name": "stdout",
     "output_type": "stream",
     "text": [
      "0:08:19.892232 data load complete\n"
     ]
    }
   ],
   "source": [
    "import arrow\n",
    "import os\n",
    "import numpy as np\n",
    "import pandas as pd\n",
    "import librosa\n",
    "from sklearn.model_selection import train_test_split\n",
    "\n",
    "DATA = '/kaggle/input/urbansound8k'\n",
    "METADATA = '/kaggle/input/urbansound8k/UrbanSound8K.csv'\n",
    "SAMPLE_RATE = 22050\n",
    "\n",
    "\n",
    "def load_data(data_path, metadata_path):\n",
    "    features = []\n",
    "    labels = []\n",
    "    metadata = pd.read_csv(metadata_path)\n",
    "\n",
    "    for index, row in metadata.iterrows():\n",
    "        file_path = os.path.join(data_path, 'fold{}'.format(row['fold']), '{}'.format(row['slice_file_name']))\n",
    "        audio, sample_rate = librosa.load(file_path, sr=SAMPLE_RATE)\n",
    "        mfccs = librosa.feature.mfcc(y=audio, sr=SAMPLE_RATE, n_mfcc=40)\n",
    "        mfccs_scaled = np.mean(mfccs.T, axis=0)\n",
    "        features.append(mfccs_scaled)\n",
    "        labels.append(row['class'])\n",
    "        if index > 0 and index % 1000 == 0:\n",
    "            print('{}: row: {} file: {}'.format(arrow.now() - time_start, index, row['slice_file_name']))\n",
    "    return np.array(features), np.array(labels)\n",
    "\n",
    "time_start = arrow.now()\n",
    "features, labels = load_data(data_path=DATA, metadata_path=METADATA)\n",
    "print('{} data load complete'.format(arrow.now() - time_start))"
   ]
  },
  {
   "cell_type": "code",
   "execution_count": 2,
   "id": "c390e452",
   "metadata": {
    "execution": {
     "iopub.execute_input": "2024-04-06T19:54:37.255769Z",
     "iopub.status.busy": "2024-04-06T19:54:37.252951Z",
     "iopub.status.idle": "2024-04-06T19:54:52.265514Z",
     "shell.execute_reply": "2024-04-06T19:54:52.264215Z"
    },
    "papermill": {
     "duration": 15.031971,
     "end_time": "2024-04-06T19:54:52.268718",
     "exception": false,
     "start_time": "2024-04-06T19:54:37.236747",
     "status": "completed"
    },
    "tags": []
   },
   "outputs": [
    {
     "name": "stderr",
     "output_type": "stream",
     "text": [
      "2024-04-06 19:54:39.663739: E external/local_xla/xla/stream_executor/cuda/cuda_dnn.cc:9261] Unable to register cuDNN factory: Attempting to register factory for plugin cuDNN when one has already been registered\n",
      "2024-04-06 19:54:39.663944: E external/local_xla/xla/stream_executor/cuda/cuda_fft.cc:607] Unable to register cuFFT factory: Attempting to register factory for plugin cuFFT when one has already been registered\n",
      "2024-04-06 19:54:39.824277: E external/local_xla/xla/stream_executor/cuda/cuda_blas.cc:1515] Unable to register cuBLAS factory: Attempting to register factory for plugin cuBLAS when one has already been registered\n"
     ]
    }
   ],
   "source": [
    "from keras.utils import to_categorical\n",
    "from sklearn.preprocessing import LabelEncoder\n",
    "\n",
    "encoder = LabelEncoder()\n",
    "labels_onehot = to_categorical(encoder.fit_transform(labels))\n"
   ]
  },
  {
   "cell_type": "code",
   "execution_count": 3,
   "id": "e5ecf13a",
   "metadata": {
    "execution": {
     "iopub.execute_input": "2024-04-06T19:54:52.306993Z",
     "iopub.status.busy": "2024-04-06T19:54:52.305539Z",
     "iopub.status.idle": "2024-04-06T19:54:52.464503Z",
     "shell.execute_reply": "2024-04-06T19:54:52.463212Z"
    },
    "papermill": {
     "duration": 0.176714,
     "end_time": "2024-04-06T19:54:52.467787",
     "exception": false,
     "start_time": "2024-04-06T19:54:52.291073",
     "status": "completed"
    },
    "tags": []
   },
   "outputs": [],
   "source": [
    "# Split the data into training and testing sets\n",
    "X_train, X_test, y_train, y_test = train_test_split(features, labels_onehot, test_size=0.2, random_state=42, stratify=labels_onehot)\n"
   ]
  },
  {
   "cell_type": "code",
   "execution_count": 4,
   "id": "f35a9a48",
   "metadata": {
    "execution": {
     "iopub.execute_input": "2024-04-06T19:54:52.482045Z",
     "iopub.status.busy": "2024-04-06T19:54:52.481060Z",
     "iopub.status.idle": "2024-04-06T19:54:52.706254Z",
     "shell.execute_reply": "2024-04-06T19:54:52.704551Z"
    },
    "papermill": {
     "duration": 0.235014,
     "end_time": "2024-04-06T19:54:52.708834",
     "exception": false,
     "start_time": "2024-04-06T19:54:52.473820",
     "status": "completed"
    },
    "tags": []
   },
   "outputs": [
    {
     "data": {
      "text/html": [
       "<pre style=\"white-space:pre;overflow-x:auto;line-height:normal;font-family:Menlo,'DejaVu Sans Mono',consolas,'Courier New',monospace\"><span style=\"font-weight: bold\">Model: \"sequential\"</span>\n",
       "</pre>\n"
      ],
      "text/plain": [
       "\u001b[1mModel: \"sequential\"\u001b[0m\n"
      ]
     },
     "metadata": {},
     "output_type": "display_data"
    },
    {
     "data": {
      "text/html": [
       "<pre style=\"white-space:pre;overflow-x:auto;line-height:normal;font-family:Menlo,'DejaVu Sans Mono',consolas,'Courier New',monospace\">┏━━━━━━━━━━━━━━━━━━━━━━━━━━━━━━━━━┳━━━━━━━━━━━━━━━━━━━━━━━━┳━━━━━━━━━━━━━━━┓\n",
       "┃<span style=\"font-weight: bold\"> Layer (type)                    </span>┃<span style=\"font-weight: bold\"> Output Shape           </span>┃<span style=\"font-weight: bold\">       Param # </span>┃\n",
       "┡━━━━━━━━━━━━━━━━━━━━━━━━━━━━━━━━━╇━━━━━━━━━━━━━━━━━━━━━━━━╇━━━━━━━━━━━━━━━┩\n",
       "│ conv1d (<span style=\"color: #0087ff; text-decoration-color: #0087ff\">Conv1D</span>)                 │ (<span style=\"color: #00d7ff; text-decoration-color: #00d7ff\">None</span>, <span style=\"color: #00af00; text-decoration-color: #00af00\">40</span>, <span style=\"color: #00af00; text-decoration-color: #00af00\">64</span>)         │           <span style=\"color: #00af00; text-decoration-color: #00af00\">256</span> │\n",
       "├─────────────────────────────────┼────────────────────────┼───────────────┤\n",
       "│ max_pooling1d (<span style=\"color: #0087ff; text-decoration-color: #0087ff\">MaxPooling1D</span>)    │ (<span style=\"color: #00d7ff; text-decoration-color: #00d7ff\">None</span>, <span style=\"color: #00af00; text-decoration-color: #00af00\">20</span>, <span style=\"color: #00af00; text-decoration-color: #00af00\">64</span>)         │             <span style=\"color: #00af00; text-decoration-color: #00af00\">0</span> │\n",
       "├─────────────────────────────────┼────────────────────────┼───────────────┤\n",
       "│ dropout (<span style=\"color: #0087ff; text-decoration-color: #0087ff\">Dropout</span>)               │ (<span style=\"color: #00d7ff; text-decoration-color: #00d7ff\">None</span>, <span style=\"color: #00af00; text-decoration-color: #00af00\">20</span>, <span style=\"color: #00af00; text-decoration-color: #00af00\">64</span>)         │             <span style=\"color: #00af00; text-decoration-color: #00af00\">0</span> │\n",
       "├─────────────────────────────────┼────────────────────────┼───────────────┤\n",
       "│ conv1d_1 (<span style=\"color: #0087ff; text-decoration-color: #0087ff\">Conv1D</span>)               │ (<span style=\"color: #00d7ff; text-decoration-color: #00d7ff\">None</span>, <span style=\"color: #00af00; text-decoration-color: #00af00\">20</span>, <span style=\"color: #00af00; text-decoration-color: #00af00\">128</span>)        │        <span style=\"color: #00af00; text-decoration-color: #00af00\">24,704</span> │\n",
       "├─────────────────────────────────┼────────────────────────┼───────────────┤\n",
       "│ max_pooling1d_1 (<span style=\"color: #0087ff; text-decoration-color: #0087ff\">MaxPooling1D</span>)  │ (<span style=\"color: #00d7ff; text-decoration-color: #00d7ff\">None</span>, <span style=\"color: #00af00; text-decoration-color: #00af00\">10</span>, <span style=\"color: #00af00; text-decoration-color: #00af00\">128</span>)        │             <span style=\"color: #00af00; text-decoration-color: #00af00\">0</span> │\n",
       "├─────────────────────────────────┼────────────────────────┼───────────────┤\n",
       "│ dropout_1 (<span style=\"color: #0087ff; text-decoration-color: #0087ff\">Dropout</span>)             │ (<span style=\"color: #00d7ff; text-decoration-color: #00d7ff\">None</span>, <span style=\"color: #00af00; text-decoration-color: #00af00\">10</span>, <span style=\"color: #00af00; text-decoration-color: #00af00\">128</span>)        │             <span style=\"color: #00af00; text-decoration-color: #00af00\">0</span> │\n",
       "├─────────────────────────────────┼────────────────────────┼───────────────┤\n",
       "│ flatten (<span style=\"color: #0087ff; text-decoration-color: #0087ff\">Flatten</span>)               │ (<span style=\"color: #00d7ff; text-decoration-color: #00d7ff\">None</span>, <span style=\"color: #00af00; text-decoration-color: #00af00\">1280</span>)           │             <span style=\"color: #00af00; text-decoration-color: #00af00\">0</span> │\n",
       "├─────────────────────────────────┼────────────────────────┼───────────────┤\n",
       "│ dense (<span style=\"color: #0087ff; text-decoration-color: #0087ff\">Dense</span>)                   │ (<span style=\"color: #00d7ff; text-decoration-color: #00d7ff\">None</span>, <span style=\"color: #00af00; text-decoration-color: #00af00\">512</span>)            │       <span style=\"color: #00af00; text-decoration-color: #00af00\">655,872</span> │\n",
       "├─────────────────────────────────┼────────────────────────┼───────────────┤\n",
       "│ dropout_2 (<span style=\"color: #0087ff; text-decoration-color: #0087ff\">Dropout</span>)             │ (<span style=\"color: #00d7ff; text-decoration-color: #00d7ff\">None</span>, <span style=\"color: #00af00; text-decoration-color: #00af00\">512</span>)            │             <span style=\"color: #00af00; text-decoration-color: #00af00\">0</span> │\n",
       "├─────────────────────────────────┼────────────────────────┼───────────────┤\n",
       "│ dense_1 (<span style=\"color: #0087ff; text-decoration-color: #0087ff\">Dense</span>)                 │ (<span style=\"color: #00d7ff; text-decoration-color: #00d7ff\">None</span>, <span style=\"color: #00af00; text-decoration-color: #00af00\">10</span>)             │         <span style=\"color: #00af00; text-decoration-color: #00af00\">5,130</span> │\n",
       "└─────────────────────────────────┴────────────────────────┴───────────────┘\n",
       "</pre>\n"
      ],
      "text/plain": [
       "┏━━━━━━━━━━━━━━━━━━━━━━━━━━━━━━━━━┳━━━━━━━━━━━━━━━━━━━━━━━━┳━━━━━━━━━━━━━━━┓\n",
       "┃\u001b[1m \u001b[0m\u001b[1mLayer (type)                   \u001b[0m\u001b[1m \u001b[0m┃\u001b[1m \u001b[0m\u001b[1mOutput Shape          \u001b[0m\u001b[1m \u001b[0m┃\u001b[1m \u001b[0m\u001b[1m      Param #\u001b[0m\u001b[1m \u001b[0m┃\n",
       "┡━━━━━━━━━━━━━━━━━━━━━━━━━━━━━━━━━╇━━━━━━━━━━━━━━━━━━━━━━━━╇━━━━━━━━━━━━━━━┩\n",
       "│ conv1d (\u001b[38;5;33mConv1D\u001b[0m)                 │ (\u001b[38;5;45mNone\u001b[0m, \u001b[38;5;34m40\u001b[0m, \u001b[38;5;34m64\u001b[0m)         │           \u001b[38;5;34m256\u001b[0m │\n",
       "├─────────────────────────────────┼────────────────────────┼───────────────┤\n",
       "│ max_pooling1d (\u001b[38;5;33mMaxPooling1D\u001b[0m)    │ (\u001b[38;5;45mNone\u001b[0m, \u001b[38;5;34m20\u001b[0m, \u001b[38;5;34m64\u001b[0m)         │             \u001b[38;5;34m0\u001b[0m │\n",
       "├─────────────────────────────────┼────────────────────────┼───────────────┤\n",
       "│ dropout (\u001b[38;5;33mDropout\u001b[0m)               │ (\u001b[38;5;45mNone\u001b[0m, \u001b[38;5;34m20\u001b[0m, \u001b[38;5;34m64\u001b[0m)         │             \u001b[38;5;34m0\u001b[0m │\n",
       "├─────────────────────────────────┼────────────────────────┼───────────────┤\n",
       "│ conv1d_1 (\u001b[38;5;33mConv1D\u001b[0m)               │ (\u001b[38;5;45mNone\u001b[0m, \u001b[38;5;34m20\u001b[0m, \u001b[38;5;34m128\u001b[0m)        │        \u001b[38;5;34m24,704\u001b[0m │\n",
       "├─────────────────────────────────┼────────────────────────┼───────────────┤\n",
       "│ max_pooling1d_1 (\u001b[38;5;33mMaxPooling1D\u001b[0m)  │ (\u001b[38;5;45mNone\u001b[0m, \u001b[38;5;34m10\u001b[0m, \u001b[38;5;34m128\u001b[0m)        │             \u001b[38;5;34m0\u001b[0m │\n",
       "├─────────────────────────────────┼────────────────────────┼───────────────┤\n",
       "│ dropout_1 (\u001b[38;5;33mDropout\u001b[0m)             │ (\u001b[38;5;45mNone\u001b[0m, \u001b[38;5;34m10\u001b[0m, \u001b[38;5;34m128\u001b[0m)        │             \u001b[38;5;34m0\u001b[0m │\n",
       "├─────────────────────────────────┼────────────────────────┼───────────────┤\n",
       "│ flatten (\u001b[38;5;33mFlatten\u001b[0m)               │ (\u001b[38;5;45mNone\u001b[0m, \u001b[38;5;34m1280\u001b[0m)           │             \u001b[38;5;34m0\u001b[0m │\n",
       "├─────────────────────────────────┼────────────────────────┼───────────────┤\n",
       "│ dense (\u001b[38;5;33mDense\u001b[0m)                   │ (\u001b[38;5;45mNone\u001b[0m, \u001b[38;5;34m512\u001b[0m)            │       \u001b[38;5;34m655,872\u001b[0m │\n",
       "├─────────────────────────────────┼────────────────────────┼───────────────┤\n",
       "│ dropout_2 (\u001b[38;5;33mDropout\u001b[0m)             │ (\u001b[38;5;45mNone\u001b[0m, \u001b[38;5;34m512\u001b[0m)            │             \u001b[38;5;34m0\u001b[0m │\n",
       "├─────────────────────────────────┼────────────────────────┼───────────────┤\n",
       "│ dense_1 (\u001b[38;5;33mDense\u001b[0m)                 │ (\u001b[38;5;45mNone\u001b[0m, \u001b[38;5;34m10\u001b[0m)             │         \u001b[38;5;34m5,130\u001b[0m │\n",
       "└─────────────────────────────────┴────────────────────────┴───────────────┘\n"
      ]
     },
     "metadata": {},
     "output_type": "display_data"
    },
    {
     "data": {
      "text/html": [
       "<pre style=\"white-space:pre;overflow-x:auto;line-height:normal;font-family:Menlo,'DejaVu Sans Mono',consolas,'Courier New',monospace\"><span style=\"font-weight: bold\"> Total params: </span><span style=\"color: #00af00; text-decoration-color: #00af00\">685,962</span> (2.62 MB)\n",
       "</pre>\n"
      ],
      "text/plain": [
       "\u001b[1m Total params: \u001b[0m\u001b[38;5;34m685,962\u001b[0m (2.62 MB)\n"
      ]
     },
     "metadata": {},
     "output_type": "display_data"
    },
    {
     "data": {
      "text/html": [
       "<pre style=\"white-space:pre;overflow-x:auto;line-height:normal;font-family:Menlo,'DejaVu Sans Mono',consolas,'Courier New',monospace\"><span style=\"font-weight: bold\"> Trainable params: </span><span style=\"color: #00af00; text-decoration-color: #00af00\">685,962</span> (2.62 MB)\n",
       "</pre>\n"
      ],
      "text/plain": [
       "\u001b[1m Trainable params: \u001b[0m\u001b[38;5;34m685,962\u001b[0m (2.62 MB)\n"
      ]
     },
     "metadata": {},
     "output_type": "display_data"
    },
    {
     "data": {
      "text/html": [
       "<pre style=\"white-space:pre;overflow-x:auto;line-height:normal;font-family:Menlo,'DejaVu Sans Mono',consolas,'Courier New',monospace\"><span style=\"font-weight: bold\"> Non-trainable params: </span><span style=\"color: #00af00; text-decoration-color: #00af00\">0</span> (0.00 B)\n",
       "</pre>\n"
      ],
      "text/plain": [
       "\u001b[1m Non-trainable params: \u001b[0m\u001b[38;5;34m0\u001b[0m (0.00 B)\n"
      ]
     },
     "metadata": {},
     "output_type": "display_data"
    }
   ],
   "source": [
    "from keras.layers import Activation\n",
    "from keras.layers import Conv1D\n",
    "from keras.layers import Dense\n",
    "from keras.layers import Dropout\n",
    "from keras.layers import Flatten\n",
    "from keras.layers import Input\n",
    "from keras.layers import MaxPooling1D\n",
    "from keras.models import Sequential\n",
    "\n",
    "model = Sequential()\n",
    "model.add(Input(shape=(X_train.shape[1], 1)))\n",
    "model.add(Conv1D(64, 3, padding='same', activation='relu',))\n",
    "model.add(MaxPooling1D(pool_size=2))\n",
    "model.add(Dropout(0.25))\n",
    "model.add(Conv1D(128, 3, padding='same', activation='relu'))\n",
    "model.add(MaxPooling1D(pool_size=2))\n",
    "model.add(Dropout(0.25))\n",
    "model.add(Flatten())\n",
    "model.add(Dense(512, activation='relu'))\n",
    "model.add(Dropout(0.5))\n",
    "model.add(Dense(len(encoder.classes_), activation='softmax'))\n",
    "model.compile(loss='categorical_crossentropy', optimizer='adam', metrics=['accuracy'])\n",
    "model.summary()"
   ]
  },
  {
   "cell_type": "code",
   "execution_count": 5,
   "id": "c3ff736f",
   "metadata": {
    "execution": {
     "iopub.execute_input": "2024-04-06T19:54:52.724612Z",
     "iopub.status.busy": "2024-04-06T19:54:52.724185Z",
     "iopub.status.idle": "2024-04-06T19:54:52.731994Z",
     "shell.execute_reply": "2024-04-06T19:54:52.730632Z"
    },
    "papermill": {
     "duration": 0.018764,
     "end_time": "2024-04-06T19:54:52.734652",
     "exception": false,
     "start_time": "2024-04-06T19:54:52.715888",
     "status": "completed"
    },
    "tags": []
   },
   "outputs": [
    {
     "name": "stdout",
     "output_type": "stream",
     "text": [
      "6985 1747\n"
     ]
    }
   ],
   "source": [
    "X_train = X_train.reshape(X_train.shape[0], X_train.shape[1], 1)\n",
    "X_test = X_test.reshape(X_test.shape[0], X_test.shape[1], 1)\n",
    "print(len(X_train), len(X_test))"
   ]
  },
  {
   "cell_type": "code",
   "execution_count": 6,
   "id": "f03635a2",
   "metadata": {
    "execution": {
     "iopub.execute_input": "2024-04-06T19:54:52.750431Z",
     "iopub.status.busy": "2024-04-06T19:54:52.750036Z",
     "iopub.status.idle": "2024-04-06T19:54:52.757605Z",
     "shell.execute_reply": "2024-04-06T19:54:52.756376Z"
    },
    "papermill": {
     "duration": 0.018426,
     "end_time": "2024-04-06T19:54:52.760122",
     "exception": false,
     "start_time": "2024-04-06T19:54:52.741696",
     "status": "completed"
    },
    "tags": []
   },
   "outputs": [],
   "source": [
    "def make_predictions(model, le, file_path):\n",
    "    audio, sample_rate = librosa.load(file_path, sr=22050)\n",
    "    mfccs = librosa.feature.mfcc(y=audio, sr=22050, n_mfcc=40)\n",
    "    mfccs_scaled = np.mean(mfccs.T, axis=0)\n",
    "    predicted_vector = model.predict(x=mfccs_scaled.reshape(1, mfccs_scaled.shape[0], 1), verbose=0)\n",
    "    predicted_class_index = np.argmax(predicted_vector, axis=-1)\n",
    "    return le.inverse_transform(predicted_class_index)[0]\n"
   ]
  },
  {
   "cell_type": "code",
   "execution_count": 7,
   "id": "ca0a3c97",
   "metadata": {
    "execution": {
     "iopub.execute_input": "2024-04-06T19:54:52.775809Z",
     "iopub.status.busy": "2024-04-06T19:54:52.775362Z",
     "iopub.status.idle": "2024-04-06T19:54:53.862745Z",
     "shell.execute_reply": "2024-04-06T19:54:53.861111Z"
    },
    "papermill": {
     "duration": 1.098397,
     "end_time": "2024-04-06T19:54:53.865307",
     "exception": false,
     "start_time": "2024-04-06T19:54:52.766910",
     "status": "completed"
    },
    "tags": []
   },
   "outputs": [
    {
     "name": "stdout",
     "output_type": "stream",
     "text": [
      "{'/kaggle/input/urbansound8k/fold1/101415-3-0-2.wav': 'drilling', '/kaggle/input/urbansound8k/fold1/101415-3-0-3.wav': 'drilling', '/kaggle/input/urbansound8k/fold1/102305-6-0-0.wav': 'drilling', '/kaggle/input/urbansound8k/fold1/103074-7-0-2.wav': 'drilling', '/kaggle/input/urbansound8k/fold1/103074-7-4-3.wav': 'drilling'}\n"
     ]
    }
   ],
   "source": [
    "test_files = [\n",
    "    ('/kaggle/input/urbansound8k/fold1/101415-3-0-2.wav', 'Dog bark'),\n",
    "    ('/kaggle/input/urbansound8k/fold1/101415-3-0-3.wav', 'Dog bark'),\n",
    "    ('/kaggle/input/urbansound8k/fold1/102305-6-0-0.wav', 'Gun shots'),\n",
    "    ('/kaggle/input/urbansound8k/fold1/103074-7-0-2.wav', 'Jack hammer'),\n",
    "    ('/kaggle/input/urbansound8k/fold1/103074-7-4-3.wav', 'Jack hammer')\n",
    "]\n",
    "\n",
    "\n",
    "old_predictions = {\n",
    "    file_path: make_predictions(model, encoder, file_path) for file_path, true_label in test_files\n",
    "}\n",
    "print(old_predictions)"
   ]
  },
  {
   "cell_type": "code",
   "execution_count": 8,
   "id": "970ef1a9",
   "metadata": {
    "execution": {
     "iopub.execute_input": "2024-04-06T19:54:53.881491Z",
     "iopub.status.busy": "2024-04-06T19:54:53.881026Z",
     "iopub.status.idle": "2024-04-06T19:57:43.457576Z",
     "shell.execute_reply": "2024-04-06T19:57:43.456623Z"
    },
    "papermill": {
     "duration": 169.594933,
     "end_time": "2024-04-06T19:57:43.467250",
     "exception": false,
     "start_time": "2024-04-06T19:54:53.872317",
     "status": "completed"
    },
    "tags": []
   },
   "outputs": [
    {
     "name": "stdout",
     "output_type": "stream",
     "text": [
      "0:02:49.569657 done training\n"
     ]
    }
   ],
   "source": [
    "import arrow\n",
    "\n",
    "time_start = arrow.now()\n",
    "history = model.fit(X_train, y_train, batch_size=256, epochs=100, validation_data=(X_test, y_test), verbose=0, callbacks=None)\n",
    "print('{} done training'.format(arrow.now() - time_start))"
   ]
  },
  {
   "cell_type": "code",
   "execution_count": 9,
   "id": "7e0affd7",
   "metadata": {
    "execution": {
     "iopub.execute_input": "2024-04-06T19:57:43.484219Z",
     "iopub.status.busy": "2024-04-06T19:57:43.483505Z",
     "iopub.status.idle": "2024-04-06T19:57:46.179490Z",
     "shell.execute_reply": "2024-04-06T19:57:46.178073Z"
    },
    "papermill": {
     "duration": 2.707837,
     "end_time": "2024-04-06T19:57:46.182191",
     "exception": false,
     "start_time": "2024-04-06T19:57:43.474354",
     "status": "completed"
    },
    "tags": []
   },
   "outputs": [
    {
     "data": {
      "text/html": [
       "        <script type=\"text/javascript\">\n",
       "        window.PlotlyConfig = {MathJaxConfig: 'local'};\n",
       "        if (window.MathJax && window.MathJax.Hub && window.MathJax.Hub.Config) {window.MathJax.Hub.Config({SVG: {font: \"STIX-Web\"}});}\n",
       "        if (typeof require !== 'undefined') {\n",
       "        require.undef(\"plotly\");\n",
       "        requirejs.config({\n",
       "            paths: {\n",
       "                'plotly': ['https://cdn.plot.ly/plotly-2.27.0.min']\n",
       "            }\n",
       "        });\n",
       "        require(['plotly'], function(Plotly) {\n",
       "            window._Plotly = Plotly;\n",
       "        });\n",
       "        }\n",
       "        </script>\n",
       "        "
      ]
     },
     "metadata": {},
     "output_type": "display_data"
    },
    {
     "data": {
      "text/html": [
       "<div>                            <div id=\"33c7de3a-2f0c-4f79-b05e-5f04ef3859c6\" class=\"plotly-graph-div\" style=\"height:525px; width:100%;\"></div>            <script type=\"text/javascript\">                require([\"plotly\"], function(Plotly) {                    window.PLOTLYENV=window.PLOTLYENV || {};                                    if (document.getElementById(\"33c7de3a-2f0c-4f79-b05e-5f04ef3859c6\")) {                    Plotly.newPlot(                        \"33c7de3a-2f0c-4f79-b05e-5f04ef3859c6\",                        [{\"hovertemplate\":\"variable=accuracy\\u003cbr\\u003eepoch=%{x}\\u003cbr\\u003evalue=%{y}\\u003cextra\\u003e\\u003c\\u002fextra\\u003e\",\"legendgroup\":\"accuracy\",\"line\":{\"color\":\"#636efa\",\"dash\":\"solid\"},\"marker\":{\"symbol\":\"circle\"},\"mode\":\"lines\",\"name\":\"accuracy\",\"orientation\":\"v\",\"showlegend\":true,\"x\":[0,1,2,3,4,5,6,7,8,9,10,11,12,13,14,15,16,17,18,19,20,21,22,23,24,25,26,27,28,29,30,31,32,33,34,35,36,37,38,39,40,41,42,43,44,45,46,47,48,49,50,51,52,53,54,55,56,57,58,59,60,61,62,63,64,65,66,67,68,69,70,71,72,73,74,75,76,77,78,79,80,81,82,83,84,85,86,87,88,89,90,91,92,93,94,95,96,97,98,99],\"xaxis\":\"x\",\"y\":[0.21259842813014984,0.3335719406604767,0.411166787147522,0.4662849009037018,0.5072298049926758,0.5342877507209778,0.5759484767913818,0.5964208841323853,0.6322118639945984,0.6367931365966797,0.673443078994751,0.6774516701698303,0.6946313381195068,0.7118110060691833,0.7212598323822021,0.7332856059074402,0.7463135123252869,0.7580529451370239,0.7702218890190125,0.7806728482246399,0.7878310680389404,0.789692223072052,0.800000011920929,0.8098782896995544,0.8231925368309021,0.8250536918640137,0.8282033205032349,0.8345025181770325,0.84638512134552,0.8397995829582214,0.8509663343429565,0.856406569480896,0.8607015013694763,0.8645669221878052,0.8621331453323364,0.8750178813934326,0.8712956309318542,0.8818897604942322,0.8797423243522644,0.886327862739563,0.8949176669120789,0.8893342614173889,0.8884752988815308,0.9012168645858765,0.9020758867263794,0.9039369821548462,0.9042233228683472,0.908661425113678,0.908661425113678,0.9165354371070862,0.9138153195381165,0.9125268459320068,0.9193987250328064,0.9212598204612732,0.925125241279602,0.9215461611747742,0.9246957898139954,0.9301360249519348,0.9298496842384338,0.9271295666694641,0.9365783929824829,0.9368647336959839,0.9351467490196228,0.9394416809082031,0.9367215633392334,0.9367215633392334,0.938010036945343,0.9423049688339233,0.9440228939056396,0.9441660642623901,0.9401574730873108,0.9387258291244507,0.9454545378684998,0.9463135004043579,0.94273442029953,0.9451681971549988,0.9526127576828003,0.9460272192955017,0.9501789808273315,0.9510379433631897,0.9494631290435791,0.9506084322929382,0.9566213488578796,0.953042209148407,0.9521832466125488,0.9506084322929382,0.9524695873260498,0.9609162211418152,0.9591982960700989,0.958339273929596,0.9604867696762085,0.9559054970741272,0.9571939706802368,0.9640658497810364,0.9586256146430969,0.9630637168884277,0.9593414664268494,0.9590551257133484,0.9591982960700989,0.958339273929596],\"yaxis\":\"y\",\"type\":\"scatter\"},{\"hovertemplate\":\"variable=loss\\u003cbr\\u003eepoch=%{x}\\u003cbr\\u003evalue=%{y}\\u003cextra\\u003e\\u003c\\u002fextra\\u003e\",\"legendgroup\":\"loss\",\"line\":{\"color\":\"#EF553B\",\"dash\":\"solid\"},\"marker\":{\"symbol\":\"circle\"},\"mode\":\"lines\",\"name\":\"loss\",\"orientation\":\"v\",\"showlegend\":true,\"x\":[0,1,2,3,4,5,6,7,8,9,10,11,12,13,14,15,16,17,18,19,20,21,22,23,24,25,26,27,28,29,30,31,32,33,34,35,36,37,38,39,40,41,42,43,44,45,46,47,48,49,50,51,52,53,54,55,56,57,58,59,60,61,62,63,64,65,66,67,68,69,70,71,72,73,74,75,76,77,78,79,80,81,82,83,84,85,86,87,88,89,90,91,92,93,94,95,96,97,98,99],\"xaxis\":\"x\",\"y\":[4.305917263031006,1.9034844636917114,1.6697031259536743,1.537623643875122,1.4243409633636475,1.3330183029174805,1.2351304292678833,1.180978775024414,1.095452070236206,1.0501965284347534,0.9771891832351685,0.9457023739814758,0.8935554623603821,0.8625502586364746,0.8117929100990295,0.7925060391426086,0.7527640461921692,0.7173138856887817,0.6874715089797974,0.6546050906181335,0.6383885145187378,0.6076565980911255,0.5866905450820923,0.5663163661956787,0.5250881314277649,0.5195890665054321,0.5045773386955261,0.4817327857017517,0.45200592279434204,0.4630458354949951,0.435305655002594,0.4208473563194275,0.3976854979991913,0.39542698860168457,0.4018281400203705,0.3560038208961487,0.3683919310569763,0.34492629766464233,0.34314367175102234,0.3191399574279785,0.31476593017578125,0.3251493573188782,0.3376566767692566,0.2915249764919281,0.28402993083000183,0.2935910224914551,0.2639749050140381,0.26346418261528015,0.2625201642513275,0.2459024339914322,0.26143068075180054,0.250596821308136,0.24098484218120575,0.22940094769001007,0.22497810423374176,0.22984598577022552,0.22492215037345886,0.20684345066547394,0.21119870245456696,0.2138882875442505,0.19062285125255585,0.19318163394927979,0.18902982771396637,0.18690598011016846,0.18294809758663177,0.17863401770591736,0.17994438111782074,0.171744242310524,0.1661502569913864,0.1661287248134613,0.17589734494686127,0.17344875633716583,0.15789003670215607,0.15985378623008728,0.16228485107421875,0.15856824815273285,0.14464934170246124,0.15834036469459534,0.14119067788124084,0.146246537566185,0.14333344995975494,0.14680945873260498,0.13141027092933655,0.13699005544185638,0.14012499153614044,0.14716370403766632,0.13442982733249664,0.12341567128896713,0.1223067045211792,0.12469086796045303,0.12065815180540085,0.13084866106510162,0.11972607672214508,0.11220140010118484,0.11959029734134674,0.1119154840707779,0.12343116849660873,0.13178299367427826,0.12223675101995468,0.1200856938958168],\"yaxis\":\"y\",\"type\":\"scatter\"},{\"hovertemplate\":\"variable=val_accuracy\\u003cbr\\u003eepoch=%{x}\\u003cbr\\u003evalue=%{y}\\u003cextra\\u003e\\u003c\\u002fextra\\u003e\",\"legendgroup\":\"val_accuracy\",\"line\":{\"color\":\"#00cc96\",\"dash\":\"solid\"},\"marker\":{\"symbol\":\"circle\"},\"mode\":\"lines\",\"name\":\"val_accuracy\",\"orientation\":\"v\",\"showlegend\":true,\"x\":[0,1,2,3,4,5,6,7,8,9,10,11,12,13,14,15,16,17,18,19,20,21,22,23,24,25,26,27,28,29,30,31,32,33,34,35,36,37,38,39,40,41,42,43,44,45,46,47,48,49,50,51,52,53,54,55,56,57,58,59,60,61,62,63,64,65,66,67,68,69,70,71,72,73,74,75,76,77,78,79,80,81,82,83,84,85,86,87,88,89,90,91,92,93,94,95,96,97,98,99],\"xaxis\":\"x\",\"y\":[0.4396107494831085,0.5449341535568237,0.5798511505126953,0.6210646629333496,0.6388093829154968,0.6708643436431885,0.6966227889060974,0.7326846122741699,0.7441328167915344,0.7550085783004761,0.782484233379364,0.7847738862037659,0.7904980182647705,0.8088151216506958,0.805380642414093,0.8254150152206421,0.829421877861023,0.8357183933258057,0.8500286340713501,0.8574699759483337,0.8534630537033081,0.8620492219924927,0.8660560846328735,0.8723526000976562,0.8689181208610535,0.8815111517906189,0.8780767321586609,0.877504289150238,0.8878076672554016,0.8849456310272217,0.8935317397117615,0.8958213925361633,0.8998282551765442,0.902117908000946,0.904979944229126,0.9124212861061096,0.9141384959220886,0.9112764596939087,0.9141384959220886,0.9210074543952942,0.9198626279830933,0.9107040762901306,0.9181454181671143,0.923297107219696,0.9238694906234741,0.9244418740272522,0.9238694906234741,0.926159143447876,0.9238694906234741,0.9227246642112732,0.927876353263855,0.9238694906234741,0.9353176951408386,0.9318832159042358,0.927876353263855,0.926731526851654,0.9318832159042358,0.9244418740272522,0.929593563079834,0.9307383894920349,0.9353176951408386,0.9313108325004578,0.9336004853248596,0.9347452521324158,0.9341728687286377,0.9353176951408386,0.9353176951408386,0.9318832159042358,0.9341728687286377,0.9376073479652405,0.9318832159042358,0.9370349049568176,0.9330280423164368,0.9370349049568176,0.9358900785446167,0.9336004853248596,0.9353176951408386,0.9387521743774414,0.9387521743774414,0.9336004853248596,0.9416142106056213,0.9398969411849976,0.9313108325004578,0.9393245577812195,0.9421865940093994,0.9387521743774414,0.9370349049568176,0.9398969411849976,0.9416142106056213,0.9364625215530396,0.9387521743774414,0.9376073479652405,0.9381797313690186,0.9387521743774414,0.9433314204216003,0.9404693841934204,0.9393245577812195,0.9444762468338013,0.9364625215530396,0.9398969411849976],\"yaxis\":\"y\",\"type\":\"scatter\"},{\"hovertemplate\":\"variable=val_loss\\u003cbr\\u003eepoch=%{x}\\u003cbr\\u003evalue=%{y}\\u003cextra\\u003e\\u003c\\u002fextra\\u003e\",\"legendgroup\":\"val_loss\",\"line\":{\"color\":\"#ab63fa\",\"dash\":\"solid\"},\"marker\":{\"symbol\":\"circle\"},\"mode\":\"lines\",\"name\":\"val_loss\",\"orientation\":\"v\",\"showlegend\":true,\"x\":[0,1,2,3,4,5,6,7,8,9,10,11,12,13,14,15,16,17,18,19,20,21,22,23,24,25,26,27,28,29,30,31,32,33,34,35,36,37,38,39,40,41,42,43,44,45,46,47,48,49,50,51,52,53,54,55,56,57,58,59,60,61,62,63,64,65,66,67,68,69,70,71,72,73,74,75,76,77,78,79,80,81,82,83,84,85,86,87,88,89,90,91,92,93,94,95,96,97,98,99],\"xaxis\":\"x\",\"y\":[1.9157540798187256,1.5311915874481201,1.3497679233551025,1.1981414556503296,1.0951584577560425,1.0130892992019653,0.9430602788925171,0.8616545796394348,0.8000463247299194,0.7721931338310242,0.7057185173034668,0.6843639612197876,0.65060955286026,0.617231547832489,0.5890682935714722,0.575018048286438,0.5502362847328186,0.5194355249404907,0.4780539870262146,0.46327492594718933,0.45849326252937317,0.438960999250412,0.4263897240161896,0.41057929396629333,0.40971753001213074,0.3788033425807953,0.3839437663555145,0.3753296732902527,0.3572199046611786,0.3693390190601349,0.3528156578540802,0.3442871868610382,0.34480875730514526,0.3379673957824707,0.3232261538505554,0.305447518825531,0.3051760792732239,0.30437490344047546,0.2953570783138275,0.28556767106056213,0.2878131866455078,0.2962401211261749,0.28956279158592224,0.28033867478370667,0.284345418214798,0.2904214859008789,0.2728813886642456,0.26641958951950073,0.2743019163608551,0.2726376950740814,0.2658066749572754,0.26879265904426575,0.2590692341327667,0.2658382058143616,0.27801278233528137,0.27392810583114624,0.23539528250694275,0.2551748752593994,0.25058871507644653,0.24476774036884308,0.2418726235628128,0.24120113253593445,0.24375911056995392,0.25318917632102966,0.2543104588985443,0.24331164360046387,0.24462299048900604,0.2626369297504425,0.2578203082084656,0.25393790006637573,0.24808070063591003,0.25614264607429504,0.24779529869556427,0.24845124781131744,0.25967171788215637,0.2571342885494232,0.2568952441215515,0.23829816281795502,0.2528630197048187,0.24991680681705475,0.22588777542114258,0.2384876310825348,0.2416749745607376,0.2429344803094864,0.23300950229167938,0.24370194971561432,0.23937857151031494,0.2466723918914795,0.23951993882656097,0.24667875468730927,0.24324476718902588,0.2502383887767792,0.24429532885551453,0.24389435350894928,0.2554264962673187,0.25257930159568787,0.25107792019844055,0.2552819848060608,0.23578369617462158,0.23900093138217926],\"yaxis\":\"y\",\"type\":\"scatter\"}],                        {\"template\":{\"data\":{\"histogram2dcontour\":[{\"type\":\"histogram2dcontour\",\"colorbar\":{\"outlinewidth\":0,\"ticks\":\"\"},\"colorscale\":[[0.0,\"#0d0887\"],[0.1111111111111111,\"#46039f\"],[0.2222222222222222,\"#7201a8\"],[0.3333333333333333,\"#9c179e\"],[0.4444444444444444,\"#bd3786\"],[0.5555555555555556,\"#d8576b\"],[0.6666666666666666,\"#ed7953\"],[0.7777777777777778,\"#fb9f3a\"],[0.8888888888888888,\"#fdca26\"],[1.0,\"#f0f921\"]]}],\"choropleth\":[{\"type\":\"choropleth\",\"colorbar\":{\"outlinewidth\":0,\"ticks\":\"\"}}],\"histogram2d\":[{\"type\":\"histogram2d\",\"colorbar\":{\"outlinewidth\":0,\"ticks\":\"\"},\"colorscale\":[[0.0,\"#0d0887\"],[0.1111111111111111,\"#46039f\"],[0.2222222222222222,\"#7201a8\"],[0.3333333333333333,\"#9c179e\"],[0.4444444444444444,\"#bd3786\"],[0.5555555555555556,\"#d8576b\"],[0.6666666666666666,\"#ed7953\"],[0.7777777777777778,\"#fb9f3a\"],[0.8888888888888888,\"#fdca26\"],[1.0,\"#f0f921\"]]}],\"heatmap\":[{\"type\":\"heatmap\",\"colorbar\":{\"outlinewidth\":0,\"ticks\":\"\"},\"colorscale\":[[0.0,\"#0d0887\"],[0.1111111111111111,\"#46039f\"],[0.2222222222222222,\"#7201a8\"],[0.3333333333333333,\"#9c179e\"],[0.4444444444444444,\"#bd3786\"],[0.5555555555555556,\"#d8576b\"],[0.6666666666666666,\"#ed7953\"],[0.7777777777777778,\"#fb9f3a\"],[0.8888888888888888,\"#fdca26\"],[1.0,\"#f0f921\"]]}],\"heatmapgl\":[{\"type\":\"heatmapgl\",\"colorbar\":{\"outlinewidth\":0,\"ticks\":\"\"},\"colorscale\":[[0.0,\"#0d0887\"],[0.1111111111111111,\"#46039f\"],[0.2222222222222222,\"#7201a8\"],[0.3333333333333333,\"#9c179e\"],[0.4444444444444444,\"#bd3786\"],[0.5555555555555556,\"#d8576b\"],[0.6666666666666666,\"#ed7953\"],[0.7777777777777778,\"#fb9f3a\"],[0.8888888888888888,\"#fdca26\"],[1.0,\"#f0f921\"]]}],\"contourcarpet\":[{\"type\":\"contourcarpet\",\"colorbar\":{\"outlinewidth\":0,\"ticks\":\"\"}}],\"contour\":[{\"type\":\"contour\",\"colorbar\":{\"outlinewidth\":0,\"ticks\":\"\"},\"colorscale\":[[0.0,\"#0d0887\"],[0.1111111111111111,\"#46039f\"],[0.2222222222222222,\"#7201a8\"],[0.3333333333333333,\"#9c179e\"],[0.4444444444444444,\"#bd3786\"],[0.5555555555555556,\"#d8576b\"],[0.6666666666666666,\"#ed7953\"],[0.7777777777777778,\"#fb9f3a\"],[0.8888888888888888,\"#fdca26\"],[1.0,\"#f0f921\"]]}],\"surface\":[{\"type\":\"surface\",\"colorbar\":{\"outlinewidth\":0,\"ticks\":\"\"},\"colorscale\":[[0.0,\"#0d0887\"],[0.1111111111111111,\"#46039f\"],[0.2222222222222222,\"#7201a8\"],[0.3333333333333333,\"#9c179e\"],[0.4444444444444444,\"#bd3786\"],[0.5555555555555556,\"#d8576b\"],[0.6666666666666666,\"#ed7953\"],[0.7777777777777778,\"#fb9f3a\"],[0.8888888888888888,\"#fdca26\"],[1.0,\"#f0f921\"]]}],\"mesh3d\":[{\"type\":\"mesh3d\",\"colorbar\":{\"outlinewidth\":0,\"ticks\":\"\"}}],\"scatter\":[{\"fillpattern\":{\"fillmode\":\"overlay\",\"size\":10,\"solidity\":0.2},\"type\":\"scatter\"}],\"parcoords\":[{\"type\":\"parcoords\",\"line\":{\"colorbar\":{\"outlinewidth\":0,\"ticks\":\"\"}}}],\"scatterpolargl\":[{\"type\":\"scatterpolargl\",\"marker\":{\"colorbar\":{\"outlinewidth\":0,\"ticks\":\"\"}}}],\"bar\":[{\"error_x\":{\"color\":\"#2a3f5f\"},\"error_y\":{\"color\":\"#2a3f5f\"},\"marker\":{\"line\":{\"color\":\"#E5ECF6\",\"width\":0.5},\"pattern\":{\"fillmode\":\"overlay\",\"size\":10,\"solidity\":0.2}},\"type\":\"bar\"}],\"scattergeo\":[{\"type\":\"scattergeo\",\"marker\":{\"colorbar\":{\"outlinewidth\":0,\"ticks\":\"\"}}}],\"scatterpolar\":[{\"type\":\"scatterpolar\",\"marker\":{\"colorbar\":{\"outlinewidth\":0,\"ticks\":\"\"}}}],\"histogram\":[{\"marker\":{\"pattern\":{\"fillmode\":\"overlay\",\"size\":10,\"solidity\":0.2}},\"type\":\"histogram\"}],\"scattergl\":[{\"type\":\"scattergl\",\"marker\":{\"colorbar\":{\"outlinewidth\":0,\"ticks\":\"\"}}}],\"scatter3d\":[{\"type\":\"scatter3d\",\"line\":{\"colorbar\":{\"outlinewidth\":0,\"ticks\":\"\"}},\"marker\":{\"colorbar\":{\"outlinewidth\":0,\"ticks\":\"\"}}}],\"scattermapbox\":[{\"type\":\"scattermapbox\",\"marker\":{\"colorbar\":{\"outlinewidth\":0,\"ticks\":\"\"}}}],\"scatterternary\":[{\"type\":\"scatterternary\",\"marker\":{\"colorbar\":{\"outlinewidth\":0,\"ticks\":\"\"}}}],\"scattercarpet\":[{\"type\":\"scattercarpet\",\"marker\":{\"colorbar\":{\"outlinewidth\":0,\"ticks\":\"\"}}}],\"carpet\":[{\"aaxis\":{\"endlinecolor\":\"#2a3f5f\",\"gridcolor\":\"white\",\"linecolor\":\"white\",\"minorgridcolor\":\"white\",\"startlinecolor\":\"#2a3f5f\"},\"baxis\":{\"endlinecolor\":\"#2a3f5f\",\"gridcolor\":\"white\",\"linecolor\":\"white\",\"minorgridcolor\":\"white\",\"startlinecolor\":\"#2a3f5f\"},\"type\":\"carpet\"}],\"table\":[{\"cells\":{\"fill\":{\"color\":\"#EBF0F8\"},\"line\":{\"color\":\"white\"}},\"header\":{\"fill\":{\"color\":\"#C8D4E3\"},\"line\":{\"color\":\"white\"}},\"type\":\"table\"}],\"barpolar\":[{\"marker\":{\"line\":{\"color\":\"#E5ECF6\",\"width\":0.5},\"pattern\":{\"fillmode\":\"overlay\",\"size\":10,\"solidity\":0.2}},\"type\":\"barpolar\"}],\"pie\":[{\"automargin\":true,\"type\":\"pie\"}]},\"layout\":{\"autotypenumbers\":\"strict\",\"colorway\":[\"#636efa\",\"#EF553B\",\"#00cc96\",\"#ab63fa\",\"#FFA15A\",\"#19d3f3\",\"#FF6692\",\"#B6E880\",\"#FF97FF\",\"#FECB52\"],\"font\":{\"color\":\"#2a3f5f\"},\"hovermode\":\"closest\",\"hoverlabel\":{\"align\":\"left\"},\"paper_bgcolor\":\"white\",\"plot_bgcolor\":\"#E5ECF6\",\"polar\":{\"bgcolor\":\"#E5ECF6\",\"angularaxis\":{\"gridcolor\":\"white\",\"linecolor\":\"white\",\"ticks\":\"\"},\"radialaxis\":{\"gridcolor\":\"white\",\"linecolor\":\"white\",\"ticks\":\"\"}},\"ternary\":{\"bgcolor\":\"#E5ECF6\",\"aaxis\":{\"gridcolor\":\"white\",\"linecolor\":\"white\",\"ticks\":\"\"},\"baxis\":{\"gridcolor\":\"white\",\"linecolor\":\"white\",\"ticks\":\"\"},\"caxis\":{\"gridcolor\":\"white\",\"linecolor\":\"white\",\"ticks\":\"\"}},\"coloraxis\":{\"colorbar\":{\"outlinewidth\":0,\"ticks\":\"\"}},\"colorscale\":{\"sequential\":[[0.0,\"#0d0887\"],[0.1111111111111111,\"#46039f\"],[0.2222222222222222,\"#7201a8\"],[0.3333333333333333,\"#9c179e\"],[0.4444444444444444,\"#bd3786\"],[0.5555555555555556,\"#d8576b\"],[0.6666666666666666,\"#ed7953\"],[0.7777777777777778,\"#fb9f3a\"],[0.8888888888888888,\"#fdca26\"],[1.0,\"#f0f921\"]],\"sequentialminus\":[[0.0,\"#0d0887\"],[0.1111111111111111,\"#46039f\"],[0.2222222222222222,\"#7201a8\"],[0.3333333333333333,\"#9c179e\"],[0.4444444444444444,\"#bd3786\"],[0.5555555555555556,\"#d8576b\"],[0.6666666666666666,\"#ed7953\"],[0.7777777777777778,\"#fb9f3a\"],[0.8888888888888888,\"#fdca26\"],[1.0,\"#f0f921\"]],\"diverging\":[[0,\"#8e0152\"],[0.1,\"#c51b7d\"],[0.2,\"#de77ae\"],[0.3,\"#f1b6da\"],[0.4,\"#fde0ef\"],[0.5,\"#f7f7f7\"],[0.6,\"#e6f5d0\"],[0.7,\"#b8e186\"],[0.8,\"#7fbc41\"],[0.9,\"#4d9221\"],[1,\"#276419\"]]},\"xaxis\":{\"gridcolor\":\"white\",\"linecolor\":\"white\",\"ticks\":\"\",\"title\":{\"standoff\":15},\"zerolinecolor\":\"white\",\"automargin\":true,\"zerolinewidth\":2},\"yaxis\":{\"gridcolor\":\"white\",\"linecolor\":\"white\",\"ticks\":\"\",\"title\":{\"standoff\":15},\"zerolinecolor\":\"white\",\"automargin\":true,\"zerolinewidth\":2},\"scene\":{\"xaxis\":{\"backgroundcolor\":\"#E5ECF6\",\"gridcolor\":\"white\",\"linecolor\":\"white\",\"showbackground\":true,\"ticks\":\"\",\"zerolinecolor\":\"white\",\"gridwidth\":2},\"yaxis\":{\"backgroundcolor\":\"#E5ECF6\",\"gridcolor\":\"white\",\"linecolor\":\"white\",\"showbackground\":true,\"ticks\":\"\",\"zerolinecolor\":\"white\",\"gridwidth\":2},\"zaxis\":{\"backgroundcolor\":\"#E5ECF6\",\"gridcolor\":\"white\",\"linecolor\":\"white\",\"showbackground\":true,\"ticks\":\"\",\"zerolinecolor\":\"white\",\"gridwidth\":2}},\"shapedefaults\":{\"line\":{\"color\":\"#2a3f5f\"}},\"annotationdefaults\":{\"arrowcolor\":\"#2a3f5f\",\"arrowhead\":0,\"arrowwidth\":1},\"geo\":{\"bgcolor\":\"white\",\"landcolor\":\"#E5ECF6\",\"subunitcolor\":\"white\",\"showland\":true,\"showlakes\":true,\"lakecolor\":\"white\"},\"title\":{\"x\":0.05},\"mapbox\":{\"style\":\"light\"}}},\"xaxis\":{\"anchor\":\"y\",\"domain\":[0.0,1.0],\"title\":{\"text\":\"epoch\"}},\"yaxis\":{\"anchor\":\"x\",\"domain\":[0.0,1.0],\"title\":{\"text\":\"value\"}},\"legend\":{\"title\":{\"text\":\"variable\"},\"tracegroupgap\":0},\"margin\":{\"t\":60}},                        {\"responsive\": true}                    ).then(function(){\n",
       "                            \n",
       "var gd = document.getElementById('33c7de3a-2f0c-4f79-b05e-5f04ef3859c6');\n",
       "var x = new MutationObserver(function (mutations, observer) {{\n",
       "        var display = window.getComputedStyle(gd).display;\n",
       "        if (!display || display === 'none') {{\n",
       "            console.log([gd, 'removed!']);\n",
       "            Plotly.purge(gd);\n",
       "            observer.disconnect();\n",
       "        }}\n",
       "}});\n",
       "\n",
       "// Listen for the removal of the full notebook cells\n",
       "var notebookContainer = gd.closest('#notebook-container');\n",
       "if (notebookContainer) {{\n",
       "    x.observe(notebookContainer, {childList: true});\n",
       "}}\n",
       "\n",
       "// Listen for the clearing of the current output cell\n",
       "var outputEl = gd.closest('.output');\n",
       "if (outputEl) {{\n",
       "    x.observe(outputEl, {childList: true});\n",
       "}}\n",
       "\n",
       "                        })                };                });            </script>        </div>"
      ]
     },
     "metadata": {},
     "output_type": "display_data"
    }
   ],
   "source": [
    "from plotly import express\n",
    "express.line(data_frame=pd.DataFrame(data=history.history,).reset_index().rename(columns={'index': 'epoch'}), x='epoch', y=list(history.history.keys()))"
   ]
  },
  {
   "cell_type": "code",
   "execution_count": 10,
   "id": "8736ca32",
   "metadata": {
    "execution": {
     "iopub.execute_input": "2024-04-06T19:57:46.202293Z",
     "iopub.status.busy": "2024-04-06T19:57:46.201434Z",
     "iopub.status.idle": "2024-04-06T19:57:47.064211Z",
     "shell.execute_reply": "2024-04-06T19:57:47.062813Z"
    },
    "papermill": {
     "duration": 0.876373,
     "end_time": "2024-04-06T19:57:47.067141",
     "exception": false,
     "start_time": "2024-04-06T19:57:46.190768",
     "status": "completed"
    },
    "tags": []
   },
   "outputs": [
    {
     "data": {
      "text/plain": [
       "{'/kaggle/input/urbansound8k/fold1/101415-3-0-2.wav': 'dog_bark',\n",
       " '/kaggle/input/urbansound8k/fold1/101415-3-0-3.wav': 'dog_bark',\n",
       " '/kaggle/input/urbansound8k/fold1/102305-6-0-0.wav': 'gun_shot',\n",
       " '/kaggle/input/urbansound8k/fold1/103074-7-0-2.wav': 'jackhammer',\n",
       " '/kaggle/input/urbansound8k/fold1/103074-7-4-3.wav': 'jackhammer'}"
      ]
     },
     "execution_count": 10,
     "metadata": {},
     "output_type": "execute_result"
    }
   ],
   "source": [
    "new_predictions = {\n",
    "    file_path: make_predictions(model, encoder, file_path) for file_path, true_label in test_files\n",
    "}\n",
    "new_predictions"
   ]
  }
 ],
 "metadata": {
  "kaggle": {
   "accelerator": "none",
   "dataSources": [
    {
     "datasetId": 500970,
     "sourceId": 928025,
     "sourceType": "datasetVersion"
    }
   ],
   "dockerImageVersionId": 30673,
   "isGpuEnabled": false,
   "isInternetEnabled": true,
   "language": "python",
   "sourceType": "notebook"
  },
  "kernelspec": {
   "display_name": "Python 3",
   "language": "python",
   "name": "python3"
  },
  "language_info": {
   "codemirror_mode": {
    "name": "ipython",
    "version": 3
   },
   "file_extension": ".py",
   "mimetype": "text/x-python",
   "name": "python",
   "nbconvert_exporter": "python",
   "pygments_lexer": "ipython3",
   "version": "3.10.13"
  },
  "papermill": {
   "default_parameters": {},
   "duration": 698.730544,
   "end_time": "2024-04-06T19:57:50.454807",
   "environment_variables": {},
   "exception": null,
   "input_path": "__notebook__.ipynb",
   "output_path": "__notebook__.ipynb",
   "parameters": {},
   "start_time": "2024-04-06T19:46:11.724263",
   "version": "2.5.0"
  }
 },
 "nbformat": 4,
 "nbformat_minor": 5
}
