{
 "cells": [
  {
   "cell_type": "code",
   "execution_count": 1,
   "id": "a59c4bb6",
   "metadata": {
    "_cell_guid": "b1076dfc-b9ad-4769-8c92-a6c4dae69d19",
    "_uuid": "8f2839f25d086af736a60e9eeb907d3b93b6e0e5",
    "execution": {
     "iopub.execute_input": "2024-04-06T16:30:05.159659Z",
     "iopub.status.busy": "2024-04-06T16:30:05.158878Z",
     "iopub.status.idle": "2024-04-06T16:30:23.331878Z",
     "shell.execute_reply": "2024-04-06T16:30:23.330507Z"
    },
    "papermill": {
     "duration": 18.184961,
     "end_time": "2024-04-06T16:30:23.335887",
     "exception": false,
     "start_time": "2024-04-06T16:30:05.150926",
     "status": "completed"
    },
    "tags": []
   },
   "outputs": [
    {
     "name": "stderr",
     "output_type": "stream",
     "text": [
      "2024-04-06 16:30:08.826675: E external/local_xla/xla/stream_executor/cuda/cuda_dnn.cc:9261] Unable to register cuDNN factory: Attempting to register factory for plugin cuDNN when one has already been registered\n",
      "2024-04-06 16:30:08.826852: E external/local_xla/xla/stream_executor/cuda/cuda_fft.cc:607] Unable to register cuFFT factory: Attempting to register factory for plugin cuFFT when one has already been registered\n",
      "2024-04-06 16:30:09.020925: E external/local_xla/xla/stream_executor/cuda/cuda_blas.cc:1515] Unable to register cuBLAS factory: Attempting to register factory for plugin cuBLAS when one has already been registered\n"
     ]
    }
   ],
   "source": [
    "import os\n",
    "import numpy as np\n",
    "import pandas as pd\n",
    "import librosa\n",
    "from keras.layers import Activation\n",
    "from keras.layers import Conv1D\n",
    "from keras.layers import Dense\n",
    "from keras.layers import Dropout\n",
    "from keras.layers import Flatten\n",
    "from keras.layers import MaxPooling1D\n",
    "from keras.models import Sequential\n",
    "from keras.utils import to_categorical\n",
    "from sklearn.model_selection import train_test_split\n",
    "from sklearn.preprocessing import LabelEncoder\n"
   ]
  },
  {
   "cell_type": "code",
   "execution_count": 2,
   "id": "beeae94d",
   "metadata": {
    "execution": {
     "iopub.execute_input": "2024-04-06T16:30:23.349958Z",
     "iopub.status.busy": "2024-04-06T16:30:23.349195Z",
     "iopub.status.idle": "2024-04-06T16:30:23.359488Z",
     "shell.execute_reply": "2024-04-06T16:30:23.358531Z"
    },
    "papermill": {
     "duration": 0.020513,
     "end_time": "2024-04-06T16:30:23.362285",
     "exception": false,
     "start_time": "2024-04-06T16:30:23.341772",
     "status": "completed"
    },
    "tags": []
   },
   "outputs": [],
   "source": [
    "def load_data(data_path, metadata_path):\n",
    "    features = []\n",
    "    labels = []\n",
    "    metadata = pd.read_csv(metadata_path)\n",
    "\n",
    "    for index, row in metadata.iterrows():\n",
    "#         file_path = os.path.join(data_path, f'fold{row['fold']}', f'{row['slice_file_name']}')\n",
    "        file_path = os.path.join(data_path, 'fold{}'.format(row['fold']), '{}'.format(row['slice_file_name']))\n",
    "        target_sr = 22050\n",
    "        audio, sample_rate = librosa.load(file_path, sr=target_sr)\n",
    "        mfccs = librosa.feature.mfcc(y=audio, sr=target_sr, n_mfcc=40)\n",
    "        mfccs_scaled = np.mean(mfccs.T, axis=0)\n",
    "        features.append(mfccs_scaled)\n",
    "        labels.append(row['class'])\n",
    "    return np.array(features), np.array(labels)"
   ]
  },
  {
   "cell_type": "code",
   "execution_count": 3,
   "id": "7df29f5a",
   "metadata": {
    "execution": {
     "iopub.execute_input": "2024-04-06T16:30:23.375597Z",
     "iopub.status.busy": "2024-04-06T16:30:23.374346Z",
     "iopub.status.idle": "2024-04-06T16:40:22.824091Z",
     "shell.execute_reply": "2024-04-06T16:40:22.821063Z"
    },
    "papermill": {
     "duration": 599.461422,
     "end_time": "2024-04-06T16:40:22.828998",
     "exception": false,
     "start_time": "2024-04-06T16:30:23.367576",
     "status": "completed"
    },
    "tags": []
   },
   "outputs": [
    {
     "name": "stderr",
     "output_type": "stream",
     "text": [
      "/opt/conda/lib/python3.10/site-packages/librosa/core/spectrum.py:257: UserWarning: n_fft=2048 is too large for input signal of length=1323\n",
      "  warnings.warn(\n",
      "/opt/conda/lib/python3.10/site-packages/librosa/core/spectrum.py:257: UserWarning: n_fft=2048 is too large for input signal of length=1103\n",
      "  warnings.warn(\n",
      "/opt/conda/lib/python3.10/site-packages/librosa/core/spectrum.py:257: UserWarning: n_fft=2048 is too large for input signal of length=1523\n",
      "  warnings.warn(\n"
     ]
    }
   ],
   "source": [
    "data_path = '/kaggle/input/urbansound8k'\n",
    "metadata_path = '/kaggle/input/urbansound8k/UrbanSound8K.csv'\n",
    "features, labels = load_data(data_path, metadata_path)\n",
    "\n",
    "# Encode labels\n",
    "le = LabelEncoder()\n",
    "labels_encoded = le.fit_transform(labels)\n",
    "labels_onehot = to_categorical(labels_encoded)\n"
   ]
  },
  {
   "cell_type": "code",
   "execution_count": 4,
   "id": "b715d088",
   "metadata": {
    "execution": {
     "iopub.execute_input": "2024-04-06T16:40:22.858121Z",
     "iopub.status.busy": "2024-04-06T16:40:22.855420Z",
     "iopub.status.idle": "2024-04-06T16:40:23.043350Z",
     "shell.execute_reply": "2024-04-06T16:40:23.041865Z"
    },
    "papermill": {
     "duration": 0.20752,
     "end_time": "2024-04-06T16:40:23.046693",
     "exception": false,
     "start_time": "2024-04-06T16:40:22.839173",
     "status": "completed"
    },
    "tags": []
   },
   "outputs": [],
   "source": [
    "# Split the data into training and testing sets\n",
    "X_train, X_test, y_train, y_test = train_test_split(features, labels_onehot, test_size=0.2, random_state=42, stratify=labels_onehot)\n"
   ]
  },
  {
   "cell_type": "code",
   "execution_count": 5,
   "id": "a150ee12",
   "metadata": {
    "execution": {
     "iopub.execute_input": "2024-04-06T16:40:23.062413Z",
     "iopub.status.busy": "2024-04-06T16:40:23.059759Z",
     "iopub.status.idle": "2024-04-06T16:40:23.368374Z",
     "shell.execute_reply": "2024-04-06T16:40:23.366999Z"
    },
    "papermill": {
     "duration": 0.319411,
     "end_time": "2024-04-06T16:40:23.371675",
     "exception": false,
     "start_time": "2024-04-06T16:40:23.052264",
     "status": "completed"
    },
    "tags": []
   },
   "outputs": [
    {
     "name": "stderr",
     "output_type": "stream",
     "text": [
      "/opt/conda/lib/python3.10/site-packages/keras/src/layers/convolutional/base_conv.py:99: UserWarning: Do not pass an `input_shape`/`input_dim` argument to a layer. When using Sequential models, prefer using an `Input(shape)` object as the first layer in the model instead.\n",
      "  super().__init__(\n"
     ]
    }
   ],
   "source": [
    "input_shape = (X_train.shape[1], 1)\n",
    "model = Sequential()\n",
    "model.add(Conv1D(64, 3, padding='same', activation='relu', input_shape=input_shape))\n",
    "model.add(MaxPooling1D(pool_size=2))\n",
    "model.add(Dropout(0.25))\n",
    "model.add(Conv1D(128, 3, padding='same', activation='relu'))\n",
    "model.add(MaxPooling1D(pool_size=2))\n",
    "model.add(Dropout(0.25))\n",
    "model.add(Flatten())\n",
    "model.add(Dense(512, activation='relu'))\n",
    "model.add(Dropout(0.5))\n",
    "model.add(Dense(len(le.classes_), activation='softmax'))\n",
    "model.compile(loss='categorical_crossentropy', optimizer='adam', metrics=['accuracy'])"
   ]
  },
  {
   "cell_type": "code",
   "execution_count": 6,
   "id": "bbd1263b",
   "metadata": {
    "execution": {
     "iopub.execute_input": "2024-04-06T16:40:23.385869Z",
     "iopub.status.busy": "2024-04-06T16:40:23.384747Z",
     "iopub.status.idle": "2024-04-06T16:40:23.393922Z",
     "shell.execute_reply": "2024-04-06T16:40:23.392694Z"
    },
    "papermill": {
     "duration": 0.018996,
     "end_time": "2024-04-06T16:40:23.396667",
     "exception": false,
     "start_time": "2024-04-06T16:40:23.377671",
     "status": "completed"
    },
    "tags": []
   },
   "outputs": [
    {
     "name": "stdout",
     "output_type": "stream",
     "text": [
      "\n"
     ]
    }
   ],
   "source": [
    "X_train = X_train.reshape(X_train.shape[0], X_train.shape[1], 1)\n",
    "X_test = X_test.reshape(X_test.shape[0], X_test.shape[1], 1)\n",
    "print()"
   ]
  },
  {
   "cell_type": "code",
   "execution_count": 7,
   "id": "e2c7db76",
   "metadata": {
    "execution": {
     "iopub.execute_input": "2024-04-06T16:40:23.410271Z",
     "iopub.status.busy": "2024-04-06T16:40:23.409837Z",
     "iopub.status.idle": "2024-04-06T16:40:23.417659Z",
     "shell.execute_reply": "2024-04-06T16:40:23.416395Z"
    },
    "papermill": {
     "duration": 0.017348,
     "end_time": "2024-04-06T16:40:23.420197",
     "exception": false,
     "start_time": "2024-04-06T16:40:23.402849",
     "status": "completed"
    },
    "tags": []
   },
   "outputs": [],
   "source": [
    "def make_predictions(model, le, file_path):\n",
    "    audio, sample_rate = librosa.load(file_path, sr=22050)\n",
    "    mfccs = librosa.feature.mfcc(y=audio, sr=22050, n_mfcc=40)\n",
    "    mfccs_scaled = np.mean(mfccs.T, axis=0)\n",
    "    features = mfccs_scaled.reshape(1, mfccs_scaled.shape[0], 1)\n",
    "    predicted_vector = model.predict(features)\n",
    "    predicted_class_index = np.argmax(predicted_vector, axis=-1)\n",
    "    return le.inverse_transform(predicted_class_index)[0]\n"
   ]
  },
  {
   "cell_type": "code",
   "execution_count": 8,
   "id": "d6825523",
   "metadata": {
    "execution": {
     "iopub.execute_input": "2024-04-06T16:40:23.434782Z",
     "iopub.status.busy": "2024-04-06T16:40:23.434338Z",
     "iopub.status.idle": "2024-04-06T16:40:24.648025Z",
     "shell.execute_reply": "2024-04-06T16:40:24.646494Z"
    },
    "papermill": {
     "duration": 1.225127,
     "end_time": "2024-04-06T16:40:24.651596",
     "exception": false,
     "start_time": "2024-04-06T16:40:23.426469",
     "status": "completed"
    },
    "tags": []
   },
   "outputs": [
    {
     "name": "stdout",
     "output_type": "stream",
     "text": [
      "\u001b[1m1/1\u001b[0m \u001b[32m━━━━━━━━━━━━━━━━━━━━\u001b[0m\u001b[37m\u001b[0m \u001b[1m0s\u001b[0m 265ms/step\n",
      "\u001b[1m1/1\u001b[0m \u001b[32m━━━━━━━━━━━━━━━━━━━━\u001b[0m\u001b[37m\u001b[0m \u001b[1m0s\u001b[0m 34ms/step\n",
      "\u001b[1m1/1\u001b[0m \u001b[32m━━━━━━━━━━━━━━━━━━━━\u001b[0m\u001b[37m\u001b[0m \u001b[1m0s\u001b[0m 30ms/step\n",
      "\u001b[1m1/1\u001b[0m \u001b[32m━━━━━━━━━━━━━━━━━━━━\u001b[0m\u001b[37m\u001b[0m \u001b[1m0s\u001b[0m 23ms/step\n",
      "\u001b[1m1/1\u001b[0m \u001b[32m━━━━━━━━━━━━━━━━━━━━\u001b[0m\u001b[37m\u001b[0m \u001b[1m0s\u001b[0m 26ms/step\n"
     ]
    }
   ],
   "source": [
    "# Save the initial weights\n",
    "initial_weights = model.get_weights()\n",
    "\n",
    "\n",
    "# Dictionary to store old predictions\n",
    "old_predictions = {}\n",
    "\n",
    "\n",
    "# List of test files and their true labels\n",
    "test_files = [\n",
    "    ('/kaggle/input/urbansound8k/fold1/101415-3-0-2.wav', 'Dog bark'),\n",
    "    ('/kaggle/input/urbansound8k/fold1/101415-3-0-3.wav', 'Dog bark'),\n",
    "    ('/kaggle/input/urbansound8k/fold1/102305-6-0-0.wav', 'Gun shots'),\n",
    "    ('/kaggle/input/urbansound8k/fold1/103074-7-0-2.wav', 'Jack hammer'),\n",
    "    ('/kaggle/input/urbansound8k/fold1/103074-7-4-3.wav', 'Jack hammer')\n",
    "]\n",
    "\n",
    "\n",
    "# Make predictions before training\n",
    "for file_path, true_label in test_files:\n",
    "    predicted_label_before = make_predictions(model, le, file_path)\n",
    "    old_predictions[file_path] = predicted_label_before\n"
   ]
  },
  {
   "cell_type": "code",
   "execution_count": 9,
   "id": "1c1f6049",
   "metadata": {
    "execution": {
     "iopub.execute_input": "2024-04-06T16:40:24.668647Z",
     "iopub.status.busy": "2024-04-06T16:40:24.668101Z",
     "iopub.status.idle": "2024-04-06T16:42:56.326555Z",
     "shell.execute_reply": "2024-04-06T16:42:56.325232Z"
    },
    "papermill": {
     "duration": 151.676044,
     "end_time": "2024-04-06T16:42:56.334694",
     "exception": false,
     "start_time": "2024-04-06T16:40:24.658650",
     "status": "completed"
    },
    "tags": []
   },
   "outputs": [
    {
     "name": "stdout",
     "output_type": "stream",
     "text": [
      "0:02:31.622663 done training\n"
     ]
    }
   ],
   "source": [
    "import arrow\n",
    "\n",
    "time_start = arrow.now()\n",
    "history = model.fit(X_train, y_train, batch_size=256, epochs=100, validation_data=(X_test, y_test), verbose=0, callbacks=None)\n",
    "print('{} done training'.format(arrow.now() - time_start))"
   ]
  },
  {
   "cell_type": "code",
   "execution_count": 10,
   "id": "e22864b5",
   "metadata": {
    "execution": {
     "iopub.execute_input": "2024-04-06T16:42:56.350191Z",
     "iopub.status.busy": "2024-04-06T16:42:56.349738Z",
     "iopub.status.idle": "2024-04-06T16:42:57.171720Z",
     "shell.execute_reply": "2024-04-06T16:42:57.170625Z"
    },
    "papermill": {
     "duration": 0.833137,
     "end_time": "2024-04-06T16:42:57.174477",
     "exception": false,
     "start_time": "2024-04-06T16:42:56.341340",
     "status": "completed"
    },
    "tags": []
   },
   "outputs": [
    {
     "name": "stdout",
     "output_type": "stream",
     "text": [
      "\u001b[1m1/1\u001b[0m \u001b[32m━━━━━━━━━━━━━━━━━━━━\u001b[0m\u001b[37m\u001b[0m \u001b[1m0s\u001b[0m 33ms/step\n",
      "\u001b[1m1/1\u001b[0m \u001b[32m━━━━━━━━━━━━━━━━━━━━\u001b[0m\u001b[37m\u001b[0m \u001b[1m0s\u001b[0m 33ms/step\n",
      "\u001b[1m1/1\u001b[0m \u001b[32m━━━━━━━━━━━━━━━━━━━━\u001b[0m\u001b[37m\u001b[0m \u001b[1m0s\u001b[0m 30ms/step\n",
      "\u001b[1m1/1\u001b[0m \u001b[32m━━━━━━━━━━━━━━━━━━━━\u001b[0m\u001b[37m\u001b[0m \u001b[1m0s\u001b[0m 27ms/step\n",
      "\u001b[1m1/1\u001b[0m \u001b[32m━━━━━━━━━━━━━━━━━━━━\u001b[0m\u001b[37m\u001b[0m \u001b[1m0s\u001b[0m 31ms/step\n"
     ]
    }
   ],
   "source": [
    "new_predictions = {}\n",
    "\n",
    "# List of test files and their true labels\n",
    "test_files = [\n",
    "    ('/kaggle/input/urbansound8k/fold1/101415-3-0-2.wav', 'Dog bark'),\n",
    "    ('/kaggle/input/urbansound8k/fold1/101415-3-0-3.wav', 'Dog bark'),\n",
    "    ('/kaggle/input/urbansound8k/fold1/102305-6-0-0.wav', 'Gun shots'),\n",
    "    ('/kaggle/input/urbansound8k/fold1/103074-7-0-2.wav', 'Jack hammer'),\n",
    "    ('/kaggle/input/urbansound8k/fold1/103074-7-4-3.wav', 'Jack hammer')\n",
    "]\n",
    "\n",
    "\n",
    "# Make predictions before training\n",
    "for file_path, true_label in test_files:\n",
    "    new_predictions[file_path] = make_predictions(model, le, file_path)\n"
   ]
  },
  {
   "cell_type": "code",
   "execution_count": 11,
   "id": "85a4965c",
   "metadata": {
    "execution": {
     "iopub.execute_input": "2024-04-06T16:42:57.191940Z",
     "iopub.status.busy": "2024-04-06T16:42:57.191240Z",
     "iopub.status.idle": "2024-04-06T16:42:57.197598Z",
     "shell.execute_reply": "2024-04-06T16:42:57.196486Z"
    },
    "papermill": {
     "duration": 0.017715,
     "end_time": "2024-04-06T16:42:57.200092",
     "exception": false,
     "start_time": "2024-04-06T16:42:57.182377",
     "status": "completed"
    },
    "tags": []
   },
   "outputs": [
    {
     "name": "stdout",
     "output_type": "stream",
     "text": [
      "{'/kaggle/input/urbansound8k/fold1/101415-3-0-2.wav': 'children_playing', '/kaggle/input/urbansound8k/fold1/101415-3-0-3.wav': 'children_playing', '/kaggle/input/urbansound8k/fold1/102305-6-0-0.wav': 'children_playing', '/kaggle/input/urbansound8k/fold1/103074-7-0-2.wav': 'children_playing', '/kaggle/input/urbansound8k/fold1/103074-7-4-3.wav': 'children_playing'}\n"
     ]
    }
   ],
   "source": [
    "print(old_predictions)"
   ]
  },
  {
   "cell_type": "code",
   "execution_count": 12,
   "id": "ec7b532e",
   "metadata": {
    "execution": {
     "iopub.execute_input": "2024-04-06T16:42:57.217210Z",
     "iopub.status.busy": "2024-04-06T16:42:57.216789Z",
     "iopub.status.idle": "2024-04-06T16:42:57.222528Z",
     "shell.execute_reply": "2024-04-06T16:42:57.221480Z"
    },
    "papermill": {
     "duration": 0.017621,
     "end_time": "2024-04-06T16:42:57.225480",
     "exception": false,
     "start_time": "2024-04-06T16:42:57.207859",
     "status": "completed"
    },
    "tags": []
   },
   "outputs": [
    {
     "name": "stdout",
     "output_type": "stream",
     "text": [
      "{'/kaggle/input/urbansound8k/fold1/101415-3-0-2.wav': 'dog_bark', '/kaggle/input/urbansound8k/fold1/101415-3-0-3.wav': 'dog_bark', '/kaggle/input/urbansound8k/fold1/102305-6-0-0.wav': 'gun_shot', '/kaggle/input/urbansound8k/fold1/103074-7-0-2.wav': 'jackhammer', '/kaggle/input/urbansound8k/fold1/103074-7-4-3.wav': 'jackhammer'}\n"
     ]
    }
   ],
   "source": [
    "print(new_predictions)"
   ]
  }
 ],
 "metadata": {
  "kaggle": {
   "accelerator": "none",
   "dataSources": [
    {
     "datasetId": 500970,
     "sourceId": 928025,
     "sourceType": "datasetVersion"
    }
   ],
   "dockerImageVersionId": 30673,
   "isGpuEnabled": false,
   "isInternetEnabled": true,
   "language": "python",
   "sourceType": "notebook"
  },
  "kernelspec": {
   "display_name": "Python 3",
   "language": "python",
   "name": "python3"
  },
  "language_info": {
   "codemirror_mode": {
    "name": "ipython",
    "version": 3
   },
   "file_extension": ".py",
   "mimetype": "text/x-python",
   "name": "python",
   "nbconvert_exporter": "python",
   "pygments_lexer": "ipython3",
   "version": "3.10.13"
  },
  "papermill": {
   "default_parameters": {},
   "duration": 778.739827,
   "end_time": "2024-04-06T16:43:00.561255",
   "environment_variables": {},
   "exception": null,
   "input_path": "__notebook__.ipynb",
   "output_path": "__notebook__.ipynb",
   "parameters": {},
   "start_time": "2024-04-06T16:30:01.821428",
   "version": "2.5.0"
  }
 },
 "nbformat": 4,
 "nbformat_minor": 5
}
