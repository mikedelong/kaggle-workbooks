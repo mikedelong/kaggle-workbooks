{
 "cells": [
  {
   "cell_type": "code",
   "execution_count": 1,
   "id": "c0f575ab",
   "metadata": {
    "execution": {
     "iopub.execute_input": "2023-12-14T15:05:37.094406Z",
     "iopub.status.busy": "2023-12-14T15:05:37.093995Z",
     "iopub.status.idle": "2023-12-14T15:05:37.479771Z",
     "shell.execute_reply": "2023-12-14T15:05:37.478489Z"
    },
    "papermill": {
     "duration": 0.391664,
     "end_time": "2023-12-14T15:05:37.481800",
     "exception": false,
     "start_time": "2023-12-14T15:05:37.090136",
     "status": "completed"
    },
    "tags": []
   },
   "outputs": [
    {
     "data": {
      "text/html": [
       "<div>\n",
       "<style scoped>\n",
       "    .dataframe tbody tr th:only-of-type {\n",
       "        vertical-align: middle;\n",
       "    }\n",
       "\n",
       "    .dataframe tbody tr th {\n",
       "        vertical-align: top;\n",
       "    }\n",
       "\n",
       "    .dataframe thead th {\n",
       "        text-align: right;\n",
       "    }\n",
       "</style>\n",
       "<table border=\"1\" class=\"dataframe\">\n",
       "  <thead>\n",
       "    <tr style=\"text-align: right;\">\n",
       "      <th></th>\n",
       "      <th>name</th>\n",
       "      <th>created_at</th>\n",
       "      <th>updated_at</th>\n",
       "      <th>position</th>\n",
       "      <th>start_date</th>\n",
       "      <th>group_id</th>\n",
       "      <th>components/0</th>\n",
       "      <th>components/1</th>\n",
       "      <th>components/2</th>\n",
       "      <th>components/3</th>\n",
       "      <th>...</th>\n",
       "      <th>components/5</th>\n",
       "      <th>components/6</th>\n",
       "      <th>components/7</th>\n",
       "      <th>components/8</th>\n",
       "      <th>components/9</th>\n",
       "      <th>components/10</th>\n",
       "      <th>components/11</th>\n",
       "      <th>components/12</th>\n",
       "      <th>components/13</th>\n",
       "      <th>components/14</th>\n",
       "    </tr>\n",
       "    <tr>\n",
       "      <th>id</th>\n",
       "      <th></th>\n",
       "      <th></th>\n",
       "      <th></th>\n",
       "      <th></th>\n",
       "      <th></th>\n",
       "      <th></th>\n",
       "      <th></th>\n",
       "      <th></th>\n",
       "      <th></th>\n",
       "      <th></th>\n",
       "      <th></th>\n",
       "      <th></th>\n",
       "      <th></th>\n",
       "      <th></th>\n",
       "      <th></th>\n",
       "      <th></th>\n",
       "      <th></th>\n",
       "      <th></th>\n",
       "      <th></th>\n",
       "      <th></th>\n",
       "      <th></th>\n",
       "    </tr>\n",
       "  </thead>\n",
       "  <tbody>\n",
       "    <tr>\n",
       "      <th>glhj9rkw3mp8</th>\n",
       "      <td>AMS3</td>\n",
       "      <td>2023-02-21 16:23:02.411000+00:00</td>\n",
       "      <td>2023-04-21 18:54:39.978000+00:00</td>\n",
       "      <td>1</td>\n",
       "      <td>2023-02-21</td>\n",
       "      <td>nmb3bbtqfgsj</td>\n",
       "      <td>NaN</td>\n",
       "      <td>NaN</td>\n",
       "      <td>NaN</td>\n",
       "      <td>NaN</td>\n",
       "      <td>...</td>\n",
       "      <td>NaN</td>\n",
       "      <td>NaN</td>\n",
       "      <td>NaN</td>\n",
       "      <td>NaN</td>\n",
       "      <td>NaN</td>\n",
       "      <td>NaN</td>\n",
       "      <td>NaN</td>\n",
       "      <td>NaN</td>\n",
       "      <td>NaN</td>\n",
       "      <td>NaN</td>\n",
       "    </tr>\n",
       "    <tr>\n",
       "      <th>xmrt3s9p9lw7</th>\n",
       "      <td>AMS3</td>\n",
       "      <td>2023-02-22 17:31:21.395000+00:00</td>\n",
       "      <td>2023-04-21 19:06:55.034000+00:00</td>\n",
       "      <td>1</td>\n",
       "      <td>2023-02-22</td>\n",
       "      <td>gb3gs5vj7js2</td>\n",
       "      <td>NaN</td>\n",
       "      <td>NaN</td>\n",
       "      <td>NaN</td>\n",
       "      <td>NaN</td>\n",
       "      <td>...</td>\n",
       "      <td>NaN</td>\n",
       "      <td>NaN</td>\n",
       "      <td>NaN</td>\n",
       "      <td>NaN</td>\n",
       "      <td>NaN</td>\n",
       "      <td>NaN</td>\n",
       "      <td>NaN</td>\n",
       "      <td>NaN</td>\n",
       "      <td>NaN</td>\n",
       "      <td>NaN</td>\n",
       "    </tr>\n",
       "    <tr>\n",
       "      <th>z2cshz8pdgwj</th>\n",
       "      <td>AMS3</td>\n",
       "      <td>2023-02-22 17:38:11.979000+00:00</td>\n",
       "      <td>2023-07-20 22:31:03.057000+00:00</td>\n",
       "      <td>1</td>\n",
       "      <td>2023-02-22</td>\n",
       "      <td>fdg768pfw7v3</td>\n",
       "      <td>NaN</td>\n",
       "      <td>NaN</td>\n",
       "      <td>NaN</td>\n",
       "      <td>NaN</td>\n",
       "      <td>...</td>\n",
       "      <td>NaN</td>\n",
       "      <td>NaN</td>\n",
       "      <td>NaN</td>\n",
       "      <td>NaN</td>\n",
       "      <td>NaN</td>\n",
       "      <td>NaN</td>\n",
       "      <td>NaN</td>\n",
       "      <td>NaN</td>\n",
       "      <td>NaN</td>\n",
       "      <td>NaN</td>\n",
       "    </tr>\n",
       "    <tr>\n",
       "      <th>msbt8b9p1p0q</th>\n",
       "      <td>AMS3</td>\n",
       "      <td>2023-02-22 19:29:08.637000+00:00</td>\n",
       "      <td>2023-09-22 17:58:17.203000+00:00</td>\n",
       "      <td>1</td>\n",
       "      <td>2023-02-22</td>\n",
       "      <td>kl8qv98c9brp</td>\n",
       "      <td>NaN</td>\n",
       "      <td>NaN</td>\n",
       "      <td>NaN</td>\n",
       "      <td>NaN</td>\n",
       "      <td>...</td>\n",
       "      <td>NaN</td>\n",
       "      <td>NaN</td>\n",
       "      <td>NaN</td>\n",
       "      <td>NaN</td>\n",
       "      <td>NaN</td>\n",
       "      <td>NaN</td>\n",
       "      <td>NaN</td>\n",
       "      <td>NaN</td>\n",
       "      <td>NaN</td>\n",
       "      <td>NaN</td>\n",
       "    </tr>\n",
       "    <tr>\n",
       "      <th>vpsyj9648bv2</th>\n",
       "      <td>AMS3</td>\n",
       "      <td>2023-02-22 19:29:08.678000+00:00</td>\n",
       "      <td>2023-04-21 19:11:45.618000+00:00</td>\n",
       "      <td>1</td>\n",
       "      <td>2023-02-22</td>\n",
       "      <td>0fycrqvyvqf3</td>\n",
       "      <td>NaN</td>\n",
       "      <td>NaN</td>\n",
       "      <td>NaN</td>\n",
       "      <td>NaN</td>\n",
       "      <td>...</td>\n",
       "      <td>NaN</td>\n",
       "      <td>NaN</td>\n",
       "      <td>NaN</td>\n",
       "      <td>NaN</td>\n",
       "      <td>NaN</td>\n",
       "      <td>NaN</td>\n",
       "      <td>NaN</td>\n",
       "      <td>NaN</td>\n",
       "      <td>NaN</td>\n",
       "      <td>NaN</td>\n",
       "    </tr>\n",
       "  </tbody>\n",
       "</table>\n",
       "<p>5 rows × 21 columns</p>\n",
       "</div>"
      ],
      "text/plain": [
       "              name                       created_at  \\\n",
       "id                                                    \n",
       "glhj9rkw3mp8  AMS3 2023-02-21 16:23:02.411000+00:00   \n",
       "xmrt3s9p9lw7  AMS3 2023-02-22 17:31:21.395000+00:00   \n",
       "z2cshz8pdgwj  AMS3 2023-02-22 17:38:11.979000+00:00   \n",
       "msbt8b9p1p0q  AMS3 2023-02-22 19:29:08.637000+00:00   \n",
       "vpsyj9648bv2  AMS3 2023-02-22 19:29:08.678000+00:00   \n",
       "\n",
       "                                   updated_at  position start_date  \\\n",
       "id                                                                   \n",
       "glhj9rkw3mp8 2023-04-21 18:54:39.978000+00:00         1 2023-02-21   \n",
       "xmrt3s9p9lw7 2023-04-21 19:06:55.034000+00:00         1 2023-02-22   \n",
       "z2cshz8pdgwj 2023-07-20 22:31:03.057000+00:00         1 2023-02-22   \n",
       "msbt8b9p1p0q 2023-09-22 17:58:17.203000+00:00         1 2023-02-22   \n",
       "vpsyj9648bv2 2023-04-21 19:11:45.618000+00:00         1 2023-02-22   \n",
       "\n",
       "                  group_id components/0 components/1 components/2  \\\n",
       "id                                                                  \n",
       "glhj9rkw3mp8  nmb3bbtqfgsj          NaN          NaN          NaN   \n",
       "xmrt3s9p9lw7  gb3gs5vj7js2          NaN          NaN          NaN   \n",
       "z2cshz8pdgwj  fdg768pfw7v3          NaN          NaN          NaN   \n",
       "msbt8b9p1p0q  kl8qv98c9brp          NaN          NaN          NaN   \n",
       "vpsyj9648bv2  0fycrqvyvqf3          NaN          NaN          NaN   \n",
       "\n",
       "             components/3  ... components/5 components/6 components/7  \\\n",
       "id                         ...                                          \n",
       "glhj9rkw3mp8          NaN  ...          NaN          NaN          NaN   \n",
       "xmrt3s9p9lw7          NaN  ...          NaN          NaN          NaN   \n",
       "z2cshz8pdgwj          NaN  ...          NaN          NaN          NaN   \n",
       "msbt8b9p1p0q          NaN  ...          NaN          NaN          NaN   \n",
       "vpsyj9648bv2          NaN  ...          NaN          NaN          NaN   \n",
       "\n",
       "             components/8 components/9 components/10 components/11  \\\n",
       "id                                                                   \n",
       "glhj9rkw3mp8          NaN          NaN           NaN           NaN   \n",
       "xmrt3s9p9lw7          NaN          NaN           NaN           NaN   \n",
       "z2cshz8pdgwj          NaN          NaN           NaN           NaN   \n",
       "msbt8b9p1p0q          NaN          NaN           NaN           NaN   \n",
       "vpsyj9648bv2          NaN          NaN           NaN           NaN   \n",
       "\n",
       "             components/12 components/13 components/14  \n",
       "id                                                      \n",
       "glhj9rkw3mp8           NaN           NaN           NaN  \n",
       "xmrt3s9p9lw7           NaN           NaN           NaN  \n",
       "z2cshz8pdgwj           NaN           NaN           NaN  \n",
       "msbt8b9p1p0q           NaN           NaN           NaN  \n",
       "vpsyj9648bv2           NaN           NaN           NaN  \n",
       "\n",
       "[5 rows x 21 columns]"
      ]
     },
     "execution_count": 1,
     "metadata": {},
     "output_type": "execute_result"
    }
   ],
   "source": [
    "import pandas as pd\n",
    "df = pd.read_csv(filepath_or_buffer='/kaggle/input/digitalocean-current-status/Digitalocean_data.csv',\n",
    "                 index_col=['id'],\n",
    "                 parse_dates=['created_at', 'updated_at', 'start_date']).drop(columns=['description', 'status', 'showcase',\n",
    "                                                                                      'page_id', 'group', 'only_show_if_degraded'])\n",
    "df.head()"
   ]
  },
  {
   "cell_type": "code",
   "execution_count": 2,
   "id": "da3109f2",
   "metadata": {
    "execution": {
     "iopub.execute_input": "2023-12-14T15:05:37.488120Z",
     "iopub.status.busy": "2023-12-14T15:05:37.487778Z",
     "iopub.status.idle": "2023-12-14T15:05:37.506589Z",
     "shell.execute_reply": "2023-12-14T15:05:37.505319Z"
    },
    "papermill": {
     "duration": 0.024782,
     "end_time": "2023-12-14T15:05:37.509216",
     "exception": false,
     "start_time": "2023-12-14T15:05:37.484434",
     "status": "completed"
    },
    "tags": []
   },
   "outputs": [
    {
     "name": "stdout",
     "output_type": "stream",
     "text": [
      "<class 'pandas.core.frame.DataFrame'>\n",
      "Index: 187 entries, glhj9rkw3mp8 to hjz5ry9b7nl6\n",
      "Data columns (total 21 columns):\n",
      " #   Column         Non-Null Count  Dtype              \n",
      "---  ------         --------------  -----              \n",
      " 0   name           187 non-null    object             \n",
      " 1   created_at     187 non-null    datetime64[ns, UTC]\n",
      " 2   updated_at     187 non-null    datetime64[ns, UTC]\n",
      " 3   position       187 non-null    int64              \n",
      " 4   start_date     173 non-null    datetime64[ns]     \n",
      " 5   group_id       164 non-null    object             \n",
      " 6   components/0   14 non-null     object             \n",
      " 7   components/1   14 non-null     object             \n",
      " 8   components/2   14 non-null     object             \n",
      " 9   components/3   14 non-null     object             \n",
      " 10  components/4   14 non-null     object             \n",
      " 11  components/5   14 non-null     object             \n",
      " 12  components/6   12 non-null     object             \n",
      " 13  components/7   12 non-null     object             \n",
      " 14  components/8   11 non-null     object             \n",
      " 15  components/9   10 non-null     object             \n",
      " 16  components/10  9 non-null      object             \n",
      " 17  components/11  8 non-null      object             \n",
      " 18  components/12  7 non-null      object             \n",
      " 19  components/13  7 non-null      object             \n",
      " 20  components/14  4 non-null      object             \n",
      "dtypes: datetime64[ns, UTC](2), datetime64[ns](1), int64(1), object(17)\n",
      "memory usage: 32.1+ KB\n"
     ]
    }
   ],
   "source": [
    "df.info()"
   ]
  },
  {
   "cell_type": "code",
   "execution_count": 3,
   "id": "24e742f2",
   "metadata": {
    "execution": {
     "iopub.execute_input": "2023-12-14T15:05:37.515994Z",
     "iopub.status.busy": "2023-12-14T15:05:37.515641Z",
     "iopub.status.idle": "2023-12-14T15:05:37.528946Z",
     "shell.execute_reply": "2023-12-14T15:05:37.528076Z"
    },
    "papermill": {
     "duration": 0.018855,
     "end_time": "2023-12-14T15:05:37.531034",
     "exception": false,
     "start_time": "2023-12-14T15:05:37.512179",
     "status": "completed"
    },
    "tags": []
   },
   "outputs": [
    {
     "data": {
      "text/plain": [
       "name              47\n",
       "created_at       183\n",
       "updated_at       187\n",
       "position          23\n",
       "start_date         8\n",
       "group_id          14\n",
       "components/0      14\n",
       "components/1      14\n",
       "components/2      14\n",
       "components/3      14\n",
       "components/4      14\n",
       "components/5      14\n",
       "components/6      12\n",
       "components/7      12\n",
       "components/8      11\n",
       "components/9      10\n",
       "components/10      9\n",
       "components/11      8\n",
       "components/12      7\n",
       "components/13      7\n",
       "components/14      4\n",
       "dtype: int64"
      ]
     },
     "execution_count": 3,
     "metadata": {},
     "output_type": "execute_result"
    }
   ],
   "source": [
    "df.nunique()"
   ]
  },
  {
   "cell_type": "markdown",
   "id": "355639aa",
   "metadata": {
    "papermill": {
     "duration": 0.002261,
     "end_time": "2023-12-14T15:05:37.535916",
     "exception": false,
     "start_time": "2023-12-14T15:05:37.533655",
     "status": "completed"
    },
    "tags": []
   },
   "source": [
    "A lot of the data we have has been hashed, but we can make a scatter plot and a timeline."
   ]
  },
  {
   "cell_type": "code",
   "execution_count": 4,
   "id": "4745a5a5",
   "metadata": {
    "execution": {
     "iopub.execute_input": "2023-12-14T15:05:37.542569Z",
     "iopub.status.busy": "2023-12-14T15:05:37.542160Z",
     "iopub.status.idle": "2023-12-14T15:05:39.969207Z",
     "shell.execute_reply": "2023-12-14T15:05:39.967998Z"
    },
    "papermill": {
     "duration": 2.433302,
     "end_time": "2023-12-14T15:05:39.971655",
     "exception": false,
     "start_time": "2023-12-14T15:05:37.538353",
     "status": "completed"
    },
    "tags": []
   },
   "outputs": [
    {
     "data": {
      "text/html": [
       "        <script type=\"text/javascript\">\n",
       "        window.PlotlyConfig = {MathJaxConfig: 'local'};\n",
       "        if (window.MathJax && window.MathJax.Hub && window.MathJax.Hub.Config) {window.MathJax.Hub.Config({SVG: {font: \"STIX-Web\"}});}\n",
       "        if (typeof require !== 'undefined') {\n",
       "        require.undef(\"plotly\");\n",
       "        requirejs.config({\n",
       "            paths: {\n",
       "                'plotly': ['https://cdn.plot.ly/plotly-2.25.2.min']\n",
       "            }\n",
       "        });\n",
       "        require(['plotly'], function(Plotly) {\n",
       "            window._Plotly = Plotly;\n",
       "        });\n",
       "        }\n",
       "        </script>\n",
       "        "
      ]
     },
     "metadata": {},
     "output_type": "display_data"
    },
    {
     "data": {
      "text/html": [
       "<div>                            <div id=\"6a792d30-ba02-4181-922f-cdc0a91d266f\" class=\"plotly-graph-div\" style=\"height:600px; width:100%;\"></div>            <script type=\"text/javascript\">                require([\"plotly\"], function(Plotly) {                    window.PLOTLYENV=window.PLOTLYENV || {};                                    if (document.getElementById(\"6a792d30-ba02-4181-922f-cdc0a91d266f\")) {                    Plotly.newPlot(                        \"6a792d30-ba02-4181-922f-cdc0a91d266f\",                        [{\"hovertemplate\":\"\\u003cb\\u003e%{hovertext}\\u003c\\u002fb\\u003e\\u003cbr\\u003e\\u003cbr\\u003eposition=%{x}\\u003cbr\\u003ename=%{y}\\u003cextra\\u003e\\u003c\\u002fextra\\u003e\",\"hovertext\":[\"nmb3bbtqfgsj\",\"gb3gs5vj7js2\",\"fdg768pfw7v3\",\"kl8qv98c9brp\",\"0fycrqvyvqf3\",null,\"jg6pzd84p7bn\",\"hjz5ry9b7nl6\",\"4rgs7bbljl8d\",\"2d23wwyqgq6m\",\"sjlhrm4vf4pr\",\"jjs48vwjlqjr\",\"b3tklvcyzvh0\",\"0m9zj5r96xhd\",\"q6r6dg0ss2js\",\"jjs48vwjlqjr\",\"nmb3bbtqfgsj\",\"4rgs7bbljl8d\",\"gb3gs5vj7js2\",\"jg6pzd84p7bn\",\"fdg768pfw7v3\",\"0fycrqvyvqf3\",\"q6r6dg0ss2js\",\"kl8qv98c9brp\",null,\"hjz5ry9b7nl6\",\"2d23wwyqgq6m\",\"sjlhrm4vf4pr\",\"b3tklvcyzvh0\",\"0m9zj5r96xhd\",\"jjs48vwjlqjr\",\"hjz5ry9b7nl6\",\"4rgs7bbljl8d\",\"nmb3bbtqfgsj\",\"b3tklvcyzvh0\",\"gb3gs5vj7js2\",\"jg6pzd84p7bn\",\"fdg768pfw7v3\",\"0fycrqvyvqf3\",\"kl8qv98c9brp\",\"q6r6dg0ss2js\",\"sjlhrm4vf4pr\",\"2d23wwyqgq6m\",\"0m9zj5r96xhd\",null,\"jjs48vwjlqjr\",\"nmb3bbtqfgsj\",\"4rgs7bbljl8d\",\"b3tklvcyzvh0\",\"gb3gs5vj7js2\",\"jg6pzd84p7bn\",\"2d23wwyqgq6m\",\"q6r6dg0ss2js\",\"kl8qv98c9brp\",\"0fycrqvyvqf3\",\"0m9zj5r96xhd\",\"sjlhrm4vf4pr\",\"hjz5ry9b7nl6\",null,\"fdg768pfw7v3\",\"hjz5ry9b7nl6\",\"jjs48vwjlqjr\",\"4rgs7bbljl8d\",\"nmb3bbtqfgsj\",\"b3tklvcyzvh0\",\"gb3gs5vj7js2\",\"jg6pzd84p7bn\",\"fdg768pfw7v3\",\"0m9zj5r96xhd\",\"2d23wwyqgq6m\",\"0fycrqvyvqf3\",\"sjlhrm4vf4pr\",\"kl8qv98c9brp\",\"q6r6dg0ss2js\",null,\"hjz5ry9b7nl6\",\"4rgs7bbljl8d\",\"nmb3bbtqfgsj\",\"b3tklvcyzvh0\",\"gb3gs5vj7js2\",\"jg6pzd84p7bn\",\"2d23wwyqgq6m\",\"fdg768pfw7v3\",\"kl8qv98c9brp\",\"0m9zj5r96xhd\",\"sjlhrm4vf4pr\",\"q6r6dg0ss2js\",\"0fycrqvyvqf3\",null,\"jjs48vwjlqjr\",\"jjs48vwjlqjr\",\"hjz5ry9b7nl6\",\"4rgs7bbljl8d\",\"b3tklvcyzvh0\",\"jg6pzd84p7bn\",\"2d23wwyqgq6m\",\"fdg768pfw7v3\",\"kl8qv98c9brp\",\"q6r6dg0ss2js\",\"sjlhrm4vf4pr\",\"0m9zj5r96xhd\",null,\"gb3gs5vj7js2\",\"jjs48vwjlqjr\",\"hjz5ry9b7nl6\",\"4rgs7bbljl8d\",\"b3tklvcyzvh0\",\"gb3gs5vj7js2\",\"jg6pzd84p7bn\",\"2d23wwyqgq6m\",\"sjlhrm4vf4pr\",\"0m9zj5r96xhd\",\"q6r6dg0ss2js\",null,\"kl8qv98c9brp\",\"fdg768pfw7v3\",\"jjs48vwjlqjr\",\"b3tklvcyzvh0\",\"gb3gs5vj7js2\",\"0m9zj5r96xhd\",\"2d23wwyqgq6m\",\"q6r6dg0ss2js\",\"sjlhrm4vf4pr\",\"kl8qv98c9brp\",null,\"jg6pzd84p7bn\",\"hjz5ry9b7nl6\",\"4rgs7bbljl8d\",\"jjs48vwjlqjr\",null,\"gb3gs5vj7js2\",\"kl8qv98c9brp\",\"2d23wwyqgq6m\",\"4rgs7bbljl8d\",\"jg6pzd84p7bn\",\"hjz5ry9b7nl6\",\"sjlhrm4vf4pr\",\"0m9zj5r96xhd\",\"b3tklvcyzvh0\",\"hjz5ry9b7nl6\",\"4rgs7bbljl8d\",null,\"gb3gs5vj7js2\",\"jg6pzd84p7bn\",\"kl8qv98c9brp\",\"b3tklvcyzvh0\",\"sjlhrm4vf4pr\",\"0m9zj5r96xhd\",\"2d23wwyqgq6m\",\"hjz5ry9b7nl6\",\"4rgs7bbljl8d\",\"b3tklvcyzvh0\",null,\"jg6pzd84p7bn\",\"kl8qv98c9brp\",\"sjlhrm4vf4pr\",\"0m9zj5r96xhd\",\"2d23wwyqgq6m\",\"hjz5ry9b7nl6\",\"4rgs7bbljl8d\",\"b3tklvcyzvh0\",null,\"jg6pzd84p7bn\",\"sjlhrm4vf4pr\",\"0m9zj5r96xhd\",\"2d23wwyqgq6m\",\"hjz5ry9b7nl6\",\"4rgs7bbljl8d\",\"b3tklvcyzvh0\",\"sjlhrm4vf4pr\",\"0m9zj5r96xhd\",\"2d23wwyqgq6m\",null,\"jg6pzd84p7bn\",\"b3tklvcyzvh0\",\"2d23wwyqgq6m\",\"sjlhrm4vf4pr\",\"0m9zj5r96xhd\",null,null,null,null,null,null,null,null,null],\"legendgroup\":\"\",\"marker\":{\"color\":\"#636efa\",\"symbol\":\"circle\"},\"mode\":\"markers\",\"name\":\"\",\"orientation\":\"h\",\"showlegend\":false,\"x\":[1,1,1,1,1,1,1,1,1,1,1,1,1,1,1,2,2,2,2,2,2,2,2,2,2,2,2,2,2,2,3,3,3,3,3,3,3,3,3,3,3,3,3,3,3,4,4,4,4,4,4,4,4,4,4,4,4,4,4,4,5,5,5,5,5,5,5,5,5,5,5,5,5,5,5,6,6,6,6,6,6,6,6,6,6,6,6,6,6,6,7,7,7,7,7,7,7,7,7,7,7,7,7,8,8,8,8,8,8,8,8,8,8,8,8,8,9,9,9,9,9,9,9,9,9,9,9,9,10,10,10,10,10,10,10,10,10,10,10,11,11,11,11,11,11,11,11,11,11,12,12,12,12,12,12,12,12,12,13,13,13,13,13,13,13,13,14,14,14,14,14,14,14,14,15,15,15,15,15,16,17,18,19,20,21,22,23],\"xaxis\":\"x\",\"y\":[\"AMS3\",\"AMS3\",\"AMS3\",\"AMS3\",\"AMS3\",\"API\",\"AMS2\",\"AMS2\",\"AMS2\",\"Global\",\"Global\",\"Global\",\"Global\",\"Global\",\"AMS3\",\"Amsterdam\",\"FRA1\",\"AMS3\",\"BLR1\",\"AMS3\",\"FRA1\",\"FRA1\",\"BLR1\",\"BLR1\",\"Billing\",\"AMS3\",\"AMS2\",\"AMS2\",\"AMS2\",\"AMS2\",\"Bangalore\",\"BLR1\",\"BLR1\",\"NYC3\",\"AMS3\",\"FRA1\",\"BLR1\",\"NYC3\",\"NYC3\",\"FRA1\",\"FRA1\",\"AMS3\",\"AMS3\",\"AMS3\",\"Cloud Control Panel\",\"Frankfurt\",\"SFO3\",\"FRA1\",\"BLR1\",\"LON1\",\"FRA1\",\"BLR1\",\"LON1\",\"LON1\",\"SFO3\",\"BLR1\",\"BLR1\",\"FRA1\",\"Cloud Firewall\",\"SFO2\",\"LON1\",\"London\",\"LON1\",\"SGP1\",\"FRA1\",\"NYC1\",\"LON1\",\"SFO3\",\"FRA1\",\"FRA1\",\"SGP1\",\"FRA1\",\"NYC1\",\"NYC1\",\"Community\",\"NYC1\",\"NYC1\",\"SYD1\",\"LON1\",\"NYC3\",\"NYC1\",\"LON1\",\"SGP1\",\"NYC2\",\"LON1\",\"LON1\",\"SFO3\",\"SYD1\",\"DNS\",\"New York\",\"San Francisco\",\"NYC2\",\"NYC2\",\"NYC1\",\"NYC2\",\"NYC1\",\"SYD1\",\"NYC3\",\"SGP1\",\"NYC1\",\"NYC1\",\"Support Center\",\"SFO2\",\"Singapore\",\"NYC3\",\"NYC3\",\"NYC2\",\"SFO3\",\"NYC3\",\"NYC2\",\"NYC2\",\"NYC2\",\"SYD1\",\"Reserved IP\",\"SFO2\",\"BLR1\",\"Sydney\",\"NYC3\",\"SGP1\",\"NYC3\",\"NYC3\",\"TOR1\",\"NYC3\",\"SFO3\",\"WWW\",\"SFO1\",\"SFO1\",\"SFO1\",\"Toronto\",\"App Platform\",\"SYD1\",\"SGP1\",\"SGP1\",\"SFO2\",\"SFO2\",\"SFO2\",\"SFO1\",\"SFO1\",\"SFO1\",\"SFO3\",\"SFO3\",\"Container Registry\",\"TOR1\",\"SFO3\",\"SYD1\",\"SFO2\",\"SFO2\",\"SFO2\",\"SFO1\",\"SGP1\",\"SGP1\",\"SFO3\",\"Droplets\",\"SGP1\",\"TOR1\",\"SFO3\",\"SFO3\",\"SFO2\",\"SYD1\",\"SYD1\",\"SGP1\",\"Event Processing\",\"SYD1\",\"SGP1\",\"SGP1\",\"SFO3\",\"TOR1\",\"TOR1\",\"SYD1\",\"SYD1\",\"SYD1\",\"SYD1\",\"Functions\",\"TOR1\",\"TOR1\",\"TOR1\",\"TOR1\",\"TOR1\",\"Managed Databases\",\"Monitoring\",\"Networking\",\"Kubernetes\",\"Load Balancers\",\"Spaces\",\"Spaces CDN\",\"VPC\",\"Volumes\"],\"yaxis\":\"y\",\"type\":\"scatter\"}],                        {\"template\":{\"data\":{\"histogram2dcontour\":[{\"type\":\"histogram2dcontour\",\"colorbar\":{\"outlinewidth\":0,\"ticks\":\"\"},\"colorscale\":[[0.0,\"#0d0887\"],[0.1111111111111111,\"#46039f\"],[0.2222222222222222,\"#7201a8\"],[0.3333333333333333,\"#9c179e\"],[0.4444444444444444,\"#bd3786\"],[0.5555555555555556,\"#d8576b\"],[0.6666666666666666,\"#ed7953\"],[0.7777777777777778,\"#fb9f3a\"],[0.8888888888888888,\"#fdca26\"],[1.0,\"#f0f921\"]]}],\"choropleth\":[{\"type\":\"choropleth\",\"colorbar\":{\"outlinewidth\":0,\"ticks\":\"\"}}],\"histogram2d\":[{\"type\":\"histogram2d\",\"colorbar\":{\"outlinewidth\":0,\"ticks\":\"\"},\"colorscale\":[[0.0,\"#0d0887\"],[0.1111111111111111,\"#46039f\"],[0.2222222222222222,\"#7201a8\"],[0.3333333333333333,\"#9c179e\"],[0.4444444444444444,\"#bd3786\"],[0.5555555555555556,\"#d8576b\"],[0.6666666666666666,\"#ed7953\"],[0.7777777777777778,\"#fb9f3a\"],[0.8888888888888888,\"#fdca26\"],[1.0,\"#f0f921\"]]}],\"heatmap\":[{\"type\":\"heatmap\",\"colorbar\":{\"outlinewidth\":0,\"ticks\":\"\"},\"colorscale\":[[0.0,\"#0d0887\"],[0.1111111111111111,\"#46039f\"],[0.2222222222222222,\"#7201a8\"],[0.3333333333333333,\"#9c179e\"],[0.4444444444444444,\"#bd3786\"],[0.5555555555555556,\"#d8576b\"],[0.6666666666666666,\"#ed7953\"],[0.7777777777777778,\"#fb9f3a\"],[0.8888888888888888,\"#fdca26\"],[1.0,\"#f0f921\"]]}],\"heatmapgl\":[{\"type\":\"heatmapgl\",\"colorbar\":{\"outlinewidth\":0,\"ticks\":\"\"},\"colorscale\":[[0.0,\"#0d0887\"],[0.1111111111111111,\"#46039f\"],[0.2222222222222222,\"#7201a8\"],[0.3333333333333333,\"#9c179e\"],[0.4444444444444444,\"#bd3786\"],[0.5555555555555556,\"#d8576b\"],[0.6666666666666666,\"#ed7953\"],[0.7777777777777778,\"#fb9f3a\"],[0.8888888888888888,\"#fdca26\"],[1.0,\"#f0f921\"]]}],\"contourcarpet\":[{\"type\":\"contourcarpet\",\"colorbar\":{\"outlinewidth\":0,\"ticks\":\"\"}}],\"contour\":[{\"type\":\"contour\",\"colorbar\":{\"outlinewidth\":0,\"ticks\":\"\"},\"colorscale\":[[0.0,\"#0d0887\"],[0.1111111111111111,\"#46039f\"],[0.2222222222222222,\"#7201a8\"],[0.3333333333333333,\"#9c179e\"],[0.4444444444444444,\"#bd3786\"],[0.5555555555555556,\"#d8576b\"],[0.6666666666666666,\"#ed7953\"],[0.7777777777777778,\"#fb9f3a\"],[0.8888888888888888,\"#fdca26\"],[1.0,\"#f0f921\"]]}],\"surface\":[{\"type\":\"surface\",\"colorbar\":{\"outlinewidth\":0,\"ticks\":\"\"},\"colorscale\":[[0.0,\"#0d0887\"],[0.1111111111111111,\"#46039f\"],[0.2222222222222222,\"#7201a8\"],[0.3333333333333333,\"#9c179e\"],[0.4444444444444444,\"#bd3786\"],[0.5555555555555556,\"#d8576b\"],[0.6666666666666666,\"#ed7953\"],[0.7777777777777778,\"#fb9f3a\"],[0.8888888888888888,\"#fdca26\"],[1.0,\"#f0f921\"]]}],\"mesh3d\":[{\"type\":\"mesh3d\",\"colorbar\":{\"outlinewidth\":0,\"ticks\":\"\"}}],\"scatter\":[{\"fillpattern\":{\"fillmode\":\"overlay\",\"size\":10,\"solidity\":0.2},\"type\":\"scatter\"}],\"parcoords\":[{\"type\":\"parcoords\",\"line\":{\"colorbar\":{\"outlinewidth\":0,\"ticks\":\"\"}}}],\"scatterpolargl\":[{\"type\":\"scatterpolargl\",\"marker\":{\"colorbar\":{\"outlinewidth\":0,\"ticks\":\"\"}}}],\"bar\":[{\"error_x\":{\"color\":\"#2a3f5f\"},\"error_y\":{\"color\":\"#2a3f5f\"},\"marker\":{\"line\":{\"color\":\"#E5ECF6\",\"width\":0.5},\"pattern\":{\"fillmode\":\"overlay\",\"size\":10,\"solidity\":0.2}},\"type\":\"bar\"}],\"scattergeo\":[{\"type\":\"scattergeo\",\"marker\":{\"colorbar\":{\"outlinewidth\":0,\"ticks\":\"\"}}}],\"scatterpolar\":[{\"type\":\"scatterpolar\",\"marker\":{\"colorbar\":{\"outlinewidth\":0,\"ticks\":\"\"}}}],\"histogram\":[{\"marker\":{\"pattern\":{\"fillmode\":\"overlay\",\"size\":10,\"solidity\":0.2}},\"type\":\"histogram\"}],\"scattergl\":[{\"type\":\"scattergl\",\"marker\":{\"colorbar\":{\"outlinewidth\":0,\"ticks\":\"\"}}}],\"scatter3d\":[{\"type\":\"scatter3d\",\"line\":{\"colorbar\":{\"outlinewidth\":0,\"ticks\":\"\"}},\"marker\":{\"colorbar\":{\"outlinewidth\":0,\"ticks\":\"\"}}}],\"scattermapbox\":[{\"type\":\"scattermapbox\",\"marker\":{\"colorbar\":{\"outlinewidth\":0,\"ticks\":\"\"}}}],\"scatterternary\":[{\"type\":\"scatterternary\",\"marker\":{\"colorbar\":{\"outlinewidth\":0,\"ticks\":\"\"}}}],\"scattercarpet\":[{\"type\":\"scattercarpet\",\"marker\":{\"colorbar\":{\"outlinewidth\":0,\"ticks\":\"\"}}}],\"carpet\":[{\"aaxis\":{\"endlinecolor\":\"#2a3f5f\",\"gridcolor\":\"white\",\"linecolor\":\"white\",\"minorgridcolor\":\"white\",\"startlinecolor\":\"#2a3f5f\"},\"baxis\":{\"endlinecolor\":\"#2a3f5f\",\"gridcolor\":\"white\",\"linecolor\":\"white\",\"minorgridcolor\":\"white\",\"startlinecolor\":\"#2a3f5f\"},\"type\":\"carpet\"}],\"table\":[{\"cells\":{\"fill\":{\"color\":\"#EBF0F8\"},\"line\":{\"color\":\"white\"}},\"header\":{\"fill\":{\"color\":\"#C8D4E3\"},\"line\":{\"color\":\"white\"}},\"type\":\"table\"}],\"barpolar\":[{\"marker\":{\"line\":{\"color\":\"#E5ECF6\",\"width\":0.5},\"pattern\":{\"fillmode\":\"overlay\",\"size\":10,\"solidity\":0.2}},\"type\":\"barpolar\"}],\"pie\":[{\"automargin\":true,\"type\":\"pie\"}]},\"layout\":{\"autotypenumbers\":\"strict\",\"colorway\":[\"#636efa\",\"#EF553B\",\"#00cc96\",\"#ab63fa\",\"#FFA15A\",\"#19d3f3\",\"#FF6692\",\"#B6E880\",\"#FF97FF\",\"#FECB52\"],\"font\":{\"color\":\"#2a3f5f\"},\"hovermode\":\"closest\",\"hoverlabel\":{\"align\":\"left\"},\"paper_bgcolor\":\"white\",\"plot_bgcolor\":\"#E5ECF6\",\"polar\":{\"bgcolor\":\"#E5ECF6\",\"angularaxis\":{\"gridcolor\":\"white\",\"linecolor\":\"white\",\"ticks\":\"\"},\"radialaxis\":{\"gridcolor\":\"white\",\"linecolor\":\"white\",\"ticks\":\"\"}},\"ternary\":{\"bgcolor\":\"#E5ECF6\",\"aaxis\":{\"gridcolor\":\"white\",\"linecolor\":\"white\",\"ticks\":\"\"},\"baxis\":{\"gridcolor\":\"white\",\"linecolor\":\"white\",\"ticks\":\"\"},\"caxis\":{\"gridcolor\":\"white\",\"linecolor\":\"white\",\"ticks\":\"\"}},\"coloraxis\":{\"colorbar\":{\"outlinewidth\":0,\"ticks\":\"\"}},\"colorscale\":{\"sequential\":[[0.0,\"#0d0887\"],[0.1111111111111111,\"#46039f\"],[0.2222222222222222,\"#7201a8\"],[0.3333333333333333,\"#9c179e\"],[0.4444444444444444,\"#bd3786\"],[0.5555555555555556,\"#d8576b\"],[0.6666666666666666,\"#ed7953\"],[0.7777777777777778,\"#fb9f3a\"],[0.8888888888888888,\"#fdca26\"],[1.0,\"#f0f921\"]],\"sequentialminus\":[[0.0,\"#0d0887\"],[0.1111111111111111,\"#46039f\"],[0.2222222222222222,\"#7201a8\"],[0.3333333333333333,\"#9c179e\"],[0.4444444444444444,\"#bd3786\"],[0.5555555555555556,\"#d8576b\"],[0.6666666666666666,\"#ed7953\"],[0.7777777777777778,\"#fb9f3a\"],[0.8888888888888888,\"#fdca26\"],[1.0,\"#f0f921\"]],\"diverging\":[[0,\"#8e0152\"],[0.1,\"#c51b7d\"],[0.2,\"#de77ae\"],[0.3,\"#f1b6da\"],[0.4,\"#fde0ef\"],[0.5,\"#f7f7f7\"],[0.6,\"#e6f5d0\"],[0.7,\"#b8e186\"],[0.8,\"#7fbc41\"],[0.9,\"#4d9221\"],[1,\"#276419\"]]},\"xaxis\":{\"gridcolor\":\"white\",\"linecolor\":\"white\",\"ticks\":\"\",\"title\":{\"standoff\":15},\"zerolinecolor\":\"white\",\"automargin\":true,\"zerolinewidth\":2},\"yaxis\":{\"gridcolor\":\"white\",\"linecolor\":\"white\",\"ticks\":\"\",\"title\":{\"standoff\":15},\"zerolinecolor\":\"white\",\"automargin\":true,\"zerolinewidth\":2},\"scene\":{\"xaxis\":{\"backgroundcolor\":\"#E5ECF6\",\"gridcolor\":\"white\",\"linecolor\":\"white\",\"showbackground\":true,\"ticks\":\"\",\"zerolinecolor\":\"white\",\"gridwidth\":2},\"yaxis\":{\"backgroundcolor\":\"#E5ECF6\",\"gridcolor\":\"white\",\"linecolor\":\"white\",\"showbackground\":true,\"ticks\":\"\",\"zerolinecolor\":\"white\",\"gridwidth\":2},\"zaxis\":{\"backgroundcolor\":\"#E5ECF6\",\"gridcolor\":\"white\",\"linecolor\":\"white\",\"showbackground\":true,\"ticks\":\"\",\"zerolinecolor\":\"white\",\"gridwidth\":2}},\"shapedefaults\":{\"line\":{\"color\":\"#2a3f5f\"}},\"annotationdefaults\":{\"arrowcolor\":\"#2a3f5f\",\"arrowhead\":0,\"arrowwidth\":1},\"geo\":{\"bgcolor\":\"white\",\"landcolor\":\"#E5ECF6\",\"subunitcolor\":\"white\",\"showland\":true,\"showlakes\":true,\"lakecolor\":\"white\"},\"title\":{\"x\":0.05},\"mapbox\":{\"style\":\"light\"}}},\"xaxis\":{\"anchor\":\"y\",\"domain\":[0.0,1.0],\"title\":{\"text\":\"position\"}},\"yaxis\":{\"anchor\":\"x\",\"domain\":[0.0,1.0],\"title\":{\"text\":\"name\"}},\"legend\":{\"tracegroupgap\":0},\"margin\":{\"t\":60},\"height\":600},                        {\"responsive\": true}                    ).then(function(){\n",
       "                            \n",
       "var gd = document.getElementById('6a792d30-ba02-4181-922f-cdc0a91d266f');\n",
       "var x = new MutationObserver(function (mutations, observer) {{\n",
       "        var display = window.getComputedStyle(gd).display;\n",
       "        if (!display || display === 'none') {{\n",
       "            console.log([gd, 'removed!']);\n",
       "            Plotly.purge(gd);\n",
       "            observer.disconnect();\n",
       "        }}\n",
       "}});\n",
       "\n",
       "// Listen for the removal of the full notebook cells\n",
       "var notebookContainer = gd.closest('#notebook-container');\n",
       "if (notebookContainer) {{\n",
       "    x.observe(notebookContainer, {childList: true});\n",
       "}}\n",
       "\n",
       "// Listen for the clearing of the current output cell\n",
       "var outputEl = gd.closest('.output');\n",
       "if (outputEl) {{\n",
       "    x.observe(outputEl, {childList: true});\n",
       "}}\n",
       "\n",
       "                        })                };                });            </script>        </div>"
      ]
     },
     "metadata": {},
     "output_type": "display_data"
    }
   ],
   "source": [
    "from plotly.express import scatter\n",
    "scatter(data_frame=df, x='position', y='name', height=600, hover_name='group_id')"
   ]
  },
  {
   "cell_type": "code",
   "execution_count": 5,
   "id": "6973e34e",
   "metadata": {
    "execution": {
     "iopub.execute_input": "2023-12-14T15:05:39.979476Z",
     "iopub.status.busy": "2023-12-14T15:05:39.979114Z",
     "iopub.status.idle": "2023-12-14T15:05:40.061693Z",
     "shell.execute_reply": "2023-12-14T15:05:40.060367Z"
    },
    "papermill": {
     "duration": 0.089586,
     "end_time": "2023-12-14T15:05:40.064322",
     "exception": false,
     "start_time": "2023-12-14T15:05:39.974736",
     "status": "completed"
    },
    "tags": []
   },
   "outputs": [
    {
     "data": {
      "text/html": [
       "<div>                            <div id=\"e395d6f3-fde8-435a-b43e-d11208fd7ad0\" class=\"plotly-graph-div\" style=\"height:525px; width:100%;\"></div>            <script type=\"text/javascript\">                require([\"plotly\"], function(Plotly) {                    window.PLOTLYENV=window.PLOTLYENV || {};                                    if (document.getElementById(\"e395d6f3-fde8-435a-b43e-d11208fd7ad0\")) {                    Plotly.newPlot(                        \"e395d6f3-fde8-435a-b43e-d11208fd7ad0\",                        [{\"alignmentgroup\":\"True\",\"base\":[\"2023-02-21T16:23:02.411000+00:00\",\"2023-02-22T17:31:21.395000+00:00\",\"2023-02-22T17:38:11.979000+00:00\",\"2023-02-22T19:29:08.637000+00:00\",\"2023-02-22T19:29:08.678000+00:00\",\"2023-03-06T18:42:45.160000+00:00\",\"2023-03-28T21:00:48.230000+00:00\",\"2023-03-28T21:00:59.049000+00:00\",\"2023-03-28T21:01:00.028000+00:00\",\"2023-03-28T21:01:01.809000+00:00\",\"2023-03-28T21:01:02.121000+00:00\",\"2023-03-28T21:01:12.838000+00:00\",\"2023-03-28T21:01:23.977000+00:00\",\"2023-03-28T21:09:29.142000+00:00\",\"2023-03-28T21:29:11.035000+00:00\",\"2023-02-18T01:32:31.336000+00:00\",\"2023-02-21T16:23:53.241000+00:00\",\"2023-02-21T17:28:20.576000+00:00\",\"2023-02-22T17:31:21.637000+00:00\",\"2023-02-22T17:35:31.941000+00:00\",\"2023-02-22T17:38:11.443000+00:00\",\"2023-02-22T19:27:02.436000+00:00\",\"2023-02-22T19:28:06.391000+00:00\",\"2023-02-22T19:29:07.272000+00:00\",\"2023-03-06T18:42:45.116000+00:00\",\"2023-03-28T21:00:37.131000+00:00\",\"2023-03-28T21:00:37.684000+00:00\",\"2023-03-28T21:00:58.536000+00:00\",\"2023-03-28T21:01:00.335000+00:00\",\"2023-03-28T21:01:01.106000+00:00\",\"2023-02-18T01:32:31.358000+00:00\",\"2023-02-18T01:32:32.003000+00:00\",\"2023-02-21T16:23:53.124000+00:00\",\"2023-02-21T16:23:54.293000+00:00\",\"2023-02-22T17:27:01.570000+00:00\",\"2023-02-22T17:31:21.365000+00:00\",\"2023-02-22T17:35:31.607000+00:00\",\"2023-02-22T17:38:11.758000+00:00\",\"2023-02-22T19:27:02.436000+00:00\",\"2023-02-22T19:27:03.547000+00:00\",\"2023-02-22T19:28:04.636000+00:00\",\"2023-02-22T19:29:08.607000+00:00\",\"2023-02-22T19:29:08.728000+00:00\",\"2023-02-22T19:29:08.901000+00:00\",\"2023-03-06T18:42:46.098000+00:00\",\"2023-02-18T01:32:31.321000+00:00\",\"2023-02-21T16:23:02.401000+00:00\",\"2023-02-21T17:29:21.380000+00:00\",\"2023-02-22T17:27:01.589000+00:00\",\"2023-02-22T17:31:22.104000+00:00\",\"2023-02-22T17:35:31.282000+00:00\",\"2023-02-22T17:38:12.064000+00:00\",\"2023-02-22T19:27:02.170000+00:00\",\"2023-02-22T19:27:03.326000+00:00\",\"2023-02-22T19:28:06.018000+00:00\",\"2023-02-22T19:29:07.847000+00:00\",\"2023-02-22T19:29:08.629000+00:00\",\"2023-02-24T20:12:13.782000+00:00\",\"2023-03-06T18:42:45.109000+00:00\",\"2023-09-14T02:34:00.938000+00:00\",\"2023-02-18T01:32:31.346000+00:00\",\"2023-02-18T01:32:31.966000+00:00\",\"2023-02-21T16:23:02.409000+00:00\",\"2023-02-21T16:23:53.832000+00:00\",\"2023-02-22T17:27:01.966000+00:00\",\"2023-02-22T17:31:21.379000+00:00\",\"2023-02-22T17:35:31.879000+00:00\",\"2023-02-22T17:38:11.777000+00:00\",\"2023-02-22T19:25:58.881000+00:00\",\"2023-02-22T19:25:58.896000+00:00\",\"2023-02-22T19:26:00.224000+00:00\",\"2023-02-22T19:27:02.667000+00:00\",\"2023-02-22T19:29:08.931000+00:00\",\"2023-02-22T19:29:09.147000+00:00\",\"2023-03-06T18:42:45.300000+00:00\",\"2023-02-18T01:32:31.701000+00:00\",\"2023-02-21T16:23:53.127000+00:00\",\"2023-02-21T16:23:53.678000+00:00\",\"2023-02-22T17:27:02.204000+00:00\",\"2023-02-22T17:31:21.361000+00:00\",\"2023-02-22T17:35:32.026000+00:00\",\"2023-02-22T17:38:11.417000+00:00\",\"2023-02-22T17:38:12.076000+00:00\",\"2023-02-22T19:25:59.482000+00:00\",\"2023-02-22T19:25:59.782000+00:00\",\"2023-02-22T19:25:59.834000+00:00\",\"2023-02-22T19:28:05.985000+00:00\",\"2023-02-22T19:29:07.593000+00:00\",\"2023-03-06T18:42:44.851000+00:00\",\"2023-03-28T21:01:01.511000+00:00\",\"2023-02-18T01:32:31.705000+00:00\",\"2023-02-18T01:32:31.841000+00:00\",\"2023-02-21T16:24:05.118000+00:00\",\"2023-02-22T17:27:03.432000+00:00\",\"2023-02-22T17:31:21.922000+00:00\",\"2023-02-22T17:38:11.879000+00:00\",\"2023-02-22T17:38:12.779000+00:00\",\"2023-02-22T19:25:59.282000+00:00\",\"2023-02-22T19:26:00.027000+00:00\",\"2023-02-22T19:29:08.931000+00:00\",\"2023-02-22T19:29:08.955000+00:00\",\"2023-03-06T18:42:44.830000+00:00\",\"2023-03-28T20:58:25.577000+00:00\",\"2023-02-18T01:32:31.324000+00:00\",\"2023-02-18T01:32:31.709000+00:00\",\"2023-02-21T17:29:21.855000+00:00\",\"2023-02-22T17:27:02.408000+00:00\",\"2023-02-22T17:31:21.752000+00:00\",\"2023-02-22T17:35:31.285000+00:00\",\"2023-02-22T17:35:31.447000+00:00\",\"2023-02-22T17:38:12.072000+00:00\",\"2023-02-22T19:25:59.172000+00:00\",\"2023-02-22T19:29:07.332000+00:00\",\"2023-03-06T18:42:45.132000+00:00\",\"2023-03-28T20:58:28.494000+00:00\",\"2023-08-15T21:33:02.619000+00:00\",\"2023-02-18T01:32:31.345000+00:00\",\"2023-02-22T17:27:02.787000+00:00\",\"2023-02-22T17:31:21.798000+00:00\",\"2023-02-22T19:25:59.204000+00:00\",\"2023-02-22T19:27:02.548000+00:00\",\"2023-02-22T19:27:02.815000+00:00\",\"2023-02-22T19:27:03.583000+00:00\",\"2023-02-22T19:28:05.682000+00:00\",\"2023-03-06T18:42:45.631000+00:00\",\"2023-03-28T21:00:34.787000+00:00\",\"2023-03-28T21:00:36.105000+00:00\",\"2023-03-28T21:00:36.486000+00:00\",\"2023-02-18T01:32:31.607000+00:00\",\"2023-02-18T01:32:32.291000+00:00\",\"2023-02-22T17:31:21.372000+00:00\",\"2023-02-22T19:25:59.996000+00:00\",\"2023-02-22T19:27:01.476000+00:00\",\"2023-03-28T20:58:25.795000+00:00\",\"2023-03-28T20:58:26.700000+00:00\",\"2023-03-28T20:58:27.501000+00:00\",\"2023-03-28T21:00:34.538000+00:00\",\"2023-03-28T21:00:35.819000+00:00\",\"2023-03-28T21:00:36.826000+00:00\",\"2023-02-18T01:32:31.357000+00:00\",\"2023-02-21T17:28:20.574000+00:00\",\"2023-02-21T17:29:22.377000+00:00\",\"2023-02-22T17:31:21.756000+00:00\",\"2023-02-22T17:35:32.094000+00:00\",\"2023-02-22T19:29:08.057000+00:00\",\"2023-03-28T20:58:26.042000+00:00\",\"2023-03-28T20:58:27.200000+00:00\",\"2023-03-28T20:58:28.243000+00:00\",\"2023-03-28T21:00:35.502000+00:00\",\"2023-02-18T01:32:31.602000+00:00\",\"2023-02-21T17:29:21.635000+00:00\",\"2023-02-22T17:27:02.172000+00:00\",\"2023-02-22T17:27:05.451000+00:00\",\"2023-02-22T17:35:31.799000+00:00\",\"2023-02-22T19:27:02.972000+00:00\",\"2023-02-22T19:28:05.998000+00:00\",\"2023-02-22T19:29:08.846000+00:00\",\"2023-03-28T20:58:26.376000+00:00\",\"2023-02-18T01:32:31.832000+00:00\",\"2023-02-21T17:29:21.568000+00:00\",\"2023-02-22T17:27:01.979000+00:00\",\"2023-02-22T17:31:23.459000+00:00\",\"2023-02-22T17:35:32.180000+00:00\",\"2023-02-22T19:25:58.858000+00:00\",\"2023-02-22T19:27:01.704000+00:00\",\"2023-02-22T19:28:05.854000+00:00\",\"2023-02-18T01:32:31.344000+00:00\",\"2023-02-21T16:23:02.409000+00:00\",\"2023-02-22T17:27:02.575000+00:00\",\"2023-02-22T19:29:07.552000+00:00\",\"2023-02-22T19:29:07.993000+00:00\",\"2023-02-22T19:29:08.864000+00:00\",\"2023-02-22T19:30:13.001000+00:00\",\"2023-02-24T20:11:22.571000+00:00\",\"2023-02-22T17:27:01.575000+00:00\",\"2023-02-22T17:35:31.290000+00:00\",\"2023-02-22T17:38:11.448000+00:00\",\"2023-02-22T19:27:02.045000+00:00\",\"2023-02-22T19:29:09.360000+00:00\",\"2023-02-22T19:29:09.330000+00:00\",\"2023-02-22T19:29:09.360000+00:00\",\"2023-02-22T17:35:32.978000+00:00\",\"2023-02-22T17:38:13.208000+00:00\",\"2023-02-22T19:29:09.025000+00:00\",\"2023-02-22T19:30:11.018000+00:00\",\"2023-02-22T19:30:11.416000+00:00\",\"2023-03-28T21:01:39.123000+00:00\"],\"hovertemplate\":\"created_at=%{base}\\u003cbr\\u003eupdated_at=%{x}\\u003cbr\\u003ename=%{y}\\u003cextra\\u003e\\u003c\\u002fextra\\u003e\",\"legendgroup\":\"\",\"marker\":{\"color\":\"#636efa\",\"pattern\":{\"shape\":\"\"}},\"name\":\"\",\"offsetgroup\":\"\",\"orientation\":\"h\",\"showlegend\":false,\"textposition\":\"auto\",\"x\":[5106697567.0,5016933639.0,12804771078.0,18311348566.0,5010156940.0,15380239014.0,2066881973.0,8253449113.0,11559647776.0,15793482033.0,14647507725.0,15965041666.0,13471120226.0,2067231666.0,7324309856.0,19318363184.0,5106651553.0,14596407280.0,5016943280.0,5016822004.0,19621427397.0,5010290062.0,10273375960.0,18311349947.0,11087442351.0,8253471061.0,14203359572.0,14496024180.0,3643317546.0,2067739711.0,19318363177.0,11606756209.0,14600274769.0,18775295541.0,5018078449.0,7345703700.0,5016827499.0,18756229022.0,5010290069.0,18311473686.0,10272172879.0,17439134134.0,17146448542.0,5010851922.0,17334664010.0,19318363229.0,8072154208.0,15132611571.0,5018078433.0,5016951270.0,5016860231.0,17153105219.0,10272235359.0,18311473923.0,5010226493.0,5010852982.0,14502759316.0,11021174439.0,5552412791.0,46096.0,11606756885.0,19318362600.0,14600325554.0,7038470078.0,7494759630.0,5016952004.0,5016859638.0,17571395265.0,5011041954.0,17146638401.0,5010349903.0,17439260095.0,18311348333.0,7831279442.0,3988038697.0,11606756540.0,14600274869.0,5106658350.0,5016615500.0,5016952030.0,5016853941.0,17153105893.0,18995408927.0,18311537798.0,5010429741.0,17439322951.0,5009428500.0,5010158055.0,3988039163.0,15965053072.0,19318362893.0,11606756409.0,14600262914.0,5016614276.0,5017104052.0,17153105444.0,17571394277.0,18311538012.0,10269300876.0,17439133876.0,5010248983.0,9949713787.0,2066923059.0,19318363290.0,11606756551.0,14596346213.0,5016615305.0,5016946889.0,5016854695.0,17153265889.0,17445790757.0,7186993992.0,10269113582.0,3988038931.0,15368388815.0,2523704445.0,19318363283.0,11500300841.0,5016946847.0,15141459885.0,17146574802.0,10269238110.0,17439259268.0,18311411641.0,3988038446.0,2066951200.0,8253472164.0,11559671638.0,19318363036.0,1446985353.0,5016947278.0,18311537340.0,17146575887.0,11559802350.0,2067079293.0,8253600777.0,14624258928.0,2067162139.0,2066200897.0,11606756930.0,14596407608.0,5092401216.0,5016927063.0,5016853906.0,18311349294.0,2066331686.0,14624386279.0,2067289722.0,14203361875.0,11606756695.0,14596346587.0,5016615560.0,5006138152.0,5016854207.0,18311474394.0,17567407492.0,13333905473.0,14203491014.0,11606756475.0,14596346689.0,7876979665.0,5005880155.0,5016840354.0,14502949417.0,14615872051.0,17146511549.0,11606756972.0,14600325883.0,5016615167.0,14502760758.0,5010249992.0,17146448552.0,4999684229.0,4834689968.0,5016616172.0,17153266140.0,14509416880.0,5010345912.0,4999747881.0,4999747921.0,4999747901.0,5006564293.0,5006404074.0,4999748266.0,4999686283.0,4999685895.0,2055664590.0],\"xaxis\":\"x\",\"y\":[\"AMS3\",\"AMS3\",\"AMS3\",\"AMS3\",\"AMS3\",\"API\",\"AMS2\",\"AMS2\",\"AMS2\",\"Global\",\"Global\",\"Global\",\"Global\",\"Global\",\"AMS3\",\"Amsterdam\",\"FRA1\",\"AMS3\",\"BLR1\",\"AMS3\",\"FRA1\",\"FRA1\",\"BLR1\",\"BLR1\",\"Billing\",\"AMS3\",\"AMS2\",\"AMS2\",\"AMS2\",\"AMS2\",\"Bangalore\",\"BLR1\",\"BLR1\",\"NYC3\",\"AMS3\",\"FRA1\",\"BLR1\",\"NYC3\",\"NYC3\",\"FRA1\",\"FRA1\",\"AMS3\",\"AMS3\",\"AMS3\",\"Cloud Control Panel\",\"Frankfurt\",\"SFO3\",\"FRA1\",\"BLR1\",\"LON1\",\"FRA1\",\"BLR1\",\"LON1\",\"LON1\",\"SFO3\",\"BLR1\",\"BLR1\",\"FRA1\",\"Cloud Firewall\",\"SFO2\",\"LON1\",\"London\",\"LON1\",\"SGP1\",\"FRA1\",\"NYC1\",\"LON1\",\"SFO3\",\"FRA1\",\"FRA1\",\"SGP1\",\"FRA1\",\"NYC1\",\"NYC1\",\"Community\",\"NYC1\",\"NYC1\",\"SYD1\",\"LON1\",\"NYC3\",\"NYC1\",\"LON1\",\"SGP1\",\"NYC2\",\"LON1\",\"LON1\",\"SFO3\",\"SYD1\",\"DNS\",\"New York\",\"San Francisco\",\"NYC2\",\"NYC2\",\"NYC1\",\"NYC2\",\"NYC1\",\"SYD1\",\"NYC3\",\"SGP1\",\"NYC1\",\"NYC1\",\"Support Center\",\"SFO2\",\"Singapore\",\"NYC3\",\"NYC3\",\"NYC2\",\"SFO3\",\"NYC3\",\"NYC2\",\"NYC2\",\"NYC2\",\"SYD1\",\"Reserved IP\",\"SFO2\",\"BLR1\",\"Sydney\",\"NYC3\",\"SGP1\",\"NYC3\",\"NYC3\",\"TOR1\",\"NYC3\",\"SFO3\",\"WWW\",\"SFO1\",\"SFO1\",\"SFO1\",\"Toronto\",\"App Platform\",\"SYD1\",\"SGP1\",\"SGP1\",\"SFO2\",\"SFO2\",\"SFO2\",\"SFO1\",\"SFO1\",\"SFO1\",\"SFO3\",\"SFO3\",\"Container Registry\",\"TOR1\",\"SFO3\",\"SYD1\",\"SFO2\",\"SFO2\",\"SFO2\",\"SFO1\",\"SGP1\",\"SGP1\",\"SFO3\",\"Droplets\",\"SGP1\",\"TOR1\",\"SFO3\",\"SFO3\",\"SFO2\",\"SYD1\",\"SYD1\",\"SGP1\",\"Event Processing\",\"SYD1\",\"SGP1\",\"SGP1\",\"SFO3\",\"TOR1\",\"TOR1\",\"SYD1\",\"SYD1\",\"SYD1\",\"SYD1\",\"Functions\",\"TOR1\",\"TOR1\",\"TOR1\",\"TOR1\",\"TOR1\",\"Managed Databases\",\"Monitoring\",\"Networking\",\"Kubernetes\",\"Load Balancers\",\"Spaces\",\"Spaces CDN\",\"VPC\",\"Volumes\"],\"yaxis\":\"y\",\"type\":\"bar\"}],                        {\"template\":{\"data\":{\"histogram2dcontour\":[{\"type\":\"histogram2dcontour\",\"colorbar\":{\"outlinewidth\":0,\"ticks\":\"\"},\"colorscale\":[[0.0,\"#0d0887\"],[0.1111111111111111,\"#46039f\"],[0.2222222222222222,\"#7201a8\"],[0.3333333333333333,\"#9c179e\"],[0.4444444444444444,\"#bd3786\"],[0.5555555555555556,\"#d8576b\"],[0.6666666666666666,\"#ed7953\"],[0.7777777777777778,\"#fb9f3a\"],[0.8888888888888888,\"#fdca26\"],[1.0,\"#f0f921\"]]}],\"choropleth\":[{\"type\":\"choropleth\",\"colorbar\":{\"outlinewidth\":0,\"ticks\":\"\"}}],\"histogram2d\":[{\"type\":\"histogram2d\",\"colorbar\":{\"outlinewidth\":0,\"ticks\":\"\"},\"colorscale\":[[0.0,\"#0d0887\"],[0.1111111111111111,\"#46039f\"],[0.2222222222222222,\"#7201a8\"],[0.3333333333333333,\"#9c179e\"],[0.4444444444444444,\"#bd3786\"],[0.5555555555555556,\"#d8576b\"],[0.6666666666666666,\"#ed7953\"],[0.7777777777777778,\"#fb9f3a\"],[0.8888888888888888,\"#fdca26\"],[1.0,\"#f0f921\"]]}],\"heatmap\":[{\"type\":\"heatmap\",\"colorbar\":{\"outlinewidth\":0,\"ticks\":\"\"},\"colorscale\":[[0.0,\"#0d0887\"],[0.1111111111111111,\"#46039f\"],[0.2222222222222222,\"#7201a8\"],[0.3333333333333333,\"#9c179e\"],[0.4444444444444444,\"#bd3786\"],[0.5555555555555556,\"#d8576b\"],[0.6666666666666666,\"#ed7953\"],[0.7777777777777778,\"#fb9f3a\"],[0.8888888888888888,\"#fdca26\"],[1.0,\"#f0f921\"]]}],\"heatmapgl\":[{\"type\":\"heatmapgl\",\"colorbar\":{\"outlinewidth\":0,\"ticks\":\"\"},\"colorscale\":[[0.0,\"#0d0887\"],[0.1111111111111111,\"#46039f\"],[0.2222222222222222,\"#7201a8\"],[0.3333333333333333,\"#9c179e\"],[0.4444444444444444,\"#bd3786\"],[0.5555555555555556,\"#d8576b\"],[0.6666666666666666,\"#ed7953\"],[0.7777777777777778,\"#fb9f3a\"],[0.8888888888888888,\"#fdca26\"],[1.0,\"#f0f921\"]]}],\"contourcarpet\":[{\"type\":\"contourcarpet\",\"colorbar\":{\"outlinewidth\":0,\"ticks\":\"\"}}],\"contour\":[{\"type\":\"contour\",\"colorbar\":{\"outlinewidth\":0,\"ticks\":\"\"},\"colorscale\":[[0.0,\"#0d0887\"],[0.1111111111111111,\"#46039f\"],[0.2222222222222222,\"#7201a8\"],[0.3333333333333333,\"#9c179e\"],[0.4444444444444444,\"#bd3786\"],[0.5555555555555556,\"#d8576b\"],[0.6666666666666666,\"#ed7953\"],[0.7777777777777778,\"#fb9f3a\"],[0.8888888888888888,\"#fdca26\"],[1.0,\"#f0f921\"]]}],\"surface\":[{\"type\":\"surface\",\"colorbar\":{\"outlinewidth\":0,\"ticks\":\"\"},\"colorscale\":[[0.0,\"#0d0887\"],[0.1111111111111111,\"#46039f\"],[0.2222222222222222,\"#7201a8\"],[0.3333333333333333,\"#9c179e\"],[0.4444444444444444,\"#bd3786\"],[0.5555555555555556,\"#d8576b\"],[0.6666666666666666,\"#ed7953\"],[0.7777777777777778,\"#fb9f3a\"],[0.8888888888888888,\"#fdca26\"],[1.0,\"#f0f921\"]]}],\"mesh3d\":[{\"type\":\"mesh3d\",\"colorbar\":{\"outlinewidth\":0,\"ticks\":\"\"}}],\"scatter\":[{\"fillpattern\":{\"fillmode\":\"overlay\",\"size\":10,\"solidity\":0.2},\"type\":\"scatter\"}],\"parcoords\":[{\"type\":\"parcoords\",\"line\":{\"colorbar\":{\"outlinewidth\":0,\"ticks\":\"\"}}}],\"scatterpolargl\":[{\"type\":\"scatterpolargl\",\"marker\":{\"colorbar\":{\"outlinewidth\":0,\"ticks\":\"\"}}}],\"bar\":[{\"error_x\":{\"color\":\"#2a3f5f\"},\"error_y\":{\"color\":\"#2a3f5f\"},\"marker\":{\"line\":{\"color\":\"#E5ECF6\",\"width\":0.5},\"pattern\":{\"fillmode\":\"overlay\",\"size\":10,\"solidity\":0.2}},\"type\":\"bar\"}],\"scattergeo\":[{\"type\":\"scattergeo\",\"marker\":{\"colorbar\":{\"outlinewidth\":0,\"ticks\":\"\"}}}],\"scatterpolar\":[{\"type\":\"scatterpolar\",\"marker\":{\"colorbar\":{\"outlinewidth\":0,\"ticks\":\"\"}}}],\"histogram\":[{\"marker\":{\"pattern\":{\"fillmode\":\"overlay\",\"size\":10,\"solidity\":0.2}},\"type\":\"histogram\"}],\"scattergl\":[{\"type\":\"scattergl\",\"marker\":{\"colorbar\":{\"outlinewidth\":0,\"ticks\":\"\"}}}],\"scatter3d\":[{\"type\":\"scatter3d\",\"line\":{\"colorbar\":{\"outlinewidth\":0,\"ticks\":\"\"}},\"marker\":{\"colorbar\":{\"outlinewidth\":0,\"ticks\":\"\"}}}],\"scattermapbox\":[{\"type\":\"scattermapbox\",\"marker\":{\"colorbar\":{\"outlinewidth\":0,\"ticks\":\"\"}}}],\"scatterternary\":[{\"type\":\"scatterternary\",\"marker\":{\"colorbar\":{\"outlinewidth\":0,\"ticks\":\"\"}}}],\"scattercarpet\":[{\"type\":\"scattercarpet\",\"marker\":{\"colorbar\":{\"outlinewidth\":0,\"ticks\":\"\"}}}],\"carpet\":[{\"aaxis\":{\"endlinecolor\":\"#2a3f5f\",\"gridcolor\":\"white\",\"linecolor\":\"white\",\"minorgridcolor\":\"white\",\"startlinecolor\":\"#2a3f5f\"},\"baxis\":{\"endlinecolor\":\"#2a3f5f\",\"gridcolor\":\"white\",\"linecolor\":\"white\",\"minorgridcolor\":\"white\",\"startlinecolor\":\"#2a3f5f\"},\"type\":\"carpet\"}],\"table\":[{\"cells\":{\"fill\":{\"color\":\"#EBF0F8\"},\"line\":{\"color\":\"white\"}},\"header\":{\"fill\":{\"color\":\"#C8D4E3\"},\"line\":{\"color\":\"white\"}},\"type\":\"table\"}],\"barpolar\":[{\"marker\":{\"line\":{\"color\":\"#E5ECF6\",\"width\":0.5},\"pattern\":{\"fillmode\":\"overlay\",\"size\":10,\"solidity\":0.2}},\"type\":\"barpolar\"}],\"pie\":[{\"automargin\":true,\"type\":\"pie\"}]},\"layout\":{\"autotypenumbers\":\"strict\",\"colorway\":[\"#636efa\",\"#EF553B\",\"#00cc96\",\"#ab63fa\",\"#FFA15A\",\"#19d3f3\",\"#FF6692\",\"#B6E880\",\"#FF97FF\",\"#FECB52\"],\"font\":{\"color\":\"#2a3f5f\"},\"hovermode\":\"closest\",\"hoverlabel\":{\"align\":\"left\"},\"paper_bgcolor\":\"white\",\"plot_bgcolor\":\"#E5ECF6\",\"polar\":{\"bgcolor\":\"#E5ECF6\",\"angularaxis\":{\"gridcolor\":\"white\",\"linecolor\":\"white\",\"ticks\":\"\"},\"radialaxis\":{\"gridcolor\":\"white\",\"linecolor\":\"white\",\"ticks\":\"\"}},\"ternary\":{\"bgcolor\":\"#E5ECF6\",\"aaxis\":{\"gridcolor\":\"white\",\"linecolor\":\"white\",\"ticks\":\"\"},\"baxis\":{\"gridcolor\":\"white\",\"linecolor\":\"white\",\"ticks\":\"\"},\"caxis\":{\"gridcolor\":\"white\",\"linecolor\":\"white\",\"ticks\":\"\"}},\"coloraxis\":{\"colorbar\":{\"outlinewidth\":0,\"ticks\":\"\"}},\"colorscale\":{\"sequential\":[[0.0,\"#0d0887\"],[0.1111111111111111,\"#46039f\"],[0.2222222222222222,\"#7201a8\"],[0.3333333333333333,\"#9c179e\"],[0.4444444444444444,\"#bd3786\"],[0.5555555555555556,\"#d8576b\"],[0.6666666666666666,\"#ed7953\"],[0.7777777777777778,\"#fb9f3a\"],[0.8888888888888888,\"#fdca26\"],[1.0,\"#f0f921\"]],\"sequentialminus\":[[0.0,\"#0d0887\"],[0.1111111111111111,\"#46039f\"],[0.2222222222222222,\"#7201a8\"],[0.3333333333333333,\"#9c179e\"],[0.4444444444444444,\"#bd3786\"],[0.5555555555555556,\"#d8576b\"],[0.6666666666666666,\"#ed7953\"],[0.7777777777777778,\"#fb9f3a\"],[0.8888888888888888,\"#fdca26\"],[1.0,\"#f0f921\"]],\"diverging\":[[0,\"#8e0152\"],[0.1,\"#c51b7d\"],[0.2,\"#de77ae\"],[0.3,\"#f1b6da\"],[0.4,\"#fde0ef\"],[0.5,\"#f7f7f7\"],[0.6,\"#e6f5d0\"],[0.7,\"#b8e186\"],[0.8,\"#7fbc41\"],[0.9,\"#4d9221\"],[1,\"#276419\"]]},\"xaxis\":{\"gridcolor\":\"white\",\"linecolor\":\"white\",\"ticks\":\"\",\"title\":{\"standoff\":15},\"zerolinecolor\":\"white\",\"automargin\":true,\"zerolinewidth\":2},\"yaxis\":{\"gridcolor\":\"white\",\"linecolor\":\"white\",\"ticks\":\"\",\"title\":{\"standoff\":15},\"zerolinecolor\":\"white\",\"automargin\":true,\"zerolinewidth\":2},\"scene\":{\"xaxis\":{\"backgroundcolor\":\"#E5ECF6\",\"gridcolor\":\"white\",\"linecolor\":\"white\",\"showbackground\":true,\"ticks\":\"\",\"zerolinecolor\":\"white\",\"gridwidth\":2},\"yaxis\":{\"backgroundcolor\":\"#E5ECF6\",\"gridcolor\":\"white\",\"linecolor\":\"white\",\"showbackground\":true,\"ticks\":\"\",\"zerolinecolor\":\"white\",\"gridwidth\":2},\"zaxis\":{\"backgroundcolor\":\"#E5ECF6\",\"gridcolor\":\"white\",\"linecolor\":\"white\",\"showbackground\":true,\"ticks\":\"\",\"zerolinecolor\":\"white\",\"gridwidth\":2}},\"shapedefaults\":{\"line\":{\"color\":\"#2a3f5f\"}},\"annotationdefaults\":{\"arrowcolor\":\"#2a3f5f\",\"arrowhead\":0,\"arrowwidth\":1},\"geo\":{\"bgcolor\":\"white\",\"landcolor\":\"#E5ECF6\",\"subunitcolor\":\"white\",\"showland\":true,\"showlakes\":true,\"lakecolor\":\"white\"},\"title\":{\"x\":0.05},\"mapbox\":{\"style\":\"light\"}}},\"xaxis\":{\"anchor\":\"y\",\"domain\":[0.0,1.0],\"type\":\"date\"},\"yaxis\":{\"anchor\":\"x\",\"domain\":[0.0,1.0],\"title\":{\"text\":\"name\"}},\"legend\":{\"tracegroupgap\":0},\"margin\":{\"t\":60},\"barmode\":\"overlay\"},                        {\"responsive\": true}                    ).then(function(){\n",
       "                            \n",
       "var gd = document.getElementById('e395d6f3-fde8-435a-b43e-d11208fd7ad0');\n",
       "var x = new MutationObserver(function (mutations, observer) {{\n",
       "        var display = window.getComputedStyle(gd).display;\n",
       "        if (!display || display === 'none') {{\n",
       "            console.log([gd, 'removed!']);\n",
       "            Plotly.purge(gd);\n",
       "            observer.disconnect();\n",
       "        }}\n",
       "}});\n",
       "\n",
       "// Listen for the removal of the full notebook cells\n",
       "var notebookContainer = gd.closest('#notebook-container');\n",
       "if (notebookContainer) {{\n",
       "    x.observe(notebookContainer, {childList: true});\n",
       "}}\n",
       "\n",
       "// Listen for the clearing of the current output cell\n",
       "var outputEl = gd.closest('.output');\n",
       "if (outputEl) {{\n",
       "    x.observe(outputEl, {childList: true});\n",
       "}}\n",
       "\n",
       "                        })                };                });            </script>        </div>"
      ]
     },
     "metadata": {},
     "output_type": "display_data"
    }
   ],
   "source": [
    "from plotly.express import timeline\n",
    "timeline(data_frame=df, x_start='created_at', x_end='updated_at', y='name')"
   ]
  }
 ],
 "metadata": {
  "kaggle": {
   "accelerator": "none",
   "dataSources": [
    {
     "datasetId": 4162855,
     "sourceId": 7197807,
     "sourceType": "datasetVersion"
    }
   ],
   "dockerImageVersionId": 30626,
   "isGpuEnabled": false,
   "isInternetEnabled": true,
   "language": "python",
   "sourceType": "notebook"
  },
  "kernelspec": {
   "display_name": "Python 3",
   "language": "python",
   "name": "python3"
  },
  "language_info": {
   "codemirror_mode": {
    "name": "ipython",
    "version": 3
   },
   "file_extension": ".py",
   "mimetype": "text/x-python",
   "name": "python",
   "nbconvert_exporter": "python",
   "pygments_lexer": "ipython3",
   "version": "3.10.12"
  },
  "papermill": {
   "default_parameters": {},
   "duration": 6.181768,
   "end_time": "2023-12-14T15:05:40.688871",
   "environment_variables": {},
   "exception": null,
   "input_path": "__notebook__.ipynb",
   "output_path": "__notebook__.ipynb",
   "parameters": {},
   "start_time": "2023-12-14T15:05:34.507103",
   "version": "2.4.0"
  }
 },
 "nbformat": 4,
 "nbformat_minor": 5
}
