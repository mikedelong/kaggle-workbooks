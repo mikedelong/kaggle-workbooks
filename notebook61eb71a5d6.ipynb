{
 "cells": [
  {
   "cell_type": "code",
   "execution_count": 1,
   "id": "e652f8ac",
   "metadata": {
    "execution": {
     "iopub.execute_input": "2023-11-04T19:11:09.905631Z",
     "iopub.status.busy": "2023-11-04T19:11:09.905122Z",
     "iopub.status.idle": "2023-11-04T19:11:11.726731Z",
     "shell.execute_reply": "2023-11-04T19:11:11.725557Z"
    },
    "papermill": {
     "duration": 1.829056,
     "end_time": "2023-11-04T19:11:11.729733",
     "exception": false,
     "start_time": "2023-11-04T19:11:09.900677",
     "status": "completed"
    },
    "tags": []
   },
   "outputs": [
    {
     "data": {
      "text/html": [
       "<div>\n",
       "<style scoped>\n",
       "    .dataframe tbody tr th:only-of-type {\n",
       "        vertical-align: middle;\n",
       "    }\n",
       "\n",
       "    .dataframe tbody tr th {\n",
       "        vertical-align: top;\n",
       "    }\n",
       "\n",
       "    .dataframe thead th {\n",
       "        text-align: right;\n",
       "    }\n",
       "</style>\n",
       "<table border=\"1\" class=\"dataframe\">\n",
       "  <thead>\n",
       "    <tr style=\"text-align: right;\">\n",
       "      <th></th>\n",
       "      <th>Initialdate</th>\n",
       "      <th>Finaldate</th>\n",
       "      <th>Area_ha</th>\n",
       "      <th>Area_m2</th>\n",
       "      <th>Area_Km2</th>\n",
       "      <th>CountryName</th>\n",
       "      <th>Continent</th>\n",
       "      <th>Region</th>\n",
       "    </tr>\n",
       "    <tr>\n",
       "      <th>ID</th>\n",
       "      <th></th>\n",
       "      <th></th>\n",
       "      <th></th>\n",
       "      <th></th>\n",
       "      <th></th>\n",
       "      <th></th>\n",
       "      <th></th>\n",
       "      <th></th>\n",
       "    </tr>\n",
       "  </thead>\n",
       "  <tbody>\n",
       "    <tr>\n",
       "      <th>25078590</th>\n",
       "      <td>2022-01-09</td>\n",
       "      <td>2022-02-06</td>\n",
       "      <td>50232.10763</td>\n",
       "      <td>502321076.3</td>\n",
       "      <td>502.321076</td>\n",
       "      <td>Ghana</td>\n",
       "      <td>Africa</td>\n",
       "      <td>Western Africa</td>\n",
       "    </tr>\n",
       "    <tr>\n",
       "      <th>25079092</th>\n",
       "      <td>2022-01-11</td>\n",
       "      <td>2022-02-08</td>\n",
       "      <td>82380.29538</td>\n",
       "      <td>823802953.8</td>\n",
       "      <td>823.802954</td>\n",
       "      <td>Nigeria</td>\n",
       "      <td>Africa</td>\n",
       "      <td>Western Africa</td>\n",
       "    </tr>\n",
       "    <tr>\n",
       "      <th>25079113</th>\n",
       "      <td>2022-01-11</td>\n",
       "      <td>2022-02-03</td>\n",
       "      <td>36851.12748</td>\n",
       "      <td>368511274.8</td>\n",
       "      <td>368.511275</td>\n",
       "      <td>Nigeria</td>\n",
       "      <td>Africa</td>\n",
       "      <td>Western Africa</td>\n",
       "    </tr>\n",
       "    <tr>\n",
       "      <th>25083241</th>\n",
       "      <td>2022-01-03</td>\n",
       "      <td>2022-02-12</td>\n",
       "      <td>43303.63519</td>\n",
       "      <td>433036351.9</td>\n",
       "      <td>433.036352</td>\n",
       "      <td>Nigeria</td>\n",
       "      <td>Africa</td>\n",
       "      <td>Western Africa</td>\n",
       "    </tr>\n",
       "    <tr>\n",
       "      <th>25095507</th>\n",
       "      <td>2022-01-01</td>\n",
       "      <td>2022-02-11</td>\n",
       "      <td>75753.14059</td>\n",
       "      <td>757531405.9</td>\n",
       "      <td>757.531406</td>\n",
       "      <td>Central African Republic</td>\n",
       "      <td>Africa</td>\n",
       "      <td>Middle Africa</td>\n",
       "    </tr>\n",
       "  </tbody>\n",
       "</table>\n",
       "</div>"
      ],
      "text/plain": [
       "         Initialdate  Finaldate      Area_ha      Area_m2    Area_Km2  \\\n",
       "ID                                                                      \n",
       "25078590  2022-01-09 2022-02-06  50232.10763  502321076.3  502.321076   \n",
       "25079092  2022-01-11 2022-02-08  82380.29538  823802953.8  823.802954   \n",
       "25079113  2022-01-11 2022-02-03  36851.12748  368511274.8  368.511275   \n",
       "25083241  2022-01-03 2022-02-12  43303.63519  433036351.9  433.036352   \n",
       "25095507  2022-01-01 2022-02-11  75753.14059  757531405.9  757.531406   \n",
       "\n",
       "                          CountryName   Continent               Region  \n",
       "ID                                                                      \n",
       "25078590                        Ghana      Africa       Western Africa  \n",
       "25079092                      Nigeria      Africa       Western Africa  \n",
       "25079113                      Nigeria      Africa       Western Africa  \n",
       "25083241                      Nigeria      Africa       Western Africa  \n",
       "25095507     Central African Republic      Africa        Middle Africa  "
      ]
     },
     "execution_count": 1,
     "metadata": {},
     "output_type": "execute_result"
    }
   ],
   "source": [
    "import pandas as pd\n",
    "df = pd.read_csv(\n",
    "    filepath_or_buffer='/kaggle/input/global-fire-burned-area/GlobalFireBurnedArea_2022.csv',\n",
    "    index_col=['ID'],\n",
    "    parse_dates=['Initialdate', 'Finaldate'],\n",
    ")\n",
    "df.head()"
   ]
  },
  {
   "cell_type": "code",
   "execution_count": 2,
   "id": "b720824c",
   "metadata": {
    "execution": {
     "iopub.execute_input": "2023-11-04T19:11:11.738807Z",
     "iopub.status.busy": "2023-11-04T19:11:11.738396Z",
     "iopub.status.idle": "2023-11-04T19:11:11.863275Z",
     "shell.execute_reply": "2023-11-04T19:11:11.861704Z"
    },
    "papermill": {
     "duration": 0.134545,
     "end_time": "2023-11-04T19:11:11.866882",
     "exception": false,
     "start_time": "2023-11-04T19:11:11.732337",
     "status": "completed"
    },
    "tags": []
   },
   "outputs": [
    {
     "name": "stdout",
     "output_type": "stream",
     "text": [
      "<class 'pandas.core.frame.DataFrame'>\n",
      "Index: 319278 entries, 25078590 to 26100041\n",
      "Data columns (total 8 columns):\n",
      " #   Column       Non-Null Count   Dtype         \n",
      "---  ------       --------------   -----         \n",
      " 0   Initialdate  319278 non-null  datetime64[ns]\n",
      " 1   Finaldate    319278 non-null  datetime64[ns]\n",
      " 2   Area_ha      319278 non-null  float64       \n",
      " 3   Area_m2      319278 non-null  float64       \n",
      " 4   Area_Km2     319278 non-null  float64       \n",
      " 5   CountryName  319278 non-null  object        \n",
      " 6   Continent    319278 non-null  object        \n",
      " 7   Region       319278 non-null  object        \n",
      "dtypes: datetime64[ns](2), float64(3), object(3)\n",
      "memory usage: 21.9+ MB\n"
     ]
    }
   ],
   "source": [
    "df.info()"
   ]
  }
 ],
 "metadata": {
  "kernelspec": {
   "display_name": "Python 3",
   "language": "python",
   "name": "python3"
  },
  "language_info": {
   "codemirror_mode": {
    "name": "ipython",
    "version": 3
   },
   "file_extension": ".py",
   "mimetype": "text/x-python",
   "name": "python",
   "nbconvert_exporter": "python",
   "pygments_lexer": "ipython3",
   "version": "3.10.12"
  },
  "papermill": {
   "default_parameters": {},
   "duration": 6.46752,
   "end_time": "2023-11-04T19:11:12.492640",
   "environment_variables": {},
   "exception": null,
   "input_path": "__notebook__.ipynb",
   "output_path": "__notebook__.ipynb",
   "parameters": {},
   "start_time": "2023-11-04T19:11:06.025120",
   "version": "2.4.0"
  }
 },
 "nbformat": 4,
 "nbformat_minor": 5
}
