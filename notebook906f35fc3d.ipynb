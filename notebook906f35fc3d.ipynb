{
 "cells": [
  {
   "cell_type": "code",
   "execution_count": 1,
   "id": "cd57c518",
   "metadata": {
    "_cell_guid": "b1076dfc-b9ad-4769-8c92-a6c4dae69d19",
    "_uuid": "8f2839f25d086af736a60e9eeb907d3b93b6e0e5",
    "execution": {
     "iopub.execute_input": "2024-12-09T22:00:09.639550Z",
     "iopub.status.busy": "2024-12-09T22:00:09.639156Z",
     "iopub.status.idle": "2024-12-09T22:00:10.641970Z",
     "shell.execute_reply": "2024-12-09T22:00:10.640901Z"
    },
    "papermill": {
     "duration": 1.008424,
     "end_time": "2024-12-09T22:00:10.644320",
     "exception": false,
     "start_time": "2024-12-09T22:00:09.635896",
     "status": "completed"
    },
    "tags": []
   },
   "outputs": [
    {
     "data": {
      "text/html": [
       "<div>\n",
       "<style scoped>\n",
       "    .dataframe tbody tr th:only-of-type {\n",
       "        vertical-align: middle;\n",
       "    }\n",
       "\n",
       "    .dataframe tbody tr th {\n",
       "        vertical-align: top;\n",
       "    }\n",
       "\n",
       "    .dataframe thead th {\n",
       "        text-align: right;\n",
       "    }\n",
       "</style>\n",
       "<table border=\"1\" class=\"dataframe\">\n",
       "  <thead>\n",
       "    <tr style=\"text-align: right;\">\n",
       "      <th></th>\n",
       "      <th>time</th>\n",
       "      <th>open</th>\n",
       "      <th>high</th>\n",
       "      <th>low</th>\n",
       "      <th>close</th>\n",
       "      <th>55EMA</th>\n",
       "      <th>89EMA</th>\n",
       "      <th>200EMA</th>\n",
       "      <th>Plot</th>\n",
       "    </tr>\n",
       "  </thead>\n",
       "  <tbody>\n",
       "    <tr>\n",
       "      <th>0</th>\n",
       "      <td>964749600</td>\n",
       "      <td>100.000000</td>\n",
       "      <td>100.000000</td>\n",
       "      <td>100.000000</td>\n",
       "      <td>100.000000</td>\n",
       "      <td>NaN</td>\n",
       "      <td>NaN</td>\n",
       "      <td>NaN</td>\n",
       "      <td>NaN</td>\n",
       "    </tr>\n",
       "    <tr>\n",
       "      <th>1</th>\n",
       "      <td>965008800</td>\n",
       "      <td>101.550003</td>\n",
       "      <td>101.550003</td>\n",
       "      <td>101.550003</td>\n",
       "      <td>101.550003</td>\n",
       "      <td>NaN</td>\n",
       "      <td>NaN</td>\n",
       "      <td>NaN</td>\n",
       "      <td>NaN</td>\n",
       "    </tr>\n",
       "    <tr>\n",
       "      <th>2</th>\n",
       "      <td>965181600</td>\n",
       "      <td>103.379997</td>\n",
       "      <td>103.379997</td>\n",
       "      <td>103.379997</td>\n",
       "      <td>103.379997</td>\n",
       "      <td>NaN</td>\n",
       "      <td>NaN</td>\n",
       "      <td>NaN</td>\n",
       "      <td>NaN</td>\n",
       "    </tr>\n",
       "    <tr>\n",
       "      <th>3</th>\n",
       "      <td>965354400</td>\n",
       "      <td>105.199997</td>\n",
       "      <td>105.199997</td>\n",
       "      <td>105.199997</td>\n",
       "      <td>105.199997</td>\n",
       "      <td>NaN</td>\n",
       "      <td>NaN</td>\n",
       "      <td>NaN</td>\n",
       "      <td>NaN</td>\n",
       "    </tr>\n",
       "    <tr>\n",
       "      <th>4</th>\n",
       "      <td>965613600</td>\n",
       "      <td>106.919998</td>\n",
       "      <td>106.919998</td>\n",
       "      <td>106.919998</td>\n",
       "      <td>106.919998</td>\n",
       "      <td>NaN</td>\n",
       "      <td>NaN</td>\n",
       "      <td>NaN</td>\n",
       "      <td>NaN</td>\n",
       "    </tr>\n",
       "  </tbody>\n",
       "</table>\n",
       "</div>"
      ],
      "text/plain": [
       "        time        open        high         low       close  55EMA  89EMA  \\\n",
       "0  964749600  100.000000  100.000000  100.000000  100.000000    NaN    NaN   \n",
       "1  965008800  101.550003  101.550003  101.550003  101.550003    NaN    NaN   \n",
       "2  965181600  103.379997  103.379997  103.379997  103.379997    NaN    NaN   \n",
       "3  965354400  105.199997  105.199997  105.199997  105.199997    NaN    NaN   \n",
       "4  965613600  106.919998  106.919998  106.919998  106.919998    NaN    NaN   \n",
       "\n",
       "   200EMA  Plot  \n",
       "0     NaN   NaN  \n",
       "1     NaN   NaN  \n",
       "2     NaN   NaN  \n",
       "3     NaN   NaN  \n",
       "4     NaN   NaN  "
      ]
     },
     "execution_count": 1,
     "metadata": {},
     "output_type": "execute_result"
    }
   ],
   "source": [
    "import pandas as pd\n",
    "\n",
    "VN1D = '/kaggle/input/vnstockdata/HOSEVNINDEX1D.csv'\n",
    "df = pd.read_csv(filepath_or_buffer=VN1D)\n",
    "df.head()"
   ]
  }
 ],
 "metadata": {
  "kaggle": {
   "accelerator": "none",
   "dataSources": [
    {
     "datasetId": 6267294,
     "sourceId": 10151726,
     "sourceType": "datasetVersion"
    }
   ],
   "dockerImageVersionId": 30804,
   "isGpuEnabled": false,
   "isInternetEnabled": true,
   "language": "python",
   "sourceType": "notebook"
  },
  "kernelspec": {
   "display_name": "Python 3",
   "language": "python",
   "name": "python3"
  },
  "language_info": {
   "codemirror_mode": {
    "name": "ipython",
    "version": 3
   },
   "file_extension": ".py",
   "mimetype": "text/x-python",
   "name": "python",
   "nbconvert_exporter": "python",
   "pygments_lexer": "ipython3",
   "version": "3.10.14"
  },
  "papermill": {
   "default_parameters": {},
   "duration": 4.292769,
   "end_time": "2024-12-09T22:00:11.168272",
   "environment_variables": {},
   "exception": null,
   "input_path": "__notebook__.ipynb",
   "output_path": "__notebook__.ipynb",
   "parameters": {},
   "start_time": "2024-12-09T22:00:06.875503",
   "version": "2.6.0"
  }
 },
 "nbformat": 4,
 "nbformat_minor": 5
}
