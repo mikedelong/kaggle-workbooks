{
 "cells": [
  {
   "cell_type": "code",
   "execution_count": 1,
   "id": "3d364fe2",
   "metadata": {
    "_cell_guid": "b1076dfc-b9ad-4769-8c92-a6c4dae69d19",
    "_uuid": "8f2839f25d086af736a60e9eeb907d3b93b6e0e5",
    "execution": {
     "iopub.execute_input": "2024-04-02T21:06:59.465717Z",
     "iopub.status.busy": "2024-04-02T21:06:59.465181Z",
     "iopub.status.idle": "2024-04-02T21:07:00.466699Z",
     "shell.execute_reply": "2024-04-02T21:07:00.465612Z"
    },
    "papermill": {
     "duration": 1.01138,
     "end_time": "2024-04-02T21:07:00.471639",
     "exception": false,
     "start_time": "2024-04-02T21:06:59.460259",
     "status": "completed"
    },
    "tags": []
   },
   "outputs": [
    {
     "data": {
      "text/html": [
       "<div>\n",
       "<style scoped>\n",
       "    .dataframe tbody tr th:only-of-type {\n",
       "        vertical-align: middle;\n",
       "    }\n",
       "\n",
       "    .dataframe tbody tr th {\n",
       "        vertical-align: top;\n",
       "    }\n",
       "\n",
       "    .dataframe thead th {\n",
       "        text-align: right;\n",
       "    }\n",
       "</style>\n",
       "<table border=\"1\" class=\"dataframe\">\n",
       "  <thead>\n",
       "    <tr style=\"text-align: right;\">\n",
       "      <th></th>\n",
       "      <th>Length</th>\n",
       "      <th>Diameter</th>\n",
       "      <th>Height</th>\n",
       "      <th>Whole weight</th>\n",
       "      <th>Whole weight.1</th>\n",
       "      <th>Whole weight.2</th>\n",
       "      <th>Shell weight</th>\n",
       "      <th>Rings</th>\n",
       "    </tr>\n",
       "    <tr>\n",
       "      <th>id</th>\n",
       "      <th></th>\n",
       "      <th></th>\n",
       "      <th></th>\n",
       "      <th></th>\n",
       "      <th></th>\n",
       "      <th></th>\n",
       "      <th></th>\n",
       "      <th></th>\n",
       "    </tr>\n",
       "  </thead>\n",
       "  <tbody>\n",
       "    <tr>\n",
       "      <th>0</th>\n",
       "      <td>0.550</td>\n",
       "      <td>0.430</td>\n",
       "      <td>0.150</td>\n",
       "      <td>0.7715</td>\n",
       "      <td>0.3285</td>\n",
       "      <td>0.1465</td>\n",
       "      <td>0.2400</td>\n",
       "      <td>11</td>\n",
       "    </tr>\n",
       "    <tr>\n",
       "      <th>1</th>\n",
       "      <td>0.630</td>\n",
       "      <td>0.490</td>\n",
       "      <td>0.145</td>\n",
       "      <td>1.1300</td>\n",
       "      <td>0.4580</td>\n",
       "      <td>0.2765</td>\n",
       "      <td>0.3200</td>\n",
       "      <td>11</td>\n",
       "    </tr>\n",
       "    <tr>\n",
       "      <th>2</th>\n",
       "      <td>0.160</td>\n",
       "      <td>0.110</td>\n",
       "      <td>0.025</td>\n",
       "      <td>0.0210</td>\n",
       "      <td>0.0055</td>\n",
       "      <td>0.0030</td>\n",
       "      <td>0.0050</td>\n",
       "      <td>6</td>\n",
       "    </tr>\n",
       "    <tr>\n",
       "      <th>3</th>\n",
       "      <td>0.595</td>\n",
       "      <td>0.475</td>\n",
       "      <td>0.150</td>\n",
       "      <td>0.9145</td>\n",
       "      <td>0.3755</td>\n",
       "      <td>0.2055</td>\n",
       "      <td>0.2500</td>\n",
       "      <td>10</td>\n",
       "    </tr>\n",
       "    <tr>\n",
       "      <th>4</th>\n",
       "      <td>0.555</td>\n",
       "      <td>0.425</td>\n",
       "      <td>0.130</td>\n",
       "      <td>0.7820</td>\n",
       "      <td>0.3695</td>\n",
       "      <td>0.1600</td>\n",
       "      <td>0.1975</td>\n",
       "      <td>9</td>\n",
       "    </tr>\n",
       "  </tbody>\n",
       "</table>\n",
       "</div>"
      ],
      "text/plain": [
       "    Length  Diameter  Height  Whole weight  Whole weight.1  Whole weight.2  \\\n",
       "id                                                                           \n",
       "0    0.550     0.430   0.150        0.7715          0.3285          0.1465   \n",
       "1    0.630     0.490   0.145        1.1300          0.4580          0.2765   \n",
       "2    0.160     0.110   0.025        0.0210          0.0055          0.0030   \n",
       "3    0.595     0.475   0.150        0.9145          0.3755          0.2055   \n",
       "4    0.555     0.425   0.130        0.7820          0.3695          0.1600   \n",
       "\n",
       "    Shell weight  Rings  \n",
       "id                       \n",
       "0         0.2400     11  \n",
       "1         0.3200     11  \n",
       "2         0.0050      6  \n",
       "3         0.2500     10  \n",
       "4         0.1975      9  "
      ]
     },
     "execution_count": 1,
     "metadata": {},
     "output_type": "execute_result"
    }
   ],
   "source": [
    "import pandas as pd\n",
    "\n",
    "TEST = '/kaggle/input/playground-series-s4e4/test.csv'\n",
    "TRAIN = '/kaggle/input/playground-series-s4e4/train.csv'\n",
    "test_df = pd.read_csv(filepath_or_buffer=TEST, index_col=['id']).drop(columns=['Sex'])\n",
    "\n",
    "train_df = pd.read_csv(filepath_or_buffer=TRAIN, index_col=['id']).drop(columns=['Sex'])\n",
    "# do we want to drop outliers from the training data ?\n",
    "# train_df = train_df[train_df['Height'] < 0.24]\n",
    "\n",
    "train_df.head()"
   ]
  },
  {
   "cell_type": "code",
   "execution_count": 2,
   "id": "eaf4c189",
   "metadata": {
    "execution": {
     "iopub.execute_input": "2024-04-02T21:07:00.479425Z",
     "iopub.status.busy": "2024-04-02T21:07:00.479095Z",
     "iopub.status.idle": "2024-04-02T21:07:00.977638Z",
     "shell.execute_reply": "2024-04-02T21:07:00.976789Z"
    },
    "papermill": {
     "duration": 0.505092,
     "end_time": "2024-04-02T21:07:00.980166",
     "exception": false,
     "start_time": "2024-04-02T21:07:00.475074",
     "status": "completed"
    },
    "tags": []
   },
   "outputs": [],
   "source": [
    "import warnings\n",
    "from plotly import express\n",
    "\n",
    "warnings.filterwarnings(action='ignore', category=FutureWarning)\n",
    "if 'Sex' in train_df.columns:\n",
    "    express.histogram(data_frame=train_df, x='Rings', facet_col='Sex')"
   ]
  },
  {
   "cell_type": "code",
   "execution_count": 3,
   "id": "3169c67b",
   "metadata": {
    "execution": {
     "iopub.execute_input": "2024-04-02T21:07:00.987528Z",
     "iopub.status.busy": "2024-04-02T21:07:00.987223Z",
     "iopub.status.idle": "2024-04-02T21:08:13.418710Z",
     "shell.execute_reply": "2024-04-02T21:08:13.417608Z"
    },
    "papermill": {
     "duration": 72.43899,
     "end_time": "2024-04-02T21:08:13.422296",
     "exception": false,
     "start_time": "2024-04-02T21:07:00.983306",
     "status": "completed"
    },
    "tags": []
   },
   "outputs": [
    {
     "name": "stdout",
     "output_type": "stream",
     "text": [
      "RUNNING THE L-BFGS-B CODE\n",
      "\n",
      "           * * *\n",
      "\n",
      "Machine precision = 2.220D-16\n",
      " N =          224     M =           10\n",
      "\n",
      "At X0         0 variables are exactly at the bounds\n",
      "\n",
      "At iterate    0    f=  3.01948D+05    |proj g|=  1.42288D+04\n"
     ]
    },
    {
     "name": "stderr",
     "output_type": "stream",
     "text": [
      " This problem is unconstrained.\n"
     ]
    },
    {
     "name": "stdout",
     "output_type": "stream",
     "text": [
      "\n",
      "At iterate   50    f=  1.68723D+05    |proj g|=  5.47756D+02\n",
      "\n",
      "At iterate  100    f=  1.64920D+05    |proj g|=  2.06417D+02\n",
      "\n",
      "At iterate  150    f=  1.63888D+05    |proj g|=  1.65748D+02\n",
      "\n",
      "At iterate  200    f=  1.63687D+05    |proj g|=  5.92529D+01\n",
      "\n",
      "At iterate  250    f=  1.63609D+05    |proj g|=  2.80957D+01\n",
      "\n",
      "At iterate  300    f=  1.63584D+05    |proj g|=  1.42689D+01\n",
      "\n",
      "At iterate  350    f=  1.63575D+05    |proj g|=  3.05080D+01\n",
      "\n",
      "At iterate  400    f=  1.63573D+05    |proj g|=  3.97145D+00\n",
      "\n",
      "At iterate  450    f=  1.63572D+05    |proj g|=  2.80380D+00\n",
      "\n",
      "At iterate  500    f=  1.63571D+05    |proj g|=  2.02689D+00\n",
      "\n",
      "At iterate  550    f=  1.63571D+05    |proj g|=  1.92321D+00\n",
      "\n",
      "           * * *\n",
      "\n",
      "Tit   = total number of iterations\n",
      "Tnf   = total number of function evaluations\n",
      "Tnint = total number of segments explored during Cauchy searches\n",
      "Skip  = number of BFGS updates skipped\n",
      "Nact  = number of active bounds at final generalized Cauchy point\n",
      "Projg = norm of the final projected gradient\n",
      "F     = final function value\n",
      "\n",
      "           * * *\n",
      "\n",
      "   N    Tit     Tnf  Tnint  Skip  Nact     Projg        F\n",
      "  224    590    631      1     0     0   3.200D+00   1.636D+05\n",
      "  F =   163571.22180109189     \n",
      "\n",
      "CONVERGENCE: REL_REDUCTION_OF_F_<=_FACTR*EPSMCH             \n",
      "0:01:11.169768 model fit complete in [590] iterations\n",
      "0:01:11.229086 model done\n"
     ]
    }
   ],
   "source": [
    "import arrow\n",
    "from sklearn.linear_model import LogisticRegression\n",
    "\n",
    "COLUMNS = ['Length', 'Diameter', 'Height', 'Whole weight', 'Whole weight.1', 'Whole weight.2', 'Shell weight',]\n",
    "TARGET = 'Rings'\n",
    "TOL = 1e-12\n",
    "\n",
    "time_start = arrow.now()\n",
    "\n",
    "logreg = LogisticRegression(penalty='l2', dual=False, tol=TOL, C=1.0, fit_intercept=True, intercept_scaling=1, class_weight=None,\n",
    "                           random_state=2024, solver='lbfgs', max_iter=10000, multi_class='auto', verbose=1, warm_start=False, n_jobs=None,\n",
    "                           l1_ratio=None).fit(X=train_df[COLUMNS], y=train_df[TARGET])\n",
    "print('{} model fit complete in {} iterations'.format(arrow.now() - time_start, logreg.n_iter_))\n",
    "logreg_df = pd.DataFrame(data={'id' : test_df.index.tolist(), 'Rings': logreg.predict(X=test_df[COLUMNS])})\n",
    "print('{} model done'.format(arrow.now() - time_start))"
   ]
  },
  {
   "cell_type": "code",
   "execution_count": 4,
   "id": "c4820acb",
   "metadata": {
    "execution": {
     "iopub.execute_input": "2024-04-02T21:08:13.437256Z",
     "iopub.status.busy": "2024-04-02T21:08:13.436775Z",
     "iopub.status.idle": "2024-04-02T21:08:14.973100Z",
     "shell.execute_reply": "2024-04-02T21:08:14.972274Z"
    },
    "papermill": {
     "duration": 1.546189,
     "end_time": "2024-04-02T21:08:14.975201",
     "exception": false,
     "start_time": "2024-04-02T21:08:13.429012",
     "status": "completed"
    },
    "tags": []
   },
   "outputs": [
    {
     "data": {
      "text/html": [
       "        <script type=\"text/javascript\">\n",
       "        window.PlotlyConfig = {MathJaxConfig: 'local'};\n",
       "        if (window.MathJax && window.MathJax.Hub && window.MathJax.Hub.Config) {window.MathJax.Hub.Config({SVG: {font: \"STIX-Web\"}});}\n",
       "        if (typeof require !== 'undefined') {\n",
       "        require.undef(\"plotly\");\n",
       "        requirejs.config({\n",
       "            paths: {\n",
       "                'plotly': ['https://cdn.plot.ly/plotly-2.27.0.min']\n",
       "            }\n",
       "        });\n",
       "        require(['plotly'], function(Plotly) {\n",
       "            window._Plotly = Plotly;\n",
       "        });\n",
       "        }\n",
       "        </script>\n",
       "        "
      ]
     },
     "metadata": {},
     "output_type": "display_data"
    },
    {
     "data": {
      "text/html": [
       "<div>                            <div id=\"c96d189e-2028-4e0d-a628-41aaf040ac42\" class=\"plotly-graph-div\" style=\"height:525px; width:100%;\"></div>            <script type=\"text/javascript\">                require([\"plotly\"], function(Plotly) {                    window.PLOTLYENV=window.PLOTLYENV || {};                                    if (document.getElementById(\"c96d189e-2028-4e0d-a628-41aaf040ac42\")) {                    Plotly.newPlot(                        \"c96d189e-2028-4e0d-a628-41aaf040ac42\",                        [{\"alignmentgroup\":\"True\",\"bingroup\":\"x\",\"histfunc\":\"sum\",\"hovertemplate\":\"x=%{x}\\u003cbr\\u003esum of y=%{y}\\u003cextra\\u003e\\u003c\\u002fextra\\u003e\",\"legendgroup\":\"\",\"marker\":{\"color\":\"#636efa\",\"pattern\":{\"shape\":\"\"}},\"name\":\"\",\"offsetgroup\":\"\",\"orientation\":\"v\",\"showlegend\":false,\"x\":[\"Length\",\"Diameter\",\"Height\",\"Whole weight\",\"Whole weight.1\",\"Whole weight.2\",\"Shell weight\"],\"xaxis\":\"x\",\"y\":[0.004614156928967392,-0.05567714972624526,-0.12895642972500218,0.08433562326782167,0.6267854251653256,0.15948814371523917,-0.07256598696686019],\"yaxis\":\"y\",\"type\":\"histogram\"}],                        {\"template\":{\"data\":{\"histogram2dcontour\":[{\"type\":\"histogram2dcontour\",\"colorbar\":{\"outlinewidth\":0,\"ticks\":\"\"},\"colorscale\":[[0.0,\"#0d0887\"],[0.1111111111111111,\"#46039f\"],[0.2222222222222222,\"#7201a8\"],[0.3333333333333333,\"#9c179e\"],[0.4444444444444444,\"#bd3786\"],[0.5555555555555556,\"#d8576b\"],[0.6666666666666666,\"#ed7953\"],[0.7777777777777778,\"#fb9f3a\"],[0.8888888888888888,\"#fdca26\"],[1.0,\"#f0f921\"]]}],\"choropleth\":[{\"type\":\"choropleth\",\"colorbar\":{\"outlinewidth\":0,\"ticks\":\"\"}}],\"histogram2d\":[{\"type\":\"histogram2d\",\"colorbar\":{\"outlinewidth\":0,\"ticks\":\"\"},\"colorscale\":[[0.0,\"#0d0887\"],[0.1111111111111111,\"#46039f\"],[0.2222222222222222,\"#7201a8\"],[0.3333333333333333,\"#9c179e\"],[0.4444444444444444,\"#bd3786\"],[0.5555555555555556,\"#d8576b\"],[0.6666666666666666,\"#ed7953\"],[0.7777777777777778,\"#fb9f3a\"],[0.8888888888888888,\"#fdca26\"],[1.0,\"#f0f921\"]]}],\"heatmap\":[{\"type\":\"heatmap\",\"colorbar\":{\"outlinewidth\":0,\"ticks\":\"\"},\"colorscale\":[[0.0,\"#0d0887\"],[0.1111111111111111,\"#46039f\"],[0.2222222222222222,\"#7201a8\"],[0.3333333333333333,\"#9c179e\"],[0.4444444444444444,\"#bd3786\"],[0.5555555555555556,\"#d8576b\"],[0.6666666666666666,\"#ed7953\"],[0.7777777777777778,\"#fb9f3a\"],[0.8888888888888888,\"#fdca26\"],[1.0,\"#f0f921\"]]}],\"heatmapgl\":[{\"type\":\"heatmapgl\",\"colorbar\":{\"outlinewidth\":0,\"ticks\":\"\"},\"colorscale\":[[0.0,\"#0d0887\"],[0.1111111111111111,\"#46039f\"],[0.2222222222222222,\"#7201a8\"],[0.3333333333333333,\"#9c179e\"],[0.4444444444444444,\"#bd3786\"],[0.5555555555555556,\"#d8576b\"],[0.6666666666666666,\"#ed7953\"],[0.7777777777777778,\"#fb9f3a\"],[0.8888888888888888,\"#fdca26\"],[1.0,\"#f0f921\"]]}],\"contourcarpet\":[{\"type\":\"contourcarpet\",\"colorbar\":{\"outlinewidth\":0,\"ticks\":\"\"}}],\"contour\":[{\"type\":\"contour\",\"colorbar\":{\"outlinewidth\":0,\"ticks\":\"\"},\"colorscale\":[[0.0,\"#0d0887\"],[0.1111111111111111,\"#46039f\"],[0.2222222222222222,\"#7201a8\"],[0.3333333333333333,\"#9c179e\"],[0.4444444444444444,\"#bd3786\"],[0.5555555555555556,\"#d8576b\"],[0.6666666666666666,\"#ed7953\"],[0.7777777777777778,\"#fb9f3a\"],[0.8888888888888888,\"#fdca26\"],[1.0,\"#f0f921\"]]}],\"surface\":[{\"type\":\"surface\",\"colorbar\":{\"outlinewidth\":0,\"ticks\":\"\"},\"colorscale\":[[0.0,\"#0d0887\"],[0.1111111111111111,\"#46039f\"],[0.2222222222222222,\"#7201a8\"],[0.3333333333333333,\"#9c179e\"],[0.4444444444444444,\"#bd3786\"],[0.5555555555555556,\"#d8576b\"],[0.6666666666666666,\"#ed7953\"],[0.7777777777777778,\"#fb9f3a\"],[0.8888888888888888,\"#fdca26\"],[1.0,\"#f0f921\"]]}],\"mesh3d\":[{\"type\":\"mesh3d\",\"colorbar\":{\"outlinewidth\":0,\"ticks\":\"\"}}],\"scatter\":[{\"fillpattern\":{\"fillmode\":\"overlay\",\"size\":10,\"solidity\":0.2},\"type\":\"scatter\"}],\"parcoords\":[{\"type\":\"parcoords\",\"line\":{\"colorbar\":{\"outlinewidth\":0,\"ticks\":\"\"}}}],\"scatterpolargl\":[{\"type\":\"scatterpolargl\",\"marker\":{\"colorbar\":{\"outlinewidth\":0,\"ticks\":\"\"}}}],\"bar\":[{\"error_x\":{\"color\":\"#2a3f5f\"},\"error_y\":{\"color\":\"#2a3f5f\"},\"marker\":{\"line\":{\"color\":\"#E5ECF6\",\"width\":0.5},\"pattern\":{\"fillmode\":\"overlay\",\"size\":10,\"solidity\":0.2}},\"type\":\"bar\"}],\"scattergeo\":[{\"type\":\"scattergeo\",\"marker\":{\"colorbar\":{\"outlinewidth\":0,\"ticks\":\"\"}}}],\"scatterpolar\":[{\"type\":\"scatterpolar\",\"marker\":{\"colorbar\":{\"outlinewidth\":0,\"ticks\":\"\"}}}],\"histogram\":[{\"marker\":{\"pattern\":{\"fillmode\":\"overlay\",\"size\":10,\"solidity\":0.2}},\"type\":\"histogram\"}],\"scattergl\":[{\"type\":\"scattergl\",\"marker\":{\"colorbar\":{\"outlinewidth\":0,\"ticks\":\"\"}}}],\"scatter3d\":[{\"type\":\"scatter3d\",\"line\":{\"colorbar\":{\"outlinewidth\":0,\"ticks\":\"\"}},\"marker\":{\"colorbar\":{\"outlinewidth\":0,\"ticks\":\"\"}}}],\"scattermapbox\":[{\"type\":\"scattermapbox\",\"marker\":{\"colorbar\":{\"outlinewidth\":0,\"ticks\":\"\"}}}],\"scatterternary\":[{\"type\":\"scatterternary\",\"marker\":{\"colorbar\":{\"outlinewidth\":0,\"ticks\":\"\"}}}],\"scattercarpet\":[{\"type\":\"scattercarpet\",\"marker\":{\"colorbar\":{\"outlinewidth\":0,\"ticks\":\"\"}}}],\"carpet\":[{\"aaxis\":{\"endlinecolor\":\"#2a3f5f\",\"gridcolor\":\"white\",\"linecolor\":\"white\",\"minorgridcolor\":\"white\",\"startlinecolor\":\"#2a3f5f\"},\"baxis\":{\"endlinecolor\":\"#2a3f5f\",\"gridcolor\":\"white\",\"linecolor\":\"white\",\"minorgridcolor\":\"white\",\"startlinecolor\":\"#2a3f5f\"},\"type\":\"carpet\"}],\"table\":[{\"cells\":{\"fill\":{\"color\":\"#EBF0F8\"},\"line\":{\"color\":\"white\"}},\"header\":{\"fill\":{\"color\":\"#C8D4E3\"},\"line\":{\"color\":\"white\"}},\"type\":\"table\"}],\"barpolar\":[{\"marker\":{\"line\":{\"color\":\"#E5ECF6\",\"width\":0.5},\"pattern\":{\"fillmode\":\"overlay\",\"size\":10,\"solidity\":0.2}},\"type\":\"barpolar\"}],\"pie\":[{\"automargin\":true,\"type\":\"pie\"}]},\"layout\":{\"autotypenumbers\":\"strict\",\"colorway\":[\"#636efa\",\"#EF553B\",\"#00cc96\",\"#ab63fa\",\"#FFA15A\",\"#19d3f3\",\"#FF6692\",\"#B6E880\",\"#FF97FF\",\"#FECB52\"],\"font\":{\"color\":\"#2a3f5f\"},\"hovermode\":\"closest\",\"hoverlabel\":{\"align\":\"left\"},\"paper_bgcolor\":\"white\",\"plot_bgcolor\":\"#E5ECF6\",\"polar\":{\"bgcolor\":\"#E5ECF6\",\"angularaxis\":{\"gridcolor\":\"white\",\"linecolor\":\"white\",\"ticks\":\"\"},\"radialaxis\":{\"gridcolor\":\"white\",\"linecolor\":\"white\",\"ticks\":\"\"}},\"ternary\":{\"bgcolor\":\"#E5ECF6\",\"aaxis\":{\"gridcolor\":\"white\",\"linecolor\":\"white\",\"ticks\":\"\"},\"baxis\":{\"gridcolor\":\"white\",\"linecolor\":\"white\",\"ticks\":\"\"},\"caxis\":{\"gridcolor\":\"white\",\"linecolor\":\"white\",\"ticks\":\"\"}},\"coloraxis\":{\"colorbar\":{\"outlinewidth\":0,\"ticks\":\"\"}},\"colorscale\":{\"sequential\":[[0.0,\"#0d0887\"],[0.1111111111111111,\"#46039f\"],[0.2222222222222222,\"#7201a8\"],[0.3333333333333333,\"#9c179e\"],[0.4444444444444444,\"#bd3786\"],[0.5555555555555556,\"#d8576b\"],[0.6666666666666666,\"#ed7953\"],[0.7777777777777778,\"#fb9f3a\"],[0.8888888888888888,\"#fdca26\"],[1.0,\"#f0f921\"]],\"sequentialminus\":[[0.0,\"#0d0887\"],[0.1111111111111111,\"#46039f\"],[0.2222222222222222,\"#7201a8\"],[0.3333333333333333,\"#9c179e\"],[0.4444444444444444,\"#bd3786\"],[0.5555555555555556,\"#d8576b\"],[0.6666666666666666,\"#ed7953\"],[0.7777777777777778,\"#fb9f3a\"],[0.8888888888888888,\"#fdca26\"],[1.0,\"#f0f921\"]],\"diverging\":[[0,\"#8e0152\"],[0.1,\"#c51b7d\"],[0.2,\"#de77ae\"],[0.3,\"#f1b6da\"],[0.4,\"#fde0ef\"],[0.5,\"#f7f7f7\"],[0.6,\"#e6f5d0\"],[0.7,\"#b8e186\"],[0.8,\"#7fbc41\"],[0.9,\"#4d9221\"],[1,\"#276419\"]]},\"xaxis\":{\"gridcolor\":\"white\",\"linecolor\":\"white\",\"ticks\":\"\",\"title\":{\"standoff\":15},\"zerolinecolor\":\"white\",\"automargin\":true,\"zerolinewidth\":2},\"yaxis\":{\"gridcolor\":\"white\",\"linecolor\":\"white\",\"ticks\":\"\",\"title\":{\"standoff\":15},\"zerolinecolor\":\"white\",\"automargin\":true,\"zerolinewidth\":2},\"scene\":{\"xaxis\":{\"backgroundcolor\":\"#E5ECF6\",\"gridcolor\":\"white\",\"linecolor\":\"white\",\"showbackground\":true,\"ticks\":\"\",\"zerolinecolor\":\"white\",\"gridwidth\":2},\"yaxis\":{\"backgroundcolor\":\"#E5ECF6\",\"gridcolor\":\"white\",\"linecolor\":\"white\",\"showbackground\":true,\"ticks\":\"\",\"zerolinecolor\":\"white\",\"gridwidth\":2},\"zaxis\":{\"backgroundcolor\":\"#E5ECF6\",\"gridcolor\":\"white\",\"linecolor\":\"white\",\"showbackground\":true,\"ticks\":\"\",\"zerolinecolor\":\"white\",\"gridwidth\":2}},\"shapedefaults\":{\"line\":{\"color\":\"#2a3f5f\"}},\"annotationdefaults\":{\"arrowcolor\":\"#2a3f5f\",\"arrowhead\":0,\"arrowwidth\":1},\"geo\":{\"bgcolor\":\"white\",\"landcolor\":\"#E5ECF6\",\"subunitcolor\":\"white\",\"showland\":true,\"showlakes\":true,\"lakecolor\":\"white\"},\"title\":{\"x\":0.05},\"mapbox\":{\"style\":\"light\"}}},\"xaxis\":{\"anchor\":\"y\",\"domain\":[0.0,1.0],\"title\":{\"text\":\"x\"}},\"yaxis\":{\"anchor\":\"x\",\"domain\":[0.0,1.0],\"title\":{\"text\":\"sum of y\"}},\"legend\":{\"tracegroupgap\":0},\"margin\":{\"t\":60},\"barmode\":\"relative\"},                        {\"responsive\": true}                    ).then(function(){\n",
       "                            \n",
       "var gd = document.getElementById('c96d189e-2028-4e0d-a628-41aaf040ac42');\n",
       "var x = new MutationObserver(function (mutations, observer) {{\n",
       "        var display = window.getComputedStyle(gd).display;\n",
       "        if (!display || display === 'none') {{\n",
       "            console.log([gd, 'removed!']);\n",
       "            Plotly.purge(gd);\n",
       "            observer.disconnect();\n",
       "        }}\n",
       "}});\n",
       "\n",
       "// Listen for the removal of the full notebook cells\n",
       "var notebookContainer = gd.closest('#notebook-container');\n",
       "if (notebookContainer) {{\n",
       "    x.observe(notebookContainer, {childList: true});\n",
       "}}\n",
       "\n",
       "// Listen for the clearing of the current output cell\n",
       "var outputEl = gd.closest('.output');\n",
       "if (outputEl) {{\n",
       "    x.observe(outputEl, {childList: true});\n",
       "}}\n",
       "\n",
       "                        })                };                });            </script>        </div>"
      ]
     },
     "metadata": {},
     "output_type": "display_data"
    }
   ],
   "source": [
    "express.histogram(x=COLUMNS, y=logreg.coef_[0])"
   ]
  },
  {
   "cell_type": "markdown",
   "id": "890af090",
   "metadata": {
    "papermill": {
     "duration": 0.004048,
     "end_time": "2024-04-02T21:08:14.983917",
     "exception": false,
     "start_time": "2024-04-02T21:08:14.979869",
     "status": "completed"
    },
    "tags": []
   },
   "source": [
    "Let's make a split and start comparing models."
   ]
  },
  {
   "cell_type": "code",
   "execution_count": 5,
   "id": "89474e63",
   "metadata": {
    "execution": {
     "iopub.execute_input": "2024-04-02T21:08:14.994343Z",
     "iopub.status.busy": "2024-04-02T21:08:14.993414Z",
     "iopub.status.idle": "2024-04-02T21:09:06.817110Z",
     "shell.execute_reply": "2024-04-02T21:09:06.815730Z"
    },
    "papermill": {
     "duration": 51.834311,
     "end_time": "2024-04-02T21:09:06.822382",
     "exception": false,
     "start_time": "2024-04-02T21:08:14.988071",
     "status": "completed"
    },
    "tags": []
   },
   "outputs": [
    {
     "name": "stdout",
     "output_type": "stream",
     "text": [
      "fit complete after 542 iterations.\n",
      "RMSLE: 0.18384\n",
      "done in 0:00:51.807035\n"
     ]
    }
   ],
   "source": [
    "import arrow\n",
    "import math\n",
    "from sklearn.linear_model import LogisticRegression\n",
    "# we don't have the RMSLE directly, so we have to use the MSLE\n",
    "# and post-process to get the RMSLE\n",
    "from sklearn.metrics import mean_squared_log_error\n",
    "from sklearn.model_selection import train_test_split\n",
    "\n",
    "time_start = arrow.now()\n",
    "X_train, X_test, y_train, y_test = train_test_split(train_df[COLUMNS], train_df[TARGET], test_size=0.2, random_state=2024, stratify=train_df[TARGET])\n",
    "\n",
    "regression = LogisticRegression(max_iter=1000, tol=1e-12).fit(X=X_train, y=y_train)\n",
    "print('fit complete after {} iterations.'.format(regression.n_iter_[0]))\n",
    "print('RMSLE: {:6.5f}'.format(math.sqrt(mean_squared_log_error(y_true=y_test, y_pred=regression.predict(X=X_test)))))\n",
    "print('done in {}'.format(arrow.now() - time_start))"
   ]
  },
  {
   "cell_type": "markdown",
   "id": "b792a75f",
   "metadata": {
    "papermill": {
     "duration": 0.013603,
     "end_time": "2024-04-02T21:09:06.850827",
     "exception": false,
     "start_time": "2024-04-02T21:09:06.837224",
     "status": "completed"
    },
    "tags": []
   },
   "source": [
    "Let's build and compare a bunch of regressors."
   ]
  },
  {
   "cell_type": "code",
   "execution_count": 6,
   "id": "3f65cb69",
   "metadata": {
    "execution": {
     "iopub.execute_input": "2024-04-02T21:09:06.881496Z",
     "iopub.status.busy": "2024-04-02T21:09:06.880987Z",
     "iopub.status.idle": "2024-04-02T21:10:35.349711Z",
     "shell.execute_reply": "2024-04-02T21:10:35.348924Z"
    },
    "papermill": {
     "duration": 88.486381,
     "end_time": "2024-04-02T21:10:35.351641",
     "exception": false,
     "start_time": "2024-04-02T21:09:06.865260",
     "status": "completed"
    },
    "tags": []
   },
   "outputs": [
    {
     "name": "stdout",
     "output_type": "stream",
     "text": [
      "0.18384 : Logistic Regression 0:00:52.312680\n",
      "0.15313 : KNN k = 70 0:00:01.849516\n",
      "0.15311 : KNN k = 71 0:00:01.772011\n",
      "0.15310 : KNN k = 72 0:00:01.687755\n",
      "0.15311 : KNN k = 73 0:00:01.770219\n",
      "0.15311 : KNN k = 74 0:00:01.805749\n",
      "0.15310 : KNN k = 75 0:00:01.728183\n",
      "0.15310 : KNN k = 76 0:00:01.766185\n",
      "0.15312 : KNN k = 77 0:00:01.757596\n",
      "0.15309 : KNN k = 78 0:00:01.789432\n",
      "0.15308 : KNN k = 79 0:00:01.787435\n",
      "0.15308 : KNN k = 80 0:00:01.807982\n",
      "0.15311 : KNN k = 81 0:00:01.818589\n",
      "0.15311 : KNN k = 82 0:00:01.840262\n",
      "0.15310 : KNN k = 83 0:00:01.820621\n",
      "0.15310 : KNN k = 84 0:00:01.814848\n",
      "0.15309 : KNN k = 85 0:00:01.841391\n",
      "0.15310 : KNN k = 86 0:00:01.833577\n",
      "0.15312 : KNN k = 87 0:00:01.873344\n",
      "0.15312 : KNN k = 88 0:00:01.862073\n",
      "0.15313 : KNN k = 89 0:00:01.843548\n",
      "(0.15308106850508654, 'KNN k = 79')\n"
     ]
    }
   ],
   "source": [
    "import arrow\n",
    "from sklearn.linear_model import LogisticRegression\n",
    "from sklearn.neighbors import KNeighborsRegressor\n",
    "\n",
    "MODELS = {\n",
    "    'Logistic Regression': LogisticRegression(max_iter=1000, tol=1e-12),   \n",
    "}\n",
    "\n",
    "for n_neighbors in range(70, 90): \n",
    "    MODELS['KNN k = {}'.format(n_neighbors)] = KNeighborsRegressor(n_neighbors=n_neighbors, weights='uniform', algorithm='auto', leaf_size=30, p=2, metric='minkowski', metric_params=None, n_jobs=None)\n",
    "\n",
    "scores = []\n",
    "for name, regressor in MODELS.items():\n",
    "    time_start = arrow.now()\n",
    "    regressor.fit(X=X_train, y=y_train)\n",
    "    score = math.sqrt(mean_squared_log_error(y_true=y_test, y_pred=regressor.predict(X=X_test)))\n",
    "    print('{:6.5f} : {} {}'.format(score, name, arrow.now() - time_start))\n",
    "    scores.append((score, name))\n",
    "\n",
    "print(sorted(scores)[0])"
   ]
  },
  {
   "cell_type": "code",
   "execution_count": 7,
   "id": "aff080af",
   "metadata": {
    "execution": {
     "iopub.execute_input": "2024-04-02T21:10:35.365078Z",
     "iopub.status.busy": "2024-04-02T21:10:35.364714Z",
     "iopub.status.idle": "2024-04-02T21:10:42.182318Z",
     "shell.execute_reply": "2024-04-02T21:10:42.181307Z"
    },
    "papermill": {
     "duration": 6.826691,
     "end_time": "2024-04-02T21:10:42.184417",
     "exception": false,
     "start_time": "2024-04-02T21:10:35.357726",
     "status": "completed"
    },
    "tags": []
   },
   "outputs": [
    {
     "name": "stdout",
     "output_type": "stream",
     "text": [
      "0:00:06.810883 model done\n"
     ]
    }
   ],
   "source": [
    "import arrow\n",
    "from sklearn.neighbors import KNeighborsRegressor\n",
    "\n",
    "time_start = arrow.now()\n",
    "knn = KNeighborsRegressor(n_neighbors=79, weights='uniform', algorithm='auto', leaf_size=30, p=2, metric='minkowski', metric_params=None, n_jobs=None)\n",
    "knn.fit(X=train_df[COLUMNS], y=train_df[TARGET])\n",
    "knn_df = pd.DataFrame(data={'id' : test_df.index.tolist(), 'Rings': knn.predict(X=test_df[COLUMNS])})\n",
    "print('{} model done'.format(arrow.now() - time_start))"
   ]
  },
  {
   "cell_type": "code",
   "execution_count": 8,
   "id": "05571775",
   "metadata": {
    "execution": {
     "iopub.execute_input": "2024-04-02T21:10:42.198466Z",
     "iopub.status.busy": "2024-04-02T21:10:42.197837Z",
     "iopub.status.idle": "2024-04-02T21:10:42.346783Z",
     "shell.execute_reply": "2024-04-02T21:10:42.345788Z"
    },
    "papermill": {
     "duration": 0.159136,
     "end_time": "2024-04-02T21:10:42.349788",
     "exception": false,
     "start_time": "2024-04-02T21:10:42.190652",
     "status": "completed"
    },
    "tags": []
   },
   "outputs": [],
   "source": [
    "knn_df.to_csv(path_or_buf='/kaggle/working/submission.csv', index=False)"
   ]
  }
 ],
 "metadata": {
  "kaggle": {
   "accelerator": "none",
   "dataSources": [
    {
     "databundleVersionId": 8096274,
     "sourceId": 72489,
     "sourceType": "competition"
    }
   ],
   "dockerImageVersionId": 30673,
   "isGpuEnabled": false,
   "isInternetEnabled": true,
   "language": "python",
   "sourceType": "notebook"
  },
  "kernelspec": {
   "display_name": "Python 3",
   "language": "python",
   "name": "python3"
  },
  "language_info": {
   "codemirror_mode": {
    "name": "ipython",
    "version": 3
   },
   "file_extension": ".py",
   "mimetype": "text/x-python",
   "name": "python",
   "nbconvert_exporter": "python",
   "pygments_lexer": "ipython3",
   "version": "3.10.13"
  },
  "papermill": {
   "default_parameters": {},
   "duration": 225.997024,
   "end_time": "2024-04-02T21:10:42.979676",
   "environment_variables": {},
   "exception": null,
   "input_path": "__notebook__.ipynb",
   "output_path": "__notebook__.ipynb",
   "parameters": {},
   "start_time": "2024-04-02T21:06:56.982652",
   "version": "2.5.0"
  }
 },
 "nbformat": 4,
 "nbformat_minor": 5
}
