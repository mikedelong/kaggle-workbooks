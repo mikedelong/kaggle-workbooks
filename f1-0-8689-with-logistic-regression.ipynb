{
 "cells": [
  {
   "cell_type": "markdown",
   "id": "3f4b1465",
   "metadata": {
    "papermill": {
     "duration": 0.007412,
     "end_time": "2024-10-06T19:41:34.698426",
     "exception": false,
     "start_time": "2024-10-06T19:41:34.691014",
     "status": "completed"
    },
    "tags": []
   },
   "source": [
    "Let's install UMAP, a dimension reduction package we want to use to build a scatter plot."
   ]
  },
  {
   "cell_type": "code",
   "execution_count": 1,
   "id": "f8b0b188",
   "metadata": {
    "execution": {
     "iopub.execute_input": "2024-10-06T19:41:34.713798Z",
     "iopub.status.busy": "2024-10-06T19:41:34.713273Z",
     "iopub.status.idle": "2024-10-06T19:41:52.471550Z",
     "shell.execute_reply": "2024-10-06T19:41:52.469465Z"
    },
    "papermill": {
     "duration": 17.769702,
     "end_time": "2024-10-06T19:41:52.474773",
     "exception": false,
     "start_time": "2024-10-06T19:41:34.705071",
     "status": "completed"
    },
    "tags": []
   },
   "outputs": [
    {
     "name": "stdout",
     "output_type": "stream",
     "text": [
      "UMAP installed.\n"
     ]
    }
   ],
   "source": [
    "!pip install --quiet umap-learn\n",
    "print('UMAP installed.')"
   ]
  },
  {
   "cell_type": "markdown",
   "id": "b4ef8525",
   "metadata": {
    "papermill": {
     "duration": 0.006951,
     "end_time": "2024-10-06T19:41:52.488805",
     "exception": false,
     "start_time": "2024-10-06T19:41:52.481854",
     "status": "completed"
    },
    "tags": []
   },
   "source": [
    "Let's load up all the data and change the type of our target variable. Let's also do a tiny bit of feature engineering; we tried introducing dummies for several variables, and only introducing dummies for the thall variable improved the accuracy of our model."
   ]
  },
  {
   "cell_type": "code",
   "execution_count": 2,
   "id": "58f1c10d",
   "metadata": {
    "_cell_guid": "b1076dfc-b9ad-4769-8c92-a6c4dae69d19",
    "_uuid": "8f2839f25d086af736a60e9eeb907d3b93b6e0e5",
    "execution": {
     "iopub.execute_input": "2024-10-06T19:41:52.505287Z",
     "iopub.status.busy": "2024-10-06T19:41:52.504101Z",
     "iopub.status.idle": "2024-10-06T19:41:53.626856Z",
     "shell.execute_reply": "2024-10-06T19:41:53.625440Z"
    },
    "papermill": {
     "duration": 1.13443,
     "end_time": "2024-10-06T19:41:53.630051",
     "exception": false,
     "start_time": "2024-10-06T19:41:52.495621",
     "status": "completed"
    },
    "tags": []
   },
   "outputs": [
    {
     "data": {
      "text/html": [
       "<div>\n",
       "<style scoped>\n",
       "    .dataframe tbody tr th:only-of-type {\n",
       "        vertical-align: middle;\n",
       "    }\n",
       "\n",
       "    .dataframe tbody tr th {\n",
       "        vertical-align: top;\n",
       "    }\n",
       "\n",
       "    .dataframe thead th {\n",
       "        text-align: right;\n",
       "    }\n",
       "</style>\n",
       "<table border=\"1\" class=\"dataframe\">\n",
       "  <thead>\n",
       "    <tr style=\"text-align: right;\">\n",
       "      <th></th>\n",
       "      <th>age</th>\n",
       "      <th>sex</th>\n",
       "      <th>cp</th>\n",
       "      <th>trtbps</th>\n",
       "      <th>chol</th>\n",
       "      <th>fbs</th>\n",
       "      <th>restecg</th>\n",
       "      <th>thalachh</th>\n",
       "      <th>exng</th>\n",
       "      <th>oldpeak</th>\n",
       "      <th>slp</th>\n",
       "      <th>caa</th>\n",
       "      <th>output</th>\n",
       "      <th>thall_0</th>\n",
       "      <th>thall_1</th>\n",
       "      <th>thall_2</th>\n",
       "      <th>thall_3</th>\n",
       "    </tr>\n",
       "  </thead>\n",
       "  <tbody>\n",
       "    <tr>\n",
       "      <th>0</th>\n",
       "      <td>63</td>\n",
       "      <td>1</td>\n",
       "      <td>3</td>\n",
       "      <td>145</td>\n",
       "      <td>233</td>\n",
       "      <td>1</td>\n",
       "      <td>0</td>\n",
       "      <td>150</td>\n",
       "      <td>0</td>\n",
       "      <td>2.3</td>\n",
       "      <td>0</td>\n",
       "      <td>0</td>\n",
       "      <td>True</td>\n",
       "      <td>False</td>\n",
       "      <td>True</td>\n",
       "      <td>False</td>\n",
       "      <td>False</td>\n",
       "    </tr>\n",
       "    <tr>\n",
       "      <th>1</th>\n",
       "      <td>37</td>\n",
       "      <td>1</td>\n",
       "      <td>2</td>\n",
       "      <td>130</td>\n",
       "      <td>250</td>\n",
       "      <td>0</td>\n",
       "      <td>1</td>\n",
       "      <td>187</td>\n",
       "      <td>0</td>\n",
       "      <td>3.5</td>\n",
       "      <td>0</td>\n",
       "      <td>0</td>\n",
       "      <td>True</td>\n",
       "      <td>False</td>\n",
       "      <td>False</td>\n",
       "      <td>True</td>\n",
       "      <td>False</td>\n",
       "    </tr>\n",
       "    <tr>\n",
       "      <th>2</th>\n",
       "      <td>41</td>\n",
       "      <td>0</td>\n",
       "      <td>1</td>\n",
       "      <td>130</td>\n",
       "      <td>204</td>\n",
       "      <td>0</td>\n",
       "      <td>0</td>\n",
       "      <td>172</td>\n",
       "      <td>0</td>\n",
       "      <td>1.4</td>\n",
       "      <td>2</td>\n",
       "      <td>0</td>\n",
       "      <td>True</td>\n",
       "      <td>False</td>\n",
       "      <td>False</td>\n",
       "      <td>True</td>\n",
       "      <td>False</td>\n",
       "    </tr>\n",
       "    <tr>\n",
       "      <th>3</th>\n",
       "      <td>56</td>\n",
       "      <td>1</td>\n",
       "      <td>1</td>\n",
       "      <td>120</td>\n",
       "      <td>236</td>\n",
       "      <td>0</td>\n",
       "      <td>1</td>\n",
       "      <td>178</td>\n",
       "      <td>0</td>\n",
       "      <td>0.8</td>\n",
       "      <td>2</td>\n",
       "      <td>0</td>\n",
       "      <td>True</td>\n",
       "      <td>False</td>\n",
       "      <td>False</td>\n",
       "      <td>True</td>\n",
       "      <td>False</td>\n",
       "    </tr>\n",
       "    <tr>\n",
       "      <th>4</th>\n",
       "      <td>57</td>\n",
       "      <td>0</td>\n",
       "      <td>0</td>\n",
       "      <td>120</td>\n",
       "      <td>354</td>\n",
       "      <td>0</td>\n",
       "      <td>1</td>\n",
       "      <td>163</td>\n",
       "      <td>1</td>\n",
       "      <td>0.6</td>\n",
       "      <td>2</td>\n",
       "      <td>0</td>\n",
       "      <td>True</td>\n",
       "      <td>False</td>\n",
       "      <td>False</td>\n",
       "      <td>True</td>\n",
       "      <td>False</td>\n",
       "    </tr>\n",
       "  </tbody>\n",
       "</table>\n",
       "</div>"
      ],
      "text/plain": [
       "   age  sex  cp  trtbps  chol  fbs  restecg  thalachh  exng  oldpeak  slp  \\\n",
       "0   63    1   3     145   233    1        0       150     0      2.3    0   \n",
       "1   37    1   2     130   250    0        1       187     0      3.5    0   \n",
       "2   41    0   1     130   204    0        0       172     0      1.4    2   \n",
       "3   56    1   1     120   236    0        1       178     0      0.8    2   \n",
       "4   57    0   0     120   354    0        1       163     1      0.6    2   \n",
       "\n",
       "   caa  output  thall_0  thall_1  thall_2  thall_3  \n",
       "0    0    True    False     True    False    False  \n",
       "1    0    True    False    False     True    False  \n",
       "2    0    True    False    False     True    False  \n",
       "3    0    True    False    False     True    False  \n",
       "4    0    True    False    False     True    False  "
      ]
     },
     "execution_count": 2,
     "metadata": {},
     "output_type": "execute_result"
    }
   ],
   "source": [
    "import pandas as pd\n",
    "\n",
    "HEART = '/kaggle/input/heart-attack-analysis-prediction-dataset/heart.csv'\n",
    "\n",
    "df = pd.read_csv(filepath_or_buffer=HEART)\n",
    "df['output'] = df['output'] == 1\n",
    "df = pd.get_dummies(data=df, columns=['thall'])\n",
    "columns = df.drop(columns=['output']).columns\n",
    "df.head()"
   ]
  },
  {
   "cell_type": "markdown",
   "id": "817e5215",
   "metadata": {
    "papermill": {
     "duration": 0.006948,
     "end_time": "2024-10-06T19:41:53.644633",
     "exception": false,
     "start_time": "2024-10-06T19:41:53.637685",
     "status": "completed"
    },
    "tags": []
   },
   "source": [
    "Are the classes balanced in our target variable?"
   ]
  },
  {
   "cell_type": "code",
   "execution_count": 3,
   "id": "31f0255c",
   "metadata": {
    "execution": {
     "iopub.execute_input": "2024-10-06T19:41:53.661444Z",
     "iopub.status.busy": "2024-10-06T19:41:53.661018Z",
     "iopub.status.idle": "2024-10-06T19:41:53.676381Z",
     "shell.execute_reply": "2024-10-06T19:41:53.674783Z"
    },
    "papermill": {
     "duration": 0.02742,
     "end_time": "2024-10-06T19:41:53.679470",
     "exception": false,
     "start_time": "2024-10-06T19:41:53.652050",
     "status": "completed"
    },
    "tags": []
   },
   "outputs": [
    {
     "data": {
      "text/plain": [
       "{True: 165, False: 138}"
      ]
     },
     "execution_count": 3,
     "metadata": {},
     "output_type": "execute_result"
    }
   ],
   "source": [
    "df['output'].value_counts(dropna=False).to_dict()"
   ]
  },
  {
   "cell_type": "markdown",
   "id": "28bf7072",
   "metadata": {
    "papermill": {
     "duration": 0.006892,
     "end_time": "2024-10-06T19:41:53.693667",
     "exception": false,
     "start_time": "2024-10-06T19:41:53.686775",
     "status": "completed"
    },
    "tags": []
   },
   "source": [
    "Let's use dimension reduction to make a scatter plot. If we see a lot of clustering then our model will probably do well; if our scatter plot looks kind of random our model will probably not do well."
   ]
  },
  {
   "cell_type": "code",
   "execution_count": 4,
   "id": "846e0b08",
   "metadata": {
    "execution": {
     "iopub.execute_input": "2024-10-06T19:41:53.710736Z",
     "iopub.status.busy": "2024-10-06T19:41:53.710219Z",
     "iopub.status.idle": "2024-10-06T19:42:46.180103Z",
     "shell.execute_reply": "2024-10-06T19:42:46.178523Z"
    },
    "papermill": {
     "duration": 52.48955,
     "end_time": "2024-10-06T19:42:46.190364",
     "exception": false,
     "start_time": "2024-10-06T19:41:53.700814",
     "status": "completed"
    },
    "tags": []
   },
   "outputs": [
    {
     "name": "stdout",
     "output_type": "stream",
     "text": [
      "done with UMAP in 0:00:10.922132\n"
     ]
    }
   ],
   "source": [
    "import arrow\n",
    "from umap import UMAP\n",
    "\n",
    "time_start = arrow.now()\n",
    "umap = UMAP(random_state=2024, verbose=False, n_jobs=1, low_memory=False, n_epochs=201)\n",
    "df[['x', 'y']] = umap.fit_transform(X=df[columns])\n",
    "print('done with UMAP in {}'.format(arrow.now() - time_start))"
   ]
  },
  {
   "cell_type": "code",
   "execution_count": 5,
   "id": "d7e3d43d",
   "metadata": {
    "execution": {
     "iopub.execute_input": "2024-10-06T19:42:46.210996Z",
     "iopub.status.busy": "2024-10-06T19:42:46.210043Z",
     "iopub.status.idle": "2024-10-06T19:42:49.855574Z",
     "shell.execute_reply": "2024-10-06T19:42:49.854162Z"
    },
    "papermill": {
     "duration": 3.660338,
     "end_time": "2024-10-06T19:42:49.859130",
     "exception": false,
     "start_time": "2024-10-06T19:42:46.198792",
     "status": "completed"
    },
    "tags": []
   },
   "outputs": [
    {
     "data": {
      "text/html": [
       "        <script type=\"text/javascript\">\n",
       "        window.PlotlyConfig = {MathJaxConfig: 'local'};\n",
       "        if (window.MathJax && window.MathJax.Hub && window.MathJax.Hub.Config) {window.MathJax.Hub.Config({SVG: {font: \"STIX-Web\"}});}\n",
       "        if (typeof require !== 'undefined') {\n",
       "        require.undef(\"plotly\");\n",
       "        requirejs.config({\n",
       "            paths: {\n",
       "                'plotly': ['https://cdn.plot.ly/plotly-2.32.0.min']\n",
       "            }\n",
       "        });\n",
       "        require(['plotly'], function(Plotly) {\n",
       "            window._Plotly = Plotly;\n",
       "        });\n",
       "        }\n",
       "        </script>\n",
       "        "
      ]
     },
     "metadata": {},
     "output_type": "display_data"
    },
    {
     "data": {
      "text/html": [
       "<div>                            <div id=\"00124178-8c09-4e94-9899-aa95a187ab2d\" class=\"plotly-graph-div\" style=\"height:525px; width:100%;\"></div>            <script type=\"text/javascript\">                require([\"plotly\"], function(Plotly) {                    window.PLOTLYENV=window.PLOTLYENV || {};                                    if (document.getElementById(\"00124178-8c09-4e94-9899-aa95a187ab2d\")) {                    Plotly.newPlot(                        \"00124178-8c09-4e94-9899-aa95a187ab2d\",                        [{\"hovertemplate\":\"output=True\\u003cbr\\u003ex=%{x}\\u003cbr\\u003ey=%{y}\\u003cextra\\u003e\\u003c\\u002fextra\\u003e\",\"legendgroup\":\"True\",\"marker\":{\"color\":\"#636efa\",\"symbol\":\"circle\"},\"mode\":\"markers\",\"name\":\"True\",\"orientation\":\"v\",\"showlegend\":true,\"x\":[5.903167,4.212993,7.1298523,4.6709933,-1.5559813,8.625054,0.029695736,3.596565,7.7428064,8.990111,5.712578,2.2507594,3.0048547,7.892284,0.57190675,6.5339847,-1.3343408,7.1996536,5.1843543,6.0418024,5.7851977,5.369133,5.384719,6.437022,7.372209,0.27855462,7.6516333,9.362559,-1.8993524,8.289642,7.263655,9.073136,6.016522,2.456665,8.110725,9.090198,0.06401635,5.6136923,0.85438746,-1.7109152,-0.8548093,4.4311614,6.909133,2.2638655,-0.3001068,-0.9377053,5.2305,2.8748,8.115369,5.793027,2.5578506,-0.54000574,6.4162874,9.10256,3.8787692,8.018357,5.8700233,3.873162,8.456675,-0.05195081,1.6006961,-0.4548834,7.6334815,8.319919,7.639036,8.700776,4.544173,5.209715,6.367248,7.5186377,2.399634,4.421525,6.6099653,3.8603013,6.5426617,3.6347845,4.204473,6.1721625,7.089915,4.2341423,4.040604,-0.21040782,-0.7157755,0.27097332,1.6602899,-1.8483003,2.3452377,7.189295,6.5811195,1.9728419,3.930728,7.5914273,5.9730287,0.5848892,9.481291,7.4753547,-1.9124228,4.261952,-0.35982803,4.244432,5.143279,0.5057615,7.7878942,4.8397903,8.210577,8.357915,6.4010115,5.874647,4.2160773,3.996274,-0.6177485,9.073663,-1.1291604,6.839002,2.7311883,6.4001894,6.5010076,7.999247,7.186338,5.358587,-1.1336678,2.3947241,3.5163877,3.4134533,7.3326426,6.419956,8.046458,0.74012923,7.8635793,1.1573938,7.7481384,2.685943,0.34100088,4.1968164,-0.122005865,2.8567967,9.416561,8.454996,8.486113,0.41481563,0.35781783,0.06448142,6.8097706,4.714806,8.624556,6.1495247,3.8634872,5.549078,5.8327537,9.263485,6.3166633,9.47262,6.2501235,0.8495697,6.0966053,8.759134,4.021516,7.699981,7.4913445,6.2498293,4.4576974,-1.4241191,9.05234,8.984723,8.941498],\"xaxis\":\"x\",\"y\":[5.1006193,6.304924,7.396973,7.1426625,4.2969074,6.3416348,5.24066,5.9587493,6.2579165,6.785503,5.561898,6.5962048,5.8447266,5.0325055,5.463375,7.7069044,4.184502,4.090116,5.9723387,5.09566,5.664362,6.9089184,6.6094646,4.3634815,7.3801937,5.473641,6.2677765,5.3375487,4.0425267,6.636042,7.961175,5.5434914,7.145591,6.1439486,4.399275,6.8163996,4.6666145,5.5650177,5.986379,4.482694,5.1844506,6.554383,7.935617,6.8175097,4.254062,4.187735,6.5324583,6.615233,4.2831607,5.736011,6.867171,4.631243,5.2744937,6.9048643,6.534991,6.9274654,7.2516646,6.071887,7.382028,4.680988,7.218098,4.4952374,7.6002545,4.679204,6.6896534,7.2638073,8.593556,6.87232,7.795188,6.972316,7.0605736,8.555664,7.4806876,6.0731745,7.5569935,6.602898,7.0092125,6.340205,7.195378,8.420613,6.132305,4.3298492,4.316173,5.011385,7.413358,4.043719,6.1570554,7.956953,7.9542665,7.689473,6.2470207,6.960521,6.355632,4.669519,5.8576984,4.000821,4.0605216,8.410795,4.220461,6.6569715,6.4033747,6.0004807,6.8762856,6.753666,6.9574885,4.3553586,4.3494873,5.66036,7.5994096,7.8911815,5.407917,6.818042,5.319579,8.012827,6.4695473,7.659962,7.4093704,7.0999055,7.958395,5.6296463,5.5562015,5.6041284,5.824804,6.0108843,8.049655,7.477499,5.2970715,5.335235,6.9164777,7.4386935,6.3128037,5.9003005,4.2931666,8.332617,4.217374,5.842881,5.01131,4.684553,4.7776237,7.7441854,4.3784733,4.3008184,7.744526,8.565493,4.6712413,4.5124235,8.116618,5.4687066,7.7045403,6.3087935,4.4727583,5.573136,4.8509393,5.7595444,5.941494,4.9222245,6.219141,7.6876693,4.9033303,6.436865,7.31352,4.206741,7.0783176,7.1577215,7.123065],\"yaxis\":\"y\",\"type\":\"scatter\"},{\"hovertemplate\":\"output=False\\u003cbr\\u003ex=%{x}\\u003cbr\\u003ey=%{y}\\u003cextra\\u003e\\u003c\\u002fextra\\u003e\",\"legendgroup\":\"False\",\"marker\":{\"color\":\"#EF553B\",\"symbol\":\"circle\"},\"mode\":\"markers\",\"name\":\"False\",\"orientation\":\"v\",\"showlegend\":true,\"x\":[-0.09891728,7.596841,1.8446434,2.3799415,8.019993,2.3563468,4.7901034,0.7217489,6.037109,8.341121,9.609101,4.6516438,-1.3665279,9.442483,-0.12960497,-1.5806311,7.2781916,-1.2822106,4.689035,6.722779,0.5069905,2.5052972,0.46050313,5.681975,9.397598,-0.8205664,7.9208136,9.330549,0.6134499,8.751239,-0.6548076,5.7183824,3.563915,0.41525042,4.085073,7.3960886,2.221092,0.020469613,0.55372876,9.043831,3.299858,4.054569,1.7325982,8.798345,8.826385,6.3108735,2.0489476,7.786135,-0.5311524,2.6977005,-1.4609965,0.34259292,-1.4351008,2.0555692,2.8169796,-1.8458042,7.633033,0.70697224,0.21699464,2.5284846,9.147309,0.25208172,8.359856,0.4572427,-1.3920833,3.9569101,-0.027488543,0.25936797,0.49181393,-1.349799,0.21039659,0.0894442,0.32746273,-0.275447,0.84527385,-0.17400159,6.064766,8.217929,-0.036859456,9.373266,2.8576427,-2.0029676,6.5753536,0.5371588,2.3609304,-1.1785887,2.9407206,-0.058142316,-1.3024036,-0.08561969,-0.71171343,1.9147123,8.500537,5.783848,5.5214314,6.07693,4.5950027,0.2603241,3.3450565,8.585413,8.0250845,-0.6593749,9.509296,0.23525976,0.28829837,2.8117177,6.321832,0.339416,4.4406753,0.9610522,6.7192397,7.5160556,2.1545517,-0.89919925,9.378835,-1.2447156,7.9223537,7.753844,5.4009647,8.518056,-1.2094693,7.799645,5.5919337,-1.3646702,8.320225,7.798538,-1.2640674,6.267014,7.7067876,9.463473,8.772822,8.694638,9.2821245,6.717792,1.903623,8.639493,9.582078,4.8151584],\"xaxis\":\"x\",\"y\":[6.9508886,4.585416,5.8832145,6.9347525,6.690354,7.041355,8.169973,4.5164933,6.4531746,4.6645722,5.486294,8.118438,4.340502,5.4438553,7.0921307,4.619045,4.090096,4.210801,8.20039,4.3175054,4.2902527,6.9475565,7.717891,5.8288774,6.292362,5.1192646,4.4738293,4.9825387,5.871303,6.4334826,5.3640356,5.573767,6.682617,7.791367,8.065928,7.9481025,7.0794816,7.1605954,5.924747,6.1902194,6.4827724,8.387613,5.9959965,5.2831626,6.539659,5.528978,7.0091004,5.31559,5.3972926,7.0760818,4.8163433,7.693489,4.9375353,6.8480525,6.8539753,4.119413,4.000822,5.1880903,6.095741,7.9481597,5.4004655,7.580536,4.9041953,5.7114396,5.2796316,8.08624,6.4071355,5.867125,7.8890786,5.3652997,4.77285,4.5368967,4.8664393,4.6811056,4.329731,6.9181585,4.5812845,4.6447234,7.157557,4.991144,5.718928,3.9535284,4.1780005,5.569457,6.7720904,5.7308736,7.0954957,7.279125,5.543575,6.858367,5.049164,7.3614,4.6626515,4.9041557,7.250006,5.0117745,8.237353,7.6077504,6.0235353,4.373257,4.8227587,5.5907483,5.5282063,7.510827,7.6285143,7.3775425,5.294762,7.936356,8.516907,7.552165,7.2678523,4.0783386,7.042405,4.950928,5.621636,5.4260163,6.7920995,4.551419,6.5738883,4.7842746,5.6122,6.9347715,5.391414,4.7343764,4.4883842,6.4654765,4.913214,4.8048377,6.0861588,5.977402,6.050203,4.983258,4.9755406,4.1885605,7.299852,5.7011685,5.6098876,6.8587403],\"yaxis\":\"y\",\"type\":\"scatter\"}],                        {\"template\":{\"data\":{\"histogram2dcontour\":[{\"type\":\"histogram2dcontour\",\"colorbar\":{\"outlinewidth\":0,\"ticks\":\"\"},\"colorscale\":[[0.0,\"#0d0887\"],[0.1111111111111111,\"#46039f\"],[0.2222222222222222,\"#7201a8\"],[0.3333333333333333,\"#9c179e\"],[0.4444444444444444,\"#bd3786\"],[0.5555555555555556,\"#d8576b\"],[0.6666666666666666,\"#ed7953\"],[0.7777777777777778,\"#fb9f3a\"],[0.8888888888888888,\"#fdca26\"],[1.0,\"#f0f921\"]]}],\"choropleth\":[{\"type\":\"choropleth\",\"colorbar\":{\"outlinewidth\":0,\"ticks\":\"\"}}],\"histogram2d\":[{\"type\":\"histogram2d\",\"colorbar\":{\"outlinewidth\":0,\"ticks\":\"\"},\"colorscale\":[[0.0,\"#0d0887\"],[0.1111111111111111,\"#46039f\"],[0.2222222222222222,\"#7201a8\"],[0.3333333333333333,\"#9c179e\"],[0.4444444444444444,\"#bd3786\"],[0.5555555555555556,\"#d8576b\"],[0.6666666666666666,\"#ed7953\"],[0.7777777777777778,\"#fb9f3a\"],[0.8888888888888888,\"#fdca26\"],[1.0,\"#f0f921\"]]}],\"heatmap\":[{\"type\":\"heatmap\",\"colorbar\":{\"outlinewidth\":0,\"ticks\":\"\"},\"colorscale\":[[0.0,\"#0d0887\"],[0.1111111111111111,\"#46039f\"],[0.2222222222222222,\"#7201a8\"],[0.3333333333333333,\"#9c179e\"],[0.4444444444444444,\"#bd3786\"],[0.5555555555555556,\"#d8576b\"],[0.6666666666666666,\"#ed7953\"],[0.7777777777777778,\"#fb9f3a\"],[0.8888888888888888,\"#fdca26\"],[1.0,\"#f0f921\"]]}],\"heatmapgl\":[{\"type\":\"heatmapgl\",\"colorbar\":{\"outlinewidth\":0,\"ticks\":\"\"},\"colorscale\":[[0.0,\"#0d0887\"],[0.1111111111111111,\"#46039f\"],[0.2222222222222222,\"#7201a8\"],[0.3333333333333333,\"#9c179e\"],[0.4444444444444444,\"#bd3786\"],[0.5555555555555556,\"#d8576b\"],[0.6666666666666666,\"#ed7953\"],[0.7777777777777778,\"#fb9f3a\"],[0.8888888888888888,\"#fdca26\"],[1.0,\"#f0f921\"]]}],\"contourcarpet\":[{\"type\":\"contourcarpet\",\"colorbar\":{\"outlinewidth\":0,\"ticks\":\"\"}}],\"contour\":[{\"type\":\"contour\",\"colorbar\":{\"outlinewidth\":0,\"ticks\":\"\"},\"colorscale\":[[0.0,\"#0d0887\"],[0.1111111111111111,\"#46039f\"],[0.2222222222222222,\"#7201a8\"],[0.3333333333333333,\"#9c179e\"],[0.4444444444444444,\"#bd3786\"],[0.5555555555555556,\"#d8576b\"],[0.6666666666666666,\"#ed7953\"],[0.7777777777777778,\"#fb9f3a\"],[0.8888888888888888,\"#fdca26\"],[1.0,\"#f0f921\"]]}],\"surface\":[{\"type\":\"surface\",\"colorbar\":{\"outlinewidth\":0,\"ticks\":\"\"},\"colorscale\":[[0.0,\"#0d0887\"],[0.1111111111111111,\"#46039f\"],[0.2222222222222222,\"#7201a8\"],[0.3333333333333333,\"#9c179e\"],[0.4444444444444444,\"#bd3786\"],[0.5555555555555556,\"#d8576b\"],[0.6666666666666666,\"#ed7953\"],[0.7777777777777778,\"#fb9f3a\"],[0.8888888888888888,\"#fdca26\"],[1.0,\"#f0f921\"]]}],\"mesh3d\":[{\"type\":\"mesh3d\",\"colorbar\":{\"outlinewidth\":0,\"ticks\":\"\"}}],\"scatter\":[{\"fillpattern\":{\"fillmode\":\"overlay\",\"size\":10,\"solidity\":0.2},\"type\":\"scatter\"}],\"parcoords\":[{\"type\":\"parcoords\",\"line\":{\"colorbar\":{\"outlinewidth\":0,\"ticks\":\"\"}}}],\"scatterpolargl\":[{\"type\":\"scatterpolargl\",\"marker\":{\"colorbar\":{\"outlinewidth\":0,\"ticks\":\"\"}}}],\"bar\":[{\"error_x\":{\"color\":\"#2a3f5f\"},\"error_y\":{\"color\":\"#2a3f5f\"},\"marker\":{\"line\":{\"color\":\"#E5ECF6\",\"width\":0.5},\"pattern\":{\"fillmode\":\"overlay\",\"size\":10,\"solidity\":0.2}},\"type\":\"bar\"}],\"scattergeo\":[{\"type\":\"scattergeo\",\"marker\":{\"colorbar\":{\"outlinewidth\":0,\"ticks\":\"\"}}}],\"scatterpolar\":[{\"type\":\"scatterpolar\",\"marker\":{\"colorbar\":{\"outlinewidth\":0,\"ticks\":\"\"}}}],\"histogram\":[{\"marker\":{\"pattern\":{\"fillmode\":\"overlay\",\"size\":10,\"solidity\":0.2}},\"type\":\"histogram\"}],\"scattergl\":[{\"type\":\"scattergl\",\"marker\":{\"colorbar\":{\"outlinewidth\":0,\"ticks\":\"\"}}}],\"scatter3d\":[{\"type\":\"scatter3d\",\"line\":{\"colorbar\":{\"outlinewidth\":0,\"ticks\":\"\"}},\"marker\":{\"colorbar\":{\"outlinewidth\":0,\"ticks\":\"\"}}}],\"scattermapbox\":[{\"type\":\"scattermapbox\",\"marker\":{\"colorbar\":{\"outlinewidth\":0,\"ticks\":\"\"}}}],\"scatterternary\":[{\"type\":\"scatterternary\",\"marker\":{\"colorbar\":{\"outlinewidth\":0,\"ticks\":\"\"}}}],\"scattercarpet\":[{\"type\":\"scattercarpet\",\"marker\":{\"colorbar\":{\"outlinewidth\":0,\"ticks\":\"\"}}}],\"carpet\":[{\"aaxis\":{\"endlinecolor\":\"#2a3f5f\",\"gridcolor\":\"white\",\"linecolor\":\"white\",\"minorgridcolor\":\"white\",\"startlinecolor\":\"#2a3f5f\"},\"baxis\":{\"endlinecolor\":\"#2a3f5f\",\"gridcolor\":\"white\",\"linecolor\":\"white\",\"minorgridcolor\":\"white\",\"startlinecolor\":\"#2a3f5f\"},\"type\":\"carpet\"}],\"table\":[{\"cells\":{\"fill\":{\"color\":\"#EBF0F8\"},\"line\":{\"color\":\"white\"}},\"header\":{\"fill\":{\"color\":\"#C8D4E3\"},\"line\":{\"color\":\"white\"}},\"type\":\"table\"}],\"barpolar\":[{\"marker\":{\"line\":{\"color\":\"#E5ECF6\",\"width\":0.5},\"pattern\":{\"fillmode\":\"overlay\",\"size\":10,\"solidity\":0.2}},\"type\":\"barpolar\"}],\"pie\":[{\"automargin\":true,\"type\":\"pie\"}]},\"layout\":{\"autotypenumbers\":\"strict\",\"colorway\":[\"#636efa\",\"#EF553B\",\"#00cc96\",\"#ab63fa\",\"#FFA15A\",\"#19d3f3\",\"#FF6692\",\"#B6E880\",\"#FF97FF\",\"#FECB52\"],\"font\":{\"color\":\"#2a3f5f\"},\"hovermode\":\"closest\",\"hoverlabel\":{\"align\":\"left\"},\"paper_bgcolor\":\"white\",\"plot_bgcolor\":\"#E5ECF6\",\"polar\":{\"bgcolor\":\"#E5ECF6\",\"angularaxis\":{\"gridcolor\":\"white\",\"linecolor\":\"white\",\"ticks\":\"\"},\"radialaxis\":{\"gridcolor\":\"white\",\"linecolor\":\"white\",\"ticks\":\"\"}},\"ternary\":{\"bgcolor\":\"#E5ECF6\",\"aaxis\":{\"gridcolor\":\"white\",\"linecolor\":\"white\",\"ticks\":\"\"},\"baxis\":{\"gridcolor\":\"white\",\"linecolor\":\"white\",\"ticks\":\"\"},\"caxis\":{\"gridcolor\":\"white\",\"linecolor\":\"white\",\"ticks\":\"\"}},\"coloraxis\":{\"colorbar\":{\"outlinewidth\":0,\"ticks\":\"\"}},\"colorscale\":{\"sequential\":[[0.0,\"#0d0887\"],[0.1111111111111111,\"#46039f\"],[0.2222222222222222,\"#7201a8\"],[0.3333333333333333,\"#9c179e\"],[0.4444444444444444,\"#bd3786\"],[0.5555555555555556,\"#d8576b\"],[0.6666666666666666,\"#ed7953\"],[0.7777777777777778,\"#fb9f3a\"],[0.8888888888888888,\"#fdca26\"],[1.0,\"#f0f921\"]],\"sequentialminus\":[[0.0,\"#0d0887\"],[0.1111111111111111,\"#46039f\"],[0.2222222222222222,\"#7201a8\"],[0.3333333333333333,\"#9c179e\"],[0.4444444444444444,\"#bd3786\"],[0.5555555555555556,\"#d8576b\"],[0.6666666666666666,\"#ed7953\"],[0.7777777777777778,\"#fb9f3a\"],[0.8888888888888888,\"#fdca26\"],[1.0,\"#f0f921\"]],\"diverging\":[[0,\"#8e0152\"],[0.1,\"#c51b7d\"],[0.2,\"#de77ae\"],[0.3,\"#f1b6da\"],[0.4,\"#fde0ef\"],[0.5,\"#f7f7f7\"],[0.6,\"#e6f5d0\"],[0.7,\"#b8e186\"],[0.8,\"#7fbc41\"],[0.9,\"#4d9221\"],[1,\"#276419\"]]},\"xaxis\":{\"gridcolor\":\"white\",\"linecolor\":\"white\",\"ticks\":\"\",\"title\":{\"standoff\":15},\"zerolinecolor\":\"white\",\"automargin\":true,\"zerolinewidth\":2},\"yaxis\":{\"gridcolor\":\"white\",\"linecolor\":\"white\",\"ticks\":\"\",\"title\":{\"standoff\":15},\"zerolinecolor\":\"white\",\"automargin\":true,\"zerolinewidth\":2},\"scene\":{\"xaxis\":{\"backgroundcolor\":\"#E5ECF6\",\"gridcolor\":\"white\",\"linecolor\":\"white\",\"showbackground\":true,\"ticks\":\"\",\"zerolinecolor\":\"white\",\"gridwidth\":2},\"yaxis\":{\"backgroundcolor\":\"#E5ECF6\",\"gridcolor\":\"white\",\"linecolor\":\"white\",\"showbackground\":true,\"ticks\":\"\",\"zerolinecolor\":\"white\",\"gridwidth\":2},\"zaxis\":{\"backgroundcolor\":\"#E5ECF6\",\"gridcolor\":\"white\",\"linecolor\":\"white\",\"showbackground\":true,\"ticks\":\"\",\"zerolinecolor\":\"white\",\"gridwidth\":2}},\"shapedefaults\":{\"line\":{\"color\":\"#2a3f5f\"}},\"annotationdefaults\":{\"arrowcolor\":\"#2a3f5f\",\"arrowhead\":0,\"arrowwidth\":1},\"geo\":{\"bgcolor\":\"white\",\"landcolor\":\"#E5ECF6\",\"subunitcolor\":\"white\",\"showland\":true,\"showlakes\":true,\"lakecolor\":\"white\"},\"title\":{\"x\":0.05},\"mapbox\":{\"style\":\"light\"}}},\"xaxis\":{\"anchor\":\"y\",\"domain\":[0.0,1.0],\"title\":{\"text\":\"x\"}},\"yaxis\":{\"anchor\":\"x\",\"domain\":[0.0,1.0],\"title\":{\"text\":\"y\"}},\"legend\":{\"title\":{\"text\":\"output\"},\"tracegroupgap\":0},\"margin\":{\"t\":60}},                        {\"responsive\": true}                    ).then(function(){\n",
       "                            \n",
       "var gd = document.getElementById('00124178-8c09-4e94-9899-aa95a187ab2d');\n",
       "var x = new MutationObserver(function (mutations, observer) {{\n",
       "        var display = window.getComputedStyle(gd).display;\n",
       "        if (!display || display === 'none') {{\n",
       "            console.log([gd, 'removed!']);\n",
       "            Plotly.purge(gd);\n",
       "            observer.disconnect();\n",
       "        }}\n",
       "}});\n",
       "\n",
       "// Listen for the removal of the full notebook cells\n",
       "var notebookContainer = gd.closest('#notebook-container');\n",
       "if (notebookContainer) {{\n",
       "    x.observe(notebookContainer, {childList: true});\n",
       "}}\n",
       "\n",
       "// Listen for the clearing of the current output cell\n",
       "var outputEl = gd.closest('.output');\n",
       "if (outputEl) {{\n",
       "    x.observe(outputEl, {childList: true});\n",
       "}}\n",
       "\n",
       "                        })                };                });            </script>        </div>"
      ]
     },
     "metadata": {},
     "output_type": "display_data"
    }
   ],
   "source": [
    "from plotly import express\n",
    "express.scatter(data_frame=df, x='x', y='y', color='output')"
   ]
  },
  {
   "cell_type": "markdown",
   "id": "23e2efaa",
   "metadata": {
    "papermill": {
     "duration": 0.008236,
     "end_time": "2024-10-06T19:42:49.875849",
     "exception": false,
     "start_time": "2024-10-06T19:42:49.867613",
     "status": "completed"
    },
    "tags": []
   },
   "source": [
    "What do we see? We see some local clustering but we also see a lot of mixing; there are a lot of points that have nearest neighbors that are in the other class. Let's build a model."
   ]
  },
  {
   "cell_type": "code",
   "execution_count": 6,
   "id": "9e26db79",
   "metadata": {
    "execution": {
     "iopub.execute_input": "2024-10-06T19:42:49.895263Z",
     "iopub.status.busy": "2024-10-06T19:42:49.894782Z",
     "iopub.status.idle": "2024-10-06T19:42:50.144874Z",
     "shell.execute_reply": "2024-10-06T19:42:50.143401Z"
    },
    "papermill": {
     "duration": 0.263515,
     "end_time": "2024-10-06T19:42:50.147915",
     "exception": false,
     "start_time": "2024-10-06T19:42:49.884400",
     "status": "completed"
    },
    "tags": []
   },
   "outputs": [
    {
     "name": "stdout",
     "output_type": "stream",
     "text": [
      "model fit in 1057 iterations\n",
      "accuracy: 0.8852\n",
      "f1: 0.8851\n",
      "              precision    recall  f1-score   support\n",
      "\n",
      "       False       0.89      0.86      0.87        28\n",
      "        True       0.88      0.91      0.90        33\n",
      "\n",
      "    accuracy                           0.89        61\n",
      "   macro avg       0.89      0.88      0.88        61\n",
      "weighted avg       0.89      0.89      0.89        61\n",
      "\n"
     ]
    }
   ],
   "source": [
    "from sklearn.linear_model import LogisticRegression\n",
    "from sklearn.metrics import accuracy_score\n",
    "from sklearn.metrics import classification_report\n",
    "from sklearn.metrics import f1_score\n",
    "from sklearn.model_selection import train_test_split\n",
    "\n",
    "\n",
    "X_train, X_test, y_train, y_test = train_test_split(df[columns], df['output'], test_size=0.2, random_state=2024, stratify=df['output'])\n",
    "\n",
    "logreg = LogisticRegression(max_iter=10000, tol=1e-12).fit(X_train, y_train)\n",
    "print('model fit in {} iterations'.format(logreg.n_iter_[0]))\n",
    "print('accuracy: {:5.4f}'.format(accuracy_score(y_true=y_test, y_pred=logreg.predict(X=X_test))))\n",
    "print('f1: {:5.4f}'.format(f1_score(average='weighted', y_true=y_test, y_pred=logreg.predict(X=X_test), zero_division=0)))\n",
    "print(classification_report(y_true=y_test, y_pred=logreg.predict(X=X_test), zero_division=0))"
   ]
  },
  {
   "cell_type": "markdown",
   "id": "d8f93807",
   "metadata": {
    "papermill": {
     "duration": 0.007552,
     "end_time": "2024-10-06T19:42:50.163460",
     "exception": false,
     "start_time": "2024-10-06T19:42:50.155908",
     "status": "completed"
    },
    "tags": []
   },
   "source": [
    "Before we go let's look at the regression coefficients."
   ]
  },
  {
   "cell_type": "code",
   "execution_count": 7,
   "id": "3410fec5",
   "metadata": {
    "execution": {
     "iopub.execute_input": "2024-10-06T19:42:50.185077Z",
     "iopub.status.busy": "2024-10-06T19:42:50.183355Z",
     "iopub.status.idle": "2024-10-06T19:42:50.330268Z",
     "shell.execute_reply": "2024-10-06T19:42:50.328777Z"
    },
    "papermill": {
     "duration": 0.159519,
     "end_time": "2024-10-06T19:42:50.333141",
     "exception": false,
     "start_time": "2024-10-06T19:42:50.173622",
     "status": "completed"
    },
    "tags": []
   },
   "outputs": [
    {
     "data": {
      "text/html": [
       "<div>                            <div id=\"6b90735e-160a-41b1-adb2-92baae9073b4\" class=\"plotly-graph-div\" style=\"height:525px; width:100%;\"></div>            <script type=\"text/javascript\">                require([\"plotly\"], function(Plotly) {                    window.PLOTLYENV=window.PLOTLYENV || {};                                    if (document.getElementById(\"6b90735e-160a-41b1-adb2-92baae9073b4\")) {                    Plotly.newPlot(                        \"6b90735e-160a-41b1-adb2-92baae9073b4\",                        [{\"alignmentgroup\":\"True\",\"bingroup\":\"x\",\"histfunc\":\"sum\",\"hovertemplate\":\"x=%{x}\\u003cbr\\u003esum of y=%{y}\\u003cextra\\u003e\\u003c\\u002fextra\\u003e\",\"legendgroup\":\"\",\"marker\":{\"color\":\"#636efa\",\"pattern\":{\"shape\":\"\"}},\"name\":\"\",\"offsetgroup\":\"\",\"orientation\":\"v\",\"showlegend\":false,\"x\":[\"age\",\"sex\",\"cp\",\"trtbps\",\"chol\",\"fbs\",\"restecg\",\"thalachh\",\"exng\",\"oldpeak\",\"slp\",\"caa\",\"thall_0\",\"thall_1\",\"thall_2\",\"thall_3\"],\"xaxis\":\"x\",\"y\":[-0.014325156927780731,-1.2127432301668477,0.6782013954994895,-0.018238551065789487,-0.003992722181595197,0.3436785835393728,0.3080641994434214,0.02151545150253732,-0.7908578782771059,-0.6352598816684742,0.2523540857580459,-0.609694143559615,-0.192247508391292,0.2275457524577314,0.6913750000450166,-0.6800938160041268],\"yaxis\":\"y\",\"type\":\"histogram\"}],                        {\"template\":{\"data\":{\"histogram2dcontour\":[{\"type\":\"histogram2dcontour\",\"colorbar\":{\"outlinewidth\":0,\"ticks\":\"\"},\"colorscale\":[[0.0,\"#0d0887\"],[0.1111111111111111,\"#46039f\"],[0.2222222222222222,\"#7201a8\"],[0.3333333333333333,\"#9c179e\"],[0.4444444444444444,\"#bd3786\"],[0.5555555555555556,\"#d8576b\"],[0.6666666666666666,\"#ed7953\"],[0.7777777777777778,\"#fb9f3a\"],[0.8888888888888888,\"#fdca26\"],[1.0,\"#f0f921\"]]}],\"choropleth\":[{\"type\":\"choropleth\",\"colorbar\":{\"outlinewidth\":0,\"ticks\":\"\"}}],\"histogram2d\":[{\"type\":\"histogram2d\",\"colorbar\":{\"outlinewidth\":0,\"ticks\":\"\"},\"colorscale\":[[0.0,\"#0d0887\"],[0.1111111111111111,\"#46039f\"],[0.2222222222222222,\"#7201a8\"],[0.3333333333333333,\"#9c179e\"],[0.4444444444444444,\"#bd3786\"],[0.5555555555555556,\"#d8576b\"],[0.6666666666666666,\"#ed7953\"],[0.7777777777777778,\"#fb9f3a\"],[0.8888888888888888,\"#fdca26\"],[1.0,\"#f0f921\"]]}],\"heatmap\":[{\"type\":\"heatmap\",\"colorbar\":{\"outlinewidth\":0,\"ticks\":\"\"},\"colorscale\":[[0.0,\"#0d0887\"],[0.1111111111111111,\"#46039f\"],[0.2222222222222222,\"#7201a8\"],[0.3333333333333333,\"#9c179e\"],[0.4444444444444444,\"#bd3786\"],[0.5555555555555556,\"#d8576b\"],[0.6666666666666666,\"#ed7953\"],[0.7777777777777778,\"#fb9f3a\"],[0.8888888888888888,\"#fdca26\"],[1.0,\"#f0f921\"]]}],\"heatmapgl\":[{\"type\":\"heatmapgl\",\"colorbar\":{\"outlinewidth\":0,\"ticks\":\"\"},\"colorscale\":[[0.0,\"#0d0887\"],[0.1111111111111111,\"#46039f\"],[0.2222222222222222,\"#7201a8\"],[0.3333333333333333,\"#9c179e\"],[0.4444444444444444,\"#bd3786\"],[0.5555555555555556,\"#d8576b\"],[0.6666666666666666,\"#ed7953\"],[0.7777777777777778,\"#fb9f3a\"],[0.8888888888888888,\"#fdca26\"],[1.0,\"#f0f921\"]]}],\"contourcarpet\":[{\"type\":\"contourcarpet\",\"colorbar\":{\"outlinewidth\":0,\"ticks\":\"\"}}],\"contour\":[{\"type\":\"contour\",\"colorbar\":{\"outlinewidth\":0,\"ticks\":\"\"},\"colorscale\":[[0.0,\"#0d0887\"],[0.1111111111111111,\"#46039f\"],[0.2222222222222222,\"#7201a8\"],[0.3333333333333333,\"#9c179e\"],[0.4444444444444444,\"#bd3786\"],[0.5555555555555556,\"#d8576b\"],[0.6666666666666666,\"#ed7953\"],[0.7777777777777778,\"#fb9f3a\"],[0.8888888888888888,\"#fdca26\"],[1.0,\"#f0f921\"]]}],\"surface\":[{\"type\":\"surface\",\"colorbar\":{\"outlinewidth\":0,\"ticks\":\"\"},\"colorscale\":[[0.0,\"#0d0887\"],[0.1111111111111111,\"#46039f\"],[0.2222222222222222,\"#7201a8\"],[0.3333333333333333,\"#9c179e\"],[0.4444444444444444,\"#bd3786\"],[0.5555555555555556,\"#d8576b\"],[0.6666666666666666,\"#ed7953\"],[0.7777777777777778,\"#fb9f3a\"],[0.8888888888888888,\"#fdca26\"],[1.0,\"#f0f921\"]]}],\"mesh3d\":[{\"type\":\"mesh3d\",\"colorbar\":{\"outlinewidth\":0,\"ticks\":\"\"}}],\"scatter\":[{\"fillpattern\":{\"fillmode\":\"overlay\",\"size\":10,\"solidity\":0.2},\"type\":\"scatter\"}],\"parcoords\":[{\"type\":\"parcoords\",\"line\":{\"colorbar\":{\"outlinewidth\":0,\"ticks\":\"\"}}}],\"scatterpolargl\":[{\"type\":\"scatterpolargl\",\"marker\":{\"colorbar\":{\"outlinewidth\":0,\"ticks\":\"\"}}}],\"bar\":[{\"error_x\":{\"color\":\"#2a3f5f\"},\"error_y\":{\"color\":\"#2a3f5f\"},\"marker\":{\"line\":{\"color\":\"#E5ECF6\",\"width\":0.5},\"pattern\":{\"fillmode\":\"overlay\",\"size\":10,\"solidity\":0.2}},\"type\":\"bar\"}],\"scattergeo\":[{\"type\":\"scattergeo\",\"marker\":{\"colorbar\":{\"outlinewidth\":0,\"ticks\":\"\"}}}],\"scatterpolar\":[{\"type\":\"scatterpolar\",\"marker\":{\"colorbar\":{\"outlinewidth\":0,\"ticks\":\"\"}}}],\"histogram\":[{\"marker\":{\"pattern\":{\"fillmode\":\"overlay\",\"size\":10,\"solidity\":0.2}},\"type\":\"histogram\"}],\"scattergl\":[{\"type\":\"scattergl\",\"marker\":{\"colorbar\":{\"outlinewidth\":0,\"ticks\":\"\"}}}],\"scatter3d\":[{\"type\":\"scatter3d\",\"line\":{\"colorbar\":{\"outlinewidth\":0,\"ticks\":\"\"}},\"marker\":{\"colorbar\":{\"outlinewidth\":0,\"ticks\":\"\"}}}],\"scattermapbox\":[{\"type\":\"scattermapbox\",\"marker\":{\"colorbar\":{\"outlinewidth\":0,\"ticks\":\"\"}}}],\"scatterternary\":[{\"type\":\"scatterternary\",\"marker\":{\"colorbar\":{\"outlinewidth\":0,\"ticks\":\"\"}}}],\"scattercarpet\":[{\"type\":\"scattercarpet\",\"marker\":{\"colorbar\":{\"outlinewidth\":0,\"ticks\":\"\"}}}],\"carpet\":[{\"aaxis\":{\"endlinecolor\":\"#2a3f5f\",\"gridcolor\":\"white\",\"linecolor\":\"white\",\"minorgridcolor\":\"white\",\"startlinecolor\":\"#2a3f5f\"},\"baxis\":{\"endlinecolor\":\"#2a3f5f\",\"gridcolor\":\"white\",\"linecolor\":\"white\",\"minorgridcolor\":\"white\",\"startlinecolor\":\"#2a3f5f\"},\"type\":\"carpet\"}],\"table\":[{\"cells\":{\"fill\":{\"color\":\"#EBF0F8\"},\"line\":{\"color\":\"white\"}},\"header\":{\"fill\":{\"color\":\"#C8D4E3\"},\"line\":{\"color\":\"white\"}},\"type\":\"table\"}],\"barpolar\":[{\"marker\":{\"line\":{\"color\":\"#E5ECF6\",\"width\":0.5},\"pattern\":{\"fillmode\":\"overlay\",\"size\":10,\"solidity\":0.2}},\"type\":\"barpolar\"}],\"pie\":[{\"automargin\":true,\"type\":\"pie\"}]},\"layout\":{\"autotypenumbers\":\"strict\",\"colorway\":[\"#636efa\",\"#EF553B\",\"#00cc96\",\"#ab63fa\",\"#FFA15A\",\"#19d3f3\",\"#FF6692\",\"#B6E880\",\"#FF97FF\",\"#FECB52\"],\"font\":{\"color\":\"#2a3f5f\"},\"hovermode\":\"closest\",\"hoverlabel\":{\"align\":\"left\"},\"paper_bgcolor\":\"white\",\"plot_bgcolor\":\"#E5ECF6\",\"polar\":{\"bgcolor\":\"#E5ECF6\",\"angularaxis\":{\"gridcolor\":\"white\",\"linecolor\":\"white\",\"ticks\":\"\"},\"radialaxis\":{\"gridcolor\":\"white\",\"linecolor\":\"white\",\"ticks\":\"\"}},\"ternary\":{\"bgcolor\":\"#E5ECF6\",\"aaxis\":{\"gridcolor\":\"white\",\"linecolor\":\"white\",\"ticks\":\"\"},\"baxis\":{\"gridcolor\":\"white\",\"linecolor\":\"white\",\"ticks\":\"\"},\"caxis\":{\"gridcolor\":\"white\",\"linecolor\":\"white\",\"ticks\":\"\"}},\"coloraxis\":{\"colorbar\":{\"outlinewidth\":0,\"ticks\":\"\"}},\"colorscale\":{\"sequential\":[[0.0,\"#0d0887\"],[0.1111111111111111,\"#46039f\"],[0.2222222222222222,\"#7201a8\"],[0.3333333333333333,\"#9c179e\"],[0.4444444444444444,\"#bd3786\"],[0.5555555555555556,\"#d8576b\"],[0.6666666666666666,\"#ed7953\"],[0.7777777777777778,\"#fb9f3a\"],[0.8888888888888888,\"#fdca26\"],[1.0,\"#f0f921\"]],\"sequentialminus\":[[0.0,\"#0d0887\"],[0.1111111111111111,\"#46039f\"],[0.2222222222222222,\"#7201a8\"],[0.3333333333333333,\"#9c179e\"],[0.4444444444444444,\"#bd3786\"],[0.5555555555555556,\"#d8576b\"],[0.6666666666666666,\"#ed7953\"],[0.7777777777777778,\"#fb9f3a\"],[0.8888888888888888,\"#fdca26\"],[1.0,\"#f0f921\"]],\"diverging\":[[0,\"#8e0152\"],[0.1,\"#c51b7d\"],[0.2,\"#de77ae\"],[0.3,\"#f1b6da\"],[0.4,\"#fde0ef\"],[0.5,\"#f7f7f7\"],[0.6,\"#e6f5d0\"],[0.7,\"#b8e186\"],[0.8,\"#7fbc41\"],[0.9,\"#4d9221\"],[1,\"#276419\"]]},\"xaxis\":{\"gridcolor\":\"white\",\"linecolor\":\"white\",\"ticks\":\"\",\"title\":{\"standoff\":15},\"zerolinecolor\":\"white\",\"automargin\":true,\"zerolinewidth\":2},\"yaxis\":{\"gridcolor\":\"white\",\"linecolor\":\"white\",\"ticks\":\"\",\"title\":{\"standoff\":15},\"zerolinecolor\":\"white\",\"automargin\":true,\"zerolinewidth\":2},\"scene\":{\"xaxis\":{\"backgroundcolor\":\"#E5ECF6\",\"gridcolor\":\"white\",\"linecolor\":\"white\",\"showbackground\":true,\"ticks\":\"\",\"zerolinecolor\":\"white\",\"gridwidth\":2},\"yaxis\":{\"backgroundcolor\":\"#E5ECF6\",\"gridcolor\":\"white\",\"linecolor\":\"white\",\"showbackground\":true,\"ticks\":\"\",\"zerolinecolor\":\"white\",\"gridwidth\":2},\"zaxis\":{\"backgroundcolor\":\"#E5ECF6\",\"gridcolor\":\"white\",\"linecolor\":\"white\",\"showbackground\":true,\"ticks\":\"\",\"zerolinecolor\":\"white\",\"gridwidth\":2}},\"shapedefaults\":{\"line\":{\"color\":\"#2a3f5f\"}},\"annotationdefaults\":{\"arrowcolor\":\"#2a3f5f\",\"arrowhead\":0,\"arrowwidth\":1},\"geo\":{\"bgcolor\":\"white\",\"landcolor\":\"#E5ECF6\",\"subunitcolor\":\"white\",\"showland\":true,\"showlakes\":true,\"lakecolor\":\"white\"},\"title\":{\"x\":0.05},\"mapbox\":{\"style\":\"light\"}}},\"xaxis\":{\"anchor\":\"y\",\"domain\":[0.0,1.0],\"title\":{\"text\":\"x\"}},\"yaxis\":{\"anchor\":\"x\",\"domain\":[0.0,1.0],\"title\":{\"text\":\"sum of y\"}},\"legend\":{\"tracegroupgap\":0},\"margin\":{\"t\":60},\"barmode\":\"relative\"},                        {\"responsive\": true}                    ).then(function(){\n",
       "                            \n",
       "var gd = document.getElementById('6b90735e-160a-41b1-adb2-92baae9073b4');\n",
       "var x = new MutationObserver(function (mutations, observer) {{\n",
       "        var display = window.getComputedStyle(gd).display;\n",
       "        if (!display || display === 'none') {{\n",
       "            console.log([gd, 'removed!']);\n",
       "            Plotly.purge(gd);\n",
       "            observer.disconnect();\n",
       "        }}\n",
       "}});\n",
       "\n",
       "// Listen for the removal of the full notebook cells\n",
       "var notebookContainer = gd.closest('#notebook-container');\n",
       "if (notebookContainer) {{\n",
       "    x.observe(notebookContainer, {childList: true});\n",
       "}}\n",
       "\n",
       "// Listen for the clearing of the current output cell\n",
       "var outputEl = gd.closest('.output');\n",
       "if (outputEl) {{\n",
       "    x.observe(outputEl, {childList: true});\n",
       "}}\n",
       "\n",
       "                        })                };                });            </script>        </div>"
      ]
     },
     "metadata": {},
     "output_type": "display_data"
    }
   ],
   "source": [
    "express.histogram(x=columns, y=logreg.coef_[0])"
   ]
  },
  {
   "cell_type": "markdown",
   "id": "02ca1333",
   "metadata": {
    "papermill": {
     "duration": 0.007964,
     "end_time": "2024-10-06T19:42:50.349782",
     "exception": false,
     "start_time": "2024-10-06T19:42:50.341818",
     "status": "completed"
    },
    "tags": []
   },
   "source": [
    "What are the most important features? Sex, chest pain, exercise-induced angina, and thall, whatever that is. We have broken thall out into four variables, and only two of them have large regression coefficients."
   ]
  },
  {
   "cell_type": "markdown",
   "id": "06ce4a10",
   "metadata": {
    "papermill": {
     "duration": 0.009,
     "end_time": "2024-10-06T19:42:50.368271",
     "exception": false,
     "start_time": "2024-10-06T19:42:50.359271",
     "status": "completed"
    },
    "tags": []
   },
   "source": [
    "Let's look at the prediction probabilities from our model."
   ]
  },
  {
   "cell_type": "code",
   "execution_count": 8,
   "id": "d7cf6f15",
   "metadata": {
    "execution": {
     "iopub.execute_input": "2024-10-06T19:42:50.389268Z",
     "iopub.status.busy": "2024-10-06T19:42:50.387840Z",
     "iopub.status.idle": "2024-10-06T19:42:50.411460Z",
     "shell.execute_reply": "2024-10-06T19:42:50.410175Z"
    },
    "papermill": {
     "duration": 0.036505,
     "end_time": "2024-10-06T19:42:50.414074",
     "exception": false,
     "start_time": "2024-10-06T19:42:50.377569",
     "status": "completed"
    },
    "tags": []
   },
   "outputs": [
    {
     "data": {
      "text/html": [
       "<div>\n",
       "<style scoped>\n",
       "    .dataframe tbody tr th:only-of-type {\n",
       "        vertical-align: middle;\n",
       "    }\n",
       "\n",
       "    .dataframe tbody tr th {\n",
       "        vertical-align: top;\n",
       "    }\n",
       "\n",
       "    .dataframe thead th {\n",
       "        text-align: right;\n",
       "    }\n",
       "</style>\n",
       "<table border=\"1\" class=\"dataframe\">\n",
       "  <thead>\n",
       "    <tr style=\"text-align: right;\">\n",
       "      <th></th>\n",
       "      <th>pr(False)</th>\n",
       "      <th>pr(True)</th>\n",
       "      <th>prediction</th>\n",
       "      <th>actual</th>\n",
       "    </tr>\n",
       "  </thead>\n",
       "  <tbody>\n",
       "    <tr>\n",
       "      <th>0</th>\n",
       "      <td>0.370054</td>\n",
       "      <td>0.629946</td>\n",
       "      <td>True</td>\n",
       "      <td>False</td>\n",
       "    </tr>\n",
       "    <tr>\n",
       "      <th>1</th>\n",
       "      <td>0.023078</td>\n",
       "      <td>0.976922</td>\n",
       "      <td>True</td>\n",
       "      <td>False</td>\n",
       "    </tr>\n",
       "    <tr>\n",
       "      <th>2</th>\n",
       "      <td>0.992583</td>\n",
       "      <td>0.007417</td>\n",
       "      <td>False</td>\n",
       "      <td>False</td>\n",
       "    </tr>\n",
       "    <tr>\n",
       "      <th>3</th>\n",
       "      <td>0.893072</td>\n",
       "      <td>0.106928</td>\n",
       "      <td>False</td>\n",
       "      <td>True</td>\n",
       "    </tr>\n",
       "    <tr>\n",
       "      <th>4</th>\n",
       "      <td>0.033502</td>\n",
       "      <td>0.966498</td>\n",
       "      <td>True</td>\n",
       "      <td>True</td>\n",
       "    </tr>\n",
       "  </tbody>\n",
       "</table>\n",
       "</div>"
      ],
      "text/plain": [
       "   pr(False)  pr(True)  prediction  actual\n",
       "0   0.370054  0.629946        True   False\n",
       "1   0.023078  0.976922        True   False\n",
       "2   0.992583  0.007417       False   False\n",
       "3   0.893072  0.106928       False    True\n",
       "4   0.033502  0.966498        True    True"
      ]
     },
     "execution_count": 8,
     "metadata": {},
     "output_type": "execute_result"
    }
   ],
   "source": [
    "probability_df = pd.DataFrame(data=logreg.predict_proba(X=X_test), columns=['pr(False)', 'pr(True)'])\n",
    "probability_df['prediction'] = logreg.predict(X=X_test)\n",
    "probability_df['actual'] = y_test\n",
    "probability_df['actual'] = probability_df['actual'] == True\n",
    "probability_df.head()"
   ]
  },
  {
   "cell_type": "markdown",
   "id": "7d5d1902",
   "metadata": {
    "papermill": {
     "duration": 0.007998,
     "end_time": "2024-10-06T19:42:50.430430",
     "exception": false,
     "start_time": "2024-10-06T19:42:50.422432",
     "status": "completed"
    },
    "tags": []
   },
   "source": [
    "Obviously pr(False) + pr(True) = 1, so we expect our data to fall on a line."
   ]
  },
  {
   "cell_type": "code",
   "execution_count": 9,
   "id": "31305f59",
   "metadata": {
    "execution": {
     "iopub.execute_input": "2024-10-06T19:42:50.450317Z",
     "iopub.status.busy": "2024-10-06T19:42:50.449057Z",
     "iopub.status.idle": "2024-10-06T19:42:50.538123Z",
     "shell.execute_reply": "2024-10-06T19:42:50.536423Z"
    },
    "papermill": {
     "duration": 0.102902,
     "end_time": "2024-10-06T19:42:50.541701",
     "exception": false,
     "start_time": "2024-10-06T19:42:50.438799",
     "status": "completed"
    },
    "tags": []
   },
   "outputs": [
    {
     "data": {
      "text/html": [
       "<div>                            <div id=\"56540b4d-e734-4bf7-b63b-afb6cd9e0519\" class=\"plotly-graph-div\" style=\"height:525px; width:100%;\"></div>            <script type=\"text/javascript\">                require([\"plotly\"], function(Plotly) {                    window.PLOTLYENV=window.PLOTLYENV || {};                                    if (document.getElementById(\"56540b4d-e734-4bf7-b63b-afb6cd9e0519\")) {                    Plotly.newPlot(                        \"56540b4d-e734-4bf7-b63b-afb6cd9e0519\",                        [{\"hovertemplate\":\"prediction=True\\u003cbr\\u003epr(False)=%{x}\\u003cbr\\u003epr(True)=%{y}\\u003cextra\\u003e\\u003c\\u002fextra\\u003e\",\"legendgroup\":\"True\",\"marker\":{\"color\":\"#636efa\",\"symbol\":\"circle\"},\"mode\":\"markers\",\"name\":\"True\",\"orientation\":\"v\",\"showlegend\":true,\"x\":[0.3700542556549222,0.023078283657059107,0.03350199456068881,0.2622483515993821,0.20059820148973972,0.14470195799656838,0.07746499659595407,0.1772421094895157,0.04244257105577254,0.012796704934057712,0.05324435553108098,0.2659680020393349,0.13449212188343485,0.09285128120730857,0.196282527432888,0.15875509955053224,0.2092631797953186,0.04038285685267329,0.21374572717927587,0.1748081592463584,0.4315939361005179,0.40230839684886044,0.21895428908365921,0.18277108525644703,0.21797421191622945,0.10970840679020466,0.29317754153649045,0.22844217245404752,0.19259850122242994,0.36782695640787966,0.03442951120712001,0.28812549240444574,0.09892442943279034,0.2193544112665361],\"xaxis\":\"x\",\"y\":[0.6299457443450778,0.9769217163429409,0.9664980054393112,0.7377516484006179,0.7994017985102603,0.8552980420034316,0.9225350034040459,0.8227578905104843,0.9575574289442275,0.9872032950659423,0.946755644468919,0.7340319979606651,0.8655078781165652,0.9071487187926914,0.803717472567112,0.8412449004494678,0.7907368202046814,0.9596171431473267,0.7862542728207241,0.8251918407536416,0.5684060638994821,0.5976916031511396,0.7810457109163408,0.817228914743553,0.7820257880837705,0.8902915932097953,0.7068224584635096,0.7715578275459525,0.8074014987775701,0.6321730435921203,0.96557048879288,0.7118745075955543,0.9010755705672097,0.7806455887334639],\"yaxis\":\"y\",\"type\":\"scatter\"},{\"hovertemplate\":\"prediction=False\\u003cbr\\u003epr(False)=%{x}\\u003cbr\\u003epr(True)=%{y}\\u003cextra\\u003e\\u003c\\u002fextra\\u003e\",\"legendgroup\":\"False\",\"marker\":{\"color\":\"#EF553B\",\"symbol\":\"circle\"},\"mode\":\"markers\",\"name\":\"False\",\"orientation\":\"v\",\"showlegend\":true,\"x\":[0.9925833636443167,0.8930722717703449,0.9837668319501556,0.9371820058699615,0.9946621406578412,0.7102831526731925,0.9973695833004438,0.8866462392548627,0.9697167420145593,0.994251820937423,0.5725518897987008,0.8693497543215563,0.8551277279028344,0.9050008193525889,0.905667360270184,0.9939870368282454,0.7925062012026773,0.6119795012853398,0.9468687714183694,0.9428222269233022,0.8694992472534055,0.9787258170130795,0.8945041757324755,0.8570491777003335,0.9686006532804586,0.9565804058807605,0.9855402355041568],\"xaxis\":\"x\",\"y\":[0.007416636355683305,0.10692772822965514,0.016233168049844447,0.0628179941300385,0.005337859342158767,0.28971684732680747,0.002630416699556197,0.11335376074513721,0.030283257985440713,0.005748179062576928,0.42744811020129925,0.13065024567844374,0.14487227209716558,0.0949991806474111,0.09433263972981598,0.006012963171754633,0.2074937987973226,0.38802049871466016,0.05313122858163052,0.05717777307669777,0.1305007527465945,0.0212741829869205,0.1054958242675245,0.14295082229966646,0.03139934671954134,0.04341959411923947,0.014459764495843163],\"yaxis\":\"y\",\"type\":\"scatter\"}],                        {\"template\":{\"data\":{\"histogram2dcontour\":[{\"type\":\"histogram2dcontour\",\"colorbar\":{\"outlinewidth\":0,\"ticks\":\"\"},\"colorscale\":[[0.0,\"#0d0887\"],[0.1111111111111111,\"#46039f\"],[0.2222222222222222,\"#7201a8\"],[0.3333333333333333,\"#9c179e\"],[0.4444444444444444,\"#bd3786\"],[0.5555555555555556,\"#d8576b\"],[0.6666666666666666,\"#ed7953\"],[0.7777777777777778,\"#fb9f3a\"],[0.8888888888888888,\"#fdca26\"],[1.0,\"#f0f921\"]]}],\"choropleth\":[{\"type\":\"choropleth\",\"colorbar\":{\"outlinewidth\":0,\"ticks\":\"\"}}],\"histogram2d\":[{\"type\":\"histogram2d\",\"colorbar\":{\"outlinewidth\":0,\"ticks\":\"\"},\"colorscale\":[[0.0,\"#0d0887\"],[0.1111111111111111,\"#46039f\"],[0.2222222222222222,\"#7201a8\"],[0.3333333333333333,\"#9c179e\"],[0.4444444444444444,\"#bd3786\"],[0.5555555555555556,\"#d8576b\"],[0.6666666666666666,\"#ed7953\"],[0.7777777777777778,\"#fb9f3a\"],[0.8888888888888888,\"#fdca26\"],[1.0,\"#f0f921\"]]}],\"heatmap\":[{\"type\":\"heatmap\",\"colorbar\":{\"outlinewidth\":0,\"ticks\":\"\"},\"colorscale\":[[0.0,\"#0d0887\"],[0.1111111111111111,\"#46039f\"],[0.2222222222222222,\"#7201a8\"],[0.3333333333333333,\"#9c179e\"],[0.4444444444444444,\"#bd3786\"],[0.5555555555555556,\"#d8576b\"],[0.6666666666666666,\"#ed7953\"],[0.7777777777777778,\"#fb9f3a\"],[0.8888888888888888,\"#fdca26\"],[1.0,\"#f0f921\"]]}],\"heatmapgl\":[{\"type\":\"heatmapgl\",\"colorbar\":{\"outlinewidth\":0,\"ticks\":\"\"},\"colorscale\":[[0.0,\"#0d0887\"],[0.1111111111111111,\"#46039f\"],[0.2222222222222222,\"#7201a8\"],[0.3333333333333333,\"#9c179e\"],[0.4444444444444444,\"#bd3786\"],[0.5555555555555556,\"#d8576b\"],[0.6666666666666666,\"#ed7953\"],[0.7777777777777778,\"#fb9f3a\"],[0.8888888888888888,\"#fdca26\"],[1.0,\"#f0f921\"]]}],\"contourcarpet\":[{\"type\":\"contourcarpet\",\"colorbar\":{\"outlinewidth\":0,\"ticks\":\"\"}}],\"contour\":[{\"type\":\"contour\",\"colorbar\":{\"outlinewidth\":0,\"ticks\":\"\"},\"colorscale\":[[0.0,\"#0d0887\"],[0.1111111111111111,\"#46039f\"],[0.2222222222222222,\"#7201a8\"],[0.3333333333333333,\"#9c179e\"],[0.4444444444444444,\"#bd3786\"],[0.5555555555555556,\"#d8576b\"],[0.6666666666666666,\"#ed7953\"],[0.7777777777777778,\"#fb9f3a\"],[0.8888888888888888,\"#fdca26\"],[1.0,\"#f0f921\"]]}],\"surface\":[{\"type\":\"surface\",\"colorbar\":{\"outlinewidth\":0,\"ticks\":\"\"},\"colorscale\":[[0.0,\"#0d0887\"],[0.1111111111111111,\"#46039f\"],[0.2222222222222222,\"#7201a8\"],[0.3333333333333333,\"#9c179e\"],[0.4444444444444444,\"#bd3786\"],[0.5555555555555556,\"#d8576b\"],[0.6666666666666666,\"#ed7953\"],[0.7777777777777778,\"#fb9f3a\"],[0.8888888888888888,\"#fdca26\"],[1.0,\"#f0f921\"]]}],\"mesh3d\":[{\"type\":\"mesh3d\",\"colorbar\":{\"outlinewidth\":0,\"ticks\":\"\"}}],\"scatter\":[{\"fillpattern\":{\"fillmode\":\"overlay\",\"size\":10,\"solidity\":0.2},\"type\":\"scatter\"}],\"parcoords\":[{\"type\":\"parcoords\",\"line\":{\"colorbar\":{\"outlinewidth\":0,\"ticks\":\"\"}}}],\"scatterpolargl\":[{\"type\":\"scatterpolargl\",\"marker\":{\"colorbar\":{\"outlinewidth\":0,\"ticks\":\"\"}}}],\"bar\":[{\"error_x\":{\"color\":\"#2a3f5f\"},\"error_y\":{\"color\":\"#2a3f5f\"},\"marker\":{\"line\":{\"color\":\"#E5ECF6\",\"width\":0.5},\"pattern\":{\"fillmode\":\"overlay\",\"size\":10,\"solidity\":0.2}},\"type\":\"bar\"}],\"scattergeo\":[{\"type\":\"scattergeo\",\"marker\":{\"colorbar\":{\"outlinewidth\":0,\"ticks\":\"\"}}}],\"scatterpolar\":[{\"type\":\"scatterpolar\",\"marker\":{\"colorbar\":{\"outlinewidth\":0,\"ticks\":\"\"}}}],\"histogram\":[{\"marker\":{\"pattern\":{\"fillmode\":\"overlay\",\"size\":10,\"solidity\":0.2}},\"type\":\"histogram\"}],\"scattergl\":[{\"type\":\"scattergl\",\"marker\":{\"colorbar\":{\"outlinewidth\":0,\"ticks\":\"\"}}}],\"scatter3d\":[{\"type\":\"scatter3d\",\"line\":{\"colorbar\":{\"outlinewidth\":0,\"ticks\":\"\"}},\"marker\":{\"colorbar\":{\"outlinewidth\":0,\"ticks\":\"\"}}}],\"scattermapbox\":[{\"type\":\"scattermapbox\",\"marker\":{\"colorbar\":{\"outlinewidth\":0,\"ticks\":\"\"}}}],\"scatterternary\":[{\"type\":\"scatterternary\",\"marker\":{\"colorbar\":{\"outlinewidth\":0,\"ticks\":\"\"}}}],\"scattercarpet\":[{\"type\":\"scattercarpet\",\"marker\":{\"colorbar\":{\"outlinewidth\":0,\"ticks\":\"\"}}}],\"carpet\":[{\"aaxis\":{\"endlinecolor\":\"#2a3f5f\",\"gridcolor\":\"white\",\"linecolor\":\"white\",\"minorgridcolor\":\"white\",\"startlinecolor\":\"#2a3f5f\"},\"baxis\":{\"endlinecolor\":\"#2a3f5f\",\"gridcolor\":\"white\",\"linecolor\":\"white\",\"minorgridcolor\":\"white\",\"startlinecolor\":\"#2a3f5f\"},\"type\":\"carpet\"}],\"table\":[{\"cells\":{\"fill\":{\"color\":\"#EBF0F8\"},\"line\":{\"color\":\"white\"}},\"header\":{\"fill\":{\"color\":\"#C8D4E3\"},\"line\":{\"color\":\"white\"}},\"type\":\"table\"}],\"barpolar\":[{\"marker\":{\"line\":{\"color\":\"#E5ECF6\",\"width\":0.5},\"pattern\":{\"fillmode\":\"overlay\",\"size\":10,\"solidity\":0.2}},\"type\":\"barpolar\"}],\"pie\":[{\"automargin\":true,\"type\":\"pie\"}]},\"layout\":{\"autotypenumbers\":\"strict\",\"colorway\":[\"#636efa\",\"#EF553B\",\"#00cc96\",\"#ab63fa\",\"#FFA15A\",\"#19d3f3\",\"#FF6692\",\"#B6E880\",\"#FF97FF\",\"#FECB52\"],\"font\":{\"color\":\"#2a3f5f\"},\"hovermode\":\"closest\",\"hoverlabel\":{\"align\":\"left\"},\"paper_bgcolor\":\"white\",\"plot_bgcolor\":\"#E5ECF6\",\"polar\":{\"bgcolor\":\"#E5ECF6\",\"angularaxis\":{\"gridcolor\":\"white\",\"linecolor\":\"white\",\"ticks\":\"\"},\"radialaxis\":{\"gridcolor\":\"white\",\"linecolor\":\"white\",\"ticks\":\"\"}},\"ternary\":{\"bgcolor\":\"#E5ECF6\",\"aaxis\":{\"gridcolor\":\"white\",\"linecolor\":\"white\",\"ticks\":\"\"},\"baxis\":{\"gridcolor\":\"white\",\"linecolor\":\"white\",\"ticks\":\"\"},\"caxis\":{\"gridcolor\":\"white\",\"linecolor\":\"white\",\"ticks\":\"\"}},\"coloraxis\":{\"colorbar\":{\"outlinewidth\":0,\"ticks\":\"\"}},\"colorscale\":{\"sequential\":[[0.0,\"#0d0887\"],[0.1111111111111111,\"#46039f\"],[0.2222222222222222,\"#7201a8\"],[0.3333333333333333,\"#9c179e\"],[0.4444444444444444,\"#bd3786\"],[0.5555555555555556,\"#d8576b\"],[0.6666666666666666,\"#ed7953\"],[0.7777777777777778,\"#fb9f3a\"],[0.8888888888888888,\"#fdca26\"],[1.0,\"#f0f921\"]],\"sequentialminus\":[[0.0,\"#0d0887\"],[0.1111111111111111,\"#46039f\"],[0.2222222222222222,\"#7201a8\"],[0.3333333333333333,\"#9c179e\"],[0.4444444444444444,\"#bd3786\"],[0.5555555555555556,\"#d8576b\"],[0.6666666666666666,\"#ed7953\"],[0.7777777777777778,\"#fb9f3a\"],[0.8888888888888888,\"#fdca26\"],[1.0,\"#f0f921\"]],\"diverging\":[[0,\"#8e0152\"],[0.1,\"#c51b7d\"],[0.2,\"#de77ae\"],[0.3,\"#f1b6da\"],[0.4,\"#fde0ef\"],[0.5,\"#f7f7f7\"],[0.6,\"#e6f5d0\"],[0.7,\"#b8e186\"],[0.8,\"#7fbc41\"],[0.9,\"#4d9221\"],[1,\"#276419\"]]},\"xaxis\":{\"gridcolor\":\"white\",\"linecolor\":\"white\",\"ticks\":\"\",\"title\":{\"standoff\":15},\"zerolinecolor\":\"white\",\"automargin\":true,\"zerolinewidth\":2},\"yaxis\":{\"gridcolor\":\"white\",\"linecolor\":\"white\",\"ticks\":\"\",\"title\":{\"standoff\":15},\"zerolinecolor\":\"white\",\"automargin\":true,\"zerolinewidth\":2},\"scene\":{\"xaxis\":{\"backgroundcolor\":\"#E5ECF6\",\"gridcolor\":\"white\",\"linecolor\":\"white\",\"showbackground\":true,\"ticks\":\"\",\"zerolinecolor\":\"white\",\"gridwidth\":2},\"yaxis\":{\"backgroundcolor\":\"#E5ECF6\",\"gridcolor\":\"white\",\"linecolor\":\"white\",\"showbackground\":true,\"ticks\":\"\",\"zerolinecolor\":\"white\",\"gridwidth\":2},\"zaxis\":{\"backgroundcolor\":\"#E5ECF6\",\"gridcolor\":\"white\",\"linecolor\":\"white\",\"showbackground\":true,\"ticks\":\"\",\"zerolinecolor\":\"white\",\"gridwidth\":2}},\"shapedefaults\":{\"line\":{\"color\":\"#2a3f5f\"}},\"annotationdefaults\":{\"arrowcolor\":\"#2a3f5f\",\"arrowhead\":0,\"arrowwidth\":1},\"geo\":{\"bgcolor\":\"white\",\"landcolor\":\"#E5ECF6\",\"subunitcolor\":\"white\",\"showland\":true,\"showlakes\":true,\"lakecolor\":\"white\"},\"title\":{\"x\":0.05},\"mapbox\":{\"style\":\"light\"}}},\"xaxis\":{\"anchor\":\"y\",\"domain\":[0.0,1.0],\"title\":{\"text\":\"pr(False)\"}},\"yaxis\":{\"anchor\":\"x\",\"domain\":[0.0,1.0],\"title\":{\"text\":\"pr(True)\"}},\"legend\":{\"title\":{\"text\":\"prediction\"},\"tracegroupgap\":0},\"margin\":{\"t\":60}},                        {\"responsive\": true}                    ).then(function(){\n",
       "                            \n",
       "var gd = document.getElementById('56540b4d-e734-4bf7-b63b-afb6cd9e0519');\n",
       "var x = new MutationObserver(function (mutations, observer) {{\n",
       "        var display = window.getComputedStyle(gd).display;\n",
       "        if (!display || display === 'none') {{\n",
       "            console.log([gd, 'removed!']);\n",
       "            Plotly.purge(gd);\n",
       "            observer.disconnect();\n",
       "        }}\n",
       "}});\n",
       "\n",
       "// Listen for the removal of the full notebook cells\n",
       "var notebookContainer = gd.closest('#notebook-container');\n",
       "if (notebookContainer) {{\n",
       "    x.observe(notebookContainer, {childList: true});\n",
       "}}\n",
       "\n",
       "// Listen for the clearing of the current output cell\n",
       "var outputEl = gd.closest('.output');\n",
       "if (outputEl) {{\n",
       "    x.observe(outputEl, {childList: true});\n",
       "}}\n",
       "\n",
       "                        })                };                });            </script>        </div>"
      ]
     },
     "metadata": {},
     "output_type": "display_data"
    }
   ],
   "source": [
    "express.scatter(data_frame=probability_df, x='pr(False)', y='pr(True)', color='prediction')"
   ]
  },
  {
   "cell_type": "markdown",
   "id": "3f1143c9",
   "metadata": {
    "papermill": {
     "duration": 0.009361,
     "end_time": "2024-10-06T19:42:50.560571",
     "exception": false,
     "start_time": "2024-10-06T19:42:50.551210",
     "status": "completed"
    },
    "tags": []
   },
   "source": [
    "Of course our model probabilities are nicely separated. How do they look if we color them according to the actual values?"
   ]
  },
  {
   "cell_type": "code",
   "execution_count": 10,
   "id": "0e93294e",
   "metadata": {
    "execution": {
     "iopub.execute_input": "2024-10-06T19:42:50.583158Z",
     "iopub.status.busy": "2024-10-06T19:42:50.581315Z",
     "iopub.status.idle": "2024-10-06T19:42:50.664850Z",
     "shell.execute_reply": "2024-10-06T19:42:50.663286Z"
    },
    "papermill": {
     "duration": 0.098115,
     "end_time": "2024-10-06T19:42:50.668145",
     "exception": false,
     "start_time": "2024-10-06T19:42:50.570030",
     "status": "completed"
    },
    "tags": []
   },
   "outputs": [
    {
     "data": {
      "text/html": [
       "<div>                            <div id=\"39d6c3c0-f65a-4446-8c85-505e635d45af\" class=\"plotly-graph-div\" style=\"height:525px; width:100%;\"></div>            <script type=\"text/javascript\">                require([\"plotly\"], function(Plotly) {                    window.PLOTLYENV=window.PLOTLYENV || {};                                    if (document.getElementById(\"39d6c3c0-f65a-4446-8c85-505e635d45af\")) {                    Plotly.newPlot(                        \"39d6c3c0-f65a-4446-8c85-505e635d45af\",                        [{\"hovertemplate\":\"actual=False\\u003cbr\\u003epr(False)=%{x}\\u003cbr\\u003epr(True)=%{y}\\u003cextra\\u003e\\u003c\\u002fextra\\u003e\",\"legendgroup\":\"False\",\"marker\":{\"color\":\"#636efa\",\"symbol\":\"circle\"},\"mode\":\"markers\",\"name\":\"False\",\"orientation\":\"v\",\"showlegend\":true,\"x\":[0.3700542556549222,0.023078283657059107,0.9925833636443167,0.2622483515993821,0.07746499659595407,0.1772421094895157,0.9837668319501556,0.012796704934057712,0.9371820058699615,0.2659680020393349,0.13449212188343485,0.9946621406578412,0.09285128120730857,0.7102831526731925,0.9973695833004438,0.196282527432888,0.8866462392548627,0.04038285685267329,0.5725518897987008,0.8693497543215563,0.8551277279028344,0.1748081592463584,0.4315939361005179,0.9050008193525889,0.905667360270184,0.9939870368282454,0.40230839684886044,0.7925062012026773,0.21895428908365921,0.6119795012853398,0.9468687714183694,0.9428222269233022,0.8694992472534055,0.9787258170130795,0.10970840679020466,0.8945041757324755,0.8570491777003335,0.9686006532804586,0.9565804058807605,0.36782695640787966,0.9855402355041568,0.03442951120712001,0.28812549240444574,0.2193544112665361],\"xaxis\":\"x\",\"y\":[0.6299457443450778,0.9769217163429409,0.007416636355683305,0.7377516484006179,0.9225350034040459,0.8227578905104843,0.016233168049844447,0.9872032950659423,0.0628179941300385,0.7340319979606651,0.8655078781165652,0.005337859342158767,0.9071487187926914,0.28971684732680747,0.002630416699556197,0.803717472567112,0.11335376074513721,0.9596171431473267,0.42744811020129925,0.13065024567844374,0.14487227209716558,0.8251918407536416,0.5684060638994821,0.0949991806474111,0.09433263972981598,0.006012963171754633,0.5976916031511396,0.2074937987973226,0.7810457109163408,0.38802049871466016,0.05313122858163052,0.05717777307669777,0.1305007527465945,0.0212741829869205,0.8902915932097953,0.1054958242675245,0.14295082229966646,0.03139934671954134,0.04341959411923947,0.6321730435921203,0.014459764495843163,0.96557048879288,0.7118745075955543,0.7806455887334639],\"yaxis\":\"y\",\"type\":\"scatter\"},{\"hovertemplate\":\"actual=True\\u003cbr\\u003epr(False)=%{x}\\u003cbr\\u003epr(True)=%{y}\\u003cextra\\u003e\\u003c\\u002fextra\\u003e\",\"legendgroup\":\"True\",\"marker\":{\"color\":\"#EF553B\",\"symbol\":\"circle\"},\"mode\":\"markers\",\"name\":\"True\",\"orientation\":\"v\",\"showlegend\":true,\"x\":[0.8930722717703449,0.03350199456068881,0.20059820148973972,0.14470195799656838,0.04244257105577254,0.05324435553108098,0.15875509955053224,0.9697167420145593,0.994251820937423,0.2092631797953186,0.21374572717927587,0.18277108525644703,0.21797421191622945,0.29317754153649045,0.22844217245404752,0.19259850122242994,0.09892442943279034],\"xaxis\":\"x\",\"y\":[0.10692772822965514,0.9664980054393112,0.7994017985102603,0.8552980420034316,0.9575574289442275,0.946755644468919,0.8412449004494678,0.030283257985440713,0.005748179062576928,0.7907368202046814,0.7862542728207241,0.817228914743553,0.7820257880837705,0.7068224584635096,0.7715578275459525,0.8074014987775701,0.9010755705672097],\"yaxis\":\"y\",\"type\":\"scatter\"}],                        {\"template\":{\"data\":{\"histogram2dcontour\":[{\"type\":\"histogram2dcontour\",\"colorbar\":{\"outlinewidth\":0,\"ticks\":\"\"},\"colorscale\":[[0.0,\"#0d0887\"],[0.1111111111111111,\"#46039f\"],[0.2222222222222222,\"#7201a8\"],[0.3333333333333333,\"#9c179e\"],[0.4444444444444444,\"#bd3786\"],[0.5555555555555556,\"#d8576b\"],[0.6666666666666666,\"#ed7953\"],[0.7777777777777778,\"#fb9f3a\"],[0.8888888888888888,\"#fdca26\"],[1.0,\"#f0f921\"]]}],\"choropleth\":[{\"type\":\"choropleth\",\"colorbar\":{\"outlinewidth\":0,\"ticks\":\"\"}}],\"histogram2d\":[{\"type\":\"histogram2d\",\"colorbar\":{\"outlinewidth\":0,\"ticks\":\"\"},\"colorscale\":[[0.0,\"#0d0887\"],[0.1111111111111111,\"#46039f\"],[0.2222222222222222,\"#7201a8\"],[0.3333333333333333,\"#9c179e\"],[0.4444444444444444,\"#bd3786\"],[0.5555555555555556,\"#d8576b\"],[0.6666666666666666,\"#ed7953\"],[0.7777777777777778,\"#fb9f3a\"],[0.8888888888888888,\"#fdca26\"],[1.0,\"#f0f921\"]]}],\"heatmap\":[{\"type\":\"heatmap\",\"colorbar\":{\"outlinewidth\":0,\"ticks\":\"\"},\"colorscale\":[[0.0,\"#0d0887\"],[0.1111111111111111,\"#46039f\"],[0.2222222222222222,\"#7201a8\"],[0.3333333333333333,\"#9c179e\"],[0.4444444444444444,\"#bd3786\"],[0.5555555555555556,\"#d8576b\"],[0.6666666666666666,\"#ed7953\"],[0.7777777777777778,\"#fb9f3a\"],[0.8888888888888888,\"#fdca26\"],[1.0,\"#f0f921\"]]}],\"heatmapgl\":[{\"type\":\"heatmapgl\",\"colorbar\":{\"outlinewidth\":0,\"ticks\":\"\"},\"colorscale\":[[0.0,\"#0d0887\"],[0.1111111111111111,\"#46039f\"],[0.2222222222222222,\"#7201a8\"],[0.3333333333333333,\"#9c179e\"],[0.4444444444444444,\"#bd3786\"],[0.5555555555555556,\"#d8576b\"],[0.6666666666666666,\"#ed7953\"],[0.7777777777777778,\"#fb9f3a\"],[0.8888888888888888,\"#fdca26\"],[1.0,\"#f0f921\"]]}],\"contourcarpet\":[{\"type\":\"contourcarpet\",\"colorbar\":{\"outlinewidth\":0,\"ticks\":\"\"}}],\"contour\":[{\"type\":\"contour\",\"colorbar\":{\"outlinewidth\":0,\"ticks\":\"\"},\"colorscale\":[[0.0,\"#0d0887\"],[0.1111111111111111,\"#46039f\"],[0.2222222222222222,\"#7201a8\"],[0.3333333333333333,\"#9c179e\"],[0.4444444444444444,\"#bd3786\"],[0.5555555555555556,\"#d8576b\"],[0.6666666666666666,\"#ed7953\"],[0.7777777777777778,\"#fb9f3a\"],[0.8888888888888888,\"#fdca26\"],[1.0,\"#f0f921\"]]}],\"surface\":[{\"type\":\"surface\",\"colorbar\":{\"outlinewidth\":0,\"ticks\":\"\"},\"colorscale\":[[0.0,\"#0d0887\"],[0.1111111111111111,\"#46039f\"],[0.2222222222222222,\"#7201a8\"],[0.3333333333333333,\"#9c179e\"],[0.4444444444444444,\"#bd3786\"],[0.5555555555555556,\"#d8576b\"],[0.6666666666666666,\"#ed7953\"],[0.7777777777777778,\"#fb9f3a\"],[0.8888888888888888,\"#fdca26\"],[1.0,\"#f0f921\"]]}],\"mesh3d\":[{\"type\":\"mesh3d\",\"colorbar\":{\"outlinewidth\":0,\"ticks\":\"\"}}],\"scatter\":[{\"fillpattern\":{\"fillmode\":\"overlay\",\"size\":10,\"solidity\":0.2},\"type\":\"scatter\"}],\"parcoords\":[{\"type\":\"parcoords\",\"line\":{\"colorbar\":{\"outlinewidth\":0,\"ticks\":\"\"}}}],\"scatterpolargl\":[{\"type\":\"scatterpolargl\",\"marker\":{\"colorbar\":{\"outlinewidth\":0,\"ticks\":\"\"}}}],\"bar\":[{\"error_x\":{\"color\":\"#2a3f5f\"},\"error_y\":{\"color\":\"#2a3f5f\"},\"marker\":{\"line\":{\"color\":\"#E5ECF6\",\"width\":0.5},\"pattern\":{\"fillmode\":\"overlay\",\"size\":10,\"solidity\":0.2}},\"type\":\"bar\"}],\"scattergeo\":[{\"type\":\"scattergeo\",\"marker\":{\"colorbar\":{\"outlinewidth\":0,\"ticks\":\"\"}}}],\"scatterpolar\":[{\"type\":\"scatterpolar\",\"marker\":{\"colorbar\":{\"outlinewidth\":0,\"ticks\":\"\"}}}],\"histogram\":[{\"marker\":{\"pattern\":{\"fillmode\":\"overlay\",\"size\":10,\"solidity\":0.2}},\"type\":\"histogram\"}],\"scattergl\":[{\"type\":\"scattergl\",\"marker\":{\"colorbar\":{\"outlinewidth\":0,\"ticks\":\"\"}}}],\"scatter3d\":[{\"type\":\"scatter3d\",\"line\":{\"colorbar\":{\"outlinewidth\":0,\"ticks\":\"\"}},\"marker\":{\"colorbar\":{\"outlinewidth\":0,\"ticks\":\"\"}}}],\"scattermapbox\":[{\"type\":\"scattermapbox\",\"marker\":{\"colorbar\":{\"outlinewidth\":0,\"ticks\":\"\"}}}],\"scatterternary\":[{\"type\":\"scatterternary\",\"marker\":{\"colorbar\":{\"outlinewidth\":0,\"ticks\":\"\"}}}],\"scattercarpet\":[{\"type\":\"scattercarpet\",\"marker\":{\"colorbar\":{\"outlinewidth\":0,\"ticks\":\"\"}}}],\"carpet\":[{\"aaxis\":{\"endlinecolor\":\"#2a3f5f\",\"gridcolor\":\"white\",\"linecolor\":\"white\",\"minorgridcolor\":\"white\",\"startlinecolor\":\"#2a3f5f\"},\"baxis\":{\"endlinecolor\":\"#2a3f5f\",\"gridcolor\":\"white\",\"linecolor\":\"white\",\"minorgridcolor\":\"white\",\"startlinecolor\":\"#2a3f5f\"},\"type\":\"carpet\"}],\"table\":[{\"cells\":{\"fill\":{\"color\":\"#EBF0F8\"},\"line\":{\"color\":\"white\"}},\"header\":{\"fill\":{\"color\":\"#C8D4E3\"},\"line\":{\"color\":\"white\"}},\"type\":\"table\"}],\"barpolar\":[{\"marker\":{\"line\":{\"color\":\"#E5ECF6\",\"width\":0.5},\"pattern\":{\"fillmode\":\"overlay\",\"size\":10,\"solidity\":0.2}},\"type\":\"barpolar\"}],\"pie\":[{\"automargin\":true,\"type\":\"pie\"}]},\"layout\":{\"autotypenumbers\":\"strict\",\"colorway\":[\"#636efa\",\"#EF553B\",\"#00cc96\",\"#ab63fa\",\"#FFA15A\",\"#19d3f3\",\"#FF6692\",\"#B6E880\",\"#FF97FF\",\"#FECB52\"],\"font\":{\"color\":\"#2a3f5f\"},\"hovermode\":\"closest\",\"hoverlabel\":{\"align\":\"left\"},\"paper_bgcolor\":\"white\",\"plot_bgcolor\":\"#E5ECF6\",\"polar\":{\"bgcolor\":\"#E5ECF6\",\"angularaxis\":{\"gridcolor\":\"white\",\"linecolor\":\"white\",\"ticks\":\"\"},\"radialaxis\":{\"gridcolor\":\"white\",\"linecolor\":\"white\",\"ticks\":\"\"}},\"ternary\":{\"bgcolor\":\"#E5ECF6\",\"aaxis\":{\"gridcolor\":\"white\",\"linecolor\":\"white\",\"ticks\":\"\"},\"baxis\":{\"gridcolor\":\"white\",\"linecolor\":\"white\",\"ticks\":\"\"},\"caxis\":{\"gridcolor\":\"white\",\"linecolor\":\"white\",\"ticks\":\"\"}},\"coloraxis\":{\"colorbar\":{\"outlinewidth\":0,\"ticks\":\"\"}},\"colorscale\":{\"sequential\":[[0.0,\"#0d0887\"],[0.1111111111111111,\"#46039f\"],[0.2222222222222222,\"#7201a8\"],[0.3333333333333333,\"#9c179e\"],[0.4444444444444444,\"#bd3786\"],[0.5555555555555556,\"#d8576b\"],[0.6666666666666666,\"#ed7953\"],[0.7777777777777778,\"#fb9f3a\"],[0.8888888888888888,\"#fdca26\"],[1.0,\"#f0f921\"]],\"sequentialminus\":[[0.0,\"#0d0887\"],[0.1111111111111111,\"#46039f\"],[0.2222222222222222,\"#7201a8\"],[0.3333333333333333,\"#9c179e\"],[0.4444444444444444,\"#bd3786\"],[0.5555555555555556,\"#d8576b\"],[0.6666666666666666,\"#ed7953\"],[0.7777777777777778,\"#fb9f3a\"],[0.8888888888888888,\"#fdca26\"],[1.0,\"#f0f921\"]],\"diverging\":[[0,\"#8e0152\"],[0.1,\"#c51b7d\"],[0.2,\"#de77ae\"],[0.3,\"#f1b6da\"],[0.4,\"#fde0ef\"],[0.5,\"#f7f7f7\"],[0.6,\"#e6f5d0\"],[0.7,\"#b8e186\"],[0.8,\"#7fbc41\"],[0.9,\"#4d9221\"],[1,\"#276419\"]]},\"xaxis\":{\"gridcolor\":\"white\",\"linecolor\":\"white\",\"ticks\":\"\",\"title\":{\"standoff\":15},\"zerolinecolor\":\"white\",\"automargin\":true,\"zerolinewidth\":2},\"yaxis\":{\"gridcolor\":\"white\",\"linecolor\":\"white\",\"ticks\":\"\",\"title\":{\"standoff\":15},\"zerolinecolor\":\"white\",\"automargin\":true,\"zerolinewidth\":2},\"scene\":{\"xaxis\":{\"backgroundcolor\":\"#E5ECF6\",\"gridcolor\":\"white\",\"linecolor\":\"white\",\"showbackground\":true,\"ticks\":\"\",\"zerolinecolor\":\"white\",\"gridwidth\":2},\"yaxis\":{\"backgroundcolor\":\"#E5ECF6\",\"gridcolor\":\"white\",\"linecolor\":\"white\",\"showbackground\":true,\"ticks\":\"\",\"zerolinecolor\":\"white\",\"gridwidth\":2},\"zaxis\":{\"backgroundcolor\":\"#E5ECF6\",\"gridcolor\":\"white\",\"linecolor\":\"white\",\"showbackground\":true,\"ticks\":\"\",\"zerolinecolor\":\"white\",\"gridwidth\":2}},\"shapedefaults\":{\"line\":{\"color\":\"#2a3f5f\"}},\"annotationdefaults\":{\"arrowcolor\":\"#2a3f5f\",\"arrowhead\":0,\"arrowwidth\":1},\"geo\":{\"bgcolor\":\"white\",\"landcolor\":\"#E5ECF6\",\"subunitcolor\":\"white\",\"showland\":true,\"showlakes\":true,\"lakecolor\":\"white\"},\"title\":{\"x\":0.05},\"mapbox\":{\"style\":\"light\"}}},\"xaxis\":{\"anchor\":\"y\",\"domain\":[0.0,1.0],\"title\":{\"text\":\"pr(False)\"}},\"yaxis\":{\"anchor\":\"x\",\"domain\":[0.0,1.0],\"title\":{\"text\":\"pr(True)\"}},\"legend\":{\"title\":{\"text\":\"actual\"},\"tracegroupgap\":0},\"margin\":{\"t\":60}},                        {\"responsive\": true}                    ).then(function(){\n",
       "                            \n",
       "var gd = document.getElementById('39d6c3c0-f65a-4446-8c85-505e635d45af');\n",
       "var x = new MutationObserver(function (mutations, observer) {{\n",
       "        var display = window.getComputedStyle(gd).display;\n",
       "        if (!display || display === 'none') {{\n",
       "            console.log([gd, 'removed!']);\n",
       "            Plotly.purge(gd);\n",
       "            observer.disconnect();\n",
       "        }}\n",
       "}});\n",
       "\n",
       "// Listen for the removal of the full notebook cells\n",
       "var notebookContainer = gd.closest('#notebook-container');\n",
       "if (notebookContainer) {{\n",
       "    x.observe(notebookContainer, {childList: true});\n",
       "}}\n",
       "\n",
       "// Listen for the clearing of the current output cell\n",
       "var outputEl = gd.closest('.output');\n",
       "if (outputEl) {{\n",
       "    x.observe(outputEl, {childList: true});\n",
       "}}\n",
       "\n",
       "                        })                };                });            </script>        </div>"
      ]
     },
     "metadata": {},
     "output_type": "display_data"
    }
   ],
   "source": [
    "express.scatter(data_frame=probability_df, x='pr(False)', y='pr(True)', color='actual')"
   ]
  }
 ],
 "metadata": {
  "kaggle": {
   "accelerator": "none",
   "dataSources": [
    {
     "datasetId": 1226038,
     "sourceId": 2047221,
     "sourceType": "datasetVersion"
    }
   ],
   "dockerImageVersionId": 30775,
   "isGpuEnabled": false,
   "isInternetEnabled": true,
   "language": "python",
   "sourceType": "notebook"
  },
  "kernelspec": {
   "display_name": "Python 3",
   "language": "python",
   "name": "python3"
  },
  "language_info": {
   "codemirror_mode": {
    "name": "ipython",
    "version": 3
   },
   "file_extension": ".py",
   "mimetype": "text/x-python",
   "name": "python",
   "nbconvert_exporter": "python",
   "pygments_lexer": "ipython3",
   "version": "3.10.14"
  },
  "papermill": {
   "default_parameters": {},
   "duration": 83.099855,
   "end_time": "2024-10-06T19:42:53.878723",
   "environment_variables": {},
   "exception": null,
   "input_path": "__notebook__.ipynb",
   "output_path": "__notebook__.ipynb",
   "parameters": {},
   "start_time": "2024-10-06T19:41:30.778868",
   "version": "2.6.0"
  }
 },
 "nbformat": 4,
 "nbformat_minor": 5
}
