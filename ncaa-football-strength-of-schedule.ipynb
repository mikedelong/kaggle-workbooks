{
 "cells": [
  {
   "cell_type": "markdown",
   "id": "fe86ba6c",
   "metadata": {
    "papermill": {
     "duration": 0.005699,
     "end_time": "2025-01-05T00:58:26.723313",
     "exception": false,
     "start_time": "2025-01-05T00:58:26.717614",
     "status": "completed"
    },
    "tags": []
   },
   "source": [
    "We're going to try to build the strength of schedule metric for NCAA football and use it to estimate which team is \"objectively the best\" for a given year."
   ]
  },
  {
   "cell_type": "code",
   "execution_count": 1,
   "id": "37308a8f",
   "metadata": {
    "_cell_guid": "b1076dfc-b9ad-4769-8c92-a6c4dae69d19",
    "_uuid": "8f2839f25d086af736a60e9eeb907d3b93b6e0e5",
    "execution": {
     "iopub.execute_input": "2025-01-05T00:58:26.735972Z",
     "iopub.status.busy": "2025-01-05T00:58:26.735502Z",
     "iopub.status.idle": "2025-01-05T00:58:28.043715Z",
     "shell.execute_reply": "2025-01-05T00:58:28.042066Z"
    },
    "papermill": {
     "duration": 1.317473,
     "end_time": "2025-01-05T00:58:28.046439",
     "exception": false,
     "start_time": "2025-01-05T00:58:26.728966",
     "status": "completed"
    },
    "tags": []
   },
   "outputs": [
    {
     "data": {
      "text/html": [
       "<div>\n",
       "<style scoped>\n",
       "    .dataframe tbody tr th:only-of-type {\n",
       "        vertical-align: middle;\n",
       "    }\n",
       "\n",
       "    .dataframe tbody tr th {\n",
       "        vertical-align: top;\n",
       "    }\n",
       "\n",
       "    .dataframe thead th {\n",
       "        text-align: right;\n",
       "    }\n",
       "</style>\n",
       "<table border=\"1\" class=\"dataframe\">\n",
       "  <thead>\n",
       "    <tr style=\"text-align: right;\">\n",
       "      <th></th>\n",
       "      <th>season</th>\n",
       "      <th>week</th>\n",
       "      <th>date</th>\n",
       "      <th>time_et</th>\n",
       "      <th>game_type</th>\n",
       "      <th>away</th>\n",
       "      <th>home</th>\n",
       "      <th>rank_away</th>\n",
       "      <th>rank_home</th>\n",
       "      <th>conf_away</th>\n",
       "      <th>...</th>\n",
       "      <th>int_away</th>\n",
       "      <th>int_home</th>\n",
       "      <th>pen_num_away</th>\n",
       "      <th>pen_yards_away</th>\n",
       "      <th>pen_num_home</th>\n",
       "      <th>pen_yards_home</th>\n",
       "      <th>possession_away</th>\n",
       "      <th>possession_home</th>\n",
       "      <th>attendance</th>\n",
       "      <th>tv</th>\n",
       "    </tr>\n",
       "  </thead>\n",
       "  <tbody>\n",
       "    <tr>\n",
       "      <th>0</th>\n",
       "      <td>2002</td>\n",
       "      <td>1.0</td>\n",
       "      <td>2002-08-22</td>\n",
       "      <td>7:30 PM</td>\n",
       "      <td>regular</td>\n",
       "      <td>Colorado State</td>\n",
       "      <td>Virginia</td>\n",
       "      <td>NaN</td>\n",
       "      <td>NaN</td>\n",
       "      <td>mwc</td>\n",
       "      <td>...</td>\n",
       "      <td>NaN</td>\n",
       "      <td>NaN</td>\n",
       "      <td>NaN</td>\n",
       "      <td>NaN</td>\n",
       "      <td>NaN</td>\n",
       "      <td>NaN</td>\n",
       "      <td>NaN</td>\n",
       "      <td>NaN</td>\n",
       "      <td>57120.0</td>\n",
       "      <td>NaN</td>\n",
       "    </tr>\n",
       "    <tr>\n",
       "      <th>1</th>\n",
       "      <td>2002</td>\n",
       "      <td>1.0</td>\n",
       "      <td>2002-08-23</td>\n",
       "      <td>8:00 PM</td>\n",
       "      <td>regular</td>\n",
       "      <td>Fresno State</td>\n",
       "      <td>Wisconsin</td>\n",
       "      <td>NaN</td>\n",
       "      <td>25.0</td>\n",
       "      <td>wac</td>\n",
       "      <td>...</td>\n",
       "      <td>NaN</td>\n",
       "      <td>NaN</td>\n",
       "      <td>NaN</td>\n",
       "      <td>NaN</td>\n",
       "      <td>NaN</td>\n",
       "      <td>NaN</td>\n",
       "      <td>NaN</td>\n",
       "      <td>NaN</td>\n",
       "      <td>75136.0</td>\n",
       "      <td>NaN</td>\n",
       "    </tr>\n",
       "    <tr>\n",
       "      <th>2</th>\n",
       "      <td>2002</td>\n",
       "      <td>1.0</td>\n",
       "      <td>2002-08-24</td>\n",
       "      <td>2:30 PM</td>\n",
       "      <td>regular</td>\n",
       "      <td>Texas Tech</td>\n",
       "      <td>Ohio State</td>\n",
       "      <td>NaN</td>\n",
       "      <td>13.0</td>\n",
       "      <td>big12</td>\n",
       "      <td>...</td>\n",
       "      <td>NaN</td>\n",
       "      <td>NaN</td>\n",
       "      <td>NaN</td>\n",
       "      <td>NaN</td>\n",
       "      <td>NaN</td>\n",
       "      <td>NaN</td>\n",
       "      <td>NaN</td>\n",
       "      <td>NaN</td>\n",
       "      <td>100037.0</td>\n",
       "      <td>NaN</td>\n",
       "    </tr>\n",
       "    <tr>\n",
       "      <th>3</th>\n",
       "      <td>2002</td>\n",
       "      <td>1.0</td>\n",
       "      <td>2002-08-24</td>\n",
       "      <td>4:30 PM</td>\n",
       "      <td>regular</td>\n",
       "      <td>New Mexico</td>\n",
       "      <td>NC State</td>\n",
       "      <td>NaN</td>\n",
       "      <td>NaN</td>\n",
       "      <td>mwc</td>\n",
       "      <td>...</td>\n",
       "      <td>NaN</td>\n",
       "      <td>NaN</td>\n",
       "      <td>NaN</td>\n",
       "      <td>NaN</td>\n",
       "      <td>NaN</td>\n",
       "      <td>NaN</td>\n",
       "      <td>NaN</td>\n",
       "      <td>NaN</td>\n",
       "      <td>47018.0</td>\n",
       "      <td>NaN</td>\n",
       "    </tr>\n",
       "    <tr>\n",
       "      <th>4</th>\n",
       "      <td>2002</td>\n",
       "      <td>1.0</td>\n",
       "      <td>2002-08-24</td>\n",
       "      <td>7:45 PM</td>\n",
       "      <td>regular</td>\n",
       "      <td>Arizona State</td>\n",
       "      <td>Nebraska</td>\n",
       "      <td>NaN</td>\n",
       "      <td>10.0</td>\n",
       "      <td>pac12</td>\n",
       "      <td>...</td>\n",
       "      <td>NaN</td>\n",
       "      <td>NaN</td>\n",
       "      <td>NaN</td>\n",
       "      <td>NaN</td>\n",
       "      <td>NaN</td>\n",
       "      <td>NaN</td>\n",
       "      <td>NaN</td>\n",
       "      <td>NaN</td>\n",
       "      <td>77779.0</td>\n",
       "      <td>NaN</td>\n",
       "    </tr>\n",
       "  </tbody>\n",
       "</table>\n",
       "<p>5 rows × 58 columns</p>\n",
       "</div>"
      ],
      "text/plain": [
       "   season  week        date  time_et game_type            away        home  \\\n",
       "0    2002   1.0  2002-08-22  7:30 PM   regular  Colorado State    Virginia   \n",
       "1    2002   1.0  2002-08-23  8:00 PM   regular    Fresno State   Wisconsin   \n",
       "2    2002   1.0  2002-08-24  2:30 PM   regular      Texas Tech  Ohio State   \n",
       "3    2002   1.0  2002-08-24  4:30 PM   regular      New Mexico    NC State   \n",
       "4    2002   1.0  2002-08-24  7:45 PM   regular   Arizona State    Nebraska   \n",
       "\n",
       "   rank_away  rank_home conf_away  ... int_away  int_home  pen_num_away  \\\n",
       "0        NaN        NaN       mwc  ...      NaN       NaN           NaN   \n",
       "1        NaN       25.0       wac  ...      NaN       NaN           NaN   \n",
       "2        NaN       13.0     big12  ...      NaN       NaN           NaN   \n",
       "3        NaN        NaN       mwc  ...      NaN       NaN           NaN   \n",
       "4        NaN       10.0     pac12  ...      NaN       NaN           NaN   \n",
       "\n",
       "   pen_yards_away  pen_num_home  pen_yards_home  possession_away  \\\n",
       "0             NaN           NaN             NaN              NaN   \n",
       "1             NaN           NaN             NaN              NaN   \n",
       "2             NaN           NaN             NaN              NaN   \n",
       "3             NaN           NaN             NaN              NaN   \n",
       "4             NaN           NaN             NaN              NaN   \n",
       "\n",
       "   possession_home  attendance   tv  \n",
       "0              NaN     57120.0  NaN  \n",
       "1              NaN     75136.0  NaN  \n",
       "2              NaN    100037.0  NaN  \n",
       "3              NaN     47018.0  NaN  \n",
       "4              NaN     77779.0  NaN  \n",
       "\n",
       "[5 rows x 58 columns]"
      ]
     },
     "execution_count": 1,
     "metadata": {},
     "output_type": "execute_result"
    }
   ],
   "source": [
    "import pandas as pd\n",
    "\n",
    "DATA = '/kaggle/input/college-football-team-stats-2002-to-january-2024/cfb_box-scores_2002-2023.csv'\n",
    "df = pd.read_csv(filepath_or_buffer=DATA)\n",
    "df.head()"
   ]
  },
  {
   "cell_type": "markdown",
   "id": "a8c0abeb",
   "metadata": {
    "papermill": {
     "duration": 0.005348,
     "end_time": "2025-01-05T00:58:28.057321",
     "exception": false,
     "start_time": "2025-01-05T00:58:28.051973",
     "status": "completed"
    },
    "tags": []
   },
   "source": [
    "How big is our dataset?"
   ]
  },
  {
   "cell_type": "code",
   "execution_count": 2,
   "id": "82639d3f",
   "metadata": {
    "execution": {
     "iopub.execute_input": "2025-01-05T00:58:28.071640Z",
     "iopub.status.busy": "2025-01-05T00:58:28.070640Z",
     "iopub.status.idle": "2025-01-05T00:58:28.498223Z",
     "shell.execute_reply": "2025-01-05T00:58:28.496806Z"
    },
    "papermill": {
     "duration": 0.436985,
     "end_time": "2025-01-05T00:58:28.501010",
     "exception": false,
     "start_time": "2025-01-05T00:58:28.064025",
     "status": "completed"
    },
    "tags": []
   },
   "outputs": [
    {
     "data": {
      "text/plain": [
       "<Axes: xlabel='season'>"
      ]
     },
     "execution_count": 2,
     "metadata": {},
     "output_type": "execute_result"
    },
    {
     "data": {
      "image/png": "[encoded data removed]",
      "text/plain": [
       "<Figure size 640x480 with 1 Axes>"
      ]
     },
     "metadata": {},
     "output_type": "display_data"
    }
   ],
   "source": [
    "df['season'].value_counts().sort_index().plot(kind='bar')"
   ]
  },
  {
   "cell_type": "markdown",
   "id": "2e77d7b3",
   "metadata": {
    "papermill": {
     "duration": 0.005428,
     "end_time": "2025-01-05T00:58:28.512221",
     "exception": false,
     "start_time": "2025-01-05T00:58:28.506793",
     "status": "completed"
    },
    "tags": []
   },
   "source": [
    "We have roughly 800 games a year for 21 years; that's a lot of games."
   ]
  },
  {
   "cell_type": "markdown",
   "id": "0022281f",
   "metadata": {
    "papermill": {
     "duration": 0.005964,
     "end_time": "2025-01-05T00:58:28.524358",
     "exception": false,
     "start_time": "2025-01-05T00:58:28.518394",
     "status": "completed"
    },
    "tags": []
   },
   "source": [
    "Let's get just the win/loss figures first, and put them in a separate DataFrame."
   ]
  },
  {
   "cell_type": "code",
   "execution_count": 3,
   "id": "55360576",
   "metadata": {
    "execution": {
     "iopub.execute_input": "2025-01-05T00:58:28.538192Z",
     "iopub.status.busy": "2025-01-05T00:58:28.537730Z",
     "iopub.status.idle": "2025-01-05T00:58:29.206733Z",
     "shell.execute_reply": "2025-01-05T00:58:29.205324Z"
    },
    "papermill": {
     "duration": 0.679091,
     "end_time": "2025-01-05T00:58:29.209629",
     "exception": false,
     "start_time": "2025-01-05T00:58:28.530538",
     "status": "completed"
    },
    "tags": []
   },
   "outputs": [],
   "source": [
    "win_loss_df = df[['season', 'home', 'away', 'score_away', 'score_home']].copy()\n",
    "win_loss_df['winner'] = win_loss_df.apply(axis='columns', func=lambda x: 'home' if x['score_home'] > x['score_away'] else 'away')\n",
    "win_loss_df['W'] = win_loss_df.apply(axis='columns', func=lambda x: x['home'] if x['score_home'] > x['score_away'] else x['away'])\n",
    "win_loss_df['L'] = win_loss_df.apply(axis='columns', func=lambda x: x['home'] if x['score_home'] < x['score_away'] else x['away'])"
   ]
  },
  {
   "cell_type": "markdown",
   "id": "416487e1",
   "metadata": {
    "papermill": {
     "duration": 0.005472,
     "end_time": "2025-01-05T00:58:29.220950",
     "exception": false,
     "start_time": "2025-01-05T00:58:29.215478",
     "status": "completed"
    },
    "tags": []
   },
   "source": [
    "Which teams have the most losses over the period of interest?"
   ]
  },
  {
   "cell_type": "code",
   "execution_count": 4,
   "id": "f0e81864",
   "metadata": {
    "execution": {
     "iopub.execute_input": "2025-01-05T00:58:29.234218Z",
     "iopub.status.busy": "2025-01-05T00:58:29.233714Z",
     "iopub.status.idle": "2025-01-05T00:58:29.250435Z",
     "shell.execute_reply": "2025-01-05T00:58:29.248906Z"
    },
    "papermill": {
     "duration": 0.026411,
     "end_time": "2025-01-05T00:58:29.252997",
     "exception": false,
     "start_time": "2025-01-05T00:58:29.226586",
     "status": "completed"
    },
    "tags": []
   },
   "outputs": [
    {
     "data": {
      "text/html": [
       "<div>\n",
       "<style scoped>\n",
       "    .dataframe tbody tr th:only-of-type {\n",
       "        vertical-align: middle;\n",
       "    }\n",
       "\n",
       "    .dataframe tbody tr th {\n",
       "        vertical-align: top;\n",
       "    }\n",
       "\n",
       "    .dataframe thead th {\n",
       "        text-align: right;\n",
       "    }\n",
       "</style>\n",
       "<table border=\"1\" class=\"dataframe\">\n",
       "  <thead>\n",
       "    <tr style=\"text-align: right;\">\n",
       "      <th>L</th>\n",
       "      <th>UNLV</th>\n",
       "      <th>New Mexico State</th>\n",
       "      <th>Kansas</th>\n",
       "      <th>Akron</th>\n",
       "      <th>Eastern Michigan</th>\n",
       "      <th>UTEP</th>\n",
       "      <th>Vanderbilt</th>\n",
       "      <th>UL-Monroe</th>\n",
       "      <th>New Mexico</th>\n",
       "      <th>Illinois</th>\n",
       "    </tr>\n",
       "  </thead>\n",
       "  <tbody>\n",
       "    <tr>\n",
       "      <th>count</th>\n",
       "      <td>182</td>\n",
       "      <td>182</td>\n",
       "      <td>177</td>\n",
       "      <td>176</td>\n",
       "      <td>176</td>\n",
       "      <td>174</td>\n",
       "      <td>174</td>\n",
       "      <td>170</td>\n",
       "      <td>170</td>\n",
       "      <td>168</td>\n",
       "    </tr>\n",
       "  </tbody>\n",
       "</table>\n",
       "</div>"
      ],
      "text/plain": [
       "L      UNLV  New Mexico State  Kansas  Akron  Eastern Michigan  UTEP  \\\n",
       "count   182               182     177    176               176   174   \n",
       "\n",
       "L      Vanderbilt  UL-Monroe  New Mexico  Illinois  \n",
       "count         174        170         170       168  "
      ]
     },
     "execution_count": 4,
     "metadata": {},
     "output_type": "execute_result"
    }
   ],
   "source": [
    "win_loss_df['L'].value_counts().head(n=10).to_frame().T"
   ]
  },
  {
   "cell_type": "markdown",
   "id": "e0b5b490",
   "metadata": {
    "papermill": {
     "duration": 0.005727,
     "end_time": "2025-01-05T00:58:29.265300",
     "exception": false,
     "start_time": "2025-01-05T00:58:29.259573",
     "status": "completed"
    },
    "tags": []
   },
   "source": [
    "Which teams have the most wins over the period of interest?"
   ]
  },
  {
   "cell_type": "code",
   "execution_count": 5,
   "id": "a3e70537",
   "metadata": {
    "execution": {
     "iopub.execute_input": "2025-01-05T00:58:29.279527Z",
     "iopub.status.busy": "2025-01-05T00:58:29.279084Z",
     "iopub.status.idle": "2025-01-05T00:58:29.295207Z",
     "shell.execute_reply": "2025-01-05T00:58:29.293737Z"
    },
    "papermill": {
     "duration": 0.026443,
     "end_time": "2025-01-05T00:58:29.297812",
     "exception": false,
     "start_time": "2025-01-05T00:58:29.271369",
     "status": "completed"
    },
    "tags": []
   },
   "outputs": [
    {
     "data": {
      "text/html": [
       "<div>\n",
       "<style scoped>\n",
       "    .dataframe tbody tr th:only-of-type {\n",
       "        vertical-align: middle;\n",
       "    }\n",
       "\n",
       "    .dataframe tbody tr th {\n",
       "        vertical-align: top;\n",
       "    }\n",
       "\n",
       "    .dataframe thead th {\n",
       "        text-align: right;\n",
       "    }\n",
       "</style>\n",
       "<table border=\"1\" class=\"dataframe\">\n",
       "  <thead>\n",
       "    <tr style=\"text-align: right;\">\n",
       "      <th>W</th>\n",
       "      <th>Ohio State</th>\n",
       "      <th>Alabama</th>\n",
       "      <th>Georgia</th>\n",
       "      <th>Oklahoma</th>\n",
       "      <th>Boise State</th>\n",
       "      <th>Clemson</th>\n",
       "      <th>LSU</th>\n",
       "      <th>USC</th>\n",
       "      <th>Oregon</th>\n",
       "      <th>Wisconsin</th>\n",
       "    </tr>\n",
       "  </thead>\n",
       "  <tbody>\n",
       "    <tr>\n",
       "      <th>count</th>\n",
       "      <td>244</td>\n",
       "      <td>243</td>\n",
       "      <td>232</td>\n",
       "      <td>231</td>\n",
       "      <td>231</td>\n",
       "      <td>220</td>\n",
       "      <td>216</td>\n",
       "      <td>205</td>\n",
       "      <td>203</td>\n",
       "      <td>202</td>\n",
       "    </tr>\n",
       "  </tbody>\n",
       "</table>\n",
       "</div>"
      ],
      "text/plain": [
       "W      Ohio State  Alabama  Georgia  Oklahoma  Boise State  Clemson  LSU  USC  \\\n",
       "count         244      243      232       231          231      220  216  205   \n",
       "\n",
       "W      Oregon  Wisconsin  \n",
       "count     203        202  "
      ]
     },
     "execution_count": 5,
     "metadata": {},
     "output_type": "execute_result"
    }
   ],
   "source": [
    "win_loss_df['W'].value_counts().head(n=10).to_frame().T"
   ]
  },
  {
   "cell_type": "markdown",
   "id": "21bca235",
   "metadata": {
    "papermill": {
     "duration": 0.005646,
     "end_time": "2025-01-05T00:58:29.309596",
     "exception": false,
     "start_time": "2025-01-05T00:58:29.303950",
     "status": "completed"
    },
    "tags": []
   },
   "source": [
    "The problem we're trying to solve here goes like this:\n",
    "* There are more than 130 FBS teams and only ten weeks, so it is impossible to have every pair of teams play a game\n",
    "* This means that in a given season there may be multiple undefeated teams\n",
    "* And of course there may be one-loss or two-loss teams that are probably better than one or more of the undefeated teams\n",
    "Strength of schedule is one metric that attempts to weight the fact that some teams play a schedule of better teams than others."
   ]
  },
  {
   "cell_type": "markdown",
   "id": "6c69bff1",
   "metadata": {
    "papermill": {
     "duration": 0.00558,
     "end_time": "2025-01-05T00:58:29.321049",
     "exception": false,
     "start_time": "2025-01-05T00:58:29.315469",
     "status": "completed"
    },
    "tags": []
   },
   "source": [
    "In this workbook we are going to look at two metrics described here: https://en.wikipedia.org/wiki/Strength_of_schedule\n"
   ]
  },
  {
   "cell_type": "code",
   "execution_count": 6,
   "id": "32ca432a",
   "metadata": {
    "execution": {
     "iopub.execute_input": "2025-01-05T00:58:29.334627Z",
     "iopub.status.busy": "2025-01-05T00:58:29.334254Z",
     "iopub.status.idle": "2025-01-05T00:58:29.347958Z",
     "shell.execute_reply": "2025-01-05T00:58:29.346797Z"
    },
    "papermill": {
     "duration": 0.023083,
     "end_time": "2025-01-05T00:58:29.350177",
     "exception": false,
     "start_time": "2025-01-05T00:58:29.327094",
     "status": "completed"
    },
    "tags": []
   },
   "outputs": [
    {
     "data": {
      "text/html": [
       "<div>\n",
       "<style scoped>\n",
       "    .dataframe tbody tr th:only-of-type {\n",
       "        vertical-align: middle;\n",
       "    }\n",
       "\n",
       "    .dataframe tbody tr th {\n",
       "        vertical-align: top;\n",
       "    }\n",
       "\n",
       "    .dataframe thead th {\n",
       "        text-align: right;\n",
       "    }\n",
       "</style>\n",
       "<table border=\"1\" class=\"dataframe\">\n",
       "  <thead>\n",
       "    <tr style=\"text-align: right;\">\n",
       "      <th></th>\n",
       "      <th>season</th>\n",
       "      <th>home</th>\n",
       "      <th>away</th>\n",
       "      <th>score_away</th>\n",
       "      <th>score_home</th>\n",
       "      <th>winner</th>\n",
       "      <th>W</th>\n",
       "      <th>L</th>\n",
       "    </tr>\n",
       "  </thead>\n",
       "  <tbody>\n",
       "    <tr>\n",
       "      <th>0</th>\n",
       "      <td>2002</td>\n",
       "      <td>Virginia</td>\n",
       "      <td>Colorado State</td>\n",
       "      <td>35</td>\n",
       "      <td>29</td>\n",
       "      <td>away</td>\n",
       "      <td>Colorado State</td>\n",
       "      <td>Virginia</td>\n",
       "    </tr>\n",
       "    <tr>\n",
       "      <th>1</th>\n",
       "      <td>2002</td>\n",
       "      <td>Wisconsin</td>\n",
       "      <td>Fresno State</td>\n",
       "      <td>21</td>\n",
       "      <td>23</td>\n",
       "      <td>home</td>\n",
       "      <td>Wisconsin</td>\n",
       "      <td>Fresno State</td>\n",
       "    </tr>\n",
       "    <tr>\n",
       "      <th>2</th>\n",
       "      <td>2002</td>\n",
       "      <td>Ohio State</td>\n",
       "      <td>Texas Tech</td>\n",
       "      <td>21</td>\n",
       "      <td>45</td>\n",
       "      <td>home</td>\n",
       "      <td>Ohio State</td>\n",
       "      <td>Texas Tech</td>\n",
       "    </tr>\n",
       "    <tr>\n",
       "      <th>3</th>\n",
       "      <td>2002</td>\n",
       "      <td>NC State</td>\n",
       "      <td>New Mexico</td>\n",
       "      <td>14</td>\n",
       "      <td>34</td>\n",
       "      <td>home</td>\n",
       "      <td>NC State</td>\n",
       "      <td>New Mexico</td>\n",
       "    </tr>\n",
       "    <tr>\n",
       "      <th>4</th>\n",
       "      <td>2002</td>\n",
       "      <td>Nebraska</td>\n",
       "      <td>Arizona State</td>\n",
       "      <td>10</td>\n",
       "      <td>48</td>\n",
       "      <td>home</td>\n",
       "      <td>Nebraska</td>\n",
       "      <td>Arizona State</td>\n",
       "    </tr>\n",
       "  </tbody>\n",
       "</table>\n",
       "</div>"
      ],
      "text/plain": [
       "   season        home            away  score_away  score_home winner  \\\n",
       "0    2002    Virginia  Colorado State          35          29   away   \n",
       "1    2002   Wisconsin    Fresno State          21          23   home   \n",
       "2    2002  Ohio State      Texas Tech          21          45   home   \n",
       "3    2002    NC State      New Mexico          14          34   home   \n",
       "4    2002    Nebraska   Arizona State          10          48   home   \n",
       "\n",
       "                W              L  \n",
       "0  Colorado State       Virginia  \n",
       "1       Wisconsin   Fresno State  \n",
       "2      Ohio State     Texas Tech  \n",
       "3        NC State     New Mexico  \n",
       "4        Nebraska  Arizona State  "
      ]
     },
     "execution_count": 6,
     "metadata": {},
     "output_type": "execute_result"
    }
   ],
   "source": [
    "win_loss_df.head(n=5)"
   ]
  },
  {
   "cell_type": "markdown",
   "id": "2503e453",
   "metadata": {
    "papermill": {
     "duration": 0.005852,
     "end_time": "2025-01-05T00:58:29.362241",
     "exception": false,
     "start_time": "2025-01-05T00:58:29.356389",
     "status": "completed"
    },
    "tags": []
   },
   "source": [
    "Let's collect each year into its own DataFrame. This will make it easier to calculate each team's results for each season below."
   ]
  },
  {
   "cell_type": "code",
   "execution_count": 7,
   "id": "11fec071",
   "metadata": {
    "execution": {
     "iopub.execute_input": "2025-01-05T00:58:29.376373Z",
     "iopub.status.busy": "2025-01-05T00:58:29.375911Z",
     "iopub.status.idle": "2025-01-05T00:58:29.397328Z",
     "shell.execute_reply": "2025-01-05T00:58:29.395930Z"
    },
    "papermill": {
     "duration": 0.031626,
     "end_time": "2025-01-05T00:58:29.400085",
     "exception": false,
     "start_time": "2025-01-05T00:58:29.368459",
     "status": "completed"
    },
    "tags": []
   },
   "outputs": [],
   "source": [
    "wl = {season: win_loss_df[win_loss_df['season'] == season] for season in win_loss_df['season'].unique().tolist()}"
   ]
  },
  {
   "cell_type": "markdown",
   "id": "23cc6d7c",
   "metadata": {
    "papermill": {
     "duration": 0.006023,
     "end_time": "2025-01-05T00:58:29.412731",
     "exception": false,
     "start_time": "2025-01-05T00:58:29.406708",
     "status": "completed"
    },
    "tags": []
   },
   "source": [
    "How many distinct home teams do we have?"
   ]
  },
  {
   "cell_type": "code",
   "execution_count": 8,
   "id": "c4dbaf84",
   "metadata": {
    "execution": {
     "iopub.execute_input": "2025-01-05T00:58:29.427526Z",
     "iopub.status.busy": "2025-01-05T00:58:29.426490Z",
     "iopub.status.idle": "2025-01-05T00:58:29.437841Z",
     "shell.execute_reply": "2025-01-05T00:58:29.436626Z"
    },
    "papermill": {
     "duration": 0.021317,
     "end_time": "2025-01-05T00:58:29.440301",
     "exception": false,
     "start_time": "2025-01-05T00:58:29.418984",
     "status": "completed"
    },
    "tags": []
   },
   "outputs": [
    {
     "data": {
      "text/plain": [
       "139"
      ]
     },
     "execution_count": 8,
     "metadata": {},
     "output_type": "execute_result"
    }
   ],
   "source": [
    "df['home'].nunique()"
   ]
  },
  {
   "cell_type": "markdown",
   "id": "db5c361d",
   "metadata": {
    "papermill": {
     "duration": 0.006775,
     "end_time": "2025-01-05T00:58:29.453356",
     "exception": false,
     "start_time": "2025-01-05T00:58:29.446581",
     "status": "completed"
    },
    "tags": []
   },
   "source": [
    "One of the difficulties with this dataset is that it includes games where an FBS team schedules an FCS team for an early-season win, and probably other complicated situations. We have rather more away teams than home teams, and we have home teams that appear a suspiciously small number of times. "
   ]
  },
  {
   "cell_type": "markdown",
   "id": "c04298a3",
   "metadata": {
    "papermill": {
     "duration": 0.006007,
     "end_time": "2025-01-05T00:58:29.466031",
     "exception": false,
     "start_time": "2025-01-05T00:58:29.460024",
     "status": "completed"
    },
    "tags": []
   },
   "source": [
    "Let's build the dataset we really want: for each season and team, let's find the games, wins, and losses."
   ]
  },
  {
   "cell_type": "code",
   "execution_count": 9,
   "id": "e718893a",
   "metadata": {
    "execution": {
     "iopub.execute_input": "2025-01-05T00:58:29.480600Z",
     "iopub.status.busy": "2025-01-05T00:58:29.480217Z",
     "iopub.status.idle": "2025-01-05T00:58:34.936891Z",
     "shell.execute_reply": "2025-01-05T00:58:34.935618Z"
    },
    "papermill": {
     "duration": 5.46715,
     "end_time": "2025-01-05T00:58:34.939432",
     "exception": false,
     "start_time": "2025-01-05T00:58:29.472282",
     "status": "completed"
    },
    "tags": []
   },
   "outputs": [
    {
     "data": {
      "text/html": [
       "<div>\n",
       "<style scoped>\n",
       "    .dataframe tbody tr th:only-of-type {\n",
       "        vertical-align: middle;\n",
       "    }\n",
       "\n",
       "    .dataframe tbody tr th {\n",
       "        vertical-align: top;\n",
       "    }\n",
       "\n",
       "    .dataframe thead th {\n",
       "        text-align: right;\n",
       "    }\n",
       "</style>\n",
       "<table border=\"1\" class=\"dataframe\">\n",
       "  <thead>\n",
       "    <tr style=\"text-align: right;\">\n",
       "      <th></th>\n",
       "      <th>season</th>\n",
       "      <th>team</th>\n",
       "      <th>games</th>\n",
       "      <th>wins</th>\n",
       "      <th>losses</th>\n",
       "    </tr>\n",
       "  </thead>\n",
       "  <tbody>\n",
       "    <tr>\n",
       "      <th>0</th>\n",
       "      <td>2002</td>\n",
       "      <td>Virginia</td>\n",
       "      <td>14</td>\n",
       "      <td>9</td>\n",
       "      <td>5</td>\n",
       "    </tr>\n",
       "    <tr>\n",
       "      <th>1</th>\n",
       "      <td>2003</td>\n",
       "      <td>Virginia</td>\n",
       "      <td>13</td>\n",
       "      <td>8</td>\n",
       "      <td>5</td>\n",
       "    </tr>\n",
       "    <tr>\n",
       "      <th>2</th>\n",
       "      <td>2004</td>\n",
       "      <td>Virginia</td>\n",
       "      <td>12</td>\n",
       "      <td>8</td>\n",
       "      <td>4</td>\n",
       "    </tr>\n",
       "    <tr>\n",
       "      <th>3</th>\n",
       "      <td>2005</td>\n",
       "      <td>Virginia</td>\n",
       "      <td>12</td>\n",
       "      <td>7</td>\n",
       "      <td>5</td>\n",
       "    </tr>\n",
       "    <tr>\n",
       "      <th>4</th>\n",
       "      <td>2006</td>\n",
       "      <td>Virginia</td>\n",
       "      <td>12</td>\n",
       "      <td>5</td>\n",
       "      <td>7</td>\n",
       "    </tr>\n",
       "  </tbody>\n",
       "</table>\n",
       "</div>"
      ],
      "text/plain": [
       "   season      team  games  wins  losses\n",
       "0    2002  Virginia     14     9       5\n",
       "1    2003  Virginia     13     8       5\n",
       "2    2004  Virginia     12     8       4\n",
       "3    2005  Virginia     12     7       5\n",
       "4    2006  Virginia     12     5       7"
      ]
     },
     "execution_count": 9,
     "metadata": {},
     "output_type": "execute_result"
    }
   ],
   "source": [
    "records = []\n",
    "teams = df['home'].unique().tolist()\n",
    "for team in teams:\n",
    "    for season in range(2002, 2023):\n",
    "        wins = 0\n",
    "        games = 0\n",
    "        home_df = wl[season][wl[season]['home'] == team]\n",
    "        wins += len(home_df[home_df['winner'] == 'home'])\n",
    "        games += len(home_df)\n",
    "        away_df = wl[season][wl[season]['away'] == team]\n",
    "        wins += len(away_df[away_df['winner'] == 'away'])\n",
    "        games += len(away_df)\n",
    "        losses = games - wins\n",
    "        records.append(pd.Series(data={'season': season, 'team': team, 'games': games, 'wins': wins, 'losses': losses, } ))\n",
    "records_df = pd.DataFrame(data=records)\n",
    "records_df.head()"
   ]
  },
  {
   "cell_type": "markdown",
   "id": "5cb11c96",
   "metadata": {
    "papermill": {
     "duration": 0.006207,
     "end_time": "2025-01-05T00:58:34.952767",
     "exception": false,
     "start_time": "2025-01-05T00:58:34.946560",
     "status": "completed"
    },
    "tags": []
   },
   "source": [
    "Now we're ready to calculate opponents records using this DataFrame."
   ]
  },
  {
   "cell_type": "code",
   "execution_count": 10,
   "id": "3610315b",
   "metadata": {
    "execution": {
     "iopub.execute_input": "2025-01-05T00:58:34.967429Z",
     "iopub.status.busy": "2025-01-05T00:58:34.967010Z",
     "iopub.status.idle": "2025-01-05T00:58:41.086428Z",
     "shell.execute_reply": "2025-01-05T00:58:41.085086Z"
    },
    "papermill": {
     "duration": 6.129988,
     "end_time": "2025-01-05T00:58:41.089152",
     "exception": false,
     "start_time": "2025-01-05T00:58:34.959164",
     "status": "completed"
    },
    "tags": []
   },
   "outputs": [
    {
     "data": {
      "text/html": [
       "<div>\n",
       "<style scoped>\n",
       "    .dataframe tbody tr th:only-of-type {\n",
       "        vertical-align: middle;\n",
       "    }\n",
       "\n",
       "    .dataframe tbody tr th {\n",
       "        vertical-align: top;\n",
       "    }\n",
       "\n",
       "    .dataframe thead th {\n",
       "        text-align: right;\n",
       "    }\n",
       "</style>\n",
       "<table border=\"1\" class=\"dataframe\">\n",
       "  <thead>\n",
       "    <tr style=\"text-align: right;\">\n",
       "      <th></th>\n",
       "      <th>team</th>\n",
       "      <th>season</th>\n",
       "      <th>opponent games</th>\n",
       "      <th>opponent wins</th>\n",
       "      <th>opponent losses</th>\n",
       "      <th>SOS</th>\n",
       "    </tr>\n",
       "  </thead>\n",
       "  <tbody>\n",
       "    <tr>\n",
       "      <th>0</th>\n",
       "      <td>Virginia</td>\n",
       "      <td>2002</td>\n",
       "      <td>183</td>\n",
       "      <td>104</td>\n",
       "      <td>79</td>\n",
       "      <td>0.568306</td>\n",
       "    </tr>\n",
       "    <tr>\n",
       "      <th>1</th>\n",
       "      <td>Virginia</td>\n",
       "      <td>2003</td>\n",
       "      <td>163</td>\n",
       "      <td>87</td>\n",
       "      <td>76</td>\n",
       "      <td>0.533742</td>\n",
       "    </tr>\n",
       "    <tr>\n",
       "      <th>2</th>\n",
       "      <td>Virginia</td>\n",
       "      <td>2004</td>\n",
       "      <td>140</td>\n",
       "      <td>77</td>\n",
       "      <td>63</td>\n",
       "      <td>0.550000</td>\n",
       "    </tr>\n",
       "    <tr>\n",
       "      <th>3</th>\n",
       "      <td>Virginia</td>\n",
       "      <td>2005</td>\n",
       "      <td>140</td>\n",
       "      <td>70</td>\n",
       "      <td>70</td>\n",
       "      <td>0.500000</td>\n",
       "    </tr>\n",
       "    <tr>\n",
       "      <th>4</th>\n",
       "      <td>Virginia</td>\n",
       "      <td>2006</td>\n",
       "      <td>152</td>\n",
       "      <td>75</td>\n",
       "      <td>77</td>\n",
       "      <td>0.493421</td>\n",
       "    </tr>\n",
       "  </tbody>\n",
       "</table>\n",
       "</div>"
      ],
      "text/plain": [
       "       team  season  opponent games  opponent wins  opponent losses       SOS\n",
       "0  Virginia    2002             183            104               79  0.568306\n",
       "1  Virginia    2003             163             87               76  0.533742\n",
       "2  Virginia    2004             140             77               63  0.550000\n",
       "3  Virginia    2005             140             70               70  0.500000\n",
       "4  Virginia    2006             152             75               77  0.493421"
      ]
     },
     "execution_count": 10,
     "metadata": {},
     "output_type": "execute_result"
    }
   ],
   "source": [
    "result = []\n",
    "for team in teams:\n",
    "    for season in range(2002, 2023):\n",
    "        home_df = wl[season][wl[season]['home'] == team]\n",
    "        away_df = wl[season][wl[season]['away'] == team]\n",
    "        opponents = home_df['away'].tolist() + away_df['home'].tolist()\n",
    "        opponents_df = records_df[(records_df['team'].isin(opponents)) & (records_df['season'] == season)]\n",
    "        result.append(pd.Series(\n",
    "            data={'team': team, 'season': season, 'opponent games': opponents_df['games'].sum(), 'opponent wins': opponents_df['wins'].sum(),\n",
    "                 'opponent losses': opponents_df['losses'].sum()}\n",
    "        ))        \n",
    "result_df = pd.DataFrame(data=result)\n",
    "result_df['SOS'] = result_df['opponent wins'] / result_df['opponent games']\n",
    "result_df.head()\n"
   ]
  },
  {
   "cell_type": "markdown",
   "id": "53727600",
   "metadata": {
    "papermill": {
     "duration": 0.006325,
     "end_time": "2025-01-05T00:58:41.102371",
     "exception": false,
     "start_time": "2025-01-05T00:58:41.096046",
     "status": "completed"
    },
    "tags": []
   },
   "source": [
    "First let's take a look at the distribution of SOS. We expect it to have a mean of 0.5, but how much variance do we expect?"
   ]
  },
  {
   "cell_type": "code",
   "execution_count": 11,
   "id": "60fbaf85",
   "metadata": {
    "execution": {
     "iopub.execute_input": "2025-01-05T00:58:41.118772Z",
     "iopub.status.busy": "2025-01-05T00:58:41.118362Z",
     "iopub.status.idle": "2025-01-05T00:58:43.469326Z",
     "shell.execute_reply": "2025-01-05T00:58:43.467972Z"
    },
    "papermill": {
     "duration": 2.362449,
     "end_time": "2025-01-05T00:58:43.471795",
     "exception": false,
     "start_time": "2025-01-05T00:58:41.109346",
     "status": "completed"
    },
    "tags": []
   },
   "outputs": [
    {
     "data": {
      "text/plain": [
       "<Axes: xlabel='SOS', ylabel='Count'>"
      ]
     },
     "execution_count": 11,
     "metadata": {},
     "output_type": "execute_result"
    },
    {
     "data": {
      "image/png": "[encoded data removed]",
      "text/plain": [
       "<Figure size 1200x500 with 1 Axes>"
      ]
     },
     "metadata": {},
     "output_type": "display_data"
    }
   ],
   "source": [
    "import matplotlib.pyplot as plt\n",
    "from seaborn import histplot\n",
    "from warnings import filterwarnings\n",
    "\n",
    "filterwarnings(action='ignore', category=FutureWarning)\n",
    "\n",
    "FIGSIZE = (12, 5)\n",
    "plt.figure(figsize=FIGSIZE)\n",
    "histplot(data=result_df, x='SOS', kde=True)"
   ]
  },
  {
   "cell_type": "code",
   "execution_count": 12,
   "id": "a113141a",
   "metadata": {
    "execution": {
     "iopub.execute_input": "2025-01-05T00:58:43.489173Z",
     "iopub.status.busy": "2025-01-05T00:58:43.488502Z",
     "iopub.status.idle": "2025-01-05T00:58:43.497907Z",
     "shell.execute_reply": "2025-01-05T00:58:43.496572Z"
    },
    "papermill": {
     "duration": 0.021135,
     "end_time": "2025-01-05T00:58:43.500431",
     "exception": false,
     "start_time": "2025-01-05T00:58:43.479296",
     "status": "completed"
    },
    "tags": []
   },
   "outputs": [
    {
     "data": {
      "text/plain": [
       "(0.5322307967644311, 0.07408306146505)"
      ]
     },
     "execution_count": 12,
     "metadata": {},
     "output_type": "execute_result"
    }
   ],
   "source": [
    "result_df['SOS'].mean(), result_df['SOS'].std()"
   ]
  },
  {
   "cell_type": "markdown",
   "id": "345cf1ad",
   "metadata": {
    "papermill": {
     "duration": 0.007191,
     "end_time": "2025-01-05T00:58:43.515196",
     "exception": false,
     "start_time": "2025-01-05T00:58:43.508005",
     "status": "completed"
    },
    "tags": []
   },
   "source": [
    "Our mean SOS is higher than 0.5. Why would that be? It's hard to say. We have nearly 3000 instances, so we would expect our distribution to be smoother than it is. Maybe we should see if we have some teams that only appear a few times and introduce some skew because their schedules include so few games."
   ]
  }
 ],
 "metadata": {
  "kaggle": {
   "accelerator": "none",
   "dataSources": [
    {
     "datasetId": 5579581,
     "sourceId": 9245072,
     "sourceType": "datasetVersion"
    }
   ],
   "dockerImageVersionId": 30804,
   "isGpuEnabled": false,
   "isInternetEnabled": true,
   "language": "python",
   "sourceType": "notebook"
  },
  "kernelspec": {
   "display_name": "Python 3",
   "language": "python",
   "name": "python3"
  },
  "language_info": {
   "codemirror_mode": {
    "name": "ipython",
    "version": 3
   },
   "file_extension": ".py",
   "mimetype": "text/x-python",
   "name": "python",
   "nbconvert_exporter": "python",
   "pygments_lexer": "ipython3",
   "version": "3.10.14"
  },
  "papermill": {
   "default_parameters": {},
   "duration": 21.179374,
   "end_time": "2025-01-05T00:58:44.246981",
   "environment_variables": {},
   "exception": null,
   "input_path": "__notebook__.ipynb",
   "output_path": "__notebook__.ipynb",
   "parameters": {},
   "start_time": "2025-01-05T00:58:23.067607",
   "version": "2.6.0"
  }
 },
 "nbformat": 4,
 "nbformat_minor": 5
}
