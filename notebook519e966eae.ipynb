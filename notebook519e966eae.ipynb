{
 "cells": [
  {
   "cell_type": "code",
   "execution_count": 1,
   "id": "d3ff96bb",
   "metadata": {
    "_cell_guid": "b1076dfc-b9ad-4769-8c92-a6c4dae69d19",
    "_uuid": "8f2839f25d086af736a60e9eeb907d3b93b6e0e5",
    "execution": {
     "iopub.execute_input": "2024-01-23T21:59:22.567165Z",
     "iopub.status.busy": "2024-01-23T21:59:22.566384Z",
     "iopub.status.idle": "2024-01-23T21:59:23.715582Z",
     "shell.execute_reply": "2024-01-23T21:59:23.714241Z"
    },
    "papermill": {
     "duration": 1.158205,
     "end_time": "2024-01-23T21:59:23.718623",
     "exception": false,
     "start_time": "2024-01-23T21:59:22.560418",
     "status": "completed"
    },
    "tags": []
   },
   "outputs": [
    {
     "data": {
      "text/html": [
       "<div>\n",
       "<style scoped>\n",
       "    .dataframe tbody tr th:only-of-type {\n",
       "        vertical-align: middle;\n",
       "    }\n",
       "\n",
       "    .dataframe tbody tr th {\n",
       "        vertical-align: top;\n",
       "    }\n",
       "\n",
       "    .dataframe thead th {\n",
       "        text-align: right;\n",
       "    }\n",
       "</style>\n",
       "<table border=\"1\" class=\"dataframe\">\n",
       "  <thead>\n",
       "    <tr style=\"text-align: right;\">\n",
       "      <th></th>\n",
       "      <th>file</th>\n",
       "      <th>page</th>\n",
       "      <th>text</th>\n",
       "    </tr>\n",
       "  </thead>\n",
       "  <tbody>\n",
       "    <tr>\n",
       "      <th>0</th>\n",
       "      <td>Pentagon-Papers-Index.pdf</td>\n",
       "      <td>0</td>\n",
       "      <td>.. Declassified per Executive Order 13526, Sec...</td>\n",
       "    </tr>\n",
       "    <tr>\n",
       "      <th>1</th>\n",
       "      <td>Pentagon-Papers-Index.pdf</td>\n",
       "      <td>1</td>\n",
       "      <td>TLE \\nF&lt;HM \\nRTC \\nJC \\n[J \\n[J Declassified p...</td>\n",
       "    </tr>\n",
       "    <tr>\n",
       "      <th>2</th>\n",
       "      <td>Pentagon-Papers-Index.pdf</td>\n",
       "      <td>2</td>\n",
       "      <td>Declassified per Executive Order 13526, Sectio...</td>\n",
       "    </tr>\n",
       "    <tr>\n",
       "      <th>3</th>\n",
       "      <td>Pentagon-Papers-Index.pdf</td>\n",
       "      <td>3</td>\n",
       "      <td>Declassified per Executive Order 13526, Sectio...</td>\n",
       "    </tr>\n",
       "    <tr>\n",
       "      <th>4</th>\n",
       "      <td>Pentagon-Papers-Index.pdf</td>\n",
       "      <td>4</td>\n",
       "      <td>Declassified per Executive Order 13526, Sectio...</td>\n",
       "    </tr>\n",
       "  </tbody>\n",
       "</table>\n",
       "</div>"
      ],
      "text/plain": [
       "                        file  page  \\\n",
       "0  Pentagon-Papers-Index.pdf     0   \n",
       "1  Pentagon-Papers-Index.pdf     1   \n",
       "2  Pentagon-Papers-Index.pdf     2   \n",
       "3  Pentagon-Papers-Index.pdf     3   \n",
       "4  Pentagon-Papers-Index.pdf     4   \n",
       "\n",
       "                                                text  \n",
       "0  .. Declassified per Executive Order 13526, Sec...  \n",
       "1  TLE \\nF<HM \\nRTC \\nJC \\n[J \\n[J Declassified p...  \n",
       "2  Declassified per Executive Order 13526, Sectio...  \n",
       "3  Declassified per Executive Order 13526, Sectio...  \n",
       "4  Declassified per Executive Order 13526, Sectio...  "
      ]
     },
     "execution_count": 1,
     "metadata": {},
     "output_type": "execute_result"
    }
   ],
   "source": [
    "import pandas as pd\n",
    "PAGES = '/kaggle/input/the-pentagon-papers-text/pentagon_papers_pages.csv'\n",
    "df = pd.read_csv(filepath_or_buffer=PAGES)\n",
    "df = df.dropna()\n",
    "df.head()"
   ]
  },
  {
   "cell_type": "code",
   "execution_count": 2,
   "id": "e627ca02",
   "metadata": {
    "execution": {
     "iopub.execute_input": "2024-01-23T21:59:23.728745Z",
     "iopub.status.busy": "2024-01-23T21:59:23.728349Z",
     "iopub.status.idle": "2024-01-23T21:59:24.998395Z",
     "shell.execute_reply": "2024-01-23T21:59:24.997002Z"
    },
    "papermill": {
     "duration": 1.278626,
     "end_time": "2024-01-23T21:59:25.001498",
     "exception": false,
     "start_time": "2024-01-23T21:59:23.722872",
     "status": "completed"
    },
    "tags": []
   },
   "outputs": [],
   "source": [
    "from collections import Counter\n",
    "count = Counter(' '.join(df['text'].values).split())"
   ]
  },
  {
   "cell_type": "code",
   "execution_count": 3,
   "id": "d450d779",
   "metadata": {
    "execution": {
     "iopub.execute_input": "2024-01-23T21:59:25.011179Z",
     "iopub.status.busy": "2024-01-23T21:59:25.010732Z",
     "iopub.status.idle": "2024-01-23T21:59:25.042491Z",
     "shell.execute_reply": "2024-01-23T21:59:25.041369Z"
    },
    "papermill": {
     "duration": 0.03977,
     "end_time": "2024-01-23T21:59:25.045265",
     "exception": false,
     "start_time": "2024-01-23T21:59:25.005495",
     "status": "completed"
    },
    "tags": []
   },
   "outputs": [],
   "source": [
    "count_dict = dict(count)"
   ]
  },
  {
   "cell_type": "code",
   "execution_count": 4,
   "id": "49759644",
   "metadata": {
    "execution": {
     "iopub.execute_input": "2024-01-23T21:59:25.054943Z",
     "iopub.status.busy": "2024-01-23T21:59:25.054521Z",
     "iopub.status.idle": "2024-01-23T21:59:25.283067Z",
     "shell.execute_reply": "2024-01-23T21:59:25.281453Z"
    },
    "papermill": {
     "duration": 0.237115,
     "end_time": "2024-01-23T21:59:25.286291",
     "exception": false,
     "start_time": "2024-01-23T21:59:25.049176",
     "status": "completed"
    },
    "tags": []
   },
   "outputs": [
    {
     "data": {
      "text/plain": [
       "378853"
      ]
     },
     "execution_count": 4,
     "metadata": {},
     "output_type": "execute_result"
    }
   ],
   "source": [
    "len({key: value for key, value in count_dict.items() if value == 1})"
   ]
  },
  {
   "cell_type": "code",
   "execution_count": 5,
   "id": "b36480e4",
   "metadata": {
    "execution": {
     "iopub.execute_input": "2024-01-23T21:59:25.296577Z",
     "iopub.status.busy": "2024-01-23T21:59:25.296167Z",
     "iopub.status.idle": "2024-01-23T21:59:25.942421Z",
     "shell.execute_reply": "2024-01-23T21:59:25.941005Z"
    },
    "papermill": {
     "duration": 0.654863,
     "end_time": "2024-01-23T21:59:25.945376",
     "exception": false,
     "start_time": "2024-01-23T21:59:25.290513",
     "status": "completed"
    },
    "tags": []
   },
   "outputs": [
    {
     "name": "stdout",
     "output_type": "stream",
     "text": [
      "[\"!!!'l'l'Ce\", '!!!.I', '!!!if', '!!!llGV', '!!\"', \"!!'.ay\", \"!!'.cleeQ)\", \"!!'li~,.j\", '!!()', '!!(iii)', '!!-ihiCl', '!!.', \"!!.'.lst\", '!!..', '!!.......', '!!....::lc1', '!!../.', '!!.:.ta', '!!.I-CY1966', '!!.~2:.', '!!1', '!!1li.cho.f', '!!20/20', '!!3.', '!!6.', '!!8.', '!!:', '!!:.~', '!!::\\':\\';\\'\"\\'l', '!!::.~', \"!!?~..J:.~:'TS,\", '!!A.', '!!AMBASSADOR', '!!After', '!!Arter', '!!Buddhist', '!!But', '!!Council', '!!Diem', '!!Except', '!!First,', '!!Fundamental', '!!Graduated', '!!Headings', '!!Highest', '!!Hundred', '!!I', '!!I;1', '!!IISSIO', '!!IWCrtlor', '!!In', '!!Is', '!!It', '!!K!!', '!!Military', '!!NVN', '!!National', '!!Now', '!!Perspective', \"!!Postm'e1f\", '!!President', '!!Program', '!!Proposed', '!!R', '!!ROLLING', '!!Rostow', '!!S!J', '!!SSi~t2.ECe', \"!!Sihanouk's\", '!!Statement', '!!There', '!!These', '!!Third', '!!Tito', '!!a', '!!across', '!!adding', '!!adequacy', '!!always', '!!any', '!!at:toDaJ.', '!!b\"', '!!baling', '!!careful', '!!constitlitional', '!!cover', '!!demanrls!!', '!!developing', '!!differences', '!!dirty', '!!ecembe', '!!elements', '!!errors', '!!explore', '!!exposition', '!!face\"', '!!factions!!', '!!fade-out', '!!firm', '!!flow', '!!formally!!', '!!free', '!!from', '!!fully', '!!graduated', '!!guns', '!!had', '!!hard', '!!hard\\xad', '!!harsh', '!!henorable\"', '!!highly', '!!iade', '!!ideological', '!!inister', '!!initialfl)', '!!ir', '!!is', '!!isolation', \"!!i~'t-,\", '!!lade', '!!latter', '!!lccd', '!!like', '!!lission.', '!!logistic', '!!losing', '!!lostly', '!!lr:(lfca.l.;', \"!!lu;!'entuIfl\", '!!lust', \"!!m1dcrgro'Lmcl\", '!!march', '!!mili', '!!military', '!!mockery.', '!!narrow', '!!negotiating', '!!nervous', '!!network.', '!!nitc:d2t3tes', '!!not', '!!nothing', \"!!oil1O'\", '!!pacification', '!!peaceful', '!!permanent', '!!pointed', '!!political', '!!precariaus\"', '!!presence', '!!principally', '!!pro-Sovi', '!!progress', '!!provided\"', '!!pursue', '!!real', '!!regional', '!!regroup\\xad', '!!renewed', '!!scientific', '!!socialism', '!!somewhat', '!!stabilization', '!!struggle!!', '!!the', '!!there', '!!those', '!!thousands', '!!tonic!!', '!!tooth', '!!tough', '!!trick!!', '!!u:.;tr<~lia', '!!united', '!!usually', '!!vlere', '!!voluminous', '!!we', '!!win!!', '!!y', '!!}j', '!!~', '!!~;Jcc:rl', '!!~essage', '!!§}', '!\"!', '!\"!\\'r;,intain', '!\"!:C.)', '!\"!~2.n', '!\"\"', '!\"\"\"j', '!\"\"\"~', '!\"\"\\'~', '!\"\",.', '!\"\".', '!\"\"\\\\CJ·', '!\"\"f1:\\'gnt', '!\"\"l(3ctl~', '!\"\"n,', '!\"\\'\\'lC:l;CZ', '!\"\\',\\'', '!\"\\'H\\'\"\"', '!\"\\'Jpl8.ci?\\':G', '!\"\\'O', '!\"\\'c-~rc-lE\"\"L', '!\"\\'c:', '!\"\\'i.l:\\'3.1', '!\"\\'o', '!\"\\'or\"o\"r.r', '!\"\\'t,........Oi1·(', '!\"\\'~-1', '!\",\\'rench', '!\",,,,SL\\'', '!\",-...,c.', '!\",:ce~ir:ed', '!\"-,\\'.', '!\"---t', '!\".1i=~:~', '!\".1oiI0::ler', '!\".:r:R~eL:<.18ct', '!\".i\\'Hltr', '!\".o.intc,in', '!\".ot', '!\".~sy', '!\"5lcA~t:·', '!\"::~l~', '!\":_ecSL:.:..', '!\":eetings', '!\":i\"inQ:', '!\":j', '!\":l.', '!\":~', '!\"C\\\\\"l\\'l\\';l]', '!\"I\",,\"~·l', '!\"I1cd.n', '!\"It', '!\"J', '!\"J.', '!\"JUt', '!\"OI\\'(,j\"pi1fllt\\\\\"', '!\"_:;', '!\"_~', '!\"_~\"\\'!\\'F', '!\"adio', '!\"cde!\\'i!l~d', '!\"csul.!~ed', '!\"c~:\\'..son', '!\"e:\\'!.c:\\'!o:-.', '!\"eS1.L\\':1eCt', '!\"eci.llc:st~', '!\"es::c.:\\'lQ', '!\"h:i_nd.s', '!\"had', '!\"i-!l', '!\"i-:.:::~~1:\\'\"', '!\"ililit~\"\\'y', '!\"it', '!\"j', '!\"kill.', '!\"l\\'li', '!\"l)O)~CS', '!\"leI', '!\"ll\\'ol1!l\"ly', '!\"lost,ile', '!\"lust', '!\"nL~st', '!\"nake', '!\"orc', '!\"orf~<', '!\"p[lortr\\'(l', '!\"r..:;to::rm:\"\\'', '!\"r::pC\\':~t', '!\"t1l..wt', '!\"t;,;\\'.::\\':-c:-:e:1\\':.', '!\"u!\"21', '!\"v', '!\"~!\"', '!\"~::T.~:lt', '!\"~ist,::·a-(/i.O·\\'-l', '!\"·:-~!:.l\\'.#i!~', '!\\'!\\'[I\"l\\'I,·(\\\\', \"!'!~3\", '!\\'\"._!', '!\\'\"J', '!\\'\"L~', '!\\'\"TI', '!\\'\"lQlsily', \"!'''~7/?,Ci:t\", \"!''-'';'IT'''G\", \"!''-.:~\", \"!''-j\", \"!'':'<':\", \"!'':CC:2S32..::Y\", '!\\'\\'riI\"\"\\':OC\\'\\'\"\\';·I', \"!'(\\\\'0Y\", \"!'(ll'\", \"!'(~'..·L~\", \"!')\", \"!')(l\", '!\\',\"::', \"!',.\", \"!',Iendes-France'l:vhich\", \"!',~J.c/~.:.:~\", \"!'-!\", '!\\'-!i!\"\";~', \"!'-'-.',;.:\", \"!'-'.\", \"!'-.-............\", \"!'-8\", \"!'-:;:\", \"!'-DSint~\", \"!'-PI\", \"!'-eml\", \"!'-l!\\\\CV's\", '!\\'.\"\\'_\\'', \"!'.'.'!1\", \"!'.'.,\", \"!'.)L:\", \"!'.--.\", \"!'...--\", \"!'...0\", \"!'..:\", \"!'.1-\", \"!'.:R~\", \"!'.:mk\", \"!'.;\", \"!'.l\", \"!'.r';Jl'o~~r·int.'9\", \"!'.r:.d\", \"!'.re\", \"!'.~\", \"!'/AGE\", \"!'0)Ol.';:'S\", \"!'1\", \"!'1'.:Ii18n\", \"!'1.i.sC;1.v1nC;s\", \"!'1:~\", '!\\'1;;:\\\\i\"O', \"!'1ay\", \"!'1i\", \"!'2ii:~o=--~c:::ents\", \"!'6.\", '!\\':\"', \"!':'~03':C\", \"!':,)\", \"!':-c·:-.\", '!\\':.\"ll\\'L1-:il3tCl\\'~~1', \"!':.ecretcl~Y\", \"!':2rcovich\", \"!':2tionctl\", \"!'::.\", \"!'::ission\", \"!'::~.s\", \"!':;:~~\", \"!':C-v21·..-t;11Clc::.~~..;,\", \"!':I\", \"!':Iid\", \"!':atic:-:c\", '!\\':ll(\":', \"!':lost\", \"!':tri,.;,\", \"!';'~\", \"!';,~·\\\\-J.lTC\", \"!';:It.~l~tiol1\", \"!';fl'.\", \"!';ort~\", '!\\'<1l1<:pol\"fa\\xad', \"!'AII'\", \"!'During\", \"!'E\", \"!'Gllst::en\", \"!'I\", \"!'I'd\", \"!'I1;d'ti'l'\", \"!'I;lVepl'oduceu\", '!\\'Ie\",', \"!'IiAY\", \"!'In\", \"!'Interleur.\", \"!'Ism\", \"!'I~)\", \"!'J!\", \"!'J..o.,U\", \"!'J.argenper.a:t:i:ons.\", \"!'J1I,\\\\'\", \"!'Ject\", \"!'JlO\", \"!'J·B:t'\\\\:)\", '!\\'L:j\";t', \"!'L\\\\?\", '!\\'O!\"', '!\\'O\\'I\"', \"!'Pll()l'rp\", \"!'RWP.ITY\", \"!'Tbe\", \"!'This,\", \"!'Thus\", \"!'U.\", \"!'U:MORY\", \"!'U\\\\Dl:\", '!\\'\\\\\"\\'', \"!'\\\\;\", \"!'\\\\_\", \"!'\\\\coq-j\", \"!']UST\", \"!'_~~:I:,\", \"!'a\", \"!'ace,\", \"!'based\", \"!'c!!:lnl\", \"!'c,;pcC'i\", \"!'c::;\", \"!'c;\", \"!'c;;:1rd\", \"!'cc(I:;J1:;:c:l.\", \"!'christman\", \"!'c~oi\", \"!'dil1g1y,\", \"!'e30:!.l:tc::L:\", '!\\'e=c0[;!\\'\"J.ized', \"!'eadiness\", \"!'eccirt\", '!\\'ecll\"l:\\'', \"!'egion\", \"!'equ8st\", \"!'espOllS\", \"!'estr\", \"!'es~~t,\", '!\\'f:\"C:oo..r\\'::l:\\'::', \"!'fu\", \"!'han\", \"!'hifts\", \"!'hot\", \"!'i.l:'..11\", \"!'i:ilJt2..:':.-\", \"!'i;:;it;;\", \"!'iIld\", \"!'iUST\", \"!'il!.'1gL12P'\", \"!'inch\", \"!'ish\", '!\\'j.\"Y', \"!'k.y\", \"!'l!\", \"!'l,,<;:-;:'r::-'\", \"!'l-oC!!\", \"!'l..tll\", \"!'l.ii1cri\", \"!'l:l.1..\", \"!'lO,LOTOV\", \"!'lSo\", \"!'laVe\", \"!'leans\", \"!'lh<lt\", \"!'lillion\", \"!'lir\", \"!'lllrRU~\", \"!'lu1)joct\", \"!'ly,\", \"!'m\", \"!'nO/\", \"!'new\", \"!'nili\", \"!'not\", \"!'ollhfl,\\\\·f\", \"!'or\", \"!'orce::\", \"!'orm\", \"!'ossibJ.e\", '!\\'pnl\\'l\"\\'E\\'llta·i\\\\-rs', \"!'r\", \"!'rench\", \"!'ronl\", \"!'ront,\", \"!'rosont\", \"!'substancell\", '!\\'t\"~;~:l\\'l\\'llh;in~', \"!'t::'lcved\", \"!'t;;~\", '!\\'tU\"hl', \"!'tjT~ain\", \"!'tl'f'll.o:!11\", \"!'w\", \"!'}~-~tion~lists,\", \"!'~!:::~~::..:-.:e\", \"!'~'::::lb:::,:t'\", \"!'~'JI\", '!\\'~.!.\\':\"::;', \"!'~:-JOrt\", \"!'~:~ol\", \"!'~I\", \"!'~levc.n't\", \"!'~~)\", \"!'~~1y\", \"!'·:'\\\\1~[\", \"!'·:::i'eJ:'}.'2ct\", \"!'·JFLSV's\", \"!'·_~~.,:!'lC9\", '!\\'·eclllil\\'\"\")2', \"!'·lS\", \"!'·rP.AG/Phnom\", \"!'€)Ji).oved\", '!(!l()', '!()', '!(,OTe', '!(:SE.', \"!([:LEt-a:!.'y\", '!(j', '!(sy', \"!)''-'2{\", \"!)'2:'\", \"!)'J\", '!)(ECUTlVE', '!),', \"!),)C:C'RIl·:E\", '!),;C-0', '!),Lj-llOOI1.', '!)-JcG,', '!)..:1r', '!).9J.}.\"', '!)011cy', \"!)1'\\\\):\", '!)1-1O~ld', '!)2:~\\\\:;!', '!)3.:,..', '!):', \"!):':'O(;'l'arn\", '!):)0TI.', '!):-;..', '!):;:-\"~:;L;', '!):rovince', \"!);!!'()'f'J'\", \"!)C>-_'Leloping\", '!)F~E[J', '!)G', '!)HV', '!)I\"\\'V(\"lt', '!)J.', '!)Togress', \"!)Ur-'!~:0\", '!)V3', '!)X·', '!)c:cj:', '!)cnt', '!)e:h~er-:\":.tt2:::k', '!)f', '!)hases', \"!)i'j~;~:3!1::\", \"!)i:'ec1:or\", \"!)l'o()leFls\", '!)l.~', '!)lan', \"!)l~~'j[-\", '!)oints', '!)r.;y~)', \"!)r2S~:::-'I.\", '!)s:V', '!)t', \"!)t:J.'CC3\", '!)ubst', \"!)~:I.l·~'\", '!)~n~ngth', '!+,', '!,!\"i', \"!,!''j\", \"!,!.:'i\", '!,!2yely', '!,!C', '!,!C,ECTO', '!,!hom', '!,!lembcrs', '!,\",', \"!,',O\", \"!,'.,\", \"!,'J~\", \"!,'OHrlllllrd\", \"!,'iH\", '!,()', '!,(17l', '!,)', '!,,!Ig', \"!,,'\", \"!,,';;;'\", '!,,-~~', \"!,,::c'':.!c:'!.c:1\", '!,,\\\\\\\\,1', \"!,-.'i5[:\", '!,-.J', '!,-:;.', '!,-;', '!,-L', '!,-·:~;og.-r£:--.', '!,.', '!,.\\'1\\':\\'!\"\"t:ese', '!,.,', '!,..,', '!,..,i', '!,..,t.,t\"', '!,...a', '!,0.~~~~!', '!,0pr', '!,1', '!,10St', '!,:', '!,::.', '!,:A.A.G', '!,:ORD.', '!,:inh', '!,:nrch', '!,:~lcs', '!,:~or~', '!,;3~ing', '!,;icl·~J', '!,;in;l', '!,I2C', '!,O~_8', \"!,P.g)J'il8\", '!,Uc~', \"!,Unjstel'\", '!,YLSV', '!,\\\\', '!,\\\\rell,', '!,_.', '!,are', \"!,dvisel's\", '!,fJ', '!,illO', '!,j', '!,lay', '!,lelp', '!,len', '!,llcnt.;.s', '!,lolicies', '!,l~', \"!,n~r~~'.~~.~\", '!,o!\"ttc\\'.lle.:!\\'ly', '!,rea!ly', '!,rocr8.rH', '!,unister', '!,~', '!,~.!', '!,~ast.', '!,~e3.si.1.res', '!-!', '!-!ajesty', '!-!lUl)v·.)1\"', '!-!~', '!-\"', '!-\">:fo~1osal', '!-\"J.<,·,.<l_', '!-\"T', '!-\"tlS', \"!-'!'ench\", \"!-')\", '!-\\'P-t?:l:\",,\\'', \"!-'iinh\", '!-)', \"!-):.'::\", '!-,:,;', '!-,Iarcovich', '!-,~', '!--,', '!--,c\"', '!-----', '!---ii', \"!--.'\", '!--.---.', '!--...', \"!--;'\", '!--Uy', '!-.', \"!-.',\", '!-..', '!-....', '!-.....', '!-.1.p', \"!-.JC~;':'':,~\", '!-.j', '!-.~au', '!-18.1aya', '!-1:0re', '!-1arch', '!-:', '!-:!', '!-:!8::1t,', '!-:.c:-~', '!-::', '!-:\\\\', '!-:l', '!-:ot', '!-:~)tio!].s', '!-:~C~>T', '!-;o.', '!-;t', '!-;~)t;', '!-<...', '!->hall', '!-I', '!-I,,,\",\\'', \"!-I-'''~\", '!-Ic~:~::', '!-J,', '!-J..l.', '!-Jll', '!-U', '!-\\\\.Cl', '!-\\\\.cccunt', '!-\\\\4.\\\\<t', '!-\\\\CTIOrJ', '!-erri', '!-e}', '!-finn', '!-h.e~~', '!-i', '!-i.)', \"!-ic~~e.r.l'J.r~!\", '!-if,S', '!-iissicn:', '!-ir.', '!-l', '!-lany', '!-lipj1', '!-lission', '!-lor', '!-lovem.ent', '!-rill', '!-ti::~l', '!-}', '!-~\"', '!-~)', '!-~-', '!-~.-:~:)', \"!-~.D~;')\", '!-~1', '!-~7', '!-~:::;~~', '!-~ay', '!-~·~(t~t.tr~~~', \"!.!'\", '!.!.', '!.!..', '!.!.ad', '!.!1', \"!.!:el1PI';11!y\", '!.!ay,', '!.!l\\\\\\\\?', '!.!onth', \"!.!r!':-::\", '!.!ro', '!.\"!\"\\'.tion', '!.\",', '!.\"egal\\'llE:ss', \"!.'!CULD\", '!.\\'\"L-..', \"!.'.2\", \"!.'.;\", \"!.'::\", \"!.':ie10ut\", \"!.'?\", '!.\\'C::C~\"\\'\\'\\'\\'p\\'\\':·\\'\\'\\'e', \"!.'eleases\", \"!.'ll1\", '!.(:I', '!.)', '!.)!:', '!.).,', '!.,!.', '!.,.', '!.,l)', \"!.-'-...\", \"!.-,'\", \"!.--·I-'\", '!.-.-\\xad,', '!.-:;\"', \"!.-I':·\", '!.-J', '!.-J}~', '!.-qRIVED', '!..!.\\':\"', '!..\",.!', \"!..&L'.'{\", '!..\\'\"1', \"!..'-......\", \"!..'~.}~2,,~:''',~:~:''\", '!..)', \"!..-':)\", \"!..-\\\\'j\", \"!..-_t:;;\\\\',\", '!..-l\"', '!...........', '!.....................', '!.....L-.', '!....;', '!...1_', '!...O:l', '!...be', '!...v\\\\,,', '!../)', '!..:.t,....:..:!..:,..:', '!..:;()(::\"i', '!..:Cs', '!..:nb\"\\'ss(lCi.o:r', '!..;_LOll', '!..C', \"!..J.'\", '!..\\\\;..:::!J-', '!..den', '!..l.L.\\\\', '!..li.11:\\\\.0::.l', '!..l~it~{,', '!..mbassador', '!..~~', '!..~~\".;.:B', '!..·i1id', \"!.1'.:,\", '!.1.:', '!.1.:3fic1', '!.111i·~~.~~.:r', '!.1I)O:-:~', '!.1alntalnr', '!.1anila', '!.1ever:!ent', '!.1i3', '!.1ilitary', '!.1~1\";.:116cn1cllts', '!.2ve', '!.5', \"!.:'-',\", '!.:(;S8~2.~-:e8', '!.:-.::l', '!.:.', '!.:.,~', '!.:...', '!.:..I.:-~c.:', '!.::', \"!.::.ro.l·I:'\", '!.:::', '!.::t~11t', '!.::~', '!.:<\"lcli~1.i·', '!.:E', '!.:\\\\', '!.:eans', \"!.:osco':r,\", '!.:q.', '!.;', '!.;.', '!.;.~l', '!.=~-;.i', '!.>', '!.C:\\\\~iics', '!.I', '!.I:..LS', '!.J.5', \"!.J.:..',)\", '!.J.tf\"~u.gh', '!.J/,', '!.J_', \"!.J_.\\\\....!!v.)'.-:._\", '!.Jould', '!.L', '!.O/S', '!.S52::10!/', '!.V', '!.\\\\', \"!.\\\\::~(:1'~·~d.\", '!.\\\\iJ.e~ic?\",r~', '!.\\\\un', '!.].', '!._', \"!._'-..\", '!._t,', '!.atin', '!.c-;', '!.e', '!.el', \"!.f'\", \"!.fl'l\", '!.f··c', '!.h.o~il:.c', '!.i-·c~7', '!.i:s', '!.iission', '!.i~J.C3J.', '!.j', '!.l!', \"!.l).1l:'.\", \"!.l.,...,Jr·jr'J\", '!.lay', '!.le', '!.lilit~ry', '!.lost', '!.loti.l', '!.lt.:', '!.mba.s~8dor', '!.md', '!.mprC\\'lEJ\"', '!.n', '!.ncre!::.se~', '!.ne', '!.o', '!.o!\"\\'\"', '!.q', '!.r..', '!.r;!(;ce', '!.r\\\\)G', '!.t.~-\\\\~~f)', '!.t_', '!.trolling', '!.u', '!.vably', '!.vc~', '!.vi,', '!.vi.:', '!.{£~ivc.', '!.}~J', \"!.~'\", \"!.~':'..dTnR\", '!.~,,>,-\"1p', '!.~:', \"!.~LlPP')]'tJ\", '!.~L~ict', '!.~PJ2_.r:(L_-:\"\",', '!.~_I', '!.~_vu_', '!.~c~', '!.~~', '!.~·~:<j~.;.', '!.·,Ic', '!.·:ith', '!.·Cc:2.y', '!.·in', \"!/'(A\", '!/.W', '!/;:i..', '!/fJ(&({))', '!/~cifjc', \"!0'os'ow\", '!0.2.', '!1\"!1Ul~lEt.', \"!1'\", \"!1'''Ol':\", \"!1':'i1ilfl.\", \"!1'Ce:3\", \"!1'J.3\", '!1()', \"!1(;';;\", '!1)', \"!1)3'\", '!1,:FU:1', '!1-9vt)', '!1.1ij', '!1.3:5_', '!1.;.lS', '!1.JJ.d', '!1.S', '!1.b~ut', '!1.nd', '!1/', \"!10'~\", '!101rJct~,:;d~;', '!107J(!', '!10[lT-', '!10\\\\i', '!10t', '!10~t', \"!11..'r,l0l):rS\", '!11I.::;.t1oml', '!11\\\\lS~', \"!11i..lltol'}\", '!11~.~_.?', '!12.ve', '!122.:C', '!18.cl.', '!18b.', '!19.tiO:::-:.l', '!1::1t11(,l\"E\\'f1', '!1:J', '!1:eril', '!1C', '!1Cn.', '!1Concept', '!1ENT', '!1Lmist.', '!1O', '!1Prospects', '!1Young', '!1_G.~re', \"!1a'-:t~\", '!1a.S', '!1aVC', '!1arch', '!1ate', '!1brin.gi)lg', \"!1c'\\\\vC!\", '!1c-.!.:.1', '!1cts', '!1dramatic', '!1e']\n"
     ]
    }
   ],
   "source": [
    "single = sorted([item for item in count_dict.keys() if count_dict[item] ==1 ])\n",
    "print(single[:1000])"
   ]
  },
  {
   "cell_type": "code",
   "execution_count": 6,
   "id": "e5f201e5",
   "metadata": {
    "execution": {
     "iopub.execute_input": "2024-01-23T21:59:25.956885Z",
     "iopub.status.busy": "2024-01-23T21:59:25.956022Z",
     "iopub.status.idle": "2024-01-23T21:59:27.173330Z",
     "shell.execute_reply": "2024-01-23T21:59:27.171185Z"
    },
    "papermill": {
     "duration": 1.227758,
     "end_time": "2024-01-23T21:59:27.177638",
     "exception": false,
     "start_time": "2024-01-23T21:59:25.949880",
     "status": "completed"
    },
    "tags": []
   },
   "outputs": [
    {
     "name": "stdout",
     "output_type": "stream",
     "text": [
      "clean done in 0:00:01.080521\n"
     ]
    }
   ],
   "source": [
    "from arrow import now\n",
    "\n",
    "single_set = set(single)\n",
    "\n",
    "time_start = now()\n",
    "df['clean'] = df['text'].apply(func=lambda x: ' '.join([piece for piece in x.split() if piece not in single_set]))\n",
    "print('clean done in {}'.format(now() - time_start))"
   ]
  },
  {
   "cell_type": "code",
   "execution_count": 7,
   "id": "9a763fc4",
   "metadata": {
    "execution": {
     "iopub.execute_input": "2024-01-23T21:59:27.193728Z",
     "iopub.status.busy": "2024-01-23T21:59:27.192985Z",
     "iopub.status.idle": "2024-01-23T21:59:27.210856Z",
     "shell.execute_reply": "2024-01-23T21:59:27.209727Z"
    },
    "papermill": {
     "duration": 0.03491,
     "end_time": "2024-01-23T21:59:27.220630",
     "exception": false,
     "start_time": "2024-01-23T21:59:27.185720",
     "status": "completed"
    },
    "tags": []
   },
   "outputs": [
    {
     "data": {
      "text/html": [
       "<div>\n",
       "<style scoped>\n",
       "    .dataframe tbody tr th:only-of-type {\n",
       "        vertical-align: middle;\n",
       "    }\n",
       "\n",
       "    .dataframe tbody tr th {\n",
       "        vertical-align: top;\n",
       "    }\n",
       "\n",
       "    .dataframe thead th {\n",
       "        text-align: right;\n",
       "    }\n",
       "</style>\n",
       "<table border=\"1\" class=\"dataframe\">\n",
       "  <thead>\n",
       "    <tr style=\"text-align: right;\">\n",
       "      <th></th>\n",
       "      <th>file</th>\n",
       "      <th>page</th>\n",
       "      <th>text</th>\n",
       "      <th>clean</th>\n",
       "    </tr>\n",
       "  </thead>\n",
       "  <tbody>\n",
       "    <tr>\n",
       "      <th>0</th>\n",
       "      <td>Pentagon-Papers-Index.pdf</td>\n",
       "      <td>0</td>\n",
       "      <td>.. Declassified per Executive Order 13526, Sec...</td>\n",
       "      <td>.. Declassified per Executive Order 13526, Sec...</td>\n",
       "    </tr>\n",
       "    <tr>\n",
       "      <th>1</th>\n",
       "      <td>Pentagon-Papers-Index.pdf</td>\n",
       "      <td>1</td>\n",
       "      <td>TLE \\nF&lt;HM \\nRTC \\nJC \\n[J \\n[J Declassified p...</td>\n",
       "      <td>JC [J [J Declassified per Executive Order 1352...</td>\n",
       "    </tr>\n",
       "    <tr>\n",
       "      <th>2</th>\n",
       "      <td>Pentagon-Papers-Index.pdf</td>\n",
       "      <td>2</td>\n",
       "      <td>Declassified per Executive Order 13526, Sectio...</td>\n",
       "      <td>Declassified per Executive Order 13526, Sectio...</td>\n",
       "    </tr>\n",
       "    <tr>\n",
       "      <th>3</th>\n",
       "      <td>Pentagon-Papers-Index.pdf</td>\n",
       "      <td>3</td>\n",
       "      <td>Declassified per Executive Order 13526, Sectio...</td>\n",
       "      <td>Declassified per Executive Order 13526, Sectio...</td>\n",
       "    </tr>\n",
       "    <tr>\n",
       "      <th>4</th>\n",
       "      <td>Pentagon-Papers-Index.pdf</td>\n",
       "      <td>4</td>\n",
       "      <td>Declassified per Executive Order 13526, Sectio...</td>\n",
       "      <td>Declassified per Executive Order 13526, Sectio...</td>\n",
       "    </tr>\n",
       "  </tbody>\n",
       "</table>\n",
       "</div>"
      ],
      "text/plain": [
       "                        file  page  \\\n",
       "0  Pentagon-Papers-Index.pdf     0   \n",
       "1  Pentagon-Papers-Index.pdf     1   \n",
       "2  Pentagon-Papers-Index.pdf     2   \n",
       "3  Pentagon-Papers-Index.pdf     3   \n",
       "4  Pentagon-Papers-Index.pdf     4   \n",
       "\n",
       "                                                text  \\\n",
       "0  .. Declassified per Executive Order 13526, Sec...   \n",
       "1  TLE \\nF<HM \\nRTC \\nJC \\n[J \\n[J Declassified p...   \n",
       "2  Declassified per Executive Order 13526, Sectio...   \n",
       "3  Declassified per Executive Order 13526, Sectio...   \n",
       "4  Declassified per Executive Order 13526, Sectio...   \n",
       "\n",
       "                                               clean  \n",
       "0  .. Declassified per Executive Order 13526, Sec...  \n",
       "1  JC [J [J Declassified per Executive Order 1352...  \n",
       "2  Declassified per Executive Order 13526, Sectio...  \n",
       "3  Declassified per Executive Order 13526, Sectio...  \n",
       "4  Declassified per Executive Order 13526, Sectio...  "
      ]
     },
     "execution_count": 7,
     "metadata": {},
     "output_type": "execute_result"
    }
   ],
   "source": [
    "df.head()"
   ]
  }
 ],
 "metadata": {
  "kaggle": {
   "accelerator": "none",
   "dataSources": [
    {
     "datasetId": 4341607,
     "sourceId": 7458872,
     "sourceType": "datasetVersion"
    }
   ],
   "dockerImageVersionId": 30635,
   "isGpuEnabled": false,
   "isInternetEnabled": true,
   "language": "python",
   "sourceType": "notebook"
  },
  "kernelspec": {
   "display_name": "Python 3",
   "language": "python",
   "name": "python3"
  },
  "language_info": {
   "codemirror_mode": {
    "name": "ipython",
    "version": 3
   },
   "file_extension": ".py",
   "mimetype": "text/x-python",
   "name": "python",
   "nbconvert_exporter": "python",
   "pygments_lexer": "ipython3",
   "version": "3.10.12"
  },
  "papermill": {
   "default_parameters": {},
   "duration": 9.284222,
   "end_time": "2024-01-23T21:59:27.957393",
   "environment_variables": {},
   "exception": null,
   "input_path": "__notebook__.ipynb",
   "output_path": "__notebook__.ipynb",
   "parameters": {},
   "start_time": "2024-01-23T21:59:18.673171",
   "version": "2.4.0"
  }
 },
 "nbformat": 4,
 "nbformat_minor": 5
}
