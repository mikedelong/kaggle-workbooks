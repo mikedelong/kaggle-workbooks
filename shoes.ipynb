{
 "cells": [
  {
   "cell_type": "code",
   "execution_count": 1,
   "id": "db957688",
   "metadata": {
    "_cell_guid": "b1076dfc-b9ad-4769-8c92-a6c4dae69d19",
    "_uuid": "8f2839f25d086af736a60e9eeb907d3b93b6e0e5",
    "execution": {
     "iopub.execute_input": "2024-11-10T19:07:47.282979Z",
     "iopub.status.busy": "2024-11-10T19:07:47.282568Z",
     "iopub.status.idle": "2024-11-10T19:07:48.254725Z",
     "shell.execute_reply": "2024-11-10T19:07:48.253635Z"
    },
    "papermill": {
     "duration": 0.980232,
     "end_time": "2024-11-10T19:07:48.257738",
     "exception": false,
     "start_time": "2024-11-10T19:07:47.277506",
     "status": "completed"
    },
    "tags": []
   },
   "outputs": [
    {
     "data": {
      "text/html": [
       "<div>\n",
       "<style scoped>\n",
       "    .dataframe tbody tr th:only-of-type {\n",
       "        vertical-align: middle;\n",
       "    }\n",
       "\n",
       "    .dataframe tbody tr th {\n",
       "        vertical-align: top;\n",
       "    }\n",
       "\n",
       "    .dataframe thead th {\n",
       "        text-align: right;\n",
       "    }\n",
       "</style>\n",
       "<table border=\"1\" class=\"dataframe\">\n",
       "  <thead>\n",
       "    <tr style=\"text-align: right;\">\n",
       "      <th></th>\n",
       "      <th>product_name</th>\n",
       "      <th>reviewer_name</th>\n",
       "      <th>review_title</th>\n",
       "      <th>review_text</th>\n",
       "      <th>review_rating</th>\n",
       "      <th>verified_purchase</th>\n",
       "      <th>review_date</th>\n",
       "      <th>helpful_count</th>\n",
       "      <th>scraped_at</th>\n",
       "    </tr>\n",
       "  </thead>\n",
       "  <tbody>\n",
       "    <tr>\n",
       "      <th>0</th>\n",
       "      <td>Klasified Women's Transparent Clear Sneaker Sh...</td>\n",
       "      <td>Jocelyn McSayles</td>\n",
       "      <td>Love em</td>\n",
       "      <td>Love these. Was looking for converses and thes...</td>\n",
       "      <td>5</td>\n",
       "      <td>True</td>\n",
       "      <td>Reviewed in the United States on 2 June 2020</td>\n",
       "      <td>2 people found this helpful</td>\n",
       "      <td>2024-12-21 02:26:00</td>\n",
       "    </tr>\n",
       "    <tr>\n",
       "      <th>1</th>\n",
       "      <td>Klasified Women's Transparent Clear Sneaker Sh...</td>\n",
       "      <td>Kenia Rivera</td>\n",
       "      <td>The plastic ripped</td>\n",
       "      <td>The shoes are very cute, but after the 2nd day...</td>\n",
       "      <td>2</td>\n",
       "      <td>True</td>\n",
       "      <td>Reviewed in the United States on 28 October 2021</td>\n",
       "      <td>NaN</td>\n",
       "      <td>2024-12-21 02:26:00</td>\n",
       "    </tr>\n",
       "    <tr>\n",
       "      <th>2</th>\n",
       "      <td>Klasified Women's Transparent Clear Sneaker Sh...</td>\n",
       "      <td>Chris Souza</td>\n",
       "      <td>Good quality</td>\n",
       "      <td>Good quality</td>\n",
       "      <td>5</td>\n",
       "      <td>True</td>\n",
       "      <td>Reviewed in the United States on 20 January 2021</td>\n",
       "      <td>NaN</td>\n",
       "      <td>2024-12-21 02:26:00</td>\n",
       "    </tr>\n",
       "    <tr>\n",
       "      <th>3</th>\n",
       "      <td>Klasified Women's Transparent Clear Sneaker Sh...</td>\n",
       "      <td>Amazon Customer</td>\n",
       "      <td>Good</td>\n",
       "      <td>Great</td>\n",
       "      <td>5</td>\n",
       "      <td>True</td>\n",
       "      <td>Reviewed in the United States on 22 April 2021</td>\n",
       "      <td>NaN</td>\n",
       "      <td>2024-12-21 02:26:00</td>\n",
       "    </tr>\n",
       "    <tr>\n",
       "      <th>4</th>\n",
       "      <td>GUESS Women's Bradly Gymnastics Shoe, White, 7 UK</td>\n",
       "      <td>Graziella</td>\n",
       "      <td>PERFETTE!!</td>\n",
       "      <td>Ho scelto il modello bianco con rifinitura die...</td>\n",
       "      <td>5</td>\n",
       "      <td>True</td>\n",
       "      <td>Reviewed in Italy on 2 April 2021</td>\n",
       "      <td>2 people found this helpful</td>\n",
       "      <td>2024-12-21 02:26:00</td>\n",
       "    </tr>\n",
       "  </tbody>\n",
       "</table>\n",
       "</div>"
      ],
      "text/plain": [
       "                                        product_name     reviewer_name  \\\n",
       "0  Klasified Women's Transparent Clear Sneaker Sh...  Jocelyn McSayles   \n",
       "1  Klasified Women's Transparent Clear Sneaker Sh...      Kenia Rivera   \n",
       "2  Klasified Women's Transparent Clear Sneaker Sh...       Chris Souza   \n",
       "3  Klasified Women's Transparent Clear Sneaker Sh...   Amazon Customer   \n",
       "4  GUESS Women's Bradly Gymnastics Shoe, White, 7 UK         Graziella   \n",
       "\n",
       "         review_title                                        review_text  \\\n",
       "0             Love em  Love these. Was looking for converses and thes...   \n",
       "1  The plastic ripped  The shoes are very cute, but after the 2nd day...   \n",
       "2        Good quality                                       Good quality   \n",
       "3                Good                                              Great   \n",
       "4          PERFETTE!!  Ho scelto il modello bianco con rifinitura die...   \n",
       "\n",
       "   review_rating  verified_purchase  \\\n",
       "0              5               True   \n",
       "1              2               True   \n",
       "2              5               True   \n",
       "3              5               True   \n",
       "4              5               True   \n",
       "\n",
       "                                        review_date  \\\n",
       "0      Reviewed in the United States on 2 June 2020   \n",
       "1  Reviewed in the United States on 28 October 2021   \n",
       "2  Reviewed in the United States on 20 January 2021   \n",
       "3    Reviewed in the United States on 22 April 2021   \n",
       "4                 Reviewed in Italy on 2 April 2021   \n",
       "\n",
       "                 helpful_count          scraped_at  \n",
       "0  2 people found this helpful 2024-12-21 02:26:00  \n",
       "1                          NaN 2024-12-21 02:26:00  \n",
       "2                          NaN 2024-12-21 02:26:00  \n",
       "3                          NaN 2024-12-21 02:26:00  \n",
       "4  2 people found this helpful 2024-12-21 02:26:00  "
      ]
     },
     "execution_count": 1,
     "metadata": {},
     "output_type": "execute_result"
    }
   ],
   "source": [
    "import pandas as pd\n",
    "\n",
    "DATA = '/kaggle/input/amazon-shoes-data/amazon_uk_shoes_products_dataset_2021_12.csv'\n",
    "\n",
    "df = pd.read_csv(filepath_or_buffer=DATA, ).drop(columns=['url', 'uniq_id'])\n",
    "df['scraped_at'] = '20' + df['scraped_at']\n",
    "df['scraped_at'] = pd.to_datetime(df['scraped_at'])\n",
    "df.head()"
   ]
  },
  {
   "cell_type": "code",
   "execution_count": 2,
   "id": "26849a04",
   "metadata": {
    "execution": {
     "iopub.execute_input": "2024-11-10T19:07:48.266812Z",
     "iopub.status.busy": "2024-11-10T19:07:48.266427Z",
     "iopub.status.idle": "2024-11-10T19:07:48.288170Z",
     "shell.execute_reply": "2024-11-10T19:07:48.286890Z"
    },
    "papermill": {
     "duration": 0.029048,
     "end_time": "2024-11-10T19:07:48.290372",
     "exception": false,
     "start_time": "2024-11-10T19:07:48.261324",
     "status": "completed"
    },
    "tags": []
   },
   "outputs": [
    {
     "name": "stdout",
     "output_type": "stream",
     "text": [
      "<class 'pandas.core.frame.DataFrame'>\n",
      "RangeIndex: 6823 entries, 0 to 6822\n",
      "Data columns (total 9 columns):\n",
      " #   Column             Non-Null Count  Dtype         \n",
      "---  ------             --------------  -----         \n",
      " 0   product_name       6823 non-null   object        \n",
      " 1   reviewer_name      6823 non-null   object        \n",
      " 2   review_title       6822 non-null   object        \n",
      " 3   review_text        6814 non-null   object        \n",
      " 4   review_rating      6823 non-null   int64         \n",
      " 5   verified_purchase  6823 non-null   bool          \n",
      " 6   review_date        6823 non-null   object        \n",
      " 7   helpful_count      1953 non-null   object        \n",
      " 8   scraped_at         6823 non-null   datetime64[ns]\n",
      "dtypes: bool(1), datetime64[ns](1), int64(1), object(6)\n",
      "memory usage: 433.2+ KB\n"
     ]
    }
   ],
   "source": [
    "df.info()"
   ]
  },
  {
   "cell_type": "code",
   "execution_count": 3,
   "id": "3774ed15",
   "metadata": {
    "execution": {
     "iopub.execute_input": "2024-11-10T19:07:48.298263Z",
     "iopub.status.busy": "2024-11-10T19:07:48.297846Z",
     "iopub.status.idle": "2024-11-10T19:07:48.311765Z",
     "shell.execute_reply": "2024-11-10T19:07:48.310708Z"
    },
    "papermill": {
     "duration": 0.02062,
     "end_time": "2024-11-10T19:07:48.314124",
     "exception": false,
     "start_time": "2024-11-10T19:07:48.293504",
     "status": "completed"
    },
    "tags": []
   },
   "outputs": [
    {
     "data": {
      "text/html": [
       "<div>\n",
       "<style scoped>\n",
       "    .dataframe tbody tr th:only-of-type {\n",
       "        vertical-align: middle;\n",
       "    }\n",
       "\n",
       "    .dataframe tbody tr th {\n",
       "        vertical-align: top;\n",
       "    }\n",
       "\n",
       "    .dataframe thead th {\n",
       "        text-align: right;\n",
       "    }\n",
       "</style>\n",
       "<table border=\"1\" class=\"dataframe\">\n",
       "  <thead>\n",
       "    <tr style=\"text-align: right;\">\n",
       "      <th>review_rating</th>\n",
       "      <th>5</th>\n",
       "      <th>4</th>\n",
       "      <th>1</th>\n",
       "      <th>3</th>\n",
       "      <th>2</th>\n",
       "    </tr>\n",
       "  </thead>\n",
       "  <tbody>\n",
       "    <tr>\n",
       "      <th>count</th>\n",
       "      <td>4255</td>\n",
       "      <td>917</td>\n",
       "      <td>654</td>\n",
       "      <td>605</td>\n",
       "      <td>392</td>\n",
       "    </tr>\n",
       "  </tbody>\n",
       "</table>\n",
       "</div>"
      ],
      "text/plain": [
       "review_rating     5    4    1    3    2\n",
       "count          4255  917  654  605  392"
      ]
     },
     "execution_count": 3,
     "metadata": {},
     "output_type": "execute_result"
    }
   ],
   "source": [
    "df['review_rating'].value_counts().to_frame().T"
   ]
  },
  {
   "cell_type": "markdown",
   "id": "d0b1976c",
   "metadata": {
    "papermill": {
     "duration": 0.003146,
     "end_time": "2024-11-10T19:07:48.320675",
     "exception": false,
     "start_time": "2024-11-10T19:07:48.317529",
     "status": "completed"
    },
    "tags": []
   },
   "source": [
    "Not surprisingly almost all of our ratings are 5/5."
   ]
  },
  {
   "cell_type": "code",
   "execution_count": 4,
   "id": "2a062495",
   "metadata": {
    "execution": {
     "iopub.execute_input": "2024-11-10T19:07:48.328754Z",
     "iopub.status.busy": "2024-11-10T19:07:48.328379Z",
     "iopub.status.idle": "2024-11-10T19:07:48.348356Z",
     "shell.execute_reply": "2024-11-10T19:07:48.347095Z"
    },
    "papermill": {
     "duration": 0.026992,
     "end_time": "2024-11-10T19:07:48.350861",
     "exception": false,
     "start_time": "2024-11-10T19:07:48.323869",
     "status": "completed"
    },
    "tags": []
   },
   "outputs": [
    {
     "data": {
      "text/html": [
       "<div>\n",
       "<style scoped>\n",
       "    .dataframe tbody tr th:only-of-type {\n",
       "        vertical-align: middle;\n",
       "    }\n",
       "\n",
       "    .dataframe tbody tr th {\n",
       "        vertical-align: top;\n",
       "    }\n",
       "\n",
       "    .dataframe thead th {\n",
       "        text-align: right;\n",
       "    }\n",
       "</style>\n",
       "<table border=\"1\" class=\"dataframe\">\n",
       "  <thead>\n",
       "    <tr style=\"text-align: right;\">\n",
       "      <th></th>\n",
       "      <th>scraped_at</th>\n",
       "      <th>review_rating</th>\n",
       "      <th>verified_purchase</th>\n",
       "      <th>0</th>\n",
       "    </tr>\n",
       "  </thead>\n",
       "  <tbody>\n",
       "    <tr>\n",
       "      <th>0</th>\n",
       "      <td>2024-12-21 02:26:00</td>\n",
       "      <td>1</td>\n",
       "      <td>True</td>\n",
       "      <td>148</td>\n",
       "    </tr>\n",
       "    <tr>\n",
       "      <th>1</th>\n",
       "      <td>2024-12-21 02:26:00</td>\n",
       "      <td>2</td>\n",
       "      <td>True</td>\n",
       "      <td>79</td>\n",
       "    </tr>\n",
       "    <tr>\n",
       "      <th>2</th>\n",
       "      <td>2024-12-21 02:26:00</td>\n",
       "      <td>3</td>\n",
       "      <td>True</td>\n",
       "      <td>117</td>\n",
       "    </tr>\n",
       "    <tr>\n",
       "      <th>3</th>\n",
       "      <td>2024-12-21 02:26:00</td>\n",
       "      <td>4</td>\n",
       "      <td>False</td>\n",
       "      <td>2</td>\n",
       "    </tr>\n",
       "    <tr>\n",
       "      <th>4</th>\n",
       "      <td>2024-12-21 02:26:00</td>\n",
       "      <td>4</td>\n",
       "      <td>True</td>\n",
       "      <td>170</td>\n",
       "    </tr>\n",
       "  </tbody>\n",
       "</table>\n",
       "</div>"
      ],
      "text/plain": [
       "           scraped_at  review_rating  verified_purchase    0\n",
       "0 2024-12-21 02:26:00              1               True  148\n",
       "1 2024-12-21 02:26:00              2               True   79\n",
       "2 2024-12-21 02:26:00              3               True  117\n",
       "3 2024-12-21 02:26:00              4              False    2\n",
       "4 2024-12-21 02:26:00              4               True  170"
      ]
     },
     "execution_count": 4,
     "metadata": {},
     "output_type": "execute_result"
    }
   ],
   "source": [
    "df[['scraped_at', 'review_rating', 'verified_purchase']].groupby(by=['scraped_at', 'review_rating', 'verified_purchase']).size().reset_index().head()"
   ]
  },
  {
   "cell_type": "markdown",
   "id": "070cab57",
   "metadata": {
    "papermill": {
     "duration": 0.003222,
     "end_time": "2024-11-10T19:07:48.357590",
     "exception": false,
     "start_time": "2024-11-10T19:07:48.354368",
     "status": "completed"
    },
    "tags": []
   },
   "source": [
    "We have essentially no reviews without a verified purchase,"
   ]
  },
  {
   "cell_type": "code",
   "execution_count": 5,
   "id": "36b8deee",
   "metadata": {
    "execution": {
     "iopub.execute_input": "2024-11-10T19:07:48.366084Z",
     "iopub.status.busy": "2024-11-10T19:07:48.365666Z",
     "iopub.status.idle": "2024-11-10T19:07:50.493623Z",
     "shell.execute_reply": "2024-11-10T19:07:50.492495Z"
    },
    "papermill": {
     "duration": 2.135118,
     "end_time": "2024-11-10T19:07:50.496138",
     "exception": false,
     "start_time": "2024-11-10T19:07:48.361020",
     "status": "completed"
    },
    "tags": []
   },
   "outputs": [
    {
     "data": {
      "text/plain": [
       "<Axes: xlabel='scraped_at', ylabel='review_rating'>"
      ]
     },
     "execution_count": 5,
     "metadata": {},
     "output_type": "execute_result"
    },
    {
     "data": {
      "image/png": "[encoded data removed]",
      "text/plain": [
       "<Figure size 640x480 with 1 Axes>"
      ]
     },
     "metadata": {},
     "output_type": "display_data"
    }
   ],
   "source": [
    "from seaborn import scatterplot\n",
    "\n",
    "scatterplot(data=df[['scraped_at', 'review_rating']].groupby(by=['scraped_at', 'review_rating', ]).size().reset_index(), x='scraped_at', y='review_rating', size=0)"
   ]
  },
  {
   "cell_type": "markdown",
   "id": "9d006da1",
   "metadata": {
    "papermill": {
     "duration": 0.003752,
     "end_time": "2024-11-10T19:07:50.503934",
     "exception": false,
     "start_time": "2024-11-10T19:07:50.500182",
     "status": "completed"
    },
    "tags": []
   },
   "source": [
    "We have a lot of reviews, but they were scraped with exactly four timestamps, so we don't have much of a time series."
   ]
  }
 ],
 "metadata": {
  "kaggle": {
   "accelerator": "none",
   "dataSources": [
    {
     "datasetId": 5898592,
     "sourceId": 9704818,
     "sourceType": "datasetVersion"
    }
   ],
   "dockerImageVersionId": 30786,
   "isGpuEnabled": false,
   "isInternetEnabled": true,
   "language": "python",
   "sourceType": "notebook"
  },
  "kernelspec": {
   "display_name": "Python 3",
   "language": "python",
   "name": "python3"
  },
  "language_info": {
   "codemirror_mode": {
    "name": "ipython",
    "version": 3
   },
   "file_extension": ".py",
   "mimetype": "text/x-python",
   "name": "python",
   "nbconvert_exporter": "python",
   "pygments_lexer": "ipython3",
   "version": "3.10.14"
  },
  "papermill": {
   "default_parameters": {},
   "duration": 6.567452,
   "end_time": "2024-11-10T19:07:51.129697",
   "environment_variables": {},
   "exception": null,
   "input_path": "__notebook__.ipynb",
   "output_path": "__notebook__.ipynb",
   "parameters": {},
   "start_time": "2024-11-10T19:07:44.562245",
   "version": "2.6.0"
  }
 },
 "nbformat": 4,
 "nbformat_minor": 5
}
