{
 "cells": [
  {
   "cell_type": "code",
   "execution_count": 1,
   "id": "f9d62b35",
   "metadata": {
    "_cell_guid": "b1076dfc-b9ad-4769-8c92-a6c4dae69d19",
    "_uuid": "8f2839f25d086af736a60e9eeb907d3b93b6e0e5",
    "execution": {
     "iopub.execute_input": "2024-11-10T19:30:20.266546Z",
     "iopub.status.busy": "2024-11-10T19:30:20.266055Z",
     "iopub.status.idle": "2024-11-10T19:30:21.520305Z",
     "shell.execute_reply": "2024-11-10T19:30:21.519033Z"
    },
    "papermill": {
     "duration": 1.263539,
     "end_time": "2024-11-10T19:30:21.523002",
     "exception": false,
     "start_time": "2024-11-10T19:30:20.259463",
     "status": "completed"
    },
    "tags": []
   },
   "outputs": [
    {
     "data": {
      "text/html": [
       "<div>\n",
       "<style scoped>\n",
       "    .dataframe tbody tr th:only-of-type {\n",
       "        vertical-align: middle;\n",
       "    }\n",
       "\n",
       "    .dataframe tbody tr th {\n",
       "        vertical-align: top;\n",
       "    }\n",
       "\n",
       "    .dataframe thead th {\n",
       "        text-align: right;\n",
       "    }\n",
       "</style>\n",
       "<table border=\"1\" class=\"dataframe\">\n",
       "  <thead>\n",
       "    <tr style=\"text-align: right;\">\n",
       "      <th></th>\n",
       "      <th>product_name</th>\n",
       "      <th>reviewer_name</th>\n",
       "      <th>review_title</th>\n",
       "      <th>review_text</th>\n",
       "      <th>review_rating</th>\n",
       "      <th>verified_purchase</th>\n",
       "      <th>review_date</th>\n",
       "      <th>helpful_count</th>\n",
       "      <th>scraped_at</th>\n",
       "      <th>helpful</th>\n",
       "    </tr>\n",
       "  </thead>\n",
       "  <tbody>\n",
       "    <tr>\n",
       "      <th>0</th>\n",
       "      <td>Klasified Women's Transparent Clear Sneaker Sh...</td>\n",
       "      <td>Jocelyn McSayles</td>\n",
       "      <td>Love em</td>\n",
       "      <td>Love these. Was looking for converses and thes...</td>\n",
       "      <td>5</td>\n",
       "      <td>True</td>\n",
       "      <td>Reviewed in the United States on 2 June 2020</td>\n",
       "      <td>2 people found this helpful</td>\n",
       "      <td>2024-12-21 02:26:00</td>\n",
       "      <td>2</td>\n",
       "    </tr>\n",
       "    <tr>\n",
       "      <th>1</th>\n",
       "      <td>Klasified Women's Transparent Clear Sneaker Sh...</td>\n",
       "      <td>Kenia Rivera</td>\n",
       "      <td>The plastic ripped</td>\n",
       "      <td>The shoes are very cute, but after the 2nd day...</td>\n",
       "      <td>2</td>\n",
       "      <td>True</td>\n",
       "      <td>Reviewed in the United States on 28 October 2021</td>\n",
       "      <td>0</td>\n",
       "      <td>2024-12-21 02:26:00</td>\n",
       "      <td>0</td>\n",
       "    </tr>\n",
       "    <tr>\n",
       "      <th>2</th>\n",
       "      <td>Klasified Women's Transparent Clear Sneaker Sh...</td>\n",
       "      <td>Chris Souza</td>\n",
       "      <td>Good quality</td>\n",
       "      <td>Good quality</td>\n",
       "      <td>5</td>\n",
       "      <td>True</td>\n",
       "      <td>Reviewed in the United States on 20 January 2021</td>\n",
       "      <td>0</td>\n",
       "      <td>2024-12-21 02:26:00</td>\n",
       "      <td>0</td>\n",
       "    </tr>\n",
       "    <tr>\n",
       "      <th>3</th>\n",
       "      <td>Klasified Women's Transparent Clear Sneaker Sh...</td>\n",
       "      <td>Amazon Customer</td>\n",
       "      <td>Good</td>\n",
       "      <td>Great</td>\n",
       "      <td>5</td>\n",
       "      <td>True</td>\n",
       "      <td>Reviewed in the United States on 22 April 2021</td>\n",
       "      <td>0</td>\n",
       "      <td>2024-12-21 02:26:00</td>\n",
       "      <td>0</td>\n",
       "    </tr>\n",
       "    <tr>\n",
       "      <th>4</th>\n",
       "      <td>GUESS Women's Bradly Gymnastics Shoe, White, 7 UK</td>\n",
       "      <td>Graziella</td>\n",
       "      <td>PERFETTE!!</td>\n",
       "      <td>Ho scelto il modello bianco con rifinitura die...</td>\n",
       "      <td>5</td>\n",
       "      <td>True</td>\n",
       "      <td>Reviewed in Italy on 2 April 2021</td>\n",
       "      <td>2 people found this helpful</td>\n",
       "      <td>2024-12-21 02:26:00</td>\n",
       "      <td>2</td>\n",
       "    </tr>\n",
       "  </tbody>\n",
       "</table>\n",
       "</div>"
      ],
      "text/plain": [
       "                                        product_name     reviewer_name  \\\n",
       "0  Klasified Women's Transparent Clear Sneaker Sh...  Jocelyn McSayles   \n",
       "1  Klasified Women's Transparent Clear Sneaker Sh...      Kenia Rivera   \n",
       "2  Klasified Women's Transparent Clear Sneaker Sh...       Chris Souza   \n",
       "3  Klasified Women's Transparent Clear Sneaker Sh...   Amazon Customer   \n",
       "4  GUESS Women's Bradly Gymnastics Shoe, White, 7 UK         Graziella   \n",
       "\n",
       "         review_title                                        review_text  \\\n",
       "0             Love em  Love these. Was looking for converses and thes...   \n",
       "1  The plastic ripped  The shoes are very cute, but after the 2nd day...   \n",
       "2        Good quality                                       Good quality   \n",
       "3                Good                                              Great   \n",
       "4          PERFETTE!!  Ho scelto il modello bianco con rifinitura die...   \n",
       "\n",
       "   review_rating  verified_purchase  \\\n",
       "0              5               True   \n",
       "1              2               True   \n",
       "2              5               True   \n",
       "3              5               True   \n",
       "4              5               True   \n",
       "\n",
       "                                        review_date  \\\n",
       "0      Reviewed in the United States on 2 June 2020   \n",
       "1  Reviewed in the United States on 28 October 2021   \n",
       "2  Reviewed in the United States on 20 January 2021   \n",
       "3    Reviewed in the United States on 22 April 2021   \n",
       "4                 Reviewed in Italy on 2 April 2021   \n",
       "\n",
       "                 helpful_count          scraped_at  helpful  \n",
       "0  2 people found this helpful 2024-12-21 02:26:00        2  \n",
       "1                            0 2024-12-21 02:26:00        0  \n",
       "2                            0 2024-12-21 02:26:00        0  \n",
       "3                            0 2024-12-21 02:26:00        0  \n",
       "4  2 people found this helpful 2024-12-21 02:26:00        2  "
      ]
     },
     "execution_count": 1,
     "metadata": {},
     "output_type": "execute_result"
    }
   ],
   "source": [
    "import pandas as pd\n",
    "\n",
    "DATA = '/kaggle/input/amazon-shoes-data/amazon_uk_shoes_products_dataset_2021_12.csv'\n",
    "\n",
    "def interpret(arg: str) -> int:\n",
    "    pieces = arg.split()\n",
    "    if pieces[0].isnumeric():\n",
    "        return int(pieces[0])\n",
    "    elif pieces[0] == 'One':\n",
    "        return 1\n",
    "\n",
    "df = pd.read_csv(filepath_or_buffer=DATA, ).drop(columns=['url', 'uniq_id'])\n",
    "df['scraped_at'] = '20' + df['scraped_at']\n",
    "df['scraped_at'] = pd.to_datetime(df['scraped_at'])\n",
    "df['helpful_count'] = df['helpful_count'].fillna(value=0)\n",
    "df['helpful'] = df['helpful_count'].apply(func=lambda x: x if isinstance(x, int) else interpret(x))\n",
    "df.head()"
   ]
  },
  {
   "cell_type": "code",
   "execution_count": 2,
   "id": "61f6d94e",
   "metadata": {
    "execution": {
     "iopub.execute_input": "2024-11-10T19:30:21.533762Z",
     "iopub.status.busy": "2024-11-10T19:30:21.532777Z",
     "iopub.status.idle": "2024-11-10T19:30:21.557962Z",
     "shell.execute_reply": "2024-11-10T19:30:21.556636Z"
    },
    "papermill": {
     "duration": 0.034292,
     "end_time": "2024-11-10T19:30:21.561544",
     "exception": false,
     "start_time": "2024-11-10T19:30:21.527252",
     "status": "completed"
    },
    "tags": []
   },
   "outputs": [
    {
     "name": "stdout",
     "output_type": "stream",
     "text": [
      "<class 'pandas.core.frame.DataFrame'>\n",
      "RangeIndex: 6823 entries, 0 to 6822\n",
      "Data columns (total 10 columns):\n",
      " #   Column             Non-Null Count  Dtype         \n",
      "---  ------             --------------  -----         \n",
      " 0   product_name       6823 non-null   object        \n",
      " 1   reviewer_name      6823 non-null   object        \n",
      " 2   review_title       6822 non-null   object        \n",
      " 3   review_text        6814 non-null   object        \n",
      " 4   review_rating      6823 non-null   int64         \n",
      " 5   verified_purchase  6823 non-null   bool          \n",
      " 6   review_date        6823 non-null   object        \n",
      " 7   helpful_count      6823 non-null   object        \n",
      " 8   scraped_at         6823 non-null   datetime64[ns]\n",
      " 9   helpful            6823 non-null   int64         \n",
      "dtypes: bool(1), datetime64[ns](1), int64(2), object(6)\n",
      "memory usage: 486.5+ KB\n"
     ]
    }
   ],
   "source": [
    "df.info()"
   ]
  },
  {
   "cell_type": "code",
   "execution_count": 3,
   "id": "45c43084",
   "metadata": {
    "execution": {
     "iopub.execute_input": "2024-11-10T19:30:21.572789Z",
     "iopub.status.busy": "2024-11-10T19:30:21.572187Z",
     "iopub.status.idle": "2024-11-10T19:30:21.588846Z",
     "shell.execute_reply": "2024-11-10T19:30:21.587686Z"
    },
    "papermill": {
     "duration": 0.02528,
     "end_time": "2024-11-10T19:30:21.591694",
     "exception": false,
     "start_time": "2024-11-10T19:30:21.566414",
     "status": "completed"
    },
    "tags": []
   },
   "outputs": [
    {
     "data": {
      "text/html": [
       "<div>\n",
       "<style scoped>\n",
       "    .dataframe tbody tr th:only-of-type {\n",
       "        vertical-align: middle;\n",
       "    }\n",
       "\n",
       "    .dataframe tbody tr th {\n",
       "        vertical-align: top;\n",
       "    }\n",
       "\n",
       "    .dataframe thead th {\n",
       "        text-align: right;\n",
       "    }\n",
       "</style>\n",
       "<table border=\"1\" class=\"dataframe\">\n",
       "  <thead>\n",
       "    <tr style=\"text-align: right;\">\n",
       "      <th>review_rating</th>\n",
       "      <th>5</th>\n",
       "      <th>4</th>\n",
       "      <th>1</th>\n",
       "      <th>3</th>\n",
       "      <th>2</th>\n",
       "    </tr>\n",
       "  </thead>\n",
       "  <tbody>\n",
       "    <tr>\n",
       "      <th>count</th>\n",
       "      <td>4255</td>\n",
       "      <td>917</td>\n",
       "      <td>654</td>\n",
       "      <td>605</td>\n",
       "      <td>392</td>\n",
       "    </tr>\n",
       "  </tbody>\n",
       "</table>\n",
       "</div>"
      ],
      "text/plain": [
       "review_rating     5    4    1    3    2\n",
       "count          4255  917  654  605  392"
      ]
     },
     "execution_count": 3,
     "metadata": {},
     "output_type": "execute_result"
    }
   ],
   "source": [
    "df['review_rating'].value_counts().to_frame().T"
   ]
  },
  {
   "cell_type": "markdown",
   "id": "6cb15580",
   "metadata": {
    "papermill": {
     "duration": 0.00402,
     "end_time": "2024-11-10T19:30:21.600359",
     "exception": false,
     "start_time": "2024-11-10T19:30:21.596339",
     "status": "completed"
    },
    "tags": []
   },
   "source": [
    "Not surprisingly almost all of our ratings are 5/5."
   ]
  },
  {
   "cell_type": "code",
   "execution_count": 4,
   "id": "7a768a36",
   "metadata": {
    "execution": {
     "iopub.execute_input": "2024-11-10T19:30:21.611579Z",
     "iopub.status.busy": "2024-11-10T19:30:21.610774Z",
     "iopub.status.idle": "2024-11-10T19:30:21.633433Z",
     "shell.execute_reply": "2024-11-10T19:30:21.632069Z"
    },
    "papermill": {
     "duration": 0.031401,
     "end_time": "2024-11-10T19:30:21.636204",
     "exception": false,
     "start_time": "2024-11-10T19:30:21.604803",
     "status": "completed"
    },
    "tags": []
   },
   "outputs": [
    {
     "data": {
      "text/html": [
       "<div>\n",
       "<style scoped>\n",
       "    .dataframe tbody tr th:only-of-type {\n",
       "        vertical-align: middle;\n",
       "    }\n",
       "\n",
       "    .dataframe tbody tr th {\n",
       "        vertical-align: top;\n",
       "    }\n",
       "\n",
       "    .dataframe thead th {\n",
       "        text-align: right;\n",
       "    }\n",
       "</style>\n",
       "<table border=\"1\" class=\"dataframe\">\n",
       "  <thead>\n",
       "    <tr style=\"text-align: right;\">\n",
       "      <th></th>\n",
       "      <th>scraped_at</th>\n",
       "      <th>review_rating</th>\n",
       "      <th>verified_purchase</th>\n",
       "      <th>0</th>\n",
       "    </tr>\n",
       "  </thead>\n",
       "  <tbody>\n",
       "    <tr>\n",
       "      <th>0</th>\n",
       "      <td>2024-12-21 02:26:00</td>\n",
       "      <td>1</td>\n",
       "      <td>True</td>\n",
       "      <td>148</td>\n",
       "    </tr>\n",
       "    <tr>\n",
       "      <th>1</th>\n",
       "      <td>2024-12-21 02:26:00</td>\n",
       "      <td>2</td>\n",
       "      <td>True</td>\n",
       "      <td>79</td>\n",
       "    </tr>\n",
       "    <tr>\n",
       "      <th>2</th>\n",
       "      <td>2024-12-21 02:26:00</td>\n",
       "      <td>3</td>\n",
       "      <td>True</td>\n",
       "      <td>117</td>\n",
       "    </tr>\n",
       "    <tr>\n",
       "      <th>3</th>\n",
       "      <td>2024-12-21 02:26:00</td>\n",
       "      <td>4</td>\n",
       "      <td>False</td>\n",
       "      <td>2</td>\n",
       "    </tr>\n",
       "    <tr>\n",
       "      <th>4</th>\n",
       "      <td>2024-12-21 02:26:00</td>\n",
       "      <td>4</td>\n",
       "      <td>True</td>\n",
       "      <td>170</td>\n",
       "    </tr>\n",
       "  </tbody>\n",
       "</table>\n",
       "</div>"
      ],
      "text/plain": [
       "           scraped_at  review_rating  verified_purchase    0\n",
       "0 2024-12-21 02:26:00              1               True  148\n",
       "1 2024-12-21 02:26:00              2               True   79\n",
       "2 2024-12-21 02:26:00              3               True  117\n",
       "3 2024-12-21 02:26:00              4              False    2\n",
       "4 2024-12-21 02:26:00              4               True  170"
      ]
     },
     "execution_count": 4,
     "metadata": {},
     "output_type": "execute_result"
    }
   ],
   "source": [
    "df[['scraped_at', 'review_rating', 'verified_purchase']].groupby(by=['scraped_at', 'review_rating', 'verified_purchase']).size().reset_index().head()"
   ]
  },
  {
   "cell_type": "markdown",
   "id": "039bba55",
   "metadata": {
    "papermill": {
     "duration": 0.004656,
     "end_time": "2024-11-10T19:30:21.646047",
     "exception": false,
     "start_time": "2024-11-10T19:30:21.641391",
     "status": "completed"
    },
    "tags": []
   },
   "source": [
    "We have essentially no reviews without a verified purchase,"
   ]
  },
  {
   "cell_type": "code",
   "execution_count": 5,
   "id": "3102d180",
   "metadata": {
    "execution": {
     "iopub.execute_input": "2024-11-10T19:30:21.658305Z",
     "iopub.status.busy": "2024-11-10T19:30:21.657221Z",
     "iopub.status.idle": "2024-11-10T19:30:24.616465Z",
     "shell.execute_reply": "2024-11-10T19:30:24.615078Z"
    },
    "papermill": {
     "duration": 2.968533,
     "end_time": "2024-11-10T19:30:24.619519",
     "exception": false,
     "start_time": "2024-11-10T19:30:21.650986",
     "status": "completed"
    },
    "tags": []
   },
   "outputs": [
    {
     "data": {
      "text/plain": [
       "<Axes: xlabel='scraped_at', ylabel='review_rating'>"
      ]
     },
     "execution_count": 5,
     "metadata": {},
     "output_type": "execute_result"
    },
    {
     "data": {
      "image/png": "[encoded data removed]",
      "text/plain": [
       "<Figure size 640x480 with 1 Axes>"
      ]
     },
     "metadata": {},
     "output_type": "display_data"
    }
   ],
   "source": [
    "from seaborn import scatterplot\n",
    "\n",
    "scatterplot(data=df[['scraped_at', 'review_rating']].groupby(by=['scraped_at', 'review_rating', ]).size().reset_index(), x='scraped_at', y='review_rating', size=0)"
   ]
  },
  {
   "cell_type": "markdown",
   "id": "f95934f7",
   "metadata": {
    "papermill": {
     "duration": 0.004762,
     "end_time": "2024-11-10T19:30:24.629601",
     "exception": false,
     "start_time": "2024-11-10T19:30:24.624839",
     "status": "completed"
    },
    "tags": []
   },
   "source": [
    "We have a lot of reviews, but they were scraped with exactly four timestamps, so we don't have much of a time series."
   ]
  },
  {
   "cell_type": "code",
   "execution_count": 6,
   "id": "7ca4c637",
   "metadata": {
    "execution": {
     "iopub.execute_input": "2024-11-10T19:30:24.642940Z",
     "iopub.status.busy": "2024-11-10T19:30:24.641444Z",
     "iopub.status.idle": "2024-11-10T19:30:25.187815Z",
     "shell.execute_reply": "2024-11-10T19:30:25.186304Z"
    },
    "papermill": {
     "duration": 0.556149,
     "end_time": "2024-11-10T19:30:25.190861",
     "exception": false,
     "start_time": "2024-11-10T19:30:24.634712",
     "status": "completed"
    },
    "tags": []
   },
   "outputs": [
    {
     "data": {
      "text/plain": [
       "<Axes: xlabel='review_rating', ylabel='helpful'>"
      ]
     },
     "execution_count": 6,
     "metadata": {},
     "output_type": "execute_result"
    },
    {
     "data": {
      "image/png": "[encoded data removed]",
      "text/plain": [
       "<Figure size 640x480 with 1 Axes>"
      ]
     },
     "metadata": {},
     "output_type": "display_data"
    }
   ],
   "source": [
    "scatterplot(data=df[['review_rating', 'helpful']].groupby(by=['review_rating', 'helpful']).size().reset_index(), x='review_rating', y='helpful', size=0, )"
   ]
  },
  {
   "cell_type": "markdown",
   "id": "add09bf4",
   "metadata": {
    "papermill": {
     "duration": 0.005797,
     "end_time": "2024-11-10T19:30:25.203292",
     "exception": false,
     "start_time": "2024-11-10T19:30:25.197495",
     "status": "completed"
    },
    "tags": []
   },
   "source": [
    "Is it surprising that the most helpful reviews would be either one-start review or five-star reviews? Maybe. Outliers are hard to predict."
   ]
  }
 ],
 "metadata": {
  "kaggle": {
   "accelerator": "none",
   "dataSources": [
    {
     "datasetId": 5898592,
     "sourceId": 9704818,
     "sourceType": "datasetVersion"
    }
   ],
   "dockerImageVersionId": 30786,
   "isGpuEnabled": false,
   "isInternetEnabled": true,
   "language": "python",
   "sourceType": "notebook"
  },
  "kernelspec": {
   "display_name": "Python 3",
   "language": "python",
   "name": "python3"
  },
  "language_info": {
   "codemirror_mode": {
    "name": "ipython",
    "version": 3
   },
   "file_extension": ".py",
   "mimetype": "text/x-python",
   "name": "python",
   "nbconvert_exporter": "python",
   "pygments_lexer": "ipython3",
   "version": "3.10.14"
  },
  "papermill": {
   "default_parameters": {},
   "duration": 9.37236,
   "end_time": "2024-11-10T19:30:25.934065",
   "environment_variables": {},
   "exception": null,
   "input_path": "__notebook__.ipynb",
   "output_path": "__notebook__.ipynb",
   "parameters": {},
   "start_time": "2024-11-10T19:30:16.561705",
   "version": "2.6.0"
  }
 },
 "nbformat": 4,
 "nbformat_minor": 5
}
