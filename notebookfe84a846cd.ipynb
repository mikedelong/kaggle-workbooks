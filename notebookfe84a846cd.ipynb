{
 "cells": [
  {
   "cell_type": "code",
   "execution_count": 1,
   "id": "d1709847",
   "metadata": {
    "execution": {
     "iopub.execute_input": "2023-10-12T17:29:51.313970Z",
     "iopub.status.busy": "2023-10-12T17:29:51.313180Z",
     "iopub.status.idle": "2023-10-12T17:29:51.774236Z",
     "shell.execute_reply": "2023-10-12T17:29:51.772787Z"
    },
    "papermill": {
     "duration": 0.470937,
     "end_time": "2023-10-12T17:29:51.776596",
     "exception": false,
     "start_time": "2023-10-12T17:29:51.305659",
     "status": "completed"
    },
    "tags": []
   },
   "outputs": [
    {
     "data": {
      "text/html": [
       "<div>\n",
       "<style scoped>\n",
       "    .dataframe tbody tr th:only-of-type {\n",
       "        vertical-align: middle;\n",
       "    }\n",
       "\n",
       "    .dataframe tbody tr th {\n",
       "        vertical-align: top;\n",
       "    }\n",
       "\n",
       "    .dataframe thead th {\n",
       "        text-align: right;\n",
       "    }\n",
       "</style>\n",
       "<table border=\"1\" class=\"dataframe\">\n",
       "  <thead>\n",
       "    <tr style=\"text-align: right;\">\n",
       "      <th></th>\n",
       "      <th>state</th>\n",
       "      <th>state_abr</th>\n",
       "      <th>trump_pct</th>\n",
       "      <th>biden_pct</th>\n",
       "      <th>trump_vote</th>\n",
       "      <th>biden_vote</th>\n",
       "      <th>trump_win</th>\n",
       "      <th>biden_win</th>\n",
       "    </tr>\n",
       "  </thead>\n",
       "  <tbody>\n",
       "    <tr>\n",
       "      <th>0</th>\n",
       "      <td>Alaska</td>\n",
       "      <td>AK</td>\n",
       "      <td>53.1</td>\n",
       "      <td>43.0</td>\n",
       "      <td>189543</td>\n",
       "      <td>153502</td>\n",
       "      <td>1</td>\n",
       "      <td>0</td>\n",
       "    </tr>\n",
       "    <tr>\n",
       "      <th>1</th>\n",
       "      <td>Hawaii</td>\n",
       "      <td>HI</td>\n",
       "      <td>34.3</td>\n",
       "      <td>63.7</td>\n",
       "      <td>196864</td>\n",
       "      <td>366130</td>\n",
       "      <td>0</td>\n",
       "      <td>1</td>\n",
       "    </tr>\n",
       "    <tr>\n",
       "      <th>2</th>\n",
       "      <td>Washington</td>\n",
       "      <td>WA</td>\n",
       "      <td>39.0</td>\n",
       "      <td>58.4</td>\n",
       "      <td>1584651</td>\n",
       "      <td>2369612</td>\n",
       "      <td>0</td>\n",
       "      <td>1</td>\n",
       "    </tr>\n",
       "    <tr>\n",
       "      <th>3</th>\n",
       "      <td>Oregon</td>\n",
       "      <td>OR</td>\n",
       "      <td>40.7</td>\n",
       "      <td>56.9</td>\n",
       "      <td>958448</td>\n",
       "      <td>1340383</td>\n",
       "      <td>0</td>\n",
       "      <td>1</td>\n",
       "    </tr>\n",
       "    <tr>\n",
       "      <th>4</th>\n",
       "      <td>California</td>\n",
       "      <td>CA</td>\n",
       "      <td>34.3</td>\n",
       "      <td>63.5</td>\n",
       "      <td>5982194</td>\n",
       "      <td>11082293</td>\n",
       "      <td>0</td>\n",
       "      <td>1</td>\n",
       "    </tr>\n",
       "  </tbody>\n",
       "</table>\n",
       "</div>"
      ],
      "text/plain": [
       "        state state_abr  trump_pct  biden_pct  trump_vote  biden_vote  \\\n",
       "0      Alaska        AK       53.1       43.0      189543      153502   \n",
       "1      Hawaii        HI       34.3       63.7      196864      366130   \n",
       "2  Washington        WA       39.0       58.4     1584651     2369612   \n",
       "3      Oregon        OR       40.7       56.9      958448     1340383   \n",
       "4  California        CA       34.3       63.5     5982194    11082293   \n",
       "\n",
       "   trump_win  biden_win  \n",
       "0          1          0  \n",
       "1          0          1  \n",
       "2          0          1  \n",
       "3          0          1  \n",
       "4          0          1  "
      ]
     },
     "execution_count": 1,
     "metadata": {},
     "output_type": "execute_result"
    }
   ],
   "source": [
    "import pandas as pd\n",
    "voting_df = pd.read_csv(filepath_or_buffer='/kaggle/input/2020-us-presidential-election-results-by-state/voting.csv')\n",
    "voting_df.head(n=5)"
   ]
  },
  {
   "cell_type": "code",
   "execution_count": 2,
   "id": "d343a5c5",
   "metadata": {
    "execution": {
     "iopub.execute_input": "2023-10-12T17:29:51.787886Z",
     "iopub.status.busy": "2023-10-12T17:29:51.787465Z",
     "iopub.status.idle": "2023-10-12T17:29:51.810160Z",
     "shell.execute_reply": "2023-10-12T17:29:51.809360Z"
    },
    "papermill": {
     "duration": 0.029265,
     "end_time": "2023-10-12T17:29:51.812051",
     "exception": false,
     "start_time": "2023-10-12T17:29:51.782786",
     "status": "completed"
    },
    "tags": []
   },
   "outputs": [
    {
     "data": {
      "text/html": [
       "<div>\n",
       "<style scoped>\n",
       "    .dataframe tbody tr th:only-of-type {\n",
       "        vertical-align: middle;\n",
       "    }\n",
       "\n",
       "    .dataframe tbody tr th {\n",
       "        vertical-align: top;\n",
       "    }\n",
       "\n",
       "    .dataframe thead th {\n",
       "        text-align: right;\n",
       "    }\n",
       "</style>\n",
       "<table border=\"1\" class=\"dataframe\">\n",
       "  <thead>\n",
       "    <tr style=\"text-align: right;\">\n",
       "      <th></th>\n",
       "      <th>Year</th>\n",
       "      <th>State</th>\n",
       "      <th>Votes</th>\n",
       "    </tr>\n",
       "  </thead>\n",
       "  <tbody>\n",
       "    <tr>\n",
       "      <th>0</th>\n",
       "      <td>1788</td>\n",
       "      <td>Alabama</td>\n",
       "      <td>NaN</td>\n",
       "    </tr>\n",
       "    <tr>\n",
       "      <th>1</th>\n",
       "      <td>1792</td>\n",
       "      <td>Alabama</td>\n",
       "      <td>NaN</td>\n",
       "    </tr>\n",
       "    <tr>\n",
       "      <th>2</th>\n",
       "      <td>1796</td>\n",
       "      <td>Alabama</td>\n",
       "      <td>NaN</td>\n",
       "    </tr>\n",
       "    <tr>\n",
       "      <th>3</th>\n",
       "      <td>1800</td>\n",
       "      <td>Alabama</td>\n",
       "      <td>NaN</td>\n",
       "    </tr>\n",
       "    <tr>\n",
       "      <th>4</th>\n",
       "      <td>1804</td>\n",
       "      <td>Alabama</td>\n",
       "      <td>NaN</td>\n",
       "    </tr>\n",
       "  </tbody>\n",
       "</table>\n",
       "</div>"
      ],
      "text/plain": [
       "   Year    State  Votes\n",
       "0  1788  Alabama    NaN\n",
       "1  1792  Alabama    NaN\n",
       "2  1796  Alabama    NaN\n",
       "3  1800  Alabama    NaN\n",
       "4  1804  Alabama    NaN"
      ]
     },
     "execution_count": 2,
     "metadata": {},
     "output_type": "execute_result"
    }
   ],
   "source": [
    "college_df = pd.read_csv(filepath_or_buffer='/kaggle/input/electoralcollege/Electoral_College.csv', usecols=['Year', 'State', 'Votes'])\n",
    "college_df['State'] = college_df['State'].replace(to_replace={'D.C.': 'District of Columbia'})\n",
    "college_df.head(n=5)"
   ]
  },
  {
   "cell_type": "raw",
   "id": "ead78488",
   "metadata": {
    "papermill": {
     "duration": 0.003272,
     "end_time": "2023-10-12T17:29:51.819030",
     "exception": false,
     "start_time": "2023-10-12T17:29:51.815758",
     "status": "completed"
    },
    "tags": []
   },
   "source": [
    "We are only interested in the 2020 Electoral College, so let's get that."
   ]
  },
  {
   "cell_type": "code",
   "execution_count": 3,
   "id": "17c1b38e",
   "metadata": {
    "execution": {
     "iopub.execute_input": "2023-10-12T17:29:51.828202Z",
     "iopub.status.busy": "2023-10-12T17:29:51.827729Z",
     "iopub.status.idle": "2023-10-12T17:29:51.849966Z",
     "shell.execute_reply": "2023-10-12T17:29:51.849231Z"
    },
    "papermill": {
     "duration": 0.029206,
     "end_time": "2023-10-12T17:29:51.851679",
     "exception": false,
     "start_time": "2023-10-12T17:29:51.822473",
     "status": "completed"
    },
    "tags": []
   },
   "outputs": [
    {
     "data": {
      "text/html": [
       "<div>\n",
       "<style scoped>\n",
       "    .dataframe tbody tr th:only-of-type {\n",
       "        vertical-align: middle;\n",
       "    }\n",
       "\n",
       "    .dataframe tbody tr th {\n",
       "        vertical-align: top;\n",
       "    }\n",
       "\n",
       "    .dataframe thead th {\n",
       "        text-align: right;\n",
       "    }\n",
       "</style>\n",
       "<table border=\"1\" class=\"dataframe\">\n",
       "  <thead>\n",
       "    <tr style=\"text-align: right;\">\n",
       "      <th></th>\n",
       "      <th>State</th>\n",
       "      <th>Votes</th>\n",
       "    </tr>\n",
       "  </thead>\n",
       "  <tbody>\n",
       "    <tr>\n",
       "      <th>58</th>\n",
       "      <td>Alabama</td>\n",
       "      <td>9</td>\n",
       "    </tr>\n",
       "    <tr>\n",
       "      <th>117</th>\n",
       "      <td>Alaska</td>\n",
       "      <td>3</td>\n",
       "    </tr>\n",
       "    <tr>\n",
       "      <th>176</th>\n",
       "      <td>Arizona</td>\n",
       "      <td>11</td>\n",
       "    </tr>\n",
       "    <tr>\n",
       "      <th>235</th>\n",
       "      <td>Arkansas</td>\n",
       "      <td>6</td>\n",
       "    </tr>\n",
       "    <tr>\n",
       "      <th>294</th>\n",
       "      <td>California</td>\n",
       "      <td>55</td>\n",
       "    </tr>\n",
       "  </tbody>\n",
       "</table>\n",
       "</div>"
      ],
      "text/plain": [
       "          State  Votes\n",
       "58      Alabama      9\n",
       "117      Alaska      3\n",
       "176     Arizona     11\n",
       "235    Arkansas      6\n",
       "294  California     55"
      ]
     },
     "execution_count": 3,
     "metadata": {},
     "output_type": "execute_result"
    }
   ],
   "source": [
    "ec2020_df = college_df[college_df['Year']==2020].drop(columns=['Year',]).copy()\n",
    "ec2020_df['Votes'] = ec2020_df['Votes'].astype(int)\n",
    "ec2020_df.head(n=5)"
   ]
  },
  {
   "cell_type": "code",
   "execution_count": 4,
   "id": "ffcf7e92",
   "metadata": {
    "execution": {
     "iopub.execute_input": "2023-10-12T17:29:51.861145Z",
     "iopub.status.busy": "2023-10-12T17:29:51.860484Z",
     "iopub.status.idle": "2023-10-12T17:29:51.886182Z",
     "shell.execute_reply": "2023-10-12T17:29:51.884980Z"
    },
    "papermill": {
     "duration": 0.033334,
     "end_time": "2023-10-12T17:29:51.888728",
     "exception": false,
     "start_time": "2023-10-12T17:29:51.855394",
     "status": "completed"
    },
    "tags": []
   },
   "outputs": [
    {
     "data": {
      "text/html": [
       "<div>\n",
       "<style scoped>\n",
       "    .dataframe tbody tr th:only-of-type {\n",
       "        vertical-align: middle;\n",
       "    }\n",
       "\n",
       "    .dataframe tbody tr th {\n",
       "        vertical-align: top;\n",
       "    }\n",
       "\n",
       "    .dataframe thead th {\n",
       "        text-align: right;\n",
       "    }\n",
       "</style>\n",
       "<table border=\"1\" class=\"dataframe\">\n",
       "  <thead>\n",
       "    <tr style=\"text-align: right;\">\n",
       "      <th></th>\n",
       "      <th>State</th>\n",
       "      <th>trump_win</th>\n",
       "      <th>biden_win</th>\n",
       "      <th>Votes</th>\n",
       "      <th>DEC votes</th>\n",
       "      <th>REC votes</th>\n",
       "    </tr>\n",
       "  </thead>\n",
       "  <tbody>\n",
       "    <tr>\n",
       "      <th>0</th>\n",
       "      <td>Alaska</td>\n",
       "      <td>1</td>\n",
       "      <td>0</td>\n",
       "      <td>3</td>\n",
       "      <td>0</td>\n",
       "      <td>3</td>\n",
       "    </tr>\n",
       "    <tr>\n",
       "      <th>1</th>\n",
       "      <td>Hawaii</td>\n",
       "      <td>0</td>\n",
       "      <td>1</td>\n",
       "      <td>4</td>\n",
       "      <td>4</td>\n",
       "      <td>0</td>\n",
       "    </tr>\n",
       "    <tr>\n",
       "      <th>2</th>\n",
       "      <td>Washington</td>\n",
       "      <td>0</td>\n",
       "      <td>1</td>\n",
       "      <td>12</td>\n",
       "      <td>12</td>\n",
       "      <td>0</td>\n",
       "    </tr>\n",
       "    <tr>\n",
       "      <th>3</th>\n",
       "      <td>Oregon</td>\n",
       "      <td>0</td>\n",
       "      <td>1</td>\n",
       "      <td>7</td>\n",
       "      <td>7</td>\n",
       "      <td>0</td>\n",
       "    </tr>\n",
       "    <tr>\n",
       "      <th>4</th>\n",
       "      <td>California</td>\n",
       "      <td>0</td>\n",
       "      <td>1</td>\n",
       "      <td>55</td>\n",
       "      <td>55</td>\n",
       "      <td>0</td>\n",
       "    </tr>\n",
       "  </tbody>\n",
       "</table>\n",
       "</div>"
      ],
      "text/plain": [
       "        State  trump_win  biden_win  Votes  DEC votes  REC votes\n",
       "0      Alaska          1          0      3          0          3\n",
       "1      Hawaii          0          1      4          4          0\n",
       "2  Washington          0          1     12         12          0\n",
       "3      Oregon          0          1      7          7          0\n",
       "4  California          0          1     55         55          0"
      ]
     },
     "execution_count": 4,
     "metadata": {},
     "output_type": "execute_result"
    }
   ],
   "source": [
    "result_2020_df = voting_df[['state', 'trump_win', 'biden_win']].rename(columns={'state' : 'State'}).merge(how='inner', on='State', right=ec2020_df).copy()\n",
    "result_2020_df['DEC votes'] = result_2020_df['biden_win'] * result_2020_df['Votes']\n",
    "result_2020_df['REC votes'] = result_2020_df['trump_win'] * result_2020_df['Votes']\n",
    "result_2020_df.head(n=5)"
   ]
  },
  {
   "cell_type": "markdown",
   "id": "489ef93d",
   "metadata": {
    "papermill": {
     "duration": 0.003545,
     "end_time": "2023-10-12T17:29:51.896309",
     "exception": false,
     "start_time": "2023-10-12T17:29:51.892764",
     "status": "completed"
    },
    "tags": []
   },
   "source": [
    "Now we can check the result against the historical result."
   ]
  },
  {
   "cell_type": "code",
   "execution_count": 5,
   "id": "67f07b84",
   "metadata": {
    "execution": {
     "iopub.execute_input": "2023-10-12T17:29:51.905956Z",
     "iopub.status.busy": "2023-10-12T17:29:51.904934Z",
     "iopub.status.idle": "2023-10-12T17:29:51.912940Z",
     "shell.execute_reply": "2023-10-12T17:29:51.911931Z"
    },
    "papermill": {
     "duration": 0.015015,
     "end_time": "2023-10-12T17:29:51.914841",
     "exception": false,
     "start_time": "2023-10-12T17:29:51.899826",
     "status": "completed"
    },
    "tags": []
   },
   "outputs": [
    {
     "data": {
      "text/plain": [
       "(306, 232)"
      ]
     },
     "execution_count": 5,
     "metadata": {},
     "output_type": "execute_result"
    }
   ],
   "source": [
    "result_2020_df['DEC votes'].sum(), result_2020_df['REC votes'].sum()"
   ]
  },
  {
   "cell_type": "markdown",
   "id": "e79f0df3",
   "metadata": {
    "papermill": {
     "duration": 0.003518,
     "end_time": "2023-10-12T17:29:51.922411",
     "exception": false,
     "start_time": "2023-10-12T17:29:51.918893",
     "status": "completed"
    },
    "tags": []
   },
   "source": [
    "We can introduce the changes to the Electoral College due to the 2020 Census."
   ]
  },
  {
   "cell_type": "code",
   "execution_count": 6,
   "id": "e1fb4644",
   "metadata": {
    "execution": {
     "iopub.execute_input": "2023-10-12T17:29:51.932205Z",
     "iopub.status.busy": "2023-10-12T17:29:51.931474Z",
     "iopub.status.idle": "2023-10-12T17:29:51.938135Z",
     "shell.execute_reply": "2023-10-12T17:29:51.937408Z"
    },
    "papermill": {
     "duration": 0.013747,
     "end_time": "2023-10-12T17:29:51.939852",
     "exception": false,
     "start_time": "2023-10-12T17:29:51.926105",
     "status": "completed"
    },
    "tags": []
   },
   "outputs": [
    {
     "data": {
      "text/plain": [
       "0"
      ]
     },
     "execution_count": 6,
     "metadata": {},
     "output_type": "execute_result"
    }
   ],
   "source": [
    "changes = {\n",
    "    'California': -1,\n",
    "    'Colorado': 1,\n",
    "    'Florida' : 1,\n",
    "    'Illinois': -1,\n",
    "    'Michigan': -1,\n",
    "    'Montana': 1,\n",
    "    'New York': -1,\n",
    "    'North Carolina': 1,\n",
    "    'Ohio': -1,\n",
    "    'Oregon': 1,\n",
    "    'Pennsylvania': -1,\n",
    "    'Texas': 2,\n",
    "    'West Virginia': -1\n",
    "}\n",
    "# there should be no net changes\n",
    "sum(list(changes.values()))"
   ]
  },
  {
   "cell_type": "code",
   "execution_count": 7,
   "id": "e21f81f6",
   "metadata": {
    "execution": {
     "iopub.execute_input": "2023-10-12T17:29:51.949841Z",
     "iopub.status.busy": "2023-10-12T17:29:51.949235Z",
     "iopub.status.idle": "2023-10-12T17:29:51.961985Z",
     "shell.execute_reply": "2023-10-12T17:29:51.961231Z"
    },
    "papermill": {
     "duration": 0.020337,
     "end_time": "2023-10-12T17:29:51.964148",
     "exception": false,
     "start_time": "2023-10-12T17:29:51.943811",
     "status": "completed"
    },
    "tags": []
   },
   "outputs": [
    {
     "data": {
      "text/html": [
       "<div>\n",
       "<style scoped>\n",
       "    .dataframe tbody tr th:only-of-type {\n",
       "        vertical-align: middle;\n",
       "    }\n",
       "\n",
       "    .dataframe tbody tr th {\n",
       "        vertical-align: top;\n",
       "    }\n",
       "\n",
       "    .dataframe thead th {\n",
       "        text-align: right;\n",
       "    }\n",
       "</style>\n",
       "<table border=\"1\" class=\"dataframe\">\n",
       "  <thead>\n",
       "    <tr style=\"text-align: right;\">\n",
       "      <th></th>\n",
       "      <th>State</th>\n",
       "      <th>trump_win</th>\n",
       "      <th>biden_win</th>\n",
       "      <th>Votes</th>\n",
       "    </tr>\n",
       "  </thead>\n",
       "  <tbody>\n",
       "    <tr>\n",
       "      <th>0</th>\n",
       "      <td>Alaska</td>\n",
       "      <td>1</td>\n",
       "      <td>0</td>\n",
       "      <td>3</td>\n",
       "    </tr>\n",
       "    <tr>\n",
       "      <th>1</th>\n",
       "      <td>Hawaii</td>\n",
       "      <td>0</td>\n",
       "      <td>1</td>\n",
       "      <td>4</td>\n",
       "    </tr>\n",
       "    <tr>\n",
       "      <th>2</th>\n",
       "      <td>Washington</td>\n",
       "      <td>0</td>\n",
       "      <td>1</td>\n",
       "      <td>12</td>\n",
       "    </tr>\n",
       "    <tr>\n",
       "      <th>3</th>\n",
       "      <td>Oregon</td>\n",
       "      <td>0</td>\n",
       "      <td>1</td>\n",
       "      <td>8</td>\n",
       "    </tr>\n",
       "    <tr>\n",
       "      <th>4</th>\n",
       "      <td>California</td>\n",
       "      <td>0</td>\n",
       "      <td>1</td>\n",
       "      <td>54</td>\n",
       "    </tr>\n",
       "  </tbody>\n",
       "</table>\n",
       "</div>"
      ],
      "text/plain": [
       "        State  trump_win  biden_win  Votes\n",
       "0      Alaska          1          0      3\n",
       "1      Hawaii          0          1      4\n",
       "2  Washington          0          1     12\n",
       "3      Oregon          0          1      8\n",
       "4  California          0          1     54"
      ]
     },
     "execution_count": 7,
     "metadata": {},
     "output_type": "execute_result"
    }
   ],
   "source": [
    "result_2024_df = result_2020_df.copy().drop(columns=['DEC votes', 'REC votes'])\n",
    "result_2024_df['Votes'] = result_2020_df.apply(axis=1, func=lambda x: x['Votes'] if x['State'] not in changes.keys() else x['Votes'] + changes[x['State']])\n",
    "result_2024_df.head()"
   ]
  },
  {
   "cell_type": "markdown",
   "id": "56cf4071",
   "metadata": {
    "papermill": {
     "duration": 0.00391,
     "end_time": "2023-10-12T17:29:51.972635",
     "exception": false,
     "start_time": "2023-10-12T17:29:51.968725",
     "status": "completed"
    },
    "tags": []
   },
   "source": [
    "Our base scenario is that no states flip and the only change is due to reapportionment."
   ]
  },
  {
   "cell_type": "code",
   "execution_count": 8,
   "id": "ef22cff0",
   "metadata": {
    "execution": {
     "iopub.execute_input": "2023-10-12T17:29:51.983389Z",
     "iopub.status.busy": "2023-10-12T17:29:51.982898Z",
     "iopub.status.idle": "2023-10-12T17:29:51.992873Z",
     "shell.execute_reply": "2023-10-12T17:29:51.991699Z"
    },
    "papermill": {
     "duration": 0.018062,
     "end_time": "2023-10-12T17:29:51.994891",
     "exception": false,
     "start_time": "2023-10-12T17:29:51.976829",
     "status": "completed"
    },
    "tags": []
   },
   "outputs": [
    {
     "data": {
      "text/plain": [
       "(303, 235)"
      ]
     },
     "execution_count": 8,
     "metadata": {},
     "output_type": "execute_result"
    }
   ],
   "source": [
    "result_2024_df['DEC votes'] = result_2024_df['biden_win'] * result_2024_df['Votes']\n",
    "result_2024_df['REC votes'] = result_2024_df['trump_win'] * result_2024_df['Votes']\n",
    "\n",
    "result_2024_df['DEC votes'].sum(), result_2024_df['REC votes'].sum()"
   ]
  },
  {
   "cell_type": "markdown",
   "id": "2e40ce98",
   "metadata": {
    "papermill": {
     "duration": 0.003935,
     "end_time": "2023-10-12T17:29:52.003223",
     "exception": false,
     "start_time": "2023-10-12T17:29:51.999288",
     "status": "completed"
    },
    "tags": []
   },
   "source": [
    "D 303 - 235 R is our base assumption."
   ]
  }
 ],
 "metadata": {
  "kernelspec": {
   "display_name": "Python 3",
   "language": "python",
   "name": "python3"
  },
  "language_info": {
   "codemirror_mode": {
    "name": "ipython",
    "version": 3
   },
   "file_extension": ".py",
   "mimetype": "text/x-python",
   "name": "python",
   "nbconvert_exporter": "python",
   "pygments_lexer": "ipython3",
   "version": "3.10.12"
  },
  "papermill": {
   "default_parameters": {},
   "duration": 4.696661,
   "end_time": "2023-10-12T17:29:52.630311",
   "environment_variables": {},
   "exception": null,
   "input_path": "__notebook__.ipynb",
   "output_path": "__notebook__.ipynb",
   "parameters": {},
   "start_time": "2023-10-12T17:29:47.933650",
   "version": "2.4.0"
  }
 },
 "nbformat": 4,
 "nbformat_minor": 5
}
