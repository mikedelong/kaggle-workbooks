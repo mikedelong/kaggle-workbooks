{
 "cells": [
  {
   "cell_type": "code",
   "execution_count": 1,
   "id": "9fa41d8c",
   "metadata": {
    "execution": {
     "iopub.execute_input": "2023-10-12T17:30:35.606728Z",
     "iopub.status.busy": "2023-10-12T17:30:35.605885Z",
     "iopub.status.idle": "2023-10-12T17:30:36.027740Z",
     "shell.execute_reply": "2023-10-12T17:30:36.026669Z"
    },
    "papermill": {
     "duration": 0.429872,
     "end_time": "2023-10-12T17:30:36.030212",
     "exception": false,
     "start_time": "2023-10-12T17:30:35.600340",
     "status": "completed"
    },
    "tags": []
   },
   "outputs": [
    {
     "data": {
      "text/html": [
       "<div>\n",
       "<style scoped>\n",
       "    .dataframe tbody tr th:only-of-type {\n",
       "        vertical-align: middle;\n",
       "    }\n",
       "\n",
       "    .dataframe tbody tr th {\n",
       "        vertical-align: top;\n",
       "    }\n",
       "\n",
       "    .dataframe thead th {\n",
       "        text-align: right;\n",
       "    }\n",
       "</style>\n",
       "<table border=\"1\" class=\"dataframe\">\n",
       "  <thead>\n",
       "    <tr style=\"text-align: right;\">\n",
       "      <th></th>\n",
       "      <th>state</th>\n",
       "      <th>state_abr</th>\n",
       "      <th>trump_pct</th>\n",
       "      <th>biden_pct</th>\n",
       "      <th>trump_vote</th>\n",
       "      <th>biden_vote</th>\n",
       "      <th>trump_win</th>\n",
       "      <th>biden_win</th>\n",
       "    </tr>\n",
       "  </thead>\n",
       "  <tbody>\n",
       "    <tr>\n",
       "      <th>0</th>\n",
       "      <td>Alaska</td>\n",
       "      <td>AK</td>\n",
       "      <td>53.1</td>\n",
       "      <td>43.0</td>\n",
       "      <td>189543</td>\n",
       "      <td>153502</td>\n",
       "      <td>1</td>\n",
       "      <td>0</td>\n",
       "    </tr>\n",
       "    <tr>\n",
       "      <th>1</th>\n",
       "      <td>Hawaii</td>\n",
       "      <td>HI</td>\n",
       "      <td>34.3</td>\n",
       "      <td>63.7</td>\n",
       "      <td>196864</td>\n",
       "      <td>366130</td>\n",
       "      <td>0</td>\n",
       "      <td>1</td>\n",
       "    </tr>\n",
       "    <tr>\n",
       "      <th>2</th>\n",
       "      <td>Washington</td>\n",
       "      <td>WA</td>\n",
       "      <td>39.0</td>\n",
       "      <td>58.4</td>\n",
       "      <td>1584651</td>\n",
       "      <td>2369612</td>\n",
       "      <td>0</td>\n",
       "      <td>1</td>\n",
       "    </tr>\n",
       "    <tr>\n",
       "      <th>3</th>\n",
       "      <td>Oregon</td>\n",
       "      <td>OR</td>\n",
       "      <td>40.7</td>\n",
       "      <td>56.9</td>\n",
       "      <td>958448</td>\n",
       "      <td>1340383</td>\n",
       "      <td>0</td>\n",
       "      <td>1</td>\n",
       "    </tr>\n",
       "    <tr>\n",
       "      <th>4</th>\n",
       "      <td>California</td>\n",
       "      <td>CA</td>\n",
       "      <td>34.3</td>\n",
       "      <td>63.5</td>\n",
       "      <td>5982194</td>\n",
       "      <td>11082293</td>\n",
       "      <td>0</td>\n",
       "      <td>1</td>\n",
       "    </tr>\n",
       "  </tbody>\n",
       "</table>\n",
       "</div>"
      ],
      "text/plain": [
       "        state state_abr  trump_pct  biden_pct  trump_vote  biden_vote  \\\n",
       "0      Alaska        AK       53.1       43.0      189543      153502   \n",
       "1      Hawaii        HI       34.3       63.7      196864      366130   \n",
       "2  Washington        WA       39.0       58.4     1584651     2369612   \n",
       "3      Oregon        OR       40.7       56.9      958448     1340383   \n",
       "4  California        CA       34.3       63.5     5982194    11082293   \n",
       "\n",
       "   trump_win  biden_win  \n",
       "0          1          0  \n",
       "1          0          1  \n",
       "2          0          1  \n",
       "3          0          1  \n",
       "4          0          1  "
      ]
     },
     "execution_count": 1,
     "metadata": {},
     "output_type": "execute_result"
    }
   ],
   "source": [
    "import pandas as pd\n",
    "voting_df = pd.read_csv(filepath_or_buffer='/kaggle/input/2020-us-presidential-election-results-by-state/voting.csv')\n",
    "voting_df.head(n=5)"
   ]
  },
  {
   "cell_type": "code",
   "execution_count": 2,
   "id": "a5c48a8a",
   "metadata": {
    "execution": {
     "iopub.execute_input": "2023-10-12T17:30:36.043500Z",
     "iopub.status.busy": "2023-10-12T17:30:36.042759Z",
     "iopub.status.idle": "2023-10-12T17:30:36.063533Z",
     "shell.execute_reply": "2023-10-12T17:30:36.062356Z"
    },
    "papermill": {
     "duration": 0.027902,
     "end_time": "2023-10-12T17:30:36.065809",
     "exception": false,
     "start_time": "2023-10-12T17:30:36.037907",
     "status": "completed"
    },
    "tags": []
   },
   "outputs": [
    {
     "data": {
      "text/html": [
       "<div>\n",
       "<style scoped>\n",
       "    .dataframe tbody tr th:only-of-type {\n",
       "        vertical-align: middle;\n",
       "    }\n",
       "\n",
       "    .dataframe tbody tr th {\n",
       "        vertical-align: top;\n",
       "    }\n",
       "\n",
       "    .dataframe thead th {\n",
       "        text-align: right;\n",
       "    }\n",
       "</style>\n",
       "<table border=\"1\" class=\"dataframe\">\n",
       "  <thead>\n",
       "    <tr style=\"text-align: right;\">\n",
       "      <th></th>\n",
       "      <th>Year</th>\n",
       "      <th>State</th>\n",
       "      <th>Votes</th>\n",
       "    </tr>\n",
       "  </thead>\n",
       "  <tbody>\n",
       "    <tr>\n",
       "      <th>0</th>\n",
       "      <td>1788</td>\n",
       "      <td>Alabama</td>\n",
       "      <td>NaN</td>\n",
       "    </tr>\n",
       "    <tr>\n",
       "      <th>1</th>\n",
       "      <td>1792</td>\n",
       "      <td>Alabama</td>\n",
       "      <td>NaN</td>\n",
       "    </tr>\n",
       "    <tr>\n",
       "      <th>2</th>\n",
       "      <td>1796</td>\n",
       "      <td>Alabama</td>\n",
       "      <td>NaN</td>\n",
       "    </tr>\n",
       "    <tr>\n",
       "      <th>3</th>\n",
       "      <td>1800</td>\n",
       "      <td>Alabama</td>\n",
       "      <td>NaN</td>\n",
       "    </tr>\n",
       "    <tr>\n",
       "      <th>4</th>\n",
       "      <td>1804</td>\n",
       "      <td>Alabama</td>\n",
       "      <td>NaN</td>\n",
       "    </tr>\n",
       "  </tbody>\n",
       "</table>\n",
       "</div>"
      ],
      "text/plain": [
       "   Year    State  Votes\n",
       "0  1788  Alabama    NaN\n",
       "1  1792  Alabama    NaN\n",
       "2  1796  Alabama    NaN\n",
       "3  1800  Alabama    NaN\n",
       "4  1804  Alabama    NaN"
      ]
     },
     "execution_count": 2,
     "metadata": {},
     "output_type": "execute_result"
    }
   ],
   "source": [
    "college_df = pd.read_csv(filepath_or_buffer='/kaggle/input/electoralcollege/Electoral_College.csv', usecols=['Year', 'State', 'Votes'])\n",
    "college_df['State'] = college_df['State'].replace(to_replace={'D.C.': 'District of Columbia'})\n",
    "college_df.head(n=5)"
   ]
  },
  {
   "cell_type": "raw",
   "id": "0a2a94fb",
   "metadata": {
    "papermill": {
     "duration": 0.003126,
     "end_time": "2023-10-12T17:30:36.072557",
     "exception": false,
     "start_time": "2023-10-12T17:30:36.069431",
     "status": "completed"
    },
    "tags": []
   },
   "source": [
    "We are only interested in the 2020 Electoral College, so let's get that."
   ]
  },
  {
   "cell_type": "code",
   "execution_count": 3,
   "id": "fb432e9a",
   "metadata": {
    "execution": {
     "iopub.execute_input": "2023-10-12T17:30:36.081405Z",
     "iopub.status.busy": "2023-10-12T17:30:36.080525Z",
     "iopub.status.idle": "2023-10-12T17:30:36.101144Z",
     "shell.execute_reply": "2023-10-12T17:30:36.100438Z"
    },
    "papermill": {
     "duration": 0.026877,
     "end_time": "2023-10-12T17:30:36.102850",
     "exception": false,
     "start_time": "2023-10-12T17:30:36.075973",
     "status": "completed"
    },
    "tags": []
   },
   "outputs": [
    {
     "data": {
      "text/html": [
       "<div>\n",
       "<style scoped>\n",
       "    .dataframe tbody tr th:only-of-type {\n",
       "        vertical-align: middle;\n",
       "    }\n",
       "\n",
       "    .dataframe tbody tr th {\n",
       "        vertical-align: top;\n",
       "    }\n",
       "\n",
       "    .dataframe thead th {\n",
       "        text-align: right;\n",
       "    }\n",
       "</style>\n",
       "<table border=\"1\" class=\"dataframe\">\n",
       "  <thead>\n",
       "    <tr style=\"text-align: right;\">\n",
       "      <th></th>\n",
       "      <th>State</th>\n",
       "      <th>Votes</th>\n",
       "    </tr>\n",
       "  </thead>\n",
       "  <tbody>\n",
       "    <tr>\n",
       "      <th>58</th>\n",
       "      <td>Alabama</td>\n",
       "      <td>9</td>\n",
       "    </tr>\n",
       "    <tr>\n",
       "      <th>117</th>\n",
       "      <td>Alaska</td>\n",
       "      <td>3</td>\n",
       "    </tr>\n",
       "    <tr>\n",
       "      <th>176</th>\n",
       "      <td>Arizona</td>\n",
       "      <td>11</td>\n",
       "    </tr>\n",
       "    <tr>\n",
       "      <th>235</th>\n",
       "      <td>Arkansas</td>\n",
       "      <td>6</td>\n",
       "    </tr>\n",
       "    <tr>\n",
       "      <th>294</th>\n",
       "      <td>California</td>\n",
       "      <td>55</td>\n",
       "    </tr>\n",
       "  </tbody>\n",
       "</table>\n",
       "</div>"
      ],
      "text/plain": [
       "          State  Votes\n",
       "58      Alabama      9\n",
       "117      Alaska      3\n",
       "176     Arizona     11\n",
       "235    Arkansas      6\n",
       "294  California     55"
      ]
     },
     "execution_count": 3,
     "metadata": {},
     "output_type": "execute_result"
    }
   ],
   "source": [
    "ec2020_df = college_df[college_df['Year']==2020].drop(columns=['Year',]).copy()\n",
    "ec2020_df['Votes'] = ec2020_df['Votes'].astype(int)\n",
    "ec2020_df.head(n=5)"
   ]
  },
  {
   "cell_type": "code",
   "execution_count": 4,
   "id": "b7f5d06f",
   "metadata": {
    "execution": {
     "iopub.execute_input": "2023-10-12T17:30:36.111777Z",
     "iopub.status.busy": "2023-10-12T17:30:36.111153Z",
     "iopub.status.idle": "2023-10-12T17:30:36.137465Z",
     "shell.execute_reply": "2023-10-12T17:30:36.136434Z"
    },
    "papermill": {
     "duration": 0.033097,
     "end_time": "2023-10-12T17:30:36.139525",
     "exception": false,
     "start_time": "2023-10-12T17:30:36.106428",
     "status": "completed"
    },
    "tags": []
   },
   "outputs": [
    {
     "data": {
      "text/html": [
       "<div>\n",
       "<style scoped>\n",
       "    .dataframe tbody tr th:only-of-type {\n",
       "        vertical-align: middle;\n",
       "    }\n",
       "\n",
       "    .dataframe tbody tr th {\n",
       "        vertical-align: top;\n",
       "    }\n",
       "\n",
       "    .dataframe thead th {\n",
       "        text-align: right;\n",
       "    }\n",
       "</style>\n",
       "<table border=\"1\" class=\"dataframe\">\n",
       "  <thead>\n",
       "    <tr style=\"text-align: right;\">\n",
       "      <th></th>\n",
       "      <th>State</th>\n",
       "      <th>trump_win</th>\n",
       "      <th>biden_win</th>\n",
       "      <th>Votes</th>\n",
       "      <th>DEC votes</th>\n",
       "      <th>REC votes</th>\n",
       "    </tr>\n",
       "  </thead>\n",
       "  <tbody>\n",
       "    <tr>\n",
       "      <th>0</th>\n",
       "      <td>Alaska</td>\n",
       "      <td>1</td>\n",
       "      <td>0</td>\n",
       "      <td>3</td>\n",
       "      <td>0</td>\n",
       "      <td>3</td>\n",
       "    </tr>\n",
       "    <tr>\n",
       "      <th>1</th>\n",
       "      <td>Hawaii</td>\n",
       "      <td>0</td>\n",
       "      <td>1</td>\n",
       "      <td>4</td>\n",
       "      <td>4</td>\n",
       "      <td>0</td>\n",
       "    </tr>\n",
       "    <tr>\n",
       "      <th>2</th>\n",
       "      <td>Washington</td>\n",
       "      <td>0</td>\n",
       "      <td>1</td>\n",
       "      <td>12</td>\n",
       "      <td>12</td>\n",
       "      <td>0</td>\n",
       "    </tr>\n",
       "    <tr>\n",
       "      <th>3</th>\n",
       "      <td>Oregon</td>\n",
       "      <td>0</td>\n",
       "      <td>1</td>\n",
       "      <td>7</td>\n",
       "      <td>7</td>\n",
       "      <td>0</td>\n",
       "    </tr>\n",
       "    <tr>\n",
       "      <th>4</th>\n",
       "      <td>California</td>\n",
       "      <td>0</td>\n",
       "      <td>1</td>\n",
       "      <td>55</td>\n",
       "      <td>55</td>\n",
       "      <td>0</td>\n",
       "    </tr>\n",
       "  </tbody>\n",
       "</table>\n",
       "</div>"
      ],
      "text/plain": [
       "        State  trump_win  biden_win  Votes  DEC votes  REC votes\n",
       "0      Alaska          1          0      3          0          3\n",
       "1      Hawaii          0          1      4          4          0\n",
       "2  Washington          0          1     12         12          0\n",
       "3      Oregon          0          1      7          7          0\n",
       "4  California          0          1     55         55          0"
      ]
     },
     "execution_count": 4,
     "metadata": {},
     "output_type": "execute_result"
    }
   ],
   "source": [
    "result_2020_df = voting_df[['state', 'trump_win', 'biden_win']].rename(columns={'state' : 'State'}).merge(how='inner', on='State', right=ec2020_df).copy()\n",
    "result_2020_df['DEC votes'] = result_2020_df['biden_win'] * result_2020_df['Votes']\n",
    "result_2020_df['REC votes'] = result_2020_df['trump_win'] * result_2020_df['Votes']\n",
    "result_2020_df.head(n=5)"
   ]
  },
  {
   "cell_type": "markdown",
   "id": "d17ebbfb",
   "metadata": {
    "papermill": {
     "duration": 0.003493,
     "end_time": "2023-10-12T17:30:36.146776",
     "exception": false,
     "start_time": "2023-10-12T17:30:36.143283",
     "status": "completed"
    },
    "tags": []
   },
   "source": [
    "Now we can check the result against the historical result."
   ]
  },
  {
   "cell_type": "code",
   "execution_count": 5,
   "id": "55c12d02",
   "metadata": {
    "execution": {
     "iopub.execute_input": "2023-10-12T17:30:36.156322Z",
     "iopub.status.busy": "2023-10-12T17:30:36.155374Z",
     "iopub.status.idle": "2023-10-12T17:30:36.162336Z",
     "shell.execute_reply": "2023-10-12T17:30:36.161256Z"
    },
    "papermill": {
     "duration": 0.014206,
     "end_time": "2023-10-12T17:30:36.164636",
     "exception": false,
     "start_time": "2023-10-12T17:30:36.150430",
     "status": "completed"
    },
    "tags": []
   },
   "outputs": [
    {
     "data": {
      "text/plain": [
       "(306, 232)"
      ]
     },
     "execution_count": 5,
     "metadata": {},
     "output_type": "execute_result"
    }
   ],
   "source": [
    "result_2020_df['DEC votes'].sum(), result_2020_df['REC votes'].sum()"
   ]
  },
  {
   "cell_type": "markdown",
   "id": "8abc3fc0",
   "metadata": {
    "papermill": {
     "duration": 0.003651,
     "end_time": "2023-10-12T17:30:36.172295",
     "exception": false,
     "start_time": "2023-10-12T17:30:36.168644",
     "status": "completed"
    },
    "tags": []
   },
   "source": [
    "We can introduce the changes to the Electoral College due to the 2020 Census."
   ]
  },
  {
   "cell_type": "code",
   "execution_count": 6,
   "id": "de3799c1",
   "metadata": {
    "execution": {
     "iopub.execute_input": "2023-10-12T17:30:36.182290Z",
     "iopub.status.busy": "2023-10-12T17:30:36.181892Z",
     "iopub.status.idle": "2023-10-12T17:30:36.189341Z",
     "shell.execute_reply": "2023-10-12T17:30:36.188312Z"
    },
    "papermill": {
     "duration": 0.015053,
     "end_time": "2023-10-12T17:30:36.191690",
     "exception": false,
     "start_time": "2023-10-12T17:30:36.176637",
     "status": "completed"
    },
    "tags": []
   },
   "outputs": [
    {
     "data": {
      "text/plain": [
       "0"
      ]
     },
     "execution_count": 6,
     "metadata": {},
     "output_type": "execute_result"
    }
   ],
   "source": [
    "changes = {\n",
    "    'California': -1,\n",
    "    'Colorado': 1,\n",
    "    'Florida' : 1,\n",
    "    'Illinois': -1,\n",
    "    'Michigan': -1,\n",
    "    'Montana': 1,\n",
    "    'New York': -1,\n",
    "    'North Carolina': 1,\n",
    "    'Ohio': -1,\n",
    "    'Oregon': 1,\n",
    "    'Pennsylvania': -1,\n",
    "    'Texas': 2,\n",
    "    'West Virginia': -1\n",
    "}\n",
    "# there should be no net changes\n",
    "sum(list(changes.values()))"
   ]
  },
  {
   "cell_type": "code",
   "execution_count": 7,
   "id": "98cb0f8b",
   "metadata": {
    "execution": {
     "iopub.execute_input": "2023-10-12T17:30:36.201456Z",
     "iopub.status.busy": "2023-10-12T17:30:36.201067Z",
     "iopub.status.idle": "2023-10-12T17:30:36.214155Z",
     "shell.execute_reply": "2023-10-12T17:30:36.213444Z"
    },
    "papermill": {
     "duration": 0.020165,
     "end_time": "2023-10-12T17:30:36.215898",
     "exception": false,
     "start_time": "2023-10-12T17:30:36.195733",
     "status": "completed"
    },
    "tags": []
   },
   "outputs": [
    {
     "data": {
      "text/html": [
       "<div>\n",
       "<style scoped>\n",
       "    .dataframe tbody tr th:only-of-type {\n",
       "        vertical-align: middle;\n",
       "    }\n",
       "\n",
       "    .dataframe tbody tr th {\n",
       "        vertical-align: top;\n",
       "    }\n",
       "\n",
       "    .dataframe thead th {\n",
       "        text-align: right;\n",
       "    }\n",
       "</style>\n",
       "<table border=\"1\" class=\"dataframe\">\n",
       "  <thead>\n",
       "    <tr style=\"text-align: right;\">\n",
       "      <th></th>\n",
       "      <th>State</th>\n",
       "      <th>trump_win</th>\n",
       "      <th>biden_win</th>\n",
       "      <th>Votes</th>\n",
       "    </tr>\n",
       "  </thead>\n",
       "  <tbody>\n",
       "    <tr>\n",
       "      <th>0</th>\n",
       "      <td>Alaska</td>\n",
       "      <td>1</td>\n",
       "      <td>0</td>\n",
       "      <td>3</td>\n",
       "    </tr>\n",
       "    <tr>\n",
       "      <th>1</th>\n",
       "      <td>Hawaii</td>\n",
       "      <td>0</td>\n",
       "      <td>1</td>\n",
       "      <td>4</td>\n",
       "    </tr>\n",
       "    <tr>\n",
       "      <th>2</th>\n",
       "      <td>Washington</td>\n",
       "      <td>0</td>\n",
       "      <td>1</td>\n",
       "      <td>12</td>\n",
       "    </tr>\n",
       "    <tr>\n",
       "      <th>3</th>\n",
       "      <td>Oregon</td>\n",
       "      <td>0</td>\n",
       "      <td>1</td>\n",
       "      <td>8</td>\n",
       "    </tr>\n",
       "    <tr>\n",
       "      <th>4</th>\n",
       "      <td>California</td>\n",
       "      <td>0</td>\n",
       "      <td>1</td>\n",
       "      <td>54</td>\n",
       "    </tr>\n",
       "  </tbody>\n",
       "</table>\n",
       "</div>"
      ],
      "text/plain": [
       "        State  trump_win  biden_win  Votes\n",
       "0      Alaska          1          0      3\n",
       "1      Hawaii          0          1      4\n",
       "2  Washington          0          1     12\n",
       "3      Oregon          0          1      8\n",
       "4  California          0          1     54"
      ]
     },
     "execution_count": 7,
     "metadata": {},
     "output_type": "execute_result"
    }
   ],
   "source": [
    "result_2024_df = result_2020_df.copy().drop(columns=['DEC votes', 'REC votes'])\n",
    "result_2024_df['Votes'] = result_2020_df.apply(axis=1, func=lambda x: x['Votes'] if x['State'] not in changes.keys() else x['Votes'] + changes[x['State']])\n",
    "result_2024_df.head()"
   ]
  },
  {
   "cell_type": "markdown",
   "id": "0be5ded2",
   "metadata": {
    "papermill": {
     "duration": 0.003812,
     "end_time": "2023-10-12T17:30:36.224013",
     "exception": false,
     "start_time": "2023-10-12T17:30:36.220201",
     "status": "completed"
    },
    "tags": []
   },
   "source": [
    "Our base scenario is that no states flip and the only change is due to reapportionment."
   ]
  },
  {
   "cell_type": "code",
   "execution_count": 8,
   "id": "fe776827",
   "metadata": {
    "execution": {
     "iopub.execute_input": "2023-10-12T17:30:36.233722Z",
     "iopub.status.busy": "2023-10-12T17:30:36.233370Z",
     "iopub.status.idle": "2023-10-12T17:30:36.242359Z",
     "shell.execute_reply": "2023-10-12T17:30:36.241311Z"
    },
    "papermill": {
     "duration": 0.016174,
     "end_time": "2023-10-12T17:30:36.244277",
     "exception": false,
     "start_time": "2023-10-12T17:30:36.228103",
     "status": "completed"
    },
    "tags": []
   },
   "outputs": [
    {
     "data": {
      "text/plain": [
       "(303, 235)"
      ]
     },
     "execution_count": 8,
     "metadata": {},
     "output_type": "execute_result"
    }
   ],
   "source": [
    "result_2024_df['DEC votes'] = result_2024_df['biden_win'] * result_2024_df['Votes']\n",
    "result_2024_df['REC votes'] = result_2024_df['trump_win'] * result_2024_df['Votes']\n",
    "\n",
    "result_2024_df['DEC votes'].sum(), result_2024_df['REC votes'].sum()"
   ]
  },
  {
   "cell_type": "markdown",
   "id": "8dba3612",
   "metadata": {
    "papermill": {
     "duration": 0.003828,
     "end_time": "2023-10-12T17:30:36.252487",
     "exception": false,
     "start_time": "2023-10-12T17:30:36.248659",
     "status": "completed"
    },
    "tags": []
   },
   "source": [
    "D 303 - 235 R is our base case for 2024."
   ]
  }
 ],
 "metadata": {
  "kernelspec": {
   "display_name": "Python 3",
   "language": "python",
   "name": "python3"
  },
  "language_info": {
   "codemirror_mode": {
    "name": "ipython",
    "version": 3
   },
   "file_extension": ".py",
   "mimetype": "text/x-python",
   "name": "python",
   "nbconvert_exporter": "python",
   "pygments_lexer": "ipython3",
   "version": "3.10.12"
  },
  "papermill": {
   "default_parameters": {},
   "duration": 4.397415,
   "end_time": "2023-10-12T17:30:36.776253",
   "environment_variables": {},
   "exception": null,
   "input_path": "__notebook__.ipynb",
   "output_path": "__notebook__.ipynb",
   "parameters": {},
   "start_time": "2023-10-12T17:30:32.378838",
   "version": "2.4.0"
  }
 },
 "nbformat": 4,
 "nbformat_minor": 5
}
