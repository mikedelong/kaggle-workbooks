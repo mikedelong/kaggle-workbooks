{
 "cells": [
  {
   "cell_type": "code",
   "execution_count": 1,
   "id": "1ccc37cb",
   "metadata": {
    "_cell_guid": "b1076dfc-b9ad-4769-8c92-a6c4dae69d19",
    "_uuid": "8f2839f25d086af736a60e9eeb907d3b93b6e0e5",
    "execution": {
     "iopub.execute_input": "2024-04-28T19:47:42.620806Z",
     "iopub.status.busy": "2024-04-28T19:47:42.620430Z",
     "iopub.status.idle": "2024-04-28T19:47:44.271805Z",
     "shell.execute_reply": "2024-04-28T19:47:44.270186Z"
    },
    "papermill": {
     "duration": 1.658736,
     "end_time": "2024-04-28T19:47:44.274747",
     "exception": false,
     "start_time": "2024-04-28T19:47:42.616011",
     "status": "completed"
    },
    "tags": []
   },
   "outputs": [
    {
     "data": {
      "text/html": [
       "<div>\n",
       "<style scoped>\n",
       "    .dataframe tbody tr th:only-of-type {\n",
       "        vertical-align: middle;\n",
       "    }\n",
       "\n",
       "    .dataframe tbody tr th {\n",
       "        vertical-align: top;\n",
       "    }\n",
       "\n",
       "    .dataframe thead th {\n",
       "        text-align: right;\n",
       "    }\n",
       "</style>\n",
       "<table border=\"1\" class=\"dataframe\">\n",
       "  <thead>\n",
       "    <tr style=\"text-align: right;\">\n",
       "      <th></th>\n",
       "      <th>Plot</th>\n",
       "      <th>Field</th>\n",
       "      <th>Site</th>\n",
       "      <th>Block</th>\n",
       "      <th>Dose</th>\n",
       "      <th>PLH</th>\n",
       "      <th>INSH</th>\n",
       "      <th>BRA</th>\n",
       "      <th>TNOD</th>\n",
       "      <th>FNOD</th>\n",
       "      <th>PODS</th>\n",
       "      <th>GRAINS</th>\n",
       "      <th>WEIGHT</th>\n",
       "      <th>PLANTS</th>\n",
       "      <th>YIELD</th>\n",
       "      <th>INC</th>\n",
       "      <th>AUDPC</th>\n",
       "    </tr>\n",
       "  </thead>\n",
       "  <tbody>\n",
       "    <tr>\n",
       "      <th>0</th>\n",
       "      <td>33</td>\n",
       "      <td>NIT</td>\n",
       "      <td>Patch</td>\n",
       "      <td>1</td>\n",
       "      <td>0</td>\n",
       "      <td>77.9</td>\n",
       "      <td>3.20</td>\n",
       "      <td>3.0</td>\n",
       "      <td>16.8</td>\n",
       "      <td>12.6</td>\n",
       "      <td>46.0</td>\n",
       "      <td>114.4</td>\n",
       "      <td>155.500000</td>\n",
       "      <td>6.333333</td>\n",
       "      <td>1865.057471</td>\n",
       "      <td>44.18</td>\n",
       "      <td>753.98</td>\n",
       "    </tr>\n",
       "    <tr>\n",
       "      <th>1</th>\n",
       "      <td>34</td>\n",
       "      <td>NIT</td>\n",
       "      <td>Patch</td>\n",
       "      <td>1</td>\n",
       "      <td>3</td>\n",
       "      <td>85.4</td>\n",
       "      <td>3.05</td>\n",
       "      <td>0.9</td>\n",
       "      <td>17.9</td>\n",
       "      <td>11.8</td>\n",
       "      <td>45.4</td>\n",
       "      <td>112.2</td>\n",
       "      <td>176.300000</td>\n",
       "      <td>13.333333</td>\n",
       "      <td>4059.829715</td>\n",
       "      <td>15.51</td>\n",
       "      <td>657.92</td>\n",
       "    </tr>\n",
       "    <tr>\n",
       "      <th>2</th>\n",
       "      <td>35</td>\n",
       "      <td>NIT</td>\n",
       "      <td>Patch</td>\n",
       "      <td>1</td>\n",
       "      <td>6</td>\n",
       "      <td>82.3</td>\n",
       "      <td>3.00</td>\n",
       "      <td>1.1</td>\n",
       "      <td>17.4</td>\n",
       "      <td>12.6</td>\n",
       "      <td>41.3</td>\n",
       "      <td>99.5</td>\n",
       "      <td>163.266667</td>\n",
       "      <td>12.222222</td>\n",
       "      <td>3253.086420</td>\n",
       "      <td>11.94</td>\n",
       "      <td>355.69</td>\n",
       "    </tr>\n",
       "    <tr>\n",
       "      <th>3</th>\n",
       "      <td>36</td>\n",
       "      <td>NIT</td>\n",
       "      <td>Patch</td>\n",
       "      <td>1</td>\n",
       "      <td>9</td>\n",
       "      <td>87.5</td>\n",
       "      <td>3.05</td>\n",
       "      <td>0.8</td>\n",
       "      <td>17.5</td>\n",
       "      <td>12.1</td>\n",
       "      <td>46.7</td>\n",
       "      <td>112.7</td>\n",
       "      <td>176.333333</td>\n",
       "      <td>12.555556</td>\n",
       "      <td>3829.118774</td>\n",
       "      <td>9.70</td>\n",
       "      <td>387.57</td>\n",
       "    </tr>\n",
       "    <tr>\n",
       "      <th>4</th>\n",
       "      <td>37</td>\n",
       "      <td>NIT</td>\n",
       "      <td>Patch</td>\n",
       "      <td>2</td>\n",
       "      <td>0</td>\n",
       "      <td>83.2</td>\n",
       "      <td>2.25</td>\n",
       "      <td>0.3</td>\n",
       "      <td>17.1</td>\n",
       "      <td>10.6</td>\n",
       "      <td>34.8</td>\n",
       "      <td>84.4</td>\n",
       "      <td>156.400000</td>\n",
       "      <td>7.666667</td>\n",
       "      <td>1819.003831</td>\n",
       "      <td>49.78</td>\n",
       "      <td>522.98</td>\n",
       "    </tr>\n",
       "  </tbody>\n",
       "</table>\n",
       "</div>"
      ],
      "text/plain": [
       "   Plot Field   Site  Block  Dose   PLH  INSH  BRA  TNOD  FNOD  PODS  GRAINS  \\\n",
       "0    33   NIT  Patch      1     0  77.9  3.20  3.0  16.8  12.6  46.0   114.4   \n",
       "1    34   NIT  Patch      1     3  85.4  3.05  0.9  17.9  11.8  45.4   112.2   \n",
       "2    35   NIT  Patch      1     6  82.3  3.00  1.1  17.4  12.6  41.3    99.5   \n",
       "3    36   NIT  Patch      1     9  87.5  3.05  0.8  17.5  12.1  46.7   112.7   \n",
       "4    37   NIT  Patch      2     0  83.2  2.25  0.3  17.1  10.6  34.8    84.4   \n",
       "\n",
       "       WEIGHT     PLANTS        YIELD    INC   AUDPC  \n",
       "0  155.500000   6.333333  1865.057471  44.18  753.98  \n",
       "1  176.300000  13.333333  4059.829715  15.51  657.92  \n",
       "2  163.266667  12.222222  3253.086420  11.94  355.69  \n",
       "3  176.333333  12.555556  3829.118774   9.70  387.57  \n",
       "4  156.400000   7.666667  1819.003831  49.78  522.98  "
      ]
     },
     "execution_count": 1,
     "metadata": {},
     "output_type": "execute_result"
    }
   ],
   "source": [
    "import pandas as pd\n",
    "\n",
    "DATA = '/kaggle/input/liming-and-rhizoctonia-root-rot-of-soybean/h6v8j338ds-1/Dataset.xlsx'\n",
    "SHEET_NAME = 'Data'\n",
    "\n",
    "df = pd.read_excel(io=DATA, sheet_name=SHEET_NAME)\n",
    "\n",
    "df.head()"
   ]
  },
  {
   "cell_type": "code",
   "execution_count": 2,
   "id": "d8bd74c6",
   "metadata": {
    "execution": {
     "iopub.execute_input": "2024-04-28T19:47:44.284771Z",
     "iopub.status.busy": "2024-04-28T19:47:44.283910Z",
     "iopub.status.idle": "2024-04-28T19:47:44.304740Z",
     "shell.execute_reply": "2024-04-28T19:47:44.303470Z"
    },
    "papermill": {
     "duration": 0.028448,
     "end_time": "2024-04-28T19:47:44.307452",
     "exception": false,
     "start_time": "2024-04-28T19:47:44.279004",
     "status": "completed"
    },
    "tags": []
   },
   "outputs": [
    {
     "data": {
      "text/plain": [
       "Plot      128\n",
       "Field       4\n",
       "Site        2\n",
       "Block       4\n",
       "Dose        4\n",
       "PLH        98\n",
       "INSH       31\n",
       "BRA        34\n",
       "TNOD       46\n",
       "FNOD       53\n",
       "PODS      109\n",
       "GRAINS    114\n",
       "WEIGHT    125\n",
       "PLANTS    110\n",
       "YIELD     128\n",
       "INC        66\n",
       "AUDPC      66\n",
       "dtype: int64"
      ]
     },
     "execution_count": 2,
     "metadata": {},
     "output_type": "execute_result"
    }
   ],
   "source": [
    "df.nunique()"
   ]
  },
  {
   "cell_type": "code",
   "execution_count": 3,
   "id": "33beee9f",
   "metadata": {
    "execution": {
     "iopub.execute_input": "2024-04-28T19:47:44.315373Z",
     "iopub.status.busy": "2024-04-28T19:47:44.314979Z",
     "iopub.status.idle": "2024-04-28T19:47:47.414267Z",
     "shell.execute_reply": "2024-04-28T19:47:47.412833Z"
    },
    "papermill": {
     "duration": 3.106703,
     "end_time": "2024-04-28T19:47:47.417379",
     "exception": false,
     "start_time": "2024-04-28T19:47:44.310676",
     "status": "completed"
    },
    "tags": []
   },
   "outputs": [
    {
     "data": {
      "text/html": [
       "        <script type=\"text/javascript\">\n",
       "        window.PlotlyConfig = {MathJaxConfig: 'local'};\n",
       "        if (window.MathJax && window.MathJax.Hub && window.MathJax.Hub.Config) {window.MathJax.Hub.Config({SVG: {font: \"STIX-Web\"}});}\n",
       "        if (typeof require !== 'undefined') {\n",
       "        require.undef(\"plotly\");\n",
       "        requirejs.config({\n",
       "            paths: {\n",
       "                'plotly': ['https://cdn.plot.ly/plotly-2.27.0.min']\n",
       "            }\n",
       "        });\n",
       "        require(['plotly'], function(Plotly) {\n",
       "            window._Plotly = Plotly;\n",
       "        });\n",
       "        }\n",
       "        </script>\n",
       "        "
      ]
     },
     "metadata": {},
     "output_type": "display_data"
    },
    {
     "data": {
      "text/html": [
       "<div>                            <div id=\"9a3438f9-4068-4499-aa95-661b124cf0c4\" class=\"plotly-graph-div\" style=\"height:525px; width:100%;\"></div>            <script type=\"text/javascript\">                require([\"plotly\"], function(Plotly) {                    window.PLOTLYENV=window.PLOTLYENV || {};                                    if (document.getElementById(\"9a3438f9-4068-4499-aa95-661b124cf0c4\")) {                    Plotly.newPlot(                        \"9a3438f9-4068-4499-aa95-661b124cf0c4\",                        [{\"alignmentgroup\":\"True\",\"bingroup\":\"x\",\"hovertemplate\":\"YIELD=%{x}\\u003cbr\\u003ecount=%{y}\\u003cextra\\u003e\\u003c\\u002fextra\\u003e\",\"legendgroup\":\"\",\"marker\":{\"color\":\"#636efa\",\"pattern\":{\"shape\":\"\"}},\"name\":\"\",\"offsetgroup\":\"\",\"orientation\":\"v\",\"showlegend\":false,\"x\":[1865.057471264368,4059.8297147722437,3253.0864197530864,3829.1187739463603,1819.0038314176243,2852.3627075351214,2948.0800340570454,2532.9927628778205,2981.800766283525,3675.0532141336735,3615.5257556406978,3520.668369518944,2117.2243507875687,2642.5287356321837,2578.097062579821,2679.9233716475087,2952.2733077905486,3195.325670498084,3734.4827586206893,3122.971477224351,2943.30779054917,3056.934865900383,3413.333333333333,3456.6028097062576,2373.1800766283523,3485.002128565347,2934.4827586206893,3564.9553001277136,3039.352916134525,3394.9425287356325,3093.886760323542,3174.2443593018306,2399.4891443167307,2988.0076628352485,2948.8122605363983,2953.8186462324393,2946.470838654747,2638.8888888888882,4087.713920817369,3467.92252022137,2015.189442315879,2138.2120051085567,2592.724563644104,2664.8871860366116,1183.9208173690931,1431.013197105151,3195.4533844189023,3320.4427415921664,3465.134099616858,4427.6968922945925,4298.659003831417,4542.528735632183,2782.3243933588756,3016.922094508301,3909.9872286079185,4558.467432950191,3601.4814814814813,3621.6475095785436,4378.033205619412,4335.6577266922095,3887.3563218390805,4289.110259684972,4177.292464878673,4471.315453384419,2679.1017454235844,4537.931034482758,4279.284802043422,4469.501915708812,1209.2337164750957,3538.5185185185182,4723.584504044275,4287.2030651341,2970.8386547467007,4521.77522349936,4979.140059599828,5073.346104725415,3716.6666666666665,3764.904214559387,4716.666666666666,4180.3746275010635,4204.022988505746,5043.920817369092,4693.546189868029,4657.190293742018,3718.4844614729664,4102.145593869732,4155.785440613026,4329.267773520647,4373.614303959132,4434.874414644529,4671.562366964666,4510.114942528735,3835.5470412941677,4604.601958280117,4912.541507024265,4200.744997871435,2664.3678160919535,2888.633461047254,3199.5232013622813,3310.702426564496,3426.155810983397,3806.807151979566,3637.415921668795,4360.536398467432,2718.1609195402298,2959.0123456790125,4098.46743295019,5008.088548318433,1436.3218390804598,2277.0114942528735,2976.083439761601,4796.990208599404,2788.122605363985,4185.874840357598,3746.0280970625804,5437.002979991485,3241.604938271605,3811.4346530438484,4167.624521072797,3977.7011494252874,2958.620689655172,4127.458492975734,4019.4465730097904,4642.647935291614,3327.305236270753,3979.361430395913,4350.336313324818,4166.385696040868],\"xaxis\":\"x\",\"yaxis\":\"y\",\"type\":\"histogram\"}],                        {\"template\":{\"data\":{\"histogram2dcontour\":[{\"type\":\"histogram2dcontour\",\"colorbar\":{\"outlinewidth\":0,\"ticks\":\"\"},\"colorscale\":[[0.0,\"#0d0887\"],[0.1111111111111111,\"#46039f\"],[0.2222222222222222,\"#7201a8\"],[0.3333333333333333,\"#9c179e\"],[0.4444444444444444,\"#bd3786\"],[0.5555555555555556,\"#d8576b\"],[0.6666666666666666,\"#ed7953\"],[0.7777777777777778,\"#fb9f3a\"],[0.8888888888888888,\"#fdca26\"],[1.0,\"#f0f921\"]]}],\"choropleth\":[{\"type\":\"choropleth\",\"colorbar\":{\"outlinewidth\":0,\"ticks\":\"\"}}],\"histogram2d\":[{\"type\":\"histogram2d\",\"colorbar\":{\"outlinewidth\":0,\"ticks\":\"\"},\"colorscale\":[[0.0,\"#0d0887\"],[0.1111111111111111,\"#46039f\"],[0.2222222222222222,\"#7201a8\"],[0.3333333333333333,\"#9c179e\"],[0.4444444444444444,\"#bd3786\"],[0.5555555555555556,\"#d8576b\"],[0.6666666666666666,\"#ed7953\"],[0.7777777777777778,\"#fb9f3a\"],[0.8888888888888888,\"#fdca26\"],[1.0,\"#f0f921\"]]}],\"heatmap\":[{\"type\":\"heatmap\",\"colorbar\":{\"outlinewidth\":0,\"ticks\":\"\"},\"colorscale\":[[0.0,\"#0d0887\"],[0.1111111111111111,\"#46039f\"],[0.2222222222222222,\"#7201a8\"],[0.3333333333333333,\"#9c179e\"],[0.4444444444444444,\"#bd3786\"],[0.5555555555555556,\"#d8576b\"],[0.6666666666666666,\"#ed7953\"],[0.7777777777777778,\"#fb9f3a\"],[0.8888888888888888,\"#fdca26\"],[1.0,\"#f0f921\"]]}],\"heatmapgl\":[{\"type\":\"heatmapgl\",\"colorbar\":{\"outlinewidth\":0,\"ticks\":\"\"},\"colorscale\":[[0.0,\"#0d0887\"],[0.1111111111111111,\"#46039f\"],[0.2222222222222222,\"#7201a8\"],[0.3333333333333333,\"#9c179e\"],[0.4444444444444444,\"#bd3786\"],[0.5555555555555556,\"#d8576b\"],[0.6666666666666666,\"#ed7953\"],[0.7777777777777778,\"#fb9f3a\"],[0.8888888888888888,\"#fdca26\"],[1.0,\"#f0f921\"]]}],\"contourcarpet\":[{\"type\":\"contourcarpet\",\"colorbar\":{\"outlinewidth\":0,\"ticks\":\"\"}}],\"contour\":[{\"type\":\"contour\",\"colorbar\":{\"outlinewidth\":0,\"ticks\":\"\"},\"colorscale\":[[0.0,\"#0d0887\"],[0.1111111111111111,\"#46039f\"],[0.2222222222222222,\"#7201a8\"],[0.3333333333333333,\"#9c179e\"],[0.4444444444444444,\"#bd3786\"],[0.5555555555555556,\"#d8576b\"],[0.6666666666666666,\"#ed7953\"],[0.7777777777777778,\"#fb9f3a\"],[0.8888888888888888,\"#fdca26\"],[1.0,\"#f0f921\"]]}],\"surface\":[{\"type\":\"surface\",\"colorbar\":{\"outlinewidth\":0,\"ticks\":\"\"},\"colorscale\":[[0.0,\"#0d0887\"],[0.1111111111111111,\"#46039f\"],[0.2222222222222222,\"#7201a8\"],[0.3333333333333333,\"#9c179e\"],[0.4444444444444444,\"#bd3786\"],[0.5555555555555556,\"#d8576b\"],[0.6666666666666666,\"#ed7953\"],[0.7777777777777778,\"#fb9f3a\"],[0.8888888888888888,\"#fdca26\"],[1.0,\"#f0f921\"]]}],\"mesh3d\":[{\"type\":\"mesh3d\",\"colorbar\":{\"outlinewidth\":0,\"ticks\":\"\"}}],\"scatter\":[{\"fillpattern\":{\"fillmode\":\"overlay\",\"size\":10,\"solidity\":0.2},\"type\":\"scatter\"}],\"parcoords\":[{\"type\":\"parcoords\",\"line\":{\"colorbar\":{\"outlinewidth\":0,\"ticks\":\"\"}}}],\"scatterpolargl\":[{\"type\":\"scatterpolargl\",\"marker\":{\"colorbar\":{\"outlinewidth\":0,\"ticks\":\"\"}}}],\"bar\":[{\"error_x\":{\"color\":\"#2a3f5f\"},\"error_y\":{\"color\":\"#2a3f5f\"},\"marker\":{\"line\":{\"color\":\"#E5ECF6\",\"width\":0.5},\"pattern\":{\"fillmode\":\"overlay\",\"size\":10,\"solidity\":0.2}},\"type\":\"bar\"}],\"scattergeo\":[{\"type\":\"scattergeo\",\"marker\":{\"colorbar\":{\"outlinewidth\":0,\"ticks\":\"\"}}}],\"scatterpolar\":[{\"type\":\"scatterpolar\",\"marker\":{\"colorbar\":{\"outlinewidth\":0,\"ticks\":\"\"}}}],\"histogram\":[{\"marker\":{\"pattern\":{\"fillmode\":\"overlay\",\"size\":10,\"solidity\":0.2}},\"type\":\"histogram\"}],\"scattergl\":[{\"type\":\"scattergl\",\"marker\":{\"colorbar\":{\"outlinewidth\":0,\"ticks\":\"\"}}}],\"scatter3d\":[{\"type\":\"scatter3d\",\"line\":{\"colorbar\":{\"outlinewidth\":0,\"ticks\":\"\"}},\"marker\":{\"colorbar\":{\"outlinewidth\":0,\"ticks\":\"\"}}}],\"scattermapbox\":[{\"type\":\"scattermapbox\",\"marker\":{\"colorbar\":{\"outlinewidth\":0,\"ticks\":\"\"}}}],\"scatterternary\":[{\"type\":\"scatterternary\",\"marker\":{\"colorbar\":{\"outlinewidth\":0,\"ticks\":\"\"}}}],\"scattercarpet\":[{\"type\":\"scattercarpet\",\"marker\":{\"colorbar\":{\"outlinewidth\":0,\"ticks\":\"\"}}}],\"carpet\":[{\"aaxis\":{\"endlinecolor\":\"#2a3f5f\",\"gridcolor\":\"white\",\"linecolor\":\"white\",\"minorgridcolor\":\"white\",\"startlinecolor\":\"#2a3f5f\"},\"baxis\":{\"endlinecolor\":\"#2a3f5f\",\"gridcolor\":\"white\",\"linecolor\":\"white\",\"minorgridcolor\":\"white\",\"startlinecolor\":\"#2a3f5f\"},\"type\":\"carpet\"}],\"table\":[{\"cells\":{\"fill\":{\"color\":\"#EBF0F8\"},\"line\":{\"color\":\"white\"}},\"header\":{\"fill\":{\"color\":\"#C8D4E3\"},\"line\":{\"color\":\"white\"}},\"type\":\"table\"}],\"barpolar\":[{\"marker\":{\"line\":{\"color\":\"#E5ECF6\",\"width\":0.5},\"pattern\":{\"fillmode\":\"overlay\",\"size\":10,\"solidity\":0.2}},\"type\":\"barpolar\"}],\"pie\":[{\"automargin\":true,\"type\":\"pie\"}]},\"layout\":{\"autotypenumbers\":\"strict\",\"colorway\":[\"#636efa\",\"#EF553B\",\"#00cc96\",\"#ab63fa\",\"#FFA15A\",\"#19d3f3\",\"#FF6692\",\"#B6E880\",\"#FF97FF\",\"#FECB52\"],\"font\":{\"color\":\"#2a3f5f\"},\"hovermode\":\"closest\",\"hoverlabel\":{\"align\":\"left\"},\"paper_bgcolor\":\"white\",\"plot_bgcolor\":\"#E5ECF6\",\"polar\":{\"bgcolor\":\"#E5ECF6\",\"angularaxis\":{\"gridcolor\":\"white\",\"linecolor\":\"white\",\"ticks\":\"\"},\"radialaxis\":{\"gridcolor\":\"white\",\"linecolor\":\"white\",\"ticks\":\"\"}},\"ternary\":{\"bgcolor\":\"#E5ECF6\",\"aaxis\":{\"gridcolor\":\"white\",\"linecolor\":\"white\",\"ticks\":\"\"},\"baxis\":{\"gridcolor\":\"white\",\"linecolor\":\"white\",\"ticks\":\"\"},\"caxis\":{\"gridcolor\":\"white\",\"linecolor\":\"white\",\"ticks\":\"\"}},\"coloraxis\":{\"colorbar\":{\"outlinewidth\":0,\"ticks\":\"\"}},\"colorscale\":{\"sequential\":[[0.0,\"#0d0887\"],[0.1111111111111111,\"#46039f\"],[0.2222222222222222,\"#7201a8\"],[0.3333333333333333,\"#9c179e\"],[0.4444444444444444,\"#bd3786\"],[0.5555555555555556,\"#d8576b\"],[0.6666666666666666,\"#ed7953\"],[0.7777777777777778,\"#fb9f3a\"],[0.8888888888888888,\"#fdca26\"],[1.0,\"#f0f921\"]],\"sequentialminus\":[[0.0,\"#0d0887\"],[0.1111111111111111,\"#46039f\"],[0.2222222222222222,\"#7201a8\"],[0.3333333333333333,\"#9c179e\"],[0.4444444444444444,\"#bd3786\"],[0.5555555555555556,\"#d8576b\"],[0.6666666666666666,\"#ed7953\"],[0.7777777777777778,\"#fb9f3a\"],[0.8888888888888888,\"#fdca26\"],[1.0,\"#f0f921\"]],\"diverging\":[[0,\"#8e0152\"],[0.1,\"#c51b7d\"],[0.2,\"#de77ae\"],[0.3,\"#f1b6da\"],[0.4,\"#fde0ef\"],[0.5,\"#f7f7f7\"],[0.6,\"#e6f5d0\"],[0.7,\"#b8e186\"],[0.8,\"#7fbc41\"],[0.9,\"#4d9221\"],[1,\"#276419\"]]},\"xaxis\":{\"gridcolor\":\"white\",\"linecolor\":\"white\",\"ticks\":\"\",\"title\":{\"standoff\":15},\"zerolinecolor\":\"white\",\"automargin\":true,\"zerolinewidth\":2},\"yaxis\":{\"gridcolor\":\"white\",\"linecolor\":\"white\",\"ticks\":\"\",\"title\":{\"standoff\":15},\"zerolinecolor\":\"white\",\"automargin\":true,\"zerolinewidth\":2},\"scene\":{\"xaxis\":{\"backgroundcolor\":\"#E5ECF6\",\"gridcolor\":\"white\",\"linecolor\":\"white\",\"showbackground\":true,\"ticks\":\"\",\"zerolinecolor\":\"white\",\"gridwidth\":2},\"yaxis\":{\"backgroundcolor\":\"#E5ECF6\",\"gridcolor\":\"white\",\"linecolor\":\"white\",\"showbackground\":true,\"ticks\":\"\",\"zerolinecolor\":\"white\",\"gridwidth\":2},\"zaxis\":{\"backgroundcolor\":\"#E5ECF6\",\"gridcolor\":\"white\",\"linecolor\":\"white\",\"showbackground\":true,\"ticks\":\"\",\"zerolinecolor\":\"white\",\"gridwidth\":2}},\"shapedefaults\":{\"line\":{\"color\":\"#2a3f5f\"}},\"annotationdefaults\":{\"arrowcolor\":\"#2a3f5f\",\"arrowhead\":0,\"arrowwidth\":1},\"geo\":{\"bgcolor\":\"white\",\"landcolor\":\"#E5ECF6\",\"subunitcolor\":\"white\",\"showland\":true,\"showlakes\":true,\"lakecolor\":\"white\"},\"title\":{\"x\":0.05},\"mapbox\":{\"style\":\"light\"}}},\"xaxis\":{\"anchor\":\"y\",\"domain\":[0.0,1.0],\"title\":{\"text\":\"YIELD\"}},\"yaxis\":{\"anchor\":\"x\",\"domain\":[0.0,1.0],\"title\":{\"text\":\"count\"}},\"legend\":{\"tracegroupgap\":0},\"margin\":{\"t\":60},\"barmode\":\"relative\"},                        {\"responsive\": true}                    ).then(function(){\n",
       "                            \n",
       "var gd = document.getElementById('9a3438f9-4068-4499-aa95-661b124cf0c4');\n",
       "var x = new MutationObserver(function (mutations, observer) {{\n",
       "        var display = window.getComputedStyle(gd).display;\n",
       "        if (!display || display === 'none') {{\n",
       "            console.log([gd, 'removed!']);\n",
       "            Plotly.purge(gd);\n",
       "            observer.disconnect();\n",
       "        }}\n",
       "}});\n",
       "\n",
       "// Listen for the removal of the full notebook cells\n",
       "var notebookContainer = gd.closest('#notebook-container');\n",
       "if (notebookContainer) {{\n",
       "    x.observe(notebookContainer, {childList: true});\n",
       "}}\n",
       "\n",
       "// Listen for the clearing of the current output cell\n",
       "var outputEl = gd.closest('.output');\n",
       "if (outputEl) {{\n",
       "    x.observe(outputEl, {childList: true});\n",
       "}}\n",
       "\n",
       "                        })                };                });            </script>        </div>"
      ]
     },
     "metadata": {},
     "output_type": "display_data"
    }
   ],
   "source": [
    "from plotly import express\n",
    "\n",
    "express.histogram(data_frame=df, x='YIELD')"
   ]
  }
 ],
 "metadata": {
  "kaggle": {
   "accelerator": "none",
   "dataSources": [
    {
     "datasetId": 4875676,
     "sourceId": 8223682,
     "sourceType": "datasetVersion"
    }
   ],
   "dockerImageVersionId": 30698,
   "isGpuEnabled": false,
   "isInternetEnabled": true,
   "language": "python",
   "sourceType": "notebook"
  },
  "kernelspec": {
   "display_name": "Python 3",
   "language": "python",
   "name": "python3"
  },
  "language_info": {
   "codemirror_mode": {
    "name": "ipython",
    "version": 3
   },
   "file_extension": ".py",
   "mimetype": "text/x-python",
   "name": "python",
   "nbconvert_exporter": "python",
   "pygments_lexer": "ipython3",
   "version": "3.10.13"
  },
  "papermill": {
   "default_parameters": {},
   "duration": 8.709502,
   "end_time": "2024-04-28T19:47:48.043204",
   "environment_variables": {},
   "exception": null,
   "input_path": "__notebook__.ipynb",
   "output_path": "__notebook__.ipynb",
   "parameters": {},
   "start_time": "2024-04-28T19:47:39.333702",
   "version": "2.5.0"
  }
 },
 "nbformat": 4,
 "nbformat_minor": 5
}
