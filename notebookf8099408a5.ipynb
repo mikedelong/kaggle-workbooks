{
 "cells": [
  {
   "cell_type": "markdown",
   "id": "e8610cce",
   "metadata": {
    "papermill": {
     "duration": 0.003334,
     "end_time": "2025-02-04T20:06:45.742977",
     "exception": false,
     "start_time": "2025-02-04T20:06:45.739643",
     "status": "completed"
    },
    "tags": []
   },
   "source": [
    "Let's load up our data and do a little cleanup. We have three columns that are always null, so let's drop them. We also have one column that always contains the value True, so let's drop it too."
   ]
  },
  {
   "cell_type": "code",
   "execution_count": 1,
   "id": "4d82636c",
   "metadata": {
    "_cell_guid": "b1076dfc-b9ad-4769-8c92-a6c4dae69d19",
    "_uuid": "8f2839f25d086af736a60e9eeb907d3b93b6e0e5",
    "execution": {
     "iopub.execute_input": "2025-02-04T20:06:45.750167Z",
     "iopub.status.busy": "2025-02-04T20:06:45.749814Z",
     "iopub.status.idle": "2025-02-04T20:06:46.759375Z",
     "shell.execute_reply": "2025-02-04T20:06:46.758376Z"
    },
    "papermill": {
     "duration": 1.015108,
     "end_time": "2025-02-04T20:06:46.761132",
     "exception": false,
     "start_time": "2025-02-04T20:06:45.746024",
     "status": "completed"
    },
    "tags": []
   },
   "outputs": [
    {
     "data": {
      "text/html": [
       "<div>\n",
       "<style scoped>\n",
       "    .dataframe tbody tr th:only-of-type {\n",
       "        vertical-align: middle;\n",
       "    }\n",
       "\n",
       "    .dataframe tbody tr th {\n",
       "        vertical-align: top;\n",
       "    }\n",
       "\n",
       "    .dataframe thead th {\n",
       "        text-align: right;\n",
       "    }\n",
       "</style>\n",
       "<table border=\"1\" class=\"dataframe\">\n",
       "  <thead>\n",
       "    <tr style=\"text-align: right;\">\n",
       "      <th></th>\n",
       "      <th>title</th>\n",
       "      <th>description</th>\n",
       "      <th>group</th>\n",
       "      <th>icon</th>\n",
       "      <th>color</th>\n",
       "      <th>longitude</th>\n",
       "      <th>latitude</th>\n",
       "    </tr>\n",
       "  </thead>\n",
       "  <tbody>\n",
       "    <tr>\n",
       "      <th>0</th>\n",
       "      <td>5th Avenue</td>\n",
       "      <td>NaN</td>\n",
       "      <td>Caloocan</td>\n",
       "      <td>NaN</td>\n",
       "      <td>#005e38</td>\n",
       "      <td>120.983717</td>\n",
       "      <td>14.643881</td>\n",
       "    </tr>\n",
       "    <tr>\n",
       "      <th>1</th>\n",
       "      <td>9th Avenue</td>\n",
       "      <td>NaN</td>\n",
       "      <td>Caloocan</td>\n",
       "      <td>NaN</td>\n",
       "      <td>#005e38</td>\n",
       "      <td>120.984059</td>\n",
       "      <td>14.650442</td>\n",
       "    </tr>\n",
       "    <tr>\n",
       "      <th>2</th>\n",
       "      <td>Grace Park</td>\n",
       "      <td>NaN</td>\n",
       "      <td>Caloocan</td>\n",
       "      <td>NaN</td>\n",
       "      <td>#005e38</td>\n",
       "      <td>120.984088</td>\n",
       "      <td>14.654215</td>\n",
       "    </tr>\n",
       "    <tr>\n",
       "      <th>3</th>\n",
       "      <td>Araneta Square</td>\n",
       "      <td>NaN</td>\n",
       "      <td>Caloocan</td>\n",
       "      <td>NaN</td>\n",
       "      <td>#005e38</td>\n",
       "      <td>120.983555</td>\n",
       "      <td>14.656720</td>\n",
       "    </tr>\n",
       "    <tr>\n",
       "      <th>4</th>\n",
       "      <td>Victory Central Mall</td>\n",
       "      <td>NaN</td>\n",
       "      <td>Caloocan</td>\n",
       "      <td>NaN</td>\n",
       "      <td>#005e38</td>\n",
       "      <td>120.982529</td>\n",
       "      <td>14.655712</td>\n",
       "    </tr>\n",
       "  </tbody>\n",
       "</table>\n",
       "</div>"
      ],
      "text/plain": [
       "                  title description     group icon    color   longitude  \\\n",
       "0            5th Avenue         NaN  Caloocan  NaN  #005e38  120.983717   \n",
       "1            9th Avenue         NaN  Caloocan  NaN  #005e38  120.984059   \n",
       "2            Grace Park         NaN  Caloocan  NaN  #005e38  120.984088   \n",
       "3        Araneta Square         NaN  Caloocan  NaN  #005e38  120.983555   \n",
       "4  Victory Central Mall         NaN  Caloocan  NaN  #005e38  120.982529   \n",
       "\n",
       "    latitude  \n",
       "0  14.643881  \n",
       "1  14.650442  \n",
       "2  14.654215  \n",
       "3  14.656720  \n",
       "4  14.655712  "
      ]
     },
     "execution_count": 1,
     "metadata": {},
     "output_type": "execute_result"
    }
   ],
   "source": [
    "import pandas as pd\n",
    "\n",
    "DATA = '/kaggle/input/jollibee-fastfood-store-locations/jollibee-branches.csv'\n",
    "df = pd.read_csv(filepath_or_buffer=DATA).drop(columns=['url', 'media_url', 'maphub_image_url', 'visible'])\n",
    "df.head()"
   ]
  },
  {
   "cell_type": "markdown",
   "id": "33683f65",
   "metadata": {
    "papermill": {
     "duration": 0.002837,
     "end_time": "2025-02-04T20:06:46.767214",
     "exception": false,
     "start_time": "2025-02-04T20:06:46.764377",
     "status": "completed"
    },
    "tags": []
   },
   "source": [
    "Let's make a map. Choosing the name, data, and location is easy, but it's not clear what we should do for color. First let's try using the color field."
   ]
  },
  {
   "cell_type": "code",
   "execution_count": 2,
   "id": "8c7de464",
   "metadata": {
    "execution": {
     "iopub.execute_input": "2025-02-04T20:06:46.774399Z",
     "iopub.status.busy": "2025-02-04T20:06:46.774085Z",
     "iopub.status.idle": "2025-02-04T20:06:49.730660Z",
     "shell.execute_reply": "2025-02-04T20:06:49.729655Z"
    },
    "papermill": {
     "duration": 2.962242,
     "end_time": "2025-02-04T20:06:49.732501",
     "exception": false,
     "start_time": "2025-02-04T20:06:46.770259",
     "status": "completed"
    },
    "tags": []
   },
   "outputs": [
    {
     "data": {
      "text/html": [
       "        <script type=\"text/javascript\">\n",
       "        window.PlotlyConfig = {MathJaxConfig: 'local'};\n",
       "        if (window.MathJax && window.MathJax.Hub && window.MathJax.Hub.Config) {window.MathJax.Hub.Config({SVG: {font: \"STIX-Web\"}});}\n",
       "        if (typeof require !== 'undefined') {\n",
       "        require.undef(\"plotly\");\n",
       "        requirejs.config({\n",
       "            paths: {\n",
       "                'plotly': ['https://cdn.plot.ly/plotly-2.35.2.min']\n",
       "            }\n",
       "        });\n",
       "        require(['plotly'], function(Plotly) {\n",
       "            window._Plotly = Plotly;\n",
       "        });\n",
       "        }\n",
       "        </script>\n",
       "        "
      ]
     },
     "metadata": {},
     "output_type": "display_data"
    },
    {
     "data": {
      "text/html": [
       "<iframe\n",
       "    scrolling=\"no\"\n",
       "    width=\"100%\"\n",
       "    height=\"820\"\n",
       "    src=\"iframe_figures/figure_2.html\"\n",
       "    frameborder=\"0\"\n",
       "    allowfullscreen\n",
       "></iframe>\n"
      ]
     },
     "metadata": {},
     "output_type": "display_data"
    }
   ],
   "source": [
    "from plotly import express\n",
    "from plotly.offline import init_notebook_mode\n",
    "\n",
    "init_notebook_mode(connected=True)\n",
    "\n",
    "express.scatter_mapbox(mapbox_style='open-street-map', height=800, zoom=4.25, data_frame=df, lat='latitude', lon='longitude', hover_name='title', hover_data=['group'], color='color').show(renderer='iframe_connected',)"
   ]
  },
  {
   "cell_type": "markdown",
   "id": "c768459e",
   "metadata": {
    "papermill": {
     "duration": 0.003009,
     "end_time": "2025-02-04T20:06:49.738975",
     "exception": false,
     "start_time": "2025-02-04T20:06:49.735966",
     "status": "completed"
    },
    "tags": []
   },
   "source": [
    "This makes a nice map, but the legend doesn't really tell us anything."
   ]
  },
  {
   "cell_type": "code",
   "execution_count": 3,
   "id": "2b9e299e",
   "metadata": {
    "execution": {
     "iopub.execute_input": "2025-02-04T20:06:49.748154Z",
     "iopub.status.busy": "2025-02-04T20:06:49.747825Z",
     "iopub.status.idle": "2025-02-04T20:06:49.765398Z",
     "shell.execute_reply": "2025-02-04T20:06:49.764422Z"
    },
    "papermill": {
     "duration": 0.024778,
     "end_time": "2025-02-04T20:06:49.766895",
     "exception": false,
     "start_time": "2025-02-04T20:06:49.742117",
     "status": "completed"
    },
    "tags": []
   },
   "outputs": [
    {
     "data": {
      "text/html": [
       "<div>\n",
       "<style scoped>\n",
       "    .dataframe tbody tr th:only-of-type {\n",
       "        vertical-align: middle;\n",
       "    }\n",
       "\n",
       "    .dataframe tbody tr th {\n",
       "        vertical-align: top;\n",
       "    }\n",
       "\n",
       "    .dataframe thead th {\n",
       "        text-align: right;\n",
       "    }\n",
       "</style>\n",
       "<table border=\"1\" class=\"dataframe\">\n",
       "  <thead>\n",
       "    <tr style=\"text-align: right;\">\n",
       "      <th>color</th>\n",
       "      <th>#005e38</th>\n",
       "      <th>#7478fb</th>\n",
       "      <th>#660000</th>\n",
       "      <th>#14f6f1</th>\n",
       "      <th>#020256</th>\n",
       "      <th>#ff7373</th>\n",
       "      <th>#482d9e</th>\n",
       "      <th>#e32c31</th>\n",
       "      <th>#894411</th>\n",
       "      <th>#9e9e9e</th>\n",
       "      <th>#f18729</th>\n",
       "      <th>#2d2d2d</th>\n",
       "      <th>#64e968</th>\n",
       "      <th>#ffcc00</th>\n",
       "      <th>#b63681</th>\n",
       "      <th>#3cc954</th>\n",
       "      <th>#cfd965</th>\n",
       "      <th>#00c4bf</th>\n",
       "      <th>#000000</th>\n",
       "      <th>#00ff98</th>\n",
       "    </tr>\n",
       "  </thead>\n",
       "  <tbody>\n",
       "    <tr>\n",
       "      <th>count</th>\n",
       "      <td>379</td>\n",
       "      <td>205</td>\n",
       "      <td>140</td>\n",
       "      <td>90</td>\n",
       "      <td>60</td>\n",
       "      <td>48</td>\n",
       "      <td>46</td>\n",
       "      <td>42</td>\n",
       "      <td>32</td>\n",
       "      <td>30</td>\n",
       "      <td>28</td>\n",
       "      <td>28</td>\n",
       "      <td>24</td>\n",
       "      <td>21</td>\n",
       "      <td>20</td>\n",
       "      <td>16</td>\n",
       "      <td>15</td>\n",
       "      <td>12</td>\n",
       "      <td>6</td>\n",
       "      <td>3</td>\n",
       "    </tr>\n",
       "  </tbody>\n",
       "</table>\n",
       "</div>"
      ],
      "text/plain": [
       "color  #005e38  #7478fb  #660000  #14f6f1  #020256  #ff7373  #482d9e  #e32c31  \\\n",
       "count      379      205      140       90       60       48       46       42   \n",
       "\n",
       "color  #894411  #9e9e9e  #f18729  #2d2d2d  #64e968  #ffcc00  #b63681  #3cc954  \\\n",
       "count       32       30       28       28       24       21       20       16   \n",
       "\n",
       "color  #cfd965  #00c4bf  #000000  #00ff98  \n",
       "count       15       12        6        3  "
      ]
     },
     "execution_count": 3,
     "metadata": {},
     "output_type": "execute_result"
    }
   ],
   "source": [
    "df['color'].value_counts().to_frame().T"
   ]
  },
  {
   "cell_type": "markdown",
   "id": "bcbc6fa9",
   "metadata": {
    "papermill": {
     "duration": 0.003072,
     "end_time": "2025-02-04T20:06:49.773490",
     "exception": false,
     "start_time": "2025-02-04T20:06:49.770418",
     "status": "completed"
    },
    "tags": []
   },
   "source": [
    "The colors are distributed unevenly, but they don't have any intuitive meaning. How about the group?"
   ]
  },
  {
   "cell_type": "code",
   "execution_count": 4,
   "id": "6bf28764",
   "metadata": {
    "execution": {
     "iopub.execute_input": "2025-02-04T20:06:49.781093Z",
     "iopub.status.busy": "2025-02-04T20:06:49.780742Z",
     "iopub.status.idle": "2025-02-04T20:06:49.796499Z",
     "shell.execute_reply": "2025-02-04T20:06:49.795374Z"
    },
    "papermill": {
     "duration": 0.021442,
     "end_time": "2025-02-04T20:06:49.798152",
     "exception": false,
     "start_time": "2025-02-04T20:06:49.776710",
     "status": "completed"
    },
    "tags": []
   },
   "outputs": [
    {
     "data": {
      "text/html": [
       "<div>\n",
       "<style scoped>\n",
       "    .dataframe tbody tr th:only-of-type {\n",
       "        vertical-align: middle;\n",
       "    }\n",
       "\n",
       "    .dataframe tbody tr th {\n",
       "        vertical-align: top;\n",
       "    }\n",
       "\n",
       "    .dataframe thead th {\n",
       "        text-align: right;\n",
       "    }\n",
       "</style>\n",
       "<table border=\"1\" class=\"dataframe\">\n",
       "  <thead>\n",
       "    <tr style=\"text-align: right;\">\n",
       "      <th>group</th>\n",
       "      <th>Quezon City</th>\n",
       "      <th>Manila</th>\n",
       "      <th>Cavite</th>\n",
       "      <th>Laguna</th>\n",
       "      <th>Cebu City - Lapu-Lapu - Mandaue</th>\n",
       "      <th>Bulacan</th>\n",
       "      <th>Batangas</th>\n",
       "      <th>Central Visayas</th>\n",
       "      <th>Rizal</th>\n",
       "      <th>Bicol</th>\n",
       "      <th>...</th>\n",
       "      <th>Malabon</th>\n",
       "      <th>Ilocos Sur</th>\n",
       "      <th>NAIA</th>\n",
       "      <th>Ilocos Norte</th>\n",
       "      <th>Nueva Vizcaya</th>\n",
       "      <th>Bangsamoro</th>\n",
       "      <th>Navotas</th>\n",
       "      <th>Pateros</th>\n",
       "      <th>Aurora</th>\n",
       "      <th>Malaysia</th>\n",
       "    </tr>\n",
       "  </thead>\n",
       "  <tbody>\n",
       "    <tr>\n",
       "      <th>count</th>\n",
       "      <td>95</td>\n",
       "      <td>66</td>\n",
       "      <td>58</td>\n",
       "      <td>54</td>\n",
       "      <td>54</td>\n",
       "      <td>39</td>\n",
       "      <td>39</td>\n",
       "      <td>36</td>\n",
       "      <td>36</td>\n",
       "      <td>32</td>\n",
       "      <td>...</td>\n",
       "      <td>8</td>\n",
       "      <td>7</td>\n",
       "      <td>5</td>\n",
       "      <td>5</td>\n",
       "      <td>3</td>\n",
       "      <td>3</td>\n",
       "      <td>2</td>\n",
       "      <td>1</td>\n",
       "      <td>1</td>\n",
       "      <td>1</td>\n",
       "    </tr>\n",
       "  </tbody>\n",
       "</table>\n",
       "<p>1 rows × 61 columns</p>\n",
       "</div>"
      ],
      "text/plain": [
       "group  Quezon City  Manila  Cavite  Laguna  Cebu City - Lapu-Lapu - Mandaue  \\\n",
       "count           95      66      58      54                               54   \n",
       "\n",
       "group  Bulacan  Batangas  Central Visayas  Rizal  Bicol  ...  Malabon  \\\n",
       "count       39        39               36     36     32  ...        8   \n",
       "\n",
       "group  Ilocos Sur  NAIA  Ilocos Norte  Nueva Vizcaya  Bangsamoro  Navotas  \\\n",
       "count           7     5             5              3           3        2   \n",
       "\n",
       "group  Pateros  Aurora  Malaysia  \n",
       "count        1       1         1  \n",
       "\n",
       "[1 rows x 61 columns]"
      ]
     },
     "execution_count": 4,
     "metadata": {},
     "output_type": "execute_result"
    }
   ],
   "source": [
    "df['group'].value_counts().to_frame().T"
   ]
  },
  {
   "cell_type": "code",
   "execution_count": 5,
   "id": "525a1280",
   "metadata": {
    "execution": {
     "iopub.execute_input": "2025-02-04T20:06:49.806491Z",
     "iopub.status.busy": "2025-02-04T20:06:49.806186Z",
     "iopub.status.idle": "2025-02-04T20:06:49.811543Z",
     "shell.execute_reply": "2025-02-04T20:06:49.810760Z"
    },
    "papermill": {
     "duration": 0.010934,
     "end_time": "2025-02-04T20:06:49.812866",
     "exception": false,
     "start_time": "2025-02-04T20:06:49.801932",
     "status": "completed"
    },
    "tags": []
   },
   "outputs": [
    {
     "data": {
      "text/plain": [
       "61"
      ]
     },
     "execution_count": 5,
     "metadata": {},
     "output_type": "execute_result"
    }
   ],
   "source": [
    "df['group'].nunique()"
   ]
  },
  {
   "cell_type": "markdown",
   "id": "89e165e0",
   "metadata": {
    "papermill": {
     "duration": 0.003221,
     "end_time": "2025-02-04T20:06:49.819568",
     "exception": false,
     "start_time": "2025-02-04T20:06:49.816347",
     "status": "completed"
    },
    "tags": []
   },
   "source": [
    "We have a lot more groups, and they make some sort of geographic sense, but we have a lot of them. Let's try coloring by group and see what happens."
   ]
  },
  {
   "cell_type": "code",
   "execution_count": 6,
   "id": "ed2cc8af",
   "metadata": {
    "execution": {
     "iopub.execute_input": "2025-02-04T20:06:49.827392Z",
     "iopub.status.busy": "2025-02-04T20:06:49.827112Z",
     "iopub.status.idle": "2025-02-04T20:06:50.109118Z",
     "shell.execute_reply": "2025-02-04T20:06:50.108074Z"
    },
    "papermill": {
     "duration": 0.28778,
     "end_time": "2025-02-04T20:06:50.110736",
     "exception": false,
     "start_time": "2025-02-04T20:06:49.822956",
     "status": "completed"
    },
    "tags": []
   },
   "outputs": [
    {
     "data": {
      "text/html": [
       "<iframe\n",
       "    scrolling=\"no\"\n",
       "    width=\"100%\"\n",
       "    height=\"820\"\n",
       "    src=\"iframe_figures/figure_6.html\"\n",
       "    frameborder=\"0\"\n",
       "    allowfullscreen\n",
       "></iframe>\n"
      ]
     },
     "metadata": {},
     "output_type": "display_data"
    }
   ],
   "source": [
    "n_colors = df['group'].nunique()\n",
    "colors = express.colors.sample_colorscale(colorscale='turbo', samplepoints=[n/(n_colors -1) for n in range(n_colors)])\n",
    "\n",
    "\n",
    "express.scatter_mapbox(color_discrete_sequence=colors, mapbox_style='open-street-map', height=800, zoom=4.25, data_frame=df, lat='latitude', lon='longitude', hover_name='title', hover_data=['group'], color='group').show(renderer='iframe_connected',)"
   ]
  },
  {
   "cell_type": "markdown",
   "id": "ccc46564",
   "metadata": {
    "papermill": {
     "duration": 0.003887,
     "end_time": "2025-02-04T20:06:50.121510",
     "exception": false,
     "start_time": "2025-02-04T20:06:50.117623",
     "status": "completed"
    },
    "tags": []
   },
   "source": [
    "That's not bad. We have a color scale with a lot of colors, and some of them are hard to tell apart, but it's hard to do otherwise with that many colors."
   ]
  }
 ],
 "metadata": {
  "kaggle": {
   "accelerator": "none",
   "dataSources": [
    {
     "datasetId": 6588641,
     "sourceId": 10641348,
     "sourceType": "datasetVersion"
    }
   ],
   "dockerImageVersionId": 30839,
   "isGpuEnabled": false,
   "isInternetEnabled": true,
   "language": "python",
   "sourceType": "notebook"
  },
  "kernelspec": {
   "display_name": "Python 3",
   "language": "python",
   "name": "python3"
  },
  "language_info": {
   "codemirror_mode": {
    "name": "ipython",
    "version": 3
   },
   "file_extension": ".py",
   "mimetype": "text/x-python",
   "name": "python",
   "nbconvert_exporter": "python",
   "pygments_lexer": "ipython3",
   "version": "3.10.12"
  },
  "papermill": {
   "default_parameters": {},
   "duration": 7.737984,
   "end_time": "2025-02-04T20:06:50.745062",
   "environment_variables": {},
   "exception": null,
   "input_path": "__notebook__.ipynb",
   "output_path": "__notebook__.ipynb",
   "parameters": {},
   "start_time": "2025-02-04T20:06:43.007078",
   "version": "2.6.0"
  }
 },
 "nbformat": 4,
 "nbformat_minor": 5
}
