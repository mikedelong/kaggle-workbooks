{
 "cells": [
  {
   "cell_type": "markdown",
   "id": "6d783d5a",
   "metadata": {
    "papermill": {
     "duration": 0.003747,
     "end_time": "2025-02-08T03:37:34.866944",
     "exception": false,
     "start_time": "2025-02-08T03:37:34.863197",
     "status": "completed"
    },
    "tags": []
   },
   "source": [
    "Let's load up our data. We have a bunch of NaNs, so we get lots of warnings."
   ]
  },
  {
   "cell_type": "code",
   "execution_count": 1,
   "id": "6126fd6f",
   "metadata": {
    "_cell_guid": "b1076dfc-b9ad-4769-8c92-a6c4dae69d19",
    "_uuid": "8f2839f25d086af736a60e9eeb907d3b93b6e0e5",
    "execution": {
     "iopub.execute_input": "2025-02-08T03:37:34.875337Z",
     "iopub.status.busy": "2025-02-08T03:37:34.874750Z",
     "iopub.status.idle": "2025-02-08T03:37:35.905620Z",
     "shell.execute_reply": "2025-02-08T03:37:35.904122Z"
    },
    "papermill": {
     "duration": 1.037452,
     "end_time": "2025-02-08T03:37:35.907845",
     "exception": false,
     "start_time": "2025-02-08T03:37:34.870393",
     "status": "completed"
    },
    "tags": []
   },
   "outputs": [
    {
     "name": "stderr",
     "output_type": "stream",
     "text": [
      "/usr/local/lib/python3.10/dist-packages/pandas/io/formats/format.py:1458: RuntimeWarning: invalid value encountered in greater\n",
      "  has_large_values = (abs_vals > 1e6).any()\n",
      "/usr/local/lib/python3.10/dist-packages/pandas/io/formats/format.py:1459: RuntimeWarning: invalid value encountered in less\n",
      "  has_small_values = ((abs_vals < 10 ** (-self.digits)) & (abs_vals > 0)).any()\n",
      "/usr/local/lib/python3.10/dist-packages/pandas/io/formats/format.py:1459: RuntimeWarning: invalid value encountered in greater\n",
      "  has_small_values = ((abs_vals < 10 ** (-self.digits)) & (abs_vals > 0)).any()\n"
     ]
    },
    {
     "data": {
      "text/html": [
       "<div>\n",
       "<style scoped>\n",
       "    .dataframe tbody tr th:only-of-type {\n",
       "        vertical-align: middle;\n",
       "    }\n",
       "\n",
       "    .dataframe tbody tr th {\n",
       "        vertical-align: top;\n",
       "    }\n",
       "\n",
       "    .dataframe thead th {\n",
       "        text-align: right;\n",
       "    }\n",
       "</style>\n",
       "<table border=\"1\" class=\"dataframe\">\n",
       "  <thead>\n",
       "    <tr style=\"text-align: right;\">\n",
       "      <th></th>\n",
       "      <th>country</th>\n",
       "      <th>date</th>\n",
       "      <th>Forest area (sq. km)</th>\n",
       "    </tr>\n",
       "  </thead>\n",
       "  <tbody>\n",
       "    <tr>\n",
       "      <th>0</th>\n",
       "      <td>Afghanistan</td>\n",
       "      <td>2023</td>\n",
       "      <td>NaN</td>\n",
       "    </tr>\n",
       "    <tr>\n",
       "      <th>1</th>\n",
       "      <td>Afghanistan</td>\n",
       "      <td>2022</td>\n",
       "      <td>12084.4</td>\n",
       "    </tr>\n",
       "    <tr>\n",
       "      <th>2</th>\n",
       "      <td>Afghanistan</td>\n",
       "      <td>2021</td>\n",
       "      <td>12084.4</td>\n",
       "    </tr>\n",
       "    <tr>\n",
       "      <th>3</th>\n",
       "      <td>Afghanistan</td>\n",
       "      <td>2020</td>\n",
       "      <td>12084.4</td>\n",
       "    </tr>\n",
       "    <tr>\n",
       "      <th>4</th>\n",
       "      <td>Afghanistan</td>\n",
       "      <td>2019</td>\n",
       "      <td>12084.4</td>\n",
       "    </tr>\n",
       "  </tbody>\n",
       "</table>\n",
       "</div>"
      ],
      "text/plain": [
       "       country  date  Forest area (sq. km)\n",
       "0  Afghanistan  2023                   NaN\n",
       "1  Afghanistan  2022               12084.4\n",
       "2  Afghanistan  2021               12084.4\n",
       "3  Afghanistan  2020               12084.4\n",
       "4  Afghanistan  2019               12084.4"
      ]
     },
     "execution_count": 1,
     "metadata": {},
     "output_type": "execute_result"
    }
   ],
   "source": [
    "import pandas as pd\n",
    "\n",
    "DATA = '/kaggle/input/10-countries-forest-data/forest_area.csv'\n",
    "df = pd.read_csv(filepath_or_buffer=DATA)\n",
    "df.head()"
   ]
  },
  {
   "cell_type": "markdown",
   "id": "abd8d389",
   "metadata": {
    "papermill": {
     "duration": 0.002925,
     "end_time": "2025-02-08T03:37:35.914283",
     "exception": false,
     "start_time": "2025-02-08T03:37:35.911358",
     "status": "completed"
    },
    "tags": []
   },
   "source": [
    "How much data do we have?"
   ]
  },
  {
   "cell_type": "code",
   "execution_count": 2,
   "id": "42182199",
   "metadata": {
    "execution": {
     "iopub.execute_input": "2025-02-08T03:37:35.921969Z",
     "iopub.status.busy": "2025-02-08T03:37:35.921611Z",
     "iopub.status.idle": "2025-02-08T03:37:35.938135Z",
     "shell.execute_reply": "2025-02-08T03:37:35.936977Z"
    },
    "papermill": {
     "duration": 0.022542,
     "end_time": "2025-02-08T03:37:35.940005",
     "exception": false,
     "start_time": "2025-02-08T03:37:35.917463",
     "status": "completed"
    },
    "tags": []
   },
   "outputs": [
    {
     "data": {
      "text/html": [
       "<div>\n",
       "<style scoped>\n",
       "    .dataframe tbody tr th:only-of-type {\n",
       "        vertical-align: middle;\n",
       "    }\n",
       "\n",
       "    .dataframe tbody tr th {\n",
       "        vertical-align: top;\n",
       "    }\n",
       "\n",
       "    .dataframe thead th {\n",
       "        text-align: right;\n",
       "    }\n",
       "</style>\n",
       "<table border=\"1\" class=\"dataframe\">\n",
       "  <thead>\n",
       "    <tr style=\"text-align: right;\">\n",
       "      <th></th>\n",
       "      <th>country</th>\n",
       "      <th>date</th>\n",
       "      <th>Forest area (sq. km)</th>\n",
       "    </tr>\n",
       "  </thead>\n",
       "  <tbody>\n",
       "    <tr>\n",
       "      <th>0</th>\n",
       "      <td>10</td>\n",
       "      <td>64</td>\n",
       "      <td>267</td>\n",
       "    </tr>\n",
       "  </tbody>\n",
       "</table>\n",
       "</div>"
      ],
      "text/plain": [
       "   country  date  Forest area (sq. km)\n",
       "0       10    64                   267"
      ]
     },
     "execution_count": 2,
     "metadata": {},
     "output_type": "execute_result"
    }
   ],
   "source": [
    "df.nunique().to_frame().T"
   ]
  },
  {
   "cell_type": "markdown",
   "id": "f475e666",
   "metadata": {
    "papermill": {
     "duration": 0.003074,
     "end_time": "2025-02-08T03:37:35.946724",
     "exception": false,
     "start_time": "2025-02-08T03:37:35.943650",
     "status": "completed"
    },
    "tags": []
   },
   "source": [
    "We have a moderate amount of data. Let's make a line plot."
   ]
  },
  {
   "cell_type": "code",
   "execution_count": 3,
   "id": "a0e8d981",
   "metadata": {
    "execution": {
     "iopub.execute_input": "2025-02-08T03:37:35.954910Z",
     "iopub.status.busy": "2025-02-08T03:37:35.954553Z",
     "iopub.status.idle": "2025-02-08T03:37:39.059085Z",
     "shell.execute_reply": "2025-02-08T03:37:39.057823Z"
    },
    "papermill": {
     "duration": 3.11085,
     "end_time": "2025-02-08T03:37:39.060925",
     "exception": false,
     "start_time": "2025-02-08T03:37:35.950075",
     "status": "completed"
    },
    "tags": []
   },
   "outputs": [
    {
     "data": {
      "text/html": [
       "        <script type=\"text/javascript\">\n",
       "        window.PlotlyConfig = {MathJaxConfig: 'local'};\n",
       "        if (window.MathJax && window.MathJax.Hub && window.MathJax.Hub.Config) {window.MathJax.Hub.Config({SVG: {font: \"STIX-Web\"}});}\n",
       "        if (typeof require !== 'undefined') {\n",
       "        require.undef(\"plotly\");\n",
       "        requirejs.config({\n",
       "            paths: {\n",
       "                'plotly': ['https://cdn.plot.ly/plotly-2.35.2.min']\n",
       "            }\n",
       "        });\n",
       "        require(['plotly'], function(Plotly) {\n",
       "            window._Plotly = Plotly;\n",
       "        });\n",
       "        }\n",
       "        </script>\n",
       "        "
      ]
     },
     "metadata": {},
     "output_type": "display_data"
    },
    {
     "data": {
      "text/html": [
       "<iframe\n",
       "    scrolling=\"no\"\n",
       "    width=\"100%\"\n",
       "    height=\"545px\"\n",
       "    src=\"iframe_figures/figure_3.html\"\n",
       "    frameborder=\"0\"\n",
       "    allowfullscreen\n",
       "></iframe>\n"
      ]
     },
     "metadata": {},
     "output_type": "display_data"
    }
   ],
   "source": [
    "from plotly import express\n",
    "from plotly.offline import init_notebook_mode\n",
    "\n",
    "init_notebook_mode(connected=True)\n",
    "express.line(data_frame=df.dropna(), x='date', y='Forest area (sq. km)', color='country').show(renderer='iframe_connected',)"
   ]
  },
  {
   "cell_type": "markdown",
   "id": "81d796b4",
   "metadata": {
    "papermill": {
     "duration": 0.003034,
     "end_time": "2025-02-08T03:37:39.067678",
     "exception": false,
     "start_time": "2025-02-08T03:37:39.064644",
     "status": "completed"
    },
    "tags": []
   },
   "source": [
    "Our data looks really linear. Let's try looking at the same data with a scatter plot."
   ]
  },
  {
   "cell_type": "code",
   "execution_count": 4,
   "id": "086ff8be",
   "metadata": {
    "execution": {
     "iopub.execute_input": "2025-02-08T03:37:39.075376Z",
     "iopub.status.busy": "2025-02-08T03:37:39.075004Z",
     "iopub.status.idle": "2025-02-08T03:37:39.158291Z",
     "shell.execute_reply": "2025-02-08T03:37:39.157041Z"
    },
    "papermill": {
     "duration": 0.089585,
     "end_time": "2025-02-08T03:37:39.160409",
     "exception": false,
     "start_time": "2025-02-08T03:37:39.070824",
     "status": "completed"
    },
    "tags": []
   },
   "outputs": [
    {
     "data": {
      "text/html": [
       "<iframe\n",
       "    scrolling=\"no\"\n",
       "    width=\"100%\"\n",
       "    height=\"545px\"\n",
       "    src=\"iframe_figures/figure_4.html\"\n",
       "    frameborder=\"0\"\n",
       "    allowfullscreen\n",
       "></iframe>\n"
      ]
     },
     "metadata": {},
     "output_type": "display_data"
    }
   ],
   "source": [
    "express.scatter(data_frame=df.dropna(), x='date', y='Forest area (sq. km)', color='country', log_y=True).show(renderer='iframe_connected',)"
   ]
  },
  {
   "cell_type": "markdown",
   "id": "8f358a30",
   "metadata": {
    "papermill": {
     "duration": 0.003411,
     "end_time": "2025-02-08T03:37:39.167998",
     "exception": false,
     "start_time": "2025-02-08T03:37:39.164587",
     "status": "completed"
    },
    "tags": []
   },
   "source": [
    "If we look at the data using a log scale we can see the relative change more clearly."
   ]
  },
  {
   "cell_type": "markdown",
   "id": "a859730a",
   "metadata": {
    "papermill": {
     "duration": 0.003316,
     "end_time": "2025-02-08T03:37:39.175004",
     "exception": false,
     "start_time": "2025-02-08T03:37:39.171688",
     "status": "completed"
    },
    "tags": []
   },
   "source": [
    "Maybe what's interesting about this data is the relative change over time, rather than the absolute change over time."
   ]
  },
  {
   "cell_type": "code",
   "execution_count": 5,
   "id": "6b3ece7d",
   "metadata": {
    "execution": {
     "iopub.execute_input": "2025-02-08T03:37:39.184202Z",
     "iopub.status.busy": "2025-02-08T03:37:39.183832Z",
     "iopub.status.idle": "2025-02-08T03:37:39.296525Z",
     "shell.execute_reply": "2025-02-08T03:37:39.295520Z"
    },
    "papermill": {
     "duration": 0.119537,
     "end_time": "2025-02-08T03:37:39.298095",
     "exception": false,
     "start_time": "2025-02-08T03:37:39.178558",
     "status": "completed"
    },
    "tags": []
   },
   "outputs": [
    {
     "data": {
      "text/html": [
       "<iframe\n",
       "    scrolling=\"no\"\n",
       "    width=\"100%\"\n",
       "    height=\"545px\"\n",
       "    src=\"iframe_figures/figure_5.html\"\n",
       "    frameborder=\"0\"\n",
       "    allowfullscreen\n",
       "></iframe>\n"
      ]
     },
     "metadata": {},
     "output_type": "display_data"
    }
   ],
   "source": [
    "change_df = df.dropna().drop(columns=['date']).groupby(by=['country']).agg({'first', 'last'}).reset_index()\n",
    "change_df['change'] = change_df[('Forest area (sq. km)', 'last')] / change_df[('Forest area (sq. km)', 'first')]\n",
    "express.bar(data_frame=change_df.sort_values(by=['change']), x='country', y='change').show(renderer='iframe_connected',)"
   ]
  },
  {
   "cell_type": "markdown",
   "id": "6a3ead24",
   "metadata": {
    "papermill": {
     "duration": 0.003377,
     "end_time": "2025-02-08T03:37:39.305512",
     "exception": false,
     "start_time": "2025-02-08T03:37:39.302135",
     "status": "completed"
    },
    "tags": []
   },
   "source": [
    "We might think of a net change of 1.0 as being the pass/fail line, with gainers as winners."
   ]
  }
 ],
 "metadata": {
  "kaggle": {
   "accelerator": "none",
   "dataSources": [
    {
     "datasetId": 6601661,
     "sourceId": 10660331,
     "sourceType": "datasetVersion"
    }
   ],
   "dockerImageVersionId": 30886,
   "isGpuEnabled": false,
   "isInternetEnabled": true,
   "language": "python",
   "sourceType": "notebook"
  },
  "kernelspec": {
   "display_name": "Python 3",
   "language": "python",
   "name": "python3"
  },
  "language_info": {
   "codemirror_mode": {
    "name": "ipython",
    "version": 3
   },
   "file_extension": ".py",
   "mimetype": "text/x-python",
   "name": "python",
   "nbconvert_exporter": "python",
   "pygments_lexer": "ipython3",
   "version": "3.10.12"
  },
  "papermill": {
   "default_parameters": {},
   "duration": 8.553015,
   "end_time": "2025-02-08T03:37:40.333627",
   "environment_variables": {},
   "exception": null,
   "input_path": "__notebook__.ipynb",
   "output_path": "__notebook__.ipynb",
   "parameters": {},
   "start_time": "2025-02-08T03:37:31.780612",
   "version": "2.6.0"
  }
 },
 "nbformat": 4,
 "nbformat_minor": 5
}
