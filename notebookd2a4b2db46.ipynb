{
 "cells": [
  {
   "cell_type": "markdown",
   "id": "5568f60b",
   "metadata": {
    "papermill": {
     "duration": 0.003724,
     "end_time": "2025-02-08T03:38:08.224548",
     "exception": false,
     "start_time": "2025-02-08T03:38:08.220824",
     "status": "completed"
    },
    "tags": []
   },
   "source": [
    "Let's load up our data. We have a bunch of NaNs, so we get lots of warnings."
   ]
  },
  {
   "cell_type": "code",
   "execution_count": 1,
   "id": "2033b867",
   "metadata": {
    "_cell_guid": "b1076dfc-b9ad-4769-8c92-a6c4dae69d19",
    "_uuid": "8f2839f25d086af736a60e9eeb907d3b93b6e0e5",
    "execution": {
     "iopub.execute_input": "2025-02-08T03:38:08.232693Z",
     "iopub.status.busy": "2025-02-08T03:38:08.232138Z",
     "iopub.status.idle": "2025-02-08T03:38:09.282541Z",
     "shell.execute_reply": "2025-02-08T03:38:09.281100Z"
    },
    "papermill": {
     "duration": 1.056724,
     "end_time": "2025-02-08T03:38:09.284634",
     "exception": false,
     "start_time": "2025-02-08T03:38:08.227910",
     "status": "completed"
    },
    "tags": []
   },
   "outputs": [
    {
     "name": "stderr",
     "output_type": "stream",
     "text": [
      "/usr/local/lib/python3.10/dist-packages/pandas/io/formats/format.py:1458: RuntimeWarning: invalid value encountered in greater\n",
      "  has_large_values = (abs_vals > 1e6).any()\n",
      "/usr/local/lib/python3.10/dist-packages/pandas/io/formats/format.py:1459: RuntimeWarning: invalid value encountered in less\n",
      "  has_small_values = ((abs_vals < 10 ** (-self.digits)) & (abs_vals > 0)).any()\n",
      "/usr/local/lib/python3.10/dist-packages/pandas/io/formats/format.py:1459: RuntimeWarning: invalid value encountered in greater\n",
      "  has_small_values = ((abs_vals < 10 ** (-self.digits)) & (abs_vals > 0)).any()\n"
     ]
    },
    {
     "data": {
      "text/html": [
       "<div>\n",
       "<style scoped>\n",
       "    .dataframe tbody tr th:only-of-type {\n",
       "        vertical-align: middle;\n",
       "    }\n",
       "\n",
       "    .dataframe tbody tr th {\n",
       "        vertical-align: top;\n",
       "    }\n",
       "\n",
       "    .dataframe thead th {\n",
       "        text-align: right;\n",
       "    }\n",
       "</style>\n",
       "<table border=\"1\" class=\"dataframe\">\n",
       "  <thead>\n",
       "    <tr style=\"text-align: right;\">\n",
       "      <th></th>\n",
       "      <th>country</th>\n",
       "      <th>date</th>\n",
       "      <th>Forest area (sq. km)</th>\n",
       "    </tr>\n",
       "  </thead>\n",
       "  <tbody>\n",
       "    <tr>\n",
       "      <th>0</th>\n",
       "      <td>Afghanistan</td>\n",
       "      <td>2023</td>\n",
       "      <td>NaN</td>\n",
       "    </tr>\n",
       "    <tr>\n",
       "      <th>1</th>\n",
       "      <td>Afghanistan</td>\n",
       "      <td>2022</td>\n",
       "      <td>12084.4</td>\n",
       "    </tr>\n",
       "    <tr>\n",
       "      <th>2</th>\n",
       "      <td>Afghanistan</td>\n",
       "      <td>2021</td>\n",
       "      <td>12084.4</td>\n",
       "    </tr>\n",
       "    <tr>\n",
       "      <th>3</th>\n",
       "      <td>Afghanistan</td>\n",
       "      <td>2020</td>\n",
       "      <td>12084.4</td>\n",
       "    </tr>\n",
       "    <tr>\n",
       "      <th>4</th>\n",
       "      <td>Afghanistan</td>\n",
       "      <td>2019</td>\n",
       "      <td>12084.4</td>\n",
       "    </tr>\n",
       "  </tbody>\n",
       "</table>\n",
       "</div>"
      ],
      "text/plain": [
       "       country  date  Forest area (sq. km)\n",
       "0  Afghanistan  2023                   NaN\n",
       "1  Afghanistan  2022               12084.4\n",
       "2  Afghanistan  2021               12084.4\n",
       "3  Afghanistan  2020               12084.4\n",
       "4  Afghanistan  2019               12084.4"
      ]
     },
     "execution_count": 1,
     "metadata": {},
     "output_type": "execute_result"
    }
   ],
   "source": [
    "import pandas as pd\n",
    "\n",
    "DATA = '/kaggle/input/10-countries-forest-data/forest_area.csv'\n",
    "df = pd.read_csv(filepath_or_buffer=DATA)\n",
    "df.head()"
   ]
  },
  {
   "cell_type": "markdown",
   "id": "4e609645",
   "metadata": {
    "papermill": {
     "duration": 0.003049,
     "end_time": "2025-02-08T03:38:09.292279",
     "exception": false,
     "start_time": "2025-02-08T03:38:09.289230",
     "status": "completed"
    },
    "tags": []
   },
   "source": [
    "How much data do we have?"
   ]
  },
  {
   "cell_type": "code",
   "execution_count": 2,
   "id": "ca2ec02d",
   "metadata": {
    "execution": {
     "iopub.execute_input": "2025-02-08T03:38:09.300160Z",
     "iopub.status.busy": "2025-02-08T03:38:09.299708Z",
     "iopub.status.idle": "2025-02-08T03:38:09.316177Z",
     "shell.execute_reply": "2025-02-08T03:38:09.315155Z"
    },
    "papermill": {
     "duration": 0.022339,
     "end_time": "2025-02-08T03:38:09.317909",
     "exception": false,
     "start_time": "2025-02-08T03:38:09.295570",
     "status": "completed"
    },
    "tags": []
   },
   "outputs": [
    {
     "data": {
      "text/html": [
       "<div>\n",
       "<style scoped>\n",
       "    .dataframe tbody tr th:only-of-type {\n",
       "        vertical-align: middle;\n",
       "    }\n",
       "\n",
       "    .dataframe tbody tr th {\n",
       "        vertical-align: top;\n",
       "    }\n",
       "\n",
       "    .dataframe thead th {\n",
       "        text-align: right;\n",
       "    }\n",
       "</style>\n",
       "<table border=\"1\" class=\"dataframe\">\n",
       "  <thead>\n",
       "    <tr style=\"text-align: right;\">\n",
       "      <th></th>\n",
       "      <th>country</th>\n",
       "      <th>date</th>\n",
       "      <th>Forest area (sq. km)</th>\n",
       "    </tr>\n",
       "  </thead>\n",
       "  <tbody>\n",
       "    <tr>\n",
       "      <th>0</th>\n",
       "      <td>10</td>\n",
       "      <td>64</td>\n",
       "      <td>267</td>\n",
       "    </tr>\n",
       "  </tbody>\n",
       "</table>\n",
       "</div>"
      ],
      "text/plain": [
       "   country  date  Forest area (sq. km)\n",
       "0       10    64                   267"
      ]
     },
     "execution_count": 2,
     "metadata": {},
     "output_type": "execute_result"
    }
   ],
   "source": [
    "df.nunique().to_frame().T"
   ]
  },
  {
   "cell_type": "markdown",
   "id": "cfb2fe6b",
   "metadata": {
    "papermill": {
     "duration": 0.003013,
     "end_time": "2025-02-08T03:38:09.324507",
     "exception": false,
     "start_time": "2025-02-08T03:38:09.321494",
     "status": "completed"
    },
    "tags": []
   },
   "source": [
    "We have a moderate amount of data. Let's make a line plot."
   ]
  },
  {
   "cell_type": "code",
   "execution_count": 3,
   "id": "c550c333",
   "metadata": {
    "execution": {
     "iopub.execute_input": "2025-02-08T03:38:09.332785Z",
     "iopub.status.busy": "2025-02-08T03:38:09.332377Z",
     "iopub.status.idle": "2025-02-08T03:38:12.395710Z",
     "shell.execute_reply": "2025-02-08T03:38:12.394601Z"
    },
    "papermill": {
     "duration": 3.069919,
     "end_time": "2025-02-08T03:38:12.397857",
     "exception": false,
     "start_time": "2025-02-08T03:38:09.327938",
     "status": "completed"
    },
    "tags": []
   },
   "outputs": [
    {
     "data": {
      "text/html": [
       "        <script type=\"text/javascript\">\n",
       "        window.PlotlyConfig = {MathJaxConfig: 'local'};\n",
       "        if (window.MathJax && window.MathJax.Hub && window.MathJax.Hub.Config) {window.MathJax.Hub.Config({SVG: {font: \"STIX-Web\"}});}\n",
       "        if (typeof require !== 'undefined') {\n",
       "        require.undef(\"plotly\");\n",
       "        requirejs.config({\n",
       "            paths: {\n",
       "                'plotly': ['https://cdn.plot.ly/plotly-2.35.2.min']\n",
       "            }\n",
       "        });\n",
       "        require(['plotly'], function(Plotly) {\n",
       "            window._Plotly = Plotly;\n",
       "        });\n",
       "        }\n",
       "        </script>\n",
       "        "
      ]
     },
     "metadata": {},
     "output_type": "display_data"
    },
    {
     "data": {
      "text/html": [
       "<iframe\n",
       "    scrolling=\"no\"\n",
       "    width=\"100%\"\n",
       "    height=\"545px\"\n",
       "    src=\"iframe_figures/figure_3.html\"\n",
       "    frameborder=\"0\"\n",
       "    allowfullscreen\n",
       "></iframe>\n"
      ]
     },
     "metadata": {},
     "output_type": "display_data"
    }
   ],
   "source": [
    "from plotly import express\n",
    "from plotly.offline import init_notebook_mode\n",
    "\n",
    "init_notebook_mode(connected=True)\n",
    "express.line(data_frame=df.dropna(), x='date', y='Forest area (sq. km)', color='country').show(renderer='iframe_connected',)"
   ]
  },
  {
   "cell_type": "markdown",
   "id": "85ae3ae3",
   "metadata": {
    "papermill": {
     "duration": 0.003272,
     "end_time": "2025-02-08T03:38:12.405119",
     "exception": false,
     "start_time": "2025-02-08T03:38:12.401847",
     "status": "completed"
    },
    "tags": []
   },
   "source": [
    "Our data looks really linear. Let's try looking at the same data with a scatter plot."
   ]
  },
  {
   "cell_type": "code",
   "execution_count": 4,
   "id": "490cd934",
   "metadata": {
    "execution": {
     "iopub.execute_input": "2025-02-08T03:38:12.413553Z",
     "iopub.status.busy": "2025-02-08T03:38:12.413178Z",
     "iopub.status.idle": "2025-02-08T03:38:12.495125Z",
     "shell.execute_reply": "2025-02-08T03:38:12.494058Z"
    },
    "papermill": {
     "duration": 0.088255,
     "end_time": "2025-02-08T03:38:12.496932",
     "exception": false,
     "start_time": "2025-02-08T03:38:12.408677",
     "status": "completed"
    },
    "tags": []
   },
   "outputs": [
    {
     "data": {
      "text/html": [
       "<iframe\n",
       "    scrolling=\"no\"\n",
       "    width=\"100%\"\n",
       "    height=\"545px\"\n",
       "    src=\"iframe_figures/figure_4.html\"\n",
       "    frameborder=\"0\"\n",
       "    allowfullscreen\n",
       "></iframe>\n"
      ]
     },
     "metadata": {},
     "output_type": "display_data"
    }
   ],
   "source": [
    "express.scatter(data_frame=df.dropna(), x='date', y='Forest area (sq. km)', color='country', log_y=True).show(renderer='iframe_connected',)"
   ]
  },
  {
   "cell_type": "markdown",
   "id": "edfdbd38",
   "metadata": {
    "papermill": {
     "duration": 0.003317,
     "end_time": "2025-02-08T03:38:12.504325",
     "exception": false,
     "start_time": "2025-02-08T03:38:12.501008",
     "status": "completed"
    },
    "tags": []
   },
   "source": [
    "If we look at the data using a log scale we can see the relative change more clearly."
   ]
  },
  {
   "cell_type": "markdown",
   "id": "0696f771",
   "metadata": {
    "papermill": {
     "duration": 0.00314,
     "end_time": "2025-02-08T03:38:12.510991",
     "exception": false,
     "start_time": "2025-02-08T03:38:12.507851",
     "status": "completed"
    },
    "tags": []
   },
   "source": [
    "Maybe what's interesting about this data is the relative change over time, rather than the absolute change over time."
   ]
  },
  {
   "cell_type": "code",
   "execution_count": 5,
   "id": "363f7f09",
   "metadata": {
    "execution": {
     "iopub.execute_input": "2025-02-08T03:38:12.519256Z",
     "iopub.status.busy": "2025-02-08T03:38:12.518906Z",
     "iopub.status.idle": "2025-02-08T03:38:12.617281Z",
     "shell.execute_reply": "2025-02-08T03:38:12.616103Z"
    },
    "papermill": {
     "duration": 0.104911,
     "end_time": "2025-02-08T03:38:12.619302",
     "exception": false,
     "start_time": "2025-02-08T03:38:12.514391",
     "status": "completed"
    },
    "tags": []
   },
   "outputs": [
    {
     "data": {
      "text/html": [
       "<iframe\n",
       "    scrolling=\"no\"\n",
       "    width=\"100%\"\n",
       "    height=\"545px\"\n",
       "    src=\"iframe_figures/figure_5.html\"\n",
       "    frameborder=\"0\"\n",
       "    allowfullscreen\n",
       "></iframe>\n"
      ]
     },
     "metadata": {},
     "output_type": "display_data"
    }
   ],
   "source": [
    "change_df = df.dropna().drop(columns=['date']).groupby(by=['country']).agg({'first', 'last'}).reset_index()\n",
    "change_df['change'] = change_df[('Forest area (sq. km)', 'last')] / change_df[('Forest area (sq. km)', 'first')]\n",
    "express.bar(data_frame=change_df.sort_values(by=['change']), x='country', y='change').show(renderer='iframe_connected',)"
   ]
  },
  {
   "cell_type": "markdown",
   "id": "e96047e3",
   "metadata": {
    "papermill": {
     "duration": 0.003379,
     "end_time": "2025-02-08T03:38:12.626648",
     "exception": false,
     "start_time": "2025-02-08T03:38:12.623269",
     "status": "completed"
    },
    "tags": []
   },
   "source": [
    "We might think of a net change of 1.0 as being the pass/fail line, with gainers as winners."
   ]
  }
 ],
 "metadata": {
  "kaggle": {
   "accelerator": "none",
   "dataSources": [
    {
     "datasetId": 6601661,
     "sourceId": 10660331,
     "sourceType": "datasetVersion"
    }
   ],
   "dockerImageVersionId": 30886,
   "isGpuEnabled": false,
   "isInternetEnabled": true,
   "language": "python",
   "sourceType": "notebook"
  },
  "kernelspec": {
   "display_name": "Python 3",
   "language": "python",
   "name": "python3"
  },
  "language_info": {
   "codemirror_mode": {
    "name": "ipython",
    "version": 3
   },
   "file_extension": ".py",
   "mimetype": "text/x-python",
   "name": "python",
   "nbconvert_exporter": "python",
   "pygments_lexer": "ipython3",
   "version": "3.10.12"
  },
  "papermill": {
   "default_parameters": {},
   "duration": 8.038604,
   "end_time": "2025-02-08T03:38:13.352827",
   "environment_variables": {},
   "exception": null,
   "input_path": "__notebook__.ipynb",
   "output_path": "__notebook__.ipynb",
   "parameters": {},
   "start_time": "2025-02-08T03:38:05.314223",
   "version": "2.6.0"
  }
 },
 "nbformat": 4,
 "nbformat_minor": 5
}
