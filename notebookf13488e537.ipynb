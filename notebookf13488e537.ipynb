{
 "cells": [
  {
   "cell_type": "code",
   "execution_count": 1,
   "id": "3e23f0b3",
   "metadata": {
    "_cell_guid": "b1076dfc-b9ad-4769-8c92-a6c4dae69d19",
    "_uuid": "8f2839f25d086af736a60e9eeb907d3b93b6e0e5",
    "execution": {
     "iopub.execute_input": "2025-03-29T19:23:07.259053Z",
     "iopub.status.busy": "2025-03-29T19:23:07.258719Z",
     "iopub.status.idle": "2025-03-29T19:23:07.401236Z",
     "shell.execute_reply": "2025-03-29T19:23:07.399685Z"
    },
    "papermill": {
     "duration": 0.148533,
     "end_time": "2025-03-29T19:23:07.403341",
     "exception": false,
     "start_time": "2025-03-29T19:23:07.254808",
     "status": "completed"
    },
    "tags": []
   },
   "outputs": [
    {
     "name": "stdout",
     "output_type": "stream",
     "text": [
      "'Carambola Anthracnose Disease'   'Carambola Healthy Leaf'\r\n",
      "'Carambola Bed Bugs Disease'\t  'Carambola Hooded Hopper Insect Disease'\r\n",
      "'Carambola Early Blight Disease'  'Carambola Leaf Insect Pest Disease'\r\n",
      "'Carambola Fruit Borer Disease'   'Carambola Stem Borer Disease'\r\n",
      "'Carambola Healthy Fruits'\r\n"
     ]
    }
   ],
   "source": [
    "!ls '/kaggle/input/carambola-disease-recognition-dataset/Carambola Disease Recognition Dataset/Original Images/Original Images'"
   ]
  },
  {
   "cell_type": "code",
   "execution_count": 2,
   "id": "20a81f40",
   "metadata": {
    "execution": {
     "iopub.execute_input": "2025-03-29T19:23:07.409905Z",
     "iopub.status.busy": "2025-03-29T19:23:07.409549Z",
     "iopub.status.idle": "2025-03-29T19:23:19.595170Z",
     "shell.execute_reply": "2025-03-29T19:23:19.593341Z"
    },
    "papermill": {
     "duration": 12.191244,
     "end_time": "2025-03-29T19:23:19.597475",
     "exception": false,
     "start_time": "2025-03-29T19:23:07.406231",
     "status": "completed"
    },
    "tags": []
   },
   "outputs": [
    {
     "name": "stderr",
     "output_type": "stream",
     "text": [
      "Downloading: \"https://download.pytorch.org/models/resnext50_32x4d-1a0047aa.pth\" to /root/.cache/torch/hub/checkpoints/resnext50_32x4d-1a0047aa.pth\n",
      "100%|██████████| 95.8M/95.8M [00:00<00:00, 166MB/s]\n"
     ]
    }
   ],
   "source": [
    "import torch\n",
    "import torchvision.models as models\n",
    "import torchvision.transforms as transforms\n",
    "import numpy as np\n",
    "\n",
    "\n",
    "DEVICE = torch.device('cpu')\n",
    "OUTPUT_SIZE = 2048\n",
    "\n",
    "model = models.resnext50_32x4d(weights=models.ResNeXt50_32X4D_Weights.IMAGENET1K_V2)\n",
    "\n",
    "extraction_layer = model._modules.get('avgpool')\n",
    "model.to(DEVICE)\n",
    "model.eval()\n",
    "\n",
    "scaler = transforms.Resize((224, 224))\n",
    "normalize = transforms.Normalize(mean=[0.485, 0.456, 0.406], std=[0.229, 0.224, 0.225])\n",
    "to_tensor = transforms.ToTensor()\n",
    "\n",
    "def get_vec(arg, model, extraction_layer):\n",
    "    image = normalize(to_tensor(scaler(arg))).unsqueeze(0).to(DEVICE)\n",
    "    result = torch.zeros(1, OUTPUT_SIZE, 1, 1)\n",
    "    def copy_data(m, i, o):\n",
    "        result.copy_(o.data)\n",
    "    hooked = extraction_layer.register_forward_hook(copy_data)\n",
    "    with torch.no_grad():\n",
    "        model(image)\n",
    "    hooked.remove()\n",
    "    return result"
   ]
  },
  {
   "cell_type": "code",
   "execution_count": 3,
   "id": "d814a308",
   "metadata": {
    "execution": {
     "iopub.execute_input": "2025-03-29T19:23:19.604764Z",
     "iopub.status.busy": "2025-03-29T19:23:19.604228Z",
     "iopub.status.idle": "2025-03-29T19:24:50.453289Z",
     "shell.execute_reply": "2025-03-29T19:24:50.451578Z"
    },
    "papermill": {
     "duration": 90.85555,
     "end_time": "2025-03-29T19:24:50.456026",
     "exception": false,
     "start_time": "2025-03-29T19:23:19.600476",
     "status": "completed"
    },
    "tags": []
   },
   "outputs": [
    {
     "name": "stdout",
     "output_type": "stream",
     "text": [
      "encoded 34 rows of Carambola Leaf Insect Pest Disease  in 0:00:05.487000\n",
      "encoded 63 rows of Carambola Fruit Borer Disease  in 0:00:10.657783\n",
      "encoded 36 rows of Carambola Stem Borer Disease  in 0:00:05.883128\n",
      "encoded 214 rows of Carambola Healthy Leaf  in 0:00:33.918655\n",
      "encoded 12 rows of Carambola Hooded Hopper Insect Disease  in 0:00:01.830243\n",
      "encoded 22 rows of Carambola Anthracnose Disease  in 0:00:03.421363\n",
      "encoded 17 rows of Carambola Early Blight Disease  in 0:00:02.658066\n",
      "encoded 71 rows of Carambola Bed Bugs Disease  in 0:00:10.945620\n",
      "encoded 90 rows of Carambola Healthy Fruits  in 0:00:14.958536\n",
      "done in 0:01:29.811522\n"
     ]
    }
   ],
   "source": [
    "import arrow\n",
    "import base64\n",
    "import pandas as pd\n",
    "from glob import iglob\n",
    "from io import BytesIO\n",
    "from os.path import basename\n",
    "from PIL import Image\n",
    "\n",
    "THUMBNAIL_SIZE = (64, 64)\n",
    "TRAIN = '/kaggle/input/carambola-disease-recognition-dataset/Carambola Disease Recognition Dataset/Original Images/Original Images'\n",
    "\n",
    "\n",
    "def embed(model, filename: str):\n",
    "    with Image.open(fp=filename, mode='r') as image:\n",
    "        return get_vec(arg=image.convert('RGB'), model=model, extraction_layer=extraction_layer).numpy().reshape(OUTPUT_SIZE,)\n",
    "\n",
    "\n",
    "# https://stackoverflow.com/a/952952\n",
    "def flatten(arg):\n",
    "    return [x for xs in arg for x in xs]\n",
    "\n",
    "def png(filename: str) -> str:\n",
    "    with Image.open(fp=filename, mode='r') as image:\n",
    "        buffer = BytesIO()\n",
    "        # our images are pretty big; let's shrink the hover images to thumbnail size\n",
    "        image.resize(size=THUMBNAIL_SIZE).convert('RGB').save(buffer, format='png')\n",
    "        return 'data:image/png;base64,' + base64.b64encode(buffer.getvalue()).decode()\n",
    "\n",
    "def get_picture_from_glob(arg: str, tag: str,) -> list:\n",
    "    time_get = arrow.now()\n",
    "    result = [pd.Series(data=[tag, basename(input_file), embed(model=model, filename=input_file), png(filename=input_file)],\n",
    "                        index=['tag', 'name', 'value', 'png'])\n",
    "        for index, input_file in enumerate(list(iglob(pathname=arg))) if input_file.endswith('.jpg') and index < 250]\n",
    "    print('encoded {} rows of {}  in {}'.format(len(result), tag, arrow.now() - time_get))\n",
    "    return result\n",
    "\n",
    "time_start = arrow.now()\n",
    "train_dict = {basename(folder) : folder + '/*.*' for folder in iglob(TRAIN + '/*')}\n",
    "train_df = pd.DataFrame(data=flatten(arg=[get_picture_from_glob(arg=value, tag=key) for key, value in train_dict.items()]))\n",
    "print('done in {}'.format(arrow.now() - time_start))"
   ]
  },
  {
   "cell_type": "code",
   "execution_count": 4,
   "id": "8bc9715e",
   "metadata": {
    "execution": {
     "iopub.execute_input": "2025-03-29T19:24:50.464807Z",
     "iopub.status.busy": "2025-03-29T19:24:50.464152Z",
     "iopub.status.idle": "2025-03-29T19:24:50.471782Z",
     "shell.execute_reply": "2025-03-29T19:24:50.470664Z"
    },
    "papermill": {
     "duration": 0.013755,
     "end_time": "2025-03-29T19:24:50.473595",
     "exception": false,
     "start_time": "2025-03-29T19:24:50.459840",
     "status": "completed"
    },
    "tags": []
   },
   "outputs": [
    {
     "data": {
      "text/plain": [
       "(559, 4)"
      ]
     },
     "execution_count": 4,
     "metadata": {},
     "output_type": "execute_result"
    }
   ],
   "source": [
    "train_df.shape"
   ]
  }
 ],
 "metadata": {
  "kaggle": {
   "accelerator": "none",
   "dataSources": [
    {
     "datasetId": 6968983,
     "sourceId": 11167511,
     "sourceType": "datasetVersion"
    }
   ],
   "dockerImageVersionId": 30918,
   "isGpuEnabled": false,
   "isInternetEnabled": true,
   "language": "python",
   "sourceType": "notebook"
  },
  "kernelspec": {
   "display_name": "Python 3",
   "language": "python",
   "name": "python3"
  },
  "language_info": {
   "codemirror_mode": {
    "name": "ipython",
    "version": 3
   },
   "file_extension": ".py",
   "mimetype": "text/x-python",
   "name": "python",
   "nbconvert_exporter": "python",
   "pygments_lexer": "ipython3",
   "version": "3.10.12"
  },
  "papermill": {
   "default_parameters": {},
   "duration": 108.700974,
   "end_time": "2025-03-29T19:24:52.891608",
   "environment_variables": {},
   "exception": null,
   "input_path": "__notebook__.ipynb",
   "output_path": "__notebook__.ipynb",
   "parameters": {},
   "start_time": "2025-03-29T19:23:04.190634",
   "version": "2.6.0"
  }
 },
 "nbformat": 4,
 "nbformat_minor": 5
}
