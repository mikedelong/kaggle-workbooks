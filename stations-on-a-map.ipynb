{
 "cells": [
  {
   "cell_type": "code",
   "execution_count": 1,
   "id": "ecf03789",
   "metadata": {
    "execution": {
     "iopub.execute_input": "2024-02-06T19:43:04.645297Z",
     "iopub.status.busy": "2024-02-06T19:43:04.644608Z",
     "iopub.status.idle": "2024-02-06T19:43:17.470820Z",
     "shell.execute_reply": "2024-02-06T19:43:17.468881Z"
    },
    "papermill": {
     "duration": 12.832844,
     "end_time": "2024-02-06T19:43:17.473596",
     "exception": false,
     "start_time": "2024-02-06T19:43:04.640752",
     "status": "completed"
    },
    "tags": []
   },
   "outputs": [
    {
     "name": "stdout",
     "output_type": "stream",
     "text": [
      "pip install geocoder complete.\n"
     ]
    }
   ],
   "source": [
    "!pip install --quiet geocoder\n",
    "print('pip install geocoder complete.')"
   ]
  },
  {
   "cell_type": "code",
   "execution_count": 2,
   "id": "13046090",
   "metadata": {
    "execution": {
     "iopub.execute_input": "2024-02-06T19:43:17.479678Z",
     "iopub.status.busy": "2024-02-06T19:43:17.479308Z",
     "iopub.status.idle": "2024-02-06T19:43:18.444396Z",
     "shell.execute_reply": "2024-02-06T19:43:18.442864Z"
    },
    "papermill": {
     "duration": 0.970436,
     "end_time": "2024-02-06T19:43:18.446352",
     "exception": false,
     "start_time": "2024-02-06T19:43:17.475916",
     "status": "completed"
    },
    "tags": []
   },
   "outputs": [
    {
     "data": {
      "text/html": [
       "<div>\n",
       "<style scoped>\n",
       "    .dataframe tbody tr th:only-of-type {\n",
       "        vertical-align: middle;\n",
       "    }\n",
       "\n",
       "    .dataframe tbody tr th {\n",
       "        vertical-align: top;\n",
       "    }\n",
       "\n",
       "    .dataframe thead th {\n",
       "        text-align: right;\n",
       "    }\n",
       "</style>\n",
       "<table border=\"1\" class=\"dataframe\">\n",
       "  <thead>\n",
       "    <tr style=\"text-align: right;\">\n",
       "      <th></th>\n",
       "      <th>Zone</th>\n",
       "      <th>Division</th>\n",
       "      <th>Corridor Name</th>\n",
       "      <th>Interchange</th>\n",
       "      <th>Station Name</th>\n",
       "      <th>Layout</th>\n",
       "    </tr>\n",
       "  </thead>\n",
       "  <tbody>\n",
       "    <tr>\n",
       "      <th>0</th>\n",
       "      <td>12</td>\n",
       "      <td>159</td>\n",
       "      <td>Corridor 1 Green Line</td>\n",
       "      <td>Sub Urban South Line</td>\n",
       "      <td>Chennai Airport</td>\n",
       "      <td>Elevated</td>\n",
       "    </tr>\n",
       "    <tr>\n",
       "      <th>1</th>\n",
       "      <td>12</td>\n",
       "      <td>159</td>\n",
       "      <td>Corridor 1 Green Line</td>\n",
       "      <td>No</td>\n",
       "      <td>Meenambakkam</td>\n",
       "      <td>Elevated</td>\n",
       "    </tr>\n",
       "    <tr>\n",
       "      <th>2</th>\n",
       "      <td>Cantonment</td>\n",
       "      <td>Cantonment</td>\n",
       "      <td>Corridor 1 Green Line</td>\n",
       "      <td>No</td>\n",
       "      <td>Nanganallur road</td>\n",
       "      <td>Elevated</td>\n",
       "    </tr>\n",
       "    <tr>\n",
       "      <th>3</th>\n",
       "      <td>Cantonment</td>\n",
       "      <td>Cantonment</td>\n",
       "      <td>Corridor 1 Green Line</td>\n",
       "      <td>CMRL Blue line</td>\n",
       "      <td>Alandur</td>\n",
       "      <td>Elevated</td>\n",
       "    </tr>\n",
       "    <tr>\n",
       "      <th>4</th>\n",
       "      <td>12</td>\n",
       "      <td>160</td>\n",
       "      <td>Corridor 1 Green Line</td>\n",
       "      <td>Sub Urban South Line</td>\n",
       "      <td>Gindy</td>\n",
       "      <td>Elevated</td>\n",
       "    </tr>\n",
       "  </tbody>\n",
       "</table>\n",
       "</div>"
      ],
      "text/plain": [
       "         Zone    Division          Corridor Name           Interchange  \\\n",
       "0          12         159  Corridor 1 Green Line  Sub Urban South Line   \n",
       "1          12         159  Corridor 1 Green Line                    No   \n",
       "2  Cantonment  Cantonment  Corridor 1 Green Line                    No   \n",
       "3  Cantonment  Cantonment  Corridor 1 Green Line        CMRL Blue line   \n",
       "4          12         160  Corridor 1 Green Line  Sub Urban South Line   \n",
       "\n",
       "       Station Name    Layout  \n",
       "0   Chennai Airport  Elevated  \n",
       "1      Meenambakkam  Elevated  \n",
       "2  Nanganallur road  Elevated  \n",
       "3           Alandur  Elevated  \n",
       "4             Gindy  Elevated  "
      ]
     },
     "execution_count": 2,
     "metadata": {},
     "output_type": "execute_result"
    }
   ],
   "source": [
    "import pandas as pd\n",
    "from warnings import filterwarnings\n",
    "filterwarnings(action='ignore', category=FutureWarning)\n",
    "\n",
    "CHENNAI = '/kaggle/input/chennai-metro-dataset/chennai_metro_rail_limited_chennai.csv'\n",
    "df = pd.read_csv(filepath_or_buffer=CHENNAI).drop(columns=['City'])\n",
    "df.head()"
   ]
  },
  {
   "cell_type": "code",
   "execution_count": 3,
   "id": "ffc3c9d0",
   "metadata": {
    "execution": {
     "iopub.execute_input": "2024-02-06T19:43:18.452841Z",
     "iopub.status.busy": "2024-02-06T19:43:18.451787Z",
     "iopub.status.idle": "2024-02-06T19:43:40.471333Z",
     "shell.execute_reply": "2024-02-06T19:43:40.469631Z"
    },
    "papermill": {
     "duration": 22.025486,
     "end_time": "2024-02-06T19:43:40.474030",
     "exception": false,
     "start_time": "2024-02-06T19:43:18.448544",
     "status": "completed"
    },
    "tags": []
   },
   "outputs": [
    {
     "name": "stdout",
     "output_type": "stream",
     "text": [
      "done in 0:00:21.916561\n"
     ]
    }
   ],
   "source": [
    "from arrow import now\n",
    "from geocoder import arcgis\n",
    "time_start = now()\n",
    "latitude = []\n",
    "longitude = []\n",
    "for name in df['Station Name'].values:\n",
    "    result = arcgis(name + ' Chennai, India').latlng\n",
    "    latitude.append(result[0])\n",
    "    longitude.append(result[1])\n",
    "df['latitude'] = latitude\n",
    "df['longitude'] = longitude\n",
    "print('done in {}'.format(now() - time_start))"
   ]
  },
  {
   "cell_type": "code",
   "execution_count": 4,
   "id": "c3da9943",
   "metadata": {
    "execution": {
     "iopub.execute_input": "2024-02-06T19:43:40.480232Z",
     "iopub.status.busy": "2024-02-06T19:43:40.479870Z",
     "iopub.status.idle": "2024-02-06T19:43:43.157403Z",
     "shell.execute_reply": "2024-02-06T19:43:43.156297Z"
    },
    "papermill": {
     "duration": 2.683439,
     "end_time": "2024-02-06T19:43:43.159913",
     "exception": false,
     "start_time": "2024-02-06T19:43:40.476474",
     "status": "completed"
    },
    "tags": []
   },
   "outputs": [
    {
     "data": {
      "text/html": [
       "        <script type=\"text/javascript\">\n",
       "        window.PlotlyConfig = {MathJaxConfig: 'local'};\n",
       "        if (window.MathJax && window.MathJax.Hub && window.MathJax.Hub.Config) {window.MathJax.Hub.Config({SVG: {font: \"STIX-Web\"}});}\n",
       "        if (typeof require !== 'undefined') {\n",
       "        require.undef(\"plotly\");\n",
       "        requirejs.config({\n",
       "            paths: {\n",
       "                'plotly': ['https://cdn.plot.ly/plotly-2.27.0.min']\n",
       "            }\n",
       "        });\n",
       "        require(['plotly'], function(Plotly) {\n",
       "            window._Plotly = Plotly;\n",
       "        });\n",
       "        }\n",
       "        </script>\n",
       "        "
      ]
     },
     "metadata": {},
     "output_type": "display_data"
    },
    {
     "data": {
      "text/html": [
       "<div>                            <div id=\"93e5feec-b81a-480d-bc62-97c81f218e69\" class=\"plotly-graph-div\" style=\"height:900px; width:100%;\"></div>            <script type=\"text/javascript\">                require([\"plotly\"], function(Plotly) {                    window.PLOTLYENV=window.PLOTLYENV || {};                                    if (document.getElementById(\"93e5feec-b81a-480d-bc62-97c81f218e69\")) {                    Plotly.newPlot(                        \"93e5feec-b81a-480d-bc62-97c81f218e69\",                        [{\"customdata\":[[\"10\",\"127\",\"Corridor 2 Blue line\",\"No\",\"Elevated\"],[\"10\",\"127\",\"Corridor 2 Blue line\",\"No\",\"Elevated\"],[\"10\",\"130\",\"Corridor 2 Blue line\",\"No\",\"Elevated\"],[\"10\",\"132\",\"Corridor 2 Blue line\",\"No\",\"Elevated\"]],\"hovertemplate\":\"\\u003cb\\u003e%{hovertext}\\u003c\\u002fb\\u003e\\u003cbr\\u003e\\u003cbr\\u003eZone=%{customdata[0]}\\u003cbr\\u003elatitude=%{lat}\\u003cbr\\u003elongitude=%{lon}\\u003cbr\\u003eDivision=%{customdata[1]}\\u003cbr\\u003eCorridor Name=%{customdata[2]}\\u003cbr\\u003eInterchange=%{customdata[3]}\\u003cbr\\u003eLayout=%{customdata[4]}\\u003cextra\\u003e\\u003c\\u002fextra\\u003e\",\"hovertext\":[\"Koyembedu\",\"CMBT\",\"Vadapalani\",\"Ashok Nagar KK Nagar\"],\"lat\":[13.065990000000056,13.071023718536074,13.052260000000047,13.035490000000038],\"legendgroup\":\"10\",\"lon\":[80.19733000000008,80.20358570396962,80.21120000000008,80.21221000000008],\"marker\":{\"color\":\"#636efa\"},\"mode\":\"markers\",\"name\":\"10\",\"showlegend\":true,\"subplot\":\"mapbox\",\"type\":\"scattermapbox\"},{\"customdata\":[[\"12\",\"159\",\"Corridor 1 Green Line\",\"Sub Urban South Line\",\"Elevated\"],[\"12\",\"159\",\"Corridor 1 Green Line\",\"No\",\"Elevated\"],[\"12\",\"160\",\"Corridor 1 Green Line\",\"Sub Urban South Line\",\"Elevated\"],[\"12\",\"162\",\"Corridor 2 Blue line\",\"Sub Urban South Line\",\"Elevated\"]],\"hovertemplate\":\"\\u003cb\\u003e%{hovertext}\\u003c\\u002fb\\u003e\\u003cbr\\u003e\\u003cbr\\u003eZone=%{customdata[0]}\\u003cbr\\u003elatitude=%{lat}\\u003cbr\\u003elongitude=%{lon}\\u003cbr\\u003eDivision=%{customdata[1]}\\u003cbr\\u003eCorridor Name=%{customdata[2]}\\u003cbr\\u003eInterchange=%{customdata[3]}\\u003cbr\\u003eLayout=%{customdata[4]}\\u003cextra\\u003e\\u003c\\u002fextra\\u003e\",\"hovertext\":[\"Chennai Airport\",\"Meenambakkam\",\"Gindy\",\"St Thomas Mount\"],\"lat\":[12.998250000000041,12.986460000000022,13.004220000000032,13.007980000000032],\"legendgroup\":\"12\",\"lon\":[80.18088000000006,80.17598000000004,80.22016000000008,80.19601000000006],\"marker\":{\"color\":\"#EF553B\"},\"mode\":\"markers\",\"name\":\"12\",\"showlegend\":true,\"subplot\":\"mapbox\",\"type\":\"scattermapbox\"},{\"customdata\":[[\"13\",\"170\",\"Corridor 1 Green Line\",\"No\",\"Elevated\"],[\"13\",\"171\",\"Corridor 1 Green Line\",\"No\",\"Underground\"],[\"13\",\"170\",\"Corridor 2 Blue line\",\"No\",\"Elevated\"]],\"hovertemplate\":\"\\u003cb\\u003e%{hovertext}\\u003c\\u002fb\\u003e\\u003cbr\\u003e\\u003cbr\\u003eZone=%{customdata[0]}\\u003cbr\\u003elatitude=%{lat}\\u003cbr\\u003elongitude=%{lon}\\u003cbr\\u003eDivision=%{customdata[1]}\\u003cbr\\u003eCorridor Name=%{customdata[2]}\\u003cbr\\u003eInterchange=%{customdata[3]}\\u003cbr\\u003eLayout=%{customdata[4]}\\u003cextra\\u003e\\u003c\\u002fextra\\u003e\",\"hovertext\":[\"Liltle mount\",\"Saidapet\",\"Ekkattuthanqal\"],\"lat\":[13.010980000000075,13.020470000000046,13.025109070129512],\"legendgroup\":\"13\",\"lon\":[80.22368000000006,80.22157000000004,80.20869081563234],\"marker\":{\"color\":\"#00cc96\"},\"mode\":\"markers\",\"name\":\"13\",\"showlegend\":true,\"subplot\":\"mapbox\",\"type\":\"scattermapbox\"},{\"customdata\":[[\"5\",\"58\",\"Corridor 2 Blue line\",\"Sub Urban South Line \",\"Underground\"],[\"5\",\"55\",\"Corridor 1 Green Line\",\"No\",\"Underground\"],[\"5\",\"60\",\"Corridor 1 Green Line\",\"No\",\"Underground\"],[\"5\",\"52\",\"Corridor 1 Green Line\",\"No\",\"Underground\"],[\"5\",\"59\",\"Corridor 1 Green Line\",\"No\",\"Underground\"],[\"5\",\"58\",\"Corridor 1 Green Line\",\"Sub-Urban South Line,North Line, West Line, MRTS Line: CMRL Blue line\",\"Underground\"],[\"5\",\"58\",\"Corridor 2 Blue line\",\"Sub Urban South Line; North Line; West Line; MRTS Line CMRL Green line\",\"Underground\"],[\"5\",\"63\",\"Corridor 1 Green Line\",\"No\",\"Underground\"]],\"hovertemplate\":\"\\u003cb\\u003e%{hovertext}\\u003c\\u002fb\\u003e\\u003cbr\\u003e\\u003cbr\\u003eZone=%{customdata[0]}\\u003cbr\\u003elatitude=%{lat}\\u003cbr\\u003elongitude=%{lon}\\u003cbr\\u003eDivision=%{customdata[1]}\\u003cbr\\u003eCorridor Name=%{customdata[2]}\\u003cbr\\u003eInterchange=%{customdata[3]}\\u003cbr\\u003eLayout=%{customdata[4]}\\u003cextra\\u003e\\u003c\\u002fextra\\u003e\",\"hovertext\":[\"Egmore\",\"Manadi\",\"Highcourt\",\"Washermenpet\",\"Government Estate\",\"Chennai Central\",\"Central Metro\",\"LIC\"],\"lat\":[13.074280000000044,13.168710000000033,13.085440000000062,13.109500000000025,13.067800000000034,13.087060000000065,13.081270000000075,13.00225000000006],\"legendgroup\":\"5\",\"lon\":[80.25920000000008,80.27222000000006,80.28528000000006,80.28701000000007,80.27643000000006,80.27590000000004,80.27276000000006,80.20507000000003],\"marker\":{\"color\":\"#ab63fa\"},\"mode\":\"markers\",\"name\":\"5\",\"showlegend\":true,\"subplot\":\"mapbox\",\"type\":\"scattermapbox\"},{\"customdata\":[[\"8\",\"108\",\"Corridor 2 Blue line\",\"No\",\"Elevated\"],[\"8\",\"99\",\"Corridor 2 Blue line\",\"No\",\"Underground\"],[\"8\",\"100\",\"Corridor 2 Blue line\",\"No\",\"Underground\"],[\"8\",\"101\",\"Corridor 2 Blue line\",\"No\",\"Underground\"],[\"8\",\"102\",\"Corridor 2 Blue line\",\"No\",\"Underground\"],[\"8\",\"103\",\"Corridor 2 Blue line\",\"No\",\"Underground\"],[\"8\",\"103\",\"Corridor 2 Blue line\",\"No\",\"Underground\"],[\"8\",\"104\",\"Corridor 2 Blue line\",\"No\",\"Underground\"]],\"hovertemplate\":\"\\u003cb\\u003e%{hovertext}\\u003c\\u002fb\\u003e\\u003cbr\\u003e\\u003cbr\\u003eZone=%{customdata[0]}\\u003cbr\\u003elatitude=%{lat}\\u003cbr\\u003elongitude=%{lon}\\u003cbr\\u003eDivision=%{customdata[1]}\\u003cbr\\u003eCorridor Name=%{customdata[2]}\\u003cbr\\u003eInterchange=%{customdata[3]}\\u003cbr\\u003eLayout=%{customdata[4]}\\u003cextra\\u003e\\u003c\\u002fextra\\u003e\",\"hovertext\":[\"Arumbakkam\",\"Thirumangalam\",\"Anna Nagar Tower\",\"Anna Nagar East\",\"Shenoy Nagar\",\"Pachaiyappa's College\",\"Kilpauk\",\"Nehru Fark\"],\"lat\":[13.073080000000061,13.082850000000064,13.085100000000068,13.08821000000006,13.077320000000043,13.075560000000053,13.081960000000038,13.07824000000005],\"legendgroup\":\"8\",\"lon\":[80.20952000000005,80.19699000000008,80.20898000000005,80.22291000000007,80.22495000000004,80.23323000000005,80.24447000000004,80.25162000000006],\"marker\":{\"color\":\"#FFA15A\"},\"mode\":\"markers\",\"name\":\"8\",\"showlegend\":true,\"subplot\":\"mapbox\",\"type\":\"scattermapbox\"},{\"customdata\":[[\"9\",\"117\",\"Corridor 1 Green Line\",\"No\",\"Underground\"],[\"9\",\"122\",\"Corridor 1 Green Line\",\"No\",\"Underground\"],[\"9\",\"122\",\"Corridor 1 Green Line\",\"No\",\"Underground\"],[\"9\",\"111\",\"Corridor 1 Green Line\",\"No\",\"Underground\"]],\"hovertemplate\":\"\\u003cb\\u003e%{hovertext}\\u003c\\u002fb\\u003e\\u003cbr\\u003e\\u003cbr\\u003eZone=%{customdata[0]}\\u003cbr\\u003elatitude=%{lat}\\u003cbr\\u003elongitude=%{lon}\\u003cbr\\u003eDivision=%{customdata[1]}\\u003cbr\\u003eCorridor Name=%{customdata[2]}\\u003cbr\\u003eInterchange=%{customdata[3]}\\u003cbr\\u003eLayout=%{customdata[4]}\\u003cextra\\u003e\\u003c\\u002fextra\\u003e\",\"hovertext\":[\"AG-DMS\",\"Teynampet\",\"Nandanam\",\"Thousand Lights\"],\"lat\":[13.08376000000004,13.048180000000059,13.028800000000047,13.05887000000007],\"legendgroup\":\"9\",\"lon\":[80.28256000000005,80.24967000000004,80.24090000000007,80.25196000000005],\"marker\":{\"color\":\"#19d3f3\"},\"mode\":\"markers\",\"name\":\"9\",\"showlegend\":true,\"subplot\":\"mapbox\",\"type\":\"scattermapbox\"},{\"customdata\":[[\"Cantonment\",\"Cantonment\",\"Corridor 2 Blue line\",\"CMRL Green Line\",\"Elevated\"],[\"Cantonment\",\"Cantonment\",\"Corridor 1 Green Line\",\"CMRL Blue line\",\"Elevated\"],[\"Cantonment\",\"Cantonment\",\"Corridor 1 Green Line\",\"No\",\"Elevated\"]],\"hovertemplate\":\"\\u003cb\\u003e%{hovertext}\\u003c\\u002fb\\u003e\\u003cbr\\u003e\\u003cbr\\u003eZone=%{customdata[0]}\\u003cbr\\u003elatitude=%{lat}\\u003cbr\\u003elongitude=%{lon}\\u003cbr\\u003eDivision=%{customdata[1]}\\u003cbr\\u003eCorridor Name=%{customdata[2]}\\u003cbr\\u003eInterchange=%{customdata[3]}\\u003cbr\\u003eLayout=%{customdata[4]}\\u003cextra\\u003e\\u003c\\u002fextra\\u003e\",\"hovertext\":[\"Alandur\",\"Alandur\",\"Nanganallur road\"],\"lat\":[13.000120000000038,13.000120000000038,12.99980000000005],\"legendgroup\":\"Cantonment\",\"lon\":[80.20048000000008,80.20048000000008,80.19407000000007],\"marker\":{\"color\":\"#FF6692\"},\"mode\":\"markers\",\"name\":\"Cantonment\",\"showlegend\":true,\"subplot\":\"mapbox\",\"type\":\"scattermapbox\"}],                        {\"template\":{\"data\":{\"histogram2dcontour\":[{\"type\":\"histogram2dcontour\",\"colorbar\":{\"outlinewidth\":0,\"ticks\":\"\"},\"colorscale\":[[0.0,\"#0d0887\"],[0.1111111111111111,\"#46039f\"],[0.2222222222222222,\"#7201a8\"],[0.3333333333333333,\"#9c179e\"],[0.4444444444444444,\"#bd3786\"],[0.5555555555555556,\"#d8576b\"],[0.6666666666666666,\"#ed7953\"],[0.7777777777777778,\"#fb9f3a\"],[0.8888888888888888,\"#fdca26\"],[1.0,\"#f0f921\"]]}],\"choropleth\":[{\"type\":\"choropleth\",\"colorbar\":{\"outlinewidth\":0,\"ticks\":\"\"}}],\"histogram2d\":[{\"type\":\"histogram2d\",\"colorbar\":{\"outlinewidth\":0,\"ticks\":\"\"},\"colorscale\":[[0.0,\"#0d0887\"],[0.1111111111111111,\"#46039f\"],[0.2222222222222222,\"#7201a8\"],[0.3333333333333333,\"#9c179e\"],[0.4444444444444444,\"#bd3786\"],[0.5555555555555556,\"#d8576b\"],[0.6666666666666666,\"#ed7953\"],[0.7777777777777778,\"#fb9f3a\"],[0.8888888888888888,\"#fdca26\"],[1.0,\"#f0f921\"]]}],\"heatmap\":[{\"type\":\"heatmap\",\"colorbar\":{\"outlinewidth\":0,\"ticks\":\"\"},\"colorscale\":[[0.0,\"#0d0887\"],[0.1111111111111111,\"#46039f\"],[0.2222222222222222,\"#7201a8\"],[0.3333333333333333,\"#9c179e\"],[0.4444444444444444,\"#bd3786\"],[0.5555555555555556,\"#d8576b\"],[0.6666666666666666,\"#ed7953\"],[0.7777777777777778,\"#fb9f3a\"],[0.8888888888888888,\"#fdca26\"],[1.0,\"#f0f921\"]]}],\"heatmapgl\":[{\"type\":\"heatmapgl\",\"colorbar\":{\"outlinewidth\":0,\"ticks\":\"\"},\"colorscale\":[[0.0,\"#0d0887\"],[0.1111111111111111,\"#46039f\"],[0.2222222222222222,\"#7201a8\"],[0.3333333333333333,\"#9c179e\"],[0.4444444444444444,\"#bd3786\"],[0.5555555555555556,\"#d8576b\"],[0.6666666666666666,\"#ed7953\"],[0.7777777777777778,\"#fb9f3a\"],[0.8888888888888888,\"#fdca26\"],[1.0,\"#f0f921\"]]}],\"contourcarpet\":[{\"type\":\"contourcarpet\",\"colorbar\":{\"outlinewidth\":0,\"ticks\":\"\"}}],\"contour\":[{\"type\":\"contour\",\"colorbar\":{\"outlinewidth\":0,\"ticks\":\"\"},\"colorscale\":[[0.0,\"#0d0887\"],[0.1111111111111111,\"#46039f\"],[0.2222222222222222,\"#7201a8\"],[0.3333333333333333,\"#9c179e\"],[0.4444444444444444,\"#bd3786\"],[0.5555555555555556,\"#d8576b\"],[0.6666666666666666,\"#ed7953\"],[0.7777777777777778,\"#fb9f3a\"],[0.8888888888888888,\"#fdca26\"],[1.0,\"#f0f921\"]]}],\"surface\":[{\"type\":\"surface\",\"colorbar\":{\"outlinewidth\":0,\"ticks\":\"\"},\"colorscale\":[[0.0,\"#0d0887\"],[0.1111111111111111,\"#46039f\"],[0.2222222222222222,\"#7201a8\"],[0.3333333333333333,\"#9c179e\"],[0.4444444444444444,\"#bd3786\"],[0.5555555555555556,\"#d8576b\"],[0.6666666666666666,\"#ed7953\"],[0.7777777777777778,\"#fb9f3a\"],[0.8888888888888888,\"#fdca26\"],[1.0,\"#f0f921\"]]}],\"mesh3d\":[{\"type\":\"mesh3d\",\"colorbar\":{\"outlinewidth\":0,\"ticks\":\"\"}}],\"scatter\":[{\"fillpattern\":{\"fillmode\":\"overlay\",\"size\":10,\"solidity\":0.2},\"type\":\"scatter\"}],\"parcoords\":[{\"type\":\"parcoords\",\"line\":{\"colorbar\":{\"outlinewidth\":0,\"ticks\":\"\"}}}],\"scatterpolargl\":[{\"type\":\"scatterpolargl\",\"marker\":{\"colorbar\":{\"outlinewidth\":0,\"ticks\":\"\"}}}],\"bar\":[{\"error_x\":{\"color\":\"#2a3f5f\"},\"error_y\":{\"color\":\"#2a3f5f\"},\"marker\":{\"line\":{\"color\":\"#E5ECF6\",\"width\":0.5},\"pattern\":{\"fillmode\":\"overlay\",\"size\":10,\"solidity\":0.2}},\"type\":\"bar\"}],\"scattergeo\":[{\"type\":\"scattergeo\",\"marker\":{\"colorbar\":{\"outlinewidth\":0,\"ticks\":\"\"}}}],\"scatterpolar\":[{\"type\":\"scatterpolar\",\"marker\":{\"colorbar\":{\"outlinewidth\":0,\"ticks\":\"\"}}}],\"histogram\":[{\"marker\":{\"pattern\":{\"fillmode\":\"overlay\",\"size\":10,\"solidity\":0.2}},\"type\":\"histogram\"}],\"scattergl\":[{\"type\":\"scattergl\",\"marker\":{\"colorbar\":{\"outlinewidth\":0,\"ticks\":\"\"}}}],\"scatter3d\":[{\"type\":\"scatter3d\",\"line\":{\"colorbar\":{\"outlinewidth\":0,\"ticks\":\"\"}},\"marker\":{\"colorbar\":{\"outlinewidth\":0,\"ticks\":\"\"}}}],\"scattermapbox\":[{\"type\":\"scattermapbox\",\"marker\":{\"colorbar\":{\"outlinewidth\":0,\"ticks\":\"\"}}}],\"scatterternary\":[{\"type\":\"scatterternary\",\"marker\":{\"colorbar\":{\"outlinewidth\":0,\"ticks\":\"\"}}}],\"scattercarpet\":[{\"type\":\"scattercarpet\",\"marker\":{\"colorbar\":{\"outlinewidth\":0,\"ticks\":\"\"}}}],\"carpet\":[{\"aaxis\":{\"endlinecolor\":\"#2a3f5f\",\"gridcolor\":\"white\",\"linecolor\":\"white\",\"minorgridcolor\":\"white\",\"startlinecolor\":\"#2a3f5f\"},\"baxis\":{\"endlinecolor\":\"#2a3f5f\",\"gridcolor\":\"white\",\"linecolor\":\"white\",\"minorgridcolor\":\"white\",\"startlinecolor\":\"#2a3f5f\"},\"type\":\"carpet\"}],\"table\":[{\"cells\":{\"fill\":{\"color\":\"#EBF0F8\"},\"line\":{\"color\":\"white\"}},\"header\":{\"fill\":{\"color\":\"#C8D4E3\"},\"line\":{\"color\":\"white\"}},\"type\":\"table\"}],\"barpolar\":[{\"marker\":{\"line\":{\"color\":\"#E5ECF6\",\"width\":0.5},\"pattern\":{\"fillmode\":\"overlay\",\"size\":10,\"solidity\":0.2}},\"type\":\"barpolar\"}],\"pie\":[{\"automargin\":true,\"type\":\"pie\"}]},\"layout\":{\"autotypenumbers\":\"strict\",\"colorway\":[\"#636efa\",\"#EF553B\",\"#00cc96\",\"#ab63fa\",\"#FFA15A\",\"#19d3f3\",\"#FF6692\",\"#B6E880\",\"#FF97FF\",\"#FECB52\"],\"font\":{\"color\":\"#2a3f5f\"},\"hovermode\":\"closest\",\"hoverlabel\":{\"align\":\"left\"},\"paper_bgcolor\":\"white\",\"plot_bgcolor\":\"#E5ECF6\",\"polar\":{\"bgcolor\":\"#E5ECF6\",\"angularaxis\":{\"gridcolor\":\"white\",\"linecolor\":\"white\",\"ticks\":\"\"},\"radialaxis\":{\"gridcolor\":\"white\",\"linecolor\":\"white\",\"ticks\":\"\"}},\"ternary\":{\"bgcolor\":\"#E5ECF6\",\"aaxis\":{\"gridcolor\":\"white\",\"linecolor\":\"white\",\"ticks\":\"\"},\"baxis\":{\"gridcolor\":\"white\",\"linecolor\":\"white\",\"ticks\":\"\"},\"caxis\":{\"gridcolor\":\"white\",\"linecolor\":\"white\",\"ticks\":\"\"}},\"coloraxis\":{\"colorbar\":{\"outlinewidth\":0,\"ticks\":\"\"}},\"colorscale\":{\"sequential\":[[0.0,\"#0d0887\"],[0.1111111111111111,\"#46039f\"],[0.2222222222222222,\"#7201a8\"],[0.3333333333333333,\"#9c179e\"],[0.4444444444444444,\"#bd3786\"],[0.5555555555555556,\"#d8576b\"],[0.6666666666666666,\"#ed7953\"],[0.7777777777777778,\"#fb9f3a\"],[0.8888888888888888,\"#fdca26\"],[1.0,\"#f0f921\"]],\"sequentialminus\":[[0.0,\"#0d0887\"],[0.1111111111111111,\"#46039f\"],[0.2222222222222222,\"#7201a8\"],[0.3333333333333333,\"#9c179e\"],[0.4444444444444444,\"#bd3786\"],[0.5555555555555556,\"#d8576b\"],[0.6666666666666666,\"#ed7953\"],[0.7777777777777778,\"#fb9f3a\"],[0.8888888888888888,\"#fdca26\"],[1.0,\"#f0f921\"]],\"diverging\":[[0,\"#8e0152\"],[0.1,\"#c51b7d\"],[0.2,\"#de77ae\"],[0.3,\"#f1b6da\"],[0.4,\"#fde0ef\"],[0.5,\"#f7f7f7\"],[0.6,\"#e6f5d0\"],[0.7,\"#b8e186\"],[0.8,\"#7fbc41\"],[0.9,\"#4d9221\"],[1,\"#276419\"]]},\"xaxis\":{\"gridcolor\":\"white\",\"linecolor\":\"white\",\"ticks\":\"\",\"title\":{\"standoff\":15},\"zerolinecolor\":\"white\",\"automargin\":true,\"zerolinewidth\":2},\"yaxis\":{\"gridcolor\":\"white\",\"linecolor\":\"white\",\"ticks\":\"\",\"title\":{\"standoff\":15},\"zerolinecolor\":\"white\",\"automargin\":true,\"zerolinewidth\":2},\"scene\":{\"xaxis\":{\"backgroundcolor\":\"#E5ECF6\",\"gridcolor\":\"white\",\"linecolor\":\"white\",\"showbackground\":true,\"ticks\":\"\",\"zerolinecolor\":\"white\",\"gridwidth\":2},\"yaxis\":{\"backgroundcolor\":\"#E5ECF6\",\"gridcolor\":\"white\",\"linecolor\":\"white\",\"showbackground\":true,\"ticks\":\"\",\"zerolinecolor\":\"white\",\"gridwidth\":2},\"zaxis\":{\"backgroundcolor\":\"#E5ECF6\",\"gridcolor\":\"white\",\"linecolor\":\"white\",\"showbackground\":true,\"ticks\":\"\",\"zerolinecolor\":\"white\",\"gridwidth\":2}},\"shapedefaults\":{\"line\":{\"color\":\"#2a3f5f\"}},\"annotationdefaults\":{\"arrowcolor\":\"#2a3f5f\",\"arrowhead\":0,\"arrowwidth\":1},\"geo\":{\"bgcolor\":\"white\",\"landcolor\":\"#E5ECF6\",\"subunitcolor\":\"white\",\"showland\":true,\"showlakes\":true,\"lakecolor\":\"white\"},\"title\":{\"x\":0.05},\"mapbox\":{\"style\":\"light\"}}},\"mapbox\":{\"domain\":{\"x\":[0.0,1.0],\"y\":[0.0,1.0]},\"center\":{\"lat\":13.053426846725506,\"lon\":80.22935166234129},\"zoom\":10,\"style\":\"open-street-map\"},\"legend\":{\"title\":{\"text\":\"Zone\"},\"tracegroupgap\":0},\"margin\":{\"t\":60},\"height\":900},                        {\"responsive\": true}                    ).then(function(){\n",
       "                            \n",
       "var gd = document.getElementById('93e5feec-b81a-480d-bc62-97c81f218e69');\n",
       "var x = new MutationObserver(function (mutations, observer) {{\n",
       "        var display = window.getComputedStyle(gd).display;\n",
       "        if (!display || display === 'none') {{\n",
       "            console.log([gd, 'removed!']);\n",
       "            Plotly.purge(gd);\n",
       "            observer.disconnect();\n",
       "        }}\n",
       "}});\n",
       "\n",
       "// Listen for the removal of the full notebook cells\n",
       "var notebookContainer = gd.closest('#notebook-container');\n",
       "if (notebookContainer) {{\n",
       "    x.observe(notebookContainer, {childList: true});\n",
       "}}\n",
       "\n",
       "// Listen for the clearing of the current output cell\n",
       "var outputEl = gd.closest('.output');\n",
       "if (outputEl) {{\n",
       "    x.observe(outputEl, {childList: true});\n",
       "}}\n",
       "\n",
       "                        })                };                });            </script>        </div>"
      ]
     },
     "metadata": {},
     "output_type": "display_data"
    }
   ],
   "source": [
    "from plotly.express import scatter_mapbox\n",
    "scatter_mapbox(data_frame=df.sort_values(by='Zone'), lat='latitude', lon='longitude', hover_name='Station Name', mapbox_style='open-street-map', zoom=10,\n",
    "              hover_data=[column for column in df.columns[:-2] if column != 'Station Name' ], color='Zone', height=900)"
   ]
  }
 ],
 "metadata": {
  "kaggle": {
   "accelerator": "none",
   "dataSources": [
    {
     "datasetId": 4368253,
     "sourceId": 7501533,
     "sourceType": "datasetVersion"
    }
   ],
   "dockerImageVersionId": 30646,
   "isGpuEnabled": false,
   "isInternetEnabled": true,
   "language": "python",
   "sourceType": "notebook"
  },
  "kernelspec": {
   "display_name": "Python 3",
   "language": "python",
   "name": "python3"
  },
  "language_info": {
   "codemirror_mode": {
    "name": "ipython",
    "version": 3
   },
   "file_extension": ".py",
   "mimetype": "text/x-python",
   "name": "python",
   "nbconvert_exporter": "python",
   "pygments_lexer": "ipython3",
   "version": "3.10.13"
  },
  "papermill": {
   "default_parameters": {},
   "duration": 41.68995,
   "end_time": "2024-02-06T19:43:43.784206",
   "environment_variables": {},
   "exception": null,
   "input_path": "__notebook__.ipynb",
   "output_path": "__notebook__.ipynb",
   "parameters": {},
   "start_time": "2024-02-06T19:43:02.094256",
   "version": "2.5.0"
  }
 },
 "nbformat": 4,
 "nbformat_minor": 5
}
