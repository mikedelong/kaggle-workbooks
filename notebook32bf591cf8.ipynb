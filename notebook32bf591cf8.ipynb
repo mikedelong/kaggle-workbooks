{
 "cells": [
  {
   "cell_type": "code",
   "execution_count": 1,
   "id": "c5ae5b8d",
   "metadata": {
    "_cell_guid": "b1076dfc-b9ad-4769-8c92-a6c4dae69d19",
    "_uuid": "8f2839f25d086af736a60e9eeb907d3b93b6e0e5",
    "execution": {
     "iopub.execute_input": "2024-08-07T20:53:28.544024Z",
     "iopub.status.busy": "2024-08-07T20:53:28.543209Z",
     "iopub.status.idle": "2024-08-07T20:53:35.071520Z",
     "shell.execute_reply": "2024-08-07T20:53:35.070322Z"
    },
    "papermill": {
     "duration": 6.536856,
     "end_time": "2024-08-07T20:53:35.074409",
     "exception": false,
     "start_time": "2024-08-07T20:53:28.537553",
     "status": "completed"
    },
    "tags": []
   },
   "outputs": [],
   "source": [
    "import torch\n",
    "import torch.nn as nn\n",
    "import torchvision.models as models\n",
    "import torchvision.transforms as transforms\n",
    "import numpy as np\n",
    "\n",
    "class Img2Vec():\n",
    "\n",
    "    def __init__(self):\n",
    "        self.device = torch.device('cpu')\n",
    "        self.layer_output_size = 512\n",
    "        self.model = models.resnet18(weights=models.ResNet18_Weights.IMAGENET1K_V1)\n",
    "        self.extraction_layer = self.model._modules.get('avgpool')\n",
    "        self.model = self.model.to(self.device)\n",
    "        self.model.eval()\n",
    "        self.scaler = transforms.Resize((224, 224))\n",
    "        self.normalize = transforms.Normalize(mean=[0.5, 0.5, 0.5], std=[0.2, 0.2, 0.2])\n",
    "        self.to_tensor = transforms.ToTensor()\n",
    "\n",
    "    def get_vec(self, img,):\n",
    "        if type(img) == list:\n",
    "            a = [self.normalize(self.to_tensor(self.scaler(im))) for im in img]\n",
    "            images = torch.stack(a).to(self.device)\n",
    "            result = torch.zeros(len(img), self.layer_output_size, 1, 1)\n",
    "            def copy_data(m, i, o):\n",
    "                result.copy_(o.data)\n",
    "            h = self.extraction_layer.register_forward_hook(copy_data)\n",
    "            with torch.no_grad():\n",
    "                h_x = self.model(images)\n",
    "            h.remove()\n",
    "            return result\n",
    "        else:\n",
    "            image = self.normalize(self.to_tensor(self.scaler(img))).unsqueeze(0).to(self.device)\n",
    "            result = torch.zeros(1, self.layer_output_size, 1, 1)\n",
    "            def copy_data(m, i, o):\n",
    "                result.copy_(o.data)\n",
    "            h = self.extraction_layer.register_forward_hook(copy_data)\n",
    "            with torch.no_grad():\n",
    "                self.model(image)\n",
    "            h.remove()\n",
    "            return result\n"
   ]
  },
  {
   "cell_type": "code",
   "execution_count": 2,
   "id": "22feec8d",
   "metadata": {
    "execution": {
     "iopub.execute_input": "2024-08-07T20:53:35.081810Z",
     "iopub.status.busy": "2024-08-07T20:53:35.081210Z",
     "iopub.status.idle": "2024-08-07T20:53:38.868921Z",
     "shell.execute_reply": "2024-08-07T20:53:38.867301Z"
    },
    "papermill": {
     "duration": 3.794913,
     "end_time": "2024-08-07T20:53:38.871880",
     "exception": false,
     "start_time": "2024-08-07T20:53:35.076967",
     "status": "completed"
    },
    "tags": []
   },
   "outputs": [
    {
     "name": "stderr",
     "output_type": "stream",
     "text": [
      "Downloading: \"https://download.pytorch.org/models/resnet18-f37072fd.pth\" to /root/.cache/torch/hub/checkpoints/resnet18-f37072fd.pth\n",
      "100%|██████████| 44.7M/44.7M [00:00<00:00, 125MB/s]\n"
     ]
    },
    {
     "name": "stdout",
     "output_type": "stream",
     "text": [
      "encoded 5 rows of MEN  in 0:00:00.893172\n",
      "encoded 5 rows of WOMAN  in 0:00:00.836727\n",
      "done in 0:00:02.570132\n"
     ]
    }
   ],
   "source": [
    "import base64\n",
    "import pandas as pd\n",
    "from arrow import now\n",
    "from glob import glob\n",
    "from io import BytesIO\n",
    "from os.path import basename\n",
    "from PIL import Image\n",
    "\n",
    "DATA = '/kaggle/input/gender-recognizer/dataset'\n",
    "SIZE = 512\n",
    "STOP = 5\n",
    "THUMBNAIL_SIZE = (128, 128)\n",
    "\n",
    "\n",
    "def embed(model, filename: str):\n",
    "    with Image.open(fp=filename, mode='r') as image:\n",
    "        return model.get_vec(image.convert('RGB'),).numpy().reshape(SIZE,)\n",
    "\n",
    "\n",
    "# https://stackoverflow.com/a/952952\n",
    "def flatten(arg):\n",
    "    return [x for xs in arg for x in xs]\n",
    "\n",
    "def png(filename: str) -> str:\n",
    "    with Image.open(fp=filename, mode='r') as image:\n",
    "        buffer = BytesIO()\n",
    "        # our images are pretty big; let's shrink the hover images to thumbnail size\n",
    "        image.resize(size=THUMBNAIL_SIZE).convert('RGB').save(buffer, format='png')\n",
    "        return 'data:image/png;base64,' + base64.b64encode(buffer.getvalue()).decode()\n",
    "\n",
    "def get_picture_from_glob(arg: str, tag: str, stop: int) -> list:\n",
    "    time_get = now()\n",
    "    result = [pd.Series(data=[tag, basename(input_file), embed(model=model, filename=input_file), png(filename=input_file), ],\n",
    "                        index=['tag', 'name', 'value', 'image'])\n",
    "        for index, input_file in enumerate(glob(pathname=arg)) if index < stop and (input_file.endswith('.jpg') or input_file.endswith('.png'))]\n",
    "    print('encoded {} rows of {}  in {}'.format(len(result), tag, now() - time_get))\n",
    "    return result\n",
    "\n",
    "time_start = now()\n",
    "model = Img2Vec()\n",
    "data_dict = {basename(folder) : folder + '/*.*' for folder in glob(DATA + '/*')}\n",
    "df = pd.DataFrame(data=flatten(arg=[get_picture_from_glob(arg=value, tag=key, stop=STOP) for key, value in data_dict.items()]))\n",
    "print('done in {}'.format(now() - time_start))"
   ]
  }
 ],
 "metadata": {
  "kaggle": {
   "accelerator": "none",
   "dataSources": [
    {
     "datasetId": 5328253,
     "sourceId": 8899631,
     "sourceType": "datasetVersion"
    }
   ],
   "dockerImageVersionId": 30746,
   "isGpuEnabled": false,
   "isInternetEnabled": true,
   "language": "python",
   "sourceType": "notebook"
  },
  "kernelspec": {
   "display_name": "Python 3",
   "language": "python",
   "name": "python3"
  },
  "language_info": {
   "codemirror_mode": {
    "name": "ipython",
    "version": 3
   },
   "file_extension": ".py",
   "mimetype": "text/x-python",
   "name": "python",
   "nbconvert_exporter": "python",
   "pygments_lexer": "ipython3",
   "version": "3.10.13"
  },
  "papermill": {
   "default_parameters": {},
   "duration": 15.471551,
   "end_time": "2024-08-07T20:53:40.201044",
   "environment_variables": {},
   "exception": null,
   "input_path": "__notebook__.ipynb",
   "output_path": "__notebook__.ipynb",
   "parameters": {},
   "start_time": "2024-08-07T20:53:24.729493",
   "version": "2.5.0"
  }
 },
 "nbformat": 4,
 "nbformat_minor": 5
}
