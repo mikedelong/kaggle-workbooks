{
 "cells": [
  {
   "cell_type": "code",
   "execution_count": 1,
   "id": "299c0d72",
   "metadata": {
    "_cell_guid": "b1076dfc-b9ad-4769-8c92-a6c4dae69d19",
    "_uuid": "8f2839f25d086af736a60e9eeb907d3b93b6e0e5",
    "execution": {
     "iopub.execute_input": "2024-08-07T15:39:37.772243Z",
     "iopub.status.busy": "2024-08-07T15:39:37.771744Z",
     "iopub.status.idle": "2024-08-07T15:39:44.509532Z",
     "shell.execute_reply": "2024-08-07T15:39:44.508350Z"
    },
    "papermill": {
     "duration": 6.745929,
     "end_time": "2024-08-07T15:39:44.512680",
     "exception": false,
     "start_time": "2024-08-07T15:39:37.766751",
     "status": "completed"
    },
    "tags": []
   },
   "outputs": [],
   "source": [
    "import torch\n",
    "import torch.nn as nn\n",
    "import torchvision.models as models\n",
    "import torchvision.transforms as transforms\n",
    "import numpy as np\n",
    "\n",
    "class Img2Vec():\n",
    "    RESNET_OUTPUT_SIZES = {'resnet18': 512, 'resnet34': 512,}\n",
    "\n",
    "\n",
    "    def __init__(self, cuda=False, model='resnet-18', layer='default', layer_output_size=512, gpu=0):\n",
    "        self.device = torch.device('cpu')\n",
    "        self.layer_output_size = layer_output_size\n",
    "        self.model_name = model\n",
    "        self.model, self.extraction_layer = self._get_model_and_layer(model, layer)\n",
    "        self.model = self.model.to(self.device)\n",
    "        self.model.eval()\n",
    "        self.scaler = transforms.Resize((224, 224))\n",
    "        self.normalize = transforms.Normalize(mean=[0.485, 0.456, 0.406], std=[0.229, 0.224, 0.225])\n",
    "        self.to_tensor = transforms.ToTensor()\n",
    "\n",
    "    def get_vec(self, img, tensor=False):\n",
    "        if type(img) == list:\n",
    "            a = [self.normalize(self.to_tensor(self.scaler(im))) for im in img]\n",
    "            images = torch.stack(a).to(self.device)\n",
    "            my_embedding = torch.zeros(len(img), self.layer_output_size, 1, 1)\n",
    "\n",
    "            def copy_data(m, i, o):\n",
    "                my_embedding.copy_(o.data)\n",
    "\n",
    "            h = self.extraction_layer.register_forward_hook(copy_data)\n",
    "            with torch.no_grad():\n",
    "                h_x = self.model(images)\n",
    "            h.remove()\n",
    "\n",
    "            if tensor:\n",
    "                return my_embedding\n",
    "            else:\n",
    "                return my_embedding.numpy()[:, :, 0, 0]\n",
    "        else:\n",
    "            image = self.normalize(self.to_tensor(self.scaler(img))).unsqueeze(0).to(self.device)\n",
    "\n",
    "            my_embedding = torch.zeros(1, self.layer_output_size, 1, 1)\n",
    "\n",
    "            def copy_data(m, i, o):\n",
    "                my_embedding.copy_(o.data)\n",
    "\n",
    "            h = self.extraction_layer.register_forward_hook(copy_data)\n",
    "            with torch.no_grad():\n",
    "                h_x = self.model(image)\n",
    "            h.remove()\n",
    "\n",
    "            if tensor:\n",
    "                return my_embedding\n",
    "            else:\n",
    "                return my_embedding.numpy()[0, :, 0, 0]\n",
    "\n",
    "    def _get_model_and_layer(self, model_name, layer):\n",
    "        \"\"\" Internal method for getting layer from model\n",
    "        :param model_name: model name such as 'resnet-18'\n",
    "        :param layer: layer as a string for resnet-18 or int for alexnet\n",
    "        :returns: pytorch model, selected layer\n",
    "        \"\"\"\n",
    "\n",
    "        if model_name.startswith('resnet') and not model_name.startswith('resnet-'):\n",
    "            model = getattr(models, model_name)(pretrained=True)\n",
    "            if layer == 'default':\n",
    "                layer = model._modules.get('avgpool')\n",
    "                self.layer_output_size = self.RESNET_OUTPUT_SIZES[model_name]\n",
    "            else:\n",
    "                layer = model._modules.get(layer)\n",
    "            return model, layer\n",
    "        elif model_name == 'resnet-18':\n",
    "            model = models.resnet18(pretrained=True)\n",
    "            if layer == 'default':\n",
    "                layer = model._modules.get('avgpool')\n",
    "                self.layer_output_size = 512\n",
    "            else:\n",
    "                layer = model._modules.get(layer)\n",
    "                \n",
    "            return model, layer\n",
    "\n",
    "        else:\n",
    "            raise KeyError('Model %s was not found' % model_name)"
   ]
  },
  {
   "cell_type": "code",
   "execution_count": 2,
   "id": "1b8c5219",
   "metadata": {
    "execution": {
     "iopub.execute_input": "2024-08-07T15:39:44.519589Z",
     "iopub.status.busy": "2024-08-07T15:39:44.519037Z",
     "iopub.status.idle": "2024-08-07T15:42:08.676369Z",
     "shell.execute_reply": "2024-08-07T15:42:08.674873Z"
    },
    "papermill": {
     "duration": 144.166237,
     "end_time": "2024-08-07T15:42:08.681592",
     "exception": false,
     "start_time": "2024-08-07T15:39:44.515355",
     "status": "completed"
    },
    "tags": []
   },
   "outputs": [
    {
     "name": "stderr",
     "output_type": "stream",
     "text": [
      "/opt/conda/lib/python3.10/site-packages/torchvision/models/_utils.py:208: UserWarning: The parameter 'pretrained' is deprecated since 0.13 and may be removed in the future, please use 'weights' instead.\n",
      "  warnings.warn(\n",
      "/opt/conda/lib/python3.10/site-packages/torchvision/models/_utils.py:223: UserWarning: Arguments other than a weight enum or `None` for 'weights' are deprecated since 0.13 and may be removed in the future. The current behavior is equivalent to passing `weights=ResNet18_Weights.IMAGENET1K_V1`. You can also use `weights=ResNet18_Weights.DEFAULT` to get the most up-to-date weights.\n",
      "  warnings.warn(msg)\n",
      "Downloading: \"https://download.pytorch.org/models/resnet18-f37072fd.pth\" to /root/.cache/torch/hub/checkpoints/resnet18-f37072fd.pth\n",
      "100%|██████████| 44.7M/44.7M [00:00<00:00, 87.4MB/s]\n"
     ]
    },
    {
     "name": "stdout",
     "output_type": "stream",
     "text": [
      "encoded 646 rows of MEN  in 0:01:16.599044\n",
      "encoded 645 rows of WOMAN  in 0:01:05.223435\n",
      "done in 0:02:23.002313\n"
     ]
    }
   ],
   "source": [
    "import base64\n",
    "import pandas as pd\n",
    "from arrow import now\n",
    "from glob import glob\n",
    "# from img2vec_pytorch import Img2Vec\n",
    "from io import BytesIO\n",
    "from os.path import basename\n",
    "from PIL import Image\n",
    "\n",
    "DATA = '/kaggle/input/gender-recognizer/dataset'\n",
    "SIZE = 512\n",
    "STOP = 10000\n",
    "THUMBNAIL_SIZE = (128, 128)\n",
    "\n",
    "\n",
    "def embed(model, filename: str):\n",
    "    with Image.open(fp=filename, mode='r') as image:\n",
    "        return model.get_vec(image.convert('RGB'), tensor=True).numpy().reshape(SIZE,)\n",
    "\n",
    "\n",
    "# https://stackoverflow.com/a/952952\n",
    "def flatten(arg):\n",
    "    return [x for xs in arg for x in xs]\n",
    "\n",
    "def png(filename: str) -> str:\n",
    "    with Image.open(fp=filename, mode='r') as image:\n",
    "        buffer = BytesIO()\n",
    "        # our images are pretty big; let's shrink the hover images to thumbnail size\n",
    "        image.resize(size=THUMBNAIL_SIZE).convert('RGB').save(buffer, format='png')\n",
    "        return 'data:image/png;base64,' + base64.b64encode(buffer.getvalue()).decode()\n",
    "\n",
    "def get_picture_from_glob(arg: str, tag: str, stop: int) -> list:\n",
    "    time_get = now()\n",
    "    result = [pd.Series(data=[tag, basename(input_file), embed(model=model, filename=input_file), png(filename=input_file), ],\n",
    "                        index=['tag', 'name', 'value', 'image'])\n",
    "        for index, input_file in enumerate(glob(pathname=arg)) if index < stop and (input_file.endswith('.jpg') or input_file.endswith('.png'))]\n",
    "    print('encoded {} rows of {}  in {}'.format(len(result), tag, now() - time_get))\n",
    "    return result\n",
    "\n",
    "time_start = now()\n",
    "model = Img2Vec(cuda=False, model='resnet-18')\n",
    "data_dict = {basename(folder) : folder + '/*.*' for folder in glob(DATA + '/*')}\n",
    "df = pd.DataFrame(data=flatten(arg=[get_picture_from_glob(arg=value, tag=key, stop=STOP) for key, value in data_dict.items()]))\n",
    "print('done in {}'.format(now() - time_start))"
   ]
  }
 ],
 "metadata": {
  "kaggle": {
   "accelerator": "none",
   "dataSources": [
    {
     "datasetId": 5328253,
     "sourceId": 8899631,
     "sourceType": "datasetVersion"
    }
   ],
   "dockerImageVersionId": 30746,
   "isGpuEnabled": false,
   "isInternetEnabled": true,
   "language": "python",
   "sourceType": "notebook"
  },
  "kernelspec": {
   "display_name": "Python 3",
   "language": "python",
   "name": "python3"
  },
  "language_info": {
   "codemirror_mode": {
    "name": "ipython",
    "version": 3
   },
   "file_extension": ".py",
   "mimetype": "text/x-python",
   "name": "python",
   "nbconvert_exporter": "python",
   "pygments_lexer": "ipython3",
   "version": "3.10.13"
  },
  "papermill": {
   "default_parameters": {},
   "duration": 155.512141,
   "end_time": "2024-08-07T15:42:10.011688",
   "environment_variables": {},
   "exception": null,
   "input_path": "__notebook__.ipynb",
   "output_path": "__notebook__.ipynb",
   "parameters": {},
   "start_time": "2024-08-07T15:39:34.499547",
   "version": "2.5.0"
  }
 },
 "nbformat": 4,
 "nbformat_minor": 5
}
