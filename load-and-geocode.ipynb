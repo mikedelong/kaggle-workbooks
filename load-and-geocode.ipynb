{
 "cells": [
  {
   "cell_type": "code",
   "execution_count": 1,
   "id": "ad46d328",
   "metadata": {
    "execution": {
     "iopub.execute_input": "2024-03-11T17:24:22.761432Z",
     "iopub.status.busy": "2024-03-11T17:24:22.760762Z",
     "iopub.status.idle": "2024-03-11T17:24:39.882621Z",
     "shell.execute_reply": "2024-03-11T17:24:39.881140Z"
    },
    "papermill": {
     "duration": 17.130669,
     "end_time": "2024-03-11T17:24:39.885485",
     "exception": false,
     "start_time": "2024-03-11T17:24:22.754816",
     "status": "completed"
    },
    "tags": []
   },
   "outputs": [
    {
     "name": "stdout",
     "output_type": "stream",
     "text": [
      "pip install img2vec complete.\n"
     ]
    }
   ],
   "source": [
    "!pip install --quiet img2vec_pytorch\n",
    "print('pip install img2vec complete.')"
   ]
  },
  {
   "cell_type": "code",
   "execution_count": 2,
   "id": "53ee2034",
   "metadata": {
    "execution": {
     "iopub.execute_input": "2024-03-11T17:24:39.895379Z",
     "iopub.status.busy": "2024-03-11T17:24:39.894980Z",
     "iopub.status.idle": "2024-03-11T17:27:02.421044Z",
     "shell.execute_reply": "2024-03-11T17:27:02.419267Z"
    },
    "papermill": {
     "duration": 142.536835,
     "end_time": "2024-03-11T17:27:02.426203",
     "exception": false,
     "start_time": "2024-03-11T17:24:39.889368",
     "status": "completed"
    },
    "tags": []
   },
   "outputs": [
    {
     "name": "stderr",
     "output_type": "stream",
     "text": [
      "/opt/conda/lib/python3.10/site-packages/torchvision/models/_utils.py:208: UserWarning: The parameter 'pretrained' is deprecated since 0.13 and may be removed in the future, please use 'weights' instead.\n",
      "  warnings.warn(\n",
      "/opt/conda/lib/python3.10/site-packages/torchvision/models/_utils.py:223: UserWarning: Arguments other than a weight enum or `None` for 'weights' are deprecated since 0.13 and may be removed in the future. The current behavior is equivalent to passing `weights=ResNet18_Weights.IMAGENET1K_V1`. You can also use `weights=ResNet18_Weights.DEFAULT` to get the most up-to-date weights.\n",
      "  warnings.warn(msg)\n",
      "Downloading: \"https://download.pytorch.org/models/resnet18-f37072fd.pth\" to /root/.cache/torch/hub/checkpoints/resnet18-f37072fd.pth\n",
      "100%|██████████| 44.7M/44.7M [00:00<00:00, 109MB/s]\n"
     ]
    },
    {
     "name": "stdout",
     "output_type": "stream",
     "text": [
      "embedded 1000 rows with 0 failures in 0:02:13.126908\n",
      "done in 0:02:14.108475\n"
     ]
    }
   ],
   "source": [
    "import base64\n",
    "import pandas as pd\n",
    "from arrow import now\n",
    "from glob import glob\n",
    "from img2vec_pytorch import Img2Vec\n",
    "from os.path import basename\n",
    "from PIL import Image\n",
    "from PIL import UnidentifiedImageError\n",
    "\n",
    "# let's load up a sample\n",
    "GLOB = '/kaggle/input/photgraphs-of-1000-u-s-cities-ai-generated/*.png'\n",
    "SIZE = 512\n",
    "STOP = 3000\n",
    "\n",
    "def embed(model, filename: str):\n",
    "    with Image.open(fp=filename, mode='r') as image:\n",
    "        return model.get_vec(image, tensor=True).numpy().reshape(SIZE,)\n",
    "\n",
    "\n",
    "def get_picture_from_glob(arg: str, stop: int, ) -> list:\n",
    "    time_get = now()\n",
    "    result = []\n",
    "    count = 0\n",
    "    failures = 0\n",
    "    for index, input_file in enumerate(glob(pathname=arg)):\n",
    "        if count < stop:\n",
    "            try:\n",
    "                name = basename(input_file).replace('.jpg', '')\n",
    "                value = embed(model=model, filename=input_file)\n",
    "                result.append(pd.Series(data={'name': name, 'value': value,}))\n",
    "                count += 1\n",
    "            # almost all of our images will embed successfully so we will flag and discard cases that don't\n",
    "            # if we report every failure the results get kind of leggy for large samples so let's just count failures \n",
    "            # and report the count\n",
    "            except RuntimeError:\n",
    "#                 print('embedding failed for {}'.format(input_file))\n",
    "                failures += 1\n",
    "                pass \n",
    "            except UnidentifiedImageError:\n",
    "#                 print('embedding failed for {}'.format(input_file))\n",
    "                failures += 1\n",
    "                pass \n",
    "            \n",
    "    print('embedded {} rows with {} failures in {}'.format(len(result), failures, now() - time_get))\n",
    "    return result\n",
    "\n",
    "time_start = now()\n",
    "model = Img2Vec(cuda=False, model='resnet-18')\n",
    "df = pd.DataFrame(data=get_picture_from_glob(arg=GLOB, stop=STOP, ))\n",
    "print('done in {}'.format(now() - time_start))"
   ]
  },
  {
   "cell_type": "code",
   "execution_count": 3,
   "id": "5dbccaf2",
   "metadata": {
    "execution": {
     "iopub.execute_input": "2024-03-11T17:27:02.437760Z",
     "iopub.status.busy": "2024-03-11T17:27:02.437171Z",
     "iopub.status.idle": "2024-03-11T17:27:02.463955Z",
     "shell.execute_reply": "2024-03-11T17:27:02.462784Z"
    },
    "papermill": {
     "duration": 0.03555,
     "end_time": "2024-03-11T17:27:02.466511",
     "exception": false,
     "start_time": "2024-03-11T17:27:02.430961",
     "status": "completed"
    },
    "tags": []
   },
   "outputs": [
    {
     "data": {
      "text/html": [
       "<div>\n",
       "<style scoped>\n",
       "    .dataframe tbody tr th:only-of-type {\n",
       "        vertical-align: middle;\n",
       "    }\n",
       "\n",
       "    .dataframe tbody tr th {\n",
       "        vertical-align: top;\n",
       "    }\n",
       "\n",
       "    .dataframe thead th {\n",
       "        text-align: right;\n",
       "    }\n",
       "</style>\n",
       "<table border=\"1\" class=\"dataframe\">\n",
       "  <thead>\n",
       "    <tr style=\"text-align: right;\">\n",
       "      <th></th>\n",
       "      <th>name</th>\n",
       "      <th>value</th>\n",
       "    </tr>\n",
       "  </thead>\n",
       "  <tbody>\n",
       "    <tr>\n",
       "      <th>0</th>\n",
       "      <td>highland_california.png</td>\n",
       "      <td>[0.9073799, 2.4232817, 2.6540484, 0.70218486, ...</td>\n",
       "    </tr>\n",
       "    <tr>\n",
       "      <th>1</th>\n",
       "      <td>new_britain_connecticut.png</td>\n",
       "      <td>[0.7772473, 0.6293807, 1.8701727, 1.1827742, 0...</td>\n",
       "    </tr>\n",
       "    <tr>\n",
       "      <th>2</th>\n",
       "      <td>pembroke_pines_florida.png</td>\n",
       "      <td>[1.815567, 2.8266356, 2.9306302, 0.26130608, 0...</td>\n",
       "    </tr>\n",
       "    <tr>\n",
       "      <th>3</th>\n",
       "      <td>lacey_washington.png</td>\n",
       "      <td>[1.4230752, 3.5252979, 3.401282, 0.60222894, 0...</td>\n",
       "    </tr>\n",
       "    <tr>\n",
       "      <th>4</th>\n",
       "      <td>danville_california.png</td>\n",
       "      <td>[0.4289289, 0.0, 0.23080131, 0.024211202, 0.05...</td>\n",
       "    </tr>\n",
       "  </tbody>\n",
       "</table>\n",
       "</div>"
      ],
      "text/plain": [
       "                          name  \\\n",
       "0      highland_california.png   \n",
       "1  new_britain_connecticut.png   \n",
       "2   pembroke_pines_florida.png   \n",
       "3         lacey_washington.png   \n",
       "4      danville_california.png   \n",
       "\n",
       "                                               value  \n",
       "0  [0.9073799, 2.4232817, 2.6540484, 0.70218486, ...  \n",
       "1  [0.7772473, 0.6293807, 1.8701727, 1.1827742, 0...  \n",
       "2  [1.815567, 2.8266356, 2.9306302, 0.26130608, 0...  \n",
       "3  [1.4230752, 3.5252979, 3.401282, 0.60222894, 0...  \n",
       "4  [0.4289289, 0.0, 0.23080131, 0.024211202, 0.05...  "
      ]
     },
     "execution_count": 3,
     "metadata": {},
     "output_type": "execute_result"
    }
   ],
   "source": [
    "df.head()"
   ]
  },
  {
   "cell_type": "code",
   "execution_count": 4,
   "id": "45dcec61",
   "metadata": {
    "execution": {
     "iopub.execute_input": "2024-03-11T17:27:02.478673Z",
     "iopub.status.busy": "2024-03-11T17:27:02.477567Z",
     "iopub.status.idle": "2024-03-11T17:27:02.491648Z",
     "shell.execute_reply": "2024-03-11T17:27:02.490058Z"
    },
    "papermill": {
     "duration": 0.023449,
     "end_time": "2024-03-11T17:27:02.494843",
     "exception": false,
     "start_time": "2024-03-11T17:27:02.471394",
     "status": "completed"
    },
    "tags": []
   },
   "outputs": [],
   "source": [
    "def get_state(arg:str) -> str:\n",
    "    result = arg.replace('.png', '').split('_')[-1]\n",
    "    prefix = arg.replace('.png', '').split('_')[-2]\n",
    "    if result in {'york', 'mexico', 'hampshire', 'carolina', 'dakota', 'island'}:\n",
    "        return ' '.join([prefix, result])\n",
    "        \n",
    "    return result\n",
    "\n",
    "df['state'] = df['name'].apply(func=get_state)"
   ]
  },
  {
   "cell_type": "code",
   "execution_count": 5,
   "id": "7b5eab52",
   "metadata": {
    "execution": {
     "iopub.execute_input": "2024-03-11T17:27:02.507019Z",
     "iopub.status.busy": "2024-03-11T17:27:02.506614Z",
     "iopub.status.idle": "2024-03-11T17:27:55.342176Z",
     "shell.execute_reply": "2024-03-11T17:27:55.341133Z"
    },
    "papermill": {
     "duration": 52.846246,
     "end_time": "2024-03-11T17:27:55.346132",
     "exception": false,
     "start_time": "2024-03-11T17:27:02.499886",
     "status": "completed"
    },
    "tags": []
   },
   "outputs": [
    {
     "name": "stderr",
     "output_type": "stream",
     "text": [
      "2024-03-11 17:27:25.018843: E external/local_xla/xla/stream_executor/cuda/cuda_dnn.cc:9261] Unable to register cuDNN factory: Attempting to register factory for plugin cuDNN when one has already been registered\n",
      "2024-03-11 17:27:25.019078: E external/local_xla/xla/stream_executor/cuda/cuda_fft.cc:607] Unable to register cuFFT factory: Attempting to register factory for plugin cuFFT when one has already been registered\n",
      "2024-03-11 17:27:25.194831: E external/local_xla/xla/stream_executor/cuda/cuda_blas.cc:1515] Unable to register cuBLAS factory: Attempting to register factory for plugin cuBLAS when one has already been registered\n"
     ]
    },
    {
     "name": "stdout",
     "output_type": "stream",
     "text": [
      "UMAP(low_memory=False, n_epochs=1000, n_jobs=1, random_state=2024, verbose=True)\n",
      "Mon Mar 11 17:27:38 2024 Construct fuzzy simplicial set\n",
      "Mon Mar 11 17:27:39 2024 Finding Nearest Neighbors\n",
      "Mon Mar 11 17:27:44 2024 Finished Nearest Neighbor Search\n",
      "Mon Mar 11 17:27:47 2024 Construct embedding\n"
     ]
    },
    {
     "data": {
      "application/vnd.jupyter.widget-view+json": {
       "model_id": "9e93d3d61b4c4666b1b5b279dbfdb5cd",
       "version_major": 2,
       "version_minor": 0
      },
      "text/plain": [
       "Epochs completed:   0%|            0/1000 [00:00]"
      ]
     },
     "metadata": {},
     "output_type": "display_data"
    },
    {
     "name": "stdout",
     "output_type": "stream",
     "text": [
      "\tcompleted  0  /  1000 epochs\n",
      "\tcompleted  100  /  1000 epochs\n",
      "\tcompleted  200  /  1000 epochs\n",
      "\tcompleted  300  /  1000 epochs\n",
      "\tcompleted  400  /  1000 epochs\n",
      "\tcompleted  500  /  1000 epochs\n",
      "\tcompleted  600  /  1000 epochs\n",
      "\tcompleted  700  /  1000 epochs\n",
      "\tcompleted  800  /  1000 epochs\n",
      "\tcompleted  900  /  1000 epochs\n",
      "Mon Mar 11 17:27:53 2024 Finished embedding\n",
      "done with UMAP in 0:00:15.179017\n"
     ]
    },
    {
     "name": "stderr",
     "output_type": "stream",
     "text": [
      "/opt/conda/lib/python3.10/site-packages/plotly/express/_core.py:2065: FutureWarning: When grouping with a length-1 list-like, you will need to pass a length-1 tuple to get_group in a future version of pandas. Pass `(name,)` instead of `name` to silence this warning.\n",
      "  sf: grouped.get_group(s if len(s) > 1 else s[0])\n"
     ]
    },
    {
     "data": {
      "text/html": [
       "        <script type=\"text/javascript\">\n",
       "        window.PlotlyConfig = {MathJaxConfig: 'local'};\n",
       "        if (window.MathJax && window.MathJax.Hub && window.MathJax.Hub.Config) {window.MathJax.Hub.Config({SVG: {font: \"STIX-Web\"}});}\n",
       "        if (typeof require !== 'undefined') {\n",
       "        require.undef(\"plotly\");\n",
       "        requirejs.config({\n",
       "            paths: {\n",
       "                'plotly': ['https://cdn.plot.ly/plotly-2.27.0.min']\n",
       "            }\n",
       "        });\n",
       "        require(['plotly'], function(Plotly) {\n",
       "            window._Plotly = Plotly;\n",
       "        });\n",
       "        }\n",
       "        </script>\n",
       "        "
      ]
     },
     "metadata": {},
     "output_type": "display_data"
    },
    {
     "data": {
      "text/html": [
       "<div>                            <div id=\"feece75d-1c4f-4724-82e2-f0e5c15ccee2\" class=\"plotly-graph-div\" style=\"height:900px; width:100%;\"></div>            <script type=\"text/javascript\">                require([\"plotly\"], function(Plotly) {                    window.PLOTLYENV=window.PLOTLYENV || {};                                    if (document.getElementById(\"feece75d-1c4f-4724-82e2-f0e5c15ccee2\")) {                    Plotly.newPlot(                        \"feece75d-1c4f-4724-82e2-f0e5c15ccee2\",                        [{\"hovertemplate\":\"\\u003cb\\u003e%{hovertext}\\u003c\\u002fb\\u003e\\u003cbr\\u003e\\u003cbr\\u003estate=california\\u003cbr\\u003ex=%{x}\\u003cbr\\u003ey=%{y}\\u003cextra\\u003e\\u003c\\u002fextra\\u003e\",\"hovertext\":[\"highland_california.png\",\"danville_california.png\",\"south_san_francisco_california.png\",\"el_cajon_california.png\",\"long_beach_california.png\",\"pittsburg_california.png\",\"el_monte_california.png\",\"davis_california.png\",\"arcadia_california.png\",\"santee_california.png\",\"stanton_california.png\",\"placentia_california.png\",\"morgan_hill_california.png\",\"livermore_california.png\",\"mountain_view_california.png\",\"manteca_california.png\",\"san_mateo_california.png\",\"visalia_california.png\",\"martinez_california.png\",\"el_centro_california.png\",\"brea_california.png\",\"milpitas_california.png\",\"concord_california.png\",\"ontario_california.png\",\"vista_california.png\",\"oceanside_california.png\",\"sunnyvale_california.png\",\"beaumont_california.png\",\"chino_hills_california.png\",\"lincoln_california.png\",\"escondido_california.png\",\"fullerton_california.png\",\"bellflower_california.png\",\"chico_california.png\",\"citrus_heights_california.png\",\"san_ramon_california.png\",\"santa_cruz_california.png\",\"folsom_california.png\",\"chula_vista_california.png\",\"south_gate_california.png\",\"anaheim_california.png\",\"berkeley_california.png\",\"coachella_california.png\",\"san_francisco_california.png\",\"inglewood_california.png\",\"lodi_california.png\",\"san_bruno_california.png\",\"cerritos_california.png\",\"pacifica_california.png\",\"oxnard_california.png\",\"palm_desert_california.png\",\"gilroy_california.png\",\"la_mirada_california.png\",\"huntington_park_california.png\",\"san_luis_obispo_california.png\",\"merced_california.png\",\"elk_grove_california.png\",\"la_quinta_california.png\",\"santa_maria_california.png\",\"glendale_california.png\",\"cypress_california.png\",\"azusa_california.png\",\"moreno_valley_california.png\",\"campbell_california.png\",\"compton_california.png\",\"sacramento_california.png\",\"oakland_california.png\",\"culver_city_california.png\",\"pico_rivera_california.png\",\"chino_california.png\",\"rancho_palos_verdes_california.png\",\"westminster_california.png\",\"petaluma_california.png\",\"national_city_california.png\",\"garden_grove_california.png\",\"west_sacramento_california.png\",\"walnut_creek_california.png\",\"fontana_california.png\",\"whittier_california.png\",\"redondo_beach_california.png\",\"rohnert_park_california.png\",\"vallejo_california.png\",\"fremont_california.png\",\"clovis_california.png\",\"antioch_california.png\",\"palo_alto_california.png\",\"pleasanton_california.png\",\"san_leandro_california.png\",\"costa_mesa_california.png\",\"eastvale_california.png\",\"poway_california.png\",\"lynwood_california.png\",\"yucaipa_california.png\",\"monrovia_california.png\",\"cathedral_city_california.png\",\"norwalk_california.png\",\"covina_california.png\",\"mission_viejo_california.png\",\"hayward_california.png\",\"gardena_california.png\",\"rancho_cucamonga_california.png\",\"redwood_city_california.png\",\"lake_forest_california.png\",\"orange_california.png\",\"redding_california.png\",\"paramount_california.png\",\"bell_gardens_california.png\",\"richmond_california.png\",\"palm_springs_california.png\",\"camarillo_california.png\",\"santa_barbara_california.png\",\"montebello_california.png\",\"novato_california.png\",\"riverside_california.png\",\"daly_city_california.png\",\"carson_california.png\",\"tulare_california.png\",\"fairfield_california.png\",\"aliso_viejo_california.png\",\"colton_california.png\",\"murrieta_california.png\",\"victorville_california.png\",\"santa_clara_california.png\",\"apple_valley_california.png\",\"rancho_cordova_california.png\",\"upland_california.png\",\"irvine_california.png\",\"union_city_california.png\",\"calexico_california.png\",\"diamond_bar_california.png\",\"indio_california.png\",\"yuba_city_california.png\",\"turlock_california.png\",\"yorba_linda_california.png\",\"rialto_california.png\",\"torrance_california.png\",\"glendora_california.png\",\"simi_valley_california.png\",\"roseville_california.png\",\"montclair_california.png\",\"lompoc_california.png\",\"carlsbad_california.png\",\"downey_california.png\",\"temecula_california.png\",\"hemet_california.png\",\"santa_monica_california.png\",\"dublin_california.png\",\"san_clemente_california.png\",\"woodland_california.png\",\"perris_california.png\",\"san_rafael_california.png\",\"buena_park_california.png\",\"la_habra_california.png\",\"thousand_oaks_california.png\",\"baldwin_park_california.png\",\"vacaville_california.png\",\"watsonville_california.png\",\"san_jacinto_california.png\",\"santa_clarita_california.png\",\"san_jose_california.png\",\"west_covina_california.png\",\"salinas_california.png\",\"ceres_california.png\",\"hawthorne_california.png\",\"redlands_california.png\",\"newark_california.png\",\"huntington_beach_california.png\",\"monterey_park_california.png\",\"rancho_santa_margarita_california.png\",\"stockton_california.png\",\"encinitas_california.png\",\"hesperia_california.png\",\"pasadena_california.png\",\"corona_california.png\",\"alameda_california.png\",\"santa_rosa_california.png\",\"lancaster_california.png\",\"la_puente_california.png\",\"san_marcos_california.png\",\"burbank_california.png\",\"lake_elsinore_california.png\",\"modesto_california.png\",\"brentwood_california.png\",\"san_gabriel_california.png\",\"fountain_valley_california.png\",\"newport_beach_california.png\",\"menifee_california.png\",\"jurupa_valley_california.png\",\"madera_california.png\",\"cupertino_california.png\",\"oakley_california.png\",\"bakersfield_california.png\",\"santa_ana_california.png\",\"lakewood_california.png\",\"delano_california.png\",\"rocklin_california.png\",\"los_angeles_california.png\",\"napa_california.png\",\"san_bernardino_california.png\",\"pomona_california.png\",\"san_diego_california.png\",\"rosemead_california.png\",\"tracy_california.png\",\"porterville_california.png\",\"fresno_california.png\",\"tustin_california.png\",\"la_mesa_california.png\",\"alhambra_california.png\",\"hanford_california.png\",\"laguna_niguel_california.png\",\"palmdale_california.png\"],\"legendgroup\":\"california\",\"marker\":{\"color\":\"#636efa\",\"symbol\":\"circle\"},\"mode\":\"markers\",\"name\":\"california\",\"orientation\":\"v\",\"showlegend\":true,\"x\":[2.9677474,8.273285,3.5929892,3.926048,7.3586473,6.286228,6.7596154,6.8197,2.9678717,8.1972065,7.804886,7.2632155,6.900132,7.0119133,8.317321,8.537532,4.7975054,5.9830766,7.0881376,6.0388217,8.567373,6.7274895,8.369518,8.208234,7.711245,4.2439704,6.85244,7.815208,7.075825,8.593041,6.436358,4.622957,6.9852586,6.7103024,8.006693,7.752055,6.8481607,8.122051,4.1443496,5.7549233,2.5595183,6.7063594,8.710917,3.4217772,4.756012,6.7175784,3.0429335,6.9861217,8.557699,6.730902,4.018176,7.1402426,6.5969563,6.6222005,6.9577947,7.0935373,7.712013,2.9469442,6.408846,7.8592896,8.015421,4.51669,7.9793186,7.9791217,8.290683,3.1059608,4.3698487,2.8488948,8.688846,2.526961,5.0241113,4.8997536,6.6725273,2.1905158,7.0510974,6.7101097,2.4998305,7.579529,2.5930102,2.5400777,8.673094,6.707476,6.882897,8.551545,8.40252,6.677259,8.118468,6.5201755,4.149748,8.067544,8.586244,4.3674827,8.647202,3.4498484,2.8856392,8.4574585,3.028535,6.6070113,6.7029953,7.988502,8.607441,6.438703,8.60569,7.0557847,7.829274,4.6412396,2.76925,6.588439,3.8654244,8.188894,2.7640226,3.4428174,8.721252,8.0961895,6.7186847,8.639363,6.7520056,8.76426,2.9921281,8.539657,8.637845,3.3712018,6.587551,8.4600115,6.9176984,7.295408,8.34656,5.8484097,5.3373814,4.647936,7.8733077,2.8969092,2.8091755,4.742774,2.74789,6.8441916,3.320636,6.8908825,6.610217,6.7669945,3.3286462,8.766434,2.8362331,6.97825,6.9106393,6.172451,8.771857,4.927568,8.632113,6.7676425,8.197826,6.558897,7.928629,7.7999635,3.2461677,8.441555,6.627489,3.0224652,6.583241,7.2839017,2.0612202,7.585323,5.1111264,7.3371916,5.5549874,8.371579,2.90014,6.106883,5.933889,5.346363,7.1529617,8.02469,3.9988096,8.245724,6.9122987,8.51489,8.882955,5.9108634,8.474252,8.59534,8.752389,6.579674,8.526271,2.8238904,7.089115,6.831625,8.360846,8.562283,2.5039806,7.6687555,8.572054,8.664486,4.597021,2.5445821,7.9960713,7.953352,3.7595208,8.626521,8.137525,8.157572,4.532259,8.89869,6.4033074,8.43271,3.6020987,2.5291104,8.45,6.559854,8.310673,8.533307,8.108243],\"xaxis\":\"x\",\"y\":[11.407336,6.029458,8.7405,9.113939,8.339094,5.838496,5.762436,6.4674816,11.812254,7.8475327,8.255167,5.393754,7.3784347,7.939127,5.720065,5.732004,7.7253737,7.1487837,7.032185,5.4371963,6.9625335,4.3049593,4.872873,6.4906406,8.1918545,10.192824,7.248647,7.2814846,7.773669,4.9719243,7.808131,9.492325,5.3101315,4.3354526,6.4956284,7.1967335,7.2715454,6.1301484,9.749049,4.363635,11.348564,4.5379243,6.65015,8.145662,9.681463,4.765779,9.090013,5.5370097,6.310373,7.827508,8.940607,7.394796,7.2178936,7.277756,5.625721,6.7781444,5.837599,11.673532,5.824456,8.234554,6.1732707,9.484514,7.780515,7.795656,4.9913898,11.243117,7.117031,9.465129,6.7508454,11.657565,9.135183,5.5010686,7.2585835,10.813447,5.3080726,7.558114,11.626322,8.179334,11.665638,11.688198,5.809676,7.590817,4.227934,4.8844967,6.418789,7.570163,6.8464994,5.9023733,9.652364,6.926707,6.750114,6.1340046,6.569306,9.095746,11.093675,4.7371464,11.838186,8.144326,7.427187,7.858829,6.6301646,4.960963,6.7843685,6.3481193,6.7151055,9.764834,10.45649,7.3206716,9.66564,7.596596,11.513133,11.192616,6.260669,6.542944,7.4498215,5.242648,5.6649904,6.1404214,11.393192,7.3645334,6.4770865,10.072097,4.2833767,7.1641097,5.0469284,7.6243043,5.110823,4.744176,9.306041,9.896401,7.4106426,11.347133,11.616343,8.977241,11.196615,5.561061,11.254696,8.001288,4.607127,6.902541,9.173606,6.1545653,10.745066,7.8168373,8.054689,5.735432,5.8276496,9.324596,5.894386,7.5891604,5.8986826,7.799049,6.421628,7.5694184,11.615837,6.088717,7.4778953,10.38195,7.907169,5.867968,10.938183,5.954445,8.525444,7.4224596,8.817162,5.2248216,10.734145,8.542708,8.206221,5.651539,5.219143,7.6112533,8.954461,7.762248,4.3147697,4.997473,5.1881843,4.9279976,6.053882,7.153003,6.4739847,5.2342844,5.4217124,11.69861,5.283018,5.750882,5.5191903,7.225773,10.631322,6.0577703,5.910522,4.9752192,8.707787,11.68893,8.127786,6.94057,7.316,7.0337973,7.7309804,7.5630593,9.301497,5.367825,4.2449436,4.9943776,5.890849,10.63581,6.099917,7.4356456,6.123077,6.3012633,7.5527544],\"yaxis\":\"y\",\"type\":\"scatter\"},{\"hovertemplate\":\"\\u003cb\\u003e%{hovertext}\\u003c\\u002fb\\u003e\\u003cbr\\u003e\\u003cbr\\u003estate=connecticut\\u003cbr\\u003ex=%{x}\\u003cbr\\u003ey=%{y}\\u003cextra\\u003e\\u003c\\u002fextra\\u003e\",\"hovertext\":[\"new_britain_connecticut.png\",\"bridgeport_connecticut.png\",\"stamford_connecticut.png\",\"west_haven_connecticut.png\",\"new_haven_connecticut.png\",\"milford_connecticut.png\",\"meriden_connecticut.png\",\"middletown_connecticut.png\",\"danbury_connecticut.png\",\"norwich_connecticut.png\",\"norwalk_connecticut.png\",\"waterbury_connecticut.png\",\"hartford_connecticut.png\",\"bristol_connecticut.png\",\"shelton_connecticut.png\"],\"legendgroup\":\"connecticut\",\"marker\":{\"color\":\"#EF553B\",\"symbol\":\"circle\"},\"mode\":\"markers\",\"name\":\"connecticut\",\"orientation\":\"v\",\"showlegend\":true,\"x\":[6.702645,4.044779,5.780195,8.183263,5.2617936,5.2465715,6.465541,4.8289948,4.4740415,5.0512614,6.4495897,5.073928,4.2000895,8.336403,3.2547293],\"xaxis\":\"x\",\"y\":[6.3789034,6.5092964,5.196744,6.3685455,6.6155305,6.194586,6.6135325,6.7393823,8.054178,7.507773,6.9628587,8.105809,7.111136,4.8042827,9.305838],\"yaxis\":\"y\",\"type\":\"scatter\"},{\"hovertemplate\":\"\\u003cb\\u003e%{hovertext}\\u003c\\u002fb\\u003e\\u003cbr\\u003e\\u003cbr\\u003estate=florida\\u003cbr\\u003ex=%{x}\\u003cbr\\u003ey=%{y}\\u003cextra\\u003e\\u003c\\u002fextra\\u003e\",\"hovertext\":[\"pembroke_pines_florida.png\",\"aventura_florida.png\",\"largo_florida.png\",\"north_lauderdale_florida.png\",\"pensacola_florida.png\",\"jacksonville_florida.png\",\"winter_garden_florida.png\",\"sunrise_florida.png\",\"north_port_florida.png\",\"wellington_florida.png\",\"ocala_florida.png\",\"west_palm_beach_florida.png\",\"melbourne_florida.png\",\"st._cloud_florida.png\",\"daytona_beach_florida.png\",\"coral_springs_florida.png\",\"lauderhill_florida.png\",\"plantation_florida.png\",\"hialeah_florida.png\",\"oakland_park_florida.png\",\"tallahassee_florida.png\",\"margate_florida.png\",\"palm_bay_florida.png\",\"sanford_florida.png\",\"jupiter_florida.png\",\"port_st._lucie_florida.png\",\"deerfield_beach_florida.png\",\"fort_lauderdale_florida.png\",\"coral_gables_florida.png\",\"tampa_florida.png\",\"lakeland_florida.png\",\"palm_beach_gardens_florida.png\",\"ormond_beach_florida.png\",\"pinellas_park_florida.png\",\"coconut_creek_florida.png\",\"tamarac_florida.png\",\"north_miami_florida.png\",\"delray_beach_florida.png\",\"fort_pierce_florida.png\",\"st._petersburg_florida.png\",\"ocoee_florida.png\",\"hallandale_beach_florida.png\",\"orlando_florida.png\",\"miami_gardens_florida.png\",\"greenacres_florida.png\",\"sarasota_florida.png\",\"davie_florida.png\",\"miami_beach_florida.png\",\"bonita_springs_florida.png\",\"titusville_florida.png\",\"panama_city_florida.png\",\"kissimmee_florida.png\",\"cutler_bay_florida.png\",\"miramar_florida.png\",\"gainesville_florida.png\",\"altamonte_springs_florida.png\",\"palm_coast_florida.png\",\"homestead_florida.png\",\"hollywood_florida.png\",\"cape_coral_florida.png\",\"apopka_florida.png\",\"fort_myers_florida.png\",\"bradenton_florida.png\",\"port_orange_florida.png\",\"weston_florida.png\",\"pompano_beach_florida.png\",\"north_miami_beach_florida.png\",\"clearwater_florida.png\",\"boynton_beach_florida.png\",\"boca_raton_florida.png\",\"deltona_florida.png\",\"miami_florida.png\",\"doral_florida.png\"],\"legendgroup\":\"florida\",\"marker\":{\"color\":\"#00cc96\",\"symbol\":\"circle\"},\"mode\":\"markers\",\"name\":\"florida\",\"orientation\":\"v\",\"showlegend\":true,\"x\":[6.972245,3.875228,4.415266,5.1728683,2.3929493,3.7270288,5.4899306,3.9310899,2.558559,6.2246866,3.4643874,3.3778145,4.102446,7.404284,2.7366858,7.9121428,3.1711833,3.2763414,5.2706738,7.165977,7.4395266,7.3102145,5.3282228,6.8660803,8.211973,8.5347395,3.1823204,3.2581148,5.257716,3.6280289,6.4295917,3.151845,4.0792193,3.1195307,8.495111,7.09925,3.6428742,4.9470835,3.0965986,4.086846,7.6900444,3.7538435,4.3104615,7.582146,7.4912033,5.68753,7.405707,3.9241076,4.2175775,7.488085,3.741066,7.3383856,8.402968,3.5212471,6.565995,3.2096505,3.2109954,3.2670188,2.1656947,6.693138,2.0732927,2.8570073,3.1345923,4.139053,5.2924366,3.3086476,3.0685527,2.2570956,3.1385858,4.145354,5.2069073,3.8720007,5.247544],\"xaxis\":\"x\",\"y\":[5.6383824,6.466339,8.991277,9.107072,11.423831,9.682201,6.044048,5.7580447,11.648764,8.39984,10.611738,9.754851,10.348132,5.6934876,9.861994,5.493039,11.723952,11.737443,5.1032915,5.2111406,6.0217023,5.2028546,6.3976345,7.8406954,7.2287555,6.563127,11.311599,10.208582,7.25099,6.7988486,6.9823246,11.799596,10.327185,11.799811,6.6534414,5.7853475,9.685053,9.085254,9.680786,8.915805,5.707325,5.6642156,9.308194,4.9945345,7.5318294,5.591626,5.1193876,10.060297,10.2680025,5.197795,5.542539,4.8986354,7.054262,9.353245,4.885912,11.866125,11.742647,11.684722,10.865647,7.6878266,10.925743,9.554152,11.841156,10.278793,9.01966,10.185549,10.363423,11.117082,11.737212,10.277394,9.299546,5.444685,9.055825],\"yaxis\":\"y\",\"type\":\"scatter\"},{\"hovertemplate\":\"\\u003cb\\u003e%{hovertext}\\u003c\\u002fb\\u003e\\u003cbr\\u003e\\u003cbr\\u003estate=washington\\u003cbr\\u003ex=%{x}\\u003cbr\\u003ey=%{y}\\u003cextra\\u003e\\u003c\\u002fextra\\u003e\",\"hovertext\":[\"lacey_washington.png\",\"sammamish_washington.png\",\"spokane_valley_washington.png\",\"kirkland_washington.png\",\"bellevue_washington.png\",\"spokane_washington.png\",\"renton_washington.png\",\"bellingham_washington.png\",\"auburn_washington.png\",\"burien_washington.png\",\"lakewood_washington.png\",\"vancouver_washington.png\",\"yakima_washington.png\",\"pasco_washington.png\",\"puyallup_washington.png\",\"federal_way_washington.png\",\"richland_washington.png\",\"everett_washington.png\",\"marysville_washington.png\",\"tacoma_washington.png\",\"kennewick_washington.png\",\"shoreline_washington.png\",\"edmonds_washington.png\",\"bremerton_washington.png\",\"redmond_washington.png\",\"seattle_washington.png\",\"kent_washington.png\",\"olympia_washington.png\"],\"legendgroup\":\"washington\",\"marker\":{\"color\":\"#ab63fa\",\"symbol\":\"circle\"},\"mode\":\"markers\",\"name\":\"washington\",\"orientation\":\"v\",\"showlegend\":true,\"x\":[3.086538,8.511781,7.1115165,2.9291396,4.0138893,6.0274034,4.97994,3.701976,7.220293,3.2446206,2.9355142,7.510047,6.9060726,8.150596,7.0827513,4.865661,7.25174,7.8365436,5.4333663,4.453677,8.226975,4.121454,3.2896528,6.9247646,4.6608396,3.3052278,2.891495,4.7465925],\"xaxis\":\"x\",\"y\":[8.8884735,6.344765,6.4834514,9.023644,9.711871,7.652485,8.2384205,9.00493,6.2264705,9.291499,9.004485,6.1737742,6.895495,6.158412,6.3945503,8.446506,6.535171,6.5642776,7.8216033,7.2451844,5.8520403,9.615141,9.300602,7.0917363,7.6362166,8.309792,8.691253,8.817607],\"yaxis\":\"y\",\"type\":\"scatter\"},{\"hovertemplate\":\"\\u003cb\\u003e%{hovertext}\\u003c\\u002fb\\u003e\\u003cbr\\u003e\\u003cbr\\u003estate=michigan\\u003cbr\\u003ex=%{x}\\u003cbr\\u003ey=%{y}\\u003cextra\\u003e\\u003c\\u002fextra\\u003e\",\"hovertext\":[\"kalamazoo_michigan.png\",\"wyoming_michigan.png\",\"westland_michigan.png\",\"roseville_michigan.png\",\"rochester_hills_michigan.png\",\"taylor_michigan.png\",\"portage_michigan.png\",\"grand_rapids_michigan.png\",\"detroit_michigan.png\",\"troy_michigan.png\",\"lincoln_park_michigan.png\",\"east_lansing_michigan.png\",\"kentwood_michigan.png\",\"ann_arbor_michigan.png\",\"saginaw_michigan.png\",\"farmington_hills_michigan.png\",\"royal_oak_michigan.png\",\"battle_creek_michigan.png\",\"dearborn_michigan.png\",\"southfield_michigan.png\",\"pontiac_michigan.png\",\"dearborn_heights_michigan.png\",\"midland_michigan.png\",\"warren_michigan.png\",\"sterling_heights_michigan.png\",\"flint_michigan.png\",\"novi_michigan.png\",\"livonia_michigan.png\",\"muskegon_michigan.png\",\"st._clair_shores_michigan.png\",\"lansing_michigan.png\"],\"legendgroup\":\"michigan\",\"marker\":{\"color\":\"#FFA15A\",\"symbol\":\"circle\"},\"mode\":\"markers\",\"name\":\"michigan\",\"orientation\":\"v\",\"showlegend\":true,\"x\":[7.35211,5.7139287,5.4059253,5.18468,6.639724,3.017902,6.86913,5.1255946,3.8666437,5.903299,3.023785,5.611721,6.0821257,5.0296535,3.5084438,3.9984162,3.534993,6.077038,2.8910105,5.696521,4.40856,4.0262957,5.4401674,6.360499,7.9229355,3.8792403,5.5379944,6.576328,2.2039988,5.608326,5.5067487],\"xaxis\":\"x\",\"y\":[6.393681,5.32216,7.3211255,8.138275,5.1287932,8.417155,4.347584,5.8548303,6.056712,6.1754913,8.324746,7.381559,6.677046,6.61644,7.665791,7.9469934,9.697069,5.7322125,9.37991,4.7896976,6.2577786,6.080395,5.739147,4.200637,5.748302,9.722422,6.451788,5.78968,10.801026,5.9171214,5.439131],\"yaxis\":\"y\",\"type\":\"scatter\"},{\"hovertemplate\":\"\\u003cb\\u003e%{hovertext}\\u003c\\u002fb\\u003e\\u003cbr\\u003e\\u003cbr\\u003estate=ohio\\u003cbr\\u003ex=%{x}\\u003cbr\\u003ey=%{y}\\u003cextra\\u003e\\u003c\\u002fextra\\u003e\",\"hovertext\":[\"lima_ohio.png\",\"grove_city_ohio.png\",\"cleveland_ohio.png\",\"mentor_ohio.png\",\"toledo_ohio.png\",\"strongsville_ohio.png\",\"parma_ohio.png\",\"findlay_ohio.png\",\"lakewood_ohio.png\",\"lancaster_ohio.png\",\"columbus_ohio.png\",\"elyria_ohio.png\",\"canton_ohio.png\",\"huber_heights_ohio.png\",\"dayton_ohio.png\",\"fairfield_ohio.png\",\"cuyahoga_falls_ohio.png\",\"youngstown_ohio.png\",\"mansfield_ohio.png\",\"akron_ohio.png\",\"cincinnati_ohio.png\",\"kettering_ohio.png\",\"beavercreek_ohio.png\",\"lorain_ohio.png\",\"cleveland_heights_ohio.png\",\"westerville_ohio.png\",\"middletown_ohio.png\",\"springfield_ohio.png\",\"newark_ohio.png\",\"hamilton_ohio.png\",\"warren_ohio.png\",\"dublin_ohio.png\",\"euclid_ohio.png\"],\"legendgroup\":\"ohio\",\"marker\":{\"color\":\"#19d3f3\",\"symbol\":\"circle\"},\"mode\":\"markers\",\"name\":\"ohio\",\"orientation\":\"v\",\"showlegend\":true,\"x\":[4.7736917,3.5565584,3.7968798,7.364928,4.017762,7.1170526,5.5330033,4.1124287,5.6886387,6.798195,4.53001,2.7855735,4.493675,5.6846557,2.2889187,5.795268,3.8060958,3.933806,4.7574763,4.124851,3.6284378,6.323681,2.1335635,3.8292081,4.3942285,5.7174025,3.4007168,4.8594837,3.6305487,4.660236,6.3343315,6.306592,4.939566],\"xaxis\":\"x\",\"y\":[6.351558,7.6779566,9.769443,5.223393,7.2060595,4.7957234,4.8660007,8.668046,5.406435,4.2151437,7.1803913,10.913584,7.2502894,6.0063434,10.649684,8.286518,6.894419,7.4177194,5.671355,5.2610235,7.628378,4.216026,11.073121,9.241535,8.150008,7.2560964,8.696876,5.682804,7.560942,7.587393,4.770622,6.296414,7.7256665],\"yaxis\":\"y\",\"type\":\"scatter\"},{\"hovertemplate\":\"\\u003cb\\u003e%{hovertext}\\u003c\\u002fb\\u003e\\u003cbr\\u003e\\u003cbr\\u003estate=massachusetts\\u003cbr\\u003ex=%{x}\\u003cbr\\u003ey=%{y}\\u003cextra\\u003e\\u003c\\u002fextra\\u003e\",\"hovertext\":[\"peabody_massachusetts.png\",\"woburn_massachusetts.png\",\"lowell_massachusetts.png\",\"everett_massachusetts.png\",\"revere_massachusetts.png\",\"lawrence_massachusetts.png\",\"beverly_massachusetts.png\",\"leominster_massachusetts.png\",\"chelsea_massachusetts.png\",\"cambridge_massachusetts.png\",\"taunton_massachusetts.png\",\"westfield_massachusetts.png\",\"holyoke_massachusetts.png\",\"boston_massachusetts.png\",\"springfield_massachusetts.png\",\"methuen_massachusetts.png\",\"attleboro_massachusetts.png\",\"brockton_massachusetts.png\",\"salem_massachusetts.png\",\"somerville_massachusetts.png\",\"barnstable_town_massachusetts.png\",\"waltham_massachusetts.png\",\"lynn_massachusetts.png\",\"weymouth_town_massachusetts.png\",\"newton_massachusetts.png\",\"medford_massachusetts.png\",\"quincy_massachusetts.png\",\"fall_river_massachusetts.png\",\"chicopee_massachusetts.png\",\"marlborough_massachusetts.png\",\"fitchburg_massachusetts.png\",\"worcester_massachusetts.png\",\"pittsfield_massachusetts.png\",\"new_bedford_massachusetts.png\",\"malden_massachusetts.png\",\"haverhill_massachusetts.png\"],\"legendgroup\":\"massachusetts\",\"marker\":{\"color\":\"#FF6692\",\"symbol\":\"circle\"},\"mode\":\"markers\",\"name\":\"massachusetts\",\"orientation\":\"v\",\"showlegend\":true,\"x\":[4.028546,7.9864264,8.106607,3.375094,3.0531726,4.946806,5.5460515,6.471577,5.2184153,5.1025815,6.6760798,7.176478,5.061416,4.0312304,5.566091,5.6971884,5.9698243,6.9324465,3.4535973,7.2672524,6.657877,6.499479,7.336683,5.4716935,8.331928,4.351941,6.4828258,3.6951296,6.3971686,5.707016,5.6619306,6.1264486,6.491519,2.2611287,4.5182576,5.5701814],\"xaxis\":\"x\",\"y\":[8.557786,5.8291364,4.9585724,8.554503,8.607699,7.574928,7.113823,4.9742827,5.69292,7.7756667,4.6674795,4.642468,6.7251725,7.7192492,5.012459,7.1645284,8.076958,6.2421227,8.707572,4.586962,7.7088737,6.591871,6.693331,7.1344347,5.9003043,8.9302225,4.7122984,9.025358,4.3378615,8.502683,8.402361,7.2042146,4.857881,10.842721,6.142359,8.740863],\"yaxis\":\"y\",\"type\":\"scatter\"},{\"hovertemplate\":\"\\u003cb\\u003e%{hovertext}\\u003c\\u002fb\\u003e\\u003cbr\\u003e\\u003cbr\\u003estate=wisconsin\\u003cbr\\u003ex=%{x}\\u003cbr\\u003ey=%{y}\\u003cextra\\u003e\\u003c\\u002fextra\\u003e\",\"hovertext\":[\"appleton_wisconsin.png\",\"milwaukee_wisconsin.png\",\"madison_wisconsin.png\",\"kenosha_wisconsin.png\",\"waukesha_wisconsin.png\",\"oshkosh_wisconsin.png\",\"greenfield_wisconsin.png\",\"green_bay_wisconsin.png\",\"eau_claire_wisconsin.png\",\"janesville_wisconsin.png\",\"wausau_wisconsin.png\",\"fond_du_lac_wisconsin.png\",\"racine_wisconsin.png\",\"wauwatosa_wisconsin.png\",\"west_allis_wisconsin.png\",\"brookfield_wisconsin.png\",\"sheboygan_wisconsin.png\",\"new_berlin_wisconsin.png\",\"la_crosse_wisconsin.png\",\"beloit_wisconsin.png\"],\"legendgroup\":\"wisconsin\",\"marker\":{\"color\":\"#B6E880\",\"symbol\":\"circle\"},\"mode\":\"markers\",\"name\":\"wisconsin\",\"orientation\":\"v\",\"showlegend\":true,\"x\":[4.379191,2.5516472,5.8249435,6.861206,2.3219006,7.645695,7.149849,8.104298,3.7634695,8.247854,5.2009325,6.6924157,3.7844155,7.049676,2.3952982,2.4886274,5.0817404,7.122092,4.6321964,5.236871],\"xaxis\":\"x\",\"y\":[6.63001,10.526506,4.627394,6.4281774,11.026214,5.5803294,4.349436,5.064951,8.579591,5.7122474,5.0984826,5.0627713,8.976687,5.1804256,11.038363,10.858689,8.128192,4.3008556,6.2641153,7.9962645],\"yaxis\":\"y\",\"type\":\"scatter\"},{\"hovertemplate\":\"\\u003cb\\u003e%{hovertext}\\u003c\\u002fb\\u003e\\u003cbr\\u003e\\u003cbr\\u003estate=utah\\u003cbr\\u003ex=%{x}\\u003cbr\\u003ey=%{y}\\u003cextra\\u003e\\u003c\\u002fextra\\u003e\",\"hovertext\":[\"provo_utah.png\",\"west_valley_city_utah.png\",\"south_jordan_utah.png\",\"sandy_utah.png\",\"ogden_utah.png\",\"salt_lake_city_utah.png\",\"logan_utah.png\",\"west_jordan_utah.png\",\"spanish_fork_utah.png\",\"riverton_utah.png\",\"draper_utah.png\",\"st._george_utah.png\",\"taylorsville_utah.png\",\"orem_utah.png\",\"layton_utah.png\",\"lehi_utah.png\",\"roy_utah.png\",\"murray_utah.png\",\"bountiful_utah.png\"],\"legendgroup\":\"utah\",\"marker\":{\"color\":\"#FF97FF\",\"symbol\":\"circle\"},\"mode\":\"markers\",\"name\":\"utah\",\"orientation\":\"v\",\"showlegend\":true,\"x\":[7.3676543,4.050676,6.2584534,8.696071,7.754125,3.9578483,7.7243686,8.377029,7.8620915,6.8169746,7.88696,7.6282864,6.0143986,8.115168,8.509003,8.041123,8.132633,8.140696,8.378766],\"xaxis\":\"x\",\"y\":[7.6440015,7.117438,6.942815,5.7868752,7.322249,7.142001,7.023843,5.437404,7.518163,6.400335,7.1874523,7.193635,4.2509127,7.8290424,7.2480464,7.420694,7.7862105,6.0981154,6.01709],\"yaxis\":\"y\",\"type\":\"scatter\"},{\"hovertemplate\":\"\\u003cb\\u003e%{hovertext}\\u003c\\u002fb\\u003e\\u003cbr\\u003e\\u003cbr\\u003estate=texas\\u003cbr\\u003ex=%{x}\\u003cbr\\u003ey=%{y}\\u003cextra\\u003e\\u003c\\u002fextra\\u003e\",\"hovertext\":[\"tyler_texas.png\",\"san_antonio_texas.png\",\"north_richland_hills_texas.png\",\"friendswood_texas.png\",\"mansfield_texas.png\",\"lewisville_texas.png\",\"plano_texas.png\",\"huntsville_texas.png\",\"midland_texas.png\",\"beaumont_texas.png\",\"rockwall_texas.png\",\"harlingen_texas.png\",\"temple_texas.png\",\"pearland_texas.png\",\"euless_texas.png\",\"wylie_texas.png\",\"pasadena_texas.png\",\"keller_texas.png\",\"allen_texas.png\",\"burleson_texas.png\",\"san_angelo_texas.png\",\"desoto_texas.png\",\"brownsville_texas.png\",\"lancaster_texas.png\",\"san_marcos_texas.png\",\"pflugerville_texas.png\",\"austin_texas.png\",\"lubbock_texas.png\",\"odessa_texas.png\",\"mcallen_texas.png\",\"waco_texas.png\",\"richardson_texas.png\",\"bryan_texas.png\",\"edinburg_texas.png\",\"abilene_texas.png\",\"cedar_hill_texas.png\",\"longview_texas.png\",\"college_station_texas.png\",\"houston_texas.png\",\"new_braunfels_texas.png\",\"killeen_texas.png\",\"mission_texas.png\",\"coppell_texas.png\",\"amarillo_texas.png\",\"grand_prairie_texas.png\",\"corpus_christi_texas.png\",\"texas_city_texas.png\",\"bedford_texas.png\",\"georgetown_texas.png\",\"galveston_texas.png\",\"weslaco_texas.png\",\"irving_texas.png\",\"denton_texas.png\",\"flower_mound_texas.png\",\"round_rock_texas.png\",\"frisco_texas.png\",\"fort_worth_texas.png\",\"pharr_texas.png\",\"mesquite_texas.png\",\"missouri_city_texas.png\",\"cedar_park_texas.png\",\"port_arthur_texas.png\",\"hurst_texas.png\",\"league_city_texas.png\",\"garland_texas.png\",\"grapevine_texas.png\",\"victoria_texas.png\",\"haltom_city_texas.png\",\"the_colony_texas.png\",\"conroe_texas.png\",\"sugar_land_texas.png\",\"sherman_texas.png\",\"carrollton_texas.png\",\"laredo_texas.png\",\"el_paso_texas.png\",\"arlington_texas.png\",\"duncanville_texas.png\",\"dallas_texas.png\",\"rowlett_texas.png\",\"mckinney_texas.png\",\"wichita_falls_texas.png\",\"texarkana_texas.png\",\"baytown_texas.png\"],\"legendgroup\":\"texas\",\"marker\":{\"color\":\"#FECB52\",\"symbol\":\"circle\"},\"mode\":\"markers\",\"name\":\"texas\",\"orientation\":\"v\",\"showlegend\":true,\"x\":[5.724528,5.315596,5.89355,7.5299454,5.919235,5.346085,4.8570065,5.3092294,3.513226,7.1555905,6.66823,8.266763,3.856903,4.6757903,7.682469,7.393306,3.296126,4.9387536,6.5372663,4.2568073,4.248232,4.4624233,7.321876,3.834381,4.884662,7.330922,4.485027,4.2423115,4.1201963,6.115833,3.051279,7.730452,6.7881646,5.0673037,4.671942,5.447662,3.9091141,5.7923503,3.7795234,6.0639496,8.500817,5.0801516,2.7295463,4.0423727,5.5082145,3.6021216,5.5022955,2.9668665,5.7087502,2.6958084,2.5019352,3.5138338,5.0490704,3.2330704,6.1475773,4.404134,3.4967306,7.6286097,7.7911825,5.66192,5.906041,4.770969,2.491965,7.086519,8.957329,5.3236184,5.0359793,2.6367927,4.4383163,6.8121758,5.458812,6.602158,3.5900798,8.614983,7.731841,3.208466,5.5523114,3.7966747,7.246958,6.356092,2.8687408,2.856087,8.5821905],\"xaxis\":\"x\",\"y\":[6.4831996,7.5459185,6.226688,4.890025,4.4678435,8.28906,7.5064626,6.495477,9.895703,4.7962065,5.7514243,6.9364877,5.6573863,9.586336,4.835588,4.797283,11.533691,8.546913,5.0689607,9.660418,6.552143,9.248098,4.858635,6.3802943,5.533543,5.114774,9.242624,5.236168,7.0614862,5.4062757,11.169907,7.192344,5.273309,6.092075,7.251844,8.342978,9.4901085,6.5653872,5.5607467,5.512545,5.499289,6.3454084,10.887647,6.9246516,5.672204,5.83454,5.152751,10.608258,6.998867,9.929686,11.360075,5.931303,8.566746,11.203967,4.2867694,8.982633,9.619418,4.793262,7.266504,5.356937,8.181788,9.2679405,11.297634,5.0762553,5.3977475,7.9290037,5.9353356,10.969743,6.6526585,5.48108,6.24735,5.3018274,9.524946,4.7668433,8.363924,11.089203,7.9082875,5.4776897,5.4546843,5.409222,10.716161,10.190263,4.8097854],\"yaxis\":\"y\",\"type\":\"scatter\"},{\"hovertemplate\":\"\\u003cb\\u003e%{hovertext}\\u003c\\u002fb\\u003e\\u003cbr\\u003e\\u003cbr\\u003estate=colorado\\u003cbr\\u003ex=%{x}\\u003cbr\\u003ey=%{y}\\u003cextra\\u003e\\u003c\\u002fextra\\u003e\",\"hovertext\":[\"aurora_colorado.png\",\"broomfield_colorado.png\",\"castle_rock_colorado.png\",\"parker_colorado.png\",\"northglenn_colorado.png\",\"longmont_colorado.png\",\"lakewood_colorado.png\",\"grand_junction_colorado.png\",\"colorado_springs_colorado.png\",\"boulder_colorado.png\",\"arvada_colorado.png\",\"centennial_colorado.png\",\"greeley_colorado.png\",\"denver_colorado.png\",\"thornton_colorado.png\",\"pueblo_colorado.png\",\"fort_collins_colorado.png\",\"loveland_colorado.png\",\"littleton_colorado.png\",\"westminster_colorado.png\",\"commerce_city_colorado.png\"],\"legendgroup\":\"colorado\",\"marker\":{\"color\":\"#636efa\",\"symbol\":\"circle\"},\"mode\":\"markers\",\"name\":\"colorado\",\"orientation\":\"v\",\"showlegend\":true,\"x\":[7.313123,6.946385,8.169735,5.298881,8.235397,7.7068586,6.2956953,7.200246,3.337103,8.527957,8.765236,3.2158148,6.351971,3.8739228,5.583882,4.542901,6.703526,6.4649916,7.622571,6.1655865,7.2154627],\"xaxis\":\"x\",\"y\":[8.217768,5.425594,6.1658287,8.517373,7.799804,8.2059555,5.17207,6.6915207,10.008142,6.7901225,5.2604294,8.921495,6.594511,7.3364954,8.222464,6.550945,4.7519813,4.361465,7.0902553,5.2499447,6.6236053],\"yaxis\":\"y\",\"type\":\"scatter\"},{\"hovertemplate\":\"\\u003cb\\u003e%{hovertext}\\u003c\\u002fb\\u003e\\u003cbr\\u003e\\u003cbr\\u003estate=oklahoma\\u003cbr\\u003ex=%{x}\\u003cbr\\u003ey=%{y}\\u003cextra\\u003e\\u003c\\u002fextra\\u003e\",\"hovertext\":[\"enid_oklahoma.png\",\"stillwater_oklahoma.png\",\"broken_arrow_oklahoma.png\",\"midwest_city_oklahoma.png\",\"tulsa_oklahoma.png\",\"norman_oklahoma.png\",\"oklahoma_city_oklahoma.png\",\"edmond_oklahoma.png\",\"moore_oklahoma.png\",\"muskogee_oklahoma.png\",\"lawton_oklahoma.png\"],\"legendgroup\":\"oklahoma\",\"marker\":{\"color\":\"#EF553B\",\"symbol\":\"circle\"},\"mode\":\"markers\",\"name\":\"oklahoma\",\"orientation\":\"v\",\"showlegend\":true,\"x\":[5.727805,6.50694,4.9251766,3.9099445,3.7983,5.400121,5.4123707,6.4920235,3.9529731,2.2414882,7.9313774],\"xaxis\":\"x\",\"y\":[5.8451953,5.7088823,9.347672,5.6710215,5.7878404,5.6393065,4.403678,5.606147,7.133656,10.693048,7.7419133],\"yaxis\":\"y\",\"type\":\"scatter\"},{\"hovertemplate\":\"\\u003cb\\u003e%{hovertext}\\u003c\\u002fb\\u003e\\u003cbr\\u003e\\u003cbr\\u003estate=mississippi\\u003cbr\\u003ex=%{x}\\u003cbr\\u003ey=%{y}\\u003cextra\\u003e\\u003c\\u002fextra\\u003e\",\"hovertext\":[\"gulfport_mississippi.png\",\"hattiesburg_mississippi.png\",\"southaven_mississippi.png\",\"biloxi_mississippi.png\",\"meridian_mississippi.png\",\"jackson_mississippi.png\"],\"legendgroup\":\"mississippi\",\"marker\":{\"color\":\"#00cc96\",\"symbol\":\"circle\"},\"mode\":\"markers\",\"name\":\"mississippi\",\"orientation\":\"v\",\"showlegend\":true,\"x\":[4.9660854,3.2668586,7.158837,2.7803116,5.659987,4.8389287],\"xaxis\":\"x\",\"y\":[5.1698008,11.119057,4.9036446,10.594945,4.7511206,6.191701],\"yaxis\":\"y\",\"type\":\"scatter\"},{\"hovertemplate\":\"\\u003cb\\u003e%{hovertext}\\u003c\\u002fb\\u003e\\u003cbr\\u003e\\u003cbr\\u003estate=pennsylvania\\u003cbr\\u003ex=%{x}\\u003cbr\\u003ey=%{y}\\u003cextra\\u003e\\u003c\\u002fextra\\u003e\",\"hovertext\":[\"bethlehem_pennsylvania.png\",\"wilkes-barre_pennsylvania.png\",\"philadelphia_pennsylvania.png\",\"scranton_pennsylvania.png\",\"harrisburg_pennsylvania.png\",\"york_pennsylvania.png\",\"pittsburgh_pennsylvania.png\",\"altoona_pennsylvania.png\",\"allentown_pennsylvania.png\",\"state_college_pennsylvania.png\",\"lancaster_pennsylvania.png\",\"erie_pennsylvania.png\",\"reading_pennsylvania.png\"],\"legendgroup\":\"pennsylvania\",\"marker\":{\"color\":\"#ab63fa\",\"symbol\":\"circle\"},\"mode\":\"markers\",\"name\":\"pennsylvania\",\"orientation\":\"v\",\"showlegend\":true,\"x\":[3.6201363,4.423626,3.5878634,5.491056,2.6434653,6.003169,4.1887226,5.899795,3.2481189,3.6035929,2.5951693,2.8048327,4.3992767],\"xaxis\":\"x\",\"y\":[6.887312,6.891588,7.6443024,5.877503,10.86117,4.4195085,10.222295,7.877057,9.661806,9.053029,11.199583,9.4252,7.4262],\"yaxis\":\"y\",\"type\":\"scatter\"},{\"hovertemplate\":\"\\u003cb\\u003e%{hovertext}\\u003c\\u002fb\\u003e\\u003cbr\\u003e\\u003cbr\\u003estate=south carolina\\u003cbr\\u003ex=%{x}\\u003cbr\\u003ey=%{y}\\u003cextra\\u003e\\u003c\\u002fextra\\u003e\",\"hovertext\":[\"spartanburg_south_carolina.png\",\"summerville_south_carolina.png\",\"goose_creek_south_carolina.png\",\"rock_hill_south_carolina.png\",\"mount_pleasant_south_carolina.png\",\"hilton_head_island_south_carolina.png\",\"columbia_south_carolina.png\",\"sumter_south_carolina.png\",\"florence_south_carolina.png\",\"greenville_south_carolina.png\",\"charleston_south_carolina.png\",\"north_charleston_south_carolina.png\"],\"legendgroup\":\"south carolina\",\"marker\":{\"color\":\"#FFA15A\",\"symbol\":\"circle\"},\"mode\":\"markers\",\"name\":\"south carolina\",\"orientation\":\"v\",\"showlegend\":true,\"x\":[2.5090153,3.1648223,6.384331,2.5293002,4.948461,3.1361766,4.2601075,2.093365,3.366117,6.165267,3.4160528,3.4620726],\"xaxis\":\"x\",\"y\":[11.283544,11.25796,4.782609,10.819488,9.239944,11.286966,6.4894304,11.023919,10.70741,5.575873,10.661367,9.340764],\"yaxis\":\"y\",\"type\":\"scatter\"},{\"hovertemplate\":\"\\u003cb\\u003e%{hovertext}\\u003c\\u002fb\\u003e\\u003cbr\\u003e\\u003cbr\\u003estate=illinois\\u003cbr\\u003ex=%{x}\\u003cbr\\u003ey=%{y}\\u003cextra\\u003e\\u003c\\u002fextra\\u003e\",\"hovertext\":[\"evanston_illinois.png\",\"chicago_illinois.png\",\"downers_grove_illinois.png\",\"glenview_illinois.png\",\"joliet_illinois.png\",\"dekalb_illinois.png\",\"elmhurst_illinois.png\",\"normal_illinois.png\",\"bloomington_illinois.png\",\"oak_lawn_illinois.png\",\"rockford_illinois.png\",\"schaumburg_illinois.png\",\"aurora_illinois.png\",\"skokie_illinois.png\",\"belleville_illinois.png\",\"springfield_illinois.png\",\"arlington_heights_illinois.png\",\"wheeling_illinois.png\",\"berwyn_illinois.png\",\"plainfield_illinois.png\",\"urbana_illinois.png\",\"streamwood_illinois.png\",\"carol_stream_illinois.png\",\"des_plaines_illinois.png\",\"cicero_illinois.png\",\"crystal_lake_illinois.png\",\"calumet_city_illinois.png\",\"champaign_illinois.png\",\"lombard_illinois.png\",\"orland_park_illinois.png\",\"elgin_illinois.png\",\"hoffman_estates_illinois.png\",\"waukegan_illinois.png\",\"buffalo_grove_illinois.png\",\"wheaton_illinois.png\",\"oak_park_illinois.png\",\"palatine_illinois.png\",\"decatur_illinois.png\",\"carpentersville_illinois.png\",\"mount_prospect_illinois.png\",\"peoria_illinois.png\",\"bartlett_illinois.png\",\"bolingbrook_illinois.png\",\"quincy_illinois.png\",\"addison_illinois.png\",\"park_ridge_illinois.png\",\"rock_island_illinois.png\",\"hanover_park_illinois.png\",\"moline_illinois.png\",\"romeoville_illinois.png\",\"tinley_park_illinois.png\",\"naperville_illinois.png\"],\"legendgroup\":\"illinois\",\"marker\":{\"color\":\"#19d3f3\",\"symbol\":\"circle\"},\"mode\":\"markers\",\"name\":\"illinois\",\"orientation\":\"v\",\"showlegend\":true,\"x\":[2.6125484,2.7567046,6.212696,6.0622396,2.6355786,3.0027263,5.8731794,6.0871835,3.8053303,5.337801,5.398983,7.455735,5.8900123,8.647112,6.2509227,4.077607,6.3358803,2.6843398,5.326758,2.9364848,5.411694,7.1498985,2.1956735,5.45184,5.3335037,7.5263443,4.170706,5.252471,4.8170485,6.0490994,6.0312147,6.563381,2.2468162,7.1468577,4.342877,5.8357024,6.4511642,4.802654,7.3864756,2.2649798,4.541562,5.809494,7.490183,5.5999017,6.2157536,5.4752727,6.0029793,6.632194,4.3564754,2.9739137,7.090834,5.8172903],\"xaxis\":\"x\",\"y\":[11.31455,9.999208,5.529557,7.968087,10.475506,8.724524,4.9015784,4.3431044,9.2784815,6.0255446,7.5820765,5.7759676,4.331653,4.8068447,4.6500154,8.634985,7.519509,9.713608,5.4459844,11.206852,7.0909014,5.4512377,11.113914,5.816885,5.6136937,4.805091,6.746163,4.5921197,7.4712176,8.530959,5.392693,4.376278,10.992879,5.271859,6.518771,8.02786,5.2138195,7.4107156,5.1611366,11.193187,8.698397,8.302726,5.071059,5.2260056,5.168128,6.005189,6.7072663,6.398662,7.3554,10.54741,5.4746594,4.6348634],\"yaxis\":\"y\",\"type\":\"scatter\"},{\"hovertemplate\":\"\\u003cb\\u003e%{hovertext}\\u003c\\u002fb\\u003e\\u003cbr\\u003e\\u003cbr\\u003estate=kentucky\\u003cbr\\u003ex=%{x}\\u003cbr\\u003ey=%{y}\\u003cextra\\u003e\\u003c\\u002fextra\\u003e\",\"hovertext\":[\"bowling_green_kentucky.png\",\"lexington-fayette_kentucky.png\",\"owensboro_kentucky.png\",\"covington_kentucky.png\",\"louisville_kentucky.png\"],\"legendgroup\":\"kentucky\",\"marker\":{\"color\":\"#FF6692\",\"symbol\":\"circle\"},\"mode\":\"markers\",\"name\":\"kentucky\",\"orientation\":\"v\",\"showlegend\":true,\"x\":[3.5484834,5.022547,4.430322,3.6704588,3.6063027],\"xaxis\":\"x\",\"y\":[8.023022,6.304566,6.9384894,6.939069,5.9388123],\"yaxis\":\"y\",\"type\":\"scatter\"},{\"hovertemplate\":\"\\u003cb\\u003e%{hovertext}\\u003c\\u002fb\\u003e\\u003cbr\\u003e\\u003cbr\\u003estate=louisiana\\u003cbr\\u003ex=%{x}\\u003cbr\\u003ey=%{y}\\u003cextra\\u003e\\u003c\\u002fextra\\u003e\",\"hovertext\":[\"alexandria_louisiana.png\",\"lake_charles_louisiana.png\",\"baton_rouge_louisiana.png\",\"kenner_louisiana.png\",\"monroe_louisiana.png\",\"shreveport_louisiana.png\",\"new_orleans_louisiana.png\",\"lafayette_louisiana.png\",\"bossier_city_louisiana.png\"],\"legendgroup\":\"louisiana\",\"marker\":{\"color\":\"#B6E880\",\"symbol\":\"circle\"},\"mode\":\"markers\",\"name\":\"louisiana\",\"orientation\":\"v\",\"showlegend\":true,\"x\":[5.2785516,3.2678678,5.8973603,6.4222517,2.5190148,3.6584158,3.845601,5.2441993,4.0508714],\"xaxis\":\"x\",\"y\":[5.576823,9.235495,5.4297338,4.61657,11.056241,6.9887447,8.858713,7.861648,6.739631],\"yaxis\":\"y\",\"type\":\"scatter\"},{\"hovertemplate\":\"\\u003cb\\u003e%{hovertext}\\u003c\\u002fb\\u003e\\u003cbr\\u003e\\u003cbr\\u003estate=virginia\\u003cbr\\u003ex=%{x}\\u003cbr\\u003ey=%{y}\\u003cextra\\u003e\\u003c\\u002fextra\\u003e\",\"hovertext\":[\"richmond_virginia.png\",\"harrisonburg_virginia.png\",\"newport_news_virginia.png\",\"blacksburg_virginia.png\",\"suffolk_virginia.png\",\"virginia_beach_virginia.png\",\"danville_virginia.png\",\"manassas_virginia.png\",\"charlottesville_virginia.png\",\"hampton_virginia.png\",\"leesburg_virginia.png\",\"norfolk_virginia.png\",\"lynchburg_virginia.png\",\"portsmouth_virginia.png\",\"alexandria_virginia.png\",\"roanoke_virginia.png\",\"charleston_west_virginia.png\",\"chesapeake_virginia.png\",\"huntington_west_virginia.png\"],\"legendgroup\":\"virginia\",\"marker\":{\"color\":\"#FF97FF\",\"symbol\":\"circle\"},\"mode\":\"markers\",\"name\":\"virginia\",\"orientation\":\"v\",\"showlegend\":true,\"x\":[5.4675145,3.9629562,2.8886306,7.362374,6.7976155,3.2756097,2.4622228,2.7152858,5.2370934,3.6486323,5.6290197,6.090486,3.3284311,4.107636,5.7835608,6.0502295,6.5161934,5.9736886,3.7540147],\"xaxis\":\"x\",\"y\":[4.60595,6.663499,9.567786,7.058187,4.210465,9.688306,10.918019,10.809819,7.265375,9.765394,7.2471013,7.898599,8.541773,10.151948,7.76094,7.0423355,6.6424575,7.418827,6.6303973],\"yaxis\":\"y\",\"type\":\"scatter\"},{\"hovertemplate\":\"\\u003cb\\u003e%{hovertext}\\u003c\\u002fb\\u003e\\u003cbr\\u003e\\u003cbr\\u003estate=new york\\u003cbr\\u003ex=%{x}\\u003cbr\\u003ey=%{y}\\u003cextra\\u003e\\u003c\\u002fextra\\u003e\",\"hovertext\":[\"niagara_falls_new_york.png\",\"white_plains_new_york.png\",\"mount_vernon_new_york.png\",\"new_york_new_york.png\",\"yonkers_new_york.png\",\"schenectady_new_york.png\",\"binghamton_new_york.png\",\"new_rochelle_new_york.png\",\"hempstead_new_york.png\",\"rochester_new_york.png\",\"buffalo_new_york.png\",\"utica_new_york.png\",\"albany_new_york.png\",\"syracuse_new_york.png\",\"valley_stream_new_york.png\",\"troy_new_york.png\",\"freeport_new_york.png\"],\"legendgroup\":\"new york\",\"marker\":{\"color\":\"#FECB52\",\"symbol\":\"circle\"},\"mode\":\"markers\",\"name\":\"new york\",\"orientation\":\"v\",\"showlegend\":true,\"x\":[7.59453,4.2240887,4.412587,3.7346961,3.3061192,4.9768977,4.1955743,2.059539,3.9222994,5.642547,3.6230466,2.5127814,4.10922,4.363346,2.0119834,3.917963,7.4169736],\"xaxis\":\"x\",\"y\":[5.49555,5.547146,8.656949,7.216211,8.073035,6.6483574,7.7324357,10.818715,8.603287,5.6162353,7.724351,10.179064,7.7416205,9.3711815,10.899051,8.3146515,4.714293],\"yaxis\":\"y\",\"type\":\"scatter\"},{\"hovertemplate\":\"\\u003cb\\u003e%{hovertext}\\u003c\\u002fb\\u003e\\u003cbr\\u003e\\u003cbr\\u003estate=minnesota\\u003cbr\\u003ex=%{x}\\u003cbr\\u003ey=%{y}\\u003cextra\\u003e\\u003c\\u002fextra\\u003e\",\"hovertext\":[\"st._paul_minnesota.png\",\"blaine_minnesota.png\",\"st._cloud_minnesota.png\",\"maplewood_minnesota.png\",\"brooklyn_park_minnesota.png\",\"duluth_minnesota.png\",\"eden_prairie_minnesota.png\",\"apple_valley_minnesota.png\",\"minneapolis_minnesota.png\",\"woodbury_minnesota.png\",\"st._louis_park_minnesota.png\",\"edina_minnesota.png\",\"eagan_minnesota.png\",\"burnsville_minnesota.png\",\"maple_grove_minnesota.png\",\"mankato_minnesota.png\",\"lakeville_minnesota.png\",\"rochester_minnesota.png\",\"plymouth_minnesota.png\",\"shakopee_minnesota.png\",\"bloomington_minnesota.png\",\"coon_rapids_minnesota.png\",\"minnetonka_minnesota.png\",\"moorhead_minnesota.png\"],\"legendgroup\":\"minnesota\",\"marker\":{\"color\":\"#636efa\",\"symbol\":\"circle\"},\"mode\":\"markers\",\"name\":\"minnesota\",\"orientation\":\"v\",\"showlegend\":true,\"x\":[3.4881942,6.469689,4.5179925,6.5750604,5.385848,5.953163,7.702705,7.726018,3.884667,5.011635,5.4510465,7.2116666,7.236445,7.634975,6.840356,5.712323,8.8255625,4.9753065,6.254079,7.3290687,5.4736934,5.8686633,7.58022,8.3723755],\"xaxis\":\"x\",\"y\":[8.315907,5.355984,7.5539026,5.684986,7.151611,7.2865644,6.9141903,5.4085655,7.2625337,4.841048,6.3880644,6.0634456,6.299606,6.4046407,5.0667186,4.5863967,6.104496,5.019207,5.700823,4.9740906,6.2741065,6.6771474,5.9870396,4.9076724],\"yaxis\":\"y\",\"type\":\"scatter\"},{\"hovertemplate\":\"\\u003cb\\u003e%{hovertext}\\u003c\\u002fb\\u003e\\u003cbr\\u003e\\u003cbr\\u003estate=tennessee\\u003cbr\\u003ex=%{x}\\u003cbr\\u003ey=%{y}\\u003cextra\\u003e\\u003c\\u002fextra\\u003e\",\"hovertext\":[\"knoxville_tennessee.png\",\"smyrna_tennessee.png\",\"memphis_tennessee.png\",\"collierville_tennessee.png\",\"kingsport_tennessee.png\",\"clarksville_tennessee.png\",\"nashville_tennessee.png\",\"murfreesboro_tennessee.png\",\"franklin_tennessee.png\",\"bartlett_tennessee.png\",\"germantown_tennessee.png\",\"hendersonville_tennessee.png\",\"chattanooga_tennessee.png\",\"cleveland_tennessee.png\",\"johnson_city_tennessee.png\",\"jackson_tennessee.png\",\"brentwood_tennessee.png\"],\"legendgroup\":\"tennessee\",\"marker\":{\"color\":\"#EF553B\",\"symbol\":\"circle\"},\"mode\":\"markers\",\"name\":\"tennessee\",\"orientation\":\"v\",\"showlegend\":true,\"x\":[4.2283726,3.4531388,3.718062,2.8782551,5.3082705,4.3526134,4.173929,2.264923,5.2422705,6.495686,3.1372757,6.49153,3.9987268,3.6397777,4.803332,5.9275403,5.2122126],\"xaxis\":\"x\",\"y\":[7.4387503,8.6317425,9.226241,10.999354,6.166389,8.775897,10.347409,11.179854,7.9677277,6.02685,11.069593,4.5772285,9.695138,7.0252814,7.5319767,4.4991384,6.665122],\"yaxis\":\"y\",\"type\":\"scatter\"},{\"hovertemplate\":\"\\u003cb\\u003e%{hovertext}\\u003c\\u002fb\\u003e\\u003cbr\\u003e\\u003cbr\\u003estate=georgia\\u003cbr\\u003ex=%{x}\\u003cbr\\u003ey=%{y}\\u003cextra\\u003e\\u003c\\u002fextra\\u003e\",\"hovertext\":[\"atlanta_georgia.png\",\"brookhaven_georgia.png\",\"roswell_georgia.png\",\"macon_georgia.png\",\"augusta-richmond_county_georgia.png\",\"johns_creek_georgia.png\",\"peachtree_corners_georgia.png\",\"dunwoody_georgia.png\",\"alpharetta_georgia.png\",\"sandy_springs_georgia.png\",\"valdosta_georgia.png\",\"smyrna_georgia.png\",\"albany_georgia.png\",\"warner_robins_georgia.png\",\"athens-clarke_county_georgia.png\",\"columbus_georgia.png\",\"marietta_georgia.png\",\"savannah_georgia.png\"],\"legendgroup\":\"georgia\",\"marker\":{\"color\":\"#00cc96\",\"symbol\":\"circle\"},\"mode\":\"markers\",\"name\":\"georgia\",\"orientation\":\"v\",\"showlegend\":true,\"x\":[2.8888707,4.3499346,2.1649106,5.060614,5.897936,5.1066623,6.0614924,2.6577048,7.072137,3.9746292,3.2894816,2.0190578,6.3056793,5.3522615,4.723002,4.344163,5.6098766,4.420776],\"xaxis\":\"x\",\"y\":[9.394477,8.223937,10.95058,8.408115,6.8737626,7.228615,5.5679603,10.423595,7.968016,8.058917,11.129043,10.919148,6.598855,6.175357,6.10759,9.630392,7.421051,8.2092085],\"yaxis\":\"y\",\"type\":\"scatter\"},{\"hovertemplate\":\"\\u003cb\\u003e%{hovertext}\\u003c\\u002fb\\u003e\\u003cbr\\u003e\\u003cbr\\u003estate=maryland\\u003cbr\\u003ex=%{x}\\u003cbr\\u003ey=%{y}\\u003cextra\\u003e\\u003c\\u002fextra\\u003e\",\"hovertext\":[\"frederick_maryland.png\",\"baltimore_maryland.png\",\"gaithersburg_maryland.png\",\"rockville_maryland.png\",\"bowie_maryland.png\",\"annapolis_maryland.png\",\"hagerstown_maryland.png\"],\"legendgroup\":\"maryland\",\"marker\":{\"color\":\"#ab63fa\",\"symbol\":\"circle\"},\"mode\":\"markers\",\"name\":\"maryland\",\"orientation\":\"v\",\"showlegend\":true,\"x\":[7.51622,3.667165,7.026149,3.9545507,6.975784,6.354543,4.6484013],\"xaxis\":\"x\",\"y\":[5.5180464,6.6869416,4.4290676,5.927545,4.7482615,8.014691,9.150313],\"yaxis\":\"y\",\"type\":\"scatter\"},{\"hovertemplate\":\"\\u003cb\\u003e%{hovertext}\\u003c\\u002fb\\u003e\\u003cbr\\u003e\\u003cbr\\u003estate=rhode island\\u003cbr\\u003ex=%{x}\\u003cbr\\u003ey=%{y}\\u003cextra\\u003e\\u003c\\u002fextra\\u003e\",\"hovertext\":[\"cranston_rhode_island.png\",\"woonsocket_rhode_island.png\",\"east_providence_rhode_island.png\",\"providence_rhode_island.png\",\"warwick_rhode_island.png\",\"pawtucket_rhode_island.png\"],\"legendgroup\":\"rhode island\",\"marker\":{\"color\":\"#FFA15A\",\"symbol\":\"circle\"},\"mode\":\"markers\",\"name\":\"rhode island\",\"orientation\":\"v\",\"showlegend\":true,\"x\":[5.788537,4.9895,2.3913002,3.7427504,5.6096625,4.800802],\"xaxis\":\"x\",\"y\":[8.200319,6.6333547,10.826156,7.9754605,8.437637,9.181657],\"yaxis\":\"y\",\"type\":\"scatter\"},{\"hovertemplate\":\"\\u003cb\\u003e%{hovertext}\\u003c\\u002fb\\u003e\\u003cbr\\u003e\\u003cbr\\u003estate=idaho\\u003cbr\\u003ex=%{x}\\u003cbr\\u003ey=%{y}\\u003cextra\\u003e\\u003c\\u002fextra\\u003e\",\"hovertext\":[\"nampa_idaho.png\",\"caldwell_idaho.png\",\"twin_falls_idaho.png\",\"meridian_idaho.png\",\"pocatello_idaho.png\",\"boise_city_idaho.png\",\"idaho_falls_idaho.png\",\"coeur_d_alene_idaho.png\"],\"legendgroup\":\"idaho\",\"marker\":{\"color\":\"#19d3f3\",\"symbol\":\"circle\"},\"mode\":\"markers\",\"name\":\"idaho\",\"orientation\":\"v\",\"showlegend\":true,\"x\":[7.5896144,7.3466887,8.496299,4.519235,7.82502,5.32189,6.8226433,7.58134],\"xaxis\":\"x\",\"y\":[6.6965346,6.2642975,7.1535044,5.417198,7.8676386,7.0986776,6.5203147,6.3650746],\"yaxis\":\"y\",\"type\":\"scatter\"},{\"hovertemplate\":\"\\u003cb\\u003e%{hovertext}\\u003c\\u002fb\\u003e\\u003cbr\\u003e\\u003cbr\\u003estate=oregon\\u003cbr\\u003ex=%{x}\\u003cbr\\u003ey=%{y}\\u003cextra\\u003e\\u003c\\u002fextra\\u003e\",\"hovertext\":[\"hillsboro_oregon.png\",\"tigard_oregon.png\",\"medford_oregon.png\",\"portland_oregon.png\",\"springfield_oregon.png\",\"lake_oswego_oregon.png\",\"eugene_oregon.png\",\"beaverton_oregon.png\",\"salem_oregon.png\",\"albany_oregon.png\",\"bend_oregon.png\",\"gresham_oregon.png\",\"keizer_oregon.png\",\"corvallis_oregon.png\"],\"legendgroup\":\"oregon\",\"marker\":{\"color\":\"#FF6692\",\"symbol\":\"circle\"},\"mode\":\"markers\",\"name\":\"oregon\",\"orientation\":\"v\",\"showlegend\":true,\"x\":[4.2880106,7.6114793,7.5733113,5.977791,6.387698,8.4287405,4.6378293,7.27591,4.354105,7.230355,7.380455,7.398113,3.9915612,5.4696174],\"xaxis\":\"x\",\"y\":[9.110525,6.5130577,6.5291004,7.560458,5.125171,5.93671,6.623154,6.1147904,8.510675,6.4320865,7.1344757,6.415578,7.1930127,7.6682515],\"yaxis\":\"y\",\"type\":\"scatter\"},{\"hovertemplate\":\"\\u003cb\\u003e%{hovertext}\\u003c\\u002fb\\u003e\\u003cbr\\u003e\\u003cbr\\u003estate=south dakota\\u003cbr\\u003ex=%{x}\\u003cbr\\u003ey=%{y}\\u003cextra\\u003e\\u003c\\u002fextra\\u003e\",\"hovertext\":[\"sioux_falls_south_dakota.png\",\"rapid_city_south_dakota.png\"],\"legendgroup\":\"south dakota\",\"marker\":{\"color\":\"#B6E880\",\"symbol\":\"circle\"},\"mode\":\"markers\",\"name\":\"south dakota\",\"orientation\":\"v\",\"showlegend\":true,\"x\":[5.69772,5.1990223],\"xaxis\":\"x\",\"y\":[8.267794,7.55184],\"yaxis\":\"y\",\"type\":\"scatter\"},{\"hovertemplate\":\"\\u003cb\\u003e%{hovertext}\\u003c\\u002fb\\u003e\\u003cbr\\u003e\\u003cbr\\u003estate=arizona\\u003cbr\\u003ex=%{x}\\u003cbr\\u003ey=%{y}\\u003cextra\\u003e\\u003c\\u002fextra\\u003e\",\"hovertext\":[\"apache_junction_arizona.png\",\"sierra_vista_arizona.png\",\"prescott_arizona.png\",\"surprise_arizona.png\",\"chandler_arizona.png\",\"glendale_arizona.png\",\"maricopa_arizona.png\",\"yuma_arizona.png\",\"buckeye_arizona.png\",\"mesa_arizona.png\",\"prescott_valley_arizona.png\",\"scottsdale_arizona.png\",\"flagstaff_arizona.png\",\"casa_grande_arizona.png\",\"marana_arizona.png\",\"bullhead_city_arizona.png\",\"oro_valley_arizona.png\",\"tucson_arizona.png\",\"tempe_arizona.png\",\"phoenix_arizona.png\",\"avondale_arizona.png\",\"lake_havasu_city_arizona.png\",\"gilbert_arizona.png\",\"goodyear_arizona.png\",\"peoria_arizona.png\"],\"legendgroup\":\"arizona\",\"marker\":{\"color\":\"#FF97FF\",\"symbol\":\"circle\"},\"mode\":\"markers\",\"name\":\"arizona\",\"orientation\":\"v\",\"showlegend\":true,\"x\":[8.135611,7.770489,3.5371437,8.163694,8.297054,6.6711383,8.673008,8.186919,7.043141,7.003248,8.702553,8.82966,8.066473,3.9768653,8.571862,8.709305,3.644178,8.317428,4.011028,3.9612458,2.742805,8.084668,6.9107065,8.110812,8.816684],\"xaxis\":\"x\",\"y\":[7.731248,7.4286585,9.057327,7.211096,7.513809,7.45709,5.1756997,7.499955,7.233136,5.9042034,5.075212,5.307581,7.7543607,9.901165,6.360502,5.135258,8.460586,7.357177,9.979411,5.9187627,11.107151,6.530773,6.707445,7.6014886,5.108904],\"yaxis\":\"y\",\"type\":\"scatter\"},{\"hovertemplate\":\"\\u003cb\\u003e%{hovertext}\\u003c\\u002fb\\u003e\\u003cbr\\u003e\\u003cbr\\u003estate=iowa\\u003cbr\\u003ex=%{x}\\u003cbr\\u003ey=%{y}\\u003cextra\\u003e\\u003c\\u002fextra\\u003e\",\"hovertext\":[\"iowa_city_iowa.png\",\"des_moines_iowa.png\",\"davenport_iowa.png\",\"council_bluffs_iowa.png\",\"ankeny_iowa.png\",\"urbandale_iowa.png\",\"waterloo_iowa.png\",\"dubuque_iowa.png\",\"west_des_moines_iowa.png\",\"cedar_rapids_iowa.png\",\"cedar_falls_iowa.png\",\"sioux_city_iowa.png\",\"ames_iowa.png\"],\"legendgroup\":\"iowa\",\"marker\":{\"color\":\"#FECB52\",\"symbol\":\"circle\"},\"mode\":\"markers\",\"name\":\"iowa\",\"orientation\":\"v\",\"showlegend\":true,\"x\":[6.710013,5.3984294,4.105602,5.3883033,2.682857,2.1937892,4.609349,4.8195076,4.3015447,2.9247158,2.5404513,5.08022,5.7543507],\"xaxis\":\"x\",\"y\":[6.2589536,5.763884,6.6366277,8.26231,11.07306,10.788613,7.932387,8.373451,9.429843,10.617161,11.034035,6.1038465,6.085636],\"yaxis\":\"y\",\"type\":\"scatter\"},{\"hovertemplate\":\"\\u003cb\\u003e%{hovertext}\\u003c\\u002fb\\u003e\\u003cbr\\u003e\\u003cbr\\u003estate=north carolina\\u003cbr\\u003ex=%{x}\\u003cbr\\u003ey=%{y}\\u003cextra\\u003e\\u003c\\u002fextra\\u003e\",\"hovertext\":[\"winston-salem_north_carolina.png\",\"greensboro_north_carolina.png\",\"fayetteville_north_carolina.png\",\"concord_north_carolina.png\",\"greenville_north_carolina.png\",\"burlington_north_carolina.png\",\"charlotte_north_carolina.png\",\"hickory_north_carolina.png\",\"kannapolis_north_carolina.png\",\"gastonia_north_carolina.png\",\"jacksonville_north_carolina.png\",\"durham_north_carolina.png\",\"asheville_north_carolina.png\",\"cary_north_carolina.png\",\"wilmington_north_carolina.png\",\"wilson_north_carolina.png\",\"raleigh_north_carolina.png\",\"huntersville_north_carolina.png\",\"apex_north_carolina.png\",\"high_point_north_carolina.png\",\"chapel_hill_north_carolina.png\",\"rocky_mount_north_carolina.png\"],\"legendgroup\":\"north carolina\",\"marker\":{\"color\":\"#636efa\",\"symbol\":\"circle\"},\"mode\":\"markers\",\"name\":\"north carolina\",\"orientation\":\"v\",\"showlegend\":true,\"x\":[3.1024942,3.0702894,4.2970214,5.445803,3.5734594,3.621395,3.3981016,2.3228357,4.4238076,2.1322045,2.9650257,5.3163533,6.5122147,3.5727394,3.3480952,4.351579,5.7391877,7.5916815,6.0630484,2.7612395,2.8301222,2.136905],\"xaxis\":\"x\",\"y\":[8.278728,8.254995,8.716338,8.032446,9.941888,9.327628,9.64738,10.494335,8.795406,10.86362,9.465894,4.5067034,6.825625,9.226546,8.010965,9.387607,5.484634,8.233467,6.306676,9.429512,11.313958,11.030977],\"yaxis\":\"y\",\"type\":\"scatter\"},{\"hovertemplate\":\"\\u003cb\\u003e%{hovertext}\\u003c\\u002fb\\u003e\\u003cbr\\u003e\\u003cbr\\u003estate=jersey\\u003cbr\\u003ex=%{x}\\u003cbr\\u003ey=%{y}\\u003cextra\\u003e\\u003c\\u002fextra\\u003e\",\"hovertext\":[\"west_new_york_new_jersey.png\",\"paterson_new_jersey.png\",\"vineland_new_jersey.png\",\"passaic_new_jersey.png\",\"atlantic_city_new_jersey.png\",\"kearny_new_jersey.png\",\"trenton_new_jersey.png\",\"clifton_new_jersey.png\",\"sayreville_new_jersey.png\",\"bayonne_new_jersey.png\",\"jersey_city_new_jersey.png\",\"perth_amboy_new_jersey.png\",\"camden_new_jersey.png\",\"union_city_new_jersey.png\",\"linden_new_jersey.png\",\"elizabeth_new_jersey.png\",\"hoboken_new_jersey.png\",\"plainfield_new_jersey.png\",\"new_brunswick_new_jersey.png\",\"hackensack_new_jersey.png\",\"newark_new_jersey.png\",\"east_orange_new_jersey.png\"],\"legendgroup\":\"jersey\",\"marker\":{\"color\":\"#EF553B\",\"symbol\":\"circle\"},\"mode\":\"markers\",\"name\":\"jersey\",\"orientation\":\"v\",\"showlegend\":true,\"x\":[3.751126,4.182694,4.6250386,5.230168,3.108031,3.1644478,6.842446,5.0855713,3.0362918,5.605493,3.6200938,2.6191218,3.2127903,4.7706766,6.013798,3.0973737,2.3422282,5.6805353,3.3365278,6.5463047,3.8331175,3.4044952],\"xaxis\":\"x\",\"y\":[7.792797,7.3412623,6.705483,6.5209684,9.304627,8.485505,6.271626,7.3917785,8.454925,7.5779915,6.831448,10.916829,8.392867,6.2288775,7.601734,8.379226,10.66379,7.3561234,7.73317,7.286099,7.669507,8.192848],\"yaxis\":\"y\",\"type\":\"scatter\"},{\"hovertemplate\":\"\\u003cb\\u003e%{hovertext}\\u003c\\u002fb\\u003e\\u003cbr\\u003e\\u003cbr\\u003estate=nebraska\\u003cbr\\u003ex=%{x}\\u003cbr\\u003ey=%{y}\\u003cextra\\u003e\\u003c\\u002fextra\\u003e\",\"hovertext\":[\"omaha_nebraska.png\",\"grand_island_nebraska.png\",\"lincoln_nebraska.png\",\"bellevue_nebraska.png\"],\"legendgroup\":\"nebraska\",\"marker\":{\"color\":\"#00cc96\",\"symbol\":\"circle\"},\"mode\":\"markers\",\"name\":\"nebraska\",\"orientation\":\"v\",\"showlegend\":true,\"x\":[3.719432,7.447446,5.121593,5.818766],\"xaxis\":\"x\",\"y\":[6.0133963,7.112144,6.471218,8.31148],\"yaxis\":\"y\",\"type\":\"scatter\"},{\"hovertemplate\":\"\\u003cb\\u003e%{hovertext}\\u003c\\u002fb\\u003e\\u003cbr\\u003e\\u003cbr\\u003estate=indiana\\u003cbr\\u003ex=%{x}\\u003cbr\\u003ey=%{y}\\u003cextra\\u003e\\u003c\\u002fextra\\u003e\",\"hovertext\":[\"gary_indiana.png\",\"lafayette_indiana.png\",\"muncie_indiana.png\",\"evansville_indiana.png\",\"jeffersonville_indiana.png\",\"carmel_indiana.png\",\"indianapolis_indiana.png\",\"terre_haute_indiana.png\",\"south_bend_indiana.png\",\"greenwood_indiana.png\",\"bloomington_indiana.png\",\"kokomo_indiana.png\",\"columbus_indiana.png\",\"noblesville_indiana.png\",\"lawrence_indiana.png\",\"hammond_indiana.png\",\"mishawaka_indiana.png\",\"anderson_indiana.png\",\"fishers_indiana.png\",\"elkhart_indiana.png\",\"fort_wayne_indiana.png\"],\"legendgroup\":\"indiana\",\"marker\":{\"color\":\"#ab63fa\",\"symbol\":\"circle\"},\"mode\":\"markers\",\"name\":\"indiana\",\"orientation\":\"v\",\"showlegend\":true,\"x\":[2.5667992,4.490633,3.9966884,3.1078522,4.075647,7.490067,3.8845012,3.5975883,5.650463,5.381172,5.5796757,6.2639165,5.5965214,3.0233092,2.173156,3.7512517,5.9585657,5.812183,7.000293,3.4254866,3.917343],\"xaxis\":\"x\",\"y\":[10.883753,6.502385,6.5459156,9.157255,9.428875,5.3201323,9.859076,6.881932,4.5338244,6.817621,7.438573,4.4516616,4.3429937,9.180012,10.762148,9.626335,5.9956923,6.18165,5.0430374,8.941008,5.959158],\"yaxis\":\"y\",\"type\":\"scatter\"},{\"hovertemplate\":\"\\u003cb\\u003e%{hovertext}\\u003c\\u002fb\\u003e\\u003cbr\\u003e\\u003cbr\\u003estate=kansas\\u003cbr\\u003ex=%{x}\\u003cbr\\u003ey=%{y}\\u003cextra\\u003e\\u003c\\u002fextra\\u003e\",\"hovertext\":[\"lawrence_kansas.png\",\"shawnee_kansas.png\",\"olathe_kansas.png\",\"wichita_kansas.png\",\"lenexa_kansas.png\",\"hutchinson_kansas.png\",\"topeka_kansas.png\",\"manhattan_kansas.png\",\"overland_park_kansas.png\",\"salina_kansas.png\",\"kansas_city_kansas.png\"],\"legendgroup\":\"kansas\",\"marker\":{\"color\":\"#FFA15A\",\"symbol\":\"circle\"},\"mode\":\"markers\",\"name\":\"kansas\",\"orientation\":\"v\",\"showlegend\":true,\"x\":[4.803361,4.6541862,6.6811185,3.9271595,7.4893084,3.970669,4.369239,3.792456,4.0439076,8.770631,4.434654],\"xaxis\":\"x\",\"y\":[6.716318,8.463815,6.255286,5.9946833,6.832572,6.3348627,9.377555,7.323763,7.945121,5.0459857,7.6553087],\"yaxis\":\"y\",\"type\":\"scatter\"},{\"hovertemplate\":\"\\u003cb\\u003e%{hovertext}\\u003c\\u002fb\\u003e\\u003cbr\\u003e\\u003cbr\\u003estate=alabama\\u003cbr\\u003ex=%{x}\\u003cbr\\u003ey=%{y}\\u003cextra\\u003e\\u003c\\u002fextra\\u003e\",\"hovertext\":[\"phenix_city_alabama.png\",\"dothan_alabama.png\",\"huntsville_alabama.png\",\"tuscaloosa_alabama.png\",\"auburn_alabama.png\",\"montgomery_alabama.png\",\"mobile_alabama.png\",\"birmingham_alabama.png\",\"hoover_alabama.png\",\"florence_alabama.png\",\"decatur_alabama.png\",\"madison_alabama.png\"],\"legendgroup\":\"alabama\",\"marker\":{\"color\":\"#19d3f3\",\"symbol\":\"circle\"},\"mode\":\"markers\",\"name\":\"alabama\",\"orientation\":\"v\",\"showlegend\":true,\"x\":[5.7733545,4.578458,3.5585768,2.3884,6.1190104,4.425456,4.403892,3.6859019,4.2028465,5.310524,4.103314,2.8059266],\"xaxis\":\"x\",\"y\":[6.8238673,9.421756,9.688382,10.731219,6.8916926,6.385348,9.316856,9.661025,7.565963,5.4624405,9.5197315,10.822589],\"yaxis\":\"y\",\"type\":\"scatter\"},{\"hovertemplate\":\"\\u003cb\\u003e%{hovertext}\\u003c\\u002fb\\u003e\\u003cbr\\u003e\\u003cbr\\u003estate=new hampshire\\u003cbr\\u003ex=%{x}\\u003cbr\\u003ey=%{y}\\u003cextra\\u003e\\u003c\\u002fextra\\u003e\",\"hovertext\":[\"manchester_new_hampshire.png\",\"concord_new_hampshire.png\",\"nashua_new_hampshire.png\"],\"legendgroup\":\"new hampshire\",\"marker\":{\"color\":\"#FF6692\",\"symbol\":\"circle\"},\"mode\":\"markers\",\"name\":\"new hampshire\",\"orientation\":\"v\",\"showlegend\":true,\"x\":[5.8963833,6.151958,3.223536],\"xaxis\":\"x\",\"y\":[5.5785418,4.678803,10.999864],\"yaxis\":\"y\",\"type\":\"scatter\"},{\"hovertemplate\":\"\\u003cb\\u003e%{hovertext}\\u003c\\u002fb\\u003e\\u003cbr\\u003e\\u003cbr\\u003estate=arkansas\\u003cbr\\u003ex=%{x}\\u003cbr\\u003ey=%{y}\\u003cextra\\u003e\\u003c\\u002fextra\\u003e\",\"hovertext\":[\"conway_arkansas.png\",\"north_little_rock_arkansas.png\",\"springdale_arkansas.png\",\"bentonville_arkansas.png\",\"fayetteville_arkansas.png\",\"rogers_arkansas.png\",\"fort_smith_arkansas.png\",\"jonesboro_arkansas.png\",\"pine_bluff_arkansas.png\",\"little_rock_arkansas.png\"],\"legendgroup\":\"arkansas\",\"marker\":{\"color\":\"#B6E880\",\"symbol\":\"circle\"},\"mode\":\"markers\",\"name\":\"arkansas\",\"orientation\":\"v\",\"showlegend\":true,\"x\":[7.0671964,3.8922489,5.6129518,3.758217,6.666645,4.2746453,4.653759,5.2528358,4.5958853,6.0279245],\"xaxis\":\"x\",\"y\":[6.1833563,7.985176,5.4339633,9.513213,6.097525,7.265687,6.290948,7.7660284,6.7024565,7.5131207],\"yaxis\":\"y\",\"type\":\"scatter\"},{\"hovertemplate\":\"\\u003cb\\u003e%{hovertext}\\u003c\\u002fb\\u003e\\u003cbr\\u003e\\u003cbr\\u003estate=new mexico\\u003cbr\\u003ex=%{x}\\u003cbr\\u003ey=%{y}\\u003cextra\\u003e\\u003c\\u002fextra\\u003e\",\"hovertext\":[\"rio_rancho_new_mexico.png\",\"roswell_new_mexico.png\",\"las_cruces_new_mexico.png\",\"clovis_new_mexico.png\",\"albuquerque_new_mexico.png\",\"farmington_new_mexico.png\",\"santa_fe_new_mexico.png\"],\"legendgroup\":\"new mexico\",\"marker\":{\"color\":\"#FF97FF\",\"symbol\":\"circle\"},\"mode\":\"markers\",\"name\":\"new mexico\",\"orientation\":\"v\",\"showlegend\":true,\"x\":[8.490921,8.096511,4.0016627,5.764005,4.2253046,5.826415,8.289464],\"xaxis\":\"x\",\"y\":[5.6131697,5.534396,5.5817165,6.2610435,7.491394,6.2916956,7.6078596],\"yaxis\":\"y\",\"type\":\"scatter\"},{\"hovertemplate\":\"\\u003cb\\u003e%{hovertext}\\u003c\\u002fb\\u003e\\u003cbr\\u003e\\u003cbr\\u003estate=California\\u003cbr\\u003ex=%{x}\\u003cbr\\u003ey=%{y}\\u003cextra\\u003e\\u003c\\u002fextra\\u003e\",\"hovertext\":[\"ventura_California.png\"],\"legendgroup\":\"California\",\"marker\":{\"color\":\"#FECB52\",\"symbol\":\"circle\"},\"mode\":\"markers\",\"name\":\"California\",\"orientation\":\"v\",\"showlegend\":true,\"x\":[7.3154764],\"xaxis\":\"x\",\"y\":[7.1829915],\"yaxis\":\"y\",\"type\":\"scatter\"},{\"hovertemplate\":\"\\u003cb\\u003e%{hovertext}\\u003c\\u002fb\\u003e\\u003cbr\\u003e\\u003cbr\\u003estate=montana\\u003cbr\\u003ex=%{x}\\u003cbr\\u003ey=%{y}\\u003cextra\\u003e\\u003c\\u002fextra\\u003e\",\"hovertext\":[\"bozeman_montana.png\",\"great_falls_montana.png\",\"billings_montana.png\",\"missoula_montana.png\"],\"legendgroup\":\"montana\",\"marker\":{\"color\":\"#636efa\",\"symbol\":\"circle\"},\"mode\":\"markers\",\"name\":\"montana\",\"orientation\":\"v\",\"showlegend\":true,\"x\":[5.117829,5.8884974,8.764396,6.178904],\"xaxis\":\"x\",\"y\":[6.7813478,8.205964,5.0393257,6.385789],\"yaxis\":\"y\",\"type\":\"scatter\"},{\"hovertemplate\":\"\\u003cb\\u003e%{hovertext}\\u003c\\u002fb\\u003e\\u003cbr\\u003e\\u003cbr\\u003estate=missouri\\u003cbr\\u003ex=%{x}\\u003cbr\\u003ey=%{y}\\u003cextra\\u003e\\u003c\\u002fextra\\u003e\",\"hovertext\":[\"st._peters_missouri.png\",\"o_fallon_missouri.png\",\"blue_springs_missouri.png\",\"lee_s_summit_missouri.png\",\"kansas_city_missouri.png\",\"florissant_missouri.png\",\"chesterfield_missouri.png\",\"jefferson_city_missouri.png\",\"cape_girardeau_missouri.png\",\"joplin_missouri.png\",\"springfield_missouri.png\",\"st._louis_missouri.png\",\"columbia_missouri.png\",\"st._joseph_missouri.png\",\"st._charles_missouri.png\",\"independence_missouri.png\"],\"legendgroup\":\"missouri\",\"marker\":{\"color\":\"#EF553B\",\"symbol\":\"circle\"},\"mode\":\"markers\",\"name\":\"missouri\",\"orientation\":\"v\",\"showlegend\":true,\"x\":[4.6664257,6.0956016,7.8815374,6.545326,5.5254087,4.9396043,4.826315,4.6729245,3.2369864,5.3662915,6.6297374,3.3336546,4.136452,8.421312,5.450796,4.566663],\"xaxis\":\"x\",\"y\":[5.823024,5.875202,6.2753487,5.365717,4.665709,8.593876,8.706052,7.894289,10.4330635,4.856723,6.1848187,10.533309,7.8433185,4.8629103,7.5846653,5.2354345],\"yaxis\":\"y\",\"type\":\"scatter\"},{\"hovertemplate\":\"\\u003cb\\u003e%{hovertext}\\u003c\\u002fb\\u003e\\u003cbr\\u003e\\u003cbr\\u003estate=north dakota\\u003cbr\\u003ex=%{x}\\u003cbr\\u003ey=%{y}\\u003cextra\\u003e\\u003c\\u002fextra\\u003e\",\"hovertext\":[\"fargo_north_dakota.png\",\"grand_forks_north_dakota.png\",\"minot_north_dakota.png\",\"bismarck_north_dakota.png\"],\"legendgroup\":\"north dakota\",\"marker\":{\"color\":\"#00cc96\",\"symbol\":\"circle\"},\"mode\":\"markers\",\"name\":\"north dakota\",\"orientation\":\"v\",\"showlegend\":true,\"x\":[3.669898,6.27551,8.37424,4.8498373],\"xaxis\":\"x\",\"y\":[6.787964,4.8552666,4.6294103,8.753934],\"yaxis\":\"y\",\"type\":\"scatter\"},{\"hovertemplate\":\"\\u003cb\\u003e%{hovertext}\\u003c\\u002fb\\u003e\\u003cbr\\u003e\\u003cbr\\u003estate=columbia\\u003cbr\\u003ex=%{x}\\u003cbr\\u003ey=%{y}\\u003cextra\\u003e\\u003c\\u002fextra\\u003e\",\"hovertext\":[\"washington_district_of_columbia.png\"],\"legendgroup\":\"columbia\",\"marker\":{\"color\":\"#ab63fa\",\"symbol\":\"circle\"},\"mode\":\"markers\",\"name\":\"columbia\",\"orientation\":\"v\",\"showlegend\":true,\"x\":[4.6507163],\"xaxis\":\"x\",\"y\":[7.750778],\"yaxis\":\"y\",\"type\":\"scatter\"},{\"hovertemplate\":\"\\u003cb\\u003e%{hovertext}\\u003c\\u002fb\\u003e\\u003cbr\\u003e\\u003cbr\\u003estate=nevada\\u003cbr\\u003ex=%{x}\\u003cbr\\u003ey=%{y}\\u003cextra\\u003e\\u003c\\u002fextra\\u003e\",\"hovertext\":[\"sparks_nevada.png\",\"north_las_vegas_nevada.png\",\"reno_nevada.png\",\"carson_city_nevada.png\",\"las_vegas_nevada.png\",\"henderson_nevada.png\"],\"legendgroup\":\"nevada\",\"marker\":{\"color\":\"#FFA15A\",\"symbol\":\"circle\"},\"mode\":\"markers\",\"name\":\"nevada\",\"orientation\":\"v\",\"showlegend\":true,\"x\":[4.0129747,3.5623984,3.8192008,5.815874,3.6305065,8.030136],\"xaxis\":\"x\",\"y\":[5.834938,5.92851,6.9961076,6.9498763,6.588041,7.756047],\"yaxis\":\"y\",\"type\":\"scatter\"},{\"hovertemplate\":\"\\u003cb\\u003e%{hovertext}\\u003c\\u002fb\\u003e\\u003cbr\\u003e\\u003cbr\\u003estate=alaska\\u003cbr\\u003ex=%{x}\\u003cbr\\u003ey=%{y}\\u003cextra\\u003e\\u003c\\u002fextra\\u003e\",\"hovertext\":[\"anchorage_alaska.png\"],\"legendgroup\":\"alaska\",\"marker\":{\"color\":\"#19d3f3\",\"symbol\":\"circle\"},\"mode\":\"markers\",\"name\":\"alaska\",\"orientation\":\"v\",\"showlegend\":true,\"x\":[7.4867887],\"xaxis\":\"x\",\"y\":[6.661399],\"yaxis\":\"y\",\"type\":\"scatter\"},{\"hovertemplate\":\"\\u003cb\\u003e%{hovertext}\\u003c\\u002fb\\u003e\\u003cbr\\u003e\\u003cbr\\u003estate=delaware\\u003cbr\\u003ex=%{x}\\u003cbr\\u003ey=%{y}\\u003cextra\\u003e\\u003c\\u002fextra\\u003e\",\"hovertext\":[\"dover_delaware.png\",\"wilmington_delaware.png\"],\"legendgroup\":\"delaware\",\"marker\":{\"color\":\"#FF6692\",\"symbol\":\"circle\"},\"mode\":\"markers\",\"name\":\"delaware\",\"orientation\":\"v\",\"showlegend\":true,\"x\":[2.6882646,2.9960167],\"xaxis\":\"x\",\"y\":[10.945533,9.523835],\"yaxis\":\"y\",\"type\":\"scatter\"},{\"hovertemplate\":\"\\u003cb\\u003e%{hovertext}\\u003c\\u002fb\\u003e\\u003cbr\\u003e\\u003cbr\\u003estate=maine\\u003cbr\\u003ex=%{x}\\u003cbr\\u003ey=%{y}\\u003cextra\\u003e\\u003c\\u002fextra\\u003e\",\"hovertext\":[\"portland_maine.png\"],\"legendgroup\":\"maine\",\"marker\":{\"color\":\"#B6E880\",\"symbol\":\"circle\"},\"mode\":\"markers\",\"name\":\"maine\",\"orientation\":\"v\",\"showlegend\":true,\"x\":[4.2663703],\"xaxis\":\"x\",\"y\":[7.0715117],\"yaxis\":\"y\",\"type\":\"scatter\"},{\"hovertemplate\":\"\\u003cb\\u003e%{hovertext}\\u003c\\u002fb\\u003e\\u003cbr\\u003e\\u003cbr\\u003estate=wyoming\\u003cbr\\u003ex=%{x}\\u003cbr\\u003ey=%{y}\\u003cextra\\u003e\\u003c\\u002fextra\\u003e\",\"hovertext\":[\"cheyenne_wyoming.png\",\"casper_wyoming.png\"],\"legendgroup\":\"wyoming\",\"marker\":{\"color\":\"#FF97FF\",\"symbol\":\"circle\"},\"mode\":\"markers\",\"name\":\"wyoming\",\"orientation\":\"v\",\"showlegend\":true,\"x\":[5.058077,8.303318],\"xaxis\":\"x\",\"y\":[5.549672,7.6830983],\"yaxis\":\"y\",\"type\":\"scatter\"},{\"hovertemplate\":\"\\u003cb\\u003e%{hovertext}\\u003c\\u002fb\\u003e\\u003cbr\\u003e\\u003cbr\\u003estate=vermont\\u003cbr\\u003ex=%{x}\\u003cbr\\u003ey=%{y}\\u003cextra\\u003e\\u003c\\u002fextra\\u003e\",\"hovertext\":[\"burlington_vermont.png\"],\"legendgroup\":\"vermont\",\"marker\":{\"color\":\"#FECB52\",\"symbol\":\"circle\"},\"mode\":\"markers\",\"name\":\"vermont\",\"orientation\":\"v\",\"showlegend\":true,\"x\":[4.2977037],\"xaxis\":\"x\",\"y\":[8.1925955],\"yaxis\":\"y\",\"type\":\"scatter\"},{\"hovertemplate\":\"\\u003cb\\u003e%{hovertext}\\u003c\\u002fb\\u003e\\u003cbr\\u003e\\u003cbr\\u003estate=hawaii\\u003cbr\\u003ex=%{x}\\u003cbr\\u003ey=%{y}\\u003cextra\\u003e\\u003c\\u002fextra\\u003e\",\"hovertext\":[\"honolulu_hawaii.png\"],\"legendgroup\":\"hawaii\",\"marker\":{\"color\":\"#636efa\",\"symbol\":\"circle\"},\"mode\":\"markers\",\"name\":\"hawaii\",\"orientation\":\"v\",\"showlegend\":true,\"x\":[3.7774456],\"xaxis\":\"x\",\"y\":[8.560048],\"yaxis\":\"y\",\"type\":\"scatter\"}],                        {\"template\":{\"data\":{\"histogram2dcontour\":[{\"type\":\"histogram2dcontour\",\"colorbar\":{\"outlinewidth\":0,\"ticks\":\"\"},\"colorscale\":[[0.0,\"#0d0887\"],[0.1111111111111111,\"#46039f\"],[0.2222222222222222,\"#7201a8\"],[0.3333333333333333,\"#9c179e\"],[0.4444444444444444,\"#bd3786\"],[0.5555555555555556,\"#d8576b\"],[0.6666666666666666,\"#ed7953\"],[0.7777777777777778,\"#fb9f3a\"],[0.8888888888888888,\"#fdca26\"],[1.0,\"#f0f921\"]]}],\"choropleth\":[{\"type\":\"choropleth\",\"colorbar\":{\"outlinewidth\":0,\"ticks\":\"\"}}],\"histogram2d\":[{\"type\":\"histogram2d\",\"colorbar\":{\"outlinewidth\":0,\"ticks\":\"\"},\"colorscale\":[[0.0,\"#0d0887\"],[0.1111111111111111,\"#46039f\"],[0.2222222222222222,\"#7201a8\"],[0.3333333333333333,\"#9c179e\"],[0.4444444444444444,\"#bd3786\"],[0.5555555555555556,\"#d8576b\"],[0.6666666666666666,\"#ed7953\"],[0.7777777777777778,\"#fb9f3a\"],[0.8888888888888888,\"#fdca26\"],[1.0,\"#f0f921\"]]}],\"heatmap\":[{\"type\":\"heatmap\",\"colorbar\":{\"outlinewidth\":0,\"ticks\":\"\"},\"colorscale\":[[0.0,\"#0d0887\"],[0.1111111111111111,\"#46039f\"],[0.2222222222222222,\"#7201a8\"],[0.3333333333333333,\"#9c179e\"],[0.4444444444444444,\"#bd3786\"],[0.5555555555555556,\"#d8576b\"],[0.6666666666666666,\"#ed7953\"],[0.7777777777777778,\"#fb9f3a\"],[0.8888888888888888,\"#fdca26\"],[1.0,\"#f0f921\"]]}],\"heatmapgl\":[{\"type\":\"heatmapgl\",\"colorbar\":{\"outlinewidth\":0,\"ticks\":\"\"},\"colorscale\":[[0.0,\"#0d0887\"],[0.1111111111111111,\"#46039f\"],[0.2222222222222222,\"#7201a8\"],[0.3333333333333333,\"#9c179e\"],[0.4444444444444444,\"#bd3786\"],[0.5555555555555556,\"#d8576b\"],[0.6666666666666666,\"#ed7953\"],[0.7777777777777778,\"#fb9f3a\"],[0.8888888888888888,\"#fdca26\"],[1.0,\"#f0f921\"]]}],\"contourcarpet\":[{\"type\":\"contourcarpet\",\"colorbar\":{\"outlinewidth\":0,\"ticks\":\"\"}}],\"contour\":[{\"type\":\"contour\",\"colorbar\":{\"outlinewidth\":0,\"ticks\":\"\"},\"colorscale\":[[0.0,\"#0d0887\"],[0.1111111111111111,\"#46039f\"],[0.2222222222222222,\"#7201a8\"],[0.3333333333333333,\"#9c179e\"],[0.4444444444444444,\"#bd3786\"],[0.5555555555555556,\"#d8576b\"],[0.6666666666666666,\"#ed7953\"],[0.7777777777777778,\"#fb9f3a\"],[0.8888888888888888,\"#fdca26\"],[1.0,\"#f0f921\"]]}],\"surface\":[{\"type\":\"surface\",\"colorbar\":{\"outlinewidth\":0,\"ticks\":\"\"},\"colorscale\":[[0.0,\"#0d0887\"],[0.1111111111111111,\"#46039f\"],[0.2222222222222222,\"#7201a8\"],[0.3333333333333333,\"#9c179e\"],[0.4444444444444444,\"#bd3786\"],[0.5555555555555556,\"#d8576b\"],[0.6666666666666666,\"#ed7953\"],[0.7777777777777778,\"#fb9f3a\"],[0.8888888888888888,\"#fdca26\"],[1.0,\"#f0f921\"]]}],\"mesh3d\":[{\"type\":\"mesh3d\",\"colorbar\":{\"outlinewidth\":0,\"ticks\":\"\"}}],\"scatter\":[{\"fillpattern\":{\"fillmode\":\"overlay\",\"size\":10,\"solidity\":0.2},\"type\":\"scatter\"}],\"parcoords\":[{\"type\":\"parcoords\",\"line\":{\"colorbar\":{\"outlinewidth\":0,\"ticks\":\"\"}}}],\"scatterpolargl\":[{\"type\":\"scatterpolargl\",\"marker\":{\"colorbar\":{\"outlinewidth\":0,\"ticks\":\"\"}}}],\"bar\":[{\"error_x\":{\"color\":\"#2a3f5f\"},\"error_y\":{\"color\":\"#2a3f5f\"},\"marker\":{\"line\":{\"color\":\"#E5ECF6\",\"width\":0.5},\"pattern\":{\"fillmode\":\"overlay\",\"size\":10,\"solidity\":0.2}},\"type\":\"bar\"}],\"scattergeo\":[{\"type\":\"scattergeo\",\"marker\":{\"colorbar\":{\"outlinewidth\":0,\"ticks\":\"\"}}}],\"scatterpolar\":[{\"type\":\"scatterpolar\",\"marker\":{\"colorbar\":{\"outlinewidth\":0,\"ticks\":\"\"}}}],\"histogram\":[{\"marker\":{\"pattern\":{\"fillmode\":\"overlay\",\"size\":10,\"solidity\":0.2}},\"type\":\"histogram\"}],\"scattergl\":[{\"type\":\"scattergl\",\"marker\":{\"colorbar\":{\"outlinewidth\":0,\"ticks\":\"\"}}}],\"scatter3d\":[{\"type\":\"scatter3d\",\"line\":{\"colorbar\":{\"outlinewidth\":0,\"ticks\":\"\"}},\"marker\":{\"colorbar\":{\"outlinewidth\":0,\"ticks\":\"\"}}}],\"scattermapbox\":[{\"type\":\"scattermapbox\",\"marker\":{\"colorbar\":{\"outlinewidth\":0,\"ticks\":\"\"}}}],\"scatterternary\":[{\"type\":\"scatterternary\",\"marker\":{\"colorbar\":{\"outlinewidth\":0,\"ticks\":\"\"}}}],\"scattercarpet\":[{\"type\":\"scattercarpet\",\"marker\":{\"colorbar\":{\"outlinewidth\":0,\"ticks\":\"\"}}}],\"carpet\":[{\"aaxis\":{\"endlinecolor\":\"#2a3f5f\",\"gridcolor\":\"white\",\"linecolor\":\"white\",\"minorgridcolor\":\"white\",\"startlinecolor\":\"#2a3f5f\"},\"baxis\":{\"endlinecolor\":\"#2a3f5f\",\"gridcolor\":\"white\",\"linecolor\":\"white\",\"minorgridcolor\":\"white\",\"startlinecolor\":\"#2a3f5f\"},\"type\":\"carpet\"}],\"table\":[{\"cells\":{\"fill\":{\"color\":\"#EBF0F8\"},\"line\":{\"color\":\"white\"}},\"header\":{\"fill\":{\"color\":\"#C8D4E3\"},\"line\":{\"color\":\"white\"}},\"type\":\"table\"}],\"barpolar\":[{\"marker\":{\"line\":{\"color\":\"#E5ECF6\",\"width\":0.5},\"pattern\":{\"fillmode\":\"overlay\",\"size\":10,\"solidity\":0.2}},\"type\":\"barpolar\"}],\"pie\":[{\"automargin\":true,\"type\":\"pie\"}]},\"layout\":{\"autotypenumbers\":\"strict\",\"colorway\":[\"#636efa\",\"#EF553B\",\"#00cc96\",\"#ab63fa\",\"#FFA15A\",\"#19d3f3\",\"#FF6692\",\"#B6E880\",\"#FF97FF\",\"#FECB52\"],\"font\":{\"color\":\"#2a3f5f\"},\"hovermode\":\"closest\",\"hoverlabel\":{\"align\":\"left\"},\"paper_bgcolor\":\"white\",\"plot_bgcolor\":\"#E5ECF6\",\"polar\":{\"bgcolor\":\"#E5ECF6\",\"angularaxis\":{\"gridcolor\":\"white\",\"linecolor\":\"white\",\"ticks\":\"\"},\"radialaxis\":{\"gridcolor\":\"white\",\"linecolor\":\"white\",\"ticks\":\"\"}},\"ternary\":{\"bgcolor\":\"#E5ECF6\",\"aaxis\":{\"gridcolor\":\"white\",\"linecolor\":\"white\",\"ticks\":\"\"},\"baxis\":{\"gridcolor\":\"white\",\"linecolor\":\"white\",\"ticks\":\"\"},\"caxis\":{\"gridcolor\":\"white\",\"linecolor\":\"white\",\"ticks\":\"\"}},\"coloraxis\":{\"colorbar\":{\"outlinewidth\":0,\"ticks\":\"\"}},\"colorscale\":{\"sequential\":[[0.0,\"#0d0887\"],[0.1111111111111111,\"#46039f\"],[0.2222222222222222,\"#7201a8\"],[0.3333333333333333,\"#9c179e\"],[0.4444444444444444,\"#bd3786\"],[0.5555555555555556,\"#d8576b\"],[0.6666666666666666,\"#ed7953\"],[0.7777777777777778,\"#fb9f3a\"],[0.8888888888888888,\"#fdca26\"],[1.0,\"#f0f921\"]],\"sequentialminus\":[[0.0,\"#0d0887\"],[0.1111111111111111,\"#46039f\"],[0.2222222222222222,\"#7201a8\"],[0.3333333333333333,\"#9c179e\"],[0.4444444444444444,\"#bd3786\"],[0.5555555555555556,\"#d8576b\"],[0.6666666666666666,\"#ed7953\"],[0.7777777777777778,\"#fb9f3a\"],[0.8888888888888888,\"#fdca26\"],[1.0,\"#f0f921\"]],\"diverging\":[[0,\"#8e0152\"],[0.1,\"#c51b7d\"],[0.2,\"#de77ae\"],[0.3,\"#f1b6da\"],[0.4,\"#fde0ef\"],[0.5,\"#f7f7f7\"],[0.6,\"#e6f5d0\"],[0.7,\"#b8e186\"],[0.8,\"#7fbc41\"],[0.9,\"#4d9221\"],[1,\"#276419\"]]},\"xaxis\":{\"gridcolor\":\"white\",\"linecolor\":\"white\",\"ticks\":\"\",\"title\":{\"standoff\":15},\"zerolinecolor\":\"white\",\"automargin\":true,\"zerolinewidth\":2},\"yaxis\":{\"gridcolor\":\"white\",\"linecolor\":\"white\",\"ticks\":\"\",\"title\":{\"standoff\":15},\"zerolinecolor\":\"white\",\"automargin\":true,\"zerolinewidth\":2},\"scene\":{\"xaxis\":{\"backgroundcolor\":\"#E5ECF6\",\"gridcolor\":\"white\",\"linecolor\":\"white\",\"showbackground\":true,\"ticks\":\"\",\"zerolinecolor\":\"white\",\"gridwidth\":2},\"yaxis\":{\"backgroundcolor\":\"#E5ECF6\",\"gridcolor\":\"white\",\"linecolor\":\"white\",\"showbackground\":true,\"ticks\":\"\",\"zerolinecolor\":\"white\",\"gridwidth\":2},\"zaxis\":{\"backgroundcolor\":\"#E5ECF6\",\"gridcolor\":\"white\",\"linecolor\":\"white\",\"showbackground\":true,\"ticks\":\"\",\"zerolinecolor\":\"white\",\"gridwidth\":2}},\"shapedefaults\":{\"line\":{\"color\":\"#2a3f5f\"}},\"annotationdefaults\":{\"arrowcolor\":\"#2a3f5f\",\"arrowhead\":0,\"arrowwidth\":1},\"geo\":{\"bgcolor\":\"white\",\"landcolor\":\"#E5ECF6\",\"subunitcolor\":\"white\",\"showland\":true,\"showlakes\":true,\"lakecolor\":\"white\"},\"title\":{\"x\":0.05},\"mapbox\":{\"style\":\"light\"}}},\"xaxis\":{\"anchor\":\"y\",\"domain\":[0.0,1.0],\"title\":{\"text\":\"x\"}},\"yaxis\":{\"anchor\":\"x\",\"domain\":[0.0,1.0],\"title\":{\"text\":\"y\"}},\"legend\":{\"title\":{\"text\":\"state\"},\"tracegroupgap\":0},\"margin\":{\"t\":60},\"height\":900},                        {\"responsive\": true}                    ).then(function(){\n",
       "                            \n",
       "var gd = document.getElementById('feece75d-1c4f-4724-82e2-f0e5c15ccee2');\n",
       "var x = new MutationObserver(function (mutations, observer) {{\n",
       "        var display = window.getComputedStyle(gd).display;\n",
       "        if (!display || display === 'none') {{\n",
       "            console.log([gd, 'removed!']);\n",
       "            Plotly.purge(gd);\n",
       "            observer.disconnect();\n",
       "        }}\n",
       "}});\n",
       "\n",
       "// Listen for the removal of the full notebook cells\n",
       "var notebookContainer = gd.closest('#notebook-container');\n",
       "if (notebookContainer) {{\n",
       "    x.observe(notebookContainer, {childList: true});\n",
       "}}\n",
       "\n",
       "// Listen for the clearing of the current output cell\n",
       "var outputEl = gd.closest('.output');\n",
       "if (outputEl) {{\n",
       "    x.observe(outputEl, {childList: true});\n",
       "}}\n",
       "\n",
       "                        })                };                });            </script>        </div>"
      ]
     },
     "metadata": {},
     "output_type": "display_data"
    }
   ],
   "source": [
    "# now we have some embeddings; let's see how they cluster\n",
    "from plotly import express\n",
    "from arrow import now\n",
    "from umap import UMAP\n",
    "\n",
    "time_start = now()\n",
    "umap = UMAP(random_state=2024, verbose=True, n_jobs=1, low_memory=False, n_epochs=1000)\n",
    "df[['x', 'y']] = umap.fit_transform(X=df['value'].apply(pd.Series))\n",
    "print('done with UMAP in {}'.format(now() - time_start))\n",
    "express.scatter(data_frame=df, x='x', y='y', hover_name='name', color='state', height=900).show()"
   ]
  },
  {
   "cell_type": "code",
   "execution_count": 6,
   "id": "e567abf5",
   "metadata": {
    "execution": {
     "iopub.execute_input": "2024-03-11T17:27:55.363544Z",
     "iopub.status.busy": "2024-03-11T17:27:55.363113Z",
     "iopub.status.idle": "2024-03-11T17:28:11.317371Z",
     "shell.execute_reply": "2024-03-11T17:28:11.315794Z"
    },
    "papermill": {
     "duration": 15.966412,
     "end_time": "2024-03-11T17:28:11.320471",
     "exception": false,
     "start_time": "2024-03-11T17:27:55.354059",
     "status": "completed"
    },
    "tags": []
   },
   "outputs": [
    {
     "name": "stderr",
     "output_type": "stream",
     "text": [
      "/opt/conda/lib/python3.10/pty.py:89: RuntimeWarning:\n",
      "\n",
      "os.fork() was called. os.fork() is incompatible with multithreaded code, and JAX is multithreaded, so this will likely lead to a deadlock.\n",
      "\n"
     ]
    },
    {
     "name": "stdout",
     "output_type": "stream",
     "text": [
      "Collecting geocoder\r\n",
      "  Downloading geocoder-1.38.1-py2.py3-none-any.whl.metadata (14 kB)\r\n",
      "Requirement already satisfied: click in /opt/conda/lib/python3.10/site-packages (from geocoder) (8.1.7)\r\n",
      "Requirement already satisfied: future in /opt/conda/lib/python3.10/site-packages (from geocoder) (1.0.0)\r\n",
      "Collecting ratelim (from geocoder)\r\n",
      "  Downloading ratelim-0.1.6-py2.py3-none-any.whl.metadata (1.4 kB)\r\n",
      "Requirement already satisfied: requests in /opt/conda/lib/python3.10/site-packages (from geocoder) (2.31.0)\r\n",
      "Requirement already satisfied: six in /opt/conda/lib/python3.10/site-packages (from geocoder) (1.16.0)\r\n",
      "Requirement already satisfied: decorator in /opt/conda/lib/python3.10/site-packages (from ratelim->geocoder) (5.1.1)\r\n",
      "Requirement already satisfied: charset-normalizer<4,>=2 in /opt/conda/lib/python3.10/site-packages (from requests->geocoder) (3.3.2)\r\n",
      "Requirement already satisfied: idna<4,>=2.5 in /opt/conda/lib/python3.10/site-packages (from requests->geocoder) (3.6)\r\n",
      "Requirement already satisfied: urllib3<3,>=1.21.1 in /opt/conda/lib/python3.10/site-packages (from requests->geocoder) (1.26.18)\r\n",
      "Requirement already satisfied: certifi>=2017.4.17 in /opt/conda/lib/python3.10/site-packages (from requests->geocoder) (2024.2.2)\r\n",
      "Downloading geocoder-1.38.1-py2.py3-none-any.whl (98 kB)\r\n",
      "\u001b[2K   \u001b[90m━━━━━━━━━━━━━━━━━━━━━━━━━━━━━━━━━━━━━━━━\u001b[0m \u001b[32m98.6/98.6 kB\u001b[0m \u001b[31m2.3 MB/s\u001b[0m eta \u001b[36m0:00:00\u001b[0m\r\n",
      "\u001b[?25hDownloading ratelim-0.1.6-py2.py3-none-any.whl (4.0 kB)\r\n",
      "Installing collected packages: ratelim, geocoder\r\n",
      "Successfully installed geocoder-1.38.1 ratelim-0.1.6\r\n"
     ]
    }
   ],
   "source": [
    "!pip install geocoder"
   ]
  },
  {
   "cell_type": "code",
   "execution_count": 7,
   "id": "300635ce",
   "metadata": {
    "execution": {
     "iopub.execute_input": "2024-03-11T17:28:11.339936Z",
     "iopub.status.busy": "2024-03-11T17:28:11.339494Z",
     "iopub.status.idle": "2024-03-11T17:28:15.570269Z",
     "shell.execute_reply": "2024-03-11T17:28:15.569220Z"
    },
    "papermill": {
     "duration": 4.244791,
     "end_time": "2024-03-11T17:28:15.573836",
     "exception": false,
     "start_time": "2024-03-11T17:28:11.329045",
     "status": "completed"
    },
    "tags": []
   },
   "outputs": [
    {
     "name": "stdout",
     "output_type": "stream",
     "text": [
      "highland california [34.12126000000006, -117.21713999999997]\n",
      "new britain connecticut [41.66772000000003, -72.78214999999994]\n",
      "pembroke pines florida [26.008110000000045, -80.28010999999998]\n",
      "lacey washington [47.04437000000007, -122.82323999999994]\n",
      "danville california [37.83202000000006, -122.00539999999995]\n"
     ]
    }
   ],
   "source": [
    "\n",
    "from geocoder import arcgis\n",
    "\n",
    "for index, row in df.head(n=5).iterrows():\n",
    "    name = ' '.join(row['name'].replace('.png', '').split('_'))\n",
    "    print('{} {}'.format(name, arcgis(name).latlng))"
   ]
  }
 ],
 "metadata": {
  "kaggle": {
   "accelerator": "none",
   "dataSources": [
    {
     "datasetId": 4574538,
     "sourceId": 7810386,
     "sourceType": "datasetVersion"
    }
   ],
   "dockerImageVersionId": 30664,
   "isGpuEnabled": false,
   "isInternetEnabled": true,
   "language": "python",
   "sourceType": "notebook"
  },
  "kernelspec": {
   "display_name": "Python 3",
   "language": "python",
   "name": "python3"
  },
  "language_info": {
   "codemirror_mode": {
    "name": "ipython",
    "version": 3
   },
   "file_extension": ".py",
   "mimetype": "text/x-python",
   "name": "python",
   "nbconvert_exporter": "python",
   "pygments_lexer": "ipython3",
   "version": "3.10.13"
  },
  "papermill": {
   "default_parameters": {},
   "duration": 239.295168,
   "end_time": "2024-03-11T17:28:18.841664",
   "environment_variables": {},
   "exception": null,
   "input_path": "__notebook__.ipynb",
   "output_path": "__notebook__.ipynb",
   "parameters": {},
   "start_time": "2024-03-11T17:24:19.546496",
   "version": "2.5.0"
  },
  "widgets": {
   "application/vnd.jupyter.widget-state+json": {
    "state": {
     "07d55bd3125742ca8deaf5b43eafeea1": {
      "model_module": "@jupyter-widgets/controls",
      "model_module_version": "1.5.0",
      "model_name": "DescriptionStyleModel",
      "state": {
       "_model_module": "@jupyter-widgets/controls",
       "_model_module_version": "1.5.0",
       "_model_name": "DescriptionStyleModel",
       "_view_count": null,
       "_view_module": "@jupyter-widgets/base",
       "_view_module_version": "1.2.0",
       "_view_name": "StyleView",
       "description_width": ""
      }
     },
     "3045eb055be34ef39ef46eb09159a969": {
      "model_module": "@jupyter-widgets/base",
      "model_module_version": "1.2.0",
      "model_name": "LayoutModel",
      "state": {
       "_model_module": "@jupyter-widgets/base",
       "_model_module_version": "1.2.0",
       "_model_name": "LayoutModel",
       "_view_count": null,
       "_view_module": "@jupyter-widgets/base",
       "_view_module_version": "1.2.0",
       "_view_name": "LayoutView",
       "align_content": null,
       "align_items": null,
       "align_self": null,
       "border": null,
       "bottom": null,
       "display": null,
       "flex": null,
       "flex_flow": null,
       "grid_area": null,
       "grid_auto_columns": null,
       "grid_auto_flow": null,
       "grid_auto_rows": null,
       "grid_column": null,
       "grid_gap": null,
       "grid_row": null,
       "grid_template_areas": null,
       "grid_template_columns": null,
       "grid_template_rows": null,
       "height": null,
       "justify_content": null,
       "justify_items": null,
       "left": null,
       "margin": null,
       "max_height": null,
       "max_width": null,
       "min_height": null,
       "min_width": null,
       "object_fit": null,
       "object_position": null,
       "order": null,
       "overflow": null,
       "overflow_x": null,
       "overflow_y": null,
       "padding": null,
       "right": null,
       "top": null,
       "visibility": null,
       "width": null
      }
     },
     "36db32ab87fe4959ac897597c9918c2e": {
      "model_module": "@jupyter-widgets/controls",
      "model_module_version": "1.5.0",
      "model_name": "HTMLModel",
      "state": {
       "_dom_classes": [],
       "_model_module": "@jupyter-widgets/controls",
       "_model_module_version": "1.5.0",
       "_model_name": "HTMLModel",
       "_view_count": null,
       "_view_module": "@jupyter-widgets/controls",
       "_view_module_version": "1.5.0",
       "_view_name": "HTMLView",
       "description": "",
       "description_tooltip": null,
       "layout": "IPY_MODEL_38c4f455737b4c19a49464e9700ec75e",
       "placeholder": "​",
       "style": "IPY_MODEL_07d55bd3125742ca8deaf5b43eafeea1",
       "value": " 1000/1000 [00:05]"
      }
     },
     "38c4f455737b4c19a49464e9700ec75e": {
      "model_module": "@jupyter-widgets/base",
      "model_module_version": "1.2.0",
      "model_name": "LayoutModel",
      "state": {
       "_model_module": "@jupyter-widgets/base",
       "_model_module_version": "1.2.0",
       "_model_name": "LayoutModel",
       "_view_count": null,
       "_view_module": "@jupyter-widgets/base",
       "_view_module_version": "1.2.0",
       "_view_name": "LayoutView",
       "align_content": null,
       "align_items": null,
       "align_self": null,
       "border": null,
       "bottom": null,
       "display": null,
       "flex": null,
       "flex_flow": null,
       "grid_area": null,
       "grid_auto_columns": null,
       "grid_auto_flow": null,
       "grid_auto_rows": null,
       "grid_column": null,
       "grid_gap": null,
       "grid_row": null,
       "grid_template_areas": null,
       "grid_template_columns": null,
       "grid_template_rows": null,
       "height": null,
       "justify_content": null,
       "justify_items": null,
       "left": null,
       "margin": null,
       "max_height": null,
       "max_width": null,
       "min_height": null,
       "min_width": null,
       "object_fit": null,
       "object_position": null,
       "order": null,
       "overflow": null,
       "overflow_x": null,
       "overflow_y": null,
       "padding": null,
       "right": null,
       "top": null,
       "visibility": null,
       "width": null
      }
     },
     "3ccf7ef757c145c3a9edb885a1b65572": {
      "model_module": "@jupyter-widgets/controls",
      "model_module_version": "1.5.0",
      "model_name": "ProgressStyleModel",
      "state": {
       "_model_module": "@jupyter-widgets/controls",
       "_model_module_version": "1.5.0",
       "_model_name": "ProgressStyleModel",
       "_view_count": null,
       "_view_module": "@jupyter-widgets/base",
       "_view_module_version": "1.2.0",
       "_view_name": "StyleView",
       "bar_color": null,
       "description_width": ""
      }
     },
     "4308390dc1a6459b8cfb7fb44dea598e": {
      "model_module": "@jupyter-widgets/base",
      "model_module_version": "1.2.0",
      "model_name": "LayoutModel",
      "state": {
       "_model_module": "@jupyter-widgets/base",
       "_model_module_version": "1.2.0",
       "_model_name": "LayoutModel",
       "_view_count": null,
       "_view_module": "@jupyter-widgets/base",
       "_view_module_version": "1.2.0",
       "_view_name": "LayoutView",
       "align_content": null,
       "align_items": null,
       "align_self": null,
       "border": null,
       "bottom": null,
       "display": null,
       "flex": null,
       "flex_flow": null,
       "grid_area": null,
       "grid_auto_columns": null,
       "grid_auto_flow": null,
       "grid_auto_rows": null,
       "grid_column": null,
       "grid_gap": null,
       "grid_row": null,
       "grid_template_areas": null,
       "grid_template_columns": null,
       "grid_template_rows": null,
       "height": null,
       "justify_content": null,
       "justify_items": null,
       "left": null,
       "margin": null,
       "max_height": null,
       "max_width": null,
       "min_height": null,
       "min_width": null,
       "object_fit": null,
       "object_position": null,
       "order": null,
       "overflow": null,
       "overflow_x": null,
       "overflow_y": null,
       "padding": null,
       "right": null,
       "top": null,
       "visibility": null,
       "width": null
      }
     },
     "6d56213975b34f87b9657c5c3dc37706": {
      "model_module": "@jupyter-widgets/controls",
      "model_module_version": "1.5.0",
      "model_name": "FloatProgressModel",
      "state": {
       "_dom_classes": [],
       "_model_module": "@jupyter-widgets/controls",
       "_model_module_version": "1.5.0",
       "_model_name": "FloatProgressModel",
       "_view_count": null,
       "_view_module": "@jupyter-widgets/controls",
       "_view_module_version": "1.5.0",
       "_view_name": "ProgressView",
       "bar_style": "success",
       "description": "",
       "description_tooltip": null,
       "layout": "IPY_MODEL_a749f23c59ff4496bd9cfe97a3c744f0",
       "max": 1000.0,
       "min": 0.0,
       "orientation": "horizontal",
       "style": "IPY_MODEL_3ccf7ef757c145c3a9edb885a1b65572",
       "value": 1000.0
      }
     },
     "70766ace570c427bb8058eace68922aa": {
      "model_module": "@jupyter-widgets/controls",
      "model_module_version": "1.5.0",
      "model_name": "DescriptionStyleModel",
      "state": {
       "_model_module": "@jupyter-widgets/controls",
       "_model_module_version": "1.5.0",
       "_model_name": "DescriptionStyleModel",
       "_view_count": null,
       "_view_module": "@jupyter-widgets/base",
       "_view_module_version": "1.2.0",
       "_view_name": "StyleView",
       "description_width": ""
      }
     },
     "9e93d3d61b4c4666b1b5b279dbfdb5cd": {
      "model_module": "@jupyter-widgets/controls",
      "model_module_version": "1.5.0",
      "model_name": "HBoxModel",
      "state": {
       "_dom_classes": [],
       "_model_module": "@jupyter-widgets/controls",
       "_model_module_version": "1.5.0",
       "_model_name": "HBoxModel",
       "_view_count": null,
       "_view_module": "@jupyter-widgets/controls",
       "_view_module_version": "1.5.0",
       "_view_name": "HBoxView",
       "box_style": "",
       "children": [
        "IPY_MODEL_b400d6f7ac4b4f79a84fcc3c2b8ee8ce",
        "IPY_MODEL_6d56213975b34f87b9657c5c3dc37706",
        "IPY_MODEL_36db32ab87fe4959ac897597c9918c2e"
       ],
       "layout": "IPY_MODEL_4308390dc1a6459b8cfb7fb44dea598e"
      }
     },
     "a749f23c59ff4496bd9cfe97a3c744f0": {
      "model_module": "@jupyter-widgets/base",
      "model_module_version": "1.2.0",
      "model_name": "LayoutModel",
      "state": {
       "_model_module": "@jupyter-widgets/base",
       "_model_module_version": "1.2.0",
       "_model_name": "LayoutModel",
       "_view_count": null,
       "_view_module": "@jupyter-widgets/base",
       "_view_module_version": "1.2.0",
       "_view_name": "LayoutView",
       "align_content": null,
       "align_items": null,
       "align_self": null,
       "border": null,
       "bottom": null,
       "display": null,
       "flex": null,
       "flex_flow": null,
       "grid_area": null,
       "grid_auto_columns": null,
       "grid_auto_flow": null,
       "grid_auto_rows": null,
       "grid_column": null,
       "grid_gap": null,
       "grid_row": null,
       "grid_template_areas": null,
       "grid_template_columns": null,
       "grid_template_rows": null,
       "height": null,
       "justify_content": null,
       "justify_items": null,
       "left": null,
       "margin": null,
       "max_height": null,
       "max_width": null,
       "min_height": null,
       "min_width": null,
       "object_fit": null,
       "object_position": null,
       "order": null,
       "overflow": null,
       "overflow_x": null,
       "overflow_y": null,
       "padding": null,
       "right": null,
       "top": null,
       "visibility": null,
       "width": null
      }
     },
     "b400d6f7ac4b4f79a84fcc3c2b8ee8ce": {
      "model_module": "@jupyter-widgets/controls",
      "model_module_version": "1.5.0",
      "model_name": "HTMLModel",
      "state": {
       "_dom_classes": [],
       "_model_module": "@jupyter-widgets/controls",
       "_model_module_version": "1.5.0",
       "_model_name": "HTMLModel",
       "_view_count": null,
       "_view_module": "@jupyter-widgets/controls",
       "_view_module_version": "1.5.0",
       "_view_name": "HTMLView",
       "description": "",
       "description_tooltip": null,
       "layout": "IPY_MODEL_3045eb055be34ef39ef46eb09159a969",
       "placeholder": "​",
       "style": "IPY_MODEL_70766ace570c427bb8058eace68922aa",
       "value": "Epochs completed: 100%| "
      }
     }
    },
    "version_major": 2,
    "version_minor": 0
   }
  }
 },
 "nbformat": 4,
 "nbformat_minor": 5
}
