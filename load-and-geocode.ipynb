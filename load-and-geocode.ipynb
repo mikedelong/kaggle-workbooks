{
 "cells": [
  {
   "cell_type": "code",
   "execution_count": 1,
   "id": "346e1dd5",
   "metadata": {
    "execution": {
     "iopub.execute_input": "2024-03-13T17:52:36.845399Z",
     "iopub.status.busy": "2024-03-13T17:52:36.844714Z",
     "iopub.status.idle": "2024-03-13T17:53:09.092617Z",
     "shell.execute_reply": "2024-03-13T17:53:09.091164Z"
    },
    "papermill": {
     "duration": 32.257324,
     "end_time": "2024-03-13T17:53:09.096921",
     "exception": false,
     "start_time": "2024-03-13T17:52:36.839597",
     "status": "completed"
    },
    "tags": []
   },
   "outputs": [
    {
     "name": "stdout",
     "output_type": "stream",
     "text": [
      "pip install geocoder & img2vec complete.\n"
     ]
    }
   ],
   "source": [
    "!pip install --quiet geocoder\n",
    "!pip install --quiet img2vec_pytorch\n",
    "print('pip install geocoder & img2vec complete.')"
   ]
  },
  {
   "cell_type": "code",
   "execution_count": 2,
   "id": "a369b282",
   "metadata": {
    "execution": {
     "iopub.execute_input": "2024-03-13T17:53:09.105064Z",
     "iopub.status.busy": "2024-03-13T17:53:09.104644Z",
     "iopub.status.idle": "2024-03-13T18:03:21.414702Z",
     "shell.execute_reply": "2024-03-13T18:03:21.413199Z"
    },
    "papermill": {
     "duration": 612.320203,
     "end_time": "2024-03-13T18:03:21.420316",
     "exception": false,
     "start_time": "2024-03-13T17:53:09.100113",
     "status": "completed"
    },
    "tags": []
   },
   "outputs": [
    {
     "name": "stderr",
     "output_type": "stream",
     "text": [
      "/opt/conda/lib/python3.10/site-packages/torchvision/models/_utils.py:208: UserWarning: The parameter 'pretrained' is deprecated since 0.13 and may be removed in the future, please use 'weights' instead.\n",
      "  warnings.warn(\n",
      "/opt/conda/lib/python3.10/site-packages/torchvision/models/_utils.py:223: UserWarning: Arguments other than a weight enum or `None` for 'weights' are deprecated since 0.13 and may be removed in the future. The current behavior is equivalent to passing `weights=ResNet18_Weights.IMAGENET1K_V1`. You can also use `weights=ResNet18_Weights.DEFAULT` to get the most up-to-date weights.\n",
      "  warnings.warn(msg)\n",
      "Downloading: \"https://download.pytorch.org/models/resnet18-f37072fd.pth\" to /root/.cache/torch/hub/checkpoints/resnet18-f37072fd.pth\n",
      "100%|██████████| 44.7M/44.7M [00:00<00:00, 106MB/s]\n"
     ]
    },
    {
     "name": "stdout",
     "output_type": "stream",
     "text": [
      "embedded 1000 rows with 0 failures in 0:10:02.434533\n",
      "done in 0:10:03.501064\n"
     ]
    }
   ],
   "source": [
    "import base64\n",
    "import pandas as pd\n",
    "from arrow import now\n",
    "from glob import glob\n",
    "from img2vec_pytorch import Img2Vec\n",
    "from os.path import basename\n",
    "from PIL import Image\n",
    "from geocoder import arcgis\n",
    "\n",
    "GLOB = '/kaggle/input/photgraphs-of-1000-u-s-cities-ai-generated/*.png'\n",
    "SIZE = 512\n",
    "STOP = 3000\n",
    "\n",
    "def embed(model, filename: str):\n",
    "    with Image.open(fp=filename, mode='r') as image:\n",
    "        return model.get_vec(image, tensor=True).numpy().reshape(SIZE,)\n",
    "\n",
    "\n",
    "def get_picture_from_glob(arg: str, stop: int, ) -> list:\n",
    "    time_get = now()\n",
    "    result = []\n",
    "    count = 0\n",
    "    failures = 0\n",
    "    for index, input_file in enumerate(glob(pathname=arg)):\n",
    "        if count < stop:\n",
    "            name = ' '.join(basename(input_file).replace('.png', '').split('_'))\n",
    "            value = embed(model=model, filename=input_file)\n",
    "            latlng = arcgis(location=name).latlng\n",
    "            result.append(pd.Series(data={'name': name, 'value': value, 'location': latlng}))\n",
    "            count += 1\n",
    "            \n",
    "    print('embedded {} rows with {} failures in {}'.format(len(result), failures, now() - time_get))\n",
    "    return result\n",
    "\n",
    "time_start = now()\n",
    "model = Img2Vec(cuda=False, model='resnet-18')\n",
    "df = pd.DataFrame(data=get_picture_from_glob(arg=GLOB, stop=STOP, ))\n",
    "print('done in {}'.format(now() - time_start))"
   ]
  },
  {
   "cell_type": "code",
   "execution_count": 3,
   "id": "279cd4ac",
   "metadata": {
    "execution": {
     "iopub.execute_input": "2024-03-13T18:03:21.432333Z",
     "iopub.status.busy": "2024-03-13T18:03:21.431779Z",
     "iopub.status.idle": "2024-03-13T18:03:21.465759Z",
     "shell.execute_reply": "2024-03-13T18:03:21.464390Z"
    },
    "papermill": {
     "duration": 0.044022,
     "end_time": "2024-03-13T18:03:21.468480",
     "exception": false,
     "start_time": "2024-03-13T18:03:21.424458",
     "status": "completed"
    },
    "tags": []
   },
   "outputs": [
    {
     "data": {
      "text/html": [
       "<div>\n",
       "<style scoped>\n",
       "    .dataframe tbody tr th:only-of-type {\n",
       "        vertical-align: middle;\n",
       "    }\n",
       "\n",
       "    .dataframe tbody tr th {\n",
       "        vertical-align: top;\n",
       "    }\n",
       "\n",
       "    .dataframe thead th {\n",
       "        text-align: right;\n",
       "    }\n",
       "</style>\n",
       "<table border=\"1\" class=\"dataframe\">\n",
       "  <thead>\n",
       "    <tr style=\"text-align: right;\">\n",
       "      <th></th>\n",
       "      <th>name</th>\n",
       "      <th>value</th>\n",
       "      <th>location</th>\n",
       "    </tr>\n",
       "  </thead>\n",
       "  <tbody>\n",
       "    <tr>\n",
       "      <th>0</th>\n",
       "      <td>highland california</td>\n",
       "      <td>[0.9073799, 2.4232817, 2.6540484, 0.70218486, ...</td>\n",
       "      <td>[34.12126000000006, -117.21713999999997]</td>\n",
       "    </tr>\n",
       "    <tr>\n",
       "      <th>1</th>\n",
       "      <td>new britain connecticut</td>\n",
       "      <td>[0.7772473, 0.6293807, 1.8701727, 1.1827742, 0...</td>\n",
       "      <td>[41.66772000000003, -72.78214999999994]</td>\n",
       "    </tr>\n",
       "    <tr>\n",
       "      <th>2</th>\n",
       "      <td>pembroke pines florida</td>\n",
       "      <td>[1.815567, 2.8266356, 2.9306302, 0.26130608, 0...</td>\n",
       "      <td>[26.008110000000045, -80.28010999999998]</td>\n",
       "    </tr>\n",
       "    <tr>\n",
       "      <th>3</th>\n",
       "      <td>lacey washington</td>\n",
       "      <td>[1.4230752, 3.5252979, 3.401282, 0.60222894, 0...</td>\n",
       "      <td>[47.04437000000007, -122.82323999999994]</td>\n",
       "    </tr>\n",
       "    <tr>\n",
       "      <th>4</th>\n",
       "      <td>danville california</td>\n",
       "      <td>[0.4289289, 0.0, 0.23080131, 0.024211202, 0.05...</td>\n",
       "      <td>[37.83202000000006, -122.00539999999995]</td>\n",
       "    </tr>\n",
       "  </tbody>\n",
       "</table>\n",
       "</div>"
      ],
      "text/plain": [
       "                      name                                              value  \\\n",
       "0      highland california  [0.9073799, 2.4232817, 2.6540484, 0.70218486, ...   \n",
       "1  new britain connecticut  [0.7772473, 0.6293807, 1.8701727, 1.1827742, 0...   \n",
       "2   pembroke pines florida  [1.815567, 2.8266356, 2.9306302, 0.26130608, 0...   \n",
       "3         lacey washington  [1.4230752, 3.5252979, 3.401282, 0.60222894, 0...   \n",
       "4      danville california  [0.4289289, 0.0, 0.23080131, 0.024211202, 0.05...   \n",
       "\n",
       "                                   location  \n",
       "0  [34.12126000000006, -117.21713999999997]  \n",
       "1   [41.66772000000003, -72.78214999999994]  \n",
       "2  [26.008110000000045, -80.28010999999998]  \n",
       "3  [47.04437000000007, -122.82323999999994]  \n",
       "4  [37.83202000000006, -122.00539999999995]  "
      ]
     },
     "execution_count": 3,
     "metadata": {},
     "output_type": "execute_result"
    }
   ],
   "source": [
    "df.head()"
   ]
  },
  {
   "cell_type": "code",
   "execution_count": 4,
   "id": "c84c5092",
   "metadata": {
    "execution": {
     "iopub.execute_input": "2024-03-13T18:03:21.480626Z",
     "iopub.status.busy": "2024-03-13T18:03:21.479213Z",
     "iopub.status.idle": "2024-03-13T18:03:21.494330Z",
     "shell.execute_reply": "2024-03-13T18:03:21.492496Z"
    },
    "papermill": {
     "duration": 0.025098,
     "end_time": "2024-03-13T18:03:21.498087",
     "exception": false,
     "start_time": "2024-03-13T18:03:21.472989",
     "status": "completed"
    },
    "tags": []
   },
   "outputs": [],
   "source": [
    "def get_state(arg:str) -> str:\n",
    "    result = arg.split()[-1]\n",
    "    prefix = arg.split()[-2]\n",
    "    if result in {'york', 'mexico', 'hampshire', 'carolina', 'dakota', 'island'}:\n",
    "        return ' '.join([prefix, result])\n",
    "        \n",
    "    return result\n",
    "\n",
    "df['state'] = df['name'].apply(func=get_state)"
   ]
  },
  {
   "cell_type": "code",
   "execution_count": 5,
   "id": "ea35747e",
   "metadata": {
    "execution": {
     "iopub.execute_input": "2024-03-13T18:03:21.511682Z",
     "iopub.status.busy": "2024-03-13T18:03:21.511159Z",
     "iopub.status.idle": "2024-03-13T18:03:21.537063Z",
     "shell.execute_reply": "2024-03-13T18:03:21.535780Z"
    },
    "papermill": {
     "duration": 0.035769,
     "end_time": "2024-03-13T18:03:21.540135",
     "exception": false,
     "start_time": "2024-03-13T18:03:21.504366",
     "status": "completed"
    },
    "tags": []
   },
   "outputs": [
    {
     "data": {
      "text/html": [
       "<div>\n",
       "<style scoped>\n",
       "    .dataframe tbody tr th:only-of-type {\n",
       "        vertical-align: middle;\n",
       "    }\n",
       "\n",
       "    .dataframe tbody tr th {\n",
       "        vertical-align: top;\n",
       "    }\n",
       "\n",
       "    .dataframe thead th {\n",
       "        text-align: right;\n",
       "    }\n",
       "</style>\n",
       "<table border=\"1\" class=\"dataframe\">\n",
       "  <thead>\n",
       "    <tr style=\"text-align: right;\">\n",
       "      <th></th>\n",
       "      <th>name</th>\n",
       "      <th>value</th>\n",
       "      <th>location</th>\n",
       "      <th>state</th>\n",
       "    </tr>\n",
       "  </thead>\n",
       "  <tbody>\n",
       "    <tr>\n",
       "      <th>0</th>\n",
       "      <td>highland california</td>\n",
       "      <td>[0.9073799, 2.4232817, 2.6540484, 0.70218486, ...</td>\n",
       "      <td>[34.12126000000006, -117.21713999999997]</td>\n",
       "      <td>california</td>\n",
       "    </tr>\n",
       "    <tr>\n",
       "      <th>1</th>\n",
       "      <td>new britain connecticut</td>\n",
       "      <td>[0.7772473, 0.6293807, 1.8701727, 1.1827742, 0...</td>\n",
       "      <td>[41.66772000000003, -72.78214999999994]</td>\n",
       "      <td>connecticut</td>\n",
       "    </tr>\n",
       "    <tr>\n",
       "      <th>2</th>\n",
       "      <td>pembroke pines florida</td>\n",
       "      <td>[1.815567, 2.8266356, 2.9306302, 0.26130608, 0...</td>\n",
       "      <td>[26.008110000000045, -80.28010999999998]</td>\n",
       "      <td>florida</td>\n",
       "    </tr>\n",
       "    <tr>\n",
       "      <th>3</th>\n",
       "      <td>lacey washington</td>\n",
       "      <td>[1.4230752, 3.5252979, 3.401282, 0.60222894, 0...</td>\n",
       "      <td>[47.04437000000007, -122.82323999999994]</td>\n",
       "      <td>washington</td>\n",
       "    </tr>\n",
       "    <tr>\n",
       "      <th>4</th>\n",
       "      <td>danville california</td>\n",
       "      <td>[0.4289289, 0.0, 0.23080131, 0.024211202, 0.05...</td>\n",
       "      <td>[37.83202000000006, -122.00539999999995]</td>\n",
       "      <td>california</td>\n",
       "    </tr>\n",
       "  </tbody>\n",
       "</table>\n",
       "</div>"
      ],
      "text/plain": [
       "                      name                                              value  \\\n",
       "0      highland california  [0.9073799, 2.4232817, 2.6540484, 0.70218486, ...   \n",
       "1  new britain connecticut  [0.7772473, 0.6293807, 1.8701727, 1.1827742, 0...   \n",
       "2   pembroke pines florida  [1.815567, 2.8266356, 2.9306302, 0.26130608, 0...   \n",
       "3         lacey washington  [1.4230752, 3.5252979, 3.401282, 0.60222894, 0...   \n",
       "4      danville california  [0.4289289, 0.0, 0.23080131, 0.024211202, 0.05...   \n",
       "\n",
       "                                   location        state  \n",
       "0  [34.12126000000006, -117.21713999999997]   california  \n",
       "1   [41.66772000000003, -72.78214999999994]  connecticut  \n",
       "2  [26.008110000000045, -80.28010999999998]      florida  \n",
       "3  [47.04437000000007, -122.82323999999994]   washington  \n",
       "4  [37.83202000000006, -122.00539999999995]   california  "
      ]
     },
     "execution_count": 5,
     "metadata": {},
     "output_type": "execute_result"
    }
   ],
   "source": [
    "df.head()"
   ]
  },
  {
   "cell_type": "code",
   "execution_count": 6,
   "id": "3bf3ff96",
   "metadata": {
    "execution": {
     "iopub.execute_input": "2024-03-13T18:03:21.552668Z",
     "iopub.status.busy": "2024-03-13T18:03:21.552238Z",
     "iopub.status.idle": "2024-03-13T18:04:21.032198Z",
     "shell.execute_reply": "2024-03-13T18:04:21.030743Z"
    },
    "papermill": {
     "duration": 59.49048,
     "end_time": "2024-03-13T18:04:21.036185",
     "exception": false,
     "start_time": "2024-03-13T18:03:21.545705",
     "status": "completed"
    },
    "tags": []
   },
   "outputs": [
    {
     "name": "stderr",
     "output_type": "stream",
     "text": [
      "2024-03-13 18:03:46.776436: E external/local_xla/xla/stream_executor/cuda/cuda_dnn.cc:9261] Unable to register cuDNN factory: Attempting to register factory for plugin cuDNN when one has already been registered\n",
      "2024-03-13 18:03:46.776593: E external/local_xla/xla/stream_executor/cuda/cuda_fft.cc:607] Unable to register cuFFT factory: Attempting to register factory for plugin cuFFT when one has already been registered\n",
      "2024-03-13 18:03:46.954455: E external/local_xla/xla/stream_executor/cuda/cuda_blas.cc:1515] Unable to register cuBLAS factory: Attempting to register factory for plugin cuBLAS when one has already been registered\n"
     ]
    },
    {
     "name": "stdout",
     "output_type": "stream",
     "text": [
      "UMAP(low_memory=False, n_epochs=1000, n_jobs=1, random_state=2024, verbose=True)\n",
      "Wed Mar 13 18:04:01 2024 Construct fuzzy simplicial set\n",
      "Wed Mar 13 18:04:03 2024 Finding Nearest Neighbors\n",
      "Wed Mar 13 18:04:07 2024 Finished Nearest Neighbor Search\n",
      "Wed Mar 13 18:04:12 2024 Construct embedding\n"
     ]
    },
    {
     "data": {
      "application/vnd.jupyter.widget-view+json": {
       "model_id": "115c464124d3464d81b3bb67cdd5abd3",
       "version_major": 2,
       "version_minor": 0
      },
      "text/plain": [
       "Epochs completed:   0%|            0/1000 [00:00]"
      ]
     },
     "metadata": {},
     "output_type": "display_data"
    },
    {
     "name": "stdout",
     "output_type": "stream",
     "text": [
      "\tcompleted  0  /  1000 epochs\n",
      "\tcompleted  100  /  1000 epochs\n",
      "\tcompleted  200  /  1000 epochs\n",
      "\tcompleted  300  /  1000 epochs\n",
      "\tcompleted  400  /  1000 epochs\n",
      "\tcompleted  500  /  1000 epochs\n",
      "\tcompleted  600  /  1000 epochs\n",
      "\tcompleted  700  /  1000 epochs\n",
      "\tcompleted  800  /  1000 epochs\n",
      "\tcompleted  900  /  1000 epochs\n",
      "Wed Mar 13 18:04:17 2024 Finished embedding\n",
      "done with UMAP in 0:00:16.230813\n"
     ]
    },
    {
     "name": "stderr",
     "output_type": "stream",
     "text": [
      "/opt/conda/lib/python3.10/site-packages/plotly/express/_core.py:2065: FutureWarning: When grouping with a length-1 list-like, you will need to pass a length-1 tuple to get_group in a future version of pandas. Pass `(name,)` instead of `name` to silence this warning.\n",
      "  sf: grouped.get_group(s if len(s) > 1 else s[0])\n"
     ]
    },
    {
     "data": {
      "text/html": [
       "        <script type=\"text/javascript\">\n",
       "        window.PlotlyConfig = {MathJaxConfig: 'local'};\n",
       "        if (window.MathJax && window.MathJax.Hub && window.MathJax.Hub.Config) {window.MathJax.Hub.Config({SVG: {font: \"STIX-Web\"}});}\n",
       "        if (typeof require !== 'undefined') {\n",
       "        require.undef(\"plotly\");\n",
       "        requirejs.config({\n",
       "            paths: {\n",
       "                'plotly': ['https://cdn.plot.ly/plotly-2.27.0.min']\n",
       "            }\n",
       "        });\n",
       "        require(['plotly'], function(Plotly) {\n",
       "            window._Plotly = Plotly;\n",
       "        });\n",
       "        }\n",
       "        </script>\n",
       "        "
      ]
     },
     "metadata": {},
     "output_type": "display_data"
    },
    {
     "data": {
      "text/html": [
       "<div>                            <div id=\"87cff723-74c1-4694-b529-0ee4a63b6a93\" class=\"plotly-graph-div\" style=\"height:900px; width:100%;\"></div>            <script type=\"text/javascript\">                require([\"plotly\"], function(Plotly) {                    window.PLOTLYENV=window.PLOTLYENV || {};                                    if (document.getElementById(\"87cff723-74c1-4694-b529-0ee4a63b6a93\")) {                    Plotly.newPlot(                        \"87cff723-74c1-4694-b529-0ee4a63b6a93\",                        [{\"hovertemplate\":\"\\u003cb\\u003e%{hovertext}\\u003c\\u002fb\\u003e\\u003cbr\\u003e\\u003cbr\\u003estate=california\\u003cbr\\u003ex=%{x}\\u003cbr\\u003ey=%{y}\\u003cextra\\u003e\\u003c\\u002fextra\\u003e\",\"hovertext\":[\"highland california\",\"danville california\",\"south san francisco california\",\"el cajon california\",\"long beach california\",\"pittsburg california\",\"el monte california\",\"davis california\",\"arcadia california\",\"santee california\",\"stanton california\",\"placentia california\",\"morgan hill california\",\"livermore california\",\"mountain view california\",\"manteca california\",\"san mateo california\",\"visalia california\",\"martinez california\",\"el centro california\",\"brea california\",\"milpitas california\",\"concord california\",\"ontario california\",\"vista california\",\"oceanside california\",\"sunnyvale california\",\"beaumont california\",\"chino hills california\",\"lincoln california\",\"escondido california\",\"fullerton california\",\"bellflower california\",\"chico california\",\"citrus heights california\",\"san ramon california\",\"santa cruz california\",\"folsom california\",\"chula vista california\",\"south gate california\",\"anaheim california\",\"berkeley california\",\"coachella california\",\"san francisco california\",\"inglewood california\",\"lodi california\",\"san bruno california\",\"cerritos california\",\"pacifica california\",\"oxnard california\",\"palm desert california\",\"gilroy california\",\"la mirada california\",\"huntington park california\",\"san luis obispo california\",\"merced california\",\"elk grove california\",\"la quinta california\",\"santa maria california\",\"glendale california\",\"cypress california\",\"azusa california\",\"moreno valley california\",\"campbell california\",\"compton california\",\"sacramento california\",\"oakland california\",\"culver city california\",\"pico rivera california\",\"chino california\",\"rancho palos verdes california\",\"westminster california\",\"petaluma california\",\"national city california\",\"garden grove california\",\"west sacramento california\",\"walnut creek california\",\"fontana california\",\"whittier california\",\"redondo beach california\",\"rohnert park california\",\"vallejo california\",\"fremont california\",\"clovis california\",\"antioch california\",\"palo alto california\",\"pleasanton california\",\"san leandro california\",\"costa mesa california\",\"eastvale california\",\"poway california\",\"lynwood california\",\"yucaipa california\",\"monrovia california\",\"cathedral city california\",\"norwalk california\",\"covina california\",\"mission viejo california\",\"hayward california\",\"gardena california\",\"rancho cucamonga california\",\"redwood city california\",\"lake forest california\",\"orange california\",\"redding california\",\"paramount california\",\"bell gardens california\",\"richmond california\",\"palm springs california\",\"camarillo california\",\"santa barbara california\",\"montebello california\",\"novato california\",\"riverside california\",\"daly city california\",\"carson california\",\"tulare california\",\"fairfield california\",\"aliso viejo california\",\"colton california\",\"murrieta california\",\"victorville california\",\"santa clara california\",\"apple valley california\",\"rancho cordova california\",\"upland california\",\"irvine california\",\"union city california\",\"calexico california\",\"diamond bar california\",\"indio california\",\"yuba city california\",\"turlock california\",\"yorba linda california\",\"rialto california\",\"torrance california\",\"glendora california\",\"simi valley california\",\"roseville california\",\"montclair california\",\"lompoc california\",\"carlsbad california\",\"downey california\",\"temecula california\",\"hemet california\",\"santa monica california\",\"dublin california\",\"san clemente california\",\"woodland california\",\"perris california\",\"san rafael california\",\"buena park california\",\"la habra california\",\"thousand oaks california\",\"baldwin park california\",\"vacaville california\",\"watsonville california\",\"san jacinto california\",\"santa clarita california\",\"san jose california\",\"west covina california\",\"salinas california\",\"ceres california\",\"hawthorne california\",\"redlands california\",\"newark california\",\"huntington beach california\",\"monterey park california\",\"rancho santa margarita california\",\"stockton california\",\"encinitas california\",\"hesperia california\",\"pasadena california\",\"corona california\",\"alameda california\",\"santa rosa california\",\"lancaster california\",\"la puente california\",\"san marcos california\",\"burbank california\",\"lake elsinore california\",\"modesto california\",\"brentwood california\",\"san gabriel california\",\"fountain valley california\",\"newport beach california\",\"menifee california\",\"jurupa valley california\",\"madera california\",\"cupertino california\",\"oakley california\",\"bakersfield california\",\"santa ana california\",\"lakewood california\",\"delano california\",\"rocklin california\",\"los angeles california\",\"napa california\",\"san bernardino california\",\"pomona california\",\"san diego california\",\"rosemead california\",\"tracy california\",\"porterville california\",\"fresno california\",\"tustin california\",\"la mesa california\",\"alhambra california\",\"hanford california\",\"laguna niguel california\",\"palmdale california\"],\"legendgroup\":\"california\",\"marker\":{\"color\":\"#636efa\",\"symbol\":\"circle\"},\"mode\":\"markers\",\"name\":\"california\",\"orientation\":\"v\",\"showlegend\":true,\"x\":[2.9677474,8.273285,3.5929892,3.926048,7.3586473,6.286228,6.7596154,6.8197,2.9678717,8.1972065,7.804886,7.2632155,6.900132,7.0119133,8.317321,8.537532,4.7975054,5.9830766,7.0881376,6.0388217,8.567373,6.7274895,8.369518,8.208234,7.711245,4.2439704,6.85244,7.815208,7.075825,8.593041,6.436358,4.622957,6.9852586,6.7103024,8.006693,7.752055,6.8481607,8.122051,4.1443496,5.7549233,2.5595183,6.7063594,8.710917,3.4217772,4.756012,6.7175784,3.0429335,6.9861217,8.557699,6.730902,4.018176,7.1402426,6.5969563,6.6222005,6.9577947,7.0935373,7.712013,2.9469442,6.408846,7.8592896,8.015421,4.51669,7.9793186,7.9791217,8.290683,3.1059608,4.3698487,2.8488948,8.688846,2.526961,5.0241113,4.8997536,6.6725273,2.1905158,7.0510974,6.7101097,2.4998305,7.579529,2.5930102,2.5400777,8.673094,6.707476,6.882897,8.551545,8.40252,6.677259,8.118468,6.5201755,4.149748,8.067544,8.586244,4.3674827,8.647202,3.4498484,2.8856392,8.4574585,3.028535,6.6070113,6.7029953,7.988502,8.607441,6.438703,8.60569,7.0557847,7.829274,4.6412396,2.76925,6.588439,3.8654244,8.188894,2.7640226,3.4428174,8.721252,8.0961895,6.7186847,8.639363,6.7520056,8.76426,2.9921281,8.539657,8.637845,3.3712018,6.587551,8.4600115,6.9176984,7.295408,8.34656,5.8484097,5.3373814,4.647936,7.8733077,2.8969092,2.8091755,4.742774,2.74789,6.8441916,3.320636,6.8908825,6.610217,6.7669945,3.3286462,8.766434,2.8362331,6.97825,6.9106393,6.172451,8.771857,4.927568,8.632113,6.7676425,8.197826,6.558897,7.928629,7.7999635,3.2461677,8.441555,6.627489,3.0224652,6.583241,7.2839017,2.0612202,7.585323,5.1111264,7.3371916,5.5549874,8.371579,2.90014,6.106883,5.933889,5.346363,7.1529617,8.02469,3.9988096,8.245724,6.9122987,8.51489,8.882955,5.9108634,8.474252,8.59534,8.752389,6.579674,8.526271,2.8238904,7.089115,6.831625,8.360846,8.562283,2.5039806,7.6687555,8.572054,8.664486,4.597021,2.5445821,7.9960713,7.953352,3.7595208,8.626521,8.137525,8.157572,4.532259,8.89869,6.4033074,8.43271,3.6020987,2.5291104,8.45,6.559854,8.310673,8.533307,8.108243],\"xaxis\":\"x\",\"y\":[11.407336,6.029458,8.7405,9.113939,8.339094,5.838496,5.762436,6.4674816,11.812254,7.8475327,8.255167,5.393754,7.3784347,7.939127,5.720065,5.732004,7.7253737,7.1487837,7.032185,5.4371963,6.9625335,4.3049593,4.872873,6.4906406,8.1918545,10.192824,7.248647,7.2814846,7.773669,4.9719243,7.808131,9.492325,5.3101315,4.3354526,6.4956284,7.1967335,7.2715454,6.1301484,9.749049,4.363635,11.348564,4.5379243,6.65015,8.145662,9.681463,4.765779,9.090013,5.5370097,6.310373,7.827508,8.940607,7.394796,7.2178936,7.277756,5.625721,6.7781444,5.837599,11.673532,5.824456,8.234554,6.1732707,9.484514,7.780515,7.795656,4.9913898,11.243117,7.117031,9.465129,6.7508454,11.657565,9.135183,5.5010686,7.2585835,10.813447,5.3080726,7.558114,11.626322,8.179334,11.665638,11.688198,5.809676,7.590817,4.227934,4.8844967,6.418789,7.570163,6.8464994,5.9023733,9.652364,6.926707,6.750114,6.1340046,6.569306,9.095746,11.093675,4.7371464,11.838186,8.144326,7.427187,7.858829,6.6301646,4.960963,6.7843685,6.3481193,6.7151055,9.764834,10.45649,7.3206716,9.66564,7.596596,11.513133,11.192616,6.260669,6.542944,7.4498215,5.242648,5.6649904,6.1404214,11.393192,7.3645334,6.4770865,10.072097,4.2833767,7.1641097,5.0469284,7.6243043,5.110823,4.744176,9.306041,9.896401,7.4106426,11.347133,11.616343,8.977241,11.196615,5.561061,11.254696,8.001288,4.607127,6.902541,9.173606,6.1545653,10.745066,7.8168373,8.054689,5.735432,5.8276496,9.324596,5.894386,7.5891604,5.8986826,7.799049,6.421628,7.5694184,11.615837,6.088717,7.4778953,10.38195,7.907169,5.867968,10.938183,5.954445,8.525444,7.4224596,8.817162,5.2248216,10.734145,8.542708,8.206221,5.651539,5.219143,7.6112533,8.954461,7.762248,4.3147697,4.997473,5.1881843,4.9279976,6.053882,7.153003,6.4739847,5.2342844,5.4217124,11.69861,5.283018,5.750882,5.5191903,7.225773,10.631322,6.0577703,5.910522,4.9752192,8.707787,11.68893,8.127786,6.94057,7.316,7.0337973,7.7309804,7.5630593,9.301497,5.367825,4.2449436,4.9943776,5.890849,10.63581,6.099917,7.4356456,6.123077,6.3012633,7.5527544],\"yaxis\":\"y\",\"type\":\"scatter\"},{\"hovertemplate\":\"\\u003cb\\u003e%{hovertext}\\u003c\\u002fb\\u003e\\u003cbr\\u003e\\u003cbr\\u003estate=connecticut\\u003cbr\\u003ex=%{x}\\u003cbr\\u003ey=%{y}\\u003cextra\\u003e\\u003c\\u002fextra\\u003e\",\"hovertext\":[\"new britain connecticut\",\"bridgeport connecticut\",\"stamford connecticut\",\"west haven connecticut\",\"new haven connecticut\",\"milford connecticut\",\"meriden connecticut\",\"middletown connecticut\",\"danbury connecticut\",\"norwich connecticut\",\"norwalk connecticut\",\"waterbury connecticut\",\"hartford connecticut\",\"bristol connecticut\",\"shelton connecticut\"],\"legendgroup\":\"connecticut\",\"marker\":{\"color\":\"#EF553B\",\"symbol\":\"circle\"},\"mode\":\"markers\",\"name\":\"connecticut\",\"orientation\":\"v\",\"showlegend\":true,\"x\":[6.702645,4.044779,5.780195,8.183263,5.2617936,5.2465715,6.465541,4.8289948,4.4740415,5.0512614,6.4495897,5.073928,4.2000895,8.336403,3.2547293],\"xaxis\":\"x\",\"y\":[6.3789034,6.5092964,5.196744,6.3685455,6.6155305,6.194586,6.6135325,6.7393823,8.054178,7.507773,6.9628587,8.105809,7.111136,4.8042827,9.305838],\"yaxis\":\"y\",\"type\":\"scatter\"},{\"hovertemplate\":\"\\u003cb\\u003e%{hovertext}\\u003c\\u002fb\\u003e\\u003cbr\\u003e\\u003cbr\\u003estate=florida\\u003cbr\\u003ex=%{x}\\u003cbr\\u003ey=%{y}\\u003cextra\\u003e\\u003c\\u002fextra\\u003e\",\"hovertext\":[\"pembroke pines florida\",\"aventura florida\",\"largo florida\",\"north lauderdale florida\",\"pensacola florida\",\"jacksonville florida\",\"winter garden florida\",\"sunrise florida\",\"north port florida\",\"wellington florida\",\"ocala florida\",\"west palm beach florida\",\"melbourne florida\",\"st. cloud florida\",\"daytona beach florida\",\"coral springs florida\",\"lauderhill florida\",\"plantation florida\",\"hialeah florida\",\"oakland park florida\",\"tallahassee florida\",\"margate florida\",\"palm bay florida\",\"sanford florida\",\"jupiter florida\",\"port st. lucie florida\",\"deerfield beach florida\",\"fort lauderdale florida\",\"coral gables florida\",\"tampa florida\",\"lakeland florida\",\"palm beach gardens florida\",\"ormond beach florida\",\"pinellas park florida\",\"coconut creek florida\",\"tamarac florida\",\"north miami florida\",\"delray beach florida\",\"fort pierce florida\",\"st. petersburg florida\",\"ocoee florida\",\"hallandale beach florida\",\"orlando florida\",\"miami gardens florida\",\"greenacres florida\",\"sarasota florida\",\"davie florida\",\"miami beach florida\",\"bonita springs florida\",\"titusville florida\",\"panama city florida\",\"kissimmee florida\",\"cutler bay florida\",\"miramar florida\",\"gainesville florida\",\"altamonte springs florida\",\"palm coast florida\",\"homestead florida\",\"hollywood florida\",\"cape coral florida\",\"apopka florida\",\"fort myers florida\",\"bradenton florida\",\"port orange florida\",\"weston florida\",\"pompano beach florida\",\"north miami beach florida\",\"clearwater florida\",\"boynton beach florida\",\"boca raton florida\",\"deltona florida\",\"miami florida\",\"doral florida\"],\"legendgroup\":\"florida\",\"marker\":{\"color\":\"#00cc96\",\"symbol\":\"circle\"},\"mode\":\"markers\",\"name\":\"florida\",\"orientation\":\"v\",\"showlegend\":true,\"x\":[6.972245,3.875228,4.415266,5.1728683,2.3929493,3.7270288,5.4899306,3.9310899,2.558559,6.2246866,3.4643874,3.3778145,4.102446,7.404284,2.7366858,7.9121428,3.1711833,3.2763414,5.2706738,7.165977,7.4395266,7.3102145,5.3282228,6.8660803,8.211973,8.5347395,3.1823204,3.2581148,5.257716,3.6280289,6.4295917,3.151845,4.0792193,3.1195307,8.495111,7.09925,3.6428742,4.9470835,3.0965986,4.086846,7.6900444,3.7538435,4.3104615,7.582146,7.4912033,5.68753,7.405707,3.9241076,4.2175775,7.488085,3.741066,7.3383856,8.402968,3.5212471,6.565995,3.2096505,3.2109954,3.2670188,2.1656947,6.693138,2.0732927,2.8570073,3.1345923,4.139053,5.2924366,3.3086476,3.0685527,2.2570956,3.1385858,4.145354,5.2069073,3.8720007,5.247544],\"xaxis\":\"x\",\"y\":[5.6383824,6.466339,8.991277,9.107072,11.423831,9.682201,6.044048,5.7580447,11.648764,8.39984,10.611738,9.754851,10.348132,5.6934876,9.861994,5.493039,11.723952,11.737443,5.1032915,5.2111406,6.0217023,5.2028546,6.3976345,7.8406954,7.2287555,6.563127,11.311599,10.208582,7.25099,6.7988486,6.9823246,11.799596,10.327185,11.799811,6.6534414,5.7853475,9.685053,9.085254,9.680786,8.915805,5.707325,5.6642156,9.308194,4.9945345,7.5318294,5.591626,5.1193876,10.060297,10.2680025,5.197795,5.542539,4.8986354,7.054262,9.353245,4.885912,11.866125,11.742647,11.684722,10.865647,7.6878266,10.925743,9.554152,11.841156,10.278793,9.01966,10.185549,10.363423,11.117082,11.737212,10.277394,9.299546,5.444685,9.055825],\"yaxis\":\"y\",\"type\":\"scatter\"},{\"hovertemplate\":\"\\u003cb\\u003e%{hovertext}\\u003c\\u002fb\\u003e\\u003cbr\\u003e\\u003cbr\\u003estate=washington\\u003cbr\\u003ex=%{x}\\u003cbr\\u003ey=%{y}\\u003cextra\\u003e\\u003c\\u002fextra\\u003e\",\"hovertext\":[\"lacey washington\",\"sammamish washington\",\"spokane valley washington\",\"kirkland washington\",\"bellevue washington\",\"spokane washington\",\"renton washington\",\"bellingham washington\",\"auburn washington\",\"burien washington\",\"lakewood washington\",\"vancouver washington\",\"yakima washington\",\"pasco washington\",\"puyallup washington\",\"federal way washington\",\"richland washington\",\"everett washington\",\"marysville washington\",\"tacoma washington\",\"kennewick washington\",\"shoreline washington\",\"edmonds washington\",\"bremerton washington\",\"redmond washington\",\"seattle washington\",\"kent washington\",\"olympia washington\"],\"legendgroup\":\"washington\",\"marker\":{\"color\":\"#ab63fa\",\"symbol\":\"circle\"},\"mode\":\"markers\",\"name\":\"washington\",\"orientation\":\"v\",\"showlegend\":true,\"x\":[3.086538,8.511781,7.1115165,2.9291396,4.0138893,6.0274034,4.97994,3.701976,7.220293,3.2446206,2.9355142,7.510047,6.9060726,8.150596,7.0827513,4.865661,7.25174,7.8365436,5.4333663,4.453677,8.226975,4.121454,3.2896528,6.9247646,4.6608396,3.3052278,2.891495,4.7465925],\"xaxis\":\"x\",\"y\":[8.8884735,6.344765,6.4834514,9.023644,9.711871,7.652485,8.2384205,9.00493,6.2264705,9.291499,9.004485,6.1737742,6.895495,6.158412,6.3945503,8.446506,6.535171,6.5642776,7.8216033,7.2451844,5.8520403,9.615141,9.300602,7.0917363,7.6362166,8.309792,8.691253,8.817607],\"yaxis\":\"y\",\"type\":\"scatter\"},{\"hovertemplate\":\"\\u003cb\\u003e%{hovertext}\\u003c\\u002fb\\u003e\\u003cbr\\u003e\\u003cbr\\u003estate=michigan\\u003cbr\\u003ex=%{x}\\u003cbr\\u003ey=%{y}\\u003cextra\\u003e\\u003c\\u002fextra\\u003e\",\"hovertext\":[\"kalamazoo michigan\",\"wyoming michigan\",\"westland michigan\",\"roseville michigan\",\"rochester hills michigan\",\"taylor michigan\",\"portage michigan\",\"grand rapids michigan\",\"detroit michigan\",\"troy michigan\",\"lincoln park michigan\",\"east lansing michigan\",\"kentwood michigan\",\"ann arbor michigan\",\"saginaw michigan\",\"farmington hills michigan\",\"royal oak michigan\",\"battle creek michigan\",\"dearborn michigan\",\"southfield michigan\",\"pontiac michigan\",\"dearborn heights michigan\",\"midland michigan\",\"warren michigan\",\"sterling heights michigan\",\"flint michigan\",\"novi michigan\",\"livonia michigan\",\"muskegon michigan\",\"st. clair shores michigan\",\"lansing michigan\"],\"legendgroup\":\"michigan\",\"marker\":{\"color\":\"#FFA15A\",\"symbol\":\"circle\"},\"mode\":\"markers\",\"name\":\"michigan\",\"orientation\":\"v\",\"showlegend\":true,\"x\":[7.35211,5.7139287,5.4059253,5.18468,6.639724,3.017902,6.86913,5.1255946,3.8666437,5.903299,3.023785,5.611721,6.0821257,5.0296535,3.5084438,3.9984162,3.534993,6.077038,2.8910105,5.696521,4.40856,4.0262957,5.4401674,6.360499,7.9229355,3.8792403,5.5379944,6.576328,2.2039988,5.608326,5.5067487],\"xaxis\":\"x\",\"y\":[6.393681,5.32216,7.3211255,8.138275,5.1287932,8.417155,4.347584,5.8548303,6.056712,6.1754913,8.324746,7.381559,6.677046,6.61644,7.665791,7.9469934,9.697069,5.7322125,9.37991,4.7896976,6.2577786,6.080395,5.739147,4.200637,5.748302,9.722422,6.451788,5.78968,10.801026,5.9171214,5.439131],\"yaxis\":\"y\",\"type\":\"scatter\"},{\"hovertemplate\":\"\\u003cb\\u003e%{hovertext}\\u003c\\u002fb\\u003e\\u003cbr\\u003e\\u003cbr\\u003estate=ohio\\u003cbr\\u003ex=%{x}\\u003cbr\\u003ey=%{y}\\u003cextra\\u003e\\u003c\\u002fextra\\u003e\",\"hovertext\":[\"lima ohio\",\"grove city ohio\",\"cleveland ohio\",\"mentor ohio\",\"toledo ohio\",\"strongsville ohio\",\"parma ohio\",\"findlay ohio\",\"lakewood ohio\",\"lancaster ohio\",\"columbus ohio\",\"elyria ohio\",\"canton ohio\",\"huber heights ohio\",\"dayton ohio\",\"fairfield ohio\",\"cuyahoga falls ohio\",\"youngstown ohio\",\"mansfield ohio\",\"akron ohio\",\"cincinnati ohio\",\"kettering ohio\",\"beavercreek ohio\",\"lorain ohio\",\"cleveland heights ohio\",\"westerville ohio\",\"middletown ohio\",\"springfield ohio\",\"newark ohio\",\"hamilton ohio\",\"warren ohio\",\"dublin ohio\",\"euclid ohio\"],\"legendgroup\":\"ohio\",\"marker\":{\"color\":\"#19d3f3\",\"symbol\":\"circle\"},\"mode\":\"markers\",\"name\":\"ohio\",\"orientation\":\"v\",\"showlegend\":true,\"x\":[4.7736917,3.5565584,3.7968798,7.364928,4.017762,7.1170526,5.5330033,4.1124287,5.6886387,6.798195,4.53001,2.7855735,4.493675,5.6846557,2.2889187,5.795268,3.8060958,3.933806,4.7574763,4.124851,3.6284378,6.323681,2.1335635,3.8292081,4.3942285,5.7174025,3.4007168,4.8594837,3.6305487,4.660236,6.3343315,6.306592,4.939566],\"xaxis\":\"x\",\"y\":[6.351558,7.6779566,9.769443,5.223393,7.2060595,4.7957234,4.8660007,8.668046,5.406435,4.2151437,7.1803913,10.913584,7.2502894,6.0063434,10.649684,8.286518,6.894419,7.4177194,5.671355,5.2610235,7.628378,4.216026,11.073121,9.241535,8.150008,7.2560964,8.696876,5.682804,7.560942,7.587393,4.770622,6.296414,7.7256665],\"yaxis\":\"y\",\"type\":\"scatter\"},{\"hovertemplate\":\"\\u003cb\\u003e%{hovertext}\\u003c\\u002fb\\u003e\\u003cbr\\u003e\\u003cbr\\u003estate=massachusetts\\u003cbr\\u003ex=%{x}\\u003cbr\\u003ey=%{y}\\u003cextra\\u003e\\u003c\\u002fextra\\u003e\",\"hovertext\":[\"peabody massachusetts\",\"woburn massachusetts\",\"lowell massachusetts\",\"everett massachusetts\",\"revere massachusetts\",\"lawrence massachusetts\",\"beverly massachusetts\",\"leominster massachusetts\",\"chelsea massachusetts\",\"cambridge massachusetts\",\"taunton massachusetts\",\"westfield massachusetts\",\"holyoke massachusetts\",\"boston massachusetts\",\"springfield massachusetts\",\"methuen massachusetts\",\"attleboro massachusetts\",\"brockton massachusetts\",\"salem massachusetts\",\"somerville massachusetts\",\"barnstable town massachusetts\",\"waltham massachusetts\",\"lynn massachusetts\",\"weymouth town massachusetts\",\"newton massachusetts\",\"medford massachusetts\",\"quincy massachusetts\",\"fall river massachusetts\",\"chicopee massachusetts\",\"marlborough massachusetts\",\"fitchburg massachusetts\",\"worcester massachusetts\",\"pittsfield massachusetts\",\"new bedford massachusetts\",\"malden massachusetts\",\"haverhill massachusetts\"],\"legendgroup\":\"massachusetts\",\"marker\":{\"color\":\"#FF6692\",\"symbol\":\"circle\"},\"mode\":\"markers\",\"name\":\"massachusetts\",\"orientation\":\"v\",\"showlegend\":true,\"x\":[4.028546,7.9864264,8.106607,3.375094,3.0531726,4.946806,5.5460515,6.471577,5.2184153,5.1025815,6.6760798,7.176478,5.061416,4.0312304,5.566091,5.6971884,5.9698243,6.9324465,3.4535973,7.2672524,6.657877,6.499479,7.336683,5.4716935,8.331928,4.351941,6.4828258,3.6951296,6.3971686,5.707016,5.6619306,6.1264486,6.491519,2.2611287,4.5182576,5.5701814],\"xaxis\":\"x\",\"y\":[8.557786,5.8291364,4.9585724,8.554503,8.607699,7.574928,7.113823,4.9742827,5.69292,7.7756667,4.6674795,4.642468,6.7251725,7.7192492,5.012459,7.1645284,8.076958,6.2421227,8.707572,4.586962,7.7088737,6.591871,6.693331,7.1344347,5.9003043,8.9302225,4.7122984,9.025358,4.3378615,8.502683,8.402361,7.2042146,4.857881,10.842721,6.142359,8.740863],\"yaxis\":\"y\",\"type\":\"scatter\"},{\"hovertemplate\":\"\\u003cb\\u003e%{hovertext}\\u003c\\u002fb\\u003e\\u003cbr\\u003e\\u003cbr\\u003estate=wisconsin\\u003cbr\\u003ex=%{x}\\u003cbr\\u003ey=%{y}\\u003cextra\\u003e\\u003c\\u002fextra\\u003e\",\"hovertext\":[\"appleton wisconsin\",\"milwaukee wisconsin\",\"madison wisconsin\",\"kenosha wisconsin\",\"waukesha wisconsin\",\"oshkosh wisconsin\",\"greenfield wisconsin\",\"green bay wisconsin\",\"eau claire wisconsin\",\"janesville wisconsin\",\"wausau wisconsin\",\"fond du lac wisconsin\",\"racine wisconsin\",\"wauwatosa wisconsin\",\"west allis wisconsin\",\"brookfield wisconsin\",\"sheboygan wisconsin\",\"new berlin wisconsin\",\"la crosse wisconsin\",\"beloit wisconsin\"],\"legendgroup\":\"wisconsin\",\"marker\":{\"color\":\"#B6E880\",\"symbol\":\"circle\"},\"mode\":\"markers\",\"name\":\"wisconsin\",\"orientation\":\"v\",\"showlegend\":true,\"x\":[4.379191,2.5516472,5.8249435,6.861206,2.3219006,7.645695,7.149849,8.104298,3.7634695,8.247854,5.2009325,6.6924157,3.7844155,7.049676,2.3952982,2.4886274,5.0817404,7.122092,4.6321964,5.236871],\"xaxis\":\"x\",\"y\":[6.63001,10.526506,4.627394,6.4281774,11.026214,5.5803294,4.349436,5.064951,8.579591,5.7122474,5.0984826,5.0627713,8.976687,5.1804256,11.038363,10.858689,8.128192,4.3008556,6.2641153,7.9962645],\"yaxis\":\"y\",\"type\":\"scatter\"},{\"hovertemplate\":\"\\u003cb\\u003e%{hovertext}\\u003c\\u002fb\\u003e\\u003cbr\\u003e\\u003cbr\\u003estate=utah\\u003cbr\\u003ex=%{x}\\u003cbr\\u003ey=%{y}\\u003cextra\\u003e\\u003c\\u002fextra\\u003e\",\"hovertext\":[\"provo utah\",\"west valley city utah\",\"south jordan utah\",\"sandy utah\",\"ogden utah\",\"salt lake city utah\",\"logan utah\",\"west jordan utah\",\"spanish fork utah\",\"riverton utah\",\"draper utah\",\"st. george utah\",\"taylorsville utah\",\"orem utah\",\"layton utah\",\"lehi utah\",\"roy utah\",\"murray utah\",\"bountiful utah\"],\"legendgroup\":\"utah\",\"marker\":{\"color\":\"#FF97FF\",\"symbol\":\"circle\"},\"mode\":\"markers\",\"name\":\"utah\",\"orientation\":\"v\",\"showlegend\":true,\"x\":[7.3676543,4.050676,6.2584534,8.696071,7.754125,3.9578483,7.7243686,8.377029,7.8620915,6.8169746,7.88696,7.6282864,6.0143986,8.115168,8.509003,8.041123,8.132633,8.140696,8.378766],\"xaxis\":\"x\",\"y\":[7.6440015,7.117438,6.942815,5.7868752,7.322249,7.142001,7.023843,5.437404,7.518163,6.400335,7.1874523,7.193635,4.2509127,7.8290424,7.2480464,7.420694,7.7862105,6.0981154,6.01709],\"yaxis\":\"y\",\"type\":\"scatter\"},{\"hovertemplate\":\"\\u003cb\\u003e%{hovertext}\\u003c\\u002fb\\u003e\\u003cbr\\u003e\\u003cbr\\u003estate=texas\\u003cbr\\u003ex=%{x}\\u003cbr\\u003ey=%{y}\\u003cextra\\u003e\\u003c\\u002fextra\\u003e\",\"hovertext\":[\"tyler texas\",\"san antonio texas\",\"north richland hills texas\",\"friendswood texas\",\"mansfield texas\",\"lewisville texas\",\"plano texas\",\"huntsville texas\",\"midland texas\",\"beaumont texas\",\"rockwall texas\",\"harlingen texas\",\"temple texas\",\"pearland texas\",\"euless texas\",\"wylie texas\",\"pasadena texas\",\"keller texas\",\"allen texas\",\"burleson texas\",\"san angelo texas\",\"desoto texas\",\"brownsville texas\",\"lancaster texas\",\"san marcos texas\",\"pflugerville texas\",\"austin texas\",\"lubbock texas\",\"odessa texas\",\"mcallen texas\",\"waco texas\",\"richardson texas\",\"bryan texas\",\"edinburg texas\",\"abilene texas\",\"cedar hill texas\",\"longview texas\",\"college station texas\",\"houston texas\",\"new braunfels texas\",\"killeen texas\",\"mission texas\",\"coppell texas\",\"amarillo texas\",\"grand prairie texas\",\"corpus christi texas\",\"texas city texas\",\"bedford texas\",\"georgetown texas\",\"galveston texas\",\"weslaco texas\",\"irving texas\",\"denton texas\",\"flower mound texas\",\"round rock texas\",\"frisco texas\",\"fort worth texas\",\"pharr texas\",\"mesquite texas\",\"missouri city texas\",\"cedar park texas\",\"port arthur texas\",\"hurst texas\",\"league city texas\",\"garland texas\",\"grapevine texas\",\"victoria texas\",\"haltom city texas\",\"the colony texas\",\"conroe texas\",\"sugar land texas\",\"sherman texas\",\"carrollton texas\",\"laredo texas\",\"el paso texas\",\"arlington texas\",\"duncanville texas\",\"dallas texas\",\"rowlett texas\",\"mckinney texas\",\"wichita falls texas\",\"texarkana texas\",\"baytown texas\"],\"legendgroup\":\"texas\",\"marker\":{\"color\":\"#FECB52\",\"symbol\":\"circle\"},\"mode\":\"markers\",\"name\":\"texas\",\"orientation\":\"v\",\"showlegend\":true,\"x\":[5.724528,5.315596,5.89355,7.5299454,5.919235,5.346085,4.8570065,5.3092294,3.513226,7.1555905,6.66823,8.266763,3.856903,4.6757903,7.682469,7.393306,3.296126,4.9387536,6.5372663,4.2568073,4.248232,4.4624233,7.321876,3.834381,4.884662,7.330922,4.485027,4.2423115,4.1201963,6.115833,3.051279,7.730452,6.7881646,5.0673037,4.671942,5.447662,3.9091141,5.7923503,3.7795234,6.0639496,8.500817,5.0801516,2.7295463,4.0423727,5.5082145,3.6021216,5.5022955,2.9668665,5.7087502,2.6958084,2.5019352,3.5138338,5.0490704,3.2330704,6.1475773,4.404134,3.4967306,7.6286097,7.7911825,5.66192,5.906041,4.770969,2.491965,7.086519,8.957329,5.3236184,5.0359793,2.6367927,4.4383163,6.8121758,5.458812,6.602158,3.5900798,8.614983,7.731841,3.208466,5.5523114,3.7966747,7.246958,6.356092,2.8687408,2.856087,8.5821905],\"xaxis\":\"x\",\"y\":[6.4831996,7.5459185,6.226688,4.890025,4.4678435,8.28906,7.5064626,6.495477,9.895703,4.7962065,5.7514243,6.9364877,5.6573863,9.586336,4.835588,4.797283,11.533691,8.546913,5.0689607,9.660418,6.552143,9.248098,4.858635,6.3802943,5.533543,5.114774,9.242624,5.236168,7.0614862,5.4062757,11.169907,7.192344,5.273309,6.092075,7.251844,8.342978,9.4901085,6.5653872,5.5607467,5.512545,5.499289,6.3454084,10.887647,6.9246516,5.672204,5.83454,5.152751,10.608258,6.998867,9.929686,11.360075,5.931303,8.566746,11.203967,4.2867694,8.982633,9.619418,4.793262,7.266504,5.356937,8.181788,9.2679405,11.297634,5.0762553,5.3977475,7.9290037,5.9353356,10.969743,6.6526585,5.48108,6.24735,5.3018274,9.524946,4.7668433,8.363924,11.089203,7.9082875,5.4776897,5.4546843,5.409222,10.716161,10.190263,4.8097854],\"yaxis\":\"y\",\"type\":\"scatter\"},{\"hovertemplate\":\"\\u003cb\\u003e%{hovertext}\\u003c\\u002fb\\u003e\\u003cbr\\u003e\\u003cbr\\u003estate=colorado\\u003cbr\\u003ex=%{x}\\u003cbr\\u003ey=%{y}\\u003cextra\\u003e\\u003c\\u002fextra\\u003e\",\"hovertext\":[\"aurora colorado\",\"broomfield colorado\",\"castle rock colorado\",\"parker colorado\",\"northglenn colorado\",\"longmont colorado\",\"lakewood colorado\",\"grand junction colorado\",\"colorado springs colorado\",\"boulder colorado\",\"arvada colorado\",\"centennial colorado\",\"greeley colorado\",\"denver colorado\",\"thornton colorado\",\"pueblo colorado\",\"fort collins colorado\",\"loveland colorado\",\"littleton colorado\",\"westminster colorado\",\"commerce city colorado\"],\"legendgroup\":\"colorado\",\"marker\":{\"color\":\"#636efa\",\"symbol\":\"circle\"},\"mode\":\"markers\",\"name\":\"colorado\",\"orientation\":\"v\",\"showlegend\":true,\"x\":[7.313123,6.946385,8.169735,5.298881,8.235397,7.7068586,6.2956953,7.200246,3.337103,8.527957,8.765236,3.2158148,6.351971,3.8739228,5.583882,4.542901,6.703526,6.4649916,7.622571,6.1655865,7.2154627],\"xaxis\":\"x\",\"y\":[8.217768,5.425594,6.1658287,8.517373,7.799804,8.2059555,5.17207,6.6915207,10.008142,6.7901225,5.2604294,8.921495,6.594511,7.3364954,8.222464,6.550945,4.7519813,4.361465,7.0902553,5.2499447,6.6236053],\"yaxis\":\"y\",\"type\":\"scatter\"},{\"hovertemplate\":\"\\u003cb\\u003e%{hovertext}\\u003c\\u002fb\\u003e\\u003cbr\\u003e\\u003cbr\\u003estate=oklahoma\\u003cbr\\u003ex=%{x}\\u003cbr\\u003ey=%{y}\\u003cextra\\u003e\\u003c\\u002fextra\\u003e\",\"hovertext\":[\"enid oklahoma\",\"stillwater oklahoma\",\"broken arrow oklahoma\",\"midwest city oklahoma\",\"tulsa oklahoma\",\"norman oklahoma\",\"oklahoma city oklahoma\",\"edmond oklahoma\",\"moore oklahoma\",\"muskogee oklahoma\",\"lawton oklahoma\"],\"legendgroup\":\"oklahoma\",\"marker\":{\"color\":\"#EF553B\",\"symbol\":\"circle\"},\"mode\":\"markers\",\"name\":\"oklahoma\",\"orientation\":\"v\",\"showlegend\":true,\"x\":[5.727805,6.50694,4.9251766,3.9099445,3.7983,5.400121,5.4123707,6.4920235,3.9529731,2.2414882,7.9313774],\"xaxis\":\"x\",\"y\":[5.8451953,5.7088823,9.347672,5.6710215,5.7878404,5.6393065,4.403678,5.606147,7.133656,10.693048,7.7419133],\"yaxis\":\"y\",\"type\":\"scatter\"},{\"hovertemplate\":\"\\u003cb\\u003e%{hovertext}\\u003c\\u002fb\\u003e\\u003cbr\\u003e\\u003cbr\\u003estate=mississippi\\u003cbr\\u003ex=%{x}\\u003cbr\\u003ey=%{y}\\u003cextra\\u003e\\u003c\\u002fextra\\u003e\",\"hovertext\":[\"gulfport mississippi\",\"hattiesburg mississippi\",\"southaven mississippi\",\"biloxi mississippi\",\"meridian mississippi\",\"jackson mississippi\"],\"legendgroup\":\"mississippi\",\"marker\":{\"color\":\"#00cc96\",\"symbol\":\"circle\"},\"mode\":\"markers\",\"name\":\"mississippi\",\"orientation\":\"v\",\"showlegend\":true,\"x\":[4.9660854,3.2668586,7.158837,2.7803116,5.659987,4.8389287],\"xaxis\":\"x\",\"y\":[5.1698008,11.119057,4.9036446,10.594945,4.7511206,6.191701],\"yaxis\":\"y\",\"type\":\"scatter\"},{\"hovertemplate\":\"\\u003cb\\u003e%{hovertext}\\u003c\\u002fb\\u003e\\u003cbr\\u003e\\u003cbr\\u003estate=pennsylvania\\u003cbr\\u003ex=%{x}\\u003cbr\\u003ey=%{y}\\u003cextra\\u003e\\u003c\\u002fextra\\u003e\",\"hovertext\":[\"bethlehem pennsylvania\",\"wilkes-barre pennsylvania\",\"philadelphia pennsylvania\",\"scranton pennsylvania\",\"harrisburg pennsylvania\",\"york pennsylvania\",\"pittsburgh pennsylvania\",\"altoona pennsylvania\",\"allentown pennsylvania\",\"state college pennsylvania\",\"lancaster pennsylvania\",\"erie pennsylvania\",\"reading pennsylvania\"],\"legendgroup\":\"pennsylvania\",\"marker\":{\"color\":\"#ab63fa\",\"symbol\":\"circle\"},\"mode\":\"markers\",\"name\":\"pennsylvania\",\"orientation\":\"v\",\"showlegend\":true,\"x\":[3.6201363,4.423626,3.5878634,5.491056,2.6434653,6.003169,4.1887226,5.899795,3.2481189,3.6035929,2.5951693,2.8048327,4.3992767],\"xaxis\":\"x\",\"y\":[6.887312,6.891588,7.6443024,5.877503,10.86117,4.4195085,10.222295,7.877057,9.661806,9.053029,11.199583,9.4252,7.4262],\"yaxis\":\"y\",\"type\":\"scatter\"},{\"hovertemplate\":\"\\u003cb\\u003e%{hovertext}\\u003c\\u002fb\\u003e\\u003cbr\\u003e\\u003cbr\\u003estate=south carolina\\u003cbr\\u003ex=%{x}\\u003cbr\\u003ey=%{y}\\u003cextra\\u003e\\u003c\\u002fextra\\u003e\",\"hovertext\":[\"spartanburg south carolina\",\"summerville south carolina\",\"goose creek south carolina\",\"rock hill south carolina\",\"mount pleasant south carolina\",\"hilton head island south carolina\",\"columbia south carolina\",\"sumter south carolina\",\"florence south carolina\",\"greenville south carolina\",\"charleston south carolina\",\"north charleston south carolina\"],\"legendgroup\":\"south carolina\",\"marker\":{\"color\":\"#FFA15A\",\"symbol\":\"circle\"},\"mode\":\"markers\",\"name\":\"south carolina\",\"orientation\":\"v\",\"showlegend\":true,\"x\":[2.5090153,3.1648223,6.384331,2.5293002,4.948461,3.1361766,4.2601075,2.093365,3.366117,6.165267,3.4160528,3.4620726],\"xaxis\":\"x\",\"y\":[11.283544,11.25796,4.782609,10.819488,9.239944,11.286966,6.4894304,11.023919,10.70741,5.575873,10.661367,9.340764],\"yaxis\":\"y\",\"type\":\"scatter\"},{\"hovertemplate\":\"\\u003cb\\u003e%{hovertext}\\u003c\\u002fb\\u003e\\u003cbr\\u003e\\u003cbr\\u003estate=illinois\\u003cbr\\u003ex=%{x}\\u003cbr\\u003ey=%{y}\\u003cextra\\u003e\\u003c\\u002fextra\\u003e\",\"hovertext\":[\"evanston illinois\",\"chicago illinois\",\"downers grove illinois\",\"glenview illinois\",\"joliet illinois\",\"dekalb illinois\",\"elmhurst illinois\",\"normal illinois\",\"bloomington illinois\",\"oak lawn illinois\",\"rockford illinois\",\"schaumburg illinois\",\"aurora illinois\",\"skokie illinois\",\"belleville illinois\",\"springfield illinois\",\"arlington heights illinois\",\"wheeling illinois\",\"berwyn illinois\",\"plainfield illinois\",\"urbana illinois\",\"streamwood illinois\",\"carol stream illinois\",\"des plaines illinois\",\"cicero illinois\",\"crystal lake illinois\",\"calumet city illinois\",\"champaign illinois\",\"lombard illinois\",\"orland park illinois\",\"elgin illinois\",\"hoffman estates illinois\",\"waukegan illinois\",\"buffalo grove illinois\",\"wheaton illinois\",\"oak park illinois\",\"palatine illinois\",\"decatur illinois\",\"carpentersville illinois\",\"mount prospect illinois\",\"peoria illinois\",\"bartlett illinois\",\"bolingbrook illinois\",\"quincy illinois\",\"addison illinois\",\"park ridge illinois\",\"rock island illinois\",\"hanover park illinois\",\"moline illinois\",\"romeoville illinois\",\"tinley park illinois\",\"naperville illinois\"],\"legendgroup\":\"illinois\",\"marker\":{\"color\":\"#19d3f3\",\"symbol\":\"circle\"},\"mode\":\"markers\",\"name\":\"illinois\",\"orientation\":\"v\",\"showlegend\":true,\"x\":[2.6125484,2.7567046,6.212696,6.0622396,2.6355786,3.0027263,5.8731794,6.0871835,3.8053303,5.337801,5.398983,7.455735,5.8900123,8.647112,6.2509227,4.077607,6.3358803,2.6843398,5.326758,2.9364848,5.411694,7.1498985,2.1956735,5.45184,5.3335037,7.5263443,4.170706,5.252471,4.8170485,6.0490994,6.0312147,6.563381,2.2468162,7.1468577,4.342877,5.8357024,6.4511642,4.802654,7.3864756,2.2649798,4.541562,5.809494,7.490183,5.5999017,6.2157536,5.4752727,6.0029793,6.632194,4.3564754,2.9739137,7.090834,5.8172903],\"xaxis\":\"x\",\"y\":[11.31455,9.999208,5.529557,7.968087,10.475506,8.724524,4.9015784,4.3431044,9.2784815,6.0255446,7.5820765,5.7759676,4.331653,4.8068447,4.6500154,8.634985,7.519509,9.713608,5.4459844,11.206852,7.0909014,5.4512377,11.113914,5.816885,5.6136937,4.805091,6.746163,4.5921197,7.4712176,8.530959,5.392693,4.376278,10.992879,5.271859,6.518771,8.02786,5.2138195,7.4107156,5.1611366,11.193187,8.698397,8.302726,5.071059,5.2260056,5.168128,6.005189,6.7072663,6.398662,7.3554,10.54741,5.4746594,4.6348634],\"yaxis\":\"y\",\"type\":\"scatter\"},{\"hovertemplate\":\"\\u003cb\\u003e%{hovertext}\\u003c\\u002fb\\u003e\\u003cbr\\u003e\\u003cbr\\u003estate=kentucky\\u003cbr\\u003ex=%{x}\\u003cbr\\u003ey=%{y}\\u003cextra\\u003e\\u003c\\u002fextra\\u003e\",\"hovertext\":[\"bowling green kentucky\",\"lexington-fayette kentucky\",\"owensboro kentucky\",\"covington kentucky\",\"louisville kentucky\"],\"legendgroup\":\"kentucky\",\"marker\":{\"color\":\"#FF6692\",\"symbol\":\"circle\"},\"mode\":\"markers\",\"name\":\"kentucky\",\"orientation\":\"v\",\"showlegend\":true,\"x\":[3.5484834,5.022547,4.430322,3.6704588,3.6063027],\"xaxis\":\"x\",\"y\":[8.023022,6.304566,6.9384894,6.939069,5.9388123],\"yaxis\":\"y\",\"type\":\"scatter\"},{\"hovertemplate\":\"\\u003cb\\u003e%{hovertext}\\u003c\\u002fb\\u003e\\u003cbr\\u003e\\u003cbr\\u003estate=louisiana\\u003cbr\\u003ex=%{x}\\u003cbr\\u003ey=%{y}\\u003cextra\\u003e\\u003c\\u002fextra\\u003e\",\"hovertext\":[\"alexandria louisiana\",\"lake charles louisiana\",\"baton rouge louisiana\",\"kenner louisiana\",\"monroe louisiana\",\"shreveport louisiana\",\"new orleans louisiana\",\"lafayette louisiana\",\"bossier city louisiana\"],\"legendgroup\":\"louisiana\",\"marker\":{\"color\":\"#B6E880\",\"symbol\":\"circle\"},\"mode\":\"markers\",\"name\":\"louisiana\",\"orientation\":\"v\",\"showlegend\":true,\"x\":[5.2785516,3.2678678,5.8973603,6.4222517,2.5190148,3.6584158,3.845601,5.2441993,4.0508714],\"xaxis\":\"x\",\"y\":[5.576823,9.235495,5.4297338,4.61657,11.056241,6.9887447,8.858713,7.861648,6.739631],\"yaxis\":\"y\",\"type\":\"scatter\"},{\"hovertemplate\":\"\\u003cb\\u003e%{hovertext}\\u003c\\u002fb\\u003e\\u003cbr\\u003e\\u003cbr\\u003estate=virginia\\u003cbr\\u003ex=%{x}\\u003cbr\\u003ey=%{y}\\u003cextra\\u003e\\u003c\\u002fextra\\u003e\",\"hovertext\":[\"richmond virginia\",\"harrisonburg virginia\",\"newport news virginia\",\"blacksburg virginia\",\"suffolk virginia\",\"virginia beach virginia\",\"danville virginia\",\"manassas virginia\",\"charlottesville virginia\",\"hampton virginia\",\"leesburg virginia\",\"norfolk virginia\",\"lynchburg virginia\",\"portsmouth virginia\",\"alexandria virginia\",\"roanoke virginia\",\"charleston west virginia\",\"chesapeake virginia\",\"huntington west virginia\"],\"legendgroup\":\"virginia\",\"marker\":{\"color\":\"#FF97FF\",\"symbol\":\"circle\"},\"mode\":\"markers\",\"name\":\"virginia\",\"orientation\":\"v\",\"showlegend\":true,\"x\":[5.4675145,3.9629562,2.8886306,7.362374,6.7976155,3.2756097,2.4622228,2.7152858,5.2370934,3.6486323,5.6290197,6.090486,3.3284311,4.107636,5.7835608,6.0502295,6.5161934,5.9736886,3.7540147],\"xaxis\":\"x\",\"y\":[4.60595,6.663499,9.567786,7.058187,4.210465,9.688306,10.918019,10.809819,7.265375,9.765394,7.2471013,7.898599,8.541773,10.151948,7.76094,7.0423355,6.6424575,7.418827,6.6303973],\"yaxis\":\"y\",\"type\":\"scatter\"},{\"hovertemplate\":\"\\u003cb\\u003e%{hovertext}\\u003c\\u002fb\\u003e\\u003cbr\\u003e\\u003cbr\\u003estate=new york\\u003cbr\\u003ex=%{x}\\u003cbr\\u003ey=%{y}\\u003cextra\\u003e\\u003c\\u002fextra\\u003e\",\"hovertext\":[\"niagara falls new york\",\"white plains new york\",\"mount vernon new york\",\"new york new york\",\"yonkers new york\",\"schenectady new york\",\"binghamton new york\",\"new rochelle new york\",\"hempstead new york\",\"rochester new york\",\"buffalo new york\",\"utica new york\",\"albany new york\",\"syracuse new york\",\"valley stream new york\",\"troy new york\",\"freeport new york\"],\"legendgroup\":\"new york\",\"marker\":{\"color\":\"#FECB52\",\"symbol\":\"circle\"},\"mode\":\"markers\",\"name\":\"new york\",\"orientation\":\"v\",\"showlegend\":true,\"x\":[7.59453,4.2240887,4.412587,3.7346961,3.3061192,4.9768977,4.1955743,2.059539,3.9222994,5.642547,3.6230466,2.5127814,4.10922,4.363346,2.0119834,3.917963,7.4169736],\"xaxis\":\"x\",\"y\":[5.49555,5.547146,8.656949,7.216211,8.073035,6.6483574,7.7324357,10.818715,8.603287,5.6162353,7.724351,10.179064,7.7416205,9.3711815,10.899051,8.3146515,4.714293],\"yaxis\":\"y\",\"type\":\"scatter\"},{\"hovertemplate\":\"\\u003cb\\u003e%{hovertext}\\u003c\\u002fb\\u003e\\u003cbr\\u003e\\u003cbr\\u003estate=minnesota\\u003cbr\\u003ex=%{x}\\u003cbr\\u003ey=%{y}\\u003cextra\\u003e\\u003c\\u002fextra\\u003e\",\"hovertext\":[\"st. paul minnesota\",\"blaine minnesota\",\"st. cloud minnesota\",\"maplewood minnesota\",\"brooklyn park minnesota\",\"duluth minnesota\",\"eden prairie minnesota\",\"apple valley minnesota\",\"minneapolis minnesota\",\"woodbury minnesota\",\"st. louis park minnesota\",\"edina minnesota\",\"eagan minnesota\",\"burnsville minnesota\",\"maple grove minnesota\",\"mankato minnesota\",\"lakeville minnesota\",\"rochester minnesota\",\"plymouth minnesota\",\"shakopee minnesota\",\"bloomington minnesota\",\"coon rapids minnesota\",\"minnetonka minnesota\",\"moorhead minnesota\"],\"legendgroup\":\"minnesota\",\"marker\":{\"color\":\"#636efa\",\"symbol\":\"circle\"},\"mode\":\"markers\",\"name\":\"minnesota\",\"orientation\":\"v\",\"showlegend\":true,\"x\":[3.4881942,6.469689,4.5179925,6.5750604,5.385848,5.953163,7.702705,7.726018,3.884667,5.011635,5.4510465,7.2116666,7.236445,7.634975,6.840356,5.712323,8.8255625,4.9753065,6.254079,7.3290687,5.4736934,5.8686633,7.58022,8.3723755],\"xaxis\":\"x\",\"y\":[8.315907,5.355984,7.5539026,5.684986,7.151611,7.2865644,6.9141903,5.4085655,7.2625337,4.841048,6.3880644,6.0634456,6.299606,6.4046407,5.0667186,4.5863967,6.104496,5.019207,5.700823,4.9740906,6.2741065,6.6771474,5.9870396,4.9076724],\"yaxis\":\"y\",\"type\":\"scatter\"},{\"hovertemplate\":\"\\u003cb\\u003e%{hovertext}\\u003c\\u002fb\\u003e\\u003cbr\\u003e\\u003cbr\\u003estate=tennessee\\u003cbr\\u003ex=%{x}\\u003cbr\\u003ey=%{y}\\u003cextra\\u003e\\u003c\\u002fextra\\u003e\",\"hovertext\":[\"knoxville tennessee\",\"smyrna tennessee\",\"memphis tennessee\",\"collierville tennessee\",\"kingsport tennessee\",\"clarksville tennessee\",\"nashville tennessee\",\"murfreesboro tennessee\",\"franklin tennessee\",\"bartlett tennessee\",\"germantown tennessee\",\"hendersonville tennessee\",\"chattanooga tennessee\",\"cleveland tennessee\",\"johnson city tennessee\",\"jackson tennessee\",\"brentwood tennessee\"],\"legendgroup\":\"tennessee\",\"marker\":{\"color\":\"#EF553B\",\"symbol\":\"circle\"},\"mode\":\"markers\",\"name\":\"tennessee\",\"orientation\":\"v\",\"showlegend\":true,\"x\":[4.2283726,3.4531388,3.718062,2.8782551,5.3082705,4.3526134,4.173929,2.264923,5.2422705,6.495686,3.1372757,6.49153,3.9987268,3.6397777,4.803332,5.9275403,5.2122126],\"xaxis\":\"x\",\"y\":[7.4387503,8.6317425,9.226241,10.999354,6.166389,8.775897,10.347409,11.179854,7.9677277,6.02685,11.069593,4.5772285,9.695138,7.0252814,7.5319767,4.4991384,6.665122],\"yaxis\":\"y\",\"type\":\"scatter\"},{\"hovertemplate\":\"\\u003cb\\u003e%{hovertext}\\u003c\\u002fb\\u003e\\u003cbr\\u003e\\u003cbr\\u003estate=georgia\\u003cbr\\u003ex=%{x}\\u003cbr\\u003ey=%{y}\\u003cextra\\u003e\\u003c\\u002fextra\\u003e\",\"hovertext\":[\"atlanta georgia\",\"brookhaven georgia\",\"roswell georgia\",\"macon georgia\",\"augusta-richmond county georgia\",\"johns creek georgia\",\"peachtree corners georgia\",\"dunwoody georgia\",\"alpharetta georgia\",\"sandy springs georgia\",\"valdosta georgia\",\"smyrna georgia\",\"albany georgia\",\"warner robins georgia\",\"athens-clarke county georgia\",\"columbus georgia\",\"marietta georgia\",\"savannah georgia\"],\"legendgroup\":\"georgia\",\"marker\":{\"color\":\"#00cc96\",\"symbol\":\"circle\"},\"mode\":\"markers\",\"name\":\"georgia\",\"orientation\":\"v\",\"showlegend\":true,\"x\":[2.8888707,4.3499346,2.1649106,5.060614,5.897936,5.1066623,6.0614924,2.6577048,7.072137,3.9746292,3.2894816,2.0190578,6.3056793,5.3522615,4.723002,4.344163,5.6098766,4.420776],\"xaxis\":\"x\",\"y\":[9.394477,8.223937,10.95058,8.408115,6.8737626,7.228615,5.5679603,10.423595,7.968016,8.058917,11.129043,10.919148,6.598855,6.175357,6.10759,9.630392,7.421051,8.2092085],\"yaxis\":\"y\",\"type\":\"scatter\"},{\"hovertemplate\":\"\\u003cb\\u003e%{hovertext}\\u003c\\u002fb\\u003e\\u003cbr\\u003e\\u003cbr\\u003estate=maryland\\u003cbr\\u003ex=%{x}\\u003cbr\\u003ey=%{y}\\u003cextra\\u003e\\u003c\\u002fextra\\u003e\",\"hovertext\":[\"frederick maryland\",\"baltimore maryland\",\"gaithersburg maryland\",\"rockville maryland\",\"bowie maryland\",\"annapolis maryland\",\"hagerstown maryland\"],\"legendgroup\":\"maryland\",\"marker\":{\"color\":\"#ab63fa\",\"symbol\":\"circle\"},\"mode\":\"markers\",\"name\":\"maryland\",\"orientation\":\"v\",\"showlegend\":true,\"x\":[7.51622,3.667165,7.026149,3.9545507,6.975784,6.354543,4.6484013],\"xaxis\":\"x\",\"y\":[5.5180464,6.6869416,4.4290676,5.927545,4.7482615,8.014691,9.150313],\"yaxis\":\"y\",\"type\":\"scatter\"},{\"hovertemplate\":\"\\u003cb\\u003e%{hovertext}\\u003c\\u002fb\\u003e\\u003cbr\\u003e\\u003cbr\\u003estate=rhode island\\u003cbr\\u003ex=%{x}\\u003cbr\\u003ey=%{y}\\u003cextra\\u003e\\u003c\\u002fextra\\u003e\",\"hovertext\":[\"cranston rhode island\",\"woonsocket rhode island\",\"east providence rhode island\",\"providence rhode island\",\"warwick rhode island\",\"pawtucket rhode island\"],\"legendgroup\":\"rhode island\",\"marker\":{\"color\":\"#FFA15A\",\"symbol\":\"circle\"},\"mode\":\"markers\",\"name\":\"rhode island\",\"orientation\":\"v\",\"showlegend\":true,\"x\":[5.788537,4.9895,2.3913002,3.7427504,5.6096625,4.800802],\"xaxis\":\"x\",\"y\":[8.200319,6.6333547,10.826156,7.9754605,8.437637,9.181657],\"yaxis\":\"y\",\"type\":\"scatter\"},{\"hovertemplate\":\"\\u003cb\\u003e%{hovertext}\\u003c\\u002fb\\u003e\\u003cbr\\u003e\\u003cbr\\u003estate=idaho\\u003cbr\\u003ex=%{x}\\u003cbr\\u003ey=%{y}\\u003cextra\\u003e\\u003c\\u002fextra\\u003e\",\"hovertext\":[\"nampa idaho\",\"caldwell idaho\",\"twin falls idaho\",\"meridian idaho\",\"pocatello idaho\",\"boise city idaho\",\"idaho falls idaho\",\"coeur d alene idaho\"],\"legendgroup\":\"idaho\",\"marker\":{\"color\":\"#19d3f3\",\"symbol\":\"circle\"},\"mode\":\"markers\",\"name\":\"idaho\",\"orientation\":\"v\",\"showlegend\":true,\"x\":[7.5896144,7.3466887,8.496299,4.519235,7.82502,5.32189,6.8226433,7.58134],\"xaxis\":\"x\",\"y\":[6.6965346,6.2642975,7.1535044,5.417198,7.8676386,7.0986776,6.5203147,6.3650746],\"yaxis\":\"y\",\"type\":\"scatter\"},{\"hovertemplate\":\"\\u003cb\\u003e%{hovertext}\\u003c\\u002fb\\u003e\\u003cbr\\u003e\\u003cbr\\u003estate=oregon\\u003cbr\\u003ex=%{x}\\u003cbr\\u003ey=%{y}\\u003cextra\\u003e\\u003c\\u002fextra\\u003e\",\"hovertext\":[\"hillsboro oregon\",\"tigard oregon\",\"medford oregon\",\"portland oregon\",\"springfield oregon\",\"lake oswego oregon\",\"eugene oregon\",\"beaverton oregon\",\"salem oregon\",\"albany oregon\",\"bend oregon\",\"gresham oregon\",\"keizer oregon\",\"corvallis oregon\"],\"legendgroup\":\"oregon\",\"marker\":{\"color\":\"#FF6692\",\"symbol\":\"circle\"},\"mode\":\"markers\",\"name\":\"oregon\",\"orientation\":\"v\",\"showlegend\":true,\"x\":[4.2880106,7.6114793,7.5733113,5.977791,6.387698,8.4287405,4.6378293,7.27591,4.354105,7.230355,7.380455,7.398113,3.9915612,5.4696174],\"xaxis\":\"x\",\"y\":[9.110525,6.5130577,6.5291004,7.560458,5.125171,5.93671,6.623154,6.1147904,8.510675,6.4320865,7.1344757,6.415578,7.1930127,7.6682515],\"yaxis\":\"y\",\"type\":\"scatter\"},{\"hovertemplate\":\"\\u003cb\\u003e%{hovertext}\\u003c\\u002fb\\u003e\\u003cbr\\u003e\\u003cbr\\u003estate=south dakota\\u003cbr\\u003ex=%{x}\\u003cbr\\u003ey=%{y}\\u003cextra\\u003e\\u003c\\u002fextra\\u003e\",\"hovertext\":[\"sioux falls south dakota\",\"rapid city south dakota\"],\"legendgroup\":\"south dakota\",\"marker\":{\"color\":\"#B6E880\",\"symbol\":\"circle\"},\"mode\":\"markers\",\"name\":\"south dakota\",\"orientation\":\"v\",\"showlegend\":true,\"x\":[5.69772,5.1990223],\"xaxis\":\"x\",\"y\":[8.267794,7.55184],\"yaxis\":\"y\",\"type\":\"scatter\"},{\"hovertemplate\":\"\\u003cb\\u003e%{hovertext}\\u003c\\u002fb\\u003e\\u003cbr\\u003e\\u003cbr\\u003estate=arizona\\u003cbr\\u003ex=%{x}\\u003cbr\\u003ey=%{y}\\u003cextra\\u003e\\u003c\\u002fextra\\u003e\",\"hovertext\":[\"apache junction arizona\",\"sierra vista arizona\",\"prescott arizona\",\"surprise arizona\",\"chandler arizona\",\"glendale arizona\",\"maricopa arizona\",\"yuma arizona\",\"buckeye arizona\",\"mesa arizona\",\"prescott valley arizona\",\"scottsdale arizona\",\"flagstaff arizona\",\"casa grande arizona\",\"marana arizona\",\"bullhead city arizona\",\"oro valley arizona\",\"tucson arizona\",\"tempe arizona\",\"phoenix arizona\",\"avondale arizona\",\"lake havasu city arizona\",\"gilbert arizona\",\"goodyear arizona\",\"peoria arizona\"],\"legendgroup\":\"arizona\",\"marker\":{\"color\":\"#FF97FF\",\"symbol\":\"circle\"},\"mode\":\"markers\",\"name\":\"arizona\",\"orientation\":\"v\",\"showlegend\":true,\"x\":[8.135611,7.770489,3.5371437,8.163694,8.297054,6.6711383,8.673008,8.186919,7.043141,7.003248,8.702553,8.82966,8.066473,3.9768653,8.571862,8.709305,3.644178,8.317428,4.011028,3.9612458,2.742805,8.084668,6.9107065,8.110812,8.816684],\"xaxis\":\"x\",\"y\":[7.731248,7.4286585,9.057327,7.211096,7.513809,7.45709,5.1756997,7.499955,7.233136,5.9042034,5.075212,5.307581,7.7543607,9.901165,6.360502,5.135258,8.460586,7.357177,9.979411,5.9187627,11.107151,6.530773,6.707445,7.6014886,5.108904],\"yaxis\":\"y\",\"type\":\"scatter\"},{\"hovertemplate\":\"\\u003cb\\u003e%{hovertext}\\u003c\\u002fb\\u003e\\u003cbr\\u003e\\u003cbr\\u003estate=iowa\\u003cbr\\u003ex=%{x}\\u003cbr\\u003ey=%{y}\\u003cextra\\u003e\\u003c\\u002fextra\\u003e\",\"hovertext\":[\"iowa city iowa\",\"des moines iowa\",\"davenport iowa\",\"council bluffs iowa\",\"ankeny iowa\",\"urbandale iowa\",\"waterloo iowa\",\"dubuque iowa\",\"west des moines iowa\",\"cedar rapids iowa\",\"cedar falls iowa\",\"sioux city iowa\",\"ames iowa\"],\"legendgroup\":\"iowa\",\"marker\":{\"color\":\"#FECB52\",\"symbol\":\"circle\"},\"mode\":\"markers\",\"name\":\"iowa\",\"orientation\":\"v\",\"showlegend\":true,\"x\":[6.710013,5.3984294,4.105602,5.3883033,2.682857,2.1937892,4.609349,4.8195076,4.3015447,2.9247158,2.5404513,5.08022,5.7543507],\"xaxis\":\"x\",\"y\":[6.2589536,5.763884,6.6366277,8.26231,11.07306,10.788613,7.932387,8.373451,9.429843,10.617161,11.034035,6.1038465,6.085636],\"yaxis\":\"y\",\"type\":\"scatter\"},{\"hovertemplate\":\"\\u003cb\\u003e%{hovertext}\\u003c\\u002fb\\u003e\\u003cbr\\u003e\\u003cbr\\u003estate=north carolina\\u003cbr\\u003ex=%{x}\\u003cbr\\u003ey=%{y}\\u003cextra\\u003e\\u003c\\u002fextra\\u003e\",\"hovertext\":[\"winston-salem north carolina\",\"greensboro north carolina\",\"fayetteville north carolina\",\"concord north carolina\",\"greenville north carolina\",\"burlington north carolina\",\"charlotte north carolina\",\"hickory north carolina\",\"kannapolis north carolina\",\"gastonia north carolina\",\"jacksonville north carolina\",\"durham north carolina\",\"asheville north carolina\",\"cary north carolina\",\"wilmington north carolina\",\"wilson north carolina\",\"raleigh north carolina\",\"huntersville north carolina\",\"apex north carolina\",\"high point north carolina\",\"chapel hill north carolina\",\"rocky mount north carolina\"],\"legendgroup\":\"north carolina\",\"marker\":{\"color\":\"#636efa\",\"symbol\":\"circle\"},\"mode\":\"markers\",\"name\":\"north carolina\",\"orientation\":\"v\",\"showlegend\":true,\"x\":[3.1024942,3.0702894,4.2970214,5.445803,3.5734594,3.621395,3.3981016,2.3228357,4.4238076,2.1322045,2.9650257,5.3163533,6.5122147,3.5727394,3.3480952,4.351579,5.7391877,7.5916815,6.0630484,2.7612395,2.8301222,2.136905],\"xaxis\":\"x\",\"y\":[8.278728,8.254995,8.716338,8.032446,9.941888,9.327628,9.64738,10.494335,8.795406,10.86362,9.465894,4.5067034,6.825625,9.226546,8.010965,9.387607,5.484634,8.233467,6.306676,9.429512,11.313958,11.030977],\"yaxis\":\"y\",\"type\":\"scatter\"},{\"hovertemplate\":\"\\u003cb\\u003e%{hovertext}\\u003c\\u002fb\\u003e\\u003cbr\\u003e\\u003cbr\\u003estate=jersey\\u003cbr\\u003ex=%{x}\\u003cbr\\u003ey=%{y}\\u003cextra\\u003e\\u003c\\u002fextra\\u003e\",\"hovertext\":[\"west new york new jersey\",\"paterson new jersey\",\"vineland new jersey\",\"passaic new jersey\",\"atlantic city new jersey\",\"kearny new jersey\",\"trenton new jersey\",\"clifton new jersey\",\"sayreville new jersey\",\"bayonne new jersey\",\"jersey city new jersey\",\"perth amboy new jersey\",\"camden new jersey\",\"union city new jersey\",\"linden new jersey\",\"elizabeth new jersey\",\"hoboken new jersey\",\"plainfield new jersey\",\"new brunswick new jersey\",\"hackensack new jersey\",\"newark new jersey\",\"east orange new jersey\"],\"legendgroup\":\"jersey\",\"marker\":{\"color\":\"#EF553B\",\"symbol\":\"circle\"},\"mode\":\"markers\",\"name\":\"jersey\",\"orientation\":\"v\",\"showlegend\":true,\"x\":[3.751126,4.182694,4.6250386,5.230168,3.108031,3.1644478,6.842446,5.0855713,3.0362918,5.605493,3.6200938,2.6191218,3.2127903,4.7706766,6.013798,3.0973737,2.3422282,5.6805353,3.3365278,6.5463047,3.8331175,3.4044952],\"xaxis\":\"x\",\"y\":[7.792797,7.3412623,6.705483,6.5209684,9.304627,8.485505,6.271626,7.3917785,8.454925,7.5779915,6.831448,10.916829,8.392867,6.2288775,7.601734,8.379226,10.66379,7.3561234,7.73317,7.286099,7.669507,8.192848],\"yaxis\":\"y\",\"type\":\"scatter\"},{\"hovertemplate\":\"\\u003cb\\u003e%{hovertext}\\u003c\\u002fb\\u003e\\u003cbr\\u003e\\u003cbr\\u003estate=nebraska\\u003cbr\\u003ex=%{x}\\u003cbr\\u003ey=%{y}\\u003cextra\\u003e\\u003c\\u002fextra\\u003e\",\"hovertext\":[\"omaha nebraska\",\"grand island nebraska\",\"lincoln nebraska\",\"bellevue nebraska\"],\"legendgroup\":\"nebraska\",\"marker\":{\"color\":\"#00cc96\",\"symbol\":\"circle\"},\"mode\":\"markers\",\"name\":\"nebraska\",\"orientation\":\"v\",\"showlegend\":true,\"x\":[3.719432,7.447446,5.121593,5.818766],\"xaxis\":\"x\",\"y\":[6.0133963,7.112144,6.471218,8.31148],\"yaxis\":\"y\",\"type\":\"scatter\"},{\"hovertemplate\":\"\\u003cb\\u003e%{hovertext}\\u003c\\u002fb\\u003e\\u003cbr\\u003e\\u003cbr\\u003estate=indiana\\u003cbr\\u003ex=%{x}\\u003cbr\\u003ey=%{y}\\u003cextra\\u003e\\u003c\\u002fextra\\u003e\",\"hovertext\":[\"gary indiana\",\"lafayette indiana\",\"muncie indiana\",\"evansville indiana\",\"jeffersonville indiana\",\"carmel indiana\",\"indianapolis indiana\",\"terre haute indiana\",\"south bend indiana\",\"greenwood indiana\",\"bloomington indiana\",\"kokomo indiana\",\"columbus indiana\",\"noblesville indiana\",\"lawrence indiana\",\"hammond indiana\",\"mishawaka indiana\",\"anderson indiana\",\"fishers indiana\",\"elkhart indiana\",\"fort wayne indiana\"],\"legendgroup\":\"indiana\",\"marker\":{\"color\":\"#ab63fa\",\"symbol\":\"circle\"},\"mode\":\"markers\",\"name\":\"indiana\",\"orientation\":\"v\",\"showlegend\":true,\"x\":[2.5667992,4.490633,3.9966884,3.1078522,4.075647,7.490067,3.8845012,3.5975883,5.650463,5.381172,5.5796757,6.2639165,5.5965214,3.0233092,2.173156,3.7512517,5.9585657,5.812183,7.000293,3.4254866,3.917343],\"xaxis\":\"x\",\"y\":[10.883753,6.502385,6.5459156,9.157255,9.428875,5.3201323,9.859076,6.881932,4.5338244,6.817621,7.438573,4.4516616,4.3429937,9.180012,10.762148,9.626335,5.9956923,6.18165,5.0430374,8.941008,5.959158],\"yaxis\":\"y\",\"type\":\"scatter\"},{\"hovertemplate\":\"\\u003cb\\u003e%{hovertext}\\u003c\\u002fb\\u003e\\u003cbr\\u003e\\u003cbr\\u003estate=kansas\\u003cbr\\u003ex=%{x}\\u003cbr\\u003ey=%{y}\\u003cextra\\u003e\\u003c\\u002fextra\\u003e\",\"hovertext\":[\"lawrence kansas\",\"shawnee kansas\",\"olathe kansas\",\"wichita kansas\",\"lenexa kansas\",\"hutchinson kansas\",\"topeka kansas\",\"manhattan kansas\",\"overland park kansas\",\"salina kansas\",\"kansas city kansas\"],\"legendgroup\":\"kansas\",\"marker\":{\"color\":\"#FFA15A\",\"symbol\":\"circle\"},\"mode\":\"markers\",\"name\":\"kansas\",\"orientation\":\"v\",\"showlegend\":true,\"x\":[4.803361,4.6541862,6.6811185,3.9271595,7.4893084,3.970669,4.369239,3.792456,4.0439076,8.770631,4.434654],\"xaxis\":\"x\",\"y\":[6.716318,8.463815,6.255286,5.9946833,6.832572,6.3348627,9.377555,7.323763,7.945121,5.0459857,7.6553087],\"yaxis\":\"y\",\"type\":\"scatter\"},{\"hovertemplate\":\"\\u003cb\\u003e%{hovertext}\\u003c\\u002fb\\u003e\\u003cbr\\u003e\\u003cbr\\u003estate=alabama\\u003cbr\\u003ex=%{x}\\u003cbr\\u003ey=%{y}\\u003cextra\\u003e\\u003c\\u002fextra\\u003e\",\"hovertext\":[\"phenix city alabama\",\"dothan alabama\",\"huntsville alabama\",\"tuscaloosa alabama\",\"auburn alabama\",\"montgomery alabama\",\"mobile alabama\",\"birmingham alabama\",\"hoover alabama\",\"florence alabama\",\"decatur alabama\",\"madison alabama\"],\"legendgroup\":\"alabama\",\"marker\":{\"color\":\"#19d3f3\",\"symbol\":\"circle\"},\"mode\":\"markers\",\"name\":\"alabama\",\"orientation\":\"v\",\"showlegend\":true,\"x\":[5.7733545,4.578458,3.5585768,2.3884,6.1190104,4.425456,4.403892,3.6859019,4.2028465,5.310524,4.103314,2.8059266],\"xaxis\":\"x\",\"y\":[6.8238673,9.421756,9.688382,10.731219,6.8916926,6.385348,9.316856,9.661025,7.565963,5.4624405,9.5197315,10.822589],\"yaxis\":\"y\",\"type\":\"scatter\"},{\"hovertemplate\":\"\\u003cb\\u003e%{hovertext}\\u003c\\u002fb\\u003e\\u003cbr\\u003e\\u003cbr\\u003estate=new hampshire\\u003cbr\\u003ex=%{x}\\u003cbr\\u003ey=%{y}\\u003cextra\\u003e\\u003c\\u002fextra\\u003e\",\"hovertext\":[\"manchester new hampshire\",\"concord new hampshire\",\"nashua new hampshire\"],\"legendgroup\":\"new hampshire\",\"marker\":{\"color\":\"#FF6692\",\"symbol\":\"circle\"},\"mode\":\"markers\",\"name\":\"new hampshire\",\"orientation\":\"v\",\"showlegend\":true,\"x\":[5.8963833,6.151958,3.223536],\"xaxis\":\"x\",\"y\":[5.5785418,4.678803,10.999864],\"yaxis\":\"y\",\"type\":\"scatter\"},{\"hovertemplate\":\"\\u003cb\\u003e%{hovertext}\\u003c\\u002fb\\u003e\\u003cbr\\u003e\\u003cbr\\u003estate=arkansas\\u003cbr\\u003ex=%{x}\\u003cbr\\u003ey=%{y}\\u003cextra\\u003e\\u003c\\u002fextra\\u003e\",\"hovertext\":[\"conway arkansas\",\"north little rock arkansas\",\"springdale arkansas\",\"bentonville arkansas\",\"fayetteville arkansas\",\"rogers arkansas\",\"fort smith arkansas\",\"jonesboro arkansas\",\"pine bluff arkansas\",\"little rock arkansas\"],\"legendgroup\":\"arkansas\",\"marker\":{\"color\":\"#B6E880\",\"symbol\":\"circle\"},\"mode\":\"markers\",\"name\":\"arkansas\",\"orientation\":\"v\",\"showlegend\":true,\"x\":[7.0671964,3.8922489,5.6129518,3.758217,6.666645,4.2746453,4.653759,5.2528358,4.5958853,6.0279245],\"xaxis\":\"x\",\"y\":[6.1833563,7.985176,5.4339633,9.513213,6.097525,7.265687,6.290948,7.7660284,6.7024565,7.5131207],\"yaxis\":\"y\",\"type\":\"scatter\"},{\"hovertemplate\":\"\\u003cb\\u003e%{hovertext}\\u003c\\u002fb\\u003e\\u003cbr\\u003e\\u003cbr\\u003estate=new mexico\\u003cbr\\u003ex=%{x}\\u003cbr\\u003ey=%{y}\\u003cextra\\u003e\\u003c\\u002fextra\\u003e\",\"hovertext\":[\"rio rancho new mexico\",\"roswell new mexico\",\"las cruces new mexico\",\"clovis new mexico\",\"albuquerque new mexico\",\"farmington new mexico\",\"santa fe new mexico\"],\"legendgroup\":\"new mexico\",\"marker\":{\"color\":\"#FF97FF\",\"symbol\":\"circle\"},\"mode\":\"markers\",\"name\":\"new mexico\",\"orientation\":\"v\",\"showlegend\":true,\"x\":[8.490921,8.096511,4.0016627,5.764005,4.2253046,5.826415,8.289464],\"xaxis\":\"x\",\"y\":[5.6131697,5.534396,5.5817165,6.2610435,7.491394,6.2916956,7.6078596],\"yaxis\":\"y\",\"type\":\"scatter\"},{\"hovertemplate\":\"\\u003cb\\u003e%{hovertext}\\u003c\\u002fb\\u003e\\u003cbr\\u003e\\u003cbr\\u003estate=California\\u003cbr\\u003ex=%{x}\\u003cbr\\u003ey=%{y}\\u003cextra\\u003e\\u003c\\u002fextra\\u003e\",\"hovertext\":[\"ventura California\"],\"legendgroup\":\"California\",\"marker\":{\"color\":\"#FECB52\",\"symbol\":\"circle\"},\"mode\":\"markers\",\"name\":\"California\",\"orientation\":\"v\",\"showlegend\":true,\"x\":[7.3154764],\"xaxis\":\"x\",\"y\":[7.1829915],\"yaxis\":\"y\",\"type\":\"scatter\"},{\"hovertemplate\":\"\\u003cb\\u003e%{hovertext}\\u003c\\u002fb\\u003e\\u003cbr\\u003e\\u003cbr\\u003estate=montana\\u003cbr\\u003ex=%{x}\\u003cbr\\u003ey=%{y}\\u003cextra\\u003e\\u003c\\u002fextra\\u003e\",\"hovertext\":[\"bozeman montana\",\"great falls montana\",\"billings montana\",\"missoula montana\"],\"legendgroup\":\"montana\",\"marker\":{\"color\":\"#636efa\",\"symbol\":\"circle\"},\"mode\":\"markers\",\"name\":\"montana\",\"orientation\":\"v\",\"showlegend\":true,\"x\":[5.117829,5.8884974,8.764396,6.178904],\"xaxis\":\"x\",\"y\":[6.7813478,8.205964,5.0393257,6.385789],\"yaxis\":\"y\",\"type\":\"scatter\"},{\"hovertemplate\":\"\\u003cb\\u003e%{hovertext}\\u003c\\u002fb\\u003e\\u003cbr\\u003e\\u003cbr\\u003estate=missouri\\u003cbr\\u003ex=%{x}\\u003cbr\\u003ey=%{y}\\u003cextra\\u003e\\u003c\\u002fextra\\u003e\",\"hovertext\":[\"st. peters missouri\",\"o fallon missouri\",\"blue springs missouri\",\"lee s summit missouri\",\"kansas city missouri\",\"florissant missouri\",\"chesterfield missouri\",\"jefferson city missouri\",\"cape girardeau missouri\",\"joplin missouri\",\"springfield missouri\",\"st. louis missouri\",\"columbia missouri\",\"st. joseph missouri\",\"st. charles missouri\",\"independence missouri\"],\"legendgroup\":\"missouri\",\"marker\":{\"color\":\"#EF553B\",\"symbol\":\"circle\"},\"mode\":\"markers\",\"name\":\"missouri\",\"orientation\":\"v\",\"showlegend\":true,\"x\":[4.6664257,6.0956016,7.8815374,6.545326,5.5254087,4.9396043,4.826315,4.6729245,3.2369864,5.3662915,6.6297374,3.3336546,4.136452,8.421312,5.450796,4.566663],\"xaxis\":\"x\",\"y\":[5.823024,5.875202,6.2753487,5.365717,4.665709,8.593876,8.706052,7.894289,10.4330635,4.856723,6.1848187,10.533309,7.8433185,4.8629103,7.5846653,5.2354345],\"yaxis\":\"y\",\"type\":\"scatter\"},{\"hovertemplate\":\"\\u003cb\\u003e%{hovertext}\\u003c\\u002fb\\u003e\\u003cbr\\u003e\\u003cbr\\u003estate=north dakota\\u003cbr\\u003ex=%{x}\\u003cbr\\u003ey=%{y}\\u003cextra\\u003e\\u003c\\u002fextra\\u003e\",\"hovertext\":[\"fargo north dakota\",\"grand forks north dakota\",\"minot north dakota\",\"bismarck north dakota\"],\"legendgroup\":\"north dakota\",\"marker\":{\"color\":\"#00cc96\",\"symbol\":\"circle\"},\"mode\":\"markers\",\"name\":\"north dakota\",\"orientation\":\"v\",\"showlegend\":true,\"x\":[3.669898,6.27551,8.37424,4.8498373],\"xaxis\":\"x\",\"y\":[6.787964,4.8552666,4.6294103,8.753934],\"yaxis\":\"y\",\"type\":\"scatter\"},{\"hovertemplate\":\"\\u003cb\\u003e%{hovertext}\\u003c\\u002fb\\u003e\\u003cbr\\u003e\\u003cbr\\u003estate=columbia\\u003cbr\\u003ex=%{x}\\u003cbr\\u003ey=%{y}\\u003cextra\\u003e\\u003c\\u002fextra\\u003e\",\"hovertext\":[\"washington district of columbia\"],\"legendgroup\":\"columbia\",\"marker\":{\"color\":\"#ab63fa\",\"symbol\":\"circle\"},\"mode\":\"markers\",\"name\":\"columbia\",\"orientation\":\"v\",\"showlegend\":true,\"x\":[4.6507163],\"xaxis\":\"x\",\"y\":[7.750778],\"yaxis\":\"y\",\"type\":\"scatter\"},{\"hovertemplate\":\"\\u003cb\\u003e%{hovertext}\\u003c\\u002fb\\u003e\\u003cbr\\u003e\\u003cbr\\u003estate=nevada\\u003cbr\\u003ex=%{x}\\u003cbr\\u003ey=%{y}\\u003cextra\\u003e\\u003c\\u002fextra\\u003e\",\"hovertext\":[\"sparks nevada\",\"north las vegas nevada\",\"reno nevada\",\"carson city nevada\",\"las vegas nevada\",\"henderson nevada\"],\"legendgroup\":\"nevada\",\"marker\":{\"color\":\"#FFA15A\",\"symbol\":\"circle\"},\"mode\":\"markers\",\"name\":\"nevada\",\"orientation\":\"v\",\"showlegend\":true,\"x\":[4.0129747,3.5623984,3.8192008,5.815874,3.6305065,8.030136],\"xaxis\":\"x\",\"y\":[5.834938,5.92851,6.9961076,6.9498763,6.588041,7.756047],\"yaxis\":\"y\",\"type\":\"scatter\"},{\"hovertemplate\":\"\\u003cb\\u003e%{hovertext}\\u003c\\u002fb\\u003e\\u003cbr\\u003e\\u003cbr\\u003estate=alaska\\u003cbr\\u003ex=%{x}\\u003cbr\\u003ey=%{y}\\u003cextra\\u003e\\u003c\\u002fextra\\u003e\",\"hovertext\":[\"anchorage alaska\"],\"legendgroup\":\"alaska\",\"marker\":{\"color\":\"#19d3f3\",\"symbol\":\"circle\"},\"mode\":\"markers\",\"name\":\"alaska\",\"orientation\":\"v\",\"showlegend\":true,\"x\":[7.4867887],\"xaxis\":\"x\",\"y\":[6.661399],\"yaxis\":\"y\",\"type\":\"scatter\"},{\"hovertemplate\":\"\\u003cb\\u003e%{hovertext}\\u003c\\u002fb\\u003e\\u003cbr\\u003e\\u003cbr\\u003estate=delaware\\u003cbr\\u003ex=%{x}\\u003cbr\\u003ey=%{y}\\u003cextra\\u003e\\u003c\\u002fextra\\u003e\",\"hovertext\":[\"dover delaware\",\"wilmington delaware\"],\"legendgroup\":\"delaware\",\"marker\":{\"color\":\"#FF6692\",\"symbol\":\"circle\"},\"mode\":\"markers\",\"name\":\"delaware\",\"orientation\":\"v\",\"showlegend\":true,\"x\":[2.6882646,2.9960167],\"xaxis\":\"x\",\"y\":[10.945533,9.523835],\"yaxis\":\"y\",\"type\":\"scatter\"},{\"hovertemplate\":\"\\u003cb\\u003e%{hovertext}\\u003c\\u002fb\\u003e\\u003cbr\\u003e\\u003cbr\\u003estate=maine\\u003cbr\\u003ex=%{x}\\u003cbr\\u003ey=%{y}\\u003cextra\\u003e\\u003c\\u002fextra\\u003e\",\"hovertext\":[\"portland maine\"],\"legendgroup\":\"maine\",\"marker\":{\"color\":\"#B6E880\",\"symbol\":\"circle\"},\"mode\":\"markers\",\"name\":\"maine\",\"orientation\":\"v\",\"showlegend\":true,\"x\":[4.2663703],\"xaxis\":\"x\",\"y\":[7.0715117],\"yaxis\":\"y\",\"type\":\"scatter\"},{\"hovertemplate\":\"\\u003cb\\u003e%{hovertext}\\u003c\\u002fb\\u003e\\u003cbr\\u003e\\u003cbr\\u003estate=wyoming\\u003cbr\\u003ex=%{x}\\u003cbr\\u003ey=%{y}\\u003cextra\\u003e\\u003c\\u002fextra\\u003e\",\"hovertext\":[\"cheyenne wyoming\",\"casper wyoming\"],\"legendgroup\":\"wyoming\",\"marker\":{\"color\":\"#FF97FF\",\"symbol\":\"circle\"},\"mode\":\"markers\",\"name\":\"wyoming\",\"orientation\":\"v\",\"showlegend\":true,\"x\":[5.058077,8.303318],\"xaxis\":\"x\",\"y\":[5.549672,7.6830983],\"yaxis\":\"y\",\"type\":\"scatter\"},{\"hovertemplate\":\"\\u003cb\\u003e%{hovertext}\\u003c\\u002fb\\u003e\\u003cbr\\u003e\\u003cbr\\u003estate=vermont\\u003cbr\\u003ex=%{x}\\u003cbr\\u003ey=%{y}\\u003cextra\\u003e\\u003c\\u002fextra\\u003e\",\"hovertext\":[\"burlington vermont\"],\"legendgroup\":\"vermont\",\"marker\":{\"color\":\"#FECB52\",\"symbol\":\"circle\"},\"mode\":\"markers\",\"name\":\"vermont\",\"orientation\":\"v\",\"showlegend\":true,\"x\":[4.2977037],\"xaxis\":\"x\",\"y\":[8.1925955],\"yaxis\":\"y\",\"type\":\"scatter\"},{\"hovertemplate\":\"\\u003cb\\u003e%{hovertext}\\u003c\\u002fb\\u003e\\u003cbr\\u003e\\u003cbr\\u003estate=hawaii\\u003cbr\\u003ex=%{x}\\u003cbr\\u003ey=%{y}\\u003cextra\\u003e\\u003c\\u002fextra\\u003e\",\"hovertext\":[\"honolulu hawaii\"],\"legendgroup\":\"hawaii\",\"marker\":{\"color\":\"#636efa\",\"symbol\":\"circle\"},\"mode\":\"markers\",\"name\":\"hawaii\",\"orientation\":\"v\",\"showlegend\":true,\"x\":[3.7774456],\"xaxis\":\"x\",\"y\":[8.560048],\"yaxis\":\"y\",\"type\":\"scatter\"}],                        {\"template\":{\"data\":{\"histogram2dcontour\":[{\"type\":\"histogram2dcontour\",\"colorbar\":{\"outlinewidth\":0,\"ticks\":\"\"},\"colorscale\":[[0.0,\"#0d0887\"],[0.1111111111111111,\"#46039f\"],[0.2222222222222222,\"#7201a8\"],[0.3333333333333333,\"#9c179e\"],[0.4444444444444444,\"#bd3786\"],[0.5555555555555556,\"#d8576b\"],[0.6666666666666666,\"#ed7953\"],[0.7777777777777778,\"#fb9f3a\"],[0.8888888888888888,\"#fdca26\"],[1.0,\"#f0f921\"]]}],\"choropleth\":[{\"type\":\"choropleth\",\"colorbar\":{\"outlinewidth\":0,\"ticks\":\"\"}}],\"histogram2d\":[{\"type\":\"histogram2d\",\"colorbar\":{\"outlinewidth\":0,\"ticks\":\"\"},\"colorscale\":[[0.0,\"#0d0887\"],[0.1111111111111111,\"#46039f\"],[0.2222222222222222,\"#7201a8\"],[0.3333333333333333,\"#9c179e\"],[0.4444444444444444,\"#bd3786\"],[0.5555555555555556,\"#d8576b\"],[0.6666666666666666,\"#ed7953\"],[0.7777777777777778,\"#fb9f3a\"],[0.8888888888888888,\"#fdca26\"],[1.0,\"#f0f921\"]]}],\"heatmap\":[{\"type\":\"heatmap\",\"colorbar\":{\"outlinewidth\":0,\"ticks\":\"\"},\"colorscale\":[[0.0,\"#0d0887\"],[0.1111111111111111,\"#46039f\"],[0.2222222222222222,\"#7201a8\"],[0.3333333333333333,\"#9c179e\"],[0.4444444444444444,\"#bd3786\"],[0.5555555555555556,\"#d8576b\"],[0.6666666666666666,\"#ed7953\"],[0.7777777777777778,\"#fb9f3a\"],[0.8888888888888888,\"#fdca26\"],[1.0,\"#f0f921\"]]}],\"heatmapgl\":[{\"type\":\"heatmapgl\",\"colorbar\":{\"outlinewidth\":0,\"ticks\":\"\"},\"colorscale\":[[0.0,\"#0d0887\"],[0.1111111111111111,\"#46039f\"],[0.2222222222222222,\"#7201a8\"],[0.3333333333333333,\"#9c179e\"],[0.4444444444444444,\"#bd3786\"],[0.5555555555555556,\"#d8576b\"],[0.6666666666666666,\"#ed7953\"],[0.7777777777777778,\"#fb9f3a\"],[0.8888888888888888,\"#fdca26\"],[1.0,\"#f0f921\"]]}],\"contourcarpet\":[{\"type\":\"contourcarpet\",\"colorbar\":{\"outlinewidth\":0,\"ticks\":\"\"}}],\"contour\":[{\"type\":\"contour\",\"colorbar\":{\"outlinewidth\":0,\"ticks\":\"\"},\"colorscale\":[[0.0,\"#0d0887\"],[0.1111111111111111,\"#46039f\"],[0.2222222222222222,\"#7201a8\"],[0.3333333333333333,\"#9c179e\"],[0.4444444444444444,\"#bd3786\"],[0.5555555555555556,\"#d8576b\"],[0.6666666666666666,\"#ed7953\"],[0.7777777777777778,\"#fb9f3a\"],[0.8888888888888888,\"#fdca26\"],[1.0,\"#f0f921\"]]}],\"surface\":[{\"type\":\"surface\",\"colorbar\":{\"outlinewidth\":0,\"ticks\":\"\"},\"colorscale\":[[0.0,\"#0d0887\"],[0.1111111111111111,\"#46039f\"],[0.2222222222222222,\"#7201a8\"],[0.3333333333333333,\"#9c179e\"],[0.4444444444444444,\"#bd3786\"],[0.5555555555555556,\"#d8576b\"],[0.6666666666666666,\"#ed7953\"],[0.7777777777777778,\"#fb9f3a\"],[0.8888888888888888,\"#fdca26\"],[1.0,\"#f0f921\"]]}],\"mesh3d\":[{\"type\":\"mesh3d\",\"colorbar\":{\"outlinewidth\":0,\"ticks\":\"\"}}],\"scatter\":[{\"fillpattern\":{\"fillmode\":\"overlay\",\"size\":10,\"solidity\":0.2},\"type\":\"scatter\"}],\"parcoords\":[{\"type\":\"parcoords\",\"line\":{\"colorbar\":{\"outlinewidth\":0,\"ticks\":\"\"}}}],\"scatterpolargl\":[{\"type\":\"scatterpolargl\",\"marker\":{\"colorbar\":{\"outlinewidth\":0,\"ticks\":\"\"}}}],\"bar\":[{\"error_x\":{\"color\":\"#2a3f5f\"},\"error_y\":{\"color\":\"#2a3f5f\"},\"marker\":{\"line\":{\"color\":\"#E5ECF6\",\"width\":0.5},\"pattern\":{\"fillmode\":\"overlay\",\"size\":10,\"solidity\":0.2}},\"type\":\"bar\"}],\"scattergeo\":[{\"type\":\"scattergeo\",\"marker\":{\"colorbar\":{\"outlinewidth\":0,\"ticks\":\"\"}}}],\"scatterpolar\":[{\"type\":\"scatterpolar\",\"marker\":{\"colorbar\":{\"outlinewidth\":0,\"ticks\":\"\"}}}],\"histogram\":[{\"marker\":{\"pattern\":{\"fillmode\":\"overlay\",\"size\":10,\"solidity\":0.2}},\"type\":\"histogram\"}],\"scattergl\":[{\"type\":\"scattergl\",\"marker\":{\"colorbar\":{\"outlinewidth\":0,\"ticks\":\"\"}}}],\"scatter3d\":[{\"type\":\"scatter3d\",\"line\":{\"colorbar\":{\"outlinewidth\":0,\"ticks\":\"\"}},\"marker\":{\"colorbar\":{\"outlinewidth\":0,\"ticks\":\"\"}}}],\"scattermapbox\":[{\"type\":\"scattermapbox\",\"marker\":{\"colorbar\":{\"outlinewidth\":0,\"ticks\":\"\"}}}],\"scatterternary\":[{\"type\":\"scatterternary\",\"marker\":{\"colorbar\":{\"outlinewidth\":0,\"ticks\":\"\"}}}],\"scattercarpet\":[{\"type\":\"scattercarpet\",\"marker\":{\"colorbar\":{\"outlinewidth\":0,\"ticks\":\"\"}}}],\"carpet\":[{\"aaxis\":{\"endlinecolor\":\"#2a3f5f\",\"gridcolor\":\"white\",\"linecolor\":\"white\",\"minorgridcolor\":\"white\",\"startlinecolor\":\"#2a3f5f\"},\"baxis\":{\"endlinecolor\":\"#2a3f5f\",\"gridcolor\":\"white\",\"linecolor\":\"white\",\"minorgridcolor\":\"white\",\"startlinecolor\":\"#2a3f5f\"},\"type\":\"carpet\"}],\"table\":[{\"cells\":{\"fill\":{\"color\":\"#EBF0F8\"},\"line\":{\"color\":\"white\"}},\"header\":{\"fill\":{\"color\":\"#C8D4E3\"},\"line\":{\"color\":\"white\"}},\"type\":\"table\"}],\"barpolar\":[{\"marker\":{\"line\":{\"color\":\"#E5ECF6\",\"width\":0.5},\"pattern\":{\"fillmode\":\"overlay\",\"size\":10,\"solidity\":0.2}},\"type\":\"barpolar\"}],\"pie\":[{\"automargin\":true,\"type\":\"pie\"}]},\"layout\":{\"autotypenumbers\":\"strict\",\"colorway\":[\"#636efa\",\"#EF553B\",\"#00cc96\",\"#ab63fa\",\"#FFA15A\",\"#19d3f3\",\"#FF6692\",\"#B6E880\",\"#FF97FF\",\"#FECB52\"],\"font\":{\"color\":\"#2a3f5f\"},\"hovermode\":\"closest\",\"hoverlabel\":{\"align\":\"left\"},\"paper_bgcolor\":\"white\",\"plot_bgcolor\":\"#E5ECF6\",\"polar\":{\"bgcolor\":\"#E5ECF6\",\"angularaxis\":{\"gridcolor\":\"white\",\"linecolor\":\"white\",\"ticks\":\"\"},\"radialaxis\":{\"gridcolor\":\"white\",\"linecolor\":\"white\",\"ticks\":\"\"}},\"ternary\":{\"bgcolor\":\"#E5ECF6\",\"aaxis\":{\"gridcolor\":\"white\",\"linecolor\":\"white\",\"ticks\":\"\"},\"baxis\":{\"gridcolor\":\"white\",\"linecolor\":\"white\",\"ticks\":\"\"},\"caxis\":{\"gridcolor\":\"white\",\"linecolor\":\"white\",\"ticks\":\"\"}},\"coloraxis\":{\"colorbar\":{\"outlinewidth\":0,\"ticks\":\"\"}},\"colorscale\":{\"sequential\":[[0.0,\"#0d0887\"],[0.1111111111111111,\"#46039f\"],[0.2222222222222222,\"#7201a8\"],[0.3333333333333333,\"#9c179e\"],[0.4444444444444444,\"#bd3786\"],[0.5555555555555556,\"#d8576b\"],[0.6666666666666666,\"#ed7953\"],[0.7777777777777778,\"#fb9f3a\"],[0.8888888888888888,\"#fdca26\"],[1.0,\"#f0f921\"]],\"sequentialminus\":[[0.0,\"#0d0887\"],[0.1111111111111111,\"#46039f\"],[0.2222222222222222,\"#7201a8\"],[0.3333333333333333,\"#9c179e\"],[0.4444444444444444,\"#bd3786\"],[0.5555555555555556,\"#d8576b\"],[0.6666666666666666,\"#ed7953\"],[0.7777777777777778,\"#fb9f3a\"],[0.8888888888888888,\"#fdca26\"],[1.0,\"#f0f921\"]],\"diverging\":[[0,\"#8e0152\"],[0.1,\"#c51b7d\"],[0.2,\"#de77ae\"],[0.3,\"#f1b6da\"],[0.4,\"#fde0ef\"],[0.5,\"#f7f7f7\"],[0.6,\"#e6f5d0\"],[0.7,\"#b8e186\"],[0.8,\"#7fbc41\"],[0.9,\"#4d9221\"],[1,\"#276419\"]]},\"xaxis\":{\"gridcolor\":\"white\",\"linecolor\":\"white\",\"ticks\":\"\",\"title\":{\"standoff\":15},\"zerolinecolor\":\"white\",\"automargin\":true,\"zerolinewidth\":2},\"yaxis\":{\"gridcolor\":\"white\",\"linecolor\":\"white\",\"ticks\":\"\",\"title\":{\"standoff\":15},\"zerolinecolor\":\"white\",\"automargin\":true,\"zerolinewidth\":2},\"scene\":{\"xaxis\":{\"backgroundcolor\":\"#E5ECF6\",\"gridcolor\":\"white\",\"linecolor\":\"white\",\"showbackground\":true,\"ticks\":\"\",\"zerolinecolor\":\"white\",\"gridwidth\":2},\"yaxis\":{\"backgroundcolor\":\"#E5ECF6\",\"gridcolor\":\"white\",\"linecolor\":\"white\",\"showbackground\":true,\"ticks\":\"\",\"zerolinecolor\":\"white\",\"gridwidth\":2},\"zaxis\":{\"backgroundcolor\":\"#E5ECF6\",\"gridcolor\":\"white\",\"linecolor\":\"white\",\"showbackground\":true,\"ticks\":\"\",\"zerolinecolor\":\"white\",\"gridwidth\":2}},\"shapedefaults\":{\"line\":{\"color\":\"#2a3f5f\"}},\"annotationdefaults\":{\"arrowcolor\":\"#2a3f5f\",\"arrowhead\":0,\"arrowwidth\":1},\"geo\":{\"bgcolor\":\"white\",\"landcolor\":\"#E5ECF6\",\"subunitcolor\":\"white\",\"showland\":true,\"showlakes\":true,\"lakecolor\":\"white\"},\"title\":{\"x\":0.05},\"mapbox\":{\"style\":\"light\"}}},\"xaxis\":{\"anchor\":\"y\",\"domain\":[0.0,1.0],\"title\":{\"text\":\"x\"}},\"yaxis\":{\"anchor\":\"x\",\"domain\":[0.0,1.0],\"title\":{\"text\":\"y\"}},\"legend\":{\"title\":{\"text\":\"state\"},\"tracegroupgap\":0},\"margin\":{\"t\":60},\"height\":900},                        {\"responsive\": true}                    ).then(function(){\n",
       "                            \n",
       "var gd = document.getElementById('87cff723-74c1-4694-b529-0ee4a63b6a93');\n",
       "var x = new MutationObserver(function (mutations, observer) {{\n",
       "        var display = window.getComputedStyle(gd).display;\n",
       "        if (!display || display === 'none') {{\n",
       "            console.log([gd, 'removed!']);\n",
       "            Plotly.purge(gd);\n",
       "            observer.disconnect();\n",
       "        }}\n",
       "}});\n",
       "\n",
       "// Listen for the removal of the full notebook cells\n",
       "var notebookContainer = gd.closest('#notebook-container');\n",
       "if (notebookContainer) {{\n",
       "    x.observe(notebookContainer, {childList: true});\n",
       "}}\n",
       "\n",
       "// Listen for the clearing of the current output cell\n",
       "var outputEl = gd.closest('.output');\n",
       "if (outputEl) {{\n",
       "    x.observe(outputEl, {childList: true});\n",
       "}}\n",
       "\n",
       "                        })                };                });            </script>        </div>"
      ]
     },
     "metadata": {},
     "output_type": "display_data"
    }
   ],
   "source": [
    "# now we have some embeddings; let's see how they cluster\n",
    "from plotly import express\n",
    "from arrow import now\n",
    "from umap import UMAP\n",
    "\n",
    "time_start = now()\n",
    "umap = UMAP(random_state=2024, verbose=True, n_jobs=1, low_memory=False, n_epochs=1000)\n",
    "df[['x', 'y']] = umap.fit_transform(X=df['value'].apply(pd.Series))\n",
    "print('done with UMAP in {}'.format(now() - time_start))\n",
    "express.scatter(data_frame=df, x='x', y='y', hover_name='name', color='state', height=900).show()"
   ]
  }
 ],
 "metadata": {
  "kaggle": {
   "accelerator": "none",
   "dataSources": [
    {
     "datasetId": 4574538,
     "sourceId": 7810386,
     "sourceType": "datasetVersion"
    }
   ],
   "dockerImageVersionId": 30664,
   "isGpuEnabled": false,
   "isInternetEnabled": true,
   "language": "python",
   "sourceType": "notebook"
  },
  "kernelspec": {
   "display_name": "Python 3",
   "language": "python",
   "name": "python3"
  },
  "language_info": {
   "codemirror_mode": {
    "name": "ipython",
    "version": 3
   },
   "file_extension": ".py",
   "mimetype": "text/x-python",
   "name": "python",
   "nbconvert_exporter": "python",
   "pygments_lexer": "ipython3",
   "version": "3.10.13"
  },
  "papermill": {
   "default_parameters": {},
   "duration": 710.763483,
   "end_time": "2024-03-13T18:04:24.188947",
   "environment_variables": {},
   "exception": null,
   "input_path": "__notebook__.ipynb",
   "output_path": "__notebook__.ipynb",
   "parameters": {},
   "start_time": "2024-03-13T17:52:33.425464",
   "version": "2.5.0"
  },
  "widgets": {
   "application/vnd.jupyter.widget-state+json": {
    "state": {
     "115c464124d3464d81b3bb67cdd5abd3": {
      "model_module": "@jupyter-widgets/controls",
      "model_module_version": "1.5.0",
      "model_name": "HBoxModel",
      "state": {
       "_dom_classes": [],
       "_model_module": "@jupyter-widgets/controls",
       "_model_module_version": "1.5.0",
       "_model_name": "HBoxModel",
       "_view_count": null,
       "_view_module": "@jupyter-widgets/controls",
       "_view_module_version": "1.5.0",
       "_view_name": "HBoxView",
       "box_style": "",
       "children": [
        "IPY_MODEL_a4f8d965d0854010b693e96f34958408",
        "IPY_MODEL_843da790b8a243caa76be15f097fa997",
        "IPY_MODEL_92763527477140f397299dbb88ccc716"
       ],
       "layout": "IPY_MODEL_a7846ad1890e4a8f90b594ca4c2d7414"
      }
     },
     "4a33a0a62add462bb70128110f80969f": {
      "model_module": "@jupyter-widgets/controls",
      "model_module_version": "1.5.0",
      "model_name": "ProgressStyleModel",
      "state": {
       "_model_module": "@jupyter-widgets/controls",
       "_model_module_version": "1.5.0",
       "_model_name": "ProgressStyleModel",
       "_view_count": null,
       "_view_module": "@jupyter-widgets/base",
       "_view_module_version": "1.2.0",
       "_view_name": "StyleView",
       "bar_color": null,
       "description_width": ""
      }
     },
     "5303803d96ae4fb488783200931fc4f2": {
      "model_module": "@jupyter-widgets/controls",
      "model_module_version": "1.5.0",
      "model_name": "DescriptionStyleModel",
      "state": {
       "_model_module": "@jupyter-widgets/controls",
       "_model_module_version": "1.5.0",
       "_model_name": "DescriptionStyleModel",
       "_view_count": null,
       "_view_module": "@jupyter-widgets/base",
       "_view_module_version": "1.2.0",
       "_view_name": "StyleView",
       "description_width": ""
      }
     },
     "843da790b8a243caa76be15f097fa997": {
      "model_module": "@jupyter-widgets/controls",
      "model_module_version": "1.5.0",
      "model_name": "FloatProgressModel",
      "state": {
       "_dom_classes": [],
       "_model_module": "@jupyter-widgets/controls",
       "_model_module_version": "1.5.0",
       "_model_name": "FloatProgressModel",
       "_view_count": null,
       "_view_module": "@jupyter-widgets/controls",
       "_view_module_version": "1.5.0",
       "_view_name": "ProgressView",
       "bar_style": "success",
       "description": "",
       "description_tooltip": null,
       "layout": "IPY_MODEL_d9c928533f1f4a56a15c4452d17750ee",
       "max": 1000.0,
       "min": 0.0,
       "orientation": "horizontal",
       "style": "IPY_MODEL_4a33a0a62add462bb70128110f80969f",
       "value": 1000.0
      }
     },
     "92763527477140f397299dbb88ccc716": {
      "model_module": "@jupyter-widgets/controls",
      "model_module_version": "1.5.0",
      "model_name": "HTMLModel",
      "state": {
       "_dom_classes": [],
       "_model_module": "@jupyter-widgets/controls",
       "_model_module_version": "1.5.0",
       "_model_name": "HTMLModel",
       "_view_count": null,
       "_view_module": "@jupyter-widgets/controls",
       "_view_module_version": "1.5.0",
       "_view_name": "HTMLView",
       "description": "",
       "description_tooltip": null,
       "layout": "IPY_MODEL_a3a69f24928f4ba1b598380a3cce0adc",
       "placeholder": "​",
       "style": "IPY_MODEL_a2d5ee40d40b4b8382a48af3f79d7200",
       "value": " 1000/1000 [00:05]"
      }
     },
     "a2d5ee40d40b4b8382a48af3f79d7200": {
      "model_module": "@jupyter-widgets/controls",
      "model_module_version": "1.5.0",
      "model_name": "DescriptionStyleModel",
      "state": {
       "_model_module": "@jupyter-widgets/controls",
       "_model_module_version": "1.5.0",
       "_model_name": "DescriptionStyleModel",
       "_view_count": null,
       "_view_module": "@jupyter-widgets/base",
       "_view_module_version": "1.2.0",
       "_view_name": "StyleView",
       "description_width": ""
      }
     },
     "a3a69f24928f4ba1b598380a3cce0adc": {
      "model_module": "@jupyter-widgets/base",
      "model_module_version": "1.2.0",
      "model_name": "LayoutModel",
      "state": {
       "_model_module": "@jupyter-widgets/base",
       "_model_module_version": "1.2.0",
       "_model_name": "LayoutModel",
       "_view_count": null,
       "_view_module": "@jupyter-widgets/base",
       "_view_module_version": "1.2.0",
       "_view_name": "LayoutView",
       "align_content": null,
       "align_items": null,
       "align_self": null,
       "border": null,
       "bottom": null,
       "display": null,
       "flex": null,
       "flex_flow": null,
       "grid_area": null,
       "grid_auto_columns": null,
       "grid_auto_flow": null,
       "grid_auto_rows": null,
       "grid_column": null,
       "grid_gap": null,
       "grid_row": null,
       "grid_template_areas": null,
       "grid_template_columns": null,
       "grid_template_rows": null,
       "height": null,
       "justify_content": null,
       "justify_items": null,
       "left": null,
       "margin": null,
       "max_height": null,
       "max_width": null,
       "min_height": null,
       "min_width": null,
       "object_fit": null,
       "object_position": null,
       "order": null,
       "overflow": null,
       "overflow_x": null,
       "overflow_y": null,
       "padding": null,
       "right": null,
       "top": null,
       "visibility": null,
       "width": null
      }
     },
     "a4f8d965d0854010b693e96f34958408": {
      "model_module": "@jupyter-widgets/controls",
      "model_module_version": "1.5.0",
      "model_name": "HTMLModel",
      "state": {
       "_dom_classes": [],
       "_model_module": "@jupyter-widgets/controls",
       "_model_module_version": "1.5.0",
       "_model_name": "HTMLModel",
       "_view_count": null,
       "_view_module": "@jupyter-widgets/controls",
       "_view_module_version": "1.5.0",
       "_view_name": "HTMLView",
       "description": "",
       "description_tooltip": null,
       "layout": "IPY_MODEL_de2db9246b634e00aacc54ba39688879",
       "placeholder": "​",
       "style": "IPY_MODEL_5303803d96ae4fb488783200931fc4f2",
       "value": "Epochs completed: 100%| "
      }
     },
     "a7846ad1890e4a8f90b594ca4c2d7414": {
      "model_module": "@jupyter-widgets/base",
      "model_module_version": "1.2.0",
      "model_name": "LayoutModel",
      "state": {
       "_model_module": "@jupyter-widgets/base",
       "_model_module_version": "1.2.0",
       "_model_name": "LayoutModel",
       "_view_count": null,
       "_view_module": "@jupyter-widgets/base",
       "_view_module_version": "1.2.0",
       "_view_name": "LayoutView",
       "align_content": null,
       "align_items": null,
       "align_self": null,
       "border": null,
       "bottom": null,
       "display": null,
       "flex": null,
       "flex_flow": null,
       "grid_area": null,
       "grid_auto_columns": null,
       "grid_auto_flow": null,
       "grid_auto_rows": null,
       "grid_column": null,
       "grid_gap": null,
       "grid_row": null,
       "grid_template_areas": null,
       "grid_template_columns": null,
       "grid_template_rows": null,
       "height": null,
       "justify_content": null,
       "justify_items": null,
       "left": null,
       "margin": null,
       "max_height": null,
       "max_width": null,
       "min_height": null,
       "min_width": null,
       "object_fit": null,
       "object_position": null,
       "order": null,
       "overflow": null,
       "overflow_x": null,
       "overflow_y": null,
       "padding": null,
       "right": null,
       "top": null,
       "visibility": null,
       "width": null
      }
     },
     "d9c928533f1f4a56a15c4452d17750ee": {
      "model_module": "@jupyter-widgets/base",
      "model_module_version": "1.2.0",
      "model_name": "LayoutModel",
      "state": {
       "_model_module": "@jupyter-widgets/base",
       "_model_module_version": "1.2.0",
       "_model_name": "LayoutModel",
       "_view_count": null,
       "_view_module": "@jupyter-widgets/base",
       "_view_module_version": "1.2.0",
       "_view_name": "LayoutView",
       "align_content": null,
       "align_items": null,
       "align_self": null,
       "border": null,
       "bottom": null,
       "display": null,
       "flex": null,
       "flex_flow": null,
       "grid_area": null,
       "grid_auto_columns": null,
       "grid_auto_flow": null,
       "grid_auto_rows": null,
       "grid_column": null,
       "grid_gap": null,
       "grid_row": null,
       "grid_template_areas": null,
       "grid_template_columns": null,
       "grid_template_rows": null,
       "height": null,
       "justify_content": null,
       "justify_items": null,
       "left": null,
       "margin": null,
       "max_height": null,
       "max_width": null,
       "min_height": null,
       "min_width": null,
       "object_fit": null,
       "object_position": null,
       "order": null,
       "overflow": null,
       "overflow_x": null,
       "overflow_y": null,
       "padding": null,
       "right": null,
       "top": null,
       "visibility": null,
       "width": null
      }
     },
     "de2db9246b634e00aacc54ba39688879": {
      "model_module": "@jupyter-widgets/base",
      "model_module_version": "1.2.0",
      "model_name": "LayoutModel",
      "state": {
       "_model_module": "@jupyter-widgets/base",
       "_model_module_version": "1.2.0",
       "_model_name": "LayoutModel",
       "_view_count": null,
       "_view_module": "@jupyter-widgets/base",
       "_view_module_version": "1.2.0",
       "_view_name": "LayoutView",
       "align_content": null,
       "align_items": null,
       "align_self": null,
       "border": null,
       "bottom": null,
       "display": null,
       "flex": null,
       "flex_flow": null,
       "grid_area": null,
       "grid_auto_columns": null,
       "grid_auto_flow": null,
       "grid_auto_rows": null,
       "grid_column": null,
       "grid_gap": null,
       "grid_row": null,
       "grid_template_areas": null,
       "grid_template_columns": null,
       "grid_template_rows": null,
       "height": null,
       "justify_content": null,
       "justify_items": null,
       "left": null,
       "margin": null,
       "max_height": null,
       "max_width": null,
       "min_height": null,
       "min_width": null,
       "object_fit": null,
       "object_position": null,
       "order": null,
       "overflow": null,
       "overflow_x": null,
       "overflow_y": null,
       "padding": null,
       "right": null,
       "top": null,
       "visibility": null,
       "width": null
      }
     }
    },
    "version_major": 2,
    "version_minor": 0
   }
  }
 },
 "nbformat": 4,
 "nbformat_minor": 5
}
