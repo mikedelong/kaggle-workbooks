{
 "cells": [
  {
   "cell_type": "code",
   "execution_count": 1,
   "id": "019b1078",
   "metadata": {
    "_cell_guid": "b1076dfc-b9ad-4769-8c92-a6c4dae69d19",
    "_uuid": "8f2839f25d086af736a60e9eeb907d3b93b6e0e5",
    "execution": {
     "iopub.execute_input": "2025-02-28T14:30:33.389659Z",
     "iopub.status.busy": "2025-02-28T14:30:33.389273Z",
     "iopub.status.idle": "2025-02-28T14:30:35.083550Z",
     "shell.execute_reply": "2025-02-28T14:30:35.082306Z"
    },
    "papermill": {
     "duration": 1.702399,
     "end_time": "2025-02-28T14:30:35.085299",
     "exception": false,
     "start_time": "2025-02-28T14:30:33.382900",
     "status": "completed"
    },
    "tags": []
   },
   "outputs": [
    {
     "data": {
      "text/html": [
       "<div>\n",
       "<style scoped>\n",
       "    .dataframe tbody tr th:only-of-type {\n",
       "        vertical-align: middle;\n",
       "    }\n",
       "\n",
       "    .dataframe tbody tr th {\n",
       "        vertical-align: top;\n",
       "    }\n",
       "\n",
       "    .dataframe thead th {\n",
       "        text-align: right;\n",
       "    }\n",
       "</style>\n",
       "<table border=\"1\" class=\"dataframe\">\n",
       "  <thead>\n",
       "    <tr style=\"text-align: right;\">\n",
       "      <th></th>\n",
       "      <th>Age</th>\n",
       "      <th>Sex</th>\n",
       "      <th>Family_History</th>\n",
       "      <th>HTT_CAG_Repeat_Length</th>\n",
       "      <th>Motor_Symptoms</th>\n",
       "      <th>Cognitive_Decline</th>\n",
       "      <th>Chorea_Score</th>\n",
       "      <th>Brain_Volume_Loss</th>\n",
       "      <th>Functional_Capacity</th>\n",
       "      <th>Gene_Mutation_Type</th>\n",
       "      <th>HTT_Gene_Expression_Level</th>\n",
       "      <th>Protein_Aggregation_Level</th>\n",
       "      <th>Random_Protein_Sequence</th>\n",
       "      <th>Random_Gene_Sequence</th>\n",
       "      <th>Disease_Stage</th>\n",
       "      <th>Gene/Factor</th>\n",
       "      <th>Chromosome_Location</th>\n",
       "      <th>Function</th>\n",
       "      <th>Effect</th>\n",
       "      <th>Category</th>\n",
       "    </tr>\n",
       "  </thead>\n",
       "  <tbody>\n",
       "    <tr>\n",
       "      <th>0</th>\n",
       "      <td>31</td>\n",
       "      <td>Male</td>\n",
       "      <td>No</td>\n",
       "      <td>67</td>\n",
       "      <td>Moderate</td>\n",
       "      <td>Severe</td>\n",
       "      <td>8.80</td>\n",
       "      <td>3.20</td>\n",
       "      <td>94</td>\n",
       "      <td>Deletion</td>\n",
       "      <td>1.67</td>\n",
       "      <td>0.58</td>\n",
       "      <td>DAHKIRSPMRVGPHYYAQCDNNDTGSDKEHWLKTEAAPMTMDRTVE...</td>\n",
       "      <td>GCCAGCAGCGCCCGAGCGTATGAGGTATATGGATTGGACATTGGGC...</td>\n",
       "      <td>Middle</td>\n",
       "      <td>HTT</td>\n",
       "      <td>4p16.3</td>\n",
       "      <td>CAG Trinucleotide Repeat Expansion</td>\n",
       "      <td>Neurodegeneration</td>\n",
       "      <td>Primary Cause</td>\n",
       "    </tr>\n",
       "    <tr>\n",
       "      <th>1</th>\n",
       "      <td>33</td>\n",
       "      <td>Female</td>\n",
       "      <td>Yes</td>\n",
       "      <td>38</td>\n",
       "      <td>Severe</td>\n",
       "      <td>Moderate</td>\n",
       "      <td>3.24</td>\n",
       "      <td>5.98</td>\n",
       "      <td>50</td>\n",
       "      <td>Point Mutation</td>\n",
       "      <td>0.18</td>\n",
       "      <td>0.30</td>\n",
       "      <td>PANGFWYHNCLRFWNIPPYVMEGFPLADITEVHKWRVSGFMCWETQ...</td>\n",
       "      <td>AGTTTTCAGTGAGACTCTTCCCCAAAAGCCTCCACTACGACAGTGT...</td>\n",
       "      <td>Pre-Symptomatic</td>\n",
       "      <td>HTT</td>\n",
       "      <td>4p16.3</td>\n",
       "      <td>CAG Trinucleotide Repeat Expansion</td>\n",
       "      <td>Neurodegeneration</td>\n",
       "      <td>Primary Cause</td>\n",
       "    </tr>\n",
       "    <tr>\n",
       "      <th>2</th>\n",
       "      <td>69</td>\n",
       "      <td>Male</td>\n",
       "      <td>Yes</td>\n",
       "      <td>37</td>\n",
       "      <td>Severe</td>\n",
       "      <td>Moderate</td>\n",
       "      <td>1.01</td>\n",
       "      <td>2.82</td>\n",
       "      <td>69</td>\n",
       "      <td>Duplication</td>\n",
       "      <td>0.90</td>\n",
       "      <td>1.04</td>\n",
       "      <td>NWHEGHGASTWKATMVAWCLMVQHAVTWKEGNTRCREMSCMNFTQL...</td>\n",
       "      <td>TATACCACCAGTGGGAAGAGTAACGATTTTGGAGCGCCCCGAGTCC...</td>\n",
       "      <td>Early</td>\n",
       "      <td>MSH3</td>\n",
       "      <td>5q14.1</td>\n",
       "      <td>Mismatch Repair</td>\n",
       "      <td>CAG Repeat Expansion</td>\n",
       "      <td>Trans-acting Modifier</td>\n",
       "    </tr>\n",
       "    <tr>\n",
       "      <th>3</th>\n",
       "      <td>66</td>\n",
       "      <td>Male</td>\n",
       "      <td>Yes</td>\n",
       "      <td>50</td>\n",
       "      <td>Mild</td>\n",
       "      <td>Severe</td>\n",
       "      <td>3.21</td>\n",
       "      <td>6.77</td>\n",
       "      <td>76</td>\n",
       "      <td>Deletion</td>\n",
       "      <td>1.16</td>\n",
       "      <td>1.87</td>\n",
       "      <td>KCVQYIQATQMLVQSWGQRNPIMQSSEPDRAHDYESGTPKTYTYML...</td>\n",
       "      <td>GCGCGACCGACCAAAGGACCCATGGTGGTGATCTGTCATTGGATTC...</td>\n",
       "      <td>Pre-Symptomatic</td>\n",
       "      <td>MSH3</td>\n",
       "      <td>5q14.1</td>\n",
       "      <td>Mismatch Repair</td>\n",
       "      <td>CAG Repeat Expansion</td>\n",
       "      <td>Trans-acting Modifier</td>\n",
       "    </tr>\n",
       "    <tr>\n",
       "      <th>4</th>\n",
       "      <td>43</td>\n",
       "      <td>Female</td>\n",
       "      <td>Yes</td>\n",
       "      <td>48</td>\n",
       "      <td>Moderate</td>\n",
       "      <td>Mild</td>\n",
       "      <td>2.31</td>\n",
       "      <td>7.53</td>\n",
       "      <td>70</td>\n",
       "      <td>Insertion</td>\n",
       "      <td>1.85</td>\n",
       "      <td>2.94</td>\n",
       "      <td>DQPGNMTRQNKNHCMWRAKRPTKHPGHKPGEIDKEKSEQNDADSSA...</td>\n",
       "      <td>GGGACCGCGGTTCTAGAAGAGAGGTTCTCTGACCGCCGAAGGATTC...</td>\n",
       "      <td>Late</td>\n",
       "      <td>HTT (Somatic Expansion)</td>\n",
       "      <td>4p16.3</td>\n",
       "      <td>CAG Repeat Instability</td>\n",
       "      <td>Faster Disease Onset</td>\n",
       "      <td>Cis-acting Modifier</td>\n",
       "    </tr>\n",
       "  </tbody>\n",
       "</table>\n",
       "</div>"
      ],
      "text/plain": [
       "   Age     Sex Family_History  HTT_CAG_Repeat_Length Motor_Symptoms  \\\n",
       "0   31    Male             No                     67       Moderate   \n",
       "1   33  Female            Yes                     38         Severe   \n",
       "2   69    Male            Yes                     37         Severe   \n",
       "3   66    Male            Yes                     50           Mild   \n",
       "4   43  Female            Yes                     48       Moderate   \n",
       "\n",
       "  Cognitive_Decline  Chorea_Score  Brain_Volume_Loss  Functional_Capacity  \\\n",
       "0            Severe          8.80               3.20                   94   \n",
       "1          Moderate          3.24               5.98                   50   \n",
       "2          Moderate          1.01               2.82                   69   \n",
       "3            Severe          3.21               6.77                   76   \n",
       "4              Mild          2.31               7.53                   70   \n",
       "\n",
       "  Gene_Mutation_Type  HTT_Gene_Expression_Level  Protein_Aggregation_Level  \\\n",
       "0           Deletion                       1.67                       0.58   \n",
       "1     Point Mutation                       0.18                       0.30   \n",
       "2        Duplication                       0.90                       1.04   \n",
       "3           Deletion                       1.16                       1.87   \n",
       "4          Insertion                       1.85                       2.94   \n",
       "\n",
       "                             Random_Protein_Sequence  \\\n",
       "0  DAHKIRSPMRVGPHYYAQCDNNDTGSDKEHWLKTEAAPMTMDRTVE...   \n",
       "1  PANGFWYHNCLRFWNIPPYVMEGFPLADITEVHKWRVSGFMCWETQ...   \n",
       "2  NWHEGHGASTWKATMVAWCLMVQHAVTWKEGNTRCREMSCMNFTQL...   \n",
       "3  KCVQYIQATQMLVQSWGQRNPIMQSSEPDRAHDYESGTPKTYTYML...   \n",
       "4  DQPGNMTRQNKNHCMWRAKRPTKHPGHKPGEIDKEKSEQNDADSSA...   \n",
       "\n",
       "                                Random_Gene_Sequence    Disease_Stage  \\\n",
       "0  GCCAGCAGCGCCCGAGCGTATGAGGTATATGGATTGGACATTGGGC...           Middle   \n",
       "1  AGTTTTCAGTGAGACTCTTCCCCAAAAGCCTCCACTACGACAGTGT...  Pre-Symptomatic   \n",
       "2  TATACCACCAGTGGGAAGAGTAACGATTTTGGAGCGCCCCGAGTCC...            Early   \n",
       "3  GCGCGACCGACCAAAGGACCCATGGTGGTGATCTGTCATTGGATTC...  Pre-Symptomatic   \n",
       "4  GGGACCGCGGTTCTAGAAGAGAGGTTCTCTGACCGCCGAAGGATTC...             Late   \n",
       "\n",
       "               Gene/Factor Chromosome_Location  \\\n",
       "0                      HTT              4p16.3   \n",
       "1                      HTT              4p16.3   \n",
       "2                     MSH3              5q14.1   \n",
       "3                     MSH3              5q14.1   \n",
       "4  HTT (Somatic Expansion)              4p16.3   \n",
       "\n",
       "                             Function                Effect  \\\n",
       "0  CAG Trinucleotide Repeat Expansion     Neurodegeneration   \n",
       "1  CAG Trinucleotide Repeat Expansion     Neurodegeneration   \n",
       "2                     Mismatch Repair  CAG Repeat Expansion   \n",
       "3                     Mismatch Repair  CAG Repeat Expansion   \n",
       "4              CAG Repeat Instability  Faster Disease Onset   \n",
       "\n",
       "                Category  \n",
       "0          Primary Cause  \n",
       "1          Primary Cause  \n",
       "2  Trans-acting Modifier  \n",
       "3  Trans-acting Modifier  \n",
       "4    Cis-acting Modifier  "
      ]
     },
     "execution_count": 1,
     "metadata": {},
     "output_type": "execute_result"
    }
   ],
   "source": [
    "import pandas as pd\n",
    "\n",
    "DATA = '/kaggle/input/huntington-disease-dataset/Huntington_Disease_Dataset.csv'\n",
    "df = pd.read_csv(filepath_or_buffer=DATA).drop(columns=['Patient_ID'])\n",
    "df.head()"
   ]
  },
  {
   "cell_type": "markdown",
   "id": "3c97a57c",
   "metadata": {
    "papermill": {
     "duration": 0.005676,
     "end_time": "2025-02-28T14:30:35.097116",
     "exception": false,
     "start_time": "2025-02-28T14:30:35.091440",
     "status": "completed"
    },
    "tags": []
   },
   "source": [
    "How much data do we have?"
   ]
  },
  {
   "cell_type": "code",
   "execution_count": 2,
   "id": "3a6d9124",
   "metadata": {
    "execution": {
     "iopub.execute_input": "2025-02-28T14:30:35.108931Z",
     "iopub.status.busy": "2025-02-28T14:30:35.108553Z",
     "iopub.status.idle": "2025-02-28T14:30:35.114326Z",
     "shell.execute_reply": "2025-02-28T14:30:35.113391Z"
    },
    "papermill": {
     "duration": 0.013698,
     "end_time": "2025-02-28T14:30:35.115995",
     "exception": false,
     "start_time": "2025-02-28T14:30:35.102297",
     "status": "completed"
    },
    "tags": []
   },
   "outputs": [
    {
     "data": {
      "text/plain": [
       "(48536, 20)"
      ]
     },
     "execution_count": 2,
     "metadata": {},
     "output_type": "execute_result"
    }
   ],
   "source": [
    "df.shape"
   ]
  },
  {
   "cell_type": "markdown",
   "id": "a9b075af",
   "metadata": {
    "papermill": {
     "duration": 0.004939,
     "end_time": "2025-02-28T14:30:35.126355",
     "exception": false,
     "start_time": "2025-02-28T14:30:35.121416",
     "status": "completed"
    },
    "tags": []
   },
   "source": [
    "We have a lot of data. How complete is our dataset?"
   ]
  },
  {
   "cell_type": "code",
   "execution_count": 3,
   "id": "07b3a491",
   "metadata": {
    "execution": {
     "iopub.execute_input": "2025-02-28T14:30:35.138134Z",
     "iopub.status.busy": "2025-02-28T14:30:35.137738Z",
     "iopub.status.idle": "2025-02-28T14:30:35.199167Z",
     "shell.execute_reply": "2025-02-28T14:30:35.197936Z"
    },
    "papermill": {
     "duration": 0.069324,
     "end_time": "2025-02-28T14:30:35.200986",
     "exception": false,
     "start_time": "2025-02-28T14:30:35.131662",
     "status": "completed"
    },
    "tags": []
   },
   "outputs": [
    {
     "name": "stdout",
     "output_type": "stream",
     "text": [
      "<class 'pandas.core.frame.DataFrame'>\n",
      "RangeIndex: 48536 entries, 0 to 48535\n",
      "Data columns (total 20 columns):\n",
      " #   Column                     Non-Null Count  Dtype  \n",
      "---  ------                     --------------  -----  \n",
      " 0   Age                        48536 non-null  int64  \n",
      " 1   Sex                        48536 non-null  object \n",
      " 2   Family_History             48536 non-null  object \n",
      " 3   HTT_CAG_Repeat_Length      48536 non-null  int64  \n",
      " 4   Motor_Symptoms             48536 non-null  object \n",
      " 5   Cognitive_Decline          36417 non-null  object \n",
      " 6   Chorea_Score               48536 non-null  float64\n",
      " 7   Brain_Volume_Loss          48536 non-null  float64\n",
      " 8   Functional_Capacity        48536 non-null  int64  \n",
      " 9   Gene_Mutation_Type         48536 non-null  object \n",
      " 10  HTT_Gene_Expression_Level  48536 non-null  float64\n",
      " 11  Protein_Aggregation_Level  48536 non-null  float64\n",
      " 12  Random_Protein_Sequence    48536 non-null  object \n",
      " 13  Random_Gene_Sequence       48536 non-null  object \n",
      " 14  Disease_Stage              48536 non-null  object \n",
      " 15  Gene/Factor                48536 non-null  object \n",
      " 16  Chromosome_Location        48536 non-null  object \n",
      " 17  Function                   48536 non-null  object \n",
      " 18  Effect                     48536 non-null  object \n",
      " 19  Category                   48536 non-null  object \n",
      "dtypes: float64(4), int64(3), object(13)\n",
      "memory usage: 7.4+ MB\n"
     ]
    }
   ],
   "source": [
    "df.info()"
   ]
  },
  {
   "cell_type": "markdown",
   "id": "42aab925",
   "metadata": {
    "papermill": {
     "duration": 0.004961,
     "end_time": "2025-02-28T14:30:35.211329",
     "exception": false,
     "start_time": "2025-02-28T14:30:35.206368",
     "status": "completed"
    },
    "tags": []
   },
   "source": [
    "Almost all of our data is non-null. Unfortunately, a lot of our data is non-numerical, and it's not clear what we would do with the protein sequence or gene sequence data. Let's take a sample and build a scatter plot using dimensionality reduction with TSNE."
   ]
  },
  {
   "cell_type": "code",
   "execution_count": 4,
   "id": "59f153bc",
   "metadata": {
    "execution": {
     "iopub.execute_input": "2025-02-28T14:30:35.223331Z",
     "iopub.status.busy": "2025-02-28T14:30:35.222870Z",
     "iopub.status.idle": "2025-02-28T14:30:36.481365Z",
     "shell.execute_reply": "2025-02-28T14:30:36.480460Z"
    },
    "papermill": {
     "duration": 1.266443,
     "end_time": "2025-02-28T14:30:36.483218",
     "exception": false,
     "start_time": "2025-02-28T14:30:35.216775",
     "status": "completed"
    },
    "tags": []
   },
   "outputs": [],
   "source": [
    "from plotly import express\n",
    "from plotly import io\n",
    "\n",
    "io.renderers.default = 'iframe'"
   ]
  },
  {
   "cell_type": "markdown",
   "id": "a018452b",
   "metadata": {
    "papermill": {
     "duration": 0.005222,
     "end_time": "2025-02-28T14:30:36.494050",
     "exception": false,
     "start_time": "2025-02-28T14:30:36.488828",
     "status": "completed"
    },
    "tags": []
   },
   "source": [
    "Let's make a list of candidate target variables."
   ]
  },
  {
   "cell_type": "code",
   "execution_count": 5,
   "id": "fccfb2a4",
   "metadata": {
    "execution": {
     "iopub.execute_input": "2025-02-28T14:30:36.505789Z",
     "iopub.status.busy": "2025-02-28T14:30:36.505393Z",
     "iopub.status.idle": "2025-02-28T14:30:36.509493Z",
     "shell.execute_reply": "2025-02-28T14:30:36.508652Z"
    },
    "papermill": {
     "duration": 0.011634,
     "end_time": "2025-02-28T14:30:36.510969",
     "exception": false,
     "start_time": "2025-02-28T14:30:36.499335",
     "status": "completed"
    },
    "tags": []
   },
   "outputs": [],
   "source": [
    "TARGETS = ['Family_History', 'Motor_Symptoms', 'Cognitive_Decline', 'Gene_Mutation_Type', 'Disease_Stage', 'Gene/Factor', 'Chromosome_Location', 'Function', 'Effect', 'Category']"
   ]
  },
  {
   "cell_type": "markdown",
   "id": "e5dc4ded",
   "metadata": {
    "papermill": {
     "duration": 0.004935,
     "end_time": "2025-02-28T14:30:36.521321",
     "exception": false,
     "start_time": "2025-02-28T14:30:36.516386",
     "status": "completed"
    },
    "tags": []
   },
   "source": [
    "Are our target variables balanced or unbalanced?"
   ]
  },
  {
   "cell_type": "code",
   "execution_count": 6,
   "id": "a31a1739",
   "metadata": {
    "execution": {
     "iopub.execute_input": "2025-02-28T14:30:36.532830Z",
     "iopub.status.busy": "2025-02-28T14:30:36.532431Z",
     "iopub.status.idle": "2025-02-28T14:30:36.572162Z",
     "shell.execute_reply": "2025-02-28T14:30:36.571093Z"
    },
    "papermill": {
     "duration": 0.047402,
     "end_time": "2025-02-28T14:30:36.573849",
     "exception": false,
     "start_time": "2025-02-28T14:30:36.526447",
     "status": "completed"
    },
    "tags": []
   },
   "outputs": [
    {
     "name": "stdout",
     "output_type": "stream",
     "text": [
      "{'Yes': 24329, 'No': 24207}\n",
      "{'Moderate': 16261, 'Severe': 16157, 'Mild': 16118}\n",
      "{'Moderate': 12243, 'Severe': 12132, 'Mild': 12042}\n",
      "{'Insertion': 12239, 'Duplication': 12220, 'Point Mutation': 12133, 'Deletion': 11944}\n",
      "{'Middle': 12289, 'Pre-Symptomatic': 12191, 'Early': 12032, 'Late': 12024}\n",
      "{'HTT': 12229, 'MLH1': 12223, 'MSH3': 12056, 'HTT (Somatic Expansion)': 12028}\n",
      "{'4p16.3': 24257, '3p22.2': 12223, '5q14.1': 12056}\n",
      "{'Mismatch Repair': 24279, 'CAG Trinucleotide Repeat Expansion': 12229, 'CAG Repeat Instability': 12028}\n",
      "{'CAG Repeat Expansion': 24279, 'Neurodegeneration': 12229, 'Faster Disease Onset': 12028}\n",
      "{'Trans-acting Modifier': 24279, 'Primary Cause': 12229, 'Cis-acting Modifier': 12028}\n"
     ]
    }
   ],
   "source": [
    "for target in TARGETS:\n",
    "    print(df[target].value_counts().to_dict())"
   ]
  },
  {
   "cell_type": "markdown",
   "id": "06c2f49b",
   "metadata": {
    "papermill": {
     "duration": 0.005424,
     "end_time": "2025-02-28T14:30:36.584703",
     "exception": false,
     "start_time": "2025-02-28T14:30:36.579279",
     "status": "completed"
    },
    "tags": []
   },
   "source": [
    "Let's build our scatter plot. For performance reasons we'll use a smallish sample of our data."
   ]
  },
  {
   "cell_type": "code",
   "execution_count": 7,
   "id": "a737ce1a",
   "metadata": {
    "execution": {
     "iopub.execute_input": "2025-02-28T14:30:36.596788Z",
     "iopub.status.busy": "2025-02-28T14:30:36.596396Z",
     "iopub.status.idle": "2025-02-28T14:30:42.924589Z",
     "shell.execute_reply": "2025-02-28T14:30:42.923641Z"
    },
    "papermill": {
     "duration": 6.336403,
     "end_time": "2025-02-28T14:30:42.926417",
     "exception": false,
     "start_time": "2025-02-28T14:30:36.590014",
     "status": "completed"
    },
    "tags": []
   },
   "outputs": [],
   "source": [
    "from sklearn.manifold import TSNE\n",
    "\n",
    "COLUMNS = [key for key, value in df.dtypes.to_dict().items() if str(value) in {'int64', 'float64'}]\n",
    "N = 1000\n",
    "RANDOM_STATE = 2025\n",
    "\n",
    "reducer = TSNE(random_state=RANDOM_STATE)\n",
    "sample_df = df.sample(n=N, random_state=RANDOM_STATE)\n",
    "plot_df = pd.DataFrame(columns=['x', 'y'], data=reducer.fit_transform(X=sample_df[COLUMNS]))\n",
    "for target in TARGETS:\n",
    "    plot_df[target] = sample_df[target].to_list()"
   ]
  },
  {
   "cell_type": "markdown",
   "id": "f9382717",
   "metadata": {
    "papermill": {
     "duration": 0.005202,
     "end_time": "2025-02-28T14:30:42.937154",
     "exception": false,
     "start_time": "2025-02-28T14:30:42.931952",
     "status": "completed"
    },
    "tags": []
   },
   "source": [
    "Now let's color our scatter plots by each of the target variables and see if we see any local clustering that corresponds to the target variable."
   ]
  },
  {
   "cell_type": "code",
   "execution_count": 8,
   "id": "7399d32d",
   "metadata": {
    "execution": {
     "iopub.execute_input": "2025-02-28T14:30:42.949260Z",
     "iopub.status.busy": "2025-02-28T14:30:42.948675Z",
     "iopub.status.idle": "2025-02-28T14:30:44.855837Z",
     "shell.execute_reply": "2025-02-28T14:30:44.854728Z"
    },
    "papermill": {
     "duration": 1.915162,
     "end_time": "2025-02-28T14:30:44.857613",
     "exception": false,
     "start_time": "2025-02-28T14:30:42.942451",
     "status": "completed"
    },
    "tags": []
   },
   "outputs": [
    {
     "data": {
      "text/html": [
       "<iframe\n",
       "    scrolling=\"no\"\n",
       "    width=\"100%\"\n",
       "    height=\"545px\"\n",
       "    src=\"iframe_figures/figure_8.html\"\n",
       "    frameborder=\"0\"\n",
       "    allowfullscreen\n",
       "></iframe>\n"
      ]
     },
     "metadata": {},
     "output_type": "display_data"
    }
   ],
   "source": [
    "express.scatter(data_frame=plot_df, x='x', y='y', color=TARGETS[0])"
   ]
  },
  {
   "cell_type": "code",
   "execution_count": 9,
   "id": "3e501ef6",
   "metadata": {
    "execution": {
     "iopub.execute_input": "2025-02-28T14:30:44.870078Z",
     "iopub.status.busy": "2025-02-28T14:30:44.869675Z",
     "iopub.status.idle": "2025-02-28T14:30:44.973083Z",
     "shell.execute_reply": "2025-02-28T14:30:44.971912Z"
    },
    "papermill": {
     "duration": 0.111785,
     "end_time": "2025-02-28T14:30:44.974965",
     "exception": false,
     "start_time": "2025-02-28T14:30:44.863180",
     "status": "completed"
    },
    "tags": []
   },
   "outputs": [
    {
     "data": {
      "text/html": [
       "<iframe\n",
       "    scrolling=\"no\"\n",
       "    width=\"100%\"\n",
       "    height=\"545px\"\n",
       "    src=\"iframe_figures/figure_9.html\"\n",
       "    frameborder=\"0\"\n",
       "    allowfullscreen\n",
       "></iframe>\n"
      ]
     },
     "metadata": {},
     "output_type": "display_data"
    }
   ],
   "source": [
    "express.scatter(data_frame=plot_df, x='x', y='y', color=TARGETS[1])"
   ]
  },
  {
   "cell_type": "code",
   "execution_count": 10,
   "id": "74b226ce",
   "metadata": {
    "execution": {
     "iopub.execute_input": "2025-02-28T14:30:44.987484Z",
     "iopub.status.busy": "2025-02-28T14:30:44.987117Z",
     "iopub.status.idle": "2025-02-28T14:30:45.090128Z",
     "shell.execute_reply": "2025-02-28T14:30:45.089018Z"
    },
    "papermill": {
     "duration": 0.111148,
     "end_time": "2025-02-28T14:30:45.091889",
     "exception": false,
     "start_time": "2025-02-28T14:30:44.980741",
     "status": "completed"
    },
    "tags": []
   },
   "outputs": [
    {
     "data": {
      "text/html": [
       "<iframe\n",
       "    scrolling=\"no\"\n",
       "    width=\"100%\"\n",
       "    height=\"545px\"\n",
       "    src=\"iframe_figures/figure_10.html\"\n",
       "    frameborder=\"0\"\n",
       "    allowfullscreen\n",
       "></iframe>\n"
      ]
     },
     "metadata": {},
     "output_type": "display_data"
    }
   ],
   "source": [
    "express.scatter(data_frame=plot_df, x='x', y='y', color=TARGETS[2])"
   ]
  },
  {
   "cell_type": "code",
   "execution_count": 11,
   "id": "cbd80be2",
   "metadata": {
    "execution": {
     "iopub.execute_input": "2025-02-28T14:30:45.104747Z",
     "iopub.status.busy": "2025-02-28T14:30:45.104328Z",
     "iopub.status.idle": "2025-02-28T14:30:45.212913Z",
     "shell.execute_reply": "2025-02-28T14:30:45.211786Z"
    },
    "papermill": {
     "duration": 0.117151,
     "end_time": "2025-02-28T14:30:45.214866",
     "exception": false,
     "start_time": "2025-02-28T14:30:45.097715",
     "status": "completed"
    },
    "tags": []
   },
   "outputs": [
    {
     "data": {
      "text/html": [
       "<iframe\n",
       "    scrolling=\"no\"\n",
       "    width=\"100%\"\n",
       "    height=\"545px\"\n",
       "    src=\"iframe_figures/figure_11.html\"\n",
       "    frameborder=\"0\"\n",
       "    allowfullscreen\n",
       "></iframe>\n"
      ]
     },
     "metadata": {},
     "output_type": "display_data"
    }
   ],
   "source": [
    "express.scatter(data_frame=plot_df, x='x', y='y', color=TARGETS[3])"
   ]
  },
  {
   "cell_type": "code",
   "execution_count": 12,
   "id": "ad86f192",
   "metadata": {
    "execution": {
     "iopub.execute_input": "2025-02-28T14:30:45.227729Z",
     "iopub.status.busy": "2025-02-28T14:30:45.227312Z",
     "iopub.status.idle": "2025-02-28T14:30:45.334199Z",
     "shell.execute_reply": "2025-02-28T14:30:45.333235Z"
    },
    "papermill": {
     "duration": 0.1152,
     "end_time": "2025-02-28T14:30:45.335915",
     "exception": false,
     "start_time": "2025-02-28T14:30:45.220715",
     "status": "completed"
    },
    "tags": []
   },
   "outputs": [
    {
     "data": {
      "text/html": [
       "<iframe\n",
       "    scrolling=\"no\"\n",
       "    width=\"100%\"\n",
       "    height=\"545px\"\n",
       "    src=\"iframe_figures/figure_12.html\"\n",
       "    frameborder=\"0\"\n",
       "    allowfullscreen\n",
       "></iframe>\n"
      ]
     },
     "metadata": {},
     "output_type": "display_data"
    }
   ],
   "source": [
    "express.scatter(data_frame=plot_df, x='x', y='y', color=TARGETS[4])"
   ]
  },
  {
   "cell_type": "code",
   "execution_count": 13,
   "id": "90f0eeb7",
   "metadata": {
    "execution": {
     "iopub.execute_input": "2025-02-28T14:30:45.349341Z",
     "iopub.status.busy": "2025-02-28T14:30:45.348998Z",
     "iopub.status.idle": "2025-02-28T14:30:45.451407Z",
     "shell.execute_reply": "2025-02-28T14:30:45.450584Z"
    },
    "papermill": {
     "duration": 0.111094,
     "end_time": "2025-02-28T14:30:45.453131",
     "exception": false,
     "start_time": "2025-02-28T14:30:45.342037",
     "status": "completed"
    },
    "tags": []
   },
   "outputs": [
    {
     "data": {
      "text/html": [
       "<iframe\n",
       "    scrolling=\"no\"\n",
       "    width=\"100%\"\n",
       "    height=\"545px\"\n",
       "    src=\"iframe_figures/figure_13.html\"\n",
       "    frameborder=\"0\"\n",
       "    allowfullscreen\n",
       "></iframe>\n"
      ]
     },
     "metadata": {},
     "output_type": "display_data"
    }
   ],
   "source": [
    "express.scatter(data_frame=plot_df, x='x', y='y', color=TARGETS[5])"
   ]
  },
  {
   "cell_type": "code",
   "execution_count": 14,
   "id": "f2895118",
   "metadata": {
    "execution": {
     "iopub.execute_input": "2025-02-28T14:30:45.466112Z",
     "iopub.status.busy": "2025-02-28T14:30:45.465782Z",
     "iopub.status.idle": "2025-02-28T14:30:45.566456Z",
     "shell.execute_reply": "2025-02-28T14:30:45.565372Z"
    },
    "papermill": {
     "duration": 0.109297,
     "end_time": "2025-02-28T14:30:45.568358",
     "exception": false,
     "start_time": "2025-02-28T14:30:45.459061",
     "status": "completed"
    },
    "tags": []
   },
   "outputs": [
    {
     "data": {
      "text/html": [
       "<iframe\n",
       "    scrolling=\"no\"\n",
       "    width=\"100%\"\n",
       "    height=\"545px\"\n",
       "    src=\"iframe_figures/figure_14.html\"\n",
       "    frameborder=\"0\"\n",
       "    allowfullscreen\n",
       "></iframe>\n"
      ]
     },
     "metadata": {},
     "output_type": "display_data"
    }
   ],
   "source": [
    "express.scatter(data_frame=plot_df, x='x', y='y', color=TARGETS[6])"
   ]
  },
  {
   "cell_type": "code",
   "execution_count": 15,
   "id": "166e8efa",
   "metadata": {
    "execution": {
     "iopub.execute_input": "2025-02-28T14:30:45.582143Z",
     "iopub.status.busy": "2025-02-28T14:30:45.581797Z",
     "iopub.status.idle": "2025-02-28T14:30:45.681926Z",
     "shell.execute_reply": "2025-02-28T14:30:45.681009Z"
    },
    "papermill": {
     "duration": 0.109132,
     "end_time": "2025-02-28T14:30:45.683863",
     "exception": false,
     "start_time": "2025-02-28T14:30:45.574731",
     "status": "completed"
    },
    "tags": []
   },
   "outputs": [
    {
     "data": {
      "text/html": [
       "<iframe\n",
       "    scrolling=\"no\"\n",
       "    width=\"100%\"\n",
       "    height=\"545px\"\n",
       "    src=\"iframe_figures/figure_15.html\"\n",
       "    frameborder=\"0\"\n",
       "    allowfullscreen\n",
       "></iframe>\n"
      ]
     },
     "metadata": {},
     "output_type": "display_data"
    }
   ],
   "source": [
    "express.scatter(data_frame=plot_df, x='x', y='y', color=TARGETS[7])"
   ]
  },
  {
   "cell_type": "code",
   "execution_count": 16,
   "id": "00aa6e22",
   "metadata": {
    "execution": {
     "iopub.execute_input": "2025-02-28T14:30:45.697605Z",
     "iopub.status.busy": "2025-02-28T14:30:45.697210Z",
     "iopub.status.idle": "2025-02-28T14:30:45.797634Z",
     "shell.execute_reply": "2025-02-28T14:30:45.796717Z"
    },
    "papermill": {
     "duration": 0.109298,
     "end_time": "2025-02-28T14:30:45.799390",
     "exception": false,
     "start_time": "2025-02-28T14:30:45.690092",
     "status": "completed"
    },
    "tags": []
   },
   "outputs": [
    {
     "data": {
      "text/html": [
       "<iframe\n",
       "    scrolling=\"no\"\n",
       "    width=\"100%\"\n",
       "    height=\"545px\"\n",
       "    src=\"iframe_figures/figure_16.html\"\n",
       "    frameborder=\"0\"\n",
       "    allowfullscreen\n",
       "></iframe>\n"
      ]
     },
     "metadata": {},
     "output_type": "display_data"
    }
   ],
   "source": [
    "express.scatter(data_frame=plot_df, x='x', y='y', color=TARGETS[8])"
   ]
  },
  {
   "cell_type": "code",
   "execution_count": 17,
   "id": "5e84595c",
   "metadata": {
    "execution": {
     "iopub.execute_input": "2025-02-28T14:30:45.813496Z",
     "iopub.status.busy": "2025-02-28T14:30:45.813146Z",
     "iopub.status.idle": "2025-02-28T14:30:45.912983Z",
     "shell.execute_reply": "2025-02-28T14:30:45.912085Z"
    },
    "papermill": {
     "duration": 0.108932,
     "end_time": "2025-02-28T14:30:45.914706",
     "exception": false,
     "start_time": "2025-02-28T14:30:45.805774",
     "status": "completed"
    },
    "tags": []
   },
   "outputs": [
    {
     "data": {
      "text/html": [
       "<iframe\n",
       "    scrolling=\"no\"\n",
       "    width=\"100%\"\n",
       "    height=\"545px\"\n",
       "    src=\"iframe_figures/figure_17.html\"\n",
       "    frameborder=\"0\"\n",
       "    allowfullscreen\n",
       "></iframe>\n"
      ]
     },
     "metadata": {},
     "output_type": "display_data"
    }
   ],
   "source": [
    "express.scatter(data_frame=plot_df, x='x', y='y', color=TARGETS[9])"
   ]
  },
  {
   "cell_type": "markdown",
   "id": "bc23212e",
   "metadata": {
    "papermill": {
     "duration": 0.005995,
     "end_time": "2025-02-28T14:30:45.927045",
     "exception": false,
     "start_time": "2025-02-28T14:30:45.921050",
     "status": "completed"
    },
    "tags": []
   },
   "source": [
    "Unfortunately we don't see any local clustering that corresponds to our target variables."
   ]
  }
 ],
 "metadata": {
  "kaggle": {
   "accelerator": "none",
   "dataSources": [
    {
     "datasetId": 6758598,
     "sourceId": 10877667,
     "sourceType": "datasetVersion"
    }
   ],
   "dockerImageVersionId": 30918,
   "isGpuEnabled": false,
   "isInternetEnabled": true,
   "language": "python",
   "sourceType": "notebook"
  },
  "kernelspec": {
   "display_name": "Python 3",
   "language": "python",
   "name": "python3"
  },
  "language_info": {
   "codemirror_mode": {
    "name": "ipython",
    "version": 3
   },
   "file_extension": ".py",
   "mimetype": "text/x-python",
   "name": "python",
   "nbconvert_exporter": "python",
   "pygments_lexer": "ipython3",
   "version": "3.10.12"
  },
  "papermill": {
   "default_parameters": {},
   "duration": 16.189698,
   "end_time": "2025-02-28T14:30:46.753672",
   "environment_variables": {},
   "exception": null,
   "input_path": "__notebook__.ipynb",
   "output_path": "__notebook__.ipynb",
   "parameters": {},
   "start_time": "2025-02-28T14:30:30.563974",
   "version": "2.6.0"
  }
 },
 "nbformat": 4,
 "nbformat_minor": 5
}
