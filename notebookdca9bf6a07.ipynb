{
 "cells": [
  {
   "cell_type": "code",
   "execution_count": 1,
   "id": "7f2ca50b",
   "metadata": {
    "_cell_guid": "b1076dfc-b9ad-4769-8c92-a6c4dae69d19",
    "_uuid": "8f2839f25d086af736a60e9eeb907d3b93b6e0e5",
    "execution": {
     "iopub.execute_input": "2025-02-28T14:23:28.491553Z",
     "iopub.status.busy": "2025-02-28T14:23:28.491246Z",
     "iopub.status.idle": "2025-02-28T14:23:29.755423Z",
     "shell.execute_reply": "2025-02-28T14:23:29.754638Z"
    },
    "papermill": {
     "duration": 1.26984,
     "end_time": "2025-02-28T14:23:29.756655",
     "exception": false,
     "start_time": "2025-02-28T14:23:28.486815",
     "status": "completed"
    },
    "tags": []
   },
   "outputs": [
    {
     "data": {
      "text/html": [
       "<div>\n",
       "<style scoped>\n",
       "    .dataframe tbody tr th:only-of-type {\n",
       "        vertical-align: middle;\n",
       "    }\n",
       "\n",
       "    .dataframe tbody tr th {\n",
       "        vertical-align: top;\n",
       "    }\n",
       "\n",
       "    .dataframe thead th {\n",
       "        text-align: right;\n",
       "    }\n",
       "</style>\n",
       "<table border=\"1\" class=\"dataframe\">\n",
       "  <thead>\n",
       "    <tr style=\"text-align: right;\">\n",
       "      <th></th>\n",
       "      <th>Patient_ID</th>\n",
       "      <th>Age</th>\n",
       "      <th>Sex</th>\n",
       "      <th>Family_History</th>\n",
       "      <th>HTT_CAG_Repeat_Length</th>\n",
       "      <th>Motor_Symptoms</th>\n",
       "      <th>Cognitive_Decline</th>\n",
       "      <th>Chorea_Score</th>\n",
       "      <th>Brain_Volume_Loss</th>\n",
       "      <th>Functional_Capacity</th>\n",
       "      <th>...</th>\n",
       "      <th>HTT_Gene_Expression_Level</th>\n",
       "      <th>Protein_Aggregation_Level</th>\n",
       "      <th>Random_Protein_Sequence</th>\n",
       "      <th>Random_Gene_Sequence</th>\n",
       "      <th>Disease_Stage</th>\n",
       "      <th>Gene/Factor</th>\n",
       "      <th>Chromosome_Location</th>\n",
       "      <th>Function</th>\n",
       "      <th>Effect</th>\n",
       "      <th>Category</th>\n",
       "    </tr>\n",
       "  </thead>\n",
       "  <tbody>\n",
       "    <tr>\n",
       "      <th>0</th>\n",
       "      <td>b2a49170-8561-4665-9371-2240b55dd87a</td>\n",
       "      <td>31</td>\n",
       "      <td>Male</td>\n",
       "      <td>No</td>\n",
       "      <td>67</td>\n",
       "      <td>Moderate</td>\n",
       "      <td>Severe</td>\n",
       "      <td>8.80</td>\n",
       "      <td>3.20</td>\n",
       "      <td>94</td>\n",
       "      <td>...</td>\n",
       "      <td>1.67</td>\n",
       "      <td>0.58</td>\n",
       "      <td>DAHKIRSPMRVGPHYYAQCDNNDTGSDKEHWLKTEAAPMTMDRTVE...</td>\n",
       "      <td>GCCAGCAGCGCCCGAGCGTATGAGGTATATGGATTGGACATTGGGC...</td>\n",
       "      <td>Middle</td>\n",
       "      <td>HTT</td>\n",
       "      <td>4p16.3</td>\n",
       "      <td>CAG Trinucleotide Repeat Expansion</td>\n",
       "      <td>Neurodegeneration</td>\n",
       "      <td>Primary Cause</td>\n",
       "    </tr>\n",
       "    <tr>\n",
       "      <th>1</th>\n",
       "      <td>f5fae45d-8718-41c4-a957-6928f79f3c8e</td>\n",
       "      <td>33</td>\n",
       "      <td>Female</td>\n",
       "      <td>Yes</td>\n",
       "      <td>38</td>\n",
       "      <td>Severe</td>\n",
       "      <td>Moderate</td>\n",
       "      <td>3.24</td>\n",
       "      <td>5.98</td>\n",
       "      <td>50</td>\n",
       "      <td>...</td>\n",
       "      <td>0.18</td>\n",
       "      <td>0.30</td>\n",
       "      <td>PANGFWYHNCLRFWNIPPYVMEGFPLADITEVHKWRVSGFMCWETQ...</td>\n",
       "      <td>AGTTTTCAGTGAGACTCTTCCCCAAAAGCCTCCACTACGACAGTGT...</td>\n",
       "      <td>Pre-Symptomatic</td>\n",
       "      <td>HTT</td>\n",
       "      <td>4p16.3</td>\n",
       "      <td>CAG Trinucleotide Repeat Expansion</td>\n",
       "      <td>Neurodegeneration</td>\n",
       "      <td>Primary Cause</td>\n",
       "    </tr>\n",
       "    <tr>\n",
       "      <th>2</th>\n",
       "      <td>66ab0567-050b-4d56-9ec4-b676309899a6</td>\n",
       "      <td>69</td>\n",
       "      <td>Male</td>\n",
       "      <td>Yes</td>\n",
       "      <td>37</td>\n",
       "      <td>Severe</td>\n",
       "      <td>Moderate</td>\n",
       "      <td>1.01</td>\n",
       "      <td>2.82</td>\n",
       "      <td>69</td>\n",
       "      <td>...</td>\n",
       "      <td>0.90</td>\n",
       "      <td>1.04</td>\n",
       "      <td>NWHEGHGASTWKATMVAWCLMVQHAVTWKEGNTRCREMSCMNFTQL...</td>\n",
       "      <td>TATACCACCAGTGGGAAGAGTAACGATTTTGGAGCGCCCCGAGTCC...</td>\n",
       "      <td>Early</td>\n",
       "      <td>MSH3</td>\n",
       "      <td>5q14.1</td>\n",
       "      <td>Mismatch Repair</td>\n",
       "      <td>CAG Repeat Expansion</td>\n",
       "      <td>Trans-acting Modifier</td>\n",
       "    </tr>\n",
       "    <tr>\n",
       "      <th>3</th>\n",
       "      <td>996a48e4-e841-418f-a539-5a7a86cd815d</td>\n",
       "      <td>66</td>\n",
       "      <td>Male</td>\n",
       "      <td>Yes</td>\n",
       "      <td>50</td>\n",
       "      <td>Mild</td>\n",
       "      <td>Severe</td>\n",
       "      <td>3.21</td>\n",
       "      <td>6.77</td>\n",
       "      <td>76</td>\n",
       "      <td>...</td>\n",
       "      <td>1.16</td>\n",
       "      <td>1.87</td>\n",
       "      <td>KCVQYIQATQMLVQSWGQRNPIMQSSEPDRAHDYESGTPKTYTYML...</td>\n",
       "      <td>GCGCGACCGACCAAAGGACCCATGGTGGTGATCTGTCATTGGATTC...</td>\n",
       "      <td>Pre-Symptomatic</td>\n",
       "      <td>MSH3</td>\n",
       "      <td>5q14.1</td>\n",
       "      <td>Mismatch Repair</td>\n",
       "      <td>CAG Repeat Expansion</td>\n",
       "      <td>Trans-acting Modifier</td>\n",
       "    </tr>\n",
       "    <tr>\n",
       "      <th>4</th>\n",
       "      <td>d45c7ca8-7125-4aaa-8018-5bbc60d35a1f</td>\n",
       "      <td>43</td>\n",
       "      <td>Female</td>\n",
       "      <td>Yes</td>\n",
       "      <td>48</td>\n",
       "      <td>Moderate</td>\n",
       "      <td>Mild</td>\n",
       "      <td>2.31</td>\n",
       "      <td>7.53</td>\n",
       "      <td>70</td>\n",
       "      <td>...</td>\n",
       "      <td>1.85</td>\n",
       "      <td>2.94</td>\n",
       "      <td>DQPGNMTRQNKNHCMWRAKRPTKHPGHKPGEIDKEKSEQNDADSSA...</td>\n",
       "      <td>GGGACCGCGGTTCTAGAAGAGAGGTTCTCTGACCGCCGAAGGATTC...</td>\n",
       "      <td>Late</td>\n",
       "      <td>HTT (Somatic Expansion)</td>\n",
       "      <td>4p16.3</td>\n",
       "      <td>CAG Repeat Instability</td>\n",
       "      <td>Faster Disease Onset</td>\n",
       "      <td>Cis-acting Modifier</td>\n",
       "    </tr>\n",
       "  </tbody>\n",
       "</table>\n",
       "<p>5 rows × 21 columns</p>\n",
       "</div>"
      ],
      "text/plain": [
       "                             Patient_ID  Age     Sex Family_History  \\\n",
       "0  b2a49170-8561-4665-9371-2240b55dd87a   31    Male             No   \n",
       "1  f5fae45d-8718-41c4-a957-6928f79f3c8e   33  Female            Yes   \n",
       "2  66ab0567-050b-4d56-9ec4-b676309899a6   69    Male            Yes   \n",
       "3  996a48e4-e841-418f-a539-5a7a86cd815d   66    Male            Yes   \n",
       "4  d45c7ca8-7125-4aaa-8018-5bbc60d35a1f   43  Female            Yes   \n",
       "\n",
       "   HTT_CAG_Repeat_Length Motor_Symptoms Cognitive_Decline  Chorea_Score  \\\n",
       "0                     67       Moderate            Severe          8.80   \n",
       "1                     38         Severe          Moderate          3.24   \n",
       "2                     37         Severe          Moderate          1.01   \n",
       "3                     50           Mild            Severe          3.21   \n",
       "4                     48       Moderate              Mild          2.31   \n",
       "\n",
       "   Brain_Volume_Loss  Functional_Capacity  ... HTT_Gene_Expression_Level  \\\n",
       "0               3.20                   94  ...                      1.67   \n",
       "1               5.98                   50  ...                      0.18   \n",
       "2               2.82                   69  ...                      0.90   \n",
       "3               6.77                   76  ...                      1.16   \n",
       "4               7.53                   70  ...                      1.85   \n",
       "\n",
       "   Protein_Aggregation_Level  \\\n",
       "0                       0.58   \n",
       "1                       0.30   \n",
       "2                       1.04   \n",
       "3                       1.87   \n",
       "4                       2.94   \n",
       "\n",
       "                             Random_Protein_Sequence  \\\n",
       "0  DAHKIRSPMRVGPHYYAQCDNNDTGSDKEHWLKTEAAPMTMDRTVE...   \n",
       "1  PANGFWYHNCLRFWNIPPYVMEGFPLADITEVHKWRVSGFMCWETQ...   \n",
       "2  NWHEGHGASTWKATMVAWCLMVQHAVTWKEGNTRCREMSCMNFTQL...   \n",
       "3  KCVQYIQATQMLVQSWGQRNPIMQSSEPDRAHDYESGTPKTYTYML...   \n",
       "4  DQPGNMTRQNKNHCMWRAKRPTKHPGHKPGEIDKEKSEQNDADSSA...   \n",
       "\n",
       "                                Random_Gene_Sequence    Disease_Stage  \\\n",
       "0  GCCAGCAGCGCCCGAGCGTATGAGGTATATGGATTGGACATTGGGC...           Middle   \n",
       "1  AGTTTTCAGTGAGACTCTTCCCCAAAAGCCTCCACTACGACAGTGT...  Pre-Symptomatic   \n",
       "2  TATACCACCAGTGGGAAGAGTAACGATTTTGGAGCGCCCCGAGTCC...            Early   \n",
       "3  GCGCGACCGACCAAAGGACCCATGGTGGTGATCTGTCATTGGATTC...  Pre-Symptomatic   \n",
       "4  GGGACCGCGGTTCTAGAAGAGAGGTTCTCTGACCGCCGAAGGATTC...             Late   \n",
       "\n",
       "               Gene/Factor Chromosome_Location  \\\n",
       "0                      HTT              4p16.3   \n",
       "1                      HTT              4p16.3   \n",
       "2                     MSH3              5q14.1   \n",
       "3                     MSH3              5q14.1   \n",
       "4  HTT (Somatic Expansion)              4p16.3   \n",
       "\n",
       "                             Function                Effect  \\\n",
       "0  CAG Trinucleotide Repeat Expansion     Neurodegeneration   \n",
       "1  CAG Trinucleotide Repeat Expansion     Neurodegeneration   \n",
       "2                     Mismatch Repair  CAG Repeat Expansion   \n",
       "3                     Mismatch Repair  CAG Repeat Expansion   \n",
       "4              CAG Repeat Instability  Faster Disease Onset   \n",
       "\n",
       "                Category  \n",
       "0          Primary Cause  \n",
       "1          Primary Cause  \n",
       "2  Trans-acting Modifier  \n",
       "3  Trans-acting Modifier  \n",
       "4    Cis-acting Modifier  \n",
       "\n",
       "[5 rows x 21 columns]"
      ]
     },
     "execution_count": 1,
     "metadata": {},
     "output_type": "execute_result"
    }
   ],
   "source": [
    "import pandas as pd\n",
    "\n",
    "DATA = '/kaggle/input/huntington-disease-dataset/Huntington_Disease_Dataset.csv'\n",
    "df = pd.read_csv(filepath_or_buffer=DATA)\n",
    "df.head()"
   ]
  },
  {
   "cell_type": "code",
   "execution_count": 2,
   "id": "91afc1da",
   "metadata": {
    "execution": {
     "iopub.execute_input": "2025-02-28T14:23:29.764133Z",
     "iopub.status.busy": "2025-02-28T14:23:29.763863Z",
     "iopub.status.idle": "2025-02-28T14:23:29.808399Z",
     "shell.execute_reply": "2025-02-28T14:23:29.807350Z"
    },
    "papermill": {
     "duration": 0.049834,
     "end_time": "2025-02-28T14:23:29.809725",
     "exception": false,
     "start_time": "2025-02-28T14:23:29.759891",
     "status": "completed"
    },
    "tags": []
   },
   "outputs": [
    {
     "name": "stdout",
     "output_type": "stream",
     "text": [
      "<class 'pandas.core.frame.DataFrame'>\n",
      "RangeIndex: 48536 entries, 0 to 48535\n",
      "Data columns (total 21 columns):\n",
      " #   Column                     Non-Null Count  Dtype  \n",
      "---  ------                     --------------  -----  \n",
      " 0   Patient_ID                 48536 non-null  object \n",
      " 1   Age                        48536 non-null  int64  \n",
      " 2   Sex                        48536 non-null  object \n",
      " 3   Family_History             48536 non-null  object \n",
      " 4   HTT_CAG_Repeat_Length      48536 non-null  int64  \n",
      " 5   Motor_Symptoms             48536 non-null  object \n",
      " 6   Cognitive_Decline          36417 non-null  object \n",
      " 7   Chorea_Score               48536 non-null  float64\n",
      " 8   Brain_Volume_Loss          48536 non-null  float64\n",
      " 9   Functional_Capacity        48536 non-null  int64  \n",
      " 10  Gene_Mutation_Type         48536 non-null  object \n",
      " 11  HTT_Gene_Expression_Level  48536 non-null  float64\n",
      " 12  Protein_Aggregation_Level  48536 non-null  float64\n",
      " 13  Random_Protein_Sequence    48536 non-null  object \n",
      " 14  Random_Gene_Sequence       48536 non-null  object \n",
      " 15  Disease_Stage              48536 non-null  object \n",
      " 16  Gene/Factor                48536 non-null  object \n",
      " 17  Chromosome_Location        48536 non-null  object \n",
      " 18  Function                   48536 non-null  object \n",
      " 19  Effect                     48536 non-null  object \n",
      " 20  Category                   48536 non-null  object \n",
      "dtypes: float64(4), int64(3), object(14)\n",
      "memory usage: 7.8+ MB\n"
     ]
    }
   ],
   "source": [
    "df.info()"
   ]
  },
  {
   "cell_type": "code",
   "execution_count": 3,
   "id": "85d1f91a",
   "metadata": {
    "execution": {
     "iopub.execute_input": "2025-02-28T14:23:29.816548Z",
     "iopub.status.busy": "2025-02-28T14:23:29.816295Z",
     "iopub.status.idle": "2025-02-28T14:23:29.878336Z",
     "shell.execute_reply": "2025-02-28T14:23:29.877539Z"
    },
    "papermill": {
     "duration": 0.066524,
     "end_time": "2025-02-28T14:23:29.879447",
     "exception": false,
     "start_time": "2025-02-28T14:23:29.812923",
     "status": "completed"
    },
    "tags": []
   },
   "outputs": [
    {
     "data": {
      "text/plain": [
       "Patient_ID                   48536\n",
       "Age                             51\n",
       "Sex                              2\n",
       "Family_History                   2\n",
       "HTT_CAG_Repeat_Length           46\n",
       "Motor_Symptoms                   3\n",
       "Cognitive_Decline                3\n",
       "Chorea_Score                  1001\n",
       "Brain_Volume_Loss              651\n",
       "Functional_Capacity            101\n",
       "Gene_Mutation_Type               4\n",
       "HTT_Gene_Expression_Level      241\n",
       "Protein_Aggregation_Level      491\n",
       "Random_Protein_Sequence      48536\n",
       "Random_Gene_Sequence         48536\n",
       "Disease_Stage                    4\n",
       "Gene/Factor                      4\n",
       "Chromosome_Location              3\n",
       "Function                         3\n",
       "Effect                           3\n",
       "Category                         3\n",
       "dtype: int64"
      ]
     },
     "execution_count": 3,
     "metadata": {},
     "output_type": "execute_result"
    }
   ],
   "source": [
    "df.nunique()"
   ]
  },
  {
   "cell_type": "code",
   "execution_count": 4,
   "id": "fb968781",
   "metadata": {
    "execution": {
     "iopub.execute_input": "2025-02-28T14:23:29.886261Z",
     "iopub.status.busy": "2025-02-28T14:23:29.886073Z",
     "iopub.status.idle": "2025-02-28T14:23:30.777871Z",
     "shell.execute_reply": "2025-02-28T14:23:30.776986Z"
    },
    "papermill": {
     "duration": 0.896741,
     "end_time": "2025-02-28T14:23:30.779391",
     "exception": false,
     "start_time": "2025-02-28T14:23:29.882650",
     "status": "completed"
    },
    "tags": []
   },
   "outputs": [],
   "source": [
    "from plotly import express\n",
    "from plotly import io\n",
    "\n",
    "io.renderers.default = 'iframe'"
   ]
  },
  {
   "cell_type": "code",
   "execution_count": 5,
   "id": "0ddba5b1",
   "metadata": {
    "execution": {
     "iopub.execute_input": "2025-02-28T14:23:30.786659Z",
     "iopub.status.busy": "2025-02-28T14:23:30.786359Z",
     "iopub.status.idle": "2025-02-28T14:23:30.789416Z",
     "shell.execute_reply": "2025-02-28T14:23:30.788794Z"
    },
    "papermill": {
     "duration": 0.007687,
     "end_time": "2025-02-28T14:23:30.790420",
     "exception": false,
     "start_time": "2025-02-28T14:23:30.782733",
     "status": "completed"
    },
    "tags": []
   },
   "outputs": [],
   "source": [
    "TARGETS = ['Family_History', 'Motor_Symptoms', 'Cognitive_Decline', 'Gene_Mutation_Type', 'Disease_Stage', 'Gene/Factor', 'Chromosome_Location', 'Function', 'Effect', 'Category']"
   ]
  },
  {
   "cell_type": "code",
   "execution_count": 6,
   "id": "88c4b242",
   "metadata": {
    "execution": {
     "iopub.execute_input": "2025-02-28T14:23:30.797166Z",
     "iopub.status.busy": "2025-02-28T14:23:30.796958Z",
     "iopub.status.idle": "2025-02-28T14:23:30.824150Z",
     "shell.execute_reply": "2025-02-28T14:23:30.823375Z"
    },
    "papermill": {
     "duration": 0.03173,
     "end_time": "2025-02-28T14:23:30.825235",
     "exception": false,
     "start_time": "2025-02-28T14:23:30.793505",
     "status": "completed"
    },
    "tags": []
   },
   "outputs": [
    {
     "name": "stdout",
     "output_type": "stream",
     "text": [
      "{'Yes': 24329, 'No': 24207}\n",
      "{'Moderate': 16261, 'Severe': 16157, 'Mild': 16118}\n",
      "{'Moderate': 12243, 'Severe': 12132, 'Mild': 12042}\n",
      "{'Insertion': 12239, 'Duplication': 12220, 'Point Mutation': 12133, 'Deletion': 11944}\n",
      "{'Middle': 12289, 'Pre-Symptomatic': 12191, 'Early': 12032, 'Late': 12024}\n",
      "{'HTT': 12229, 'MLH1': 12223, 'MSH3': 12056, 'HTT (Somatic Expansion)': 12028}\n",
      "{'4p16.3': 24257, '3p22.2': 12223, '5q14.1': 12056}\n",
      "{'Mismatch Repair': 24279, 'CAG Trinucleotide Repeat Expansion': 12229, 'CAG Repeat Instability': 12028}\n",
      "{'CAG Repeat Expansion': 24279, 'Neurodegeneration': 12229, 'Faster Disease Onset': 12028}\n",
      "{'Trans-acting Modifier': 24279, 'Primary Cause': 12229, 'Cis-acting Modifier': 12028}\n"
     ]
    }
   ],
   "source": [
    "for target in TARGETS:\n",
    "    print(df[target].value_counts().to_dict())"
   ]
  },
  {
   "cell_type": "code",
   "execution_count": 7,
   "id": "db6e1da1",
   "metadata": {
    "execution": {
     "iopub.execute_input": "2025-02-28T14:23:30.832187Z",
     "iopub.status.busy": "2025-02-28T14:23:30.831992Z",
     "iopub.status.idle": "2025-02-28T14:23:35.305770Z",
     "shell.execute_reply": "2025-02-28T14:23:35.305038Z"
    },
    "papermill": {
     "duration": 4.478754,
     "end_time": "2025-02-28T14:23:35.307241",
     "exception": false,
     "start_time": "2025-02-28T14:23:30.828487",
     "status": "completed"
    },
    "tags": []
   },
   "outputs": [],
   "source": [
    "from sklearn.manifold import TSNE\n",
    "\n",
    "COLUMNS = [key for key, value in df.dtypes.to_dict().items() if str(value) in {'int64', 'float64'}]\n",
    "N = 1000\n",
    "RANDOM_STATE = 2025\n",
    "\n",
    "reducer = TSNE(random_state=RANDOM_STATE)\n",
    "sample_df = df.sample(n=N, random_state=RANDOM_STATE)\n",
    "plot_df = pd.DataFrame(columns=['x', 'y'], data=reducer.fit_transform(X=sample_df[COLUMNS]))\n",
    "for target in TARGETS:\n",
    "    plot_df[target] = sample_df[target].to_list()"
   ]
  },
  {
   "cell_type": "code",
   "execution_count": 8,
   "id": "881d57c2",
   "metadata": {
    "execution": {
     "iopub.execute_input": "2025-02-28T14:23:35.316024Z",
     "iopub.status.busy": "2025-02-28T14:23:35.315624Z",
     "iopub.status.idle": "2025-02-28T14:23:36.720492Z",
     "shell.execute_reply": "2025-02-28T14:23:36.719708Z"
    },
    "papermill": {
     "duration": 1.41073,
     "end_time": "2025-02-28T14:23:36.721732",
     "exception": false,
     "start_time": "2025-02-28T14:23:35.311002",
     "status": "completed"
    },
    "tags": []
   },
   "outputs": [
    {
     "data": {
      "text/html": [
       "<iframe\n",
       "    scrolling=\"no\"\n",
       "    width=\"100%\"\n",
       "    height=\"545px\"\n",
       "    src=\"iframe_figures/figure_8.html\"\n",
       "    frameborder=\"0\"\n",
       "    allowfullscreen\n",
       "></iframe>\n"
      ]
     },
     "metadata": {},
     "output_type": "display_data"
    }
   ],
   "source": [
    "express.scatter(data_frame=plot_df, x='x', y='y', color=TARGETS[0])"
   ]
  },
  {
   "cell_type": "code",
   "execution_count": 9,
   "id": "3212c20b",
   "metadata": {
    "execution": {
     "iopub.execute_input": "2025-02-28T14:23:36.729041Z",
     "iopub.status.busy": "2025-02-28T14:23:36.728821Z",
     "iopub.status.idle": "2025-02-28T14:23:36.804806Z",
     "shell.execute_reply": "2025-02-28T14:23:36.803984Z"
    },
    "papermill": {
     "duration": 0.080849,
     "end_time": "2025-02-28T14:23:36.806000",
     "exception": false,
     "start_time": "2025-02-28T14:23:36.725151",
     "status": "completed"
    },
    "tags": []
   },
   "outputs": [
    {
     "data": {
      "text/html": [
       "<iframe\n",
       "    scrolling=\"no\"\n",
       "    width=\"100%\"\n",
       "    height=\"545px\"\n",
       "    src=\"iframe_figures/figure_9.html\"\n",
       "    frameborder=\"0\"\n",
       "    allowfullscreen\n",
       "></iframe>\n"
      ]
     },
     "metadata": {},
     "output_type": "display_data"
    }
   ],
   "source": [
    "express.scatter(data_frame=plot_df, x='x', y='y', color=TARGETS[1])"
   ]
  },
  {
   "cell_type": "code",
   "execution_count": 10,
   "id": "d87e5682",
   "metadata": {
    "execution": {
     "iopub.execute_input": "2025-02-28T14:23:36.813733Z",
     "iopub.status.busy": "2025-02-28T14:23:36.813398Z",
     "iopub.status.idle": "2025-02-28T14:23:36.893122Z",
     "shell.execute_reply": "2025-02-28T14:23:36.892311Z"
    },
    "papermill": {
     "duration": 0.085183,
     "end_time": "2025-02-28T14:23:36.894673",
     "exception": false,
     "start_time": "2025-02-28T14:23:36.809490",
     "status": "completed"
    },
    "tags": []
   },
   "outputs": [
    {
     "data": {
      "text/html": [
       "<iframe\n",
       "    scrolling=\"no\"\n",
       "    width=\"100%\"\n",
       "    height=\"545px\"\n",
       "    src=\"iframe_figures/figure_10.html\"\n",
       "    frameborder=\"0\"\n",
       "    allowfullscreen\n",
       "></iframe>\n"
      ]
     },
     "metadata": {},
     "output_type": "display_data"
    }
   ],
   "source": [
    "express.scatter(data_frame=plot_df, x='x', y='y', color=TARGETS[2])"
   ]
  },
  {
   "cell_type": "code",
   "execution_count": 11,
   "id": "276232b8",
   "metadata": {
    "execution": {
     "iopub.execute_input": "2025-02-28T14:23:36.903094Z",
     "iopub.status.busy": "2025-02-28T14:23:36.902801Z",
     "iopub.status.idle": "2025-02-28T14:23:36.983824Z",
     "shell.execute_reply": "2025-02-28T14:23:36.982961Z"
    },
    "papermill": {
     "duration": 0.086618,
     "end_time": "2025-02-28T14:23:36.985115",
     "exception": false,
     "start_time": "2025-02-28T14:23:36.898497",
     "status": "completed"
    },
    "tags": []
   },
   "outputs": [
    {
     "data": {
      "text/html": [
       "<iframe\n",
       "    scrolling=\"no\"\n",
       "    width=\"100%\"\n",
       "    height=\"545px\"\n",
       "    src=\"iframe_figures/figure_11.html\"\n",
       "    frameborder=\"0\"\n",
       "    allowfullscreen\n",
       "></iframe>\n"
      ]
     },
     "metadata": {},
     "output_type": "display_data"
    }
   ],
   "source": [
    "express.scatter(data_frame=plot_df, x='x', y='y', color=TARGETS[3])"
   ]
  },
  {
   "cell_type": "code",
   "execution_count": 12,
   "id": "18513658",
   "metadata": {
    "execution": {
     "iopub.execute_input": "2025-02-28T14:23:36.993115Z",
     "iopub.status.busy": "2025-02-28T14:23:36.992821Z",
     "iopub.status.idle": "2025-02-28T14:23:37.073882Z",
     "shell.execute_reply": "2025-02-28T14:23:37.073151Z"
    },
    "papermill": {
     "duration": 0.086306,
     "end_time": "2025-02-28T14:23:37.075121",
     "exception": false,
     "start_time": "2025-02-28T14:23:36.988815",
     "status": "completed"
    },
    "tags": []
   },
   "outputs": [
    {
     "data": {
      "text/html": [
       "<iframe\n",
       "    scrolling=\"no\"\n",
       "    width=\"100%\"\n",
       "    height=\"545px\"\n",
       "    src=\"iframe_figures/figure_12.html\"\n",
       "    frameborder=\"0\"\n",
       "    allowfullscreen\n",
       "></iframe>\n"
      ]
     },
     "metadata": {},
     "output_type": "display_data"
    }
   ],
   "source": [
    "express.scatter(data_frame=plot_df, x='x', y='y', color=TARGETS[4])"
   ]
  },
  {
   "cell_type": "code",
   "execution_count": 13,
   "id": "27d5ea66",
   "metadata": {
    "execution": {
     "iopub.execute_input": "2025-02-28T14:23:37.083210Z",
     "iopub.status.busy": "2025-02-28T14:23:37.082922Z",
     "iopub.status.idle": "2025-02-28T14:23:37.161281Z",
     "shell.execute_reply": "2025-02-28T14:23:37.160352Z"
    },
    "papermill": {
     "duration": 0.084068,
     "end_time": "2025-02-28T14:23:37.162976",
     "exception": false,
     "start_time": "2025-02-28T14:23:37.078908",
     "status": "completed"
    },
    "tags": []
   },
   "outputs": [
    {
     "data": {
      "text/html": [
       "<iframe\n",
       "    scrolling=\"no\"\n",
       "    width=\"100%\"\n",
       "    height=\"545px\"\n",
       "    src=\"iframe_figures/figure_13.html\"\n",
       "    frameborder=\"0\"\n",
       "    allowfullscreen\n",
       "></iframe>\n"
      ]
     },
     "metadata": {},
     "output_type": "display_data"
    }
   ],
   "source": [
    "express.scatter(data_frame=plot_df, x='x', y='y', color=TARGETS[5])"
   ]
  },
  {
   "cell_type": "code",
   "execution_count": 14,
   "id": "8e3729de",
   "metadata": {
    "execution": {
     "iopub.execute_input": "2025-02-28T14:23:37.170896Z",
     "iopub.status.busy": "2025-02-28T14:23:37.170658Z",
     "iopub.status.idle": "2025-02-28T14:23:37.243988Z",
     "shell.execute_reply": "2025-02-28T14:23:37.243196Z"
    },
    "papermill": {
     "duration": 0.078691,
     "end_time": "2025-02-28T14:23:37.245425",
     "exception": false,
     "start_time": "2025-02-28T14:23:37.166734",
     "status": "completed"
    },
    "tags": []
   },
   "outputs": [
    {
     "data": {
      "text/html": [
       "<iframe\n",
       "    scrolling=\"no\"\n",
       "    width=\"100%\"\n",
       "    height=\"545px\"\n",
       "    src=\"iframe_figures/figure_14.html\"\n",
       "    frameborder=\"0\"\n",
       "    allowfullscreen\n",
       "></iframe>\n"
      ]
     },
     "metadata": {},
     "output_type": "display_data"
    }
   ],
   "source": [
    "express.scatter(data_frame=plot_df, x='x', y='y', color=TARGETS[6])"
   ]
  },
  {
   "cell_type": "code",
   "execution_count": 15,
   "id": "e77c18ed",
   "metadata": {
    "execution": {
     "iopub.execute_input": "2025-02-28T14:23:37.253771Z",
     "iopub.status.busy": "2025-02-28T14:23:37.253556Z",
     "iopub.status.idle": "2025-02-28T14:23:37.327090Z",
     "shell.execute_reply": "2025-02-28T14:23:37.326305Z"
    },
    "papermill": {
     "duration": 0.079197,
     "end_time": "2025-02-28T14:23:37.328548",
     "exception": false,
     "start_time": "2025-02-28T14:23:37.249351",
     "status": "completed"
    },
    "tags": []
   },
   "outputs": [
    {
     "data": {
      "text/html": [
       "<iframe\n",
       "    scrolling=\"no\"\n",
       "    width=\"100%\"\n",
       "    height=\"545px\"\n",
       "    src=\"iframe_figures/figure_15.html\"\n",
       "    frameborder=\"0\"\n",
       "    allowfullscreen\n",
       "></iframe>\n"
      ]
     },
     "metadata": {},
     "output_type": "display_data"
    }
   ],
   "source": [
    "express.scatter(data_frame=plot_df, x='x', y='y', color=TARGETS[7])"
   ]
  },
  {
   "cell_type": "code",
   "execution_count": 16,
   "id": "29ff42c6",
   "metadata": {
    "execution": {
     "iopub.execute_input": "2025-02-28T14:23:37.336696Z",
     "iopub.status.busy": "2025-02-28T14:23:37.336475Z",
     "iopub.status.idle": "2025-02-28T14:23:37.411539Z",
     "shell.execute_reply": "2025-02-28T14:23:37.410821Z"
    },
    "papermill": {
     "duration": 0.080381,
     "end_time": "2025-02-28T14:23:37.412918",
     "exception": false,
     "start_time": "2025-02-28T14:23:37.332537",
     "status": "completed"
    },
    "tags": []
   },
   "outputs": [
    {
     "data": {
      "text/html": [
       "<iframe\n",
       "    scrolling=\"no\"\n",
       "    width=\"100%\"\n",
       "    height=\"545px\"\n",
       "    src=\"iframe_figures/figure_16.html\"\n",
       "    frameborder=\"0\"\n",
       "    allowfullscreen\n",
       "></iframe>\n"
      ]
     },
     "metadata": {},
     "output_type": "display_data"
    }
   ],
   "source": [
    "express.scatter(data_frame=plot_df, x='x', y='y', color=TARGETS[8])"
   ]
  },
  {
   "cell_type": "code",
   "execution_count": 17,
   "id": "d1d5a43d",
   "metadata": {
    "execution": {
     "iopub.execute_input": "2025-02-28T14:23:37.421548Z",
     "iopub.status.busy": "2025-02-28T14:23:37.421318Z",
     "iopub.status.idle": "2025-02-28T14:23:37.497177Z",
     "shell.execute_reply": "2025-02-28T14:23:37.495947Z"
    },
    "papermill": {
     "duration": 0.081695,
     "end_time": "2025-02-28T14:23:37.498861",
     "exception": false,
     "start_time": "2025-02-28T14:23:37.417166",
     "status": "completed"
    },
    "tags": []
   },
   "outputs": [
    {
     "data": {
      "text/html": [
       "<iframe\n",
       "    scrolling=\"no\"\n",
       "    width=\"100%\"\n",
       "    height=\"545px\"\n",
       "    src=\"iframe_figures/figure_17.html\"\n",
       "    frameborder=\"0\"\n",
       "    allowfullscreen\n",
       "></iframe>\n"
      ]
     },
     "metadata": {},
     "output_type": "display_data"
    }
   ],
   "source": [
    "express.scatter(data_frame=plot_df, x='x', y='y', color=TARGETS[9])"
   ]
  }
 ],
 "metadata": {
  "kaggle": {
   "accelerator": "none",
   "dataSources": [
    {
     "datasetId": 6758598,
     "sourceId": 10877667,
     "sourceType": "datasetVersion"
    }
   ],
   "dockerImageVersionId": 30918,
   "isGpuEnabled": false,
   "isInternetEnabled": true,
   "language": "python",
   "sourceType": "notebook"
  },
  "kernelspec": {
   "display_name": "Python 3",
   "language": "python",
   "name": "python3"
  },
  "language_info": {
   "codemirror_mode": {
    "name": "ipython",
    "version": 3
   },
   "file_extension": ".py",
   "mimetype": "text/x-python",
   "name": "python",
   "nbconvert_exporter": "python",
   "pygments_lexer": "ipython3",
   "version": "3.10.12"
  },
  "papermill": {
   "default_parameters": {},
   "duration": 11.675774,
   "end_time": "2025-02-28T14:23:38.121084",
   "environment_variables": {},
   "exception": null,
   "input_path": "__notebook__.ipynb",
   "output_path": "__notebook__.ipynb",
   "parameters": {},
   "start_time": "2025-02-28T14:23:26.445310",
   "version": "2.6.0"
  }
 },
 "nbformat": 4,
 "nbformat_minor": 5
}
