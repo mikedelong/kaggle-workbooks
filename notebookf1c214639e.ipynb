{
 "cells": [
  {
   "cell_type": "code",
   "execution_count": 1,
   "id": "3ffe0577",
   "metadata": {
    "_cell_guid": "b1076dfc-b9ad-4769-8c92-a6c4dae69d19",
    "_uuid": "8f2839f25d086af736a60e9eeb907d3b93b6e0e5",
    "execution": {
     "iopub.execute_input": "2024-07-26T18:39:21.793228Z",
     "iopub.status.busy": "2024-07-26T18:39:21.792853Z",
     "iopub.status.idle": "2024-07-26T18:39:22.662438Z",
     "shell.execute_reply": "2024-07-26T18:39:22.661184Z"
    },
    "papermill": {
     "duration": 0.877723,
     "end_time": "2024-07-26T18:39:22.664725",
     "exception": false,
     "start_time": "2024-07-26T18:39:21.787002",
     "status": "completed"
    },
    "tags": []
   },
   "outputs": [
    {
     "data": {
      "text/html": [
       "<div>\n",
       "<style scoped>\n",
       "    .dataframe tbody tr th:only-of-type {\n",
       "        vertical-align: middle;\n",
       "    }\n",
       "\n",
       "    .dataframe tbody tr th {\n",
       "        vertical-align: top;\n",
       "    }\n",
       "\n",
       "    .dataframe thead th {\n",
       "        text-align: right;\n",
       "    }\n",
       "</style>\n",
       "<table border=\"1\" class=\"dataframe\">\n",
       "  <thead>\n",
       "    <tr style=\"text-align: right;\">\n",
       "      <th></th>\n",
       "      <th>Age</th>\n",
       "      <th>Gender</th>\n",
       "      <th>Polyuria</th>\n",
       "      <th>Polydipsia</th>\n",
       "      <th>sudden weight loss</th>\n",
       "      <th>weakness</th>\n",
       "      <th>Polyphagia</th>\n",
       "      <th>Genital thrush</th>\n",
       "      <th>visual blurring</th>\n",
       "      <th>Itching</th>\n",
       "      <th>Irritability</th>\n",
       "      <th>delayed healing</th>\n",
       "      <th>partial paresis</th>\n",
       "      <th>muscle stiffness</th>\n",
       "      <th>Alopecia</th>\n",
       "      <th>Obesity</th>\n",
       "      <th>class</th>\n",
       "    </tr>\n",
       "  </thead>\n",
       "  <tbody>\n",
       "    <tr>\n",
       "      <th>0</th>\n",
       "      <td>40</td>\n",
       "      <td>True</td>\n",
       "      <td>False</td>\n",
       "      <td>True</td>\n",
       "      <td>False</td>\n",
       "      <td>True</td>\n",
       "      <td>False</td>\n",
       "      <td>False</td>\n",
       "      <td>False</td>\n",
       "      <td>True</td>\n",
       "      <td>False</td>\n",
       "      <td>True</td>\n",
       "      <td>False</td>\n",
       "      <td>True</td>\n",
       "      <td>True</td>\n",
       "      <td>True</td>\n",
       "      <td>True</td>\n",
       "    </tr>\n",
       "    <tr>\n",
       "      <th>1</th>\n",
       "      <td>58</td>\n",
       "      <td>True</td>\n",
       "      <td>False</td>\n",
       "      <td>False</td>\n",
       "      <td>False</td>\n",
       "      <td>True</td>\n",
       "      <td>False</td>\n",
       "      <td>False</td>\n",
       "      <td>True</td>\n",
       "      <td>False</td>\n",
       "      <td>False</td>\n",
       "      <td>False</td>\n",
       "      <td>True</td>\n",
       "      <td>False</td>\n",
       "      <td>True</td>\n",
       "      <td>False</td>\n",
       "      <td>True</td>\n",
       "    </tr>\n",
       "    <tr>\n",
       "      <th>2</th>\n",
       "      <td>41</td>\n",
       "      <td>True</td>\n",
       "      <td>True</td>\n",
       "      <td>False</td>\n",
       "      <td>False</td>\n",
       "      <td>True</td>\n",
       "      <td>True</td>\n",
       "      <td>False</td>\n",
       "      <td>False</td>\n",
       "      <td>True</td>\n",
       "      <td>False</td>\n",
       "      <td>True</td>\n",
       "      <td>False</td>\n",
       "      <td>True</td>\n",
       "      <td>True</td>\n",
       "      <td>False</td>\n",
       "      <td>True</td>\n",
       "    </tr>\n",
       "    <tr>\n",
       "      <th>3</th>\n",
       "      <td>45</td>\n",
       "      <td>True</td>\n",
       "      <td>False</td>\n",
       "      <td>False</td>\n",
       "      <td>True</td>\n",
       "      <td>True</td>\n",
       "      <td>True</td>\n",
       "      <td>True</td>\n",
       "      <td>False</td>\n",
       "      <td>True</td>\n",
       "      <td>False</td>\n",
       "      <td>True</td>\n",
       "      <td>False</td>\n",
       "      <td>False</td>\n",
       "      <td>False</td>\n",
       "      <td>False</td>\n",
       "      <td>True</td>\n",
       "    </tr>\n",
       "    <tr>\n",
       "      <th>4</th>\n",
       "      <td>60</td>\n",
       "      <td>True</td>\n",
       "      <td>True</td>\n",
       "      <td>True</td>\n",
       "      <td>True</td>\n",
       "      <td>True</td>\n",
       "      <td>True</td>\n",
       "      <td>False</td>\n",
       "      <td>True</td>\n",
       "      <td>True</td>\n",
       "      <td>True</td>\n",
       "      <td>True</td>\n",
       "      <td>True</td>\n",
       "      <td>True</td>\n",
       "      <td>True</td>\n",
       "      <td>True</td>\n",
       "      <td>True</td>\n",
       "    </tr>\n",
       "  </tbody>\n",
       "</table>\n",
       "</div>"
      ],
      "text/plain": [
       "   Age  Gender  Polyuria  Polydipsia  sudden weight loss  weakness  \\\n",
       "0   40    True     False        True               False      True   \n",
       "1   58    True     False       False               False      True   \n",
       "2   41    True      True       False               False      True   \n",
       "3   45    True     False       False                True      True   \n",
       "4   60    True      True        True                True      True   \n",
       "\n",
       "   Polyphagia  Genital thrush  visual blurring  Itching  Irritability  \\\n",
       "0       False           False            False     True         False   \n",
       "1       False           False             True    False         False   \n",
       "2        True           False            False     True         False   \n",
       "3        True            True            False     True         False   \n",
       "4        True           False             True     True          True   \n",
       "\n",
       "   delayed healing  partial paresis  muscle stiffness  Alopecia  Obesity  \\\n",
       "0             True            False              True      True     True   \n",
       "1            False             True             False      True    False   \n",
       "2             True            False              True      True    False   \n",
       "3             True            False             False     False    False   \n",
       "4             True             True              True      True     True   \n",
       "\n",
       "   class  \n",
       "0   True  \n",
       "1   True  \n",
       "2   True  \n",
       "3   True  \n",
       "4   True  "
      ]
     },
     "execution_count": 1,
     "metadata": {},
     "output_type": "execute_result"
    }
   ],
   "source": [
    "import pandas as pd\n",
    "\n",
    "COLUMNS = [ 'Polyuria', 'Polydipsia', 'sudden weight loss',\n",
    "       'weakness', 'Polyphagia', 'Genital thrush', 'visual blurring',\n",
    "       'Itching', 'Irritability', 'delayed healing', 'partial paresis',\n",
    "       'muscle stiffness', 'Alopecia', 'Obesity',]\n",
    "DATA = '/kaggle/input/early-stage-diabetes-risk-prediction/diabetes_data_upload.csv'\n",
    "TARGET = 'class'\n",
    "\n",
    "df = pd.read_csv(filepath_or_buffer=DATA)\n",
    "df['Gender'] = df['Gender'] == 'Male'\n",
    "for column in COLUMNS:\n",
    "    df[column] = df[column] == 'Yes'\n",
    "df[TARGET] = df[TARGET] == 'Positive'\n",
    "df.head()"
   ]
  },
  {
   "cell_type": "markdown",
   "id": "6fc87272",
   "metadata": {
    "papermill": {
     "duration": 0.004634,
     "end_time": "2024-07-26T18:39:22.674042",
     "exception": false,
     "start_time": "2024-07-26T18:39:22.669408",
     "status": "completed"
    },
    "tags": []
   },
   "source": [
    "Is our target class balanced?"
   ]
  },
  {
   "cell_type": "code",
   "execution_count": 2,
   "id": "90a0d5d7",
   "metadata": {
    "execution": {
     "iopub.execute_input": "2024-07-26T18:39:22.684314Z",
     "iopub.status.busy": "2024-07-26T18:39:22.683913Z",
     "iopub.status.idle": "2024-07-26T18:39:22.698428Z",
     "shell.execute_reply": "2024-07-26T18:39:22.697433Z"
    },
    "papermill": {
     "duration": 0.02228,
     "end_time": "2024-07-26T18:39:22.700554",
     "exception": false,
     "start_time": "2024-07-26T18:39:22.678274",
     "status": "completed"
    },
    "tags": []
   },
   "outputs": [
    {
     "data": {
      "text/plain": [
       "{True: 320, False: 200}"
      ]
     },
     "execution_count": 2,
     "metadata": {},
     "output_type": "execute_result"
    }
   ],
   "source": [
    "df[TARGET].value_counts().to_dict()"
   ]
  },
  {
   "cell_type": "markdown",
   "id": "657bc332",
   "metadata": {
    "papermill": {
     "duration": 0.003888,
     "end_time": "2024-07-26T18:39:22.708759",
     "exception": false,
     "start_time": "2024-07-26T18:39:22.704871",
     "status": "completed"
    },
    "tags": []
   },
   "source": [
    "Wow. We have a lot of positives; they outnumber negatives 8:5."
   ]
  },
  {
   "cell_type": "markdown",
   "id": "b0f1684d",
   "metadata": {
    "papermill": {
     "duration": 0.003758,
     "end_time": "2024-07-26T18:39:22.716568",
     "exception": false,
     "start_time": "2024-07-26T18:39:22.712810",
     "status": "completed"
    },
    "tags": []
   },
   "source": [
    "Let's do some dimension reduction and see how our data clusters."
   ]
  },
  {
   "cell_type": "code",
   "execution_count": 3,
   "id": "f1b3635d",
   "metadata": {
    "execution": {
     "iopub.execute_input": "2024-07-26T18:39:22.726206Z",
     "iopub.status.busy": "2024-07-26T18:39:22.725839Z",
     "iopub.status.idle": "2024-07-26T18:40:04.777707Z",
     "shell.execute_reply": "2024-07-26T18:40:04.776507Z"
    },
    "papermill": {
     "duration": 42.059537,
     "end_time": "2024-07-26T18:40:04.780076",
     "exception": false,
     "start_time": "2024-07-26T18:39:22.720539",
     "status": "completed"
    },
    "tags": []
   },
   "outputs": [
    {
     "name": "stderr",
     "output_type": "stream",
     "text": [
      "2024-07-26 18:39:44.273992: E external/local_xla/xla/stream_executor/cuda/cuda_dnn.cc:9261] Unable to register cuDNN factory: Attempting to register factory for plugin cuDNN when one has already been registered\n",
      "2024-07-26 18:39:44.274201: E external/local_xla/xla/stream_executor/cuda/cuda_fft.cc:607] Unable to register cuFFT factory: Attempting to register factory for plugin cuFFT when one has already been registered\n",
      "2024-07-26 18:39:44.425970: E external/local_xla/xla/stream_executor/cuda/cuda_blas.cc:1515] Unable to register cuBLAS factory: Attempting to register factory for plugin cuBLAS when one has already been registered\n"
     ]
    },
    {
     "name": "stdout",
     "output_type": "stream",
     "text": [
      "UMAP(low_memory=False, n_epochs=500, n_jobs=1, random_state=2024, verbose=True)\n",
      "Fri Jul 26 18:39:55 2024 Construct fuzzy simplicial set\n",
      "Fri Jul 26 18:39:55 2024 Finding Nearest Neighbors\n",
      "Fri Jul 26 18:39:59 2024 Finished Nearest Neighbor Search\n",
      "Fri Jul 26 18:40:02 2024 Construct embedding\n"
     ]
    },
    {
     "data": {
      "application/vnd.jupyter.widget-view+json": {
       "model_id": "21a9375a61fa4bf09b639660b913a767",
       "version_major": 2,
       "version_minor": 0
      },
      "text/plain": [
       "Epochs completed:   0%|            0/500 [00:00]"
      ]
     },
     "metadata": {},
     "output_type": "display_data"
    },
    {
     "name": "stdout",
     "output_type": "stream",
     "text": [
      "\tcompleted  0  /  500 epochs\n",
      "\tcompleted  50  /  500 epochs\n",
      "\tcompleted  100  /  500 epochs\n",
      "\tcompleted  150  /  500 epochs\n",
      "\tcompleted  200  /  500 epochs\n",
      "\tcompleted  250  /  500 epochs\n",
      "\tcompleted  300  /  500 epochs\n",
      "\tcompleted  350  /  500 epochs\n",
      "\tcompleted  400  /  500 epochs\n",
      "\tcompleted  450  /  500 epochs\n",
      "Fri Jul 26 18:40:04 2024 Finished embedding\n",
      "done with UMAP in 0:00:09.719119\n"
     ]
    }
   ],
   "source": [
    "import arrow\n",
    "from umap import UMAP\n",
    "\n",
    "time_start = arrow.now()\n",
    "umap = UMAP(random_state=2024, verbose=True, n_jobs=1, low_memory=False, n_epochs=500)\n",
    "df[['x', 'y']] = umap.fit_transform(X=df[COLUMNS + ['Age']])\n",
    "print('done with UMAP in {}'.format(arrow.now() - time_start))"
   ]
  },
  {
   "cell_type": "code",
   "execution_count": 4,
   "id": "c4eecc6d",
   "metadata": {
    "execution": {
     "iopub.execute_input": "2024-07-26T18:40:04.793221Z",
     "iopub.status.busy": "2024-07-26T18:40:04.791810Z",
     "iopub.status.idle": "2024-07-26T18:40:07.426779Z",
     "shell.execute_reply": "2024-07-26T18:40:07.425800Z"
    },
    "papermill": {
     "duration": 2.643857,
     "end_time": "2024-07-26T18:40:07.429184",
     "exception": false,
     "start_time": "2024-07-26T18:40:04.785327",
     "status": "completed"
    },
    "tags": []
   },
   "outputs": [
    {
     "data": {
      "text/html": [
       "        <script type=\"text/javascript\">\n",
       "        window.PlotlyConfig = {MathJaxConfig: 'local'};\n",
       "        if (window.MathJax && window.MathJax.Hub && window.MathJax.Hub.Config) {window.MathJax.Hub.Config({SVG: {font: \"STIX-Web\"}});}\n",
       "        if (typeof require !== 'undefined') {\n",
       "        require.undef(\"plotly\");\n",
       "        requirejs.config({\n",
       "            paths: {\n",
       "                'plotly': ['https://cdn.plot.ly/plotly-2.27.0.min']\n",
       "            }\n",
       "        });\n",
       "        require(['plotly'], function(Plotly) {\n",
       "            window._Plotly = Plotly;\n",
       "        });\n",
       "        }\n",
       "        </script>\n",
       "        "
      ]
     },
     "metadata": {},
     "output_type": "display_data"
    },
    {
     "data": {
      "text/html": [
       "<div>                            <div id=\"ca9eb44c-9260-4bcf-9f12-9518bed483db\" class=\"plotly-graph-div\" style=\"height:525px; width:100%;\"></div>            <script type=\"text/javascript\">                require([\"plotly\"], function(Plotly) {                    window.PLOTLYENV=window.PLOTLYENV || {};                                    if (document.getElementById(\"ca9eb44c-9260-4bcf-9f12-9518bed483db\")) {                    Plotly.newPlot(                        \"ca9eb44c-9260-4bcf-9f12-9518bed483db\",                        [{\"hovertemplate\":\"class=True\\u003cbr\\u003ex=%{x}\\u003cbr\\u003ey=%{y}\\u003cextra\\u003e\\u003c\\u002fextra\\u003e\",\"legendgroup\":\"True\",\"marker\":{\"color\":\"#636efa\",\"symbol\":\"circle\"},\"mode\":\"markers\",\"name\":\"True\",\"orientation\":\"v\",\"showlegend\":true,\"x\":[15.589015,2.1925426,15.479425,12.214602,2.0928633,0.62474334,2.1661818,1.2682472,1.0425453,-0.117876515,10.595986,15.636061,15.21053,2.1642187,2.236708,2.0119038,-2.0384977,0.8558681,1.1873177,10.940318,2.8285747,0.43916154,15.056938,2.6274614,2.0965889,15.176318,12.296072,-1.9130802,13.720338,1.2512745,2.3361566,17.143957,13.954422,0.84017265,2.2941978,2.259773,3.437047,2.495268,15.286356,10.131079,0.4068472,-0.026411971,-0.19437623,21.256725,17.1621,2.5878372,2.0975952,2.1125572,21.169811,5.1454487,21.138224,0.10262195,2.0832613,-0.236514,-0.4985219,13.698869,1.2407135,-1.6543956,3.5087633,16.926523,1.3922526,21.153841,0.9739878,2.1404247,6.5661874,13.813496,10.631213,21.338827,-8.341618,0.20467323,13.747011,21.296646,1.2873534,17.147366,-0.21162246,2.12917,4.666631,1.596587,17.198837,11.1506605,15.853124,4.869867,-0.010871665,2.3931623,21.180937,1.8605016,17.117947,-8.76287,0.3094996,14.948126,6.610504,5.0334444,17.131186,17.13253,21.172195,2.2311888,10.282272,10.241453,15.629927,16.690292,4.633299,-1.3464794,-1.3343161,-1.1627562,-1.0269912,-0.09757521,2.1230419,4.903999,-8.313785,16.878424,-1.9926248,1.040352,-0.034767915,-1.2699413,1.514274,6.443914,10.219655,6.39281,1.334983,15.932176,4.7208714,21.292646,16.841183,4.770315,13.647101,1.7666045,1.3019625,2.487499,15.147749,4.7128053,5.0175314,12.344251,10.162699,-8.325224,15.842263,1.0679076,-2.1499069,2.050288,-0.067126885,15.169444,4.7938833,3.1667707,2.1004772,-1.6722649,0.30158678,2.5856564,15.438517,15.43541,12.099111,10.509535,-0.077277124,11.093736,-2.2171729,2.0227752,2.6716347,15.140877,2.2312448,4.6505585,2.4178255,17.160732,-8.819077,0.33841622,14.937197,6.6030626,4.985431,17.097536,2.234062,17.200682,14.030344,0.8538706,2.2769346,2.319344,3.4388697,2.4824703,15.152656,10.164093,0.3977256,-0.03982048,-0.19254233,21.242216,17.202888,10.18012,15.733655,16.686987,4.5456595,-1.3439789,-1.3408933,-1.2030029,-0.9610556,-0.074731566,2.1755278,2.0272083,1.3685142,15.782859,10.52852,10.989697,1.0636712,3.3028886,1.7581552,0.0251673,2.1363397,4.7065916,1.5957123,17.108458,11.118751,15.858405,4.8857307,-0.052403912,2.386091,21.1724,2.6841474,15.059596,2.225477,4.6543055,2.4123225,17.166653,-8.815575,0.3505514,14.928283,6.6390724,5.060372,17.16822,2.298931,2.1562393,4.6495075,1.5835934,17.066786,11.10068,15.930788,4.85759,3.337196,1.7757286,0.011274792,2.2261636,4.7286954,1.5552492,17.10639,11.100466,15.868793,4.8748484,3.3959827,1.785925,0.011314693,2.2586427,4.5858984,2.4480283,17.18028,-8.784381,0.23480374,14.891429,6.625385,4.9959965,17.089485,2.326866,4.7992334,3.2083054,2.1105134,-1.6436396,0.3396934,2.5500722,15.446098,15.383056,2.137238,4.6865873,1.6644373,17.03301,11.148444,15.948168,4.8458643,3.3453026,0.8713633,1.1924721,10.952341,2.8257413,0.4429417,15.056583,2.5882683,2.0117111,15.126621,12.341312,-1.9990551,13.710493,1.2954731,2.2843094,17.14069,13.998668,0.8874728,2.2594981,2.3669615,3.4599068,2.5121007,15.199496,10.210234,0.39412177,-0.11020349,-0.24464296,21.272932,17.196888,2.5286167,2.095924,17.239408,-8.764497,0.32874125,14.856325,6.610583,5.049612,17.096397,2.284171,2.1678934,4.6715055,1.5689827,17.175814,11.136131,0.28214774,1.3009901,2.571706,1.9351287,17.075132,4.866195,2.1267107],\"xaxis\":\"x\",\"y\":[4.080855,12.099364,4.03953,30.858854,7.618395,13.7741585,12.5705595,-5.8798676,-6.1985016,-7.8147182,32.380367,3.7613647,1.546375,7.531524,7.6074343,12.453402,17.237106,-6.302906,-5.979533,32.978016,7.127613,14.166087,3.604896,18.61463,12.431156,0.6295574,31.978054,18.360167,2.148563,14.3129835,12.698455,5.5021863,1.8716495,13.929106,18.485657,18.457022,7.648192,6.8864417,1.5634253,-11.725909,14.213569,18.659779,18.457058,1.5306593,5.554677,18.612318,7.665852,7.5907316,1.4457848,25.93398,1.4155679,18.46663,7.576587,17.801435,17.727356,2.1815138,-5.9619465,17.731361,7.808182,4.7140136,-5.820776,1.4311435,13.769766,7.709051,26.369967,3.464062,-11.614442,1.6103313,2.4816222,18.404476,3.367838,1.5715387,-5.6782336,4.460032,18.530962,13.483734,24.357351,13.619914,4.5335884,33.12565,1.4654225,25.90858,18.628063,18.531672,1.4581146,18.167995,4.481992,2.0978806,-7.326827,1.4816816,26.346687,23.710926,5.625179,4.898023,1.4653909,12.981494,-11.649039,-11.602337,1.5344089,4.351566,24.429274,-9.163021,-9.160089,-8.660783,-8.569026,-7.616328,12.322232,25.789124,2.5074365,4.6058354,17.97114,14.518175,-7.4876833,-8.994614,13.5737505,26.355156,-11.604706,26.378794,-5.8063464,1.4180125,24.57828,1.5676768,4.7732205,26.49744,2.1827607,13.583823,-5.977272,13.656236,0.52953243,24.30735,23.739536,31.94565,-11.672955,2.4949584,1.4362978,-5.790727,17.608774,12.451581,18.583317,3.733102,26.103846,7.229125,18.32854,17.65371,-7.3471475,7.399621,3.6840038,3.650272,31.045052,32.244797,18.60968,32.80828,17.381979,12.324134,7.255296,0.7468164,13.535926,24.421211,13.647293,4.4328675,2.0432274,-7.2927527,1.6052585,26.353228,23.767813,5.6405025,12.621955,5.422429,1.8977592,13.930746,18.460968,18.467503,7.629041,6.892945,1.5326713,-11.686228,14.212925,18.678616,18.461212,1.5161391,5.536961,-11.550138,1.5067285,4.366969,24.525206,-9.187278,-9.158627,-8.714074,-8.515775,-7.562165,12.3254,13.827905,-5.4517655,1.5293642,32.63504,-11.579488,-5.911504,7.428214,12.013882,-7.7691245,13.45081,24.322443,13.591249,4.5143943,33.144604,1.493185,25.911264,18.612568,18.512718,1.4497122,7.230516,0.78654057,13.559847,24.393047,13.639814,4.4687095,2.0471842,-7.3037305,1.465396,26.329077,23.680477,5.566287,12.670091,13.469936,24.384285,13.604743,4.552513,33.132538,1.418685,25.934647,7.453606,12.044233,-7.730139,13.55013,24.289349,13.605985,4.5318522,33.16159,1.4553207,25.9001,7.480522,12.043764,-7.730569,13.58068,24.454994,13.665235,4.4110966,2.0767376,-7.392363,1.4944035,26.345547,23.762789,5.643549,12.602681,26.080853,7.3339343,18.344545,17.622988,-7.3213596,7.3967304,3.684893,3.615209,13.45567,24.345406,13.516743,4.607509,33.177807,1.427898,25.933315,7.4364333,-6.2826505,-5.9641786,32.96636,7.1300716,14.157806,3.5921113,18.593407,12.428193,0.6470069,31.91727,18.283667,2.1907516,14.308224,12.609018,5.471094,1.8599025,13.979359,18.470161,18.530016,7.638769,6.895065,1.6078594,-11.639077,14.227745,18.591845,18.381947,1.5464224,5.5247927,18.557184,7.6155295,4.3636737,2.096334,-7.3095803,1.5304482,26.332088,23.737518,5.6480346,12.629952,13.46813,24.36087,13.590297,4.4600973,33.19927,-7.350815,-5.894243,6.9908752,13.83897,4.4977336,24.005407,12.386554],\"yaxis\":\"y\",\"type\":\"scatter\"},{\"hovertemplate\":\"class=False\\u003cbr\\u003ex=%{x}\\u003cbr\\u003ey=%{y}\\u003cextra\\u003e\\u003c\\u002fextra\\u003e\",\"legendgroup\":\"False\",\"marker\":{\"color\":\"#EF553B\",\"symbol\":\"circle\"},\"mode\":\"markers\",\"name\":\"False\",\"orientation\":\"v\",\"showlegend\":true,\"x\":[17.222559,-8.352365,13.988019,15.006224,11.042826,0.838062,3.4601347,2.319946,-2.171078,10.796484,13.683742,13.740016,12.217861,2.0379353,4.710256,12.21069,0.719384,-1.265846,10.981137,-8.296265,13.761185,10.609356,13.792826,0.5806802,0.18370275,10.8914995,14.002304,10.591632,5.7464337,5.2850122,15.027722,15.195894,0.629031,-0.34423643,-2.058374,-8.313521,2.3642044,1.241396,-1.2438213,10.951395,5.684889,1.2776928,-0.45654145,14.878753,-2.1952043,11.019147,5.606744,-2.1331947,12.167237,4.7013555,12.228384,0.7375853,-1.2517529,10.973851,-8.320704,13.759061,10.580315,13.8080435,4.733298,12.212665,0.7218545,-1.3064158,11.0937605,-8.415305,13.784466,10.583571,13.790636,-2.169727,11.028195,5.5702176,-2.1604922,12.25086,17.231606,-8.394581,14.027618,15.013689,11.081312,0.8169166,3.4641747,2.3245027,-2.1238267,10.703275,15.140765,-2.2332966,14.666064,-8.571788,15.159895,1.1966302,15.012251,1.2913421,10.504391,14.692986,10.772133,-2.112335,4.6409507,0.72235644,0.5735345,-0.40427402,2.2701771,-0.34562248,10.932009,5.665554,-2.2144668,12.11565,17.231272,-8.399057,14.063004,14.980367,10.948122,0.817669,3.4835138,2.317057,-2.200114,10.802566,15.057393,4.7725625,12.21061,0.74351877,-1.2327666,11.121476,-8.400939,13.731804,10.613732,13.7924795,10.5278845,14.640666,10.473424,-2.1505678,4.660874,0.7112665,0.54401004,-0.40071303,2.284809,-0.33609262,11.052485,5.608037,-2.0625873,1.2866015,10.463541,14.72047,10.654774,-2.191826,4.686888,0.6987066,0.58497375,-0.38475764,2.2904305,-0.35843095,11.065405,5.604954,-2.0498586,12.093686,4.775394,12.250154,0.7012031,-1.2678641,10.880008,-8.417326,13.67035,10.568748,13.814852,4.7246327,12.135129,0.69023454,-1.2297866,11.049626,-8.346727,13.663793,10.481073,13.812257,-2.2014987,11.002068,5.6559377,-2.0669298,12.146,-0.4303158,11.088543,5.5830383,-2.2021203,1.285862,10.609725,14.734941,10.542158,-2.212544,4.5859146,1.305289,1.0534672,-1.0905076,12.133324,13.768386,14.898927,2.8809388,3.4992046,2.2892559,-1.6663955,0.94569016,1.0897083,11.982768,15.124876,12.227684],\"xaxis\":\"x2\",\"y\":[5.5673394,2.4687338,1.9983945,1.3606772,-11.543215,-6.3154883,7.7531457,8.614874,17.41366,32.659515,2.3656204,3.1247966,31.89511,18.284859,26.502218,30.882341,10.966981,-8.764599,-11.563301,2.5251384,2.157839,32.62807,3.4437537,13.483489,-7.2517996,-11.538392,1.8811246,-11.63363,26.616728,26.599194,1.5232863,0.6154033,13.434323,17.723778,18.113377,2.5067172,8.27333,-5.4579706,-8.73583,-11.591831,26.66884,-5.303263,-8.036077,1.5748122,17.670778,-11.590491,26.670113,18.17013,32.064995,26.41654,30.869646,10.986197,-8.76375,-11.592963,2.5007339,2.1397586,32.654724,3.4649847,26.44957,30.881931,10.970399,-8.786749,-11.480188,2.4060364,2.1068869,32.732166,3.4493382,17.591309,-11.539317,26.713367,18.177908,32.066654,5.542781,2.4265115,1.9733516,1.1679385,-11.54249,-6.337713,7.7749605,8.653319,17.465153,32.716602,0.7573273,17.409636,1.6855059,2.2644813,1.3641661,-5.7551713,1.2697937,-5.304025,32.487156,1.6529406,32.866116,18.050709,26.540989,10.958782,13.377177,17.673212,8.40979,17.703348,-11.668949,26.623981,18.270313,32.107723,5.5401955,2.4223008,1.9267467,1.2030834,-11.512202,-6.334838,7.7833505,8.637606,17.424093,32.62518,0.88295245,26.410248,30.88449,10.992159,-8.749508,-11.623448,2.4210067,2.157374,32.579075,3.4483488,32.53512,1.711447,32.77236,18.128954,26.52974,10.95372,13.353903,17.67074,8.424569,17.693611,-11.522298,26.69191,18.235764,-5.2916584,32.56809,1.7252027,32.795166,18.117771,26.549322,10.941222,13.389234,17.711555,8.43926,17.737774,-11.588968,26.680439,18.251656,32.148,26.463541,30.845222,10.948664,-8.764867,-11.426819,2.4037771,2.2347233,32.614037,3.471637,26.369148,30.962769,10.937661,-8.730872,-11.629071,2.4737883,2.2289755,32.694668,3.4717622,17.67,-11.572793,26.613405,18.24174,32.166656,17.623177,-11.495121,26.717474,18.271437,-5.2746124,32.59434,1.6581384,32.79896,18.129045,26.456877,-5.281638,-6.0715904,-8.540737,31.124218,2.1448703,1.5844358,7.709716,7.788113,8.595199,17.542988,-6.092256,-5.894419,32.031727,0.562985,32.048195],\"yaxis\":\"y2\",\"type\":\"scatter\"}],                        {\"template\":{\"data\":{\"histogram2dcontour\":[{\"type\":\"histogram2dcontour\",\"colorbar\":{\"outlinewidth\":0,\"ticks\":\"\"},\"colorscale\":[[0.0,\"#0d0887\"],[0.1111111111111111,\"#46039f\"],[0.2222222222222222,\"#7201a8\"],[0.3333333333333333,\"#9c179e\"],[0.4444444444444444,\"#bd3786\"],[0.5555555555555556,\"#d8576b\"],[0.6666666666666666,\"#ed7953\"],[0.7777777777777778,\"#fb9f3a\"],[0.8888888888888888,\"#fdca26\"],[1.0,\"#f0f921\"]]}],\"choropleth\":[{\"type\":\"choropleth\",\"colorbar\":{\"outlinewidth\":0,\"ticks\":\"\"}}],\"histogram2d\":[{\"type\":\"histogram2d\",\"colorbar\":{\"outlinewidth\":0,\"ticks\":\"\"},\"colorscale\":[[0.0,\"#0d0887\"],[0.1111111111111111,\"#46039f\"],[0.2222222222222222,\"#7201a8\"],[0.3333333333333333,\"#9c179e\"],[0.4444444444444444,\"#bd3786\"],[0.5555555555555556,\"#d8576b\"],[0.6666666666666666,\"#ed7953\"],[0.7777777777777778,\"#fb9f3a\"],[0.8888888888888888,\"#fdca26\"],[1.0,\"#f0f921\"]]}],\"heatmap\":[{\"type\":\"heatmap\",\"colorbar\":{\"outlinewidth\":0,\"ticks\":\"\"},\"colorscale\":[[0.0,\"#0d0887\"],[0.1111111111111111,\"#46039f\"],[0.2222222222222222,\"#7201a8\"],[0.3333333333333333,\"#9c179e\"],[0.4444444444444444,\"#bd3786\"],[0.5555555555555556,\"#d8576b\"],[0.6666666666666666,\"#ed7953\"],[0.7777777777777778,\"#fb9f3a\"],[0.8888888888888888,\"#fdca26\"],[1.0,\"#f0f921\"]]}],\"heatmapgl\":[{\"type\":\"heatmapgl\",\"colorbar\":{\"outlinewidth\":0,\"ticks\":\"\"},\"colorscale\":[[0.0,\"#0d0887\"],[0.1111111111111111,\"#46039f\"],[0.2222222222222222,\"#7201a8\"],[0.3333333333333333,\"#9c179e\"],[0.4444444444444444,\"#bd3786\"],[0.5555555555555556,\"#d8576b\"],[0.6666666666666666,\"#ed7953\"],[0.7777777777777778,\"#fb9f3a\"],[0.8888888888888888,\"#fdca26\"],[1.0,\"#f0f921\"]]}],\"contourcarpet\":[{\"type\":\"contourcarpet\",\"colorbar\":{\"outlinewidth\":0,\"ticks\":\"\"}}],\"contour\":[{\"type\":\"contour\",\"colorbar\":{\"outlinewidth\":0,\"ticks\":\"\"},\"colorscale\":[[0.0,\"#0d0887\"],[0.1111111111111111,\"#46039f\"],[0.2222222222222222,\"#7201a8\"],[0.3333333333333333,\"#9c179e\"],[0.4444444444444444,\"#bd3786\"],[0.5555555555555556,\"#d8576b\"],[0.6666666666666666,\"#ed7953\"],[0.7777777777777778,\"#fb9f3a\"],[0.8888888888888888,\"#fdca26\"],[1.0,\"#f0f921\"]]}],\"surface\":[{\"type\":\"surface\",\"colorbar\":{\"outlinewidth\":0,\"ticks\":\"\"},\"colorscale\":[[0.0,\"#0d0887\"],[0.1111111111111111,\"#46039f\"],[0.2222222222222222,\"#7201a8\"],[0.3333333333333333,\"#9c179e\"],[0.4444444444444444,\"#bd3786\"],[0.5555555555555556,\"#d8576b\"],[0.6666666666666666,\"#ed7953\"],[0.7777777777777778,\"#fb9f3a\"],[0.8888888888888888,\"#fdca26\"],[1.0,\"#f0f921\"]]}],\"mesh3d\":[{\"type\":\"mesh3d\",\"colorbar\":{\"outlinewidth\":0,\"ticks\":\"\"}}],\"scatter\":[{\"fillpattern\":{\"fillmode\":\"overlay\",\"size\":10,\"solidity\":0.2},\"type\":\"scatter\"}],\"parcoords\":[{\"type\":\"parcoords\",\"line\":{\"colorbar\":{\"outlinewidth\":0,\"ticks\":\"\"}}}],\"scatterpolargl\":[{\"type\":\"scatterpolargl\",\"marker\":{\"colorbar\":{\"outlinewidth\":0,\"ticks\":\"\"}}}],\"bar\":[{\"error_x\":{\"color\":\"#2a3f5f\"},\"error_y\":{\"color\":\"#2a3f5f\"},\"marker\":{\"line\":{\"color\":\"#E5ECF6\",\"width\":0.5},\"pattern\":{\"fillmode\":\"overlay\",\"size\":10,\"solidity\":0.2}},\"type\":\"bar\"}],\"scattergeo\":[{\"type\":\"scattergeo\",\"marker\":{\"colorbar\":{\"outlinewidth\":0,\"ticks\":\"\"}}}],\"scatterpolar\":[{\"type\":\"scatterpolar\",\"marker\":{\"colorbar\":{\"outlinewidth\":0,\"ticks\":\"\"}}}],\"histogram\":[{\"marker\":{\"pattern\":{\"fillmode\":\"overlay\",\"size\":10,\"solidity\":0.2}},\"type\":\"histogram\"}],\"scattergl\":[{\"type\":\"scattergl\",\"marker\":{\"colorbar\":{\"outlinewidth\":0,\"ticks\":\"\"}}}],\"scatter3d\":[{\"type\":\"scatter3d\",\"line\":{\"colorbar\":{\"outlinewidth\":0,\"ticks\":\"\"}},\"marker\":{\"colorbar\":{\"outlinewidth\":0,\"ticks\":\"\"}}}],\"scattermapbox\":[{\"type\":\"scattermapbox\",\"marker\":{\"colorbar\":{\"outlinewidth\":0,\"ticks\":\"\"}}}],\"scatterternary\":[{\"type\":\"scatterternary\",\"marker\":{\"colorbar\":{\"outlinewidth\":0,\"ticks\":\"\"}}}],\"scattercarpet\":[{\"type\":\"scattercarpet\",\"marker\":{\"colorbar\":{\"outlinewidth\":0,\"ticks\":\"\"}}}],\"carpet\":[{\"aaxis\":{\"endlinecolor\":\"#2a3f5f\",\"gridcolor\":\"white\",\"linecolor\":\"white\",\"minorgridcolor\":\"white\",\"startlinecolor\":\"#2a3f5f\"},\"baxis\":{\"endlinecolor\":\"#2a3f5f\",\"gridcolor\":\"white\",\"linecolor\":\"white\",\"minorgridcolor\":\"white\",\"startlinecolor\":\"#2a3f5f\"},\"type\":\"carpet\"}],\"table\":[{\"cells\":{\"fill\":{\"color\":\"#EBF0F8\"},\"line\":{\"color\":\"white\"}},\"header\":{\"fill\":{\"color\":\"#C8D4E3\"},\"line\":{\"color\":\"white\"}},\"type\":\"table\"}],\"barpolar\":[{\"marker\":{\"line\":{\"color\":\"#E5ECF6\",\"width\":0.5},\"pattern\":{\"fillmode\":\"overlay\",\"size\":10,\"solidity\":0.2}},\"type\":\"barpolar\"}],\"pie\":[{\"automargin\":true,\"type\":\"pie\"}]},\"layout\":{\"autotypenumbers\":\"strict\",\"colorway\":[\"#636efa\",\"#EF553B\",\"#00cc96\",\"#ab63fa\",\"#FFA15A\",\"#19d3f3\",\"#FF6692\",\"#B6E880\",\"#FF97FF\",\"#FECB52\"],\"font\":{\"color\":\"#2a3f5f\"},\"hovermode\":\"closest\",\"hoverlabel\":{\"align\":\"left\"},\"paper_bgcolor\":\"white\",\"plot_bgcolor\":\"#E5ECF6\",\"polar\":{\"bgcolor\":\"#E5ECF6\",\"angularaxis\":{\"gridcolor\":\"white\",\"linecolor\":\"white\",\"ticks\":\"\"},\"radialaxis\":{\"gridcolor\":\"white\",\"linecolor\":\"white\",\"ticks\":\"\"}},\"ternary\":{\"bgcolor\":\"#E5ECF6\",\"aaxis\":{\"gridcolor\":\"white\",\"linecolor\":\"white\",\"ticks\":\"\"},\"baxis\":{\"gridcolor\":\"white\",\"linecolor\":\"white\",\"ticks\":\"\"},\"caxis\":{\"gridcolor\":\"white\",\"linecolor\":\"white\",\"ticks\":\"\"}},\"coloraxis\":{\"colorbar\":{\"outlinewidth\":0,\"ticks\":\"\"}},\"colorscale\":{\"sequential\":[[0.0,\"#0d0887\"],[0.1111111111111111,\"#46039f\"],[0.2222222222222222,\"#7201a8\"],[0.3333333333333333,\"#9c179e\"],[0.4444444444444444,\"#bd3786\"],[0.5555555555555556,\"#d8576b\"],[0.6666666666666666,\"#ed7953\"],[0.7777777777777778,\"#fb9f3a\"],[0.8888888888888888,\"#fdca26\"],[1.0,\"#f0f921\"]],\"sequentialminus\":[[0.0,\"#0d0887\"],[0.1111111111111111,\"#46039f\"],[0.2222222222222222,\"#7201a8\"],[0.3333333333333333,\"#9c179e\"],[0.4444444444444444,\"#bd3786\"],[0.5555555555555556,\"#d8576b\"],[0.6666666666666666,\"#ed7953\"],[0.7777777777777778,\"#fb9f3a\"],[0.8888888888888888,\"#fdca26\"],[1.0,\"#f0f921\"]],\"diverging\":[[0,\"#8e0152\"],[0.1,\"#c51b7d\"],[0.2,\"#de77ae\"],[0.3,\"#f1b6da\"],[0.4,\"#fde0ef\"],[0.5,\"#f7f7f7\"],[0.6,\"#e6f5d0\"],[0.7,\"#b8e186\"],[0.8,\"#7fbc41\"],[0.9,\"#4d9221\"],[1,\"#276419\"]]},\"xaxis\":{\"gridcolor\":\"white\",\"linecolor\":\"white\",\"ticks\":\"\",\"title\":{\"standoff\":15},\"zerolinecolor\":\"white\",\"automargin\":true,\"zerolinewidth\":2},\"yaxis\":{\"gridcolor\":\"white\",\"linecolor\":\"white\",\"ticks\":\"\",\"title\":{\"standoff\":15},\"zerolinecolor\":\"white\",\"automargin\":true,\"zerolinewidth\":2},\"scene\":{\"xaxis\":{\"backgroundcolor\":\"#E5ECF6\",\"gridcolor\":\"white\",\"linecolor\":\"white\",\"showbackground\":true,\"ticks\":\"\",\"zerolinecolor\":\"white\",\"gridwidth\":2},\"yaxis\":{\"backgroundcolor\":\"#E5ECF6\",\"gridcolor\":\"white\",\"linecolor\":\"white\",\"showbackground\":true,\"ticks\":\"\",\"zerolinecolor\":\"white\",\"gridwidth\":2},\"zaxis\":{\"backgroundcolor\":\"#E5ECF6\",\"gridcolor\":\"white\",\"linecolor\":\"white\",\"showbackground\":true,\"ticks\":\"\",\"zerolinecolor\":\"white\",\"gridwidth\":2}},\"shapedefaults\":{\"line\":{\"color\":\"#2a3f5f\"}},\"annotationdefaults\":{\"arrowcolor\":\"#2a3f5f\",\"arrowhead\":0,\"arrowwidth\":1},\"geo\":{\"bgcolor\":\"white\",\"landcolor\":\"#E5ECF6\",\"subunitcolor\":\"white\",\"showland\":true,\"showlakes\":true,\"lakecolor\":\"white\"},\"title\":{\"x\":0.05},\"mapbox\":{\"style\":\"light\"}}},\"xaxis\":{\"anchor\":\"y\",\"domain\":[0.0,0.49],\"title\":{\"text\":\"x\"}},\"yaxis\":{\"anchor\":\"x\",\"domain\":[0.0,1.0],\"title\":{\"text\":\"y\"}},\"xaxis2\":{\"anchor\":\"y2\",\"domain\":[0.51,1.0],\"matches\":\"x\",\"title\":{\"text\":\"x\"}},\"yaxis2\":{\"anchor\":\"x2\",\"domain\":[0.0,1.0],\"matches\":\"y\",\"showticklabels\":false},\"annotations\":[{\"font\":{},\"showarrow\":false,\"text\":\"class=True\",\"x\":0.245,\"xanchor\":\"center\",\"xref\":\"paper\",\"y\":1.0,\"yanchor\":\"bottom\",\"yref\":\"paper\"},{\"font\":{},\"showarrow\":false,\"text\":\"class=False\",\"x\":0.755,\"xanchor\":\"center\",\"xref\":\"paper\",\"y\":1.0,\"yanchor\":\"bottom\",\"yref\":\"paper\"}],\"legend\":{\"title\":{\"text\":\"class\"},\"tracegroupgap\":0},\"margin\":{\"t\":60}},                        {\"responsive\": true}                    ).then(function(){\n",
       "                            \n",
       "var gd = document.getElementById('ca9eb44c-9260-4bcf-9f12-9518bed483db');\n",
       "var x = new MutationObserver(function (mutations, observer) {{\n",
       "        var display = window.getComputedStyle(gd).display;\n",
       "        if (!display || display === 'none') {{\n",
       "            console.log([gd, 'removed!']);\n",
       "            Plotly.purge(gd);\n",
       "            observer.disconnect();\n",
       "        }}\n",
       "}});\n",
       "\n",
       "// Listen for the removal of the full notebook cells\n",
       "var notebookContainer = gd.closest('#notebook-container');\n",
       "if (notebookContainer) {{\n",
       "    x.observe(notebookContainer, {childList: true});\n",
       "}}\n",
       "\n",
       "// Listen for the clearing of the current output cell\n",
       "var outputEl = gd.closest('.output');\n",
       "if (outputEl) {{\n",
       "    x.observe(outputEl, {childList: true});\n",
       "}}\n",
       "\n",
       "                        })                };                });            </script>        </div>"
      ]
     },
     "metadata": {},
     "output_type": "display_data"
    }
   ],
   "source": [
    "import warnings\n",
    "from plotly import express\n",
    "\n",
    "warnings.filterwarnings(action='ignore', category=FutureWarning)\n",
    "express.scatter(data_frame=df, x='x', y='y', color=TARGET, facet_col=TARGET)"
   ]
  },
  {
   "cell_type": "markdown",
   "id": "c9a2cf47",
   "metadata": {
    "papermill": {
     "duration": 0.005334,
     "end_time": "2024-07-26T18:40:07.440109",
     "exception": false,
     "start_time": "2024-07-26T18:40:07.434775",
     "status": "completed"
    },
    "tags": []
   },
   "source": [
    "It would be nice if our positives clustered together and our negatives clustered together but that's not the case. We do see some clustering; let's build a model and see how it does."
   ]
  },
  {
   "cell_type": "code",
   "execution_count": 5,
   "id": "0e4836ca",
   "metadata": {
    "execution": {
     "iopub.execute_input": "2024-07-26T18:40:07.452595Z",
     "iopub.status.busy": "2024-07-26T18:40:07.452205Z",
     "iopub.status.idle": "2024-07-26T18:40:07.478209Z",
     "shell.execute_reply": "2024-07-26T18:40:07.477009Z"
    },
    "papermill": {
     "duration": 0.03488,
     "end_time": "2024-07-26T18:40:07.480453",
     "exception": false,
     "start_time": "2024-07-26T18:40:07.445573",
     "status": "completed"
    },
    "tags": []
   },
   "outputs": [
    {
     "name": "stdout",
     "output_type": "stream",
     "text": [
      "model fit in 16 iterations\n",
      "accuracy: 0.9038\n"
     ]
    }
   ],
   "source": [
    "from sklearn.linear_model import LogisticRegression\n",
    "from sklearn.model_selection import train_test_split\n",
    "from sklearn.metrics import accuracy_score\n",
    "\n",
    "X_train, X_test, y_train, y_test = train_test_split(df[COLUMNS], df[TARGET], test_size=0.2, random_state=2024, stratify=df[TARGET])\n",
    "model = LogisticRegression(max_iter=200, tol=1e-12).fit(X_train, y_train)\n",
    "print('model fit in {} iterations'.format(model.n_iter_[0]))\n",
    "\n",
    "print('accuracy: {:5.4f}'.format(accuracy_score(y_true=y_test, y_pred=model.predict(X=X_test))))"
   ]
  },
  {
   "cell_type": "code",
   "execution_count": 6,
   "id": "900ba525",
   "metadata": {
    "execution": {
     "iopub.execute_input": "2024-07-26T18:40:07.493072Z",
     "iopub.status.busy": "2024-07-26T18:40:07.492354Z",
     "iopub.status.idle": "2024-07-26T18:40:07.508342Z",
     "shell.execute_reply": "2024-07-26T18:40:07.507141Z"
    },
    "papermill": {
     "duration": 0.024621,
     "end_time": "2024-07-26T18:40:07.510492",
     "exception": false,
     "start_time": "2024-07-26T18:40:07.485871",
     "status": "completed"
    },
    "tags": []
   },
   "outputs": [
    {
     "name": "stdout",
     "output_type": "stream",
     "text": [
      "              precision    recall  f1-score   support\n",
      "\n",
      "       False       0.84      0.93      0.88        40\n",
      "        True       0.95      0.89      0.92        64\n",
      "\n",
      "    accuracy                           0.90       104\n",
      "   macro avg       0.90      0.91      0.90       104\n",
      "weighted avg       0.91      0.90      0.90       104\n",
      "\n"
     ]
    }
   ],
   "source": [
    "from sklearn.metrics import classification_report\n",
    "\n",
    "print(classification_report(zero_division=0 , y_true=y_test, y_pred=model.predict(X=X_test)))"
   ]
  },
  {
   "cell_type": "markdown",
   "id": "02c3b1e9",
   "metadata": {
    "papermill": {
     "duration": 0.00527,
     "end_time": "2024-07-26T18:40:07.521546",
     "exception": false,
     "start_time": "2024-07-26T18:40:07.516276",
     "status": "completed"
    },
    "tags": []
   },
   "source": [
    "An accuracy of about 0.9 isn't bad. Let's try a bunch of models and see if any can improve our results."
   ]
  },
  {
   "cell_type": "code",
   "execution_count": 7,
   "id": "18780bed",
   "metadata": {
    "execution": {
     "iopub.execute_input": "2024-07-26T18:40:07.534216Z",
     "iopub.status.busy": "2024-07-26T18:40:07.533825Z",
     "iopub.status.idle": "2024-07-26T18:40:11.457797Z",
     "shell.execute_reply": "2024-07-26T18:40:11.456393Z"
    },
    "papermill": {
     "duration": 3.933243,
     "end_time": "2024-07-26T18:40:11.460234",
     "exception": false,
     "start_time": "2024-07-26T18:40:07.526991",
     "status": "completed"
    },
    "tags": []
   },
   "outputs": [
    {
     "name": "stdout",
     "output_type": "stream",
     "text": [
      "0.8889 0:00:00.007407 Naive Bayes\n",
      "0.9692 0:00:00.015931 QDA\n",
      "0.9764 0:00:00.014517 3 Nearest Neighbors\n",
      "0.9677 0:00:00.019844 5 Nearest Neighbors\n",
      "0.9000 0:00:00.018281 Linear SVM\n",
      "0.9844 0:00:03.063282 Gaussian Process\n",
      "0.9355 0:00:00.024970 Decision Tree\n",
      "0.9606 0:00:00.081022 10 estimator Random Forest\n",
      "0.9524 0:00:00.044222 20 estimator Random Forest\n",
      "0.9355 0:00:00.379397 Neural Net\n",
      "0.9016 0:00:00.138886 AdaBoost\n",
      "0.9692 0:00:00.014163 RBF SVM\n",
      "best: 0.984375 Gaussian Process\n"
     ]
    }
   ],
   "source": [
    "from sklearn.discriminant_analysis import QuadraticDiscriminantAnalysis\n",
    "from sklearn.ensemble import AdaBoostClassifier\n",
    "from sklearn.ensemble import RandomForestClassifier\n",
    "from sklearn.gaussian_process import GaussianProcessClassifier\n",
    "from sklearn.gaussian_process.kernels import RBF\n",
    "from sklearn.metrics import f1_score\n",
    "from sklearn.naive_bayes import GaussianNB\n",
    "from sklearn.neighbors import KNeighborsClassifier\n",
    "from sklearn.neural_network import MLPClassifier\n",
    "from sklearn.svm import SVC\n",
    "from sklearn.tree import DecisionTreeClassifier\n",
    "\n",
    "MODEL = {\n",
    "    'Naive Bayes': GaussianNB(),\n",
    "    'QDA': QuadraticDiscriminantAnalysis(),\n",
    "    '3 Nearest Neighbors': KNeighborsClassifier(n_neighbors=3),\n",
    "    '5 Nearest Neighbors': KNeighborsClassifier(n_neighbors=5),\n",
    "    'Linear SVM': SVC(kernel='linear', C=0.025, random_state=2024),\n",
    "    'Gaussian Process':GaussianProcessClassifier(1.0 * RBF(1.0), random_state=2024),\n",
    "    'Decision Tree': DecisionTreeClassifier(max_depth=5, random_state=2024),\n",
    "    '10 estimator Random Forest': RandomForestClassifier(max_depth=5, n_estimators=10, max_features=1, random_state=2024),\n",
    "    '20 estimator Random Forest': RandomForestClassifier(max_depth=5, n_estimators=20, max_features=1, random_state=2024),\n",
    "    'Neural Net': MLPClassifier(alpha=1, max_iter=1000, random_state=2024),\n",
    "    'AdaBoost': AdaBoostClassifier(algorithm='SAMME', random_state=2024),\n",
    "    'RBF SVM': SVC(gamma=2, C=1, random_state=2024),\n",
    "}\n",
    "\n",
    "result = []\n",
    "for name, clf in MODEL.items():\n",
    "    time_start = arrow.now()\n",
    "    clf.fit(X=X_train, y=y_train)\n",
    "    score = f1_score(y_true=y_test, y_pred=clf.predict(X=X_test))\n",
    "    result.append((score, name))\n",
    "    print('{:5.4f} {} {}'.format(score, arrow.now() - time_start, name))\n",
    "result = sorted(result, key=lambda x: x[0], reverse=True)\n",
    "print('best: {} {}'.format(result[0][0], result[0][1]))"
   ]
  },
  {
   "cell_type": "markdown",
   "id": "fdd00d9f",
   "metadata": {
    "papermill": {
     "duration": 0.005608,
     "end_time": "2024-07-26T18:40:11.472066",
     "exception": false,
     "start_time": "2024-07-26T18:40:11.466458",
     "status": "completed"
    },
    "tags": []
   },
   "source": [
    "This looks like a big improvement; this looks like about a 10% relative improvement."
   ]
  },
  {
   "cell_type": "code",
   "execution_count": 8,
   "id": "140b13a6",
   "metadata": {
    "execution": {
     "iopub.execute_input": "2024-07-26T18:40:11.485301Z",
     "iopub.status.busy": "2024-07-26T18:40:11.484880Z",
     "iopub.status.idle": "2024-07-26T18:40:14.940459Z",
     "shell.execute_reply": "2024-07-26T18:40:14.938612Z"
    },
    "papermill": {
     "duration": 3.465326,
     "end_time": "2024-07-26T18:40:14.943256",
     "exception": false,
     "start_time": "2024-07-26T18:40:11.477930",
     "status": "completed"
    },
    "tags": []
   },
   "outputs": [
    {
     "name": "stdout",
     "output_type": "stream",
     "text": [
      "              precision    recall  f1-score   support\n",
      "\n",
      "       False       0.97      0.97      0.97        40\n",
      "        True       0.98      0.98      0.98        64\n",
      "\n",
      "    accuracy                           0.98       104\n",
      "   macro avg       0.98      0.98      0.98       104\n",
      "weighted avg       0.98      0.98      0.98       104\n",
      "\n"
     ]
    }
   ],
   "source": [
    "gauss = GaussianProcessClassifier(1.0 * RBF(1.0), random_state=2024).fit(X=X_train, y=y_train)\n",
    "print(classification_report(zero_division=0, y_true=y_test, y_pred=gauss.predict(X=X_test)))"
   ]
  },
  {
   "cell_type": "markdown",
   "id": "c8173cba",
   "metadata": {
    "papermill": {
     "duration": 0.018303,
     "end_time": "2024-07-26T18:40:14.971050",
     "exception": false,
     "start_time": "2024-07-26T18:40:14.952747",
     "status": "completed"
    },
    "tags": []
   },
   "source": [
    "This is substantially better."
   ]
  }
 ],
 "metadata": {
  "kaggle": {
   "accelerator": "none",
   "dataSources": [
    {
     "datasetId": 5417858,
     "sourceId": 8994762,
     "sourceType": "datasetVersion"
    }
   ],
   "dockerImageVersionId": 30746,
   "isGpuEnabled": false,
   "isInternetEnabled": true,
   "language": "python",
   "sourceType": "notebook"
  },
  "kernelspec": {
   "display_name": "Python 3",
   "language": "python",
   "name": "python3"
  },
  "language_info": {
   "codemirror_mode": {
    "name": "ipython",
    "version": 3
   },
   "file_extension": ".py",
   "mimetype": "text/x-python",
   "name": "python",
   "nbconvert_exporter": "python",
   "pygments_lexer": "ipython3",
   "version": "3.10.13"
  },
  "papermill": {
   "default_parameters": {},
   "duration": 59.049926,
   "end_time": "2024-07-26T18:40:18.161510",
   "environment_variables": {},
   "exception": null,
   "input_path": "__notebook__.ipynb",
   "output_path": "__notebook__.ipynb",
   "parameters": {},
   "start_time": "2024-07-26T18:39:19.111584",
   "version": "2.5.0"
  },
  "widgets": {
   "application/vnd.jupyter.widget-state+json": {
    "state": {
     "174b3b87290c451b8bd776264bccb9ef": {
      "model_module": "@jupyter-widgets/base",
      "model_module_version": "1.2.0",
      "model_name": "LayoutModel",
      "state": {
       "_model_module": "@jupyter-widgets/base",
       "_model_module_version": "1.2.0",
       "_model_name": "LayoutModel",
       "_view_count": null,
       "_view_module": "@jupyter-widgets/base",
       "_view_module_version": "1.2.0",
       "_view_name": "LayoutView",
       "align_content": null,
       "align_items": null,
       "align_self": null,
       "border": null,
       "bottom": null,
       "display": null,
       "flex": null,
       "flex_flow": null,
       "grid_area": null,
       "grid_auto_columns": null,
       "grid_auto_flow": null,
       "grid_auto_rows": null,
       "grid_column": null,
       "grid_gap": null,
       "grid_row": null,
       "grid_template_areas": null,
       "grid_template_columns": null,
       "grid_template_rows": null,
       "height": null,
       "justify_content": null,
       "justify_items": null,
       "left": null,
       "margin": null,
       "max_height": null,
       "max_width": null,
       "min_height": null,
       "min_width": null,
       "object_fit": null,
       "object_position": null,
       "order": null,
       "overflow": null,
       "overflow_x": null,
       "overflow_y": null,
       "padding": null,
       "right": null,
       "top": null,
       "visibility": null,
       "width": null
      }
     },
     "21a9375a61fa4bf09b639660b913a767": {
      "model_module": "@jupyter-widgets/controls",
      "model_module_version": "1.5.0",
      "model_name": "HBoxModel",
      "state": {
       "_dom_classes": [],
       "_model_module": "@jupyter-widgets/controls",
       "_model_module_version": "1.5.0",
       "_model_name": "HBoxModel",
       "_view_count": null,
       "_view_module": "@jupyter-widgets/controls",
       "_view_module_version": "1.5.0",
       "_view_name": "HBoxView",
       "box_style": "",
       "children": [
        "IPY_MODEL_722a1ef1ab3d4dc29e8b973b3bda2703",
        "IPY_MODEL_9fcbe10d2bea49beb3b180264bd773c3",
        "IPY_MODEL_4eb62bb8d7474ad092feb22a76ddcf16"
       ],
       "layout": "IPY_MODEL_eb799a75722143648cf4c45c9cb3006d"
      }
     },
     "2bd870a326504eac916c81684f15e062": {
      "model_module": "@jupyter-widgets/controls",
      "model_module_version": "1.5.0",
      "model_name": "DescriptionStyleModel",
      "state": {
       "_model_module": "@jupyter-widgets/controls",
       "_model_module_version": "1.5.0",
       "_model_name": "DescriptionStyleModel",
       "_view_count": null,
       "_view_module": "@jupyter-widgets/base",
       "_view_module_version": "1.2.0",
       "_view_name": "StyleView",
       "description_width": ""
      }
     },
     "358aa69a0b784bf39a1a890f2c754fc1": {
      "model_module": "@jupyter-widgets/base",
      "model_module_version": "1.2.0",
      "model_name": "LayoutModel",
      "state": {
       "_model_module": "@jupyter-widgets/base",
       "_model_module_version": "1.2.0",
       "_model_name": "LayoutModel",
       "_view_count": null,
       "_view_module": "@jupyter-widgets/base",
       "_view_module_version": "1.2.0",
       "_view_name": "LayoutView",
       "align_content": null,
       "align_items": null,
       "align_self": null,
       "border": null,
       "bottom": null,
       "display": null,
       "flex": null,
       "flex_flow": null,
       "grid_area": null,
       "grid_auto_columns": null,
       "grid_auto_flow": null,
       "grid_auto_rows": null,
       "grid_column": null,
       "grid_gap": null,
       "grid_row": null,
       "grid_template_areas": null,
       "grid_template_columns": null,
       "grid_template_rows": null,
       "height": null,
       "justify_content": null,
       "justify_items": null,
       "left": null,
       "margin": null,
       "max_height": null,
       "max_width": null,
       "min_height": null,
       "min_width": null,
       "object_fit": null,
       "object_position": null,
       "order": null,
       "overflow": null,
       "overflow_x": null,
       "overflow_y": null,
       "padding": null,
       "right": null,
       "top": null,
       "visibility": null,
       "width": null
      }
     },
     "4eb62bb8d7474ad092feb22a76ddcf16": {
      "model_module": "@jupyter-widgets/controls",
      "model_module_version": "1.5.0",
      "model_name": "HTMLModel",
      "state": {
       "_dom_classes": [],
       "_model_module": "@jupyter-widgets/controls",
       "_model_module_version": "1.5.0",
       "_model_name": "HTMLModel",
       "_view_count": null,
       "_view_module": "@jupyter-widgets/controls",
       "_view_module_version": "1.5.0",
       "_view_name": "HTMLView",
       "description": "",
       "description_tooltip": null,
       "layout": "IPY_MODEL_e1246f20e72f47e29886a990583de84a",
       "placeholder": "​",
       "style": "IPY_MODEL_2bd870a326504eac916c81684f15e062",
       "value": " 500/500 [00:02]"
      }
     },
     "722a1ef1ab3d4dc29e8b973b3bda2703": {
      "model_module": "@jupyter-widgets/controls",
      "model_module_version": "1.5.0",
      "model_name": "HTMLModel",
      "state": {
       "_dom_classes": [],
       "_model_module": "@jupyter-widgets/controls",
       "_model_module_version": "1.5.0",
       "_model_name": "HTMLModel",
       "_view_count": null,
       "_view_module": "@jupyter-widgets/controls",
       "_view_module_version": "1.5.0",
       "_view_name": "HTMLView",
       "description": "",
       "description_tooltip": null,
       "layout": "IPY_MODEL_174b3b87290c451b8bd776264bccb9ef",
       "placeholder": "​",
       "style": "IPY_MODEL_d83c52a3a5e44a56a265680946536528",
       "value": "Epochs completed: 100%| "
      }
     },
     "9fcbe10d2bea49beb3b180264bd773c3": {
      "model_module": "@jupyter-widgets/controls",
      "model_module_version": "1.5.0",
      "model_name": "FloatProgressModel",
      "state": {
       "_dom_classes": [],
       "_model_module": "@jupyter-widgets/controls",
       "_model_module_version": "1.5.0",
       "_model_name": "FloatProgressModel",
       "_view_count": null,
       "_view_module": "@jupyter-widgets/controls",
       "_view_module_version": "1.5.0",
       "_view_name": "ProgressView",
       "bar_style": "success",
       "description": "",
       "description_tooltip": null,
       "layout": "IPY_MODEL_358aa69a0b784bf39a1a890f2c754fc1",
       "max": 500.0,
       "min": 0.0,
       "orientation": "horizontal",
       "style": "IPY_MODEL_b7537caeed2245fb817bc6ad7ef2f56c",
       "value": 500.0
      }
     },
     "b7537caeed2245fb817bc6ad7ef2f56c": {
      "model_module": "@jupyter-widgets/controls",
      "model_module_version": "1.5.0",
      "model_name": "ProgressStyleModel",
      "state": {
       "_model_module": "@jupyter-widgets/controls",
       "_model_module_version": "1.5.0",
       "_model_name": "ProgressStyleModel",
       "_view_count": null,
       "_view_module": "@jupyter-widgets/base",
       "_view_module_version": "1.2.0",
       "_view_name": "StyleView",
       "bar_color": null,
       "description_width": ""
      }
     },
     "d83c52a3a5e44a56a265680946536528": {
      "model_module": "@jupyter-widgets/controls",
      "model_module_version": "1.5.0",
      "model_name": "DescriptionStyleModel",
      "state": {
       "_model_module": "@jupyter-widgets/controls",
       "_model_module_version": "1.5.0",
       "_model_name": "DescriptionStyleModel",
       "_view_count": null,
       "_view_module": "@jupyter-widgets/base",
       "_view_module_version": "1.2.0",
       "_view_name": "StyleView",
       "description_width": ""
      }
     },
     "e1246f20e72f47e29886a990583de84a": {
      "model_module": "@jupyter-widgets/base",
      "model_module_version": "1.2.0",
      "model_name": "LayoutModel",
      "state": {
       "_model_module": "@jupyter-widgets/base",
       "_model_module_version": "1.2.0",
       "_model_name": "LayoutModel",
       "_view_count": null,
       "_view_module": "@jupyter-widgets/base",
       "_view_module_version": "1.2.0",
       "_view_name": "LayoutView",
       "align_content": null,
       "align_items": null,
       "align_self": null,
       "border": null,
       "bottom": null,
       "display": null,
       "flex": null,
       "flex_flow": null,
       "grid_area": null,
       "grid_auto_columns": null,
       "grid_auto_flow": null,
       "grid_auto_rows": null,
       "grid_column": null,
       "grid_gap": null,
       "grid_row": null,
       "grid_template_areas": null,
       "grid_template_columns": null,
       "grid_template_rows": null,
       "height": null,
       "justify_content": null,
       "justify_items": null,
       "left": null,
       "margin": null,
       "max_height": null,
       "max_width": null,
       "min_height": null,
       "min_width": null,
       "object_fit": null,
       "object_position": null,
       "order": null,
       "overflow": null,
       "overflow_x": null,
       "overflow_y": null,
       "padding": null,
       "right": null,
       "top": null,
       "visibility": null,
       "width": null
      }
     },
     "eb799a75722143648cf4c45c9cb3006d": {
      "model_module": "@jupyter-widgets/base",
      "model_module_version": "1.2.0",
      "model_name": "LayoutModel",
      "state": {
       "_model_module": "@jupyter-widgets/base",
       "_model_module_version": "1.2.0",
       "_model_name": "LayoutModel",
       "_view_count": null,
       "_view_module": "@jupyter-widgets/base",
       "_view_module_version": "1.2.0",
       "_view_name": "LayoutView",
       "align_content": null,
       "align_items": null,
       "align_self": null,
       "border": null,
       "bottom": null,
       "display": null,
       "flex": null,
       "flex_flow": null,
       "grid_area": null,
       "grid_auto_columns": null,
       "grid_auto_flow": null,
       "grid_auto_rows": null,
       "grid_column": null,
       "grid_gap": null,
       "grid_row": null,
       "grid_template_areas": null,
       "grid_template_columns": null,
       "grid_template_rows": null,
       "height": null,
       "justify_content": null,
       "justify_items": null,
       "left": null,
       "margin": null,
       "max_height": null,
       "max_width": null,
       "min_height": null,
       "min_width": null,
       "object_fit": null,
       "object_position": null,
       "order": null,
       "overflow": null,
       "overflow_x": null,
       "overflow_y": null,
       "padding": null,
       "right": null,
       "top": null,
       "visibility": null,
       "width": null
      }
     }
    },
    "version_major": 2,
    "version_minor": 0
   }
  }
 },
 "nbformat": 4,
 "nbformat_minor": 5
}
