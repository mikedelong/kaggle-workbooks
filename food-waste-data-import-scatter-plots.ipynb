{
 "cells": [
  {
   "cell_type": "code",
   "execution_count": 1,
   "id": "a1c6586e",
   "metadata": {
    "_cell_guid": "b1076dfc-b9ad-4769-8c92-a6c4dae69d19",
    "_uuid": "8f2839f25d086af736a60e9eeb907d3b93b6e0e5",
    "execution": {
     "iopub.execute_input": "2023-08-05T21:11:36.437524Z",
     "iopub.status.busy": "2023-08-05T21:11:36.437139Z",
     "iopub.status.idle": "2023-08-05T21:11:36.455617Z",
     "shell.execute_reply": "2023-08-05T21:11:36.454658Z"
    },
    "papermill": {
     "duration": 0.026681,
     "end_time": "2023-08-05T21:11:36.457936",
     "exception": false,
     "start_time": "2023-08-05T21:11:36.431255",
     "status": "completed"
    },
    "tags": []
   },
   "outputs": [
    {
     "name": "stdout",
     "output_type": "stream",
     "text": [
      "/kaggle/input/food-waste/Food Waste data and research - by country.csv\n"
     ]
    }
   ],
   "source": [
    "import os\n",
    "import numpy as np # linear algebra\n",
    "import pandas as pd # data processing, CSV file I/O (e.g. pd.read_csv)\n",
    "for dirname, _, filenames in os.walk('/kaggle/input'):\n",
    "    for filename in filenames:\n",
    "        print(os.path.join(dirname, filename))"
   ]
  },
  {
   "cell_type": "code",
   "execution_count": 2,
   "id": "26e6cec5",
   "metadata": {
    "execution": {
     "iopub.execute_input": "2023-08-05T21:11:36.467211Z",
     "iopub.status.busy": "2023-08-05T21:11:36.466759Z",
     "iopub.status.idle": "2023-08-05T21:11:36.513387Z",
     "shell.execute_reply": "2023-08-05T21:11:36.512260Z"
    },
    "papermill": {
     "duration": 0.054151,
     "end_time": "2023-08-05T21:11:36.516001",
     "exception": false,
     "start_time": "2023-08-05T21:11:36.461850",
     "status": "completed"
    },
    "tags": []
   },
   "outputs": [
    {
     "data": {
      "text/html": [
       "<div>\n",
       "<style scoped>\n",
       "    .dataframe tbody tr th:only-of-type {\n",
       "        vertical-align: middle;\n",
       "    }\n",
       "\n",
       "    .dataframe tbody tr th {\n",
       "        vertical-align: top;\n",
       "    }\n",
       "\n",
       "    .dataframe thead th {\n",
       "        text-align: right;\n",
       "    }\n",
       "</style>\n",
       "<table border=\"1\" class=\"dataframe\">\n",
       "  <thead>\n",
       "    <tr style=\"text-align: right;\">\n",
       "      <th></th>\n",
       "      <th>Country</th>\n",
       "      <th>combined figures (kg/capita/year)</th>\n",
       "      <th>Household estimate (kg/capita/year)</th>\n",
       "      <th>Household estimate (tonnes/year)</th>\n",
       "      <th>Retail estimate (kg/capita/year)</th>\n",
       "      <th>Retail estimate (tonnes/year)</th>\n",
       "      <th>Food service estimate (kg/capita/year)</th>\n",
       "      <th>Food service estimate (tonnes/year)</th>\n",
       "      <th>Confidence in estimate</th>\n",
       "      <th>M49 code</th>\n",
       "      <th>Region</th>\n",
       "      <th>Source</th>\n",
       "    </tr>\n",
       "  </thead>\n",
       "  <tbody>\n",
       "    <tr>\n",
       "      <th>0</th>\n",
       "      <td>Afghanistan</td>\n",
       "      <td>126</td>\n",
       "      <td>82</td>\n",
       "      <td>3109153</td>\n",
       "      <td>16</td>\n",
       "      <td>594982</td>\n",
       "      <td>28</td>\n",
       "      <td>1051783</td>\n",
       "      <td>Very Low Confidence</td>\n",
       "      <td>4</td>\n",
       "      <td>Southern Asia</td>\n",
       "      <td>https://www.unep.org/resources/report/unep-foo...</td>\n",
       "    </tr>\n",
       "    <tr>\n",
       "      <th>1</th>\n",
       "      <td>Albania</td>\n",
       "      <td>127</td>\n",
       "      <td>83</td>\n",
       "      <td>238492</td>\n",
       "      <td>16</td>\n",
       "      <td>45058</td>\n",
       "      <td>28</td>\n",
       "      <td>79651</td>\n",
       "      <td>Very Low Confidence</td>\n",
       "      <td>8</td>\n",
       "      <td>Southern Europe</td>\n",
       "      <td>https://www.unep.org/resources/report/unep-foo...</td>\n",
       "    </tr>\n",
       "    <tr>\n",
       "      <th>2</th>\n",
       "      <td>Algeria</td>\n",
       "      <td>135</td>\n",
       "      <td>91</td>\n",
       "      <td>3918529</td>\n",
       "      <td>16</td>\n",
       "      <td>673360</td>\n",
       "      <td>28</td>\n",
       "      <td>1190335</td>\n",
       "      <td>Very Low Confidence</td>\n",
       "      <td>12</td>\n",
       "      <td>Northern Africa</td>\n",
       "      <td>https://www.unep.org/resources/report/unep-foo...</td>\n",
       "    </tr>\n",
       "    <tr>\n",
       "      <th>3</th>\n",
       "      <td>Andorra</td>\n",
       "      <td>123</td>\n",
       "      <td>84</td>\n",
       "      <td>6497</td>\n",
       "      <td>13</td>\n",
       "      <td>988</td>\n",
       "      <td>26</td>\n",
       "      <td>1971</td>\n",
       "      <td>Low Confidence</td>\n",
       "      <td>20</td>\n",
       "      <td>Southern Europe</td>\n",
       "      <td>https://www.unep.org/resources/report/unep-foo...</td>\n",
       "    </tr>\n",
       "    <tr>\n",
       "      <th>4</th>\n",
       "      <td>Angola</td>\n",
       "      <td>144</td>\n",
       "      <td>100</td>\n",
       "      <td>3169523</td>\n",
       "      <td>16</td>\n",
       "      <td>497755</td>\n",
       "      <td>28</td>\n",
       "      <td>879908</td>\n",
       "      <td>Very Low Confidence</td>\n",
       "      <td>24</td>\n",
       "      <td>Sub-Saharan Africa</td>\n",
       "      <td>https://www.unep.org/resources/report/unep-foo...</td>\n",
       "    </tr>\n",
       "  </tbody>\n",
       "</table>\n",
       "</div>"
      ],
      "text/plain": [
       "       Country  combined figures (kg/capita/year)  \\\n",
       "0  Afghanistan                                126   \n",
       "1      Albania                                127   \n",
       "2      Algeria                                135   \n",
       "3      Andorra                                123   \n",
       "4       Angola                                144   \n",
       "\n",
       "   Household estimate (kg/capita/year)  Household estimate (tonnes/year)  \\\n",
       "0                                   82                           3109153   \n",
       "1                                   83                            238492   \n",
       "2                                   91                           3918529   \n",
       "3                                   84                              6497   \n",
       "4                                  100                           3169523   \n",
       "\n",
       "   Retail estimate (kg/capita/year)  Retail estimate (tonnes/year)  \\\n",
       "0                                16                         594982   \n",
       "1                                16                          45058   \n",
       "2                                16                         673360   \n",
       "3                                13                            988   \n",
       "4                                16                         497755   \n",
       "\n",
       "   Food service estimate (kg/capita/year)  \\\n",
       "0                                      28   \n",
       "1                                      28   \n",
       "2                                      28   \n",
       "3                                      26   \n",
       "4                                      28   \n",
       "\n",
       "   Food service estimate (tonnes/year) Confidence in estimate  M49 code  \\\n",
       "0                              1051783    Very Low Confidence         4   \n",
       "1                                79651    Very Low Confidence         8   \n",
       "2                              1190335    Very Low Confidence        12   \n",
       "3                                 1971         Low Confidence        20   \n",
       "4                               879908    Very Low Confidence        24   \n",
       "\n",
       "               Region                                             Source  \n",
       "0       Southern Asia  https://www.unep.org/resources/report/unep-foo...  \n",
       "1     Southern Europe  https://www.unep.org/resources/report/unep-foo...  \n",
       "2     Northern Africa  https://www.unep.org/resources/report/unep-foo...  \n",
       "3     Southern Europe  https://www.unep.org/resources/report/unep-foo...  \n",
       "4  Sub-Saharan Africa  https://www.unep.org/resources/report/unep-foo...  "
      ]
     },
     "execution_count": 2,
     "metadata": {},
     "output_type": "execute_result"
    }
   ],
   "source": [
    "df = pd.read_csv('/kaggle/input/food-waste/Food Waste data and research - by country.csv')\n",
    "df.head()"
   ]
  },
  {
   "cell_type": "code",
   "execution_count": 3,
   "id": "f2aa7dc3",
   "metadata": {
    "execution": {
     "iopub.execute_input": "2023-08-05T21:11:36.526204Z",
     "iopub.status.busy": "2023-08-05T21:11:36.525773Z",
     "iopub.status.idle": "2023-08-05T21:11:36.541248Z",
     "shell.execute_reply": "2023-08-05T21:11:36.540179Z"
    },
    "papermill": {
     "duration": 0.023654,
     "end_time": "2023-08-05T21:11:36.543904",
     "exception": false,
     "start_time": "2023-08-05T21:11:36.520250",
     "status": "completed"
    },
    "tags": []
   },
   "outputs": [
    {
     "data": {
      "text/html": [
       "<div>\n",
       "<style scoped>\n",
       "    .dataframe tbody tr th:only-of-type {\n",
       "        vertical-align: middle;\n",
       "    }\n",
       "\n",
       "    .dataframe tbody tr th {\n",
       "        vertical-align: top;\n",
       "    }\n",
       "\n",
       "    .dataframe thead th {\n",
       "        text-align: right;\n",
       "    }\n",
       "</style>\n",
       "<table border=\"1\" class=\"dataframe\">\n",
       "  <thead>\n",
       "    <tr style=\"text-align: right;\">\n",
       "      <th></th>\n",
       "      <th>Country</th>\n",
       "      <th>combined figures (kg/capita/year)</th>\n",
       "      <th>Household estimate (kg/capita/year)</th>\n",
       "      <th>Household estimate (tonnes/year)</th>\n",
       "      <th>Retail estimate (kg/capita/year)</th>\n",
       "      <th>Retail estimate (tonnes/year)</th>\n",
       "      <th>Food service estimate (kg/capita/year)</th>\n",
       "      <th>Food service estimate (tonnes/year)</th>\n",
       "      <th>Confidence in estimate</th>\n",
       "      <th>M49 code</th>\n",
       "      <th>Region</th>\n",
       "      <th>Source</th>\n",
       "    </tr>\n",
       "  </thead>\n",
       "  <tbody>\n",
       "    <tr>\n",
       "      <th>209</th>\n",
       "      <td>Venezuela (Boliv. Rep. of)</td>\n",
       "      <td>116</td>\n",
       "      <td>72</td>\n",
       "      <td>2065461</td>\n",
       "      <td>16</td>\n",
       "      <td>445994</td>\n",
       "      <td>28</td>\n",
       "      <td>788407</td>\n",
       "      <td>Very Low Confidence</td>\n",
       "      <td>862</td>\n",
       "      <td>Latin America and the Caribbean</td>\n",
       "      <td>https://www.unep.org/resources/report/unep-foo...</td>\n",
       "    </tr>\n",
       "    <tr>\n",
       "      <th>210</th>\n",
       "      <td>Viet Nam</td>\n",
       "      <td>120</td>\n",
       "      <td>76</td>\n",
       "      <td>7346717</td>\n",
       "      <td>16</td>\n",
       "      <td>1508689</td>\n",
       "      <td>28</td>\n",
       "      <td>2666991</td>\n",
       "      <td>Very Low Confidence</td>\n",
       "      <td>704</td>\n",
       "      <td>South-eastern Asia</td>\n",
       "      <td>https://www.unep.org/resources/report/unep-foo...</td>\n",
       "    </tr>\n",
       "    <tr>\n",
       "      <th>211</th>\n",
       "      <td>Yemen</td>\n",
       "      <td>148</td>\n",
       "      <td>104</td>\n",
       "      <td>3026946</td>\n",
       "      <td>16</td>\n",
       "      <td>456099</td>\n",
       "      <td>28</td>\n",
       "      <td>806270</td>\n",
       "      <td>Very Low Confidence</td>\n",
       "      <td>887</td>\n",
       "      <td>Western Asia</td>\n",
       "      <td>https://www.unep.org/resources/report/unep-foo...</td>\n",
       "    </tr>\n",
       "    <tr>\n",
       "      <th>212</th>\n",
       "      <td>Zambia</td>\n",
       "      <td>122</td>\n",
       "      <td>78</td>\n",
       "      <td>1391729</td>\n",
       "      <td>16</td>\n",
       "      <td>279350</td>\n",
       "      <td>28</td>\n",
       "      <td>493822</td>\n",
       "      <td>Very Low Confidence</td>\n",
       "      <td>894</td>\n",
       "      <td>Sub-Saharan Africa</td>\n",
       "      <td>https://www.unep.org/resources/report/unep-foo...</td>\n",
       "    </tr>\n",
       "    <tr>\n",
       "      <th>213</th>\n",
       "      <td>Zimbabwe</td>\n",
       "      <td>144</td>\n",
       "      <td>100</td>\n",
       "      <td>1458564</td>\n",
       "      <td>16</td>\n",
       "      <td>229059</td>\n",
       "      <td>28</td>\n",
       "      <td>404920</td>\n",
       "      <td>Very Low Confidence</td>\n",
       "      <td>716</td>\n",
       "      <td>Sub-Saharan Africa</td>\n",
       "      <td>https://www.unep.org/resources/report/unep-foo...</td>\n",
       "    </tr>\n",
       "  </tbody>\n",
       "</table>\n",
       "</div>"
      ],
      "text/plain": [
       "                        Country  combined figures (kg/capita/year)  \\\n",
       "209  Venezuela (Boliv. Rep. of)                                116   \n",
       "210                    Viet Nam                                120   \n",
       "211                       Yemen                                148   \n",
       "212                      Zambia                                122   \n",
       "213                    Zimbabwe                                144   \n",
       "\n",
       "     Household estimate (kg/capita/year)  Household estimate (tonnes/year)  \\\n",
       "209                                   72                           2065461   \n",
       "210                                   76                           7346717   \n",
       "211                                  104                           3026946   \n",
       "212                                   78                           1391729   \n",
       "213                                  100                           1458564   \n",
       "\n",
       "     Retail estimate (kg/capita/year)  Retail estimate (tonnes/year)  \\\n",
       "209                                16                         445994   \n",
       "210                                16                        1508689   \n",
       "211                                16                         456099   \n",
       "212                                16                         279350   \n",
       "213                                16                         229059   \n",
       "\n",
       "     Food service estimate (kg/capita/year)  \\\n",
       "209                                      28   \n",
       "210                                      28   \n",
       "211                                      28   \n",
       "212                                      28   \n",
       "213                                      28   \n",
       "\n",
       "     Food service estimate (tonnes/year) Confidence in estimate  M49 code  \\\n",
       "209                               788407    Very Low Confidence       862   \n",
       "210                              2666991    Very Low Confidence       704   \n",
       "211                               806270    Very Low Confidence       887   \n",
       "212                               493822    Very Low Confidence       894   \n",
       "213                               404920    Very Low Confidence       716   \n",
       "\n",
       "                              Region  \\\n",
       "209  Latin America and the Caribbean   \n",
       "210               South-eastern Asia   \n",
       "211                     Western Asia   \n",
       "212               Sub-Saharan Africa   \n",
       "213               Sub-Saharan Africa   \n",
       "\n",
       "                                                Source  \n",
       "209  https://www.unep.org/resources/report/unep-foo...  \n",
       "210  https://www.unep.org/resources/report/unep-foo...  \n",
       "211  https://www.unep.org/resources/report/unep-foo...  \n",
       "212  https://www.unep.org/resources/report/unep-foo...  \n",
       "213  https://www.unep.org/resources/report/unep-foo...  "
      ]
     },
     "execution_count": 3,
     "metadata": {},
     "output_type": "execute_result"
    }
   ],
   "source": [
    "df.tail()"
   ]
  },
  {
   "cell_type": "code",
   "execution_count": 4,
   "id": "6ae68877",
   "metadata": {
    "execution": {
     "iopub.execute_input": "2023-08-05T21:11:36.554830Z",
     "iopub.status.busy": "2023-08-05T21:11:36.554456Z",
     "iopub.status.idle": "2023-08-05T21:11:36.560254Z",
     "shell.execute_reply": "2023-08-05T21:11:36.559317Z"
    },
    "papermill": {
     "duration": 0.013816,
     "end_time": "2023-08-05T21:11:36.562308",
     "exception": false,
     "start_time": "2023-08-05T21:11:36.548492",
     "status": "completed"
    },
    "tags": []
   },
   "outputs": [
    {
     "data": {
      "text/plain": [
       "(214, 12)"
      ]
     },
     "execution_count": 4,
     "metadata": {},
     "output_type": "execute_result"
    }
   ],
   "source": [
    "df.shape"
   ]
  },
  {
   "cell_type": "code",
   "execution_count": 5,
   "id": "9b37321b",
   "metadata": {
    "execution": {
     "iopub.execute_input": "2023-08-05T21:11:36.573460Z",
     "iopub.status.busy": "2023-08-05T21:11:36.572785Z",
     "iopub.status.idle": "2023-08-05T21:11:36.603523Z",
     "shell.execute_reply": "2023-08-05T21:11:36.602046Z"
    },
    "papermill": {
     "duration": 0.03923,
     "end_time": "2023-08-05T21:11:36.606133",
     "exception": false,
     "start_time": "2023-08-05T21:11:36.566903",
     "status": "completed"
    },
    "tags": []
   },
   "outputs": [
    {
     "name": "stdout",
     "output_type": "stream",
     "text": [
      "<class 'pandas.core.frame.DataFrame'>\n",
      "RangeIndex: 214 entries, 0 to 213\n",
      "Data columns (total 12 columns):\n",
      " #   Column                                  Non-Null Count  Dtype \n",
      "---  ------                                  --------------  ----- \n",
      " 0   Country                                 214 non-null    object\n",
      " 1   combined figures (kg/capita/year)       214 non-null    int64 \n",
      " 2   Household estimate (kg/capita/year)     214 non-null    int64 \n",
      " 3   Household estimate (tonnes/year)        214 non-null    int64 \n",
      " 4   Retail estimate (kg/capita/year)        214 non-null    int64 \n",
      " 5   Retail estimate (tonnes/year)           214 non-null    int64 \n",
      " 6   Food service estimate (kg/capita/year)  214 non-null    int64 \n",
      " 7   Food service estimate (tonnes/year)     214 non-null    int64 \n",
      " 8   Confidence in estimate                  214 non-null    object\n",
      " 9   M49 code                                214 non-null    int64 \n",
      " 10  Region                                  214 non-null    object\n",
      " 11  Source                                  214 non-null    object\n",
      "dtypes: int64(8), object(4)\n",
      "memory usage: 20.2+ KB\n"
     ]
    }
   ],
   "source": [
    "df.info()"
   ]
  },
  {
   "cell_type": "code",
   "execution_count": 6,
   "id": "ae91902d",
   "metadata": {
    "execution": {
     "iopub.execute_input": "2023-08-05T21:11:36.617504Z",
     "iopub.status.busy": "2023-08-05T21:11:36.617140Z",
     "iopub.status.idle": "2023-08-05T21:11:36.659058Z",
     "shell.execute_reply": "2023-08-05T21:11:36.657825Z"
    },
    "papermill": {
     "duration": 0.050498,
     "end_time": "2023-08-05T21:11:36.661467",
     "exception": false,
     "start_time": "2023-08-05T21:11:36.610969",
     "status": "completed"
    },
    "tags": []
   },
   "outputs": [
    {
     "data": {
      "text/html": [
       "<div>\n",
       "<style scoped>\n",
       "    .dataframe tbody tr th:only-of-type {\n",
       "        vertical-align: middle;\n",
       "    }\n",
       "\n",
       "    .dataframe tbody tr th {\n",
       "        vertical-align: top;\n",
       "    }\n",
       "\n",
       "    .dataframe thead th {\n",
       "        text-align: right;\n",
       "    }\n",
       "</style>\n",
       "<table border=\"1\" class=\"dataframe\">\n",
       "  <thead>\n",
       "    <tr style=\"text-align: right;\">\n",
       "      <th></th>\n",
       "      <th>combined figures (kg/capita/year)</th>\n",
       "      <th>Household estimate (kg/capita/year)</th>\n",
       "      <th>Household estimate (tonnes/year)</th>\n",
       "      <th>Retail estimate (kg/capita/year)</th>\n",
       "      <th>Retail estimate (tonnes/year)</th>\n",
       "      <th>Food service estimate (kg/capita/year)</th>\n",
       "      <th>Food service estimate (tonnes/year)</th>\n",
       "      <th>M49 code</th>\n",
       "    </tr>\n",
       "  </thead>\n",
       "  <tbody>\n",
       "    <tr>\n",
       "      <th>count</th>\n",
       "      <td>214.000000</td>\n",
       "      <td>214.000000</td>\n",
       "      <td>2.140000e+02</td>\n",
       "      <td>214.000000</td>\n",
       "      <td>2.140000e+02</td>\n",
       "      <td>214.000000</td>\n",
       "      <td>2.140000e+02</td>\n",
       "      <td>214.000000</td>\n",
       "    </tr>\n",
       "    <tr>\n",
       "      <th>mean</th>\n",
       "      <td>126.794393</td>\n",
       "      <td>84.294393</td>\n",
       "      <td>2.658896e+06</td>\n",
       "      <td>15.116822</td>\n",
       "      <td>5.520454e+05</td>\n",
       "      <td>27.383178</td>\n",
       "      <td>1.138859e+06</td>\n",
       "      <td>433.971963</td>\n",
       "    </tr>\n",
       "    <tr>\n",
       "      <th>std</th>\n",
       "      <td>22.157879</td>\n",
       "      <td>18.313705</td>\n",
       "      <td>8.596906e+06</td>\n",
       "      <td>5.767840</td>\n",
       "      <td>2.195578e+06</td>\n",
       "      <td>6.508420</td>\n",
       "      <td>5.380459e+06</td>\n",
       "      <td>252.185786</td>\n",
       "    </tr>\n",
       "    <tr>\n",
       "      <th>min</th>\n",
       "      <td>61.000000</td>\n",
       "      <td>33.000000</td>\n",
       "      <td>8.500000e+02</td>\n",
       "      <td>3.000000</td>\n",
       "      <td>1.380000e+02</td>\n",
       "      <td>3.000000</td>\n",
       "      <td>2.760000e+02</td>\n",
       "      <td>4.000000</td>\n",
       "    </tr>\n",
       "    <tr>\n",
       "      <th>25%</th>\n",
       "      <td>115.000000</td>\n",
       "      <td>74.000000</td>\n",
       "      <td>6.831550e+04</td>\n",
       "      <td>13.000000</td>\n",
       "      <td>1.250925e+04</td>\n",
       "      <td>26.000000</td>\n",
       "      <td>2.239125e+04</td>\n",
       "      <td>219.000000</td>\n",
       "    </tr>\n",
       "    <tr>\n",
       "      <th>50%</th>\n",
       "      <td>123.000000</td>\n",
       "      <td>80.000000</td>\n",
       "      <td>5.205080e+05</td>\n",
       "      <td>16.000000</td>\n",
       "      <td>1.006500e+05</td>\n",
       "      <td>28.000000</td>\n",
       "      <td>1.884660e+05</td>\n",
       "      <td>432.000000</td>\n",
       "    </tr>\n",
       "    <tr>\n",
       "      <th>75%</th>\n",
       "      <td>137.750000</td>\n",
       "      <td>95.000000</td>\n",
       "      <td>2.111314e+06</td>\n",
       "      <td>16.000000</td>\n",
       "      <td>3.568158e+05</td>\n",
       "      <td>28.000000</td>\n",
       "      <td>6.307618e+05</td>\n",
       "      <td>645.250000</td>\n",
       "    </tr>\n",
       "    <tr>\n",
       "      <th>max</th>\n",
       "      <td>260.000000</td>\n",
       "      <td>189.000000</td>\n",
       "      <td>9.164621e+07</td>\n",
       "      <td>79.000000</td>\n",
       "      <td>2.242470e+07</td>\n",
       "      <td>90.000000</td>\n",
       "      <td>6.537774e+07</td>\n",
       "      <td>894.000000</td>\n",
       "    </tr>\n",
       "  </tbody>\n",
       "</table>\n",
       "</div>"
      ],
      "text/plain": [
       "       combined figures (kg/capita/year)  Household estimate (kg/capita/year)  \\\n",
       "count                         214.000000                           214.000000   \n",
       "mean                          126.794393                            84.294393   \n",
       "std                            22.157879                            18.313705   \n",
       "min                            61.000000                            33.000000   \n",
       "25%                           115.000000                            74.000000   \n",
       "50%                           123.000000                            80.000000   \n",
       "75%                           137.750000                            95.000000   \n",
       "max                           260.000000                           189.000000   \n",
       "\n",
       "       Household estimate (tonnes/year)  Retail estimate (kg/capita/year)  \\\n",
       "count                      2.140000e+02                        214.000000   \n",
       "mean                       2.658896e+06                         15.116822   \n",
       "std                        8.596906e+06                          5.767840   \n",
       "min                        8.500000e+02                          3.000000   \n",
       "25%                        6.831550e+04                         13.000000   \n",
       "50%                        5.205080e+05                         16.000000   \n",
       "75%                        2.111314e+06                         16.000000   \n",
       "max                        9.164621e+07                         79.000000   \n",
       "\n",
       "       Retail estimate (tonnes/year)  Food service estimate (kg/capita/year)  \\\n",
       "count                   2.140000e+02                              214.000000   \n",
       "mean                    5.520454e+05                               27.383178   \n",
       "std                     2.195578e+06                                6.508420   \n",
       "min                     1.380000e+02                                3.000000   \n",
       "25%                     1.250925e+04                               26.000000   \n",
       "50%                     1.006500e+05                               28.000000   \n",
       "75%                     3.568158e+05                               28.000000   \n",
       "max                     2.242470e+07                               90.000000   \n",
       "\n",
       "       Food service estimate (tonnes/year)    M49 code  \n",
       "count                         2.140000e+02  214.000000  \n",
       "mean                          1.138859e+06  433.971963  \n",
       "std                           5.380459e+06  252.185786  \n",
       "min                           2.760000e+02    4.000000  \n",
       "25%                           2.239125e+04  219.000000  \n",
       "50%                           1.884660e+05  432.000000  \n",
       "75%                           6.307618e+05  645.250000  \n",
       "max                           6.537774e+07  894.000000  "
      ]
     },
     "execution_count": 6,
     "metadata": {},
     "output_type": "execute_result"
    }
   ],
   "source": [
    "df.describe()"
   ]
  },
  {
   "cell_type": "code",
   "execution_count": 7,
   "id": "736c666a",
   "metadata": {
    "execution": {
     "iopub.execute_input": "2023-08-05T21:11:36.674001Z",
     "iopub.status.busy": "2023-08-05T21:11:36.673577Z",
     "iopub.status.idle": "2023-08-05T21:11:36.681335Z",
     "shell.execute_reply": "2023-08-05T21:11:36.680126Z"
    },
    "papermill": {
     "duration": 0.016918,
     "end_time": "2023-08-05T21:11:36.683701",
     "exception": false,
     "start_time": "2023-08-05T21:11:36.666783",
     "status": "completed"
    },
    "tags": []
   },
   "outputs": [
    {
     "data": {
      "text/plain": [
       "Index(['Country', 'combined figures (kg/capita/year)',\n",
       "       'Household estimate (kg/capita/year)',\n",
       "       'Household estimate (tonnes/year)', 'Retail estimate (kg/capita/year)',\n",
       "       'Retail estimate (tonnes/year)',\n",
       "       'Food service estimate (kg/capita/year)',\n",
       "       'Food service estimate (tonnes/year)', 'Confidence in estimate',\n",
       "       'M49 code', 'Region', 'Source'],\n",
       "      dtype='object')"
      ]
     },
     "execution_count": 7,
     "metadata": {},
     "output_type": "execute_result"
    }
   ],
   "source": [
    "df.columns"
   ]
  },
  {
   "cell_type": "code",
   "execution_count": 8,
   "id": "8d217158",
   "metadata": {
    "execution": {
     "iopub.execute_input": "2023-08-05T21:11:36.696179Z",
     "iopub.status.busy": "2023-08-05T21:11:36.695720Z",
     "iopub.status.idle": "2023-08-05T21:11:43.808200Z",
     "shell.execute_reply": "2023-08-05T21:11:43.807136Z"
    },
    "papermill": {
     "duration": 7.122235,
     "end_time": "2023-08-05T21:11:43.811191",
     "exception": false,
     "start_time": "2023-08-05T21:11:36.688956",
     "status": "completed"
    },
    "tags": []
   },
   "outputs": [
    {
     "name": "stderr",
     "output_type": "stream",
     "text": [
      "/opt/conda/lib/python3.10/site-packages/scipy/__init__.py:146: UserWarning: A NumPy version >=1.16.5 and <1.23.0 is required for this version of SciPy (detected version 1.23.5\n",
      "  warnings.warn(f\"A NumPy version >={np_minversion} and <{np_maxversion}\"\n",
      "/opt/conda/lib/python3.10/site-packages/seaborn/axisgrid.py:118: UserWarning: The figure layout has changed to tight\n",
      "  self._figure.tight_layout(*args, **kwargs)\n"
     ]
    },
    {
     "data": {
      "text/plain": [
       "<seaborn.axisgrid.PairGrid at 0x7dbf99b689a0>"
      ]
     },
     "execution_count": 8,
     "metadata": {},
     "output_type": "execute_result"
    },
    {
     "data": {
      "image/png": "[encoded data removed]",
      "text/plain": [
       "<Figure size 1000x1000 with 20 Axes>"
      ]
     },
     "metadata": {},
     "output_type": "display_data"
    }
   ],
   "source": [
    "from seaborn import pairplot\n",
    "kg_columns = [item for item in df.columns if 'kg' in item]\n",
    "readable_columns = ['combined', 'houseold', 'retail', 'food service']\n",
    "pairplot(data=df[kg_columns].rename(columns={kg_columns[index]: readable_columns[index] for index in range(len(kg_columns))}), diag_kind='kde')"
   ]
  }
 ],
 "metadata": {
  "kernelspec": {
   "display_name": "Python 3",
   "language": "python",
   "name": "python3"
  },
  "language_info": {
   "codemirror_mode": {
    "name": "ipython",
    "version": 3
   },
   "file_extension": ".py",
   "mimetype": "text/x-python",
   "name": "python",
   "nbconvert_exporter": "python",
   "pygments_lexer": "ipython3",
   "version": "3.10.12"
  },
  "papermill": {
   "default_parameters": {},
   "duration": 19.802802,
   "end_time": "2023-08-05T21:11:44.843525",
   "environment_variables": {},
   "exception": null,
   "input_path": "__notebook__.ipynb",
   "output_path": "__notebook__.ipynb",
   "parameters": {},
   "start_time": "2023-08-05T21:11:25.040723",
   "version": "2.4.0"
  }
 },
 "nbformat": 4,
 "nbformat_minor": 5
}
