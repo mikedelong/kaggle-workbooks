{
 "cells": [
  {
   "cell_type": "code",
   "execution_count": 1,
   "id": "98978165",
   "metadata": {
    "_cell_guid": "b1076dfc-b9ad-4769-8c92-a6c4dae69d19",
    "_uuid": "8f2839f25d086af736a60e9eeb907d3b93b6e0e5",
    "execution": {
     "iopub.execute_input": "2024-03-22T13:50:19.470263Z",
     "iopub.status.busy": "2024-03-22T13:50:19.469014Z",
     "iopub.status.idle": "2024-03-22T13:51:05.270278Z",
     "shell.execute_reply": "2024-03-22T13:51:05.268834Z"
    },
    "papermill": {
     "duration": 45.809364,
     "end_time": "2024-03-22T13:51:05.273099",
     "exception": false,
     "start_time": "2024-03-22T13:50:19.463735",
     "status": "completed"
    },
    "tags": []
   },
   "outputs": [],
   "source": [
    "!pip install --upgrade --quiet pip\n",
    "!pip install --quiet img2vec_pytorch"
   ]
  },
  {
   "cell_type": "code",
   "execution_count": 2,
   "id": "6ca6cb7f",
   "metadata": {
    "execution": {
     "iopub.execute_input": "2024-03-22T13:51:05.280494Z",
     "iopub.status.busy": "2024-03-22T13:51:05.280081Z",
     "iopub.status.idle": "2024-03-22T13:52:23.969583Z",
     "shell.execute_reply": "2024-03-22T13:52:23.968332Z"
    },
    "papermill": {
     "duration": 78.69721,
     "end_time": "2024-03-22T13:52:23.973260",
     "exception": false,
     "start_time": "2024-03-22T13:51:05.276050",
     "status": "completed"
    },
    "tags": []
   },
   "outputs": [
    {
     "name": "stderr",
     "output_type": "stream",
     "text": [
      "/opt/conda/lib/python3.10/site-packages/torchvision/models/_utils.py:208: UserWarning: The parameter 'pretrained' is deprecated since 0.13 and may be removed in the future, please use 'weights' instead.\n",
      "  warnings.warn(\n",
      "/opt/conda/lib/python3.10/site-packages/torchvision/models/_utils.py:223: UserWarning: Arguments other than a weight enum or `None` for 'weights' are deprecated since 0.13 and may be removed in the future. The current behavior is equivalent to passing `weights=ResNet18_Weights.IMAGENET1K_V1`. You can also use `weights=ResNet18_Weights.DEFAULT` to get the most up-to-date weights.\n",
      "  warnings.warn(msg)\n",
      "Downloading: \"https://download.pytorch.org/models/resnet18-f37072fd.pth\" to /root/.cache/torch/hub/checkpoints/resnet18-f37072fd.pth\n",
      "100%|██████████| 44.7M/44.7M [00:00<00:00, 115MB/s]\n"
     ]
    },
    {
     "name": "stdout",
     "output_type": "stream",
     "text": [
      "encoded Broken data 110 rows in 0:00:40.990205\n",
      "encoded Not Broken data 94 rows in 0:00:28.947798\n",
      "done in 0:01:09.968301\n"
     ]
    }
   ],
   "source": [
    "import base64\n",
    "import pandas as pd\n",
    "\n",
    "from glob import glob\n",
    "from io import BytesIO\n",
    "from os.path import basename\n",
    "\n",
    "from arrow import now\n",
    "from img2vec_pytorch import Img2Vec\n",
    "from PIL import Image\n",
    "\n",
    "SIZE = 512\n",
    "STOP =  7500\n",
    "DATA_GLOB = '/kaggle/input/road-classification/Road Classification'\n",
    "\n",
    "# https://stackoverflow.com/a/952952\n",
    "def flatten(arg):\n",
    "    return [x for xs in arg for x in xs]\n",
    "\n",
    "def get_from_glob(arg: str, tag: str, stop: int) -> list:\n",
    "    time_get = now()\n",
    "    result = []\n",
    "    for index, input_file in enumerate(glob(pathname=arg)):\n",
    "        if index < stop:\n",
    "            name = basename(input_file)\n",
    "            with Image.open(fp=input_file, mode='r') as image:\n",
    "                vector = img2vec.get_vec(image, tensor=True).numpy().reshape(SIZE,)\n",
    "                buffer = BytesIO()\n",
    "                width, height = image.size\n",
    "                size = (int(width / 2), int(height / 2))\n",
    "                image.resize(size=size).save(buffer, format='png')\n",
    "                result.append(pd.Series(data=[tag, name, vector, \n",
    "                                              'data:image/png;base64,' + base64.b64encode(buffer.getvalue()).decode(),\n",
    "                                             ], index=['tag', 'name', 'value', 'image']))\n",
    "    print('encoded {} data {} rows in {}'.format(tag, len(result), now() - time_get))\n",
    "    return result\n",
    "\n",
    "img2vec = Img2Vec(cuda=False, model='resnet-18', layer='default', layer_output_size=SIZE)\n",
    "\n",
    "time_start = now()\n",
    "\n",
    "files = {basename(folder) : folder + '/*.jpg' for folder in glob(DATA_GLOB + '/*')}\n",
    "data = [get_from_glob(arg=value, tag=key, stop=STOP) for key, value in files.items()]\n",
    "df = pd.DataFrame(data=flatten(arg=data))\n",
    "    \n",
    "print('done in {}'.format(now() - time_start))\n"
   ]
  },
  {
   "cell_type": "code",
   "execution_count": 3,
   "id": "bd142e78",
   "metadata": {
    "execution": {
     "iopub.execute_input": "2024-03-22T13:52:23.982076Z",
     "iopub.status.busy": "2024-03-22T13:52:23.981279Z",
     "iopub.status.idle": "2024-03-22T13:52:26.772065Z",
     "shell.execute_reply": "2024-03-22T13:52:26.770884Z"
    },
    "papermill": {
     "duration": 2.798404,
     "end_time": "2024-03-22T13:52:26.775007",
     "exception": false,
     "start_time": "2024-03-22T13:52:23.976603",
     "status": "completed"
    },
    "tags": []
   },
   "outputs": [
    {
     "data": {
      "text/html": [
       "        <script type=\"text/javascript\">\n",
       "        window.PlotlyConfig = {MathJaxConfig: 'local'};\n",
       "        if (window.MathJax && window.MathJax.Hub && window.MathJax.Hub.Config) {window.MathJax.Hub.Config({SVG: {font: \"STIX-Web\"}});}\n",
       "        if (typeof require !== 'undefined') {\n",
       "        require.undef(\"plotly\");\n",
       "        requirejs.config({\n",
       "            paths: {\n",
       "                'plotly': ['https://cdn.plot.ly/plotly-2.27.0.min']\n",
       "            }\n",
       "        });\n",
       "        require(['plotly'], function(Plotly) {\n",
       "            window._Plotly = Plotly;\n",
       "        });\n",
       "        }\n",
       "        </script>\n",
       "        "
      ]
     },
     "metadata": {},
     "output_type": "display_data"
    },
    {
     "data": {
      "text/html": [
       "<div>                            <div id=\"92bdf5af-c661-482d-946d-6cbcc76111ca\" class=\"plotly-graph-div\" style=\"height:525px; width:100%;\"></div>            <script type=\"text/javascript\">                require([\"plotly\"], function(Plotly) {                    window.PLOTLYENV=window.PLOTLYENV || {};                                    if (document.getElementById(\"92bdf5af-c661-482d-946d-6cbcc76111ca\")) {                    Plotly.newPlot(                        \"92bdf5af-c661-482d-946d-6cbcc76111ca\",                        [{\"customdata\":[[\"Broken\"],[\"Broken\"],[\"Broken\"],[\"Broken\"],[\"Broken\"],[\"Broken\"],[\"Broken\"],[\"Broken\"],[\"Broken\"],[\"Broken\"],[\"Broken\"],[\"Broken\"],[\"Broken\"],[\"Broken\"],[\"Broken\"],[\"Broken\"],[\"Broken\"],[\"Broken\"],[\"Broken\"],[\"Broken\"],[\"Broken\"],[\"Broken\"],[\"Broken\"],[\"Broken\"],[\"Broken\"],[\"Broken\"],[\"Broken\"],[\"Broken\"],[\"Broken\"],[\"Broken\"],[\"Broken\"],[\"Broken\"],[\"Broken\"],[\"Broken\"],[\"Broken\"],[\"Broken\"],[\"Broken\"],[\"Broken\"],[\"Broken\"],[\"Broken\"],[\"Broken\"],[\"Broken\"],[\"Broken\"],[\"Broken\"],[\"Broken\"],[\"Broken\"],[\"Broken\"],[\"Broken\"],[\"Broken\"],[\"Broken\"],[\"Broken\"],[\"Broken\"],[\"Broken\"],[\"Broken\"],[\"Broken\"],[\"Broken\"],[\"Broken\"],[\"Broken\"],[\"Broken\"],[\"Broken\"],[\"Broken\"],[\"Broken\"],[\"Broken\"],[\"Broken\"],[\"Broken\"],[\"Broken\"],[\"Broken\"],[\"Broken\"],[\"Broken\"],[\"Broken\"],[\"Broken\"],[\"Broken\"],[\"Broken\"],[\"Broken\"],[\"Broken\"],[\"Broken\"],[\"Broken\"],[\"Broken\"],[\"Broken\"],[\"Broken\"],[\"Broken\"],[\"Broken\"],[\"Broken\"],[\"Broken\"],[\"Broken\"],[\"Broken\"],[\"Broken\"],[\"Broken\"],[\"Broken\"],[\"Broken\"],[\"Broken\"],[\"Broken\"],[\"Broken\"],[\"Broken\"],[\"Broken\"],[\"Broken\"],[\"Broken\"],[\"Broken\"],[\"Broken\"],[\"Broken\"],[\"Broken\"],[\"Broken\"],[\"Broken\"],[\"Broken\"],[\"Broken\"],[\"Broken\"],[\"Broken\"],[\"Broken\"],[\"Broken\"],[\"Broken\"],[\"Not Broken\"],[\"Not Broken\"],[\"Not Broken\"],[\"Not Broken\"],[\"Not Broken\"],[\"Not Broken\"],[\"Not Broken\"],[\"Not Broken\"],[\"Not Broken\"],[\"Not Broken\"],[\"Not Broken\"],[\"Not Broken\"],[\"Not Broken\"],[\"Not Broken\"],[\"Not Broken\"],[\"Not Broken\"],[\"Not Broken\"],[\"Not Broken\"],[\"Not Broken\"],[\"Not Broken\"],[\"Not Broken\"],[\"Not Broken\"],[\"Not Broken\"],[\"Not Broken\"],[\"Not Broken\"],[\"Not Broken\"],[\"Not Broken\"],[\"Not Broken\"],[\"Not Broken\"],[\"Not Broken\"],[\"Not Broken\"],[\"Not Broken\"],[\"Not Broken\"],[\"Not Broken\"],[\"Not Broken\"],[\"Not Broken\"],[\"Not Broken\"],[\"Not Broken\"],[\"Not Broken\"],[\"Not Broken\"],[\"Not Broken\"],[\"Not Broken\"],[\"Not Broken\"],[\"Not Broken\"],[\"Not Broken\"],[\"Not Broken\"],[\"Not Broken\"],[\"Not Broken\"],[\"Not Broken\"],[\"Not Broken\"],[\"Not Broken\"],[\"Not Broken\"],[\"Not Broken\"],[\"Not Broken\"],[\"Not Broken\"],[\"Not Broken\"],[\"Not Broken\"],[\"Not Broken\"],[\"Not Broken\"],[\"Not Broken\"],[\"Not Broken\"],[\"Not Broken\"],[\"Not Broken\"],[\"Not Broken\"],[\"Not Broken\"],[\"Not Broken\"],[\"Not Broken\"],[\"Not Broken\"],[\"Not Broken\"],[\"Not Broken\"],[\"Not Broken\"],[\"Not Broken\"],[\"Not Broken\"],[\"Not Broken\"],[\"Not Broken\"],[\"Not Broken\"],[\"Not Broken\"],[\"Not Broken\"],[\"Not Broken\"],[\"Not Broken\"],[\"Not Broken\"],[\"Not Broken\"],[\"Not Broken\"],[\"Not Broken\"],[\"Not Broken\"],[\"Not Broken\"],[\"Not Broken\"],[\"Not Broken\"],[\"Not Broken\"],[\"Not Broken\"],[\"Not Broken\"],[\"Not Broken\"],[\"Not Broken\"],[\"Not Broken\"]],\"domain\":{\"x\":[0.0,1.0],\"y\":[0.0,1.0]},\"hovertemplate\":\"tag=%{customdata[0]}\\u003cextra\\u003e\\u003c\\u002fextra\\u003e\",\"labels\":[\"Broken\",\"Broken\",\"Broken\",\"Broken\",\"Broken\",\"Broken\",\"Broken\",\"Broken\",\"Broken\",\"Broken\",\"Broken\",\"Broken\",\"Broken\",\"Broken\",\"Broken\",\"Broken\",\"Broken\",\"Broken\",\"Broken\",\"Broken\",\"Broken\",\"Broken\",\"Broken\",\"Broken\",\"Broken\",\"Broken\",\"Broken\",\"Broken\",\"Broken\",\"Broken\",\"Broken\",\"Broken\",\"Broken\",\"Broken\",\"Broken\",\"Broken\",\"Broken\",\"Broken\",\"Broken\",\"Broken\",\"Broken\",\"Broken\",\"Broken\",\"Broken\",\"Broken\",\"Broken\",\"Broken\",\"Broken\",\"Broken\",\"Broken\",\"Broken\",\"Broken\",\"Broken\",\"Broken\",\"Broken\",\"Broken\",\"Broken\",\"Broken\",\"Broken\",\"Broken\",\"Broken\",\"Broken\",\"Broken\",\"Broken\",\"Broken\",\"Broken\",\"Broken\",\"Broken\",\"Broken\",\"Broken\",\"Broken\",\"Broken\",\"Broken\",\"Broken\",\"Broken\",\"Broken\",\"Broken\",\"Broken\",\"Broken\",\"Broken\",\"Broken\",\"Broken\",\"Broken\",\"Broken\",\"Broken\",\"Broken\",\"Broken\",\"Broken\",\"Broken\",\"Broken\",\"Broken\",\"Broken\",\"Broken\",\"Broken\",\"Broken\",\"Broken\",\"Broken\",\"Broken\",\"Broken\",\"Broken\",\"Broken\",\"Broken\",\"Broken\",\"Broken\",\"Broken\",\"Broken\",\"Broken\",\"Broken\",\"Broken\",\"Broken\",\"Not Broken\",\"Not Broken\",\"Not Broken\",\"Not Broken\",\"Not Broken\",\"Not Broken\",\"Not Broken\",\"Not Broken\",\"Not Broken\",\"Not Broken\",\"Not Broken\",\"Not Broken\",\"Not Broken\",\"Not Broken\",\"Not Broken\",\"Not Broken\",\"Not Broken\",\"Not Broken\",\"Not Broken\",\"Not Broken\",\"Not Broken\",\"Not Broken\",\"Not Broken\",\"Not Broken\",\"Not Broken\",\"Not Broken\",\"Not Broken\",\"Not Broken\",\"Not Broken\",\"Not Broken\",\"Not Broken\",\"Not Broken\",\"Not Broken\",\"Not Broken\",\"Not Broken\",\"Not Broken\",\"Not Broken\",\"Not Broken\",\"Not Broken\",\"Not Broken\",\"Not Broken\",\"Not Broken\",\"Not Broken\",\"Not Broken\",\"Not Broken\",\"Not Broken\",\"Not Broken\",\"Not Broken\",\"Not Broken\",\"Not Broken\",\"Not Broken\",\"Not Broken\",\"Not Broken\",\"Not Broken\",\"Not Broken\",\"Not Broken\",\"Not Broken\",\"Not Broken\",\"Not Broken\",\"Not Broken\",\"Not Broken\",\"Not Broken\",\"Not Broken\",\"Not Broken\",\"Not Broken\",\"Not Broken\",\"Not Broken\",\"Not Broken\",\"Not Broken\",\"Not Broken\",\"Not Broken\",\"Not Broken\",\"Not Broken\",\"Not Broken\",\"Not Broken\",\"Not Broken\",\"Not Broken\",\"Not Broken\",\"Not Broken\",\"Not Broken\",\"Not Broken\",\"Not Broken\",\"Not Broken\",\"Not Broken\",\"Not Broken\",\"Not Broken\",\"Not Broken\",\"Not Broken\",\"Not Broken\",\"Not Broken\",\"Not Broken\",\"Not Broken\",\"Not Broken\",\"Not Broken\"],\"legendgroup\":\"\",\"marker\":{\"colors\":[\"#636efa\",\"#636efa\",\"#636efa\",\"#636efa\",\"#636efa\",\"#636efa\",\"#636efa\",\"#636efa\",\"#636efa\",\"#636efa\",\"#636efa\",\"#636efa\",\"#636efa\",\"#636efa\",\"#636efa\",\"#636efa\",\"#636efa\",\"#636efa\",\"#636efa\",\"#636efa\",\"#636efa\",\"#636efa\",\"#636efa\",\"#636efa\",\"#636efa\",\"#636efa\",\"#636efa\",\"#636efa\",\"#636efa\",\"#636efa\",\"#636efa\",\"#636efa\",\"#636efa\",\"#636efa\",\"#636efa\",\"#636efa\",\"#636efa\",\"#636efa\",\"#636efa\",\"#636efa\",\"#636efa\",\"#636efa\",\"#636efa\",\"#636efa\",\"#636efa\",\"#636efa\",\"#636efa\",\"#636efa\",\"#636efa\",\"#636efa\",\"#636efa\",\"#636efa\",\"#636efa\",\"#636efa\",\"#636efa\",\"#636efa\",\"#636efa\",\"#636efa\",\"#636efa\",\"#636efa\",\"#636efa\",\"#636efa\",\"#636efa\",\"#636efa\",\"#636efa\",\"#636efa\",\"#636efa\",\"#636efa\",\"#636efa\",\"#636efa\",\"#636efa\",\"#636efa\",\"#636efa\",\"#636efa\",\"#636efa\",\"#636efa\",\"#636efa\",\"#636efa\",\"#636efa\",\"#636efa\",\"#636efa\",\"#636efa\",\"#636efa\",\"#636efa\",\"#636efa\",\"#636efa\",\"#636efa\",\"#636efa\",\"#636efa\",\"#636efa\",\"#636efa\",\"#636efa\",\"#636efa\",\"#636efa\",\"#636efa\",\"#636efa\",\"#636efa\",\"#636efa\",\"#636efa\",\"#636efa\",\"#636efa\",\"#636efa\",\"#636efa\",\"#636efa\",\"#636efa\",\"#636efa\",\"#636efa\",\"#636efa\",\"#636efa\",\"#636efa\",\"#EF553B\",\"#EF553B\",\"#EF553B\",\"#EF553B\",\"#EF553B\",\"#EF553B\",\"#EF553B\",\"#EF553B\",\"#EF553B\",\"#EF553B\",\"#EF553B\",\"#EF553B\",\"#EF553B\",\"#EF553B\",\"#EF553B\",\"#EF553B\",\"#EF553B\",\"#EF553B\",\"#EF553B\",\"#EF553B\",\"#EF553B\",\"#EF553B\",\"#EF553B\",\"#EF553B\",\"#EF553B\",\"#EF553B\",\"#EF553B\",\"#EF553B\",\"#EF553B\",\"#EF553B\",\"#EF553B\",\"#EF553B\",\"#EF553B\",\"#EF553B\",\"#EF553B\",\"#EF553B\",\"#EF553B\",\"#EF553B\",\"#EF553B\",\"#EF553B\",\"#EF553B\",\"#EF553B\",\"#EF553B\",\"#EF553B\",\"#EF553B\",\"#EF553B\",\"#EF553B\",\"#EF553B\",\"#EF553B\",\"#EF553B\",\"#EF553B\",\"#EF553B\",\"#EF553B\",\"#EF553B\",\"#EF553B\",\"#EF553B\",\"#EF553B\",\"#EF553B\",\"#EF553B\",\"#EF553B\",\"#EF553B\",\"#EF553B\",\"#EF553B\",\"#EF553B\",\"#EF553B\",\"#EF553B\",\"#EF553B\",\"#EF553B\",\"#EF553B\",\"#EF553B\",\"#EF553B\",\"#EF553B\",\"#EF553B\",\"#EF553B\",\"#EF553B\",\"#EF553B\",\"#EF553B\",\"#EF553B\",\"#EF553B\",\"#EF553B\",\"#EF553B\",\"#EF553B\",\"#EF553B\",\"#EF553B\",\"#EF553B\",\"#EF553B\",\"#EF553B\",\"#EF553B\",\"#EF553B\",\"#EF553B\",\"#EF553B\",\"#EF553B\",\"#EF553B\",\"#EF553B\"]},\"name\":\"\",\"showlegend\":true,\"type\":\"pie\"}],                        {\"template\":{\"data\":{\"histogram2dcontour\":[{\"type\":\"histogram2dcontour\",\"colorbar\":{\"outlinewidth\":0,\"ticks\":\"\"},\"colorscale\":[[0.0,\"#0d0887\"],[0.1111111111111111,\"#46039f\"],[0.2222222222222222,\"#7201a8\"],[0.3333333333333333,\"#9c179e\"],[0.4444444444444444,\"#bd3786\"],[0.5555555555555556,\"#d8576b\"],[0.6666666666666666,\"#ed7953\"],[0.7777777777777778,\"#fb9f3a\"],[0.8888888888888888,\"#fdca26\"],[1.0,\"#f0f921\"]]}],\"choropleth\":[{\"type\":\"choropleth\",\"colorbar\":{\"outlinewidth\":0,\"ticks\":\"\"}}],\"histogram2d\":[{\"type\":\"histogram2d\",\"colorbar\":{\"outlinewidth\":0,\"ticks\":\"\"},\"colorscale\":[[0.0,\"#0d0887\"],[0.1111111111111111,\"#46039f\"],[0.2222222222222222,\"#7201a8\"],[0.3333333333333333,\"#9c179e\"],[0.4444444444444444,\"#bd3786\"],[0.5555555555555556,\"#d8576b\"],[0.6666666666666666,\"#ed7953\"],[0.7777777777777778,\"#fb9f3a\"],[0.8888888888888888,\"#fdca26\"],[1.0,\"#f0f921\"]]}],\"heatmap\":[{\"type\":\"heatmap\",\"colorbar\":{\"outlinewidth\":0,\"ticks\":\"\"},\"colorscale\":[[0.0,\"#0d0887\"],[0.1111111111111111,\"#46039f\"],[0.2222222222222222,\"#7201a8\"],[0.3333333333333333,\"#9c179e\"],[0.4444444444444444,\"#bd3786\"],[0.5555555555555556,\"#d8576b\"],[0.6666666666666666,\"#ed7953\"],[0.7777777777777778,\"#fb9f3a\"],[0.8888888888888888,\"#fdca26\"],[1.0,\"#f0f921\"]]}],\"heatmapgl\":[{\"type\":\"heatmapgl\",\"colorbar\":{\"outlinewidth\":0,\"ticks\":\"\"},\"colorscale\":[[0.0,\"#0d0887\"],[0.1111111111111111,\"#46039f\"],[0.2222222222222222,\"#7201a8\"],[0.3333333333333333,\"#9c179e\"],[0.4444444444444444,\"#bd3786\"],[0.5555555555555556,\"#d8576b\"],[0.6666666666666666,\"#ed7953\"],[0.7777777777777778,\"#fb9f3a\"],[0.8888888888888888,\"#fdca26\"],[1.0,\"#f0f921\"]]}],\"contourcarpet\":[{\"type\":\"contourcarpet\",\"colorbar\":{\"outlinewidth\":0,\"ticks\":\"\"}}],\"contour\":[{\"type\":\"contour\",\"colorbar\":{\"outlinewidth\":0,\"ticks\":\"\"},\"colorscale\":[[0.0,\"#0d0887\"],[0.1111111111111111,\"#46039f\"],[0.2222222222222222,\"#7201a8\"],[0.3333333333333333,\"#9c179e\"],[0.4444444444444444,\"#bd3786\"],[0.5555555555555556,\"#d8576b\"],[0.6666666666666666,\"#ed7953\"],[0.7777777777777778,\"#fb9f3a\"],[0.8888888888888888,\"#fdca26\"],[1.0,\"#f0f921\"]]}],\"surface\":[{\"type\":\"surface\",\"colorbar\":{\"outlinewidth\":0,\"ticks\":\"\"},\"colorscale\":[[0.0,\"#0d0887\"],[0.1111111111111111,\"#46039f\"],[0.2222222222222222,\"#7201a8\"],[0.3333333333333333,\"#9c179e\"],[0.4444444444444444,\"#bd3786\"],[0.5555555555555556,\"#d8576b\"],[0.6666666666666666,\"#ed7953\"],[0.7777777777777778,\"#fb9f3a\"],[0.8888888888888888,\"#fdca26\"],[1.0,\"#f0f921\"]]}],\"mesh3d\":[{\"type\":\"mesh3d\",\"colorbar\":{\"outlinewidth\":0,\"ticks\":\"\"}}],\"scatter\":[{\"fillpattern\":{\"fillmode\":\"overlay\",\"size\":10,\"solidity\":0.2},\"type\":\"scatter\"}],\"parcoords\":[{\"type\":\"parcoords\",\"line\":{\"colorbar\":{\"outlinewidth\":0,\"ticks\":\"\"}}}],\"scatterpolargl\":[{\"type\":\"scatterpolargl\",\"marker\":{\"colorbar\":{\"outlinewidth\":0,\"ticks\":\"\"}}}],\"bar\":[{\"error_x\":{\"color\":\"#2a3f5f\"},\"error_y\":{\"color\":\"#2a3f5f\"},\"marker\":{\"line\":{\"color\":\"#E5ECF6\",\"width\":0.5},\"pattern\":{\"fillmode\":\"overlay\",\"size\":10,\"solidity\":0.2}},\"type\":\"bar\"}],\"scattergeo\":[{\"type\":\"scattergeo\",\"marker\":{\"colorbar\":{\"outlinewidth\":0,\"ticks\":\"\"}}}],\"scatterpolar\":[{\"type\":\"scatterpolar\",\"marker\":{\"colorbar\":{\"outlinewidth\":0,\"ticks\":\"\"}}}],\"histogram\":[{\"marker\":{\"pattern\":{\"fillmode\":\"overlay\",\"size\":10,\"solidity\":0.2}},\"type\":\"histogram\"}],\"scattergl\":[{\"type\":\"scattergl\",\"marker\":{\"colorbar\":{\"outlinewidth\":0,\"ticks\":\"\"}}}],\"scatter3d\":[{\"type\":\"scatter3d\",\"line\":{\"colorbar\":{\"outlinewidth\":0,\"ticks\":\"\"}},\"marker\":{\"colorbar\":{\"outlinewidth\":0,\"ticks\":\"\"}}}],\"scattermapbox\":[{\"type\":\"scattermapbox\",\"marker\":{\"colorbar\":{\"outlinewidth\":0,\"ticks\":\"\"}}}],\"scatterternary\":[{\"type\":\"scatterternary\",\"marker\":{\"colorbar\":{\"outlinewidth\":0,\"ticks\":\"\"}}}],\"scattercarpet\":[{\"type\":\"scattercarpet\",\"marker\":{\"colorbar\":{\"outlinewidth\":0,\"ticks\":\"\"}}}],\"carpet\":[{\"aaxis\":{\"endlinecolor\":\"#2a3f5f\",\"gridcolor\":\"white\",\"linecolor\":\"white\",\"minorgridcolor\":\"white\",\"startlinecolor\":\"#2a3f5f\"},\"baxis\":{\"endlinecolor\":\"#2a3f5f\",\"gridcolor\":\"white\",\"linecolor\":\"white\",\"minorgridcolor\":\"white\",\"startlinecolor\":\"#2a3f5f\"},\"type\":\"carpet\"}],\"table\":[{\"cells\":{\"fill\":{\"color\":\"#EBF0F8\"},\"line\":{\"color\":\"white\"}},\"header\":{\"fill\":{\"color\":\"#C8D4E3\"},\"line\":{\"color\":\"white\"}},\"type\":\"table\"}],\"barpolar\":[{\"marker\":{\"line\":{\"color\":\"#E5ECF6\",\"width\":0.5},\"pattern\":{\"fillmode\":\"overlay\",\"size\":10,\"solidity\":0.2}},\"type\":\"barpolar\"}],\"pie\":[{\"automargin\":true,\"type\":\"pie\"}]},\"layout\":{\"autotypenumbers\":\"strict\",\"colorway\":[\"#636efa\",\"#EF553B\",\"#00cc96\",\"#ab63fa\",\"#FFA15A\",\"#19d3f3\",\"#FF6692\",\"#B6E880\",\"#FF97FF\",\"#FECB52\"],\"font\":{\"color\":\"#2a3f5f\"},\"hovermode\":\"closest\",\"hoverlabel\":{\"align\":\"left\"},\"paper_bgcolor\":\"white\",\"plot_bgcolor\":\"#E5ECF6\",\"polar\":{\"bgcolor\":\"#E5ECF6\",\"angularaxis\":{\"gridcolor\":\"white\",\"linecolor\":\"white\",\"ticks\":\"\"},\"radialaxis\":{\"gridcolor\":\"white\",\"linecolor\":\"white\",\"ticks\":\"\"}},\"ternary\":{\"bgcolor\":\"#E5ECF6\",\"aaxis\":{\"gridcolor\":\"white\",\"linecolor\":\"white\",\"ticks\":\"\"},\"baxis\":{\"gridcolor\":\"white\",\"linecolor\":\"white\",\"ticks\":\"\"},\"caxis\":{\"gridcolor\":\"white\",\"linecolor\":\"white\",\"ticks\":\"\"}},\"coloraxis\":{\"colorbar\":{\"outlinewidth\":0,\"ticks\":\"\"}},\"colorscale\":{\"sequential\":[[0.0,\"#0d0887\"],[0.1111111111111111,\"#46039f\"],[0.2222222222222222,\"#7201a8\"],[0.3333333333333333,\"#9c179e\"],[0.4444444444444444,\"#bd3786\"],[0.5555555555555556,\"#d8576b\"],[0.6666666666666666,\"#ed7953\"],[0.7777777777777778,\"#fb9f3a\"],[0.8888888888888888,\"#fdca26\"],[1.0,\"#f0f921\"]],\"sequentialminus\":[[0.0,\"#0d0887\"],[0.1111111111111111,\"#46039f\"],[0.2222222222222222,\"#7201a8\"],[0.3333333333333333,\"#9c179e\"],[0.4444444444444444,\"#bd3786\"],[0.5555555555555556,\"#d8576b\"],[0.6666666666666666,\"#ed7953\"],[0.7777777777777778,\"#fb9f3a\"],[0.8888888888888888,\"#fdca26\"],[1.0,\"#f0f921\"]],\"diverging\":[[0,\"#8e0152\"],[0.1,\"#c51b7d\"],[0.2,\"#de77ae\"],[0.3,\"#f1b6da\"],[0.4,\"#fde0ef\"],[0.5,\"#f7f7f7\"],[0.6,\"#e6f5d0\"],[0.7,\"#b8e186\"],[0.8,\"#7fbc41\"],[0.9,\"#4d9221\"],[1,\"#276419\"]]},\"xaxis\":{\"gridcolor\":\"white\",\"linecolor\":\"white\",\"ticks\":\"\",\"title\":{\"standoff\":15},\"zerolinecolor\":\"white\",\"automargin\":true,\"zerolinewidth\":2},\"yaxis\":{\"gridcolor\":\"white\",\"linecolor\":\"white\",\"ticks\":\"\",\"title\":{\"standoff\":15},\"zerolinecolor\":\"white\",\"automargin\":true,\"zerolinewidth\":2},\"scene\":{\"xaxis\":{\"backgroundcolor\":\"#E5ECF6\",\"gridcolor\":\"white\",\"linecolor\":\"white\",\"showbackground\":true,\"ticks\":\"\",\"zerolinecolor\":\"white\",\"gridwidth\":2},\"yaxis\":{\"backgroundcolor\":\"#E5ECF6\",\"gridcolor\":\"white\",\"linecolor\":\"white\",\"showbackground\":true,\"ticks\":\"\",\"zerolinecolor\":\"white\",\"gridwidth\":2},\"zaxis\":{\"backgroundcolor\":\"#E5ECF6\",\"gridcolor\":\"white\",\"linecolor\":\"white\",\"showbackground\":true,\"ticks\":\"\",\"zerolinecolor\":\"white\",\"gridwidth\":2}},\"shapedefaults\":{\"line\":{\"color\":\"#2a3f5f\"}},\"annotationdefaults\":{\"arrowcolor\":\"#2a3f5f\",\"arrowhead\":0,\"arrowwidth\":1},\"geo\":{\"bgcolor\":\"white\",\"landcolor\":\"#E5ECF6\",\"subunitcolor\":\"white\",\"showland\":true,\"showlakes\":true,\"lakecolor\":\"white\"},\"title\":{\"x\":0.05},\"mapbox\":{\"style\":\"light\"}}},\"legend\":{\"tracegroupgap\":0},\"margin\":{\"t\":60}},                        {\"responsive\": true}                    ).then(function(){\n",
       "                            \n",
       "var gd = document.getElementById('92bdf5af-c661-482d-946d-6cbcc76111ca');\n",
       "var x = new MutationObserver(function (mutations, observer) {{\n",
       "        var display = window.getComputedStyle(gd).display;\n",
       "        if (!display || display === 'none') {{\n",
       "            console.log([gd, 'removed!']);\n",
       "            Plotly.purge(gd);\n",
       "            observer.disconnect();\n",
       "        }}\n",
       "}});\n",
       "\n",
       "// Listen for the removal of the full notebook cells\n",
       "var notebookContainer = gd.closest('#notebook-container');\n",
       "if (notebookContainer) {{\n",
       "    x.observe(notebookContainer, {childList: true});\n",
       "}}\n",
       "\n",
       "// Listen for the clearing of the current output cell\n",
       "var outputEl = gd.closest('.output');\n",
       "if (outputEl) {{\n",
       "    x.observe(outputEl, {childList: true});\n",
       "}}\n",
       "\n",
       "                        })                };                });            </script>        </div>"
      ]
     },
     "metadata": {},
     "output_type": "display_data"
    }
   ],
   "source": [
    "from plotly import express\n",
    "express.pie(data_frame=df, names='tag', color='tag')"
   ]
  },
  {
   "cell_type": "markdown",
   "id": "5019c1b0",
   "metadata": {
    "papermill": {
     "duration": 0.003207,
     "end_time": "2024-03-22T13:52:26.782021",
     "exception": false,
     "start_time": "2024-03-22T13:52:26.778814",
     "status": "completed"
    },
    "tags": []
   },
   "source": [
    "We don't have much data but our classes are nearly balanced. Let's use dimension reduction to visualize our data before we build a model."
   ]
  },
  {
   "cell_type": "code",
   "execution_count": 4,
   "id": "780cc253",
   "metadata": {
    "execution": {
     "iopub.execute_input": "2024-03-22T13:52:26.791127Z",
     "iopub.status.busy": "2024-03-22T13:52:26.790736Z",
     "iopub.status.idle": "2024-03-22T13:53:08.240703Z",
     "shell.execute_reply": "2024-03-22T13:53:08.239250Z"
    },
    "papermill": {
     "duration": 41.457431,
     "end_time": "2024-03-22T13:53:08.243045",
     "exception": false,
     "start_time": "2024-03-22T13:52:26.785614",
     "status": "completed"
    },
    "tags": []
   },
   "outputs": [
    {
     "name": "stderr",
     "output_type": "stream",
     "text": [
      "2024-03-22 13:52:47.162449: E external/local_xla/xla/stream_executor/cuda/cuda_dnn.cc:9261] Unable to register cuDNN factory: Attempting to register factory for plugin cuDNN when one has already been registered\n",
      "2024-03-22 13:52:47.162604: E external/local_xla/xla/stream_executor/cuda/cuda_fft.cc:607] Unable to register cuFFT factory: Attempting to register factory for plugin cuFFT when one has already been registered\n",
      "2024-03-22 13:52:47.336790: E external/local_xla/xla/stream_executor/cuda/cuda_blas.cc:1515] Unable to register cuBLAS factory: Attempting to register factory for plugin cuBLAS when one has already been registered\n"
     ]
    },
    {
     "name": "stdout",
     "output_type": "stream",
     "text": [
      "UMAP(low_memory=False, n_epochs=201, n_jobs=1, random_state=2024, verbose=True)\n",
      "Fri Mar 22 13:52:59 2024 Construct fuzzy simplicial set\n",
      "Fri Mar 22 13:52:59 2024 Finding Nearest Neighbors\n",
      "Fri Mar 22 13:53:03 2024 Finished Nearest Neighbor Search\n",
      "Fri Mar 22 13:53:06 2024 Construct embedding\n"
     ]
    },
    {
     "data": {
      "application/vnd.jupyter.widget-view+json": {
       "model_id": "979ebb52727a4991adf1fdb88890bd65",
       "version_major": 2,
       "version_minor": 0
      },
      "text/plain": [
       "Epochs completed:   0%|            0/201 [00:00]"
      ]
     },
     "metadata": {},
     "output_type": "display_data"
    },
    {
     "name": "stdout",
     "output_type": "stream",
     "text": [
      "\tcompleted  0  /  201 epochs\n",
      "\tcompleted  20  /  201 epochs\n",
      "\tcompleted  40  /  201 epochs\n",
      "\tcompleted  60  /  201 epochs\n",
      "\tcompleted  80  /  201 epochs\n",
      "\tcompleted  100  /  201 epochs\n",
      "\tcompleted  120  /  201 epochs\n",
      "\tcompleted  140  /  201 epochs\n",
      "\tcompleted  160  /  201 epochs\n",
      "\tcompleted  180  /  201 epochs\n",
      "\tcompleted  200  /  201 epochs\n",
      "Fri Mar 22 13:53:08 2024 Finished embedding\n",
      "done with UMAP in 0:00:09.215550\n"
     ]
    }
   ],
   "source": [
    "from arrow import now\n",
    "from umap import UMAP\n",
    "\n",
    "time_start = now()\n",
    "umap = UMAP(random_state=2024, verbose=True, n_jobs=1, low_memory=False, n_epochs=201)\n",
    "df[['x', 'y']] = umap.fit_transform(X=df['value'].apply(func=pd.Series))\n",
    "print('done with UMAP in {}'.format(now() - time_start))"
   ]
  }
 ],
 "metadata": {
  "kaggle": {
   "accelerator": "none",
   "dataSources": [
    {
     "datasetId": 4627792,
     "sourceId": 7884021,
     "sourceType": "datasetVersion"
    }
   ],
   "dockerImageVersionId": 30673,
   "isGpuEnabled": false,
   "isInternetEnabled": true,
   "language": "python",
   "sourceType": "notebook"
  },
  "kernelspec": {
   "display_name": "Python 3",
   "language": "python",
   "name": "python3"
  },
  "language_info": {
   "codemirror_mode": {
    "name": "ipython",
    "version": 3
   },
   "file_extension": ".py",
   "mimetype": "text/x-python",
   "name": "python",
   "nbconvert_exporter": "python",
   "pygments_lexer": "ipython3",
   "version": "3.10.13"
  },
  "papermill": {
   "default_parameters": {},
   "duration": 175.304973,
   "end_time": "2024-03-22T13:53:11.547074",
   "environment_variables": {},
   "exception": null,
   "input_path": "__notebook__.ipynb",
   "output_path": "__notebook__.ipynb",
   "parameters": {},
   "start_time": "2024-03-22T13:50:16.242101",
   "version": "2.5.0"
  },
  "widgets": {
   "application/vnd.jupyter.widget-state+json": {
    "state": {
     "4308ab47001d4430a0012c24a4f7b2c9": {
      "model_module": "@jupyter-widgets/base",
      "model_module_version": "1.2.0",
      "model_name": "LayoutModel",
      "state": {
       "_model_module": "@jupyter-widgets/base",
       "_model_module_version": "1.2.0",
       "_model_name": "LayoutModel",
       "_view_count": null,
       "_view_module": "@jupyter-widgets/base",
       "_view_module_version": "1.2.0",
       "_view_name": "LayoutView",
       "align_content": null,
       "align_items": null,
       "align_self": null,
       "border": null,
       "bottom": null,
       "display": null,
       "flex": null,
       "flex_flow": null,
       "grid_area": null,
       "grid_auto_columns": null,
       "grid_auto_flow": null,
       "grid_auto_rows": null,
       "grid_column": null,
       "grid_gap": null,
       "grid_row": null,
       "grid_template_areas": null,
       "grid_template_columns": null,
       "grid_template_rows": null,
       "height": null,
       "justify_content": null,
       "justify_items": null,
       "left": null,
       "margin": null,
       "max_height": null,
       "max_width": null,
       "min_height": null,
       "min_width": null,
       "object_fit": null,
       "object_position": null,
       "order": null,
       "overflow": null,
       "overflow_x": null,
       "overflow_y": null,
       "padding": null,
       "right": null,
       "top": null,
       "visibility": null,
       "width": null
      }
     },
     "4959065563c44dc5a28499e9da2ba2fe": {
      "model_module": "@jupyter-widgets/controls",
      "model_module_version": "1.5.0",
      "model_name": "HTMLModel",
      "state": {
       "_dom_classes": [],
       "_model_module": "@jupyter-widgets/controls",
       "_model_module_version": "1.5.0",
       "_model_name": "HTMLModel",
       "_view_count": null,
       "_view_module": "@jupyter-widgets/controls",
       "_view_module_version": "1.5.0",
       "_view_name": "HTMLView",
       "description": "",
       "description_tooltip": null,
       "layout": "IPY_MODEL_fb6e7d0fb6b74b249066376c15a42e3c",
       "placeholder": "​",
       "style": "IPY_MODEL_7c7b4dc76ae44f8ebaf08080fe05a3de",
       "value": " 201/201 [00:01]"
      }
     },
     "5e8f649dc65b4766a8062026ed286657": {
      "model_module": "@jupyter-widgets/base",
      "model_module_version": "1.2.0",
      "model_name": "LayoutModel",
      "state": {
       "_model_module": "@jupyter-widgets/base",
       "_model_module_version": "1.2.0",
       "_model_name": "LayoutModel",
       "_view_count": null,
       "_view_module": "@jupyter-widgets/base",
       "_view_module_version": "1.2.0",
       "_view_name": "LayoutView",
       "align_content": null,
       "align_items": null,
       "align_self": null,
       "border": null,
       "bottom": null,
       "display": null,
       "flex": null,
       "flex_flow": null,
       "grid_area": null,
       "grid_auto_columns": null,
       "grid_auto_flow": null,
       "grid_auto_rows": null,
       "grid_column": null,
       "grid_gap": null,
       "grid_row": null,
       "grid_template_areas": null,
       "grid_template_columns": null,
       "grid_template_rows": null,
       "height": null,
       "justify_content": null,
       "justify_items": null,
       "left": null,
       "margin": null,
       "max_height": null,
       "max_width": null,
       "min_height": null,
       "min_width": null,
       "object_fit": null,
       "object_position": null,
       "order": null,
       "overflow": null,
       "overflow_x": null,
       "overflow_y": null,
       "padding": null,
       "right": null,
       "top": null,
       "visibility": null,
       "width": null
      }
     },
     "7c7b4dc76ae44f8ebaf08080fe05a3de": {
      "model_module": "@jupyter-widgets/controls",
      "model_module_version": "1.5.0",
      "model_name": "DescriptionStyleModel",
      "state": {
       "_model_module": "@jupyter-widgets/controls",
       "_model_module_version": "1.5.0",
       "_model_name": "DescriptionStyleModel",
       "_view_count": null,
       "_view_module": "@jupyter-widgets/base",
       "_view_module_version": "1.2.0",
       "_view_name": "StyleView",
       "description_width": ""
      }
     },
     "95de7b8003974e3b907d2c28ddbc403e": {
      "model_module": "@jupyter-widgets/controls",
      "model_module_version": "1.5.0",
      "model_name": "ProgressStyleModel",
      "state": {
       "_model_module": "@jupyter-widgets/controls",
       "_model_module_version": "1.5.0",
       "_model_name": "ProgressStyleModel",
       "_view_count": null,
       "_view_module": "@jupyter-widgets/base",
       "_view_module_version": "1.2.0",
       "_view_name": "StyleView",
       "bar_color": null,
       "description_width": ""
      }
     },
     "979ebb52727a4991adf1fdb88890bd65": {
      "model_module": "@jupyter-widgets/controls",
      "model_module_version": "1.5.0",
      "model_name": "HBoxModel",
      "state": {
       "_dom_classes": [],
       "_model_module": "@jupyter-widgets/controls",
       "_model_module_version": "1.5.0",
       "_model_name": "HBoxModel",
       "_view_count": null,
       "_view_module": "@jupyter-widgets/controls",
       "_view_module_version": "1.5.0",
       "_view_name": "HBoxView",
       "box_style": "",
       "children": [
        "IPY_MODEL_aae49720109049f292b459f5b542c3ff",
        "IPY_MODEL_af3a91ac7b07440c9e7dc98d80917c96",
        "IPY_MODEL_4959065563c44dc5a28499e9da2ba2fe"
       ],
       "layout": "IPY_MODEL_4308ab47001d4430a0012c24a4f7b2c9"
      }
     },
     "aa65acc861064f1388a718a53ecd8df6": {
      "model_module": "@jupyter-widgets/controls",
      "model_module_version": "1.5.0",
      "model_name": "DescriptionStyleModel",
      "state": {
       "_model_module": "@jupyter-widgets/controls",
       "_model_module_version": "1.5.0",
       "_model_name": "DescriptionStyleModel",
       "_view_count": null,
       "_view_module": "@jupyter-widgets/base",
       "_view_module_version": "1.2.0",
       "_view_name": "StyleView",
       "description_width": ""
      }
     },
     "aae49720109049f292b459f5b542c3ff": {
      "model_module": "@jupyter-widgets/controls",
      "model_module_version": "1.5.0",
      "model_name": "HTMLModel",
      "state": {
       "_dom_classes": [],
       "_model_module": "@jupyter-widgets/controls",
       "_model_module_version": "1.5.0",
       "_model_name": "HTMLModel",
       "_view_count": null,
       "_view_module": "@jupyter-widgets/controls",
       "_view_module_version": "1.5.0",
       "_view_name": "HTMLView",
       "description": "",
       "description_tooltip": null,
       "layout": "IPY_MODEL_5e8f649dc65b4766a8062026ed286657",
       "placeholder": "​",
       "style": "IPY_MODEL_aa65acc861064f1388a718a53ecd8df6",
       "value": "Epochs completed: 100%| "
      }
     },
     "ae62e8f0f8e4435f8ea5422aa344b094": {
      "model_module": "@jupyter-widgets/base",
      "model_module_version": "1.2.0",
      "model_name": "LayoutModel",
      "state": {
       "_model_module": "@jupyter-widgets/base",
       "_model_module_version": "1.2.0",
       "_model_name": "LayoutModel",
       "_view_count": null,
       "_view_module": "@jupyter-widgets/base",
       "_view_module_version": "1.2.0",
       "_view_name": "LayoutView",
       "align_content": null,
       "align_items": null,
       "align_self": null,
       "border": null,
       "bottom": null,
       "display": null,
       "flex": null,
       "flex_flow": null,
       "grid_area": null,
       "grid_auto_columns": null,
       "grid_auto_flow": null,
       "grid_auto_rows": null,
       "grid_column": null,
       "grid_gap": null,
       "grid_row": null,
       "grid_template_areas": null,
       "grid_template_columns": null,
       "grid_template_rows": null,
       "height": null,
       "justify_content": null,
       "justify_items": null,
       "left": null,
       "margin": null,
       "max_height": null,
       "max_width": null,
       "min_height": null,
       "min_width": null,
       "object_fit": null,
       "object_position": null,
       "order": null,
       "overflow": null,
       "overflow_x": null,
       "overflow_y": null,
       "padding": null,
       "right": null,
       "top": null,
       "visibility": null,
       "width": null
      }
     },
     "af3a91ac7b07440c9e7dc98d80917c96": {
      "model_module": "@jupyter-widgets/controls",
      "model_module_version": "1.5.0",
      "model_name": "FloatProgressModel",
      "state": {
       "_dom_classes": [],
       "_model_module": "@jupyter-widgets/controls",
       "_model_module_version": "1.5.0",
       "_model_name": "FloatProgressModel",
       "_view_count": null,
       "_view_module": "@jupyter-widgets/controls",
       "_view_module_version": "1.5.0",
       "_view_name": "ProgressView",
       "bar_style": "success",
       "description": "",
       "description_tooltip": null,
       "layout": "IPY_MODEL_ae62e8f0f8e4435f8ea5422aa344b094",
       "max": 201.0,
       "min": 0.0,
       "orientation": "horizontal",
       "style": "IPY_MODEL_95de7b8003974e3b907d2c28ddbc403e",
       "value": 201.0
      }
     },
     "fb6e7d0fb6b74b249066376c15a42e3c": {
      "model_module": "@jupyter-widgets/base",
      "model_module_version": "1.2.0",
      "model_name": "LayoutModel",
      "state": {
       "_model_module": "@jupyter-widgets/base",
       "_model_module_version": "1.2.0",
       "_model_name": "LayoutModel",
       "_view_count": null,
       "_view_module": "@jupyter-widgets/base",
       "_view_module_version": "1.2.0",
       "_view_name": "LayoutView",
       "align_content": null,
       "align_items": null,
       "align_self": null,
       "border": null,
       "bottom": null,
       "display": null,
       "flex": null,
       "flex_flow": null,
       "grid_area": null,
       "grid_auto_columns": null,
       "grid_auto_flow": null,
       "grid_auto_rows": null,
       "grid_column": null,
       "grid_gap": null,
       "grid_row": null,
       "grid_template_areas": null,
       "grid_template_columns": null,
       "grid_template_rows": null,
       "height": null,
       "justify_content": null,
       "justify_items": null,
       "left": null,
       "margin": null,
       "max_height": null,
       "max_width": null,
       "min_height": null,
       "min_width": null,
       "object_fit": null,
       "object_position": null,
       "order": null,
       "overflow": null,
       "overflow_x": null,
       "overflow_y": null,
       "padding": null,
       "right": null,
       "top": null,
       "visibility": null,
       "width": null
      }
     }
    },
    "version_major": 2,
    "version_minor": 0
   }
  }
 },
 "nbformat": 4,
 "nbformat_minor": 5
}
