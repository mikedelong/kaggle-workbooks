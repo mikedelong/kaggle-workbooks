{
 "cells": [
  {
   "cell_type": "markdown",
   "metadata": {
    "_cell_guid": "1206abef-f9b7-422d-ba3e-2a86f0755c69",
    "_uuid": "e660f53afc4ad9ea178a50e770086c570254b5ee"
   },
   "source": [
    "**How to Query the USA Census Dataset (BigQuery)**"
   ]
  },
  {
   "cell_type": "code",
   "execution_count": 1,
   "metadata": {
    "_cell_guid": "b1076dfc-b9ad-4769-8c92-a6c4dae69d19",
    "_uuid": "8f2839f25d086af736a60e9eeb907d3b93b6e0e5",
    "execution": {
     "iopub.execute_input": "2023-11-18T17:11:32.219771Z",
     "iopub.status.busy": "2023-11-18T17:11:32.219476Z",
     "iopub.status.idle": "2023-11-18T17:11:32.223341Z",
     "shell.execute_reply": "2023-11-18T17:11:32.222819Z",
     "shell.execute_reply.started": "2023-11-18T17:11:32.219731Z"
    }
   },
   "outputs": [],
   "source": [
    "import bq_helper\n",
    "from bq_helper import BigQueryHelper\n",
    "# https://www.kaggle.com/sohier/introduction-to-the-bq-helper-package\n",
    "census_data = bq_helper.BigQueryHelper(active_project=\"bigquery-public-data\",\n",
    "                                   dataset_name=\"census_bureau_usa\")"
   ]
  },
  {
   "cell_type": "code",
   "execution_count": 2,
   "metadata": {
    "_cell_guid": "7aece89c-653b-4e08-9441-ffdcc73c4989",
    "_uuid": "ff48bda88377e6ddef973738f366dabaee88464e",
    "execution": {
     "iopub.execute_input": "2023-11-18T17:11:32.224188Z",
     "iopub.status.busy": "2023-11-18T17:11:32.224025Z",
     "iopub.status.idle": "2023-11-18T17:11:32.238752Z",
     "shell.execute_reply": "2023-11-18T17:11:32.237427Z",
     "shell.execute_reply.started": "2023-11-18T17:11:32.224160Z"
    }
   },
   "outputs": [],
   "source": [
    "bq_assistant = BigQueryHelper(\"bigquery-public-data\", \"census_bureau_usa\")\n",
    "# this query breaks but fortunately we don't need it to proceed\n",
    "# bq_assistant.list_tables()"
   ]
  },
  {
   "cell_type": "code",
   "execution_count": 3,
   "metadata": {
    "_cell_guid": "bf9d33ff-d444-4a29-8d53-66a56b5d38db",
    "_uuid": "1a6a818dcf49098dc7a9f3289a128e1d65cfca52",
    "execution": {
     "iopub.execute_input": "2023-11-18T17:11:32.240432Z",
     "iopub.status.busy": "2023-11-18T17:11:32.240161Z",
     "iopub.status.idle": "2023-11-18T17:11:33.384125Z",
     "shell.execute_reply": "2023-11-18T17:11:33.383391Z",
     "shell.execute_reply.started": "2023-11-18T17:11:32.240378Z"
    },
    "scrolled": true
   },
   "outputs": [
    {
     "data": {
      "text/html": [
       "<div>\n",
       "<style scoped>\n",
       "    .dataframe tbody tr th:only-of-type {\n",
       "        vertical-align: middle;\n",
       "    }\n",
       "\n",
       "    .dataframe tbody tr th {\n",
       "        vertical-align: top;\n",
       "    }\n",
       "\n",
       "    .dataframe thead th {\n",
       "        text-align: right;\n",
       "    }\n",
       "</style>\n",
       "<table border=\"1\" class=\"dataframe\">\n",
       "  <thead>\n",
       "    <tr style=\"text-align: right;\">\n",
       "      <th></th>\n",
       "      <th>geo_id</th>\n",
       "      <th>zipcode</th>\n",
       "      <th>population</th>\n",
       "      <th>minimum_age</th>\n",
       "      <th>maximum_age</th>\n",
       "      <th>gender</th>\n",
       "    </tr>\n",
       "  </thead>\n",
       "  <tbody>\n",
       "    <tr>\n",
       "      <th>0</th>\n",
       "      <td>8600000US25647</td>\n",
       "      <td>25647</td>\n",
       "      <td>768</td>\n",
       "      <td>None</td>\n",
       "      <td>None</td>\n",
       "      <td>None</td>\n",
       "    </tr>\n",
       "    <tr>\n",
       "      <th>1</th>\n",
       "      <td>8600000US49336</td>\n",
       "      <td>49336</td>\n",
       "      <td>4352</td>\n",
       "      <td>None</td>\n",
       "      <td>None</td>\n",
       "      <td>None</td>\n",
       "    </tr>\n",
       "    <tr>\n",
       "      <th>2</th>\n",
       "      <td>8600000US72106</td>\n",
       "      <td>72106</td>\n",
       "      <td>5376</td>\n",
       "      <td>None</td>\n",
       "      <td>None</td>\n",
       "      <td>None</td>\n",
       "    </tr>\n",
       "  </tbody>\n",
       "</table>\n",
       "</div>"
      ],
      "text/plain": [
       "           geo_id zipcode  population minimum_age maximum_age gender\n",
       "0  8600000US25647   25647         768        None        None   None\n",
       "1  8600000US49336   49336        4352        None        None   None\n",
       "2  8600000US72106   72106        5376        None        None   None"
      ]
     },
     "execution_count": 3,
     "metadata": {},
     "output_type": "execute_result"
    }
   ],
   "source": [
    "bq_assistant.head(\"population_by_zip_2010\", num_rows=3)"
   ]
  },
  {
   "cell_type": "code",
   "execution_count": 4,
   "metadata": {
    "_cell_guid": "85280595-945d-4e57-9095-0bcde36f06aa",
    "_uuid": "a24291522f4e546b62e9383ae00f77d9ce6368de",
    "execution": {
     "iopub.execute_input": "2023-11-18T17:11:33.385687Z",
     "iopub.status.busy": "2023-11-18T17:11:33.385414Z",
     "iopub.status.idle": "2023-11-18T17:11:33.408910Z",
     "shell.execute_reply": "2023-11-18T17:11:33.407953Z",
     "shell.execute_reply.started": "2023-11-18T17:11:33.385642Z"
    }
   },
   "outputs": [
    {
     "data": {
      "text/html": [
       "<div>\n",
       "<style scoped>\n",
       "    .dataframe tbody tr th:only-of-type {\n",
       "        vertical-align: middle;\n",
       "    }\n",
       "\n",
       "    .dataframe tbody tr th {\n",
       "        vertical-align: top;\n",
       "    }\n",
       "\n",
       "    .dataframe thead th {\n",
       "        text-align: right;\n",
       "    }\n",
       "</style>\n",
       "<table border=\"1\" class=\"dataframe\">\n",
       "  <thead>\n",
       "    <tr style=\"text-align: right;\">\n",
       "      <th></th>\n",
       "      <th>name</th>\n",
       "      <th>type</th>\n",
       "      <th>mode</th>\n",
       "      <th>description</th>\n",
       "    </tr>\n",
       "  </thead>\n",
       "  <tbody>\n",
       "    <tr>\n",
       "      <th>0</th>\n",
       "      <td>geo_id</td>\n",
       "      <td>STRING</td>\n",
       "      <td>NULLABLE</td>\n",
       "      <td>Geo code</td>\n",
       "    </tr>\n",
       "    <tr>\n",
       "      <th>1</th>\n",
       "      <td>zipcode</td>\n",
       "      <td>STRING</td>\n",
       "      <td>REQUIRED</td>\n",
       "      <td>Five digit ZIP Code Tabulation Area Census Code</td>\n",
       "    </tr>\n",
       "    <tr>\n",
       "      <th>2</th>\n",
       "      <td>population</td>\n",
       "      <td>INTEGER</td>\n",
       "      <td>NULLABLE</td>\n",
       "      <td>The total count of the population for this seg...</td>\n",
       "    </tr>\n",
       "    <tr>\n",
       "      <th>3</th>\n",
       "      <td>minimum_age</td>\n",
       "      <td>INTEGER</td>\n",
       "      <td>NULLABLE</td>\n",
       "      <td>The minimum age in the age range. If null, thi...</td>\n",
       "    </tr>\n",
       "    <tr>\n",
       "      <th>4</th>\n",
       "      <td>maximum_age</td>\n",
       "      <td>INTEGER</td>\n",
       "      <td>NULLABLE</td>\n",
       "      <td>The maximum age in the age range. If null, thi...</td>\n",
       "    </tr>\n",
       "    <tr>\n",
       "      <th>5</th>\n",
       "      <td>gender</td>\n",
       "      <td>STRING</td>\n",
       "      <td>NULLABLE</td>\n",
       "      <td>male or female. If empty, the row is a total p...</td>\n",
       "    </tr>\n",
       "  </tbody>\n",
       "</table>\n",
       "</div>"
      ],
      "text/plain": [
       "          name                        ...                                                                description\n",
       "0       geo_id                        ...                                                                   Geo code\n",
       "1      zipcode                        ...                            Five digit ZIP Code Tabulation Area Census Code\n",
       "2   population                        ...                          The total count of the population for this seg...\n",
       "3  minimum_age                        ...                          The minimum age in the age range. If null, thi...\n",
       "4  maximum_age                        ...                          The maximum age in the age range. If null, thi...\n",
       "5       gender                        ...                          male or female. If empty, the row is a total p...\n",
       "\n",
       "[6 rows x 4 columns]"
      ]
     },
     "execution_count": 4,
     "metadata": {},
     "output_type": "execute_result"
    }
   ],
   "source": [
    "bq_assistant.table_schema(\"population_by_zip_2010\")"
   ]
  },
  {
   "cell_type": "markdown",
   "metadata": {
    "_cell_guid": "e032d0b8-3c6d-4173-8385-8d95148543d5",
    "_uuid": "4d1459635075242a3e7fe04379ed8fb56c224b8b"
   },
   "source": [
    "What are the ten most populous zip codes in the US in the 2010 census?"
   ]
  },
  {
   "cell_type": "code",
   "execution_count": 5,
   "metadata": {
    "_cell_guid": "84c756af-c239-45f1-939b-0387febe4d3f",
    "_uuid": "a91c85c1a9ddc073a82c8666a246198d005b12de",
    "execution": {
     "iopub.execute_input": "2023-11-18T17:11:33.410131Z",
     "iopub.status.busy": "2023-11-18T17:11:33.409847Z",
     "iopub.status.idle": "2023-11-18T17:11:35.620599Z",
     "shell.execute_reply": "2023-11-18T17:11:35.619639Z",
     "shell.execute_reply.started": "2023-11-18T17:11:33.410070Z"
    }
   },
   "outputs": [
    {
     "data": {
      "text/html": [
       "<div>\n",
       "<style scoped>\n",
       "    .dataframe tbody tr th:only-of-type {\n",
       "        vertical-align: middle;\n",
       "    }\n",
       "\n",
       "    .dataframe tbody tr th {\n",
       "        vertical-align: top;\n",
       "    }\n",
       "\n",
       "    .dataframe thead th {\n",
       "        text-align: right;\n",
       "    }\n",
       "</style>\n",
       "<table border=\"1\" class=\"dataframe\">\n",
       "  <thead>\n",
       "    <tr style=\"text-align: right;\">\n",
       "      <th></th>\n",
       "      <th>zipcode</th>\n",
       "      <th>population</th>\n",
       "    </tr>\n",
       "  </thead>\n",
       "  <tbody>\n",
       "  </tbody>\n",
       "</table>\n",
       "</div>"
      ],
      "text/plain": [
       "Empty DataFrame\n",
       "Columns: [zipcode, population]\n",
       "Index: []"
      ]
     },
     "execution_count": 5,
     "metadata": {},
     "output_type": "execute_result"
    }
   ],
   "source": [
    "query1 = \"\"\"SELECT\n",
    "  zipcode,\n",
    "  population\n",
    "FROM\n",
    "  `bigquery-public-data.census_bureau_usa.population_by_zip_2010`\n",
    "WHERE\n",
    "  gender = ''\n",
    "ORDER BY\n",
    "  population DESC\n",
    "LIMIT\n",
    "  10\n",
    "        \"\"\"\n",
    "response1 = census_data.query_to_pandas_safe(query1)\n",
    "response1.head(10)"
   ]
  },
  {
   "cell_type": "markdown",
   "metadata": {
    "_cell_guid": "f3c90ffd-44ab-4147-b7e8-8de6d7dd3479",
    "_uuid": "6fc7410c1b1260765b2f359b986e2c682ffab217"
   },
   "source": [
    "What are the top 10 zip codes that experienced the greatest change in population between the 2000 and 2010 censuses?"
   ]
  },
  {
   "cell_type": "code",
   "execution_count": 6,
   "metadata": {
    "_cell_guid": "74caef87-1593-413d-89c9-988fb58e5c4b",
    "_uuid": "bdfb39018567730c9ab81a6e6fbc56a63de1a944",
    "execution": {
     "iopub.execute_input": "2023-11-18T17:11:35.622285Z",
     "iopub.status.busy": "2023-11-18T17:11:35.621826Z",
     "iopub.status.idle": "2023-11-18T17:11:37.832961Z",
     "shell.execute_reply": "2023-11-18T17:11:37.831920Z",
     "shell.execute_reply.started": "2023-11-18T17:11:35.622122Z"
    }
   },
   "outputs": [
    {
     "data": {
      "text/html": [
       "<div>\n",
       "<style scoped>\n",
       "    .dataframe tbody tr th:only-of-type {\n",
       "        vertical-align: middle;\n",
       "    }\n",
       "\n",
       "    .dataframe tbody tr th {\n",
       "        vertical-align: top;\n",
       "    }\n",
       "\n",
       "    .dataframe thead th {\n",
       "        text-align: right;\n",
       "    }\n",
       "</style>\n",
       "<table border=\"1\" class=\"dataframe\">\n",
       "  <thead>\n",
       "    <tr style=\"text-align: right;\">\n",
       "      <th></th>\n",
       "      <th>zipcode</th>\n",
       "      <th>pop_2000</th>\n",
       "      <th>pop_2010</th>\n",
       "      <th>pop_chg</th>\n",
       "      <th>pop_pct_chg</th>\n",
       "    </tr>\n",
       "  </thead>\n",
       "  <tbody>\n",
       "  </tbody>\n",
       "</table>\n",
       "</div>"
      ],
      "text/plain": [
       "Empty DataFrame\n",
       "Columns: [zipcode, pop_2000, pop_2010, pop_chg, pop_pct_chg]\n",
       "Index: []"
      ]
     },
     "execution_count": 6,
     "metadata": {},
     "output_type": "execute_result"
    }
   ],
   "source": [
    "query2 = \"\"\"SELECT\n",
    "  zipcode,\n",
    "  pop_2000,\n",
    "  pop_2010,\n",
    "  pop_chg,\n",
    "  pop_pct_chg\n",
    "FROM (\n",
    "  SELECT\n",
    "    r1.zipcode AS zipcode,\n",
    "    r2.population AS pop_2000,\n",
    "    r1.population AS pop_2010,\n",
    "    r1.population - r2.population AS pop_chg,\n",
    "    ROUND((r1.population - r2.population)/NULLIF(r2.population,0) * 100, 2) AS pop_pct_chg,\n",
    "    ABS((r1.population - r2.population)/NULLIF(r2.population,0)) AS abs_pct_chg\n",
    "  FROM\n",
    "    `bigquery-public-data.census_bureau_usa.population_by_zip_2010` AS r1\n",
    "  INNER JOIN\n",
    "    `bigquery-public-data.census_bureau_usa.population_by_zip_2000` AS r2\n",
    "  ON\n",
    "    r1.zipcode = r2.zipcode WHERE --following criteria selects total population without breaking down by age/gender\n",
    "    r1.minimum_age IS NULL\n",
    "    AND r2.minimum_age IS NULL\n",
    "    AND r1.maximum_age IS NULL\n",
    "    AND r2.maximum_age IS NULL\n",
    "    AND r1.gender = ''\n",
    "    AND r2.gender = '' )\n",
    "ORDER BY\n",
    "  abs_pct_chg DESC\n",
    "LIMIT\n",
    "  10\n",
    "        \"\"\"\n",
    "response2 = census_data.query_to_pandas_safe(query2)\n",
    "response2.head(10)"
   ]
  },
  {
   "cell_type": "markdown",
   "metadata": {
    "_cell_guid": "b9489c5c-27d0-44b5-89e5-50ad3dae3512",
    "_uuid": "5036d81bf1545cb5d0a2be06d646a0fb65685687"
   },
   "source": [
    "![https://cloud.google.com/bigquery/images/census-population-map.png](https://cloud.google.com/bigquery/images/census-population-map.png)\n",
    "https://cloud.google.com/bigquery/images/census-population-map.png"
   ]
  },
  {
   "cell_type": "markdown",
   "metadata": {
    "_cell_guid": "4754c923-6b80-4c75-b1b7-ccea0fc528b8",
    "_uuid": "17e2ee869c96104b0205c5c22f77b8933fe89dfd"
   },
   "source": [
    "Credit: Many functions are adapted from https://cloud.google.com/bigquery/public-data/us-census"
   ]
  }
 ],
 "metadata": {
  "kaggle": {
   "accelerator": "none",
   "dataSources": [
    {
     "datasetId": 22069,
     "sourceId": 28353,
     "sourceType": "datasetVersion"
    }
   ],
   "dockerImageVersionId": 8561,
   "isGpuEnabled": false,
   "isInternetEnabled": false,
   "language": "python",
   "sourceType": "notebook"
  },
  "kernelspec": {
   "display_name": "Python 3",
   "language": "python",
   "name": "python3"
  },
  "language_info": {
   "codemirror_mode": {
    "name": "ipython",
    "version": 3
   },
   "file_extension": ".py",
   "mimetype": "text/x-python",
   "name": "python",
   "nbconvert_exporter": "python",
   "pygments_lexer": "ipython3",
   "version": "3.6.6"
  }
 },
 "nbformat": 4,
 "nbformat_minor": 4
}
