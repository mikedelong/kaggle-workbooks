{
 "cells": [
  {
   "cell_type": "code",
   "execution_count": 1,
   "id": "a0d8a113",
   "metadata": {
    "_cell_guid": "b1076dfc-b9ad-4769-8c92-a6c4dae69d19",
    "_uuid": "8f2839f25d086af736a60e9eeb907d3b93b6e0e5",
    "execution": {
     "iopub.execute_input": "2025-02-02T11:45:31.765652Z",
     "iopub.status.busy": "2025-02-02T11:45:31.765138Z",
     "iopub.status.idle": "2025-02-02T11:45:32.739119Z",
     "shell.execute_reply": "2025-02-02T11:45:32.737976Z"
    },
    "papermill": {
     "duration": 0.981356,
     "end_time": "2025-02-02T11:45:32.740986",
     "exception": false,
     "start_time": "2025-02-02T11:45:31.759630",
     "status": "completed"
    },
    "tags": []
   },
   "outputs": [
    {
     "data": {
      "text/html": [
       "<div>\n",
       "<style scoped>\n",
       "    .dataframe tbody tr th:only-of-type {\n",
       "        vertical-align: middle;\n",
       "    }\n",
       "\n",
       "    .dataframe tbody tr th {\n",
       "        vertical-align: top;\n",
       "    }\n",
       "\n",
       "    .dataframe thead th {\n",
       "        text-align: right;\n",
       "    }\n",
       "</style>\n",
       "<table border=\"1\" class=\"dataframe\">\n",
       "  <thead>\n",
       "    <tr style=\"text-align: right;\">\n",
       "      <th></th>\n",
       "      <th>Model</th>\n",
       "      <th>Üretim Yılı</th>\n",
       "      <th>Motor Sayısı</th>\n",
       "      <th>Motor Türü</th>\n",
       "      <th>Kapasite</th>\n",
       "      <th>Menzil (km)</th>\n",
       "      <th>Yakıt Tüketimi (L/saat)</th>\n",
       "      <th>Saatlik Bakım Maliyeti ($)</th>\n",
       "      <th>Yaş</th>\n",
       "      <th>Satış Bölgesi</th>\n",
       "      <th>Fiyat ($)</th>\n",
       "    </tr>\n",
       "  </thead>\n",
       "  <tbody>\n",
       "    <tr>\n",
       "      <th>0</th>\n",
       "      <td>Bombardier CRJ200</td>\n",
       "      <td>1987</td>\n",
       "      <td>2</td>\n",
       "      <td>Turbofan</td>\n",
       "      <td>50</td>\n",
       "      <td>3000</td>\n",
       "      <td>14.36</td>\n",
       "      <td>2185.43</td>\n",
       "      <td>36</td>\n",
       "      <td>Asya</td>\n",
       "      <td>1.285708e+07</td>\n",
       "    </tr>\n",
       "    <tr>\n",
       "      <th>1</th>\n",
       "      <td>Bombardier CRJ200</td>\n",
       "      <td>1997</td>\n",
       "      <td>2</td>\n",
       "      <td>Turbofan</td>\n",
       "      <td>50</td>\n",
       "      <td>3000</td>\n",
       "      <td>4.03</td>\n",
       "      <td>1202.08</td>\n",
       "      <td>26</td>\n",
       "      <td>Avrupa</td>\n",
       "      <td>1.391406e+07</td>\n",
       "    </tr>\n",
       "    <tr>\n",
       "      <th>2</th>\n",
       "      <td>Airbus A320</td>\n",
       "      <td>1988</td>\n",
       "      <td>2</td>\n",
       "      <td>Turbofan</td>\n",
       "      <td>180</td>\n",
       "      <td>6300</td>\n",
       "      <td>13.26</td>\n",
       "      <td>761.38</td>\n",
       "      <td>35</td>\n",
       "      <td>Avustralya</td>\n",
       "      <td>9.073570e+07</td>\n",
       "    </tr>\n",
       "    <tr>\n",
       "      <th>3</th>\n",
       "      <td>Boeing 737</td>\n",
       "      <td>2023</td>\n",
       "      <td>2</td>\n",
       "      <td>Turbofan</td>\n",
       "      <td>162</td>\n",
       "      <td>5700</td>\n",
       "      <td>14.61</td>\n",
       "      <td>592.63</td>\n",
       "      <td>0</td>\n",
       "      <td>Avustralya</td>\n",
       "      <td>1.366597e+08</td>\n",
       "    </tr>\n",
       "    <tr>\n",
       "      <th>4</th>\n",
       "      <td>Cessna 172</td>\n",
       "      <td>1985</td>\n",
       "      <td>1</td>\n",
       "      <td>Piston</td>\n",
       "      <td>4</td>\n",
       "      <td>1285</td>\n",
       "      <td>18.49</td>\n",
       "      <td>4245.99</td>\n",
       "      <td>38</td>\n",
       "      <td>Güney Amerika</td>\n",
       "      <td>2.037981e+05</td>\n",
       "    </tr>\n",
       "  </tbody>\n",
       "</table>\n",
       "</div>"
      ],
      "text/plain": [
       "               Model  Üretim Yılı  Motor Sayısı Motor Türü  Kapasite  \\\n",
       "0  Bombardier CRJ200         1987             2   Turbofan        50   \n",
       "1  Bombardier CRJ200         1997             2   Turbofan        50   \n",
       "2        Airbus A320         1988             2   Turbofan       180   \n",
       "3         Boeing 737         2023             2   Turbofan       162   \n",
       "4         Cessna 172         1985             1     Piston         4   \n",
       "\n",
       "   Menzil (km)  Yakıt Tüketimi (L/saat)  Saatlik Bakım Maliyeti ($)  Yaş  \\\n",
       "0         3000                    14.36                     2185.43   36   \n",
       "1         3000                     4.03                     1202.08   26   \n",
       "2         6300                    13.26                      761.38   35   \n",
       "3         5700                    14.61                      592.63    0   \n",
       "4         1285                    18.49                     4245.99   38   \n",
       "\n",
       "   Satış Bölgesi     Fiyat ($)  \n",
       "0           Asya  1.285708e+07  \n",
       "1         Avrupa  1.391406e+07  \n",
       "2     Avustralya  9.073570e+07  \n",
       "3     Avustralya  1.366597e+08  \n",
       "4  Güney Amerika  2.037981e+05  "
      ]
     },
     "execution_count": 1,
     "metadata": {},
     "output_type": "execute_result"
    }
   ],
   "source": [
    "import pandas as pd\n",
    "\n",
    "DATA = '/kaggle/input/airplane-price-dataset/airplane_price_dataset.csv'\n",
    "df = pd.read_csv(filepath_or_buffer=DATA)\n",
    "df.head()"
   ]
  },
  {
   "cell_type": "code",
   "execution_count": 2,
   "id": "b8e62ce5",
   "metadata": {
    "execution": {
     "iopub.execute_input": "2025-02-02T11:45:32.749826Z",
     "iopub.status.busy": "2025-02-02T11:45:32.749406Z",
     "iopub.status.idle": "2025-02-02T11:45:32.775866Z",
     "shell.execute_reply": "2025-02-02T11:45:32.774543Z"
    },
    "papermill": {
     "duration": 0.032999,
     "end_time": "2025-02-02T11:45:32.778084",
     "exception": false,
     "start_time": "2025-02-02T11:45:32.745085",
     "status": "completed"
    },
    "tags": []
   },
   "outputs": [
    {
     "name": "stdout",
     "output_type": "stream",
     "text": [
      "<class 'pandas.core.frame.DataFrame'>\n",
      "RangeIndex: 12377 entries, 0 to 12376\n",
      "Data columns (total 11 columns):\n",
      " #   Column                      Non-Null Count  Dtype  \n",
      "---  ------                      --------------  -----  \n",
      " 0   Model                       12377 non-null  object \n",
      " 1   Üretim Yılı                 12377 non-null  int64  \n",
      " 2   Motor Sayısı                12377 non-null  int64  \n",
      " 3   Motor Türü                  12377 non-null  object \n",
      " 4   Kapasite                    12377 non-null  int64  \n",
      " 5   Menzil (km)                 12377 non-null  int64  \n",
      " 6   Yakıt Tüketimi (L/saat)     12377 non-null  float64\n",
      " 7   Saatlik Bakım Maliyeti ($)  12377 non-null  float64\n",
      " 8   Yaş                         12377 non-null  int64  \n",
      " 9   Satış Bölgesi               12377 non-null  object \n",
      " 10  Fiyat ($)                   12377 non-null  float64\n",
      "dtypes: float64(3), int64(5), object(3)\n",
      "memory usage: 1.0+ MB\n"
     ]
    }
   ],
   "source": [
    "df.info()"
   ]
  },
  {
   "cell_type": "markdown",
   "id": "e6715b02",
   "metadata": {
    "papermill": {
     "duration": 0.003562,
     "end_time": "2025-02-02T11:45:32.785758",
     "exception": false,
     "start_time": "2025-02-02T11:45:32.782196",
     "status": "completed"
    },
    "tags": []
   },
   "source": [
    "We have a mix of numeric and non-numeric features; let's see what we can do with just the numeric values."
   ]
  },
  {
   "cell_type": "markdown",
   "id": "f88ceaf0",
   "metadata": {
    "papermill": {
     "duration": 0.003416,
     "end_time": "2025-02-02T11:45:32.792887",
     "exception": false,
     "start_time": "2025-02-02T11:45:32.789471",
     "status": "completed"
    },
    "tags": []
   },
   "source": [
    "First let's make an exploratory cluster plot using dimensionality reduction; we'll use TSNE to reduce our input numeric variables to two dimensions to make a scatter plot; then we'll color using the target variable. "
   ]
  },
  {
   "cell_type": "code",
   "execution_count": 3,
   "id": "23991de2",
   "metadata": {
    "execution": {
     "iopub.execute_input": "2025-02-02T11:45:32.801506Z",
     "iopub.status.busy": "2025-02-02T11:45:32.801167Z",
     "iopub.status.idle": "2025-02-02T11:46:31.026986Z",
     "shell.execute_reply": "2025-02-02T11:46:31.026044Z"
    },
    "papermill": {
     "duration": 58.232572,
     "end_time": "2025-02-02T11:46:31.029143",
     "exception": false,
     "start_time": "2025-02-02T11:45:32.796571",
     "status": "completed"
    },
    "tags": []
   },
   "outputs": [],
   "source": [
    "from sklearn.manifold import TSNE\n",
    "\n",
    "RANDOM_STATE = 2025\n",
    "SOURCE = ['Üretim Yılı', 'Motor Sayısı',  'Kapasite',\n",
    "       'Menzil (km)', 'Yakıt Tüketimi (L/saat)', 'Saatlik Bakım Maliyeti ($)',\n",
    "       'Yaş',]\n",
    "TARGET = 'Fiyat ($)'\n",
    "\n",
    "\n",
    "reducer = TSNE(random_state=RANDOM_STATE)\n",
    "reduced_df = pd.DataFrame(columns=['x', 'y'], data=reducer.fit_transform(X=df[SOURCE]))\n",
    "reduced_df[TARGET] = df[TARGET].tolist()"
   ]
  },
  {
   "cell_type": "code",
   "execution_count": 4,
   "id": "60e0af0e",
   "metadata": {
    "execution": {
     "iopub.execute_input": "2025-02-02T11:46:31.039313Z",
     "iopub.status.busy": "2025-02-02T11:46:31.038749Z",
     "iopub.status.idle": "2025-02-02T11:46:34.177988Z",
     "shell.execute_reply": "2025-02-02T11:46:34.176861Z"
    },
    "papermill": {
     "duration": 3.146165,
     "end_time": "2025-02-02T11:46:34.179936",
     "exception": false,
     "start_time": "2025-02-02T11:46:31.033771",
     "status": "completed"
    },
    "tags": []
   },
   "outputs": [
    {
     "data": {
      "text/html": [
       "        <script type=\"text/javascript\">\n",
       "        window.PlotlyConfig = {MathJaxConfig: 'local'};\n",
       "        if (window.MathJax && window.MathJax.Hub && window.MathJax.Hub.Config) {window.MathJax.Hub.Config({SVG: {font: \"STIX-Web\"}});}\n",
       "        if (typeof require !== 'undefined') {\n",
       "        require.undef(\"plotly\");\n",
       "        requirejs.config({\n",
       "            paths: {\n",
       "                'plotly': ['https://cdn.plot.ly/plotly-2.35.2.min']\n",
       "            }\n",
       "        });\n",
       "        require(['plotly'], function(Plotly) {\n",
       "            window._Plotly = Plotly;\n",
       "        });\n",
       "        }\n",
       "        </script>\n",
       "        "
      ]
     },
     "metadata": {},
     "output_type": "display_data"
    },
    {
     "data": {
      "text/html": [
       "<iframe\n",
       "    scrolling=\"no\"\n",
       "    width=\"100%\"\n",
       "    height=\"545px\"\n",
       "    src=\"iframe_figures/figure_4.html\"\n",
       "    frameborder=\"0\"\n",
       "    allowfullscreen\n",
       "></iframe>\n"
      ]
     },
     "metadata": {},
     "output_type": "display_data"
    }
   ],
   "source": [
    "from plotly import express\n",
    "from plotly.offline import init_notebook_mode\n",
    "\n",
    "init_notebook_mode(connected=True)\n",
    "express.scatter(data_frame=reduced_df, x='x', y='y', color=TARGET).show(renderer='iframe_connected')"
   ]
  },
  {
   "cell_type": "markdown",
   "id": "6de31306",
   "metadata": {
    "papermill": {
     "duration": 0.0038,
     "end_time": "2025-02-02T11:46:34.188169",
     "exception": false,
     "start_time": "2025-02-02T11:46:34.184369",
     "status": "completed"
    },
    "tags": []
   },
   "source": [
    "What do we see? We see that the higher prices and lower prices cluster; it isn't entirely clear that it can distinguish higher prices from the highest prices. Let's build a regression model and see."
   ]
  },
  {
   "cell_type": "code",
   "execution_count": 5,
   "id": "e639ff29",
   "metadata": {
    "execution": {
     "iopub.execute_input": "2025-02-02T11:46:34.197872Z",
     "iopub.status.busy": "2025-02-02T11:46:34.197414Z",
     "iopub.status.idle": "2025-02-02T11:46:34.263250Z",
     "shell.execute_reply": "2025-02-02T11:46:34.262152Z"
    },
    "papermill": {
     "duration": 0.072955,
     "end_time": "2025-02-02T11:46:34.265330",
     "exception": false,
     "start_time": "2025-02-02T11:46:34.192375",
     "status": "completed"
    },
    "tags": []
   },
   "outputs": [],
   "source": [
    "from sklearn.model_selection import train_test_split\n",
    "from sklearn.tree import DecisionTreeRegressor\n",
    "\n",
    "X_train, X_test, y_train, y_test = train_test_split(df[SOURCE], df[TARGET], test_size=0.2, random_state=RANDOM_STATE, shuffle=True, )\n",
    "tree = DecisionTreeRegressor(random_state=RANDOM_STATE)\n",
    "tree.fit(X=X_train, y=y_train)\n",
    "y_pred = tree.predict(X=X_test)"
   ]
  },
  {
   "cell_type": "markdown",
   "id": "d0b3da18",
   "metadata": {
    "papermill": {
     "duration": 0.00577,
     "end_time": "2025-02-02T11:46:34.275619",
     "exception": false,
     "start_time": "2025-02-02T11:46:34.269849",
     "status": "completed"
    },
    "tags": []
   },
   "source": [
    "We have our predictions. Let's make a DataFrame from our results and plot the predicted values against the true values and color by the error, in particular so we can see if the errors are symmetrically distributed or not."
   ]
  },
  {
   "cell_type": "code",
   "execution_count": 6,
   "id": "a1dccba0",
   "metadata": {
    "execution": {
     "iopub.execute_input": "2025-02-02T11:46:34.285466Z",
     "iopub.status.busy": "2025-02-02T11:46:34.285059Z",
     "iopub.status.idle": "2025-02-02T11:46:34.342678Z",
     "shell.execute_reply": "2025-02-02T11:46:34.341575Z"
    },
    "papermill": {
     "duration": 0.064454,
     "end_time": "2025-02-02T11:46:34.344419",
     "exception": false,
     "start_time": "2025-02-02T11:46:34.279965",
     "status": "completed"
    },
    "tags": []
   },
   "outputs": [
    {
     "data": {
      "text/html": [
       "<iframe\n",
       "    scrolling=\"no\"\n",
       "    width=\"100%\"\n",
       "    height=\"545px\"\n",
       "    src=\"iframe_figures/figure_6.html\"\n",
       "    frameborder=\"0\"\n",
       "    allowfullscreen\n",
       "></iframe>\n"
      ]
     },
     "metadata": {},
     "output_type": "display_data"
    }
   ],
   "source": [
    "import numpy as np\n",
    "\n",
    "result_df = pd.DataFrame(data={'expected': y_test, 'actual': y_pred})\n",
    "result_df['error'] = np.abs(result_df['expected'] - result_df['actual'])/result_df['expected']\n",
    "express.scatter(data_frame=result_df, x='expected', y='actual', color='error').show(renderer='iframe_connected')"
   ]
  },
  {
   "cell_type": "markdown",
   "id": "4be8ae6f",
   "metadata": {
    "papermill": {
     "duration": 0.003945,
     "end_time": "2025-02-02T11:46:34.352813",
     "exception": false,
     "start_time": "2025-02-02T11:46:34.348868",
     "status": "completed"
    },
    "tags": []
   },
   "source": [
    "Let's take another look with a log plot."
   ]
  },
  {
   "cell_type": "code",
   "execution_count": 7,
   "id": "16ae06fa",
   "metadata": {
    "execution": {
     "iopub.execute_input": "2025-02-02T11:46:34.362748Z",
     "iopub.status.busy": "2025-02-02T11:46:34.362280Z",
     "iopub.status.idle": "2025-02-02T11:46:34.423035Z",
     "shell.execute_reply": "2025-02-02T11:46:34.421972Z"
    },
    "papermill": {
     "duration": 0.067906,
     "end_time": "2025-02-02T11:46:34.424900",
     "exception": false,
     "start_time": "2025-02-02T11:46:34.356994",
     "status": "completed"
    },
    "tags": []
   },
   "outputs": [
    {
     "data": {
      "text/html": [
       "<iframe\n",
       "    scrolling=\"no\"\n",
       "    width=\"100%\"\n",
       "    height=\"545px\"\n",
       "    src=\"iframe_figures/figure_7.html\"\n",
       "    frameborder=\"0\"\n",
       "    allowfullscreen\n",
       "></iframe>\n"
      ]
     },
     "metadata": {},
     "output_type": "display_data"
    }
   ],
   "source": [
    "express.scatter(data_frame=result_df, x='expected', y='actual', color='error', log_x=True, log_y=True).show(renderer='iframe_connected')"
   ]
  },
  {
   "cell_type": "markdown",
   "id": "57f4f425",
   "metadata": {
    "papermill": {
     "duration": 0.004026,
     "end_time": "2025-02-02T11:46:34.433486",
     "exception": false,
     "start_time": "2025-02-02T11:46:34.429460",
     "status": "completed"
    },
    "tags": []
   },
   "source": [
    "Interestingly, when we make a log plot we can clearly see that our prices fall into four apparent clusters, which is not something that was apparent in our data."
   ]
  },
  {
   "cell_type": "code",
   "execution_count": 8,
   "id": "2ab7c755",
   "metadata": {
    "execution": {
     "iopub.execute_input": "2025-02-02T11:46:34.443440Z",
     "iopub.status.busy": "2025-02-02T11:46:34.443031Z",
     "iopub.status.idle": "2025-02-02T11:46:34.526814Z",
     "shell.execute_reply": "2025-02-02T11:46:34.525589Z"
    },
    "papermill": {
     "duration": 0.090836,
     "end_time": "2025-02-02T11:46:34.528738",
     "exception": false,
     "start_time": "2025-02-02T11:46:34.437902",
     "status": "completed"
    },
    "tags": []
   },
   "outputs": [
    {
     "data": {
      "text/html": [
       "<iframe\n",
       "    scrolling=\"no\"\n",
       "    width=\"100%\"\n",
       "    height=\"545px\"\n",
       "    src=\"iframe_figures/figure_8.html\"\n",
       "    frameborder=\"0\"\n",
       "    allowfullscreen\n",
       "></iframe>\n"
      ]
     },
     "metadata": {},
     "output_type": "display_data"
    }
   ],
   "source": [
    "express.histogram(data_frame=df, x=TARGET).show(renderer='iframe_connected')"
   ]
  },
  {
   "cell_type": "markdown",
   "id": "76edbc9a",
   "metadata": {
    "papermill": {
     "duration": 0.004098,
     "end_time": "2025-02-02T11:46:34.537189",
     "exception": false,
     "start_time": "2025-02-02T11:46:34.533091",
     "status": "completed"
    },
    "tags": []
   },
   "source": [
    "Let's take a look at our metrics."
   ]
  },
  {
   "cell_type": "code",
   "execution_count": 9,
   "id": "40b0438d",
   "metadata": {
    "execution": {
     "iopub.execute_input": "2025-02-02T11:46:34.547826Z",
     "iopub.status.busy": "2025-02-02T11:46:34.547406Z",
     "iopub.status.idle": "2025-02-02T11:46:34.558651Z",
     "shell.execute_reply": "2025-02-02T11:46:34.557666Z"
    },
    "papermill": {
     "duration": 0.018847,
     "end_time": "2025-02-02T11:46:34.560391",
     "exception": false,
     "start_time": "2025-02-02T11:46:34.541544",
     "status": "completed"
    },
    "tags": []
   },
   "outputs": [
    {
     "name": "stdout",
     "output_type": "stream",
     "text": [
      "MSE: 1706154546202183\n",
      "RMSE: 41305623\n",
      "MAE: 22045595\n",
      "R-squared: 0.9678\n"
     ]
    }
   ],
   "source": [
    "from sklearn.metrics import mean_squared_error, mean_absolute_error, r2_score\n",
    "from sklearn.model_selection import train_test_split\n",
    "from sklearn.linear_model import LinearRegression\n",
    "\n",
    "mse = mean_squared_error(y_test, y_pred)\n",
    "rmse = mean_squared_error(y_test, y_pred, squared=False)\n",
    "mae = mean_absolute_error(y_test, y_pred)\n",
    "r2 = r2_score(y_test, y_pred)\n",
    "\n",
    "print('MSE:', int(mse))\n",
    "print('RMSE:', int(rmse))\n",
    "print('MAE:', int(mae))\n",
    "print('R-squared: {:5.4f}'.format(r2))"
   ]
  }
 ],
 "metadata": {
  "kaggle": {
   "accelerator": "none",
   "dataSources": [
    {
     "datasetId": 6564083,
     "sourceId": 10604084,
     "sourceType": "datasetVersion"
    }
   ],
   "dockerImageVersionId": 30839,
   "isGpuEnabled": false,
   "isInternetEnabled": true,
   "language": "python",
   "sourceType": "notebook"
  },
  "kernelspec": {
   "display_name": "Python 3",
   "language": "python",
   "name": "python3"
  },
  "language_info": {
   "codemirror_mode": {
    "name": "ipython",
    "version": 3
   },
   "file_extension": ".py",
   "mimetype": "text/x-python",
   "name": "python",
   "nbconvert_exporter": "python",
   "pygments_lexer": "ipython3",
   "version": "3.10.12"
  },
  "papermill": {
   "default_parameters": {},
   "duration": 66.890693,
   "end_time": "2025-02-02T11:46:35.387856",
   "environment_variables": {},
   "exception": null,
   "input_path": "__notebook__.ipynb",
   "output_path": "__notebook__.ipynb",
   "parameters": {},
   "start_time": "2025-02-02T11:45:28.497163",
   "version": "2.6.0"
  }
 },
 "nbformat": 4,
 "nbformat_minor": 5
}
