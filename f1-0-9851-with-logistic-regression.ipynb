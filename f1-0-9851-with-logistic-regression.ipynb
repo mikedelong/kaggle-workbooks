{
 "cells": [
  {
   "cell_type": "markdown",
   "id": "6d22cacb",
   "metadata": {
    "papermill": {
     "duration": 0.007677,
     "end_time": "2024-09-16T18:57:57.281788",
     "exception": false,
     "start_time": "2024-09-16T18:57:57.274111",
     "status": "completed"
    },
    "tags": []
   },
   "source": [
    "Let's load up our data; fortunately our missing data is semantically zero, so we can fill in NaNs with zeros."
   ]
  },
  {
   "cell_type": "code",
   "execution_count": 1,
   "id": "69ed6eda",
   "metadata": {
    "_cell_guid": "b1076dfc-b9ad-4769-8c92-a6c4dae69d19",
    "_uuid": "8f2839f25d086af736a60e9eeb907d3b93b6e0e5",
    "execution": {
     "iopub.execute_input": "2024-09-16T18:57:57.298982Z",
     "iopub.status.busy": "2024-09-16T18:57:57.297809Z",
     "iopub.status.idle": "2024-09-16T18:57:57.859384Z",
     "shell.execute_reply": "2024-09-16T18:57:57.858329Z"
    },
    "papermill": {
     "duration": 0.572708,
     "end_time": "2024-09-16T18:57:57.862037",
     "exception": false,
     "start_time": "2024-09-16T18:57:57.289329",
     "status": "completed"
    },
    "tags": []
   },
   "outputs": [
    {
     "data": {
      "text/html": [
       "<div>\n",
       "<style scoped>\n",
       "    .dataframe tbody tr th:only-of-type {\n",
       "        vertical-align: middle;\n",
       "    }\n",
       "\n",
       "    .dataframe tbody tr th {\n",
       "        vertical-align: top;\n",
       "    }\n",
       "\n",
       "    .dataframe thead th {\n",
       "        text-align: right;\n",
       "    }\n",
       "</style>\n",
       "<table border=\"1\" class=\"dataframe\">\n",
       "  <thead>\n",
       "    <tr style=\"text-align: right;\">\n",
       "      <th></th>\n",
       "      <th>pokemon_name</th>\n",
       "      <th>base_attack</th>\n",
       "      <th>base_defense</th>\n",
       "      <th>base_stamina</th>\n",
       "      <th>type</th>\n",
       "      <th>rarity</th>\n",
       "      <th>charged_moves</th>\n",
       "      <th>fast_moves</th>\n",
       "      <th>candy_required</th>\n",
       "      <th>distance</th>\n",
       "      <th>...</th>\n",
       "      <th>base_flee_rate</th>\n",
       "      <th>dodge_probability</th>\n",
       "      <th>max_pokemon_action_frequency</th>\n",
       "      <th>min_pokemon_action_frequency</th>\n",
       "      <th>found_egg</th>\n",
       "      <th>found_evolution</th>\n",
       "      <th>found_wild</th>\n",
       "      <th>found_research</th>\n",
       "      <th>found_raid</th>\n",
       "      <th>found_photobomb</th>\n",
       "    </tr>\n",
       "    <tr>\n",
       "      <th>pokemon_id</th>\n",
       "      <th></th>\n",
       "      <th></th>\n",
       "      <th></th>\n",
       "      <th></th>\n",
       "      <th></th>\n",
       "      <th></th>\n",
       "      <th></th>\n",
       "      <th></th>\n",
       "      <th></th>\n",
       "      <th></th>\n",
       "      <th></th>\n",
       "      <th></th>\n",
       "      <th></th>\n",
       "      <th></th>\n",
       "      <th></th>\n",
       "      <th></th>\n",
       "      <th></th>\n",
       "      <th></th>\n",
       "      <th></th>\n",
       "      <th></th>\n",
       "      <th></th>\n",
       "    </tr>\n",
       "  </thead>\n",
       "  <tbody>\n",
       "    <tr>\n",
       "      <th>1</th>\n",
       "      <td>Bulbasaur</td>\n",
       "      <td>118</td>\n",
       "      <td>111</td>\n",
       "      <td>128</td>\n",
       "      <td>['Grass', 'Poison']</td>\n",
       "      <td>Standard</td>\n",
       "      <td>['Sludge Bomb', 'Seed Bomb', 'Power Whip']</td>\n",
       "      <td>['Vine Whip', 'Tackle']</td>\n",
       "      <td>0.0</td>\n",
       "      <td>3</td>\n",
       "      <td>...</td>\n",
       "      <td>-1.0</td>\n",
       "      <td>0.15</td>\n",
       "      <td>1.6</td>\n",
       "      <td>0.2</td>\n",
       "      <td>True</td>\n",
       "      <td>False</td>\n",
       "      <td>True</td>\n",
       "      <td>True</td>\n",
       "      <td>True</td>\n",
       "      <td>True</td>\n",
       "    </tr>\n",
       "    <tr>\n",
       "      <th>2</th>\n",
       "      <td>Ivysaur</td>\n",
       "      <td>151</td>\n",
       "      <td>143</td>\n",
       "      <td>155</td>\n",
       "      <td>['Grass', 'Poison']</td>\n",
       "      <td>Standard</td>\n",
       "      <td>['Sludge Bomb', 'Solar Beam', 'Power Whip']</td>\n",
       "      <td>['Razor Leaf', 'Vine Whip']</td>\n",
       "      <td>25.0</td>\n",
       "      <td>3</td>\n",
       "      <td>...</td>\n",
       "      <td>-1.0</td>\n",
       "      <td>0.15</td>\n",
       "      <td>1.6</td>\n",
       "      <td>0.2</td>\n",
       "      <td>False</td>\n",
       "      <td>True</td>\n",
       "      <td>True</td>\n",
       "      <td>True</td>\n",
       "      <td>True</td>\n",
       "      <td>True</td>\n",
       "    </tr>\n",
       "    <tr>\n",
       "      <th>3</th>\n",
       "      <td>Venusaur</td>\n",
       "      <td>198</td>\n",
       "      <td>189</td>\n",
       "      <td>190</td>\n",
       "      <td>['Grass', 'Poison']</td>\n",
       "      <td>Standard</td>\n",
       "      <td>['Sludge Bomb', 'Petal Blizzard', 'Solar Beam']</td>\n",
       "      <td>['Razor Leaf', 'Vine Whip']</td>\n",
       "      <td>100.0</td>\n",
       "      <td>3</td>\n",
       "      <td>...</td>\n",
       "      <td>-1.0</td>\n",
       "      <td>0.15</td>\n",
       "      <td>1.6</td>\n",
       "      <td>0.2</td>\n",
       "      <td>False</td>\n",
       "      <td>True</td>\n",
       "      <td>True</td>\n",
       "      <td>True</td>\n",
       "      <td>True</td>\n",
       "      <td>True</td>\n",
       "    </tr>\n",
       "    <tr>\n",
       "      <th>4</th>\n",
       "      <td>Charmander</td>\n",
       "      <td>116</td>\n",
       "      <td>93</td>\n",
       "      <td>118</td>\n",
       "      <td>['Fire']</td>\n",
       "      <td>Standard</td>\n",
       "      <td>['Flame Charge', 'Flame Burst', 'Flamethrower']</td>\n",
       "      <td>['Ember', 'Scratch']</td>\n",
       "      <td>0.0</td>\n",
       "      <td>3</td>\n",
       "      <td>...</td>\n",
       "      <td>-1.0</td>\n",
       "      <td>0.15</td>\n",
       "      <td>1.6</td>\n",
       "      <td>0.2</td>\n",
       "      <td>True</td>\n",
       "      <td>False</td>\n",
       "      <td>True</td>\n",
       "      <td>True</td>\n",
       "      <td>True</td>\n",
       "      <td>True</td>\n",
       "    </tr>\n",
       "    <tr>\n",
       "      <th>5</th>\n",
       "      <td>Charmeleon</td>\n",
       "      <td>158</td>\n",
       "      <td>126</td>\n",
       "      <td>151</td>\n",
       "      <td>['Fire']</td>\n",
       "      <td>Standard</td>\n",
       "      <td>['Fire Punch', 'Flame Burst', 'Flamethrower']</td>\n",
       "      <td>['Ember', 'Fire Fang']</td>\n",
       "      <td>25.0</td>\n",
       "      <td>3</td>\n",
       "      <td>...</td>\n",
       "      <td>-1.0</td>\n",
       "      <td>0.15</td>\n",
       "      <td>1.6</td>\n",
       "      <td>0.2</td>\n",
       "      <td>False</td>\n",
       "      <td>True</td>\n",
       "      <td>True</td>\n",
       "      <td>True</td>\n",
       "      <td>True</td>\n",
       "      <td>True</td>\n",
       "    </tr>\n",
       "  </tbody>\n",
       "</table>\n",
       "<p>5 rows × 23 columns</p>\n",
       "</div>"
      ],
      "text/plain": [
       "           pokemon_name  base_attack  base_defense  base_stamina  \\\n",
       "pokemon_id                                                         \n",
       "1             Bulbasaur          118           111           128   \n",
       "2               Ivysaur          151           143           155   \n",
       "3              Venusaur          198           189           190   \n",
       "4            Charmander          116            93           118   \n",
       "5            Charmeleon          158           126           151   \n",
       "\n",
       "                           type    rarity  \\\n",
       "pokemon_id                                  \n",
       "1           ['Grass', 'Poison']  Standard   \n",
       "2           ['Grass', 'Poison']  Standard   \n",
       "3           ['Grass', 'Poison']  Standard   \n",
       "4                      ['Fire']  Standard   \n",
       "5                      ['Fire']  Standard   \n",
       "\n",
       "                                              charged_moves  \\\n",
       "pokemon_id                                                    \n",
       "1                ['Sludge Bomb', 'Seed Bomb', 'Power Whip']   \n",
       "2               ['Sludge Bomb', 'Solar Beam', 'Power Whip']   \n",
       "3           ['Sludge Bomb', 'Petal Blizzard', 'Solar Beam']   \n",
       "4           ['Flame Charge', 'Flame Burst', 'Flamethrower']   \n",
       "5             ['Fire Punch', 'Flame Burst', 'Flamethrower']   \n",
       "\n",
       "                             fast_moves  candy_required  distance  ...  \\\n",
       "pokemon_id                                                         ...   \n",
       "1               ['Vine Whip', 'Tackle']             0.0         3  ...   \n",
       "2           ['Razor Leaf', 'Vine Whip']            25.0         3  ...   \n",
       "3           ['Razor Leaf', 'Vine Whip']           100.0         3  ...   \n",
       "4                  ['Ember', 'Scratch']             0.0         3  ...   \n",
       "5                ['Ember', 'Fire Fang']            25.0         3  ...   \n",
       "\n",
       "            base_flee_rate  dodge_probability  max_pokemon_action_frequency  \\\n",
       "pokemon_id                                                                    \n",
       "1                     -1.0               0.15                           1.6   \n",
       "2                     -1.0               0.15                           1.6   \n",
       "3                     -1.0               0.15                           1.6   \n",
       "4                     -1.0               0.15                           1.6   \n",
       "5                     -1.0               0.15                           1.6   \n",
       "\n",
       "            min_pokemon_action_frequency  found_egg  found_evolution  \\\n",
       "pokemon_id                                                             \n",
       "1                                    0.2       True            False   \n",
       "2                                    0.2      False             True   \n",
       "3                                    0.2      False             True   \n",
       "4                                    0.2       True            False   \n",
       "5                                    0.2      False             True   \n",
       "\n",
       "            found_wild found_research found_raid found_photobomb  \n",
       "pokemon_id                                                        \n",
       "1                 True           True       True            True  \n",
       "2                 True           True       True            True  \n",
       "3                 True           True       True            True  \n",
       "4                 True           True       True            True  \n",
       "5                 True           True       True            True  \n",
       "\n",
       "[5 rows x 23 columns]"
      ]
     },
     "execution_count": 1,
     "metadata": {},
     "output_type": "execute_result"
    }
   ],
   "source": [
    "import pandas as pd\n",
    "\n",
    "DATA = '/kaggle/input/pokemon-go/pokemon.csv'\n",
    "\n",
    "df = pd.read_csv(filepath_or_buffer=DATA, index_col=['pokemon_id']).fillna(value=0)\n",
    "df.head()"
   ]
  },
  {
   "cell_type": "markdown",
   "id": "86ac64d0",
   "metadata": {
    "papermill": {
     "duration": 0.004595,
     "end_time": "2024-09-16T18:57:57.872176",
     "exception": false,
     "start_time": "2024-09-16T18:57:57.867581",
     "status": "completed"
    },
    "tags": []
   },
   "source": [
    "Ideally we would visualize base attack/defense/stamina in three dimensions, but we don't have a good way to do that in a Python notebook, so let's use dimension reduction and two dimensions."
   ]
  },
  {
   "cell_type": "code",
   "execution_count": 2,
   "id": "0b321416",
   "metadata": {
    "execution": {
     "iopub.execute_input": "2024-09-16T18:57:57.884527Z",
     "iopub.status.busy": "2024-09-16T18:57:57.883382Z",
     "iopub.status.idle": "2024-09-16T18:58:47.182389Z",
     "shell.execute_reply": "2024-09-16T18:58:47.181117Z"
    },
    "papermill": {
     "duration": 49.311808,
     "end_time": "2024-09-16T18:58:47.188813",
     "exception": false,
     "start_time": "2024-09-16T18:57:57.877005",
     "status": "completed"
    },
    "tags": []
   },
   "outputs": [
    {
     "name": "stdout",
     "output_type": "stream",
     "text": [
      "done with UMAP in 0:00:11.269131\n"
     ]
    }
   ],
   "source": [
    "import arrow\n",
    "from umap import UMAP\n",
    "\n",
    "time_start = arrow.now()\n",
    "umap = UMAP(random_state=2024, verbose=False, n_jobs=1, low_memory=False, n_epochs=201)\n",
    "base_df = df[['pokemon_name', 'base_attack', 'base_defense', 'base_stamina', 'rarity',]].copy()\n",
    "base_df[['x', 'y']] = umap.fit_transform(X=base_df[['base_attack', 'base_defense', 'base_stamina',]])\n",
    "print('done with UMAP in {}'.format(arrow.now() - time_start))"
   ]
  },
  {
   "cell_type": "markdown",
   "id": "7c418736",
   "metadata": {
    "papermill": {
     "duration": 0.005201,
     "end_time": "2024-09-16T18:58:47.199008",
     "exception": false,
     "start_time": "2024-09-16T18:58:47.193807",
     "status": "completed"
    },
    "tags": []
   },
   "source": [
    "Now we can visualize rarity in terms of base attributes,sort of."
   ]
  },
  {
   "cell_type": "code",
   "execution_count": 3,
   "id": "471d1b6e",
   "metadata": {
    "execution": {
     "iopub.execute_input": "2024-09-16T18:58:47.211631Z",
     "iopub.status.busy": "2024-09-16T18:58:47.210430Z",
     "iopub.status.idle": "2024-09-16T18:58:50.368382Z",
     "shell.execute_reply": "2024-09-16T18:58:50.367240Z"
    },
    "papermill": {
     "duration": 3.166879,
     "end_time": "2024-09-16T18:58:50.370917",
     "exception": false,
     "start_time": "2024-09-16T18:58:47.204038",
     "status": "completed"
    },
    "tags": []
   },
   "outputs": [
    {
     "data": {
      "text/html": [
       "        <script type=\"text/javascript\">\n",
       "        window.PlotlyConfig = {MathJaxConfig: 'local'};\n",
       "        if (window.MathJax && window.MathJax.Hub && window.MathJax.Hub.Config) {window.MathJax.Hub.Config({SVG: {font: \"STIX-Web\"}});}\n",
       "        if (typeof require !== 'undefined') {\n",
       "        require.undef(\"plotly\");\n",
       "        requirejs.config({\n",
       "            paths: {\n",
       "                'plotly': ['https://cdn.plot.ly/plotly-2.32.0.min']\n",
       "            }\n",
       "        });\n",
       "        require(['plotly'], function(Plotly) {\n",
       "            window._Plotly = Plotly;\n",
       "        });\n",
       "        }\n",
       "        </script>\n",
       "        "
      ]
     },
     "metadata": {},
     "output_type": "display_data"
    },
    {
     "data": {
      "text/html": [
       "<div>                            <div id=\"c9a3358f-c6d6-4bf6-96dd-29e276576d09\" class=\"plotly-graph-div\" style=\"height:525px; width:100%;\"></div>            <script type=\"text/javascript\">                require([\"plotly\"], function(Plotly) {                    window.PLOTLYENV=window.PLOTLYENV || {};                                    if (document.getElementById(\"c9a3358f-c6d6-4bf6-96dd-29e276576d09\")) {                    Plotly.newPlot(                        \"c9a3358f-c6d6-4bf6-96dd-29e276576d09\",                        [{\"hovertemplate\":\"\\u003cb\\u003e%{hovertext}\\u003c\\u002fb\\u003e\\u003cbr\\u003e\\u003cbr\\u003erarity=Standard\\u003cbr\\u003ex=%{x}\\u003cbr\\u003ey=%{y}\\u003cextra\\u003e\\u003c\\u002fextra\\u003e\",\"hovertext\":[\"Bulbasaur\",\"Ivysaur\",\"Venusaur\",\"Charmander\",\"Charmeleon\",\"Charizard\",\"Squirtle\",\"Wartortle\",\"Blastoise\",\"Caterpie\",\"Metapod\",\"Butterfree\",\"Weedle\",\"Kakuna\",\"Beedrill\",\"Pidgey\",\"Pidgeotto\",\"Pidgeot\",\"Rattata\",\"Raticate\",\"Spearow\",\"Fearow\",\"Ekans\",\"Arbok\",\"Pikachu\",\"Raichu\",\"Sandshrew\",\"Sandslash\",\"Nidoran♀\",\"Nidorina\",\"Nidoqueen\",\"Nidoran♂\",\"Nidorino\",\"Nidoking\",\"Clefairy\",\"Clefable\",\"Vulpix\",\"Ninetales\",\"Jigglypuff\",\"Wigglytuff\",\"Zubat\",\"Golbat\",\"Oddish\",\"Gloom\",\"Vileplume\",\"Paras\",\"Parasect\",\"Venonat\",\"Venomoth\",\"Diglett\",\"Dugtrio\",\"Meowth\",\"Persian\",\"Psyduck\",\"Golduck\",\"Mankey\",\"Primeape\",\"Growlithe\",\"Arcanine\",\"Poliwag\",\"Poliwhirl\",\"Poliwrath\",\"Abra\",\"Kadabra\",\"Alakazam\",\"Machop\",\"Machoke\",\"Machamp\",\"Bellsprout\",\"Weepinbell\",\"Victreebel\",\"Tentacool\",\"Tentacruel\",\"Geodude\",\"Graveler\",\"Golem\",\"Ponyta\",\"Rapidash\",\"Slowpoke\",\"Slowbro\",\"Magnemite\",\"Magneton\",\"Farfetch’d\",\"Doduo\",\"Dodrio\",\"Seel\",\"Dewgong\",\"Grimer\",\"Muk\",\"Shellder\",\"Cloyster\",\"Gastly\",\"Haunter\",\"Gengar\",\"Onix\",\"Drowzee\",\"Hypno\",\"Krabby\",\"Kingler\",\"Voltorb\",\"Electrode\",\"Exeggcute\",\"Exeggutor\",\"Cubone\",\"Marowak\",\"Hitmonlee\",\"Hitmonchan\",\"Lickitung\",\"Koffing\",\"Weezing\",\"Rhyhorn\",\"Rhydon\",\"Chansey\",\"Tangela\",\"Kangaskhan\",\"Horsea\",\"Seadra\",\"Goldeen\",\"Seaking\",\"Staryu\",\"Starmie\",\"Mr. Mime\",\"Scyther\",\"Jynx\",\"Electabuzz\",\"Magmar\",\"Pinsir\",\"Tauros\",\"Magikarp\",\"Gyarados\",\"Lapras\",\"Ditto\",\"Eevee\",\"Vaporeon\",\"Jolteon\",\"Flareon\",\"Porygon\",\"Omanyte\",\"Omastar\",\"Kabuto\",\"Kabutops\",\"Aerodactyl\",\"Snorlax\",\"Dratini\",\"Dragonair\",\"Dragonite\",\"Chikorita\",\"Bayleef\",\"Meganium\",\"Cyndaquil\",\"Quilava\",\"Typhlosion\",\"Totodile\",\"Croconaw\",\"Feraligatr\",\"Sentret\",\"Furret\",\"Hoothoot\",\"Noctowl\",\"Ledyba\",\"Ledian\",\"Spinarak\",\"Ariados\",\"Crobat\",\"Chinchou\",\"Lanturn\",\"Pichu\",\"Cleffa\",\"Igglybuff\",\"Togepi\",\"Togetic\",\"Natu\",\"Xatu\",\"Mareep\",\"Flaaffy\",\"Ampharos\",\"Bellossom\",\"Marill\",\"Azumarill\",\"Sudowoodo\",\"Politoed\",\"Hoppip\",\"Skiploom\",\"Jumpluff\",\"Aipom\",\"Sunkern\",\"Sunflora\",\"Yanma\",\"Wooper\",\"Quagsire\",\"Espeon\",\"Umbreon\",\"Murkrow\",\"Slowking\",\"Misdreavus\",\"Unown\",\"Wobbuffet\",\"Girafarig\",\"Pineco\",\"Forretress\",\"Dunsparce\",\"Gligar\",\"Steelix\",\"Snubbull\",\"Granbull\",\"Qwilfish\",\"Scizor\",\"Shuckle\",\"Heracross\",\"Sneasel\",\"Teddiursa\",\"Ursaring\",\"Slugma\",\"Magcargo\",\"Swinub\",\"Piloswine\",\"Corsola\",\"Remoraid\",\"Octillery\",\"Delibird\",\"Mantine\",\"Skarmory\",\"Houndour\",\"Houndoom\",\"Kingdra\",\"Phanpy\",\"Donphan\",\"Porygon2\",\"Stantler\",\"Smeargle\",\"Tyrogue\",\"Hitmontop\",\"Smoochum\",\"Elekid\",\"Magby\",\"Miltank\",\"Blissey\",\"Larvitar\",\"Pupitar\",\"Tyranitar\",\"Treecko\",\"Grovyle\",\"Sceptile\",\"Torchic\",\"Combusken\",\"Blaziken\",\"Mudkip\",\"Marshtomp\",\"Swampert\",\"Poochyena\",\"Mightyena\",\"Zigzagoon\",\"Linoone\",\"Wurmple\",\"Silcoon\",\"Beautifly\",\"Cascoon\",\"Dustox\",\"Lotad\",\"Lombre\",\"Ludicolo\",\"Seedot\",\"Nuzleaf\",\"Shiftry\",\"Taillow\",\"Swellow\",\"Wingull\",\"Pelipper\",\"Ralts\",\"Kirlia\",\"Gardevoir\",\"Surskit\",\"Masquerain\",\"Shroomish\",\"Breloom\",\"Slakoth\",\"Vigoroth\",\"Slaking\",\"Nincada\",\"Ninjask\",\"Shedinja\",\"Whismur\",\"Loudred\",\"Exploud\",\"Makuhita\",\"Hariyama\",\"Azurill\",\"Nosepass\",\"Skitty\",\"Delcatty\",\"Sableye\",\"Mawile\",\"Aron\",\"Lairon\",\"Aggron\",\"Meditite\",\"Medicham\",\"Electrike\",\"Manectric\",\"Plusle\",\"Minun\",\"Volbeat\",\"Illumise\",\"Roselia\",\"Gulpin\",\"Swalot\",\"Carvanha\",\"Sharpedo\",\"Wailmer\",\"Wailord\",\"Numel\",\"Camerupt\",\"Torkoal\",\"Spoink\",\"Grumpig\",\"Spinda\",\"Trapinch\",\"Vibrava\",\"Flygon\",\"Cacnea\",\"Cacturne\",\"Swablu\",\"Altaria\",\"Zangoose\",\"Seviper\",\"Lunatone\",\"Solrock\",\"Barboach\",\"Whiscash\",\"Corphish\",\"Crawdaunt\",\"Baltoy\",\"Claydol\",\"Lileep\",\"Cradily\",\"Anorith\",\"Armaldo\",\"Feebas\",\"Milotic\",\"Castform\",\"Kecleon\",\"Shuppet\",\"Banette\",\"Duskull\",\"Dusclops\",\"Tropius\",\"Chimecho\",\"Absol\",\"Wynaut\",\"Snorunt\",\"Glalie\",\"Spheal\",\"Sealeo\",\"Walrein\",\"Clamperl\",\"Huntail\",\"Gorebyss\",\"Relicanth\",\"Luvdisc\",\"Bagon\",\"Shelgon\",\"Salamence\",\"Beldum\",\"Metang\",\"Metagross\",\"Turtwig\",\"Grotle\",\"Torterra\",\"Chimchar\",\"Monferno\",\"Infernape\",\"Piplup\",\"Prinplup\",\"Empoleon\",\"Starly\",\"Staravia\",\"Staraptor\",\"Bidoof\",\"Bibarel\",\"Kricketot\",\"Kricketune\",\"Shinx\",\"Luxio\",\"Luxray\",\"Budew\",\"Roserade\",\"Cranidos\",\"Rampardos\",\"Shieldon\",\"Bastiodon\",\"Burmy\",\"Wormadam\",\"Mothim\",\"Combee\",\"Vespiquen\",\"Pachirisu\",\"Buizel\",\"Floatzel\",\"Cherubi\",\"Cherrim\",\"Shellos\",\"Gastrodon\",\"Ambipom\",\"Drifloon\",\"Drifblim\",\"Buneary\",\"Lopunny\",\"Mismagius\",\"Honchkrow\",\"Glameow\",\"Purugly\",\"Chingling\",\"Stunky\",\"Skuntank\",\"Bronzor\",\"Bronzong\",\"Bonsly\",\"Mime Jr.\",\"Happiny\",\"Chatot\",\"Spiritomb\",\"Gible\",\"Gabite\",\"Garchomp\",\"Munchlax\",\"Riolu\",\"Lucario\",\"Hippopotas\",\"Hippowdon\",\"Skorupi\",\"Drapion\",\"Croagunk\",\"Toxicroak\",\"Carnivine\",\"Finneon\",\"Lumineon\",\"Mantyke\",\"Snover\",\"Abomasnow\",\"Weavile\",\"Magnezone\",\"Lickilicky\",\"Rhyperior\",\"Tangrowth\",\"Electivire\",\"Magmortar\",\"Togekiss\",\"Yanmega\",\"Leafeon\",\"Glaceon\",\"Gliscor\",\"Mamoswine\",\"Porygon-Z\",\"Gallade\",\"Probopass\",\"Dusknoir\",\"Froslass\",\"Rotom\",\"Snivy\",\"Servine\",\"Serperior\",\"Tepig\",\"Pignite\",\"Emboar\",\"Oshawott\",\"Dewott\",\"Samurott\",\"Patrat\",\"Watchog\",\"Lillipup\",\"Herdier\",\"Stoutland\",\"Purrloin\",\"Liepard\",\"Pansage\",\"Simisage\",\"Pansear\",\"Simisear\",\"Panpour\",\"Simipour\",\"Munna\",\"Musharna\",\"Pidove\",\"Tranquill\",\"Unfezant\",\"Blitzle\",\"Zebstrika\",\"Roggenrola\",\"Boldore\",\"Gigalith\",\"Woobat\",\"Swoobat\",\"Drilbur\",\"Excadrill\",\"Audino\",\"Timburr\",\"Gurdurr\",\"Conkeldurr\",\"Tympole\",\"Palpitoad\",\"Seismitoad\",\"Throh\",\"Sawk\",\"Sewaddle\",\"Swadloon\",\"Leavanny\",\"Venipede\",\"Whirlipede\",\"Scolipede\",\"Cottonee\",\"Whimsicott\",\"Petilil\",\"Lilligant\",\"Basculin\",\"Sandile\",\"Krokorok\",\"Krookodile\",\"Darumaka\",\"Darmanitan\",\"Maractus\",\"Dwebble\",\"Crustle\",\"Scraggy\",\"Scrafty\",\"Sigilyph\",\"Yamask\",\"Cofagrigus\",\"Tirtouga\",\"Carracosta\",\"Archen\",\"Archeops\",\"Trubbish\",\"Garbodor\",\"Zorua\",\"Zoroark\",\"Minccino\",\"Cinccino\",\"Gothita\",\"Gothorita\",\"Gothitelle\",\"Solosis\",\"Duosion\",\"Reuniclus\",\"Ducklett\",\"Swanna\",\"Vanillite\",\"Vanillish\",\"Vanilluxe\",\"Deerling\",\"Sawsbuck\",\"Emolga\",\"Karrablast\",\"Escavalier\",\"Foongus\",\"Amoonguss\",\"Frillish\",\"Jellicent\",\"Alomomola\",\"Joltik\",\"Galvantula\",\"Ferroseed\",\"Ferrothorn\",\"Klink\",\"Klang\",\"Klinklang\",\"Tynamo\",\"Eelektrik\",\"Eelektross\",\"Elgyem\",\"Beheeyem\",\"Litwick\",\"Lampent\",\"Chandelure\",\"Axew\",\"Fraxure\",\"Haxorus\",\"Cubchoo\",\"Beartic\",\"Cryogonal\",\"Shelmet\",\"Accelgor\",\"Stunfisk\",\"Mienfoo\",\"Mienshao\",\"Druddigon\",\"Golett\",\"Golurk\",\"Pawniard\",\"Bisharp\",\"Bouffalant\",\"Rufflet\",\"Braviary\",\"Vullaby\",\"Mandibuzz\",\"Heatmor\",\"Durant\",\"Deino\",\"Zweilous\",\"Hydreigon\",\"Larvesta\",\"Volcarona\",\"Chespin\",\"Quilladin\",\"Chesnaught\",\"Fennekin\",\"Braixen\",\"Delphox\",\"Froakie\",\"Frogadier\",\"Greninja\",\"Bunnelby\",\"Diggersby\",\"Fletchling\",\"Fletchinder\",\"Talonflame\",\"Scatterbug\",\"Spewpa\",\"Vivillon\",\"Litleo\",\"Pyroar\",\"Flabebe\",\"Floette\",\"Florges\",\"Skiddo\",\"Gogoat\",\"Pancham\",\"Pangoro\",\"Furfrou\",\"Espurr\",\"Meowstic\",\"Honedge\",\"Doublade\",\"Aegislash\",\"Spritzee\",\"Aromatisse\",\"Swirlix\",\"Slurpuff\",\"Inkay\",\"Malamar\",\"Binacle\",\"Barbaracle\",\"Skrelp\",\"Dragalge\",\"Clauncher\",\"Clawitzer\",\"Helioptile\",\"Heliolisk\",\"Tyrunt\",\"Tyrantrum\",\"Amaura\",\"Aurorus\",\"Sylveon\",\"Hawlucha\",\"Dedenne\",\"Carbink\",\"Goomy\",\"Sliggoo\",\"Goodra\",\"Klefki\",\"Phantump\",\"Trevenant\",\"Pumpkaboo\",\"Gourgeist\",\"Bergmite\",\"Avalugg\",\"Noibat\",\"Noivern\",\"Rowlet\",\"Dartrix\",\"Decidueye\",\"Litten\",\"Torracat\",\"Incineroar\",\"Popplio\",\"Brionne\",\"Primarina\",\"Pikipek\",\"Trumbeak\",\"Toucannon\",\"Yungoos\",\"Gumshoos\",\"Grubbin\",\"Charjabug\",\"Vikavolt\",\"Crabrawler\",\"Crabominable\",\"Oricorio\",\"Cutiefly\",\"Ribombee\",\"Rockruff\",\"Lycanroc\",\"Wishiwashi\",\"Mareanie\",\"Toxapex\",\"Mudbray\",\"Mudsdale\",\"Dewpider\",\"Araquanid\",\"Fomantis\",\"Lurantis\",\"Morelull\",\"Shiinotic\",\"Salandit\",\"Salazzle\",\"Stufful\",\"Bewear\",\"Bounsweet\",\"Steenee\",\"Tsareena\",\"Comfey\",\"Oranguru\",\"Passimian\",\"Wimpod\",\"Golisopod\",\"Sandygast\",\"Palossand\",\"Pyukumuku\",\"Type: Null\",\"Silvally\",\"Minior\",\"Komala\",\"Turtonator\",\"Togedemaru\",\"Mimikyu\",\"Bruxish\",\"Drampa\",\"Dhelmise\",\"Jangmo-o\",\"Hakamo-o\",\"Kommo-o\",\"Grookey\",\"Thwackey\",\"Rillaboom\",\"Scorbunny\",\"Raboot\",\"Cinderace\",\"Sobble\",\"Drizzile\",\"Inteleon\",\"Skwovet\",\"Greedent\",\"Rookidee\",\"Corvisquire\",\"Corviknight\",\"Blipbug\",\"Dottler\",\"Orbeetle\",\"Nickit\",\"Thievul\",\"Gossifleur\",\"Eldegoss\",\"Wooloo\",\"Dubwool\",\"Chewtle\",\"Drednaw\",\"Yamper\",\"Boltund\",\"Rolycoly\",\"Carkol\",\"Coalossal\",\"Applin\",\"Flapple\",\"Appletun\",\"Silicobra\",\"Sandaconda\",\"Cramorant\",\"Arrokuda\",\"Barraskewda\",\"Toxel\",\"Toxtricity\",\"Sizzlipede\",\"Centiskorch\",\"Clobbopus\",\"Grapploct\",\"Sinistea\",\"Polteageist\",\"Hatenna\",\"Hattrem\",\"Hatterene\",\"Impidimp\",\"Morgrem\",\"Grimmsnarl\",\"Obstagoon\",\"Perrserker\",\"Cursola\",\"Sirfetch’d\",\"Mr. Rime\",\"Runerigus\",\"Milcery\",\"Alcremie\",\"Falinks\",\"Pincurchin\",\"Snom\",\"Frosmoth\",\"Stonjourner\",\"Eiscue\",\"Indeedee\",\"Morpeko\",\"Cufant\",\"Copperajah\",\"Dracozolt\",\"Arctozolt\",\"Dracovish\",\"Arctovish\",\"Duraludon\",\"Dreepy\",\"Drakloak\",\"Dragapult\",\"Wyrdeer\",\"Kleavor\",\"Ursaluna\",\"Sneasler\",\"Overqwil\",\"Sprigatito\",\"Floragato\",\"Meowscarada\",\"Fuecoco\",\"Crocalor\",\"Skeledirge\",\"Quaxly\",\"Quaxwell\",\"Quaquaval\",\"Lechonk\",\"Oinkologne\",\"Tarountula\",\"Spidops\",\"Nymble\",\"Lokix\",\"Pawmi\",\"Pawmo\",\"Pawmot\",\"Tandemaus\",\"Maushold\",\"Fidough\",\"Dachsbun\",\"Smoliv\",\"Dolliv\",\"Arboliva\",\"Squawkabilly\",\"Nacli\",\"Naclstack\",\"Garganacl\",\"Charcadet\",\"Armarouge\",\"Ceruledge\",\"Tadbulb\",\"Bellibolt\",\"Wattrel\",\"Kilowattrel\",\"Maschiff\",\"Mabosstiff\",\"Shroodle\",\"Grafaiai\",\"Bramblin\",\"Brambleghast\",\"Toedscool\",\"Toedscruel\",\"Klawf\",\"Capsakid\",\"Scovillain\",\"Rellor\",\"Rabsca\",\"Flittle\",\"Espathra\",\"Tinkatink\",\"Tinkatuff\",\"Tinkaton\",\"Wiglett\",\"Wugtrio\",\"Bombirdier\",\"Finizen\",\"Palafin\",\"Varoom\",\"Revavroom\",\"Cyclizar\",\"Orthworm\",\"Glimmet\",\"Glimmora\",\"Greavard\",\"Houndstone\",\"Flamigo\",\"Cetoddle\",\"Cetitan\",\"Veluza\",\"Dondozo\",\"Tatsugiri\",\"Annihilape\",\"Clodsire\",\"Farigiraf\",\"Dudunsparce\",\"Kingambit\",\"Great Tusk\",\"Scream Tail\",\"Brute Bonnet\",\"Flutter Mane\",\"Slither Wing\",\"Sandy Shocks\",\"Iron Treads\",\"Iron Bundle\",\"Iron Hands\",\"Iron Jugulis\",\"Iron Moth\",\"Iron Thorns\",\"Frigibax\",\"Arctibax\",\"Baxcalibur\",\"Gimmighoul\",\"Gholdengo\",\"Roaring Moon\",\"Iron Valiant\"],\"legendgroup\":\"Standard\",\"marker\":{\"color\":\"#636efa\",\"symbol\":\"circle\"},\"mode\":\"markers\",\"name\":\"Standard\",\"showlegend\":true,\"x\":[10.650142,4.9330173,1.1492534,11.302522,5.468409,0.8910339,9.15328,6.8183312,1.4258018,11.133557,10.777102,5.069387,11.244394,10.91143,4.9176054,11.632005,9.159014,2.8843637,12.108649,4.038135,12.256423,4.3615713,11.263479,3.9187496,11.20671,2.967673,7.614347,1.3531656,10.30265,8.73979,1.2129527,11.5796175,7.67452,1.9089111,8.966824,1.3332229,9.322224,1.5784421,9.246383,-0.90039814,11.592484,3.4017,10.850808,5.0631776,1.8729951,11.22664,4.670664,9.450493,3.8751972,12.24654,5.549658,11.682041,4.8062196,10.826505,2.071264,12.231838,3.0021315,7.4785333,0.01796235,11.6367855,8.557769,1.0369714,12.27875,3.0226936,0.43101975,7.9262395,4.2093277,0.4233216,12.462919,6.0313873,3.714452,8.367469,1.4979786,7.4780664,3.67054,0.8545587,5.748981,2.579184,8.698547,1.0017902,7.3220787,1.325699,5.869382,12.319846,2.6805372,9.006637,1.5329564,8.2003975,0.035976715,7.6577125,0.43776187,12.298194,3.3552513,0.43539867,0.6795933,8.811899,1.5890442,5.920093,0.87214905,9.487591,3.2525864,8.908014,0.07552846,8.501476,3.568438,1.3282228,1.1171598,2.036914,7.5536017,1.3594004,4.0689607,-0.87919647,-1.0809484,3.0781486,-0.092355125,11.262362,3.3218727,10.764831,3.0872436,11.189444,1.3843533,3.493205,1.1901639,2.330068,2.7742667,2.7564454,0.7439651,1.4655166,11.204476,-1.1765245,-0.5221563,10.670871,9.216532,-0.57775193,0.80435735,0.5956526,4.8861575,7.1628866,0.6087108,7.385062,1.3672094,1.1476151,-0.92409265,11.394891,5.1056814,-1.241747,9.170425,6.8707066,1.5516568,11.420036,5.4695034,0.6353416,10.204751,4.757387,1.037431,11.597134,4.0266585,10.232105,1.4773544,9.412029,7.3199425,11.832624,4.6832724,1.1933997,9.048916,-0.56658685,11.711949,10.504812,9.540262,9.424396,3.7220798,11.893329,3.1516342,10.66691,7.6273313,0.84585893,1.6454462,10.417066,1.8894017,3.019678,1.0698566,11.489448,9.067113,2.325966,7.794483,11.30301,3.878195,7.184808,10.362296,1.6428584,0.47874647,0.6371402,6.1770377,0.96366495,3.902071,12.038405,-1.0452118,4.054578,9.100664,1.6792966,1.8091131,3.4943457,0.39790997,7.7002687,3.8971136,3.2123165,0.67004067,0.5026316,0.3405573,3.3256764,7.4237547,0.37586707,12.222436,3.6218154,10.643175,0.051720116,6.9282794,12.274532,3.3710494,11.812896,0.97580403,0.9094992,12.336512,1.7441915,1.0505224,8.701915,0.8487546,1.1194627,3.8494585,10.669242,11.471147,1.2238201,12.196166,11.818855,12.042473,0.97517514,-1.0742568,10.787134,4.6025844,-1.7003287,11.424676,5.805938,1.160246,11.993977,6.001903,1.7157621,11.053739,4.591341,-0.8646394,11.992656,4.4682617,11.16515,4.1451917,11.358023,10.704445,5.6372795,10.731056,7.117065,11.465494,8.976905,2.3727152,11.366224,7.978809,4.0290475,12.124769,5.4581685,12.180087,3.3358455,11.670374,11.376888,0.4194197,11.390774,3.1273315,9.800896,2.4387252,9.552039,3.5351133,-1.6554562,9.372603,5.439891,12.304245,9.919162,8.222056,-0.037083037,9.674701,-0.86293924,10.774992,7.9160433,10.489047,8.480949,7.127317,5.775666,7.555138,1.8253808,0.10145332,9.579424,6.8695893,12.088446,2.9909754,5.2221327,4.4696174,3.9613726,3.9122217,5.6232257,9.467283,1.5644606,12.53398,3.2967227,-0.79142034,-0.9985056,10.179112,3.6556666,1.8859435,8.70862,1.5503312,8.978145,12.382742,11.920367,1.5797176,12.489851,3.0745344,8.942492,1.9466711,3.0768495,3.8886247,1.5718838,1.5819956,10.601664,-0.1770411,11.942249,2.6538663,9.268007,0.84897107,7.039697,1.6129825,12.1073065,0.9751893,11.186737,-0.40760657,4.5377173,2.7886825,12.4018755,2.9385095,8.340853,0.73200035,1.4179037,2.8544989,2.3499844,9.311905,10.593257,2.950417,9.336177,2.095441,-0.005679509,7.492877,1.5246551,1.405243,0.7361731,9.120965,11.938029,3.5703464,-0.9374212,8.876304,3.8641074,-1.776705,9.294636,3.8621824,-0.69071263,11.416233,6.7387533,1.6820791,9.99702,4.8986173,1.0248345,12.171834,7.439088,1.4199569,10.271039,4.405795,11.000436,6.2509804,12.233743,7.032111,1.1670299,9.319932,0.7241495,5.325327,-0.12835248,8.043079,0.510167,11.07506,3.6562521,5.5456,11.31791,2.1359246,7.2885303,12.328854,3.749991,11.071694,3.386744,9.016513,-0.13044359,3.282518,8.600703,-0.98226756,9.497731,2.174927,1.415846,-0.17413998,11.281368,4.471767,11.100928,9.620424,0.10684775,8.720039,1.2069342,7.594031,7.552103,9.467328,5.275693,1.2941376,10.234082,4.661951,-1.6318706,-0.7241502,12.126098,2.0754604,8.662077,-0.9576902,8.36902,1.1699971,11.543507,3.8319705,3.937157,9.199631,3.7963724,7.8881073,9.232998,1.5211273,0.57786286,0.20417324,0.8269949,-1.6088156,-0.9307736,0.16112831,0.48327968,-0.52493453,0.74636716,0.50958496,0.20558901,0.6990638,-0.31090942,-0.09534329,0.38470086,0.4915402,0.6658288,3.4895248,0.7968799,9.356601,6.899372,1.6246897,9.579499,4.729476,-0.38039762,10.504272,4.700068,0.56936646,11.671551,5.117526,11.297078,4.932855,1.012142,11.734998,5.6092076,10.5425415,3.6014028,10.593372,3.6123888,10.55894,3.6254518,9.037021,-0.318929,10.716455,7.531023,1.5280466,12.232349,3.4570582,9.362457,3.9339328,0.12593186,9.503427,4.8361087,7.3192596,-0.3705528,1.6257544,8.062916,4.0841784,-0.47600153,10.773831,8.48712,-0.09334164,-0.33724785,1.6747693,9.104857,6.9747543,1.8253337,9.7614765,8.102917,1.4708577,9.5203,3.3877575,11.236542,2.3423011,3.8694692,12.38885,7.224263,0.08134033,7.4771776,-0.2959345,3.6623263,7.7631006,1.0019242,7.3623023,1.1079884,1.9573326,8.392274,0.83947176,6.7539964,0.95638436,5.3695173,0.023817051,9.105901,2.487968,12.352064,2.3817613,10.449908,3.7541144,9.311456,4.5036683,1.261755,12.373022,5.3883295,-0.38819805,9.912186,4.0022807,11.227828,6.0683575,0.7810151,9.335524,2.9849362,5.568743,12.13721,0.6684148,9.305372,-0.22200084,7.756949,1.0504205,-0.95640033,10.498103,3.7754052,8.409799,1.1287311,9.094453,3.710522,0.72827893,11.863959,4.9524665,0.955526,7.2214737,1.143969,10.47807,5.8191757,0.35305694,12.079198,3.098303,-0.097087,12.230837,0.08262211,0.48510543,8.819486,3.590107,1.227177,12.068858,2.2626586,1.5781888,9.824563,0.6369387,12.0358,0.90177643,0.7239515,7.449295,-0.36724088,7.2290545,0.73285186,3.9355927,1.3397019,10.719838,4.456735,-1.193648,6.935264,-1.1432897,9.436058,4.281773,-0.8770843,11.206321,5.213273,0.48285052,11.829867,5.9260316,1.8700156,11.371188,2.0778975,11.368268,7.533913,2.9346678,11.30865,10.995044,4.8753457,7.659067,0.86483383,9.21595,6.544387,-0.1470165,9.047359,-0.48867232,7.6042495,0.1394028,2.9611118,8.928376,3.011833,11.220593,11.214251,11.227517,8.803897,0.063569605,8.929406,2.7032368,10.47966,1.5911055,9.141427,0.80444086,9.515466,1.2191005,9.195485,1.1303111,11.724601,1.3464259,5.5402565,0.2297837,8.672377,-0.42135438,-1.0128953,2.475028,4.674392,0.4352786,9.344869,3.129085,-0.3620593,3.4088771,10.920563,1.947951,7.891478,1.2228959,8.8564,-0.4459668,11.57483,1.0668837,9.2088995,4.075904,0.8616247,12.16724,5.8305616,-0.76240396,10.486194,4.650561,0.24068978,12.354426,6.972178,1.4629136,12.282166,4.293658,11.280244,4.1282177,-0.004313474,11.895889,0.028697906,3.1699352,11.721805,3.112531,11.653591,1.9286737,-0.04110872,9.309407,0.5563451,4.611719,-0.82507324,9.482347,0.90063304,12.060828,2.1330044,9.215073,3.844279,12.272928,2.8470323,7.9897943,-0.44901046,11.021796,10.316522,0.5358056,1.2046576,0.931269,-0.2446179,11.433373,-0.100476995,8.956952,1.270839,0.6950694,0.96340257,-0.9261911,2.8359232,1.37304,1.2585529,3.217684,1.2677273,3.0189376,0.98936474,0.69541645,9.379825,4.046825,-0.17272499,10.879518,4.571753,-0.50543314,12.269525,4.882051,0.98755234,12.30295,5.5055246,0.33364293,9.437877,-0.38819447,11.787044,8.581751,0.8901314,11.218015,8.318882,0.81907976,11.593061,3.0764089,9.536975,1.228396,9.659004,1.8592857,11.112916,0.7669748,10.235502,3.7142303,11.356046,2.3839371,0.7674015,9.414257,2.7861588,-0.12064822,9.088053,0.7783681,3.0806608,12.161471,2.2924302,11.976665,1.8539801,10.927271,-0.15392111,10.492294,1.6576128,11.776384,0.5866127,11.182557,5.51119,1.0209836,11.794673,7.51652,0.06651781,0.93393975,2.198386,0.6794305,0.6607791,1.1353315,0.83671373,10.666852,0.7149238,2.267967,3.6134348,11.6391115,1.8072354,-1.0311248,2.0109115,1.3045442,5.472049,7.958247,-0.44045377,1.338648,1.374943,1.0388983,1.0677946,0.5808557,12.24141,6.2105837,-0.71105313,-0.26377422,0.44062492,-1.6006553,-0.08609868,0.8526059,11.265143,5.347956,1.4413216,9.225098,4.032484,-0.92491835,10.472935,4.594339,0.79519814,10.368993,-0.25745654,11.476568,4.0411124,11.724515,3.176596,12.078607,7.3578687,2.0146348,10.621759,3.1816494,8.973246,1.3532788,11.419823,7.220061,0.4581928,4.7580495,9.225623,7.078041,0.66066283,11.78426,-0.018040413,0.38792214,9.8636465,-0.0915539,11.724714,2.9452994,7.679288,0.9402206,12.25206,3.0926056,12.302276,2.561158,8.386411,1.5818889,1.3171792,11.554982,2.9534562,9.434887,1.6705397,12.143052,4.004293,9.328383,6.975888,1.5569218,12.199185,5.5664535,2.0390074,9.518928,-1.4265517,10.822688,0.9277236,3.1065311,1.0762814,5.791443,-0.61561626,9.518622,1.0297002,1.4562125,8.526987,-1.1003972,3.9724517,-0.8361656,1.3109921,-1.1139002,-0.5314874,-0.50473076,-0.46076107,-1.6805255,-1.7272398,0.56579375,-1.572029,-0.07747221,-1.1786108,-1.0310875,-0.6899473,-0.037535448,-1.5538095,-1.0906019,-1.2318788,-1.6454622,7.903683,4.1709313,-0.92074907,12.322566,-1.1180236,-1.5092152,-0.05509985],\"xaxis\":\"x\",\"y\":[3.1169732,2.4705007,3.960551,3.394649,2.8663852,5.63864,1.8213304,1.2634872,0.83026665,6.4946423,6.4571753,2.8388011,6.483256,6.542344,3.2415268,6.0034595,3.7545516,2.699996,5.1470685,2.2106354,4.948247,3.6549225,3.3224666,2.4050732,3.2688508,3.989703,2.100969,0.8333238,5.31971,3.9759836,2.7646232,5.0289373,3.8085213,4.298821,4.35921,3.0524812,1.8526133,0.9243607,4.926398,3.2402966,6.113725,2.6691973,3.1280751,2.5990164,4.1342998,3.236405,2.5288417,4.1843963,3.648155,4.9755287,3.6003091,5.295572,2.733174,3.69673,3.9993079,2.6529324,4.832802,4.2903976,5.1360707,5.1515985,3.7329845,2.5225585,2.5911965,5.576081,7.68454,4.4555616,3.8769472,5.262054,3.5671782,4.1499124,4.894148,1.2003975,0.79276216,2.0813572,1.9663107,4.1480994,3.4060326,4.211749,4.5215344,2.5026665,2.340941,6.7765193,3.5242045,2.7182164,5.6298428,2.4049451,1.8476241,4.4740868,3.2748573,2.0697093,0.1925302,2.5415027,5.476767,7.882202,-0.61305416,2.0740592,1.4053644,3.3565948,7.183259,2.0785496,1.9573152,3.1012883,5.0651326,1.2662592,1.1603061,6.8527045,0.30090952,1.9849688,2.064641,0.48006424,2.746529,4.8823385,3.3669376,2.437848,3.3006377,3.1824303,3.4929698,3.1338797,2.8138258,3.1183183,6.645207,2.170344,5.956158,5.5546093,3.991043,4.1820235,7.155127,3.8524828,7.047833,6.318318,3.454631,4.909244,2.649762,3.6720488,6.9774537,7.4042773,2.654912,2.1617198,0.82850283,2.212063,6.692136,5.4834256,3.6023579,3.4535344,2.8743813,6.8186765,1.802683,1.2709316,0.91408324,3.4503396,2.8844366,7.077496,3.1927524,2.4902153,4.139667,6.334511,2.8418717,5.492392,2.1238418,1.3206491,1.094062,5.191647,3.2227008,3.8306518,4.459027,3.079098,6.266162,5.7323465,5.0233483,1.319765,1.1572831,3.2525215,3.9298005,4.07889,4.0382323,4.548484,1.1147451,6.094038,1.9962984,2.1969523,2.4495623,6.575733,2.3570795,1.4944113,3.788707,6.643932,4.179089,4.2219357,5.506554,2.226867,7.5582037,1.6246848,4.1803555,2.431884,2.3916562,3.2987378,3.2679517,3.9083757,2.415304,0.7777315,2.1468327,1.1983519,-0.23679794,4.4273624,4.9978223,3.7544036,6.959229,-0.63086677,6.2256813,3.598101,4.2649655,5.168321,4.4548826,1.1583022,5.342254,3.3678381,1.2814419,4.425237,4.6021495,3.4300618,-0.17579906,-0.21257879,2.6647294,5.501919,0.9026579,4.6169705,4.3334675,4.053795,4.301228,6.3797717,6.495953,0.18702123,2.596,3.091666,2.6620498,2.1233387,3.3867326,3.8392282,2.8639522,6.1706033,3.3823204,3.4765656,6.079,3.3483899,3.53555,5.5530896,3.5549083,2.9233978,4.7042446,5.4508986,3.383506,6.652715,2.7389452,6.2565637,6.2778263,4.1993256,6.2802973,1.1952341,6.447266,3.2479637,2.4029317,6.466569,4.4573703,4.937609,5.26629,3.9262462,5.2135696,2.0193274,6.2938194,3.4310238,7.0515084,5.221825,4.0930142,4.9644713,5.824639,4.397124,2.7221851,5.352797,1.277062,4.254012,4.8049064,5.006978,4.533079,3.289566,4.7817345,3.4640865,6.5110703,0.9412572,5.4185543,3.7825239,2.065149,2.583646,2.0465915,0.4199859,0.4129845,1.5490232,1.3087299,4.2328463,5.5585,3.0626304,1.5106821,1.2824842,1.3581637,3.633451,4.8777485,2.0648193,2.8670237,5.5754933,3.1361198,3.336183,4.1039157,4.400772,0.7643375,3.5335793,1.2752427,3.4105906,2.6874807,3.2186286,4.266275,2.7418413,5.5470424,1.3100059,0.9420176,5.5846457,4.5074453,3.0366106,3.040774,5.2361717,3.0425167,2.9779143,5.6395226,1.2613024,-0.34498248,1.2804818,1.3768532,2.5788622,5.8599367,7.07181,1.3583872,2.5449853,1.0780925,3.6369882,5.6064873,1.1136506,-0.5366073,2.000577,2.4098861,6.040579,5.0418334,4.819904,2.6167598,4.67425,2.200038,3.3071966,2.1267793,6.5607476,6.675098,1.9160613,1.3090956,3.234688,2.4422228,7.2394867,1.6157479,1.1796447,7.081828,3.4238846,2.7792182,2.3462253,4.2799044,4.057369,5.4576535,3.4829314,2.5655758,4.2069626,5.3161783,4.2685056,5.4163976,5.4227614,3.2968142,6.7539515,4.113244,4.469036,4.171293,5.5148296,1.89291,7.307606,4.4018736,8.114681,1.0152956,-0.5565719,6.661755,1.1479268,4.275105,6.7411895,0.9278357,1.1318582,3.6304932,5.0860696,4.337015,2.6731958,4.499354,3.2166557,4.748555,4.566799,3.3468623,3.504911,0.807001,6.655183,4.9578686,4.324596,3.3934145,3.751786,4.114139,3.3811684,1.2677882,0.012703326,2.037678,2.1207023,5.1495004,4.295871,0.16784963,4.0779014,3.39566,5.9326005,3.1046784,4.1086984,5.663249,3.9298153,4.5458946,1.1863914,0.6335125,4.242633,5.0278053,4.1870213,2.1613276,1.3255388,1.0523124,3.642662,3.063201,7.296615,7.1108513,2.2257137,5.462121,4.625008,7.927881,7.4014864,1.2687247,5.253199,0.7037668,7.130192,0.746121,4.9423165,8.152235,7.0655594,-0.38672796,0.047466353,2.7845542,0.43747893,1.9380544,1.2496074,0.7112975,4.248401,4.2594056,4.6302123,4.0747743,3.4177036,5.0634513,5.259987,2.8256276,4.5296564,2.6728861,4.2209625,5.3294916,4.1708865,4.5598845,4.7840533,4.5078144,4.7657175,4.5108676,4.820579,4.4472213,3.469055,5.1492085,3.8944173,5.482026,4.503257,4.8509173,3.379929,3.367319,6.2623115,4.365158,3.3112047,4.359168,4.8753963,2.0840678,4.46318,3.9669437,5.3239555,5.1711144,4.236556,3.4023776,3.386756,5.52431,1.7956852,1.1807759,4.23433,1.668355,1.075849,6.5460114,1.432788,1.6407932,3.7168202,5.0057855,4.283694,3.5926363,4.2828727,5.0933537,4.3860593,4.938096,4.743678,2.1551118,0.7784441,2.0564654,-0.033096835,4.140814,1.2084074,-0.17680034,1.463198,0.79721546,4.3813124,8.170729,2.122559,2.8145134,2.700613,6.03951,5.0344925,4.598856,2.0481837,1.3737988,0.5937771,2.63021,4.3703423,4.3668313,5.0851426,4.032939,3.2536578,2.4117815,6.2194777,3.7662895,4.5520205,2.863916,3.4818463,6.592456,4.5653358,3.1174588,2.1245227,2.184122,3.2187092,3.9217007,4.576304,1.2322291,-0.07244554,1.751586,1.3307947,0.6282884,5.1238594,2.7988663,5.1318946,4.0626945,5.7274647,4.2549667,3.587844,7.537821,2.6687276,5.494961,8.086914,3.588933,5.064734,0.885507,1.3026748,5.2368894,2.0609815,2.5988069,6.109703,4.424089,4.0567484,5.1181517,2.6722634,6.940655,2.7828677,4.3007946,4.358807,1.3479033,1.8508501,4.9576597,6.7666225,3.8153288,2.9890633,6.6397524,4.023024,6.8490996,3.4246745,1.3680705,1.7878782,3.2645798,3.1151764,6.5927544,3.8200932,3.5397356,5.4798293,6.4513793,1.9450071,5.425693,3.911671,2.705288,6.537938,6.643926,4.274288,3.844036,5.1305137,2.0637403,1.3935918,0.7169724,3.9401033,3.7734187,4.0713983,5.061412,2.4469483,3.4780004,2.457901,7.111851,7.145502,7.1292605,4.333815,3.259164,3.3497288,2.6663485,4.713444,2.9656444,1.823829,0.76637024,2.7734656,0.3710549,2.454265,6.012669,4.33399,6.2663765,2.9421036,6.31841,4.376154,3.6166222,1.6882383,4.3436575,3.0637677,-0.6067875,2.0959415,1.8443782,1.0229259,1.5318252,3.2397823,4.2862964,2.2422268,0.277615,3.0267334,1.1665969,6.1163015,4.25291,4.542457,2.6584496,4.5662065,3.7869034,4.0898213,4.720799,3.302806,2.538267,6.4345546,4.403414,4.088619,5.4103637,4.3911734,4.690347,4.14636,1.2672106,8.086571,2.7982,5.0076556,4.513014,4.844669,3.9728615,4.268992,5.636079,7.3347664,2.34969,-0.5786489,3.4520328,4.7257705,1.3278453,-0.3144804,5.3000445,3.9876504,1.9635164,1.3954799,3.538553,5.6464868,4.4256444,4.2962666,6.618626,5.3200336,6.4380484,0.09152597,2.2422893,4.90241,6.6396856,0.7642886,3.2054603,2.5990012,-0.6290831,2.5228748,1.8665181,5.6198535,6.101689,0.0452822,3.927372,0.26810205,4.768215,5.5591264,6.90521,2.134593,1.242119,0.7223482,3.739769,3.1396322,5.401586,3.6428182,3.2735598,5.575951,3.5114646,4.156194,8.063733,4.654857,3.2732377,5.843284,3.989448,2.1507914,7.021522,1.1591729,-0.21276112,6.0131636,2.4262657,1.4401816,-0.028157331,1.5631499,0.8141243,4.1952953,4.7322025,5.37617,4.498427,6.6846576,1.7170405,1.9845381,1.3236485,5.0055456,3.238764,2.3407934,0.79254544,2.4103515,4.4243565,6.1787214,5.4322658,5.5403047,3.8202488,4.8616867,3.3862848,4.4092383,3.1357558,7.358519,4.9695325,2.7604394,7.113687,5.277658,3.9960136,5.021774,2.427887,3.9987078,7.4600487,7.4001193,4.2080703,-0.18782292,4.749557,0.71424586,3.9618797,2.2248497,6.438403,5.509116,4.89443,0.94711196,0.9022932,4.1351323,4.449632,4.2419834,3.516969,3.28768,2.418435,2.3064024,6.9462605,4.9919114,4.066166,7.4317746,4.3687186,7.5617266,5.278787,8.116796,5.264281,3.266261,2.842468,5.510825,4.2436395,2.9874282,4.688135,4.0185747,3.3497593,5.398792,5.4956074,3.3935,6.419097,1.2085263,6.4254866,4.4861293,5.3199224,4.324422,5.641603,4.8305044,2.53518,1.7309227,0.11614297,5.085578,1.9911001,6.319812,4.304753,2.5362432,1.2073085,1.9386129,5.674159,6.360409,6.754182,4.5497756,3.3030274,5.1299562,5.5564895,3.7613547,5.586684,4.3835087,3.9886792,4.514825,5.7902255,1.2033986,0.8026132,0.9078266,4.1797714,5.577195,1.7303587,4.076167,5.182556,4.9271097,2.0929093,1.2965822,1.2566192,5.115465,3.619604,4.0292926,4.789806,7.2586703,3.2094994,5.498324,4.6814346,-0.12045103,3.7431824,6.6434717,2.7390714,0.7492326,5.429144,4.5157237,3.4670577,4.946833,3.6480012,6.1326413,4.965034,3.1457176,4.0267143,3.653316,6.154082,5.844084,1.7400839,5.46865,7.3261757,6.8207,6.56974,1.3591996,7.385881,4.899601,6.465877,7.4211287,6.252414,4.453359,3.8844626,5.844973,3.3517394,6.638549,7.035477,7.9864225],\"yaxis\":\"y\",\"type\":\"scattergl\"},{\"hovertemplate\":\"\\u003cb\\u003e%{hovertext}\\u003c\\u002fb\\u003e\\u003cbr\\u003e\\u003cbr\\u003erarity=Legendary\\u003cbr\\u003ex=%{x}\\u003cbr\\u003ey=%{y}\\u003cextra\\u003e\\u003c\\u002fextra\\u003e\",\"hovertext\":[\"Articuno\",\"Zapdos\",\"Moltres\",\"Mewtwo\",\"Raikou\",\"Entei\",\"Suicune\",\"Lugia\",\"Ho-Oh\",\"Regirock\",\"Regice\",\"Registeel\",\"Latias\",\"Latios\",\"Kyogre\",\"Groudon\",\"Rayquaza\",\"Uxie\",\"Mesprit\",\"Azelf\",\"Dialga\",\"Palkia\",\"Heatran\",\"Regigigas\",\"Giratina\",\"Cresselia\",\"Cobalion\",\"Terrakion\",\"Virizion\",\"Tornadus\",\"Thundurus\",\"Reshiram\",\"Zekrom\",\"Landorus\",\"Kyurem\",\"Xerneas\",\"Yveltal\",\"Zygarde\",\"Tapu Koko\",\"Tapu Lele\",\"Tapu Bulu\",\"Tapu Fini\",\"Cosmog\",\"Cosmoem\",\"Solgaleo\",\"Lunala\",\"Necrozma\",\"Zacian\",\"Zamazenta\",\"Eternatus\",\"Kubfu\",\"Urshifu\",\"Regieleki\",\"Regidrago\",\"Glastrier\",\"Spectrier\",\"Calyrex\",\"Enamorus\",\"Wo-Chien\",\"Chien-Pao\",\"Ting-Lu\",\"Chi-Yu\",\"Koraidon\",\"Miraidon\"],\"legendgroup\":\"Legendary\",\"marker\":{\"color\":\"#EF553B\",\"symbol\":\"circle\"},\"mode\":\"markers\",\"name\":\"Legendary\",\"showlegend\":true,\"x\":[-1.2540672,-1.1317166,-0.3212504,-0.06554281,-1.1685119,-1.3557793,-0.123015516,-0.09527659,-0.49274358,0.003936303,0.06157046,0.24213764,-0.3189091,-1.5741096,-1.8929383,-1.8414974,-0.9917232,0.27570376,-0.22209133,-0.007231358,-1.6529382,-1.5043993,-1.7153218,-1.5904293,-1.0090517,0.4426822,-0.20541848,-1.2623849,-0.16836366,-0.07410055,-0.08376952,-1.5594467,-1.6760772,-1.0031141,-1.4194511,-1.5914792,-1.605503,-1.0332279,0.43084893,-0.005512413,-0.053388666,0.12055226,11.040982,0.58822054,-1.6374921,-1.6274779,-1.6631348,-1.5727923,-0.25390503,-0.23396401,5.976981,-1.086973,1.9643694,-1.1308293,-1.8345068,-0.1516767,-1.9237952,-0.06815716,-0.10616452,-0.22668704,-0.96275294,-0.028901575,-1.8486651,-1.8346822],\"xaxis\":\"x\",\"y\":[6.520209,6.5229044,1.2021494,0.2766351,6.3505282,5.2526374,1.2471564,0.3374051,1.2048603,0.1625287,0.17148492,-0.09647964,0.79620486,7.412997,7.1742086,7.1162353,7.300424,-0.06569125,1.0825344,8.164701,7.397086,7.4312353,6.7043176,7.3810782,3.545416,1.6554805,1.1729668,6.7837887,1.238886,8.047507,8.093002,7.5207844,7.400566,6.8812976,7.0556965,5.5214276,5.569514,3.652694,7.194003,7.2258377,7.2605534,0.40520036,6.5771236,-0.6172865,5.442886,5.4226766,7.4316998,7.3812337,0.6665552,0.50413966,3.7750328,6.170421,5.78376,3.412826,6.223635,8.067575,7.1214185,8.07128,0.96890104,8.040462,3.632882,7.33452,7.1301637,7.121622],\"yaxis\":\"y\",\"type\":\"scattergl\"},{\"hovertemplate\":\"\\u003cb\\u003e%{hovertext}\\u003c\\u002fb\\u003e\\u003cbr\\u003e\\u003cbr\\u003erarity=Mythic\\u003cbr\\u003ex=%{x}\\u003cbr\\u003ey=%{y}\\u003cextra\\u003e\\u003c\\u002fextra\\u003e\",\"hovertext\":[\"Mew\",\"Celebi\",\"Jirachi\",\"Deoxys\",\"Phione\",\"Manaphy\",\"Darkrai\",\"Shaymin\",\"Arceus\",\"Victini\",\"Keldeo\",\"Meloetta\",\"Genesect\",\"Diancie\",\"Hoopa\",\"Volcanion\",\"Magearna\",\"Marshadow\",\"Zeraora\",\"Meltan\",\"Melmetal\",\"Zarude\"],\"legendgroup\":\"Mythic\",\"marker\":{\"color\":\"#00cc96\",\"symbol\":\"circle\"},\"mode\":\"markers\",\"name\":\"Mythic\",\"showlegend\":true,\"x\":[-1.0859692,-1.0948707,-1.0613729,0.04402084,2.9592452,-1.0739564,-0.35846525,-1.1152214,-1.8041586,-1.0848194,-1.293424,-1.7784146,0.1752518,0.39371046,0.3584524,-1.6802864,-1.7315422,-1.1674392,-0.8613761,10.874901,-1.5456029,-1.7708814],\"xaxis\":\"x\",\"y\":[1.5893227,1.5855273,1.5802929,8.14546,2.6394234,1.601909,7.526618,1.546655,6.1721287,1.5937476,6.869328,6.2732534,7.202528,0.18327227,7.3932185,6.959939,6.997756,6.8814735,6.6516047,3.5470057,5.2431645,6.127363],\"yaxis\":\"y\",\"type\":\"scattergl\"},{\"hovertemplate\":\"\\u003cb\\u003e%{hovertext}\\u003c\\u002fb\\u003e\\u003cbr\\u003e\\u003cbr\\u003erarity=Ultra beast\\u003cbr\\u003ex=%{x}\\u003cbr\\u003ey=%{y}\\u003cextra\\u003e\\u003c\\u002fextra\\u003e\",\"hovertext\":[\"Nihilego\",\"Buzzwole\",\"Pheromosa\",\"Xurkitree\",\"Celesteela\",\"Kartana\",\"Guzzlord\",\"Poipole\",\"Naganadel\",\"Stakataka\",\"Blacephalon\"],\"legendgroup\":\"Ultra beast\",\"marker\":{\"color\":\"#ab63fa\",\"symbol\":\"circle\"},\"mode\":\"markers\",\"name\":\"Ultra beast\",\"showlegend\":true,\"x\":[-1.7139771,-1.2683017,0.032155912,-0.086721554,-0.97277886,0.11100552,-1.1089134,4.8431983,0.04110348,0.16614594,0.15022129],\"xaxis\":\"x\",\"y\":[6.018285,6.322722,8.1313925,8.168432,1.8518493,7.8199224,3.4373949,2.6194122,8.133068,0.27415904,8.009052],\"yaxis\":\"y\",\"type\":\"scattergl\"}],                        {\"template\":{\"data\":{\"histogram2dcontour\":[{\"type\":\"histogram2dcontour\",\"colorbar\":{\"outlinewidth\":0,\"ticks\":\"\"},\"colorscale\":[[0.0,\"#0d0887\"],[0.1111111111111111,\"#46039f\"],[0.2222222222222222,\"#7201a8\"],[0.3333333333333333,\"#9c179e\"],[0.4444444444444444,\"#bd3786\"],[0.5555555555555556,\"#d8576b\"],[0.6666666666666666,\"#ed7953\"],[0.7777777777777778,\"#fb9f3a\"],[0.8888888888888888,\"#fdca26\"],[1.0,\"#f0f921\"]]}],\"choropleth\":[{\"type\":\"choropleth\",\"colorbar\":{\"outlinewidth\":0,\"ticks\":\"\"}}],\"histogram2d\":[{\"type\":\"histogram2d\",\"colorbar\":{\"outlinewidth\":0,\"ticks\":\"\"},\"colorscale\":[[0.0,\"#0d0887\"],[0.1111111111111111,\"#46039f\"],[0.2222222222222222,\"#7201a8\"],[0.3333333333333333,\"#9c179e\"],[0.4444444444444444,\"#bd3786\"],[0.5555555555555556,\"#d8576b\"],[0.6666666666666666,\"#ed7953\"],[0.7777777777777778,\"#fb9f3a\"],[0.8888888888888888,\"#fdca26\"],[1.0,\"#f0f921\"]]}],\"heatmap\":[{\"type\":\"heatmap\",\"colorbar\":{\"outlinewidth\":0,\"ticks\":\"\"},\"colorscale\":[[0.0,\"#0d0887\"],[0.1111111111111111,\"#46039f\"],[0.2222222222222222,\"#7201a8\"],[0.3333333333333333,\"#9c179e\"],[0.4444444444444444,\"#bd3786\"],[0.5555555555555556,\"#d8576b\"],[0.6666666666666666,\"#ed7953\"],[0.7777777777777778,\"#fb9f3a\"],[0.8888888888888888,\"#fdca26\"],[1.0,\"#f0f921\"]]}],\"heatmapgl\":[{\"type\":\"heatmapgl\",\"colorbar\":{\"outlinewidth\":0,\"ticks\":\"\"},\"colorscale\":[[0.0,\"#0d0887\"],[0.1111111111111111,\"#46039f\"],[0.2222222222222222,\"#7201a8\"],[0.3333333333333333,\"#9c179e\"],[0.4444444444444444,\"#bd3786\"],[0.5555555555555556,\"#d8576b\"],[0.6666666666666666,\"#ed7953\"],[0.7777777777777778,\"#fb9f3a\"],[0.8888888888888888,\"#fdca26\"],[1.0,\"#f0f921\"]]}],\"contourcarpet\":[{\"type\":\"contourcarpet\",\"colorbar\":{\"outlinewidth\":0,\"ticks\":\"\"}}],\"contour\":[{\"type\":\"contour\",\"colorbar\":{\"outlinewidth\":0,\"ticks\":\"\"},\"colorscale\":[[0.0,\"#0d0887\"],[0.1111111111111111,\"#46039f\"],[0.2222222222222222,\"#7201a8\"],[0.3333333333333333,\"#9c179e\"],[0.4444444444444444,\"#bd3786\"],[0.5555555555555556,\"#d8576b\"],[0.6666666666666666,\"#ed7953\"],[0.7777777777777778,\"#fb9f3a\"],[0.8888888888888888,\"#fdca26\"],[1.0,\"#f0f921\"]]}],\"surface\":[{\"type\":\"surface\",\"colorbar\":{\"outlinewidth\":0,\"ticks\":\"\"},\"colorscale\":[[0.0,\"#0d0887\"],[0.1111111111111111,\"#46039f\"],[0.2222222222222222,\"#7201a8\"],[0.3333333333333333,\"#9c179e\"],[0.4444444444444444,\"#bd3786\"],[0.5555555555555556,\"#d8576b\"],[0.6666666666666666,\"#ed7953\"],[0.7777777777777778,\"#fb9f3a\"],[0.8888888888888888,\"#fdca26\"],[1.0,\"#f0f921\"]]}],\"mesh3d\":[{\"type\":\"mesh3d\",\"colorbar\":{\"outlinewidth\":0,\"ticks\":\"\"}}],\"scatter\":[{\"fillpattern\":{\"fillmode\":\"overlay\",\"size\":10,\"solidity\":0.2},\"type\":\"scatter\"}],\"parcoords\":[{\"type\":\"parcoords\",\"line\":{\"colorbar\":{\"outlinewidth\":0,\"ticks\":\"\"}}}],\"scatterpolargl\":[{\"type\":\"scatterpolargl\",\"marker\":{\"colorbar\":{\"outlinewidth\":0,\"ticks\":\"\"}}}],\"bar\":[{\"error_x\":{\"color\":\"#2a3f5f\"},\"error_y\":{\"color\":\"#2a3f5f\"},\"marker\":{\"line\":{\"color\":\"#E5ECF6\",\"width\":0.5},\"pattern\":{\"fillmode\":\"overlay\",\"size\":10,\"solidity\":0.2}},\"type\":\"bar\"}],\"scattergeo\":[{\"type\":\"scattergeo\",\"marker\":{\"colorbar\":{\"outlinewidth\":0,\"ticks\":\"\"}}}],\"scatterpolar\":[{\"type\":\"scatterpolar\",\"marker\":{\"colorbar\":{\"outlinewidth\":0,\"ticks\":\"\"}}}],\"histogram\":[{\"marker\":{\"pattern\":{\"fillmode\":\"overlay\",\"size\":10,\"solidity\":0.2}},\"type\":\"histogram\"}],\"scattergl\":[{\"type\":\"scattergl\",\"marker\":{\"colorbar\":{\"outlinewidth\":0,\"ticks\":\"\"}}}],\"scatter3d\":[{\"type\":\"scatter3d\",\"line\":{\"colorbar\":{\"outlinewidth\":0,\"ticks\":\"\"}},\"marker\":{\"colorbar\":{\"outlinewidth\":0,\"ticks\":\"\"}}}],\"scattermapbox\":[{\"type\":\"scattermapbox\",\"marker\":{\"colorbar\":{\"outlinewidth\":0,\"ticks\":\"\"}}}],\"scatterternary\":[{\"type\":\"scatterternary\",\"marker\":{\"colorbar\":{\"outlinewidth\":0,\"ticks\":\"\"}}}],\"scattercarpet\":[{\"type\":\"scattercarpet\",\"marker\":{\"colorbar\":{\"outlinewidth\":0,\"ticks\":\"\"}}}],\"carpet\":[{\"aaxis\":{\"endlinecolor\":\"#2a3f5f\",\"gridcolor\":\"white\",\"linecolor\":\"white\",\"minorgridcolor\":\"white\",\"startlinecolor\":\"#2a3f5f\"},\"baxis\":{\"endlinecolor\":\"#2a3f5f\",\"gridcolor\":\"white\",\"linecolor\":\"white\",\"minorgridcolor\":\"white\",\"startlinecolor\":\"#2a3f5f\"},\"type\":\"carpet\"}],\"table\":[{\"cells\":{\"fill\":{\"color\":\"#EBF0F8\"},\"line\":{\"color\":\"white\"}},\"header\":{\"fill\":{\"color\":\"#C8D4E3\"},\"line\":{\"color\":\"white\"}},\"type\":\"table\"}],\"barpolar\":[{\"marker\":{\"line\":{\"color\":\"#E5ECF6\",\"width\":0.5},\"pattern\":{\"fillmode\":\"overlay\",\"size\":10,\"solidity\":0.2}},\"type\":\"barpolar\"}],\"pie\":[{\"automargin\":true,\"type\":\"pie\"}]},\"layout\":{\"autotypenumbers\":\"strict\",\"colorway\":[\"#636efa\",\"#EF553B\",\"#00cc96\",\"#ab63fa\",\"#FFA15A\",\"#19d3f3\",\"#FF6692\",\"#B6E880\",\"#FF97FF\",\"#FECB52\"],\"font\":{\"color\":\"#2a3f5f\"},\"hovermode\":\"closest\",\"hoverlabel\":{\"align\":\"left\"},\"paper_bgcolor\":\"white\",\"plot_bgcolor\":\"#E5ECF6\",\"polar\":{\"bgcolor\":\"#E5ECF6\",\"angularaxis\":{\"gridcolor\":\"white\",\"linecolor\":\"white\",\"ticks\":\"\"},\"radialaxis\":{\"gridcolor\":\"white\",\"linecolor\":\"white\",\"ticks\":\"\"}},\"ternary\":{\"bgcolor\":\"#E5ECF6\",\"aaxis\":{\"gridcolor\":\"white\",\"linecolor\":\"white\",\"ticks\":\"\"},\"baxis\":{\"gridcolor\":\"white\",\"linecolor\":\"white\",\"ticks\":\"\"},\"caxis\":{\"gridcolor\":\"white\",\"linecolor\":\"white\",\"ticks\":\"\"}},\"coloraxis\":{\"colorbar\":{\"outlinewidth\":0,\"ticks\":\"\"}},\"colorscale\":{\"sequential\":[[0.0,\"#0d0887\"],[0.1111111111111111,\"#46039f\"],[0.2222222222222222,\"#7201a8\"],[0.3333333333333333,\"#9c179e\"],[0.4444444444444444,\"#bd3786\"],[0.5555555555555556,\"#d8576b\"],[0.6666666666666666,\"#ed7953\"],[0.7777777777777778,\"#fb9f3a\"],[0.8888888888888888,\"#fdca26\"],[1.0,\"#f0f921\"]],\"sequentialminus\":[[0.0,\"#0d0887\"],[0.1111111111111111,\"#46039f\"],[0.2222222222222222,\"#7201a8\"],[0.3333333333333333,\"#9c179e\"],[0.4444444444444444,\"#bd3786\"],[0.5555555555555556,\"#d8576b\"],[0.6666666666666666,\"#ed7953\"],[0.7777777777777778,\"#fb9f3a\"],[0.8888888888888888,\"#fdca26\"],[1.0,\"#f0f921\"]],\"diverging\":[[0,\"#8e0152\"],[0.1,\"#c51b7d\"],[0.2,\"#de77ae\"],[0.3,\"#f1b6da\"],[0.4,\"#fde0ef\"],[0.5,\"#f7f7f7\"],[0.6,\"#e6f5d0\"],[0.7,\"#b8e186\"],[0.8,\"#7fbc41\"],[0.9,\"#4d9221\"],[1,\"#276419\"]]},\"xaxis\":{\"gridcolor\":\"white\",\"linecolor\":\"white\",\"ticks\":\"\",\"title\":{\"standoff\":15},\"zerolinecolor\":\"white\",\"automargin\":true,\"zerolinewidth\":2},\"yaxis\":{\"gridcolor\":\"white\",\"linecolor\":\"white\",\"ticks\":\"\",\"title\":{\"standoff\":15},\"zerolinecolor\":\"white\",\"automargin\":true,\"zerolinewidth\":2},\"scene\":{\"xaxis\":{\"backgroundcolor\":\"#E5ECF6\",\"gridcolor\":\"white\",\"linecolor\":\"white\",\"showbackground\":true,\"ticks\":\"\",\"zerolinecolor\":\"white\",\"gridwidth\":2},\"yaxis\":{\"backgroundcolor\":\"#E5ECF6\",\"gridcolor\":\"white\",\"linecolor\":\"white\",\"showbackground\":true,\"ticks\":\"\",\"zerolinecolor\":\"white\",\"gridwidth\":2},\"zaxis\":{\"backgroundcolor\":\"#E5ECF6\",\"gridcolor\":\"white\",\"linecolor\":\"white\",\"showbackground\":true,\"ticks\":\"\",\"zerolinecolor\":\"white\",\"gridwidth\":2}},\"shapedefaults\":{\"line\":{\"color\":\"#2a3f5f\"}},\"annotationdefaults\":{\"arrowcolor\":\"#2a3f5f\",\"arrowhead\":0,\"arrowwidth\":1},\"geo\":{\"bgcolor\":\"white\",\"landcolor\":\"#E5ECF6\",\"subunitcolor\":\"white\",\"showland\":true,\"showlakes\":true,\"lakecolor\":\"white\"},\"title\":{\"x\":0.05},\"mapbox\":{\"style\":\"light\"}}},\"xaxis\":{\"anchor\":\"y\",\"domain\":[0.0,1.0],\"title\":{\"text\":\"x\"}},\"yaxis\":{\"anchor\":\"x\",\"domain\":[0.0,1.0],\"title\":{\"text\":\"y\"}},\"legend\":{\"title\":{\"text\":\"rarity\"},\"tracegroupgap\":0},\"margin\":{\"t\":60}},                        {\"responsive\": true}                    ).then(function(){\n",
       "                            \n",
       "var gd = document.getElementById('c9a3358f-c6d6-4bf6-96dd-29e276576d09');\n",
       "var x = new MutationObserver(function (mutations, observer) {{\n",
       "        var display = window.getComputedStyle(gd).display;\n",
       "        if (!display || display === 'none') {{\n",
       "            console.log([gd, 'removed!']);\n",
       "            Plotly.purge(gd);\n",
       "            observer.disconnect();\n",
       "        }}\n",
       "}});\n",
       "\n",
       "// Listen for the removal of the full notebook cells\n",
       "var notebookContainer = gd.closest('#notebook-container');\n",
       "if (notebookContainer) {{\n",
       "    x.observe(notebookContainer, {childList: true});\n",
       "}}\n",
       "\n",
       "// Listen for the clearing of the current output cell\n",
       "var outputEl = gd.closest('.output');\n",
       "if (outputEl) {{\n",
       "    x.observe(outputEl, {childList: true});\n",
       "}}\n",
       "\n",
       "                        })                };                });            </script>        </div>"
      ]
     },
     "metadata": {},
     "output_type": "display_data"
    }
   ],
   "source": [
    "from plotly import express\n",
    "\n",
    "express.scatter(data_frame=base_df, x='x', y='y', color='rarity', hover_name='pokemon_name')"
   ]
  },
  {
   "cell_type": "markdown",
   "id": "6c0ef76f",
   "metadata": {
    "papermill": {
     "duration": 0.005566,
     "end_time": "2024-09-16T18:58:50.382406",
     "exception": false,
     "start_time": "2024-09-16T18:58:50.376840",
     "status": "completed"
    },
    "tags": []
   },
   "source": [
    "Wow. Almost everything is standard rarity. And with a couple of exceptions our base attack/defense/stamina is a pretty good predictor of rarity."
   ]
  },
  {
   "cell_type": "markdown",
   "id": "412a09ce",
   "metadata": {
    "papermill": {
     "duration": 0.00545,
     "end_time": "2024-09-16T18:58:50.393673",
     "exception": false,
     "start_time": "2024-09-16T18:58:50.388223",
     "status": "completed"
    },
    "tags": []
   },
   "source": [
    "Let's build a model to predict rarity, and let's use all of the data we sensibly can."
   ]
  },
  {
   "cell_type": "markdown",
   "id": "4582556b",
   "metadata": {
    "papermill": {
     "duration": 0.005495,
     "end_time": "2024-09-16T18:58:50.405133",
     "exception": false,
     "start_time": "2024-09-16T18:58:50.399638",
     "status": "completed"
    },
    "tags": []
   },
   "source": [
    "Unfortunately we don't have enough data to distinguish among the different kinds of rare beasts, so we need to clean up our target variable a little."
   ]
  },
  {
   "cell_type": "code",
   "execution_count": 4,
   "id": "29b7b2a0",
   "metadata": {
    "execution": {
     "iopub.execute_input": "2024-09-16T18:58:50.418989Z",
     "iopub.status.busy": "2024-09-16T18:58:50.418515Z",
     "iopub.status.idle": "2024-09-16T18:58:51.211647Z",
     "shell.execute_reply": "2024-09-16T18:58:51.209992Z"
    },
    "papermill": {
     "duration": 0.805141,
     "end_time": "2024-09-16T18:58:51.216134",
     "exception": false,
     "start_time": "2024-09-16T18:58:50.410993",
     "status": "completed"
    },
    "tags": []
   },
   "outputs": [
    {
     "name": "stdout",
     "output_type": "stream",
     "text": [
      "model fit in 1412 iterations\n",
      "accuracy: 0.9851\n",
      "f1: 0.9853\n",
      "              precision    recall  f1-score   support\n",
      "\n",
      "Not Standard       0.90      0.95      0.92        19\n",
      "    Standard       0.99      0.99      0.99       183\n",
      "\n",
      "    accuracy                           0.99       202\n",
      "   macro avg       0.95      0.97      0.96       202\n",
      "weighted avg       0.99      0.99      0.99       202\n",
      "\n"
     ]
    }
   ],
   "source": [
    "from sklearn.linear_model import LogisticRegression\n",
    "from sklearn.metrics import accuracy_score\n",
    "from sklearn.metrics import classification_report\n",
    "from sklearn.metrics import f1_score\n",
    "from sklearn.model_selection import train_test_split\n",
    "\n",
    "df['target'] = df['rarity'].apply(func=lambda x: 'Not Standard' if x != 'Standard' else x)\n",
    "X_train, X_test, y_train, y_test = train_test_split(df.drop(columns=['pokemon_name', 'type', 'rarity', 'charged_moves', 'fast_moves', 'rarity', 'target']), df['target'], test_size=0.2, random_state=2024, stratify=df['target'])\n",
    "\n",
    "logreg = LogisticRegression(max_iter=100000, tol=1e-12).fit(X_train, y_train)\n",
    "print('model fit in {} iterations'.format(logreg.n_iter_[0]))\n",
    "print('accuracy: {:5.4f}'.format(accuracy_score(y_true=y_test, y_pred=logreg.predict(X=X_test))))\n",
    "print('f1: {:5.4f}'.format(f1_score(average='weighted', y_true=y_test, y_pred=logreg.predict(X=X_test))))\n",
    "print(classification_report(y_true=y_test, y_pred=logreg.predict(X=X_test)))"
   ]
  },
  {
   "cell_type": "markdown",
   "id": "4a22179a",
   "metadata": {
    "papermill": {
     "duration": 0.011776,
     "end_time": "2024-09-16T18:58:51.240400",
     "exception": false,
     "start_time": "2024-09-16T18:58:51.228624",
     "status": "completed"
    },
    "tags": []
   },
   "source": [
    "Which of our pokemon attributes contribute the most to distinguishing rare from non-rare pokemon?"
   ]
  },
  {
   "cell_type": "code",
   "execution_count": 5,
   "id": "073f9373",
   "metadata": {
    "execution": {
     "iopub.execute_input": "2024-09-16T18:58:51.269411Z",
     "iopub.status.busy": "2024-09-16T18:58:51.268659Z",
     "iopub.status.idle": "2024-09-16T18:58:51.391296Z",
     "shell.execute_reply": "2024-09-16T18:58:51.390226Z"
    },
    "papermill": {
     "duration": 0.140396,
     "end_time": "2024-09-16T18:58:51.393979",
     "exception": false,
     "start_time": "2024-09-16T18:58:51.253583",
     "status": "completed"
    },
    "tags": []
   },
   "outputs": [
    {
     "data": {
      "text/html": [
       "<div>                            <div id=\"b333ff20-05ec-48c2-be17-ebc9548ff599\" class=\"plotly-graph-div\" style=\"height:525px; width:100%;\"></div>            <script type=\"text/javascript\">                require([\"plotly\"], function(Plotly) {                    window.PLOTLYENV=window.PLOTLYENV || {};                                    if (document.getElementById(\"b333ff20-05ec-48c2-be17-ebc9548ff599\")) {                    Plotly.newPlot(                        \"b333ff20-05ec-48c2-be17-ebc9548ff599\",                        [{\"alignmentgroup\":\"True\",\"bingroup\":\"x\",\"histfunc\":\"sum\",\"hovertemplate\":\"x=%{x}\\u003cbr\\u003esum of y=%{y}\\u003cextra\\u003e\\u003c\\u002fextra\\u003e\",\"legendgroup\":\"\",\"marker\":{\"color\":\"#636efa\",\"pattern\":{\"shape\":\"\"}},\"name\":\"\",\"offsetgroup\":\"\",\"orientation\":\"v\",\"showlegend\":false,\"x\":[\"base_attack\",\"base_defense\",\"base_stamina\",\"candy_required\",\"distance\",\"max_cp\",\"attack_probability\",\"base_capture_rate\",\"base_flee_rate\",\"dodge_probability\",\"max_pokemon_action_frequency\",\"min_pokemon_action_frequency\",\"found_egg\",\"found_evolution\",\"found_wild\",\"found_research\",\"found_raid\",\"found_photobomb\"],\"xaxis\":\"x\",\"y\":[-0.013666980789978538,-0.009677044559083234,-0.0012366760826647695,0.004810815537305677,-0.8115753558092901,0.0006512032686838504,-0.25447587705000685,0.7301101386243946,0.7301101386243946,-0.1115999892653099,-1.166662720934706,-0.13977474640930942,0.06097270787348447,-0.04354014633902172,-0.41276212667501905,-0.5431865361752423,-0.21209260569134228,-0.4131323043026706],\"yaxis\":\"y\",\"type\":\"histogram\"}],                        {\"template\":{\"data\":{\"histogram2dcontour\":[{\"type\":\"histogram2dcontour\",\"colorbar\":{\"outlinewidth\":0,\"ticks\":\"\"},\"colorscale\":[[0.0,\"#0d0887\"],[0.1111111111111111,\"#46039f\"],[0.2222222222222222,\"#7201a8\"],[0.3333333333333333,\"#9c179e\"],[0.4444444444444444,\"#bd3786\"],[0.5555555555555556,\"#d8576b\"],[0.6666666666666666,\"#ed7953\"],[0.7777777777777778,\"#fb9f3a\"],[0.8888888888888888,\"#fdca26\"],[1.0,\"#f0f921\"]]}],\"choropleth\":[{\"type\":\"choropleth\",\"colorbar\":{\"outlinewidth\":0,\"ticks\":\"\"}}],\"histogram2d\":[{\"type\":\"histogram2d\",\"colorbar\":{\"outlinewidth\":0,\"ticks\":\"\"},\"colorscale\":[[0.0,\"#0d0887\"],[0.1111111111111111,\"#46039f\"],[0.2222222222222222,\"#7201a8\"],[0.3333333333333333,\"#9c179e\"],[0.4444444444444444,\"#bd3786\"],[0.5555555555555556,\"#d8576b\"],[0.6666666666666666,\"#ed7953\"],[0.7777777777777778,\"#fb9f3a\"],[0.8888888888888888,\"#fdca26\"],[1.0,\"#f0f921\"]]}],\"heatmap\":[{\"type\":\"heatmap\",\"colorbar\":{\"outlinewidth\":0,\"ticks\":\"\"},\"colorscale\":[[0.0,\"#0d0887\"],[0.1111111111111111,\"#46039f\"],[0.2222222222222222,\"#7201a8\"],[0.3333333333333333,\"#9c179e\"],[0.4444444444444444,\"#bd3786\"],[0.5555555555555556,\"#d8576b\"],[0.6666666666666666,\"#ed7953\"],[0.7777777777777778,\"#fb9f3a\"],[0.8888888888888888,\"#fdca26\"],[1.0,\"#f0f921\"]]}],\"heatmapgl\":[{\"type\":\"heatmapgl\",\"colorbar\":{\"outlinewidth\":0,\"ticks\":\"\"},\"colorscale\":[[0.0,\"#0d0887\"],[0.1111111111111111,\"#46039f\"],[0.2222222222222222,\"#7201a8\"],[0.3333333333333333,\"#9c179e\"],[0.4444444444444444,\"#bd3786\"],[0.5555555555555556,\"#d8576b\"],[0.6666666666666666,\"#ed7953\"],[0.7777777777777778,\"#fb9f3a\"],[0.8888888888888888,\"#fdca26\"],[1.0,\"#f0f921\"]]}],\"contourcarpet\":[{\"type\":\"contourcarpet\",\"colorbar\":{\"outlinewidth\":0,\"ticks\":\"\"}}],\"contour\":[{\"type\":\"contour\",\"colorbar\":{\"outlinewidth\":0,\"ticks\":\"\"},\"colorscale\":[[0.0,\"#0d0887\"],[0.1111111111111111,\"#46039f\"],[0.2222222222222222,\"#7201a8\"],[0.3333333333333333,\"#9c179e\"],[0.4444444444444444,\"#bd3786\"],[0.5555555555555556,\"#d8576b\"],[0.6666666666666666,\"#ed7953\"],[0.7777777777777778,\"#fb9f3a\"],[0.8888888888888888,\"#fdca26\"],[1.0,\"#f0f921\"]]}],\"surface\":[{\"type\":\"surface\",\"colorbar\":{\"outlinewidth\":0,\"ticks\":\"\"},\"colorscale\":[[0.0,\"#0d0887\"],[0.1111111111111111,\"#46039f\"],[0.2222222222222222,\"#7201a8\"],[0.3333333333333333,\"#9c179e\"],[0.4444444444444444,\"#bd3786\"],[0.5555555555555556,\"#d8576b\"],[0.6666666666666666,\"#ed7953\"],[0.7777777777777778,\"#fb9f3a\"],[0.8888888888888888,\"#fdca26\"],[1.0,\"#f0f921\"]]}],\"mesh3d\":[{\"type\":\"mesh3d\",\"colorbar\":{\"outlinewidth\":0,\"ticks\":\"\"}}],\"scatter\":[{\"fillpattern\":{\"fillmode\":\"overlay\",\"size\":10,\"solidity\":0.2},\"type\":\"scatter\"}],\"parcoords\":[{\"type\":\"parcoords\",\"line\":{\"colorbar\":{\"outlinewidth\":0,\"ticks\":\"\"}}}],\"scatterpolargl\":[{\"type\":\"scatterpolargl\",\"marker\":{\"colorbar\":{\"outlinewidth\":0,\"ticks\":\"\"}}}],\"bar\":[{\"error_x\":{\"color\":\"#2a3f5f\"},\"error_y\":{\"color\":\"#2a3f5f\"},\"marker\":{\"line\":{\"color\":\"#E5ECF6\",\"width\":0.5},\"pattern\":{\"fillmode\":\"overlay\",\"size\":10,\"solidity\":0.2}},\"type\":\"bar\"}],\"scattergeo\":[{\"type\":\"scattergeo\",\"marker\":{\"colorbar\":{\"outlinewidth\":0,\"ticks\":\"\"}}}],\"scatterpolar\":[{\"type\":\"scatterpolar\",\"marker\":{\"colorbar\":{\"outlinewidth\":0,\"ticks\":\"\"}}}],\"histogram\":[{\"marker\":{\"pattern\":{\"fillmode\":\"overlay\",\"size\":10,\"solidity\":0.2}},\"type\":\"histogram\"}],\"scattergl\":[{\"type\":\"scattergl\",\"marker\":{\"colorbar\":{\"outlinewidth\":0,\"ticks\":\"\"}}}],\"scatter3d\":[{\"type\":\"scatter3d\",\"line\":{\"colorbar\":{\"outlinewidth\":0,\"ticks\":\"\"}},\"marker\":{\"colorbar\":{\"outlinewidth\":0,\"ticks\":\"\"}}}],\"scattermapbox\":[{\"type\":\"scattermapbox\",\"marker\":{\"colorbar\":{\"outlinewidth\":0,\"ticks\":\"\"}}}],\"scatterternary\":[{\"type\":\"scatterternary\",\"marker\":{\"colorbar\":{\"outlinewidth\":0,\"ticks\":\"\"}}}],\"scattercarpet\":[{\"type\":\"scattercarpet\",\"marker\":{\"colorbar\":{\"outlinewidth\":0,\"ticks\":\"\"}}}],\"carpet\":[{\"aaxis\":{\"endlinecolor\":\"#2a3f5f\",\"gridcolor\":\"white\",\"linecolor\":\"white\",\"minorgridcolor\":\"white\",\"startlinecolor\":\"#2a3f5f\"},\"baxis\":{\"endlinecolor\":\"#2a3f5f\",\"gridcolor\":\"white\",\"linecolor\":\"white\",\"minorgridcolor\":\"white\",\"startlinecolor\":\"#2a3f5f\"},\"type\":\"carpet\"}],\"table\":[{\"cells\":{\"fill\":{\"color\":\"#EBF0F8\"},\"line\":{\"color\":\"white\"}},\"header\":{\"fill\":{\"color\":\"#C8D4E3\"},\"line\":{\"color\":\"white\"}},\"type\":\"table\"}],\"barpolar\":[{\"marker\":{\"line\":{\"color\":\"#E5ECF6\",\"width\":0.5},\"pattern\":{\"fillmode\":\"overlay\",\"size\":10,\"solidity\":0.2}},\"type\":\"barpolar\"}],\"pie\":[{\"automargin\":true,\"type\":\"pie\"}]},\"layout\":{\"autotypenumbers\":\"strict\",\"colorway\":[\"#636efa\",\"#EF553B\",\"#00cc96\",\"#ab63fa\",\"#FFA15A\",\"#19d3f3\",\"#FF6692\",\"#B6E880\",\"#FF97FF\",\"#FECB52\"],\"font\":{\"color\":\"#2a3f5f\"},\"hovermode\":\"closest\",\"hoverlabel\":{\"align\":\"left\"},\"paper_bgcolor\":\"white\",\"plot_bgcolor\":\"#E5ECF6\",\"polar\":{\"bgcolor\":\"#E5ECF6\",\"angularaxis\":{\"gridcolor\":\"white\",\"linecolor\":\"white\",\"ticks\":\"\"},\"radialaxis\":{\"gridcolor\":\"white\",\"linecolor\":\"white\",\"ticks\":\"\"}},\"ternary\":{\"bgcolor\":\"#E5ECF6\",\"aaxis\":{\"gridcolor\":\"white\",\"linecolor\":\"white\",\"ticks\":\"\"},\"baxis\":{\"gridcolor\":\"white\",\"linecolor\":\"white\",\"ticks\":\"\"},\"caxis\":{\"gridcolor\":\"white\",\"linecolor\":\"white\",\"ticks\":\"\"}},\"coloraxis\":{\"colorbar\":{\"outlinewidth\":0,\"ticks\":\"\"}},\"colorscale\":{\"sequential\":[[0.0,\"#0d0887\"],[0.1111111111111111,\"#46039f\"],[0.2222222222222222,\"#7201a8\"],[0.3333333333333333,\"#9c179e\"],[0.4444444444444444,\"#bd3786\"],[0.5555555555555556,\"#d8576b\"],[0.6666666666666666,\"#ed7953\"],[0.7777777777777778,\"#fb9f3a\"],[0.8888888888888888,\"#fdca26\"],[1.0,\"#f0f921\"]],\"sequentialminus\":[[0.0,\"#0d0887\"],[0.1111111111111111,\"#46039f\"],[0.2222222222222222,\"#7201a8\"],[0.3333333333333333,\"#9c179e\"],[0.4444444444444444,\"#bd3786\"],[0.5555555555555556,\"#d8576b\"],[0.6666666666666666,\"#ed7953\"],[0.7777777777777778,\"#fb9f3a\"],[0.8888888888888888,\"#fdca26\"],[1.0,\"#f0f921\"]],\"diverging\":[[0,\"#8e0152\"],[0.1,\"#c51b7d\"],[0.2,\"#de77ae\"],[0.3,\"#f1b6da\"],[0.4,\"#fde0ef\"],[0.5,\"#f7f7f7\"],[0.6,\"#e6f5d0\"],[0.7,\"#b8e186\"],[0.8,\"#7fbc41\"],[0.9,\"#4d9221\"],[1,\"#276419\"]]},\"xaxis\":{\"gridcolor\":\"white\",\"linecolor\":\"white\",\"ticks\":\"\",\"title\":{\"standoff\":15},\"zerolinecolor\":\"white\",\"automargin\":true,\"zerolinewidth\":2},\"yaxis\":{\"gridcolor\":\"white\",\"linecolor\":\"white\",\"ticks\":\"\",\"title\":{\"standoff\":15},\"zerolinecolor\":\"white\",\"automargin\":true,\"zerolinewidth\":2},\"scene\":{\"xaxis\":{\"backgroundcolor\":\"#E5ECF6\",\"gridcolor\":\"white\",\"linecolor\":\"white\",\"showbackground\":true,\"ticks\":\"\",\"zerolinecolor\":\"white\",\"gridwidth\":2},\"yaxis\":{\"backgroundcolor\":\"#E5ECF6\",\"gridcolor\":\"white\",\"linecolor\":\"white\",\"showbackground\":true,\"ticks\":\"\",\"zerolinecolor\":\"white\",\"gridwidth\":2},\"zaxis\":{\"backgroundcolor\":\"#E5ECF6\",\"gridcolor\":\"white\",\"linecolor\":\"white\",\"showbackground\":true,\"ticks\":\"\",\"zerolinecolor\":\"white\",\"gridwidth\":2}},\"shapedefaults\":{\"line\":{\"color\":\"#2a3f5f\"}},\"annotationdefaults\":{\"arrowcolor\":\"#2a3f5f\",\"arrowhead\":0,\"arrowwidth\":1},\"geo\":{\"bgcolor\":\"white\",\"landcolor\":\"#E5ECF6\",\"subunitcolor\":\"white\",\"showland\":true,\"showlakes\":true,\"lakecolor\":\"white\"},\"title\":{\"x\":0.05},\"mapbox\":{\"style\":\"light\"}}},\"xaxis\":{\"anchor\":\"y\",\"domain\":[0.0,1.0],\"title\":{\"text\":\"x\"}},\"yaxis\":{\"anchor\":\"x\",\"domain\":[0.0,1.0],\"title\":{\"text\":\"sum of y\"}},\"legend\":{\"tracegroupgap\":0},\"margin\":{\"t\":60},\"barmode\":\"relative\"},                        {\"responsive\": true}                    ).then(function(){\n",
       "                            \n",
       "var gd = document.getElementById('b333ff20-05ec-48c2-be17-ebc9548ff599');\n",
       "var x = new MutationObserver(function (mutations, observer) {{\n",
       "        var display = window.getComputedStyle(gd).display;\n",
       "        if (!display || display === 'none') {{\n",
       "            console.log([gd, 'removed!']);\n",
       "            Plotly.purge(gd);\n",
       "            observer.disconnect();\n",
       "        }}\n",
       "}});\n",
       "\n",
       "// Listen for the removal of the full notebook cells\n",
       "var notebookContainer = gd.closest('#notebook-container');\n",
       "if (notebookContainer) {{\n",
       "    x.observe(notebookContainer, {childList: true});\n",
       "}}\n",
       "\n",
       "// Listen for the clearing of the current output cell\n",
       "var outputEl = gd.closest('.output');\n",
       "if (outputEl) {{\n",
       "    x.observe(outputEl, {childList: true});\n",
       "}}\n",
       "\n",
       "                        })                };                });            </script>        </div>"
      ]
     },
     "metadata": {},
     "output_type": "display_data"
    }
   ],
   "source": [
    "express.histogram(x=X_train.columns, y=logreg.coef_[0])"
   ]
  }
 ],
 "metadata": {
  "kaggle": {
   "accelerator": "none",
   "dataSources": [
    {
     "datasetId": 5494631,
     "sourceId": 9107951,
     "sourceType": "datasetVersion"
    }
   ],
   "dockerImageVersionId": 30761,
   "isGpuEnabled": false,
   "isInternetEnabled": true,
   "language": "python",
   "sourceType": "notebook"
  },
  "kernelspec": {
   "display_name": "Python 3",
   "language": "python",
   "name": "python3"
  },
  "language_info": {
   "codemirror_mode": {
    "name": "ipython",
    "version": 3
   },
   "file_extension": ".py",
   "mimetype": "text/x-python",
   "name": "python",
   "nbconvert_exporter": "python",
   "pygments_lexer": "ipython3",
   "version": "3.10.14"
  },
  "papermill": {
   "default_parameters": {},
   "duration": 60.559707,
   "end_time": "2024-09-16T18:58:54.739757",
   "environment_variables": {},
   "exception": null,
   "input_path": "__notebook__.ipynb",
   "output_path": "__notebook__.ipynb",
   "parameters": {},
   "start_time": "2024-09-16T18:57:54.180050",
   "version": "2.6.0"
  }
 },
 "nbformat": 4,
 "nbformat_minor": 5
}
