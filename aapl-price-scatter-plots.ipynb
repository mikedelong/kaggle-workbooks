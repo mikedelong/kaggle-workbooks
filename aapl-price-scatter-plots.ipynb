{
 "cells": [
  {
   "cell_type": "markdown",
   "id": "cd8561fc",
   "metadata": {
    "papermill": {
     "duration": 0.002649,
     "end_time": "2024-12-16T13:54:33.491120",
     "exception": false,
     "start_time": "2024-12-16T13:54:33.488471",
     "status": "completed"
    },
    "tags": []
   },
   "source": [
    "Let's load our data and do a little feature engineering/cleanup to make it easier to graph"
   ]
  },
  {
   "cell_type": "code",
   "execution_count": 1,
   "id": "e64b6890",
   "metadata": {
    "_cell_guid": "b1076dfc-b9ad-4769-8c92-a6c4dae69d19",
    "_uuid": "8f2839f25d086af736a60e9eeb907d3b93b6e0e5",
    "execution": {
     "iopub.execute_input": "2024-12-16T13:54:33.497544Z",
     "iopub.status.busy": "2024-12-16T13:54:33.497021Z",
     "iopub.status.idle": "2024-12-16T13:54:34.645962Z",
     "shell.execute_reply": "2024-12-16T13:54:34.644909Z"
    },
    "papermill": {
     "duration": 1.154677,
     "end_time": "2024-12-16T13:54:34.648168",
     "exception": false,
     "start_time": "2024-12-16T13:54:33.493491",
     "status": "completed"
    },
    "tags": []
   },
   "outputs": [
    {
     "data": {
      "text/html": [
       "<div>\n",
       "<style scoped>\n",
       "    .dataframe tbody tr th:only-of-type {\n",
       "        vertical-align: middle;\n",
       "    }\n",
       "\n",
       "    .dataframe tbody tr th {\n",
       "        vertical-align: top;\n",
       "    }\n",
       "\n",
       "    .dataframe thead th {\n",
       "        text-align: right;\n",
       "    }\n",
       "</style>\n",
       "<table border=\"1\" class=\"dataframe\">\n",
       "  <thead>\n",
       "    <tr style=\"text-align: right;\">\n",
       "      <th></th>\n",
       "      <th>Date</th>\n",
       "      <th>Open</th>\n",
       "      <th>High</th>\n",
       "      <th>Low</th>\n",
       "      <th>Close</th>\n",
       "      <th>date</th>\n",
       "      <th>year</th>\n",
       "    </tr>\n",
       "  </thead>\n",
       "  <tbody>\n",
       "    <tr>\n",
       "      <th>0</th>\n",
       "      <td>1980-12-12 00:00:00-05:00</td>\n",
       "      <td>0.098834</td>\n",
       "      <td>0.099264</td>\n",
       "      <td>0.098834</td>\n",
       "      <td>0.098834</td>\n",
       "      <td>1980-12-12</td>\n",
       "      <td>1980</td>\n",
       "    </tr>\n",
       "    <tr>\n",
       "      <th>1</th>\n",
       "      <td>1980-12-15 00:00:00-05:00</td>\n",
       "      <td>0.094108</td>\n",
       "      <td>0.094108</td>\n",
       "      <td>0.093678</td>\n",
       "      <td>0.093678</td>\n",
       "      <td>1980-12-15</td>\n",
       "      <td>1980</td>\n",
       "    </tr>\n",
       "    <tr>\n",
       "      <th>2</th>\n",
       "      <td>1980-12-16 00:00:00-05:00</td>\n",
       "      <td>0.087232</td>\n",
       "      <td>0.087232</td>\n",
       "      <td>0.086802</td>\n",
       "      <td>0.086802</td>\n",
       "      <td>1980-12-16</td>\n",
       "      <td>1980</td>\n",
       "    </tr>\n",
       "    <tr>\n",
       "      <th>3</th>\n",
       "      <td>1980-12-17 00:00:00-05:00</td>\n",
       "      <td>0.088951</td>\n",
       "      <td>0.089381</td>\n",
       "      <td>0.088951</td>\n",
       "      <td>0.088951</td>\n",
       "      <td>1980-12-17</td>\n",
       "      <td>1980</td>\n",
       "    </tr>\n",
       "    <tr>\n",
       "      <th>4</th>\n",
       "      <td>1980-12-18 00:00:00-05:00</td>\n",
       "      <td>0.091530</td>\n",
       "      <td>0.091959</td>\n",
       "      <td>0.091530</td>\n",
       "      <td>0.091530</td>\n",
       "      <td>1980-12-18</td>\n",
       "      <td>1980</td>\n",
       "    </tr>\n",
       "  </tbody>\n",
       "</table>\n",
       "</div>"
      ],
      "text/plain": [
       "                        Date      Open      High       Low     Close  \\\n",
       "0  1980-12-12 00:00:00-05:00  0.098834  0.099264  0.098834  0.098834   \n",
       "1  1980-12-15 00:00:00-05:00  0.094108  0.094108  0.093678  0.093678   \n",
       "2  1980-12-16 00:00:00-05:00  0.087232  0.087232  0.086802  0.086802   \n",
       "3  1980-12-17 00:00:00-05:00  0.088951  0.089381  0.088951  0.088951   \n",
       "4  1980-12-18 00:00:00-05:00  0.091530  0.091959  0.091530  0.091530   \n",
       "\n",
       "        date  year  \n",
       "0 1980-12-12  1980  \n",
       "1 1980-12-15  1980  \n",
       "2 1980-12-16  1980  \n",
       "3 1980-12-17  1980  \n",
       "4 1980-12-18  1980  "
      ]
     },
     "execution_count": 1,
     "metadata": {},
     "output_type": "execute_result"
    }
   ],
   "source": [
    "import pandas as pd\n",
    "\n",
    "AAPL = '/kaggle/input/apple-stock-market-data-19802024/AAPL_historical_data.csv'\n",
    "df = pd.read_csv(filepath_or_buffer=AAPL,)\n",
    "df['date'] = df['Date'].apply(func=lambda x: str(x).split(sep=' ')[0])\n",
    "df['date'] = pd.to_datetime(df['date'])\n",
    "df['year'] = df['date'].dt.year\n",
    "df.head()"
   ]
  },
  {
   "cell_type": "markdown",
   "id": "c2f6d292",
   "metadata": {
    "papermill": {
     "duration": 0.002062,
     "end_time": "2024-12-16T13:54:34.652735",
     "exception": false,
     "start_time": "2024-12-16T13:54:34.650673",
     "status": "completed"
    },
    "tags": []
   },
   "source": [
    "What do our price correlations look like? Over a long timeframe we expect the daily price correlations to be nearly 1.0 regardless of how much the prices have moved, as daily price changes tend to be essentially random. But we don't expect any of the interprice correlations to be 1.0 unless we have duplicate data."
   ]
  },
  {
   "cell_type": "code",
   "execution_count": 2,
   "id": "03f7746f",
   "metadata": {
    "execution": {
     "iopub.execute_input": "2024-12-16T13:54:34.658878Z",
     "iopub.status.busy": "2024-12-16T13:54:34.658484Z",
     "iopub.status.idle": "2024-12-16T13:54:34.679650Z",
     "shell.execute_reply": "2024-12-16T13:54:34.678481Z"
    },
    "papermill": {
     "duration": 0.027335,
     "end_time": "2024-12-16T13:54:34.682267",
     "exception": false,
     "start_time": "2024-12-16T13:54:34.654932",
     "status": "completed"
    },
    "tags": []
   },
   "outputs": [
    {
     "data": {
      "text/html": [
       "<div>\n",
       "<style scoped>\n",
       "    .dataframe tbody tr th:only-of-type {\n",
       "        vertical-align: middle;\n",
       "    }\n",
       "\n",
       "    .dataframe tbody tr th {\n",
       "        vertical-align: top;\n",
       "    }\n",
       "\n",
       "    .dataframe thead th {\n",
       "        text-align: right;\n",
       "    }\n",
       "</style>\n",
       "<table border=\"1\" class=\"dataframe\">\n",
       "  <thead>\n",
       "    <tr style=\"text-align: right;\">\n",
       "      <th></th>\n",
       "      <th>Open</th>\n",
       "      <th>High</th>\n",
       "      <th>Low</th>\n",
       "      <th>Close</th>\n",
       "    </tr>\n",
       "  </thead>\n",
       "  <tbody>\n",
       "    <tr>\n",
       "      <th>Open</th>\n",
       "      <td>1.000000</td>\n",
       "      <td>0.999947</td>\n",
       "      <td>0.999946</td>\n",
       "      <td>0.999885</td>\n",
       "    </tr>\n",
       "    <tr>\n",
       "      <th>High</th>\n",
       "      <td>0.999947</td>\n",
       "      <td>1.000000</td>\n",
       "      <td>0.999929</td>\n",
       "      <td>0.999947</td>\n",
       "    </tr>\n",
       "    <tr>\n",
       "      <th>Low</th>\n",
       "      <td>0.999946</td>\n",
       "      <td>0.999929</td>\n",
       "      <td>1.000000</td>\n",
       "      <td>0.999946</td>\n",
       "    </tr>\n",
       "    <tr>\n",
       "      <th>Close</th>\n",
       "      <td>0.999885</td>\n",
       "      <td>0.999947</td>\n",
       "      <td>0.999946</td>\n",
       "      <td>1.000000</td>\n",
       "    </tr>\n",
       "  </tbody>\n",
       "</table>\n",
       "</div>"
      ],
      "text/plain": [
       "           Open      High       Low     Close\n",
       "Open   1.000000  0.999947  0.999946  0.999885\n",
       "High   0.999947  1.000000  0.999929  0.999947\n",
       "Low    0.999946  0.999929  1.000000  0.999946\n",
       "Close  0.999885  0.999947  0.999946  1.000000"
      ]
     },
     "execution_count": 2,
     "metadata": {},
     "output_type": "execute_result"
    }
   ],
   "source": [
    "df[['Open', 'High', 'Low', 'Close']].corr()"
   ]
  },
  {
   "cell_type": "markdown",
   "id": "4624968e",
   "metadata": {
    "papermill": {
     "duration": 0.002191,
     "end_time": "2024-12-16T13:54:34.687051",
     "exception": false,
     "start_time": "2024-12-16T13:54:34.684860",
     "status": "completed"
    },
    "tags": []
   },
   "source": [
    "Surprisingly the high/low correlations are lower than the open/close correlations."
   ]
  },
  {
   "cell_type": "code",
   "execution_count": 3,
   "id": "42ab4ed9",
   "metadata": {
    "execution": {
     "iopub.execute_input": "2024-12-16T13:54:34.693792Z",
     "iopub.status.busy": "2024-12-16T13:54:34.693051Z",
     "iopub.status.idle": "2024-12-16T13:54:34.718764Z",
     "shell.execute_reply": "2024-12-16T13:54:34.717680Z"
    },
    "papermill": {
     "duration": 0.031741,
     "end_time": "2024-12-16T13:54:34.721200",
     "exception": false,
     "start_time": "2024-12-16T13:54:34.689459",
     "status": "completed"
    },
    "tags": []
   },
   "outputs": [
    {
     "name": "stdout",
     "output_type": "stream",
     "text": [
      "<class 'pandas.core.frame.DataFrame'>\n",
      "RangeIndex: 11094 entries, 0 to 11093\n",
      "Data columns (total 7 columns):\n",
      " #   Column  Non-Null Count  Dtype         \n",
      "---  ------  --------------  -----         \n",
      " 0   Date    11094 non-null  object        \n",
      " 1   Open    11094 non-null  float64       \n",
      " 2   High    11094 non-null  float64       \n",
      " 3   Low     11094 non-null  float64       \n",
      " 4   Close   11094 non-null  float64       \n",
      " 5   date    11094 non-null  datetime64[ns]\n",
      " 6   year    11094 non-null  int32         \n",
      "dtypes: datetime64[ns](1), float64(4), int32(1), object(1)\n",
      "memory usage: 563.5+ KB\n"
     ]
    }
   ],
   "source": [
    "df.info()"
   ]
  }
 ],
 "metadata": {
  "kaggle": {
   "accelerator": "none",
   "dataSources": [
    {
     "datasetId": 6300199,
     "sourceId": 10196402,
     "sourceType": "datasetVersion"
    }
   ],
   "dockerImageVersionId": 30804,
   "isGpuEnabled": false,
   "isInternetEnabled": true,
   "language": "python",
   "sourceType": "notebook"
  },
  "kernelspec": {
   "display_name": "Python 3",
   "language": "python",
   "name": "python3"
  },
  "language_info": {
   "codemirror_mode": {
    "name": "ipython",
    "version": 3
   },
   "file_extension": ".py",
   "mimetype": "text/x-python",
   "name": "python",
   "nbconvert_exporter": "python",
   "pygments_lexer": "ipython3",
   "version": "3.10.14"
  },
  "papermill": {
   "default_parameters": {},
   "duration": 4.635974,
   "end_time": "2024-12-16T13:54:35.246037",
   "environment_variables": {},
   "exception": null,
   "input_path": "__notebook__.ipynb",
   "output_path": "__notebook__.ipynb",
   "parameters": {},
   "start_time": "2024-12-16T13:54:30.610063",
   "version": "2.6.0"
  }
 },
 "nbformat": 4,
 "nbformat_minor": 5
}
