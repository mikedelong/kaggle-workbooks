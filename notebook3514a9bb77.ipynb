{
 "cells": [
  {
   "cell_type": "code",
   "execution_count": 1,
   "id": "be616028",
   "metadata": {
    "_cell_guid": "b1076dfc-b9ad-4769-8c92-a6c4dae69d19",
    "_uuid": "8f2839f25d086af736a60e9eeb907d3b93b6e0e5",
    "execution": {
     "iopub.execute_input": "2025-05-26T16:00:17.947140Z",
     "iopub.status.busy": "2025-05-26T16:00:17.946806Z",
     "iopub.status.idle": "2025-05-26T16:00:18.090459Z",
     "shell.execute_reply": "2025-05-26T16:00:18.089134Z"
    },
    "papermill": {
     "duration": 0.148867,
     "end_time": "2025-05-26T16:00:18.092456",
     "exception": false,
     "start_time": "2025-05-26T16:00:17.943589",
     "status": "completed"
    },
    "tags": []
   },
   "outputs": [
    {
     "name": "stdout",
     "output_type": "stream",
     "text": [
      "BarCode  BarCode-QRCode  QRCode\r\n"
     ]
    }
   ],
   "source": [
    "!ls /kaggle/input/barcode-and-qr-code-image-dataset/Dataset/"
   ]
  },
  {
   "cell_type": "code",
   "execution_count": null,
   "id": "45e02506",
   "metadata": {
    "papermill": {
     "duration": 0.001224,
     "end_time": "2025-05-26T16:00:18.095567",
     "exception": false,
     "start_time": "2025-05-26T16:00:18.094343",
     "status": "completed"
    },
    "tags": []
   },
   "outputs": [],
   "source": []
  }
 ],
 "metadata": {
  "kaggle": {
   "accelerator": "none",
   "dataSources": [
    {
     "datasetId": 7519346,
     "sourceId": 11958884,
     "sourceType": "datasetVersion"
    }
   ],
   "dockerImageVersionId": 31040,
   "isGpuEnabled": false,
   "isInternetEnabled": true,
   "language": "python",
   "sourceType": "notebook"
  },
  "kernelspec": {
   "display_name": "Python 3",
   "language": "python",
   "name": "python3"
  },
  "language_info": {
   "codemirror_mode": {
    "name": "ipython",
    "version": 3
   },
   "file_extension": ".py",
   "mimetype": "text/x-python",
   "name": "python",
   "nbconvert_exporter": "python",
   "pygments_lexer": "ipython3",
   "version": "3.11.11"
  },
  "papermill": {
   "default_parameters": {},
   "duration": 7.244101,
   "end_time": "2025-05-26T16:00:18.517502",
   "environment_variables": {},
   "exception": null,
   "input_path": "__notebook__.ipynb",
   "output_path": "__notebook__.ipynb",
   "parameters": {},
   "start_time": "2025-05-26T16:00:11.273401",
   "version": "2.6.0"
  }
 },
 "nbformat": 4,
 "nbformat_minor": 5
}
