{
 "cells": [
  {
   "cell_type": "code",
   "execution_count": 1,
   "id": "bf24b3f1",
   "metadata": {
    "_cell_guid": "b1076dfc-b9ad-4769-8c92-a6c4dae69d19",
    "_uuid": "8f2839f25d086af736a60e9eeb907d3b93b6e0e5",
    "execution": {
     "iopub.execute_input": "2025-02-02T12:04:03.342090Z",
     "iopub.status.busy": "2025-02-02T12:04:03.341717Z",
     "iopub.status.idle": "2025-02-02T12:04:05.070432Z",
     "shell.execute_reply": "2025-02-02T12:04:05.069216Z"
    },
    "papermill": {
     "duration": 1.734618,
     "end_time": "2025-02-02T12:04:05.072405",
     "exception": false,
     "start_time": "2025-02-02T12:04:03.337787",
     "status": "completed"
    },
    "tags": []
   },
   "outputs": [
    {
     "data": {
      "text/html": [
       "<div>\n",
       "<style scoped>\n",
       "    .dataframe tbody tr th:only-of-type {\n",
       "        vertical-align: middle;\n",
       "    }\n",
       "\n",
       "    .dataframe tbody tr th {\n",
       "        vertical-align: top;\n",
       "    }\n",
       "\n",
       "    .dataframe thead th {\n",
       "        text-align: right;\n",
       "    }\n",
       "</style>\n",
       "<table border=\"1\" class=\"dataframe\">\n",
       "  <thead>\n",
       "    <tr style=\"text-align: right;\">\n",
       "      <th></th>\n",
       "      <th>Age</th>\n",
       "      <th>Gender</th>\n",
       "      <th>Country</th>\n",
       "      <th>WBC_Count</th>\n",
       "      <th>RBC_Count</th>\n",
       "      <th>Platelet_Count</th>\n",
       "      <th>Hemoglobin_Level</th>\n",
       "      <th>Bone_Marrow_Blasts</th>\n",
       "      <th>Genetic_Mutation</th>\n",
       "      <th>Family_History</th>\n",
       "      <th>...</th>\n",
       "      <th>Alcohol_Consumption</th>\n",
       "      <th>Radiation_Exposure</th>\n",
       "      <th>Infection_History</th>\n",
       "      <th>BMI</th>\n",
       "      <th>Chronic_Illness</th>\n",
       "      <th>Immune_Disorders</th>\n",
       "      <th>Ethnicity</th>\n",
       "      <th>Socioeconomic_Status</th>\n",
       "      <th>Urban_Rural</th>\n",
       "      <th>Leukemia_Status</th>\n",
       "    </tr>\n",
       "    <tr>\n",
       "      <th>Patient_ID</th>\n",
       "      <th></th>\n",
       "      <th></th>\n",
       "      <th></th>\n",
       "      <th></th>\n",
       "      <th></th>\n",
       "      <th></th>\n",
       "      <th></th>\n",
       "      <th></th>\n",
       "      <th></th>\n",
       "      <th></th>\n",
       "      <th></th>\n",
       "      <th></th>\n",
       "      <th></th>\n",
       "      <th></th>\n",
       "      <th></th>\n",
       "      <th></th>\n",
       "      <th></th>\n",
       "      <th></th>\n",
       "      <th></th>\n",
       "      <th></th>\n",
       "      <th></th>\n",
       "    </tr>\n",
       "  </thead>\n",
       "  <tbody>\n",
       "    <tr>\n",
       "      <th>1</th>\n",
       "      <td>52</td>\n",
       "      <td>Male</td>\n",
       "      <td>China</td>\n",
       "      <td>2698</td>\n",
       "      <td>5.36</td>\n",
       "      <td>262493</td>\n",
       "      <td>12.2</td>\n",
       "      <td>72</td>\n",
       "      <td>True</td>\n",
       "      <td>False</td>\n",
       "      <td>...</td>\n",
       "      <td>False</td>\n",
       "      <td>False</td>\n",
       "      <td>False</td>\n",
       "      <td>24.0</td>\n",
       "      <td>False</td>\n",
       "      <td>False</td>\n",
       "      <td>Ethnic_Group_B</td>\n",
       "      <td>Low</td>\n",
       "      <td>Rural</td>\n",
       "      <td>Negative</td>\n",
       "    </tr>\n",
       "    <tr>\n",
       "      <th>2</th>\n",
       "      <td>15</td>\n",
       "      <td>Female</td>\n",
       "      <td>China</td>\n",
       "      <td>4857</td>\n",
       "      <td>4.81</td>\n",
       "      <td>277877</td>\n",
       "      <td>11.9</td>\n",
       "      <td>97</td>\n",
       "      <td>True</td>\n",
       "      <td>False</td>\n",
       "      <td>...</td>\n",
       "      <td>False</td>\n",
       "      <td>False</td>\n",
       "      <td>False</td>\n",
       "      <td>28.7</td>\n",
       "      <td>False</td>\n",
       "      <td>False</td>\n",
       "      <td>Ethnic_Group_A</td>\n",
       "      <td>Low</td>\n",
       "      <td>Urban</td>\n",
       "      <td>Positive</td>\n",
       "    </tr>\n",
       "    <tr>\n",
       "      <th>3</th>\n",
       "      <td>72</td>\n",
       "      <td>Male</td>\n",
       "      <td>France</td>\n",
       "      <td>9614</td>\n",
       "      <td>5.17</td>\n",
       "      <td>319600</td>\n",
       "      <td>13.4</td>\n",
       "      <td>94</td>\n",
       "      <td>False</td>\n",
       "      <td>True</td>\n",
       "      <td>...</td>\n",
       "      <td>True</td>\n",
       "      <td>False</td>\n",
       "      <td>False</td>\n",
       "      <td>27.7</td>\n",
       "      <td>False</td>\n",
       "      <td>False</td>\n",
       "      <td>Ethnic_Group_B</td>\n",
       "      <td>Low</td>\n",
       "      <td>Urban</td>\n",
       "      <td>Negative</td>\n",
       "    </tr>\n",
       "    <tr>\n",
       "      <th>4</th>\n",
       "      <td>61</td>\n",
       "      <td>Male</td>\n",
       "      <td>Brazil</td>\n",
       "      <td>6278</td>\n",
       "      <td>5.41</td>\n",
       "      <td>215200</td>\n",
       "      <td>11.6</td>\n",
       "      <td>50</td>\n",
       "      <td>False</td>\n",
       "      <td>False</td>\n",
       "      <td>...</td>\n",
       "      <td>False</td>\n",
       "      <td>False</td>\n",
       "      <td>False</td>\n",
       "      <td>31.6</td>\n",
       "      <td>False</td>\n",
       "      <td>False</td>\n",
       "      <td>Ethnic_Group_A</td>\n",
       "      <td>Medium</td>\n",
       "      <td>Rural</td>\n",
       "      <td>Negative</td>\n",
       "    </tr>\n",
       "    <tr>\n",
       "      <th>5</th>\n",
       "      <td>21</td>\n",
       "      <td>Male</td>\n",
       "      <td>Brazil</td>\n",
       "      <td>8342</td>\n",
       "      <td>4.78</td>\n",
       "      <td>309169</td>\n",
       "      <td>14.3</td>\n",
       "      <td>28</td>\n",
       "      <td>False</td>\n",
       "      <td>False</td>\n",
       "      <td>...</td>\n",
       "      <td>False</td>\n",
       "      <td>False</td>\n",
       "      <td>False</td>\n",
       "      <td>22.3</td>\n",
       "      <td>False</td>\n",
       "      <td>False</td>\n",
       "      <td>Ethnic_Group_B</td>\n",
       "      <td>Low</td>\n",
       "      <td>Rural</td>\n",
       "      <td>Negative</td>\n",
       "    </tr>\n",
       "  </tbody>\n",
       "</table>\n",
       "<p>5 rows × 21 columns</p>\n",
       "</div>"
      ],
      "text/plain": [
       "            Age  Gender Country  WBC_Count  RBC_Count  Platelet_Count  \\\n",
       "Patient_ID                                                              \n",
       "1            52    Male   China       2698       5.36          262493   \n",
       "2            15  Female   China       4857       4.81          277877   \n",
       "3            72    Male  France       9614       5.17          319600   \n",
       "4            61    Male  Brazil       6278       5.41          215200   \n",
       "5            21    Male  Brazil       8342       4.78          309169   \n",
       "\n",
       "            Hemoglobin_Level  Bone_Marrow_Blasts  Genetic_Mutation  \\\n",
       "Patient_ID                                                           \n",
       "1                       12.2                  72              True   \n",
       "2                       11.9                  97              True   \n",
       "3                       13.4                  94             False   \n",
       "4                       11.6                  50             False   \n",
       "5                       14.3                  28             False   \n",
       "\n",
       "            Family_History  ...  Alcohol_Consumption  Radiation_Exposure  \\\n",
       "Patient_ID                  ...                                            \n",
       "1                    False  ...                False               False   \n",
       "2                    False  ...                False               False   \n",
       "3                     True  ...                 True               False   \n",
       "4                    False  ...                False               False   \n",
       "5                    False  ...                False               False   \n",
       "\n",
       "            Infection_History   BMI  Chronic_Illness  Immune_Disorders  \\\n",
       "Patient_ID                                                               \n",
       "1                       False  24.0            False             False   \n",
       "2                       False  28.7            False             False   \n",
       "3                       False  27.7            False             False   \n",
       "4                       False  31.6            False             False   \n",
       "5                       False  22.3            False             False   \n",
       "\n",
       "                 Ethnicity Socioeconomic_Status Urban_Rural Leukemia_Status  \n",
       "Patient_ID                                                                   \n",
       "1           Ethnic_Group_B                  Low       Rural        Negative  \n",
       "2           Ethnic_Group_A                  Low       Urban        Positive  \n",
       "3           Ethnic_Group_B                  Low       Urban        Negative  \n",
       "4           Ethnic_Group_A               Medium       Rural        Negative  \n",
       "5           Ethnic_Group_B                  Low       Rural        Negative  \n",
       "\n",
       "[5 rows x 21 columns]"
      ]
     },
     "execution_count": 1,
     "metadata": {},
     "output_type": "execute_result"
    }
   ],
   "source": [
    "import pandas as pd\n",
    "\n",
    "DATA = '/kaggle/input/leukemia-cancer-risk-prediction-dataset/biased_leukemia_dataset.csv'\n",
    "df = pd.read_csv(filepath_or_buffer=DATA, index_col=['Patient_ID'])\n",
    "for column in ['Genetic_Mutation', 'Family_History', 'Smoking_Status', 'Alcohol_Consumption', 'Radiation_Exposure', 'Infection_History', 'Chronic_Illness', 'Immune_Disorders']:\n",
    "    df[column] = df[column] == 'Yes'\n",
    "df.head()"
   ]
  },
  {
   "cell_type": "code",
   "execution_count": 2,
   "id": "397ee032",
   "metadata": {
    "execution": {
     "iopub.execute_input": "2025-02-02T12:04:05.079630Z",
     "iopub.status.busy": "2025-02-02T12:04:05.079257Z",
     "iopub.status.idle": "2025-02-02T12:04:05.155375Z",
     "shell.execute_reply": "2025-02-02T12:04:05.154364Z"
    },
    "papermill": {
     "duration": 0.081432,
     "end_time": "2025-02-02T12:04:05.157096",
     "exception": false,
     "start_time": "2025-02-02T12:04:05.075664",
     "status": "completed"
    },
    "tags": []
   },
   "outputs": [
    {
     "data": {
      "text/plain": [
       "Age                        89\n",
       "Gender                      2\n",
       "Country                    22\n",
       "WBC_Count               11129\n",
       "RBC_Count                 390\n",
       "Platelet_Count          99585\n",
       "Hemoglobin_Level          164\n",
       "Bone_Marrow_Blasts        100\n",
       "Genetic_Mutation            2\n",
       "Family_History              2\n",
       "Smoking_Status              2\n",
       "Alcohol_Consumption         2\n",
       "Radiation_Exposure          2\n",
       "Infection_History           2\n",
       "BMI                       390\n",
       "Chronic_Illness             2\n",
       "Immune_Disorders            2\n",
       "Ethnicity                   3\n",
       "Socioeconomic_Status        3\n",
       "Urban_Rural                 2\n",
       "Leukemia_Status             2\n",
       "dtype: int64"
      ]
     },
     "execution_count": 2,
     "metadata": {},
     "output_type": "execute_result"
    }
   ],
   "source": [
    "df.nunique()"
   ]
  },
  {
   "cell_type": "code",
   "execution_count": 3,
   "id": "2ace135a",
   "metadata": {
    "execution": {
     "iopub.execute_input": "2025-02-02T12:04:05.164413Z",
     "iopub.status.busy": "2025-02-02T12:04:05.164086Z",
     "iopub.status.idle": "2025-02-02T12:04:05.169184Z",
     "shell.execute_reply": "2025-02-02T12:04:05.168376Z"
    },
    "papermill": {
     "duration": 0.010723,
     "end_time": "2025-02-02T12:04:05.170899",
     "exception": false,
     "start_time": "2025-02-02T12:04:05.160176",
     "status": "completed"
    },
    "tags": []
   },
   "outputs": [],
   "source": [
    "COLUMNS = [column for column, dtype in df.dtypes.to_dict().items() if str(dtype) in {'bool', 'float64', 'int64'} and column != 'Leukemia_Status']\n",
    "RANDOM_STATE = 2025\n",
    "TARGET = 'Leukemia_Status'"
   ]
  },
  {
   "cell_type": "code",
   "execution_count": 4,
   "id": "d4a15b05",
   "metadata": {
    "execution": {
     "iopub.execute_input": "2025-02-02T12:04:05.179346Z",
     "iopub.status.busy": "2025-02-02T12:04:05.179016Z",
     "iopub.status.idle": "2025-02-02T12:04:05.197591Z",
     "shell.execute_reply": "2025-02-02T12:04:05.196714Z"
    },
    "papermill": {
     "duration": 0.025333,
     "end_time": "2025-02-02T12:04:05.199209",
     "exception": false,
     "start_time": "2025-02-02T12:04:05.173876",
     "status": "completed"
    },
    "tags": []
   },
   "outputs": [
    {
     "data": {
      "text/plain": [
       "{'Negative': 121797, 'Positive': 21397}"
      ]
     },
     "execution_count": 4,
     "metadata": {},
     "output_type": "execute_result"
    }
   ],
   "source": [
    "df['Leukemia_Status'].value_counts().to_dict()"
   ]
  },
  {
   "cell_type": "code",
   "execution_count": 5,
   "id": "83078d9c",
   "metadata": {
    "execution": {
     "iopub.execute_input": "2025-02-02T12:04:05.206407Z",
     "iopub.status.busy": "2025-02-02T12:04:05.206093Z",
     "iopub.status.idle": "2025-02-02T12:04:05.220005Z",
     "shell.execute_reply": "2025-02-02T12:04:05.218825Z"
    },
    "papermill": {
     "duration": 0.020269,
     "end_time": "2025-02-02T12:04:05.222555",
     "exception": false,
     "start_time": "2025-02-02T12:04:05.202286",
     "status": "completed"
    },
    "tags": []
   },
   "outputs": [],
   "source": [
    "sample_df = df.sample(n=5000, random_state=RANDOM_STATE)"
   ]
  },
  {
   "cell_type": "code",
   "execution_count": 6,
   "id": "c8c86325",
   "metadata": {
    "execution": {
     "iopub.execute_input": "2025-02-02T12:04:05.230329Z",
     "iopub.status.busy": "2025-02-02T12:04:05.229982Z",
     "iopub.status.idle": "2025-02-02T12:04:33.645499Z",
     "shell.execute_reply": "2025-02-02T12:04:33.644638Z"
    },
    "papermill": {
     "duration": 28.421299,
     "end_time": "2025-02-02T12:04:33.647558",
     "exception": false,
     "start_time": "2025-02-02T12:04:05.226259",
     "status": "completed"
    },
    "tags": []
   },
   "outputs": [],
   "source": [
    "from sklearn.manifold import TSNE\n",
    "\n",
    "reducer = TSNE(random_state=RANDOM_STATE)\n",
    "plot_df = pd.DataFrame(columns=['x', 'y'], data=reducer.fit_transform(X=sample_df[COLUMNS],))\n",
    "plot_df[TARGET] = sample_df[TARGET].tolist()"
   ]
  },
  {
   "cell_type": "code",
   "execution_count": 7,
   "id": "b4548930",
   "metadata": {
    "execution": {
     "iopub.execute_input": "2025-02-02T12:04:33.655335Z",
     "iopub.status.busy": "2025-02-02T12:04:33.654817Z",
     "iopub.status.idle": "2025-02-02T12:04:36.842027Z",
     "shell.execute_reply": "2025-02-02T12:04:36.840494Z"
    },
    "papermill": {
     "duration": 3.193482,
     "end_time": "2025-02-02T12:04:36.844397",
     "exception": false,
     "start_time": "2025-02-02T12:04:33.650915",
     "status": "completed"
    },
    "tags": []
   },
   "outputs": [
    {
     "data": {
      "text/html": [
       "        <script type=\"text/javascript\">\n",
       "        window.PlotlyConfig = {MathJaxConfig: 'local'};\n",
       "        if (window.MathJax && window.MathJax.Hub && window.MathJax.Hub.Config) {window.MathJax.Hub.Config({SVG: {font: \"STIX-Web\"}});}\n",
       "        if (typeof require !== 'undefined') {\n",
       "        require.undef(\"plotly\");\n",
       "        requirejs.config({\n",
       "            paths: {\n",
       "                'plotly': ['https://cdn.plot.ly/plotly-2.35.2.min']\n",
       "            }\n",
       "        });\n",
       "        require(['plotly'], function(Plotly) {\n",
       "            window._Plotly = Plotly;\n",
       "        });\n",
       "        }\n",
       "        </script>\n",
       "        "
      ]
     },
     "metadata": {},
     "output_type": "display_data"
    },
    {
     "data": {
      "text/html": [
       "<iframe\n",
       "    scrolling=\"no\"\n",
       "    width=\"100%\"\n",
       "    height=\"545px\"\n",
       "    src=\"iframe_figures/figure_7.html\"\n",
       "    frameborder=\"0\"\n",
       "    allowfullscreen\n",
       "></iframe>\n"
      ]
     },
     "metadata": {},
     "output_type": "display_data"
    }
   ],
   "source": [
    "from plotly import express\n",
    "from plotly.offline import init_notebook_mode\n",
    "\n",
    "init_notebook_mode(connected=True)\n",
    "express.scatter(data_frame=plot_df, x='x', y='y', color=TARGET).show(renderer='iframe_connected')"
   ]
  }
 ],
 "metadata": {
  "kaggle": {
   "accelerator": "none",
   "dataSources": [
    {
     "datasetId": 6587999,
     "sourceId": 10640467,
     "sourceType": "datasetVersion"
    }
   ],
   "dockerImageVersionId": 30839,
   "isGpuEnabled": false,
   "isInternetEnabled": true,
   "language": "python",
   "sourceType": "notebook"
  },
  "kernelspec": {
   "display_name": "Python 3",
   "language": "python",
   "name": "python3"
  },
  "language_info": {
   "codemirror_mode": {
    "name": "ipython",
    "version": 3
   },
   "file_extension": ".py",
   "mimetype": "text/x-python",
   "name": "python",
   "nbconvert_exporter": "python",
   "pygments_lexer": "ipython3",
   "version": "3.10.12"
  },
  "papermill": {
   "default_parameters": {},
   "duration": 37.155098,
   "end_time": "2025-02-02T12:04:37.668996",
   "environment_variables": {},
   "exception": null,
   "input_path": "__notebook__.ipynb",
   "output_path": "__notebook__.ipynb",
   "parameters": {},
   "start_time": "2025-02-02T12:04:00.513898",
   "version": "2.6.0"
  }
 },
 "nbformat": 4,
 "nbformat_minor": 5
}
