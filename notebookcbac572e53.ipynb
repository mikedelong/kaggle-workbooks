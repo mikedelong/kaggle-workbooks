{
 "cells": [
  {
   "cell_type": "markdown",
   "id": "b0098d58",
   "metadata": {
    "papermill": {
     "duration": 0.004461,
     "end_time": "2025-02-02T12:21:45.627737",
     "exception": false,
     "start_time": "2025-02-02T12:21:45.623276",
     "status": "completed"
    },
    "tags": []
   },
   "source": [
    "Let's load up our data and do a little feature engineering. We have a bunch of Yes/No variables, and we want to make them booleans so we can treat them like numeric data."
   ]
  },
  {
   "cell_type": "code",
   "execution_count": 1,
   "id": "140c86da",
   "metadata": {
    "_cell_guid": "b1076dfc-b9ad-4769-8c92-a6c4dae69d19",
    "_uuid": "8f2839f25d086af736a60e9eeb907d3b93b6e0e5",
    "execution": {
     "iopub.execute_input": "2025-02-02T12:21:45.636533Z",
     "iopub.status.busy": "2025-02-02T12:21:45.636183Z",
     "iopub.status.idle": "2025-02-02T12:21:47.055449Z",
     "shell.execute_reply": "2025-02-02T12:21:47.054526Z"
    },
    "papermill": {
     "duration": 1.425467,
     "end_time": "2025-02-02T12:21:47.057135",
     "exception": false,
     "start_time": "2025-02-02T12:21:45.631668",
     "status": "completed"
    },
    "tags": []
   },
   "outputs": [
    {
     "data": {
      "text/html": [
       "<div>\n",
       "<style scoped>\n",
       "    .dataframe tbody tr th:only-of-type {\n",
       "        vertical-align: middle;\n",
       "    }\n",
       "\n",
       "    .dataframe tbody tr th {\n",
       "        vertical-align: top;\n",
       "    }\n",
       "\n",
       "    .dataframe thead th {\n",
       "        text-align: right;\n",
       "    }\n",
       "</style>\n",
       "<table border=\"1\" class=\"dataframe\">\n",
       "  <thead>\n",
       "    <tr style=\"text-align: right;\">\n",
       "      <th></th>\n",
       "      <th>Age</th>\n",
       "      <th>Gender</th>\n",
       "      <th>Country</th>\n",
       "      <th>WBC_Count</th>\n",
       "      <th>RBC_Count</th>\n",
       "      <th>Platelet_Count</th>\n",
       "      <th>Hemoglobin_Level</th>\n",
       "      <th>Bone_Marrow_Blasts</th>\n",
       "      <th>Genetic_Mutation</th>\n",
       "      <th>Family_History</th>\n",
       "      <th>...</th>\n",
       "      <th>Alcohol_Consumption</th>\n",
       "      <th>Radiation_Exposure</th>\n",
       "      <th>Infection_History</th>\n",
       "      <th>BMI</th>\n",
       "      <th>Chronic_Illness</th>\n",
       "      <th>Immune_Disorders</th>\n",
       "      <th>Ethnicity</th>\n",
       "      <th>Socioeconomic_Status</th>\n",
       "      <th>Urban_Rural</th>\n",
       "      <th>Leukemia_Status</th>\n",
       "    </tr>\n",
       "    <tr>\n",
       "      <th>Patient_ID</th>\n",
       "      <th></th>\n",
       "      <th></th>\n",
       "      <th></th>\n",
       "      <th></th>\n",
       "      <th></th>\n",
       "      <th></th>\n",
       "      <th></th>\n",
       "      <th></th>\n",
       "      <th></th>\n",
       "      <th></th>\n",
       "      <th></th>\n",
       "      <th></th>\n",
       "      <th></th>\n",
       "      <th></th>\n",
       "      <th></th>\n",
       "      <th></th>\n",
       "      <th></th>\n",
       "      <th></th>\n",
       "      <th></th>\n",
       "      <th></th>\n",
       "      <th></th>\n",
       "    </tr>\n",
       "  </thead>\n",
       "  <tbody>\n",
       "    <tr>\n",
       "      <th>1</th>\n",
       "      <td>52</td>\n",
       "      <td>Male</td>\n",
       "      <td>China</td>\n",
       "      <td>2698</td>\n",
       "      <td>5.36</td>\n",
       "      <td>262493</td>\n",
       "      <td>12.2</td>\n",
       "      <td>72</td>\n",
       "      <td>True</td>\n",
       "      <td>False</td>\n",
       "      <td>...</td>\n",
       "      <td>False</td>\n",
       "      <td>False</td>\n",
       "      <td>False</td>\n",
       "      <td>24.0</td>\n",
       "      <td>False</td>\n",
       "      <td>False</td>\n",
       "      <td>Ethnic_Group_B</td>\n",
       "      <td>Low</td>\n",
       "      <td>Rural</td>\n",
       "      <td>Negative</td>\n",
       "    </tr>\n",
       "    <tr>\n",
       "      <th>2</th>\n",
       "      <td>15</td>\n",
       "      <td>Female</td>\n",
       "      <td>China</td>\n",
       "      <td>4857</td>\n",
       "      <td>4.81</td>\n",
       "      <td>277877</td>\n",
       "      <td>11.9</td>\n",
       "      <td>97</td>\n",
       "      <td>True</td>\n",
       "      <td>False</td>\n",
       "      <td>...</td>\n",
       "      <td>False</td>\n",
       "      <td>False</td>\n",
       "      <td>False</td>\n",
       "      <td>28.7</td>\n",
       "      <td>False</td>\n",
       "      <td>False</td>\n",
       "      <td>Ethnic_Group_A</td>\n",
       "      <td>Low</td>\n",
       "      <td>Urban</td>\n",
       "      <td>Positive</td>\n",
       "    </tr>\n",
       "    <tr>\n",
       "      <th>3</th>\n",
       "      <td>72</td>\n",
       "      <td>Male</td>\n",
       "      <td>France</td>\n",
       "      <td>9614</td>\n",
       "      <td>5.17</td>\n",
       "      <td>319600</td>\n",
       "      <td>13.4</td>\n",
       "      <td>94</td>\n",
       "      <td>False</td>\n",
       "      <td>True</td>\n",
       "      <td>...</td>\n",
       "      <td>True</td>\n",
       "      <td>False</td>\n",
       "      <td>False</td>\n",
       "      <td>27.7</td>\n",
       "      <td>False</td>\n",
       "      <td>False</td>\n",
       "      <td>Ethnic_Group_B</td>\n",
       "      <td>Low</td>\n",
       "      <td>Urban</td>\n",
       "      <td>Negative</td>\n",
       "    </tr>\n",
       "    <tr>\n",
       "      <th>4</th>\n",
       "      <td>61</td>\n",
       "      <td>Male</td>\n",
       "      <td>Brazil</td>\n",
       "      <td>6278</td>\n",
       "      <td>5.41</td>\n",
       "      <td>215200</td>\n",
       "      <td>11.6</td>\n",
       "      <td>50</td>\n",
       "      <td>False</td>\n",
       "      <td>False</td>\n",
       "      <td>...</td>\n",
       "      <td>False</td>\n",
       "      <td>False</td>\n",
       "      <td>False</td>\n",
       "      <td>31.6</td>\n",
       "      <td>False</td>\n",
       "      <td>False</td>\n",
       "      <td>Ethnic_Group_A</td>\n",
       "      <td>Medium</td>\n",
       "      <td>Rural</td>\n",
       "      <td>Negative</td>\n",
       "    </tr>\n",
       "    <tr>\n",
       "      <th>5</th>\n",
       "      <td>21</td>\n",
       "      <td>Male</td>\n",
       "      <td>Brazil</td>\n",
       "      <td>8342</td>\n",
       "      <td>4.78</td>\n",
       "      <td>309169</td>\n",
       "      <td>14.3</td>\n",
       "      <td>28</td>\n",
       "      <td>False</td>\n",
       "      <td>False</td>\n",
       "      <td>...</td>\n",
       "      <td>False</td>\n",
       "      <td>False</td>\n",
       "      <td>False</td>\n",
       "      <td>22.3</td>\n",
       "      <td>False</td>\n",
       "      <td>False</td>\n",
       "      <td>Ethnic_Group_B</td>\n",
       "      <td>Low</td>\n",
       "      <td>Rural</td>\n",
       "      <td>Negative</td>\n",
       "    </tr>\n",
       "  </tbody>\n",
       "</table>\n",
       "<p>5 rows × 21 columns</p>\n",
       "</div>"
      ],
      "text/plain": [
       "            Age  Gender Country  WBC_Count  RBC_Count  Platelet_Count  \\\n",
       "Patient_ID                                                              \n",
       "1            52    Male   China       2698       5.36          262493   \n",
       "2            15  Female   China       4857       4.81          277877   \n",
       "3            72    Male  France       9614       5.17          319600   \n",
       "4            61    Male  Brazil       6278       5.41          215200   \n",
       "5            21    Male  Brazil       8342       4.78          309169   \n",
       "\n",
       "            Hemoglobin_Level  Bone_Marrow_Blasts  Genetic_Mutation  \\\n",
       "Patient_ID                                                           \n",
       "1                       12.2                  72              True   \n",
       "2                       11.9                  97              True   \n",
       "3                       13.4                  94             False   \n",
       "4                       11.6                  50             False   \n",
       "5                       14.3                  28             False   \n",
       "\n",
       "            Family_History  ...  Alcohol_Consumption  Radiation_Exposure  \\\n",
       "Patient_ID                  ...                                            \n",
       "1                    False  ...                False               False   \n",
       "2                    False  ...                False               False   \n",
       "3                     True  ...                 True               False   \n",
       "4                    False  ...                False               False   \n",
       "5                    False  ...                False               False   \n",
       "\n",
       "            Infection_History   BMI  Chronic_Illness  Immune_Disorders  \\\n",
       "Patient_ID                                                               \n",
       "1                       False  24.0            False             False   \n",
       "2                       False  28.7            False             False   \n",
       "3                       False  27.7            False             False   \n",
       "4                       False  31.6            False             False   \n",
       "5                       False  22.3            False             False   \n",
       "\n",
       "                 Ethnicity Socioeconomic_Status Urban_Rural Leukemia_Status  \n",
       "Patient_ID                                                                   \n",
       "1           Ethnic_Group_B                  Low       Rural        Negative  \n",
       "2           Ethnic_Group_A                  Low       Urban        Positive  \n",
       "3           Ethnic_Group_B                  Low       Urban        Negative  \n",
       "4           Ethnic_Group_A               Medium       Rural        Negative  \n",
       "5           Ethnic_Group_B                  Low       Rural        Negative  \n",
       "\n",
       "[5 rows x 21 columns]"
      ]
     },
     "execution_count": 1,
     "metadata": {},
     "output_type": "execute_result"
    }
   ],
   "source": [
    "import pandas as pd\n",
    "\n",
    "DATA = '/kaggle/input/leukemia-cancer-risk-prediction-dataset/biased_leukemia_dataset.csv'\n",
    "df = pd.read_csv(filepath_or_buffer=DATA, index_col=['Patient_ID'])\n",
    "for column in ['Genetic_Mutation', 'Family_History', 'Smoking_Status', 'Alcohol_Consumption', 'Radiation_Exposure', 'Infection_History', 'Chronic_Illness', 'Immune_Disorders']:\n",
    "    df[column] = df[column] == 'Yes'\n",
    "df.head()"
   ]
  },
  {
   "cell_type": "markdown",
   "id": "d70a6459",
   "metadata": {
    "papermill": {
     "duration": 0.003829,
     "end_time": "2025-02-02T12:21:47.065331",
     "exception": false,
     "start_time": "2025-02-02T12:21:47.061502",
     "status": "completed"
    },
    "tags": []
   },
   "source": [
    "We're going to visualize before we model, and we want to use as much numeric data as we can, so let's pick out the numeric columns."
   ]
  },
  {
   "cell_type": "code",
   "execution_count": 2,
   "id": "b1239e97",
   "metadata": {
    "execution": {
     "iopub.execute_input": "2025-02-02T12:21:47.074263Z",
     "iopub.status.busy": "2025-02-02T12:21:47.074010Z",
     "iopub.status.idle": "2025-02-02T12:21:47.078460Z",
     "shell.execute_reply": "2025-02-02T12:21:47.077589Z"
    },
    "papermill": {
     "duration": 0.010584,
     "end_time": "2025-02-02T12:21:47.079901",
     "exception": false,
     "start_time": "2025-02-02T12:21:47.069317",
     "status": "completed"
    },
    "tags": []
   },
   "outputs": [],
   "source": [
    "COLUMNS = [column for column, dtype in df.dtypes.to_dict().items() if str(dtype) in {'bool', 'float64', 'int64'} and column != 'Leukemia_Status']\n",
    "RANDOM_STATE = 2025\n",
    "TARGET = 'Leukemia_Status'"
   ]
  },
  {
   "cell_type": "markdown",
   "id": "235169f5",
   "metadata": {
    "papermill": {
     "duration": 0.003695,
     "end_time": "2025-02-02T12:21:47.087589",
     "exception": false,
     "start_time": "2025-02-02T12:21:47.083894",
     "status": "completed"
    },
    "tags": []
   },
   "source": [
    "Fortunately leukemia is rare even among people who are tested for leukemia, so we expect our classes to be unbalanced. Let's have a look."
   ]
  },
  {
   "cell_type": "code",
   "execution_count": 3,
   "id": "76ac0222",
   "metadata": {
    "execution": {
     "iopub.execute_input": "2025-02-02T12:21:47.096355Z",
     "iopub.status.busy": "2025-02-02T12:21:47.096116Z",
     "iopub.status.idle": "2025-02-02T12:21:47.112889Z",
     "shell.execute_reply": "2025-02-02T12:21:47.112009Z"
    },
    "papermill": {
     "duration": 0.022704,
     "end_time": "2025-02-02T12:21:47.114227",
     "exception": false,
     "start_time": "2025-02-02T12:21:47.091523",
     "status": "completed"
    },
    "tags": []
   },
   "outputs": [
    {
     "data": {
      "text/plain": [
       "{'Negative': 121797, 'Positive': 21397}"
      ]
     },
     "execution_count": 3,
     "metadata": {},
     "output_type": "execute_result"
    }
   ],
   "source": [
    "df['Leukemia_Status'].value_counts().to_dict()"
   ]
  },
  {
   "cell_type": "markdown",
   "id": "dd9f06ae",
   "metadata": {
    "papermill": {
     "duration": 0.003842,
     "end_time": "2025-02-02T12:21:47.122173",
     "exception": false,
     "start_time": "2025-02-02T12:21:47.118331",
     "status": "completed"
    },
    "tags": []
   },
   "source": [
    "We have way too much data to plot it all, so let's take a sample."
   ]
  },
  {
   "cell_type": "code",
   "execution_count": 4,
   "id": "10c09e12",
   "metadata": {
    "execution": {
     "iopub.execute_input": "2025-02-02T12:21:47.131117Z",
     "iopub.status.busy": "2025-02-02T12:21:47.130880Z",
     "iopub.status.idle": "2025-02-02T12:21:47.141338Z",
     "shell.execute_reply": "2025-02-02T12:21:47.140726Z"
    },
    "papermill": {
     "duration": 0.016467,
     "end_time": "2025-02-02T12:21:47.142721",
     "exception": false,
     "start_time": "2025-02-02T12:21:47.126254",
     "status": "completed"
    },
    "tags": []
   },
   "outputs": [],
   "source": [
    "sample_df = df.sample(n=5000, random_state=RANDOM_STATE)"
   ]
  },
  {
   "cell_type": "markdown",
   "id": "30487750",
   "metadata": {
    "papermill": {
     "duration": 0.003885,
     "end_time": "2025-02-02T12:21:47.150724",
     "exception": false,
     "start_time": "2025-02-02T12:21:47.146839",
     "status": "completed"
    },
    "tags": []
   },
   "source": [
    "Now let's use TSNE to visualize our data as a scatter plot."
   ]
  },
  {
   "cell_type": "code",
   "execution_count": 5,
   "id": "e85d5324",
   "metadata": {
    "execution": {
     "iopub.execute_input": "2025-02-02T12:21:47.159594Z",
     "iopub.status.busy": "2025-02-02T12:21:47.159356Z",
     "iopub.status.idle": "2025-02-02T12:22:12.529576Z",
     "shell.execute_reply": "2025-02-02T12:22:12.528639Z"
    },
    "papermill": {
     "duration": 25.376753,
     "end_time": "2025-02-02T12:22:12.531601",
     "exception": false,
     "start_time": "2025-02-02T12:21:47.154848",
     "status": "completed"
    },
    "tags": []
   },
   "outputs": [],
   "source": [
    "from sklearn.manifold import TSNE\n",
    "\n",
    "reducer = TSNE(random_state=RANDOM_STATE)\n",
    "plot_df = pd.DataFrame(columns=['x', 'y'], data=reducer.fit_transform(X=sample_df[COLUMNS],))\n",
    "plot_df[TARGET] = sample_df[TARGET].tolist()"
   ]
  },
  {
   "cell_type": "code",
   "execution_count": 6,
   "id": "d926bd7a",
   "metadata": {
    "execution": {
     "iopub.execute_input": "2025-02-02T12:22:12.541572Z",
     "iopub.status.busy": "2025-02-02T12:22:12.541145Z",
     "iopub.status.idle": "2025-02-02T12:22:14.957353Z",
     "shell.execute_reply": "2025-02-02T12:22:14.956458Z"
    },
    "papermill": {
     "duration": 2.42266,
     "end_time": "2025-02-02T12:22:14.958897",
     "exception": false,
     "start_time": "2025-02-02T12:22:12.536237",
     "status": "completed"
    },
    "tags": []
   },
   "outputs": [
    {
     "data": {
      "text/html": [
       "        <script type=\"text/javascript\">\n",
       "        window.PlotlyConfig = {MathJaxConfig: 'local'};\n",
       "        if (window.MathJax && window.MathJax.Hub && window.MathJax.Hub.Config) {window.MathJax.Hub.Config({SVG: {font: \"STIX-Web\"}});}\n",
       "        if (typeof require !== 'undefined') {\n",
       "        require.undef(\"plotly\");\n",
       "        requirejs.config({\n",
       "            paths: {\n",
       "                'plotly': ['https://cdn.plot.ly/plotly-2.35.2.min']\n",
       "            }\n",
       "        });\n",
       "        require(['plotly'], function(Plotly) {\n",
       "            window._Plotly = Plotly;\n",
       "        });\n",
       "        }\n",
       "        </script>\n",
       "        "
      ]
     },
     "metadata": {},
     "output_type": "display_data"
    },
    {
     "data": {
      "text/html": [
       "<iframe\n",
       "    scrolling=\"no\"\n",
       "    width=\"100%\"\n",
       "    height=\"545px\"\n",
       "    src=\"iframe_figures/figure_6.html\"\n",
       "    frameborder=\"0\"\n",
       "    allowfullscreen\n",
       "></iframe>\n"
      ]
     },
     "metadata": {},
     "output_type": "display_data"
    }
   ],
   "source": [
    "from plotly import express\n",
    "from plotly.offline import init_notebook_mode\n",
    "\n",
    "init_notebook_mode(connected=True)\n",
    "express.scatter(data_frame=plot_df, x='x', y='y', color=TARGET).show(renderer='iframe_connected')"
   ]
  },
  {
   "cell_type": "markdown",
   "id": "5b94d90a",
   "metadata": {
    "papermill": {
     "duration": 0.004106,
     "end_time": "2025-02-02T12:22:14.967798",
     "exception": false,
     "start_time": "2025-02-02T12:22:14.963692",
     "status": "completed"
    },
    "tags": []
   },
   "source": [
    "What do we see? We see that TSNE finds some natural clusters, but they do not appear to correspond to our target variable. We should probably have moderate expectations regarding how well our model will predict the target variable. Let's build a model and find out."
   ]
  },
  {
   "cell_type": "markdown",
   "id": "b68b298c",
   "metadata": {
    "papermill": {
     "duration": 0.004183,
     "end_time": "2025-02-02T12:22:14.976227",
     "exception": false,
     "start_time": "2025-02-02T12:22:14.972044",
     "status": "completed"
    },
    "tags": []
   },
   "source": [
    "An initial attempt to model this data gave us a model that did no better than always predicting Negative, so let's try to remedy that by drawing a balanced sample, that is, a sample that has as many positive as negative instances."
   ]
  },
  {
   "cell_type": "code",
   "execution_count": 7,
   "id": "1128308d",
   "metadata": {
    "execution": {
     "iopub.execute_input": "2025-02-02T12:22:14.985541Z",
     "iopub.status.busy": "2025-02-02T12:22:14.985278Z",
     "iopub.status.idle": "2025-02-02T12:22:15.055019Z",
     "shell.execute_reply": "2025-02-02T12:22:15.054134Z"
    },
    "papermill": {
     "duration": 0.076118,
     "end_time": "2025-02-02T12:22:15.056539",
     "exception": false,
     "start_time": "2025-02-02T12:22:14.980421",
     "status": "completed"
    },
    "tags": []
   },
   "outputs": [
    {
     "data": {
      "text/plain": [
       "{'Positive': 21397, 'Negative': 21397}"
      ]
     },
     "execution_count": 7,
     "metadata": {},
     "output_type": "execute_result"
    }
   ],
   "source": [
    "model_positive_df = df[df[TARGET] == 'Positive']\n",
    "model_negative_df = df[df[TARGET] == 'Negative']\n",
    "model_df = pd.concat(axis='index', objs=[model_positive_df, model_negative_df.sample(n=len(model_positive_df), random_state=RANDOM_STATE)])\n",
    "model_df[TARGET].value_counts().to_dict()"
   ]
  },
  {
   "cell_type": "markdown",
   "id": "0704a976",
   "metadata": {
    "papermill": {
     "duration": 0.004336,
     "end_time": "2025-02-02T12:22:15.065532",
     "exception": false,
     "start_time": "2025-02-02T12:22:15.061196",
     "status": "completed"
    },
    "tags": []
   },
   "source": [
    "Now let's build a model. We would expect a tree model to do well for data like this."
   ]
  },
  {
   "cell_type": "code",
   "execution_count": 8,
   "id": "ed7b37e7",
   "metadata": {
    "execution": {
     "iopub.execute_input": "2025-02-02T12:22:15.075257Z",
     "iopub.status.busy": "2025-02-02T12:22:15.074980Z",
     "iopub.status.idle": "2025-02-02T12:22:15.750898Z",
     "shell.execute_reply": "2025-02-02T12:22:15.750027Z"
    },
    "papermill": {
     "duration": 0.6828,
     "end_time": "2025-02-02T12:22:15.752806",
     "exception": false,
     "start_time": "2025-02-02T12:22:15.070006",
     "status": "completed"
    },
    "tags": []
   },
   "outputs": [],
   "source": [
    "from sklearn.model_selection import train_test_split\n",
    "from sklearn.tree import DecisionTreeClassifier\n",
    "\n",
    "X_train, X_test, y_train, y_test = train_test_split(model_df[COLUMNS], model_df[TARGET], test_size=0.2, random_state=RANDOM_STATE, shuffle=True, stratify=model_df[TARGET])\n",
    "tree = DecisionTreeClassifier(random_state=RANDOM_STATE)\n",
    "tree.fit(X=X_train, y=y_train)\n",
    "y_pred = tree.predict(X=X_test)"
   ]
  },
  {
   "cell_type": "markdown",
   "id": "0b4637cc",
   "metadata": {
    "papermill": {
     "duration": 0.004322,
     "end_time": "2025-02-02T12:22:15.762089",
     "exception": false,
     "start_time": "2025-02-02T12:22:15.757767",
     "status": "completed"
    },
    "tags": []
   },
   "source": [
    "How did our model do?"
   ]
  },
  {
   "cell_type": "code",
   "execution_count": 9,
   "id": "29ca655f",
   "metadata": {
    "execution": {
     "iopub.execute_input": "2025-02-02T12:22:15.772011Z",
     "iopub.status.busy": "2025-02-02T12:22:15.771726Z",
     "iopub.status.idle": "2025-02-02T12:22:16.114712Z",
     "shell.execute_reply": "2025-02-02T12:22:16.113708Z"
    },
    "papermill": {
     "duration": 0.349737,
     "end_time": "2025-02-02T12:22:16.116238",
     "exception": false,
     "start_time": "2025-02-02T12:22:15.766501",
     "status": "completed"
    },
    "tags": []
   },
   "outputs": [
    {
     "name": "stdout",
     "output_type": "stream",
     "text": [
      "              precision    recall  f1-score   support\n",
      "\n",
      "    Negative       0.50      0.50      0.50      4280\n",
      "    Positive       0.50      0.50      0.50      4279\n",
      "\n",
      "    accuracy                           0.50      8559\n",
      "   macro avg       0.50      0.50      0.50      8559\n",
      "weighted avg       0.50      0.50      0.50      8559\n",
      "\n"
     ]
    }
   ],
   "source": [
    "from sklearn.metrics import classification_report\n",
    "\n",
    "print(classification_report(y_true=y_test, y_pred=y_pred))"
   ]
  },
  {
   "cell_type": "markdown",
   "id": "493af497",
   "metadata": {
    "papermill": {
     "duration": 0.004205,
     "end_time": "2025-02-02T12:22:16.125090",
     "exception": false,
     "start_time": "2025-02-02T12:22:16.120885",
     "status": "completed"
    },
    "tags": []
   },
   "source": [
    "Our model does exactly as well as guessing, which suggests our data is random/synthetic. Let's do a little more EDA just to check."
   ]
  },
  {
   "cell_type": "code",
   "execution_count": 10,
   "id": "84fb9f1c",
   "metadata": {
    "execution": {
     "iopub.execute_input": "2025-02-02T12:22:16.134898Z",
     "iopub.status.busy": "2025-02-02T12:22:16.134602Z",
     "iopub.status.idle": "2025-02-02T12:22:16.249280Z",
     "shell.execute_reply": "2025-02-02T12:22:16.248489Z"
    },
    "papermill": {
     "duration": 0.121267,
     "end_time": "2025-02-02T12:22:16.250840",
     "exception": false,
     "start_time": "2025-02-02T12:22:16.129573",
     "status": "completed"
    },
    "tags": []
   },
   "outputs": [
    {
     "data": {
      "text/html": [
       "<iframe\n",
       "    scrolling=\"no\"\n",
       "    width=\"100%\"\n",
       "    height=\"545px\"\n",
       "    src=\"iframe_figures/figure_10.html\"\n",
       "    frameborder=\"0\"\n",
       "    allowfullscreen\n",
       "></iframe>\n"
      ]
     },
     "metadata": {},
     "output_type": "display_data"
    }
   ],
   "source": [
    "express.histogram(data_frame=model_df, x='WBC_Count', facet_col=TARGET).show(renderer='iframe_connected')"
   ]
  },
  {
   "cell_type": "markdown",
   "id": "cc07f5cc",
   "metadata": {
    "papermill": {
     "duration": 0.004388,
     "end_time": "2025-02-02T12:22:16.260226",
     "exception": false,
     "start_time": "2025-02-02T12:22:16.255838",
     "status": "completed"
    },
    "tags": []
   },
   "source": [
    "It is highly unlikely that patients with and without leukemia would have identically distributed white blood cell counts, so it's very likely our data is synthetic."
   ]
  }
 ],
 "metadata": {
  "kaggle": {
   "accelerator": "none",
   "dataSources": [
    {
     "datasetId": 6587999,
     "sourceId": 10640467,
     "sourceType": "datasetVersion"
    }
   ],
   "dockerImageVersionId": 30839,
   "isGpuEnabled": false,
   "isInternetEnabled": true,
   "language": "python",
   "sourceType": "notebook"
  },
  "kernelspec": {
   "display_name": "Python 3",
   "language": "python",
   "name": "python3"
  },
  "language_info": {
   "codemirror_mode": {
    "name": "ipython",
    "version": 3
   },
   "file_extension": ".py",
   "mimetype": "text/x-python",
   "name": "python",
   "nbconvert_exporter": "python",
   "pygments_lexer": "ipython3",
   "version": "3.10.12"
  },
  "papermill": {
   "default_parameters": {},
   "duration": 33.680002,
   "end_time": "2025-02-02T12:22:16.884116",
   "environment_variables": {},
   "exception": null,
   "input_path": "__notebook__.ipynb",
   "output_path": "__notebook__.ipynb",
   "parameters": {},
   "start_time": "2025-02-02T12:21:43.204114",
   "version": "2.6.0"
  }
 },
 "nbformat": 4,
 "nbformat_minor": 5
}
