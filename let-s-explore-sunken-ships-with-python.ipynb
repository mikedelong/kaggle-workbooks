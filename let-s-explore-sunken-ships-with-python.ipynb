{
 "cells": [
  {
   "cell_type": "code",
   "execution_count": 1,
   "id": "5271d5b8",
   "metadata": {
    "execution": {
     "iopub.execute_input": "2023-08-09T19:21:57.601975Z",
     "iopub.status.busy": "2023-08-09T19:21:57.601314Z",
     "iopub.status.idle": "2023-08-09T19:21:57.682170Z",
     "shell.execute_reply": "2023-08-09T19:21:57.681308Z"
    },
    "papermill": {
     "duration": 0.08929,
     "end_time": "2023-08-09T19:21:57.684445",
     "exception": false,
     "start_time": "2023-08-09T19:21:57.595155",
     "status": "completed"
    },
    "tags": []
   },
   "outputs": [
    {
     "data": {
      "text/html": [
       "<div>\n",
       "<style scoped>\n",
       "    .dataframe tbody tr th:only-of-type {\n",
       "        vertical-align: middle;\n",
       "    }\n",
       "\n",
       "    .dataframe tbody tr th {\n",
       "        vertical-align: top;\n",
       "    }\n",
       "\n",
       "    .dataframe thead th {\n",
       "        text-align: right;\n",
       "    }\n",
       "</style>\n",
       "<table border=\"1\" class=\"dataframe\">\n",
       "  <thead>\n",
       "    <tr style=\"text-align: right;\">\n",
       "      <th></th>\n",
       "      <th>Ship</th>\n",
       "      <th>Flag</th>\n",
       "      <th>Sunk date</th>\n",
       "      <th>Notes</th>\n",
       "      <th>Coordinates</th>\n",
       "    </tr>\n",
       "  </thead>\n",
       "  <tbody>\n",
       "    <tr>\n",
       "      <th>0</th>\n",
       "      <td>Black Assarca shipwreck</td>\n",
       "      <td>Unknown</td>\n",
       "      <td>Early 7th century (Presumed)</td>\n",
       "      <td>A wreck discovered at Black Assarca Island in ...</td>\n",
       "      <td>NaN</td>\n",
       "    </tr>\n",
       "    <tr>\n",
       "      <th>1</th>\n",
       "      <td>Globe Star</td>\n",
       "      <td>Singapore</td>\n",
       "      <td>27-Apr-73</td>\n",
       "      <td>A cargo ship that ran aground off Mombasa.[1]</td>\n",
       "      <td>4°04′54″S 39°43′12″E</td>\n",
       "    </tr>\n",
       "    <tr>\n",
       "      <th>2</th>\n",
       "      <td>Gulland</td>\n",
       "      <td>Aden</td>\n",
       "      <td>13-Apr-51</td>\n",
       "      <td>A 545-ton Isles-class trawler built for World ...</td>\n",
       "      <td>04°02′50″S 39°43′57″E</td>\n",
       "    </tr>\n",
       "    <tr>\n",
       "      <th>3</th>\n",
       "      <td>Mtongwe</td>\n",
       "      <td>Tanzania</td>\n",
       "      <td>27-Apr-94</td>\n",
       "      <td>A Likoni and Mombasa route ferry that capsized...</td>\n",
       "      <td>NaN</td>\n",
       "    </tr>\n",
       "    <tr>\n",
       "      <th>4</th>\n",
       "      <td>Katina P</td>\n",
       "      <td>Greece</td>\n",
       "      <td>26-Apr-92</td>\n",
       "      <td>An oil tanker that was damaged in a storm, spi...</td>\n",
       "      <td>25°35′S 32°59′E</td>\n",
       "    </tr>\n",
       "  </tbody>\n",
       "</table>\n",
       "</div>"
      ],
      "text/plain": [
       "                      Ship       Flag                     Sunk date  \\\n",
       "0  Black Assarca shipwreck    Unknown  Early 7th century (Presumed)   \n",
       "1               Globe Star  Singapore                     27-Apr-73   \n",
       "2                  Gulland       Aden                     13-Apr-51   \n",
       "3                  Mtongwe   Tanzania                     27-Apr-94   \n",
       "4                 Katina P     Greece                     26-Apr-92   \n",
       "\n",
       "                                               Notes            Coordinates  \n",
       "0  A wreck discovered at Black Assarca Island in ...                    NaN  \n",
       "1      A cargo ship that ran aground off Mombasa.[1]   4°04′54″S 39°43′12″E  \n",
       "2  A 545-ton Isles-class trawler built for World ...  04°02′50″S 39°43′57″E  \n",
       "3  A Likoni and Mombasa route ferry that capsized...                    NaN  \n",
       "4  An oil tanker that was damaged in a storm, spi...        25°35′S 32°59′E  "
      ]
     },
     "execution_count": 1,
     "metadata": {},
     "output_type": "execute_result"
    }
   ],
   "source": [
    "import pandas as pd\n",
    "df = pd.read_csv(filepath_or_buffer='/kaggle/input/shipwrecks-sunk-ships/Shipwrecks or Sunk ships.csv', parse_dates=['Sunk date'])\n",
    "df.head()"
   ]
  },
  {
   "cell_type": "code",
   "execution_count": 2,
   "id": "8d0bacb1",
   "metadata": {
    "execution": {
     "iopub.execute_input": "2023-08-09T19:21:57.693312Z",
     "iopub.status.busy": "2023-08-09T19:21:57.692421Z",
     "iopub.status.idle": "2023-08-09T19:21:57.726959Z",
     "shell.execute_reply": "2023-08-09T19:21:57.725999Z"
    },
    "papermill": {
     "duration": 0.042639,
     "end_time": "2023-08-09T19:21:57.730584",
     "exception": false,
     "start_time": "2023-08-09T19:21:57.687945",
     "status": "completed"
    },
    "tags": []
   },
   "outputs": [
    {
     "name": "stdout",
     "output_type": "stream",
     "text": [
      "<class 'pandas.core.frame.DataFrame'>\n",
      "RangeIndex: 3971 entries, 0 to 3970\n",
      "Data columns (total 5 columns):\n",
      " #   Column       Non-Null Count  Dtype \n",
      "---  ------       --------------  ----- \n",
      " 0   Ship         3952 non-null   object\n",
      " 1   Flag         3202 non-null   object\n",
      " 2   Sunk date    3573 non-null   object\n",
      " 3   Notes        3914 non-null   object\n",
      " 4   Coordinates  1019 non-null   object\n",
      "dtypes: object(5)\n",
      "memory usage: 155.2+ KB\n"
     ]
    }
   ],
   "source": [
    "df.info()"
   ]
  },
  {
   "cell_type": "code",
   "execution_count": 3,
   "id": "888b4e78",
   "metadata": {
    "execution": {
     "iopub.execute_input": "2023-08-09T19:21:57.738954Z",
     "iopub.status.busy": "2023-08-09T19:21:57.738569Z",
     "iopub.status.idle": "2023-08-09T19:21:58.412545Z",
     "shell.execute_reply": "2023-08-09T19:21:58.411511Z"
    },
    "papermill": {
     "duration": 0.681353,
     "end_time": "2023-08-09T19:21:58.415333",
     "exception": false,
     "start_time": "2023-08-09T19:21:57.733980",
     "status": "completed"
    },
    "tags": []
   },
   "outputs": [
    {
     "data": {
      "text/plain": [
       "<Axes: ylabel='Frequency'>"
      ]
     },
     "execution_count": 3,
     "metadata": {},
     "output_type": "execute_result"
    },
    {
     "data": {
      "image/png": "[encoded data removed]",
      "text/plain": [
       "<Figure size 640x480 with 1 Axes>"
      ]
     },
     "metadata": {},
     "output_type": "display_data"
    }
   ],
   "source": [
    "from numpy import nan\n",
    "def get_year(arg) -> float:\n",
    "    if isinstance(arg, float):\n",
    "        return arg\n",
    "    if isinstance(arg, str):\n",
    "        if arg.isnumeric():\n",
    "            return int(arg)\n",
    "    pieces = arg.split('-')\n",
    "    if pieces[-1].isnumeric():\n",
    "        return 1900 + int(pieces[-1])\n",
    "    pieces = arg.split()\n",
    "    if pieces[-1].isnumeric():\n",
    "        return int(pieces[-1])\n",
    "    return nan\n",
    "df['year'] = df['Sunk date'].apply(get_year)\n",
    "# we can cut off the left tail of the histogram and not lose any story\n",
    "df[df['year'] > 1600][['year']].plot.hist(bins=100)"
   ]
  },
  {
   "cell_type": "markdown",
   "id": "503f37b5",
   "metadata": {
    "papermill": {
     "duration": 0.003696,
     "end_time": "2023-08-09T19:21:58.423179",
     "exception": false,
     "start_time": "2023-08-09T19:21:58.419483",
     "status": "completed"
    },
    "tags": []
   },
   "source": [
    "Are we shocked that they cluster around World War II? We are not."
   ]
  },
  {
   "cell_type": "markdown",
   "id": "9b914614",
   "metadata": {
    "papermill": {
     "duration": 0.003625,
     "end_time": "2023-08-09T19:21:58.431206",
     "exception": false,
     "start_time": "2023-08-09T19:21:58.427581",
     "status": "completed"
    },
    "tags": []
   },
   "source": [
    "What percentage of cases have something possibly useful in the Sunk date column but we don't yet know the year?"
   ]
  },
  {
   "cell_type": "code",
   "execution_count": 4,
   "id": "3a7b41e1",
   "metadata": {
    "execution": {
     "iopub.execute_input": "2023-08-09T19:21:58.441795Z",
     "iopub.status.busy": "2023-08-09T19:21:58.440193Z",
     "iopub.status.idle": "2023-08-09T19:21:58.451782Z",
     "shell.execute_reply": "2023-08-09T19:21:58.450233Z"
    },
    "papermill": {
     "duration": 0.019351,
     "end_time": "2023-08-09T19:21:58.454398",
     "exception": false,
     "start_time": "2023-08-09T19:21:58.435047",
     "status": "completed"
    },
    "tags": []
   },
   "outputs": [
    {
     "data": {
      "text/plain": [
       "12.0"
      ]
     },
     "execution_count": 4,
     "metadata": {},
     "output_type": "execute_result"
    }
   ],
   "source": [
    "100 * round(len(df[(df['year'].isna()) & (df['Sunk date'] != 'Unknown')])/len(df), 2)"
   ]
  }
 ],
 "metadata": {
  "kernelspec": {
   "display_name": "Python 3",
   "language": "python",
   "name": "python3"
  },
  "language_info": {
   "codemirror_mode": {
    "name": "ipython",
    "version": 3
   },
   "file_extension": ".py",
   "mimetype": "text/x-python",
   "name": "python",
   "nbconvert_exporter": "python",
   "pygments_lexer": "ipython3",
   "version": "3.10.12"
  },
  "papermill": {
   "default_parameters": {},
   "duration": 14.063334,
   "end_time": "2023-08-09T19:21:59.380992",
   "environment_variables": {},
   "exception": null,
   "input_path": "__notebook__.ipynb",
   "output_path": "__notebook__.ipynb",
   "parameters": {},
   "start_time": "2023-08-09T19:21:45.317658",
   "version": "2.4.0"
  }
 },
 "nbformat": 4,
 "nbformat_minor": 5
}
