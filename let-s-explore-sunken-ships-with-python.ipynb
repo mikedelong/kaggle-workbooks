{
 "cells": [
  {
   "cell_type": "code",
   "execution_count": 1,
   "id": "4124efbd",
   "metadata": {
    "execution": {
     "iopub.execute_input": "2023-08-09T19:18:19.544956Z",
     "iopub.status.busy": "2023-08-09T19:18:19.544015Z",
     "iopub.status.idle": "2023-08-09T19:18:19.615737Z",
     "shell.execute_reply": "2023-08-09T19:18:19.614623Z"
    },
    "papermill": {
     "duration": 0.07898,
     "end_time": "2023-08-09T19:18:19.618192",
     "exception": false,
     "start_time": "2023-08-09T19:18:19.539212",
     "status": "completed"
    },
    "tags": []
   },
   "outputs": [
    {
     "data": {
      "text/html": [
       "<div>\n",
       "<style scoped>\n",
       "    .dataframe tbody tr th:only-of-type {\n",
       "        vertical-align: middle;\n",
       "    }\n",
       "\n",
       "    .dataframe tbody tr th {\n",
       "        vertical-align: top;\n",
       "    }\n",
       "\n",
       "    .dataframe thead th {\n",
       "        text-align: right;\n",
       "    }\n",
       "</style>\n",
       "<table border=\"1\" class=\"dataframe\">\n",
       "  <thead>\n",
       "    <tr style=\"text-align: right;\">\n",
       "      <th></th>\n",
       "      <th>Ship</th>\n",
       "      <th>Flag</th>\n",
       "      <th>Sunk date</th>\n",
       "      <th>Notes</th>\n",
       "      <th>Coordinates</th>\n",
       "    </tr>\n",
       "  </thead>\n",
       "  <tbody>\n",
       "    <tr>\n",
       "      <th>0</th>\n",
       "      <td>Black Assarca shipwreck</td>\n",
       "      <td>Unknown</td>\n",
       "      <td>Early 7th century (Presumed)</td>\n",
       "      <td>A wreck discovered at Black Assarca Island in ...</td>\n",
       "      <td>NaN</td>\n",
       "    </tr>\n",
       "    <tr>\n",
       "      <th>1</th>\n",
       "      <td>Globe Star</td>\n",
       "      <td>Singapore</td>\n",
       "      <td>27-Apr-73</td>\n",
       "      <td>A cargo ship that ran aground off Mombasa.[1]</td>\n",
       "      <td>4°04′54″S 39°43′12″E</td>\n",
       "    </tr>\n",
       "    <tr>\n",
       "      <th>2</th>\n",
       "      <td>Gulland</td>\n",
       "      <td>Aden</td>\n",
       "      <td>13-Apr-51</td>\n",
       "      <td>A 545-ton Isles-class trawler built for World ...</td>\n",
       "      <td>04°02′50″S 39°43′57″E</td>\n",
       "    </tr>\n",
       "    <tr>\n",
       "      <th>3</th>\n",
       "      <td>Mtongwe</td>\n",
       "      <td>Tanzania</td>\n",
       "      <td>27-Apr-94</td>\n",
       "      <td>A Likoni and Mombasa route ferry that capsized...</td>\n",
       "      <td>NaN</td>\n",
       "    </tr>\n",
       "    <tr>\n",
       "      <th>4</th>\n",
       "      <td>Katina P</td>\n",
       "      <td>Greece</td>\n",
       "      <td>26-Apr-92</td>\n",
       "      <td>An oil tanker that was damaged in a storm, spi...</td>\n",
       "      <td>25°35′S 32°59′E</td>\n",
       "    </tr>\n",
       "  </tbody>\n",
       "</table>\n",
       "</div>"
      ],
      "text/plain": [
       "                      Ship       Flag                     Sunk date  \\\n",
       "0  Black Assarca shipwreck    Unknown  Early 7th century (Presumed)   \n",
       "1               Globe Star  Singapore                     27-Apr-73   \n",
       "2                  Gulland       Aden                     13-Apr-51   \n",
       "3                  Mtongwe   Tanzania                     27-Apr-94   \n",
       "4                 Katina P     Greece                     26-Apr-92   \n",
       "\n",
       "                                               Notes            Coordinates  \n",
       "0  A wreck discovered at Black Assarca Island in ...                    NaN  \n",
       "1      A cargo ship that ran aground off Mombasa.[1]   4°04′54″S 39°43′12″E  \n",
       "2  A 545-ton Isles-class trawler built for World ...  04°02′50″S 39°43′57″E  \n",
       "3  A Likoni and Mombasa route ferry that capsized...                    NaN  \n",
       "4  An oil tanker that was damaged in a storm, spi...        25°35′S 32°59′E  "
      ]
     },
     "execution_count": 1,
     "metadata": {},
     "output_type": "execute_result"
    }
   ],
   "source": [
    "import pandas as pd\n",
    "df = pd.read_csv(filepath_or_buffer='/kaggle/input/shipwrecks-sunk-ships/Shipwrecks or Sunk ships.csv', parse_dates=['Sunk date'])\n",
    "df.head()"
   ]
  },
  {
   "cell_type": "code",
   "execution_count": 2,
   "id": "ccb06fc8",
   "metadata": {
    "execution": {
     "iopub.execute_input": "2023-08-09T19:18:19.625339Z",
     "iopub.status.busy": "2023-08-09T19:18:19.624661Z",
     "iopub.status.idle": "2023-08-09T19:18:19.654304Z",
     "shell.execute_reply": "2023-08-09T19:18:19.652432Z"
    },
    "papermill": {
     "duration": 0.036106,
     "end_time": "2023-08-09T19:18:19.656973",
     "exception": false,
     "start_time": "2023-08-09T19:18:19.620867",
     "status": "completed"
    },
    "tags": []
   },
   "outputs": [
    {
     "name": "stdout",
     "output_type": "stream",
     "text": [
      "<class 'pandas.core.frame.DataFrame'>\n",
      "RangeIndex: 3971 entries, 0 to 3970\n",
      "Data columns (total 5 columns):\n",
      " #   Column       Non-Null Count  Dtype \n",
      "---  ------       --------------  ----- \n",
      " 0   Ship         3952 non-null   object\n",
      " 1   Flag         3202 non-null   object\n",
      " 2   Sunk date    3573 non-null   object\n",
      " 3   Notes        3914 non-null   object\n",
      " 4   Coordinates  1019 non-null   object\n",
      "dtypes: object(5)\n",
      "memory usage: 155.2+ KB\n"
     ]
    }
   ],
   "source": [
    "df.info()"
   ]
  },
  {
   "cell_type": "code",
   "execution_count": 3,
   "id": "1be13bc2",
   "metadata": {
    "execution": {
     "iopub.execute_input": "2023-08-09T19:18:19.663850Z",
     "iopub.status.busy": "2023-08-09T19:18:19.663282Z",
     "iopub.status.idle": "2023-08-09T19:18:20.190143Z",
     "shell.execute_reply": "2023-08-09T19:18:20.189031Z"
    },
    "papermill": {
     "duration": 0.532673,
     "end_time": "2023-08-09T19:18:20.192315",
     "exception": false,
     "start_time": "2023-08-09T19:18:19.659642",
     "status": "completed"
    },
    "tags": []
   },
   "outputs": [
    {
     "data": {
      "text/plain": [
       "<Axes: ylabel='Frequency'>"
      ]
     },
     "execution_count": 3,
     "metadata": {},
     "output_type": "execute_result"
    },
    {
     "data": {
      "image/png": "[encoded data removed]",
      "text/plain": [
       "<Figure size 640x480 with 1 Axes>"
      ]
     },
     "metadata": {},
     "output_type": "display_data"
    }
   ],
   "source": [
    "from numpy import nan\n",
    "def get_year(arg) -> float:\n",
    "    if isinstance(arg, float):\n",
    "        return arg\n",
    "    if isinstance(arg, str):\n",
    "        if arg.isnumeric():\n",
    "            return int(arg)\n",
    "    pieces = arg.split('-')\n",
    "    if pieces[-1].isnumeric():\n",
    "        return 1900 + int(pieces[-1])\n",
    "    pieces = arg.split()\n",
    "    if pieces[-1].isnumeric():\n",
    "        return int(pieces[-1])\n",
    "    return nan\n",
    "df['year'] = df['Sunk date'].apply(get_year)\n",
    "df[['year']].plot.hist(bins=100)"
   ]
  },
  {
   "cell_type": "markdown",
   "id": "b06c690f",
   "metadata": {
    "papermill": {
     "duration": 0.002541,
     "end_time": "2023-08-09T19:18:20.197712",
     "exception": false,
     "start_time": "2023-08-09T19:18:20.195171",
     "status": "completed"
    },
    "tags": []
   },
   "source": [
    "What percentage of cases have something possibly useful in the Sunk date column but we don't yet know the year?"
   ]
  },
  {
   "cell_type": "code",
   "execution_count": 4,
   "id": "a434d329",
   "metadata": {
    "execution": {
     "iopub.execute_input": "2023-08-09T19:18:20.205247Z",
     "iopub.status.busy": "2023-08-09T19:18:20.204373Z",
     "iopub.status.idle": "2023-08-09T19:18:20.213768Z",
     "shell.execute_reply": "2023-08-09T19:18:20.212776Z"
    },
    "papermill": {
     "duration": 0.01531,
     "end_time": "2023-08-09T19:18:20.215781",
     "exception": false,
     "start_time": "2023-08-09T19:18:20.200471",
     "status": "completed"
    },
    "tags": []
   },
   "outputs": [
    {
     "data": {
      "text/plain": [
       "12.0"
      ]
     },
     "execution_count": 4,
     "metadata": {},
     "output_type": "execute_result"
    }
   ],
   "source": [
    "100 * round(len(df[(df['year'].isna()) & (df['Sunk date'] != 'Unknown')])/len(df), 2)"
   ]
  }
 ],
 "metadata": {
  "kernelspec": {
   "display_name": "Python 3",
   "language": "python",
   "name": "python3"
  },
  "language_info": {
   "codemirror_mode": {
    "name": "ipython",
    "version": 3
   },
   "file_extension": ".py",
   "mimetype": "text/x-python",
   "name": "python",
   "nbconvert_exporter": "python",
   "pygments_lexer": "ipython3",
   "version": "3.10.12"
  },
  "papermill": {
   "default_parameters": {},
   "duration": 11.330962,
   "end_time": "2023-08-09T19:18:21.039784",
   "environment_variables": {},
   "exception": null,
   "input_path": "__notebook__.ipynb",
   "output_path": "__notebook__.ipynb",
   "parameters": {},
   "start_time": "2023-08-09T19:18:09.708822",
   "version": "2.4.0"
  }
 },
 "nbformat": 4,
 "nbformat_minor": 5
}
