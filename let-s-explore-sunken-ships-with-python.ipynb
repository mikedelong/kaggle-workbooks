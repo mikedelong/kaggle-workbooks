{
 "cells": [
  {
   "cell_type": "code",
   "execution_count": 1,
   "id": "f3d5f312",
   "metadata": {
    "execution": {
     "iopub.execute_input": "2023-08-10T15:10:05.546147Z",
     "iopub.status.busy": "2023-08-10T15:10:05.545243Z",
     "iopub.status.idle": "2023-08-10T15:10:05.607021Z",
     "shell.execute_reply": "2023-08-10T15:10:05.606016Z"
    },
    "papermill": {
     "duration": 0.069883,
     "end_time": "2023-08-10T15:10:05.609694",
     "exception": false,
     "start_time": "2023-08-10T15:10:05.539811",
     "status": "completed"
    },
    "tags": []
   },
   "outputs": [
    {
     "data": {
      "text/html": [
       "<div>\n",
       "<style scoped>\n",
       "    .dataframe tbody tr th:only-of-type {\n",
       "        vertical-align: middle;\n",
       "    }\n",
       "\n",
       "    .dataframe tbody tr th {\n",
       "        vertical-align: top;\n",
       "    }\n",
       "\n",
       "    .dataframe thead th {\n",
       "        text-align: right;\n",
       "    }\n",
       "</style>\n",
       "<table border=\"1\" class=\"dataframe\">\n",
       "  <thead>\n",
       "    <tr style=\"text-align: right;\">\n",
       "      <th></th>\n",
       "      <th>Ship</th>\n",
       "      <th>Flag</th>\n",
       "      <th>Sunk date</th>\n",
       "      <th>Notes</th>\n",
       "      <th>Coordinates</th>\n",
       "    </tr>\n",
       "  </thead>\n",
       "  <tbody>\n",
       "    <tr>\n",
       "      <th>0</th>\n",
       "      <td>Black Assarca shipwreck</td>\n",
       "      <td>Unknown</td>\n",
       "      <td>Early 7th century (Presumed)</td>\n",
       "      <td>A wreck discovered at Black Assarca Island in ...</td>\n",
       "      <td>NaN</td>\n",
       "    </tr>\n",
       "    <tr>\n",
       "      <th>1</th>\n",
       "      <td>Globe Star</td>\n",
       "      <td>Singapore</td>\n",
       "      <td>27-Apr-73</td>\n",
       "      <td>A cargo ship that ran aground off Mombasa.[1]</td>\n",
       "      <td>4°04′54″S 39°43′12″E</td>\n",
       "    </tr>\n",
       "    <tr>\n",
       "      <th>2</th>\n",
       "      <td>Gulland</td>\n",
       "      <td>Aden</td>\n",
       "      <td>13-Apr-51</td>\n",
       "      <td>A 545-ton Isles-class trawler built for World ...</td>\n",
       "      <td>04°02′50″S 39°43′57″E</td>\n",
       "    </tr>\n",
       "    <tr>\n",
       "      <th>3</th>\n",
       "      <td>Mtongwe</td>\n",
       "      <td>Tanzania</td>\n",
       "      <td>27-Apr-94</td>\n",
       "      <td>A Likoni and Mombasa route ferry that capsized...</td>\n",
       "      <td>NaN</td>\n",
       "    </tr>\n",
       "    <tr>\n",
       "      <th>4</th>\n",
       "      <td>Katina P</td>\n",
       "      <td>Greece</td>\n",
       "      <td>26-Apr-92</td>\n",
       "      <td>An oil tanker that was damaged in a storm, spi...</td>\n",
       "      <td>25°35′S 32°59′E</td>\n",
       "    </tr>\n",
       "  </tbody>\n",
       "</table>\n",
       "</div>"
      ],
      "text/plain": [
       "                      Ship       Flag                     Sunk date  \\\n",
       "0  Black Assarca shipwreck    Unknown  Early 7th century (Presumed)   \n",
       "1               Globe Star  Singapore                     27-Apr-73   \n",
       "2                  Gulland       Aden                     13-Apr-51   \n",
       "3                  Mtongwe   Tanzania                     27-Apr-94   \n",
       "4                 Katina P     Greece                     26-Apr-92   \n",
       "\n",
       "                                               Notes            Coordinates  \n",
       "0  A wreck discovered at Black Assarca Island in ...                    NaN  \n",
       "1      A cargo ship that ran aground off Mombasa.[1]   4°04′54″S 39°43′12″E  \n",
       "2  A 545-ton Isles-class trawler built for World ...  04°02′50″S 39°43′57″E  \n",
       "3  A Likoni and Mombasa route ferry that capsized...                    NaN  \n",
       "4  An oil tanker that was damaged in a storm, spi...        25°35′S 32°59′E  "
      ]
     },
     "execution_count": 1,
     "metadata": {},
     "output_type": "execute_result"
    }
   ],
   "source": [
    "import pandas as pd\n",
    "df = pd.read_csv(filepath_or_buffer='/kaggle/input/shipwrecks-sunk-ships/Shipwrecks or Sunk ships.csv', parse_dates=['Sunk date'], \n",
    "                encoding='utf-8', encoding_errors='replace')\n",
    "df.head()"
   ]
  },
  {
   "cell_type": "code",
   "execution_count": 2,
   "id": "703eba06",
   "metadata": {
    "execution": {
     "iopub.execute_input": "2023-08-10T15:10:05.618884Z",
     "iopub.status.busy": "2023-08-10T15:10:05.618519Z",
     "iopub.status.idle": "2023-08-10T15:10:05.646686Z",
     "shell.execute_reply": "2023-08-10T15:10:05.645525Z"
    },
    "papermill": {
     "duration": 0.035887,
     "end_time": "2023-08-10T15:10:05.649578",
     "exception": false,
     "start_time": "2023-08-10T15:10:05.613691",
     "status": "completed"
    },
    "tags": []
   },
   "outputs": [
    {
     "name": "stdout",
     "output_type": "stream",
     "text": [
      "<class 'pandas.core.frame.DataFrame'>\n",
      "RangeIndex: 3971 entries, 0 to 3970\n",
      "Data columns (total 5 columns):\n",
      " #   Column       Non-Null Count  Dtype \n",
      "---  ------       --------------  ----- \n",
      " 0   Ship         3952 non-null   object\n",
      " 1   Flag         3202 non-null   object\n",
      " 2   Sunk date    3573 non-null   object\n",
      " 3   Notes        3914 non-null   object\n",
      " 4   Coordinates  1019 non-null   object\n",
      "dtypes: object(5)\n",
      "memory usage: 155.2+ KB\n"
     ]
    }
   ],
   "source": [
    "df.info()"
   ]
  },
  {
   "cell_type": "code",
   "execution_count": 3,
   "id": "c88c378e",
   "metadata": {
    "execution": {
     "iopub.execute_input": "2023-08-10T15:10:05.659009Z",
     "iopub.status.busy": "2023-08-10T15:10:05.658663Z",
     "iopub.status.idle": "2023-08-10T15:10:06.179528Z",
     "shell.execute_reply": "2023-08-10T15:10:06.178458Z"
    },
    "papermill": {
     "duration": 0.528032,
     "end_time": "2023-08-10T15:10:06.181682",
     "exception": false,
     "start_time": "2023-08-10T15:10:05.653650",
     "status": "completed"
    },
    "tags": []
   },
   "outputs": [
    {
     "data": {
      "text/plain": [
       "<Axes: ylabel='Frequency'>"
      ]
     },
     "execution_count": 3,
     "metadata": {},
     "output_type": "execute_result"
    },
    {
     "data": {
      "image/png": "[encoded data removed]",
      "text/plain": [
       "<Figure size 640x480 with 1 Axes>"
      ]
     },
     "metadata": {},
     "output_type": "display_data"
    }
   ],
   "source": [
    "from numpy import nan\n",
    "def get_year(arg) -> float:\n",
    "    if isinstance(arg, float):\n",
    "        return arg\n",
    "    if isinstance(arg, str):\n",
    "        if arg.isnumeric():\n",
    "            return int(arg)\n",
    "    pieces = arg.split('-')\n",
    "    if pieces[-1].isnumeric():\n",
    "        return 1900 + int(pieces[-1])\n",
    "    pieces = arg.split()\n",
    "    if pieces[-1].isnumeric():\n",
    "        return int(pieces[-1])\n",
    "    return nan\n",
    "df['year'] = df['Sunk date'].apply(get_year)\n",
    "# we can cut off the left tail of the histogram and not lose any story\n",
    "df[df['year'] > 1600][['year']].plot.hist(bins=100)"
   ]
  },
  {
   "cell_type": "markdown",
   "id": "e1fb4a06",
   "metadata": {
    "papermill": {
     "duration": 0.003959,
     "end_time": "2023-08-10T15:10:06.190002",
     "exception": false,
     "start_time": "2023-08-10T15:10:06.186043",
     "status": "completed"
    },
    "tags": []
   },
   "source": [
    "Are we shocked that they cluster around World War II? We are not."
   ]
  },
  {
   "cell_type": "markdown",
   "id": "192d826c",
   "metadata": {
    "papermill": {
     "duration": 0.003941,
     "end_time": "2023-08-10T15:10:06.198014",
     "exception": false,
     "start_time": "2023-08-10T15:10:06.194073",
     "status": "completed"
    },
    "tags": []
   },
   "source": [
    "What percentage of cases have something possibly useful in the Sunk date column but we don't yet know the year?"
   ]
  },
  {
   "cell_type": "code",
   "execution_count": 4,
   "id": "ae88a8df",
   "metadata": {
    "execution": {
     "iopub.execute_input": "2023-08-10T15:10:06.207823Z",
     "iopub.status.busy": "2023-08-10T15:10:06.207433Z",
     "iopub.status.idle": "2023-08-10T15:10:06.215810Z",
     "shell.execute_reply": "2023-08-10T15:10:06.214714Z"
    },
    "papermill": {
     "duration": 0.015788,
     "end_time": "2023-08-10T15:10:06.217817",
     "exception": false,
     "start_time": "2023-08-10T15:10:06.202029",
     "status": "completed"
    },
    "tags": []
   },
   "outputs": [
    {
     "data": {
      "text/plain": [
       "12.0"
      ]
     },
     "execution_count": 4,
     "metadata": {},
     "output_type": "execute_result"
    }
   ],
   "source": [
    "100 * round(len(df[(df['year'].isna()) & (df['Sunk date'] != 'Unknown')])/len(df), 2)"
   ]
  },
  {
   "cell_type": "code",
   "execution_count": 5,
   "id": "23b3dcf1",
   "metadata": {
    "execution": {
     "iopub.execute_input": "2023-08-10T15:10:06.228179Z",
     "iopub.status.busy": "2023-08-10T15:10:06.227787Z",
     "iopub.status.idle": "2023-08-10T15:10:06.234953Z",
     "shell.execute_reply": "2023-08-10T15:10:06.233967Z"
    },
    "papermill": {
     "duration": 0.014782,
     "end_time": "2023-08-10T15:10:06.236925",
     "exception": false,
     "start_time": "2023-08-10T15:10:06.222143",
     "status": "completed"
    },
    "tags": []
   },
   "outputs": [
    {
     "data": {
      "text/plain": [
       "0                      NaN\n",
       "1     4°04′54″S 39°43′12″E\n",
       "2    04°02′50″S 39°43′57″E\n",
       "3                      NaN\n",
       "4          25°35′S 32°59′E\n",
       "Name: Coordinates, dtype: object"
      ]
     },
     "execution_count": 5,
     "metadata": {},
     "output_type": "execute_result"
    }
   ],
   "source": [
    "df['Coordinates'].head()"
   ]
  },
  {
   "cell_type": "code",
   "execution_count": 6,
   "id": "c2a9a015",
   "metadata": {
    "execution": {
     "iopub.execute_input": "2023-08-10T15:10:06.247557Z",
     "iopub.status.busy": "2023-08-10T15:10:06.247176Z",
     "iopub.status.idle": "2023-08-10T15:10:06.263327Z",
     "shell.execute_reply": "2023-08-10T15:10:06.262298Z"
    },
    "papermill": {
     "duration": 0.023994,
     "end_time": "2023-08-10T15:10:06.265500",
     "exception": false,
     "start_time": "2023-08-10T15:10:06.241506",
     "status": "completed"
    },
    "tags": []
   },
   "outputs": [
    {
     "data": {
      "text/html": [
       "<div>\n",
       "<style scoped>\n",
       "    .dataframe tbody tr th:only-of-type {\n",
       "        vertical-align: middle;\n",
       "    }\n",
       "\n",
       "    .dataframe tbody tr th {\n",
       "        vertical-align: top;\n",
       "    }\n",
       "\n",
       "    .dataframe thead th {\n",
       "        text-align: right;\n",
       "    }\n",
       "</style>\n",
       "<table border=\"1\" class=\"dataframe\">\n",
       "  <thead>\n",
       "    <tr style=\"text-align: right;\">\n",
       "      <th></th>\n",
       "      <th>Coordinates</th>\n",
       "    </tr>\n",
       "  </thead>\n",
       "  <tbody>\n",
       "    <tr>\n",
       "      <th>769</th>\n",
       "      <td>51°12′N 2°10′E</td>\n",
       "    </tr>\n",
       "    <tr>\n",
       "      <th>391</th>\n",
       "      <td>57°27′N 10°40′E</td>\n",
       "    </tr>\n",
       "    <tr>\n",
       "      <th>445</th>\n",
       "      <td>37°42′05″N 24°17′02″E</td>\n",
       "    </tr>\n",
       "    <tr>\n",
       "      <th>3408</th>\n",
       "      <td>28°43′40″S 113°42′20″E</td>\n",
       "    </tr>\n",
       "    <tr>\n",
       "      <th>3694</th>\n",
       "      <td>40°26′35″N 017°15′06″E</td>\n",
       "    </tr>\n",
       "  </tbody>\n",
       "</table>\n",
       "</div>"
      ],
      "text/plain": [
       "                 Coordinates\n",
       "769           51°12′N 2°10′E\n",
       "391          57°27′N 10°40′E\n",
       "445    37°42′05″N 24°17′02″E\n",
       "3408  28°43′40″S 113°42′20″E\n",
       "3694  40°26′35″N 017°15′06″E"
      ]
     },
     "execution_count": 6,
     "metadata": {},
     "output_type": "execute_result"
    }
   ],
   "source": [
    "# remove special cases and extra coordinates\n",
    "def drop_extras(arg):\n",
    "    if isinstance(arg, float):\n",
    "        return nan\n",
    "    if arg in {'E', 'An E'}:\n",
    "        return nan\n",
    "    if not isinstance(arg, str):\n",
    "        return nan\n",
    "    arg = arg.split('/')[0]\n",
    "    return arg\n",
    "\n",
    "df['Coordinates'] = df['Coordinates'].apply(func=drop_extras)\n",
    "\n",
    "df[df['Coordinates'].notnull()][['Coordinates']].sample(n=5)\n",
    "# this data is kind of messy; we'll need to do further work before we can make a map"
   ]
  },
  {
   "cell_type": "code",
   "execution_count": 7,
   "id": "8b69bd8a",
   "metadata": {
    "execution": {
     "iopub.execute_input": "2023-08-10T15:10:06.276693Z",
     "iopub.status.busy": "2023-08-10T15:10:06.276075Z",
     "iopub.status.idle": "2023-08-10T15:10:06.305690Z",
     "shell.execute_reply": "2023-08-10T15:10:06.304651Z"
    },
    "papermill": {
     "duration": 0.037606,
     "end_time": "2023-08-10T15:10:06.307799",
     "exception": false,
     "start_time": "2023-08-10T15:10:06.270193",
     "status": "completed"
    },
    "tags": []
   },
   "outputs": [
    {
     "data": {
      "text/html": [
       "<div>\n",
       "<style scoped>\n",
       "    .dataframe tbody tr th:only-of-type {\n",
       "        vertical-align: middle;\n",
       "    }\n",
       "\n",
       "    .dataframe tbody tr th {\n",
       "        vertical-align: top;\n",
       "    }\n",
       "\n",
       "    .dataframe thead th {\n",
       "        text-align: right;\n",
       "    }\n",
       "</style>\n",
       "<table border=\"1\" class=\"dataframe\">\n",
       "  <thead>\n",
       "    <tr style=\"text-align: right;\">\n",
       "      <th></th>\n",
       "      <th>Ship</th>\n",
       "      <th>Flag</th>\n",
       "      <th>Sunk date</th>\n",
       "      <th>Notes</th>\n",
       "      <th>Coordinates</th>\n",
       "      <th>year</th>\n",
       "    </tr>\n",
       "  </thead>\n",
       "  <tbody>\n",
       "    <tr>\n",
       "      <th>3142</th>\n",
       "      <td>Yūdachi</td>\n",
       "      <td>Imperial Japanese Navy</td>\n",
       "      <td>13-Nov-42</td>\n",
       "      <td>A Japanese Shiratsuyu-class destroyer that was...</td>\n",
       "      <td>09°14'S 159°52'E</td>\n",
       "      <td>1942.0</td>\n",
       "    </tr>\n",
       "    <tr>\n",
       "      <th>70</th>\n",
       "      <td>Oceanos</td>\n",
       "      <td>Greece</td>\n",
       "      <td>4-Aug-91</td>\n",
       "      <td>A cruise liner that sank off the Transkei coas...</td>\n",
       "      <td>32°07'15\"S 29°07'13\"E</td>\n",
       "      <td>1991.0</td>\n",
       "    </tr>\n",
       "    <tr>\n",
       "      <th>3820</th>\n",
       "      <td>Adolf Vinnen</td>\n",
       "      <td>Kriegsmarine</td>\n",
       "      <td>23-Oct-40</td>\n",
       "      <td>A weather ship that was sunk by British ships ...</td>\n",
       "      <td>62°29'N 4°23'E</td>\n",
       "      <td>1940.0</td>\n",
       "    </tr>\n",
       "    <tr>\n",
       "      <th>18</th>\n",
       "      <td>HMS Ibis</td>\n",
       "      <td>Royal Navy</td>\n",
       "      <td>10-Nov-42</td>\n",
       "      <td>A Black Swan-class sloop that was sunk by an I...</td>\n",
       "      <td>37°0'N 3°0'E</td>\n",
       "      <td>1942.0</td>\n",
       "    </tr>\n",
       "    <tr>\n",
       "      <th>3389</th>\n",
       "      <td>Loch Ard</td>\n",
       "      <td>NaN</td>\n",
       "      <td>1 June 1878</td>\n",
       "      <td>Struck Mutton Bird Island.</td>\n",
       "      <td>38°38'55\"S 143°04'19\"E</td>\n",
       "      <td>1878.0</td>\n",
       "    </tr>\n",
       "  </tbody>\n",
       "</table>\n",
       "</div>"
      ],
      "text/plain": [
       "              Ship                    Flag    Sunk date  \\\n",
       "3142       Yūdachi  Imperial Japanese Navy    13-Nov-42   \n",
       "70         Oceanos                  Greece     4-Aug-91   \n",
       "3820  Adolf Vinnen            Kriegsmarine    23-Oct-40   \n",
       "18        HMS Ibis              Royal Navy    10-Nov-42   \n",
       "3389      Loch Ard                     NaN  1 June 1878   \n",
       "\n",
       "                                                  Notes  \\\n",
       "3142  A Japanese Shiratsuyu-class destroyer that was...   \n",
       "70    A cruise liner that sank off the Transkei coas...   \n",
       "3820  A weather ship that was sunk by British ships ...   \n",
       "18    A Black Swan-class sloop that was sunk by an I...   \n",
       "3389                         Struck Mutton Bird Island.   \n",
       "\n",
       "                 Coordinates    year  \n",
       "3142        09°14'S 159°52'E  1942.0  \n",
       "70     32°07'15\"S 29°07'13\"E  1991.0  \n",
       "3820          62°29'N 4°23'E  1940.0  \n",
       "18              37°0'N 3°0'E  1942.0  \n",
       "3389  38°38'55\"S 143°04'19\"E  1878.0  "
      ]
     },
     "execution_count": 7,
     "metadata": {},
     "output_type": "execute_result"
    }
   ],
   "source": [
    "# we need to map non-ASCII primes and double-primes into ASCII single and double quotes\n",
    "# and for some reason our data contains a non-ASCII W\n",
    "char_map = {8242: 39, 8243: 34, 65279: 87}\n",
    "def fix_domain(arg):\n",
    "    if isinstance(arg, float): \n",
    "        return arg\n",
    "    arg = [ord(char) for char in list(arg)]\n",
    "    arg = [char if char not in char_map.keys() else char_map[char] for char in arg]\n",
    "    result = ''.join([chr(char) for char in arg])\n",
    "    return result.replace('WW', 'W')\n",
    "\n",
    "df['Coordinates'] = df['Coordinates'].apply(func=fix_domain)\n",
    "df[df['Coordinates'].notnull()].sample(n=5)"
   ]
  },
  {
   "cell_type": "code",
   "execution_count": 8,
   "id": "faf3802d",
   "metadata": {
    "execution": {
     "iopub.execute_input": "2023-08-10T15:10:06.319358Z",
     "iopub.status.busy": "2023-08-10T15:10:06.318997Z",
     "iopub.status.idle": "2023-08-10T15:10:06.345001Z",
     "shell.execute_reply": "2023-08-10T15:10:06.343904Z"
    },
    "papermill": {
     "duration": 0.034319,
     "end_time": "2023-08-10T15:10:06.347240",
     "exception": false,
     "start_time": "2023-08-10T15:10:06.312921",
     "status": "completed"
    },
    "tags": []
   },
   "outputs": [
    {
     "data": {
      "text/html": [
       "<div>\n",
       "<style scoped>\n",
       "    .dataframe tbody tr th:only-of-type {\n",
       "        vertical-align: middle;\n",
       "    }\n",
       "\n",
       "    .dataframe tbody tr th {\n",
       "        vertical-align: top;\n",
       "    }\n",
       "\n",
       "    .dataframe thead th {\n",
       "        text-align: right;\n",
       "    }\n",
       "</style>\n",
       "<table border=\"1\" class=\"dataframe\">\n",
       "  <thead>\n",
       "    <tr style=\"text-align: right;\">\n",
       "      <th></th>\n",
       "      <th>Ship</th>\n",
       "      <th>Flag</th>\n",
       "      <th>Sunk date</th>\n",
       "      <th>Notes</th>\n",
       "      <th>Coordinates</th>\n",
       "      <th>year</th>\n",
       "      <th>latitude_str</th>\n",
       "      <th>longitude_str</th>\n",
       "    </tr>\n",
       "  </thead>\n",
       "  <tbody>\n",
       "    <tr>\n",
       "      <th>387</th>\n",
       "      <td>HMS Defence</td>\n",
       "      <td>Royal Navy</td>\n",
       "      <td>24 December 1811</td>\n",
       "      <td>A 74-gun third-rate ship of the line that stra...</td>\n",
       "      <td>56°21'30\"N 8°06'00\"E</td>\n",
       "      <td>1811.0</td>\n",
       "      <td>56°21'30\"N</td>\n",
       "      <td>8°06'00\"E</td>\n",
       "    </tr>\n",
       "    <tr>\n",
       "      <th>3101</th>\n",
       "      <td>Ayanami</td>\n",
       "      <td>Imperial Japanese Navy</td>\n",
       "      <td>15-Nov-42</td>\n",
       "      <td>A Japanese Fubuki-class destroyer that was sun...</td>\n",
       "      <td>9°10'S 159°52'E</td>\n",
       "      <td>1942.0</td>\n",
       "      <td>9°10'S</td>\n",
       "      <td>159°52'E</td>\n",
       "    </tr>\n",
       "    <tr>\n",
       "      <th>299</th>\n",
       "      <td>USS Lanakai</td>\n",
       "      <td>United States Navy</td>\n",
       "      <td>1947</td>\n",
       "      <td>A schooner-rigged diesel yacht that was confis...</td>\n",
       "      <td>14°46'N 120°15'E</td>\n",
       "      <td>1947.0</td>\n",
       "      <td>14°46'N</td>\n",
       "      <td>120°15'E</td>\n",
       "    </tr>\n",
       "    <tr>\n",
       "      <th>3441</th>\n",
       "      <td>Rapid</td>\n",
       "      <td>United States</td>\n",
       "      <td>7 January 1811</td>\n",
       "      <td>An American China trader wrecked at Ningaloo R...</td>\n",
       "      <td>22°44'22\"S 113°41'34\"E</td>\n",
       "      <td>1811.0</td>\n",
       "      <td>22°44'22\"S</td>\n",
       "      <td>113°41'34\"E</td>\n",
       "    </tr>\n",
       "    <tr>\n",
       "      <th>1592</th>\n",
       "      <td>USS Eagle Boat 56</td>\n",
       "      <td>United States Navy</td>\n",
       "      <td>23-Apr-45</td>\n",
       "      <td>An Eagle-class patrol boat that was sunk by U-...</td>\n",
       "      <td>43°33'28\"N 70°09'44\"W</td>\n",
       "      <td>1945.0</td>\n",
       "      <td>43°33'28\"N</td>\n",
       "      <td>70°09'44\"W</td>\n",
       "    </tr>\n",
       "  </tbody>\n",
       "</table>\n",
       "</div>"
      ],
      "text/plain": [
       "                   Ship                    Flag         Sunk date  \\\n",
       "387         HMS Defence              Royal Navy  24 December 1811   \n",
       "3101            Ayanami  Imperial Japanese Navy         15-Nov-42   \n",
       "299         USS Lanakai      United States Navy              1947   \n",
       "3441              Rapid           United States    7 January 1811   \n",
       "1592  USS Eagle Boat 56      United States Navy         23-Apr-45   \n",
       "\n",
       "                                                  Notes  \\\n",
       "387   A 74-gun third-rate ship of the line that stra...   \n",
       "3101  A Japanese Fubuki-class destroyer that was sun...   \n",
       "299   A schooner-rigged diesel yacht that was confis...   \n",
       "3441  An American China trader wrecked at Ningaloo R...   \n",
       "1592  An Eagle-class patrol boat that was sunk by U-...   \n",
       "\n",
       "                 Coordinates    year latitude_str longitude_str  \n",
       "387     56°21'30\"N 8°06'00\"E  1811.0   56°21'30\"N     8°06'00\"E  \n",
       "3101         9°10'S 159°52'E  1942.0       9°10'S      159°52'E  \n",
       "299         14°46'N 120°15'E  1947.0      14°46'N      120°15'E  \n",
       "3441  22°44'22\"S 113°41'34\"E  1811.0   22°44'22\"S   113°41'34\"E  \n",
       "1592  43°33'28\"N 70°09'44\"W   1945.0   43°33'28\"N    70°09'44\"W  "
      ]
     },
     "execution_count": 8,
     "metadata": {},
     "output_type": "execute_result"
    }
   ],
   "source": [
    "# now we can split our coordinates into latitude and longitude\n",
    "def get_coord(arg, index):\n",
    "    if not isinstance(arg, str):\n",
    "        return arg\n",
    "    pieces = arg.split()\n",
    "    return pieces[index].strip()\n",
    "\n",
    "df['latitude_str'] = df['Coordinates'].apply(func=get_coord, args=(0, ))\n",
    "df['longitude_str'] = df['Coordinates'].apply(func=get_coord, args=(1, ))\n",
    "df[df['Coordinates'].notnull()].sample(n=5)"
   ]
  },
  {
   "cell_type": "code",
   "execution_count": 9,
   "id": "d9313567",
   "metadata": {
    "execution": {
     "iopub.execute_input": "2023-08-10T15:10:06.359204Z",
     "iopub.status.busy": "2023-08-10T15:10:06.358851Z",
     "iopub.status.idle": "2023-08-10T15:10:06.391194Z",
     "shell.execute_reply": "2023-08-10T15:10:06.390239Z"
    },
    "papermill": {
     "duration": 0.040995,
     "end_time": "2023-08-10T15:10:06.393459",
     "exception": false,
     "start_time": "2023-08-10T15:10:06.352464",
     "status": "completed"
    },
    "tags": []
   },
   "outputs": [
    {
     "data": {
      "text/html": [
       "<div>\n",
       "<style scoped>\n",
       "    .dataframe tbody tr th:only-of-type {\n",
       "        vertical-align: middle;\n",
       "    }\n",
       "\n",
       "    .dataframe tbody tr th {\n",
       "        vertical-align: top;\n",
       "    }\n",
       "\n",
       "    .dataframe thead th {\n",
       "        text-align: right;\n",
       "    }\n",
       "</style>\n",
       "<table border=\"1\" class=\"dataframe\">\n",
       "  <thead>\n",
       "    <tr style=\"text-align: right;\">\n",
       "      <th></th>\n",
       "      <th>Ship</th>\n",
       "      <th>Flag</th>\n",
       "      <th>Sunk date</th>\n",
       "      <th>Notes</th>\n",
       "      <th>Coordinates</th>\n",
       "      <th>year</th>\n",
       "      <th>latitude</th>\n",
       "      <th>longitude</th>\n",
       "    </tr>\n",
       "  </thead>\n",
       "  <tbody>\n",
       "    <tr>\n",
       "      <th>3460</th>\n",
       "      <td>Zeewijk</td>\n",
       "      <td>NaN</td>\n",
       "      <td>9 June 1727</td>\n",
       "      <td>Dutch VOC merchant sailing ship.</td>\n",
       "      <td>28°54'30\"S 113°49'0\"E</td>\n",
       "      <td>1727.0</td>\n",
       "      <td>-28.908333</td>\n",
       "      <td>113.816667</td>\n",
       "    </tr>\n",
       "    <tr>\n",
       "      <th>102</th>\n",
       "      <td>Wafra</td>\n",
       "      <td>Liberia</td>\n",
       "      <td>28-Feb-71</td>\n",
       "      <td>An oil tanker that grounded near Cape Agulhas,...</td>\n",
       "      <td>36°57'S 20°42'E</td>\n",
       "      <td>1971.0</td>\n",
       "      <td>-36.950000</td>\n",
       "      <td>20.700000</td>\n",
       "    </tr>\n",
       "    <tr>\n",
       "      <th>3546</th>\n",
       "      <td>Portugal</td>\n",
       "      <td>Imperial Russian Navy</td>\n",
       "      <td>30-Mar-16</td>\n",
       "      <td>A Russian hospital ship that was torpedoed by ...</td>\n",
       "      <td>42°00'36\"N 41°11'24\"E</td>\n",
       "      <td>1916.0</td>\n",
       "      <td>42.010000</td>\n",
       "      <td>41.190000</td>\n",
       "    </tr>\n",
       "    <tr>\n",
       "      <th>1035</th>\n",
       "      <td>UB-56</td>\n",
       "      <td>Imperial German Navy</td>\n",
       "      <td>19-Dec-17</td>\n",
       "      <td>A Type UB III U-boat that was sunk by a mine.</td>\n",
       "      <td>50°58'N 01°21'E</td>\n",
       "      <td>1917.0</td>\n",
       "      <td>50.966667</td>\n",
       "      <td>1.350000</td>\n",
       "    </tr>\n",
       "    <tr>\n",
       "      <th>3902</th>\n",
       "      <td>SS Hoihow</td>\n",
       "      <td>United Kingdom</td>\n",
       "      <td>2-Jul-43</td>\n",
       "      <td>A passenger ship that was torpedoed by U-181.[5]</td>\n",
       "      <td>19°30'S 55°30'E</td>\n",
       "      <td>1943.0</td>\n",
       "      <td>-19.500000</td>\n",
       "      <td>55.500000</td>\n",
       "    </tr>\n",
       "  </tbody>\n",
       "</table>\n",
       "</div>"
      ],
      "text/plain": [
       "           Ship                   Flag    Sunk date  \\\n",
       "3460    Zeewijk                    NaN  9 June 1727   \n",
       "102       Wafra                Liberia    28-Feb-71   \n",
       "3546   Portugal  Imperial Russian Navy    30-Mar-16   \n",
       "1035      UB-56   Imperial German Navy    19-Dec-17   \n",
       "3902  SS Hoihow         United Kingdom     2-Jul-43   \n",
       "\n",
       "                                                  Notes  \\\n",
       "3460                   Dutch VOC merchant sailing ship.   \n",
       "102   An oil tanker that grounded near Cape Agulhas,...   \n",
       "3546  A Russian hospital ship that was torpedoed by ...   \n",
       "1035      A Type UB III U-boat that was sunk by a mine.   \n",
       "3902   A passenger ship that was torpedoed by U-181.[5]   \n",
       "\n",
       "                Coordinates    year   latitude   longitude  \n",
       "3460  28°54'30\"S 113°49'0\"E  1727.0 -28.908333  113.816667  \n",
       "102         36°57'S 20°42'E  1971.0 -36.950000   20.700000  \n",
       "3546  42°00'36\"N 41°11'24\"E  1916.0  42.010000   41.190000  \n",
       "1035        50°58'N 01°21'E  1917.0  50.966667    1.350000  \n",
       "3902        19°30'S 55°30'E  1943.0 -19.500000   55.500000  "
      ]
     },
     "execution_count": 9,
     "metadata": {},
     "output_type": "execute_result"
    }
   ],
   "source": [
    "from numpy import nan\n",
    "def get_dd(arg) -> float:\n",
    "    if not isinstance(arg, str):\n",
    "        return arg\n",
    "    direction = arg[-1]\n",
    "    multiplier = -1 if direction in {'S', 'W'} else 1\n",
    "    pieces = arg[:-1].replace('°', ' ').replace('\\'', ' ').replace('\\\"', ' ').split()\n",
    "    return multiplier * sum([float(piece)/pow(60, index) for index, piece in enumerate(pieces)])\n",
    "\n",
    "df['latitude'] = df['latitude_str'].apply(func=get_dd)\n",
    "df['longitude'] = df['longitude_str'].apply(func=get_dd)\n",
    "df = df.drop(columns=['latitude_str', 'longitude_str'])\n",
    "df[df['Coordinates'].notnull()].sample(n=5)"
   ]
  },
  {
   "cell_type": "code",
   "execution_count": 10,
   "id": "be85adb2",
   "metadata": {
    "execution": {
     "iopub.execute_input": "2023-08-10T15:10:06.406942Z",
     "iopub.status.busy": "2023-08-10T15:10:06.406593Z",
     "iopub.status.idle": "2023-08-10T15:10:08.089677Z",
     "shell.execute_reply": "2023-08-10T15:10:08.088564Z"
    },
    "papermill": {
     "duration": 1.69191,
     "end_time": "2023-08-10T15:10:08.092053",
     "exception": false,
     "start_time": "2023-08-10T15:10:06.400143",
     "status": "completed"
    },
    "tags": []
   },
   "outputs": [
    {
     "name": "stderr",
     "output_type": "stream",
     "text": [
      "/opt/conda/lib/python3.10/site-packages/scipy/__init__.py:146: UserWarning: A NumPy version >=1.16.5 and <1.23.0 is required for this version of SciPy (detected version 1.23.5\n",
      "  warnings.warn(f\"A NumPy version >={np_minversion} and <{np_maxversion}\"\n"
     ]
    },
    {
     "data": {
      "text/plain": [
       "<Axes: xlabel='longitude', ylabel='latitude'>"
      ]
     },
     "execution_count": 10,
     "metadata": {},
     "output_type": "execute_result"
    },
    {
     "data": {
      "image/png": "[encoded data removed]",
      "text/plain": [
       "<Figure size 640x480 with 1 Axes>"
      ]
     },
     "metadata": {},
     "output_type": "display_data"
    }
   ],
   "source": [
    "# now we can make a scatter plot\n",
    "from seaborn import scatterplot\n",
    "scatterplot(data=df[df['Coordinates'].notnull()], x='longitude', y='latitude')"
   ]
  },
  {
   "cell_type": "markdown",
   "id": "5535753d",
   "metadata": {
    "papermill": {
     "duration": 0.006326,
     "end_time": "2023-08-10T15:10:08.104872",
     "exception": false,
     "start_time": "2023-08-10T15:10:08.098546",
     "status": "completed"
    },
    "tags": []
   },
   "source": [
    "This is kind of encouraging, as we can kind if see the outlines of some familiar features in the scatter plot. But this data would look better on a map."
   ]
  }
 ],
 "metadata": {
  "kernelspec": {
   "display_name": "Python 3",
   "language": "python",
   "name": "python3"
  },
  "language_info": {
   "codemirror_mode": {
    "name": "ipython",
    "version": 3
   },
   "file_extension": ".py",
   "mimetype": "text/x-python",
   "name": "python",
   "nbconvert_exporter": "python",
   "pygments_lexer": "ipython3",
   "version": "3.10.12"
  },
  "papermill": {
   "default_parameters": {},
   "duration": 12.571706,
   "end_time": "2023-08-10T15:10:09.033307",
   "environment_variables": {},
   "exception": null,
   "input_path": "__notebook__.ipynb",
   "output_path": "__notebook__.ipynb",
   "parameters": {},
   "start_time": "2023-08-10T15:09:56.461601",
   "version": "2.4.0"
  }
 },
 "nbformat": 4,
 "nbformat_minor": 5
}
