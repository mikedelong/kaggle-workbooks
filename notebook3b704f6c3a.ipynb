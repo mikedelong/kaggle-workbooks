{
 "cells": [
  {
   "cell_type": "code",
   "execution_count": 1,
   "id": "2fa1e1c9",
   "metadata": {
    "_cell_guid": "b1076dfc-b9ad-4769-8c92-a6c4dae69d19",
    "_uuid": "8f2839f25d086af736a60e9eeb907d3b93b6e0e5",
    "execution": {
     "iopub.execute_input": "2025-02-05T21:29:02.058619Z",
     "iopub.status.busy": "2025-02-05T21:29:02.058298Z",
     "iopub.status.idle": "2025-02-05T21:29:03.148544Z",
     "shell.execute_reply": "2025-02-05T21:29:03.147432Z"
    },
    "papermill": {
     "duration": 1.099173,
     "end_time": "2025-02-05T21:29:03.150326",
     "exception": false,
     "start_time": "2025-02-05T21:29:02.051153",
     "status": "completed"
    },
    "tags": []
   },
   "outputs": [
    {
     "data": {
      "text/html": [
       "<div>\n",
       "<style scoped>\n",
       "    .dataframe tbody tr th:only-of-type {\n",
       "        vertical-align: middle;\n",
       "    }\n",
       "\n",
       "    .dataframe tbody tr th {\n",
       "        vertical-align: top;\n",
       "    }\n",
       "\n",
       "    .dataframe thead th {\n",
       "        text-align: right;\n",
       "    }\n",
       "</style>\n",
       "<table border=\"1\" class=\"dataframe\">\n",
       "  <thead>\n",
       "    <tr style=\"text-align: right;\">\n",
       "      <th></th>\n",
       "      <th>Incident_ID</th>\n",
       "      <th>Date</th>\n",
       "      <th>Location</th>\n",
       "      <th>Area_Burned (Acres)</th>\n",
       "      <th>Homes_Destroyed</th>\n",
       "      <th>Businesses_Destroyed</th>\n",
       "      <th>Vehicles_Damaged</th>\n",
       "      <th>Injuries</th>\n",
       "      <th>Fatalities</th>\n",
       "      <th>Estimated_Financial_Loss (Million $)</th>\n",
       "      <th>Cause</th>\n",
       "      <th>year</th>\n",
       "      <th>month</th>\n",
       "    </tr>\n",
       "  </thead>\n",
       "  <tbody>\n",
       "    <tr>\n",
       "      <th>0</th>\n",
       "      <td>INC1000</td>\n",
       "      <td>2020-11-22</td>\n",
       "      <td>Sonoma County</td>\n",
       "      <td>14048</td>\n",
       "      <td>763</td>\n",
       "      <td>474</td>\n",
       "      <td>235</td>\n",
       "      <td>70</td>\n",
       "      <td>19</td>\n",
       "      <td>2270.57</td>\n",
       "      <td>Lightning</td>\n",
       "      <td>2020</td>\n",
       "      <td>11</td>\n",
       "    </tr>\n",
       "    <tr>\n",
       "      <th>1</th>\n",
       "      <td>INC1001</td>\n",
       "      <td>2021-09-23</td>\n",
       "      <td>Sonoma County</td>\n",
       "      <td>33667</td>\n",
       "      <td>1633</td>\n",
       "      <td>4</td>\n",
       "      <td>263</td>\n",
       "      <td>100</td>\n",
       "      <td>2</td>\n",
       "      <td>1381.14</td>\n",
       "      <td>Lightning</td>\n",
       "      <td>2021</td>\n",
       "      <td>9</td>\n",
       "    </tr>\n",
       "    <tr>\n",
       "      <th>2</th>\n",
       "      <td>INC1002</td>\n",
       "      <td>2022-02-10</td>\n",
       "      <td>Shasta County</td>\n",
       "      <td>26394</td>\n",
       "      <td>915</td>\n",
       "      <td>291</td>\n",
       "      <td>31</td>\n",
       "      <td>50</td>\n",
       "      <td>6</td>\n",
       "      <td>2421.96</td>\n",
       "      <td>Human Activity</td>\n",
       "      <td>2022</td>\n",
       "      <td>2</td>\n",
       "    </tr>\n",
       "    <tr>\n",
       "      <th>3</th>\n",
       "      <td>INC1003</td>\n",
       "      <td>2021-05-17</td>\n",
       "      <td>Sonoma County</td>\n",
       "      <td>20004</td>\n",
       "      <td>1220</td>\n",
       "      <td>128</td>\n",
       "      <td>34</td>\n",
       "      <td>28</td>\n",
       "      <td>0</td>\n",
       "      <td>3964.16</td>\n",
       "      <td>Unknown</td>\n",
       "      <td>2021</td>\n",
       "      <td>5</td>\n",
       "    </tr>\n",
       "    <tr>\n",
       "      <th>4</th>\n",
       "      <td>INC1004</td>\n",
       "      <td>2021-09-22</td>\n",
       "      <td>Sonoma County</td>\n",
       "      <td>40320</td>\n",
       "      <td>794</td>\n",
       "      <td>469</td>\n",
       "      <td>147</td>\n",
       "      <td>0</td>\n",
       "      <td>15</td>\n",
       "      <td>1800.09</td>\n",
       "      <td>Unknown</td>\n",
       "      <td>2021</td>\n",
       "      <td>9</td>\n",
       "    </tr>\n",
       "  </tbody>\n",
       "</table>\n",
       "</div>"
      ],
      "text/plain": [
       "  Incident_ID       Date       Location  Area_Burned (Acres)  Homes_Destroyed  \\\n",
       "0     INC1000 2020-11-22  Sonoma County                14048              763   \n",
       "1     INC1001 2021-09-23  Sonoma County                33667             1633   \n",
       "2     INC1002 2022-02-10  Shasta County                26394              915   \n",
       "3     INC1003 2021-05-17  Sonoma County                20004             1220   \n",
       "4     INC1004 2021-09-22  Sonoma County                40320              794   \n",
       "\n",
       "   Businesses_Destroyed  Vehicles_Damaged  Injuries  Fatalities  \\\n",
       "0                   474               235        70          19   \n",
       "1                     4               263       100           2   \n",
       "2                   291                31        50           6   \n",
       "3                   128                34        28           0   \n",
       "4                   469               147         0          15   \n",
       "\n",
       "   Estimated_Financial_Loss (Million $)           Cause  year  month  \n",
       "0                               2270.57       Lightning  2020     11  \n",
       "1                               1381.14       Lightning  2021      9  \n",
       "2                               2421.96  Human Activity  2022      2  \n",
       "3                               3964.16         Unknown  2021      5  \n",
       "4                               1800.09         Unknown  2021      9  "
      ]
     },
     "execution_count": 1,
     "metadata": {},
     "output_type": "execute_result"
    }
   ],
   "source": [
    "import pandas as pd\n",
    "\n",
    "DATA = '/kaggle/input/california-wildfire-damage-2014-feb2025/California Wildfire Damage.csv'\n",
    "df = pd.read_csv(filepath_or_buffer=DATA, parse_dates=['Date'])\n",
    "df['year'] = df['Date'].dt.year\n",
    "df['month'] = df['Date'].dt.month\n",
    "df.head()"
   ]
  },
  {
   "cell_type": "markdown",
   "id": "9d6a8138",
   "metadata": {
    "papermill": {
     "duration": 0.005034,
     "end_time": "2025-02-05T21:29:03.161125",
     "exception": false,
     "start_time": "2025-02-05T21:29:03.156091",
     "status": "completed"
    },
    "tags": []
   },
   "source": [
    "First let's just make some bar charts and histograms."
   ]
  },
  {
   "cell_type": "code",
   "execution_count": 2,
   "id": "c9a3142a",
   "metadata": {
    "execution": {
     "iopub.execute_input": "2025-02-05T21:29:03.172741Z",
     "iopub.status.busy": "2025-02-05T21:29:03.172335Z",
     "iopub.status.idle": "2025-02-05T21:29:06.364393Z",
     "shell.execute_reply": "2025-02-05T21:29:06.362818Z"
    },
    "papermill": {
     "duration": 3.200129,
     "end_time": "2025-02-05T21:29:06.366476",
     "exception": false,
     "start_time": "2025-02-05T21:29:03.166347",
     "status": "completed"
    },
    "tags": []
   },
   "outputs": [
    {
     "data": {
      "text/html": [
       "        <script type=\"text/javascript\">\n",
       "        window.PlotlyConfig = {MathJaxConfig: 'local'};\n",
       "        if (window.MathJax && window.MathJax.Hub && window.MathJax.Hub.Config) {window.MathJax.Hub.Config({SVG: {font: \"STIX-Web\"}});}\n",
       "        if (typeof require !== 'undefined') {\n",
       "        require.undef(\"plotly\");\n",
       "        requirejs.config({\n",
       "            paths: {\n",
       "                'plotly': ['https://cdn.plot.ly/plotly-2.35.2.min']\n",
       "            }\n",
       "        });\n",
       "        require(['plotly'], function(Plotly) {\n",
       "            window._Plotly = Plotly;\n",
       "        });\n",
       "        }\n",
       "        </script>\n",
       "        "
      ]
     },
     "metadata": {},
     "output_type": "display_data"
    },
    {
     "data": {
      "text/html": [
       "<iframe\n",
       "    scrolling=\"no\"\n",
       "    width=\"100%\"\n",
       "    height=\"545px\"\n",
       "    src=\"iframe_figures/figure_2.html\"\n",
       "    frameborder=\"0\"\n",
       "    allowfullscreen\n",
       "></iframe>\n"
      ]
     },
     "metadata": {},
     "output_type": "display_data"
    }
   ],
   "source": [
    "from plotly import express\n",
    "from plotly.offline import init_notebook_mode\n",
    "\n",
    "init_notebook_mode(connected=True)\n",
    "express.histogram(data_frame=df, x='year').show(renderer='iframe_connected',)"
   ]
  },
  {
   "cell_type": "markdown",
   "id": "fc6c9263",
   "metadata": {
    "papermill": {
     "duration": 0.005361,
     "end_time": "2025-02-05T21:29:06.377716",
     "exception": false,
     "start_time": "2025-02-05T21:29:06.372355",
     "status": "completed"
    },
    "tags": []
   },
   "source": [
    "How many incidents are there in a typical year?"
   ]
  },
  {
   "cell_type": "code",
   "execution_count": 3,
   "id": "c43fa7c0",
   "metadata": {
    "execution": {
     "iopub.execute_input": "2025-02-05T21:29:06.390732Z",
     "iopub.status.busy": "2025-02-05T21:29:06.390341Z",
     "iopub.status.idle": "2025-02-05T21:29:06.406258Z",
     "shell.execute_reply": "2025-02-05T21:29:06.404936Z"
    },
    "papermill": {
     "duration": 0.025166,
     "end_time": "2025-02-05T21:29:06.408367",
     "exception": false,
     "start_time": "2025-02-05T21:29:06.383201",
     "status": "completed"
    },
    "tags": []
   },
   "outputs": [
    {
     "data": {
      "text/plain": [
       "10.0"
      ]
     },
     "execution_count": 3,
     "metadata": {},
     "output_type": "execute_result"
    }
   ],
   "source": [
    "df['year'].value_counts().mean()"
   ]
  },
  {
   "cell_type": "markdown",
   "id": "cfdc88cb",
   "metadata": {
    "papermill": {
     "duration": 0.005363,
     "end_time": "2025-02-05T21:29:06.419553",
     "exception": false,
     "start_time": "2025-02-05T21:29:06.414190",
     "status": "completed"
    },
    "tags": []
   },
   "source": [
    "Is there a fire season?"
   ]
  },
  {
   "cell_type": "code",
   "execution_count": 4,
   "id": "d6e6f69f",
   "metadata": {
    "execution": {
     "iopub.execute_input": "2025-02-05T21:29:06.432926Z",
     "iopub.status.busy": "2025-02-05T21:29:06.432510Z",
     "iopub.status.idle": "2025-02-05T21:29:06.487367Z",
     "shell.execute_reply": "2025-02-05T21:29:06.485943Z"
    },
    "papermill": {
     "duration": 0.063796,
     "end_time": "2025-02-05T21:29:06.489539",
     "exception": false,
     "start_time": "2025-02-05T21:29:06.425743",
     "status": "completed"
    },
    "tags": []
   },
   "outputs": [
    {
     "data": {
      "text/html": [
       "<iframe\n",
       "    scrolling=\"no\"\n",
       "    width=\"100%\"\n",
       "    height=\"545px\"\n",
       "    src=\"iframe_figures/figure_4.html\"\n",
       "    frameborder=\"0\"\n",
       "    allowfullscreen\n",
       "></iframe>\n"
      ]
     },
     "metadata": {},
     "output_type": "display_data"
    }
   ],
   "source": [
    "express.histogram(data_frame=df, x='month', nbins=12).show(renderer='iframe_connected',)"
   ]
  },
  {
   "cell_type": "markdown",
   "id": "76411864",
   "metadata": {
    "papermill": {
     "duration": 0.005579,
     "end_time": "2025-02-05T21:29:06.501464",
     "exception": false,
     "start_time": "2025-02-05T21:29:06.495885",
     "status": "completed"
    },
    "tags": []
   },
   "source": [
    "There is only sort of a fire season; fires happen any month of the year, but they're unevenly distributed."
   ]
  },
  {
   "cell_type": "code",
   "execution_count": 5,
   "id": "98b0e832",
   "metadata": {
    "execution": {
     "iopub.execute_input": "2025-02-05T21:29:06.515190Z",
     "iopub.status.busy": "2025-02-05T21:29:06.514731Z",
     "iopub.status.idle": "2025-02-05T21:29:06.620856Z",
     "shell.execute_reply": "2025-02-05T21:29:06.619606Z"
    },
    "papermill": {
     "duration": 0.114966,
     "end_time": "2025-02-05T21:29:06.622754",
     "exception": false,
     "start_time": "2025-02-05T21:29:06.507788",
     "status": "completed"
    },
    "tags": []
   },
   "outputs": [
    {
     "data": {
      "text/html": [
       "<iframe\n",
       "    scrolling=\"no\"\n",
       "    width=\"100%\"\n",
       "    height=\"545px\"\n",
       "    src=\"iframe_figures/figure_5.html\"\n",
       "    frameborder=\"0\"\n",
       "    allowfullscreen\n",
       "></iframe>\n"
      ]
     },
     "metadata": {},
     "output_type": "display_data"
    }
   ],
   "source": [
    "express.histogram(data_frame=df, x='Area_Burned (Acres)', nbins=40, color='year').show(renderer='iframe_connected',)"
   ]
  },
  {
   "cell_type": "markdown",
   "id": "1ec0d493",
   "metadata": {
    "papermill": {
     "duration": 0.005466,
     "end_time": "2025-02-05T21:29:06.634020",
     "exception": false,
     "start_time": "2025-02-05T21:29:06.628554",
     "status": "completed"
    },
    "tags": []
   },
   "source": [
    "The damage, in terms of acres burned, also seems somewhat randomly distributed, with no real pattern."
   ]
  },
  {
   "cell_type": "code",
   "execution_count": 6,
   "id": "59c43704",
   "metadata": {
    "execution": {
     "iopub.execute_input": "2025-02-05T21:29:06.646843Z",
     "iopub.status.busy": "2025-02-05T21:29:06.646425Z",
     "iopub.status.idle": "2025-02-05T21:29:06.706276Z",
     "shell.execute_reply": "2025-02-05T21:29:06.705212Z"
    },
    "papermill": {
     "duration": 0.068256,
     "end_time": "2025-02-05T21:29:06.708070",
     "exception": false,
     "start_time": "2025-02-05T21:29:06.639814",
     "status": "completed"
    },
    "tags": []
   },
   "outputs": [
    {
     "data": {
      "text/html": [
       "<iframe\n",
       "    scrolling=\"no\"\n",
       "    width=\"100%\"\n",
       "    height=\"545px\"\n",
       "    src=\"iframe_figures/figure_6.html\"\n",
       "    frameborder=\"0\"\n",
       "    allowfullscreen\n",
       "></iframe>\n"
      ]
     },
     "metadata": {},
     "output_type": "display_data"
    }
   ],
   "source": [
    "express.histogram(data_frame=df[['year', 'Area_Burned (Acres)']].groupby(by='year').mean().reset_index(), x='year', y='Area_Burned (Acres)', nbins=16).show(renderer='iframe_connected',)"
   ]
  },
  {
   "cell_type": "markdown",
   "id": "3faa747a",
   "metadata": {
    "papermill": {
     "duration": 0.005551,
     "end_time": "2025-02-05T21:29:06.719617",
     "exception": false,
     "start_time": "2025-02-05T21:29:06.714066",
     "status": "completed"
    },
    "tags": []
   },
   "source": [
    "The average damage per fire per year doesn't show a trend either."
   ]
  },
  {
   "cell_type": "code",
   "execution_count": 7,
   "id": "7e5ff627",
   "metadata": {
    "execution": {
     "iopub.execute_input": "2025-02-05T21:29:06.732768Z",
     "iopub.status.busy": "2025-02-05T21:29:06.732363Z",
     "iopub.status.idle": "2025-02-05T21:29:06.823107Z",
     "shell.execute_reply": "2025-02-05T21:29:06.822071Z"
    },
    "papermill": {
     "duration": 0.099429,
     "end_time": "2025-02-05T21:29:06.824986",
     "exception": false,
     "start_time": "2025-02-05T21:29:06.725557",
     "status": "completed"
    },
    "tags": []
   },
   "outputs": [
    {
     "data": {
      "text/html": [
       "<iframe\n",
       "    scrolling=\"no\"\n",
       "    width=\"100%\"\n",
       "    height=\"545px\"\n",
       "    src=\"iframe_figures/figure_7.html\"\n",
       "    frameborder=\"0\"\n",
       "    allowfullscreen\n",
       "></iframe>\n"
      ]
     },
     "metadata": {},
     "output_type": "display_data"
    }
   ],
   "source": [
    "express.histogram(data_frame=df, x='Homes_Destroyed', nbins=40, color='year').show(renderer='iframe_connected',)"
   ]
  },
  {
   "cell_type": "markdown",
   "id": "cfd5d5c0",
   "metadata": {
    "papermill": {
     "duration": 0.00577,
     "end_time": "2025-02-05T21:29:06.837409",
     "exception": false,
     "start_time": "2025-02-05T21:29:06.831639",
     "status": "completed"
    },
    "tags": []
   },
   "source": [
    "Are they concentrated geographically?"
   ]
  },
  {
   "cell_type": "code",
   "execution_count": 8,
   "id": "0dad685d",
   "metadata": {
    "execution": {
     "iopub.execute_input": "2025-02-05T21:29:06.851009Z",
     "iopub.status.busy": "2025-02-05T21:29:06.850489Z",
     "iopub.status.idle": "2025-02-05T21:29:06.863877Z",
     "shell.execute_reply": "2025-02-05T21:29:06.862794Z"
    },
    "papermill": {
     "duration": 0.02203,
     "end_time": "2025-02-05T21:29:06.865635",
     "exception": false,
     "start_time": "2025-02-05T21:29:06.843605",
     "status": "completed"
    },
    "tags": []
   },
   "outputs": [
    {
     "data": {
      "text/html": [
       "<div>\n",
       "<style scoped>\n",
       "    .dataframe tbody tr th:only-of-type {\n",
       "        vertical-align: middle;\n",
       "    }\n",
       "\n",
       "    .dataframe tbody tr th {\n",
       "        vertical-align: top;\n",
       "    }\n",
       "\n",
       "    .dataframe thead th {\n",
       "        text-align: right;\n",
       "    }\n",
       "</style>\n",
       "<table border=\"1\" class=\"dataframe\">\n",
       "  <thead>\n",
       "    <tr style=\"text-align: right;\">\n",
       "      <th>Location</th>\n",
       "      <th>Shasta County</th>\n",
       "      <th>Sonoma County</th>\n",
       "      <th>San Diego County</th>\n",
       "      <th>Butte County</th>\n",
       "      <th>Mendocino County</th>\n",
       "      <th>Napa Valley</th>\n",
       "      <th>Orange County</th>\n",
       "      <th>Riverside County</th>\n",
       "      <th>Los Angeles County</th>\n",
       "      <th>Santa Barbara County</th>\n",
       "    </tr>\n",
       "  </thead>\n",
       "  <tbody>\n",
       "    <tr>\n",
       "      <th>count</th>\n",
       "      <td>14</td>\n",
       "      <td>12</td>\n",
       "      <td>12</td>\n",
       "      <td>11</td>\n",
       "      <td>11</td>\n",
       "      <td>10</td>\n",
       "      <td>9</td>\n",
       "      <td>8</td>\n",
       "      <td>7</td>\n",
       "      <td>6</td>\n",
       "    </tr>\n",
       "  </tbody>\n",
       "</table>\n",
       "</div>"
      ],
      "text/plain": [
       "Location  Shasta County  Sonoma County  San Diego County  Butte County  \\\n",
       "count                14             12                12            11   \n",
       "\n",
       "Location  Mendocino County  Napa Valley  Orange County  Riverside County  \\\n",
       "count                   11           10              9                 8   \n",
       "\n",
       "Location  Los Angeles County  Santa Barbara County  \n",
       "count                      7                     6  "
      ]
     },
     "execution_count": 8,
     "metadata": {},
     "output_type": "execute_result"
    }
   ],
   "source": [
    "df['Location'].value_counts().to_frame().T"
   ]
  },
  {
   "cell_type": "markdown",
   "id": "2b0b21a9",
   "metadata": {
    "papermill": {
     "duration": 0.005929,
     "end_time": "2025-02-05T21:29:06.877874",
     "exception": false,
     "start_time": "2025-02-05T21:29:06.871945",
     "status": "completed"
    },
    "tags": []
   },
   "source": [
    "Yes. California has 58 counties but only ten are represented in this dataset, and even among those fires are unevenly distributed."
   ]
  },
  {
   "cell_type": "code",
   "execution_count": 9,
   "id": "3dd5147d",
   "metadata": {
    "execution": {
     "iopub.execute_input": "2025-02-05T21:29:06.891488Z",
     "iopub.status.busy": "2025-02-05T21:29:06.891085Z",
     "iopub.status.idle": "2025-02-05T21:29:06.902090Z",
     "shell.execute_reply": "2025-02-05T21:29:06.900806Z"
    },
    "papermill": {
     "duration": 0.019893,
     "end_time": "2025-02-05T21:29:06.903980",
     "exception": false,
     "start_time": "2025-02-05T21:29:06.884087",
     "status": "completed"
    },
    "tags": []
   },
   "outputs": [
    {
     "data": {
      "text/html": [
       "<div>\n",
       "<style scoped>\n",
       "    .dataframe tbody tr th:only-of-type {\n",
       "        vertical-align: middle;\n",
       "    }\n",
       "\n",
       "    .dataframe tbody tr th {\n",
       "        vertical-align: top;\n",
       "    }\n",
       "\n",
       "    .dataframe thead th {\n",
       "        text-align: right;\n",
       "    }\n",
       "</style>\n",
       "<table border=\"1\" class=\"dataframe\">\n",
       "  <thead>\n",
       "    <tr style=\"text-align: right;\">\n",
       "      <th>Cause</th>\n",
       "      <th>Human Activity</th>\n",
       "      <th>Lightning</th>\n",
       "      <th>Unknown</th>\n",
       "    </tr>\n",
       "  </thead>\n",
       "  <tbody>\n",
       "    <tr>\n",
       "      <th>count</th>\n",
       "      <td>38</td>\n",
       "      <td>31</td>\n",
       "      <td>31</td>\n",
       "    </tr>\n",
       "  </tbody>\n",
       "</table>\n",
       "</div>"
      ],
      "text/plain": [
       "Cause  Human Activity  Lightning  Unknown\n",
       "count              38         31       31"
      ]
     },
     "execution_count": 9,
     "metadata": {},
     "output_type": "execute_result"
    }
   ],
   "source": [
    "df['Cause'].value_counts().to_frame().T"
   ]
  },
  {
   "cell_type": "markdown",
   "id": "5f14a1f8",
   "metadata": {
    "papermill": {
     "duration": 0.006089,
     "end_time": "2025-02-05T21:29:06.916455",
     "exception": false,
     "start_time": "2025-02-05T21:29:06.910366",
     "status": "completed"
    },
    "tags": []
   },
   "source": [
    "And of our three recorded causes the fires are pretty evenly distributed."
   ]
  },
  {
   "cell_type": "code",
   "execution_count": 10,
   "id": "996d5f6e",
   "metadata": {
    "execution": {
     "iopub.execute_input": "2025-02-05T21:29:06.930610Z",
     "iopub.status.busy": "2025-02-05T21:29:06.930258Z",
     "iopub.status.idle": "2025-02-05T21:29:06.936483Z",
     "shell.execute_reply": "2025-02-05T21:29:06.935457Z"
    },
    "papermill": {
     "duration": 0.015423,
     "end_time": "2025-02-05T21:29:06.938487",
     "exception": false,
     "start_time": "2025-02-05T21:29:06.923064",
     "status": "completed"
    },
    "tags": []
   },
   "outputs": [
    {
     "data": {
      "text/plain": [
       "Index(['Incident_ID', 'Date', 'Location', 'Area_Burned (Acres)',\n",
       "       'Homes_Destroyed', 'Businesses_Destroyed', 'Vehicles_Damaged',\n",
       "       'Injuries', 'Fatalities', 'Estimated_Financial_Loss (Million $)',\n",
       "       'Cause', 'year', 'month'],\n",
       "      dtype='object')"
      ]
     },
     "execution_count": 10,
     "metadata": {},
     "output_type": "execute_result"
    }
   ],
   "source": [
    "df.columns"
   ]
  },
  {
   "cell_type": "code",
   "execution_count": 11,
   "id": "553d4408",
   "metadata": {
    "execution": {
     "iopub.execute_input": "2025-02-05T21:29:06.952952Z",
     "iopub.status.busy": "2025-02-05T21:29:06.952320Z",
     "iopub.status.idle": "2025-02-05T21:29:09.303353Z",
     "shell.execute_reply": "2025-02-05T21:29:09.302192Z"
    },
    "papermill": {
     "duration": 2.360363,
     "end_time": "2025-02-05T21:29:09.305370",
     "exception": false,
     "start_time": "2025-02-05T21:29:06.945007",
     "status": "completed"
    },
    "tags": []
   },
   "outputs": [],
   "source": [
    "from sklearn.manifold import TSNE\n",
    "\n",
    "COLUMNS = ['Area_Burned (Acres)',\n",
    "       'Homes_Destroyed', 'Businesses_Destroyed', 'Vehicles_Damaged',\n",
    "       'Injuries', 'Fatalities', 'Estimated_Financial_Loss (Million $)']\n",
    "RANDOM_STATE = 2025\n",
    "reducer = TSNE(random_state=2025)\n",
    "plot_df = pd.DataFrame(data=reducer.fit_transform(X=df[COLUMNS]), columns=['x', 'y'])\n",
    "plot_df = pd.concat(axis='columns', objs=[plot_df, df[['Incident_ID', 'Date', 'Location', 'Cause']]])"
   ]
  },
  {
   "cell_type": "code",
   "execution_count": 12,
   "id": "33a4b899",
   "metadata": {
    "execution": {
     "iopub.execute_input": "2025-02-05T21:29:09.320281Z",
     "iopub.status.busy": "2025-02-05T21:29:09.319588Z",
     "iopub.status.idle": "2025-02-05T21:29:09.461447Z",
     "shell.execute_reply": "2025-02-05T21:29:09.460253Z"
    },
    "papermill": {
     "duration": 0.151566,
     "end_time": "2025-02-05T21:29:09.463453",
     "exception": false,
     "start_time": "2025-02-05T21:29:09.311887",
     "status": "completed"
    },
    "tags": []
   },
   "outputs": [
    {
     "data": {
      "text/html": [
       "<iframe\n",
       "    scrolling=\"no\"\n",
       "    width=\"100%\"\n",
       "    height=\"545px\"\n",
       "    src=\"iframe_figures/figure_12.html\"\n",
       "    frameborder=\"0\"\n",
       "    allowfullscreen\n",
       "></iframe>\n"
      ]
     },
     "metadata": {},
     "output_type": "display_data"
    }
   ],
   "source": [
    "express.scatter(data_frame=plot_df, x='x', y='y', color='Location', hover_name='Incident_ID', hover_data=['Date', 'Location', 'Cause']).show(renderer='iframe_connected', )"
   ]
  },
  {
   "cell_type": "markdown",
   "id": "b9fa2e68",
   "metadata": {
    "papermill": {
     "duration": 0.006768,
     "end_time": "2025-02-05T21:29:09.477977",
     "exception": false,
     "start_time": "2025-02-05T21:29:09.471209",
     "status": "completed"
    },
    "tags": []
   },
   "source": [
    "What does this tell us? It tells us that our different ways of estimating severity do not seem to have an underlying variable that causes them to cluster together; also, if we can estimate severity, it doesn't seem to be correlated with location."
   ]
  },
  {
   "cell_type": "code",
   "execution_count": 13,
   "id": "c536f9ab",
   "metadata": {
    "execution": {
     "iopub.execute_input": "2025-02-05T21:29:09.493167Z",
     "iopub.status.busy": "2025-02-05T21:29:09.492634Z",
     "iopub.status.idle": "2025-02-05T21:29:09.564209Z",
     "shell.execute_reply": "2025-02-05T21:29:09.562915Z"
    },
    "papermill": {
     "duration": 0.08101,
     "end_time": "2025-02-05T21:29:09.566029",
     "exception": false,
     "start_time": "2025-02-05T21:29:09.485019",
     "status": "completed"
    },
    "tags": []
   },
   "outputs": [
    {
     "data": {
      "text/html": [
       "<iframe\n",
       "    scrolling=\"no\"\n",
       "    width=\"100%\"\n",
       "    height=\"545px\"\n",
       "    src=\"iframe_figures/figure_13.html\"\n",
       "    frameborder=\"0\"\n",
       "    allowfullscreen\n",
       "></iframe>\n"
      ]
     },
     "metadata": {},
     "output_type": "display_data"
    }
   ],
   "source": [
    "express.scatter(data_frame=plot_df, x='x', y='y', color='Cause', hover_name='Incident_ID', hover_data=['Date', 'Location', 'Cause']).show(renderer='iframe_connected', )"
   ]
  },
  {
   "cell_type": "markdown",
   "id": "c6aceb02",
   "metadata": {
    "papermill": {
     "duration": 0.00621,
     "end_time": "2025-02-05T21:29:09.579094",
     "exception": false,
     "start_time": "2025-02-05T21:29:09.572884",
     "status": "completed"
    },
    "tags": []
   },
   "source": [
    "And we can only see a little clustering by cause."
   ]
  },
  {
   "cell_type": "code",
   "execution_count": 14,
   "id": "7e6a7c63",
   "metadata": {
    "execution": {
     "iopub.execute_input": "2025-02-05T21:29:09.593451Z",
     "iopub.status.busy": "2025-02-05T21:29:09.593078Z",
     "iopub.status.idle": "2025-02-05T21:29:09.607930Z",
     "shell.execute_reply": "2025-02-05T21:29:09.606837Z"
    },
    "papermill": {
     "duration": 0.024188,
     "end_time": "2025-02-05T21:29:09.609744",
     "exception": false,
     "start_time": "2025-02-05T21:29:09.585556",
     "status": "completed"
    },
    "tags": []
   },
   "outputs": [
    {
     "data": {
      "text/html": [
       "<div>\n",
       "<style scoped>\n",
       "    .dataframe tbody tr th:only-of-type {\n",
       "        vertical-align: middle;\n",
       "    }\n",
       "\n",
       "    .dataframe tbody tr th {\n",
       "        vertical-align: top;\n",
       "    }\n",
       "\n",
       "    .dataframe thead th {\n",
       "        text-align: right;\n",
       "    }\n",
       "</style>\n",
       "<table border=\"1\" class=\"dataframe\">\n",
       "  <thead>\n",
       "    <tr style=\"text-align: right;\">\n",
       "      <th></th>\n",
       "      <th>Area_Burned (Acres)</th>\n",
       "      <th>Homes_Destroyed</th>\n",
       "      <th>Businesses_Destroyed</th>\n",
       "      <th>Vehicles_Damaged</th>\n",
       "      <th>Injuries</th>\n",
       "      <th>Fatalities</th>\n",
       "      <th>Estimated_Financial_Loss (Million $)</th>\n",
       "    </tr>\n",
       "  </thead>\n",
       "  <tbody>\n",
       "    <tr>\n",
       "      <th>Area_Burned (Acres)</th>\n",
       "      <td>1.000000</td>\n",
       "      <td>0.051915</td>\n",
       "      <td>0.028195</td>\n",
       "      <td>-0.136432</td>\n",
       "      <td>0.094843</td>\n",
       "      <td>0.050394</td>\n",
       "      <td>0.075187</td>\n",
       "    </tr>\n",
       "    <tr>\n",
       "      <th>Homes_Destroyed</th>\n",
       "      <td>0.051915</td>\n",
       "      <td>1.000000</td>\n",
       "      <td>0.113493</td>\n",
       "      <td>-0.073115</td>\n",
       "      <td>0.015270</td>\n",
       "      <td>-0.045863</td>\n",
       "      <td>0.046645</td>\n",
       "    </tr>\n",
       "    <tr>\n",
       "      <th>Businesses_Destroyed</th>\n",
       "      <td>0.028195</td>\n",
       "      <td>0.113493</td>\n",
       "      <td>1.000000</td>\n",
       "      <td>-0.075566</td>\n",
       "      <td>-0.103607</td>\n",
       "      <td>0.073564</td>\n",
       "      <td>-0.077990</td>\n",
       "    </tr>\n",
       "    <tr>\n",
       "      <th>Vehicles_Damaged</th>\n",
       "      <td>-0.136432</td>\n",
       "      <td>-0.073115</td>\n",
       "      <td>-0.075566</td>\n",
       "      <td>1.000000</td>\n",
       "      <td>0.119331</td>\n",
       "      <td>-0.177314</td>\n",
       "      <td>-0.024450</td>\n",
       "    </tr>\n",
       "    <tr>\n",
       "      <th>Injuries</th>\n",
       "      <td>0.094843</td>\n",
       "      <td>0.015270</td>\n",
       "      <td>-0.103607</td>\n",
       "      <td>0.119331</td>\n",
       "      <td>1.000000</td>\n",
       "      <td>-0.037908</td>\n",
       "      <td>0.079737</td>\n",
       "    </tr>\n",
       "    <tr>\n",
       "      <th>Fatalities</th>\n",
       "      <td>0.050394</td>\n",
       "      <td>-0.045863</td>\n",
       "      <td>0.073564</td>\n",
       "      <td>-0.177314</td>\n",
       "      <td>-0.037908</td>\n",
       "      <td>1.000000</td>\n",
       "      <td>0.184919</td>\n",
       "    </tr>\n",
       "    <tr>\n",
       "      <th>Estimated_Financial_Loss (Million $)</th>\n",
       "      <td>0.075187</td>\n",
       "      <td>0.046645</td>\n",
       "      <td>-0.077990</td>\n",
       "      <td>-0.024450</td>\n",
       "      <td>0.079737</td>\n",
       "      <td>0.184919</td>\n",
       "      <td>1.000000</td>\n",
       "    </tr>\n",
       "  </tbody>\n",
       "</table>\n",
       "</div>"
      ],
      "text/plain": [
       "                                      Area_Burned (Acres)  Homes_Destroyed  \\\n",
       "Area_Burned (Acres)                              1.000000         0.051915   \n",
       "Homes_Destroyed                                  0.051915         1.000000   \n",
       "Businesses_Destroyed                             0.028195         0.113493   \n",
       "Vehicles_Damaged                                -0.136432        -0.073115   \n",
       "Injuries                                         0.094843         0.015270   \n",
       "Fatalities                                       0.050394        -0.045863   \n",
       "Estimated_Financial_Loss (Million $)             0.075187         0.046645   \n",
       "\n",
       "                                      Businesses_Destroyed  Vehicles_Damaged  \\\n",
       "Area_Burned (Acres)                               0.028195         -0.136432   \n",
       "Homes_Destroyed                                   0.113493         -0.073115   \n",
       "Businesses_Destroyed                              1.000000         -0.075566   \n",
       "Vehicles_Damaged                                 -0.075566          1.000000   \n",
       "Injuries                                         -0.103607          0.119331   \n",
       "Fatalities                                        0.073564         -0.177314   \n",
       "Estimated_Financial_Loss (Million $)             -0.077990         -0.024450   \n",
       "\n",
       "                                      Injuries  Fatalities  \\\n",
       "Area_Burned (Acres)                   0.094843    0.050394   \n",
       "Homes_Destroyed                       0.015270   -0.045863   \n",
       "Businesses_Destroyed                 -0.103607    0.073564   \n",
       "Vehicles_Damaged                      0.119331   -0.177314   \n",
       "Injuries                              1.000000   -0.037908   \n",
       "Fatalities                           -0.037908    1.000000   \n",
       "Estimated_Financial_Loss (Million $)  0.079737    0.184919   \n",
       "\n",
       "                                      Estimated_Financial_Loss (Million $)  \n",
       "Area_Burned (Acres)                                               0.075187  \n",
       "Homes_Destroyed                                                   0.046645  \n",
       "Businesses_Destroyed                                             -0.077990  \n",
       "Vehicles_Damaged                                                 -0.024450  \n",
       "Injuries                                                          0.079737  \n",
       "Fatalities                                                        0.184919  \n",
       "Estimated_Financial_Loss (Million $)                              1.000000  "
      ]
     },
     "execution_count": 14,
     "metadata": {},
     "output_type": "execute_result"
    }
   ],
   "source": [
    "df[COLUMNS].corr()"
   ]
  },
  {
   "cell_type": "markdown",
   "id": "e8f716df",
   "metadata": {
    "papermill": {
     "duration": 0.006554,
     "end_time": "2025-02-05T21:29:09.623378",
     "exception": false,
     "start_time": "2025-02-05T21:29:09.616824",
     "status": "completed"
    },
    "tags": []
   },
   "source": [
    "As we might have expected, all our measures of severity are seemingly uncorrelated when we measure using the Pearson correlation."
   ]
  },
  {
   "cell_type": "code",
   "execution_count": 15,
   "id": "de30f1b2",
   "metadata": {
    "execution": {
     "iopub.execute_input": "2025-02-05T21:29:09.638420Z",
     "iopub.status.busy": "2025-02-05T21:29:09.638060Z",
     "iopub.status.idle": "2025-02-05T21:29:09.656369Z",
     "shell.execute_reply": "2025-02-05T21:29:09.655261Z"
    },
    "papermill": {
     "duration": 0.027895,
     "end_time": "2025-02-05T21:29:09.658103",
     "exception": false,
     "start_time": "2025-02-05T21:29:09.630208",
     "status": "completed"
    },
    "tags": []
   },
   "outputs": [
    {
     "data": {
      "text/html": [
       "<div>\n",
       "<style scoped>\n",
       "    .dataframe tbody tr th:only-of-type {\n",
       "        vertical-align: middle;\n",
       "    }\n",
       "\n",
       "    .dataframe tbody tr th {\n",
       "        vertical-align: top;\n",
       "    }\n",
       "\n",
       "    .dataframe thead th {\n",
       "        text-align: right;\n",
       "    }\n",
       "</style>\n",
       "<table border=\"1\" class=\"dataframe\">\n",
       "  <thead>\n",
       "    <tr style=\"text-align: right;\">\n",
       "      <th></th>\n",
       "      <th></th>\n",
       "      <th>count</th>\n",
       "    </tr>\n",
       "    <tr>\n",
       "      <th>Location</th>\n",
       "      <th>Cause</th>\n",
       "      <th></th>\n",
       "    </tr>\n",
       "  </thead>\n",
       "  <tbody>\n",
       "    <tr>\n",
       "      <th rowspan=\"3\" valign=\"top\">Butte County</th>\n",
       "      <th>Human Activity</th>\n",
       "      <td>4</td>\n",
       "    </tr>\n",
       "    <tr>\n",
       "      <th>Lightning</th>\n",
       "      <td>3</td>\n",
       "    </tr>\n",
       "    <tr>\n",
       "      <th>Unknown</th>\n",
       "      <td>4</td>\n",
       "    </tr>\n",
       "    <tr>\n",
       "      <th rowspan=\"3\" valign=\"top\">Los Angeles County</th>\n",
       "      <th>Human Activity</th>\n",
       "      <td>3</td>\n",
       "    </tr>\n",
       "    <tr>\n",
       "      <th>Lightning</th>\n",
       "      <td>3</td>\n",
       "    </tr>\n",
       "    <tr>\n",
       "      <th>Unknown</th>\n",
       "      <td>1</td>\n",
       "    </tr>\n",
       "    <tr>\n",
       "      <th rowspan=\"3\" valign=\"top\">Mendocino County</th>\n",
       "      <th>Human Activity</th>\n",
       "      <td>4</td>\n",
       "    </tr>\n",
       "    <tr>\n",
       "      <th>Lightning</th>\n",
       "      <td>4</td>\n",
       "    </tr>\n",
       "    <tr>\n",
       "      <th>Unknown</th>\n",
       "      <td>3</td>\n",
       "    </tr>\n",
       "    <tr>\n",
       "      <th rowspan=\"3\" valign=\"top\">Napa Valley</th>\n",
       "      <th>Human Activity</th>\n",
       "      <td>6</td>\n",
       "    </tr>\n",
       "    <tr>\n",
       "      <th>Lightning</th>\n",
       "      <td>2</td>\n",
       "    </tr>\n",
       "    <tr>\n",
       "      <th>Unknown</th>\n",
       "      <td>2</td>\n",
       "    </tr>\n",
       "    <tr>\n",
       "      <th rowspan=\"3\" valign=\"top\">Orange County</th>\n",
       "      <th>Human Activity</th>\n",
       "      <td>4</td>\n",
       "    </tr>\n",
       "    <tr>\n",
       "      <th>Lightning</th>\n",
       "      <td>1</td>\n",
       "    </tr>\n",
       "    <tr>\n",
       "      <th>Unknown</th>\n",
       "      <td>4</td>\n",
       "    </tr>\n",
       "    <tr>\n",
       "      <th rowspan=\"3\" valign=\"top\">Riverside County</th>\n",
       "      <th>Human Activity</th>\n",
       "      <td>3</td>\n",
       "    </tr>\n",
       "    <tr>\n",
       "      <th>Lightning</th>\n",
       "      <td>3</td>\n",
       "    </tr>\n",
       "    <tr>\n",
       "      <th>Unknown</th>\n",
       "      <td>2</td>\n",
       "    </tr>\n",
       "    <tr>\n",
       "      <th rowspan=\"3\" valign=\"top\">San Diego County</th>\n",
       "      <th>Human Activity</th>\n",
       "      <td>5</td>\n",
       "    </tr>\n",
       "    <tr>\n",
       "      <th>Lightning</th>\n",
       "      <td>4</td>\n",
       "    </tr>\n",
       "    <tr>\n",
       "      <th>Unknown</th>\n",
       "      <td>3</td>\n",
       "    </tr>\n",
       "    <tr>\n",
       "      <th rowspan=\"3\" valign=\"top\">Santa Barbara County</th>\n",
       "      <th>Human Activity</th>\n",
       "      <td>1</td>\n",
       "    </tr>\n",
       "    <tr>\n",
       "      <th>Lightning</th>\n",
       "      <td>2</td>\n",
       "    </tr>\n",
       "    <tr>\n",
       "      <th>Unknown</th>\n",
       "      <td>3</td>\n",
       "    </tr>\n",
       "    <tr>\n",
       "      <th rowspan=\"3\" valign=\"top\">Shasta County</th>\n",
       "      <th>Human Activity</th>\n",
       "      <td>6</td>\n",
       "    </tr>\n",
       "    <tr>\n",
       "      <th>Lightning</th>\n",
       "      <td>6</td>\n",
       "    </tr>\n",
       "    <tr>\n",
       "      <th>Unknown</th>\n",
       "      <td>2</td>\n",
       "    </tr>\n",
       "    <tr>\n",
       "      <th rowspan=\"3\" valign=\"top\">Sonoma County</th>\n",
       "      <th>Human Activity</th>\n",
       "      <td>2</td>\n",
       "    </tr>\n",
       "    <tr>\n",
       "      <th>Lightning</th>\n",
       "      <td>3</td>\n",
       "    </tr>\n",
       "    <tr>\n",
       "      <th>Unknown</th>\n",
       "      <td>7</td>\n",
       "    </tr>\n",
       "  </tbody>\n",
       "</table>\n",
       "</div>"
      ],
      "text/plain": [
       "                                     count\n",
       "Location             Cause                \n",
       "Butte County         Human Activity      4\n",
       "                     Lightning           3\n",
       "                     Unknown             4\n",
       "Los Angeles County   Human Activity      3\n",
       "                     Lightning           3\n",
       "                     Unknown             1\n",
       "Mendocino County     Human Activity      4\n",
       "                     Lightning           4\n",
       "                     Unknown             3\n",
       "Napa Valley          Human Activity      6\n",
       "                     Lightning           2\n",
       "                     Unknown             2\n",
       "Orange County        Human Activity      4\n",
       "                     Lightning           1\n",
       "                     Unknown             4\n",
       "Riverside County     Human Activity      3\n",
       "                     Lightning           3\n",
       "                     Unknown             2\n",
       "San Diego County     Human Activity      5\n",
       "                     Lightning           4\n",
       "                     Unknown             3\n",
       "Santa Barbara County Human Activity      1\n",
       "                     Lightning           2\n",
       "                     Unknown             3\n",
       "Shasta County        Human Activity      6\n",
       "                     Lightning           6\n",
       "                     Unknown             2\n",
       "Sonoma County        Human Activity      2\n",
       "                     Lightning           3\n",
       "                     Unknown             7"
      ]
     },
     "execution_count": 15,
     "metadata": {},
     "output_type": "execute_result"
    }
   ],
   "source": [
    "df[['Location', 'Cause']].value_counts().to_frame().sort_index()"
   ]
  }
 ],
 "metadata": {
  "kaggle": {
   "accelerator": "none",
   "dataSources": [
    {
     "datasetId": 6607558,
     "sourceId": 10668653,
     "sourceType": "datasetVersion"
    }
   ],
   "dockerImageVersionId": 30839,
   "isGpuEnabled": false,
   "isInternetEnabled": true,
   "language": "python",
   "sourceType": "notebook"
  },
  "kernelspec": {
   "display_name": "Python 3",
   "language": "python",
   "name": "python3"
  },
  "language_info": {
   "codemirror_mode": {
    "name": "ipython",
    "version": 3
   },
   "file_extension": ".py",
   "mimetype": "text/x-python",
   "name": "python",
   "nbconvert_exporter": "python",
   "pygments_lexer": "ipython3",
   "version": "3.10.12"
  },
  "papermill": {
   "default_parameters": {},
   "duration": 11.313626,
   "end_time": "2025-02-05T21:29:10.486965",
   "environment_variables": {},
   "exception": null,
   "input_path": "__notebook__.ipynb",
   "output_path": "__notebook__.ipynb",
   "parameters": {},
   "start_time": "2025-02-05T21:28:59.173339",
   "version": "2.6.0"
  }
 },
 "nbformat": 4,
 "nbformat_minor": 5
}
