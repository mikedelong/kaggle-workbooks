{
 "cells": [
  {
   "cell_type": "code",
   "execution_count": 1,
   "id": "acbf3edf",
   "metadata": {
    "execution": {
     "iopub.execute_input": "2023-12-25T13:10:48.770318Z",
     "iopub.status.busy": "2023-12-25T13:10:48.769949Z",
     "iopub.status.idle": "2023-12-25T13:10:49.181102Z",
     "shell.execute_reply": "2023-12-25T13:10:49.179900Z"
    },
    "papermill": {
     "duration": 0.417761,
     "end_time": "2023-12-25T13:10:49.183980",
     "exception": false,
     "start_time": "2023-12-25T13:10:48.766219",
     "status": "completed"
    },
    "tags": []
   },
   "outputs": [
    {
     "data": {
      "text/html": [
       "<div>\n",
       "<style scoped>\n",
       "    .dataframe tbody tr th:only-of-type {\n",
       "        vertical-align: middle;\n",
       "    }\n",
       "\n",
       "    .dataframe tbody tr th {\n",
       "        vertical-align: top;\n",
       "    }\n",
       "\n",
       "    .dataframe thead th {\n",
       "        text-align: right;\n",
       "    }\n",
       "</style>\n",
       "<table border=\"1\" class=\"dataframe\">\n",
       "  <thead>\n",
       "    <tr style=\"text-align: right;\">\n",
       "      <th></th>\n",
       "      <th>tweet</th>\n",
       "    </tr>\n",
       "  </thead>\n",
       "  <tbody>\n",
       "    <tr>\n",
       "      <th>0</th>\n",
       "      <td>!!! RT @mayasolovely: As a woman you shouldn't...</td>\n",
       "    </tr>\n",
       "    <tr>\n",
       "      <th>1</th>\n",
       "      <td>!!!!! RT @mleew17: boy dats cold...tyga dwn ba...</td>\n",
       "    </tr>\n",
       "    <tr>\n",
       "      <th>2</th>\n",
       "      <td>!!!!!!! RT @UrKindOfBrand Dawg!!!! RT @80sbaby...</td>\n",
       "    </tr>\n",
       "    <tr>\n",
       "      <th>3</th>\n",
       "      <td>!!!!!!!!! RT @C_G_Anderson: @viva_based she lo...</td>\n",
       "    </tr>\n",
       "    <tr>\n",
       "      <th>4</th>\n",
       "      <td>!!!!!!!!!!!!! RT @ShenikaRoberts: The shit you...</td>\n",
       "    </tr>\n",
       "  </tbody>\n",
       "</table>\n",
       "</div>"
      ],
      "text/plain": [
       "                                               tweet\n",
       "0  !!! RT @mayasolovely: As a woman you shouldn't...\n",
       "1  !!!!! RT @mleew17: boy dats cold...tyga dwn ba...\n",
       "2  !!!!!!! RT @UrKindOfBrand Dawg!!!! RT @80sbaby...\n",
       "3  !!!!!!!!! RT @C_G_Anderson: @viva_based she lo...\n",
       "4  !!!!!!!!!!!!! RT @ShenikaRoberts: The shit you..."
      ]
     },
     "execution_count": 1,
     "metadata": {},
     "output_type": "execute_result"
    }
   ],
   "source": [
    "import pandas as pd\n",
    "df = pd.read_csv(filepath_or_buffer='/kaggle/input/hate-speech-and-offensive-language-detection/train.csv',\n",
    "                usecols=['tweet'])\n",
    "df.head()"
   ]
  },
  {
   "cell_type": "code",
   "execution_count": 2,
   "id": "18724df2",
   "metadata": {
    "execution": {
     "iopub.execute_input": "2023-12-25T13:10:49.189597Z",
     "iopub.status.busy": "2023-12-25T13:10:49.189220Z",
     "iopub.status.idle": "2023-12-25T13:10:49.199748Z",
     "shell.execute_reply": "2023-12-25T13:10:49.198629Z"
    },
    "papermill": {
     "duration": 0.016796,
     "end_time": "2023-12-25T13:10:49.203209",
     "exception": false,
     "start_time": "2023-12-25T13:10:49.186413",
     "status": "completed"
    },
    "tags": []
   },
   "outputs": [],
   "source": [
    "stopwords_df = pd.read_csv(filepath_or_buffer='/kaggle/input/nltk-english-stopwords/nltk_eng_stopwords.csv')\n",
    "stopwords = stopwords_df['list_of_stopwords'].values.tolist() "
   ]
  },
  {
   "cell_type": "code",
   "execution_count": 3,
   "id": "15a7e31d",
   "metadata": {
    "execution": {
     "iopub.execute_input": "2023-12-25T13:10:49.208414Z",
     "iopub.status.busy": "2023-12-25T13:10:49.208088Z",
     "iopub.status.idle": "2023-12-25T13:10:50.638124Z",
     "shell.execute_reply": "2023-12-25T13:10:50.637393Z"
    },
    "papermill": {
     "duration": 1.43485,
     "end_time": "2023-12-25T13:10:50.640118",
     "exception": false,
     "start_time": "2023-12-25T13:10:49.205268",
     "status": "completed"
    },
    "tags": []
   },
   "outputs": [
    {
     "data": {
      "text/html": [
       "<div>\n",
       "<style scoped>\n",
       "    .dataframe tbody tr th:only-of-type {\n",
       "        vertical-align: middle;\n",
       "    }\n",
       "\n",
       "    .dataframe tbody tr th {\n",
       "        vertical-align: top;\n",
       "    }\n",
       "\n",
       "    .dataframe thead th {\n",
       "        text-align: right;\n",
       "    }\n",
       "</style>\n",
       "<table border=\"1\" class=\"dataframe\">\n",
       "  <thead>\n",
       "    <tr style=\"text-align: right;\">\n",
       "      <th></th>\n",
       "      <th>word</th>\n",
       "      <th>count</th>\n",
       "    </tr>\n",
       "  </thead>\n",
       "  <tbody>\n",
       "    <tr>\n",
       "      <th>62</th>\n",
       "      <td>the</td>\n",
       "      <td>7209</td>\n",
       "    </tr>\n",
       "    <tr>\n",
       "      <th>8</th>\n",
       "      <td>you</td>\n",
       "      <td>6814</td>\n",
       "    </tr>\n",
       "    <tr>\n",
       "      <th>86</th>\n",
       "      <td>to</td>\n",
       "      <td>5343</td>\n",
       "    </tr>\n",
       "    <tr>\n",
       "      <th>40</th>\n",
       "      <td>that</td>\n",
       "      <td>4043</td>\n",
       "    </tr>\n",
       "    <tr>\n",
       "      <th>63</th>\n",
       "      <td>and</td>\n",
       "      <td>3993</td>\n",
       "    </tr>\n",
       "  </tbody>\n",
       "</table>\n",
       "</div>"
      ],
      "text/plain": [
       "    word  count\n",
       "62   the   7209\n",
       "8    you   6814\n",
       "86    to   5343\n",
       "40  that   4043\n",
       "63   and   3993"
      ]
     },
     "execution_count": 3,
     "metadata": {},
     "output_type": "execute_result"
    }
   ],
   "source": [
    "from sklearn.feature_extraction.text import CountVectorizer\n",
    "stopword_model = CountVectorizer(vocabulary=stopwords)\n",
    "stopword_result = stopword_model.fit_transform(raw_documents=df['tweet'].values)\n",
    "stopword_count_df = pd.DataFrame(data={'word': stopword_model.get_feature_names_out(), 'count': stopword_result.toarray().sum(axis=0)})\n",
    "stopword_count_df.sort_values(ascending=False, by='count').head()"
   ]
  }
 ],
 "metadata": {
  "kaggle": {
   "accelerator": "none",
   "dataSources": [
    {
     "datasetId": 4096079,
     "sourceId": 7105074,
     "sourceType": "datasetVersion"
    },
    {
     "datasetId": 1806231,
     "sourceId": 2946034,
     "sourceType": "datasetVersion"
    }
   ],
   "dockerImageVersionId": 30626,
   "isGpuEnabled": false,
   "isInternetEnabled": true,
   "language": "python",
   "sourceType": "notebook"
  },
  "kernelspec": {
   "display_name": "Python 3",
   "language": "python",
   "name": "python3"
  },
  "language_info": {
   "codemirror_mode": {
    "name": "ipython",
    "version": 3
   },
   "file_extension": ".py",
   "mimetype": "text/x-python",
   "name": "python",
   "nbconvert_exporter": "python",
   "pygments_lexer": "ipython3",
   "version": "3.10.12"
  },
  "papermill": {
   "default_parameters": {},
   "duration": 4.951255,
   "end_time": "2023-12-25T13:10:51.163109",
   "environment_variables": {},
   "exception": null,
   "input_path": "__notebook__.ipynb",
   "output_path": "__notebook__.ipynb",
   "parameters": {},
   "start_time": "2023-12-25T13:10:46.211854",
   "version": "2.4.0"
  }
 },
 "nbformat": 4,
 "nbformat_minor": 5
}
