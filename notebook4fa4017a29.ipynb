{
 "cells": [
  {
   "cell_type": "code",
   "execution_count": 1,
   "id": "0f145922",
   "metadata": {
    "_cell_guid": "b1076dfc-b9ad-4769-8c92-a6c4dae69d19",
    "_uuid": "8f2839f25d086af736a60e9eeb907d3b93b6e0e5",
    "execution": {
     "iopub.execute_input": "2024-07-10T18:42:17.304128Z",
     "iopub.status.busy": "2024-07-10T18:42:17.302738Z",
     "iopub.status.idle": "2024-07-10T18:42:18.539583Z",
     "shell.execute_reply": "2024-07-10T18:42:18.538454Z"
    },
    "papermill": {
     "duration": 1.245371,
     "end_time": "2024-07-10T18:42:18.542323",
     "exception": false,
     "start_time": "2024-07-10T18:42:17.296952",
     "status": "completed"
    },
    "tags": []
   },
   "outputs": [
    {
     "data": {
      "text/html": [
       "<div>\n",
       "<style scoped>\n",
       "    .dataframe tbody tr th:only-of-type {\n",
       "        vertical-align: middle;\n",
       "    }\n",
       "\n",
       "    .dataframe tbody tr th {\n",
       "        vertical-align: top;\n",
       "    }\n",
       "\n",
       "    .dataframe thead th {\n",
       "        text-align: right;\n",
       "    }\n",
       "</style>\n",
       "<table border=\"1\" class=\"dataframe\">\n",
       "  <thead>\n",
       "    <tr style=\"text-align: right;\">\n",
       "      <th></th>\n",
       "      <th>age</th>\n",
       "      <th>workclass</th>\n",
       "      <th>fnlwgt</th>\n",
       "      <th>education</th>\n",
       "      <th>education.num</th>\n",
       "      <th>marital.status</th>\n",
       "      <th>occupation</th>\n",
       "      <th>relationship</th>\n",
       "      <th>race</th>\n",
       "      <th>sex</th>\n",
       "      <th>capital.gain</th>\n",
       "      <th>capital.loss</th>\n",
       "      <th>hours.per.week</th>\n",
       "      <th>native.country</th>\n",
       "      <th>target</th>\n",
       "    </tr>\n",
       "  </thead>\n",
       "  <tbody>\n",
       "    <tr>\n",
       "      <th>0</th>\n",
       "      <td>90</td>\n",
       "      <td>?</td>\n",
       "      <td>77053</td>\n",
       "      <td>HS-grad</td>\n",
       "      <td>9</td>\n",
       "      <td>Widowed</td>\n",
       "      <td>?</td>\n",
       "      <td>Not-in-family</td>\n",
       "      <td>White</td>\n",
       "      <td>Female</td>\n",
       "      <td>0</td>\n",
       "      <td>4356</td>\n",
       "      <td>40</td>\n",
       "      <td>United-States</td>\n",
       "      <td>False</td>\n",
       "    </tr>\n",
       "    <tr>\n",
       "      <th>1</th>\n",
       "      <td>82</td>\n",
       "      <td>Private</td>\n",
       "      <td>132870</td>\n",
       "      <td>HS-grad</td>\n",
       "      <td>9</td>\n",
       "      <td>Widowed</td>\n",
       "      <td>Exec-managerial</td>\n",
       "      <td>Not-in-family</td>\n",
       "      <td>White</td>\n",
       "      <td>Female</td>\n",
       "      <td>0</td>\n",
       "      <td>4356</td>\n",
       "      <td>18</td>\n",
       "      <td>United-States</td>\n",
       "      <td>False</td>\n",
       "    </tr>\n",
       "    <tr>\n",
       "      <th>2</th>\n",
       "      <td>66</td>\n",
       "      <td>?</td>\n",
       "      <td>186061</td>\n",
       "      <td>Some-college</td>\n",
       "      <td>10</td>\n",
       "      <td>Widowed</td>\n",
       "      <td>?</td>\n",
       "      <td>Unmarried</td>\n",
       "      <td>Black</td>\n",
       "      <td>Female</td>\n",
       "      <td>0</td>\n",
       "      <td>4356</td>\n",
       "      <td>40</td>\n",
       "      <td>United-States</td>\n",
       "      <td>False</td>\n",
       "    </tr>\n",
       "    <tr>\n",
       "      <th>3</th>\n",
       "      <td>54</td>\n",
       "      <td>Private</td>\n",
       "      <td>140359</td>\n",
       "      <td>7th-8th</td>\n",
       "      <td>4</td>\n",
       "      <td>Divorced</td>\n",
       "      <td>Machine-op-inspct</td>\n",
       "      <td>Unmarried</td>\n",
       "      <td>White</td>\n",
       "      <td>Female</td>\n",
       "      <td>0</td>\n",
       "      <td>3900</td>\n",
       "      <td>40</td>\n",
       "      <td>United-States</td>\n",
       "      <td>False</td>\n",
       "    </tr>\n",
       "    <tr>\n",
       "      <th>4</th>\n",
       "      <td>41</td>\n",
       "      <td>Private</td>\n",
       "      <td>264663</td>\n",
       "      <td>Some-college</td>\n",
       "      <td>10</td>\n",
       "      <td>Separated</td>\n",
       "      <td>Prof-specialty</td>\n",
       "      <td>Own-child</td>\n",
       "      <td>White</td>\n",
       "      <td>Female</td>\n",
       "      <td>0</td>\n",
       "      <td>3900</td>\n",
       "      <td>40</td>\n",
       "      <td>United-States</td>\n",
       "      <td>False</td>\n",
       "    </tr>\n",
       "  </tbody>\n",
       "</table>\n",
       "</div>"
      ],
      "text/plain": [
       "   age workclass  fnlwgt     education  education.num marital.status  \\\n",
       "0   90         ?   77053       HS-grad              9        Widowed   \n",
       "1   82   Private  132870       HS-grad              9        Widowed   \n",
       "2   66         ?  186061  Some-college             10        Widowed   \n",
       "3   54   Private  140359       7th-8th              4       Divorced   \n",
       "4   41   Private  264663  Some-college             10      Separated   \n",
       "\n",
       "          occupation   relationship   race     sex  capital.gain  \\\n",
       "0                  ?  Not-in-family  White  Female             0   \n",
       "1    Exec-managerial  Not-in-family  White  Female             0   \n",
       "2                  ?      Unmarried  Black  Female             0   \n",
       "3  Machine-op-inspct      Unmarried  White  Female             0   \n",
       "4     Prof-specialty      Own-child  White  Female             0   \n",
       "\n",
       "   capital.loss  hours.per.week native.country  target  \n",
       "0          4356              40  United-States   False  \n",
       "1          4356              18  United-States   False  \n",
       "2          4356              40  United-States   False  \n",
       "3          3900              40  United-States   False  \n",
       "4          3900              40  United-States   False  "
      ]
     },
     "execution_count": 1,
     "metadata": {},
     "output_type": "execute_result"
    }
   ],
   "source": [
    "import pandas as pd\n",
    "\n",
    "DATA = '/kaggle/input/adult-census-income-dataset/adult.csv'\n",
    "\n",
    "df = pd.read_csv(filepath_or_buffer=DATA)\n",
    "# let's change our target variable to binary\n",
    "df['target'] = df['income'] == '>50K'\n",
    "df = df.drop(columns=['income'])\n",
    "# make the columns that aren't numeric or the target to be categorical\n",
    "for column in ['workclass', 'education', 'marital.status', 'occupation', 'relationship', 'race', 'sex', 'native.country']:\n",
    "    df[column] = df[column].astype('category')\n",
    "df.head()"
   ]
  },
  {
   "cell_type": "markdown",
   "id": "0216996c",
   "metadata": {
    "papermill": {
     "duration": 0.003415,
     "end_time": "2024-07-10T18:42:18.549826",
     "exception": false,
     "start_time": "2024-07-10T18:42:18.546411",
     "status": "completed"
    },
    "tags": []
   },
   "source": [
    "Are our classes balanced?"
   ]
  },
  {
   "cell_type": "code",
   "execution_count": 2,
   "id": "00acbb20",
   "metadata": {
    "execution": {
     "iopub.execute_input": "2024-07-10T18:42:18.559014Z",
     "iopub.status.busy": "2024-07-10T18:42:18.558602Z",
     "iopub.status.idle": "2024-07-10T18:42:18.575352Z",
     "shell.execute_reply": "2024-07-10T18:42:18.574161Z"
    },
    "papermill": {
     "duration": 0.024311,
     "end_time": "2024-07-10T18:42:18.577936",
     "exception": false,
     "start_time": "2024-07-10T18:42:18.553625",
     "status": "completed"
    },
    "tags": []
   },
   "outputs": [
    {
     "data": {
      "text/plain": [
       "({False: 24720, True: 7841},\n",
       " {False: 0.7591904425539756, True: 0.2408095574460244})"
      ]
     },
     "execution_count": 2,
     "metadata": {},
     "output_type": "execute_result"
    }
   ],
   "source": [
    "df['target'].value_counts().to_dict(), df['target'].value_counts(normalize=True).to_dict()"
   ]
  },
  {
   "cell_type": "markdown",
   "id": "feed4944",
   "metadata": {
    "papermill": {
     "duration": 0.003512,
     "end_time": "2024-07-10T18:42:18.585438",
     "exception": false,
     "start_time": "2024-07-10T18:42:18.581926",
     "status": "completed"
    },
    "tags": []
   },
   "source": [
    "Our classes are unbalanced; roughly 25% of the target variable is true."
   ]
  },
  {
   "cell_type": "code",
   "execution_count": 3,
   "id": "3bb4cab3",
   "metadata": {
    "execution": {
     "iopub.execute_input": "2024-07-10T18:42:18.594926Z",
     "iopub.status.busy": "2024-07-10T18:42:18.594524Z",
     "iopub.status.idle": "2024-07-10T18:42:22.645511Z",
     "shell.execute_reply": "2024-07-10T18:42:22.644232Z"
    },
    "papermill": {
     "duration": 4.060209,
     "end_time": "2024-07-10T18:42:22.649426",
     "exception": false,
     "start_time": "2024-07-10T18:42:18.589217",
     "status": "completed"
    },
    "tags": []
   },
   "outputs": [
    {
     "name": "stdout",
     "output_type": "stream",
     "text": [
      "[LightGBM] [Info] Number of positive: 6275, number of negative: 19773\n",
      "[LightGBM] [Info] Total Bins 690\n",
      "[LightGBM] [Info] Number of data points in the train set: 26048, number of used features: 14\n",
      "[LightGBM] [Info] [binary:BoostFromScore]: pavg=0.240901 -> initscore=-1.147744\n",
      "[LightGBM] [Info] Start training from score -1.147744\n"
     ]
    }
   ],
   "source": [
    "from lightgbm import LGBMClassifier\n",
    "from sklearn.model_selection import train_test_split\n",
    "\n",
    "LEARNING_RATE = 5e-2 \n",
    "RANDOM_STATE = 2024\n",
    "TARGET = 'target'\n",
    "\n",
    "X_train, X_test, y_train, y_test = train_test_split(df.drop(columns=[TARGET,]), df[TARGET], test_size=0.20, random_state=RANDOM_STATE)\n",
    "\n",
    "model = LGBMClassifier(boosting_type='gbdt', learning_rate=LEARNING_RATE, objective='binary', num_leaves=31, verbose=1, random_state=RANDOM_STATE, force_col_wise=True,)\n",
    "model.fit(X=X_train, y=y_train, categorical_feature=['workclass'])\n",
    "result = model.predict(X=X_test, num_iteration=model.best_iteration_, )"
   ]
  },
  {
   "cell_type": "markdown",
   "id": "988fd8a2",
   "metadata": {
    "papermill": {
     "duration": 0.004097,
     "end_time": "2024-07-10T18:42:22.658179",
     "exception": false,
     "start_time": "2024-07-10T18:42:22.654082",
     "status": "completed"
    },
    "tags": []
   },
   "source": [
    "We don't care so much about the accuracy or the F1 as we do about the True precision and recall, so let's use a classification report."
   ]
  },
  {
   "cell_type": "code",
   "execution_count": 4,
   "id": "b8d9467b",
   "metadata": {
    "execution": {
     "iopub.execute_input": "2024-07-10T18:42:22.668435Z",
     "iopub.status.busy": "2024-07-10T18:42:22.667822Z",
     "iopub.status.idle": "2024-07-10T18:42:22.698333Z",
     "shell.execute_reply": "2024-07-10T18:42:22.696817Z"
    },
    "papermill": {
     "duration": 0.039033,
     "end_time": "2024-07-10T18:42:22.701436",
     "exception": false,
     "start_time": "2024-07-10T18:42:22.662403",
     "status": "completed"
    },
    "tags": []
   },
   "outputs": [
    {
     "name": "stdout",
     "output_type": "stream",
     "text": [
      "              precision    recall  f1-score   support\n",
      "\n",
      "       False       0.89      0.94      0.92      4947\n",
      "        True       0.78      0.64      0.70      1566\n",
      "\n",
      "    accuracy                           0.87      6513\n",
      "   macro avg       0.84      0.79      0.81      6513\n",
      "weighted avg       0.87      0.87      0.87      6513\n",
      "\n"
     ]
    }
   ],
   "source": [
    "from sklearn.metrics import classification_report\n",
    "\n",
    "print(classification_report(y_true=y_test, y_pred=result))"
   ]
  }
 ],
 "metadata": {
  "kaggle": {
   "accelerator": "none",
   "dataSources": [
    {
     "datasetId": 5350160,
     "sourceId": 8899335,
     "sourceType": "datasetVersion"
    }
   ],
   "dockerImageVersionId": 30732,
   "isGpuEnabled": false,
   "isInternetEnabled": true,
   "language": "python",
   "sourceType": "notebook"
  },
  "kernelspec": {
   "display_name": "Python 3",
   "language": "python",
   "name": "python3"
  },
  "language_info": {
   "codemirror_mode": {
    "name": "ipython",
    "version": 3
   },
   "file_extension": ".py",
   "mimetype": "text/x-python",
   "name": "python",
   "nbconvert_exporter": "python",
   "pygments_lexer": "ipython3",
   "version": "3.10.13"
  },
  "papermill": {
   "default_parameters": {},
   "duration": 9.580068,
   "end_time": "2024-07-10T18:42:23.530312",
   "environment_variables": {},
   "exception": null,
   "input_path": "__notebook__.ipynb",
   "output_path": "__notebook__.ipynb",
   "parameters": {},
   "start_time": "2024-07-10T18:42:13.950244",
   "version": "2.5.0"
  }
 },
 "nbformat": 4,
 "nbformat_minor": 5
}
