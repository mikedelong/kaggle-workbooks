{
 "cells": [
  {
   "cell_type": "markdown",
   "id": "0b99968a",
   "metadata": {
    "papermill": {
     "duration": 0.002455,
     "end_time": "2024-12-08T20:28:56.196838",
     "exception": false,
     "start_time": "2024-12-08T20:28:56.194383",
     "status": "completed"
    },
    "tags": []
   },
   "source": [
    "Let's start by loading our data and doing a little feature engineering. Our data was stored with two header rows, and we don't need two header rows, so we need to change that. We need to convert our Date column to dates. And we want to extract the year; we will be using the years to indicate the passage of time in our scatter plots below."
   ]
  },
  {
   "cell_type": "code",
   "execution_count": 1,
   "id": "7bab4af0",
   "metadata": {
    "_cell_guid": "b1076dfc-b9ad-4769-8c92-a6c4dae69d19",
    "_uuid": "8f2839f25d086af736a60e9eeb907d3b93b6e0e5",
    "execution": {
     "iopub.execute_input": "2024-12-08T20:28:56.202784Z",
     "iopub.status.busy": "2024-12-08T20:28:56.202408Z",
     "iopub.status.idle": "2024-12-08T20:28:57.106377Z",
     "shell.execute_reply": "2024-12-08T20:28:57.105342Z"
    },
    "papermill": {
     "duration": 0.909349,
     "end_time": "2024-12-08T20:28:57.108522",
     "exception": false,
     "start_time": "2024-12-08T20:28:56.199173",
     "status": "completed"
    },
    "tags": []
   },
   "outputs": [
    {
     "data": {
      "text/html": [
       "<div>\n",
       "<style scoped>\n",
       "    .dataframe tbody tr th:only-of-type {\n",
       "        vertical-align: middle;\n",
       "    }\n",
       "\n",
       "    .dataframe tbody tr th {\n",
       "        vertical-align: top;\n",
       "    }\n",
       "\n",
       "    .dataframe thead th {\n",
       "        text-align: right;\n",
       "    }\n",
       "</style>\n",
       "<table border=\"1\" class=\"dataframe\">\n",
       "  <thead>\n",
       "    <tr style=\"text-align: right;\">\n",
       "      <th></th>\n",
       "      <th>Date</th>\n",
       "      <th>Adj Close</th>\n",
       "      <th>Close</th>\n",
       "      <th>High</th>\n",
       "      <th>Lose</th>\n",
       "      <th>Open</th>\n",
       "      <th>Volume</th>\n",
       "      <th>year</th>\n",
       "    </tr>\n",
       "  </thead>\n",
       "  <tbody>\n",
       "    <tr>\n",
       "      <th>0</th>\n",
       "      <td>2015-01-02</td>\n",
       "      <td>15.4260</td>\n",
       "      <td>15.4260</td>\n",
       "      <td>15.7375</td>\n",
       "      <td>15.3480</td>\n",
       "      <td>15.6290</td>\n",
       "      <td>55664000</td>\n",
       "      <td>2015</td>\n",
       "    </tr>\n",
       "    <tr>\n",
       "      <th>1</th>\n",
       "      <td>2015-01-05</td>\n",
       "      <td>15.1095</td>\n",
       "      <td>15.1095</td>\n",
       "      <td>15.4190</td>\n",
       "      <td>15.0425</td>\n",
       "      <td>15.3505</td>\n",
       "      <td>55484000</td>\n",
       "      <td>2015</td>\n",
       "    </tr>\n",
       "    <tr>\n",
       "      <th>2</th>\n",
       "      <td>2015-01-06</td>\n",
       "      <td>14.7645</td>\n",
       "      <td>14.7645</td>\n",
       "      <td>15.1500</td>\n",
       "      <td>14.6190</td>\n",
       "      <td>15.1120</td>\n",
       "      <td>70380000</td>\n",
       "      <td>2015</td>\n",
       "    </tr>\n",
       "    <tr>\n",
       "      <th>3</th>\n",
       "      <td>2015-01-07</td>\n",
       "      <td>14.9210</td>\n",
       "      <td>14.9210</td>\n",
       "      <td>15.0640</td>\n",
       "      <td>14.7665</td>\n",
       "      <td>14.8750</td>\n",
       "      <td>52806000</td>\n",
       "      <td>2015</td>\n",
       "    </tr>\n",
       "    <tr>\n",
       "      <th>4</th>\n",
       "      <td>2015-01-08</td>\n",
       "      <td>15.0230</td>\n",
       "      <td>15.0230</td>\n",
       "      <td>15.1570</td>\n",
       "      <td>14.8055</td>\n",
       "      <td>15.0160</td>\n",
       "      <td>61768000</td>\n",
       "      <td>2015</td>\n",
       "    </tr>\n",
       "  </tbody>\n",
       "</table>\n",
       "</div>"
      ],
      "text/plain": [
       "        Date  Adj Close    Close     High     Lose     Open    Volume  year\n",
       "0 2015-01-02    15.4260  15.4260  15.7375  15.3480  15.6290  55664000  2015\n",
       "1 2015-01-05    15.1095  15.1095  15.4190  15.0425  15.3505  55484000  2015\n",
       "2 2015-01-06    14.7645  14.7645  15.1500  14.6190  15.1120  70380000  2015\n",
       "3 2015-01-07    14.9210  14.9210  15.0640  14.7665  14.8750  52806000  2015\n",
       "4 2015-01-08    15.0230  15.0230  15.1570  14.8055  15.0160  61768000  2015"
      ]
     },
     "execution_count": 1,
     "metadata": {},
     "output_type": "execute_result"
    }
   ],
   "source": [
    "import pandas as pd\n",
    "\n",
    "AMZN = '/kaggle/input/amazon-stock-market-data-2015-2024/AMZN.csv'\n",
    "df = pd.read_csv(filepath_or_buffer=AMZN, header=[0, 1])\n",
    "df.columns = ['Date', 'Adj Close', 'Close', 'High', 'Lose', 'Open', 'Volume']\n",
    "df['Date'] = pd.to_datetime(df['Date'])\n",
    "df['year'] = df['Date'].dt.year\n",
    "df.head()"
   ]
  },
  {
   "cell_type": "markdown",
   "id": "d49faa81",
   "metadata": {
    "papermill": {
     "duration": 0.001967,
     "end_time": "2024-12-08T20:28:57.112880",
     "exception": false,
     "start_time": "2024-12-08T20:28:57.110913",
     "status": "completed"
    },
    "tags": []
   },
   "source": [
    "Let's look at our correlations to see two things:\n",
    "1. Do our adjusted close and close prices differ?\n",
    "2. What do our price/volume correlations look like?"
   ]
  },
  {
   "cell_type": "code",
   "execution_count": 2,
   "id": "2d60ed2f",
   "metadata": {
    "execution": {
     "iopub.execute_input": "2024-12-08T20:28:57.118675Z",
     "iopub.status.busy": "2024-12-08T20:28:57.118296Z",
     "iopub.status.idle": "2024-12-08T20:28:57.135367Z",
     "shell.execute_reply": "2024-12-08T20:28:57.134358Z"
    },
    "papermill": {
     "duration": 0.022564,
     "end_time": "2024-12-08T20:28:57.137545",
     "exception": false,
     "start_time": "2024-12-08T20:28:57.114981",
     "status": "completed"
    },
    "tags": []
   },
   "outputs": [
    {
     "data": {
      "text/html": [
       "<div>\n",
       "<style scoped>\n",
       "    .dataframe tbody tr th:only-of-type {\n",
       "        vertical-align: middle;\n",
       "    }\n",
       "\n",
       "    .dataframe tbody tr th {\n",
       "        vertical-align: top;\n",
       "    }\n",
       "\n",
       "    .dataframe thead th {\n",
       "        text-align: right;\n",
       "    }\n",
       "</style>\n",
       "<table border=\"1\" class=\"dataframe\">\n",
       "  <thead>\n",
       "    <tr style=\"text-align: right;\">\n",
       "      <th></th>\n",
       "      <th>Adj Close</th>\n",
       "      <th>Close</th>\n",
       "      <th>High</th>\n",
       "      <th>Lose</th>\n",
       "      <th>Open</th>\n",
       "      <th>Volume</th>\n",
       "    </tr>\n",
       "  </thead>\n",
       "  <tbody>\n",
       "    <tr>\n",
       "      <th>Adj Close</th>\n",
       "      <td>1.000000</td>\n",
       "      <td>1.000000</td>\n",
       "      <td>0.999732</td>\n",
       "      <td>0.999740</td>\n",
       "      <td>0.999419</td>\n",
       "      <td>-0.194891</td>\n",
       "    </tr>\n",
       "    <tr>\n",
       "      <th>Close</th>\n",
       "      <td>1.000000</td>\n",
       "      <td>1.000000</td>\n",
       "      <td>0.999732</td>\n",
       "      <td>0.999740</td>\n",
       "      <td>0.999419</td>\n",
       "      <td>-0.194891</td>\n",
       "    </tr>\n",
       "    <tr>\n",
       "      <th>High</th>\n",
       "      <td>0.999732</td>\n",
       "      <td>0.999732</td>\n",
       "      <td>1.000000</td>\n",
       "      <td>0.999660</td>\n",
       "      <td>0.999763</td>\n",
       "      <td>-0.188121</td>\n",
       "    </tr>\n",
       "    <tr>\n",
       "      <th>Lose</th>\n",
       "      <td>0.999740</td>\n",
       "      <td>0.999740</td>\n",
       "      <td>0.999660</td>\n",
       "      <td>1.000000</td>\n",
       "      <td>0.999714</td>\n",
       "      <td>-0.201238</td>\n",
       "    </tr>\n",
       "    <tr>\n",
       "      <th>Open</th>\n",
       "      <td>0.999419</td>\n",
       "      <td>0.999419</td>\n",
       "      <td>0.999763</td>\n",
       "      <td>0.999714</td>\n",
       "      <td>1.000000</td>\n",
       "      <td>-0.193585</td>\n",
       "    </tr>\n",
       "    <tr>\n",
       "      <th>Volume</th>\n",
       "      <td>-0.194891</td>\n",
       "      <td>-0.194891</td>\n",
       "      <td>-0.188121</td>\n",
       "      <td>-0.201238</td>\n",
       "      <td>-0.193585</td>\n",
       "      <td>1.000000</td>\n",
       "    </tr>\n",
       "  </tbody>\n",
       "</table>\n",
       "</div>"
      ],
      "text/plain": [
       "           Adj Close     Close      High      Lose      Open    Volume\n",
       "Adj Close   1.000000  1.000000  0.999732  0.999740  0.999419 -0.194891\n",
       "Close       1.000000  1.000000  0.999732  0.999740  0.999419 -0.194891\n",
       "High        0.999732  0.999732  1.000000  0.999660  0.999763 -0.188121\n",
       "Lose        0.999740  0.999740  0.999660  1.000000  0.999714 -0.201238\n",
       "Open        0.999419  0.999419  0.999763  0.999714  1.000000 -0.193585\n",
       "Volume     -0.194891 -0.194891 -0.188121 -0.201238 -0.193585  1.000000"
      ]
     },
     "execution_count": 2,
     "metadata": {},
     "output_type": "execute_result"
    }
   ],
   "source": [
    "df[['Adj Close', 'Close', 'High', 'Lose', 'Open', 'Volume']].corr()"
   ]
  },
  {
   "cell_type": "markdown",
   "id": "62381535",
   "metadata": {
    "papermill": {
     "duration": 0.002226,
     "end_time": "2024-12-08T20:28:57.142382",
     "exception": false,
     "start_time": "2024-12-08T20:28:57.140156",
     "status": "completed"
    },
    "tags": []
   },
   "source": [
    "Our correlations tell us two things:\n",
    "* There are no adjustments in the adjusted close prices; this means we can use the close prices everywhere and ignore the adjusted close prices.\n",
    "* Prices and volume are slightly negatively correlated, meaning that volume declines a little on average as prices rise."
   ]
  },
  {
   "cell_type": "markdown",
   "id": "d3c3b6d1",
   "metadata": {
    "papermill": {
     "duration": 0.002171,
     "end_time": "2024-12-08T20:28:57.146975",
     "exception": false,
     "start_time": "2024-12-08T20:28:57.144804",
     "status": "completed"
    },
    "tags": []
   },
   "source": [
    "Next let's look at our closing price time series."
   ]
  },
  {
   "cell_type": "code",
   "execution_count": null,
   "id": "3eae5051",
   "metadata": {
    "papermill": {
     "duration": 0.002166,
     "end_time": "2024-12-08T20:28:57.151510",
     "exception": false,
     "start_time": "2024-12-08T20:28:57.149344",
     "status": "completed"
    },
    "tags": []
   },
   "outputs": [],
   "source": []
  }
 ],
 "metadata": {
  "kaggle": {
   "accelerator": "none",
   "dataSources": [
    {
     "datasetId": 6227901,
     "sourceId": 10098170,
     "sourceType": "datasetVersion"
    }
   ],
   "dockerImageVersionId": 30804,
   "isGpuEnabled": false,
   "isInternetEnabled": true,
   "language": "python",
   "sourceType": "notebook"
  },
  "kernelspec": {
   "display_name": "Python 3",
   "language": "python",
   "name": "python3"
  },
  "language_info": {
   "codemirror_mode": {
    "name": "ipython",
    "version": 3
   },
   "file_extension": ".py",
   "mimetype": "text/x-python",
   "name": "python",
   "nbconvert_exporter": "python",
   "pygments_lexer": "ipython3",
   "version": "3.10.14"
  },
  "papermill": {
   "default_parameters": {},
   "duration": 3.97151,
   "end_time": "2024-12-08T20:28:57.574380",
   "environment_variables": {},
   "exception": null,
   "input_path": "__notebook__.ipynb",
   "output_path": "__notebook__.ipynb",
   "parameters": {},
   "start_time": "2024-12-08T20:28:53.602870",
   "version": "2.6.0"
  }
 },
 "nbformat": 4,
 "nbformat_minor": 5
}
