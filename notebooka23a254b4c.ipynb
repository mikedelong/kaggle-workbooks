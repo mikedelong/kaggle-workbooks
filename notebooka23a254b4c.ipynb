{
 "cells": [
  {
   "cell_type": "code",
   "execution_count": 1,
   "id": "1b2291b9",
   "metadata": {
    "execution": {
     "iopub.execute_input": "2023-08-25T23:02:47.615662Z",
     "iopub.status.busy": "2023-08-25T23:02:47.615282Z",
     "iopub.status.idle": "2023-08-25T23:02:47.680126Z",
     "shell.execute_reply": "2023-08-25T23:02:47.679022Z"
    },
    "papermill": {
     "duration": 0.073859,
     "end_time": "2023-08-25T23:02:47.683395",
     "exception": false,
     "start_time": "2023-08-25T23:02:47.609536",
     "status": "completed"
    },
    "tags": []
   },
   "outputs": [
    {
     "data": {
      "text/html": [
       "<div>\n",
       "<style scoped>\n",
       "    .dataframe tbody tr th:only-of-type {\n",
       "        vertical-align: middle;\n",
       "    }\n",
       "\n",
       "    .dataframe tbody tr th {\n",
       "        vertical-align: top;\n",
       "    }\n",
       "\n",
       "    .dataframe thead th {\n",
       "        text-align: right;\n",
       "    }\n",
       "</style>\n",
       "<table border=\"1\" class=\"dataframe\">\n",
       "  <thead>\n",
       "    <tr style=\"text-align: right;\">\n",
       "      <th></th>\n",
       "      <th>coach_url</th>\n",
       "      <th>short_name</th>\n",
       "      <th>long_name</th>\n",
       "      <th>dob</th>\n",
       "      <th>nationality_id</th>\n",
       "      <th>nationality_name</th>\n",
       "      <th>face_url</th>\n",
       "    </tr>\n",
       "    <tr>\n",
       "      <th>coach_id</th>\n",
       "      <th></th>\n",
       "      <th></th>\n",
       "      <th></th>\n",
       "      <th></th>\n",
       "      <th></th>\n",
       "      <th></th>\n",
       "      <th></th>\n",
       "    </tr>\n",
       "  </thead>\n",
       "  <tbody>\n",
       "    <tr>\n",
       "      <th>2079</th>\n",
       "      <td>/coach/2079/gareth-taylor/</td>\n",
       "      <td>G. Taylor</td>\n",
       "      <td>Gareth Taylor</td>\n",
       "      <td>1973-02-25</td>\n",
       "      <td>50</td>\n",
       "      <td>Wales</td>\n",
       "      <td>NaN</td>\n",
       "    </tr>\n",
       "    <tr>\n",
       "      <th>94303</th>\n",
       "      <td>/coach/94303/fabrice-abriel/</td>\n",
       "      <td>F. Abriel</td>\n",
       "      <td>Fabrice Abriel</td>\n",
       "      <td>1979-07-06</td>\n",
       "      <td>18</td>\n",
       "      <td>France</td>\n",
       "      <td>https://cdn.sportmonks.com/images/soccer/playe...</td>\n",
       "    </tr>\n",
       "    <tr>\n",
       "      <th>94451</th>\n",
       "      <td>/coach/94451/frederic-biancalani/</td>\n",
       "      <td>F. Biancalani</td>\n",
       "      <td>Frédéric Biancalani</td>\n",
       "      <td>1974-07-21</td>\n",
       "      <td>18</td>\n",
       "      <td>France</td>\n",
       "      <td>NaN</td>\n",
       "    </tr>\n",
       "    <tr>\n",
       "      <th>455803</th>\n",
       "      <td>/coach/455803/andries-jonker/</td>\n",
       "      <td>A. Jonker</td>\n",
       "      <td>Andries Jonker</td>\n",
       "      <td>1962-09-22</td>\n",
       "      <td>34</td>\n",
       "      <td>Netherlands</td>\n",
       "      <td>NaN</td>\n",
       "    </tr>\n",
       "    <tr>\n",
       "      <th>464820</th>\n",
       "      <td>/coach/464820/corinne-diacre/</td>\n",
       "      <td>C. Diacre</td>\n",
       "      <td>Corinne Diacre</td>\n",
       "      <td>1974-08-04</td>\n",
       "      <td>18</td>\n",
       "      <td>France</td>\n",
       "      <td>https://cdn.sportmonks.com/images/soccer/playe...</td>\n",
       "    </tr>\n",
       "  </tbody>\n",
       "</table>\n",
       "</div>"
      ],
      "text/plain": [
       "                                  coach_url     short_name  \\\n",
       "coach_id                                                     \n",
       "2079             /coach/2079/gareth-taylor/      G. Taylor   \n",
       "94303          /coach/94303/fabrice-abriel/      F. Abriel   \n",
       "94451     /coach/94451/frederic-biancalani/  F. Biancalani   \n",
       "455803        /coach/455803/andries-jonker/      A. Jonker   \n",
       "464820        /coach/464820/corinne-diacre/      C. Diacre   \n",
       "\n",
       "                    long_name        dob  nationality_id nationality_name  \\\n",
       "coach_id                                                                    \n",
       "2079            Gareth Taylor 1973-02-25              50            Wales   \n",
       "94303          Fabrice Abriel 1979-07-06              18           France   \n",
       "94451     Frédéric Biancalani 1974-07-21              18           France   \n",
       "455803         Andries Jonker 1962-09-22              34      Netherlands   \n",
       "464820         Corinne Diacre 1974-08-04              18           France   \n",
       "\n",
       "                                                   face_url  \n",
       "coach_id                                                     \n",
       "2079                                                    NaN  \n",
       "94303     https://cdn.sportmonks.com/images/soccer/playe...  \n",
       "94451                                                   NaN  \n",
       "455803                                                  NaN  \n",
       "464820    https://cdn.sportmonks.com/images/soccer/playe...  "
      ]
     },
     "execution_count": 1,
     "metadata": {},
     "output_type": "execute_result"
    }
   ],
   "source": [
    "import pandas as pd\n",
    "female_coaches_df = pd.read_csv(filepath_or_buffer='/kaggle/input/fifa-players/female_coaches_23.csv',\n",
    "                                low_memory=False, index_col=['coach_id'], parse_dates=['dob'])\n",
    "female_coaches_df.head()"
   ]
  },
  {
   "cell_type": "code",
   "execution_count": 2,
   "id": "f4be91d9",
   "metadata": {
    "execution": {
     "iopub.execute_input": "2023-08-25T23:02:47.693264Z",
     "iopub.status.busy": "2023-08-25T23:02:47.692520Z",
     "iopub.status.idle": "2023-08-25T23:02:47.715355Z",
     "shell.execute_reply": "2023-08-25T23:02:47.714009Z"
    },
    "papermill": {
     "duration": 0.030996,
     "end_time": "2023-08-25T23:02:47.718328",
     "exception": false,
     "start_time": "2023-08-25T23:02:47.687332",
     "status": "completed"
    },
    "tags": []
   },
   "outputs": [
    {
     "name": "stdout",
     "output_type": "stream",
     "text": [
      "<class 'pandas.core.frame.DataFrame'>\n",
      "Int64Index: 52 entries, 2079 to 37667852\n",
      "Data columns (total 7 columns):\n",
      " #   Column            Non-Null Count  Dtype         \n",
      "---  ------            --------------  -----         \n",
      " 0   coach_url         52 non-null     object        \n",
      " 1   short_name        52 non-null     object        \n",
      " 2   long_name         52 non-null     object        \n",
      " 3   dob               41 non-null     datetime64[ns]\n",
      " 4   nationality_id    52 non-null     int64         \n",
      " 5   nationality_name  52 non-null     object        \n",
      " 6   face_url          8 non-null      object        \n",
      "dtypes: datetime64[ns](1), int64(1), object(5)\n",
      "memory usage: 3.2+ KB\n"
     ]
    }
   ],
   "source": [
    "female_coaches_df.info()"
   ]
  },
  {
   "cell_type": "code",
   "execution_count": 3,
   "id": "edd5f8ed",
   "metadata": {
    "execution": {
     "iopub.execute_input": "2023-08-25T23:02:47.727980Z",
     "iopub.status.busy": "2023-08-25T23:02:47.727585Z",
     "iopub.status.idle": "2023-08-25T23:02:54.227271Z",
     "shell.execute_reply": "2023-08-25T23:02:54.226130Z"
    },
    "papermill": {
     "duration": 6.507503,
     "end_time": "2023-08-25T23:02:54.229871",
     "exception": false,
     "start_time": "2023-08-25T23:02:47.722368",
     "status": "completed"
    },
    "tags": []
   },
   "outputs": [
    {
     "data": {
      "text/html": [
       "<div>\n",
       "<style scoped>\n",
       "    .dataframe tbody tr th:only-of-type {\n",
       "        vertical-align: middle;\n",
       "    }\n",
       "\n",
       "    .dataframe tbody tr th {\n",
       "        vertical-align: top;\n",
       "    }\n",
       "\n",
       "    .dataframe thead th {\n",
       "        text-align: right;\n",
       "    }\n",
       "</style>\n",
       "<table border=\"1\" class=\"dataframe\">\n",
       "  <thead>\n",
       "    <tr style=\"text-align: right;\">\n",
       "      <th></th>\n",
       "      <th>player_url</th>\n",
       "      <th>fifa_version</th>\n",
       "      <th>fifa_update</th>\n",
       "      <th>fifa_update_date</th>\n",
       "      <th>short_name</th>\n",
       "      <th>long_name</th>\n",
       "      <th>player_positions</th>\n",
       "      <th>overall</th>\n",
       "      <th>potential</th>\n",
       "      <th>value_eur</th>\n",
       "      <th>...</th>\n",
       "      <th>cdm</th>\n",
       "      <th>rdm</th>\n",
       "      <th>rwb</th>\n",
       "      <th>lb</th>\n",
       "      <th>lcb</th>\n",
       "      <th>cb</th>\n",
       "      <th>rcb</th>\n",
       "      <th>rb</th>\n",
       "      <th>gk</th>\n",
       "      <th>player_face_url</th>\n",
       "    </tr>\n",
       "    <tr>\n",
       "      <th>player_id</th>\n",
       "      <th></th>\n",
       "      <th></th>\n",
       "      <th></th>\n",
       "      <th></th>\n",
       "      <th></th>\n",
       "      <th></th>\n",
       "      <th></th>\n",
       "      <th></th>\n",
       "      <th></th>\n",
       "      <th></th>\n",
       "      <th></th>\n",
       "      <th></th>\n",
       "      <th></th>\n",
       "      <th></th>\n",
       "      <th></th>\n",
       "      <th></th>\n",
       "      <th></th>\n",
       "      <th></th>\n",
       "      <th></th>\n",
       "      <th></th>\n",
       "      <th></th>\n",
       "    </tr>\n",
       "  </thead>\n",
       "  <tbody>\n",
       "    <tr>\n",
       "      <th>227125</th>\n",
       "      <td>/player/227125/sam-kerr/230009</td>\n",
       "      <td>23</td>\n",
       "      <td>9</td>\n",
       "      <td>2023-01-13</td>\n",
       "      <td>S. Kerr</td>\n",
       "      <td>Samantha May Kerr</td>\n",
       "      <td>ST</td>\n",
       "      <td>91</td>\n",
       "      <td>91</td>\n",
       "      <td>134500000.0</td>\n",
       "      <td>...</td>\n",
       "      <td>62+3</td>\n",
       "      <td>62+3</td>\n",
       "      <td>64+3</td>\n",
       "      <td>61+3</td>\n",
       "      <td>58+3</td>\n",
       "      <td>58+3</td>\n",
       "      <td>58+3</td>\n",
       "      <td>61+3</td>\n",
       "      <td>20+3</td>\n",
       "      <td>https://cdn.sofifa.net/players/227/125/23_120.png</td>\n",
       "    </tr>\n",
       "    <tr>\n",
       "      <th>227316</th>\n",
       "      <td>/player/227316/wendie-renard/230009</td>\n",
       "      <td>23</td>\n",
       "      <td>9</td>\n",
       "      <td>2023-01-13</td>\n",
       "      <td>W. Renard</td>\n",
       "      <td>Wéndèleine Thérèse Renard</td>\n",
       "      <td>CB</td>\n",
       "      <td>91</td>\n",
       "      <td>91</td>\n",
       "      <td>89500000.0</td>\n",
       "      <td>...</td>\n",
       "      <td>87+3</td>\n",
       "      <td>87+3</td>\n",
       "      <td>80+3</td>\n",
       "      <td>82+3</td>\n",
       "      <td>91</td>\n",
       "      <td>91</td>\n",
       "      <td>91</td>\n",
       "      <td>82+3</td>\n",
       "      <td>21+3</td>\n",
       "      <td>https://cdn.sofifa.net/players/227/316/23_120.png</td>\n",
       "    </tr>\n",
       "    <tr>\n",
       "      <th>226301</th>\n",
       "      <td>/player/226301/alex-morgan/230009</td>\n",
       "      <td>23</td>\n",
       "      <td>9</td>\n",
       "      <td>2023-01-13</td>\n",
       "      <td>A. Morgan</td>\n",
       "      <td>Alexandra Morgan Carrasco</td>\n",
       "      <td>ST</td>\n",
       "      <td>90</td>\n",
       "      <td>90</td>\n",
       "      <td>NaN</td>\n",
       "      <td>...</td>\n",
       "      <td>67+3</td>\n",
       "      <td>67+3</td>\n",
       "      <td>69+3</td>\n",
       "      <td>66+3</td>\n",
       "      <td>60+3</td>\n",
       "      <td>60+3</td>\n",
       "      <td>60+3</td>\n",
       "      <td>66+3</td>\n",
       "      <td>19+3</td>\n",
       "      <td>https://cdn.sofifa.net/players/226/301/23_120.png</td>\n",
       "    </tr>\n",
       "    <tr>\n",
       "      <th>227310</th>\n",
       "      <td>/player/227310/ada-hegerberg/230009</td>\n",
       "      <td>23</td>\n",
       "      <td>9</td>\n",
       "      <td>2023-01-13</td>\n",
       "      <td>A. Hegerberg</td>\n",
       "      <td>Ada Martine Stolsmo Hegerberg</td>\n",
       "      <td>ST</td>\n",
       "      <td>90</td>\n",
       "      <td>91</td>\n",
       "      <td>143000000.0</td>\n",
       "      <td>...</td>\n",
       "      <td>61+3</td>\n",
       "      <td>61+3</td>\n",
       "      <td>63+3</td>\n",
       "      <td>60+3</td>\n",
       "      <td>56+3</td>\n",
       "      <td>56+3</td>\n",
       "      <td>56+3</td>\n",
       "      <td>60+3</td>\n",
       "      <td>20+3</td>\n",
       "      <td>https://cdn.sofifa.net/players/227/310/23_120.png</td>\n",
       "    </tr>\n",
       "    <tr>\n",
       "      <th>227246</th>\n",
       "      <td>/player/227246/lucy-bronze/230009</td>\n",
       "      <td>23</td>\n",
       "      <td>9</td>\n",
       "      <td>2023-01-13</td>\n",
       "      <td>L. Bronze</td>\n",
       "      <td>Lucia Roberta Tough Bronze</td>\n",
       "      <td>RB</td>\n",
       "      <td>89</td>\n",
       "      <td>89</td>\n",
       "      <td>NaN</td>\n",
       "      <td>...</td>\n",
       "      <td>86+3</td>\n",
       "      <td>86+3</td>\n",
       "      <td>87+2</td>\n",
       "      <td>87+2</td>\n",
       "      <td>87+2</td>\n",
       "      <td>87+2</td>\n",
       "      <td>87+2</td>\n",
       "      <td>87+2</td>\n",
       "      <td>20+3</td>\n",
       "      <td>https://cdn.sofifa.net/players/227/246/23_120.png</td>\n",
       "    </tr>\n",
       "  </tbody>\n",
       "</table>\n",
       "<p>5 rows × 109 columns</p>\n",
       "</div>"
      ],
      "text/plain": [
       "                                    player_url  fifa_version  fifa_update  \\\n",
       "player_id                                                                   \n",
       "227125          /player/227125/sam-kerr/230009            23            9   \n",
       "227316     /player/227316/wendie-renard/230009            23            9   \n",
       "226301       /player/226301/alex-morgan/230009            23            9   \n",
       "227310     /player/227310/ada-hegerberg/230009            23            9   \n",
       "227246       /player/227246/lucy-bronze/230009            23            9   \n",
       "\n",
       "          fifa_update_date    short_name                      long_name  \\\n",
       "player_id                                                                 \n",
       "227125          2023-01-13       S. Kerr              Samantha May Kerr   \n",
       "227316          2023-01-13     W. Renard      Wéndèleine Thérèse Renard   \n",
       "226301          2023-01-13     A. Morgan      Alexandra Morgan Carrasco   \n",
       "227310          2023-01-13  A. Hegerberg  Ada Martine Stolsmo Hegerberg   \n",
       "227246          2023-01-13     L. Bronze     Lucia Roberta Tough Bronze   \n",
       "\n",
       "          player_positions  overall  potential    value_eur  ...   cdm   rdm  \\\n",
       "player_id                                                    ...               \n",
       "227125                  ST       91         91  134500000.0  ...  62+3  62+3   \n",
       "227316                  CB       91         91   89500000.0  ...  87+3  87+3   \n",
       "226301                  ST       90         90          NaN  ...  67+3  67+3   \n",
       "227310                  ST       90         91  143000000.0  ...  61+3  61+3   \n",
       "227246                  RB       89         89          NaN  ...  86+3  86+3   \n",
       "\n",
       "            rwb    lb   lcb    cb   rcb    rb    gk  \\\n",
       "player_id                                             \n",
       "227125     64+3  61+3  58+3  58+3  58+3  61+3  20+3   \n",
       "227316     80+3  82+3    91    91    91  82+3  21+3   \n",
       "226301     69+3  66+3  60+3  60+3  60+3  66+3  19+3   \n",
       "227310     63+3  60+3  56+3  56+3  56+3  60+3  20+3   \n",
       "227246     87+2  87+2  87+2  87+2  87+2  87+2  20+3   \n",
       "\n",
       "                                             player_face_url  \n",
       "player_id                                                     \n",
       "227125     https://cdn.sofifa.net/players/227/125/23_120.png  \n",
       "227316     https://cdn.sofifa.net/players/227/316/23_120.png  \n",
       "226301     https://cdn.sofifa.net/players/226/301/23_120.png  \n",
       "227310     https://cdn.sofifa.net/players/227/310/23_120.png  \n",
       "227246     https://cdn.sofifa.net/players/227/246/23_120.png  \n",
       "\n",
       "[5 rows x 109 columns]"
      ]
     },
     "execution_count": 3,
     "metadata": {},
     "output_type": "execute_result"
    }
   ],
   "source": [
    "female_players_df = pd.read_csv(filepath_or_buffer='/kaggle/input/fifa-players/female_players_23.csv', \n",
    "                                low_memory=False, index_col=['player_id'], \n",
    "                                parse_dates=['fifa_update_date', 'dob', 'club_joined_date'], \n",
    "                               )\n",
    "female_players_df.head()"
   ]
  },
  {
   "cell_type": "code",
   "execution_count": 4,
   "id": "8611bb38",
   "metadata": {
    "execution": {
     "iopub.execute_input": "2023-08-25T23:02:54.240533Z",
     "iopub.status.busy": "2023-08-25T23:02:54.240045Z",
     "iopub.status.idle": "2023-08-25T23:02:54.256284Z",
     "shell.execute_reply": "2023-08-25T23:02:54.255261Z"
    },
    "papermill": {
     "duration": 0.025871,
     "end_time": "2023-08-25T23:02:54.260259",
     "exception": false,
     "start_time": "2023-08-25T23:02:54.234388",
     "status": "completed"
    },
    "tags": []
   },
   "outputs": [
    {
     "name": "stdout",
     "output_type": "stream",
     "text": [
      "<class 'pandas.core.frame.DataFrame'>\n",
      "Int64Index: 181361 entries, 227125 to 228955\n",
      "Columns: 109 entries, player_url to player_face_url\n",
      "dtypes: datetime64[ns](3), float64(18), int64(44), object(44)\n",
      "memory usage: 152.2+ MB\n"
     ]
    }
   ],
   "source": [
    "female_players_df.info()"
   ]
  },
  {
   "cell_type": "code",
   "execution_count": 5,
   "id": "08954e8c",
   "metadata": {
    "execution": {
     "iopub.execute_input": "2023-08-25T23:02:54.271359Z",
     "iopub.status.busy": "2023-08-25T23:02:54.270959Z",
     "iopub.status.idle": "2023-08-25T23:02:55.105348Z",
     "shell.execute_reply": "2023-08-25T23:02:55.103925Z"
    },
    "papermill": {
     "duration": 0.843266,
     "end_time": "2023-08-25T23:02:55.108002",
     "exception": false,
     "start_time": "2023-08-25T23:02:54.264736",
     "status": "completed"
    },
    "tags": []
   },
   "outputs": [
    {
     "data": {
      "text/plain": [
       "player_url          181361\n",
       "fifa_version             8\n",
       "fifa_update             99\n",
       "fifa_update_date       512\n",
       "short_name            1690\n",
       "                     ...  \n",
       "cb                     295\n",
       "rcb                    295\n",
       "rb                     274\n",
       "gk                     137\n",
       "player_face_url       4131\n",
       "Length: 109, dtype: int64"
      ]
     },
     "execution_count": 5,
     "metadata": {},
     "output_type": "execute_result"
    }
   ],
   "source": [
    "female_players_df.nunique()"
   ]
  },
  {
   "cell_type": "code",
   "execution_count": 6,
   "id": "d751c781",
   "metadata": {
    "execution": {
     "iopub.execute_input": "2023-08-25T23:02:55.119329Z",
     "iopub.status.busy": "2023-08-25T23:02:55.118558Z",
     "iopub.status.idle": "2023-08-25T23:02:55.126049Z",
     "shell.execute_reply": "2023-08-25T23:02:55.125132Z"
    },
    "papermill": {
     "duration": 0.016145,
     "end_time": "2023-08-25T23:02:55.128879",
     "exception": false,
     "start_time": "2023-08-25T23:02:55.112734",
     "status": "completed"
    },
    "tags": []
   },
   "outputs": [
    {
     "name": "stdout",
     "output_type": "stream",
     "text": [
      "Index(['player_url', 'fifa_version', 'fifa_update', 'fifa_update_date',\n",
      "       'short_name', 'long_name', 'player_positions', 'overall', 'potential',\n",
      "       'value_eur', 'wage_eur', 'age', 'dob', 'height_cm', 'weight_kg',\n",
      "       'league_id', 'league_name', 'league_level', 'club_team_id',\n",
      "       'club_name'],\n",
      "      dtype='object')\n",
      "Index(['club_position', 'club_jersey_number', 'club_loaned_from',\n",
      "       'club_joined_date', 'club_contract_valid_until_year', 'nationality_id',\n",
      "       'nationality_name', 'nation_team_id', 'nation_position',\n",
      "       'nation_jersey_number', 'preferred_foot', 'weak_foot', 'skill_moves',\n",
      "       'international_reputation', 'work_rate', 'body_type', 'real_face',\n",
      "       'release_clause_eur', 'player_tags', 'player_traits'],\n",
      "      dtype='object')\n",
      "Index(['pace', 'shooting', 'passing', 'dribbling', 'defending', 'physic',\n",
      "       'attacking_crossing', 'attacking_finishing',\n",
      "       'attacking_heading_accuracy', 'attacking_short_passing',\n",
      "       'attacking_volleys', 'skill_dribbling', 'skill_curve',\n",
      "       'skill_fk_accuracy', 'skill_long_passing', 'skill_ball_control',\n",
      "       'movement_acceleration', 'movement_sprint_speed', 'movement_agility',\n",
      "       'movement_reactions'],\n",
      "      dtype='object')\n",
      "Index(['movement_balance', 'power_shot_power', 'power_jumping',\n",
      "       'power_stamina', 'power_strength', 'power_long_shots',\n",
      "       'mentality_aggression', 'mentality_interceptions',\n",
      "       'mentality_positioning', 'mentality_vision', 'mentality_penalties',\n",
      "       'mentality_composure', 'defending_marking_awareness',\n",
      "       'defending_standing_tackle', 'defending_sliding_tackle',\n",
      "       'goalkeeping_diving', 'goalkeeping_handling', 'goalkeeping_kicking',\n",
      "       'goalkeeping_positioning', 'goalkeeping_reflexes'],\n",
      "      dtype='object')\n",
      "Index(['goalkeeping_speed', 'ls', 'st', 'rs', 'lw', 'lf', 'cf', 'rf', 'rw',\n",
      "       'lam', 'cam', 'ram', 'lm', 'lcm', 'cm', 'rcm', 'rm', 'lwb', 'ldm',\n",
      "       'cdm'],\n",
      "      dtype='object')\n",
      "Index(['rdm', 'rwb', 'lb', 'lcb', 'cb', 'rcb', 'rb', 'gk', 'player_face_url'], dtype='object')\n"
     ]
    }
   ],
   "source": [
    "for start in range(0, len(female_players_df.columns), 20):\n",
    "    print(female_players_df.columns[start:start+20])"
   ]
  },
  {
   "cell_type": "code",
   "execution_count": 7,
   "id": "b3dcea85",
   "metadata": {
    "execution": {
     "iopub.execute_input": "2023-08-25T23:02:55.141718Z",
     "iopub.status.busy": "2023-08-25T23:02:55.139742Z",
     "iopub.status.idle": "2023-08-25T23:02:57.305724Z",
     "shell.execute_reply": "2023-08-25T23:02:57.304971Z"
    },
    "papermill": {
     "duration": 2.175272,
     "end_time": "2023-08-25T23:02:57.308919",
     "exception": false,
     "start_time": "2023-08-25T23:02:55.133647",
     "status": "completed"
    },
    "tags": []
   },
   "outputs": [
    {
     "name": "stderr",
     "output_type": "stream",
     "text": [
      "/opt/conda/lib/python3.10/site-packages/scipy/__init__.py:146: UserWarning: A NumPy version >=1.16.5 and <1.23.0 is required for this version of SciPy (detected version 1.23.5\n",
      "  warnings.warn(f\"A NumPy version >={np_minversion} and <{np_maxversion}\"\n"
     ]
    },
    {
     "data": {
      "text/plain": [
       "<Axes: xlabel='age', ylabel='overall'>"
      ]
     },
     "execution_count": 7,
     "metadata": {},
     "output_type": "execute_result"
    },
    {
     "data": {
      "image/png": "[encoded data removed]",
      "text/plain": [
       "<Figure size 640x480 with 1 Axes>"
      ]
     },
     "metadata": {},
     "output_type": "display_data"
    }
   ],
   "source": [
    "from seaborn import scatterplot\n",
    "scatterplot(data=female_players_df.sample(1000), x='age', y='overall', hue='nationality_id', palette='Reds', )"
   ]
  }
 ],
 "metadata": {
  "kernelspec": {
   "display_name": "Python 3",
   "language": "python",
   "name": "python3"
  },
  "language_info": {
   "codemirror_mode": {
    "name": "ipython",
    "version": 3
   },
   "file_extension": ".py",
   "mimetype": "text/x-python",
   "name": "python",
   "nbconvert_exporter": "python",
   "pygments_lexer": "ipython3",
   "version": "3.10.12"
  },
  "papermill": {
   "default_parameters": {},
   "duration": 22.620085,
   "end_time": "2023-08-25T23:02:58.337510",
   "environment_variables": {},
   "exception": null,
   "input_path": "__notebook__.ipynb",
   "output_path": "__notebook__.ipynb",
   "parameters": {},
   "start_time": "2023-08-25T23:02:35.717425",
   "version": "2.4.0"
  }
 },
 "nbformat": 4,
 "nbformat_minor": 5
}
