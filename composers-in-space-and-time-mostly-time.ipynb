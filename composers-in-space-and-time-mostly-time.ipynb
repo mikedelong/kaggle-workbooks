{
 "cells": [
  {
   "cell_type": "code",
   "execution_count": 1,
   "id": "50608268",
   "metadata": {
    "_cell_guid": "b1076dfc-b9ad-4769-8c92-a6c4dae69d19",
    "_uuid": "8f2839f25d086af736a60e9eeb907d3b93b6e0e5",
    "execution": {
     "iopub.execute_input": "2024-03-02T16:57:13.220337Z",
     "iopub.status.busy": "2024-03-02T16:57:13.219428Z",
     "iopub.status.idle": "2024-03-02T16:57:15.016334Z",
     "shell.execute_reply": "2024-03-02T16:57:15.015086Z"
    },
    "papermill": {
     "duration": 1.809127,
     "end_time": "2024-03-02T16:57:15.018924",
     "exception": false,
     "start_time": "2024-03-02T16:57:13.209797",
     "status": "completed"
    },
    "tags": []
   },
   "outputs": [
    {
     "data": {
      "text/html": [
       "<div>\n",
       "<style scoped>\n",
       "    .dataframe tbody tr th:only-of-type {\n",
       "        vertical-align: middle;\n",
       "    }\n",
       "\n",
       "    .dataframe tbody tr th {\n",
       "        vertical-align: top;\n",
       "    }\n",
       "\n",
       "    .dataframe thead th {\n",
       "        text-align: right;\n",
       "    }\n",
       "</style>\n",
       "<table border=\"1\" class=\"dataframe\">\n",
       "  <thead>\n",
       "    <tr style=\"text-align: right;\">\n",
       "      <th></th>\n",
       "      <th>Composer</th>\n",
       "      <th>Nationality</th>\n",
       "      <th>Born</th>\n",
       "      <th>Died</th>\n",
       "      <th>Biggest Piece</th>\n",
       "      <th>Duration of Biggest Piece(mins)</th>\n",
       "      <th>mid</th>\n",
       "    </tr>\n",
       "  </thead>\n",
       "  <tbody>\n",
       "    <tr>\n",
       "      <th>1</th>\n",
       "      <td>Ludwig van Beethoven</td>\n",
       "      <td>German</td>\n",
       "      <td>1770.0</td>\n",
       "      <td>1791.0</td>\n",
       "      <td>Symphony No. 9</td>\n",
       "      <td>65.0</td>\n",
       "      <td>1780.5</td>\n",
       "    </tr>\n",
       "    <tr>\n",
       "      <th>2</th>\n",
       "      <td>Wolfgang Amadeus Mozart</td>\n",
       "      <td>Austrian</td>\n",
       "      <td>1756.0</td>\n",
       "      <td>1791.0</td>\n",
       "      <td>Symphony No.41</td>\n",
       "      <td>33.0</td>\n",
       "      <td>1773.5</td>\n",
       "    </tr>\n",
       "    <tr>\n",
       "      <th>3</th>\n",
       "      <td>Johann Sebastian Bach</td>\n",
       "      <td>German</td>\n",
       "      <td>1685.0</td>\n",
       "      <td>1750.0</td>\n",
       "      <td>Mass in B minor</td>\n",
       "      <td>125.0</td>\n",
       "      <td>1717.5</td>\n",
       "    </tr>\n",
       "    <tr>\n",
       "      <th>4</th>\n",
       "      <td>Richard Wagner</td>\n",
       "      <td>German</td>\n",
       "      <td>1813.0</td>\n",
       "      <td>1883.0</td>\n",
       "      <td>Der Ring des Nibelungen</td>\n",
       "      <td>NaN</td>\n",
       "      <td>1848.0</td>\n",
       "    </tr>\n",
       "    <tr>\n",
       "      <th>5</th>\n",
       "      <td>Joseph Haydn</td>\n",
       "      <td>Austrian</td>\n",
       "      <td>1732.0</td>\n",
       "      <td>1809.0</td>\n",
       "      <td>Symphony No. 45</td>\n",
       "      <td>25.0</td>\n",
       "      <td>1770.5</td>\n",
       "    </tr>\n",
       "  </tbody>\n",
       "</table>\n",
       "</div>"
      ],
      "text/plain": [
       "                   Composer Nationality    Born    Died  \\\n",
       "1      Ludwig van Beethoven   German     1770.0  1791.0   \n",
       "2  Wolfgang Amadeus Mozart     Austrian  1756.0  1791.0   \n",
       "3    Johann Sebastian Bach    German     1685.0  1750.0   \n",
       "4            Richard Wagner   German     1813.0  1883.0   \n",
       "5             Joseph Haydn     Austrian  1732.0  1809.0   \n",
       "\n",
       "             Biggest Piece  Duration of Biggest Piece(mins)     mid  \n",
       "1        Symphony No. 9                                65.0  1780.5  \n",
       "2           Symphony No.41                             33.0  1773.5  \n",
       "3          Mass in B minor                            125.0  1717.5  \n",
       "4  Der Ring des Nibelungen                              NaN  1848.0  \n",
       "5          Symphony No. 45                             25.0  1770.5  "
      ]
     },
     "execution_count": 1,
     "metadata": {},
     "output_type": "execute_result"
    }
   ],
   "source": [
    "import pandas as pd\n",
    "from plotly import express\n",
    "from warnings import filterwarnings\n",
    "filterwarnings(action='ignore', category=FutureWarning)\n",
    "\n",
    "GUYS = '/kaggle/input/top-classical-composers/classical_composers.csv'\n",
    "# we used charset normalizer detect to find the encoding but now that we\n",
    "# know it we don't need that code any more\n",
    "df = pd.read_csv(filepath_or_buffer=GUYS, encoding='hp_roman8')\n",
    "# our data has a mystery bogus row at the top\n",
    "df = df[df.index != 0]\n",
    "# and we have some weird space in our column names that we will be happier without\n",
    "df.columns = [item.strip() for item in df.columns]\n",
    "df['mid'] = 0.5 * (df['Born'] + df['Died'])\n",
    "df.head()"
   ]
  },
  {
   "cell_type": "markdown",
   "id": "e988193c",
   "metadata": {
    "papermill": {
     "duration": 0.004537,
     "end_time": "2024-03-02T16:57:15.028784",
     "exception": false,
     "start_time": "2024-03-02T16:57:15.024247",
     "status": "completed"
    },
    "tags": []
   },
   "source": [
    "We would like to see all of our composers on a timeline, but our dates aren't really dates, and if they were they wouldn't fit into the pandas epoch, so we need to be a little creative to see a timeline. Let's use a scatter plot and make it big enough to give every composer a row."
   ]
  },
  {
   "cell_type": "code",
   "execution_count": 2,
   "id": "34ce2ad6",
   "metadata": {
    "execution": {
     "iopub.execute_input": "2024-03-02T16:57:15.040314Z",
     "iopub.status.busy": "2024-03-02T16:57:15.039882Z",
     "iopub.status.idle": "2024-03-02T16:57:17.044690Z",
     "shell.execute_reply": "2024-03-02T16:57:17.043572Z"
    },
    "papermill": {
     "duration": 2.014136,
     "end_time": "2024-03-02T16:57:17.047768",
     "exception": false,
     "start_time": "2024-03-02T16:57:15.033632",
     "status": "completed"
    },
    "tags": []
   },
   "outputs": [
    {
     "data": {
      "text/html": [
       "        <script type=\"text/javascript\">\n",
       "        window.PlotlyConfig = {MathJaxConfig: 'local'};\n",
       "        if (window.MathJax && window.MathJax.Hub && window.MathJax.Hub.Config) {window.MathJax.Hub.Config({SVG: {font: \"STIX-Web\"}});}\n",
       "        if (typeof require !== 'undefined') {\n",
       "        require.undef(\"plotly\");\n",
       "        requirejs.config({\n",
       "            paths: {\n",
       "                'plotly': ['https://cdn.plot.ly/plotly-2.27.0.min']\n",
       "            }\n",
       "        });\n",
       "        require(['plotly'], function(Plotly) {\n",
       "            window._Plotly = Plotly;\n",
       "        });\n",
       "        }\n",
       "        </script>\n",
       "        "
      ]
     },
     "metadata": {},
     "output_type": "display_data"
    },
    {
     "data": {
      "text/html": [
       "<div>                            <div id=\"1ef95b6f-0ff1-4604-9c58-a86702dd1dcc\" class=\"plotly-graph-div\" style=\"height:1800px; width:100%;\"></div>            <script type=\"text/javascript\">                require([\"plotly\"], function(Plotly) {                    window.PLOTLYENV=window.PLOTLYENV || {};                                    if (document.getElementById(\"1ef95b6f-0ff1-4604-9c58-a86702dd1dcc\")) {                    Plotly.newPlot(                        \"1ef95b6f-0ff1-4604-9c58-a86702dd1dcc\",                        [{\"hovertemplate\":\"variable=Born\\u003cbr\\u003evalue=%{x}\\u003cbr\\u003eComposer=%{y}\\u003cextra\\u003e\\u003c\\u002fextra\\u003e\",\"legendgroup\":\"Born\",\"marker\":{\"color\":\"green\",\"symbol\":\"circle\"},\"mode\":\"markers\",\"name\":\"Born\",\"orientation\":\"h\",\"showlegend\":true,\"x\":[1098.0,1135.0,1160.0,1300.0,1400.0,1440.0,1505.0,1525.0,1532.0,1539.0,1549.0,1554.0,1563.0,1566.0,1567.0,1583.0,1585.0,1637.0,1642.0,1653.0,1659.0,1668.0,1678.0,1681.0,1683.0,1685.0,1685.0,1685.0,1710.0,1714.0,1714.0,1732.0,1756.0,1770.0,1786.0,1791.0,1792.0,1797.0,1797.0,1801.0,1803.0,1804.0,1809.0,1810.0,1810.0,1811.0,1813.0,1813.0,1818.0,1822.0,1824.0,1824.0,1825.0,1833.0,1833.0,1835.0,1838.0,1839.0,1840.0,1841.0,1842.0,1843.0,1844.0,1845.0,1854.0,1857.0,1858.0,1860.0,1860.0,1862.0,1864.0,1865.0,1865.0,1865.0,1866.0,1872.0,1872.0,1873.0,1874.0,1874.0,1874.0,1875.0,1876.0,1879.0,1881.0,1882.0,1883.0,1885.0,1891.0,1892.0,1895.0,1898.0,1899.0,1900.0,1902.0,1906.0,1908.0,1910.0,1912.0,1913.0],\"xaxis\":\"x\",\"y\":[\"Hildegard von Bingen\",\"LÕonin\",\"PÕrotin\",\"Guillaume de Machaut\",\"Guillaume Dufay\",\"Josquin Des Prez \",\"Thomas Tallis\",\"Giovanni Pierluigi da Palestrina \",\"Roland de Lassus\",\"William Byrd\",\"TomÃs Luis de Victoria\",\"Giovanni Gabrieli\",\"John Dowland\",\"Don Carlo Gesualdo\",\"Claudio Monteverdi\",\"Orlando Gibbons\",\"Heinrich Sch■tz\",\"Dietrich Buxtehude\",\"Jean-Baptiste Lully \",\"Archangelo Corelli\",\"Henry Purcell\",\"Francois Couperin\",\"Antonio Vivaldi \",\"Georg Philipp Telemann\",\"Jean-Philippe Rameau\",\"Domenico Scarlatti\",\"Johann Sebastian Bach \",\"George Frideric Handel \",\"Giovanni Battista Pergolesi\",\"Christoph Willibald Gluck\",\"Carl Philipp Emanuel Bach\",\"Joseph Haydn \",\"Wolfgang Amadeus Mozart \",\"Ludwig van Beethoven\",\"Carl Maria von Weber\",\"Giacomo Meyerbeer\",\"Gioacchino Rossini\",\"Gaetano Donizetti\",\"Franz Schubert \",\"Vincenzo Bellini \",\"Hector Berlioz\",\"Mikhail Glinka\",\"Felix Mendelssohn \",\"Robert Schumann\",\"Frederic Chopin\",\"Franz Liszt \",\"Richard Wagner\",\"Giuseppe Verdi\",\"Charles Gounod\",\"Cesar Franck\",\"Bedrich Smetana\",\"Anton Bruckner\",\"Johann Strauss II\",\"Johannes Brahms\",\"Alexander Borodin \",\"Camille Saint-Saens\",\"Georges Bizet\",\"Modest Mussorgsky\",\"Peter Ilyich Tchaikovsky \",\"Antonin Dvorak\",\"Jules Massenet\",\"Edvard Grieg\",\"Nikolai Rimsky-Korsakov \",\"Gabriel Faure\",\"Leos Janacek\",\"Edward Elgar\",\"Giacomo Puccini\",\"Hugo Wolf\",\"Gustav Mahler \",\"Claude Debussy \",\"Richard Strauss \",\"Alexander Glazunov\",\"Jean Sibelius\",\"Carl Nielsen\",\"Erik Satie\",\"Alexander Nikolayevich Scriabin\",\"Ralph Vaughan Williams\",\"Sergei Rachmaninoff\",\"Charles Ives \",\"Arnold Schoenberg\",\"Gustav Holst\",\" Maurice Ravel \",\"Manuel de Falla\",\"Ottorino Respighi\",\"Bela Bartok\",\"Igor Stravinsky \",\"Anton Webern\",\"Alban Berg \",\"Serge Prokofiev\",\"Darius Milhaud\",\"Paul Hindemith \",\"George Gershwin \",\"Francis Poulenc\",\"Aaron Copland\",\"William Walton\",\"Dmitri Shostakovich\",\"Olivier Messiaen\",\"Samuel Barber\",\"John Cage\",\"Benjamin Britten\"],\"yaxis\":\"y\",\"type\":\"scatter\"},{\"hovertemplate\":\"variable=Died\\u003cbr\\u003evalue=%{x}\\u003cbr\\u003eComposer=%{y}\\u003cextra\\u003e\\u003c\\u002fextra\\u003e\",\"legendgroup\":\"Died\",\"marker\":{\"color\":\"red\",\"symbol\":\"circle\"},\"mode\":\"markers\",\"name\":\"Died\",\"orientation\":\"h\",\"showlegend\":true,\"x\":[1179.0,1201.0,1225.0,1377.0,1474.0,1521.0,1585.0,1594.0,1594.0,1623.0,1611.0,1612.0,1626.0,1613.0,1643.0,1625.0,1672.0,1707.0,1687.0,1713.0,1695.0,1733.0,1741.0,1767.0,1764.0,1757.0,1750.0,1759.0,1736.0,1787.0,1788.0,1809.0,1791.0,1791.0,1826.0,1864.0,1868.0,1848.0,1828.0,1835.0,1869.0,1857.0,1847.0,1856.0,1849.0,1886.0,1883.0,1901.0,1895.0,1890.0,1884.0,1896.0,1899.0,1897.0,1887.0,1921.0,1875.0,1881.0,1893.0,1904.0,1912.0,1907.0,1908.0,1924.0,1928.0,1924.0,1924.0,1903.0,1911.0,1918.0,1949.0,1936.0,1957.0,1931.0,1925.0,1915.0,1958.0,1943.0,1954.0,1951.0,1934.0,1937.0,1946.0,1936.0,1945.0,1971.0,1945.0,1935.0,1953.0,1974.0,1963.0,1937.0,1963.0,1990.0,1983.0,1975.0,1992.0,1981.0,1992.0,1976.0],\"xaxis\":\"x\",\"y\":[\"Hildegard von Bingen\",\"LÕonin\",\"PÕrotin\",\"Guillaume de Machaut\",\"Guillaume Dufay\",\"Josquin Des Prez \",\"Thomas Tallis\",\"Giovanni Pierluigi da Palestrina \",\"Roland de Lassus\",\"William Byrd\",\"TomÃs Luis de Victoria\",\"Giovanni Gabrieli\",\"John Dowland\",\"Don Carlo Gesualdo\",\"Claudio Monteverdi\",\"Orlando Gibbons\",\"Heinrich Sch■tz\",\"Dietrich Buxtehude\",\"Jean-Baptiste Lully \",\"Archangelo Corelli\",\"Henry Purcell\",\"Francois Couperin\",\"Antonio Vivaldi \",\"Georg Philipp Telemann\",\"Jean-Philippe Rameau\",\"Domenico Scarlatti\",\"Johann Sebastian Bach \",\"George Frideric Handel \",\"Giovanni Battista Pergolesi\",\"Christoph Willibald Gluck\",\"Carl Philipp Emanuel Bach\",\"Joseph Haydn \",\"Wolfgang Amadeus Mozart \",\"Ludwig van Beethoven\",\"Carl Maria von Weber\",\"Giacomo Meyerbeer\",\"Gioacchino Rossini\",\"Gaetano Donizetti\",\"Franz Schubert \",\"Vincenzo Bellini \",\"Hector Berlioz\",\"Mikhail Glinka\",\"Felix Mendelssohn \",\"Robert Schumann\",\"Frederic Chopin\",\"Franz Liszt \",\"Richard Wagner\",\"Giuseppe Verdi\",\"Charles Gounod\",\"Cesar Franck\",\"Bedrich Smetana\",\"Anton Bruckner\",\"Johann Strauss II\",\"Johannes Brahms\",\"Alexander Borodin \",\"Camille Saint-Saens\",\"Georges Bizet\",\"Modest Mussorgsky\",\"Peter Ilyich Tchaikovsky \",\"Antonin Dvorak\",\"Jules Massenet\",\"Edvard Grieg\",\"Nikolai Rimsky-Korsakov \",\"Gabriel Faure\",\"Leos Janacek\",\"Edward Elgar\",\"Giacomo Puccini\",\"Hugo Wolf\",\"Gustav Mahler \",\"Claude Debussy \",\"Richard Strauss \",\"Alexander Glazunov\",\"Jean Sibelius\",\"Carl Nielsen\",\"Erik Satie\",\"Alexander Nikolayevich Scriabin\",\"Ralph Vaughan Williams\",\"Sergei Rachmaninoff\",\"Charles Ives \",\"Arnold Schoenberg\",\"Gustav Holst\",\" Maurice Ravel \",\"Manuel de Falla\",\"Ottorino Respighi\",\"Bela Bartok\",\"Igor Stravinsky \",\"Anton Webern\",\"Alban Berg \",\"Serge Prokofiev\",\"Darius Milhaud\",\"Paul Hindemith \",\"George Gershwin \",\"Francis Poulenc\",\"Aaron Copland\",\"William Walton\",\"Dmitri Shostakovich\",\"Olivier Messiaen\",\"Samuel Barber\",\"John Cage\",\"Benjamin Britten\"],\"yaxis\":\"y\",\"type\":\"scatter\"}],                        {\"template\":{\"data\":{\"histogram2dcontour\":[{\"type\":\"histogram2dcontour\",\"colorbar\":{\"outlinewidth\":0,\"ticks\":\"\"},\"colorscale\":[[0.0,\"#0d0887\"],[0.1111111111111111,\"#46039f\"],[0.2222222222222222,\"#7201a8\"],[0.3333333333333333,\"#9c179e\"],[0.4444444444444444,\"#bd3786\"],[0.5555555555555556,\"#d8576b\"],[0.6666666666666666,\"#ed7953\"],[0.7777777777777778,\"#fb9f3a\"],[0.8888888888888888,\"#fdca26\"],[1.0,\"#f0f921\"]]}],\"choropleth\":[{\"type\":\"choropleth\",\"colorbar\":{\"outlinewidth\":0,\"ticks\":\"\"}}],\"histogram2d\":[{\"type\":\"histogram2d\",\"colorbar\":{\"outlinewidth\":0,\"ticks\":\"\"},\"colorscale\":[[0.0,\"#0d0887\"],[0.1111111111111111,\"#46039f\"],[0.2222222222222222,\"#7201a8\"],[0.3333333333333333,\"#9c179e\"],[0.4444444444444444,\"#bd3786\"],[0.5555555555555556,\"#d8576b\"],[0.6666666666666666,\"#ed7953\"],[0.7777777777777778,\"#fb9f3a\"],[0.8888888888888888,\"#fdca26\"],[1.0,\"#f0f921\"]]}],\"heatmap\":[{\"type\":\"heatmap\",\"colorbar\":{\"outlinewidth\":0,\"ticks\":\"\"},\"colorscale\":[[0.0,\"#0d0887\"],[0.1111111111111111,\"#46039f\"],[0.2222222222222222,\"#7201a8\"],[0.3333333333333333,\"#9c179e\"],[0.4444444444444444,\"#bd3786\"],[0.5555555555555556,\"#d8576b\"],[0.6666666666666666,\"#ed7953\"],[0.7777777777777778,\"#fb9f3a\"],[0.8888888888888888,\"#fdca26\"],[1.0,\"#f0f921\"]]}],\"heatmapgl\":[{\"type\":\"heatmapgl\",\"colorbar\":{\"outlinewidth\":0,\"ticks\":\"\"},\"colorscale\":[[0.0,\"#0d0887\"],[0.1111111111111111,\"#46039f\"],[0.2222222222222222,\"#7201a8\"],[0.3333333333333333,\"#9c179e\"],[0.4444444444444444,\"#bd3786\"],[0.5555555555555556,\"#d8576b\"],[0.6666666666666666,\"#ed7953\"],[0.7777777777777778,\"#fb9f3a\"],[0.8888888888888888,\"#fdca26\"],[1.0,\"#f0f921\"]]}],\"contourcarpet\":[{\"type\":\"contourcarpet\",\"colorbar\":{\"outlinewidth\":0,\"ticks\":\"\"}}],\"contour\":[{\"type\":\"contour\",\"colorbar\":{\"outlinewidth\":0,\"ticks\":\"\"},\"colorscale\":[[0.0,\"#0d0887\"],[0.1111111111111111,\"#46039f\"],[0.2222222222222222,\"#7201a8\"],[0.3333333333333333,\"#9c179e\"],[0.4444444444444444,\"#bd3786\"],[0.5555555555555556,\"#d8576b\"],[0.6666666666666666,\"#ed7953\"],[0.7777777777777778,\"#fb9f3a\"],[0.8888888888888888,\"#fdca26\"],[1.0,\"#f0f921\"]]}],\"surface\":[{\"type\":\"surface\",\"colorbar\":{\"outlinewidth\":0,\"ticks\":\"\"},\"colorscale\":[[0.0,\"#0d0887\"],[0.1111111111111111,\"#46039f\"],[0.2222222222222222,\"#7201a8\"],[0.3333333333333333,\"#9c179e\"],[0.4444444444444444,\"#bd3786\"],[0.5555555555555556,\"#d8576b\"],[0.6666666666666666,\"#ed7953\"],[0.7777777777777778,\"#fb9f3a\"],[0.8888888888888888,\"#fdca26\"],[1.0,\"#f0f921\"]]}],\"mesh3d\":[{\"type\":\"mesh3d\",\"colorbar\":{\"outlinewidth\":0,\"ticks\":\"\"}}],\"scatter\":[{\"fillpattern\":{\"fillmode\":\"overlay\",\"size\":10,\"solidity\":0.2},\"type\":\"scatter\"}],\"parcoords\":[{\"type\":\"parcoords\",\"line\":{\"colorbar\":{\"outlinewidth\":0,\"ticks\":\"\"}}}],\"scatterpolargl\":[{\"type\":\"scatterpolargl\",\"marker\":{\"colorbar\":{\"outlinewidth\":0,\"ticks\":\"\"}}}],\"bar\":[{\"error_x\":{\"color\":\"#2a3f5f\"},\"error_y\":{\"color\":\"#2a3f5f\"},\"marker\":{\"line\":{\"color\":\"#E5ECF6\",\"width\":0.5},\"pattern\":{\"fillmode\":\"overlay\",\"size\":10,\"solidity\":0.2}},\"type\":\"bar\"}],\"scattergeo\":[{\"type\":\"scattergeo\",\"marker\":{\"colorbar\":{\"outlinewidth\":0,\"ticks\":\"\"}}}],\"scatterpolar\":[{\"type\":\"scatterpolar\",\"marker\":{\"colorbar\":{\"outlinewidth\":0,\"ticks\":\"\"}}}],\"histogram\":[{\"marker\":{\"pattern\":{\"fillmode\":\"overlay\",\"size\":10,\"solidity\":0.2}},\"type\":\"histogram\"}],\"scattergl\":[{\"type\":\"scattergl\",\"marker\":{\"colorbar\":{\"outlinewidth\":0,\"ticks\":\"\"}}}],\"scatter3d\":[{\"type\":\"scatter3d\",\"line\":{\"colorbar\":{\"outlinewidth\":0,\"ticks\":\"\"}},\"marker\":{\"colorbar\":{\"outlinewidth\":0,\"ticks\":\"\"}}}],\"scattermapbox\":[{\"type\":\"scattermapbox\",\"marker\":{\"colorbar\":{\"outlinewidth\":0,\"ticks\":\"\"}}}],\"scatterternary\":[{\"type\":\"scatterternary\",\"marker\":{\"colorbar\":{\"outlinewidth\":0,\"ticks\":\"\"}}}],\"scattercarpet\":[{\"type\":\"scattercarpet\",\"marker\":{\"colorbar\":{\"outlinewidth\":0,\"ticks\":\"\"}}}],\"carpet\":[{\"aaxis\":{\"endlinecolor\":\"#2a3f5f\",\"gridcolor\":\"white\",\"linecolor\":\"white\",\"minorgridcolor\":\"white\",\"startlinecolor\":\"#2a3f5f\"},\"baxis\":{\"endlinecolor\":\"#2a3f5f\",\"gridcolor\":\"white\",\"linecolor\":\"white\",\"minorgridcolor\":\"white\",\"startlinecolor\":\"#2a3f5f\"},\"type\":\"carpet\"}],\"table\":[{\"cells\":{\"fill\":{\"color\":\"#EBF0F8\"},\"line\":{\"color\":\"white\"}},\"header\":{\"fill\":{\"color\":\"#C8D4E3\"},\"line\":{\"color\":\"white\"}},\"type\":\"table\"}],\"barpolar\":[{\"marker\":{\"line\":{\"color\":\"#E5ECF6\",\"width\":0.5},\"pattern\":{\"fillmode\":\"overlay\",\"size\":10,\"solidity\":0.2}},\"type\":\"barpolar\"}],\"pie\":[{\"automargin\":true,\"type\":\"pie\"}]},\"layout\":{\"autotypenumbers\":\"strict\",\"colorway\":[\"#636efa\",\"#EF553B\",\"#00cc96\",\"#ab63fa\",\"#FFA15A\",\"#19d3f3\",\"#FF6692\",\"#B6E880\",\"#FF97FF\",\"#FECB52\"],\"font\":{\"color\":\"#2a3f5f\"},\"hovermode\":\"closest\",\"hoverlabel\":{\"align\":\"left\"},\"paper_bgcolor\":\"white\",\"plot_bgcolor\":\"#E5ECF6\",\"polar\":{\"bgcolor\":\"#E5ECF6\",\"angularaxis\":{\"gridcolor\":\"white\",\"linecolor\":\"white\",\"ticks\":\"\"},\"radialaxis\":{\"gridcolor\":\"white\",\"linecolor\":\"white\",\"ticks\":\"\"}},\"ternary\":{\"bgcolor\":\"#E5ECF6\",\"aaxis\":{\"gridcolor\":\"white\",\"linecolor\":\"white\",\"ticks\":\"\"},\"baxis\":{\"gridcolor\":\"white\",\"linecolor\":\"white\",\"ticks\":\"\"},\"caxis\":{\"gridcolor\":\"white\",\"linecolor\":\"white\",\"ticks\":\"\"}},\"coloraxis\":{\"colorbar\":{\"outlinewidth\":0,\"ticks\":\"\"}},\"colorscale\":{\"sequential\":[[0.0,\"#0d0887\"],[0.1111111111111111,\"#46039f\"],[0.2222222222222222,\"#7201a8\"],[0.3333333333333333,\"#9c179e\"],[0.4444444444444444,\"#bd3786\"],[0.5555555555555556,\"#d8576b\"],[0.6666666666666666,\"#ed7953\"],[0.7777777777777778,\"#fb9f3a\"],[0.8888888888888888,\"#fdca26\"],[1.0,\"#f0f921\"]],\"sequentialminus\":[[0.0,\"#0d0887\"],[0.1111111111111111,\"#46039f\"],[0.2222222222222222,\"#7201a8\"],[0.3333333333333333,\"#9c179e\"],[0.4444444444444444,\"#bd3786\"],[0.5555555555555556,\"#d8576b\"],[0.6666666666666666,\"#ed7953\"],[0.7777777777777778,\"#fb9f3a\"],[0.8888888888888888,\"#fdca26\"],[1.0,\"#f0f921\"]],\"diverging\":[[0,\"#8e0152\"],[0.1,\"#c51b7d\"],[0.2,\"#de77ae\"],[0.3,\"#f1b6da\"],[0.4,\"#fde0ef\"],[0.5,\"#f7f7f7\"],[0.6,\"#e6f5d0\"],[0.7,\"#b8e186\"],[0.8,\"#7fbc41\"],[0.9,\"#4d9221\"],[1,\"#276419\"]]},\"xaxis\":{\"gridcolor\":\"white\",\"linecolor\":\"white\",\"ticks\":\"\",\"title\":{\"standoff\":15},\"zerolinecolor\":\"white\",\"automargin\":true,\"zerolinewidth\":2},\"yaxis\":{\"gridcolor\":\"white\",\"linecolor\":\"white\",\"ticks\":\"\",\"title\":{\"standoff\":15},\"zerolinecolor\":\"white\",\"automargin\":true,\"zerolinewidth\":2},\"scene\":{\"xaxis\":{\"backgroundcolor\":\"#E5ECF6\",\"gridcolor\":\"white\",\"linecolor\":\"white\",\"showbackground\":true,\"ticks\":\"\",\"zerolinecolor\":\"white\",\"gridwidth\":2},\"yaxis\":{\"backgroundcolor\":\"#E5ECF6\",\"gridcolor\":\"white\",\"linecolor\":\"white\",\"showbackground\":true,\"ticks\":\"\",\"zerolinecolor\":\"white\",\"gridwidth\":2},\"zaxis\":{\"backgroundcolor\":\"#E5ECF6\",\"gridcolor\":\"white\",\"linecolor\":\"white\",\"showbackground\":true,\"ticks\":\"\",\"zerolinecolor\":\"white\",\"gridwidth\":2}},\"shapedefaults\":{\"line\":{\"color\":\"#2a3f5f\"}},\"annotationdefaults\":{\"arrowcolor\":\"#2a3f5f\",\"arrowhead\":0,\"arrowwidth\":1},\"geo\":{\"bgcolor\":\"white\",\"landcolor\":\"#E5ECF6\",\"subunitcolor\":\"white\",\"showland\":true,\"showlakes\":true,\"lakecolor\":\"white\"},\"title\":{\"x\":0.05},\"mapbox\":{\"style\":\"light\"}}},\"xaxis\":{\"anchor\":\"y\",\"domain\":[0.0,1.0],\"title\":{\"text\":\"value\"}},\"yaxis\":{\"anchor\":\"x\",\"domain\":[0.0,1.0],\"title\":{\"text\":\"Composer\"}},\"legend\":{\"title\":{\"text\":\"variable\"},\"tracegroupgap\":0},\"margin\":{\"t\":60},\"height\":1800},                        {\"responsive\": true}                    ).then(function(){\n",
       "                            \n",
       "var gd = document.getElementById('1ef95b6f-0ff1-4604-9c58-a86702dd1dcc');\n",
       "var x = new MutationObserver(function (mutations, observer) {{\n",
       "        var display = window.getComputedStyle(gd).display;\n",
       "        if (!display || display === 'none') {{\n",
       "            console.log([gd, 'removed!']);\n",
       "            Plotly.purge(gd);\n",
       "            observer.disconnect();\n",
       "        }}\n",
       "}});\n",
       "\n",
       "// Listen for the removal of the full notebook cells\n",
       "var notebookContainer = gd.closest('#notebook-container');\n",
       "if (notebookContainer) {{\n",
       "    x.observe(notebookContainer, {childList: true});\n",
       "}}\n",
       "\n",
       "// Listen for the clearing of the current output cell\n",
       "var outputEl = gd.closest('.output');\n",
       "if (outputEl) {{\n",
       "    x.observe(outputEl, {childList: true});\n",
       "}}\n",
       "\n",
       "                        })                };                });            </script>        </div>"
      ]
     },
     "metadata": {},
     "output_type": "display_data"
    }
   ],
   "source": [
    "express.scatter(data_frame=df.sort_values(by='Born'), y='Composer', x=['Born', 'Died'], height=1800, color_discrete_map={'Born': 'green', 'Died': 'red'} )"
   ]
  },
  {
   "cell_type": "markdown",
   "id": "fe62116a",
   "metadata": {
    "papermill": {
     "duration": 0.005349,
     "end_time": "2024-03-02T16:57:17.058895",
     "exception": false,
     "start_time": "2024-03-02T16:57:17.053546",
     "status": "completed"
    },
    "tags": []
   },
   "source": [
    "We can also group them by nationality, which is kind of interesting."
   ]
  },
  {
   "cell_type": "code",
   "execution_count": 3,
   "id": "1bfdf0a7",
   "metadata": {
    "execution": {
     "iopub.execute_input": "2024-03-02T16:57:17.071871Z",
     "iopub.status.busy": "2024-03-02T16:57:17.071393Z",
     "iopub.status.idle": "2024-03-02T16:57:17.221946Z",
     "shell.execute_reply": "2024-03-02T16:57:17.220550Z"
    },
    "papermill": {
     "duration": 0.160599,
     "end_time": "2024-03-02T16:57:17.225003",
     "exception": false,
     "start_time": "2024-03-02T16:57:17.064404",
     "status": "completed"
    },
    "tags": []
   },
   "outputs": [
    {
     "data": {
      "text/html": [
       "<div>                            <div id=\"f9031942-567e-4013-992b-34d534c3573c\" class=\"plotly-graph-div\" style=\"height:1800px; width:100%;\"></div>            <script type=\"text/javascript\">                require([\"plotly\"], function(Plotly) {                    window.PLOTLYENV=window.PLOTLYENV || {};                                    if (document.getElementById(\"f9031942-567e-4013-992b-34d534c3573c\")) {                    Plotly.newPlot(                        \"f9031942-567e-4013-992b-34d534c3573c\",                        [{\"hovertemplate\":\"Nationality=German   \\u003cbr\\u003evalue=%{x}\\u003cbr\\u003eComposer=%{y}\\u003cextra\\u003e\\u003c\\u002fextra\\u003e\",\"legendgroup\":\"German   \",\"marker\":{\"color\":\"#636efa\",\"symbol\":\"circle\"},\"mode\":\"markers\",\"name\":\"German   \",\"orientation\":\"h\",\"showlegend\":true,\"x\":[1098.0,1585.0,1637.0,1681.0,1685.0,1685.0,1714.0,1714.0,1770.0,1786.0,1791.0,1809.0,1810.0,1813.0,1833.0,1864.0,1895.0,1179.0,1672.0,1707.0,1767.0,1750.0,1759.0,1787.0,1788.0,1791.0,1826.0,1864.0,1847.0,1856.0,1883.0,1897.0,1949.0,1963.0],\"xaxis\":\"x\",\"y\":[\"Hildegard von Bingen\",\"Heinrich Sch■tz\",\"Dietrich Buxtehude\",\"Georg Philipp Telemann\",\"Johann Sebastian Bach \",\"George Frideric Handel \",\"Christoph Willibald Gluck\",\"Carl Philipp Emanuel Bach\",\"Ludwig van Beethoven\",\"Carl Maria von Weber\",\"Giacomo Meyerbeer\",\"Felix Mendelssohn \",\"Robert Schumann\",\"Richard Wagner\",\"Johannes Brahms\",\"Richard Strauss \",\"Paul Hindemith \",\"Hildegard von Bingen\",\"Heinrich Sch■tz\",\"Dietrich Buxtehude\",\"Georg Philipp Telemann\",\"Johann Sebastian Bach \",\"George Frideric Handel \",\"Christoph Willibald Gluck\",\"Carl Philipp Emanuel Bach\",\"Ludwig van Beethoven\",\"Carl Maria von Weber\",\"Giacomo Meyerbeer\",\"Felix Mendelssohn \",\"Robert Schumann\",\"Richard Wagner\",\"Johannes Brahms\",\"Richard Strauss \",\"Paul Hindemith \"],\"yaxis\":\"y\",\"type\":\"scatter\"},{\"hovertemplate\":\"Nationality=French\\u003cbr\\u003evalue=%{x}\\u003cbr\\u003eComposer=%{y}\\u003cextra\\u003e\\u003c\\u002fextra\\u003e\",\"legendgroup\":\"French\",\"marker\":{\"color\":\"#EF553B\",\"symbol\":\"circle\"},\"mode\":\"markers\",\"name\":\"French\",\"orientation\":\"h\",\"showlegend\":true,\"x\":[1135.0,1160.0,1300.0,1668.0,1683.0,1803.0,1818.0,1835.0,1838.0,1842.0,1845.0,1862.0,1866.0,1875.0,1892.0,1899.0,1908.0,1201.0,1225.0,1377.0,1733.0,1764.0,1869.0,1895.0,1921.0,1875.0,1912.0,1924.0,1918.0,1925.0,1937.0,1974.0,1963.0,1992.0],\"xaxis\":\"x\",\"y\":[\"LÕonin\",\"PÕrotin\",\"Guillaume de Machaut\",\"Francois Couperin\",\"Jean-Philippe Rameau\",\"Hector Berlioz\",\"Charles Gounod\",\"Camille Saint-Saens\",\"Georges Bizet\",\"Jules Massenet\",\"Gabriel Faure\",\"Claude Debussy \",\"Erik Satie\",\" Maurice Ravel \",\"Darius Milhaud\",\"Francis Poulenc\",\"Olivier Messiaen\",\"LÕonin\",\"PÕrotin\",\"Guillaume de Machaut\",\"Francois Couperin\",\"Jean-Philippe Rameau\",\"Hector Berlioz\",\"Charles Gounod\",\"Camille Saint-Saens\",\"Georges Bizet\",\"Jules Massenet\",\"Gabriel Faure\",\"Claude Debussy \",\"Erik Satie\",\" Maurice Ravel \",\"Darius Milhaud\",\"Francis Poulenc\",\"Olivier Messiaen\"],\"yaxis\":\"y\",\"type\":\"scatter\"},{\"hovertemplate\":\"Nationality=Franco-Flemish\\u003cbr\\u003evalue=%{x}\\u003cbr\\u003eComposer=%{y}\\u003cextra\\u003e\\u003c\\u002fextra\\u003e\",\"legendgroup\":\"Franco-Flemish\",\"marker\":{\"color\":\"#00cc96\",\"symbol\":\"circle\"},\"mode\":\"markers\",\"name\":\"Franco-Flemish\",\"orientation\":\"h\",\"showlegend\":true,\"x\":[1400.0,1532.0,1474.0,1594.0],\"xaxis\":\"x\",\"y\":[\"Guillaume Dufay\",\"Roland de Lassus\",\"Guillaume Dufay\",\"Roland de Lassus\"],\"yaxis\":\"y\",\"type\":\"scatter\"},{\"hovertemplate\":\"Nationality=Flemish\\u003cbr\\u003evalue=%{x}\\u003cbr\\u003eComposer=%{y}\\u003cextra\\u003e\\u003c\\u002fextra\\u003e\",\"legendgroup\":\"Flemish\",\"marker\":{\"color\":\"#ab63fa\",\"symbol\":\"circle\"},\"mode\":\"markers\",\"name\":\"Flemish\",\"orientation\":\"h\",\"showlegend\":true,\"x\":[1440.0,1521.0],\"xaxis\":\"x\",\"y\":[\"Josquin Des Prez \",\"Josquin Des Prez \"],\"yaxis\":\"y\",\"type\":\"scatter\"},{\"hovertemplate\":\"Nationality=English\\u003cbr\\u003evalue=%{x}\\u003cbr\\u003eComposer=%{y}\\u003cextra\\u003e\\u003c\\u002fextra\\u003e\",\"legendgroup\":\"English\",\"marker\":{\"color\":\"#FFA15A\",\"symbol\":\"circle\"},\"mode\":\"markers\",\"name\":\"English\",\"orientation\":\"h\",\"showlegend\":true,\"x\":[1505.0,1539.0,1563.0,1583.0,1659.0,1857.0,1872.0,1874.0,1902.0,1913.0,1585.0,1623.0,1626.0,1625.0,1695.0,1924.0,1958.0,1934.0,1983.0,1976.0],\"xaxis\":\"x\",\"y\":[\"Thomas Tallis\",\"William Byrd\",\"John Dowland\",\"Orlando Gibbons\",\"Henry Purcell\",\"Edward Elgar\",\"Ralph Vaughan Williams\",\"Gustav Holst\",\"William Walton\",\"Benjamin Britten\",\"Thomas Tallis\",\"William Byrd\",\"John Dowland\",\"Orlando Gibbons\",\"Henry Purcell\",\"Edward Elgar\",\"Ralph Vaughan Williams\",\"Gustav Holst\",\"William Walton\",\"Benjamin Britten\"],\"yaxis\":\"y\",\"type\":\"scatter\"},{\"hovertemplate\":\"Nationality=Italian\\u003cbr\\u003evalue=%{x}\\u003cbr\\u003eComposer=%{y}\\u003cextra\\u003e\\u003c\\u002fextra\\u003e\",\"legendgroup\":\"Italian\",\"marker\":{\"color\":\"#19d3f3\",\"symbol\":\"circle\"},\"mode\":\"markers\",\"name\":\"Italian\",\"orientation\":\"h\",\"showlegend\":true,\"x\":[1525.0,1554.0,1566.0,1567.0,1642.0,1653.0,1678.0,1685.0,1710.0,1792.0,1797.0,1801.0,1813.0,1858.0,1879.0,1594.0,1612.0,1613.0,1643.0,1687.0,1713.0,1741.0,1757.0,1736.0,1868.0,1848.0,1835.0,1901.0,1924.0,1936.0],\"xaxis\":\"x\",\"y\":[\"Giovanni Pierluigi da Palestrina \",\"Giovanni Gabrieli\",\"Don Carlo Gesualdo\",\"Claudio Monteverdi\",\"Jean-Baptiste Lully \",\"Archangelo Corelli\",\"Antonio Vivaldi \",\"Domenico Scarlatti\",\"Giovanni Battista Pergolesi\",\"Gioacchino Rossini\",\"Gaetano Donizetti\",\"Vincenzo Bellini \",\"Giuseppe Verdi\",\"Giacomo Puccini\",\"Ottorino Respighi\",\"Giovanni Pierluigi da Palestrina \",\"Giovanni Gabrieli\",\"Don Carlo Gesualdo\",\"Claudio Monteverdi\",\"Jean-Baptiste Lully \",\"Archangelo Corelli\",\"Antonio Vivaldi \",\"Domenico Scarlatti\",\"Giovanni Battista Pergolesi\",\"Gioacchino Rossini\",\"Gaetano Donizetti\",\"Vincenzo Bellini \",\"Giuseppe Verdi\",\"Giacomo Puccini\",\"Ottorino Respighi\"],\"yaxis\":\"y\",\"type\":\"scatter\"},{\"hovertemplate\":\"Nationality=Spanish\\u003cbr\\u003evalue=%{x}\\u003cbr\\u003eComposer=%{y}\\u003cextra\\u003e\\u003c\\u002fextra\\u003e\",\"legendgroup\":\"Spanish\",\"marker\":{\"color\":\"#FF6692\",\"symbol\":\"circle\"},\"mode\":\"markers\",\"name\":\"Spanish\",\"orientation\":\"h\",\"showlegend\":true,\"x\":[1549.0,1876.0,1611.0,1946.0],\"xaxis\":\"x\",\"y\":[\"TomÃs Luis de Victoria\",\"Manuel de Falla\",\"TomÃs Luis de Victoria\",\"Manuel de Falla\"],\"yaxis\":\"y\",\"type\":\"scatter\"},{\"hovertemplate\":\"Nationality=Austrian\\u003cbr\\u003evalue=%{x}\\u003cbr\\u003eComposer=%{y}\\u003cextra\\u003e\\u003c\\u002fextra\\u003e\",\"legendgroup\":\"Austrian\",\"marker\":{\"color\":\"#B6E880\",\"symbol\":\"circle\"},\"mode\":\"markers\",\"name\":\"Austrian\",\"orientation\":\"h\",\"showlegend\":true,\"x\":[1732.0,1756.0,1797.0,1824.0,1825.0,1860.0,1860.0,1874.0,1883.0,1885.0,1809.0,1791.0,1828.0,1896.0,1899.0,1903.0,1911.0,1951.0,1945.0,1935.0],\"xaxis\":\"x\",\"y\":[\"Joseph Haydn \",\"Wolfgang Amadeus Mozart \",\"Franz Schubert \",\"Anton Bruckner\",\"Johann Strauss II\",\"Hugo Wolf\",\"Gustav Mahler \",\"Arnold Schoenberg\",\"Anton Webern\",\"Alban Berg \",\"Joseph Haydn \",\"Wolfgang Amadeus Mozart \",\"Franz Schubert \",\"Anton Bruckner\",\"Johann Strauss II\",\"Hugo Wolf\",\"Gustav Mahler \",\"Arnold Schoenberg\",\"Anton Webern\",\"Alban Berg \"],\"yaxis\":\"y\",\"type\":\"scatter\"},{\"hovertemplate\":\"Nationality=Russian\\u003cbr\\u003evalue=%{x}\\u003cbr\\u003eComposer=%{y}\\u003cextra\\u003e\\u003c\\u002fextra\\u003e\",\"legendgroup\":\"Russian\",\"marker\":{\"color\":\"#FF97FF\",\"symbol\":\"circle\"},\"mode\":\"markers\",\"name\":\"Russian\",\"orientation\":\"h\",\"showlegend\":true,\"x\":[1804.0,1833.0,1839.0,1840.0,1844.0,1865.0,1872.0,1873.0,1882.0,1891.0,1906.0,1857.0,1887.0,1881.0,1893.0,1908.0,1936.0,1915.0,1943.0,1971.0,1953.0,1975.0],\"xaxis\":\"x\",\"y\":[\"Mikhail Glinka\",\"Alexander Borodin \",\"Modest Mussorgsky\",\"Peter Ilyich Tchaikovsky \",\"Nikolai Rimsky-Korsakov \",\"Alexander Glazunov\",\"Alexander Nikolayevich Scriabin\",\"Sergei Rachmaninoff\",\"Igor Stravinsky \",\"Serge Prokofiev\",\"Dmitri Shostakovich\",\"Mikhail Glinka\",\"Alexander Borodin \",\"Modest Mussorgsky\",\"Peter Ilyich Tchaikovsky \",\"Nikolai Rimsky-Korsakov \",\"Alexander Glazunov\",\"Alexander Nikolayevich Scriabin\",\"Sergei Rachmaninoff\",\"Igor Stravinsky \",\"Serge Prokofiev\",\"Dmitri Shostakovich\"],\"yaxis\":\"y\",\"type\":\"scatter\"},{\"hovertemplate\":\"Nationality=Polish\\u003cbr\\u003evalue=%{x}\\u003cbr\\u003eComposer=%{y}\\u003cextra\\u003e\\u003c\\u002fextra\\u003e\",\"legendgroup\":\"Polish\",\"marker\":{\"color\":\"#FECB52\",\"symbol\":\"circle\"},\"mode\":\"markers\",\"name\":\"Polish\",\"orientation\":\"h\",\"showlegend\":true,\"x\":[1810.0,1849.0],\"xaxis\":\"x\",\"y\":[\"Frederic Chopin\",\"Frederic Chopin\"],\"yaxis\":\"y\",\"type\":\"scatter\"},{\"hovertemplate\":\"Nationality=Hungarian\\u003cbr\\u003evalue=%{x}\\u003cbr\\u003eComposer=%{y}\\u003cextra\\u003e\\u003c\\u002fextra\\u003e\",\"legendgroup\":\"Hungarian\",\"marker\":{\"color\":\"#636efa\",\"symbol\":\"circle\"},\"mode\":\"markers\",\"name\":\"Hungarian\",\"orientation\":\"h\",\"showlegend\":true,\"x\":[1811.0,1881.0,1886.0,1945.0],\"xaxis\":\"x\",\"y\":[\"Franz Liszt \",\"Bela Bartok\",\"Franz Liszt \",\"Bela Bartok\"],\"yaxis\":\"y\",\"type\":\"scatter\"},{\"hovertemplate\":\"Nationality=Belgian\\u003cbr\\u003evalue=%{x}\\u003cbr\\u003eComposer=%{y}\\u003cextra\\u003e\\u003c\\u002fextra\\u003e\",\"legendgroup\":\"Belgian\",\"marker\":{\"color\":\"#EF553B\",\"symbol\":\"circle\"},\"mode\":\"markers\",\"name\":\"Belgian\",\"orientation\":\"h\",\"showlegend\":true,\"x\":[1822.0,1890.0],\"xaxis\":\"x\",\"y\":[\"Cesar Franck\",\"Cesar Franck\"],\"yaxis\":\"y\",\"type\":\"scatter\"},{\"hovertemplate\":\"Nationality=Czech\\u003cbr\\u003evalue=%{x}\\u003cbr\\u003eComposer=%{y}\\u003cextra\\u003e\\u003c\\u002fextra\\u003e\",\"legendgroup\":\"Czech\",\"marker\":{\"color\":\"#00cc96\",\"symbol\":\"circle\"},\"mode\":\"markers\",\"name\":\"Czech\",\"orientation\":\"h\",\"showlegend\":true,\"x\":[1824.0,1841.0,1854.0,1884.0,1904.0,1928.0],\"xaxis\":\"x\",\"y\":[\"Bedrich Smetana\",\"Antonin Dvorak\",\"Leos Janacek\",\"Bedrich Smetana\",\"Antonin Dvorak\",\"Leos Janacek\"],\"yaxis\":\"y\",\"type\":\"scatter\"},{\"hovertemplate\":\"Nationality=Norweigen\\u003cbr\\u003evalue=%{x}\\u003cbr\\u003eComposer=%{y}\\u003cextra\\u003e\\u003c\\u002fextra\\u003e\",\"legendgroup\":\"Norweigen\",\"marker\":{\"color\":\"#ab63fa\",\"symbol\":\"circle\"},\"mode\":\"markers\",\"name\":\"Norweigen\",\"orientation\":\"h\",\"showlegend\":true,\"x\":[1843.0,1907.0],\"xaxis\":\"x\",\"y\":[\"Edvard Grieg\",\"Edvard Grieg\"],\"yaxis\":\"y\",\"type\":\"scatter\"},{\"hovertemplate\":\"Nationality=Finnish\\u003cbr\\u003evalue=%{x}\\u003cbr\\u003eComposer=%{y}\\u003cextra\\u003e\\u003c\\u002fextra\\u003e\",\"legendgroup\":\"Finnish\",\"marker\":{\"color\":\"#FFA15A\",\"symbol\":\"circle\"},\"mode\":\"markers\",\"name\":\"Finnish\",\"orientation\":\"h\",\"showlegend\":true,\"x\":[1865.0,1957.0],\"xaxis\":\"x\",\"y\":[\"Jean Sibelius\",\"Jean Sibelius\"],\"yaxis\":\"y\",\"type\":\"scatter\"},{\"hovertemplate\":\"Nationality=Danish\\u003cbr\\u003evalue=%{x}\\u003cbr\\u003eComposer=%{y}\\u003cextra\\u003e\\u003c\\u002fextra\\u003e\",\"legendgroup\":\"Danish\",\"marker\":{\"color\":\"#19d3f3\",\"symbol\":\"circle\"},\"mode\":\"markers\",\"name\":\"Danish\",\"orientation\":\"h\",\"showlegend\":true,\"x\":[1865.0,1931.0],\"xaxis\":\"x\",\"y\":[\"Carl Nielsen\",\"Carl Nielsen\"],\"yaxis\":\"y\",\"type\":\"scatter\"},{\"hovertemplate\":\"Nationality=American\\u003cbr\\u003evalue=%{x}\\u003cbr\\u003eComposer=%{y}\\u003cextra\\u003e\\u003c\\u002fextra\\u003e\",\"legendgroup\":\"American\",\"marker\":{\"color\":\"#FF6692\",\"symbol\":\"circle\"},\"mode\":\"markers\",\"name\":\"American\",\"orientation\":\"h\",\"showlegend\":true,\"x\":[1874.0,1898.0,1900.0,1910.0,1912.0,1954.0,1937.0,1990.0,1981.0,1992.0],\"xaxis\":\"x\",\"y\":[\"Charles Ives \",\"George Gershwin \",\"Aaron Copland\",\"Samuel Barber\",\"John Cage\",\"Charles Ives \",\"George Gershwin \",\"Aaron Copland\",\"Samuel Barber\",\"John Cage\"],\"yaxis\":\"y\",\"type\":\"scatter\"}],                        {\"template\":{\"data\":{\"histogram2dcontour\":[{\"type\":\"histogram2dcontour\",\"colorbar\":{\"outlinewidth\":0,\"ticks\":\"\"},\"colorscale\":[[0.0,\"#0d0887\"],[0.1111111111111111,\"#46039f\"],[0.2222222222222222,\"#7201a8\"],[0.3333333333333333,\"#9c179e\"],[0.4444444444444444,\"#bd3786\"],[0.5555555555555556,\"#d8576b\"],[0.6666666666666666,\"#ed7953\"],[0.7777777777777778,\"#fb9f3a\"],[0.8888888888888888,\"#fdca26\"],[1.0,\"#f0f921\"]]}],\"choropleth\":[{\"type\":\"choropleth\",\"colorbar\":{\"outlinewidth\":0,\"ticks\":\"\"}}],\"histogram2d\":[{\"type\":\"histogram2d\",\"colorbar\":{\"outlinewidth\":0,\"ticks\":\"\"},\"colorscale\":[[0.0,\"#0d0887\"],[0.1111111111111111,\"#46039f\"],[0.2222222222222222,\"#7201a8\"],[0.3333333333333333,\"#9c179e\"],[0.4444444444444444,\"#bd3786\"],[0.5555555555555556,\"#d8576b\"],[0.6666666666666666,\"#ed7953\"],[0.7777777777777778,\"#fb9f3a\"],[0.8888888888888888,\"#fdca26\"],[1.0,\"#f0f921\"]]}],\"heatmap\":[{\"type\":\"heatmap\",\"colorbar\":{\"outlinewidth\":0,\"ticks\":\"\"},\"colorscale\":[[0.0,\"#0d0887\"],[0.1111111111111111,\"#46039f\"],[0.2222222222222222,\"#7201a8\"],[0.3333333333333333,\"#9c179e\"],[0.4444444444444444,\"#bd3786\"],[0.5555555555555556,\"#d8576b\"],[0.6666666666666666,\"#ed7953\"],[0.7777777777777778,\"#fb9f3a\"],[0.8888888888888888,\"#fdca26\"],[1.0,\"#f0f921\"]]}],\"heatmapgl\":[{\"type\":\"heatmapgl\",\"colorbar\":{\"outlinewidth\":0,\"ticks\":\"\"},\"colorscale\":[[0.0,\"#0d0887\"],[0.1111111111111111,\"#46039f\"],[0.2222222222222222,\"#7201a8\"],[0.3333333333333333,\"#9c179e\"],[0.4444444444444444,\"#bd3786\"],[0.5555555555555556,\"#d8576b\"],[0.6666666666666666,\"#ed7953\"],[0.7777777777777778,\"#fb9f3a\"],[0.8888888888888888,\"#fdca26\"],[1.0,\"#f0f921\"]]}],\"contourcarpet\":[{\"type\":\"contourcarpet\",\"colorbar\":{\"outlinewidth\":0,\"ticks\":\"\"}}],\"contour\":[{\"type\":\"contour\",\"colorbar\":{\"outlinewidth\":0,\"ticks\":\"\"},\"colorscale\":[[0.0,\"#0d0887\"],[0.1111111111111111,\"#46039f\"],[0.2222222222222222,\"#7201a8\"],[0.3333333333333333,\"#9c179e\"],[0.4444444444444444,\"#bd3786\"],[0.5555555555555556,\"#d8576b\"],[0.6666666666666666,\"#ed7953\"],[0.7777777777777778,\"#fb9f3a\"],[0.8888888888888888,\"#fdca26\"],[1.0,\"#f0f921\"]]}],\"surface\":[{\"type\":\"surface\",\"colorbar\":{\"outlinewidth\":0,\"ticks\":\"\"},\"colorscale\":[[0.0,\"#0d0887\"],[0.1111111111111111,\"#46039f\"],[0.2222222222222222,\"#7201a8\"],[0.3333333333333333,\"#9c179e\"],[0.4444444444444444,\"#bd3786\"],[0.5555555555555556,\"#d8576b\"],[0.6666666666666666,\"#ed7953\"],[0.7777777777777778,\"#fb9f3a\"],[0.8888888888888888,\"#fdca26\"],[1.0,\"#f0f921\"]]}],\"mesh3d\":[{\"type\":\"mesh3d\",\"colorbar\":{\"outlinewidth\":0,\"ticks\":\"\"}}],\"scatter\":[{\"fillpattern\":{\"fillmode\":\"overlay\",\"size\":10,\"solidity\":0.2},\"type\":\"scatter\"}],\"parcoords\":[{\"type\":\"parcoords\",\"line\":{\"colorbar\":{\"outlinewidth\":0,\"ticks\":\"\"}}}],\"scatterpolargl\":[{\"type\":\"scatterpolargl\",\"marker\":{\"colorbar\":{\"outlinewidth\":0,\"ticks\":\"\"}}}],\"bar\":[{\"error_x\":{\"color\":\"#2a3f5f\"},\"error_y\":{\"color\":\"#2a3f5f\"},\"marker\":{\"line\":{\"color\":\"#E5ECF6\",\"width\":0.5},\"pattern\":{\"fillmode\":\"overlay\",\"size\":10,\"solidity\":0.2}},\"type\":\"bar\"}],\"scattergeo\":[{\"type\":\"scattergeo\",\"marker\":{\"colorbar\":{\"outlinewidth\":0,\"ticks\":\"\"}}}],\"scatterpolar\":[{\"type\":\"scatterpolar\",\"marker\":{\"colorbar\":{\"outlinewidth\":0,\"ticks\":\"\"}}}],\"histogram\":[{\"marker\":{\"pattern\":{\"fillmode\":\"overlay\",\"size\":10,\"solidity\":0.2}},\"type\":\"histogram\"}],\"scattergl\":[{\"type\":\"scattergl\",\"marker\":{\"colorbar\":{\"outlinewidth\":0,\"ticks\":\"\"}}}],\"scatter3d\":[{\"type\":\"scatter3d\",\"line\":{\"colorbar\":{\"outlinewidth\":0,\"ticks\":\"\"}},\"marker\":{\"colorbar\":{\"outlinewidth\":0,\"ticks\":\"\"}}}],\"scattermapbox\":[{\"type\":\"scattermapbox\",\"marker\":{\"colorbar\":{\"outlinewidth\":0,\"ticks\":\"\"}}}],\"scatterternary\":[{\"type\":\"scatterternary\",\"marker\":{\"colorbar\":{\"outlinewidth\":0,\"ticks\":\"\"}}}],\"scattercarpet\":[{\"type\":\"scattercarpet\",\"marker\":{\"colorbar\":{\"outlinewidth\":0,\"ticks\":\"\"}}}],\"carpet\":[{\"aaxis\":{\"endlinecolor\":\"#2a3f5f\",\"gridcolor\":\"white\",\"linecolor\":\"white\",\"minorgridcolor\":\"white\",\"startlinecolor\":\"#2a3f5f\"},\"baxis\":{\"endlinecolor\":\"#2a3f5f\",\"gridcolor\":\"white\",\"linecolor\":\"white\",\"minorgridcolor\":\"white\",\"startlinecolor\":\"#2a3f5f\"},\"type\":\"carpet\"}],\"table\":[{\"cells\":{\"fill\":{\"color\":\"#EBF0F8\"},\"line\":{\"color\":\"white\"}},\"header\":{\"fill\":{\"color\":\"#C8D4E3\"},\"line\":{\"color\":\"white\"}},\"type\":\"table\"}],\"barpolar\":[{\"marker\":{\"line\":{\"color\":\"#E5ECF6\",\"width\":0.5},\"pattern\":{\"fillmode\":\"overlay\",\"size\":10,\"solidity\":0.2}},\"type\":\"barpolar\"}],\"pie\":[{\"automargin\":true,\"type\":\"pie\"}]},\"layout\":{\"autotypenumbers\":\"strict\",\"colorway\":[\"#636efa\",\"#EF553B\",\"#00cc96\",\"#ab63fa\",\"#FFA15A\",\"#19d3f3\",\"#FF6692\",\"#B6E880\",\"#FF97FF\",\"#FECB52\"],\"font\":{\"color\":\"#2a3f5f\"},\"hovermode\":\"closest\",\"hoverlabel\":{\"align\":\"left\"},\"paper_bgcolor\":\"white\",\"plot_bgcolor\":\"#E5ECF6\",\"polar\":{\"bgcolor\":\"#E5ECF6\",\"angularaxis\":{\"gridcolor\":\"white\",\"linecolor\":\"white\",\"ticks\":\"\"},\"radialaxis\":{\"gridcolor\":\"white\",\"linecolor\":\"white\",\"ticks\":\"\"}},\"ternary\":{\"bgcolor\":\"#E5ECF6\",\"aaxis\":{\"gridcolor\":\"white\",\"linecolor\":\"white\",\"ticks\":\"\"},\"baxis\":{\"gridcolor\":\"white\",\"linecolor\":\"white\",\"ticks\":\"\"},\"caxis\":{\"gridcolor\":\"white\",\"linecolor\":\"white\",\"ticks\":\"\"}},\"coloraxis\":{\"colorbar\":{\"outlinewidth\":0,\"ticks\":\"\"}},\"colorscale\":{\"sequential\":[[0.0,\"#0d0887\"],[0.1111111111111111,\"#46039f\"],[0.2222222222222222,\"#7201a8\"],[0.3333333333333333,\"#9c179e\"],[0.4444444444444444,\"#bd3786\"],[0.5555555555555556,\"#d8576b\"],[0.6666666666666666,\"#ed7953\"],[0.7777777777777778,\"#fb9f3a\"],[0.8888888888888888,\"#fdca26\"],[1.0,\"#f0f921\"]],\"sequentialminus\":[[0.0,\"#0d0887\"],[0.1111111111111111,\"#46039f\"],[0.2222222222222222,\"#7201a8\"],[0.3333333333333333,\"#9c179e\"],[0.4444444444444444,\"#bd3786\"],[0.5555555555555556,\"#d8576b\"],[0.6666666666666666,\"#ed7953\"],[0.7777777777777778,\"#fb9f3a\"],[0.8888888888888888,\"#fdca26\"],[1.0,\"#f0f921\"]],\"diverging\":[[0,\"#8e0152\"],[0.1,\"#c51b7d\"],[0.2,\"#de77ae\"],[0.3,\"#f1b6da\"],[0.4,\"#fde0ef\"],[0.5,\"#f7f7f7\"],[0.6,\"#e6f5d0\"],[0.7,\"#b8e186\"],[0.8,\"#7fbc41\"],[0.9,\"#4d9221\"],[1,\"#276419\"]]},\"xaxis\":{\"gridcolor\":\"white\",\"linecolor\":\"white\",\"ticks\":\"\",\"title\":{\"standoff\":15},\"zerolinecolor\":\"white\",\"automargin\":true,\"zerolinewidth\":2},\"yaxis\":{\"gridcolor\":\"white\",\"linecolor\":\"white\",\"ticks\":\"\",\"title\":{\"standoff\":15},\"zerolinecolor\":\"white\",\"automargin\":true,\"zerolinewidth\":2},\"scene\":{\"xaxis\":{\"backgroundcolor\":\"#E5ECF6\",\"gridcolor\":\"white\",\"linecolor\":\"white\",\"showbackground\":true,\"ticks\":\"\",\"zerolinecolor\":\"white\",\"gridwidth\":2},\"yaxis\":{\"backgroundcolor\":\"#E5ECF6\",\"gridcolor\":\"white\",\"linecolor\":\"white\",\"showbackground\":true,\"ticks\":\"\",\"zerolinecolor\":\"white\",\"gridwidth\":2},\"zaxis\":{\"backgroundcolor\":\"#E5ECF6\",\"gridcolor\":\"white\",\"linecolor\":\"white\",\"showbackground\":true,\"ticks\":\"\",\"zerolinecolor\":\"white\",\"gridwidth\":2}},\"shapedefaults\":{\"line\":{\"color\":\"#2a3f5f\"}},\"annotationdefaults\":{\"arrowcolor\":\"#2a3f5f\",\"arrowhead\":0,\"arrowwidth\":1},\"geo\":{\"bgcolor\":\"white\",\"landcolor\":\"#E5ECF6\",\"subunitcolor\":\"white\",\"showland\":true,\"showlakes\":true,\"lakecolor\":\"white\"},\"title\":{\"x\":0.05},\"mapbox\":{\"style\":\"light\"}}},\"xaxis\":{\"anchor\":\"y\",\"domain\":[0.0,1.0],\"title\":{\"text\":\"value\"}},\"yaxis\":{\"anchor\":\"x\",\"domain\":[0.0,1.0],\"title\":{\"text\":\"Composer\"}},\"legend\":{\"title\":{\"text\":\"Nationality\"},\"tracegroupgap\":0},\"margin\":{\"t\":60},\"height\":1800},                        {\"responsive\": true}                    ).then(function(){\n",
       "                            \n",
       "var gd = document.getElementById('f9031942-567e-4013-992b-34d534c3573c');\n",
       "var x = new MutationObserver(function (mutations, observer) {{\n",
       "        var display = window.getComputedStyle(gd).display;\n",
       "        if (!display || display === 'none') {{\n",
       "            console.log([gd, 'removed!']);\n",
       "            Plotly.purge(gd);\n",
       "            observer.disconnect();\n",
       "        }}\n",
       "}});\n",
       "\n",
       "// Listen for the removal of the full notebook cells\n",
       "var notebookContainer = gd.closest('#notebook-container');\n",
       "if (notebookContainer) {{\n",
       "    x.observe(notebookContainer, {childList: true});\n",
       "}}\n",
       "\n",
       "// Listen for the clearing of the current output cell\n",
       "var outputEl = gd.closest('.output');\n",
       "if (outputEl) {{\n",
       "    x.observe(outputEl, {childList: true});\n",
       "}}\n",
       "\n",
       "                        })                };                });            </script>        </div>"
      ]
     },
     "metadata": {},
     "output_type": "display_data"
    }
   ],
   "source": [
    "express.scatter(data_frame=df.sort_values(by='Born'), y='Composer', x=['Born', 'Died'], height=1800, color='Nationality' )"
   ]
  },
  {
   "cell_type": "markdown",
   "id": "6c2d2dce",
   "metadata": {
    "papermill": {
     "duration": 0.005404,
     "end_time": "2024-03-02T16:57:17.236584",
     "exception": false,
     "start_time": "2024-03-02T16:57:17.231180",
     "status": "completed"
    },
    "tags": []
   },
   "source": [
    "Another thing we can try to do is capture a sense of whether compositions have gotten longer or shorter over time. We don't have the date of composition or first performance for the biggest piece data, but we can place each composer in time by taking the midpoint of the year data."
   ]
  },
  {
   "cell_type": "code",
   "execution_count": 4,
   "id": "9c4e06c5",
   "metadata": {
    "execution": {
     "iopub.execute_input": "2024-03-02T16:57:17.251298Z",
     "iopub.status.busy": "2024-03-02T16:57:17.250867Z",
     "iopub.status.idle": "2024-03-02T16:57:17.420633Z",
     "shell.execute_reply": "2024-03-02T16:57:17.419563Z"
    },
    "papermill": {
     "duration": 0.180688,
     "end_time": "2024-03-02T16:57:17.423123",
     "exception": false,
     "start_time": "2024-03-02T16:57:17.242435",
     "status": "completed"
    },
    "tags": []
   },
   "outputs": [
    {
     "data": {
      "text/html": [
       "<div>                            <div id=\"21cb3abc-59fe-4d5d-8a90-3fc7ea9ba1d3\" class=\"plotly-graph-div\" style=\"height:525px; width:100%;\"></div>            <script type=\"text/javascript\">                require([\"plotly\"], function(Plotly) {                    window.PLOTLYENV=window.PLOTLYENV || {};                                    if (document.getElementById(\"21cb3abc-59fe-4d5d-8a90-3fc7ea9ba1d3\")) {                    Plotly.newPlot(                        \"21cb3abc-59fe-4d5d-8a90-3fc7ea9ba1d3\",                        [{\"customdata\":[[\"Symphony No. 9   \"],[\"Mass in B minor\"],[\"Der Ring des Nibelungen\"],[\" Symphony No. 4  \"],[\"Messiah   \"],[\"Symphony No. 3 \"],[\"Symphony No. 4\"],[\"Also sprach Zarathustra\"],[\"Der Freisch■tz, Clarinet Concerto\"],[\"Orfeo ed Euridice, Alceste\"],[\"Mathis der Maler, Symphony in B-flat\"],[\"Tafelmusik, Brockes Passion\"],[\"Magnificat, Keyboard Sonatas\"],[\"Musikalische Exequien, Psalmen Davids\"],[\"Membra Jesu Nostri, Praeludium in C\"],[\"Les Huguenots, L'Africaine\"],[\"Ordo Virtutum, Symphony of the Harmony of Celestial Revelation\"]],\"hovertemplate\":\"\\u003cb\\u003e%{hovertext}\\u003c\\u002fb\\u003e\\u003cbr\\u003e\\u003cbr\\u003eNationality=German   \\u003cbr\\u003emid=%{x}\\u003cbr\\u003eDuration of Biggest Piece(mins)=%{y}\\u003cbr\\u003eBiggest Piece=%{customdata[0]}\\u003cextra\\u003e\\u003c\\u002fextra\\u003e\",\"hovertext\":[\"Ludwig van Beethoven\",\"Johann Sebastian Bach \",\"Richard Wagner\",\"Johannes Brahms\",\"George Frideric Handel \",\"Robert Schumann\",\"Felix Mendelssohn \",\"Richard Strauss \",\"Carl Maria von Weber\",\"Christoph Willibald Gluck\",\"Paul Hindemith \",\"Georg Philipp Telemann\",\"Carl Philipp Emanuel Bach\",\"Heinrich Sch■tz\",\"Dietrich Buxtehude\",\"Giacomo Meyerbeer\",\"Hildegard von Bingen\"],\"legendgroup\":\"German   \",\"marker\":{\"color\":\"#636efa\",\"symbol\":\"circle\"},\"mode\":\"markers\",\"name\":\"German   \",\"orientation\":\"v\",\"showlegend\":true,\"x\":[1780.5,1717.5,1848.0,1865.0,1722.0,1833.0,1828.0,1906.5,1806.0,1750.5,1929.0,1724.0,1751.0,1628.5,1672.0,1827.5,1138.5],\"xaxis\":\"x\",\"y\":[65.0,125.0,null,40.0,135.0,30.0,28.0,24.0,null,null,26.0,null,null,null,null,null,null],\"yaxis\":\"y\",\"type\":\"scatter\"},{\"customdata\":[[\"Symphony No.41\"],[\"Symphony No. 45\"],[\"Symphony No. 9  \"],[\"Symphony No. 2, Symphony No. 5, Symphony No. 9\"],[\"Symphony No. 8\"],[\"Pierrot Lunaire, Verklðrte Nacht\"],[\"Five Pieces for Orchestra\"],[\"Die Fledermaus, The Blue Danube\"],[\"Wozzeck, Lulu\"],[\"M—rike-Lieder, Italienisches Liederbuch\"]],\"hovertemplate\":\"\\u003cb\\u003e%{hovertext}\\u003c\\u002fb\\u003e\\u003cbr\\u003e\\u003cbr\\u003eNationality=Austrian\\u003cbr\\u003emid=%{x}\\u003cbr\\u003eDuration of Biggest Piece(mins)=%{y}\\u003cbr\\u003eBiggest Piece=%{customdata[0]}\\u003cextra\\u003e\\u003c\\u002fextra\\u003e\",\"hovertext\":[\"Wolfgang Amadeus Mozart \",\"Joseph Haydn \",\"Franz Schubert \",\"Gustav Mahler \",\"Anton Bruckner\",\"Arnold Schoenberg\",\"Anton Webern\",\"Johann Strauss II\",\"Alban Berg \",\"Hugo Wolf\"],\"legendgroup\":\"Austrian\",\"marker\":{\"color\":\"#EF553B\",\"symbol\":\"circle\"},\"mode\":\"markers\",\"name\":\"Austrian\",\"orientation\":\"v\",\"showlegend\":true,\"x\":[1773.5,1770.5,1812.5,1885.5,1860.0,1912.5,1914.0,1862.0,1910.0,1881.5],\"xaxis\":\"x\",\"y\":[33.0,25.0,64.0,null,80.0,20.0,7.0,null,null,null],\"yaxis\":\"y\",\"type\":\"scatter\"},{\"customdata\":[[\"Symphony No. 6\"],[\"The Rite of Spring \"],[\"Romeo and Juliet, Peter and the Wolf\"],[\"Symphony No. 5, Symphony No. 7\"],[\"Pictures at an Exhibition\"],[\"Piano Concerto No. 2, Symphony No. 2\"],[\"Scheherazade, The Flight of the Bumblebee\"],[\"Prometheus, The Poem of Ecstasy\"],[\"Prince Igor, Polovtsian Dances\"],[\"A Life for the Tsar, Ruslan and Ludmila\"],[\"The Seasons, Symphony No. 5\"]],\"hovertemplate\":\"\\u003cb\\u003e%{hovertext}\\u003c\\u002fb\\u003e\\u003cbr\\u003e\\u003cbr\\u003eNationality=Russian\\u003cbr\\u003emid=%{x}\\u003cbr\\u003eDuration of Biggest Piece(mins)=%{y}\\u003cbr\\u003eBiggest Piece=%{customdata[0]}\\u003cextra\\u003e\\u003c\\u002fextra\\u003e\",\"hovertext\":[\"Peter Ilyich Tchaikovsky \",\"Igor Stravinsky \",\"Serge Prokofiev\",\"Dmitri Shostakovich\",\"Modest Mussorgsky\",\"Sergei Rachmaninoff\",\"Nikolai Rimsky-Korsakov \",\"Alexander Nikolayevich Scriabin\",\"Alexander Borodin \",\"Mikhail Glinka\",\"Alexander Glazunov\"],\"legendgroup\":\"Russian\",\"marker\":{\"color\":\"#00cc96\",\"symbol\":\"circle\"},\"mode\":\"markers\",\"name\":\"Russian\",\"orientation\":\"v\",\"showlegend\":true,\"x\":[1866.5,1926.5,1922.0,1940.5,1860.0,1908.0,1876.0,1893.5,1860.0,1830.5,1900.5],\"xaxis\":\"x\",\"y\":[75.0,33.0,null,50.0,30.0,30.0,45.0,20.0,11.0,null,35.0],\"yaxis\":\"y\",\"type\":\"scatter\"},{\"customdata\":[[\"Piano Sonata No. 3 \"]],\"hovertemplate\":\"\\u003cb\\u003e%{hovertext}\\u003c\\u002fb\\u003e\\u003cbr\\u003e\\u003cbr\\u003eNationality=Polish\\u003cbr\\u003emid=%{x}\\u003cbr\\u003eDuration of Biggest Piece(mins)=%{y}\\u003cbr\\u003eBiggest Piece=%{customdata[0]}\\u003cextra\\u003e\\u003c\\u002fextra\\u003e\",\"hovertext\":[\"Frederic Chopin\"],\"legendgroup\":\"Polish\",\"marker\":{\"color\":\"#ab63fa\",\"symbol\":\"circle\"},\"mode\":\"markers\",\"name\":\"Polish\",\"orientation\":\"v\",\"showlegend\":true,\"x\":[1829.5],\"xaxis\":\"x\",\"y\":[24.0],\"yaxis\":\"y\",\"type\":\"scatter\"},{\"customdata\":[[\"Prelude to the Afternoon \"],[\"Symphonie fantastique\"],[\"BolÕro, Daphnis et ChloÕ\"],[\"Carnival of the Animals, Symphony No. 3\"],[\"Hippolyte et Aricie, Dardanus\"],[\"Requiem, Pavane\"],[\"Quartet for the End of Time\"],[\"Les Nations, L'Art de toucher le clavecin\"],[\"GymnopÕdies, Gnossiennes\"],[\"Carmen, L'ArlÕsienne\"],[\"Messe de Nostre Dame\"],[\"Faust, RomÕo et Juliette\"],[\"Manon, Werther\"],[\"Dialogues of the Carmelites, Gloria\"],[\"Viderunt omnes, Sederunt principes\"],[\"Scaramouche, Le boeuf sur le toit\"],[\"Magnus Liber Organi\"]],\"hovertemplate\":\"\\u003cb\\u003e%{hovertext}\\u003c\\u002fb\\u003e\\u003cbr\\u003e\\u003cbr\\u003eNationality=French\\u003cbr\\u003emid=%{x}\\u003cbr\\u003eDuration of Biggest Piece(mins)=%{y}\\u003cbr\\u003eBiggest Piece=%{customdata[0]}\\u003cextra\\u003e\\u003c\\u002fextra\\u003e\",\"hovertext\":[\"Claude Debussy \",\"Hector Berlioz\",\" Maurice Ravel \",\"Camille Saint-Saens\",\"Jean-Philippe Rameau\",\"Gabriel Faure\",\"Olivier Messiaen\",\"Francois Couperin\",\"Erik Satie\",\"Georges Bizet\",\"Guillaume de Machaut\",\"Charles Gounod\",\"Jules Massenet\",\"Francis Poulenc\",\"PÕrotin\",\"Darius Milhaud\",\"LÕonin\"],\"legendgroup\":\"French\",\"marker\":{\"color\":\"#FFA15A\",\"symbol\":\"circle\"},\"mode\":\"markers\",\"name\":\"French\",\"orientation\":\"v\",\"showlegend\":true,\"x\":[1890.0,1836.0,1906.0,1878.0,1723.5,1884.5,1950.0,1700.5,1895.5,1856.5,1338.5,1856.5,1877.0,1931.0,1192.5,1933.0,1168.0],\"xaxis\":\"x\",\"y\":[10.0,54.0,15.0,25.0,null,35.0,50.0,null,7.0,null,30.0,null,null,24.0,null,10.0,null],\"yaxis\":\"y\",\"type\":\"scatter\"},{\"customdata\":[[\"Piano Sonata in B mino\"],[\"Concerto for Orchestra\"]],\"hovertemplate\":\"\\u003cb\\u003e%{hovertext}\\u003c\\u002fb\\u003e\\u003cbr\\u003e\\u003cbr\\u003eNationality=Hungarian\\u003cbr\\u003emid=%{x}\\u003cbr\\u003eDuration of Biggest Piece(mins)=%{y}\\u003cbr\\u003eBiggest Piece=%{customdata[0]}\\u003cextra\\u003e\\u003c\\u002fextra\\u003e\",\"hovertext\":[\"Franz Liszt \",\"Bela Bartok\"],\"legendgroup\":\"Hungarian\",\"marker\":{\"color\":\"#19d3f3\",\"symbol\":\"circle\"},\"mode\":\"markers\",\"name\":\"Hungarian\",\"orientation\":\"v\",\"showlegend\":true,\"x\":[1848.5,1913.0],\"xaxis\":\"x\",\"y\":[31.0,38.0],\"yaxis\":\"y\",\"type\":\"scatter\"},{\"customdata\":[[\"Symphony No. 9 \\\"From the New World\\\"\"],[\"MÃ vlast (My Homeland)\"],[\"Sinfonietta, The Cunning Little Vixen\"]],\"hovertemplate\":\"\\u003cb\\u003e%{hovertext}\\u003c\\u002fb\\u003e\\u003cbr\\u003e\\u003cbr\\u003eNationality=Czech\\u003cbr\\u003emid=%{x}\\u003cbr\\u003eDuration of Biggest Piece(mins)=%{y}\\u003cbr\\u003eBiggest Piece=%{customdata[0]}\\u003cextra\\u003e\\u003c\\u002fextra\\u003e\",\"hovertext\":[\"Antonin Dvorak\",\"Bedrich Smetana\",\"Leos Janacek\"],\"legendgroup\":\"Czech\",\"marker\":{\"color\":\"#FF6692\",\"symbol\":\"circle\"},\"mode\":\"markers\",\"name\":\"Czech\",\"orientation\":\"v\",\"showlegend\":true,\"x\":[1872.5,1854.0,1891.0],\"xaxis\":\"x\",\"y\":[45.0,75.0,25.0],\"yaxis\":\"y\",\"type\":\"scatter\"},{\"customdata\":[[\"La Traviata, Rigoletto, Aida, Nabucco\"],[\"The Four Seasons \"],[\"Missa Papae Marcelli\"],[\"L'Orfeo\"],[\"La BohÒme, Tosca, Madama Butterfly\"],[\"The Barber of Seville, William Tell\"],[\"Armide, PhaŠton\"],[\"Keyboard Sonatas\"],[\"Lucia di Lammermoor, Don Pasquale\"],[\"Concerti Grossi, Sonatas\"],[\"Norma, La Sonnambula\"],[\"Sacrae symphonia, Canzonas\"],[\"Stabat Mater, La serva padrona\"],[\"Pines of Rome, Fountains of Rome\"],[\"Madrigals, Tenebrae Responsories\"]],\"hovertemplate\":\"\\u003cb\\u003e%{hovertext}\\u003c\\u002fb\\u003e\\u003cbr\\u003e\\u003cbr\\u003eNationality=Italian\\u003cbr\\u003emid=%{x}\\u003cbr\\u003eDuration of Biggest Piece(mins)=%{y}\\u003cbr\\u003eBiggest Piece=%{customdata[0]}\\u003cextra\\u003e\\u003c\\u002fextra\\u003e\",\"hovertext\":[\"Giuseppe Verdi\",\"Antonio Vivaldi \",\"Giovanni Pierluigi da Palestrina \",\"Claudio Monteverdi\",\"Giacomo Puccini\",\"Gioacchino Rossini\",\"Jean-Baptiste Lully \",\"Domenico Scarlatti\",\"Gaetano Donizetti\",\"Archangelo Corelli\",\"Vincenzo Bellini \",\"Giovanni Gabrieli\",\"Giovanni Battista Pergolesi\",\"Ottorino Respighi\",\"Don Carlo Gesualdo\"],\"legendgroup\":\"Italian\",\"marker\":{\"color\":\"#B6E880\",\"symbol\":\"circle\"},\"mode\":\"markers\",\"name\":\"Italian\",\"orientation\":\"v\",\"showlegend\":true,\"x\":[1857.0,1709.5,1559.5,1605.0,1891.0,1830.0,1664.5,1721.0,1822.5,1683.0,1818.0,1583.0,1723.0,1907.5,1589.5],\"xaxis\":\"x\",\"y\":[null,40.0,35.0,135.0,null,null,null,null,null,null,null,null,40.0,22.0,null],\"yaxis\":\"y\",\"type\":\"scatter\"},{\"customdata\":[[\"Symphony No. 5\"]],\"hovertemplate\":\"\\u003cb\\u003e%{hovertext}\\u003c\\u002fb\\u003e\\u003cbr\\u003e\\u003cbr\\u003eNationality=Finnish\\u003cbr\\u003emid=%{x}\\u003cbr\\u003eDuration of Biggest Piece(mins)=%{y}\\u003cbr\\u003eBiggest Piece=%{customdata[0]}\\u003cextra\\u003e\\u003c\\u002fextra\\u003e\",\"hovertext\":[\"Jean Sibelius\"],\"legendgroup\":\"Finnish\",\"marker\":{\"color\":\"#FF97FF\",\"symbol\":\"circle\"},\"mode\":\"markers\",\"name\":\"Finnish\",\"orientation\":\"v\",\"showlegend\":true,\"x\":[1911.0],\"xaxis\":\"x\",\"y\":[32.0],\"yaxis\":\"y\",\"type\":\"scatter\"},{\"customdata\":[[\"The Lark Ascending\"],[\"Dido and Aeneas\"],[\"Enigma Variations, Cello Concerto\"],[\"Mass for Four Voices, Ave verum corpus\"],[\"War Requiem, Peter Grimes\"],[\"Spem in alium, Lamentations of Jeremiah\"],[\"Lachrimae, Flow my tears\"],[\"The Planets, St. Paul's Suite\"],[\"Belshazzar's Feast, Violin Concerto\"],[\"Hosanna to the Son of David\"]],\"hovertemplate\":\"\\u003cb\\u003e%{hovertext}\\u003c\\u002fb\\u003e\\u003cbr\\u003e\\u003cbr\\u003eNationality=English\\u003cbr\\u003emid=%{x}\\u003cbr\\u003eDuration of Biggest Piece(mins)=%{y}\\u003cbr\\u003eBiggest Piece=%{customdata[0]}\\u003cextra\\u003e\\u003c\\u002fextra\\u003e\",\"hovertext\":[\"Ralph Vaughan Williams\",\"Henry Purcell\",\"Edward Elgar\",\"William Byrd\",\"Benjamin Britten\",\"Thomas Tallis\",\"John Dowland\",\"Gustav Holst\",\"William Walton\",\"Orlando Gibbons\"],\"legendgroup\":\"English\",\"marker\":{\"color\":\"#FECB52\",\"symbol\":\"circle\"},\"mode\":\"markers\",\"name\":\"English\",\"orientation\":\"v\",\"showlegend\":true,\"x\":[1915.0,1677.0,1890.5,1581.0,1944.5,1545.0,1594.5,1904.0,1942.5,1604.0],\"xaxis\":\"x\",\"y\":[15.0,75.0,30.0,null,60.0,10.0,null,50.0,35.0,4.0],\"yaxis\":\"y\",\"type\":\"scatter\"},{\"customdata\":[[\"Ave Maria, Missa Pange lingua\"]],\"hovertemplate\":\"\\u003cb\\u003e%{hovertext}\\u003c\\u002fb\\u003e\\u003cbr\\u003e\\u003cbr\\u003eNationality=Flemish\\u003cbr\\u003emid=%{x}\\u003cbr\\u003eDuration of Biggest Piece(mins)=%{y}\\u003cbr\\u003eBiggest Piece=%{customdata[0]}\\u003cextra\\u003e\\u003c\\u002fextra\\u003e\",\"hovertext\":[\"Josquin Des Prez \"],\"legendgroup\":\"Flemish\",\"marker\":{\"color\":\"#636efa\",\"symbol\":\"circle\"},\"mode\":\"markers\",\"name\":\"Flemish\",\"orientation\":\"v\",\"showlegend\":true,\"x\":[1480.5],\"xaxis\":\"x\",\"y\":[null],\"yaxis\":\"y\",\"type\":\"scatter\"},{\"customdata\":[[\"Peer Gynt Suite, Piano Concerto\"]],\"hovertemplate\":\"\\u003cb\\u003e%{hovertext}\\u003c\\u002fb\\u003e\\u003cbr\\u003e\\u003cbr\\u003eNationality=Norweigen\\u003cbr\\u003emid=%{x}\\u003cbr\\u003eDuration of Biggest Piece(mins)=%{y}\\u003cbr\\u003eBiggest Piece=%{customdata[0]}\\u003cextra\\u003e\\u003c\\u002fextra\\u003e\",\"hovertext\":[\"Edvard Grieg\"],\"legendgroup\":\"Norweigen\",\"marker\":{\"color\":\"#EF553B\",\"symbol\":\"circle\"},\"mode\":\"markers\",\"name\":\"Norweigen\",\"orientation\":\"v\",\"showlegend\":true,\"x\":[1875.0],\"xaxis\":\"x\",\"y\":[30.0],\"yaxis\":\"y\",\"type\":\"scatter\"},{\"customdata\":[[\"Symphony No. 4, The Unanswered Question\"],[\"Appalachian Spring, Fanfare for the Common Man\"],[\"Rhapsody in Blue, Porgy and Bess\"],[\"4'33\\\", Sonatas and Interludes\"],[\"Adagio for Strings, Knoxville: Summer of 1915\"]],\"hovertemplate\":\"\\u003cb\\u003e%{hovertext}\\u003c\\u002fb\\u003e\\u003cbr\\u003e\\u003cbr\\u003eNationality=American\\u003cbr\\u003emid=%{x}\\u003cbr\\u003eDuration of Biggest Piece(mins)=%{y}\\u003cbr\\u003eBiggest Piece=%{customdata[0]}\\u003cextra\\u003e\\u003c\\u002fextra\\u003e\",\"hovertext\":[\"Charles Ives \",\"Aaron Copland\",\"George Gershwin \",\"John Cage\",\"Samuel Barber\"],\"legendgroup\":\"American\",\"marker\":{\"color\":\"#00cc96\",\"symbol\":\"circle\"},\"mode\":\"markers\",\"name\":\"American\",\"orientation\":\"v\",\"showlegend\":true,\"x\":[1914.0,1945.0,1917.5,1952.0,1945.5],\"xaxis\":\"x\",\"y\":[30.0,25.0,17.0,25.0,8.0],\"yaxis\":\"y\",\"type\":\"scatter\"},{\"customdata\":[[\"Symphony in D minor, Violin Sonata\"]],\"hovertemplate\":\"\\u003cb\\u003e%{hovertext}\\u003c\\u002fb\\u003e\\u003cbr\\u003e\\u003cbr\\u003eNationality=Belgian\\u003cbr\\u003emid=%{x}\\u003cbr\\u003eDuration of Biggest Piece(mins)=%{y}\\u003cbr\\u003eBiggest Piece=%{customdata[0]}\\u003cextra\\u003e\\u003c\\u002fextra\\u003e\",\"hovertext\":[\"Cesar Franck\"],\"legendgroup\":\"Belgian\",\"marker\":{\"color\":\"#ab63fa\",\"symbol\":\"circle\"},\"mode\":\"markers\",\"name\":\"Belgian\",\"orientation\":\"v\",\"showlegend\":true,\"x\":[1856.0],\"xaxis\":\"x\",\"y\":[40.0],\"yaxis\":\"y\",\"type\":\"scatter\"},{\"customdata\":[[\"Lagrime di San Pietro\"],[\"Missa Se la face ay pale, Nuper rosarum flores\"]],\"hovertemplate\":\"\\u003cb\\u003e%{hovertext}\\u003c\\u002fb\\u003e\\u003cbr\\u003e\\u003cbr\\u003eNationality=Franco-Flemish\\u003cbr\\u003emid=%{x}\\u003cbr\\u003eDuration of Biggest Piece(mins)=%{y}\\u003cbr\\u003eBiggest Piece=%{customdata[0]}\\u003cextra\\u003e\\u003c\\u002fextra\\u003e\",\"hovertext\":[\"Roland de Lassus\",\"Guillaume Dufay\"],\"legendgroup\":\"Franco-Flemish\",\"marker\":{\"color\":\"#FFA15A\",\"symbol\":\"circle\"},\"mode\":\"markers\",\"name\":\"Franco-Flemish\",\"orientation\":\"v\",\"showlegend\":true,\"x\":[1563.0,1437.0],\"xaxis\":\"x\",\"y\":[75.0,40.0],\"yaxis\":\"y\",\"type\":\"scatter\"},{\"customdata\":[[\"Symphony No. 4, Violin Concerto\"]],\"hovertemplate\":\"\\u003cb\\u003e%{hovertext}\\u003c\\u002fb\\u003e\\u003cbr\\u003e\\u003cbr\\u003eNationality=Danish\\u003cbr\\u003emid=%{x}\\u003cbr\\u003eDuration of Biggest Piece(mins)=%{y}\\u003cbr\\u003eBiggest Piece=%{customdata[0]}\\u003cextra\\u003e\\u003c\\u002fextra\\u003e\",\"hovertext\":[\"Carl Nielsen\"],\"legendgroup\":\"Danish\",\"marker\":{\"color\":\"#19d3f3\",\"symbol\":\"circle\"},\"mode\":\"markers\",\"name\":\"Danish\",\"orientation\":\"v\",\"showlegend\":true,\"x\":[1898.0],\"xaxis\":\"x\",\"y\":[35.0],\"yaxis\":\"y\",\"type\":\"scatter\"},{\"customdata\":[[\"Requiem, O magnum mysterium \"],[\"El amor brujo, Noches en los jardines de Espaþa\"]],\"hovertemplate\":\"\\u003cb\\u003e%{hovertext}\\u003c\\u002fb\\u003e\\u003cbr\\u003e\\u003cbr\\u003eNationality=Spanish\\u003cbr\\u003emid=%{x}\\u003cbr\\u003eDuration of Biggest Piece(mins)=%{y}\\u003cbr\\u003eBiggest Piece=%{customdata[0]}\\u003cextra\\u003e\\u003c\\u002fextra\\u003e\",\"hovertext\":[\"TomÃs Luis de Victoria\",\"Manuel de Falla\"],\"legendgroup\":\"Spanish\",\"marker\":{\"color\":\"#FF6692\",\"symbol\":\"circle\"},\"mode\":\"markers\",\"name\":\"Spanish\",\"orientation\":\"v\",\"showlegend\":true,\"x\":[1580.0,1911.0],\"xaxis\":\"x\",\"y\":[null,23.0],\"yaxis\":\"y\",\"type\":\"scatter\"}],                        {\"template\":{\"data\":{\"histogram2dcontour\":[{\"type\":\"histogram2dcontour\",\"colorbar\":{\"outlinewidth\":0,\"ticks\":\"\"},\"colorscale\":[[0.0,\"#0d0887\"],[0.1111111111111111,\"#46039f\"],[0.2222222222222222,\"#7201a8\"],[0.3333333333333333,\"#9c179e\"],[0.4444444444444444,\"#bd3786\"],[0.5555555555555556,\"#d8576b\"],[0.6666666666666666,\"#ed7953\"],[0.7777777777777778,\"#fb9f3a\"],[0.8888888888888888,\"#fdca26\"],[1.0,\"#f0f921\"]]}],\"choropleth\":[{\"type\":\"choropleth\",\"colorbar\":{\"outlinewidth\":0,\"ticks\":\"\"}}],\"histogram2d\":[{\"type\":\"histogram2d\",\"colorbar\":{\"outlinewidth\":0,\"ticks\":\"\"},\"colorscale\":[[0.0,\"#0d0887\"],[0.1111111111111111,\"#46039f\"],[0.2222222222222222,\"#7201a8\"],[0.3333333333333333,\"#9c179e\"],[0.4444444444444444,\"#bd3786\"],[0.5555555555555556,\"#d8576b\"],[0.6666666666666666,\"#ed7953\"],[0.7777777777777778,\"#fb9f3a\"],[0.8888888888888888,\"#fdca26\"],[1.0,\"#f0f921\"]]}],\"heatmap\":[{\"type\":\"heatmap\",\"colorbar\":{\"outlinewidth\":0,\"ticks\":\"\"},\"colorscale\":[[0.0,\"#0d0887\"],[0.1111111111111111,\"#46039f\"],[0.2222222222222222,\"#7201a8\"],[0.3333333333333333,\"#9c179e\"],[0.4444444444444444,\"#bd3786\"],[0.5555555555555556,\"#d8576b\"],[0.6666666666666666,\"#ed7953\"],[0.7777777777777778,\"#fb9f3a\"],[0.8888888888888888,\"#fdca26\"],[1.0,\"#f0f921\"]]}],\"heatmapgl\":[{\"type\":\"heatmapgl\",\"colorbar\":{\"outlinewidth\":0,\"ticks\":\"\"},\"colorscale\":[[0.0,\"#0d0887\"],[0.1111111111111111,\"#46039f\"],[0.2222222222222222,\"#7201a8\"],[0.3333333333333333,\"#9c179e\"],[0.4444444444444444,\"#bd3786\"],[0.5555555555555556,\"#d8576b\"],[0.6666666666666666,\"#ed7953\"],[0.7777777777777778,\"#fb9f3a\"],[0.8888888888888888,\"#fdca26\"],[1.0,\"#f0f921\"]]}],\"contourcarpet\":[{\"type\":\"contourcarpet\",\"colorbar\":{\"outlinewidth\":0,\"ticks\":\"\"}}],\"contour\":[{\"type\":\"contour\",\"colorbar\":{\"outlinewidth\":0,\"ticks\":\"\"},\"colorscale\":[[0.0,\"#0d0887\"],[0.1111111111111111,\"#46039f\"],[0.2222222222222222,\"#7201a8\"],[0.3333333333333333,\"#9c179e\"],[0.4444444444444444,\"#bd3786\"],[0.5555555555555556,\"#d8576b\"],[0.6666666666666666,\"#ed7953\"],[0.7777777777777778,\"#fb9f3a\"],[0.8888888888888888,\"#fdca26\"],[1.0,\"#f0f921\"]]}],\"surface\":[{\"type\":\"surface\",\"colorbar\":{\"outlinewidth\":0,\"ticks\":\"\"},\"colorscale\":[[0.0,\"#0d0887\"],[0.1111111111111111,\"#46039f\"],[0.2222222222222222,\"#7201a8\"],[0.3333333333333333,\"#9c179e\"],[0.4444444444444444,\"#bd3786\"],[0.5555555555555556,\"#d8576b\"],[0.6666666666666666,\"#ed7953\"],[0.7777777777777778,\"#fb9f3a\"],[0.8888888888888888,\"#fdca26\"],[1.0,\"#f0f921\"]]}],\"mesh3d\":[{\"type\":\"mesh3d\",\"colorbar\":{\"outlinewidth\":0,\"ticks\":\"\"}}],\"scatter\":[{\"fillpattern\":{\"fillmode\":\"overlay\",\"size\":10,\"solidity\":0.2},\"type\":\"scatter\"}],\"parcoords\":[{\"type\":\"parcoords\",\"line\":{\"colorbar\":{\"outlinewidth\":0,\"ticks\":\"\"}}}],\"scatterpolargl\":[{\"type\":\"scatterpolargl\",\"marker\":{\"colorbar\":{\"outlinewidth\":0,\"ticks\":\"\"}}}],\"bar\":[{\"error_x\":{\"color\":\"#2a3f5f\"},\"error_y\":{\"color\":\"#2a3f5f\"},\"marker\":{\"line\":{\"color\":\"#E5ECF6\",\"width\":0.5},\"pattern\":{\"fillmode\":\"overlay\",\"size\":10,\"solidity\":0.2}},\"type\":\"bar\"}],\"scattergeo\":[{\"type\":\"scattergeo\",\"marker\":{\"colorbar\":{\"outlinewidth\":0,\"ticks\":\"\"}}}],\"scatterpolar\":[{\"type\":\"scatterpolar\",\"marker\":{\"colorbar\":{\"outlinewidth\":0,\"ticks\":\"\"}}}],\"histogram\":[{\"marker\":{\"pattern\":{\"fillmode\":\"overlay\",\"size\":10,\"solidity\":0.2}},\"type\":\"histogram\"}],\"scattergl\":[{\"type\":\"scattergl\",\"marker\":{\"colorbar\":{\"outlinewidth\":0,\"ticks\":\"\"}}}],\"scatter3d\":[{\"type\":\"scatter3d\",\"line\":{\"colorbar\":{\"outlinewidth\":0,\"ticks\":\"\"}},\"marker\":{\"colorbar\":{\"outlinewidth\":0,\"ticks\":\"\"}}}],\"scattermapbox\":[{\"type\":\"scattermapbox\",\"marker\":{\"colorbar\":{\"outlinewidth\":0,\"ticks\":\"\"}}}],\"scatterternary\":[{\"type\":\"scatterternary\",\"marker\":{\"colorbar\":{\"outlinewidth\":0,\"ticks\":\"\"}}}],\"scattercarpet\":[{\"type\":\"scattercarpet\",\"marker\":{\"colorbar\":{\"outlinewidth\":0,\"ticks\":\"\"}}}],\"carpet\":[{\"aaxis\":{\"endlinecolor\":\"#2a3f5f\",\"gridcolor\":\"white\",\"linecolor\":\"white\",\"minorgridcolor\":\"white\",\"startlinecolor\":\"#2a3f5f\"},\"baxis\":{\"endlinecolor\":\"#2a3f5f\",\"gridcolor\":\"white\",\"linecolor\":\"white\",\"minorgridcolor\":\"white\",\"startlinecolor\":\"#2a3f5f\"},\"type\":\"carpet\"}],\"table\":[{\"cells\":{\"fill\":{\"color\":\"#EBF0F8\"},\"line\":{\"color\":\"white\"}},\"header\":{\"fill\":{\"color\":\"#C8D4E3\"},\"line\":{\"color\":\"white\"}},\"type\":\"table\"}],\"barpolar\":[{\"marker\":{\"line\":{\"color\":\"#E5ECF6\",\"width\":0.5},\"pattern\":{\"fillmode\":\"overlay\",\"size\":10,\"solidity\":0.2}},\"type\":\"barpolar\"}],\"pie\":[{\"automargin\":true,\"type\":\"pie\"}]},\"layout\":{\"autotypenumbers\":\"strict\",\"colorway\":[\"#636efa\",\"#EF553B\",\"#00cc96\",\"#ab63fa\",\"#FFA15A\",\"#19d3f3\",\"#FF6692\",\"#B6E880\",\"#FF97FF\",\"#FECB52\"],\"font\":{\"color\":\"#2a3f5f\"},\"hovermode\":\"closest\",\"hoverlabel\":{\"align\":\"left\"},\"paper_bgcolor\":\"white\",\"plot_bgcolor\":\"#E5ECF6\",\"polar\":{\"bgcolor\":\"#E5ECF6\",\"angularaxis\":{\"gridcolor\":\"white\",\"linecolor\":\"white\",\"ticks\":\"\"},\"radialaxis\":{\"gridcolor\":\"white\",\"linecolor\":\"white\",\"ticks\":\"\"}},\"ternary\":{\"bgcolor\":\"#E5ECF6\",\"aaxis\":{\"gridcolor\":\"white\",\"linecolor\":\"white\",\"ticks\":\"\"},\"baxis\":{\"gridcolor\":\"white\",\"linecolor\":\"white\",\"ticks\":\"\"},\"caxis\":{\"gridcolor\":\"white\",\"linecolor\":\"white\",\"ticks\":\"\"}},\"coloraxis\":{\"colorbar\":{\"outlinewidth\":0,\"ticks\":\"\"}},\"colorscale\":{\"sequential\":[[0.0,\"#0d0887\"],[0.1111111111111111,\"#46039f\"],[0.2222222222222222,\"#7201a8\"],[0.3333333333333333,\"#9c179e\"],[0.4444444444444444,\"#bd3786\"],[0.5555555555555556,\"#d8576b\"],[0.6666666666666666,\"#ed7953\"],[0.7777777777777778,\"#fb9f3a\"],[0.8888888888888888,\"#fdca26\"],[1.0,\"#f0f921\"]],\"sequentialminus\":[[0.0,\"#0d0887\"],[0.1111111111111111,\"#46039f\"],[0.2222222222222222,\"#7201a8\"],[0.3333333333333333,\"#9c179e\"],[0.4444444444444444,\"#bd3786\"],[0.5555555555555556,\"#d8576b\"],[0.6666666666666666,\"#ed7953\"],[0.7777777777777778,\"#fb9f3a\"],[0.8888888888888888,\"#fdca26\"],[1.0,\"#f0f921\"]],\"diverging\":[[0,\"#8e0152\"],[0.1,\"#c51b7d\"],[0.2,\"#de77ae\"],[0.3,\"#f1b6da\"],[0.4,\"#fde0ef\"],[0.5,\"#f7f7f7\"],[0.6,\"#e6f5d0\"],[0.7,\"#b8e186\"],[0.8,\"#7fbc41\"],[0.9,\"#4d9221\"],[1,\"#276419\"]]},\"xaxis\":{\"gridcolor\":\"white\",\"linecolor\":\"white\",\"ticks\":\"\",\"title\":{\"standoff\":15},\"zerolinecolor\":\"white\",\"automargin\":true,\"zerolinewidth\":2},\"yaxis\":{\"gridcolor\":\"white\",\"linecolor\":\"white\",\"ticks\":\"\",\"title\":{\"standoff\":15},\"zerolinecolor\":\"white\",\"automargin\":true,\"zerolinewidth\":2},\"scene\":{\"xaxis\":{\"backgroundcolor\":\"#E5ECF6\",\"gridcolor\":\"white\",\"linecolor\":\"white\",\"showbackground\":true,\"ticks\":\"\",\"zerolinecolor\":\"white\",\"gridwidth\":2},\"yaxis\":{\"backgroundcolor\":\"#E5ECF6\",\"gridcolor\":\"white\",\"linecolor\":\"white\",\"showbackground\":true,\"ticks\":\"\",\"zerolinecolor\":\"white\",\"gridwidth\":2},\"zaxis\":{\"backgroundcolor\":\"#E5ECF6\",\"gridcolor\":\"white\",\"linecolor\":\"white\",\"showbackground\":true,\"ticks\":\"\",\"zerolinecolor\":\"white\",\"gridwidth\":2}},\"shapedefaults\":{\"line\":{\"color\":\"#2a3f5f\"}},\"annotationdefaults\":{\"arrowcolor\":\"#2a3f5f\",\"arrowhead\":0,\"arrowwidth\":1},\"geo\":{\"bgcolor\":\"white\",\"landcolor\":\"#E5ECF6\",\"subunitcolor\":\"white\",\"showland\":true,\"showlakes\":true,\"lakecolor\":\"white\"},\"title\":{\"x\":0.05},\"mapbox\":{\"style\":\"light\"}}},\"xaxis\":{\"anchor\":\"y\",\"domain\":[0.0,1.0],\"title\":{\"text\":\"mid\"}},\"yaxis\":{\"anchor\":\"x\",\"domain\":[0.0,1.0],\"title\":{\"text\":\"Duration of Biggest Piece(mins)\"}},\"legend\":{\"title\":{\"text\":\"Nationality\"},\"tracegroupgap\":0},\"margin\":{\"t\":60}},                        {\"responsive\": true}                    ).then(function(){\n",
       "                            \n",
       "var gd = document.getElementById('21cb3abc-59fe-4d5d-8a90-3fc7ea9ba1d3');\n",
       "var x = new MutationObserver(function (mutations, observer) {{\n",
       "        var display = window.getComputedStyle(gd).display;\n",
       "        if (!display || display === 'none') {{\n",
       "            console.log([gd, 'removed!']);\n",
       "            Plotly.purge(gd);\n",
       "            observer.disconnect();\n",
       "        }}\n",
       "}});\n",
       "\n",
       "// Listen for the removal of the full notebook cells\n",
       "var notebookContainer = gd.closest('#notebook-container');\n",
       "if (notebookContainer) {{\n",
       "    x.observe(notebookContainer, {childList: true});\n",
       "}}\n",
       "\n",
       "// Listen for the clearing of the current output cell\n",
       "var outputEl = gd.closest('.output');\n",
       "if (outputEl) {{\n",
       "    x.observe(outputEl, {childList: true});\n",
       "}}\n",
       "\n",
       "                        })                };                });            </script>        </div>"
      ]
     },
     "metadata": {},
     "output_type": "display_data"
    }
   ],
   "source": [
    "express.scatter(data_frame=df, x='mid', y='Duration of Biggest Piece(mins)', color='Nationality', hover_name='Composer', hover_data=['Biggest Piece'])"
   ]
  },
  {
   "cell_type": "markdown",
   "id": "2c58a51c",
   "metadata": {
    "papermill": {
     "duration": 0.005706,
     "end_time": "2024-03-02T16:57:17.435050",
     "exception": false,
     "start_time": "2024-03-02T16:57:17.429344",
     "status": "completed"
    },
    "tags": []
   },
   "source": [
    "If we use half-century buckets we clearly see that our composers mostly flourished between 1800 and 1950."
   ]
  },
  {
   "cell_type": "code",
   "execution_count": 5,
   "id": "55d1f7de",
   "metadata": {
    "execution": {
     "iopub.execute_input": "2024-03-02T16:57:17.450066Z",
     "iopub.status.busy": "2024-03-02T16:57:17.448613Z",
     "iopub.status.idle": "2024-03-02T16:57:17.641642Z",
     "shell.execute_reply": "2024-03-02T16:57:17.640233Z"
    },
    "papermill": {
     "duration": 0.203443,
     "end_time": "2024-03-02T16:57:17.644489",
     "exception": false,
     "start_time": "2024-03-02T16:57:17.441046",
     "status": "completed"
    },
    "tags": []
   },
   "outputs": [
    {
     "data": {
      "text/html": [
       "<div>                            <div id=\"7dd6228f-0b79-4de1-ba22-5a12c6857a44\" class=\"plotly-graph-div\" style=\"height:525px; width:100%;\"></div>            <script type=\"text/javascript\">                require([\"plotly\"], function(Plotly) {                    window.PLOTLYENV=window.PLOTLYENV || {};                                    if (document.getElementById(\"7dd6228f-0b79-4de1-ba22-5a12c6857a44\")) {                    Plotly.newPlot(                        \"7dd6228f-0b79-4de1-ba22-5a12c6857a44\",                        [{\"alignmentgroup\":\"True\",\"bingroup\":\"x\",\"hovertemplate\":\"Nationality=German   \\u003cbr\\u003emid=%{x}\\u003cbr\\u003ecount=%{y}\\u003cextra\\u003e\\u003c\\u002fextra\\u003e\",\"legendgroup\":\"German   \",\"marker\":{\"color\":\"#636efa\",\"pattern\":{\"shape\":\"\"}},\"name\":\"German   \",\"nbinsx\":20,\"offsetgroup\":\"German   \",\"orientation\":\"v\",\"showlegend\":true,\"x\":[1780.5,1717.5,1848.0,1865.0,1722.0,1833.0,1828.0,1906.5,1806.0,1750.5,1929.0,1724.0,1751.0,1628.5,1672.0,1827.5,1138.5],\"xaxis\":\"x\",\"yaxis\":\"y\",\"type\":\"histogram\"},{\"alignmentgroup\":\"True\",\"bingroup\":\"x\",\"hovertemplate\":\"Nationality=Austrian\\u003cbr\\u003emid=%{x}\\u003cbr\\u003ecount=%{y}\\u003cextra\\u003e\\u003c\\u002fextra\\u003e\",\"legendgroup\":\"Austrian\",\"marker\":{\"color\":\"#EF553B\",\"pattern\":{\"shape\":\"\"}},\"name\":\"Austrian\",\"nbinsx\":20,\"offsetgroup\":\"Austrian\",\"orientation\":\"v\",\"showlegend\":true,\"x\":[1773.5,1770.5,1812.5,1885.5,1860.0,1912.5,1914.0,1862.0,1910.0,1881.5],\"xaxis\":\"x\",\"yaxis\":\"y\",\"type\":\"histogram\"},{\"alignmentgroup\":\"True\",\"bingroup\":\"x\",\"hovertemplate\":\"Nationality=Russian\\u003cbr\\u003emid=%{x}\\u003cbr\\u003ecount=%{y}\\u003cextra\\u003e\\u003c\\u002fextra\\u003e\",\"legendgroup\":\"Russian\",\"marker\":{\"color\":\"#00cc96\",\"pattern\":{\"shape\":\"\"}},\"name\":\"Russian\",\"nbinsx\":20,\"offsetgroup\":\"Russian\",\"orientation\":\"v\",\"showlegend\":true,\"x\":[1866.5,1926.5,1922.0,1940.5,1860.0,1908.0,1876.0,1893.5,1860.0,1830.5,1900.5],\"xaxis\":\"x\",\"yaxis\":\"y\",\"type\":\"histogram\"},{\"alignmentgroup\":\"True\",\"bingroup\":\"x\",\"hovertemplate\":\"Nationality=Polish\\u003cbr\\u003emid=%{x}\\u003cbr\\u003ecount=%{y}\\u003cextra\\u003e\\u003c\\u002fextra\\u003e\",\"legendgroup\":\"Polish\",\"marker\":{\"color\":\"#ab63fa\",\"pattern\":{\"shape\":\"\"}},\"name\":\"Polish\",\"nbinsx\":20,\"offsetgroup\":\"Polish\",\"orientation\":\"v\",\"showlegend\":true,\"x\":[1829.5],\"xaxis\":\"x\",\"yaxis\":\"y\",\"type\":\"histogram\"},{\"alignmentgroup\":\"True\",\"bingroup\":\"x\",\"hovertemplate\":\"Nationality=French\\u003cbr\\u003emid=%{x}\\u003cbr\\u003ecount=%{y}\\u003cextra\\u003e\\u003c\\u002fextra\\u003e\",\"legendgroup\":\"French\",\"marker\":{\"color\":\"#FFA15A\",\"pattern\":{\"shape\":\"\"}},\"name\":\"French\",\"nbinsx\":20,\"offsetgroup\":\"French\",\"orientation\":\"v\",\"showlegend\":true,\"x\":[1890.0,1836.0,1906.0,1878.0,1723.5,1884.5,1950.0,1700.5,1895.5,1856.5,1338.5,1856.5,1877.0,1931.0,1192.5,1933.0,1168.0],\"xaxis\":\"x\",\"yaxis\":\"y\",\"type\":\"histogram\"},{\"alignmentgroup\":\"True\",\"bingroup\":\"x\",\"hovertemplate\":\"Nationality=Hungarian\\u003cbr\\u003emid=%{x}\\u003cbr\\u003ecount=%{y}\\u003cextra\\u003e\\u003c\\u002fextra\\u003e\",\"legendgroup\":\"Hungarian\",\"marker\":{\"color\":\"#19d3f3\",\"pattern\":{\"shape\":\"\"}},\"name\":\"Hungarian\",\"nbinsx\":20,\"offsetgroup\":\"Hungarian\",\"orientation\":\"v\",\"showlegend\":true,\"x\":[1848.5,1913.0],\"xaxis\":\"x\",\"yaxis\":\"y\",\"type\":\"histogram\"},{\"alignmentgroup\":\"True\",\"bingroup\":\"x\",\"hovertemplate\":\"Nationality=Czech\\u003cbr\\u003emid=%{x}\\u003cbr\\u003ecount=%{y}\\u003cextra\\u003e\\u003c\\u002fextra\\u003e\",\"legendgroup\":\"Czech\",\"marker\":{\"color\":\"#FF6692\",\"pattern\":{\"shape\":\"\"}},\"name\":\"Czech\",\"nbinsx\":20,\"offsetgroup\":\"Czech\",\"orientation\":\"v\",\"showlegend\":true,\"x\":[1872.5,1854.0,1891.0],\"xaxis\":\"x\",\"yaxis\":\"y\",\"type\":\"histogram\"},{\"alignmentgroup\":\"True\",\"bingroup\":\"x\",\"hovertemplate\":\"Nationality=Italian\\u003cbr\\u003emid=%{x}\\u003cbr\\u003ecount=%{y}\\u003cextra\\u003e\\u003c\\u002fextra\\u003e\",\"legendgroup\":\"Italian\",\"marker\":{\"color\":\"#B6E880\",\"pattern\":{\"shape\":\"\"}},\"name\":\"Italian\",\"nbinsx\":20,\"offsetgroup\":\"Italian\",\"orientation\":\"v\",\"showlegend\":true,\"x\":[1857.0,1709.5,1559.5,1605.0,1891.0,1830.0,1664.5,1721.0,1822.5,1683.0,1818.0,1583.0,1723.0,1907.5,1589.5],\"xaxis\":\"x\",\"yaxis\":\"y\",\"type\":\"histogram\"},{\"alignmentgroup\":\"True\",\"bingroup\":\"x\",\"hovertemplate\":\"Nationality=Finnish\\u003cbr\\u003emid=%{x}\\u003cbr\\u003ecount=%{y}\\u003cextra\\u003e\\u003c\\u002fextra\\u003e\",\"legendgroup\":\"Finnish\",\"marker\":{\"color\":\"#FF97FF\",\"pattern\":{\"shape\":\"\"}},\"name\":\"Finnish\",\"nbinsx\":20,\"offsetgroup\":\"Finnish\",\"orientation\":\"v\",\"showlegend\":true,\"x\":[1911.0],\"xaxis\":\"x\",\"yaxis\":\"y\",\"type\":\"histogram\"},{\"alignmentgroup\":\"True\",\"bingroup\":\"x\",\"hovertemplate\":\"Nationality=English\\u003cbr\\u003emid=%{x}\\u003cbr\\u003ecount=%{y}\\u003cextra\\u003e\\u003c\\u002fextra\\u003e\",\"legendgroup\":\"English\",\"marker\":{\"color\":\"#FECB52\",\"pattern\":{\"shape\":\"\"}},\"name\":\"English\",\"nbinsx\":20,\"offsetgroup\":\"English\",\"orientation\":\"v\",\"showlegend\":true,\"x\":[1915.0,1677.0,1890.5,1581.0,1944.5,1545.0,1594.5,1904.0,1942.5,1604.0],\"xaxis\":\"x\",\"yaxis\":\"y\",\"type\":\"histogram\"},{\"alignmentgroup\":\"True\",\"bingroup\":\"x\",\"hovertemplate\":\"Nationality=Flemish\\u003cbr\\u003emid=%{x}\\u003cbr\\u003ecount=%{y}\\u003cextra\\u003e\\u003c\\u002fextra\\u003e\",\"legendgroup\":\"Flemish\",\"marker\":{\"color\":\"#636efa\",\"pattern\":{\"shape\":\"\"}},\"name\":\"Flemish\",\"nbinsx\":20,\"offsetgroup\":\"Flemish\",\"orientation\":\"v\",\"showlegend\":true,\"x\":[1480.5],\"xaxis\":\"x\",\"yaxis\":\"y\",\"type\":\"histogram\"},{\"alignmentgroup\":\"True\",\"bingroup\":\"x\",\"hovertemplate\":\"Nationality=Norweigen\\u003cbr\\u003emid=%{x}\\u003cbr\\u003ecount=%{y}\\u003cextra\\u003e\\u003c\\u002fextra\\u003e\",\"legendgroup\":\"Norweigen\",\"marker\":{\"color\":\"#EF553B\",\"pattern\":{\"shape\":\"\"}},\"name\":\"Norweigen\",\"nbinsx\":20,\"offsetgroup\":\"Norweigen\",\"orientation\":\"v\",\"showlegend\":true,\"x\":[1875.0],\"xaxis\":\"x\",\"yaxis\":\"y\",\"type\":\"histogram\"},{\"alignmentgroup\":\"True\",\"bingroup\":\"x\",\"hovertemplate\":\"Nationality=American\\u003cbr\\u003emid=%{x}\\u003cbr\\u003ecount=%{y}\\u003cextra\\u003e\\u003c\\u002fextra\\u003e\",\"legendgroup\":\"American\",\"marker\":{\"color\":\"#00cc96\",\"pattern\":{\"shape\":\"\"}},\"name\":\"American\",\"nbinsx\":20,\"offsetgroup\":\"American\",\"orientation\":\"v\",\"showlegend\":true,\"x\":[1914.0,1945.0,1917.5,1952.0,1945.5],\"xaxis\":\"x\",\"yaxis\":\"y\",\"type\":\"histogram\"},{\"alignmentgroup\":\"True\",\"bingroup\":\"x\",\"hovertemplate\":\"Nationality=Belgian\\u003cbr\\u003emid=%{x}\\u003cbr\\u003ecount=%{y}\\u003cextra\\u003e\\u003c\\u002fextra\\u003e\",\"legendgroup\":\"Belgian\",\"marker\":{\"color\":\"#ab63fa\",\"pattern\":{\"shape\":\"\"}},\"name\":\"Belgian\",\"nbinsx\":20,\"offsetgroup\":\"Belgian\",\"orientation\":\"v\",\"showlegend\":true,\"x\":[1856.0],\"xaxis\":\"x\",\"yaxis\":\"y\",\"type\":\"histogram\"},{\"alignmentgroup\":\"True\",\"bingroup\":\"x\",\"hovertemplate\":\"Nationality=Franco-Flemish\\u003cbr\\u003emid=%{x}\\u003cbr\\u003ecount=%{y}\\u003cextra\\u003e\\u003c\\u002fextra\\u003e\",\"legendgroup\":\"Franco-Flemish\",\"marker\":{\"color\":\"#FFA15A\",\"pattern\":{\"shape\":\"\"}},\"name\":\"Franco-Flemish\",\"nbinsx\":20,\"offsetgroup\":\"Franco-Flemish\",\"orientation\":\"v\",\"showlegend\":true,\"x\":[1563.0,1437.0],\"xaxis\":\"x\",\"yaxis\":\"y\",\"type\":\"histogram\"},{\"alignmentgroup\":\"True\",\"bingroup\":\"x\",\"hovertemplate\":\"Nationality=Danish\\u003cbr\\u003emid=%{x}\\u003cbr\\u003ecount=%{y}\\u003cextra\\u003e\\u003c\\u002fextra\\u003e\",\"legendgroup\":\"Danish\",\"marker\":{\"color\":\"#19d3f3\",\"pattern\":{\"shape\":\"\"}},\"name\":\"Danish\",\"nbinsx\":20,\"offsetgroup\":\"Danish\",\"orientation\":\"v\",\"showlegend\":true,\"x\":[1898.0],\"xaxis\":\"x\",\"yaxis\":\"y\",\"type\":\"histogram\"},{\"alignmentgroup\":\"True\",\"bingroup\":\"x\",\"hovertemplate\":\"Nationality=Spanish\\u003cbr\\u003emid=%{x}\\u003cbr\\u003ecount=%{y}\\u003cextra\\u003e\\u003c\\u002fextra\\u003e\",\"legendgroup\":\"Spanish\",\"marker\":{\"color\":\"#FF6692\",\"pattern\":{\"shape\":\"\"}},\"name\":\"Spanish\",\"nbinsx\":20,\"offsetgroup\":\"Spanish\",\"orientation\":\"v\",\"showlegend\":true,\"x\":[1580.0,1911.0],\"xaxis\":\"x\",\"yaxis\":\"y\",\"type\":\"histogram\"}],                        {\"template\":{\"data\":{\"histogram2dcontour\":[{\"type\":\"histogram2dcontour\",\"colorbar\":{\"outlinewidth\":0,\"ticks\":\"\"},\"colorscale\":[[0.0,\"#0d0887\"],[0.1111111111111111,\"#46039f\"],[0.2222222222222222,\"#7201a8\"],[0.3333333333333333,\"#9c179e\"],[0.4444444444444444,\"#bd3786\"],[0.5555555555555556,\"#d8576b\"],[0.6666666666666666,\"#ed7953\"],[0.7777777777777778,\"#fb9f3a\"],[0.8888888888888888,\"#fdca26\"],[1.0,\"#f0f921\"]]}],\"choropleth\":[{\"type\":\"choropleth\",\"colorbar\":{\"outlinewidth\":0,\"ticks\":\"\"}}],\"histogram2d\":[{\"type\":\"histogram2d\",\"colorbar\":{\"outlinewidth\":0,\"ticks\":\"\"},\"colorscale\":[[0.0,\"#0d0887\"],[0.1111111111111111,\"#46039f\"],[0.2222222222222222,\"#7201a8\"],[0.3333333333333333,\"#9c179e\"],[0.4444444444444444,\"#bd3786\"],[0.5555555555555556,\"#d8576b\"],[0.6666666666666666,\"#ed7953\"],[0.7777777777777778,\"#fb9f3a\"],[0.8888888888888888,\"#fdca26\"],[1.0,\"#f0f921\"]]}],\"heatmap\":[{\"type\":\"heatmap\",\"colorbar\":{\"outlinewidth\":0,\"ticks\":\"\"},\"colorscale\":[[0.0,\"#0d0887\"],[0.1111111111111111,\"#46039f\"],[0.2222222222222222,\"#7201a8\"],[0.3333333333333333,\"#9c179e\"],[0.4444444444444444,\"#bd3786\"],[0.5555555555555556,\"#d8576b\"],[0.6666666666666666,\"#ed7953\"],[0.7777777777777778,\"#fb9f3a\"],[0.8888888888888888,\"#fdca26\"],[1.0,\"#f0f921\"]]}],\"heatmapgl\":[{\"type\":\"heatmapgl\",\"colorbar\":{\"outlinewidth\":0,\"ticks\":\"\"},\"colorscale\":[[0.0,\"#0d0887\"],[0.1111111111111111,\"#46039f\"],[0.2222222222222222,\"#7201a8\"],[0.3333333333333333,\"#9c179e\"],[0.4444444444444444,\"#bd3786\"],[0.5555555555555556,\"#d8576b\"],[0.6666666666666666,\"#ed7953\"],[0.7777777777777778,\"#fb9f3a\"],[0.8888888888888888,\"#fdca26\"],[1.0,\"#f0f921\"]]}],\"contourcarpet\":[{\"type\":\"contourcarpet\",\"colorbar\":{\"outlinewidth\":0,\"ticks\":\"\"}}],\"contour\":[{\"type\":\"contour\",\"colorbar\":{\"outlinewidth\":0,\"ticks\":\"\"},\"colorscale\":[[0.0,\"#0d0887\"],[0.1111111111111111,\"#46039f\"],[0.2222222222222222,\"#7201a8\"],[0.3333333333333333,\"#9c179e\"],[0.4444444444444444,\"#bd3786\"],[0.5555555555555556,\"#d8576b\"],[0.6666666666666666,\"#ed7953\"],[0.7777777777777778,\"#fb9f3a\"],[0.8888888888888888,\"#fdca26\"],[1.0,\"#f0f921\"]]}],\"surface\":[{\"type\":\"surface\",\"colorbar\":{\"outlinewidth\":0,\"ticks\":\"\"},\"colorscale\":[[0.0,\"#0d0887\"],[0.1111111111111111,\"#46039f\"],[0.2222222222222222,\"#7201a8\"],[0.3333333333333333,\"#9c179e\"],[0.4444444444444444,\"#bd3786\"],[0.5555555555555556,\"#d8576b\"],[0.6666666666666666,\"#ed7953\"],[0.7777777777777778,\"#fb9f3a\"],[0.8888888888888888,\"#fdca26\"],[1.0,\"#f0f921\"]]}],\"mesh3d\":[{\"type\":\"mesh3d\",\"colorbar\":{\"outlinewidth\":0,\"ticks\":\"\"}}],\"scatter\":[{\"fillpattern\":{\"fillmode\":\"overlay\",\"size\":10,\"solidity\":0.2},\"type\":\"scatter\"}],\"parcoords\":[{\"type\":\"parcoords\",\"line\":{\"colorbar\":{\"outlinewidth\":0,\"ticks\":\"\"}}}],\"scatterpolargl\":[{\"type\":\"scatterpolargl\",\"marker\":{\"colorbar\":{\"outlinewidth\":0,\"ticks\":\"\"}}}],\"bar\":[{\"error_x\":{\"color\":\"#2a3f5f\"},\"error_y\":{\"color\":\"#2a3f5f\"},\"marker\":{\"line\":{\"color\":\"#E5ECF6\",\"width\":0.5},\"pattern\":{\"fillmode\":\"overlay\",\"size\":10,\"solidity\":0.2}},\"type\":\"bar\"}],\"scattergeo\":[{\"type\":\"scattergeo\",\"marker\":{\"colorbar\":{\"outlinewidth\":0,\"ticks\":\"\"}}}],\"scatterpolar\":[{\"type\":\"scatterpolar\",\"marker\":{\"colorbar\":{\"outlinewidth\":0,\"ticks\":\"\"}}}],\"histogram\":[{\"marker\":{\"pattern\":{\"fillmode\":\"overlay\",\"size\":10,\"solidity\":0.2}},\"type\":\"histogram\"}],\"scattergl\":[{\"type\":\"scattergl\",\"marker\":{\"colorbar\":{\"outlinewidth\":0,\"ticks\":\"\"}}}],\"scatter3d\":[{\"type\":\"scatter3d\",\"line\":{\"colorbar\":{\"outlinewidth\":0,\"ticks\":\"\"}},\"marker\":{\"colorbar\":{\"outlinewidth\":0,\"ticks\":\"\"}}}],\"scattermapbox\":[{\"type\":\"scattermapbox\",\"marker\":{\"colorbar\":{\"outlinewidth\":0,\"ticks\":\"\"}}}],\"scatterternary\":[{\"type\":\"scatterternary\",\"marker\":{\"colorbar\":{\"outlinewidth\":0,\"ticks\":\"\"}}}],\"scattercarpet\":[{\"type\":\"scattercarpet\",\"marker\":{\"colorbar\":{\"outlinewidth\":0,\"ticks\":\"\"}}}],\"carpet\":[{\"aaxis\":{\"endlinecolor\":\"#2a3f5f\",\"gridcolor\":\"white\",\"linecolor\":\"white\",\"minorgridcolor\":\"white\",\"startlinecolor\":\"#2a3f5f\"},\"baxis\":{\"endlinecolor\":\"#2a3f5f\",\"gridcolor\":\"white\",\"linecolor\":\"white\",\"minorgridcolor\":\"white\",\"startlinecolor\":\"#2a3f5f\"},\"type\":\"carpet\"}],\"table\":[{\"cells\":{\"fill\":{\"color\":\"#EBF0F8\"},\"line\":{\"color\":\"white\"}},\"header\":{\"fill\":{\"color\":\"#C8D4E3\"},\"line\":{\"color\":\"white\"}},\"type\":\"table\"}],\"barpolar\":[{\"marker\":{\"line\":{\"color\":\"#E5ECF6\",\"width\":0.5},\"pattern\":{\"fillmode\":\"overlay\",\"size\":10,\"solidity\":0.2}},\"type\":\"barpolar\"}],\"pie\":[{\"automargin\":true,\"type\":\"pie\"}]},\"layout\":{\"autotypenumbers\":\"strict\",\"colorway\":[\"#636efa\",\"#EF553B\",\"#00cc96\",\"#ab63fa\",\"#FFA15A\",\"#19d3f3\",\"#FF6692\",\"#B6E880\",\"#FF97FF\",\"#FECB52\"],\"font\":{\"color\":\"#2a3f5f\"},\"hovermode\":\"closest\",\"hoverlabel\":{\"align\":\"left\"},\"paper_bgcolor\":\"white\",\"plot_bgcolor\":\"#E5ECF6\",\"polar\":{\"bgcolor\":\"#E5ECF6\",\"angularaxis\":{\"gridcolor\":\"white\",\"linecolor\":\"white\",\"ticks\":\"\"},\"radialaxis\":{\"gridcolor\":\"white\",\"linecolor\":\"white\",\"ticks\":\"\"}},\"ternary\":{\"bgcolor\":\"#E5ECF6\",\"aaxis\":{\"gridcolor\":\"white\",\"linecolor\":\"white\",\"ticks\":\"\"},\"baxis\":{\"gridcolor\":\"white\",\"linecolor\":\"white\",\"ticks\":\"\"},\"caxis\":{\"gridcolor\":\"white\",\"linecolor\":\"white\",\"ticks\":\"\"}},\"coloraxis\":{\"colorbar\":{\"outlinewidth\":0,\"ticks\":\"\"}},\"colorscale\":{\"sequential\":[[0.0,\"#0d0887\"],[0.1111111111111111,\"#46039f\"],[0.2222222222222222,\"#7201a8\"],[0.3333333333333333,\"#9c179e\"],[0.4444444444444444,\"#bd3786\"],[0.5555555555555556,\"#d8576b\"],[0.6666666666666666,\"#ed7953\"],[0.7777777777777778,\"#fb9f3a\"],[0.8888888888888888,\"#fdca26\"],[1.0,\"#f0f921\"]],\"sequentialminus\":[[0.0,\"#0d0887\"],[0.1111111111111111,\"#46039f\"],[0.2222222222222222,\"#7201a8\"],[0.3333333333333333,\"#9c179e\"],[0.4444444444444444,\"#bd3786\"],[0.5555555555555556,\"#d8576b\"],[0.6666666666666666,\"#ed7953\"],[0.7777777777777778,\"#fb9f3a\"],[0.8888888888888888,\"#fdca26\"],[1.0,\"#f0f921\"]],\"diverging\":[[0,\"#8e0152\"],[0.1,\"#c51b7d\"],[0.2,\"#de77ae\"],[0.3,\"#f1b6da\"],[0.4,\"#fde0ef\"],[0.5,\"#f7f7f7\"],[0.6,\"#e6f5d0\"],[0.7,\"#b8e186\"],[0.8,\"#7fbc41\"],[0.9,\"#4d9221\"],[1,\"#276419\"]]},\"xaxis\":{\"gridcolor\":\"white\",\"linecolor\":\"white\",\"ticks\":\"\",\"title\":{\"standoff\":15},\"zerolinecolor\":\"white\",\"automargin\":true,\"zerolinewidth\":2},\"yaxis\":{\"gridcolor\":\"white\",\"linecolor\":\"white\",\"ticks\":\"\",\"title\":{\"standoff\":15},\"zerolinecolor\":\"white\",\"automargin\":true,\"zerolinewidth\":2},\"scene\":{\"xaxis\":{\"backgroundcolor\":\"#E5ECF6\",\"gridcolor\":\"white\",\"linecolor\":\"white\",\"showbackground\":true,\"ticks\":\"\",\"zerolinecolor\":\"white\",\"gridwidth\":2},\"yaxis\":{\"backgroundcolor\":\"#E5ECF6\",\"gridcolor\":\"white\",\"linecolor\":\"white\",\"showbackground\":true,\"ticks\":\"\",\"zerolinecolor\":\"white\",\"gridwidth\":2},\"zaxis\":{\"backgroundcolor\":\"#E5ECF6\",\"gridcolor\":\"white\",\"linecolor\":\"white\",\"showbackground\":true,\"ticks\":\"\",\"zerolinecolor\":\"white\",\"gridwidth\":2}},\"shapedefaults\":{\"line\":{\"color\":\"#2a3f5f\"}},\"annotationdefaults\":{\"arrowcolor\":\"#2a3f5f\",\"arrowhead\":0,\"arrowwidth\":1},\"geo\":{\"bgcolor\":\"white\",\"landcolor\":\"#E5ECF6\",\"subunitcolor\":\"white\",\"showland\":true,\"showlakes\":true,\"lakecolor\":\"white\"},\"title\":{\"x\":0.05},\"mapbox\":{\"style\":\"light\"}}},\"xaxis\":{\"anchor\":\"y\",\"domain\":[0.0,1.0],\"title\":{\"text\":\"mid\"}},\"yaxis\":{\"anchor\":\"x\",\"domain\":[0.0,1.0],\"title\":{\"text\":\"count\"}},\"legend\":{\"title\":{\"text\":\"Nationality\"},\"tracegroupgap\":0},\"margin\":{\"t\":60},\"barmode\":\"relative\"},                        {\"responsive\": true}                    ).then(function(){\n",
       "                            \n",
       "var gd = document.getElementById('7dd6228f-0b79-4de1-ba22-5a12c6857a44');\n",
       "var x = new MutationObserver(function (mutations, observer) {{\n",
       "        var display = window.getComputedStyle(gd).display;\n",
       "        if (!display || display === 'none') {{\n",
       "            console.log([gd, 'removed!']);\n",
       "            Plotly.purge(gd);\n",
       "            observer.disconnect();\n",
       "        }}\n",
       "}});\n",
       "\n",
       "// Listen for the removal of the full notebook cells\n",
       "var notebookContainer = gd.closest('#notebook-container');\n",
       "if (notebookContainer) {{\n",
       "    x.observe(notebookContainer, {childList: true});\n",
       "}}\n",
       "\n",
       "// Listen for the clearing of the current output cell\n",
       "var outputEl = gd.closest('.output');\n",
       "if (outputEl) {{\n",
       "    x.observe(outputEl, {childList: true});\n",
       "}}\n",
       "\n",
       "                        })                };                });            </script>        </div>"
      ]
     },
     "metadata": {},
     "output_type": "display_data"
    }
   ],
   "source": [
    "express.histogram(data_frame=df, x='mid', nbins=20, color='Nationality')"
   ]
  },
  {
   "cell_type": "code",
   "execution_count": 6,
   "id": "6ca703d5",
   "metadata": {
    "execution": {
     "iopub.execute_input": "2024-03-02T16:57:17.659628Z",
     "iopub.status.busy": "2024-03-02T16:57:17.659124Z",
     "iopub.status.idle": "2024-03-02T16:57:17.792236Z",
     "shell.execute_reply": "2024-03-02T16:57:17.791170Z"
    },
    "papermill": {
     "duration": 0.143375,
     "end_time": "2024-03-02T16:57:17.794473",
     "exception": false,
     "start_time": "2024-03-02T16:57:17.651098",
     "status": "completed"
    },
    "tags": []
   },
   "outputs": [
    {
     "data": {
      "text/html": [
       "<div>                            <div id=\"363db453-2232-41fb-9d80-5faa070f8bd6\" class=\"plotly-graph-div\" style=\"height:525px; width:100%;\"></div>            <script type=\"text/javascript\">                require([\"plotly\"], function(Plotly) {                    window.PLOTLYENV=window.PLOTLYENV || {};                                    if (document.getElementById(\"363db453-2232-41fb-9d80-5faa070f8bd6\")) {                    Plotly.newPlot(                        \"363db453-2232-41fb-9d80-5faa070f8bd6\",                        [{\"alignmentgroup\":\"True\",\"bingroup\":\"x\",\"hovertemplate\":\"Duration of Biggest Piece(mins)=%{x}\\u003cbr\\u003ecount=%{y}\\u003cextra\\u003e\\u003c\\u002fextra\\u003e\",\"legendgroup\":\"\",\"marker\":{\"color\":\"#636efa\",\"pattern\":{\"shape\":\"\"}},\"name\":\"\",\"nbinsx\":28,\"offsetgroup\":\"\",\"orientation\":\"v\",\"showlegend\":false,\"x\":[65.0,33.0,125.0,null,25.0,40.0,64.0,75.0,135.0,33.0,30.0,24.0,28.0,10.0,31.0,45.0,null,null,40.0,24.0,null,50.0,38.0,54.0,80.0,35.0,135.0,32.0,15.0,15.0,30.0,null,75.0,null,30.0,30.0,25.0,null,45.0,null,null,null,35.0,30.0,null,20.0,30.0,26.0,50.0,25.0,null,null,7.0,60.0,75.0,40.0,20.0,null,null,null,7.0,75.0,17.0,null,null,null,10.0,null,25.0,30.0,null,11.0,null,null,null,24.0,null,null,null,25.0,40.0,null,50.0,null,22.0,40.0,null,35.0,35.0,10.0,4.0,null,8.0,null,null,23.0,null,null,35.0,null],\"xaxis\":\"x\",\"yaxis\":\"y\",\"type\":\"histogram\"},{\"alignmentgroup\":\"True\",\"hovertemplate\":\"Duration of Biggest Piece(mins)=%{x}\\u003cextra\\u003e\\u003c\\u002fextra\\u003e\",\"legendgroup\":\"\",\"marker\":{\"color\":\"#636efa\"},\"name\":\"\",\"notched\":true,\"offsetgroup\":\"\",\"showlegend\":false,\"x\":[65.0,33.0,125.0,null,25.0,40.0,64.0,75.0,135.0,33.0,30.0,24.0,28.0,10.0,31.0,45.0,null,null,40.0,24.0,null,50.0,38.0,54.0,80.0,35.0,135.0,32.0,15.0,15.0,30.0,null,75.0,null,30.0,30.0,25.0,null,45.0,null,null,null,35.0,30.0,null,20.0,30.0,26.0,50.0,25.0,null,null,7.0,60.0,75.0,40.0,20.0,null,null,null,7.0,75.0,17.0,null,null,null,10.0,null,25.0,30.0,null,11.0,null,null,null,24.0,null,null,null,25.0,40.0,null,50.0,null,22.0,40.0,null,35.0,35.0,10.0,4.0,null,8.0,null,null,23.0,null,null,35.0,null],\"xaxis\":\"x2\",\"yaxis\":\"y2\",\"type\":\"box\"}],                        {\"template\":{\"data\":{\"histogram2dcontour\":[{\"type\":\"histogram2dcontour\",\"colorbar\":{\"outlinewidth\":0,\"ticks\":\"\"},\"colorscale\":[[0.0,\"#0d0887\"],[0.1111111111111111,\"#46039f\"],[0.2222222222222222,\"#7201a8\"],[0.3333333333333333,\"#9c179e\"],[0.4444444444444444,\"#bd3786\"],[0.5555555555555556,\"#d8576b\"],[0.6666666666666666,\"#ed7953\"],[0.7777777777777778,\"#fb9f3a\"],[0.8888888888888888,\"#fdca26\"],[1.0,\"#f0f921\"]]}],\"choropleth\":[{\"type\":\"choropleth\",\"colorbar\":{\"outlinewidth\":0,\"ticks\":\"\"}}],\"histogram2d\":[{\"type\":\"histogram2d\",\"colorbar\":{\"outlinewidth\":0,\"ticks\":\"\"},\"colorscale\":[[0.0,\"#0d0887\"],[0.1111111111111111,\"#46039f\"],[0.2222222222222222,\"#7201a8\"],[0.3333333333333333,\"#9c179e\"],[0.4444444444444444,\"#bd3786\"],[0.5555555555555556,\"#d8576b\"],[0.6666666666666666,\"#ed7953\"],[0.7777777777777778,\"#fb9f3a\"],[0.8888888888888888,\"#fdca26\"],[1.0,\"#f0f921\"]]}],\"heatmap\":[{\"type\":\"heatmap\",\"colorbar\":{\"outlinewidth\":0,\"ticks\":\"\"},\"colorscale\":[[0.0,\"#0d0887\"],[0.1111111111111111,\"#46039f\"],[0.2222222222222222,\"#7201a8\"],[0.3333333333333333,\"#9c179e\"],[0.4444444444444444,\"#bd3786\"],[0.5555555555555556,\"#d8576b\"],[0.6666666666666666,\"#ed7953\"],[0.7777777777777778,\"#fb9f3a\"],[0.8888888888888888,\"#fdca26\"],[1.0,\"#f0f921\"]]}],\"heatmapgl\":[{\"type\":\"heatmapgl\",\"colorbar\":{\"outlinewidth\":0,\"ticks\":\"\"},\"colorscale\":[[0.0,\"#0d0887\"],[0.1111111111111111,\"#46039f\"],[0.2222222222222222,\"#7201a8\"],[0.3333333333333333,\"#9c179e\"],[0.4444444444444444,\"#bd3786\"],[0.5555555555555556,\"#d8576b\"],[0.6666666666666666,\"#ed7953\"],[0.7777777777777778,\"#fb9f3a\"],[0.8888888888888888,\"#fdca26\"],[1.0,\"#f0f921\"]]}],\"contourcarpet\":[{\"type\":\"contourcarpet\",\"colorbar\":{\"outlinewidth\":0,\"ticks\":\"\"}}],\"contour\":[{\"type\":\"contour\",\"colorbar\":{\"outlinewidth\":0,\"ticks\":\"\"},\"colorscale\":[[0.0,\"#0d0887\"],[0.1111111111111111,\"#46039f\"],[0.2222222222222222,\"#7201a8\"],[0.3333333333333333,\"#9c179e\"],[0.4444444444444444,\"#bd3786\"],[0.5555555555555556,\"#d8576b\"],[0.6666666666666666,\"#ed7953\"],[0.7777777777777778,\"#fb9f3a\"],[0.8888888888888888,\"#fdca26\"],[1.0,\"#f0f921\"]]}],\"surface\":[{\"type\":\"surface\",\"colorbar\":{\"outlinewidth\":0,\"ticks\":\"\"},\"colorscale\":[[0.0,\"#0d0887\"],[0.1111111111111111,\"#46039f\"],[0.2222222222222222,\"#7201a8\"],[0.3333333333333333,\"#9c179e\"],[0.4444444444444444,\"#bd3786\"],[0.5555555555555556,\"#d8576b\"],[0.6666666666666666,\"#ed7953\"],[0.7777777777777778,\"#fb9f3a\"],[0.8888888888888888,\"#fdca26\"],[1.0,\"#f0f921\"]]}],\"mesh3d\":[{\"type\":\"mesh3d\",\"colorbar\":{\"outlinewidth\":0,\"ticks\":\"\"}}],\"scatter\":[{\"fillpattern\":{\"fillmode\":\"overlay\",\"size\":10,\"solidity\":0.2},\"type\":\"scatter\"}],\"parcoords\":[{\"type\":\"parcoords\",\"line\":{\"colorbar\":{\"outlinewidth\":0,\"ticks\":\"\"}}}],\"scatterpolargl\":[{\"type\":\"scatterpolargl\",\"marker\":{\"colorbar\":{\"outlinewidth\":0,\"ticks\":\"\"}}}],\"bar\":[{\"error_x\":{\"color\":\"#2a3f5f\"},\"error_y\":{\"color\":\"#2a3f5f\"},\"marker\":{\"line\":{\"color\":\"#E5ECF6\",\"width\":0.5},\"pattern\":{\"fillmode\":\"overlay\",\"size\":10,\"solidity\":0.2}},\"type\":\"bar\"}],\"scattergeo\":[{\"type\":\"scattergeo\",\"marker\":{\"colorbar\":{\"outlinewidth\":0,\"ticks\":\"\"}}}],\"scatterpolar\":[{\"type\":\"scatterpolar\",\"marker\":{\"colorbar\":{\"outlinewidth\":0,\"ticks\":\"\"}}}],\"histogram\":[{\"marker\":{\"pattern\":{\"fillmode\":\"overlay\",\"size\":10,\"solidity\":0.2}},\"type\":\"histogram\"}],\"scattergl\":[{\"type\":\"scattergl\",\"marker\":{\"colorbar\":{\"outlinewidth\":0,\"ticks\":\"\"}}}],\"scatter3d\":[{\"type\":\"scatter3d\",\"line\":{\"colorbar\":{\"outlinewidth\":0,\"ticks\":\"\"}},\"marker\":{\"colorbar\":{\"outlinewidth\":0,\"ticks\":\"\"}}}],\"scattermapbox\":[{\"type\":\"scattermapbox\",\"marker\":{\"colorbar\":{\"outlinewidth\":0,\"ticks\":\"\"}}}],\"scatterternary\":[{\"type\":\"scatterternary\",\"marker\":{\"colorbar\":{\"outlinewidth\":0,\"ticks\":\"\"}}}],\"scattercarpet\":[{\"type\":\"scattercarpet\",\"marker\":{\"colorbar\":{\"outlinewidth\":0,\"ticks\":\"\"}}}],\"carpet\":[{\"aaxis\":{\"endlinecolor\":\"#2a3f5f\",\"gridcolor\":\"white\",\"linecolor\":\"white\",\"minorgridcolor\":\"white\",\"startlinecolor\":\"#2a3f5f\"},\"baxis\":{\"endlinecolor\":\"#2a3f5f\",\"gridcolor\":\"white\",\"linecolor\":\"white\",\"minorgridcolor\":\"white\",\"startlinecolor\":\"#2a3f5f\"},\"type\":\"carpet\"}],\"table\":[{\"cells\":{\"fill\":{\"color\":\"#EBF0F8\"},\"line\":{\"color\":\"white\"}},\"header\":{\"fill\":{\"color\":\"#C8D4E3\"},\"line\":{\"color\":\"white\"}},\"type\":\"table\"}],\"barpolar\":[{\"marker\":{\"line\":{\"color\":\"#E5ECF6\",\"width\":0.5},\"pattern\":{\"fillmode\":\"overlay\",\"size\":10,\"solidity\":0.2}},\"type\":\"barpolar\"}],\"pie\":[{\"automargin\":true,\"type\":\"pie\"}]},\"layout\":{\"autotypenumbers\":\"strict\",\"colorway\":[\"#636efa\",\"#EF553B\",\"#00cc96\",\"#ab63fa\",\"#FFA15A\",\"#19d3f3\",\"#FF6692\",\"#B6E880\",\"#FF97FF\",\"#FECB52\"],\"font\":{\"color\":\"#2a3f5f\"},\"hovermode\":\"closest\",\"hoverlabel\":{\"align\":\"left\"},\"paper_bgcolor\":\"white\",\"plot_bgcolor\":\"#E5ECF6\",\"polar\":{\"bgcolor\":\"#E5ECF6\",\"angularaxis\":{\"gridcolor\":\"white\",\"linecolor\":\"white\",\"ticks\":\"\"},\"radialaxis\":{\"gridcolor\":\"white\",\"linecolor\":\"white\",\"ticks\":\"\"}},\"ternary\":{\"bgcolor\":\"#E5ECF6\",\"aaxis\":{\"gridcolor\":\"white\",\"linecolor\":\"white\",\"ticks\":\"\"},\"baxis\":{\"gridcolor\":\"white\",\"linecolor\":\"white\",\"ticks\":\"\"},\"caxis\":{\"gridcolor\":\"white\",\"linecolor\":\"white\",\"ticks\":\"\"}},\"coloraxis\":{\"colorbar\":{\"outlinewidth\":0,\"ticks\":\"\"}},\"colorscale\":{\"sequential\":[[0.0,\"#0d0887\"],[0.1111111111111111,\"#46039f\"],[0.2222222222222222,\"#7201a8\"],[0.3333333333333333,\"#9c179e\"],[0.4444444444444444,\"#bd3786\"],[0.5555555555555556,\"#d8576b\"],[0.6666666666666666,\"#ed7953\"],[0.7777777777777778,\"#fb9f3a\"],[0.8888888888888888,\"#fdca26\"],[1.0,\"#f0f921\"]],\"sequentialminus\":[[0.0,\"#0d0887\"],[0.1111111111111111,\"#46039f\"],[0.2222222222222222,\"#7201a8\"],[0.3333333333333333,\"#9c179e\"],[0.4444444444444444,\"#bd3786\"],[0.5555555555555556,\"#d8576b\"],[0.6666666666666666,\"#ed7953\"],[0.7777777777777778,\"#fb9f3a\"],[0.8888888888888888,\"#fdca26\"],[1.0,\"#f0f921\"]],\"diverging\":[[0,\"#8e0152\"],[0.1,\"#c51b7d\"],[0.2,\"#de77ae\"],[0.3,\"#f1b6da\"],[0.4,\"#fde0ef\"],[0.5,\"#f7f7f7\"],[0.6,\"#e6f5d0\"],[0.7,\"#b8e186\"],[0.8,\"#7fbc41\"],[0.9,\"#4d9221\"],[1,\"#276419\"]]},\"xaxis\":{\"gridcolor\":\"white\",\"linecolor\":\"white\",\"ticks\":\"\",\"title\":{\"standoff\":15},\"zerolinecolor\":\"white\",\"automargin\":true,\"zerolinewidth\":2},\"yaxis\":{\"gridcolor\":\"white\",\"linecolor\":\"white\",\"ticks\":\"\",\"title\":{\"standoff\":15},\"zerolinecolor\":\"white\",\"automargin\":true,\"zerolinewidth\":2},\"scene\":{\"xaxis\":{\"backgroundcolor\":\"#E5ECF6\",\"gridcolor\":\"white\",\"linecolor\":\"white\",\"showbackground\":true,\"ticks\":\"\",\"zerolinecolor\":\"white\",\"gridwidth\":2},\"yaxis\":{\"backgroundcolor\":\"#E5ECF6\",\"gridcolor\":\"white\",\"linecolor\":\"white\",\"showbackground\":true,\"ticks\":\"\",\"zerolinecolor\":\"white\",\"gridwidth\":2},\"zaxis\":{\"backgroundcolor\":\"#E5ECF6\",\"gridcolor\":\"white\",\"linecolor\":\"white\",\"showbackground\":true,\"ticks\":\"\",\"zerolinecolor\":\"white\",\"gridwidth\":2}},\"shapedefaults\":{\"line\":{\"color\":\"#2a3f5f\"}},\"annotationdefaults\":{\"arrowcolor\":\"#2a3f5f\",\"arrowhead\":0,\"arrowwidth\":1},\"geo\":{\"bgcolor\":\"white\",\"landcolor\":\"#E5ECF6\",\"subunitcolor\":\"white\",\"showland\":true,\"showlakes\":true,\"lakecolor\":\"white\"},\"title\":{\"x\":0.05},\"mapbox\":{\"style\":\"light\"}}},\"xaxis\":{\"anchor\":\"y\",\"domain\":[0.0,1.0],\"title\":{\"text\":\"Duration of Biggest Piece(mins)\"}},\"yaxis\":{\"anchor\":\"x\",\"domain\":[0.0,0.8316],\"title\":{\"text\":\"count\"}},\"xaxis2\":{\"anchor\":\"y2\",\"domain\":[0.0,1.0],\"matches\":\"x\",\"showticklabels\":false,\"showgrid\":true},\"yaxis2\":{\"anchor\":\"x2\",\"domain\":[0.8416,1.0],\"matches\":\"y2\",\"showticklabels\":false,\"showline\":false,\"ticks\":\"\",\"showgrid\":false},\"legend\":{\"tracegroupgap\":0},\"margin\":{\"t\":60},\"barmode\":\"relative\"},                        {\"responsive\": true}                    ).then(function(){\n",
       "                            \n",
       "var gd = document.getElementById('363db453-2232-41fb-9d80-5faa070f8bd6');\n",
       "var x = new MutationObserver(function (mutations, observer) {{\n",
       "        var display = window.getComputedStyle(gd).display;\n",
       "        if (!display || display === 'none') {{\n",
       "            console.log([gd, 'removed!']);\n",
       "            Plotly.purge(gd);\n",
       "            observer.disconnect();\n",
       "        }}\n",
       "}});\n",
       "\n",
       "// Listen for the removal of the full notebook cells\n",
       "var notebookContainer = gd.closest('#notebook-container');\n",
       "if (notebookContainer) {{\n",
       "    x.observe(notebookContainer, {childList: true});\n",
       "}}\n",
       "\n",
       "// Listen for the clearing of the current output cell\n",
       "var outputEl = gd.closest('.output');\n",
       "if (outputEl) {{\n",
       "    x.observe(outputEl, {childList: true});\n",
       "}}\n",
       "\n",
       "                        })                };                });            </script>        </div>"
      ]
     },
     "metadata": {},
     "output_type": "display_data"
    }
   ],
   "source": [
    "express.histogram(data_frame=df, x='Duration of Biggest Piece(mins)',   nbins=28, marginal='box')"
   ]
  },
  {
   "cell_type": "markdown",
   "id": "528fd23c",
   "metadata": {
    "papermill": {
     "duration": 0.006342,
     "end_time": "2024-03-02T16:57:17.807598",
     "exception": false,
     "start_time": "2024-03-02T16:57:17.801256",
     "status": "completed"
    },
    "tags": []
   },
   "source": [
    "It's interesting to see that our durations start to have something like a Gaussian distribution; perhaps it would look more Gaussian if we had thousands of composers."
   ]
  }
 ],
 "metadata": {
  "kaggle": {
   "accelerator": "none",
   "dataSources": [
    {
     "datasetId": 4454518,
     "sourceId": 7642689,
     "sourceType": "datasetVersion"
    }
   ],
   "dockerImageVersionId": 30664,
   "isGpuEnabled": false,
   "isInternetEnabled": true,
   "language": "python",
   "sourceType": "notebook"
  },
  "kernelspec": {
   "display_name": "Python 3",
   "language": "python",
   "name": "python3"
  },
  "language_info": {
   "codemirror_mode": {
    "name": "ipython",
    "version": 3
   },
   "file_extension": ".py",
   "mimetype": "text/x-python",
   "name": "python",
   "nbconvert_exporter": "python",
   "pygments_lexer": "ipython3",
   "version": "3.10.13"
  },
  "papermill": {
   "default_parameters": {},
   "duration": 8.587916,
   "end_time": "2024-03-02T16:57:18.747525",
   "environment_variables": {},
   "exception": null,
   "input_path": "__notebook__.ipynb",
   "output_path": "__notebook__.ipynb",
   "parameters": {},
   "start_time": "2024-03-02T16:57:10.159609",
   "version": "2.5.0"
  }
 },
 "nbformat": 4,
 "nbformat_minor": 5
}
