{
 "cells": [
  {
   "cell_type": "code",
   "execution_count": 1,
   "id": "853f76a7",
   "metadata": {
    "execution": {
     "iopub.execute_input": "2023-11-08T14:55:32.407261Z",
     "iopub.status.busy": "2023-11-08T14:55:32.406846Z",
     "iopub.status.idle": "2023-11-08T14:55:32.829887Z",
     "shell.execute_reply": "2023-11-08T14:55:32.828878Z"
    },
    "papermill": {
     "duration": 0.429225,
     "end_time": "2023-11-08T14:55:32.832382",
     "exception": false,
     "start_time": "2023-11-08T14:55:32.403157",
     "status": "completed"
    },
    "tags": []
   },
   "outputs": [
    {
     "data": {
      "text/html": [
       "<div>\n",
       "<style scoped>\n",
       "    .dataframe tbody tr th:only-of-type {\n",
       "        vertical-align: middle;\n",
       "    }\n",
       "\n",
       "    .dataframe tbody tr th {\n",
       "        vertical-align: top;\n",
       "    }\n",
       "\n",
       "    .dataframe thead th {\n",
       "        text-align: right;\n",
       "    }\n",
       "</style>\n",
       "<table border=\"1\" class=\"dataframe\">\n",
       "  <thead>\n",
       "    <tr style=\"text-align: right;\">\n",
       "      <th></th>\n",
       "      <th>year</th>\n",
       "      <th>day</th>\n",
       "      <th>temperature</th>\n",
       "      <th>humidity</th>\n",
       "      <th>atmospheric pressure</th>\n",
       "      <th>date</th>\n",
       "    </tr>\n",
       "  </thead>\n",
       "  <tbody>\n",
       "    <tr>\n",
       "      <th>0</th>\n",
       "      <td>2022</td>\n",
       "      <td>11/6</td>\n",
       "      <td>13.5</td>\n",
       "      <td>61.0</td>\n",
       "      <td>1019.3</td>\n",
       "      <td>2022-11-06</td>\n",
       "    </tr>\n",
       "    <tr>\n",
       "      <th>1</th>\n",
       "      <td>2022</td>\n",
       "      <td>11/7</td>\n",
       "      <td>13.7</td>\n",
       "      <td>70.0</td>\n",
       "      <td>1018.9</td>\n",
       "      <td>2022-11-07</td>\n",
       "    </tr>\n",
       "    <tr>\n",
       "      <th>2</th>\n",
       "      <td>2022</td>\n",
       "      <td>11/8</td>\n",
       "      <td>15.9</td>\n",
       "      <td>55.0</td>\n",
       "      <td>1016.1</td>\n",
       "      <td>2022-11-08</td>\n",
       "    </tr>\n",
       "    <tr>\n",
       "      <th>3</th>\n",
       "      <td>2022</td>\n",
       "      <td>11/9</td>\n",
       "      <td>14.6</td>\n",
       "      <td>58.0</td>\n",
       "      <td>1022.2</td>\n",
       "      <td>2022-11-09</td>\n",
       "    </tr>\n",
       "    <tr>\n",
       "      <th>4</th>\n",
       "      <td>2022</td>\n",
       "      <td>11/10</td>\n",
       "      <td>15.2</td>\n",
       "      <td>64.0</td>\n",
       "      <td>1020.1</td>\n",
       "      <td>2022-11-10</td>\n",
       "    </tr>\n",
       "  </tbody>\n",
       "</table>\n",
       "</div>"
      ],
      "text/plain": [
       "   year    day temperature  humidity  atmospheric pressure        date\n",
       "0  2022   11/6       13.5       61.0                1019.3  2022-11-06\n",
       "1  2022   11/7       13.7       70.0                1018.9  2022-11-07\n",
       "2  2022   11/8       15.9       55.0                1016.1  2022-11-08\n",
       "3  2022   11/9       14.6       58.0                1022.2  2022-11-09\n",
       "4  2022  11/10       15.2       64.0                1020.1  2022-11-10"
      ]
     },
     "execution_count": 1,
     "metadata": {},
     "output_type": "execute_result"
    }
   ],
   "source": [
    "import pandas as pd\n",
    "from arrow import Arrow\n",
    "\n",
    "df = pd.read_csv(filepath_or_buffer='/kaggle/input/tokyo-weatherdata/weather_tokyo_data.csv')\n",
    "df['date'] = df.apply(axis=1, func=lambda x: Arrow(year=x['year'], month=int(x['day'].split('/')[0]),\n",
    "                                          day=int(x['day'].split('/')[1])).date())\n",
    "df.columns = [item.strip() for item in df.columns]\n",
    "df.head()"
   ]
  },
  {
   "cell_type": "code",
   "execution_count": 2,
   "id": "d2529e79",
   "metadata": {
    "execution": {
     "iopub.execute_input": "2023-11-08T14:55:32.839500Z",
     "iopub.status.busy": "2023-11-08T14:55:32.839151Z",
     "iopub.status.idle": "2023-11-08T14:55:32.845626Z",
     "shell.execute_reply": "2023-11-08T14:55:32.844631Z"
    },
    "papermill": {
     "duration": 0.013432,
     "end_time": "2023-11-08T14:55:32.847831",
     "exception": false,
     "start_time": "2023-11-08T14:55:32.834399",
     "status": "completed"
    },
    "tags": []
   },
   "outputs": [
    {
     "data": {
      "text/plain": [
       "Index(['year', 'day', 'temperature', 'humidity', 'atmospheric pressure',\n",
       "       'date'],\n",
       "      dtype='object')"
      ]
     },
     "execution_count": 2,
     "metadata": {},
     "output_type": "execute_result"
    }
   ],
   "source": [
    "df.columns"
   ]
  }
 ],
 "metadata": {
  "kernelspec": {
   "display_name": "Python 3",
   "language": "python",
   "name": "python3"
  },
  "language_info": {
   "codemirror_mode": {
    "name": "ipython",
    "version": 3
   },
   "file_extension": ".py",
   "mimetype": "text/x-python",
   "name": "python",
   "nbconvert_exporter": "python",
   "pygments_lexer": "ipython3",
   "version": "3.10.12"
  },
  "papermill": {
   "default_parameters": {},
   "duration": 3.979081,
   "end_time": "2023-11-08T14:55:33.269638",
   "environment_variables": {},
   "exception": null,
   "input_path": "__notebook__.ipynb",
   "output_path": "__notebook__.ipynb",
   "parameters": {},
   "start_time": "2023-11-08T14:55:29.290557",
   "version": "2.4.0"
  }
 },
 "nbformat": 4,
 "nbformat_minor": 5
}
