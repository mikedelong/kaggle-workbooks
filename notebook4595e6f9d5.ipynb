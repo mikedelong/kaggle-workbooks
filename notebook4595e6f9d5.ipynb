{
 "cells": [
  {
   "cell_type": "code",
   "execution_count": 1,
   "id": "de0b5a25",
   "metadata": {
    "_cell_guid": "b1076dfc-b9ad-4769-8c92-a6c4dae69d19",
    "_uuid": "8f2839f25d086af736a60e9eeb907d3b93b6e0e5",
    "execution": {
     "iopub.execute_input": "2024-08-02T10:58:20.133665Z",
     "iopub.status.busy": "2024-08-02T10:58:20.133281Z",
     "iopub.status.idle": "2024-08-02T10:58:21.146813Z",
     "shell.execute_reply": "2024-08-02T10:58:21.145416Z"
    },
    "papermill": {
     "duration": 1.020679,
     "end_time": "2024-08-02T10:58:21.149651",
     "exception": false,
     "start_time": "2024-08-02T10:58:20.128972",
     "status": "completed"
    },
    "tags": []
   },
   "outputs": [
    {
     "data": {
      "text/html": [
       "<div>\n",
       "<style scoped>\n",
       "    .dataframe tbody tr th:only-of-type {\n",
       "        vertical-align: middle;\n",
       "    }\n",
       "\n",
       "    .dataframe tbody tr th {\n",
       "        vertical-align: top;\n",
       "    }\n",
       "\n",
       "    .dataframe thead th {\n",
       "        text-align: right;\n",
       "    }\n",
       "</style>\n",
       "<table border=\"1\" class=\"dataframe\">\n",
       "  <thead>\n",
       "    <tr style=\"text-align: right;\">\n",
       "      <th></th>\n",
       "      <th>Length (major axis)</th>\n",
       "      <th>Width (minor axis)</th>\n",
       "      <th>Thickness (depth)</th>\n",
       "      <th>Area</th>\n",
       "      <th>Perimeter</th>\n",
       "      <th>Roundness</th>\n",
       "      <th>Solidity</th>\n",
       "      <th>Compactness</th>\n",
       "      <th>Aspect Ratio</th>\n",
       "      <th>Eccentricity</th>\n",
       "      <th>Extent</th>\n",
       "      <th>Convex hull(convex area)</th>\n",
       "      <th>Type</th>\n",
       "    </tr>\n",
       "  </thead>\n",
       "  <tbody>\n",
       "    <tr>\n",
       "      <th>0</th>\n",
       "      <td>NaN</td>\n",
       "      <td>227.940628</td>\n",
       "      <td>127.759132</td>\n",
       "      <td>22619.0</td>\n",
       "      <td>643.813269</td>\n",
       "      <td>NaN</td>\n",
       "      <td>0.973384</td>\n",
       "      <td>1.458265</td>\n",
       "      <td>NaN</td>\n",
       "      <td>NaN</td>\n",
       "      <td>0.681193</td>\n",
       "      <td>23237.5</td>\n",
       "      <td>MAMRA</td>\n",
       "    </tr>\n",
       "    <tr>\n",
       "      <th>1</th>\n",
       "      <td>NaN</td>\n",
       "      <td>234.188126</td>\n",
       "      <td>128.199509</td>\n",
       "      <td>23038.0</td>\n",
       "      <td>680.984841</td>\n",
       "      <td>NaN</td>\n",
       "      <td>0.957304</td>\n",
       "      <td>1.601844</td>\n",
       "      <td>NaN</td>\n",
       "      <td>NaN</td>\n",
       "      <td>0.656353</td>\n",
       "      <td>24065.5</td>\n",
       "      <td>MAMRA</td>\n",
       "    </tr>\n",
       "    <tr>\n",
       "      <th>2</th>\n",
       "      <td>NaN</td>\n",
       "      <td>229.418610</td>\n",
       "      <td>125.796547</td>\n",
       "      <td>22386.5</td>\n",
       "      <td>646.943212</td>\n",
       "      <td>NaN</td>\n",
       "      <td>0.967270</td>\n",
       "      <td>1.487772</td>\n",
       "      <td>NaN</td>\n",
       "      <td>NaN</td>\n",
       "      <td>0.683620</td>\n",
       "      <td>23144.0</td>\n",
       "      <td>MAMRA</td>\n",
       "    </tr>\n",
       "    <tr>\n",
       "      <th>3</th>\n",
       "      <td>NaN</td>\n",
       "      <td>232.763153</td>\n",
       "      <td>125.918808</td>\n",
       "      <td>22578.5</td>\n",
       "      <td>661.227483</td>\n",
       "      <td>NaN</td>\n",
       "      <td>0.965512</td>\n",
       "      <td>1.540979</td>\n",
       "      <td>NaN</td>\n",
       "      <td>NaN</td>\n",
       "      <td>0.685360</td>\n",
       "      <td>23385.0</td>\n",
       "      <td>MAMRA</td>\n",
       "    </tr>\n",
       "    <tr>\n",
       "      <th>4</th>\n",
       "      <td>NaN</td>\n",
       "      <td>230.150742</td>\n",
       "      <td>107.253448</td>\n",
       "      <td>19068.0</td>\n",
       "      <td>624.842706</td>\n",
       "      <td>NaN</td>\n",
       "      <td>0.951450</td>\n",
       "      <td>1.629395</td>\n",
       "      <td>NaN</td>\n",
       "      <td>NaN</td>\n",
       "      <td>0.714800</td>\n",
       "      <td>20041.0</td>\n",
       "      <td>MAMRA</td>\n",
       "    </tr>\n",
       "  </tbody>\n",
       "</table>\n",
       "</div>"
      ],
      "text/plain": [
       "   Length (major axis)  Width (minor axis)  Thickness (depth)     Area  \\\n",
       "0                  NaN          227.940628         127.759132  22619.0   \n",
       "1                  NaN          234.188126         128.199509  23038.0   \n",
       "2                  NaN          229.418610         125.796547  22386.5   \n",
       "3                  NaN          232.763153         125.918808  22578.5   \n",
       "4                  NaN          230.150742         107.253448  19068.0   \n",
       "\n",
       "    Perimeter  Roundness  Solidity  Compactness  Aspect Ratio  Eccentricity  \\\n",
       "0  643.813269        NaN  0.973384     1.458265           NaN           NaN   \n",
       "1  680.984841        NaN  0.957304     1.601844           NaN           NaN   \n",
       "2  646.943212        NaN  0.967270     1.487772           NaN           NaN   \n",
       "3  661.227483        NaN  0.965512     1.540979           NaN           NaN   \n",
       "4  624.842706        NaN  0.951450     1.629395           NaN           NaN   \n",
       "\n",
       "     Extent  Convex hull(convex area)   Type  \n",
       "0  0.681193                   23237.5  MAMRA  \n",
       "1  0.656353                   24065.5  MAMRA  \n",
       "2  0.683620                   23144.0  MAMRA  \n",
       "3  0.685360                   23385.0  MAMRA  \n",
       "4  0.714800                   20041.0  MAMRA  "
      ]
     },
     "execution_count": 1,
     "metadata": {},
     "output_type": "execute_result"
    }
   ],
   "source": [
    "import pandas as pd\n",
    "\n",
    "DATA = '/kaggle/input/almond-types-classification/Almond.csv'\n",
    "\n",
    "df = pd.read_csv(filepath_or_buffer=DATA, index_col=[0])\n",
    "df.head()"
   ]
  },
  {
   "cell_type": "code",
   "execution_count": 2,
   "id": "4f629f32",
   "metadata": {
    "execution": {
     "iopub.execute_input": "2024-08-02T10:58:21.157293Z",
     "iopub.status.busy": "2024-08-02T10:58:21.156886Z",
     "iopub.status.idle": "2024-08-02T10:58:21.179718Z",
     "shell.execute_reply": "2024-08-02T10:58:21.178556Z"
    },
    "papermill": {
     "duration": 0.029541,
     "end_time": "2024-08-02T10:58:21.182324",
     "exception": false,
     "start_time": "2024-08-02T10:58:21.152783",
     "status": "completed"
    },
    "tags": []
   },
   "outputs": [
    {
     "name": "stdout",
     "output_type": "stream",
     "text": [
      "<class 'pandas.core.frame.DataFrame'>\n",
      "Index: 2803 entries, 0 to 2802\n",
      "Data columns (total 13 columns):\n",
      " #   Column                    Non-Null Count  Dtype  \n",
      "---  ------                    --------------  -----  \n",
      " 0   Length (major axis)       1946 non-null   float64\n",
      " 1   Width (minor axis)        1861 non-null   float64\n",
      " 2   Thickness (depth)         1799 non-null   float64\n",
      " 3   Area                      2803 non-null   float64\n",
      " 4   Perimeter                 2803 non-null   float64\n",
      " 5   Roundness                 1946 non-null   float64\n",
      " 6   Solidity                  2803 non-null   float64\n",
      " 7   Compactness               2803 non-null   float64\n",
      " 8   Aspect Ratio              1004 non-null   float64\n",
      " 9   Eccentricity              1004 non-null   float64\n",
      " 10  Extent                    2803 non-null   float64\n",
      " 11  Convex hull(convex area)  2803 non-null   float64\n",
      " 12  Type                      2803 non-null   object \n",
      "dtypes: float64(12), object(1)\n",
      "memory usage: 306.6+ KB\n"
     ]
    }
   ],
   "source": [
    "df.info()"
   ]
  },
  {
   "cell_type": "code",
   "execution_count": 3,
   "id": "69fdbc55",
   "metadata": {
    "execution": {
     "iopub.execute_input": "2024-08-02T10:58:21.189787Z",
     "iopub.status.busy": "2024-08-02T10:58:21.189369Z",
     "iopub.status.idle": "2024-08-02T10:58:21.196883Z",
     "shell.execute_reply": "2024-08-02T10:58:21.195812Z"
    },
    "papermill": {
     "duration": 0.013972,
     "end_time": "2024-08-02T10:58:21.199341",
     "exception": false,
     "start_time": "2024-08-02T10:58:21.185369",
     "status": "completed"
    },
    "tags": []
   },
   "outputs": [
    {
     "data": {
      "text/plain": [
       "Index(['Length (major axis)', 'Width (minor axis)', 'Thickness (depth)',\n",
       "       'Area', 'Perimeter', 'Roundness', 'Solidity', 'Compactness',\n",
       "       'Aspect Ratio', 'Eccentricity', 'Extent', 'Convex hull(convex area)',\n",
       "       'Type'],\n",
       "      dtype='object')"
      ]
     },
     "execution_count": 3,
     "metadata": {},
     "output_type": "execute_result"
    }
   ],
   "source": [
    "df.columns"
   ]
  },
  {
   "cell_type": "code",
   "execution_count": 4,
   "id": "40e78cf4",
   "metadata": {
    "execution": {
     "iopub.execute_input": "2024-08-02T10:58:21.206987Z",
     "iopub.status.busy": "2024-08-02T10:58:21.206473Z",
     "iopub.status.idle": "2024-08-02T10:58:21.212064Z",
     "shell.execute_reply": "2024-08-02T10:58:21.210676Z"
    },
    "papermill": {
     "duration": 0.012158,
     "end_time": "2024-08-02T10:58:21.214436",
     "exception": false,
     "start_time": "2024-08-02T10:58:21.202278",
     "status": "completed"
    },
    "tags": []
   },
   "outputs": [],
   "source": [
    "COLUMNS = ['Area', 'Perimeter', 'Solidity', 'Compactness', 'Extent', 'Convex hull(convex area)',]\n",
    "TARGET = 'Type'\n"
   ]
  },
  {
   "cell_type": "code",
   "execution_count": 5,
   "id": "e7a95b42",
   "metadata": {
    "execution": {
     "iopub.execute_input": "2024-08-02T10:58:21.222738Z",
     "iopub.status.busy": "2024-08-02T10:58:21.221666Z",
     "iopub.status.idle": "2024-08-02T10:58:21.231587Z",
     "shell.execute_reply": "2024-08-02T10:58:21.230538Z"
    },
    "papermill": {
     "duration": 0.016533,
     "end_time": "2024-08-02T10:58:21.233956",
     "exception": false,
     "start_time": "2024-08-02T10:58:21.217423",
     "status": "completed"
    },
    "tags": []
   },
   "outputs": [
    {
     "data": {
      "text/plain": [
       "Type\n",
       "SANORA     0.336425\n",
       "MAMRA      0.332858\n",
       "REGULAR    0.330717\n",
       "Name: proportion, dtype: float64"
      ]
     },
     "execution_count": 5,
     "metadata": {},
     "output_type": "execute_result"
    }
   ],
   "source": [
    "df['Type'].value_counts(normalize=True)"
   ]
  }
 ],
 "metadata": {
  "kaggle": {
   "accelerator": "none",
   "dataSources": [
    {
     "datasetId": 5344793,
     "sourceId": 8883521,
     "sourceType": "datasetVersion"
    }
   ],
   "dockerImageVersionId": 30746,
   "isGpuEnabled": false,
   "isInternetEnabled": true,
   "language": "python",
   "sourceType": "notebook"
  },
  "kernelspec": {
   "display_name": "Python 3",
   "language": "python",
   "name": "python3"
  },
  "language_info": {
   "codemirror_mode": {
    "name": "ipython",
    "version": 3
   },
   "file_extension": ".py",
   "mimetype": "text/x-python",
   "name": "python",
   "nbconvert_exporter": "python",
   "pygments_lexer": "ipython3",
   "version": "3.10.13"
  },
  "papermill": {
   "default_parameters": {},
   "duration": 4.972053,
   "end_time": "2024-08-02T10:58:21.759917",
   "environment_variables": {},
   "exception": null,
   "input_path": "__notebook__.ipynb",
   "output_path": "__notebook__.ipynb",
   "parameters": {},
   "start_time": "2024-08-02T10:58:16.787864",
   "version": "2.5.0"
  }
 },
 "nbformat": 4,
 "nbformat_minor": 5
}
