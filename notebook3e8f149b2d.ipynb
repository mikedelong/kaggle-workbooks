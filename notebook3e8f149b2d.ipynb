{
 "cells": [
  {
   "cell_type": "code",
   "execution_count": 1,
   "id": "ed296bf8",
   "metadata": {
    "_cell_guid": "b1076dfc-b9ad-4769-8c92-a6c4dae69d19",
    "_uuid": "8f2839f25d086af736a60e9eeb907d3b93b6e0e5",
    "execution": {
     "iopub.execute_input": "2023-07-12T19:59:44.087949Z",
     "iopub.status.busy": "2023-07-12T19:59:44.087538Z",
     "iopub.status.idle": "2023-07-12T20:00:07.303601Z",
     "shell.execute_reply": "2023-07-12T20:00:07.302160Z"
    },
    "papermill": {
     "duration": 23.223812,
     "end_time": "2023-07-12T20:00:07.306946",
     "exception": false,
     "start_time": "2023-07-12T19:59:44.083134",
     "status": "completed"
    },
    "tags": []
   },
   "outputs": [],
   "source": [
    "import pandas as pd\n",
    "df = pd.concat([\n",
    "    pd.read_csv(filepath_or_buffer='../input/meterology/casual.csv'),\n",
    "    pd.read_csv(filepath_or_buffer='../input/meterology/member.csv')\n",
    "])"
   ]
  },
  {
   "cell_type": "code",
   "execution_count": 2,
   "id": "650b5307",
   "metadata": {
    "execution": {
     "iopub.execute_input": "2023-07-12T20:00:07.314419Z",
     "iopub.status.busy": "2023-07-12T20:00:07.313337Z",
     "iopub.status.idle": "2023-07-12T20:00:07.773424Z",
     "shell.execute_reply": "2023-07-12T20:00:07.770283Z"
    },
    "papermill": {
     "duration": 0.466946,
     "end_time": "2023-07-12T20:00:07.776645",
     "exception": false,
     "start_time": "2023-07-12T20:00:07.309699",
     "status": "completed"
    },
    "tags": []
   },
   "outputs": [
    {
     "data": {
      "text/html": [
       "<div>\n",
       "<style scoped>\n",
       "    .dataframe tbody tr th:only-of-type {\n",
       "        vertical-align: middle;\n",
       "    }\n",
       "\n",
       "    .dataframe tbody tr th {\n",
       "        vertical-align: top;\n",
       "    }\n",
       "\n",
       "    .dataframe thead th {\n",
       "        text-align: right;\n",
       "    }\n",
       "</style>\n",
       "<table border=\"1\" class=\"dataframe\">\n",
       "  <thead>\n",
       "    <tr style=\"text-align: right;\">\n",
       "      <th></th>\n",
       "      <th>ride_id</th>\n",
       "      <th>member_casual</th>\n",
       "      <th>startdate</th>\n",
       "      <th>starttime</th>\n",
       "      <th>stopdate</th>\n",
       "      <th>stoptime</th>\n",
       "      <th>rideable_type</th>\n",
       "      <th>tripduration</th>\n",
       "      <th>max_temperature_c</th>\n",
       "      <th>min_temperature_c</th>\n",
       "      <th>temperature_morning_c</th>\n",
       "      <th>temperature_noon_c</th>\n",
       "      <th>temperature_evening_c</th>\n",
       "      <th>temperature_night_c</th>\n",
       "      <th>precip_total_day_mm</th>\n",
       "      <th>windspeed_max_kmh</th>\n",
       "      <th>cloudcover_avg_percent</th>\n",
       "    </tr>\n",
       "  </thead>\n",
       "  <tbody>\n",
       "    <tr>\n",
       "      <th>996311</th>\n",
       "      <td>B9C526B7E0440D5C</td>\n",
       "      <td>casual</td>\n",
       "      <td>2022-06-25</td>\n",
       "      <td>08:44:28</td>\n",
       "      <td>2022-06-25</td>\n",
       "      <td>08:51:11</td>\n",
       "      <td>electric_bike</td>\n",
       "      <td>6</td>\n",
       "      <td>27</td>\n",
       "      <td>22</td>\n",
       "      <td>22</td>\n",
       "      <td>23</td>\n",
       "      <td>27</td>\n",
       "      <td>22</td>\n",
       "      <td>0.2</td>\n",
       "      <td>17</td>\n",
       "      <td>25.500</td>\n",
       "    </tr>\n",
       "    <tr>\n",
       "      <th>298883</th>\n",
       "      <td>30D9CB67F6EEFCD3</td>\n",
       "      <td>member</td>\n",
       "      <td>2023-05-31</td>\n",
       "      <td>14:26:02</td>\n",
       "      <td>2023-05-31</td>\n",
       "      <td>14:47:38</td>\n",
       "      <td>electric_bike</td>\n",
       "      <td>21</td>\n",
       "      <td>25</td>\n",
       "      <td>16</td>\n",
       "      <td>17</td>\n",
       "      <td>24</td>\n",
       "      <td>21</td>\n",
       "      <td>16</td>\n",
       "      <td>1.3</td>\n",
       "      <td>14</td>\n",
       "      <td>53.625</td>\n",
       "    </tr>\n",
       "    <tr>\n",
       "      <th>247651</th>\n",
       "      <td>0EE3EF9ACC55DC97</td>\n",
       "      <td>casual</td>\n",
       "      <td>2023-05-23</td>\n",
       "      <td>19:51:51</td>\n",
       "      <td>2023-05-23</td>\n",
       "      <td>20:03:32</td>\n",
       "      <td>classic_bike</td>\n",
       "      <td>11</td>\n",
       "      <td>23</td>\n",
       "      <td>16</td>\n",
       "      <td>16</td>\n",
       "      <td>20</td>\n",
       "      <td>21</td>\n",
       "      <td>16</td>\n",
       "      <td>0.0</td>\n",
       "      <td>9</td>\n",
       "      <td>13.375</td>\n",
       "    </tr>\n",
       "    <tr>\n",
       "      <th>1205020</th>\n",
       "      <td>09992615D22746CC</td>\n",
       "      <td>casual</td>\n",
       "      <td>2022-06-21</td>\n",
       "      <td>13:05:31</td>\n",
       "      <td>2022-06-21</td>\n",
       "      <td>15:05:34</td>\n",
       "      <td>classic_bike</td>\n",
       "      <td>120</td>\n",
       "      <td>35</td>\n",
       "      <td>20</td>\n",
       "      <td>20</td>\n",
       "      <td>33</td>\n",
       "      <td>32</td>\n",
       "      <td>21</td>\n",
       "      <td>0.0</td>\n",
       "      <td>23</td>\n",
       "      <td>3.000</td>\n",
       "    </tr>\n",
       "    <tr>\n",
       "      <th>1682235</th>\n",
       "      <td>671DEF7F1624C443</td>\n",
       "      <td>member</td>\n",
       "      <td>2022-08-24</td>\n",
       "      <td>13:50:44</td>\n",
       "      <td>2022-08-24</td>\n",
       "      <td>14:07:23</td>\n",
       "      <td>classic_bike</td>\n",
       "      <td>16</td>\n",
       "      <td>30</td>\n",
       "      <td>19</td>\n",
       "      <td>19</td>\n",
       "      <td>26</td>\n",
       "      <td>25</td>\n",
       "      <td>20</td>\n",
       "      <td>0.0</td>\n",
       "      <td>9</td>\n",
       "      <td>2.750</td>\n",
       "    </tr>\n",
       "  </tbody>\n",
       "</table>\n",
       "</div>"
      ],
      "text/plain": [
       "                  ride_id member_casual   startdate starttime    stopdate  \\\n",
       "996311   B9C526B7E0440D5C        casual  2022-06-25  08:44:28  2022-06-25   \n",
       "298883   30D9CB67F6EEFCD3        member  2023-05-31  14:26:02  2023-05-31   \n",
       "247651   0EE3EF9ACC55DC97        casual  2023-05-23  19:51:51  2023-05-23   \n",
       "1205020  09992615D22746CC        casual  2022-06-21  13:05:31  2022-06-21   \n",
       "1682235  671DEF7F1624C443        member  2022-08-24  13:50:44  2022-08-24   \n",
       "\n",
       "         stoptime  rideable_type  tripduration  max_temperature_c  \\\n",
       "996311   08:51:11  electric_bike             6                 27   \n",
       "298883   14:47:38  electric_bike            21                 25   \n",
       "247651   20:03:32   classic_bike            11                 23   \n",
       "1205020  15:05:34   classic_bike           120                 35   \n",
       "1682235  14:07:23   classic_bike            16                 30   \n",
       "\n",
       "         min_temperature_c  temperature_morning_c  temperature_noon_c  \\\n",
       "996311                  22                     22                  23   \n",
       "298883                  16                     17                  24   \n",
       "247651                  16                     16                  20   \n",
       "1205020                 20                     20                  33   \n",
       "1682235                 19                     19                  26   \n",
       "\n",
       "         temperature_evening_c  temperature_night_c  precip_total_day_mm  \\\n",
       "996311                      27                   22                  0.2   \n",
       "298883                      21                   16                  1.3   \n",
       "247651                      21                   16                  0.0   \n",
       "1205020                     32                   21                  0.0   \n",
       "1682235                     25                   20                  0.0   \n",
       "\n",
       "         windspeed_max_kmh  cloudcover_avg_percent  \n",
       "996311                  17                  25.500  \n",
       "298883                  14                  53.625  \n",
       "247651                   9                  13.375  \n",
       "1205020                 23                   3.000  \n",
       "1682235                  9                   2.750  "
      ]
     },
     "execution_count": 2,
     "metadata": {},
     "output_type": "execute_result"
    }
   ],
   "source": [
    "df.sample(5)"
   ]
  },
  {
   "cell_type": "code",
   "execution_count": 3,
   "id": "4fa05680",
   "metadata": {
    "execution": {
     "iopub.execute_input": "2023-07-12T20:00:07.783993Z",
     "iopub.status.busy": "2023-07-12T20:00:07.783536Z",
     "iopub.status.idle": "2023-07-12T20:00:07.791208Z",
     "shell.execute_reply": "2023-07-12T20:00:07.789897Z"
    },
    "papermill": {
     "duration": 0.014556,
     "end_time": "2023-07-12T20:00:07.794000",
     "exception": false,
     "start_time": "2023-07-12T20:00:07.779444",
     "status": "completed"
    },
    "tags": []
   },
   "outputs": [
    {
     "data": {
      "text/plain": [
       "(3877902, 17)"
      ]
     },
     "execution_count": 3,
     "metadata": {},
     "output_type": "execute_result"
    }
   ],
   "source": [
    "df.shape"
   ]
  }
 ],
 "metadata": {
  "kernelspec": {
   "display_name": "Python 3",
   "language": "python",
   "name": "python3"
  },
  "language_info": {
   "codemirror_mode": {
    "name": "ipython",
    "version": 3
   },
   "file_extension": ".py",
   "mimetype": "text/x-python",
   "name": "python",
   "nbconvert_exporter": "python",
   "pygments_lexer": "ipython3",
   "version": "3.10.12"
  },
  "papermill": {
   "default_parameters": {},
   "duration": 38.720537,
   "end_time": "2023-07-12T20:00:09.221583",
   "environment_variables": {},
   "exception": null,
   "input_path": "__notebook__.ipynb",
   "output_path": "__notebook__.ipynb",
   "parameters": {},
   "start_time": "2023-07-12T19:59:30.501046",
   "version": "2.4.0"
  }
 },
 "nbformat": 4,
 "nbformat_minor": 5
}
