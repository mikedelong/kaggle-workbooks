{
 "cells": [
  {
   "cell_type": "code",
   "execution_count": 1,
   "id": "84d6ea2f",
   "metadata": {
    "_cell_guid": "b1076dfc-b9ad-4769-8c92-a6c4dae69d19",
    "_uuid": "8f2839f25d086af736a60e9eeb907d3b93b6e0e5",
    "execution": {
     "iopub.execute_input": "2025-08-18T20:57:50.244199Z",
     "iopub.status.busy": "2025-08-18T20:57:50.243816Z",
     "iopub.status.idle": "2025-08-18T20:57:50.378878Z",
     "shell.execute_reply": "2025-08-18T20:57:50.377603Z"
    },
    "papermill": {
     "duration": 0.140233,
     "end_time": "2025-08-18T20:57:50.381004",
     "exception": false,
     "start_time": "2025-08-18T20:57:50.240771",
     "status": "completed"
    },
    "tags": []
   },
   "outputs": [
    {
     "name": "stdout",
     "output_type": "stream",
     "text": [
      "Test  Test.csv\tTrain  Train.csv  Validation  Validation.csv\r\n"
     ]
    }
   ],
   "source": [
    "!ls /kaggle/input/multibanfakedetect-multimodal-bangla-fake-news/"
   ]
  }
 ],
 "metadata": {
  "kaggle": {
   "accelerator": "none",
   "dataSources": [
    {
     "datasetId": 8070527,
     "sourceId": 12766452,
     "sourceType": "datasetVersion"
    }
   ],
   "dockerImageVersionId": 31089,
   "isGpuEnabled": false,
   "isInternetEnabled": true,
   "language": "python",
   "sourceType": "notebook"
  },
  "kernelspec": {
   "display_name": "Python 3",
   "language": "python",
   "name": "python3"
  },
  "language_info": {
   "codemirror_mode": {
    "name": "ipython",
    "version": 3
   },
   "file_extension": ".py",
   "mimetype": "text/x-python",
   "name": "python",
   "nbconvert_exporter": "python",
   "pygments_lexer": "ipython3",
   "version": "3.11.13"
  },
  "papermill": {
   "default_parameters": {},
   "duration": 5.809677,
   "end_time": "2025-08-18T20:57:50.803139",
   "environment_variables": {},
   "exception": null,
   "input_path": "__notebook__.ipynb",
   "output_path": "__notebook__.ipynb",
   "parameters": {},
   "start_time": "2025-08-18T20:57:44.993462",
   "version": "2.6.0"
  }
 },
 "nbformat": 4,
 "nbformat_minor": 5
}
