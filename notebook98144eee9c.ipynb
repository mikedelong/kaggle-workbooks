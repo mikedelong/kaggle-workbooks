{
 "cells": [
  {
   "cell_type": "code",
   "execution_count": 1,
   "id": "6aeb4e85",
   "metadata": {
    "execution": {
     "iopub.execute_input": "2023-06-14T14:10:05.421731Z",
     "iopub.status.busy": "2023-06-14T14:10:05.421334Z",
     "iopub.status.idle": "2023-06-14T14:10:05.436052Z",
     "shell.execute_reply": "2023-06-14T14:10:05.434842Z"
    },
    "papermill": {
     "duration": 0.024133,
     "end_time": "2023-06-14T14:10:05.438727",
     "exception": false,
     "start_time": "2023-06-14T14:10:05.414594",
     "status": "completed"
    },
    "tags": []
   },
   "outputs": [],
   "source": [
    "# configure logging\n",
    "from logging import Formatter\n",
    "from logging import getLogger\n",
    "from logging import INFO\n",
    "from logging import StreamHandler\n",
    "\n",
    "logger = getLogger(__name__)\n",
    "logger.handlers.clear()\n",
    "handler = StreamHandler()\n",
    "handler.setLevel(INFO)\n",
    "handler.setFormatter(Formatter('%(name)s - %(asctime)s - %(levelname)s - %(message)s'))\n",
    "logger.addHandler(handler)"
   ]
  },
  {
   "cell_type": "code",
   "execution_count": 2,
   "id": "49ea444c",
   "metadata": {
    "execution": {
     "iopub.execute_input": "2023-06-14T14:10:05.448809Z",
     "iopub.status.busy": "2023-06-14T14:10:05.448423Z",
     "iopub.status.idle": "2023-06-14T14:10:05.474760Z",
     "shell.execute_reply": "2023-06-14T14:10:05.473203Z"
    },
    "papermill": {
     "duration": 0.034373,
     "end_time": "2023-06-14T14:10:05.477239",
     "exception": false,
     "start_time": "2023-06-14T14:10:05.442866",
     "status": "completed"
    },
    "tags": []
   },
   "outputs": [
    {
     "name": "stderr",
     "output_type": "stream",
     "text": [
      "__main__ - 2023-06-14 14:10:05,469 - INFO - ../input/mortality/2015_codes.json\n",
      "__main__ - 2023-06-14 14:10:05,470 - INFO - ../input/mortality/2015_data.csv\n"
     ]
    }
   ],
   "source": [
    "# we want the 2015 data\n",
    "from os import walk\n",
    "from os.path import join\n",
    "top = '../input/' #'/kaggle/input'\n",
    "for dirname, _, filenames in walk(top=top,):\n",
    "    for filename in sorted(filenames):\n",
    "        if '2015' in filename:\n",
    "            logger.info(join(dirname, filename))"
   ]
  },
  {
   "cell_type": "code",
   "execution_count": 3,
   "id": "d2d06118",
   "metadata": {
    "execution": {
     "iopub.execute_input": "2023-06-14T14:10:05.487112Z",
     "iopub.status.busy": "2023-06-14T14:10:05.486446Z",
     "iopub.status.idle": "2023-06-14T14:10:42.958151Z",
     "shell.execute_reply": "2023-06-14T14:10:42.956916Z"
    },
    "papermill": {
     "duration": 37.482393,
     "end_time": "2023-06-14T14:10:42.963608",
     "exception": false,
     "start_time": "2023-06-14T14:10:05.481215",
     "status": "completed"
    },
    "tags": []
   },
   "outputs": [
    {
     "name": "stderr",
     "output_type": "stream",
     "text": [
      "__main__ - 2023-06-14 14:10:05,490 - INFO - reading ../input/mortality/2015_data.csv\n",
      "__main__ - 2023-06-14 14:10:42,952 - INFO - (2718198, 77)\n",
      "__main__ - 2023-06-14 14:10:42,953 - INFO - ['resident_status', 'education_1989_revision', 'education_2003_revision', 'education_reporting_flag', 'month_of_death', 'sex', 'detail_age_type', 'detail_age', 'age_substitution_flag', 'age_recode_52', 'age_recode_27', 'age_recode_12', 'infant_age_recode_22', 'place_of_death_and_decedents_status', 'marital_status', 'day_of_week_of_death', 'current_data_year', 'injury_at_work', 'manner_of_death', 'method_of_disposition', 'autopsy', 'activity_code', 'place_of_injury_for_causes_w00_y34_except_y06_and_y07_', 'icd_code_10th_revision', '358_cause_recode', '113_cause_recode', '130_infant_cause_recode', '39_cause_recode', 'number_of_entity_axis_conditions', 'entity_condition_1', 'entity_condition_2', 'entity_condition_3', 'entity_condition_4', 'entity_condition_5', 'entity_condition_6', 'entity_condition_7', 'entity_condition_8', 'entity_condition_9', 'entity_condition_10', 'entity_condition_11', 'entity_condition_12', 'entity_condition_13', 'entity_condition_14', 'entity_condition_15', 'entity_condition_16', 'entity_condition_17', 'entity_condition_18', 'entity_condition_19', 'entity_condition_20', 'number_of_record_axis_conditions', 'record_condition_1', 'record_condition_2', 'record_condition_3', 'record_condition_4', 'record_condition_5', 'record_condition_6', 'record_condition_7', 'record_condition_8', 'record_condition_9', 'record_condition_10', 'record_condition_11', 'record_condition_12', 'record_condition_13', 'record_condition_14', 'record_condition_15', 'record_condition_16', 'record_condition_17', 'record_condition_18', 'record_condition_19', 'record_condition_20', 'race', 'bridged_race_flag', 'race_imputation_flag', 'race_recode_3', 'race_recode_5', 'hispanic_origin', 'hispanic_originrace_recode']\n"
     ]
    }
   ],
   "source": [
    "# load the data and report the shape and columns\n",
    "from pandas import read_csv\n",
    "from pandas import DataFrame\n",
    "\n",
    "filename = '../input/mortality/2015_data.csv'\n",
    "logger.info(msg='reading {}'.format(filename))\n",
    "df = read_csv(filepath_or_buffer=filename, low_memory=False, )\n",
    "logger.info(msg=df.shape)\n",
    "logger.info(msg=df.columns.tolist())"
   ]
  },
  {
   "cell_type": "code",
   "execution_count": 4,
   "id": "558bd468",
   "metadata": {
    "execution": {
     "iopub.execute_input": "2023-06-14T14:10:42.975279Z",
     "iopub.status.busy": "2023-06-14T14:10:42.974714Z",
     "iopub.status.idle": "2023-06-14T14:10:42.985897Z",
     "shell.execute_reply": "2023-06-14T14:10:42.984002Z"
    },
    "papermill": {
     "duration": 0.020866,
     "end_time": "2023-06-14T14:10:42.989262",
     "exception": false,
     "start_time": "2023-06-14T14:10:42.968396",
     "status": "completed"
    },
    "tags": []
   },
   "outputs": [
    {
     "name": "stderr",
     "output_type": "stream",
     "text": [
      "__main__ - 2023-06-14 14:10:42,977 - INFO - resident_status                 int64\n",
      "education_1989_revision       float64\n",
      "education_2003_revision       float64\n",
      "education_reporting_flag        int64\n",
      "month_of_death                  int64\n",
      "                               ...   \n",
      "race_imputation_flag          float64\n",
      "race_recode_3                   int64\n",
      "race_recode_5                   int64\n",
      "hispanic_origin                 int64\n",
      "hispanic_originrace_recode      int64\n",
      "Length: 77, dtype: object\n",
      "__main__ - 2023-06-14 14:10:42,980 - INFO - <class 'pandas.core.series.Series'>\n"
     ]
    }
   ],
   "source": [
    "# report the types\n",
    "logger.info(msg=df.dtypes)\n",
    "logger.info(msg=type(df.dtypes))"
   ]
  },
  {
   "cell_type": "code",
   "execution_count": 5,
   "id": "5727e85e",
   "metadata": {
    "execution": {
     "iopub.execute_input": "2023-06-14T14:10:42.999632Z",
     "iopub.status.busy": "2023-06-14T14:10:42.999251Z",
     "iopub.status.idle": "2023-06-14T14:10:43.008633Z",
     "shell.execute_reply": "2023-06-14T14:10:43.007645Z"
    },
    "papermill": {
     "duration": 0.017317,
     "end_time": "2023-06-14T14:10:43.010929",
     "exception": false,
     "start_time": "2023-06-14T14:10:42.993612",
     "status": "completed"
    },
    "tags": []
   },
   "outputs": [],
   "source": [
    "# get ready to plot\n",
    "%matplotlib inline\n",
    "from matplotlib.pyplot import style\n",
    "from matplotlib.pyplot import plot\n",
    "\n",
    "# https://matplotlib.org/stable/gallery/style_sheets/style_sheets_reference.html\n",
    "plot_style = 'seaborn-v0_8-white'\n",
    "style.use(plot_style)"
   ]
  },
  {
   "cell_type": "code",
   "execution_count": 6,
   "id": "01091035",
   "metadata": {
    "execution": {
     "iopub.execute_input": "2023-06-14T14:10:43.022242Z",
     "iopub.status.busy": "2023-06-14T14:10:43.021795Z",
     "iopub.status.idle": "2023-06-14T14:10:46.109138Z",
     "shell.execute_reply": "2023-06-14T14:10:46.107929Z"
    },
    "papermill": {
     "duration": 3.096018,
     "end_time": "2023-06-14T14:10:46.111592",
     "exception": false,
     "start_time": "2023-06-14T14:10:43.015574",
     "status": "completed"
    },
    "tags": []
   },
   "outputs": [
    {
     "data": {
      "text/plain": [
       "<Axes: xlabel='month'>"
      ]
     },
     "execution_count": 6,
     "metadata": {},
     "output_type": "execute_result"
    },
    {
     "data": {
      "image/png": "[encoded data removed]",
      "text/plain": [
       "<Figure size 640x480 with 1 Axes>"
      ]
     },
     "metadata": {},
     "output_type": "display_data"
    }
   ],
   "source": [
    "# make a simple plot\n",
    "columns_month = ['month', 'sex']\n",
    "renamer_month = {'month_of_death': 'month'}\n",
    "df.rename(columns=renamer_month).groupby(by=columns_month).size().unstack().plot(kind='bar')"
   ]
  },
  {
   "cell_type": "code",
   "execution_count": 7,
   "id": "58c7ea76",
   "metadata": {
    "execution": {
     "iopub.execute_input": "2023-06-14T14:10:46.123390Z",
     "iopub.status.busy": "2023-06-14T14:10:46.122952Z",
     "iopub.status.idle": "2023-06-14T14:10:51.368869Z",
     "shell.execute_reply": "2023-06-14T14:10:51.367485Z"
    },
    "papermill": {
     "duration": 5.255059,
     "end_time": "2023-06-14T14:10:51.371612",
     "exception": false,
     "start_time": "2023-06-14T14:10:46.116553",
     "status": "completed"
    },
    "tags": []
   },
   "outputs": [
    {
     "data": {
      "text/plain": [
       "<Axes: xlabel='day of week'>"
      ]
     },
     "execution_count": 7,
     "metadata": {},
     "output_type": "execute_result"
    },
    {
     "data": {
      "image/png": "[encoded data removed]",
      "text/plain": [
       "<Figure size 640x480 with 1 Axes>"
      ]
     },
     "metadata": {},
     "output_type": "display_data"
    }
   ],
   "source": [
    "# make a simple plot\n",
    "columns_weekday = ['day of week', 'sex']\n",
    "renamer_weekday = {'day_of_week_of_death': 'day of week'}\n",
    "df[df['day_of_week_of_death'].isin(range(1, 8))].rename(columns=renamer_weekday).groupby(by=columns_weekday).size().unstack().plot(kind='bar')"
   ]
  },
  {
   "cell_type": "code",
   "execution_count": 8,
   "id": "1067dd9b",
   "metadata": {
    "execution": {
     "iopub.execute_input": "2023-06-14T14:10:51.384686Z",
     "iopub.status.busy": "2023-06-14T14:10:51.384290Z",
     "iopub.status.idle": "2023-06-14T14:10:51.390603Z",
     "shell.execute_reply": "2023-06-14T14:10:51.389407Z"
    },
    "papermill": {
     "duration": 0.015965,
     "end_time": "2023-06-14T14:10:51.393284",
     "exception": false,
     "start_time": "2023-06-14T14:10:51.377319",
     "status": "completed"
    },
    "tags": []
   },
   "outputs": [
    {
     "name": "stderr",
     "output_type": "stream",
     "text": [
      "__main__ - 2023-06-14 14:10:51,385 - INFO - done\n"
     ]
    }
   ],
   "source": [
    "# we are done\n",
    "logger.info(msg='done')"
   ]
  }
 ],
 "metadata": {
  "kernelspec": {
   "display_name": "Python 3",
   "language": "python",
   "name": "python3"
  },
  "language_info": {
   "codemirror_mode": {
    "name": "ipython",
    "version": 3
   },
   "file_extension": ".py",
   "mimetype": "text/x-python",
   "name": "python",
   "nbconvert_exporter": "python",
   "pygments_lexer": "ipython3",
   "version": "3.10.10"
  },
  "papermill": {
   "default_parameters": {},
   "duration": 60.654291,
   "end_time": "2023-06-14T14:10:52.824215",
   "environment_variables": {},
   "exception": null,
   "input_path": "__notebook__.ipynb",
   "output_path": "__notebook__.ipynb",
   "parameters": {},
   "start_time": "2023-06-14T14:09:52.169924",
   "version": "2.4.0"
  }
 },
 "nbformat": 4,
 "nbformat_minor": 5
}
