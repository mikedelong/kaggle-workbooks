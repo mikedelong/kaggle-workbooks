{
 "cells": [
  {
   "cell_type": "code",
   "execution_count": 1,
   "id": "e2dc4cba",
   "metadata": {
    "execution": {
     "iopub.execute_input": "2023-06-13T18:34:37.924561Z",
     "iopub.status.busy": "2023-06-13T18:34:37.923726Z",
     "iopub.status.idle": "2023-06-13T18:34:37.936140Z",
     "shell.execute_reply": "2023-06-13T18:34:37.935398Z"
    },
    "papermill": {
     "duration": 0.019392,
     "end_time": "2023-06-13T18:34:37.938372",
     "exception": false,
     "start_time": "2023-06-13T18:34:37.918980",
     "status": "completed"
    },
    "tags": []
   },
   "outputs": [],
   "source": [
    "# configure logging\n",
    "from logging import Formatter\n",
    "from logging import getLogger\n",
    "from logging import INFO\n",
    "from logging import StreamHandler\n",
    "\n",
    "logger = getLogger(__name__)\n",
    "logger.handlers.clear()\n",
    "handler = StreamHandler()\n",
    "handler.setLevel(INFO)\n",
    "handler.setFormatter(Formatter('%(name)s - %(asctime)s - %(levelname)s - %(message)s'))\n",
    "logger.addHandler(handler)"
   ]
  },
  {
   "cell_type": "code",
   "execution_count": 2,
   "id": "3d2aa08f",
   "metadata": {
    "execution": {
     "iopub.execute_input": "2023-06-13T18:34:37.945568Z",
     "iopub.status.busy": "2023-06-13T18:34:37.945014Z",
     "iopub.status.idle": "2023-06-13T18:34:37.959742Z",
     "shell.execute_reply": "2023-06-13T18:34:37.958725Z"
    },
    "papermill": {
     "duration": 0.020836,
     "end_time": "2023-06-13T18:34:37.961978",
     "exception": false,
     "start_time": "2023-06-13T18:34:37.941142",
     "status": "completed"
    },
    "tags": []
   },
   "outputs": [
    {
     "name": "stderr",
     "output_type": "stream",
     "text": [
      "__main__ - 2023-06-13 18:34:37,954 - INFO - ../input/mortality/2015_codes.json\n",
      "__main__ - 2023-06-13 18:34:37,956 - INFO - ../input/mortality/2015_data.csv\n"
     ]
    }
   ],
   "source": [
    "# we want the 2015 data\n",
    "from os import walk\n",
    "from os.path import join\n",
    "top = '../input/' #'/kaggle/input'\n",
    "for dirname, _, filenames in walk(top=top,):\n",
    "    for filename in sorted(filenames):\n",
    "        if '2015' in filename:\n",
    "            logger.info(join(dirname, filename))"
   ]
  },
  {
   "cell_type": "code",
   "execution_count": 3,
   "id": "1198f1f6",
   "metadata": {
    "execution": {
     "iopub.execute_input": "2023-06-13T18:34:37.969081Z",
     "iopub.status.busy": "2023-06-13T18:34:37.968755Z",
     "iopub.status.idle": "2023-06-13T18:35:08.518641Z",
     "shell.execute_reply": "2023-06-13T18:35:08.517552Z"
    },
    "papermill": {
     "duration": 30.556071,
     "end_time": "2023-06-13T18:35:08.520700",
     "exception": false,
     "start_time": "2023-06-13T18:34:37.964629",
     "status": "completed"
    },
    "tags": []
   },
   "outputs": [
    {
     "name": "stderr",
     "output_type": "stream",
     "text": [
      "__main__ - 2023-06-13 18:34:37,971 - INFO - reading ../input/mortality/2015_data.csv\n",
      "__main__ - 2023-06-13 18:35:08,510 - INFO - (2718198, 77)\n",
      "__main__ - 2023-06-13 18:35:08,511 - INFO - ['resident_status', 'education_1989_revision', 'education_2003_revision', 'education_reporting_flag', 'month_of_death', 'sex', 'detail_age_type', 'detail_age', 'age_substitution_flag', 'age_recode_52', 'age_recode_27', 'age_recode_12', 'infant_age_recode_22', 'place_of_death_and_decedents_status', 'marital_status', 'day_of_week_of_death', 'current_data_year', 'injury_at_work', 'manner_of_death', 'method_of_disposition', 'autopsy', 'activity_code', 'place_of_injury_for_causes_w00_y34_except_y06_and_y07_', 'icd_code_10th_revision', '358_cause_recode', '113_cause_recode', '130_infant_cause_recode', '39_cause_recode', 'number_of_entity_axis_conditions', 'entity_condition_1', 'entity_condition_2', 'entity_condition_3', 'entity_condition_4', 'entity_condition_5', 'entity_condition_6', 'entity_condition_7', 'entity_condition_8', 'entity_condition_9', 'entity_condition_10', 'entity_condition_11', 'entity_condition_12', 'entity_condition_13', 'entity_condition_14', 'entity_condition_15', 'entity_condition_16', 'entity_condition_17', 'entity_condition_18', 'entity_condition_19', 'entity_condition_20', 'number_of_record_axis_conditions', 'record_condition_1', 'record_condition_2', 'record_condition_3', 'record_condition_4', 'record_condition_5', 'record_condition_6', 'record_condition_7', 'record_condition_8', 'record_condition_9', 'record_condition_10', 'record_condition_11', 'record_condition_12', 'record_condition_13', 'record_condition_14', 'record_condition_15', 'record_condition_16', 'record_condition_17', 'record_condition_18', 'record_condition_19', 'record_condition_20', 'race', 'bridged_race_flag', 'race_imputation_flag', 'race_recode_3', 'race_recode_5', 'hispanic_origin', 'hispanic_originrace_recode']\n"
     ]
    }
   ],
   "source": [
    "# load the data and report the shape and columns\n",
    "from pandas import read_csv\n",
    "from pandas import DataFrame\n",
    "\n",
    "filename = '../input/mortality/2015_data.csv'\n",
    "logger.info(msg='reading {}'.format(filename))\n",
    "df = read_csv(filepath_or_buffer=filename, low_memory=False, )\n",
    "logger.info(msg=df.shape)\n",
    "logger.info(msg=df.columns.tolist())"
   ]
  },
  {
   "cell_type": "code",
   "execution_count": 4,
   "id": "567ebd27",
   "metadata": {
    "execution": {
     "iopub.execute_input": "2023-06-13T18:35:08.528164Z",
     "iopub.status.busy": "2023-06-13T18:35:08.527280Z",
     "iopub.status.idle": "2023-06-13T18:35:08.536771Z",
     "shell.execute_reply": "2023-06-13T18:35:08.535577Z"
    },
    "papermill": {
     "duration": 0.015191,
     "end_time": "2023-06-13T18:35:08.538731",
     "exception": false,
     "start_time": "2023-06-13T18:35:08.523540",
     "status": "completed"
    },
    "tags": []
   },
   "outputs": [
    {
     "name": "stderr",
     "output_type": "stream",
     "text": [
      "__main__ - 2023-06-13 18:35:08,529 - INFO - resident_status                 int64\n",
      "education_1989_revision       float64\n",
      "education_2003_revision       float64\n",
      "education_reporting_flag        int64\n",
      "month_of_death                  int64\n",
      "                               ...   \n",
      "race_imputation_flag          float64\n",
      "race_recode_3                   int64\n",
      "race_recode_5                   int64\n",
      "hispanic_origin                 int64\n",
      "hispanic_originrace_recode      int64\n",
      "Length: 77, dtype: object\n",
      "__main__ - 2023-06-13 18:35:08,532 - INFO - <class 'pandas.core.series.Series'>\n"
     ]
    }
   ],
   "source": [
    "# report the types\n",
    "logger.info(msg=df.dtypes)\n",
    "logger.info(msg=type(df.dtypes))"
   ]
  },
  {
   "cell_type": "code",
   "execution_count": 5,
   "id": "1a6236ce",
   "metadata": {
    "execution": {
     "iopub.execute_input": "2023-06-13T18:35:08.546234Z",
     "iopub.status.busy": "2023-06-13T18:35:08.545879Z",
     "iopub.status.idle": "2023-06-13T18:35:08.552589Z",
     "shell.execute_reply": "2023-06-13T18:35:08.551560Z"
    },
    "papermill": {
     "duration": 0.012843,
     "end_time": "2023-06-13T18:35:08.554632",
     "exception": false,
     "start_time": "2023-06-13T18:35:08.541789",
     "status": "completed"
    },
    "tags": []
   },
   "outputs": [],
   "source": [
    "# get ready to plot\n",
    "%matplotlib inline\n",
    "from matplotlib.pyplot import style\n",
    "from matplotlib.pyplot import plot\n",
    "\n",
    "# https://matplotlib.org/stable/gallery/style_sheets/style_sheets_reference.html\n",
    "plot_style = 'seaborn-v0_8-white'\n",
    "style.use(plot_style)"
   ]
  },
  {
   "cell_type": "code",
   "execution_count": 6,
   "id": "d06e8956",
   "metadata": {
    "execution": {
     "iopub.execute_input": "2023-06-13T18:35:08.562026Z",
     "iopub.status.busy": "2023-06-13T18:35:08.561631Z",
     "iopub.status.idle": "2023-06-13T18:35:11.415077Z",
     "shell.execute_reply": "2023-06-13T18:35:11.413983Z"
    },
    "papermill": {
     "duration": 2.859773,
     "end_time": "2023-06-13T18:35:11.417443",
     "exception": false,
     "start_time": "2023-06-13T18:35:08.557670",
     "status": "completed"
    },
    "tags": []
   },
   "outputs": [
    {
     "data": {
      "text/plain": [
       "<Axes: xlabel='month of death'>"
      ]
     },
     "execution_count": 6,
     "metadata": {},
     "output_type": "execute_result"
    },
    {
     "data": {
      "image/png": "[encoded data removed]",
      "text/plain": [
       "<Figure size 640x480 with 1 Axes>"
      ]
     },
     "metadata": {},
     "output_type": "display_data"
    }
   ],
   "source": [
    "# make a simple plot\n",
    "columns = ['month of death', 'sex']\n",
    "renamer = {'month_of_death': 'month of death'}\n",
    "df.rename(columns=renamer).groupby(by=columns).size().unstack().plot(kind='bar')"
   ]
  },
  {
   "cell_type": "code",
   "execution_count": 7,
   "id": "f95a101a",
   "metadata": {
    "execution": {
     "iopub.execute_input": "2023-06-13T18:35:11.425873Z",
     "iopub.status.busy": "2023-06-13T18:35:11.425488Z",
     "iopub.status.idle": "2023-06-13T18:35:11.431570Z",
     "shell.execute_reply": "2023-06-13T18:35:11.430486Z"
    },
    "papermill": {
     "duration": 0.01286,
     "end_time": "2023-06-13T18:35:11.433790",
     "exception": false,
     "start_time": "2023-06-13T18:35:11.420930",
     "status": "completed"
    },
    "tags": []
   },
   "outputs": [
    {
     "name": "stderr",
     "output_type": "stream",
     "text": [
      "__main__ - 2023-06-13 18:35:11,426 - INFO - done\n"
     ]
    }
   ],
   "source": [
    "# we are done\n",
    "logger.info(msg='done')"
   ]
  }
 ],
 "metadata": {
  "kernelspec": {
   "display_name": "Python 3",
   "language": "python",
   "name": "python3"
  },
  "language_info": {
   "codemirror_mode": {
    "name": "ipython",
    "version": 3
   },
   "file_extension": ".py",
   "mimetype": "text/x-python",
   "name": "python",
   "nbconvert_exporter": "python",
   "pygments_lexer": "ipython3",
   "version": "3.10.10"
  },
  "papermill": {
   "default_parameters": {},
   "duration": 44.534647,
   "end_time": "2023-06-13T18:35:12.663888",
   "environment_variables": {},
   "exception": null,
   "input_path": "__notebook__.ipynb",
   "output_path": "__notebook__.ipynb",
   "parameters": {},
   "start_time": "2023-06-13T18:34:28.129241",
   "version": "2.4.0"
  }
 },
 "nbformat": 4,
 "nbformat_minor": 5
}
