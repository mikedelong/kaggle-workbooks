{
 "cells": [
  {
   "cell_type": "code",
   "execution_count": 1,
   "id": "99d9f7f6",
   "metadata": {
    "execution": {
     "iopub.execute_input": "2023-06-14T15:15:12.806913Z",
     "iopub.status.busy": "2023-06-14T15:15:12.806356Z",
     "iopub.status.idle": "2023-06-14T15:15:12.824401Z",
     "shell.execute_reply": "2023-06-14T15:15:12.823193Z"
    },
    "papermill": {
     "duration": 0.028669,
     "end_time": "2023-06-14T15:15:12.827371",
     "exception": false,
     "start_time": "2023-06-14T15:15:12.798702",
     "status": "completed"
    },
    "tags": []
   },
   "outputs": [],
   "source": [
    "# configure logging\n",
    "from logging import Formatter\n",
    "from logging import getLogger\n",
    "from logging import INFO\n",
    "from logging import StreamHandler\n",
    "\n",
    "logger = getLogger(__name__)\n",
    "logger.handlers.clear()\n",
    "handler = StreamHandler()\n",
    "handler.setLevel(INFO)\n",
    "handler.setFormatter(Formatter('%(name)s - %(asctime)s - %(levelname)s - %(message)s'))\n",
    "logger.addHandler(handler)"
   ]
  },
  {
   "cell_type": "code",
   "execution_count": 2,
   "id": "b1d5b48b",
   "metadata": {
    "execution": {
     "iopub.execute_input": "2023-06-14T15:15:12.839576Z",
     "iopub.status.busy": "2023-06-14T15:15:12.839151Z",
     "iopub.status.idle": "2023-06-14T15:15:12.861543Z",
     "shell.execute_reply": "2023-06-14T15:15:12.860308Z"
    },
    "papermill": {
     "duration": 0.031737,
     "end_time": "2023-06-14T15:15:12.864417",
     "exception": false,
     "start_time": "2023-06-14T15:15:12.832680",
     "status": "completed"
    },
    "tags": []
   },
   "outputs": [
    {
     "name": "stderr",
     "output_type": "stream",
     "text": [
      "__main__ - 2023-06-14 15:15:12,855 - INFO - ../input/mortality/2015_codes.json\n",
      "__main__ - 2023-06-14 15:15:12,857 - INFO - ../input/mortality/2015_data.csv\n"
     ]
    }
   ],
   "source": [
    "# we want the 2015 data\n",
    "from os import walk\n",
    "from os.path import join\n",
    "top = '../input/' #'/kaggle/input'\n",
    "for dirname, _, filenames in walk(top=top,):\n",
    "    for filename in sorted(filenames):\n",
    "        if '2015' in filename:\n",
    "            logger.info(join(dirname, filename))"
   ]
  },
  {
   "cell_type": "code",
   "execution_count": 3,
   "id": "985f04b3",
   "metadata": {
    "execution": {
     "iopub.execute_input": "2023-06-14T15:15:12.876902Z",
     "iopub.status.busy": "2023-06-14T15:15:12.876466Z",
     "iopub.status.idle": "2023-06-14T15:15:48.699188Z",
     "shell.execute_reply": "2023-06-14T15:15:48.698043Z"
    },
    "papermill": {
     "duration": 35.836816,
     "end_time": "2023-06-14T15:15:48.706425",
     "exception": false,
     "start_time": "2023-06-14T15:15:12.869609",
     "status": "completed"
    },
    "tags": []
   },
   "outputs": [
    {
     "name": "stderr",
     "output_type": "stream",
     "text": [
      "__main__ - 2023-06-14 15:15:12,879 - INFO - reading ../input/mortality/2015_data.csv\n",
      "__main__ - 2023-06-14 15:15:48,692 - INFO - (2718198, 77)\n",
      "__main__ - 2023-06-14 15:15:48,694 - INFO - ['resident_status', 'education_1989_revision', 'education_2003_revision', 'education_reporting_flag', 'month_of_death', 'sex', 'detail_age_type', 'detail_age', 'age_substitution_flag', 'age_recode_52', 'age_recode_27', 'age_recode_12', 'infant_age_recode_22', 'place_of_death_and_decedents_status', 'marital_status', 'day_of_week_of_death', 'current_data_year', 'injury_at_work', 'manner_of_death', 'method_of_disposition', 'autopsy', 'activity_code', 'place_of_injury_for_causes_w00_y34_except_y06_and_y07_', 'icd_code_10th_revision', '358_cause_recode', '113_cause_recode', '130_infant_cause_recode', '39_cause_recode', 'number_of_entity_axis_conditions', 'entity_condition_1', 'entity_condition_2', 'entity_condition_3', 'entity_condition_4', 'entity_condition_5', 'entity_condition_6', 'entity_condition_7', 'entity_condition_8', 'entity_condition_9', 'entity_condition_10', 'entity_condition_11', 'entity_condition_12', 'entity_condition_13', 'entity_condition_14', 'entity_condition_15', 'entity_condition_16', 'entity_condition_17', 'entity_condition_18', 'entity_condition_19', 'entity_condition_20', 'number_of_record_axis_conditions', 'record_condition_1', 'record_condition_2', 'record_condition_3', 'record_condition_4', 'record_condition_5', 'record_condition_6', 'record_condition_7', 'record_condition_8', 'record_condition_9', 'record_condition_10', 'record_condition_11', 'record_condition_12', 'record_condition_13', 'record_condition_14', 'record_condition_15', 'record_condition_16', 'record_condition_17', 'record_condition_18', 'record_condition_19', 'record_condition_20', 'race', 'bridged_race_flag', 'race_imputation_flag', 'race_recode_3', 'race_recode_5', 'hispanic_origin', 'hispanic_originrace_recode']\n"
     ]
    }
   ],
   "source": [
    "# load the data and report the shape and columns\n",
    "from pandas import read_csv\n",
    "from pandas import DataFrame\n",
    "\n",
    "filename = '../input/mortality/2015_data.csv'\n",
    "logger.info(msg='reading {}'.format(filename))\n",
    "df = read_csv(filepath_or_buffer=filename, low_memory=False, )\n",
    "logger.info(msg=df.shape)\n",
    "logger.info(msg=df.columns.tolist())"
   ]
  },
  {
   "cell_type": "code",
   "execution_count": 4,
   "id": "4ecc7a5a",
   "metadata": {
    "execution": {
     "iopub.execute_input": "2023-06-14T15:15:48.720065Z",
     "iopub.status.busy": "2023-06-14T15:15:48.718927Z",
     "iopub.status.idle": "2023-06-14T15:15:48.729582Z",
     "shell.execute_reply": "2023-06-14T15:15:48.728405Z"
    },
    "papermill": {
     "duration": 0.02051,
     "end_time": "2023-06-14T15:15:48.732511",
     "exception": false,
     "start_time": "2023-06-14T15:15:48.712001",
     "status": "completed"
    },
    "tags": []
   },
   "outputs": [
    {
     "name": "stderr",
     "output_type": "stream",
     "text": [
      "__main__ - 2023-06-14 15:15:48,722 - INFO - resident_status                 int64\n",
      "education_1989_revision       float64\n",
      "education_2003_revision       float64\n",
      "education_reporting_flag        int64\n",
      "month_of_death                  int64\n",
      "                               ...   \n",
      "race_imputation_flag          float64\n",
      "race_recode_3                   int64\n",
      "race_recode_5                   int64\n",
      "hispanic_origin                 int64\n",
      "hispanic_originrace_recode      int64\n",
      "Length: 77, dtype: object\n",
      "__main__ - 2023-06-14 15:15:48,725 - INFO - <class 'pandas.core.series.Series'>\n"
     ]
    }
   ],
   "source": [
    "# report the types\n",
    "logger.info(msg=df.dtypes)\n",
    "logger.info(msg=type(df.dtypes))"
   ]
  },
  {
   "cell_type": "code",
   "execution_count": 5,
   "id": "355a2479",
   "metadata": {
    "execution": {
     "iopub.execute_input": "2023-06-14T15:15:48.746370Z",
     "iopub.status.busy": "2023-06-14T15:15:48.745477Z",
     "iopub.status.idle": "2023-06-14T15:15:48.753497Z",
     "shell.execute_reply": "2023-06-14T15:15:48.752414Z"
    },
    "papermill": {
     "duration": 0.01753,
     "end_time": "2023-06-14T15:15:48.755877",
     "exception": false,
     "start_time": "2023-06-14T15:15:48.738347",
     "status": "completed"
    },
    "tags": []
   },
   "outputs": [],
   "source": [
    "# get ready to plot\n",
    "%matplotlib inline\n",
    "from matplotlib.pyplot import style\n",
    "from matplotlib.pyplot import plot\n",
    "\n",
    "# https://matplotlib.org/stable/gallery/style_sheets/style_sheets_reference.html\n",
    "plot_style = 'seaborn-v0_8-white'\n",
    "style.use(plot_style)"
   ]
  },
  {
   "cell_type": "code",
   "execution_count": 6,
   "id": "9aefa0e6",
   "metadata": {
    "execution": {
     "iopub.execute_input": "2023-06-14T15:15:48.769597Z",
     "iopub.status.busy": "2023-06-14T15:15:48.768616Z",
     "iopub.status.idle": "2023-06-14T15:15:48.783530Z",
     "shell.execute_reply": "2023-06-14T15:15:48.782391Z"
    },
    "papermill": {
     "duration": 0.025287,
     "end_time": "2023-06-14T15:15:48.786705",
     "exception": false,
     "start_time": "2023-06-14T15:15:48.761418",
     "status": "completed"
    },
    "tags": []
   },
   "outputs": [],
   "source": [
    "from json import load\n",
    "with open(file='../input/mortality/2015_codes.json', mode='r', ) as json_fp:\n",
    "    codes = load(fp=json_fp, )"
   ]
  },
  {
   "cell_type": "code",
   "execution_count": 7,
   "id": "0d6ee656",
   "metadata": {
    "execution": {
     "iopub.execute_input": "2023-06-14T15:15:48.800893Z",
     "iopub.status.busy": "2023-06-14T15:15:48.800462Z",
     "iopub.status.idle": "2023-06-14T15:15:52.763252Z",
     "shell.execute_reply": "2023-06-14T15:15:52.762063Z"
    },
    "papermill": {
     "duration": 3.973665,
     "end_time": "2023-06-14T15:15:52.766260",
     "exception": false,
     "start_time": "2023-06-14T15:15:48.792595",
     "status": "completed"
    },
    "tags": []
   },
   "outputs": [
    {
     "data": {
      "text/plain": [
       "<Axes: xlabel='month'>"
      ]
     },
     "execution_count": 7,
     "metadata": {},
     "output_type": "execute_result"
    },
    {
     "data": {
      "image/png": "[encoded data removed]",
      "text/plain": [
       "<Figure size 640x480 with 1 Axes>"
      ]
     },
     "metadata": {},
     "output_type": "display_data"
    }
   ],
   "source": [
    "# plot the month of death and sex\n",
    "columns_month = ['month', 'sex']\n",
    "plot_df = df.rename(columns={'month_of_death': 'month'})[columns_month]\n",
    "to_replace = {int(key): value for key, value in codes['month_of_death'].items()}\n",
    "plot_df['month'] = plot_df['month'].replace(to_replace=to_replace)\n",
    "plot_df = plot_df.groupby(by=columns_month).size().unstack().reindex(list(to_replace.values()))\n",
    "plot_df.plot(kind='bar')"
   ]
  },
  {
   "cell_type": "code",
   "execution_count": 8,
   "id": "2c578416",
   "metadata": {
    "execution": {
     "iopub.execute_input": "2023-06-14T15:15:52.781318Z",
     "iopub.status.busy": "2023-06-14T15:15:52.780849Z",
     "iopub.status.idle": "2023-06-14T15:15:58.028580Z",
     "shell.execute_reply": "2023-06-14T15:15:58.027002Z"
    },
    "papermill": {
     "duration": 5.259135,
     "end_time": "2023-06-14T15:15:58.031808",
     "exception": false,
     "start_time": "2023-06-14T15:15:52.772673",
     "status": "completed"
    },
    "tags": []
   },
   "outputs": [
    {
     "data": {
      "text/plain": [
       "<Axes: xlabel='day of week'>"
      ]
     },
     "execution_count": 8,
     "metadata": {},
     "output_type": "execute_result"
    },
    {
     "data": {
      "image/png": "[encoded data removed]",
      "text/plain": [
       "<Figure size 640x480 with 1 Axes>"
      ]
     },
     "metadata": {},
     "output_type": "display_data"
    }
   ],
   "source": [
    "# plot the day of week of death and sex\n",
    "columns_weekday = ['day of week', 'sex']\n",
    "renamer_weekday = {'day_of_week_of_death': 'day of week'}\n",
    "df[df['day_of_week_of_death'].isin(range(1, 8))].rename(columns=renamer_weekday).groupby(by=columns_weekday).size().unstack().plot(kind='bar')"
   ]
  },
  {
   "cell_type": "code",
   "execution_count": 9,
   "id": "a702856e",
   "metadata": {
    "execution": {
     "iopub.execute_input": "2023-06-14T15:15:58.052210Z",
     "iopub.status.busy": "2023-06-14T15:15:58.051737Z",
     "iopub.status.idle": "2023-06-14T15:15:58.879609Z",
     "shell.execute_reply": "2023-06-14T15:15:58.878240Z"
    },
    "papermill": {
     "duration": 0.842713,
     "end_time": "2023-06-14T15:15:58.882869",
     "exception": false,
     "start_time": "2023-06-14T15:15:58.040156",
     "status": "completed"
    },
    "tags": []
   },
   "outputs": [
    {
     "data": {
      "text/plain": [
       "<Axes: xlabel='race'>"
      ]
     },
     "execution_count": 9,
     "metadata": {},
     "output_type": "execute_result"
    },
    {
     "data": {
      "image/png": "[encoded data removed]",
      "text/plain": [
       "<Figure size 640x480 with 1 Axes>"
      ]
     },
     "metadata": {},
     "output_type": "display_data"
    }
   ],
   "source": [
    "columns_race = ['race', 'sex']\n",
    "df.groupby(by=columns_race).size().unstack().plot(kind='bar',)"
   ]
  },
  {
   "cell_type": "code",
   "execution_count": 10,
   "id": "47d3c3ae",
   "metadata": {
    "execution": {
     "iopub.execute_input": "2023-06-14T15:15:58.900714Z",
     "iopub.status.busy": "2023-06-14T15:15:58.899854Z",
     "iopub.status.idle": "2023-06-14T15:15:58.942212Z",
     "shell.execute_reply": "2023-06-14T15:15:58.940700Z"
    },
    "papermill": {
     "duration": 0.062201,
     "end_time": "2023-06-14T15:15:58.952718",
     "exception": false,
     "start_time": "2023-06-14T15:15:58.890517",
     "status": "completed"
    },
    "tags": []
   },
   "outputs": [
    {
     "name": "stderr",
     "output_type": "stream",
     "text": [
      "__main__ - 2023-06-14 15:15:58,902 - INFO - resident_status\n",
      "__main__ - 2023-06-14 15:15:58,903 - INFO - education_1989_revision\n",
      "__main__ - 2023-06-14 15:15:58,904 - INFO - education_2003_revision\n",
      "__main__ - 2023-06-14 15:15:58,905 - INFO - education_reporting_flag\n",
      "__main__ - 2023-06-14 15:15:58,906 - INFO - month_of_death\n",
      "__main__ - 2023-06-14 15:15:58,907 - INFO - sex\n",
      "__main__ - 2023-06-14 15:15:58,908 - INFO - age_substitution_flag\n",
      "__main__ - 2023-06-14 15:15:58,909 - INFO - age_recode_52\n",
      "__main__ - 2023-06-14 15:15:58,910 - INFO - age_recode_27\n",
      "__main__ - 2023-06-14 15:15:58,911 - INFO - age_recode_12\n",
      "__main__ - 2023-06-14 15:15:58,912 - INFO - infant_age_recode_22\n",
      "__main__ - 2023-06-14 15:15:58,914 - INFO - place_of_death_and_decedents_status\n",
      "__main__ - 2023-06-14 15:15:58,915 - INFO - marital_status\n",
      "__main__ - 2023-06-14 15:15:58,916 - INFO - day_of_week_of_death\n",
      "__main__ - 2023-06-14 15:15:58,917 - INFO - current_data_year\n",
      "__main__ - 2023-06-14 15:15:58,918 - INFO - injury_at_work\n",
      "__main__ - 2023-06-14 15:15:58,918 - INFO - manner_of_death\n",
      "__main__ - 2023-06-14 15:15:58,920 - INFO - method_of_disposition\n",
      "__main__ - 2023-06-14 15:15:58,921 - INFO - autopsy\n",
      "__main__ - 2023-06-14 15:15:58,922 - INFO - activity_code\n",
      "__main__ - 2023-06-14 15:15:58,923 - INFO - place_of_injury_for_causes_w00_y34_except_y06_and_y07_\n",
      "__main__ - 2023-06-14 15:15:58,924 - INFO - icd_code_10th_revision\n",
      "__main__ - 2023-06-14 15:15:58,925 - INFO - 358_cause_recode\n",
      "__main__ - 2023-06-14 15:15:58,926 - INFO - 113_cause_recode\n",
      "__main__ - 2023-06-14 15:15:58,926 - INFO - 130_infant_cause_recode\n",
      "__main__ - 2023-06-14 15:15:58,927 - INFO - 39_cause_recode\n",
      "__main__ - 2023-06-14 15:15:58,928 - INFO - race\n",
      "__main__ - 2023-06-14 15:15:58,929 - INFO - bridged_race_flag\n",
      "__main__ - 2023-06-14 15:15:58,930 - INFO - race_imputation_flag\n",
      "__main__ - 2023-06-14 15:15:58,931 - INFO - race_recode_3\n",
      "__main__ - 2023-06-14 15:15:58,932 - INFO - race_recode_5\n",
      "__main__ - 2023-06-14 15:15:58,934 - INFO - hispanic_origin\n",
      "__main__ - 2023-06-14 15:15:58,935 - INFO - hispanic_originrace_recode\n",
      "__main__ - 2023-06-14 15:15:58,936 - INFO - detail_age_type\n"
     ]
    }
   ],
   "source": [
    "for key in list(codes.keys()):\n",
    "    logger.info(msg=key)"
   ]
  },
  {
   "cell_type": "code",
   "execution_count": 11,
   "id": "ccfa8cd9",
   "metadata": {
    "execution": {
     "iopub.execute_input": "2023-06-14T15:15:58.976878Z",
     "iopub.status.busy": "2023-06-14T15:15:58.976398Z",
     "iopub.status.idle": "2023-06-14T15:15:58.984087Z",
     "shell.execute_reply": "2023-06-14T15:15:58.982584Z"
    },
    "papermill": {
     "duration": 0.022683,
     "end_time": "2023-06-14T15:15:58.986850",
     "exception": false,
     "start_time": "2023-06-14T15:15:58.964167",
     "status": "completed"
    },
    "tags": []
   },
   "outputs": [
    {
     "name": "stderr",
     "output_type": "stream",
     "text": [
      "__main__ - 2023-06-14 15:15:58,978 - INFO - {'01': 'January', '02': 'February', '03': 'March', '04': 'April', '05': 'May', '06': 'June', '07': 'July', '08': 'August', '09': 'September', '10': 'October', '11': 'November', '12': 'December'}\n"
     ]
    }
   ],
   "source": [
    "logger.info(msg=codes['month_of_death'])"
   ]
  },
  {
   "cell_type": "code",
   "execution_count": 12,
   "id": "1c1b8937",
   "metadata": {
    "execution": {
     "iopub.execute_input": "2023-06-14T15:15:59.017787Z",
     "iopub.status.busy": "2023-06-14T15:15:59.017282Z",
     "iopub.status.idle": "2023-06-14T15:15:59.024594Z",
     "shell.execute_reply": "2023-06-14T15:15:59.023209Z"
    },
    "papermill": {
     "duration": 0.030422,
     "end_time": "2023-06-14T15:15:59.028006",
     "exception": false,
     "start_time": "2023-06-14T15:15:58.997584",
     "status": "completed"
    },
    "tags": []
   },
   "outputs": [
    {
     "name": "stderr",
     "output_type": "stream",
     "text": [
      "__main__ - 2023-06-14 15:15:59,019 - INFO - done\n"
     ]
    }
   ],
   "source": [
    "# we are done\n",
    "logger.info(msg='done')"
   ]
  }
 ],
 "metadata": {
  "kernelspec": {
   "display_name": "Python 3",
   "language": "python",
   "name": "python3"
  },
  "language_info": {
   "codemirror_mode": {
    "name": "ipython",
    "version": 3
   },
   "file_extension": ".py",
   "mimetype": "text/x-python",
   "name": "python",
   "nbconvert_exporter": "python",
   "pygments_lexer": "ipython3",
   "version": "3.10.10"
  },
  "papermill": {
   "default_parameters": {},
   "duration": 60.546678,
   "end_time": "2023-06-14T15:16:00.466273",
   "environment_variables": {},
   "exception": null,
   "input_path": "__notebook__.ipynb",
   "output_path": "__notebook__.ipynb",
   "parameters": {},
   "start_time": "2023-06-14T15:14:59.919595",
   "version": "2.4.0"
  }
 },
 "nbformat": 4,
 "nbformat_minor": 5
}
