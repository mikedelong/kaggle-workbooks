{
 "cells": [
  {
   "cell_type": "code",
   "execution_count": 1,
   "id": "f09891c5",
   "metadata": {
    "execution": {
     "iopub.execute_input": "2023-06-14T16:52:32.422642Z",
     "iopub.status.busy": "2023-06-14T16:52:32.422198Z",
     "iopub.status.idle": "2023-06-14T16:52:32.437786Z",
     "shell.execute_reply": "2023-06-14T16:52:32.436585Z"
    },
    "papermill": {
     "duration": 0.02484,
     "end_time": "2023-06-14T16:52:32.440237",
     "exception": false,
     "start_time": "2023-06-14T16:52:32.415397",
     "status": "completed"
    },
    "tags": []
   },
   "outputs": [],
   "source": [
    "# configure logging\n",
    "from logging import Formatter\n",
    "from logging import getLogger\n",
    "from logging import INFO\n",
    "from logging import StreamHandler\n",
    "\n",
    "logger = getLogger(__name__)\n",
    "logger.handlers.clear()\n",
    "handler = StreamHandler()\n",
    "handler.setLevel(INFO)\n",
    "handler.setFormatter(Formatter('%(name)s - %(asctime)s - %(levelname)s - %(message)s'))\n",
    "logger.addHandler(handler)"
   ]
  },
  {
   "cell_type": "code",
   "execution_count": 2,
   "id": "afc68080",
   "metadata": {
    "execution": {
     "iopub.execute_input": "2023-06-14T16:52:32.450891Z",
     "iopub.status.busy": "2023-06-14T16:52:32.450470Z",
     "iopub.status.idle": "2023-06-14T16:52:32.469029Z",
     "shell.execute_reply": "2023-06-14T16:52:32.467900Z"
    },
    "papermill": {
     "duration": 0.02643,
     "end_time": "2023-06-14T16:52:32.471318",
     "exception": false,
     "start_time": "2023-06-14T16:52:32.444888",
     "status": "completed"
    },
    "tags": []
   },
   "outputs": [
    {
     "name": "stderr",
     "output_type": "stream",
     "text": [
      "__main__ - 2023-06-14 16:52:32,463 - INFO - ../input/mortality/2015_codes.json\n",
      "__main__ - 2023-06-14 16:52:32,464 - INFO - ../input/mortality/2015_data.csv\n"
     ]
    }
   ],
   "source": [
    "# we want the 2015 data\n",
    "from os import walk\n",
    "from os.path import join\n",
    "top = '../input/' #'/kaggle/input'\n",
    "for dirname, _, filenames in walk(top=top,):\n",
    "    for filename in sorted(filenames):\n",
    "        if '2015' in filename:\n",
    "            logger.info(join(dirname, filename))"
   ]
  },
  {
   "cell_type": "code",
   "execution_count": 3,
   "id": "4f8bf678",
   "metadata": {
    "execution": {
     "iopub.execute_input": "2023-06-14T16:52:32.482611Z",
     "iopub.status.busy": "2023-06-14T16:52:32.481940Z",
     "iopub.status.idle": "2023-06-14T16:53:07.654343Z",
     "shell.execute_reply": "2023-06-14T16:53:07.653075Z"
    },
    "papermill": {
     "duration": 35.185853,
     "end_time": "2023-06-14T16:53:07.661761",
     "exception": false,
     "start_time": "2023-06-14T16:52:32.475908",
     "status": "completed"
    },
    "tags": []
   },
   "outputs": [
    {
     "name": "stderr",
     "output_type": "stream",
     "text": [
      "__main__ - 2023-06-14 16:52:32,485 - INFO - reading ../input/mortality/2015_data.csv\n",
      "__main__ - 2023-06-14 16:53:07,648 - INFO - (2718198, 77)\n",
      "__main__ - 2023-06-14 16:53:07,649 - INFO - ['resident_status', 'education_1989_revision', 'education_2003_revision', 'education_reporting_flag', 'month_of_death', 'sex', 'detail_age_type', 'detail_age', 'age_substitution_flag', 'age_recode_52', 'age_recode_27', 'age_recode_12', 'infant_age_recode_22', 'place_of_death_and_decedents_status', 'marital_status', 'day_of_week_of_death', 'current_data_year', 'injury_at_work', 'manner_of_death', 'method_of_disposition', 'autopsy', 'activity_code', 'place_of_injury_for_causes_w00_y34_except_y06_and_y07_', 'icd_code_10th_revision', '358_cause_recode', '113_cause_recode', '130_infant_cause_recode', '39_cause_recode', 'number_of_entity_axis_conditions', 'entity_condition_1', 'entity_condition_2', 'entity_condition_3', 'entity_condition_4', 'entity_condition_5', 'entity_condition_6', 'entity_condition_7', 'entity_condition_8', 'entity_condition_9', 'entity_condition_10', 'entity_condition_11', 'entity_condition_12', 'entity_condition_13', 'entity_condition_14', 'entity_condition_15', 'entity_condition_16', 'entity_condition_17', 'entity_condition_18', 'entity_condition_19', 'entity_condition_20', 'number_of_record_axis_conditions', 'record_condition_1', 'record_condition_2', 'record_condition_3', 'record_condition_4', 'record_condition_5', 'record_condition_6', 'record_condition_7', 'record_condition_8', 'record_condition_9', 'record_condition_10', 'record_condition_11', 'record_condition_12', 'record_condition_13', 'record_condition_14', 'record_condition_15', 'record_condition_16', 'record_condition_17', 'record_condition_18', 'record_condition_19', 'record_condition_20', 'race', 'bridged_race_flag', 'race_imputation_flag', 'race_recode_3', 'race_recode_5', 'hispanic_origin', 'hispanic_originrace_recode']\n"
     ]
    }
   ],
   "source": [
    "# load the data and report the shape and columns\n",
    "from pandas import read_csv\n",
    "from pandas import DataFrame\n",
    "\n",
    "filename = '../input/mortality/2015_data.csv'\n",
    "logger.info(msg='reading {}'.format(filename))\n",
    "df = read_csv(filepath_or_buffer=filename, low_memory=False, )\n",
    "logger.info(msg=df.shape)\n",
    "logger.info(msg=df.columns.tolist())"
   ]
  },
  {
   "cell_type": "code",
   "execution_count": 4,
   "id": "39f7906b",
   "metadata": {
    "execution": {
     "iopub.execute_input": "2023-06-14T16:53:07.674102Z",
     "iopub.status.busy": "2023-06-14T16:53:07.673362Z",
     "iopub.status.idle": "2023-06-14T16:53:07.684772Z",
     "shell.execute_reply": "2023-06-14T16:53:07.683421Z"
    },
    "papermill": {
     "duration": 0.020201,
     "end_time": "2023-06-14T16:53:07.687054",
     "exception": false,
     "start_time": "2023-06-14T16:53:07.666853",
     "status": "completed"
    },
    "tags": []
   },
   "outputs": [
    {
     "name": "stderr",
     "output_type": "stream",
     "text": [
      "__main__ - 2023-06-14 16:53:07,676 - INFO - resident_status                 int64\n",
      "education_1989_revision       float64\n",
      "education_2003_revision       float64\n",
      "education_reporting_flag        int64\n",
      "month_of_death                  int64\n",
      "                               ...   \n",
      "race_imputation_flag          float64\n",
      "race_recode_3                   int64\n",
      "race_recode_5                   int64\n",
      "hispanic_origin                 int64\n",
      "hispanic_originrace_recode      int64\n",
      "Length: 77, dtype: object\n",
      "__main__ - 2023-06-14 16:53:07,679 - INFO - <class 'pandas.core.series.Series'>\n"
     ]
    }
   ],
   "source": [
    "# report the types\n",
    "logger.info(msg=df.dtypes)\n",
    "logger.info(msg=type(df.dtypes))"
   ]
  },
  {
   "cell_type": "code",
   "execution_count": 5,
   "id": "4c0deac9",
   "metadata": {
    "execution": {
     "iopub.execute_input": "2023-06-14T16:53:07.699816Z",
     "iopub.status.busy": "2023-06-14T16:53:07.699055Z",
     "iopub.status.idle": "2023-06-14T16:53:07.708837Z",
     "shell.execute_reply": "2023-06-14T16:53:07.707583Z"
    },
    "papermill": {
     "duration": 0.019069,
     "end_time": "2023-06-14T16:53:07.711439",
     "exception": false,
     "start_time": "2023-06-14T16:53:07.692370",
     "status": "completed"
    },
    "tags": []
   },
   "outputs": [],
   "source": [
    "# get ready to plot\n",
    "%matplotlib inline\n",
    "from matplotlib.pyplot import style\n",
    "from matplotlib.pyplot import plot\n",
    "\n",
    "# https://matplotlib.org/stable/gallery/style_sheets/style_sheets_reference.html\n",
    "plot_style = 'seaborn-v0_8-white'\n",
    "style.use(plot_style)"
   ]
  },
  {
   "cell_type": "code",
   "execution_count": 6,
   "id": "556bd855",
   "metadata": {
    "execution": {
     "iopub.execute_input": "2023-06-14T16:53:07.723949Z",
     "iopub.status.busy": "2023-06-14T16:53:07.723537Z",
     "iopub.status.idle": "2023-06-14T16:53:07.735938Z",
     "shell.execute_reply": "2023-06-14T16:53:07.734305Z"
    },
    "papermill": {
     "duration": 0.022653,
     "end_time": "2023-06-14T16:53:07.739607",
     "exception": false,
     "start_time": "2023-06-14T16:53:07.716954",
     "status": "completed"
    },
    "tags": []
   },
   "outputs": [],
   "source": [
    "from json import load\n",
    "with open(file='../input/mortality/2015_codes.json', mode='r', ) as json_fp:\n",
    "    codes = load(fp=json_fp, )"
   ]
  },
  {
   "cell_type": "code",
   "execution_count": 7,
   "id": "f1015fb1",
   "metadata": {
    "execution": {
     "iopub.execute_input": "2023-06-14T16:53:07.752236Z",
     "iopub.status.busy": "2023-06-14T16:53:07.751359Z",
     "iopub.status.idle": "2023-06-14T16:53:11.709456Z",
     "shell.execute_reply": "2023-06-14T16:53:11.708244Z"
    },
    "papermill": {
     "duration": 3.967269,
     "end_time": "2023-06-14T16:53:11.712111",
     "exception": false,
     "start_time": "2023-06-14T16:53:07.744842",
     "status": "completed"
    },
    "tags": []
   },
   "outputs": [
    {
     "data": {
      "text/plain": [
       "<Axes: xlabel='month'>"
      ]
     },
     "execution_count": 7,
     "metadata": {},
     "output_type": "execute_result"
    },
    {
     "data": {
      "image/png": "[encoded data removed]",
      "text/plain": [
       "<Figure size 640x480 with 1 Axes>"
      ]
     },
     "metadata": {},
     "output_type": "display_data"
    }
   ],
   "source": [
    "# plot the month of death and sex\n",
    "columns_month = ['month', 'sex']\n",
    "plot_month_df = df.rename(columns={'month_of_death': 'month'})[columns_month]\n",
    "to_replace_month = {int(key): value for key, value in codes['month_of_death'].items()}\n",
    "plot_month_df['month'] = plot_month_df['month'].replace(to_replace=to_replace_month)\n",
    "plot_month_df = plot_month_df.groupby(by=columns_month).size().unstack().rename(index=to_replace_month)\n",
    "plot_month_df.plot(kind='bar')"
   ]
  },
  {
   "cell_type": "code",
   "execution_count": 8,
   "id": "b1ae95b4",
   "metadata": {
    "execution": {
     "iopub.execute_input": "2023-06-14T16:53:11.726113Z",
     "iopub.status.busy": "2023-06-14T16:53:11.725657Z",
     "iopub.status.idle": "2023-06-14T16:53:15.031849Z",
     "shell.execute_reply": "2023-06-14T16:53:15.030624Z"
    },
    "papermill": {
     "duration": 3.31651,
     "end_time": "2023-06-14T16:53:15.034551",
     "exception": false,
     "start_time": "2023-06-14T16:53:11.718041",
     "status": "completed"
    },
    "tags": []
   },
   "outputs": [
    {
     "data": {
      "text/plain": [
       "<Axes: xlabel='day of week'>"
      ]
     },
     "execution_count": 8,
     "metadata": {},
     "output_type": "execute_result"
    },
    {
     "data": {
      "image/png": "[encoded data removed]",
      "text/plain": [
       "<Figure size 640x480 with 1 Axes>"
      ]
     },
     "metadata": {},
     "output_type": "display_data"
    }
   ],
   "source": [
    "# plot the day of week of death and sex\n",
    "columns_weekday = ['day of week', 'sex']\n",
    "plot_df = df.rename(columns={'day_of_week_of_death': 'day of week'})[columns_weekday]\n",
    "plot_df = plot_df[plot_df['day of week'].isin(range(1, 8))]\n",
    "to_replace_weekday = {int(key): value for key, value in codes['day_of_week_of_death'].items() if int(key) in range(1, 8)}\n",
    "plot_df = plot_df.groupby(by=columns_weekday).size().unstack().rename(index=to_replace_weekday)\n",
    "plot_df.plot(kind='bar')"
   ]
  },
  {
   "cell_type": "code",
   "execution_count": 9,
   "id": "02de9efb",
   "metadata": {
    "execution": {
     "iopub.execute_input": "2023-06-14T16:53:15.049717Z",
     "iopub.status.busy": "2023-06-14T16:53:15.049258Z",
     "iopub.status.idle": "2023-06-14T16:53:15.861939Z",
     "shell.execute_reply": "2023-06-14T16:53:15.860194Z"
    },
    "papermill": {
     "duration": 0.825253,
     "end_time": "2023-06-14T16:53:15.866302",
     "exception": false,
     "start_time": "2023-06-14T16:53:15.041049",
     "status": "completed"
    },
    "tags": []
   },
   "outputs": [
    {
     "data": {
      "text/plain": [
       "<Axes: xlabel='race'>"
      ]
     },
     "execution_count": 9,
     "metadata": {},
     "output_type": "execute_result"
    },
    {
     "data": {
      "image/png": "[encoded data removed]",
      "text/plain": [
       "<Figure size 640x480 with 1 Axes>"
      ]
     },
     "metadata": {},
     "output_type": "display_data"
    }
   ],
   "source": [
    "columns_race = ['race', 'sex']\n",
    "df.groupby(by=columns_race).size().unstack().plot(kind='bar',)"
   ]
  },
  {
   "cell_type": "code",
   "execution_count": 10,
   "id": "05fd8b4d",
   "metadata": {
    "execution": {
     "iopub.execute_input": "2023-06-14T16:53:15.888539Z",
     "iopub.status.busy": "2023-06-14T16:53:15.887835Z",
     "iopub.status.idle": "2023-06-14T16:53:15.945826Z",
     "shell.execute_reply": "2023-06-14T16:53:15.944357Z"
    },
    "papermill": {
     "duration": 0.073889,
     "end_time": "2023-06-14T16:53:15.950699",
     "exception": false,
     "start_time": "2023-06-14T16:53:15.876810",
     "status": "completed"
    },
    "tags": []
   },
   "outputs": [
    {
     "name": "stderr",
     "output_type": "stream",
     "text": [
      "__main__ - 2023-06-14 16:53:15,890 - INFO - resident_status\n",
      "__main__ - 2023-06-14 16:53:15,891 - INFO - education_1989_revision\n",
      "__main__ - 2023-06-14 16:53:15,892 - INFO - education_2003_revision\n",
      "__main__ - 2023-06-14 16:53:15,894 - INFO - education_reporting_flag\n",
      "__main__ - 2023-06-14 16:53:15,895 - INFO - month_of_death\n",
      "__main__ - 2023-06-14 16:53:15,896 - INFO - sex\n",
      "__main__ - 2023-06-14 16:53:15,897 - INFO - age_substitution_flag\n",
      "__main__ - 2023-06-14 16:53:15,899 - INFO - age_recode_52\n",
      "__main__ - 2023-06-14 16:53:15,900 - INFO - age_recode_27\n",
      "__main__ - 2023-06-14 16:53:15,902 - INFO - age_recode_12\n",
      "__main__ - 2023-06-14 16:53:15,903 - INFO - infant_age_recode_22\n",
      "__main__ - 2023-06-14 16:53:15,905 - INFO - place_of_death_and_decedents_status\n",
      "__main__ - 2023-06-14 16:53:15,906 - INFO - marital_status\n",
      "__main__ - 2023-06-14 16:53:15,907 - INFO - day_of_week_of_death\n",
      "__main__ - 2023-06-14 16:53:15,908 - INFO - current_data_year\n",
      "__main__ - 2023-06-14 16:53:15,909 - INFO - injury_at_work\n",
      "__main__ - 2023-06-14 16:53:15,910 - INFO - manner_of_death\n",
      "__main__ - 2023-06-14 16:53:15,912 - INFO - method_of_disposition\n",
      "__main__ - 2023-06-14 16:53:15,915 - INFO - autopsy\n",
      "__main__ - 2023-06-14 16:53:15,917 - INFO - activity_code\n",
      "__main__ - 2023-06-14 16:53:15,918 - INFO - place_of_injury_for_causes_w00_y34_except_y06_and_y07_\n",
      "__main__ - 2023-06-14 16:53:15,919 - INFO - icd_code_10th_revision\n",
      "__main__ - 2023-06-14 16:53:15,921 - INFO - 358_cause_recode\n",
      "__main__ - 2023-06-14 16:53:15,922 - INFO - 113_cause_recode\n",
      "__main__ - 2023-06-14 16:53:15,923 - INFO - 130_infant_cause_recode\n",
      "__main__ - 2023-06-14 16:53:15,924 - INFO - 39_cause_recode\n",
      "__main__ - 2023-06-14 16:53:15,925 - INFO - race\n",
      "__main__ - 2023-06-14 16:53:15,928 - INFO - bridged_race_flag\n",
      "__main__ - 2023-06-14 16:53:15,933 - INFO - race_imputation_flag\n",
      "__main__ - 2023-06-14 16:53:15,935 - INFO - race_recode_3\n",
      "__main__ - 2023-06-14 16:53:15,936 - INFO - race_recode_5\n",
      "__main__ - 2023-06-14 16:53:15,937 - INFO - hispanic_origin\n",
      "__main__ - 2023-06-14 16:53:15,938 - INFO - hispanic_originrace_recode\n",
      "__main__ - 2023-06-14 16:53:15,939 - INFO - detail_age_type\n"
     ]
    }
   ],
   "source": [
    "for key in list(codes.keys()):\n",
    "    logger.info(msg=key)"
   ]
  },
  {
   "cell_type": "code",
   "execution_count": 11,
   "id": "fec0e098",
   "metadata": {
    "execution": {
     "iopub.execute_input": "2023-06-14T16:53:15.973092Z",
     "iopub.status.busy": "2023-06-14T16:53:15.972679Z",
     "iopub.status.idle": "2023-06-14T16:53:15.980451Z",
     "shell.execute_reply": "2023-06-14T16:53:15.978957Z"
    },
    "papermill": {
     "duration": 0.022169,
     "end_time": "2023-06-14T16:53:15.983255",
     "exception": false,
     "start_time": "2023-06-14T16:53:15.961086",
     "status": "completed"
    },
    "tags": []
   },
   "outputs": [
    {
     "name": "stderr",
     "output_type": "stream",
     "text": [
      "__main__ - 2023-06-14 16:53:15,974 - INFO - done\n"
     ]
    }
   ],
   "source": [
    "# we are done\n",
    "logger.info(msg='done')"
   ]
  }
 ],
 "metadata": {
  "kernelspec": {
   "display_name": "Python 3",
   "language": "python",
   "name": "python3"
  },
  "language_info": {
   "codemirror_mode": {
    "name": "ipython",
    "version": 3
   },
   "file_extension": ".py",
   "mimetype": "text/x-python",
   "name": "python",
   "nbconvert_exporter": "python",
   "pygments_lexer": "ipython3",
   "version": "3.10.10"
  },
  "papermill": {
   "default_parameters": {},
   "duration": 59.532138,
   "end_time": "2023-06-14T16:53:17.419292",
   "environment_variables": {},
   "exception": null,
   "input_path": "__notebook__.ipynb",
   "output_path": "__notebook__.ipynb",
   "parameters": {},
   "start_time": "2023-06-14T16:52:17.887154",
   "version": "2.4.0"
  }
 },
 "nbformat": 4,
 "nbformat_minor": 5
}
