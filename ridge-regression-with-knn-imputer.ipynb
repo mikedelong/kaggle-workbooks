{
 "cells": [
  {
   "cell_type": "code",
   "execution_count": 1,
   "id": "cad7ea53",
   "metadata": {
    "_cell_guid": "b1076dfc-b9ad-4769-8c92-a6c4dae69d19",
    "_uuid": "8f2839f25d086af736a60e9eeb907d3b93b6e0e5",
    "execution": {
     "iopub.execute_input": "2024-05-10T17:48:15.368823Z",
     "iopub.status.busy": "2024-05-10T17:48:15.368093Z",
     "iopub.status.idle": "2024-05-10T17:48:16.162634Z",
     "shell.execute_reply": "2024-05-10T17:48:16.161577Z"
    },
    "papermill": {
     "duration": 0.802048,
     "end_time": "2024-05-10T17:48:16.165024",
     "exception": false,
     "start_time": "2024-05-10T17:48:15.362976",
     "status": "completed"
    },
    "tags": []
   },
   "outputs": [
    {
     "data": {
      "text/html": [
       "<div>\n",
       "<style scoped>\n",
       "    .dataframe tbody tr th:only-of-type {\n",
       "        vertical-align: middle;\n",
       "    }\n",
       "\n",
       "    .dataframe tbody tr th {\n",
       "        vertical-align: top;\n",
       "    }\n",
       "\n",
       "    .dataframe thead th {\n",
       "        text-align: right;\n",
       "    }\n",
       "</style>\n",
       "<table border=\"1\" class=\"dataframe\">\n",
       "  <thead>\n",
       "    <tr style=\"text-align: right;\">\n",
       "      <th></th>\n",
       "      <th>MSSubClass</th>\n",
       "      <th>MSZoning</th>\n",
       "      <th>LotFrontage</th>\n",
       "      <th>LotArea</th>\n",
       "      <th>Street</th>\n",
       "      <th>Alley</th>\n",
       "      <th>LotShape</th>\n",
       "      <th>LandContour</th>\n",
       "      <th>Utilities</th>\n",
       "      <th>LotConfig</th>\n",
       "      <th>...</th>\n",
       "      <th>PoolArea</th>\n",
       "      <th>PoolQC</th>\n",
       "      <th>Fence</th>\n",
       "      <th>MiscFeature</th>\n",
       "      <th>MiscVal</th>\n",
       "      <th>MoSold</th>\n",
       "      <th>YrSold</th>\n",
       "      <th>SaleType</th>\n",
       "      <th>SaleCondition</th>\n",
       "      <th>SalePrice</th>\n",
       "    </tr>\n",
       "  </thead>\n",
       "  <tbody>\n",
       "    <tr>\n",
       "      <th>0</th>\n",
       "      <td>60</td>\n",
       "      <td>RL</td>\n",
       "      <td>65.0</td>\n",
       "      <td>8450</td>\n",
       "      <td>Pave</td>\n",
       "      <td>NaN</td>\n",
       "      <td>Reg</td>\n",
       "      <td>Lvl</td>\n",
       "      <td>AllPub</td>\n",
       "      <td>Inside</td>\n",
       "      <td>...</td>\n",
       "      <td>0</td>\n",
       "      <td>NaN</td>\n",
       "      <td>NaN</td>\n",
       "      <td>NaN</td>\n",
       "      <td>0</td>\n",
       "      <td>2</td>\n",
       "      <td>2008</td>\n",
       "      <td>WD</td>\n",
       "      <td>Normal</td>\n",
       "      <td>208500</td>\n",
       "    </tr>\n",
       "    <tr>\n",
       "      <th>1</th>\n",
       "      <td>20</td>\n",
       "      <td>RL</td>\n",
       "      <td>80.0</td>\n",
       "      <td>9600</td>\n",
       "      <td>Pave</td>\n",
       "      <td>NaN</td>\n",
       "      <td>Reg</td>\n",
       "      <td>Lvl</td>\n",
       "      <td>AllPub</td>\n",
       "      <td>FR2</td>\n",
       "      <td>...</td>\n",
       "      <td>0</td>\n",
       "      <td>NaN</td>\n",
       "      <td>NaN</td>\n",
       "      <td>NaN</td>\n",
       "      <td>0</td>\n",
       "      <td>5</td>\n",
       "      <td>2007</td>\n",
       "      <td>WD</td>\n",
       "      <td>Normal</td>\n",
       "      <td>181500</td>\n",
       "    </tr>\n",
       "    <tr>\n",
       "      <th>2</th>\n",
       "      <td>60</td>\n",
       "      <td>RL</td>\n",
       "      <td>68.0</td>\n",
       "      <td>11250</td>\n",
       "      <td>Pave</td>\n",
       "      <td>NaN</td>\n",
       "      <td>IR1</td>\n",
       "      <td>Lvl</td>\n",
       "      <td>AllPub</td>\n",
       "      <td>Inside</td>\n",
       "      <td>...</td>\n",
       "      <td>0</td>\n",
       "      <td>NaN</td>\n",
       "      <td>NaN</td>\n",
       "      <td>NaN</td>\n",
       "      <td>0</td>\n",
       "      <td>9</td>\n",
       "      <td>2008</td>\n",
       "      <td>WD</td>\n",
       "      <td>Normal</td>\n",
       "      <td>223500</td>\n",
       "    </tr>\n",
       "    <tr>\n",
       "      <th>3</th>\n",
       "      <td>70</td>\n",
       "      <td>RL</td>\n",
       "      <td>60.0</td>\n",
       "      <td>9550</td>\n",
       "      <td>Pave</td>\n",
       "      <td>NaN</td>\n",
       "      <td>IR1</td>\n",
       "      <td>Lvl</td>\n",
       "      <td>AllPub</td>\n",
       "      <td>Corner</td>\n",
       "      <td>...</td>\n",
       "      <td>0</td>\n",
       "      <td>NaN</td>\n",
       "      <td>NaN</td>\n",
       "      <td>NaN</td>\n",
       "      <td>0</td>\n",
       "      <td>2</td>\n",
       "      <td>2006</td>\n",
       "      <td>WD</td>\n",
       "      <td>Abnorml</td>\n",
       "      <td>140000</td>\n",
       "    </tr>\n",
       "    <tr>\n",
       "      <th>4</th>\n",
       "      <td>60</td>\n",
       "      <td>RL</td>\n",
       "      <td>84.0</td>\n",
       "      <td>14260</td>\n",
       "      <td>Pave</td>\n",
       "      <td>NaN</td>\n",
       "      <td>IR1</td>\n",
       "      <td>Lvl</td>\n",
       "      <td>AllPub</td>\n",
       "      <td>FR2</td>\n",
       "      <td>...</td>\n",
       "      <td>0</td>\n",
       "      <td>NaN</td>\n",
       "      <td>NaN</td>\n",
       "      <td>NaN</td>\n",
       "      <td>0</td>\n",
       "      <td>12</td>\n",
       "      <td>2008</td>\n",
       "      <td>WD</td>\n",
       "      <td>Normal</td>\n",
       "      <td>250000</td>\n",
       "    </tr>\n",
       "  </tbody>\n",
       "</table>\n",
       "<p>5 rows × 80 columns</p>\n",
       "</div>"
      ],
      "text/plain": [
       "   MSSubClass MSZoning  LotFrontage  LotArea Street Alley LotShape  \\\n",
       "0          60       RL         65.0     8450   Pave   NaN      Reg   \n",
       "1          20       RL         80.0     9600   Pave   NaN      Reg   \n",
       "2          60       RL         68.0    11250   Pave   NaN      IR1   \n",
       "3          70       RL         60.0     9550   Pave   NaN      IR1   \n",
       "4          60       RL         84.0    14260   Pave   NaN      IR1   \n",
       "\n",
       "  LandContour Utilities LotConfig  ... PoolArea PoolQC Fence MiscFeature  \\\n",
       "0         Lvl    AllPub    Inside  ...        0    NaN   NaN         NaN   \n",
       "1         Lvl    AllPub       FR2  ...        0    NaN   NaN         NaN   \n",
       "2         Lvl    AllPub    Inside  ...        0    NaN   NaN         NaN   \n",
       "3         Lvl    AllPub    Corner  ...        0    NaN   NaN         NaN   \n",
       "4         Lvl    AllPub       FR2  ...        0    NaN   NaN         NaN   \n",
       "\n",
       "  MiscVal MoSold  YrSold  SaleType  SaleCondition  SalePrice  \n",
       "0       0      2    2008        WD         Normal     208500  \n",
       "1       0      5    2007        WD         Normal     181500  \n",
       "2       0      9    2008        WD         Normal     223500  \n",
       "3       0      2    2006        WD        Abnorml     140000  \n",
       "4       0     12    2008        WD         Normal     250000  \n",
       "\n",
       "[5 rows x 80 columns]"
      ]
     },
     "execution_count": 1,
     "metadata": {},
     "output_type": "execute_result"
    }
   ],
   "source": [
    "import pandas as pd\n",
    "\n",
    "TEST = '/kaggle/input/house-prices-advanced-regression-techniques/test.csv'\n",
    "TRAIN = '/kaggle/input/house-prices-advanced-regression-techniques/train.csv'\n",
    "\n",
    "test_df = pd.read_csv(filepath_or_buffer=TEST)\n",
    "df = pd.read_csv(filepath_or_buffer=TRAIN,).drop(columns=['Id'])\n",
    "df.head()"
   ]
  },
  {
   "cell_type": "code",
   "execution_count": 2,
   "id": "c699d70c",
   "metadata": {
    "execution": {
     "iopub.execute_input": "2024-05-10T17:48:16.173417Z",
     "iopub.status.busy": "2024-05-10T17:48:16.173073Z",
     "iopub.status.idle": "2024-05-10T17:48:16.191075Z",
     "shell.execute_reply": "2024-05-10T17:48:16.190043Z"
    },
    "papermill": {
     "duration": 0.025022,
     "end_time": "2024-05-10T17:48:16.193609",
     "exception": false,
     "start_time": "2024-05-10T17:48:16.168587",
     "status": "completed"
    },
    "tags": []
   },
   "outputs": [],
   "source": [
    "TARGET = 'SalePrice'\n",
    "keys = [key for key, value in df.drop(columns=[TARGET]).dtypes.to_dict().items() if str(value) in {'int64', 'float64'}]\n",
    "COLUMNS = [key for key in keys if test_df[key].isna().sum() == 0]\n",
    "knn_columns  = [key for key in keys if 0 < test_df[key].isna().sum() < 5]"
   ]
  },
  {
   "cell_type": "markdown",
   "id": "07f31d02",
   "metadata": {
    "papermill": {
     "duration": 0.002711,
     "end_time": "2024-05-10T17:48:16.199523",
     "exception": false,
     "start_time": "2024-05-10T17:48:16.196812",
     "status": "completed"
    },
    "tags": []
   },
   "source": [
    "The competition uses RMSE, so we need an RMSE metric."
   ]
  },
  {
   "cell_type": "code",
   "execution_count": 3,
   "id": "161c7b4f",
   "metadata": {
    "execution": {
     "iopub.execute_input": "2024-05-10T17:48:16.206923Z",
     "iopub.status.busy": "2024-05-10T17:48:16.206590Z",
     "iopub.status.idle": "2024-05-10T17:48:17.184512Z",
     "shell.execute_reply": "2024-05-10T17:48:17.183714Z"
    },
    "papermill": {
     "duration": 0.98442,
     "end_time": "2024-05-10T17:48:17.187015",
     "exception": false,
     "start_time": "2024-05-10T17:48:16.202595",
     "status": "completed"
    },
    "tags": []
   },
   "outputs": [],
   "source": [
    "import numpy as np\n",
    "from sklearn.metrics import mean_squared_error\n",
    "\n",
    "def rmse(y_true, y_pred) -> float:\n",
    "    # if we have failures due to NaNs we want to localize them\n",
    "    left = np.log(1 + y_true)\n",
    "    right = np.log(1 + y_pred)\n",
    "    return mean_squared_error(squared=False, y_true=left, y_pred=right)\n"
   ]
  },
  {
   "cell_type": "code",
   "execution_count": 4,
   "id": "8975688a",
   "metadata": {
    "execution": {
     "iopub.execute_input": "2024-05-10T17:48:17.195314Z",
     "iopub.status.busy": "2024-05-10T17:48:17.194376Z",
     "iopub.status.idle": "2024-05-10T17:48:17.224153Z",
     "shell.execute_reply": "2024-05-10T17:48:17.222815Z"
    },
    "papermill": {
     "duration": 0.036316,
     "end_time": "2024-05-10T17:48:17.226498",
     "exception": false,
     "start_time": "2024-05-10T17:48:17.190182",
     "status": "completed"
    },
    "tags": []
   },
   "outputs": [
    {
     "name": "stdout",
     "output_type": "stream",
     "text": [
      "train/test sizes: 1168/292\n"
     ]
    }
   ],
   "source": [
    "from sklearn.model_selection import train_test_split\n",
    "\n",
    "X_train, X_test, y_train, y_test = train_test_split(df[COLUMNS], df[TARGET], test_size=0.20, random_state=2024)\n",
    "print('train/test sizes: {}/{}'.format(len(X_train), len(X_test)))"
   ]
  },
  {
   "cell_type": "code",
   "execution_count": 5,
   "id": "d69ee07e",
   "metadata": {
    "execution": {
     "iopub.execute_input": "2024-05-10T17:48:17.234560Z",
     "iopub.status.busy": "2024-05-10T17:48:17.233947Z",
     "iopub.status.idle": "2024-05-10T17:48:17.755122Z",
     "shell.execute_reply": "2024-05-10T17:48:17.754008Z"
    },
    "papermill": {
     "duration": 0.530018,
     "end_time": "2024-05-10T17:48:17.759648",
     "exception": false,
     "start_time": "2024-05-10T17:48:17.229630",
     "status": "completed"
    },
    "tags": []
   },
   "outputs": [
    {
     "name": "stdout",
     "output_type": "stream",
     "text": [
      "0.2085\n"
     ]
    },
    {
     "name": "stderr",
     "output_type": "stream",
     "text": [
      "/tmp/ipykernel_18/3099204580.py:7: RuntimeWarning: invalid value encountered in log\n",
      "  right = np.log(1 + y_pred)\n"
     ]
    }
   ],
   "source": [
    "import numpy as np\n",
    "from sklearn.impute import KNNImputer\n",
    "from sklearn.linear_model import Ridge\n",
    "from sklearn.model_selection import train_test_split\n",
    "\n",
    "MODELS = {\n",
    "    'ridge +': Ridge(tol=1e-4, random_state=2024, max_iter=10000, positive=True, solver='lbfgs'),\n",
    "}\n",
    "\n",
    "\n",
    "columns = COLUMNS + ['BsmtFinSF1',  'BsmtUnfSF', 'TotalBsmtSF']\n",
    "imputer = KNNImputer()\n",
    "knn_df = imputer.fit_transform(X=df[columns])\n",
    "for name, model in MODELS.items():\n",
    "    scores = []\n",
    "    for random_state in range(20):\n",
    "        X_train, X_test, y_train, y_test = train_test_split(knn_df, df[TARGET], test_size=0.20, random_state=random_state)\n",
    "        try:\n",
    "            model.fit(X=X_train, y=y_train)\n",
    "            score = rmse(y_true=y_test, y_pred=model.predict(X=X_test))\n",
    "            scores.append(score)\n",
    "        except ValueError:\n",
    "            pass\n",
    "\n",
    "    print('{:5.4f}'.format(sum(scores)/len(scores),))"
   ]
  },
  {
   "cell_type": "markdown",
   "id": "82b94dd3",
   "metadata": {
    "papermill": {
     "duration": 0.004721,
     "end_time": "2024-05-10T17:48:17.769496",
     "exception": false,
     "start_time": "2024-05-10T17:48:17.764775",
     "status": "completed"
    },
    "tags": []
   },
   "source": [
    "Baseline (no imputed values) score is 0.2298."
   ]
  },
  {
   "cell_type": "code",
   "execution_count": 6,
   "id": "e3ed82db",
   "metadata": {
    "execution": {
     "iopub.execute_input": "2024-05-10T17:48:17.781107Z",
     "iopub.status.busy": "2024-05-10T17:48:17.780614Z",
     "iopub.status.idle": "2024-05-10T17:48:17.837742Z",
     "shell.execute_reply": "2024-05-10T17:48:17.836559Z"
    },
    "papermill": {
     "duration": 0.067182,
     "end_time": "2024-05-10T17:48:17.841501",
     "exception": false,
     "start_time": "2024-05-10T17:48:17.774319",
     "status": "completed"
    },
    "tags": []
   },
   "outputs": [],
   "source": [
    "SUBMISSION = '/kaggle/working/submission.csv'\n",
    "\n",
    "imputer = KNNImputer().fit(X=pd.concat(objs=[df, test_df])[columns])\n",
    "y_tree_pred = MODELS[name].fit(X=imputer.transform(X=df[columns]), y=df[TARGET]).predict(X=imputer.transform(X=test_df[columns]))\n",
    "pd.DataFrame(data={'Id': test_df['Id'], 'SalePrice': y_tree_pred}).to_csv(path_or_buf=SUBMISSION, index=False)"
   ]
  }
 ],
 "metadata": {
  "kaggle": {
   "accelerator": "none",
   "dataSources": [
    {
     "databundleVersionId": 868283,
     "sourceId": 5407,
     "sourceType": "competition"
    }
   ],
   "dockerImageVersionId": 30698,
   "isGpuEnabled": false,
   "isInternetEnabled": true,
   "language": "python",
   "sourceType": "notebook"
  },
  "kernelspec": {
   "display_name": "Python 3",
   "language": "python",
   "name": "python3"
  },
  "language_info": {
   "codemirror_mode": {
    "name": "ipython",
    "version": 3
   },
   "file_extension": ".py",
   "mimetype": "text/x-python",
   "name": "python",
   "nbconvert_exporter": "python",
   "pygments_lexer": "ipython3",
   "version": "3.10.13"
  },
  "papermill": {
   "default_parameters": {},
   "duration": 5.499403,
   "end_time": "2024-05-10T17:48:18.367612",
   "environment_variables": {},
   "exception": null,
   "input_path": "__notebook__.ipynb",
   "output_path": "__notebook__.ipynb",
   "parameters": {},
   "start_time": "2024-05-10T17:48:12.868209",
   "version": "2.5.0"
  }
 },
 "nbformat": 4,
 "nbformat_minor": 5
}
