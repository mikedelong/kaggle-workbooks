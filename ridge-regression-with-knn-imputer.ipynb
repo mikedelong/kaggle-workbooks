{
 "cells": [
  {
   "cell_type": "code",
   "execution_count": 1,
   "id": "4f04a318",
   "metadata": {
    "_cell_guid": "b1076dfc-b9ad-4769-8c92-a6c4dae69d19",
    "_uuid": "8f2839f25d086af736a60e9eeb907d3b93b6e0e5",
    "execution": {
     "iopub.execute_input": "2024-05-13T18:28:30.138996Z",
     "iopub.status.busy": "2024-05-13T18:28:30.138535Z",
     "iopub.status.idle": "2024-05-13T18:28:31.344083Z",
     "shell.execute_reply": "2024-05-13T18:28:31.342522Z"
    },
    "papermill": {
     "duration": 1.215518,
     "end_time": "2024-05-13T18:28:31.346999",
     "exception": false,
     "start_time": "2024-05-13T18:28:30.131481",
     "status": "completed"
    },
    "tags": []
   },
   "outputs": [
    {
     "data": {
      "text/html": [
       "<div>\n",
       "<style scoped>\n",
       "    .dataframe tbody tr th:only-of-type {\n",
       "        vertical-align: middle;\n",
       "    }\n",
       "\n",
       "    .dataframe tbody tr th {\n",
       "        vertical-align: top;\n",
       "    }\n",
       "\n",
       "    .dataframe thead th {\n",
       "        text-align: right;\n",
       "    }\n",
       "</style>\n",
       "<table border=\"1\" class=\"dataframe\">\n",
       "  <thead>\n",
       "    <tr style=\"text-align: right;\">\n",
       "      <th></th>\n",
       "      <th>MSSubClass</th>\n",
       "      <th>MSZoning</th>\n",
       "      <th>LotFrontage</th>\n",
       "      <th>LotArea</th>\n",
       "      <th>Street</th>\n",
       "      <th>Alley</th>\n",
       "      <th>LotShape</th>\n",
       "      <th>LandContour</th>\n",
       "      <th>Utilities</th>\n",
       "      <th>LotConfig</th>\n",
       "      <th>...</th>\n",
       "      <th>PoolArea</th>\n",
       "      <th>PoolQC</th>\n",
       "      <th>Fence</th>\n",
       "      <th>MiscFeature</th>\n",
       "      <th>MiscVal</th>\n",
       "      <th>MoSold</th>\n",
       "      <th>YrSold</th>\n",
       "      <th>SaleType</th>\n",
       "      <th>SaleCondition</th>\n",
       "      <th>SalePrice</th>\n",
       "    </tr>\n",
       "  </thead>\n",
       "  <tbody>\n",
       "    <tr>\n",
       "      <th>0</th>\n",
       "      <td>60</td>\n",
       "      <td>RL</td>\n",
       "      <td>65.0</td>\n",
       "      <td>8450</td>\n",
       "      <td>Pave</td>\n",
       "      <td>NaN</td>\n",
       "      <td>Reg</td>\n",
       "      <td>Lvl</td>\n",
       "      <td>AllPub</td>\n",
       "      <td>Inside</td>\n",
       "      <td>...</td>\n",
       "      <td>0</td>\n",
       "      <td>NaN</td>\n",
       "      <td>NaN</td>\n",
       "      <td>NaN</td>\n",
       "      <td>0</td>\n",
       "      <td>2</td>\n",
       "      <td>2008</td>\n",
       "      <td>WD</td>\n",
       "      <td>Normal</td>\n",
       "      <td>208500</td>\n",
       "    </tr>\n",
       "    <tr>\n",
       "      <th>1</th>\n",
       "      <td>20</td>\n",
       "      <td>RL</td>\n",
       "      <td>80.0</td>\n",
       "      <td>9600</td>\n",
       "      <td>Pave</td>\n",
       "      <td>NaN</td>\n",
       "      <td>Reg</td>\n",
       "      <td>Lvl</td>\n",
       "      <td>AllPub</td>\n",
       "      <td>FR2</td>\n",
       "      <td>...</td>\n",
       "      <td>0</td>\n",
       "      <td>NaN</td>\n",
       "      <td>NaN</td>\n",
       "      <td>NaN</td>\n",
       "      <td>0</td>\n",
       "      <td>5</td>\n",
       "      <td>2007</td>\n",
       "      <td>WD</td>\n",
       "      <td>Normal</td>\n",
       "      <td>181500</td>\n",
       "    </tr>\n",
       "    <tr>\n",
       "      <th>2</th>\n",
       "      <td>60</td>\n",
       "      <td>RL</td>\n",
       "      <td>68.0</td>\n",
       "      <td>11250</td>\n",
       "      <td>Pave</td>\n",
       "      <td>NaN</td>\n",
       "      <td>IR1</td>\n",
       "      <td>Lvl</td>\n",
       "      <td>AllPub</td>\n",
       "      <td>Inside</td>\n",
       "      <td>...</td>\n",
       "      <td>0</td>\n",
       "      <td>NaN</td>\n",
       "      <td>NaN</td>\n",
       "      <td>NaN</td>\n",
       "      <td>0</td>\n",
       "      <td>9</td>\n",
       "      <td>2008</td>\n",
       "      <td>WD</td>\n",
       "      <td>Normal</td>\n",
       "      <td>223500</td>\n",
       "    </tr>\n",
       "    <tr>\n",
       "      <th>3</th>\n",
       "      <td>70</td>\n",
       "      <td>RL</td>\n",
       "      <td>60.0</td>\n",
       "      <td>9550</td>\n",
       "      <td>Pave</td>\n",
       "      <td>NaN</td>\n",
       "      <td>IR1</td>\n",
       "      <td>Lvl</td>\n",
       "      <td>AllPub</td>\n",
       "      <td>Corner</td>\n",
       "      <td>...</td>\n",
       "      <td>0</td>\n",
       "      <td>NaN</td>\n",
       "      <td>NaN</td>\n",
       "      <td>NaN</td>\n",
       "      <td>0</td>\n",
       "      <td>2</td>\n",
       "      <td>2006</td>\n",
       "      <td>WD</td>\n",
       "      <td>Abnorml</td>\n",
       "      <td>140000</td>\n",
       "    </tr>\n",
       "    <tr>\n",
       "      <th>4</th>\n",
       "      <td>60</td>\n",
       "      <td>RL</td>\n",
       "      <td>84.0</td>\n",
       "      <td>14260</td>\n",
       "      <td>Pave</td>\n",
       "      <td>NaN</td>\n",
       "      <td>IR1</td>\n",
       "      <td>Lvl</td>\n",
       "      <td>AllPub</td>\n",
       "      <td>FR2</td>\n",
       "      <td>...</td>\n",
       "      <td>0</td>\n",
       "      <td>NaN</td>\n",
       "      <td>NaN</td>\n",
       "      <td>NaN</td>\n",
       "      <td>0</td>\n",
       "      <td>12</td>\n",
       "      <td>2008</td>\n",
       "      <td>WD</td>\n",
       "      <td>Normal</td>\n",
       "      <td>250000</td>\n",
       "    </tr>\n",
       "  </tbody>\n",
       "</table>\n",
       "<p>5 rows × 80 columns</p>\n",
       "</div>"
      ],
      "text/plain": [
       "   MSSubClass MSZoning  LotFrontage  LotArea Street Alley LotShape  \\\n",
       "0          60       RL         65.0     8450   Pave   NaN      Reg   \n",
       "1          20       RL         80.0     9600   Pave   NaN      Reg   \n",
       "2          60       RL         68.0    11250   Pave   NaN      IR1   \n",
       "3          70       RL         60.0     9550   Pave   NaN      IR1   \n",
       "4          60       RL         84.0    14260   Pave   NaN      IR1   \n",
       "\n",
       "  LandContour Utilities LotConfig  ... PoolArea PoolQC Fence MiscFeature  \\\n",
       "0         Lvl    AllPub    Inside  ...        0    NaN   NaN         NaN   \n",
       "1         Lvl    AllPub       FR2  ...        0    NaN   NaN         NaN   \n",
       "2         Lvl    AllPub    Inside  ...        0    NaN   NaN         NaN   \n",
       "3         Lvl    AllPub    Corner  ...        0    NaN   NaN         NaN   \n",
       "4         Lvl    AllPub       FR2  ...        0    NaN   NaN         NaN   \n",
       "\n",
       "  MiscVal MoSold  YrSold  SaleType  SaleCondition  SalePrice  \n",
       "0       0      2    2008        WD         Normal     208500  \n",
       "1       0      5    2007        WD         Normal     181500  \n",
       "2       0      9    2008        WD         Normal     223500  \n",
       "3       0      2    2006        WD        Abnorml     140000  \n",
       "4       0     12    2008        WD         Normal     250000  \n",
       "\n",
       "[5 rows x 80 columns]"
      ]
     },
     "execution_count": 1,
     "metadata": {},
     "output_type": "execute_result"
    }
   ],
   "source": [
    "import pandas as pd\n",
    "\n",
    "TEST = '/kaggle/input/house-prices-advanced-regression-techniques/test.csv'\n",
    "TRAIN = '/kaggle/input/house-prices-advanced-regression-techniques/train.csv'\n",
    "\n",
    "test_raw_df = pd.read_csv(filepath_or_buffer=TEST, )\n",
    "submission_df = test_raw_df[['Id']]\n",
    "test_raw_df = test_raw_df.drop(columns=['Id'])\n",
    "train_raw_df = pd.read_csv(filepath_or_buffer=TRAIN, ).drop(columns=['Id'])\n",
    "train_raw_df.head()"
   ]
  },
  {
   "cell_type": "markdown",
   "id": "1910efb8",
   "metadata": {
    "papermill": {
     "duration": 0.004121,
     "end_time": "2024-05-13T18:28:31.355705",
     "exception": false,
     "start_time": "2024-05-13T18:28:31.351584",
     "status": "completed"
    },
    "tags": []
   },
   "source": [
    "Here's our data processing pipeline; let's do as much of it as we can before we start comparing models."
   ]
  },
  {
   "cell_type": "code",
   "execution_count": 2,
   "id": "1f106368",
   "metadata": {
    "execution": {
     "iopub.execute_input": "2024-05-13T18:28:31.366496Z",
     "iopub.status.busy": "2024-05-13T18:28:31.365965Z",
     "iopub.status.idle": "2024-05-13T18:28:33.311835Z",
     "shell.execute_reply": "2024-05-13T18:28:33.310372Z"
    },
    "papermill": {
     "duration": 1.955703,
     "end_time": "2024-05-13T18:28:33.315608",
     "exception": false,
     "start_time": "2024-05-13T18:28:31.359905",
     "status": "completed"
    },
    "tags": []
   },
   "outputs": [
    {
     "name": "stdout",
     "output_type": "stream",
     "text": [
      "(1460, 123) (1459, 122)\n"
     ]
    }
   ],
   "source": [
    "from sklearn.impute import KNNImputer\n",
    "\n",
    "\n",
    "TARGET = 'SalePrice'\n",
    "keys = [key for key, value in train_raw_df.drop(columns=[TARGET]).dtypes.to_dict().items() if str(value) in {'int64', 'float64'}]\n",
    "COLUMNS = [key for key in keys if test_raw_df[key].isna().sum() == 0]\n",
    "\n",
    "# our imputing is a work in progress, and we think at the moment that we benefit from \n",
    "# using KNN imputing on these three columns is best\n",
    "knn_columns = [key for key in keys if 0 < test_raw_df[key].isna().sum() < 5]\n",
    "knn_columns = COLUMNS + ['BsmtFinSF1',  'BsmtUnfSF', 'TotalBsmtSF']\n",
    "\n",
    "imputer = KNNImputer()\n",
    "train_knn_df = pd.DataFrame(data=imputer.fit_transform(X=train_raw_df[knn_columns]), columns=knn_columns)\n",
    "test_knn_df = pd.DataFrame(data=imputer.transform(X=test_raw_df[knn_columns]), columns=knn_columns)\n",
    "\n",
    "# now get the dummies we want to bolt on\n",
    "other_columns = [column for column in test_raw_df.columns if column not in COLUMNS and column not in knn_columns and 0 == train_raw_df[column].isna().sum() and 0 == test_raw_df[column].isna().sum()]\n",
    "dummy_columns = [column for column in other_columns if column not in {'Condition2', 'Heating', 'HouseStyle', 'RoofMatl'}]\n",
    "\n",
    "train_dummies_df = pd.get_dummies(data=train_raw_df[dummy_columns])\n",
    "test_dummies_df = pd.get_dummies(data=test_raw_df[dummy_columns])\n",
    "\n",
    "train_df = pd.concat(axis='columns', objs=[train_knn_df, train_dummies_df,])\n",
    "train_df[TARGET] = train_raw_df[TARGET].tolist()\n",
    "test_df = pd.concat(axis='columns', objs=[test_knn_df, test_dummies_df])\n",
    "print(train_df.shape, test_df.shape)"
   ]
  },
  {
   "cell_type": "markdown",
   "id": "42deab0d",
   "metadata": {
    "papermill": {
     "duration": 0.00408,
     "end_time": "2024-05-13T18:28:33.324439",
     "exception": false,
     "start_time": "2024-05-13T18:28:33.320359",
     "status": "completed"
    },
    "tags": []
   },
   "source": [
    "The competition uses RMSE, so we need an RMSE metric."
   ]
  },
  {
   "cell_type": "code",
   "execution_count": 3,
   "id": "ea7a4653",
   "metadata": {
    "execution": {
     "iopub.execute_input": "2024-05-13T18:28:33.336111Z",
     "iopub.status.busy": "2024-05-13T18:28:33.335608Z",
     "iopub.status.idle": "2024-05-13T18:28:33.343288Z",
     "shell.execute_reply": "2024-05-13T18:28:33.341754Z"
    },
    "papermill": {
     "duration": 0.016973,
     "end_time": "2024-05-13T18:28:33.346071",
     "exception": false,
     "start_time": "2024-05-13T18:28:33.329098",
     "status": "completed"
    },
    "tags": []
   },
   "outputs": [],
   "source": [
    "import numpy as np\n",
    "from sklearn.metrics import mean_squared_error\n",
    "\n",
    "def rmse(y_true, y_pred) -> float:\n",
    "    return mean_squared_error(squared=False, y_true=np.log(1 + y_true), y_pred=np.log(1 + y_pred))"
   ]
  },
  {
   "cell_type": "markdown",
   "id": "1fd43e6b",
   "metadata": {
    "papermill": {
     "duration": 0.004111,
     "end_time": "2024-05-13T18:28:33.354960",
     "exception": false,
     "start_time": "2024-05-13T18:28:33.350849",
     "status": "completed"
    },
    "tags": []
   },
   "source": [
    "Let's spend some time tuning our ridge regression parameters:\n",
    "* alpha : l2 regularization strength\n",
    "\n",
    "Remember that we have learned elsewhere that our error metric is sensitive to the train/test split, so to fairly compare different alpha values we need to take the mean RMSE across a range of random state values.\n"
   ]
  },
  {
   "cell_type": "code",
   "execution_count": 4,
   "id": "a75065b9",
   "metadata": {
    "execution": {
     "iopub.execute_input": "2024-05-13T18:28:33.365735Z",
     "iopub.status.busy": "2024-05-13T18:28:33.365311Z",
     "iopub.status.idle": "2024-05-13T18:28:52.682643Z",
     "shell.execute_reply": "2024-05-13T18:28:52.681221Z"
    },
    "papermill": {
     "duration": 19.32783,
     "end_time": "2024-05-13T18:28:52.687182",
     "exception": false,
     "start_time": "2024-05-13T18:28:33.359352",
     "status": "completed"
    },
    "tags": []
   },
   "outputs": [
    {
     "name": "stdout",
     "output_type": "stream",
     "text": [
      "0.2037 : tree\n",
      "0.2083 : ridge alpha 0.5\n",
      "0.2081 : ridge alpha 1.0\n",
      "0.2090 : ridge alpha 1.5\n",
      "0.2076 : ridge alpha 2.0\n",
      "0.2076 : ridge alpha 2.5\n",
      "0.2082 : ridge alpha 3.0\n",
      "0.2081 : ridge alpha 3.5\n",
      "0.2085 : ridge alpha 4.0\n",
      "0.2086 : ridge alpha 4.5\n",
      "0.2095 : ridge alpha 5.0\n",
      "0.2087 : ridge alpha 5.5\n",
      "0.2072 : ridge alpha 6.0\n",
      "0.2077 : ridge alpha 6.5\n",
      "0.2076 : ridge alpha 7.0\n",
      "0.2087 : ridge alpha 7.5\n",
      "0.2077 : ridge alpha 8.0\n",
      "0.2087 : ridge alpha 8.5\n",
      "0.2070 : ridge alpha 9.0\n",
      "0.2098 : ridge alpha 9.5\n",
      "0.2091 : ridge alpha 10.0\n",
      "0.2084 : ridge alpha 10.5\n",
      "0.2114 : ridge alpha 11.0\n",
      "0.2076 : ridge alpha 11.5\n",
      "0.2073 : ridge alpha 12.0\n",
      "0.2080 : ridge alpha 12.5\n",
      "0.2077 : ridge alpha 13.0\n",
      "0.2093 : ridge alpha 13.5\n",
      "0.2082 : ridge alpha 14.0\n",
      "0.2077 : ridge alpha 14.5\n",
      "0.2067 : ridge alpha 15.0\n",
      "0.2079 : ridge alpha 15.5\n",
      "0.2076 : ridge alpha 16.0\n",
      "0.2075 : ridge alpha 16.5\n",
      "0.2093 : ridge alpha 17.0\n",
      "0.2096 : ridge alpha 17.5\n",
      "0.2106 : ridge alpha 18.0\n",
      "0.2094 : ridge alpha 18.5\n",
      "0.2084 : ridge alpha 19.0\n",
      "0.2088 : ridge alpha 19.5\n",
      "0.2094 : ridge alpha 20.0\n"
     ]
    }
   ],
   "source": [
    "import numpy as np\n",
    "from sklearn.linear_model import Ridge\n",
    "from sklearn.model_selection import train_test_split\n",
    "from sklearn.neural_network import MLPRegressor\n",
    "from sklearn.svm import SVR\n",
    "from sklearn.tree import DecisionTreeRegressor\n",
    "\n",
    "\n",
    "ACTIVATION = 'identity'\n",
    "CRITERION = 'absolute_error'\n",
    "MODELS = {\n",
    "#     'ridge +': Ridge(tol=1e-4, random_state=2024, max_iter=10000, positive=True, solver='lbfgs'),\n",
    "#     'neural network' : MLPRegressor(hidden_layer_sizes=(400, 200, 100,), activation=ACTIVATION, solver='adam', alpha=1e-3, batch_size='auto', \n",
    "#                       learning_rate='adaptive', learning_rate_init=1e-2, power_t=0.5, max_iter=1000, shuffle=True, random_state=2024,\n",
    "#                       tol=1e-5, verbose=False, warm_start=False, momentum=0.8, nesterovs_momentum=True, early_stopping=False, beta_1=0.9, \n",
    "#                       beta_2=0.999, epsilon=1e-08, n_iter_no_change=20, max_fun=15000),\n",
    "    'tree' : DecisionTreeRegressor(criterion=CRITERION, splitter='best', max_depth=None, min_samples_split=2, min_samples_leaf=1,\n",
    "                             min_weight_fraction_leaf=0.0, max_features=None, random_state=2024, max_leaf_nodes=None,\n",
    "                             min_impurity_decrease=0.0, ccp_alpha=0.0, ),\n",
    "}\n",
    "\n",
    "# load up the alpha parameter study\n",
    "for ialpha in range(40):\n",
    "    alpha = (1 + ialpha) / 2.0\n",
    "    MODELS['ridge alpha {}'.format(alpha)] = Ridge(alpha=alpha, tol=1e-4, random_state=2024, max_iter=10000, positive=True, solver='lbfgs')\n",
    "\n",
    "    \n",
    "mean_scores = []\n",
    "for name, model in MODELS.items():\n",
    "    scores = []\n",
    "    for random_state in range(10):\n",
    "        X_train, X_test, y_train, y_test = train_test_split(train_df.drop(columns=[TARGET]), train_df[TARGET], test_size=0.20, random_state=random_state)\n",
    "        try:\n",
    "            model.fit(X=X_train, y=y_train)\n",
    "            score = rmse(y_true=y_test, y_pred=model.predict(X=X_test))\n",
    "            scores.append(score)\n",
    "        except ValueError:\n",
    "            pass\n",
    "    mean_score = sum(scores)/len(scores)\n",
    "    mean_scores.append((mean_score, name)) \n",
    "    print('{:5.4f} : {}'.format(mean_score, name))"
   ]
  },
  {
   "cell_type": "code",
   "execution_count": 5,
   "id": "1f164331",
   "metadata": {
    "execution": {
     "iopub.execute_input": "2024-05-13T18:28:52.723904Z",
     "iopub.status.busy": "2024-05-13T18:28:52.723177Z",
     "iopub.status.idle": "2024-05-13T18:28:52.787534Z",
     "shell.execute_reply": "2024-05-13T18:28:52.785993Z"
    },
    "papermill": {
     "duration": 0.087456,
     "end_time": "2024-05-13T18:28:52.791843",
     "exception": false,
     "start_time": "2024-05-13T18:28:52.704387",
     "status": "completed"
    },
    "tags": []
   },
   "outputs": [
    {
     "name": "stdout",
     "output_type": "stream",
     "text": [
      "done.\n"
     ]
    }
   ],
   "source": [
    "SUBMISSION = '/kaggle/working/submission.csv'\n",
    "\n",
    "best_model_name = sorted(mean_scores)[0][1]\n",
    "submission_df[TARGET] = MODELS[name].fit(X=train_df.drop(columns=[TARGET]), y=train_df[TARGET]).predict(X=test_df)\n",
    "submission_df.to_csv(path_or_buf=SUBMISSION, index=False)\n",
    "print('done.')"
   ]
  }
 ],
 "metadata": {
  "kaggle": {
   "accelerator": "none",
   "dataSources": [
    {
     "databundleVersionId": 868283,
     "sourceId": 5407,
     "sourceType": "competition"
    }
   ],
   "dockerImageVersionId": 30698,
   "isGpuEnabled": false,
   "isInternetEnabled": true,
   "language": "python",
   "sourceType": "notebook"
  },
  "kernelspec": {
   "display_name": "Python 3",
   "language": "python",
   "name": "python3"
  },
  "language_info": {
   "codemirror_mode": {
    "name": "ipython",
    "version": 3
   },
   "file_extension": ".py",
   "mimetype": "text/x-python",
   "name": "python",
   "nbconvert_exporter": "python",
   "pygments_lexer": "ipython3",
   "version": "3.10.13"
  },
  "papermill": {
   "default_parameters": {},
   "duration": 27.095597,
   "end_time": "2024-05-13T18:28:53.749699",
   "environment_variables": {},
   "exception": null,
   "input_path": "__notebook__.ipynb",
   "output_path": "__notebook__.ipynb",
   "parameters": {},
   "start_time": "2024-05-13T18:28:26.654102",
   "version": "2.5.0"
  }
 },
 "nbformat": 4,
 "nbformat_minor": 5
}
