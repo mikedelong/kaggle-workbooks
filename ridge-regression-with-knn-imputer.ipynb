{
 "cells": [
  {
   "cell_type": "code",
   "execution_count": 1,
   "id": "1c17e982",
   "metadata": {
    "_cell_guid": "b1076dfc-b9ad-4769-8c92-a6c4dae69d19",
    "_uuid": "8f2839f25d086af736a60e9eeb907d3b93b6e0e5",
    "execution": {
     "iopub.execute_input": "2024-05-15T16:10:45.969237Z",
     "iopub.status.busy": "2024-05-15T16:10:45.968838Z",
     "iopub.status.idle": "2024-05-15T16:10:46.804486Z",
     "shell.execute_reply": "2024-05-15T16:10:46.803420Z"
    },
    "papermill": {
     "duration": 0.845153,
     "end_time": "2024-05-15T16:10:46.807032",
     "exception": false,
     "start_time": "2024-05-15T16:10:45.961879",
     "status": "completed"
    },
    "tags": []
   },
   "outputs": [
    {
     "data": {
      "text/html": [
       "<div>\n",
       "<style scoped>\n",
       "    .dataframe tbody tr th:only-of-type {\n",
       "        vertical-align: middle;\n",
       "    }\n",
       "\n",
       "    .dataframe tbody tr th {\n",
       "        vertical-align: top;\n",
       "    }\n",
       "\n",
       "    .dataframe thead th {\n",
       "        text-align: right;\n",
       "    }\n",
       "</style>\n",
       "<table border=\"1\" class=\"dataframe\">\n",
       "  <thead>\n",
       "    <tr style=\"text-align: right;\">\n",
       "      <th></th>\n",
       "      <th>MSSubClass</th>\n",
       "      <th>MSZoning</th>\n",
       "      <th>LotFrontage</th>\n",
       "      <th>LotArea</th>\n",
       "      <th>Street</th>\n",
       "      <th>Alley</th>\n",
       "      <th>LotShape</th>\n",
       "      <th>LandContour</th>\n",
       "      <th>Utilities</th>\n",
       "      <th>LotConfig</th>\n",
       "      <th>...</th>\n",
       "      <th>PoolArea</th>\n",
       "      <th>PoolQC</th>\n",
       "      <th>Fence</th>\n",
       "      <th>MiscFeature</th>\n",
       "      <th>MiscVal</th>\n",
       "      <th>MoSold</th>\n",
       "      <th>YrSold</th>\n",
       "      <th>SaleType</th>\n",
       "      <th>SaleCondition</th>\n",
       "      <th>SalePrice</th>\n",
       "    </tr>\n",
       "  </thead>\n",
       "  <tbody>\n",
       "    <tr>\n",
       "      <th>0</th>\n",
       "      <td>60</td>\n",
       "      <td>RL</td>\n",
       "      <td>65.0</td>\n",
       "      <td>8450</td>\n",
       "      <td>Pave</td>\n",
       "      <td>NaN</td>\n",
       "      <td>Reg</td>\n",
       "      <td>Lvl</td>\n",
       "      <td>AllPub</td>\n",
       "      <td>Inside</td>\n",
       "      <td>...</td>\n",
       "      <td>0</td>\n",
       "      <td>NaN</td>\n",
       "      <td>NaN</td>\n",
       "      <td>NaN</td>\n",
       "      <td>0</td>\n",
       "      <td>2</td>\n",
       "      <td>2008</td>\n",
       "      <td>WD</td>\n",
       "      <td>Normal</td>\n",
       "      <td>208500</td>\n",
       "    </tr>\n",
       "    <tr>\n",
       "      <th>1</th>\n",
       "      <td>20</td>\n",
       "      <td>RL</td>\n",
       "      <td>80.0</td>\n",
       "      <td>9600</td>\n",
       "      <td>Pave</td>\n",
       "      <td>NaN</td>\n",
       "      <td>Reg</td>\n",
       "      <td>Lvl</td>\n",
       "      <td>AllPub</td>\n",
       "      <td>FR2</td>\n",
       "      <td>...</td>\n",
       "      <td>0</td>\n",
       "      <td>NaN</td>\n",
       "      <td>NaN</td>\n",
       "      <td>NaN</td>\n",
       "      <td>0</td>\n",
       "      <td>5</td>\n",
       "      <td>2007</td>\n",
       "      <td>WD</td>\n",
       "      <td>Normal</td>\n",
       "      <td>181500</td>\n",
       "    </tr>\n",
       "    <tr>\n",
       "      <th>2</th>\n",
       "      <td>60</td>\n",
       "      <td>RL</td>\n",
       "      <td>68.0</td>\n",
       "      <td>11250</td>\n",
       "      <td>Pave</td>\n",
       "      <td>NaN</td>\n",
       "      <td>IR1</td>\n",
       "      <td>Lvl</td>\n",
       "      <td>AllPub</td>\n",
       "      <td>Inside</td>\n",
       "      <td>...</td>\n",
       "      <td>0</td>\n",
       "      <td>NaN</td>\n",
       "      <td>NaN</td>\n",
       "      <td>NaN</td>\n",
       "      <td>0</td>\n",
       "      <td>9</td>\n",
       "      <td>2008</td>\n",
       "      <td>WD</td>\n",
       "      <td>Normal</td>\n",
       "      <td>223500</td>\n",
       "    </tr>\n",
       "    <tr>\n",
       "      <th>3</th>\n",
       "      <td>70</td>\n",
       "      <td>RL</td>\n",
       "      <td>60.0</td>\n",
       "      <td>9550</td>\n",
       "      <td>Pave</td>\n",
       "      <td>NaN</td>\n",
       "      <td>IR1</td>\n",
       "      <td>Lvl</td>\n",
       "      <td>AllPub</td>\n",
       "      <td>Corner</td>\n",
       "      <td>...</td>\n",
       "      <td>0</td>\n",
       "      <td>NaN</td>\n",
       "      <td>NaN</td>\n",
       "      <td>NaN</td>\n",
       "      <td>0</td>\n",
       "      <td>2</td>\n",
       "      <td>2006</td>\n",
       "      <td>WD</td>\n",
       "      <td>Abnorml</td>\n",
       "      <td>140000</td>\n",
       "    </tr>\n",
       "    <tr>\n",
       "      <th>4</th>\n",
       "      <td>60</td>\n",
       "      <td>RL</td>\n",
       "      <td>84.0</td>\n",
       "      <td>14260</td>\n",
       "      <td>Pave</td>\n",
       "      <td>NaN</td>\n",
       "      <td>IR1</td>\n",
       "      <td>Lvl</td>\n",
       "      <td>AllPub</td>\n",
       "      <td>FR2</td>\n",
       "      <td>...</td>\n",
       "      <td>0</td>\n",
       "      <td>NaN</td>\n",
       "      <td>NaN</td>\n",
       "      <td>NaN</td>\n",
       "      <td>0</td>\n",
       "      <td>12</td>\n",
       "      <td>2008</td>\n",
       "      <td>WD</td>\n",
       "      <td>Normal</td>\n",
       "      <td>250000</td>\n",
       "    </tr>\n",
       "  </tbody>\n",
       "</table>\n",
       "<p>5 rows × 80 columns</p>\n",
       "</div>"
      ],
      "text/plain": [
       "   MSSubClass MSZoning  LotFrontage  LotArea Street Alley LotShape  \\\n",
       "0          60       RL         65.0     8450   Pave   NaN      Reg   \n",
       "1          20       RL         80.0     9600   Pave   NaN      Reg   \n",
       "2          60       RL         68.0    11250   Pave   NaN      IR1   \n",
       "3          70       RL         60.0     9550   Pave   NaN      IR1   \n",
       "4          60       RL         84.0    14260   Pave   NaN      IR1   \n",
       "\n",
       "  LandContour Utilities LotConfig  ... PoolArea PoolQC Fence MiscFeature  \\\n",
       "0         Lvl    AllPub    Inside  ...        0    NaN   NaN         NaN   \n",
       "1         Lvl    AllPub       FR2  ...        0    NaN   NaN         NaN   \n",
       "2         Lvl    AllPub    Inside  ...        0    NaN   NaN         NaN   \n",
       "3         Lvl    AllPub    Corner  ...        0    NaN   NaN         NaN   \n",
       "4         Lvl    AllPub       FR2  ...        0    NaN   NaN         NaN   \n",
       "\n",
       "  MiscVal MoSold  YrSold  SaleType  SaleCondition  SalePrice  \n",
       "0       0      2    2008        WD         Normal     208500  \n",
       "1       0      5    2007        WD         Normal     181500  \n",
       "2       0      9    2008        WD         Normal     223500  \n",
       "3       0      2    2006        WD        Abnorml     140000  \n",
       "4       0     12    2008        WD         Normal     250000  \n",
       "\n",
       "[5 rows x 80 columns]"
      ]
     },
     "execution_count": 1,
     "metadata": {},
     "output_type": "execute_result"
    }
   ],
   "source": [
    "import pandas as pd\n",
    "\n",
    "TEST = '/kaggle/input/house-prices-advanced-regression-techniques/test.csv'\n",
    "TRAIN = '/kaggle/input/house-prices-advanced-regression-techniques/train.csv'\n",
    "\n",
    "test_raw_df = pd.read_csv(filepath_or_buffer=TEST, )\n",
    "submission_df = test_raw_df[['Id']]\n",
    "test_raw_df = test_raw_df.drop(columns=['Id'])\n",
    "train_raw_df = pd.read_csv(filepath_or_buffer=TRAIN, ).drop(columns=['Id'])\n",
    "train_raw_df.head()"
   ]
  },
  {
   "cell_type": "markdown",
   "id": "a5004c91",
   "metadata": {
    "papermill": {
     "duration": 0.006002,
     "end_time": "2024-05-15T16:10:46.820456",
     "exception": false,
     "start_time": "2024-05-15T16:10:46.814454",
     "status": "completed"
    },
    "tags": []
   },
   "source": [
    "Can we improve results by removing target value outliers from our training data?"
   ]
  },
  {
   "cell_type": "code",
   "execution_count": 2,
   "id": "59e5e71f",
   "metadata": {
    "execution": {
     "iopub.execute_input": "2024-05-15T16:10:46.832365Z",
     "iopub.status.busy": "2024-05-15T16:10:46.831975Z",
     "iopub.status.idle": "2024-05-15T16:10:49.251293Z",
     "shell.execute_reply": "2024-05-15T16:10:49.250244Z"
    },
    "papermill": {
     "duration": 2.427979,
     "end_time": "2024-05-15T16:10:49.253632",
     "exception": false,
     "start_time": "2024-05-15T16:10:46.825653",
     "status": "completed"
    },
    "tags": []
   },
   "outputs": [
    {
     "data": {
      "text/html": [
       "        <script type=\"text/javascript\">\n",
       "        window.PlotlyConfig = {MathJaxConfig: 'local'};\n",
       "        if (window.MathJax && window.MathJax.Hub && window.MathJax.Hub.Config) {window.MathJax.Hub.Config({SVG: {font: \"STIX-Web\"}});}\n",
       "        if (typeof require !== 'undefined') {\n",
       "        require.undef(\"plotly\");\n",
       "        requirejs.config({\n",
       "            paths: {\n",
       "                'plotly': ['https://cdn.plot.ly/plotly-2.27.0.min']\n",
       "            }\n",
       "        });\n",
       "        require(['plotly'], function(Plotly) {\n",
       "            window._Plotly = Plotly;\n",
       "        });\n",
       "        }\n",
       "        </script>\n",
       "        "
      ]
     },
     "metadata": {},
     "output_type": "display_data"
    },
    {
     "data": {
      "text/html": [
       "<div>                            <div id=\"2778c5c9-6907-4666-b15c-049e700c9cf3\" class=\"plotly-graph-div\" style=\"height:525px; width:100%;\"></div>            <script type=\"text/javascript\">                require([\"plotly\"], function(Plotly) {                    window.PLOTLYENV=window.PLOTLYENV || {};                                    if (document.getElementById(\"2778c5c9-6907-4666-b15c-049e700c9cf3\")) {                    Plotly.newPlot(                        \"2778c5c9-6907-4666-b15c-049e700c9cf3\",                        [{\"alignmentgroup\":\"True\",\"bingroup\":\"x\",\"hovertemplate\":\"SalePrice=%{x}\\u003cbr\\u003ecount=%{y}\\u003cextra\\u003e\\u003c\\u002fextra\\u003e\",\"legendgroup\":\"\",\"marker\":{\"color\":\"#636efa\",\"pattern\":{\"shape\":\"\"}},\"name\":\"\",\"offsetgroup\":\"\",\"orientation\":\"v\",\"showlegend\":false,\"x\":[208500,181500,223500,140000,250000,143000,307000,200000,129900,118000,129500,345000,144000,279500,157000,132000,149000,90000,159000,139000,325300,139400,230000,129900,154000,256300,134800,306000,207500,68500,40000,149350,179900,165500,277500,309000,145000,153000,109000,82000,160000,170000,144000,130250,141000,319900,239686,249700,113000,127000,177000,114500,110000,385000,130000,180500,172500,196500,438780,124900,158000,101000,202500,140000,219500,317000,180000,226000,80000,225000,244000,129500,185000,144900,107400,91000,135750,127000,136500,110000,193500,153500,245000,126500,168500,260000,174000,164500,85000,123600,109900,98600,163500,133900,204750,185000,214000,94750,83000,128950,205000,178000,118964,198900,169500,250000,100000,115000,115000,190000,136900,180000,383970,217000,259500,176000,139000,155000,320000,163990,180000,100000,136000,153900,181000,84500,128000,87000,155000,150000,226000,244000,150750,220000,180000,174000,143000,171000,230000,231500,115000,260000,166000,204000,125000,130000,105000,222500,141000,115000,122000,372402,190000,235000,125000,79000,109500,269500,254900,320000,162500,412500,220000,103200,152000,127500,190000,325624,183500,228000,128500,215000,239000,163000,184000,243000,211000,172500,501837,100000,177000,200100,120000,200000,127000,475000,173000,135000,153337,286000,315000,184000,192000,130000,127000,148500,311872,235000,104000,274900,140000,171500,112000,149000,110000,180500,143900,141000,277000,145000,98000,186000,252678,156000,161750,134450,210000,107000,311500,167240,204900,200000,179900,97000,386250,112000,290000,106000,125000,192500,148000,403000,94500,128200,216500,89500,185500,194500,318000,113000,262500,110500,79000,120000,205000,241500,137000,140000,180000,277000,76500,235000,173000,158000,145000,230000,207500,220000,231500,97000,176000,276000,151000,130000,73000,175500,185000,179500,120500,148000,266000,241500,290000,139000,124500,205000,201000,141000,415298,192000,228500,185000,207500,244600,179200,164700,159000,88000,122000,153575,233230,135900,131000,235000,167000,142500,152000,239000,175000,158500,157000,267000,205000,149900,295000,305900,225000,89500,82500,360000,165600,132000,119900,375000,178000,188500,260000,270000,260000,187500,342643,354000,301000,126175,242000,87000,324000,145250,214500,78000,119000,139000,284000,207000,192000,228950,377426,214000,202500,155000,202900,82000,87500,266000,85000,140200,151500,157500,154000,437154,318061,190000,95000,105900,140000,177500,173000,134000,130000,280000,156000,145000,198500,118000,190000,147000,159000,165000,132000,162000,172400,134432,125000,123000,219500,61000,148000,340000,394432,179000,127000,187750,213500,76000,240000,192000,81000,125000,191000,426000,119000,215000,106500,100000,109000,129000,123000,169500,67000,241000,245500,164990,108000,258000,168000,150000,115000,177000,280000,339750,60000,145000,222000,115000,228000,181134,149500,239000,126000,142000,206300,215000,113000,315000,139000,135000,275000,109008,195400,175000,85400,79900,122500,181000,81000,212000,116000,119000,90350,110000,555000,118000,162900,172500,210000,127500,190000,199900,119500,120000,110000,280000,204000,210000,188000,175500,98000,256000,161000,110000,263435,155000,62383,188700,124000,178740,167000,146500,250000,187000,212000,190000,148000,440000,251000,132500,208900,380000,297000,89471,326000,374000,155000,164000,132500,147000,156000,175000,160000,86000,115000,133000,172785,155000,91300,34900,430000,184000,130000,120000,113000,226700,140000,289000,147000,124500,215000,208300,161000,124500,164900,202665,129900,134000,96500,402861,158000,265000,211000,234000,106250,150000,159000,184750,315750,176000,132000,446261,86000,200624,175000,128000,107500,39300,178000,107500,188000,111250,158000,272000,315000,248000,213250,133000,179665,229000,210000,129500,125000,263000,140000,112500,255500,108000,284000,113000,141000,108000,175000,234000,121500,170000,108000,185000,268000,128000,325000,214000,316600,135960,142600,120000,224500,170000,139000,118500,145000,164500,146000,131500,181900,253293,118500,325000,133000,369900,130000,137000,143000,79500,185900,451950,138000,140000,110000,319000,114504,194201,217500,151000,275000,141000,220000,151000,221000,205000,152000,225000,359100,118500,313000,148000,261500,147000,75500,137500,183200,105500,314813,305000,67000,240000,135000,168500,165150,160000,139900,153000,135000,168500,124000,209500,82500,139400,144000,200000,60000,93000,85000,264561,274000,226000,345000,152000,370878,143250,98300,155000,155000,84500,205950,108000,191000,135000,350000,88000,145500,149000,97500,167000,197900,402000,110000,137500,423000,230500,129000,193500,168000,137500,173500,103600,165000,257500,140000,148500,87000,109500,372500,128500,143000,159434,173000,285000,221000,207500,227875,148800,392000,194700,141000,755000,335000,108480,141500,176000,89000,123500,138500,196000,312500,140000,361919,140000,213000,55000,302000,254000,179540,109900,52000,102776,189000,129000,130500,165000,159500,157000,341000,128500,275000,143000,124500,135000,320000,120500,222000,194500,110000,103000,236500,187500,222500,131400,108000,163000,93500,239900,179000,190000,132000,142000,179000,175000,180000,299800,236000,265979,260400,98000,96500,162000,217000,275500,156000,172500,212000,158900,179400,290000,127500,100000,215200,337000,270000,264132,196500,160000,216837,538000,134900,102000,107000,114500,395000,162000,221500,142500,144000,135000,176000,175900,187100,165500,128000,161500,139000,233000,107900,187500,160200,146800,269790,225000,194500,171000,143500,110000,485000,175000,200000,109900,189000,582933,118000,227680,135500,223500,159950,106000,181000,144500,55993,157900,116000,224900,137000,271000,155000,224000,183000,93000,225000,139500,232600,385000,109500,189000,185000,147400,166000,151000,237000,167000,139950,128000,153500,100000,144000,130500,140000,157500,174900,141000,153900,171000,213000,133500,240000,187000,131500,215000,164000,158000,170000,127000,147000,174000,152000,250000,189950,131500,152000,132500,250580,148500,248900,129000,169000,236000,109500,200500,116000,133000,66500,303477,132250,350000,148000,136500,157000,187500,178000,118500,100000,328900,145000,135500,268000,149500,122900,172500,154500,165000,118858,140000,106500,142953,611657,135000,110000,153000,180000,240000,125500,128000,255000,250000,131000,174000,154300,143500,88000,145000,173733,75000,35311,135000,238000,176500,201000,145900,169990,193000,207500,175000,285000,176000,236500,222000,201000,117500,320000,190000,242000,79900,184900,253000,239799,244400,150900,214000,150000,143000,137500,124900,143000,270000,192500,197500,129000,119900,133900,172000,127500,145000,124000,132000,185000,155000,116500,272000,155000,239000,214900,178900,160000,135000,37900,140000,135000,173000,99500,182000,167500,165000,85500,199900,110000,139000,178400,336000,159895,255900,126000,125000,117000,395192,195000,197000,348000,168000,187000,173900,337500,121600,136500,185000,91000,206000,82000,86000,232000,136905,181000,149900,163500,88000,240000,102000,135000,100000,165000,85000,119200,227000,203000,187500,160000,213490,176000,194000,87000,191000,287000,112500,167500,293077,105000,118000,160000,197000,310000,230000,119750,84000,315500,287000,97000,80000,155000,173000,196000,262280,278000,139600,556581,145000,115000,84900,176485,200141,165000,144500,255000,180000,185850,248000,335000,220000,213500,81000,90000,110500,154000,328000,178000,167900,151400,135000,135000,154000,91500,159500,194000,219500,170000,138800,155900,126000,145000,133000,192000,160000,187500,147000,83500,252000,137500,197000,92900,160000,136500,146000,129000,176432,127000,170000,128000,157000,60000,119500,135000,159500,106000,325000,179900,274725,181000,280000,188000,205000,129900,134500,117000,318000,184100,130000,140000,133700,118400,212900,112000,118000,163900,115000,174000,259000,215000,140000,135000,93500,117500,239500,169000,102000,119000,94000,196000,144000,139000,197500,424870,80000,80000,149000,180000,174500,116900,143000,124000,149900,230000,120500,201800,218000,179900,230000,235128,185000,146000,224000,129000,108959,194000,233170,245350,173000,235000,625000,171000,163000,171900,200500,239000,285000,119500,115000,154900,93000,250000,392500,745000,120000,186700,104900,95000,262000,195000,189000,168000,174000,125000,165000,158000,176000,219210,144000,178000,148000,116050,197900,117000,213000,153500,271900,107000,200000,140000,290000,189000,164000,113000,145000,134500,125000,112000,229456,80500,91500,115000,134000,143000,137900,184000,145000,214000,147000,367294,127000,190000,132500,101800,142000,130000,138887,175500,195000,142500,265900,224900,248328,170000,465000,230000,178000,186500,169900,129500,119000,244000,171750,130000,294000,165400,127500,301500,99900,190000,151000,181000,128900,161500,180500,181000,183900,122000,378500,381000,144000,260000,185750,137000,177000,139000,137000,162000,197900,237000,68400,227000,180000,150500,139000,169000,132500,143000,190000,278000,281000,180500,119500,107500,162900,115000,138500,155000,140000,160000,154000,225000,177500,290000,232000,130000,325000,202500,138000,147000,179200,335000,203000,302000,333168,119000,206900,295493,208900,275000,111000,156500,72500,190000,82500,147000,55000,79000,130500,256000,176500,227000,132500,100000,125500,125000,167900,135000,52500,200000,128500,123000,155000,228500,177000,155835,108500,262500,283463,215000,122000,200000,171000,134900,410000,235000,170000,110000,149900,177500,315000,189000,260000,104900,156932,144152,216000,193000,127000,144000,232000,105000,165500,274300,466500,250000,239000,91000,117000,83000,167500,58500,237500,157000,112000,105000,125500,250000,136000,377500,131000,235000,124000,123000,163000,246578,281213,160000,137500,138000,137450,120000,193000,193879,282922,105000,275000,133000,112000,125500,215000,230000,140000,90000,257000,207000,175900,122500,340000,124000,223000,179900,127500,136500,274970,144000,142000,271000,140000,119000,182900,192140,143750,64500,186500,160000,174000,120500,394617,149700,197000,191000,149300,310000,121000,179600,129000,157900,240000,112000,92000,136000,287090,145000,84500,185000,175000,210000,266500,142125,147500],\"xaxis\":\"x\",\"yaxis\":\"y\",\"type\":\"histogram\"}],                        {\"template\":{\"data\":{\"histogram2dcontour\":[{\"type\":\"histogram2dcontour\",\"colorbar\":{\"outlinewidth\":0,\"ticks\":\"\"},\"colorscale\":[[0.0,\"#0d0887\"],[0.1111111111111111,\"#46039f\"],[0.2222222222222222,\"#7201a8\"],[0.3333333333333333,\"#9c179e\"],[0.4444444444444444,\"#bd3786\"],[0.5555555555555556,\"#d8576b\"],[0.6666666666666666,\"#ed7953\"],[0.7777777777777778,\"#fb9f3a\"],[0.8888888888888888,\"#fdca26\"],[1.0,\"#f0f921\"]]}],\"choropleth\":[{\"type\":\"choropleth\",\"colorbar\":{\"outlinewidth\":0,\"ticks\":\"\"}}],\"histogram2d\":[{\"type\":\"histogram2d\",\"colorbar\":{\"outlinewidth\":0,\"ticks\":\"\"},\"colorscale\":[[0.0,\"#0d0887\"],[0.1111111111111111,\"#46039f\"],[0.2222222222222222,\"#7201a8\"],[0.3333333333333333,\"#9c179e\"],[0.4444444444444444,\"#bd3786\"],[0.5555555555555556,\"#d8576b\"],[0.6666666666666666,\"#ed7953\"],[0.7777777777777778,\"#fb9f3a\"],[0.8888888888888888,\"#fdca26\"],[1.0,\"#f0f921\"]]}],\"heatmap\":[{\"type\":\"heatmap\",\"colorbar\":{\"outlinewidth\":0,\"ticks\":\"\"},\"colorscale\":[[0.0,\"#0d0887\"],[0.1111111111111111,\"#46039f\"],[0.2222222222222222,\"#7201a8\"],[0.3333333333333333,\"#9c179e\"],[0.4444444444444444,\"#bd3786\"],[0.5555555555555556,\"#d8576b\"],[0.6666666666666666,\"#ed7953\"],[0.7777777777777778,\"#fb9f3a\"],[0.8888888888888888,\"#fdca26\"],[1.0,\"#f0f921\"]]}],\"heatmapgl\":[{\"type\":\"heatmapgl\",\"colorbar\":{\"outlinewidth\":0,\"ticks\":\"\"},\"colorscale\":[[0.0,\"#0d0887\"],[0.1111111111111111,\"#46039f\"],[0.2222222222222222,\"#7201a8\"],[0.3333333333333333,\"#9c179e\"],[0.4444444444444444,\"#bd3786\"],[0.5555555555555556,\"#d8576b\"],[0.6666666666666666,\"#ed7953\"],[0.7777777777777778,\"#fb9f3a\"],[0.8888888888888888,\"#fdca26\"],[1.0,\"#f0f921\"]]}],\"contourcarpet\":[{\"type\":\"contourcarpet\",\"colorbar\":{\"outlinewidth\":0,\"ticks\":\"\"}}],\"contour\":[{\"type\":\"contour\",\"colorbar\":{\"outlinewidth\":0,\"ticks\":\"\"},\"colorscale\":[[0.0,\"#0d0887\"],[0.1111111111111111,\"#46039f\"],[0.2222222222222222,\"#7201a8\"],[0.3333333333333333,\"#9c179e\"],[0.4444444444444444,\"#bd3786\"],[0.5555555555555556,\"#d8576b\"],[0.6666666666666666,\"#ed7953\"],[0.7777777777777778,\"#fb9f3a\"],[0.8888888888888888,\"#fdca26\"],[1.0,\"#f0f921\"]]}],\"surface\":[{\"type\":\"surface\",\"colorbar\":{\"outlinewidth\":0,\"ticks\":\"\"},\"colorscale\":[[0.0,\"#0d0887\"],[0.1111111111111111,\"#46039f\"],[0.2222222222222222,\"#7201a8\"],[0.3333333333333333,\"#9c179e\"],[0.4444444444444444,\"#bd3786\"],[0.5555555555555556,\"#d8576b\"],[0.6666666666666666,\"#ed7953\"],[0.7777777777777778,\"#fb9f3a\"],[0.8888888888888888,\"#fdca26\"],[1.0,\"#f0f921\"]]}],\"mesh3d\":[{\"type\":\"mesh3d\",\"colorbar\":{\"outlinewidth\":0,\"ticks\":\"\"}}],\"scatter\":[{\"fillpattern\":{\"fillmode\":\"overlay\",\"size\":10,\"solidity\":0.2},\"type\":\"scatter\"}],\"parcoords\":[{\"type\":\"parcoords\",\"line\":{\"colorbar\":{\"outlinewidth\":0,\"ticks\":\"\"}}}],\"scatterpolargl\":[{\"type\":\"scatterpolargl\",\"marker\":{\"colorbar\":{\"outlinewidth\":0,\"ticks\":\"\"}}}],\"bar\":[{\"error_x\":{\"color\":\"#2a3f5f\"},\"error_y\":{\"color\":\"#2a3f5f\"},\"marker\":{\"line\":{\"color\":\"#E5ECF6\",\"width\":0.5},\"pattern\":{\"fillmode\":\"overlay\",\"size\":10,\"solidity\":0.2}},\"type\":\"bar\"}],\"scattergeo\":[{\"type\":\"scattergeo\",\"marker\":{\"colorbar\":{\"outlinewidth\":0,\"ticks\":\"\"}}}],\"scatterpolar\":[{\"type\":\"scatterpolar\",\"marker\":{\"colorbar\":{\"outlinewidth\":0,\"ticks\":\"\"}}}],\"histogram\":[{\"marker\":{\"pattern\":{\"fillmode\":\"overlay\",\"size\":10,\"solidity\":0.2}},\"type\":\"histogram\"}],\"scattergl\":[{\"type\":\"scattergl\",\"marker\":{\"colorbar\":{\"outlinewidth\":0,\"ticks\":\"\"}}}],\"scatter3d\":[{\"type\":\"scatter3d\",\"line\":{\"colorbar\":{\"outlinewidth\":0,\"ticks\":\"\"}},\"marker\":{\"colorbar\":{\"outlinewidth\":0,\"ticks\":\"\"}}}],\"scattermapbox\":[{\"type\":\"scattermapbox\",\"marker\":{\"colorbar\":{\"outlinewidth\":0,\"ticks\":\"\"}}}],\"scatterternary\":[{\"type\":\"scatterternary\",\"marker\":{\"colorbar\":{\"outlinewidth\":0,\"ticks\":\"\"}}}],\"scattercarpet\":[{\"type\":\"scattercarpet\",\"marker\":{\"colorbar\":{\"outlinewidth\":0,\"ticks\":\"\"}}}],\"carpet\":[{\"aaxis\":{\"endlinecolor\":\"#2a3f5f\",\"gridcolor\":\"white\",\"linecolor\":\"white\",\"minorgridcolor\":\"white\",\"startlinecolor\":\"#2a3f5f\"},\"baxis\":{\"endlinecolor\":\"#2a3f5f\",\"gridcolor\":\"white\",\"linecolor\":\"white\",\"minorgridcolor\":\"white\",\"startlinecolor\":\"#2a3f5f\"},\"type\":\"carpet\"}],\"table\":[{\"cells\":{\"fill\":{\"color\":\"#EBF0F8\"},\"line\":{\"color\":\"white\"}},\"header\":{\"fill\":{\"color\":\"#C8D4E3\"},\"line\":{\"color\":\"white\"}},\"type\":\"table\"}],\"barpolar\":[{\"marker\":{\"line\":{\"color\":\"#E5ECF6\",\"width\":0.5},\"pattern\":{\"fillmode\":\"overlay\",\"size\":10,\"solidity\":0.2}},\"type\":\"barpolar\"}],\"pie\":[{\"automargin\":true,\"type\":\"pie\"}]},\"layout\":{\"autotypenumbers\":\"strict\",\"colorway\":[\"#636efa\",\"#EF553B\",\"#00cc96\",\"#ab63fa\",\"#FFA15A\",\"#19d3f3\",\"#FF6692\",\"#B6E880\",\"#FF97FF\",\"#FECB52\"],\"font\":{\"color\":\"#2a3f5f\"},\"hovermode\":\"closest\",\"hoverlabel\":{\"align\":\"left\"},\"paper_bgcolor\":\"white\",\"plot_bgcolor\":\"#E5ECF6\",\"polar\":{\"bgcolor\":\"#E5ECF6\",\"angularaxis\":{\"gridcolor\":\"white\",\"linecolor\":\"white\",\"ticks\":\"\"},\"radialaxis\":{\"gridcolor\":\"white\",\"linecolor\":\"white\",\"ticks\":\"\"}},\"ternary\":{\"bgcolor\":\"#E5ECF6\",\"aaxis\":{\"gridcolor\":\"white\",\"linecolor\":\"white\",\"ticks\":\"\"},\"baxis\":{\"gridcolor\":\"white\",\"linecolor\":\"white\",\"ticks\":\"\"},\"caxis\":{\"gridcolor\":\"white\",\"linecolor\":\"white\",\"ticks\":\"\"}},\"coloraxis\":{\"colorbar\":{\"outlinewidth\":0,\"ticks\":\"\"}},\"colorscale\":{\"sequential\":[[0.0,\"#0d0887\"],[0.1111111111111111,\"#46039f\"],[0.2222222222222222,\"#7201a8\"],[0.3333333333333333,\"#9c179e\"],[0.4444444444444444,\"#bd3786\"],[0.5555555555555556,\"#d8576b\"],[0.6666666666666666,\"#ed7953\"],[0.7777777777777778,\"#fb9f3a\"],[0.8888888888888888,\"#fdca26\"],[1.0,\"#f0f921\"]],\"sequentialminus\":[[0.0,\"#0d0887\"],[0.1111111111111111,\"#46039f\"],[0.2222222222222222,\"#7201a8\"],[0.3333333333333333,\"#9c179e\"],[0.4444444444444444,\"#bd3786\"],[0.5555555555555556,\"#d8576b\"],[0.6666666666666666,\"#ed7953\"],[0.7777777777777778,\"#fb9f3a\"],[0.8888888888888888,\"#fdca26\"],[1.0,\"#f0f921\"]],\"diverging\":[[0,\"#8e0152\"],[0.1,\"#c51b7d\"],[0.2,\"#de77ae\"],[0.3,\"#f1b6da\"],[0.4,\"#fde0ef\"],[0.5,\"#f7f7f7\"],[0.6,\"#e6f5d0\"],[0.7,\"#b8e186\"],[0.8,\"#7fbc41\"],[0.9,\"#4d9221\"],[1,\"#276419\"]]},\"xaxis\":{\"gridcolor\":\"white\",\"linecolor\":\"white\",\"ticks\":\"\",\"title\":{\"standoff\":15},\"zerolinecolor\":\"white\",\"automargin\":true,\"zerolinewidth\":2},\"yaxis\":{\"gridcolor\":\"white\",\"linecolor\":\"white\",\"ticks\":\"\",\"title\":{\"standoff\":15},\"zerolinecolor\":\"white\",\"automargin\":true,\"zerolinewidth\":2},\"scene\":{\"xaxis\":{\"backgroundcolor\":\"#E5ECF6\",\"gridcolor\":\"white\",\"linecolor\":\"white\",\"showbackground\":true,\"ticks\":\"\",\"zerolinecolor\":\"white\",\"gridwidth\":2},\"yaxis\":{\"backgroundcolor\":\"#E5ECF6\",\"gridcolor\":\"white\",\"linecolor\":\"white\",\"showbackground\":true,\"ticks\":\"\",\"zerolinecolor\":\"white\",\"gridwidth\":2},\"zaxis\":{\"backgroundcolor\":\"#E5ECF6\",\"gridcolor\":\"white\",\"linecolor\":\"white\",\"showbackground\":true,\"ticks\":\"\",\"zerolinecolor\":\"white\",\"gridwidth\":2}},\"shapedefaults\":{\"line\":{\"color\":\"#2a3f5f\"}},\"annotationdefaults\":{\"arrowcolor\":\"#2a3f5f\",\"arrowhead\":0,\"arrowwidth\":1},\"geo\":{\"bgcolor\":\"white\",\"landcolor\":\"#E5ECF6\",\"subunitcolor\":\"white\",\"showland\":true,\"showlakes\":true,\"lakecolor\":\"white\"},\"title\":{\"x\":0.05},\"mapbox\":{\"style\":\"light\"}}},\"xaxis\":{\"anchor\":\"y\",\"domain\":[0.0,1.0],\"title\":{\"text\":\"SalePrice\"}},\"yaxis\":{\"anchor\":\"x\",\"domain\":[0.0,1.0],\"title\":{\"text\":\"count\"}},\"legend\":{\"tracegroupgap\":0},\"margin\":{\"t\":60},\"barmode\":\"relative\"},                        {\"responsive\": true}                    ).then(function(){\n",
       "                            \n",
       "var gd = document.getElementById('2778c5c9-6907-4666-b15c-049e700c9cf3');\n",
       "var x = new MutationObserver(function (mutations, observer) {{\n",
       "        var display = window.getComputedStyle(gd).display;\n",
       "        if (!display || display === 'none') {{\n",
       "            console.log([gd, 'removed!']);\n",
       "            Plotly.purge(gd);\n",
       "            observer.disconnect();\n",
       "        }}\n",
       "}});\n",
       "\n",
       "// Listen for the removal of the full notebook cells\n",
       "var notebookContainer = gd.closest('#notebook-container');\n",
       "if (notebookContainer) {{\n",
       "    x.observe(notebookContainer, {childList: true});\n",
       "}}\n",
       "\n",
       "// Listen for the clearing of the current output cell\n",
       "var outputEl = gd.closest('.output');\n",
       "if (outputEl) {{\n",
       "    x.observe(outputEl, {childList: true});\n",
       "}}\n",
       "\n",
       "                        })                };                });            </script>        </div>"
      ]
     },
     "metadata": {},
     "output_type": "display_data"
    }
   ],
   "source": [
    "from plotly import express\n",
    "\n",
    "express.histogram(data_frame=train_raw_df, x='SalePrice')"
   ]
  },
  {
   "cell_type": "markdown",
   "id": "dc01ebf3",
   "metadata": {
    "papermill": {
     "duration": 0.005613,
     "end_time": "2024-05-15T16:10:49.265318",
     "exception": false,
     "start_time": "2024-05-15T16:10:49.259705",
     "status": "completed"
    },
    "tags": []
   },
   "source": [
    "Here's our data processing pipeline; let's do as much of it as we can before we start comparing models."
   ]
  },
  {
   "cell_type": "code",
   "execution_count": 3,
   "id": "e3eb33d2",
   "metadata": {
    "execution": {
     "iopub.execute_input": "2024-05-15T16:10:49.278476Z",
     "iopub.status.busy": "2024-05-15T16:10:49.278071Z",
     "iopub.status.idle": "2024-05-15T16:10:50.648219Z",
     "shell.execute_reply": "2024-05-15T16:10:50.647109Z"
    },
    "papermill": {
     "duration": 1.380655,
     "end_time": "2024-05-15T16:10:50.651691",
     "exception": false,
     "start_time": "2024-05-15T16:10:49.271036",
     "status": "completed"
    },
    "tags": []
   },
   "outputs": [
    {
     "name": "stdout",
     "output_type": "stream",
     "text": [
      "(1460, 123) (1451, 123) (1459, 122)\n"
     ]
    }
   ],
   "source": [
    "from sklearn.impute import KNNImputer\n",
    "\n",
    "\n",
    "TARGET = 'SalePrice'\n",
    "keys = [key for key, value in train_raw_df.drop(columns=[TARGET]).dtypes.to_dict().items() if str(value) in {'int64', 'float64'}]\n",
    "COLUMNS = [key for key in keys if test_raw_df[key].isna().sum() == 0]\n",
    "\n",
    "# our imputing is a work in progress, and we think at the moment that we benefit from \n",
    "# using KNN imputing on these three columns is best\n",
    "knn_columns = [key for key in keys if 0 < test_raw_df[key].isna().sum() < 5]\n",
    "knn_columns = COLUMNS + ['BsmtFinSF1',  'BsmtUnfSF', 'TotalBsmtSF']\n",
    "\n",
    "imputer = KNNImputer()\n",
    "train_knn_df = pd.DataFrame(data=imputer.fit_transform(X=train_raw_df[knn_columns]), columns=knn_columns)\n",
    "test_knn_df = pd.DataFrame(data=imputer.transform(X=test_raw_df[knn_columns]), columns=knn_columns)\n",
    "\n",
    "# now get the dummies we want to bolt on\n",
    "other_columns = [column for column in test_raw_df.columns if column not in COLUMNS and column not in knn_columns and 0 == train_raw_df[column].isna().sum() and 0 == test_raw_df[column].isna().sum()]\n",
    "dummy_columns = [column for column in other_columns if column not in {'Condition2', 'Heating', 'HouseStyle', 'RoofMatl'}]\n",
    "\n",
    "train_dummies_df = pd.get_dummies(data=train_raw_df[dummy_columns])\n",
    "test_dummies_df = pd.get_dummies(data=test_raw_df[dummy_columns])\n",
    "\n",
    "train_df = pd.concat(axis='columns', objs=[train_knn_df, train_dummies_df,])\n",
    "train_df[TARGET] = train_raw_df[TARGET].tolist()\n",
    "\n",
    "# before we go let's remove some outliers\n",
    "with_outliers_shape = train_df.shape\n",
    "train_df = train_df[train_df[TARGET] < 500000]\n",
    "\n",
    "test_df = pd.concat(axis='columns', objs=[test_knn_df, test_dummies_df])\n",
    "print(with_outliers_shape, train_df.shape, test_df.shape)"
   ]
  },
  {
   "cell_type": "markdown",
   "id": "e90769b5",
   "metadata": {
    "papermill": {
     "duration": 0.005775,
     "end_time": "2024-05-15T16:10:50.663404",
     "exception": false,
     "start_time": "2024-05-15T16:10:50.657629",
     "status": "completed"
    },
    "tags": []
   },
   "source": [
    "The competition uses RMSE, so we need an RMSE metric."
   ]
  },
  {
   "cell_type": "code",
   "execution_count": 4,
   "id": "8ab08329",
   "metadata": {
    "execution": {
     "iopub.execute_input": "2024-05-15T16:10:50.676795Z",
     "iopub.status.busy": "2024-05-15T16:10:50.676016Z",
     "iopub.status.idle": "2024-05-15T16:10:50.681963Z",
     "shell.execute_reply": "2024-05-15T16:10:50.680929Z"
    },
    "papermill": {
     "duration": 0.015007,
     "end_time": "2024-05-15T16:10:50.684196",
     "exception": false,
     "start_time": "2024-05-15T16:10:50.669189",
     "status": "completed"
    },
    "tags": []
   },
   "outputs": [],
   "source": [
    "import numpy as np\n",
    "from sklearn.metrics import mean_squared_error\n",
    "\n",
    "def rmse(y_true, y_pred) -> float:\n",
    "    return mean_squared_error(squared=False, y_true=np.log(1 + y_true), y_pred=np.log(1 + y_pred))"
   ]
  },
  {
   "cell_type": "markdown",
   "id": "7b537b7f",
   "metadata": {
    "papermill": {
     "duration": 0.005395,
     "end_time": "2024-05-15T16:10:50.695488",
     "exception": false,
     "start_time": "2024-05-15T16:10:50.690093",
     "status": "completed"
    },
    "tags": []
   },
   "source": [
    "Let's spend some time tuning our ridge regression parameters:\n",
    "* alpha : l2 regularization strength\n",
    "\n",
    "Remember that we have learned elsewhere that our error metric is sensitive to the train/test split, so to fairly compare different alpha values we need to take the mean RMSE across a range of random state values.\n",
    "\n",
    "Let's also try tuning our "
   ]
  },
  {
   "cell_type": "code",
   "execution_count": 5,
   "id": "476b25fd",
   "metadata": {
    "execution": {
     "iopub.execute_input": "2024-05-15T16:10:50.708788Z",
     "iopub.status.busy": "2024-05-15T16:10:50.708418Z",
     "iopub.status.idle": "2024-05-15T19:54:44.317681Z",
     "shell.execute_reply": "2024-05-15T19:54:44.316674Z"
    },
    "papermill": {
     "duration": 13433.644046,
     "end_time": "2024-05-15T19:54:44.345347",
     "exception": false,
     "start_time": "2024-05-15T16:10:50.701301",
     "status": "completed"
    },
    "tags": []
   },
   "outputs": [
    {
     "name": "stdout",
     "output_type": "stream",
     "text": [
      "0.208637 : tree\n",
      "0.193577 : ridge alpha 15.5\n",
      "0.195130 : ridge alpha 16.0\n",
      "0.193754 : ridge alpha 16.5\n",
      "0.193755 : ridge alpha 17.0\n",
      "0.193329 : ridge alpha 17.5\n",
      "0.192628 : ridge alpha 18.0\n",
      "0.193705 : ridge alpha 18.5\n",
      "0.193171 : ridge alpha 19.0\n",
      "0.192063 : ridge alpha 19.5\n",
      "0.194017 : ridge alpha 20.0\n",
      "0.192632 : ridge alpha 20.5\n",
      "0.193605 : ridge alpha 21.0\n",
      "0.193779 : ridge alpha 21.5\n",
      "0.193666 : ridge alpha 22.0\n",
      "0.194019 : ridge alpha 22.5\n",
      "0.193042 : ridge alpha 23.0\n",
      "0.192960 : ridge alpha 23.5\n",
      "0.192825 : ridge alpha 24.0\n",
      "0.193263 : ridge alpha 24.5\n",
      "0.194568 : ridge alpha 25.0\n",
      "0.148999 : rf 10 estimators/squared_error\n",
      "0.152737 : rf 10 estimators/absolute_error\n",
      "0.147856 : rf 11 estimators/squared_error\n",
      "0.150890 : rf 11 estimators/absolute_error\n",
      "0.147565 : rf 12 estimators/squared_error\n",
      "0.150067 : rf 12 estimators/absolute_error\n",
      "0.147407 : rf 13 estimators/squared_error\n",
      "0.149253 : rf 13 estimators/absolute_error\n",
      "0.146981 : rf 14 estimators/squared_error\n",
      "0.148838 : rf 14 estimators/absolute_error\n",
      "0.146726 : rf 15 estimators/squared_error\n",
      "0.148743 : rf 15 estimators/absolute_error\n",
      "0.146600 : rf 16 estimators/squared_error\n",
      "0.148154 : rf 16 estimators/absolute_error\n",
      "0.146592 : rf 17 estimators/squared_error\n",
      "0.148308 : rf 17 estimators/absolute_error\n",
      "0.146366 : rf 18 estimators/squared_error\n",
      "0.147984 : rf 18 estimators/absolute_error\n",
      "0.146363 : rf 19 estimators/squared_error\n",
      "0.147865 : rf 19 estimators/absolute_error\n",
      "0.146087 : rf 20 estimators/squared_error\n",
      "0.147767 : rf 20 estimators/absolute_error\n",
      "0.145969 : rf 21 estimators/squared_error\n",
      "0.147461 : rf 21 estimators/absolute_error\n",
      "0.145721 : rf 22 estimators/squared_error\n",
      "0.147088 : rf 22 estimators/absolute_error\n",
      "0.145615 : rf 23 estimators/squared_error\n",
      "0.146830 : rf 23 estimators/absolute_error\n",
      "0.145440 : rf 24 estimators/squared_error\n",
      "0.146582 : rf 24 estimators/absolute_error\n",
      "0.145347 : rf 25 estimators/squared_error\n",
      "0.146589 : rf 25 estimators/absolute_error\n",
      "0.144839 : rf 26 estimators/squared_error\n",
      "0.146530 : rf 26 estimators/absolute_error\n",
      "0.144744 : rf 27 estimators/squared_error\n",
      "0.146318 : rf 27 estimators/absolute_error\n",
      "0.144561 : rf 28 estimators/squared_error\n",
      "0.146058 : rf 28 estimators/absolute_error\n",
      "0.144190 : rf 29 estimators/squared_error\n",
      "0.145889 : rf 29 estimators/absolute_error\n",
      "0.143988 : rf 30 estimators/squared_error\n",
      "0.146065 : rf 30 estimators/absolute_error\n",
      "0.144078 : rf 31 estimators/squared_error\n",
      "0.145971 : rf 31 estimators/absolute_error\n",
      "0.144146 : rf 32 estimators/squared_error\n",
      "0.145731 : rf 32 estimators/absolute_error\n",
      "0.144235 : rf 33 estimators/squared_error\n",
      "0.145632 : rf 33 estimators/absolute_error\n",
      "0.144099 : rf 34 estimators/squared_error\n",
      "0.145774 : rf 34 estimators/absolute_error\n",
      "0.144060 : rf 35 estimators/squared_error\n",
      "0.145883 : rf 35 estimators/absolute_error\n",
      "0.143906 : rf 36 estimators/squared_error\n",
      "0.145837 : rf 36 estimators/absolute_error\n",
      "0.143796 : rf 37 estimators/squared_error\n",
      "0.145855 : rf 37 estimators/absolute_error\n",
      "0.143640 : rf 38 estimators/squared_error\n",
      "0.145729 : rf 38 estimators/absolute_error\n",
      "0.143683 : rf 39 estimators/squared_error\n",
      "0.145666 : rf 39 estimators/absolute_error\n",
      "0.143551 : rf 40 estimators/squared_error\n",
      "0.145538 : rf 40 estimators/absolute_error\n",
      "0.143529 : rf 41 estimators/squared_error\n",
      "0.145497 : rf 41 estimators/absolute_error\n",
      "0.143290 : rf 42 estimators/squared_error\n",
      "0.145374 : rf 42 estimators/absolute_error\n",
      "0.143186 : rf 43 estimators/squared_error\n",
      "0.145433 : rf 43 estimators/absolute_error\n",
      "0.143252 : rf 44 estimators/squared_error\n",
      "0.145441 : rf 44 estimators/absolute_error\n",
      "0.143109 : rf 45 estimators/squared_error\n",
      "0.145367 : rf 45 estimators/absolute_error\n",
      "0.143045 : rf 46 estimators/squared_error\n",
      "0.145274 : rf 46 estimators/absolute_error\n",
      "0.143025 : rf 47 estimators/squared_error\n",
      "0.145248 : rf 47 estimators/absolute_error\n",
      "0.143057 : rf 48 estimators/squared_error\n",
      "0.145166 : rf 48 estimators/absolute_error\n",
      "0.142846 : rf 49 estimators/squared_error\n",
      "0.145089 : rf 49 estimators/absolute_error\n",
      "0.142831 : rf 50 estimators/squared_error\n",
      "0.145148 : rf 50 estimators/absolute_error\n",
      "0.142835 : rf 51 estimators/squared_error\n",
      "0.144997 : rf 51 estimators/absolute_error\n",
      "0.142805 : rf 52 estimators/squared_error\n",
      "0.144934 : rf 52 estimators/absolute_error\n",
      "0.142667 : rf 53 estimators/squared_error\n",
      "0.145043 : rf 53 estimators/absolute_error\n",
      "0.142562 : rf 54 estimators/squared_error\n",
      "0.144850 : rf 54 estimators/absolute_error\n",
      "0.142627 : rf 55 estimators/squared_error\n",
      "0.144995 : rf 55 estimators/absolute_error\n",
      "0.142598 : rf 56 estimators/squared_error\n",
      "0.144889 : rf 56 estimators/absolute_error\n",
      "0.142657 : rf 57 estimators/squared_error\n",
      "0.144898 : rf 57 estimators/absolute_error\n",
      "0.142646 : rf 58 estimators/squared_error\n",
      "0.144737 : rf 58 estimators/absolute_error\n",
      "0.142585 : rf 59 estimators/squared_error\n",
      "0.144717 : rf 59 estimators/absolute_error\n",
      "0.142511 : rf 60 estimators/squared_error\n",
      "0.144711 : rf 60 estimators/absolute_error\n",
      "0.142515 : rf 61 estimators/squared_error\n",
      "0.144664 : rf 61 estimators/absolute_error\n",
      "0.142574 : rf 62 estimators/squared_error\n",
      "0.144602 : rf 62 estimators/absolute_error\n",
      "0.142499 : rf 63 estimators/squared_error\n",
      "0.144450 : rf 63 estimators/absolute_error\n",
      "0.142547 : rf 64 estimators/squared_error\n",
      "0.144430 : rf 64 estimators/absolute_error\n",
      "0.142534 : rf 65 estimators/squared_error\n",
      "0.144509 : rf 65 estimators/absolute_error\n",
      "0.142591 : rf 66 estimators/squared_error\n",
      "0.144434 : rf 66 estimators/absolute_error\n",
      "0.142525 : rf 67 estimators/squared_error\n",
      "0.144420 : rf 67 estimators/absolute_error\n",
      "0.142547 : rf 68 estimators/squared_error\n",
      "0.144355 : rf 68 estimators/absolute_error\n",
      "0.142423 : rf 69 estimators/squared_error\n",
      "0.144296 : rf 69 estimators/absolute_error\n",
      "0.142441 : rf 70 estimators/squared_error\n",
      "0.144273 : rf 70 estimators/absolute_error\n",
      "0.142429 : rf 71 estimators/squared_error\n",
      "0.144336 : rf 71 estimators/absolute_error\n",
      "0.142524 : rf 72 estimators/squared_error\n",
      "0.144299 : rf 72 estimators/absolute_error\n",
      "0.142474 : rf 73 estimators/squared_error\n",
      "0.144213 : rf 73 estimators/absolute_error\n",
      "0.142532 : rf 74 estimators/squared_error\n",
      "0.144212 : rf 74 estimators/absolute_error\n",
      "0.142520 : rf 75 estimators/squared_error\n",
      "0.144295 : rf 75 estimators/absolute_error\n",
      "0.142506 : rf 76 estimators/squared_error\n",
      "0.144231 : rf 76 estimators/absolute_error\n",
      "0.142536 : rf 77 estimators/squared_error\n",
      "0.144095 : rf 77 estimators/absolute_error\n",
      "0.142574 : rf 78 estimators/squared_error\n",
      "0.143989 : rf 78 estimators/absolute_error\n",
      "0.142572 : rf 79 estimators/squared_error\n",
      "0.144022 : rf 79 estimators/absolute_error\n",
      "0.142601 : rf 80 estimators/squared_error\n",
      "0.144038 : rf 80 estimators/absolute_error\n",
      "0.142606 : rf 81 estimators/squared_error\n",
      "0.143959 : rf 81 estimators/absolute_error\n",
      "0.142526 : rf 82 estimators/squared_error\n",
      "0.143892 : rf 82 estimators/absolute_error\n",
      "0.142522 : rf 83 estimators/squared_error\n",
      "0.143870 : rf 83 estimators/absolute_error\n",
      "0.142465 : rf 84 estimators/squared_error\n",
      "0.143928 : rf 84 estimators/absolute_error\n",
      "0.142480 : rf 85 estimators/squared_error\n",
      "0.143895 : rf 85 estimators/absolute_error\n",
      "0.142547 : rf 86 estimators/squared_error\n",
      "0.143941 : rf 86 estimators/absolute_error\n",
      "0.142618 : rf 87 estimators/squared_error\n",
      "0.143980 : rf 87 estimators/absolute_error\n",
      "0.142638 : rf 88 estimators/squared_error\n",
      "0.143980 : rf 88 estimators/absolute_error\n",
      "0.142610 : rf 89 estimators/squared_error\n",
      "0.143898 : rf 89 estimators/absolute_error\n",
      "0.142604 : rf 90 estimators/squared_error\n",
      "0.143983 : rf 90 estimators/absolute_error\n",
      "0.142615 : rf 91 estimators/squared_error\n",
      "0.143994 : rf 91 estimators/absolute_error\n",
      "0.142634 : rf 92 estimators/squared_error\n",
      "0.143932 : rf 92 estimators/absolute_error\n",
      "0.142567 : rf 93 estimators/squared_error\n",
      "0.143872 : rf 93 estimators/absolute_error\n",
      "0.142587 : rf 94 estimators/squared_error\n",
      "0.143908 : rf 94 estimators/absolute_error\n",
      "0.142607 : rf 95 estimators/squared_error\n",
      "0.143826 : rf 95 estimators/absolute_error\n",
      "0.142585 : rf 96 estimators/squared_error\n",
      "0.143796 : rf 96 estimators/absolute_error\n",
      "0.142629 : rf 97 estimators/squared_error\n",
      "0.143865 : rf 97 estimators/absolute_error\n",
      "0.142617 : rf 98 estimators/squared_error\n",
      "0.143809 : rf 98 estimators/absolute_error\n",
      "0.142632 : rf 99 estimators/squared_error\n",
      "0.143838 : rf 99 estimators/absolute_error\n",
      "0.142572 : rf 100 estimators/squared_error\n",
      "0.143762 : rf 100 estimators/absolute_error\n",
      "0.142540 : rf 101 estimators/squared_error\n",
      "0.143729 : rf 101 estimators/absolute_error\n",
      "0.142516 : rf 102 estimators/squared_error\n",
      "0.143730 : rf 102 estimators/absolute_error\n",
      "0.142501 : rf 103 estimators/squared_error\n",
      "0.143741 : rf 103 estimators/absolute_error\n",
      "0.142503 : rf 104 estimators/squared_error\n",
      "0.143775 : rf 104 estimators/absolute_error\n",
      "0.142519 : rf 105 estimators/squared_error\n",
      "0.143726 : rf 105 estimators/absolute_error\n",
      "0.142517 : rf 106 estimators/squared_error\n",
      "0.143715 : rf 106 estimators/absolute_error\n",
      "0.142458 : rf 107 estimators/squared_error\n",
      "0.143733 : rf 107 estimators/absolute_error\n",
      "0.142455 : rf 108 estimators/squared_error\n",
      "0.143664 : rf 108 estimators/absolute_error\n",
      "0.142438 : rf 109 estimators/squared_error\n",
      "0.143647 : rf 109 estimators/absolute_error\n",
      "0.142414 : rf 110 estimators/squared_error\n",
      "0.143615 : rf 110 estimators/absolute_error\n",
      "0.142448 : rf 111 estimators/squared_error\n",
      "0.143571 : rf 111 estimators/absolute_error\n",
      "0.142392 : rf 112 estimators/squared_error\n",
      "0.143638 : rf 112 estimators/absolute_error\n",
      "0.142370 : rf 113 estimators/squared_error\n",
      "0.143603 : rf 113 estimators/absolute_error\n",
      "0.142308 : rf 114 estimators/squared_error\n",
      "0.143640 : rf 114 estimators/absolute_error\n",
      "0.142364 : rf 115 estimators/squared_error\n",
      "0.143589 : rf 115 estimators/absolute_error\n",
      "0.142415 : rf 116 estimators/squared_error\n",
      "0.143646 : rf 116 estimators/absolute_error\n",
      "0.142400 : rf 117 estimators/squared_error\n",
      "0.143683 : rf 117 estimators/absolute_error\n",
      "0.142428 : rf 118 estimators/squared_error\n",
      "0.143665 : rf 118 estimators/absolute_error\n",
      "0.142392 : rf 119 estimators/squared_error\n",
      "0.143666 : rf 119 estimators/absolute_error\n",
      "0.142409 : rf 120 estimators/squared_error\n",
      "0.143703 : rf 120 estimators/absolute_error\n"
     ]
    }
   ],
   "source": [
    "import numpy as np\n",
    "from sklearn.ensemble import RandomForestRegressor\n",
    "from sklearn.linear_model import Ridge\n",
    "from sklearn.model_selection import train_test_split\n",
    "from sklearn.svm import SVR\n",
    "from sklearn.tree import DecisionTreeRegressor\n",
    "\n",
    "\n",
    "CRITERION = 'absolute_error'\n",
    "MODELS = {\n",
    "    'tree' : DecisionTreeRegressor(criterion=CRITERION, splitter='best', max_depth=None, min_samples_split=2, min_samples_leaf=1,\n",
    "                             min_weight_fraction_leaf=0.0, max_features=None, random_state=2024, max_leaf_nodes=None,\n",
    "                             min_impurity_decrease=0.0, ccp_alpha=0.0, ),\n",
    "}\n",
    "\n",
    "# load up the alpha parameter study\n",
    "for ialpha in range(30, 50):\n",
    "    alpha = (1 + ialpha) / 2.0\n",
    "    MODELS['ridge alpha {}'.format(alpha)] = Ridge(alpha=alpha, tol=1e-4, random_state=2024, max_iter=10000, positive=True, solver='lbfgs')\n",
    "\n",
    "# load up the random forest estimator count study\n",
    "for n_estimators in range(10, 121):\n",
    "    name = 'rf {} estimators/squared_error'.format(n_estimators)\n",
    "    MODELS[name] = RandomForestRegressor(random_state=2024, n_estimators=n_estimators, criterion = 'squared_error')\n",
    "    name = 'rf {} estimators/absolute_error'.format(n_estimators)\n",
    "    MODELS[name] = RandomForestRegressor(random_state=2024, n_estimators=n_estimators, criterion = 'absolute_error')\n",
    "    \n",
    "mean_scores = []\n",
    "for name, model in MODELS.items():\n",
    "    scores = []\n",
    "    for random_state in range(10):\n",
    "        X_train, X_test, y_train, y_test = train_test_split(train_df.drop(columns=[TARGET]), train_df[TARGET], test_size=0.20, random_state=random_state)\n",
    "        try:\n",
    "            model.fit(X=X_train, y=y_train)\n",
    "            score = rmse(y_true=y_test, y_pred=model.predict(X=X_test))\n",
    "            scores.append(score)\n",
    "        except ValueError:\n",
    "            pass\n",
    "    mean_score = sum(scores)/len(scores)\n",
    "    mean_scores.append((mean_score, name)) \n",
    "    print('{:7.6f} : {}'.format(mean_score, name))"
   ]
  },
  {
   "cell_type": "code",
   "execution_count": 6,
   "id": "d6df0fab",
   "metadata": {
    "execution": {
     "iopub.execute_input": "2024-05-15T19:54:44.398698Z",
     "iopub.status.busy": "2024-05-15T19:54:44.398300Z",
     "iopub.status.idle": "2024-05-15T19:55:12.120365Z",
     "shell.execute_reply": "2024-05-15T19:55:12.119435Z"
    },
    "papermill": {
     "duration": 27.752062,
     "end_time": "2024-05-15T19:55:12.122878",
     "exception": false,
     "start_time": "2024-05-15T19:54:44.370816",
     "status": "completed"
    },
    "tags": []
   },
   "outputs": [
    {
     "name": "stdout",
     "output_type": "stream",
     "text": [
      "best model: rf 114 estimators/squared_error\n",
      "done.\n"
     ]
    }
   ],
   "source": [
    "SUBMISSION = '/kaggle/working/submission.csv'\n",
    "\n",
    "best_model_name = sorted(mean_scores)[0][1]\n",
    "print('best model: {}'.format(best_model_name))\n",
    "submission_df[TARGET] = MODELS[name].fit(X=train_df.drop(columns=[TARGET]), y=train_df[TARGET]).predict(X=test_df)\n",
    "submission_df.to_csv(path_or_buf=SUBMISSION, index=False)\n",
    "print('done.')"
   ]
  },
  {
   "cell_type": "markdown",
   "id": "bdae4628",
   "metadata": {
    "papermill": {
     "duration": 0.025953,
     "end_time": "2024-05-15T19:55:12.175511",
     "exception": false,
     "start_time": "2024-05-15T19:55:12.149558",
     "status": "completed"
    },
    "tags": []
   },
   "source": [
    "Let's post-process our mean scores and visualize."
   ]
  },
  {
   "cell_type": "code",
   "execution_count": 7,
   "id": "cbcced6e",
   "metadata": {
    "execution": {
     "iopub.execute_input": "2024-05-15T19:55:12.227658Z",
     "iopub.status.busy": "2024-05-15T19:55:12.227297Z",
     "iopub.status.idle": "2024-05-15T19:55:13.853592Z",
     "shell.execute_reply": "2024-05-15T19:55:13.852616Z"
    },
    "papermill": {
     "duration": 1.655042,
     "end_time": "2024-05-15T19:55:13.855747",
     "exception": false,
     "start_time": "2024-05-15T19:55:12.200705",
     "status": "completed"
    },
    "tags": []
   },
   "outputs": [
    {
     "data": {
      "text/html": [
       "<div>                            <div id=\"4e490263-9936-4618-8d27-f9965c76a1c5\" class=\"plotly-graph-div\" style=\"height:525px; width:100%;\"></div>            <script type=\"text/javascript\">                require([\"plotly\"], function(Plotly) {                    window.PLOTLYENV=window.PLOTLYENV || {};                                    if (document.getElementById(\"4e490263-9936-4618-8d27-f9965c76a1c5\")) {                    Plotly.newPlot(                        \"4e490263-9936-4618-8d27-f9965c76a1c5\",                        [{\"hovertemplate\":\"x=%{x}\\u003cbr\\u003ey=%{y}\\u003cextra\\u003e\\u003c\\u002fextra\\u003e\",\"legendgroup\":\"\",\"marker\":{\"color\":\"#636efa\",\"symbol\":\"circle\"},\"mode\":\"markers\",\"name\":\"\",\"orientation\":\"v\",\"showlegend\":false,\"x\":[15.5,16.0,16.5,17.0,17.5,18.0,18.5,19.0,19.5,20.0,20.5,21.0,21.5,22.0,22.5,23.0,23.5,24.0,24.5,25.0],\"xaxis\":\"x\",\"y\":[0.19357666919008837,0.19513039048097464,0.1937544887874681,0.1937550988950762,0.1933289418881768,0.19262828579088484,0.1937052238335581,0.1931709093991106,0.19206340612126507,0.19401730689427757,0.19263156449451482,0.1936049220624541,0.19377858320193844,0.19366644467379746,0.1940189013130716,0.19304191634223883,0.19295974391516588,0.1928250920266235,0.1932630616388239,0.19456773294139573],\"yaxis\":\"y\",\"type\":\"scatter\"},{\"hovertemplate\":\"\\u003cb\\u003eLOWESS trendline\\u003c\\u002fb\\u003e\\u003cbr\\u003e\\u003cbr\\u003ex=%{x}\\u003cbr\\u003ey=%{y} \\u003cb\\u003e(trend)\\u003c\\u002fb\\u003e\\u003cextra\\u003e\\u003c\\u002fextra\\u003e\",\"legendgroup\":\"\",\"marker\":{\"color\":\"#636efa\",\"symbol\":\"circle\"},\"mode\":\"lines\",\"name\":\"\",\"showlegend\":false,\"x\":[15.5,16.0,16.5,17.0,17.5,18.0,18.5,19.0,19.5,20.0,20.5,21.0,21.5,22.0,22.5,23.0,23.5,24.0,24.5,25.0],\"xaxis\":\"x\",\"y\":[0.19409808406415321,0.19394793166107804,0.19380415648941884,0.1936676618929699,0.19353632692286107,0.19340183865511734,0.1932497929531376,0.19320348903590692,0.1932198238440478,0.1932793357487137,0.19335894393788455,0.19341525525395123,0.19344889077185196,0.19343986549492864,0.19340623718660255,0.1934225198353458,0.19343881975750432,0.1934482919438645,0.19345455053249033,0.19346488611888837],\"yaxis\":\"y\",\"type\":\"scatter\"}],                        {\"template\":{\"data\":{\"histogram2dcontour\":[{\"type\":\"histogram2dcontour\",\"colorbar\":{\"outlinewidth\":0,\"ticks\":\"\"},\"colorscale\":[[0.0,\"#0d0887\"],[0.1111111111111111,\"#46039f\"],[0.2222222222222222,\"#7201a8\"],[0.3333333333333333,\"#9c179e\"],[0.4444444444444444,\"#bd3786\"],[0.5555555555555556,\"#d8576b\"],[0.6666666666666666,\"#ed7953\"],[0.7777777777777778,\"#fb9f3a\"],[0.8888888888888888,\"#fdca26\"],[1.0,\"#f0f921\"]]}],\"choropleth\":[{\"type\":\"choropleth\",\"colorbar\":{\"outlinewidth\":0,\"ticks\":\"\"}}],\"histogram2d\":[{\"type\":\"histogram2d\",\"colorbar\":{\"outlinewidth\":0,\"ticks\":\"\"},\"colorscale\":[[0.0,\"#0d0887\"],[0.1111111111111111,\"#46039f\"],[0.2222222222222222,\"#7201a8\"],[0.3333333333333333,\"#9c179e\"],[0.4444444444444444,\"#bd3786\"],[0.5555555555555556,\"#d8576b\"],[0.6666666666666666,\"#ed7953\"],[0.7777777777777778,\"#fb9f3a\"],[0.8888888888888888,\"#fdca26\"],[1.0,\"#f0f921\"]]}],\"heatmap\":[{\"type\":\"heatmap\",\"colorbar\":{\"outlinewidth\":0,\"ticks\":\"\"},\"colorscale\":[[0.0,\"#0d0887\"],[0.1111111111111111,\"#46039f\"],[0.2222222222222222,\"#7201a8\"],[0.3333333333333333,\"#9c179e\"],[0.4444444444444444,\"#bd3786\"],[0.5555555555555556,\"#d8576b\"],[0.6666666666666666,\"#ed7953\"],[0.7777777777777778,\"#fb9f3a\"],[0.8888888888888888,\"#fdca26\"],[1.0,\"#f0f921\"]]}],\"heatmapgl\":[{\"type\":\"heatmapgl\",\"colorbar\":{\"outlinewidth\":0,\"ticks\":\"\"},\"colorscale\":[[0.0,\"#0d0887\"],[0.1111111111111111,\"#46039f\"],[0.2222222222222222,\"#7201a8\"],[0.3333333333333333,\"#9c179e\"],[0.4444444444444444,\"#bd3786\"],[0.5555555555555556,\"#d8576b\"],[0.6666666666666666,\"#ed7953\"],[0.7777777777777778,\"#fb9f3a\"],[0.8888888888888888,\"#fdca26\"],[1.0,\"#f0f921\"]]}],\"contourcarpet\":[{\"type\":\"contourcarpet\",\"colorbar\":{\"outlinewidth\":0,\"ticks\":\"\"}}],\"contour\":[{\"type\":\"contour\",\"colorbar\":{\"outlinewidth\":0,\"ticks\":\"\"},\"colorscale\":[[0.0,\"#0d0887\"],[0.1111111111111111,\"#46039f\"],[0.2222222222222222,\"#7201a8\"],[0.3333333333333333,\"#9c179e\"],[0.4444444444444444,\"#bd3786\"],[0.5555555555555556,\"#d8576b\"],[0.6666666666666666,\"#ed7953\"],[0.7777777777777778,\"#fb9f3a\"],[0.8888888888888888,\"#fdca26\"],[1.0,\"#f0f921\"]]}],\"surface\":[{\"type\":\"surface\",\"colorbar\":{\"outlinewidth\":0,\"ticks\":\"\"},\"colorscale\":[[0.0,\"#0d0887\"],[0.1111111111111111,\"#46039f\"],[0.2222222222222222,\"#7201a8\"],[0.3333333333333333,\"#9c179e\"],[0.4444444444444444,\"#bd3786\"],[0.5555555555555556,\"#d8576b\"],[0.6666666666666666,\"#ed7953\"],[0.7777777777777778,\"#fb9f3a\"],[0.8888888888888888,\"#fdca26\"],[1.0,\"#f0f921\"]]}],\"mesh3d\":[{\"type\":\"mesh3d\",\"colorbar\":{\"outlinewidth\":0,\"ticks\":\"\"}}],\"scatter\":[{\"fillpattern\":{\"fillmode\":\"overlay\",\"size\":10,\"solidity\":0.2},\"type\":\"scatter\"}],\"parcoords\":[{\"type\":\"parcoords\",\"line\":{\"colorbar\":{\"outlinewidth\":0,\"ticks\":\"\"}}}],\"scatterpolargl\":[{\"type\":\"scatterpolargl\",\"marker\":{\"colorbar\":{\"outlinewidth\":0,\"ticks\":\"\"}}}],\"bar\":[{\"error_x\":{\"color\":\"#2a3f5f\"},\"error_y\":{\"color\":\"#2a3f5f\"},\"marker\":{\"line\":{\"color\":\"#E5ECF6\",\"width\":0.5},\"pattern\":{\"fillmode\":\"overlay\",\"size\":10,\"solidity\":0.2}},\"type\":\"bar\"}],\"scattergeo\":[{\"type\":\"scattergeo\",\"marker\":{\"colorbar\":{\"outlinewidth\":0,\"ticks\":\"\"}}}],\"scatterpolar\":[{\"type\":\"scatterpolar\",\"marker\":{\"colorbar\":{\"outlinewidth\":0,\"ticks\":\"\"}}}],\"histogram\":[{\"marker\":{\"pattern\":{\"fillmode\":\"overlay\",\"size\":10,\"solidity\":0.2}},\"type\":\"histogram\"}],\"scattergl\":[{\"type\":\"scattergl\",\"marker\":{\"colorbar\":{\"outlinewidth\":0,\"ticks\":\"\"}}}],\"scatter3d\":[{\"type\":\"scatter3d\",\"line\":{\"colorbar\":{\"outlinewidth\":0,\"ticks\":\"\"}},\"marker\":{\"colorbar\":{\"outlinewidth\":0,\"ticks\":\"\"}}}],\"scattermapbox\":[{\"type\":\"scattermapbox\",\"marker\":{\"colorbar\":{\"outlinewidth\":0,\"ticks\":\"\"}}}],\"scatterternary\":[{\"type\":\"scatterternary\",\"marker\":{\"colorbar\":{\"outlinewidth\":0,\"ticks\":\"\"}}}],\"scattercarpet\":[{\"type\":\"scattercarpet\",\"marker\":{\"colorbar\":{\"outlinewidth\":0,\"ticks\":\"\"}}}],\"carpet\":[{\"aaxis\":{\"endlinecolor\":\"#2a3f5f\",\"gridcolor\":\"white\",\"linecolor\":\"white\",\"minorgridcolor\":\"white\",\"startlinecolor\":\"#2a3f5f\"},\"baxis\":{\"endlinecolor\":\"#2a3f5f\",\"gridcolor\":\"white\",\"linecolor\":\"white\",\"minorgridcolor\":\"white\",\"startlinecolor\":\"#2a3f5f\"},\"type\":\"carpet\"}],\"table\":[{\"cells\":{\"fill\":{\"color\":\"#EBF0F8\"},\"line\":{\"color\":\"white\"}},\"header\":{\"fill\":{\"color\":\"#C8D4E3\"},\"line\":{\"color\":\"white\"}},\"type\":\"table\"}],\"barpolar\":[{\"marker\":{\"line\":{\"color\":\"#E5ECF6\",\"width\":0.5},\"pattern\":{\"fillmode\":\"overlay\",\"size\":10,\"solidity\":0.2}},\"type\":\"barpolar\"}],\"pie\":[{\"automargin\":true,\"type\":\"pie\"}]},\"layout\":{\"autotypenumbers\":\"strict\",\"colorway\":[\"#636efa\",\"#EF553B\",\"#00cc96\",\"#ab63fa\",\"#FFA15A\",\"#19d3f3\",\"#FF6692\",\"#B6E880\",\"#FF97FF\",\"#FECB52\"],\"font\":{\"color\":\"#2a3f5f\"},\"hovermode\":\"closest\",\"hoverlabel\":{\"align\":\"left\"},\"paper_bgcolor\":\"white\",\"plot_bgcolor\":\"#E5ECF6\",\"polar\":{\"bgcolor\":\"#E5ECF6\",\"angularaxis\":{\"gridcolor\":\"white\",\"linecolor\":\"white\",\"ticks\":\"\"},\"radialaxis\":{\"gridcolor\":\"white\",\"linecolor\":\"white\",\"ticks\":\"\"}},\"ternary\":{\"bgcolor\":\"#E5ECF6\",\"aaxis\":{\"gridcolor\":\"white\",\"linecolor\":\"white\",\"ticks\":\"\"},\"baxis\":{\"gridcolor\":\"white\",\"linecolor\":\"white\",\"ticks\":\"\"},\"caxis\":{\"gridcolor\":\"white\",\"linecolor\":\"white\",\"ticks\":\"\"}},\"coloraxis\":{\"colorbar\":{\"outlinewidth\":0,\"ticks\":\"\"}},\"colorscale\":{\"sequential\":[[0.0,\"#0d0887\"],[0.1111111111111111,\"#46039f\"],[0.2222222222222222,\"#7201a8\"],[0.3333333333333333,\"#9c179e\"],[0.4444444444444444,\"#bd3786\"],[0.5555555555555556,\"#d8576b\"],[0.6666666666666666,\"#ed7953\"],[0.7777777777777778,\"#fb9f3a\"],[0.8888888888888888,\"#fdca26\"],[1.0,\"#f0f921\"]],\"sequentialminus\":[[0.0,\"#0d0887\"],[0.1111111111111111,\"#46039f\"],[0.2222222222222222,\"#7201a8\"],[0.3333333333333333,\"#9c179e\"],[0.4444444444444444,\"#bd3786\"],[0.5555555555555556,\"#d8576b\"],[0.6666666666666666,\"#ed7953\"],[0.7777777777777778,\"#fb9f3a\"],[0.8888888888888888,\"#fdca26\"],[1.0,\"#f0f921\"]],\"diverging\":[[0,\"#8e0152\"],[0.1,\"#c51b7d\"],[0.2,\"#de77ae\"],[0.3,\"#f1b6da\"],[0.4,\"#fde0ef\"],[0.5,\"#f7f7f7\"],[0.6,\"#e6f5d0\"],[0.7,\"#b8e186\"],[0.8,\"#7fbc41\"],[0.9,\"#4d9221\"],[1,\"#276419\"]]},\"xaxis\":{\"gridcolor\":\"white\",\"linecolor\":\"white\",\"ticks\":\"\",\"title\":{\"standoff\":15},\"zerolinecolor\":\"white\",\"automargin\":true,\"zerolinewidth\":2},\"yaxis\":{\"gridcolor\":\"white\",\"linecolor\":\"white\",\"ticks\":\"\",\"title\":{\"standoff\":15},\"zerolinecolor\":\"white\",\"automargin\":true,\"zerolinewidth\":2},\"scene\":{\"xaxis\":{\"backgroundcolor\":\"#E5ECF6\",\"gridcolor\":\"white\",\"linecolor\":\"white\",\"showbackground\":true,\"ticks\":\"\",\"zerolinecolor\":\"white\",\"gridwidth\":2},\"yaxis\":{\"backgroundcolor\":\"#E5ECF6\",\"gridcolor\":\"white\",\"linecolor\":\"white\",\"showbackground\":true,\"ticks\":\"\",\"zerolinecolor\":\"white\",\"gridwidth\":2},\"zaxis\":{\"backgroundcolor\":\"#E5ECF6\",\"gridcolor\":\"white\",\"linecolor\":\"white\",\"showbackground\":true,\"ticks\":\"\",\"zerolinecolor\":\"white\",\"gridwidth\":2}},\"shapedefaults\":{\"line\":{\"color\":\"#2a3f5f\"}},\"annotationdefaults\":{\"arrowcolor\":\"#2a3f5f\",\"arrowhead\":0,\"arrowwidth\":1},\"geo\":{\"bgcolor\":\"white\",\"landcolor\":\"#E5ECF6\",\"subunitcolor\":\"white\",\"showland\":true,\"showlakes\":true,\"lakecolor\":\"white\"},\"title\":{\"x\":0.05},\"mapbox\":{\"style\":\"light\"}}},\"xaxis\":{\"anchor\":\"y\",\"domain\":[0.0,1.0],\"title\":{\"text\":\"x\"}},\"yaxis\":{\"anchor\":\"x\",\"domain\":[0.0,1.0],\"title\":{\"text\":\"y\"}},\"legend\":{\"tracegroupgap\":0},\"title\":{\"text\":\"alpha vs. rmse\"}},                        {\"responsive\": true}                    ).then(function(){\n",
       "                            \n",
       "var gd = document.getElementById('4e490263-9936-4618-8d27-f9965c76a1c5');\n",
       "var x = new MutationObserver(function (mutations, observer) {{\n",
       "        var display = window.getComputedStyle(gd).display;\n",
       "        if (!display || display === 'none') {{\n",
       "            console.log([gd, 'removed!']);\n",
       "            Plotly.purge(gd);\n",
       "            observer.disconnect();\n",
       "        }}\n",
       "}});\n",
       "\n",
       "// Listen for the removal of the full notebook cells\n",
       "var notebookContainer = gd.closest('#notebook-container');\n",
       "if (notebookContainer) {{\n",
       "    x.observe(notebookContainer, {childList: true});\n",
       "}}\n",
       "\n",
       "// Listen for the clearing of the current output cell\n",
       "var outputEl = gd.closest('.output');\n",
       "if (outputEl) {{\n",
       "    x.observe(outputEl, {childList: true});\n",
       "}}\n",
       "\n",
       "                        })                };                });            </script>        </div>"
      ]
     },
     "metadata": {},
     "output_type": "display_data"
    }
   ],
   "source": [
    "from plotly import express\n",
    "alpha_rmse = [item[0] for item in mean_scores if 'alpha' in item[1]]\n",
    "alpha_value = [float(item[1].split()[2]) for item in mean_scores if 'alpha' in item[1]]\n",
    "express.scatter(x=alpha_value, y=alpha_rmse, title='alpha vs. rmse', trendline='lowess')"
   ]
  },
  {
   "cell_type": "markdown",
   "id": "72e0216d",
   "metadata": {
    "papermill": {
     "duration": 0.027053,
     "end_time": "2024-05-15T19:55:13.909394",
     "exception": false,
     "start_time": "2024-05-15T19:55:13.882341",
     "status": "completed"
    },
    "tags": []
   },
   "source": [
    "We have a couple of puzzles here; \n",
    "* The relationship between the alpha regularization parameter and the RMSE is linear but noisy; if we didn't do better with the random forest it might make sense to tune the Ridge alpha further.\n",
    "* We are measuring the RMSE from our test split as a proxy for the test data RMSE and the relationship between the two values is unknown."
   ]
  },
  {
   "cell_type": "code",
   "execution_count": 8,
   "id": "bfcae231",
   "metadata": {
    "execution": {
     "iopub.execute_input": "2024-05-15T19:55:13.967415Z",
     "iopub.status.busy": "2024-05-15T19:55:13.966807Z",
     "iopub.status.idle": "2024-05-15T19:55:14.053952Z",
     "shell.execute_reply": "2024-05-15T19:55:14.052926Z"
    },
    "papermill": {
     "duration": 0.118591,
     "end_time": "2024-05-15T19:55:14.056286",
     "exception": false,
     "start_time": "2024-05-15T19:55:13.937695",
     "status": "completed"
    },
    "tags": []
   },
   "outputs": [
    {
     "data": {
      "text/html": [
       "<div>                            <div id=\"885fdcdc-035d-4708-a553-b79022885fd1\" class=\"plotly-graph-div\" style=\"height:525px; width:100%;\"></div>            <script type=\"text/javascript\">                require([\"plotly\"], function(Plotly) {                    window.PLOTLYENV=window.PLOTLYENV || {};                                    if (document.getElementById(\"885fdcdc-035d-4708-a553-b79022885fd1\")) {                    Plotly.newPlot(                        \"885fdcdc-035d-4708-a553-b79022885fd1\",                        [{\"hovertemplate\":\"x=%{x}\\u003cbr\\u003ey=%{y}\\u003cextra\\u003e\\u003c\\u002fextra\\u003e\",\"legendgroup\":\"\",\"marker\":{\"color\":\"#636efa\",\"symbol\":\"circle\"},\"mode\":\"markers\",\"name\":\"\",\"orientation\":\"v\",\"showlegend\":false,\"x\":[10,10,11,11,12,12,13,13,14,14,15,15,16,16,17,17,18,18,19,19,20,20,21,21,22,22,23,23,24,24,25,25,26,26,27,27,28,28,29,29,30,30,31,31,32,32,33,33,34,34,35,35,36,36,37,37,38,38,39,39,40,40,41,41,42,42,43,43,44,44,45,45,46,46,47,47,48,48,49,49,50,50,51,51,52,52,53,53,54,54,55,55,56,56,57,57,58,58,59,59,60,60,61,61,62,62,63,63,64,64,65,65,66,66,67,67,68,68,69,69,70,70,71,71,72,72,73,73,74,74,75,75,76,76,77,77,78,78,79,79,80,80,81,81,82,82,83,83,84,84,85,85,86,86,87,87,88,88,89,89,90,90,91,91,92,92,93,93,94,94,95,95,96,96,97,97,98,98,99,99,100,100,101,101,102,102,103,103,104,104,105,105,106,106,107,107,108,108,109,109,110,110,111,111,112,112,113,113,114,114,115,115,116,116,117,117,118,118,119,119,120,120],\"xaxis\":\"x\",\"y\":[0.14899883187024776,0.15273740546952327,0.1478556435004351,0.15089036975869644,0.14756485691172508,0.15006668955077201,0.14740672413743855,0.149253291836777,0.14698079560464555,0.14883806543281003,0.146725859641255,0.14874299713281383,0.1465996657219687,0.14815420377374414,0.14659243032032335,0.14830752702343508,0.14636632465413918,0.14798397098632554,0.14636257396386168,0.14786495534262628,0.14608669795419332,0.14776712181368007,0.14596896852934094,0.14746050654531312,0.14572084208930824,0.14708762587172014,0.1456154241656567,0.14682972783386264,0.14543972070029804,0.14658221838408006,0.14534727673010395,0.14658865822167647,0.14483897963205464,0.14652989850933246,0.1447442595843226,0.1463179618567515,0.14456135444653462,0.14605760082209202,0.14419026229654164,0.14588851207688652,0.14398766681973138,0.146065483315503,0.14407819724671417,0.1459714030400981,0.14414602968664186,0.1457311284259779,0.14423501582051407,0.14563228635388137,0.1440992693305113,0.14577406048569758,0.14406030266902453,0.14588338607317353,0.14390595602894518,0.14583675275569674,0.14379550268766167,0.1458545400623787,0.14364037629729298,0.1457294508404089,0.14368325010903601,0.1456663210714161,0.14355130205916086,0.14553765966829374,0.1435285325301179,0.14549740446155524,0.14329010736651052,0.14537417291479388,0.14318631098127413,0.14543277965585039,0.14325154863521203,0.14544112364755032,0.14310919491083604,0.14536741063068936,0.14304542433697354,0.1452740020985747,0.143024961150716,0.14524780166047885,0.1430566679305271,0.14516579286465386,0.14284613339170305,0.1450885200589297,0.1428309616724793,0.14514757803409048,0.14283471213428123,0.14499679935709597,0.14280522187145012,0.14493353589459954,0.14266713692071126,0.14504346278824148,0.1425616780791239,0.14485002748811432,0.14262674067261347,0.14499476982132248,0.14259822614395118,0.14488927445585392,0.1426569625118718,0.1448983064802594,0.14264643810628191,0.14473707936099894,0.14258513815266138,0.1447167238301392,0.1425108486246322,0.14471122089678531,0.1425148615121153,0.1446635710177919,0.14257405484825364,0.14460158796919467,0.1424992533168381,0.14444976153979494,0.1425474418736184,0.14442995295259306,0.14253350279160554,0.14450918161946183,0.14259065983857475,0.14443441301050808,0.14252511320813205,0.14441950165223877,0.14254687875199132,0.14435463850023617,0.142423359265459,0.14429582327898707,0.1424414902807779,0.14427285794469963,0.14242898270274046,0.14433614920118287,0.14252418287715654,0.14429892416487183,0.14247443761141365,0.1442125638889941,0.14253238150895065,0.14421173931679093,0.14251998479730413,0.14429525168461357,0.14250626782808734,0.14423122090591803,0.14253586646919886,0.14409526090780184,0.14257378321743588,0.14398860852084558,0.14257241147914157,0.14402201561620226,0.14260122756645088,0.14403764104110725,0.14260574529009995,0.14395893955330574,0.1425263854511608,0.1438922977769075,0.14252176473295672,0.14386962310884113,0.14246506561092204,0.14392791344726924,0.14248026959941057,0.143895343423645,0.14254742291928496,0.14394062149173148,0.1426183614523336,0.1439795512166439,0.14263780610365462,0.1439796600881528,0.14260980961599623,0.14389765390343684,0.14260355533275001,0.14398318348167388,0.14261535523084823,0.14399419880296244,0.14263432340326254,0.14393207256613152,0.14256650182404726,0.1438717831921775,0.14258658509399952,0.1439076030129508,0.14260694874223165,0.14382597795015084,0.14258478446193124,0.1437958241790524,0.14262947819526314,0.14386484965423102,0.1426173732962519,0.14380936606071554,0.14263224492554688,0.1438375271977455,0.14257185368815958,0.14376178660468195,0.14254024677139107,0.14372905319822574,0.1425159705427383,0.14372976061096038,0.1425013494177772,0.14374111787047608,0.14250258563792703,0.14377531062754217,0.14251907187692137,0.14372644808320048,0.1425171292665748,0.14371520318134406,0.1424580801877518,0.14373334496278103,0.1424554630164444,0.1436638137449116,0.142437919545404,0.14364657164139577,0.14241422634350195,0.14361485555592574,0.1424477912303377,0.14357125455034941,0.1423923647795376,0.14363764436252932,0.14236997434183166,0.14360333643442125,0.1423076469978347,0.1436395689529407,0.14236423339252835,0.14358935176488397,0.14241475426036349,0.14364585606960095,0.142400443472678,0.1436826334075288,0.14242836054740846,0.1436647811108579,0.1423921438753065,0.14366593719857038,0.14240860205218384,0.14370339519135342],\"yaxis\":\"y\",\"type\":\"scatter\"},{\"hovertemplate\":\"\\u003cb\\u003eLOWESS trendline\\u003c\\u002fb\\u003e\\u003cbr\\u003e\\u003cbr\\u003ex=%{x}\\u003cbr\\u003ey=%{y} \\u003cb\\u003e(trend)\\u003c\\u002fb\\u003e\\u003cextra\\u003e\\u003c\\u002fextra\\u003e\",\"legendgroup\":\"\",\"marker\":{\"color\":\"#636efa\",\"symbol\":\"circle\"},\"mode\":\"lines\",\"name\":\"\",\"showlegend\":false,\"x\":[10,10,11,11,12,12,13,13,14,14,15,15,16,16,17,17,18,18,19,19,20,20,21,21,22,22,23,23,24,24,25,25,26,26,27,27,28,28,29,29,30,30,31,31,32,32,33,33,34,34,35,35,36,36,37,37,38,38,39,39,40,40,41,41,42,42,43,43,44,44,45,45,46,46,47,47,48,48,49,49,50,50,51,51,52,52,53,53,54,54,55,55,56,56,57,57,58,58,59,59,60,60,61,61,62,62,63,63,64,64,65,65,66,66,67,67,68,68,69,69,70,70,71,71,72,72,73,73,74,74,75,75,76,76,77,77,78,78,79,79,80,80,81,81,82,82,83,83,84,84,85,85,86,86,87,87,88,88,89,89,90,90,91,91,92,92,93,93,94,94,95,95,96,96,97,97,98,98,99,99,100,100,101,101,102,102,103,103,104,104,105,105,106,106,107,107,108,108,109,109,110,110,111,111,112,112,113,113,114,114,115,115,116,116,117,117,118,118,119,119,120,120],\"xaxis\":\"x\",\"y\":[0.14760154640557085,0.14760154640557085,0.1475065874191918,0.1475065874191918,0.14741213850294346,0.14741213850294346,0.1473182110639248,0.1473182110639248,0.14722481190757497,0.14722481190757497,0.14713194287540732,0.14713194287540732,0.14703960174551697,0.14703960174551697,0.14694778291295726,0.14694778291295726,0.14685647789427134,0.14685647789427134,0.14676567497852192,0.14676567497852192,0.14667535953546337,0.14667535953546337,0.14658551399110362,0.14658551399110362,0.1464961181632053,0.1464961181632053,0.14640714985433992,0.14640714985433992,0.1463185857792348,0.1463185857792348,0.14623040220894004,0.14623040220894004,0.14614257548153262,0.14614257548153262,0.14605508206976792,0.14605508206976792,0.14596789914719038,0.14596789914719038,0.1458810051865151,0.1458810051865151,0.14579438075514461,0.14579438075514461,0.14570800917717572,0.14570800917717572,0.14562187645144384,0.14562187645144384,0.1455359714868723,0.1455359714868723,0.1454502867651188,0.1454502867651188,0.14536481879731358,0.14536481879731358,0.1452795683437718,0.1452795683437718,0.14519454095753734,0.14519454095753734,0.1451097487744034,0.1451097487744034,0.14502521403828803,0.14502521403828803,0.1449409763149359,0.1449409763149359,0.14485710602254476,0.14485710602254476,0.14477373004775512,0.14477373004775512,0.14469107700975478,0.14469107700975478,0.14460955040721651,0.14460955040721651,0.14452981998019224,0.14452981998019224,0.14445285385342702,0.14445285385342702,0.14439261818475188,0.14439261818475188,0.14433490878986507,0.14433490878986507,0.1442796775931842,0.1442796775931842,0.1442268466697488,0.1442268466697488,0.14417632375296618,0.14417632375296618,0.14412801760706098,0.14412801760706098,0.14408183508011901,0.14408183508011901,0.14403767381012064,0.14403767381012064,0.14399542246059893,0.14399542246059893,0.14395496878111744,0.14395496878111744,0.143916199997006,0.143916199997006,0.14387900868607925,0.14387900868607925,0.14384329785669908,0.14384329785669908,0.14380898389757163,0.14380898389757163,0.14377599454989232,0.14377599454989232,0.14374427128021727,0.14374427128021727,0.1437137693213098,0.1437137693213098,0.14368446374311336,0.14368446374311336,0.14365634350516773,0.14365634350516773,0.1436294066083913,0.1436294066083913,0.14360365168847425,0.14360365168847425,0.14357906785131772,0.14357906785131772,0.143555635670639,0.143555635670639,0.14353332739567706,0.14353332739567706,0.14351210376546455,0.14351210376546455,0.14349191381588616,0.14349191381588616,0.1434726982672909,0.1434726982672909,0.14345439541134172,0.14345439541134172,0.14343694297365242,0.14343694297365242,0.14342028001305246,0.14342028001305246,0.14340434630041737,0.14340434630041737,0.14338908433078515,0.14338908433078515,0.14337443948243458,0.14337443948243458,0.14336036216442838,0.14336036216442838,0.14334680615765066,0.14334680615765066,0.14333372955417029,0.14333372955417029,0.14332109822461933,0.14332109822461933,0.14330888466117625,0.14330888466117625,0.14329872399282373,0.14329872399282373,0.1432886682213238,0.1432886682213238,0.1432787141563913,0.1432787141563913,0.14326885182962343,0.14326885182962343,0.1432590723719207,0.1432590723719207,0.14324936902650431,0.14324936902650431,0.14323973666907028,0.14323973666907028,0.1432301708342876,0.1432301708342876,0.14322066717623202,0.14322066717623202,0.14321122141425421,0.14321122141425421,0.1432018294756401,0.1432018294756401,0.14319248737860707,0.14319248737860707,0.14318319130089457,0.14318319130089457,0.14317393760204086,0.14317393760204086,0.14316472263622185,0.14316472263622185,0.143155542795359,0.143155542795359,0.14314639450599373,0.14314639450599373,0.14313727443392835,0.14313727443392835,0.14312817958688542,0.14312817958688542,0.14311910729969102,0.14311910729969102,0.1431100551595553,0.1431100551595553,0.1431010209003618,0.1431010209003618,0.1430920023903961,0.1430920023903961,0.14308299762800153,0.14308299762800153,0.14307400478819016,0.14307400478819016,0.14306502231379148,0.14306502231379148,0.1430560489640265,0.1430560489640265,0.1430470838649924,0.1430470838649924,0.14303812648302108,0.14303812648302108,0.14302917657060757,0.14302917657060757,0.14302023421553015,0.14302023421553015,0.14301129984890554,0.14301129984890554,0.14300237413648564,0.14300237413648564,0.14299345769809035,0.14299345769809035,0.1429845509500126,0.1429845509500126,0.1429756540341161,0.1429756540341161],\"yaxis\":\"y\",\"type\":\"scatter\"}],                        {\"template\":{\"data\":{\"histogram2dcontour\":[{\"type\":\"histogram2dcontour\",\"colorbar\":{\"outlinewidth\":0,\"ticks\":\"\"},\"colorscale\":[[0.0,\"#0d0887\"],[0.1111111111111111,\"#46039f\"],[0.2222222222222222,\"#7201a8\"],[0.3333333333333333,\"#9c179e\"],[0.4444444444444444,\"#bd3786\"],[0.5555555555555556,\"#d8576b\"],[0.6666666666666666,\"#ed7953\"],[0.7777777777777778,\"#fb9f3a\"],[0.8888888888888888,\"#fdca26\"],[1.0,\"#f0f921\"]]}],\"choropleth\":[{\"type\":\"choropleth\",\"colorbar\":{\"outlinewidth\":0,\"ticks\":\"\"}}],\"histogram2d\":[{\"type\":\"histogram2d\",\"colorbar\":{\"outlinewidth\":0,\"ticks\":\"\"},\"colorscale\":[[0.0,\"#0d0887\"],[0.1111111111111111,\"#46039f\"],[0.2222222222222222,\"#7201a8\"],[0.3333333333333333,\"#9c179e\"],[0.4444444444444444,\"#bd3786\"],[0.5555555555555556,\"#d8576b\"],[0.6666666666666666,\"#ed7953\"],[0.7777777777777778,\"#fb9f3a\"],[0.8888888888888888,\"#fdca26\"],[1.0,\"#f0f921\"]]}],\"heatmap\":[{\"type\":\"heatmap\",\"colorbar\":{\"outlinewidth\":0,\"ticks\":\"\"},\"colorscale\":[[0.0,\"#0d0887\"],[0.1111111111111111,\"#46039f\"],[0.2222222222222222,\"#7201a8\"],[0.3333333333333333,\"#9c179e\"],[0.4444444444444444,\"#bd3786\"],[0.5555555555555556,\"#d8576b\"],[0.6666666666666666,\"#ed7953\"],[0.7777777777777778,\"#fb9f3a\"],[0.8888888888888888,\"#fdca26\"],[1.0,\"#f0f921\"]]}],\"heatmapgl\":[{\"type\":\"heatmapgl\",\"colorbar\":{\"outlinewidth\":0,\"ticks\":\"\"},\"colorscale\":[[0.0,\"#0d0887\"],[0.1111111111111111,\"#46039f\"],[0.2222222222222222,\"#7201a8\"],[0.3333333333333333,\"#9c179e\"],[0.4444444444444444,\"#bd3786\"],[0.5555555555555556,\"#d8576b\"],[0.6666666666666666,\"#ed7953\"],[0.7777777777777778,\"#fb9f3a\"],[0.8888888888888888,\"#fdca26\"],[1.0,\"#f0f921\"]]}],\"contourcarpet\":[{\"type\":\"contourcarpet\",\"colorbar\":{\"outlinewidth\":0,\"ticks\":\"\"}}],\"contour\":[{\"type\":\"contour\",\"colorbar\":{\"outlinewidth\":0,\"ticks\":\"\"},\"colorscale\":[[0.0,\"#0d0887\"],[0.1111111111111111,\"#46039f\"],[0.2222222222222222,\"#7201a8\"],[0.3333333333333333,\"#9c179e\"],[0.4444444444444444,\"#bd3786\"],[0.5555555555555556,\"#d8576b\"],[0.6666666666666666,\"#ed7953\"],[0.7777777777777778,\"#fb9f3a\"],[0.8888888888888888,\"#fdca26\"],[1.0,\"#f0f921\"]]}],\"surface\":[{\"type\":\"surface\",\"colorbar\":{\"outlinewidth\":0,\"ticks\":\"\"},\"colorscale\":[[0.0,\"#0d0887\"],[0.1111111111111111,\"#46039f\"],[0.2222222222222222,\"#7201a8\"],[0.3333333333333333,\"#9c179e\"],[0.4444444444444444,\"#bd3786\"],[0.5555555555555556,\"#d8576b\"],[0.6666666666666666,\"#ed7953\"],[0.7777777777777778,\"#fb9f3a\"],[0.8888888888888888,\"#fdca26\"],[1.0,\"#f0f921\"]]}],\"mesh3d\":[{\"type\":\"mesh3d\",\"colorbar\":{\"outlinewidth\":0,\"ticks\":\"\"}}],\"scatter\":[{\"fillpattern\":{\"fillmode\":\"overlay\",\"size\":10,\"solidity\":0.2},\"type\":\"scatter\"}],\"parcoords\":[{\"type\":\"parcoords\",\"line\":{\"colorbar\":{\"outlinewidth\":0,\"ticks\":\"\"}}}],\"scatterpolargl\":[{\"type\":\"scatterpolargl\",\"marker\":{\"colorbar\":{\"outlinewidth\":0,\"ticks\":\"\"}}}],\"bar\":[{\"error_x\":{\"color\":\"#2a3f5f\"},\"error_y\":{\"color\":\"#2a3f5f\"},\"marker\":{\"line\":{\"color\":\"#E5ECF6\",\"width\":0.5},\"pattern\":{\"fillmode\":\"overlay\",\"size\":10,\"solidity\":0.2}},\"type\":\"bar\"}],\"scattergeo\":[{\"type\":\"scattergeo\",\"marker\":{\"colorbar\":{\"outlinewidth\":0,\"ticks\":\"\"}}}],\"scatterpolar\":[{\"type\":\"scatterpolar\",\"marker\":{\"colorbar\":{\"outlinewidth\":0,\"ticks\":\"\"}}}],\"histogram\":[{\"marker\":{\"pattern\":{\"fillmode\":\"overlay\",\"size\":10,\"solidity\":0.2}},\"type\":\"histogram\"}],\"scattergl\":[{\"type\":\"scattergl\",\"marker\":{\"colorbar\":{\"outlinewidth\":0,\"ticks\":\"\"}}}],\"scatter3d\":[{\"type\":\"scatter3d\",\"line\":{\"colorbar\":{\"outlinewidth\":0,\"ticks\":\"\"}},\"marker\":{\"colorbar\":{\"outlinewidth\":0,\"ticks\":\"\"}}}],\"scattermapbox\":[{\"type\":\"scattermapbox\",\"marker\":{\"colorbar\":{\"outlinewidth\":0,\"ticks\":\"\"}}}],\"scatterternary\":[{\"type\":\"scatterternary\",\"marker\":{\"colorbar\":{\"outlinewidth\":0,\"ticks\":\"\"}}}],\"scattercarpet\":[{\"type\":\"scattercarpet\",\"marker\":{\"colorbar\":{\"outlinewidth\":0,\"ticks\":\"\"}}}],\"carpet\":[{\"aaxis\":{\"endlinecolor\":\"#2a3f5f\",\"gridcolor\":\"white\",\"linecolor\":\"white\",\"minorgridcolor\":\"white\",\"startlinecolor\":\"#2a3f5f\"},\"baxis\":{\"endlinecolor\":\"#2a3f5f\",\"gridcolor\":\"white\",\"linecolor\":\"white\",\"minorgridcolor\":\"white\",\"startlinecolor\":\"#2a3f5f\"},\"type\":\"carpet\"}],\"table\":[{\"cells\":{\"fill\":{\"color\":\"#EBF0F8\"},\"line\":{\"color\":\"white\"}},\"header\":{\"fill\":{\"color\":\"#C8D4E3\"},\"line\":{\"color\":\"white\"}},\"type\":\"table\"}],\"barpolar\":[{\"marker\":{\"line\":{\"color\":\"#E5ECF6\",\"width\":0.5},\"pattern\":{\"fillmode\":\"overlay\",\"size\":10,\"solidity\":0.2}},\"type\":\"barpolar\"}],\"pie\":[{\"automargin\":true,\"type\":\"pie\"}]},\"layout\":{\"autotypenumbers\":\"strict\",\"colorway\":[\"#636efa\",\"#EF553B\",\"#00cc96\",\"#ab63fa\",\"#FFA15A\",\"#19d3f3\",\"#FF6692\",\"#B6E880\",\"#FF97FF\",\"#FECB52\"],\"font\":{\"color\":\"#2a3f5f\"},\"hovermode\":\"closest\",\"hoverlabel\":{\"align\":\"left\"},\"paper_bgcolor\":\"white\",\"plot_bgcolor\":\"#E5ECF6\",\"polar\":{\"bgcolor\":\"#E5ECF6\",\"angularaxis\":{\"gridcolor\":\"white\",\"linecolor\":\"white\",\"ticks\":\"\"},\"radialaxis\":{\"gridcolor\":\"white\",\"linecolor\":\"white\",\"ticks\":\"\"}},\"ternary\":{\"bgcolor\":\"#E5ECF6\",\"aaxis\":{\"gridcolor\":\"white\",\"linecolor\":\"white\",\"ticks\":\"\"},\"baxis\":{\"gridcolor\":\"white\",\"linecolor\":\"white\",\"ticks\":\"\"},\"caxis\":{\"gridcolor\":\"white\",\"linecolor\":\"white\",\"ticks\":\"\"}},\"coloraxis\":{\"colorbar\":{\"outlinewidth\":0,\"ticks\":\"\"}},\"colorscale\":{\"sequential\":[[0.0,\"#0d0887\"],[0.1111111111111111,\"#46039f\"],[0.2222222222222222,\"#7201a8\"],[0.3333333333333333,\"#9c179e\"],[0.4444444444444444,\"#bd3786\"],[0.5555555555555556,\"#d8576b\"],[0.6666666666666666,\"#ed7953\"],[0.7777777777777778,\"#fb9f3a\"],[0.8888888888888888,\"#fdca26\"],[1.0,\"#f0f921\"]],\"sequentialminus\":[[0.0,\"#0d0887\"],[0.1111111111111111,\"#46039f\"],[0.2222222222222222,\"#7201a8\"],[0.3333333333333333,\"#9c179e\"],[0.4444444444444444,\"#bd3786\"],[0.5555555555555556,\"#d8576b\"],[0.6666666666666666,\"#ed7953\"],[0.7777777777777778,\"#fb9f3a\"],[0.8888888888888888,\"#fdca26\"],[1.0,\"#f0f921\"]],\"diverging\":[[0,\"#8e0152\"],[0.1,\"#c51b7d\"],[0.2,\"#de77ae\"],[0.3,\"#f1b6da\"],[0.4,\"#fde0ef\"],[0.5,\"#f7f7f7\"],[0.6,\"#e6f5d0\"],[0.7,\"#b8e186\"],[0.8,\"#7fbc41\"],[0.9,\"#4d9221\"],[1,\"#276419\"]]},\"xaxis\":{\"gridcolor\":\"white\",\"linecolor\":\"white\",\"ticks\":\"\",\"title\":{\"standoff\":15},\"zerolinecolor\":\"white\",\"automargin\":true,\"zerolinewidth\":2},\"yaxis\":{\"gridcolor\":\"white\",\"linecolor\":\"white\",\"ticks\":\"\",\"title\":{\"standoff\":15},\"zerolinecolor\":\"white\",\"automargin\":true,\"zerolinewidth\":2},\"scene\":{\"xaxis\":{\"backgroundcolor\":\"#E5ECF6\",\"gridcolor\":\"white\",\"linecolor\":\"white\",\"showbackground\":true,\"ticks\":\"\",\"zerolinecolor\":\"white\",\"gridwidth\":2},\"yaxis\":{\"backgroundcolor\":\"#E5ECF6\",\"gridcolor\":\"white\",\"linecolor\":\"white\",\"showbackground\":true,\"ticks\":\"\",\"zerolinecolor\":\"white\",\"gridwidth\":2},\"zaxis\":{\"backgroundcolor\":\"#E5ECF6\",\"gridcolor\":\"white\",\"linecolor\":\"white\",\"showbackground\":true,\"ticks\":\"\",\"zerolinecolor\":\"white\",\"gridwidth\":2}},\"shapedefaults\":{\"line\":{\"color\":\"#2a3f5f\"}},\"annotationdefaults\":{\"arrowcolor\":\"#2a3f5f\",\"arrowhead\":0,\"arrowwidth\":1},\"geo\":{\"bgcolor\":\"white\",\"landcolor\":\"#E5ECF6\",\"subunitcolor\":\"white\",\"showland\":true,\"showlakes\":true,\"lakecolor\":\"white\"},\"title\":{\"x\":0.05},\"mapbox\":{\"style\":\"light\"}}},\"xaxis\":{\"anchor\":\"y\",\"domain\":[0.0,1.0],\"title\":{\"text\":\"x\"}},\"yaxis\":{\"anchor\":\"x\",\"domain\":[0.0,1.0],\"title\":{\"text\":\"y\"}},\"legend\":{\"tracegroupgap\":0},\"title\":{\"text\":\"estimator count vs. rmse\"}},                        {\"responsive\": true}                    ).then(function(){\n",
       "                            \n",
       "var gd = document.getElementById('885fdcdc-035d-4708-a553-b79022885fd1');\n",
       "var x = new MutationObserver(function (mutations, observer) {{\n",
       "        var display = window.getComputedStyle(gd).display;\n",
       "        if (!display || display === 'none') {{\n",
       "            console.log([gd, 'removed!']);\n",
       "            Plotly.purge(gd);\n",
       "            observer.disconnect();\n",
       "        }}\n",
       "}});\n",
       "\n",
       "// Listen for the removal of the full notebook cells\n",
       "var notebookContainer = gd.closest('#notebook-container');\n",
       "if (notebookContainer) {{\n",
       "    x.observe(notebookContainer, {childList: true});\n",
       "}}\n",
       "\n",
       "// Listen for the clearing of the current output cell\n",
       "var outputEl = gd.closest('.output');\n",
       "if (outputEl) {{\n",
       "    x.observe(outputEl, {childList: true});\n",
       "}}\n",
       "\n",
       "                        })                };                });            </script>        </div>"
      ]
     },
     "metadata": {},
     "output_type": "display_data"
    }
   ],
   "source": [
    "from plotly import express\n",
    "estimators_rmse = [item[0] for item in mean_scores if 'estimators' in item[1]]\n",
    "estimator_count = [int(item[1].split()[1]) for item in mean_scores if 'estimators' in item[1]]\n",
    "express.scatter(x=estimator_count, y=estimators_rmse, title='estimator count vs. rmse', trendline='lowess')"
   ]
  },
  {
   "cell_type": "markdown",
   "id": "e25aac2b",
   "metadata": {
    "papermill": {
     "duration": 0.029496,
     "end_time": "2024-05-15T19:55:14.113639",
     "exception": false,
     "start_time": "2024-05-15T19:55:14.084143",
     "status": "completed"
    },
    "tags": []
   },
   "source": [
    "The estimator count vs RMSE curve similarly might lead us to false precision; the RMSE for the test split has a nice sharp minimum at 114 estimators but we actually get a better result for the test data for 100 estimators."
   ]
  }
 ],
 "metadata": {
  "kaggle": {
   "accelerator": "none",
   "dataSources": [
    {
     "databundleVersionId": 868283,
     "sourceId": 5407,
     "sourceType": "competition"
    }
   ],
   "dockerImageVersionId": 30698,
   "isGpuEnabled": false,
   "isInternetEnabled": true,
   "language": "python",
   "sourceType": "notebook"
  },
  "kernelspec": {
   "display_name": "Python 3",
   "language": "python",
   "name": "python3"
  },
  "language_info": {
   "codemirror_mode": {
    "name": "ipython",
    "version": 3
   },
   "file_extension": ".py",
   "mimetype": "text/x-python",
   "name": "python",
   "nbconvert_exporter": "python",
   "pygments_lexer": "ipython3",
   "version": "3.10.13"
  },
  "papermill": {
   "default_parameters": {},
   "duration": 13471.823567,
   "end_time": "2024-05-15T19:55:14.990739",
   "environment_variables": {},
   "exception": null,
   "input_path": "__notebook__.ipynb",
   "output_path": "__notebook__.ipynb",
   "parameters": {},
   "start_time": "2024-05-15T16:10:43.167172",
   "version": "2.5.0"
  }
 },
 "nbformat": 4,
 "nbformat_minor": 5
}
