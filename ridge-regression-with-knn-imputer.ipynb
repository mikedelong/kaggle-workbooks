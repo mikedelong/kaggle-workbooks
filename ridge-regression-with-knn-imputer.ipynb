{
 "cells": [
  {
   "cell_type": "code",
   "execution_count": 1,
   "id": "49e0b748",
   "metadata": {
    "_cell_guid": "b1076dfc-b9ad-4769-8c92-a6c4dae69d19",
    "_uuid": "8f2839f25d086af736a60e9eeb907d3b93b6e0e5",
    "execution": {
     "iopub.execute_input": "2024-05-13T14:19:00.331130Z",
     "iopub.status.busy": "2024-05-13T14:19:00.330439Z",
     "iopub.status.idle": "2024-05-13T14:19:01.426226Z",
     "shell.execute_reply": "2024-05-13T14:19:01.424958Z"
    },
    "papermill": {
     "duration": 1.105663,
     "end_time": "2024-05-13T14:19:01.428880",
     "exception": false,
     "start_time": "2024-05-13T14:19:00.323217",
     "status": "completed"
    },
    "tags": []
   },
   "outputs": [
    {
     "data": {
      "text/html": [
       "<div>\n",
       "<style scoped>\n",
       "    .dataframe tbody tr th:only-of-type {\n",
       "        vertical-align: middle;\n",
       "    }\n",
       "\n",
       "    .dataframe tbody tr th {\n",
       "        vertical-align: top;\n",
       "    }\n",
       "\n",
       "    .dataframe thead th {\n",
       "        text-align: right;\n",
       "    }\n",
       "</style>\n",
       "<table border=\"1\" class=\"dataframe\">\n",
       "  <thead>\n",
       "    <tr style=\"text-align: right;\">\n",
       "      <th></th>\n",
       "      <th>MSSubClass</th>\n",
       "      <th>MSZoning</th>\n",
       "      <th>LotFrontage</th>\n",
       "      <th>LotArea</th>\n",
       "      <th>Street</th>\n",
       "      <th>Alley</th>\n",
       "      <th>LotShape</th>\n",
       "      <th>LandContour</th>\n",
       "      <th>Utilities</th>\n",
       "      <th>LotConfig</th>\n",
       "      <th>...</th>\n",
       "      <th>PoolArea</th>\n",
       "      <th>PoolQC</th>\n",
       "      <th>Fence</th>\n",
       "      <th>MiscFeature</th>\n",
       "      <th>MiscVal</th>\n",
       "      <th>MoSold</th>\n",
       "      <th>YrSold</th>\n",
       "      <th>SaleType</th>\n",
       "      <th>SaleCondition</th>\n",
       "      <th>SalePrice</th>\n",
       "    </tr>\n",
       "  </thead>\n",
       "  <tbody>\n",
       "    <tr>\n",
       "      <th>0</th>\n",
       "      <td>60</td>\n",
       "      <td>RL</td>\n",
       "      <td>65.0</td>\n",
       "      <td>8450</td>\n",
       "      <td>Pave</td>\n",
       "      <td>NaN</td>\n",
       "      <td>Reg</td>\n",
       "      <td>Lvl</td>\n",
       "      <td>AllPub</td>\n",
       "      <td>Inside</td>\n",
       "      <td>...</td>\n",
       "      <td>0</td>\n",
       "      <td>NaN</td>\n",
       "      <td>NaN</td>\n",
       "      <td>NaN</td>\n",
       "      <td>0</td>\n",
       "      <td>2</td>\n",
       "      <td>2008</td>\n",
       "      <td>WD</td>\n",
       "      <td>Normal</td>\n",
       "      <td>208500</td>\n",
       "    </tr>\n",
       "    <tr>\n",
       "      <th>1</th>\n",
       "      <td>20</td>\n",
       "      <td>RL</td>\n",
       "      <td>80.0</td>\n",
       "      <td>9600</td>\n",
       "      <td>Pave</td>\n",
       "      <td>NaN</td>\n",
       "      <td>Reg</td>\n",
       "      <td>Lvl</td>\n",
       "      <td>AllPub</td>\n",
       "      <td>FR2</td>\n",
       "      <td>...</td>\n",
       "      <td>0</td>\n",
       "      <td>NaN</td>\n",
       "      <td>NaN</td>\n",
       "      <td>NaN</td>\n",
       "      <td>0</td>\n",
       "      <td>5</td>\n",
       "      <td>2007</td>\n",
       "      <td>WD</td>\n",
       "      <td>Normal</td>\n",
       "      <td>181500</td>\n",
       "    </tr>\n",
       "    <tr>\n",
       "      <th>2</th>\n",
       "      <td>60</td>\n",
       "      <td>RL</td>\n",
       "      <td>68.0</td>\n",
       "      <td>11250</td>\n",
       "      <td>Pave</td>\n",
       "      <td>NaN</td>\n",
       "      <td>IR1</td>\n",
       "      <td>Lvl</td>\n",
       "      <td>AllPub</td>\n",
       "      <td>Inside</td>\n",
       "      <td>...</td>\n",
       "      <td>0</td>\n",
       "      <td>NaN</td>\n",
       "      <td>NaN</td>\n",
       "      <td>NaN</td>\n",
       "      <td>0</td>\n",
       "      <td>9</td>\n",
       "      <td>2008</td>\n",
       "      <td>WD</td>\n",
       "      <td>Normal</td>\n",
       "      <td>223500</td>\n",
       "    </tr>\n",
       "    <tr>\n",
       "      <th>3</th>\n",
       "      <td>70</td>\n",
       "      <td>RL</td>\n",
       "      <td>60.0</td>\n",
       "      <td>9550</td>\n",
       "      <td>Pave</td>\n",
       "      <td>NaN</td>\n",
       "      <td>IR1</td>\n",
       "      <td>Lvl</td>\n",
       "      <td>AllPub</td>\n",
       "      <td>Corner</td>\n",
       "      <td>...</td>\n",
       "      <td>0</td>\n",
       "      <td>NaN</td>\n",
       "      <td>NaN</td>\n",
       "      <td>NaN</td>\n",
       "      <td>0</td>\n",
       "      <td>2</td>\n",
       "      <td>2006</td>\n",
       "      <td>WD</td>\n",
       "      <td>Abnorml</td>\n",
       "      <td>140000</td>\n",
       "    </tr>\n",
       "    <tr>\n",
       "      <th>4</th>\n",
       "      <td>60</td>\n",
       "      <td>RL</td>\n",
       "      <td>84.0</td>\n",
       "      <td>14260</td>\n",
       "      <td>Pave</td>\n",
       "      <td>NaN</td>\n",
       "      <td>IR1</td>\n",
       "      <td>Lvl</td>\n",
       "      <td>AllPub</td>\n",
       "      <td>FR2</td>\n",
       "      <td>...</td>\n",
       "      <td>0</td>\n",
       "      <td>NaN</td>\n",
       "      <td>NaN</td>\n",
       "      <td>NaN</td>\n",
       "      <td>0</td>\n",
       "      <td>12</td>\n",
       "      <td>2008</td>\n",
       "      <td>WD</td>\n",
       "      <td>Normal</td>\n",
       "      <td>250000</td>\n",
       "    </tr>\n",
       "  </tbody>\n",
       "</table>\n",
       "<p>5 rows × 80 columns</p>\n",
       "</div>"
      ],
      "text/plain": [
       "   MSSubClass MSZoning  LotFrontage  LotArea Street Alley LotShape  \\\n",
       "0          60       RL         65.0     8450   Pave   NaN      Reg   \n",
       "1          20       RL         80.0     9600   Pave   NaN      Reg   \n",
       "2          60       RL         68.0    11250   Pave   NaN      IR1   \n",
       "3          70       RL         60.0     9550   Pave   NaN      IR1   \n",
       "4          60       RL         84.0    14260   Pave   NaN      IR1   \n",
       "\n",
       "  LandContour Utilities LotConfig  ... PoolArea PoolQC Fence MiscFeature  \\\n",
       "0         Lvl    AllPub    Inside  ...        0    NaN   NaN         NaN   \n",
       "1         Lvl    AllPub       FR2  ...        0    NaN   NaN         NaN   \n",
       "2         Lvl    AllPub    Inside  ...        0    NaN   NaN         NaN   \n",
       "3         Lvl    AllPub    Corner  ...        0    NaN   NaN         NaN   \n",
       "4         Lvl    AllPub       FR2  ...        0    NaN   NaN         NaN   \n",
       "\n",
       "  MiscVal MoSold  YrSold  SaleType  SaleCondition  SalePrice  \n",
       "0       0      2    2008        WD         Normal     208500  \n",
       "1       0      5    2007        WD         Normal     181500  \n",
       "2       0      9    2008        WD         Normal     223500  \n",
       "3       0      2    2006        WD        Abnorml     140000  \n",
       "4       0     12    2008        WD         Normal     250000  \n",
       "\n",
       "[5 rows x 80 columns]"
      ]
     },
     "execution_count": 1,
     "metadata": {},
     "output_type": "execute_result"
    }
   ],
   "source": [
    "import pandas as pd\n",
    "\n",
    "TEST = '/kaggle/input/house-prices-advanced-regression-techniques/test.csv'\n",
    "TRAIN = '/kaggle/input/house-prices-advanced-regression-techniques/train.csv'\n",
    "\n",
    "test_df = pd.read_csv(filepath_or_buffer=TEST)\n",
    "df = pd.read_csv(filepath_or_buffer=TRAIN,).drop(columns=['Id'])\n",
    "df.head()"
   ]
  },
  {
   "cell_type": "code",
   "execution_count": 2,
   "id": "c90e51c2",
   "metadata": {
    "execution": {
     "iopub.execute_input": "2024-05-13T14:19:01.440807Z",
     "iopub.status.busy": "2024-05-13T14:19:01.440106Z",
     "iopub.status.idle": "2024-05-13T14:19:01.460498Z",
     "shell.execute_reply": "2024-05-13T14:19:01.459330Z"
    },
    "papermill": {
     "duration": 0.02928,
     "end_time": "2024-05-13T14:19:01.463316",
     "exception": false,
     "start_time": "2024-05-13T14:19:01.434036",
     "status": "completed"
    },
    "tags": []
   },
   "outputs": [],
   "source": [
    "TARGET = 'SalePrice'\n",
    "keys = [key for key, value in df.drop(columns=[TARGET]).dtypes.to_dict().items() if str(value) in {'int64', 'float64'}]\n",
    "COLUMNS = [key for key in keys if test_df[key].isna().sum() == 0]\n",
    "knn_columns  = [key for key in keys if 0 < test_df[key].isna().sum() < 5]"
   ]
  },
  {
   "cell_type": "markdown",
   "id": "7e723aec",
   "metadata": {
    "papermill": {
     "duration": 0.004383,
     "end_time": "2024-05-13T14:19:01.472535",
     "exception": false,
     "start_time": "2024-05-13T14:19:01.468152",
     "status": "completed"
    },
    "tags": []
   },
   "source": [
    "The competition uses RMSE, so we need an RMSE metric."
   ]
  },
  {
   "cell_type": "code",
   "execution_count": 3,
   "id": "8a517620",
   "metadata": {
    "execution": {
     "iopub.execute_input": "2024-05-13T14:19:01.484224Z",
     "iopub.status.busy": "2024-05-13T14:19:01.483679Z",
     "iopub.status.idle": "2024-05-13T14:19:02.842012Z",
     "shell.execute_reply": "2024-05-13T14:19:02.840890Z"
    },
    "papermill": {
     "duration": 1.367104,
     "end_time": "2024-05-13T14:19:02.844728",
     "exception": false,
     "start_time": "2024-05-13T14:19:01.477624",
     "status": "completed"
    },
    "tags": []
   },
   "outputs": [],
   "source": [
    "import numpy as np\n",
    "from sklearn.metrics import mean_squared_error\n",
    "\n",
    "def rmse(y_true, y_pred) -> float:\n",
    "    return mean_squared_error(squared=False, y_true=np.log(1 + y_true), y_pred=np.log(1 + y_pred))"
   ]
  },
  {
   "cell_type": "code",
   "execution_count": 4,
   "id": "9229b198",
   "metadata": {
    "execution": {
     "iopub.execute_input": "2024-05-13T14:19:02.856136Z",
     "iopub.status.busy": "2024-05-13T14:19:02.855702Z",
     "iopub.status.idle": "2024-05-13T14:19:02.881937Z",
     "shell.execute_reply": "2024-05-13T14:19:02.880665Z"
    },
    "papermill": {
     "duration": 0.044528,
     "end_time": "2024-05-13T14:19:02.894083",
     "exception": false,
     "start_time": "2024-05-13T14:19:02.849555",
     "status": "completed"
    },
    "tags": []
   },
   "outputs": [
    {
     "name": "stdout",
     "output_type": "stream",
     "text": [
      "train/test sizes: 1168/292\n"
     ]
    }
   ],
   "source": [
    "from sklearn.model_selection import train_test_split\n",
    "\n",
    "X_train, X_test, y_train, y_test = train_test_split(df[COLUMNS], df[TARGET], test_size=0.20, random_state=2024)\n",
    "print('train/test sizes: {}/{}'.format(len(X_train), len(X_test)))"
   ]
  },
  {
   "cell_type": "code",
   "execution_count": 5,
   "id": "301a9040",
   "metadata": {
    "execution": {
     "iopub.execute_input": "2024-05-13T14:19:02.906126Z",
     "iopub.status.busy": "2024-05-13T14:19:02.905311Z",
     "iopub.status.idle": "2024-05-13T14:19:31.999784Z",
     "shell.execute_reply": "2024-05-13T14:19:31.997564Z"
    },
    "papermill": {
     "duration": 29.103333,
     "end_time": "2024-05-13T14:19:32.002322",
     "exception": false,
     "start_time": "2024-05-13T14:19:02.898989",
     "status": "completed"
    },
    "tags": []
   },
   "outputs": [
    {
     "name": "stdout",
     "output_type": "stream",
     "text": [
      "0.2044 : ridge +\n"
     ]
    },
    {
     "name": "stderr",
     "output_type": "stream",
     "text": [
      "/tmp/ipykernel_18/71397580.py:5: RuntimeWarning: invalid value encountered in log\n",
      "  return mean_squared_error(squared=False, y_true=np.log(1 + y_true), y_pred=np.log(1 + y_pred))\n",
      "/tmp/ipykernel_18/71397580.py:5: RuntimeWarning: invalid value encountered in log\n",
      "  return mean_squared_error(squared=False, y_true=np.log(1 + y_true), y_pred=np.log(1 + y_pred))\n"
     ]
    },
    {
     "name": "stdout",
     "output_type": "stream",
     "text": [
      "0.2479 : neural network\n",
      "0.2039 : tree\n"
     ]
    }
   ],
   "source": [
    "import numpy as np\n",
    "from sklearn.impute import KNNImputer\n",
    "from sklearn.linear_model import Ridge\n",
    "from sklearn.model_selection import train_test_split\n",
    "from sklearn.neural_network import MLPRegressor\n",
    "from sklearn.svm import SVR\n",
    "from sklearn.tree import DecisionTreeRegressor\n",
    "\n",
    "ACTIVATION = 'identity'\n",
    "CRITERION = 'absolute_error'\n",
    "MODELS = {\n",
    "    'ridge +': Ridge(tol=1e-4, random_state=2024, max_iter=10000, positive=True, solver='lbfgs'),\n",
    "    'neural network' : MLPRegressor(hidden_layer_sizes=(400, 200, 100,), activation=ACTIVATION, solver='adam', alpha=1e-3, batch_size='auto', \n",
    "                      learning_rate='adaptive', learning_rate_init=1e-2, power_t=0.5, max_iter=1000, shuffle=True, random_state=2024,\n",
    "                      tol=1e-5, verbose=False, warm_start=False, momentum=0.8, nesterovs_momentum=True, early_stopping=False, beta_1=0.9, \n",
    "                      beta_2=0.999, epsilon=1e-08, n_iter_no_change=20, max_fun=15000),\n",
    "    'tree' : DecisionTreeRegressor(criterion=CRITERION, splitter='best', max_depth=None, min_samples_split=2, min_samples_leaf=1,\n",
    "                             min_weight_fraction_leaf=0.0, max_features=None, random_state=2024, max_leaf_nodes=None,\n",
    "                             min_impurity_decrease=0.0, ccp_alpha=0.0, ),\n",
    "}\n",
    "\n",
    "\n",
    "columns = COLUMNS + ['BsmtFinSF1',  'BsmtUnfSF', 'TotalBsmtSF']\n",
    "imputer = KNNImputer()\n",
    "knn_df = imputer.fit_transform(X=df[columns])\n",
    "for name, model in MODELS.items():\n",
    "    scores = []\n",
    "    for random_state in range(10):\n",
    "        X_train, X_test, y_train, y_test = train_test_split(knn_df, df[TARGET], test_size=0.20, random_state=random_state)\n",
    "        try:\n",
    "            model.fit(X=X_train, y=y_train)\n",
    "            score = rmse(y_true=y_test, y_pred=model.predict(X=X_test))\n",
    "            scores.append(score)\n",
    "        except ValueError:\n",
    "            pass\n",
    "\n",
    "    print('{:5.4f} : {}'.format(sum(scores)/len(scores), name))"
   ]
  },
  {
   "cell_type": "markdown",
   "id": "8ce35439",
   "metadata": {
    "papermill": {
     "duration": 0.004925,
     "end_time": "2024-05-13T14:19:32.012627",
     "exception": false,
     "start_time": "2024-05-13T14:19:32.007702",
     "status": "completed"
    },
    "tags": []
   },
   "source": [
    "Let's spend some time tuning our ridge regression parameters:\n",
    "* alpha : l2 regularization strength\n",
    "\n",
    "Remember that we have learned elsewhere that our error metric is sensitive to the train/test split, so to fairly compare different alpha values we need to take the mean RMSE across a range of random state values.\n"
   ]
  },
  {
   "cell_type": "code",
   "execution_count": 6,
   "id": "512b75b8",
   "metadata": {
    "execution": {
     "iopub.execute_input": "2024-05-13T14:19:32.025546Z",
     "iopub.status.busy": "2024-05-13T14:19:32.025150Z",
     "iopub.status.idle": "2024-05-13T14:19:43.356008Z",
     "shell.execute_reply": "2024-05-13T14:19:43.354704Z"
    },
    "papermill": {
     "duration": 11.340682,
     "end_time": "2024-05-13T14:19:43.358520",
     "exception": false,
     "start_time": "2024-05-13T14:19:32.017838",
     "status": "completed"
    },
    "tags": []
   },
   "outputs": [
    {
     "data": {
      "text/html": [
       "        <script type=\"text/javascript\">\n",
       "        window.PlotlyConfig = {MathJaxConfig: 'local'};\n",
       "        if (window.MathJax && window.MathJax.Hub && window.MathJax.Hub.Config) {window.MathJax.Hub.Config({SVG: {font: \"STIX-Web\"}});}\n",
       "        if (typeof require !== 'undefined') {\n",
       "        require.undef(\"plotly\");\n",
       "        requirejs.config({\n",
       "            paths: {\n",
       "                'plotly': ['https://cdn.plot.ly/plotly-2.27.0.min']\n",
       "            }\n",
       "        });\n",
       "        require(['plotly'], function(Plotly) {\n",
       "            window._Plotly = Plotly;\n",
       "        });\n",
       "        }\n",
       "        </script>\n",
       "        "
      ]
     },
     "metadata": {},
     "output_type": "display_data"
    },
    {
     "data": {
      "text/html": [
       "<div>                            <div id=\"6c8236be-5557-4c76-85db-f67e9fbf4e57\" class=\"plotly-graph-div\" style=\"height:525px; width:100%;\"></div>            <script type=\"text/javascript\">                require([\"plotly\"], function(Plotly) {                    window.PLOTLYENV=window.PLOTLYENV || {};                                    if (document.getElementById(\"6c8236be-5557-4c76-85db-f67e9fbf4e57\")) {                    Plotly.newPlot(                        \"6c8236be-5557-4c76-85db-f67e9fbf4e57\",                        [{\"hovertemplate\":\"_index=%{x}\\u003cbr\\u003e0=%{y}\\u003cextra\\u003e\\u003c\\u002fextra\\u003e\",\"legendgroup\":\"\",\"line\":{\"color\":\"#636efa\",\"dash\":\"solid\"},\"marker\":{\"symbol\":\"circle\"},\"mode\":\"lines\",\"name\":\"\",\"orientation\":\"v\",\"showlegend\":false,\"x\":[0,1,2,3,4,5,6,7,8,9,10,11,12,13,14,15,16,17,18,19,20,21,22,23,24,25,26,27,28,29,30,31,32,33,34,35,36,37,38,39],\"xaxis\":\"x\",\"y\":[0.20473441153045874,0.2043739783835165,0.2046841078376369,0.20457889150879374,0.2044526243613043,0.20420191174932914,0.20418003079413388,0.20486077035973885,0.2040120039669579,0.20453968305947123,0.2042793790086901,0.2045340008530594,0.20448914993107675,0.2051529419599484,0.2044479397210961,0.20475581187053926,0.2044946588688354,0.20455848456479986,0.20472409013480877,0.2048717379712534,0.20493176489403903,0.20460354662798325,0.20515392364838664,0.20509106620879886,0.20476047220010235,0.2044761962774217,0.20456873884712765,0.2048385591296665,0.2043862590601076,0.20433990172311334,0.20488014081392736,0.2050023737675052,0.20391452516302677,0.2050617658122663,0.20433310234001287,0.2044466613876113,0.20440879878960136,0.20479244378489078,0.20489520594082844,0.20490989177018254],\"yaxis\":\"y\",\"type\":\"scatter\"}],                        {\"template\":{\"data\":{\"histogram2dcontour\":[{\"type\":\"histogram2dcontour\",\"colorbar\":{\"outlinewidth\":0,\"ticks\":\"\"},\"colorscale\":[[0.0,\"#0d0887\"],[0.1111111111111111,\"#46039f\"],[0.2222222222222222,\"#7201a8\"],[0.3333333333333333,\"#9c179e\"],[0.4444444444444444,\"#bd3786\"],[0.5555555555555556,\"#d8576b\"],[0.6666666666666666,\"#ed7953\"],[0.7777777777777778,\"#fb9f3a\"],[0.8888888888888888,\"#fdca26\"],[1.0,\"#f0f921\"]]}],\"choropleth\":[{\"type\":\"choropleth\",\"colorbar\":{\"outlinewidth\":0,\"ticks\":\"\"}}],\"histogram2d\":[{\"type\":\"histogram2d\",\"colorbar\":{\"outlinewidth\":0,\"ticks\":\"\"},\"colorscale\":[[0.0,\"#0d0887\"],[0.1111111111111111,\"#46039f\"],[0.2222222222222222,\"#7201a8\"],[0.3333333333333333,\"#9c179e\"],[0.4444444444444444,\"#bd3786\"],[0.5555555555555556,\"#d8576b\"],[0.6666666666666666,\"#ed7953\"],[0.7777777777777778,\"#fb9f3a\"],[0.8888888888888888,\"#fdca26\"],[1.0,\"#f0f921\"]]}],\"heatmap\":[{\"type\":\"heatmap\",\"colorbar\":{\"outlinewidth\":0,\"ticks\":\"\"},\"colorscale\":[[0.0,\"#0d0887\"],[0.1111111111111111,\"#46039f\"],[0.2222222222222222,\"#7201a8\"],[0.3333333333333333,\"#9c179e\"],[0.4444444444444444,\"#bd3786\"],[0.5555555555555556,\"#d8576b\"],[0.6666666666666666,\"#ed7953\"],[0.7777777777777778,\"#fb9f3a\"],[0.8888888888888888,\"#fdca26\"],[1.0,\"#f0f921\"]]}],\"heatmapgl\":[{\"type\":\"heatmapgl\",\"colorbar\":{\"outlinewidth\":0,\"ticks\":\"\"},\"colorscale\":[[0.0,\"#0d0887\"],[0.1111111111111111,\"#46039f\"],[0.2222222222222222,\"#7201a8\"],[0.3333333333333333,\"#9c179e\"],[0.4444444444444444,\"#bd3786\"],[0.5555555555555556,\"#d8576b\"],[0.6666666666666666,\"#ed7953\"],[0.7777777777777778,\"#fb9f3a\"],[0.8888888888888888,\"#fdca26\"],[1.0,\"#f0f921\"]]}],\"contourcarpet\":[{\"type\":\"contourcarpet\",\"colorbar\":{\"outlinewidth\":0,\"ticks\":\"\"}}],\"contour\":[{\"type\":\"contour\",\"colorbar\":{\"outlinewidth\":0,\"ticks\":\"\"},\"colorscale\":[[0.0,\"#0d0887\"],[0.1111111111111111,\"#46039f\"],[0.2222222222222222,\"#7201a8\"],[0.3333333333333333,\"#9c179e\"],[0.4444444444444444,\"#bd3786\"],[0.5555555555555556,\"#d8576b\"],[0.6666666666666666,\"#ed7953\"],[0.7777777777777778,\"#fb9f3a\"],[0.8888888888888888,\"#fdca26\"],[1.0,\"#f0f921\"]]}],\"surface\":[{\"type\":\"surface\",\"colorbar\":{\"outlinewidth\":0,\"ticks\":\"\"},\"colorscale\":[[0.0,\"#0d0887\"],[0.1111111111111111,\"#46039f\"],[0.2222222222222222,\"#7201a8\"],[0.3333333333333333,\"#9c179e\"],[0.4444444444444444,\"#bd3786\"],[0.5555555555555556,\"#d8576b\"],[0.6666666666666666,\"#ed7953\"],[0.7777777777777778,\"#fb9f3a\"],[0.8888888888888888,\"#fdca26\"],[1.0,\"#f0f921\"]]}],\"mesh3d\":[{\"type\":\"mesh3d\",\"colorbar\":{\"outlinewidth\":0,\"ticks\":\"\"}}],\"scatter\":[{\"fillpattern\":{\"fillmode\":\"overlay\",\"size\":10,\"solidity\":0.2},\"type\":\"scatter\"}],\"parcoords\":[{\"type\":\"parcoords\",\"line\":{\"colorbar\":{\"outlinewidth\":0,\"ticks\":\"\"}}}],\"scatterpolargl\":[{\"type\":\"scatterpolargl\",\"marker\":{\"colorbar\":{\"outlinewidth\":0,\"ticks\":\"\"}}}],\"bar\":[{\"error_x\":{\"color\":\"#2a3f5f\"},\"error_y\":{\"color\":\"#2a3f5f\"},\"marker\":{\"line\":{\"color\":\"#E5ECF6\",\"width\":0.5},\"pattern\":{\"fillmode\":\"overlay\",\"size\":10,\"solidity\":0.2}},\"type\":\"bar\"}],\"scattergeo\":[{\"type\":\"scattergeo\",\"marker\":{\"colorbar\":{\"outlinewidth\":0,\"ticks\":\"\"}}}],\"scatterpolar\":[{\"type\":\"scatterpolar\",\"marker\":{\"colorbar\":{\"outlinewidth\":0,\"ticks\":\"\"}}}],\"histogram\":[{\"marker\":{\"pattern\":{\"fillmode\":\"overlay\",\"size\":10,\"solidity\":0.2}},\"type\":\"histogram\"}],\"scattergl\":[{\"type\":\"scattergl\",\"marker\":{\"colorbar\":{\"outlinewidth\":0,\"ticks\":\"\"}}}],\"scatter3d\":[{\"type\":\"scatter3d\",\"line\":{\"colorbar\":{\"outlinewidth\":0,\"ticks\":\"\"}},\"marker\":{\"colorbar\":{\"outlinewidth\":0,\"ticks\":\"\"}}}],\"scattermapbox\":[{\"type\":\"scattermapbox\",\"marker\":{\"colorbar\":{\"outlinewidth\":0,\"ticks\":\"\"}}}],\"scatterternary\":[{\"type\":\"scatterternary\",\"marker\":{\"colorbar\":{\"outlinewidth\":0,\"ticks\":\"\"}}}],\"scattercarpet\":[{\"type\":\"scattercarpet\",\"marker\":{\"colorbar\":{\"outlinewidth\":0,\"ticks\":\"\"}}}],\"carpet\":[{\"aaxis\":{\"endlinecolor\":\"#2a3f5f\",\"gridcolor\":\"white\",\"linecolor\":\"white\",\"minorgridcolor\":\"white\",\"startlinecolor\":\"#2a3f5f\"},\"baxis\":{\"endlinecolor\":\"#2a3f5f\",\"gridcolor\":\"white\",\"linecolor\":\"white\",\"minorgridcolor\":\"white\",\"startlinecolor\":\"#2a3f5f\"},\"type\":\"carpet\"}],\"table\":[{\"cells\":{\"fill\":{\"color\":\"#EBF0F8\"},\"line\":{\"color\":\"white\"}},\"header\":{\"fill\":{\"color\":\"#C8D4E3\"},\"line\":{\"color\":\"white\"}},\"type\":\"table\"}],\"barpolar\":[{\"marker\":{\"line\":{\"color\":\"#E5ECF6\",\"width\":0.5},\"pattern\":{\"fillmode\":\"overlay\",\"size\":10,\"solidity\":0.2}},\"type\":\"barpolar\"}],\"pie\":[{\"automargin\":true,\"type\":\"pie\"}]},\"layout\":{\"autotypenumbers\":\"strict\",\"colorway\":[\"#636efa\",\"#EF553B\",\"#00cc96\",\"#ab63fa\",\"#FFA15A\",\"#19d3f3\",\"#FF6692\",\"#B6E880\",\"#FF97FF\",\"#FECB52\"],\"font\":{\"color\":\"#2a3f5f\"},\"hovermode\":\"closest\",\"hoverlabel\":{\"align\":\"left\"},\"paper_bgcolor\":\"white\",\"plot_bgcolor\":\"#E5ECF6\",\"polar\":{\"bgcolor\":\"#E5ECF6\",\"angularaxis\":{\"gridcolor\":\"white\",\"linecolor\":\"white\",\"ticks\":\"\"},\"radialaxis\":{\"gridcolor\":\"white\",\"linecolor\":\"white\",\"ticks\":\"\"}},\"ternary\":{\"bgcolor\":\"#E5ECF6\",\"aaxis\":{\"gridcolor\":\"white\",\"linecolor\":\"white\",\"ticks\":\"\"},\"baxis\":{\"gridcolor\":\"white\",\"linecolor\":\"white\",\"ticks\":\"\"},\"caxis\":{\"gridcolor\":\"white\",\"linecolor\":\"white\",\"ticks\":\"\"}},\"coloraxis\":{\"colorbar\":{\"outlinewidth\":0,\"ticks\":\"\"}},\"colorscale\":{\"sequential\":[[0.0,\"#0d0887\"],[0.1111111111111111,\"#46039f\"],[0.2222222222222222,\"#7201a8\"],[0.3333333333333333,\"#9c179e\"],[0.4444444444444444,\"#bd3786\"],[0.5555555555555556,\"#d8576b\"],[0.6666666666666666,\"#ed7953\"],[0.7777777777777778,\"#fb9f3a\"],[0.8888888888888888,\"#fdca26\"],[1.0,\"#f0f921\"]],\"sequentialminus\":[[0.0,\"#0d0887\"],[0.1111111111111111,\"#46039f\"],[0.2222222222222222,\"#7201a8\"],[0.3333333333333333,\"#9c179e\"],[0.4444444444444444,\"#bd3786\"],[0.5555555555555556,\"#d8576b\"],[0.6666666666666666,\"#ed7953\"],[0.7777777777777778,\"#fb9f3a\"],[0.8888888888888888,\"#fdca26\"],[1.0,\"#f0f921\"]],\"diverging\":[[0,\"#8e0152\"],[0.1,\"#c51b7d\"],[0.2,\"#de77ae\"],[0.3,\"#f1b6da\"],[0.4,\"#fde0ef\"],[0.5,\"#f7f7f7\"],[0.6,\"#e6f5d0\"],[0.7,\"#b8e186\"],[0.8,\"#7fbc41\"],[0.9,\"#4d9221\"],[1,\"#276419\"]]},\"xaxis\":{\"gridcolor\":\"white\",\"linecolor\":\"white\",\"ticks\":\"\",\"title\":{\"standoff\":15},\"zerolinecolor\":\"white\",\"automargin\":true,\"zerolinewidth\":2},\"yaxis\":{\"gridcolor\":\"white\",\"linecolor\":\"white\",\"ticks\":\"\",\"title\":{\"standoff\":15},\"zerolinecolor\":\"white\",\"automargin\":true,\"zerolinewidth\":2},\"scene\":{\"xaxis\":{\"backgroundcolor\":\"#E5ECF6\",\"gridcolor\":\"white\",\"linecolor\":\"white\",\"showbackground\":true,\"ticks\":\"\",\"zerolinecolor\":\"white\",\"gridwidth\":2},\"yaxis\":{\"backgroundcolor\":\"#E5ECF6\",\"gridcolor\":\"white\",\"linecolor\":\"white\",\"showbackground\":true,\"ticks\":\"\",\"zerolinecolor\":\"white\",\"gridwidth\":2},\"zaxis\":{\"backgroundcolor\":\"#E5ECF6\",\"gridcolor\":\"white\",\"linecolor\":\"white\",\"showbackground\":true,\"ticks\":\"\",\"zerolinecolor\":\"white\",\"gridwidth\":2}},\"shapedefaults\":{\"line\":{\"color\":\"#2a3f5f\"}},\"annotationdefaults\":{\"arrowcolor\":\"#2a3f5f\",\"arrowhead\":0,\"arrowwidth\":1},\"geo\":{\"bgcolor\":\"white\",\"landcolor\":\"#E5ECF6\",\"subunitcolor\":\"white\",\"showland\":true,\"showlakes\":true,\"lakecolor\":\"white\"},\"title\":{\"x\":0.05},\"mapbox\":{\"style\":\"light\"}}},\"xaxis\":{\"anchor\":\"y\",\"domain\":[0.0,1.0],\"title\":{\"text\":\"_index\"}},\"yaxis\":{\"anchor\":\"x\",\"domain\":[0.0,1.0],\"title\":{\"text\":\"0\"}},\"legend\":{\"tracegroupgap\":0},\"margin\":{\"t\":60}},                        {\"responsive\": true}                    ).then(function(){\n",
       "                            \n",
       "var gd = document.getElementById('6c8236be-5557-4c76-85db-f67e9fbf4e57');\n",
       "var x = new MutationObserver(function (mutations, observer) {{\n",
       "        var display = window.getComputedStyle(gd).display;\n",
       "        if (!display || display === 'none') {{\n",
       "            console.log([gd, 'removed!']);\n",
       "            Plotly.purge(gd);\n",
       "            observer.disconnect();\n",
       "        }}\n",
       "}});\n",
       "\n",
       "// Listen for the removal of the full notebook cells\n",
       "var notebookContainer = gd.closest('#notebook-container');\n",
       "if (notebookContainer) {{\n",
       "    x.observe(notebookContainer, {childList: true});\n",
       "}}\n",
       "\n",
       "// Listen for the clearing of the current output cell\n",
       "var outputEl = gd.closest('.output');\n",
       "if (outputEl) {{\n",
       "    x.observe(outputEl, {childList: true});\n",
       "}}\n",
       "\n",
       "                        })                };                });            </script>        </div>"
      ]
     },
     "metadata": {},
     "output_type": "display_data"
    }
   ],
   "source": [
    "from plotly import express\n",
    "\n",
    "alpha_df = pd.DataFrame()\n",
    "best_score = 0.9\n",
    "for ialpha in range(40):\n",
    "    model = Ridge(alpha=(1 + ialpha) / 2.0, tol=1e-4, random_state=2024, max_iter=10000, positive=True, solver='lbfgs')\n",
    "    scores = []\n",
    "    for random_state in range(10):\n",
    "        X_train, X_test, y_train, y_test = train_test_split(knn_df, df[TARGET], test_size=0.20, random_state=random_state)\n",
    "        model.fit(X=X_train, y=y_train)\n",
    "        scores.append(rmse(y_true=y_test, y_pred=model.predict(X=X_test)))\n",
    "    alpha_df[ialpha] = scores\n",
    "    mean_score = sum(scores)/len(scores)\n",
    "    if mean_score < best_score:\n",
    "        best_score = mean_score\n",
    "        MODELS['best'] = model\n",
    "        \n",
    "\n",
    "express.line(data_frame=alpha_df.mean().to_frame().reset_index(), y=0)"
   ]
  },
  {
   "cell_type": "code",
   "execution_count": 7,
   "id": "4becdf39",
   "metadata": {
    "execution": {
     "iopub.execute_input": "2024-05-13T14:19:43.372236Z",
     "iopub.status.busy": "2024-05-13T14:19:43.371164Z",
     "iopub.status.idle": "2024-05-13T14:19:43.450154Z",
     "shell.execute_reply": "2024-05-13T14:19:43.448458Z"
    },
    "papermill": {
     "duration": 0.091273,
     "end_time": "2024-05-13T14:19:43.455564",
     "exception": false,
     "start_time": "2024-05-13T14:19:43.364291",
     "status": "completed"
    },
    "tags": []
   },
   "outputs": [],
   "source": [
    "SUBMISSION = '/kaggle/working/submission.csv'\n",
    "\n",
    "name = 'best'\n",
    "imputer = KNNImputer().fit(X=pd.concat(objs=[df, test_df])[columns])\n",
    "y_tree_pred = MODELS[name].fit(X=imputer.transform(X=df[columns]), y=df[TARGET]).predict(X=imputer.transform(X=test_df[columns]))\n",
    "pd.DataFrame(data={'Id': test_df['Id'], 'SalePrice': y_tree_pred}).to_csv(path_or_buf=SUBMISSION, index=False)"
   ]
  },
  {
   "cell_type": "code",
   "execution_count": 8,
   "id": "3b43862f",
   "metadata": {
    "execution": {
     "iopub.execute_input": "2024-05-13T14:19:43.483832Z",
     "iopub.status.busy": "2024-05-13T14:19:43.483122Z",
     "iopub.status.idle": "2024-05-13T14:19:43.537622Z",
     "shell.execute_reply": "2024-05-13T14:19:43.535974Z"
    },
    "papermill": {
     "duration": 0.074107,
     "end_time": "2024-05-13T14:19:43.542790",
     "exception": false,
     "start_time": "2024-05-13T14:19:43.468683",
     "status": "completed"
    },
    "tags": []
   },
   "outputs": [
    {
     "data": {
      "text/plain": [
       "{'MSSubClass': 15,\n",
       " 'MSZoning': 5,\n",
       " 'LotFrontage': 110,\n",
       " 'LotArea': 1073,\n",
       " 'Street': 2,\n",
       " 'Alley': 2,\n",
       " 'LotShape': 4,\n",
       " 'LandContour': 4,\n",
       " 'Utilities': 2,\n",
       " 'LotConfig': 5,\n",
       " 'LandSlope': 3,\n",
       " 'Neighborhood': 25,\n",
       " 'Condition1': 9,\n",
       " 'Condition2': 8,\n",
       " 'BldgType': 5,\n",
       " 'HouseStyle': 8,\n",
       " 'OverallQual': 10,\n",
       " 'OverallCond': 9,\n",
       " 'YearBuilt': 112,\n",
       " 'YearRemodAdd': 61,\n",
       " 'RoofStyle': 6,\n",
       " 'RoofMatl': 8,\n",
       " 'Exterior1st': 15,\n",
       " 'Exterior2nd': 16,\n",
       " 'MasVnrType': 3,\n",
       " 'MasVnrArea': 327,\n",
       " 'ExterQual': 4,\n",
       " 'ExterCond': 5,\n",
       " 'Foundation': 6,\n",
       " 'BsmtQual': 4,\n",
       " 'BsmtCond': 4,\n",
       " 'BsmtExposure': 4,\n",
       " 'BsmtFinType1': 6,\n",
       " 'BsmtFinSF1': 637,\n",
       " 'BsmtFinType2': 6,\n",
       " 'BsmtFinSF2': 144,\n",
       " 'BsmtUnfSF': 780,\n",
       " 'TotalBsmtSF': 721,\n",
       " 'Heating': 6,\n",
       " 'HeatingQC': 5,\n",
       " 'CentralAir': 2,\n",
       " 'Electrical': 5,\n",
       " '1stFlrSF': 753,\n",
       " '2ndFlrSF': 417,\n",
       " 'LowQualFinSF': 24,\n",
       " 'GrLivArea': 861,\n",
       " 'BsmtFullBath': 4,\n",
       " 'BsmtHalfBath': 3,\n",
       " 'FullBath': 4,\n",
       " 'HalfBath': 3,\n",
       " 'BedroomAbvGr': 8,\n",
       " 'KitchenAbvGr': 4,\n",
       " 'KitchenQual': 4,\n",
       " 'TotRmsAbvGrd': 12,\n",
       " 'Functional': 7,\n",
       " 'Fireplaces': 4,\n",
       " 'FireplaceQu': 5,\n",
       " 'GarageType': 6,\n",
       " 'GarageYrBlt': 97,\n",
       " 'GarageFinish': 3,\n",
       " 'GarageCars': 5,\n",
       " 'GarageArea': 441,\n",
       " 'GarageQual': 5,\n",
       " 'GarageCond': 5,\n",
       " 'PavedDrive': 3,\n",
       " 'WoodDeckSF': 274,\n",
       " 'OpenPorchSF': 202,\n",
       " 'EnclosedPorch': 120,\n",
       " '3SsnPorch': 20,\n",
       " 'ScreenPorch': 76,\n",
       " 'PoolArea': 8,\n",
       " 'PoolQC': 3,\n",
       " 'Fence': 4,\n",
       " 'MiscFeature': 4,\n",
       " 'MiscVal': 21,\n",
       " 'MoSold': 12,\n",
       " 'YrSold': 5,\n",
       " 'SaleType': 9,\n",
       " 'SaleCondition': 6,\n",
       " 'SalePrice': 663}"
      ]
     },
     "execution_count": 8,
     "metadata": {},
     "output_type": "execute_result"
    }
   ],
   "source": [
    "df.nunique().to_dict()"
   ]
  }
 ],
 "metadata": {
  "kaggle": {
   "accelerator": "none",
   "dataSources": [
    {
     "databundleVersionId": 868283,
     "sourceId": 5407,
     "sourceType": "competition"
    }
   ],
   "dockerImageVersionId": 30698,
   "isGpuEnabled": false,
   "isInternetEnabled": true,
   "language": "python",
   "sourceType": "notebook"
  },
  "kernelspec": {
   "display_name": "Python 3",
   "language": "python",
   "name": "python3"
  },
  "language_info": {
   "codemirror_mode": {
    "name": "ipython",
    "version": 3
   },
   "file_extension": ".py",
   "mimetype": "text/x-python",
   "name": "python",
   "nbconvert_exporter": "python",
   "pygments_lexer": "ipython3",
   "version": "3.10.13"
  },
  "papermill": {
   "default_parameters": {},
   "duration": 46.983974,
   "end_time": "2024-05-13T14:19:44.276160",
   "environment_variables": {},
   "exception": null,
   "input_path": "__notebook__.ipynb",
   "output_path": "__notebook__.ipynb",
   "parameters": {},
   "start_time": "2024-05-13T14:18:57.292186",
   "version": "2.5.0"
  }
 },
 "nbformat": 4,
 "nbformat_minor": 5
}
