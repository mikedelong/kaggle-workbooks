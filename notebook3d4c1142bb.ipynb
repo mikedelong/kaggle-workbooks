{
 "cells": [
  {
   "cell_type": "code",
   "execution_count": 1,
   "id": "960db6c9",
   "metadata": {
    "execution": {
     "iopub.execute_input": "2024-02-08T00:20:40.581225Z",
     "iopub.status.busy": "2024-02-08T00:20:40.580700Z",
     "iopub.status.idle": "2024-02-08T00:20:56.545618Z",
     "shell.execute_reply": "2024-02-08T00:20:56.543760Z"
    },
    "papermill": {
     "duration": 15.973104,
     "end_time": "2024-02-08T00:20:56.548847",
     "exception": false,
     "start_time": "2024-02-08T00:20:40.575743",
     "status": "completed"
    },
    "tags": []
   },
   "outputs": [],
   "source": [
    "!pip install --quiet geocoder"
   ]
  },
  {
   "cell_type": "code",
   "execution_count": 2,
   "id": "eeddddde",
   "metadata": {
    "_cell_guid": "b1076dfc-b9ad-4769-8c92-a6c4dae69d19",
    "_uuid": "8f2839f25d086af736a60e9eeb907d3b93b6e0e5",
    "execution": {
     "iopub.execute_input": "2024-02-08T00:20:56.556276Z",
     "iopub.status.busy": "2024-02-08T00:20:56.555790Z",
     "iopub.status.idle": "2024-02-08T00:20:57.664009Z",
     "shell.execute_reply": "2024-02-08T00:20:57.662989Z"
    },
    "papermill": {
     "duration": 1.114824,
     "end_time": "2024-02-08T00:20:57.666499",
     "exception": false,
     "start_time": "2024-02-08T00:20:56.551675",
     "status": "completed"
    },
    "tags": []
   },
   "outputs": [
    {
     "data": {
      "text/html": [
       "<div>\n",
       "<style scoped>\n",
       "    .dataframe tbody tr th:only-of-type {\n",
       "        vertical-align: middle;\n",
       "    }\n",
       "\n",
       "    .dataframe tbody tr th {\n",
       "        vertical-align: top;\n",
       "    }\n",
       "\n",
       "    .dataframe thead th {\n",
       "        text-align: right;\n",
       "    }\n",
       "</style>\n",
       "<table border=\"1\" class=\"dataframe\">\n",
       "  <thead>\n",
       "    <tr style=\"text-align: right;\">\n",
       "      <th></th>\n",
       "      <th>Date</th>\n",
       "      <th>Name</th>\n",
       "      <th>Nationality</th>\n",
       "      <th>Cause of death</th>\n",
       "      <th>Mountain</th>\n",
       "    </tr>\n",
       "  </thead>\n",
       "  <tbody>\n",
       "    <tr>\n",
       "      <th>0</th>\n",
       "      <td>2023-07-27</td>\n",
       "      <td>Muhammad Hassan</td>\n",
       "      <td>Pakistan</td>\n",
       "      <td>Unknown</td>\n",
       "      <td>K2</td>\n",
       "    </tr>\n",
       "    <tr>\n",
       "      <th>1</th>\n",
       "      <td>2022-07-22</td>\n",
       "      <td>Matthew Eakin</td>\n",
       "      <td>Australia</td>\n",
       "      <td>Fall</td>\n",
       "      <td>K2</td>\n",
       "    </tr>\n",
       "    <tr>\n",
       "      <th>2</th>\n",
       "      <td>2022-07-22</td>\n",
       "      <td>Richard Cartier</td>\n",
       "      <td>Canada</td>\n",
       "      <td>Fall</td>\n",
       "      <td>K2</td>\n",
       "    </tr>\n",
       "    <tr>\n",
       "      <th>3</th>\n",
       "      <td>2022-07-21</td>\n",
       "      <td>Ali Akbar Sakhi</td>\n",
       "      <td>Afghanistan</td>\n",
       "      <td>Unknown, suspected altitude sickness</td>\n",
       "      <td>K2</td>\n",
       "    </tr>\n",
       "    <tr>\n",
       "      <th>4</th>\n",
       "      <td>2021-07-25</td>\n",
       "      <td>Rick Allen</td>\n",
       "      <td>United Kingdom</td>\n",
       "      <td>Avalanche</td>\n",
       "      <td>K2</td>\n",
       "    </tr>\n",
       "  </tbody>\n",
       "</table>\n",
       "</div>"
      ],
      "text/plain": [
       "        Date             Name     Nationality  \\\n",
       "0 2023-07-27  Muhammad Hassan        Pakistan   \n",
       "1 2022-07-22    Matthew Eakin       Australia   \n",
       "2 2022-07-22  Richard Cartier          Canada   \n",
       "3 2022-07-21  Ali Akbar Sakhi     Afghanistan   \n",
       "4 2021-07-25       Rick Allen  United Kingdom   \n",
       "\n",
       "                         Cause of death Mountain  \n",
       "0                               Unknown       K2  \n",
       "1                                  Fall       K2  \n",
       "2                                  Fall       K2  \n",
       "3  Unknown, suspected altitude sickness       K2  \n",
       "4                             Avalanche       K2  "
      ]
     },
     "execution_count": 2,
     "metadata": {},
     "output_type": "execute_result"
    }
   ],
   "source": [
    "import pandas as pd\n",
    "\n",
    "DEATHS = '/kaggle/input/mountain-climbing-accidents-dataset/deaths_on_eight-thousanders.csv'\n",
    "\n",
    "df = pd.read_csv(filepath_or_buffer=DEATHS, parse_dates=['Date'])\n",
    "df.head()"
   ]
  },
  {
   "cell_type": "code",
   "execution_count": 3,
   "id": "fb4037db",
   "metadata": {
    "execution": {
     "iopub.execute_input": "2024-02-08T00:20:57.673889Z",
     "iopub.status.busy": "2024-02-08T00:20:57.673274Z",
     "iopub.status.idle": "2024-02-08T00:20:57.683341Z",
     "shell.execute_reply": "2024-02-08T00:20:57.681724Z"
    },
    "papermill": {
     "duration": 0.017098,
     "end_time": "2024-02-08T00:20:57.686245",
     "exception": false,
     "start_time": "2024-02-08T00:20:57.669147",
     "status": "completed"
    },
    "tags": []
   },
   "outputs": [
    {
     "data": {
      "text/plain": [
       "14"
      ]
     },
     "execution_count": 3,
     "metadata": {},
     "output_type": "execute_result"
    }
   ],
   "source": [
    "df['Mountain'].nunique()"
   ]
  },
  {
   "cell_type": "code",
   "execution_count": 4,
   "id": "d62f05bf",
   "metadata": {
    "execution": {
     "iopub.execute_input": "2024-02-08T00:20:57.693390Z",
     "iopub.status.busy": "2024-02-08T00:20:57.693012Z",
     "iopub.status.idle": "2024-02-08T00:21:08.947275Z",
     "shell.execute_reply": "2024-02-08T00:21:08.945923Z"
    },
    "papermill": {
     "duration": 11.261511,
     "end_time": "2024-02-08T00:21:08.950435",
     "exception": false,
     "start_time": "2024-02-08T00:20:57.688924",
     "status": "completed"
    },
    "tags": []
   },
   "outputs": [
    {
     "name": "stdout",
     "output_type": "stream",
     "text": [
      "K2 [35.88091000000003, 76.51334000000008]\n",
      "Kangchenjunga [27.703140000000076, 88.14739000000003]\n",
      "Lhotse [27.96204000000006, 86.93370000000004]\n",
      "Makalu [27.889880000000062, 87.08944000000008]\n",
      "Cho Oyu [28.09405000000004, 86.66080000000005]\n",
      "Dhaulagiri I [28.099330000000066, 81.56452000000007]\n",
      "Manaslu [28.549920000000043, 84.55962000000005]\n",
      "Nanga Parbat [35.237310000000036, 74.58914000000004]\n",
      "Annapurna I [28.59564000000006, 83.82053000000008]\n",
      "Gasherbrum I [35.72443000000004, 76.69641000000007]\n",
      "Broad Peak [51.41640000000007, -125.50304999999997]\n",
      "Gasherbrum II [35.75780000000003, 76.65298000000007]\n",
      "Shishapangma [28.353980000000035, 85.77807000000007]\n",
      "Mount Everest [27.987910000000056, 86.92529000000007]\n"
     ]
    }
   ],
   "source": [
    "from geocoder import arcgis\n",
    "for item in df['Mountain'].unique():\n",
    "    print(item, arcgis(location=item).latlng)"
   ]
  }
 ],
 "metadata": {
  "kaggle": {
   "accelerator": "none",
   "dataSources": [
    {
     "datasetId": 4415069,
     "sourceId": 7584712,
     "sourceType": "datasetVersion"
    }
   ],
   "dockerImageVersionId": 30646,
   "isGpuEnabled": false,
   "isInternetEnabled": true,
   "language": "python",
   "sourceType": "notebook"
  },
  "kernelspec": {
   "display_name": "Python 3",
   "language": "python",
   "name": "python3"
  },
  "language_info": {
   "codemirror_mode": {
    "name": "ipython",
    "version": 3
   },
   "file_extension": ".py",
   "mimetype": "text/x-python",
   "name": "python",
   "nbconvert_exporter": "python",
   "pygments_lexer": "ipython3",
   "version": "3.10.13"
  },
  "papermill": {
   "default_parameters": {},
   "duration": 32.386049,
   "end_time": "2024-02-08T00:21:09.578005",
   "environment_variables": {},
   "exception": null,
   "input_path": "__notebook__.ipynb",
   "output_path": "__notebook__.ipynb",
   "parameters": {},
   "start_time": "2024-02-08T00:20:37.191956",
   "version": "2.5.0"
  }
 },
 "nbformat": 4,
 "nbformat_minor": 5
}
