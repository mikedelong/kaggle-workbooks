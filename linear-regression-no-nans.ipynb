{
 "cells": [
  {
   "cell_type": "code",
   "execution_count": 1,
   "id": "994a32ff",
   "metadata": {
    "_cell_guid": "b1076dfc-b9ad-4769-8c92-a6c4dae69d19",
    "_uuid": "8f2839f25d086af736a60e9eeb907d3b93b6e0e5",
    "execution": {
     "iopub.execute_input": "2024-05-05T14:01:31.394204Z",
     "iopub.status.busy": "2024-05-05T14:01:31.393754Z",
     "iopub.status.idle": "2024-05-05T14:01:32.542430Z",
     "shell.execute_reply": "2024-05-05T14:01:32.540952Z"
    },
    "papermill": {
     "duration": 1.162384,
     "end_time": "2024-05-05T14:01:32.545812",
     "exception": false,
     "start_time": "2024-05-05T14:01:31.383428",
     "status": "completed"
    },
    "tags": []
   },
   "outputs": [
    {
     "data": {
      "text/html": [
       "<div>\n",
       "<style scoped>\n",
       "    .dataframe tbody tr th:only-of-type {\n",
       "        vertical-align: middle;\n",
       "    }\n",
       "\n",
       "    .dataframe tbody tr th {\n",
       "        vertical-align: top;\n",
       "    }\n",
       "\n",
       "    .dataframe thead th {\n",
       "        text-align: right;\n",
       "    }\n",
       "</style>\n",
       "<table border=\"1\" class=\"dataframe\">\n",
       "  <thead>\n",
       "    <tr style=\"text-align: right;\">\n",
       "      <th></th>\n",
       "      <th>MSSubClass</th>\n",
       "      <th>MSZoning</th>\n",
       "      <th>LotFrontage</th>\n",
       "      <th>LotArea</th>\n",
       "      <th>Street</th>\n",
       "      <th>Alley</th>\n",
       "      <th>LotShape</th>\n",
       "      <th>LandContour</th>\n",
       "      <th>Utilities</th>\n",
       "      <th>LotConfig</th>\n",
       "      <th>...</th>\n",
       "      <th>PoolArea</th>\n",
       "      <th>PoolQC</th>\n",
       "      <th>Fence</th>\n",
       "      <th>MiscFeature</th>\n",
       "      <th>MiscVal</th>\n",
       "      <th>MoSold</th>\n",
       "      <th>YrSold</th>\n",
       "      <th>SaleType</th>\n",
       "      <th>SaleCondition</th>\n",
       "      <th>SalePrice</th>\n",
       "    </tr>\n",
       "  </thead>\n",
       "  <tbody>\n",
       "    <tr>\n",
       "      <th>0</th>\n",
       "      <td>60</td>\n",
       "      <td>RL</td>\n",
       "      <td>65.0</td>\n",
       "      <td>8450</td>\n",
       "      <td>Pave</td>\n",
       "      <td>NaN</td>\n",
       "      <td>Reg</td>\n",
       "      <td>Lvl</td>\n",
       "      <td>AllPub</td>\n",
       "      <td>Inside</td>\n",
       "      <td>...</td>\n",
       "      <td>0</td>\n",
       "      <td>NaN</td>\n",
       "      <td>NaN</td>\n",
       "      <td>NaN</td>\n",
       "      <td>0</td>\n",
       "      <td>2</td>\n",
       "      <td>2008</td>\n",
       "      <td>WD</td>\n",
       "      <td>Normal</td>\n",
       "      <td>208500</td>\n",
       "    </tr>\n",
       "    <tr>\n",
       "      <th>1</th>\n",
       "      <td>20</td>\n",
       "      <td>RL</td>\n",
       "      <td>80.0</td>\n",
       "      <td>9600</td>\n",
       "      <td>Pave</td>\n",
       "      <td>NaN</td>\n",
       "      <td>Reg</td>\n",
       "      <td>Lvl</td>\n",
       "      <td>AllPub</td>\n",
       "      <td>FR2</td>\n",
       "      <td>...</td>\n",
       "      <td>0</td>\n",
       "      <td>NaN</td>\n",
       "      <td>NaN</td>\n",
       "      <td>NaN</td>\n",
       "      <td>0</td>\n",
       "      <td>5</td>\n",
       "      <td>2007</td>\n",
       "      <td>WD</td>\n",
       "      <td>Normal</td>\n",
       "      <td>181500</td>\n",
       "    </tr>\n",
       "    <tr>\n",
       "      <th>2</th>\n",
       "      <td>60</td>\n",
       "      <td>RL</td>\n",
       "      <td>68.0</td>\n",
       "      <td>11250</td>\n",
       "      <td>Pave</td>\n",
       "      <td>NaN</td>\n",
       "      <td>IR1</td>\n",
       "      <td>Lvl</td>\n",
       "      <td>AllPub</td>\n",
       "      <td>Inside</td>\n",
       "      <td>...</td>\n",
       "      <td>0</td>\n",
       "      <td>NaN</td>\n",
       "      <td>NaN</td>\n",
       "      <td>NaN</td>\n",
       "      <td>0</td>\n",
       "      <td>9</td>\n",
       "      <td>2008</td>\n",
       "      <td>WD</td>\n",
       "      <td>Normal</td>\n",
       "      <td>223500</td>\n",
       "    </tr>\n",
       "    <tr>\n",
       "      <th>3</th>\n",
       "      <td>70</td>\n",
       "      <td>RL</td>\n",
       "      <td>60.0</td>\n",
       "      <td>9550</td>\n",
       "      <td>Pave</td>\n",
       "      <td>NaN</td>\n",
       "      <td>IR1</td>\n",
       "      <td>Lvl</td>\n",
       "      <td>AllPub</td>\n",
       "      <td>Corner</td>\n",
       "      <td>...</td>\n",
       "      <td>0</td>\n",
       "      <td>NaN</td>\n",
       "      <td>NaN</td>\n",
       "      <td>NaN</td>\n",
       "      <td>0</td>\n",
       "      <td>2</td>\n",
       "      <td>2006</td>\n",
       "      <td>WD</td>\n",
       "      <td>Abnorml</td>\n",
       "      <td>140000</td>\n",
       "    </tr>\n",
       "    <tr>\n",
       "      <th>4</th>\n",
       "      <td>60</td>\n",
       "      <td>RL</td>\n",
       "      <td>84.0</td>\n",
       "      <td>14260</td>\n",
       "      <td>Pave</td>\n",
       "      <td>NaN</td>\n",
       "      <td>IR1</td>\n",
       "      <td>Lvl</td>\n",
       "      <td>AllPub</td>\n",
       "      <td>FR2</td>\n",
       "      <td>...</td>\n",
       "      <td>0</td>\n",
       "      <td>NaN</td>\n",
       "      <td>NaN</td>\n",
       "      <td>NaN</td>\n",
       "      <td>0</td>\n",
       "      <td>12</td>\n",
       "      <td>2008</td>\n",
       "      <td>WD</td>\n",
       "      <td>Normal</td>\n",
       "      <td>250000</td>\n",
       "    </tr>\n",
       "  </tbody>\n",
       "</table>\n",
       "<p>5 rows × 80 columns</p>\n",
       "</div>"
      ],
      "text/plain": [
       "   MSSubClass MSZoning  LotFrontage  LotArea Street Alley LotShape  \\\n",
       "0          60       RL         65.0     8450   Pave   NaN      Reg   \n",
       "1          20       RL         80.0     9600   Pave   NaN      Reg   \n",
       "2          60       RL         68.0    11250   Pave   NaN      IR1   \n",
       "3          70       RL         60.0     9550   Pave   NaN      IR1   \n",
       "4          60       RL         84.0    14260   Pave   NaN      IR1   \n",
       "\n",
       "  LandContour Utilities LotConfig  ... PoolArea PoolQC Fence MiscFeature  \\\n",
       "0         Lvl    AllPub    Inside  ...        0    NaN   NaN         NaN   \n",
       "1         Lvl    AllPub       FR2  ...        0    NaN   NaN         NaN   \n",
       "2         Lvl    AllPub    Inside  ...        0    NaN   NaN         NaN   \n",
       "3         Lvl    AllPub    Corner  ...        0    NaN   NaN         NaN   \n",
       "4         Lvl    AllPub       FR2  ...        0    NaN   NaN         NaN   \n",
       "\n",
       "  MiscVal MoSold  YrSold  SaleType  SaleCondition  SalePrice  \n",
       "0       0      2    2008        WD         Normal     208500  \n",
       "1       0      5    2007        WD         Normal     181500  \n",
       "2       0      9    2008        WD         Normal     223500  \n",
       "3       0      2    2006        WD        Abnorml     140000  \n",
       "4       0     12    2008        WD         Normal     250000  \n",
       "\n",
       "[5 rows x 80 columns]"
      ]
     },
     "execution_count": 1,
     "metadata": {},
     "output_type": "execute_result"
    }
   ],
   "source": [
    "import pandas as pd\n",
    "\n",
    "TRAIN = '/kaggle/input/house-prices-advanced-regression-techniques/train.csv'\n",
    "\n",
    "df = pd.read_csv(filepath_or_buffer=TRAIN,).drop(columns=['Id'])\n",
    "df.head()"
   ]
  },
  {
   "cell_type": "code",
   "execution_count": 2,
   "id": "7ddd6090",
   "metadata": {
    "execution": {
     "iopub.execute_input": "2024-05-05T14:01:32.564395Z",
     "iopub.status.busy": "2024-05-05T14:01:32.564008Z",
     "iopub.status.idle": "2024-05-05T14:01:32.608906Z",
     "shell.execute_reply": "2024-05-05T14:01:32.607258Z"
    },
    "papermill": {
     "duration": 0.058306,
     "end_time": "2024-05-05T14:01:32.612345",
     "exception": false,
     "start_time": "2024-05-05T14:01:32.554039",
     "status": "completed"
    },
    "tags": []
   },
   "outputs": [],
   "source": [
    "TEST = '/kaggle/input/house-prices-advanced-regression-techniques/test.csv'\n",
    "test_df = pd.read_csv(filepath_or_buffer=TEST)"
   ]
  },
  {
   "cell_type": "code",
   "execution_count": 3,
   "id": "d5f5bd69",
   "metadata": {
    "execution": {
     "iopub.execute_input": "2024-05-05T14:01:32.631619Z",
     "iopub.status.busy": "2024-05-05T14:01:32.631229Z",
     "iopub.status.idle": "2024-05-05T14:01:32.649364Z",
     "shell.execute_reply": "2024-05-05T14:01:32.647851Z"
    },
    "papermill": {
     "duration": 0.031575,
     "end_time": "2024-05-05T14:01:32.652346",
     "exception": false,
     "start_time": "2024-05-05T14:01:32.620771",
     "status": "completed"
    },
    "tags": []
   },
   "outputs": [],
   "source": [
    "TARGET = 'SalePrice'\n",
    "keys = [key for key, value in df.drop(columns=[TARGET]).dtypes.to_dict().items() if str(value) in {'int64', 'float64'}]\n",
    "numerical_columns = [key for key in keys if test_df[key].isna().sum() == 0]"
   ]
  },
  {
   "cell_type": "code",
   "execution_count": 4,
   "id": "b981c622",
   "metadata": {
    "execution": {
     "iopub.execute_input": "2024-05-05T14:01:32.671369Z",
     "iopub.status.busy": "2024-05-05T14:01:32.670987Z",
     "iopub.status.idle": "2024-05-05T14:01:34.396430Z",
     "shell.execute_reply": "2024-05-05T14:01:34.390704Z"
    },
    "papermill": {
     "duration": 1.742424,
     "end_time": "2024-05-05T14:01:34.402940",
     "exception": false,
     "start_time": "2024-05-05T14:01:32.660516",
     "status": "completed"
    },
    "tags": []
   },
   "outputs": [
    {
     "name": "stdout",
     "output_type": "stream",
     "text": [
      "rmse: 0.1671\n"
     ]
    }
   ],
   "source": [
    "import numpy as np\n",
    "from sklearn.linear_model import LinearRegression\n",
    "from sklearn.model_selection import train_test_split\n",
    "from sklearn.metrics import mean_squared_error\n",
    "\n",
    "X_train, X_test, y_train, y_test = train_test_split(df[numerical_columns], df[TARGET], test_size=0.20, random_state=2024)\n",
    "linreg = LinearRegression(positive=False).fit(X=X_train, y=y_train)\n",
    "print('rmse: {:5.4f}'.format(mean_squared_error(squared=False, y_true=np.log(y_test), y_pred=np.log(linreg.predict(X=X_test)))))"
   ]
  },
  {
   "cell_type": "code",
   "execution_count": 5,
   "id": "7202c075",
   "metadata": {
    "execution": {
     "iopub.execute_input": "2024-05-05T14:01:34.444035Z",
     "iopub.status.busy": "2024-05-05T14:01:34.443324Z",
     "iopub.status.idle": "2024-05-05T14:01:37.959947Z",
     "shell.execute_reply": "2024-05-05T14:01:37.958140Z"
    },
    "papermill": {
     "duration": 3.541333,
     "end_time": "2024-05-05T14:01:37.963086",
     "exception": false,
     "start_time": "2024-05-05T14:01:34.421753",
     "status": "completed"
    },
    "tags": []
   },
   "outputs": [
    {
     "data": {
      "text/html": [
       "        <script type=\"text/javascript\">\n",
       "        window.PlotlyConfig = {MathJaxConfig: 'local'};\n",
       "        if (window.MathJax && window.MathJax.Hub && window.MathJax.Hub.Config) {window.MathJax.Hub.Config({SVG: {font: \"STIX-Web\"}});}\n",
       "        if (typeof require !== 'undefined') {\n",
       "        require.undef(\"plotly\");\n",
       "        requirejs.config({\n",
       "            paths: {\n",
       "                'plotly': ['https://cdn.plot.ly/plotly-2.27.0.min']\n",
       "            }\n",
       "        });\n",
       "        require(['plotly'], function(Plotly) {\n",
       "            window._Plotly = Plotly;\n",
       "        });\n",
       "        }\n",
       "        </script>\n",
       "        "
      ]
     },
     "metadata": {},
     "output_type": "display_data"
    },
    {
     "data": {
      "text/html": [
       "<div>                            <div id=\"be779e17-fbcc-4d04-a9e0-1ef91887cdc5\" class=\"plotly-graph-div\" style=\"height:525px; width:100%;\"></div>            <script type=\"text/javascript\">                require([\"plotly\"], function(Plotly) {                    window.PLOTLYENV=window.PLOTLYENV || {};                                    if (document.getElementById(\"be779e17-fbcc-4d04-a9e0-1ef91887cdc5\")) {                    Plotly.newPlot(                        \"be779e17-fbcc-4d04-a9e0-1ef91887cdc5\",                        [{\"alignmentgroup\":\"True\",\"bingroup\":\"x\",\"histfunc\":\"sum\",\"hovertemplate\":\"x=%{x}\\u003cbr\\u003esum of y=%{y}\\u003cextra\\u003e\\u003c\\u002fextra\\u003e\",\"legendgroup\":\"\",\"marker\":{\"color\":\"#636efa\",\"pattern\":{\"shape\":\"\"}},\"name\":\"\",\"offsetgroup\":\"\",\"orientation\":\"v\",\"showlegend\":false,\"x\":[\"MSSubClass\",\"LotArea\",\"OverallQual\",\"OverallCond\",\"YearBuilt\",\"YearRemodAdd\",\"1stFlrSF\",\"2ndFlrSF\",\"LowQualFinSF\",\"GrLivArea\",\"FullBath\",\"HalfBath\",\"BedroomAbvGr\",\"KitchenAbvGr\",\"TotRmsAbvGrd\",\"Fireplaces\",\"WoodDeckSF\",\"OpenPorchSF\",\"EnclosedPorch\",\"3SsnPorch\",\"ScreenPorch\",\"PoolArea\",\"MiscVal\",\"MoSold\",\"YrSold\"],\"xaxis\":\"x\",\"y\":[-149.61968743796106,0.3833828554312624,19228.892356713943,5094.397714445715,512.1168608496619,140.72594688407045,29.418886883308566,13.536958283079528,-3.612482703434768,39.34336246062358,1321.4436684548764,-1772.2293769363137,-11718.462455850287,-15041.485815447226,5360.428106987738,5470.654863412699,31.90876736960877,-9.010252993110322,11.740982941998908,11.71844193910735,69.49313451730372,-36.742084020233484,-1.1384786817031212,-93.48389666693012,-531.2068191562329],\"yaxis\":\"y\",\"type\":\"histogram\"}],                        {\"template\":{\"data\":{\"histogram2dcontour\":[{\"type\":\"histogram2dcontour\",\"colorbar\":{\"outlinewidth\":0,\"ticks\":\"\"},\"colorscale\":[[0.0,\"#0d0887\"],[0.1111111111111111,\"#46039f\"],[0.2222222222222222,\"#7201a8\"],[0.3333333333333333,\"#9c179e\"],[0.4444444444444444,\"#bd3786\"],[0.5555555555555556,\"#d8576b\"],[0.6666666666666666,\"#ed7953\"],[0.7777777777777778,\"#fb9f3a\"],[0.8888888888888888,\"#fdca26\"],[1.0,\"#f0f921\"]]}],\"choropleth\":[{\"type\":\"choropleth\",\"colorbar\":{\"outlinewidth\":0,\"ticks\":\"\"}}],\"histogram2d\":[{\"type\":\"histogram2d\",\"colorbar\":{\"outlinewidth\":0,\"ticks\":\"\"},\"colorscale\":[[0.0,\"#0d0887\"],[0.1111111111111111,\"#46039f\"],[0.2222222222222222,\"#7201a8\"],[0.3333333333333333,\"#9c179e\"],[0.4444444444444444,\"#bd3786\"],[0.5555555555555556,\"#d8576b\"],[0.6666666666666666,\"#ed7953\"],[0.7777777777777778,\"#fb9f3a\"],[0.8888888888888888,\"#fdca26\"],[1.0,\"#f0f921\"]]}],\"heatmap\":[{\"type\":\"heatmap\",\"colorbar\":{\"outlinewidth\":0,\"ticks\":\"\"},\"colorscale\":[[0.0,\"#0d0887\"],[0.1111111111111111,\"#46039f\"],[0.2222222222222222,\"#7201a8\"],[0.3333333333333333,\"#9c179e\"],[0.4444444444444444,\"#bd3786\"],[0.5555555555555556,\"#d8576b\"],[0.6666666666666666,\"#ed7953\"],[0.7777777777777778,\"#fb9f3a\"],[0.8888888888888888,\"#fdca26\"],[1.0,\"#f0f921\"]]}],\"heatmapgl\":[{\"type\":\"heatmapgl\",\"colorbar\":{\"outlinewidth\":0,\"ticks\":\"\"},\"colorscale\":[[0.0,\"#0d0887\"],[0.1111111111111111,\"#46039f\"],[0.2222222222222222,\"#7201a8\"],[0.3333333333333333,\"#9c179e\"],[0.4444444444444444,\"#bd3786\"],[0.5555555555555556,\"#d8576b\"],[0.6666666666666666,\"#ed7953\"],[0.7777777777777778,\"#fb9f3a\"],[0.8888888888888888,\"#fdca26\"],[1.0,\"#f0f921\"]]}],\"contourcarpet\":[{\"type\":\"contourcarpet\",\"colorbar\":{\"outlinewidth\":0,\"ticks\":\"\"}}],\"contour\":[{\"type\":\"contour\",\"colorbar\":{\"outlinewidth\":0,\"ticks\":\"\"},\"colorscale\":[[0.0,\"#0d0887\"],[0.1111111111111111,\"#46039f\"],[0.2222222222222222,\"#7201a8\"],[0.3333333333333333,\"#9c179e\"],[0.4444444444444444,\"#bd3786\"],[0.5555555555555556,\"#d8576b\"],[0.6666666666666666,\"#ed7953\"],[0.7777777777777778,\"#fb9f3a\"],[0.8888888888888888,\"#fdca26\"],[1.0,\"#f0f921\"]]}],\"surface\":[{\"type\":\"surface\",\"colorbar\":{\"outlinewidth\":0,\"ticks\":\"\"},\"colorscale\":[[0.0,\"#0d0887\"],[0.1111111111111111,\"#46039f\"],[0.2222222222222222,\"#7201a8\"],[0.3333333333333333,\"#9c179e\"],[0.4444444444444444,\"#bd3786\"],[0.5555555555555556,\"#d8576b\"],[0.6666666666666666,\"#ed7953\"],[0.7777777777777778,\"#fb9f3a\"],[0.8888888888888888,\"#fdca26\"],[1.0,\"#f0f921\"]]}],\"mesh3d\":[{\"type\":\"mesh3d\",\"colorbar\":{\"outlinewidth\":0,\"ticks\":\"\"}}],\"scatter\":[{\"fillpattern\":{\"fillmode\":\"overlay\",\"size\":10,\"solidity\":0.2},\"type\":\"scatter\"}],\"parcoords\":[{\"type\":\"parcoords\",\"line\":{\"colorbar\":{\"outlinewidth\":0,\"ticks\":\"\"}}}],\"scatterpolargl\":[{\"type\":\"scatterpolargl\",\"marker\":{\"colorbar\":{\"outlinewidth\":0,\"ticks\":\"\"}}}],\"bar\":[{\"error_x\":{\"color\":\"#2a3f5f\"},\"error_y\":{\"color\":\"#2a3f5f\"},\"marker\":{\"line\":{\"color\":\"#E5ECF6\",\"width\":0.5},\"pattern\":{\"fillmode\":\"overlay\",\"size\":10,\"solidity\":0.2}},\"type\":\"bar\"}],\"scattergeo\":[{\"type\":\"scattergeo\",\"marker\":{\"colorbar\":{\"outlinewidth\":0,\"ticks\":\"\"}}}],\"scatterpolar\":[{\"type\":\"scatterpolar\",\"marker\":{\"colorbar\":{\"outlinewidth\":0,\"ticks\":\"\"}}}],\"histogram\":[{\"marker\":{\"pattern\":{\"fillmode\":\"overlay\",\"size\":10,\"solidity\":0.2}},\"type\":\"histogram\"}],\"scattergl\":[{\"type\":\"scattergl\",\"marker\":{\"colorbar\":{\"outlinewidth\":0,\"ticks\":\"\"}}}],\"scatter3d\":[{\"type\":\"scatter3d\",\"line\":{\"colorbar\":{\"outlinewidth\":0,\"ticks\":\"\"}},\"marker\":{\"colorbar\":{\"outlinewidth\":0,\"ticks\":\"\"}}}],\"scattermapbox\":[{\"type\":\"scattermapbox\",\"marker\":{\"colorbar\":{\"outlinewidth\":0,\"ticks\":\"\"}}}],\"scatterternary\":[{\"type\":\"scatterternary\",\"marker\":{\"colorbar\":{\"outlinewidth\":0,\"ticks\":\"\"}}}],\"scattercarpet\":[{\"type\":\"scattercarpet\",\"marker\":{\"colorbar\":{\"outlinewidth\":0,\"ticks\":\"\"}}}],\"carpet\":[{\"aaxis\":{\"endlinecolor\":\"#2a3f5f\",\"gridcolor\":\"white\",\"linecolor\":\"white\",\"minorgridcolor\":\"white\",\"startlinecolor\":\"#2a3f5f\"},\"baxis\":{\"endlinecolor\":\"#2a3f5f\",\"gridcolor\":\"white\",\"linecolor\":\"white\",\"minorgridcolor\":\"white\",\"startlinecolor\":\"#2a3f5f\"},\"type\":\"carpet\"}],\"table\":[{\"cells\":{\"fill\":{\"color\":\"#EBF0F8\"},\"line\":{\"color\":\"white\"}},\"header\":{\"fill\":{\"color\":\"#C8D4E3\"},\"line\":{\"color\":\"white\"}},\"type\":\"table\"}],\"barpolar\":[{\"marker\":{\"line\":{\"color\":\"#E5ECF6\",\"width\":0.5},\"pattern\":{\"fillmode\":\"overlay\",\"size\":10,\"solidity\":0.2}},\"type\":\"barpolar\"}],\"pie\":[{\"automargin\":true,\"type\":\"pie\"}]},\"layout\":{\"autotypenumbers\":\"strict\",\"colorway\":[\"#636efa\",\"#EF553B\",\"#00cc96\",\"#ab63fa\",\"#FFA15A\",\"#19d3f3\",\"#FF6692\",\"#B6E880\",\"#FF97FF\",\"#FECB52\"],\"font\":{\"color\":\"#2a3f5f\"},\"hovermode\":\"closest\",\"hoverlabel\":{\"align\":\"left\"},\"paper_bgcolor\":\"white\",\"plot_bgcolor\":\"#E5ECF6\",\"polar\":{\"bgcolor\":\"#E5ECF6\",\"angularaxis\":{\"gridcolor\":\"white\",\"linecolor\":\"white\",\"ticks\":\"\"},\"radialaxis\":{\"gridcolor\":\"white\",\"linecolor\":\"white\",\"ticks\":\"\"}},\"ternary\":{\"bgcolor\":\"#E5ECF6\",\"aaxis\":{\"gridcolor\":\"white\",\"linecolor\":\"white\",\"ticks\":\"\"},\"baxis\":{\"gridcolor\":\"white\",\"linecolor\":\"white\",\"ticks\":\"\"},\"caxis\":{\"gridcolor\":\"white\",\"linecolor\":\"white\",\"ticks\":\"\"}},\"coloraxis\":{\"colorbar\":{\"outlinewidth\":0,\"ticks\":\"\"}},\"colorscale\":{\"sequential\":[[0.0,\"#0d0887\"],[0.1111111111111111,\"#46039f\"],[0.2222222222222222,\"#7201a8\"],[0.3333333333333333,\"#9c179e\"],[0.4444444444444444,\"#bd3786\"],[0.5555555555555556,\"#d8576b\"],[0.6666666666666666,\"#ed7953\"],[0.7777777777777778,\"#fb9f3a\"],[0.8888888888888888,\"#fdca26\"],[1.0,\"#f0f921\"]],\"sequentialminus\":[[0.0,\"#0d0887\"],[0.1111111111111111,\"#46039f\"],[0.2222222222222222,\"#7201a8\"],[0.3333333333333333,\"#9c179e\"],[0.4444444444444444,\"#bd3786\"],[0.5555555555555556,\"#d8576b\"],[0.6666666666666666,\"#ed7953\"],[0.7777777777777778,\"#fb9f3a\"],[0.8888888888888888,\"#fdca26\"],[1.0,\"#f0f921\"]],\"diverging\":[[0,\"#8e0152\"],[0.1,\"#c51b7d\"],[0.2,\"#de77ae\"],[0.3,\"#f1b6da\"],[0.4,\"#fde0ef\"],[0.5,\"#f7f7f7\"],[0.6,\"#e6f5d0\"],[0.7,\"#b8e186\"],[0.8,\"#7fbc41\"],[0.9,\"#4d9221\"],[1,\"#276419\"]]},\"xaxis\":{\"gridcolor\":\"white\",\"linecolor\":\"white\",\"ticks\":\"\",\"title\":{\"standoff\":15},\"zerolinecolor\":\"white\",\"automargin\":true,\"zerolinewidth\":2},\"yaxis\":{\"gridcolor\":\"white\",\"linecolor\":\"white\",\"ticks\":\"\",\"title\":{\"standoff\":15},\"zerolinecolor\":\"white\",\"automargin\":true,\"zerolinewidth\":2},\"scene\":{\"xaxis\":{\"backgroundcolor\":\"#E5ECF6\",\"gridcolor\":\"white\",\"linecolor\":\"white\",\"showbackground\":true,\"ticks\":\"\",\"zerolinecolor\":\"white\",\"gridwidth\":2},\"yaxis\":{\"backgroundcolor\":\"#E5ECF6\",\"gridcolor\":\"white\",\"linecolor\":\"white\",\"showbackground\":true,\"ticks\":\"\",\"zerolinecolor\":\"white\",\"gridwidth\":2},\"zaxis\":{\"backgroundcolor\":\"#E5ECF6\",\"gridcolor\":\"white\",\"linecolor\":\"white\",\"showbackground\":true,\"ticks\":\"\",\"zerolinecolor\":\"white\",\"gridwidth\":2}},\"shapedefaults\":{\"line\":{\"color\":\"#2a3f5f\"}},\"annotationdefaults\":{\"arrowcolor\":\"#2a3f5f\",\"arrowhead\":0,\"arrowwidth\":1},\"geo\":{\"bgcolor\":\"white\",\"landcolor\":\"#E5ECF6\",\"subunitcolor\":\"white\",\"showland\":true,\"showlakes\":true,\"lakecolor\":\"white\"},\"title\":{\"x\":0.05},\"mapbox\":{\"style\":\"light\"}}},\"xaxis\":{\"anchor\":\"y\",\"domain\":[0.0,1.0],\"title\":{\"text\":\"x\"}},\"yaxis\":{\"anchor\":\"x\",\"domain\":[0.0,1.0],\"title\":{\"text\":\"sum of y\"}},\"legend\":{\"tracegroupgap\":0},\"margin\":{\"t\":60},\"barmode\":\"relative\"},                        {\"responsive\": true}                    ).then(function(){\n",
       "                            \n",
       "var gd = document.getElementById('be779e17-fbcc-4d04-a9e0-1ef91887cdc5');\n",
       "var x = new MutationObserver(function (mutations, observer) {{\n",
       "        var display = window.getComputedStyle(gd).display;\n",
       "        if (!display || display === 'none') {{\n",
       "            console.log([gd, 'removed!']);\n",
       "            Plotly.purge(gd);\n",
       "            observer.disconnect();\n",
       "        }}\n",
       "}});\n",
       "\n",
       "// Listen for the removal of the full notebook cells\n",
       "var notebookContainer = gd.closest('#notebook-container');\n",
       "if (notebookContainer) {{\n",
       "    x.observe(notebookContainer, {childList: true});\n",
       "}}\n",
       "\n",
       "// Listen for the clearing of the current output cell\n",
       "var outputEl = gd.closest('.output');\n",
       "if (outputEl) {{\n",
       "    x.observe(outputEl, {childList: true});\n",
       "}}\n",
       "\n",
       "                        })                };                });            </script>        </div>"
      ]
     },
     "metadata": {},
     "output_type": "display_data"
    }
   ],
   "source": [
    "from plotly import express\n",
    "express.histogram(x=numerical_columns, y=linreg.coef_)"
   ]
  },
  {
   "cell_type": "code",
   "execution_count": 6,
   "id": "80a93043",
   "metadata": {
    "execution": {
     "iopub.execute_input": "2024-05-05T14:01:37.985500Z",
     "iopub.status.busy": "2024-05-05T14:01:37.985010Z",
     "iopub.status.idle": "2024-05-05T14:01:38.060881Z",
     "shell.execute_reply": "2024-05-05T14:01:38.058164Z"
    },
    "papermill": {
     "duration": 0.093818,
     "end_time": "2024-05-05T14:01:38.067090",
     "exception": false,
     "start_time": "2024-05-05T14:01:37.973272",
     "status": "completed"
    },
    "tags": []
   },
   "outputs": [],
   "source": [
    "SUBMISSION = '/kaggle/working/submission.csv'\n",
    "\n",
    "linreg_full = LinearRegression(positive=False).fit(X=df[numerical_columns], y=df[TARGET])\n",
    "linreg_result_df = pd.DataFrame(data={'Id': test_df['Id'], 'SalePrice': linreg_full.predict(X=test_df[numerical_columns])})\n",
    "linreg_result_df.to_csv(path_or_buf=SUBMISSION, index=False)"
   ]
  },
  {
   "cell_type": "code",
   "execution_count": 7,
   "id": "f1c07f9f",
   "metadata": {
    "execution": {
     "iopub.execute_input": "2024-05-05T14:01:38.138250Z",
     "iopub.status.busy": "2024-05-05T14:01:38.137608Z",
     "iopub.status.idle": "2024-05-05T14:01:38.330948Z",
     "shell.execute_reply": "2024-05-05T14:01:38.329600Z"
    },
    "papermill": {
     "duration": 0.218388,
     "end_time": "2024-05-05T14:01:38.334032",
     "exception": false,
     "start_time": "2024-05-05T14:01:38.115644",
     "status": "completed"
    },
    "tags": []
   },
   "outputs": [
    {
     "data": {
      "text/html": [
       "<div>                            <div id=\"862618bc-4a18-44d2-973b-59a614a14ef5\" class=\"plotly-graph-div\" style=\"height:525px; width:100%;\"></div>            <script type=\"text/javascript\">                require([\"plotly\"], function(Plotly) {                    window.PLOTLYENV=window.PLOTLYENV || {};                                    if (document.getElementById(\"862618bc-4a18-44d2-973b-59a614a14ef5\")) {                    Plotly.newPlot(                        \"862618bc-4a18-44d2-973b-59a614a14ef5\",                        [{\"alignmentgroup\":\"True\",\"bingroup\":\"x\",\"histfunc\":\"sum\",\"hovertemplate\":\"x=%{x}\\u003cbr\\u003esum of y=%{y}\\u003cextra\\u003e\\u003c\\u002fextra\\u003e\",\"legendgroup\":\"\",\"marker\":{\"color\":\"#636efa\",\"pattern\":{\"shape\":\"\"}},\"name\":\"\",\"offsetgroup\":\"\",\"orientation\":\"v\",\"showlegend\":false,\"x\":[\"MSSubClass\",\"LotArea\",\"OverallQual\",\"OverallCond\",\"YearBuilt\",\"YearRemodAdd\",\"1stFlrSF\",\"2ndFlrSF\",\"LowQualFinSF\",\"GrLivArea\",\"FullBath\",\"HalfBath\",\"BedroomAbvGr\",\"KitchenAbvGr\",\"TotRmsAbvGrd\",\"Fireplaces\",\"WoodDeckSF\",\"OpenPorchSF\",\"EnclosedPorch\",\"3SsnPorch\",\"ScreenPorch\",\"PoolArea\",\"MiscVal\",\"MoSold\",\"YrSold\"],\"xaxis\":\"x\",\"y\":[-158.58525571312506,0.5371734544852534,19585.821226553733,4724.145051380864,532.5107647105341,129.16208843958447,36.10705746067322,17.87626813451209,-16.517925041395216,37.465400555326624,-824.3722636111816,-1689.432914243326,-12175.65928488163,-11860.566088229125,4842.078242156068,4250.833519227925,34.63302324016923,0.7778348508450289,15.116809449800146,20.223096506055846,66.41616691191464,-36.405379501171666,-1.3496695520938704,-186.63002506871717,-654.5640942254646],\"yaxis\":\"y\",\"type\":\"histogram\"}],                        {\"template\":{\"data\":{\"histogram2dcontour\":[{\"type\":\"histogram2dcontour\",\"colorbar\":{\"outlinewidth\":0,\"ticks\":\"\"},\"colorscale\":[[0.0,\"#0d0887\"],[0.1111111111111111,\"#46039f\"],[0.2222222222222222,\"#7201a8\"],[0.3333333333333333,\"#9c179e\"],[0.4444444444444444,\"#bd3786\"],[0.5555555555555556,\"#d8576b\"],[0.6666666666666666,\"#ed7953\"],[0.7777777777777778,\"#fb9f3a\"],[0.8888888888888888,\"#fdca26\"],[1.0,\"#f0f921\"]]}],\"choropleth\":[{\"type\":\"choropleth\",\"colorbar\":{\"outlinewidth\":0,\"ticks\":\"\"}}],\"histogram2d\":[{\"type\":\"histogram2d\",\"colorbar\":{\"outlinewidth\":0,\"ticks\":\"\"},\"colorscale\":[[0.0,\"#0d0887\"],[0.1111111111111111,\"#46039f\"],[0.2222222222222222,\"#7201a8\"],[0.3333333333333333,\"#9c179e\"],[0.4444444444444444,\"#bd3786\"],[0.5555555555555556,\"#d8576b\"],[0.6666666666666666,\"#ed7953\"],[0.7777777777777778,\"#fb9f3a\"],[0.8888888888888888,\"#fdca26\"],[1.0,\"#f0f921\"]]}],\"heatmap\":[{\"type\":\"heatmap\",\"colorbar\":{\"outlinewidth\":0,\"ticks\":\"\"},\"colorscale\":[[0.0,\"#0d0887\"],[0.1111111111111111,\"#46039f\"],[0.2222222222222222,\"#7201a8\"],[0.3333333333333333,\"#9c179e\"],[0.4444444444444444,\"#bd3786\"],[0.5555555555555556,\"#d8576b\"],[0.6666666666666666,\"#ed7953\"],[0.7777777777777778,\"#fb9f3a\"],[0.8888888888888888,\"#fdca26\"],[1.0,\"#f0f921\"]]}],\"heatmapgl\":[{\"type\":\"heatmapgl\",\"colorbar\":{\"outlinewidth\":0,\"ticks\":\"\"},\"colorscale\":[[0.0,\"#0d0887\"],[0.1111111111111111,\"#46039f\"],[0.2222222222222222,\"#7201a8\"],[0.3333333333333333,\"#9c179e\"],[0.4444444444444444,\"#bd3786\"],[0.5555555555555556,\"#d8576b\"],[0.6666666666666666,\"#ed7953\"],[0.7777777777777778,\"#fb9f3a\"],[0.8888888888888888,\"#fdca26\"],[1.0,\"#f0f921\"]]}],\"contourcarpet\":[{\"type\":\"contourcarpet\",\"colorbar\":{\"outlinewidth\":0,\"ticks\":\"\"}}],\"contour\":[{\"type\":\"contour\",\"colorbar\":{\"outlinewidth\":0,\"ticks\":\"\"},\"colorscale\":[[0.0,\"#0d0887\"],[0.1111111111111111,\"#46039f\"],[0.2222222222222222,\"#7201a8\"],[0.3333333333333333,\"#9c179e\"],[0.4444444444444444,\"#bd3786\"],[0.5555555555555556,\"#d8576b\"],[0.6666666666666666,\"#ed7953\"],[0.7777777777777778,\"#fb9f3a\"],[0.8888888888888888,\"#fdca26\"],[1.0,\"#f0f921\"]]}],\"surface\":[{\"type\":\"surface\",\"colorbar\":{\"outlinewidth\":0,\"ticks\":\"\"},\"colorscale\":[[0.0,\"#0d0887\"],[0.1111111111111111,\"#46039f\"],[0.2222222222222222,\"#7201a8\"],[0.3333333333333333,\"#9c179e\"],[0.4444444444444444,\"#bd3786\"],[0.5555555555555556,\"#d8576b\"],[0.6666666666666666,\"#ed7953\"],[0.7777777777777778,\"#fb9f3a\"],[0.8888888888888888,\"#fdca26\"],[1.0,\"#f0f921\"]]}],\"mesh3d\":[{\"type\":\"mesh3d\",\"colorbar\":{\"outlinewidth\":0,\"ticks\":\"\"}}],\"scatter\":[{\"fillpattern\":{\"fillmode\":\"overlay\",\"size\":10,\"solidity\":0.2},\"type\":\"scatter\"}],\"parcoords\":[{\"type\":\"parcoords\",\"line\":{\"colorbar\":{\"outlinewidth\":0,\"ticks\":\"\"}}}],\"scatterpolargl\":[{\"type\":\"scatterpolargl\",\"marker\":{\"colorbar\":{\"outlinewidth\":0,\"ticks\":\"\"}}}],\"bar\":[{\"error_x\":{\"color\":\"#2a3f5f\"},\"error_y\":{\"color\":\"#2a3f5f\"},\"marker\":{\"line\":{\"color\":\"#E5ECF6\",\"width\":0.5},\"pattern\":{\"fillmode\":\"overlay\",\"size\":10,\"solidity\":0.2}},\"type\":\"bar\"}],\"scattergeo\":[{\"type\":\"scattergeo\",\"marker\":{\"colorbar\":{\"outlinewidth\":0,\"ticks\":\"\"}}}],\"scatterpolar\":[{\"type\":\"scatterpolar\",\"marker\":{\"colorbar\":{\"outlinewidth\":0,\"ticks\":\"\"}}}],\"histogram\":[{\"marker\":{\"pattern\":{\"fillmode\":\"overlay\",\"size\":10,\"solidity\":0.2}},\"type\":\"histogram\"}],\"scattergl\":[{\"type\":\"scattergl\",\"marker\":{\"colorbar\":{\"outlinewidth\":0,\"ticks\":\"\"}}}],\"scatter3d\":[{\"type\":\"scatter3d\",\"line\":{\"colorbar\":{\"outlinewidth\":0,\"ticks\":\"\"}},\"marker\":{\"colorbar\":{\"outlinewidth\":0,\"ticks\":\"\"}}}],\"scattermapbox\":[{\"type\":\"scattermapbox\",\"marker\":{\"colorbar\":{\"outlinewidth\":0,\"ticks\":\"\"}}}],\"scatterternary\":[{\"type\":\"scatterternary\",\"marker\":{\"colorbar\":{\"outlinewidth\":0,\"ticks\":\"\"}}}],\"scattercarpet\":[{\"type\":\"scattercarpet\",\"marker\":{\"colorbar\":{\"outlinewidth\":0,\"ticks\":\"\"}}}],\"carpet\":[{\"aaxis\":{\"endlinecolor\":\"#2a3f5f\",\"gridcolor\":\"white\",\"linecolor\":\"white\",\"minorgridcolor\":\"white\",\"startlinecolor\":\"#2a3f5f\"},\"baxis\":{\"endlinecolor\":\"#2a3f5f\",\"gridcolor\":\"white\",\"linecolor\":\"white\",\"minorgridcolor\":\"white\",\"startlinecolor\":\"#2a3f5f\"},\"type\":\"carpet\"}],\"table\":[{\"cells\":{\"fill\":{\"color\":\"#EBF0F8\"},\"line\":{\"color\":\"white\"}},\"header\":{\"fill\":{\"color\":\"#C8D4E3\"},\"line\":{\"color\":\"white\"}},\"type\":\"table\"}],\"barpolar\":[{\"marker\":{\"line\":{\"color\":\"#E5ECF6\",\"width\":0.5},\"pattern\":{\"fillmode\":\"overlay\",\"size\":10,\"solidity\":0.2}},\"type\":\"barpolar\"}],\"pie\":[{\"automargin\":true,\"type\":\"pie\"}]},\"layout\":{\"autotypenumbers\":\"strict\",\"colorway\":[\"#636efa\",\"#EF553B\",\"#00cc96\",\"#ab63fa\",\"#FFA15A\",\"#19d3f3\",\"#FF6692\",\"#B6E880\",\"#FF97FF\",\"#FECB52\"],\"font\":{\"color\":\"#2a3f5f\"},\"hovermode\":\"closest\",\"hoverlabel\":{\"align\":\"left\"},\"paper_bgcolor\":\"white\",\"plot_bgcolor\":\"#E5ECF6\",\"polar\":{\"bgcolor\":\"#E5ECF6\",\"angularaxis\":{\"gridcolor\":\"white\",\"linecolor\":\"white\",\"ticks\":\"\"},\"radialaxis\":{\"gridcolor\":\"white\",\"linecolor\":\"white\",\"ticks\":\"\"}},\"ternary\":{\"bgcolor\":\"#E5ECF6\",\"aaxis\":{\"gridcolor\":\"white\",\"linecolor\":\"white\",\"ticks\":\"\"},\"baxis\":{\"gridcolor\":\"white\",\"linecolor\":\"white\",\"ticks\":\"\"},\"caxis\":{\"gridcolor\":\"white\",\"linecolor\":\"white\",\"ticks\":\"\"}},\"coloraxis\":{\"colorbar\":{\"outlinewidth\":0,\"ticks\":\"\"}},\"colorscale\":{\"sequential\":[[0.0,\"#0d0887\"],[0.1111111111111111,\"#46039f\"],[0.2222222222222222,\"#7201a8\"],[0.3333333333333333,\"#9c179e\"],[0.4444444444444444,\"#bd3786\"],[0.5555555555555556,\"#d8576b\"],[0.6666666666666666,\"#ed7953\"],[0.7777777777777778,\"#fb9f3a\"],[0.8888888888888888,\"#fdca26\"],[1.0,\"#f0f921\"]],\"sequentialminus\":[[0.0,\"#0d0887\"],[0.1111111111111111,\"#46039f\"],[0.2222222222222222,\"#7201a8\"],[0.3333333333333333,\"#9c179e\"],[0.4444444444444444,\"#bd3786\"],[0.5555555555555556,\"#d8576b\"],[0.6666666666666666,\"#ed7953\"],[0.7777777777777778,\"#fb9f3a\"],[0.8888888888888888,\"#fdca26\"],[1.0,\"#f0f921\"]],\"diverging\":[[0,\"#8e0152\"],[0.1,\"#c51b7d\"],[0.2,\"#de77ae\"],[0.3,\"#f1b6da\"],[0.4,\"#fde0ef\"],[0.5,\"#f7f7f7\"],[0.6,\"#e6f5d0\"],[0.7,\"#b8e186\"],[0.8,\"#7fbc41\"],[0.9,\"#4d9221\"],[1,\"#276419\"]]},\"xaxis\":{\"gridcolor\":\"white\",\"linecolor\":\"white\",\"ticks\":\"\",\"title\":{\"standoff\":15},\"zerolinecolor\":\"white\",\"automargin\":true,\"zerolinewidth\":2},\"yaxis\":{\"gridcolor\":\"white\",\"linecolor\":\"white\",\"ticks\":\"\",\"title\":{\"standoff\":15},\"zerolinecolor\":\"white\",\"automargin\":true,\"zerolinewidth\":2},\"scene\":{\"xaxis\":{\"backgroundcolor\":\"#E5ECF6\",\"gridcolor\":\"white\",\"linecolor\":\"white\",\"showbackground\":true,\"ticks\":\"\",\"zerolinecolor\":\"white\",\"gridwidth\":2},\"yaxis\":{\"backgroundcolor\":\"#E5ECF6\",\"gridcolor\":\"white\",\"linecolor\":\"white\",\"showbackground\":true,\"ticks\":\"\",\"zerolinecolor\":\"white\",\"gridwidth\":2},\"zaxis\":{\"backgroundcolor\":\"#E5ECF6\",\"gridcolor\":\"white\",\"linecolor\":\"white\",\"showbackground\":true,\"ticks\":\"\",\"zerolinecolor\":\"white\",\"gridwidth\":2}},\"shapedefaults\":{\"line\":{\"color\":\"#2a3f5f\"}},\"annotationdefaults\":{\"arrowcolor\":\"#2a3f5f\",\"arrowhead\":0,\"arrowwidth\":1},\"geo\":{\"bgcolor\":\"white\",\"landcolor\":\"#E5ECF6\",\"subunitcolor\":\"white\",\"showland\":true,\"showlakes\":true,\"lakecolor\":\"white\"},\"title\":{\"x\":0.05},\"mapbox\":{\"style\":\"light\"}}},\"xaxis\":{\"anchor\":\"y\",\"domain\":[0.0,1.0],\"title\":{\"text\":\"x\"}},\"yaxis\":{\"anchor\":\"x\",\"domain\":[0.0,1.0],\"title\":{\"text\":\"sum of y\"}},\"legend\":{\"tracegroupgap\":0},\"margin\":{\"t\":60},\"barmode\":\"relative\"},                        {\"responsive\": true}                    ).then(function(){\n",
       "                            \n",
       "var gd = document.getElementById('862618bc-4a18-44d2-973b-59a614a14ef5');\n",
       "var x = new MutationObserver(function (mutations, observer) {{\n",
       "        var display = window.getComputedStyle(gd).display;\n",
       "        if (!display || display === 'none') {{\n",
       "            console.log([gd, 'removed!']);\n",
       "            Plotly.purge(gd);\n",
       "            observer.disconnect();\n",
       "        }}\n",
       "}});\n",
       "\n",
       "// Listen for the removal of the full notebook cells\n",
       "var notebookContainer = gd.closest('#notebook-container');\n",
       "if (notebookContainer) {{\n",
       "    x.observe(notebookContainer, {childList: true});\n",
       "}}\n",
       "\n",
       "// Listen for the clearing of the current output cell\n",
       "var outputEl = gd.closest('.output');\n",
       "if (outputEl) {{\n",
       "    x.observe(outputEl, {childList: true});\n",
       "}}\n",
       "\n",
       "                        })                };                });            </script>        </div>"
      ]
     },
     "metadata": {},
     "output_type": "display_data"
    }
   ],
   "source": [
    "from plotly import express\n",
    "express.histogram(x=numerical_columns, y=linreg_full.coef_)"
   ]
  },
  {
   "cell_type": "code",
   "execution_count": 8,
   "id": "7152c975",
   "metadata": {
    "execution": {
     "iopub.execute_input": "2024-05-05T14:01:38.356466Z",
     "iopub.status.busy": "2024-05-05T14:01:38.356014Z",
     "iopub.status.idle": "2024-05-05T14:01:38.385525Z",
     "shell.execute_reply": "2024-05-05T14:01:38.383866Z"
    },
    "papermill": {
     "duration": 0.047283,
     "end_time": "2024-05-05T14:01:38.391483",
     "exception": false,
     "start_time": "2024-05-05T14:01:38.344200",
     "status": "completed"
    },
    "tags": []
   },
   "outputs": [
    {
     "name": "stdout",
     "output_type": "stream",
     "text": [
      "rmse: 0.1836\n"
     ]
    }
   ],
   "source": [
    "import numpy as np\n",
    "from sklearn.linear_model import Ridge\n",
    "from sklearn.metrics import mean_squared_error\n",
    "\n",
    "ridge = Ridge(tol=1e-4, random_state=2024, max_iter=10000, positive=True, solver='lbfgs').fit(X=X_train, y=y_train)\n",
    "print('rmse: {:5.4f}'.format(mean_squared_error(squared=False, y_true=np.log(y_test), y_pred=np.log(ridge.predict(X=X_test)))))"
   ]
  },
  {
   "cell_type": "code",
   "execution_count": 9,
   "id": "c3ea6141",
   "metadata": {
    "execution": {
     "iopub.execute_input": "2024-05-05T14:01:38.437635Z",
     "iopub.status.busy": "2024-05-05T14:01:38.436939Z",
     "iopub.status.idle": "2024-05-05T14:01:38.537987Z",
     "shell.execute_reply": "2024-05-05T14:01:38.536473Z"
    },
    "papermill": {
     "duration": 0.128753,
     "end_time": "2024-05-05T14:01:38.541233",
     "exception": false,
     "start_time": "2024-05-05T14:01:38.412480",
     "status": "completed"
    },
    "tags": []
   },
   "outputs": [
    {
     "data": {
      "text/html": [
       "<div>                            <div id=\"410faff5-f8a5-489e-8a8c-6674e966de3e\" class=\"plotly-graph-div\" style=\"height:525px; width:100%;\"></div>            <script type=\"text/javascript\">                require([\"plotly\"], function(Plotly) {                    window.PLOTLYENV=window.PLOTLYENV || {};                                    if (document.getElementById(\"410faff5-f8a5-489e-8a8c-6674e966de3e\")) {                    Plotly.newPlot(                        \"410faff5-f8a5-489e-8a8c-6674e966de3e\",                        [{\"alignmentgroup\":\"True\",\"bingroup\":\"x\",\"histfunc\":\"sum\",\"hovertemplate\":\"x=%{x}\\u003cbr\\u003esum of y=%{y}\\u003cextra\\u003e\\u003c\\u002fextra\\u003e\",\"legendgroup\":\"\",\"marker\":{\"color\":\"#636efa\",\"pattern\":{\"shape\":\"\"}},\"name\":\"\",\"offsetgroup\":\"\",\"orientation\":\"v\",\"showlegend\":false,\"x\":[\"MSSubClass\",\"LotArea\",\"OverallQual\",\"OverallCond\",\"YearBuilt\",\"YearRemodAdd\",\"1stFlrSF\",\"2ndFlrSF\",\"LowQualFinSF\",\"GrLivArea\",\"FullBath\",\"HalfBath\",\"BedroomAbvGr\",\"KitchenAbvGr\",\"TotRmsAbvGrd\",\"Fireplaces\",\"WoodDeckSF\",\"OpenPorchSF\",\"EnclosedPorch\",\"3SsnPorch\",\"ScreenPorch\",\"PoolArea\",\"MiscVal\",\"MoSold\",\"YrSold\"],\"xaxis\":\"x\",\"y\":[0.0,0.15799130488291513,26.96955437927888,0.7517809222646172,553.2425135180033,336.23829660714364,96.44449443190173,58.902955741420506,0.007696687019736678,8.1170657531672,3.6896728484620716,2.205789377938012,0.0,0.0,0.5646503889331754,3.713451211945759,52.80677268623819,160.51748445996824,0.021443399956517506,29.31045083990004,160.80197942480126,0.0,0.0,1.3599964213944793,0.0],\"yaxis\":\"y\",\"type\":\"histogram\"}],                        {\"template\":{\"data\":{\"histogram2dcontour\":[{\"type\":\"histogram2dcontour\",\"colorbar\":{\"outlinewidth\":0,\"ticks\":\"\"},\"colorscale\":[[0.0,\"#0d0887\"],[0.1111111111111111,\"#46039f\"],[0.2222222222222222,\"#7201a8\"],[0.3333333333333333,\"#9c179e\"],[0.4444444444444444,\"#bd3786\"],[0.5555555555555556,\"#d8576b\"],[0.6666666666666666,\"#ed7953\"],[0.7777777777777778,\"#fb9f3a\"],[0.8888888888888888,\"#fdca26\"],[1.0,\"#f0f921\"]]}],\"choropleth\":[{\"type\":\"choropleth\",\"colorbar\":{\"outlinewidth\":0,\"ticks\":\"\"}}],\"histogram2d\":[{\"type\":\"histogram2d\",\"colorbar\":{\"outlinewidth\":0,\"ticks\":\"\"},\"colorscale\":[[0.0,\"#0d0887\"],[0.1111111111111111,\"#46039f\"],[0.2222222222222222,\"#7201a8\"],[0.3333333333333333,\"#9c179e\"],[0.4444444444444444,\"#bd3786\"],[0.5555555555555556,\"#d8576b\"],[0.6666666666666666,\"#ed7953\"],[0.7777777777777778,\"#fb9f3a\"],[0.8888888888888888,\"#fdca26\"],[1.0,\"#f0f921\"]]}],\"heatmap\":[{\"type\":\"heatmap\",\"colorbar\":{\"outlinewidth\":0,\"ticks\":\"\"},\"colorscale\":[[0.0,\"#0d0887\"],[0.1111111111111111,\"#46039f\"],[0.2222222222222222,\"#7201a8\"],[0.3333333333333333,\"#9c179e\"],[0.4444444444444444,\"#bd3786\"],[0.5555555555555556,\"#d8576b\"],[0.6666666666666666,\"#ed7953\"],[0.7777777777777778,\"#fb9f3a\"],[0.8888888888888888,\"#fdca26\"],[1.0,\"#f0f921\"]]}],\"heatmapgl\":[{\"type\":\"heatmapgl\",\"colorbar\":{\"outlinewidth\":0,\"ticks\":\"\"},\"colorscale\":[[0.0,\"#0d0887\"],[0.1111111111111111,\"#46039f\"],[0.2222222222222222,\"#7201a8\"],[0.3333333333333333,\"#9c179e\"],[0.4444444444444444,\"#bd3786\"],[0.5555555555555556,\"#d8576b\"],[0.6666666666666666,\"#ed7953\"],[0.7777777777777778,\"#fb9f3a\"],[0.8888888888888888,\"#fdca26\"],[1.0,\"#f0f921\"]]}],\"contourcarpet\":[{\"type\":\"contourcarpet\",\"colorbar\":{\"outlinewidth\":0,\"ticks\":\"\"}}],\"contour\":[{\"type\":\"contour\",\"colorbar\":{\"outlinewidth\":0,\"ticks\":\"\"},\"colorscale\":[[0.0,\"#0d0887\"],[0.1111111111111111,\"#46039f\"],[0.2222222222222222,\"#7201a8\"],[0.3333333333333333,\"#9c179e\"],[0.4444444444444444,\"#bd3786\"],[0.5555555555555556,\"#d8576b\"],[0.6666666666666666,\"#ed7953\"],[0.7777777777777778,\"#fb9f3a\"],[0.8888888888888888,\"#fdca26\"],[1.0,\"#f0f921\"]]}],\"surface\":[{\"type\":\"surface\",\"colorbar\":{\"outlinewidth\":0,\"ticks\":\"\"},\"colorscale\":[[0.0,\"#0d0887\"],[0.1111111111111111,\"#46039f\"],[0.2222222222222222,\"#7201a8\"],[0.3333333333333333,\"#9c179e\"],[0.4444444444444444,\"#bd3786\"],[0.5555555555555556,\"#d8576b\"],[0.6666666666666666,\"#ed7953\"],[0.7777777777777778,\"#fb9f3a\"],[0.8888888888888888,\"#fdca26\"],[1.0,\"#f0f921\"]]}],\"mesh3d\":[{\"type\":\"mesh3d\",\"colorbar\":{\"outlinewidth\":0,\"ticks\":\"\"}}],\"scatter\":[{\"fillpattern\":{\"fillmode\":\"overlay\",\"size\":10,\"solidity\":0.2},\"type\":\"scatter\"}],\"parcoords\":[{\"type\":\"parcoords\",\"line\":{\"colorbar\":{\"outlinewidth\":0,\"ticks\":\"\"}}}],\"scatterpolargl\":[{\"type\":\"scatterpolargl\",\"marker\":{\"colorbar\":{\"outlinewidth\":0,\"ticks\":\"\"}}}],\"bar\":[{\"error_x\":{\"color\":\"#2a3f5f\"},\"error_y\":{\"color\":\"#2a3f5f\"},\"marker\":{\"line\":{\"color\":\"#E5ECF6\",\"width\":0.5},\"pattern\":{\"fillmode\":\"overlay\",\"size\":10,\"solidity\":0.2}},\"type\":\"bar\"}],\"scattergeo\":[{\"type\":\"scattergeo\",\"marker\":{\"colorbar\":{\"outlinewidth\":0,\"ticks\":\"\"}}}],\"scatterpolar\":[{\"type\":\"scatterpolar\",\"marker\":{\"colorbar\":{\"outlinewidth\":0,\"ticks\":\"\"}}}],\"histogram\":[{\"marker\":{\"pattern\":{\"fillmode\":\"overlay\",\"size\":10,\"solidity\":0.2}},\"type\":\"histogram\"}],\"scattergl\":[{\"type\":\"scattergl\",\"marker\":{\"colorbar\":{\"outlinewidth\":0,\"ticks\":\"\"}}}],\"scatter3d\":[{\"type\":\"scatter3d\",\"line\":{\"colorbar\":{\"outlinewidth\":0,\"ticks\":\"\"}},\"marker\":{\"colorbar\":{\"outlinewidth\":0,\"ticks\":\"\"}}}],\"scattermapbox\":[{\"type\":\"scattermapbox\",\"marker\":{\"colorbar\":{\"outlinewidth\":0,\"ticks\":\"\"}}}],\"scatterternary\":[{\"type\":\"scatterternary\",\"marker\":{\"colorbar\":{\"outlinewidth\":0,\"ticks\":\"\"}}}],\"scattercarpet\":[{\"type\":\"scattercarpet\",\"marker\":{\"colorbar\":{\"outlinewidth\":0,\"ticks\":\"\"}}}],\"carpet\":[{\"aaxis\":{\"endlinecolor\":\"#2a3f5f\",\"gridcolor\":\"white\",\"linecolor\":\"white\",\"minorgridcolor\":\"white\",\"startlinecolor\":\"#2a3f5f\"},\"baxis\":{\"endlinecolor\":\"#2a3f5f\",\"gridcolor\":\"white\",\"linecolor\":\"white\",\"minorgridcolor\":\"white\",\"startlinecolor\":\"#2a3f5f\"},\"type\":\"carpet\"}],\"table\":[{\"cells\":{\"fill\":{\"color\":\"#EBF0F8\"},\"line\":{\"color\":\"white\"}},\"header\":{\"fill\":{\"color\":\"#C8D4E3\"},\"line\":{\"color\":\"white\"}},\"type\":\"table\"}],\"barpolar\":[{\"marker\":{\"line\":{\"color\":\"#E5ECF6\",\"width\":0.5},\"pattern\":{\"fillmode\":\"overlay\",\"size\":10,\"solidity\":0.2}},\"type\":\"barpolar\"}],\"pie\":[{\"automargin\":true,\"type\":\"pie\"}]},\"layout\":{\"autotypenumbers\":\"strict\",\"colorway\":[\"#636efa\",\"#EF553B\",\"#00cc96\",\"#ab63fa\",\"#FFA15A\",\"#19d3f3\",\"#FF6692\",\"#B6E880\",\"#FF97FF\",\"#FECB52\"],\"font\":{\"color\":\"#2a3f5f\"},\"hovermode\":\"closest\",\"hoverlabel\":{\"align\":\"left\"},\"paper_bgcolor\":\"white\",\"plot_bgcolor\":\"#E5ECF6\",\"polar\":{\"bgcolor\":\"#E5ECF6\",\"angularaxis\":{\"gridcolor\":\"white\",\"linecolor\":\"white\",\"ticks\":\"\"},\"radialaxis\":{\"gridcolor\":\"white\",\"linecolor\":\"white\",\"ticks\":\"\"}},\"ternary\":{\"bgcolor\":\"#E5ECF6\",\"aaxis\":{\"gridcolor\":\"white\",\"linecolor\":\"white\",\"ticks\":\"\"},\"baxis\":{\"gridcolor\":\"white\",\"linecolor\":\"white\",\"ticks\":\"\"},\"caxis\":{\"gridcolor\":\"white\",\"linecolor\":\"white\",\"ticks\":\"\"}},\"coloraxis\":{\"colorbar\":{\"outlinewidth\":0,\"ticks\":\"\"}},\"colorscale\":{\"sequential\":[[0.0,\"#0d0887\"],[0.1111111111111111,\"#46039f\"],[0.2222222222222222,\"#7201a8\"],[0.3333333333333333,\"#9c179e\"],[0.4444444444444444,\"#bd3786\"],[0.5555555555555556,\"#d8576b\"],[0.6666666666666666,\"#ed7953\"],[0.7777777777777778,\"#fb9f3a\"],[0.8888888888888888,\"#fdca26\"],[1.0,\"#f0f921\"]],\"sequentialminus\":[[0.0,\"#0d0887\"],[0.1111111111111111,\"#46039f\"],[0.2222222222222222,\"#7201a8\"],[0.3333333333333333,\"#9c179e\"],[0.4444444444444444,\"#bd3786\"],[0.5555555555555556,\"#d8576b\"],[0.6666666666666666,\"#ed7953\"],[0.7777777777777778,\"#fb9f3a\"],[0.8888888888888888,\"#fdca26\"],[1.0,\"#f0f921\"]],\"diverging\":[[0,\"#8e0152\"],[0.1,\"#c51b7d\"],[0.2,\"#de77ae\"],[0.3,\"#f1b6da\"],[0.4,\"#fde0ef\"],[0.5,\"#f7f7f7\"],[0.6,\"#e6f5d0\"],[0.7,\"#b8e186\"],[0.8,\"#7fbc41\"],[0.9,\"#4d9221\"],[1,\"#276419\"]]},\"xaxis\":{\"gridcolor\":\"white\",\"linecolor\":\"white\",\"ticks\":\"\",\"title\":{\"standoff\":15},\"zerolinecolor\":\"white\",\"automargin\":true,\"zerolinewidth\":2},\"yaxis\":{\"gridcolor\":\"white\",\"linecolor\":\"white\",\"ticks\":\"\",\"title\":{\"standoff\":15},\"zerolinecolor\":\"white\",\"automargin\":true,\"zerolinewidth\":2},\"scene\":{\"xaxis\":{\"backgroundcolor\":\"#E5ECF6\",\"gridcolor\":\"white\",\"linecolor\":\"white\",\"showbackground\":true,\"ticks\":\"\",\"zerolinecolor\":\"white\",\"gridwidth\":2},\"yaxis\":{\"backgroundcolor\":\"#E5ECF6\",\"gridcolor\":\"white\",\"linecolor\":\"white\",\"showbackground\":true,\"ticks\":\"\",\"zerolinecolor\":\"white\",\"gridwidth\":2},\"zaxis\":{\"backgroundcolor\":\"#E5ECF6\",\"gridcolor\":\"white\",\"linecolor\":\"white\",\"showbackground\":true,\"ticks\":\"\",\"zerolinecolor\":\"white\",\"gridwidth\":2}},\"shapedefaults\":{\"line\":{\"color\":\"#2a3f5f\"}},\"annotationdefaults\":{\"arrowcolor\":\"#2a3f5f\",\"arrowhead\":0,\"arrowwidth\":1},\"geo\":{\"bgcolor\":\"white\",\"landcolor\":\"#E5ECF6\",\"subunitcolor\":\"white\",\"showland\":true,\"showlakes\":true,\"lakecolor\":\"white\"},\"title\":{\"x\":0.05},\"mapbox\":{\"style\":\"light\"}}},\"xaxis\":{\"anchor\":\"y\",\"domain\":[0.0,1.0],\"title\":{\"text\":\"x\"}},\"yaxis\":{\"anchor\":\"x\",\"domain\":[0.0,1.0],\"title\":{\"text\":\"sum of y\"}},\"legend\":{\"tracegroupgap\":0},\"margin\":{\"t\":60},\"barmode\":\"relative\"},                        {\"responsive\": true}                    ).then(function(){\n",
       "                            \n",
       "var gd = document.getElementById('410faff5-f8a5-489e-8a8c-6674e966de3e');\n",
       "var x = new MutationObserver(function (mutations, observer) {{\n",
       "        var display = window.getComputedStyle(gd).display;\n",
       "        if (!display || display === 'none') {{\n",
       "            console.log([gd, 'removed!']);\n",
       "            Plotly.purge(gd);\n",
       "            observer.disconnect();\n",
       "        }}\n",
       "}});\n",
       "\n",
       "// Listen for the removal of the full notebook cells\n",
       "var notebookContainer = gd.closest('#notebook-container');\n",
       "if (notebookContainer) {{\n",
       "    x.observe(notebookContainer, {childList: true});\n",
       "}}\n",
       "\n",
       "// Listen for the clearing of the current output cell\n",
       "var outputEl = gd.closest('.output');\n",
       "if (outputEl) {{\n",
       "    x.observe(outputEl, {childList: true});\n",
       "}}\n",
       "\n",
       "                        })                };                });            </script>        </div>"
      ]
     },
     "metadata": {},
     "output_type": "display_data"
    }
   ],
   "source": [
    "from plotly import express\n",
    "express.histogram(x=ridge.feature_names_in_, y=ridge.coef_)"
   ]
  },
  {
   "cell_type": "markdown",
   "id": "8c4e5e83",
   "metadata": {
    "papermill": {
     "duration": 0.009529,
     "end_time": "2024-05-05T14:01:38.562045",
     "exception": false,
     "start_time": "2024-05-05T14:01:38.552516",
     "status": "completed"
    },
    "tags": []
   },
   "source": [
    "Our linear regressor result and our ridge result look substantially different."
   ]
  },
  {
   "cell_type": "code",
   "execution_count": 10,
   "id": "545145e4",
   "metadata": {
    "execution": {
     "iopub.execute_input": "2024-05-05T14:01:38.584151Z",
     "iopub.status.busy": "2024-05-05T14:01:38.583076Z",
     "iopub.status.idle": "2024-05-05T14:01:38.764790Z",
     "shell.execute_reply": "2024-05-05T14:01:38.763653Z"
    },
    "papermill": {
     "duration": 0.19604,
     "end_time": "2024-05-05T14:01:38.767491",
     "exception": false,
     "start_time": "2024-05-05T14:01:38.571451",
     "status": "completed"
    },
    "tags": []
   },
   "outputs": [
    {
     "data": {
      "text/html": [
       "<div>                            <div id=\"24064655-b44a-409f-b4ad-f12823f6c0a4\" class=\"plotly-graph-div\" style=\"height:525px; width:100%;\"></div>            <script type=\"text/javascript\">                require([\"plotly\"], function(Plotly) {                    window.PLOTLYENV=window.PLOTLYENV || {};                                    if (document.getElementById(\"24064655-b44a-409f-b4ad-f12823f6c0a4\")) {                    Plotly.newPlot(                        \"24064655-b44a-409f-b4ad-f12823f6c0a4\",                        [{\"hovertemplate\":\"x=%{x}\\u003cbr\\u003ey=%{y}\\u003cextra\\u003e\\u003c\\u002fextra\\u003e\",\"legendgroup\":\"\",\"marker\":{\"color\":\"#636efa\",\"symbol\":\"circle\"},\"mode\":\"markers\",\"name\":\"\",\"showlegend\":false,\"x\":[129515.19614315045,155320.03046511638,174245.3544633257,205008.06733959226,209817.1198493509,190347.43677514012,191380.27522339148,176996.30405616167,212253.09517248312,99424.04236355994,200288.21704684722,116720.46771858993,86666.92239732726,148964.49624224764,135021.80459660164,329229.31226356945,247683.08820409546,286021.7565861329,276059.8680191798,377862.7037025505,289546.9933703124,229944.01684218724,189892.258441168,187362.3490855425,197373.39018210454,221687.9045766253,298965.2100765557,263426.74008546316,200243.53936176014,225000.8222664265,219703.50074264788,100461.78663958341,213154.03605423414,271223.88621658075,261489.8181409909,218461.46759415566,184227.73413411865,157456.8277812231,157598.8065318406,139973.2390585203,159755.2344843446,147973.6586854785,272391.0047088618,251497.21022556312,226342.31104149003,197865.5396533761,246530.59103963486,204655.6121607396,159555.00755486463,130439.51434263133,132237.71488623891,170592.28654007625,178255.40404885414,137142.80029498797,227334.51269010254,164857.72572584765,172496.82767958997,128678.03954103461,226645.90699559808,119755.8046352897,125844.14301291353,189831.43798249878,94390.06884322374,122809.46640131308,108850.864101329,91225.44780370744,82757.20832006948,156735.8997744167,125396.9512734093,235278.38410338256,127336.0030696619,103934.80940962618,141496.94603662693,139282.9455579311,162980.24868558033,108997.45333844528,16869.89934942277,194075.16982124618,224780.20578498286,122240.18318219238,150409.58829325496,146066.49822435726,210407.58493599563,67289.2081425268,130211.41065363388,131667.364098373,144714.20943190542,151464.90665623604,115806.42191541998,111724.26674023469,124760.87408248533,127288.2526845833,172304.20864716603,130032.99636388023,180235.109886472,83077.28896193986,82610.51859030302,96118.82229934598,75938.05855230393,110306.85662942391,121936.92838978267,115630.92383170279,115385.60676694673,141471.60450269503,136329.9131840003,253696.90769298383,52909.59862252569,209095.45373582898,94824.48123493104,149270.05072863714,120272.23889474978,137788.01180188812,252819.85801958907,120970.6338600727,240077.09614906632,227543.59197273044,209880.8872520757,135672.254766903,127052.01335757959,215992.9080037308,148872.0372086271,108102.95335106866,288267.9640730653,245253.12778713237,148653.3640405956,53370.8740027413,114158.62846033007,146659.15044333425,100504.123886468,139964.2732680129,80321.50803114579,130266.19388324779,127606.68113992887,146124.06866170897,119332.5350926636,215488.0392545712,159109.01580377866,206168.1292083586,201000.04980508832,198886.10227527434,19210.3018038898,128271.46638117905,58602.299564432,252817.8517238438,252019.83051576637,178801.658452968,185641.12353197287,215277.69462842552,210422.8144120077,160943.27123340836,159154.50280161633,176275.2326048162,182507.0123813959,125909.29227514158,78245.73172351916,56794.33968471654,68528.07956402085,115997.53914125997,147983.8061654967,180450.10367268987,133122.30391996435,135330.57654054894,265769.40111946536,207425.4428629669,127872.49675916223,171179.0175420234,197020.8735214825,272295.9334330376,205783.50519585464,336954.8411129293,225389.158863485,243164.71478137435,198426.32954769064,188804.39417732175,176280.42849909927,167844.2493634086,187737.02775261755,229767.6746572041,215196.61115516088,281982.93803199206,206546.55470823584,226900.7413984818,245748.46507150718,248828.4601870935,221200.40467338092,157394.75523882912,174868.73396514164,141187.2618898353,129140.9012992726,93441.09515459527,104428.45028994739,108241.1460027254,112303.61820095609,151764.33391513786,150115.45964587684,140472.22234009503,153491.0213850268,146397.8578606124,145526.23229538574,136677.1440298531,350670.18448024767,328665.68685375026,313002.8227496726,406498.1926285812,295712.4579888232,277021.3982307705,299067.2238146359,295341.06733122456,282489.22923669044,298625.0516780993,255598.6840149424,350565.890769282,285636.60318105563,256259.74612522093,191496.86630629696,194239.66159133025,214915.3083199013,383305.0088961994,308345.15763917996,293281.27091266226,259968.57760801856,274352.2488010017,209294.22234737122,209675.55925520783,184101.05656999903,191015.6177402194,190865.06549743604,215071.3989184689,220306.1519914406,207141.0539817551,195405.0744793887,245604.430693295,188584.88791945943,182060.5681497419,192610.08430423093,259639.2183148825,196697.82019050553,314982.5429478303,290272.08603299,246603.75710362536,275594.4315034287,261434.95225601914,261491.7306229185,261867.92432927355,249960.79780816069,366121.4287734862,211995.85001519782,222591.66288525463,277279.5421506056,248064.16028513238,254012.48863964542,275058.55442962924,249772.69060123703,224691.71517617363,202477.88605412765,201055.34397240955,194665.19225507806,163527.10032903397,229507.58993952596,244437.66227389398,197029.43147288327,148530.74349696486,148904.76504888636,226315.56418979695,229174.73708660007,194454.8582583593,165329.6216585703,193271.44159029349,165421.28907612961,183967.15737756545,105376.19248823769,101386.31078803487,114192.08879855153,116266.85157412774,123295.1662745736,108707.68830426986,316610.4236061092,247319.3851339488,287828.96990307013,212042.2830131568,185389.69116639992,155017.49938338873,167574.2700983942,290654.047324007,248367.95327022733,248564.0610410782,245087.7902444088,237032.81446839674,154862.545918398,147092.05438713654,269174.99666352116,116553.9322591633,166902.9675564791,227524.02936730316,153789.60304222716,110589.98314076284,103783.63271246821,121886.25845145545,177086.57771834655,161191.32009735814,148571.25634833676,170872.36128980824,169339.79812514427,113170.70105228311,198103.74712458457,192985.49258338445,236426.88928546375,137042.6628311816,185406.21398303442,152833.2013144993,123863.60781449167,145047.50265798805,113940.76766628836,141402.8511295651,140778.53629844,138869.40392725443,91343.28872705315,136035.6488492742,145650.0788472115,182102.4072739153,128009.57791696436,55368.83100900908,123158.99218083819,89949.9132994811,111526.01035742246,126991.6679476499,160008.4634682929,9707.839750595558,88273.50740006188,30552.176018860584,191732.41681384126,183121.97717512207,141449.76876561175,161869.3346477865,137237.15266403666,157255.70424567763,131040.08812151471,116965.68884211167,96329.94664948987,113438.03298450581,104974.02840812894,152275.69142526452,166895.3139297014,118168.2687609542,144533.1513049674,149687.98708062916,150645.10988592374,114390.38680787355,125014.98530755535,141048.86234188377,72674.25059024493,106191.61491748731,122722.90553404269,69086.76666732218,17966.20751496095,96210.5764443485,82656.88543710897,164827.54936768132,121739.9896674768,47348.603983221736,120372.35340538289,136534.39126182132,20924.849090382384,156057.3781109603,150253.93380538368,90138.66217422573,107173.77610523085,142653.06015312573,103008.24928775587,156019.0689688371,203590.9014987719,118990.42006065923,156186.18316845567,137918.61943081644,120451.20459231961,142256.5548986338,86238.51833758055,116412.10254879756,86007.62861636694,131674.65998256503,123002.1201603461,70002.9999574294,128568.46314941085,133443.3216284655,148458.55078386277,148598.19573985686,189770.07201373036,13561.331445898562,139156.83418365213,121985.79005114845,160814.8684306263,127547.42777461786,119279.30821824953,187445.1648789129,175065.5407756904,243746.75115164896,143605.32243934897,144319.33347487677,135465.8272523635,138559.14352692914,133841.32426801202,242909.69840158676,240806.1271538226,240826.0025716386,315543.77026188315,294388.1547383835,246106.6069668719,282213.66661640874,222886.04849765,233750.25502868547,251488.48961695345,181061.9925993599,222048.53623861322,145298.4162251369,205621.25662768207,202759.69455962646,215875.07756364057,229022.68176636464,117312.32085100416,132053.5631270634,231982.4974502422,266293.7568830905,205154.6906404709,225738.977572577,252397.2704847021,275600.68991047365,222946.93895096114,267856.3587355808,176137.84589675668,114141.92221685027,145156.8744364229,75830.91855531481,134825.99523592478,119812.08341018873,172370.3099393241,123689.9070704027,111003.83754827775,132429.70881026232,147848.59204497276,160120.56343870022,151893.65712510067,160986.3365141304,221895.1770759585,135602.7781226248,190487.92655503185,156500.5602791565,205614.99933091918,136693.60232566687,143644.84970884392,141959.47771984775,217037.60123844878,305545.4894855927,147786.38189088058,47419.97768205886,249412.28950327184,30143.604122912904,263547.43614016345,154089.35522658814,193830.16459752893,183156.75369027926,320586.31361173315,276097.7212853177,245159.4539808679,211142.4319636011,246810.5525721071,325560.4363250717,133455.3090447613,161752.5244831128,114050.54676221049,164881.05118883,132343.31380774634,138819.77945586824,153054.17715548858,188280.47806770494,180294.0180926167,188322.07350286073,197031.07344025513,169604.98906535772,254343.06155731736,209854.75413686223,191862.87997896294,186325.90815148107,210290.49205006962,279809.78881220403,314817.71067992784,173153.71514513297,277731.04878849327,185236.30499911937,251550.84190541922,199730.23499803827,265099.83674245025,243894.08627969326,165423.15599079966,235092.73682916697,131357.59758824226,293291.26751124114,186272.20039453404,283249.5546222457,133106.17608130095,101095.55184821365,103372.99804022396,111629.77743078326,127865.05134753953,99669.66425381158,132899.36772999028,152522.36332701286,258457.43002765087,327790.1874435039,319970.1710804808,339397.7455313362,368380.2117256799,318793.0704444493,266663.23884272086,282486.1593372179,399299.9795752263,270109.94695193064,306001.6721604862,317810.6075949224,289632.88112988905,209021.52648691274,286562.4470793817,224303.00704635933,225049.52714663438,192838.4237572623,224262.94607028944,229214.69732329992,211987.9374085921,190283.0318225415,219883.52636562448,232730.2483117913,217559.49391091263,235020.27817832373,194647.0986764112,250440.4455346197,210393.1962983939,271879.06737382314,290623.0951031856,286467.5289614403,261485.1888640944,296572.2921010449,252389.16861785363,234422.89529944488,261629.62097242937,261019.47072288764,238322.14341245845,234416.68425336663,263784.3176399267,214835.4644733558,196475.2587873016,221504.45661114083,176152.2462400836,193618.50731203821,174768.7612856927,188654.4811635851,202168.1949722215,187738.6404230597,212320.479646059,115951.9800415067,125609.36693330132,77006.08431751908,97304.24196105474,191780.45390654518,134037.76915116585,274396.61296856287,339648.4339209155,197883.84693492483,144473.78773334576,179899.23788916995,154945.58991469909,263737.3014210351,253065.73019573672,244238.90426368613,253443.56790078475,160693.1542916007,220280.57779317859,209275.38248604885,210566.71961697494,321272.7364805711,219110.3110558069,331917.53458641446,269607.975952795,227431.15738449382,171199.5568435674,204894.56483481638,216731.92257051377,139296.93550282414,126904.41449255659,126505.39186725067,127633.84477326344,184116.35973692965,135883.5413101816,127298.62126977253,145748.75780889927,69310.51861880276,153007.07744068536,160116.8009141765,108118.2424253535,205965.10606642207,132757.94734686473,196567.33234376018,195274.04577671085,113089.25131586031,106329.78929288941,121502.44044440542,112418.23041455518,195196.6478386172,153160.43961830367,139336.00380292907,90400.25253388076,104104.14669421152,74339.11826107463,125595.2725289187,129493.92142813397,185174.72689801082,144640.16078796377,117263.70101187658,132573.1544081648,113368.90743019828,134820.8801711935,132541.19251098856,122341.6325748919,128909.74346778728,140619.58218914876,105470.46232578345,121551.64053886174,176968.18022977398,132481.8940043319,114158.85896902648,69007.9431625225,127082.12141917204,78681.23781343827,149486.53855103604,143488.5853997916,150885.73533278867,127511.40695707151,86339.2314948414,85231.09862961224,128038.89360194537,14320.540917906896,70423.54994816122,93047.8008265486,159068.76462631696,95157.39734805538,143367.6259091245,137450.14173442987,12916.431055685258,206946.85871985322,122151.20294085937,115646.64501223317,135403.9265825937,200684.1102796828,137829.05752145802,118640.82693258254,124400.33956555277,167118.10667571123,112535.12442445196,155367.9812284012,137858.4891670735,117909.72793006245,109197.89078135206,86214.6026694777,91319.63068377576,119916.41621088632,189334.44216952077,127132.00112737715,143550.6096721997,161207.28395799105,145609.8327279985,114212.92973863962,141271.3756437013,157449.7520963489,118917.77147150645,133698.60909521207,122330.12370546279,106058.92735496885,28665.95331381353,119159.3671133183,121302.84614354954,151678.81766676717,136677.23811327713,163902.83842740627,122688.79071514611,139570.33722906606,73454.20345740368,136043.83025287045,185264.26289916504,142186.91948117712,134822.25364354788,116495.57353718579,230344.1698048303,150797.7551357951,175388.7163081905,199153.92305609933,103400.47310422873,155878.82863884512,271454.7072254524,241426.057697362,246213.46283944204,244385.64766229942,195023.0267636485,261114.75570936428,347517.4073207164,301542.7547605394,232868.07516188102,216362.06196875309,143744.7611699195,211962.35947199818,189187.83041923074,200472.60011534952,215178.825922827,149595.93309977115,129045.63534893491,203127.40650079865,253263.42018395776,283675.6801683805,268938.99868666753,253381.75577193845,242283.23382116944,146150.5123290876,221465.56309180075,212160.15279315994,229065.0257032774,207910.68006712734,142747.51623577764,124033.4133926204,159261.07973157614,159953.93880784116,166642.01109815203,358111.01332636457,86602.9358145434,86863.77127706097,51229.71859351055,115682.97038707207,120253.44751922716,90553.18339959788,96555.60873188754,100537.45223664679,193682.24055419513,171600.2829348112,148996.52840106701,138414.13096855697,203145.0182125857,120249.63683323376,157898.3181357931,118056.64427424781,160027.68686077115,213132.63356461865,250849.5021353622,198751.00225853221,133834.4040349149,132371.41102697328,129786.50053373422,99487.86869950988,157014.346268059,108189.28162114485,153827.8651656541,14486.514386297422,84432.18639800137,77341.19078968697,44175.39662566477,249693.59354735978,234167.8986356037,264061.4493065539,235047.13568780964,134570.6276634736,181834.7968108009,214716.65790921054,250991.4594456991,241638.85982322434,153544.54746962362,204678.62396668876,213365.67134681437,185883.06953820423,247043.1058842621,209938.97332067485,265678.1759826436,279214.87888670387,197729.5835877224,157795.76403685356,153361.82061782968,112272.78590472369,110775.28260171786,125523.43232468958,87370.78320425027,87849.83099735877,141018.7907509415,136501.57988385926,135084.7221881675,120901.52748377551,126164.1435526174,118806.22585522174,196717.51600454145,170573.25954106523,198444.1239953181,205569.28969311438,190345.91622235373,209611.93627620468,185533.74918167622,197058.24366076294,162091.89907416448,199303.75947266867,217175.43871516458,296531.93227195414,367605.20464006974,149805.1864600282,265903.25106478506,341153.790037506,352230.6321458607,167206.63773974383,202488.90683973467,227226.9232833253,223210.86557980932,172874.9986160556,192456.3432924601,176189.70341593333,194438.61830683172,187329.87287607396,170410.8839581183,114593.8941192576,107938.68455395175,180545.02354903313,176426.4076831376,119719.72809949637,110404.33757199792,163110.7309246869,113226.3064473125,297356.99555068254,262440.02791761886,309887.4860490684,346241.12081946223,304544.90193391964,361245.6293965578,359576.67579843756,341125.12417535717,365562.745378586,281169.31568421447,277337.5720585701,294581.19291873695,325215.9606844585,290828.0794236122,258885.44973046568,234628.18385746263,264689.1249391218,250456.1276921628,190841.4692247834,191402.4336468985,193266.12211207373,245158.37332650393,269122.3448421662,222946.54823720342,211552.94717532236,190246.36996315912,186658.807756749,198887.85927174732,189029.83269675708,193926.77800363515,187907.40541526096,179336.4403719644,201320.14674375652,204262.5294772494,248458.71326274404,217887.49401270392,194080.7046304073,202988.78433179788,227045.68673865966,198492.84661485933,221630.66054490235,233487.7427122535,195864.8239903788,209368.06317815164,297135.8544061184,345105.6742727405,300962.0411730998,253352.14662101286,268961.53260599566,286154.9227594377,208747.029379298,252580.29489859173,256587.84207586458,343754.3724481133,220659.56923301498,248201.9905922397,233403.96103331147,240009.61640704193,249274.30514327463,225066.34150004483,205907.495308399,250122.23725251507,173073.37470228158,261523.57811685072,261767.8023524231,268353.72407949506,249021.9713590334,167303.765836763,184272.43770421555,149720.77730196182,220753.94460353864,200671.77035168282,155980.51301255196,128718.33663649301,129029.40914824003,278123.99659892404,136817.15503225874,188398.26368579714,230524.9802608502,201118.78559385453,231764.65557514972,199637.45530205758,228854.95479864188,156236.54659046957,147103.93049980796,202171.58928370665,279249.02956680674,299683.6264286211,250997.00154817806,289357.91022199416,334157.1714197311,157111.48652411115,221059.07660991725,144499.5517206432,172335.401004446,254122.9427361831,243968.85035019953,252798.324551218,162675.2280543533,139397.4849878671,131075.29988897152,111192.35577079075,131564.69169636586,149967.61345805394,125281.59652198644,109752.77896233814,177336.81572255425,129930.26109002021,200291.0521987111,173223.395218096,215367.61034861233,130953.85307523425,31000.604352973678,27207.393643832576,126376.76313234845,148009.91498643372,132408.83173153203,140040.65185541243,157521.45976269039,146180.80543393714,112580.69499141796,142478.41962368696,127082.97785050076,200134.2455105684,112607.2337845676,166923.8512178825,120115.97353214191,146303.44536123777,124168.76068640364,136166.47406937185,138960.9631945796,124437.46207980931,101721.22549833989,110060.14409583833,139970.36769054437,116830.56089459479,111239.59916803034,158407.11228933188,232929.09972982857,119482.02991783552,117766.38351456242,207407.1509177762,109797.13051141359,132664.5044394548,114423.56742612741,128604.250286317,146941.33411812808,127896.44570264759,146952.15316217954,115632.97789296813,110434.78439712318,104111.59189065782,109955.63428921488,127657.42494589489,96147.76905394325,104118.79487021247,133180.9223152539,120454.09805160158,62754.54441394778,105706.91930967037,204618.42774255786,149597.17063377987,101104.3142921536,156674.26685876728,117144.99635988756,221971.73792643452,99640.61498305181,149702.8237467406,143092.42818771003,128377.14679985357,121898.5728332829,127730.38116170073,104314.67722219302,144806.99582509327,116358.74554184338,138922.33577482685,117657.38113099153,186573.927753815,137882.57285809124,96466.35501099637,149862.39661930015,81995.94661683663,87542.69955398099,205128.6396471502,245973.0117879019,180445.70470992642,76090.18500733869,67001.12878284445,254988.5709827163,94324.09278927886,90418.63827105964,161054.4299802515,83982.20927297794,127275.36984373469,116627.32199418804,106802.33299932608,105810.53145700836,124203.83458748719,125560.05952302323,148462.70708515917,209541.5012170349,194132.88810209374,166911.66961373368,144017.4928410759,90080.93974252723,207402.28965885032,152825.99556177904,165294.04330963854,108692.2316171022,253110.11466188778,174176.56952699463,99107.59862396613,87187.84013117317,123373.5288102201,129304.95062068969,138658.58840171297,76650.05093577672,194064.1582691183,235590.21825678324,264854.93544656667,298081.0592512067,265007.13150907564,231945.3954302578,251320.96790369952,211419.61783804072,224225.0220917296,230912.3972194407,308741.0598578076,138728.63797688836,169567.60930474292,146923.51802751914,155923.9548340191,234120.17055033965,218274.4681138825,210947.38662569018,230861.21658747343,109937.47980619132,122550.54099705935,127840.98456003683,120767.29970247581,111878.48598913339,112953.81401270002,112733.98952224481,115540.94857189179,256192.88560179438,231434.36307443355,225514.31458943387,251146.42415984793,284849.61819413654,250400.05112061815,257764.4490290289,199573.23082756347,204243.47606317818,189514.8026481292,207739.5483082638,158590.9335104658,122030.29155263075,107901.49049127151,129953.46452576856,156588.75851163574,156706.87295112576,174967.66356246945,150151.98303790417,616890.1833117702,146162.65586897897,128814.672932338,77716.66063620317,99991.52554590887,121978.27931000505,81294.81860608007,80038.64784136861,162266.34976434874,122634.90949889159,167365.9909122724,152572.25705008747,147255.77341773084,148526.35515244145,195440.71782876764,167643.8768179354,122671.05452312928,90744.22949226646,197237.80209384838,199672.5203133852,134250.41449133775,167786.6871454481,192247.90608277897,229501.09385720993,335313.46644826257,130878.33566741788,137139.7525588102,148077.47221237913,90344.9128680134,27278.402086969974,108013.63413813154,102342.89702814192,132192.30718986693,254223.30903155197,180406.26130008258,177514.97277782697,238096.9539597242,215241.15621491478,159773.70133824626,155687.13729991674,214865.64485481734,262255.118170124,240158.2826796442,262239.1301334966,202741.9738109417,236129.01299795814,290790.107339191,198419.76431470763,260717.25410740197,328547.4285272297,186200.17678116614,155088.7048363886,60055.28701078547,67078.20226384378,68225.17827661084,63213.8905926615,139526.20530451604,220340.18952118096,224473.17344372117,163490.89247174634,113612.0684719547,142947.7682390877,149341.93906443313,138830.53729470845,124138.65365239166,167493.00733575886,171149.57265557008,178379.5510538396,201058.1286077484,240548.50579394083,192488.08332443805,191942.91755333156,206764.6313639575,252907.114656119,290284.33241321275,291674.759362263,183874.26975081916,196111.3215264509,357582.2360227824,384082.8585797084,322556.76607037557,370359.0618907538,343447.4714340017,282687.59219393146,335021.18891366234,164814.90168262398,217817.67021778747,186272.91664904993,259669.88259837413,205990.95456232675,163984.7876976252,83469.64260155392,183009.23993451064,109094.82281230888,123635.20152147589,114350.91135398074,107384.84035334791,120417.08685899139,149622.42887055417,162945.13311887564,158686.35713521377,141309.66223222166,334034.2176446192,265440.6693678078,234782.44742587637,331031.6463481091,300046.3687361552,305412.8530340387,290148.4786399052,288583.481691982,294387.1671202419,305176.80182165874,306052.7606531844,277905.9197601221,268001.3467529636,308480.6084155402,276905.15753234725,189113.29135539927,205855.21029685703,190727.13233468877,281120.1406937054,208506.6126947844,208337.41143068424,213753.41479509053,227251.0100285349,187753.99364652656,215217.76649235547,218345.28182620028,260113.00930285113,260827.08891921243,270659.21353677695,337178.5605153978,308395.9029197352,423872.7169199536,287871.5425710919,324615.55581234524,271808.21617214906,271229.50326623337,248598.42994818286,228102.09170503574,351554.5567578202,195538.10085213612,166545.40981994136,215889.90623682117,173054.9738594001,223384.01630449397,210412.4459908219,203028.45245324573,208301.5921616362,171205.05635704714,158621.5832732458,156992.0562836503,108421.97560485321,172798.69269733768,162267.54131244574,110106.50321999736,110210.88195728612,127510.45403402098,119215.0712417798,113581.84734906102,124207.64053393583,286765.113265287,331298.9490148785,195306.28265911117,156874.6163187051,158237.32121239448,151503.26757827945,214061.55833403705,242738.74558966173,131082.83922072392,209021.11243892982,122019.80935738524,160435.38216224438,159868.11036955388,109300.61086385822,127900.05402720821,127973.50360401519,186237.43876935923,189590.32218113946,131993.8218028453,141686.3590596177,131151.707824458,133762.62424349398,171328.26703382106,180345.42386715332,128126.16471876678,163763.8381794671,122385.60225991611,133368.06802981495,153264.50839346446,151421.70402868334,140479.56998266987,169927.53995393435,152742.07942994856,165905.5080656161,151759.10185988978,125019.04633046113,184021.10567398727,119534.83131940252,147028.65243459246,117345.52520245625,127135.33122032727,239888.48753854478,167331.15780387013,194837.18903267183,136400.29278484508,64295.14395227107,35583.93103294923,70123.3214617822,155084.9683586665,100125.2547623644,152529.43796030883,150905.78683883822,228891.55708856494,213387.64152084556,306244.91424354806,122665.97905954192,52293.96119786134,126645.40400931807,129310.39573560594,161068.86349528408,103710.28854239927,91914.26099657439,136736.24258351544,148837.07493806732,118086.95213385634,142683.07901042872,145682.08009544513,151544.48158807153,81729.11606795211,121081.19835961176,98286.50491527314,90261.42104689995,84101.29155589161,82622.49256527387,107158.51488503497,23022.414773904355,129776.00213610855,42458.32670693319,181725.3383881965,105865.49139455156,97872.9719380225,43172.69071768118,199707.93772827144,53187.44716873007,122735.74627163223,89037.50545301763,223336.3011306658,114281.42527836081,114890.37708547208,72018.99510417353,119190.70229948135,137862.69406880377,177654.6772921715,171637.42951280004,126303.66998240058,80308.4112403182,186561.5882060566,143315.9909802704,135179.022023592,125941.96378584564,168506.4680895543,162062.65294002005,155432.80906917,149122.4911733941,99666.1984301641,251837.20064999614,155745.30973101742,108876.76054493789,207271.09179445318,126003.926244228,118696.34198548374,199530.6002835921,306121.49160771247,168961.91524930144,189538.3017988541,134955.2465649609,136874.59341183104,248712.45216319928,209262.44441653657,232914.32957788007,212055.73195786713,235561.637476954,261775.2682373825,232791.83828141898,239455.44846933367,207165.95133541184,171160.3409030613,144365.4109554897,190702.49104576823,202874.15106710614,217686.83026877217,229502.6873248956,168726.91322747324,173952.17256980072,119696.11184249059,222326.95105504672,203361.6807097442,251401.64587856884,215800.70757168028,278844.109475277,243494.62341356053,241367.16014818157,233031.7712831207,151271.62041749744,213683.81675780457,215985.77280612066,208056.91504299952,209871.78612523372,91175.65273765367,119938.10949377096,144573.85100710098,227261.65365864788,157350.11160786016,268415.3355540888,146013.23192630042,198367.82849842389,74298.27395386515,115577.70978249921,108289.13163409507,128298.68419449436,83685.98687465336,-3174.2599409789764,94914.25079766879,126629.04251564023,114804.28389283115,193566.34346608803,140109.41530780014,165095.13263793834,129408.62397920396,90059.58100646999,154612.61640215045,172479.20828210432,174653.43975441562,200823.1198683142,178244.6851485284,219237.59193528755,114916.25973536246,135388.89195390916,46815.73704132471,59472.832424550186,147809.96413859082,51606.5170457108,91734.33993560573,45206.617076009614,267103.74301852693,254146.35030235382,211133.52455682502,175516.46748882587,243349.07906865663,153488.29558829157,231404.68111503994,193953.71671084207,297025.42684922914,307268.03381175816,75725.47699686313,199681.25172034636,115818.66389190344,117965.08256740528,143230.4332234765,58151.586883212774,60699.1076359212,168589.1907457517,62819.81830479075,63962.28462595037,73604.3694601223,69367.5244009859,162099.236424391,123935.07387553583,245184.432312189],\"xaxis\":\"x\",\"y\":[127231.09012800641,170127.93565252842,200233.27375164116,206596.15344544267,203616.98551733862,196768.8064148142,191915.82771580247,179135.8173101528,182830.85370857967,119216.94135132339,201238.71561646368,113004.97551176604,107071.91499741352,156683.40473607834,110113.88637355762,296651.9138682303,217231.42745089415,245654.1692890192,256419.6759791451,362688.6305035781,291297.6701857853,203708.91357009625,191133.7421466997,189225.5877018082,170728.54787006788,207934.93839821266,338386.97323335847,220378.46177112963,198745.72915631882,250440.36329211039,206110.15800916543,92389.48412127793,200317.39993625693,262602.04668941046,251802.7358404575,216908.46134357387,205818.70871497667,174387.94291210547,174615.4490502933,176595.41786574153,175062.12572501926,143119.44976345776,244819.98824460735,245739.4295249849,235433.86951464997,215480.8290738142,267454.24668121804,209278.07477894658,173144.53674044833,175757.74946032767,137444.68186711962,208998.60563271027,198420.98895191308,201798.3995728225,252724.28523752512,139993.10440555285,155924.76348089054,173591.42208037875,225518.00855299924,124023.75609842222,134404.6283043027,200291.0651810253,122702.61822444573,109995.57621815288,103041.2343526124,107800.10666793771,97642.94197515282,148114.2264034478,128197.9580096649,234584.06090449053,141106.88140549744,79914.36407019873,143223.5258347299,121407.81270058313,179897.11224845191,107211.16168246721,75462.08048387803,166316.57809724286,193807.85499067185,170972.7251692908,127342.34444563324,158661.88648777525,181675.6448330297,69283.06094180327,88816.22877234803,102674.06275688764,148851.5533875511,130956.23388824356,104994.43806188414,124545.47453022329,92963.98382755928,150417.09035075642,175131.55872505903,107192.97782401205,201990.65122376522,87906.19818388694,116224.34699100116,74789.38902883744,134067.2420390523,147873.61107324436,212899.0878262124,118089.97970200237,114755.16731976159,164881.01002854435,152801.93939756486,211807.59713400342,67216.58986760466,236719.5048905227,152334.41692859516,130167.82112600724,129954.75010781083,150312.08387115435,208545.0137055153,168293.3738073865,267333.9667668585,230963.3305069292,186261.4796186583,121819.53868642892,142556.12334931595,192058.1647988793,168351.28245564876,107580.5621438073,264871.6134144482,241963.46170468698,139161.5413554348,79883.0820772266,107077.60456012702,151462.93559019314,126486.74916801881,133097.59103725175,103712.8698296533,133610.982713175,106619.02885411168,221434.65017512278,156535.84593721828,192685.32614097372,198763.2829613993,186260.96872133762,151963.68135326542,174073.8792410125,47921.65852940804,131696.982906017,66257.67718029418,256590.11801022245,218641.12266954547,179142.06916920352,234550.6037424358,202488.8058262244,180599.9903393071,176922.12315425277,147198.5243592756,194723.42700744886,198554.1280537611,141439.79334053956,121647.35476387548,106981.3585904364,108761.61623707972,117495.31236459664,137370.19457870116,247133.2969365765,143327.06996783148,160522.23933173204,241973.5766104262,258217.7805952835,94881.27223545057,175764.7698834613,200054.17006732174,248903.74051192962,197043.06373256957,327315.82721160725,209496.3195025362,229033.20467498433,173731.5025640023,198360.69927412504,171664.81474662572,162467.5037580966,246684.38492178638,243969.2491733462,221452.53807807202,287447.8226197208,207136.2922803848,213572.666012706,228140.1224680855,220371.8038417208,267252.4120273276,134906.77241544845,146134.62946347054,144864.83724680566,125052.40606702399,115543.56234357273,127981.3265363453,100268.87462540786,99380.14559620502,158399.9854411527,132540.6869366886,153830.07386918156,160185.0745816338,157988.67057245667,117297.4064084338,167053.72286512703,318848.8993383092,312934.63492027996,285973.6265126574,354877.0203957502,261581.2143810438,251076.48523202026,329172.2173657636,246923.913009773,225019.64770699013,252852.95293983584,268049.6857653395,319913.61134599056,259676.6865820759,236363.04512371658,203195.53323259344,200641.65004649456,204266.09228048287,356309.75000728527,295064.7896812018,272080.6153605706,217081.3299016084,264462.3383297296,203497.554258571,176138.81509890826,178878.91979018832,180472.06471454422,170456.14712445159,200802.23538721912,207068.12094005058,185947.75134022534,174145.27129686088,218591.20371887973,164879.40016059834,184849.71141784522,165335.1404804727,257993.41208742466,165019.21710193064,295059.8797577857,270808.7962867308,248310.01134803472,266584.94393506367,241343.97806361713,236561.61533890013,236659.23191452166,220023.4997328904,346707.7447685567,218059.13010437856,225891.75962699903,241381.46514570946,220532.09271768667,217334.2314187521,268604.36549785803,249033.25730427355,230801.91951066977,192207.4401089358,203434.27739391406,175201.6733597014,173590.48564477498,221455.19377823547,219911.17813582416,191672.7858776562,168078.00731438957,167906.81055324245,214912.5581929721,226734.24876204878,222688.2758783116,181214.8556472871,179922.3294593119,156651.19926607702,186472.5116333305,114419.33432995109,146783.98280139524,105138.24090664205,125732.6692001978,114155.72000450967,102403.8377146814,266944.6282532546,229737.61278145853,325587.8310578419,268703.56161080766,205975.25044932333,175068.4849073824,169015.6637691497,261526.16871401016,222492.54536253307,253540.88679524418,227537.33066216158,293048.36218289426,171596.72035845113,140732.13472607732,282884.85029844614,101823.12241425132,190692.98563576723,243902.8599497436,157784.106216192,109313.92686118372,94869.3090517954,145343.50912796753,199286.7595411511,188252.5587406857,164380.60560803162,190825.39086335478,176145.0085989493,112834.07567838719,199516.91312525002,212825.50471408525,262449.7810349653,135146.25319332816,145102.97220969852,129390.14859569492,133263.88477500598,160355.2560005607,158016.0261305715,198972.11401834805,111143.58212154638,155470.3576872386,76727.30890544015,123839.10779326176,136919.60036297655,144890.13034367468,128881.80938906595,100421.13527786476,135559.31690280722,101057.23029499408,113756.1308343336,123440.19919717195,141986.41378207318,66107.07624726184,68802.58037270629,60461.88205659669,231054.1184788884,187458.7113616846,120948.1082772694,119564.12990087061,118677.06297656894,127705.17754993006,138340.92097168555,112356.43402408157,85609.29977236222,128201.03893342358,173731.44282808504,140266.45169591252,176054.41406703414,126319.21713431505,117346.71022212156,131278.00335641857,146042.26936824364,111341.78406158858,118958.15105180466,162221.03458362282,135163.32525424007,105985.35644549318,122667.1387038962,69816.85335648851,54552.630013235845,64453.37684915587,107073.40961195924,182083.45804319717,124524.37636147835,64219.752056064084,92230.21376879513,123383.10068148794,58120.105423362926,154947.4971720844,166666.71632529632,89195.84878929611,105289.33139526984,147284.54725289904,94861.68700543325,135020.0765254451,176096.2547946088,172677.64379987353,156006.18669822207,121601.66865520086,178295.52254174603,140212.60687404033,100085.84029870643,104912.04184926674,84436.32263535075,162000.84952232428,142265.8594864495,88242.77735742484,156705.88970152242,129552.4720952753,166773.203405621,148078.00209590234,231005.33797141863,63925.335117116105,163539.46861020173,114271.66459016572,145892.8384722313,131163.615110341,152682.63376751821,155647.9407513677,167568.85647899308,239169.28014069144,163315.31974700605,217139.41735003283,182644.63583688065,156992.4167860106,180342.54360845545,288773.56900247186,288154.87505255034,288160.7207308309,238842.1626817598,256179.53769410308,234791.09197930293,284116.4587258962,190818.7715750523,203294.38127676072,226384.48945617932,174497.4953976469,227859.1000477639,157714.12489985814,206300.72301658057,216274.74184124125,207914.2043021354,243744.02353174728,121350.13679781952,117702.72347673588,240603.79094212689,262210.18864637567,197785.26694614277,223620.9319369041,212519.15303362114,268429.2209092635,208968.95141026028,254196.93410869036,175165.75814243732,168156.32378695533,161680.56340123178,95816.45959138963,146719.13494585734,180428.60205394565,165549.0160470712,115052.82700181287,105818.46295672748,128178.02371964836,123452.46262072818,147540.37705712765,131797.28577620862,183551.6644903957,203824.21891101403,116512.09976642765,212543.5347678454,154742.7217863719,233145.01693709707,125491.01460885885,138949.38795875642,133768.2903329148,245748.25128225377,310504.3703753017,195521.7125939373,42796.59325973177,240829.72171813808,71289.86518001091,243998.5561981853,134488.007965429,196848.0098690451,200227.8659928625,291425.043624714,236049.02458369918,253751.03952659317,235839.33726674155,243949.27916761325,279479.05306048645,126223.49674702273,174048.61376470467,106538.2910503,164599.64963939693,136889.15814339044,151845.250346886,180378.27083065803,186827.40408608317,178977.37959531625,200174.38145556045,204957.84022832732,189704.40964278835,213990.0832489794,203636.77492710575,190423.16332718637,186868.5476033024,182468.80712738493,273066.5082892296,266313.16688484885,156103.7189969602,242076.68014564738,158333.32423435384,237977.62199766003,166131.90573873138,249516.47390519502,234358.73869488412,152190.4674341476,224438.15506298793,128369.15837648441,301855.1791781606,174874.1067113988,280768.35220406763,178973.17123287916,112452.01299525704,105446.87013850803,103008.02682298515,121112.82735500997,125993.39152454399,147547.74802065128,136123.07904704614,239722.15095440997,337257.68084891746,293686.9244975075,341321.6528973251,359434.87785509136,275756.10117431683,232093.52294023288,279866.7211049048,356091.9936674773,225100.31863674847,287732.4014922518,316540.28772196104,251360.63112099143,194393.53707302595,246986.8363422244,192395.16242562048,192389.72243993497,185155.11660228646,229803.88774610823,219499.82891765935,186330.386202157,188826.25540907355,204955.8223075848,222708.05335276388,203800.0821774553,211755.98327415297,174979.32574882056,250404.79260152858,200164.07459187182,251441.0975689371,277797.1945958766,262514.57199686766,229526.70554060442,275924.58549257414,260526.95410992857,216371.02309328178,239879.5882908036,235501.60475895274,202928.2772380421,219457.57986186165,247559.62454665778,210705.03906297917,207167.3239301534,207381.52884449135,183890.4170720284,174088.14239833714,184004.13615705795,204065.93772360077,198844.4722825694,196324.77049350739,205842.0092447598,127775.47209897405,119083.52176722675,105636.28053786885,98135.99410596187,192744.02540421626,164070.85676362133,347989.5201782796,314376.3274884331,190432.95269113965,174283.7442122309,182546.2532112822,176578.53798943385,234909.6235137661,200255.5808471837,207275.6392608101,227407.6612287904,160386.08273617364,194978.74512054492,190665.12985433824,192408.7886023319,284118.6091263145,179584.12395489728,299217.50186330965,235404.56781955343,225495.3824086145,197861.7559516416,227161.27617925545,192198.9052456424,180037.54893049016,144659.22483996325,132335.23899117205,191020.71164372703,159725.3038196601,139983.53833649447,149433.67636261717,151586.80486094998,66517.76222980558,165600.1002990713,186208.933062135,117615.18804521393,234522.56354554277,155231.0687553496,217568.0779939948,194501.90545984963,118323.19411633,91060.363214307,119839.90534599731,104391.55589139275,197339.89550192142,207280.70678173332,194144.1104657501,86567.01780230599,92746.80788639002,101270.94719799701,124779.56173477112,140287.6705694981,204645.99201651453,145389.11776538845,88856.25281226076,174358.46667478327,114563.31796061387,120352.6587209152,102717.50222413242,117665.86721682409,194586.920987356,149723.10384643846,86194.57755370368,124790.40277386503,194972.48662343714,138331.4396124594,126516.83308958821,60726.23599164281,120259.61465940624,149520.69608916086,164620.41658478137,132454.90919546643,110250.92933846684,120876.7566173696,68178.9525155155,102993.45329670375,132057.86066527688,40661.96020770585,176729.8063207725,138187.41828448302,139982.03857273422,81615.98639187403,192715.5932705088,151210.5991721917,84132.54433757253,244796.51348115783,107668.60037425207,134092.4770404161,128795.77058001375,161443.42298485083,152295.5821261201,122203.14378498332,119411.77192240511,155688.95262306533,98854.32996380143,151496.22740176017,112880.76668567862,88695.01108211,98025.80437557166,87617.43644447485,142730.3843273723,100756.84473802731,174782.18904422363,177084.26578186522,185729.97142346972,168494.97119970177,141842.13889317005,65496.200035208836,165112.2744880272,136537.91677138465,107618.72260740492,126624.17752602673,94967.24325955007,71106.02619461389,100079.82516478724,129378.01758980029,134646.4074684193,145705.5077913697,139254.61818554485,145927.70310161123,138569.2281847517,153776.85637514945,99871.60902926652,130958.09050490172,146738.75001910748,201885.4580819523,122228.1986840642,116711.93261399679,191039.9407720999,97604.52015798632,176942.17937640985,260837.744928597,109285.67316793883,166782.5818657535,311228.1599206347,234830.6292793376,249509.83804793004,233851.45787097747,171259.5377505254,230052.4289142792,327792.4802997622,250655.90157313738,210759.02576939506,201009.87227083277,148302.8076747954,215718.26620539697,205988.59863872756,192500.35902366787,214962.65576015296,155977.28365636314,131445.58874632744,235290.95691441745,249047.7237731777,251842.07211336866,246235.28958427673,251656.91940414044,203569.83504956868,140046.3156005845,250396.8030668092,201573.66968237306,215121.2098677354,197847.27039360162,164762.62958273408,140110.69610287366,137263.6581501055,153025.87269744044,147305.44626631634,482267.3000158784,121062.98073512642,121195.94748851517,88637.70016701939,104433.21428502165,120385.16904861969,103696.07947161724,125879.98853700887,122808.21206312161,129300.85307111661,163266.82193910354,127706.33631631639,125409.44533383055,136850.42699450068,154862.81660028687,188826.79147675494,136587.40804618085,167338.30732655362,150992.49238624936,220038.05557634216,211350.49094334524,122038.35431702994,95326.23404241912,111092.37588903843,95169.57707596733,208264.92198701855,110274.13571574609,178003.77112861676,75846.37843021378,107545.51462041121,86196.94938745047,58976.36397521803,240832.44171098107,256565.86844868585,260158.55954323034,216369.3648468654,180597.22656495403,251730.80742237717,197584.62245417153,212175.69287418388,232701.93440175662,175586.18922277912,196980.45500622434,201628.17332473816,176392.238035209,219822.33411654457,232644.8538796578,272810.62230084464,294287.42464069324,179384.6690992429,170258.7115862593,181684.2925535012,181972.77170894528,142934.99385222094,161401.32276443113,135585.57136235666,121614.1852558367,139649.34595812066,129288.08408260508,127566.34658610122,120830.33499979926,120388.00406876067,142730.25386390695,188632.06022011978,159536.48549075378,208019.40302792308,212201.41456961748,174543.0147958696,246141.575702616,161984.0806269867,208073.0434694686,145869.90703037474,192194.95375128044,180110.08230359526,271670.6805972927,371628.05462399404,182277.0808043636,241303.7848316976,314377.01256012963,310236.2037070794,161496.5627480643,178892.5468787381,198493.53612773446,214659.03459227365,177757.60988118197,206211.82420927496,143576.1329753641,185547.67737988802,199792.11171554727,183241.8431334747,126945.58240327844,110672.65576026891,199178.31908175768,189858.07365415012,116564.35865842598,127407.98996416805,141710.99015574204,113909.23487527971,252954.30119316978,242443.62400234235,299834.8672222113,322627.0534289987,274189.6589925331,309515.8052596953,326455.1945867771,319974.5331738377,303195.19344047527,311682.0341025884,250051.30207193247,260931.86167842615,326304.8435718892,296984.19321271824,230500.52531045512,226259.53330601263,238851.90957462462,224820.96653631213,195116.91715858201,195113.15315192752,202565.99324891553,228301.45018730173,227381.8083926011,190662.44848832604,202815.39108440303,182840.4289080687,189300.7102253493,178641.84626507526,184474.20248158136,195633.48105165968,194793.5647427661,186722.22332246974,181259.33619581978,178750.10402688198,219954.37869658996,186808.60386606725,172356.58540626755,170379.00378883653,214460.01308557135,171347.03460083297,213744.32168623107,230720.63851198042,197822.89955966803,218006.3185248589,290956.71764603024,328405.31958834175,290839.63721960504,253572.47116559558,257533.72218591254,283443.7295797819,223291.91665653652,235655.5975126545,223456.47647812404,265952.3149348856,243950.4589315136,220592.77985918755,219081.27345889108,237169.712186008,224461.57942413632,209927.27771376912,220159.16428070515,226257.50183484424,181234.6274870457,239071.5565095849,254388.87005366478,239211.32618146436,282763.4312577145,183443.4633920018,174633.30083177146,159068.79533295217,206793.86554424535,214456.36238517263,149674.56303903833,123855.34325400041,131100.73364375113,294579.9075471121,141438.73557899287,163160.75289888773,205571.4676569174,175997.8610791182,228958.63179390924,226066.41651723767,224754.15399968764,168235.53088829364,179506.91587834805,219595.40497354558,258227.136462291,274374.5361274793,232212.46338440245,282923.6685768734,300842.0972561557,153807.94049674692,259401.50932147005,135118.00215598475,211827.71201803163,241879.71483294666,224599.37984331977,241452.02643782203,137319.4776881002,139872.7684488003,151035.16426406405,137367.2531744754,125601.30357899144,138166.93787102634,116094.41449745139,98972.44187031128,136397.51817435748,129150.6083136932,222186.4306276862,157682.92603538837,222567.82062381902,151762.93619394721,71736.698289169,57834.78577048704,109329.71526161325,149590.54846415506,175733.71158676618,158714.20058029494,164699.35297074122,121286.50633889926,107061.76514612394,148408.0019399312,125188.76278649317,187021.24015775416,104864.10454649897,183717.55126375356,128418.32470007264,141546.3552199481,166755.2085905834,105596.6969181879,107929.80059032701,122471.1893647376,143040.73403611034,102008.20054106321,183474.98022767692,148129.1804691269,136305.67062959005,158835.34783718456,323887.66404172964,115042.25340462918,131974.6795891251,228279.34701147815,99239.07314184518,112128.55989459809,153278.54991565505,127965.7287870762,162023.50441407668,135243.8124344293,149388.32930756174,102846.44315235433,100362.18398544565,120572.02731036837,93525.69153780537,102859.21981591731,106893.72682125168,93701.34535644483,102936.95788462716,102338.8544876352,73521.50457870541,132978.68224178185,144186.98028055835,128458.88213202916,94311.29385662964,158999.72047350183,125180.68882007292,208068.2992488579,103121.2612034264,164934.89450481604,137271.53275856934,132234.79191833874,118974.5407677244,95522.21173503809,82552.96905893367,128247.66009221273,113161.26188302645,142111.8043441947,103999.48003231967,211348.84951690864,109180.45961370342,107551.33090600674,113335.09907237766,86685.5145534745,86766.88761195121,236521.155373323,232584.1265058883,166362.73451603577,122596.64929034328,148083.13339965884,227053.0945937084,130521.00477873301,143388.6451578862,171535.68083407078,115002.63473395165,129023.58800566802,134495.05736425705,119678.95755551988,106398.09960045014,117253.56085712463,116892.00751450844,160716.53425705247,331719.48334304476,144487.18050005473,154519.88241356704,140953.02756807324,98217.85318558011,225772.96754531143,160688.1105480455,182199.4618705511,125673.35350227868,300804.2831239861,165874.2644531224,93542.92303872295,114851.81418905314,151482.18355092453,137909.94583414565,152077.86818415998,108100.08565823874,224204.30200748658,233712.93642253894,241154.33880705573,283205.11884820624,240687.65434408188,222404.45128599042,217064.0810971465,193897.8001125513,225807.16715203272,228106.8073319923,237980.18748638872,143482.0480368859,169761.85391181614,152739.57916970784,169633.1765246077,233618.3129629176,201664.2780047562,203680.02450113115,227198.72077979264,111926.12249640329,133619.6237127455,126297.27377735637,129408.01903106691,116654.55432528583,123754.95891501755,123884.63613592787,137431.82308160467,269438.9441797375,229808.94308721228,221498.46612965735,215097.65667399275,292769.8023520168,236674.25675246213,208330.21932857716,179527.0593203404,181893.6206858959,189492.46856996766,184153.0244990664,183785.82098802645,131169.2012649062,121845.56820759038,124432.72233948857,128735.9881044717,140585.06437205267,213494.07698601298,181169.5526036541,692790.5006445614,163913.96485240548,126028.89511422394,121203.00959779415,125591.32179888897,81143.47964308527,81257.06022300548,101641.82572932448,323496.95206918335,131782.63734653546,125696.43431122834,94865.31309527764,118186.84187574452,120579.00585521106,185505.09543930646,176099.705611574,173429.26672262186,133745.52536913892,183360.88410289772,170289.76033819723,121639.70594421634,222087.76819775952,143509.0433953174,218014.6457462127,336917.25625186344,99294.59990174789,147980.95021899627,165273.64005012182,65652.75977903418,61929.74780383706,157202.33131848346,193671.97431546357,119621.46204108512,247364.61307271337,163242.38920353772,205369.16011324408,237337.62990498333,197760.9096287717,138512.9025786575,135410.35984655144,198476.5923152375,292940.2324220133,234904.13816504902,217289.43691990338,169966.130265567,196934.02644931898,265213.38012151513,198940.04665467958,266970.2752034443,269839.2361378772,285604.4500333015,141860.68415736966,108696.39565753192,121104.60488409037,117190.63468281995,112313.75641476223,147302.69210122805,238792.6689980547,256472.59303879226,203841.88156709145,105023.46254779142,191633.8790918556,173566.75390716735,129171.09352338989,127274.3773835341,150546.91711917892,154367.99823159305,191222.83642424736,183402.82866245182,231025.1388915889,205228.39663801808,192146.666032366,221303.5514559811,244064.4497292624,295904.1992615692,305468.2635511225,184691.83436335856,172281.5200776877,303298.9285101008,348844.6648580218,273470.65714160586,311203.29497591313,317363.87578368,241846.0935520092,310976.75362261035,149753.78312018863,219779.22287193965,156674.65864982293,276938.85712085594,201905.98641350307,162585.826529067,109731.99422168965,212544.935560229,109060.71674910933,142020.88691009185,102709.45805140422,96765.6129769939,126585.86932242382,174929.69283444714,159273.64971275185,133743.55284068082,152916.45453006914,286519.08465728746,215089.94887851784,235879.14317644038,294695.17741955956,259666.80208804738,271051.6322628069,278627.01661523967,266077.40436938684,274218.52091142116,252788.87830443354,250702.49994437327,256508.4995416901,228178.5762861292,252772.2953688181,244445.4955777654,174905.21422219207,179563.50885021663,190848.52478749352,257784.93266262743,184661.64423637814,196071.8073604009,211683.61609678762,216440.40876552463,169186.87224378134,197035.44415791123,205554.2687612325,271611.15181536856,228545.3596430351,244293.40161014325,312309.8362741638,313956.58309039474,437317.4158775327,278367.05713403877,326551.6296792133,241864.4008718836,260690.22057788144,211726.81854588538,189760.26240447164,343159.8653690317,201191.63285576575,173045.50058177253,209115.36444490147,171101.44251654064,215707.82453213492,200481.92522848817,231571.4495716598,248019.80065599806,185875.47381916922,170391.0286630476,154593.9461035491,110653.01578215952,179826.3896705003,155943.56178025482,112936.26129374374,132513.43202855252,127485.21392383333,117705.04073840007,104312.09179165168,113520.3816768229,326899.9914602237,323975.60394069203,194069.88823467516,168038.90331394365,176320.5036367604,143443.7439870597,263358.1068474038,248810.8017029271,173573.80538707227,197161.47039481904,122657.02636793349,217472.30716418382,131877.82401432423,114022.99836523435,144634.11664084648,143699.95332418662,199992.78376162867,182707.25954875303,137853.085946667,136328.18037825217,85129.24501181534,118477.36089513451,173736.32833927218,174969.97272563702,124786.35468388861,180739.68434887356,105284.3994182956,177399.84803810553,151093.92327888496,113764.89661494968,155042.44455112633,147829.389855762,174781.58723149681,189216.1619163463,125356.30912288651,146290.5909203065,162447.8811056465,121516.08337923815,153717.19579555374,112256.94641274936,135799.02570560225,211270.02854884928,175943.97093978198,263539.2781665581,121006.81245152024,89509.93555146107,78059.41332985088,49863.778129908256,115589.188125971,135909.22604795173,158521.70837736083,179901.65812188503,260209.88463621633,206472.65394844743,300202.75098647317,143745.21307691908,105285.15457096323,168180.41220714874,152420.64664857928,116394.44217932504,97349.73950830544,132096.17249866575,171972.80544301262,153462.04315571324,143688.95112336078,121317.16035560053,116853.18973505171,85776.90256015351,141186.8535443903,90009.13752328325,86190.14580817078,105180.23432485922,126690.55743304268,101009.4840769209,118665.69100297359,31817.46166941244,106451.489082315,73235.60968774464,234428.68189061666,107535.12811260577,104270.25033518416,84887.00728830695,166034.253312645,94148.93766716821,113118.85035006842,77443.51045926218,238272.6714779134,154891.5513072731,118113.19725471595,65143.616031899815,88222.51591841085,133967.87070724228,239235.2708635428,170100.43126332806,96154.22784583224,97549.4818097353,175646.80312967277,147688.96793701733,111079.88723760634,135744.6928632122,179317.43845218443,165912.16468898812,235434.24609604944,226035.26980068535,74799.81646345602,223444.06842576526,125996.20766553748,100654.13474691682,209172.97546640784,153925.44829434622,112846.25202060957,206785.91676927963,367553.88049646793,235410.60214028368,257616.02800993877,126657.63961439999,147368.08301405446,319022.0778098563,200722.91456530616,227546.50821618317,186555.85768594034,245351.96748990938,234809.38266876992,219274.85110341245,226951.53616301576,196911.20433824952,167617.8380591385,153226.57873017108,203989.9499588951,209224.5292551068,210734.45887251338,224434.07851129677,166601.27649451583,176240.32332204282,106279.00942879962,219734.00612341822,210521.17857105052,215556.53017060691,220944.10471476312,253127.93594280467,231303.85452869022,230133.89757566527,248619.6492440137,139161.5413554348,200078.3528837827,211679.8261062964,196323.04727599164,199717.60418302938,123820.82722141827,124561.03641071194,170431.77321268292,207729.69945994392,140041.13063456235,287620.71237363364,164257.00313111953,201094.5554035392,81354.50762363337,98572.16655998724,135091.50913132797,165789.9901771776,85483.50759528438,34686.58543662587,125457.74253816041,133987.7615977393,113953.57273658644,153932.44100731448,108987.65528783714,119993.57600993058,146417.46896618605,108495.10082191438,121294.6830615527,167140.78984746058,139076.82447243435,161297.51572089898,166078.2590165059,236092.66151182703,102463.6695235204,106605.60057714954,52990.2499348789,59224.19177064812,152372.13193086558,70598.41021612054,130910.48982053623,62067.94326891657,270998.03611079,256604.5357156233,206382.4243702148,195493.1092452472,220411.5159538081,145771.19825476944,205013.18627964635,215492.47791482578,266866.3457468038,283244.3710061384,168253.65976429172,188959.4041957804,137641.32139450824,135275.45865873527,187630.13320506923,79099.11012768373,108693.23583143414,168267.45772793866,106932.28754099505,112380.61609497154,106989.30162017886,110831.4267081148,172416.92995715397,145029.05144097097,224580.57447680156],\"yaxis\":\"y\",\"type\":\"scattergl\"}],                        {\"template\":{\"data\":{\"histogram2dcontour\":[{\"type\":\"histogram2dcontour\",\"colorbar\":{\"outlinewidth\":0,\"ticks\":\"\"},\"colorscale\":[[0.0,\"#0d0887\"],[0.1111111111111111,\"#46039f\"],[0.2222222222222222,\"#7201a8\"],[0.3333333333333333,\"#9c179e\"],[0.4444444444444444,\"#bd3786\"],[0.5555555555555556,\"#d8576b\"],[0.6666666666666666,\"#ed7953\"],[0.7777777777777778,\"#fb9f3a\"],[0.8888888888888888,\"#fdca26\"],[1.0,\"#f0f921\"]]}],\"choropleth\":[{\"type\":\"choropleth\",\"colorbar\":{\"outlinewidth\":0,\"ticks\":\"\"}}],\"histogram2d\":[{\"type\":\"histogram2d\",\"colorbar\":{\"outlinewidth\":0,\"ticks\":\"\"},\"colorscale\":[[0.0,\"#0d0887\"],[0.1111111111111111,\"#46039f\"],[0.2222222222222222,\"#7201a8\"],[0.3333333333333333,\"#9c179e\"],[0.4444444444444444,\"#bd3786\"],[0.5555555555555556,\"#d8576b\"],[0.6666666666666666,\"#ed7953\"],[0.7777777777777778,\"#fb9f3a\"],[0.8888888888888888,\"#fdca26\"],[1.0,\"#f0f921\"]]}],\"heatmap\":[{\"type\":\"heatmap\",\"colorbar\":{\"outlinewidth\":0,\"ticks\":\"\"},\"colorscale\":[[0.0,\"#0d0887\"],[0.1111111111111111,\"#46039f\"],[0.2222222222222222,\"#7201a8\"],[0.3333333333333333,\"#9c179e\"],[0.4444444444444444,\"#bd3786\"],[0.5555555555555556,\"#d8576b\"],[0.6666666666666666,\"#ed7953\"],[0.7777777777777778,\"#fb9f3a\"],[0.8888888888888888,\"#fdca26\"],[1.0,\"#f0f921\"]]}],\"heatmapgl\":[{\"type\":\"heatmapgl\",\"colorbar\":{\"outlinewidth\":0,\"ticks\":\"\"},\"colorscale\":[[0.0,\"#0d0887\"],[0.1111111111111111,\"#46039f\"],[0.2222222222222222,\"#7201a8\"],[0.3333333333333333,\"#9c179e\"],[0.4444444444444444,\"#bd3786\"],[0.5555555555555556,\"#d8576b\"],[0.6666666666666666,\"#ed7953\"],[0.7777777777777778,\"#fb9f3a\"],[0.8888888888888888,\"#fdca26\"],[1.0,\"#f0f921\"]]}],\"contourcarpet\":[{\"type\":\"contourcarpet\",\"colorbar\":{\"outlinewidth\":0,\"ticks\":\"\"}}],\"contour\":[{\"type\":\"contour\",\"colorbar\":{\"outlinewidth\":0,\"ticks\":\"\"},\"colorscale\":[[0.0,\"#0d0887\"],[0.1111111111111111,\"#46039f\"],[0.2222222222222222,\"#7201a8\"],[0.3333333333333333,\"#9c179e\"],[0.4444444444444444,\"#bd3786\"],[0.5555555555555556,\"#d8576b\"],[0.6666666666666666,\"#ed7953\"],[0.7777777777777778,\"#fb9f3a\"],[0.8888888888888888,\"#fdca26\"],[1.0,\"#f0f921\"]]}],\"surface\":[{\"type\":\"surface\",\"colorbar\":{\"outlinewidth\":0,\"ticks\":\"\"},\"colorscale\":[[0.0,\"#0d0887\"],[0.1111111111111111,\"#46039f\"],[0.2222222222222222,\"#7201a8\"],[0.3333333333333333,\"#9c179e\"],[0.4444444444444444,\"#bd3786\"],[0.5555555555555556,\"#d8576b\"],[0.6666666666666666,\"#ed7953\"],[0.7777777777777778,\"#fb9f3a\"],[0.8888888888888888,\"#fdca26\"],[1.0,\"#f0f921\"]]}],\"mesh3d\":[{\"type\":\"mesh3d\",\"colorbar\":{\"outlinewidth\":0,\"ticks\":\"\"}}],\"scatter\":[{\"fillpattern\":{\"fillmode\":\"overlay\",\"size\":10,\"solidity\":0.2},\"type\":\"scatter\"}],\"parcoords\":[{\"type\":\"parcoords\",\"line\":{\"colorbar\":{\"outlinewidth\":0,\"ticks\":\"\"}}}],\"scatterpolargl\":[{\"type\":\"scatterpolargl\",\"marker\":{\"colorbar\":{\"outlinewidth\":0,\"ticks\":\"\"}}}],\"bar\":[{\"error_x\":{\"color\":\"#2a3f5f\"},\"error_y\":{\"color\":\"#2a3f5f\"},\"marker\":{\"line\":{\"color\":\"#E5ECF6\",\"width\":0.5},\"pattern\":{\"fillmode\":\"overlay\",\"size\":10,\"solidity\":0.2}},\"type\":\"bar\"}],\"scattergeo\":[{\"type\":\"scattergeo\",\"marker\":{\"colorbar\":{\"outlinewidth\":0,\"ticks\":\"\"}}}],\"scatterpolar\":[{\"type\":\"scatterpolar\",\"marker\":{\"colorbar\":{\"outlinewidth\":0,\"ticks\":\"\"}}}],\"histogram\":[{\"marker\":{\"pattern\":{\"fillmode\":\"overlay\",\"size\":10,\"solidity\":0.2}},\"type\":\"histogram\"}],\"scattergl\":[{\"type\":\"scattergl\",\"marker\":{\"colorbar\":{\"outlinewidth\":0,\"ticks\":\"\"}}}],\"scatter3d\":[{\"type\":\"scatter3d\",\"line\":{\"colorbar\":{\"outlinewidth\":0,\"ticks\":\"\"}},\"marker\":{\"colorbar\":{\"outlinewidth\":0,\"ticks\":\"\"}}}],\"scattermapbox\":[{\"type\":\"scattermapbox\",\"marker\":{\"colorbar\":{\"outlinewidth\":0,\"ticks\":\"\"}}}],\"scatterternary\":[{\"type\":\"scatterternary\",\"marker\":{\"colorbar\":{\"outlinewidth\":0,\"ticks\":\"\"}}}],\"scattercarpet\":[{\"type\":\"scattercarpet\",\"marker\":{\"colorbar\":{\"outlinewidth\":0,\"ticks\":\"\"}}}],\"carpet\":[{\"aaxis\":{\"endlinecolor\":\"#2a3f5f\",\"gridcolor\":\"white\",\"linecolor\":\"white\",\"minorgridcolor\":\"white\",\"startlinecolor\":\"#2a3f5f\"},\"baxis\":{\"endlinecolor\":\"#2a3f5f\",\"gridcolor\":\"white\",\"linecolor\":\"white\",\"minorgridcolor\":\"white\",\"startlinecolor\":\"#2a3f5f\"},\"type\":\"carpet\"}],\"table\":[{\"cells\":{\"fill\":{\"color\":\"#EBF0F8\"},\"line\":{\"color\":\"white\"}},\"header\":{\"fill\":{\"color\":\"#C8D4E3\"},\"line\":{\"color\":\"white\"}},\"type\":\"table\"}],\"barpolar\":[{\"marker\":{\"line\":{\"color\":\"#E5ECF6\",\"width\":0.5},\"pattern\":{\"fillmode\":\"overlay\",\"size\":10,\"solidity\":0.2}},\"type\":\"barpolar\"}],\"pie\":[{\"automargin\":true,\"type\":\"pie\"}]},\"layout\":{\"autotypenumbers\":\"strict\",\"colorway\":[\"#636efa\",\"#EF553B\",\"#00cc96\",\"#ab63fa\",\"#FFA15A\",\"#19d3f3\",\"#FF6692\",\"#B6E880\",\"#FF97FF\",\"#FECB52\"],\"font\":{\"color\":\"#2a3f5f\"},\"hovermode\":\"closest\",\"hoverlabel\":{\"align\":\"left\"},\"paper_bgcolor\":\"white\",\"plot_bgcolor\":\"#E5ECF6\",\"polar\":{\"bgcolor\":\"#E5ECF6\",\"angularaxis\":{\"gridcolor\":\"white\",\"linecolor\":\"white\",\"ticks\":\"\"},\"radialaxis\":{\"gridcolor\":\"white\",\"linecolor\":\"white\",\"ticks\":\"\"}},\"ternary\":{\"bgcolor\":\"#E5ECF6\",\"aaxis\":{\"gridcolor\":\"white\",\"linecolor\":\"white\",\"ticks\":\"\"},\"baxis\":{\"gridcolor\":\"white\",\"linecolor\":\"white\",\"ticks\":\"\"},\"caxis\":{\"gridcolor\":\"white\",\"linecolor\":\"white\",\"ticks\":\"\"}},\"coloraxis\":{\"colorbar\":{\"outlinewidth\":0,\"ticks\":\"\"}},\"colorscale\":{\"sequential\":[[0.0,\"#0d0887\"],[0.1111111111111111,\"#46039f\"],[0.2222222222222222,\"#7201a8\"],[0.3333333333333333,\"#9c179e\"],[0.4444444444444444,\"#bd3786\"],[0.5555555555555556,\"#d8576b\"],[0.6666666666666666,\"#ed7953\"],[0.7777777777777778,\"#fb9f3a\"],[0.8888888888888888,\"#fdca26\"],[1.0,\"#f0f921\"]],\"sequentialminus\":[[0.0,\"#0d0887\"],[0.1111111111111111,\"#46039f\"],[0.2222222222222222,\"#7201a8\"],[0.3333333333333333,\"#9c179e\"],[0.4444444444444444,\"#bd3786\"],[0.5555555555555556,\"#d8576b\"],[0.6666666666666666,\"#ed7953\"],[0.7777777777777778,\"#fb9f3a\"],[0.8888888888888888,\"#fdca26\"],[1.0,\"#f0f921\"]],\"diverging\":[[0,\"#8e0152\"],[0.1,\"#c51b7d\"],[0.2,\"#de77ae\"],[0.3,\"#f1b6da\"],[0.4,\"#fde0ef\"],[0.5,\"#f7f7f7\"],[0.6,\"#e6f5d0\"],[0.7,\"#b8e186\"],[0.8,\"#7fbc41\"],[0.9,\"#4d9221\"],[1,\"#276419\"]]},\"xaxis\":{\"gridcolor\":\"white\",\"linecolor\":\"white\",\"ticks\":\"\",\"title\":{\"standoff\":15},\"zerolinecolor\":\"white\",\"automargin\":true,\"zerolinewidth\":2},\"yaxis\":{\"gridcolor\":\"white\",\"linecolor\":\"white\",\"ticks\":\"\",\"title\":{\"standoff\":15},\"zerolinecolor\":\"white\",\"automargin\":true,\"zerolinewidth\":2},\"scene\":{\"xaxis\":{\"backgroundcolor\":\"#E5ECF6\",\"gridcolor\":\"white\",\"linecolor\":\"white\",\"showbackground\":true,\"ticks\":\"\",\"zerolinecolor\":\"white\",\"gridwidth\":2},\"yaxis\":{\"backgroundcolor\":\"#E5ECF6\",\"gridcolor\":\"white\",\"linecolor\":\"white\",\"showbackground\":true,\"ticks\":\"\",\"zerolinecolor\":\"white\",\"gridwidth\":2},\"zaxis\":{\"backgroundcolor\":\"#E5ECF6\",\"gridcolor\":\"white\",\"linecolor\":\"white\",\"showbackground\":true,\"ticks\":\"\",\"zerolinecolor\":\"white\",\"gridwidth\":2}},\"shapedefaults\":{\"line\":{\"color\":\"#2a3f5f\"}},\"annotationdefaults\":{\"arrowcolor\":\"#2a3f5f\",\"arrowhead\":0,\"arrowwidth\":1},\"geo\":{\"bgcolor\":\"white\",\"landcolor\":\"#E5ECF6\",\"subunitcolor\":\"white\",\"showland\":true,\"showlakes\":true,\"lakecolor\":\"white\"},\"title\":{\"x\":0.05},\"mapbox\":{\"style\":\"light\"}}},\"xaxis\":{\"anchor\":\"y\",\"domain\":[0.0,1.0],\"title\":{\"text\":\"x\"}},\"yaxis\":{\"anchor\":\"x\",\"domain\":[0.0,1.0],\"title\":{\"text\":\"y\"}},\"legend\":{\"tracegroupgap\":0},\"margin\":{\"t\":60}},                        {\"responsive\": true}                    ).then(function(){\n",
       "                            \n",
       "var gd = document.getElementById('24064655-b44a-409f-b4ad-f12823f6c0a4');\n",
       "var x = new MutationObserver(function (mutations, observer) {{\n",
       "        var display = window.getComputedStyle(gd).display;\n",
       "        if (!display || display === 'none') {{\n",
       "            console.log([gd, 'removed!']);\n",
       "            Plotly.purge(gd);\n",
       "            observer.disconnect();\n",
       "        }}\n",
       "}});\n",
       "\n",
       "// Listen for the removal of the full notebook cells\n",
       "var notebookContainer = gd.closest('#notebook-container');\n",
       "if (notebookContainer) {{\n",
       "    x.observe(notebookContainer, {childList: true});\n",
       "}}\n",
       "\n",
       "// Listen for the clearing of the current output cell\n",
       "var outputEl = gd.closest('.output');\n",
       "if (outputEl) {{\n",
       "    x.observe(outputEl, {childList: true});\n",
       "}}\n",
       "\n",
       "                        })                };                });            </script>        </div>"
      ]
     },
     "metadata": {},
     "output_type": "display_data"
    }
   ],
   "source": [
    "from plotly import express\n",
    "\n",
    "express.scatter(x=linreg_full.predict(X=test_df[numerical_columns]), y=ridge.predict(X=test_df[numerical_columns]))"
   ]
  },
  {
   "cell_type": "code",
   "execution_count": 11,
   "id": "f1b017d2",
   "metadata": {
    "execution": {
     "iopub.execute_input": "2024-05-05T14:01:38.790540Z",
     "iopub.status.busy": "2024-05-05T14:01:38.789791Z",
     "iopub.status.idle": "2024-05-05T14:01:39.063976Z",
     "shell.execute_reply": "2024-05-05T14:01:39.062768Z"
    },
    "papermill": {
     "duration": 0.289333,
     "end_time": "2024-05-05T14:01:39.067257",
     "exception": false,
     "start_time": "2024-05-05T14:01:38.777924",
     "status": "completed"
    },
    "tags": []
   },
   "outputs": [
    {
     "name": "stdout",
     "output_type": "stream",
     "text": [
      "rmse: 0.1671\n"
     ]
    },
    {
     "data": {
      "text/html": [
       "<div>                            <div id=\"93327d6e-5a45-4d29-853a-79bc672286d9\" class=\"plotly-graph-div\" style=\"height:525px; width:100%;\"></div>            <script type=\"text/javascript\">                require([\"plotly\"], function(Plotly) {                    window.PLOTLYENV=window.PLOTLYENV || {};                                    if (document.getElementById(\"93327d6e-5a45-4d29-853a-79bc672286d9\")) {                    Plotly.newPlot(                        \"93327d6e-5a45-4d29-853a-79bc672286d9\",                        [{\"alignmentgroup\":\"True\",\"bingroup\":\"x\",\"histfunc\":\"sum\",\"hovertemplate\":\"x=%{x}\\u003cbr\\u003esum of y=%{y}\\u003cextra\\u003e\\u003c\\u002fextra\\u003e\",\"legendgroup\":\"\",\"marker\":{\"color\":\"#636efa\",\"pattern\":{\"shape\":\"\"}},\"name\":\"\",\"offsetgroup\":\"\",\"orientation\":\"v\",\"showlegend\":false,\"x\":[\"MSSubClass\",\"LotArea\",\"OverallQual\",\"OverallCond\",\"YearBuilt\",\"YearRemodAdd\",\"1stFlrSF\",\"2ndFlrSF\",\"LowQualFinSF\",\"GrLivArea\",\"FullBath\",\"HalfBath\",\"BedroomAbvGr\",\"KitchenAbvGr\",\"TotRmsAbvGrd\",\"Fireplaces\",\"WoodDeckSF\",\"OpenPorchSF\",\"EnclosedPorch\",\"3SsnPorch\",\"ScreenPorch\",\"PoolArea\",\"MiscVal\",\"MoSold\",\"YrSold\"],\"xaxis\":\"x\",\"y\":[-149.6622033493628,0.3834184588922101,19230.313139954866,5093.446871137129,512.1377971172964,140.82022623083822,63.6019521213261,47.71902570365825,30.57286149495987,5.168280028834568,1312.6738056183258,-1766.501627477318,-11713.268586202686,-15009.105956733343,5355.501681821379,5468.79897267693,31.914893201468686,-9.005301376988873,11.746088572467986,11.722590094043893,69.49789869626267,-36.745780795843686,-1.1388440745653052,-93.32579667262873,-530.9093215243228],\"yaxis\":\"y\",\"type\":\"histogram\"}],                        {\"template\":{\"data\":{\"histogram2dcontour\":[{\"type\":\"histogram2dcontour\",\"colorbar\":{\"outlinewidth\":0,\"ticks\":\"\"},\"colorscale\":[[0.0,\"#0d0887\"],[0.1111111111111111,\"#46039f\"],[0.2222222222222222,\"#7201a8\"],[0.3333333333333333,\"#9c179e\"],[0.4444444444444444,\"#bd3786\"],[0.5555555555555556,\"#d8576b\"],[0.6666666666666666,\"#ed7953\"],[0.7777777777777778,\"#fb9f3a\"],[0.8888888888888888,\"#fdca26\"],[1.0,\"#f0f921\"]]}],\"choropleth\":[{\"type\":\"choropleth\",\"colorbar\":{\"outlinewidth\":0,\"ticks\":\"\"}}],\"histogram2d\":[{\"type\":\"histogram2d\",\"colorbar\":{\"outlinewidth\":0,\"ticks\":\"\"},\"colorscale\":[[0.0,\"#0d0887\"],[0.1111111111111111,\"#46039f\"],[0.2222222222222222,\"#7201a8\"],[0.3333333333333333,\"#9c179e\"],[0.4444444444444444,\"#bd3786\"],[0.5555555555555556,\"#d8576b\"],[0.6666666666666666,\"#ed7953\"],[0.7777777777777778,\"#fb9f3a\"],[0.8888888888888888,\"#fdca26\"],[1.0,\"#f0f921\"]]}],\"heatmap\":[{\"type\":\"heatmap\",\"colorbar\":{\"outlinewidth\":0,\"ticks\":\"\"},\"colorscale\":[[0.0,\"#0d0887\"],[0.1111111111111111,\"#46039f\"],[0.2222222222222222,\"#7201a8\"],[0.3333333333333333,\"#9c179e\"],[0.4444444444444444,\"#bd3786\"],[0.5555555555555556,\"#d8576b\"],[0.6666666666666666,\"#ed7953\"],[0.7777777777777778,\"#fb9f3a\"],[0.8888888888888888,\"#fdca26\"],[1.0,\"#f0f921\"]]}],\"heatmapgl\":[{\"type\":\"heatmapgl\",\"colorbar\":{\"outlinewidth\":0,\"ticks\":\"\"},\"colorscale\":[[0.0,\"#0d0887\"],[0.1111111111111111,\"#46039f\"],[0.2222222222222222,\"#7201a8\"],[0.3333333333333333,\"#9c179e\"],[0.4444444444444444,\"#bd3786\"],[0.5555555555555556,\"#d8576b\"],[0.6666666666666666,\"#ed7953\"],[0.7777777777777778,\"#fb9f3a\"],[0.8888888888888888,\"#fdca26\"],[1.0,\"#f0f921\"]]}],\"contourcarpet\":[{\"type\":\"contourcarpet\",\"colorbar\":{\"outlinewidth\":0,\"ticks\":\"\"}}],\"contour\":[{\"type\":\"contour\",\"colorbar\":{\"outlinewidth\":0,\"ticks\":\"\"},\"colorscale\":[[0.0,\"#0d0887\"],[0.1111111111111111,\"#46039f\"],[0.2222222222222222,\"#7201a8\"],[0.3333333333333333,\"#9c179e\"],[0.4444444444444444,\"#bd3786\"],[0.5555555555555556,\"#d8576b\"],[0.6666666666666666,\"#ed7953\"],[0.7777777777777778,\"#fb9f3a\"],[0.8888888888888888,\"#fdca26\"],[1.0,\"#f0f921\"]]}],\"surface\":[{\"type\":\"surface\",\"colorbar\":{\"outlinewidth\":0,\"ticks\":\"\"},\"colorscale\":[[0.0,\"#0d0887\"],[0.1111111111111111,\"#46039f\"],[0.2222222222222222,\"#7201a8\"],[0.3333333333333333,\"#9c179e\"],[0.4444444444444444,\"#bd3786\"],[0.5555555555555556,\"#d8576b\"],[0.6666666666666666,\"#ed7953\"],[0.7777777777777778,\"#fb9f3a\"],[0.8888888888888888,\"#fdca26\"],[1.0,\"#f0f921\"]]}],\"mesh3d\":[{\"type\":\"mesh3d\",\"colorbar\":{\"outlinewidth\":0,\"ticks\":\"\"}}],\"scatter\":[{\"fillpattern\":{\"fillmode\":\"overlay\",\"size\":10,\"solidity\":0.2},\"type\":\"scatter\"}],\"parcoords\":[{\"type\":\"parcoords\",\"line\":{\"colorbar\":{\"outlinewidth\":0,\"ticks\":\"\"}}}],\"scatterpolargl\":[{\"type\":\"scatterpolargl\",\"marker\":{\"colorbar\":{\"outlinewidth\":0,\"ticks\":\"\"}}}],\"bar\":[{\"error_x\":{\"color\":\"#2a3f5f\"},\"error_y\":{\"color\":\"#2a3f5f\"},\"marker\":{\"line\":{\"color\":\"#E5ECF6\",\"width\":0.5},\"pattern\":{\"fillmode\":\"overlay\",\"size\":10,\"solidity\":0.2}},\"type\":\"bar\"}],\"scattergeo\":[{\"type\":\"scattergeo\",\"marker\":{\"colorbar\":{\"outlinewidth\":0,\"ticks\":\"\"}}}],\"scatterpolar\":[{\"type\":\"scatterpolar\",\"marker\":{\"colorbar\":{\"outlinewidth\":0,\"ticks\":\"\"}}}],\"histogram\":[{\"marker\":{\"pattern\":{\"fillmode\":\"overlay\",\"size\":10,\"solidity\":0.2}},\"type\":\"histogram\"}],\"scattergl\":[{\"type\":\"scattergl\",\"marker\":{\"colorbar\":{\"outlinewidth\":0,\"ticks\":\"\"}}}],\"scatter3d\":[{\"type\":\"scatter3d\",\"line\":{\"colorbar\":{\"outlinewidth\":0,\"ticks\":\"\"}},\"marker\":{\"colorbar\":{\"outlinewidth\":0,\"ticks\":\"\"}}}],\"scattermapbox\":[{\"type\":\"scattermapbox\",\"marker\":{\"colorbar\":{\"outlinewidth\":0,\"ticks\":\"\"}}}],\"scatterternary\":[{\"type\":\"scatterternary\",\"marker\":{\"colorbar\":{\"outlinewidth\":0,\"ticks\":\"\"}}}],\"scattercarpet\":[{\"type\":\"scattercarpet\",\"marker\":{\"colorbar\":{\"outlinewidth\":0,\"ticks\":\"\"}}}],\"carpet\":[{\"aaxis\":{\"endlinecolor\":\"#2a3f5f\",\"gridcolor\":\"white\",\"linecolor\":\"white\",\"minorgridcolor\":\"white\",\"startlinecolor\":\"#2a3f5f\"},\"baxis\":{\"endlinecolor\":\"#2a3f5f\",\"gridcolor\":\"white\",\"linecolor\":\"white\",\"minorgridcolor\":\"white\",\"startlinecolor\":\"#2a3f5f\"},\"type\":\"carpet\"}],\"table\":[{\"cells\":{\"fill\":{\"color\":\"#EBF0F8\"},\"line\":{\"color\":\"white\"}},\"header\":{\"fill\":{\"color\":\"#C8D4E3\"},\"line\":{\"color\":\"white\"}},\"type\":\"table\"}],\"barpolar\":[{\"marker\":{\"line\":{\"color\":\"#E5ECF6\",\"width\":0.5},\"pattern\":{\"fillmode\":\"overlay\",\"size\":10,\"solidity\":0.2}},\"type\":\"barpolar\"}],\"pie\":[{\"automargin\":true,\"type\":\"pie\"}]},\"layout\":{\"autotypenumbers\":\"strict\",\"colorway\":[\"#636efa\",\"#EF553B\",\"#00cc96\",\"#ab63fa\",\"#FFA15A\",\"#19d3f3\",\"#FF6692\",\"#B6E880\",\"#FF97FF\",\"#FECB52\"],\"font\":{\"color\":\"#2a3f5f\"},\"hovermode\":\"closest\",\"hoverlabel\":{\"align\":\"left\"},\"paper_bgcolor\":\"white\",\"plot_bgcolor\":\"#E5ECF6\",\"polar\":{\"bgcolor\":\"#E5ECF6\",\"angularaxis\":{\"gridcolor\":\"white\",\"linecolor\":\"white\",\"ticks\":\"\"},\"radialaxis\":{\"gridcolor\":\"white\",\"linecolor\":\"white\",\"ticks\":\"\"}},\"ternary\":{\"bgcolor\":\"#E5ECF6\",\"aaxis\":{\"gridcolor\":\"white\",\"linecolor\":\"white\",\"ticks\":\"\"},\"baxis\":{\"gridcolor\":\"white\",\"linecolor\":\"white\",\"ticks\":\"\"},\"caxis\":{\"gridcolor\":\"white\",\"linecolor\":\"white\",\"ticks\":\"\"}},\"coloraxis\":{\"colorbar\":{\"outlinewidth\":0,\"ticks\":\"\"}},\"colorscale\":{\"sequential\":[[0.0,\"#0d0887\"],[0.1111111111111111,\"#46039f\"],[0.2222222222222222,\"#7201a8\"],[0.3333333333333333,\"#9c179e\"],[0.4444444444444444,\"#bd3786\"],[0.5555555555555556,\"#d8576b\"],[0.6666666666666666,\"#ed7953\"],[0.7777777777777778,\"#fb9f3a\"],[0.8888888888888888,\"#fdca26\"],[1.0,\"#f0f921\"]],\"sequentialminus\":[[0.0,\"#0d0887\"],[0.1111111111111111,\"#46039f\"],[0.2222222222222222,\"#7201a8\"],[0.3333333333333333,\"#9c179e\"],[0.4444444444444444,\"#bd3786\"],[0.5555555555555556,\"#d8576b\"],[0.6666666666666666,\"#ed7953\"],[0.7777777777777778,\"#fb9f3a\"],[0.8888888888888888,\"#fdca26\"],[1.0,\"#f0f921\"]],\"diverging\":[[0,\"#8e0152\"],[0.1,\"#c51b7d\"],[0.2,\"#de77ae\"],[0.3,\"#f1b6da\"],[0.4,\"#fde0ef\"],[0.5,\"#f7f7f7\"],[0.6,\"#e6f5d0\"],[0.7,\"#b8e186\"],[0.8,\"#7fbc41\"],[0.9,\"#4d9221\"],[1,\"#276419\"]]},\"xaxis\":{\"gridcolor\":\"white\",\"linecolor\":\"white\",\"ticks\":\"\",\"title\":{\"standoff\":15},\"zerolinecolor\":\"white\",\"automargin\":true,\"zerolinewidth\":2},\"yaxis\":{\"gridcolor\":\"white\",\"linecolor\":\"white\",\"ticks\":\"\",\"title\":{\"standoff\":15},\"zerolinecolor\":\"white\",\"automargin\":true,\"zerolinewidth\":2},\"scene\":{\"xaxis\":{\"backgroundcolor\":\"#E5ECF6\",\"gridcolor\":\"white\",\"linecolor\":\"white\",\"showbackground\":true,\"ticks\":\"\",\"zerolinecolor\":\"white\",\"gridwidth\":2},\"yaxis\":{\"backgroundcolor\":\"#E5ECF6\",\"gridcolor\":\"white\",\"linecolor\":\"white\",\"showbackground\":true,\"ticks\":\"\",\"zerolinecolor\":\"white\",\"gridwidth\":2},\"zaxis\":{\"backgroundcolor\":\"#E5ECF6\",\"gridcolor\":\"white\",\"linecolor\":\"white\",\"showbackground\":true,\"ticks\":\"\",\"zerolinecolor\":\"white\",\"gridwidth\":2}},\"shapedefaults\":{\"line\":{\"color\":\"#2a3f5f\"}},\"annotationdefaults\":{\"arrowcolor\":\"#2a3f5f\",\"arrowhead\":0,\"arrowwidth\":1},\"geo\":{\"bgcolor\":\"white\",\"landcolor\":\"#E5ECF6\",\"subunitcolor\":\"white\",\"showland\":true,\"showlakes\":true,\"lakecolor\":\"white\"},\"title\":{\"x\":0.05},\"mapbox\":{\"style\":\"light\"}}},\"xaxis\":{\"anchor\":\"y\",\"domain\":[0.0,1.0],\"title\":{\"text\":\"x\"}},\"yaxis\":{\"anchor\":\"x\",\"domain\":[0.0,1.0],\"title\":{\"text\":\"sum of y\"}},\"legend\":{\"tracegroupgap\":0},\"margin\":{\"t\":60},\"barmode\":\"relative\"},                        {\"responsive\": true}                    ).then(function(){\n",
       "                            \n",
       "var gd = document.getElementById('93327d6e-5a45-4d29-853a-79bc672286d9');\n",
       "var x = new MutationObserver(function (mutations, observer) {{\n",
       "        var display = window.getComputedStyle(gd).display;\n",
       "        if (!display || display === 'none') {{\n",
       "            console.log([gd, 'removed!']);\n",
       "            Plotly.purge(gd);\n",
       "            observer.disconnect();\n",
       "        }}\n",
       "}});\n",
       "\n",
       "// Listen for the removal of the full notebook cells\n",
       "var notebookContainer = gd.closest('#notebook-container');\n",
       "if (notebookContainer) {{\n",
       "    x.observe(notebookContainer, {childList: true});\n",
       "}}\n",
       "\n",
       "// Listen for the clearing of the current output cell\n",
       "var outputEl = gd.closest('.output');\n",
       "if (outputEl) {{\n",
       "    x.observe(outputEl, {childList: true});\n",
       "}}\n",
       "\n",
       "                        })                };                });            </script>        </div>"
      ]
     },
     "metadata": {},
     "output_type": "display_data"
    },
    {
     "data": {
      "text/html": [
       "<div>                            <div id=\"ca31ff45-4f88-4d11-b601-58bd42c4e0f0\" class=\"plotly-graph-div\" style=\"height:525px; width:100%;\"></div>            <script type=\"text/javascript\">                require([\"plotly\"], function(Plotly) {                    window.PLOTLYENV=window.PLOTLYENV || {};                                    if (document.getElementById(\"ca31ff45-4f88-4d11-b601-58bd42c4e0f0\")) {                    Plotly.newPlot(                        \"ca31ff45-4f88-4d11-b601-58bd42c4e0f0\",                        [{\"hovertemplate\":\"x=%{x}\\u003cbr\\u003ey=%{y}\\u003cextra\\u003e\\u003c\\u002fextra\\u003e\",\"legendgroup\":\"\",\"marker\":{\"color\":\"#636efa\",\"symbol\":\"circle\"},\"mode\":\"markers\",\"name\":\"\",\"orientation\":\"v\",\"showlegend\":false,\"x\":[279678.8262959601,266732.0863344312,161943.56223978027,179975.13892502937,124819.21327714232,270911.3733186425,241809.6737700043,78657.13874903508,172661.92338073434,127198.14151728386,284921.06425740954,244830.57607431308,54349.53067777795,107829.87474647234,140388.15559613676,136980.26225306024,173875.83674108092,286966.55414725665,217591.7479282074,120892.66267907154,234812.73931980645,150133.89019601664,137645.93244383676,223948.83059259574,110432.55154280359,213409.64132362837,147048.29224977264,131089.80796278757,315616.3503377625,189034.91289190017,221470.84889289527,193334.01177381218,173404.73423533462,158465.17789799016,191473.79701486992,299127.2006526666,76236.30125573196,223968.19393951987,243656.37533242576,133705.69649538852,279872.50231896003,270092.37681260833,113940.80619924149,268500.5362218985,131465.95543257555,169390.71454102598,113283.2656915508,149055.85914160352,233768.65126011358,167095.71752762952,205775.8330942415,118532.6189341516,215972.79138369323,135010.04082746472,52223.292811841646,255639.63631472888,126038.49893848435,164628.69875231537,219953.7366331186,133943.9825933245,204295.84614824364,141514.75450774853,156288.24946918886,85288.36967035971,210139.24466316955,67270.04180055478,225222.59609774005,169799.9080572889,62949.664278968296,282739.55796832754,287296.4675675408,191363.1753845195,234915.84531847364,164010.75865235197,89242.58304217568,161145.73123933206,83742.07328380458,259345.34474749933,141897.39309448277,414625.7513010652,268368.64739726775,211112.1032269445,112988.97430154606,132993.62045511173,135057.5068201995,148116.99691265356,187756.5703787044,185802.55446206557,103867.45078906813,192566.48764161376,158215.33607694838,126844.05340109643,131966.30734561413,93665.16456217639,185158.02755244204,136795.86526770127,149844.84107578563,202460.50969255343,154862.32198790257,123949.75342376798,103714.62691206153,277097.86333633284,104124.80020652415,326800.3701483592,166959.29077333695,148711.36843536788,64720.978641345166,233675.7752321863,142637.04493502324,130531.96016999218,111632.24380056292,133367.40619629977,193496.0037157709,175040.14590828237,154022.7019248742,183758.61053430784,191668.19332211936,75653.51456762542,133779.07517658686,250667.41401696054,196085.13926555257,135120.26076256286,203801.83515765506,146381.7153107155,65137.23274500802,89025.2343882274,177789.68628958275,194089.62882431614,219713.78660024033,148242.36299063906,96957.4948585218,126741.5849263267,177218.2299609091,163150.97514979698,121811.20993709873,130900.45624996087,171474.47806743666,185389.22392857703,200198.25966166594,256109.1831987549,215923.57382541482,303979.14386675344,186072.88194321533,261656.55919634772,170873.18590816582,243646.1442684044,322417.52381731523,217804.01991159556,256966.49704890454,223425.50807420252,114348.90623410343,300214.1287759248,221398.4572702208,257736.5340485971,143873.34846929443,148533.5371112146,389994.29760708695,335888.3064940019,126972.51124678599,175652.9792670397,149208.4289134674,284382.2376502877,109970.89206387359,200244.70243744162,262454.25197416206,173203.58249395975,248859.82199674187,82686.91470438882,325717.15287645604,242567.84679178684,177471.255446148,116703.96800191444,270401.01193606714,208871.12914911262,109561.61982229387,246421.07590688008,136821.23323436623,139381.80775705836,196150.99179812532,206231.5348504347,123751.28414596844,230185.15548486786,120922.71699830372,170038.39038277685,262434.5777724985,229648.50861544296,32895.8353830289,147219.2683913919,116475.5227654826,292035.48204285104,96223.75238948426,92438.54513943609,173213.47192274436,292564.4383851609,110492.3448195266,195589.10832494148,144851.52680275618,324150.3325555661,163643.30578636774,148073.39791522303,133389.88886542327,239513.55079797248,125837.18429700233,109918.99245931179,204358.88669307355,145184.31505192944,92415.91410546307,300890.81485162606,356831.5513979611,121258.36261101253,210356.67368493084,203224.2970053726,189391.2254898313,165205.4198577471,148686.04785443208,216131.51835587464,321539.28885867714,168986.17248179152,124486.14317204291,255163.1390919959,249144.9600709856,284907.87230297213,153219.37913664774,215681.76134053874,117691.04466866475,255858.59610144084,192425.11587640288,165059.948985637,232263.34587262728,272894.010347912,172521.38552467775,91161.61996445566,72650.63642045553,152158.46573461365,144917.0482228308,259837.00947747822,115279.98085146118,288850.5933570479,89644.83180770132,137903.4981818273,141439.5994321502,108072.03999401524,180625.91404413705,74019.06290365034,191376.5589451244,178448.79375448544,146251.01598107902,286498.2679537224,225474.8946096833,185754.97969496256,209570.2903205519,335916.31317070825,156822.16587995947,161840.8987858229,277535.84685539675,278290.69705807755,229137.10717093683,203453.06520753802,224860.0501512757,113011.45063947118,99202.94898795366,154721.08470526128,154610.04596361483,157538.51659082313,80523.20229470998,143474.743418156,150582.4367411998,94433.1149005469,197830.91143222596,134630.37233256205,217511.76887897978,54625.62729350722,124624.47156465583,176516.95969341946,78061.74361794908,211322.52000085503,124976.48672616563,177163.21792716457,124179.53812096425,229167.06331510498,135539.4557941291,48426.07941110036,188868.46700831607,214977.65315924794,248891.6693124639,51571.257071324915,354440.34467452613,237263.2439432502,211232.9534063951,199830.59081793542,144404.88195834495,203156.67756382172],\"xaxis\":\"x\",\"y\":[279680.0591444782,266734.0464800312,161944.3437329004,179954.00314712,124813.73899828608,270914.0672831732,241811.3630134787,78659.06531740096,172661.53516860068,127200.27819520561,284919.55592199625,244829.4630525498,54351.14591884683,107813.48553200508,140392.6292359823,136981.0477383579,173880.75930943148,286969.5464623652,217588.72443137201,120884.19363914267,234818.32908309205,150149.2710540772,137648.7855450121,223937.60972169973,110426.17688370933,213417.45651464956,147042.40555229026,131096.35276588774,315616.768734801,189039.54243199155,221471.9535834922,193335.52369584318,173402.0465767369,158469.13123316102,191468.7537976086,299131.16705105687,76236.59621735453,223960.73011741054,243655.13870804053,133692.18723471952,279875.9231606176,270059.9470097108,113942.67133213545,268498.81122235965,131462.5585327167,169395.11343543988,113278.758867461,149055.4809500705,233766.41828156682,167095.8528551784,205775.45976960834,118537.1088320592,215982.4244104016,134997.0285649196,52234.32249366952,255637.95312934567,126038.07344344165,164645.58947819588,219951.6876847411,133965.41069120937,204291.85434075003,141508.19415240758,156290.9736769253,85285.61259364651,210124.25931824598,67290.09511178912,225217.29759029573,169799.63258151984,62964.19193003967,282740.25122864905,287292.20428192907,191355.21045858157,234913.07640821673,164008.5231162486,89243.3973780055,161138.43761170277,83756.05085649807,259346.9062399665,141897.12332997698,414628.15042892366,268368.9813361744,211107.220515917,112992.40342241636,132994.18164013117,135058.88042893162,148116.97295187553,187754.6007888866,185798.9362394777,103860.10924123065,192569.7672502919,158209.63700539654,126840.70520396339,131969.6636856388,93670.2832184573,185144.30530981463,136788.8373996372,149870.80474343564,202463.57875906955,154843.85329167463,123972.30688384431,103711.74824955326,277094.9509057893,104129.9800371736,326806.07153335935,166963.17759874783,148710.82114984508,64721.49420717475,233679.39371848735,142633.80795199226,130530.49718626123,111634.74122893997,133369.11262243206,193493.9040872776,175031.65361537877,154031.19295536284,183759.6620767695,191662.52205443115,75645.40062957804,133784.12960301992,250667.9412479112,196085.4973774142,135118.6311236939,203800.0779287261,146379.7593228866,65140.19616828667,89024.33244121412,177804.28778668842,194090.40992173966,219717.78013170476,148233.1511351834,96957.8356498935,126739.69199834106,177229.62094893772,163156.89413924108,121816.71004913875,130899.87848162407,171466.47222061217,185388.78649242478,200200.1162059725,256108.15382743021,215920.09648735158,303972.26215313864,186061.00047704153,261647.81103502703,170876.00404149632,243644.80657449865,322407.23835939926,217797.47079924349,256964.6744559541,223419.72815049457,114349.0877551962,300211.5136746911,221390.23159144766,257731.1633776595,143874.98810171883,148530.84134144173,389998.1517056355,335911.7205078978,126958.89075368177,175653.8452509495,149208.04105503263,284393.9513203078,109969.30348938773,200239.3058236643,262459.39448375173,173199.00257262366,248865.61763427837,82678.76268343674,325712.9131139694,242559.6435820777,177461.95304299006,116705.99692467065,270401.9149373402,208868.7462563226,109562.05062935944,246423.0276080242,136818.26696452696,139379.27127913327,196151.52353969705,206232.24968115368,123751.98546704336,230173.7144882211,120922.80366029864,170028.47113377927,262433.81696107995,229646.68860286003,32891.034823316964,147218.37082481425,116479.92249179061,292033.23600005184,96225.69575376384,92422.20808040223,173211.24482096883,292574.45844157273,110495.42641367292,195581.97923919326,144850.42848942254,324132.35392461857,163653.16405963898,148069.49247578508,133396.77611087402,239508.89140030765,125831.05500986514,109907.56552575546,204360.85262606782,145189.1768141857,92413.99280241271,300890.85669863364,356835.505257166,121259.86028710217,210365.51220137638,203226.03312516143,189388.6723143484,165214.55000587588,148687.6005361717,216137.51851967734,321541.5212495929,168979.89499332028,124482.57263751538,255166.17774962622,249147.35546271782,284916.21002497955,153213.16265226615,215674.7724784077,117682.55835054663,255856.2823754351,192422.28407750366,165066.14795403078,232262.039920269,272900.4408906384,172529.0187744947,91149.77833784645,72651.88028262137,152163.45688032324,144915.8739041969,259836.38802563504,115277.77158730058,288854.94603158766,89645.76183638128,137912.2416200246,141442.82319564826,108094.67246740591,180615.68937711947,74031.22813099297,191371.76440845872,178479.1680324138,146260.47566411144,286502.98776444024,225477.30525647127,185747.19681191898,209573.30021433195,335920.6187578117,156811.25874085864,161840.08209175104,277532.2942625062,278296.4548927789,229139.94072078326,203448.1911376313,224867.85400544317,113009.48368981807,99205.26218004816,154721.44334579282,154606.8186190934,157543.19033339235,80523.48126453348,143479.03218492365,150594.7987139984,94430.06267307478,197828.93809333653,134627.5426399164,217512.5536755378,54622.93788381503,124637.58387580601,176520.81514412508,78054.9224824903,211317.43566621013,124959.22283846396,177178.06472145335,124178.92716764926,229169.20814699715,135544.22513570834,48412.00168476184,188880.05831288476,214980.62951778388,248870.72750552872,51567.555343957734,354436.04714785994,237278.58433497266,211226.32132288086,199827.20123298815,144405.58370292746,203148.15738232445],\"yaxis\":\"y\",\"type\":\"scatter\"}],                        {\"template\":{\"data\":{\"histogram2dcontour\":[{\"type\":\"histogram2dcontour\",\"colorbar\":{\"outlinewidth\":0,\"ticks\":\"\"},\"colorscale\":[[0.0,\"#0d0887\"],[0.1111111111111111,\"#46039f\"],[0.2222222222222222,\"#7201a8\"],[0.3333333333333333,\"#9c179e\"],[0.4444444444444444,\"#bd3786\"],[0.5555555555555556,\"#d8576b\"],[0.6666666666666666,\"#ed7953\"],[0.7777777777777778,\"#fb9f3a\"],[0.8888888888888888,\"#fdca26\"],[1.0,\"#f0f921\"]]}],\"choropleth\":[{\"type\":\"choropleth\",\"colorbar\":{\"outlinewidth\":0,\"ticks\":\"\"}}],\"histogram2d\":[{\"type\":\"histogram2d\",\"colorbar\":{\"outlinewidth\":0,\"ticks\":\"\"},\"colorscale\":[[0.0,\"#0d0887\"],[0.1111111111111111,\"#46039f\"],[0.2222222222222222,\"#7201a8\"],[0.3333333333333333,\"#9c179e\"],[0.4444444444444444,\"#bd3786\"],[0.5555555555555556,\"#d8576b\"],[0.6666666666666666,\"#ed7953\"],[0.7777777777777778,\"#fb9f3a\"],[0.8888888888888888,\"#fdca26\"],[1.0,\"#f0f921\"]]}],\"heatmap\":[{\"type\":\"heatmap\",\"colorbar\":{\"outlinewidth\":0,\"ticks\":\"\"},\"colorscale\":[[0.0,\"#0d0887\"],[0.1111111111111111,\"#46039f\"],[0.2222222222222222,\"#7201a8\"],[0.3333333333333333,\"#9c179e\"],[0.4444444444444444,\"#bd3786\"],[0.5555555555555556,\"#d8576b\"],[0.6666666666666666,\"#ed7953\"],[0.7777777777777778,\"#fb9f3a\"],[0.8888888888888888,\"#fdca26\"],[1.0,\"#f0f921\"]]}],\"heatmapgl\":[{\"type\":\"heatmapgl\",\"colorbar\":{\"outlinewidth\":0,\"ticks\":\"\"},\"colorscale\":[[0.0,\"#0d0887\"],[0.1111111111111111,\"#46039f\"],[0.2222222222222222,\"#7201a8\"],[0.3333333333333333,\"#9c179e\"],[0.4444444444444444,\"#bd3786\"],[0.5555555555555556,\"#d8576b\"],[0.6666666666666666,\"#ed7953\"],[0.7777777777777778,\"#fb9f3a\"],[0.8888888888888888,\"#fdca26\"],[1.0,\"#f0f921\"]]}],\"contourcarpet\":[{\"type\":\"contourcarpet\",\"colorbar\":{\"outlinewidth\":0,\"ticks\":\"\"}}],\"contour\":[{\"type\":\"contour\",\"colorbar\":{\"outlinewidth\":0,\"ticks\":\"\"},\"colorscale\":[[0.0,\"#0d0887\"],[0.1111111111111111,\"#46039f\"],[0.2222222222222222,\"#7201a8\"],[0.3333333333333333,\"#9c179e\"],[0.4444444444444444,\"#bd3786\"],[0.5555555555555556,\"#d8576b\"],[0.6666666666666666,\"#ed7953\"],[0.7777777777777778,\"#fb9f3a\"],[0.8888888888888888,\"#fdca26\"],[1.0,\"#f0f921\"]]}],\"surface\":[{\"type\":\"surface\",\"colorbar\":{\"outlinewidth\":0,\"ticks\":\"\"},\"colorscale\":[[0.0,\"#0d0887\"],[0.1111111111111111,\"#46039f\"],[0.2222222222222222,\"#7201a8\"],[0.3333333333333333,\"#9c179e\"],[0.4444444444444444,\"#bd3786\"],[0.5555555555555556,\"#d8576b\"],[0.6666666666666666,\"#ed7953\"],[0.7777777777777778,\"#fb9f3a\"],[0.8888888888888888,\"#fdca26\"],[1.0,\"#f0f921\"]]}],\"mesh3d\":[{\"type\":\"mesh3d\",\"colorbar\":{\"outlinewidth\":0,\"ticks\":\"\"}}],\"scatter\":[{\"fillpattern\":{\"fillmode\":\"overlay\",\"size\":10,\"solidity\":0.2},\"type\":\"scatter\"}],\"parcoords\":[{\"type\":\"parcoords\",\"line\":{\"colorbar\":{\"outlinewidth\":0,\"ticks\":\"\"}}}],\"scatterpolargl\":[{\"type\":\"scatterpolargl\",\"marker\":{\"colorbar\":{\"outlinewidth\":0,\"ticks\":\"\"}}}],\"bar\":[{\"error_x\":{\"color\":\"#2a3f5f\"},\"error_y\":{\"color\":\"#2a3f5f\"},\"marker\":{\"line\":{\"color\":\"#E5ECF6\",\"width\":0.5},\"pattern\":{\"fillmode\":\"overlay\",\"size\":10,\"solidity\":0.2}},\"type\":\"bar\"}],\"scattergeo\":[{\"type\":\"scattergeo\",\"marker\":{\"colorbar\":{\"outlinewidth\":0,\"ticks\":\"\"}}}],\"scatterpolar\":[{\"type\":\"scatterpolar\",\"marker\":{\"colorbar\":{\"outlinewidth\":0,\"ticks\":\"\"}}}],\"histogram\":[{\"marker\":{\"pattern\":{\"fillmode\":\"overlay\",\"size\":10,\"solidity\":0.2}},\"type\":\"histogram\"}],\"scattergl\":[{\"type\":\"scattergl\",\"marker\":{\"colorbar\":{\"outlinewidth\":0,\"ticks\":\"\"}}}],\"scatter3d\":[{\"type\":\"scatter3d\",\"line\":{\"colorbar\":{\"outlinewidth\":0,\"ticks\":\"\"}},\"marker\":{\"colorbar\":{\"outlinewidth\":0,\"ticks\":\"\"}}}],\"scattermapbox\":[{\"type\":\"scattermapbox\",\"marker\":{\"colorbar\":{\"outlinewidth\":0,\"ticks\":\"\"}}}],\"scatterternary\":[{\"type\":\"scatterternary\",\"marker\":{\"colorbar\":{\"outlinewidth\":0,\"ticks\":\"\"}}}],\"scattercarpet\":[{\"type\":\"scattercarpet\",\"marker\":{\"colorbar\":{\"outlinewidth\":0,\"ticks\":\"\"}}}],\"carpet\":[{\"aaxis\":{\"endlinecolor\":\"#2a3f5f\",\"gridcolor\":\"white\",\"linecolor\":\"white\",\"minorgridcolor\":\"white\",\"startlinecolor\":\"#2a3f5f\"},\"baxis\":{\"endlinecolor\":\"#2a3f5f\",\"gridcolor\":\"white\",\"linecolor\":\"white\",\"minorgridcolor\":\"white\",\"startlinecolor\":\"#2a3f5f\"},\"type\":\"carpet\"}],\"table\":[{\"cells\":{\"fill\":{\"color\":\"#EBF0F8\"},\"line\":{\"color\":\"white\"}},\"header\":{\"fill\":{\"color\":\"#C8D4E3\"},\"line\":{\"color\":\"white\"}},\"type\":\"table\"}],\"barpolar\":[{\"marker\":{\"line\":{\"color\":\"#E5ECF6\",\"width\":0.5},\"pattern\":{\"fillmode\":\"overlay\",\"size\":10,\"solidity\":0.2}},\"type\":\"barpolar\"}],\"pie\":[{\"automargin\":true,\"type\":\"pie\"}]},\"layout\":{\"autotypenumbers\":\"strict\",\"colorway\":[\"#636efa\",\"#EF553B\",\"#00cc96\",\"#ab63fa\",\"#FFA15A\",\"#19d3f3\",\"#FF6692\",\"#B6E880\",\"#FF97FF\",\"#FECB52\"],\"font\":{\"color\":\"#2a3f5f\"},\"hovermode\":\"closest\",\"hoverlabel\":{\"align\":\"left\"},\"paper_bgcolor\":\"white\",\"plot_bgcolor\":\"#E5ECF6\",\"polar\":{\"bgcolor\":\"#E5ECF6\",\"angularaxis\":{\"gridcolor\":\"white\",\"linecolor\":\"white\",\"ticks\":\"\"},\"radialaxis\":{\"gridcolor\":\"white\",\"linecolor\":\"white\",\"ticks\":\"\"}},\"ternary\":{\"bgcolor\":\"#E5ECF6\",\"aaxis\":{\"gridcolor\":\"white\",\"linecolor\":\"white\",\"ticks\":\"\"},\"baxis\":{\"gridcolor\":\"white\",\"linecolor\":\"white\",\"ticks\":\"\"},\"caxis\":{\"gridcolor\":\"white\",\"linecolor\":\"white\",\"ticks\":\"\"}},\"coloraxis\":{\"colorbar\":{\"outlinewidth\":0,\"ticks\":\"\"}},\"colorscale\":{\"sequential\":[[0.0,\"#0d0887\"],[0.1111111111111111,\"#46039f\"],[0.2222222222222222,\"#7201a8\"],[0.3333333333333333,\"#9c179e\"],[0.4444444444444444,\"#bd3786\"],[0.5555555555555556,\"#d8576b\"],[0.6666666666666666,\"#ed7953\"],[0.7777777777777778,\"#fb9f3a\"],[0.8888888888888888,\"#fdca26\"],[1.0,\"#f0f921\"]],\"sequentialminus\":[[0.0,\"#0d0887\"],[0.1111111111111111,\"#46039f\"],[0.2222222222222222,\"#7201a8\"],[0.3333333333333333,\"#9c179e\"],[0.4444444444444444,\"#bd3786\"],[0.5555555555555556,\"#d8576b\"],[0.6666666666666666,\"#ed7953\"],[0.7777777777777778,\"#fb9f3a\"],[0.8888888888888888,\"#fdca26\"],[1.0,\"#f0f921\"]],\"diverging\":[[0,\"#8e0152\"],[0.1,\"#c51b7d\"],[0.2,\"#de77ae\"],[0.3,\"#f1b6da\"],[0.4,\"#fde0ef\"],[0.5,\"#f7f7f7\"],[0.6,\"#e6f5d0\"],[0.7,\"#b8e186\"],[0.8,\"#7fbc41\"],[0.9,\"#4d9221\"],[1,\"#276419\"]]},\"xaxis\":{\"gridcolor\":\"white\",\"linecolor\":\"white\",\"ticks\":\"\",\"title\":{\"standoff\":15},\"zerolinecolor\":\"white\",\"automargin\":true,\"zerolinewidth\":2},\"yaxis\":{\"gridcolor\":\"white\",\"linecolor\":\"white\",\"ticks\":\"\",\"title\":{\"standoff\":15},\"zerolinecolor\":\"white\",\"automargin\":true,\"zerolinewidth\":2},\"scene\":{\"xaxis\":{\"backgroundcolor\":\"#E5ECF6\",\"gridcolor\":\"white\",\"linecolor\":\"white\",\"showbackground\":true,\"ticks\":\"\",\"zerolinecolor\":\"white\",\"gridwidth\":2},\"yaxis\":{\"backgroundcolor\":\"#E5ECF6\",\"gridcolor\":\"white\",\"linecolor\":\"white\",\"showbackground\":true,\"ticks\":\"\",\"zerolinecolor\":\"white\",\"gridwidth\":2},\"zaxis\":{\"backgroundcolor\":\"#E5ECF6\",\"gridcolor\":\"white\",\"linecolor\":\"white\",\"showbackground\":true,\"ticks\":\"\",\"zerolinecolor\":\"white\",\"gridwidth\":2}},\"shapedefaults\":{\"line\":{\"color\":\"#2a3f5f\"}},\"annotationdefaults\":{\"arrowcolor\":\"#2a3f5f\",\"arrowhead\":0,\"arrowwidth\":1},\"geo\":{\"bgcolor\":\"white\",\"landcolor\":\"#E5ECF6\",\"subunitcolor\":\"white\",\"showland\":true,\"showlakes\":true,\"lakecolor\":\"white\"},\"title\":{\"x\":0.05},\"mapbox\":{\"style\":\"light\"}}},\"xaxis\":{\"anchor\":\"y\",\"domain\":[0.0,1.0],\"title\":{\"text\":\"x\"},\"type\":\"log\"},\"yaxis\":{\"anchor\":\"x\",\"domain\":[0.0,1.0],\"title\":{\"text\":\"y\"},\"type\":\"log\"},\"legend\":{\"tracegroupgap\":0},\"margin\":{\"t\":60}},                        {\"responsive\": true}                    ).then(function(){\n",
       "                            \n",
       "var gd = document.getElementById('ca31ff45-4f88-4d11-b601-58bd42c4e0f0');\n",
       "var x = new MutationObserver(function (mutations, observer) {{\n",
       "        var display = window.getComputedStyle(gd).display;\n",
       "        if (!display || display === 'none') {{\n",
       "            console.log([gd, 'removed!']);\n",
       "            Plotly.purge(gd);\n",
       "            observer.disconnect();\n",
       "        }}\n",
       "}});\n",
       "\n",
       "// Listen for the removal of the full notebook cells\n",
       "var notebookContainer = gd.closest('#notebook-container');\n",
       "if (notebookContainer) {{\n",
       "    x.observe(notebookContainer, {childList: true});\n",
       "}}\n",
       "\n",
       "// Listen for the clearing of the current output cell\n",
       "var outputEl = gd.closest('.output');\n",
       "if (outputEl) {{\n",
       "    x.observe(outputEl, {childList: true});\n",
       "}}\n",
       "\n",
       "                        })                };                });            </script>        </div>"
      ]
     },
     "metadata": {},
     "output_type": "display_data"
    }
   ],
   "source": [
    "from plotly import express\n",
    "from sklearn.linear_model import Lasso\n",
    "\n",
    "lasso = Lasso(tol=1e-4, random_state=2024, max_iter=10000, positive=False, ).fit(X=X_train, y=y_train)\n",
    "print('rmse: {:5.4f}'.format(mean_squared_error(squared=False, y_true=np.log(y_test), y_pred=np.log(lasso.predict(X=X_test)))))\n",
    "express.histogram(x=lasso.feature_names_in_, y=lasso.coef_).show()\n",
    "express.scatter(x=linreg.predict(X=X_test), y=lasso.predict(X=X_test), log_x=True, log_y=True).show()"
   ]
  },
  {
   "cell_type": "markdown",
   "id": "58ea3da9",
   "metadata": {
    "papermill": {
     "duration": 0.01139,
     "end_time": "2024-05-05T14:01:39.090337",
     "exception": false,
     "start_time": "2024-05-05T14:01:39.078947",
     "status": "completed"
    },
    "tags": []
   },
   "source": [
    "What does our delta between the linear regression result and the lasso result look like? When we plot them against each other they look essentially identical."
   ]
  },
  {
   "cell_type": "code",
   "execution_count": 12,
   "id": "3b820abf",
   "metadata": {
    "execution": {
     "iopub.execute_input": "2024-05-05T14:01:39.117903Z",
     "iopub.status.busy": "2024-05-05T14:01:39.117479Z",
     "iopub.status.idle": "2024-05-05T14:01:39.211585Z",
     "shell.execute_reply": "2024-05-05T14:01:39.210250Z"
    },
    "papermill": {
     "duration": 0.112516,
     "end_time": "2024-05-05T14:01:39.215029",
     "exception": false,
     "start_time": "2024-05-05T14:01:39.102513",
     "status": "completed"
    },
    "tags": []
   },
   "outputs": [
    {
     "data": {
      "text/html": [
       "<div>                            <div id=\"0edba938-742a-4ee6-9be3-73e8e59b6d8b\" class=\"plotly-graph-div\" style=\"height:525px; width:100%;\"></div>            <script type=\"text/javascript\">                require([\"plotly\"], function(Plotly) {                    window.PLOTLYENV=window.PLOTLYENV || {};                                    if (document.getElementById(\"0edba938-742a-4ee6-9be3-73e8e59b6d8b\")) {                    Plotly.newPlot(                        \"0edba938-742a-4ee6-9be3-73e8e59b6d8b\",                        [{\"hovertemplate\":\"x=%{x}\\u003cbr\\u003ey=%{y}\\u003cextra\\u003e\\u003c\\u002fextra\\u003e\",\"legendgroup\":\"\",\"line\":{\"color\":\"#636efa\",\"dash\":\"solid\"},\"marker\":{\"symbol\":\"circle\"},\"mode\":\"lines\",\"name\":\"\",\"orientation\":\"v\",\"showlegend\":false,\"x\":[0,1,2,3,4,5,6,7,8,9,10,11,12,13,14,15,16,17,18,19,20,21,22,23,24,25,26,27,28,29,30,31,32,33,34,35,36,37,38,39,40,41,42,43,44,45,46,47,48,49,50,51,52,53,54,55,56,57,58,59,60,61,62,63,64,65,66,67,68,69,70,71,72,73,74,75,76,77,78,79,80,81,82,83,84,85,86,87,88,89,90,91,92,93,94,95,96,97,98,99,100,101,102,103,104,105,106,107,108,109,110,111,112,113,114,115,116,117,118,119,120,121,122,123,124,125,126,127,128,129,130,131,132,133,134,135,136,137,138,139,140,141,142,143,144,145,146,147,148,149,150,151,152,153,154,155,156,157,158,159,160,161,162,163,164,165,166,167,168,169,170,171,172,173,174,175,176,177,178,179,180,181,182,183,184,185,186,187,188,189,190,191,192,193,194,195,196,197,198,199,200,201,202,203,204,205,206,207,208,209,210,211,212,213,214,215,216,217,218,219,220,221,222,223,224,225,226,227,228,229,230,231,232,233,234,235,236,237,238,239,240,241,242,243,244,245,246,247,248,249,250,251,252,253,254,255,256,257,258,259,260,261,262,263,264,265,266,267,268,269,270,271,272,273,274,275,276,277,278,279,280,281,282,283,284,285,286,287,288,289,290,291],\"xaxis\":\"x\",\"y\":[-30.374277928378433,-25.963667650008574,-23.414013895904645,-22.632473390665837,-22.553460076334886,-21.428097884869203,-20.05331123434007,-16.890725880512036,-15.380858060554601,-15.340391722449567,-14.846794288780075,-14.601497105672024,-14.527651071373839,-13.977572693489492,-13.112311150180176,-12.361972798593342,-12.165227342629805,-11.713670020108111,-11.591304568690248,-11.390988028608263,-11.029681827872992,-10.020056411856785,-9.858273271238431,-9.633026708383113,-9.459683032415342,-9.130148128781002,-8.838516445539426,-8.743438197299838,-8.491030488628894,-8.337722007418051,-7.815191021189094,-7.803854167461395,-7.633249816950411,-6.887245450750925,-6.54480310017243,-6.430542726418935,-6.198968393786345,-6.0001638027024455,-5.918989444093313,-5.795637536502909,-5.757834701333195,-5.7013850001385435,-5.589763285592198,-5.500112040026579,-5.1798306494602,-5.142509589670226,-5.118656280916184,-5.054426433052868,-4.991145709587727,-4.9225683505646884,-4.861762256245129,-4.769341579230968,-4.71981071785558,-4.673742569226306,-4.629540091380477,-4.48989790759515,-4.473639845557045,-4.399726308009122,-4.398894413898233,-4.352674539783038,-4.305587103473954,-4.288766767655034,-3.99353146442445,-3.96639839024283,-3.953859204892069,-3.9533351708669215,-3.886825410882011,-3.855450705625117,-3.854098548530601,-3.6184863010421395,-3.429120870307088,-3.4208416575565934,-3.3563400246785022,-3.2796086781308986,-3.223763498070184,-3.081594146322459,-3.069066516123712,-3.038657630328089,-3.0098937800503336,-2.9923151085386053,-2.976358535932377,-2.9634232786484063,-2.853101175336633,-2.833549846429378,-2.8181333304964937,-2.7242077364353463,-2.693964530713856,-2.4974283770425245,-2.4106467879610136,-2.399127858458087,-2.3953917322214693,-2.3131920945015736,-2.232390915742144,-2.1448318921611644,-2.1366779217496514,-2.028922756202519,-1.9659329942660406,-1.9601456000236794,-1.9517011441057548,-1.9433642795775086,-1.92656836588867,-1.865132893959526,-1.8565443065599538,-1.7361197888385504,-1.7064261322957464,-1.6892434743931517,-1.6396324243978597,-1.615241068881005,-1.5614924671826884,-1.5526817396166734,-1.5119220310007222,-1.4976760896388441,-1.3736087321303785,-1.2438621658366174,-1.232848518062383,-1.1046905969269574,-1.051542461675126,-0.930028679955285,-0.9030012730509043,-0.8659839098108932,-0.8143358298111707,-0.7854852976743132,-0.784796558029484,-0.7814931201282889,-0.7810974235180765,-0.7148307189927436,-0.701744582504034,-0.7013210749137215,-0.6932603215100244,-0.5611850194400176,-0.5317415717290714,-0.5272309506544843,-0.515565829584375,-0.430807065567933,-0.41839703847654164,-0.3586405315436423,-0.35811186162754893,-0.3407913717092015,-0.33393890666775405,-0.29496162256691605,-0.2789698234992102,-0.18152109277434647,-0.13532754889456555,-0.08666199492290616,-0.041847007581964135,0.023960778024047613,0.2697645057924092,0.2754757690709084,0.37332463316852227,0.3781915330328047,0.38785843475488946,0.3882121336646378,0.42549504269845784,0.43743615224957466,0.5472855227999389,0.577768336806912,0.6109533149865456,0.6214518431806937,0.7608114185277373,0.8166940718656406,0.8975665776524693,0.9019470132770948,1.0293713246937841,1.098313333641272,1.1130217632744461,1.1743186339153908,1.2366243852302432,1.3059523582924157,1.3376939057488926,1.4629837309475988,1.5083354132948443,1.5885744858533144,1.6296388689661399,1.6831853832118213,1.7249995388556272,1.757228928967379,1.8200125829316676,1.822592950426042,1.89292798563838,1.921303050359711,1.9559878289001063,1.9669496531132609,1.969589817803353,1.9733388894237578,2.0489483774872497,2.099628493306227,2.2092641605995595,2.2271017755265348,2.2329785467591137,2.235536103369668,2.246042799204588,2.313726005726494,2.3828927900176495,2.5364779250812717,2.5531754828989506,2.6151012337068096,2.687658597715199,2.689409692189656,2.695769772864878,2.7570767131983303,2.768910256912932,2.8296926456387155,2.8317988992203027,2.8786625082721002,2.9124305435689166,2.966269839263987,3.023496835376136,3.0522274721297435,3.2273445214377716,3.236983030976262,3.348197133047506,3.389584947261028,3.3968998588388786,3.4773380632395856,3.55259289056994,3.570534527534619,3.6182225878583267,3.7017273671808653,3.9054394379490986,3.991807493614033,4.239762486657128,4.263285611756146,4.297526666196063,4.506824089796282,4.579921336087864,4.659397664829157,4.7945366656640545,4.800559711933602,4.874069906712975,4.882711027516052,5.043217261321843,5.084334644896444,5.298507444327697,5.370670937583782,5.396613777324092,5.4742788562434725,5.671267688216176,5.699071551847737,5.779923707945272,5.886697482375894,6.129287137184292,6.216484381584451,6.277488471241668,6.3746590942610055,6.549112352076918,6.560355340945534,6.632083514239639,6.821135458769277,6.881713614799082,6.9888621310237795,7.027868064062204,7.129085748223588,7.293627629289404,7.341547837480903,7.463822109333705,7.782883043575566,7.964925937936641,8.005846824496984,8.113938047375996,8.152020952082239,8.203209709143266,8.225678773131222,8.46903992886655,8.486318118113559,8.492292903596535,8.520181497267913,8.748161320690997,9.211855455650948,9.302403157926165,9.919248997583054,10.224667017580941,10.285457915975712,10.907139100832865,11.220870896009728,11.426933556329459,11.440996646764688,11.841626609209925,11.881466173799708,13.012262545118574,13.509260669001378,13.620493104215711,13.722242627409287,14.077726338524371,14.985344923567027,16.337059033859987,16.38921446725726,17.263887701672502,17.9786309475312,18.46869622793747,20.941806935181376,21.13577790936688,32.42980289750267],\"yaxis\":\"y\",\"type\":\"scatter\"}],                        {\"template\":{\"data\":{\"histogram2dcontour\":[{\"type\":\"histogram2dcontour\",\"colorbar\":{\"outlinewidth\":0,\"ticks\":\"\"},\"colorscale\":[[0.0,\"#0d0887\"],[0.1111111111111111,\"#46039f\"],[0.2222222222222222,\"#7201a8\"],[0.3333333333333333,\"#9c179e\"],[0.4444444444444444,\"#bd3786\"],[0.5555555555555556,\"#d8576b\"],[0.6666666666666666,\"#ed7953\"],[0.7777777777777778,\"#fb9f3a\"],[0.8888888888888888,\"#fdca26\"],[1.0,\"#f0f921\"]]}],\"choropleth\":[{\"type\":\"choropleth\",\"colorbar\":{\"outlinewidth\":0,\"ticks\":\"\"}}],\"histogram2d\":[{\"type\":\"histogram2d\",\"colorbar\":{\"outlinewidth\":0,\"ticks\":\"\"},\"colorscale\":[[0.0,\"#0d0887\"],[0.1111111111111111,\"#46039f\"],[0.2222222222222222,\"#7201a8\"],[0.3333333333333333,\"#9c179e\"],[0.4444444444444444,\"#bd3786\"],[0.5555555555555556,\"#d8576b\"],[0.6666666666666666,\"#ed7953\"],[0.7777777777777778,\"#fb9f3a\"],[0.8888888888888888,\"#fdca26\"],[1.0,\"#f0f921\"]]}],\"heatmap\":[{\"type\":\"heatmap\",\"colorbar\":{\"outlinewidth\":0,\"ticks\":\"\"},\"colorscale\":[[0.0,\"#0d0887\"],[0.1111111111111111,\"#46039f\"],[0.2222222222222222,\"#7201a8\"],[0.3333333333333333,\"#9c179e\"],[0.4444444444444444,\"#bd3786\"],[0.5555555555555556,\"#d8576b\"],[0.6666666666666666,\"#ed7953\"],[0.7777777777777778,\"#fb9f3a\"],[0.8888888888888888,\"#fdca26\"],[1.0,\"#f0f921\"]]}],\"heatmapgl\":[{\"type\":\"heatmapgl\",\"colorbar\":{\"outlinewidth\":0,\"ticks\":\"\"},\"colorscale\":[[0.0,\"#0d0887\"],[0.1111111111111111,\"#46039f\"],[0.2222222222222222,\"#7201a8\"],[0.3333333333333333,\"#9c179e\"],[0.4444444444444444,\"#bd3786\"],[0.5555555555555556,\"#d8576b\"],[0.6666666666666666,\"#ed7953\"],[0.7777777777777778,\"#fb9f3a\"],[0.8888888888888888,\"#fdca26\"],[1.0,\"#f0f921\"]]}],\"contourcarpet\":[{\"type\":\"contourcarpet\",\"colorbar\":{\"outlinewidth\":0,\"ticks\":\"\"}}],\"contour\":[{\"type\":\"contour\",\"colorbar\":{\"outlinewidth\":0,\"ticks\":\"\"},\"colorscale\":[[0.0,\"#0d0887\"],[0.1111111111111111,\"#46039f\"],[0.2222222222222222,\"#7201a8\"],[0.3333333333333333,\"#9c179e\"],[0.4444444444444444,\"#bd3786\"],[0.5555555555555556,\"#d8576b\"],[0.6666666666666666,\"#ed7953\"],[0.7777777777777778,\"#fb9f3a\"],[0.8888888888888888,\"#fdca26\"],[1.0,\"#f0f921\"]]}],\"surface\":[{\"type\":\"surface\",\"colorbar\":{\"outlinewidth\":0,\"ticks\":\"\"},\"colorscale\":[[0.0,\"#0d0887\"],[0.1111111111111111,\"#46039f\"],[0.2222222222222222,\"#7201a8\"],[0.3333333333333333,\"#9c179e\"],[0.4444444444444444,\"#bd3786\"],[0.5555555555555556,\"#d8576b\"],[0.6666666666666666,\"#ed7953\"],[0.7777777777777778,\"#fb9f3a\"],[0.8888888888888888,\"#fdca26\"],[1.0,\"#f0f921\"]]}],\"mesh3d\":[{\"type\":\"mesh3d\",\"colorbar\":{\"outlinewidth\":0,\"ticks\":\"\"}}],\"scatter\":[{\"fillpattern\":{\"fillmode\":\"overlay\",\"size\":10,\"solidity\":0.2},\"type\":\"scatter\"}],\"parcoords\":[{\"type\":\"parcoords\",\"line\":{\"colorbar\":{\"outlinewidth\":0,\"ticks\":\"\"}}}],\"scatterpolargl\":[{\"type\":\"scatterpolargl\",\"marker\":{\"colorbar\":{\"outlinewidth\":0,\"ticks\":\"\"}}}],\"bar\":[{\"error_x\":{\"color\":\"#2a3f5f\"},\"error_y\":{\"color\":\"#2a3f5f\"},\"marker\":{\"line\":{\"color\":\"#E5ECF6\",\"width\":0.5},\"pattern\":{\"fillmode\":\"overlay\",\"size\":10,\"solidity\":0.2}},\"type\":\"bar\"}],\"scattergeo\":[{\"type\":\"scattergeo\",\"marker\":{\"colorbar\":{\"outlinewidth\":0,\"ticks\":\"\"}}}],\"scatterpolar\":[{\"type\":\"scatterpolar\",\"marker\":{\"colorbar\":{\"outlinewidth\":0,\"ticks\":\"\"}}}],\"histogram\":[{\"marker\":{\"pattern\":{\"fillmode\":\"overlay\",\"size\":10,\"solidity\":0.2}},\"type\":\"histogram\"}],\"scattergl\":[{\"type\":\"scattergl\",\"marker\":{\"colorbar\":{\"outlinewidth\":0,\"ticks\":\"\"}}}],\"scatter3d\":[{\"type\":\"scatter3d\",\"line\":{\"colorbar\":{\"outlinewidth\":0,\"ticks\":\"\"}},\"marker\":{\"colorbar\":{\"outlinewidth\":0,\"ticks\":\"\"}}}],\"scattermapbox\":[{\"type\":\"scattermapbox\",\"marker\":{\"colorbar\":{\"outlinewidth\":0,\"ticks\":\"\"}}}],\"scatterternary\":[{\"type\":\"scatterternary\",\"marker\":{\"colorbar\":{\"outlinewidth\":0,\"ticks\":\"\"}}}],\"scattercarpet\":[{\"type\":\"scattercarpet\",\"marker\":{\"colorbar\":{\"outlinewidth\":0,\"ticks\":\"\"}}}],\"carpet\":[{\"aaxis\":{\"endlinecolor\":\"#2a3f5f\",\"gridcolor\":\"white\",\"linecolor\":\"white\",\"minorgridcolor\":\"white\",\"startlinecolor\":\"#2a3f5f\"},\"baxis\":{\"endlinecolor\":\"#2a3f5f\",\"gridcolor\":\"white\",\"linecolor\":\"white\",\"minorgridcolor\":\"white\",\"startlinecolor\":\"#2a3f5f\"},\"type\":\"carpet\"}],\"table\":[{\"cells\":{\"fill\":{\"color\":\"#EBF0F8\"},\"line\":{\"color\":\"white\"}},\"header\":{\"fill\":{\"color\":\"#C8D4E3\"},\"line\":{\"color\":\"white\"}},\"type\":\"table\"}],\"barpolar\":[{\"marker\":{\"line\":{\"color\":\"#E5ECF6\",\"width\":0.5},\"pattern\":{\"fillmode\":\"overlay\",\"size\":10,\"solidity\":0.2}},\"type\":\"barpolar\"}],\"pie\":[{\"automargin\":true,\"type\":\"pie\"}]},\"layout\":{\"autotypenumbers\":\"strict\",\"colorway\":[\"#636efa\",\"#EF553B\",\"#00cc96\",\"#ab63fa\",\"#FFA15A\",\"#19d3f3\",\"#FF6692\",\"#B6E880\",\"#FF97FF\",\"#FECB52\"],\"font\":{\"color\":\"#2a3f5f\"},\"hovermode\":\"closest\",\"hoverlabel\":{\"align\":\"left\"},\"paper_bgcolor\":\"white\",\"plot_bgcolor\":\"#E5ECF6\",\"polar\":{\"bgcolor\":\"#E5ECF6\",\"angularaxis\":{\"gridcolor\":\"white\",\"linecolor\":\"white\",\"ticks\":\"\"},\"radialaxis\":{\"gridcolor\":\"white\",\"linecolor\":\"white\",\"ticks\":\"\"}},\"ternary\":{\"bgcolor\":\"#E5ECF6\",\"aaxis\":{\"gridcolor\":\"white\",\"linecolor\":\"white\",\"ticks\":\"\"},\"baxis\":{\"gridcolor\":\"white\",\"linecolor\":\"white\",\"ticks\":\"\"},\"caxis\":{\"gridcolor\":\"white\",\"linecolor\":\"white\",\"ticks\":\"\"}},\"coloraxis\":{\"colorbar\":{\"outlinewidth\":0,\"ticks\":\"\"}},\"colorscale\":{\"sequential\":[[0.0,\"#0d0887\"],[0.1111111111111111,\"#46039f\"],[0.2222222222222222,\"#7201a8\"],[0.3333333333333333,\"#9c179e\"],[0.4444444444444444,\"#bd3786\"],[0.5555555555555556,\"#d8576b\"],[0.6666666666666666,\"#ed7953\"],[0.7777777777777778,\"#fb9f3a\"],[0.8888888888888888,\"#fdca26\"],[1.0,\"#f0f921\"]],\"sequentialminus\":[[0.0,\"#0d0887\"],[0.1111111111111111,\"#46039f\"],[0.2222222222222222,\"#7201a8\"],[0.3333333333333333,\"#9c179e\"],[0.4444444444444444,\"#bd3786\"],[0.5555555555555556,\"#d8576b\"],[0.6666666666666666,\"#ed7953\"],[0.7777777777777778,\"#fb9f3a\"],[0.8888888888888888,\"#fdca26\"],[1.0,\"#f0f921\"]],\"diverging\":[[0,\"#8e0152\"],[0.1,\"#c51b7d\"],[0.2,\"#de77ae\"],[0.3,\"#f1b6da\"],[0.4,\"#fde0ef\"],[0.5,\"#f7f7f7\"],[0.6,\"#e6f5d0\"],[0.7,\"#b8e186\"],[0.8,\"#7fbc41\"],[0.9,\"#4d9221\"],[1,\"#276419\"]]},\"xaxis\":{\"gridcolor\":\"white\",\"linecolor\":\"white\",\"ticks\":\"\",\"title\":{\"standoff\":15},\"zerolinecolor\":\"white\",\"automargin\":true,\"zerolinewidth\":2},\"yaxis\":{\"gridcolor\":\"white\",\"linecolor\":\"white\",\"ticks\":\"\",\"title\":{\"standoff\":15},\"zerolinecolor\":\"white\",\"automargin\":true,\"zerolinewidth\":2},\"scene\":{\"xaxis\":{\"backgroundcolor\":\"#E5ECF6\",\"gridcolor\":\"white\",\"linecolor\":\"white\",\"showbackground\":true,\"ticks\":\"\",\"zerolinecolor\":\"white\",\"gridwidth\":2},\"yaxis\":{\"backgroundcolor\":\"#E5ECF6\",\"gridcolor\":\"white\",\"linecolor\":\"white\",\"showbackground\":true,\"ticks\":\"\",\"zerolinecolor\":\"white\",\"gridwidth\":2},\"zaxis\":{\"backgroundcolor\":\"#E5ECF6\",\"gridcolor\":\"white\",\"linecolor\":\"white\",\"showbackground\":true,\"ticks\":\"\",\"zerolinecolor\":\"white\",\"gridwidth\":2}},\"shapedefaults\":{\"line\":{\"color\":\"#2a3f5f\"}},\"annotationdefaults\":{\"arrowcolor\":\"#2a3f5f\",\"arrowhead\":0,\"arrowwidth\":1},\"geo\":{\"bgcolor\":\"white\",\"landcolor\":\"#E5ECF6\",\"subunitcolor\":\"white\",\"showland\":true,\"showlakes\":true,\"lakecolor\":\"white\"},\"title\":{\"x\":0.05},\"mapbox\":{\"style\":\"light\"}}},\"xaxis\":{\"anchor\":\"y\",\"domain\":[0.0,1.0],\"title\":{\"text\":\"x\"}},\"yaxis\":{\"anchor\":\"x\",\"domain\":[0.0,1.0],\"title\":{\"text\":\"y\"}},\"legend\":{\"tracegroupgap\":0},\"margin\":{\"t\":60}},                        {\"responsive\": true}                    ).then(function(){\n",
       "                            \n",
       "var gd = document.getElementById('0edba938-742a-4ee6-9be3-73e8e59b6d8b');\n",
       "var x = new MutationObserver(function (mutations, observer) {{\n",
       "        var display = window.getComputedStyle(gd).display;\n",
       "        if (!display || display === 'none') {{\n",
       "            console.log([gd, 'removed!']);\n",
       "            Plotly.purge(gd);\n",
       "            observer.disconnect();\n",
       "        }}\n",
       "}});\n",
       "\n",
       "// Listen for the removal of the full notebook cells\n",
       "var notebookContainer = gd.closest('#notebook-container');\n",
       "if (notebookContainer) {{\n",
       "    x.observe(notebookContainer, {childList: true});\n",
       "}}\n",
       "\n",
       "// Listen for the clearing of the current output cell\n",
       "var outputEl = gd.closest('.output');\n",
       "if (outputEl) {{\n",
       "    x.observe(outputEl, {childList: true});\n",
       "}}\n",
       "\n",
       "                        })                };                });            </script>        </div>"
      ]
     },
     "metadata": {},
     "output_type": "display_data"
    }
   ],
   "source": [
    "from plotly import express\n",
    "\n",
    "express.line(y=sorted(linreg.predict(X=X_test) - lasso.predict(X=X_test))).show()"
   ]
  },
  {
   "cell_type": "markdown",
   "id": "af761d67",
   "metadata": {
    "papermill": {
     "duration": 0.011381,
     "end_time": "2024-05-05T14:01:39.238844",
     "exception": false,
     "start_time": "2024-05-05T14:01:39.227463",
     "status": "completed"
    },
    "tags": []
   },
   "source": [
    "Our best model so far is Ridge with positive=True.\n",
    "An RMSE of about 0.1836 on our test split corresponds to an RMSE of about 0.2201 for the test data. If we can't improve on our test RMSE we shouldn't submit a new submission."
   ]
  },
  {
   "cell_type": "code",
   "execution_count": 13,
   "id": "cad76010",
   "metadata": {
    "execution": {
     "iopub.execute_input": "2024-05-05T14:01:39.265944Z",
     "iopub.status.busy": "2024-05-05T14:01:39.265380Z",
     "iopub.status.idle": "2024-05-05T14:02:00.577917Z",
     "shell.execute_reply": "2024-05-05T14:02:00.576972Z"
    },
    "papermill": {
     "duration": 21.329815,
     "end_time": "2024-05-05T14:02:00.581085",
     "exception": false,
     "start_time": "2024-05-05T14:01:39.251270",
     "status": "completed"
    },
    "tags": []
   },
   "outputs": [
    {
     "name": "stdout",
     "output_type": "stream",
     "text": [
      "done after 259 iterations.\n",
      "rmse: 0.1980\n"
     ]
    },
    {
     "data": {
      "text/html": [
       "<div>                            <div id=\"fa5d6b66-4392-4e1c-b2bd-96cd54ba6886\" class=\"plotly-graph-div\" style=\"height:525px; width:100%;\"></div>            <script type=\"text/javascript\">                require([\"plotly\"], function(Plotly) {                    window.PLOTLYENV=window.PLOTLYENV || {};                                    if (document.getElementById(\"fa5d6b66-4392-4e1c-b2bd-96cd54ba6886\")) {                    Plotly.newPlot(                        \"fa5d6b66-4392-4e1c-b2bd-96cd54ba6886\",                        [{\"hovertemplate\":\"x=%{x}\\u003cbr\\u003ey=%{y}\\u003cextra\\u003e\\u003c\\u002fextra\\u003e\",\"legendgroup\":\"\",\"marker\":{\"color\":\"#636efa\",\"symbol\":\"circle\"},\"mode\":\"markers\",\"name\":\"\",\"orientation\":\"v\",\"showlegend\":false,\"x\":[279678.8262959601,266732.0863344312,161943.56223978027,179975.13892502937,124819.21327714232,270911.3733186425,241809.6737700043,78657.13874903508,172661.92338073434,127198.14151728386,284921.06425740954,244830.57607431308,54349.53067777795,107829.87474647234,140388.15559613676,136980.26225306024,173875.83674108092,286966.55414725665,217591.7479282074,120892.66267907154,234812.73931980645,150133.89019601664,137645.93244383676,223948.83059259574,110432.55154280359,213409.64132362837,147048.29224977264,131089.80796278757,315616.3503377625,189034.91289190017,221470.84889289527,193334.01177381218,173404.73423533462,158465.17789799016,191473.79701486992,299127.2006526666,76236.30125573196,223968.19393951987,243656.37533242576,133705.69649538852,279872.50231896003,270092.37681260833,113940.80619924149,268500.5362218985,131465.95543257555,169390.71454102598,113283.2656915508,149055.85914160352,233768.65126011358,167095.71752762952,205775.8330942415,118532.6189341516,215972.79138369323,135010.04082746472,52223.292811841646,255639.63631472888,126038.49893848435,164628.69875231537,219953.7366331186,133943.9825933245,204295.84614824364,141514.75450774853,156288.24946918886,85288.36967035971,210139.24466316955,67270.04180055478,225222.59609774005,169799.9080572889,62949.664278968296,282739.55796832754,287296.4675675408,191363.1753845195,234915.84531847364,164010.75865235197,89242.58304217568,161145.73123933206,83742.07328380458,259345.34474749933,141897.39309448277,414625.7513010652,268368.64739726775,211112.1032269445,112988.97430154606,132993.62045511173,135057.5068201995,148116.99691265356,187756.5703787044,185802.55446206557,103867.45078906813,192566.48764161376,158215.33607694838,126844.05340109643,131966.30734561413,93665.16456217639,185158.02755244204,136795.86526770127,149844.84107578563,202460.50969255343,154862.32198790257,123949.75342376798,103714.62691206153,277097.86333633284,104124.80020652415,326800.3701483592,166959.29077333695,148711.36843536788,64720.978641345166,233675.7752321863,142637.04493502324,130531.96016999218,111632.24380056292,133367.40619629977,193496.0037157709,175040.14590828237,154022.7019248742,183758.61053430784,191668.19332211936,75653.51456762542,133779.07517658686,250667.41401696054,196085.13926555257,135120.26076256286,203801.83515765506,146381.7153107155,65137.23274500802,89025.2343882274,177789.68628958275,194089.62882431614,219713.78660024033,148242.36299063906,96957.4948585218,126741.5849263267,177218.2299609091,163150.97514979698,121811.20993709873,130900.45624996087,171474.47806743666,185389.22392857703,200198.25966166594,256109.1831987549,215923.57382541482,303979.14386675344,186072.88194321533,261656.55919634772,170873.18590816582,243646.1442684044,322417.52381731523,217804.01991159556,256966.49704890454,223425.50807420252,114348.90623410343,300214.1287759248,221398.4572702208,257736.5340485971,143873.34846929443,148533.5371112146,389994.29760708695,335888.3064940019,126972.51124678599,175652.9792670397,149208.4289134674,284382.2376502877,109970.89206387359,200244.70243744162,262454.25197416206,173203.58249395975,248859.82199674187,82686.91470438882,325717.15287645604,242567.84679178684,177471.255446148,116703.96800191444,270401.01193606714,208871.12914911262,109561.61982229387,246421.07590688008,136821.23323436623,139381.80775705836,196150.99179812532,206231.5348504347,123751.28414596844,230185.15548486786,120922.71699830372,170038.39038277685,262434.5777724985,229648.50861544296,32895.8353830289,147219.2683913919,116475.5227654826,292035.48204285104,96223.75238948426,92438.54513943609,173213.47192274436,292564.4383851609,110492.3448195266,195589.10832494148,144851.52680275618,324150.3325555661,163643.30578636774,148073.39791522303,133389.88886542327,239513.55079797248,125837.18429700233,109918.99245931179,204358.88669307355,145184.31505192944,92415.91410546307,300890.81485162606,356831.5513979611,121258.36261101253,210356.67368493084,203224.2970053726,189391.2254898313,165205.4198577471,148686.04785443208,216131.51835587464,321539.28885867714,168986.17248179152,124486.14317204291,255163.1390919959,249144.9600709856,284907.87230297213,153219.37913664774,215681.76134053874,117691.04466866475,255858.59610144084,192425.11587640288,165059.948985637,232263.34587262728,272894.010347912,172521.38552467775,91161.61996445566,72650.63642045553,152158.46573461365,144917.0482228308,259837.00947747822,115279.98085146118,288850.5933570479,89644.83180770132,137903.4981818273,141439.5994321502,108072.03999401524,180625.91404413705,74019.06290365034,191376.5589451244,178448.79375448544,146251.01598107902,286498.2679537224,225474.8946096833,185754.97969496256,209570.2903205519,335916.31317070825,156822.16587995947,161840.8987858229,277535.84685539675,278290.69705807755,229137.10717093683,203453.06520753802,224860.0501512757,113011.45063947118,99202.94898795366,154721.08470526128,154610.04596361483,157538.51659082313,80523.20229470998,143474.743418156,150582.4367411998,94433.1149005469,197830.91143222596,134630.37233256205,217511.76887897978,54625.62729350722,124624.47156465583,176516.95969341946,78061.74361794908,211322.52000085503,124976.48672616563,177163.21792716457,124179.53812096425,229167.06331510498,135539.4557941291,48426.07941110036,188868.46700831607,214977.65315924794,248891.6693124639,51571.257071324915,354440.34467452613,237263.2439432502,211232.9534063951,199830.59081793542,144404.88195834495,203156.67756382172],\"xaxis\":\"x\",\"y\":[275421.5326695826,278259.98968799546,145918.3977561549,155740.7886460557,115869.34885613088,248725.90724087224,221400.69676009906,107192.65954687766,156672.60600117597,148275.93126967747,254688.41411158227,205318.91659637005,120050.77063480607,119046.23678854971,133994.4453591172,117632.74024978826,144061.8982079338,256607.75265886096,187796.28294981405,122179.43329003463,213152.4994313288,129787.48678074565,146028.34568382055,193966.01045848537,137367.7765486385,199926.71641718227,158379.52953648815,142467.90096157088,304715.9189113754,198124.98719768392,203321.29346588283,162720.02611303714,187556.24863540553,145223.2378874697,164093.85353964052,276466.41046490654,115238.65302696636,208200.357893225,238786.00013578087,136568.2550346089,256879.01875802147,224820.352798529,116929.5354734663,270479.80680076254,208315.04093922602,167596.95953327775,129310.71353571028,142701.89620367493,187982.55844507742,157243.91629227324,207439.47496023646,122820.60656960725,193148.6434726141,125194.33210480525,121286.01117564616,224847.0898411898,135407.22413822066,193284.731700147,190077.8762026152,164394.3560958006,170033.11027600558,201328.85075314812,168967.47621762697,132610.99108966847,325216.0737853812,135883.1413850237,254436.6857537072,183989.40045797595,125770.40798739798,273093.3495950488,279948.1454590651,156613.649032763,205603.67670379227,187036.2113252813,129186.67769622544,175076.4603638455,138051.83979230485,233962.9555314505,150330.97256111042,391497.53811448475,241830.00225374193,176860.83325023265,101948.47063266639,130128.19840451852,149948.60032040157,136838.3753318475,206374.664840424,170109.21848691246,123216.39803067401,169047.2330497928,148655.12192779736,155420.0001381934,147781.15599780387,133199.1881353367,172491.16729488302,137079.52144404958,226939.60357840516,196379.89602028127,132844.26174131598,171590.2742591177,127682.64910371904,277524.69566051173,103189.60979165699,395725.48558293807,150529.7413493646,140296.38798642112,117972.56424594432,213993.19344546416,145029.87684378066,111054.25952961958,124766.96058899113,135494.60563647925,170999.08632728824,170047.44500572074,138554.6084957019,177149.46384846632,196427.64228073988,93986.8893321685,149753.84313469622,238661.27945671658,197534.75810755638,123447.27703351832,179052.2395613627,145724.61408800588,105993.95630992678,125809.77086319673,187127.70629143622,237076.22759541584,203138.66532500234,171160.93115398422,120445.00914913035,133384.47466299462,154697.93679534429,164256.40412316634,127727.33373842237,133026.4606143178,151621.05122914506,183888.43461049945,194868.2127193569,225449.17281352464,275149.145368266,269369.14493339456,226636.40707395598,191263.035666847,166346.1164550277,227950.73140525876,351668.64144684613,169803.77787207876,250895.31394797892,194475.25883831465,108202.09401365463,348872.7882075557,217887.33357547838,260881.72280654762,142430.38701901087,124803.85399046571,435223.25930198154,286406.4749861599,205399.8692933217,162561.1386913793,131547.33082156957,272079.3915610003,118175.13191396365,195460.71811873105,263002.79674988304,192822.60281712652,271423.0633575501,115170.32815885652,297116.1730265627,206656.21754137578,171219.19406308976,122606.01021730436,308941.5360812253,214791.83539014985,143829.9332633098,211335.01468599917,158599.18728604386,133492.5172661835,200630.28631535365,165105.58056108802,143769.349035293,204559.07731051015,130744.98765142437,162938.4988301426,236042.70135399353,204297.1992659436,102294.94973835026,132813.81283648455,126960.12967069591,270444.59470692667,115117.22863716909,107218.26273913661,157203.23285040187,342013.99522687064,126112.085932845,190380.39479854782,128900.6419246992,300909.45573957835,158492.87842851496,137699.67822827247,135175.24187749551,264506.4373352495,136989.7241930091,126912.57367878809,187710.47341045988,151160.29526223455,96729.90869331549,330759.8384945966,449489.4484016598,130227.0887101915,182187.3445467884,157137.05312507096,179370.40927241233,209982.96278965517,128316.66358390989,192653.73034845517,205882.663877831,195435.25598596595,119335.02443765533,221740.98505037642,212365.08230715126,249127.56404458595,153174.22599585616,193097.67400192292,156780.79067495387,217792.26803021156,201122.4350198028,141598.4191341121,206559.1178664516,235713.09802373094,168070.90945416162,120727.60638796436,109446.39001247578,159426.7257820257,158373.7349586661,232304.0495888809,123434.45950116475,317112.05111133755,118634.27006028291,139289.1879111801,138715.62025449143,175752.439940088,153085.2464327208,122629.83824847316,152493.06094210464,261267.39867252993,162615.01954395624,281144.84336871246,212238.81245287962,192289.10978623692,179528.24188480465,246467.3571505693,141248.4796775329,175420.97936810227,288202.44823060837,241379.22367084536,217862.23195653278,195317.08097003374,185958.11911362121,148553.9716201367,102934.96586405294,142673.62978029044,122981.15307092949,150309.39968796834,120877.0752557203,136994.26666373448,160202.28351109364,112240.82408357994,201879.9699587133,130371.01642495564,157211.8471584882,88823.13251813073,142116.9518699003,163295.80190138728,100285.82953610287,218279.94777379048,120157.12824008564,161541.4932043147,134824.8716398793,181236.544923404,128929.99736123174,101837.82977256036,210580.50653935372,296084.44076804933,171296.79781053905,99575.82248200335,277184.12582587166,193651.89606161707,168552.8932805132,159356.47557323155,126989.43033632406,178868.3859822791],\"yaxis\":\"y\",\"type\":\"scatter\"}],                        {\"template\":{\"data\":{\"histogram2dcontour\":[{\"type\":\"histogram2dcontour\",\"colorbar\":{\"outlinewidth\":0,\"ticks\":\"\"},\"colorscale\":[[0.0,\"#0d0887\"],[0.1111111111111111,\"#46039f\"],[0.2222222222222222,\"#7201a8\"],[0.3333333333333333,\"#9c179e\"],[0.4444444444444444,\"#bd3786\"],[0.5555555555555556,\"#d8576b\"],[0.6666666666666666,\"#ed7953\"],[0.7777777777777778,\"#fb9f3a\"],[0.8888888888888888,\"#fdca26\"],[1.0,\"#f0f921\"]]}],\"choropleth\":[{\"type\":\"choropleth\",\"colorbar\":{\"outlinewidth\":0,\"ticks\":\"\"}}],\"histogram2d\":[{\"type\":\"histogram2d\",\"colorbar\":{\"outlinewidth\":0,\"ticks\":\"\"},\"colorscale\":[[0.0,\"#0d0887\"],[0.1111111111111111,\"#46039f\"],[0.2222222222222222,\"#7201a8\"],[0.3333333333333333,\"#9c179e\"],[0.4444444444444444,\"#bd3786\"],[0.5555555555555556,\"#d8576b\"],[0.6666666666666666,\"#ed7953\"],[0.7777777777777778,\"#fb9f3a\"],[0.8888888888888888,\"#fdca26\"],[1.0,\"#f0f921\"]]}],\"heatmap\":[{\"type\":\"heatmap\",\"colorbar\":{\"outlinewidth\":0,\"ticks\":\"\"},\"colorscale\":[[0.0,\"#0d0887\"],[0.1111111111111111,\"#46039f\"],[0.2222222222222222,\"#7201a8\"],[0.3333333333333333,\"#9c179e\"],[0.4444444444444444,\"#bd3786\"],[0.5555555555555556,\"#d8576b\"],[0.6666666666666666,\"#ed7953\"],[0.7777777777777778,\"#fb9f3a\"],[0.8888888888888888,\"#fdca26\"],[1.0,\"#f0f921\"]]}],\"heatmapgl\":[{\"type\":\"heatmapgl\",\"colorbar\":{\"outlinewidth\":0,\"ticks\":\"\"},\"colorscale\":[[0.0,\"#0d0887\"],[0.1111111111111111,\"#46039f\"],[0.2222222222222222,\"#7201a8\"],[0.3333333333333333,\"#9c179e\"],[0.4444444444444444,\"#bd3786\"],[0.5555555555555556,\"#d8576b\"],[0.6666666666666666,\"#ed7953\"],[0.7777777777777778,\"#fb9f3a\"],[0.8888888888888888,\"#fdca26\"],[1.0,\"#f0f921\"]]}],\"contourcarpet\":[{\"type\":\"contourcarpet\",\"colorbar\":{\"outlinewidth\":0,\"ticks\":\"\"}}],\"contour\":[{\"type\":\"contour\",\"colorbar\":{\"outlinewidth\":0,\"ticks\":\"\"},\"colorscale\":[[0.0,\"#0d0887\"],[0.1111111111111111,\"#46039f\"],[0.2222222222222222,\"#7201a8\"],[0.3333333333333333,\"#9c179e\"],[0.4444444444444444,\"#bd3786\"],[0.5555555555555556,\"#d8576b\"],[0.6666666666666666,\"#ed7953\"],[0.7777777777777778,\"#fb9f3a\"],[0.8888888888888888,\"#fdca26\"],[1.0,\"#f0f921\"]]}],\"surface\":[{\"type\":\"surface\",\"colorbar\":{\"outlinewidth\":0,\"ticks\":\"\"},\"colorscale\":[[0.0,\"#0d0887\"],[0.1111111111111111,\"#46039f\"],[0.2222222222222222,\"#7201a8\"],[0.3333333333333333,\"#9c179e\"],[0.4444444444444444,\"#bd3786\"],[0.5555555555555556,\"#d8576b\"],[0.6666666666666666,\"#ed7953\"],[0.7777777777777778,\"#fb9f3a\"],[0.8888888888888888,\"#fdca26\"],[1.0,\"#f0f921\"]]}],\"mesh3d\":[{\"type\":\"mesh3d\",\"colorbar\":{\"outlinewidth\":0,\"ticks\":\"\"}}],\"scatter\":[{\"fillpattern\":{\"fillmode\":\"overlay\",\"size\":10,\"solidity\":0.2},\"type\":\"scatter\"}],\"parcoords\":[{\"type\":\"parcoords\",\"line\":{\"colorbar\":{\"outlinewidth\":0,\"ticks\":\"\"}}}],\"scatterpolargl\":[{\"type\":\"scatterpolargl\",\"marker\":{\"colorbar\":{\"outlinewidth\":0,\"ticks\":\"\"}}}],\"bar\":[{\"error_x\":{\"color\":\"#2a3f5f\"},\"error_y\":{\"color\":\"#2a3f5f\"},\"marker\":{\"line\":{\"color\":\"#E5ECF6\",\"width\":0.5},\"pattern\":{\"fillmode\":\"overlay\",\"size\":10,\"solidity\":0.2}},\"type\":\"bar\"}],\"scattergeo\":[{\"type\":\"scattergeo\",\"marker\":{\"colorbar\":{\"outlinewidth\":0,\"ticks\":\"\"}}}],\"scatterpolar\":[{\"type\":\"scatterpolar\",\"marker\":{\"colorbar\":{\"outlinewidth\":0,\"ticks\":\"\"}}}],\"histogram\":[{\"marker\":{\"pattern\":{\"fillmode\":\"overlay\",\"size\":10,\"solidity\":0.2}},\"type\":\"histogram\"}],\"scattergl\":[{\"type\":\"scattergl\",\"marker\":{\"colorbar\":{\"outlinewidth\":0,\"ticks\":\"\"}}}],\"scatter3d\":[{\"type\":\"scatter3d\",\"line\":{\"colorbar\":{\"outlinewidth\":0,\"ticks\":\"\"}},\"marker\":{\"colorbar\":{\"outlinewidth\":0,\"ticks\":\"\"}}}],\"scattermapbox\":[{\"type\":\"scattermapbox\",\"marker\":{\"colorbar\":{\"outlinewidth\":0,\"ticks\":\"\"}}}],\"scatterternary\":[{\"type\":\"scatterternary\",\"marker\":{\"colorbar\":{\"outlinewidth\":0,\"ticks\":\"\"}}}],\"scattercarpet\":[{\"type\":\"scattercarpet\",\"marker\":{\"colorbar\":{\"outlinewidth\":0,\"ticks\":\"\"}}}],\"carpet\":[{\"aaxis\":{\"endlinecolor\":\"#2a3f5f\",\"gridcolor\":\"white\",\"linecolor\":\"white\",\"minorgridcolor\":\"white\",\"startlinecolor\":\"#2a3f5f\"},\"baxis\":{\"endlinecolor\":\"#2a3f5f\",\"gridcolor\":\"white\",\"linecolor\":\"white\",\"minorgridcolor\":\"white\",\"startlinecolor\":\"#2a3f5f\"},\"type\":\"carpet\"}],\"table\":[{\"cells\":{\"fill\":{\"color\":\"#EBF0F8\"},\"line\":{\"color\":\"white\"}},\"header\":{\"fill\":{\"color\":\"#C8D4E3\"},\"line\":{\"color\":\"white\"}},\"type\":\"table\"}],\"barpolar\":[{\"marker\":{\"line\":{\"color\":\"#E5ECF6\",\"width\":0.5},\"pattern\":{\"fillmode\":\"overlay\",\"size\":10,\"solidity\":0.2}},\"type\":\"barpolar\"}],\"pie\":[{\"automargin\":true,\"type\":\"pie\"}]},\"layout\":{\"autotypenumbers\":\"strict\",\"colorway\":[\"#636efa\",\"#EF553B\",\"#00cc96\",\"#ab63fa\",\"#FFA15A\",\"#19d3f3\",\"#FF6692\",\"#B6E880\",\"#FF97FF\",\"#FECB52\"],\"font\":{\"color\":\"#2a3f5f\"},\"hovermode\":\"closest\",\"hoverlabel\":{\"align\":\"left\"},\"paper_bgcolor\":\"white\",\"plot_bgcolor\":\"#E5ECF6\",\"polar\":{\"bgcolor\":\"#E5ECF6\",\"angularaxis\":{\"gridcolor\":\"white\",\"linecolor\":\"white\",\"ticks\":\"\"},\"radialaxis\":{\"gridcolor\":\"white\",\"linecolor\":\"white\",\"ticks\":\"\"}},\"ternary\":{\"bgcolor\":\"#E5ECF6\",\"aaxis\":{\"gridcolor\":\"white\",\"linecolor\":\"white\",\"ticks\":\"\"},\"baxis\":{\"gridcolor\":\"white\",\"linecolor\":\"white\",\"ticks\":\"\"},\"caxis\":{\"gridcolor\":\"white\",\"linecolor\":\"white\",\"ticks\":\"\"}},\"coloraxis\":{\"colorbar\":{\"outlinewidth\":0,\"ticks\":\"\"}},\"colorscale\":{\"sequential\":[[0.0,\"#0d0887\"],[0.1111111111111111,\"#46039f\"],[0.2222222222222222,\"#7201a8\"],[0.3333333333333333,\"#9c179e\"],[0.4444444444444444,\"#bd3786\"],[0.5555555555555556,\"#d8576b\"],[0.6666666666666666,\"#ed7953\"],[0.7777777777777778,\"#fb9f3a\"],[0.8888888888888888,\"#fdca26\"],[1.0,\"#f0f921\"]],\"sequentialminus\":[[0.0,\"#0d0887\"],[0.1111111111111111,\"#46039f\"],[0.2222222222222222,\"#7201a8\"],[0.3333333333333333,\"#9c179e\"],[0.4444444444444444,\"#bd3786\"],[0.5555555555555556,\"#d8576b\"],[0.6666666666666666,\"#ed7953\"],[0.7777777777777778,\"#fb9f3a\"],[0.8888888888888888,\"#fdca26\"],[1.0,\"#f0f921\"]],\"diverging\":[[0,\"#8e0152\"],[0.1,\"#c51b7d\"],[0.2,\"#de77ae\"],[0.3,\"#f1b6da\"],[0.4,\"#fde0ef\"],[0.5,\"#f7f7f7\"],[0.6,\"#e6f5d0\"],[0.7,\"#b8e186\"],[0.8,\"#7fbc41\"],[0.9,\"#4d9221\"],[1,\"#276419\"]]},\"xaxis\":{\"gridcolor\":\"white\",\"linecolor\":\"white\",\"ticks\":\"\",\"title\":{\"standoff\":15},\"zerolinecolor\":\"white\",\"automargin\":true,\"zerolinewidth\":2},\"yaxis\":{\"gridcolor\":\"white\",\"linecolor\":\"white\",\"ticks\":\"\",\"title\":{\"standoff\":15},\"zerolinecolor\":\"white\",\"automargin\":true,\"zerolinewidth\":2},\"scene\":{\"xaxis\":{\"backgroundcolor\":\"#E5ECF6\",\"gridcolor\":\"white\",\"linecolor\":\"white\",\"showbackground\":true,\"ticks\":\"\",\"zerolinecolor\":\"white\",\"gridwidth\":2},\"yaxis\":{\"backgroundcolor\":\"#E5ECF6\",\"gridcolor\":\"white\",\"linecolor\":\"white\",\"showbackground\":true,\"ticks\":\"\",\"zerolinecolor\":\"white\",\"gridwidth\":2},\"zaxis\":{\"backgroundcolor\":\"#E5ECF6\",\"gridcolor\":\"white\",\"linecolor\":\"white\",\"showbackground\":true,\"ticks\":\"\",\"zerolinecolor\":\"white\",\"gridwidth\":2}},\"shapedefaults\":{\"line\":{\"color\":\"#2a3f5f\"}},\"annotationdefaults\":{\"arrowcolor\":\"#2a3f5f\",\"arrowhead\":0,\"arrowwidth\":1},\"geo\":{\"bgcolor\":\"white\",\"landcolor\":\"#E5ECF6\",\"subunitcolor\":\"white\",\"showland\":true,\"showlakes\":true,\"lakecolor\":\"white\"},\"title\":{\"x\":0.05},\"mapbox\":{\"style\":\"light\"}}},\"xaxis\":{\"anchor\":\"y\",\"domain\":[0.0,1.0],\"title\":{\"text\":\"x\"}},\"yaxis\":{\"anchor\":\"x\",\"domain\":[0.0,1.0],\"title\":{\"text\":\"y\"}},\"legend\":{\"tracegroupgap\":0},\"margin\":{\"t\":60}},                        {\"responsive\": true}                    ).then(function(){\n",
       "                            \n",
       "var gd = document.getElementById('fa5d6b66-4392-4e1c-b2bd-96cd54ba6886');\n",
       "var x = new MutationObserver(function (mutations, observer) {{\n",
       "        var display = window.getComputedStyle(gd).display;\n",
       "        if (!display || display === 'none') {{\n",
       "            console.log([gd, 'removed!']);\n",
       "            Plotly.purge(gd);\n",
       "            observer.disconnect();\n",
       "        }}\n",
       "}});\n",
       "\n",
       "// Listen for the removal of the full notebook cells\n",
       "var notebookContainer = gd.closest('#notebook-container');\n",
       "if (notebookContainer) {{\n",
       "    x.observe(notebookContainer, {childList: true});\n",
       "}}\n",
       "\n",
       "// Listen for the clearing of the current output cell\n",
       "var outputEl = gd.closest('.output');\n",
       "if (outputEl) {{\n",
       "    x.observe(outputEl, {childList: true});\n",
       "}}\n",
       "\n",
       "                        })                };                });            </script>        </div>"
      ]
     },
     "metadata": {},
     "output_type": "display_data"
    }
   ],
   "source": [
    "from plotly import express\n",
    "from sklearn.neural_network import MLPRegressor\n",
    "\n",
    "activation = ['identity', 'logistic', 'tanh', 'relu'][3]\n",
    "neural = MLPRegressor(hidden_layer_sizes=(400, 200, 100,), activation=activation, solver='adam', alpha=1e-3, batch_size='auto', \n",
    "                      learning_rate='adaptive', learning_rate_init=1e-2, power_t=0.5, max_iter=1000, shuffle=True, random_state=2024,\n",
    "                      tol=1e-5, verbose=False, warm_start=False, momentum=0.8, nesterovs_momentum=True, early_stopping=False, beta_1=0.9, \n",
    "                      beta_2=0.999, epsilon=1e-08, n_iter_no_change=20, max_fun=15000).fit(X=X_train, y=y_train)\n",
    "print('done after {} iterations.'.format(neural.n_iter_))\n",
    "print('rmse: {:5.4f}'.format(mean_squared_error(squared=False, y_true=np.log(y_test), y_pred=np.log(neural.predict(X=X_test)))))\n",
    "express.scatter(x=linreg.predict(X=X_test), y=neural.predict(X=X_test), log_x=False, log_y=False).show()"
   ]
  },
  {
   "cell_type": "code",
   "execution_count": 14,
   "id": "7037569b",
   "metadata": {
    "execution": {
     "iopub.execute_input": "2024-05-05T14:02:00.610048Z",
     "iopub.status.busy": "2024-05-05T14:02:00.609248Z",
     "iopub.status.idle": "2024-05-05T14:02:00.753300Z",
     "shell.execute_reply": "2024-05-05T14:02:00.752120Z"
    },
    "papermill": {
     "duration": 0.163419,
     "end_time": "2024-05-05T14:02:00.756741",
     "exception": false,
     "start_time": "2024-05-05T14:02:00.593322",
     "status": "completed"
    },
    "tags": []
   },
   "outputs": [
    {
     "data": {
      "text/html": [
       "<div>                            <div id=\"963572a7-1076-4231-81cb-93dac88abadf\" class=\"plotly-graph-div\" style=\"height:525px; width:100%;\"></div>            <script type=\"text/javascript\">                require([\"plotly\"], function(Plotly) {                    window.PLOTLYENV=window.PLOTLYENV || {};                                    if (document.getElementById(\"963572a7-1076-4231-81cb-93dac88abadf\")) {                    Plotly.newPlot(                        \"963572a7-1076-4231-81cb-93dac88abadf\",                        [{\"hovertemplate\":\"x=%{x}\\u003cbr\\u003ey=%{y}\\u003cextra\\u003e\\u003c\\u002fextra\\u003e\",\"legendgroup\":\"\",\"line\":{\"color\":\"#636efa\",\"dash\":\"solid\"},\"marker\":{\"symbol\":\"circle\"},\"mode\":\"lines\",\"name\":\"\",\"orientation\":\"v\",\"showlegend\":false,\"x\":[0,1,2,3,4,5,6,7,8,9,10,11,12,13,14,15,16,17,18,19,20,21,22,23,24,25,26,27,28,29,30,31,32,33,34,35,36,37,38,39,40,41,42,43,44,45,46,47,48,49,50,51,52,53,54,55,56,57,58,59,60,61,62,63,64,65,66,67,68,69,70,71,72,73,74,75,76,77,78,79,80,81,82,83,84,85,86,87,88,89,90,91,92,93,94,95,96,97,98,99,100,101,102,103,104,105,106,107,108,109,110,111,112,113,114,115,116,117,118,119,120,121,122,123,124,125,126,127,128,129,130,131,132,133,134,135,136,137,138,139,140,141,142,143,144,145,146,147,148,149,150,151,152,153,154,155,156,157,158,159,160,161,162,163,164,165,166,167,168,169,170,171,172,173,174,175,176,177,178,179,180,181,182,183,184,185,186,187,188,189,190,191,192,193,194,195,196,197,198,199,200,201,202,203,204,205,206,207,208,209,210,211,212,213,214,215,216,217,218,219,220,221,222,223,224,225,226,227,228,229,230,231,232,233,234,235,236,237,238,239,240,241,242,243,244,245,246,247,248,249,250,251,252,253,254,255,256,257,258,259,260,261,262,263,264,265,266,267,268,269,270,271,272,273,274,275,276,277,278,279,280,281,282,283,284,285,286,287,288,289,290,291],\"xaxis\":\"x\",\"y\":[-115076.82912221167,-92657.89700369869,-82818.6049180445,-81106.78760880139,-78427.35804653572,-77094.76250261953,-76849.08550665047,-69399.11435532136,-69062.71836380451,-68925.11543457885,-68613.0995844689,-67680.39994607275,-65701.23995702813,-62820.74370842968,-59814.09624539959,-59225.57154285116,-54309.766508500266,-53411.75036146,-53251.58560459915,-49449.55684170977,-48658.65943163092,-48610.77534482282,-48004.565410678435,-47640.520835349715,-47322.621419308765,-45228.96169489459,-44777.54293190807,-42986.5987710997,-40856.723564918764,-40563.52513074066,-40353.87296101032,-39944.09465404975,-39534.02357316032,-39089.74600628912,-39002.351771234404,-38540.52414515818,-36795.75359202025,-36784.536474969325,-35542.52098066552,-34268.313441015925,-34197.505224623514,-32483.413454467693,-30450.37350247611,-29869.02364297054,-29565.9864235087,-29251.117629530898,-29214.08965596714,-28989.43825258159,-28656.03294783164,-28575.946737096965,-28535.52079784259,-28261.457754289673,-26935.225005834916,-26449.08350417443,-24992.886537277023,-23968.02219165751,-23487.514290608553,-23025.45267292933,-22918.56816334516,-22563.241360808257,-22224.085918153796,-21777.954051677632,-21712.039531037648,-21077.78975239361,-20018.064889324567,-19619.02032316677,-19348.947241605885,-18893.476247684826,-18618.094461719593,-18333.374764543085,-17807.709183033032,-17492.480305244477,-16993.5812194763,-16364.003562877217,-16027.447844159484,-15974.767958109354,-15814.848652189743,-15619.741113318407,-14891.093500202085,-14779.717599700525,-14189.492400687042,-14151.514400070912,-13930.729124513426,-13580.080582279363,-13456.686735835276,-13134.71678842821,-12679.226748438115,-11527.903353564267,-11378.092998783308,-11331.237286715506,-11216.362042077366,-11152.539896006783,-10666.601375211612,-10645.333518915053,-10484.60690521331,-9822.27065312065,-9619.846769893833,-9368.725199736306,-9338.020001853467,-9090.074305783754,-8968.726099178966,-8697.319143399916,-8433.579466627649,-8382.413239983784,-8204.23985009006,-8154.4786497035675,-7268.260047412041,-6957.427772935451,-6642.889736667916,-6534.130091274361,-5975.980210305104,-5920.706241037231,-5916.123801323643,-5902.042215389913,-4759.448958620516,-4479.294517228322,-4313.994587852416,-4287.987635455647,-4049.0585264873516,-3732.016876099282,-3145.1887579505274,-2988.72927422481,-2862.558539220394,-2392.83190875742,-2127.19944017948,-2126.0043643569225,-1979.2705788640305,-1785.3530120722426,-1663.6418659949559,-1449.6188420038088,-1385.6897293528018,-1286.7706109630963,-1105.4289733693586,-548.5447757209768,-426.8323241788894,-283.65617634830414,45.153140791575424,657.1012227096071,935.1904148671601,1442.9614502835611,1500.7893180775864,1793.7550077482301,2723.9791776587663,2865.4220505932026,3511.1236947424186,4257.293626377534,4259.355907606412,4450.476070516132,4527.0694531381305,4783.984318710573,4819.358486079989,4870.375196644891,4992.700902561628,5150.427357852779,5151.118734387579,5208.713526393665,5330.04694230904,5353.424585009925,5889.290490874846,6071.183100925613,6080.613672272157,6146.812220448803,6252.06138305823,6353.962937928591,6393.71023701955,6480.476754421514,6609.146685841522,6609.458432897372,7099.891552634246,7229.116902854788,7348.322108475724,8135.984237504279,8414.980448946764,8949.864421011443,9560.214149151027,9646.208373278729,9815.708722659474,9851.80123535628,10020.816217418964,10373.719686950557,10900.431426387106,11040.503668879668,11274.875214404048,11278.621580806066,11672.983729044543,12006.134560243954,12047.454924970836,12302.84608928737,12666.86025755902,13091.840575660375,13221.157792032172,13236.082156803692,13241.940010520455,13482.924906446104,14405.455554907356,15468.093429172324,15573.686202426587,15621.724722849875,15693.33597515311,15695.41286314564,15767.836046294862,15950.884878056982,15989.317379558372,16010.23907234249,16025.164483625354,16429.54942397235,16575.121275237994,16648.413282613677,17415.45162202089,17661.098091897817,18149.55542701244,19347.52200327198,19477.700640372597,19682.58178672215,19853.426838291605,20346.403415270994,20369.38427052219,20408.97700990524,21590.887335924373,21660.239888477663,22018.060246586596,22185.466077770252,22496.91738848266,22520.293165564828,22584.08733861582,22660.79018776008,22824.14791107914,22993.483560938563,23128.213186580455,23240.87681598775,23461.529851524887,23477.78800741947,23519.254591820965,23729.683120748887,24234.350278973667,24288.29158154261,24749.595596292376,25351.30934949935,25382.389216048818,25626.07817435771,25704.22800617569,26391.87641850495,26538.64514352582,27379.943475229404,27532.95988859731,27540.667611416255,28169.329138142435,28600.97984989331,28950.249235887866,29312.168614681374,29795.464978393342,29813.938533147128,29875.86043050338,29982.82013411037,30042.048435747245,30232.65014582727,30358.801488395693,30613.98566077504,30660.01038523027,30792.546473539085,31628.89289268534,33422.15404161948,34251.26997671186,34262.73587223806,34609.998933358875,34749.5263517565,35086.06122088092,35780.30825838618,35911.62925041106,36779.877763834345,36911.473387232196,37180.91232418103,38066.328071229276,38883.49800301975,38901.93103765449,39511.65947794303,40474.11524470386,41125.95428934667,42680.06012588189,43611.34788163315,45272.02401407933,45786.09281503616,46087.24388030163,47930.518391700985,48000.2420395168,49481.831507842,60299.92172049158,70393.52352950073,77256.21884865448,77594.87150192485,89448.95602013895,115656.62498084616],\"yaxis\":\"y\",\"type\":\"scatter\"}],                        {\"template\":{\"data\":{\"histogram2dcontour\":[{\"type\":\"histogram2dcontour\",\"colorbar\":{\"outlinewidth\":0,\"ticks\":\"\"},\"colorscale\":[[0.0,\"#0d0887\"],[0.1111111111111111,\"#46039f\"],[0.2222222222222222,\"#7201a8\"],[0.3333333333333333,\"#9c179e\"],[0.4444444444444444,\"#bd3786\"],[0.5555555555555556,\"#d8576b\"],[0.6666666666666666,\"#ed7953\"],[0.7777777777777778,\"#fb9f3a\"],[0.8888888888888888,\"#fdca26\"],[1.0,\"#f0f921\"]]}],\"choropleth\":[{\"type\":\"choropleth\",\"colorbar\":{\"outlinewidth\":0,\"ticks\":\"\"}}],\"histogram2d\":[{\"type\":\"histogram2d\",\"colorbar\":{\"outlinewidth\":0,\"ticks\":\"\"},\"colorscale\":[[0.0,\"#0d0887\"],[0.1111111111111111,\"#46039f\"],[0.2222222222222222,\"#7201a8\"],[0.3333333333333333,\"#9c179e\"],[0.4444444444444444,\"#bd3786\"],[0.5555555555555556,\"#d8576b\"],[0.6666666666666666,\"#ed7953\"],[0.7777777777777778,\"#fb9f3a\"],[0.8888888888888888,\"#fdca26\"],[1.0,\"#f0f921\"]]}],\"heatmap\":[{\"type\":\"heatmap\",\"colorbar\":{\"outlinewidth\":0,\"ticks\":\"\"},\"colorscale\":[[0.0,\"#0d0887\"],[0.1111111111111111,\"#46039f\"],[0.2222222222222222,\"#7201a8\"],[0.3333333333333333,\"#9c179e\"],[0.4444444444444444,\"#bd3786\"],[0.5555555555555556,\"#d8576b\"],[0.6666666666666666,\"#ed7953\"],[0.7777777777777778,\"#fb9f3a\"],[0.8888888888888888,\"#fdca26\"],[1.0,\"#f0f921\"]]}],\"heatmapgl\":[{\"type\":\"heatmapgl\",\"colorbar\":{\"outlinewidth\":0,\"ticks\":\"\"},\"colorscale\":[[0.0,\"#0d0887\"],[0.1111111111111111,\"#46039f\"],[0.2222222222222222,\"#7201a8\"],[0.3333333333333333,\"#9c179e\"],[0.4444444444444444,\"#bd3786\"],[0.5555555555555556,\"#d8576b\"],[0.6666666666666666,\"#ed7953\"],[0.7777777777777778,\"#fb9f3a\"],[0.8888888888888888,\"#fdca26\"],[1.0,\"#f0f921\"]]}],\"contourcarpet\":[{\"type\":\"contourcarpet\",\"colorbar\":{\"outlinewidth\":0,\"ticks\":\"\"}}],\"contour\":[{\"type\":\"contour\",\"colorbar\":{\"outlinewidth\":0,\"ticks\":\"\"},\"colorscale\":[[0.0,\"#0d0887\"],[0.1111111111111111,\"#46039f\"],[0.2222222222222222,\"#7201a8\"],[0.3333333333333333,\"#9c179e\"],[0.4444444444444444,\"#bd3786\"],[0.5555555555555556,\"#d8576b\"],[0.6666666666666666,\"#ed7953\"],[0.7777777777777778,\"#fb9f3a\"],[0.8888888888888888,\"#fdca26\"],[1.0,\"#f0f921\"]]}],\"surface\":[{\"type\":\"surface\",\"colorbar\":{\"outlinewidth\":0,\"ticks\":\"\"},\"colorscale\":[[0.0,\"#0d0887\"],[0.1111111111111111,\"#46039f\"],[0.2222222222222222,\"#7201a8\"],[0.3333333333333333,\"#9c179e\"],[0.4444444444444444,\"#bd3786\"],[0.5555555555555556,\"#d8576b\"],[0.6666666666666666,\"#ed7953\"],[0.7777777777777778,\"#fb9f3a\"],[0.8888888888888888,\"#fdca26\"],[1.0,\"#f0f921\"]]}],\"mesh3d\":[{\"type\":\"mesh3d\",\"colorbar\":{\"outlinewidth\":0,\"ticks\":\"\"}}],\"scatter\":[{\"fillpattern\":{\"fillmode\":\"overlay\",\"size\":10,\"solidity\":0.2},\"type\":\"scatter\"}],\"parcoords\":[{\"type\":\"parcoords\",\"line\":{\"colorbar\":{\"outlinewidth\":0,\"ticks\":\"\"}}}],\"scatterpolargl\":[{\"type\":\"scatterpolargl\",\"marker\":{\"colorbar\":{\"outlinewidth\":0,\"ticks\":\"\"}}}],\"bar\":[{\"error_x\":{\"color\":\"#2a3f5f\"},\"error_y\":{\"color\":\"#2a3f5f\"},\"marker\":{\"line\":{\"color\":\"#E5ECF6\",\"width\":0.5},\"pattern\":{\"fillmode\":\"overlay\",\"size\":10,\"solidity\":0.2}},\"type\":\"bar\"}],\"scattergeo\":[{\"type\":\"scattergeo\",\"marker\":{\"colorbar\":{\"outlinewidth\":0,\"ticks\":\"\"}}}],\"scatterpolar\":[{\"type\":\"scatterpolar\",\"marker\":{\"colorbar\":{\"outlinewidth\":0,\"ticks\":\"\"}}}],\"histogram\":[{\"marker\":{\"pattern\":{\"fillmode\":\"overlay\",\"size\":10,\"solidity\":0.2}},\"type\":\"histogram\"}],\"scattergl\":[{\"type\":\"scattergl\",\"marker\":{\"colorbar\":{\"outlinewidth\":0,\"ticks\":\"\"}}}],\"scatter3d\":[{\"type\":\"scatter3d\",\"line\":{\"colorbar\":{\"outlinewidth\":0,\"ticks\":\"\"}},\"marker\":{\"colorbar\":{\"outlinewidth\":0,\"ticks\":\"\"}}}],\"scattermapbox\":[{\"type\":\"scattermapbox\",\"marker\":{\"colorbar\":{\"outlinewidth\":0,\"ticks\":\"\"}}}],\"scatterternary\":[{\"type\":\"scatterternary\",\"marker\":{\"colorbar\":{\"outlinewidth\":0,\"ticks\":\"\"}}}],\"scattercarpet\":[{\"type\":\"scattercarpet\",\"marker\":{\"colorbar\":{\"outlinewidth\":0,\"ticks\":\"\"}}}],\"carpet\":[{\"aaxis\":{\"endlinecolor\":\"#2a3f5f\",\"gridcolor\":\"white\",\"linecolor\":\"white\",\"minorgridcolor\":\"white\",\"startlinecolor\":\"#2a3f5f\"},\"baxis\":{\"endlinecolor\":\"#2a3f5f\",\"gridcolor\":\"white\",\"linecolor\":\"white\",\"minorgridcolor\":\"white\",\"startlinecolor\":\"#2a3f5f\"},\"type\":\"carpet\"}],\"table\":[{\"cells\":{\"fill\":{\"color\":\"#EBF0F8\"},\"line\":{\"color\":\"white\"}},\"header\":{\"fill\":{\"color\":\"#C8D4E3\"},\"line\":{\"color\":\"white\"}},\"type\":\"table\"}],\"barpolar\":[{\"marker\":{\"line\":{\"color\":\"#E5ECF6\",\"width\":0.5},\"pattern\":{\"fillmode\":\"overlay\",\"size\":10,\"solidity\":0.2}},\"type\":\"barpolar\"}],\"pie\":[{\"automargin\":true,\"type\":\"pie\"}]},\"layout\":{\"autotypenumbers\":\"strict\",\"colorway\":[\"#636efa\",\"#EF553B\",\"#00cc96\",\"#ab63fa\",\"#FFA15A\",\"#19d3f3\",\"#FF6692\",\"#B6E880\",\"#FF97FF\",\"#FECB52\"],\"font\":{\"color\":\"#2a3f5f\"},\"hovermode\":\"closest\",\"hoverlabel\":{\"align\":\"left\"},\"paper_bgcolor\":\"white\",\"plot_bgcolor\":\"#E5ECF6\",\"polar\":{\"bgcolor\":\"#E5ECF6\",\"angularaxis\":{\"gridcolor\":\"white\",\"linecolor\":\"white\",\"ticks\":\"\"},\"radialaxis\":{\"gridcolor\":\"white\",\"linecolor\":\"white\",\"ticks\":\"\"}},\"ternary\":{\"bgcolor\":\"#E5ECF6\",\"aaxis\":{\"gridcolor\":\"white\",\"linecolor\":\"white\",\"ticks\":\"\"},\"baxis\":{\"gridcolor\":\"white\",\"linecolor\":\"white\",\"ticks\":\"\"},\"caxis\":{\"gridcolor\":\"white\",\"linecolor\":\"white\",\"ticks\":\"\"}},\"coloraxis\":{\"colorbar\":{\"outlinewidth\":0,\"ticks\":\"\"}},\"colorscale\":{\"sequential\":[[0.0,\"#0d0887\"],[0.1111111111111111,\"#46039f\"],[0.2222222222222222,\"#7201a8\"],[0.3333333333333333,\"#9c179e\"],[0.4444444444444444,\"#bd3786\"],[0.5555555555555556,\"#d8576b\"],[0.6666666666666666,\"#ed7953\"],[0.7777777777777778,\"#fb9f3a\"],[0.8888888888888888,\"#fdca26\"],[1.0,\"#f0f921\"]],\"sequentialminus\":[[0.0,\"#0d0887\"],[0.1111111111111111,\"#46039f\"],[0.2222222222222222,\"#7201a8\"],[0.3333333333333333,\"#9c179e\"],[0.4444444444444444,\"#bd3786\"],[0.5555555555555556,\"#d8576b\"],[0.6666666666666666,\"#ed7953\"],[0.7777777777777778,\"#fb9f3a\"],[0.8888888888888888,\"#fdca26\"],[1.0,\"#f0f921\"]],\"diverging\":[[0,\"#8e0152\"],[0.1,\"#c51b7d\"],[0.2,\"#de77ae\"],[0.3,\"#f1b6da\"],[0.4,\"#fde0ef\"],[0.5,\"#f7f7f7\"],[0.6,\"#e6f5d0\"],[0.7,\"#b8e186\"],[0.8,\"#7fbc41\"],[0.9,\"#4d9221\"],[1,\"#276419\"]]},\"xaxis\":{\"gridcolor\":\"white\",\"linecolor\":\"white\",\"ticks\":\"\",\"title\":{\"standoff\":15},\"zerolinecolor\":\"white\",\"automargin\":true,\"zerolinewidth\":2},\"yaxis\":{\"gridcolor\":\"white\",\"linecolor\":\"white\",\"ticks\":\"\",\"title\":{\"standoff\":15},\"zerolinecolor\":\"white\",\"automargin\":true,\"zerolinewidth\":2},\"scene\":{\"xaxis\":{\"backgroundcolor\":\"#E5ECF6\",\"gridcolor\":\"white\",\"linecolor\":\"white\",\"showbackground\":true,\"ticks\":\"\",\"zerolinecolor\":\"white\",\"gridwidth\":2},\"yaxis\":{\"backgroundcolor\":\"#E5ECF6\",\"gridcolor\":\"white\",\"linecolor\":\"white\",\"showbackground\":true,\"ticks\":\"\",\"zerolinecolor\":\"white\",\"gridwidth\":2},\"zaxis\":{\"backgroundcolor\":\"#E5ECF6\",\"gridcolor\":\"white\",\"linecolor\":\"white\",\"showbackground\":true,\"ticks\":\"\",\"zerolinecolor\":\"white\",\"gridwidth\":2}},\"shapedefaults\":{\"line\":{\"color\":\"#2a3f5f\"}},\"annotationdefaults\":{\"arrowcolor\":\"#2a3f5f\",\"arrowhead\":0,\"arrowwidth\":1},\"geo\":{\"bgcolor\":\"white\",\"landcolor\":\"#E5ECF6\",\"subunitcolor\":\"white\",\"showland\":true,\"showlakes\":true,\"lakecolor\":\"white\"},\"title\":{\"x\":0.05},\"mapbox\":{\"style\":\"light\"}}},\"xaxis\":{\"anchor\":\"y\",\"domain\":[0.0,1.0],\"title\":{\"text\":\"x\"}},\"yaxis\":{\"anchor\":\"x\",\"domain\":[0.0,1.0],\"title\":{\"text\":\"y\"}},\"legend\":{\"tracegroupgap\":0},\"margin\":{\"t\":60}},                        {\"responsive\": true}                    ).then(function(){\n",
       "                            \n",
       "var gd = document.getElementById('963572a7-1076-4231-81cb-93dac88abadf');\n",
       "var x = new MutationObserver(function (mutations, observer) {{\n",
       "        var display = window.getComputedStyle(gd).display;\n",
       "        if (!display || display === 'none') {{\n",
       "            console.log([gd, 'removed!']);\n",
       "            Plotly.purge(gd);\n",
       "            observer.disconnect();\n",
       "        }}\n",
       "}});\n",
       "\n",
       "// Listen for the removal of the full notebook cells\n",
       "var notebookContainer = gd.closest('#notebook-container');\n",
       "if (notebookContainer) {{\n",
       "    x.observe(notebookContainer, {childList: true});\n",
       "}}\n",
       "\n",
       "// Listen for the clearing of the current output cell\n",
       "var outputEl = gd.closest('.output');\n",
       "if (outputEl) {{\n",
       "    x.observe(outputEl, {childList: true});\n",
       "}}\n",
       "\n",
       "                        })                };                });            </script>        </div>"
      ]
     },
     "metadata": {},
     "output_type": "display_data"
    }
   ],
   "source": [
    "from plotly import express\n",
    "\n",
    "express.line(y=sorted(linreg.predict(X=X_test) - neural.predict(X=X_test))).show()"
   ]
  },
  {
   "cell_type": "code",
   "execution_count": 15,
   "id": "56a0b7b0",
   "metadata": {
    "execution": {
     "iopub.execute_input": "2024-05-05T14:02:00.786301Z",
     "iopub.status.busy": "2024-05-05T14:02:00.785875Z",
     "iopub.status.idle": "2024-05-05T14:02:24.832493Z",
     "shell.execute_reply": "2024-05-05T14:02:24.830627Z"
    },
    "papermill": {
     "duration": 24.067965,
     "end_time": "2024-05-05T14:02:24.838641",
     "exception": false,
     "start_time": "2024-05-05T14:02:00.770676",
     "status": "completed"
    },
    "tags": []
   },
   "outputs": [],
   "source": [
    "SUBMISSION = '/kaggle/working/submission.csv'\n",
    "\n",
    "neural.fit(X=df[numerical_columns], y=df[TARGET])\n",
    "pd.DataFrame(data={'Id': test_df['Id'], 'SalePrice': neural.predict(X=test_df[numerical_columns])}).to_csv(path_or_buf=SUBMISSION, index=False)"
   ]
  },
  {
   "cell_type": "markdown",
   "id": "90ac8ab8",
   "metadata": {
    "papermill": {
     "duration": 0.035884,
     "end_time": "2024-05-05T14:02:24.909937",
     "exception": false,
     "start_time": "2024-05-05T14:02:24.874053",
     "status": "completed"
    },
    "tags": []
   },
   "source": [
    "A test RMSE of 0.1980 corresponds to a score of 0.2203 for this neural network regressor."
   ]
  },
  {
   "cell_type": "code",
   "execution_count": 16,
   "id": "e1cecba0",
   "metadata": {
    "execution": {
     "iopub.execute_input": "2024-05-05T14:02:24.955133Z",
     "iopub.status.busy": "2024-05-05T14:02:24.954306Z",
     "iopub.status.idle": "2024-05-05T14:02:24.961249Z",
     "shell.execute_reply": "2024-05-05T14:02:24.959602Z"
    },
    "papermill": {
     "duration": 0.024869,
     "end_time": "2024-05-05T14:02:24.964037",
     "exception": false,
     "start_time": "2024-05-05T14:02:24.939168",
     "status": "completed"
    },
    "tags": []
   },
   "outputs": [],
   "source": [
    "# ridge.fit(X=df[numerical_columns], y=df[TARGET])\n",
    "# pd.DataFrame(data={'Id': test_df['Id'], 'SalePrice': ridge.predict(X=test_df[numerical_columns])}).to_csv(path_or_buf=SUBMISSION, index=False)"
   ]
  },
  {
   "cell_type": "code",
   "execution_count": 17,
   "id": "3d943f24",
   "metadata": {
    "execution": {
     "iopub.execute_input": "2024-05-05T14:02:24.996783Z",
     "iopub.status.busy": "2024-05-05T14:02:24.995391Z",
     "iopub.status.idle": "2024-05-05T14:02:25.241408Z",
     "shell.execute_reply": "2024-05-05T14:02:25.239651Z"
    },
    "papermill": {
     "duration": 0.264382,
     "end_time": "2024-05-05T14:02:25.244321",
     "exception": false,
     "start_time": "2024-05-05T14:02:24.979939",
     "status": "completed"
    },
    "tags": []
   },
   "outputs": [
    {
     "name": "stdout",
     "output_type": "stream",
     "text": [
      "rmse: 0.2179\n"
     ]
    },
    {
     "data": {
      "text/html": [
       "<div>                            <div id=\"81b60195-2a1a-4745-8c91-54ebd342d164\" class=\"plotly-graph-div\" style=\"height:525px; width:100%;\"></div>            <script type=\"text/javascript\">                require([\"plotly\"], function(Plotly) {                    window.PLOTLYENV=window.PLOTLYENV || {};                                    if (document.getElementById(\"81b60195-2a1a-4745-8c91-54ebd342d164\")) {                    Plotly.newPlot(                        \"81b60195-2a1a-4745-8c91-54ebd342d164\",                        [{\"hovertemplate\":\"x=%{x}\\u003cbr\\u003ey=%{y}\\u003cextra\\u003e\\u003c\\u002fextra\\u003e\",\"legendgroup\":\"\",\"marker\":{\"color\":\"#636efa\",\"symbol\":\"circle\"},\"mode\":\"markers\",\"name\":\"\",\"orientation\":\"v\",\"showlegend\":false,\"x\":[279678.8262959601,266732.0863344312,161943.56223978027,179975.13892502937,124819.21327714232,270911.3733186425,241809.6737700043,78657.13874903508,172661.92338073434,127198.14151728386,284921.06425740954,244830.57607431308,54349.53067777795,107829.87474647234,140388.15559613676,136980.26225306024,173875.83674108092,286966.55414725665,217591.7479282074,120892.66267907154,234812.73931980645,150133.89019601664,137645.93244383676,223948.83059259574,110432.55154280359,213409.64132362837,147048.29224977264,131089.80796278757,315616.3503377625,189034.91289190017,221470.84889289527,193334.01177381218,173404.73423533462,158465.17789799016,191473.79701486992,299127.2006526666,76236.30125573196,223968.19393951987,243656.37533242576,133705.69649538852,279872.50231896003,270092.37681260833,113940.80619924149,268500.5362218985,131465.95543257555,169390.71454102598,113283.2656915508,149055.85914160352,233768.65126011358,167095.71752762952,205775.8330942415,118532.6189341516,215972.79138369323,135010.04082746472,52223.292811841646,255639.63631472888,126038.49893848435,164628.69875231537,219953.7366331186,133943.9825933245,204295.84614824364,141514.75450774853,156288.24946918886,85288.36967035971,210139.24466316955,67270.04180055478,225222.59609774005,169799.9080572889,62949.664278968296,282739.55796832754,287296.4675675408,191363.1753845195,234915.84531847364,164010.75865235197,89242.58304217568,161145.73123933206,83742.07328380458,259345.34474749933,141897.39309448277,414625.7513010652,268368.64739726775,211112.1032269445,112988.97430154606,132993.62045511173,135057.5068201995,148116.99691265356,187756.5703787044,185802.55446206557,103867.45078906813,192566.48764161376,158215.33607694838,126844.05340109643,131966.30734561413,93665.16456217639,185158.02755244204,136795.86526770127,149844.84107578563,202460.50969255343,154862.32198790257,123949.75342376798,103714.62691206153,277097.86333633284,104124.80020652415,326800.3701483592,166959.29077333695,148711.36843536788,64720.978641345166,233675.7752321863,142637.04493502324,130531.96016999218,111632.24380056292,133367.40619629977,193496.0037157709,175040.14590828237,154022.7019248742,183758.61053430784,191668.19332211936,75653.51456762542,133779.07517658686,250667.41401696054,196085.13926555257,135120.26076256286,203801.83515765506,146381.7153107155,65137.23274500802,89025.2343882274,177789.68628958275,194089.62882431614,219713.78660024033,148242.36299063906,96957.4948585218,126741.5849263267,177218.2299609091,163150.97514979698,121811.20993709873,130900.45624996087,171474.47806743666,185389.22392857703,200198.25966166594,256109.1831987549,215923.57382541482,303979.14386675344,186072.88194321533,261656.55919634772,170873.18590816582,243646.1442684044,322417.52381731523,217804.01991159556,256966.49704890454,223425.50807420252,114348.90623410343,300214.1287759248,221398.4572702208,257736.5340485971,143873.34846929443,148533.5371112146,389994.29760708695,335888.3064940019,126972.51124678599,175652.9792670397,149208.4289134674,284382.2376502877,109970.89206387359,200244.70243744162,262454.25197416206,173203.58249395975,248859.82199674187,82686.91470438882,325717.15287645604,242567.84679178684,177471.255446148,116703.96800191444,270401.01193606714,208871.12914911262,109561.61982229387,246421.07590688008,136821.23323436623,139381.80775705836,196150.99179812532,206231.5348504347,123751.28414596844,230185.15548486786,120922.71699830372,170038.39038277685,262434.5777724985,229648.50861544296,32895.8353830289,147219.2683913919,116475.5227654826,292035.48204285104,96223.75238948426,92438.54513943609,173213.47192274436,292564.4383851609,110492.3448195266,195589.10832494148,144851.52680275618,324150.3325555661,163643.30578636774,148073.39791522303,133389.88886542327,239513.55079797248,125837.18429700233,109918.99245931179,204358.88669307355,145184.31505192944,92415.91410546307,300890.81485162606,356831.5513979611,121258.36261101253,210356.67368493084,203224.2970053726,189391.2254898313,165205.4198577471,148686.04785443208,216131.51835587464,321539.28885867714,168986.17248179152,124486.14317204291,255163.1390919959,249144.9600709856,284907.87230297213,153219.37913664774,215681.76134053874,117691.04466866475,255858.59610144084,192425.11587640288,165059.948985637,232263.34587262728,272894.010347912,172521.38552467775,91161.61996445566,72650.63642045553,152158.46573461365,144917.0482228308,259837.00947747822,115279.98085146118,288850.5933570479,89644.83180770132,137903.4981818273,141439.5994321502,108072.03999401524,180625.91404413705,74019.06290365034,191376.5589451244,178448.79375448544,146251.01598107902,286498.2679537224,225474.8946096833,185754.97969496256,209570.2903205519,335916.31317070825,156822.16587995947,161840.8987858229,277535.84685539675,278290.69705807755,229137.10717093683,203453.06520753802,224860.0501512757,113011.45063947118,99202.94898795366,154721.08470526128,154610.04596361483,157538.51659082313,80523.20229470998,143474.743418156,150582.4367411998,94433.1149005469,197830.91143222596,134630.37233256205,217511.76887897978,54625.62729350722,124624.47156465583,176516.95969341946,78061.74361794908,211322.52000085503,124976.48672616563,177163.21792716457,124179.53812096425,229167.06331510498,135539.4557941291,48426.07941110036,188868.46700831607,214977.65315924794,248891.6693124639,51571.257071324915,354440.34467452613,237263.2439432502,211232.9534063951,199830.59081793542,144404.88195834495,203156.67756382172],\"xaxis\":\"x\",\"y\":[290000.0,260000.0,139500.0,140000.0,119000.0,255000.0,214000.0,135750.0,160000.0,159434.0,268000.0,235000.0,84000.0,139000.0,115000.0,158000.0,152000.0,403000.0,170000.0,88000.0,224000.0,155000.0,127000.0,193500.0,145000.0,193000.0,140000.0,122900.0,446261.0,154000.0,187750.0,157000.0,165500.0,151000.0,172500.0,395192.0,135750.0,185500.0,240000.0,156000.0,320000.0,228950.0,112500.0,295493.0,195000.0,165150.0,98300.0,159000.0,225000.0,133000.0,145250.0,135000.0,241000.0,143000.0,87500.0,270000.0,144900.0,259500.0,188000.0,118964.0,192000.0,143900.0,84500.0,119000.0,217500.0,95000.0,235000.0,185000.0,147000.0,252000.0,336000.0,151000.0,221000.0,143000.0,108000.0,160000.0,102000.0,295493.0,98000.0,755000.0,266000.0,195400.0,115000.0,159434.0,157900.0,143000.0,148000.0,178000.0,88000.0,200500.0,149700.0,126175.0,104900.0,128000.0,139500.0,137500.0,188000.0,204000.0,149000.0,144000.0,117000.0,326000.0,94500.0,380000.0,171000.0,150000.0,153500.0,250000.0,122900.0,120000.0,123000.0,144000.0,169000.0,159000.0,159434.0,179200.0,165500.0,80000.0,143000.0,255000.0,179200.0,120000.0,200141.0,119500.0,100000.0,110000.0,143900.0,217500.0,219500.0,113000.0,101000.0,139950.0,152000.0,167900.0,137000.0,139000.0,163500.0,167000.0,200500.0,252000.0,187500.0,426000.0,171000.0,202500.0,177500.0,201000.0,402861.0,190000.0,236000.0,187750.0,106000.0,369900.0,259000.0,274900.0,139000.0,124000.0,325000.0,377426.0,170000.0,173500.0,140000.0,266000.0,117500.0,239000.0,266000.0,173000.0,262280.0,89471.0,176000.0,219500.0,149000.0,137000.0,147000.0,214500.0,134900.0,271900.0,146800.0,155000.0,145000.0,280000.0,143000.0,205950.0,87000.0,128000.0,295493.0,221500.0,67000.0,148000.0,134500.0,392500.0,123000.0,128000.0,188700.0,369900.0,128000.0,169500.0,128000.0,276000.0,161750.0,150000.0,129000.0,275000.0,139950.0,128500.0,179600.0,158500.0,116000.0,320000.0,325000.0,128000.0,271900.0,164990.0,196000.0,124000.0,159500.0,193000.0,147000.0,160000.0,138000.0,305000.0,210000.0,337000.0,175000.0,214000.0,143900.0,255000.0,195000.0,136000.0,200000.0,255000.0,181000.0,84900.0,108000.0,159434.0,140000.0,295493.0,120000.0,336000.0,62383.0,148000.0,139500.0,126000.0,201000.0,108000.0,190000.0,152000.0,145000.0,303477.0,215000.0,180000.0,175000.0,345000.0,155000.0,143500.0,255900.0,337000.0,216837.0,187500.0,212000.0,82000.0,94500.0,127000.0,189950.0,151000.0,135750.0,149000.0,147500.0,91000.0,200000.0,119000.0,185000.0,79900.0,145000.0,163990.0,35311.0,193500.0,154900.0,165000.0,132000.0,230000.0,148000.0,100000.0,172000.0,117000.0,220000.0,68500.0,345000.0,164990.0,183000.0,164700.0,135000.0,180500.0],\"yaxis\":\"y\",\"type\":\"scatter\"}],                        {\"template\":{\"data\":{\"histogram2dcontour\":[{\"type\":\"histogram2dcontour\",\"colorbar\":{\"outlinewidth\":0,\"ticks\":\"\"},\"colorscale\":[[0.0,\"#0d0887\"],[0.1111111111111111,\"#46039f\"],[0.2222222222222222,\"#7201a8\"],[0.3333333333333333,\"#9c179e\"],[0.4444444444444444,\"#bd3786\"],[0.5555555555555556,\"#d8576b\"],[0.6666666666666666,\"#ed7953\"],[0.7777777777777778,\"#fb9f3a\"],[0.8888888888888888,\"#fdca26\"],[1.0,\"#f0f921\"]]}],\"choropleth\":[{\"type\":\"choropleth\",\"colorbar\":{\"outlinewidth\":0,\"ticks\":\"\"}}],\"histogram2d\":[{\"type\":\"histogram2d\",\"colorbar\":{\"outlinewidth\":0,\"ticks\":\"\"},\"colorscale\":[[0.0,\"#0d0887\"],[0.1111111111111111,\"#46039f\"],[0.2222222222222222,\"#7201a8\"],[0.3333333333333333,\"#9c179e\"],[0.4444444444444444,\"#bd3786\"],[0.5555555555555556,\"#d8576b\"],[0.6666666666666666,\"#ed7953\"],[0.7777777777777778,\"#fb9f3a\"],[0.8888888888888888,\"#fdca26\"],[1.0,\"#f0f921\"]]}],\"heatmap\":[{\"type\":\"heatmap\",\"colorbar\":{\"outlinewidth\":0,\"ticks\":\"\"},\"colorscale\":[[0.0,\"#0d0887\"],[0.1111111111111111,\"#46039f\"],[0.2222222222222222,\"#7201a8\"],[0.3333333333333333,\"#9c179e\"],[0.4444444444444444,\"#bd3786\"],[0.5555555555555556,\"#d8576b\"],[0.6666666666666666,\"#ed7953\"],[0.7777777777777778,\"#fb9f3a\"],[0.8888888888888888,\"#fdca26\"],[1.0,\"#f0f921\"]]}],\"heatmapgl\":[{\"type\":\"heatmapgl\",\"colorbar\":{\"outlinewidth\":0,\"ticks\":\"\"},\"colorscale\":[[0.0,\"#0d0887\"],[0.1111111111111111,\"#46039f\"],[0.2222222222222222,\"#7201a8\"],[0.3333333333333333,\"#9c179e\"],[0.4444444444444444,\"#bd3786\"],[0.5555555555555556,\"#d8576b\"],[0.6666666666666666,\"#ed7953\"],[0.7777777777777778,\"#fb9f3a\"],[0.8888888888888888,\"#fdca26\"],[1.0,\"#f0f921\"]]}],\"contourcarpet\":[{\"type\":\"contourcarpet\",\"colorbar\":{\"outlinewidth\":0,\"ticks\":\"\"}}],\"contour\":[{\"type\":\"contour\",\"colorbar\":{\"outlinewidth\":0,\"ticks\":\"\"},\"colorscale\":[[0.0,\"#0d0887\"],[0.1111111111111111,\"#46039f\"],[0.2222222222222222,\"#7201a8\"],[0.3333333333333333,\"#9c179e\"],[0.4444444444444444,\"#bd3786\"],[0.5555555555555556,\"#d8576b\"],[0.6666666666666666,\"#ed7953\"],[0.7777777777777778,\"#fb9f3a\"],[0.8888888888888888,\"#fdca26\"],[1.0,\"#f0f921\"]]}],\"surface\":[{\"type\":\"surface\",\"colorbar\":{\"outlinewidth\":0,\"ticks\":\"\"},\"colorscale\":[[0.0,\"#0d0887\"],[0.1111111111111111,\"#46039f\"],[0.2222222222222222,\"#7201a8\"],[0.3333333333333333,\"#9c179e\"],[0.4444444444444444,\"#bd3786\"],[0.5555555555555556,\"#d8576b\"],[0.6666666666666666,\"#ed7953\"],[0.7777777777777778,\"#fb9f3a\"],[0.8888888888888888,\"#fdca26\"],[1.0,\"#f0f921\"]]}],\"mesh3d\":[{\"type\":\"mesh3d\",\"colorbar\":{\"outlinewidth\":0,\"ticks\":\"\"}}],\"scatter\":[{\"fillpattern\":{\"fillmode\":\"overlay\",\"size\":10,\"solidity\":0.2},\"type\":\"scatter\"}],\"parcoords\":[{\"type\":\"parcoords\",\"line\":{\"colorbar\":{\"outlinewidth\":0,\"ticks\":\"\"}}}],\"scatterpolargl\":[{\"type\":\"scatterpolargl\",\"marker\":{\"colorbar\":{\"outlinewidth\":0,\"ticks\":\"\"}}}],\"bar\":[{\"error_x\":{\"color\":\"#2a3f5f\"},\"error_y\":{\"color\":\"#2a3f5f\"},\"marker\":{\"line\":{\"color\":\"#E5ECF6\",\"width\":0.5},\"pattern\":{\"fillmode\":\"overlay\",\"size\":10,\"solidity\":0.2}},\"type\":\"bar\"}],\"scattergeo\":[{\"type\":\"scattergeo\",\"marker\":{\"colorbar\":{\"outlinewidth\":0,\"ticks\":\"\"}}}],\"scatterpolar\":[{\"type\":\"scatterpolar\",\"marker\":{\"colorbar\":{\"outlinewidth\":0,\"ticks\":\"\"}}}],\"histogram\":[{\"marker\":{\"pattern\":{\"fillmode\":\"overlay\",\"size\":10,\"solidity\":0.2}},\"type\":\"histogram\"}],\"scattergl\":[{\"type\":\"scattergl\",\"marker\":{\"colorbar\":{\"outlinewidth\":0,\"ticks\":\"\"}}}],\"scatter3d\":[{\"type\":\"scatter3d\",\"line\":{\"colorbar\":{\"outlinewidth\":0,\"ticks\":\"\"}},\"marker\":{\"colorbar\":{\"outlinewidth\":0,\"ticks\":\"\"}}}],\"scattermapbox\":[{\"type\":\"scattermapbox\",\"marker\":{\"colorbar\":{\"outlinewidth\":0,\"ticks\":\"\"}}}],\"scatterternary\":[{\"type\":\"scatterternary\",\"marker\":{\"colorbar\":{\"outlinewidth\":0,\"ticks\":\"\"}}}],\"scattercarpet\":[{\"type\":\"scattercarpet\",\"marker\":{\"colorbar\":{\"outlinewidth\":0,\"ticks\":\"\"}}}],\"carpet\":[{\"aaxis\":{\"endlinecolor\":\"#2a3f5f\",\"gridcolor\":\"white\",\"linecolor\":\"white\",\"minorgridcolor\":\"white\",\"startlinecolor\":\"#2a3f5f\"},\"baxis\":{\"endlinecolor\":\"#2a3f5f\",\"gridcolor\":\"white\",\"linecolor\":\"white\",\"minorgridcolor\":\"white\",\"startlinecolor\":\"#2a3f5f\"},\"type\":\"carpet\"}],\"table\":[{\"cells\":{\"fill\":{\"color\":\"#EBF0F8\"},\"line\":{\"color\":\"white\"}},\"header\":{\"fill\":{\"color\":\"#C8D4E3\"},\"line\":{\"color\":\"white\"}},\"type\":\"table\"}],\"barpolar\":[{\"marker\":{\"line\":{\"color\":\"#E5ECF6\",\"width\":0.5},\"pattern\":{\"fillmode\":\"overlay\",\"size\":10,\"solidity\":0.2}},\"type\":\"barpolar\"}],\"pie\":[{\"automargin\":true,\"type\":\"pie\"}]},\"layout\":{\"autotypenumbers\":\"strict\",\"colorway\":[\"#636efa\",\"#EF553B\",\"#00cc96\",\"#ab63fa\",\"#FFA15A\",\"#19d3f3\",\"#FF6692\",\"#B6E880\",\"#FF97FF\",\"#FECB52\"],\"font\":{\"color\":\"#2a3f5f\"},\"hovermode\":\"closest\",\"hoverlabel\":{\"align\":\"left\"},\"paper_bgcolor\":\"white\",\"plot_bgcolor\":\"#E5ECF6\",\"polar\":{\"bgcolor\":\"#E5ECF6\",\"angularaxis\":{\"gridcolor\":\"white\",\"linecolor\":\"white\",\"ticks\":\"\"},\"radialaxis\":{\"gridcolor\":\"white\",\"linecolor\":\"white\",\"ticks\":\"\"}},\"ternary\":{\"bgcolor\":\"#E5ECF6\",\"aaxis\":{\"gridcolor\":\"white\",\"linecolor\":\"white\",\"ticks\":\"\"},\"baxis\":{\"gridcolor\":\"white\",\"linecolor\":\"white\",\"ticks\":\"\"},\"caxis\":{\"gridcolor\":\"white\",\"linecolor\":\"white\",\"ticks\":\"\"}},\"coloraxis\":{\"colorbar\":{\"outlinewidth\":0,\"ticks\":\"\"}},\"colorscale\":{\"sequential\":[[0.0,\"#0d0887\"],[0.1111111111111111,\"#46039f\"],[0.2222222222222222,\"#7201a8\"],[0.3333333333333333,\"#9c179e\"],[0.4444444444444444,\"#bd3786\"],[0.5555555555555556,\"#d8576b\"],[0.6666666666666666,\"#ed7953\"],[0.7777777777777778,\"#fb9f3a\"],[0.8888888888888888,\"#fdca26\"],[1.0,\"#f0f921\"]],\"sequentialminus\":[[0.0,\"#0d0887\"],[0.1111111111111111,\"#46039f\"],[0.2222222222222222,\"#7201a8\"],[0.3333333333333333,\"#9c179e\"],[0.4444444444444444,\"#bd3786\"],[0.5555555555555556,\"#d8576b\"],[0.6666666666666666,\"#ed7953\"],[0.7777777777777778,\"#fb9f3a\"],[0.8888888888888888,\"#fdca26\"],[1.0,\"#f0f921\"]],\"diverging\":[[0,\"#8e0152\"],[0.1,\"#c51b7d\"],[0.2,\"#de77ae\"],[0.3,\"#f1b6da\"],[0.4,\"#fde0ef\"],[0.5,\"#f7f7f7\"],[0.6,\"#e6f5d0\"],[0.7,\"#b8e186\"],[0.8,\"#7fbc41\"],[0.9,\"#4d9221\"],[1,\"#276419\"]]},\"xaxis\":{\"gridcolor\":\"white\",\"linecolor\":\"white\",\"ticks\":\"\",\"title\":{\"standoff\":15},\"zerolinecolor\":\"white\",\"automargin\":true,\"zerolinewidth\":2},\"yaxis\":{\"gridcolor\":\"white\",\"linecolor\":\"white\",\"ticks\":\"\",\"title\":{\"standoff\":15},\"zerolinecolor\":\"white\",\"automargin\":true,\"zerolinewidth\":2},\"scene\":{\"xaxis\":{\"backgroundcolor\":\"#E5ECF6\",\"gridcolor\":\"white\",\"linecolor\":\"white\",\"showbackground\":true,\"ticks\":\"\",\"zerolinecolor\":\"white\",\"gridwidth\":2},\"yaxis\":{\"backgroundcolor\":\"#E5ECF6\",\"gridcolor\":\"white\",\"linecolor\":\"white\",\"showbackground\":true,\"ticks\":\"\",\"zerolinecolor\":\"white\",\"gridwidth\":2},\"zaxis\":{\"backgroundcolor\":\"#E5ECF6\",\"gridcolor\":\"white\",\"linecolor\":\"white\",\"showbackground\":true,\"ticks\":\"\",\"zerolinecolor\":\"white\",\"gridwidth\":2}},\"shapedefaults\":{\"line\":{\"color\":\"#2a3f5f\"}},\"annotationdefaults\":{\"arrowcolor\":\"#2a3f5f\",\"arrowhead\":0,\"arrowwidth\":1},\"geo\":{\"bgcolor\":\"white\",\"landcolor\":\"#E5ECF6\",\"subunitcolor\":\"white\",\"showland\":true,\"showlakes\":true,\"lakecolor\":\"white\"},\"title\":{\"x\":0.05},\"mapbox\":{\"style\":\"light\"}}},\"xaxis\":{\"anchor\":\"y\",\"domain\":[0.0,1.0],\"title\":{\"text\":\"x\"}},\"yaxis\":{\"anchor\":\"x\",\"domain\":[0.0,1.0],\"title\":{\"text\":\"y\"}},\"legend\":{\"tracegroupgap\":0},\"margin\":{\"t\":60}},                        {\"responsive\": true}                    ).then(function(){\n",
       "                            \n",
       "var gd = document.getElementById('81b60195-2a1a-4745-8c91-54ebd342d164');\n",
       "var x = new MutationObserver(function (mutations, observer) {{\n",
       "        var display = window.getComputedStyle(gd).display;\n",
       "        if (!display || display === 'none') {{\n",
       "            console.log([gd, 'removed!']);\n",
       "            Plotly.purge(gd);\n",
       "            observer.disconnect();\n",
       "        }}\n",
       "}});\n",
       "\n",
       "// Listen for the removal of the full notebook cells\n",
       "var notebookContainer = gd.closest('#notebook-container');\n",
       "if (notebookContainer) {{\n",
       "    x.observe(notebookContainer, {childList: true});\n",
       "}}\n",
       "\n",
       "// Listen for the clearing of the current output cell\n",
       "var outputEl = gd.closest('.output');\n",
       "if (outputEl) {{\n",
       "    x.observe(outputEl, {childList: true});\n",
       "}}\n",
       "\n",
       "                        })                };                });            </script>        </div>"
      ]
     },
     "metadata": {},
     "output_type": "display_data"
    }
   ],
   "source": [
    "from sklearn.tree import DecisionTreeRegressor\n",
    "\n",
    "tree = DecisionTreeRegressor(criterion='squared_error', splitter='best', max_depth=None, min_samples_split=2, min_samples_leaf=1,\n",
    "                             min_weight_fraction_leaf=0.0, max_features=None, random_state=2024, max_leaf_nodes=None,\n",
    "                             min_impurity_decrease=0.0, ccp_alpha=0.0, ).fit(X=X_train, y=y_train)\n",
    "print('rmse: {:5.4f}'.format(mean_squared_error(squared=False, y_true=np.log(y_test), y_pred=np.log(tree.predict(X=X_test)))))\n",
    "express.scatter(x=linreg.predict(X=X_test), y=tree.predict(X=X_test), log_x=False, log_y=False).show()"
   ]
  },
  {
   "cell_type": "code",
   "execution_count": 18,
   "id": "7ff02c22",
   "metadata": {
    "execution": {
     "iopub.execute_input": "2024-05-05T14:02:25.272204Z",
     "iopub.status.busy": "2024-05-05T14:02:25.271611Z",
     "iopub.status.idle": "2024-05-05T14:02:25.391267Z",
     "shell.execute_reply": "2024-05-05T14:02:25.389744Z"
    },
    "papermill": {
     "duration": 0.137788,
     "end_time": "2024-05-05T14:02:25.394681",
     "exception": false,
     "start_time": "2024-05-05T14:02:25.256893",
     "status": "completed"
    },
    "tags": []
   },
   "outputs": [
    {
     "data": {
      "text/html": [
       "<div>                            <div id=\"6c5b8dd9-0d6c-42b3-9fba-45785dfaa25f\" class=\"plotly-graph-div\" style=\"height:525px; width:100%;\"></div>            <script type=\"text/javascript\">                require([\"plotly\"], function(Plotly) {                    window.PLOTLYENV=window.PLOTLYENV || {};                                    if (document.getElementById(\"6c5b8dd9-0d6c-42b3-9fba-45785dfaa25f\")) {                    Plotly.newPlot(                        \"6c5b8dd9-0d6c-42b3-9fba-45785dfaa25f\",                        [{\"alignmentgroup\":\"True\",\"bingroup\":\"x\",\"histfunc\":\"sum\",\"hovertemplate\":\"x=%{x}\\u003cbr\\u003esum of y=%{y}\\u003cextra\\u003e\\u003c\\u002fextra\\u003e\",\"legendgroup\":\"\",\"marker\":{\"color\":\"#636efa\",\"pattern\":{\"shape\":\"\"}},\"name\":\"\",\"offsetgroup\":\"\",\"orientation\":\"v\",\"showlegend\":false,\"x\":[\"MSSubClass\",\"LotArea\",\"OverallQual\",\"OverallCond\",\"YearBuilt\",\"YearRemodAdd\",\"1stFlrSF\",\"2ndFlrSF\",\"LowQualFinSF\",\"GrLivArea\",\"FullBath\",\"HalfBath\",\"BedroomAbvGr\",\"KitchenAbvGr\",\"TotRmsAbvGrd\",\"Fireplaces\",\"WoodDeckSF\",\"OpenPorchSF\",\"EnclosedPorch\",\"3SsnPorch\",\"ScreenPorch\",\"PoolArea\",\"MiscVal\",\"MoSold\",\"YrSold\"],\"xaxis\":\"x\",\"y\":[0.0033011776460655905,0.023028891400270122,0.6491978899424996,0.006497343586897963,0.018338799866590254,0.012595372631715871,0.05655639762126297,0.039850497470744276,4.398408070638932e-6,0.1315823429648861,0.0017867355311070696,0.0011757531220243766,0.0018937363130955868,0.00016433590715743147,0.012669788101616926,0.007674745671938908,0.003359836834936601,0.009292912002420972,0.0013836246342771486,0.003997049086893461,0.003648457059144497,0.000051960974548011596,0.0013199489134590543,0.006984827661743385,0.003643176646633292],\"yaxis\":\"y\",\"type\":\"histogram\"}],                        {\"template\":{\"data\":{\"histogram2dcontour\":[{\"type\":\"histogram2dcontour\",\"colorbar\":{\"outlinewidth\":0,\"ticks\":\"\"},\"colorscale\":[[0.0,\"#0d0887\"],[0.1111111111111111,\"#46039f\"],[0.2222222222222222,\"#7201a8\"],[0.3333333333333333,\"#9c179e\"],[0.4444444444444444,\"#bd3786\"],[0.5555555555555556,\"#d8576b\"],[0.6666666666666666,\"#ed7953\"],[0.7777777777777778,\"#fb9f3a\"],[0.8888888888888888,\"#fdca26\"],[1.0,\"#f0f921\"]]}],\"choropleth\":[{\"type\":\"choropleth\",\"colorbar\":{\"outlinewidth\":0,\"ticks\":\"\"}}],\"histogram2d\":[{\"type\":\"histogram2d\",\"colorbar\":{\"outlinewidth\":0,\"ticks\":\"\"},\"colorscale\":[[0.0,\"#0d0887\"],[0.1111111111111111,\"#46039f\"],[0.2222222222222222,\"#7201a8\"],[0.3333333333333333,\"#9c179e\"],[0.4444444444444444,\"#bd3786\"],[0.5555555555555556,\"#d8576b\"],[0.6666666666666666,\"#ed7953\"],[0.7777777777777778,\"#fb9f3a\"],[0.8888888888888888,\"#fdca26\"],[1.0,\"#f0f921\"]]}],\"heatmap\":[{\"type\":\"heatmap\",\"colorbar\":{\"outlinewidth\":0,\"ticks\":\"\"},\"colorscale\":[[0.0,\"#0d0887\"],[0.1111111111111111,\"#46039f\"],[0.2222222222222222,\"#7201a8\"],[0.3333333333333333,\"#9c179e\"],[0.4444444444444444,\"#bd3786\"],[0.5555555555555556,\"#d8576b\"],[0.6666666666666666,\"#ed7953\"],[0.7777777777777778,\"#fb9f3a\"],[0.8888888888888888,\"#fdca26\"],[1.0,\"#f0f921\"]]}],\"heatmapgl\":[{\"type\":\"heatmapgl\",\"colorbar\":{\"outlinewidth\":0,\"ticks\":\"\"},\"colorscale\":[[0.0,\"#0d0887\"],[0.1111111111111111,\"#46039f\"],[0.2222222222222222,\"#7201a8\"],[0.3333333333333333,\"#9c179e\"],[0.4444444444444444,\"#bd3786\"],[0.5555555555555556,\"#d8576b\"],[0.6666666666666666,\"#ed7953\"],[0.7777777777777778,\"#fb9f3a\"],[0.8888888888888888,\"#fdca26\"],[1.0,\"#f0f921\"]]}],\"contourcarpet\":[{\"type\":\"contourcarpet\",\"colorbar\":{\"outlinewidth\":0,\"ticks\":\"\"}}],\"contour\":[{\"type\":\"contour\",\"colorbar\":{\"outlinewidth\":0,\"ticks\":\"\"},\"colorscale\":[[0.0,\"#0d0887\"],[0.1111111111111111,\"#46039f\"],[0.2222222222222222,\"#7201a8\"],[0.3333333333333333,\"#9c179e\"],[0.4444444444444444,\"#bd3786\"],[0.5555555555555556,\"#d8576b\"],[0.6666666666666666,\"#ed7953\"],[0.7777777777777778,\"#fb9f3a\"],[0.8888888888888888,\"#fdca26\"],[1.0,\"#f0f921\"]]}],\"surface\":[{\"type\":\"surface\",\"colorbar\":{\"outlinewidth\":0,\"ticks\":\"\"},\"colorscale\":[[0.0,\"#0d0887\"],[0.1111111111111111,\"#46039f\"],[0.2222222222222222,\"#7201a8\"],[0.3333333333333333,\"#9c179e\"],[0.4444444444444444,\"#bd3786\"],[0.5555555555555556,\"#d8576b\"],[0.6666666666666666,\"#ed7953\"],[0.7777777777777778,\"#fb9f3a\"],[0.8888888888888888,\"#fdca26\"],[1.0,\"#f0f921\"]]}],\"mesh3d\":[{\"type\":\"mesh3d\",\"colorbar\":{\"outlinewidth\":0,\"ticks\":\"\"}}],\"scatter\":[{\"fillpattern\":{\"fillmode\":\"overlay\",\"size\":10,\"solidity\":0.2},\"type\":\"scatter\"}],\"parcoords\":[{\"type\":\"parcoords\",\"line\":{\"colorbar\":{\"outlinewidth\":0,\"ticks\":\"\"}}}],\"scatterpolargl\":[{\"type\":\"scatterpolargl\",\"marker\":{\"colorbar\":{\"outlinewidth\":0,\"ticks\":\"\"}}}],\"bar\":[{\"error_x\":{\"color\":\"#2a3f5f\"},\"error_y\":{\"color\":\"#2a3f5f\"},\"marker\":{\"line\":{\"color\":\"#E5ECF6\",\"width\":0.5},\"pattern\":{\"fillmode\":\"overlay\",\"size\":10,\"solidity\":0.2}},\"type\":\"bar\"}],\"scattergeo\":[{\"type\":\"scattergeo\",\"marker\":{\"colorbar\":{\"outlinewidth\":0,\"ticks\":\"\"}}}],\"scatterpolar\":[{\"type\":\"scatterpolar\",\"marker\":{\"colorbar\":{\"outlinewidth\":0,\"ticks\":\"\"}}}],\"histogram\":[{\"marker\":{\"pattern\":{\"fillmode\":\"overlay\",\"size\":10,\"solidity\":0.2}},\"type\":\"histogram\"}],\"scattergl\":[{\"type\":\"scattergl\",\"marker\":{\"colorbar\":{\"outlinewidth\":0,\"ticks\":\"\"}}}],\"scatter3d\":[{\"type\":\"scatter3d\",\"line\":{\"colorbar\":{\"outlinewidth\":0,\"ticks\":\"\"}},\"marker\":{\"colorbar\":{\"outlinewidth\":0,\"ticks\":\"\"}}}],\"scattermapbox\":[{\"type\":\"scattermapbox\",\"marker\":{\"colorbar\":{\"outlinewidth\":0,\"ticks\":\"\"}}}],\"scatterternary\":[{\"type\":\"scatterternary\",\"marker\":{\"colorbar\":{\"outlinewidth\":0,\"ticks\":\"\"}}}],\"scattercarpet\":[{\"type\":\"scattercarpet\",\"marker\":{\"colorbar\":{\"outlinewidth\":0,\"ticks\":\"\"}}}],\"carpet\":[{\"aaxis\":{\"endlinecolor\":\"#2a3f5f\",\"gridcolor\":\"white\",\"linecolor\":\"white\",\"minorgridcolor\":\"white\",\"startlinecolor\":\"#2a3f5f\"},\"baxis\":{\"endlinecolor\":\"#2a3f5f\",\"gridcolor\":\"white\",\"linecolor\":\"white\",\"minorgridcolor\":\"white\",\"startlinecolor\":\"#2a3f5f\"},\"type\":\"carpet\"}],\"table\":[{\"cells\":{\"fill\":{\"color\":\"#EBF0F8\"},\"line\":{\"color\":\"white\"}},\"header\":{\"fill\":{\"color\":\"#C8D4E3\"},\"line\":{\"color\":\"white\"}},\"type\":\"table\"}],\"barpolar\":[{\"marker\":{\"line\":{\"color\":\"#E5ECF6\",\"width\":0.5},\"pattern\":{\"fillmode\":\"overlay\",\"size\":10,\"solidity\":0.2}},\"type\":\"barpolar\"}],\"pie\":[{\"automargin\":true,\"type\":\"pie\"}]},\"layout\":{\"autotypenumbers\":\"strict\",\"colorway\":[\"#636efa\",\"#EF553B\",\"#00cc96\",\"#ab63fa\",\"#FFA15A\",\"#19d3f3\",\"#FF6692\",\"#B6E880\",\"#FF97FF\",\"#FECB52\"],\"font\":{\"color\":\"#2a3f5f\"},\"hovermode\":\"closest\",\"hoverlabel\":{\"align\":\"left\"},\"paper_bgcolor\":\"white\",\"plot_bgcolor\":\"#E5ECF6\",\"polar\":{\"bgcolor\":\"#E5ECF6\",\"angularaxis\":{\"gridcolor\":\"white\",\"linecolor\":\"white\",\"ticks\":\"\"},\"radialaxis\":{\"gridcolor\":\"white\",\"linecolor\":\"white\",\"ticks\":\"\"}},\"ternary\":{\"bgcolor\":\"#E5ECF6\",\"aaxis\":{\"gridcolor\":\"white\",\"linecolor\":\"white\",\"ticks\":\"\"},\"baxis\":{\"gridcolor\":\"white\",\"linecolor\":\"white\",\"ticks\":\"\"},\"caxis\":{\"gridcolor\":\"white\",\"linecolor\":\"white\",\"ticks\":\"\"}},\"coloraxis\":{\"colorbar\":{\"outlinewidth\":0,\"ticks\":\"\"}},\"colorscale\":{\"sequential\":[[0.0,\"#0d0887\"],[0.1111111111111111,\"#46039f\"],[0.2222222222222222,\"#7201a8\"],[0.3333333333333333,\"#9c179e\"],[0.4444444444444444,\"#bd3786\"],[0.5555555555555556,\"#d8576b\"],[0.6666666666666666,\"#ed7953\"],[0.7777777777777778,\"#fb9f3a\"],[0.8888888888888888,\"#fdca26\"],[1.0,\"#f0f921\"]],\"sequentialminus\":[[0.0,\"#0d0887\"],[0.1111111111111111,\"#46039f\"],[0.2222222222222222,\"#7201a8\"],[0.3333333333333333,\"#9c179e\"],[0.4444444444444444,\"#bd3786\"],[0.5555555555555556,\"#d8576b\"],[0.6666666666666666,\"#ed7953\"],[0.7777777777777778,\"#fb9f3a\"],[0.8888888888888888,\"#fdca26\"],[1.0,\"#f0f921\"]],\"diverging\":[[0,\"#8e0152\"],[0.1,\"#c51b7d\"],[0.2,\"#de77ae\"],[0.3,\"#f1b6da\"],[0.4,\"#fde0ef\"],[0.5,\"#f7f7f7\"],[0.6,\"#e6f5d0\"],[0.7,\"#b8e186\"],[0.8,\"#7fbc41\"],[0.9,\"#4d9221\"],[1,\"#276419\"]]},\"xaxis\":{\"gridcolor\":\"white\",\"linecolor\":\"white\",\"ticks\":\"\",\"title\":{\"standoff\":15},\"zerolinecolor\":\"white\",\"automargin\":true,\"zerolinewidth\":2},\"yaxis\":{\"gridcolor\":\"white\",\"linecolor\":\"white\",\"ticks\":\"\",\"title\":{\"standoff\":15},\"zerolinecolor\":\"white\",\"automargin\":true,\"zerolinewidth\":2},\"scene\":{\"xaxis\":{\"backgroundcolor\":\"#E5ECF6\",\"gridcolor\":\"white\",\"linecolor\":\"white\",\"showbackground\":true,\"ticks\":\"\",\"zerolinecolor\":\"white\",\"gridwidth\":2},\"yaxis\":{\"backgroundcolor\":\"#E5ECF6\",\"gridcolor\":\"white\",\"linecolor\":\"white\",\"showbackground\":true,\"ticks\":\"\",\"zerolinecolor\":\"white\",\"gridwidth\":2},\"zaxis\":{\"backgroundcolor\":\"#E5ECF6\",\"gridcolor\":\"white\",\"linecolor\":\"white\",\"showbackground\":true,\"ticks\":\"\",\"zerolinecolor\":\"white\",\"gridwidth\":2}},\"shapedefaults\":{\"line\":{\"color\":\"#2a3f5f\"}},\"annotationdefaults\":{\"arrowcolor\":\"#2a3f5f\",\"arrowhead\":0,\"arrowwidth\":1},\"geo\":{\"bgcolor\":\"white\",\"landcolor\":\"#E5ECF6\",\"subunitcolor\":\"white\",\"showland\":true,\"showlakes\":true,\"lakecolor\":\"white\"},\"title\":{\"x\":0.05},\"mapbox\":{\"style\":\"light\"}}},\"xaxis\":{\"anchor\":\"y\",\"domain\":[0.0,1.0],\"title\":{\"text\":\"x\"}},\"yaxis\":{\"anchor\":\"x\",\"domain\":[0.0,1.0],\"title\":{\"text\":\"sum of y\"}},\"legend\":{\"tracegroupgap\":0},\"margin\":{\"t\":60},\"barmode\":\"relative\"},                        {\"responsive\": true}                    ).then(function(){\n",
       "                            \n",
       "var gd = document.getElementById('6c5b8dd9-0d6c-42b3-9fba-45785dfaa25f');\n",
       "var x = new MutationObserver(function (mutations, observer) {{\n",
       "        var display = window.getComputedStyle(gd).display;\n",
       "        if (!display || display === 'none') {{\n",
       "            console.log([gd, 'removed!']);\n",
       "            Plotly.purge(gd);\n",
       "            observer.disconnect();\n",
       "        }}\n",
       "}});\n",
       "\n",
       "// Listen for the removal of the full notebook cells\n",
       "var notebookContainer = gd.closest('#notebook-container');\n",
       "if (notebookContainer) {{\n",
       "    x.observe(notebookContainer, {childList: true});\n",
       "}}\n",
       "\n",
       "// Listen for the clearing of the current output cell\n",
       "var outputEl = gd.closest('.output');\n",
       "if (outputEl) {{\n",
       "    x.observe(outputEl, {childList: true});\n",
       "}}\n",
       "\n",
       "                        })                };                });            </script>        </div>"
      ]
     },
     "metadata": {},
     "output_type": "display_data"
    }
   ],
   "source": [
    "tree.fit(X=df[numerical_columns], y=df[TARGET])\n",
    "pd.DataFrame(data={'Id': test_df['Id'], 'SalePrice': tree.predict(X=test_df[numerical_columns])}).to_csv(path_or_buf=SUBMISSION, index=False)\n",
    "express.histogram(x=numerical_columns, y=tree.feature_importances_).show()"
   ]
  }
 ],
 "metadata": {
  "kaggle": {
   "accelerator": "none",
   "dataSources": [
    {
     "databundleVersionId": 868283,
     "sourceId": 5407,
     "sourceType": "competition"
    }
   ],
   "dockerImageVersionId": 30698,
   "isGpuEnabled": false,
   "isInternetEnabled": true,
   "language": "python",
   "sourceType": "notebook"
  },
  "kernelspec": {
   "display_name": "Python 3",
   "language": "python",
   "name": "python3"
  },
  "language_info": {
   "codemirror_mode": {
    "name": "ipython",
    "version": 3
   },
   "file_extension": ".py",
   "mimetype": "text/x-python",
   "name": "python",
   "nbconvert_exporter": "python",
   "pygments_lexer": "ipython3",
   "version": "3.10.13"
  },
  "papermill": {
   "default_parameters": {},
   "duration": 58.70717,
   "end_time": "2024-05-05T14:02:26.640755",
   "environment_variables": {},
   "exception": null,
   "input_path": "__notebook__.ipynb",
   "output_path": "__notebook__.ipynb",
   "parameters": {},
   "start_time": "2024-05-05T14:01:27.933585",
   "version": "2.5.0"
  }
 },
 "nbformat": 4,
 "nbformat_minor": 5
}
