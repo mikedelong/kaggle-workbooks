{
 "cells": [
  {
   "cell_type": "code",
   "execution_count": 1,
   "id": "d0f92058",
   "metadata": {
    "_cell_guid": "b1076dfc-b9ad-4769-8c92-a6c4dae69d19",
    "_uuid": "8f2839f25d086af736a60e9eeb907d3b93b6e0e5",
    "execution": {
     "iopub.execute_input": "2024-05-03T17:42:59.932868Z",
     "iopub.status.busy": "2024-05-03T17:42:59.932503Z",
     "iopub.status.idle": "2024-05-03T17:43:01.007883Z",
     "shell.execute_reply": "2024-05-03T17:43:01.006446Z"
    },
    "papermill": {
     "duration": 1.084028,
     "end_time": "2024-05-03T17:43:01.010686",
     "exception": false,
     "start_time": "2024-05-03T17:42:59.926658",
     "status": "completed"
    },
    "tags": []
   },
   "outputs": [
    {
     "data": {
      "text/html": [
       "<div>\n",
       "<style scoped>\n",
       "    .dataframe tbody tr th:only-of-type {\n",
       "        vertical-align: middle;\n",
       "    }\n",
       "\n",
       "    .dataframe tbody tr th {\n",
       "        vertical-align: top;\n",
       "    }\n",
       "\n",
       "    .dataframe thead th {\n",
       "        text-align: right;\n",
       "    }\n",
       "</style>\n",
       "<table border=\"1\" class=\"dataframe\">\n",
       "  <thead>\n",
       "    <tr style=\"text-align: right;\">\n",
       "      <th></th>\n",
       "      <th>MSSubClass</th>\n",
       "      <th>MSZoning</th>\n",
       "      <th>LotFrontage</th>\n",
       "      <th>LotArea</th>\n",
       "      <th>Street</th>\n",
       "      <th>Alley</th>\n",
       "      <th>LotShape</th>\n",
       "      <th>LandContour</th>\n",
       "      <th>Utilities</th>\n",
       "      <th>LotConfig</th>\n",
       "      <th>...</th>\n",
       "      <th>PoolArea</th>\n",
       "      <th>PoolQC</th>\n",
       "      <th>Fence</th>\n",
       "      <th>MiscFeature</th>\n",
       "      <th>MiscVal</th>\n",
       "      <th>MoSold</th>\n",
       "      <th>YrSold</th>\n",
       "      <th>SaleType</th>\n",
       "      <th>SaleCondition</th>\n",
       "      <th>SalePrice</th>\n",
       "    </tr>\n",
       "    <tr>\n",
       "      <th>Id</th>\n",
       "      <th></th>\n",
       "      <th></th>\n",
       "      <th></th>\n",
       "      <th></th>\n",
       "      <th></th>\n",
       "      <th></th>\n",
       "      <th></th>\n",
       "      <th></th>\n",
       "      <th></th>\n",
       "      <th></th>\n",
       "      <th></th>\n",
       "      <th></th>\n",
       "      <th></th>\n",
       "      <th></th>\n",
       "      <th></th>\n",
       "      <th></th>\n",
       "      <th></th>\n",
       "      <th></th>\n",
       "      <th></th>\n",
       "      <th></th>\n",
       "      <th></th>\n",
       "    </tr>\n",
       "  </thead>\n",
       "  <tbody>\n",
       "    <tr>\n",
       "      <th>1</th>\n",
       "      <td>60</td>\n",
       "      <td>RL</td>\n",
       "      <td>65.0</td>\n",
       "      <td>8450</td>\n",
       "      <td>Pave</td>\n",
       "      <td>NaN</td>\n",
       "      <td>Reg</td>\n",
       "      <td>Lvl</td>\n",
       "      <td>AllPub</td>\n",
       "      <td>Inside</td>\n",
       "      <td>...</td>\n",
       "      <td>0</td>\n",
       "      <td>NaN</td>\n",
       "      <td>NaN</td>\n",
       "      <td>NaN</td>\n",
       "      <td>0</td>\n",
       "      <td>2</td>\n",
       "      <td>2008</td>\n",
       "      <td>WD</td>\n",
       "      <td>Normal</td>\n",
       "      <td>208500</td>\n",
       "    </tr>\n",
       "    <tr>\n",
       "      <th>2</th>\n",
       "      <td>20</td>\n",
       "      <td>RL</td>\n",
       "      <td>80.0</td>\n",
       "      <td>9600</td>\n",
       "      <td>Pave</td>\n",
       "      <td>NaN</td>\n",
       "      <td>Reg</td>\n",
       "      <td>Lvl</td>\n",
       "      <td>AllPub</td>\n",
       "      <td>FR2</td>\n",
       "      <td>...</td>\n",
       "      <td>0</td>\n",
       "      <td>NaN</td>\n",
       "      <td>NaN</td>\n",
       "      <td>NaN</td>\n",
       "      <td>0</td>\n",
       "      <td>5</td>\n",
       "      <td>2007</td>\n",
       "      <td>WD</td>\n",
       "      <td>Normal</td>\n",
       "      <td>181500</td>\n",
       "    </tr>\n",
       "    <tr>\n",
       "      <th>3</th>\n",
       "      <td>60</td>\n",
       "      <td>RL</td>\n",
       "      <td>68.0</td>\n",
       "      <td>11250</td>\n",
       "      <td>Pave</td>\n",
       "      <td>NaN</td>\n",
       "      <td>IR1</td>\n",
       "      <td>Lvl</td>\n",
       "      <td>AllPub</td>\n",
       "      <td>Inside</td>\n",
       "      <td>...</td>\n",
       "      <td>0</td>\n",
       "      <td>NaN</td>\n",
       "      <td>NaN</td>\n",
       "      <td>NaN</td>\n",
       "      <td>0</td>\n",
       "      <td>9</td>\n",
       "      <td>2008</td>\n",
       "      <td>WD</td>\n",
       "      <td>Normal</td>\n",
       "      <td>223500</td>\n",
       "    </tr>\n",
       "    <tr>\n",
       "      <th>4</th>\n",
       "      <td>70</td>\n",
       "      <td>RL</td>\n",
       "      <td>60.0</td>\n",
       "      <td>9550</td>\n",
       "      <td>Pave</td>\n",
       "      <td>NaN</td>\n",
       "      <td>IR1</td>\n",
       "      <td>Lvl</td>\n",
       "      <td>AllPub</td>\n",
       "      <td>Corner</td>\n",
       "      <td>...</td>\n",
       "      <td>0</td>\n",
       "      <td>NaN</td>\n",
       "      <td>NaN</td>\n",
       "      <td>NaN</td>\n",
       "      <td>0</td>\n",
       "      <td>2</td>\n",
       "      <td>2006</td>\n",
       "      <td>WD</td>\n",
       "      <td>Abnorml</td>\n",
       "      <td>140000</td>\n",
       "    </tr>\n",
       "    <tr>\n",
       "      <th>5</th>\n",
       "      <td>60</td>\n",
       "      <td>RL</td>\n",
       "      <td>84.0</td>\n",
       "      <td>14260</td>\n",
       "      <td>Pave</td>\n",
       "      <td>NaN</td>\n",
       "      <td>IR1</td>\n",
       "      <td>Lvl</td>\n",
       "      <td>AllPub</td>\n",
       "      <td>FR2</td>\n",
       "      <td>...</td>\n",
       "      <td>0</td>\n",
       "      <td>NaN</td>\n",
       "      <td>NaN</td>\n",
       "      <td>NaN</td>\n",
       "      <td>0</td>\n",
       "      <td>12</td>\n",
       "      <td>2008</td>\n",
       "      <td>WD</td>\n",
       "      <td>Normal</td>\n",
       "      <td>250000</td>\n",
       "    </tr>\n",
       "  </tbody>\n",
       "</table>\n",
       "<p>5 rows × 80 columns</p>\n",
       "</div>"
      ],
      "text/plain": [
       "    MSSubClass MSZoning  LotFrontage  LotArea Street Alley LotShape  \\\n",
       "Id                                                                    \n",
       "1           60       RL         65.0     8450   Pave   NaN      Reg   \n",
       "2           20       RL         80.0     9600   Pave   NaN      Reg   \n",
       "3           60       RL         68.0    11250   Pave   NaN      IR1   \n",
       "4           70       RL         60.0     9550   Pave   NaN      IR1   \n",
       "5           60       RL         84.0    14260   Pave   NaN      IR1   \n",
       "\n",
       "   LandContour Utilities LotConfig  ... PoolArea PoolQC Fence MiscFeature  \\\n",
       "Id                                  ...                                     \n",
       "1          Lvl    AllPub    Inside  ...        0    NaN   NaN         NaN   \n",
       "2          Lvl    AllPub       FR2  ...        0    NaN   NaN         NaN   \n",
       "3          Lvl    AllPub    Inside  ...        0    NaN   NaN         NaN   \n",
       "4          Lvl    AllPub    Corner  ...        0    NaN   NaN         NaN   \n",
       "5          Lvl    AllPub       FR2  ...        0    NaN   NaN         NaN   \n",
       "\n",
       "   MiscVal MoSold  YrSold  SaleType  SaleCondition  SalePrice  \n",
       "Id                                                             \n",
       "1        0      2    2008        WD         Normal     208500  \n",
       "2        0      5    2007        WD         Normal     181500  \n",
       "3        0      9    2008        WD         Normal     223500  \n",
       "4        0      2    2006        WD        Abnorml     140000  \n",
       "5        0     12    2008        WD         Normal     250000  \n",
       "\n",
       "[5 rows x 80 columns]"
      ]
     },
     "execution_count": 1,
     "metadata": {},
     "output_type": "execute_result"
    }
   ],
   "source": [
    "import pandas as pd\n",
    "\n",
    "TRAIN = '/kaggle/input/house-prices-advanced-regression-techniques/train.csv'\n",
    "\n",
    "df = pd.read_csv(filepath_or_buffer=TRAIN, index_col=['Id'])\n",
    "df.head()"
   ]
  },
  {
   "cell_type": "code",
   "execution_count": 2,
   "id": "f05c6336",
   "metadata": {
    "execution": {
     "iopub.execute_input": "2024-05-03T17:43:01.022452Z",
     "iopub.status.busy": "2024-05-03T17:43:01.021972Z",
     "iopub.status.idle": "2024-05-03T17:43:01.055723Z",
     "shell.execute_reply": "2024-05-03T17:43:01.054659Z"
    },
    "papermill": {
     "duration": 0.042604,
     "end_time": "2024-05-03T17:43:01.058492",
     "exception": false,
     "start_time": "2024-05-03T17:43:01.015888",
     "status": "completed"
    },
    "tags": []
   },
   "outputs": [],
   "source": [
    "TEST = '/kaggle/input/house-prices-advanced-regression-techniques/test.csv'\n",
    "test_df = pd.read_csv(filepath_or_buffer=TEST)"
   ]
  },
  {
   "cell_type": "code",
   "execution_count": 3,
   "id": "405d27a4",
   "metadata": {
    "execution": {
     "iopub.execute_input": "2024-05-03T17:43:01.069638Z",
     "iopub.status.busy": "2024-05-03T17:43:01.069148Z",
     "iopub.status.idle": "2024-05-03T17:43:01.086629Z",
     "shell.execute_reply": "2024-05-03T17:43:01.085218Z"
    },
    "papermill": {
     "duration": 0.026161,
     "end_time": "2024-05-03T17:43:01.089249",
     "exception": false,
     "start_time": "2024-05-03T17:43:01.063088",
     "status": "completed"
    },
    "tags": []
   },
   "outputs": [],
   "source": [
    "TARGET = 'SalePrice'\n",
    "keys = [key for key, value in df.drop(columns=[TARGET]).dtypes.to_dict().items() if str(value) in {'int64', 'float64'}]\n",
    "numerical_columns = [key for key in keys if test_df[key].isna().sum() == 0]"
   ]
  },
  {
   "cell_type": "code",
   "execution_count": 4,
   "id": "7c099b44",
   "metadata": {
    "execution": {
     "iopub.execute_input": "2024-05-03T17:43:01.101119Z",
     "iopub.status.busy": "2024-05-03T17:43:01.100725Z",
     "iopub.status.idle": "2024-05-03T17:43:02.732936Z",
     "shell.execute_reply": "2024-05-03T17:43:02.731458Z"
    },
    "papermill": {
     "duration": 1.64436,
     "end_time": "2024-05-03T17:43:02.738582",
     "exception": false,
     "start_time": "2024-05-03T17:43:01.094222",
     "status": "completed"
    },
    "tags": []
   },
   "outputs": [
    {
     "name": "stdout",
     "output_type": "stream",
     "text": [
      "rmse: 0.1671\n"
     ]
    }
   ],
   "source": [
    "import numpy as np\n",
    "from sklearn.linear_model import LinearRegression\n",
    "from sklearn.model_selection import train_test_split\n",
    "from sklearn.metrics import mean_squared_error\n",
    "\n",
    "X_train, X_test, y_train, y_test = train_test_split(df[numerical_columns], df[TARGET], test_size=0.20, random_state=2024)\n",
    "linreg = LinearRegression(positive=False).fit(X=X_train, y=y_train)\n",
    "print('rmse: {:5.4f}'.format(mean_squared_error(squared=False, y_true=np.log(y_test), y_pred=np.log(linreg.predict(X=X_test)))))"
   ]
  },
  {
   "cell_type": "code",
   "execution_count": 5,
   "id": "51b96020",
   "metadata": {
    "execution": {
     "iopub.execute_input": "2024-05-03T17:43:02.756105Z",
     "iopub.status.busy": "2024-05-03T17:43:02.755557Z",
     "iopub.status.idle": "2024-05-03T17:43:05.498661Z",
     "shell.execute_reply": "2024-05-03T17:43:05.497298Z"
    },
    "papermill": {
     "duration": 2.755947,
     "end_time": "2024-05-03T17:43:05.502007",
     "exception": false,
     "start_time": "2024-05-03T17:43:02.746060",
     "status": "completed"
    },
    "tags": []
   },
   "outputs": [
    {
     "data": {
      "text/html": [
       "        <script type=\"text/javascript\">\n",
       "        window.PlotlyConfig = {MathJaxConfig: 'local'};\n",
       "        if (window.MathJax && window.MathJax.Hub && window.MathJax.Hub.Config) {window.MathJax.Hub.Config({SVG: {font: \"STIX-Web\"}});}\n",
       "        if (typeof require !== 'undefined') {\n",
       "        require.undef(\"plotly\");\n",
       "        requirejs.config({\n",
       "            paths: {\n",
       "                'plotly': ['https://cdn.plot.ly/plotly-2.27.0.min']\n",
       "            }\n",
       "        });\n",
       "        require(['plotly'], function(Plotly) {\n",
       "            window._Plotly = Plotly;\n",
       "        });\n",
       "        }\n",
       "        </script>\n",
       "        "
      ]
     },
     "metadata": {},
     "output_type": "display_data"
    },
    {
     "data": {
      "text/html": [
       "<div>                            <div id=\"3331b884-926c-4639-a45a-875f3b9a7aad\" class=\"plotly-graph-div\" style=\"height:525px; width:100%;\"></div>            <script type=\"text/javascript\">                require([\"plotly\"], function(Plotly) {                    window.PLOTLYENV=window.PLOTLYENV || {};                                    if (document.getElementById(\"3331b884-926c-4639-a45a-875f3b9a7aad\")) {                    Plotly.newPlot(                        \"3331b884-926c-4639-a45a-875f3b9a7aad\",                        [{\"alignmentgroup\":\"True\",\"bingroup\":\"x\",\"histfunc\":\"sum\",\"hovertemplate\":\"x=%{x}\\u003cbr\\u003esum of y=%{y}\\u003cextra\\u003e\\u003c\\u002fextra\\u003e\",\"legendgroup\":\"\",\"marker\":{\"color\":\"#636efa\",\"pattern\":{\"shape\":\"\"}},\"name\":\"\",\"offsetgroup\":\"\",\"orientation\":\"v\",\"showlegend\":false,\"x\":[\"MSSubClass\",\"LotArea\",\"OverallQual\",\"OverallCond\",\"YearBuilt\",\"YearRemodAdd\",\"1stFlrSF\",\"2ndFlrSF\",\"LowQualFinSF\",\"GrLivArea\",\"FullBath\",\"HalfBath\",\"BedroomAbvGr\",\"KitchenAbvGr\",\"TotRmsAbvGrd\",\"Fireplaces\",\"WoodDeckSF\",\"OpenPorchSF\",\"EnclosedPorch\",\"3SsnPorch\",\"ScreenPorch\",\"PoolArea\",\"MiscVal\",\"MoSold\",\"YrSold\"],\"xaxis\":\"x\",\"y\":[-149.61968743796106,0.3833828554312624,19228.892356713943,5094.397714445715,512.1168608496619,140.72594688407045,29.418886883308566,13.536958283079528,-3.612482703434768,39.34336246062358,1321.4436684548764,-1772.2293769363137,-11718.462455850287,-15041.485815447226,5360.428106987738,5470.654863412699,31.90876736960877,-9.010252993110322,11.740982941998908,11.71844193910735,69.49313451730372,-36.742084020233484,-1.1384786817031212,-93.48389666693012,-531.2068191562329],\"yaxis\":\"y\",\"type\":\"histogram\"}],                        {\"template\":{\"data\":{\"histogram2dcontour\":[{\"type\":\"histogram2dcontour\",\"colorbar\":{\"outlinewidth\":0,\"ticks\":\"\"},\"colorscale\":[[0.0,\"#0d0887\"],[0.1111111111111111,\"#46039f\"],[0.2222222222222222,\"#7201a8\"],[0.3333333333333333,\"#9c179e\"],[0.4444444444444444,\"#bd3786\"],[0.5555555555555556,\"#d8576b\"],[0.6666666666666666,\"#ed7953\"],[0.7777777777777778,\"#fb9f3a\"],[0.8888888888888888,\"#fdca26\"],[1.0,\"#f0f921\"]]}],\"choropleth\":[{\"type\":\"choropleth\",\"colorbar\":{\"outlinewidth\":0,\"ticks\":\"\"}}],\"histogram2d\":[{\"type\":\"histogram2d\",\"colorbar\":{\"outlinewidth\":0,\"ticks\":\"\"},\"colorscale\":[[0.0,\"#0d0887\"],[0.1111111111111111,\"#46039f\"],[0.2222222222222222,\"#7201a8\"],[0.3333333333333333,\"#9c179e\"],[0.4444444444444444,\"#bd3786\"],[0.5555555555555556,\"#d8576b\"],[0.6666666666666666,\"#ed7953\"],[0.7777777777777778,\"#fb9f3a\"],[0.8888888888888888,\"#fdca26\"],[1.0,\"#f0f921\"]]}],\"heatmap\":[{\"type\":\"heatmap\",\"colorbar\":{\"outlinewidth\":0,\"ticks\":\"\"},\"colorscale\":[[0.0,\"#0d0887\"],[0.1111111111111111,\"#46039f\"],[0.2222222222222222,\"#7201a8\"],[0.3333333333333333,\"#9c179e\"],[0.4444444444444444,\"#bd3786\"],[0.5555555555555556,\"#d8576b\"],[0.6666666666666666,\"#ed7953\"],[0.7777777777777778,\"#fb9f3a\"],[0.8888888888888888,\"#fdca26\"],[1.0,\"#f0f921\"]]}],\"heatmapgl\":[{\"type\":\"heatmapgl\",\"colorbar\":{\"outlinewidth\":0,\"ticks\":\"\"},\"colorscale\":[[0.0,\"#0d0887\"],[0.1111111111111111,\"#46039f\"],[0.2222222222222222,\"#7201a8\"],[0.3333333333333333,\"#9c179e\"],[0.4444444444444444,\"#bd3786\"],[0.5555555555555556,\"#d8576b\"],[0.6666666666666666,\"#ed7953\"],[0.7777777777777778,\"#fb9f3a\"],[0.8888888888888888,\"#fdca26\"],[1.0,\"#f0f921\"]]}],\"contourcarpet\":[{\"type\":\"contourcarpet\",\"colorbar\":{\"outlinewidth\":0,\"ticks\":\"\"}}],\"contour\":[{\"type\":\"contour\",\"colorbar\":{\"outlinewidth\":0,\"ticks\":\"\"},\"colorscale\":[[0.0,\"#0d0887\"],[0.1111111111111111,\"#46039f\"],[0.2222222222222222,\"#7201a8\"],[0.3333333333333333,\"#9c179e\"],[0.4444444444444444,\"#bd3786\"],[0.5555555555555556,\"#d8576b\"],[0.6666666666666666,\"#ed7953\"],[0.7777777777777778,\"#fb9f3a\"],[0.8888888888888888,\"#fdca26\"],[1.0,\"#f0f921\"]]}],\"surface\":[{\"type\":\"surface\",\"colorbar\":{\"outlinewidth\":0,\"ticks\":\"\"},\"colorscale\":[[0.0,\"#0d0887\"],[0.1111111111111111,\"#46039f\"],[0.2222222222222222,\"#7201a8\"],[0.3333333333333333,\"#9c179e\"],[0.4444444444444444,\"#bd3786\"],[0.5555555555555556,\"#d8576b\"],[0.6666666666666666,\"#ed7953\"],[0.7777777777777778,\"#fb9f3a\"],[0.8888888888888888,\"#fdca26\"],[1.0,\"#f0f921\"]]}],\"mesh3d\":[{\"type\":\"mesh3d\",\"colorbar\":{\"outlinewidth\":0,\"ticks\":\"\"}}],\"scatter\":[{\"fillpattern\":{\"fillmode\":\"overlay\",\"size\":10,\"solidity\":0.2},\"type\":\"scatter\"}],\"parcoords\":[{\"type\":\"parcoords\",\"line\":{\"colorbar\":{\"outlinewidth\":0,\"ticks\":\"\"}}}],\"scatterpolargl\":[{\"type\":\"scatterpolargl\",\"marker\":{\"colorbar\":{\"outlinewidth\":0,\"ticks\":\"\"}}}],\"bar\":[{\"error_x\":{\"color\":\"#2a3f5f\"},\"error_y\":{\"color\":\"#2a3f5f\"},\"marker\":{\"line\":{\"color\":\"#E5ECF6\",\"width\":0.5},\"pattern\":{\"fillmode\":\"overlay\",\"size\":10,\"solidity\":0.2}},\"type\":\"bar\"}],\"scattergeo\":[{\"type\":\"scattergeo\",\"marker\":{\"colorbar\":{\"outlinewidth\":0,\"ticks\":\"\"}}}],\"scatterpolar\":[{\"type\":\"scatterpolar\",\"marker\":{\"colorbar\":{\"outlinewidth\":0,\"ticks\":\"\"}}}],\"histogram\":[{\"marker\":{\"pattern\":{\"fillmode\":\"overlay\",\"size\":10,\"solidity\":0.2}},\"type\":\"histogram\"}],\"scattergl\":[{\"type\":\"scattergl\",\"marker\":{\"colorbar\":{\"outlinewidth\":0,\"ticks\":\"\"}}}],\"scatter3d\":[{\"type\":\"scatter3d\",\"line\":{\"colorbar\":{\"outlinewidth\":0,\"ticks\":\"\"}},\"marker\":{\"colorbar\":{\"outlinewidth\":0,\"ticks\":\"\"}}}],\"scattermapbox\":[{\"type\":\"scattermapbox\",\"marker\":{\"colorbar\":{\"outlinewidth\":0,\"ticks\":\"\"}}}],\"scatterternary\":[{\"type\":\"scatterternary\",\"marker\":{\"colorbar\":{\"outlinewidth\":0,\"ticks\":\"\"}}}],\"scattercarpet\":[{\"type\":\"scattercarpet\",\"marker\":{\"colorbar\":{\"outlinewidth\":0,\"ticks\":\"\"}}}],\"carpet\":[{\"aaxis\":{\"endlinecolor\":\"#2a3f5f\",\"gridcolor\":\"white\",\"linecolor\":\"white\",\"minorgridcolor\":\"white\",\"startlinecolor\":\"#2a3f5f\"},\"baxis\":{\"endlinecolor\":\"#2a3f5f\",\"gridcolor\":\"white\",\"linecolor\":\"white\",\"minorgridcolor\":\"white\",\"startlinecolor\":\"#2a3f5f\"},\"type\":\"carpet\"}],\"table\":[{\"cells\":{\"fill\":{\"color\":\"#EBF0F8\"},\"line\":{\"color\":\"white\"}},\"header\":{\"fill\":{\"color\":\"#C8D4E3\"},\"line\":{\"color\":\"white\"}},\"type\":\"table\"}],\"barpolar\":[{\"marker\":{\"line\":{\"color\":\"#E5ECF6\",\"width\":0.5},\"pattern\":{\"fillmode\":\"overlay\",\"size\":10,\"solidity\":0.2}},\"type\":\"barpolar\"}],\"pie\":[{\"automargin\":true,\"type\":\"pie\"}]},\"layout\":{\"autotypenumbers\":\"strict\",\"colorway\":[\"#636efa\",\"#EF553B\",\"#00cc96\",\"#ab63fa\",\"#FFA15A\",\"#19d3f3\",\"#FF6692\",\"#B6E880\",\"#FF97FF\",\"#FECB52\"],\"font\":{\"color\":\"#2a3f5f\"},\"hovermode\":\"closest\",\"hoverlabel\":{\"align\":\"left\"},\"paper_bgcolor\":\"white\",\"plot_bgcolor\":\"#E5ECF6\",\"polar\":{\"bgcolor\":\"#E5ECF6\",\"angularaxis\":{\"gridcolor\":\"white\",\"linecolor\":\"white\",\"ticks\":\"\"},\"radialaxis\":{\"gridcolor\":\"white\",\"linecolor\":\"white\",\"ticks\":\"\"}},\"ternary\":{\"bgcolor\":\"#E5ECF6\",\"aaxis\":{\"gridcolor\":\"white\",\"linecolor\":\"white\",\"ticks\":\"\"},\"baxis\":{\"gridcolor\":\"white\",\"linecolor\":\"white\",\"ticks\":\"\"},\"caxis\":{\"gridcolor\":\"white\",\"linecolor\":\"white\",\"ticks\":\"\"}},\"coloraxis\":{\"colorbar\":{\"outlinewidth\":0,\"ticks\":\"\"}},\"colorscale\":{\"sequential\":[[0.0,\"#0d0887\"],[0.1111111111111111,\"#46039f\"],[0.2222222222222222,\"#7201a8\"],[0.3333333333333333,\"#9c179e\"],[0.4444444444444444,\"#bd3786\"],[0.5555555555555556,\"#d8576b\"],[0.6666666666666666,\"#ed7953\"],[0.7777777777777778,\"#fb9f3a\"],[0.8888888888888888,\"#fdca26\"],[1.0,\"#f0f921\"]],\"sequentialminus\":[[0.0,\"#0d0887\"],[0.1111111111111111,\"#46039f\"],[0.2222222222222222,\"#7201a8\"],[0.3333333333333333,\"#9c179e\"],[0.4444444444444444,\"#bd3786\"],[0.5555555555555556,\"#d8576b\"],[0.6666666666666666,\"#ed7953\"],[0.7777777777777778,\"#fb9f3a\"],[0.8888888888888888,\"#fdca26\"],[1.0,\"#f0f921\"]],\"diverging\":[[0,\"#8e0152\"],[0.1,\"#c51b7d\"],[0.2,\"#de77ae\"],[0.3,\"#f1b6da\"],[0.4,\"#fde0ef\"],[0.5,\"#f7f7f7\"],[0.6,\"#e6f5d0\"],[0.7,\"#b8e186\"],[0.8,\"#7fbc41\"],[0.9,\"#4d9221\"],[1,\"#276419\"]]},\"xaxis\":{\"gridcolor\":\"white\",\"linecolor\":\"white\",\"ticks\":\"\",\"title\":{\"standoff\":15},\"zerolinecolor\":\"white\",\"automargin\":true,\"zerolinewidth\":2},\"yaxis\":{\"gridcolor\":\"white\",\"linecolor\":\"white\",\"ticks\":\"\",\"title\":{\"standoff\":15},\"zerolinecolor\":\"white\",\"automargin\":true,\"zerolinewidth\":2},\"scene\":{\"xaxis\":{\"backgroundcolor\":\"#E5ECF6\",\"gridcolor\":\"white\",\"linecolor\":\"white\",\"showbackground\":true,\"ticks\":\"\",\"zerolinecolor\":\"white\",\"gridwidth\":2},\"yaxis\":{\"backgroundcolor\":\"#E5ECF6\",\"gridcolor\":\"white\",\"linecolor\":\"white\",\"showbackground\":true,\"ticks\":\"\",\"zerolinecolor\":\"white\",\"gridwidth\":2},\"zaxis\":{\"backgroundcolor\":\"#E5ECF6\",\"gridcolor\":\"white\",\"linecolor\":\"white\",\"showbackground\":true,\"ticks\":\"\",\"zerolinecolor\":\"white\",\"gridwidth\":2}},\"shapedefaults\":{\"line\":{\"color\":\"#2a3f5f\"}},\"annotationdefaults\":{\"arrowcolor\":\"#2a3f5f\",\"arrowhead\":0,\"arrowwidth\":1},\"geo\":{\"bgcolor\":\"white\",\"landcolor\":\"#E5ECF6\",\"subunitcolor\":\"white\",\"showland\":true,\"showlakes\":true,\"lakecolor\":\"white\"},\"title\":{\"x\":0.05},\"mapbox\":{\"style\":\"light\"}}},\"xaxis\":{\"anchor\":\"y\",\"domain\":[0.0,1.0],\"title\":{\"text\":\"x\"}},\"yaxis\":{\"anchor\":\"x\",\"domain\":[0.0,1.0],\"title\":{\"text\":\"sum of y\"}},\"legend\":{\"tracegroupgap\":0},\"margin\":{\"t\":60},\"barmode\":\"relative\"},                        {\"responsive\": true}                    ).then(function(){\n",
       "                            \n",
       "var gd = document.getElementById('3331b884-926c-4639-a45a-875f3b9a7aad');\n",
       "var x = new MutationObserver(function (mutations, observer) {{\n",
       "        var display = window.getComputedStyle(gd).display;\n",
       "        if (!display || display === 'none') {{\n",
       "            console.log([gd, 'removed!']);\n",
       "            Plotly.purge(gd);\n",
       "            observer.disconnect();\n",
       "        }}\n",
       "}});\n",
       "\n",
       "// Listen for the removal of the full notebook cells\n",
       "var notebookContainer = gd.closest('#notebook-container');\n",
       "if (notebookContainer) {{\n",
       "    x.observe(notebookContainer, {childList: true});\n",
       "}}\n",
       "\n",
       "// Listen for the clearing of the current output cell\n",
       "var outputEl = gd.closest('.output');\n",
       "if (outputEl) {{\n",
       "    x.observe(outputEl, {childList: true});\n",
       "}}\n",
       "\n",
       "                        })                };                });            </script>        </div>"
      ]
     },
     "metadata": {},
     "output_type": "display_data"
    }
   ],
   "source": [
    "from plotly import express\n",
    "express.histogram(x=numerical_columns, y=linreg.coef_)"
   ]
  },
  {
   "cell_type": "code",
   "execution_count": 6,
   "id": "57658f87",
   "metadata": {
    "execution": {
     "iopub.execute_input": "2024-05-03T17:43:05.514811Z",
     "iopub.status.busy": "2024-05-03T17:43:05.514079Z",
     "iopub.status.idle": "2024-05-03T17:43:05.569977Z",
     "shell.execute_reply": "2024-05-03T17:43:05.567194Z"
    },
    "papermill": {
     "duration": 0.066381,
     "end_time": "2024-05-03T17:43:05.573570",
     "exception": false,
     "start_time": "2024-05-03T17:43:05.507189",
     "status": "completed"
    },
    "tags": []
   },
   "outputs": [],
   "source": [
    "SUBMISSION = '/kaggle/working/submission.csv'\n",
    "\n",
    "linreg_full = LinearRegression(positive=False).fit(X=df[numerical_columns], y=df[TARGET])\n",
    "linreg_result_df = pd.DataFrame(data={'Id': test_df['Id'], 'SalePrice': linreg_full.predict(X=test_df[numerical_columns])})\n",
    "linreg_result_df.to_csv(path_or_buf=SUBMISSION, index=False)"
   ]
  },
  {
   "cell_type": "code",
   "execution_count": 7,
   "id": "23e2041b",
   "metadata": {
    "execution": {
     "iopub.execute_input": "2024-05-03T17:43:05.598260Z",
     "iopub.status.busy": "2024-05-03T17:43:05.597727Z",
     "iopub.status.idle": "2024-05-03T17:43:05.837245Z",
     "shell.execute_reply": "2024-05-03T17:43:05.835667Z"
    },
    "papermill": {
     "duration": 0.258618,
     "end_time": "2024-05-03T17:43:05.840317",
     "exception": false,
     "start_time": "2024-05-03T17:43:05.581699",
     "status": "completed"
    },
    "tags": []
   },
   "outputs": [
    {
     "data": {
      "text/html": [
       "<div>                            <div id=\"ec7f4203-d77c-41f7-8821-88f79ae494b8\" class=\"plotly-graph-div\" style=\"height:525px; width:100%;\"></div>            <script type=\"text/javascript\">                require([\"plotly\"], function(Plotly) {                    window.PLOTLYENV=window.PLOTLYENV || {};                                    if (document.getElementById(\"ec7f4203-d77c-41f7-8821-88f79ae494b8\")) {                    Plotly.newPlot(                        \"ec7f4203-d77c-41f7-8821-88f79ae494b8\",                        [{\"alignmentgroup\":\"True\",\"bingroup\":\"x\",\"histfunc\":\"sum\",\"hovertemplate\":\"x=%{x}\\u003cbr\\u003esum of y=%{y}\\u003cextra\\u003e\\u003c\\u002fextra\\u003e\",\"legendgroup\":\"\",\"marker\":{\"color\":\"#636efa\",\"pattern\":{\"shape\":\"\"}},\"name\":\"\",\"offsetgroup\":\"\",\"orientation\":\"v\",\"showlegend\":false,\"x\":[\"MSSubClass\",\"LotArea\",\"OverallQual\",\"OverallCond\",\"YearBuilt\",\"YearRemodAdd\",\"1stFlrSF\",\"2ndFlrSF\",\"LowQualFinSF\",\"GrLivArea\",\"FullBath\",\"HalfBath\",\"BedroomAbvGr\",\"KitchenAbvGr\",\"TotRmsAbvGrd\",\"Fireplaces\",\"WoodDeckSF\",\"OpenPorchSF\",\"EnclosedPorch\",\"3SsnPorch\",\"ScreenPorch\",\"PoolArea\",\"MiscVal\",\"MoSold\",\"YrSold\"],\"xaxis\":\"x\",\"y\":[-158.58525571312506,0.5371734544852534,19585.821226553733,4724.145051380864,532.5107647105341,129.16208843958447,36.10705746067322,17.87626813451209,-16.517925041395216,37.465400555326624,-824.3722636111816,-1689.432914243326,-12175.65928488163,-11860.566088229125,4842.078242156068,4250.833519227925,34.63302324016923,0.7778348508450289,15.116809449800146,20.223096506055846,66.41616691191464,-36.405379501171666,-1.3496695520938704,-186.63002506871717,-654.5640942254646],\"yaxis\":\"y\",\"type\":\"histogram\"}],                        {\"template\":{\"data\":{\"histogram2dcontour\":[{\"type\":\"histogram2dcontour\",\"colorbar\":{\"outlinewidth\":0,\"ticks\":\"\"},\"colorscale\":[[0.0,\"#0d0887\"],[0.1111111111111111,\"#46039f\"],[0.2222222222222222,\"#7201a8\"],[0.3333333333333333,\"#9c179e\"],[0.4444444444444444,\"#bd3786\"],[0.5555555555555556,\"#d8576b\"],[0.6666666666666666,\"#ed7953\"],[0.7777777777777778,\"#fb9f3a\"],[0.8888888888888888,\"#fdca26\"],[1.0,\"#f0f921\"]]}],\"choropleth\":[{\"type\":\"choropleth\",\"colorbar\":{\"outlinewidth\":0,\"ticks\":\"\"}}],\"histogram2d\":[{\"type\":\"histogram2d\",\"colorbar\":{\"outlinewidth\":0,\"ticks\":\"\"},\"colorscale\":[[0.0,\"#0d0887\"],[0.1111111111111111,\"#46039f\"],[0.2222222222222222,\"#7201a8\"],[0.3333333333333333,\"#9c179e\"],[0.4444444444444444,\"#bd3786\"],[0.5555555555555556,\"#d8576b\"],[0.6666666666666666,\"#ed7953\"],[0.7777777777777778,\"#fb9f3a\"],[0.8888888888888888,\"#fdca26\"],[1.0,\"#f0f921\"]]}],\"heatmap\":[{\"type\":\"heatmap\",\"colorbar\":{\"outlinewidth\":0,\"ticks\":\"\"},\"colorscale\":[[0.0,\"#0d0887\"],[0.1111111111111111,\"#46039f\"],[0.2222222222222222,\"#7201a8\"],[0.3333333333333333,\"#9c179e\"],[0.4444444444444444,\"#bd3786\"],[0.5555555555555556,\"#d8576b\"],[0.6666666666666666,\"#ed7953\"],[0.7777777777777778,\"#fb9f3a\"],[0.8888888888888888,\"#fdca26\"],[1.0,\"#f0f921\"]]}],\"heatmapgl\":[{\"type\":\"heatmapgl\",\"colorbar\":{\"outlinewidth\":0,\"ticks\":\"\"},\"colorscale\":[[0.0,\"#0d0887\"],[0.1111111111111111,\"#46039f\"],[0.2222222222222222,\"#7201a8\"],[0.3333333333333333,\"#9c179e\"],[0.4444444444444444,\"#bd3786\"],[0.5555555555555556,\"#d8576b\"],[0.6666666666666666,\"#ed7953\"],[0.7777777777777778,\"#fb9f3a\"],[0.8888888888888888,\"#fdca26\"],[1.0,\"#f0f921\"]]}],\"contourcarpet\":[{\"type\":\"contourcarpet\",\"colorbar\":{\"outlinewidth\":0,\"ticks\":\"\"}}],\"contour\":[{\"type\":\"contour\",\"colorbar\":{\"outlinewidth\":0,\"ticks\":\"\"},\"colorscale\":[[0.0,\"#0d0887\"],[0.1111111111111111,\"#46039f\"],[0.2222222222222222,\"#7201a8\"],[0.3333333333333333,\"#9c179e\"],[0.4444444444444444,\"#bd3786\"],[0.5555555555555556,\"#d8576b\"],[0.6666666666666666,\"#ed7953\"],[0.7777777777777778,\"#fb9f3a\"],[0.8888888888888888,\"#fdca26\"],[1.0,\"#f0f921\"]]}],\"surface\":[{\"type\":\"surface\",\"colorbar\":{\"outlinewidth\":0,\"ticks\":\"\"},\"colorscale\":[[0.0,\"#0d0887\"],[0.1111111111111111,\"#46039f\"],[0.2222222222222222,\"#7201a8\"],[0.3333333333333333,\"#9c179e\"],[0.4444444444444444,\"#bd3786\"],[0.5555555555555556,\"#d8576b\"],[0.6666666666666666,\"#ed7953\"],[0.7777777777777778,\"#fb9f3a\"],[0.8888888888888888,\"#fdca26\"],[1.0,\"#f0f921\"]]}],\"mesh3d\":[{\"type\":\"mesh3d\",\"colorbar\":{\"outlinewidth\":0,\"ticks\":\"\"}}],\"scatter\":[{\"fillpattern\":{\"fillmode\":\"overlay\",\"size\":10,\"solidity\":0.2},\"type\":\"scatter\"}],\"parcoords\":[{\"type\":\"parcoords\",\"line\":{\"colorbar\":{\"outlinewidth\":0,\"ticks\":\"\"}}}],\"scatterpolargl\":[{\"type\":\"scatterpolargl\",\"marker\":{\"colorbar\":{\"outlinewidth\":0,\"ticks\":\"\"}}}],\"bar\":[{\"error_x\":{\"color\":\"#2a3f5f\"},\"error_y\":{\"color\":\"#2a3f5f\"},\"marker\":{\"line\":{\"color\":\"#E5ECF6\",\"width\":0.5},\"pattern\":{\"fillmode\":\"overlay\",\"size\":10,\"solidity\":0.2}},\"type\":\"bar\"}],\"scattergeo\":[{\"type\":\"scattergeo\",\"marker\":{\"colorbar\":{\"outlinewidth\":0,\"ticks\":\"\"}}}],\"scatterpolar\":[{\"type\":\"scatterpolar\",\"marker\":{\"colorbar\":{\"outlinewidth\":0,\"ticks\":\"\"}}}],\"histogram\":[{\"marker\":{\"pattern\":{\"fillmode\":\"overlay\",\"size\":10,\"solidity\":0.2}},\"type\":\"histogram\"}],\"scattergl\":[{\"type\":\"scattergl\",\"marker\":{\"colorbar\":{\"outlinewidth\":0,\"ticks\":\"\"}}}],\"scatter3d\":[{\"type\":\"scatter3d\",\"line\":{\"colorbar\":{\"outlinewidth\":0,\"ticks\":\"\"}},\"marker\":{\"colorbar\":{\"outlinewidth\":0,\"ticks\":\"\"}}}],\"scattermapbox\":[{\"type\":\"scattermapbox\",\"marker\":{\"colorbar\":{\"outlinewidth\":0,\"ticks\":\"\"}}}],\"scatterternary\":[{\"type\":\"scatterternary\",\"marker\":{\"colorbar\":{\"outlinewidth\":0,\"ticks\":\"\"}}}],\"scattercarpet\":[{\"type\":\"scattercarpet\",\"marker\":{\"colorbar\":{\"outlinewidth\":0,\"ticks\":\"\"}}}],\"carpet\":[{\"aaxis\":{\"endlinecolor\":\"#2a3f5f\",\"gridcolor\":\"white\",\"linecolor\":\"white\",\"minorgridcolor\":\"white\",\"startlinecolor\":\"#2a3f5f\"},\"baxis\":{\"endlinecolor\":\"#2a3f5f\",\"gridcolor\":\"white\",\"linecolor\":\"white\",\"minorgridcolor\":\"white\",\"startlinecolor\":\"#2a3f5f\"},\"type\":\"carpet\"}],\"table\":[{\"cells\":{\"fill\":{\"color\":\"#EBF0F8\"},\"line\":{\"color\":\"white\"}},\"header\":{\"fill\":{\"color\":\"#C8D4E3\"},\"line\":{\"color\":\"white\"}},\"type\":\"table\"}],\"barpolar\":[{\"marker\":{\"line\":{\"color\":\"#E5ECF6\",\"width\":0.5},\"pattern\":{\"fillmode\":\"overlay\",\"size\":10,\"solidity\":0.2}},\"type\":\"barpolar\"}],\"pie\":[{\"automargin\":true,\"type\":\"pie\"}]},\"layout\":{\"autotypenumbers\":\"strict\",\"colorway\":[\"#636efa\",\"#EF553B\",\"#00cc96\",\"#ab63fa\",\"#FFA15A\",\"#19d3f3\",\"#FF6692\",\"#B6E880\",\"#FF97FF\",\"#FECB52\"],\"font\":{\"color\":\"#2a3f5f\"},\"hovermode\":\"closest\",\"hoverlabel\":{\"align\":\"left\"},\"paper_bgcolor\":\"white\",\"plot_bgcolor\":\"#E5ECF6\",\"polar\":{\"bgcolor\":\"#E5ECF6\",\"angularaxis\":{\"gridcolor\":\"white\",\"linecolor\":\"white\",\"ticks\":\"\"},\"radialaxis\":{\"gridcolor\":\"white\",\"linecolor\":\"white\",\"ticks\":\"\"}},\"ternary\":{\"bgcolor\":\"#E5ECF6\",\"aaxis\":{\"gridcolor\":\"white\",\"linecolor\":\"white\",\"ticks\":\"\"},\"baxis\":{\"gridcolor\":\"white\",\"linecolor\":\"white\",\"ticks\":\"\"},\"caxis\":{\"gridcolor\":\"white\",\"linecolor\":\"white\",\"ticks\":\"\"}},\"coloraxis\":{\"colorbar\":{\"outlinewidth\":0,\"ticks\":\"\"}},\"colorscale\":{\"sequential\":[[0.0,\"#0d0887\"],[0.1111111111111111,\"#46039f\"],[0.2222222222222222,\"#7201a8\"],[0.3333333333333333,\"#9c179e\"],[0.4444444444444444,\"#bd3786\"],[0.5555555555555556,\"#d8576b\"],[0.6666666666666666,\"#ed7953\"],[0.7777777777777778,\"#fb9f3a\"],[0.8888888888888888,\"#fdca26\"],[1.0,\"#f0f921\"]],\"sequentialminus\":[[0.0,\"#0d0887\"],[0.1111111111111111,\"#46039f\"],[0.2222222222222222,\"#7201a8\"],[0.3333333333333333,\"#9c179e\"],[0.4444444444444444,\"#bd3786\"],[0.5555555555555556,\"#d8576b\"],[0.6666666666666666,\"#ed7953\"],[0.7777777777777778,\"#fb9f3a\"],[0.8888888888888888,\"#fdca26\"],[1.0,\"#f0f921\"]],\"diverging\":[[0,\"#8e0152\"],[0.1,\"#c51b7d\"],[0.2,\"#de77ae\"],[0.3,\"#f1b6da\"],[0.4,\"#fde0ef\"],[0.5,\"#f7f7f7\"],[0.6,\"#e6f5d0\"],[0.7,\"#b8e186\"],[0.8,\"#7fbc41\"],[0.9,\"#4d9221\"],[1,\"#276419\"]]},\"xaxis\":{\"gridcolor\":\"white\",\"linecolor\":\"white\",\"ticks\":\"\",\"title\":{\"standoff\":15},\"zerolinecolor\":\"white\",\"automargin\":true,\"zerolinewidth\":2},\"yaxis\":{\"gridcolor\":\"white\",\"linecolor\":\"white\",\"ticks\":\"\",\"title\":{\"standoff\":15},\"zerolinecolor\":\"white\",\"automargin\":true,\"zerolinewidth\":2},\"scene\":{\"xaxis\":{\"backgroundcolor\":\"#E5ECF6\",\"gridcolor\":\"white\",\"linecolor\":\"white\",\"showbackground\":true,\"ticks\":\"\",\"zerolinecolor\":\"white\",\"gridwidth\":2},\"yaxis\":{\"backgroundcolor\":\"#E5ECF6\",\"gridcolor\":\"white\",\"linecolor\":\"white\",\"showbackground\":true,\"ticks\":\"\",\"zerolinecolor\":\"white\",\"gridwidth\":2},\"zaxis\":{\"backgroundcolor\":\"#E5ECF6\",\"gridcolor\":\"white\",\"linecolor\":\"white\",\"showbackground\":true,\"ticks\":\"\",\"zerolinecolor\":\"white\",\"gridwidth\":2}},\"shapedefaults\":{\"line\":{\"color\":\"#2a3f5f\"}},\"annotationdefaults\":{\"arrowcolor\":\"#2a3f5f\",\"arrowhead\":0,\"arrowwidth\":1},\"geo\":{\"bgcolor\":\"white\",\"landcolor\":\"#E5ECF6\",\"subunitcolor\":\"white\",\"showland\":true,\"showlakes\":true,\"lakecolor\":\"white\"},\"title\":{\"x\":0.05},\"mapbox\":{\"style\":\"light\"}}},\"xaxis\":{\"anchor\":\"y\",\"domain\":[0.0,1.0],\"title\":{\"text\":\"x\"}},\"yaxis\":{\"anchor\":\"x\",\"domain\":[0.0,1.0],\"title\":{\"text\":\"sum of y\"}},\"legend\":{\"tracegroupgap\":0},\"margin\":{\"t\":60},\"barmode\":\"relative\"},                        {\"responsive\": true}                    ).then(function(){\n",
       "                            \n",
       "var gd = document.getElementById('ec7f4203-d77c-41f7-8821-88f79ae494b8');\n",
       "var x = new MutationObserver(function (mutations, observer) {{\n",
       "        var display = window.getComputedStyle(gd).display;\n",
       "        if (!display || display === 'none') {{\n",
       "            console.log([gd, 'removed!']);\n",
       "            Plotly.purge(gd);\n",
       "            observer.disconnect();\n",
       "        }}\n",
       "}});\n",
       "\n",
       "// Listen for the removal of the full notebook cells\n",
       "var notebookContainer = gd.closest('#notebook-container');\n",
       "if (notebookContainer) {{\n",
       "    x.observe(notebookContainer, {childList: true});\n",
       "}}\n",
       "\n",
       "// Listen for the clearing of the current output cell\n",
       "var outputEl = gd.closest('.output');\n",
       "if (outputEl) {{\n",
       "    x.observe(outputEl, {childList: true});\n",
       "}}\n",
       "\n",
       "                        })                };                });            </script>        </div>"
      ]
     },
     "metadata": {},
     "output_type": "display_data"
    }
   ],
   "source": [
    "from plotly import express\n",
    "express.histogram(x=numerical_columns, y=linreg_full.coef_)"
   ]
  },
  {
   "cell_type": "code",
   "execution_count": 8,
   "id": "93e1ee4f",
   "metadata": {
    "execution": {
     "iopub.execute_input": "2024-05-03T17:43:05.854109Z",
     "iopub.status.busy": "2024-05-03T17:43:05.853374Z",
     "iopub.status.idle": "2024-05-03T17:43:05.904051Z",
     "shell.execute_reply": "2024-05-03T17:43:05.902462Z"
    },
    "papermill": {
     "duration": 0.061575,
     "end_time": "2024-05-03T17:43:05.907672",
     "exception": false,
     "start_time": "2024-05-03T17:43:05.846097",
     "status": "completed"
    },
    "tags": []
   },
   "outputs": [
    {
     "name": "stdout",
     "output_type": "stream",
     "text": [
      "rmse: 0.1836\n"
     ]
    }
   ],
   "source": [
    "import numpy as np\n",
    "from sklearn.linear_model import Ridge\n",
    "from sklearn.metrics import mean_squared_error\n",
    "\n",
    "ridge = Ridge(tol=1e-4, random_state=2024, max_iter=10000, positive=True, solver='lbfgs').fit(X=X_train, y=y_train)\n",
    "print('rmse: {:5.4f}'.format(mean_squared_error(squared=False, y_true=np.log(y_test), y_pred=np.log(ridge.predict(X=X_test)))))"
   ]
  },
  {
   "cell_type": "code",
   "execution_count": 9,
   "id": "33b32084",
   "metadata": {
    "execution": {
     "iopub.execute_input": "2024-05-03T17:43:05.942307Z",
     "iopub.status.busy": "2024-05-03T17:43:05.941680Z",
     "iopub.status.idle": "2024-05-03T17:43:06.049823Z",
     "shell.execute_reply": "2024-05-03T17:43:06.048878Z"
    },
    "papermill": {
     "duration": 0.13555,
     "end_time": "2024-05-03T17:43:06.053790",
     "exception": false,
     "start_time": "2024-05-03T17:43:05.918240",
     "status": "completed"
    },
    "tags": []
   },
   "outputs": [
    {
     "data": {
      "text/html": [
       "<div>                            <div id=\"10d92bd3-caec-4ce5-935a-72ef4c4938c6\" class=\"plotly-graph-div\" style=\"height:525px; width:100%;\"></div>            <script type=\"text/javascript\">                require([\"plotly\"], function(Plotly) {                    window.PLOTLYENV=window.PLOTLYENV || {};                                    if (document.getElementById(\"10d92bd3-caec-4ce5-935a-72ef4c4938c6\")) {                    Plotly.newPlot(                        \"10d92bd3-caec-4ce5-935a-72ef4c4938c6\",                        [{\"alignmentgroup\":\"True\",\"bingroup\":\"x\",\"histfunc\":\"sum\",\"hovertemplate\":\"x=%{x}\\u003cbr\\u003esum of y=%{y}\\u003cextra\\u003e\\u003c\\u002fextra\\u003e\",\"legendgroup\":\"\",\"marker\":{\"color\":\"#636efa\",\"pattern\":{\"shape\":\"\"}},\"name\":\"\",\"offsetgroup\":\"\",\"orientation\":\"v\",\"showlegend\":false,\"x\":[\"MSSubClass\",\"LotArea\",\"OverallQual\",\"OverallCond\",\"YearBuilt\",\"YearRemodAdd\",\"1stFlrSF\",\"2ndFlrSF\",\"LowQualFinSF\",\"GrLivArea\",\"FullBath\",\"HalfBath\",\"BedroomAbvGr\",\"KitchenAbvGr\",\"TotRmsAbvGrd\",\"Fireplaces\",\"WoodDeckSF\",\"OpenPorchSF\",\"EnclosedPorch\",\"3SsnPorch\",\"ScreenPorch\",\"PoolArea\",\"MiscVal\",\"MoSold\",\"YrSold\"],\"xaxis\":\"x\",\"y\":[0.0,0.15799130488291513,26.96955437927888,0.7517809222646172,553.2425135180033,336.23829660714364,96.44449443190173,58.902955741420506,0.007696687019736678,8.1170657531672,3.6896728484620716,2.205789377938012,0.0,0.0,0.5646503889331754,3.713451211945759,52.80677268623819,160.51748445996824,0.021443399956517506,29.31045083990004,160.80197942480126,0.0,0.0,1.3599964213944793,0.0],\"yaxis\":\"y\",\"type\":\"histogram\"}],                        {\"template\":{\"data\":{\"histogram2dcontour\":[{\"type\":\"histogram2dcontour\",\"colorbar\":{\"outlinewidth\":0,\"ticks\":\"\"},\"colorscale\":[[0.0,\"#0d0887\"],[0.1111111111111111,\"#46039f\"],[0.2222222222222222,\"#7201a8\"],[0.3333333333333333,\"#9c179e\"],[0.4444444444444444,\"#bd3786\"],[0.5555555555555556,\"#d8576b\"],[0.6666666666666666,\"#ed7953\"],[0.7777777777777778,\"#fb9f3a\"],[0.8888888888888888,\"#fdca26\"],[1.0,\"#f0f921\"]]}],\"choropleth\":[{\"type\":\"choropleth\",\"colorbar\":{\"outlinewidth\":0,\"ticks\":\"\"}}],\"histogram2d\":[{\"type\":\"histogram2d\",\"colorbar\":{\"outlinewidth\":0,\"ticks\":\"\"},\"colorscale\":[[0.0,\"#0d0887\"],[0.1111111111111111,\"#46039f\"],[0.2222222222222222,\"#7201a8\"],[0.3333333333333333,\"#9c179e\"],[0.4444444444444444,\"#bd3786\"],[0.5555555555555556,\"#d8576b\"],[0.6666666666666666,\"#ed7953\"],[0.7777777777777778,\"#fb9f3a\"],[0.8888888888888888,\"#fdca26\"],[1.0,\"#f0f921\"]]}],\"heatmap\":[{\"type\":\"heatmap\",\"colorbar\":{\"outlinewidth\":0,\"ticks\":\"\"},\"colorscale\":[[0.0,\"#0d0887\"],[0.1111111111111111,\"#46039f\"],[0.2222222222222222,\"#7201a8\"],[0.3333333333333333,\"#9c179e\"],[0.4444444444444444,\"#bd3786\"],[0.5555555555555556,\"#d8576b\"],[0.6666666666666666,\"#ed7953\"],[0.7777777777777778,\"#fb9f3a\"],[0.8888888888888888,\"#fdca26\"],[1.0,\"#f0f921\"]]}],\"heatmapgl\":[{\"type\":\"heatmapgl\",\"colorbar\":{\"outlinewidth\":0,\"ticks\":\"\"},\"colorscale\":[[0.0,\"#0d0887\"],[0.1111111111111111,\"#46039f\"],[0.2222222222222222,\"#7201a8\"],[0.3333333333333333,\"#9c179e\"],[0.4444444444444444,\"#bd3786\"],[0.5555555555555556,\"#d8576b\"],[0.6666666666666666,\"#ed7953\"],[0.7777777777777778,\"#fb9f3a\"],[0.8888888888888888,\"#fdca26\"],[1.0,\"#f0f921\"]]}],\"contourcarpet\":[{\"type\":\"contourcarpet\",\"colorbar\":{\"outlinewidth\":0,\"ticks\":\"\"}}],\"contour\":[{\"type\":\"contour\",\"colorbar\":{\"outlinewidth\":0,\"ticks\":\"\"},\"colorscale\":[[0.0,\"#0d0887\"],[0.1111111111111111,\"#46039f\"],[0.2222222222222222,\"#7201a8\"],[0.3333333333333333,\"#9c179e\"],[0.4444444444444444,\"#bd3786\"],[0.5555555555555556,\"#d8576b\"],[0.6666666666666666,\"#ed7953\"],[0.7777777777777778,\"#fb9f3a\"],[0.8888888888888888,\"#fdca26\"],[1.0,\"#f0f921\"]]}],\"surface\":[{\"type\":\"surface\",\"colorbar\":{\"outlinewidth\":0,\"ticks\":\"\"},\"colorscale\":[[0.0,\"#0d0887\"],[0.1111111111111111,\"#46039f\"],[0.2222222222222222,\"#7201a8\"],[0.3333333333333333,\"#9c179e\"],[0.4444444444444444,\"#bd3786\"],[0.5555555555555556,\"#d8576b\"],[0.6666666666666666,\"#ed7953\"],[0.7777777777777778,\"#fb9f3a\"],[0.8888888888888888,\"#fdca26\"],[1.0,\"#f0f921\"]]}],\"mesh3d\":[{\"type\":\"mesh3d\",\"colorbar\":{\"outlinewidth\":0,\"ticks\":\"\"}}],\"scatter\":[{\"fillpattern\":{\"fillmode\":\"overlay\",\"size\":10,\"solidity\":0.2},\"type\":\"scatter\"}],\"parcoords\":[{\"type\":\"parcoords\",\"line\":{\"colorbar\":{\"outlinewidth\":0,\"ticks\":\"\"}}}],\"scatterpolargl\":[{\"type\":\"scatterpolargl\",\"marker\":{\"colorbar\":{\"outlinewidth\":0,\"ticks\":\"\"}}}],\"bar\":[{\"error_x\":{\"color\":\"#2a3f5f\"},\"error_y\":{\"color\":\"#2a3f5f\"},\"marker\":{\"line\":{\"color\":\"#E5ECF6\",\"width\":0.5},\"pattern\":{\"fillmode\":\"overlay\",\"size\":10,\"solidity\":0.2}},\"type\":\"bar\"}],\"scattergeo\":[{\"type\":\"scattergeo\",\"marker\":{\"colorbar\":{\"outlinewidth\":0,\"ticks\":\"\"}}}],\"scatterpolar\":[{\"type\":\"scatterpolar\",\"marker\":{\"colorbar\":{\"outlinewidth\":0,\"ticks\":\"\"}}}],\"histogram\":[{\"marker\":{\"pattern\":{\"fillmode\":\"overlay\",\"size\":10,\"solidity\":0.2}},\"type\":\"histogram\"}],\"scattergl\":[{\"type\":\"scattergl\",\"marker\":{\"colorbar\":{\"outlinewidth\":0,\"ticks\":\"\"}}}],\"scatter3d\":[{\"type\":\"scatter3d\",\"line\":{\"colorbar\":{\"outlinewidth\":0,\"ticks\":\"\"}},\"marker\":{\"colorbar\":{\"outlinewidth\":0,\"ticks\":\"\"}}}],\"scattermapbox\":[{\"type\":\"scattermapbox\",\"marker\":{\"colorbar\":{\"outlinewidth\":0,\"ticks\":\"\"}}}],\"scatterternary\":[{\"type\":\"scatterternary\",\"marker\":{\"colorbar\":{\"outlinewidth\":0,\"ticks\":\"\"}}}],\"scattercarpet\":[{\"type\":\"scattercarpet\",\"marker\":{\"colorbar\":{\"outlinewidth\":0,\"ticks\":\"\"}}}],\"carpet\":[{\"aaxis\":{\"endlinecolor\":\"#2a3f5f\",\"gridcolor\":\"white\",\"linecolor\":\"white\",\"minorgridcolor\":\"white\",\"startlinecolor\":\"#2a3f5f\"},\"baxis\":{\"endlinecolor\":\"#2a3f5f\",\"gridcolor\":\"white\",\"linecolor\":\"white\",\"minorgridcolor\":\"white\",\"startlinecolor\":\"#2a3f5f\"},\"type\":\"carpet\"}],\"table\":[{\"cells\":{\"fill\":{\"color\":\"#EBF0F8\"},\"line\":{\"color\":\"white\"}},\"header\":{\"fill\":{\"color\":\"#C8D4E3\"},\"line\":{\"color\":\"white\"}},\"type\":\"table\"}],\"barpolar\":[{\"marker\":{\"line\":{\"color\":\"#E5ECF6\",\"width\":0.5},\"pattern\":{\"fillmode\":\"overlay\",\"size\":10,\"solidity\":0.2}},\"type\":\"barpolar\"}],\"pie\":[{\"automargin\":true,\"type\":\"pie\"}]},\"layout\":{\"autotypenumbers\":\"strict\",\"colorway\":[\"#636efa\",\"#EF553B\",\"#00cc96\",\"#ab63fa\",\"#FFA15A\",\"#19d3f3\",\"#FF6692\",\"#B6E880\",\"#FF97FF\",\"#FECB52\"],\"font\":{\"color\":\"#2a3f5f\"},\"hovermode\":\"closest\",\"hoverlabel\":{\"align\":\"left\"},\"paper_bgcolor\":\"white\",\"plot_bgcolor\":\"#E5ECF6\",\"polar\":{\"bgcolor\":\"#E5ECF6\",\"angularaxis\":{\"gridcolor\":\"white\",\"linecolor\":\"white\",\"ticks\":\"\"},\"radialaxis\":{\"gridcolor\":\"white\",\"linecolor\":\"white\",\"ticks\":\"\"}},\"ternary\":{\"bgcolor\":\"#E5ECF6\",\"aaxis\":{\"gridcolor\":\"white\",\"linecolor\":\"white\",\"ticks\":\"\"},\"baxis\":{\"gridcolor\":\"white\",\"linecolor\":\"white\",\"ticks\":\"\"},\"caxis\":{\"gridcolor\":\"white\",\"linecolor\":\"white\",\"ticks\":\"\"}},\"coloraxis\":{\"colorbar\":{\"outlinewidth\":0,\"ticks\":\"\"}},\"colorscale\":{\"sequential\":[[0.0,\"#0d0887\"],[0.1111111111111111,\"#46039f\"],[0.2222222222222222,\"#7201a8\"],[0.3333333333333333,\"#9c179e\"],[0.4444444444444444,\"#bd3786\"],[0.5555555555555556,\"#d8576b\"],[0.6666666666666666,\"#ed7953\"],[0.7777777777777778,\"#fb9f3a\"],[0.8888888888888888,\"#fdca26\"],[1.0,\"#f0f921\"]],\"sequentialminus\":[[0.0,\"#0d0887\"],[0.1111111111111111,\"#46039f\"],[0.2222222222222222,\"#7201a8\"],[0.3333333333333333,\"#9c179e\"],[0.4444444444444444,\"#bd3786\"],[0.5555555555555556,\"#d8576b\"],[0.6666666666666666,\"#ed7953\"],[0.7777777777777778,\"#fb9f3a\"],[0.8888888888888888,\"#fdca26\"],[1.0,\"#f0f921\"]],\"diverging\":[[0,\"#8e0152\"],[0.1,\"#c51b7d\"],[0.2,\"#de77ae\"],[0.3,\"#f1b6da\"],[0.4,\"#fde0ef\"],[0.5,\"#f7f7f7\"],[0.6,\"#e6f5d0\"],[0.7,\"#b8e186\"],[0.8,\"#7fbc41\"],[0.9,\"#4d9221\"],[1,\"#276419\"]]},\"xaxis\":{\"gridcolor\":\"white\",\"linecolor\":\"white\",\"ticks\":\"\",\"title\":{\"standoff\":15},\"zerolinecolor\":\"white\",\"automargin\":true,\"zerolinewidth\":2},\"yaxis\":{\"gridcolor\":\"white\",\"linecolor\":\"white\",\"ticks\":\"\",\"title\":{\"standoff\":15},\"zerolinecolor\":\"white\",\"automargin\":true,\"zerolinewidth\":2},\"scene\":{\"xaxis\":{\"backgroundcolor\":\"#E5ECF6\",\"gridcolor\":\"white\",\"linecolor\":\"white\",\"showbackground\":true,\"ticks\":\"\",\"zerolinecolor\":\"white\",\"gridwidth\":2},\"yaxis\":{\"backgroundcolor\":\"#E5ECF6\",\"gridcolor\":\"white\",\"linecolor\":\"white\",\"showbackground\":true,\"ticks\":\"\",\"zerolinecolor\":\"white\",\"gridwidth\":2},\"zaxis\":{\"backgroundcolor\":\"#E5ECF6\",\"gridcolor\":\"white\",\"linecolor\":\"white\",\"showbackground\":true,\"ticks\":\"\",\"zerolinecolor\":\"white\",\"gridwidth\":2}},\"shapedefaults\":{\"line\":{\"color\":\"#2a3f5f\"}},\"annotationdefaults\":{\"arrowcolor\":\"#2a3f5f\",\"arrowhead\":0,\"arrowwidth\":1},\"geo\":{\"bgcolor\":\"white\",\"landcolor\":\"#E5ECF6\",\"subunitcolor\":\"white\",\"showland\":true,\"showlakes\":true,\"lakecolor\":\"white\"},\"title\":{\"x\":0.05},\"mapbox\":{\"style\":\"light\"}}},\"xaxis\":{\"anchor\":\"y\",\"domain\":[0.0,1.0],\"title\":{\"text\":\"x\"}},\"yaxis\":{\"anchor\":\"x\",\"domain\":[0.0,1.0],\"title\":{\"text\":\"sum of y\"}},\"legend\":{\"tracegroupgap\":0},\"margin\":{\"t\":60},\"barmode\":\"relative\"},                        {\"responsive\": true}                    ).then(function(){\n",
       "                            \n",
       "var gd = document.getElementById('10d92bd3-caec-4ce5-935a-72ef4c4938c6');\n",
       "var x = new MutationObserver(function (mutations, observer) {{\n",
       "        var display = window.getComputedStyle(gd).display;\n",
       "        if (!display || display === 'none') {{\n",
       "            console.log([gd, 'removed!']);\n",
       "            Plotly.purge(gd);\n",
       "            observer.disconnect();\n",
       "        }}\n",
       "}});\n",
       "\n",
       "// Listen for the removal of the full notebook cells\n",
       "var notebookContainer = gd.closest('#notebook-container');\n",
       "if (notebookContainer) {{\n",
       "    x.observe(notebookContainer, {childList: true});\n",
       "}}\n",
       "\n",
       "// Listen for the clearing of the current output cell\n",
       "var outputEl = gd.closest('.output');\n",
       "if (outputEl) {{\n",
       "    x.observe(outputEl, {childList: true});\n",
       "}}\n",
       "\n",
       "                        })                };                });            </script>        </div>"
      ]
     },
     "metadata": {},
     "output_type": "display_data"
    }
   ],
   "source": [
    "from plotly import express\n",
    "express.histogram(x=ridge.feature_names_in_, y=ridge.coef_)"
   ]
  },
  {
   "cell_type": "code",
   "execution_count": 10,
   "id": "d993c231",
   "metadata": {
    "execution": {
     "iopub.execute_input": "2024-05-03T17:43:06.073725Z",
     "iopub.status.busy": "2024-05-03T17:43:06.072987Z",
     "iopub.status.idle": "2024-05-03T17:43:06.111868Z",
     "shell.execute_reply": "2024-05-03T17:43:06.110647Z"
    },
    "papermill": {
     "duration": 0.052687,
     "end_time": "2024-05-03T17:43:06.115314",
     "exception": false,
     "start_time": "2024-05-03T17:43:06.062627",
     "status": "completed"
    },
    "tags": []
   },
   "outputs": [],
   "source": [
    "SUBMISSION = '/kaggle/working/submission.csv'\n",
    "\n",
    "ridge_full = Ridge(tol=1e-4, random_state=2024, max_iter=10000, positive=True, solver='lbfgs').fit(X=df[numerical_columns], y=df[TARGET])\n",
    "ridge_result_df = pd.DataFrame(data={'Id': test_df['Id'], 'SalePrice': ridge_full.predict(X=test_df[numerical_columns])})\n",
    "ridge_result_df.to_csv(path_or_buf=SUBMISSION, index=False)"
   ]
  },
  {
   "cell_type": "code",
   "execution_count": 11,
   "id": "e1b7c0cb",
   "metadata": {
    "execution": {
     "iopub.execute_input": "2024-05-03T17:43:06.157051Z",
     "iopub.status.busy": "2024-05-03T17:43:06.156344Z",
     "iopub.status.idle": "2024-05-03T17:43:06.333435Z",
     "shell.execute_reply": "2024-05-03T17:43:06.332127Z"
    },
    "papermill": {
     "duration": 0.21207,
     "end_time": "2024-05-03T17:43:06.336522",
     "exception": false,
     "start_time": "2024-05-03T17:43:06.124452",
     "status": "completed"
    },
    "tags": []
   },
   "outputs": [
    {
     "data": {
      "text/html": [
       "<div>                            <div id=\"c3864495-eaf6-4b96-9dd7-59e1371dd2ff\" class=\"plotly-graph-div\" style=\"height:525px; width:100%;\"></div>            <script type=\"text/javascript\">                require([\"plotly\"], function(Plotly) {                    window.PLOTLYENV=window.PLOTLYENV || {};                                    if (document.getElementById(\"c3864495-eaf6-4b96-9dd7-59e1371dd2ff\")) {                    Plotly.newPlot(                        \"c3864495-eaf6-4b96-9dd7-59e1371dd2ff\",                        [{\"hovertemplate\":\"x=%{x}\\u003cbr\\u003ey=%{y}\\u003cextra\\u003e\\u003c\\u002fextra\\u003e\",\"legendgroup\":\"\",\"marker\":{\"color\":\"#636efa\",\"symbol\":\"circle\"},\"mode\":\"markers\",\"name\":\"\",\"showlegend\":false,\"x\":[129515.19614315045,155320.03046511638,174245.3544633257,205008.06733959226,209817.1198493509,190347.43677514012,191380.27522339148,176996.30405616167,212253.09517248312,99424.04236355994,200288.21704684722,116720.46771858993,86666.92239732726,148964.49624224764,135021.80459660164,329229.31226356945,247683.08820409546,286021.7565861329,276059.8680191798,377862.7037025505,289546.9933703124,229944.01684218724,189892.258441168,187362.3490855425,197373.39018210454,221687.9045766253,298965.2100765557,263426.74008546316,200243.53936176014,225000.8222664265,219703.50074264788,100461.78663958341,213154.03605423414,271223.88621658075,261489.8181409909,218461.46759415566,184227.73413411865,157456.8277812231,157598.8065318406,139973.2390585203,159755.2344843446,147973.6586854785,272391.0047088618,251497.21022556312,226342.31104149003,197865.5396533761,246530.59103963486,204655.6121607396,159555.00755486463,130439.51434263133,132237.71488623891,170592.28654007625,178255.40404885414,137142.80029498797,227334.51269010254,164857.72572584765,172496.82767958997,128678.03954103461,226645.90699559808,119755.8046352897,125844.14301291353,189831.43798249878,94390.06884322374,122809.46640131308,108850.864101329,91225.44780370744,82757.20832006948,156735.8997744167,125396.9512734093,235278.38410338256,127336.0030696619,103934.80940962618,141496.94603662693,139282.9455579311,162980.24868558033,108997.45333844528,16869.89934942277,194075.16982124618,224780.20578498286,122240.18318219238,150409.58829325496,146066.49822435726,210407.58493599563,67289.2081425268,130211.41065363388,131667.364098373,144714.20943190542,151464.90665623604,115806.42191541998,111724.26674023469,124760.87408248533,127288.2526845833,172304.20864716603,130032.99636388023,180235.109886472,83077.28896193986,82610.51859030302,96118.82229934598,75938.05855230393,110306.85662942391,121936.92838978267,115630.92383170279,115385.60676694673,141471.60450269503,136329.9131840003,253696.90769298383,52909.59862252569,209095.45373582898,94824.48123493104,149270.05072863714,120272.23889474978,137788.01180188812,252819.85801958907,120970.6338600727,240077.09614906632,227543.59197273044,209880.8872520757,135672.254766903,127052.01335757959,215992.9080037308,148872.0372086271,108102.95335106866,288267.9640730653,245253.12778713237,148653.3640405956,53370.8740027413,114158.62846033007,146659.15044333425,100504.123886468,139964.2732680129,80321.50803114579,130266.19388324779,127606.68113992887,146124.06866170897,119332.5350926636,215488.0392545712,159109.01580377866,206168.1292083586,201000.04980508832,198886.10227527434,19210.3018038898,128271.46638117905,58602.299564432,252817.8517238438,252019.83051576637,178801.658452968,185641.12353197287,215277.69462842552,210422.8144120077,160943.27123340836,159154.50280161633,176275.2326048162,182507.0123813959,125909.29227514158,78245.73172351916,56794.33968471654,68528.07956402085,115997.53914125997,147983.8061654967,180450.10367268987,133122.30391996435,135330.57654054894,265769.40111946536,207425.4428629669,127872.49675916223,171179.0175420234,197020.8735214825,272295.9334330376,205783.50519585464,336954.8411129293,225389.158863485,243164.71478137435,198426.32954769064,188804.39417732175,176280.42849909927,167844.2493634086,187737.02775261755,229767.6746572041,215196.61115516088,281982.93803199206,206546.55470823584,226900.7413984818,245748.46507150718,248828.4601870935,221200.40467338092,157394.75523882912,174868.73396514164,141187.2618898353,129140.9012992726,93441.09515459527,104428.45028994739,108241.1460027254,112303.61820095609,151764.33391513786,150115.45964587684,140472.22234009503,153491.0213850268,146397.8578606124,145526.23229538574,136677.1440298531,350670.18448024767,328665.68685375026,313002.8227496726,406498.1926285812,295712.4579888232,277021.3982307705,299067.2238146359,295341.06733122456,282489.22923669044,298625.0516780993,255598.6840149424,350565.890769282,285636.60318105563,256259.74612522093,191496.86630629696,194239.66159133025,214915.3083199013,383305.0088961994,308345.15763917996,293281.27091266226,259968.57760801856,274352.2488010017,209294.22234737122,209675.55925520783,184101.05656999903,191015.6177402194,190865.06549743604,215071.3989184689,220306.1519914406,207141.0539817551,195405.0744793887,245604.430693295,188584.88791945943,182060.5681497419,192610.08430423093,259639.2183148825,196697.82019050553,314982.5429478303,290272.08603299,246603.75710362536,275594.4315034287,261434.95225601914,261491.7306229185,261867.92432927355,249960.79780816069,366121.4287734862,211995.85001519782,222591.66288525463,277279.5421506056,248064.16028513238,254012.48863964542,275058.55442962924,249772.69060123703,224691.71517617363,202477.88605412765,201055.34397240955,194665.19225507806,163527.10032903397,229507.58993952596,244437.66227389398,197029.43147288327,148530.74349696486,148904.76504888636,226315.56418979695,229174.73708660007,194454.8582583593,165329.6216585703,193271.44159029349,165421.28907612961,183967.15737756545,105376.19248823769,101386.31078803487,114192.08879855153,116266.85157412774,123295.1662745736,108707.68830426986,316610.4236061092,247319.3851339488,287828.96990307013,212042.2830131568,185389.69116639992,155017.49938338873,167574.2700983942,290654.047324007,248367.95327022733,248564.0610410782,245087.7902444088,237032.81446839674,154862.545918398,147092.05438713654,269174.99666352116,116553.9322591633,166902.9675564791,227524.02936730316,153789.60304222716,110589.98314076284,103783.63271246821,121886.25845145545,177086.57771834655,161191.32009735814,148571.25634833676,170872.36128980824,169339.79812514427,113170.70105228311,198103.74712458457,192985.49258338445,236426.88928546375,137042.6628311816,185406.21398303442,152833.2013144993,123863.60781449167,145047.50265798805,113940.76766628836,141402.8511295651,140778.53629844,138869.40392725443,91343.28872705315,136035.6488492742,145650.0788472115,182102.4072739153,128009.57791696436,55368.83100900908,123158.99218083819,89949.9132994811,111526.01035742246,126991.6679476499,160008.4634682929,9707.839750595558,88273.50740006188,30552.176018860584,191732.41681384126,183121.97717512207,141449.76876561175,161869.3346477865,137237.15266403666,157255.70424567763,131040.08812151471,116965.68884211167,96329.94664948987,113438.03298450581,104974.02840812894,152275.69142526452,166895.3139297014,118168.2687609542,144533.1513049674,149687.98708062916,150645.10988592374,114390.38680787355,125014.98530755535,141048.86234188377,72674.25059024493,106191.61491748731,122722.90553404269,69086.76666732218,17966.20751496095,96210.5764443485,82656.88543710897,164827.54936768132,121739.9896674768,47348.603983221736,120372.35340538289,136534.39126182132,20924.849090382384,156057.3781109603,150253.93380538368,90138.66217422573,107173.77610523085,142653.06015312573,103008.24928775587,156019.0689688371,203590.9014987719,118990.42006065923,156186.18316845567,137918.61943081644,120451.20459231961,142256.5548986338,86238.51833758055,116412.10254879756,86007.62861636694,131674.65998256503,123002.1201603461,70002.9999574294,128568.46314941085,133443.3216284655,148458.55078386277,148598.19573985686,189770.07201373036,13561.331445898562,139156.83418365213,121985.79005114845,160814.8684306263,127547.42777461786,119279.30821824953,187445.1648789129,175065.5407756904,243746.75115164896,143605.32243934897,144319.33347487677,135465.8272523635,138559.14352692914,133841.32426801202,242909.69840158676,240806.1271538226,240826.0025716386,315543.77026188315,294388.1547383835,246106.6069668719,282213.66661640874,222886.04849765,233750.25502868547,251488.48961695345,181061.9925993599,222048.53623861322,145298.4162251369,205621.25662768207,202759.69455962646,215875.07756364057,229022.68176636464,117312.32085100416,132053.5631270634,231982.4974502422,266293.7568830905,205154.6906404709,225738.977572577,252397.2704847021,275600.68991047365,222946.93895096114,267856.3587355808,176137.84589675668,114141.92221685027,145156.8744364229,75830.91855531481,134825.99523592478,119812.08341018873,172370.3099393241,123689.9070704027,111003.83754827775,132429.70881026232,147848.59204497276,160120.56343870022,151893.65712510067,160986.3365141304,221895.1770759585,135602.7781226248,190487.92655503185,156500.5602791565,205614.99933091918,136693.60232566687,143644.84970884392,141959.47771984775,217037.60123844878,305545.4894855927,147786.38189088058,47419.97768205886,249412.28950327184,30143.604122912904,263547.43614016345,154089.35522658814,193830.16459752893,183156.75369027926,320586.31361173315,276097.7212853177,245159.4539808679,211142.4319636011,246810.5525721071,325560.4363250717,133455.3090447613,161752.5244831128,114050.54676221049,164881.05118883,132343.31380774634,138819.77945586824,153054.17715548858,188280.47806770494,180294.0180926167,188322.07350286073,197031.07344025513,169604.98906535772,254343.06155731736,209854.75413686223,191862.87997896294,186325.90815148107,210290.49205006962,279809.78881220403,314817.71067992784,173153.71514513297,277731.04878849327,185236.30499911937,251550.84190541922,199730.23499803827,265099.83674245025,243894.08627969326,165423.15599079966,235092.73682916697,131357.59758824226,293291.26751124114,186272.20039453404,283249.5546222457,133106.17608130095,101095.55184821365,103372.99804022396,111629.77743078326,127865.05134753953,99669.66425381158,132899.36772999028,152522.36332701286,258457.43002765087,327790.1874435039,319970.1710804808,339397.7455313362,368380.2117256799,318793.0704444493,266663.23884272086,282486.1593372179,399299.9795752263,270109.94695193064,306001.6721604862,317810.6075949224,289632.88112988905,209021.52648691274,286562.4470793817,224303.00704635933,225049.52714663438,192838.4237572623,224262.94607028944,229214.69732329992,211987.9374085921,190283.0318225415,219883.52636562448,232730.2483117913,217559.49391091263,235020.27817832373,194647.0986764112,250440.4455346197,210393.1962983939,271879.06737382314,290623.0951031856,286467.5289614403,261485.1888640944,296572.2921010449,252389.16861785363,234422.89529944488,261629.62097242937,261019.47072288764,238322.14341245845,234416.68425336663,263784.3176399267,214835.4644733558,196475.2587873016,221504.45661114083,176152.2462400836,193618.50731203821,174768.7612856927,188654.4811635851,202168.1949722215,187738.6404230597,212320.479646059,115951.9800415067,125609.36693330132,77006.08431751908,97304.24196105474,191780.45390654518,134037.76915116585,274396.61296856287,339648.4339209155,197883.84693492483,144473.78773334576,179899.23788916995,154945.58991469909,263737.3014210351,253065.73019573672,244238.90426368613,253443.56790078475,160693.1542916007,220280.57779317859,209275.38248604885,210566.71961697494,321272.7364805711,219110.3110558069,331917.53458641446,269607.975952795,227431.15738449382,171199.5568435674,204894.56483481638,216731.92257051377,139296.93550282414,126904.41449255659,126505.39186725067,127633.84477326344,184116.35973692965,135883.5413101816,127298.62126977253,145748.75780889927,69310.51861880276,153007.07744068536,160116.8009141765,108118.2424253535,205965.10606642207,132757.94734686473,196567.33234376018,195274.04577671085,113089.25131586031,106329.78929288941,121502.44044440542,112418.23041455518,195196.6478386172,153160.43961830367,139336.00380292907,90400.25253388076,104104.14669421152,74339.11826107463,125595.2725289187,129493.92142813397,185174.72689801082,144640.16078796377,117263.70101187658,132573.1544081648,113368.90743019828,134820.8801711935,132541.19251098856,122341.6325748919,128909.74346778728,140619.58218914876,105470.46232578345,121551.64053886174,176968.18022977398,132481.8940043319,114158.85896902648,69007.9431625225,127082.12141917204,78681.23781343827,149486.53855103604,143488.5853997916,150885.73533278867,127511.40695707151,86339.2314948414,85231.09862961224,128038.89360194537,14320.540917906896,70423.54994816122,93047.8008265486,159068.76462631696,95157.39734805538,143367.6259091245,137450.14173442987,12916.431055685258,206946.85871985322,122151.20294085937,115646.64501223317,135403.9265825937,200684.1102796828,137829.05752145802,118640.82693258254,124400.33956555277,167118.10667571123,112535.12442445196,155367.9812284012,137858.4891670735,117909.72793006245,109197.89078135206,86214.6026694777,91319.63068377576,119916.41621088632,189334.44216952077,127132.00112737715,143550.6096721997,161207.28395799105,145609.8327279985,114212.92973863962,141271.3756437013,157449.7520963489,118917.77147150645,133698.60909521207,122330.12370546279,106058.92735496885,28665.95331381353,119159.3671133183,121302.84614354954,151678.81766676717,136677.23811327713,163902.83842740627,122688.79071514611,139570.33722906606,73454.20345740368,136043.83025287045,185264.26289916504,142186.91948117712,134822.25364354788,116495.57353718579,230344.1698048303,150797.7551357951,175388.7163081905,199153.92305609933,103400.47310422873,155878.82863884512,271454.7072254524,241426.057697362,246213.46283944204,244385.64766229942,195023.0267636485,261114.75570936428,347517.4073207164,301542.7547605394,232868.07516188102,216362.06196875309,143744.7611699195,211962.35947199818,189187.83041923074,200472.60011534952,215178.825922827,149595.93309977115,129045.63534893491,203127.40650079865,253263.42018395776,283675.6801683805,268938.99868666753,253381.75577193845,242283.23382116944,146150.5123290876,221465.56309180075,212160.15279315994,229065.0257032774,207910.68006712734,142747.51623577764,124033.4133926204,159261.07973157614,159953.93880784116,166642.01109815203,358111.01332636457,86602.9358145434,86863.77127706097,51229.71859351055,115682.97038707207,120253.44751922716,90553.18339959788,96555.60873188754,100537.45223664679,193682.24055419513,171600.2829348112,148996.52840106701,138414.13096855697,203145.0182125857,120249.63683323376,157898.3181357931,118056.64427424781,160027.68686077115,213132.63356461865,250849.5021353622,198751.00225853221,133834.4040349149,132371.41102697328,129786.50053373422,99487.86869950988,157014.346268059,108189.28162114485,153827.8651656541,14486.514386297422,84432.18639800137,77341.19078968697,44175.39662566477,249693.59354735978,234167.8986356037,264061.4493065539,235047.13568780964,134570.6276634736,181834.7968108009,214716.65790921054,250991.4594456991,241638.85982322434,153544.54746962362,204678.62396668876,213365.67134681437,185883.06953820423,247043.1058842621,209938.97332067485,265678.1759826436,279214.87888670387,197729.5835877224,157795.76403685356,153361.82061782968,112272.78590472369,110775.28260171786,125523.43232468958,87370.78320425027,87849.83099735877,141018.7907509415,136501.57988385926,135084.7221881675,120901.52748377551,126164.1435526174,118806.22585522174,196717.51600454145,170573.25954106523,198444.1239953181,205569.28969311438,190345.91622235373,209611.93627620468,185533.74918167622,197058.24366076294,162091.89907416448,199303.75947266867,217175.43871516458,296531.93227195414,367605.20464006974,149805.1864600282,265903.25106478506,341153.790037506,352230.6321458607,167206.63773974383,202488.90683973467,227226.9232833253,223210.86557980932,172874.9986160556,192456.3432924601,176189.70341593333,194438.61830683172,187329.87287607396,170410.8839581183,114593.8941192576,107938.68455395175,180545.02354903313,176426.4076831376,119719.72809949637,110404.33757199792,163110.7309246869,113226.3064473125,297356.99555068254,262440.02791761886,309887.4860490684,346241.12081946223,304544.90193391964,361245.6293965578,359576.67579843756,341125.12417535717,365562.745378586,281169.31568421447,277337.5720585701,294581.19291873695,325215.9606844585,290828.0794236122,258885.44973046568,234628.18385746263,264689.1249391218,250456.1276921628,190841.4692247834,191402.4336468985,193266.12211207373,245158.37332650393,269122.3448421662,222946.54823720342,211552.94717532236,190246.36996315912,186658.807756749,198887.85927174732,189029.83269675708,193926.77800363515,187907.40541526096,179336.4403719644,201320.14674375652,204262.5294772494,248458.71326274404,217887.49401270392,194080.7046304073,202988.78433179788,227045.68673865966,198492.84661485933,221630.66054490235,233487.7427122535,195864.8239903788,209368.06317815164,297135.8544061184,345105.6742727405,300962.0411730998,253352.14662101286,268961.53260599566,286154.9227594377,208747.029379298,252580.29489859173,256587.84207586458,343754.3724481133,220659.56923301498,248201.9905922397,233403.96103331147,240009.61640704193,249274.30514327463,225066.34150004483,205907.495308399,250122.23725251507,173073.37470228158,261523.57811685072,261767.8023524231,268353.72407949506,249021.9713590334,167303.765836763,184272.43770421555,149720.77730196182,220753.94460353864,200671.77035168282,155980.51301255196,128718.33663649301,129029.40914824003,278123.99659892404,136817.15503225874,188398.26368579714,230524.9802608502,201118.78559385453,231764.65557514972,199637.45530205758,228854.95479864188,156236.54659046957,147103.93049980796,202171.58928370665,279249.02956680674,299683.6264286211,250997.00154817806,289357.91022199416,334157.1714197311,157111.48652411115,221059.07660991725,144499.5517206432,172335.401004446,254122.9427361831,243968.85035019953,252798.324551218,162675.2280543533,139397.4849878671,131075.29988897152,111192.35577079075,131564.69169636586,149967.61345805394,125281.59652198644,109752.77896233814,177336.81572255425,129930.26109002021,200291.0521987111,173223.395218096,215367.61034861233,130953.85307523425,31000.604352973678,27207.393643832576,126376.76313234845,148009.91498643372,132408.83173153203,140040.65185541243,157521.45976269039,146180.80543393714,112580.69499141796,142478.41962368696,127082.97785050076,200134.2455105684,112607.2337845676,166923.8512178825,120115.97353214191,146303.44536123777,124168.76068640364,136166.47406937185,138960.9631945796,124437.46207980931,101721.22549833989,110060.14409583833,139970.36769054437,116830.56089459479,111239.59916803034,158407.11228933188,232929.09972982857,119482.02991783552,117766.38351456242,207407.1509177762,109797.13051141359,132664.5044394548,114423.56742612741,128604.250286317,146941.33411812808,127896.44570264759,146952.15316217954,115632.97789296813,110434.78439712318,104111.59189065782,109955.63428921488,127657.42494589489,96147.76905394325,104118.79487021247,133180.9223152539,120454.09805160158,62754.54441394778,105706.91930967037,204618.42774255786,149597.17063377987,101104.3142921536,156674.26685876728,117144.99635988756,221971.73792643452,99640.61498305181,149702.8237467406,143092.42818771003,128377.14679985357,121898.5728332829,127730.38116170073,104314.67722219302,144806.99582509327,116358.74554184338,138922.33577482685,117657.38113099153,186573.927753815,137882.57285809124,96466.35501099637,149862.39661930015,81995.94661683663,87542.69955398099,205128.6396471502,245973.0117879019,180445.70470992642,76090.18500733869,67001.12878284445,254988.5709827163,94324.09278927886,90418.63827105964,161054.4299802515,83982.20927297794,127275.36984373469,116627.32199418804,106802.33299932608,105810.53145700836,124203.83458748719,125560.05952302323,148462.70708515917,209541.5012170349,194132.88810209374,166911.66961373368,144017.4928410759,90080.93974252723,207402.28965885032,152825.99556177904,165294.04330963854,108692.2316171022,253110.11466188778,174176.56952699463,99107.59862396613,87187.84013117317,123373.5288102201,129304.95062068969,138658.58840171297,76650.05093577672,194064.1582691183,235590.21825678324,264854.93544656667,298081.0592512067,265007.13150907564,231945.3954302578,251320.96790369952,211419.61783804072,224225.0220917296,230912.3972194407,308741.0598578076,138728.63797688836,169567.60930474292,146923.51802751914,155923.9548340191,234120.17055033965,218274.4681138825,210947.38662569018,230861.21658747343,109937.47980619132,122550.54099705935,127840.98456003683,120767.29970247581,111878.48598913339,112953.81401270002,112733.98952224481,115540.94857189179,256192.88560179438,231434.36307443355,225514.31458943387,251146.42415984793,284849.61819413654,250400.05112061815,257764.4490290289,199573.23082756347,204243.47606317818,189514.8026481292,207739.5483082638,158590.9335104658,122030.29155263075,107901.49049127151,129953.46452576856,156588.75851163574,156706.87295112576,174967.66356246945,150151.98303790417,616890.1833117702,146162.65586897897,128814.672932338,77716.66063620317,99991.52554590887,121978.27931000505,81294.81860608007,80038.64784136861,162266.34976434874,122634.90949889159,167365.9909122724,152572.25705008747,147255.77341773084,148526.35515244145,195440.71782876764,167643.8768179354,122671.05452312928,90744.22949226646,197237.80209384838,199672.5203133852,134250.41449133775,167786.6871454481,192247.90608277897,229501.09385720993,335313.46644826257,130878.33566741788,137139.7525588102,148077.47221237913,90344.9128680134,27278.402086969974,108013.63413813154,102342.89702814192,132192.30718986693,254223.30903155197,180406.26130008258,177514.97277782697,238096.9539597242,215241.15621491478,159773.70133824626,155687.13729991674,214865.64485481734,262255.118170124,240158.2826796442,262239.1301334966,202741.9738109417,236129.01299795814,290790.107339191,198419.76431470763,260717.25410740197,328547.4285272297,186200.17678116614,155088.7048363886,60055.28701078547,67078.20226384378,68225.17827661084,63213.8905926615,139526.20530451604,220340.18952118096,224473.17344372117,163490.89247174634,113612.0684719547,142947.7682390877,149341.93906443313,138830.53729470845,124138.65365239166,167493.00733575886,171149.57265557008,178379.5510538396,201058.1286077484,240548.50579394083,192488.08332443805,191942.91755333156,206764.6313639575,252907.114656119,290284.33241321275,291674.759362263,183874.26975081916,196111.3215264509,357582.2360227824,384082.8585797084,322556.76607037557,370359.0618907538,343447.4714340017,282687.59219393146,335021.18891366234,164814.90168262398,217817.67021778747,186272.91664904993,259669.88259837413,205990.95456232675,163984.7876976252,83469.64260155392,183009.23993451064,109094.82281230888,123635.20152147589,114350.91135398074,107384.84035334791,120417.08685899139,149622.42887055417,162945.13311887564,158686.35713521377,141309.66223222166,334034.2176446192,265440.6693678078,234782.44742587637,331031.6463481091,300046.3687361552,305412.8530340387,290148.4786399052,288583.481691982,294387.1671202419,305176.80182165874,306052.7606531844,277905.9197601221,268001.3467529636,308480.6084155402,276905.15753234725,189113.29135539927,205855.21029685703,190727.13233468877,281120.1406937054,208506.6126947844,208337.41143068424,213753.41479509053,227251.0100285349,187753.99364652656,215217.76649235547,218345.28182620028,260113.00930285113,260827.08891921243,270659.21353677695,337178.5605153978,308395.9029197352,423872.7169199536,287871.5425710919,324615.55581234524,271808.21617214906,271229.50326623337,248598.42994818286,228102.09170503574,351554.5567578202,195538.10085213612,166545.40981994136,215889.90623682117,173054.9738594001,223384.01630449397,210412.4459908219,203028.45245324573,208301.5921616362,171205.05635704714,158621.5832732458,156992.0562836503,108421.97560485321,172798.69269733768,162267.54131244574,110106.50321999736,110210.88195728612,127510.45403402098,119215.0712417798,113581.84734906102,124207.64053393583,286765.113265287,331298.9490148785,195306.28265911117,156874.6163187051,158237.32121239448,151503.26757827945,214061.55833403705,242738.74558966173,131082.83922072392,209021.11243892982,122019.80935738524,160435.38216224438,159868.11036955388,109300.61086385822,127900.05402720821,127973.50360401519,186237.43876935923,189590.32218113946,131993.8218028453,141686.3590596177,131151.707824458,133762.62424349398,171328.26703382106,180345.42386715332,128126.16471876678,163763.8381794671,122385.60225991611,133368.06802981495,153264.50839346446,151421.70402868334,140479.56998266987,169927.53995393435,152742.07942994856,165905.5080656161,151759.10185988978,125019.04633046113,184021.10567398727,119534.83131940252,147028.65243459246,117345.52520245625,127135.33122032727,239888.48753854478,167331.15780387013,194837.18903267183,136400.29278484508,64295.14395227107,35583.93103294923,70123.3214617822,155084.9683586665,100125.2547623644,152529.43796030883,150905.78683883822,228891.55708856494,213387.64152084556,306244.91424354806,122665.97905954192,52293.96119786134,126645.40400931807,129310.39573560594,161068.86349528408,103710.28854239927,91914.26099657439,136736.24258351544,148837.07493806732,118086.95213385634,142683.07901042872,145682.08009544513,151544.48158807153,81729.11606795211,121081.19835961176,98286.50491527314,90261.42104689995,84101.29155589161,82622.49256527387,107158.51488503497,23022.414773904355,129776.00213610855,42458.32670693319,181725.3383881965,105865.49139455156,97872.9719380225,43172.69071768118,199707.93772827144,53187.44716873007,122735.74627163223,89037.50545301763,223336.3011306658,114281.42527836081,114890.37708547208,72018.99510417353,119190.70229948135,137862.69406880377,177654.6772921715,171637.42951280004,126303.66998240058,80308.4112403182,186561.5882060566,143315.9909802704,135179.022023592,125941.96378584564,168506.4680895543,162062.65294002005,155432.80906917,149122.4911733941,99666.1984301641,251837.20064999614,155745.30973101742,108876.76054493789,207271.09179445318,126003.926244228,118696.34198548374,199530.6002835921,306121.49160771247,168961.91524930144,189538.3017988541,134955.2465649609,136874.59341183104,248712.45216319928,209262.44441653657,232914.32957788007,212055.73195786713,235561.637476954,261775.2682373825,232791.83828141898,239455.44846933367,207165.95133541184,171160.3409030613,144365.4109554897,190702.49104576823,202874.15106710614,217686.83026877217,229502.6873248956,168726.91322747324,173952.17256980072,119696.11184249059,222326.95105504672,203361.6807097442,251401.64587856884,215800.70757168028,278844.109475277,243494.62341356053,241367.16014818157,233031.7712831207,151271.62041749744,213683.81675780457,215985.77280612066,208056.91504299952,209871.78612523372,91175.65273765367,119938.10949377096,144573.85100710098,227261.65365864788,157350.11160786016,268415.3355540888,146013.23192630042,198367.82849842389,74298.27395386515,115577.70978249921,108289.13163409507,128298.68419449436,83685.98687465336,-3174.2599409789764,94914.25079766879,126629.04251564023,114804.28389283115,193566.34346608803,140109.41530780014,165095.13263793834,129408.62397920396,90059.58100646999,154612.61640215045,172479.20828210432,174653.43975441562,200823.1198683142,178244.6851485284,219237.59193528755,114916.25973536246,135388.89195390916,46815.73704132471,59472.832424550186,147809.96413859082,51606.5170457108,91734.33993560573,45206.617076009614,267103.74301852693,254146.35030235382,211133.52455682502,175516.46748882587,243349.07906865663,153488.29558829157,231404.68111503994,193953.71671084207,297025.42684922914,307268.03381175816,75725.47699686313,199681.25172034636,115818.66389190344,117965.08256740528,143230.4332234765,58151.586883212774,60699.1076359212,168589.1907457517,62819.81830479075,63962.28462595037,73604.3694601223,69367.5244009859,162099.236424391,123935.07387553583,245184.432312189],\"xaxis\":\"x\",\"y\":[120713.29296642635,164139.65893616062,210761.75453601126,214518.39558513602,196182.92131126858,198517.4577684258,198501.04646292515,183779.05656672083,193174.27361136442,119939.65981724998,204206.69995568832,111908.33785634022,108494.394585039,159559.1988296844,108351.38511947263,300926.4807858439,232944.54268490244,253198.1404676363,260962.17712283786,363600.27261717664,292585.8610042818,212886.47220073268,207787.4946759753,187617.44217638578,188002.60437264526,218087.24168508686,323638.98794051027,236974.01975689083,198791.42583827302,243810.436310797,214526.35529641062,81855.19384990912,211847.6276268852,262536.67654855363,262266.6857931791,224566.05973192444,206882.52362140547,165715.24130459782,165837.95517556136,168941.7242106758,184380.03939124336,149519.2688713139,244207.58183586737,235419.66490529757,231010.50435481407,210840.39948788518,278437.53763612546,212601.24612589506,168830.50547079463,148978.1571035548,141457.39812048152,197552.8915475402,179978.0949411206,210957.95517308637,260949.31605590414,142178.2001006836,162412.03476724448,173955.45268864417,230877.94926186465,123503.34583862219,132238.90698317857,190170.05424712086,121894.82137193484,107743.55311907735,103584.0359739135,108329.48304145224,92067.15252305614,147795.4877264863,127996.05645699427,223419.0130077987,127039.77668202156,68416.84745861217,141889.18985816324,121284.77508875914,174202.62732522096,101935.99262787867,67608.25044415332,131858.79055962386,172865.07244861964,160002.25946985744,124802.60098441411,161698.00651636813,182159.9630782213,56919.93842927739,83208.23166445084,96206.29796365323,136719.9024730064,125774.42915069219,98854.28311907407,115667.31333532277,83490.15094242105,143858.64710325608,162151.71058070567,102144.72312902473,188266.46271351678,80350.12157373317,107677.37716891663,67862.93547570566,124863.34121452365,116722.42672339501,210713.7563647423,124450.34948587744,114642.74339987151,171626.66836591763,151055.47902407497,222028.17128064204,56767.08188197389,234226.8221839061,156705.4870342617,125764.60315270862,152269.64115792327,152268.41006275453,230334.15539500257,152124.06321547832,229027.29208597075,230488.5139780771,196730.63410369027,107537.64204574656,155050.58779561892,202311.4107766077,165984.2763399058,110603.35686817253,278710.9056375725,250943.38034558436,150924.80510788877,80811.13136312505,104654.29276975151,154628.8773204158,115521.37684617518,137511.3406331446,101662.84614163265,129916.16719357204,91105.41831097892,228500.87045317143,130286.36512560537,196366.70506482758,206287.69628318492,205530.30956750084,154468.16065534577,171378.18932840507,40189.39571944205,107411.05255100224,52484.596410358325,256569.08352197986,226498.66333961394,179606.88396967482,244631.497745601,214212.7413380379,195484.12814689055,194025.75686386833,153209.13067467697,211912.36315130256,211564.0096472539,137047.46501572663,117609.39234825643,108105.13022202672,111236.14998407941,124141.12045114441,142938.42964854743,258530.14919985086,155287.14371116087,166070.38996701362,249560.0615375135,231295.142955889,94173.77402335778,178853.52853490738,209352.01900249766,262102.00935425796,201662.51004157588,338161.2180000292,216684.74586072145,236334.09747052286,186157.49555193074,202187.63476317097,179160.44868769124,171113.5576161598,223267.36205075262,228168.35259804595,222134.42912947712,289859.1575855315,218766.36219377536,226178.33356345445,226895.01758123096,229398.94479226135,249828.02402414056,140352.5189837236,152193.66496338835,142347.31795609044,128644.17908650078,115978.90099513903,133944.02964446694,102068.90146095306,100828.38083111402,162465.81592298253,131885.65384301683,155117.29239062406,164978.79815707542,162160.72986844555,115953.58935989672,153274.51593496883,333400.76453908626,310820.93182807416,292745.3741419036,368899.3843468898,267208.7613764447,260178.67993847746,317966.8919339678,259297.53167996416,235119.775888043,268775.44233276835,260553.65396975726,326476.8001731951,274729.3616677085,244850.25793914963,213011.41151224822,206287.3055707845,217424.88453015685,345846.77056611655,307311.67876404244,277573.7649684036,227386.3653334952,258314.54124590987,211944.35912555363,193224.99252074258,193364.9902017396,192071.7440818441,186524.8857548493,210720.94749210915,216047.46196883498,192650.16889726557,181806.06078024302,231585.15226475615,181719.20071826223,190768.8570090495,180033.13237903966,275904.8008172633,179626.9406715911,309885.8805567138,277944.79554598965,250405.01059313398,260016.8960570586,252762.1048009582,248911.44805589225,246618.03195423353,228552.27944258507,337728.3051249767,220016.5036458401,225543.9189485209,241246.3647989789,219161.07770095114,229314.64476310275,264797.76557548903,250720.03486272227,234451.78916652547,203127.07070193253,197238.828208094,189717.39163439348,182286.87819050672,226882.77702118596,230876.12447481276,193450.97080268338,179985.95477518812,178976.18837087788,220382.50219033286,234191.06058174092,215304.97345200228,184212.43615284376,188220.86754497187,161046.41000473266,196322.8666426642,111321.7937634415,105045.72611731291,103516.53454994457,126013.60601180326,118255.52524342993,101887.12346014148,282370.8500183718,234227.06983543746,322225.4969159644,252478.0827874476,199573.27066619275,184392.72335809562,177805.58748876443,261490.6070572082,232004.4461379964,255680.70634818915,229413.15136400796,280700.615381564,171846.63905650657,144334.50251898076,276569.28670488345,102915.32972732186,188369.70017895615,232331.02125110663,162379.44852613797,117530.82175762719,93472.74095035484,146135.85113463178,188419.1809326047,182599.10887253145,158123.9998251279,193476.75326004764,178263.2794174091,101656.14162606886,198026.6834644489,193991.82685393747,241722.12858929764,131770.29691271484,149072.6892023282,132477.59265357535,128695.80101219565,157207.25071563944,133873.38386402512,200937.2467488395,108636.95428916812,140948.26761781937,70892.2221897277,127022.79402459739,134348.82793641603,150762.46384710958,124892.02286917204,85607.36419119686,137892.51252308115,88459.51418881584,99269.84966887813,183646.44861872308,139190.33387804125,46699.553710047156,58240.07274722541,44723.498882278334,239320.67719064,179028.85019817762,125692.90396038722,124678.84992620442,118171.83819469204,124121.10307588102,123062.07562478725,110911.76914437069,72011.61386440462,127793.22478898801,150701.2100416012,162061.15727600828,172125.87056141254,126788.94982051756,117905.83381388709,129641.07131846994,134691.74047610536,108400.98953095544,116201.25078338943,142969.23027936835,127803.26124449354,96725.98616114166,119849.87832706328,59395.8440365172,46305.91397604486,54427.76941941632,97614.70185468672,138989.95597066497,105905.10001301114,44316.20684231259,109361.34555586707,121386.39408043819,38499.87907998357,135379.06152829947,153235.71975807194,79859.04257983528,99449.10146380961,144418.32340831356,86474.44661584776,126961.82900447771,169420.1866103229,156737.50200036168,151425.77502298309,114647.58070622571,147856.52140035713,133506.55993556976,81417.71526641911,99705.8002294763,83758.16095003206,171703.18613868626,149364.91876815492,81414.98688073643,131585.09049691912,135413.58473761193,179290.6254667556,143389.7439094456,230296.9147822638,59236.544455109164,160005.62002239283,112985.75036795205,136824.62976459926,125880.32256292691,145541.22045193892,161284.84548661485,180061.81821400952,239242.37911696266,160063.8698483687,226393.48413158813,190126.44224448036,162537.80639149295,187749.05343495682,307130.8016799083,305163.19851342356,305181.7892481424,254196.81432292052,260527.57345204474,232853.25785155315,273672.1425510617,206031.6977276923,207844.38725489983,230646.37994968425,188643.97392501868,217577.9453236973,164544.27526552416,212285.52078955667,218085.6298502488,218010.56155004213,236866.28052714886,129050.8235936407,123147.92142209923,243753.29495868925,263336.5281660934,208406.24442812894,233847.15918345144,224637.28093492193,266623.57904317975,216851.13948787423,256841.03383761458,188052.78981528664,138615.09361697035,172163.16675072676,93847.80611225264,141724.62743610097,182636.2459913441,166603.24169131042,109229.11726426752,99769.01492564706,105350.67608147953,120594.84779645922,116944.86929086549,127929.91042953497,176474.52958818804,202933.53049523756,114485.42902951641,190024.2291623284,162446.34213612461,210082.6247520717,127719.0910883192,144081.12544414122,137604.3733123443,241561.75712192897,305737.4423559923,183812.15265500778,32979.786237019114,253396.9246862987,57942.136773463804,248257.36550799292,137705.53026100108,190075.50261431094,213552.34467935236,292043.6590716457,244239.28703322355,262630.33220534725,215616.42064177524,246311.73164520226,291005.2524333047,128849.99959521089,181556.60755944392,108279.84487911547,174000.80015517212,142192.7861226378,163167.96498630568,166756.08683768287,196945.1000369154,184522.89880418312,203938.21720452886,209212.8046578751,200148.0829212945,228117.10308718774,196224.41996857058,201324.2792038638,196410.16907875333,184440.87372107012,289561.9484021636,275005.00528104976,163615.35489689838,252914.45352522936,171081.5326704504,237721.70448285667,174276.02578201704,260783.3566402942,241521.76090712287,164208.59232336842,226353.10555308778,132566.2965715155,302736.7726598317,179014.4908069903,276450.2307410678,180345.9736546385,115433.55542444717,108101.69770295918,104394.6686834693,119362.51683122385,128461.67989385175,151807.87422027532,134810.88328026189,245080.9913606802,346883.02950225584,286490.3291044077,338954.7344718743,346151.2485194169,287109.50426116167,248128.50564334635,279651.25308013614,356520.0170574477,237293.54934697552,302392.4580230331,329869.52867963305,264986.6368310801,208039.11963739851,264187.75651607104,204103.16889414564,204098.11788930465,196533.74468210898,233393.7049974166,231166.6921749413,197849.529353634,195973.2343783006,214335.2193578016,233479.11826222576,215925.25402887026,227631.97760436125,185151.61283662636,262727.7059851233,202091.91880338173,251220.3292890843,274802.6038733013,274411.3368650079,245236.18236190872,281063.6361473887,260279.21047270764,232307.04514682246,250330.61713801092,239503.3290516734,218307.20193098392,220619.65760996938,249762.74766430305,203890.35955836577,214985.03128754534,215685.53013435472,189761.52457580762,186857.63173053088,188745.0599897881,203880.6503001093,203957.3894993309,203673.50959121995,206389.72147403192,119974.02266568085,123143.41546710813,107619.67131773103,97544.22231731238,188904.28392740432,171686.34678471275,319270.0344536151,323735.89759572083,191554.9611905776,166728.4422561857,184793.36371031124,185424.32520138286,238650.87077682698,205868.64233051986,212445.39624659345,225336.4021546794,172919.26703603053,212446.7521459558,202650.8887125384,204590.85109490994,283761.470240389,188680.57659702655,306609.4866666207,235321.4779372923,226376.1930900747,192037.6616772106,222986.24174917117,192368.41491635982,183796.31025912054,143423.15801393706,136453.7637514742,195566.09858217975,167105.39999734284,128254.34230567655,141935.23718330404,155212.12993846321,58012.9169825674,164214.79974787217,165398.14406196726,110339.03114813892,215419.2028344432,138007.29678438883,209513.5913204681,192910.0577406697,117684.30879371613,88423.10854827333,117682.58562037954,98522.79678354459,195090.56703313952,201990.63049511611,196639.12848191708,82874.0576498406,83539.55722666997,84811.90768759884,117617.09411607822,135445.8850057521,172244.586394527,139775.04585482925,84349.01943493262,142516.99871399952,114710.67476278357,115973.11892183637,99359.11803677585,115574.99318303866,197068.0392686203,150507.8072251049,82582.20847037015,125443.84916135762,189309.8312200019,142119.37324695755,111892.78667278634,52085.12680430384,118389.58275655564,129928.66954458132,163117.0827659471,126025.7557862727,101817.16243032739,118121.30929959752,55073.47222607862,69033.70150448661,126340.67404757394,33944.758484967984,180927.17460574303,131233.71391043114,106156.83999166731,74582.78460118547,190164.3475564979,132759.4546089666,72780.04049626319,199610.530890679,107219.70128048211,139257.63141488656,121807.44369473495,156494.23933714256,142838.73587750085,122712.7717357832,95327.86811964866,154264.47848333977,95053.32121369801,149492.70888415817,106664.99199634604,79072.77704542875,94638.96275559533,81456.96682435554,86251.08480246598,93498.64957295824,168220.6920055775,151287.35985495383,157418.2468000697,163958.94492063113,105324.64452223992,56262.432451477274,136535.8445903007,170027.3658981747,101992.20308244042,104485.24884793768,85561.28110736515,63126.38365801331,91544.66468058527,123921.21208430175,132700.2851093649,152152.32448737416,145014.5745500829,149213.33963548718,129442.35339410137,160416.29827747028,92883.37190288166,135385.22802521195,137193.53509258013,192967.19462500466,120203.19649728527,118920.94177125208,201975.5617711977,91249.20918306196,178186.23785222694,230810.04167097853,113974.41693890793,142040.620400819,315095.36550979037,240309.0339844674,252564.65937873488,245150.72100550495,185455.29565897165,243267.8311388828,337567.632924255,264398.3271861514,218529.3926791977,203105.35590768792,158935.66038086126,213762.11677873507,210151.95273883734,199357.06009477843,226562.95526848594,164861.97466168972,136781.59808577038,237120.73002299294,256549.4796653227,252986.64292144496,259490.33453278802,264172.9443621156,215964.08836832456,152161.29431101354,256335.96812251676,213972.95577413216,230875.0028279391,209014.1182175912,157026.70034717862,144867.2463563634,143582.2494177958,157039.42828871543,156584.87139263842,459447.34089859156,118437.20886368304,118857.01437221747,84241.46871558996,106023.33778732782,121423.79632839654,99782.28298598994,123649.24265084183,121594.88258296717,120573.28192713857,156788.18974170927,109847.11483506393,118846.7338137175,132163.90478988457,118487.90325468406,186457.6209668694,125820.2817968782,138274.80081632966,149001.92502119485,214903.42964418512,213947.1164624882,124841.33944675233,92295.19009295339,111342.75468994537,88125.27996080508,182818.63466764474,94831.15781988576,180168.79187733913,73701.34262454929,74852.36528137466,78392.58884175355,45516.542520631105,253399.4501887192,256528.5427002851,277044.7431684402,225676.83442829922,189312.16798721813,245730.1961482945,204551.77771595912,227536.32474844623,227698.06585572893,192686.45261821058,208367.63693393115,214479.82945739524,187095.45971792005,222977.8707978106,239941.22382579837,255989.2435364332,279102.36453796737,193441.2472858522,180261.39665293368,177466.57686590962,161202.33020140603,133233.782734368,162019.848881023,127336.19884531852,113164.39829101041,145150.20470884535,133489.768456846,131445.2719019847,129892.14490034804,129396.30996767478,146647.97335660877,188920.33107490372,173618.44253005087,212014.16267800424,219749.47584491735,182704.7669394547,258546.7158544697,171201.12969219638,207898.35700643715,138785.1078498317,179943.86766586732,183144.95487962104,288457.57203924796,372988.78916450916,199271.6288699801,237372.90785263712,322517.03454699786,313993.2090607025,173231.8776213294,180700.7701014476,208779.19887566846,213994.02051516576,172313.12584875617,196290.10615940904,151773.6887737615,184008.31772291102,194375.59541392373,188528.03839776805,132613.84500518255,112142.8978166189,202770.6909000771,195594.58362241462,117748.59099481907,126396.178773697,140610.6770616118,115056.68311855709,266751.74061679,247056.92477084417,301937.73685478885,336295.04017845076,290947.18266457133,312120.7515301872,344865.5903286361,333710.2612655177,321141.45231493935,286069.72176112793,255275.72790669324,266069.9706755099,341363.61503169127,286768.9599428633,235580.52385935653,238556.9472329747,252066.50156862196,239043.01331570605,202648.4094378776,202645.62608882645,213365.185947672,233747.38182925992,237797.37292936677,201789.57969865855,211276.5009374069,202428.6717689531,201508.26986456662,192652.75616130698,197355.89562817244,210051.976533263,208622.24449498765,199504.27574413177,194777.44132541213,195518.4222018863,231214.9222420468,199321.5203391104,186707.17576065566,186889.3185266517,229687.00291126873,187867.38694194006,225164.28065100918,240138.63977361005,207585.63568624575,224835.9666370349,301491.99774747435,336703.76906823926,299915.14887086675,266026.7105883993,257893.39516630024,287473.4205395756,214392.31540438253,238931.77703935653,234379.58669454372,279184.233602372,232288.53300879803,231530.693220885,230116.38423826685,247761.3170360634,237890.62537048105,208685.0938607445,209681.1582471272,231046.62706255727,200053.56922864914,241419.3465252081,239391.44700320158,249245.3648661794,285131.73532241024,181435.65307119023,183345.3646331746,175615.88657900086,219634.97859872459,217645.58123872615,154351.67709369073,126765.77433910407,131745.4273034418,291359.89358879486,139532.0201824489,169484.15383432433,211875.82637380902,182848.62212289078,229326.32219171105,209696.49185665045,227981.65377071407,181145.6463512173,188730.20041401312,209484.58373206062,261118.6216771775,283875.50022369996,231046.72658406617,291657.29292279156,313801.2518926817,141151.44474524818,241654.00927725807,136918.6359496219,180623.67434013542,236097.73240986746,226069.83599253464,243763.5059913881,138281.72120897425,123884.1181317037,147367.28955282737,139846.08830671664,114087.29089534562,139653.3267100067,114421.48744336003,98219.54221242806,138836.59384483984,129312.05163830146,223206.59060283052,157995.3328309618,222481.4317028625,137175.29709085822,57616.30809675995,47099.09408201091,110543.38087771181,139430.06533673406,179968.98606470833,155418.72908647452,157369.4873381639,130675.30050149933,104631.76912351139,141705.38981433306,125389.30552518461,189789.14718977548,99022.73051701952,173572.25309818238,127407.41824102635,146338.88536634715,167244.52643080382,96646.10618465906,104933.00212964183,125075.04585469607,142109.89508840675,98842.70930491947,181175.73721915297,104320.60626056232,127596.02737926645,194532.05071906792,302605.0487665767,112303.22406005673,109422.38983613439,218150.43723356398,98827.66780421278,114279.92327430472,127015.6658353312,132476.15969969984,149697.04048664076,135349.68374969158,149968.71975167515,101965.9853071929,99036.18317133328,109531.96910548909,88331.47747855214,95506.67371720402,79278.99378184136,86203.27864386607,96436.04124640068,90819.620928891,58654.03668883303,122196.43953510514,140506.7855756255,121837.889619058,79835.72560119815,138453.21176212374,118860.23148487508,181088.09786828607,101154.5697941212,164338.7395916204,116644.20558213908,125385.45132948551,120553.14016184118,88968.46879045945,76196.54856002983,121163.03038581135,107199.9029160859,139057.32445999281,94438.92245555995,189630.01567034563,94056.05844590254,99135.53812945262,110526.2510058661,68574.21871375851,72086.32661650609,228507.40870198607,226065.900151941,160640.36639316846,121030.28578946693,111713.25738161756,225472.49369711243,116304.67007820588,121368.00245593628,177056.53259815183,117936.5354040293,136652.6725812927,125488.60719627514,123945.17601326574,108478.59361731261,117986.31274833251,116522.17255036766,167296.79995724745,258741.26853354461,138461.38528794283,161229.93736752216,147207.60305540357,94616.52471748972,217807.0340816914,161786.56695184857,177736.329549714,124720.44764361996,293792.2677547764,163164.95307600778,90848.64153130446,119646.90414215438,144180.87032709504,135628.49918348063,157015.03132855194,98107.80238663126,224695.41731646936,235795.46040035225,249655.097240604,298279.4404442236,249648.0167773068,234230.93512903387,228485.08471995732,197294.02879484836,228422.39009145554,226216.22448057216,244483.7202832899,157089.49941908382,176874.56648219377,162216.7542817737,182565.7824039273,232867.37889875472,208898.9168538507,206844.64618433733,229646.462025017,117201.2963241972,137938.59362946777,132299.29492009105,135251.2746926383,124582.93812781712,118047.76291488856,129067.72238595178,141830.65170366643,263166.2022209931,231961.56348947994,226875.44466844946,224371.2417692975,295649.79094363376,249364.80560420733,212964.51599519048,192604.14021918597,191892.61735106166,203434.20471802866,196856.75911726523,195970.5806057644,130200.05599217536,122639.12890551938,113993.30264570517,128771.07065563696,143361.80740069272,224223.50570271444,186420.54567829194,665217.4889457747,172158.69338217424,128726.72505223658,118871.80146074574,120440.50594971841,76931.03411913011,80092.40909352107,97263.63405062677,223913.87679200526,123864.04520516843,122427.30607465142,90820.87242271425,106970.10526521364,118551.62313643191,174159.07994897338,159968.05487595964,168508.22266106214,120871.77028006129,186526.6977420356,180923.98744805716,124714.1818277738,238347.26813614322,150408.51064659096,208664.81464324892,346126.3319727201,93544.27388984058,151150.2023803508,164984.91750435065,53954.29024181748,67443.86256914679,152260.36724039353,135993.7414848972,118848.51216270542,255723.39894678164,173301.85642077727,213758.2195567619,228325.4386055111,206660.63638047874,130590.98914200673,138431.56713452702,205789.65410250705,295447.34536908846,247130.98218185734,233996.22485637013,177946.76361807995,205697.3162763738,273581.4072456276,207960.5040305648,282611.75761232106,278522.0335527174,259082.37773811072,148176.2760739345,110392.26677238382,108077.950307352,109733.2984021497,115556.67527526617,142783.1383839473,236750.65033983532,257775.18009415455,180797.59652059246,106146.67071908619,193854.50449176552,173383.94143723696,134699.34282772476,134490.54224357614,147556.88059686404,139224.97974975128,193401.7403509831,168850.15099125728,218382.25257543474,206830.94604045432,196826.67713996116,219062.83419905696,249016.00214464962,304649.8895764961,321287.67739169626,185797.01248036837,170234.39297957253,321183.4439088921,369863.80250695767,288466.37816859735,333309.56061411183,325911.5436900249,251074.0968425423,310693.2418643348,153372.90871131467,212239.42561295722,159528.36700642994,264851.79504333343,209452.24377626786,154505.00218716124,111775.5832943879,217883.99451877922,111578.84455121681,140459.89184889337,104374.68643251667,98081.14371484518,125576.37968822196,159925.14701692993,165614.4937126236,133182.0733579779,153790.71579964925,310360.3003051095,234897.67616002634,249742.3233963605,297172.4754496417,267510.437470675,278162.65713559836,279263.49002832826,277480.4542757864,289985.3956780201,264740.0544941067,260598.12031644862,258208.98021204304,235702.6269974662,255309.44959584065,250048.6326055294,189492.26751676807,193455.67359852325,208034.44219097216,271704.9811486183,197356.85299714515,208334.1619650647,220870.17933279835,227716.8813486169,182662.86611511512,207417.31059091585,222288.32539285626,283989.3585507143,239470.9171003336,255901.73728108034,323244.8201365294,309120.0415359568,431188.55508007994,281542.29277226795,323793.54904551245,251244.2822615262,251379.1668524649,228923.29107924178,198659.49913743464,331059.84331383416,211953.06158507057,182093.1959392149,218501.5468169446,183561.57973370608,218788.5816513868,206690.97778350953,224108.01491372613,236874.71323233005,190934.7677643937,172714.58100756817,162179.82757955883,111050.49254144263,187694.93008805858,160885.66886164993,114457.82677020645,114103.88594903937,116495.94974486064,120650.20721133193,104804.05085321376,114926.44136165269,320523.43166484125,314939.83327408973,182793.32441866305,165076.53981777374,185683.9406744046,150547.54410268087,222481.13147456385,229319.19221604615,158259.42843415076,185313.07653596345,125559.14428379945,200993.75153724756,138270.18920842558,114878.63061392959,133820.46427978668,136251.02197629865,204889.3295581434,176754.41903349897,138767.01482983725,137455.35365194827,75493.26503664115,107013.90870199958,179969.91122025903,172470.7671277863,122203.08249643398,172292.32457344094,107207.79802260408,181444.21087420918,145193.99124082923,114819.64342595916,146736.9311137381,147502.9785470832,167070.6862876527,159939.18718375685,128603.04231685074,130593.22580930963,161249.90961997863,119823.43588136416,138268.3111981796,111951.45581467962,129408.09690810274,215564.36058770958,190477.9737539147,257240.57094082376,113335.1157947313,78778.43552313838,64251.61706785532,39791.27315553278,107098.40544044971,126098.64668408921,147536.71085427515,152398.7276320681,244340.44477742584,187930.75372239482,295541.69195099454,142816.64905508235,101377.4046745263,169514.9252729523,144137.62338260468,116429.01282990864,96626.53390409471,120571.12062846404,159520.8885455057,152982.5496669924,137755.477287611,111337.63075806526,103469.6941818595,74186.33098200709,128149.50302119832,81042.27513837675,65124.866941092536,94485.44596000668,103104.95832183119,97776.44331435533,112543.06705392245,20053.92405113252,102304.49867417803,59981.77562097041,187047.15779661853,82079.07963755447,103386.6286157826,73362.68885936635,161241.9437398282,82115.51914978027,109670.21078402968,68003.80816476792,251911.98032107484,134732.60857264325,103534.24459278025,53637.73146995995,80804.70908114966,133042.71309990343,220337.28411424067,174850.63786509354,89951.69304722222,74558.39417389454,174155.89298640378,142044.4031665083,111857.6618119888,126146.26760733966,180907.90186836384,161430.62459574686,243166.0658399905,234315.67980543058,68710.55354471039,218772.40682347864,127745.2784302258,104387.67781472113,207908.98002365418,150863.59655331075,104732.82459644135,190482.92330257595,362250.40151967015,203007.13373338152,221379.61529447138,130849.23824173771,146810.54573296988,294497.8983629793,211292.6094494029,241650.5708371685,193889.0644562496,261393.6413048422,241490.14715839783,230187.37193752965,237990.9497232698,207614.51809692523,164805.78160410654,167385.87607977586,203675.26642916678,206529.43554413598,214554.36290435772,226459.56054042839,165452.4928974975,180652.72783965804,109171.46830330696,227543.5918402453,215712.90663447045,209614.26670278003,224249.71983423922,259149.59311272483,244437.27588327695,235125.41275990335,240352.44669154473,150924.80510788877,207265.50903246133,216176.0363222747,207949.03114580736,209767.53156540915,117377.78040161636,129226.61631074129,158580.00748010585,215760.8512503826,153769.5176323997,271757.41271871794,172627.3919980009,211268.82241929648,76157.95057860203,89576.10762875341,127986.29227968492,165133.089852022,103986.14517910546,24090.012317189015,117944.99466395983,129892.04267211584,109253.04639109923,147862.51249871962,100279.1848427048,113521.32358434796,125393.1191414767,102604.25959642557,121166.87420733739,158904.1858392018,132425.7591658472,156396.41298055556,151412.25724192197,230902.7991307252,94854.75822111126,98141.04512413172,43320.289936076384,47055.413758412,150405.93056797702,66089.00943215191,128737.9196659266,50095.276671889704,272567.92303519323,256593.49880143208,215104.89943676395,203525.75880664214,222161.50572417397,152198.4659126578,213366.76721171383,207540.49554475304,281005.99533796497,271706.259875007,175660.2827445399,195971.58588734036,141110.65916382056,126382.14503376046,193964.29476795392,78528.63173228595,110382.21772658918,173820.86519145174,107931.47131327167,108890.75621251063,108132.71222737338,108787.87611818593,177404.92346385913,151598.5019026259,231835.34682257753],\"yaxis\":\"y\",\"type\":\"scattergl\"}],                        {\"template\":{\"data\":{\"histogram2dcontour\":[{\"type\":\"histogram2dcontour\",\"colorbar\":{\"outlinewidth\":0,\"ticks\":\"\"},\"colorscale\":[[0.0,\"#0d0887\"],[0.1111111111111111,\"#46039f\"],[0.2222222222222222,\"#7201a8\"],[0.3333333333333333,\"#9c179e\"],[0.4444444444444444,\"#bd3786\"],[0.5555555555555556,\"#d8576b\"],[0.6666666666666666,\"#ed7953\"],[0.7777777777777778,\"#fb9f3a\"],[0.8888888888888888,\"#fdca26\"],[1.0,\"#f0f921\"]]}],\"choropleth\":[{\"type\":\"choropleth\",\"colorbar\":{\"outlinewidth\":0,\"ticks\":\"\"}}],\"histogram2d\":[{\"type\":\"histogram2d\",\"colorbar\":{\"outlinewidth\":0,\"ticks\":\"\"},\"colorscale\":[[0.0,\"#0d0887\"],[0.1111111111111111,\"#46039f\"],[0.2222222222222222,\"#7201a8\"],[0.3333333333333333,\"#9c179e\"],[0.4444444444444444,\"#bd3786\"],[0.5555555555555556,\"#d8576b\"],[0.6666666666666666,\"#ed7953\"],[0.7777777777777778,\"#fb9f3a\"],[0.8888888888888888,\"#fdca26\"],[1.0,\"#f0f921\"]]}],\"heatmap\":[{\"type\":\"heatmap\",\"colorbar\":{\"outlinewidth\":0,\"ticks\":\"\"},\"colorscale\":[[0.0,\"#0d0887\"],[0.1111111111111111,\"#46039f\"],[0.2222222222222222,\"#7201a8\"],[0.3333333333333333,\"#9c179e\"],[0.4444444444444444,\"#bd3786\"],[0.5555555555555556,\"#d8576b\"],[0.6666666666666666,\"#ed7953\"],[0.7777777777777778,\"#fb9f3a\"],[0.8888888888888888,\"#fdca26\"],[1.0,\"#f0f921\"]]}],\"heatmapgl\":[{\"type\":\"heatmapgl\",\"colorbar\":{\"outlinewidth\":0,\"ticks\":\"\"},\"colorscale\":[[0.0,\"#0d0887\"],[0.1111111111111111,\"#46039f\"],[0.2222222222222222,\"#7201a8\"],[0.3333333333333333,\"#9c179e\"],[0.4444444444444444,\"#bd3786\"],[0.5555555555555556,\"#d8576b\"],[0.6666666666666666,\"#ed7953\"],[0.7777777777777778,\"#fb9f3a\"],[0.8888888888888888,\"#fdca26\"],[1.0,\"#f0f921\"]]}],\"contourcarpet\":[{\"type\":\"contourcarpet\",\"colorbar\":{\"outlinewidth\":0,\"ticks\":\"\"}}],\"contour\":[{\"type\":\"contour\",\"colorbar\":{\"outlinewidth\":0,\"ticks\":\"\"},\"colorscale\":[[0.0,\"#0d0887\"],[0.1111111111111111,\"#46039f\"],[0.2222222222222222,\"#7201a8\"],[0.3333333333333333,\"#9c179e\"],[0.4444444444444444,\"#bd3786\"],[0.5555555555555556,\"#d8576b\"],[0.6666666666666666,\"#ed7953\"],[0.7777777777777778,\"#fb9f3a\"],[0.8888888888888888,\"#fdca26\"],[1.0,\"#f0f921\"]]}],\"surface\":[{\"type\":\"surface\",\"colorbar\":{\"outlinewidth\":0,\"ticks\":\"\"},\"colorscale\":[[0.0,\"#0d0887\"],[0.1111111111111111,\"#46039f\"],[0.2222222222222222,\"#7201a8\"],[0.3333333333333333,\"#9c179e\"],[0.4444444444444444,\"#bd3786\"],[0.5555555555555556,\"#d8576b\"],[0.6666666666666666,\"#ed7953\"],[0.7777777777777778,\"#fb9f3a\"],[0.8888888888888888,\"#fdca26\"],[1.0,\"#f0f921\"]]}],\"mesh3d\":[{\"type\":\"mesh3d\",\"colorbar\":{\"outlinewidth\":0,\"ticks\":\"\"}}],\"scatter\":[{\"fillpattern\":{\"fillmode\":\"overlay\",\"size\":10,\"solidity\":0.2},\"type\":\"scatter\"}],\"parcoords\":[{\"type\":\"parcoords\",\"line\":{\"colorbar\":{\"outlinewidth\":0,\"ticks\":\"\"}}}],\"scatterpolargl\":[{\"type\":\"scatterpolargl\",\"marker\":{\"colorbar\":{\"outlinewidth\":0,\"ticks\":\"\"}}}],\"bar\":[{\"error_x\":{\"color\":\"#2a3f5f\"},\"error_y\":{\"color\":\"#2a3f5f\"},\"marker\":{\"line\":{\"color\":\"#E5ECF6\",\"width\":0.5},\"pattern\":{\"fillmode\":\"overlay\",\"size\":10,\"solidity\":0.2}},\"type\":\"bar\"}],\"scattergeo\":[{\"type\":\"scattergeo\",\"marker\":{\"colorbar\":{\"outlinewidth\":0,\"ticks\":\"\"}}}],\"scatterpolar\":[{\"type\":\"scatterpolar\",\"marker\":{\"colorbar\":{\"outlinewidth\":0,\"ticks\":\"\"}}}],\"histogram\":[{\"marker\":{\"pattern\":{\"fillmode\":\"overlay\",\"size\":10,\"solidity\":0.2}},\"type\":\"histogram\"}],\"scattergl\":[{\"type\":\"scattergl\",\"marker\":{\"colorbar\":{\"outlinewidth\":0,\"ticks\":\"\"}}}],\"scatter3d\":[{\"type\":\"scatter3d\",\"line\":{\"colorbar\":{\"outlinewidth\":0,\"ticks\":\"\"}},\"marker\":{\"colorbar\":{\"outlinewidth\":0,\"ticks\":\"\"}}}],\"scattermapbox\":[{\"type\":\"scattermapbox\",\"marker\":{\"colorbar\":{\"outlinewidth\":0,\"ticks\":\"\"}}}],\"scatterternary\":[{\"type\":\"scatterternary\",\"marker\":{\"colorbar\":{\"outlinewidth\":0,\"ticks\":\"\"}}}],\"scattercarpet\":[{\"type\":\"scattercarpet\",\"marker\":{\"colorbar\":{\"outlinewidth\":0,\"ticks\":\"\"}}}],\"carpet\":[{\"aaxis\":{\"endlinecolor\":\"#2a3f5f\",\"gridcolor\":\"white\",\"linecolor\":\"white\",\"minorgridcolor\":\"white\",\"startlinecolor\":\"#2a3f5f\"},\"baxis\":{\"endlinecolor\":\"#2a3f5f\",\"gridcolor\":\"white\",\"linecolor\":\"white\",\"minorgridcolor\":\"white\",\"startlinecolor\":\"#2a3f5f\"},\"type\":\"carpet\"}],\"table\":[{\"cells\":{\"fill\":{\"color\":\"#EBF0F8\"},\"line\":{\"color\":\"white\"}},\"header\":{\"fill\":{\"color\":\"#C8D4E3\"},\"line\":{\"color\":\"white\"}},\"type\":\"table\"}],\"barpolar\":[{\"marker\":{\"line\":{\"color\":\"#E5ECF6\",\"width\":0.5},\"pattern\":{\"fillmode\":\"overlay\",\"size\":10,\"solidity\":0.2}},\"type\":\"barpolar\"}],\"pie\":[{\"automargin\":true,\"type\":\"pie\"}]},\"layout\":{\"autotypenumbers\":\"strict\",\"colorway\":[\"#636efa\",\"#EF553B\",\"#00cc96\",\"#ab63fa\",\"#FFA15A\",\"#19d3f3\",\"#FF6692\",\"#B6E880\",\"#FF97FF\",\"#FECB52\"],\"font\":{\"color\":\"#2a3f5f\"},\"hovermode\":\"closest\",\"hoverlabel\":{\"align\":\"left\"},\"paper_bgcolor\":\"white\",\"plot_bgcolor\":\"#E5ECF6\",\"polar\":{\"bgcolor\":\"#E5ECF6\",\"angularaxis\":{\"gridcolor\":\"white\",\"linecolor\":\"white\",\"ticks\":\"\"},\"radialaxis\":{\"gridcolor\":\"white\",\"linecolor\":\"white\",\"ticks\":\"\"}},\"ternary\":{\"bgcolor\":\"#E5ECF6\",\"aaxis\":{\"gridcolor\":\"white\",\"linecolor\":\"white\",\"ticks\":\"\"},\"baxis\":{\"gridcolor\":\"white\",\"linecolor\":\"white\",\"ticks\":\"\"},\"caxis\":{\"gridcolor\":\"white\",\"linecolor\":\"white\",\"ticks\":\"\"}},\"coloraxis\":{\"colorbar\":{\"outlinewidth\":0,\"ticks\":\"\"}},\"colorscale\":{\"sequential\":[[0.0,\"#0d0887\"],[0.1111111111111111,\"#46039f\"],[0.2222222222222222,\"#7201a8\"],[0.3333333333333333,\"#9c179e\"],[0.4444444444444444,\"#bd3786\"],[0.5555555555555556,\"#d8576b\"],[0.6666666666666666,\"#ed7953\"],[0.7777777777777778,\"#fb9f3a\"],[0.8888888888888888,\"#fdca26\"],[1.0,\"#f0f921\"]],\"sequentialminus\":[[0.0,\"#0d0887\"],[0.1111111111111111,\"#46039f\"],[0.2222222222222222,\"#7201a8\"],[0.3333333333333333,\"#9c179e\"],[0.4444444444444444,\"#bd3786\"],[0.5555555555555556,\"#d8576b\"],[0.6666666666666666,\"#ed7953\"],[0.7777777777777778,\"#fb9f3a\"],[0.8888888888888888,\"#fdca26\"],[1.0,\"#f0f921\"]],\"diverging\":[[0,\"#8e0152\"],[0.1,\"#c51b7d\"],[0.2,\"#de77ae\"],[0.3,\"#f1b6da\"],[0.4,\"#fde0ef\"],[0.5,\"#f7f7f7\"],[0.6,\"#e6f5d0\"],[0.7,\"#b8e186\"],[0.8,\"#7fbc41\"],[0.9,\"#4d9221\"],[1,\"#276419\"]]},\"xaxis\":{\"gridcolor\":\"white\",\"linecolor\":\"white\",\"ticks\":\"\",\"title\":{\"standoff\":15},\"zerolinecolor\":\"white\",\"automargin\":true,\"zerolinewidth\":2},\"yaxis\":{\"gridcolor\":\"white\",\"linecolor\":\"white\",\"ticks\":\"\",\"title\":{\"standoff\":15},\"zerolinecolor\":\"white\",\"automargin\":true,\"zerolinewidth\":2},\"scene\":{\"xaxis\":{\"backgroundcolor\":\"#E5ECF6\",\"gridcolor\":\"white\",\"linecolor\":\"white\",\"showbackground\":true,\"ticks\":\"\",\"zerolinecolor\":\"white\",\"gridwidth\":2},\"yaxis\":{\"backgroundcolor\":\"#E5ECF6\",\"gridcolor\":\"white\",\"linecolor\":\"white\",\"showbackground\":true,\"ticks\":\"\",\"zerolinecolor\":\"white\",\"gridwidth\":2},\"zaxis\":{\"backgroundcolor\":\"#E5ECF6\",\"gridcolor\":\"white\",\"linecolor\":\"white\",\"showbackground\":true,\"ticks\":\"\",\"zerolinecolor\":\"white\",\"gridwidth\":2}},\"shapedefaults\":{\"line\":{\"color\":\"#2a3f5f\"}},\"annotationdefaults\":{\"arrowcolor\":\"#2a3f5f\",\"arrowhead\":0,\"arrowwidth\":1},\"geo\":{\"bgcolor\":\"white\",\"landcolor\":\"#E5ECF6\",\"subunitcolor\":\"white\",\"showland\":true,\"showlakes\":true,\"lakecolor\":\"white\"},\"title\":{\"x\":0.05},\"mapbox\":{\"style\":\"light\"}}},\"xaxis\":{\"anchor\":\"y\",\"domain\":[0.0,1.0],\"title\":{\"text\":\"x\"}},\"yaxis\":{\"anchor\":\"x\",\"domain\":[0.0,1.0],\"title\":{\"text\":\"y\"}},\"legend\":{\"tracegroupgap\":0},\"margin\":{\"t\":60}},                        {\"responsive\": true}                    ).then(function(){\n",
       "                            \n",
       "var gd = document.getElementById('c3864495-eaf6-4b96-9dd7-59e1371dd2ff');\n",
       "var x = new MutationObserver(function (mutations, observer) {{\n",
       "        var display = window.getComputedStyle(gd).display;\n",
       "        if (!display || display === 'none') {{\n",
       "            console.log([gd, 'removed!']);\n",
       "            Plotly.purge(gd);\n",
       "            observer.disconnect();\n",
       "        }}\n",
       "}});\n",
       "\n",
       "// Listen for the removal of the full notebook cells\n",
       "var notebookContainer = gd.closest('#notebook-container');\n",
       "if (notebookContainer) {{\n",
       "    x.observe(notebookContainer, {childList: true});\n",
       "}}\n",
       "\n",
       "// Listen for the clearing of the current output cell\n",
       "var outputEl = gd.closest('.output');\n",
       "if (outputEl) {{\n",
       "    x.observe(outputEl, {childList: true});\n",
       "}}\n",
       "\n",
       "                        })                };                });            </script>        </div>"
      ]
     },
     "metadata": {},
     "output_type": "display_data"
    }
   ],
   "source": [
    "from plotly import express\n",
    "\n",
    "express.scatter(x=linreg_full.predict(X=test_df[numerical_columns]), y=ridge_full.predict(X=test_df[numerical_columns]))"
   ]
  },
  {
   "cell_type": "code",
   "execution_count": 12,
   "id": "5a965e2e",
   "metadata": {
    "execution": {
     "iopub.execute_input": "2024-05-03T17:43:06.358020Z",
     "iopub.status.busy": "2024-05-03T17:43:06.357324Z",
     "iopub.status.idle": "2024-05-03T17:43:06.567602Z",
     "shell.execute_reply": "2024-05-03T17:43:06.566507Z"
    },
    "papermill": {
     "duration": 0.224226,
     "end_time": "2024-05-03T17:43:06.570596",
     "exception": false,
     "start_time": "2024-05-03T17:43:06.346370",
     "status": "completed"
    },
    "tags": []
   },
   "outputs": [
    {
     "name": "stdout",
     "output_type": "stream",
     "text": [
      "rmse: 0.1671\n"
     ]
    },
    {
     "data": {
      "text/html": [
       "<div>                            <div id=\"2faa39cc-e993-46a5-94a2-1a33732cb24d\" class=\"plotly-graph-div\" style=\"height:525px; width:100%;\"></div>            <script type=\"text/javascript\">                require([\"plotly\"], function(Plotly) {                    window.PLOTLYENV=window.PLOTLYENV || {};                                    if (document.getElementById(\"2faa39cc-e993-46a5-94a2-1a33732cb24d\")) {                    Plotly.newPlot(                        \"2faa39cc-e993-46a5-94a2-1a33732cb24d\",                        [{\"alignmentgroup\":\"True\",\"bingroup\":\"x\",\"histfunc\":\"sum\",\"hovertemplate\":\"x=%{x}\\u003cbr\\u003esum of y=%{y}\\u003cextra\\u003e\\u003c\\u002fextra\\u003e\",\"legendgroup\":\"\",\"marker\":{\"color\":\"#636efa\",\"pattern\":{\"shape\":\"\"}},\"name\":\"\",\"offsetgroup\":\"\",\"orientation\":\"v\",\"showlegend\":false,\"x\":[\"MSSubClass\",\"LotArea\",\"OverallQual\",\"OverallCond\",\"YearBuilt\",\"YearRemodAdd\",\"1stFlrSF\",\"2ndFlrSF\",\"LowQualFinSF\",\"GrLivArea\",\"FullBath\",\"HalfBath\",\"BedroomAbvGr\",\"KitchenAbvGr\",\"TotRmsAbvGrd\",\"Fireplaces\",\"WoodDeckSF\",\"OpenPorchSF\",\"EnclosedPorch\",\"3SsnPorch\",\"ScreenPorch\",\"PoolArea\",\"MiscVal\",\"MoSold\",\"YrSold\"],\"xaxis\":\"x\",\"y\":[-149.6622033493628,0.3834184588922101,19230.313139954866,5093.446871137129,512.1377971172964,140.82022623083822,63.6019521213261,47.71902570365825,30.57286149495987,5.168280028834568,1312.6738056183258,-1766.501627477318,-11713.268586202686,-15009.105956733343,5355.501681821379,5468.79897267693,31.914893201468686,-9.005301376988873,11.746088572467986,11.722590094043893,69.49789869626267,-36.745780795843686,-1.1388440745653052,-93.32579667262873,-530.9093215243228],\"yaxis\":\"y\",\"type\":\"histogram\"}],                        {\"template\":{\"data\":{\"histogram2dcontour\":[{\"type\":\"histogram2dcontour\",\"colorbar\":{\"outlinewidth\":0,\"ticks\":\"\"},\"colorscale\":[[0.0,\"#0d0887\"],[0.1111111111111111,\"#46039f\"],[0.2222222222222222,\"#7201a8\"],[0.3333333333333333,\"#9c179e\"],[0.4444444444444444,\"#bd3786\"],[0.5555555555555556,\"#d8576b\"],[0.6666666666666666,\"#ed7953\"],[0.7777777777777778,\"#fb9f3a\"],[0.8888888888888888,\"#fdca26\"],[1.0,\"#f0f921\"]]}],\"choropleth\":[{\"type\":\"choropleth\",\"colorbar\":{\"outlinewidth\":0,\"ticks\":\"\"}}],\"histogram2d\":[{\"type\":\"histogram2d\",\"colorbar\":{\"outlinewidth\":0,\"ticks\":\"\"},\"colorscale\":[[0.0,\"#0d0887\"],[0.1111111111111111,\"#46039f\"],[0.2222222222222222,\"#7201a8\"],[0.3333333333333333,\"#9c179e\"],[0.4444444444444444,\"#bd3786\"],[0.5555555555555556,\"#d8576b\"],[0.6666666666666666,\"#ed7953\"],[0.7777777777777778,\"#fb9f3a\"],[0.8888888888888888,\"#fdca26\"],[1.0,\"#f0f921\"]]}],\"heatmap\":[{\"type\":\"heatmap\",\"colorbar\":{\"outlinewidth\":0,\"ticks\":\"\"},\"colorscale\":[[0.0,\"#0d0887\"],[0.1111111111111111,\"#46039f\"],[0.2222222222222222,\"#7201a8\"],[0.3333333333333333,\"#9c179e\"],[0.4444444444444444,\"#bd3786\"],[0.5555555555555556,\"#d8576b\"],[0.6666666666666666,\"#ed7953\"],[0.7777777777777778,\"#fb9f3a\"],[0.8888888888888888,\"#fdca26\"],[1.0,\"#f0f921\"]]}],\"heatmapgl\":[{\"type\":\"heatmapgl\",\"colorbar\":{\"outlinewidth\":0,\"ticks\":\"\"},\"colorscale\":[[0.0,\"#0d0887\"],[0.1111111111111111,\"#46039f\"],[0.2222222222222222,\"#7201a8\"],[0.3333333333333333,\"#9c179e\"],[0.4444444444444444,\"#bd3786\"],[0.5555555555555556,\"#d8576b\"],[0.6666666666666666,\"#ed7953\"],[0.7777777777777778,\"#fb9f3a\"],[0.8888888888888888,\"#fdca26\"],[1.0,\"#f0f921\"]]}],\"contourcarpet\":[{\"type\":\"contourcarpet\",\"colorbar\":{\"outlinewidth\":0,\"ticks\":\"\"}}],\"contour\":[{\"type\":\"contour\",\"colorbar\":{\"outlinewidth\":0,\"ticks\":\"\"},\"colorscale\":[[0.0,\"#0d0887\"],[0.1111111111111111,\"#46039f\"],[0.2222222222222222,\"#7201a8\"],[0.3333333333333333,\"#9c179e\"],[0.4444444444444444,\"#bd3786\"],[0.5555555555555556,\"#d8576b\"],[0.6666666666666666,\"#ed7953\"],[0.7777777777777778,\"#fb9f3a\"],[0.8888888888888888,\"#fdca26\"],[1.0,\"#f0f921\"]]}],\"surface\":[{\"type\":\"surface\",\"colorbar\":{\"outlinewidth\":0,\"ticks\":\"\"},\"colorscale\":[[0.0,\"#0d0887\"],[0.1111111111111111,\"#46039f\"],[0.2222222222222222,\"#7201a8\"],[0.3333333333333333,\"#9c179e\"],[0.4444444444444444,\"#bd3786\"],[0.5555555555555556,\"#d8576b\"],[0.6666666666666666,\"#ed7953\"],[0.7777777777777778,\"#fb9f3a\"],[0.8888888888888888,\"#fdca26\"],[1.0,\"#f0f921\"]]}],\"mesh3d\":[{\"type\":\"mesh3d\",\"colorbar\":{\"outlinewidth\":0,\"ticks\":\"\"}}],\"scatter\":[{\"fillpattern\":{\"fillmode\":\"overlay\",\"size\":10,\"solidity\":0.2},\"type\":\"scatter\"}],\"parcoords\":[{\"type\":\"parcoords\",\"line\":{\"colorbar\":{\"outlinewidth\":0,\"ticks\":\"\"}}}],\"scatterpolargl\":[{\"type\":\"scatterpolargl\",\"marker\":{\"colorbar\":{\"outlinewidth\":0,\"ticks\":\"\"}}}],\"bar\":[{\"error_x\":{\"color\":\"#2a3f5f\"},\"error_y\":{\"color\":\"#2a3f5f\"},\"marker\":{\"line\":{\"color\":\"#E5ECF6\",\"width\":0.5},\"pattern\":{\"fillmode\":\"overlay\",\"size\":10,\"solidity\":0.2}},\"type\":\"bar\"}],\"scattergeo\":[{\"type\":\"scattergeo\",\"marker\":{\"colorbar\":{\"outlinewidth\":0,\"ticks\":\"\"}}}],\"scatterpolar\":[{\"type\":\"scatterpolar\",\"marker\":{\"colorbar\":{\"outlinewidth\":0,\"ticks\":\"\"}}}],\"histogram\":[{\"marker\":{\"pattern\":{\"fillmode\":\"overlay\",\"size\":10,\"solidity\":0.2}},\"type\":\"histogram\"}],\"scattergl\":[{\"type\":\"scattergl\",\"marker\":{\"colorbar\":{\"outlinewidth\":0,\"ticks\":\"\"}}}],\"scatter3d\":[{\"type\":\"scatter3d\",\"line\":{\"colorbar\":{\"outlinewidth\":0,\"ticks\":\"\"}},\"marker\":{\"colorbar\":{\"outlinewidth\":0,\"ticks\":\"\"}}}],\"scattermapbox\":[{\"type\":\"scattermapbox\",\"marker\":{\"colorbar\":{\"outlinewidth\":0,\"ticks\":\"\"}}}],\"scatterternary\":[{\"type\":\"scatterternary\",\"marker\":{\"colorbar\":{\"outlinewidth\":0,\"ticks\":\"\"}}}],\"scattercarpet\":[{\"type\":\"scattercarpet\",\"marker\":{\"colorbar\":{\"outlinewidth\":0,\"ticks\":\"\"}}}],\"carpet\":[{\"aaxis\":{\"endlinecolor\":\"#2a3f5f\",\"gridcolor\":\"white\",\"linecolor\":\"white\",\"minorgridcolor\":\"white\",\"startlinecolor\":\"#2a3f5f\"},\"baxis\":{\"endlinecolor\":\"#2a3f5f\",\"gridcolor\":\"white\",\"linecolor\":\"white\",\"minorgridcolor\":\"white\",\"startlinecolor\":\"#2a3f5f\"},\"type\":\"carpet\"}],\"table\":[{\"cells\":{\"fill\":{\"color\":\"#EBF0F8\"},\"line\":{\"color\":\"white\"}},\"header\":{\"fill\":{\"color\":\"#C8D4E3\"},\"line\":{\"color\":\"white\"}},\"type\":\"table\"}],\"barpolar\":[{\"marker\":{\"line\":{\"color\":\"#E5ECF6\",\"width\":0.5},\"pattern\":{\"fillmode\":\"overlay\",\"size\":10,\"solidity\":0.2}},\"type\":\"barpolar\"}],\"pie\":[{\"automargin\":true,\"type\":\"pie\"}]},\"layout\":{\"autotypenumbers\":\"strict\",\"colorway\":[\"#636efa\",\"#EF553B\",\"#00cc96\",\"#ab63fa\",\"#FFA15A\",\"#19d3f3\",\"#FF6692\",\"#B6E880\",\"#FF97FF\",\"#FECB52\"],\"font\":{\"color\":\"#2a3f5f\"},\"hovermode\":\"closest\",\"hoverlabel\":{\"align\":\"left\"},\"paper_bgcolor\":\"white\",\"plot_bgcolor\":\"#E5ECF6\",\"polar\":{\"bgcolor\":\"#E5ECF6\",\"angularaxis\":{\"gridcolor\":\"white\",\"linecolor\":\"white\",\"ticks\":\"\"},\"radialaxis\":{\"gridcolor\":\"white\",\"linecolor\":\"white\",\"ticks\":\"\"}},\"ternary\":{\"bgcolor\":\"#E5ECF6\",\"aaxis\":{\"gridcolor\":\"white\",\"linecolor\":\"white\",\"ticks\":\"\"},\"baxis\":{\"gridcolor\":\"white\",\"linecolor\":\"white\",\"ticks\":\"\"},\"caxis\":{\"gridcolor\":\"white\",\"linecolor\":\"white\",\"ticks\":\"\"}},\"coloraxis\":{\"colorbar\":{\"outlinewidth\":0,\"ticks\":\"\"}},\"colorscale\":{\"sequential\":[[0.0,\"#0d0887\"],[0.1111111111111111,\"#46039f\"],[0.2222222222222222,\"#7201a8\"],[0.3333333333333333,\"#9c179e\"],[0.4444444444444444,\"#bd3786\"],[0.5555555555555556,\"#d8576b\"],[0.6666666666666666,\"#ed7953\"],[0.7777777777777778,\"#fb9f3a\"],[0.8888888888888888,\"#fdca26\"],[1.0,\"#f0f921\"]],\"sequentialminus\":[[0.0,\"#0d0887\"],[0.1111111111111111,\"#46039f\"],[0.2222222222222222,\"#7201a8\"],[0.3333333333333333,\"#9c179e\"],[0.4444444444444444,\"#bd3786\"],[0.5555555555555556,\"#d8576b\"],[0.6666666666666666,\"#ed7953\"],[0.7777777777777778,\"#fb9f3a\"],[0.8888888888888888,\"#fdca26\"],[1.0,\"#f0f921\"]],\"diverging\":[[0,\"#8e0152\"],[0.1,\"#c51b7d\"],[0.2,\"#de77ae\"],[0.3,\"#f1b6da\"],[0.4,\"#fde0ef\"],[0.5,\"#f7f7f7\"],[0.6,\"#e6f5d0\"],[0.7,\"#b8e186\"],[0.8,\"#7fbc41\"],[0.9,\"#4d9221\"],[1,\"#276419\"]]},\"xaxis\":{\"gridcolor\":\"white\",\"linecolor\":\"white\",\"ticks\":\"\",\"title\":{\"standoff\":15},\"zerolinecolor\":\"white\",\"automargin\":true,\"zerolinewidth\":2},\"yaxis\":{\"gridcolor\":\"white\",\"linecolor\":\"white\",\"ticks\":\"\",\"title\":{\"standoff\":15},\"zerolinecolor\":\"white\",\"automargin\":true,\"zerolinewidth\":2},\"scene\":{\"xaxis\":{\"backgroundcolor\":\"#E5ECF6\",\"gridcolor\":\"white\",\"linecolor\":\"white\",\"showbackground\":true,\"ticks\":\"\",\"zerolinecolor\":\"white\",\"gridwidth\":2},\"yaxis\":{\"backgroundcolor\":\"#E5ECF6\",\"gridcolor\":\"white\",\"linecolor\":\"white\",\"showbackground\":true,\"ticks\":\"\",\"zerolinecolor\":\"white\",\"gridwidth\":2},\"zaxis\":{\"backgroundcolor\":\"#E5ECF6\",\"gridcolor\":\"white\",\"linecolor\":\"white\",\"showbackground\":true,\"ticks\":\"\",\"zerolinecolor\":\"white\",\"gridwidth\":2}},\"shapedefaults\":{\"line\":{\"color\":\"#2a3f5f\"}},\"annotationdefaults\":{\"arrowcolor\":\"#2a3f5f\",\"arrowhead\":0,\"arrowwidth\":1},\"geo\":{\"bgcolor\":\"white\",\"landcolor\":\"#E5ECF6\",\"subunitcolor\":\"white\",\"showland\":true,\"showlakes\":true,\"lakecolor\":\"white\"},\"title\":{\"x\":0.05},\"mapbox\":{\"style\":\"light\"}}},\"xaxis\":{\"anchor\":\"y\",\"domain\":[0.0,1.0],\"title\":{\"text\":\"x\"}},\"yaxis\":{\"anchor\":\"x\",\"domain\":[0.0,1.0],\"title\":{\"text\":\"sum of y\"}},\"legend\":{\"tracegroupgap\":0},\"margin\":{\"t\":60},\"barmode\":\"relative\"},                        {\"responsive\": true}                    ).then(function(){\n",
       "                            \n",
       "var gd = document.getElementById('2faa39cc-e993-46a5-94a2-1a33732cb24d');\n",
       "var x = new MutationObserver(function (mutations, observer) {{\n",
       "        var display = window.getComputedStyle(gd).display;\n",
       "        if (!display || display === 'none') {{\n",
       "            console.log([gd, 'removed!']);\n",
       "            Plotly.purge(gd);\n",
       "            observer.disconnect();\n",
       "        }}\n",
       "}});\n",
       "\n",
       "// Listen for the removal of the full notebook cells\n",
       "var notebookContainer = gd.closest('#notebook-container');\n",
       "if (notebookContainer) {{\n",
       "    x.observe(notebookContainer, {childList: true});\n",
       "}}\n",
       "\n",
       "// Listen for the clearing of the current output cell\n",
       "var outputEl = gd.closest('.output');\n",
       "if (outputEl) {{\n",
       "    x.observe(outputEl, {childList: true});\n",
       "}}\n",
       "\n",
       "                        })                };                });            </script>        </div>"
      ]
     },
     "metadata": {},
     "output_type": "display_data"
    },
    {
     "data": {
      "text/html": [
       "<div>                            <div id=\"e6e62ed8-d0f0-4501-a1be-07649ffe4e13\" class=\"plotly-graph-div\" style=\"height:525px; width:100%;\"></div>            <script type=\"text/javascript\">                require([\"plotly\"], function(Plotly) {                    window.PLOTLYENV=window.PLOTLYENV || {};                                    if (document.getElementById(\"e6e62ed8-d0f0-4501-a1be-07649ffe4e13\")) {                    Plotly.newPlot(                        \"e6e62ed8-d0f0-4501-a1be-07649ffe4e13\",                        [{\"hovertemplate\":\"x=%{x}\\u003cbr\\u003ey=%{y}\\u003cextra\\u003e\\u003c\\u002fextra\\u003e\",\"legendgroup\":\"\",\"marker\":{\"color\":\"#636efa\",\"symbol\":\"circle\"},\"mode\":\"markers\",\"name\":\"\",\"orientation\":\"v\",\"showlegend\":false,\"x\":[279678.8262959601,266732.0863344312,161943.56223978027,179975.13892502937,124819.21327714232,270911.3733186425,241809.6737700043,78657.13874903508,172661.92338073434,127198.14151728386,284921.06425740954,244830.57607431308,54349.53067777795,107829.87474647234,140388.15559613676,136980.26225306024,173875.83674108092,286966.55414725665,217591.7479282074,120892.66267907154,234812.73931980645,150133.89019601664,137645.93244383676,223948.83059259574,110432.55154280359,213409.64132362837,147048.29224977264,131089.80796278757,315616.3503377625,189034.91289190017,221470.84889289527,193334.01177381218,173404.73423533462,158465.17789799016,191473.79701486992,299127.2006526666,76236.30125573196,223968.19393951987,243656.37533242576,133705.69649538852,279872.50231896003,270092.37681260833,113940.80619924149,268500.5362218985,131465.95543257555,169390.71454102598,113283.2656915508,149055.85914160352,233768.65126011358,167095.71752762952,205775.8330942415,118532.6189341516,215972.79138369323,135010.04082746472,52223.292811841646,255639.63631472888,126038.49893848435,164628.69875231537,219953.7366331186,133943.9825933245,204295.84614824364,141514.75450774853,156288.24946918886,85288.36967035971,210139.24466316955,67270.04180055478,225222.59609774005,169799.9080572889,62949.664278968296,282739.55796832754,287296.4675675408,191363.1753845195,234915.84531847364,164010.75865235197,89242.58304217568,161145.73123933206,83742.07328380458,259345.34474749933,141897.39309448277,414625.7513010652,268368.64739726775,211112.1032269445,112988.97430154606,132993.62045511173,135057.5068201995,148116.99691265356,187756.5703787044,185802.55446206557,103867.45078906813,192566.48764161376,158215.33607694838,126844.05340109643,131966.30734561413,93665.16456217639,185158.02755244204,136795.86526770127,149844.84107578563,202460.50969255343,154862.32198790257,123949.75342376798,103714.62691206153,277097.86333633284,104124.80020652415,326800.3701483592,166959.29077333695,148711.36843536788,64720.978641345166,233675.7752321863,142637.04493502324,130531.96016999218,111632.24380056292,133367.40619629977,193496.0037157709,175040.14590828237,154022.7019248742,183758.61053430784,191668.19332211936,75653.51456762542,133779.07517658686,250667.41401696054,196085.13926555257,135120.26076256286,203801.83515765506,146381.7153107155,65137.23274500802,89025.2343882274,177789.68628958275,194089.62882431614,219713.78660024033,148242.36299063906,96957.4948585218,126741.5849263267,177218.2299609091,163150.97514979698,121811.20993709873,130900.45624996087,171474.47806743666,185389.22392857703,200198.25966166594,256109.1831987549,215923.57382541482,303979.14386675344,186072.88194321533,261656.55919634772,170873.18590816582,243646.1442684044,322417.52381731523,217804.01991159556,256966.49704890454,223425.50807420252,114348.90623410343,300214.1287759248,221398.4572702208,257736.5340485971,143873.34846929443,148533.5371112146,389994.29760708695,335888.3064940019,126972.51124678599,175652.9792670397,149208.4289134674,284382.2376502877,109970.89206387359,200244.70243744162,262454.25197416206,173203.58249395975,248859.82199674187,82686.91470438882,325717.15287645604,242567.84679178684,177471.255446148,116703.96800191444,270401.01193606714,208871.12914911262,109561.61982229387,246421.07590688008,136821.23323436623,139381.80775705836,196150.99179812532,206231.5348504347,123751.28414596844,230185.15548486786,120922.71699830372,170038.39038277685,262434.5777724985,229648.50861544296,32895.8353830289,147219.2683913919,116475.5227654826,292035.48204285104,96223.75238948426,92438.54513943609,173213.47192274436,292564.4383851609,110492.3448195266,195589.10832494148,144851.52680275618,324150.3325555661,163643.30578636774,148073.39791522303,133389.88886542327,239513.55079797248,125837.18429700233,109918.99245931179,204358.88669307355,145184.31505192944,92415.91410546307,300890.81485162606,356831.5513979611,121258.36261101253,210356.67368493084,203224.2970053726,189391.2254898313,165205.4198577471,148686.04785443208,216131.51835587464,321539.28885867714,168986.17248179152,124486.14317204291,255163.1390919959,249144.9600709856,284907.87230297213,153219.37913664774,215681.76134053874,117691.04466866475,255858.59610144084,192425.11587640288,165059.948985637,232263.34587262728,272894.010347912,172521.38552467775,91161.61996445566,72650.63642045553,152158.46573461365,144917.0482228308,259837.00947747822,115279.98085146118,288850.5933570479,89644.83180770132,137903.4981818273,141439.5994321502,108072.03999401524,180625.91404413705,74019.06290365034,191376.5589451244,178448.79375448544,146251.01598107902,286498.2679537224,225474.8946096833,185754.97969496256,209570.2903205519,335916.31317070825,156822.16587995947,161840.8987858229,277535.84685539675,278290.69705807755,229137.10717093683,203453.06520753802,224860.0501512757,113011.45063947118,99202.94898795366,154721.08470526128,154610.04596361483,157538.51659082313,80523.20229470998,143474.743418156,150582.4367411998,94433.1149005469,197830.91143222596,134630.37233256205,217511.76887897978,54625.62729350722,124624.47156465583,176516.95969341946,78061.74361794908,211322.52000085503,124976.48672616563,177163.21792716457,124179.53812096425,229167.06331510498,135539.4557941291,48426.07941110036,188868.46700831607,214977.65315924794,248891.6693124639,51571.257071324915,354440.34467452613,237263.2439432502,211232.9534063951,199830.59081793542,144404.88195834495,203156.67756382172],\"xaxis\":\"x\",\"y\":[279680.0591444782,266734.0464800312,161944.3437329004,179954.00314712,124813.73899828608,270914.0672831732,241811.3630134787,78659.06531740096,172661.53516860068,127200.27819520561,284919.55592199625,244829.4630525498,54351.14591884683,107813.48553200508,140392.6292359823,136981.0477383579,173880.75930943148,286969.5464623652,217588.72443137201,120884.19363914267,234818.32908309205,150149.2710540772,137648.7855450121,223937.60972169973,110426.17688370933,213417.45651464956,147042.40555229026,131096.35276588774,315616.768734801,189039.54243199155,221471.9535834922,193335.52369584318,173402.0465767369,158469.13123316102,191468.7537976086,299131.16705105687,76236.59621735453,223960.73011741054,243655.13870804053,133692.18723471952,279875.9231606176,270059.9470097108,113942.67133213545,268498.81122235965,131462.5585327167,169395.11343543988,113278.758867461,149055.4809500705,233766.41828156682,167095.8528551784,205775.45976960834,118537.1088320592,215982.4244104016,134997.0285649196,52234.32249366952,255637.95312934567,126038.07344344165,164645.58947819588,219951.6876847411,133965.41069120937,204291.85434075003,141508.19415240758,156290.9736769253,85285.61259364651,210124.25931824598,67290.09511178912,225217.29759029573,169799.63258151984,62964.19193003967,282740.25122864905,287292.20428192907,191355.21045858157,234913.07640821673,164008.5231162486,89243.3973780055,161138.43761170277,83756.05085649807,259346.9062399665,141897.12332997698,414628.15042892366,268368.9813361744,211107.220515917,112992.40342241636,132994.18164013117,135058.88042893162,148116.97295187553,187754.6007888866,185798.9362394777,103860.10924123065,192569.7672502919,158209.63700539654,126840.70520396339,131969.6636856388,93670.2832184573,185144.30530981463,136788.8373996372,149870.80474343564,202463.57875906955,154843.85329167463,123972.30688384431,103711.74824955326,277094.9509057893,104129.9800371736,326806.07153335935,166963.17759874783,148710.82114984508,64721.49420717475,233679.39371848735,142633.80795199226,130530.49718626123,111634.74122893997,133369.11262243206,193493.9040872776,175031.65361537877,154031.19295536284,183759.6620767695,191662.52205443115,75645.40062957804,133784.12960301992,250667.9412479112,196085.4973774142,135118.6311236939,203800.0779287261,146379.7593228866,65140.19616828667,89024.33244121412,177804.28778668842,194090.40992173966,219717.78013170476,148233.1511351834,96957.8356498935,126739.69199834106,177229.62094893772,163156.89413924108,121816.71004913875,130899.87848162407,171466.47222061217,185388.78649242478,200200.1162059725,256108.15382743021,215920.09648735158,303972.26215313864,186061.00047704153,261647.81103502703,170876.00404149632,243644.80657449865,322407.23835939926,217797.47079924349,256964.6744559541,223419.72815049457,114349.0877551962,300211.5136746911,221390.23159144766,257731.1633776595,143874.98810171883,148530.84134144173,389998.1517056355,335911.7205078978,126958.89075368177,175653.8452509495,149208.04105503263,284393.9513203078,109969.30348938773,200239.3058236643,262459.39448375173,173199.00257262366,248865.61763427837,82678.76268343674,325712.9131139694,242559.6435820777,177461.95304299006,116705.99692467065,270401.9149373402,208868.7462563226,109562.05062935944,246423.0276080242,136818.26696452696,139379.27127913327,196151.52353969705,206232.24968115368,123751.98546704336,230173.7144882211,120922.80366029864,170028.47113377927,262433.81696107995,229646.68860286003,32891.034823316964,147218.37082481425,116479.92249179061,292033.23600005184,96225.69575376384,92422.20808040223,173211.24482096883,292574.45844157273,110495.42641367292,195581.97923919326,144850.42848942254,324132.35392461857,163653.16405963898,148069.49247578508,133396.77611087402,239508.89140030765,125831.05500986514,109907.56552575546,204360.85262606782,145189.1768141857,92413.99280241271,300890.85669863364,356835.505257166,121259.86028710217,210365.51220137638,203226.03312516143,189388.6723143484,165214.55000587588,148687.6005361717,216137.51851967734,321541.5212495929,168979.89499332028,124482.57263751538,255166.17774962622,249147.35546271782,284916.21002497955,153213.16265226615,215674.7724784077,117682.55835054663,255856.2823754351,192422.28407750366,165066.14795403078,232262.039920269,272900.4408906384,172529.0187744947,91149.77833784645,72651.88028262137,152163.45688032324,144915.8739041969,259836.38802563504,115277.77158730058,288854.94603158766,89645.76183638128,137912.2416200246,141442.82319564826,108094.67246740591,180615.68937711947,74031.22813099297,191371.76440845872,178479.1680324138,146260.47566411144,286502.98776444024,225477.30525647127,185747.19681191898,209573.30021433195,335920.6187578117,156811.25874085864,161840.08209175104,277532.2942625062,278296.4548927789,229139.94072078326,203448.1911376313,224867.85400544317,113009.48368981807,99205.26218004816,154721.44334579282,154606.8186190934,157543.19033339235,80523.48126453348,143479.03218492365,150594.7987139984,94430.06267307478,197828.93809333653,134627.5426399164,217512.5536755378,54622.93788381503,124637.58387580601,176520.81514412508,78054.9224824903,211317.43566621013,124959.22283846396,177178.06472145335,124178.92716764926,229169.20814699715,135544.22513570834,48412.00168476184,188880.05831288476,214980.62951778388,248870.72750552872,51567.555343957734,354436.04714785994,237278.58433497266,211226.32132288086,199827.20123298815,144405.58370292746,203148.15738232445],\"yaxis\":\"y\",\"type\":\"scatter\"}],                        {\"template\":{\"data\":{\"histogram2dcontour\":[{\"type\":\"histogram2dcontour\",\"colorbar\":{\"outlinewidth\":0,\"ticks\":\"\"},\"colorscale\":[[0.0,\"#0d0887\"],[0.1111111111111111,\"#46039f\"],[0.2222222222222222,\"#7201a8\"],[0.3333333333333333,\"#9c179e\"],[0.4444444444444444,\"#bd3786\"],[0.5555555555555556,\"#d8576b\"],[0.6666666666666666,\"#ed7953\"],[0.7777777777777778,\"#fb9f3a\"],[0.8888888888888888,\"#fdca26\"],[1.0,\"#f0f921\"]]}],\"choropleth\":[{\"type\":\"choropleth\",\"colorbar\":{\"outlinewidth\":0,\"ticks\":\"\"}}],\"histogram2d\":[{\"type\":\"histogram2d\",\"colorbar\":{\"outlinewidth\":0,\"ticks\":\"\"},\"colorscale\":[[0.0,\"#0d0887\"],[0.1111111111111111,\"#46039f\"],[0.2222222222222222,\"#7201a8\"],[0.3333333333333333,\"#9c179e\"],[0.4444444444444444,\"#bd3786\"],[0.5555555555555556,\"#d8576b\"],[0.6666666666666666,\"#ed7953\"],[0.7777777777777778,\"#fb9f3a\"],[0.8888888888888888,\"#fdca26\"],[1.0,\"#f0f921\"]]}],\"heatmap\":[{\"type\":\"heatmap\",\"colorbar\":{\"outlinewidth\":0,\"ticks\":\"\"},\"colorscale\":[[0.0,\"#0d0887\"],[0.1111111111111111,\"#46039f\"],[0.2222222222222222,\"#7201a8\"],[0.3333333333333333,\"#9c179e\"],[0.4444444444444444,\"#bd3786\"],[0.5555555555555556,\"#d8576b\"],[0.6666666666666666,\"#ed7953\"],[0.7777777777777778,\"#fb9f3a\"],[0.8888888888888888,\"#fdca26\"],[1.0,\"#f0f921\"]]}],\"heatmapgl\":[{\"type\":\"heatmapgl\",\"colorbar\":{\"outlinewidth\":0,\"ticks\":\"\"},\"colorscale\":[[0.0,\"#0d0887\"],[0.1111111111111111,\"#46039f\"],[0.2222222222222222,\"#7201a8\"],[0.3333333333333333,\"#9c179e\"],[0.4444444444444444,\"#bd3786\"],[0.5555555555555556,\"#d8576b\"],[0.6666666666666666,\"#ed7953\"],[0.7777777777777778,\"#fb9f3a\"],[0.8888888888888888,\"#fdca26\"],[1.0,\"#f0f921\"]]}],\"contourcarpet\":[{\"type\":\"contourcarpet\",\"colorbar\":{\"outlinewidth\":0,\"ticks\":\"\"}}],\"contour\":[{\"type\":\"contour\",\"colorbar\":{\"outlinewidth\":0,\"ticks\":\"\"},\"colorscale\":[[0.0,\"#0d0887\"],[0.1111111111111111,\"#46039f\"],[0.2222222222222222,\"#7201a8\"],[0.3333333333333333,\"#9c179e\"],[0.4444444444444444,\"#bd3786\"],[0.5555555555555556,\"#d8576b\"],[0.6666666666666666,\"#ed7953\"],[0.7777777777777778,\"#fb9f3a\"],[0.8888888888888888,\"#fdca26\"],[1.0,\"#f0f921\"]]}],\"surface\":[{\"type\":\"surface\",\"colorbar\":{\"outlinewidth\":0,\"ticks\":\"\"},\"colorscale\":[[0.0,\"#0d0887\"],[0.1111111111111111,\"#46039f\"],[0.2222222222222222,\"#7201a8\"],[0.3333333333333333,\"#9c179e\"],[0.4444444444444444,\"#bd3786\"],[0.5555555555555556,\"#d8576b\"],[0.6666666666666666,\"#ed7953\"],[0.7777777777777778,\"#fb9f3a\"],[0.8888888888888888,\"#fdca26\"],[1.0,\"#f0f921\"]]}],\"mesh3d\":[{\"type\":\"mesh3d\",\"colorbar\":{\"outlinewidth\":0,\"ticks\":\"\"}}],\"scatter\":[{\"fillpattern\":{\"fillmode\":\"overlay\",\"size\":10,\"solidity\":0.2},\"type\":\"scatter\"}],\"parcoords\":[{\"type\":\"parcoords\",\"line\":{\"colorbar\":{\"outlinewidth\":0,\"ticks\":\"\"}}}],\"scatterpolargl\":[{\"type\":\"scatterpolargl\",\"marker\":{\"colorbar\":{\"outlinewidth\":0,\"ticks\":\"\"}}}],\"bar\":[{\"error_x\":{\"color\":\"#2a3f5f\"},\"error_y\":{\"color\":\"#2a3f5f\"},\"marker\":{\"line\":{\"color\":\"#E5ECF6\",\"width\":0.5},\"pattern\":{\"fillmode\":\"overlay\",\"size\":10,\"solidity\":0.2}},\"type\":\"bar\"}],\"scattergeo\":[{\"type\":\"scattergeo\",\"marker\":{\"colorbar\":{\"outlinewidth\":0,\"ticks\":\"\"}}}],\"scatterpolar\":[{\"type\":\"scatterpolar\",\"marker\":{\"colorbar\":{\"outlinewidth\":0,\"ticks\":\"\"}}}],\"histogram\":[{\"marker\":{\"pattern\":{\"fillmode\":\"overlay\",\"size\":10,\"solidity\":0.2}},\"type\":\"histogram\"}],\"scattergl\":[{\"type\":\"scattergl\",\"marker\":{\"colorbar\":{\"outlinewidth\":0,\"ticks\":\"\"}}}],\"scatter3d\":[{\"type\":\"scatter3d\",\"line\":{\"colorbar\":{\"outlinewidth\":0,\"ticks\":\"\"}},\"marker\":{\"colorbar\":{\"outlinewidth\":0,\"ticks\":\"\"}}}],\"scattermapbox\":[{\"type\":\"scattermapbox\",\"marker\":{\"colorbar\":{\"outlinewidth\":0,\"ticks\":\"\"}}}],\"scatterternary\":[{\"type\":\"scatterternary\",\"marker\":{\"colorbar\":{\"outlinewidth\":0,\"ticks\":\"\"}}}],\"scattercarpet\":[{\"type\":\"scattercarpet\",\"marker\":{\"colorbar\":{\"outlinewidth\":0,\"ticks\":\"\"}}}],\"carpet\":[{\"aaxis\":{\"endlinecolor\":\"#2a3f5f\",\"gridcolor\":\"white\",\"linecolor\":\"white\",\"minorgridcolor\":\"white\",\"startlinecolor\":\"#2a3f5f\"},\"baxis\":{\"endlinecolor\":\"#2a3f5f\",\"gridcolor\":\"white\",\"linecolor\":\"white\",\"minorgridcolor\":\"white\",\"startlinecolor\":\"#2a3f5f\"},\"type\":\"carpet\"}],\"table\":[{\"cells\":{\"fill\":{\"color\":\"#EBF0F8\"},\"line\":{\"color\":\"white\"}},\"header\":{\"fill\":{\"color\":\"#C8D4E3\"},\"line\":{\"color\":\"white\"}},\"type\":\"table\"}],\"barpolar\":[{\"marker\":{\"line\":{\"color\":\"#E5ECF6\",\"width\":0.5},\"pattern\":{\"fillmode\":\"overlay\",\"size\":10,\"solidity\":0.2}},\"type\":\"barpolar\"}],\"pie\":[{\"automargin\":true,\"type\":\"pie\"}]},\"layout\":{\"autotypenumbers\":\"strict\",\"colorway\":[\"#636efa\",\"#EF553B\",\"#00cc96\",\"#ab63fa\",\"#FFA15A\",\"#19d3f3\",\"#FF6692\",\"#B6E880\",\"#FF97FF\",\"#FECB52\"],\"font\":{\"color\":\"#2a3f5f\"},\"hovermode\":\"closest\",\"hoverlabel\":{\"align\":\"left\"},\"paper_bgcolor\":\"white\",\"plot_bgcolor\":\"#E5ECF6\",\"polar\":{\"bgcolor\":\"#E5ECF6\",\"angularaxis\":{\"gridcolor\":\"white\",\"linecolor\":\"white\",\"ticks\":\"\"},\"radialaxis\":{\"gridcolor\":\"white\",\"linecolor\":\"white\",\"ticks\":\"\"}},\"ternary\":{\"bgcolor\":\"#E5ECF6\",\"aaxis\":{\"gridcolor\":\"white\",\"linecolor\":\"white\",\"ticks\":\"\"},\"baxis\":{\"gridcolor\":\"white\",\"linecolor\":\"white\",\"ticks\":\"\"},\"caxis\":{\"gridcolor\":\"white\",\"linecolor\":\"white\",\"ticks\":\"\"}},\"coloraxis\":{\"colorbar\":{\"outlinewidth\":0,\"ticks\":\"\"}},\"colorscale\":{\"sequential\":[[0.0,\"#0d0887\"],[0.1111111111111111,\"#46039f\"],[0.2222222222222222,\"#7201a8\"],[0.3333333333333333,\"#9c179e\"],[0.4444444444444444,\"#bd3786\"],[0.5555555555555556,\"#d8576b\"],[0.6666666666666666,\"#ed7953\"],[0.7777777777777778,\"#fb9f3a\"],[0.8888888888888888,\"#fdca26\"],[1.0,\"#f0f921\"]],\"sequentialminus\":[[0.0,\"#0d0887\"],[0.1111111111111111,\"#46039f\"],[0.2222222222222222,\"#7201a8\"],[0.3333333333333333,\"#9c179e\"],[0.4444444444444444,\"#bd3786\"],[0.5555555555555556,\"#d8576b\"],[0.6666666666666666,\"#ed7953\"],[0.7777777777777778,\"#fb9f3a\"],[0.8888888888888888,\"#fdca26\"],[1.0,\"#f0f921\"]],\"diverging\":[[0,\"#8e0152\"],[0.1,\"#c51b7d\"],[0.2,\"#de77ae\"],[0.3,\"#f1b6da\"],[0.4,\"#fde0ef\"],[0.5,\"#f7f7f7\"],[0.6,\"#e6f5d0\"],[0.7,\"#b8e186\"],[0.8,\"#7fbc41\"],[0.9,\"#4d9221\"],[1,\"#276419\"]]},\"xaxis\":{\"gridcolor\":\"white\",\"linecolor\":\"white\",\"ticks\":\"\",\"title\":{\"standoff\":15},\"zerolinecolor\":\"white\",\"automargin\":true,\"zerolinewidth\":2},\"yaxis\":{\"gridcolor\":\"white\",\"linecolor\":\"white\",\"ticks\":\"\",\"title\":{\"standoff\":15},\"zerolinecolor\":\"white\",\"automargin\":true,\"zerolinewidth\":2},\"scene\":{\"xaxis\":{\"backgroundcolor\":\"#E5ECF6\",\"gridcolor\":\"white\",\"linecolor\":\"white\",\"showbackground\":true,\"ticks\":\"\",\"zerolinecolor\":\"white\",\"gridwidth\":2},\"yaxis\":{\"backgroundcolor\":\"#E5ECF6\",\"gridcolor\":\"white\",\"linecolor\":\"white\",\"showbackground\":true,\"ticks\":\"\",\"zerolinecolor\":\"white\",\"gridwidth\":2},\"zaxis\":{\"backgroundcolor\":\"#E5ECF6\",\"gridcolor\":\"white\",\"linecolor\":\"white\",\"showbackground\":true,\"ticks\":\"\",\"zerolinecolor\":\"white\",\"gridwidth\":2}},\"shapedefaults\":{\"line\":{\"color\":\"#2a3f5f\"}},\"annotationdefaults\":{\"arrowcolor\":\"#2a3f5f\",\"arrowhead\":0,\"arrowwidth\":1},\"geo\":{\"bgcolor\":\"white\",\"landcolor\":\"#E5ECF6\",\"subunitcolor\":\"white\",\"showland\":true,\"showlakes\":true,\"lakecolor\":\"white\"},\"title\":{\"x\":0.05},\"mapbox\":{\"style\":\"light\"}}},\"xaxis\":{\"anchor\":\"y\",\"domain\":[0.0,1.0],\"title\":{\"text\":\"x\"},\"type\":\"log\"},\"yaxis\":{\"anchor\":\"x\",\"domain\":[0.0,1.0],\"title\":{\"text\":\"y\"},\"type\":\"log\"},\"legend\":{\"tracegroupgap\":0},\"margin\":{\"t\":60}},                        {\"responsive\": true}                    ).then(function(){\n",
       "                            \n",
       "var gd = document.getElementById('e6e62ed8-d0f0-4501-a1be-07649ffe4e13');\n",
       "var x = new MutationObserver(function (mutations, observer) {{\n",
       "        var display = window.getComputedStyle(gd).display;\n",
       "        if (!display || display === 'none') {{\n",
       "            console.log([gd, 'removed!']);\n",
       "            Plotly.purge(gd);\n",
       "            observer.disconnect();\n",
       "        }}\n",
       "}});\n",
       "\n",
       "// Listen for the removal of the full notebook cells\n",
       "var notebookContainer = gd.closest('#notebook-container');\n",
       "if (notebookContainer) {{\n",
       "    x.observe(notebookContainer, {childList: true});\n",
       "}}\n",
       "\n",
       "// Listen for the clearing of the current output cell\n",
       "var outputEl = gd.closest('.output');\n",
       "if (outputEl) {{\n",
       "    x.observe(outputEl, {childList: true});\n",
       "}}\n",
       "\n",
       "                        })                };                });            </script>        </div>"
      ]
     },
     "metadata": {},
     "output_type": "display_data"
    }
   ],
   "source": [
    "from plotly import express\n",
    "from sklearn.linear_model import Lasso\n",
    "\n",
    "lasso = Lasso(tol=1e-4, random_state=2024, max_iter=10000, positive=False, ).fit(X=X_train, y=y_train)\n",
    "print('rmse: {:5.4f}'.format(mean_squared_error(squared=False, y_true=np.log(y_test), y_pred=np.log(lasso.predict(X=X_test)))))\n",
    "express.histogram(x=lasso.feature_names_in_, y=lasso.coef_).show()\n",
    "express.scatter(x=linreg.predict(X=X_test), y=lasso.predict(X=X_test), log_x=True, log_y=True).show()"
   ]
  },
  {
   "cell_type": "code",
   "execution_count": 13,
   "id": "9486ba57",
   "metadata": {
    "execution": {
     "iopub.execute_input": "2024-05-03T17:43:06.588850Z",
     "iopub.status.busy": "2024-05-03T17:43:06.587973Z",
     "iopub.status.idle": "2024-05-03T17:43:06.662197Z",
     "shell.execute_reply": "2024-05-03T17:43:06.661084Z"
    },
    "papermill": {
     "duration": 0.08537,
     "end_time": "2024-05-03T17:43:06.665076",
     "exception": false,
     "start_time": "2024-05-03T17:43:06.579706",
     "status": "completed"
    },
    "tags": []
   },
   "outputs": [
    {
     "data": {
      "text/html": [
       "<div>                            <div id=\"2dd065fc-79fe-4fd5-8776-315014b0792b\" class=\"plotly-graph-div\" style=\"height:525px; width:100%;\"></div>            <script type=\"text/javascript\">                require([\"plotly\"], function(Plotly) {                    window.PLOTLYENV=window.PLOTLYENV || {};                                    if (document.getElementById(\"2dd065fc-79fe-4fd5-8776-315014b0792b\")) {                    Plotly.newPlot(                        \"2dd065fc-79fe-4fd5-8776-315014b0792b\",                        [{\"hovertemplate\":\"x=%{x}\\u003cbr\\u003ey=%{y}\\u003cextra\\u003e\\u003c\\u002fextra\\u003e\",\"legendgroup\":\"\",\"line\":{\"color\":\"#636efa\",\"dash\":\"solid\"},\"marker\":{\"symbol\":\"circle\"},\"mode\":\"lines\",\"name\":\"\",\"orientation\":\"v\",\"showlegend\":false,\"x\":[0,1,2,3,4,5,6,7,8,9,10,11,12,13,14,15,16,17,18,19,20,21,22,23,24,25,26,27,28,29,30,31,32,33,34,35,36,37,38,39,40,41,42,43,44,45,46,47,48,49,50,51,52,53,54,55,56,57,58,59,60,61,62,63,64,65,66,67,68,69,70,71,72,73,74,75,76,77,78,79,80,81,82,83,84,85,86,87,88,89,90,91,92,93,94,95,96,97,98,99,100,101,102,103,104,105,106,107,108,109,110,111,112,113,114,115,116,117,118,119,120,121,122,123,124,125,126,127,128,129,130,131,132,133,134,135,136,137,138,139,140,141,142,143,144,145,146,147,148,149,150,151,152,153,154,155,156,157,158,159,160,161,162,163,164,165,166,167,168,169,170,171,172,173,174,175,176,177,178,179,180,181,182,183,184,185,186,187,188,189,190,191,192,193,194,195,196,197,198,199,200,201,202,203,204,205,206,207,208,209,210,211,212,213,214,215,216,217,218,219,220,221,222,223,224,225,226,227,228,229,230,231,232,233,234,235,236,237,238,239,240,241,242,243,244,245,246,247,248,249,250,251,252,253,254,255,256,257,258,259,260,261,262,263,264,265,266,267,268,269,270,271,272,273,274,275,276,277,278,279,280,281,282,283,284,285,286,287,288,289,290,291],\"xaxis\":\"x\",\"y\":[-1.232848518062383,-1.9601456000236794,-0.7814931201282889,21.13577790936688,5.4742788562434725,-2.693964530713856,-1.6892434743931517,-1.92656836588867,0.3882121336646378,-2.1366779217496514,1.5083354132948443,1.1130217632744461,-1.615241068881005,16.38921446725726,-4.473639845557045,-0.7854852976743132,-4.9225683505646884,-2.9923151085386053,3.023496835376136,8.46903992886655,-5.589763285592198,-15.380858060554601,-2.853101175336633,11.220870896009728,6.3746590942610055,-7.815191021189094,5.886697482375894,-6.54480310017243,-0.41839703847654164,-4.629540091380477,-1.1046905969269574,-1.5119220310007222,2.687658597715199,-3.9533351708669215,5.043217261321843,-3.96639839024283,-0.29496162256691605,7.463822109333705,1.2366243852302432,13.509260669001378,-3.4208416575565934,32.42980289750267,-1.865132893959526,1.7249995388556272,3.3968998588388786,-4.398894413898233,4.506824089796282,0.3781915330328047,2.2329785467591137,-0.13532754889456555,0.37332463316852227,-4.48989790759515,-9.633026708383113,13.012262545118574,-11.029681827872992,1.6831853832118213,0.42549504269845784,-16.890725880512036,2.0489483774872497,-21.428097884869203,3.991807493614033,6.560355340945534,-2.7242077364353463,2.7570767131983303,14.985344923567027,-20.05331123434007,5.298507444327697,0.2754757690709084,-14.527651071373839,-0.6932603215100244,4.263285611756146,7.964925937936641,2.768910256912932,2.235536103369668,-0.8143358298111707,7.293627629289404,-13.977572693489492,-1.5614924671826884,0.2697645057924092,-2.399127858458087,-0.33393890666775405,4.882711027516052,-3.429120870307088,-0.5611850194400176,-1.3736087321303785,0.023960778024047613,1.969589817803353,3.6182225878583267,7.341547837480903,-3.2796086781308986,5.699071551847737,3.348197133047506,-3.3563400246785022,-5.118656280916184,13.722242627409287,7.027868064062204,-25.963667650008574,-3.069066516123712,18.46869622793747,-22.553460076334886,2.8786625082721002,2.9124305435689166,-5.1798306494602,-5.7013850001385435,-3.886825410882011,0.5472855227999389,-0.515565829584375,-3.6184863010421395,3.236983030976262,1.4629837309475988,-2.4974283770425245,-1.7064261322957464,2.099628493306227,8.492292903596535,-8.491030488628894,-1.051542461675126,5.671267688216176,8.113938047375996,-5.054426433052868,-0.5272309506544843,-0.35811186162754893,1.6296388689661399,1.757228928967379,1.9559878289001063,-2.9634232786484063,0.9019470132770948,-14.601497105672024,-0.7810974235180765,-3.99353146442445,9.211855455650948,-0.3407913717092015,1.89292798563838,-11.390988028608263,-5.918989444093313,-5.500112040026579,0.577768336806912,8.005846824496984,0.43743615224957466,-1.8565443065599538,1.0293713246937841,3.4773380632395856,6.881713614799082,11.881466173799708,8.748161320690997,-2.8181333304964937,1.3376939057488926,10.285457915975712,6.549112352076918,1.822592950426042,5.779923707945272,-0.18152109277434647,2.6151012337068096,8.225678773131222,5.370670937583782,-1.6396324243978597,2.695769772864878,-3.854098548530601,-23.414013895904645,13.620493104215711,-0.8659839098108932,0.38785843475488946,-11.713670020108111,1.5885744858533144,5.396613777324092,-5.142509589670226,4.579921336087864,-5.795637536502909,8.152020952082239,4.239762486657128,8.203209709143266,9.302403157926165,-2.028922756202519,-0.9030012730509043,2.3828927900176495,-0.430807065567933,-1.9517011441057548,2.966269839263987,2.5364779250812717,-0.5317415717290714,-0.7148307189927436,-0.7013210749137215,11.440996646764688,-0.08666199492290616,9.919248997583054,0.7608114185277373,1.8200125829316676,4.800559711933602,0.8975665776524693,-4.399726308009122,2.246042799204588,-1.9433642795775086,16.337059033859987,2.2271017755265348,-10.020056411856785,-3.081594146322459,7.129085748223588,1.098313333641272,17.9786309475312,-9.858273271238431,3.9054394379490986,-6.887245450750925,4.659397664829157,6.129287137184292,11.426933556329459,-1.9659329942660406,-4.861762256245129,1.921303050359711,-0.041847007581964135,-3.953859204892069,-1.4976760896388441,-8.838516445539426,-1.7361197888385504,2.5531754828989506,-9.130148128781002,-1.5526817396166734,-6.0001638027024455,-2.232390915742144,6.277488471241668,3.570534527534619,-3.038657630328089,-2.3953917322214693,-8.337722007418051,6.216484381584451,6.9888621310237795,8.486318118113559,2.313726005726494,2.8317988992203027,-6.198968393786345,1.3059523582924157,-6.430542726418935,-7.633249816950411,11.841626609209925,-1.2438621658366174,-4.991145709587727,1.1743186339153908,0.6214518431806937,2.2092641605995595,-4.352674539783038,-0.930028679955285,-8.743438197299838,-3.223763498070184,-22.632473390665837,10.224667017580941,-12.165227342629805,4.7945366656640545,-30.374277928378433,-9.459683032415342,-4.71981071785558,-2.4106467879610136,7.782883043575566,-3.0098937800503336,-4.305587103473954,10.907139100832865,0.8166940718656406,3.55259289056994,-5.757834701333195,-2.833549846429378,4.874069906712975,-7.803854167461395,1.9669496531132609,-2.3131920945015736,-0.3586405315436423,3.2273445214377716,-4.673742569226306,-0.2789698234992102,-4.288766767655034,-12.361972798593342,3.0522274721297435,1.9733388894237578,2.8296926456387155,-0.784796558029484,2.689409692189656,-13.112311150180176,-3.855450705625117,6.821135458769277,5.084334644896444,17.263887701672502,-14.846794288780075,0.6109533149865456,-2.1448318921611644,-4.769341579230968,14.077726338524371,-11.591304568690248,-2.976358535932377,20.941806935181376,3.7017273671808653,4.297526666196063,-15.340391722449567,6.632083514239639,3.389584947261028,-0.701744582504034,8.520181497267913],\"yaxis\":\"y\",\"type\":\"scatter\"}],                        {\"template\":{\"data\":{\"histogram2dcontour\":[{\"type\":\"histogram2dcontour\",\"colorbar\":{\"outlinewidth\":0,\"ticks\":\"\"},\"colorscale\":[[0.0,\"#0d0887\"],[0.1111111111111111,\"#46039f\"],[0.2222222222222222,\"#7201a8\"],[0.3333333333333333,\"#9c179e\"],[0.4444444444444444,\"#bd3786\"],[0.5555555555555556,\"#d8576b\"],[0.6666666666666666,\"#ed7953\"],[0.7777777777777778,\"#fb9f3a\"],[0.8888888888888888,\"#fdca26\"],[1.0,\"#f0f921\"]]}],\"choropleth\":[{\"type\":\"choropleth\",\"colorbar\":{\"outlinewidth\":0,\"ticks\":\"\"}}],\"histogram2d\":[{\"type\":\"histogram2d\",\"colorbar\":{\"outlinewidth\":0,\"ticks\":\"\"},\"colorscale\":[[0.0,\"#0d0887\"],[0.1111111111111111,\"#46039f\"],[0.2222222222222222,\"#7201a8\"],[0.3333333333333333,\"#9c179e\"],[0.4444444444444444,\"#bd3786\"],[0.5555555555555556,\"#d8576b\"],[0.6666666666666666,\"#ed7953\"],[0.7777777777777778,\"#fb9f3a\"],[0.8888888888888888,\"#fdca26\"],[1.0,\"#f0f921\"]]}],\"heatmap\":[{\"type\":\"heatmap\",\"colorbar\":{\"outlinewidth\":0,\"ticks\":\"\"},\"colorscale\":[[0.0,\"#0d0887\"],[0.1111111111111111,\"#46039f\"],[0.2222222222222222,\"#7201a8\"],[0.3333333333333333,\"#9c179e\"],[0.4444444444444444,\"#bd3786\"],[0.5555555555555556,\"#d8576b\"],[0.6666666666666666,\"#ed7953\"],[0.7777777777777778,\"#fb9f3a\"],[0.8888888888888888,\"#fdca26\"],[1.0,\"#f0f921\"]]}],\"heatmapgl\":[{\"type\":\"heatmapgl\",\"colorbar\":{\"outlinewidth\":0,\"ticks\":\"\"},\"colorscale\":[[0.0,\"#0d0887\"],[0.1111111111111111,\"#46039f\"],[0.2222222222222222,\"#7201a8\"],[0.3333333333333333,\"#9c179e\"],[0.4444444444444444,\"#bd3786\"],[0.5555555555555556,\"#d8576b\"],[0.6666666666666666,\"#ed7953\"],[0.7777777777777778,\"#fb9f3a\"],[0.8888888888888888,\"#fdca26\"],[1.0,\"#f0f921\"]]}],\"contourcarpet\":[{\"type\":\"contourcarpet\",\"colorbar\":{\"outlinewidth\":0,\"ticks\":\"\"}}],\"contour\":[{\"type\":\"contour\",\"colorbar\":{\"outlinewidth\":0,\"ticks\":\"\"},\"colorscale\":[[0.0,\"#0d0887\"],[0.1111111111111111,\"#46039f\"],[0.2222222222222222,\"#7201a8\"],[0.3333333333333333,\"#9c179e\"],[0.4444444444444444,\"#bd3786\"],[0.5555555555555556,\"#d8576b\"],[0.6666666666666666,\"#ed7953\"],[0.7777777777777778,\"#fb9f3a\"],[0.8888888888888888,\"#fdca26\"],[1.0,\"#f0f921\"]]}],\"surface\":[{\"type\":\"surface\",\"colorbar\":{\"outlinewidth\":0,\"ticks\":\"\"},\"colorscale\":[[0.0,\"#0d0887\"],[0.1111111111111111,\"#46039f\"],[0.2222222222222222,\"#7201a8\"],[0.3333333333333333,\"#9c179e\"],[0.4444444444444444,\"#bd3786\"],[0.5555555555555556,\"#d8576b\"],[0.6666666666666666,\"#ed7953\"],[0.7777777777777778,\"#fb9f3a\"],[0.8888888888888888,\"#fdca26\"],[1.0,\"#f0f921\"]]}],\"mesh3d\":[{\"type\":\"mesh3d\",\"colorbar\":{\"outlinewidth\":0,\"ticks\":\"\"}}],\"scatter\":[{\"fillpattern\":{\"fillmode\":\"overlay\",\"size\":10,\"solidity\":0.2},\"type\":\"scatter\"}],\"parcoords\":[{\"type\":\"parcoords\",\"line\":{\"colorbar\":{\"outlinewidth\":0,\"ticks\":\"\"}}}],\"scatterpolargl\":[{\"type\":\"scatterpolargl\",\"marker\":{\"colorbar\":{\"outlinewidth\":0,\"ticks\":\"\"}}}],\"bar\":[{\"error_x\":{\"color\":\"#2a3f5f\"},\"error_y\":{\"color\":\"#2a3f5f\"},\"marker\":{\"line\":{\"color\":\"#E5ECF6\",\"width\":0.5},\"pattern\":{\"fillmode\":\"overlay\",\"size\":10,\"solidity\":0.2}},\"type\":\"bar\"}],\"scattergeo\":[{\"type\":\"scattergeo\",\"marker\":{\"colorbar\":{\"outlinewidth\":0,\"ticks\":\"\"}}}],\"scatterpolar\":[{\"type\":\"scatterpolar\",\"marker\":{\"colorbar\":{\"outlinewidth\":0,\"ticks\":\"\"}}}],\"histogram\":[{\"marker\":{\"pattern\":{\"fillmode\":\"overlay\",\"size\":10,\"solidity\":0.2}},\"type\":\"histogram\"}],\"scattergl\":[{\"type\":\"scattergl\",\"marker\":{\"colorbar\":{\"outlinewidth\":0,\"ticks\":\"\"}}}],\"scatter3d\":[{\"type\":\"scatter3d\",\"line\":{\"colorbar\":{\"outlinewidth\":0,\"ticks\":\"\"}},\"marker\":{\"colorbar\":{\"outlinewidth\":0,\"ticks\":\"\"}}}],\"scattermapbox\":[{\"type\":\"scattermapbox\",\"marker\":{\"colorbar\":{\"outlinewidth\":0,\"ticks\":\"\"}}}],\"scatterternary\":[{\"type\":\"scatterternary\",\"marker\":{\"colorbar\":{\"outlinewidth\":0,\"ticks\":\"\"}}}],\"scattercarpet\":[{\"type\":\"scattercarpet\",\"marker\":{\"colorbar\":{\"outlinewidth\":0,\"ticks\":\"\"}}}],\"carpet\":[{\"aaxis\":{\"endlinecolor\":\"#2a3f5f\",\"gridcolor\":\"white\",\"linecolor\":\"white\",\"minorgridcolor\":\"white\",\"startlinecolor\":\"#2a3f5f\"},\"baxis\":{\"endlinecolor\":\"#2a3f5f\",\"gridcolor\":\"white\",\"linecolor\":\"white\",\"minorgridcolor\":\"white\",\"startlinecolor\":\"#2a3f5f\"},\"type\":\"carpet\"}],\"table\":[{\"cells\":{\"fill\":{\"color\":\"#EBF0F8\"},\"line\":{\"color\":\"white\"}},\"header\":{\"fill\":{\"color\":\"#C8D4E3\"},\"line\":{\"color\":\"white\"}},\"type\":\"table\"}],\"barpolar\":[{\"marker\":{\"line\":{\"color\":\"#E5ECF6\",\"width\":0.5},\"pattern\":{\"fillmode\":\"overlay\",\"size\":10,\"solidity\":0.2}},\"type\":\"barpolar\"}],\"pie\":[{\"automargin\":true,\"type\":\"pie\"}]},\"layout\":{\"autotypenumbers\":\"strict\",\"colorway\":[\"#636efa\",\"#EF553B\",\"#00cc96\",\"#ab63fa\",\"#FFA15A\",\"#19d3f3\",\"#FF6692\",\"#B6E880\",\"#FF97FF\",\"#FECB52\"],\"font\":{\"color\":\"#2a3f5f\"},\"hovermode\":\"closest\",\"hoverlabel\":{\"align\":\"left\"},\"paper_bgcolor\":\"white\",\"plot_bgcolor\":\"#E5ECF6\",\"polar\":{\"bgcolor\":\"#E5ECF6\",\"angularaxis\":{\"gridcolor\":\"white\",\"linecolor\":\"white\",\"ticks\":\"\"},\"radialaxis\":{\"gridcolor\":\"white\",\"linecolor\":\"white\",\"ticks\":\"\"}},\"ternary\":{\"bgcolor\":\"#E5ECF6\",\"aaxis\":{\"gridcolor\":\"white\",\"linecolor\":\"white\",\"ticks\":\"\"},\"baxis\":{\"gridcolor\":\"white\",\"linecolor\":\"white\",\"ticks\":\"\"},\"caxis\":{\"gridcolor\":\"white\",\"linecolor\":\"white\",\"ticks\":\"\"}},\"coloraxis\":{\"colorbar\":{\"outlinewidth\":0,\"ticks\":\"\"}},\"colorscale\":{\"sequential\":[[0.0,\"#0d0887\"],[0.1111111111111111,\"#46039f\"],[0.2222222222222222,\"#7201a8\"],[0.3333333333333333,\"#9c179e\"],[0.4444444444444444,\"#bd3786\"],[0.5555555555555556,\"#d8576b\"],[0.6666666666666666,\"#ed7953\"],[0.7777777777777778,\"#fb9f3a\"],[0.8888888888888888,\"#fdca26\"],[1.0,\"#f0f921\"]],\"sequentialminus\":[[0.0,\"#0d0887\"],[0.1111111111111111,\"#46039f\"],[0.2222222222222222,\"#7201a8\"],[0.3333333333333333,\"#9c179e\"],[0.4444444444444444,\"#bd3786\"],[0.5555555555555556,\"#d8576b\"],[0.6666666666666666,\"#ed7953\"],[0.7777777777777778,\"#fb9f3a\"],[0.8888888888888888,\"#fdca26\"],[1.0,\"#f0f921\"]],\"diverging\":[[0,\"#8e0152\"],[0.1,\"#c51b7d\"],[0.2,\"#de77ae\"],[0.3,\"#f1b6da\"],[0.4,\"#fde0ef\"],[0.5,\"#f7f7f7\"],[0.6,\"#e6f5d0\"],[0.7,\"#b8e186\"],[0.8,\"#7fbc41\"],[0.9,\"#4d9221\"],[1,\"#276419\"]]},\"xaxis\":{\"gridcolor\":\"white\",\"linecolor\":\"white\",\"ticks\":\"\",\"title\":{\"standoff\":15},\"zerolinecolor\":\"white\",\"automargin\":true,\"zerolinewidth\":2},\"yaxis\":{\"gridcolor\":\"white\",\"linecolor\":\"white\",\"ticks\":\"\",\"title\":{\"standoff\":15},\"zerolinecolor\":\"white\",\"automargin\":true,\"zerolinewidth\":2},\"scene\":{\"xaxis\":{\"backgroundcolor\":\"#E5ECF6\",\"gridcolor\":\"white\",\"linecolor\":\"white\",\"showbackground\":true,\"ticks\":\"\",\"zerolinecolor\":\"white\",\"gridwidth\":2},\"yaxis\":{\"backgroundcolor\":\"#E5ECF6\",\"gridcolor\":\"white\",\"linecolor\":\"white\",\"showbackground\":true,\"ticks\":\"\",\"zerolinecolor\":\"white\",\"gridwidth\":2},\"zaxis\":{\"backgroundcolor\":\"#E5ECF6\",\"gridcolor\":\"white\",\"linecolor\":\"white\",\"showbackground\":true,\"ticks\":\"\",\"zerolinecolor\":\"white\",\"gridwidth\":2}},\"shapedefaults\":{\"line\":{\"color\":\"#2a3f5f\"}},\"annotationdefaults\":{\"arrowcolor\":\"#2a3f5f\",\"arrowhead\":0,\"arrowwidth\":1},\"geo\":{\"bgcolor\":\"white\",\"landcolor\":\"#E5ECF6\",\"subunitcolor\":\"white\",\"showland\":true,\"showlakes\":true,\"lakecolor\":\"white\"},\"title\":{\"x\":0.05},\"mapbox\":{\"style\":\"light\"}}},\"xaxis\":{\"anchor\":\"y\",\"domain\":[0.0,1.0],\"title\":{\"text\":\"x\"}},\"yaxis\":{\"anchor\":\"x\",\"domain\":[0.0,1.0],\"title\":{\"text\":\"y\"}},\"legend\":{\"tracegroupgap\":0},\"margin\":{\"t\":60}},                        {\"responsive\": true}                    ).then(function(){\n",
       "                            \n",
       "var gd = document.getElementById('2dd065fc-79fe-4fd5-8776-315014b0792b');\n",
       "var x = new MutationObserver(function (mutations, observer) {{\n",
       "        var display = window.getComputedStyle(gd).display;\n",
       "        if (!display || display === 'none') {{\n",
       "            console.log([gd, 'removed!']);\n",
       "            Plotly.purge(gd);\n",
       "            observer.disconnect();\n",
       "        }}\n",
       "}});\n",
       "\n",
       "// Listen for the removal of the full notebook cells\n",
       "var notebookContainer = gd.closest('#notebook-container');\n",
       "if (notebookContainer) {{\n",
       "    x.observe(notebookContainer, {childList: true});\n",
       "}}\n",
       "\n",
       "// Listen for the clearing of the current output cell\n",
       "var outputEl = gd.closest('.output');\n",
       "if (outputEl) {{\n",
       "    x.observe(outputEl, {childList: true});\n",
       "}}\n",
       "\n",
       "                        })                };                });            </script>        </div>"
      ]
     },
     "metadata": {},
     "output_type": "display_data"
    }
   ],
   "source": [
    "from plotly import express\n",
    "\n",
    "express.line(y=linreg.predict(X=X_test) - lasso.predict(X=X_test)).show()"
   ]
  },
  {
   "cell_type": "markdown",
   "id": "ce0fa711",
   "metadata": {
    "papermill": {
     "duration": 0.007535,
     "end_time": "2024-05-03T17:43:06.687298",
     "exception": false,
     "start_time": "2024-05-03T17:43:06.679763",
     "status": "completed"
    },
    "tags": []
   },
   "source": [
    "An RMSE of about 0.1671 on our test split corresponds to an RMSE of about 0.2201 for the test data. "
   ]
  }
 ],
 "metadata": {
  "kaggle": {
   "accelerator": "none",
   "dataSources": [
    {
     "databundleVersionId": 868283,
     "sourceId": 5407,
     "sourceType": "competition"
    }
   ],
   "dockerImageVersionId": 30698,
   "isGpuEnabled": false,
   "isInternetEnabled": true,
   "language": "python",
   "sourceType": "notebook"
  },
  "kernelspec": {
   "display_name": "Python 3",
   "language": "python",
   "name": "python3"
  },
  "language_info": {
   "codemirror_mode": {
    "name": "ipython",
    "version": 3
   },
   "file_extension": ".py",
   "mimetype": "text/x-python",
   "name": "python",
   "nbconvert_exporter": "python",
   "pygments_lexer": "ipython3",
   "version": "3.10.13"
  },
  "papermill": {
   "default_parameters": {},
   "duration": 10.403689,
   "end_time": "2024-05-03T17:43:07.416838",
   "environment_variables": {},
   "exception": null,
   "input_path": "__notebook__.ipynb",
   "output_path": "__notebook__.ipynb",
   "parameters": {},
   "start_time": "2024-05-03T17:42:57.013149",
   "version": "2.5.0"
  }
 },
 "nbformat": 4,
 "nbformat_minor": 5
}
