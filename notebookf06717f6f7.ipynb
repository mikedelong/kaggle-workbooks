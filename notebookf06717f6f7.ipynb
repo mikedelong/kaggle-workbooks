{
 "cells": [
  {
   "cell_type": "code",
   "execution_count": 1,
   "id": "3228b9ed",
   "metadata": {
    "_cell_guid": "b1076dfc-b9ad-4769-8c92-a6c4dae69d19",
    "_uuid": "8f2839f25d086af736a60e9eeb907d3b93b6e0e5",
    "execution": {
     "iopub.execute_input": "2024-09-13T18:50:08.127834Z",
     "iopub.status.busy": "2024-09-13T18:50:08.127301Z",
     "iopub.status.idle": "2024-09-13T18:50:14.812049Z",
     "shell.execute_reply": "2024-09-13T18:50:14.811086Z"
    },
    "papermill": {
     "duration": 6.692686,
     "end_time": "2024-09-13T18:50:14.814849",
     "exception": false,
     "start_time": "2024-09-13T18:50:08.122163",
     "status": "completed"
    },
    "tags": []
   },
   "outputs": [
    {
     "name": "stderr",
     "output_type": "stream",
     "text": [
      "Downloading: \"https://download.pytorch.org/models/resnext50_32x4d-1a0047aa.pth\" to /root/.cache/torch/hub/checkpoints/resnext50_32x4d-1a0047aa.pth\n",
      "100%|██████████| 95.8M/95.8M [00:00<00:00, 124MB/s]\n"
     ]
    }
   ],
   "source": [
    "import torch\n",
    "import torchvision.models as models\n",
    "import torchvision.transforms as transforms\n",
    "import numpy as np\n",
    "\n",
    "\n",
    "DEVICE = torch.device('cpu')\n",
    "OUTPUT_SIZE = 2048\n",
    "\n",
    "model = models.resnext50_32x4d(weights=models.ResNeXt50_32X4D_Weights.IMAGENET1K_V2)\n",
    "\n",
    "extraction_layer = model._modules.get('avgpool')\n",
    "model.to(DEVICE)\n",
    "model.eval()\n",
    "\n",
    "scaler = transforms.Resize((224, 224))\n",
    "normalize = transforms.Normalize(mean=[0.485, 0.456, 0.406], std=[0.229, 0.224, 0.225])\n",
    "to_tensor = transforms.ToTensor()\n",
    "\n",
    "def get_vec(arg, model, extraction_layer):\n",
    "    image = normalize(to_tensor(scaler(arg))).unsqueeze(0).to(DEVICE)\n",
    "    result = torch.zeros(1, OUTPUT_SIZE, 1, 1)\n",
    "    def copy_data(m, i, o):\n",
    "        result.copy_(o.data)\n",
    "    hooked = extraction_layer.register_forward_hook(copy_data)\n",
    "    with torch.no_grad():\n",
    "        model(image)\n",
    "    hooked.remove()\n",
    "    return result"
   ]
  },
  {
   "cell_type": "code",
   "execution_count": 2,
   "id": "d6c4fd14",
   "metadata": {
    "execution": {
     "iopub.execute_input": "2024-09-13T18:50:14.823954Z",
     "iopub.status.busy": "2024-09-13T18:50:14.823434Z",
     "iopub.status.idle": "2024-09-13T19:04:21.916640Z",
     "shell.execute_reply": "2024-09-13T19:04:21.915329Z"
    },
    "papermill": {
     "duration": 847.10073,
     "end_time": "2024-09-13T19:04:21.919467",
     "exception": false,
     "start_time": "2024-09-13T18:50:14.818737",
     "status": "completed"
    },
    "tags": []
   },
   "outputs": [
    {
     "name": "stdout",
     "output_type": "stream",
     "text": [
      "encoded 10 rows of capsicum  in 0:00:03.117923\n",
      "encoded 10 rows of sweetcorn  in 0:00:02.127022\n",
      "encoded 7 rows of orange  in 0:00:02.484427\n",
      "encoded 10 rows of tomato  in 0:00:02.497618\n",
      "encoded 10 rows of turnip  in 0:00:01.788443\n",
      "encoded 10 rows of ginger  in 0:00:02.726567\n",
      "encoded 8 rows of raddish  in 0:00:01.390288\n",
      "encoded 10 rows of pomegranate  in 0:00:02.754273\n",
      "encoded 10 rows of pineapple  in 0:00:04.676548\n",
      "encoded 9 rows of jalepeno  in 0:00:02.540864\n",
      "encoded 10 rows of apple  in 0:00:02.993483\n",
      "encoded 8 rows of carrot  in 0:00:01.471079\n",
      "encoded 9 rows of lettuce  in 0:00:02.109611\n",
      "encoded 9 rows of bell pepper  in 0:00:05.736955\n",
      "encoded 10 rows of eggplant  in 0:00:03.103948\n",
      "encoded 10 rows of beetroot  in 0:00:02.568640\n",
      "encoded 10 rows of kiwi  in 0:00:01.784971\n",
      "encoded 10 rows of pear  in 0:00:02.148396\n",
      "encoded 10 rows of cabbage  in 0:00:02.566243\n",
      "encoded 10 rows of cauliflower  in 0:00:02.694458\n",
      "encoded 10 rows of paprika  in 0:00:02.142350\n",
      "encoded 7 rows of lemon  in 0:00:02.404329\n",
      "encoded 10 rows of sweetpotato  in 0:00:02.370884\n",
      "encoded 9 rows of grapes  in 0:00:01.766653\n",
      "encoded 10 rows of cucumber  in 0:00:02.929918\n",
      "encoded 10 rows of corn  in 0:00:03.129650\n",
      "encoded 9 rows of banana  in 0:00:01.501274\n",
      "encoded 10 rows of garlic  in 0:00:02.602961\n",
      "encoded 7 rows of chilli pepper  in 0:00:01.590356\n",
      "encoded 10 rows of watermelon  in 0:00:03.549097\n",
      "encoded 10 rows of mango  in 0:00:02.672919\n",
      "encoded 9 rows of peas  in 0:00:03.971130\n",
      "encoded 9 rows of onion  in 0:00:01.934051\n",
      "encoded 10 rows of potato  in 0:00:01.731918\n",
      "encoded 10 rows of spinach  in 0:00:02.989611\n",
      "encoded 10 rows of soy beans  in 0:00:02.222611\n",
      "0:01:32.883280 loaded test data\n",
      "encoded 10 rows of capsicum  in 0:00:02.837540\n",
      "encoded 10 rows of sweetcorn  in 0:00:02.177455\n",
      "encoded 7 rows of orange  in 0:00:02.539496\n",
      "encoded 10 rows of tomato  in 0:00:02.538291\n",
      "encoded 10 rows of turnip  in 0:00:01.822846\n",
      "encoded 10 rows of ginger  in 0:00:02.840260\n",
      "encoded 8 rows of raddish  in 0:00:01.463619\n",
      "encoded 10 rows of pomegranate  in 0:00:02.702160\n",
      "encoded 10 rows of pineapple  in 0:00:04.782227\n",
      "encoded 9 rows of jalepeno  in 0:00:02.241468\n",
      "encoded 10 rows of apple  in 0:00:03.284117\n",
      "encoded 8 rows of carrot  in 0:00:01.477369\n",
      "encoded 9 rows of lettuce  in 0:00:02.185495\n",
      "encoded 9 rows of bell pepper  in 0:00:05.616821\n",
      "encoded 10 rows of eggplant  in 0:00:03.031715\n",
      "encoded 10 rows of beetroot  in 0:00:02.537176\n",
      "encoded 10 rows of kiwi  in 0:00:01.803060\n",
      "encoded 10 rows of pear  in 0:00:02.173387\n",
      "encoded 10 rows of cabbage  in 0:00:02.477735\n",
      "encoded 10 rows of cauliflower  in 0:00:02.672994\n",
      "encoded 10 rows of paprika  in 0:00:02.123029\n",
      "encoded 7 rows of lemon  in 0:00:02.065182\n",
      "encoded 10 rows of sweetpotato  in 0:00:02.805188\n",
      "encoded 9 rows of grapes  in 0:00:01.836819\n",
      "encoded 10 rows of cucumber  in 0:00:02.966068\n",
      "encoded 10 rows of corn  in 0:00:03.205054\n",
      "encoded 9 rows of banana  in 0:00:01.495394\n",
      "encoded 10 rows of garlic  in 0:00:02.574310\n",
      "encoded 7 rows of chilli pepper  in 0:00:01.645616\n",
      "encoded 10 rows of watermelon  in 0:00:03.597374\n",
      "encoded 10 rows of mango  in 0:00:02.656144\n",
      "encoded 9 rows of peas  in 0:00:03.897003\n",
      "encoded 9 rows of onion  in 0:00:01.932857\n",
      "encoded 10 rows of potato  in 0:00:01.639969\n",
      "encoded 10 rows of spinach  in 0:00:02.813882\n",
      "encoded 10 rows of soy beans  in 0:00:02.544892\n",
      "0:03:05.930013 loaded valid data\n",
      "encoded 85 rows of capsicum  in 0:00:18.408781\n",
      "encoded 86 rows of sweetcorn  in 0:00:18.370878\n",
      "encoded 62 rows of orange  in 0:00:16.321889\n",
      "encoded 84 rows of tomato  in 0:00:18.617309\n",
      "encoded 90 rows of turnip  in 0:00:18.359999\n",
      "encoded 64 rows of ginger  in 0:00:14.356743\n",
      "encoded 72 rows of raddish  in 0:00:12.461459\n",
      "encoded 75 rows of pomegranate  in 0:00:19.232832\n",
      "encoded 85 rows of pineapple  in 0:00:26.306706\n",
      "encoded 80 rows of jalepeno  in 0:00:17.031924\n",
      "encoded 59 rows of apple  in 0:00:15.566248\n",
      "encoded 74 rows of carrot  in 0:00:14.698765\n",
      "encoded 89 rows of lettuce  in 0:00:23.723244\n",
      "encoded 80 rows of bell pepper  in 0:00:21.956277\n",
      "encoded 80 rows of eggplant  in 0:00:18.619295\n",
      "encoded 85 rows of beetroot  in 0:00:19.164495\n",
      "encoded 82 rows of kiwi  in 0:00:16.180921\n",
      "encoded 77 rows of pear  in 0:00:16.635038\n",
      "encoded 89 rows of cabbage  in 0:00:20.535277\n",
      "encoded 74 rows of cauliflower  in 0:00:16.261008\n",
      "encoded 75 rows of paprika  in 0:00:14.949509\n",
      "encoded 65 rows of lemon  in 0:00:14.768412\n",
      "encoded 69 rows of sweetpotato  in 0:00:15.904380\n",
      "encoded 91 rows of grapes  in 0:00:25.749234\n",
      "encoded 84 rows of cucumber  in 0:00:20.642370\n",
      "encoded 85 rows of corn  in 0:00:21.730414\n",
      "encoded 63 rows of banana  in 0:00:14.877718\n",
      "encoded 84 rows of garlic  in 0:00:19.836284\n",
      "encoded 82 rows of chilli pepper  in 0:00:15.895110\n",
      "encoded 80 rows of watermelon  in 0:00:21.432672\n",
      "encoded 79 rows of mango  in 0:00:16.682307\n",
      "encoded 94 rows of peas  in 0:00:23.944974\n",
      "encoded 81 rows of onion  in 0:00:17.086316\n",
      "encoded 68 rows of potato  in 0:00:14.122278\n",
      "encoded 90 rows of spinach  in 0:00:21.583619\n",
      "encoded 93 rows of soy beans  in 0:00:18.325939\n",
      "done in 0:14:06.556431\n"
     ]
    }
   ],
   "source": [
    "import arrow\n",
    "import base64\n",
    "import pandas as pd\n",
    "from glob import iglob\n",
    "from io import BytesIO\n",
    "from os.path import basename\n",
    "from PIL import Image\n",
    "\n",
    "TEST = '/kaggle/input/fruit-and-vegetable-image-recognition/test'\n",
    "THUMBNAIL_SIZE = (128, 128)\n",
    "TRAIN = '/kaggle/input/fruit-and-vegetable-image-recognition/train'\n",
    "VALID = '/kaggle/input/fruit-and-vegetable-image-recognition/validation'\n",
    "\n",
    "\n",
    "def embed(model, filename: str):\n",
    "    with Image.open(fp=filename, mode='r') as image:\n",
    "        return get_vec(arg=image.convert('RGB'), model=model, extraction_layer=extraction_layer).numpy().reshape(OUTPUT_SIZE,)\n",
    "\n",
    "\n",
    "# https://stackoverflow.com/a/952952\n",
    "def flatten(arg):\n",
    "    return [x for xs in arg for x in xs]\n",
    "\n",
    "def png(filename: str) -> str:\n",
    "    with Image.open(fp=filename, mode='r') as image:\n",
    "        buffer = BytesIO()\n",
    "        # our images are pretty big; let's shrink the hover images to thumbnail size\n",
    "        image.resize(size=THUMBNAIL_SIZE).convert('RGB').save(buffer, format='png')\n",
    "        return 'data:image/png;base64,' + base64.b64encode(buffer.getvalue()).decode()\n",
    "\n",
    "def get_picture_from_glob(arg: str, tag: str,) -> list:\n",
    "    time_get = arrow.now()\n",
    "    result = [pd.Series(data=[tag, basename(input_file), embed(model=model, filename=input_file), png(filename=input_file)],\n",
    "                        index=['tag', 'name', 'value', 'png'])\n",
    "        for input_file in iglob(pathname=arg) if input_file.lower().endswith('.jpg')]\n",
    "    print('encoded {} rows of {}  in {}'.format(len(result), tag, arrow.now() - time_get))\n",
    "    return result\n",
    "\n",
    "time_start = arrow.now()\n",
    "test_dict = {basename(folder) : folder + '/*.*' for folder in iglob(TEST + '/*')}\n",
    "valid_dict = {basename(folder) : folder + '/*.*' for folder in iglob(VALID + '/*')}\n",
    "train_dict = {basename(folder) : folder + '/*.*' for folder in iglob(TRAIN + '/*')}\n",
    "test_df = pd.DataFrame(data=flatten(arg=[get_picture_from_glob(arg=value, tag=key) for key, value in test_dict.items()]))\n",
    "print('{} loaded test data'.format(arrow.now() - time_start))\n",
    "valid_df = pd.DataFrame(data=flatten(arg=[get_picture_from_glob(arg=value, tag=key) for key, value in valid_dict.items()]))\n",
    "print('{} loaded valid data'.format(arrow.now() - time_start))\n",
    "train_df = pd.DataFrame(data=flatten(arg=[get_picture_from_glob(arg=value, tag=key) for key, value in train_dict.items()]))\n",
    "print('done in {}'.format(arrow.now() - time_start))"
   ]
  },
  {
   "cell_type": "code",
   "execution_count": 3,
   "id": "8e6a9db2",
   "metadata": {
    "execution": {
     "iopub.execute_input": "2024-09-13T19:04:21.948647Z",
     "iopub.status.busy": "2024-09-13T19:04:21.947495Z",
     "iopub.status.idle": "2024-09-13T19:05:38.133435Z",
     "shell.execute_reply": "2024-09-13T19:05:38.132161Z"
    },
    "papermill": {
     "duration": 76.216387,
     "end_time": "2024-09-13T19:05:38.149273",
     "exception": false,
     "start_time": "2024-09-13T19:04:21.932886",
     "status": "completed"
    },
    "tags": []
   },
   "outputs": [
    {
     "name": "stdout",
     "output_type": "stream",
     "text": [
      "done with UMAP in 0:00:39.212916\n"
     ]
    }
   ],
   "source": [
    "import arrow\n",
    "from umap import UMAP\n",
    "\n",
    "time_start = arrow.now()\n",
    "umap = UMAP(random_state=2024, verbose=False, n_jobs=1, low_memory=False, n_epochs=201)\n",
    "train_df[['x', 'y']] = umap.fit_transform(X=train_df['value'].apply(func=pd.Series))\n",
    "valid_df[['x', 'y']] = umap.transform(X=valid_df['value'].apply(func=pd.Series))\n",
    "test_df[['x', 'y']] = umap.transform(X=test_df['value'].apply(func=pd.Series))\n",
    "print('done with UMAP in {}'.format(arrow.now() - time_start))"
   ]
  }
 ],
 "metadata": {
  "kaggle": {
   "accelerator": "none",
   "dataSources": [
    {
     "datasetId": 952827,
     "sourceId": 3173719,
     "sourceType": "datasetVersion"
    }
   ],
   "dockerImageVersionId": 30761,
   "isGpuEnabled": false,
   "isInternetEnabled": true,
   "language": "python",
   "sourceType": "notebook"
  },
  "kernelspec": {
   "display_name": "Python 3",
   "language": "python",
   "name": "python3"
  },
  "language_info": {
   "codemirror_mode": {
    "name": "ipython",
    "version": 3
   },
   "file_extension": ".py",
   "mimetype": "text/x-python",
   "name": "python",
   "nbconvert_exporter": "python",
   "pygments_lexer": "ipython3",
   "version": "3.10.14"
  },
  "papermill": {
   "default_parameters": {},
   "duration": 935.959516,
   "end_time": "2024-09-13T19:05:41.150667",
   "environment_variables": {},
   "exception": null,
   "input_path": "__notebook__.ipynb",
   "output_path": "__notebook__.ipynb",
   "parameters": {},
   "start_time": "2024-09-13T18:50:05.191151",
   "version": "2.6.0"
  }
 },
 "nbformat": 4,
 "nbformat_minor": 5
}
