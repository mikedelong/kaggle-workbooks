{
 "cells": [
  {
   "cell_type": "code",
   "execution_count": 1,
   "id": "8b2b8bd2",
   "metadata": {
    "execution": {
     "iopub.execute_input": "2023-06-25T23:12:50.999235Z",
     "iopub.status.busy": "2023-06-25T23:12:50.998843Z",
     "iopub.status.idle": "2023-06-25T23:12:51.071292Z",
     "shell.execute_reply": "2023-06-25T23:12:51.069808Z"
    },
    "papermill": {
     "duration": 0.079345,
     "end_time": "2023-06-25T23:12:51.073579",
     "exception": false,
     "start_time": "2023-06-25T23:12:50.994234",
     "status": "completed"
    },
    "tags": []
   },
   "outputs": [
    {
     "data": {
      "text/html": [
       "<div>\n",
       "<style scoped>\n",
       "    .dataframe tbody tr th:only-of-type {\n",
       "        vertical-align: middle;\n",
       "    }\n",
       "\n",
       "    .dataframe tbody tr th {\n",
       "        vertical-align: top;\n",
       "    }\n",
       "\n",
       "    .dataframe thead th {\n",
       "        text-align: right;\n",
       "    }\n",
       "</style>\n",
       "<table border=\"1\" class=\"dataframe\">\n",
       "  <thead>\n",
       "    <tr style=\"text-align: right;\">\n",
       "      <th></th>\n",
       "      <th>Date</th>\n",
       "      <th>Price</th>\n",
       "      <th>Open</th>\n",
       "      <th>High</th>\n",
       "      <th>Low</th>\n",
       "      <th>Vol.</th>\n",
       "      <th>Change %</th>\n",
       "    </tr>\n",
       "  </thead>\n",
       "  <tbody>\n",
       "    <tr>\n",
       "      <th>0</th>\n",
       "      <td>Jun 23</td>\n",
       "      <td>26931.0</td>\n",
       "      <td>27216.4</td>\n",
       "      <td>27410.2</td>\n",
       "      <td>24838.0</td>\n",
       "      <td>1060000.0</td>\n",
       "      <td>-0.0105</td>\n",
       "    </tr>\n",
       "    <tr>\n",
       "      <th>1</th>\n",
       "      <td>May 23</td>\n",
       "      <td>27216.1</td>\n",
       "      <td>29252.1</td>\n",
       "      <td>29816.4</td>\n",
       "      <td>25853.1</td>\n",
       "      <td>1660000.0</td>\n",
       "      <td>-0.0696</td>\n",
       "    </tr>\n",
       "    <tr>\n",
       "      <th>2</th>\n",
       "      <td>Apr 23</td>\n",
       "      <td>29252.1</td>\n",
       "      <td>28473.7</td>\n",
       "      <td>30964.9</td>\n",
       "      <td>27054.3</td>\n",
       "      <td>2030000.0</td>\n",
       "      <td>0.0273</td>\n",
       "    </tr>\n",
       "    <tr>\n",
       "      <th>3</th>\n",
       "      <td>Mar 23</td>\n",
       "      <td>28473.7</td>\n",
       "      <td>23130.6</td>\n",
       "      <td>29160.4</td>\n",
       "      <td>19591.8</td>\n",
       "      <td>10260000.0</td>\n",
       "      <td>0.2310</td>\n",
       "    </tr>\n",
       "    <tr>\n",
       "      <th>4</th>\n",
       "      <td>Feb 23</td>\n",
       "      <td>23130.5</td>\n",
       "      <td>23124.7</td>\n",
       "      <td>25236.8</td>\n",
       "      <td>21418.7</td>\n",
       "      <td>9090000.0</td>\n",
       "      <td>0.0002</td>\n",
       "    </tr>\n",
       "  </tbody>\n",
       "</table>\n",
       "</div>"
      ],
      "text/plain": [
       "     Date    Price     Open     High      Low        Vol.  Change %\n",
       "0  Jun 23  26931.0  27216.4  27410.2  24838.0   1060000.0   -0.0105\n",
       "1  May 23  27216.1  29252.1  29816.4  25853.1   1660000.0   -0.0696\n",
       "2  Apr 23  29252.1  28473.7  30964.9  27054.3   2030000.0    0.0273\n",
       "3  Mar 23  28473.7  23130.6  29160.4  19591.8  10260000.0    0.2310\n",
       "4  Feb 23  23130.5  23124.7  25236.8  21418.7   9090000.0    0.0002"
      ]
     },
     "execution_count": 1,
     "metadata": {},
     "output_type": "execute_result"
    }
   ],
   "source": [
    "import numpy as np # linear algebra\n",
    "import pandas as pd # data processing, CSV file I/O (e.g. pd.read_csv)\n",
    "\n",
    "\n",
    "filename = '../input/bitcoin-historical-data/Bitcoin Historical Data - Investing.com India.csv'\n",
    "usecols = ['Date', 'Price', 'Open', 'High', 'Low', 'Vol.', 'Change %']\n",
    "df = pd.read_csv(filepath_or_buffer=filename, usecols=usecols, thousands=',')\n",
    "column = 'Change %'\n",
    "df[column] = df[column].str.rstrip('%').astype('float') / 100.0\n",
    "column = 'Vol.'\n",
    "df[column] = df[column].apply(lambda x: float(x[:-1]) * {'K': 1e3, 'M': 1e6, 'B': 1e9}[x[-1]])\n",
    "\n",
    "df.head()"
   ]
  },
  {
   "cell_type": "code",
   "execution_count": 2,
   "id": "f8c6c5f1",
   "metadata": {
    "execution": {
     "iopub.execute_input": "2023-06-25T23:12:51.081867Z",
     "iopub.status.busy": "2023-06-25T23:12:51.080223Z",
     "iopub.status.idle": "2023-06-25T23:12:51.106669Z",
     "shell.execute_reply": "2023-06-25T23:12:51.105784Z"
    },
    "papermill": {
     "duration": 0.032329,
     "end_time": "2023-06-25T23:12:51.108633",
     "exception": false,
     "start_time": "2023-06-25T23:12:51.076304",
     "status": "completed"
    },
    "tags": []
   },
   "outputs": [
    {
     "data": {
      "text/html": [
       "<div>\n",
       "<style scoped>\n",
       "    .dataframe tbody tr th:only-of-type {\n",
       "        vertical-align: middle;\n",
       "    }\n",
       "\n",
       "    .dataframe tbody tr th {\n",
       "        vertical-align: top;\n",
       "    }\n",
       "\n",
       "    .dataframe thead th {\n",
       "        text-align: right;\n",
       "    }\n",
       "</style>\n",
       "<table border=\"1\" class=\"dataframe\">\n",
       "  <thead>\n",
       "    <tr style=\"text-align: right;\">\n",
       "      <th></th>\n",
       "      <th>Date</th>\n",
       "      <th>Price</th>\n",
       "      <th>Open</th>\n",
       "      <th>High</th>\n",
       "      <th>Low</th>\n",
       "      <th>Vol.</th>\n",
       "      <th>Change %</th>\n",
       "      <th>date</th>\n",
       "    </tr>\n",
       "  </thead>\n",
       "  <tbody>\n",
       "    <tr>\n",
       "      <th>154</th>\n",
       "      <td>Aug 10</td>\n",
       "      <td>0.1</td>\n",
       "      <td>0.1</td>\n",
       "      <td>0.1</td>\n",
       "      <td>0.0</td>\n",
       "      <td>221740.0</td>\n",
       "      <td>0.0000</td>\n",
       "      <td>2010-08-15</td>\n",
       "    </tr>\n",
       "    <tr>\n",
       "      <th>153</th>\n",
       "      <td>Sep 10</td>\n",
       "      <td>0.1</td>\n",
       "      <td>0.1</td>\n",
       "      <td>0.2</td>\n",
       "      <td>0.1</td>\n",
       "      <td>216810.0</td>\n",
       "      <td>0.0000</td>\n",
       "      <td>2010-09-15</td>\n",
       "    </tr>\n",
       "    <tr>\n",
       "      <th>152</th>\n",
       "      <td>Oct 10</td>\n",
       "      <td>0.2</td>\n",
       "      <td>0.1</td>\n",
       "      <td>0.2</td>\n",
       "      <td>0.0</td>\n",
       "      <td>1110000.0</td>\n",
       "      <td>2.1099</td>\n",
       "      <td>2010-10-15</td>\n",
       "    </tr>\n",
       "    <tr>\n",
       "      <th>151</th>\n",
       "      <td>Nov 10</td>\n",
       "      <td>0.2</td>\n",
       "      <td>0.2</td>\n",
       "      <td>0.5</td>\n",
       "      <td>0.1</td>\n",
       "      <td>826250.0</td>\n",
       "      <td>0.0000</td>\n",
       "      <td>2010-11-15</td>\n",
       "    </tr>\n",
       "    <tr>\n",
       "      <th>150</th>\n",
       "      <td>Dec 10</td>\n",
       "      <td>0.3</td>\n",
       "      <td>0.2</td>\n",
       "      <td>0.3</td>\n",
       "      <td>0.2</td>\n",
       "      <td>263650.0</td>\n",
       "      <td>0.4409</td>\n",
       "      <td>2010-12-15</td>\n",
       "    </tr>\n",
       "  </tbody>\n",
       "</table>\n",
       "</div>"
      ],
      "text/plain": [
       "       Date  Price  Open  High  Low       Vol.  Change %       date\n",
       "154  Aug 10    0.1   0.1   0.1  0.0   221740.0    0.0000 2010-08-15\n",
       "153  Sep 10    0.1   0.1   0.2  0.1   216810.0    0.0000 2010-09-15\n",
       "152  Oct 10    0.2   0.1   0.2  0.0  1110000.0    2.1099 2010-10-15\n",
       "151  Nov 10    0.2   0.2   0.5  0.1   826250.0    0.0000 2010-11-15\n",
       "150  Dec 10    0.3   0.2   0.3  0.2   263650.0    0.4409 2010-12-15"
      ]
     },
     "execution_count": 2,
     "metadata": {},
     "output_type": "execute_result"
    }
   ],
   "source": [
    "# build a map of month abbreviations to month numbers\n",
    "from calendar import month_abbr\n",
    "month_converter = {month: index for index, month in enumerate(month_abbr) if month}\n",
    "\n",
    "# convert the dates to the 15th of each month\n",
    "from datetime import datetime\n",
    "def fix_date(arg:str) -> datetime:\n",
    "    pieces = arg.split()\n",
    "    year = 2000 + int(pieces[1])\n",
    "    month = month_converter[pieces[0]]\n",
    "    day = 15\n",
    "    return datetime(year=year, day=day, month=month)\n",
    "df['date'] = df['Date'].apply(fix_date)\n",
    "\n",
    "df = df.sort_values(by=['date'], ascending=True, )\n",
    "df.head()"
   ]
  },
  {
   "cell_type": "code",
   "execution_count": 3,
   "id": "5008fc02",
   "metadata": {
    "execution": {
     "iopub.execute_input": "2023-06-25T23:12:51.116152Z",
     "iopub.status.busy": "2023-06-25T23:12:51.115260Z",
     "iopub.status.idle": "2023-06-25T23:12:51.122506Z",
     "shell.execute_reply": "2023-06-25T23:12:51.120907Z"
    },
    "papermill": {
     "duration": 0.013885,
     "end_time": "2023-06-25T23:12:51.125291",
     "exception": false,
     "start_time": "2023-06-25T23:12:51.111406",
     "status": "completed"
    },
    "tags": []
   },
   "outputs": [
    {
     "data": {
      "text/plain": [
       "Date                object\n",
       "Price              float64\n",
       "Open               float64\n",
       "High               float64\n",
       "Low                float64\n",
       "Vol.               float64\n",
       "Change %           float64\n",
       "date        datetime64[ns]\n",
       "dtype: object"
      ]
     },
     "execution_count": 3,
     "metadata": {},
     "output_type": "execute_result"
    }
   ],
   "source": [
    "df.dtypes"
   ]
  },
  {
   "cell_type": "code",
   "execution_count": 4,
   "id": "cdb2d9fc",
   "metadata": {
    "execution": {
     "iopub.execute_input": "2023-06-25T23:12:51.132693Z",
     "iopub.status.busy": "2023-06-25T23:12:51.132362Z",
     "iopub.status.idle": "2023-06-25T23:12:51.142656Z",
     "shell.execute_reply": "2023-06-25T23:12:51.140680Z"
    },
    "papermill": {
     "duration": 0.017767,
     "end_time": "2023-06-25T23:12:51.145962",
     "exception": false,
     "start_time": "2023-06-25T23:12:51.128195",
     "status": "completed"
    },
    "tags": []
   },
   "outputs": [
    {
     "data": {
      "text/plain": [
       "Date        0\n",
       "Price       0\n",
       "Open        0\n",
       "High        0\n",
       "Low         0\n",
       "Vol.        0\n",
       "Change %    0\n",
       "date        0\n",
       "dtype: int64"
      ]
     },
     "execution_count": 4,
     "metadata": {},
     "output_type": "execute_result"
    }
   ],
   "source": [
    "df.isna().sum()"
   ]
  },
  {
   "cell_type": "code",
   "execution_count": 5,
   "id": "b63999b5",
   "metadata": {
    "execution": {
     "iopub.execute_input": "2023-06-25T23:12:51.154546Z",
     "iopub.status.busy": "2023-06-25T23:12:51.154094Z",
     "iopub.status.idle": "2023-06-25T23:12:51.713787Z",
     "shell.execute_reply": "2023-06-25T23:12:51.712780Z"
    },
    "papermill": {
     "duration": 0.566089,
     "end_time": "2023-06-25T23:12:51.715750",
     "exception": false,
     "start_time": "2023-06-25T23:12:51.149661",
     "status": "completed"
    },
    "tags": []
   },
   "outputs": [
    {
     "data": {
      "image/png": "[encoded data removed]",
      "text/plain": [
       "<Figure size 640x480 with 1 Axes>"
      ]
     },
     "metadata": {},
     "output_type": "display_data"
    }
   ],
   "source": [
    "# plot the prices\n",
    "%matplotlib inline\n",
    "columns = ['date', 'Price']\n",
    "ax = df[columns].set_index('date').plot()\n",
    "for column in ['Open', 'High', 'Low']:\n",
    "    df[['date', column]].set_index('date').plot(ax=ax)"
   ]
  },
  {
   "cell_type": "code",
   "execution_count": 6,
   "id": "da4de433",
   "metadata": {
    "execution": {
     "iopub.execute_input": "2023-06-25T23:12:51.725483Z",
     "iopub.status.busy": "2023-06-25T23:12:51.725101Z",
     "iopub.status.idle": "2023-06-25T23:12:51.755740Z",
     "shell.execute_reply": "2023-06-25T23:12:51.754824Z"
    },
    "papermill": {
     "duration": 0.038464,
     "end_time": "2023-06-25T23:12:51.757683",
     "exception": false,
     "start_time": "2023-06-25T23:12:51.719219",
     "status": "completed"
    },
    "tags": []
   },
   "outputs": [
    {
     "data": {
      "text/html": [
       "<div>\n",
       "<style scoped>\n",
       "    .dataframe tbody tr th:only-of-type {\n",
       "        vertical-align: middle;\n",
       "    }\n",
       "\n",
       "    .dataframe tbody tr th {\n",
       "        vertical-align: top;\n",
       "    }\n",
       "\n",
       "    .dataframe thead th {\n",
       "        text-align: right;\n",
       "    }\n",
       "</style>\n",
       "<table border=\"1\" class=\"dataframe\">\n",
       "  <thead>\n",
       "    <tr style=\"text-align: right;\">\n",
       "      <th></th>\n",
       "      <th>Price</th>\n",
       "      <th>Open</th>\n",
       "      <th>High</th>\n",
       "      <th>Low</th>\n",
       "      <th>Vol.</th>\n",
       "      <th>Change %</th>\n",
       "    </tr>\n",
       "  </thead>\n",
       "  <tbody>\n",
       "    <tr>\n",
       "      <th>count</th>\n",
       "      <td>155.000000</td>\n",
       "      <td>155.000000</td>\n",
       "      <td>155.000000</td>\n",
       "      <td>155.000000</td>\n",
       "      <td>1.550000e+02</td>\n",
       "      <td>155.000000</td>\n",
       "    </tr>\n",
       "    <tr>\n",
       "      <th>mean</th>\n",
       "      <td>9348.067097</td>\n",
       "      <td>9215.347742</td>\n",
       "      <td>10884.615484</td>\n",
       "      <td>7731.291613</td>\n",
       "      <td>3.986781e+08</td>\n",
       "      <td>0.159246</td>\n",
       "    </tr>\n",
       "    <tr>\n",
       "      <th>std</th>\n",
       "      <td>14591.849682</td>\n",
       "      <td>14555.344121</td>\n",
       "      <td>16996.547305</td>\n",
       "      <td>12094.010391</td>\n",
       "      <td>3.652347e+09</td>\n",
       "      <td>0.573747</td>\n",
       "    </tr>\n",
       "    <tr>\n",
       "      <th>min</th>\n",
       "      <td>0.100000</td>\n",
       "      <td>0.100000</td>\n",
       "      <td>0.100000</td>\n",
       "      <td>0.000000</td>\n",
       "      <td>8.575000e+04</td>\n",
       "      <td>-0.388700</td>\n",
       "    </tr>\n",
       "    <tr>\n",
       "      <th>25%</th>\n",
       "      <td>214.850000</td>\n",
       "      <td>176.550000</td>\n",
       "      <td>247.150000</td>\n",
       "      <td>115.500000</td>\n",
       "      <td>1.225000e+06</td>\n",
       "      <td>-0.080450</td>\n",
       "    </tr>\n",
       "    <tr>\n",
       "      <th>50%</th>\n",
       "      <td>1079.100000</td>\n",
       "      <td>965.500000</td>\n",
       "      <td>1239.900000</td>\n",
       "      <td>771.000000</td>\n",
       "      <td>2.210000e+06</td>\n",
       "      <td>0.028200</td>\n",
       "    </tr>\n",
       "    <tr>\n",
       "      <th>75%</th>\n",
       "      <td>10299.650000</td>\n",
       "      <td>10300.650000</td>\n",
       "      <td>12168.900000</td>\n",
       "      <td>9176.950000</td>\n",
       "      <td>6.580000e+06</td>\n",
       "      <td>0.258450</td>\n",
       "    </tr>\n",
       "    <tr>\n",
       "      <th>max</th>\n",
       "      <td>61309.600000</td>\n",
       "      <td>61310.100000</td>\n",
       "      <td>68990.600000</td>\n",
       "      <td>53448.300000</td>\n",
       "      <td>4.370000e+10</td>\n",
       "      <td>4.709400</td>\n",
       "    </tr>\n",
       "  </tbody>\n",
       "</table>\n",
       "</div>"
      ],
      "text/plain": [
       "              Price          Open          High           Low          Vol.  \\\n",
       "count    155.000000    155.000000    155.000000    155.000000  1.550000e+02   \n",
       "mean    9348.067097   9215.347742  10884.615484   7731.291613  3.986781e+08   \n",
       "std    14591.849682  14555.344121  16996.547305  12094.010391  3.652347e+09   \n",
       "min        0.100000      0.100000      0.100000      0.000000  8.575000e+04   \n",
       "25%      214.850000    176.550000    247.150000    115.500000  1.225000e+06   \n",
       "50%     1079.100000    965.500000   1239.900000    771.000000  2.210000e+06   \n",
       "75%    10299.650000  10300.650000  12168.900000   9176.950000  6.580000e+06   \n",
       "max    61309.600000  61310.100000  68990.600000  53448.300000  4.370000e+10   \n",
       "\n",
       "         Change %  \n",
       "count  155.000000  \n",
       "mean     0.159246  \n",
       "std      0.573747  \n",
       "min     -0.388700  \n",
       "25%     -0.080450  \n",
       "50%      0.028200  \n",
       "75%      0.258450  \n",
       "max      4.709400  "
      ]
     },
     "execution_count": 6,
     "metadata": {},
     "output_type": "execute_result"
    }
   ],
   "source": [
    "df.describe()"
   ]
  },
  {
   "cell_type": "code",
   "execution_count": 7,
   "id": "5892f25b",
   "metadata": {
    "execution": {
     "iopub.execute_input": "2023-06-25T23:12:51.767429Z",
     "iopub.status.busy": "2023-06-25T23:12:51.766557Z",
     "iopub.status.idle": "2023-06-25T23:12:52.238077Z",
     "shell.execute_reply": "2023-06-25T23:12:52.236571Z"
    },
    "papermill": {
     "duration": 0.47964,
     "end_time": "2023-06-25T23:12:52.241109",
     "exception": false,
     "start_time": "2023-06-25T23:12:51.761469",
     "status": "completed"
    },
    "tags": []
   },
   "outputs": [
    {
     "data": {
      "text/plain": [
       "<Axes: xlabel='date'>"
      ]
     },
     "execution_count": 7,
     "metadata": {},
     "output_type": "execute_result"
    },
    {
     "data": {
      "image/png": "[encoded data removed]",
      "text/plain": [
       "<Figure size 640x480 with 1 Axes>"
      ]
     },
     "metadata": {},
     "output_type": "display_data"
    }
   ],
   "source": [
    "from math import log10\n",
    "# finally plot the volume\n",
    "column = 'Vol.'\n",
    "df['log10 volume'] = df[column].apply(log10)\n",
    "column = 'log10 volume'\n",
    "df[['date', column]].set_index('date').plot()"
   ]
  }
 ],
 "metadata": {
  "kernelspec": {
   "display_name": "Python 3",
   "language": "python",
   "name": "python3"
  },
  "language_info": {
   "codemirror_mode": {
    "name": "ipython",
    "version": 3
   },
   "file_extension": ".py",
   "mimetype": "text/x-python",
   "name": "python",
   "nbconvert_exporter": "python",
   "pygments_lexer": "ipython3",
   "version": "3.10.10"
  },
  "papermill": {
   "default_parameters": {},
   "duration": 12.841954,
   "end_time": "2023-06-25T23:12:53.167611",
   "environment_variables": {},
   "exception": null,
   "input_path": "__notebook__.ipynb",
   "output_path": "__notebook__.ipynb",
   "parameters": {},
   "start_time": "2023-06-25T23:12:40.325657",
   "version": "2.4.0"
  }
 },
 "nbformat": 4,
 "nbformat_minor": 5
}
