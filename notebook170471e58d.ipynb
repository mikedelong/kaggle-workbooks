{
 "cells": [
  {
   "cell_type": "code",
   "execution_count": 1,
   "id": "a1e3a3cd",
   "metadata": {
    "_cell_guid": "b1076dfc-b9ad-4769-8c92-a6c4dae69d19",
    "_uuid": "8f2839f25d086af736a60e9eeb907d3b93b6e0e5",
    "execution": {
     "iopub.execute_input": "2024-03-18T16:21:10.242152Z",
     "iopub.status.busy": "2024-03-18T16:21:10.241777Z",
     "iopub.status.idle": "2024-03-18T16:21:24.685193Z",
     "shell.execute_reply": "2024-03-18T16:21:24.683688Z"
    },
    "papermill": {
     "duration": 14.451031,
     "end_time": "2024-03-18T16:21:24.688024",
     "exception": false,
     "start_time": "2024-03-18T16:21:10.236993",
     "status": "completed"
    },
    "tags": []
   },
   "outputs": [
    {
     "name": "stdout",
     "output_type": "stream",
     "text": [
      "pip install img2vec complete\n"
     ]
    }
   ],
   "source": [
    "!pip install --quiet img2vec_pytorch\n",
    "print('pip install img2vec complete')"
   ]
  },
  {
   "cell_type": "code",
   "execution_count": 2,
   "id": "88723683",
   "metadata": {
    "execution": {
     "iopub.execute_input": "2024-03-18T16:21:24.693430Z",
     "iopub.status.busy": "2024-03-18T16:21:24.693041Z",
     "iopub.status.idle": "2024-03-18T16:29:59.774809Z",
     "shell.execute_reply": "2024-03-18T16:29:59.773405Z"
    },
    "papermill": {
     "duration": 515.086731,
     "end_time": "2024-03-18T16:29:59.776811",
     "exception": false,
     "start_time": "2024-03-18T16:21:24.690080",
     "status": "completed"
    },
    "tags": []
   },
   "outputs": [
    {
     "name": "stderr",
     "output_type": "stream",
     "text": [
      "/opt/conda/lib/python3.10/site-packages/torchvision/models/_utils.py:208: UserWarning: The parameter 'pretrained' is deprecated since 0.13 and may be removed in the future, please use 'weights' instead.\n",
      "  warnings.warn(\n",
      "/opt/conda/lib/python3.10/site-packages/torchvision/models/_utils.py:223: UserWarning: Arguments other than a weight enum or `None` for 'weights' are deprecated since 0.13 and may be removed in the future. The current behavior is equivalent to passing `weights=ResNet18_Weights.IMAGENET1K_V1`. You can also use `weights=ResNet18_Weights.DEFAULT` to get the most up-to-date weights.\n",
      "  warnings.warn(msg)\n",
      "Downloading: \"https://download.pytorch.org/models/resnet18-f37072fd.pth\" to /root/.cache/torch/hub/checkpoints/resnet18-f37072fd.pth\n",
      "100%|██████████| 44.7M/44.7M [00:00<00:00, 232MB/s]\n"
     ]
    },
    {
     "name": "stdout",
     "output_type": "stream",
     "text": [
      "encoded Human_Color_Field_Painting data 100 rows in 0:00:10.605307\n",
      "encoded Human_Northern_Renaissance data 100 rows in 0:00:12.189821\n",
      "encoded AI_SD_impressionism data 100 rows in 0:00:07.585511\n",
      "encoded AI_LD_post_impressionism data 100 rows in 0:00:06.277954\n",
      "encoded AI_DiffusionDB_small_2 data 100 rows in 0:00:06.654549\n",
      "encoded AI_LD_art_nouveau data 100 rows in 0:00:06.356632\n",
      "encoded Human_Art_Nouveau_Modern data 100 rows in 0:00:12.017091\n",
      "encoded Human_Synthetic_Cubism data 100 rows in 0:00:12.224073\n",
      "encoded AI_LD_surrealism data 100 rows in 0:00:06.201887\n",
      "encoded AI_LD_ukiyo-e data 100 rows in 0:00:06.126617\n",
      "encoded AI_LD_romanticism data 100 rows in 0:00:06.620633\n",
      "encoded Human_High_Renaissance data 100 rows in 0:00:11.776457\n",
      "encoded Human_Post_Impressionism data 100 rows in 0:00:11.568374\n",
      "encoded AI_LD_baroque data 100 rows in 0:00:06.602787\n",
      "encoded AI_LD_expressionism data 100 rows in 0:00:06.352551\n",
      "encoded AI_SD_post_impressionism data 100 rows in 0:00:07.202981\n",
      "encoded Human_Symbolism data 100 rows in 0:00:12.014709\n",
      "encoded AI_SD_ukiyo-e data 100 rows in 0:00:08.143256\n",
      "encoded AI_LD_renaissance data 100 rows in 0:00:06.409027\n",
      "encoded Human_Baroque data 100 rows in 0:00:11.257061\n",
      "encoded Human_Romanticism data 100 rows in 0:00:11.833091\n",
      "encoded AI_DiffusionDB_small_1 data 100 rows in 0:00:06.178573\n",
      "encoded Human_Pop_Art data 100 rows in 0:00:11.183535\n",
      "encoded Human_Impressionism data 100 rows in 0:00:12.574045\n",
      "encoded Human_Minimalism data 100 rows in 0:00:11.072720\n",
      "encoded Human_Early_Renaissance data 100 rows in 0:00:12.804764\n",
      "encoded Human_Rococo data 100 rows in 0:00:12.020703\n",
      "encoded Human_Naive_Art_Primitivism data 100 rows in 0:00:12.117628\n",
      "encoded AI_SD_renaissance data 100 rows in 0:00:08.111121\n",
      "encoded Human_Fauvism data 100 rows in 0:00:11.949065\n",
      "encoded Human_Expressionism data 100 rows in 0:00:12.090674\n",
      "encoded AI_SD_romanticism data 100 rows in 0:00:07.489611\n",
      "encoded AI_DiffusionDB_large_1 data 100 rows in 0:00:09.924911\n",
      "encoded AI_SD_realism data 100 rows in 0:00:07.703112\n",
      "encoded AI_SD_baroque data 100 rows in 0:00:07.481563\n",
      "encoded Human_Mannerism_Late_Renaissance data 100 rows in 0:00:12.309904\n",
      "encoded AI_DiffusionDB_large_2 data 100 rows in 0:00:09.668951\n",
      "encoded Human_Action_Painting data 98 rows in 0:00:12.258003\n",
      "encoded Human_Abstract_Expressionism data 100 rows in 0:00:11.831563\n",
      "encoded AI_SD_expressionism data 100 rows in 0:00:07.618528\n",
      "encoded AI_LD_realism data 100 rows in 0:00:06.699047\n",
      "encoded AI_SD_art_nouveau data 100 rows in 0:00:08.032372\n",
      "encoded Human_Ukiyo_e data 100 rows in 0:00:13.398334\n",
      "encoded AI_SD_surrealism data 100 rows in 0:00:07.828662\n",
      "encoded Human_New_Realism data 100 rows in 0:00:11.543707\n",
      "encoded AI_DiffusionDB_large_3 data 100 rows in 0:00:10.699576\n",
      "encoded Human_Contemporary_Realism data 100 rows in 0:00:11.117212\n",
      "encoded Human_Pointillism data 100 rows in 0:00:12.346105\n",
      "encoded Human_Realism data 100 rows in 0:00:12.107189\n",
      "encoded Human_Cubism data 100 rows in 0:00:11.033832\n",
      "encoded Human_Analytical_Cubism data 100 rows in 0:00:11.903664\n",
      "encoded AI_LD_impressionism data 100 rows in 0:00:05.938762\n",
      "done in 0:08:26.067871\n"
     ]
    }
   ],
   "source": [
    "import base64\n",
    "import pandas as pd\n",
    "from arrow import now\n",
    "from glob import glob\n",
    "from img2vec_pytorch import Img2Vec\n",
    "from io import BytesIO\n",
    "from os.path import basename\n",
    "from PIL import Image\n",
    "from plotly import express\n",
    "\n",
    "# we're going to use the updated dataset\n",
    "GLOB = '/kaggle/input/ai-artwork/data/'\n",
    "SIZE = 512\n",
    "STOP = 100\n",
    "THUMBNAIL_SIZE = (128, 128)\n",
    "\n",
    "\n",
    "def embed(model, filename: str):\n",
    "    with Image.open(fp=filename, mode='r') as image:\n",
    "        return model.get_vec(image, tensor=True).numpy().reshape(SIZE,)\n",
    "\n",
    "\n",
    "# https://stackoverflow.com/a/952952\n",
    "def flatten(arg):\n",
    "    return [x for xs in arg for x in xs]\n",
    "\n",
    "def png(filename: str) -> str:\n",
    "    with Image.open(fp=filename, mode='r') as image:\n",
    "        buffer = BytesIO()\n",
    "        # our images are pretty big; let's shrink the hover images to thumbnail size\n",
    "        image.resize(size=THUMBNAIL_SIZE).save(buffer, format='png')\n",
    "        return 'data:image/png;base64,' + base64.b64encode(buffer.getvalue()).decode()\n",
    "\n",
    "def get_picture_from_glob(arg: str, tag: str, stop: int) -> list:\n",
    "    time_get = now()\n",
    "    result = [pd.Series(data=[tag, basename(input_file), embed(model=model, filename=input_file), png(filename=input_file), ],\n",
    "                        index=['tag', 'name', 'value', 'image'])\n",
    "        for index, input_file in enumerate(glob(pathname=arg)) if index < stop]\n",
    "    print('encoded {} data {} rows in {}'.format(tag, len(result), now() - time_get))\n",
    "    return result\n",
    "\n",
    "time_start = now()\n",
    "model = Img2Vec(cuda=False, model='resnet-18')\n",
    "data_dict = {basename(folder) : folder + '/*.*' for folder in glob(GLOB + '/*')}\n",
    "df = pd.DataFrame(data=flatten(arg=[get_picture_from_glob(arg=value, tag=key, stop=STOP) for key, value in data_dict.items()]))\n",
    "print('done in {}'.format(now() - time_start))\n"
   ]
  }
 ],
 "metadata": {
  "kaggle": {
   "accelerator": "none",
   "dataSources": [
    {
     "datasetId": 4613351,
     "sourceId": 7871808,
     "sourceType": "datasetVersion"
    }
   ],
   "dockerImageVersionId": 30664,
   "isGpuEnabled": false,
   "isInternetEnabled": true,
   "language": "python",
   "sourceType": "notebook"
  },
  "kernelspec": {
   "display_name": "Python 3",
   "language": "python",
   "name": "python3"
  },
  "language_info": {
   "codemirror_mode": {
    "name": "ipython",
    "version": 3
   },
   "file_extension": ".py",
   "mimetype": "text/x-python",
   "name": "python",
   "nbconvert_exporter": "python",
   "pygments_lexer": "ipython3",
   "version": "3.10.13"
  },
  "papermill": {
   "default_parameters": {},
   "duration": 534.937806,
   "end_time": "2024-03-18T16:30:01.713627",
   "environment_variables": {},
   "exception": null,
   "input_path": "__notebook__.ipynb",
   "output_path": "__notebook__.ipynb",
   "parameters": {},
   "start_time": "2024-03-18T16:21:06.775821",
   "version": "2.5.0"
  }
 },
 "nbformat": 4,
 "nbformat_minor": 5
}
