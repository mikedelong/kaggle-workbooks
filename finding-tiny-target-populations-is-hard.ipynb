{
 "cells": [
  {
   "cell_type": "code",
   "execution_count": 1,
   "id": "6b42608e",
   "metadata": {
    "_cell_guid": "b1076dfc-b9ad-4769-8c92-a6c4dae69d19",
    "_uuid": "8f2839f25d086af736a60e9eeb907d3b93b6e0e5",
    "execution": {
     "iopub.execute_input": "2024-08-03T15:09:46.271347Z",
     "iopub.status.busy": "2024-08-03T15:09:46.270943Z",
     "iopub.status.idle": "2024-08-03T15:09:47.241910Z",
     "shell.execute_reply": "2024-08-03T15:09:47.240678Z"
    },
    "papermill": {
     "duration": 0.980502,
     "end_time": "2024-08-03T15:09:47.244477",
     "exception": false,
     "start_time": "2024-08-03T15:09:46.263975",
     "status": "completed"
    },
    "tags": []
   },
   "outputs": [
    {
     "data": {
      "text/html": [
       "<div>\n",
       "<style scoped>\n",
       "    .dataframe tbody tr th:only-of-type {\n",
       "        vertical-align: middle;\n",
       "    }\n",
       "\n",
       "    .dataframe tbody tr th {\n",
       "        vertical-align: top;\n",
       "    }\n",
       "\n",
       "    .dataframe thead th {\n",
       "        text-align: right;\n",
       "    }\n",
       "</style>\n",
       "<table border=\"1\" class=\"dataframe\">\n",
       "  <thead>\n",
       "    <tr style=\"text-align: right;\">\n",
       "      <th></th>\n",
       "      <th>Type</th>\n",
       "      <th>App Date</th>\n",
       "      <th>Status</th>\n",
       "      <th>FRU Interview Scheduled</th>\n",
       "      <th>Drug Test</th>\n",
       "      <th>WAV Course</th>\n",
       "      <th>Defensive Driving</th>\n",
       "      <th>Driver Exam</th>\n",
       "      <th>Medical Clearance Form</th>\n",
       "      <th>Other Requirements</th>\n",
       "      <th>year</th>\n",
       "    </tr>\n",
       "    <tr>\n",
       "      <th>App No</th>\n",
       "      <th></th>\n",
       "      <th></th>\n",
       "      <th></th>\n",
       "      <th></th>\n",
       "      <th></th>\n",
       "      <th></th>\n",
       "      <th></th>\n",
       "      <th></th>\n",
       "      <th></th>\n",
       "      <th></th>\n",
       "      <th></th>\n",
       "    </tr>\n",
       "  </thead>\n",
       "  <tbody>\n",
       "    <tr>\n",
       "      <th>6078403</th>\n",
       "      <td>HDR</td>\n",
       "      <td>2024-07-16</td>\n",
       "      <td>Incomplete</td>\n",
       "      <td>Not Applicable</td>\n",
       "      <td>Needed</td>\n",
       "      <td>Needed</td>\n",
       "      <td>Needed</td>\n",
       "      <td>Needed</td>\n",
       "      <td>Needed</td>\n",
       "      <td>Fingerprints needed; Copy of DMV license needed</td>\n",
       "      <td>2024</td>\n",
       "    </tr>\n",
       "    <tr>\n",
       "      <th>6077989</th>\n",
       "      <td>HDR</td>\n",
       "      <td>2024-07-09</td>\n",
       "      <td>Incomplete</td>\n",
       "      <td>Not Applicable</td>\n",
       "      <td>Needed</td>\n",
       "      <td>Needed</td>\n",
       "      <td>Complete</td>\n",
       "      <td>Needed</td>\n",
       "      <td>Needed</td>\n",
       "      <td>Fingerprints needed; Copy of DMV license needed</td>\n",
       "      <td>2024</td>\n",
       "    </tr>\n",
       "    <tr>\n",
       "      <th>6074279</th>\n",
       "      <td>HDR</td>\n",
       "      <td>2024-05-09</td>\n",
       "      <td>Incomplete</td>\n",
       "      <td>Not Applicable</td>\n",
       "      <td>Needed</td>\n",
       "      <td>Needed</td>\n",
       "      <td>Complete</td>\n",
       "      <td>Needed</td>\n",
       "      <td>Needed</td>\n",
       "      <td>Fingerprints needed; Copy of DMV license needed</td>\n",
       "      <td>2024</td>\n",
       "    </tr>\n",
       "    <tr>\n",
       "      <th>5735329</th>\n",
       "      <td>HDR</td>\n",
       "      <td>2016-10-17</td>\n",
       "      <td>Incomplete</td>\n",
       "      <td>Not Applicable</td>\n",
       "      <td>Complete</td>\n",
       "      <td>Complete</td>\n",
       "      <td>Complete</td>\n",
       "      <td>Needed</td>\n",
       "      <td>Complete</td>\n",
       "      <td>Copy of DMV license needed</td>\n",
       "      <td>2016</td>\n",
       "    </tr>\n",
       "    <tr>\n",
       "      <th>6077157</th>\n",
       "      <td>HDR</td>\n",
       "      <td>2024-06-24</td>\n",
       "      <td>Incomplete</td>\n",
       "      <td>Not Applicable</td>\n",
       "      <td>Complete</td>\n",
       "      <td>Complete</td>\n",
       "      <td>Complete</td>\n",
       "      <td>Needed</td>\n",
       "      <td>Complete</td>\n",
       "      <td>Not Applicable</td>\n",
       "      <td>2024</td>\n",
       "    </tr>\n",
       "  </tbody>\n",
       "</table>\n",
       "</div>"
      ],
      "text/plain": [
       "        Type   App Date      Status FRU Interview Scheduled Drug Test  \\\n",
       "App No                                                                  \n",
       "6078403  HDR 2024-07-16  Incomplete          Not Applicable    Needed   \n",
       "6077989  HDR 2024-07-09  Incomplete          Not Applicable    Needed   \n",
       "6074279  HDR 2024-05-09  Incomplete          Not Applicable    Needed   \n",
       "5735329  HDR 2016-10-17  Incomplete          Not Applicable  Complete   \n",
       "6077157  HDR 2024-06-24  Incomplete          Not Applicable  Complete   \n",
       "\n",
       "        WAV Course Defensive Driving Driver Exam Medical Clearance Form  \\\n",
       "App No                                                                    \n",
       "6078403     Needed            Needed      Needed                 Needed   \n",
       "6077989     Needed          Complete      Needed                 Needed   \n",
       "6074279     Needed          Complete      Needed                 Needed   \n",
       "5735329   Complete          Complete      Needed               Complete   \n",
       "6077157   Complete          Complete      Needed               Complete   \n",
       "\n",
       "                                      Other Requirements  year  \n",
       "App No                                                          \n",
       "6078403  Fingerprints needed; Copy of DMV license needed  2024  \n",
       "6077989  Fingerprints needed; Copy of DMV license needed  2024  \n",
       "6074279  Fingerprints needed; Copy of DMV license needed  2024  \n",
       "5735329                       Copy of DMV license needed  2016  \n",
       "6077157                                   Not Applicable  2024  "
      ]
     },
     "execution_count": 1,
     "metadata": {},
     "output_type": "execute_result"
    }
   ],
   "source": [
    "import pandas as pd\n",
    "\n",
    "TLC = '/kaggle/input/driver-application-status/TLC_New_Driver_Application_Status.csv'\n",
    "df = pd.read_csv(filepath_or_buffer=TLC, parse_dates=['App Date', ], index_col=['App No']).drop(columns=['Last Updated'])\n",
    "df['year'] = df['App Date'].dt.year\n",
    "df.head()"
   ]
  },
  {
   "cell_type": "code",
   "execution_count": 2,
   "id": "c53b0415",
   "metadata": {
    "execution": {
     "iopub.execute_input": "2024-08-03T15:09:47.257199Z",
     "iopub.status.busy": "2024-08-03T15:09:47.256783Z",
     "iopub.status.idle": "2024-08-03T15:09:47.269990Z",
     "shell.execute_reply": "2024-08-03T15:09:47.269030Z"
    },
    "papermill": {
     "duration": 0.022332,
     "end_time": "2024-08-03T15:09:47.272344",
     "exception": false,
     "start_time": "2024-08-03T15:09:47.250012",
     "status": "completed"
    },
    "tags": []
   },
   "outputs": [
    {
     "data": {
      "text/plain": [
       "{2024: 3481, 2018: 8, 1997: 3, 2017: 2, 2016: 1, 2023: 1}"
      ]
     },
     "execution_count": 2,
     "metadata": {},
     "output_type": "execute_result"
    }
   ],
   "source": [
    "df['year'].value_counts().to_dict()"
   ]
  },
  {
   "cell_type": "markdown",
   "id": "5dbedb69",
   "metadata": {
    "papermill": {
     "duration": 0.005,
     "end_time": "2024-08-03T15:09:47.282999",
     "exception": false,
     "start_time": "2024-08-03T15:09:47.277999",
     "status": "completed"
    },
    "tags": []
   },
   "source": [
    "We have almost no records from any year other than 2024. Maybe the 1997 records are just noice."
   ]
  },
  {
   "cell_type": "code",
   "execution_count": 3,
   "id": "7c667d5d",
   "metadata": {
    "execution": {
     "iopub.execute_input": "2024-08-03T15:09:47.295647Z",
     "iopub.status.busy": "2024-08-03T15:09:47.294683Z",
     "iopub.status.idle": "2024-08-03T15:09:47.311756Z",
     "shell.execute_reply": "2024-08-03T15:09:47.310515Z"
    },
    "papermill": {
     "duration": 0.025877,
     "end_time": "2024-08-03T15:09:47.314202",
     "exception": false,
     "start_time": "2024-08-03T15:09:47.288325",
     "status": "completed"
    },
    "tags": []
   },
   "outputs": [
    {
     "data": {
      "text/html": [
       "<div>\n",
       "<style scoped>\n",
       "    .dataframe tbody tr th:only-of-type {\n",
       "        vertical-align: middle;\n",
       "    }\n",
       "\n",
       "    .dataframe tbody tr th {\n",
       "        vertical-align: top;\n",
       "    }\n",
       "\n",
       "    .dataframe thead th {\n",
       "        text-align: right;\n",
       "    }\n",
       "</style>\n",
       "<table border=\"1\" class=\"dataframe\">\n",
       "  <thead>\n",
       "    <tr style=\"text-align: right;\">\n",
       "      <th></th>\n",
       "      <th>Type</th>\n",
       "      <th>App Date</th>\n",
       "      <th>Status</th>\n",
       "      <th>FRU Interview Scheduled</th>\n",
       "      <th>Drug Test</th>\n",
       "      <th>WAV Course</th>\n",
       "      <th>Defensive Driving</th>\n",
       "      <th>Driver Exam</th>\n",
       "      <th>Medical Clearance Form</th>\n",
       "      <th>Other Requirements</th>\n",
       "      <th>year</th>\n",
       "    </tr>\n",
       "    <tr>\n",
       "      <th>App No</th>\n",
       "      <th></th>\n",
       "      <th></th>\n",
       "      <th></th>\n",
       "      <th></th>\n",
       "      <th></th>\n",
       "      <th></th>\n",
       "      <th></th>\n",
       "      <th></th>\n",
       "      <th></th>\n",
       "      <th></th>\n",
       "      <th></th>\n",
       "    </tr>\n",
       "  </thead>\n",
       "  <tbody>\n",
       "    <tr>\n",
       "      <th>5921774</th>\n",
       "      <td>PDR</td>\n",
       "      <td>1997-04-28</td>\n",
       "      <td>Incomplete</td>\n",
       "      <td>Not Applicable</td>\n",
       "      <td>Not Applicable</td>\n",
       "      <td>Not Applicable</td>\n",
       "      <td>Not Applicable</td>\n",
       "      <td>Not Applicable</td>\n",
       "      <td>Not Applicable</td>\n",
       "      <td>Fingerprints &amp; other items needed. Visit www.n...</td>\n",
       "      <td>1997</td>\n",
       "    </tr>\n",
       "    <tr>\n",
       "      <th>5921772</th>\n",
       "      <td>PDR</td>\n",
       "      <td>1997-04-28</td>\n",
       "      <td>Incomplete</td>\n",
       "      <td>Not Applicable</td>\n",
       "      <td>Not Applicable</td>\n",
       "      <td>Not Applicable</td>\n",
       "      <td>Not Applicable</td>\n",
       "      <td>Not Applicable</td>\n",
       "      <td>Not Applicable</td>\n",
       "      <td>Fingerprints &amp; other items needed. Visit www.n...</td>\n",
       "      <td>1997</td>\n",
       "    </tr>\n",
       "    <tr>\n",
       "      <th>5921773</th>\n",
       "      <td>PDR</td>\n",
       "      <td>1997-04-28</td>\n",
       "      <td>Incomplete</td>\n",
       "      <td>Not Applicable</td>\n",
       "      <td>Not Applicable</td>\n",
       "      <td>Not Applicable</td>\n",
       "      <td>Not Applicable</td>\n",
       "      <td>Not Applicable</td>\n",
       "      <td>Not Applicable</td>\n",
       "      <td>Fingerprints &amp; other items needed. Visit www.n...</td>\n",
       "      <td>1997</td>\n",
       "    </tr>\n",
       "  </tbody>\n",
       "</table>\n",
       "</div>"
      ],
      "text/plain": [
       "        Type   App Date      Status FRU Interview Scheduled       Drug Test  \\\n",
       "App No                                                                        \n",
       "5921774  PDR 1997-04-28  Incomplete          Not Applicable  Not Applicable   \n",
       "5921772  PDR 1997-04-28  Incomplete          Not Applicable  Not Applicable   \n",
       "5921773  PDR 1997-04-28  Incomplete          Not Applicable  Not Applicable   \n",
       "\n",
       "             WAV Course Defensive Driving     Driver Exam  \\\n",
       "App No                                                      \n",
       "5921774  Not Applicable    Not Applicable  Not Applicable   \n",
       "5921772  Not Applicable    Not Applicable  Not Applicable   \n",
       "5921773  Not Applicable    Not Applicable  Not Applicable   \n",
       "\n",
       "        Medical Clearance Form  \\\n",
       "App No                           \n",
       "5921774         Not Applicable   \n",
       "5921772         Not Applicable   \n",
       "5921773         Not Applicable   \n",
       "\n",
       "                                        Other Requirements  year  \n",
       "App No                                                            \n",
       "5921774  Fingerprints & other items needed. Visit www.n...  1997  \n",
       "5921772  Fingerprints & other items needed. Visit www.n...  1997  \n",
       "5921773  Fingerprints & other items needed. Visit www.n...  1997  "
      ]
     },
     "execution_count": 3,
     "metadata": {},
     "output_type": "execute_result"
    }
   ],
   "source": [
    "df[df['year'] == 1997]"
   ]
  },
  {
   "cell_type": "code",
   "execution_count": 4,
   "id": "101665c9",
   "metadata": {
    "execution": {
     "iopub.execute_input": "2024-08-03T15:09:47.326731Z",
     "iopub.status.busy": "2024-08-03T15:09:47.326368Z",
     "iopub.status.idle": "2024-08-03T15:09:47.344962Z",
     "shell.execute_reply": "2024-08-03T15:09:47.343676Z"
    },
    "papermill": {
     "duration": 0.027756,
     "end_time": "2024-08-03T15:09:47.347531",
     "exception": false,
     "start_time": "2024-08-03T15:09:47.319775",
     "status": "completed"
    },
    "tags": []
   },
   "outputs": [
    {
     "name": "stdout",
     "output_type": "stream",
     "text": [
      "<class 'pandas.core.frame.DataFrame'>\n",
      "Index: 3496 entries, 6078403 to 6078293\n",
      "Data columns (total 11 columns):\n",
      " #   Column                   Non-Null Count  Dtype         \n",
      "---  ------                   --------------  -----         \n",
      " 0   Type                     3496 non-null   object        \n",
      " 1   App Date                 3496 non-null   datetime64[ns]\n",
      " 2   Status                   3496 non-null   object        \n",
      " 3   FRU Interview Scheduled  3496 non-null   object        \n",
      " 4   Drug Test                3496 non-null   object        \n",
      " 5   WAV Course               3496 non-null   object        \n",
      " 6   Defensive Driving        3496 non-null   object        \n",
      " 7   Driver Exam              3496 non-null   object        \n",
      " 8   Medical Clearance Form   3496 non-null   object        \n",
      " 9   Other Requirements       3496 non-null   object        \n",
      " 10  year                     3496 non-null   int32         \n",
      "dtypes: datetime64[ns](1), int32(1), object(9)\n",
      "memory usage: 314.1+ KB\n"
     ]
    }
   ],
   "source": [
    "df.info()"
   ]
  },
  {
   "cell_type": "code",
   "execution_count": 5,
   "id": "6afb3fdf",
   "metadata": {
    "execution": {
     "iopub.execute_input": "2024-08-03T15:09:47.360479Z",
     "iopub.status.busy": "2024-08-03T15:09:47.360072Z",
     "iopub.status.idle": "2024-08-03T15:09:47.372266Z",
     "shell.execute_reply": "2024-08-03T15:09:47.371242Z"
    },
    "papermill": {
     "duration": 0.021176,
     "end_time": "2024-08-03T15:09:47.374503",
     "exception": false,
     "start_time": "2024-08-03T15:09:47.353327",
     "status": "completed"
    },
    "tags": []
   },
   "outputs": [
    {
     "data": {
      "text/plain": [
       "Type                         3\n",
       "App Date                   135\n",
       "Status                       5\n",
       "FRU Interview Scheduled     27\n",
       "Drug Test                    3\n",
       "WAV Course                   3\n",
       "Defensive Driving            3\n",
       "Driver Exam                  3\n",
       "Medical Clearance Form       3\n",
       "Other Requirements           8\n",
       "year                         6\n",
       "dtype: int64"
      ]
     },
     "execution_count": 5,
     "metadata": {},
     "output_type": "execute_result"
    }
   ],
   "source": [
    "df.nunique()"
   ]
  },
  {
   "cell_type": "markdown",
   "id": "fb616817",
   "metadata": {
    "papermill": {
     "duration": 0.005372,
     "end_time": "2024-08-03T15:09:47.385592",
     "exception": false,
     "start_time": "2024-08-03T15:09:47.380220",
     "status": "completed"
    },
    "tags": []
   },
   "source": [
    "I like pie charts so I'm going to make a pie chart."
   ]
  },
  {
   "cell_type": "code",
   "execution_count": 6,
   "id": "4e865143",
   "metadata": {
    "execution": {
     "iopub.execute_input": "2024-08-03T15:09:47.398711Z",
     "iopub.status.busy": "2024-08-03T15:09:47.398292Z",
     "iopub.status.idle": "2024-08-03T15:09:49.877379Z",
     "shell.execute_reply": "2024-08-03T15:09:49.876332Z"
    },
    "papermill": {
     "duration": 2.488428,
     "end_time": "2024-08-03T15:09:49.879766",
     "exception": false,
     "start_time": "2024-08-03T15:09:47.391338",
     "status": "completed"
    },
    "tags": []
   },
   "outputs": [
    {
     "data": {
      "text/html": [
       "        <script type=\"text/javascript\">\n",
       "        window.PlotlyConfig = {MathJaxConfig: 'local'};\n",
       "        if (window.MathJax && window.MathJax.Hub && window.MathJax.Hub.Config) {window.MathJax.Hub.Config({SVG: {font: \"STIX-Web\"}});}\n",
       "        if (typeof require !== 'undefined') {\n",
       "        require.undef(\"plotly\");\n",
       "        requirejs.config({\n",
       "            paths: {\n",
       "                'plotly': ['https://cdn.plot.ly/plotly-2.27.0.min']\n",
       "            }\n",
       "        });\n",
       "        require(['plotly'], function(Plotly) {\n",
       "            window._Plotly = Plotly;\n",
       "        });\n",
       "        }\n",
       "        </script>\n",
       "        "
      ]
     },
     "metadata": {},
     "output_type": "display_data"
    },
    {
     "data": {
      "text/html": [
       "<div>                            <div id=\"91c9dabb-c969-44ea-931a-265d6120b14f\" class=\"plotly-graph-div\" style=\"height:525px; width:100%;\"></div>            <script type=\"text/javascript\">                require([\"plotly\"], function(Plotly) {                    window.PLOTLYENV=window.PLOTLYENV || {};                                    if (document.getElementById(\"91c9dabb-c969-44ea-931a-265d6120b14f\")) {                    Plotly.newPlot(                        \"91c9dabb-c969-44ea-931a-265d6120b14f\",                        [{\"customdata\":[[2727],[526],[167],[54],[22]],\"domain\":{\"x\":[0.0,1.0],\"y\":[0.0,1.0]},\"hovertemplate\":\"Status=%{label}\\u003cbr\\u003ecount=%{customdata[0]}\\u003cextra\\u003e\\u003c\\u002fextra\\u003e\",\"labels\":[\"Incomplete\",\"Approved - License Issued\",\"Denied\",\"Under Review\",\"Pending Fitness Interview\"],\"legendgroup\":\"\",\"marker\":{\"colors\":[\"#636efa\",\"#EF553B\",\"#00cc96\",\"#ab63fa\",\"#FFA15A\"]},\"name\":\"\",\"showlegend\":true,\"values\":[2727,526,167,54,22],\"type\":\"pie\"}],                        {\"template\":{\"data\":{\"histogram2dcontour\":[{\"type\":\"histogram2dcontour\",\"colorbar\":{\"outlinewidth\":0,\"ticks\":\"\"},\"colorscale\":[[0.0,\"#0d0887\"],[0.1111111111111111,\"#46039f\"],[0.2222222222222222,\"#7201a8\"],[0.3333333333333333,\"#9c179e\"],[0.4444444444444444,\"#bd3786\"],[0.5555555555555556,\"#d8576b\"],[0.6666666666666666,\"#ed7953\"],[0.7777777777777778,\"#fb9f3a\"],[0.8888888888888888,\"#fdca26\"],[1.0,\"#f0f921\"]]}],\"choropleth\":[{\"type\":\"choropleth\",\"colorbar\":{\"outlinewidth\":0,\"ticks\":\"\"}}],\"histogram2d\":[{\"type\":\"histogram2d\",\"colorbar\":{\"outlinewidth\":0,\"ticks\":\"\"},\"colorscale\":[[0.0,\"#0d0887\"],[0.1111111111111111,\"#46039f\"],[0.2222222222222222,\"#7201a8\"],[0.3333333333333333,\"#9c179e\"],[0.4444444444444444,\"#bd3786\"],[0.5555555555555556,\"#d8576b\"],[0.6666666666666666,\"#ed7953\"],[0.7777777777777778,\"#fb9f3a\"],[0.8888888888888888,\"#fdca26\"],[1.0,\"#f0f921\"]]}],\"heatmap\":[{\"type\":\"heatmap\",\"colorbar\":{\"outlinewidth\":0,\"ticks\":\"\"},\"colorscale\":[[0.0,\"#0d0887\"],[0.1111111111111111,\"#46039f\"],[0.2222222222222222,\"#7201a8\"],[0.3333333333333333,\"#9c179e\"],[0.4444444444444444,\"#bd3786\"],[0.5555555555555556,\"#d8576b\"],[0.6666666666666666,\"#ed7953\"],[0.7777777777777778,\"#fb9f3a\"],[0.8888888888888888,\"#fdca26\"],[1.0,\"#f0f921\"]]}],\"heatmapgl\":[{\"type\":\"heatmapgl\",\"colorbar\":{\"outlinewidth\":0,\"ticks\":\"\"},\"colorscale\":[[0.0,\"#0d0887\"],[0.1111111111111111,\"#46039f\"],[0.2222222222222222,\"#7201a8\"],[0.3333333333333333,\"#9c179e\"],[0.4444444444444444,\"#bd3786\"],[0.5555555555555556,\"#d8576b\"],[0.6666666666666666,\"#ed7953\"],[0.7777777777777778,\"#fb9f3a\"],[0.8888888888888888,\"#fdca26\"],[1.0,\"#f0f921\"]]}],\"contourcarpet\":[{\"type\":\"contourcarpet\",\"colorbar\":{\"outlinewidth\":0,\"ticks\":\"\"}}],\"contour\":[{\"type\":\"contour\",\"colorbar\":{\"outlinewidth\":0,\"ticks\":\"\"},\"colorscale\":[[0.0,\"#0d0887\"],[0.1111111111111111,\"#46039f\"],[0.2222222222222222,\"#7201a8\"],[0.3333333333333333,\"#9c179e\"],[0.4444444444444444,\"#bd3786\"],[0.5555555555555556,\"#d8576b\"],[0.6666666666666666,\"#ed7953\"],[0.7777777777777778,\"#fb9f3a\"],[0.8888888888888888,\"#fdca26\"],[1.0,\"#f0f921\"]]}],\"surface\":[{\"type\":\"surface\",\"colorbar\":{\"outlinewidth\":0,\"ticks\":\"\"},\"colorscale\":[[0.0,\"#0d0887\"],[0.1111111111111111,\"#46039f\"],[0.2222222222222222,\"#7201a8\"],[0.3333333333333333,\"#9c179e\"],[0.4444444444444444,\"#bd3786\"],[0.5555555555555556,\"#d8576b\"],[0.6666666666666666,\"#ed7953\"],[0.7777777777777778,\"#fb9f3a\"],[0.8888888888888888,\"#fdca26\"],[1.0,\"#f0f921\"]]}],\"mesh3d\":[{\"type\":\"mesh3d\",\"colorbar\":{\"outlinewidth\":0,\"ticks\":\"\"}}],\"scatter\":[{\"fillpattern\":{\"fillmode\":\"overlay\",\"size\":10,\"solidity\":0.2},\"type\":\"scatter\"}],\"parcoords\":[{\"type\":\"parcoords\",\"line\":{\"colorbar\":{\"outlinewidth\":0,\"ticks\":\"\"}}}],\"scatterpolargl\":[{\"type\":\"scatterpolargl\",\"marker\":{\"colorbar\":{\"outlinewidth\":0,\"ticks\":\"\"}}}],\"bar\":[{\"error_x\":{\"color\":\"#2a3f5f\"},\"error_y\":{\"color\":\"#2a3f5f\"},\"marker\":{\"line\":{\"color\":\"#E5ECF6\",\"width\":0.5},\"pattern\":{\"fillmode\":\"overlay\",\"size\":10,\"solidity\":0.2}},\"type\":\"bar\"}],\"scattergeo\":[{\"type\":\"scattergeo\",\"marker\":{\"colorbar\":{\"outlinewidth\":0,\"ticks\":\"\"}}}],\"scatterpolar\":[{\"type\":\"scatterpolar\",\"marker\":{\"colorbar\":{\"outlinewidth\":0,\"ticks\":\"\"}}}],\"histogram\":[{\"marker\":{\"pattern\":{\"fillmode\":\"overlay\",\"size\":10,\"solidity\":0.2}},\"type\":\"histogram\"}],\"scattergl\":[{\"type\":\"scattergl\",\"marker\":{\"colorbar\":{\"outlinewidth\":0,\"ticks\":\"\"}}}],\"scatter3d\":[{\"type\":\"scatter3d\",\"line\":{\"colorbar\":{\"outlinewidth\":0,\"ticks\":\"\"}},\"marker\":{\"colorbar\":{\"outlinewidth\":0,\"ticks\":\"\"}}}],\"scattermapbox\":[{\"type\":\"scattermapbox\",\"marker\":{\"colorbar\":{\"outlinewidth\":0,\"ticks\":\"\"}}}],\"scatterternary\":[{\"type\":\"scatterternary\",\"marker\":{\"colorbar\":{\"outlinewidth\":0,\"ticks\":\"\"}}}],\"scattercarpet\":[{\"type\":\"scattercarpet\",\"marker\":{\"colorbar\":{\"outlinewidth\":0,\"ticks\":\"\"}}}],\"carpet\":[{\"aaxis\":{\"endlinecolor\":\"#2a3f5f\",\"gridcolor\":\"white\",\"linecolor\":\"white\",\"minorgridcolor\":\"white\",\"startlinecolor\":\"#2a3f5f\"},\"baxis\":{\"endlinecolor\":\"#2a3f5f\",\"gridcolor\":\"white\",\"linecolor\":\"white\",\"minorgridcolor\":\"white\",\"startlinecolor\":\"#2a3f5f\"},\"type\":\"carpet\"}],\"table\":[{\"cells\":{\"fill\":{\"color\":\"#EBF0F8\"},\"line\":{\"color\":\"white\"}},\"header\":{\"fill\":{\"color\":\"#C8D4E3\"},\"line\":{\"color\":\"white\"}},\"type\":\"table\"}],\"barpolar\":[{\"marker\":{\"line\":{\"color\":\"#E5ECF6\",\"width\":0.5},\"pattern\":{\"fillmode\":\"overlay\",\"size\":10,\"solidity\":0.2}},\"type\":\"barpolar\"}],\"pie\":[{\"automargin\":true,\"type\":\"pie\"}]},\"layout\":{\"autotypenumbers\":\"strict\",\"colorway\":[\"#636efa\",\"#EF553B\",\"#00cc96\",\"#ab63fa\",\"#FFA15A\",\"#19d3f3\",\"#FF6692\",\"#B6E880\",\"#FF97FF\",\"#FECB52\"],\"font\":{\"color\":\"#2a3f5f\"},\"hovermode\":\"closest\",\"hoverlabel\":{\"align\":\"left\"},\"paper_bgcolor\":\"white\",\"plot_bgcolor\":\"#E5ECF6\",\"polar\":{\"bgcolor\":\"#E5ECF6\",\"angularaxis\":{\"gridcolor\":\"white\",\"linecolor\":\"white\",\"ticks\":\"\"},\"radialaxis\":{\"gridcolor\":\"white\",\"linecolor\":\"white\",\"ticks\":\"\"}},\"ternary\":{\"bgcolor\":\"#E5ECF6\",\"aaxis\":{\"gridcolor\":\"white\",\"linecolor\":\"white\",\"ticks\":\"\"},\"baxis\":{\"gridcolor\":\"white\",\"linecolor\":\"white\",\"ticks\":\"\"},\"caxis\":{\"gridcolor\":\"white\",\"linecolor\":\"white\",\"ticks\":\"\"}},\"coloraxis\":{\"colorbar\":{\"outlinewidth\":0,\"ticks\":\"\"}},\"colorscale\":{\"sequential\":[[0.0,\"#0d0887\"],[0.1111111111111111,\"#46039f\"],[0.2222222222222222,\"#7201a8\"],[0.3333333333333333,\"#9c179e\"],[0.4444444444444444,\"#bd3786\"],[0.5555555555555556,\"#d8576b\"],[0.6666666666666666,\"#ed7953\"],[0.7777777777777778,\"#fb9f3a\"],[0.8888888888888888,\"#fdca26\"],[1.0,\"#f0f921\"]],\"sequentialminus\":[[0.0,\"#0d0887\"],[0.1111111111111111,\"#46039f\"],[0.2222222222222222,\"#7201a8\"],[0.3333333333333333,\"#9c179e\"],[0.4444444444444444,\"#bd3786\"],[0.5555555555555556,\"#d8576b\"],[0.6666666666666666,\"#ed7953\"],[0.7777777777777778,\"#fb9f3a\"],[0.8888888888888888,\"#fdca26\"],[1.0,\"#f0f921\"]],\"diverging\":[[0,\"#8e0152\"],[0.1,\"#c51b7d\"],[0.2,\"#de77ae\"],[0.3,\"#f1b6da\"],[0.4,\"#fde0ef\"],[0.5,\"#f7f7f7\"],[0.6,\"#e6f5d0\"],[0.7,\"#b8e186\"],[0.8,\"#7fbc41\"],[0.9,\"#4d9221\"],[1,\"#276419\"]]},\"xaxis\":{\"gridcolor\":\"white\",\"linecolor\":\"white\",\"ticks\":\"\",\"title\":{\"standoff\":15},\"zerolinecolor\":\"white\",\"automargin\":true,\"zerolinewidth\":2},\"yaxis\":{\"gridcolor\":\"white\",\"linecolor\":\"white\",\"ticks\":\"\",\"title\":{\"standoff\":15},\"zerolinecolor\":\"white\",\"automargin\":true,\"zerolinewidth\":2},\"scene\":{\"xaxis\":{\"backgroundcolor\":\"#E5ECF6\",\"gridcolor\":\"white\",\"linecolor\":\"white\",\"showbackground\":true,\"ticks\":\"\",\"zerolinecolor\":\"white\",\"gridwidth\":2},\"yaxis\":{\"backgroundcolor\":\"#E5ECF6\",\"gridcolor\":\"white\",\"linecolor\":\"white\",\"showbackground\":true,\"ticks\":\"\",\"zerolinecolor\":\"white\",\"gridwidth\":2},\"zaxis\":{\"backgroundcolor\":\"#E5ECF6\",\"gridcolor\":\"white\",\"linecolor\":\"white\",\"showbackground\":true,\"ticks\":\"\",\"zerolinecolor\":\"white\",\"gridwidth\":2}},\"shapedefaults\":{\"line\":{\"color\":\"#2a3f5f\"}},\"annotationdefaults\":{\"arrowcolor\":\"#2a3f5f\",\"arrowhead\":0,\"arrowwidth\":1},\"geo\":{\"bgcolor\":\"white\",\"landcolor\":\"#E5ECF6\",\"subunitcolor\":\"white\",\"showland\":true,\"showlakes\":true,\"lakecolor\":\"white\"},\"title\":{\"x\":0.05},\"mapbox\":{\"style\":\"light\"}}},\"legend\":{\"tracegroupgap\":0},\"margin\":{\"t\":60}},                        {\"responsive\": true}                    ).then(function(){\n",
       "                            \n",
       "var gd = document.getElementById('91c9dabb-c969-44ea-931a-265d6120b14f');\n",
       "var x = new MutationObserver(function (mutations, observer) {{\n",
       "        var display = window.getComputedStyle(gd).display;\n",
       "        if (!display || display === 'none') {{\n",
       "            console.log([gd, 'removed!']);\n",
       "            Plotly.purge(gd);\n",
       "            observer.disconnect();\n",
       "        }}\n",
       "}});\n",
       "\n",
       "// Listen for the removal of the full notebook cells\n",
       "var notebookContainer = gd.closest('#notebook-container');\n",
       "if (notebookContainer) {{\n",
       "    x.observe(notebookContainer, {childList: true});\n",
       "}}\n",
       "\n",
       "// Listen for the clearing of the current output cell\n",
       "var outputEl = gd.closest('.output');\n",
       "if (outputEl) {{\n",
       "    x.observe(outputEl, {childList: true});\n",
       "}}\n",
       "\n",
       "                        })                };                });            </script>        </div>"
      ]
     },
     "metadata": {},
     "output_type": "display_data"
    }
   ],
   "source": [
    "import warnings\n",
    "from plotly import express\n",
    "\n",
    "warnings.filterwarnings(action='ignore', category=FutureWarning)\n",
    "express.pie(data_frame=df['Status'].value_counts().to_frame().reset_index(), names='Status', values='count', color='count')"
   ]
  },
  {
   "cell_type": "markdown",
   "id": "6f30b080",
   "metadata": {
    "papermill": {
     "duration": 0.005878,
     "end_time": "2024-08-03T15:09:49.891868",
     "exception": false,
     "start_time": "2024-08-03T15:09:49.885990",
     "status": "completed"
    },
    "tags": []
   },
   "source": [
    "If we are going to choose the status as our target class we're going to have to deal with the fact that the status class is unbalanced, really only having two classes: complete and incomplete."
   ]
  },
  {
   "cell_type": "code",
   "execution_count": 7,
   "id": "e63c427b",
   "metadata": {
    "execution": {
     "iopub.execute_input": "2024-08-03T15:09:49.905465Z",
     "iopub.status.busy": "2024-08-03T15:09:49.905064Z",
     "iopub.status.idle": "2024-08-03T15:09:49.912857Z",
     "shell.execute_reply": "2024-08-03T15:09:49.911843Z"
    },
    "papermill": {
     "duration": 0.017024,
     "end_time": "2024-08-03T15:09:49.914952",
     "exception": false,
     "start_time": "2024-08-03T15:09:49.897928",
     "status": "completed"
    },
    "tags": []
   },
   "outputs": [
    {
     "data": {
      "text/plain": [
       "{'HDR': 3483, 'PDR': 11, 'VDR': 2}"
      ]
     },
     "execution_count": 7,
     "metadata": {},
     "output_type": "execute_result"
    }
   ],
   "source": [
    "df['Type'].value_counts().to_dict()"
   ]
  },
  {
   "cell_type": "markdown",
   "id": "783a2152",
   "metadata": {
    "papermill": {
     "duration": 0.005799,
     "end_time": "2024-08-03T15:09:49.926924",
     "exception": false,
     "start_time": "2024-08-03T15:09:49.921125",
     "status": "completed"
    },
    "tags": []
   },
   "source": [
    "A cursory web search suggests that \n",
    "* HDR stands for Medallion/For-Hire Vehicle Operator \n",
    "* PDR stands for Paratransit Vehicle Operator\n",
    "* VDR stands for Commuter Van Vehicle Operator\n",
    "So we know that none of these are ordinary driver's licenses."
   ]
  },
  {
   "cell_type": "code",
   "execution_count": 8,
   "id": "c1603f37",
   "metadata": {
    "execution": {
     "iopub.execute_input": "2024-08-03T15:09:49.941762Z",
     "iopub.status.busy": "2024-08-03T15:09:49.941397Z",
     "iopub.status.idle": "2024-08-03T15:09:50.091460Z",
     "shell.execute_reply": "2024-08-03T15:09:50.090334Z"
    },
    "papermill": {
     "duration": 0.160139,
     "end_time": "2024-08-03T15:09:50.094058",
     "exception": false,
     "start_time": "2024-08-03T15:09:49.933919",
     "status": "completed"
    },
    "tags": []
   },
   "outputs": [
    {
     "data": {
      "text/html": [
       "<div>                            <div id=\"72abe251-3702-445d-9f6f-d00228f88695\" class=\"plotly-graph-div\" style=\"height:525px; width:100%;\"></div>            <script type=\"text/javascript\">                require([\"plotly\"], function(Plotly) {                    window.PLOTLYENV=window.PLOTLYENV || {};                                    if (document.getElementById(\"72abe251-3702-445d-9f6f-d00228f88695\")) {                    Plotly.newPlot(                        \"72abe251-3702-445d-9f6f-d00228f88695\",                        [{\"alignmentgroup\":\"True\",\"bingroup\":\"x\",\"hovertemplate\":\"App Date=%{x}\\u003cbr\\u003ecount=%{y}\\u003cextra\\u003e\\u003c\\u002fextra\\u003e\",\"legendgroup\":\"\",\"marker\":{\"color\":\"#636efa\",\"pattern\":{\"shape\":\"\"}},\"name\":\"\",\"offsetgroup\":\"\",\"orientation\":\"v\",\"showlegend\":false,\"x\":[\"2024-07-16T00:00:00\",\"2024-07-09T00:00:00\",\"2024-05-09T00:00:00\",\"2016-10-17T00:00:00\",\"2024-06-24T00:00:00\",\"2024-06-10T00:00:00\",\"2024-05-17T00:00:00\",\"2024-05-24T00:00:00\",\"2024-05-27T00:00:00\",\"2024-06-18T00:00:00\",\"2024-07-07T00:00:00\",\"2024-07-13T00:00:00\",\"2024-06-29T00:00:00\",\"2024-05-24T00:00:00\",\"2024-06-22T00:00:00\",\"2024-05-13T00:00:00\",\"2024-03-31T00:00:00\",\"2024-06-07T00:00:00\",\"2024-07-05T00:00:00\",\"2024-05-04T00:00:00\",\"2024-07-15T00:00:00\",\"2024-05-21T00:00:00\",\"2024-06-13T00:00:00\",\"2024-06-08T00:00:00\",\"2024-07-13T00:00:00\",\"2024-04-22T00:00:00\",\"2024-05-11T00:00:00\",\"2024-07-12T00:00:00\",\"2024-06-06T00:00:00\",\"2024-07-03T00:00:00\",\"2024-04-11T00:00:00\",\"2024-06-23T00:00:00\",\"2024-06-14T00:00:00\",\"2024-04-26T00:00:00\",\"2024-05-15T00:00:00\",\"2024-05-23T00:00:00\",\"2017-03-27T00:00:00\",\"2024-04-05T00:00:00\",\"2024-04-08T00:00:00\",\"2024-04-18T00:00:00\",\"2024-07-13T00:00:00\",\"2024-04-22T00:00:00\",\"2024-07-10T00:00:00\",\"2024-06-22T00:00:00\",\"2024-04-22T00:00:00\",\"2024-05-13T00:00:00\",\"2024-06-24T00:00:00\",\"2024-06-29T00:00:00\",\"2024-04-16T00:00:00\",\"2024-04-04T00:00:00\",\"2024-04-10T00:00:00\",\"2024-05-13T00:00:00\",\"2024-06-09T00:00:00\",\"2024-05-30T00:00:00\",\"2024-04-16T00:00:00\",\"2024-07-10T00:00:00\",\"2024-06-29T00:00:00\",\"2024-07-15T00:00:00\",\"2024-06-24T00:00:00\",\"2024-05-09T00:00:00\",\"2024-05-01T00:00:00\",\"2024-04-29T00:00:00\",\"2024-05-28T00:00:00\",\"2024-06-20T00:00:00\",\"2024-07-09T00:00:00\",\"2024-04-12T00:00:00\",\"2024-07-09T00:00:00\",\"2024-05-30T00:00:00\",\"2024-06-28T00:00:00\",\"2024-07-02T00:00:00\",\"2024-05-30T00:00:00\",\"2024-05-16T00:00:00\",\"2024-06-11T00:00:00\",\"2024-05-20T00:00:00\",\"2024-06-01T00:00:00\",\"2024-04-29T00:00:00\",\"2024-06-17T00:00:00\",\"2024-06-19T00:00:00\",\"2024-05-29T00:00:00\",\"2024-07-03T00:00:00\",\"2024-06-30T00:00:00\",\"2024-06-20T00:00:00\",\"2024-05-22T00:00:00\",\"2024-06-28T00:00:00\",\"2024-05-08T00:00:00\",\"2024-05-29T00:00:00\",\"2024-06-25T00:00:00\",\"2024-07-11T00:00:00\",\"2024-06-19T00:00:00\",\"2024-07-10T00:00:00\",\"2024-03-29T00:00:00\",\"2024-06-05T00:00:00\",\"2024-04-18T00:00:00\",\"2024-05-07T00:00:00\",\"2024-06-07T00:00:00\",\"2024-05-17T00:00:00\",\"2024-06-24T00:00:00\",\"2024-06-08T00:00:00\",\"2024-05-21T00:00:00\",\"2024-05-11T00:00:00\",\"2024-04-25T00:00:00\",\"2024-05-03T00:00:00\",\"2024-05-31T00:00:00\",\"2024-06-18T00:00:00\",\"2024-05-19T00:00:00\",\"2024-07-11T00:00:00\",\"2024-04-19T00:00:00\",\"2024-07-12T00:00:00\",\"2024-07-07T00:00:00\",\"2024-06-30T00:00:00\",\"2024-05-03T00:00:00\",\"2024-03-25T00:00:00\",\"2024-04-30T00:00:00\",\"2024-06-11T00:00:00\",\"2024-05-29T00:00:00\",\"2024-06-04T00:00:00\",\"2024-07-11T00:00:00\",\"2024-06-07T00:00:00\",\"2024-06-14T00:00:00\",\"2024-05-15T00:00:00\",\"2024-04-23T00:00:00\",\"2024-06-21T00:00:00\",\"2024-05-22T00:00:00\",\"2024-07-01T00:00:00\",\"2024-07-01T00:00:00\",\"2024-07-08T00:00:00\",\"2024-05-15T00:00:00\",\"2024-05-18T00:00:00\",\"2024-03-30T00:00:00\",\"2024-06-04T00:00:00\",\"2024-07-02T00:00:00\",\"2024-05-23T00:00:00\",\"2024-06-26T00:00:00\",\"2024-05-06T00:00:00\",\"2024-06-08T00:00:00\",\"2024-07-13T00:00:00\",\"2024-05-09T00:00:00\",\"2024-06-18T00:00:00\",\"2024-06-29T00:00:00\",\"2024-07-01T00:00:00\",\"2024-05-17T00:00:00\",\"2024-07-16T00:00:00\",\"2024-07-15T00:00:00\",\"2024-07-15T00:00:00\",\"2024-05-30T00:00:00\",\"2024-04-19T00:00:00\",\"2024-05-16T00:00:00\",\"2024-06-13T00:00:00\",\"2024-04-06T00:00:00\",\"2024-04-16T00:00:00\",\"2024-05-22T00:00:00\",\"2024-06-05T00:00:00\",\"2024-05-14T00:00:00\",\"2024-05-07T00:00:00\",\"2024-04-13T00:00:00\",\"2024-07-11T00:00:00\",\"2024-07-05T00:00:00\",\"2024-05-06T00:00:00\",\"2024-04-28T00:00:00\",\"2024-06-04T00:00:00\",\"2024-05-25T00:00:00\",\"2024-06-04T00:00:00\",\"2024-06-25T00:00:00\",\"2024-05-18T00:00:00\",\"2024-07-13T00:00:00\",\"2024-05-14T00:00:00\",\"2024-04-24T00:00:00\",\"2024-06-20T00:00:00\",\"2024-07-12T00:00:00\",\"2024-07-11T00:00:00\",\"2024-07-09T00:00:00\",\"2024-05-11T00:00:00\",\"2024-05-08T00:00:00\",\"2024-06-20T00:00:00\",\"2024-05-10T00:00:00\",\"2024-07-05T00:00:00\",\"2024-05-01T00:00:00\",\"2024-06-30T00:00:00\",\"2024-07-15T00:00:00\",\"2024-04-30T00:00:00\",\"2024-06-20T00:00:00\",\"2024-04-28T00:00:00\",\"2024-06-19T00:00:00\",\"2024-04-07T00:00:00\",\"2024-06-04T00:00:00\",\"2024-06-11T00:00:00\",\"2024-05-01T00:00:00\",\"2024-07-08T00:00:00\",\"2024-06-17T00:00:00\",\"2024-05-19T00:00:00\",\"2024-03-29T00:00:00\",\"2024-07-11T00:00:00\",\"2024-03-28T00:00:00\",\"2024-05-17T00:00:00\",\"2024-06-01T00:00:00\",\"2024-06-06T00:00:00\",\"2024-07-14T00:00:00\",\"2024-05-23T00:00:00\",\"2024-05-08T00:00:00\",\"2024-04-30T00:00:00\",\"2024-04-19T00:00:00\",\"2024-05-24T00:00:00\",\"2024-06-30T00:00:00\",\"2024-06-14T00:00:00\",\"2024-06-03T00:00:00\",\"2024-04-12T00:00:00\",\"2024-07-08T00:00:00\",\"2024-07-09T00:00:00\",\"2024-06-01T00:00:00\",\"2024-06-25T00:00:00\",\"2024-06-18T00:00:00\",\"2024-06-22T00:00:00\",\"2024-05-24T00:00:00\",\"2024-05-15T00:00:00\",\"2024-07-04T00:00:00\",\"2024-07-02T00:00:00\",\"2024-06-19T00:00:00\",\"2024-06-02T00:00:00\",\"2024-07-15T00:00:00\",\"2024-04-15T00:00:00\",\"2024-06-17T00:00:00\",\"2024-05-19T00:00:00\",\"2024-05-24T00:00:00\",\"2024-06-03T00:00:00\",\"2024-04-23T00:00:00\",\"2024-04-15T00:00:00\",\"2024-04-19T00:00:00\",\"2024-06-14T00:00:00\",\"2024-04-26T00:00:00\",\"2024-05-25T00:00:00\",\"2024-05-20T00:00:00\",\"2024-06-26T00:00:00\",\"2024-04-10T00:00:00\",\"2024-07-03T00:00:00\",\"2024-04-28T00:00:00\",\"2024-04-27T00:00:00\",\"2024-06-06T00:00:00\",\"2024-05-28T00:00:00\",\"2024-07-12T00:00:00\",\"2024-04-15T00:00:00\",\"2024-06-13T00:00:00\",\"2024-05-04T00:00:00\",\"2024-04-27T00:00:00\",\"2024-07-08T00:00:00\",\"2024-05-14T00:00:00\",\"2024-05-23T00:00:00\",\"2024-06-02T00:00:00\",\"2024-05-24T00:00:00\",\"2024-04-01T00:00:00\",\"2024-05-29T00:00:00\",\"2024-07-15T00:00:00\",\"2024-07-01T00:00:00\",\"2024-05-31T00:00:00\",\"2024-05-13T00:00:00\",\"2024-06-05T00:00:00\",\"2024-07-11T00:00:00\",\"2024-06-05T00:00:00\",\"2024-07-10T00:00:00\",\"2024-06-06T00:00:00\",\"2024-06-04T00:00:00\",\"2024-07-04T00:00:00\",\"2024-07-08T00:00:00\",\"2024-07-10T00:00:00\",\"2024-06-29T00:00:00\",\"2024-06-10T00:00:00\",\"2024-04-09T00:00:00\",\"2024-07-16T00:00:00\",\"2024-07-10T00:00:00\",\"2024-07-15T00:00:00\",\"2024-06-28T00:00:00\",\"2024-04-21T00:00:00\",\"2024-07-10T00:00:00\",\"2024-05-31T00:00:00\",\"2024-05-19T00:00:00\",\"2024-05-15T00:00:00\",\"2024-07-05T00:00:00\",\"2024-04-29T00:00:00\",\"2024-07-06T00:00:00\",\"2024-06-24T00:00:00\",\"2024-06-05T00:00:00\",\"2024-07-13T00:00:00\",\"2024-06-20T00:00:00\",\"2024-06-17T00:00:00\",\"2024-07-15T00:00:00\",\"2024-06-24T00:00:00\",\"2024-06-10T00:00:00\",\"2024-05-20T00:00:00\",\"2024-04-12T00:00:00\",\"2024-06-03T00:00:00\",\"2024-06-27T00:00:00\",\"2024-04-22T00:00:00\",\"2024-06-20T00:00:00\",\"2024-07-16T00:00:00\",\"2024-06-29T00:00:00\",\"2024-07-08T00:00:00\",\"2024-04-04T00:00:00\",\"2024-06-23T00:00:00\",\"2024-06-17T00:00:00\",\"2024-04-26T00:00:00\",\"2024-07-16T00:00:00\",\"2024-06-28T00:00:00\",\"2024-04-17T00:00:00\",\"2024-04-03T00:00:00\",\"2024-04-23T00:00:00\",\"2024-06-28T00:00:00\",\"2024-06-28T00:00:00\",\"2024-04-05T00:00:00\",\"2024-07-08T00:00:00\",\"2024-06-02T00:00:00\",\"2024-07-09T00:00:00\",\"2024-06-17T00:00:00\",\"2024-07-01T00:00:00\",\"2024-05-13T00:00:00\",\"2024-06-06T00:00:00\",\"2024-04-09T00:00:00\",\"2024-06-08T00:00:00\",\"2024-07-01T00:00:00\",\"2024-06-14T00:00:00\",\"2024-06-20T00:00:00\",\"2024-06-10T00:00:00\",\"2024-07-12T00:00:00\",\"2024-06-03T00:00:00\",\"2024-03-24T00:00:00\",\"2024-07-04T00:00:00\",\"2024-05-03T00:00:00\",\"2024-07-03T00:00:00\",\"2024-06-28T00:00:00\",\"2024-07-01T00:00:00\",\"2024-06-10T00:00:00\",\"2024-06-15T00:00:00\",\"2024-04-08T00:00:00\",\"2024-07-02T00:00:00\",\"2024-05-30T00:00:00\",\"2024-04-22T00:00:00\",\"2024-04-23T00:00:00\",\"2024-05-07T00:00:00\",\"2024-07-13T00:00:00\",\"2024-06-06T00:00:00\",\"2024-05-12T00:00:00\",\"2024-06-29T00:00:00\",\"2024-06-01T00:00:00\",\"2024-07-11T00:00:00\",\"2024-04-29T00:00:00\",\"2024-07-09T00:00:00\",\"2024-05-21T00:00:00\",\"2024-06-05T00:00:00\",\"2024-06-04T00:00:00\",\"2024-04-08T00:00:00\",\"2024-05-26T00:00:00\",\"2024-06-09T00:00:00\",\"2024-06-10T00:00:00\",\"2024-05-16T00:00:00\",\"2024-05-28T00:00:00\",\"2024-07-04T00:00:00\",\"2024-07-08T00:00:00\",\"2024-06-25T00:00:00\",\"2024-06-01T00:00:00\",\"2024-06-17T00:00:00\",\"2024-07-10T00:00:00\",\"2024-06-04T00:00:00\",\"2024-05-26T00:00:00\",\"2024-06-21T00:00:00\",\"2024-06-26T00:00:00\",\"2024-07-01T00:00:00\",\"2024-04-26T00:00:00\",\"2024-05-17T00:00:00\",\"2024-06-24T00:00:00\",\"2024-04-09T00:00:00\",\"2024-04-13T00:00:00\",\"2024-05-04T00:00:00\",\"2024-07-16T00:00:00\",\"2024-05-23T00:00:00\",\"2024-04-30T00:00:00\",\"2024-06-02T00:00:00\",\"2024-05-15T00:00:00\",\"2024-06-14T00:00:00\",\"2024-05-14T00:00:00\",\"2024-06-15T00:00:00\",\"2024-04-22T00:00:00\",\"2024-05-22T00:00:00\",\"2024-05-18T00:00:00\",\"2024-07-03T00:00:00\",\"2024-07-06T00:00:00\",\"2024-07-11T00:00:00\",\"2024-05-28T00:00:00\",\"2024-06-26T00:00:00\",\"2024-06-25T00:00:00\",\"2024-06-11T00:00:00\",\"2024-06-10T00:00:00\",\"2024-06-19T00:00:00\",\"2024-06-17T00:00:00\",\"2024-06-06T00:00:00\",\"2024-06-03T00:00:00\",\"2024-06-28T00:00:00\",\"2024-07-01T00:00:00\",\"2024-05-01T00:00:00\",\"2024-05-07T00:00:00\",\"2024-06-21T00:00:00\",\"2024-06-28T00:00:00\",\"2024-05-03T00:00:00\",\"2024-04-25T00:00:00\",\"2024-06-19T00:00:00\",\"2024-05-01T00:00:00\",\"2024-05-22T00:00:00\",\"2024-06-14T00:00:00\",\"2024-05-03T00:00:00\",\"2024-06-15T00:00:00\",\"2024-06-22T00:00:00\",\"2024-06-19T00:00:00\",\"2024-06-10T00:00:00\",\"2024-05-19T00:00:00\",\"2024-04-28T00:00:00\",\"2024-04-18T00:00:00\",\"2024-07-08T00:00:00\",\"2024-07-16T00:00:00\",\"2024-06-10T00:00:00\",\"2024-06-04T00:00:00\",\"2024-05-22T00:00:00\",\"2024-04-13T00:00:00\",\"2024-03-06T00:00:00\",\"2024-07-09T00:00:00\",\"2024-06-05T00:00:00\",\"2024-07-08T00:00:00\",\"2024-06-24T00:00:00\",\"2024-04-12T00:00:00\",\"2024-06-14T00:00:00\",\"2024-05-07T00:00:00\",\"2024-05-14T00:00:00\",\"2024-06-24T00:00:00\",\"2024-02-10T00:00:00\",\"2024-06-11T00:00:00\",\"2024-05-06T00:00:00\",\"2024-06-22T00:00:00\",\"2024-07-08T00:00:00\",\"2024-06-28T00:00:00\",\"2024-05-20T00:00:00\",\"2024-05-30T00:00:00\",\"2024-05-14T00:00:00\",\"2024-06-22T00:00:00\",\"2024-06-12T00:00:00\",\"2024-05-22T00:00:00\",\"2024-05-25T00:00:00\",\"2024-06-12T00:00:00\",\"2024-07-06T00:00:00\",\"2024-05-12T00:00:00\",\"2024-06-08T00:00:00\",\"2024-06-03T00:00:00\",\"2024-05-16T00:00:00\",\"2024-07-05T00:00:00\",\"2024-06-06T00:00:00\",\"2024-06-07T00:00:00\",\"2024-06-20T00:00:00\",\"2024-07-10T00:00:00\",\"2024-05-18T00:00:00\",\"2024-05-14T00:00:00\",\"2024-07-15T00:00:00\",\"2024-05-04T00:00:00\",\"2024-06-27T00:00:00\",\"2024-06-19T00:00:00\",\"2024-05-24T00:00:00\",\"2024-07-15T00:00:00\",\"2024-06-02T00:00:00\",\"2024-06-05T00:00:00\",\"2024-04-06T00:00:00\",\"2024-07-02T00:00:00\",\"2024-05-19T00:00:00\",\"2024-04-25T00:00:00\",\"2024-05-04T00:00:00\",\"2024-05-30T00:00:00\",\"2024-04-06T00:00:00\",\"2024-06-01T00:00:00\",\"2024-05-23T00:00:00\",\"2024-06-20T00:00:00\",\"2024-06-17T00:00:00\",\"2024-05-09T00:00:00\",\"2024-04-10T00:00:00\",\"2024-06-06T00:00:00\",\"2024-06-05T00:00:00\",\"2024-07-11T00:00:00\",\"2024-05-25T00:00:00\",\"2024-07-13T00:00:00\",\"2024-04-01T00:00:00\",\"2024-06-22T00:00:00\",\"2024-06-15T00:00:00\",\"2024-06-04T00:00:00\",\"2024-06-27T00:00:00\",\"2024-04-01T00:00:00\",\"2024-06-22T00:00:00\",\"2024-05-31T00:00:00\",\"2024-04-12T00:00:00\",\"2024-07-10T00:00:00\",\"2024-04-23T00:00:00\",\"2024-03-06T00:00:00\",\"2024-07-11T00:00:00\",\"2024-07-12T00:00:00\",\"2024-06-26T00:00:00\",\"2024-06-18T00:00:00\",\"2024-05-13T00:00:00\",\"2024-07-16T00:00:00\",\"2024-06-03T00:00:00\",\"2024-07-16T00:00:00\",\"2024-05-20T00:00:00\",\"2024-06-20T00:00:00\",\"2024-04-18T00:00:00\",\"2024-06-07T00:00:00\",\"2024-06-28T00:00:00\",\"2024-06-20T00:00:00\",\"2024-05-18T00:00:00\",\"2024-06-25T00:00:00\",\"2024-05-07T00:00:00\",\"2024-06-24T00:00:00\",\"2024-06-26T00:00:00\",\"2024-06-26T00:00:00\",\"2024-06-13T00:00:00\",\"2024-05-06T00:00:00\",\"2024-06-06T00:00:00\",\"2024-06-18T00:00:00\",\"2024-05-06T00:00:00\",\"2024-06-25T00:00:00\",\"2024-06-27T00:00:00\",\"2024-07-10T00:00:00\",\"2024-07-01T00:00:00\",\"2024-06-26T00:00:00\",\"2024-06-18T00:00:00\",\"2024-06-12T00:00:00\",\"2024-06-21T00:00:00\",\"2024-05-14T00:00:00\",\"2024-06-07T00:00:00\",\"2024-07-13T00:00:00\",\"2024-05-08T00:00:00\",\"2024-06-26T00:00:00\",\"2024-04-29T00:00:00\",\"2024-06-24T00:00:00\",\"2024-06-26T00:00:00\",\"2024-06-24T00:00:00\",\"2024-05-06T00:00:00\",\"2024-04-03T00:00:00\",\"2024-05-29T00:00:00\",\"2024-06-24T00:00:00\",\"2024-05-28T00:00:00\",\"2024-06-14T00:00:00\",\"2024-07-10T00:00:00\",\"2024-04-27T00:00:00\",\"2024-06-18T00:00:00\",\"2024-05-04T00:00:00\",\"2024-03-29T00:00:00\",\"2024-06-06T00:00:00\",\"2024-07-11T00:00:00\",\"2024-06-08T00:00:00\",\"2024-04-24T00:00:00\",\"2024-04-15T00:00:00\",\"2024-07-08T00:00:00\",\"2024-05-07T00:00:00\",\"2024-05-16T00:00:00\",\"2024-04-26T00:00:00\",\"2024-05-01T00:00:00\",\"2024-06-30T00:00:00\",\"2024-06-17T00:00:00\",\"2024-06-13T00:00:00\",\"2024-07-10T00:00:00\",\"2024-06-05T00:00:00\",\"2024-07-09T00:00:00\",\"2024-05-22T00:00:00\",\"2024-06-03T00:00:00\",\"2024-04-09T00:00:00\",\"2024-04-10T00:00:00\",\"2024-06-12T00:00:00\",\"2024-06-11T00:00:00\",\"2024-06-19T00:00:00\",\"2024-06-03T00:00:00\",\"2024-06-23T00:00:00\",\"2024-06-26T00:00:00\",\"2024-05-25T00:00:00\",\"2024-04-30T00:00:00\",\"2024-07-10T00:00:00\",\"2024-04-05T00:00:00\",\"2024-06-28T00:00:00\",\"2024-06-27T00:00:00\",\"2024-06-13T00:00:00\",\"2024-05-25T00:00:00\",\"2024-05-11T00:00:00\",\"2024-04-08T00:00:00\",\"2024-05-11T00:00:00\",\"2024-06-10T00:00:00\",\"2024-06-04T00:00:00\",\"2024-05-21T00:00:00\",\"2024-06-11T00:00:00\",\"2024-06-10T00:00:00\",\"2024-06-19T00:00:00\",\"2024-06-29T00:00:00\",\"2024-07-15T00:00:00\",\"2024-06-25T00:00:00\",\"2024-05-26T00:00:00\",\"2024-05-31T00:00:00\",\"2024-04-24T00:00:00\",\"2024-06-12T00:00:00\",\"2024-05-03T00:00:00\",\"2024-06-23T00:00:00\",\"2024-05-13T00:00:00\",\"2024-04-30T00:00:00\",\"2024-07-08T00:00:00\",\"2024-04-15T00:00:00\",\"2024-04-01T00:00:00\",\"2024-07-11T00:00:00\",\"2024-06-03T00:00:00\",\"2024-07-12T00:00:00\",\"2024-05-15T00:00:00\",\"2024-07-10T00:00:00\",\"2024-06-10T00:00:00\",\"2024-06-22T00:00:00\",\"2024-05-15T00:00:00\",\"2024-06-03T00:00:00\",\"2024-04-28T00:00:00\",\"2024-06-23T00:00:00\",\"2024-07-16T00:00:00\",\"2024-05-06T00:00:00\",\"2024-06-12T00:00:00\",\"2024-06-26T00:00:00\",\"2024-04-22T00:00:00\",\"2024-06-19T00:00:00\",\"2024-05-27T00:00:00\",\"2024-06-29T00:00:00\",\"2024-06-13T00:00:00\",\"2024-06-13T00:00:00\",\"2024-07-04T00:00:00\",\"2024-04-12T00:00:00\",\"2024-04-04T00:00:00\",\"2024-04-21T00:00:00\",\"2024-07-16T00:00:00\",\"2024-05-20T00:00:00\",\"2024-06-18T00:00:00\",\"2024-05-10T00:00:00\",\"2024-07-09T00:00:00\",\"2024-06-07T00:00:00\",\"2024-07-01T00:00:00\",\"2024-04-23T00:00:00\",\"2024-05-27T00:00:00\",\"2024-05-31T00:00:00\",\"2024-05-07T00:00:00\",\"2024-07-14T00:00:00\",\"2024-04-29T00:00:00\",\"2024-07-16T00:00:00\",\"2024-06-18T00:00:00\",\"2024-07-15T00:00:00\",\"2024-04-16T00:00:00\",\"2024-06-22T00:00:00\",\"2024-07-16T00:00:00\",\"2024-06-20T00:00:00\",\"2024-07-11T00:00:00\",\"2024-06-19T00:00:00\",\"2024-04-20T00:00:00\",\"2024-07-09T00:00:00\",\"2024-07-13T00:00:00\",\"2024-05-31T00:00:00\",\"2024-07-02T00:00:00\",\"2024-05-06T00:00:00\",\"2024-06-07T00:00:00\",\"2024-04-23T00:00:00\",\"2024-06-26T00:00:00\",\"2024-05-17T00:00:00\",\"2024-06-12T00:00:00\",\"2024-06-02T00:00:00\",\"2024-07-10T00:00:00\",\"2024-07-01T00:00:00\",\"2024-07-15T00:00:00\",\"2024-05-06T00:00:00\",\"2024-07-03T00:00:00\",\"2024-06-28T00:00:00\",\"2024-06-06T00:00:00\",\"2024-05-06T00:00:00\",\"2024-06-26T00:00:00\",\"2024-07-10T00:00:00\",\"2024-06-10T00:00:00\",\"2024-06-05T00:00:00\",\"2024-05-15T00:00:00\",\"2024-07-02T00:00:00\",\"2024-07-13T00:00:00\",\"2024-06-23T00:00:00\",\"2024-06-21T00:00:00\",\"2024-05-23T00:00:00\",\"2024-06-26T00:00:00\",\"2024-04-13T00:00:00\",\"2024-05-02T00:00:00\",\"2024-05-29T00:00:00\",\"2024-06-17T00:00:00\",\"2024-05-10T00:00:00\",\"2024-05-29T00:00:00\",\"2024-06-07T00:00:00\",\"2024-06-09T00:00:00\",\"2024-06-01T00:00:00\",\"2024-07-09T00:00:00\",\"2024-04-22T00:00:00\",\"2024-07-04T00:00:00\",\"2024-05-15T00:00:00\",\"2024-06-01T00:00:00\",\"2024-04-30T00:00:00\",\"2024-05-14T00:00:00\",\"2024-07-03T00:00:00\",\"2024-06-30T00:00:00\",\"2024-06-06T00:00:00\",\"2024-07-01T00:00:00\",\"2024-05-03T00:00:00\",\"2024-05-04T00:00:00\",\"2024-04-17T00:00:00\",\"2024-04-17T00:00:00\",\"2024-05-25T00:00:00\",\"2024-06-04T00:00:00\",\"2024-04-01T00:00:00\",\"2024-06-24T00:00:00\",\"2024-06-27T00:00:00\",\"2024-06-29T00:00:00\",\"2024-05-20T00:00:00\",\"2024-06-22T00:00:00\",\"2024-07-01T00:00:00\",\"2024-05-03T00:00:00\",\"2024-07-13T00:00:00\",\"2024-07-01T00:00:00\",\"2024-04-06T00:00:00\",\"2024-06-13T00:00:00\",\"2024-04-10T00:00:00\",\"2024-07-07T00:00:00\",\"2024-04-26T00:00:00\",\"2024-07-12T00:00:00\",\"2024-06-02T00:00:00\",\"2024-07-11T00:00:00\",\"2024-06-04T00:00:00\",\"2024-05-23T00:00:00\",\"2024-07-15T00:00:00\",\"2024-06-01T00:00:00\",\"2024-04-27T00:00:00\",\"2024-06-03T00:00:00\",\"2024-06-19T00:00:00\",\"2024-06-24T00:00:00\",\"2024-06-11T00:00:00\",\"2024-05-02T00:00:00\",\"2024-07-14T00:00:00\",\"2024-05-14T00:00:00\",\"2024-07-16T00:00:00\",\"2024-05-22T00:00:00\",\"2024-05-08T00:00:00\",\"2024-07-15T00:00:00\",\"2024-06-24T00:00:00\",\"2024-07-15T00:00:00\",\"2024-04-01T00:00:00\",\"2024-05-29T00:00:00\",\"2024-05-07T00:00:00\",\"2024-07-05T00:00:00\",\"2024-07-16T00:00:00\",\"2024-04-16T00:00:00\",\"2024-06-19T00:00:00\",\"2024-05-28T00:00:00\",\"2024-06-27T00:00:00\",\"2024-06-05T00:00:00\",\"2024-07-13T00:00:00\",\"2024-05-20T00:00:00\",\"2024-07-05T00:00:00\",\"2024-04-11T00:00:00\",\"2024-07-10T00:00:00\",\"2024-06-13T00:00:00\",\"2024-07-12T00:00:00\",\"2024-07-15T00:00:00\",\"2024-07-06T00:00:00\",\"2024-04-04T00:00:00\",\"2024-06-05T00:00:00\",\"2024-06-11T00:00:00\",\"2024-07-13T00:00:00\",\"2024-04-04T00:00:00\",\"2024-04-21T00:00:00\",\"2024-07-03T00:00:00\",\"2024-07-09T00:00:00\",\"2024-05-21T00:00:00\",\"2024-05-16T00:00:00\",\"2024-05-15T00:00:00\",\"2024-07-08T00:00:00\",\"2024-06-17T00:00:00\",\"2024-07-11T00:00:00\",\"2024-06-10T00:00:00\",\"2024-05-12T00:00:00\",\"2024-06-25T00:00:00\",\"2024-06-30T00:00:00\",\"2024-04-26T00:00:00\",\"2024-05-29T00:00:00\",\"2024-04-30T00:00:00\",\"2024-06-18T00:00:00\",\"2024-06-05T00:00:00\",\"2024-06-17T00:00:00\",\"2024-07-07T00:00:00\",\"2024-07-15T00:00:00\",\"2024-06-21T00:00:00\",\"2024-06-01T00:00:00\",\"2024-05-10T00:00:00\",\"2024-04-19T00:00:00\",\"2024-06-12T00:00:00\",\"2024-04-02T00:00:00\",\"2024-06-05T00:00:00\",\"2024-06-07T00:00:00\",\"2024-06-17T00:00:00\",\"2024-05-27T00:00:00\",\"2024-06-24T00:00:00\",\"2024-04-29T00:00:00\",\"2024-07-09T00:00:00\",\"2024-06-23T00:00:00\",\"2024-06-18T00:00:00\",\"2024-06-20T00:00:00\",\"2024-06-02T00:00:00\",\"2024-06-21T00:00:00\",\"2024-04-02T00:00:00\",\"2024-07-13T00:00:00\",\"2024-04-23T00:00:00\",\"2024-05-28T00:00:00\",\"2024-06-30T00:00:00\",\"2024-06-28T00:00:00\",\"2024-07-15T00:00:00\",\"2024-07-15T00:00:00\",\"2024-06-18T00:00:00\",\"2024-07-04T00:00:00\",\"2024-04-29T00:00:00\",\"2024-07-04T00:00:00\",\"2024-07-01T00:00:00\",\"2024-06-23T00:00:00\",\"2024-06-25T00:00:00\",\"2024-07-10T00:00:00\",\"2024-07-07T00:00:00\",\"2024-06-12T00:00:00\",\"2024-07-01T00:00:00\",\"2024-06-03T00:00:00\",\"2024-06-13T00:00:00\",\"2024-04-02T00:00:00\",\"2024-05-22T00:00:00\",\"2024-07-02T00:00:00\",\"2024-07-05T00:00:00\",\"2024-05-10T00:00:00\",\"2024-05-12T00:00:00\",\"2024-07-09T00:00:00\",\"2024-07-16T00:00:00\",\"2024-05-30T00:00:00\",\"2024-04-22T00:00:00\",\"2024-06-09T00:00:00\",\"2024-04-22T00:00:00\",\"2024-05-20T00:00:00\",\"2024-07-15T00:00:00\",\"2024-05-16T00:00:00\",\"2024-04-03T00:00:00\",\"2024-07-13T00:00:00\",\"2024-04-26T00:00:00\",\"2024-05-21T00:00:00\",\"2024-06-25T00:00:00\",\"2024-04-16T00:00:00\",\"2024-06-26T00:00:00\",\"2024-07-11T00:00:00\",\"2024-05-20T00:00:00\",\"2024-04-24T00:00:00\",\"2024-07-15T00:00:00\",\"2024-04-13T00:00:00\",\"2024-06-03T00:00:00\",\"2024-05-01T00:00:00\",\"2024-05-03T00:00:00\",\"2024-04-13T00:00:00\",\"2024-06-18T00:00:00\",\"2024-04-11T00:00:00\",\"2024-05-28T00:00:00\",\"2024-06-26T00:00:00\",\"2024-06-18T00:00:00\",\"2024-06-01T00:00:00\",\"2024-04-26T00:00:00\",\"2024-06-19T00:00:00\",\"2024-05-05T00:00:00\",\"2024-05-29T00:00:00\",\"2024-04-17T00:00:00\",\"2024-06-21T00:00:00\",\"2024-07-03T00:00:00\",\"2024-05-22T00:00:00\",\"2024-03-29T00:00:00\",\"2024-06-24T00:00:00\",\"2024-06-13T00:00:00\",\"2024-05-07T00:00:00\",\"2024-05-31T00:00:00\",\"2024-05-16T00:00:00\",\"2024-06-28T00:00:00\",\"2024-05-29T00:00:00\",\"2024-07-05T00:00:00\",\"2024-04-29T00:00:00\",\"2024-06-17T00:00:00\",\"2024-05-20T00:00:00\",\"2024-07-02T00:00:00\",\"2024-07-02T00:00:00\",\"2024-07-03T00:00:00\",\"2024-07-03T00:00:00\",\"2024-07-05T00:00:00\",\"2024-06-03T00:00:00\",\"2024-07-11T00:00:00\",\"2024-05-27T00:00:00\",\"2024-05-30T00:00:00\",\"2024-07-13T00:00:00\",\"2024-04-05T00:00:00\",\"2024-07-03T00:00:00\",\"2024-05-31T00:00:00\",\"2024-07-12T00:00:00\",\"2024-06-24T00:00:00\",\"2024-04-24T00:00:00\",\"2024-05-17T00:00:00\",\"2024-07-15T00:00:00\",\"2024-06-05T00:00:00\",\"2024-05-31T00:00:00\",\"2024-06-04T00:00:00\",\"2024-07-12T00:00:00\",\"2024-05-18T00:00:00\",\"2024-05-10T00:00:00\",\"2024-04-01T00:00:00\",\"2024-07-14T00:00:00\",\"2024-04-29T00:00:00\",\"2024-05-08T00:00:00\",\"2024-06-07T00:00:00\",\"2024-06-14T00:00:00\",\"2024-05-22T00:00:00\",\"2024-05-15T00:00:00\",\"2024-05-25T00:00:00\",\"2024-07-05T00:00:00\",\"2024-06-05T00:00:00\",\"2024-07-01T00:00:00\",\"2024-04-17T00:00:00\",\"2024-06-14T00:00:00\",\"2024-05-24T00:00:00\",\"2024-04-12T00:00:00\",\"2024-06-03T00:00:00\",\"2024-04-25T00:00:00\",\"2024-06-28T00:00:00\",\"2024-06-13T00:00:00\",\"2024-07-16T00:00:00\",\"2024-06-12T00:00:00\",\"2024-05-07T00:00:00\",\"2024-04-02T00:00:00\",\"2024-07-16T00:00:00\",\"2024-06-20T00:00:00\",\"2024-06-17T00:00:00\",\"2024-06-28T00:00:00\",\"2024-07-10T00:00:00\",\"2024-04-03T00:00:00\",\"2024-06-03T00:00:00\",\"2024-07-04T00:00:00\",\"2024-04-01T00:00:00\",\"2024-07-02T00:00:00\",\"2024-05-22T00:00:00\",\"2024-05-15T00:00:00\",\"2024-06-05T00:00:00\",\"2024-07-01T00:00:00\",\"2024-05-25T00:00:00\",\"2024-07-11T00:00:00\",\"2024-05-17T00:00:00\",\"2024-06-18T00:00:00\",\"2024-06-29T00:00:00\",\"2024-06-11T00:00:00\",\"2024-06-06T00:00:00\",\"2024-06-15T00:00:00\",\"2024-05-23T00:00:00\",\"2024-05-18T00:00:00\",\"2024-07-04T00:00:00\",\"2024-05-06T00:00:00\",\"2024-06-14T00:00:00\",\"2024-07-13T00:00:00\",\"2024-04-30T00:00:00\",\"2024-04-30T00:00:00\",\"2024-05-22T00:00:00\",\"2024-06-23T00:00:00\",\"2024-05-23T00:00:00\",\"2024-05-25T00:00:00\",\"2024-05-19T00:00:00\",\"2024-06-21T00:00:00\",\"2024-07-13T00:00:00\",\"2024-05-25T00:00:00\",\"2024-05-06T00:00:00\",\"2024-05-21T00:00:00\",\"2024-06-11T00:00:00\",\"2024-07-02T00:00:00\",\"2024-06-24T00:00:00\",\"2024-04-13T00:00:00\",\"2024-07-01T00:00:00\",\"2024-05-01T00:00:00\",\"2024-06-19T00:00:00\",\"2024-06-06T00:00:00\",\"2024-07-09T00:00:00\",\"2024-07-04T00:00:00\",\"2024-07-03T00:00:00\",\"2024-04-15T00:00:00\",\"2024-07-06T00:00:00\",\"2024-06-19T00:00:00\",\"2024-06-19T00:00:00\",\"2024-04-19T00:00:00\",\"2024-06-05T00:00:00\",\"2024-06-28T00:00:00\",\"2024-07-09T00:00:00\",\"2024-06-10T00:00:00\",\"2024-07-14T00:00:00\",\"2024-04-29T00:00:00\",\"2024-06-27T00:00:00\",\"2024-04-24T00:00:00\",\"2024-06-01T00:00:00\",\"2024-04-11T00:00:00\",\"2024-05-18T00:00:00\",\"2024-07-03T00:00:00\",\"2024-07-10T00:00:00\",\"2024-04-18T00:00:00\",\"2024-07-13T00:00:00\",\"2024-07-14T00:00:00\",\"2024-06-21T00:00:00\",\"2024-07-09T00:00:00\",\"2024-07-01T00:00:00\",\"2024-05-03T00:00:00\",\"2024-07-01T00:00:00\",\"2024-06-18T00:00:00\",\"2024-07-10T00:00:00\",\"2024-07-04T00:00:00\",\"2024-07-01T00:00:00\",\"2024-06-14T00:00:00\",\"2024-07-13T00:00:00\",\"2024-05-20T00:00:00\",\"2024-07-08T00:00:00\",\"2024-06-24T00:00:00\",\"2024-04-24T00:00:00\",\"2024-06-04T00:00:00\",\"2024-05-16T00:00:00\",\"2024-07-02T00:00:00\",\"2024-05-20T00:00:00\",\"2024-06-08T00:00:00\",\"2024-06-26T00:00:00\",\"2024-06-08T00:00:00\",\"2024-04-08T00:00:00\",\"2024-06-24T00:00:00\",\"2024-06-14T00:00:00\",\"2024-06-18T00:00:00\",\"2024-04-16T00:00:00\",\"2024-06-27T00:00:00\",\"2024-05-20T00:00:00\",\"2024-04-24T00:00:00\",\"2024-06-10T00:00:00\",\"2024-05-08T00:00:00\",\"2024-04-20T00:00:00\",\"2024-06-08T00:00:00\",\"2024-04-26T00:00:00\",\"2024-07-09T00:00:00\",\"2024-07-05T00:00:00\",\"2024-05-16T00:00:00\",\"2024-07-08T00:00:00\",\"2024-06-22T00:00:00\",\"2024-06-11T00:00:00\",\"2024-05-29T00:00:00\",\"2024-07-12T00:00:00\",\"2024-04-17T00:00:00\",\"2024-04-11T00:00:00\",\"2024-06-27T00:00:00\",\"2024-05-02T00:00:00\",\"2024-04-19T00:00:00\",\"2024-07-03T00:00:00\",\"2024-04-02T00:00:00\",\"2024-07-01T00:00:00\",\"2024-04-14T00:00:00\",\"2024-05-25T00:00:00\",\"2024-05-25T00:00:00\",\"2024-06-06T00:00:00\",\"2024-06-22T00:00:00\",\"2024-07-03T00:00:00\",\"2024-06-17T00:00:00\",\"2024-05-01T00:00:00\",\"2024-06-11T00:00:00\",\"2024-04-22T00:00:00\",\"2024-06-12T00:00:00\",\"2024-06-24T00:00:00\",\"2024-06-08T00:00:00\",\"2024-05-19T00:00:00\",\"2024-06-22T00:00:00\",\"2024-07-05T00:00:00\",\"2024-05-20T00:00:00\",\"2024-07-13T00:00:00\",\"2024-06-08T00:00:00\",\"2024-06-20T00:00:00\",\"2024-07-02T00:00:00\",\"2024-06-26T00:00:00\",\"2024-06-08T00:00:00\",\"2024-07-08T00:00:00\",\"2024-06-27T00:00:00\",\"2024-07-05T00:00:00\",\"2024-05-29T00:00:00\",\"2024-04-24T00:00:00\",\"2024-06-21T00:00:00\",\"2024-06-25T00:00:00\",\"2024-03-30T00:00:00\",\"2024-06-16T00:00:00\",\"2024-05-06T00:00:00\",\"2024-07-09T00:00:00\",\"2024-05-08T00:00:00\",\"2024-05-28T00:00:00\",\"2024-06-11T00:00:00\",\"2024-05-21T00:00:00\",\"2024-06-25T00:00:00\",\"2024-05-09T00:00:00\",\"2024-07-03T00:00:00\",\"2024-04-02T00:00:00\",\"2024-06-04T00:00:00\",\"2024-07-03T00:00:00\",\"2024-04-20T00:00:00\",\"2024-04-22T00:00:00\",\"2024-04-30T00:00:00\",\"2024-04-23T00:00:00\",\"2024-06-24T00:00:00\",\"2024-05-13T00:00:00\",\"2024-05-11T00:00:00\",\"2024-04-13T00:00:00\",\"2024-06-18T00:00:00\",\"2024-06-17T00:00:00\",\"2024-06-17T00:00:00\",\"2024-06-05T00:00:00\",\"2024-07-15T00:00:00\",\"2024-06-20T00:00:00\",\"2024-05-16T00:00:00\",\"2024-04-24T00:00:00\",\"2018-02-06T00:00:00\",\"2024-06-04T00:00:00\",\"2024-06-06T00:00:00\",\"2024-07-06T00:00:00\",\"2024-05-16T00:00:00\",\"2024-04-19T00:00:00\",\"2024-06-14T00:00:00\",\"2024-05-23T00:00:00\",\"2024-06-10T00:00:00\",\"2024-05-29T00:00:00\",\"2024-04-30T00:00:00\",\"2024-05-22T00:00:00\",\"2024-05-22T00:00:00\",\"2024-07-15T00:00:00\",\"2024-07-05T00:00:00\",\"2024-05-27T00:00:00\",\"2024-04-22T00:00:00\",\"2024-05-22T00:00:00\",\"2024-06-09T00:00:00\",\"2024-06-23T00:00:00\",\"2024-05-21T00:00:00\",\"2024-07-15T00:00:00\",\"2024-05-14T00:00:00\",\"2024-07-15T00:00:00\",\"2024-04-16T00:00:00\",\"2024-07-10T00:00:00\",\"2024-06-12T00:00:00\",\"2024-05-31T00:00:00\",\"2024-05-29T00:00:00\",\"2024-05-28T00:00:00\",\"2024-06-23T00:00:00\",\"2024-07-01T00:00:00\",\"2024-06-15T00:00:00\",\"2024-05-22T00:00:00\",\"2024-05-24T00:00:00\",\"2024-06-29T00:00:00\",\"2024-05-29T00:00:00\",\"2024-06-06T00:00:00\",\"2024-05-03T00:00:00\",\"2024-05-11T00:00:00\",\"2024-06-07T00:00:00\",\"2024-05-22T00:00:00\",\"2024-04-28T00:00:00\",\"2024-04-22T00:00:00\",\"2024-04-20T00:00:00\",\"2024-06-10T00:00:00\",\"2024-05-27T00:00:00\",\"2024-06-03T00:00:00\",\"2024-06-24T00:00:00\",\"2024-07-08T00:00:00\",\"2024-05-13T00:00:00\",\"2024-05-01T00:00:00\",\"2024-05-22T00:00:00\",\"2024-07-13T00:00:00\",\"2024-04-05T00:00:00\",\"2024-06-24T00:00:00\",\"2024-05-25T00:00:00\",\"2024-06-25T00:00:00\",\"2024-07-10T00:00:00\",\"2024-07-04T00:00:00\",\"2024-04-01T00:00:00\",\"2024-06-24T00:00:00\",\"2024-07-05T00:00:00\",\"2024-07-11T00:00:00\",\"2024-06-21T00:00:00\",\"2024-05-01T00:00:00\",\"2024-04-26T00:00:00\",\"2024-05-07T00:00:00\",\"2024-07-01T00:00:00\",\"2024-04-25T00:00:00\",\"2024-04-22T00:00:00\",\"2024-04-03T00:00:00\",\"2024-06-03T00:00:00\",\"2024-06-28T00:00:00\",\"2024-06-26T00:00:00\",\"2024-06-26T00:00:00\",\"2024-05-13T00:00:00\",\"2024-06-27T00:00:00\",\"2024-06-27T00:00:00\",\"2024-07-11T00:00:00\",\"2024-07-02T00:00:00\",\"2024-05-30T00:00:00\",\"2024-07-01T00:00:00\",\"2024-07-12T00:00:00\",\"2024-05-20T00:00:00\",\"2024-06-05T00:00:00\",\"2024-04-30T00:00:00\",\"2024-05-28T00:00:00\",\"2024-05-10T00:00:00\",\"2024-07-02T00:00:00\",\"2024-06-21T00:00:00\",\"2024-07-07T00:00:00\",\"2024-05-20T00:00:00\",\"2024-05-09T00:00:00\",\"2024-06-25T00:00:00\",\"2024-06-24T00:00:00\",\"2024-05-17T00:00:00\",\"2024-05-26T00:00:00\",\"2024-07-01T00:00:00\",\"2024-06-24T00:00:00\",\"2024-07-01T00:00:00\",\"2024-04-19T00:00:00\",\"2024-06-02T00:00:00\",\"2024-03-30T00:00:00\",\"2024-05-29T00:00:00\",\"2018-02-06T00:00:00\",\"2024-06-13T00:00:00\",\"2024-06-25T00:00:00\",\"2024-05-25T00:00:00\",\"2024-06-01T00:00:00\",\"2024-07-16T00:00:00\",\"2024-05-05T00:00:00\",\"2024-06-18T00:00:00\",\"2024-05-18T00:00:00\",\"2024-06-06T00:00:00\",\"2024-04-26T00:00:00\",\"2024-07-15T00:00:00\",\"2024-04-16T00:00:00\",\"2024-05-04T00:00:00\",\"2024-05-13T00:00:00\",\"2024-06-19T00:00:00\",\"2024-06-26T00:00:00\",\"2024-04-20T00:00:00\",\"2024-05-05T00:00:00\",\"2024-04-26T00:00:00\",\"2024-05-01T00:00:00\",\"2024-04-24T00:00:00\",\"2024-04-09T00:00:00\",\"2024-04-26T00:00:00\",\"2024-06-10T00:00:00\",\"2024-04-25T00:00:00\",\"2024-06-05T00:00:00\",\"2024-07-13T00:00:00\",\"2024-06-20T00:00:00\",\"2024-05-16T00:00:00\",\"2024-05-06T00:00:00\",\"2024-05-21T00:00:00\",\"2024-06-13T00:00:00\",\"2024-04-15T00:00:00\",\"2024-06-11T00:00:00\",\"2024-05-13T00:00:00\",\"2024-06-12T00:00:00\",\"2024-06-22T00:00:00\",\"2024-05-06T00:00:00\",\"2024-05-09T00:00:00\",\"2024-07-03T00:00:00\",\"2024-07-10T00:00:00\",\"2024-05-22T00:00:00\",\"2024-07-13T00:00:00\",\"2024-04-18T00:00:00\",\"2024-05-24T00:00:00\",\"2024-07-04T00:00:00\",\"2024-06-28T00:00:00\",\"2024-06-28T00:00:00\",\"2024-07-14T00:00:00\",\"2024-05-06T00:00:00\",\"2024-06-20T00:00:00\",\"2024-06-06T00:00:00\",\"2024-05-20T00:00:00\",\"2024-07-15T00:00:00\",\"2024-07-01T00:00:00\",\"2024-07-15T00:00:00\",\"2024-05-29T00:00:00\",\"2024-06-23T00:00:00\",\"2024-07-02T00:00:00\",\"2024-06-15T00:00:00\",\"2024-06-11T00:00:00\",\"2024-03-30T00:00:00\",\"2024-06-24T00:00:00\",\"2024-06-27T00:00:00\",\"2024-06-22T00:00:00\",\"2024-04-16T00:00:00\",\"2024-07-12T00:00:00\",\"2024-07-08T00:00:00\",\"2024-06-25T00:00:00\",\"2024-05-24T00:00:00\",\"2024-06-07T00:00:00\",\"2024-07-16T00:00:00\",\"2024-05-22T00:00:00\",\"2024-07-11T00:00:00\",\"2024-04-18T00:00:00\",\"2024-07-10T00:00:00\",\"2024-06-11T00:00:00\",\"2024-05-02T00:00:00\",\"2024-06-11T00:00:00\",\"2024-03-11T00:00:00\",\"2024-04-11T00:00:00\",\"2024-06-13T00:00:00\",\"2024-04-29T00:00:00\",\"2024-07-08T00:00:00\",\"2024-06-22T00:00:00\",\"2024-06-15T00:00:00\",\"2024-06-26T00:00:00\",\"2024-05-23T00:00:00\",\"2024-05-11T00:00:00\",\"2024-04-29T00:00:00\",\"2024-04-03T00:00:00\",\"2024-06-24T00:00:00\",\"2024-06-30T00:00:00\",\"2024-06-06T00:00:00\",\"2024-06-27T00:00:00\",\"2024-07-10T00:00:00\",\"2024-07-15T00:00:00\",\"2024-06-29T00:00:00\",\"2024-06-10T00:00:00\",\"2024-05-11T00:00:00\",\"2024-06-26T00:00:00\",\"2024-07-01T00:00:00\",\"2024-05-30T00:00:00\",\"2024-06-24T00:00:00\",\"2024-05-17T00:00:00\",\"2024-04-09T00:00:00\",\"2024-06-07T00:00:00\",\"2024-07-14T00:00:00\",\"2024-04-01T00:00:00\",\"2024-05-27T00:00:00\",\"2024-05-14T00:00:00\",\"2024-05-20T00:00:00\",\"2024-06-10T00:00:00\",\"2024-07-08T00:00:00\",\"2024-06-12T00:00:00\",\"2024-07-08T00:00:00\",\"2024-06-13T00:00:00\",\"2024-06-12T00:00:00\",\"2024-05-24T00:00:00\",\"2024-03-31T00:00:00\",\"2024-05-30T00:00:00\",\"2024-07-11T00:00:00\",\"2024-04-03T00:00:00\",\"1997-04-28T00:00:00\",\"2024-04-14T00:00:00\",\"2024-05-09T00:00:00\",\"2024-04-07T00:00:00\",\"2024-06-24T00:00:00\",\"2024-07-13T00:00:00\",\"2024-07-02T00:00:00\",\"2024-05-18T00:00:00\",\"2024-04-12T00:00:00\",\"2024-06-26T00:00:00\",\"2024-07-08T00:00:00\",\"2024-05-11T00:00:00\",\"2024-06-26T00:00:00\",\"2024-04-15T00:00:00\",\"2024-05-09T00:00:00\",\"2024-06-11T00:00:00\",\"2024-06-12T00:00:00\",\"2024-04-08T00:00:00\",\"2024-07-03T00:00:00\",\"2024-06-29T00:00:00\",\"2024-05-16T00:00:00\",\"2024-05-16T00:00:00\",\"2024-05-05T00:00:00\",\"2024-07-09T00:00:00\",\"2024-04-21T00:00:00\",\"2024-06-24T00:00:00\",\"2024-06-17T00:00:00\",\"2024-07-15T00:00:00\",\"2024-07-15T00:00:00\",\"2024-05-21T00:00:00\",\"2024-04-30T00:00:00\",\"2024-05-15T00:00:00\",\"2024-05-14T00:00:00\",\"2024-05-10T00:00:00\",\"2024-06-17T00:00:00\",\"2024-07-10T00:00:00\",\"2024-07-04T00:00:00\",\"2024-06-30T00:00:00\",\"2024-04-01T00:00:00\",\"2024-06-11T00:00:00\",\"2024-04-04T00:00:00\",\"2024-05-28T00:00:00\",\"2024-05-10T00:00:00\",\"2024-05-16T00:00:00\",\"2024-03-30T00:00:00\",\"2024-06-07T00:00:00\",\"2024-05-05T00:00:00\",\"2024-06-18T00:00:00\",\"2024-05-24T00:00:00\",\"2024-04-26T00:00:00\",\"2024-05-26T00:00:00\",\"2024-07-14T00:00:00\",\"2024-04-21T00:00:00\",\"2024-04-06T00:00:00\",\"2024-04-09T00:00:00\",\"2024-06-11T00:00:00\",\"2024-07-01T00:00:00\",\"2024-05-16T00:00:00\",\"2024-05-12T00:00:00\",\"2024-05-09T00:00:00\",\"2024-05-24T00:00:00\",\"2024-05-06T00:00:00\",\"2024-03-30T00:00:00\",\"2024-07-08T00:00:00\",\"2024-04-23T00:00:00\",\"2024-05-28T00:00:00\",\"2024-07-08T00:00:00\",\"2024-04-13T00:00:00\",\"2024-05-12T00:00:00\",\"2024-05-27T00:00:00\",\"2024-06-07T00:00:00\",\"2024-05-10T00:00:00\",\"2024-04-27T00:00:00\",\"2024-04-24T00:00:00\",\"2024-07-06T00:00:00\",\"2024-04-17T00:00:00\",\"2024-04-01T00:00:00\",\"2024-07-01T00:00:00\",\"2024-05-08T00:00:00\",\"2024-06-03T00:00:00\",\"2024-07-01T00:00:00\",\"2024-06-30T00:00:00\",\"2024-04-19T00:00:00\",\"2024-05-07T00:00:00\",\"2024-05-13T00:00:00\",\"2024-05-10T00:00:00\",\"2024-07-09T00:00:00\",\"2024-06-14T00:00:00\",\"2024-04-25T00:00:00\",\"2024-07-03T00:00:00\",\"2024-04-08T00:00:00\",\"2024-07-16T00:00:00\",\"2024-06-19T00:00:00\",\"2024-06-17T00:00:00\",\"2024-06-23T00:00:00\",\"2024-06-14T00:00:00\",\"2024-04-10T00:00:00\",\"2024-05-24T00:00:00\",\"2024-04-24T00:00:00\",\"2024-04-16T00:00:00\",\"2024-05-09T00:00:00\",\"2024-05-03T00:00:00\",\"2024-06-29T00:00:00\",\"2024-04-21T00:00:00\",\"2024-04-04T00:00:00\",\"2024-06-17T00:00:00\",\"2024-06-26T00:00:00\",\"2024-07-16T00:00:00\",\"2024-07-01T00:00:00\",\"2024-06-18T00:00:00\",\"2024-06-14T00:00:00\",\"2024-06-06T00:00:00\",\"2024-06-25T00:00:00\",\"2024-05-27T00:00:00\",\"2024-06-29T00:00:00\",\"2024-07-14T00:00:00\",\"2024-04-30T00:00:00\",\"2024-05-13T00:00:00\",\"2024-04-22T00:00:00\",\"2024-06-11T00:00:00\",\"2024-06-19T00:00:00\",\"2024-04-22T00:00:00\",\"2024-07-08T00:00:00\",\"2024-04-30T00:00:00\",\"2024-04-21T00:00:00\",\"2024-04-23T00:00:00\",\"2024-05-06T00:00:00\",\"2024-06-01T00:00:00\",\"2024-04-17T00:00:00\",\"2024-07-15T00:00:00\",\"2024-07-12T00:00:00\",\"2024-06-05T00:00:00\",\"2024-07-14T00:00:00\",\"2024-07-12T00:00:00\",\"2024-06-12T00:00:00\",\"2024-07-13T00:00:00\",\"2024-06-19T00:00:00\",\"2024-05-14T00:00:00\",\"2024-07-15T00:00:00\",\"2024-04-03T00:00:00\",\"2024-07-05T00:00:00\",\"2024-05-15T00:00:00\",\"2024-06-07T00:00:00\",\"2024-07-10T00:00:00\",\"2024-07-02T00:00:00\",\"2024-06-13T00:00:00\",\"2024-05-06T00:00:00\",\"2024-06-05T00:00:00\",\"2024-04-23T00:00:00\",\"2024-06-18T00:00:00\",\"2024-04-24T00:00:00\",\"2024-04-17T00:00:00\",\"2024-06-07T00:00:00\",\"2024-04-09T00:00:00\",\"2024-07-15T00:00:00\",\"2024-05-17T00:00:00\",\"2024-07-11T00:00:00\",\"2024-05-15T00:00:00\",\"2024-06-19T00:00:00\",\"2024-04-24T00:00:00\",\"2024-07-02T00:00:00\",\"2024-07-07T00:00:00\",\"2024-06-03T00:00:00\",\"2024-07-08T00:00:00\",\"2024-06-25T00:00:00\",\"2024-06-20T00:00:00\",\"2024-06-05T00:00:00\",\"2024-05-23T00:00:00\",\"2024-06-13T00:00:00\",\"2024-06-10T00:00:00\",\"2024-07-16T00:00:00\",\"2024-04-18T00:00:00\",\"2024-05-30T00:00:00\",\"2024-07-06T00:00:00\",\"2024-07-06T00:00:00\",\"2024-05-19T00:00:00\",\"2024-06-30T00:00:00\",\"2024-06-07T00:00:00\",\"2024-06-24T00:00:00\",\"2024-05-09T00:00:00\",\"2024-04-09T00:00:00\",\"2024-06-12T00:00:00\",\"2024-07-16T00:00:00\",\"2024-04-01T00:00:00\",\"2024-07-01T00:00:00\",\"2024-07-12T00:00:00\",\"2024-06-17T00:00:00\",\"2024-06-28T00:00:00\",\"2024-05-27T00:00:00\",\"2024-06-24T00:00:00\",\"2024-05-01T00:00:00\",\"2024-05-12T00:00:00\",\"2024-06-12T00:00:00\",\"2024-05-11T00:00:00\",\"2024-06-04T00:00:00\",\"2024-07-10T00:00:00\",\"2024-07-10T00:00:00\",\"2024-04-24T00:00:00\",\"2024-07-13T00:00:00\",\"2024-06-07T00:00:00\",\"2024-07-12T00:00:00\",\"2024-05-27T00:00:00\",\"2024-05-19T00:00:00\",\"2024-07-13T00:00:00\",\"2024-05-27T00:00:00\",\"2024-06-18T00:00:00\",\"2024-07-15T00:00:00\",\"2024-04-12T00:00:00\",\"2024-07-11T00:00:00\",\"2024-06-15T00:00:00\",\"2024-06-26T00:00:00\",\"2024-07-15T00:00:00\",\"2024-05-21T00:00:00\",\"2024-04-21T00:00:00\",\"2024-05-03T00:00:00\",\"2024-06-29T00:00:00\",\"2024-04-29T00:00:00\",\"2024-06-25T00:00:00\",\"2024-06-10T00:00:00\",\"2024-07-15T00:00:00\",\"2024-05-23T00:00:00\",\"2024-07-12T00:00:00\",\"2024-05-02T00:00:00\",\"2024-05-13T00:00:00\",\"2024-07-08T00:00:00\",\"2024-03-31T00:00:00\",\"2024-04-22T00:00:00\",\"2024-05-23T00:00:00\",\"2024-06-29T00:00:00\",\"2024-06-28T00:00:00\",\"2024-06-23T00:00:00\",\"2024-04-18T00:00:00\",\"2024-07-08T00:00:00\",\"2024-03-30T00:00:00\",\"2024-06-18T00:00:00\",\"2024-05-17T00:00:00\",\"2024-06-25T00:00:00\",\"2024-06-27T00:00:00\",\"2024-04-21T00:00:00\",\"2024-06-21T00:00:00\",\"2024-03-31T00:00:00\",\"2024-05-24T00:00:00\",\"2024-07-09T00:00:00\",\"2024-05-21T00:00:00\",\"2024-04-11T00:00:00\",\"2024-05-13T00:00:00\",\"2024-05-19T00:00:00\",\"2024-06-14T00:00:00\",\"2024-04-18T00:00:00\",\"2024-06-18T00:00:00\",\"2024-07-02T00:00:00\",\"2024-06-17T00:00:00\",\"2024-06-10T00:00:00\",\"2024-07-07T00:00:00\",\"2024-05-23T00:00:00\",\"2024-04-21T00:00:00\",\"2024-06-10T00:00:00\",\"2024-06-01T00:00:00\",\"2024-06-19T00:00:00\",\"2024-07-08T00:00:00\",\"2024-07-02T00:00:00\",\"2024-07-03T00:00:00\",\"2024-05-06T00:00:00\",\"2024-05-30T00:00:00\",\"2024-06-26T00:00:00\",\"2024-06-15T00:00:00\",\"2024-05-20T00:00:00\",\"2024-06-11T00:00:00\",\"2024-06-30T00:00:00\",\"2024-07-16T00:00:00\",\"2024-05-06T00:00:00\",\"2024-04-30T00:00:00\",\"2024-04-18T00:00:00\",\"2024-06-27T00:00:00\",\"2024-06-06T00:00:00\",\"2024-06-03T00:00:00\",\"2024-06-26T00:00:00\",\"2024-04-02T00:00:00\",\"2024-06-03T00:00:00\",\"2024-05-16T00:00:00\",\"2024-05-20T00:00:00\",\"2024-06-14T00:00:00\",\"2024-05-27T00:00:00\",\"2024-06-01T00:00:00\",\"2024-05-20T00:00:00\",\"2024-06-02T00:00:00\",\"2024-06-13T00:00:00\",\"2024-06-27T00:00:00\",\"2024-06-02T00:00:00\",\"2024-06-20T00:00:00\",\"2024-06-21T00:00:00\",\"2024-04-17T00:00:00\",\"2024-05-22T00:00:00\",\"2024-05-17T00:00:00\",\"2024-05-12T00:00:00\",\"2024-07-14T00:00:00\",\"2024-05-14T00:00:00\",\"2024-07-15T00:00:00\",\"2024-05-17T00:00:00\",\"2024-05-02T00:00:00\",\"2024-05-31T00:00:00\",\"2024-05-23T00:00:00\",\"2024-06-24T00:00:00\",\"2024-05-27T00:00:00\",\"2024-04-15T00:00:00\",\"2024-05-21T00:00:00\",\"2024-07-11T00:00:00\",\"2024-06-17T00:00:00\",\"2024-06-21T00:00:00\",\"2024-07-16T00:00:00\",\"2024-07-14T00:00:00\",\"2024-06-27T00:00:00\",\"2024-05-21T00:00:00\",\"2024-04-24T00:00:00\",\"2024-06-06T00:00:00\",\"2024-07-01T00:00:00\",\"2024-06-03T00:00:00\",\"2024-06-11T00:00:00\",\"2024-05-27T00:00:00\",\"2024-07-11T00:00:00\",\"2024-06-23T00:00:00\",\"2024-06-12T00:00:00\",\"2024-06-20T00:00:00\",\"2024-06-12T00:00:00\",\"2024-06-23T00:00:00\",\"2024-05-28T00:00:00\",\"2024-06-22T00:00:00\",\"2024-05-26T00:00:00\",\"2024-04-28T00:00:00\",\"2024-06-24T00:00:00\",\"2024-04-29T00:00:00\",\"2024-05-08T00:00:00\",\"2024-04-10T00:00:00\",\"2024-06-13T00:00:00\",\"2024-06-05T00:00:00\",\"2024-04-14T00:00:00\",\"2024-06-05T00:00:00\",\"2024-06-24T00:00:00\",\"2024-06-18T00:00:00\",\"2024-07-03T00:00:00\",\"2024-05-22T00:00:00\",\"2024-06-06T00:00:00\",\"2024-05-29T00:00:00\",\"2024-05-27T00:00:00\",\"2024-05-15T00:00:00\",\"2024-06-05T00:00:00\",\"2024-06-11T00:00:00\",\"2024-07-12T00:00:00\",\"2024-04-02T00:00:00\",\"2024-07-03T00:00:00\",\"2024-07-09T00:00:00\",\"2024-02-28T00:00:00\",\"2024-07-11T00:00:00\",\"2024-04-06T00:00:00\",\"2024-05-21T00:00:00\",\"2024-07-08T00:00:00\",\"2024-04-30T00:00:00\",\"2024-04-08T00:00:00\",\"2024-06-27T00:00:00\",\"2024-05-01T00:00:00\",\"2024-05-30T00:00:00\",\"2024-06-28T00:00:00\",\"2024-06-07T00:00:00\",\"2024-05-04T00:00:00\",\"2024-06-29T00:00:00\",\"2024-04-24T00:00:00\",\"2024-05-07T00:00:00\",\"2024-07-01T00:00:00\",\"2024-07-03T00:00:00\",\"2024-05-27T00:00:00\",\"2024-06-20T00:00:00\",\"2024-02-02T00:00:00\",\"2024-05-10T00:00:00\",\"2024-07-04T00:00:00\",\"2024-07-16T00:00:00\",\"2024-05-15T00:00:00\",\"2024-06-27T00:00:00\",\"2024-05-17T00:00:00\",\"2024-06-02T00:00:00\",\"2024-06-11T00:00:00\",\"2024-06-30T00:00:00\",\"2024-05-14T00:00:00\",\"2024-04-14T00:00:00\",\"2024-06-13T00:00:00\",\"2024-07-12T00:00:00\",\"2024-05-27T00:00:00\",\"2024-05-12T00:00:00\",\"2024-06-14T00:00:00\",\"2024-06-04T00:00:00\",\"2024-04-05T00:00:00\",\"2024-07-12T00:00:00\",\"2024-07-15T00:00:00\",\"2024-07-16T00:00:00\",\"2024-06-29T00:00:00\",\"2024-06-18T00:00:00\",\"2024-06-20T00:00:00\",\"2024-06-21T00:00:00\",\"2024-06-24T00:00:00\",\"2024-07-01T00:00:00\",\"2024-06-05T00:00:00\",\"2024-06-03T00:00:00\",\"2024-06-24T00:00:00\",\"2024-05-03T00:00:00\",\"2024-05-30T00:00:00\",\"2024-04-07T00:00:00\",\"2024-05-22T00:00:00\",\"2024-05-01T00:00:00\",\"2024-04-04T00:00:00\",\"2024-05-28T00:00:00\",\"2024-05-02T00:00:00\",\"2024-07-15T00:00:00\",\"2024-04-22T00:00:00\",\"2024-04-24T00:00:00\",\"2024-06-06T00:00:00\",\"2024-04-28T00:00:00\",\"2024-04-29T00:00:00\",\"2024-04-26T00:00:00\",\"2024-05-02T00:00:00\",\"2024-04-30T00:00:00\",\"2024-06-21T00:00:00\",\"2024-04-23T00:00:00\",\"2024-04-02T00:00:00\",\"2024-05-13T00:00:00\",\"2024-05-20T00:00:00\",\"2024-06-20T00:00:00\",\"2024-07-15T00:00:00\",\"2024-06-04T00:00:00\",\"2024-06-20T00:00:00\",\"2024-05-06T00:00:00\",\"2024-07-12T00:00:00\",\"2024-07-10T00:00:00\",\"2024-06-10T00:00:00\",\"2024-06-17T00:00:00\",\"2024-07-03T00:00:00\",\"2024-07-12T00:00:00\",\"2024-07-01T00:00:00\",\"2024-06-24T00:00:00\",\"2024-06-03T00:00:00\",\"2024-04-22T00:00:00\",\"2024-06-07T00:00:00\",\"2024-05-09T00:00:00\",\"2024-06-27T00:00:00\",\"2024-06-08T00:00:00\",\"2024-06-28T00:00:00\",\"2024-07-01T00:00:00\",\"2024-06-18T00:00:00\",\"2024-06-18T00:00:00\",\"2024-05-06T00:00:00\",\"2024-06-02T00:00:00\",\"2024-06-22T00:00:00\",\"2024-07-02T00:00:00\",\"2024-06-25T00:00:00\",\"2024-05-02T00:00:00\",\"2024-03-27T00:00:00\",\"2024-05-12T00:00:00\",\"2024-07-13T00:00:00\",\"2024-07-12T00:00:00\",\"2024-06-24T00:00:00\",\"2024-06-20T00:00:00\",\"2024-07-07T00:00:00\",\"2024-05-22T00:00:00\",\"2024-07-07T00:00:00\",\"2024-07-10T00:00:00\",\"2024-04-29T00:00:00\",\"2024-07-02T00:00:00\",\"2024-04-03T00:00:00\",\"2024-07-10T00:00:00\",\"2024-04-21T00:00:00\",\"2024-06-18T00:00:00\",\"2024-06-30T00:00:00\",\"2024-03-29T00:00:00\",\"2024-07-01T00:00:00\",\"2024-05-29T00:00:00\",\"2024-05-22T00:00:00\",\"2024-06-20T00:00:00\",\"2024-07-08T00:00:00\",\"2024-05-09T00:00:00\",\"2024-06-24T00:00:00\",\"2024-07-01T00:00:00\",\"2024-06-09T00:00:00\",\"2024-06-01T00:00:00\",\"2024-04-28T00:00:00\",\"2024-05-13T00:00:00\",\"2024-06-21T00:00:00\",\"2024-04-25T00:00:00\",\"2024-07-15T00:00:00\",\"2024-06-28T00:00:00\",\"2024-06-13T00:00:00\",\"2024-04-19T00:00:00\",\"2024-05-10T00:00:00\",\"2024-05-04T00:00:00\",\"2018-02-06T00:00:00\",\"2024-06-25T00:00:00\",\"2024-07-02T00:00:00\",\"2024-04-24T00:00:00\",\"2024-07-02T00:00:00\",\"2024-05-21T00:00:00\",\"2024-07-09T00:00:00\",\"2024-07-07T00:00:00\",\"2024-05-27T00:00:00\",\"2024-07-01T00:00:00\",\"2024-07-08T00:00:00\",\"2024-06-10T00:00:00\",\"2024-04-17T00:00:00\",\"2024-06-05T00:00:00\",\"2024-07-13T00:00:00\",\"2024-06-03T00:00:00\",\"2024-05-07T00:00:00\",\"2024-06-13T00:00:00\",\"2024-06-21T00:00:00\",\"2024-06-28T00:00:00\",\"2024-06-11T00:00:00\",\"2024-06-02T00:00:00\",\"2024-07-14T00:00:00\",\"2024-06-22T00:00:00\",\"2024-07-11T00:00:00\",\"2024-07-09T00:00:00\",\"2024-07-10T00:00:00\",\"2024-03-06T00:00:00\",\"2024-05-19T00:00:00\",\"2024-05-02T00:00:00\",\"2024-06-03T00:00:00\",\"2024-07-01T00:00:00\",\"2024-07-14T00:00:00\",\"2024-07-11T00:00:00\",\"2024-07-08T00:00:00\",\"2024-04-28T00:00:00\",\"2024-06-11T00:00:00\",\"2024-05-20T00:00:00\",\"2024-06-27T00:00:00\",\"2024-06-11T00:00:00\",\"2024-05-27T00:00:00\",\"2024-07-10T00:00:00\",\"2024-07-03T00:00:00\",\"2024-05-15T00:00:00\",\"2024-07-15T00:00:00\",\"2024-06-19T00:00:00\",\"2024-05-21T00:00:00\",\"2024-07-01T00:00:00\",\"2024-06-06T00:00:00\",\"2024-05-27T00:00:00\",\"2024-05-04T00:00:00\",\"2024-05-02T00:00:00\",\"2024-07-10T00:00:00\",\"2024-04-15T00:00:00\",\"2024-06-19T00:00:00\",\"2024-04-26T00:00:00\",\"2024-05-21T00:00:00\",\"2024-06-20T00:00:00\",\"2024-05-14T00:00:00\",\"2024-05-29T00:00:00\",\"2024-07-12T00:00:00\",\"2024-06-03T00:00:00\",\"2024-07-16T00:00:00\",\"2024-06-15T00:00:00\",\"2024-07-12T00:00:00\",\"2024-07-07T00:00:00\",\"2024-04-07T00:00:00\",\"2024-04-25T00:00:00\",\"2024-05-16T00:00:00\",\"2024-05-06T00:00:00\",\"2024-06-26T00:00:00\",\"2024-06-30T00:00:00\",\"2024-04-20T00:00:00\",\"2024-04-25T00:00:00\",\"2024-06-25T00:00:00\",\"2024-06-07T00:00:00\",\"2024-07-12T00:00:00\",\"2024-05-28T00:00:00\",\"2024-05-24T00:00:00\",\"2024-06-25T00:00:00\",\"2024-04-28T00:00:00\",\"2024-07-09T00:00:00\",\"2024-06-25T00:00:00\",\"2024-06-23T00:00:00\",\"2024-06-29T00:00:00\",\"2024-04-04T00:00:00\",\"2024-06-17T00:00:00\",\"2024-04-17T00:00:00\",\"2024-07-10T00:00:00\",\"2024-07-05T00:00:00\",\"2024-05-23T00:00:00\",\"2024-04-20T00:00:00\",\"2024-05-24T00:00:00\",\"2024-06-03T00:00:00\",\"2024-06-17T00:00:00\",\"2024-06-04T00:00:00\",\"2024-07-15T00:00:00\",\"2024-07-09T00:00:00\",\"2024-06-17T00:00:00\",\"2024-04-27T00:00:00\",\"2024-06-22T00:00:00\",\"2024-07-02T00:00:00\",\"2024-05-21T00:00:00\",\"2024-05-23T00:00:00\",\"2024-07-11T00:00:00\",\"2024-06-24T00:00:00\",\"2024-04-22T00:00:00\",\"2024-05-22T00:00:00\",\"2024-05-17T00:00:00\",\"2024-04-23T00:00:00\",\"2024-05-04T00:00:00\",\"2024-07-01T00:00:00\",\"2024-05-06T00:00:00\",\"2024-05-16T00:00:00\",\"2024-06-13T00:00:00\",\"2024-07-07T00:00:00\",\"2024-05-10T00:00:00\",\"2024-03-31T00:00:00\",\"2024-07-09T00:00:00\",\"2024-04-23T00:00:00\",\"2024-05-29T00:00:00\",\"2024-04-05T00:00:00\",\"2024-07-12T00:00:00\",\"2024-05-17T00:00:00\",\"2024-06-12T00:00:00\",\"2024-05-20T00:00:00\",\"2024-06-20T00:00:00\",\"2024-07-01T00:00:00\",\"2024-04-17T00:00:00\",\"2024-06-20T00:00:00\",\"2024-07-10T00:00:00\",\"2024-06-29T00:00:00\",\"2024-05-12T00:00:00\",\"2024-05-28T00:00:00\",\"2024-06-15T00:00:00\",\"2024-06-12T00:00:00\",\"2024-07-01T00:00:00\",\"2024-06-30T00:00:00\",\"2024-07-16T00:00:00\",\"2024-05-29T00:00:00\",\"2024-06-06T00:00:00\",\"2024-05-30T00:00:00\",\"2024-04-26T00:00:00\",\"2024-04-27T00:00:00\",\"2024-07-15T00:00:00\",\"2024-07-11T00:00:00\",\"2024-04-26T00:00:00\",\"2024-07-10T00:00:00\",\"2024-07-06T00:00:00\",\"2024-06-27T00:00:00\",\"2024-04-12T00:00:00\",\"2024-07-11T00:00:00\",\"2024-07-01T00:00:00\",\"2024-07-12T00:00:00\",\"2024-05-21T00:00:00\",\"2024-04-01T00:00:00\",\"2024-04-21T00:00:00\",\"2024-05-04T00:00:00\",\"2024-06-26T00:00:00\",\"2024-06-17T00:00:00\",\"2024-06-19T00:00:00\",\"2024-07-06T00:00:00\",\"2024-04-11T00:00:00\",\"2024-05-20T00:00:00\",\"2024-06-21T00:00:00\",\"2024-06-25T00:00:00\",\"2024-05-05T00:00:00\",\"2024-06-23T00:00:00\",\"2024-05-25T00:00:00\",\"2024-05-31T00:00:00\",\"2024-04-22T00:00:00\",\"2024-04-19T00:00:00\",\"2024-04-18T00:00:00\",\"2024-06-07T00:00:00\",\"2024-06-30T00:00:00\",\"2024-06-21T00:00:00\",\"2024-05-20T00:00:00\",\"2024-06-28T00:00:00\",\"2024-05-01T00:00:00\",\"2024-07-08T00:00:00\",\"2024-05-27T00:00:00\",\"2024-04-17T00:00:00\",\"2024-05-05T00:00:00\",\"2024-07-10T00:00:00\",\"2024-05-23T00:00:00\",\"2024-06-27T00:00:00\",\"2024-04-08T00:00:00\",\"2024-06-22T00:00:00\",\"2024-07-04T00:00:00\",\"2024-06-01T00:00:00\",\"2024-06-12T00:00:00\",\"2024-05-24T00:00:00\",\"2024-05-14T00:00:00\",\"2024-06-24T00:00:00\",\"2024-07-08T00:00:00\",\"2024-06-24T00:00:00\",\"2024-07-01T00:00:00\",\"2024-06-09T00:00:00\",\"2024-05-02T00:00:00\",\"2024-05-16T00:00:00\",\"2024-07-09T00:00:00\",\"2024-06-19T00:00:00\",\"2024-05-04T00:00:00\",\"2024-06-13T00:00:00\",\"2024-05-17T00:00:00\",\"2024-06-20T00:00:00\",\"2024-06-30T00:00:00\",\"2024-05-12T00:00:00\",\"2024-05-31T00:00:00\",\"2024-04-03T00:00:00\",\"2024-04-29T00:00:00\",\"2024-06-28T00:00:00\",\"2024-05-04T00:00:00\",\"2024-07-05T00:00:00\",\"2024-06-09T00:00:00\",\"2024-05-16T00:00:00\",\"2024-06-22T00:00:00\",\"2024-04-05T00:00:00\",\"2024-07-03T00:00:00\",\"2024-07-13T00:00:00\",\"2024-06-04T00:00:00\",\"2024-06-27T00:00:00\",\"2024-06-25T00:00:00\",\"2024-07-15T00:00:00\",\"2024-06-17T00:00:00\",\"2024-04-12T00:00:00\",\"2024-07-16T00:00:00\",\"2024-04-27T00:00:00\",\"2024-04-09T00:00:00\",\"2024-04-12T00:00:00\",\"2024-04-11T00:00:00\",\"2024-05-14T00:00:00\",\"2024-06-17T00:00:00\",\"2024-06-20T00:00:00\",\"2024-06-21T00:00:00\",\"2024-04-29T00:00:00\",\"2024-06-21T00:00:00\",\"2024-06-12T00:00:00\",\"2024-07-09T00:00:00\",\"2024-04-23T00:00:00\",\"2024-05-20T00:00:00\",\"2024-05-26T00:00:00\",\"2024-04-27T00:00:00\",\"2024-06-12T00:00:00\",\"2024-07-15T00:00:00\",\"2024-05-18T00:00:00\",\"2024-06-01T00:00:00\",\"2024-06-23T00:00:00\",\"2024-06-03T00:00:00\",\"2024-06-25T00:00:00\",\"2024-05-28T00:00:00\",\"2024-05-06T00:00:00\",\"2024-07-10T00:00:00\",\"2024-06-27T00:00:00\",\"2024-06-20T00:00:00\",\"2024-04-10T00:00:00\",\"2024-07-09T00:00:00\",\"2024-06-20T00:00:00\",\"2024-04-22T00:00:00\",\"2024-06-11T00:00:00\",\"2024-06-30T00:00:00\",\"2024-07-03T00:00:00\",\"2024-07-05T00:00:00\",\"2024-07-15T00:00:00\",\"2024-07-05T00:00:00\",\"2024-05-29T00:00:00\",\"2024-06-18T00:00:00\",\"2024-07-15T00:00:00\",\"2024-06-22T00:00:00\",\"2024-07-14T00:00:00\",\"2024-07-16T00:00:00\",\"2024-06-29T00:00:00\",\"2024-05-18T00:00:00\",\"2024-07-05T00:00:00\",\"2024-04-10T00:00:00\",\"2024-07-03T00:00:00\",\"2024-07-05T00:00:00\",\"2024-04-13T00:00:00\",\"2024-07-15T00:00:00\",\"2024-06-04T00:00:00\",\"2024-04-10T00:00:00\",\"2024-05-16T00:00:00\",\"2024-04-16T00:00:00\",\"2024-06-24T00:00:00\",\"2024-05-03T00:00:00\",\"2024-06-21T00:00:00\",\"2024-07-05T00:00:00\",\"2024-07-02T00:00:00\",\"2024-07-12T00:00:00\",\"2024-07-04T00:00:00\",\"2024-07-01T00:00:00\",\"2024-07-06T00:00:00\",\"2024-04-25T00:00:00\",\"2024-04-17T00:00:00\",\"2024-04-28T00:00:00\",\"2024-06-13T00:00:00\",\"2024-04-25T00:00:00\",\"2024-07-01T00:00:00\",\"2024-07-01T00:00:00\",\"2024-06-12T00:00:00\",\"2024-07-03T00:00:00\",\"2024-06-13T00:00:00\",\"2024-04-29T00:00:00\",\"2024-06-25T00:00:00\",\"2024-06-17T00:00:00\",\"2024-04-15T00:00:00\",\"2024-06-22T00:00:00\",\"2024-05-08T00:00:00\",\"2024-04-28T00:00:00\",\"2024-04-16T00:00:00\",\"2024-06-23T00:00:00\",\"2024-05-13T00:00:00\",\"2024-06-25T00:00:00\",\"2024-04-10T00:00:00\",\"2024-03-04T00:00:00\",\"2024-07-16T00:00:00\",\"2024-06-10T00:00:00\",\"2024-05-29T00:00:00\",\"2024-05-07T00:00:00\",\"2024-04-03T00:00:00\",\"2024-05-19T00:00:00\",\"2024-06-18T00:00:00\",\"2024-07-08T00:00:00\",\"2024-06-14T00:00:00\",\"2024-05-12T00:00:00\",\"2024-07-08T00:00:00\",\"2024-07-04T00:00:00\",\"2024-05-02T00:00:00\",\"2024-04-25T00:00:00\",\"2024-04-17T00:00:00\",\"2024-07-07T00:00:00\",\"2024-05-30T00:00:00\",\"2024-07-12T00:00:00\",\"2024-07-01T00:00:00\",\"2024-04-25T00:00:00\",\"2024-05-10T00:00:00\",\"2024-05-23T00:00:00\",\"2024-05-07T00:00:00\",\"2024-04-25T00:00:00\",\"2024-04-23T00:00:00\",\"2024-06-04T00:00:00\",\"2024-06-28T00:00:00\",\"2024-06-21T00:00:00\",\"2024-06-14T00:00:00\",\"2024-05-22T00:00:00\",\"2024-07-05T00:00:00\",\"2024-06-27T00:00:00\",\"2024-05-25T00:00:00\",\"2024-04-26T00:00:00\",\"2024-04-16T00:00:00\",\"2024-05-31T00:00:00\",\"2024-06-13T00:00:00\",\"2024-06-03T00:00:00\",\"2024-05-07T00:00:00\",\"2024-06-17T00:00:00\",\"2024-01-23T00:00:00\",\"2024-06-26T00:00:00\",\"2024-06-12T00:00:00\",\"2024-06-03T00:00:00\",\"2024-04-17T00:00:00\",\"2024-05-06T00:00:00\",\"2024-06-30T00:00:00\",\"2024-07-05T00:00:00\",\"2024-07-06T00:00:00\",\"2024-06-04T00:00:00\",\"2024-06-06T00:00:00\",\"2024-07-04T00:00:00\",\"2024-06-11T00:00:00\",\"2024-07-01T00:00:00\",\"2024-06-13T00:00:00\",\"2024-06-24T00:00:00\",\"2024-06-16T00:00:00\",\"2024-04-22T00:00:00\",\"2024-07-01T00:00:00\",\"2024-06-09T00:00:00\",\"2024-05-21T00:00:00\",\"2024-06-26T00:00:00\",\"2024-06-14T00:00:00\",\"2024-05-09T00:00:00\",\"2024-06-11T00:00:00\",\"2024-06-26T00:00:00\",\"2024-06-07T00:00:00\",\"2024-06-11T00:00:00\",\"2024-07-15T00:00:00\",\"2024-06-04T00:00:00\",\"2024-05-20T00:00:00\",\"2024-07-08T00:00:00\",\"2024-07-16T00:00:00\",\"2024-04-11T00:00:00\",\"2024-04-15T00:00:00\",\"2024-05-27T00:00:00\",\"2024-07-12T00:00:00\",\"2024-06-12T00:00:00\",\"2024-04-15T00:00:00\",\"2024-05-23T00:00:00\",\"2024-06-01T00:00:00\",\"2024-05-18T00:00:00\",\"2024-06-03T00:00:00\",\"2024-04-10T00:00:00\",\"2024-06-06T00:00:00\",\"2024-05-27T00:00:00\",\"2024-07-16T00:00:00\",\"2024-04-01T00:00:00\",\"2024-06-21T00:00:00\",\"2024-06-16T00:00:00\",\"2024-05-17T00:00:00\",\"2024-05-03T00:00:00\",\"2024-06-18T00:00:00\",\"2024-04-12T00:00:00\",\"2024-05-23T00:00:00\",\"2024-05-24T00:00:00\",\"2024-03-31T00:00:00\",\"2024-04-24T00:00:00\",\"2024-05-06T00:00:00\",\"2024-07-15T00:00:00\",\"2024-05-24T00:00:00\",\"2024-06-03T00:00:00\",\"2024-07-12T00:00:00\",\"2024-05-26T00:00:00\",\"2024-06-20T00:00:00\",\"2024-06-03T00:00:00\",\"2024-06-22T00:00:00\",\"2024-05-24T00:00:00\",\"2024-06-13T00:00:00\",\"2024-07-06T00:00:00\",\"2024-07-12T00:00:00\",\"2024-07-07T00:00:00\",\"2024-05-30T00:00:00\",\"2024-07-08T00:00:00\",\"2024-07-14T00:00:00\",\"2024-06-28T00:00:00\",\"2024-05-13T00:00:00\",\"2024-05-28T00:00:00\",\"2024-03-29T00:00:00\",\"2024-05-25T00:00:00\",\"2024-05-07T00:00:00\",\"2024-04-27T00:00:00\",\"2024-06-06T00:00:00\",\"2024-06-27T00:00:00\",\"2024-04-15T00:00:00\",\"2024-06-22T00:00:00\",\"2024-06-29T00:00:00\",\"2024-05-04T00:00:00\",\"2024-05-29T00:00:00\",\"2024-06-25T00:00:00\",\"2024-05-21T00:00:00\",\"2024-06-10T00:00:00\",\"2024-05-20T00:00:00\",\"2024-05-23T00:00:00\",\"2024-07-01T00:00:00\",\"2024-06-27T00:00:00\",\"2024-07-03T00:00:00\",\"2024-07-07T00:00:00\",\"2024-06-28T00:00:00\",\"2024-05-15T00:00:00\",\"2024-04-17T00:00:00\",\"2024-05-13T00:00:00\",\"2024-05-29T00:00:00\",\"2024-04-30T00:00:00\",\"2024-05-30T00:00:00\",\"2024-06-26T00:00:00\",\"2024-03-30T00:00:00\",\"2024-06-07T00:00:00\",\"2024-06-20T00:00:00\",\"2024-05-11T00:00:00\",\"2024-05-28T00:00:00\",\"2024-06-12T00:00:00\",\"2024-06-28T00:00:00\",\"2024-04-04T00:00:00\",\"2024-06-10T00:00:00\",\"2024-03-31T00:00:00\",\"2024-06-27T00:00:00\",\"2024-04-07T00:00:00\",\"2024-04-12T00:00:00\",\"2024-06-24T00:00:00\",\"2024-06-21T00:00:00\",\"2024-06-24T00:00:00\",\"2024-05-23T00:00:00\",\"2024-06-01T00:00:00\",\"2024-06-20T00:00:00\",\"2024-06-03T00:00:00\",\"2024-05-26T00:00:00\",\"2024-06-14T00:00:00\",\"2024-03-07T00:00:00\",\"2024-07-01T00:00:00\",\"2024-07-08T00:00:00\",\"2024-05-10T00:00:00\",\"2024-04-02T00:00:00\",\"2024-06-09T00:00:00\",\"2024-06-03T00:00:00\",\"2024-07-04T00:00:00\",\"2024-06-23T00:00:00\",\"2024-04-23T00:00:00\",\"2024-06-27T00:00:00\",\"2024-06-17T00:00:00\",\"2024-04-30T00:00:00\",\"2024-05-07T00:00:00\",\"2024-05-17T00:00:00\",\"2024-07-12T00:00:00\",\"2024-04-26T00:00:00\",\"2024-06-26T00:00:00\",\"2024-04-02T00:00:00\",\"2024-07-05T00:00:00\",\"2024-06-04T00:00:00\",\"2024-06-04T00:00:00\",\"2024-06-28T00:00:00\",\"2024-05-15T00:00:00\",\"2024-06-06T00:00:00\",\"2024-05-03T00:00:00\",\"2024-07-15T00:00:00\",\"2024-07-11T00:00:00\",\"2024-06-27T00:00:00\",\"2024-04-22T00:00:00\",\"2024-06-27T00:00:00\",\"2024-07-08T00:00:00\",\"2024-07-11T00:00:00\",\"2024-07-08T00:00:00\",\"2024-06-17T00:00:00\",\"2024-07-11T00:00:00\",\"2024-07-01T00:00:00\",\"2024-06-23T00:00:00\",\"2024-05-12T00:00:00\",\"2024-07-09T00:00:00\",\"2024-04-17T00:00:00\",\"2024-07-10T00:00:00\",\"2024-04-28T00:00:00\",\"2024-07-14T00:00:00\",\"2024-05-02T00:00:00\",\"2024-06-25T00:00:00\",\"2024-04-15T00:00:00\",\"2024-07-15T00:00:00\",\"2024-06-12T00:00:00\",\"2024-04-12T00:00:00\",\"2024-06-28T00:00:00\",\"2024-07-16T00:00:00\",\"2024-06-09T00:00:00\",\"2024-06-30T00:00:00\",\"2024-05-06T00:00:00\",\"2024-04-19T00:00:00\",\"2024-06-21T00:00:00\",\"2024-04-16T00:00:00\",\"2024-06-17T00:00:00\",\"2024-06-27T00:00:00\",\"2024-05-06T00:00:00\",\"2024-04-19T00:00:00\",\"2024-06-23T00:00:00\",\"2024-06-05T00:00:00\",\"2024-05-31T00:00:00\",\"2024-04-23T00:00:00\",\"2024-05-19T00:00:00\",\"2024-06-22T00:00:00\",\"2024-05-27T00:00:00\",\"2024-05-14T00:00:00\",\"2024-06-19T00:00:00\",\"2024-05-09T00:00:00\",\"2024-06-11T00:00:00\",\"2024-07-06T00:00:00\",\"2024-04-12T00:00:00\",\"2024-07-02T00:00:00\",\"2024-05-06T00:00:00\",\"2024-07-05T00:00:00\",\"2024-04-24T00:00:00\",\"2024-07-01T00:00:00\",\"2024-04-25T00:00:00\",\"2024-06-22T00:00:00\",\"2024-06-14T00:00:00\",\"2024-06-25T00:00:00\",\"2024-07-02T00:00:00\",\"2024-05-08T00:00:00\",\"2024-05-31T00:00:00\",\"2024-06-26T00:00:00\",\"2024-07-04T00:00:00\",\"2023-11-14T00:00:00\",\"2024-06-26T00:00:00\",\"2024-07-08T00:00:00\",\"2024-06-24T00:00:00\",\"2024-06-14T00:00:00\",\"2024-06-10T00:00:00\",\"2024-05-28T00:00:00\",\"2024-07-10T00:00:00\",\"2024-04-11T00:00:00\",\"2024-06-17T00:00:00\",\"2024-06-01T00:00:00\",\"2024-06-26T00:00:00\",\"2024-05-22T00:00:00\",\"2024-06-18T00:00:00\",\"2024-05-05T00:00:00\",\"2024-05-17T00:00:00\",\"2024-06-24T00:00:00\",\"2024-06-17T00:00:00\",\"2024-05-28T00:00:00\",\"2024-06-26T00:00:00\",\"2024-05-03T00:00:00\",\"2024-07-09T00:00:00\",\"2024-02-27T00:00:00\",\"2024-04-10T00:00:00\",\"2024-05-14T00:00:00\",\"2024-06-05T00:00:00\",\"2024-04-21T00:00:00\",\"2024-07-12T00:00:00\",\"2024-05-17T00:00:00\",\"2024-07-08T00:00:00\",\"2024-07-01T00:00:00\",\"2024-07-10T00:00:00\",\"2024-07-01T00:00:00\",\"2024-06-12T00:00:00\",\"2024-05-13T00:00:00\",\"2024-07-09T00:00:00\",\"2024-07-11T00:00:00\",\"2024-06-24T00:00:00\",\"2024-05-25T00:00:00\",\"2024-07-16T00:00:00\",\"2024-06-25T00:00:00\",\"2024-04-24T00:00:00\",\"2024-07-16T00:00:00\",\"2024-05-20T00:00:00\",\"2024-06-05T00:00:00\",\"2024-06-20T00:00:00\",\"2024-06-21T00:00:00\",\"2024-06-17T00:00:00\",\"2024-05-29T00:00:00\",\"2024-06-17T00:00:00\",\"2024-06-28T00:00:00\",\"2024-05-15T00:00:00\",\"2024-07-15T00:00:00\",\"2024-04-08T00:00:00\",\"2024-05-16T00:00:00\",\"2024-05-23T00:00:00\",\"2024-07-07T00:00:00\",\"2024-07-04T00:00:00\",\"2024-07-06T00:00:00\",\"2024-06-08T00:00:00\",\"2024-07-10T00:00:00\",\"2024-07-10T00:00:00\",\"2024-05-27T00:00:00\",\"2024-05-19T00:00:00\",\"2024-06-06T00:00:00\",\"2024-06-08T00:00:00\",\"2024-05-11T00:00:00\",\"2024-06-28T00:00:00\",\"2024-05-16T00:00:00\",\"2024-06-16T00:00:00\",\"2024-07-08T00:00:00\",\"2024-06-11T00:00:00\",\"2024-05-20T00:00:00\",\"2024-05-17T00:00:00\",\"2024-07-02T00:00:00\",\"2024-04-03T00:00:00\",\"2024-04-08T00:00:00\",\"2024-07-01T00:00:00\",\"2024-06-17T00:00:00\",\"2024-05-21T00:00:00\",\"2024-06-28T00:00:00\",\"2024-05-20T00:00:00\",\"2024-06-21T00:00:00\",\"2024-07-01T00:00:00\",\"2024-06-01T00:00:00\",\"2024-05-27T00:00:00\",\"2024-07-15T00:00:00\",\"2024-06-26T00:00:00\",\"2024-06-16T00:00:00\",\"2024-04-10T00:00:00\",\"2024-04-11T00:00:00\",\"2024-06-13T00:00:00\",\"2024-05-19T00:00:00\",\"2024-07-12T00:00:00\",\"2024-07-08T00:00:00\",\"2024-06-05T00:00:00\",\"2024-05-18T00:00:00\",\"2024-06-11T00:00:00\",\"2024-07-11T00:00:00\",\"2024-04-26T00:00:00\",\"2024-07-12T00:00:00\",\"2024-06-29T00:00:00\",\"2024-05-26T00:00:00\",\"2024-06-12T00:00:00\",\"2024-07-06T00:00:00\",\"2024-07-16T00:00:00\",\"2024-06-23T00:00:00\",\"2024-05-10T00:00:00\",\"2024-04-01T00:00:00\",\"2024-05-14T00:00:00\",\"2024-05-09T00:00:00\",\"2024-07-06T00:00:00\",\"2024-04-13T00:00:00\",\"2024-05-06T00:00:00\",\"2024-07-01T00:00:00\",\"2024-03-31T00:00:00\",\"2024-05-15T00:00:00\",\"2024-06-05T00:00:00\",\"2024-05-20T00:00:00\",\"2024-06-09T00:00:00\",\"2024-06-12T00:00:00\",\"2024-07-04T00:00:00\",\"2024-06-12T00:00:00\",\"2024-07-09T00:00:00\",\"2024-04-23T00:00:00\",\"2024-05-26T00:00:00\",\"2024-06-08T00:00:00\",\"2024-06-11T00:00:00\",\"2024-05-16T00:00:00\",\"2024-05-07T00:00:00\",\"2024-05-31T00:00:00\",\"2024-07-05T00:00:00\",\"2024-07-15T00:00:00\",\"2024-07-07T00:00:00\",\"2024-05-16T00:00:00\",\"2024-07-08T00:00:00\",\"2024-06-04T00:00:00\",\"2024-04-23T00:00:00\",\"2024-07-16T00:00:00\",\"2024-06-06T00:00:00\",\"2024-06-24T00:00:00\",\"2024-05-17T00:00:00\",\"2024-07-10T00:00:00\",\"2024-07-10T00:00:00\",\"2024-06-07T00:00:00\",\"2024-06-24T00:00:00\",\"2024-06-26T00:00:00\",\"2024-04-27T00:00:00\",\"2024-07-08T00:00:00\",\"2024-07-03T00:00:00\",\"2024-04-10T00:00:00\",\"2024-07-08T00:00:00\",\"2024-04-29T00:00:00\",\"2024-06-03T00:00:00\",\"2024-06-13T00:00:00\",\"2024-07-02T00:00:00\",\"2024-05-13T00:00:00\",\"2024-07-15T00:00:00\",\"2024-06-11T00:00:00\",\"2024-06-04T00:00:00\",\"2024-05-27T00:00:00\",\"2024-06-09T00:00:00\",\"2024-06-03T00:00:00\",\"2024-06-03T00:00:00\",\"2024-06-13T00:00:00\",\"2024-05-26T00:00:00\",\"2024-07-04T00:00:00\",\"2024-07-02T00:00:00\",\"2024-07-08T00:00:00\",\"2024-04-22T00:00:00\",\"2024-05-08T00:00:00\",\"2024-07-11T00:00:00\",\"2024-05-02T00:00:00\",\"2024-06-26T00:00:00\",\"2024-06-07T00:00:00\",\"2024-05-21T00:00:00\",\"2024-07-01T00:00:00\",\"2024-07-02T00:00:00\",\"2024-07-08T00:00:00\",\"2024-06-27T00:00:00\",\"2024-06-27T00:00:00\",\"2024-05-31T00:00:00\",\"2024-05-10T00:00:00\",\"2024-06-18T00:00:00\",\"2024-04-17T00:00:00\",\"2024-07-03T00:00:00\",\"2024-04-20T00:00:00\",\"2024-06-12T00:00:00\",\"2024-06-19T00:00:00\",\"2024-04-09T00:00:00\",\"2024-06-23T00:00:00\",\"2024-07-08T00:00:00\",\"2024-07-02T00:00:00\",\"2024-06-03T00:00:00\",\"2024-05-29T00:00:00\",\"2024-06-03T00:00:00\",\"2024-07-06T00:00:00\",\"2024-05-13T00:00:00\",\"2024-06-18T00:00:00\",\"2024-05-19T00:00:00\",\"2024-05-31T00:00:00\",\"2024-05-17T00:00:00\",\"2024-06-17T00:00:00\",\"2024-06-23T00:00:00\",\"2024-05-03T00:00:00\",\"2024-04-29T00:00:00\",\"2024-06-07T00:00:00\",\"2024-07-12T00:00:00\",\"2024-06-16T00:00:00\",\"2024-06-20T00:00:00\",\"2024-06-01T00:00:00\",\"2024-05-11T00:00:00\",\"2024-07-07T00:00:00\",\"2024-04-14T00:00:00\",\"2024-05-17T00:00:00\",\"2024-05-08T00:00:00\",\"2024-06-11T00:00:00\",\"2024-07-01T00:00:00\",\"2024-04-16T00:00:00\",\"2024-06-28T00:00:00\",\"2024-05-09T00:00:00\",\"2024-04-03T00:00:00\",\"2024-07-08T00:00:00\",\"2024-06-10T00:00:00\",\"2024-05-16T00:00:00\",\"2024-05-19T00:00:00\",\"2024-05-20T00:00:00\",\"2024-06-10T00:00:00\",\"2024-05-23T00:00:00\",\"2024-04-22T00:00:00\",\"2024-07-07T00:00:00\",\"2024-07-06T00:00:00\",\"2024-06-12T00:00:00\",\"2024-05-19T00:00:00\",\"2024-04-17T00:00:00\",\"2024-06-17T00:00:00\",\"2024-06-13T00:00:00\",\"2024-04-09T00:00:00\",\"2024-06-11T00:00:00\",\"2024-06-25T00:00:00\",\"2024-05-09T00:00:00\",\"2024-06-06T00:00:00\",\"2024-06-22T00:00:00\",\"2024-05-18T00:00:00\",\"2024-05-22T00:00:00\",\"2024-05-27T00:00:00\",\"2024-07-15T00:00:00\",\"2024-05-12T00:00:00\",\"2024-05-19T00:00:00\",\"2024-05-07T00:00:00\",\"2024-05-15T00:00:00\",\"2024-06-14T00:00:00\",\"2024-06-09T00:00:00\",\"2024-04-27T00:00:00\",\"2024-07-15T00:00:00\",\"2024-03-30T00:00:00\",\"2024-06-13T00:00:00\",\"2024-05-09T00:00:00\",\"2024-07-13T00:00:00\",\"2024-05-22T00:00:00\",\"2024-07-16T00:00:00\",\"2024-06-22T00:00:00\",\"2024-07-11T00:00:00\",\"2024-05-02T00:00:00\",\"2024-07-10T00:00:00\",\"2024-05-09T00:00:00\",\"2024-05-30T00:00:00\",\"2024-07-03T00:00:00\",\"2024-06-02T00:00:00\",\"2024-05-31T00:00:00\",\"2024-06-30T00:00:00\",\"2024-06-24T00:00:00\",\"2024-06-18T00:00:00\",\"2024-06-03T00:00:00\",\"2024-04-02T00:00:00\",\"2024-05-20T00:00:00\",\"2024-04-12T00:00:00\",\"2024-05-17T00:00:00\",\"2024-04-18T00:00:00\",\"2024-05-04T00:00:00\",\"2024-04-22T00:00:00\",\"2024-04-25T00:00:00\",\"2024-04-29T00:00:00\",\"2024-06-17T00:00:00\",\"2024-05-31T00:00:00\",\"2024-05-06T00:00:00\",\"2024-06-19T00:00:00\",\"2024-06-21T00:00:00\",\"2024-07-13T00:00:00\",\"2024-05-23T00:00:00\",\"2024-07-06T00:00:00\",\"2024-05-16T00:00:00\",\"2024-06-09T00:00:00\",\"2024-06-14T00:00:00\",\"2024-05-13T00:00:00\",\"2024-06-03T00:00:00\",\"2024-07-03T00:00:00\",\"2024-07-13T00:00:00\",\"2024-06-24T00:00:00\",\"2024-06-20T00:00:00\",\"2024-07-07T00:00:00\",\"2024-05-29T00:00:00\",\"2024-05-05T00:00:00\",\"2024-07-01T00:00:00\",\"2024-05-11T00:00:00\",\"2024-05-25T00:00:00\",\"2024-07-08T00:00:00\",\"2024-07-14T00:00:00\",\"2024-06-23T00:00:00\",\"2024-05-10T00:00:00\",\"2024-05-30T00:00:00\",\"2024-06-15T00:00:00\",\"2024-07-04T00:00:00\",\"2024-07-01T00:00:00\",\"2024-07-16T00:00:00\",\"2024-06-04T00:00:00\",\"2024-04-26T00:00:00\",\"2024-06-17T00:00:00\",\"2024-07-16T00:00:00\",\"2024-04-19T00:00:00\",\"2024-05-25T00:00:00\",\"2024-04-22T00:00:00\",\"2024-04-08T00:00:00\",\"2024-07-04T00:00:00\",\"2024-06-27T00:00:00\",\"2024-05-24T00:00:00\",\"2024-06-27T00:00:00\",\"2024-05-08T00:00:00\",\"2024-04-03T00:00:00\",\"2024-06-23T00:00:00\",\"2024-05-09T00:00:00\",\"2024-07-05T00:00:00\",\"2024-04-13T00:00:00\",\"2024-06-09T00:00:00\",\"2024-06-22T00:00:00\",\"2024-05-18T00:00:00\",\"2024-07-11T00:00:00\",\"2024-07-05T00:00:00\",\"2024-07-01T00:00:00\",\"2024-05-14T00:00:00\",\"2024-05-08T00:00:00\",\"2024-06-15T00:00:00\",\"2024-06-04T00:00:00\",\"2024-07-12T00:00:00\",\"2024-06-14T00:00:00\",\"2024-06-25T00:00:00\",\"2024-07-05T00:00:00\",\"2024-06-09T00:00:00\",\"2024-06-20T00:00:00\",\"2024-06-05T00:00:00\",\"2024-07-12T00:00:00\",\"2024-04-20T00:00:00\",\"2024-05-24T00:00:00\",\"2024-06-30T00:00:00\",\"2024-04-25T00:00:00\",\"2024-04-22T00:00:00\",\"2024-06-13T00:00:00\",\"2024-04-19T00:00:00\",\"2024-05-06T00:00:00\",\"2024-06-07T00:00:00\",\"2024-04-09T00:00:00\",\"2024-07-09T00:00:00\",\"2024-05-29T00:00:00\",\"2024-05-28T00:00:00\",\"2024-07-02T00:00:00\",\"2024-07-16T00:00:00\",\"2024-04-27T00:00:00\",\"2024-06-24T00:00:00\",\"2024-05-19T00:00:00\",\"2024-06-03T00:00:00\",\"2024-05-14T00:00:00\",\"2024-07-13T00:00:00\",\"2024-05-16T00:00:00\",\"2024-05-06T00:00:00\",\"2024-06-06T00:00:00\",\"2024-02-07T00:00:00\",\"2024-07-01T00:00:00\",\"2024-04-29T00:00:00\",\"2024-05-24T00:00:00\",\"2024-06-05T00:00:00\",\"2024-06-21T00:00:00\",\"2024-06-12T00:00:00\",\"2024-07-04T00:00:00\",\"2024-06-13T00:00:00\",\"2024-07-11T00:00:00\",\"2024-06-19T00:00:00\",\"2024-06-03T00:00:00\",\"2024-07-12T00:00:00\",\"2024-07-03T00:00:00\",\"2024-06-14T00:00:00\",\"2024-05-24T00:00:00\",\"2024-06-28T00:00:00\",\"2024-06-21T00:00:00\",\"2024-06-19T00:00:00\",\"2024-05-13T00:00:00\",\"2024-05-13T00:00:00\",\"2024-06-21T00:00:00\",\"2024-06-21T00:00:00\",\"2024-07-03T00:00:00\",\"2024-04-27T00:00:00\",\"2024-06-17T00:00:00\",\"2018-02-06T00:00:00\",\"2024-05-01T00:00:00\",\"2024-07-10T00:00:00\",\"2024-06-05T00:00:00\",\"2018-02-06T00:00:00\",\"2024-04-18T00:00:00\",\"2024-07-11T00:00:00\",\"2024-06-12T00:00:00\",\"2024-06-07T00:00:00\",\"2024-07-10T00:00:00\",\"2024-06-11T00:00:00\",\"2024-04-23T00:00:00\",\"2024-06-28T00:00:00\",\"2024-06-19T00:00:00\",\"2024-07-08T00:00:00\",\"2024-04-11T00:00:00\",\"2024-06-28T00:00:00\",\"2024-05-02T00:00:00\",\"2024-05-09T00:00:00\",\"2024-04-06T00:00:00\",\"2024-06-26T00:00:00\",\"2024-07-15T00:00:00\",\"2024-04-29T00:00:00\",\"2024-05-21T00:00:00\",\"2024-05-21T00:00:00\",\"2024-05-22T00:00:00\",\"2024-04-18T00:00:00\",\"2024-06-18T00:00:00\",\"2024-06-02T00:00:00\",\"2024-06-20T00:00:00\",\"2024-07-05T00:00:00\",\"2024-05-16T00:00:00\",\"2024-06-01T00:00:00\",\"2024-07-05T00:00:00\",\"2024-07-10T00:00:00\",\"2024-06-21T00:00:00\",\"2024-07-01T00:00:00\",\"2024-04-27T00:00:00\",\"2024-06-06T00:00:00\",\"2024-05-16T00:00:00\",\"2024-07-05T00:00:00\",\"2024-05-13T00:00:00\",\"2024-07-09T00:00:00\",\"2024-05-16T00:00:00\",\"2024-06-16T00:00:00\",\"2024-06-04T00:00:00\",\"2024-06-01T00:00:00\",\"2024-07-16T00:00:00\",\"2024-06-03T00:00:00\",\"2024-06-04T00:00:00\",\"2024-04-26T00:00:00\",\"2024-07-15T00:00:00\",\"2024-04-25T00:00:00\",\"2024-05-14T00:00:00\",\"2024-05-07T00:00:00\",\"2024-07-02T00:00:00\",\"2024-06-24T00:00:00\",\"2024-05-08T00:00:00\",\"2024-07-14T00:00:00\",\"2024-06-29T00:00:00\",\"2024-06-27T00:00:00\",\"2024-05-17T00:00:00\",\"2024-07-01T00:00:00\",\"2024-05-22T00:00:00\",\"2024-04-16T00:00:00\",\"2024-06-12T00:00:00\",\"2024-07-12T00:00:00\",\"2024-06-10T00:00:00\",\"2024-05-13T00:00:00\",\"2024-04-29T00:00:00\",\"2024-06-07T00:00:00\",\"2024-06-26T00:00:00\",\"2024-06-07T00:00:00\",\"2024-06-25T00:00:00\",\"2024-06-24T00:00:00\",\"2024-07-09T00:00:00\",\"2024-06-19T00:00:00\",\"2024-05-07T00:00:00\",\"2024-06-03T00:00:00\",\"2024-02-19T00:00:00\",\"2024-07-15T00:00:00\",\"2024-07-03T00:00:00\",\"2024-05-27T00:00:00\",\"2024-07-02T00:00:00\",\"2024-05-05T00:00:00\",\"2024-05-21T00:00:00\",\"2024-05-19T00:00:00\",\"2024-04-25T00:00:00\",\"2024-06-16T00:00:00\",\"2024-06-04T00:00:00\",\"2024-07-09T00:00:00\",\"2024-07-13T00:00:00\",\"2024-06-21T00:00:00\",\"2024-05-25T00:00:00\",\"2024-06-26T00:00:00\",\"2024-07-01T00:00:00\",\"2024-05-12T00:00:00\",\"2024-04-11T00:00:00\",\"2024-06-15T00:00:00\",\"2024-07-16T00:00:00\",\"2024-05-31T00:00:00\",\"2024-05-10T00:00:00\",\"2024-05-09T00:00:00\",\"2024-06-11T00:00:00\",\"2024-04-29T00:00:00\",\"2024-07-11T00:00:00\",\"2024-05-08T00:00:00\",\"2024-06-28T00:00:00\",\"2024-05-23T00:00:00\",\"2024-05-28T00:00:00\",\"2024-07-07T00:00:00\",\"2024-07-09T00:00:00\",\"2024-06-05T00:00:00\",\"2024-04-15T00:00:00\",\"2024-05-30T00:00:00\",\"2024-04-02T00:00:00\",\"2024-04-13T00:00:00\",\"2024-04-26T00:00:00\",\"2024-06-14T00:00:00\",\"2024-05-20T00:00:00\",\"2024-05-26T00:00:00\",\"2024-06-24T00:00:00\",\"2024-06-20T00:00:00\",\"2024-05-29T00:00:00\",\"2024-04-09T00:00:00\",\"2024-06-06T00:00:00\",\"2024-05-26T00:00:00\",\"2024-07-05T00:00:00\",\"2024-06-23T00:00:00\",\"2024-06-11T00:00:00\",\"2024-06-06T00:00:00\",\"2024-07-05T00:00:00\",\"2024-04-22T00:00:00\",\"2024-05-05T00:00:00\",\"2024-04-28T00:00:00\",\"2024-06-13T00:00:00\",\"2024-05-20T00:00:00\",\"2024-06-14T00:00:00\",\"2024-06-14T00:00:00\",\"2024-05-31T00:00:00\",\"2024-07-03T00:00:00\",\"2024-05-26T00:00:00\",\"2024-05-14T00:00:00\",\"2024-07-07T00:00:00\",\"2024-06-10T00:00:00\",\"2024-05-15T00:00:00\",\"2024-07-11T00:00:00\",\"2024-06-05T00:00:00\",\"2024-06-21T00:00:00\",\"2024-05-05T00:00:00\",\"2024-06-07T00:00:00\",\"2024-07-02T00:00:00\",\"2024-05-26T00:00:00\",\"2024-05-28T00:00:00\",\"2024-04-30T00:00:00\",\"2024-06-06T00:00:00\",\"2024-04-08T00:00:00\",\"2024-05-22T00:00:00\",\"2024-06-15T00:00:00\",\"2024-06-11T00:00:00\",\"2024-04-28T00:00:00\",\"2024-06-12T00:00:00\",\"2024-06-11T00:00:00\",\"2024-06-26T00:00:00\",\"2024-05-07T00:00:00\",\"2024-07-03T00:00:00\",\"2024-05-22T00:00:00\",\"2024-04-08T00:00:00\",\"2024-05-20T00:00:00\",\"2024-03-15T00:00:00\",\"2024-06-03T00:00:00\",\"2024-05-31T00:00:00\",\"2024-06-19T00:00:00\",\"2024-06-12T00:00:00\",\"2024-05-02T00:00:00\",\"2024-05-17T00:00:00\",\"2024-06-10T00:00:00\",\"2024-06-19T00:00:00\",\"2024-05-09T00:00:00\",\"2024-07-12T00:00:00\",\"2024-06-19T00:00:00\",\"2024-07-12T00:00:00\",\"2024-06-28T00:00:00\",\"2024-07-11T00:00:00\",\"2024-06-11T00:00:00\",\"2024-06-24T00:00:00\",\"2024-04-01T00:00:00\",\"2024-05-06T00:00:00\",\"2024-05-13T00:00:00\",\"2024-06-17T00:00:00\",\"2024-06-09T00:00:00\",\"2024-06-29T00:00:00\",\"2024-07-12T00:00:00\",\"2024-05-03T00:00:00\",\"2024-04-29T00:00:00\",\"2024-06-25T00:00:00\",\"2024-05-27T00:00:00\",\"2024-06-16T00:00:00\",\"2024-07-07T00:00:00\",\"2024-05-18T00:00:00\",\"2024-07-02T00:00:00\",\"2024-06-28T00:00:00\",\"2024-04-27T00:00:00\",\"2024-05-23T00:00:00\",\"2024-07-03T00:00:00\",\"2024-03-30T00:00:00\",\"2024-05-09T00:00:00\",\"2024-07-07T00:00:00\",\"2024-07-03T00:00:00\",\"2024-05-09T00:00:00\",\"2024-06-22T00:00:00\",\"2024-07-03T00:00:00\",\"2024-05-21T00:00:00\",\"2024-06-09T00:00:00\",\"2024-05-31T00:00:00\",\"2024-06-17T00:00:00\",\"2024-06-24T00:00:00\",\"2024-06-05T00:00:00\",\"2024-06-22T00:00:00\",\"2024-06-06T00:00:00\",\"2024-04-29T00:00:00\",\"2024-06-10T00:00:00\",\"2024-06-18T00:00:00\",\"2024-07-01T00:00:00\",\"2024-07-10T00:00:00\",\"2024-05-25T00:00:00\",\"2024-05-27T00:00:00\",\"2024-05-08T00:00:00\",\"2024-06-04T00:00:00\",\"2024-07-08T00:00:00\",\"2024-04-24T00:00:00\",\"2024-06-21T00:00:00\",\"2024-06-29T00:00:00\",\"2024-04-23T00:00:00\",\"2024-06-09T00:00:00\",\"2024-07-09T00:00:00\",\"2024-06-24T00:00:00\",\"2024-05-25T00:00:00\",\"2024-04-03T00:00:00\",\"2024-05-17T00:00:00\",\"2024-04-23T00:00:00\",\"2024-07-09T00:00:00\",\"2024-06-25T00:00:00\",\"2024-06-13T00:00:00\",\"2024-06-24T00:00:00\",\"2017-05-29T00:00:00\",\"2024-05-16T00:00:00\",\"2024-06-15T00:00:00\",\"2024-05-16T00:00:00\",\"2024-05-18T00:00:00\",\"2024-07-14T00:00:00\",\"2024-07-10T00:00:00\",\"2024-07-15T00:00:00\",\"2024-06-27T00:00:00\",\"2024-07-10T00:00:00\",\"2024-05-23T00:00:00\",\"2024-06-16T00:00:00\",\"2024-04-09T00:00:00\",\"2024-04-04T00:00:00\",\"2024-06-27T00:00:00\",\"2024-04-11T00:00:00\",\"2024-05-27T00:00:00\",\"2024-05-22T00:00:00\",\"2024-05-28T00:00:00\",\"2024-04-03T00:00:00\",\"2024-04-09T00:00:00\",\"2024-06-01T00:00:00\",\"2024-07-05T00:00:00\",\"2024-07-02T00:00:00\",\"2024-06-24T00:00:00\",\"2024-06-10T00:00:00\",\"2024-05-03T00:00:00\",\"2024-05-27T00:00:00\",\"2024-05-25T00:00:00\",\"2024-06-29T00:00:00\",\"2024-04-23T00:00:00\",\"2024-07-13T00:00:00\",\"2024-05-26T00:00:00\",\"2024-06-01T00:00:00\",\"2024-03-04T00:00:00\",\"2024-06-01T00:00:00\",\"2024-05-09T00:00:00\",\"2024-04-22T00:00:00\",\"2024-05-05T00:00:00\",\"2024-04-24T00:00:00\",\"2024-05-23T00:00:00\",\"2024-07-06T00:00:00\",\"2024-04-29T00:00:00\",\"2024-05-10T00:00:00\",\"2024-07-14T00:00:00\",\"2024-05-14T00:00:00\",\"2024-06-02T00:00:00\",\"2024-04-08T00:00:00\",\"2024-07-09T00:00:00\",\"2024-05-09T00:00:00\",\"2024-06-16T00:00:00\",\"2024-07-02T00:00:00\",\"2024-05-27T00:00:00\",\"2024-05-29T00:00:00\",\"2024-05-25T00:00:00\",\"2024-05-28T00:00:00\",\"2024-05-07T00:00:00\",\"2024-04-03T00:00:00\",\"2024-04-02T00:00:00\",\"2024-05-28T00:00:00\",\"2024-06-06T00:00:00\",\"2024-04-11T00:00:00\",\"2018-02-06T00:00:00\",\"2024-05-30T00:00:00\",\"2024-06-27T00:00:00\",\"2024-06-08T00:00:00\",\"2024-07-14T00:00:00\",\"2024-04-26T00:00:00\",\"2024-04-30T00:00:00\",\"2024-05-02T00:00:00\",\"2024-07-03T00:00:00\",\"2024-04-25T00:00:00\",\"2024-06-07T00:00:00\",\"2024-04-11T00:00:00\",\"2024-05-08T00:00:00\",\"2024-07-02T00:00:00\",\"2024-06-03T00:00:00\",\"2024-05-31T00:00:00\",\"2024-06-26T00:00:00\",\"2024-06-26T00:00:00\",\"2024-06-07T00:00:00\",\"2024-05-16T00:00:00\",\"2024-05-22T00:00:00\",\"2024-07-08T00:00:00\",\"2024-06-03T00:00:00\",\"2024-04-17T00:00:00\",\"2018-02-06T00:00:00\",\"2024-04-26T00:00:00\",\"2024-06-27T00:00:00\",\"2024-07-03T00:00:00\",\"2024-07-14T00:00:00\",\"2024-04-26T00:00:00\",\"2024-07-04T00:00:00\",\"2024-05-10T00:00:00\",\"2024-04-10T00:00:00\",\"2024-05-17T00:00:00\",\"2024-04-24T00:00:00\",\"2024-06-13T00:00:00\",\"2024-07-08T00:00:00\",\"2024-05-24T00:00:00\",\"2024-06-17T00:00:00\",\"2024-06-28T00:00:00\",\"2024-06-06T00:00:00\",\"2024-05-29T00:00:00\",\"2024-05-27T00:00:00\",\"2024-03-29T00:00:00\",\"2024-05-22T00:00:00\",\"2024-06-11T00:00:00\",\"2024-06-21T00:00:00\",\"2024-06-23T00:00:00\",\"2024-04-17T00:00:00\",\"2024-06-05T00:00:00\",\"2024-06-25T00:00:00\",\"2024-07-08T00:00:00\",\"2024-05-13T00:00:00\",\"2024-06-06T00:00:00\",\"2024-06-28T00:00:00\",\"2024-06-26T00:00:00\",\"2024-07-11T00:00:00\",\"2024-05-08T00:00:00\",\"2024-06-19T00:00:00\",\"2024-05-04T00:00:00\",\"2024-07-02T00:00:00\",\"2024-06-24T00:00:00\",\"2024-07-06T00:00:00\",\"2024-05-23T00:00:00\",\"2024-04-08T00:00:00\",\"2024-06-14T00:00:00\",\"2024-07-09T00:00:00\",\"2024-05-03T00:00:00\",\"2024-06-20T00:00:00\",\"2024-07-01T00:00:00\",\"2024-06-07T00:00:00\",\"2024-06-07T00:00:00\",\"2024-06-02T00:00:00\",\"2024-04-11T00:00:00\",\"2024-07-11T00:00:00\",\"2024-06-04T00:00:00\",\"2024-05-14T00:00:00\",\"2024-06-26T00:00:00\",\"2024-06-18T00:00:00\",\"2024-06-18T00:00:00\",\"2024-06-28T00:00:00\",\"2024-07-02T00:00:00\",\"2024-06-18T00:00:00\",\"2024-06-26T00:00:00\",\"2024-06-04T00:00:00\",\"2024-06-30T00:00:00\",\"2024-06-20T00:00:00\",\"2024-06-04T00:00:00\",\"2024-06-05T00:00:00\",\"2024-05-19T00:00:00\",\"2024-05-28T00:00:00\",\"2024-05-23T00:00:00\",\"2024-04-01T00:00:00\",\"2024-05-20T00:00:00\",\"2024-07-10T00:00:00\",\"2024-07-12T00:00:00\",\"2024-05-28T00:00:00\",\"2024-07-15T00:00:00\",\"2024-04-06T00:00:00\",\"2024-06-01T00:00:00\",\"2024-06-20T00:00:00\",\"2024-06-26T00:00:00\",\"2024-04-18T00:00:00\",\"2024-07-15T00:00:00\",\"2024-05-31T00:00:00\",\"2024-06-13T00:00:00\",\"2024-07-02T00:00:00\",\"2024-05-25T00:00:00\",\"2024-06-11T00:00:00\",\"2024-04-14T00:00:00\",\"2024-06-18T00:00:00\",\"2024-05-26T00:00:00\",\"2024-04-19T00:00:00\",\"2024-06-26T00:00:00\",\"2024-06-13T00:00:00\",\"2024-05-21T00:00:00\",\"2024-07-06T00:00:00\",\"2024-06-24T00:00:00\",\"2024-04-27T00:00:00\",\"2024-06-13T00:00:00\",\"2024-04-06T00:00:00\",\"2024-05-14T00:00:00\",\"2024-03-29T00:00:00\",\"2024-07-09T00:00:00\",\"2024-04-09T00:00:00\",\"2024-04-29T00:00:00\",\"2024-05-16T00:00:00\",\"2024-06-24T00:00:00\",\"2024-07-01T00:00:00\",\"2024-03-31T00:00:00\",\"2024-07-11T00:00:00\",\"2024-04-23T00:00:00\",\"2024-04-17T00:00:00\",\"1997-04-28T00:00:00\",\"2024-06-06T00:00:00\",\"2024-03-19T00:00:00\",\"2024-06-19T00:00:00\",\"2024-06-28T00:00:00\",\"2024-07-08T00:00:00\",\"2024-06-24T00:00:00\",\"2024-07-08T00:00:00\",\"2024-04-10T00:00:00\",\"2024-06-24T00:00:00\",\"2024-04-23T00:00:00\",\"2024-06-17T00:00:00\",\"2024-06-30T00:00:00\",\"2024-04-23T00:00:00\",\"2024-07-08T00:00:00\",\"2024-05-16T00:00:00\",\"2024-07-16T00:00:00\",\"2024-05-11T00:00:00\",\"2024-05-15T00:00:00\",\"2024-02-16T00:00:00\",\"2024-06-20T00:00:00\",\"2024-06-11T00:00:00\",\"2024-06-28T00:00:00\",\"2024-05-08T00:00:00\",\"2024-07-11T00:00:00\",\"2024-07-04T00:00:00\",\"2024-05-21T00:00:00\",\"2024-07-02T00:00:00\",\"2024-04-05T00:00:00\",\"2024-06-21T00:00:00\",\"2024-06-01T00:00:00\",\"2024-04-01T00:00:00\",\"2024-06-19T00:00:00\",\"2024-06-29T00:00:00\",\"2024-05-25T00:00:00\",\"2024-06-12T00:00:00\",\"2024-04-15T00:00:00\",\"2024-07-06T00:00:00\",\"2024-06-19T00:00:00\",\"2024-04-28T00:00:00\",\"2024-06-26T00:00:00\",\"2024-06-13T00:00:00\",\"2024-05-25T00:00:00\",\"2024-07-13T00:00:00\",\"2024-05-21T00:00:00\",\"2024-06-04T00:00:00\",\"2024-07-09T00:00:00\",\"2024-06-25T00:00:00\",\"2024-07-12T00:00:00\",\"2024-05-15T00:00:00\",\"2024-06-30T00:00:00\",\"2024-06-13T00:00:00\",\"2024-06-03T00:00:00\",\"2024-05-15T00:00:00\",\"2024-07-05T00:00:00\",\"2024-07-13T00:00:00\",\"2024-07-15T00:00:00\",\"2024-06-24T00:00:00\",\"2024-04-30T00:00:00\",\"2024-07-16T00:00:00\",\"2024-06-23T00:00:00\",\"2024-06-24T00:00:00\",\"2024-04-19T00:00:00\",\"2024-06-23T00:00:00\",\"2024-07-09T00:00:00\",\"2024-06-18T00:00:00\",\"2024-07-08T00:00:00\",\"2024-07-09T00:00:00\",\"2024-05-21T00:00:00\",\"2024-06-13T00:00:00\",\"2024-07-05T00:00:00\",\"2024-06-12T00:00:00\",\"2024-07-16T00:00:00\",\"2024-07-15T00:00:00\",\"2024-04-19T00:00:00\",\"2024-06-20T00:00:00\",\"2024-07-16T00:00:00\",\"2024-06-04T00:00:00\",\"2024-06-20T00:00:00\",\"2024-03-29T00:00:00\",\"2024-06-24T00:00:00\",\"2024-07-12T00:00:00\",\"2024-07-16T00:00:00\",\"2024-04-09T00:00:00\",\"2024-06-11T00:00:00\",\"2024-06-25T00:00:00\",\"2024-05-14T00:00:00\",\"1997-04-28T00:00:00\",\"2024-05-14T00:00:00\",\"2024-06-04T00:00:00\",\"2024-07-14T00:00:00\",\"2024-07-14T00:00:00\",\"2024-06-04T00:00:00\",\"2024-04-03T00:00:00\",\"2024-06-05T00:00:00\",\"2024-07-11T00:00:00\",\"2024-05-13T00:00:00\",\"2024-07-02T00:00:00\",\"2024-07-12T00:00:00\",\"2024-04-23T00:00:00\",\"2024-01-30T00:00:00\",\"2024-04-02T00:00:00\",\"2024-06-09T00:00:00\",\"2024-04-17T00:00:00\",\"2024-03-30T00:00:00\",\"2024-04-04T00:00:00\",\"2024-06-19T00:00:00\",\"2024-03-06T00:00:00\",\"2024-06-28T00:00:00\",\"2024-05-28T00:00:00\",\"2024-06-14T00:00:00\",\"2024-06-21T00:00:00\",\"2024-05-30T00:00:00\",\"2024-05-23T00:00:00\",\"2024-04-16T00:00:00\",\"2024-05-06T00:00:00\",\"2024-05-29T00:00:00\",\"2024-04-16T00:00:00\",\"2024-05-14T00:00:00\",\"2024-05-02T00:00:00\",\"2024-04-30T00:00:00\",\"2024-05-22T00:00:00\",\"2024-06-22T00:00:00\",\"2024-07-08T00:00:00\",\"2024-06-13T00:00:00\",\"2024-06-10T00:00:00\",\"2024-07-16T00:00:00\",\"2024-06-06T00:00:00\",\"2024-05-20T00:00:00\",\"2024-04-23T00:00:00\",\"2024-05-13T00:00:00\",\"2024-04-26T00:00:00\",\"2024-05-20T00:00:00\",\"2024-06-07T00:00:00\",\"2024-07-13T00:00:00\",\"2024-07-09T00:00:00\",\"2024-05-17T00:00:00\",\"2024-04-23T00:00:00\",\"2018-02-06T00:00:00\",\"2024-07-01T00:00:00\",\"2024-04-29T00:00:00\",\"2024-03-30T00:00:00\",\"2024-07-15T00:00:00\",\"2024-05-20T00:00:00\",\"2024-07-15T00:00:00\",\"2024-04-27T00:00:00\",\"2024-05-27T00:00:00\",\"2024-05-07T00:00:00\",\"2024-07-14T00:00:00\",\"2024-07-16T00:00:00\",\"2024-05-23T00:00:00\",\"2024-07-02T00:00:00\",\"2024-04-16T00:00:00\",\"2024-07-13T00:00:00\",\"2024-06-12T00:00:00\",\"2024-05-20T00:00:00\",\"2024-04-17T00:00:00\",\"2024-06-11T00:00:00\",\"2024-04-18T00:00:00\",\"2024-06-21T00:00:00\",\"2024-05-21T00:00:00\",\"2024-06-18T00:00:00\",\"2024-06-30T00:00:00\",\"2024-05-05T00:00:00\",\"2024-05-02T00:00:00\",\"2024-06-18T00:00:00\",\"2024-06-11T00:00:00\",\"2024-05-11T00:00:00\",\"2024-06-28T00:00:00\",\"2024-07-10T00:00:00\",\"2024-07-08T00:00:00\",\"2024-06-10T00:00:00\",\"2024-07-15T00:00:00\",\"2024-05-23T00:00:00\",\"2024-06-27T00:00:00\",\"2024-07-03T00:00:00\",\"2024-04-25T00:00:00\",\"2024-07-11T00:00:00\",\"2024-07-12T00:00:00\",\"2024-05-25T00:00:00\",\"2024-04-27T00:00:00\",\"2024-06-27T00:00:00\",\"2024-06-17T00:00:00\",\"2024-05-22T00:00:00\",\"2024-05-03T00:00:00\",\"2024-06-21T00:00:00\",\"2024-07-14T00:00:00\",\"2024-05-13T00:00:00\",\"2024-04-04T00:00:00\",\"2024-05-06T00:00:00\",\"2024-06-21T00:00:00\",\"2024-05-09T00:00:00\",\"2024-06-03T00:00:00\",\"2024-06-03T00:00:00\",\"2024-06-18T00:00:00\",\"2024-04-24T00:00:00\",\"2024-04-23T00:00:00\",\"2024-04-30T00:00:00\",\"2024-06-10T00:00:00\",\"2024-05-17T00:00:00\",\"2024-06-17T00:00:00\",\"2024-07-01T00:00:00\",\"2024-07-15T00:00:00\",\"2024-07-08T00:00:00\",\"2024-04-29T00:00:00\",\"2024-06-25T00:00:00\",\"2024-07-05T00:00:00\",\"2024-07-09T00:00:00\",\"2024-04-26T00:00:00\",\"2024-07-08T00:00:00\",\"2024-06-16T00:00:00\",\"2024-07-01T00:00:00\",\"2024-05-13T00:00:00\",\"2024-07-01T00:00:00\",\"2024-04-17T00:00:00\",\"2024-05-05T00:00:00\",\"2024-05-21T00:00:00\",\"2024-06-13T00:00:00\",\"2024-07-01T00:00:00\",\"2024-04-29T00:00:00\",\"2024-06-19T00:00:00\",\"2024-05-24T00:00:00\",\"2024-05-23T00:00:00\",\"2024-07-14T00:00:00\",\"2024-06-18T00:00:00\",\"2024-06-24T00:00:00\",\"2024-05-31T00:00:00\",\"2024-06-18T00:00:00\",\"2024-06-03T00:00:00\",\"2024-04-27T00:00:00\",\"2024-04-10T00:00:00\",\"2024-07-15T00:00:00\",\"2024-07-08T00:00:00\",\"2024-07-13T00:00:00\",\"2024-05-21T00:00:00\",\"2024-05-28T00:00:00\",\"2024-05-07T00:00:00\",\"2024-05-23T00:00:00\",\"2024-05-13T00:00:00\",\"2024-07-01T00:00:00\",\"2024-06-07T00:00:00\",\"2024-04-16T00:00:00\",\"2024-07-03T00:00:00\",\"2024-04-16T00:00:00\",\"2024-06-08T00:00:00\",\"2024-07-12T00:00:00\",\"2024-06-19T00:00:00\",\"2024-07-14T00:00:00\"],\"xaxis\":\"x\",\"yaxis\":\"y\",\"type\":\"histogram\"}],                        {\"template\":{\"data\":{\"histogram2dcontour\":[{\"type\":\"histogram2dcontour\",\"colorbar\":{\"outlinewidth\":0,\"ticks\":\"\"},\"colorscale\":[[0.0,\"#0d0887\"],[0.1111111111111111,\"#46039f\"],[0.2222222222222222,\"#7201a8\"],[0.3333333333333333,\"#9c179e\"],[0.4444444444444444,\"#bd3786\"],[0.5555555555555556,\"#d8576b\"],[0.6666666666666666,\"#ed7953\"],[0.7777777777777778,\"#fb9f3a\"],[0.8888888888888888,\"#fdca26\"],[1.0,\"#f0f921\"]]}],\"choropleth\":[{\"type\":\"choropleth\",\"colorbar\":{\"outlinewidth\":0,\"ticks\":\"\"}}],\"histogram2d\":[{\"type\":\"histogram2d\",\"colorbar\":{\"outlinewidth\":0,\"ticks\":\"\"},\"colorscale\":[[0.0,\"#0d0887\"],[0.1111111111111111,\"#46039f\"],[0.2222222222222222,\"#7201a8\"],[0.3333333333333333,\"#9c179e\"],[0.4444444444444444,\"#bd3786\"],[0.5555555555555556,\"#d8576b\"],[0.6666666666666666,\"#ed7953\"],[0.7777777777777778,\"#fb9f3a\"],[0.8888888888888888,\"#fdca26\"],[1.0,\"#f0f921\"]]}],\"heatmap\":[{\"type\":\"heatmap\",\"colorbar\":{\"outlinewidth\":0,\"ticks\":\"\"},\"colorscale\":[[0.0,\"#0d0887\"],[0.1111111111111111,\"#46039f\"],[0.2222222222222222,\"#7201a8\"],[0.3333333333333333,\"#9c179e\"],[0.4444444444444444,\"#bd3786\"],[0.5555555555555556,\"#d8576b\"],[0.6666666666666666,\"#ed7953\"],[0.7777777777777778,\"#fb9f3a\"],[0.8888888888888888,\"#fdca26\"],[1.0,\"#f0f921\"]]}],\"heatmapgl\":[{\"type\":\"heatmapgl\",\"colorbar\":{\"outlinewidth\":0,\"ticks\":\"\"},\"colorscale\":[[0.0,\"#0d0887\"],[0.1111111111111111,\"#46039f\"],[0.2222222222222222,\"#7201a8\"],[0.3333333333333333,\"#9c179e\"],[0.4444444444444444,\"#bd3786\"],[0.5555555555555556,\"#d8576b\"],[0.6666666666666666,\"#ed7953\"],[0.7777777777777778,\"#fb9f3a\"],[0.8888888888888888,\"#fdca26\"],[1.0,\"#f0f921\"]]}],\"contourcarpet\":[{\"type\":\"contourcarpet\",\"colorbar\":{\"outlinewidth\":0,\"ticks\":\"\"}}],\"contour\":[{\"type\":\"contour\",\"colorbar\":{\"outlinewidth\":0,\"ticks\":\"\"},\"colorscale\":[[0.0,\"#0d0887\"],[0.1111111111111111,\"#46039f\"],[0.2222222222222222,\"#7201a8\"],[0.3333333333333333,\"#9c179e\"],[0.4444444444444444,\"#bd3786\"],[0.5555555555555556,\"#d8576b\"],[0.6666666666666666,\"#ed7953\"],[0.7777777777777778,\"#fb9f3a\"],[0.8888888888888888,\"#fdca26\"],[1.0,\"#f0f921\"]]}],\"surface\":[{\"type\":\"surface\",\"colorbar\":{\"outlinewidth\":0,\"ticks\":\"\"},\"colorscale\":[[0.0,\"#0d0887\"],[0.1111111111111111,\"#46039f\"],[0.2222222222222222,\"#7201a8\"],[0.3333333333333333,\"#9c179e\"],[0.4444444444444444,\"#bd3786\"],[0.5555555555555556,\"#d8576b\"],[0.6666666666666666,\"#ed7953\"],[0.7777777777777778,\"#fb9f3a\"],[0.8888888888888888,\"#fdca26\"],[1.0,\"#f0f921\"]]}],\"mesh3d\":[{\"type\":\"mesh3d\",\"colorbar\":{\"outlinewidth\":0,\"ticks\":\"\"}}],\"scatter\":[{\"fillpattern\":{\"fillmode\":\"overlay\",\"size\":10,\"solidity\":0.2},\"type\":\"scatter\"}],\"parcoords\":[{\"type\":\"parcoords\",\"line\":{\"colorbar\":{\"outlinewidth\":0,\"ticks\":\"\"}}}],\"scatterpolargl\":[{\"type\":\"scatterpolargl\",\"marker\":{\"colorbar\":{\"outlinewidth\":0,\"ticks\":\"\"}}}],\"bar\":[{\"error_x\":{\"color\":\"#2a3f5f\"},\"error_y\":{\"color\":\"#2a3f5f\"},\"marker\":{\"line\":{\"color\":\"#E5ECF6\",\"width\":0.5},\"pattern\":{\"fillmode\":\"overlay\",\"size\":10,\"solidity\":0.2}},\"type\":\"bar\"}],\"scattergeo\":[{\"type\":\"scattergeo\",\"marker\":{\"colorbar\":{\"outlinewidth\":0,\"ticks\":\"\"}}}],\"scatterpolar\":[{\"type\":\"scatterpolar\",\"marker\":{\"colorbar\":{\"outlinewidth\":0,\"ticks\":\"\"}}}],\"histogram\":[{\"marker\":{\"pattern\":{\"fillmode\":\"overlay\",\"size\":10,\"solidity\":0.2}},\"type\":\"histogram\"}],\"scattergl\":[{\"type\":\"scattergl\",\"marker\":{\"colorbar\":{\"outlinewidth\":0,\"ticks\":\"\"}}}],\"scatter3d\":[{\"type\":\"scatter3d\",\"line\":{\"colorbar\":{\"outlinewidth\":0,\"ticks\":\"\"}},\"marker\":{\"colorbar\":{\"outlinewidth\":0,\"ticks\":\"\"}}}],\"scattermapbox\":[{\"type\":\"scattermapbox\",\"marker\":{\"colorbar\":{\"outlinewidth\":0,\"ticks\":\"\"}}}],\"scatterternary\":[{\"type\":\"scatterternary\",\"marker\":{\"colorbar\":{\"outlinewidth\":0,\"ticks\":\"\"}}}],\"scattercarpet\":[{\"type\":\"scattercarpet\",\"marker\":{\"colorbar\":{\"outlinewidth\":0,\"ticks\":\"\"}}}],\"carpet\":[{\"aaxis\":{\"endlinecolor\":\"#2a3f5f\",\"gridcolor\":\"white\",\"linecolor\":\"white\",\"minorgridcolor\":\"white\",\"startlinecolor\":\"#2a3f5f\"},\"baxis\":{\"endlinecolor\":\"#2a3f5f\",\"gridcolor\":\"white\",\"linecolor\":\"white\",\"minorgridcolor\":\"white\",\"startlinecolor\":\"#2a3f5f\"},\"type\":\"carpet\"}],\"table\":[{\"cells\":{\"fill\":{\"color\":\"#EBF0F8\"},\"line\":{\"color\":\"white\"}},\"header\":{\"fill\":{\"color\":\"#C8D4E3\"},\"line\":{\"color\":\"white\"}},\"type\":\"table\"}],\"barpolar\":[{\"marker\":{\"line\":{\"color\":\"#E5ECF6\",\"width\":0.5},\"pattern\":{\"fillmode\":\"overlay\",\"size\":10,\"solidity\":0.2}},\"type\":\"barpolar\"}],\"pie\":[{\"automargin\":true,\"type\":\"pie\"}]},\"layout\":{\"autotypenumbers\":\"strict\",\"colorway\":[\"#636efa\",\"#EF553B\",\"#00cc96\",\"#ab63fa\",\"#FFA15A\",\"#19d3f3\",\"#FF6692\",\"#B6E880\",\"#FF97FF\",\"#FECB52\"],\"font\":{\"color\":\"#2a3f5f\"},\"hovermode\":\"closest\",\"hoverlabel\":{\"align\":\"left\"},\"paper_bgcolor\":\"white\",\"plot_bgcolor\":\"#E5ECF6\",\"polar\":{\"bgcolor\":\"#E5ECF6\",\"angularaxis\":{\"gridcolor\":\"white\",\"linecolor\":\"white\",\"ticks\":\"\"},\"radialaxis\":{\"gridcolor\":\"white\",\"linecolor\":\"white\",\"ticks\":\"\"}},\"ternary\":{\"bgcolor\":\"#E5ECF6\",\"aaxis\":{\"gridcolor\":\"white\",\"linecolor\":\"white\",\"ticks\":\"\"},\"baxis\":{\"gridcolor\":\"white\",\"linecolor\":\"white\",\"ticks\":\"\"},\"caxis\":{\"gridcolor\":\"white\",\"linecolor\":\"white\",\"ticks\":\"\"}},\"coloraxis\":{\"colorbar\":{\"outlinewidth\":0,\"ticks\":\"\"}},\"colorscale\":{\"sequential\":[[0.0,\"#0d0887\"],[0.1111111111111111,\"#46039f\"],[0.2222222222222222,\"#7201a8\"],[0.3333333333333333,\"#9c179e\"],[0.4444444444444444,\"#bd3786\"],[0.5555555555555556,\"#d8576b\"],[0.6666666666666666,\"#ed7953\"],[0.7777777777777778,\"#fb9f3a\"],[0.8888888888888888,\"#fdca26\"],[1.0,\"#f0f921\"]],\"sequentialminus\":[[0.0,\"#0d0887\"],[0.1111111111111111,\"#46039f\"],[0.2222222222222222,\"#7201a8\"],[0.3333333333333333,\"#9c179e\"],[0.4444444444444444,\"#bd3786\"],[0.5555555555555556,\"#d8576b\"],[0.6666666666666666,\"#ed7953\"],[0.7777777777777778,\"#fb9f3a\"],[0.8888888888888888,\"#fdca26\"],[1.0,\"#f0f921\"]],\"diverging\":[[0,\"#8e0152\"],[0.1,\"#c51b7d\"],[0.2,\"#de77ae\"],[0.3,\"#f1b6da\"],[0.4,\"#fde0ef\"],[0.5,\"#f7f7f7\"],[0.6,\"#e6f5d0\"],[0.7,\"#b8e186\"],[0.8,\"#7fbc41\"],[0.9,\"#4d9221\"],[1,\"#276419\"]]},\"xaxis\":{\"gridcolor\":\"white\",\"linecolor\":\"white\",\"ticks\":\"\",\"title\":{\"standoff\":15},\"zerolinecolor\":\"white\",\"automargin\":true,\"zerolinewidth\":2},\"yaxis\":{\"gridcolor\":\"white\",\"linecolor\":\"white\",\"ticks\":\"\",\"title\":{\"standoff\":15},\"zerolinecolor\":\"white\",\"automargin\":true,\"zerolinewidth\":2},\"scene\":{\"xaxis\":{\"backgroundcolor\":\"#E5ECF6\",\"gridcolor\":\"white\",\"linecolor\":\"white\",\"showbackground\":true,\"ticks\":\"\",\"zerolinecolor\":\"white\",\"gridwidth\":2},\"yaxis\":{\"backgroundcolor\":\"#E5ECF6\",\"gridcolor\":\"white\",\"linecolor\":\"white\",\"showbackground\":true,\"ticks\":\"\",\"zerolinecolor\":\"white\",\"gridwidth\":2},\"zaxis\":{\"backgroundcolor\":\"#E5ECF6\",\"gridcolor\":\"white\",\"linecolor\":\"white\",\"showbackground\":true,\"ticks\":\"\",\"zerolinecolor\":\"white\",\"gridwidth\":2}},\"shapedefaults\":{\"line\":{\"color\":\"#2a3f5f\"}},\"annotationdefaults\":{\"arrowcolor\":\"#2a3f5f\",\"arrowhead\":0,\"arrowwidth\":1},\"geo\":{\"bgcolor\":\"white\",\"landcolor\":\"#E5ECF6\",\"subunitcolor\":\"white\",\"showland\":true,\"showlakes\":true,\"lakecolor\":\"white\"},\"title\":{\"x\":0.05},\"mapbox\":{\"style\":\"light\"}}},\"xaxis\":{\"anchor\":\"y\",\"domain\":[0.0,1.0],\"title\":{\"text\":\"App Date\"}},\"yaxis\":{\"anchor\":\"x\",\"domain\":[0.0,1.0],\"title\":{\"text\":\"count\"},\"type\":\"log\"},\"legend\":{\"tracegroupgap\":0},\"margin\":{\"t\":60},\"barmode\":\"relative\"},                        {\"responsive\": true}                    ).then(function(){\n",
       "                            \n",
       "var gd = document.getElementById('72abe251-3702-445d-9f6f-d00228f88695');\n",
       "var x = new MutationObserver(function (mutations, observer) {{\n",
       "        var display = window.getComputedStyle(gd).display;\n",
       "        if (!display || display === 'none') {{\n",
       "            console.log([gd, 'removed!']);\n",
       "            Plotly.purge(gd);\n",
       "            observer.disconnect();\n",
       "        }}\n",
       "}});\n",
       "\n",
       "// Listen for the removal of the full notebook cells\n",
       "var notebookContainer = gd.closest('#notebook-container');\n",
       "if (notebookContainer) {{\n",
       "    x.observe(notebookContainer, {childList: true});\n",
       "}}\n",
       "\n",
       "// Listen for the clearing of the current output cell\n",
       "var outputEl = gd.closest('.output');\n",
       "if (outputEl) {{\n",
       "    x.observe(outputEl, {childList: true});\n",
       "}}\n",
       "\n",
       "                        })                };                });            </script>        </div>"
      ]
     },
     "metadata": {},
     "output_type": "display_data"
    }
   ],
   "source": [
    "from plotly import express\n",
    "\n",
    "express.histogram(data_frame=df, x='App Date', log_y=True)"
   ]
  },
  {
   "cell_type": "code",
   "execution_count": 9,
   "id": "16cf2120",
   "metadata": {
    "execution": {
     "iopub.execute_input": "2024-08-03T15:09:50.110325Z",
     "iopub.status.busy": "2024-08-03T15:09:50.109929Z",
     "iopub.status.idle": "2024-08-03T15:09:50.117074Z",
     "shell.execute_reply": "2024-08-03T15:09:50.115980Z"
    },
    "papermill": {
     "duration": 0.017959,
     "end_time": "2024-08-03T15:09:50.119309",
     "exception": false,
     "start_time": "2024-08-03T15:09:50.101350",
     "status": "completed"
    },
    "tags": []
   },
   "outputs": [
    {
     "data": {
      "text/plain": [
       "Index(['Type', 'App Date', 'Status', 'FRU Interview Scheduled', 'Drug Test',\n",
       "       'WAV Course', 'Defensive Driving', 'Driver Exam',\n",
       "       'Medical Clearance Form', 'Other Requirements', 'year'],\n",
       "      dtype='object')"
      ]
     },
     "execution_count": 9,
     "metadata": {},
     "output_type": "execute_result"
    }
   ],
   "source": [
    "df.columns"
   ]
  },
  {
   "cell_type": "code",
   "execution_count": 10,
   "id": "ad8737ab",
   "metadata": {
    "execution": {
     "iopub.execute_input": "2024-08-03T15:09:50.135407Z",
     "iopub.status.busy": "2024-08-03T15:09:50.135015Z",
     "iopub.status.idle": "2024-08-03T15:09:50.162744Z",
     "shell.execute_reply": "2024-08-03T15:09:50.161690Z"
    },
    "papermill": {
     "duration": 0.038328,
     "end_time": "2024-08-03T15:09:50.164991",
     "exception": false,
     "start_time": "2024-08-03T15:09:50.126663",
     "status": "completed"
    },
    "tags": []
   },
   "outputs": [
    {
     "data": {
      "text/html": [
       "<div>\n",
       "<style scoped>\n",
       "    .dataframe tbody tr th:only-of-type {\n",
       "        vertical-align: middle;\n",
       "    }\n",
       "\n",
       "    .dataframe tbody tr th {\n",
       "        vertical-align: top;\n",
       "    }\n",
       "\n",
       "    .dataframe thead th {\n",
       "        text-align: right;\n",
       "    }\n",
       "</style>\n",
       "<table border=\"1\" class=\"dataframe\">\n",
       "  <thead>\n",
       "    <tr style=\"text-align: right;\">\n",
       "      <th></th>\n",
       "      <th>Status</th>\n",
       "      <th>Drug Test_Complete</th>\n",
       "      <th>Drug Test_Needed</th>\n",
       "      <th>Drug Test_Not Applicable</th>\n",
       "      <th>WAV Course_Complete</th>\n",
       "      <th>WAV Course_Needed</th>\n",
       "      <th>WAV Course_Not Applicable</th>\n",
       "      <th>Defensive Driving_Complete</th>\n",
       "      <th>Defensive Driving_Needed</th>\n",
       "      <th>Defensive Driving_Not Applicable</th>\n",
       "      <th>Driver Exam_Complete</th>\n",
       "      <th>Driver Exam_Needed</th>\n",
       "      <th>Driver Exam_Not Applicable</th>\n",
       "      <th>Medical Clearance Form_Complete</th>\n",
       "      <th>Medical Clearance Form_Needed</th>\n",
       "      <th>Medical Clearance Form_Not Applicable</th>\n",
       "    </tr>\n",
       "    <tr>\n",
       "      <th>App No</th>\n",
       "      <th></th>\n",
       "      <th></th>\n",
       "      <th></th>\n",
       "      <th></th>\n",
       "      <th></th>\n",
       "      <th></th>\n",
       "      <th></th>\n",
       "      <th></th>\n",
       "      <th></th>\n",
       "      <th></th>\n",
       "      <th></th>\n",
       "      <th></th>\n",
       "      <th></th>\n",
       "      <th></th>\n",
       "      <th></th>\n",
       "      <th></th>\n",
       "    </tr>\n",
       "  </thead>\n",
       "  <tbody>\n",
       "    <tr>\n",
       "      <th>6078403</th>\n",
       "      <td>Incomplete</td>\n",
       "      <td>False</td>\n",
       "      <td>True</td>\n",
       "      <td>False</td>\n",
       "      <td>False</td>\n",
       "      <td>True</td>\n",
       "      <td>False</td>\n",
       "      <td>False</td>\n",
       "      <td>True</td>\n",
       "      <td>False</td>\n",
       "      <td>False</td>\n",
       "      <td>True</td>\n",
       "      <td>False</td>\n",
       "      <td>False</td>\n",
       "      <td>True</td>\n",
       "      <td>False</td>\n",
       "    </tr>\n",
       "    <tr>\n",
       "      <th>6077989</th>\n",
       "      <td>Incomplete</td>\n",
       "      <td>False</td>\n",
       "      <td>True</td>\n",
       "      <td>False</td>\n",
       "      <td>False</td>\n",
       "      <td>True</td>\n",
       "      <td>False</td>\n",
       "      <td>True</td>\n",
       "      <td>False</td>\n",
       "      <td>False</td>\n",
       "      <td>False</td>\n",
       "      <td>True</td>\n",
       "      <td>False</td>\n",
       "      <td>False</td>\n",
       "      <td>True</td>\n",
       "      <td>False</td>\n",
       "    </tr>\n",
       "    <tr>\n",
       "      <th>6074279</th>\n",
       "      <td>Incomplete</td>\n",
       "      <td>False</td>\n",
       "      <td>True</td>\n",
       "      <td>False</td>\n",
       "      <td>False</td>\n",
       "      <td>True</td>\n",
       "      <td>False</td>\n",
       "      <td>True</td>\n",
       "      <td>False</td>\n",
       "      <td>False</td>\n",
       "      <td>False</td>\n",
       "      <td>True</td>\n",
       "      <td>False</td>\n",
       "      <td>False</td>\n",
       "      <td>True</td>\n",
       "      <td>False</td>\n",
       "    </tr>\n",
       "    <tr>\n",
       "      <th>5735329</th>\n",
       "      <td>Incomplete</td>\n",
       "      <td>True</td>\n",
       "      <td>False</td>\n",
       "      <td>False</td>\n",
       "      <td>True</td>\n",
       "      <td>False</td>\n",
       "      <td>False</td>\n",
       "      <td>True</td>\n",
       "      <td>False</td>\n",
       "      <td>False</td>\n",
       "      <td>False</td>\n",
       "      <td>True</td>\n",
       "      <td>False</td>\n",
       "      <td>True</td>\n",
       "      <td>False</td>\n",
       "      <td>False</td>\n",
       "    </tr>\n",
       "    <tr>\n",
       "      <th>6077157</th>\n",
       "      <td>Incomplete</td>\n",
       "      <td>True</td>\n",
       "      <td>False</td>\n",
       "      <td>False</td>\n",
       "      <td>True</td>\n",
       "      <td>False</td>\n",
       "      <td>False</td>\n",
       "      <td>True</td>\n",
       "      <td>False</td>\n",
       "      <td>False</td>\n",
       "      <td>False</td>\n",
       "      <td>True</td>\n",
       "      <td>False</td>\n",
       "      <td>True</td>\n",
       "      <td>False</td>\n",
       "      <td>False</td>\n",
       "    </tr>\n",
       "  </tbody>\n",
       "</table>\n",
       "</div>"
      ],
      "text/plain": [
       "             Status  Drug Test_Complete  Drug Test_Needed  \\\n",
       "App No                                                      \n",
       "6078403  Incomplete               False              True   \n",
       "6077989  Incomplete               False              True   \n",
       "6074279  Incomplete               False              True   \n",
       "5735329  Incomplete                True             False   \n",
       "6077157  Incomplete                True             False   \n",
       "\n",
       "         Drug Test_Not Applicable  WAV Course_Complete  WAV Course_Needed  \\\n",
       "App No                                                                      \n",
       "6078403                     False                False               True   \n",
       "6077989                     False                False               True   \n",
       "6074279                     False                False               True   \n",
       "5735329                     False                 True              False   \n",
       "6077157                     False                 True              False   \n",
       "\n",
       "         WAV Course_Not Applicable  Defensive Driving_Complete  \\\n",
       "App No                                                           \n",
       "6078403                      False                       False   \n",
       "6077989                      False                        True   \n",
       "6074279                      False                        True   \n",
       "5735329                      False                        True   \n",
       "6077157                      False                        True   \n",
       "\n",
       "         Defensive Driving_Needed  Defensive Driving_Not Applicable  \\\n",
       "App No                                                                \n",
       "6078403                      True                             False   \n",
       "6077989                     False                             False   \n",
       "6074279                     False                             False   \n",
       "5735329                     False                             False   \n",
       "6077157                     False                             False   \n",
       "\n",
       "         Driver Exam_Complete  Driver Exam_Needed  Driver Exam_Not Applicable  \\\n",
       "App No                                                                          \n",
       "6078403                 False                True                       False   \n",
       "6077989                 False                True                       False   \n",
       "6074279                 False                True                       False   \n",
       "5735329                 False                True                       False   \n",
       "6077157                 False                True                       False   \n",
       "\n",
       "         Medical Clearance Form_Complete  Medical Clearance Form_Needed  \\\n",
       "App No                                                                    \n",
       "6078403                            False                           True   \n",
       "6077989                            False                           True   \n",
       "6074279                            False                           True   \n",
       "5735329                             True                          False   \n",
       "6077157                             True                          False   \n",
       "\n",
       "         Medical Clearance Form_Not Applicable  \n",
       "App No                                          \n",
       "6078403                                  False  \n",
       "6077989                                  False  \n",
       "6074279                                  False  \n",
       "5735329                                  False  \n",
       "6077157                                  False  "
      ]
     },
     "execution_count": 10,
     "metadata": {},
     "output_type": "execute_result"
    }
   ],
   "source": [
    "TARGET = 'Status'\n",
    "COLUMNS = ['Drug Test', 'WAV Course', 'Defensive Driving', 'Driver Exam', 'Medical Clearance Form',]\n",
    "\n",
    "model_df = pd.get_dummies(data=df[COLUMNS + [TARGET]], columns=COLUMNS)\n",
    "model_df.head()"
   ]
  },
  {
   "cell_type": "code",
   "execution_count": 11,
   "id": "655bdbd0",
   "metadata": {
    "execution": {
     "iopub.execute_input": "2024-08-03T15:09:50.183056Z",
     "iopub.status.busy": "2024-08-03T15:09:50.182159Z",
     "iopub.status.idle": "2024-08-03T15:11:04.845817Z",
     "shell.execute_reply": "2024-08-03T15:11:04.843386Z"
    },
    "papermill": {
     "duration": 74.766081,
     "end_time": "2024-08-03T15:11:04.938665",
     "exception": false,
     "start_time": "2024-08-03T15:09:50.172584",
     "status": "completed"
    },
    "tags": []
   },
   "outputs": [
    {
     "name": "stderr",
     "output_type": "stream",
     "text": [
      "2024-08-03 15:10:12.908919: E external/local_xla/xla/stream_executor/cuda/cuda_dnn.cc:9261] Unable to register cuDNN factory: Attempting to register factory for plugin cuDNN when one has already been registered\n",
      "2024-08-03 15:10:12.909053: E external/local_xla/xla/stream_executor/cuda/cuda_fft.cc:607] Unable to register cuFFT factory: Attempting to register factory for plugin cuFFT when one has already been registered\n",
      "2024-08-03 15:10:13.071044: E external/local_xla/xla/stream_executor/cuda/cuda_blas.cc:1515] Unable to register cuBLAS factory: Attempting to register factory for plugin cuBLAS when one has already been registered\n"
     ]
    },
    {
     "name": "stdout",
     "output_type": "stream",
     "text": [
      "UMAP(low_memory=False, n_epochs=500, n_jobs=1, random_state=2024, verbose=True)\n",
      "Sat Aug  3 15:10:24 2024 Construct fuzzy simplicial set\n",
      "Sat Aug  3 15:10:31 2024 Finding Nearest Neighbors\n",
      "Sat Aug  3 15:10:35 2024 Finished Nearest Neighbor Search\n",
      "Sat Aug  3 15:10:39 2024 Construct embedding\n"
     ]
    },
    {
     "data": {
      "application/vnd.jupyter.widget-view+json": {
       "model_id": "fc4032c3802e417c826b52a59c8d0d5e",
       "version_major": 2,
       "version_minor": 0
      },
      "text/plain": [
       "Epochs completed:   0%|            0/500 [00:00]"
      ]
     },
     "metadata": {},
     "output_type": "display_data"
    },
    {
     "name": "stdout",
     "output_type": "stream",
     "text": [
      "\tcompleted  0  /  500 epochs\n",
      "\tcompleted  50  /  500 epochs\n",
      "\tcompleted  100  /  500 epochs\n",
      "\tcompleted  150  /  500 epochs\n",
      "\tcompleted  200  /  500 epochs\n",
      "\tcompleted  250  /  500 epochs\n",
      "\tcompleted  300  /  500 epochs\n",
      "\tcompleted  350  /  500 epochs\n",
      "\tcompleted  400  /  500 epochs\n",
      "\tcompleted  450  /  500 epochs\n",
      "Sat Aug  3 15:11:04 2024 Finished embedding\n",
      "done with UMAP in 0:00:40.369748\n"
     ]
    }
   ],
   "source": [
    "import arrow\n",
    "from umap import UMAP\n",
    "\n",
    "time_start = arrow.now()\n",
    "umap = UMAP(random_state=2024, verbose=True, n_jobs=1, low_memory=False, n_epochs=500)\n",
    "model_df[['x', 'y']] = umap.fit_transform(X=model_df.drop(columns=[TARGET]))\n",
    "print('done with UMAP in {}'.format(arrow.now() - time_start))"
   ]
  },
  {
   "cell_type": "code",
   "execution_count": 12,
   "id": "9cf15323",
   "metadata": {
    "execution": {
     "iopub.execute_input": "2024-08-03T15:11:04.957392Z",
     "iopub.status.busy": "2024-08-03T15:11:04.956592Z",
     "iopub.status.idle": "2024-08-03T15:11:05.080305Z",
     "shell.execute_reply": "2024-08-03T15:11:05.079171Z"
    },
    "papermill": {
     "duration": 0.135548,
     "end_time": "2024-08-03T15:11:05.082646",
     "exception": false,
     "start_time": "2024-08-03T15:11:04.947098",
     "status": "completed"
    },
    "tags": []
   },
   "outputs": [
    {
     "data": {
      "text/html": [
       "<div>                            <div id=\"dfc48196-f0ca-4521-9a8c-10e3bc484b7c\" class=\"plotly-graph-div\" style=\"height:525px; width:100%;\"></div>            <script type=\"text/javascript\">                require([\"plotly\"], function(Plotly) {                    window.PLOTLYENV=window.PLOTLYENV || {};                                    if (document.getElementById(\"dfc48196-f0ca-4521-9a8c-10e3bc484b7c\")) {                    Plotly.newPlot(                        \"dfc48196-f0ca-4521-9a8c-10e3bc484b7c\",                        [{\"hovertemplate\":\"Status=Incomplete\\u003cbr\\u003ex=%{x}\\u003cbr\\u003ey=%{y}\\u003cextra\\u003e\\u003c\\u002fextra\\u003e\",\"legendgroup\":\"Incomplete\",\"marker\":{\"color\":\"#636efa\",\"symbol\":\"circle\"},\"mode\":\"markers\",\"name\":\"Incomplete\",\"showlegend\":true,\"x\":[24.274458,13.098064,13.041558,-6.38021,-6.328113,-6.3241386,18.957956,13.11364,-0.1795874,13.079162,24.679867,24.78885,13.336582,-6.3423724,3.1931129,-1.7076976,13.118792,17.72473,-10.04778,18.961338,17.266258,-6.3548584,7.0869174,24.647528,13.113961,-6.35827,13.040491,4.4950833,13.1352,-6.3620996,24.368603,-1.5271541,-1.4796968,13.0144205,7.1119485,24.415537,-6.3725433,-5.3594685,-1.7150421,20.439426,13.078361,-6.3281636,24.480324,13.109165,-10.029555,-1.500359,25.21688,17.179043,-6.3292384,-6.3281384,24.444754,-14.287084,14.578396,-6.330305,7.0431895,-6.320479,13.216806,24.21827,-6.299033,-6.313598,-1.7185183,6.665253,15.114375,13.081957,24.249949,7.145867,7.0721226,6.6270666,-6.270147,24.46639,13.196187,13.185306,-6.251366,6.655993,15.117661,24.572948,24.337263,13.050666,-6.2432375,24.203796,24.36883,7.085051,-6.147884,7.077756,24.609291,15.193791,24.298628,-5.371765,-14.559799,-14.521378,-0.16122971,-6.165746,7.1091423,-6.33417,-6.281448,24.466959,6.6129107,-4.430444,7.079755,13.083532,-14.437265,4.4666405,-6.1402373,24.073944,24.429716,24.421457,-6.1535044,-6.302684,13.034042,15.142351,-6.254259,-6.2479596,13.057655,7.018462,-1.736273,24.598448,24.450504,13.104384,24.592365,7.085687,24.379208,-0.42066592,-6.1437383,24.382591,-6.3059726,24.475885,-5.27905,24.433554,-6.3489084,17.34941,13.149664,13.229136,3.1858459,13.197312,-14.5381365,13.205073,24.681068,15.1023035,-15.353212,13.045061,-6.3305955,-6.2438083,13.279647,14.083633,21.055496,3.1979787,-6.1473722,-0.42247203,15.140071,24.451313,-6.238194,6.6215014,24.395208,2.3455734,-1.4899086,6.9975915,-6.1576266,7.129843,13.157455,-6.2113476,24.485191,24.689503,-1.6758515,24.270964,-6.160347,4.5263186,13.208516,-6.3129587,-4.3983502,24.535427,24.373499,14.0543995,-6.2472377,13.057331,17.256914,7.1547494,13.264043,24.549995,24.483147,24.437534,13.317894,7.167796,21.056938,-6.1982236,-6.2413,24.29549,13.197929,-6.064048,21.050955,24.695349,17.264656,14.583215,14.548223,17.23792,13.142459,-6.115801,14.561589,18.954327,-1.508338,-6.239738,3.2157884,-6.1941853,-8.763788,24.4808,7.032102,24.482075,13.161123,-6.2829666,24.524147,7.0755925,3.1933477,13.1858015,-6.211177,-6.1536546,24.592375,7.0637455,24.683252,13.121702,21.056194,24.636532,-6.201927,7.0651274,3.2189524,13.205152,-6.1490192,13.997822,-14.40908,24.431965,-8.8029585,24.445145,6.6173873,13.129915,24.677233,-6.2359633,4.4281626,-10.008151,-0.16030061,13.352691,24.54858,3.2137089,-1.7225674,7.151772,-6.216226,-6.1788855,-6.0853353,15.15762,15.20152,6.6338725,7.121963,-6.4730577,24.41071,6.6411448,-8.770447,-8.780189,-4.4155974,-10.0594845,13.148131,-6.480994,3.1947095,24.510908,13.17245,13.215871,7.08968,-0.20505166,24.662846,-6.170856,13.075874,24.404993,15.121745,-10.055004,13.334207,24.534187,-6.267604,13.186132,-1.5097904,4.5165076,24.659042,-6.2294655,17.289925,17.202227,24.54395,-6.1380243,-6.125734,13.122358,-14.383529,-6.105742,3.2146366,-6.147813,24.675581,7.0631337,20.432928,24.670637,-6.0737834,-6.1486626,13.174077,-8.75668,24.710081,-6.098388,14.053468,24.639788,13.130225,17.175987,-6.1255345,7.1704025,4.466679,-6.0401273,-6.144124,-6.0896673,13.320899,-6.312576,7.172981,13.192165,7.135843,-1.7253764,13.049584,-6.1315804,-14.565626,2.345549,-0.30376244,7.0804143,17.218157,-6.0810504,-6.10149,13.220195,-6.2035975,-5.9798317,24.744116,24.667938,13.1261,24.549398,24.583673,-0.17283075,17.196026,7.1125383,-4.40561,3.1973422,13.109986,13.275398,3.1858568,2.3455646,13.370909,-1.4198681,3.2135487,7.1005425,-1.4787016,6.6511803,-6.048657,13.150462,24.547674,-6.0583158,-6.1482835,4.491904,7.113523,13.178752,14.014241,6.6537113,-14.37539,7.108188,13.040331,3.2148438,-1.4992216,24.622063,24.584345,6.682119,15.186054,24.558498,24.549994,13.275694,4.4650674,-0.1457154,17.212996,-6.0792446,13.088054,15.044069,13.001385,3.1962507,13.163024,12.985333,2.3455637,24.54816,13.072357,-6.10346,-6.295531,13.145074,7.0939965,17.214865,13.115947,13.107748,24.601738,12.992377,6.5799856,24.58478,24.704048,24.673182,24.8081,-5.928194,-6.1758523,12.989276,-6.060012,-6.160376,14.571518,-1.4900738,-6.205205,6.627092,-6.001877,-0.2054435,6.6624093,14.018815,-4.429778,15.1925745,24.673008,-6.2161336,-6.03796,-6.0072865,-8.77827,21.05476,13.083444,13.201869,24.593716,3.1864164,-8.752394,3.2173848,13.072396,13.059794,-6.2148266,24.800215,-14.31487,24.491877,-0.19520216,-4.980075,24.564762,-6.004916,20.438469,-6.004642,-6.2092023,-6.176511,-5.9392076,-1.6965891,7.09002,15.120949,-6.04716,-6.2778273,24.761742,7.113658,21.029749,-8.765113,15.128551,-14.21927,-6.189226,7.093203,17.333168,24.761229,15.152382,13.094724,13.195916,4.430363,17.19025,13.085446,24.740168,-8.7803755,-6.2229204,-5.993256,15.130879,14.064766,24.649437,-6.065059,13.14567,-14.627485,13.19847,18.969797,24.604942,-10.0062,24.634949,-6.186791,4.438407,20.456722,-6.06463,18.945175,24.745132,-6.2584715,-6.2400327,6.7209306,-6.063613,13.118816,24.678606,-4.4248567,-0.20380566,24.639105,6.60215,14.545039,7.1136312,24.598047,-6.262548,-6.3118796,-6.1695004,-6.0005827,24.597128,7.0407796,24.65955,-6.235832,24.6491,13.262926,24.616056,24.594715,13.233473,3.2175152,-6.1911993,24.727137,-6.1830153,-6.200752,-6.1003885,-6.1865606,6.638557,7.172506,17.278345,-0.20802891,24.625183,24.638855,24.631971,7.164362,6.6205444,24.644829,-1.7060031,-6.108111,-14.862232,-15.312338,7.121322,14.549873,24.61156,-6.0069957,13.309199,7.08673,-6.468484,7.1137147,-6.481697,-1.5168563,13.039666,6.6679134,13.1047735,13.116625,24.780293,24.743073,7.1175265,4.4078546,13.331118,13.204221,7.1962695,-6.1849747,17.2169,-6.2213125,13.095455,14.100482,7.1558657,7.094114,-6.270069,-5.9820757,4.4939737,-5.9225807,4.495068,-0.23334216,24.664577,17.301186,-14.531642,3.2487175,24.665524,17.234982,6.610737,13.1221695,24.646057,6.64138,-6.0887165,-14.449392,24.763006,-1.454949,-14.557146,24.703064,-6.2573686,24.626871,24.678692,24.704191,24.634308,21.090958,24.717184,-5.951796,-10.057764,14.028022,13.341334,17.442001,7.1863084,-6.06806,24.711288,24.707869,7.1310487,-1.4852009,24.677555,24.728094,-6.332815,15.101867,24.68875,-1.7245367,-6.1726155,-6.07292,7.221704,-1.6981744,24.68852,13.377199,-1.6997738,-6.321766,-1.5103233,-0.43053877,-6.2216663,24.733034,7.237584,17.219976,13.274696,-6.0827847,14.11745,15.220972,24.752829,13.240588,4.486014,20.446045,-6.0905895,-6.2746854,-6.1516247,24.687992,14.047525,24.578304,14.04958,14.559054,24.713564,-8.961354,24.743603,4.4522104,24.696842,24.64278,13.224425,6.620289,13.193134,-6.1802154,7.2038245,14.062605,24.679926,13.072273,24.605635,24.784245,-5.340842,-6.174868,-10.046352,24.656805,24.693745,7.196423,24.798317,24.700356,13.193956,24.761627,13.255397,-6.1312146,-0.22915035,24.752708,13.2880945,24.745922,-14.372059,24.831923,-5.349602,24.758024,4.4507766,13.405357,-10.00911,-6.2281413,7.2375536,13.148404,15.150418,24.808842,-1.4965286,-14.478441,-6.2281156,-5.3350153,-0.1695163,18.979567,7.202326,13.095966,-5.3468165,6.624771,17.16736,7.1746073,7.213725,-5.946024,15.171422,-6.1799374,-10.038321,-8.769446,24.679392,-14.428675,-6.165713,13.097845,-1.4698933,20.425774,-14.268897,13.480247,-14.556705,24.639385,-1.7025943,24.80727,14.548511,-0.18225579,24.725603,7.1706586,-6.123905,24.653286,14.067317,13.258327,-6.298215,2.3455513,13.146569,7.112022,13.203695,7.1048884,7.1073766,13.313816,-6.119402,14.043335,14.53531,7.240087,13.400722,17.26806,-1.7251213,13.148722,-6.186267,-14.45241,-6.2575083,15.149655,24.750639,24.74393,20.44822,15.131711,-6.1507664,24.82211,-14.368454,24.756483,13.206694,14.060568,-1.4926217,13.39378,24.725706,7.228691,-6.2694473,13.269545,-0.14206544,-6.2028766,14.118769,13.161684,24.70154,-0.15505649,24.787127,-1.5079591,4.412749,15.127828,17.166346,-0.19124499,-8.786428,7.1496196,24.836021,-10.073272,13.428016,-6.3661366,14.557234,7.25574,7.180543,7.2963676,13.308364,24.656155,13.323685,-4.4327683,15.181857,-6.3455453,13.178467,-6.1437716,24.796381,7.278271,-1.7286994,24.805927,-6.0457153,-6.184618,-0.14828724,-6.261126,-6.3157587,14.5861845,24.772999,24.743427,24.852718,13.297361,13.144256,13.289406,-1.4477376,-6.1976647,13.165078,13.279737,7.2479625,24.88002,-0.18424658,13.340341,15.197839,7.251966,3.1837049,-1.5232987,7.3261414,17.752413,-0.20731297,-5.340079,13.407879,-6.463472,-6.247632,15.191347,-6.20987,-6.1205935,24.82029,-6.096378,-6.195879,6.6236715,24.809061,7.2133026,-6.323106,-1.4415904,24.810392,24.846535,7.2477756,-6.21295,-6.1678104,4.476835,7.2094545,-14.543538,6.657686,14.052728,18.968258,-1.4837127,-6.1844134,3.1918926,4.4164944,15.215945,-6.314131,-6.207936,3.2740223,24.873217,7.3533893,17.204357,-10.032109,13.315376,13.412511,6.6254597,-10.071165,-1.5136527,4.4104433,7.3992395,3.2107577,21.05109,-0.1824409,13.24579,13.127041,13.11851,3.1816623,-6.1599774,14.015163,6.631611,13.147056,24.862593,13.192364,17.110128,-6.1561947,13.412556,-0.21120599,6.653872,20.454899,13.366113,7.24223,-6.1658955,13.144676,-10.071057,-14.558319,-6.1697116,7.3403482,7.3609037,-6.2266374,-6.1873994,-0.1425522,13.269349,2.3456128,-6.150034,24.809258,-6.2346125,-14.538168,-1.7320307,-6.1984954,7.381774,13.125256,-6.245969,24.825693,20.443874,-1.4723358,-1.7025474,13.329537,-6.0553193,13.286116,-5.26295,13.425497,-6.156809,-14.518532,-1.4608368,-6.2043915,-0.1757701,-14.454514,-6.2630677,-6.1919165,-6.338758,7.375936,24.8462,-6.097973,4.492951,-6.230141,-6.1025186,24.857714,-6.1326523,15.171804,24.84713,24.863218,-6.100288,6.5925584,24.859669,-4.4208407,-0.12371096,-8.771124,7.307311,-6.2638807,-0.18402098,24.911327,7.2447267,7.2982216,-1.5145028,13.433051,14.099867,3.2662895,-6.0449457,13.264101,-6.1722646,14.572608,24.87271,24.859684,-5.973872,-5.9977865,-6.1588855,13.2498255,18.961319,13.155892,-6.202693,7.346733,-4.420172,-6.062174,24.830542,-6.113117,24.869335,-1.7292713,-8.780304,-6.189127,13.463045,-6.132828,14.049584,24.913887,7.405389,-14.548866,-6.1313696,-14.425596,24.961525,-1.5297734,-14.546356,4.3735538,17.209301,13.293197,14.564719,13.250219,24.868834,7.2958927,-6.3118896,24.957518,-0.19222006,-6.1292353,13.228543,25.00713,-14.604078,13.347643,-14.557614,13.1450405,13.087034,21.05566,-14.619327,24.988722,-6.2402825,3.2364194,14.047208,6.5802693,14.522213,13.044059,4.455929,24.963688,24.937363,24.931755,-8.745383,24.947166,13.116756,14.1220045,15.169326,18.958307,-6.1778545,20.436972,4.470744,13.305911,-6.219816,24.890768,-6.2693076,13.009794,25.007917,3.2339218,24.982494,-4.417933,14.047481,13.135266,20.438152,14.052538,25.05459,-6.2034163,-0.19026858,-8.767826,-6.1539445,6.63488,25.061317,25.019173,-6.03616,13.378681,3.194193,24.97117,17.489302,-5.3543806,17.72257,13.332082,-6.1807146,7.141441,-6.3317814,25.11376,-6.4117646,13.023273,14.054634,15.138542,25.079115,13.048461,25.0435,15.165507,7.348362,13.296853,25.107391,2.3455467,7.2854176,-6.122168,13.394909,25.055523,25.030561,-5.2974257,25.177223,14.030301,-1.7143952,4.4473414,25.113966,-4.4769936,17.12717,25.27438,13.056273,13.429068,15.188535,7.4166408,25.134275,18.942968,17.249638,25.15629,25.272385,7.3799825,13.267853,-1.750138,25.126776,15.207943,25.039885,25.117294,15.182747,25.179033,25.202673,-0.13333462,-6.0135126,13.380792,13.292031,14.01592,17.207468,13.326288,25.213957,17.186258,-6.202445,6.571864,15.1510105,25.208664,3.2124386,7.343754,15.129006,17.286287,-6.0258675,25.274618,-6.1908493,25.205147,3.2560093,13.271854,3.1924677,14.066143,7.349992,-5.955248,-6.125258,-6.0892835,-6.2296567,14.014904,-6.0532885,25.340565,17.250809,4.4554095,13.119738,13.094223,25.333033,25.311007,13.013485,13.387873,7.362679,-6.147502,7.373502,25.088055,-5.954323,12.961455,-0.44673494,17.241266,25.044188,-6.2475543,-0.29994008,25.079252,14.10866,-6.104251,25.08696,25.098326,6.5672183,6.678212,-5.3503857,6.630535,-6.006397,7.3411083,21.058178,13.374107,25.083464,-6.118007,-5.904688,-0.32556486,25.075706,25.101887,-5.983326,25.088598,25.090305,7.357909,25.096106,25.093632,25.089714,7.438266,15.224814,-1.360572,-1.5647026,-10.00936,7.384277,-6.0688353,-5.9879518,7.3616695,13.015929,12.993599,25.095163,25.613867,-6.2256274,13.262247,3.2137573,13.083805,-5.9735484,13.00512,-4.416512,13.383335,13.267273,17.191746,-14.711703,23.866514,24.616222,-6.0263424,-5.9845047,-8.755193,24.339548,13.390416,-5.9712696,-5.900019,25.566212,23.90586,23.998413,7.364569,7.370295,15.001132,3.167615,4.4094925,24.041653,24.53445,23.805124,3.1616395,-10.080511,-5.960986,23.8632,6.616825,17.269102,-10.032236,-1.7261345,-0.1687175,23.874546,-5.938457,7.4460444,-6.003759,23.970207,23.901102,18.963444,-0.2172174,13.014806,7.3727627,13.063336,23.917604,-0.22165439,24.112068,-1.6966698,7.4037914,21.05443,14.017753,13.361696,20.441153,-6.2311234,-1.7431858,4.5225973,-6.0954213,23.780012,7.4644747,-6.0984273,17.2821,-5.873673,7.3085866,24.085953,-5.943293,-5.882464,6.5869055,24.735163,23.928743,6.569474,24.813328,-14.773424,23.888721,-1.4885343,13.329839,-5.9068537,13.28377,3.2364423,-0.19897963,17.14304,-5.9638867,13.379647,24.191261,-6.163649,-14.833855,-1.7035697,4.435013,24.14527,17.16422,24.147045,24.261812,-6.027552,13.48135,-14.861272,13.314806,6.654507,3.1877203,24.218536,13.295806,17.17348,-5.956535,13.367187,-1.712788,24.039642,-6.1354856,24.322935,18.952991,14.02086,17.253958,14.02814,-8.799005,-6.0011306,-5.9791474,-5.9362373,-6.0241194,-5.9766545,6.6462274,24.240124,23.910337,4.473202,-1.4272934,24.973198,24.52596,13.428047,4.387511,-10.084848,13.290432,-6.0499706,-5.9177427,23.944448,7.4267197,-0.27090347,7.328408,-5.3400235,-1.5164288,-5.8582187,13.081026,-6.0007243,-5.971232,-6.0324144,13.262744,-14.845946,14.560899,2.3455074,14.017467,-5.9571466,13.324926,21.06388,24.947233,13.395581,17.264584,-6.180026,-15.086855,17.198677,13.068613,-6.3121443,-6.381999,15.163203,-6.4900208,-6.0512233,13.246526,14.0264015,-1.5485681,-6.053063,4.4433436,24.95997,24.215866,24.31759,13.354627,-6.05165,7.425593,-5.2612343,24.68017,-1.7400608,13.133062,24.45221,24.317524,15.123472,13.258404,24.437006,-6.0230603,13.3035555,6.661847,-6.2323613,-1.4635657,24.92446,-15.3550825,3.225131,24.374775,13.348334,-1.7416863,-5.34297,13.3685875,24.407509,-5.9796877,-1.7006959,13.383327,24.145123,3.1778274,13.282944,24.626432,13.355843,-6.0898843,-6.0717244,13.325474,24.67102,13.210421,18.952341,17.16162,14.061086,-6.0461593,13.28642,13.349105,24.282532,-6.22367,7.5061502,7.3915677,24.240593,-4.4102397,-8.741575,24.410234,13.250673,13.009686,24.233152,24.638914,7.342539,24.818054,13.010397,-6.165943,13.282514,-1.4873438,-6.0796742,13.320754,17.171032,-6.373153,17.106937,-1.5008072,15.121265,-6.339112,14.53315,-6.22734,-6.115063,-1.6863896,24.283876,24.455511,12.872439,-6.166184,7.361092,13.1540985,14.546784,13.345953,-6.2452073,7.3457355,24.417933,7.2877774,24.483616,17.146904,-6.116119,13.311672,-6.107131,6.6400156,6.639176,24.39744,13.195771,-5.3098464,-6.2163897,17.183735,-0.21919681,-15.207088,-10.068288,-6.135064,13.048951,-6.1003323,24.454391,7.4485087,6.605726,-1.7246637,24.155981,13.323255,-6.0590467,13.126203,17.287758,-6.2267356,-8.801561,-6.0334477,17.158325,-15.105319,24.837997,-0.20981175,-15.174127,7.3490615,14.016153,17.144707,7.4254045,-10.0752945,24.520645,3.2086098,-6.0338235,13.032308,-6.0747705,24.378454,17.234613,4.4250197,24.597233,-5.992053,24.525206,21.097511,13.242578,24.61657,13.029018,14.114815,-6.044267,13.26017,13.339066,-15.320556,-6.110074,24.352398,-6.195602,13.299243,-1.7129903,17.722282,13.221122,18.957352,7.3863435,-5.3595405,24.380192,24.490297,-0.4346266,14.531221,13.120014,12.948956,24.457085,14.550623,-15.488908,15.033046,17.13398,20.425615,24.266134,-6.085149,6.681303,-1.5358965,12.976555,3.2348971,-6.1964993,24.56203,7.422125,7.5775485,14.52711,7.3383102,13.236497,24.616447,-6.194023,13.296119,-6.252249,-6.2970924,-6.0943046,7.457423,20.424128,24.255089,-6.258538,-6.0796113,-6.2044735,4.4651003,3.1799593,18.954279,24.382696,13.274316,-15.403472,-6.3003664,-0.2374083,24.554867,24.67385,24.532812,24.550846,-1.4839932,-1.4621971,13.035386,24.627026,13.215337,-10.047993,-4.4040093,-5.3353624,-0.13919613,7.3944654,15.115419,13.276799,24.494267,14.100192,-10.121648,13.221913,-15.349897,-0.1471616,7.454113,-1.5260345,-6.2255177,-6.258024,-6.0773115,7.281807,-6.184723,-8.749242,7.411273,-8.761991,24.44004,7.458214,14.578871,-6.298784,24.535618,-5.3835864,24.69236,-1.4496449,17.155582,24.410791,-6.15319,-6.275718,4.4680743,12.964658,7.4281006,-5.3348002,7.220602,13.194217,17.153975,-6.2763867,-6.250913,6.5571327,24.49521,13.272738,-6.112629,13.082999,17.742195,13.276427,-15.513657,-8.789998,24.343172,24.754515,-6.321173,-10.049755,-4.460267,24.498144,-8.734156,24.514936,6.6103067,-15.431602,17.251612,13.1788435,13.200972,24.341312,24.404282,24.556786,-6.1807475,7.231263,-6.097453,24.542656,6.6731524,13.205357,14.064879,-6.118861,-15.463025,24.578264,24.46278,24.502884,24.40593,17.235651,7.3793087,17.32191,-6.311353,24.55155,17.25236,-6.3421082,-8.733427,24.501629,13.193667,24.651081,24.61604,-6.478892,13.197093,13.131797,13.02204,4.364974,24.63451,13.176755,17.20378,17.296999,3.237908,24.627024,13.156424,24.63861,14.033098,-6.052414,24.59415,6.618834,7.319175,7.3815374,-9.961757,24.615454,13.167711,14.577036,3.126242,-6.471019,17.283358,-15.711591,13.144276,-15.51861,-6.0682206,7.420082,24.661432,24.682928,-6.278296,21.070587,17.76068,15.145481,6.5865126,12.950204,24.531698,24.544964,-6.4962816,-5.3810763,24.541828,-15.787663,-10.042633,17.198126,13.106762,20.538403,6.6156225,24.588537,13.111233,-8.791512,-6.4077935,-6.3277917,-1.5359312,-6.297623,7.343558,-8.740178,-4.4766674,3.1467595,-6.423038,-15.784252,24.700037,-6.501736,-0.19334167,13.016006,-1.683996,13.049919,14.117126,24.650078,24.482773,-6.371106,13.144354,-6.4190354,-6.5414004,-6.3106585,24.63055,7.311505,3.2548087,24.640354,3.1842911,12.990993,3.1973066,14.035451,-1.4510787,24.53511,-6.428519,7.3800063,-6.035241,-6.4523625,-6.3822193,-6.3615117,7.415662,20.410488,14.374574,24.746689,-0.17353822,18.95547,-6.417293,6.592469,3.2212358,-6.47458,-6.5798073,-0.13859756,18.961903,24.64123,24.675222,24.664494,13.118468,-1.5209004,6.5991716,24.672197,-10.067122,-1.676354,13.045059,-1.7435241,7.344096,-6.391759,12.829139,24.85667,13.03898,12.925637,-6.379376,13.067902,6.547977,6.6878185,13.088438,12.965279,17.315434,-6.58889,-6.093724,-1.5815531,-6.3164654,-6.3453226,-6.047761,13.042259,-6.541194,14.058653,24.561121,21.056334,7.3494086,-15.688717,12.923409,17.076553,24.636621,-8.970673,4.4205756,24.845545,13.000917,-6.457801,12.979073,13.07376,4.5149055,15.12705,-5.9897623,-6.1807184,-6.450739,-6.0540776,-8.708261,7.398995,12.979759,-6.5837264,7.415608,7.322151,-0.16540901,24.663155,7.296113,17.167658,13.08142,-10.066809,3.171574,-6.563642,-1.5340062,13.105041,-6.3118124,-6.5355577,-6.5867667,13.130613,12.921478,13.166671,15.167248,24.690788,24.69267,-6.478806,12.857693,-0.2122558,7.3124595,24.666397,-6.5057497,24.589302,-6.415423,-6.5886407,24.63519,-6.5981274,12.916933,13.139469,24.721176,12.921577,-6.2004156,24.809532,24.756874,15.1433735,-6.6232843,-1.7149795,24.703793,-6.5020843,24.747168,-6.1010466,14.120571,6.633809,15.088725,-6.7833376,13.135068,7.322273,15.178464,24.672304,12.93244,6.543173,13.095052,12.941917,24.67354,12.748183,-6.594682,-6.730771,12.737994,24.892721,-6.575637,-6.024944,-5.999323,-10.088663,-15.861223,12.994201,12.85023,7.3374043,4.3030577,-0.29248092,12.694201,3.2220962,7.343733,17.229372,6.636008,-5.3880453,24.747406,7.310618,12.92209,7.2231913,24.9171,15.155863,17.12698,17.12618,-0.21171977,-6.672043,-1.5668796,-15.824442,-6.106979,12.76577,15.085766,24.698044,12.82806,-1.5394467,24.860703,24.660456,15.156566,-15.773289,6.5403543,12.963629,-6.525804,24.864378,17.246836,24.829031,7.09571,7.3956857,6.6807117,12.804988,-6.771029,15.08177,-0.1801471,6.575303,24.6669,12.82255,24.784622,-15.93253,24.729385,24.973688,7.2923107,7.227813,-5.351841,15.134688,4.356116,-6.777053,24.841513,-8.7270155,6.5806265,-6.037987,24.89669,7.2681346,-15.942859,13.962903,-6.583262,-6.312068,-6.0949793,24.810894,-1.694977,13.017639,7.22484,7.287253,24.939472,15.07142,-0.16309035,6.634109,13.004967,12.937249,-1.5245857,20.43514,14.535908,-6.598954,24.820423,-6.022916,7.2854037,12.787791,3.1522076,24.889608,17.281116,-1.3960466,12.72674,12.731005,17.111332,24.830149,25.04909,-10.018085,12.80108,24.908054,24.856777,-0.20608264,17.226912,12.920261,12.981122,15.09646,24.880524,12.829075,-6.0785537,6.6424117,24.926973,15.131511,24.848856,7.211992,12.99991,-8.766504,-6.083809,-15.968094,12.782288,-5.3013477,7.1991057,14.067993,-6.205251,-6.696059,14.066284,13.064663,-1.4762213,-6.6135497,13.052229,12.875656,24.945541,24.979067,17.294899,12.874604,-1.4970486,17.219885,-6.603652,13.005145,6.597827,-6.7759633,-6.539047,17.270765,4.439506,4.506035,-1.7170951,-6.697684,7.173028,4.4452176,-0.42419434,6.5790615,-6.0322266,12.915996,-8.734679,17.165472,-8.710363,24.985956,24.98616,25.020369,25.00972,14.032913,24.85496,-6.7252975,12.822083,25.058685,14.118522,-1.6845037,-15.882101,13.006179,12.884585,24.88108,-15.241632,25.01718,-15.868377,-6.7519045,12.929032,-6.6235366,15.139696,-4.4080944,-5.3438773,17.10583,-6.6488886,24.99187,7.3806934,7.148782,7.2779574,-6.632663,24.933846,17.244232,17.150385,12.89819,24.877872,12.782262,25.035624,17.761805,25.04965,25.131245,15.13328,25.097776,24.957195,7.155197,12.838411,25.046217,-6.7862606,-6.754568,4.5522733,7.2133675,-8.833465,25.124811,12.757793,7.2993455,-1.5296545,3.1913579,17.238937,-8.790929,7.275538,25.025682,-6.6699595,17.107752,12.760477,-15.848013,-6.600697,25.115488,24.996126,12.971775,-6.150251,12.8415,25.13775,-6.732216,-10.057424,-6.6707473,-6.6049643,25.234503,12.822087,-6.144555,12.912654,12.85069,25.154066,25.139977,7.219377,15.070523,25.178244,12.788775,6.6349807,-6.7978354,-1.7150031,12.692005,7.1550045,12.8903265,25.152195,-6.8216724,-6.7680535,-1.7176322,12.806993,-15.318319,-15.845395,-1.4978105,-6.7270327,12.834032,20.464773,12.803672,25.288013,-6.7146106,-15.875098,14.581443,12.986459,-8.771955,-6.320239,-0.24780665,20.45029,7.103499,-8.786902,13.013528,-6.3119144,-8.761467,25.173561,7.207976,7.203247,-4.4705887,-6.074345,25.107262,-6.6575284,-6.684474,-15.899141,-8.745068,25.14028,12.839745,25.136421,12.950584,25.222675,-8.75466,17.206219,-6.1467576,25.204292,-4.3930984,7.0693207,12.805492,-6.7109094,7.15058,-0.16302648,-8.75696,6.547171,17.216167,-1.5348144,6.5850134,-10.044742,7.168621,12.884354,25.19095,-10.076729,-0.12626682,25.206429,12.864171,4.399868,25.177252,12.941871,-6.02161,12.950382,4.46622,17.295845,25.142319,-0.11735481,15.141798,25.319613,-8.783722,3.197882,25.232847,17.21178,15.066377,12.975556,-1.4630219,15.0508,13.227707,-6.779797,12.744401,14.031872,3.2670774,17.271954,14.057172,12.730615,25.227247,-6.0484295,12.864815,-6.708807,25.390316,7.1598773,-1.5866392,-6.643587,-6.858842,25.308098,-8.770139,25.237686,12.86301,3.1493979,14.543618,-0.14071319,12.951049,15.221839,25.24407,-0.1816978,7.1329226,12.811967,-6.563734,25.229023,25.1111,-15.756502,6.621249,25.207687,15.0997095,25.236,-6.143249,7.0678306,6.6315947,13.00127,12.994457,-6.633442,-4.419639,12.805385,-10.044776,12.826825,-6.6493087,17.200386,14.05964,-1.4934136,25.325377,13.020363,12.73802,12.759654,15.183782,25.249298,7.0160813,-6.6401415,17.31408,7.211684,-8.7983,12.801201,-8.715848,13.04029,7.052858,-6.7157187,25.31753,20.414154,17.392178,12.94307,-6.7834687,14.074214,6.6955957,25.273294,7.043959,18.857876,-6.111995,13.108005,25.271832,14.550072,7.3997703,6.7040257,-1.5225844,12.733928,12.797234,25.30904,25.208567,15.149281,-6.7906547,25.237278,15.164807,12.726188,12.816927,-1.4445151,12.665587,-6.6265945,-6.026328,7.18254,7.103024,25.350822,15.115539,12.82752,-6.792961,-4.3720717,-6.7899714,-6.475023,-6.1798677,-6.2319546,25.29417,3.1686432,12.988678,7.1622605,25.357153,25.241676,25.293444,25.219616,15.105954,20.423326,-6.6773105,-8.805042,15.124881,-10.057375,25.284204,-6.604694,-6.1905828,25.377066,21.076315,-0.43351454,-1.4789829,12.74131,25.330635,7.030912,12.84883,7.07716,14.542226,7.0105376,-1.468395,-6.737017,15.046439,-1.4897021,3.2506413,12.889959,-6.1893315,-6.7312946,25.333136,12.694083,25.368486,7.147469,13.054378,17.331898,-4.4677477,-5.305416,17.271717,-6.1179004,-6.299965,7.0043736,25.345253,-6.682243,25.220793,-6.718105,14.552868,15.160336,15.057106,25.37795,20.419212,12.776005,-6.676716,13.053376,15.025727,12.964741,-6.171757,12.84089,7.013042,25.311947,7.0325403,15.096998,25.34711,-15.504732,7.023141,-6.629894,-6.614782,25.221926,25.273373,25.323624,12.798293,-6.6763616,-15.54417,-6.60754,-0.20933323,7.039759,-6.760781,7.1212645,-15.506007,7.1229444,13.050155,14.052312,25.287,-6.653117,3.129184,-6.533671,20.434113,-1.451238,7.087898,-10.094086,6.6450744,12.710127,13.128744,25.325182,-6.682183,13.098071,25.361612,6.634468,12.987276,-6.722046,12.946148,-1.5544729,6.978694,7.0012217,4.54783,-6.537645,-6.714034,7.010064,-9.999665,-6.581711,-6.6135736,-6.602261,25.234505,7.0615616,25.29283,-6.548162,-6.3091326,-15.322635,25.325975,-6.6186857,-10.060142,4.4382606,-6.0438056,6.6899714,15.106154,3.2513332,13.213196,-1.5036018,15.134212,-6.2725096,3.233743,7.0167894,25.339031,3.202188,25.335564,7.106634,20.42786,25.313215,-0.13720155,6.523593,25.312057,13.2062645,25.289055,13.080353,-6.1647162,-0.32286733,18.956997,6.973642,12.911498,-9.000853,12.7845335,2.3454504,13.034783,12.84883,12.887735,-8.835687,25.316729,17.07734,18.96733,13.003974,-6.1544237,14.119891,-6.191417,12.991924,25.3016,-6.126172,-6.623874,-1.5134932,25.329338,25.32644,17.125097,7.0780263,15.068063,12.851071,-6.423364,-4.4179115,25.372976,12.815291,25.321198,12.95711,-6.510923,12.912151,25.319012,3.1891487,13.154638,-6.6610403,7.3687987,15.179288,25.28827,-6.5493326,17.148338,2.3455646,4.422172,-15.283289,-1.5413787,25.249046,20.392698,-6.595519,25.248201,-6.433959,-6.4564037,12.993199,13.000918,25.224354,-1.4612486,6.6641526,17.24296,2.3454416,-6.302055,7.2015643,-6.5057063,-6.535655,6.903808,-8.781609,17.256422,13.082106,-6.5225,13.130165,25.153906,17.062805,13.258569,3.1763895,13.051138,25.20765,-8.753045,17.286005,15.19471,14.566327,-6.5222826,12.976135,13.002015,-6.591485,-6.5757804,-6.1858377,25.284641,25.240526,6.888291,25.135319,25.250463,14.00125,-6.4760494,-6.5908985,25.326296,12.924621,17.267323,25.2288,4.450659,-6.5378523,25.236727,25.218517,7.022402,25.226036,25.054295,13.205324,-6.5180106,-10.084192,25.164845,24.88788,6.9613757,7.481599,2.3448985,25.194952,15.113523,-6.312023,25.14866,25.163502,25.132044,13.139043,12.944587,7.010819,13.174352,6.652745,-0.20341004,3.2049048,4.452789,25.156336,7.0240264,-1.5647075,17.212912,13.217191,4.4510126,13.113793,-1.6837379,-6.1763587,6.622453,3.1785269,24.972887,-6.532013,13.025899,-0.20829892,17.015406,6.508503,-6.4730315,-10.028336,-4.4244027,15.096706,24.944164,13.068695,3.2557495,25.102842,24.971645,13.205784,-6.4046926,13.132166,25.014065,-6.513664,14.053677,6.991167,24.95395,25.057104,25.044836,12.949648,13.012492,-14.88635,3.2331064,-6.4541254,-6.425161,6.8393607,13.198789,24.907503,17.171513,6.9918413,12.994228,-1.6988615,25.046797,24.70467,-8.754904,24.90181,-1.7319174,24.797985,24.885818,-0.24369758,-1.672075,7.0517716,-6.2822585,-6.3659763,-6.4422665,-1.4123206,13.050545,24.86206,-6.4066105,13.172007,-6.184897,13.245214,7.065181,24.752256,13.098133,-6.541727,18.962406,13.058858,13.174403,-1.7027149,24.898584,-6.477537,18.951855,13.005104,17.264376,12.997774,-6.404118,17.234097,13.123686,13.19266,-6.4288125,6.93127,24.537348,14.539356,13.199018,-1.6999964,24.730173,13.20481,17.105831,17.148285,14.1252365,-14.690657,24.69625,6.9262195,4.4736834,13.092477,24.735151,17.142464,-6.376207,-1.5171361,13.030642,24.624062],\"xaxis\":\"x\",\"y\":[12.516813,28.941591,28.89969,-12.912147,-12.879046,-12.926118,-14.71357,28.921932,1.9921906,3.8129294,12.919051,12.764111,3.8542392,-12.932334,-1.6750437,27.589779,28.871815,-15.186865,23.178022,-14.71978,-15.51407,-12.905393,17.932383,12.495275,3.792563,-12.845061,28.926807,-18.004393,28.852112,-12.840881,12.428859,3.9865258,3.9313004,28.865602,17.810455,13.120656,-12.869545,-3.0317037,27.577341,-10.979647,28.875742,-12.926458,12.584817,3.7715144,23.19571,3.959316,13.220058,-15.452658,-12.847331,-12.890623,12.571845,6.114698,-8.711684,-12.872466,17.86582,-12.8227005,3.9028833,12.653484,-12.852564,-12.844209,27.577097,-8.734854,-20.39111,28.899221,12.622042,17.782236,17.855213,-8.790787,-12.861094,12.607182,3.7757638,3.8333693,-12.775675,-8.790874,-20.379583,13.068842,12.56595,28.896488,-12.857865,12.767825,12.6925745,17.925177,17.77408,17.838827,12.692689,-20.412336,12.789825,-2.981577,6.033224,6.051964,2.0013506,17.741684,17.77053,-12.824052,-12.876707,12.68189,-8.75643,-2.4591787,17.849161,28.946426,6.154407,-18.035595,17.779488,12.6602125,12.765363,12.614145,17.764685,-12.885026,28.933075,-20.392252,-12.769439,-12.795177,28.939861,17.79257,27.593832,12.681836,12.697153,3.7222779,12.865553,17.82289,12.67329,2.3408656,17.77084,12.721414,-12.787985,12.690862,-2.9665184,12.738505,22.824114,-15.401504,3.7996335,3.8246698,-1.6940467,3.8697271,6.0727324,3.7240484,13.193066,-20.448553,5.1078367,28.909008,-12.699428,-12.795331,3.7933238,-10.082917,-9.8497505,-1.6750954,17.766468,2.3472073,-20.387497,12.626134,-12.767957,-8.7708845,12.687071,11.815715,3.9444678,17.756289,17.728806,17.787102,3.6572793,-12.868484,12.887358,12.919557,27.539318,12.813581,17.738028,-17.990173,3.7780297,22.797403,-2.4277556,12.697325,12.688635,-10.403457,-12.88036,3.7326858,-15.470983,17.919119,3.6946084,12.675599,12.614517,12.643172,3.8278306,17.918861,-9.8443985,-12.8072815,-12.8304205,12.900241,3.892577,-12.884191,-9.850842,12.750141,-15.444818,-8.677426,-8.683051,-15.4712,3.7521167,17.746485,-8.69749,-14.716501,3.9456518,-12.872602,-1.686089,-12.850637,24.05581,12.731636,17.781471,12.6816635,3.776036,-12.877505,12.695281,17.766386,-1.6827612,3.7089374,-12.867199,-12.873601,12.79673,17.753853,12.771144,28.876184,-9.845037,12.804654,-12.864719,17.791216,-1.6640614,3.7680097,-12.829035,-10.375854,6.1488175,12.850602,24.019678,12.722876,-8.779348,28.991318,12.745717,-12.874948,-18.082857,23.206678,1.9751873,3.6450434,12.771734,-1.6836905,27.586012,17.727425,17.715555,-12.935837,-12.867598,-20.3599,-20.338577,-8.744992,17.735014,-13.014906,12.79403,-8.788142,24.049236,24.039463,-2.4443204,23.166027,3.7140439,-13.006243,-1.6695131,12.743927,28.794353,28.829071,17.79343,2.01324,12.768491,-12.8309,28.978977,12.836428,-20.407969,23.16807,3.6386933,12.851315,17.721497,3.70181,3.9754539,-17.98973,12.864208,-12.840517,-15.407665,-15.533023,12.812855,-12.902291,-12.893811,28.913748,6.076617,-12.805467,-1.6824977,-12.903201,12.836722,17.829388,-10.987591,12.812098,-12.921087,17.752375,3.69997,24.062773,12.753298,-12.90451,-10.395033,12.762813,3.6139843,-15.472813,17.786837,17.76176,-18.032494,-12.902865,-12.869477,-12.908723,3.572261,22.79703,17.67742,3.7814102,17.623339,27.58973,3.751423,-12.821618,6.113655,11.815694,2.1518462,17.767868,-15.459557,-12.889131,-12.83972,3.7545698,17.748425,-12.902823,12.795338,12.892744,28.83574,12.761177,12.871976,1.9894722,-15.483629,17.712002,-2.436675,-1.6904551,28.883259,3.694474,-1.6637921,11.815707,3.726233,3.8467185,-1.6551292,17.789076,3.9495823,-8.7772665,-12.871679,3.6109948,12.771525,-12.768165,17.75536,-18.011854,17.756874,3.7289088,-10.38081,-8.79376,6.0696206,17.780394,28.944714,-1.6805162,3.9656138,12.946349,12.77349,-8.706806,-20.434673,12.795277,12.927942,3.6331706,-18.027824,1.9578606,-15.48087,-12.872022,28.893309,-20.364706,3.7116485,-1.6587641,28.823612,3.7270746,11.815717,12.823792,28.886246,-12.884628,22.780184,28.953953,17.741879,-15.502934,28.891897,28.935444,12.964564,3.7206883,-8.728476,12.828774,12.850356,12.8282995,12.806819,-12.902844,17.795372,3.7263396,-12.945956,17.735207,-8.688343,3.9334466,17.810076,-8.746546,-13.081988,2.0181413,-8.757685,-10.368612,-2.4588063,-20.308933,12.779857,17.70921,-12.951717,-13.20034,24.041166,-9.847184,28.88022,3.6325598,12.799101,-1.6891739,24.075062,-1.6793766,28.886202,28.93144,17.738983,12.924339,5.9401245,12.911232,2.018619,-2.7868323,12.856323,-12.936513,-10.979712,-13.098581,17.83156,-13.104022,-12.990259,27.559896,17.687454,-20.408228,-13.037866,-13.085132,12.843318,17.747583,-9.876709,24.049074,-20.397343,5.942622,17.791471,17.738317,-15.345868,12.887442,-20.368032,28.903662,3.624705,-18.064754,-15.440471,28.921204,12.815441,24.03926,17.859463,-13.100817,-20.384966,-10.316066,12.830115,-13.094835,28.836264,5.8190584,3.7349148,-14.703275,12.787624,23.20758,12.805875,-12.937153,-18.03117,-10.959483,-12.855882,-14.725086,12.824767,17.87361,-13.11934,-8.688674,-12.924853,3.754763,12.870006,-2.4534187,2.008485,12.795538,-8.741154,-8.715364,17.786753,12.845664,17.747408,22.79664,17.754623,-13.049502,12.811735,17.686441,12.7790985,17.77442,12.84732,3.78355,12.859606,12.797964,3.6018453,-1.6564806,-12.985673,12.949815,17.76234,17.82479,-12.942376,17.842068,-8.731197,17.690163,-15.427368,2.0183585,12.9279,12.829856,12.876101,17.682348,-8.742503,12.810758,27.569494,17.860355,5.830819,5.209036,17.813637,-8.695783,12.821686,-13.101804,3.6270685,17.702072,-12.991254,17.764048,-12.989612,3.9742694,3.8235772,-8.728495,28.872303,3.5823865,12.817595,12.914655,17.78794,-18.088398,3.5387514,3.7035327,17.619719,-13.013063,-15.500264,-13.010949,28.874018,-10.446927,17.684366,17.702927,17.83475,-13.116819,-18.016829,-13.304734,-18.033836,2.053953,12.939685,-15.555794,5.8438153,-1.6333019,12.928947,-15.48931,-8.7392235,28.86863,12.922184,-8.780916,-13.083646,5.735915,12.7699795,3.9532795,5.6690335,12.789318,-13.188949,12.944609,12.826392,12.891953,12.851515,-9.810882,12.91141,-13.184321,23.167252,-10.402131,3.6759849,-15.312718,17.684208,-12.890102,12.889625,12.922617,17.725151,3.9541318,12.890807,12.898135,-12.997557,-20.339172,12.914147,27.586119,-13.02047,-13.1852865,17.762716,27.557922,12.830282,3.8335416,27.562712,22.806519,3.9718196,2.3497357,-13.019769,12.837506,17.636154,-15.432709,3.7527554,-13.159964,-9.822836,-20.453432,12.8821745,3.57823,-18.016985,-10.973847,-13.019637,17.694448,-13.032517,12.8320675,-10.400209,12.894721,-10.365878,-8.700529,13.002218,23.88312,12.875737,-18.060852,12.861196,12.963648,3.8574824,-8.748773,3.6556525,-12.981636,17.640228,-10.380338,12.946546,28.880268,13.008455,12.766696,-3.0220127,-13.182571,23.17903,12.805795,12.859468,17.644527,13.0931015,12.857124,28.905281,12.891531,3.6864192,-13.232031,2.0426316,12.924975,3.583871,12.918196,5.5984116,12.974545,-3.0105405,12.9440565,-18.018114,3.5468926,23.216326,17.796625,17.690735,28.958622,-20.365984,13.049453,3.9446404,5.763702,-13.103044,-3.011317,1.9810642,-14.720236,17.663801,28.813278,-3.012463,-8.763126,-15.504796,17.664986,17.613808,-13.064192,-20.386024,-13.161653,23.184572,24.050001,12.914649,5.5498066,17.77289,28.821056,3.9539177,-10.994097,5.52449,3.6655674,5.6388855,12.949844,27.580011,12.949655,-8.709719,1.9960301,12.872337,17.891901,-13.059452,12.998191,-10.4133625,3.633792,22.779644,11.815697,28.886784,17.911291,28.813175,17.953924,17.904472,3.6799018,-13.131708,-10.39311,-8.723123,17.685572,3.7023332,-15.415736,27.587297,28.925417,17.796465,5.525032,17.852608,-20.36999,12.927528,12.977947,-10.999758,-20.387268,-13.072233,13.042048,5.6083517,13.057789,3.776259,-10.376265,3.942405,3.5877035,13.001645,17.694473,-13.046098,3.572428,1.9557022,-13.083927,-9.825493,28.804178,12.912437,2.0057564,13.083393,3.9420362,-18.115934,-20.41963,-15.480691,2.001119,24.0328,17.60863,12.946082,23.151947,3.5854049,-13.300194,-8.703564,17.616528,17.652517,17.722055,3.657407,13.045141,3.721375,-2.4612296,-20.356215,-13.087686,28.732334,-13.194347,13.11899,17.747318,27.608433,12.938665,-12.979556,-13.190895,1.960117,-13.088339,22.800186,-8.677476,13.0378,13.100593,12.956859,3.7356918,28.858194,3.6966834,4.0020294,-13.070619,28.803463,3.7086926,17.66421,13.063619,2.0375123,3.734365,-20.419445,17.774294,-1.701012,3.939638,17.65333,-15.142424,2.0167482,-3.0171382,3.6926606,-12.971002,-13.070883,-20.398037,-13.143461,-13.197387,12.91974,-13.103855,17.824146,-8.771996,13.024682,17.781958,-13.089405,4.0089793,12.974442,13.105548,17.658272,-13.165511,-13.062898,-18.038937,17.668894,5.4281406,-8.738812,-10.37338,-14.702589,3.9440262,-13.066623,-1.6579598,-18.02152,-20.322641,22.797888,-13.112057,-1.610198,13.068709,17.691479,-15.416309,23.193132,3.71321,3.755484,-8.769344,23.154373,3.935411,-18.046366,17.719353,-1.6518644,-9.849152,1.9953629,3.6768773,28.868416,28.7636,-1.6336318,17.744404,-10.42242,-8.761639,28.789848,13.08219,3.6192174,-15.538497,-13.0298605,3.6831474,1.979443,-8.750403,-10.965493,3.6505892,17.592646,-13.164097,28.795946,23.154737,5.412573,17.774939,17.795916,17.781569,17.842264,17.895609,1.9509224,3.6134272,11.81577,-12.959103,13.101708,17.863281,5.3578253,27.552555,17.844982,17.818449,28.884583,-13.0237465,13.068168,-10.976226,3.9834027,27.564579,3.6999302,-12.972244,3.666872,-2.9508746,3.6199615,-13.072992,5.338686,3.9706087,-12.993784,1.9880043,5.486491,-13.114055,-13.077425,-13.057294,17.792004,12.934299,-12.928451,-18.031147,-13.021713,-13.017344,13.074317,17.825457,-20.381596,13.016169,13.06033,-12.988583,-8.76119,13.113971,-2.449927,1.9353166,24.048506,17.793797,17.846895,1.9959567,13.108667,17.69692,17.723434,3.9540486,3.6864412,-10.402669,-1.717698,-13.074973,3.5626426,17.795317,-8.6795435,13.063662,13.11276,-13.037276,-12.970469,-13.002157,3.6223137,-14.713571,28.75147,-12.955846,17.777126,-2.4492784,17.901258,13.114833,17.740103,13.146335,27.569387,24.038748,-13.077355,3.574918,-13.00322,-10.413989,13.000663,17.721708,5.2825747,-13.018387,5.147809,13.221972,3.911936,5.2996964,-18.128176,-15.498659,3.6051164,-8.704095,3.5451653,13.01291,17.722752,22.796515,13.081234,2.0094764,-13.03677,3.562509,13.029473,5.1709003,3.6520622,5.2059803,28.776873,28.790943,-9.850241,5.270046,13.188401,-12.979588,-1.7155672,-10.392423,-8.769796,-8.737697,28.919924,-18.073713,13.136422,13.103499,13.016801,24.074484,13.074427,28.78921,-9.81635,-20.427118,-14.716485,17.824657,-10.981271,-18.06195,3.6656375,-12.958341,13.03554,17.730646,28.726786,13.141631,-1.6742969,13.138458,-2.4480004,-10.3913,28.851439,-10.979527,-10.402197,13.190161,17.851334,2.0025337,24.051273,-13.02653,-8.7525,13.21348,13.142772,-12.96379,3.6566646,-1.6584301,13.171884,-15.293596,-3.0322657,-15.16881,3.7637432,17.844841,17.838717,17.959267,13.135104,-12.993722,28.831846,-10.392466,-20.437927,13.064641,28.879154,13.178101,-20.391705,17.748774,3.7178633,13.178853,11.815697,17.717964,-13.025467,3.6280253,13.083973,13.114363,-2.9742765,13.23989,-10.418184,27.573236,-18.07813,13.178102,-2.4918249,-15.374199,13.200868,28.814514,3.5996792,-20.336407,17.78146,13.170922,-14.728253,-15.454335,13.202572,13.166165,17.70306,3.5569835,27.6123,13.21996,-20.441423,13.310686,13.140422,-20.427547,13.153527,13.187279,1.9439355,-12.929914,3.7668717,3.5735896,-10.36094,-15.47006,3.6071877,13.249691,-15.433066,-13.242322,-8.821447,-20.398968,13.226923,-1.6612895,17.733225,-20.366251,-15.368371,-13.056969,13.240387,17.811966,13.189907,-1.6010662,3.4707026,-1.6302606,-10.418837,17.716852,-13.18712,17.793745,-13.13123,17.87925,-10.441219,17.821985,13.325778,-15.463844,-18.053617,28.86124,28.947584,13.263967,13.337095,28.742132,3.5254285,17.745306,-13.130623,17.740696,13.00579,-13.110797,28.740211,2.3684673,-15.371147,13.125457,17.900875,2.1429484,12.979402,-9.834877,-12.930248,13.021984,12.98281,-8.702308,-8.717396,-3.015123,-8.790201,-12.997994,17.764227,-9.844171,3.603742,12.978109,-13.151465,-13.191766,2.1721323,12.954335,13.011924,-12.937631,12.990577,13.100564,17.798574,12.965592,12.98217,12.965422,17.686184,-20.447752,3.7994359,3.8845568,23.202276,17.777037,-13.144727,-13.181954,17.841837,28.749683,28.83545,12.950793,13.116153,17.84608,3.5247302,-1.6652416,28.784592,-13.102601,28.741894,-2.4553359,3.5640857,3.5279136,-15.424392,5.0702987,12.697855,13.218165,-12.946201,-13.245799,24.065224,13.189526,3.6170397,-13.030745,-13.093458,13.210855,12.494123,12.428437,17.801075,17.803627,-20.47505,-1.7000673,-17.985096,12.568835,12.819953,12.857297,-1.6355443,23.15129,-13.298179,12.321462,-8.767542,-15.526329,23.19357,27.599617,1.982149,12.537415,-13.132108,17.749712,-13.190592,12.6077795,12.591823,-14.705991,2.0301933,28.77212,17.792465,28.755995,12.487144,2.030751,12.450539,27.591282,17.735668,-9.846408,-10.421316,3.5547426,-10.979529,17.897785,27.57503,-17.95986,-13.033679,12.660226,17.864096,17.870016,-15.412609,-13.076831,17.779047,12.865637,-13.074165,-13.275984,-8.804618,12.472832,12.852634,-8.799262,12.441051,5.1088104,12.715549,3.965221,3.580222,-13.16049,3.503844,-1.6945324,2.0109832,-15.539054,-13.308266,3.5294673,12.514773,17.732561,5.02528,27.561916,-18.011595,12.949021,-15.443703,12.408167,12.675595,-13.320862,3.5397003,5.010834,3.6042902,-8.791255,-1.6858653,12.87912,3.5622709,-15.553339,-13.155724,3.5492842,27.57783,12.648419,17.839062,12.484848,-14.710802,-10.399385,-15.433489,-10.373313,24.02027,-13.164822,-13.2431965,-13.215583,-13.260486,-13.195895,-8.789211,12.65808,12.836279,-17.990978,3.9185238,12.855488,12.508145,3.4942448,-18.005966,23.141424,3.5140493,-13.367394,-13.3023615,12.846733,17.904503,2.0804641,17.838457,-2.9807496,3.9520824,-13.348098,28.831564,17.966097,-13.264013,-13.30469,3.468043,5.021387,-8.7014885,11.81566,-10.407977,-13.305482,3.543578,-9.838491,12.638776,3.5317361,-15.442619,17.755173,5.229057,-15.524435,28.956966,-13.012234,-12.996324,-20.42632,-12.85782,-13.333473,3.4843907,-10.416472,3.897084,-13.367282,-18.039373,12.624741,13.001218,12.937047,3.5317159,-13.406183,17.913502,-2.9542682,13.029782,27.600826,28.733896,12.548601,12.779694,-20.457718,3.4695792,12.687426,17.969767,3.4496157,-8.754678,-13.481775,3.9898329,12.67442,5.1673284,-1.6531748,12.940939,3.525284,27.602734,-2.9998262,3.5243883,12.901938,-13.423788,27.562023,3.4582388,13.012681,-1.679994,3.4148083,12.691391,3.5047638,-13.3557,17.756798,3.4518583,12.773459,3.4971735,-14.717389,-15.49379,-10.379777,-13.298111,3.4624734,3.426496,13.120087,-13.374824,17.80847,17.86663,13.01594,-2.441594,24.081955,12.915105,3.3909533,28.776403,12.962257,13.107771,17.79363,12.809877,28.875313,17.802927,3.3847883,3.963096,17.76558,3.4333558,-15.517789,-13.073606,-15.45537,3.9525907,-20.488949,-13.020076,-8.727529,-13.51045,-13.345385,27.548456,13.024827,13.2415905,28.902037,17.856861,17.825891,28.819687,-8.697867,3.4501212,-13.455848,17.827522,13.285802,17.881308,13.013464,-15.431932,-13.486433,3.3935456,-13.446453,-8.746483,-8.772731,13.151238,3.4336934,-3.016791,-13.488924,-15.479342,2.0318313,4.8261395,23.157457,-13.557079,28.872208,-13.361799,12.91057,17.917461,-8.807377,27.581348,13.042591,3.3756435,-13.60004,28.900707,-15.531169,-13.572956,24.020962,-13.42935,-15.445662,4.9600286,12.873535,2.0227304,4.941537,17.839664,-10.399364,-15.548572,17.937685,23.150728,12.829313,-1.6955953,17.898973,28.74011,17.784706,12.90929,-15.475821,-18.045223,12.731552,-13.425347,12.910889,-9.803011,3.327668,12.950739,28.84692,-9.826843,17.698345,3.3749783,3.3977404,4.83188,-13.433084,13.238921,17.858276,3.3679907,27.533136,-15.168762,3.3465078,-14.712846,17.789234,-2.9961913,13.299802,13.132674,2.3597329,-8.725023,28.792933,28.90165,13.086401,-8.705233,4.7380657,-20.302338,-15.375284,-10.99232,13.053473,17.7256,-8.814691,3.9127436,28.794603,-1.6929479,17.871675,13.128793,17.951263,17.907618,-8.731853,17.865587,3.3769684,13.168929,-13.575702,3.3050122,-13.442331,-13.289401,17.843884,17.897322,-10.996942,12.986447,-13.577681,17.801334,-13.50242,-18.051233,-1.665688,-14.718602,13.24752,3.3038254,4.843028,-13.441384,2.0488594,13.376087,13.206139,13.235265,13.339869,3.982689,3.9720566,28.771988,13.009517,3.3874004,23.178251,-2.4332952,-3.0361996,1.9501085,18.05731,-20.352066,3.3424492,13.148732,-10.45691,23.104391,3.4077473,4.882333,1.9607941,17.93562,3.9277148,-13.411503,-13.393408,17.797197,18.021637,17.812458,24.069689,17.946892,24.057814,13.252421,17.901752,-8.676073,-13.471083,13.344308,-3.055169,13.256834,3.889473,-15.533611,13.313136,17.897747,-13.596839,-17.98235,28.74037,17.859089,-3.0233936,17.811178,3.2253351,-15.565239,-13.464669,-13.542008,-8.8398485,13.348727,3.2874508,-13.573513,3.2985656,-15.152848,3.20786,4.898667,24.029497,13.210047,13.133427,-13.437902,23.176044,-2.4799342,13.256545,24.085318,13.250766,-8.785318,4.7937074,-15.458545,3.224261,3.298169,13.256109,13.206954,13.254772,17.795193,17.894335,17.716688,13.37854,-8.830245,3.3063638,-10.413007,17.796673,4.859324,13.29418,13.2241955,13.362586,13.262195,-15.47673,18.075733,-15.553042,-13.460986,13.284852,-15.425564,-13.452764,24.08612,13.306287,3.2702963,13.239557,13.284158,-13.182615,3.2873476,3.1774912,3.315706,-18.126951,13.371597,3.301968,-15.560139,-15.567693,-1.6543306,13.382556,3.3103309,13.346768,-10.420539,17.699585,13.398423,-8.761428,18.026678,17.881386,23.24941,13.306163,3.3346186,-8.660016,-1.588227,-13.437855,-15.478776,4.877024,3.2998757,4.9202843,17.72033,17.876732,13.387468,13.527163,-13.5566635,-9.831731,-15.159977,-20.397131,-8.825321,28.713535,13.442909,13.394739,-13.512888,-3.0569048,13.462841,5.000051,23.183199,-15.494782,3.2364287,-10.784654,-8.774506,13.383341,3.333326,24.029537,-13.423429,-13.496423,3.9128675,-13.560572,18.021294,24.079376,-2.4919884,-1.70861,-13.485569,4.888155,13.379236,-13.4142275,1.9786575,3.2467866,27.593048,28.752003,-9.8261795,13.533296,13.473033,-13.44703,3.3586435,-13.451541,-13.395676,-13.557104,13.531049,18.001612,-1.6768266,13.268236,-1.6676339,3.351968,-1.6874586,-10.420961,3.9253345,13.498494,-13.442063,17.984076,17.906263,-13.461994,-13.396617,-13.313165,18.061983,-11.009726,-9.151912,13.717719,1.982038,-14.714548,-13.473187,-8.733062,-1.7004664,-13.311317,-13.459808,1.949185,-14.711534,13.582347,13.493368,13.476226,3.2982767,3.9252286,-8.773113,13.45552,23.158764,27.566498,3.289444,27.564064,17.952894,-13.443993,28.806522,13.540295,3.3005135,28.899683,-13.489319,3.2941985,-8.6928625,-8.83443,3.2215579,3.2962298,-15.373916,-13.012433,17.760515,3.870417,22.800083,-13.4772415,17.908907,3.2603664,-13.401744,-10.4336605,13.628534,-9.845242,18.033237,4.917994,3.3284302,-15.624666,13.68563,23.872475,-18.051355,13.476768,3.3238947,-13.480861,3.3131056,3.5484843,-18.03641,-20.404701,17.7096,17.854342,-13.522739,17.900335,24.112158,17.97915,28.748407,-13.423519,18.027569,18.013838,1.9761522,13.563792,18.084085,-15.520144,3.5951807,23.15893,-1.7020543,-13.372875,3.9119232,28.852715,22.79648,-13.318838,-13.372824,28.859554,3.6147645,3.5093215,-20.464548,13.445426,13.624598,-13.436691,3.7006068,2.0204651,18.066833,13.637334,-13.44584,13.745999,-13.532033,-13.4207535,13.705569,-13.324564,28.74568,3.5533643,13.742178,3.601592,17.743612,13.618247,13.601671,-20.523916,-13.421263,27.573116,13.465538,-13.372239,13.650028,17.843258,-9.812995,-8.759818,-20.363676,-13.21253,3.4639723,18.016401,-20.436102,13.708303,3.5844836,-8.76583,3.5410552,28.851997,13.455347,3.5686886,-13.298408,-13.310894,3.3737226,13.595583,-13.4550295,17.679413,17.77741,23.137526,5.168307,28.86855,3.431419,17.951307,-18.180231,2.1574054,3.3176904,-1.7101097,17.960167,-15.448852,-8.757674,-3.0631044,13.68125,18.050747,28.886417,18.129745,13.503851,-20.349577,-15.434092,-15.50264,1.9872642,-13.345956,3.8802714,5.215799,17.848118,3.3068526,-20.331606,13.5699835,3.3576796,3.9820259,13.546466,13.6751795,-20.404861,5.0874352,-8.655393,28.80567,-13.414203,13.608149,-15.548845,13.658214,17.934778,18.006098,-8.84373,3.4084313,-13.222207,-20.42166,1.986761,-8.81511,13.6879225,3.3548954,13.572818,5.2053537,13.748348,13.471671,18.003002,17.983004,-3.027432,-20.438751,-17.936535,-13.300157,13.710097,24.08615,-8.71991,17.81644,13.64144,17.970089,5.2073126,-10.490186,-13.360155,22.796656,17.819834,13.4913435,27.59469,3.4609842,17.88538,18.152885,13.775073,-20.430712,1.9726067,-8.761102,29.019394,28.826561,4.0239997,-10.9852085,-8.716215,-13.332777,13.478765,17.857046,17.991875,3.4909673,-1.7234484,13.662592,-15.41476,4.044969,3.3415473,3.3072555,-15.417422,13.527875,13.558883,23.207872,3.6195562,13.720814,13.559654,2.013894,-15.463266,28.784979,28.82296,-20.362242,13.769007,3.3327227,17.746372,-8.819606,13.652831,-20.406393,13.598472,18.046516,3.5355911,24.051275,17.826027,5.382014,3.373863,-3.0469272,17.990358,-10.40654,17.703419,-13.285703,-10.410085,28.928375,3.9570053,-13.265027,3.649011,3.5022635,13.683354,13.701152,-15.559188,3.3389215,3.956256,-15.479662,-13.214683,28.9288,-8.720518,-13.305589,-13.264845,-15.528779,-17.999474,-18.085693,27.573914,-13.294425,18.091635,-18.043291,2.3434968,-8.836533,17.690596,3.4556983,24.08221,-15.604828,24.109194,13.517907,13.61592,13.605901,13.540168,-10.386746,13.570827,-13.276752,3.4736807,13.509614,-9.812963,27.553665,5.4588675,28.81552,3.3740485,13.679689,5.1810517,13.606532,5.5265102,-13.221145,3.5875669,-13.302186,-20.387447,-2.4348998,-3.0179663,-15.51824,-13.332293,13.57544,18.137821,18.006615,17.954624,-13.109774,13.600814,-15.571847,-15.550275,29.05553,13.6620865,3.4745417,13.517791,-15.136251,13.749516,13.583737,-20.417791,13.545297,13.684734,18.143736,3.4529681,13.630319,-13.287874,-13.248933,-17.922842,18.097975,24.00607,13.604639,3.691664,18.047295,4.010543,-1.6487067,-15.514476,24.03115,18.063961,13.691824,-13.243698,-15.608572,3.4515831,5.616983,-13.138953,13.604203,13.644634,28.952612,17.73875,3.415773,13.585883,-13.18331,23.16864,-13.187581,-13.264118,13.550787,3.373502,17.81006,3.4777215,3.4875808,13.582075,13.530199,17.950558,-20.476616,13.545678,3.5152147,-8.797302,-13.284208,27.575506,3.5336,18.106356,3.507613,13.490921,-13.2148905,-13.20527,27.53871,3.6817338,5.178411,5.6690493,3.8989828,-13.147047,3.5625358,-10.95273,3.4633536,13.555553,-13.064553,5.727141,-8.693676,28.85299,24.050318,22.80495,2.0545955,-10.966417,17.960869,24.03278,28.890184,22.796665,24.05874,13.459148,17.994942,18.041487,-2.4918349,17.761164,13.470188,-13.177313,-13.086693,5.778711,24.076284,13.497685,3.6502013,13.554999,29.01799,13.533974,24.064947,-15.533222,17.643185,13.3866,-2.42208,18.028133,3.4737933,-13.073332,18.0785,1.9493965,24.06281,-8.745956,-15.555941,3.9448917,-8.732,23.181805,17.963947,3.5696042,13.521486,23.14928,1.9360138,13.486093,3.408713,-18.04526,13.403953,28.885092,17.729956,28.959257,-18.04577,-15.420459,13.496231,1.9449145,-20.397139,13.418883,24.036081,-1.6808254,13.42109,-15.626624,-20.399406,28.744228,3.878512,-20.308655,28.764536,-13.168109,3.4050221,-10.415358,-1.6025771,-15.496085,-10.386378,3.4460175,13.3190775,17.749731,3.7546365,-13.072234,13.322738,17.99941,3.8629751,-13.072261,-12.922145,13.181584,24.050066,13.376325,3.57181,-1.7366536,-8.712511,1.9485044,28.938078,-20.299309,13.427125,1.9879928,17.968187,3.619576,-13.156886,13.4104595,13.329588,6.0533047,-8.810777,13.209433,-20.42268,13.198621,17.685253,18.080025,-8.793483,28.994574,28.904781,-13.090101,-2.4482796,3.5566359,23.181742,3.476208,-13.179055,-15.480166,-10.382135,3.9517457,13.31215,28.87685,3.6533568,3.6136024,-20.376762,13.360874,18.016026,-13.041991,-15.388796,18.036814,24.021717,3.7111375,24.104282,28.98507,17.99617,-13.119731,13.1830015,-10.982569,-15.274554,28.88324,-12.908663,-10.436256,-8.68625,13.279019,17.903328,-14.756366,17.681751,29.029875,13.334655,-8.69419,17.806171,-8.697691,3.9423947,3.6257439,3.6014998,13.328338,13.284711,-20.329508,-12.946355,13.214349,-20.473158,3.6326478,3.662772,4.00599,3.773516,-13.08672,17.892462,18.112593,18.022623,13.251484,-20.42255,3.5999265,-13.032561,-2.402502,-12.943365,-13.2327385,17.71892,17.681213,13.326226,-1.7054676,28.992533,18.00852,13.186451,13.2394,13.088802,13.26486,-20.370926,-11.000464,-12.950462,24.014837,-20.441849,23.169659,13.127337,-12.836523,17.826912,13.113031,-9.826428,2.357173,3.9652956,3.6653516,13.150244,17.846415,3.8326678,17.908892,-8.715999,17.9643,3.9817996,-12.918959,-20.308868,3.9621146,-1.647069,3.9314427,17.630655,-12.959034,13.221617,3.7541077,13.192549,17.940739,28.955214,-15.371363,-2.4846838,-2.9893515,-15.440128,17.768456,22.784407,17.95009,13.104872,-12.884023,13.31562,-13.080415,-8.706592,-20.460722,-20.507303,13.139884,-11.00113,3.7207303,-12.908068,28.92936,-20.422653,3.8679807,17.953873,3.8243754,17.88483,13.166365,18.037437,-20.42824,13.159949,6.3145213,17.880116,-12.894327,-12.881655,13.140987,13.013256,13.082765,3.752934,-13.005588,6.272316,-12.793467,2.0152354,18.034306,-12.889706,18.070908,6.327995,17.972067,29.008297,-10.420494,12.927692,-12.863719,-1.6622492,-12.743412,-10.985794,3.9463477,17.778938,23.12888,-8.747369,3.9663675,28.989546,13.093918,-12.796441,3.886057,13.051171,-8.848942,3.9274263,-12.863455,3.79075,3.8990173,17.881777,17.972858,-17.963114,-12.774599,-12.890804,18.001411,23.22982,-12.773029,-12.856627,-12.817789,12.855485,17.99481,12.98538,-12.7689085,22.795477,6.536405,13.038483,-12.721231,23.166004,-18.066448,17.768879,-8.825259,-20.408302,-1.7539169,28.910316,3.9867089,-20.391462,17.612118,-1.6732562,17.948902,13.061695,-1.6590859,12.983743,17.810871,-10.991849,12.96882,1.9434253,-8.720999,13.023832,28.99658,12.971844,28.961193,17.647493,2.16221,-14.712611,17.898254,3.996264,23.848526,3.8573043,11.81558,29.020758,3.7455602,3.7838492,23.98434,12.992138,-15.332518,-14.704013,3.8445451,17.813751,-9.808662,17.705439,3.8452117,13.01469,17.821081,-12.579492,3.9742541,12.9466305,12.87461,-15.479704,17.85871,-20.33314,3.8262804,-13.411358,-2.4474893,13.006024,3.8472004,12.889096,3.9532695,-12.70823,3.901848,12.864012,-1.707882,29.006527,-12.813047,17.666431,-20.347162,12.946068,-12.817496,-15.535022,11.815771,-17.99243,6.561149,3.9047103,12.855408,-11.027723,-12.81551,12.775269,-12.701706,-12.6342325,3.899639,29.017677,12.726603,3.9423807,-8.818251,-15.521165,11.815657,17.548904,18.213936,-12.736913,-12.740993,17.947233,24.03837,-15.433726,28.924566,-12.692261,29.022642,12.782548,-15.573532,29.044422,-1.7328144,3.9213486,12.729028,24.068594,-15.414454,-20.294014,-8.690946,-12.803168,3.7156537,4.0387564,-12.903975,-12.796597,17.776249,12.909736,12.747797,17.944721,12.746864,12.861744,-10.44643,-12.647922,-12.721108,12.867664,3.938299,-15.434044,12.757658,-18.020294,-12.788258,12.765511,12.729107,17.828104,12.620716,12.498003,28.918074,-12.761607,23.142492,12.670941,12.439499,17.96382,17.677824,11.815043,12.692694,-20.376766,22.796808,12.645802,12.551583,12.628354,29.026012,3.9977777,17.821182,28.881802,-8.745177,2.0101104,-1.6726681,-17.971376,12.645795,17.957739,3.907183,-15.581395,28.99249,-18.09912,4.023377,27.537092,17.830826,-8.870331,-1.6894145,12.453572,-12.728533,4.0146027,2.0150847,-15.296557,-8.894114,-12.741349,23.198193,-2.4525993,-20.41035,12.508844,3.9780667,-1.6936334,12.599052,12.476554,4.0169144,-12.597319,4.0420637,12.6043415,-12.795484,-10.434044,18.00261,12.578676,12.651845,12.449424,3.9178865,4.0664144,6.807098,-1.647934,-12.751689,-12.731996,17.843994,29.005453,12.458021,-15.414992,17.850992,3.9299445,27.562937,12.552569,12.348546,24.094376,12.495204,27.577175,12.325038,12.410423,2.0166404,27.550375,17.914661,-12.734536,-12.68221,-12.687465,3.8700578,4.047671,12.427054,-12.684528,29.044247,17.726236,29.03871,17.79324,12.394428,29.037302,-12.805037,-14.71662,4.029467,28.896782,27.563429,12.416825,-12.695603,-14.719813,4.0165224,-15.601577,3.8138967,-12.648598,-15.477959,3.925594,4.068924,-12.642701,17.862581,12.322434,-8.686566,28.911139,27.530472,12.383272,28.846458,-15.515899,-15.390178,-9.799755,6.766706,12.351859,17.846672,-18.047274,4.1064577,12.446158,-15.44941,-12.746642,3.9920852,3.9711554,12.367862],\"yaxis\":\"y\",\"type\":\"scattergl\"},{\"hovertemplate\":\"Status=Approved - License Issued\\u003cbr\\u003ex=%{x}\\u003cbr\\u003ey=%{y}\\u003cextra\\u003e\\u003c\\u002fextra\\u003e\",\"legendgroup\":\"Approved - License Issued\",\"marker\":{\"color\":\"#EF553B\",\"symbol\":\"circle\"},\"mode\":\"markers\",\"name\":\"Approved - License Issued\",\"showlegend\":true,\"x\":[-14.610191,-14.12228,-14.312448,-14.299862,-14.3776455,-14.6234,-14.206424,-14.31843,-14.551933,-14.522932,-14.380518,-14.577453,-14.715731,-14.40064,-14.407625,-14.680189,-14.252721,-14.413846,-14.725456,-14.331773,-14.616279,-14.477014,-14.141828,-14.457905,-14.455471,-14.511184,-14.539627,-14.326923,-14.346081,-14.386905,-14.306028,-14.38796,-14.5902605,-14.319015,-14.462399,-14.266252,-14.427094,-14.582962,-14.33323,-14.44612,-14.581491,-14.3147335,-14.640327,-14.444093,-14.531284,-14.395252,-14.575098,-14.3574295,-14.516635,-14.421571,-14.45382,-14.514599,-14.387661,-14.482352,-14.565655,-14.392739,-14.416804,-14.538762,-14.433948,-14.463088,-14.505493,-14.489865,-14.563921,-14.460857,-14.511854,-14.226945,-14.345308,-14.554859,-14.349566,-14.373968,-14.294205,-14.270541,-14.383268,-14.468761,-14.408809,-14.448003,-14.379407,-14.283171,-14.243513,-14.337301,-14.3581085,-14.219537,-14.257804,-14.259423,-14.252084,-14.31438,-14.266407,-15.517126,-15.510509,-15.502204,-15.509874,-15.503906,-15.508333,-15.505921,-14.624904,-14.267917,-14.561285,-14.617457,-14.599856,-14.425267,-14.567473,-14.195454,-14.29415,-14.841707,-14.872558,-14.51607,-14.445169,-14.502385,-14.611381,-14.471994,-14.640592,-14.398695,-14.387511,-14.42903,-14.516562,-14.390106,-14.530381,-14.363015,-14.341237,-14.322258,-14.490574,-14.324131,-14.429667,-14.251147,-14.357958,-14.316771,-14.503849,-14.374013,-14.507335,-14.375552,-14.569212,-14.498863,-14.42884,-14.474967,-14.120307,-14.304714,-14.45356,-14.442816,-14.305355,-14.413924,-14.398145,-14.257591,-14.336936,-14.245644,-14.346011,-14.405846,-14.440605,-14.344885,-14.491708,-14.448181,-14.420825,-14.429681,-14.386656,-14.446554,-14.456228,-14.390593,-14.4934435,-14.39542,-14.431881,-14.481603,-14.44758,-14.385979,-14.308973,-14.489568,-14.673121,-14.519431,-14.523492,-14.559563,-14.515207,-14.4772835,-14.656522,-14.560717,-14.497671,-14.606782,-14.563871,-14.435392,-14.50885,-14.443481,-14.575174,-14.538323,-14.439004,-14.591224,-14.463338,-14.457484,-14.613537,-14.691422,-14.55953,-14.701565,-14.50219,-14.637648,-14.634325,-14.588864,-14.564266,-14.600983,-14.607672,-14.681163,-14.60314,-14.613004,-14.629301,-14.613539,-14.691302,-14.624005,-14.50235,-14.644004,-14.680474,-14.569174,-14.561969,-14.631836,-14.664872,-14.686445,-14.634553,-14.6733885,-14.6539955,-14.662943,-14.632756,-14.655531,-14.682032,-14.743083,-14.668562,-14.753547,-14.68816,-14.704628,-14.832727,-15.54891,-15.539549,-14.727237,-14.770473,-14.839396,-14.804428,-14.844167,-14.793624,-14.895671,-14.902194,-14.808583,-14.778989,-14.8388815,-14.969544,-14.951855,-14.995362,-14.82706,-15.047234,-15.118904,-15.0123,-15.044807,-15.074501,-14.913428,-14.871276,-14.977238,-15.008584,-14.979333,-15.035279,-14.989811,-14.98892,-15.03885,-15.005226,-15.088942,-15.157036,-14.962661,-15.073585,-15.0794325,-15.058851,-14.997972,-15.102242,-15.030333,-15.103457,-15.21329,-15.0481415,-15.196385,-15.124303,-15.155636,-15.196974,-15.160644,-15.162831,-15.224581,-15.150201,-15.237168,-15.239202,-15.266236,-15.183122,-15.253159,-15.251296,-15.298942,-15.300282,-15.271163,-15.534023,-15.238467,-15.330777,-15.2269945,-15.582381,-15.415894,-15.290309,-15.378513,-15.43478,-15.354904,-15.469442,-15.369376,-15.582146,-15.531989,-15.479356,-15.5522995,-15.590088,-15.422732,-15.622236,-15.64192,-15.643076,-15.647189,-15.595887,-15.609069,-15.539865,-15.535746,-15.603397,-15.649309,-15.63747,-15.779087,-15.694851,-15.659835,-15.790468,-15.667863,-15.77834,-15.66858,-15.918086,-15.837554,-15.934034,-15.804684,-15.722881,-15.828217,-15.68633,-15.767015,-15.649713,-15.937722,-15.98086,-15.743699,-15.735223,-15.80622,-15.819228,-15.79409,-15.878468,-15.864256,-15.972426,-15.819987,-15.773363,-16.00625,-15.842931,-15.931154,-15.962371,-15.819422,-15.921548,-15.871143,-15.928235,-15.95858,-15.957175,-15.864467,-15.822834,-16.030104,-16.034157,-15.791863,-15.9783125,-15.953405,-15.881165,-16.102116,-15.865566,-15.957037,-15.840898,-15.891527,-15.783553,-15.854797,-15.904582,-15.857758,-15.9289465,-15.879771,-15.91229,-15.818183,-15.833307,-15.757485,-15.968048,-15.873322,-15.816597,-15.823704,-15.971619,-15.898875,-15.920196,-15.894705,-15.931877,-15.993678,-15.86908,-15.957331,-15.831474,-15.940355,-15.447041,-15.824898,-16.033918,-15.895603,-15.858188,-15.903726,-15.84883,-15.860247,-15.862312,-15.898905,-15.951247,-15.836383,-15.855539,-15.939288,-15.889198,-16.009209,-15.910337,-15.879832,-15.869604,-15.86315,-15.828746,-15.854544,-15.870927,-15.850764,-15.8873825,-15.855391,-15.712792,-15.823192,-15.848454,-15.865537,-15.847527,-15.361193,-15.715838,-15.785948,-15.847468,-15.82834,-15.77872,-15.73325,-15.787953,-15.826492,-15.704538,-15.781749,-15.764631,-15.797295,-15.768935,-15.787933,-15.805583,-15.796242,-15.724581,-15.755144,-15.763246,-15.678378,-15.722403,-15.609098,-15.682646,-15.701132,-15.687277,-15.624974,-15.710849,-15.662863,-15.695884,-15.584369,-15.30656,-15.579825,-15.561072,-15.634403,-15.587204,-15.53421,-15.550486,-15.60039,-15.540749,-15.580281,-15.518503,-15.545538,-15.519574,-15.441535,-15.451072,-15.539241,-15.516383,-15.610977,-15.406805,-15.391995,-15.474824,-15.383467,-15.351987,-15.245588,-15.29466,-15.458469,-15.385099,-15.327818,-15.427523,-15.299541,-15.282967,-15.343453,-15.34048,-15.220504,-15.262859,-15.299201,-15.350101,-15.270297,-15.301288,-15.358216,-15.224668,-15.239671,-15.236657,-15.311353,-15.167411,-15.1895895,-15.240863,-15.185364,-15.149462,-15.0761385,-14.99538,-15.099658,-15.167746,-15.123345,-15.102907,-15.032304,-14.965424,-14.782768,-14.902324,-14.956728,-15.112305,-14.950638,-15.030284,-14.977154,-14.919636,-15.046667,-14.921551,-14.876612,-14.744758,-14.780939,-14.79096,-14.705023,-14.764905,-14.833244,-14.768319,-14.749513],\"xaxis\":\"x\",\"y\":[6.138055,5.9811745,6.141641,6.1747284,6.0964828,5.8053145,5.9978533,6.1652765,5.9691696,6.1766253,5.9144373,6.207986,5.8673415,6.085684,6.210758,6.0858274,5.925297,6.057167,5.987123,6.3177004,6.11001,6.178589,5.8906474,6.0512524,6.0604577,6.2748976,6.1452208,6.1516924,6.114597,6.1072483,6.133437,6.070677,6.2257547,6.1489205,6.212676,6.0936675,6.1167507,6.0985427,6.2345347,6.272929,6.194912,6.1985974,6.239021,6.242439,6.2215066,6.196787,6.1754117,6.118663,6.162624,6.186567,6.2033377,6.0798697,6.2069283,6.158002,6.161438,6.1486373,6.151871,6.242559,6.1488657,6.17888,6.2128615,6.2565346,6.0233483,6.2531023,6.115413,6.139208,5.9666133,6.053569,6.0591183,5.973405,6.0190167,5.9458017,6.004693,6.008363,6.0112696,5.9980083,5.977389,6.0320497,5.996559,5.9525056,6.052686,5.871154,5.9750533,5.95348,5.8992705,5.8908734,5.92534,5.855384,5.851573,5.86291,5.859204,5.8468966,5.8661766,5.844786,5.936165,5.7382154,5.853545,5.94752,5.8282084,5.7825074,5.661226,5.5826077,5.6412125,5.78073,5.742464,5.7808695,5.840723,5.8928084,5.921817,5.782328,5.881665,5.8663163,5.7074847,5.7544255,5.733127,5.7586007,5.7812076,5.6241775,5.6020193,5.641488,5.829661,5.613602,5.691397,5.6294146,5.5830827,5.687049,5.6830096,5.62185,5.723991,5.591857,5.6632223,5.6760616,5.601135,5.6947613,5.391104,5.4733944,5.5955167,5.6670127,5.381463,5.591692,5.4740486,5.366545,5.4738765,5.4390373,5.527988,5.4983597,5.457021,5.614413,5.5164337,5.5035367,5.4331927,5.5090237,5.3852124,5.416308,5.4850903,5.38321,5.357893,5.3608527,5.417243,5.435493,5.34089,5.2926173,5.371654,5.424102,5.653655,5.3717394,5.2401,5.2697673,5.4714184,5.3215065,5.3876214,5.5263953,5.336414,5.4876027,5.3937035,5.4187393,5.2273664,5.241224,5.334164,5.2100835,5.3604026,5.3545966,5.238187,5.272521,5.336754,4.9989944,5.147293,5.1601663,5.0439,5.2334723,5.246215,5.3170877,5.1545453,5.1954894,5.224895,5.2324734,5.21356,5.260318,5.191076,5.3281107,5.186368,5.230836,5.193059,5.1586027,5.1480727,5.08923,4.984574,5.1172166,5.1373267,5.0945635,5.2066584,5.1151705,5.0196333,5.06576,5.083477,5.1833563,5.187491,5.0003667,5.0968046,5.080996,5.1432166,5.0751824,4.973887,5.9753046,5.9997363,5.2256083,5.0569487,5.049913,5.1385837,5.0948067,5.0318084,4.986338,5.045359,4.986674,5.036734,4.9738593,5.0232344,4.979862,4.9442015,5.1578913,5.22637,5.1657844,5.1907477,5.196182,5.2081757,5.1329484,5.0413446,5.0026374,4.9991994,5.0454555,4.9658947,5.019396,5.0492296,4.9485836,5.045304,4.959389,4.742036,4.909318,4.9168925,4.9584064,4.8898163,4.9377713,4.9299517,4.9765368,4.8625774,4.7984695,4.8739743,4.8261147,4.975441,4.9324617,4.753665,4.8929615,4.9254317,4.994667,4.971345,4.9739676,4.866368,4.883951,4.821043,4.971564,4.843157,4.871133,4.968593,4.8978724,4.7996874,4.8868937,4.8646474,4.891705,4.733343,4.8685694,4.9318023,4.9363055,4.8906207,4.8628907,4.815741,4.8128953,4.8522367,4.7323985,5.030922,4.9247975,4.8562264,4.8636894,5.024478,4.814998,4.826357,4.867174,4.8436265,4.9378357,4.860006,4.895589,4.8853917,4.8717775,4.9430943,4.952991,4.857493,4.86006,4.9867797,4.870884,4.9030366,4.9504843,4.857754,4.9236608,4.9053273,5.010434,5.141359,4.9107175,4.967445,4.955737,4.8930163,4.953863,4.977414,4.973059,4.964663,4.996263,5.0125012,4.9824915,5.00355,5.0085535,5.0570893,5.0667267,5.061268,5.0053973,5.037467,5.135911,5.1290216,5.023235,5.150939,5.0492854,5.0459867,5.0982456,5.1315627,5.1124535,5.1332054,5.0463586,5.0676517,5.023218,5.1082826,5.0968747,5.112118,5.139196,5.175751,5.148998,5.2658143,5.2141957,5.3157806,5.091828,5.270325,5.289818,5.243552,5.190191,5.3209443,5.2727256,5.357305,5.2683816,5.207247,5.295269,5.3119116,5.305626,5.4313974,5.3145547,5.241712,5.3833904,5.280048,5.4058647,5.2536683,5.3781314,5.3080015,5.3471236,6.231839,5.433443,5.3941274,5.461034,5.4626102,5.457973,5.468811,5.5753446,5.5298676,5.504537,5.556737,5.544941,5.521157,5.492319,5.508504,5.5613394,5.572352,5.5856643,5.627968,5.6327157,5.7078247,5.66601,5.6443405,5.6850057,5.651326,5.67283,5.5067167,5.78129,5.808199,5.7567987,5.769764,6.35752,5.9647083,5.9261036,5.7989316,5.811198,5.9437838,5.9572754,5.924886,5.8938274,6.0128455,5.915374,5.9341054,5.93076,5.9526753,5.913627,5.905813,5.931819,6.048314,5.9777427,6.0071425,6.0778337,6.067373,6.1419463,6.09793,6.042345,6.113031,6.1782007,6.094898,6.179756,6.145447,6.2189884,6.3049126,6.2442517,6.3184075,6.2219296,6.237188,6.3730288,6.2729645,6.1718774,6.2223277,6.219288,6.294054,6.3647876,6.331509,6.3300815,6.2613215,6.2916956,6.3449006,6.313851,6.442477,6.435664,6.3878994,6.4526873,6.467603,6.6679864,6.509415,6.4908147,6.4666996,6.5369935,6.3952794,6.5603585,6.5735226,6.530194,6.5314837,6.5649667,6.645225,6.5628076,6.4336605,6.519235,6.6108804,6.6456814,6.547718,6.6064167,6.5399575,6.5156665,6.6481166,6.66177,6.721292,6.62383,6.613812,6.6636395,6.8160987,6.610499,6.591702,6.5805473,6.6758065,6.7814655,6.694405,6.645786,6.7172923,6.7163377,6.676902,6.6777215,6.777624,6.668162,6.70868,6.623474,6.7786474,6.7367277,6.8267817,6.772422,6.7727256,6.682602,6.7372885,6.737688,6.7062798,6.738092],\"yaxis\":\"y\",\"type\":\"scattergl\"},{\"hovertemplate\":\"Status=Denied\\u003cbr\\u003ex=%{x}\\u003cbr\\u003ey=%{y}\\u003cextra\\u003e\\u003c\\u002fextra\\u003e\",\"legendgroup\":\"Denied\",\"marker\":{\"color\":\"#00cc96\",\"symbol\":\"circle\"},\"mode\":\"markers\",\"name\":\"Denied\",\"showlegend\":true,\"x\":[15.181572,13.151821,17.18165,4.473737,15.166851,15.088538,24.501333,24.334198,24.484476,13.282626,13.206552,13.145214,14.560265,4.473722,15.1251745,24.66,13.22667,4.4506917,-5.3350024,4.493018,21.05745,4.4757257,24.623032,24.67578,17.14825,24.647772,15.156854,24.621449,4.4924917,15.137352,24.600506,14.542775,24.714102,24.736856,4.5040855,15.200697,15.269189,13.2468,4.509088,24.69194,-5.3572273,13.339533,24.831593,14.557896,21.046408,24.793798,4.477023,-4.421564,24.87346,14.523842,4.4930053,24.816494,15.203179,24.900661,13.379182,17.214087,-5.3402495,4.4399204,24.976215,18.856377,4.5139265,13.332217,14.118502,4.441333,4.45149,21.047207,25.16015,4.415112,17.206839,18.953974,4.370634,25.243029,20.441408,25.098665,13.971609,20.433996,17.224041,15.071321,4.4627504,15.219927,4.486235,24.349949,24.357288,24.264631,-5.3534017,-5.342098,2.3455203,13.328512,-4.431015,-5.32282,15.211179,14.546314,4.5198145,24.595247,13.308904,24.419071,24.706846,-4.9642158,4.561568,-4.459971,-4.4173403,24.487478,15.048714,24.578503,-5.361112,-4.93489,13.114291,17.15375,18.938156,13.050769,15.168752,21.088453,24.68481,14.096067,24.6923,17.392944,17.160074,20.432825,4.3998833,12.8032675,24.856104,15.207309,-4.438013,14.078597,24.918482,12.9935255,17.250818,12.808694,4.40734,20.397795,25.18752,15.165119,21.041582,4.500139,12.721159,4.42806,15.041494,12.787664,4.433994,12.750433,4.462155,12.882109,4.435695,-4.431007,12.883106,12.9383,4.5389705,21.053226,4.536739,25.354717,21.076042,4.3284945,12.884675,25.324944,25.352451,18.976988,15.21281,25.17941,25.16786,25.12124,-5.287172,17.176617,12.881404,18.984646,25.078972,24.68369,15.131032],\"xaxis\":\"x\",\"y\":[-20.345184,3.8133812,-15.512721,-18.055485,-20.40523,-20.4318,12.565413,12.639679,12.783732,3.7807205,3.742257,3.8410947,-8.702433,-18.088167,-20.452566,12.755216,3.773379,-18.037193,-3.011178,-18.072107,-9.844586,-18.034962,12.812395,12.7640085,-15.490398,12.833602,-20.418,12.870771,-18.00376,-20.456326,12.763431,-8.716084,12.844547,12.836412,-18.11112,-20.356232,-20.280035,3.6537826,-18.059036,12.920858,-3.032728,3.6461394,13.009845,-8.6886215,-9.854715,12.964308,-18.058615,-2.4508848,13.028819,-8.736534,-17.986979,12.93309,-20.431684,13.059364,3.5648532,-15.495059,-3.0176244,-18.021963,13.181817,-14.76,-18.011831,3.6717534,-9.81723,-18.03757,-18.019852,-9.859466,13.2625475,-18.085611,-15.407778,-14.714519,-17.972593,13.256294,-10.979147,12.9445505,-10.486849,-10.987172,-15.447948,-20.437473,-18.00861,-20.462729,-18.102146,12.347182,12.563723,12.710127,-3.027367,-3.0176632,11.815678,3.4914412,-2.4610696,-3.0277987,-20.421125,-8.71287,-18.07791,13.232801,3.3529801,13.250457,13.280662,-2.774446,-18.139917,-2.4900699,-2.447498,13.327953,-20.29334,13.403397,-3.0360923,-2.757896,3.2575753,-15.525544,-14.691723,3.2814426,-20.400082,-9.812684,13.684132,-9.833031,13.669994,-15.368309,-15.520381,-10.987977,-17.978834,3.4659908,13.760051,-20.340313,-2.4668581,-10.404615,13.678004,3.4109566,-15.414102,3.7161872,-18.001764,-11.020609,13.550712,-20.46023,-9.862161,-17.99908,3.7070608,-18.047953,-20.34342,3.619249,-17.958368,3.5121374,-18.0249,3.8019547,-18.061905,-2.4652765,3.8959513,3.85689,-17.953085,-9.857205,-18.12091,12.907095,-9.826352,-17.90604,3.7885876,12.8991375,12.814286,-14.694444,-20.296637,12.705236,12.667142,12.630758,-2.999637,-15.515031,3.8637097,-14.689321,12.569966,12.448525,-20.355509],\"yaxis\":\"y\",\"type\":\"scattergl\"},{\"hovertemplate\":\"Status=Under Review\\u003cbr\\u003ex=%{x}\\u003cbr\\u003ey=%{y}\\u003cextra\\u003e\\u003c\\u002fextra\\u003e\",\"legendgroup\":\"Under Review\",\"marker\":{\"color\":\"#ab63fa\",\"symbol\":\"circle\"},\"mode\":\"markers\",\"name\":\"Under Review\",\"showlegend\":true,\"x\":[-14.288488,-14.486272,-14.312589,-14.066068,-14.571956,-14.342247,-14.389538,-14.246078,-14.621265,-14.502784,-14.465989,-14.346041,-14.407103,-14.370231,-14.485063,-14.559573,-14.365272,-14.411288,-14.602629,-14.617215,-14.659374,-14.5970545,-14.743317,-14.861687,-14.945914,-15.04579,-15.043446,-15.132273,-15.271679,-15.404999,-15.474252,-15.613749,-15.772978,-15.902086,-15.803806,-15.900111,-15.887799,-15.83408,-15.859329,-15.808885,-15.811814,-15.371282,-15.770155,-15.729704,-15.687987,-15.616638,-15.648076,-15.531659,-15.447703,-15.157967,-15.055738,-14.939149,-14.882003,-14.798102],\"xaxis\":\"x\",\"y\":[6.0834694,5.940974,5.8917947,5.762326,6.168106,6.1719637,6.1388903,6.0204945,5.884433,5.7273197,5.6121516,5.601779,5.5412955,5.4238133,5.4899564,5.47457,5.2090197,5.3420877,5.3196454,5.2363496,5.14644,5.1747994,5.0319676,4.9875903,4.9736633,4.9456096,5.0085597,5.002977,4.771056,4.8393674,4.944104,4.954502,4.97043,5.2893443,5.182687,5.3296227,5.4328156,5.5203805,5.65667,5.8083177,5.7562776,6.306993,5.944041,6.001493,6.1555915,6.170884,6.1314588,6.319266,6.382753,6.7265425,6.7491097,6.6379075,6.6771812,6.7935586],\"yaxis\":\"y\",\"type\":\"scattergl\"},{\"hovertemplate\":\"Status=Pending Fitness Interview\\u003cbr\\u003ex=%{x}\\u003cbr\\u003ey=%{y}\\u003cextra\\u003e\\u003c\\u002fextra\\u003e\",\"legendgroup\":\"Pending Fitness Interview\",\"marker\":{\"color\":\"#FFA15A\",\"symbol\":\"circle\"},\"mode\":\"markers\",\"name\":\"Pending Fitness Interview\",\"showlegend\":true,\"x\":[-14.439161,-14.322957,-15.5021515,-14.519433,-14.517333,-15.569588,-15.296023,-15.39792,-15.537262,-15.753731,-15.569394,-15.691202,-15.781107,-15.899613,-15.934715,-15.853284,-15.859414,-15.816211,-15.729485,-15.549914,-15.365776,-14.950737],\"xaxis\":\"x\",\"y\":[6.1273785,5.981667,5.8492556,5.7876377,5.280903,5.9076333,4.7225094,4.9226747,4.8653955,4.9378552,4.882948,5.0973883,5.124182,5.429976,5.4123044,5.487059,5.6798415,5.795268,5.990017,6.2243605,6.5425243,6.8371763],\"yaxis\":\"y\",\"type\":\"scattergl\"}],                        {\"template\":{\"data\":{\"histogram2dcontour\":[{\"type\":\"histogram2dcontour\",\"colorbar\":{\"outlinewidth\":0,\"ticks\":\"\"},\"colorscale\":[[0.0,\"#0d0887\"],[0.1111111111111111,\"#46039f\"],[0.2222222222222222,\"#7201a8\"],[0.3333333333333333,\"#9c179e\"],[0.4444444444444444,\"#bd3786\"],[0.5555555555555556,\"#d8576b\"],[0.6666666666666666,\"#ed7953\"],[0.7777777777777778,\"#fb9f3a\"],[0.8888888888888888,\"#fdca26\"],[1.0,\"#f0f921\"]]}],\"choropleth\":[{\"type\":\"choropleth\",\"colorbar\":{\"outlinewidth\":0,\"ticks\":\"\"}}],\"histogram2d\":[{\"type\":\"histogram2d\",\"colorbar\":{\"outlinewidth\":0,\"ticks\":\"\"},\"colorscale\":[[0.0,\"#0d0887\"],[0.1111111111111111,\"#46039f\"],[0.2222222222222222,\"#7201a8\"],[0.3333333333333333,\"#9c179e\"],[0.4444444444444444,\"#bd3786\"],[0.5555555555555556,\"#d8576b\"],[0.6666666666666666,\"#ed7953\"],[0.7777777777777778,\"#fb9f3a\"],[0.8888888888888888,\"#fdca26\"],[1.0,\"#f0f921\"]]}],\"heatmap\":[{\"type\":\"heatmap\",\"colorbar\":{\"outlinewidth\":0,\"ticks\":\"\"},\"colorscale\":[[0.0,\"#0d0887\"],[0.1111111111111111,\"#46039f\"],[0.2222222222222222,\"#7201a8\"],[0.3333333333333333,\"#9c179e\"],[0.4444444444444444,\"#bd3786\"],[0.5555555555555556,\"#d8576b\"],[0.6666666666666666,\"#ed7953\"],[0.7777777777777778,\"#fb9f3a\"],[0.8888888888888888,\"#fdca26\"],[1.0,\"#f0f921\"]]}],\"heatmapgl\":[{\"type\":\"heatmapgl\",\"colorbar\":{\"outlinewidth\":0,\"ticks\":\"\"},\"colorscale\":[[0.0,\"#0d0887\"],[0.1111111111111111,\"#46039f\"],[0.2222222222222222,\"#7201a8\"],[0.3333333333333333,\"#9c179e\"],[0.4444444444444444,\"#bd3786\"],[0.5555555555555556,\"#d8576b\"],[0.6666666666666666,\"#ed7953\"],[0.7777777777777778,\"#fb9f3a\"],[0.8888888888888888,\"#fdca26\"],[1.0,\"#f0f921\"]]}],\"contourcarpet\":[{\"type\":\"contourcarpet\",\"colorbar\":{\"outlinewidth\":0,\"ticks\":\"\"}}],\"contour\":[{\"type\":\"contour\",\"colorbar\":{\"outlinewidth\":0,\"ticks\":\"\"},\"colorscale\":[[0.0,\"#0d0887\"],[0.1111111111111111,\"#46039f\"],[0.2222222222222222,\"#7201a8\"],[0.3333333333333333,\"#9c179e\"],[0.4444444444444444,\"#bd3786\"],[0.5555555555555556,\"#d8576b\"],[0.6666666666666666,\"#ed7953\"],[0.7777777777777778,\"#fb9f3a\"],[0.8888888888888888,\"#fdca26\"],[1.0,\"#f0f921\"]]}],\"surface\":[{\"type\":\"surface\",\"colorbar\":{\"outlinewidth\":0,\"ticks\":\"\"},\"colorscale\":[[0.0,\"#0d0887\"],[0.1111111111111111,\"#46039f\"],[0.2222222222222222,\"#7201a8\"],[0.3333333333333333,\"#9c179e\"],[0.4444444444444444,\"#bd3786\"],[0.5555555555555556,\"#d8576b\"],[0.6666666666666666,\"#ed7953\"],[0.7777777777777778,\"#fb9f3a\"],[0.8888888888888888,\"#fdca26\"],[1.0,\"#f0f921\"]]}],\"mesh3d\":[{\"type\":\"mesh3d\",\"colorbar\":{\"outlinewidth\":0,\"ticks\":\"\"}}],\"scatter\":[{\"fillpattern\":{\"fillmode\":\"overlay\",\"size\":10,\"solidity\":0.2},\"type\":\"scatter\"}],\"parcoords\":[{\"type\":\"parcoords\",\"line\":{\"colorbar\":{\"outlinewidth\":0,\"ticks\":\"\"}}}],\"scatterpolargl\":[{\"type\":\"scatterpolargl\",\"marker\":{\"colorbar\":{\"outlinewidth\":0,\"ticks\":\"\"}}}],\"bar\":[{\"error_x\":{\"color\":\"#2a3f5f\"},\"error_y\":{\"color\":\"#2a3f5f\"},\"marker\":{\"line\":{\"color\":\"#E5ECF6\",\"width\":0.5},\"pattern\":{\"fillmode\":\"overlay\",\"size\":10,\"solidity\":0.2}},\"type\":\"bar\"}],\"scattergeo\":[{\"type\":\"scattergeo\",\"marker\":{\"colorbar\":{\"outlinewidth\":0,\"ticks\":\"\"}}}],\"scatterpolar\":[{\"type\":\"scatterpolar\",\"marker\":{\"colorbar\":{\"outlinewidth\":0,\"ticks\":\"\"}}}],\"histogram\":[{\"marker\":{\"pattern\":{\"fillmode\":\"overlay\",\"size\":10,\"solidity\":0.2}},\"type\":\"histogram\"}],\"scattergl\":[{\"type\":\"scattergl\",\"marker\":{\"colorbar\":{\"outlinewidth\":0,\"ticks\":\"\"}}}],\"scatter3d\":[{\"type\":\"scatter3d\",\"line\":{\"colorbar\":{\"outlinewidth\":0,\"ticks\":\"\"}},\"marker\":{\"colorbar\":{\"outlinewidth\":0,\"ticks\":\"\"}}}],\"scattermapbox\":[{\"type\":\"scattermapbox\",\"marker\":{\"colorbar\":{\"outlinewidth\":0,\"ticks\":\"\"}}}],\"scatterternary\":[{\"type\":\"scatterternary\",\"marker\":{\"colorbar\":{\"outlinewidth\":0,\"ticks\":\"\"}}}],\"scattercarpet\":[{\"type\":\"scattercarpet\",\"marker\":{\"colorbar\":{\"outlinewidth\":0,\"ticks\":\"\"}}}],\"carpet\":[{\"aaxis\":{\"endlinecolor\":\"#2a3f5f\",\"gridcolor\":\"white\",\"linecolor\":\"white\",\"minorgridcolor\":\"white\",\"startlinecolor\":\"#2a3f5f\"},\"baxis\":{\"endlinecolor\":\"#2a3f5f\",\"gridcolor\":\"white\",\"linecolor\":\"white\",\"minorgridcolor\":\"white\",\"startlinecolor\":\"#2a3f5f\"},\"type\":\"carpet\"}],\"table\":[{\"cells\":{\"fill\":{\"color\":\"#EBF0F8\"},\"line\":{\"color\":\"white\"}},\"header\":{\"fill\":{\"color\":\"#C8D4E3\"},\"line\":{\"color\":\"white\"}},\"type\":\"table\"}],\"barpolar\":[{\"marker\":{\"line\":{\"color\":\"#E5ECF6\",\"width\":0.5},\"pattern\":{\"fillmode\":\"overlay\",\"size\":10,\"solidity\":0.2}},\"type\":\"barpolar\"}],\"pie\":[{\"automargin\":true,\"type\":\"pie\"}]},\"layout\":{\"autotypenumbers\":\"strict\",\"colorway\":[\"#636efa\",\"#EF553B\",\"#00cc96\",\"#ab63fa\",\"#FFA15A\",\"#19d3f3\",\"#FF6692\",\"#B6E880\",\"#FF97FF\",\"#FECB52\"],\"font\":{\"color\":\"#2a3f5f\"},\"hovermode\":\"closest\",\"hoverlabel\":{\"align\":\"left\"},\"paper_bgcolor\":\"white\",\"plot_bgcolor\":\"#E5ECF6\",\"polar\":{\"bgcolor\":\"#E5ECF6\",\"angularaxis\":{\"gridcolor\":\"white\",\"linecolor\":\"white\",\"ticks\":\"\"},\"radialaxis\":{\"gridcolor\":\"white\",\"linecolor\":\"white\",\"ticks\":\"\"}},\"ternary\":{\"bgcolor\":\"#E5ECF6\",\"aaxis\":{\"gridcolor\":\"white\",\"linecolor\":\"white\",\"ticks\":\"\"},\"baxis\":{\"gridcolor\":\"white\",\"linecolor\":\"white\",\"ticks\":\"\"},\"caxis\":{\"gridcolor\":\"white\",\"linecolor\":\"white\",\"ticks\":\"\"}},\"coloraxis\":{\"colorbar\":{\"outlinewidth\":0,\"ticks\":\"\"}},\"colorscale\":{\"sequential\":[[0.0,\"#0d0887\"],[0.1111111111111111,\"#46039f\"],[0.2222222222222222,\"#7201a8\"],[0.3333333333333333,\"#9c179e\"],[0.4444444444444444,\"#bd3786\"],[0.5555555555555556,\"#d8576b\"],[0.6666666666666666,\"#ed7953\"],[0.7777777777777778,\"#fb9f3a\"],[0.8888888888888888,\"#fdca26\"],[1.0,\"#f0f921\"]],\"sequentialminus\":[[0.0,\"#0d0887\"],[0.1111111111111111,\"#46039f\"],[0.2222222222222222,\"#7201a8\"],[0.3333333333333333,\"#9c179e\"],[0.4444444444444444,\"#bd3786\"],[0.5555555555555556,\"#d8576b\"],[0.6666666666666666,\"#ed7953\"],[0.7777777777777778,\"#fb9f3a\"],[0.8888888888888888,\"#fdca26\"],[1.0,\"#f0f921\"]],\"diverging\":[[0,\"#8e0152\"],[0.1,\"#c51b7d\"],[0.2,\"#de77ae\"],[0.3,\"#f1b6da\"],[0.4,\"#fde0ef\"],[0.5,\"#f7f7f7\"],[0.6,\"#e6f5d0\"],[0.7,\"#b8e186\"],[0.8,\"#7fbc41\"],[0.9,\"#4d9221\"],[1,\"#276419\"]]},\"xaxis\":{\"gridcolor\":\"white\",\"linecolor\":\"white\",\"ticks\":\"\",\"title\":{\"standoff\":15},\"zerolinecolor\":\"white\",\"automargin\":true,\"zerolinewidth\":2},\"yaxis\":{\"gridcolor\":\"white\",\"linecolor\":\"white\",\"ticks\":\"\",\"title\":{\"standoff\":15},\"zerolinecolor\":\"white\",\"automargin\":true,\"zerolinewidth\":2},\"scene\":{\"xaxis\":{\"backgroundcolor\":\"#E5ECF6\",\"gridcolor\":\"white\",\"linecolor\":\"white\",\"showbackground\":true,\"ticks\":\"\",\"zerolinecolor\":\"white\",\"gridwidth\":2},\"yaxis\":{\"backgroundcolor\":\"#E5ECF6\",\"gridcolor\":\"white\",\"linecolor\":\"white\",\"showbackground\":true,\"ticks\":\"\",\"zerolinecolor\":\"white\",\"gridwidth\":2},\"zaxis\":{\"backgroundcolor\":\"#E5ECF6\",\"gridcolor\":\"white\",\"linecolor\":\"white\",\"showbackground\":true,\"ticks\":\"\",\"zerolinecolor\":\"white\",\"gridwidth\":2}},\"shapedefaults\":{\"line\":{\"color\":\"#2a3f5f\"}},\"annotationdefaults\":{\"arrowcolor\":\"#2a3f5f\",\"arrowhead\":0,\"arrowwidth\":1},\"geo\":{\"bgcolor\":\"white\",\"landcolor\":\"#E5ECF6\",\"subunitcolor\":\"white\",\"showland\":true,\"showlakes\":true,\"lakecolor\":\"white\"},\"title\":{\"x\":0.05},\"mapbox\":{\"style\":\"light\"}}},\"xaxis\":{\"anchor\":\"y\",\"domain\":[0.0,1.0],\"title\":{\"text\":\"x\"}},\"yaxis\":{\"anchor\":\"x\",\"domain\":[0.0,1.0],\"title\":{\"text\":\"y\"}},\"legend\":{\"title\":{\"text\":\"Status\"},\"tracegroupgap\":0},\"margin\":{\"t\":60}},                        {\"responsive\": true}                    ).then(function(){\n",
       "                            \n",
       "var gd = document.getElementById('dfc48196-f0ca-4521-9a8c-10e3bc484b7c');\n",
       "var x = new MutationObserver(function (mutations, observer) {{\n",
       "        var display = window.getComputedStyle(gd).display;\n",
       "        if (!display || display === 'none') {{\n",
       "            console.log([gd, 'removed!']);\n",
       "            Plotly.purge(gd);\n",
       "            observer.disconnect();\n",
       "        }}\n",
       "}});\n",
       "\n",
       "// Listen for the removal of the full notebook cells\n",
       "var notebookContainer = gd.closest('#notebook-container');\n",
       "if (notebookContainer) {{\n",
       "    x.observe(notebookContainer, {childList: true});\n",
       "}}\n",
       "\n",
       "// Listen for the clearing of the current output cell\n",
       "var outputEl = gd.closest('.output');\n",
       "if (outputEl) {{\n",
       "    x.observe(outputEl, {childList: true});\n",
       "}}\n",
       "\n",
       "                        })                };                });            </script>        </div>"
      ]
     },
     "metadata": {},
     "output_type": "display_data"
    }
   ],
   "source": [
    "import warnings\n",
    "from plotly import express\n",
    "\n",
    "warnings.filterwarnings(action='ignore', category=FutureWarning)\n",
    "express.scatter(data_frame=model_df, x='x', y='y', color=TARGET)"
   ]
  },
  {
   "cell_type": "markdown",
   "id": "37d46288",
   "metadata": {
    "papermill": {
     "duration": 0.009191,
     "end_time": "2024-08-03T15:11:05.100998",
     "exception": false,
     "start_time": "2024-08-03T15:11:05.091807",
     "status": "completed"
    },
    "tags": []
   },
   "source": [
    "We see a lot of local clustering. Let's build a model."
   ]
  },
  {
   "cell_type": "code",
   "execution_count": 13,
   "id": "87bd53fe",
   "metadata": {
    "execution": {
     "iopub.execute_input": "2024-08-03T15:11:05.122190Z",
     "iopub.status.busy": "2024-08-03T15:11:05.121781Z",
     "iopub.status.idle": "2024-08-03T15:11:06.687026Z",
     "shell.execute_reply": "2024-08-03T15:11:06.685956Z"
    },
    "papermill": {
     "duration": 1.578684,
     "end_time": "2024-08-03T15:11:06.689302",
     "exception": false,
     "start_time": "2024-08-03T15:11:05.110618",
     "status": "completed"
    },
    "tags": []
   },
   "outputs": [
    {
     "name": "stdout",
     "output_type": "stream",
     "text": [
      "model fit in 2108 iterations\n",
      "accuracy: 0.9100\n"
     ]
    }
   ],
   "source": [
    "from sklearn.linear_model import LogisticRegression\n",
    "from sklearn.model_selection import train_test_split\n",
    "from sklearn.metrics import accuracy_score\n",
    "\n",
    "X_train, X_test, y_train, y_test = train_test_split(model_df.drop(columns=[TARGET]), model_df[TARGET], test_size=0.2, random_state=2024, stratify=model_df[TARGET])\n",
    "model = LogisticRegression(max_iter=10000, tol=1e-12).fit(X_train, y_train)\n",
    "print('model fit in {} iterations'.format(model.n_iter_[0]))\n",
    "\n",
    "print('accuracy: {:5.4f}'.format(accuracy_score(y_true=y_test, y_pred=model.predict(X=X_test))))"
   ]
  },
  {
   "cell_type": "code",
   "execution_count": 14,
   "id": "c1d846f8",
   "metadata": {
    "execution": {
     "iopub.execute_input": "2024-08-03T15:11:06.709243Z",
     "iopub.status.busy": "2024-08-03T15:11:06.708866Z",
     "iopub.status.idle": "2024-08-03T15:11:06.742141Z",
     "shell.execute_reply": "2024-08-03T15:11:06.740964Z"
    },
    "papermill": {
     "duration": 0.046245,
     "end_time": "2024-08-03T15:11:06.744770",
     "exception": false,
     "start_time": "2024-08-03T15:11:06.698525",
     "status": "completed"
    },
    "tags": []
   },
   "outputs": [
    {
     "name": "stdout",
     "output_type": "stream",
     "text": [
      "                           precision    recall  f1-score   support\n",
      "\n",
      "Approved - License Issued       0.78      1.00      0.88       105\n",
      "                   Denied       0.00      0.00      0.00        34\n",
      "               Incomplete       0.94      0.97      0.96       546\n",
      "Pending Fitness Interview       0.00      0.00      0.00         4\n",
      "             Under Review       0.00      0.00      0.00        11\n",
      "\n",
      "                 accuracy                           0.91       700\n",
      "                macro avg       0.34      0.39      0.37       700\n",
      "             weighted avg       0.85      0.91      0.88       700\n",
      "\n"
     ]
    }
   ],
   "source": [
    "from sklearn.metrics import classification_report\n",
    "\n",
    "print(classification_report(zero_division=0 , y_true=y_test, y_pred=model.predict(X=X_test)))"
   ]
  },
  {
   "cell_type": "markdown",
   "id": "f343af50",
   "metadata": {
    "papermill": {
     "duration": 0.008847,
     "end_time": "2024-08-03T15:11:06.763078",
     "exception": false,
     "start_time": "2024-08-03T15:11:06.754231",
     "status": "completed"
    },
    "tags": []
   },
   "source": [
    "Not surprisingly our model can find the two large classes but not the other two."
   ]
  }
 ],
 "metadata": {
  "kaggle": {
   "accelerator": "none",
   "dataSources": [
    {
     "datasetId": 5404710,
     "sourceId": 8976259,
     "sourceType": "datasetVersion"
    }
   ],
   "dockerImageVersionId": 30746,
   "isGpuEnabled": false,
   "isInternetEnabled": true,
   "language": "python",
   "sourceType": "notebook"
  },
  "kernelspec": {
   "display_name": "Python 3",
   "language": "python",
   "name": "python3"
  },
  "language_info": {
   "codemirror_mode": {
    "name": "ipython",
    "version": 3
   },
   "file_extension": ".py",
   "mimetype": "text/x-python",
   "name": "python",
   "nbconvert_exporter": "python",
   "pygments_lexer": "ipython3",
   "version": "3.10.13"
  },
  "papermill": {
   "default_parameters": {},
   "duration": 86.13062,
   "end_time": "2024-08-03T15:11:09.561272",
   "environment_variables": {},
   "exception": null,
   "input_path": "__notebook__.ipynb",
   "output_path": "__notebook__.ipynb",
   "parameters": {},
   "start_time": "2024-08-03T15:09:43.430652",
   "version": "2.5.0"
  },
  "widgets": {
   "application/vnd.jupyter.widget-state+json": {
    "state": {
     "04ffd26d0089476180b90b3a2b5633d8": {
      "model_module": "@jupyter-widgets/controls",
      "model_module_version": "1.5.0",
      "model_name": "HTMLModel",
      "state": {
       "_dom_classes": [],
       "_model_module": "@jupyter-widgets/controls",
       "_model_module_version": "1.5.0",
       "_model_name": "HTMLModel",
       "_view_count": null,
       "_view_module": "@jupyter-widgets/controls",
       "_view_module_version": "1.5.0",
       "_view_name": "HTMLView",
       "description": "",
       "description_tooltip": null,
       "layout": "IPY_MODEL_ea031fe5f93f4ae994d3b48ebc3ce3df",
       "placeholder": "​",
       "style": "IPY_MODEL_a4a8a05b88ae427b8644cb3683128bf7",
       "value": "Epochs completed: 100%| "
      }
     },
     "1e95f36f8ab545f0a7fee6e8ec8988a8": {
      "model_module": "@jupyter-widgets/controls",
      "model_module_version": "1.5.0",
      "model_name": "DescriptionStyleModel",
      "state": {
       "_model_module": "@jupyter-widgets/controls",
       "_model_module_version": "1.5.0",
       "_model_name": "DescriptionStyleModel",
       "_view_count": null,
       "_view_module": "@jupyter-widgets/base",
       "_view_module_version": "1.2.0",
       "_view_name": "StyleView",
       "description_width": ""
      }
     },
     "44191fea01ef453b89f9f2d3df16bd58": {
      "model_module": "@jupyter-widgets/controls",
      "model_module_version": "1.5.0",
      "model_name": "ProgressStyleModel",
      "state": {
       "_model_module": "@jupyter-widgets/controls",
       "_model_module_version": "1.5.0",
       "_model_name": "ProgressStyleModel",
       "_view_count": null,
       "_view_module": "@jupyter-widgets/base",
       "_view_module_version": "1.2.0",
       "_view_name": "StyleView",
       "bar_color": null,
       "description_width": ""
      }
     },
     "63e47b6167294cf794b9026fc1d41fbf": {
      "model_module": "@jupyter-widgets/base",
      "model_module_version": "1.2.0",
      "model_name": "LayoutModel",
      "state": {
       "_model_module": "@jupyter-widgets/base",
       "_model_module_version": "1.2.0",
       "_model_name": "LayoutModel",
       "_view_count": null,
       "_view_module": "@jupyter-widgets/base",
       "_view_module_version": "1.2.0",
       "_view_name": "LayoutView",
       "align_content": null,
       "align_items": null,
       "align_self": null,
       "border": null,
       "bottom": null,
       "display": null,
       "flex": null,
       "flex_flow": null,
       "grid_area": null,
       "grid_auto_columns": null,
       "grid_auto_flow": null,
       "grid_auto_rows": null,
       "grid_column": null,
       "grid_gap": null,
       "grid_row": null,
       "grid_template_areas": null,
       "grid_template_columns": null,
       "grid_template_rows": null,
       "height": null,
       "justify_content": null,
       "justify_items": null,
       "left": null,
       "margin": null,
       "max_height": null,
       "max_width": null,
       "min_height": null,
       "min_width": null,
       "object_fit": null,
       "object_position": null,
       "order": null,
       "overflow": null,
       "overflow_x": null,
       "overflow_y": null,
       "padding": null,
       "right": null,
       "top": null,
       "visibility": null,
       "width": null
      }
     },
     "8470e4e80aaa4821a18d276ca25bcb06": {
      "model_module": "@jupyter-widgets/base",
      "model_module_version": "1.2.0",
      "model_name": "LayoutModel",
      "state": {
       "_model_module": "@jupyter-widgets/base",
       "_model_module_version": "1.2.0",
       "_model_name": "LayoutModel",
       "_view_count": null,
       "_view_module": "@jupyter-widgets/base",
       "_view_module_version": "1.2.0",
       "_view_name": "LayoutView",
       "align_content": null,
       "align_items": null,
       "align_self": null,
       "border": null,
       "bottom": null,
       "display": null,
       "flex": null,
       "flex_flow": null,
       "grid_area": null,
       "grid_auto_columns": null,
       "grid_auto_flow": null,
       "grid_auto_rows": null,
       "grid_column": null,
       "grid_gap": null,
       "grid_row": null,
       "grid_template_areas": null,
       "grid_template_columns": null,
       "grid_template_rows": null,
       "height": null,
       "justify_content": null,
       "justify_items": null,
       "left": null,
       "margin": null,
       "max_height": null,
       "max_width": null,
       "min_height": null,
       "min_width": null,
       "object_fit": null,
       "object_position": null,
       "order": null,
       "overflow": null,
       "overflow_x": null,
       "overflow_y": null,
       "padding": null,
       "right": null,
       "top": null,
       "visibility": null,
       "width": null
      }
     },
     "a4a8a05b88ae427b8644cb3683128bf7": {
      "model_module": "@jupyter-widgets/controls",
      "model_module_version": "1.5.0",
      "model_name": "DescriptionStyleModel",
      "state": {
       "_model_module": "@jupyter-widgets/controls",
       "_model_module_version": "1.5.0",
       "_model_name": "DescriptionStyleModel",
       "_view_count": null,
       "_view_module": "@jupyter-widgets/base",
       "_view_module_version": "1.2.0",
       "_view_name": "StyleView",
       "description_width": ""
      }
     },
     "b76351f477d845dfa1a749637371dcb7": {
      "model_module": "@jupyter-widgets/controls",
      "model_module_version": "1.5.0",
      "model_name": "HTMLModel",
      "state": {
       "_dom_classes": [],
       "_model_module": "@jupyter-widgets/controls",
       "_model_module_version": "1.5.0",
       "_model_name": "HTMLModel",
       "_view_count": null,
       "_view_module": "@jupyter-widgets/controls",
       "_view_module_version": "1.5.0",
       "_view_name": "HTMLView",
       "description": "",
       "description_tooltip": null,
       "layout": "IPY_MODEL_8470e4e80aaa4821a18d276ca25bcb06",
       "placeholder": "​",
       "style": "IPY_MODEL_1e95f36f8ab545f0a7fee6e8ec8988a8",
       "value": " 500/500 [00:25]"
      }
     },
     "c2b3742ccfc94972add88c018a60bab6": {
      "model_module": "@jupyter-widgets/base",
      "model_module_version": "1.2.0",
      "model_name": "LayoutModel",
      "state": {
       "_model_module": "@jupyter-widgets/base",
       "_model_module_version": "1.2.0",
       "_model_name": "LayoutModel",
       "_view_count": null,
       "_view_module": "@jupyter-widgets/base",
       "_view_module_version": "1.2.0",
       "_view_name": "LayoutView",
       "align_content": null,
       "align_items": null,
       "align_self": null,
       "border": null,
       "bottom": null,
       "display": null,
       "flex": null,
       "flex_flow": null,
       "grid_area": null,
       "grid_auto_columns": null,
       "grid_auto_flow": null,
       "grid_auto_rows": null,
       "grid_column": null,
       "grid_gap": null,
       "grid_row": null,
       "grid_template_areas": null,
       "grid_template_columns": null,
       "grid_template_rows": null,
       "height": null,
       "justify_content": null,
       "justify_items": null,
       "left": null,
       "margin": null,
       "max_height": null,
       "max_width": null,
       "min_height": null,
       "min_width": null,
       "object_fit": null,
       "object_position": null,
       "order": null,
       "overflow": null,
       "overflow_x": null,
       "overflow_y": null,
       "padding": null,
       "right": null,
       "top": null,
       "visibility": null,
       "width": null
      }
     },
     "ea031fe5f93f4ae994d3b48ebc3ce3df": {
      "model_module": "@jupyter-widgets/base",
      "model_module_version": "1.2.0",
      "model_name": "LayoutModel",
      "state": {
       "_model_module": "@jupyter-widgets/base",
       "_model_module_version": "1.2.0",
       "_model_name": "LayoutModel",
       "_view_count": null,
       "_view_module": "@jupyter-widgets/base",
       "_view_module_version": "1.2.0",
       "_view_name": "LayoutView",
       "align_content": null,
       "align_items": null,
       "align_self": null,
       "border": null,
       "bottom": null,
       "display": null,
       "flex": null,
       "flex_flow": null,
       "grid_area": null,
       "grid_auto_columns": null,
       "grid_auto_flow": null,
       "grid_auto_rows": null,
       "grid_column": null,
       "grid_gap": null,
       "grid_row": null,
       "grid_template_areas": null,
       "grid_template_columns": null,
       "grid_template_rows": null,
       "height": null,
       "justify_content": null,
       "justify_items": null,
       "left": null,
       "margin": null,
       "max_height": null,
       "max_width": null,
       "min_height": null,
       "min_width": null,
       "object_fit": null,
       "object_position": null,
       "order": null,
       "overflow": null,
       "overflow_x": null,
       "overflow_y": null,
       "padding": null,
       "right": null,
       "top": null,
       "visibility": null,
       "width": null
      }
     },
     "f1a398fb12e24203a1e12fc3a0bce9d3": {
      "model_module": "@jupyter-widgets/controls",
      "model_module_version": "1.5.0",
      "model_name": "FloatProgressModel",
      "state": {
       "_dom_classes": [],
       "_model_module": "@jupyter-widgets/controls",
       "_model_module_version": "1.5.0",
       "_model_name": "FloatProgressModel",
       "_view_count": null,
       "_view_module": "@jupyter-widgets/controls",
       "_view_module_version": "1.5.0",
       "_view_name": "ProgressView",
       "bar_style": "success",
       "description": "",
       "description_tooltip": null,
       "layout": "IPY_MODEL_63e47b6167294cf794b9026fc1d41fbf",
       "max": 500.0,
       "min": 0.0,
       "orientation": "horizontal",
       "style": "IPY_MODEL_44191fea01ef453b89f9f2d3df16bd58",
       "value": 500.0
      }
     },
     "fc4032c3802e417c826b52a59c8d0d5e": {
      "model_module": "@jupyter-widgets/controls",
      "model_module_version": "1.5.0",
      "model_name": "HBoxModel",
      "state": {
       "_dom_classes": [],
       "_model_module": "@jupyter-widgets/controls",
       "_model_module_version": "1.5.0",
       "_model_name": "HBoxModel",
       "_view_count": null,
       "_view_module": "@jupyter-widgets/controls",
       "_view_module_version": "1.5.0",
       "_view_name": "HBoxView",
       "box_style": "",
       "children": [
        "IPY_MODEL_04ffd26d0089476180b90b3a2b5633d8",
        "IPY_MODEL_f1a398fb12e24203a1e12fc3a0bce9d3",
        "IPY_MODEL_b76351f477d845dfa1a749637371dcb7"
       ],
       "layout": "IPY_MODEL_c2b3742ccfc94972add88c018a60bab6"
      }
     }
    },
    "version_major": 2,
    "version_minor": 0
   }
  }
 },
 "nbformat": 4,
 "nbformat_minor": 5
}
