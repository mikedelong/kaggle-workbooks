{
 "cells": [
  {
   "cell_type": "code",
   "execution_count": 1,
   "id": "4a685e18",
   "metadata": {
    "_cell_guid": "b1076dfc-b9ad-4769-8c92-a6c4dae69d19",
    "_uuid": "8f2839f25d086af736a60e9eeb907d3b93b6e0e5",
    "execution": {
     "iopub.execute_input": "2024-07-11T16:04:13.315221Z",
     "iopub.status.busy": "2024-07-11T16:04:13.314836Z",
     "iopub.status.idle": "2024-07-11T16:04:14.299837Z",
     "shell.execute_reply": "2024-07-11T16:04:14.298642Z"
    },
    "papermill": {
     "duration": 0.99415,
     "end_time": "2024-07-11T16:04:14.302376",
     "exception": false,
     "start_time": "2024-07-11T16:04:13.308226",
     "status": "completed"
    },
    "tags": []
   },
   "outputs": [
    {
     "data": {
      "text/html": [
       "<div>\n",
       "<style scoped>\n",
       "    .dataframe tbody tr th:only-of-type {\n",
       "        vertical-align: middle;\n",
       "    }\n",
       "\n",
       "    .dataframe tbody tr th {\n",
       "        vertical-align: top;\n",
       "    }\n",
       "\n",
       "    .dataframe thead th {\n",
       "        text-align: right;\n",
       "    }\n",
       "</style>\n",
       "<table border=\"1\" class=\"dataframe\">\n",
       "  <thead>\n",
       "    <tr style=\"text-align: right;\">\n",
       "      <th></th>\n",
       "      <th>Sex</th>\n",
       "      <th>%Red Pixel</th>\n",
       "      <th>%Green pixel</th>\n",
       "      <th>%Blue pixel</th>\n",
       "      <th>Hb</th>\n",
       "      <th>Anaemic</th>\n",
       "      <th>sex</th>\n",
       "    </tr>\n",
       "    <tr>\n",
       "      <th>Number</th>\n",
       "      <th></th>\n",
       "      <th></th>\n",
       "      <th></th>\n",
       "      <th></th>\n",
       "      <th></th>\n",
       "      <th></th>\n",
       "      <th></th>\n",
       "    </tr>\n",
       "  </thead>\n",
       "  <tbody>\n",
       "    <tr>\n",
       "      <th>1</th>\n",
       "      <td>M</td>\n",
       "      <td>43.2555</td>\n",
       "      <td>30.8421</td>\n",
       "      <td>25.9025</td>\n",
       "      <td>6.3</td>\n",
       "      <td>True</td>\n",
       "      <td>False</td>\n",
       "    </tr>\n",
       "    <tr>\n",
       "      <th>2</th>\n",
       "      <td>F</td>\n",
       "      <td>45.6033</td>\n",
       "      <td>28.1900</td>\n",
       "      <td>26.2067</td>\n",
       "      <td>13.5</td>\n",
       "      <td>False</td>\n",
       "      <td>True</td>\n",
       "    </tr>\n",
       "    <tr>\n",
       "      <th>3</th>\n",
       "      <td>F</td>\n",
       "      <td>45.0107</td>\n",
       "      <td>28.9677</td>\n",
       "      <td>26.0215</td>\n",
       "      <td>11.7</td>\n",
       "      <td>False</td>\n",
       "      <td>True</td>\n",
       "    </tr>\n",
       "    <tr>\n",
       "      <th>4</th>\n",
       "      <td>F</td>\n",
       "      <td>44.5398</td>\n",
       "      <td>28.9899</td>\n",
       "      <td>26.4703</td>\n",
       "      <td>13.5</td>\n",
       "      <td>False</td>\n",
       "      <td>True</td>\n",
       "    </tr>\n",
       "    <tr>\n",
       "      <th>5</th>\n",
       "      <td>M</td>\n",
       "      <td>43.2870</td>\n",
       "      <td>30.6972</td>\n",
       "      <td>26.0158</td>\n",
       "      <td>12.4</td>\n",
       "      <td>False</td>\n",
       "      <td>False</td>\n",
       "    </tr>\n",
       "  </tbody>\n",
       "</table>\n",
       "</div>"
      ],
      "text/plain": [
       "       Sex  %Red Pixel  %Green pixel  %Blue pixel    Hb  Anaemic    sex\n",
       "Number                                                                 \n",
       "1        M     43.2555       30.8421      25.9025   6.3     True  False\n",
       "2        F     45.6033       28.1900      26.2067  13.5    False   True\n",
       "3        F     45.0107       28.9677      26.0215  11.7    False   True\n",
       "4        F     44.5398       28.9899      26.4703  13.5    False   True\n",
       "5        M     43.2870       30.6972      26.0158  12.4    False  False"
      ]
     },
     "execution_count": 1,
     "metadata": {},
     "output_type": "execute_result"
    }
   ],
   "source": [
    "import pandas as pd\n",
    "\n",
    "BLOOD = '/kaggle/input/anaemia-prediction/output.csv'\n",
    "\n",
    "df = pd.read_csv(filepath_or_buffer=BLOOD, index_col=['Number'])\n",
    "df['Anaemic'] = df['Anaemic'] == 'Yes'\n",
    "df['Sex'] = df['Sex'].str.strip()\n",
    "df['sex'] = df['Sex'] == 'F'\n",
    "df.head()"
   ]
  },
  {
   "cell_type": "markdown",
   "id": "efd41419",
   "metadata": {
    "papermill": {
     "duration": 0.003585,
     "end_time": "2024-07-11T16:04:14.310194",
     "exception": false,
     "start_time": "2024-07-11T16:04:14.306609",
     "status": "completed"
    },
    "tags": []
   },
   "source": [
    "Are our classes balanced? We would expect not, because anemia is relatively rare."
   ]
  },
  {
   "cell_type": "code",
   "execution_count": 2,
   "id": "25e39f9e",
   "metadata": {
    "execution": {
     "iopub.execute_input": "2024-07-11T16:04:14.319504Z",
     "iopub.status.busy": "2024-07-11T16:04:14.319069Z",
     "iopub.status.idle": "2024-07-11T16:04:14.336025Z",
     "shell.execute_reply": "2024-07-11T16:04:14.335049Z"
    },
    "papermill": {
     "duration": 0.024856,
     "end_time": "2024-07-11T16:04:14.338830",
     "exception": false,
     "start_time": "2024-07-11T16:04:14.313974",
     "status": "completed"
    },
    "tags": []
   },
   "outputs": [
    {
     "data": {
      "text/plain": [
       "({'M': 55, 'F': 49}, {False: 78, True: 26})"
      ]
     },
     "execution_count": 2,
     "metadata": {},
     "output_type": "execute_result"
    }
   ],
   "source": [
    "df['Sex'].value_counts().to_dict(), df['Anaemic'].value_counts().to_dict()"
   ]
  },
  {
   "cell_type": "markdown",
   "id": "cdd8c8f3",
   "metadata": {
    "papermill": {
     "duration": 0.003728,
     "end_time": "2024-07-11T16:04:14.346771",
     "exception": false,
     "start_time": "2024-07-11T16:04:14.343043",
     "status": "completed"
    },
    "tags": []
   },
   "source": [
    "We have about as many men as women, but our target class is unbalanced."
   ]
  },
  {
   "cell_type": "markdown",
   "id": "dbf5fcba",
   "metadata": {
    "papermill": {
     "duration": 0.003649,
     "end_time": "2024-07-11T16:04:14.354390",
     "exception": false,
     "start_time": "2024-07-11T16:04:14.350741",
     "status": "completed"
    },
    "tags": []
   },
   "source": [
    "Do we expect anemia to correlate with sex? Let's find out."
   ]
  },
  {
   "cell_type": "code",
   "execution_count": 3,
   "id": "d0a6a3a0",
   "metadata": {
    "execution": {
     "iopub.execute_input": "2024-07-11T16:04:14.365513Z",
     "iopub.status.busy": "2024-07-11T16:04:14.364180Z",
     "iopub.status.idle": "2024-07-11T16:04:14.383981Z",
     "shell.execute_reply": "2024-07-11T16:04:14.382328Z"
    },
    "papermill": {
     "duration": 0.028261,
     "end_time": "2024-07-11T16:04:14.387034",
     "exception": false,
     "start_time": "2024-07-11T16:04:14.358773",
     "status": "completed"
    },
    "tags": []
   },
   "outputs": [
    {
     "data": {
      "text/html": [
       "<div>\n",
       "<style scoped>\n",
       "    .dataframe tbody tr th:only-of-type {\n",
       "        vertical-align: middle;\n",
       "    }\n",
       "\n",
       "    .dataframe tbody tr th {\n",
       "        vertical-align: top;\n",
       "    }\n",
       "\n",
       "    .dataframe thead th {\n",
       "        text-align: right;\n",
       "    }\n",
       "</style>\n",
       "<table border=\"1\" class=\"dataframe\">\n",
       "  <thead>\n",
       "    <tr style=\"text-align: right;\">\n",
       "      <th></th>\n",
       "      <th>Sex</th>\n",
       "      <th>Anaemic</th>\n",
       "      <th>count</th>\n",
       "    </tr>\n",
       "  </thead>\n",
       "  <tbody>\n",
       "    <tr>\n",
       "      <th>0</th>\n",
       "      <td>M</td>\n",
       "      <td>False</td>\n",
       "      <td>46</td>\n",
       "    </tr>\n",
       "    <tr>\n",
       "      <th>1</th>\n",
       "      <td>F</td>\n",
       "      <td>False</td>\n",
       "      <td>32</td>\n",
       "    </tr>\n",
       "    <tr>\n",
       "      <th>2</th>\n",
       "      <td>F</td>\n",
       "      <td>True</td>\n",
       "      <td>17</td>\n",
       "    </tr>\n",
       "    <tr>\n",
       "      <th>3</th>\n",
       "      <td>M</td>\n",
       "      <td>True</td>\n",
       "      <td>9</td>\n",
       "    </tr>\n",
       "  </tbody>\n",
       "</table>\n",
       "</div>"
      ],
      "text/plain": [
       "  Sex  Anaemic  count\n",
       "0   M    False     46\n",
       "1   F    False     32\n",
       "2   F     True     17\n",
       "3   M     True      9"
      ]
     },
     "execution_count": 3,
     "metadata": {},
     "output_type": "execute_result"
    }
   ],
   "source": [
    "df[['Sex', 'Anaemic']].value_counts().to_frame().reset_index()"
   ]
  },
  {
   "cell_type": "markdown",
   "id": "87fd278d",
   "metadata": {
    "papermill": {
     "duration": 0.003982,
     "end_time": "2024-07-11T16:04:14.395375",
     "exception": false,
     "start_time": "2024-07-11T16:04:14.391393",
     "status": "completed"
    },
    "tags": []
   },
   "source": [
    "We have slightly more men than women in our dataset, but in the target group women out number men about two to one."
   ]
  },
  {
   "cell_type": "markdown",
   "id": "4401cef7",
   "metadata": {
    "papermill": {
     "duration": 0.004048,
     "end_time": "2024-07-11T16:04:14.403881",
     "exception": false,
     "start_time": "2024-07-11T16:04:14.399833",
     "status": "completed"
    },
    "tags": []
   },
   "source": [
    "Let's do a little dimension reduction (we can't do a lot, because we have so few samples and only a few variables) and see if the target class is easy to spot."
   ]
  },
  {
   "cell_type": "code",
   "execution_count": 4,
   "id": "01483127",
   "metadata": {
    "execution": {
     "iopub.execute_input": "2024-07-11T16:04:14.414121Z",
     "iopub.status.busy": "2024-07-11T16:04:14.413762Z",
     "iopub.status.idle": "2024-07-11T16:04:59.764985Z",
     "shell.execute_reply": "2024-07-11T16:04:59.763806Z"
    },
    "papermill": {
     "duration": 45.360417,
     "end_time": "2024-07-11T16:04:59.768592",
     "exception": false,
     "start_time": "2024-07-11T16:04:14.408175",
     "status": "completed"
    },
    "tags": []
   },
   "outputs": [
    {
     "name": "stderr",
     "output_type": "stream",
     "text": [
      "2024-07-11 16:04:38.577141: E external/local_xla/xla/stream_executor/cuda/cuda_dnn.cc:9261] Unable to register cuDNN factory: Attempting to register factory for plugin cuDNN when one has already been registered\n",
      "2024-07-11 16:04:38.577418: E external/local_xla/xla/stream_executor/cuda/cuda_fft.cc:607] Unable to register cuFFT factory: Attempting to register factory for plugin cuFFT when one has already been registered\n",
      "2024-07-11 16:04:38.753098: E external/local_xla/xla/stream_executor/cuda/cuda_blas.cc:1515] Unable to register cuBLAS factory: Attempting to register factory for plugin cuBLAS when one has already been registered\n"
     ]
    },
    {
     "name": "stdout",
     "output_type": "stream",
     "text": [
      "UMAP(low_memory=False, n_epochs=201, n_jobs=1, random_state=2024, verbose=True)\n",
      "Thu Jul 11 16:04:50 2024 Construct fuzzy simplicial set\n",
      "Thu Jul 11 16:04:51 2024 Finding Nearest Neighbors\n",
      "Thu Jul 11 16:04:54 2024 Finished Nearest Neighbor Search\n",
      "Thu Jul 11 16:04:58 2024 Construct embedding\n"
     ]
    },
    {
     "data": {
      "application/vnd.jupyter.widget-view+json": {
       "model_id": "3adfd3c9b90241d5b0b99bb8547fb690",
       "version_major": 2,
       "version_minor": 0
      },
      "text/plain": [
       "Epochs completed:   0%|            0/201 [00:00]"
      ]
     },
     "metadata": {},
     "output_type": "display_data"
    },
    {
     "name": "stdout",
     "output_type": "stream",
     "text": [
      "\tcompleted  0  /  201 epochs\n",
      "\tcompleted  20  /  201 epochs\n",
      "\tcompleted  40  /  201 epochs\n",
      "\tcompleted  60  /  201 epochs\n",
      "\tcompleted  80  /  201 epochs\n",
      "\tcompleted  100  /  201 epochs\n",
      "\tcompleted  120  /  201 epochs\n",
      "\tcompleted  140  /  201 epochs\n",
      "\tcompleted  160  /  201 epochs\n",
      "\tcompleted  180  /  201 epochs\n",
      "\tcompleted  200  /  201 epochs\n",
      "Thu Jul 11 16:04:59 2024 Finished embedding\n",
      "done with UMAP in 0:00:08.861962\n"
     ]
    }
   ],
   "source": [
    "import arrow\n",
    "from umap import UMAP\n",
    "\n",
    "COLUMNS = [column for column, datatype in df.dtypes.to_dict().items() if str(datatype) in {'float64',} ] + ['sex']\n",
    "\n",
    "time_start = arrow.now()\n",
    "umap = UMAP(random_state=2024, verbose=True, n_jobs=1, low_memory=False, n_epochs=201)\n",
    "df[['x', 'y']] = umap.fit_transform(X=df[COLUMNS])\n",
    "print('done with UMAP in {}'.format(arrow.now() - time_start))"
   ]
  },
  {
   "cell_type": "code",
   "execution_count": 5,
   "id": "4db038a3",
   "metadata": {
    "execution": {
     "iopub.execute_input": "2024-07-11T16:04:59.780191Z",
     "iopub.status.busy": "2024-07-11T16:04:59.779490Z",
     "iopub.status.idle": "2024-07-11T16:05:02.469936Z",
     "shell.execute_reply": "2024-07-11T16:05:02.468836Z"
    },
    "papermill": {
     "duration": 2.699103,
     "end_time": "2024-07-11T16:05:02.472600",
     "exception": false,
     "start_time": "2024-07-11T16:04:59.773497",
     "status": "completed"
    },
    "tags": []
   },
   "outputs": [
    {
     "data": {
      "text/html": [
       "        <script type=\"text/javascript\">\n",
       "        window.PlotlyConfig = {MathJaxConfig: 'local'};\n",
       "        if (window.MathJax && window.MathJax.Hub && window.MathJax.Hub.Config) {window.MathJax.Hub.Config({SVG: {font: \"STIX-Web\"}});}\n",
       "        if (typeof require !== 'undefined') {\n",
       "        require.undef(\"plotly\");\n",
       "        requirejs.config({\n",
       "            paths: {\n",
       "                'plotly': ['https://cdn.plot.ly/plotly-2.27.0.min']\n",
       "            }\n",
       "        });\n",
       "        require(['plotly'], function(Plotly) {\n",
       "            window._Plotly = Plotly;\n",
       "        });\n",
       "        }\n",
       "        </script>\n",
       "        "
      ]
     },
     "metadata": {},
     "output_type": "display_data"
    },
    {
     "data": {
      "text/html": [
       "<div>                            <div id=\"ae00e9ed-857d-4740-abe4-2e2129c8cd58\" class=\"plotly-graph-div\" style=\"height:525px; width:100%;\"></div>            <script type=\"text/javascript\">                require([\"plotly\"], function(Plotly) {                    window.PLOTLYENV=window.PLOTLYENV || {};                                    if (document.getElementById(\"ae00e9ed-857d-4740-abe4-2e2129c8cd58\")) {                    Plotly.newPlot(                        \"ae00e9ed-857d-4740-abe4-2e2129c8cd58\",                        [{\"hovertemplate\":\"Anaemic=True\\u003cbr\\u003eSex=M\\u003cbr\\u003ex=%{x}\\u003cbr\\u003ey=%{y}\\u003cextra\\u003e\\u003c\\u002fextra\\u003e\",\"legendgroup\":\"True, M\",\"marker\":{\"color\":\"#636efa\",\"symbol\":\"circle\"},\"mode\":\"markers\",\"name\":\"True, M\",\"orientation\":\"v\",\"showlegend\":true,\"x\":[10.998457,9.95533,9.52021,11.045293,9.900225,10.226642,10.670044,10.325295,11.089906],\"xaxis\":\"x\",\"y\":[8.503676,7.5923166,7.4373713,8.683258,8.648594,8.556339,9.415304,8.561967,8.851987],\"yaxis\":\"y\",\"type\":\"scatter\"},{\"hovertemplate\":\"Anaemic=True\\u003cbr\\u003eSex=F\\u003cbr\\u003ex=%{x}\\u003cbr\\u003ey=%{y}\\u003cextra\\u003e\\u003c\\u002fextra\\u003e\",\"legendgroup\":\"True, F\",\"marker\":{\"color\":\"#636efa\",\"symbol\":\"diamond\"},\"mode\":\"markers\",\"name\":\"True, F\",\"orientation\":\"v\",\"showlegend\":true,\"x\":[10.674351,6.662153,10.977544,10.242555,10.439837,10.580043,9.255271,10.40328,10.578796,9.727099,2.4770513,9.956063,10.44692,10.255412,9.827528,10.60751,2.8490736],\"xaxis\":\"x\",\"y\":[8.626241,7.341965,8.178997,9.049721,8.119568,9.30527,7.5664387,9.557751,8.96908,7.2607713,5.3326902,7.5856547,8.958034,7.8980365,9.213104,8.807961,5.405174],\"yaxis\":\"y\",\"type\":\"scatter\"},{\"hovertemplate\":\"Anaemic=False\\u003cbr\\u003eSex=M\\u003cbr\\u003ex=%{x}\\u003cbr\\u003ey=%{y}\\u003cextra\\u003e\\u003c\\u002fextra\\u003e\",\"legendgroup\":\"False, M\",\"marker\":{\"color\":\"#EF553B\",\"symbol\":\"circle\"},\"mode\":\"markers\",\"name\":\"False, M\",\"orientation\":\"v\",\"showlegend\":true,\"x\":[8.021041,5.6414194,3.3482163,5.074194,7.878555,6.2273636,3.0969079,7.743854,7.450269,2.784828,7.7923894,5.2460814,5.8609476,4.304973,4.849898,10.151103,2.8789268,4.220577,6.1197987,6.5056868,4.3580036,3.0418513,5.901788,2.8600254,5.9636254,5.2069364,7.1339927,6.756571,4.658516,4.9525166,2.6632588,5.557028,2.5814133,6.204398,2.094697,5.412885,4.29765,8.645359,1.9562931,2.5573683,2.7402482,3.0004282,2.01417,3.869493,4.129043,6.2873645],\"xaxis\":\"x\",\"y\":[8.514555,9.212073,7.736017,8.541962,8.39168,9.228782,7.3139124,9.361326,8.36056,6.9556417,9.3671055,8.814351,8.083494,7.1032367,8.317939,9.386536,7.532512,8.179504,8.499083,9.003018,7.5654473,6.8248844,7.5867877,7.3916645,7.80732,7.933353,8.961453,9.253177,8.359658,7.685645,5.8416395,7.941696,5.5944014,9.110385,5.556772,9.285552,7.978357,7.125084,6.0222464,5.3231,6.687727,7.720668,5.929837,6.8556175,7.2611656,8.258145],\"yaxis\":\"y\",\"type\":\"scatter\"},{\"hovertemplate\":\"Anaemic=False\\u003cbr\\u003eSex=F\\u003cbr\\u003ex=%{x}\\u003cbr\\u003ey=%{y}\\u003cextra\\u003e\\u003c\\u002fextra\\u003e\",\"legendgroup\":\"False, F\",\"marker\":{\"color\":\"#EF553B\",\"symbol\":\"diamond\"},\"mode\":\"markers\",\"name\":\"False, F\",\"orientation\":\"v\",\"showlegend\":true,\"x\":[5.5246615,7.9056587,6.727512,9.93166,7.05106,7.2677608,5.8850965,5.308763,8.408094,8.270406,8.355891,3.0309703,6.0961423,7.9093995,4.8634214,4.467034,4.228358,2.5260918,8.1999855,5.393755,8.025537,7.8513236,8.7276535,2.1660583,6.852433,8.069754,3.4124722,6.149405,8.974981,2.206222,8.480767,8.45831],\"xaxis\":\"x\",\"y\":[8.299004,7.770261,8.674306,8.971269,8.104182,7.844716,9.384266,8.362456,7.5264077,8.921639,9.149413,7.391015,9.3215885,9.485772,7.703582,7.0237517,7.009023,5.5116873,8.638004,9.190656,7.4943323,8.314368,8.3183565,5.6379957,9.241135,9.454369,6.7504926,7.5355535,7.2016716,5.541805,7.277677,9.000136],\"yaxis\":\"y\",\"type\":\"scatter\"}],                        {\"template\":{\"data\":{\"histogram2dcontour\":[{\"type\":\"histogram2dcontour\",\"colorbar\":{\"outlinewidth\":0,\"ticks\":\"\"},\"colorscale\":[[0.0,\"#0d0887\"],[0.1111111111111111,\"#46039f\"],[0.2222222222222222,\"#7201a8\"],[0.3333333333333333,\"#9c179e\"],[0.4444444444444444,\"#bd3786\"],[0.5555555555555556,\"#d8576b\"],[0.6666666666666666,\"#ed7953\"],[0.7777777777777778,\"#fb9f3a\"],[0.8888888888888888,\"#fdca26\"],[1.0,\"#f0f921\"]]}],\"choropleth\":[{\"type\":\"choropleth\",\"colorbar\":{\"outlinewidth\":0,\"ticks\":\"\"}}],\"histogram2d\":[{\"type\":\"histogram2d\",\"colorbar\":{\"outlinewidth\":0,\"ticks\":\"\"},\"colorscale\":[[0.0,\"#0d0887\"],[0.1111111111111111,\"#46039f\"],[0.2222222222222222,\"#7201a8\"],[0.3333333333333333,\"#9c179e\"],[0.4444444444444444,\"#bd3786\"],[0.5555555555555556,\"#d8576b\"],[0.6666666666666666,\"#ed7953\"],[0.7777777777777778,\"#fb9f3a\"],[0.8888888888888888,\"#fdca26\"],[1.0,\"#f0f921\"]]}],\"heatmap\":[{\"type\":\"heatmap\",\"colorbar\":{\"outlinewidth\":0,\"ticks\":\"\"},\"colorscale\":[[0.0,\"#0d0887\"],[0.1111111111111111,\"#46039f\"],[0.2222222222222222,\"#7201a8\"],[0.3333333333333333,\"#9c179e\"],[0.4444444444444444,\"#bd3786\"],[0.5555555555555556,\"#d8576b\"],[0.6666666666666666,\"#ed7953\"],[0.7777777777777778,\"#fb9f3a\"],[0.8888888888888888,\"#fdca26\"],[1.0,\"#f0f921\"]]}],\"heatmapgl\":[{\"type\":\"heatmapgl\",\"colorbar\":{\"outlinewidth\":0,\"ticks\":\"\"},\"colorscale\":[[0.0,\"#0d0887\"],[0.1111111111111111,\"#46039f\"],[0.2222222222222222,\"#7201a8\"],[0.3333333333333333,\"#9c179e\"],[0.4444444444444444,\"#bd3786\"],[0.5555555555555556,\"#d8576b\"],[0.6666666666666666,\"#ed7953\"],[0.7777777777777778,\"#fb9f3a\"],[0.8888888888888888,\"#fdca26\"],[1.0,\"#f0f921\"]]}],\"contourcarpet\":[{\"type\":\"contourcarpet\",\"colorbar\":{\"outlinewidth\":0,\"ticks\":\"\"}}],\"contour\":[{\"type\":\"contour\",\"colorbar\":{\"outlinewidth\":0,\"ticks\":\"\"},\"colorscale\":[[0.0,\"#0d0887\"],[0.1111111111111111,\"#46039f\"],[0.2222222222222222,\"#7201a8\"],[0.3333333333333333,\"#9c179e\"],[0.4444444444444444,\"#bd3786\"],[0.5555555555555556,\"#d8576b\"],[0.6666666666666666,\"#ed7953\"],[0.7777777777777778,\"#fb9f3a\"],[0.8888888888888888,\"#fdca26\"],[1.0,\"#f0f921\"]]}],\"surface\":[{\"type\":\"surface\",\"colorbar\":{\"outlinewidth\":0,\"ticks\":\"\"},\"colorscale\":[[0.0,\"#0d0887\"],[0.1111111111111111,\"#46039f\"],[0.2222222222222222,\"#7201a8\"],[0.3333333333333333,\"#9c179e\"],[0.4444444444444444,\"#bd3786\"],[0.5555555555555556,\"#d8576b\"],[0.6666666666666666,\"#ed7953\"],[0.7777777777777778,\"#fb9f3a\"],[0.8888888888888888,\"#fdca26\"],[1.0,\"#f0f921\"]]}],\"mesh3d\":[{\"type\":\"mesh3d\",\"colorbar\":{\"outlinewidth\":0,\"ticks\":\"\"}}],\"scatter\":[{\"fillpattern\":{\"fillmode\":\"overlay\",\"size\":10,\"solidity\":0.2},\"type\":\"scatter\"}],\"parcoords\":[{\"type\":\"parcoords\",\"line\":{\"colorbar\":{\"outlinewidth\":0,\"ticks\":\"\"}}}],\"scatterpolargl\":[{\"type\":\"scatterpolargl\",\"marker\":{\"colorbar\":{\"outlinewidth\":0,\"ticks\":\"\"}}}],\"bar\":[{\"error_x\":{\"color\":\"#2a3f5f\"},\"error_y\":{\"color\":\"#2a3f5f\"},\"marker\":{\"line\":{\"color\":\"#E5ECF6\",\"width\":0.5},\"pattern\":{\"fillmode\":\"overlay\",\"size\":10,\"solidity\":0.2}},\"type\":\"bar\"}],\"scattergeo\":[{\"type\":\"scattergeo\",\"marker\":{\"colorbar\":{\"outlinewidth\":0,\"ticks\":\"\"}}}],\"scatterpolar\":[{\"type\":\"scatterpolar\",\"marker\":{\"colorbar\":{\"outlinewidth\":0,\"ticks\":\"\"}}}],\"histogram\":[{\"marker\":{\"pattern\":{\"fillmode\":\"overlay\",\"size\":10,\"solidity\":0.2}},\"type\":\"histogram\"}],\"scattergl\":[{\"type\":\"scattergl\",\"marker\":{\"colorbar\":{\"outlinewidth\":0,\"ticks\":\"\"}}}],\"scatter3d\":[{\"type\":\"scatter3d\",\"line\":{\"colorbar\":{\"outlinewidth\":0,\"ticks\":\"\"}},\"marker\":{\"colorbar\":{\"outlinewidth\":0,\"ticks\":\"\"}}}],\"scattermapbox\":[{\"type\":\"scattermapbox\",\"marker\":{\"colorbar\":{\"outlinewidth\":0,\"ticks\":\"\"}}}],\"scatterternary\":[{\"type\":\"scatterternary\",\"marker\":{\"colorbar\":{\"outlinewidth\":0,\"ticks\":\"\"}}}],\"scattercarpet\":[{\"type\":\"scattercarpet\",\"marker\":{\"colorbar\":{\"outlinewidth\":0,\"ticks\":\"\"}}}],\"carpet\":[{\"aaxis\":{\"endlinecolor\":\"#2a3f5f\",\"gridcolor\":\"white\",\"linecolor\":\"white\",\"minorgridcolor\":\"white\",\"startlinecolor\":\"#2a3f5f\"},\"baxis\":{\"endlinecolor\":\"#2a3f5f\",\"gridcolor\":\"white\",\"linecolor\":\"white\",\"minorgridcolor\":\"white\",\"startlinecolor\":\"#2a3f5f\"},\"type\":\"carpet\"}],\"table\":[{\"cells\":{\"fill\":{\"color\":\"#EBF0F8\"},\"line\":{\"color\":\"white\"}},\"header\":{\"fill\":{\"color\":\"#C8D4E3\"},\"line\":{\"color\":\"white\"}},\"type\":\"table\"}],\"barpolar\":[{\"marker\":{\"line\":{\"color\":\"#E5ECF6\",\"width\":0.5},\"pattern\":{\"fillmode\":\"overlay\",\"size\":10,\"solidity\":0.2}},\"type\":\"barpolar\"}],\"pie\":[{\"automargin\":true,\"type\":\"pie\"}]},\"layout\":{\"autotypenumbers\":\"strict\",\"colorway\":[\"#636efa\",\"#EF553B\",\"#00cc96\",\"#ab63fa\",\"#FFA15A\",\"#19d3f3\",\"#FF6692\",\"#B6E880\",\"#FF97FF\",\"#FECB52\"],\"font\":{\"color\":\"#2a3f5f\"},\"hovermode\":\"closest\",\"hoverlabel\":{\"align\":\"left\"},\"paper_bgcolor\":\"white\",\"plot_bgcolor\":\"#E5ECF6\",\"polar\":{\"bgcolor\":\"#E5ECF6\",\"angularaxis\":{\"gridcolor\":\"white\",\"linecolor\":\"white\",\"ticks\":\"\"},\"radialaxis\":{\"gridcolor\":\"white\",\"linecolor\":\"white\",\"ticks\":\"\"}},\"ternary\":{\"bgcolor\":\"#E5ECF6\",\"aaxis\":{\"gridcolor\":\"white\",\"linecolor\":\"white\",\"ticks\":\"\"},\"baxis\":{\"gridcolor\":\"white\",\"linecolor\":\"white\",\"ticks\":\"\"},\"caxis\":{\"gridcolor\":\"white\",\"linecolor\":\"white\",\"ticks\":\"\"}},\"coloraxis\":{\"colorbar\":{\"outlinewidth\":0,\"ticks\":\"\"}},\"colorscale\":{\"sequential\":[[0.0,\"#0d0887\"],[0.1111111111111111,\"#46039f\"],[0.2222222222222222,\"#7201a8\"],[0.3333333333333333,\"#9c179e\"],[0.4444444444444444,\"#bd3786\"],[0.5555555555555556,\"#d8576b\"],[0.6666666666666666,\"#ed7953\"],[0.7777777777777778,\"#fb9f3a\"],[0.8888888888888888,\"#fdca26\"],[1.0,\"#f0f921\"]],\"sequentialminus\":[[0.0,\"#0d0887\"],[0.1111111111111111,\"#46039f\"],[0.2222222222222222,\"#7201a8\"],[0.3333333333333333,\"#9c179e\"],[0.4444444444444444,\"#bd3786\"],[0.5555555555555556,\"#d8576b\"],[0.6666666666666666,\"#ed7953\"],[0.7777777777777778,\"#fb9f3a\"],[0.8888888888888888,\"#fdca26\"],[1.0,\"#f0f921\"]],\"diverging\":[[0,\"#8e0152\"],[0.1,\"#c51b7d\"],[0.2,\"#de77ae\"],[0.3,\"#f1b6da\"],[0.4,\"#fde0ef\"],[0.5,\"#f7f7f7\"],[0.6,\"#e6f5d0\"],[0.7,\"#b8e186\"],[0.8,\"#7fbc41\"],[0.9,\"#4d9221\"],[1,\"#276419\"]]},\"xaxis\":{\"gridcolor\":\"white\",\"linecolor\":\"white\",\"ticks\":\"\",\"title\":{\"standoff\":15},\"zerolinecolor\":\"white\",\"automargin\":true,\"zerolinewidth\":2},\"yaxis\":{\"gridcolor\":\"white\",\"linecolor\":\"white\",\"ticks\":\"\",\"title\":{\"standoff\":15},\"zerolinecolor\":\"white\",\"automargin\":true,\"zerolinewidth\":2},\"scene\":{\"xaxis\":{\"backgroundcolor\":\"#E5ECF6\",\"gridcolor\":\"white\",\"linecolor\":\"white\",\"showbackground\":true,\"ticks\":\"\",\"zerolinecolor\":\"white\",\"gridwidth\":2},\"yaxis\":{\"backgroundcolor\":\"#E5ECF6\",\"gridcolor\":\"white\",\"linecolor\":\"white\",\"showbackground\":true,\"ticks\":\"\",\"zerolinecolor\":\"white\",\"gridwidth\":2},\"zaxis\":{\"backgroundcolor\":\"#E5ECF6\",\"gridcolor\":\"white\",\"linecolor\":\"white\",\"showbackground\":true,\"ticks\":\"\",\"zerolinecolor\":\"white\",\"gridwidth\":2}},\"shapedefaults\":{\"line\":{\"color\":\"#2a3f5f\"}},\"annotationdefaults\":{\"arrowcolor\":\"#2a3f5f\",\"arrowhead\":0,\"arrowwidth\":1},\"geo\":{\"bgcolor\":\"white\",\"landcolor\":\"#E5ECF6\",\"subunitcolor\":\"white\",\"showland\":true,\"showlakes\":true,\"lakecolor\":\"white\"},\"title\":{\"x\":0.05},\"mapbox\":{\"style\":\"light\"}}},\"xaxis\":{\"anchor\":\"y\",\"domain\":[0.0,1.0],\"title\":{\"text\":\"x\"}},\"yaxis\":{\"anchor\":\"x\",\"domain\":[0.0,1.0],\"title\":{\"text\":\"y\"}},\"legend\":{\"title\":{\"text\":\"Anaemic, Sex\"},\"tracegroupgap\":0},\"margin\":{\"t\":60}},                        {\"responsive\": true}                    ).then(function(){\n",
       "                            \n",
       "var gd = document.getElementById('ae00e9ed-857d-4740-abe4-2e2129c8cd58');\n",
       "var x = new MutationObserver(function (mutations, observer) {{\n",
       "        var display = window.getComputedStyle(gd).display;\n",
       "        if (!display || display === 'none') {{\n",
       "            console.log([gd, 'removed!']);\n",
       "            Plotly.purge(gd);\n",
       "            observer.disconnect();\n",
       "        }}\n",
       "}});\n",
       "\n",
       "// Listen for the removal of the full notebook cells\n",
       "var notebookContainer = gd.closest('#notebook-container');\n",
       "if (notebookContainer) {{\n",
       "    x.observe(notebookContainer, {childList: true});\n",
       "}}\n",
       "\n",
       "// Listen for the clearing of the current output cell\n",
       "var outputEl = gd.closest('.output');\n",
       "if (outputEl) {{\n",
       "    x.observe(outputEl, {childList: true});\n",
       "}}\n",
       "\n",
       "                        })                };                });            </script>        </div>"
      ]
     },
     "metadata": {},
     "output_type": "display_data"
    }
   ],
   "source": [
    "from plotly import express\n",
    "\n",
    "express.scatter(data_frame=df, x='x', y='y', color='Anaemic', symbol='Sex')"
   ]
  },
  {
   "cell_type": "markdown",
   "id": "d1c09ee9",
   "metadata": {
    "papermill": {
     "duration": 0.005086,
     "end_time": "2024-07-11T16:05:02.482974",
     "exception": false,
     "start_time": "2024-07-11T16:05:02.477888",
     "status": "completed"
    },
    "tags": []
   },
   "source": [
    "UMAP does a pretty good job pickint out the target class. Let's build a little model."
   ]
  },
  {
   "cell_type": "code",
   "execution_count": 6,
   "id": "86fe3445",
   "metadata": {
    "execution": {
     "iopub.execute_input": "2024-07-11T16:05:02.496068Z",
     "iopub.status.busy": "2024-07-11T16:05:02.495677Z",
     "iopub.status.idle": "2024-07-11T16:05:02.531426Z",
     "shell.execute_reply": "2024-07-11T16:05:02.530173Z"
    },
    "papermill": {
     "duration": 0.045023,
     "end_time": "2024-07-11T16:05:02.533863",
     "exception": false,
     "start_time": "2024-07-11T16:05:02.488840",
     "status": "completed"
    },
    "tags": []
   },
   "outputs": [
    {
     "name": "stdout",
     "output_type": "stream",
     "text": [
      "model fit in 50 iterations took 0:00:00.016132\n",
      "accuracy: 0.9524\n",
      "model done in 0:00:00.019914\n"
     ]
    }
   ],
   "source": [
    "import arrow\n",
    "from sklearn.linear_model import LogisticRegression\n",
    "from sklearn.metrics import accuracy_score\n",
    "from sklearn.model_selection import train_test_split\n",
    "\n",
    "TARGET = 'Anaemic'\n",
    "X_train, X_test, y_train, y_test = train_test_split(df[COLUMNS], df[TARGET], test_size=0.2, random_state=2024, stratify=df[TARGET])\n",
    "\n",
    "time_start = arrow.now()\n",
    "model = LogisticRegression(max_iter=100000, tol=1e-4).fit(X=X_train, y=y_train)\n",
    "print('model fit in {} iterations took {}'.format(model.n_iter_[0], arrow.now() - time_start))\n",
    "\n",
    "print('accuracy: {:5.4f}'.format(accuracy_score(y_true=y_test, y_pred=model.predict(X=X_test))))\n",
    "print('model done in {}'.format(arrow.now() - time_start))"
   ]
  },
  {
   "cell_type": "code",
   "execution_count": 7,
   "id": "c66a9da7",
   "metadata": {
    "execution": {
     "iopub.execute_input": "2024-07-11T16:05:02.546153Z",
     "iopub.status.busy": "2024-07-11T16:05:02.545746Z",
     "iopub.status.idle": "2024-07-11T16:05:02.563511Z",
     "shell.execute_reply": "2024-07-11T16:05:02.562314Z"
    },
    "papermill": {
     "duration": 0.026773,
     "end_time": "2024-07-11T16:05:02.565913",
     "exception": false,
     "start_time": "2024-07-11T16:05:02.539140",
     "status": "completed"
    },
    "tags": []
   },
   "outputs": [
    {
     "name": "stdout",
     "output_type": "stream",
     "text": [
      "              precision    recall  f1-score   support\n",
      "\n",
      "       False       0.94      1.00      0.97        16\n",
      "        True       1.00      0.80      0.89         5\n",
      "\n",
      "    accuracy                           0.95        21\n",
      "   macro avg       0.97      0.90      0.93        21\n",
      "weighted avg       0.96      0.95      0.95        21\n",
      "\n"
     ]
    }
   ],
   "source": [
    "from sklearn.metrics import classification_report\n",
    "\n",
    "print(classification_report(y_true=y_test, y_pred=model.predict(X=X_test)))"
   ]
  },
  {
   "cell_type": "markdown",
   "id": "89bc9805",
   "metadata": {
    "papermill": {
     "duration": 0.005102,
     "end_time": "2024-07-11T16:05:02.576534",
     "exception": false,
     "start_time": "2024-07-11T16:05:02.571432",
     "status": "completed"
    },
    "tags": []
   },
   "source": [
    "Our regression model does reasonably well, but unfortunately does least well in the part of the population that is the most interesting: true recall."
   ]
  }
 ],
 "metadata": {
  "kaggle": {
   "accelerator": "none",
   "dataSources": [
    {
     "datasetId": 5334004,
     "sourceId": 8859848,
     "sourceType": "datasetVersion"
    }
   ],
   "dockerImageVersionId": 30746,
   "isGpuEnabled": false,
   "isInternetEnabled": true,
   "language": "python",
   "sourceType": "notebook"
  },
  "kernelspec": {
   "display_name": "Python 3",
   "language": "python",
   "name": "python3"
  },
  "language_info": {
   "codemirror_mode": {
    "name": "ipython",
    "version": 3
   },
   "file_extension": ".py",
   "mimetype": "text/x-python",
   "name": "python",
   "nbconvert_exporter": "python",
   "pygments_lexer": "ipython3",
   "version": "3.10.13"
  },
  "papermill": {
   "default_parameters": {},
   "duration": 55.181479,
   "end_time": "2024-07-11T16:05:05.506710",
   "environment_variables": {},
   "exception": null,
   "input_path": "__notebook__.ipynb",
   "output_path": "__notebook__.ipynb",
   "parameters": {},
   "start_time": "2024-07-11T16:04:10.325231",
   "version": "2.5.0"
  },
  "widgets": {
   "application/vnd.jupyter.widget-state+json": {
    "state": {
     "1a04f39daad74de88297546ade384215": {
      "model_module": "@jupyter-widgets/controls",
      "model_module_version": "1.5.0",
      "model_name": "FloatProgressModel",
      "state": {
       "_dom_classes": [],
       "_model_module": "@jupyter-widgets/controls",
       "_model_module_version": "1.5.0",
       "_model_name": "FloatProgressModel",
       "_view_count": null,
       "_view_module": "@jupyter-widgets/controls",
       "_view_module_version": "1.5.0",
       "_view_name": "ProgressView",
       "bar_style": "success",
       "description": "",
       "description_tooltip": null,
       "layout": "IPY_MODEL_a885e0fa98a54f59b40b5113f4dc3da5",
       "max": 201.0,
       "min": 0.0,
       "orientation": "horizontal",
       "style": "IPY_MODEL_9e53cf2cfcdd42dd8e1b1976241e5d6a",
       "value": 201.0
      }
     },
     "3adfd3c9b90241d5b0b99bb8547fb690": {
      "model_module": "@jupyter-widgets/controls",
      "model_module_version": "1.5.0",
      "model_name": "HBoxModel",
      "state": {
       "_dom_classes": [],
       "_model_module": "@jupyter-widgets/controls",
       "_model_module_version": "1.5.0",
       "_model_name": "HBoxModel",
       "_view_count": null,
       "_view_module": "@jupyter-widgets/controls",
       "_view_module_version": "1.5.0",
       "_view_name": "HBoxView",
       "box_style": "",
       "children": [
        "IPY_MODEL_eb0bc77a0bd04293b609ff5652cf154a",
        "IPY_MODEL_1a04f39daad74de88297546ade384215",
        "IPY_MODEL_6b9baa5beb214ba781b1db71db97a433"
       ],
       "layout": "IPY_MODEL_d971a568b93743c6bf252d2e473afb4d"
      }
     },
     "6b9baa5beb214ba781b1db71db97a433": {
      "model_module": "@jupyter-widgets/controls",
      "model_module_version": "1.5.0",
      "model_name": "HTMLModel",
      "state": {
       "_dom_classes": [],
       "_model_module": "@jupyter-widgets/controls",
       "_model_module_version": "1.5.0",
       "_model_name": "HTMLModel",
       "_view_count": null,
       "_view_module": "@jupyter-widgets/controls",
       "_view_module_version": "1.5.0",
       "_view_name": "HTMLView",
       "description": "",
       "description_tooltip": null,
       "layout": "IPY_MODEL_d15bcf2da4564ba3b6a586dde83e386b",
       "placeholder": "​",
       "style": "IPY_MODEL_9546e36cc93948169de6d3d626e823c7",
       "value": " 201/201 [00:01]"
      }
     },
     "91c90c7fe08041089a77756adba9a9c7": {
      "model_module": "@jupyter-widgets/controls",
      "model_module_version": "1.5.0",
      "model_name": "DescriptionStyleModel",
      "state": {
       "_model_module": "@jupyter-widgets/controls",
       "_model_module_version": "1.5.0",
       "_model_name": "DescriptionStyleModel",
       "_view_count": null,
       "_view_module": "@jupyter-widgets/base",
       "_view_module_version": "1.2.0",
       "_view_name": "StyleView",
       "description_width": ""
      }
     },
     "9546e36cc93948169de6d3d626e823c7": {
      "model_module": "@jupyter-widgets/controls",
      "model_module_version": "1.5.0",
      "model_name": "DescriptionStyleModel",
      "state": {
       "_model_module": "@jupyter-widgets/controls",
       "_model_module_version": "1.5.0",
       "_model_name": "DescriptionStyleModel",
       "_view_count": null,
       "_view_module": "@jupyter-widgets/base",
       "_view_module_version": "1.2.0",
       "_view_name": "StyleView",
       "description_width": ""
      }
     },
     "9e53cf2cfcdd42dd8e1b1976241e5d6a": {
      "model_module": "@jupyter-widgets/controls",
      "model_module_version": "1.5.0",
      "model_name": "ProgressStyleModel",
      "state": {
       "_model_module": "@jupyter-widgets/controls",
       "_model_module_version": "1.5.0",
       "_model_name": "ProgressStyleModel",
       "_view_count": null,
       "_view_module": "@jupyter-widgets/base",
       "_view_module_version": "1.2.0",
       "_view_name": "StyleView",
       "bar_color": null,
       "description_width": ""
      }
     },
     "a885e0fa98a54f59b40b5113f4dc3da5": {
      "model_module": "@jupyter-widgets/base",
      "model_module_version": "1.2.0",
      "model_name": "LayoutModel",
      "state": {
       "_model_module": "@jupyter-widgets/base",
       "_model_module_version": "1.2.0",
       "_model_name": "LayoutModel",
       "_view_count": null,
       "_view_module": "@jupyter-widgets/base",
       "_view_module_version": "1.2.0",
       "_view_name": "LayoutView",
       "align_content": null,
       "align_items": null,
       "align_self": null,
       "border": null,
       "bottom": null,
       "display": null,
       "flex": null,
       "flex_flow": null,
       "grid_area": null,
       "grid_auto_columns": null,
       "grid_auto_flow": null,
       "grid_auto_rows": null,
       "grid_column": null,
       "grid_gap": null,
       "grid_row": null,
       "grid_template_areas": null,
       "grid_template_columns": null,
       "grid_template_rows": null,
       "height": null,
       "justify_content": null,
       "justify_items": null,
       "left": null,
       "margin": null,
       "max_height": null,
       "max_width": null,
       "min_height": null,
       "min_width": null,
       "object_fit": null,
       "object_position": null,
       "order": null,
       "overflow": null,
       "overflow_x": null,
       "overflow_y": null,
       "padding": null,
       "right": null,
       "top": null,
       "visibility": null,
       "width": null
      }
     },
     "d15bcf2da4564ba3b6a586dde83e386b": {
      "model_module": "@jupyter-widgets/base",
      "model_module_version": "1.2.0",
      "model_name": "LayoutModel",
      "state": {
       "_model_module": "@jupyter-widgets/base",
       "_model_module_version": "1.2.0",
       "_model_name": "LayoutModel",
       "_view_count": null,
       "_view_module": "@jupyter-widgets/base",
       "_view_module_version": "1.2.0",
       "_view_name": "LayoutView",
       "align_content": null,
       "align_items": null,
       "align_self": null,
       "border": null,
       "bottom": null,
       "display": null,
       "flex": null,
       "flex_flow": null,
       "grid_area": null,
       "grid_auto_columns": null,
       "grid_auto_flow": null,
       "grid_auto_rows": null,
       "grid_column": null,
       "grid_gap": null,
       "grid_row": null,
       "grid_template_areas": null,
       "grid_template_columns": null,
       "grid_template_rows": null,
       "height": null,
       "justify_content": null,
       "justify_items": null,
       "left": null,
       "margin": null,
       "max_height": null,
       "max_width": null,
       "min_height": null,
       "min_width": null,
       "object_fit": null,
       "object_position": null,
       "order": null,
       "overflow": null,
       "overflow_x": null,
       "overflow_y": null,
       "padding": null,
       "right": null,
       "top": null,
       "visibility": null,
       "width": null
      }
     },
     "d2b3ed0ff19343a4a3dedfbf3e77062e": {
      "model_module": "@jupyter-widgets/base",
      "model_module_version": "1.2.0",
      "model_name": "LayoutModel",
      "state": {
       "_model_module": "@jupyter-widgets/base",
       "_model_module_version": "1.2.0",
       "_model_name": "LayoutModel",
       "_view_count": null,
       "_view_module": "@jupyter-widgets/base",
       "_view_module_version": "1.2.0",
       "_view_name": "LayoutView",
       "align_content": null,
       "align_items": null,
       "align_self": null,
       "border": null,
       "bottom": null,
       "display": null,
       "flex": null,
       "flex_flow": null,
       "grid_area": null,
       "grid_auto_columns": null,
       "grid_auto_flow": null,
       "grid_auto_rows": null,
       "grid_column": null,
       "grid_gap": null,
       "grid_row": null,
       "grid_template_areas": null,
       "grid_template_columns": null,
       "grid_template_rows": null,
       "height": null,
       "justify_content": null,
       "justify_items": null,
       "left": null,
       "margin": null,
       "max_height": null,
       "max_width": null,
       "min_height": null,
       "min_width": null,
       "object_fit": null,
       "object_position": null,
       "order": null,
       "overflow": null,
       "overflow_x": null,
       "overflow_y": null,
       "padding": null,
       "right": null,
       "top": null,
       "visibility": null,
       "width": null
      }
     },
     "d971a568b93743c6bf252d2e473afb4d": {
      "model_module": "@jupyter-widgets/base",
      "model_module_version": "1.2.0",
      "model_name": "LayoutModel",
      "state": {
       "_model_module": "@jupyter-widgets/base",
       "_model_module_version": "1.2.0",
       "_model_name": "LayoutModel",
       "_view_count": null,
       "_view_module": "@jupyter-widgets/base",
       "_view_module_version": "1.2.0",
       "_view_name": "LayoutView",
       "align_content": null,
       "align_items": null,
       "align_self": null,
       "border": null,
       "bottom": null,
       "display": null,
       "flex": null,
       "flex_flow": null,
       "grid_area": null,
       "grid_auto_columns": null,
       "grid_auto_flow": null,
       "grid_auto_rows": null,
       "grid_column": null,
       "grid_gap": null,
       "grid_row": null,
       "grid_template_areas": null,
       "grid_template_columns": null,
       "grid_template_rows": null,
       "height": null,
       "justify_content": null,
       "justify_items": null,
       "left": null,
       "margin": null,
       "max_height": null,
       "max_width": null,
       "min_height": null,
       "min_width": null,
       "object_fit": null,
       "object_position": null,
       "order": null,
       "overflow": null,
       "overflow_x": null,
       "overflow_y": null,
       "padding": null,
       "right": null,
       "top": null,
       "visibility": null,
       "width": null
      }
     },
     "eb0bc77a0bd04293b609ff5652cf154a": {
      "model_module": "@jupyter-widgets/controls",
      "model_module_version": "1.5.0",
      "model_name": "HTMLModel",
      "state": {
       "_dom_classes": [],
       "_model_module": "@jupyter-widgets/controls",
       "_model_module_version": "1.5.0",
       "_model_name": "HTMLModel",
       "_view_count": null,
       "_view_module": "@jupyter-widgets/controls",
       "_view_module_version": "1.5.0",
       "_view_name": "HTMLView",
       "description": "",
       "description_tooltip": null,
       "layout": "IPY_MODEL_d2b3ed0ff19343a4a3dedfbf3e77062e",
       "placeholder": "​",
       "style": "IPY_MODEL_91c90c7fe08041089a77756adba9a9c7",
       "value": "Epochs completed: 100%| "
      }
     }
    },
    "version_major": 2,
    "version_minor": 0
   }
  }
 },
 "nbformat": 4,
 "nbformat_minor": 5
}
