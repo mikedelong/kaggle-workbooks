{
 "cells": [
  {
   "cell_type": "code",
   "execution_count": 1,
   "id": "fcf8d3e3",
   "metadata": {
    "_cell_guid": "b1076dfc-b9ad-4769-8c92-a6c4dae69d19",
    "_uuid": "8f2839f25d086af736a60e9eeb907d3b93b6e0e5",
    "execution": {
     "iopub.execute_input": "2023-07-24T14:58:46.306975Z",
     "iopub.status.busy": "2023-07-24T14:58:46.306238Z",
     "iopub.status.idle": "2023-07-24T14:58:46.324810Z",
     "shell.execute_reply": "2023-07-24T14:58:46.324062Z"
    },
    "papermill": {
     "duration": 0.028695,
     "end_time": "2023-07-24T14:58:46.327165",
     "exception": false,
     "start_time": "2023-07-24T14:58:46.298470",
     "status": "completed"
    },
    "tags": []
   },
   "outputs": [
    {
     "name": "stdout",
     "output_type": "stream",
     "text": [
      "/kaggle/input/top-youtube-news-media-statistics/Mainstream Media Statistics.csv\n",
      "/kaggle/input/top-youtube-news-media-statistics/_Top50_viewed_video_from_each_channels.csv\n"
     ]
    }
   ],
   "source": [
    "import pandas as pd # data processing, CSV file I/O (e.g. pd.read_csv)\n",
    "import os\n",
    "for dirname, _, filenames in os.walk('/kaggle/input'):\n",
    "    for filename in filenames:\n",
    "        print(os.path.join(dirname, filename))\n"
   ]
  },
  {
   "cell_type": "code",
   "execution_count": 2,
   "id": "54f4b92c",
   "metadata": {
    "execution": {
     "iopub.execute_input": "2023-07-24T14:58:46.340132Z",
     "iopub.status.busy": "2023-07-24T14:58:46.339445Z",
     "iopub.status.idle": "2023-07-24T14:58:46.480465Z",
     "shell.execute_reply": "2023-07-24T14:58:46.479700Z"
    },
    "papermill": {
     "duration": 0.149798,
     "end_time": "2023-07-24T14:58:46.482590",
     "exception": false,
     "start_time": "2023-07-24T14:58:46.332792",
     "status": "completed"
    },
    "tags": []
   },
   "outputs": [
    {
     "data": {
      "text/html": [
       "<div>\n",
       "<style scoped>\n",
       "    .dataframe tbody tr th:only-of-type {\n",
       "        vertical-align: middle;\n",
       "    }\n",
       "\n",
       "    .dataframe tbody tr th {\n",
       "        vertical-align: top;\n",
       "    }\n",
       "\n",
       "    .dataframe thead th {\n",
       "        text-align: right;\n",
       "    }\n",
       "</style>\n",
       "<table border=\"1\" class=\"dataframe\">\n",
       "  <thead>\n",
       "    <tr style=\"text-align: right;\">\n",
       "      <th></th>\n",
       "      <th>Video Id</th>\n",
       "      <th>channelTitle</th>\n",
       "      <th>title</th>\n",
       "      <th>publishedAt</th>\n",
       "      <th>categoryId</th>\n",
       "      <th>description</th>\n",
       "      <th>viewCount</th>\n",
       "      <th>likeCount</th>\n",
       "      <th>commentCount</th>\n",
       "      <th>duration</th>\n",
       "    </tr>\n",
       "  </thead>\n",
       "  <tbody>\n",
       "    <tr>\n",
       "      <th>1400</th>\n",
       "      <td>spPo80dPUwI</td>\n",
       "      <td>USA TODAY</td>\n",
       "      <td>Heroic mom saves terrified five-year-old from ...</td>\n",
       "      <td>2022-12-05T17:28:31Z</td>\n",
       "      <td>25</td>\n",
       "      <td>A mother came to her five-year-old daughter's ...</td>\n",
       "      <td>347180823.0</td>\n",
       "      <td>10370485.0</td>\n",
       "      <td>269937.0</td>\n",
       "      <td>PT41S</td>\n",
       "    </tr>\n",
       "    <tr>\n",
       "      <th>1900</th>\n",
       "      <td>NxRGRFKBVLg</td>\n",
       "      <td>On Demand News</td>\n",
       "      <td>Fans Catch CAT Plummeting from Stadium</td>\n",
       "      <td>2021-09-13T15:02:56Z</td>\n",
       "      <td>25</td>\n",
       "      <td>'Fans Catch CAT Plummeting from Stadium'\\n\\nFa...</td>\n",
       "      <td>121244026.0</td>\n",
       "      <td>6269691.0</td>\n",
       "      <td>95053.0</td>\n",
       "      <td>PT44S</td>\n",
       "    </tr>\n",
       "    <tr>\n",
       "      <th>1401</th>\n",
       "      <td>KDo8n_7_2YI</td>\n",
       "      <td>USA TODAY</td>\n",
       "      <td>Brave woman fights off male attacker while alo...</td>\n",
       "      <td>2023-02-17T13:28:54Z</td>\n",
       "      <td>25</td>\n",
       "      <td>A 24-year-old woman successfully fought off a ...</td>\n",
       "      <td>112886052.0</td>\n",
       "      <td>4248640.0</td>\n",
       "      <td>92533.0</td>\n",
       "      <td>PT37S</td>\n",
       "    </tr>\n",
       "    <tr>\n",
       "      <th>1402</th>\n",
       "      <td>_Gtm2j2gb6w</td>\n",
       "      <td>USA TODAY</td>\n",
       "      <td>Hurricane Fiona devastates Puerto Rico, intens...</td>\n",
       "      <td>2022-09-22T17:29:38Z</td>\n",
       "      <td>25</td>\n",
       "      <td>Hurricane Fiona flooded Puerto Rico with 6 to ...</td>\n",
       "      <td>97966113.0</td>\n",
       "      <td>1504843.0</td>\n",
       "      <td>7100.0</td>\n",
       "      <td>PT42S</td>\n",
       "    </tr>\n",
       "    <tr>\n",
       "      <th>650</th>\n",
       "      <td>or_MDJnmihc</td>\n",
       "      <td>CBS News</td>\n",
       "      <td>Defendant collapses in court after guilty verdict</td>\n",
       "      <td>2017-11-14T17:36:13Z</td>\n",
       "      <td>25</td>\n",
       "      <td>Diana Lovejoy collapsed in a California courtr...</td>\n",
       "      <td>75970739.0</td>\n",
       "      <td>371733.0</td>\n",
       "      <td>79515.0</td>\n",
       "      <td>PT2M31S</td>\n",
       "    </tr>\n",
       "  </tbody>\n",
       "</table>\n",
       "</div>"
      ],
      "text/plain": [
       "         Video Id    channelTitle  \\\n",
       "1400  spPo80dPUwI       USA TODAY   \n",
       "1900  NxRGRFKBVLg  On Demand News   \n",
       "1401  KDo8n_7_2YI       USA TODAY   \n",
       "1402  _Gtm2j2gb6w       USA TODAY   \n",
       "650   or_MDJnmihc        CBS News   \n",
       "\n",
       "                                                  title           publishedAt  \\\n",
       "1400  Heroic mom saves terrified five-year-old from ...  2022-12-05T17:28:31Z   \n",
       "1900             Fans Catch CAT Plummeting from Stadium  2021-09-13T15:02:56Z   \n",
       "1401  Brave woman fights off male attacker while alo...  2023-02-17T13:28:54Z   \n",
       "1402  Hurricane Fiona devastates Puerto Rico, intens...  2022-09-22T17:29:38Z   \n",
       "650   Defendant collapses in court after guilty verdict  2017-11-14T17:36:13Z   \n",
       "\n",
       "      categoryId                                        description  \\\n",
       "1400          25  A mother came to her five-year-old daughter's ...   \n",
       "1900          25  'Fans Catch CAT Plummeting from Stadium'\\n\\nFa...   \n",
       "1401          25  A 24-year-old woman successfully fought off a ...   \n",
       "1402          25  Hurricane Fiona flooded Puerto Rico with 6 to ...   \n",
       "650           25  Diana Lovejoy collapsed in a California courtr...   \n",
       "\n",
       "        viewCount   likeCount  commentCount duration  \n",
       "1400  347180823.0  10370485.0      269937.0    PT41S  \n",
       "1900  121244026.0   6269691.0       95053.0    PT44S  \n",
       "1401  112886052.0   4248640.0       92533.0    PT37S  \n",
       "1402   97966113.0   1504843.0        7100.0    PT42S  \n",
       "650    75970739.0    371733.0       79515.0  PT2M31S  "
      ]
     },
     "execution_count": 2,
     "metadata": {},
     "output_type": "execute_result"
    }
   ],
   "source": [
    "videos_df = pd.read_csv(filepath_or_buffer='../input/top-youtube-news-media-statistics/_Top50_viewed_video_from_each_channels.csv', index_col=[0])\n",
    "videos_df.head()"
   ]
  },
  {
   "cell_type": "code",
   "execution_count": 3,
   "id": "18e6c10b",
   "metadata": {
    "execution": {
     "iopub.execute_input": "2023-07-24T14:58:46.496192Z",
     "iopub.status.busy": "2023-07-24T14:58:46.495485Z",
     "iopub.status.idle": "2023-07-24T14:58:46.807308Z",
     "shell.execute_reply": "2023-07-24T14:58:46.805807Z"
    },
    "papermill": {
     "duration": 0.321216,
     "end_time": "2023-07-24T14:58:46.809682",
     "exception": false,
     "start_time": "2023-07-24T14:58:46.488466",
     "status": "completed"
    },
    "tags": []
   },
   "outputs": [
    {
     "data": {
      "text/plain": [
       "<Axes: ylabel='categoryId'>"
      ]
     },
     "execution_count": 3,
     "metadata": {},
     "output_type": "execute_result"
    },
    {
     "data": {
      "image/png": "[encoded data removed]",
      "text/plain": [
       "<Figure size 640x480 with 1 Axes>"
      ]
     },
     "metadata": {},
     "output_type": "display_data"
    }
   ],
   "source": [
    "videos_df['categoryId'].value_counts().plot(kind='pie')"
   ]
  },
  {
   "cell_type": "code",
   "execution_count": null,
   "id": "d47df06e",
   "metadata": {
    "papermill": {
     "duration": 0.006113,
     "end_time": "2023-07-24T14:58:46.822322",
     "exception": false,
     "start_time": "2023-07-24T14:58:46.816209",
     "status": "completed"
    },
    "tags": []
   },
   "outputs": [],
   "source": []
  },
  {
   "cell_type": "code",
   "execution_count": 4,
   "id": "4d044bcc",
   "metadata": {
    "execution": {
     "iopub.execute_input": "2023-07-24T14:58:46.838432Z",
     "iopub.status.busy": "2023-07-24T14:58:46.836858Z",
     "iopub.status.idle": "2023-07-24T14:58:46.862725Z",
     "shell.execute_reply": "2023-07-24T14:58:46.861942Z"
    },
    "papermill": {
     "duration": 0.035995,
     "end_time": "2023-07-24T14:58:46.864774",
     "exception": false,
     "start_time": "2023-07-24T14:58:46.828779",
     "status": "completed"
    },
    "tags": []
   },
   "outputs": [
    {
     "data": {
      "text/html": [
       "<div>\n",
       "<style scoped>\n",
       "    .dataframe tbody tr th:only-of-type {\n",
       "        vertical-align: middle;\n",
       "    }\n",
       "\n",
       "    .dataframe tbody tr th {\n",
       "        vertical-align: top;\n",
       "    }\n",
       "\n",
       "    .dataframe thead th {\n",
       "        text-align: right;\n",
       "    }\n",
       "</style>\n",
       "<table border=\"1\" class=\"dataframe\">\n",
       "  <thead>\n",
       "    <tr style=\"text-align: right;\">\n",
       "      <th></th>\n",
       "      <th>channelName</th>\n",
       "      <th>id</th>\n",
       "      <th>subscribers</th>\n",
       "      <th>total views</th>\n",
       "      <th>total videos</th>\n",
       "      <th>created date</th>\n",
       "      <th>description</th>\n",
       "      <th>playlistId</th>\n",
       "    </tr>\n",
       "  </thead>\n",
       "  <tbody>\n",
       "    <tr>\n",
       "      <th>0</th>\n",
       "      <td>Fox News</td>\n",
       "      <td>UCXIJgqnII2ZOINSWNOGFThA</td>\n",
       "      <td>10500000</td>\n",
       "      <td>14839464315</td>\n",
       "      <td>93767</td>\n",
       "      <td>2006-09-19T01:48:52Z</td>\n",
       "      <td>FOX News Channel (FNC) is a 24-hour all-encomp...</td>\n",
       "      <td>UUXIJgqnII2ZOINSWNOGFThA</td>\n",
       "    </tr>\n",
       "    <tr>\n",
       "      <th>1</th>\n",
       "      <td>Al Jazeera English</td>\n",
       "      <td>UCNye-wNBqNL5ZzHSJj3l8Bg</td>\n",
       "      <td>10500000</td>\n",
       "      <td>3343817389</td>\n",
       "      <td>105487</td>\n",
       "      <td>2006-11-23T14:12:43Z</td>\n",
       "      <td>#AlJazeeraEnglish, we focus on people and even...</td>\n",
       "      <td>UUNye-wNBqNL5ZzHSJj3l8Bg</td>\n",
       "    </tr>\n",
       "    <tr>\n",
       "      <th>2</th>\n",
       "      <td>Vox</td>\n",
       "      <td>UCLXo7UDZvByw2ixzpQCufnA</td>\n",
       "      <td>11400000</td>\n",
       "      <td>3260217205</td>\n",
       "      <td>1593</td>\n",
       "      <td>2014-03-04T20:30:22Z</td>\n",
       "      <td>Vox helps you understand our world.\\n\\nVox vid...</td>\n",
       "      <td>UULXo7UDZvByw2ixzpQCufnA</td>\n",
       "    </tr>\n",
       "    <tr>\n",
       "      <th>3</th>\n",
       "      <td>Good Morning Britain</td>\n",
       "      <td>UCq18eeL7D9Vd8DhjMcLh9QQ</td>\n",
       "      <td>1200000</td>\n",
       "      <td>1048952422</td>\n",
       "      <td>11212</td>\n",
       "      <td>2014-08-18T09:23:49Z</td>\n",
       "      <td>The Good Morning Britain YouTube channel deliv...</td>\n",
       "      <td>UUq18eeL7D9Vd8DhjMcLh9QQ</td>\n",
       "    </tr>\n",
       "    <tr>\n",
       "      <th>4</th>\n",
       "      <td>E! News</td>\n",
       "      <td>UCjDsbbzHgTrGc4Ff26TJtsA</td>\n",
       "      <td>1220000</td>\n",
       "      <td>515416062</td>\n",
       "      <td>12501</td>\n",
       "      <td>2005-10-25T11:21:48Z</td>\n",
       "      <td>E! News is your go-to source for breaking cele...</td>\n",
       "      <td>UUjDsbbzHgTrGc4Ff26TJtsA</td>\n",
       "    </tr>\n",
       "  </tbody>\n",
       "</table>\n",
       "</div>"
      ],
      "text/plain": [
       "            channelName                        id  subscribers  total views  \\\n",
       "0              Fox News  UCXIJgqnII2ZOINSWNOGFThA     10500000  14839464315   \n",
       "1    Al Jazeera English  UCNye-wNBqNL5ZzHSJj3l8Bg     10500000   3343817389   \n",
       "2                   Vox  UCLXo7UDZvByw2ixzpQCufnA     11400000   3260217205   \n",
       "3  Good Morning Britain  UCq18eeL7D9Vd8DhjMcLh9QQ      1200000   1048952422   \n",
       "4               E! News  UCjDsbbzHgTrGc4Ff26TJtsA      1220000    515416062   \n",
       "\n",
       "   total videos          created date  \\\n",
       "0         93767  2006-09-19T01:48:52Z   \n",
       "1        105487  2006-11-23T14:12:43Z   \n",
       "2          1593  2014-03-04T20:30:22Z   \n",
       "3         11212  2014-08-18T09:23:49Z   \n",
       "4         12501  2005-10-25T11:21:48Z   \n",
       "\n",
       "                                         description                playlistId  \n",
       "0  FOX News Channel (FNC) is a 24-hour all-encomp...  UUXIJgqnII2ZOINSWNOGFThA  \n",
       "1  #AlJazeeraEnglish, we focus on people and even...  UUNye-wNBqNL5ZzHSJj3l8Bg  \n",
       "2  Vox helps you understand our world.\\n\\nVox vid...  UULXo7UDZvByw2ixzpQCufnA  \n",
       "3  The Good Morning Britain YouTube channel deliv...  UUq18eeL7D9Vd8DhjMcLh9QQ  \n",
       "4  E! News is your go-to source for breaking cele...  UUjDsbbzHgTrGc4Ff26TJtsA  "
      ]
     },
     "execution_count": 4,
     "metadata": {},
     "output_type": "execute_result"
    }
   ],
   "source": [
    "df = pd.read_csv('../input/top-youtube-news-media-statistics/Mainstream Media Statistics.csv', index_col=[0])\n",
    "df.head()"
   ]
  },
  {
   "cell_type": "code",
   "execution_count": 5,
   "id": "6838ee9d",
   "metadata": {
    "execution": {
     "iopub.execute_input": "2023-07-24T14:58:46.880477Z",
     "iopub.status.busy": "2023-07-24T14:58:46.879761Z",
     "iopub.status.idle": "2023-07-24T14:58:46.885369Z",
     "shell.execute_reply": "2023-07-24T14:58:46.884629Z"
    },
    "papermill": {
     "duration": 0.015773,
     "end_time": "2023-07-24T14:58:46.887341",
     "exception": false,
     "start_time": "2023-07-24T14:58:46.871568",
     "status": "completed"
    },
    "tags": []
   },
   "outputs": [
    {
     "data": {
      "text/plain": [
       "(43, 8)"
      ]
     },
     "execution_count": 5,
     "metadata": {},
     "output_type": "execute_result"
    }
   ],
   "source": [
    "df.shape"
   ]
  },
  {
   "cell_type": "code",
   "execution_count": 6,
   "id": "f2595743",
   "metadata": {
    "execution": {
     "iopub.execute_input": "2023-07-24T14:58:46.902859Z",
     "iopub.status.busy": "2023-07-24T14:58:46.902280Z",
     "iopub.status.idle": "2023-07-24T14:58:48.881459Z",
     "shell.execute_reply": "2023-07-24T14:58:48.880314Z"
    },
    "papermill": {
     "duration": 1.989665,
     "end_time": "2023-07-24T14:58:48.883881",
     "exception": false,
     "start_time": "2023-07-24T14:58:46.894216",
     "status": "completed"
    },
    "tags": []
   },
   "outputs": [
    {
     "name": "stderr",
     "output_type": "stream",
     "text": [
      "/opt/conda/lib/python3.10/site-packages/scipy/__init__.py:146: UserWarning: A NumPy version >=1.16.5 and <1.23.0 is required for this version of SciPy (detected version 1.23.5\n",
      "  warnings.warn(f\"A NumPy version >={np_minversion} and <{np_maxversion}\"\n",
      "/opt/conda/lib/python3.10/site-packages/seaborn/axisgrid.py:118: UserWarning: The figure layout has changed to tight\n",
      "  self._figure.tight_layout(*args, **kwargs)\n"
     ]
    },
    {
     "data": {
      "text/plain": [
       "<seaborn.axisgrid.FacetGrid at 0x7904d9186710>"
      ]
     },
     "execution_count": 6,
     "metadata": {},
     "output_type": "execute_result"
    },
    {
     "data": {
      "image/png": "[encoded data removed]",
      "text/plain": [
       "<Figure size 500x500 with 1 Axes>"
      ]
     },
     "metadata": {},
     "output_type": "display_data"
    }
   ],
   "source": [
    "from seaborn import lmplot\n",
    "lmplot(data=df, x='subscribers', y='total views')"
   ]
  },
  {
   "cell_type": "code",
   "execution_count": 7,
   "id": "8a1a1f21",
   "metadata": {
    "execution": {
     "iopub.execute_input": "2023-07-24T14:58:48.902180Z",
     "iopub.status.busy": "2023-07-24T14:58:48.901446Z",
     "iopub.status.idle": "2023-07-24T14:58:49.221874Z",
     "shell.execute_reply": "2023-07-24T14:58:49.220741Z"
    },
    "papermill": {
     "duration": 0.332465,
     "end_time": "2023-07-24T14:58:49.224318",
     "exception": false,
     "start_time": "2023-07-24T14:58:48.891853",
     "status": "completed"
    },
    "tags": []
   },
   "outputs": [
    {
     "data": {
      "text/plain": [
       "<Axes: xlabel='viewCount', ylabel='likeCount'>"
      ]
     },
     "execution_count": 7,
     "metadata": {},
     "output_type": "execute_result"
    },
    {
     "data": {
      "image/png": "[encoded data removed]",
      "text/plain": [
       "<Figure size 640x480 with 1 Axes>"
      ]
     },
     "metadata": {},
     "output_type": "display_data"
    }
   ],
   "source": [
    "from seaborn import scatterplot\n",
    "scatterplot(data=videos_df, x='viewCount', y='likeCount')"
   ]
  },
  {
   "cell_type": "code",
   "execution_count": 8,
   "id": "745b69b1",
   "metadata": {
    "execution": {
     "iopub.execute_input": "2023-07-24T14:58:49.242874Z",
     "iopub.status.busy": "2023-07-24T14:58:49.242432Z",
     "iopub.status.idle": "2023-07-24T14:58:49.262935Z",
     "shell.execute_reply": "2023-07-24T14:58:49.261789Z"
    },
    "papermill": {
     "duration": 0.032258,
     "end_time": "2023-07-24T14:58:49.265122",
     "exception": false,
     "start_time": "2023-07-24T14:58:49.232864",
     "status": "completed"
    },
    "tags": []
   },
   "outputs": [
    {
     "data": {
      "text/html": [
       "<div>\n",
       "<style scoped>\n",
       "    .dataframe tbody tr th:only-of-type {\n",
       "        vertical-align: middle;\n",
       "    }\n",
       "\n",
       "    .dataframe tbody tr th {\n",
       "        vertical-align: top;\n",
       "    }\n",
       "\n",
       "    .dataframe thead th {\n",
       "        text-align: right;\n",
       "    }\n",
       "</style>\n",
       "<table border=\"1\" class=\"dataframe\">\n",
       "  <thead>\n",
       "    <tr style=\"text-align: right;\">\n",
       "      <th></th>\n",
       "      <th>Video Id</th>\n",
       "      <th>channelTitle</th>\n",
       "      <th>title</th>\n",
       "      <th>publishedAt</th>\n",
       "      <th>categoryId</th>\n",
       "      <th>description</th>\n",
       "      <th>viewCount</th>\n",
       "      <th>likeCount</th>\n",
       "      <th>commentCount</th>\n",
       "      <th>duration</th>\n",
       "    </tr>\n",
       "  </thead>\n",
       "  <tbody>\n",
       "    <tr>\n",
       "      <th>1400</th>\n",
       "      <td>spPo80dPUwI</td>\n",
       "      <td>USA TODAY</td>\n",
       "      <td>Heroic mom saves terrified five-year-old from ...</td>\n",
       "      <td>2022-12-05T17:28:31Z</td>\n",
       "      <td>25</td>\n",
       "      <td>A mother came to her five-year-old daughter's ...</td>\n",
       "      <td>347180823.0</td>\n",
       "      <td>10370485.0</td>\n",
       "      <td>269937.0</td>\n",
       "      <td>PT41S</td>\n",
       "    </tr>\n",
       "    <tr>\n",
       "      <th>1900</th>\n",
       "      <td>NxRGRFKBVLg</td>\n",
       "      <td>On Demand News</td>\n",
       "      <td>Fans Catch CAT Plummeting from Stadium</td>\n",
       "      <td>2021-09-13T15:02:56Z</td>\n",
       "      <td>25</td>\n",
       "      <td>'Fans Catch CAT Plummeting from Stadium'\\n\\nFa...</td>\n",
       "      <td>121244026.0</td>\n",
       "      <td>6269691.0</td>\n",
       "      <td>95053.0</td>\n",
       "      <td>PT44S</td>\n",
       "    </tr>\n",
       "  </tbody>\n",
       "</table>\n",
       "</div>"
      ],
      "text/plain": [
       "         Video Id    channelTitle  \\\n",
       "1400  spPo80dPUwI       USA TODAY   \n",
       "1900  NxRGRFKBVLg  On Demand News   \n",
       "\n",
       "                                                  title           publishedAt  \\\n",
       "1400  Heroic mom saves terrified five-year-old from ...  2022-12-05T17:28:31Z   \n",
       "1900             Fans Catch CAT Plummeting from Stadium  2021-09-13T15:02:56Z   \n",
       "\n",
       "      categoryId                                        description  \\\n",
       "1400          25  A mother came to her five-year-old daughter's ...   \n",
       "1900          25  'Fans Catch CAT Plummeting from Stadium'\\n\\nFa...   \n",
       "\n",
       "        viewCount   likeCount  commentCount duration  \n",
       "1400  347180823.0  10370485.0      269937.0    PT41S  \n",
       "1900  121244026.0   6269691.0       95053.0    PT44S  "
      ]
     },
     "execution_count": 8,
     "metadata": {},
     "output_type": "execute_result"
    }
   ],
   "source": [
    "# what's that outlier?\n",
    "videos_df.sort_values(by='likeCount', ascending=False).head(n=2)"
   ]
  },
  {
   "cell_type": "code",
   "execution_count": 9,
   "id": "b2020777",
   "metadata": {
    "execution": {
     "iopub.execute_input": "2023-07-24T14:58:49.286066Z",
     "iopub.status.busy": "2023-07-24T14:58:49.284892Z",
     "iopub.status.idle": "2023-07-24T14:58:49.607437Z",
     "shell.execute_reply": "2023-07-24T14:58:49.606268Z"
    },
    "papermill": {
     "duration": 0.335932,
     "end_time": "2023-07-24T14:58:49.609699",
     "exception": false,
     "start_time": "2023-07-24T14:58:49.273767",
     "status": "completed"
    },
    "tags": []
   },
   "outputs": [
    {
     "data": {
      "text/plain": [
       "<Axes: xlabel='viewCount', ylabel='commentCount'>"
      ]
     },
     "execution_count": 9,
     "metadata": {},
     "output_type": "execute_result"
    },
    {
     "data": {
      "image/png": "[encoded data removed]",
      "text/plain": [
       "<Figure size 640x480 with 1 Axes>"
      ]
     },
     "metadata": {},
     "output_type": "display_data"
    }
   ],
   "source": [
    "scatterplot(data=videos_df, x='viewCount', y='commentCount')"
   ]
  },
  {
   "cell_type": "code",
   "execution_count": 10,
   "id": "16a30395",
   "metadata": {
    "execution": {
     "iopub.execute_input": "2023-07-24T14:58:49.630358Z",
     "iopub.status.busy": "2023-07-24T14:58:49.629196Z",
     "iopub.status.idle": "2023-07-24T14:58:49.645510Z",
     "shell.execute_reply": "2023-07-24T14:58:49.644492Z"
    },
    "papermill": {
     "duration": 0.029028,
     "end_time": "2023-07-24T14:58:49.647966",
     "exception": false,
     "start_time": "2023-07-24T14:58:49.618938",
     "status": "completed"
    },
    "tags": []
   },
   "outputs": [
    {
     "data": {
      "text/html": [
       "<div>\n",
       "<style scoped>\n",
       "    .dataframe tbody tr th:only-of-type {\n",
       "        vertical-align: middle;\n",
       "    }\n",
       "\n",
       "    .dataframe tbody tr th {\n",
       "        vertical-align: top;\n",
       "    }\n",
       "\n",
       "    .dataframe thead th {\n",
       "        text-align: right;\n",
       "    }\n",
       "</style>\n",
       "<table border=\"1\" class=\"dataframe\">\n",
       "  <thead>\n",
       "    <tr style=\"text-align: right;\">\n",
       "      <th></th>\n",
       "      <th>Video Id</th>\n",
       "      <th>channelTitle</th>\n",
       "      <th>title</th>\n",
       "      <th>publishedAt</th>\n",
       "      <th>categoryId</th>\n",
       "      <th>description</th>\n",
       "      <th>viewCount</th>\n",
       "      <th>likeCount</th>\n",
       "      <th>commentCount</th>\n",
       "      <th>duration</th>\n",
       "    </tr>\n",
       "  </thead>\n",
       "  <tbody>\n",
       "    <tr>\n",
       "      <th>1400</th>\n",
       "      <td>spPo80dPUwI</td>\n",
       "      <td>USA TODAY</td>\n",
       "      <td>Heroic mom saves terrified five-year-old from ...</td>\n",
       "      <td>2022-12-05T17:28:31Z</td>\n",
       "      <td>25</td>\n",
       "      <td>A mother came to her five-year-old daughter's ...</td>\n",
       "      <td>347180823.0</td>\n",
       "      <td>10370485.0</td>\n",
       "      <td>269937.0</td>\n",
       "      <td>PT41S</td>\n",
       "    </tr>\n",
       "    <tr>\n",
       "      <th>1451</th>\n",
       "      <td>aMcjxSThD54</td>\n",
       "      <td>Channel 4 News</td>\n",
       "      <td>Jordan Peterson debate on the gender pay gap, ...</td>\n",
       "      <td>2018-01-16T17:13:07Z</td>\n",
       "      <td>25</td>\n",
       "      <td>Channel 4 News’ full, fiery interview with cli...</td>\n",
       "      <td>45279588.0</td>\n",
       "      <td>834498.0</td>\n",
       "      <td>232517.0</td>\n",
       "      <td>PT29M56S</td>\n",
       "    </tr>\n",
       "  </tbody>\n",
       "</table>\n",
       "</div>"
      ],
      "text/plain": [
       "         Video Id    channelTitle  \\\n",
       "1400  spPo80dPUwI       USA TODAY   \n",
       "1451  aMcjxSThD54  Channel 4 News   \n",
       "\n",
       "                                                  title           publishedAt  \\\n",
       "1400  Heroic mom saves terrified five-year-old from ...  2022-12-05T17:28:31Z   \n",
       "1451  Jordan Peterson debate on the gender pay gap, ...  2018-01-16T17:13:07Z   \n",
       "\n",
       "      categoryId                                        description  \\\n",
       "1400          25  A mother came to her five-year-old daughter's ...   \n",
       "1451          25  Channel 4 News’ full, fiery interview with cli...   \n",
       "\n",
       "        viewCount   likeCount  commentCount  duration  \n",
       "1400  347180823.0  10370485.0      269937.0     PT41S  \n",
       "1451   45279588.0    834498.0      232517.0  PT29M56S  "
      ]
     },
     "execution_count": 10,
     "metadata": {},
     "output_type": "execute_result"
    }
   ],
   "source": [
    "# what are those comment outliers?\n",
    "videos_df.sort_values(by='commentCount', ascending=False).head(n=2)"
   ]
  },
  {
   "cell_type": "code",
   "execution_count": 11,
   "id": "e7307517",
   "metadata": {
    "execution": {
     "iopub.execute_input": "2023-07-24T14:58:49.670103Z",
     "iopub.status.busy": "2023-07-24T14:58:49.669672Z",
     "iopub.status.idle": "2023-07-24T14:58:49.975979Z",
     "shell.execute_reply": "2023-07-24T14:58:49.974866Z"
    },
    "papermill": {
     "duration": 0.320698,
     "end_time": "2023-07-24T14:58:49.978452",
     "exception": false,
     "start_time": "2023-07-24T14:58:49.657754",
     "status": "completed"
    },
    "tags": []
   },
   "outputs": [
    {
     "data": {
      "text/plain": [
       "<Axes: >"
      ]
     },
     "execution_count": 11,
     "metadata": {},
     "output_type": "execute_result"
    },
    {
     "data": {
      "image/png": "[encoded data removed]",
      "text/plain": [
       "<Figure size 640x480 with 1 Axes>"
      ]
     },
     "metadata": {},
     "output_type": "display_data"
    }
   ],
   "source": [
    "videos_df['likes/view'] = videos_df['likeCount'] / videos_df['viewCount']\n",
    "videos_df.sort_values(by='likes/view').reset_index().plot(kind='line', y='likes/view')"
   ]
  },
  {
   "cell_type": "code",
   "execution_count": 12,
   "id": "57fa13ff",
   "metadata": {
    "execution": {
     "iopub.execute_input": "2023-07-24T14:58:50.001597Z",
     "iopub.status.busy": "2023-07-24T14:58:50.000648Z",
     "iopub.status.idle": "2023-07-24T14:58:50.021177Z",
     "shell.execute_reply": "2023-07-24T14:58:50.020078Z"
    },
    "papermill": {
     "duration": 0.034473,
     "end_time": "2023-07-24T14:58:50.023416",
     "exception": false,
     "start_time": "2023-07-24T14:58:49.988943",
     "status": "completed"
    },
    "tags": []
   },
   "outputs": [
    {
     "data": {
      "text/html": [
       "<div>\n",
       "<style scoped>\n",
       "    .dataframe tbody tr th:only-of-type {\n",
       "        vertical-align: middle;\n",
       "    }\n",
       "\n",
       "    .dataframe tbody tr th {\n",
       "        vertical-align: top;\n",
       "    }\n",
       "\n",
       "    .dataframe thead th {\n",
       "        text-align: right;\n",
       "    }\n",
       "</style>\n",
       "<table border=\"1\" class=\"dataframe\">\n",
       "  <thead>\n",
       "    <tr style=\"text-align: right;\">\n",
       "      <th></th>\n",
       "      <th>Video Id</th>\n",
       "      <th>channelTitle</th>\n",
       "      <th>title</th>\n",
       "      <th>publishedAt</th>\n",
       "      <th>categoryId</th>\n",
       "      <th>description</th>\n",
       "      <th>viewCount</th>\n",
       "      <th>likeCount</th>\n",
       "      <th>commentCount</th>\n",
       "      <th>duration</th>\n",
       "      <th>likes/view</th>\n",
       "    </tr>\n",
       "  </thead>\n",
       "  <tbody>\n",
       "    <tr>\n",
       "      <th>1440</th>\n",
       "      <td>iV-QdPdq85c</td>\n",
       "      <td>USA TODAY</td>\n",
       "      <td>Labor doesn't stop this mom-to-be from receivi...</td>\n",
       "      <td>2023-05-15T18:50:58Z</td>\n",
       "      <td>25</td>\n",
       "      <td>A student was in labor during her college grad...</td>\n",
       "      <td>1942046.0</td>\n",
       "      <td>144575.0</td>\n",
       "      <td>914.0</td>\n",
       "      <td>PT40S</td>\n",
       "      <td>0.074445</td>\n",
       "    </tr>\n",
       "    <tr>\n",
       "      <th>1517</th>\n",
       "      <td>ZhJ-LAQ6e_Y</td>\n",
       "      <td>Washington Post</td>\n",
       "      <td>BTS' Speech at the United Nations (Full Speech...</td>\n",
       "      <td>2018-09-24T20:47:15Z</td>\n",
       "      <td>25</td>\n",
       "      <td>BTS (방탄소년단) became the first K-pop group to sp...</td>\n",
       "      <td>2507374.0</td>\n",
       "      <td>172971.0</td>\n",
       "      <td>8083.0</td>\n",
       "      <td>PT6M58S</td>\n",
       "      <td>0.068985</td>\n",
       "    </tr>\n",
       "  </tbody>\n",
       "</table>\n",
       "</div>"
      ],
      "text/plain": [
       "         Video Id     channelTitle  \\\n",
       "1440  iV-QdPdq85c        USA TODAY   \n",
       "1517  ZhJ-LAQ6e_Y  Washington Post   \n",
       "\n",
       "                                                  title           publishedAt  \\\n",
       "1440  Labor doesn't stop this mom-to-be from receivi...  2023-05-15T18:50:58Z   \n",
       "1517  BTS' Speech at the United Nations (Full Speech...  2018-09-24T20:47:15Z   \n",
       "\n",
       "      categoryId                                        description  \\\n",
       "1440          25  A student was in labor during her college grad...   \n",
       "1517          25  BTS (방탄소년단) became the first K-pop group to sp...   \n",
       "\n",
       "      viewCount  likeCount  commentCount duration  likes/view  \n",
       "1440  1942046.0   144575.0         914.0    PT40S    0.074445  \n",
       "1517  2507374.0   172971.0        8083.0  PT6M58S    0.068985  "
      ]
     },
     "execution_count": 12,
     "metadata": {},
     "output_type": "execute_result"
    }
   ],
   "source": [
    "# what are those like/view outliers?\n",
    "videos_df.sort_values(ascending=False, by='likes/view').head(n=2)"
   ]
  },
  {
   "cell_type": "code",
   "execution_count": 13,
   "id": "b628cb70",
   "metadata": {
    "execution": {
     "iopub.execute_input": "2023-07-24T14:58:50.047528Z",
     "iopub.status.busy": "2023-07-24T14:58:50.047127Z",
     "iopub.status.idle": "2023-07-24T14:58:50.364949Z",
     "shell.execute_reply": "2023-07-24T14:58:50.364096Z"
    },
    "papermill": {
     "duration": 0.332877,
     "end_time": "2023-07-24T14:58:50.367330",
     "exception": false,
     "start_time": "2023-07-24T14:58:50.034453",
     "status": "completed"
    },
    "tags": []
   },
   "outputs": [
    {
     "data": {
      "text/plain": [
       "<Axes: >"
      ]
     },
     "execution_count": 13,
     "metadata": {},
     "output_type": "execute_result"
    },
    {
     "data": {
      "image/png": "[encoded data removed]",
      "text/plain": [
       "<Figure size 640x480 with 1 Axes>"
      ]
     },
     "metadata": {},
     "output_type": "display_data"
    }
   ],
   "source": [
    "videos_df['comments/view'] = videos_df['commentCount'] / videos_df['viewCount']\n",
    "videos_df.sort_values(by='comments/view').reset_index().plot(kind='line', y='comments/view')"
   ]
  },
  {
   "cell_type": "code",
   "execution_count": 14,
   "id": "f2ebbf0a",
   "metadata": {
    "execution": {
     "iopub.execute_input": "2023-07-24T14:58:50.392073Z",
     "iopub.status.busy": "2023-07-24T14:58:50.391666Z",
     "iopub.status.idle": "2023-07-24T14:58:50.410688Z",
     "shell.execute_reply": "2023-07-24T14:58:50.409528Z"
    },
    "papermill": {
     "duration": 0.034298,
     "end_time": "2023-07-24T14:58:50.413006",
     "exception": false,
     "start_time": "2023-07-24T14:58:50.378708",
     "status": "completed"
    },
    "tags": []
   },
   "outputs": [
    {
     "data": {
      "text/html": [
       "<div>\n",
       "<style scoped>\n",
       "    .dataframe tbody tr th:only-of-type {\n",
       "        vertical-align: middle;\n",
       "    }\n",
       "\n",
       "    .dataframe tbody tr th {\n",
       "        vertical-align: top;\n",
       "    }\n",
       "\n",
       "    .dataframe thead th {\n",
       "        text-align: right;\n",
       "    }\n",
       "</style>\n",
       "<table border=\"1\" class=\"dataframe\">\n",
       "  <thead>\n",
       "    <tr style=\"text-align: right;\">\n",
       "      <th></th>\n",
       "      <th>Video Id</th>\n",
       "      <th>channelTitle</th>\n",
       "      <th>title</th>\n",
       "      <th>publishedAt</th>\n",
       "      <th>categoryId</th>\n",
       "      <th>description</th>\n",
       "      <th>viewCount</th>\n",
       "      <th>likeCount</th>\n",
       "      <th>commentCount</th>\n",
       "      <th>duration</th>\n",
       "      <th>likes/view</th>\n",
       "      <th>comments/view</th>\n",
       "    </tr>\n",
       "  </thead>\n",
       "  <tbody>\n",
       "    <tr>\n",
       "      <th>1581</th>\n",
       "      <td>cg7FXmMPhAQ</td>\n",
       "      <td>NowThis News</td>\n",
       "      <td>Animal Rights Activist Regan Russell Killed at...</td>\n",
       "      <td>2020-12-11T21:59:53Z</td>\n",
       "      <td>25</td>\n",
       "      <td>Activist Regan Russell was killed while trying...</td>\n",
       "      <td>1592729.0</td>\n",
       "      <td>27877.0</td>\n",
       "      <td>36901.0</td>\n",
       "      <td>PT15M58S</td>\n",
       "      <td>0.017503</td>\n",
       "      <td>0.023168</td>\n",
       "    </tr>\n",
       "    <tr>\n",
       "      <th>1306</th>\n",
       "      <td>V_KKuy5A9CA</td>\n",
       "      <td>euronews</td>\n",
       "      <td>Russian police break up Gay Pride protest in S...</td>\n",
       "      <td>2018-08-04T17:16:49Z</td>\n",
       "      <td>25</td>\n",
       "      <td>Russian police detained as many as 30 gay righ...</td>\n",
       "      <td>3054570.0</td>\n",
       "      <td>122807.0</td>\n",
       "      <td>61435.0</td>\n",
       "      <td>PT1M3S</td>\n",
       "      <td>0.040204</td>\n",
       "      <td>0.020112</td>\n",
       "    </tr>\n",
       "  </tbody>\n",
       "</table>\n",
       "</div>"
      ],
      "text/plain": [
       "         Video Id  channelTitle  \\\n",
       "1581  cg7FXmMPhAQ  NowThis News   \n",
       "1306  V_KKuy5A9CA      euronews   \n",
       "\n",
       "                                                  title           publishedAt  \\\n",
       "1581  Animal Rights Activist Regan Russell Killed at...  2020-12-11T21:59:53Z   \n",
       "1306  Russian police break up Gay Pride protest in S...  2018-08-04T17:16:49Z   \n",
       "\n",
       "      categoryId                                        description  \\\n",
       "1581          25  Activist Regan Russell was killed while trying...   \n",
       "1306          25  Russian police detained as many as 30 gay righ...   \n",
       "\n",
       "      viewCount  likeCount  commentCount  duration  likes/view  comments/view  \n",
       "1581  1592729.0    27877.0       36901.0  PT15M58S    0.017503       0.023168  \n",
       "1306  3054570.0   122807.0       61435.0    PT1M3S    0.040204       0.020112  "
      ]
     },
     "execution_count": 14,
     "metadata": {},
     "output_type": "execute_result"
    }
   ],
   "source": [
    "# what are those comment/view outliers?\n",
    "videos_df.sort_values(ascending=False, by='comments/view').head(n=2)"
   ]
  }
 ],
 "metadata": {
  "kernelspec": {
   "display_name": "Python 3",
   "language": "python",
   "name": "python3"
  },
  "language_info": {
   "codemirror_mode": {
    "name": "ipython",
    "version": 3
   },
   "file_extension": ".py",
   "mimetype": "text/x-python",
   "name": "python",
   "nbconvert_exporter": "python",
   "pygments_lexer": "ipython3",
   "version": "3.10.12"
  },
  "papermill": {
   "default_parameters": {},
   "duration": 15.780481,
   "end_time": "2023-07-24T14:58:51.346881",
   "environment_variables": {},
   "exception": null,
   "input_path": "__notebook__.ipynb",
   "output_path": "__notebook__.ipynb",
   "parameters": {},
   "start_time": "2023-07-24T14:58:35.566400",
   "version": "2.4.0"
  }
 },
 "nbformat": 4,
 "nbformat_minor": 5
}
