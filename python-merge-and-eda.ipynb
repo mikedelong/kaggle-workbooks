{
 "cells": [
  {
   "cell_type": "code",
   "execution_count": 1,
   "id": "2a57d209",
   "metadata": {
    "execution": {
     "iopub.execute_input": "2023-08-21T17:14:02.936155Z",
     "iopub.status.busy": "2023-08-21T17:14:02.935395Z",
     "iopub.status.idle": "2023-08-21T17:14:03.005871Z",
     "shell.execute_reply": "2023-08-21T17:14:03.003460Z"
    },
    "papermill": {
     "duration": 0.081886,
     "end_time": "2023-08-21T17:14:03.009494",
     "exception": false,
     "start_time": "2023-08-21T17:14:02.927608",
     "status": "completed"
    },
    "tags": []
   },
   "outputs": [
    {
     "name": "stdout",
     "output_type": "stream",
     "text": [
      "<class 'pandas.core.frame.DataFrame'>\n",
      "RangeIndex: 793 entries, 0 to 792\n",
      "Data columns (total 9 columns):\n",
      " #   Column         Non-Null Count  Dtype \n",
      "---  ------         --------------  ----- \n",
      " 0   Customer_ID    793 non-null    object\n",
      " 1   Customer_Name  793 non-null    object\n",
      " 2   Segment        793 non-null    object\n",
      " 3   Country        793 non-null    object\n",
      " 4   City           793 non-null    object\n",
      " 5   State          793 non-null    object\n",
      " 6   Postal_Code    793 non-null    int64 \n",
      " 7   Region         793 non-null    object\n",
      " 8   Age            793 non-null    int64 \n",
      "dtypes: int64(2), object(7)\n",
      "memory usage: 55.9+ KB\n"
     ]
    }
   ],
   "source": [
    "import pandas as pd\n",
    "customer_df = pd.read_csv(filepath_or_buffer='/kaggle/input/4-year-historical-sales-data/master_customer.csv')\n",
    "customer_df.info()"
   ]
  },
  {
   "cell_type": "code",
   "execution_count": 2,
   "id": "8931dfe7",
   "metadata": {
    "execution": {
     "iopub.execute_input": "2023-08-21T17:14:03.023739Z",
     "iopub.status.busy": "2023-08-21T17:14:03.023280Z",
     "iopub.status.idle": "2023-08-21T17:14:03.045302Z",
     "shell.execute_reply": "2023-08-21T17:14:03.044080Z"
    },
    "papermill": {
     "duration": 0.032408,
     "end_time": "2023-08-21T17:14:03.048128",
     "exception": false,
     "start_time": "2023-08-21T17:14:03.015720",
     "status": "completed"
    },
    "tags": []
   },
   "outputs": [
    {
     "data": {
      "text/html": [
       "<div>\n",
       "<style scoped>\n",
       "    .dataframe tbody tr th:only-of-type {\n",
       "        vertical-align: middle;\n",
       "    }\n",
       "\n",
       "    .dataframe tbody tr th {\n",
       "        vertical-align: top;\n",
       "    }\n",
       "\n",
       "    .dataframe thead th {\n",
       "        text-align: right;\n",
       "    }\n",
       "</style>\n",
       "<table border=\"1\" class=\"dataframe\">\n",
       "  <thead>\n",
       "    <tr style=\"text-align: right;\">\n",
       "      <th></th>\n",
       "      <th>Customer_ID</th>\n",
       "      <th>Customer_Name</th>\n",
       "      <th>Segment</th>\n",
       "      <th>Country</th>\n",
       "      <th>City</th>\n",
       "      <th>State</th>\n",
       "      <th>Postal_Code</th>\n",
       "      <th>Region</th>\n",
       "      <th>Age</th>\n",
       "    </tr>\n",
       "  </thead>\n",
       "  <tbody>\n",
       "    <tr>\n",
       "      <th>0</th>\n",
       "      <td>CG/12520</td>\n",
       "      <td>Claire Gute</td>\n",
       "      <td>Consumer</td>\n",
       "      <td>United States</td>\n",
       "      <td>Henderson</td>\n",
       "      <td>Kentucky</td>\n",
       "      <td>42420</td>\n",
       "      <td>South</td>\n",
       "      <td>42</td>\n",
       "    </tr>\n",
       "    <tr>\n",
       "      <th>1</th>\n",
       "      <td>DV/13045</td>\n",
       "      <td>Darrin Van Huff</td>\n",
       "      <td>Corporate</td>\n",
       "      <td>United States</td>\n",
       "      <td>Los Angeles</td>\n",
       "      <td>California</td>\n",
       "      <td>90036</td>\n",
       "      <td>West</td>\n",
       "      <td>47</td>\n",
       "    </tr>\n",
       "    <tr>\n",
       "      <th>2</th>\n",
       "      <td>SO/20335</td>\n",
       "      <td>Sean O'Donnell</td>\n",
       "      <td>Consumer</td>\n",
       "      <td>United States</td>\n",
       "      <td>Fort Lauderdale</td>\n",
       "      <td>Florida</td>\n",
       "      <td>33311</td>\n",
       "      <td>South</td>\n",
       "      <td>19</td>\n",
       "    </tr>\n",
       "    <tr>\n",
       "      <th>3</th>\n",
       "      <td>BH/11710</td>\n",
       "      <td>Brosina Hoffman</td>\n",
       "      <td>Consumer</td>\n",
       "      <td>United States</td>\n",
       "      <td>Los Angeles</td>\n",
       "      <td>California</td>\n",
       "      <td>90032</td>\n",
       "      <td>West</td>\n",
       "      <td>39</td>\n",
       "    </tr>\n",
       "    <tr>\n",
       "      <th>4</th>\n",
       "      <td>AA/10480</td>\n",
       "      <td>Andrew Allen</td>\n",
       "      <td>Consumer</td>\n",
       "      <td>United States</td>\n",
       "      <td>Concord</td>\n",
       "      <td>North Carolina</td>\n",
       "      <td>28027</td>\n",
       "      <td>South</td>\n",
       "      <td>31</td>\n",
       "    </tr>\n",
       "  </tbody>\n",
       "</table>\n",
       "</div>"
      ],
      "text/plain": [
       "  Customer_ID    Customer_Name    Segment        Country             City  \\\n",
       "0    CG/12520      Claire Gute   Consumer  United States        Henderson   \n",
       "1    DV/13045  Darrin Van Huff  Corporate  United States      Los Angeles   \n",
       "2    SO/20335   Sean O'Donnell   Consumer  United States  Fort Lauderdale   \n",
       "3    BH/11710  Brosina Hoffman   Consumer  United States      Los Angeles   \n",
       "4    AA/10480     Andrew Allen   Consumer  United States          Concord   \n",
       "\n",
       "            State  Postal_Code Region  Age  \n",
       "0        Kentucky        42420  South   42  \n",
       "1      California        90036   West   47  \n",
       "2         Florida        33311  South   19  \n",
       "3      California        90032   West   39  \n",
       "4  North Carolina        28027  South   31  "
      ]
     },
     "execution_count": 2,
     "metadata": {},
     "output_type": "execute_result"
    }
   ],
   "source": [
    "customer_df.head()"
   ]
  },
  {
   "cell_type": "code",
   "execution_count": 3,
   "id": "a3f51557",
   "metadata": {
    "execution": {
     "iopub.execute_input": "2023-08-21T17:14:03.061986Z",
     "iopub.status.busy": "2023-08-21T17:14:03.061571Z",
     "iopub.status.idle": "2023-08-21T17:14:03.091749Z",
     "shell.execute_reply": "2023-08-21T17:14:03.089912Z"
    },
    "papermill": {
     "duration": 0.040474,
     "end_time": "2023-08-21T17:14:03.094714",
     "exception": false,
     "start_time": "2023-08-21T17:14:03.054240",
     "status": "completed"
    },
    "tags": []
   },
   "outputs": [
    {
     "name": "stdout",
     "output_type": "stream",
     "text": [
      "<class 'pandas.core.frame.DataFrame'>\n",
      "RangeIndex: 1861 entries, 0 to 1860\n",
      "Data columns (total 4 columns):\n",
      " #   Column        Non-Null Count  Dtype \n",
      "---  ------        --------------  ----- \n",
      " 0   Product_ID    1861 non-null   object\n",
      " 1   Category      1861 non-null   object\n",
      " 2   Sub_Category  1861 non-null   object\n",
      " 3   Product_Name  1861 non-null   object\n",
      "dtypes: object(4)\n",
      "memory usage: 58.3+ KB\n"
     ]
    }
   ],
   "source": [
    "product_df = pd.read_csv(filepath_or_buffer='/kaggle/input/4-year-historical-sales-data/master_product.csv')\n",
    "product_df.info()"
   ]
  },
  {
   "cell_type": "code",
   "execution_count": 4,
   "id": "0ed88d52",
   "metadata": {
    "execution": {
     "iopub.execute_input": "2023-08-21T17:14:03.109002Z",
     "iopub.status.busy": "2023-08-21T17:14:03.108421Z",
     "iopub.status.idle": "2023-08-21T17:14:03.122418Z",
     "shell.execute_reply": "2023-08-21T17:14:03.121088Z"
    },
    "papermill": {
     "duration": 0.024431,
     "end_time": "2023-08-21T17:14:03.125554",
     "exception": false,
     "start_time": "2023-08-21T17:14:03.101123",
     "status": "completed"
    },
    "tags": []
   },
   "outputs": [
    {
     "data": {
      "text/html": [
       "<div>\n",
       "<style scoped>\n",
       "    .dataframe tbody tr th:only-of-type {\n",
       "        vertical-align: middle;\n",
       "    }\n",
       "\n",
       "    .dataframe tbody tr th {\n",
       "        vertical-align: top;\n",
       "    }\n",
       "\n",
       "    .dataframe thead th {\n",
       "        text-align: right;\n",
       "    }\n",
       "</style>\n",
       "<table border=\"1\" class=\"dataframe\">\n",
       "  <thead>\n",
       "    <tr style=\"text-align: right;\">\n",
       "      <th></th>\n",
       "      <th>Product_ID</th>\n",
       "      <th>Category</th>\n",
       "      <th>Sub_Category</th>\n",
       "      <th>Product_Name</th>\n",
       "    </tr>\n",
       "  </thead>\n",
       "  <tbody>\n",
       "    <tr>\n",
       "      <th>0</th>\n",
       "      <td>FUR-BO-10001798</td>\n",
       "      <td>Furniture</td>\n",
       "      <td>Bookcases</td>\n",
       "      <td>Bush Somerset Collection Bookcase</td>\n",
       "    </tr>\n",
       "    <tr>\n",
       "      <th>1</th>\n",
       "      <td>FUR-CH-10000454</td>\n",
       "      <td>Furniture</td>\n",
       "      <td>Chairs</td>\n",
       "      <td>Hon Deluxe Fabric Upholstered Stacking Chairs,...</td>\n",
       "    </tr>\n",
       "    <tr>\n",
       "      <th>2</th>\n",
       "      <td>OFF-LA-10000240</td>\n",
       "      <td>Office Supplies</td>\n",
       "      <td>Labels</td>\n",
       "      <td>Self-Adhesive Address Labels for Typewriters b...</td>\n",
       "    </tr>\n",
       "    <tr>\n",
       "      <th>3</th>\n",
       "      <td>FUR-TA-10000577</td>\n",
       "      <td>Furniture</td>\n",
       "      <td>Tables</td>\n",
       "      <td>Bretford CR4500 Series Slim Rectangular Table</td>\n",
       "    </tr>\n",
       "    <tr>\n",
       "      <th>4</th>\n",
       "      <td>OFF-ST-10000760</td>\n",
       "      <td>Office Supplies</td>\n",
       "      <td>Storage</td>\n",
       "      <td>Eldon Fold 'N Roll Cart System</td>\n",
       "    </tr>\n",
       "  </tbody>\n",
       "</table>\n",
       "</div>"
      ],
      "text/plain": [
       "        Product_ID         Category Sub_Category  \\\n",
       "0  FUR-BO-10001798        Furniture    Bookcases   \n",
       "1  FUR-CH-10000454        Furniture       Chairs   \n",
       "2  OFF-LA-10000240  Office Supplies       Labels   \n",
       "3  FUR-TA-10000577        Furniture       Tables   \n",
       "4  OFF-ST-10000760  Office Supplies      Storage   \n",
       "\n",
       "                                        Product_Name  \n",
       "0                  Bush Somerset Collection Bookcase  \n",
       "1  Hon Deluxe Fabric Upholstered Stacking Chairs,...  \n",
       "2  Self-Adhesive Address Labels for Typewriters b...  \n",
       "3      Bretford CR4500 Series Slim Rectangular Table  \n",
       "4                     Eldon Fold 'N Roll Cart System  "
      ]
     },
     "execution_count": 4,
     "metadata": {},
     "output_type": "execute_result"
    }
   ],
   "source": [
    "product_df.head()"
   ]
  },
  {
   "cell_type": "code",
   "execution_count": 5,
   "id": "f9377403",
   "metadata": {
    "execution": {
     "iopub.execute_input": "2023-08-21T17:14:03.141505Z",
     "iopub.status.busy": "2023-08-21T17:14:03.141017Z",
     "iopub.status.idle": "2023-08-21T17:14:03.226990Z",
     "shell.execute_reply": "2023-08-21T17:14:03.225428Z"
    },
    "papermill": {
     "duration": 0.098093,
     "end_time": "2023-08-21T17:14:03.230511",
     "exception": false,
     "start_time": "2023-08-21T17:14:03.132418",
     "status": "completed"
    },
    "tags": []
   },
   "outputs": [
    {
     "name": "stdout",
     "output_type": "stream",
     "text": [
      "<class 'pandas.core.frame.DataFrame'>\n",
      "RangeIndex: 9800 entries, 0 to 9799\n",
      "Data columns (total 9 columns):\n",
      " #   Column       Non-Null Count  Dtype         \n",
      "---  ------       --------------  -----         \n",
      " 0   Row_ID       9800 non-null   int64         \n",
      " 1   Order_ID     9800 non-null   object        \n",
      " 2   Order_Date   9800 non-null   datetime64[ns]\n",
      " 3   Ship_Date    9800 non-null   datetime64[ns]\n",
      " 4   Ship_Mode    9800 non-null   object        \n",
      " 5   Customer_ID  9800 non-null   object        \n",
      " 6   Product_ID   9800 non-null   object        \n",
      " 7   Sales        9770 non-null   float64       \n",
      " 8   Discount     9800 non-null   float64       \n",
      "dtypes: datetime64[ns](2), float64(2), int64(1), object(4)\n",
      "memory usage: 689.2+ KB\n"
     ]
    }
   ],
   "source": [
    "store_df = pd.read_csv(filepath_or_buffer='/kaggle/input/4-year-historical-sales-data/store_data.csv', parse_dates=['Order_Date', 'Ship_Date'])\n",
    "store_df.info()"
   ]
  },
  {
   "cell_type": "code",
   "execution_count": 6,
   "id": "d22bdf5d",
   "metadata": {
    "execution": {
     "iopub.execute_input": "2023-08-21T17:14:03.246712Z",
     "iopub.status.busy": "2023-08-21T17:14:03.246248Z",
     "iopub.status.idle": "2023-08-21T17:14:03.266816Z",
     "shell.execute_reply": "2023-08-21T17:14:03.265437Z"
    },
    "papermill": {
     "duration": 0.032787,
     "end_time": "2023-08-21T17:14:03.269619",
     "exception": false,
     "start_time": "2023-08-21T17:14:03.236832",
     "status": "completed"
    },
    "tags": []
   },
   "outputs": [
    {
     "data": {
      "text/html": [
       "<div>\n",
       "<style scoped>\n",
       "    .dataframe tbody tr th:only-of-type {\n",
       "        vertical-align: middle;\n",
       "    }\n",
       "\n",
       "    .dataframe tbody tr th {\n",
       "        vertical-align: top;\n",
       "    }\n",
       "\n",
       "    .dataframe thead th {\n",
       "        text-align: right;\n",
       "    }\n",
       "</style>\n",
       "<table border=\"1\" class=\"dataframe\">\n",
       "  <thead>\n",
       "    <tr style=\"text-align: right;\">\n",
       "      <th></th>\n",
       "      <th>Row_ID</th>\n",
       "      <th>Order_ID</th>\n",
       "      <th>Order_Date</th>\n",
       "      <th>Ship_Date</th>\n",
       "      <th>Ship_Mode</th>\n",
       "      <th>Customer_ID</th>\n",
       "      <th>Product_ID</th>\n",
       "      <th>Sales</th>\n",
       "      <th>Discount</th>\n",
       "    </tr>\n",
       "  </thead>\n",
       "  <tbody>\n",
       "    <tr>\n",
       "      <th>0</th>\n",
       "      <td>1</td>\n",
       "      <td>CA-2017-152156</td>\n",
       "      <td>2017-11-08</td>\n",
       "      <td>2017-11-11</td>\n",
       "      <td>Second Class</td>\n",
       "      <td>CG/12520</td>\n",
       "      <td>FUR-BO-10001798</td>\n",
       "      <td>3929400.0</td>\n",
       "      <td>0.02</td>\n",
       "    </tr>\n",
       "    <tr>\n",
       "      <th>1</th>\n",
       "      <td>2</td>\n",
       "      <td>CA-2017-152156</td>\n",
       "      <td>2017-11-08</td>\n",
       "      <td>2017-11-11</td>\n",
       "      <td>Second Class</td>\n",
       "      <td>CG/12520</td>\n",
       "      <td>FUR-CH-10000454</td>\n",
       "      <td>10979100.0</td>\n",
       "      <td>0.01</td>\n",
       "    </tr>\n",
       "    <tr>\n",
       "      <th>2</th>\n",
       "      <td>3</td>\n",
       "      <td>CA-2017-138688</td>\n",
       "      <td>2017-06-12</td>\n",
       "      <td>2017-06-16</td>\n",
       "      <td>Second Class</td>\n",
       "      <td>DV/13045</td>\n",
       "      <td>OFF-LA-10000240</td>\n",
       "      <td>219300.0</td>\n",
       "      <td>0.01</td>\n",
       "    </tr>\n",
       "    <tr>\n",
       "      <th>3</th>\n",
       "      <td>4</td>\n",
       "      <td>US-2016-108966</td>\n",
       "      <td>2016-10-11</td>\n",
       "      <td>2016-10-18</td>\n",
       "      <td>Standard Class</td>\n",
       "      <td>SO/20335</td>\n",
       "      <td>FUR-TA-10000577</td>\n",
       "      <td>14363662.5</td>\n",
       "      <td>0.02</td>\n",
       "    </tr>\n",
       "    <tr>\n",
       "      <th>4</th>\n",
       "      <td>5</td>\n",
       "      <td>US-2016-108966</td>\n",
       "      <td>2016-10-11</td>\n",
       "      <td>2016-10-18</td>\n",
       "      <td>Standard Class</td>\n",
       "      <td>SO/20335</td>\n",
       "      <td>OFF-ST-10000760</td>\n",
       "      <td>335520.0</td>\n",
       "      <td>0.03</td>\n",
       "    </tr>\n",
       "  </tbody>\n",
       "</table>\n",
       "</div>"
      ],
      "text/plain": [
       "   Row_ID        Order_ID Order_Date  Ship_Date       Ship_Mode Customer_ID  \\\n",
       "0       1  CA-2017-152156 2017-11-08 2017-11-11    Second Class    CG/12520   \n",
       "1       2  CA-2017-152156 2017-11-08 2017-11-11    Second Class    CG/12520   \n",
       "2       3  CA-2017-138688 2017-06-12 2017-06-16    Second Class    DV/13045   \n",
       "3       4  US-2016-108966 2016-10-11 2016-10-18  Standard Class    SO/20335   \n",
       "4       5  US-2016-108966 2016-10-11 2016-10-18  Standard Class    SO/20335   \n",
       "\n",
       "        Product_ID       Sales  Discount  \n",
       "0  FUR-BO-10001798   3929400.0      0.02  \n",
       "1  FUR-CH-10000454  10979100.0      0.01  \n",
       "2  OFF-LA-10000240    219300.0      0.01  \n",
       "3  FUR-TA-10000577  14363662.5      0.02  \n",
       "4  OFF-ST-10000760    335520.0      0.03  "
      ]
     },
     "execution_count": 6,
     "metadata": {},
     "output_type": "execute_result"
    }
   ],
   "source": [
    "store_df.head()"
   ]
  },
  {
   "cell_type": "markdown",
   "id": "a9f1a5bf",
   "metadata": {
    "papermill": {
     "duration": 0.006552,
     "end_time": "2023-08-21T17:14:03.282794",
     "exception": false,
     "start_time": "2023-08-21T17:14:03.276242",
     "status": "completed"
    },
    "tags": []
   },
   "source": [
    "We have loaded the three datasets; we can join the stores and products on their common key"
   ]
  },
  {
   "cell_type": "code",
   "execution_count": 7,
   "id": "fdea363d",
   "metadata": {
    "execution": {
     "iopub.execute_input": "2023-08-21T17:14:03.297835Z",
     "iopub.status.busy": "2023-08-21T17:14:03.297419Z",
     "iopub.status.idle": "2023-08-21T17:14:03.334212Z",
     "shell.execute_reply": "2023-08-21T17:14:03.332666Z"
    },
    "papermill": {
     "duration": 0.047628,
     "end_time": "2023-08-21T17:14:03.337110",
     "exception": false,
     "start_time": "2023-08-21T17:14:03.289482",
     "status": "completed"
    },
    "tags": []
   },
   "outputs": [
    {
     "data": {
      "text/html": [
       "<div>\n",
       "<style scoped>\n",
       "    .dataframe tbody tr th:only-of-type {\n",
       "        vertical-align: middle;\n",
       "    }\n",
       "\n",
       "    .dataframe tbody tr th {\n",
       "        vertical-align: top;\n",
       "    }\n",
       "\n",
       "    .dataframe thead th {\n",
       "        text-align: right;\n",
       "    }\n",
       "</style>\n",
       "<table border=\"1\" class=\"dataframe\">\n",
       "  <thead>\n",
       "    <tr style=\"text-align: right;\">\n",
       "      <th></th>\n",
       "      <th>Row_ID</th>\n",
       "      <th>Order_ID</th>\n",
       "      <th>Order_Date</th>\n",
       "      <th>Ship_Date</th>\n",
       "      <th>Ship_Mode</th>\n",
       "      <th>Customer_ID</th>\n",
       "      <th>Product_ID</th>\n",
       "      <th>Sales</th>\n",
       "      <th>Discount</th>\n",
       "      <th>Category</th>\n",
       "      <th>Sub_Category</th>\n",
       "      <th>Product_Name</th>\n",
       "    </tr>\n",
       "  </thead>\n",
       "  <tbody>\n",
       "    <tr>\n",
       "      <th>0</th>\n",
       "      <td>1</td>\n",
       "      <td>CA-2017-152156</td>\n",
       "      <td>2017-11-08</td>\n",
       "      <td>2017-11-11</td>\n",
       "      <td>Second Class</td>\n",
       "      <td>CG/12520</td>\n",
       "      <td>FUR-BO-10001798</td>\n",
       "      <td>3929400.0</td>\n",
       "      <td>0.02</td>\n",
       "      <td>Furniture</td>\n",
       "      <td>Bookcases</td>\n",
       "      <td>Bush Somerset Collection Bookcase</td>\n",
       "    </tr>\n",
       "    <tr>\n",
       "      <th>1</th>\n",
       "      <td>5400</td>\n",
       "      <td>CA-2017-117681</td>\n",
       "      <td>2017-04-09</td>\n",
       "      <td>2017-04-14</td>\n",
       "      <td>Standard Class</td>\n",
       "      <td>HF/14995</td>\n",
       "      <td>FUR-BO-10001798</td>\n",
       "      <td>8349975.0</td>\n",
       "      <td>0.02</td>\n",
       "      <td>Furniture</td>\n",
       "      <td>Bookcases</td>\n",
       "      <td>Bush Somerset Collection Bookcase</td>\n",
       "    </tr>\n",
       "    <tr>\n",
       "      <th>2</th>\n",
       "      <td>8635</td>\n",
       "      <td>CA-2018-159793</td>\n",
       "      <td>2018-08-25</td>\n",
       "      <td>2018-08-29</td>\n",
       "      <td>Standard Class</td>\n",
       "      <td>SV/20365</td>\n",
       "      <td>FUR-BO-10001798</td>\n",
       "      <td>1964700.0</td>\n",
       "      <td>0.01</td>\n",
       "      <td>Furniture</td>\n",
       "      <td>Bookcases</td>\n",
       "      <td>Bush Somerset Collection Bookcase</td>\n",
       "    </tr>\n",
       "    <tr>\n",
       "      <th>3</th>\n",
       "      <td>9335</td>\n",
       "      <td>CA-2018-110198</td>\n",
       "      <td>2018-05-01</td>\n",
       "      <td>2018-05-02</td>\n",
       "      <td>First Class</td>\n",
       "      <td>AG/10900</td>\n",
       "      <td>FUR-BO-10001798</td>\n",
       "      <td>4715280.0</td>\n",
       "      <td>0.02</td>\n",
       "      <td>Furniture</td>\n",
       "      <td>Bookcases</td>\n",
       "      <td>Bush Somerset Collection Bookcase</td>\n",
       "    </tr>\n",
       "    <tr>\n",
       "      <th>4</th>\n",
       "      <td>2</td>\n",
       "      <td>CA-2017-152156</td>\n",
       "      <td>2017-11-08</td>\n",
       "      <td>2017-11-11</td>\n",
       "      <td>Second Class</td>\n",
       "      <td>CG/12520</td>\n",
       "      <td>FUR-CH-10000454</td>\n",
       "      <td>10979100.0</td>\n",
       "      <td>0.01</td>\n",
       "      <td>Furniture</td>\n",
       "      <td>Chairs</td>\n",
       "      <td>Hon Deluxe Fabric Upholstered Stacking Chairs,...</td>\n",
       "    </tr>\n",
       "  </tbody>\n",
       "</table>\n",
       "</div>"
      ],
      "text/plain": [
       "   Row_ID        Order_ID Order_Date  Ship_Date       Ship_Mode Customer_ID  \\\n",
       "0       1  CA-2017-152156 2017-11-08 2017-11-11    Second Class    CG/12520   \n",
       "1    5400  CA-2017-117681 2017-04-09 2017-04-14  Standard Class    HF/14995   \n",
       "2    8635  CA-2018-159793 2018-08-25 2018-08-29  Standard Class    SV/20365   \n",
       "3    9335  CA-2018-110198 2018-05-01 2018-05-02     First Class    AG/10900   \n",
       "4       2  CA-2017-152156 2017-11-08 2017-11-11    Second Class    CG/12520   \n",
       "\n",
       "        Product_ID       Sales  Discount   Category Sub_Category  \\\n",
       "0  FUR-BO-10001798   3929400.0      0.02  Furniture    Bookcases   \n",
       "1  FUR-BO-10001798   8349975.0      0.02  Furniture    Bookcases   \n",
       "2  FUR-BO-10001798   1964700.0      0.01  Furniture    Bookcases   \n",
       "3  FUR-BO-10001798   4715280.0      0.02  Furniture    Bookcases   \n",
       "4  FUR-CH-10000454  10979100.0      0.01  Furniture       Chairs   \n",
       "\n",
       "                                        Product_Name  \n",
       "0                  Bush Somerset Collection Bookcase  \n",
       "1                  Bush Somerset Collection Bookcase  \n",
       "2                  Bush Somerset Collection Bookcase  \n",
       "3                  Bush Somerset Collection Bookcase  \n",
       "4  Hon Deluxe Fabric Upholstered Stacking Chairs,...  "
      ]
     },
     "execution_count": 7,
     "metadata": {},
     "output_type": "execute_result"
    }
   ],
   "source": [
    "store_product_df = store_df.merge(right=product_df, on='Product_ID')\n",
    "store_product_df.head()"
   ]
  },
  {
   "cell_type": "markdown",
   "id": "68ef99c5",
   "metadata": {
    "papermill": {
     "duration": 0.006993,
     "end_time": "2023-08-21T17:14:03.351067",
     "exception": false,
     "start_time": "2023-08-21T17:14:03.344074",
     "status": "completed"
    },
    "tags": []
   },
   "source": [
    "Similarly we can join on the customer ID to get complete records for each sale."
   ]
  },
  {
   "cell_type": "code",
   "execution_count": 8,
   "id": "29a49f3f",
   "metadata": {
    "execution": {
     "iopub.execute_input": "2023-08-21T17:14:03.367416Z",
     "iopub.status.busy": "2023-08-21T17:14:03.366928Z",
     "iopub.status.idle": "2023-08-21T17:14:03.404699Z",
     "shell.execute_reply": "2023-08-21T17:14:03.403597Z"
    },
    "papermill": {
     "duration": 0.04892,
     "end_time": "2023-08-21T17:14:03.407221",
     "exception": false,
     "start_time": "2023-08-21T17:14:03.358301",
     "status": "completed"
    },
    "tags": []
   },
   "outputs": [
    {
     "data": {
      "text/html": [
       "<div>\n",
       "<style scoped>\n",
       "    .dataframe tbody tr th:only-of-type {\n",
       "        vertical-align: middle;\n",
       "    }\n",
       "\n",
       "    .dataframe tbody tr th {\n",
       "        vertical-align: top;\n",
       "    }\n",
       "\n",
       "    .dataframe thead th {\n",
       "        text-align: right;\n",
       "    }\n",
       "</style>\n",
       "<table border=\"1\" class=\"dataframe\">\n",
       "  <thead>\n",
       "    <tr style=\"text-align: right;\">\n",
       "      <th></th>\n",
       "      <th>Row_ID</th>\n",
       "      <th>Order_ID</th>\n",
       "      <th>Order_Date</th>\n",
       "      <th>Ship_Date</th>\n",
       "      <th>Ship_Mode</th>\n",
       "      <th>Customer_ID</th>\n",
       "      <th>Product_ID</th>\n",
       "      <th>Sales</th>\n",
       "      <th>Discount</th>\n",
       "      <th>Category</th>\n",
       "      <th>Sub_Category</th>\n",
       "      <th>Product_Name</th>\n",
       "      <th>Customer_Name</th>\n",
       "      <th>Segment</th>\n",
       "      <th>Country</th>\n",
       "      <th>City</th>\n",
       "      <th>State</th>\n",
       "      <th>Postal_Code</th>\n",
       "      <th>Region</th>\n",
       "      <th>Age</th>\n",
       "    </tr>\n",
       "  </thead>\n",
       "  <tbody>\n",
       "    <tr>\n",
       "      <th>0</th>\n",
       "      <td>1</td>\n",
       "      <td>CA-2017-152156</td>\n",
       "      <td>2017-11-08</td>\n",
       "      <td>2017-11-11</td>\n",
       "      <td>Second Class</td>\n",
       "      <td>CG/12520</td>\n",
       "      <td>FUR-BO-10001798</td>\n",
       "      <td>3929400.0</td>\n",
       "      <td>0.02</td>\n",
       "      <td>Furniture</td>\n",
       "      <td>Bookcases</td>\n",
       "      <td>Bush Somerset Collection Bookcase</td>\n",
       "      <td>Claire Gute</td>\n",
       "      <td>Consumer</td>\n",
       "      <td>United States</td>\n",
       "      <td>Henderson</td>\n",
       "      <td>Kentucky</td>\n",
       "      <td>42420</td>\n",
       "      <td>South</td>\n",
       "      <td>42</td>\n",
       "    </tr>\n",
       "    <tr>\n",
       "      <th>1</th>\n",
       "      <td>2</td>\n",
       "      <td>CA-2017-152156</td>\n",
       "      <td>2017-11-08</td>\n",
       "      <td>2017-11-11</td>\n",
       "      <td>Second Class</td>\n",
       "      <td>CG/12520</td>\n",
       "      <td>FUR-CH-10000454</td>\n",
       "      <td>10979100.0</td>\n",
       "      <td>0.01</td>\n",
       "      <td>Furniture</td>\n",
       "      <td>Chairs</td>\n",
       "      <td>Hon Deluxe Fabric Upholstered Stacking Chairs,...</td>\n",
       "      <td>Claire Gute</td>\n",
       "      <td>Consumer</td>\n",
       "      <td>United States</td>\n",
       "      <td>Henderson</td>\n",
       "      <td>Kentucky</td>\n",
       "      <td>42420</td>\n",
       "      <td>South</td>\n",
       "      <td>42</td>\n",
       "    </tr>\n",
       "    <tr>\n",
       "      <th>2</th>\n",
       "      <td>5492</td>\n",
       "      <td>CA-2018-164098</td>\n",
       "      <td>2018-01-26</td>\n",
       "      <td>2018-01-27</td>\n",
       "      <td>First Class</td>\n",
       "      <td>CG/12520</td>\n",
       "      <td>OFF-ST-10000615</td>\n",
       "      <td>272400.0</td>\n",
       "      <td>0.02</td>\n",
       "      <td>Office Supplies</td>\n",
       "      <td>Storage</td>\n",
       "      <td>SimpliFile Personal File, Black Granite, 15w x...</td>\n",
       "      <td>Claire Gute</td>\n",
       "      <td>Consumer</td>\n",
       "      <td>United States</td>\n",
       "      <td>Henderson</td>\n",
       "      <td>Kentucky</td>\n",
       "      <td>42420</td>\n",
       "      <td>South</td>\n",
       "      <td>42</td>\n",
       "    </tr>\n",
       "    <tr>\n",
       "      <th>3</th>\n",
       "      <td>6878</td>\n",
       "      <td>US-2016-123918</td>\n",
       "      <td>2016-10-15</td>\n",
       "      <td>2016-10-15</td>\n",
       "      <td>Same Day</td>\n",
       "      <td>CG/12520</td>\n",
       "      <td>FUR-FU-10004952</td>\n",
       "      <td>1970640.0</td>\n",
       "      <td>0.03</td>\n",
       "      <td>Furniture</td>\n",
       "      <td>Furnishings</td>\n",
       "      <td>C-Line Cubicle Keepers Polyproplyene Holder w/...</td>\n",
       "      <td>Claire Gute</td>\n",
       "      <td>Consumer</td>\n",
       "      <td>United States</td>\n",
       "      <td>Henderson</td>\n",
       "      <td>Kentucky</td>\n",
       "      <td>42420</td>\n",
       "      <td>South</td>\n",
       "      <td>42</td>\n",
       "    </tr>\n",
       "    <tr>\n",
       "      <th>4</th>\n",
       "      <td>6879</td>\n",
       "      <td>US-2016-123918</td>\n",
       "      <td>2016-10-15</td>\n",
       "      <td>2016-10-15</td>\n",
       "      <td>Same Day</td>\n",
       "      <td>CG/12520</td>\n",
       "      <td>OFF-PA-10003001</td>\n",
       "      <td>80160.0</td>\n",
       "      <td>0.02</td>\n",
       "      <td>Office Supplies</td>\n",
       "      <td>Paper</td>\n",
       "      <td>Xerox 1986</td>\n",
       "      <td>Claire Gute</td>\n",
       "      <td>Consumer</td>\n",
       "      <td>United States</td>\n",
       "      <td>Henderson</td>\n",
       "      <td>Kentucky</td>\n",
       "      <td>42420</td>\n",
       "      <td>South</td>\n",
       "      <td>42</td>\n",
       "    </tr>\n",
       "  </tbody>\n",
       "</table>\n",
       "</div>"
      ],
      "text/plain": [
       "   Row_ID        Order_ID Order_Date  Ship_Date     Ship_Mode Customer_ID  \\\n",
       "0       1  CA-2017-152156 2017-11-08 2017-11-11  Second Class    CG/12520   \n",
       "1       2  CA-2017-152156 2017-11-08 2017-11-11  Second Class    CG/12520   \n",
       "2    5492  CA-2018-164098 2018-01-26 2018-01-27   First Class    CG/12520   \n",
       "3    6878  US-2016-123918 2016-10-15 2016-10-15      Same Day    CG/12520   \n",
       "4    6879  US-2016-123918 2016-10-15 2016-10-15      Same Day    CG/12520   \n",
       "\n",
       "        Product_ID       Sales  Discount         Category Sub_Category  \\\n",
       "0  FUR-BO-10001798   3929400.0      0.02        Furniture    Bookcases   \n",
       "1  FUR-CH-10000454  10979100.0      0.01        Furniture       Chairs   \n",
       "2  OFF-ST-10000615    272400.0      0.02  Office Supplies      Storage   \n",
       "3  FUR-FU-10004952   1970640.0      0.03        Furniture  Furnishings   \n",
       "4  OFF-PA-10003001     80160.0      0.02  Office Supplies        Paper   \n",
       "\n",
       "                                        Product_Name Customer_Name   Segment  \\\n",
       "0                  Bush Somerset Collection Bookcase   Claire Gute  Consumer   \n",
       "1  Hon Deluxe Fabric Upholstered Stacking Chairs,...   Claire Gute  Consumer   \n",
       "2  SimpliFile Personal File, Black Granite, 15w x...   Claire Gute  Consumer   \n",
       "3  C-Line Cubicle Keepers Polyproplyene Holder w/...   Claire Gute  Consumer   \n",
       "4                                         Xerox 1986   Claire Gute  Consumer   \n",
       "\n",
       "         Country       City     State  Postal_Code Region  Age  \n",
       "0  United States  Henderson  Kentucky        42420  South   42  \n",
       "1  United States  Henderson  Kentucky        42420  South   42  \n",
       "2  United States  Henderson  Kentucky        42420  South   42  \n",
       "3  United States  Henderson  Kentucky        42420  South   42  \n",
       "4  United States  Henderson  Kentucky        42420  South   42  "
      ]
     },
     "execution_count": 8,
     "metadata": {},
     "output_type": "execute_result"
    }
   ],
   "source": [
    "df = store_product_df.merge(right=customer_df, on='Customer_ID')\n",
    "df.head()"
   ]
  },
  {
   "cell_type": "code",
   "execution_count": 9,
   "id": "9cf0b9cd",
   "metadata": {
    "execution": {
     "iopub.execute_input": "2023-08-21T17:14:03.424934Z",
     "iopub.status.busy": "2023-08-21T17:14:03.424525Z",
     "iopub.status.idle": "2023-08-21T17:14:03.484848Z",
     "shell.execute_reply": "2023-08-21T17:14:03.483195Z"
    },
    "papermill": {
     "duration": 0.073182,
     "end_time": "2023-08-21T17:14:03.487711",
     "exception": false,
     "start_time": "2023-08-21T17:14:03.414529",
     "status": "completed"
    },
    "tags": []
   },
   "outputs": [
    {
     "name": "stdout",
     "output_type": "stream",
     "text": [
      "<class 'pandas.core.frame.DataFrame'>\n",
      "Int64Index: 9800 entries, 0 to 9799\n",
      "Data columns (total 20 columns):\n",
      " #   Column         Non-Null Count  Dtype         \n",
      "---  ------         --------------  -----         \n",
      " 0   Row_ID         9800 non-null   int64         \n",
      " 1   Order_ID       9800 non-null   object        \n",
      " 2   Order_Date     9800 non-null   datetime64[ns]\n",
      " 3   Ship_Date      9800 non-null   datetime64[ns]\n",
      " 4   Ship_Mode      9800 non-null   object        \n",
      " 5   Customer_ID    9800 non-null   object        \n",
      " 6   Product_ID     9800 non-null   object        \n",
      " 7   Sales          9770 non-null   float64       \n",
      " 8   Discount       9800 non-null   float64       \n",
      " 9   Category       9800 non-null   object        \n",
      " 10  Sub_Category   9800 non-null   object        \n",
      " 11  Product_Name   9800 non-null   object        \n",
      " 12  Customer_Name  9800 non-null   object        \n",
      " 13  Segment        9800 non-null   object        \n",
      " 14  Country        9800 non-null   object        \n",
      " 15  City           9800 non-null   object        \n",
      " 16  State          9800 non-null   object        \n",
      " 17  Postal_Code    9800 non-null   int64         \n",
      " 18  Region         9800 non-null   object        \n",
      " 19  Age            9800 non-null   int64         \n",
      "dtypes: datetime64[ns](2), float64(2), int64(3), object(13)\n",
      "memory usage: 1.6+ MB\n"
     ]
    }
   ],
   "source": [
    "df.info()"
   ]
  },
  {
   "cell_type": "code",
   "execution_count": 10,
   "id": "7c2ad11e",
   "metadata": {
    "execution": {
     "iopub.execute_input": "2023-08-21T17:14:03.504528Z",
     "iopub.status.busy": "2023-08-21T17:14:03.504083Z",
     "iopub.status.idle": "2023-08-21T17:14:03.533650Z",
     "shell.execute_reply": "2023-08-21T17:14:03.532464Z"
    },
    "papermill": {
     "duration": 0.041536,
     "end_time": "2023-08-21T17:14:03.536614",
     "exception": false,
     "start_time": "2023-08-21T17:14:03.495078",
     "status": "completed"
    },
    "tags": []
   },
   "outputs": [
    {
     "data": {
      "text/plain": [
       "Row_ID           9800\n",
       "Order_ID         4922\n",
       "Order_Date       1230\n",
       "Ship_Date        1326\n",
       "Ship_Mode           4\n",
       "Customer_ID       793\n",
       "Product_ID       1861\n",
       "Sales            5735\n",
       "Discount            3\n",
       "Category            3\n",
       "Sub_Category       17\n",
       "Product_Name     1817\n",
       "Customer_Name     793\n",
       "Segment             3\n",
       "Country             1\n",
       "City              252\n",
       "State              41\n",
       "Postal_Code       314\n",
       "Region              4\n",
       "Age                30\n",
       "dtype: int64"
      ]
     },
     "execution_count": 10,
     "metadata": {},
     "output_type": "execute_result"
    }
   ],
   "source": [
    "df.nunique()"
   ]
  },
  {
   "cell_type": "code",
   "execution_count": 11,
   "id": "ced3d8dd",
   "metadata": {
    "execution": {
     "iopub.execute_input": "2023-08-21T17:14:03.554843Z",
     "iopub.status.busy": "2023-08-21T17:14:03.554401Z",
     "iopub.status.idle": "2023-08-21T17:14:05.791857Z",
     "shell.execute_reply": "2023-08-21T17:14:05.790319Z"
    },
    "papermill": {
     "duration": 2.250641,
     "end_time": "2023-08-21T17:14:05.795097",
     "exception": false,
     "start_time": "2023-08-21T17:14:03.544456",
     "status": "completed"
    },
    "tags": []
   },
   "outputs": [
    {
     "data": {
      "image/png": "[encoded data removed]",
      "text/plain": [
       "<Figure size 1400x1200 with 6 Axes>"
      ]
     },
     "metadata": {},
     "output_type": "display_data"
    }
   ],
   "source": [
    "from matplotlib.pyplot import subplots\n",
    "categorical = ['Ship_Mode', 'Category',  'Segment', 'Region', 'Sub_Category', 'State']\n",
    "fig, ax = subplots(figsize=(14, 12), ncols=2, nrows=3)\n",
    "for index, column in enumerate(categorical):\n",
    "    df[column].value_counts().to_frame().sort_index(ascending=False).plot(ax=ax.ravel()[index], kind='bar', legend=True)"
   ]
  },
  {
   "cell_type": "code",
   "execution_count": 12,
   "id": "d0fc8638",
   "metadata": {
    "execution": {
     "iopub.execute_input": "2023-08-21T17:14:05.817503Z",
     "iopub.status.busy": "2023-08-21T17:14:05.817027Z",
     "iopub.status.idle": "2023-08-21T17:14:06.256582Z",
     "shell.execute_reply": "2023-08-21T17:14:06.255076Z"
    },
    "papermill": {
     "duration": 0.454258,
     "end_time": "2023-08-21T17:14:06.259271",
     "exception": false,
     "start_time": "2023-08-21T17:14:05.805013",
     "status": "completed"
    },
    "tags": []
   },
   "outputs": [
    {
     "data": {
      "text/plain": [
       "<Axes: ylabel='Frequency'>"
      ]
     },
     "execution_count": 12,
     "metadata": {},
     "output_type": "execute_result"
    },
    {
     "data": {
      "image/png": "[encoded data removed]",
      "text/plain": [
       "<Figure size 640x480 with 1 Axes>"
      ]
     },
     "metadata": {},
     "output_type": "display_data"
    }
   ],
   "source": [
    "df['Age'].plot.hist(bins=30, legend=True)"
   ]
  }
 ],
 "metadata": {
  "kernelspec": {
   "display_name": "Python 3",
   "language": "python",
   "name": "python3"
  },
  "language_info": {
   "codemirror_mode": {
    "name": "ipython",
    "version": 3
   },
   "file_extension": ".py",
   "mimetype": "text/x-python",
   "name": "python",
   "nbconvert_exporter": "python",
   "pygments_lexer": "ipython3",
   "version": "3.10.12"
  },
  "papermill": {
   "default_parameters": {},
   "duration": 18.700605,
   "end_time": "2023-08-21T17:14:07.495739",
   "environment_variables": {},
   "exception": null,
   "input_path": "__notebook__.ipynb",
   "output_path": "__notebook__.ipynb",
   "parameters": {},
   "start_time": "2023-08-21T17:13:48.795134",
   "version": "2.4.0"
  }
 },
 "nbformat": 4,
 "nbformat_minor": 5
}
