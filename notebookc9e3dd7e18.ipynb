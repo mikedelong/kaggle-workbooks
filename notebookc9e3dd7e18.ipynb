{
 "cells": [
  {
   "cell_type": "code",
   "execution_count": 1,
   "id": "2d416a4e",
   "metadata": {
    "_cell_guid": "b1076dfc-b9ad-4769-8c92-a6c4dae69d19",
    "_uuid": "8f2839f25d086af736a60e9eeb907d3b93b6e0e5",
    "execution": {
     "iopub.execute_input": "2024-02-22T00:43:48.347163Z",
     "iopub.status.busy": "2024-02-22T00:43:48.346813Z",
     "iopub.status.idle": "2024-02-22T00:44:00.758175Z",
     "shell.execute_reply": "2024-02-22T00:44:00.756745Z"
    },
    "papermill": {
     "duration": 12.418385,
     "end_time": "2024-02-22T00:44:00.761414",
     "exception": false,
     "start_time": "2024-02-22T00:43:48.343029",
     "status": "completed"
    },
    "tags": []
   },
   "outputs": [
    {
     "name": "stdout",
     "output_type": "stream",
     "text": [
      "pip installed img2vec\n"
     ]
    }
   ],
   "source": [
    "!pip install --quiet img2vec_pytorch\n",
    "print('pip installed img2vec')"
   ]
  },
  {
   "cell_type": "code",
   "execution_count": 2,
   "id": "2b427b45",
   "metadata": {
    "execution": {
     "iopub.execute_input": "2024-02-22T00:44:00.767233Z",
     "iopub.status.busy": "2024-02-22T00:44:00.766786Z",
     "iopub.status.idle": "2024-02-22T00:44:00.772975Z",
     "shell.execute_reply": "2024-02-22T00:44:00.771584Z"
    },
    "papermill": {
     "duration": 0.011785,
     "end_time": "2024-02-22T00:44:00.775419",
     "exception": false,
     "start_time": "2024-02-22T00:44:00.763634",
     "status": "completed"
    },
    "tags": []
   },
   "outputs": [],
   "source": [
    "from warnings import filterwarnings\n",
    "filterwarnings(action='ignore', category=FutureWarning) # quiet a plotly issue\n",
    "filterwarnings(action='ignore', category=UserWarning) # quiet an img2vec issue"
   ]
  },
  {
   "cell_type": "code",
   "execution_count": 3,
   "id": "3713a9f0",
   "metadata": {
    "execution": {
     "iopub.execute_input": "2024-02-22T00:44:00.780817Z",
     "iopub.status.busy": "2024-02-22T00:44:00.780434Z",
     "iopub.status.idle": "2024-02-22T01:03:36.218163Z",
     "shell.execute_reply": "2024-02-22T01:03:36.216616Z"
    },
    "papermill": {
     "duration": 1175.442764,
     "end_time": "2024-02-22T01:03:36.220143",
     "exception": false,
     "start_time": "2024-02-22T00:44:00.777379",
     "status": "completed"
    },
    "tags": []
   },
   "outputs": [
    {
     "name": "stderr",
     "output_type": "stream",
     "text": [
      "Downloading: \"https://download.pytorch.org/models/resnet18-f37072fd.pth\" to /root/.cache/torch/hub/checkpoints/resnet18-f37072fd.pth\n",
      "100%|██████████| 44.7M/44.7M [00:00<00:00, 257MB/s]\n"
     ]
    },
    {
     "name": "stdout",
     "output_type": "stream",
     "text": [
      "encoded Bashmoti data in 0:01:01.310169\n",
      "encoded Lal Binni data in 0:01:00.320399\n",
      "encoded BR29 data in 0:00:59.478596\n",
      "encoded Katarivog data in 0:00:58.290380\n",
      "encoded Jirashail data in 0:00:58.906762\n",
      "encoded Lal Aush data in 0:00:58.022467\n",
      "encoded Shampakatari data in 0:00:59.211559\n",
      "encoded Amon data in 0:00:57.300121\n",
      "encoded Shorna5 data in 0:00:58.114162\n",
      "encoded Subol Lota data in 0:00:59.090097\n",
      "encoded Katari Polao data in 0:00:58.011465\n",
      "encoded Najirshail data in 0:00:57.491018\n",
      "encoded BR28 data in 0:00:57.778824\n",
      "encoded Lal Biroi data in 0:00:58.165159\n",
      "encoded Red Cargo data in 0:00:57.427940\n",
      "encoded Paijam data in 0:00:56.258129\n",
      "encoded Chinigura Polao data in 0:00:57.846144\n",
      "encoded Gutisharna data in 0:00:56.849251\n",
      "encoded Bashful data in 0:00:57.446285\n",
      "encoded Ganjiya data in 0:00:58.108266\n",
      "done in 0:19:26.836691\n"
     ]
    }
   ],
   "source": [
    "from img2vec_pytorch import Img2Vec\n",
    "from PIL import Image\n",
    "from arrow import now\n",
    "from glob import glob\n",
    "import pandas as pd\n",
    "from os.path import basename\n",
    "\n",
    "img2vec = Img2Vec(cuda=False, model='resnet-18', layer='default', layer_output_size=512)\n",
    "\n",
    "# https://stackoverflow.com/a/952952\n",
    "def flatten(arg):\n",
    "    return [x for xs in arg for x in xs]\n",
    "\n",
    "def get_from_glob(arg: str, tag: str) -> list:\n",
    "    time_get = now()\n",
    "    result = []\n",
    "    for input_file in glob(pathname=arg):\n",
    "        name = basename(input_file)\n",
    "        try:\n",
    "            with Image.open(fp=input_file, mode='r') as image:\n",
    "                vector = img2vec.get_vec(image, tensor=True).numpy().reshape(512,)\n",
    "                result.append(pd.Series(data=[tag, name, vector], index=['tag', 'name', 'value']))\n",
    "        except RuntimeError:\n",
    "            # we only have a few failures so we're just going to discard them\n",
    "            print('runtime failure: {}'.format(tag, name))\n",
    "            pass\n",
    "    print('encoded {} data in {}'.format(tag, now() - time_get))\n",
    "    return result\n",
    "\n",
    "time_start = now()\n",
    "train = {' '.join(basename(folder).split('_')[1:]) : folder + '/*.jpg' \n",
    "         for folder in glob('/kaggle/input/aruzz22-5k-an-image-dataset-of-rice-varieties/1_TRAIN/*')}\n",
    "train_data = [get_from_glob(arg=value, tag=key) for key, value in train.items()]\n",
    "df = pd.DataFrame(data=flatten(arg=train_data))\n",
    "    \n",
    "print('done in {}'.format(now() - time_start))"
   ]
  }
 ],
 "metadata": {
  "kaggle": {
   "accelerator": "none",
   "dataSources": [
    {
     "datasetId": 4472124,
     "sourceId": 7668591,
     "sourceType": "datasetVersion"
    }
   ],
   "dockerImageVersionId": 30646,
   "isGpuEnabled": false,
   "isInternetEnabled": true,
   "language": "python",
   "sourceType": "notebook"
  },
  "kernelspec": {
   "display_name": "Python 3",
   "language": "python",
   "name": "python3"
  },
  "language_info": {
   "codemirror_mode": {
    "name": "ipython",
    "version": 3
   },
   "file_extension": ".py",
   "mimetype": "text/x-python",
   "name": "python",
   "nbconvert_exporter": "python",
   "pygments_lexer": "ipython3",
   "version": "3.10.13"
  },
  "papermill": {
   "default_parameters": {},
   "duration": 1192.462527,
   "end_time": "2024-02-22T01:03:38.050919",
   "environment_variables": {},
   "exception": null,
   "input_path": "__notebook__.ipynb",
   "output_path": "__notebook__.ipynb",
   "parameters": {},
   "start_time": "2024-02-22T00:43:45.588392",
   "version": "2.5.0"
  }
 },
 "nbformat": 4,
 "nbformat_minor": 5
}
