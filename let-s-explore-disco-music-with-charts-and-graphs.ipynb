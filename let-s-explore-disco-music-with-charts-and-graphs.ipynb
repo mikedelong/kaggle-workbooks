{
 "cells": [
  {
   "cell_type": "code",
   "execution_count": 1,
   "id": "eaf255b2",
   "metadata": {
    "_cell_guid": "b1076dfc-b9ad-4769-8c92-a6c4dae69d19",
    "_uuid": "8f2839f25d086af736a60e9eeb907d3b93b6e0e5",
    "execution": {
     "iopub.execute_input": "2024-09-02T15:27:33.049906Z",
     "iopub.status.busy": "2024-09-02T15:27:33.049433Z",
     "iopub.status.idle": "2024-09-02T15:27:33.935764Z",
     "shell.execute_reply": "2024-09-02T15:27:33.934379Z"
    },
    "papermill": {
     "duration": 0.903419,
     "end_time": "2024-09-02T15:27:33.938422",
     "exception": false,
     "start_time": "2024-09-02T15:27:33.035003",
     "status": "completed"
    },
    "tags": []
   },
   "outputs": [
    {
     "data": {
      "text/html": [
       "<div>\n",
       "<style scoped>\n",
       "    .dataframe tbody tr th:only-of-type {\n",
       "        vertical-align: middle;\n",
       "    }\n",
       "\n",
       "    .dataframe tbody tr th {\n",
       "        vertical-align: top;\n",
       "    }\n",
       "\n",
       "    .dataframe thead th {\n",
       "        text-align: right;\n",
       "    }\n",
       "</style>\n",
       "<table border=\"1\" class=\"dataframe\">\n",
       "  <thead>\n",
       "    <tr style=\"text-align: right;\">\n",
       "      <th></th>\n",
       "      <th>Track</th>\n",
       "      <th>Artist</th>\n",
       "      <th>Album</th>\n",
       "      <th>Year</th>\n",
       "      <th>Duration</th>\n",
       "      <th>Time_Signature</th>\n",
       "      <th>Danceability</th>\n",
       "      <th>Energy</th>\n",
       "      <th>Key</th>\n",
       "      <th>Loudness</th>\n",
       "      <th>Mode</th>\n",
       "      <th>Speechiness</th>\n",
       "      <th>Acousticness</th>\n",
       "      <th>Instrumentalness</th>\n",
       "      <th>Liveness</th>\n",
       "      <th>Valence</th>\n",
       "      <th>Tempo</th>\n",
       "      <th>Popularity</th>\n",
       "    </tr>\n",
       "  </thead>\n",
       "  <tbody>\n",
       "    <tr>\n",
       "      <th>0</th>\n",
       "      <td>Boogie Oogie Oogie</td>\n",
       "      <td>A Taste Of Honey</td>\n",
       "      <td>A Taste Of Honey</td>\n",
       "      <td>1978</td>\n",
       "      <td>245173</td>\n",
       "      <td>4</td>\n",
       "      <td>0.797</td>\n",
       "      <td>0.548</td>\n",
       "      <td>2</td>\n",
       "      <td>-9.228</td>\n",
       "      <td>0</td>\n",
       "      <td>0.0492</td>\n",
       "      <td>0.0401</td>\n",
       "      <td>0.000010</td>\n",
       "      <td>0.0994</td>\n",
       "      <td>0.868</td>\n",
       "      <td>123.686</td>\n",
       "      <td>53</td>\n",
       "    </tr>\n",
       "    <tr>\n",
       "      <th>1</th>\n",
       "      <td>Disco Dancin' - 2004 - Remastered</td>\n",
       "      <td>A Taste Of Honey</td>\n",
       "      <td>A Taste Of Honey</td>\n",
       "      <td>1978</td>\n",
       "      <td>210493</td>\n",
       "      <td>4</td>\n",
       "      <td>0.751</td>\n",
       "      <td>0.570</td>\n",
       "      <td>2</td>\n",
       "      <td>-11.645</td>\n",
       "      <td>1</td>\n",
       "      <td>0.0813</td>\n",
       "      <td>0.3710</td>\n",
       "      <td>0.000020</td>\n",
       "      <td>0.1230</td>\n",
       "      <td>0.770</td>\n",
       "      <td>103.408</td>\n",
       "      <td>11</td>\n",
       "    </tr>\n",
       "    <tr>\n",
       "      <th>2</th>\n",
       "      <td>Distant</td>\n",
       "      <td>A Taste Of Honey</td>\n",
       "      <td>A Taste Of Honey</td>\n",
       "      <td>1978</td>\n",
       "      <td>260053</td>\n",
       "      <td>4</td>\n",
       "      <td>0.468</td>\n",
       "      <td>0.512</td>\n",
       "      <td>2</td>\n",
       "      <td>-10.187</td>\n",
       "      <td>1</td>\n",
       "      <td>0.1380</td>\n",
       "      <td>0.7820</td>\n",
       "      <td>0.000020</td>\n",
       "      <td>0.2020</td>\n",
       "      <td>0.714</td>\n",
       "      <td>163.400</td>\n",
       "      <td>13</td>\n",
       "    </tr>\n",
       "    <tr>\n",
       "      <th>3</th>\n",
       "      <td>Do It Good</td>\n",
       "      <td>A Taste Of Honey</td>\n",
       "      <td>Another Taste (Expanded Edition)</td>\n",
       "      <td>1978</td>\n",
       "      <td>342826</td>\n",
       "      <td>4</td>\n",
       "      <td>0.699</td>\n",
       "      <td>0.740</td>\n",
       "      <td>3</td>\n",
       "      <td>-8.625</td>\n",
       "      <td>0</td>\n",
       "      <td>0.0289</td>\n",
       "      <td>0.0714</td>\n",
       "      <td>0.000002</td>\n",
       "      <td>0.1650</td>\n",
       "      <td>0.889</td>\n",
       "      <td>104.168</td>\n",
       "      <td>17</td>\n",
       "    </tr>\n",
       "    <tr>\n",
       "      <th>4</th>\n",
       "      <td>If We Loved</td>\n",
       "      <td>A Taste Of Honey</td>\n",
       "      <td>A Taste Of Honey</td>\n",
       "      <td>1978</td>\n",
       "      <td>266200</td>\n",
       "      <td>4</td>\n",
       "      <td>0.463</td>\n",
       "      <td>0.459</td>\n",
       "      <td>6</td>\n",
       "      <td>-11.600</td>\n",
       "      <td>1</td>\n",
       "      <td>0.0296</td>\n",
       "      <td>0.7640</td>\n",
       "      <td>0.000003</td>\n",
       "      <td>0.1580</td>\n",
       "      <td>0.300</td>\n",
       "      <td>129.267</td>\n",
       "      <td>13</td>\n",
       "    </tr>\n",
       "  </tbody>\n",
       "</table>\n",
       "</div>"
      ],
      "text/plain": [
       "                               Track            Artist  \\\n",
       "0                 Boogie Oogie Oogie  A Taste Of Honey   \n",
       "1  Disco Dancin' - 2004 - Remastered  A Taste Of Honey   \n",
       "2                            Distant  A Taste Of Honey   \n",
       "3                         Do It Good  A Taste Of Honey   \n",
       "4                        If We Loved  A Taste Of Honey   \n",
       "\n",
       "                              Album  Year  Duration  Time_Signature  \\\n",
       "0                  A Taste Of Honey  1978    245173               4   \n",
       "1                  A Taste Of Honey  1978    210493               4   \n",
       "2                  A Taste Of Honey  1978    260053               4   \n",
       "3  Another Taste (Expanded Edition)  1978    342826               4   \n",
       "4                  A Taste Of Honey  1978    266200               4   \n",
       "\n",
       "   Danceability  Energy  Key  Loudness  Mode  Speechiness  Acousticness  \\\n",
       "0         0.797   0.548    2    -9.228     0       0.0492        0.0401   \n",
       "1         0.751   0.570    2   -11.645     1       0.0813        0.3710   \n",
       "2         0.468   0.512    2   -10.187     1       0.1380        0.7820   \n",
       "3         0.699   0.740    3    -8.625     0       0.0289        0.0714   \n",
       "4         0.463   0.459    6   -11.600     1       0.0296        0.7640   \n",
       "\n",
       "   Instrumentalness  Liveness  Valence    Tempo  Popularity  \n",
       "0          0.000010    0.0994    0.868  123.686          53  \n",
       "1          0.000020    0.1230    0.770  103.408          11  \n",
       "2          0.000020    0.2020    0.714  163.400          13  \n",
       "3          0.000002    0.1650    0.889  104.168          17  \n",
       "4          0.000003    0.1580    0.300  129.267          13  "
      ]
     },
     "execution_count": 1,
     "metadata": {},
     "output_type": "execute_result"
    }
   ],
   "source": [
    "import pandas as pd\n",
    "\n",
    "DISCO = '/kaggle/input/700-classic-disco-tracks-with-spotify-data/ClassicDisco.csv'\n",
    "\n",
    "df = pd.read_csv(filepath_or_buffer=DISCO)\n",
    "df.head()"
   ]
  },
  {
   "cell_type": "code",
   "execution_count": 2,
   "id": "f9929b32",
   "metadata": {
    "execution": {
     "iopub.execute_input": "2024-09-02T15:27:33.965947Z",
     "iopub.status.busy": "2024-09-02T15:27:33.965482Z",
     "iopub.status.idle": "2024-09-02T15:27:33.972861Z",
     "shell.execute_reply": "2024-09-02T15:27:33.971709Z"
    },
    "papermill": {
     "duration": 0.024359,
     "end_time": "2024-09-02T15:27:33.975672",
     "exception": false,
     "start_time": "2024-09-02T15:27:33.951313",
     "status": "completed"
    },
    "tags": []
   },
   "outputs": [
    {
     "data": {
      "text/plain": [
       "724"
      ]
     },
     "execution_count": 2,
     "metadata": {},
     "output_type": "execute_result"
    }
   ],
   "source": [
    "len(df)"
   ]
  },
  {
   "cell_type": "markdown",
   "id": "32ca2570",
   "metadata": {
    "papermill": {
     "duration": 0.012725,
     "end_time": "2024-09-02T15:27:34.001090",
     "exception": false,
     "start_time": "2024-09-02T15:27:33.988365",
     "status": "completed"
    },
    "tags": []
   },
   "source": [
    "This is not a very big dataset; how many distict artists are represented?"
   ]
  },
  {
   "cell_type": "code",
   "execution_count": 3,
   "id": "31681aee",
   "metadata": {
    "execution": {
     "iopub.execute_input": "2024-09-02T15:27:34.029009Z",
     "iopub.status.busy": "2024-09-02T15:27:34.027935Z",
     "iopub.status.idle": "2024-09-02T15:27:34.038680Z",
     "shell.execute_reply": "2024-09-02T15:27:34.037436Z"
    },
    "papermill": {
     "duration": 0.02756,
     "end_time": "2024-09-02T15:27:34.041444",
     "exception": false,
     "start_time": "2024-09-02T15:27:34.013884",
     "status": "completed"
    },
    "tags": []
   },
   "outputs": [
    {
     "data": {
      "text/plain": [
       "101"
      ]
     },
     "execution_count": 3,
     "metadata": {},
     "output_type": "execute_result"
    }
   ],
   "source": [
    "df['Artist'].nunique()"
   ]
  },
  {
   "cell_type": "markdown",
   "id": "85268773",
   "metadata": {
    "papermill": {
     "duration": 0.012497,
     "end_time": "2024-09-02T15:27:34.066739",
     "exception": false,
     "start_time": "2024-09-02T15:27:34.054242",
     "status": "completed"
    },
    "tags": []
   },
   "source": [
    "That means the mean artist contributed about 7.17 tracks. But what about the median?"
   ]
  },
  {
   "cell_type": "code",
   "execution_count": 4,
   "id": "89c5f88b",
   "metadata": {
    "execution": {
     "iopub.execute_input": "2024-09-02T15:27:34.094854Z",
     "iopub.status.busy": "2024-09-02T15:27:34.094386Z",
     "iopub.status.idle": "2024-09-02T15:27:34.108573Z",
     "shell.execute_reply": "2024-09-02T15:27:34.107447Z"
    },
    "papermill": {
     "duration": 0.031465,
     "end_time": "2024-09-02T15:27:34.111020",
     "exception": false,
     "start_time": "2024-09-02T15:27:34.079555",
     "status": "completed"
    },
    "tags": []
   },
   "outputs": [
    {
     "data": {
      "text/plain": [
       "8.0"
      ]
     },
     "execution_count": 4,
     "metadata": {},
     "output_type": "execute_result"
    }
   ],
   "source": [
    "df['Artist'].value_counts().median()"
   ]
  },
  {
   "cell_type": "markdown",
   "id": "a41bd75e",
   "metadata": {
    "papermill": {
     "duration": 0.012749,
     "end_time": "2024-09-02T15:27:34.136706",
     "exception": false,
     "start_time": "2024-09-02T15:27:34.123957",
     "status": "completed"
    },
    "tags": []
   },
   "source": [
    "This is kind of a surprise: the disco era wasn't very long and there were a lot of one-hit wonders, so we would expect the median to be (somewhat? much?) less than the mean. But this isn't an exhaustive catalogue of disco hits; it's a Spotify sample of disco tunes, so it is subject to other factors too."
   ]
  },
  {
   "cell_type": "code",
   "execution_count": 5,
   "id": "1ce06379",
   "metadata": {
    "execution": {
     "iopub.execute_input": "2024-09-02T15:27:34.165467Z",
     "iopub.status.busy": "2024-09-02T15:27:34.164366Z",
     "iopub.status.idle": "2024-09-02T15:27:37.186290Z",
     "shell.execute_reply": "2024-09-02T15:27:37.185051Z"
    },
    "papermill": {
     "duration": 3.039604,
     "end_time": "2024-09-02T15:27:37.189200",
     "exception": false,
     "start_time": "2024-09-02T15:27:34.149596",
     "status": "completed"
    },
    "tags": []
   },
   "outputs": [
    {
     "data": {
      "text/html": [
       "        <script type=\"text/javascript\">\n",
       "        window.PlotlyConfig = {MathJaxConfig: 'local'};\n",
       "        if (window.MathJax && window.MathJax.Hub && window.MathJax.Hub.Config) {window.MathJax.Hub.Config({SVG: {font: \"STIX-Web\"}});}\n",
       "        if (typeof require !== 'undefined') {\n",
       "        require.undef(\"plotly\");\n",
       "        requirejs.config({\n",
       "            paths: {\n",
       "                'plotly': ['https://cdn.plot.ly/plotly-2.32.0.min']\n",
       "            }\n",
       "        });\n",
       "        require(['plotly'], function(Plotly) {\n",
       "            window._Plotly = Plotly;\n",
       "        });\n",
       "        }\n",
       "        </script>\n",
       "        "
      ]
     },
     "metadata": {},
     "output_type": "display_data"
    },
    {
     "data": {
      "text/html": [
       "<div>                            <div id=\"233a5961-856a-495c-bf7a-06de62c9bed0\" class=\"plotly-graph-div\" style=\"height:525px; width:100%;\"></div>            <script type=\"text/javascript\">                require([\"plotly\"], function(Plotly) {                    window.PLOTLYENV=window.PLOTLYENV || {};                                    if (document.getElementById(\"233a5961-856a-495c-bf7a-06de62c9bed0\")) {                    Plotly.newPlot(                        \"233a5961-856a-495c-bf7a-06de62c9bed0\",                        [{\"alignmentgroup\":\"True\",\"bingroup\":\"x\",\"histfunc\":\"sum\",\"hovertemplate\":\"Artist=%{x}\\u003cbr\\u003esum of count=%{y}\\u003cextra\\u003e\\u003c\\u002fextra\\u003e\",\"legendgroup\":\"\",\"marker\":{\"color\":\"#636efa\",\"pattern\":{\"shape\":\"\"}},\"name\":\"\",\"offsetgroup\":\"\",\"orientation\":\"v\",\"showlegend\":false,\"x\":[\"Shalamar\",\"MFSB\",\"Crown Heights Affair\",\"Commodores\",\"ABBA\",\"Rose Royce\",\"Donna Summer\",\"Earth, Wind & Fire\",\"Stevie Wonder\",\"Carol Douglas\",\"Teddy Pendergrass\",\"The Gap Band\",\"James Brown\",\"Blue Magic\",\"Bee Gees\",\"Eddie Kendricks\",\"The O'Jays\",\"The Pointer Sisters\",\"Tina Charles\",\"Andrea True Connection\",\"Melba Moore\",\"Heatwave\",\"A Taste Of Honey\",\"Michael Jackson\",\"Ohio Players\",\"Rick James\",\"Grace Jones\",\"Sister Sledge\",\"The Isley Brothers\",\"The Jacksons\",\"The Three Degrees\",\"Harold Melvin & The Blue Notes\",\"Voyage\",\"Curtis Mayfield\",\"Diana Ross\",\"CHIC\",\"Cheryl Lynn\",\"Evelyn \\\"Champagne\\\" King\",\"T-Connection\",\"Silver Convention\",\"Stephanie Mills\",\"Cerrone\",\"Sylvester\",\"First Choice\",\"D-Train\",\"The Real Thing\",\"The Stylistics\",\"Ashford & Simpson\",\"The Trammps\",\"The Whispers\",\"Thelma Houston\",\"Tavares\",\"Sharon Redd\",\"Gino Soccio\",\"G.Q.\",\"Loleatta Holloway\",\"Isaac Hayes\",\"Boney M.\",\"Edwin Starr\",\"Fatback Band\",\"The Spinners\",\"Aretha Franklin\",\"Detroit Emeralds\",\"John Davis & The Monster Orchestra\",\"Peter Brown\",\"Patrick Hernandez\",\"Barry White\",\"The Salsoul Orchestra\",\"Vicki Sue Robinson\",\"Village People\",\"Teena Marie\",\"Bohannon\",\"Madleen Kane\",\"Honey Cone\",\"Claudja Barry\",\"B.T. Express\",\"Jackie Moore\",\"The Ritchie Family\",\"Lime\",\"Rufus\",\"Linda Clifford\",\"Tom Tom Club\",\"Barrabas\",\"Van McCoy\",\"Lipps Inc.\",\"Candi Staton\",\"LaBelle\",\"France Joli\",\"Odyssey\",\"The S.O.S Band\",\"Rufus & Chaka Khan\",\"Dan Hartman\",\"The Emotions\",\"Hues Corporation\",\"Ecstasy, Passion & Pain\",\"Love Unlimited\",\"The Love Unlimited Orchestra\",\"KC & The Sunshine Band\",\"Chaka Khan\",\"Neal McCoy\",\"Van Morrison\"],\"xaxis\":\"x\",\"y\":[10,10,10,10,10,10,10,10,10,10,10,10,10,10,10,10,10,10,10,10,10,9,9,9,9,9,9,9,9,9,9,9,9,9,9,9,9,9,8,8,8,8,8,8,8,8,8,8,8,8,8,8,8,8,8,8,8,7,7,7,7,7,7,7,7,7,7,7,7,7,6,6,6,6,6,6,5,5,5,5,5,5,5,4,4,4,4,4,4,3,3,3,3,2,2,2,1,1,1,1,1],\"yaxis\":\"y\",\"type\":\"histogram\"}],                        {\"template\":{\"data\":{\"histogram2dcontour\":[{\"type\":\"histogram2dcontour\",\"colorbar\":{\"outlinewidth\":0,\"ticks\":\"\"},\"colorscale\":[[0.0,\"#0d0887\"],[0.1111111111111111,\"#46039f\"],[0.2222222222222222,\"#7201a8\"],[0.3333333333333333,\"#9c179e\"],[0.4444444444444444,\"#bd3786\"],[0.5555555555555556,\"#d8576b\"],[0.6666666666666666,\"#ed7953\"],[0.7777777777777778,\"#fb9f3a\"],[0.8888888888888888,\"#fdca26\"],[1.0,\"#f0f921\"]]}],\"choropleth\":[{\"type\":\"choropleth\",\"colorbar\":{\"outlinewidth\":0,\"ticks\":\"\"}}],\"histogram2d\":[{\"type\":\"histogram2d\",\"colorbar\":{\"outlinewidth\":0,\"ticks\":\"\"},\"colorscale\":[[0.0,\"#0d0887\"],[0.1111111111111111,\"#46039f\"],[0.2222222222222222,\"#7201a8\"],[0.3333333333333333,\"#9c179e\"],[0.4444444444444444,\"#bd3786\"],[0.5555555555555556,\"#d8576b\"],[0.6666666666666666,\"#ed7953\"],[0.7777777777777778,\"#fb9f3a\"],[0.8888888888888888,\"#fdca26\"],[1.0,\"#f0f921\"]]}],\"heatmap\":[{\"type\":\"heatmap\",\"colorbar\":{\"outlinewidth\":0,\"ticks\":\"\"},\"colorscale\":[[0.0,\"#0d0887\"],[0.1111111111111111,\"#46039f\"],[0.2222222222222222,\"#7201a8\"],[0.3333333333333333,\"#9c179e\"],[0.4444444444444444,\"#bd3786\"],[0.5555555555555556,\"#d8576b\"],[0.6666666666666666,\"#ed7953\"],[0.7777777777777778,\"#fb9f3a\"],[0.8888888888888888,\"#fdca26\"],[1.0,\"#f0f921\"]]}],\"heatmapgl\":[{\"type\":\"heatmapgl\",\"colorbar\":{\"outlinewidth\":0,\"ticks\":\"\"},\"colorscale\":[[0.0,\"#0d0887\"],[0.1111111111111111,\"#46039f\"],[0.2222222222222222,\"#7201a8\"],[0.3333333333333333,\"#9c179e\"],[0.4444444444444444,\"#bd3786\"],[0.5555555555555556,\"#d8576b\"],[0.6666666666666666,\"#ed7953\"],[0.7777777777777778,\"#fb9f3a\"],[0.8888888888888888,\"#fdca26\"],[1.0,\"#f0f921\"]]}],\"contourcarpet\":[{\"type\":\"contourcarpet\",\"colorbar\":{\"outlinewidth\":0,\"ticks\":\"\"}}],\"contour\":[{\"type\":\"contour\",\"colorbar\":{\"outlinewidth\":0,\"ticks\":\"\"},\"colorscale\":[[0.0,\"#0d0887\"],[0.1111111111111111,\"#46039f\"],[0.2222222222222222,\"#7201a8\"],[0.3333333333333333,\"#9c179e\"],[0.4444444444444444,\"#bd3786\"],[0.5555555555555556,\"#d8576b\"],[0.6666666666666666,\"#ed7953\"],[0.7777777777777778,\"#fb9f3a\"],[0.8888888888888888,\"#fdca26\"],[1.0,\"#f0f921\"]]}],\"surface\":[{\"type\":\"surface\",\"colorbar\":{\"outlinewidth\":0,\"ticks\":\"\"},\"colorscale\":[[0.0,\"#0d0887\"],[0.1111111111111111,\"#46039f\"],[0.2222222222222222,\"#7201a8\"],[0.3333333333333333,\"#9c179e\"],[0.4444444444444444,\"#bd3786\"],[0.5555555555555556,\"#d8576b\"],[0.6666666666666666,\"#ed7953\"],[0.7777777777777778,\"#fb9f3a\"],[0.8888888888888888,\"#fdca26\"],[1.0,\"#f0f921\"]]}],\"mesh3d\":[{\"type\":\"mesh3d\",\"colorbar\":{\"outlinewidth\":0,\"ticks\":\"\"}}],\"scatter\":[{\"fillpattern\":{\"fillmode\":\"overlay\",\"size\":10,\"solidity\":0.2},\"type\":\"scatter\"}],\"parcoords\":[{\"type\":\"parcoords\",\"line\":{\"colorbar\":{\"outlinewidth\":0,\"ticks\":\"\"}}}],\"scatterpolargl\":[{\"type\":\"scatterpolargl\",\"marker\":{\"colorbar\":{\"outlinewidth\":0,\"ticks\":\"\"}}}],\"bar\":[{\"error_x\":{\"color\":\"#2a3f5f\"},\"error_y\":{\"color\":\"#2a3f5f\"},\"marker\":{\"line\":{\"color\":\"#E5ECF6\",\"width\":0.5},\"pattern\":{\"fillmode\":\"overlay\",\"size\":10,\"solidity\":0.2}},\"type\":\"bar\"}],\"scattergeo\":[{\"type\":\"scattergeo\",\"marker\":{\"colorbar\":{\"outlinewidth\":0,\"ticks\":\"\"}}}],\"scatterpolar\":[{\"type\":\"scatterpolar\",\"marker\":{\"colorbar\":{\"outlinewidth\":0,\"ticks\":\"\"}}}],\"histogram\":[{\"marker\":{\"pattern\":{\"fillmode\":\"overlay\",\"size\":10,\"solidity\":0.2}},\"type\":\"histogram\"}],\"scattergl\":[{\"type\":\"scattergl\",\"marker\":{\"colorbar\":{\"outlinewidth\":0,\"ticks\":\"\"}}}],\"scatter3d\":[{\"type\":\"scatter3d\",\"line\":{\"colorbar\":{\"outlinewidth\":0,\"ticks\":\"\"}},\"marker\":{\"colorbar\":{\"outlinewidth\":0,\"ticks\":\"\"}}}],\"scattermapbox\":[{\"type\":\"scattermapbox\",\"marker\":{\"colorbar\":{\"outlinewidth\":0,\"ticks\":\"\"}}}],\"scatterternary\":[{\"type\":\"scatterternary\",\"marker\":{\"colorbar\":{\"outlinewidth\":0,\"ticks\":\"\"}}}],\"scattercarpet\":[{\"type\":\"scattercarpet\",\"marker\":{\"colorbar\":{\"outlinewidth\":0,\"ticks\":\"\"}}}],\"carpet\":[{\"aaxis\":{\"endlinecolor\":\"#2a3f5f\",\"gridcolor\":\"white\",\"linecolor\":\"white\",\"minorgridcolor\":\"white\",\"startlinecolor\":\"#2a3f5f\"},\"baxis\":{\"endlinecolor\":\"#2a3f5f\",\"gridcolor\":\"white\",\"linecolor\":\"white\",\"minorgridcolor\":\"white\",\"startlinecolor\":\"#2a3f5f\"},\"type\":\"carpet\"}],\"table\":[{\"cells\":{\"fill\":{\"color\":\"#EBF0F8\"},\"line\":{\"color\":\"white\"}},\"header\":{\"fill\":{\"color\":\"#C8D4E3\"},\"line\":{\"color\":\"white\"}},\"type\":\"table\"}],\"barpolar\":[{\"marker\":{\"line\":{\"color\":\"#E5ECF6\",\"width\":0.5},\"pattern\":{\"fillmode\":\"overlay\",\"size\":10,\"solidity\":0.2}},\"type\":\"barpolar\"}],\"pie\":[{\"automargin\":true,\"type\":\"pie\"}]},\"layout\":{\"autotypenumbers\":\"strict\",\"colorway\":[\"#636efa\",\"#EF553B\",\"#00cc96\",\"#ab63fa\",\"#FFA15A\",\"#19d3f3\",\"#FF6692\",\"#B6E880\",\"#FF97FF\",\"#FECB52\"],\"font\":{\"color\":\"#2a3f5f\"},\"hovermode\":\"closest\",\"hoverlabel\":{\"align\":\"left\"},\"paper_bgcolor\":\"white\",\"plot_bgcolor\":\"#E5ECF6\",\"polar\":{\"bgcolor\":\"#E5ECF6\",\"angularaxis\":{\"gridcolor\":\"white\",\"linecolor\":\"white\",\"ticks\":\"\"},\"radialaxis\":{\"gridcolor\":\"white\",\"linecolor\":\"white\",\"ticks\":\"\"}},\"ternary\":{\"bgcolor\":\"#E5ECF6\",\"aaxis\":{\"gridcolor\":\"white\",\"linecolor\":\"white\",\"ticks\":\"\"},\"baxis\":{\"gridcolor\":\"white\",\"linecolor\":\"white\",\"ticks\":\"\"},\"caxis\":{\"gridcolor\":\"white\",\"linecolor\":\"white\",\"ticks\":\"\"}},\"coloraxis\":{\"colorbar\":{\"outlinewidth\":0,\"ticks\":\"\"}},\"colorscale\":{\"sequential\":[[0.0,\"#0d0887\"],[0.1111111111111111,\"#46039f\"],[0.2222222222222222,\"#7201a8\"],[0.3333333333333333,\"#9c179e\"],[0.4444444444444444,\"#bd3786\"],[0.5555555555555556,\"#d8576b\"],[0.6666666666666666,\"#ed7953\"],[0.7777777777777778,\"#fb9f3a\"],[0.8888888888888888,\"#fdca26\"],[1.0,\"#f0f921\"]],\"sequentialminus\":[[0.0,\"#0d0887\"],[0.1111111111111111,\"#46039f\"],[0.2222222222222222,\"#7201a8\"],[0.3333333333333333,\"#9c179e\"],[0.4444444444444444,\"#bd3786\"],[0.5555555555555556,\"#d8576b\"],[0.6666666666666666,\"#ed7953\"],[0.7777777777777778,\"#fb9f3a\"],[0.8888888888888888,\"#fdca26\"],[1.0,\"#f0f921\"]],\"diverging\":[[0,\"#8e0152\"],[0.1,\"#c51b7d\"],[0.2,\"#de77ae\"],[0.3,\"#f1b6da\"],[0.4,\"#fde0ef\"],[0.5,\"#f7f7f7\"],[0.6,\"#e6f5d0\"],[0.7,\"#b8e186\"],[0.8,\"#7fbc41\"],[0.9,\"#4d9221\"],[1,\"#276419\"]]},\"xaxis\":{\"gridcolor\":\"white\",\"linecolor\":\"white\",\"ticks\":\"\",\"title\":{\"standoff\":15},\"zerolinecolor\":\"white\",\"automargin\":true,\"zerolinewidth\":2},\"yaxis\":{\"gridcolor\":\"white\",\"linecolor\":\"white\",\"ticks\":\"\",\"title\":{\"standoff\":15},\"zerolinecolor\":\"white\",\"automargin\":true,\"zerolinewidth\":2},\"scene\":{\"xaxis\":{\"backgroundcolor\":\"#E5ECF6\",\"gridcolor\":\"white\",\"linecolor\":\"white\",\"showbackground\":true,\"ticks\":\"\",\"zerolinecolor\":\"white\",\"gridwidth\":2},\"yaxis\":{\"backgroundcolor\":\"#E5ECF6\",\"gridcolor\":\"white\",\"linecolor\":\"white\",\"showbackground\":true,\"ticks\":\"\",\"zerolinecolor\":\"white\",\"gridwidth\":2},\"zaxis\":{\"backgroundcolor\":\"#E5ECF6\",\"gridcolor\":\"white\",\"linecolor\":\"white\",\"showbackground\":true,\"ticks\":\"\",\"zerolinecolor\":\"white\",\"gridwidth\":2}},\"shapedefaults\":{\"line\":{\"color\":\"#2a3f5f\"}},\"annotationdefaults\":{\"arrowcolor\":\"#2a3f5f\",\"arrowhead\":0,\"arrowwidth\":1},\"geo\":{\"bgcolor\":\"white\",\"landcolor\":\"#E5ECF6\",\"subunitcolor\":\"white\",\"showland\":true,\"showlakes\":true,\"lakecolor\":\"white\"},\"title\":{\"x\":0.05},\"mapbox\":{\"style\":\"light\"}}},\"xaxis\":{\"anchor\":\"y\",\"domain\":[0.0,1.0],\"title\":{\"text\":\"Artist\"}},\"yaxis\":{\"anchor\":\"x\",\"domain\":[0.0,1.0],\"title\":{\"text\":\"sum of count\"}},\"legend\":{\"tracegroupgap\":0},\"margin\":{\"t\":60},\"barmode\":\"relative\"},                        {\"responsive\": true}                    ).then(function(){\n",
       "                            \n",
       "var gd = document.getElementById('233a5961-856a-495c-bf7a-06de62c9bed0');\n",
       "var x = new MutationObserver(function (mutations, observer) {{\n",
       "        var display = window.getComputedStyle(gd).display;\n",
       "        if (!display || display === 'none') {{\n",
       "            console.log([gd, 'removed!']);\n",
       "            Plotly.purge(gd);\n",
       "            observer.disconnect();\n",
       "        }}\n",
       "}});\n",
       "\n",
       "// Listen for the removal of the full notebook cells\n",
       "var notebookContainer = gd.closest('#notebook-container');\n",
       "if (notebookContainer) {{\n",
       "    x.observe(notebookContainer, {childList: true});\n",
       "}}\n",
       "\n",
       "// Listen for the clearing of the current output cell\n",
       "var outputEl = gd.closest('.output');\n",
       "if (outputEl) {{\n",
       "    x.observe(outputEl, {childList: true});\n",
       "}}\n",
       "\n",
       "                        })                };                });            </script>        </div>"
      ]
     },
     "metadata": {},
     "output_type": "display_data"
    }
   ],
   "source": [
    "from plotly import express\n",
    "\n",
    "express.histogram(data_frame=df['Artist'].value_counts().to_frame().reset_index(), x='Artist', y='count')"
   ]
  },
  {
   "cell_type": "markdown",
   "id": "4588445c",
   "metadata": {
    "papermill": {
     "duration": 0.013283,
     "end_time": "2024-09-02T15:27:37.216233",
     "exception": false,
     "start_time": "2024-09-02T15:27:37.202950",
     "status": "completed"
    },
    "tags": []
   },
   "source": [
    "What years does this dataset consider the Disco Era?"
   ]
  },
  {
   "cell_type": "code",
   "execution_count": 6,
   "id": "29ff25a2",
   "metadata": {
    "execution": {
     "iopub.execute_input": "2024-09-02T15:27:37.245837Z",
     "iopub.status.busy": "2024-09-02T15:27:37.245335Z",
     "iopub.status.idle": "2024-09-02T15:27:37.330591Z",
     "shell.execute_reply": "2024-09-02T15:27:37.329420Z"
    },
    "papermill": {
     "duration": 0.103247,
     "end_time": "2024-09-02T15:27:37.333093",
     "exception": false,
     "start_time": "2024-09-02T15:27:37.229846",
     "status": "completed"
    },
    "tags": []
   },
   "outputs": [
    {
     "data": {
      "text/html": [
       "<div>                            <div id=\"d336b38d-170d-43da-9309-2f4e7f203034\" class=\"plotly-graph-div\" style=\"height:525px; width:100%;\"></div>            <script type=\"text/javascript\">                require([\"plotly\"], function(Plotly) {                    window.PLOTLYENV=window.PLOTLYENV || {};                                    if (document.getElementById(\"d336b38d-170d-43da-9309-2f4e7f203034\")) {                    Plotly.newPlot(                        \"d336b38d-170d-43da-9309-2f4e7f203034\",                        [{\"alignmentgroup\":\"True\",\"bingroup\":\"x\",\"histfunc\":\"sum\",\"hovertemplate\":\"Year=%{x}\\u003cbr\\u003esum of count=%{y}\\u003cextra\\u003e\\u003c\\u002fextra\\u003e\",\"legendgroup\":\"\",\"marker\":{\"color\":\"#636efa\",\"pattern\":{\"shape\":\"\"}},\"name\":\"\",\"nbinsx\":60,\"offsetgroup\":\"\",\"orientation\":\"v\",\"showlegend\":false,\"x\":[1967,1969,1970,1971,1972,1973,1974,1975,1976,1977,1978,1979,1980,1981,1982,1983,1984,1985,1986,1987,1994,2000,2008,2018,2020],\"xaxis\":\"x\",\"y\":[2,4,6,7,16,32,37,67,76,67,117,101,74,56,22,13,9,8,1,3,1,2,1,1,1],\"yaxis\":\"y\",\"type\":\"histogram\"}],                        {\"template\":{\"data\":{\"histogram2dcontour\":[{\"type\":\"histogram2dcontour\",\"colorbar\":{\"outlinewidth\":0,\"ticks\":\"\"},\"colorscale\":[[0.0,\"#0d0887\"],[0.1111111111111111,\"#46039f\"],[0.2222222222222222,\"#7201a8\"],[0.3333333333333333,\"#9c179e\"],[0.4444444444444444,\"#bd3786\"],[0.5555555555555556,\"#d8576b\"],[0.6666666666666666,\"#ed7953\"],[0.7777777777777778,\"#fb9f3a\"],[0.8888888888888888,\"#fdca26\"],[1.0,\"#f0f921\"]]}],\"choropleth\":[{\"type\":\"choropleth\",\"colorbar\":{\"outlinewidth\":0,\"ticks\":\"\"}}],\"histogram2d\":[{\"type\":\"histogram2d\",\"colorbar\":{\"outlinewidth\":0,\"ticks\":\"\"},\"colorscale\":[[0.0,\"#0d0887\"],[0.1111111111111111,\"#46039f\"],[0.2222222222222222,\"#7201a8\"],[0.3333333333333333,\"#9c179e\"],[0.4444444444444444,\"#bd3786\"],[0.5555555555555556,\"#d8576b\"],[0.6666666666666666,\"#ed7953\"],[0.7777777777777778,\"#fb9f3a\"],[0.8888888888888888,\"#fdca26\"],[1.0,\"#f0f921\"]]}],\"heatmap\":[{\"type\":\"heatmap\",\"colorbar\":{\"outlinewidth\":0,\"ticks\":\"\"},\"colorscale\":[[0.0,\"#0d0887\"],[0.1111111111111111,\"#46039f\"],[0.2222222222222222,\"#7201a8\"],[0.3333333333333333,\"#9c179e\"],[0.4444444444444444,\"#bd3786\"],[0.5555555555555556,\"#d8576b\"],[0.6666666666666666,\"#ed7953\"],[0.7777777777777778,\"#fb9f3a\"],[0.8888888888888888,\"#fdca26\"],[1.0,\"#f0f921\"]]}],\"heatmapgl\":[{\"type\":\"heatmapgl\",\"colorbar\":{\"outlinewidth\":0,\"ticks\":\"\"},\"colorscale\":[[0.0,\"#0d0887\"],[0.1111111111111111,\"#46039f\"],[0.2222222222222222,\"#7201a8\"],[0.3333333333333333,\"#9c179e\"],[0.4444444444444444,\"#bd3786\"],[0.5555555555555556,\"#d8576b\"],[0.6666666666666666,\"#ed7953\"],[0.7777777777777778,\"#fb9f3a\"],[0.8888888888888888,\"#fdca26\"],[1.0,\"#f0f921\"]]}],\"contourcarpet\":[{\"type\":\"contourcarpet\",\"colorbar\":{\"outlinewidth\":0,\"ticks\":\"\"}}],\"contour\":[{\"type\":\"contour\",\"colorbar\":{\"outlinewidth\":0,\"ticks\":\"\"},\"colorscale\":[[0.0,\"#0d0887\"],[0.1111111111111111,\"#46039f\"],[0.2222222222222222,\"#7201a8\"],[0.3333333333333333,\"#9c179e\"],[0.4444444444444444,\"#bd3786\"],[0.5555555555555556,\"#d8576b\"],[0.6666666666666666,\"#ed7953\"],[0.7777777777777778,\"#fb9f3a\"],[0.8888888888888888,\"#fdca26\"],[1.0,\"#f0f921\"]]}],\"surface\":[{\"type\":\"surface\",\"colorbar\":{\"outlinewidth\":0,\"ticks\":\"\"},\"colorscale\":[[0.0,\"#0d0887\"],[0.1111111111111111,\"#46039f\"],[0.2222222222222222,\"#7201a8\"],[0.3333333333333333,\"#9c179e\"],[0.4444444444444444,\"#bd3786\"],[0.5555555555555556,\"#d8576b\"],[0.6666666666666666,\"#ed7953\"],[0.7777777777777778,\"#fb9f3a\"],[0.8888888888888888,\"#fdca26\"],[1.0,\"#f0f921\"]]}],\"mesh3d\":[{\"type\":\"mesh3d\",\"colorbar\":{\"outlinewidth\":0,\"ticks\":\"\"}}],\"scatter\":[{\"fillpattern\":{\"fillmode\":\"overlay\",\"size\":10,\"solidity\":0.2},\"type\":\"scatter\"}],\"parcoords\":[{\"type\":\"parcoords\",\"line\":{\"colorbar\":{\"outlinewidth\":0,\"ticks\":\"\"}}}],\"scatterpolargl\":[{\"type\":\"scatterpolargl\",\"marker\":{\"colorbar\":{\"outlinewidth\":0,\"ticks\":\"\"}}}],\"bar\":[{\"error_x\":{\"color\":\"#2a3f5f\"},\"error_y\":{\"color\":\"#2a3f5f\"},\"marker\":{\"line\":{\"color\":\"#E5ECF6\",\"width\":0.5},\"pattern\":{\"fillmode\":\"overlay\",\"size\":10,\"solidity\":0.2}},\"type\":\"bar\"}],\"scattergeo\":[{\"type\":\"scattergeo\",\"marker\":{\"colorbar\":{\"outlinewidth\":0,\"ticks\":\"\"}}}],\"scatterpolar\":[{\"type\":\"scatterpolar\",\"marker\":{\"colorbar\":{\"outlinewidth\":0,\"ticks\":\"\"}}}],\"histogram\":[{\"marker\":{\"pattern\":{\"fillmode\":\"overlay\",\"size\":10,\"solidity\":0.2}},\"type\":\"histogram\"}],\"scattergl\":[{\"type\":\"scattergl\",\"marker\":{\"colorbar\":{\"outlinewidth\":0,\"ticks\":\"\"}}}],\"scatter3d\":[{\"type\":\"scatter3d\",\"line\":{\"colorbar\":{\"outlinewidth\":0,\"ticks\":\"\"}},\"marker\":{\"colorbar\":{\"outlinewidth\":0,\"ticks\":\"\"}}}],\"scattermapbox\":[{\"type\":\"scattermapbox\",\"marker\":{\"colorbar\":{\"outlinewidth\":0,\"ticks\":\"\"}}}],\"scatterternary\":[{\"type\":\"scatterternary\",\"marker\":{\"colorbar\":{\"outlinewidth\":0,\"ticks\":\"\"}}}],\"scattercarpet\":[{\"type\":\"scattercarpet\",\"marker\":{\"colorbar\":{\"outlinewidth\":0,\"ticks\":\"\"}}}],\"carpet\":[{\"aaxis\":{\"endlinecolor\":\"#2a3f5f\",\"gridcolor\":\"white\",\"linecolor\":\"white\",\"minorgridcolor\":\"white\",\"startlinecolor\":\"#2a3f5f\"},\"baxis\":{\"endlinecolor\":\"#2a3f5f\",\"gridcolor\":\"white\",\"linecolor\":\"white\",\"minorgridcolor\":\"white\",\"startlinecolor\":\"#2a3f5f\"},\"type\":\"carpet\"}],\"table\":[{\"cells\":{\"fill\":{\"color\":\"#EBF0F8\"},\"line\":{\"color\":\"white\"}},\"header\":{\"fill\":{\"color\":\"#C8D4E3\"},\"line\":{\"color\":\"white\"}},\"type\":\"table\"}],\"barpolar\":[{\"marker\":{\"line\":{\"color\":\"#E5ECF6\",\"width\":0.5},\"pattern\":{\"fillmode\":\"overlay\",\"size\":10,\"solidity\":0.2}},\"type\":\"barpolar\"}],\"pie\":[{\"automargin\":true,\"type\":\"pie\"}]},\"layout\":{\"autotypenumbers\":\"strict\",\"colorway\":[\"#636efa\",\"#EF553B\",\"#00cc96\",\"#ab63fa\",\"#FFA15A\",\"#19d3f3\",\"#FF6692\",\"#B6E880\",\"#FF97FF\",\"#FECB52\"],\"font\":{\"color\":\"#2a3f5f\"},\"hovermode\":\"closest\",\"hoverlabel\":{\"align\":\"left\"},\"paper_bgcolor\":\"white\",\"plot_bgcolor\":\"#E5ECF6\",\"polar\":{\"bgcolor\":\"#E5ECF6\",\"angularaxis\":{\"gridcolor\":\"white\",\"linecolor\":\"white\",\"ticks\":\"\"},\"radialaxis\":{\"gridcolor\":\"white\",\"linecolor\":\"white\",\"ticks\":\"\"}},\"ternary\":{\"bgcolor\":\"#E5ECF6\",\"aaxis\":{\"gridcolor\":\"white\",\"linecolor\":\"white\",\"ticks\":\"\"},\"baxis\":{\"gridcolor\":\"white\",\"linecolor\":\"white\",\"ticks\":\"\"},\"caxis\":{\"gridcolor\":\"white\",\"linecolor\":\"white\",\"ticks\":\"\"}},\"coloraxis\":{\"colorbar\":{\"outlinewidth\":0,\"ticks\":\"\"}},\"colorscale\":{\"sequential\":[[0.0,\"#0d0887\"],[0.1111111111111111,\"#46039f\"],[0.2222222222222222,\"#7201a8\"],[0.3333333333333333,\"#9c179e\"],[0.4444444444444444,\"#bd3786\"],[0.5555555555555556,\"#d8576b\"],[0.6666666666666666,\"#ed7953\"],[0.7777777777777778,\"#fb9f3a\"],[0.8888888888888888,\"#fdca26\"],[1.0,\"#f0f921\"]],\"sequentialminus\":[[0.0,\"#0d0887\"],[0.1111111111111111,\"#46039f\"],[0.2222222222222222,\"#7201a8\"],[0.3333333333333333,\"#9c179e\"],[0.4444444444444444,\"#bd3786\"],[0.5555555555555556,\"#d8576b\"],[0.6666666666666666,\"#ed7953\"],[0.7777777777777778,\"#fb9f3a\"],[0.8888888888888888,\"#fdca26\"],[1.0,\"#f0f921\"]],\"diverging\":[[0,\"#8e0152\"],[0.1,\"#c51b7d\"],[0.2,\"#de77ae\"],[0.3,\"#f1b6da\"],[0.4,\"#fde0ef\"],[0.5,\"#f7f7f7\"],[0.6,\"#e6f5d0\"],[0.7,\"#b8e186\"],[0.8,\"#7fbc41\"],[0.9,\"#4d9221\"],[1,\"#276419\"]]},\"xaxis\":{\"gridcolor\":\"white\",\"linecolor\":\"white\",\"ticks\":\"\",\"title\":{\"standoff\":15},\"zerolinecolor\":\"white\",\"automargin\":true,\"zerolinewidth\":2},\"yaxis\":{\"gridcolor\":\"white\",\"linecolor\":\"white\",\"ticks\":\"\",\"title\":{\"standoff\":15},\"zerolinecolor\":\"white\",\"automargin\":true,\"zerolinewidth\":2},\"scene\":{\"xaxis\":{\"backgroundcolor\":\"#E5ECF6\",\"gridcolor\":\"white\",\"linecolor\":\"white\",\"showbackground\":true,\"ticks\":\"\",\"zerolinecolor\":\"white\",\"gridwidth\":2},\"yaxis\":{\"backgroundcolor\":\"#E5ECF6\",\"gridcolor\":\"white\",\"linecolor\":\"white\",\"showbackground\":true,\"ticks\":\"\",\"zerolinecolor\":\"white\",\"gridwidth\":2},\"zaxis\":{\"backgroundcolor\":\"#E5ECF6\",\"gridcolor\":\"white\",\"linecolor\":\"white\",\"showbackground\":true,\"ticks\":\"\",\"zerolinecolor\":\"white\",\"gridwidth\":2}},\"shapedefaults\":{\"line\":{\"color\":\"#2a3f5f\"}},\"annotationdefaults\":{\"arrowcolor\":\"#2a3f5f\",\"arrowhead\":0,\"arrowwidth\":1},\"geo\":{\"bgcolor\":\"white\",\"landcolor\":\"#E5ECF6\",\"subunitcolor\":\"white\",\"showland\":true,\"showlakes\":true,\"lakecolor\":\"white\"},\"title\":{\"x\":0.05},\"mapbox\":{\"style\":\"light\"}}},\"xaxis\":{\"anchor\":\"y\",\"domain\":[0.0,1.0],\"title\":{\"text\":\"Year\"}},\"yaxis\":{\"anchor\":\"x\",\"domain\":[0.0,1.0],\"title\":{\"text\":\"sum of count\"}},\"legend\":{\"tracegroupgap\":0},\"margin\":{\"t\":60},\"barmode\":\"relative\"},                        {\"responsive\": true}                    ).then(function(){\n",
       "                            \n",
       "var gd = document.getElementById('d336b38d-170d-43da-9309-2f4e7f203034');\n",
       "var x = new MutationObserver(function (mutations, observer) {{\n",
       "        var display = window.getComputedStyle(gd).display;\n",
       "        if (!display || display === 'none') {{\n",
       "            console.log([gd, 'removed!']);\n",
       "            Plotly.purge(gd);\n",
       "            observer.disconnect();\n",
       "        }}\n",
       "}});\n",
       "\n",
       "// Listen for the removal of the full notebook cells\n",
       "var notebookContainer = gd.closest('#notebook-container');\n",
       "if (notebookContainer) {{\n",
       "    x.observe(notebookContainer, {childList: true});\n",
       "}}\n",
       "\n",
       "// Listen for the clearing of the current output cell\n",
       "var outputEl = gd.closest('.output');\n",
       "if (outputEl) {{\n",
       "    x.observe(outputEl, {childList: true});\n",
       "}}\n",
       "\n",
       "                        })                };                });            </script>        </div>"
      ]
     },
     "metadata": {},
     "output_type": "display_data"
    }
   ],
   "source": [
    "express.histogram(data_frame=df['Year'].value_counts().to_frame().reset_index().sort_values(by='Year'), x='Year', y='count', nbins=60)"
   ]
  },
  {
   "cell_type": "markdown",
   "id": "49bac7c3",
   "metadata": {
    "papermill": {
     "duration": 0.013705,
     "end_time": "2024-09-02T15:27:37.360724",
     "exception": false,
     "start_time": "2024-09-02T15:27:37.347019",
     "status": "completed"
    },
    "tags": []
   },
   "source": [
    "There are some questionable choices here; or maybe the Year column doesn't tell us exactly what we think it should. But this graph captures things we probably already knew: \n",
    "* Disco is primarily a 1970s phenomenon\n",
    "* It peaked in 1978-1979"
   ]
  },
  {
   "cell_type": "markdown",
   "id": "5a1295fd",
   "metadata": {
    "papermill": {
     "duration": 0.013393,
     "end_time": "2024-09-02T15:27:37.387699",
     "exception": false,
     "start_time": "2024-09-02T15:27:37.374306",
     "status": "completed"
    },
    "tags": []
   },
   "source": [
    "Disco is almost exclusively a \"four on the floor\" genre; is that true of our dataset?"
   ]
  },
  {
   "cell_type": "code",
   "execution_count": 7,
   "id": "e82bb790",
   "metadata": {
    "execution": {
     "iopub.execute_input": "2024-09-02T15:27:37.417160Z",
     "iopub.status.busy": "2024-09-02T15:27:37.416665Z",
     "iopub.status.idle": "2024-09-02T15:27:37.427142Z",
     "shell.execute_reply": "2024-09-02T15:27:37.425933Z"
    },
    "papermill": {
     "duration": 0.028564,
     "end_time": "2024-09-02T15:27:37.429776",
     "exception": false,
     "start_time": "2024-09-02T15:27:37.401212",
     "status": "completed"
    },
    "tags": []
   },
   "outputs": [
    {
     "data": {
      "text/plain": [
       "{4: 0.9682320441988951, 3: 0.03038674033149171, 5: 0.0013812154696132596}"
      ]
     },
     "execution_count": 7,
     "metadata": {},
     "output_type": "execute_result"
    }
   ],
   "source": [
    "df['Time_Signature'].value_counts(normalize=True).to_dict()"
   ]
  },
  {
   "cell_type": "markdown",
   "id": "e9382980",
   "metadata": {
    "papermill": {
     "duration": 0.013952,
     "end_time": "2024-09-02T15:27:37.457488",
     "exception": false,
     "start_time": "2024-09-02T15:27:37.443536",
     "status": "completed"
    },
    "tags": []
   },
   "source": [
    "Yes. 97% of our tracks have the same time signature."
   ]
  },
  {
   "cell_type": "code",
   "execution_count": 8,
   "id": "65f601a6",
   "metadata": {
    "execution": {
     "iopub.execute_input": "2024-09-02T15:27:37.487728Z",
     "iopub.status.busy": "2024-09-02T15:27:37.486778Z",
     "iopub.status.idle": "2024-09-02T15:27:37.510902Z",
     "shell.execute_reply": "2024-09-02T15:27:37.509635Z"
    },
    "papermill": {
     "duration": 0.042169,
     "end_time": "2024-09-02T15:27:37.513562",
     "exception": false,
     "start_time": "2024-09-02T15:27:37.471393",
     "status": "completed"
    },
    "tags": []
   },
   "outputs": [
    {
     "data": {
      "text/html": [
       "<div>\n",
       "<style scoped>\n",
       "    .dataframe tbody tr th:only-of-type {\n",
       "        vertical-align: middle;\n",
       "    }\n",
       "\n",
       "    .dataframe tbody tr th {\n",
       "        vertical-align: top;\n",
       "    }\n",
       "\n",
       "    .dataframe thead th {\n",
       "        text-align: right;\n",
       "    }\n",
       "</style>\n",
       "<table border=\"1\" class=\"dataframe\">\n",
       "  <thead>\n",
       "    <tr style=\"text-align: right;\">\n",
       "      <th></th>\n",
       "      <th>Track</th>\n",
       "      <th>Artist</th>\n",
       "      <th>Album</th>\n",
       "      <th>Year</th>\n",
       "      <th>Duration</th>\n",
       "      <th>Time_Signature</th>\n",
       "      <th>Danceability</th>\n",
       "      <th>Energy</th>\n",
       "      <th>Key</th>\n",
       "      <th>Loudness</th>\n",
       "      <th>Mode</th>\n",
       "      <th>Speechiness</th>\n",
       "      <th>Acousticness</th>\n",
       "      <th>Instrumentalness</th>\n",
       "      <th>Liveness</th>\n",
       "      <th>Valence</th>\n",
       "      <th>Tempo</th>\n",
       "      <th>Popularity</th>\n",
       "    </tr>\n",
       "  </thead>\n",
       "  <tbody>\n",
       "    <tr>\n",
       "      <th>250</th>\n",
       "      <td>I Like Girls</td>\n",
       "      <td>Fatback Band</td>\n",
       "      <td>Hustle! The Ultimate Fatback</td>\n",
       "      <td>1983</td>\n",
       "      <td>227946</td>\n",
       "      <td>5</td>\n",
       "      <td>0.716</td>\n",
       "      <td>0.928</td>\n",
       "      <td>5</td>\n",
       "      <td>-7.757</td>\n",
       "      <td>0</td>\n",
       "      <td>0.0923</td>\n",
       "      <td>0.0308</td>\n",
       "      <td>0.115</td>\n",
       "      <td>0.168</td>\n",
       "      <td>0.869</td>\n",
       "      <td>104.129</td>\n",
       "      <td>22</td>\n",
       "    </tr>\n",
       "  </tbody>\n",
       "</table>\n",
       "</div>"
      ],
      "text/plain": [
       "            Track        Artist                         Album  Year  Duration  \\\n",
       "250  I Like Girls  Fatback Band  Hustle! The Ultimate Fatback  1983    227946   \n",
       "\n",
       "     Time_Signature  Danceability  Energy  Key  Loudness  Mode  Speechiness  \\\n",
       "250               5         0.716   0.928    5    -7.757     0       0.0923   \n",
       "\n",
       "     Acousticness  Instrumentalness  Liveness  Valence    Tempo  Popularity  \n",
       "250        0.0308             0.115     0.168    0.869  104.129          22  "
      ]
     },
     "execution_count": 8,
     "metadata": {},
     "output_type": "execute_result"
    }
   ],
   "source": [
    "df[df['Time_Signature'] == 5]"
   ]
  },
  {
   "cell_type": "markdown",
   "id": "4b56df74",
   "metadata": {
    "papermill": {
     "duration": 0.013694,
     "end_time": "2024-09-02T15:27:37.541233",
     "exception": false,
     "start_time": "2024-09-02T15:27:37.527539",
     "status": "completed"
    },
    "tags": []
   },
   "source": [
    "How about other musical concepts we don't need to explain, like key and mode?"
   ]
  },
  {
   "cell_type": "code",
   "execution_count": 9,
   "id": "e53c5d5f",
   "metadata": {
    "execution": {
     "iopub.execute_input": "2024-09-02T15:27:37.571615Z",
     "iopub.status.busy": "2024-09-02T15:27:37.570814Z",
     "iopub.status.idle": "2024-09-02T15:27:37.643185Z",
     "shell.execute_reply": "2024-09-02T15:27:37.641884Z"
    },
    "papermill": {
     "duration": 0.090613,
     "end_time": "2024-09-02T15:27:37.645920",
     "exception": false,
     "start_time": "2024-09-02T15:27:37.555307",
     "status": "completed"
    },
    "tags": []
   },
   "outputs": [
    {
     "data": {
      "text/html": [
       "<div>                            <div id=\"e62de395-4ac1-4240-875e-3b3bb29f624a\" class=\"plotly-graph-div\" style=\"height:525px; width:100%;\"></div>            <script type=\"text/javascript\">                require([\"plotly\"], function(Plotly) {                    window.PLOTLYENV=window.PLOTLYENV || {};                                    if (document.getElementById(\"e62de395-4ac1-4240-875e-3b3bb29f624a\")) {                    Plotly.newPlot(                        \"e62de395-4ac1-4240-875e-3b3bb29f624a\",                        [{\"alignmentgroup\":\"True\",\"bingroup\":\"x\",\"hovertemplate\":\"Key=%{x}\\u003cbr\\u003ecount=%{y}\\u003cextra\\u003e\\u003c\\u002fextra\\u003e\",\"legendgroup\":\"\",\"marker\":{\"color\":\"#636efa\",\"pattern\":{\"shape\":\"\"}},\"name\":\"\",\"offsetgroup\":\"\",\"orientation\":\"v\",\"showlegend\":false,\"x\":[2,2,2,3,6,5,0,9,2,9,9,9,10,2,5,7,11,9,11,7,0,8,7,0,9,5,8,9,11,0,2,1,9,8,0,2,1,3,11,11,5,0,5,0,6,10,7,0,3,10,4,4,9,10,7,5,7,10,2,2,2,5,10,5,7,11,7,1,5,10,11,0,10,5,6,7,8,8,4,1,4,8,2,5,2,10,7,8,8,5,2,0,9,7,0,9,3,7,9,1,2,2,0,9,9,10,4,5,0,10,1,10,5,0,11,0,5,0,7,3,2,9,9,7,8,3,11,2,10,5,2,9,0,7,2,5,2,1,7,11,11,2,4,10,0,5,8,8,1,3,8,9,0,10,10,6,8,2,1,11,11,9,9,6,1,1,1,11,10,8,2,11,0,6,5,6,10,6,0,9,9,0,6,2,11,7,7,9,9,11,6,5,5,1,4,5,8,7,2,7,8,0,0,3,10,4,4,9,6,2,4,5,4,11,9,0,9,9,5,11,5,9,1,2,0,9,1,10,1,0,6,5,5,0,11,1,1,4,0,9,5,9,3,0,11,1,0,6,7,6,5,0,10,5,0,11,10,10,0,7,10,1,8,5,11,0,5,7,6,7,1,7,6,8,11,3,11,9,6,11,8,1,0,10,7,11,1,1,4,7,9,0,11,9,0,2,6,7,11,2,11,4,0,7,0,8,5,11,8,4,6,8,6,1,3,3,5,8,4,4,3,0,8,9,7,7,11,10,10,0,10,2,11,8,0,7,11,8,6,8,0,10,6,7,10,10,10,0,2,7,4,5,9,3,0,0,2,5,8,5,9,0,2,0,9,1,1,2,8,1,9,5,10,5,10,5,0,11,0,5,0,1,5,3,1,1,5,11,2,10,2,7,2,7,0,0,9,0,1,7,7,5,1,11,0,5,3,1,0,4,4,2,7,1,1,7,5,2,5,0,0,11,7,1,0,2,4,0,2,2,2,8,0,10,1,10,10,0,9,10,0,11,9,11,9,11,8,9,10,0,0,2,11,0,8,5,0,10,8,4,5,9,11,4,1,10,11,0,7,5,5,7,1,1,11,7,10,0,7,1,9,6,2,5,0,0,7,5,5,7,9,9,6,7,7,0,11,2,5,7,0,11,5,7,10,9,5,7,11,6,11,1,10,1,5,0,6,1,1,3,0,7,7,11,7,5,0,6,10,0,1,5,1,4,11,9,5,8,2,4,2,4,0,11,7,8,7,4,5,8,9,2,10,1,5,11,9,2,0,1,1,1,11,7,11,10,0,0,9,2,9,9,6,11,11,9,7,10,5,5,1,11,1,9,1,0,0,8,4,4,10,0,0,10,9,0,5,7,5,0,5,4,1,0,5,10,9,11,6,5,11,1,11,1,11,5,0,0,11,4,9,10,6,8,2,0,7,7,7,0,11,5,0,11,7,8,5,1,10,9,3,4,10,0,3,10,7,7,9,0,6,8,9,4,9,5,10,10,5,4,5,6,5,0,2,10,11,5,0,5,5,5,0,0,10,0,2,5,10,0,11,2,0,2,7,1,2,4,7,7,6,2,2,2,9,4,11,3,11,0,7,5,9,0,4,5,7,0,1,9,7,5,5,1,6,0,9,10,0,5,8,10,5,2],\"xaxis\":\"x\",\"yaxis\":\"y\",\"type\":\"histogram\"}],                        {\"template\":{\"data\":{\"histogram2dcontour\":[{\"type\":\"histogram2dcontour\",\"colorbar\":{\"outlinewidth\":0,\"ticks\":\"\"},\"colorscale\":[[0.0,\"#0d0887\"],[0.1111111111111111,\"#46039f\"],[0.2222222222222222,\"#7201a8\"],[0.3333333333333333,\"#9c179e\"],[0.4444444444444444,\"#bd3786\"],[0.5555555555555556,\"#d8576b\"],[0.6666666666666666,\"#ed7953\"],[0.7777777777777778,\"#fb9f3a\"],[0.8888888888888888,\"#fdca26\"],[1.0,\"#f0f921\"]]}],\"choropleth\":[{\"type\":\"choropleth\",\"colorbar\":{\"outlinewidth\":0,\"ticks\":\"\"}}],\"histogram2d\":[{\"type\":\"histogram2d\",\"colorbar\":{\"outlinewidth\":0,\"ticks\":\"\"},\"colorscale\":[[0.0,\"#0d0887\"],[0.1111111111111111,\"#46039f\"],[0.2222222222222222,\"#7201a8\"],[0.3333333333333333,\"#9c179e\"],[0.4444444444444444,\"#bd3786\"],[0.5555555555555556,\"#d8576b\"],[0.6666666666666666,\"#ed7953\"],[0.7777777777777778,\"#fb9f3a\"],[0.8888888888888888,\"#fdca26\"],[1.0,\"#f0f921\"]]}],\"heatmap\":[{\"type\":\"heatmap\",\"colorbar\":{\"outlinewidth\":0,\"ticks\":\"\"},\"colorscale\":[[0.0,\"#0d0887\"],[0.1111111111111111,\"#46039f\"],[0.2222222222222222,\"#7201a8\"],[0.3333333333333333,\"#9c179e\"],[0.4444444444444444,\"#bd3786\"],[0.5555555555555556,\"#d8576b\"],[0.6666666666666666,\"#ed7953\"],[0.7777777777777778,\"#fb9f3a\"],[0.8888888888888888,\"#fdca26\"],[1.0,\"#f0f921\"]]}],\"heatmapgl\":[{\"type\":\"heatmapgl\",\"colorbar\":{\"outlinewidth\":0,\"ticks\":\"\"},\"colorscale\":[[0.0,\"#0d0887\"],[0.1111111111111111,\"#46039f\"],[0.2222222222222222,\"#7201a8\"],[0.3333333333333333,\"#9c179e\"],[0.4444444444444444,\"#bd3786\"],[0.5555555555555556,\"#d8576b\"],[0.6666666666666666,\"#ed7953\"],[0.7777777777777778,\"#fb9f3a\"],[0.8888888888888888,\"#fdca26\"],[1.0,\"#f0f921\"]]}],\"contourcarpet\":[{\"type\":\"contourcarpet\",\"colorbar\":{\"outlinewidth\":0,\"ticks\":\"\"}}],\"contour\":[{\"type\":\"contour\",\"colorbar\":{\"outlinewidth\":0,\"ticks\":\"\"},\"colorscale\":[[0.0,\"#0d0887\"],[0.1111111111111111,\"#46039f\"],[0.2222222222222222,\"#7201a8\"],[0.3333333333333333,\"#9c179e\"],[0.4444444444444444,\"#bd3786\"],[0.5555555555555556,\"#d8576b\"],[0.6666666666666666,\"#ed7953\"],[0.7777777777777778,\"#fb9f3a\"],[0.8888888888888888,\"#fdca26\"],[1.0,\"#f0f921\"]]}],\"surface\":[{\"type\":\"surface\",\"colorbar\":{\"outlinewidth\":0,\"ticks\":\"\"},\"colorscale\":[[0.0,\"#0d0887\"],[0.1111111111111111,\"#46039f\"],[0.2222222222222222,\"#7201a8\"],[0.3333333333333333,\"#9c179e\"],[0.4444444444444444,\"#bd3786\"],[0.5555555555555556,\"#d8576b\"],[0.6666666666666666,\"#ed7953\"],[0.7777777777777778,\"#fb9f3a\"],[0.8888888888888888,\"#fdca26\"],[1.0,\"#f0f921\"]]}],\"mesh3d\":[{\"type\":\"mesh3d\",\"colorbar\":{\"outlinewidth\":0,\"ticks\":\"\"}}],\"scatter\":[{\"fillpattern\":{\"fillmode\":\"overlay\",\"size\":10,\"solidity\":0.2},\"type\":\"scatter\"}],\"parcoords\":[{\"type\":\"parcoords\",\"line\":{\"colorbar\":{\"outlinewidth\":0,\"ticks\":\"\"}}}],\"scatterpolargl\":[{\"type\":\"scatterpolargl\",\"marker\":{\"colorbar\":{\"outlinewidth\":0,\"ticks\":\"\"}}}],\"bar\":[{\"error_x\":{\"color\":\"#2a3f5f\"},\"error_y\":{\"color\":\"#2a3f5f\"},\"marker\":{\"line\":{\"color\":\"#E5ECF6\",\"width\":0.5},\"pattern\":{\"fillmode\":\"overlay\",\"size\":10,\"solidity\":0.2}},\"type\":\"bar\"}],\"scattergeo\":[{\"type\":\"scattergeo\",\"marker\":{\"colorbar\":{\"outlinewidth\":0,\"ticks\":\"\"}}}],\"scatterpolar\":[{\"type\":\"scatterpolar\",\"marker\":{\"colorbar\":{\"outlinewidth\":0,\"ticks\":\"\"}}}],\"histogram\":[{\"marker\":{\"pattern\":{\"fillmode\":\"overlay\",\"size\":10,\"solidity\":0.2}},\"type\":\"histogram\"}],\"scattergl\":[{\"type\":\"scattergl\",\"marker\":{\"colorbar\":{\"outlinewidth\":0,\"ticks\":\"\"}}}],\"scatter3d\":[{\"type\":\"scatter3d\",\"line\":{\"colorbar\":{\"outlinewidth\":0,\"ticks\":\"\"}},\"marker\":{\"colorbar\":{\"outlinewidth\":0,\"ticks\":\"\"}}}],\"scattermapbox\":[{\"type\":\"scattermapbox\",\"marker\":{\"colorbar\":{\"outlinewidth\":0,\"ticks\":\"\"}}}],\"scatterternary\":[{\"type\":\"scatterternary\",\"marker\":{\"colorbar\":{\"outlinewidth\":0,\"ticks\":\"\"}}}],\"scattercarpet\":[{\"type\":\"scattercarpet\",\"marker\":{\"colorbar\":{\"outlinewidth\":0,\"ticks\":\"\"}}}],\"carpet\":[{\"aaxis\":{\"endlinecolor\":\"#2a3f5f\",\"gridcolor\":\"white\",\"linecolor\":\"white\",\"minorgridcolor\":\"white\",\"startlinecolor\":\"#2a3f5f\"},\"baxis\":{\"endlinecolor\":\"#2a3f5f\",\"gridcolor\":\"white\",\"linecolor\":\"white\",\"minorgridcolor\":\"white\",\"startlinecolor\":\"#2a3f5f\"},\"type\":\"carpet\"}],\"table\":[{\"cells\":{\"fill\":{\"color\":\"#EBF0F8\"},\"line\":{\"color\":\"white\"}},\"header\":{\"fill\":{\"color\":\"#C8D4E3\"},\"line\":{\"color\":\"white\"}},\"type\":\"table\"}],\"barpolar\":[{\"marker\":{\"line\":{\"color\":\"#E5ECF6\",\"width\":0.5},\"pattern\":{\"fillmode\":\"overlay\",\"size\":10,\"solidity\":0.2}},\"type\":\"barpolar\"}],\"pie\":[{\"automargin\":true,\"type\":\"pie\"}]},\"layout\":{\"autotypenumbers\":\"strict\",\"colorway\":[\"#636efa\",\"#EF553B\",\"#00cc96\",\"#ab63fa\",\"#FFA15A\",\"#19d3f3\",\"#FF6692\",\"#B6E880\",\"#FF97FF\",\"#FECB52\"],\"font\":{\"color\":\"#2a3f5f\"},\"hovermode\":\"closest\",\"hoverlabel\":{\"align\":\"left\"},\"paper_bgcolor\":\"white\",\"plot_bgcolor\":\"#E5ECF6\",\"polar\":{\"bgcolor\":\"#E5ECF6\",\"angularaxis\":{\"gridcolor\":\"white\",\"linecolor\":\"white\",\"ticks\":\"\"},\"radialaxis\":{\"gridcolor\":\"white\",\"linecolor\":\"white\",\"ticks\":\"\"}},\"ternary\":{\"bgcolor\":\"#E5ECF6\",\"aaxis\":{\"gridcolor\":\"white\",\"linecolor\":\"white\",\"ticks\":\"\"},\"baxis\":{\"gridcolor\":\"white\",\"linecolor\":\"white\",\"ticks\":\"\"},\"caxis\":{\"gridcolor\":\"white\",\"linecolor\":\"white\",\"ticks\":\"\"}},\"coloraxis\":{\"colorbar\":{\"outlinewidth\":0,\"ticks\":\"\"}},\"colorscale\":{\"sequential\":[[0.0,\"#0d0887\"],[0.1111111111111111,\"#46039f\"],[0.2222222222222222,\"#7201a8\"],[0.3333333333333333,\"#9c179e\"],[0.4444444444444444,\"#bd3786\"],[0.5555555555555556,\"#d8576b\"],[0.6666666666666666,\"#ed7953\"],[0.7777777777777778,\"#fb9f3a\"],[0.8888888888888888,\"#fdca26\"],[1.0,\"#f0f921\"]],\"sequentialminus\":[[0.0,\"#0d0887\"],[0.1111111111111111,\"#46039f\"],[0.2222222222222222,\"#7201a8\"],[0.3333333333333333,\"#9c179e\"],[0.4444444444444444,\"#bd3786\"],[0.5555555555555556,\"#d8576b\"],[0.6666666666666666,\"#ed7953\"],[0.7777777777777778,\"#fb9f3a\"],[0.8888888888888888,\"#fdca26\"],[1.0,\"#f0f921\"]],\"diverging\":[[0,\"#8e0152\"],[0.1,\"#c51b7d\"],[0.2,\"#de77ae\"],[0.3,\"#f1b6da\"],[0.4,\"#fde0ef\"],[0.5,\"#f7f7f7\"],[0.6,\"#e6f5d0\"],[0.7,\"#b8e186\"],[0.8,\"#7fbc41\"],[0.9,\"#4d9221\"],[1,\"#276419\"]]},\"xaxis\":{\"gridcolor\":\"white\",\"linecolor\":\"white\",\"ticks\":\"\",\"title\":{\"standoff\":15},\"zerolinecolor\":\"white\",\"automargin\":true,\"zerolinewidth\":2},\"yaxis\":{\"gridcolor\":\"white\",\"linecolor\":\"white\",\"ticks\":\"\",\"title\":{\"standoff\":15},\"zerolinecolor\":\"white\",\"automargin\":true,\"zerolinewidth\":2},\"scene\":{\"xaxis\":{\"backgroundcolor\":\"#E5ECF6\",\"gridcolor\":\"white\",\"linecolor\":\"white\",\"showbackground\":true,\"ticks\":\"\",\"zerolinecolor\":\"white\",\"gridwidth\":2},\"yaxis\":{\"backgroundcolor\":\"#E5ECF6\",\"gridcolor\":\"white\",\"linecolor\":\"white\",\"showbackground\":true,\"ticks\":\"\",\"zerolinecolor\":\"white\",\"gridwidth\":2},\"zaxis\":{\"backgroundcolor\":\"#E5ECF6\",\"gridcolor\":\"white\",\"linecolor\":\"white\",\"showbackground\":true,\"ticks\":\"\",\"zerolinecolor\":\"white\",\"gridwidth\":2}},\"shapedefaults\":{\"line\":{\"color\":\"#2a3f5f\"}},\"annotationdefaults\":{\"arrowcolor\":\"#2a3f5f\",\"arrowhead\":0,\"arrowwidth\":1},\"geo\":{\"bgcolor\":\"white\",\"landcolor\":\"#E5ECF6\",\"subunitcolor\":\"white\",\"showland\":true,\"showlakes\":true,\"lakecolor\":\"white\"},\"title\":{\"x\":0.05},\"mapbox\":{\"style\":\"light\"}}},\"xaxis\":{\"anchor\":\"y\",\"domain\":[0.0,1.0],\"title\":{\"text\":\"Key\"}},\"yaxis\":{\"anchor\":\"x\",\"domain\":[0.0,1.0],\"title\":{\"text\":\"count\"}},\"legend\":{\"tracegroupgap\":0},\"margin\":{\"t\":60},\"barmode\":\"relative\"},                        {\"responsive\": true}                    ).then(function(){\n",
       "                            \n",
       "var gd = document.getElementById('e62de395-4ac1-4240-875e-3b3bb29f624a');\n",
       "var x = new MutationObserver(function (mutations, observer) {{\n",
       "        var display = window.getComputedStyle(gd).display;\n",
       "        if (!display || display === 'none') {{\n",
       "            console.log([gd, 'removed!']);\n",
       "            Plotly.purge(gd);\n",
       "            observer.disconnect();\n",
       "        }}\n",
       "}});\n",
       "\n",
       "// Listen for the removal of the full notebook cells\n",
       "var notebookContainer = gd.closest('#notebook-container');\n",
       "if (notebookContainer) {{\n",
       "    x.observe(notebookContainer, {childList: true});\n",
       "}}\n",
       "\n",
       "// Listen for the clearing of the current output cell\n",
       "var outputEl = gd.closest('.output');\n",
       "if (outputEl) {{\n",
       "    x.observe(outputEl, {childList: true});\n",
       "}}\n",
       "\n",
       "                        })                };                });            </script>        </div>"
      ]
     },
     "metadata": {},
     "output_type": "display_data"
    }
   ],
   "source": [
    "express.histogram(data_frame=df, x='Key')"
   ]
  },
  {
   "cell_type": "markdown",
   "id": "a7a8217b",
   "metadata": {
    "papermill": {
     "duration": 0.016543,
     "end_time": "2024-09-02T15:27:37.677212",
     "exception": false,
     "start_time": "2024-09-02T15:27:37.660669",
     "status": "completed"
    },
    "tags": []
   },
   "source": [
    "We only have 12 values for Key, so our dataset must be lumping major and minor keys together; a few web searches suggest that 0 = C, so our most popular key is C/Cm, and our least popular is D sharp/E flat."
   ]
  },
  {
   "cell_type": "code",
   "execution_count": 10,
   "id": "70b0ae3a",
   "metadata": {
    "execution": {
     "iopub.execute_input": "2024-09-02T15:27:37.708975Z",
     "iopub.status.busy": "2024-09-02T15:27:37.708475Z",
     "iopub.status.idle": "2024-09-02T15:27:37.717908Z",
     "shell.execute_reply": "2024-09-02T15:27:37.716638Z"
    },
    "papermill": {
     "duration": 0.028478,
     "end_time": "2024-09-02T15:27:37.720537",
     "exception": false,
     "start_time": "2024-09-02T15:27:37.692059",
     "status": "completed"
    },
    "tags": []
   },
   "outputs": [
    {
     "data": {
      "text/plain": [
       "{1: 416, 0: 308}"
      ]
     },
     "execution_count": 10,
     "metadata": {},
     "output_type": "execute_result"
    }
   ],
   "source": [
    "df['Mode'].value_counts().to_dict()"
   ]
  },
  {
   "cell_type": "markdown",
   "id": "943629f0",
   "metadata": {
    "papermill": {
     "duration": 0.014208,
     "end_time": "2024-09-02T15:27:37.749510",
     "exception": false,
     "start_time": "2024-09-02T15:27:37.735302",
     "status": "completed"
    },
    "tags": []
   },
   "source": [
    "We only have two values for Mode. Ionian/major and Aeolian/minor, maybe? "
   ]
  },
  {
   "cell_type": "code",
   "execution_count": 11,
   "id": "8a511a81",
   "metadata": {
    "execution": {
     "iopub.execute_input": "2024-09-02T15:27:37.781108Z",
     "iopub.status.busy": "2024-09-02T15:27:37.780144Z",
     "iopub.status.idle": "2024-09-02T15:27:37.875687Z",
     "shell.execute_reply": "2024-09-02T15:27:37.874457Z"
    },
    "papermill": {
     "duration": 0.114483,
     "end_time": "2024-09-02T15:27:37.878630",
     "exception": false,
     "start_time": "2024-09-02T15:27:37.764147",
     "status": "completed"
    },
    "tags": []
   },
   "outputs": [
    {
     "data": {
      "text/html": [
       "<div>                            <div id=\"5b6bf3c0-5269-4e65-bc44-a3c73b23bf9f\" class=\"plotly-graph-div\" style=\"height:525px; width:100%;\"></div>            <script type=\"text/javascript\">                require([\"plotly\"], function(Plotly) {                    window.PLOTLYENV=window.PLOTLYENV || {};                                    if (document.getElementById(\"5b6bf3c0-5269-4e65-bc44-a3c73b23bf9f\")) {                    Plotly.newPlot(                        \"5b6bf3c0-5269-4e65-bc44-a3c73b23bf9f\",                        [{\"alignmentgroup\":\"True\",\"bingroup\":\"x\",\"hovertemplate\":\"Mode=0\\u003cbr\\u003eKey=%{x}\\u003cbr\\u003ecount=%{y}\\u003cextra\\u003e\\u003c\\u002fextra\\u003e\",\"legendgroup\":\"0\",\"marker\":{\"color\":\"#636efa\",\"pattern\":{\"shape\":\"\"}},\"name\":\"0\",\"offsetgroup\":\"0\",\"orientation\":\"v\",\"showlegend\":true,\"x\":[2,3,5,0,7,11,8,9,9,11,8,3,11,11,5,6,7,3,10,4,10,7,2,2,2,10,5,7,11,1,10,11,4,5,2,0,7,1,2,9,10,4,5,1,0,11,0,5,0,9,7,3,10,9,2,1,7,11,4,10,0,3,10,10,11,11,1,1,1,11,11,6,5,6,10,6,9,6,11,7,4,5,7,2,4,4,2,4,5,11,11,5,2,0,0,11,4,9,5,9,3,11,1,7,6,5,5,0,10,10,7,10,8,5,11,5,7,6,11,11,9,11,10,11,4,9,11,11,0,5,11,8,4,4,0,8,9,10,10,10,11,11,8,6,7,10,10,2,4,5,9,0,0,2,5,9,1,1,5,0,11,0,5,0,1,3,1,11,2,7,2,7,0,9,0,7,5,5,3,2,2,11,1,2,0,10,10,0,10,11,9,8,9,10,11,8,5,10,8,5,4,10,11,7,1,11,10,9,0,0,7,9,7,11,7,10,5,6,10,1,5,0,0,7,5,6,10,1,5,4,9,5,8,2,4,11,8,7,5,9,5,11,9,1,11,11,9,9,6,11,11,5,5,1,9,8,4,4,0,9,5,4,0,5,10,11,11,1,11,9,10,8,7,11,5,11,8,9,3,9,0,6,4,5,5,4,5,0,11,5,5,5,0,10,5,11,1,6,4,11,3,11,4,5,7,7,9,10],\"xaxis\":\"x\",\"yaxis\":\"y\",\"type\":\"histogram\"},{\"alignmentgroup\":\"True\",\"bingroup\":\"x\",\"hovertemplate\":\"Mode=1\\u003cbr\\u003eKey=%{x}\\u003cbr\\u003ecount=%{y}\\u003cextra\\u003e\\u003c\\u002fextra\\u003e\",\"legendgroup\":\"1\",\"marker\":{\"color\":\"#EF553B\",\"pattern\":{\"shape\":\"\"}},\"name\":\"1\",\"offsetgroup\":\"1\",\"orientation\":\"v\",\"showlegend\":true,\"x\":[2,2,6,9,2,9,9,9,10,2,5,11,9,7,0,7,0,5,8,0,2,1,9,0,2,1,5,0,0,10,0,4,9,7,5,10,5,7,5,0,10,5,6,7,8,8,4,1,8,2,5,2,10,7,8,8,0,9,7,9,3,9,2,0,9,0,10,10,5,7,3,2,9,8,11,2,5,2,0,7,2,5,11,2,5,8,8,1,8,9,0,6,8,2,1,9,9,6,10,8,2,0,0,9,0,2,7,9,9,11,6,5,5,1,8,7,8,0,0,3,10,9,6,4,9,0,9,9,5,9,1,9,1,10,1,6,5,5,0,1,1,0,0,0,6,0,10,11,0,1,0,7,6,7,1,8,3,6,8,1,0,7,1,1,7,9,0,11,0,2,6,7,2,4,7,0,8,8,4,6,6,1,3,3,5,8,3,7,7,11,0,2,8,0,7,8,6,0,10,10,0,7,3,5,8,9,0,2,0,1,2,8,9,5,10,5,10,5,1,5,2,10,0,1,7,1,11,0,1,0,4,4,7,1,1,7,5,5,0,0,7,0,2,4,0,2,2,8,10,1,9,0,11,9,11,0,0,2,0,0,4,9,11,1,0,5,5,7,1,7,0,7,1,6,2,5,7,5,5,9,6,7,0,2,5,0,11,5,7,9,7,11,11,1,6,1,1,3,7,7,11,0,0,1,11,4,2,0,7,4,8,2,10,1,2,0,1,1,7,10,0,0,2,9,9,7,10,1,11,1,0,0,10,0,10,0,5,7,0,5,1,9,6,5,1,11,5,0,0,11,4,6,2,0,7,7,0,0,7,5,1,10,3,4,10,0,10,7,7,8,9,9,10,10,6,5,2,10,0,5,0,0,2,10,0,2,0,2,7,2,4,7,7,2,2,2,9,0,7,5,9,0,0,1,9,5,5,1,6,0,0,5,8,10,5,2],\"xaxis\":\"x\",\"yaxis\":\"y\",\"type\":\"histogram\"}],                        {\"template\":{\"data\":{\"histogram2dcontour\":[{\"type\":\"histogram2dcontour\",\"colorbar\":{\"outlinewidth\":0,\"ticks\":\"\"},\"colorscale\":[[0.0,\"#0d0887\"],[0.1111111111111111,\"#46039f\"],[0.2222222222222222,\"#7201a8\"],[0.3333333333333333,\"#9c179e\"],[0.4444444444444444,\"#bd3786\"],[0.5555555555555556,\"#d8576b\"],[0.6666666666666666,\"#ed7953\"],[0.7777777777777778,\"#fb9f3a\"],[0.8888888888888888,\"#fdca26\"],[1.0,\"#f0f921\"]]}],\"choropleth\":[{\"type\":\"choropleth\",\"colorbar\":{\"outlinewidth\":0,\"ticks\":\"\"}}],\"histogram2d\":[{\"type\":\"histogram2d\",\"colorbar\":{\"outlinewidth\":0,\"ticks\":\"\"},\"colorscale\":[[0.0,\"#0d0887\"],[0.1111111111111111,\"#46039f\"],[0.2222222222222222,\"#7201a8\"],[0.3333333333333333,\"#9c179e\"],[0.4444444444444444,\"#bd3786\"],[0.5555555555555556,\"#d8576b\"],[0.6666666666666666,\"#ed7953\"],[0.7777777777777778,\"#fb9f3a\"],[0.8888888888888888,\"#fdca26\"],[1.0,\"#f0f921\"]]}],\"heatmap\":[{\"type\":\"heatmap\",\"colorbar\":{\"outlinewidth\":0,\"ticks\":\"\"},\"colorscale\":[[0.0,\"#0d0887\"],[0.1111111111111111,\"#46039f\"],[0.2222222222222222,\"#7201a8\"],[0.3333333333333333,\"#9c179e\"],[0.4444444444444444,\"#bd3786\"],[0.5555555555555556,\"#d8576b\"],[0.6666666666666666,\"#ed7953\"],[0.7777777777777778,\"#fb9f3a\"],[0.8888888888888888,\"#fdca26\"],[1.0,\"#f0f921\"]]}],\"heatmapgl\":[{\"type\":\"heatmapgl\",\"colorbar\":{\"outlinewidth\":0,\"ticks\":\"\"},\"colorscale\":[[0.0,\"#0d0887\"],[0.1111111111111111,\"#46039f\"],[0.2222222222222222,\"#7201a8\"],[0.3333333333333333,\"#9c179e\"],[0.4444444444444444,\"#bd3786\"],[0.5555555555555556,\"#d8576b\"],[0.6666666666666666,\"#ed7953\"],[0.7777777777777778,\"#fb9f3a\"],[0.8888888888888888,\"#fdca26\"],[1.0,\"#f0f921\"]]}],\"contourcarpet\":[{\"type\":\"contourcarpet\",\"colorbar\":{\"outlinewidth\":0,\"ticks\":\"\"}}],\"contour\":[{\"type\":\"contour\",\"colorbar\":{\"outlinewidth\":0,\"ticks\":\"\"},\"colorscale\":[[0.0,\"#0d0887\"],[0.1111111111111111,\"#46039f\"],[0.2222222222222222,\"#7201a8\"],[0.3333333333333333,\"#9c179e\"],[0.4444444444444444,\"#bd3786\"],[0.5555555555555556,\"#d8576b\"],[0.6666666666666666,\"#ed7953\"],[0.7777777777777778,\"#fb9f3a\"],[0.8888888888888888,\"#fdca26\"],[1.0,\"#f0f921\"]]}],\"surface\":[{\"type\":\"surface\",\"colorbar\":{\"outlinewidth\":0,\"ticks\":\"\"},\"colorscale\":[[0.0,\"#0d0887\"],[0.1111111111111111,\"#46039f\"],[0.2222222222222222,\"#7201a8\"],[0.3333333333333333,\"#9c179e\"],[0.4444444444444444,\"#bd3786\"],[0.5555555555555556,\"#d8576b\"],[0.6666666666666666,\"#ed7953\"],[0.7777777777777778,\"#fb9f3a\"],[0.8888888888888888,\"#fdca26\"],[1.0,\"#f0f921\"]]}],\"mesh3d\":[{\"type\":\"mesh3d\",\"colorbar\":{\"outlinewidth\":0,\"ticks\":\"\"}}],\"scatter\":[{\"fillpattern\":{\"fillmode\":\"overlay\",\"size\":10,\"solidity\":0.2},\"type\":\"scatter\"}],\"parcoords\":[{\"type\":\"parcoords\",\"line\":{\"colorbar\":{\"outlinewidth\":0,\"ticks\":\"\"}}}],\"scatterpolargl\":[{\"type\":\"scatterpolargl\",\"marker\":{\"colorbar\":{\"outlinewidth\":0,\"ticks\":\"\"}}}],\"bar\":[{\"error_x\":{\"color\":\"#2a3f5f\"},\"error_y\":{\"color\":\"#2a3f5f\"},\"marker\":{\"line\":{\"color\":\"#E5ECF6\",\"width\":0.5},\"pattern\":{\"fillmode\":\"overlay\",\"size\":10,\"solidity\":0.2}},\"type\":\"bar\"}],\"scattergeo\":[{\"type\":\"scattergeo\",\"marker\":{\"colorbar\":{\"outlinewidth\":0,\"ticks\":\"\"}}}],\"scatterpolar\":[{\"type\":\"scatterpolar\",\"marker\":{\"colorbar\":{\"outlinewidth\":0,\"ticks\":\"\"}}}],\"histogram\":[{\"marker\":{\"pattern\":{\"fillmode\":\"overlay\",\"size\":10,\"solidity\":0.2}},\"type\":\"histogram\"}],\"scattergl\":[{\"type\":\"scattergl\",\"marker\":{\"colorbar\":{\"outlinewidth\":0,\"ticks\":\"\"}}}],\"scatter3d\":[{\"type\":\"scatter3d\",\"line\":{\"colorbar\":{\"outlinewidth\":0,\"ticks\":\"\"}},\"marker\":{\"colorbar\":{\"outlinewidth\":0,\"ticks\":\"\"}}}],\"scattermapbox\":[{\"type\":\"scattermapbox\",\"marker\":{\"colorbar\":{\"outlinewidth\":0,\"ticks\":\"\"}}}],\"scatterternary\":[{\"type\":\"scatterternary\",\"marker\":{\"colorbar\":{\"outlinewidth\":0,\"ticks\":\"\"}}}],\"scattercarpet\":[{\"type\":\"scattercarpet\",\"marker\":{\"colorbar\":{\"outlinewidth\":0,\"ticks\":\"\"}}}],\"carpet\":[{\"aaxis\":{\"endlinecolor\":\"#2a3f5f\",\"gridcolor\":\"white\",\"linecolor\":\"white\",\"minorgridcolor\":\"white\",\"startlinecolor\":\"#2a3f5f\"},\"baxis\":{\"endlinecolor\":\"#2a3f5f\",\"gridcolor\":\"white\",\"linecolor\":\"white\",\"minorgridcolor\":\"white\",\"startlinecolor\":\"#2a3f5f\"},\"type\":\"carpet\"}],\"table\":[{\"cells\":{\"fill\":{\"color\":\"#EBF0F8\"},\"line\":{\"color\":\"white\"}},\"header\":{\"fill\":{\"color\":\"#C8D4E3\"},\"line\":{\"color\":\"white\"}},\"type\":\"table\"}],\"barpolar\":[{\"marker\":{\"line\":{\"color\":\"#E5ECF6\",\"width\":0.5},\"pattern\":{\"fillmode\":\"overlay\",\"size\":10,\"solidity\":0.2}},\"type\":\"barpolar\"}],\"pie\":[{\"automargin\":true,\"type\":\"pie\"}]},\"layout\":{\"autotypenumbers\":\"strict\",\"colorway\":[\"#636efa\",\"#EF553B\",\"#00cc96\",\"#ab63fa\",\"#FFA15A\",\"#19d3f3\",\"#FF6692\",\"#B6E880\",\"#FF97FF\",\"#FECB52\"],\"font\":{\"color\":\"#2a3f5f\"},\"hovermode\":\"closest\",\"hoverlabel\":{\"align\":\"left\"},\"paper_bgcolor\":\"white\",\"plot_bgcolor\":\"#E5ECF6\",\"polar\":{\"bgcolor\":\"#E5ECF6\",\"angularaxis\":{\"gridcolor\":\"white\",\"linecolor\":\"white\",\"ticks\":\"\"},\"radialaxis\":{\"gridcolor\":\"white\",\"linecolor\":\"white\",\"ticks\":\"\"}},\"ternary\":{\"bgcolor\":\"#E5ECF6\",\"aaxis\":{\"gridcolor\":\"white\",\"linecolor\":\"white\",\"ticks\":\"\"},\"baxis\":{\"gridcolor\":\"white\",\"linecolor\":\"white\",\"ticks\":\"\"},\"caxis\":{\"gridcolor\":\"white\",\"linecolor\":\"white\",\"ticks\":\"\"}},\"coloraxis\":{\"colorbar\":{\"outlinewidth\":0,\"ticks\":\"\"}},\"colorscale\":{\"sequential\":[[0.0,\"#0d0887\"],[0.1111111111111111,\"#46039f\"],[0.2222222222222222,\"#7201a8\"],[0.3333333333333333,\"#9c179e\"],[0.4444444444444444,\"#bd3786\"],[0.5555555555555556,\"#d8576b\"],[0.6666666666666666,\"#ed7953\"],[0.7777777777777778,\"#fb9f3a\"],[0.8888888888888888,\"#fdca26\"],[1.0,\"#f0f921\"]],\"sequentialminus\":[[0.0,\"#0d0887\"],[0.1111111111111111,\"#46039f\"],[0.2222222222222222,\"#7201a8\"],[0.3333333333333333,\"#9c179e\"],[0.4444444444444444,\"#bd3786\"],[0.5555555555555556,\"#d8576b\"],[0.6666666666666666,\"#ed7953\"],[0.7777777777777778,\"#fb9f3a\"],[0.8888888888888888,\"#fdca26\"],[1.0,\"#f0f921\"]],\"diverging\":[[0,\"#8e0152\"],[0.1,\"#c51b7d\"],[0.2,\"#de77ae\"],[0.3,\"#f1b6da\"],[0.4,\"#fde0ef\"],[0.5,\"#f7f7f7\"],[0.6,\"#e6f5d0\"],[0.7,\"#b8e186\"],[0.8,\"#7fbc41\"],[0.9,\"#4d9221\"],[1,\"#276419\"]]},\"xaxis\":{\"gridcolor\":\"white\",\"linecolor\":\"white\",\"ticks\":\"\",\"title\":{\"standoff\":15},\"zerolinecolor\":\"white\",\"automargin\":true,\"zerolinewidth\":2},\"yaxis\":{\"gridcolor\":\"white\",\"linecolor\":\"white\",\"ticks\":\"\",\"title\":{\"standoff\":15},\"zerolinecolor\":\"white\",\"automargin\":true,\"zerolinewidth\":2},\"scene\":{\"xaxis\":{\"backgroundcolor\":\"#E5ECF6\",\"gridcolor\":\"white\",\"linecolor\":\"white\",\"showbackground\":true,\"ticks\":\"\",\"zerolinecolor\":\"white\",\"gridwidth\":2},\"yaxis\":{\"backgroundcolor\":\"#E5ECF6\",\"gridcolor\":\"white\",\"linecolor\":\"white\",\"showbackground\":true,\"ticks\":\"\",\"zerolinecolor\":\"white\",\"gridwidth\":2},\"zaxis\":{\"backgroundcolor\":\"#E5ECF6\",\"gridcolor\":\"white\",\"linecolor\":\"white\",\"showbackground\":true,\"ticks\":\"\",\"zerolinecolor\":\"white\",\"gridwidth\":2}},\"shapedefaults\":{\"line\":{\"color\":\"#2a3f5f\"}},\"annotationdefaults\":{\"arrowcolor\":\"#2a3f5f\",\"arrowhead\":0,\"arrowwidth\":1},\"geo\":{\"bgcolor\":\"white\",\"landcolor\":\"#E5ECF6\",\"subunitcolor\":\"white\",\"showland\":true,\"showlakes\":true,\"lakecolor\":\"white\"},\"title\":{\"x\":0.05},\"mapbox\":{\"style\":\"light\"}}},\"xaxis\":{\"anchor\":\"y\",\"domain\":[0.0,1.0],\"title\":{\"text\":\"Key\"}},\"yaxis\":{\"anchor\":\"x\",\"domain\":[0.0,1.0],\"title\":{\"text\":\"count\"}},\"legend\":{\"title\":{\"text\":\"Mode\"},\"tracegroupgap\":0},\"margin\":{\"t\":60},\"barmode\":\"relative\"},                        {\"responsive\": true}                    ).then(function(){\n",
       "                            \n",
       "var gd = document.getElementById('5b6bf3c0-5269-4e65-bc44-a3c73b23bf9f');\n",
       "var x = new MutationObserver(function (mutations, observer) {{\n",
       "        var display = window.getComputedStyle(gd).display;\n",
       "        if (!display || display === 'none') {{\n",
       "            console.log([gd, 'removed!']);\n",
       "            Plotly.purge(gd);\n",
       "            observer.disconnect();\n",
       "        }}\n",
       "}});\n",
       "\n",
       "// Listen for the removal of the full notebook cells\n",
       "var notebookContainer = gd.closest('#notebook-container');\n",
       "if (notebookContainer) {{\n",
       "    x.observe(notebookContainer, {childList: true});\n",
       "}}\n",
       "\n",
       "// Listen for the clearing of the current output cell\n",
       "var outputEl = gd.closest('.output');\n",
       "if (outputEl) {{\n",
       "    x.observe(outputEl, {childList: true});\n",
       "}}\n",
       "\n",
       "                        })                };                });            </script>        </div>"
      ]
     },
     "metadata": {},
     "output_type": "display_data"
    }
   ],
   "source": [
    "express.histogram(data_frame=df, x='Key', color='Mode')"
   ]
  },
  {
   "cell_type": "markdown",
   "id": "77d00011",
   "metadata": {
    "papermill": {
     "duration": 0.014542,
     "end_time": "2024-09-02T15:27:37.908355",
     "exception": false,
     "start_time": "2024-09-02T15:27:37.893813",
     "status": "completed"
    },
    "tags": []
   },
   "source": [
    "It looks like 0 is minor and 1 is major. Would you have guessed that songs in B minor would outnumber songs in D major in this dataset?"
   ]
  },
  {
   "cell_type": "code",
   "execution_count": 12,
   "id": "980304c6",
   "metadata": {
    "execution": {
     "iopub.execute_input": "2024-09-02T15:27:37.941156Z",
     "iopub.status.busy": "2024-09-02T15:27:37.939640Z",
     "iopub.status.idle": "2024-09-02T15:27:38.013322Z",
     "shell.execute_reply": "2024-09-02T15:27:38.012024Z"
    },
    "papermill": {
     "duration": 0.092803,
     "end_time": "2024-09-02T15:27:38.016138",
     "exception": false,
     "start_time": "2024-09-02T15:27:37.923335",
     "status": "completed"
    },
    "tags": []
   },
   "outputs": [
    {
     "data": {
      "text/html": [
       "<div>                            <div id=\"2cf6ccbb-efb3-4bfb-b408-a867d772a3a9\" class=\"plotly-graph-div\" style=\"height:525px; width:100%;\"></div>            <script type=\"text/javascript\">                require([\"plotly\"], function(Plotly) {                    window.PLOTLYENV=window.PLOTLYENV || {};                                    if (document.getElementById(\"2cf6ccbb-efb3-4bfb-b408-a867d772a3a9\")) {                    Plotly.newPlot(                        \"2cf6ccbb-efb3-4bfb-b408-a867d772a3a9\",                        [{\"alignmentgroup\":\"True\",\"bingroup\":\"x\",\"hovertemplate\":\"Danceability=%{x}\\u003cbr\\u003ecount=%{y}\\u003cextra\\u003e\\u003c\\u002fextra\\u003e\",\"legendgroup\":\"\",\"marker\":{\"color\":\"#636efa\",\"pattern\":{\"shape\":\"\"}},\"name\":\"\",\"offsetgroup\":\"\",\"orientation\":\"v\",\"showlegend\":false,\"x\":[0.797,0.751,0.468,0.699,0.463,0.806,0.397,0.514,0.642,0.5,0.543,0.354,0.749,0.546,0.393,0.476,0.684,0.656,0.708,0.617,0.646,0.622,0.67,0.644,0.719,0.625,0.63,0.596,0.782,0.565,0.688,0.758,0.705,0.788,0.805,0.68,0.672,0.745,0.654,0.738,0.448,0.814,0.645,0.752,0.732,0.703,0.673,0.664,0.884,0.79,0.721,0.696,0.798,0.668,0.703,0.729,0.606,0.537,0.615,0.677,0.625,0.629,0.735,0.633,0.811,0.706,0.632,0.733,0.573,0.702,0.665,0.703,0.638,0.51,0.697,0.586,0.562,0.535,0.435,0.461,0.629,0.494,0.794,0.874,0.802,0.818,0.732,0.52,0.732,0.763,0.746,0.774,0.639,0.729,0.647,0.758,0.63,0.654,0.728,0.624,0.656,0.748,0.662,0.622,0.658,0.659,0.575,0.805,0.683,0.778,0.802,0.783,0.709,0.749,0.789,0.749,0.62,0.603,0.715,0.34,0.677,0.836,0.393,0.692,0.766,0.723,0.803,0.862,0.85,0.833,0.87,0.706,0.855,0.847,0.81,0.96,0.774,0.704,0.713,0.781,0.843,0.607,0.832,0.591,0.892,0.741,0.727,0.584,0.481,0.652,0.39,0.853,0.634,0.615,0.525,0.535,0.52,0.772,0.617,0.779,0.809,0.703,0.352,0.693,0.49,0.942,0.887,0.538,0.85,0.683,0.784,0.765,0.67,0.766,0.805,0.763,0.739,0.784,0.661,0.754,0.754,0.787,0.683,0.834,0.779,0.637,0.679,0.472,0.801,0.806,0.402,0.72,0.762,0.508,0.639,0.873,0.361,0.865,0.857,0.79,0.702,0.823,0.689,0.604,0.622,0.579,0.734,0.722,0.424,0.766,0.608,0.724,0.656,0.869,0.697,0.773,0.676,0.813,0.722,0.722,0.718,0.619,0.726,0.472,0.628,0.52,0.45,0.602,0.665,0.485,0.771,0.556,0.807,0.596,0.644,0.814,0.571,0.882,0.792,0.738,0.912,0.903,0.904,0.81,0.714,0.813,0.604,0.892,0.848,0.718,0.716,0.735,0.426,0.623,0.502,0.567,0.763,0.808,0.742,0.72,0.51,0.715,0.733,0.776,0.658,0.743,0.798,0.465,0.391,0.771,0.768,0.735,0.656,0.852,0.896,0.913,0.89,0.499,0.74,0.854,0.826,0.567,0.65,0.708,0.764,0.83,0.848,0.595,0.849,0.742,0.611,0.472,0.345,0.724,0.518,0.665,0.565,0.604,0.528,0.333,0.629,0.808,0.867,0.536,0.705,0.735,0.677,0.745,0.716,0.393,0.765,0.676,0.732,0.644,0.729,0.596,0.628,0.864,0.678,0.72,0.515,0.753,0.452,0.487,0.685,0.713,0.812,0.845,0.823,0.667,0.838,0.864,0.698,0.669,0.828,0.905,0.884,0.833,0.868,0.761,0.801,0.735,0.824,0.579,0.534,0.746,0.649,0.464,0.631,0.545,0.683,0.7,0.654,0.686,0.644,0.771,0.652,0.747,0.889,0.659,0.801,0.85,0.81,0.894,0.887,0.819,0.52,0.665,0.475,0.62,0.592,0.703,0.44,0.598,0.424,0.749,0.682,0.74,0.7,0.862,0.47,0.779,0.865,0.752,0.914,0.879,0.701,0.845,0.731,0.428,0.724,0.692,0.749,0.84,0.643,0.692,0.537,0.667,0.523,0.662,0.707,0.529,0.847,0.878,0.809,0.684,0.827,0.808,0.774,0.293,0.708,0.51,0.74,0.539,0.89,0.658,0.639,0.633,0.501,0.782,0.613,0.755,0.828,0.532,0.797,0.704,0.762,0.59,0.783,0.559,0.422,0.833,0.871,0.912,0.829,0.707,0.744,0.848,0.726,0.939,0.758,0.706,0.761,0.537,0.838,0.797,0.782,0.764,0.712,0.62,0.623,0.548,0.529,0.53,0.862,0.335,0.575,0.825,0.618,0.654,0.621,0.71,0.808,0.68,0.666,0.863,0.842,0.608,0.711,0.64,0.769,0.788,0.805,0.801,0.726,0.836,0.733,0.853,0.816,0.783,0.664,0.697,0.778,0.777,0.826,0.828,0.797,0.682,0.859,0.887,0.756,0.747,0.813,0.739,0.7,0.758,0.673,0.763,0.661,0.784,0.459,0.695,0.785,0.793,0.639,0.45,0.735,0.808,0.849,0.57,0.719,0.774,0.821,0.747,0.874,0.514,0.588,0.611,0.811,0.768,0.631,0.73,0.617,0.481,0.768,0.629,0.822,0.526,0.673,0.732,0.754,0.808,0.786,0.532,0.722,0.612,0.642,0.697,0.503,0.566,0.505,0.771,0.435,0.818,0.806,0.779,0.833,0.613,0.715,0.384,0.71,0.546,0.717,0.347,0.669,0.818,0.76,0.769,0.784,0.563,0.75,0.711,0.764,0.789,0.646,0.585,0.883,0.873,0.815,0.586,0.786,0.719,0.631,0.793,0.686,0.607,0.64,0.376,0.781,0.344,0.774,0.894,0.691,0.601,0.796,0.528,0.796,0.98,0.737,0.496,0.751,0.679,0.643,0.333,0.513,0.743,0.668,0.579,0.7,0.528,0.803,0.71,0.65,0.871,0.59,0.842,0.752,0.666,0.826,0.782,0.681,0.485,0.871,0.638,0.624,0.735,0.68,0.553,0.71,0.52,0.496,0.744,0.669,0.713,0.608,0.917,0.808,0.834,0.696,0.676,0.665,0.661,0.602,0.675,0.605,0.593,0.492,0.608,0.821,0.837,0.43,0.583,0.656,0.499,0.541,0.507,0.453,0.546,0.677,0.551,0.636,0.491,0.605,0.76,0.564,0.599,0.741,0.799,0.79,0.775,0.75,0.468,0.696,0.644,0.781,0.477,0.805,0.786,0.815,0.508,0.689,0.888,0.389,0.553,0.522,0.743,0.856,0.643,0.754,0.77,0.751,0.775,0.727,0.683,0.729,0.76,0.719,0.666,0.914,0.83,0.729,0.899,0.921,0.914,0.966,0.85,0.794,0.58,0.713,0.599,0.566,0.638,0.634,0.691,0.536,0.666,0.708,0.639,0.74,0.656,0.759,0.745,0.744,0.714,0.75,0.589,0.685,0.753,0.684,0.649,0.709,0.633,0.633,0.672],\"xaxis\":\"x\",\"yaxis\":\"y\",\"type\":\"histogram\"}],                        {\"template\":{\"data\":{\"histogram2dcontour\":[{\"type\":\"histogram2dcontour\",\"colorbar\":{\"outlinewidth\":0,\"ticks\":\"\"},\"colorscale\":[[0.0,\"#0d0887\"],[0.1111111111111111,\"#46039f\"],[0.2222222222222222,\"#7201a8\"],[0.3333333333333333,\"#9c179e\"],[0.4444444444444444,\"#bd3786\"],[0.5555555555555556,\"#d8576b\"],[0.6666666666666666,\"#ed7953\"],[0.7777777777777778,\"#fb9f3a\"],[0.8888888888888888,\"#fdca26\"],[1.0,\"#f0f921\"]]}],\"choropleth\":[{\"type\":\"choropleth\",\"colorbar\":{\"outlinewidth\":0,\"ticks\":\"\"}}],\"histogram2d\":[{\"type\":\"histogram2d\",\"colorbar\":{\"outlinewidth\":0,\"ticks\":\"\"},\"colorscale\":[[0.0,\"#0d0887\"],[0.1111111111111111,\"#46039f\"],[0.2222222222222222,\"#7201a8\"],[0.3333333333333333,\"#9c179e\"],[0.4444444444444444,\"#bd3786\"],[0.5555555555555556,\"#d8576b\"],[0.6666666666666666,\"#ed7953\"],[0.7777777777777778,\"#fb9f3a\"],[0.8888888888888888,\"#fdca26\"],[1.0,\"#f0f921\"]]}],\"heatmap\":[{\"type\":\"heatmap\",\"colorbar\":{\"outlinewidth\":0,\"ticks\":\"\"},\"colorscale\":[[0.0,\"#0d0887\"],[0.1111111111111111,\"#46039f\"],[0.2222222222222222,\"#7201a8\"],[0.3333333333333333,\"#9c179e\"],[0.4444444444444444,\"#bd3786\"],[0.5555555555555556,\"#d8576b\"],[0.6666666666666666,\"#ed7953\"],[0.7777777777777778,\"#fb9f3a\"],[0.8888888888888888,\"#fdca26\"],[1.0,\"#f0f921\"]]}],\"heatmapgl\":[{\"type\":\"heatmapgl\",\"colorbar\":{\"outlinewidth\":0,\"ticks\":\"\"},\"colorscale\":[[0.0,\"#0d0887\"],[0.1111111111111111,\"#46039f\"],[0.2222222222222222,\"#7201a8\"],[0.3333333333333333,\"#9c179e\"],[0.4444444444444444,\"#bd3786\"],[0.5555555555555556,\"#d8576b\"],[0.6666666666666666,\"#ed7953\"],[0.7777777777777778,\"#fb9f3a\"],[0.8888888888888888,\"#fdca26\"],[1.0,\"#f0f921\"]]}],\"contourcarpet\":[{\"type\":\"contourcarpet\",\"colorbar\":{\"outlinewidth\":0,\"ticks\":\"\"}}],\"contour\":[{\"type\":\"contour\",\"colorbar\":{\"outlinewidth\":0,\"ticks\":\"\"},\"colorscale\":[[0.0,\"#0d0887\"],[0.1111111111111111,\"#46039f\"],[0.2222222222222222,\"#7201a8\"],[0.3333333333333333,\"#9c179e\"],[0.4444444444444444,\"#bd3786\"],[0.5555555555555556,\"#d8576b\"],[0.6666666666666666,\"#ed7953\"],[0.7777777777777778,\"#fb9f3a\"],[0.8888888888888888,\"#fdca26\"],[1.0,\"#f0f921\"]]}],\"surface\":[{\"type\":\"surface\",\"colorbar\":{\"outlinewidth\":0,\"ticks\":\"\"},\"colorscale\":[[0.0,\"#0d0887\"],[0.1111111111111111,\"#46039f\"],[0.2222222222222222,\"#7201a8\"],[0.3333333333333333,\"#9c179e\"],[0.4444444444444444,\"#bd3786\"],[0.5555555555555556,\"#d8576b\"],[0.6666666666666666,\"#ed7953\"],[0.7777777777777778,\"#fb9f3a\"],[0.8888888888888888,\"#fdca26\"],[1.0,\"#f0f921\"]]}],\"mesh3d\":[{\"type\":\"mesh3d\",\"colorbar\":{\"outlinewidth\":0,\"ticks\":\"\"}}],\"scatter\":[{\"fillpattern\":{\"fillmode\":\"overlay\",\"size\":10,\"solidity\":0.2},\"type\":\"scatter\"}],\"parcoords\":[{\"type\":\"parcoords\",\"line\":{\"colorbar\":{\"outlinewidth\":0,\"ticks\":\"\"}}}],\"scatterpolargl\":[{\"type\":\"scatterpolargl\",\"marker\":{\"colorbar\":{\"outlinewidth\":0,\"ticks\":\"\"}}}],\"bar\":[{\"error_x\":{\"color\":\"#2a3f5f\"},\"error_y\":{\"color\":\"#2a3f5f\"},\"marker\":{\"line\":{\"color\":\"#E5ECF6\",\"width\":0.5},\"pattern\":{\"fillmode\":\"overlay\",\"size\":10,\"solidity\":0.2}},\"type\":\"bar\"}],\"scattergeo\":[{\"type\":\"scattergeo\",\"marker\":{\"colorbar\":{\"outlinewidth\":0,\"ticks\":\"\"}}}],\"scatterpolar\":[{\"type\":\"scatterpolar\",\"marker\":{\"colorbar\":{\"outlinewidth\":0,\"ticks\":\"\"}}}],\"histogram\":[{\"marker\":{\"pattern\":{\"fillmode\":\"overlay\",\"size\":10,\"solidity\":0.2}},\"type\":\"histogram\"}],\"scattergl\":[{\"type\":\"scattergl\",\"marker\":{\"colorbar\":{\"outlinewidth\":0,\"ticks\":\"\"}}}],\"scatter3d\":[{\"type\":\"scatter3d\",\"line\":{\"colorbar\":{\"outlinewidth\":0,\"ticks\":\"\"}},\"marker\":{\"colorbar\":{\"outlinewidth\":0,\"ticks\":\"\"}}}],\"scattermapbox\":[{\"type\":\"scattermapbox\",\"marker\":{\"colorbar\":{\"outlinewidth\":0,\"ticks\":\"\"}}}],\"scatterternary\":[{\"type\":\"scatterternary\",\"marker\":{\"colorbar\":{\"outlinewidth\":0,\"ticks\":\"\"}}}],\"scattercarpet\":[{\"type\":\"scattercarpet\",\"marker\":{\"colorbar\":{\"outlinewidth\":0,\"ticks\":\"\"}}}],\"carpet\":[{\"aaxis\":{\"endlinecolor\":\"#2a3f5f\",\"gridcolor\":\"white\",\"linecolor\":\"white\",\"minorgridcolor\":\"white\",\"startlinecolor\":\"#2a3f5f\"},\"baxis\":{\"endlinecolor\":\"#2a3f5f\",\"gridcolor\":\"white\",\"linecolor\":\"white\",\"minorgridcolor\":\"white\",\"startlinecolor\":\"#2a3f5f\"},\"type\":\"carpet\"}],\"table\":[{\"cells\":{\"fill\":{\"color\":\"#EBF0F8\"},\"line\":{\"color\":\"white\"}},\"header\":{\"fill\":{\"color\":\"#C8D4E3\"},\"line\":{\"color\":\"white\"}},\"type\":\"table\"}],\"barpolar\":[{\"marker\":{\"line\":{\"color\":\"#E5ECF6\",\"width\":0.5},\"pattern\":{\"fillmode\":\"overlay\",\"size\":10,\"solidity\":0.2}},\"type\":\"barpolar\"}],\"pie\":[{\"automargin\":true,\"type\":\"pie\"}]},\"layout\":{\"autotypenumbers\":\"strict\",\"colorway\":[\"#636efa\",\"#EF553B\",\"#00cc96\",\"#ab63fa\",\"#FFA15A\",\"#19d3f3\",\"#FF6692\",\"#B6E880\",\"#FF97FF\",\"#FECB52\"],\"font\":{\"color\":\"#2a3f5f\"},\"hovermode\":\"closest\",\"hoverlabel\":{\"align\":\"left\"},\"paper_bgcolor\":\"white\",\"plot_bgcolor\":\"#E5ECF6\",\"polar\":{\"bgcolor\":\"#E5ECF6\",\"angularaxis\":{\"gridcolor\":\"white\",\"linecolor\":\"white\",\"ticks\":\"\"},\"radialaxis\":{\"gridcolor\":\"white\",\"linecolor\":\"white\",\"ticks\":\"\"}},\"ternary\":{\"bgcolor\":\"#E5ECF6\",\"aaxis\":{\"gridcolor\":\"white\",\"linecolor\":\"white\",\"ticks\":\"\"},\"baxis\":{\"gridcolor\":\"white\",\"linecolor\":\"white\",\"ticks\":\"\"},\"caxis\":{\"gridcolor\":\"white\",\"linecolor\":\"white\",\"ticks\":\"\"}},\"coloraxis\":{\"colorbar\":{\"outlinewidth\":0,\"ticks\":\"\"}},\"colorscale\":{\"sequential\":[[0.0,\"#0d0887\"],[0.1111111111111111,\"#46039f\"],[0.2222222222222222,\"#7201a8\"],[0.3333333333333333,\"#9c179e\"],[0.4444444444444444,\"#bd3786\"],[0.5555555555555556,\"#d8576b\"],[0.6666666666666666,\"#ed7953\"],[0.7777777777777778,\"#fb9f3a\"],[0.8888888888888888,\"#fdca26\"],[1.0,\"#f0f921\"]],\"sequentialminus\":[[0.0,\"#0d0887\"],[0.1111111111111111,\"#46039f\"],[0.2222222222222222,\"#7201a8\"],[0.3333333333333333,\"#9c179e\"],[0.4444444444444444,\"#bd3786\"],[0.5555555555555556,\"#d8576b\"],[0.6666666666666666,\"#ed7953\"],[0.7777777777777778,\"#fb9f3a\"],[0.8888888888888888,\"#fdca26\"],[1.0,\"#f0f921\"]],\"diverging\":[[0,\"#8e0152\"],[0.1,\"#c51b7d\"],[0.2,\"#de77ae\"],[0.3,\"#f1b6da\"],[0.4,\"#fde0ef\"],[0.5,\"#f7f7f7\"],[0.6,\"#e6f5d0\"],[0.7,\"#b8e186\"],[0.8,\"#7fbc41\"],[0.9,\"#4d9221\"],[1,\"#276419\"]]},\"xaxis\":{\"gridcolor\":\"white\",\"linecolor\":\"white\",\"ticks\":\"\",\"title\":{\"standoff\":15},\"zerolinecolor\":\"white\",\"automargin\":true,\"zerolinewidth\":2},\"yaxis\":{\"gridcolor\":\"white\",\"linecolor\":\"white\",\"ticks\":\"\",\"title\":{\"standoff\":15},\"zerolinecolor\":\"white\",\"automargin\":true,\"zerolinewidth\":2},\"scene\":{\"xaxis\":{\"backgroundcolor\":\"#E5ECF6\",\"gridcolor\":\"white\",\"linecolor\":\"white\",\"showbackground\":true,\"ticks\":\"\",\"zerolinecolor\":\"white\",\"gridwidth\":2},\"yaxis\":{\"backgroundcolor\":\"#E5ECF6\",\"gridcolor\":\"white\",\"linecolor\":\"white\",\"showbackground\":true,\"ticks\":\"\",\"zerolinecolor\":\"white\",\"gridwidth\":2},\"zaxis\":{\"backgroundcolor\":\"#E5ECF6\",\"gridcolor\":\"white\",\"linecolor\":\"white\",\"showbackground\":true,\"ticks\":\"\",\"zerolinecolor\":\"white\",\"gridwidth\":2}},\"shapedefaults\":{\"line\":{\"color\":\"#2a3f5f\"}},\"annotationdefaults\":{\"arrowcolor\":\"#2a3f5f\",\"arrowhead\":0,\"arrowwidth\":1},\"geo\":{\"bgcolor\":\"white\",\"landcolor\":\"#E5ECF6\",\"subunitcolor\":\"white\",\"showland\":true,\"showlakes\":true,\"lakecolor\":\"white\"},\"title\":{\"x\":0.05},\"mapbox\":{\"style\":\"light\"}}},\"xaxis\":{\"anchor\":\"y\",\"domain\":[0.0,1.0],\"title\":{\"text\":\"Danceability\"}},\"yaxis\":{\"anchor\":\"x\",\"domain\":[0.0,1.0],\"title\":{\"text\":\"count\"}},\"legend\":{\"tracegroupgap\":0},\"margin\":{\"t\":60},\"barmode\":\"relative\"},                        {\"responsive\": true}                    ).then(function(){\n",
       "                            \n",
       "var gd = document.getElementById('2cf6ccbb-efb3-4bfb-b408-a867d772a3a9');\n",
       "var x = new MutationObserver(function (mutations, observer) {{\n",
       "        var display = window.getComputedStyle(gd).display;\n",
       "        if (!display || display === 'none') {{\n",
       "            console.log([gd, 'removed!']);\n",
       "            Plotly.purge(gd);\n",
       "            observer.disconnect();\n",
       "        }}\n",
       "}});\n",
       "\n",
       "// Listen for the removal of the full notebook cells\n",
       "var notebookContainer = gd.closest('#notebook-container');\n",
       "if (notebookContainer) {{\n",
       "    x.observe(notebookContainer, {childList: true});\n",
       "}}\n",
       "\n",
       "// Listen for the clearing of the current output cell\n",
       "var outputEl = gd.closest('.output');\n",
       "if (outputEl) {{\n",
       "    x.observe(outputEl, {childList: true});\n",
       "}}\n",
       "\n",
       "                        })                };                });            </script>        </div>"
      ]
     },
     "metadata": {},
     "output_type": "display_data"
    }
   ],
   "source": [
    "express.histogram(data_frame=df, x='Danceability')"
   ]
  },
  {
   "cell_type": "markdown",
   "id": "86893253",
   "metadata": {
    "papermill": {
     "duration": 0.014919,
     "end_time": "2024-09-02T15:27:38.046260",
     "exception": false,
     "start_time": "2024-09-02T15:27:38.031341",
     "status": "completed"
    },
    "tags": []
   },
   "source": [
    "What do you suppose are the most and least danceable tracks in our dataset?"
   ]
  },
  {
   "cell_type": "code",
   "execution_count": 13,
   "id": "73d893bb",
   "metadata": {
    "execution": {
     "iopub.execute_input": "2024-09-02T15:27:38.079939Z",
     "iopub.status.busy": "2024-09-02T15:27:38.079456Z",
     "iopub.status.idle": "2024-09-02T15:27:38.101291Z",
     "shell.execute_reply": "2024-09-02T15:27:38.100059Z"
    },
    "papermill": {
     "duration": 0.042495,
     "end_time": "2024-09-02T15:27:38.103901",
     "exception": false,
     "start_time": "2024-09-02T15:27:38.061406",
     "status": "completed"
    },
    "tags": []
   },
   "outputs": [
    {
     "data": {
      "text/html": [
       "<div>\n",
       "<style scoped>\n",
       "    .dataframe tbody tr th:only-of-type {\n",
       "        vertical-align: middle;\n",
       "    }\n",
       "\n",
       "    .dataframe tbody tr th {\n",
       "        vertical-align: top;\n",
       "    }\n",
       "\n",
       "    .dataframe thead th {\n",
       "        text-align: right;\n",
       "    }\n",
       "</style>\n",
       "<table border=\"1\" class=\"dataframe\">\n",
       "  <thead>\n",
       "    <tr style=\"text-align: right;\">\n",
       "      <th></th>\n",
       "      <th>Track</th>\n",
       "      <th>Artist</th>\n",
       "      <th>Album</th>\n",
       "      <th>Year</th>\n",
       "      <th>Duration</th>\n",
       "      <th>Time_Signature</th>\n",
       "      <th>Danceability</th>\n",
       "      <th>Energy</th>\n",
       "      <th>Key</th>\n",
       "      <th>Loudness</th>\n",
       "      <th>Mode</th>\n",
       "      <th>Speechiness</th>\n",
       "      <th>Acousticness</th>\n",
       "      <th>Instrumentalness</th>\n",
       "      <th>Liveness</th>\n",
       "      <th>Valence</th>\n",
       "      <th>Tempo</th>\n",
       "      <th>Popularity</th>\n",
       "    </tr>\n",
       "  </thead>\n",
       "  <tbody>\n",
       "    <tr>\n",
       "      <th>409</th>\n",
       "      <td>She's Out of My Life - Single Version</td>\n",
       "      <td>Michael Jackson</td>\n",
       "      <td>Off the Wall</td>\n",
       "      <td>1979</td>\n",
       "      <td>218266</td>\n",
       "      <td>4</td>\n",
       "      <td>0.293</td>\n",
       "      <td>0.0348</td>\n",
       "      <td>4</td>\n",
       "      <td>-23.92</td>\n",
       "      <td>1</td>\n",
       "      <td>0.0414</td>\n",
       "      <td>0.962</td>\n",
       "      <td>0.000212</td>\n",
       "      <td>0.105</td>\n",
       "      <td>0.101</td>\n",
       "      <td>130.959</td>\n",
       "      <td>56</td>\n",
       "    </tr>\n",
       "  </tbody>\n",
       "</table>\n",
       "</div>"
      ],
      "text/plain": [
       "                                     Track           Artist         Album  \\\n",
       "409  She's Out of My Life - Single Version  Michael Jackson  Off the Wall   \n",
       "\n",
       "     Year  Duration  Time_Signature  Danceability  Energy  Key  Loudness  \\\n",
       "409  1979    218266               4         0.293  0.0348    4    -23.92   \n",
       "\n",
       "     Mode  Speechiness  Acousticness  Instrumentalness  Liveness  Valence  \\\n",
       "409     1       0.0414         0.962          0.000212     0.105    0.101   \n",
       "\n",
       "       Tempo  Popularity  \n",
       "409  130.959          56  "
      ]
     },
     "execution_count": 13,
     "metadata": {},
     "output_type": "execute_result"
    }
   ],
   "source": [
    "df[df['Danceability'] == df['Danceability'].min()]"
   ]
  },
  {
   "cell_type": "markdown",
   "id": "9dbac61f",
   "metadata": {
    "papermill": {
     "duration": 0.015133,
     "end_time": "2024-09-02T15:27:38.134678",
     "exception": false,
     "start_time": "2024-09-02T15:27:38.119545",
     "status": "completed"
    },
    "tags": []
   },
   "source": [
    "Yeah She's Out of My Life is a very sad little torch song and essentially undanceable."
   ]
  },
  {
   "cell_type": "code",
   "execution_count": 14,
   "id": "c2c76118",
   "metadata": {
    "execution": {
     "iopub.execute_input": "2024-09-02T15:27:38.167572Z",
     "iopub.status.busy": "2024-09-02T15:27:38.167127Z",
     "iopub.status.idle": "2024-09-02T15:27:38.189103Z",
     "shell.execute_reply": "2024-09-02T15:27:38.187887Z"
    },
    "papermill": {
     "duration": 0.041781,
     "end_time": "2024-09-02T15:27:38.191995",
     "exception": false,
     "start_time": "2024-09-02T15:27:38.150214",
     "status": "completed"
    },
    "tags": []
   },
   "outputs": [
    {
     "data": {
      "text/html": [
       "<div>\n",
       "<style scoped>\n",
       "    .dataframe tbody tr th:only-of-type {\n",
       "        vertical-align: middle;\n",
       "    }\n",
       "\n",
       "    .dataframe tbody tr th {\n",
       "        vertical-align: top;\n",
       "    }\n",
       "\n",
       "    .dataframe thead th {\n",
       "        text-align: right;\n",
       "    }\n",
       "</style>\n",
       "<table border=\"1\" class=\"dataframe\">\n",
       "  <thead>\n",
       "    <tr style=\"text-align: right;\">\n",
       "      <th></th>\n",
       "      <th>Track</th>\n",
       "      <th>Artist</th>\n",
       "      <th>Album</th>\n",
       "      <th>Year</th>\n",
       "      <th>Duration</th>\n",
       "      <th>Time_Signature</th>\n",
       "      <th>Danceability</th>\n",
       "      <th>Energy</th>\n",
       "      <th>Key</th>\n",
       "      <th>Loudness</th>\n",
       "      <th>Mode</th>\n",
       "      <th>Speechiness</th>\n",
       "      <th>Acousticness</th>\n",
       "      <th>Instrumentalness</th>\n",
       "      <th>Liveness</th>\n",
       "      <th>Valence</th>\n",
       "      <th>Tempo</th>\n",
       "      <th>Popularity</th>\n",
       "    </tr>\n",
       "  </thead>\n",
       "  <tbody>\n",
       "    <tr>\n",
       "      <th>587</th>\n",
       "      <td>State of Shock</td>\n",
       "      <td>The Jacksons</td>\n",
       "      <td>Victory</td>\n",
       "      <td>1984</td>\n",
       "      <td>271000</td>\n",
       "      <td>4</td>\n",
       "      <td>0.98</td>\n",
       "      <td>0.846</td>\n",
       "      <td>8</td>\n",
       "      <td>-7.696</td>\n",
       "      <td>0</td>\n",
       "      <td>0.139</td>\n",
       "      <td>0.283</td>\n",
       "      <td>0.149</td>\n",
       "      <td>0.052</td>\n",
       "      <td>0.891</td>\n",
       "      <td>121.562</td>\n",
       "      <td>42</td>\n",
       "    </tr>\n",
       "  </tbody>\n",
       "</table>\n",
       "</div>"
      ],
      "text/plain": [
       "              Track        Artist    Album  Year  Duration  Time_Signature  \\\n",
       "587  State of Shock  The Jacksons  Victory  1984    271000               4   \n",
       "\n",
       "     Danceability  Energy  Key  Loudness  Mode  Speechiness  Acousticness  \\\n",
       "587          0.98   0.846    8    -7.696     0        0.139         0.283   \n",
       "\n",
       "     Instrumentalness  Liveness  Valence    Tempo  Popularity  \n",
       "587             0.149     0.052    0.891  121.562          42  "
      ]
     },
     "execution_count": 14,
     "metadata": {},
     "output_type": "execute_result"
    }
   ],
   "source": [
    "df[df['Danceability'] == df['Danceability'].max()]"
   ]
  },
  {
   "cell_type": "markdown",
   "id": "f058f477",
   "metadata": {
    "papermill": {
     "duration": 0.015815,
     "end_time": "2024-09-02T15:27:38.223805",
     "exception": false,
     "start_time": "2024-09-02T15:27:38.207990",
     "status": "completed"
    },
    "tags": []
   },
   "source": [
    "That's a surprise; there are lots of danceable songs in this dataset; some of them even have dances named after them. State of Shock does not immediately spring to mind as being the most danceable."
   ]
  },
  {
   "cell_type": "code",
   "execution_count": 15,
   "id": "b72245c9",
   "metadata": {
    "execution": {
     "iopub.execute_input": "2024-09-02T15:27:38.257622Z",
     "iopub.status.busy": "2024-09-02T15:27:38.257157Z",
     "iopub.status.idle": "2024-09-02T15:27:38.281738Z",
     "shell.execute_reply": "2024-09-02T15:27:38.280469Z"
    },
    "papermill": {
     "duration": 0.044623,
     "end_time": "2024-09-02T15:27:38.284378",
     "exception": false,
     "start_time": "2024-09-02T15:27:38.239755",
     "status": "completed"
    },
    "tags": []
   },
   "outputs": [
    {
     "data": {
      "text/html": [
       "<div>\n",
       "<style scoped>\n",
       "    .dataframe tbody tr th:only-of-type {\n",
       "        vertical-align: middle;\n",
       "    }\n",
       "\n",
       "    .dataframe tbody tr th {\n",
       "        vertical-align: top;\n",
       "    }\n",
       "\n",
       "    .dataframe thead th {\n",
       "        text-align: right;\n",
       "    }\n",
       "</style>\n",
       "<table border=\"1\" class=\"dataframe\">\n",
       "  <thead>\n",
       "    <tr style=\"text-align: right;\">\n",
       "      <th></th>\n",
       "      <th>Track</th>\n",
       "      <th>Artist</th>\n",
       "      <th>Album</th>\n",
       "      <th>Year</th>\n",
       "      <th>Duration</th>\n",
       "      <th>Time_Signature</th>\n",
       "      <th>Danceability</th>\n",
       "      <th>Energy</th>\n",
       "      <th>Key</th>\n",
       "      <th>Loudness</th>\n",
       "      <th>Mode</th>\n",
       "      <th>Speechiness</th>\n",
       "      <th>Acousticness</th>\n",
       "      <th>Instrumentalness</th>\n",
       "      <th>Liveness</th>\n",
       "      <th>Valence</th>\n",
       "      <th>Tempo</th>\n",
       "      <th>Popularity</th>\n",
       "    </tr>\n",
       "  </thead>\n",
       "  <tbody>\n",
       "    <tr>\n",
       "      <th>18</th>\n",
       "      <td>Voulez-Vous</td>\n",
       "      <td>ABBA</td>\n",
       "      <td>Voulez-Vous</td>\n",
       "      <td>1979</td>\n",
       "      <td>309173</td>\n",
       "      <td>4</td>\n",
       "      <td>0.708</td>\n",
       "      <td>0.774</td>\n",
       "      <td>11</td>\n",
       "      <td>-6.931</td>\n",
       "      <td>0</td>\n",
       "      <td>0.0372</td>\n",
       "      <td>0.14900</td>\n",
       "      <td>0.001090</td>\n",
       "      <td>0.169</td>\n",
       "      <td>0.903</td>\n",
       "      <td>126.636</td>\n",
       "      <td>72</td>\n",
       "    </tr>\n",
       "    <tr>\n",
       "      <th>283</th>\n",
       "      <td>Love On Top Of Love</td>\n",
       "      <td>Grace Jones</td>\n",
       "      <td>20 #1's: 80's Club Classics</td>\n",
       "      <td>1980</td>\n",
       "      <td>368146</td>\n",
       "      <td>4</td>\n",
       "      <td>0.708</td>\n",
       "      <td>0.951</td>\n",
       "      <td>10</td>\n",
       "      <td>-5.638</td>\n",
       "      <td>0</td>\n",
       "      <td>0.0729</td>\n",
       "      <td>0.00718</td>\n",
       "      <td>0.001130</td>\n",
       "      <td>0.193</td>\n",
       "      <td>0.712</td>\n",
       "      <td>105.157</td>\n",
       "      <td>9</td>\n",
       "    </tr>\n",
       "    <tr>\n",
       "      <th>410</th>\n",
       "      <td>Wink</td>\n",
       "      <td>Neal McCoy</td>\n",
       "      <td>No Doubt About It</td>\n",
       "      <td>1994</td>\n",
       "      <td>162466</td>\n",
       "      <td>4</td>\n",
       "      <td>0.708</td>\n",
       "      <td>0.852</td>\n",
       "      <td>4</td>\n",
       "      <td>-6.177</td>\n",
       "      <td>1</td>\n",
       "      <td>0.0302</td>\n",
       "      <td>0.07610</td>\n",
       "      <td>0.000000</td>\n",
       "      <td>0.172</td>\n",
       "      <td>0.930</td>\n",
       "      <td>117.644</td>\n",
       "      <td>58</td>\n",
       "    </tr>\n",
       "    <tr>\n",
       "      <th>706</th>\n",
       "      <td>Turn the Beat Around</td>\n",
       "      <td>Vicki Sue Robinson</td>\n",
       "      <td>Never Gonna Let You Go (Expanded Edition)</td>\n",
       "      <td>1976</td>\n",
       "      <td>333826</td>\n",
       "      <td>4</td>\n",
       "      <td>0.708</td>\n",
       "      <td>0.940</td>\n",
       "      <td>7</td>\n",
       "      <td>-4.030</td>\n",
       "      <td>0</td>\n",
       "      <td>0.0593</td>\n",
       "      <td>0.16200</td>\n",
       "      <td>0.000006</td>\n",
       "      <td>0.305</td>\n",
       "      <td>0.869</td>\n",
       "      <td>131.072</td>\n",
       "      <td>43</td>\n",
       "    </tr>\n",
       "  </tbody>\n",
       "</table>\n",
       "</div>"
      ],
      "text/plain": [
       "                    Track              Artist  \\\n",
       "18            Voulez-Vous                ABBA   \n",
       "283   Love On Top Of Love         Grace Jones   \n",
       "410                  Wink          Neal McCoy   \n",
       "706  Turn the Beat Around  Vicki Sue Robinson   \n",
       "\n",
       "                                         Album  Year  Duration  \\\n",
       "18                                 Voulez-Vous  1979    309173   \n",
       "283                20 #1's: 80's Club Classics  1980    368146   \n",
       "410                          No Doubt About It  1994    162466   \n",
       "706  Never Gonna Let You Go (Expanded Edition)  1976    333826   \n",
       "\n",
       "     Time_Signature  Danceability  Energy  Key  Loudness  Mode  Speechiness  \\\n",
       "18                4         0.708   0.774   11    -6.931     0       0.0372   \n",
       "283               4         0.708   0.951   10    -5.638     0       0.0729   \n",
       "410               4         0.708   0.852    4    -6.177     1       0.0302   \n",
       "706               4         0.708   0.940    7    -4.030     0       0.0593   \n",
       "\n",
       "     Acousticness  Instrumentalness  Liveness  Valence    Tempo  Popularity  \n",
       "18        0.14900          0.001090     0.169    0.903  126.636          72  \n",
       "283       0.00718          0.001130     0.193    0.712  105.157           9  \n",
       "410       0.07610          0.000000     0.172    0.930  117.644          58  \n",
       "706       0.16200          0.000006     0.305    0.869  131.072          43  "
      ]
     },
     "execution_count": 15,
     "metadata": {},
     "output_type": "execute_result"
    }
   ],
   "source": [
    "df[df['Danceability'] == df['Danceability'].median()]"
   ]
  },
  {
   "cell_type": "markdown",
   "id": "05db5ccd",
   "metadata": {
    "papermill": {
     "duration": 0.015887,
     "end_time": "2024-09-02T15:27:38.316512",
     "exception": false,
     "start_time": "2024-09-02T15:27:38.300625",
     "status": "completed"
    },
    "tags": []
   },
   "source": [
    "And that's what average danceability looks like."
   ]
  },
  {
   "cell_type": "code",
   "execution_count": 16,
   "id": "cd2fad7a",
   "metadata": {
    "execution": {
     "iopub.execute_input": "2024-09-02T15:27:38.350823Z",
     "iopub.status.busy": "2024-09-02T15:27:38.350337Z",
     "iopub.status.idle": "2024-09-02T15:27:38.424690Z",
     "shell.execute_reply": "2024-09-02T15:27:38.423466Z"
    },
    "papermill": {
     "duration": 0.094757,
     "end_time": "2024-09-02T15:27:38.427543",
     "exception": false,
     "start_time": "2024-09-02T15:27:38.332786",
     "status": "completed"
    },
    "tags": []
   },
   "outputs": [
    {
     "data": {
      "text/html": [
       "<div>                            <div id=\"f0013376-51a7-4ff0-aee2-6c07fcaa926e\" class=\"plotly-graph-div\" style=\"height:525px; width:100%;\"></div>            <script type=\"text/javascript\">                require([\"plotly\"], function(Plotly) {                    window.PLOTLYENV=window.PLOTLYENV || {};                                    if (document.getElementById(\"f0013376-51a7-4ff0-aee2-6c07fcaa926e\")) {                    Plotly.newPlot(                        \"f0013376-51a7-4ff0-aee2-6c07fcaa926e\",                        [{\"alignmentgroup\":\"True\",\"bingroup\":\"x\",\"hovertemplate\":\"Energy=%{x}\\u003cbr\\u003ecount=%{y}\\u003cextra\\u003e\\u003c\\u002fextra\\u003e\",\"legendgroup\":\"\",\"marker\":{\"color\":\"#636efa\",\"pattern\":{\"shape\":\"\"}},\"name\":\"\",\"offsetgroup\":\"\",\"orientation\":\"v\",\"showlegend\":false,\"x\":[0.548,0.57,0.512,0.74,0.459,0.741,0.603,0.542,0.465,0.554,0.87,0.535,0.491,0.733,0.719,0.858,0.675,0.565,0.774,0.741,0.724,0.696,0.696,0.654,0.647,0.858,0.737,0.88,0.833,0.41,0.899,0.829,0.842,0.605,0.558,0.54,0.909,0.759,0.676,0.887,0.845,0.474,0.646,0.52,0.889,0.761,0.735,0.676,0.635,0.91,0.581,0.487,0.524,0.562,0.595,0.78,0.486,0.812,0.804,0.238,0.869,0.7,0.574,0.357,0.545,0.516,0.683,0.795,0.641,0.773,0.532,0.855,0.444,0.506,0.691,0.337,0.338,0.411,0.385,0.353,0.736,0.323,0.928,0.789,0.898,0.886,0.698,0.566,0.743,0.777,0.76,0.824,0.893,0.851,0.868,0.64,0.376,0.652,0.631,0.79,0.535,0.591,0.636,0.482,0.707,0.655,0.83,0.616,0.405,0.843,0.865,0.707,0.746,0.758,0.932,0.581,0.948,0.886,0.847,0.235,0.814,0.626,0.418,0.686,0.699,0.717,0.574,0.67,0.665,0.686,0.657,0.723,0.826,0.491,0.85,0.766,0.608,0.917,0.565,0.481,0.705,0.784,0.782,0.387,0.593,0.97,0.559,0.186,0.317,0.279,0.0803,0.771,0.942,0.801,0.864,0.976,0.879,0.819,0.742,0.891,0.808,0.907,0.385,0.509,0.86,0.566,0.501,0.969,0.669,0.526,0.708,0.858,0.874,0.915,0.678,0.72,0.78,0.781,0.34,0.562,0.724,0.662,0.482,0.642,0.385,0.571,0.339,0.296,0.401,0.6,0.622,0.828,0.67,0.669,0.905,0.855,0.467,0.737,0.7,0.624,0.733,0.744,0.675,0.609,0.425,0.667,0.45,0.559,0.443,0.857,0.745,0.879,0.662,0.648,0.832,0.917,0.692,0.622,0.745,0.859,0.65,0.723,0.679,0.724,0.759,0.516,0.81,0.264,0.653,0.491,0.818,0.872,0.784,0.704,0.59,0.836,0.752,0.722,0.755,0.494,0.392,0.644,0.624,0.674,0.665,0.853,0.876,0.674,0.697,0.587,0.928,0.905,0.97,0.691,0.871,0.847,0.5,0.652,0.553,0.715,0.774,0.653,0.737,0.601,0.743,0.567,0.528,0.48,0.611,0.49,0.636,0.657,0.776,0.518,0.339,0.292,0.293,0.506,0.489,0.417,0.312,0.572,0.477,0.951,0.941,0.538,0.868,0.836,0.755,0.544,0.634,0.71,0.465,0.853,0.83,0.859,0.644,0.628,0.444,0.156,0.615,0.616,0.729,0.27,0.448,0.684,0.586,0.734,0.465,0.713,0.698,0.738,0.396,0.775,0.876,0.58,0.707,0.691,0.695,0.793,0.195,0.908,0.328,0.716,0.779,0.749,0.399,0.725,0.777,0.519,0.616,0.813,0.722,0.675,0.68,0.506,0.869,0.609,0.644,0.922,0.69,0.683,0.596,0.82,0.876,0.925,0.825,0.237,0.563,0.839,0.652,0.721,0.64,0.729,0.73,0.752,0.855,0.501,0.645,0.871,0.832,0.404,0.559,0.423,0.453,0.728,0.817,0.976,0.455,0.904,0.78,0.756,0.576,0.527,0.594,0.554,0.736,0.662,0.79,0.51,0.326,0.435,0.666,0.795,0.49,0.604,0.696,0.594,0.804,0.444,0.725,0.897,0.723,0.813,0.683,0.471,0.369,0.715,0.625,0.643,0.854,0.616,0.709,0.821,0.892,0.394,0.595,0.535,0.803,0.0348,0.852,0.354,0.691,0.921,0.43,0.633,0.75,0.644,0.485,0.563,0.82,0.757,0.611,0.582,0.888,0.868,0.9,0.852,0.532,0.513,0.826,0.551,0.564,0.42,0.498,0.764,0.549,0.37,0.698,0.487,0.716,0.727,0.938,0.82,0.794,0.632,0.874,0.625,0.735,0.179,0.103,0.723,0.262,0.415,0.764,0.422,0.292,0.811,0.368,0.401,0.769,0.387,0.773,0.504,0.577,0.738,0.567,0.933,0.863,0.667,0.755,0.685,0.697,0.388,0.815,0.711,0.833,0.575,0.591,0.528,0.764,0.826,0.803,0.563,0.406,0.417,0.552,0.385,0.44,0.4,0.583,0.75,0.759,0.896,0.816,0.841,0.686,0.95,0.846,0.893,0.472,0.703,0.812,0.581,0.673,0.407,0.759,0.777,0.5,0.844,0.822,0.568,0.721,0.692,0.419,0.487,0.568,0.578,0.604,0.79,0.525,0.356,0.666,0.63,0.613,0.851,0.865,0.803,0.873,0.9,0.761,0.71,0.869,0.526,0.858,0.749,0.664,0.716,0.524,0.557,0.59,0.772,0.556,0.865,0.888,0.543,0.749,0.645,0.811,0.754,0.581,0.301,0.867,0.434,0.878,0.894,0.853,0.922,0.713,0.511,0.722,0.728,0.733,0.8,0.786,0.472,0.39,0.506,0.899,0.437,0.627,0.377,0.63,0.786,0.374,0.467,0.565,0.67,0.985,0.769,0.641,0.607,0.92,0.643,0.907,0.398,0.72,0.846,0.783,0.563,0.714,0.802,0.838,0.634,0.724,0.572,0.774,0.773,0.542,0.802,0.656,0.917,0.615,0.736,0.868,0.697,0.839,0.803,0.558,0.506,0.92,0.822,0.52,0.734,0.835,0.809,0.847,0.825,0.681,0.839,0.899,0.682,0.754,0.928,0.909,0.489,0.478,0.53,0.787,0.756,0.774,0.765,0.598,0.45,0.325,0.791,0.296,0.428,0.611,0.703,0.56,0.301,0.37,0.41,0.511,0.414,0.359,0.623,0.72,0.853,0.697,0.248,0.796,0.663,0.593,0.374,0.756,0.632,0.55,0.853,0.836,0.783,0.714,0.703,0.805,0.412,0.624,0.711,0.513,0.383,0.798,0.711,0.405,0.839,0.701,0.428,0.546,0.596,0.818,0.666,0.818,0.567,0.907,0.725,0.687,0.441,0.781,0.623,0.411,0.678,0.57,0.548,0.529,0.471,0.569,0.527,0.907,0.583,0.844,0.927,0.688,0.901,0.95,0.961,0.644,0.938,0.94,0.888,0.705,0.837,0.889,0.593,0.662,0.567,0.785,0.88,0.85,0.921,0.939,0.84,0.854,0.901,0.97,0.972],\"xaxis\":\"x\",\"yaxis\":\"y\",\"type\":\"histogram\"}],                        {\"template\":{\"data\":{\"histogram2dcontour\":[{\"type\":\"histogram2dcontour\",\"colorbar\":{\"outlinewidth\":0,\"ticks\":\"\"},\"colorscale\":[[0.0,\"#0d0887\"],[0.1111111111111111,\"#46039f\"],[0.2222222222222222,\"#7201a8\"],[0.3333333333333333,\"#9c179e\"],[0.4444444444444444,\"#bd3786\"],[0.5555555555555556,\"#d8576b\"],[0.6666666666666666,\"#ed7953\"],[0.7777777777777778,\"#fb9f3a\"],[0.8888888888888888,\"#fdca26\"],[1.0,\"#f0f921\"]]}],\"choropleth\":[{\"type\":\"choropleth\",\"colorbar\":{\"outlinewidth\":0,\"ticks\":\"\"}}],\"histogram2d\":[{\"type\":\"histogram2d\",\"colorbar\":{\"outlinewidth\":0,\"ticks\":\"\"},\"colorscale\":[[0.0,\"#0d0887\"],[0.1111111111111111,\"#46039f\"],[0.2222222222222222,\"#7201a8\"],[0.3333333333333333,\"#9c179e\"],[0.4444444444444444,\"#bd3786\"],[0.5555555555555556,\"#d8576b\"],[0.6666666666666666,\"#ed7953\"],[0.7777777777777778,\"#fb9f3a\"],[0.8888888888888888,\"#fdca26\"],[1.0,\"#f0f921\"]]}],\"heatmap\":[{\"type\":\"heatmap\",\"colorbar\":{\"outlinewidth\":0,\"ticks\":\"\"},\"colorscale\":[[0.0,\"#0d0887\"],[0.1111111111111111,\"#46039f\"],[0.2222222222222222,\"#7201a8\"],[0.3333333333333333,\"#9c179e\"],[0.4444444444444444,\"#bd3786\"],[0.5555555555555556,\"#d8576b\"],[0.6666666666666666,\"#ed7953\"],[0.7777777777777778,\"#fb9f3a\"],[0.8888888888888888,\"#fdca26\"],[1.0,\"#f0f921\"]]}],\"heatmapgl\":[{\"type\":\"heatmapgl\",\"colorbar\":{\"outlinewidth\":0,\"ticks\":\"\"},\"colorscale\":[[0.0,\"#0d0887\"],[0.1111111111111111,\"#46039f\"],[0.2222222222222222,\"#7201a8\"],[0.3333333333333333,\"#9c179e\"],[0.4444444444444444,\"#bd3786\"],[0.5555555555555556,\"#d8576b\"],[0.6666666666666666,\"#ed7953\"],[0.7777777777777778,\"#fb9f3a\"],[0.8888888888888888,\"#fdca26\"],[1.0,\"#f0f921\"]]}],\"contourcarpet\":[{\"type\":\"contourcarpet\",\"colorbar\":{\"outlinewidth\":0,\"ticks\":\"\"}}],\"contour\":[{\"type\":\"contour\",\"colorbar\":{\"outlinewidth\":0,\"ticks\":\"\"},\"colorscale\":[[0.0,\"#0d0887\"],[0.1111111111111111,\"#46039f\"],[0.2222222222222222,\"#7201a8\"],[0.3333333333333333,\"#9c179e\"],[0.4444444444444444,\"#bd3786\"],[0.5555555555555556,\"#d8576b\"],[0.6666666666666666,\"#ed7953\"],[0.7777777777777778,\"#fb9f3a\"],[0.8888888888888888,\"#fdca26\"],[1.0,\"#f0f921\"]]}],\"surface\":[{\"type\":\"surface\",\"colorbar\":{\"outlinewidth\":0,\"ticks\":\"\"},\"colorscale\":[[0.0,\"#0d0887\"],[0.1111111111111111,\"#46039f\"],[0.2222222222222222,\"#7201a8\"],[0.3333333333333333,\"#9c179e\"],[0.4444444444444444,\"#bd3786\"],[0.5555555555555556,\"#d8576b\"],[0.6666666666666666,\"#ed7953\"],[0.7777777777777778,\"#fb9f3a\"],[0.8888888888888888,\"#fdca26\"],[1.0,\"#f0f921\"]]}],\"mesh3d\":[{\"type\":\"mesh3d\",\"colorbar\":{\"outlinewidth\":0,\"ticks\":\"\"}}],\"scatter\":[{\"fillpattern\":{\"fillmode\":\"overlay\",\"size\":10,\"solidity\":0.2},\"type\":\"scatter\"}],\"parcoords\":[{\"type\":\"parcoords\",\"line\":{\"colorbar\":{\"outlinewidth\":0,\"ticks\":\"\"}}}],\"scatterpolargl\":[{\"type\":\"scatterpolargl\",\"marker\":{\"colorbar\":{\"outlinewidth\":0,\"ticks\":\"\"}}}],\"bar\":[{\"error_x\":{\"color\":\"#2a3f5f\"},\"error_y\":{\"color\":\"#2a3f5f\"},\"marker\":{\"line\":{\"color\":\"#E5ECF6\",\"width\":0.5},\"pattern\":{\"fillmode\":\"overlay\",\"size\":10,\"solidity\":0.2}},\"type\":\"bar\"}],\"scattergeo\":[{\"type\":\"scattergeo\",\"marker\":{\"colorbar\":{\"outlinewidth\":0,\"ticks\":\"\"}}}],\"scatterpolar\":[{\"type\":\"scatterpolar\",\"marker\":{\"colorbar\":{\"outlinewidth\":0,\"ticks\":\"\"}}}],\"histogram\":[{\"marker\":{\"pattern\":{\"fillmode\":\"overlay\",\"size\":10,\"solidity\":0.2}},\"type\":\"histogram\"}],\"scattergl\":[{\"type\":\"scattergl\",\"marker\":{\"colorbar\":{\"outlinewidth\":0,\"ticks\":\"\"}}}],\"scatter3d\":[{\"type\":\"scatter3d\",\"line\":{\"colorbar\":{\"outlinewidth\":0,\"ticks\":\"\"}},\"marker\":{\"colorbar\":{\"outlinewidth\":0,\"ticks\":\"\"}}}],\"scattermapbox\":[{\"type\":\"scattermapbox\",\"marker\":{\"colorbar\":{\"outlinewidth\":0,\"ticks\":\"\"}}}],\"scatterternary\":[{\"type\":\"scatterternary\",\"marker\":{\"colorbar\":{\"outlinewidth\":0,\"ticks\":\"\"}}}],\"scattercarpet\":[{\"type\":\"scattercarpet\",\"marker\":{\"colorbar\":{\"outlinewidth\":0,\"ticks\":\"\"}}}],\"carpet\":[{\"aaxis\":{\"endlinecolor\":\"#2a3f5f\",\"gridcolor\":\"white\",\"linecolor\":\"white\",\"minorgridcolor\":\"white\",\"startlinecolor\":\"#2a3f5f\"},\"baxis\":{\"endlinecolor\":\"#2a3f5f\",\"gridcolor\":\"white\",\"linecolor\":\"white\",\"minorgridcolor\":\"white\",\"startlinecolor\":\"#2a3f5f\"},\"type\":\"carpet\"}],\"table\":[{\"cells\":{\"fill\":{\"color\":\"#EBF0F8\"},\"line\":{\"color\":\"white\"}},\"header\":{\"fill\":{\"color\":\"#C8D4E3\"},\"line\":{\"color\":\"white\"}},\"type\":\"table\"}],\"barpolar\":[{\"marker\":{\"line\":{\"color\":\"#E5ECF6\",\"width\":0.5},\"pattern\":{\"fillmode\":\"overlay\",\"size\":10,\"solidity\":0.2}},\"type\":\"barpolar\"}],\"pie\":[{\"automargin\":true,\"type\":\"pie\"}]},\"layout\":{\"autotypenumbers\":\"strict\",\"colorway\":[\"#636efa\",\"#EF553B\",\"#00cc96\",\"#ab63fa\",\"#FFA15A\",\"#19d3f3\",\"#FF6692\",\"#B6E880\",\"#FF97FF\",\"#FECB52\"],\"font\":{\"color\":\"#2a3f5f\"},\"hovermode\":\"closest\",\"hoverlabel\":{\"align\":\"left\"},\"paper_bgcolor\":\"white\",\"plot_bgcolor\":\"#E5ECF6\",\"polar\":{\"bgcolor\":\"#E5ECF6\",\"angularaxis\":{\"gridcolor\":\"white\",\"linecolor\":\"white\",\"ticks\":\"\"},\"radialaxis\":{\"gridcolor\":\"white\",\"linecolor\":\"white\",\"ticks\":\"\"}},\"ternary\":{\"bgcolor\":\"#E5ECF6\",\"aaxis\":{\"gridcolor\":\"white\",\"linecolor\":\"white\",\"ticks\":\"\"},\"baxis\":{\"gridcolor\":\"white\",\"linecolor\":\"white\",\"ticks\":\"\"},\"caxis\":{\"gridcolor\":\"white\",\"linecolor\":\"white\",\"ticks\":\"\"}},\"coloraxis\":{\"colorbar\":{\"outlinewidth\":0,\"ticks\":\"\"}},\"colorscale\":{\"sequential\":[[0.0,\"#0d0887\"],[0.1111111111111111,\"#46039f\"],[0.2222222222222222,\"#7201a8\"],[0.3333333333333333,\"#9c179e\"],[0.4444444444444444,\"#bd3786\"],[0.5555555555555556,\"#d8576b\"],[0.6666666666666666,\"#ed7953\"],[0.7777777777777778,\"#fb9f3a\"],[0.8888888888888888,\"#fdca26\"],[1.0,\"#f0f921\"]],\"sequentialminus\":[[0.0,\"#0d0887\"],[0.1111111111111111,\"#46039f\"],[0.2222222222222222,\"#7201a8\"],[0.3333333333333333,\"#9c179e\"],[0.4444444444444444,\"#bd3786\"],[0.5555555555555556,\"#d8576b\"],[0.6666666666666666,\"#ed7953\"],[0.7777777777777778,\"#fb9f3a\"],[0.8888888888888888,\"#fdca26\"],[1.0,\"#f0f921\"]],\"diverging\":[[0,\"#8e0152\"],[0.1,\"#c51b7d\"],[0.2,\"#de77ae\"],[0.3,\"#f1b6da\"],[0.4,\"#fde0ef\"],[0.5,\"#f7f7f7\"],[0.6,\"#e6f5d0\"],[0.7,\"#b8e186\"],[0.8,\"#7fbc41\"],[0.9,\"#4d9221\"],[1,\"#276419\"]]},\"xaxis\":{\"gridcolor\":\"white\",\"linecolor\":\"white\",\"ticks\":\"\",\"title\":{\"standoff\":15},\"zerolinecolor\":\"white\",\"automargin\":true,\"zerolinewidth\":2},\"yaxis\":{\"gridcolor\":\"white\",\"linecolor\":\"white\",\"ticks\":\"\",\"title\":{\"standoff\":15},\"zerolinecolor\":\"white\",\"automargin\":true,\"zerolinewidth\":2},\"scene\":{\"xaxis\":{\"backgroundcolor\":\"#E5ECF6\",\"gridcolor\":\"white\",\"linecolor\":\"white\",\"showbackground\":true,\"ticks\":\"\",\"zerolinecolor\":\"white\",\"gridwidth\":2},\"yaxis\":{\"backgroundcolor\":\"#E5ECF6\",\"gridcolor\":\"white\",\"linecolor\":\"white\",\"showbackground\":true,\"ticks\":\"\",\"zerolinecolor\":\"white\",\"gridwidth\":2},\"zaxis\":{\"backgroundcolor\":\"#E5ECF6\",\"gridcolor\":\"white\",\"linecolor\":\"white\",\"showbackground\":true,\"ticks\":\"\",\"zerolinecolor\":\"white\",\"gridwidth\":2}},\"shapedefaults\":{\"line\":{\"color\":\"#2a3f5f\"}},\"annotationdefaults\":{\"arrowcolor\":\"#2a3f5f\",\"arrowhead\":0,\"arrowwidth\":1},\"geo\":{\"bgcolor\":\"white\",\"landcolor\":\"#E5ECF6\",\"subunitcolor\":\"white\",\"showland\":true,\"showlakes\":true,\"lakecolor\":\"white\"},\"title\":{\"x\":0.05},\"mapbox\":{\"style\":\"light\"}}},\"xaxis\":{\"anchor\":\"y\",\"domain\":[0.0,1.0],\"title\":{\"text\":\"Energy\"}},\"yaxis\":{\"anchor\":\"x\",\"domain\":[0.0,1.0],\"title\":{\"text\":\"count\"}},\"legend\":{\"tracegroupgap\":0},\"margin\":{\"t\":60},\"barmode\":\"relative\"},                        {\"responsive\": true}                    ).then(function(){\n",
       "                            \n",
       "var gd = document.getElementById('f0013376-51a7-4ff0-aee2-6c07fcaa926e');\n",
       "var x = new MutationObserver(function (mutations, observer) {{\n",
       "        var display = window.getComputedStyle(gd).display;\n",
       "        if (!display || display === 'none') {{\n",
       "            console.log([gd, 'removed!']);\n",
       "            Plotly.purge(gd);\n",
       "            observer.disconnect();\n",
       "        }}\n",
       "}});\n",
       "\n",
       "// Listen for the removal of the full notebook cells\n",
       "var notebookContainer = gd.closest('#notebook-container');\n",
       "if (notebookContainer) {{\n",
       "    x.observe(notebookContainer, {childList: true});\n",
       "}}\n",
       "\n",
       "// Listen for the clearing of the current output cell\n",
       "var outputEl = gd.closest('.output');\n",
       "if (outputEl) {{\n",
       "    x.observe(outputEl, {childList: true});\n",
       "}}\n",
       "\n",
       "                        })                };                });            </script>        </div>"
      ]
     },
     "metadata": {},
     "output_type": "display_data"
    }
   ],
   "source": [
    "express.histogram(data_frame=df, x='Energy')"
   ]
  },
  {
   "cell_type": "markdown",
   "id": "327c0b02",
   "metadata": {
    "papermill": {
     "duration": 0.016339,
     "end_time": "2024-09-02T15:27:38.460555",
     "exception": false,
     "start_time": "2024-09-02T15:27:38.444216",
     "status": "completed"
    },
    "tags": []
   },
   "source": [
    "We already learned there are some torch songs in our dataset; maybe some ballads too?"
   ]
  },
  {
   "cell_type": "code",
   "execution_count": 17,
   "id": "856435d9",
   "metadata": {
    "execution": {
     "iopub.execute_input": "2024-09-02T15:27:38.496073Z",
     "iopub.status.busy": "2024-09-02T15:27:38.495070Z",
     "iopub.status.idle": "2024-09-02T15:27:38.522857Z",
     "shell.execute_reply": "2024-09-02T15:27:38.521637Z"
    },
    "papermill": {
     "duration": 0.048287,
     "end_time": "2024-09-02T15:27:38.525461",
     "exception": false,
     "start_time": "2024-09-02T15:27:38.477174",
     "status": "completed"
    },
    "tags": []
   },
   "outputs": [
    {
     "data": {
      "text/html": [
       "<div>\n",
       "<style scoped>\n",
       "    .dataframe tbody tr th:only-of-type {\n",
       "        vertical-align: middle;\n",
       "    }\n",
       "\n",
       "    .dataframe tbody tr th {\n",
       "        vertical-align: top;\n",
       "    }\n",
       "\n",
       "    .dataframe thead th {\n",
       "        text-align: right;\n",
       "    }\n",
       "</style>\n",
       "<table border=\"1\" class=\"dataframe\">\n",
       "  <thead>\n",
       "    <tr style=\"text-align: right;\">\n",
       "      <th></th>\n",
       "      <th>Track</th>\n",
       "      <th>Artist</th>\n",
       "      <th>Album</th>\n",
       "      <th>Year</th>\n",
       "      <th>Duration</th>\n",
       "      <th>Time_Signature</th>\n",
       "      <th>Danceability</th>\n",
       "      <th>Energy</th>\n",
       "      <th>Key</th>\n",
       "      <th>Loudness</th>\n",
       "      <th>Mode</th>\n",
       "      <th>Speechiness</th>\n",
       "      <th>Acousticness</th>\n",
       "      <th>Instrumentalness</th>\n",
       "      <th>Liveness</th>\n",
       "      <th>Valence</th>\n",
       "      <th>Tempo</th>\n",
       "      <th>Popularity</th>\n",
       "    </tr>\n",
       "  </thead>\n",
       "  <tbody>\n",
       "    <tr>\n",
       "      <th>409</th>\n",
       "      <td>She's Out of My Life - Single Version</td>\n",
       "      <td>Michael Jackson</td>\n",
       "      <td>Off the Wall</td>\n",
       "      <td>1979</td>\n",
       "      <td>218266</td>\n",
       "      <td>4</td>\n",
       "      <td>0.293</td>\n",
       "      <td>0.0348</td>\n",
       "      <td>4</td>\n",
       "      <td>-23.920</td>\n",
       "      <td>1</td>\n",
       "      <td>0.0414</td>\n",
       "      <td>0.962</td>\n",
       "      <td>0.000212</td>\n",
       "      <td>0.1050</td>\n",
       "      <td>0.101</td>\n",
       "      <td>130.959</td>\n",
       "      <td>56</td>\n",
       "    </tr>\n",
       "    <tr>\n",
       "      <th>150</th>\n",
       "      <td>Three Times A Lady</td>\n",
       "      <td>Commodores</td>\n",
       "      <td>All The Great Love Songs</td>\n",
       "      <td>1978</td>\n",
       "      <td>217426</td>\n",
       "      <td>3</td>\n",
       "      <td>0.390</td>\n",
       "      <td>0.0803</td>\n",
       "      <td>8</td>\n",
       "      <td>-20.518</td>\n",
       "      <td>1</td>\n",
       "      <td>0.0306</td>\n",
       "      <td>0.874</td>\n",
       "      <td>0.000639</td>\n",
       "      <td>0.1270</td>\n",
       "      <td>0.184</td>\n",
       "      <td>150.503</td>\n",
       "      <td>53</td>\n",
       "    </tr>\n",
       "    <tr>\n",
       "      <th>450</th>\n",
       "      <td>I'm Going Down</td>\n",
       "      <td>Rose Royce</td>\n",
       "      <td>Car Wash</td>\n",
       "      <td>1976</td>\n",
       "      <td>216773</td>\n",
       "      <td>3</td>\n",
       "      <td>0.623</td>\n",
       "      <td>0.1030</td>\n",
       "      <td>0</td>\n",
       "      <td>-15.008</td>\n",
       "      <td>1</td>\n",
       "      <td>0.0393</td>\n",
       "      <td>0.712</td>\n",
       "      <td>0.000177</td>\n",
       "      <td>0.1090</td>\n",
       "      <td>0.319</td>\n",
       "      <td>92.257</td>\n",
       "      <td>44</td>\n",
       "    </tr>\n",
       "    <tr>\n",
       "      <th>299</th>\n",
       "      <td>Always and Forever</td>\n",
       "      <td>Heatwave</td>\n",
       "      <td>Too Hot to Handle (Expanded Edition)</td>\n",
       "      <td>1976</td>\n",
       "      <td>377106</td>\n",
       "      <td>3</td>\n",
       "      <td>0.333</td>\n",
       "      <td>0.1560</td>\n",
       "      <td>2</td>\n",
       "      <td>-17.574</td>\n",
       "      <td>1</td>\n",
       "      <td>0.0335</td>\n",
       "      <td>0.286</td>\n",
       "      <td>0.000023</td>\n",
       "      <td>0.1510</td>\n",
       "      <td>0.195</td>\n",
       "      <td>71.441</td>\n",
       "      <td>52</td>\n",
       "    </tr>\n",
       "    <tr>\n",
       "      <th>449</th>\n",
       "      <td>I Wanna Get Next To You</td>\n",
       "      <td>Rose Royce</td>\n",
       "      <td>Car Wash</td>\n",
       "      <td>1976</td>\n",
       "      <td>238200</td>\n",
       "      <td>4</td>\n",
       "      <td>0.620</td>\n",
       "      <td>0.1790</td>\n",
       "      <td>0</td>\n",
       "      <td>-19.981</td>\n",
       "      <td>1</td>\n",
       "      <td>0.0314</td>\n",
       "      <td>0.835</td>\n",
       "      <td>0.030000</td>\n",
       "      <td>0.0928</td>\n",
       "      <td>0.675</td>\n",
       "      <td>130.864</td>\n",
       "      <td>52</td>\n",
       "    </tr>\n",
       "    <tr>\n",
       "      <th>147</th>\n",
       "      <td>Oh No</td>\n",
       "      <td>Commodores</td>\n",
       "      <td>In The Pocket</td>\n",
       "      <td>1981</td>\n",
       "      <td>184306</td>\n",
       "      <td>4</td>\n",
       "      <td>0.584</td>\n",
       "      <td>0.1860</td>\n",
       "      <td>8</td>\n",
       "      <td>-17.158</td>\n",
       "      <td>1</td>\n",
       "      <td>0.0258</td>\n",
       "      <td>0.772</td>\n",
       "      <td>0.000006</td>\n",
       "      <td>0.2730</td>\n",
       "      <td>0.336</td>\n",
       "      <td>85.731</td>\n",
       "      <td>49</td>\n",
       "    </tr>\n",
       "    <tr>\n",
       "      <th>320</th>\n",
       "      <td>Medley: I Just Want To Make Love To You/Rock M...</td>\n",
       "      <td>Isaac Hayes</td>\n",
       "      <td>Presenting Isaac Hayes</td>\n",
       "      <td>1975</td>\n",
       "      <td>541226</td>\n",
       "      <td>4</td>\n",
       "      <td>0.515</td>\n",
       "      <td>0.1950</td>\n",
       "      <td>3</td>\n",
       "      <td>-18.009</td>\n",
       "      <td>1</td>\n",
       "      <td>0.0869</td>\n",
       "      <td>0.860</td>\n",
       "      <td>0.000082</td>\n",
       "      <td>0.2550</td>\n",
       "      <td>0.479</td>\n",
       "      <td>138.339</td>\n",
       "      <td>7</td>\n",
       "    </tr>\n",
       "  </tbody>\n",
       "</table>\n",
       "</div>"
      ],
      "text/plain": [
       "                                                 Track           Artist  \\\n",
       "409              She's Out of My Life - Single Version  Michael Jackson   \n",
       "150                                 Three Times A Lady       Commodores   \n",
       "450                                     I'm Going Down       Rose Royce   \n",
       "299                                 Always and Forever         Heatwave   \n",
       "449                            I Wanna Get Next To You       Rose Royce   \n",
       "147                                              Oh No       Commodores   \n",
       "320  Medley: I Just Want To Make Love To You/Rock M...      Isaac Hayes   \n",
       "\n",
       "                                    Album  Year  Duration  Time_Signature  \\\n",
       "409                          Off the Wall  1979    218266               4   \n",
       "150              All The Great Love Songs  1978    217426               3   \n",
       "450                              Car Wash  1976    216773               3   \n",
       "299  Too Hot to Handle (Expanded Edition)  1976    377106               3   \n",
       "449                              Car Wash  1976    238200               4   \n",
       "147                         In The Pocket  1981    184306               4   \n",
       "320                Presenting Isaac Hayes  1975    541226               4   \n",
       "\n",
       "     Danceability  Energy  Key  Loudness  Mode  Speechiness  Acousticness  \\\n",
       "409         0.293  0.0348    4   -23.920     1       0.0414         0.962   \n",
       "150         0.390  0.0803    8   -20.518     1       0.0306         0.874   \n",
       "450         0.623  0.1030    0   -15.008     1       0.0393         0.712   \n",
       "299         0.333  0.1560    2   -17.574     1       0.0335         0.286   \n",
       "449         0.620  0.1790    0   -19.981     1       0.0314         0.835   \n",
       "147         0.584  0.1860    8   -17.158     1       0.0258         0.772   \n",
       "320         0.515  0.1950    3   -18.009     1       0.0869         0.860   \n",
       "\n",
       "     Instrumentalness  Liveness  Valence    Tempo  Popularity  \n",
       "409          0.000212    0.1050    0.101  130.959          56  \n",
       "150          0.000639    0.1270    0.184  150.503          53  \n",
       "450          0.000177    0.1090    0.319   92.257          44  \n",
       "299          0.000023    0.1510    0.195   71.441          52  \n",
       "449          0.030000    0.0928    0.675  130.864          52  \n",
       "147          0.000006    0.2730    0.336   85.731          49  \n",
       "320          0.000082    0.2550    0.479  138.339           7  "
      ]
     },
     "execution_count": 17,
     "metadata": {},
     "output_type": "execute_result"
    }
   ],
   "source": [
    "df[df['Energy'] < 0.2].sort_values(by='Energy')"
   ]
  },
  {
   "cell_type": "markdown",
   "id": "67038d76",
   "metadata": {
    "papermill": {
     "duration": 0.016662,
     "end_time": "2024-09-02T15:27:38.559107",
     "exception": false,
     "start_time": "2024-09-02T15:27:38.542445",
     "status": "completed"
    },
    "tags": []
   },
   "source": [
    "What does the other end of our distribution look like?"
   ]
  },
  {
   "cell_type": "code",
   "execution_count": 18,
   "id": "60149704",
   "metadata": {
    "execution": {
     "iopub.execute_input": "2024-09-02T15:27:38.595615Z",
     "iopub.status.busy": "2024-09-02T15:27:38.594557Z",
     "iopub.status.idle": "2024-09-02T15:27:38.624169Z",
     "shell.execute_reply": "2024-09-02T15:27:38.623064Z"
    },
    "papermill": {
     "duration": 0.05069,
     "end_time": "2024-09-02T15:27:38.626873",
     "exception": false,
     "start_time": "2024-09-02T15:27:38.576183",
     "status": "completed"
    },
    "tags": []
   },
   "outputs": [
    {
     "data": {
      "text/html": [
       "<div>\n",
       "<style scoped>\n",
       "    .dataframe tbody tr th:only-of-type {\n",
       "        vertical-align: middle;\n",
       "    }\n",
       "\n",
       "    .dataframe tbody tr th {\n",
       "        vertical-align: top;\n",
       "    }\n",
       "\n",
       "    .dataframe thead th {\n",
       "        text-align: right;\n",
       "    }\n",
       "</style>\n",
       "<table border=\"1\" class=\"dataframe\">\n",
       "  <thead>\n",
       "    <tr style=\"text-align: right;\">\n",
       "      <th></th>\n",
       "      <th>Track</th>\n",
       "      <th>Artist</th>\n",
       "      <th>Album</th>\n",
       "      <th>Year</th>\n",
       "      <th>Duration</th>\n",
       "      <th>Time_Signature</th>\n",
       "      <th>Danceability</th>\n",
       "      <th>Energy</th>\n",
       "      <th>Key</th>\n",
       "      <th>Loudness</th>\n",
       "      <th>Mode</th>\n",
       "      <th>Speechiness</th>\n",
       "      <th>Acousticness</th>\n",
       "      <th>Instrumentalness</th>\n",
       "      <th>Liveness</th>\n",
       "      <th>Valence</th>\n",
       "      <th>Tempo</th>\n",
       "      <th>Popularity</th>\n",
       "    </tr>\n",
       "  </thead>\n",
       "  <tbody>\n",
       "    <tr>\n",
       "      <th>578</th>\n",
       "      <td>Take Me to the Next Phase, Pts. 1 &amp; 2</td>\n",
       "      <td>The Isley Brothers</td>\n",
       "      <td>Showdown</td>\n",
       "      <td>1975</td>\n",
       "      <td>310760</td>\n",
       "      <td>4</td>\n",
       "      <td>0.781</td>\n",
       "      <td>0.985</td>\n",
       "      <td>5</td>\n",
       "      <td>-5.199</td>\n",
       "      <td>0</td>\n",
       "      <td>0.1070</td>\n",
       "      <td>0.315000</td>\n",
       "      <td>0.000000</td>\n",
       "      <td>0.3370</td>\n",
       "      <td>0.622</td>\n",
       "      <td>105.029</td>\n",
       "      <td>19</td>\n",
       "    </tr>\n",
       "    <tr>\n",
       "      <th>155</th>\n",
       "      <td>Far Out</td>\n",
       "      <td>Crown Heights Affair</td>\n",
       "      <td>Do It Your Way</td>\n",
       "      <td>1979</td>\n",
       "      <td>381560</td>\n",
       "      <td>4</td>\n",
       "      <td>0.535</td>\n",
       "      <td>0.976</td>\n",
       "      <td>6</td>\n",
       "      <td>-6.415</td>\n",
       "      <td>1</td>\n",
       "      <td>0.0653</td>\n",
       "      <td>0.016600</td>\n",
       "      <td>0.346000</td>\n",
       "      <td>0.0342</td>\n",
       "      <td>0.825</td>\n",
       "      <td>123.653</td>\n",
       "      <td>17</td>\n",
       "    </tr>\n",
       "    <tr>\n",
       "      <th>367</th>\n",
       "      <td>Crash Goes Love (Blaster Mix)</td>\n",
       "      <td>Loleatta Holloway</td>\n",
       "      <td>Crash Goes Love</td>\n",
       "      <td>1980</td>\n",
       "      <td>441765</td>\n",
       "      <td>4</td>\n",
       "      <td>0.665</td>\n",
       "      <td>0.976</td>\n",
       "      <td>2</td>\n",
       "      <td>-6.016</td>\n",
       "      <td>1</td>\n",
       "      <td>0.0462</td>\n",
       "      <td>0.002220</td>\n",
       "      <td>0.005520</td>\n",
       "      <td>0.0819</td>\n",
       "      <td>0.796</td>\n",
       "      <td>117.525</td>\n",
       "      <td>13</td>\n",
       "    </tr>\n",
       "    <tr>\n",
       "      <th>723</th>\n",
       "      <td>Tahiti, Tahiti…</td>\n",
       "      <td>Voyage</td>\n",
       "      <td>Fly Away</td>\n",
       "      <td>1979</td>\n",
       "      <td>299510</td>\n",
       "      <td>4</td>\n",
       "      <td>0.672</td>\n",
       "      <td>0.972</td>\n",
       "      <td>2</td>\n",
       "      <td>-4.929</td>\n",
       "      <td>1</td>\n",
       "      <td>0.1390</td>\n",
       "      <td>0.004250</td>\n",
       "      <td>0.000009</td>\n",
       "      <td>0.1010</td>\n",
       "      <td>0.815</td>\n",
       "      <td>127.591</td>\n",
       "      <td>24</td>\n",
       "    </tr>\n",
       "    <tr>\n",
       "      <th>145</th>\n",
       "      <td>Machine Gun</td>\n",
       "      <td>Commodores</td>\n",
       "      <td>Machine Gun</td>\n",
       "      <td>1974</td>\n",
       "      <td>159466</td>\n",
       "      <td>4</td>\n",
       "      <td>0.741</td>\n",
       "      <td>0.970</td>\n",
       "      <td>5</td>\n",
       "      <td>-6.364</td>\n",
       "      <td>1</td>\n",
       "      <td>0.0341</td>\n",
       "      <td>0.008820</td>\n",
       "      <td>0.836000</td>\n",
       "      <td>0.2950</td>\n",
       "      <td>0.778</td>\n",
       "      <td>113.103</td>\n",
       "      <td>48</td>\n",
       "    </tr>\n",
       "    <tr>\n",
       "      <th>252</th>\n",
       "      <td>Spanish Hustle</td>\n",
       "      <td>Fatback Band</td>\n",
       "      <td>Hustle! The Ultimate Fatback</td>\n",
       "      <td>1975</td>\n",
       "      <td>205213</td>\n",
       "      <td>4</td>\n",
       "      <td>0.426</td>\n",
       "      <td>0.970</td>\n",
       "      <td>10</td>\n",
       "      <td>-6.928</td>\n",
       "      <td>1</td>\n",
       "      <td>0.1030</td>\n",
       "      <td>0.003570</td>\n",
       "      <td>0.207000</td>\n",
       "      <td>0.0817</td>\n",
       "      <td>0.650</td>\n",
       "      <td>123.723</td>\n",
       "      <td>23</td>\n",
       "    </tr>\n",
       "    <tr>\n",
       "      <th>722</th>\n",
       "      <td>Souvenirs</td>\n",
       "      <td>Voyage</td>\n",
       "      <td>Fly Away</td>\n",
       "      <td>1979</td>\n",
       "      <td>390567</td>\n",
       "      <td>4</td>\n",
       "      <td>0.633</td>\n",
       "      <td>0.970</td>\n",
       "      <td>5</td>\n",
       "      <td>-4.153</td>\n",
       "      <td>1</td>\n",
       "      <td>0.0380</td>\n",
       "      <td>0.000667</td>\n",
       "      <td>0.202000</td>\n",
       "      <td>0.3960</td>\n",
       "      <td>0.757</td>\n",
       "      <td>127.776</td>\n",
       "      <td>29</td>\n",
       "    </tr>\n",
       "    <tr>\n",
       "      <th>167</th>\n",
       "      <td>Move On Up</td>\n",
       "      <td>Curtis Mayfield</td>\n",
       "      <td>People Never Give Up</td>\n",
       "      <td>1970</td>\n",
       "      <td>165789</td>\n",
       "      <td>4</td>\n",
       "      <td>0.538</td>\n",
       "      <td>0.969</td>\n",
       "      <td>11</td>\n",
       "      <td>-5.626</td>\n",
       "      <td>0</td>\n",
       "      <td>0.0907</td>\n",
       "      <td>0.419000</td>\n",
       "      <td>0.001440</td>\n",
       "      <td>0.1200</td>\n",
       "      <td>0.928</td>\n",
       "      <td>138.654</td>\n",
       "      <td>54</td>\n",
       "    </tr>\n",
       "    <tr>\n",
       "      <th>703</th>\n",
       "      <td>Hold Tight</td>\n",
       "      <td>Vicki Sue Robinson</td>\n",
       "      <td>Half and Half (Expanded Edition)</td>\n",
       "      <td>1976</td>\n",
       "      <td>326626</td>\n",
       "      <td>4</td>\n",
       "      <td>0.691</td>\n",
       "      <td>0.961</td>\n",
       "      <td>0</td>\n",
       "      <td>-3.914</td>\n",
       "      <td>1</td>\n",
       "      <td>0.0558</td>\n",
       "      <td>0.141000</td>\n",
       "      <td>0.000147</td>\n",
       "      <td>0.5980</td>\n",
       "      <td>0.833</td>\n",
       "      <td>123.459</td>\n",
       "      <td>6</td>\n",
       "    </tr>\n",
       "    <tr>\n",
       "      <th>283</th>\n",
       "      <td>Love On Top Of Love</td>\n",
       "      <td>Grace Jones</td>\n",
       "      <td>20 #1's: 80's Club Classics</td>\n",
       "      <td>1980</td>\n",
       "      <td>368146</td>\n",
       "      <td>4</td>\n",
       "      <td>0.708</td>\n",
       "      <td>0.951</td>\n",
       "      <td>10</td>\n",
       "      <td>-5.638</td>\n",
       "      <td>0</td>\n",
       "      <td>0.0729</td>\n",
       "      <td>0.007180</td>\n",
       "      <td>0.001130</td>\n",
       "      <td>0.1930</td>\n",
       "      <td>0.712</td>\n",
       "      <td>105.157</td>\n",
       "      <td>9</td>\n",
       "    </tr>\n",
       "  </tbody>\n",
       "</table>\n",
       "</div>"
      ],
      "text/plain": [
       "                                     Track                Artist  \\\n",
       "578  Take Me to the Next Phase, Pts. 1 & 2    The Isley Brothers   \n",
       "155                                Far Out  Crown Heights Affair   \n",
       "367          Crash Goes Love (Blaster Mix)     Loleatta Holloway   \n",
       "723                        Tahiti, Tahiti…                Voyage   \n",
       "145                            Machine Gun            Commodores   \n",
       "252                         Spanish Hustle          Fatback Band   \n",
       "722                              Souvenirs                Voyage   \n",
       "167                             Move On Up       Curtis Mayfield   \n",
       "703                             Hold Tight    Vicki Sue Robinson   \n",
       "283                    Love On Top Of Love           Grace Jones   \n",
       "\n",
       "                                Album  Year  Duration  Time_Signature  \\\n",
       "578                          Showdown  1975    310760               4   \n",
       "155                    Do It Your Way  1979    381560               4   \n",
       "367                   Crash Goes Love  1980    441765               4   \n",
       "723                          Fly Away  1979    299510               4   \n",
       "145                       Machine Gun  1974    159466               4   \n",
       "252      Hustle! The Ultimate Fatback  1975    205213               4   \n",
       "722                          Fly Away  1979    390567               4   \n",
       "167              People Never Give Up  1970    165789               4   \n",
       "703  Half and Half (Expanded Edition)  1976    326626               4   \n",
       "283       20 #1's: 80's Club Classics  1980    368146               4   \n",
       "\n",
       "     Danceability  Energy  Key  Loudness  Mode  Speechiness  Acousticness  \\\n",
       "578         0.781   0.985    5    -5.199     0       0.1070      0.315000   \n",
       "155         0.535   0.976    6    -6.415     1       0.0653      0.016600   \n",
       "367         0.665   0.976    2    -6.016     1       0.0462      0.002220   \n",
       "723         0.672   0.972    2    -4.929     1       0.1390      0.004250   \n",
       "145         0.741   0.970    5    -6.364     1       0.0341      0.008820   \n",
       "252         0.426   0.970   10    -6.928     1       0.1030      0.003570   \n",
       "722         0.633   0.970    5    -4.153     1       0.0380      0.000667   \n",
       "167         0.538   0.969   11    -5.626     0       0.0907      0.419000   \n",
       "703         0.691   0.961    0    -3.914     1       0.0558      0.141000   \n",
       "283         0.708   0.951   10    -5.638     0       0.0729      0.007180   \n",
       "\n",
       "     Instrumentalness  Liveness  Valence    Tempo  Popularity  \n",
       "578          0.000000    0.3370    0.622  105.029          19  \n",
       "155          0.346000    0.0342    0.825  123.653          17  \n",
       "367          0.005520    0.0819    0.796  117.525          13  \n",
       "723          0.000009    0.1010    0.815  127.591          24  \n",
       "145          0.836000    0.2950    0.778  113.103          48  \n",
       "252          0.207000    0.0817    0.650  123.723          23  \n",
       "722          0.202000    0.3960    0.757  127.776          29  \n",
       "167          0.001440    0.1200    0.928  138.654          54  \n",
       "703          0.000147    0.5980    0.833  123.459           6  \n",
       "283          0.001130    0.1930    0.712  105.157           9  "
      ]
     },
     "execution_count": 18,
     "metadata": {},
     "output_type": "execute_result"
    }
   ],
   "source": [
    "df[df['Energy'] > 0.95].sort_values(ascending=False, by='Energy')"
   ]
  },
  {
   "cell_type": "code",
   "execution_count": 19,
   "id": "d0a80f84",
   "metadata": {
    "execution": {
     "iopub.execute_input": "2024-09-02T15:27:38.664963Z",
     "iopub.status.busy": "2024-09-02T15:27:38.664115Z",
     "iopub.status.idle": "2024-09-02T15:27:38.739571Z",
     "shell.execute_reply": "2024-09-02T15:27:38.738387Z"
    },
    "papermill": {
     "duration": 0.097633,
     "end_time": "2024-09-02T15:27:38.742472",
     "exception": false,
     "start_time": "2024-09-02T15:27:38.644839",
     "status": "completed"
    },
    "tags": []
   },
   "outputs": [
    {
     "data": {
      "text/html": [
       "<div>                            <div id=\"ad99e0bb-d640-432e-9710-3b11600f61d4\" class=\"plotly-graph-div\" style=\"height:525px; width:100%;\"></div>            <script type=\"text/javascript\">                require([\"plotly\"], function(Plotly) {                    window.PLOTLYENV=window.PLOTLYENV || {};                                    if (document.getElementById(\"ad99e0bb-d640-432e-9710-3b11600f61d4\")) {                    Plotly.newPlot(                        \"ad99e0bb-d640-432e-9710-3b11600f61d4\",                        [{\"alignmentgroup\":\"True\",\"bingroup\":\"x\",\"hovertemplate\":\"Tempo=%{x}\\u003cbr\\u003ecount=%{y}\\u003cextra\\u003e\\u003c\\u002fextra\\u003e\",\"legendgroup\":\"\",\"marker\":{\"color\":\"#636efa\",\"pattern\":{\"shape\":\"\"}},\"name\":\"\",\"offsetgroup\":\"\",\"orientation\":\"v\",\"showlegend\":false,\"x\":[123.686,103.408,163.4,104.168,129.267,106.817,93.534,107.687,99.375,84.229,100.804,110.821,119.528,107.285,124.353,130.703,107.064,77.049,126.636,118.938,96.631,202.097,122.654,129.378,103.113,119.185,110.121,145.714,113.943,182.164,126.509,122.298,107.931,119.74,114.95,94.548,118.545,123.598,115.773,110.045,80.147,101.241,107.724,110.764,116.796,104.838,132.582,108.158,115.583,122.674,118.615,103.377,119.137,109.947,124.14,111.833,87.568,99.325,85.164,82.926,114.223,131.007,97.982,104.938,105.911,94.713,105.959,109.121,88.862,103.564,117.954,122.929,121.328,143.016,125.43,133.229,114.104,130.066,63.103,135.879,124.115,122.835,101.467,104.881,123.025,117.999,125.559,171.768,105.64,124.431,128.976,112.517,126.143,115.118,121.82,121.994,94.057,115.389,116.006,128.987,125.868,120.229,125.845,119.878,117.663,130.388,121.436,123.043,116.422,125.949,127.106,123.993,119.545,125.977,127.675,124.031,123.028,114.045,93.424,134.289,106.123,114.657,123.6,113.199,120.773,137.532,112.153,113.05,123.166,128.016,110.596,113.126,125.013,119.873,106.625,120.2,138.985,129.989,124.167,90.682,128.097,136.878,107.878,132.921,120.979,113.103,105.06,85.731,142.417,149.249,150.503,120.744,123.429,118.595,127.475,123.653,128.0,116.938,113.903,122.703,111.902,114.762,178.151,102.929,90.464,109.698,115.734,138.654,126.624,120.585,120.11,119.907,122.658,117.009,100.995,112.854,115.007,119.898,138.554,113.019,128.925,119.734,81.473,113.081,118.177,122.738,104.091,185.345,97.089,127.814,133.49,110.071,99.472,112.437,123.664,107.868,126.142,110.921,120.529,120.56,131.732,120.471,128.1,125.37,96.168,131.023,127.46,140.857,131.675,131.982,88.941,112.595,114.612,125.035,125.926,139.872,102.516,122.72,116.727,113.332,114.543,123.132,108.474,104.035,104.932,149.959,101.568,98.184,100.148,142.857,131.013,87.621,134.026,97.121,103.157,124.567,109.015,115.326,124.79,134.258,114.929,115.594,115.735,110.01,133.805,122.544,108.906,116.494,119.194,105.434,104.129,119.349,123.723,123.28,118.879,119.581,105.794,110.85,127.207,113.862,116.252,132.273,115.987,109.976,136.182,126.259,122.61,184.611,176.345,122.322,120.321,130.317,116.91,128.26,122.106,120.017,117.89,186.328,134.855,113.615,120.473,131.634,176.708,105.157,94.557,132.312,108.623,97.095,131.719,107.417,118.986,120.052,94.983,126.462,126.98,123.387,97.716,128.631,90.575,71.441,118.805,113.064,109.753,100.703,92.417,105.722,111.755,119.634,111.83,174.427,116.76,97.695,98.401,188.673,127.048,107.182,128.603,136.701,102.511,114.57,138.339,118.618,93.12,120.795,115.833,103.256,104.872,123.816,124.545,99.526,107.695,117.995,114.847,196.088,96.649,104.74,125.044,101.701,97.933,130.853,120.213,125.651,121.023,127.815,132.813,124.156,112.124,126.451,117.963,91.478,114.375,121.785,127.997,124.691,107.964,138.161,128.639,90.582,119.79,106.413,129.339,123.927,152.076,122.144,119.923,126.984,148.889,117.525,101.681,117.846,109.196,117.126,142.494,95.374,137.535,131.142,127.623,128.001,127.414,111.657,137.397,104.821,115.789,102.943,114.387,115.998,127.719,107.374,118.933,131.772,106.156,117.4,120.908,127.366,113.865,107.997,117.49,99.491,89.226,115.358,114.022,151.991,116.458,118.881,124.435,100.068,118.741,114.031,117.779,130.959,117.644,130.042,112.021,109.787,126.004,101.057,107.174,86.115,142.274,138.795,115.125,110.227,110.169,90.82,128.583,131.468,134.083,134.779,129.175,109.847,181.973,121.796,138.483,108.53,103.456,121.081,121.04,109.585,102.955,117.637,116.648,119.55,121.714,94.429,132.446,121.68,119.378,114.928,107.776,130.864,92.257,116.77,83.046,97.861,121.856,97.66,94.525,104.28,164.871,92.744,121.17,80.557,119.944,95.241,74.29,108.851,122.839,149.264,112.959,153.596,111.023,116.947,122.068,112.367,103.023,117.909,108.782,127.02,117.811,122.043,112.828,113.036,106.852,127.529,100.278,100.28,104.988,105.344,104.714,104.952,124.93,120.693,82.941,124.011,113.244,114.487,117.847,91.87,101.068,118.738,122.971,113.168,117.618,112.109,102.576,124.869,136.991,110.167,117.217,121.975,112.806,116.201,105.866,118.698,131.159,78.535,106.938,100.625,130.238,132.729,129.054,104.903,111.238,131.466,120.771,130.7,117.151,131.53,120.717,102.818,117.394,112.785,115.285,168.477,127.512,116.791,122.598,107.619,132.514,141.885,137.138,115.479,171.467,124.998,118.965,145.869,120.866,92.006,121.256,99.251,97.746,67.911,115.443,119.771,115.928,119.777,123.301,113.621,115.443,140.235,120.022,108.574,116.185,108.797,103.666,139.292,117.737,100.286,144.414,90.717,126.461,83.919,180.703,126.548,102.879,164.299,131.21,185.503,105.029,126.318,113.256,125.466,119.98,203.669,121.456,141.242,117.401,121.562,97.016,97.136,124.379,97.375,127.612,176.33,126.345,122.658,128.317,141.258,118.481,121.771,110.544,109.641,118.294,115.149,184.348,134.533,104.794,130.443,110.77,88.87,114.997,191.918,112.823,123.058,101.886,121.591,112.79,101.657,118.07,126.712,121.242,119.176,123.278,105.955,100.872,118.12,117.004,125.861,127.898,117.835,109.798,123.81,123.128,76.195,74.432,112.295,141.468,176.735,97.264,121.556,72.238,79.364,97.381,132.399,115.117,91.527,76.015,114.4,118.288,131.66,123.532,135.551,120.709,132.876,120.753,79.413,124.41,128.567,108.039,120.769,127.62,192.019,123.067,121.187,120.076,126.503,114.937,117.576,110.869,68.188,123.989,116.343,83.632,121.819,122.41,125.117,119.761,117.186,110.501,130.874,111.485,105.358,118.108,101.81,178.133,173.939,122.955,100.003,130.354,97.986,103.517,120.748,102.941,102.793,121.975,122.032,110.4,116.079,122.478,110.32,147.274,117.699,119.178,123.459,158.424,131.936,131.072,119.766,127.968,126.28,126.201,132.897,125.201,131.565,126.361,127.438,128.193,115.509,110.72,128.02,129.258,129.173,127.776,127.591],\"xaxis\":\"x\",\"yaxis\":\"y\",\"type\":\"histogram\"}],                        {\"template\":{\"data\":{\"histogram2dcontour\":[{\"type\":\"histogram2dcontour\",\"colorbar\":{\"outlinewidth\":0,\"ticks\":\"\"},\"colorscale\":[[0.0,\"#0d0887\"],[0.1111111111111111,\"#46039f\"],[0.2222222222222222,\"#7201a8\"],[0.3333333333333333,\"#9c179e\"],[0.4444444444444444,\"#bd3786\"],[0.5555555555555556,\"#d8576b\"],[0.6666666666666666,\"#ed7953\"],[0.7777777777777778,\"#fb9f3a\"],[0.8888888888888888,\"#fdca26\"],[1.0,\"#f0f921\"]]}],\"choropleth\":[{\"type\":\"choropleth\",\"colorbar\":{\"outlinewidth\":0,\"ticks\":\"\"}}],\"histogram2d\":[{\"type\":\"histogram2d\",\"colorbar\":{\"outlinewidth\":0,\"ticks\":\"\"},\"colorscale\":[[0.0,\"#0d0887\"],[0.1111111111111111,\"#46039f\"],[0.2222222222222222,\"#7201a8\"],[0.3333333333333333,\"#9c179e\"],[0.4444444444444444,\"#bd3786\"],[0.5555555555555556,\"#d8576b\"],[0.6666666666666666,\"#ed7953\"],[0.7777777777777778,\"#fb9f3a\"],[0.8888888888888888,\"#fdca26\"],[1.0,\"#f0f921\"]]}],\"heatmap\":[{\"type\":\"heatmap\",\"colorbar\":{\"outlinewidth\":0,\"ticks\":\"\"},\"colorscale\":[[0.0,\"#0d0887\"],[0.1111111111111111,\"#46039f\"],[0.2222222222222222,\"#7201a8\"],[0.3333333333333333,\"#9c179e\"],[0.4444444444444444,\"#bd3786\"],[0.5555555555555556,\"#d8576b\"],[0.6666666666666666,\"#ed7953\"],[0.7777777777777778,\"#fb9f3a\"],[0.8888888888888888,\"#fdca26\"],[1.0,\"#f0f921\"]]}],\"heatmapgl\":[{\"type\":\"heatmapgl\",\"colorbar\":{\"outlinewidth\":0,\"ticks\":\"\"},\"colorscale\":[[0.0,\"#0d0887\"],[0.1111111111111111,\"#46039f\"],[0.2222222222222222,\"#7201a8\"],[0.3333333333333333,\"#9c179e\"],[0.4444444444444444,\"#bd3786\"],[0.5555555555555556,\"#d8576b\"],[0.6666666666666666,\"#ed7953\"],[0.7777777777777778,\"#fb9f3a\"],[0.8888888888888888,\"#fdca26\"],[1.0,\"#f0f921\"]]}],\"contourcarpet\":[{\"type\":\"contourcarpet\",\"colorbar\":{\"outlinewidth\":0,\"ticks\":\"\"}}],\"contour\":[{\"type\":\"contour\",\"colorbar\":{\"outlinewidth\":0,\"ticks\":\"\"},\"colorscale\":[[0.0,\"#0d0887\"],[0.1111111111111111,\"#46039f\"],[0.2222222222222222,\"#7201a8\"],[0.3333333333333333,\"#9c179e\"],[0.4444444444444444,\"#bd3786\"],[0.5555555555555556,\"#d8576b\"],[0.6666666666666666,\"#ed7953\"],[0.7777777777777778,\"#fb9f3a\"],[0.8888888888888888,\"#fdca26\"],[1.0,\"#f0f921\"]]}],\"surface\":[{\"type\":\"surface\",\"colorbar\":{\"outlinewidth\":0,\"ticks\":\"\"},\"colorscale\":[[0.0,\"#0d0887\"],[0.1111111111111111,\"#46039f\"],[0.2222222222222222,\"#7201a8\"],[0.3333333333333333,\"#9c179e\"],[0.4444444444444444,\"#bd3786\"],[0.5555555555555556,\"#d8576b\"],[0.6666666666666666,\"#ed7953\"],[0.7777777777777778,\"#fb9f3a\"],[0.8888888888888888,\"#fdca26\"],[1.0,\"#f0f921\"]]}],\"mesh3d\":[{\"type\":\"mesh3d\",\"colorbar\":{\"outlinewidth\":0,\"ticks\":\"\"}}],\"scatter\":[{\"fillpattern\":{\"fillmode\":\"overlay\",\"size\":10,\"solidity\":0.2},\"type\":\"scatter\"}],\"parcoords\":[{\"type\":\"parcoords\",\"line\":{\"colorbar\":{\"outlinewidth\":0,\"ticks\":\"\"}}}],\"scatterpolargl\":[{\"type\":\"scatterpolargl\",\"marker\":{\"colorbar\":{\"outlinewidth\":0,\"ticks\":\"\"}}}],\"bar\":[{\"error_x\":{\"color\":\"#2a3f5f\"},\"error_y\":{\"color\":\"#2a3f5f\"},\"marker\":{\"line\":{\"color\":\"#E5ECF6\",\"width\":0.5},\"pattern\":{\"fillmode\":\"overlay\",\"size\":10,\"solidity\":0.2}},\"type\":\"bar\"}],\"scattergeo\":[{\"type\":\"scattergeo\",\"marker\":{\"colorbar\":{\"outlinewidth\":0,\"ticks\":\"\"}}}],\"scatterpolar\":[{\"type\":\"scatterpolar\",\"marker\":{\"colorbar\":{\"outlinewidth\":0,\"ticks\":\"\"}}}],\"histogram\":[{\"marker\":{\"pattern\":{\"fillmode\":\"overlay\",\"size\":10,\"solidity\":0.2}},\"type\":\"histogram\"}],\"scattergl\":[{\"type\":\"scattergl\",\"marker\":{\"colorbar\":{\"outlinewidth\":0,\"ticks\":\"\"}}}],\"scatter3d\":[{\"type\":\"scatter3d\",\"line\":{\"colorbar\":{\"outlinewidth\":0,\"ticks\":\"\"}},\"marker\":{\"colorbar\":{\"outlinewidth\":0,\"ticks\":\"\"}}}],\"scattermapbox\":[{\"type\":\"scattermapbox\",\"marker\":{\"colorbar\":{\"outlinewidth\":0,\"ticks\":\"\"}}}],\"scatterternary\":[{\"type\":\"scatterternary\",\"marker\":{\"colorbar\":{\"outlinewidth\":0,\"ticks\":\"\"}}}],\"scattercarpet\":[{\"type\":\"scattercarpet\",\"marker\":{\"colorbar\":{\"outlinewidth\":0,\"ticks\":\"\"}}}],\"carpet\":[{\"aaxis\":{\"endlinecolor\":\"#2a3f5f\",\"gridcolor\":\"white\",\"linecolor\":\"white\",\"minorgridcolor\":\"white\",\"startlinecolor\":\"#2a3f5f\"},\"baxis\":{\"endlinecolor\":\"#2a3f5f\",\"gridcolor\":\"white\",\"linecolor\":\"white\",\"minorgridcolor\":\"white\",\"startlinecolor\":\"#2a3f5f\"},\"type\":\"carpet\"}],\"table\":[{\"cells\":{\"fill\":{\"color\":\"#EBF0F8\"},\"line\":{\"color\":\"white\"}},\"header\":{\"fill\":{\"color\":\"#C8D4E3\"},\"line\":{\"color\":\"white\"}},\"type\":\"table\"}],\"barpolar\":[{\"marker\":{\"line\":{\"color\":\"#E5ECF6\",\"width\":0.5},\"pattern\":{\"fillmode\":\"overlay\",\"size\":10,\"solidity\":0.2}},\"type\":\"barpolar\"}],\"pie\":[{\"automargin\":true,\"type\":\"pie\"}]},\"layout\":{\"autotypenumbers\":\"strict\",\"colorway\":[\"#636efa\",\"#EF553B\",\"#00cc96\",\"#ab63fa\",\"#FFA15A\",\"#19d3f3\",\"#FF6692\",\"#B6E880\",\"#FF97FF\",\"#FECB52\"],\"font\":{\"color\":\"#2a3f5f\"},\"hovermode\":\"closest\",\"hoverlabel\":{\"align\":\"left\"},\"paper_bgcolor\":\"white\",\"plot_bgcolor\":\"#E5ECF6\",\"polar\":{\"bgcolor\":\"#E5ECF6\",\"angularaxis\":{\"gridcolor\":\"white\",\"linecolor\":\"white\",\"ticks\":\"\"},\"radialaxis\":{\"gridcolor\":\"white\",\"linecolor\":\"white\",\"ticks\":\"\"}},\"ternary\":{\"bgcolor\":\"#E5ECF6\",\"aaxis\":{\"gridcolor\":\"white\",\"linecolor\":\"white\",\"ticks\":\"\"},\"baxis\":{\"gridcolor\":\"white\",\"linecolor\":\"white\",\"ticks\":\"\"},\"caxis\":{\"gridcolor\":\"white\",\"linecolor\":\"white\",\"ticks\":\"\"}},\"coloraxis\":{\"colorbar\":{\"outlinewidth\":0,\"ticks\":\"\"}},\"colorscale\":{\"sequential\":[[0.0,\"#0d0887\"],[0.1111111111111111,\"#46039f\"],[0.2222222222222222,\"#7201a8\"],[0.3333333333333333,\"#9c179e\"],[0.4444444444444444,\"#bd3786\"],[0.5555555555555556,\"#d8576b\"],[0.6666666666666666,\"#ed7953\"],[0.7777777777777778,\"#fb9f3a\"],[0.8888888888888888,\"#fdca26\"],[1.0,\"#f0f921\"]],\"sequentialminus\":[[0.0,\"#0d0887\"],[0.1111111111111111,\"#46039f\"],[0.2222222222222222,\"#7201a8\"],[0.3333333333333333,\"#9c179e\"],[0.4444444444444444,\"#bd3786\"],[0.5555555555555556,\"#d8576b\"],[0.6666666666666666,\"#ed7953\"],[0.7777777777777778,\"#fb9f3a\"],[0.8888888888888888,\"#fdca26\"],[1.0,\"#f0f921\"]],\"diverging\":[[0,\"#8e0152\"],[0.1,\"#c51b7d\"],[0.2,\"#de77ae\"],[0.3,\"#f1b6da\"],[0.4,\"#fde0ef\"],[0.5,\"#f7f7f7\"],[0.6,\"#e6f5d0\"],[0.7,\"#b8e186\"],[0.8,\"#7fbc41\"],[0.9,\"#4d9221\"],[1,\"#276419\"]]},\"xaxis\":{\"gridcolor\":\"white\",\"linecolor\":\"white\",\"ticks\":\"\",\"title\":{\"standoff\":15},\"zerolinecolor\":\"white\",\"automargin\":true,\"zerolinewidth\":2},\"yaxis\":{\"gridcolor\":\"white\",\"linecolor\":\"white\",\"ticks\":\"\",\"title\":{\"standoff\":15},\"zerolinecolor\":\"white\",\"automargin\":true,\"zerolinewidth\":2},\"scene\":{\"xaxis\":{\"backgroundcolor\":\"#E5ECF6\",\"gridcolor\":\"white\",\"linecolor\":\"white\",\"showbackground\":true,\"ticks\":\"\",\"zerolinecolor\":\"white\",\"gridwidth\":2},\"yaxis\":{\"backgroundcolor\":\"#E5ECF6\",\"gridcolor\":\"white\",\"linecolor\":\"white\",\"showbackground\":true,\"ticks\":\"\",\"zerolinecolor\":\"white\",\"gridwidth\":2},\"zaxis\":{\"backgroundcolor\":\"#E5ECF6\",\"gridcolor\":\"white\",\"linecolor\":\"white\",\"showbackground\":true,\"ticks\":\"\",\"zerolinecolor\":\"white\",\"gridwidth\":2}},\"shapedefaults\":{\"line\":{\"color\":\"#2a3f5f\"}},\"annotationdefaults\":{\"arrowcolor\":\"#2a3f5f\",\"arrowhead\":0,\"arrowwidth\":1},\"geo\":{\"bgcolor\":\"white\",\"landcolor\":\"#E5ECF6\",\"subunitcolor\":\"white\",\"showland\":true,\"showlakes\":true,\"lakecolor\":\"white\"},\"title\":{\"x\":0.05},\"mapbox\":{\"style\":\"light\"}}},\"xaxis\":{\"anchor\":\"y\",\"domain\":[0.0,1.0],\"title\":{\"text\":\"Tempo\"}},\"yaxis\":{\"anchor\":\"x\",\"domain\":[0.0,1.0],\"title\":{\"text\":\"count\"}},\"legend\":{\"tracegroupgap\":0},\"margin\":{\"t\":60},\"barmode\":\"relative\"},                        {\"responsive\": true}                    ).then(function(){\n",
       "                            \n",
       "var gd = document.getElementById('ad99e0bb-d640-432e-9710-3b11600f61d4');\n",
       "var x = new MutationObserver(function (mutations, observer) {{\n",
       "        var display = window.getComputedStyle(gd).display;\n",
       "        if (!display || display === 'none') {{\n",
       "            console.log([gd, 'removed!']);\n",
       "            Plotly.purge(gd);\n",
       "            observer.disconnect();\n",
       "        }}\n",
       "}});\n",
       "\n",
       "// Listen for the removal of the full notebook cells\n",
       "var notebookContainer = gd.closest('#notebook-container');\n",
       "if (notebookContainer) {{\n",
       "    x.observe(notebookContainer, {childList: true});\n",
       "}}\n",
       "\n",
       "// Listen for the clearing of the current output cell\n",
       "var outputEl = gd.closest('.output');\n",
       "if (outputEl) {{\n",
       "    x.observe(outputEl, {childList: true});\n",
       "}}\n",
       "\n",
       "                        })                };                });            </script>        </div>"
      ]
     },
     "metadata": {},
     "output_type": "display_data"
    }
   ],
   "source": [
    "express.histogram(data_frame=df, x='Tempo')"
   ]
  },
  {
   "cell_type": "markdown",
   "id": "d6bb0229",
   "metadata": {
    "papermill": {
     "duration": 0.01783,
     "end_time": "2024-09-02T15:27:38.778633",
     "exception": false,
     "start_time": "2024-09-02T15:27:38.760803",
     "status": "completed"
    },
    "tags": []
   },
   "source": [
    "Disco has a reputation for being a 120bpm genre, so this distribution is not entirely surprising; we might expect even more tracks to be clustered around the mean than we see."
   ]
  },
  {
   "cell_type": "code",
   "execution_count": 20,
   "id": "1c15b46c",
   "metadata": {
    "execution": {
     "iopub.execute_input": "2024-09-02T15:27:38.817265Z",
     "iopub.status.busy": "2024-09-02T15:27:38.816823Z",
     "iopub.status.idle": "2024-09-02T15:27:38.840904Z",
     "shell.execute_reply": "2024-09-02T15:27:38.839533Z"
    },
    "papermill": {
     "duration": 0.04666,
     "end_time": "2024-09-02T15:27:38.843818",
     "exception": false,
     "start_time": "2024-09-02T15:27:38.797158",
     "status": "completed"
    },
    "tags": []
   },
   "outputs": [
    {
     "data": {
      "text/plain": [
       "(119.329, 133.386]             0.370166\n",
       "(105.273, 119.329]             0.320442\n",
       "(91.216, 105.273]              0.147790\n",
       "(133.386, 147.443]             0.059392\n",
       "(77.16, 91.216]                0.037293\n",
       "(175.556, 189.612]             0.020718\n",
       "(62.961000000000006, 77.16]    0.013812\n",
       "(147.443, 161.499]             0.012431\n",
       "(161.499, 175.556]             0.011050\n",
       "(189.612, 203.669]             0.006906\n",
       "Name: proportion, dtype: float64"
      ]
     },
     "execution_count": 20,
     "metadata": {},
     "output_type": "execute_result"
    }
   ],
   "source": [
    "df['Tempo'].value_counts(normalize=True, bins=10)"
   ]
  },
  {
   "cell_type": "markdown",
   "id": "79530300",
   "metadata": {
    "papermill": {
     "duration": 0.017972,
     "end_time": "2024-09-02T15:27:38.880205",
     "exception": false,
     "start_time": "2024-09-02T15:27:38.862233",
     "status": "completed"
    },
    "tags": []
   },
   "source": [
    "Ten bins is plenty; about 65% of our data is in the two bins closest to the mean."
   ]
  },
  {
   "cell_type": "code",
   "execution_count": 21,
   "id": "f231c5f9",
   "metadata": {
    "execution": {
     "iopub.execute_input": "2024-09-02T15:27:38.919421Z",
     "iopub.status.busy": "2024-09-02T15:27:38.918486Z",
     "iopub.status.idle": "2024-09-02T15:27:38.944143Z",
     "shell.execute_reply": "2024-09-02T15:27:38.942876Z"
    },
    "papermill": {
     "duration": 0.048479,
     "end_time": "2024-09-02T15:27:38.947279",
     "exception": false,
     "start_time": "2024-09-02T15:27:38.898800",
     "status": "completed"
    },
    "tags": []
   },
   "outputs": [
    {
     "data": {
      "text/html": [
       "<div>\n",
       "<style scoped>\n",
       "    .dataframe tbody tr th:only-of-type {\n",
       "        vertical-align: middle;\n",
       "    }\n",
       "\n",
       "    .dataframe tbody tr th {\n",
       "        vertical-align: top;\n",
       "    }\n",
       "\n",
       "    .dataframe thead th {\n",
       "        text-align: right;\n",
       "    }\n",
       "</style>\n",
       "<table border=\"1\" class=\"dataframe\">\n",
       "  <thead>\n",
       "    <tr style=\"text-align: right;\">\n",
       "      <th></th>\n",
       "      <th>Track</th>\n",
       "      <th>Artist</th>\n",
       "      <th>Album</th>\n",
       "      <th>Year</th>\n",
       "      <th>Duration</th>\n",
       "      <th>Time_Signature</th>\n",
       "      <th>Danceability</th>\n",
       "      <th>Energy</th>\n",
       "      <th>Key</th>\n",
       "      <th>Loudness</th>\n",
       "      <th>Mode</th>\n",
       "      <th>Speechiness</th>\n",
       "      <th>Acousticness</th>\n",
       "      <th>Instrumentalness</th>\n",
       "      <th>Liveness</th>\n",
       "      <th>Valence</th>\n",
       "      <th>Tempo</th>\n",
       "      <th>Popularity</th>\n",
       "    </tr>\n",
       "  </thead>\n",
       "  <tbody>\n",
       "    <tr>\n",
       "      <th>611</th>\n",
       "      <td>Can't Get By Without You</td>\n",
       "      <td>The Real Thing</td>\n",
       "      <td>Can You Feel the Force - All Their Biggest Hits!</td>\n",
       "      <td>1976</td>\n",
       "      <td>213559</td>\n",
       "      <td>4</td>\n",
       "      <td>0.485</td>\n",
       "      <td>0.822</td>\n",
       "      <td>1</td>\n",
       "      <td>-5.147</td>\n",
       "      <td>0</td>\n",
       "      <td>0.0779</td>\n",
       "      <td>0.190</td>\n",
       "      <td>0.000000</td>\n",
       "      <td>0.1290</td>\n",
       "      <td>0.631</td>\n",
       "      <td>191.918</td>\n",
       "      <td>29</td>\n",
       "    </tr>\n",
       "    <tr>\n",
       "      <th>661</th>\n",
       "      <td>Sixty Minute Man</td>\n",
       "      <td>The Trammps</td>\n",
       "      <td>The Legendary Zing Album</td>\n",
       "      <td>1976</td>\n",
       "      <td>294533</td>\n",
       "      <td>4</td>\n",
       "      <td>0.468</td>\n",
       "      <td>0.783</td>\n",
       "      <td>6</td>\n",
       "      <td>-11.268</td>\n",
       "      <td>1</td>\n",
       "      <td>0.0629</td>\n",
       "      <td>0.258</td>\n",
       "      <td>0.333000</td>\n",
       "      <td>0.0756</td>\n",
       "      <td>0.779</td>\n",
       "      <td>192.019</td>\n",
       "      <td>8</td>\n",
       "    </tr>\n",
       "    <tr>\n",
       "      <th>333</th>\n",
       "      <td>Hot Pants (She Got To Use What She Got To Get ...</td>\n",
       "      <td>James Brown</td>\n",
       "      <td>Star Time</td>\n",
       "      <td>1971</td>\n",
       "      <td>187306</td>\n",
       "      <td>4</td>\n",
       "      <td>0.669</td>\n",
       "      <td>0.675</td>\n",
       "      <td>8</td>\n",
       "      <td>-8.958</td>\n",
       "      <td>1</td>\n",
       "      <td>0.3860</td>\n",
       "      <td>0.256</td>\n",
       "      <td>0.000000</td>\n",
       "      <td>0.0762</td>\n",
       "      <td>0.787</td>\n",
       "      <td>196.088</td>\n",
       "      <td>29</td>\n",
       "    </tr>\n",
       "    <tr>\n",
       "      <th>21</th>\n",
       "      <td>It's All Up to You</td>\n",
       "      <td>Andrea True Connection</td>\n",
       "      <td>White Witch</td>\n",
       "      <td>1976</td>\n",
       "      <td>181200</td>\n",
       "      <td>4</td>\n",
       "      <td>0.622</td>\n",
       "      <td>0.696</td>\n",
       "      <td>8</td>\n",
       "      <td>-11.100</td>\n",
       "      <td>0</td>\n",
       "      <td>0.0471</td>\n",
       "      <td>0.326</td>\n",
       "      <td>0.000004</td>\n",
       "      <td>0.3180</td>\n",
       "      <td>0.933</td>\n",
       "      <td>202.097</td>\n",
       "      <td>5</td>\n",
       "    </tr>\n",
       "    <tr>\n",
       "      <th>583</th>\n",
       "      <td>Enjoy Yourself</td>\n",
       "      <td>The Jacksons</td>\n",
       "      <td>The Jacksons</td>\n",
       "      <td>1976</td>\n",
       "      <td>204413</td>\n",
       "      <td>4</td>\n",
       "      <td>0.601</td>\n",
       "      <td>0.643</td>\n",
       "      <td>9</td>\n",
       "      <td>-8.912</td>\n",
       "      <td>0</td>\n",
       "      <td>0.2240</td>\n",
       "      <td>0.171</td>\n",
       "      <td>0.000000</td>\n",
       "      <td>0.5360</td>\n",
       "      <td>0.822</td>\n",
       "      <td>203.669</td>\n",
       "      <td>44</td>\n",
       "    </tr>\n",
       "  </tbody>\n",
       "</table>\n",
       "</div>"
      ],
      "text/plain": [
       "                                                 Track  \\\n",
       "611                           Can't Get By Without You   \n",
       "661                                   Sixty Minute Man   \n",
       "333  Hot Pants (She Got To Use What She Got To Get ...   \n",
       "21                                  It's All Up to You   \n",
       "583                                     Enjoy Yourself   \n",
       "\n",
       "                     Artist                                             Album  \\\n",
       "611          The Real Thing  Can You Feel the Force - All Their Biggest Hits!   \n",
       "661             The Trammps                          The Legendary Zing Album   \n",
       "333             James Brown                                         Star Time   \n",
       "21   Andrea True Connection                                       White Witch   \n",
       "583            The Jacksons                                      The Jacksons   \n",
       "\n",
       "     Year  Duration  Time_Signature  Danceability  Energy  Key  Loudness  \\\n",
       "611  1976    213559               4         0.485   0.822    1    -5.147   \n",
       "661  1976    294533               4         0.468   0.783    6   -11.268   \n",
       "333  1971    187306               4         0.669   0.675    8    -8.958   \n",
       "21   1976    181200               4         0.622   0.696    8   -11.100   \n",
       "583  1976    204413               4         0.601   0.643    9    -8.912   \n",
       "\n",
       "     Mode  Speechiness  Acousticness  Instrumentalness  Liveness  Valence  \\\n",
       "611     0       0.0779         0.190          0.000000    0.1290    0.631   \n",
       "661     1       0.0629         0.258          0.333000    0.0756    0.779   \n",
       "333     1       0.3860         0.256          0.000000    0.0762    0.787   \n",
       "21      0       0.0471         0.326          0.000004    0.3180    0.933   \n",
       "583     0       0.2240         0.171          0.000000    0.5360    0.822   \n",
       "\n",
       "       Tempo  Popularity  \n",
       "611  191.918          29  \n",
       "661  192.019           8  \n",
       "333  196.088          29  \n",
       "21   202.097           5  \n",
       "583  203.669          44  "
      ]
     },
     "execution_count": 21,
     "metadata": {},
     "output_type": "execute_result"
    }
   ],
   "source": [
    "df[df['Tempo'] > 190].sort_values(by='Tempo')"
   ]
  },
  {
   "cell_type": "markdown",
   "id": "31088f14",
   "metadata": {
    "papermill": {
     "duration": 0.018586,
     "end_time": "2024-09-02T15:27:38.984600",
     "exception": false,
     "start_time": "2024-09-02T15:27:38.966014",
     "status": "completed"
    },
    "tags": []
   },
   "source": [
    "Is disco loud?"
   ]
  },
  {
   "cell_type": "code",
   "execution_count": 22,
   "id": "842b1629",
   "metadata": {
    "execution": {
     "iopub.execute_input": "2024-09-02T15:27:39.024190Z",
     "iopub.status.busy": "2024-09-02T15:27:39.023596Z",
     "iopub.status.idle": "2024-09-02T15:27:39.095617Z",
     "shell.execute_reply": "2024-09-02T15:27:39.094516Z"
    },
    "papermill": {
     "duration": 0.095264,
     "end_time": "2024-09-02T15:27:39.098352",
     "exception": false,
     "start_time": "2024-09-02T15:27:39.003088",
     "status": "completed"
    },
    "tags": []
   },
   "outputs": [
    {
     "data": {
      "text/html": [
       "<div>                            <div id=\"f3087314-8bef-49ee-b4d2-160ad69435be\" class=\"plotly-graph-div\" style=\"height:525px; width:100%;\"></div>            <script type=\"text/javascript\">                require([\"plotly\"], function(Plotly) {                    window.PLOTLYENV=window.PLOTLYENV || {};                                    if (document.getElementById(\"f3087314-8bef-49ee-b4d2-160ad69435be\")) {                    Plotly.newPlot(                        \"f3087314-8bef-49ee-b4d2-160ad69435be\",                        [{\"alignmentgroup\":\"True\",\"bingroup\":\"x\",\"hovertemplate\":\"Loudness=%{x}\\u003cbr\\u003ecount=%{y}\\u003cextra\\u003e\\u003c\\u002fextra\\u003e\",\"legendgroup\":\"\",\"marker\":{\"color\":\"#636efa\",\"pattern\":{\"shape\":\"\"}},\"name\":\"\",\"offsetgroup\":\"\",\"orientation\":\"v\",\"showlegend\":false,\"x\":[-9.228,-11.645,-10.187,-8.625,-11.6,-7.351,-12.278,-10.298,-11.385,-8.108,-6.514,-8.876,-9.655,-7.073,-4.773,-5.66,-8.123,-8.722,-6.931,-11.497,-11.24,-11.1,-11.006,-9.465,-11.639,-9.81,-10.217,-8.486,-5.817,-10.315,-6.328,-6.622,-6.171,-9.003,-5.226,-9.831,-6.252,-6.69,-11.742,-8.624,-7.149,-12.017,-14.809,-13.988,-9.026,-10.136,-9.513,-11.276,-15.564,-5.511,-14.347,-16.243,-13.522,-14.834,-13.707,-7.604,-13.553,-6.257,-11.04,-11.172,-9.467,-7.139,-12.512,-9.366,-12.969,-11.037,-6.434,-7.224,-9.196,-9.256,-10.792,-6.478,-13.388,-13.327,-11.936,-13.165,-13.461,-11.736,-14.478,-12.686,-12.143,-13.119,-6.467,-8.732,-7.407,-12.639,-6.784,-10.147,-7.083,-6.932,-6.009,-5.961,-6.509,-7.033,-6.427,-7.338,-13.305,-9.304,-7.059,-11.406,-13.692,-10.851,-14.2,-13.952,-13.651,-11.297,-12.354,-9.962,-13.756,-5.485,-6.768,-10.783,-6.769,-5.676,-3.384,-6.069,-6.639,-7.301,-9.86,-10.863,-8.665,-10.143,-9.999,-11.344,-9.562,-10.437,-11.241,-15.172,-9.404,-8.735,-7.32,-9.235,-3.882,-15.707,-9.77,-5.578,-10.041,-5.11,-13.38,-12.539,-7.889,-9.03,-10.48,-15.077,-9.429,-6.364,-10.194,-17.158,-17.356,-13.803,-20.518,-6.599,-7.418,-9.258,-10.054,-6.415,-7.272,-8.289,-10.743,-6.215,-6.488,-6.909,-11.265,-15.27,-5.657,-12.585,-9.802,-5.626,-9.562,-9.656,-9.141,-5.439,-5.837,-5.278,-6.897,-12.251,-5.492,-6.694,-10.375,-11.275,-6.058,-11.447,-9.147,-9.511,-12.333,-10.169,-16.136,-13.276,-14.903,-9.642,-9.282,-9.211,-5.862,-10.342,-4.215,-8.559,-11.395,-7.175,-14.506,-13.953,-12.394,-13.98,-16.248,-13.399,-16.256,-12.361,-13.92,-16.716,-13.45,-8.647,-8.772,-9.412,-10.346,-8.698,-7.264,-7.333,-13.093,-9.806,-8.516,-7.741,-10.2,-12.351,-10.418,-12.56,-7.794,-9.996,-9.762,-16.306,-8.692,-11.675,-9.442,-9.028,-7.075,-7.575,-12.381,-7.376,-9.245,-4.826,-8.841,-11.928,-12.01,-6.519,-5.936,-11.012,-10.948,-7.536,-9.356,-8.422,-9.252,-9.435,-7.757,-7.784,-6.928,-13.879,-5.691,-5.681,-14.389,-9.017,-13.532,-14.355,-14.84,-8.827,-8.885,-9.335,-6.217,-15.188,-12.228,-13.653,-12.523,-13.39,-13.368,-12.226,-12.354,-10.148,-9.576,-16.416,-15.038,-16.778,-11.265,-14.713,-15.313,-15.538,-16.007,-5.638,-8.019,-14.309,-7.599,-6.917,-8.939,-11.869,-12.988,-8.852,-9.55,-4.951,-8.104,-4.532,-8.116,-11.946,-11.824,-17.574,-10.972,-6.677,-6.434,-9.477,-11.375,-7.678,-12.923,-9.835,-10.119,-7.607,-8.162,-7.825,-9.435,-9.265,-8.882,-9.72,-12.212,-9.118,-9.825,-11.517,-18.009,-8.304,-14.561,-17.689,-11.035,-11.158,-13.519,-11.09,-10.912,-14.37,-8.351,-6.909,-14.111,-8.958,-10.232,-13.663,-6.574,-7.161,-10.987,-4.806,-9.653,-11.27,-8.931,-12.015,-8.369,-10.836,-12.243,-16.674,-12.135,-9.837,-11.093,-13.696,-10.26,-12.444,-9.208,-8.49,-8.714,-9.18,-10.856,-9.2,-8.788,-16.748,-11.737,-13.968,-10.99,-8.663,-6.49,-6.016,-12.165,-7.922,-7.244,-9.337,-6.593,-6.929,-9.652,-15.113,-15.252,-14.233,-14.32,-16.878,-16.861,-15.48,-8.512,-6.814,-9.404,-7.316,-9.313,-12.103,-6.62,-8.343,-11.93,-7.343,-8.447,-7.873,-8.998,-11.535,-13.376,-10.303,-12.423,-11.374,-8.231,-9.903,-11.343,-9.875,-11.443,-19.075,-13.909,-12.521,-4.959,-23.92,-6.177,-13.898,-10.04,-6.662,-16.66,-9.374,-11.794,-9.923,-12.826,-11.933,-10.175,-11.382,-12.749,-12.297,-11.222,-5.808,-9.966,-7.416,-9.995,-9.067,-7.409,-14.557,-13.688,-14.798,-17.508,-11.399,-13.134,-15.463,-9.761,-7.641,-8.609,-8.714,-3.856,-7.011,-8.245,-9.237,-6.651,-8.185,-11.74,-19.981,-15.008,-10.305,-19.546,-11.866,-9.062,-15.172,-12.536,-9.226,-16.462,-16.35,-8.696,-12.82,-11.4,-11.15,-7.916,-6.314,-9.691,-6.362,-6.408,-5.965,-12.088,-7.806,-14.647,-12.135,-7.583,-9.323,-11.118,-8.077,-11.789,-12.462,-12.496,-10.733,-11.472,-14.256,-14.153,-14.136,-14.86,-15.869,-14.661,-16.178,-12.817,-7.037,-7.882,-5.549,-9.711,-7.509,-9.103,-5.607,-8.869,-5.153,-11.545,-8.938,-7.272,-9.174,-6.449,-9.591,-6.823,-8.134,-16.705,-9.684,-11.295,-15.337,-10.401,-8.956,-14.905,-11.657,-9.766,-14.171,-14.761,-10.469,-16.351,-17.845,-7.077,-8.18,-13.626,-11.182,-8.387,-8.775,-7.683,-3.651,-9.678,-10.063,-8.72,-12.986,-8.009,-9.209,-8.087,-12.123,-8.621,-9.553,-7.541,-9.315,-10.01,-8.21,-7.321,-10.544,-8.892,-8.978,-9.494,-8.389,-9.108,-13.38,-7.981,-7.172,-9.915,-7.248,-4.594,-7.479,-6.865,-9.544,-8.842,-12.293,-10.763,-10.408,-10.308,-12.873,-13.074,-13.739,-7.62,-10.306,-11.177,-12.585,-6.13,-7.449,-11.029,-10.105,-9.381,-9.273,-5.199,-9.112,-10.193,-8.274,-5.921,-8.912,-8.093,-13.712,-7.203,-7.696,-7.466,-12.129,-11.614,-7.739,-8.063,-7.503,-8.536,-9.627,-7.001,-7.199,-11.131,-7.908,-7.53,-5.275,-9.332,-7.896,-5.832,-13.796,-6.879,-4.636,-7.766,-13.282,-6.132,-5.147,-11.952,-7.789,-5.6,-6.242,-4.334,-4.328,-9.774,-7.97,-7.705,-11.828,-11.517,-5.859,-11.065,-5.417,-10.081,-11.013,-7.819,-10.745,-7.487,-10.807,-12.715,-10.878,-12.716,-8.698,-13.87,-11.625,-9.795,-9.385,-9.62,-10.598,-11.694,-9.29,-11.799,-10.338,-8.567,-9.759,-7.172,-6.058,-12.027,-13.117,-7.542,-12.965,-9.245,-12.239,-7.152,-12.364,-13.907,-7.141,-6.704,-11.268,-13.815,-10.865,-6.621,-11.948,-6.882,-8.9,-8.196,-8.346,-10.279,-11.477,-6.23,-5.844,-10.869,-14.668,-12.595,-10.819,-7.099,-12.169,-8.358,-10.207,-7.667,-10.477,-8.752,-14.317,-8.969,-10.662,-11.163,-6.954,-11.338,-11.997,-11.974,-13.128,-12.313,-14.764,-7.573,-9.755,-8.528,-8.356,-7.507,-5.284,-4.687,-3.914,-5.456,-4.023,-4.03,-5.855,-11.647,-10.483,-10.592,-12.33,-10.87,-12.913,-10.926,-4.401,-9.605,-5.543,-4.249,-7.713,-4.75,-10.248,-4.153,-4.929],\"xaxis\":\"x\",\"yaxis\":\"y\",\"type\":\"histogram\"}],                        {\"template\":{\"data\":{\"histogram2dcontour\":[{\"type\":\"histogram2dcontour\",\"colorbar\":{\"outlinewidth\":0,\"ticks\":\"\"},\"colorscale\":[[0.0,\"#0d0887\"],[0.1111111111111111,\"#46039f\"],[0.2222222222222222,\"#7201a8\"],[0.3333333333333333,\"#9c179e\"],[0.4444444444444444,\"#bd3786\"],[0.5555555555555556,\"#d8576b\"],[0.6666666666666666,\"#ed7953\"],[0.7777777777777778,\"#fb9f3a\"],[0.8888888888888888,\"#fdca26\"],[1.0,\"#f0f921\"]]}],\"choropleth\":[{\"type\":\"choropleth\",\"colorbar\":{\"outlinewidth\":0,\"ticks\":\"\"}}],\"histogram2d\":[{\"type\":\"histogram2d\",\"colorbar\":{\"outlinewidth\":0,\"ticks\":\"\"},\"colorscale\":[[0.0,\"#0d0887\"],[0.1111111111111111,\"#46039f\"],[0.2222222222222222,\"#7201a8\"],[0.3333333333333333,\"#9c179e\"],[0.4444444444444444,\"#bd3786\"],[0.5555555555555556,\"#d8576b\"],[0.6666666666666666,\"#ed7953\"],[0.7777777777777778,\"#fb9f3a\"],[0.8888888888888888,\"#fdca26\"],[1.0,\"#f0f921\"]]}],\"heatmap\":[{\"type\":\"heatmap\",\"colorbar\":{\"outlinewidth\":0,\"ticks\":\"\"},\"colorscale\":[[0.0,\"#0d0887\"],[0.1111111111111111,\"#46039f\"],[0.2222222222222222,\"#7201a8\"],[0.3333333333333333,\"#9c179e\"],[0.4444444444444444,\"#bd3786\"],[0.5555555555555556,\"#d8576b\"],[0.6666666666666666,\"#ed7953\"],[0.7777777777777778,\"#fb9f3a\"],[0.8888888888888888,\"#fdca26\"],[1.0,\"#f0f921\"]]}],\"heatmapgl\":[{\"type\":\"heatmapgl\",\"colorbar\":{\"outlinewidth\":0,\"ticks\":\"\"},\"colorscale\":[[0.0,\"#0d0887\"],[0.1111111111111111,\"#46039f\"],[0.2222222222222222,\"#7201a8\"],[0.3333333333333333,\"#9c179e\"],[0.4444444444444444,\"#bd3786\"],[0.5555555555555556,\"#d8576b\"],[0.6666666666666666,\"#ed7953\"],[0.7777777777777778,\"#fb9f3a\"],[0.8888888888888888,\"#fdca26\"],[1.0,\"#f0f921\"]]}],\"contourcarpet\":[{\"type\":\"contourcarpet\",\"colorbar\":{\"outlinewidth\":0,\"ticks\":\"\"}}],\"contour\":[{\"type\":\"contour\",\"colorbar\":{\"outlinewidth\":0,\"ticks\":\"\"},\"colorscale\":[[0.0,\"#0d0887\"],[0.1111111111111111,\"#46039f\"],[0.2222222222222222,\"#7201a8\"],[0.3333333333333333,\"#9c179e\"],[0.4444444444444444,\"#bd3786\"],[0.5555555555555556,\"#d8576b\"],[0.6666666666666666,\"#ed7953\"],[0.7777777777777778,\"#fb9f3a\"],[0.8888888888888888,\"#fdca26\"],[1.0,\"#f0f921\"]]}],\"surface\":[{\"type\":\"surface\",\"colorbar\":{\"outlinewidth\":0,\"ticks\":\"\"},\"colorscale\":[[0.0,\"#0d0887\"],[0.1111111111111111,\"#46039f\"],[0.2222222222222222,\"#7201a8\"],[0.3333333333333333,\"#9c179e\"],[0.4444444444444444,\"#bd3786\"],[0.5555555555555556,\"#d8576b\"],[0.6666666666666666,\"#ed7953\"],[0.7777777777777778,\"#fb9f3a\"],[0.8888888888888888,\"#fdca26\"],[1.0,\"#f0f921\"]]}],\"mesh3d\":[{\"type\":\"mesh3d\",\"colorbar\":{\"outlinewidth\":0,\"ticks\":\"\"}}],\"scatter\":[{\"fillpattern\":{\"fillmode\":\"overlay\",\"size\":10,\"solidity\":0.2},\"type\":\"scatter\"}],\"parcoords\":[{\"type\":\"parcoords\",\"line\":{\"colorbar\":{\"outlinewidth\":0,\"ticks\":\"\"}}}],\"scatterpolargl\":[{\"type\":\"scatterpolargl\",\"marker\":{\"colorbar\":{\"outlinewidth\":0,\"ticks\":\"\"}}}],\"bar\":[{\"error_x\":{\"color\":\"#2a3f5f\"},\"error_y\":{\"color\":\"#2a3f5f\"},\"marker\":{\"line\":{\"color\":\"#E5ECF6\",\"width\":0.5},\"pattern\":{\"fillmode\":\"overlay\",\"size\":10,\"solidity\":0.2}},\"type\":\"bar\"}],\"scattergeo\":[{\"type\":\"scattergeo\",\"marker\":{\"colorbar\":{\"outlinewidth\":0,\"ticks\":\"\"}}}],\"scatterpolar\":[{\"type\":\"scatterpolar\",\"marker\":{\"colorbar\":{\"outlinewidth\":0,\"ticks\":\"\"}}}],\"histogram\":[{\"marker\":{\"pattern\":{\"fillmode\":\"overlay\",\"size\":10,\"solidity\":0.2}},\"type\":\"histogram\"}],\"scattergl\":[{\"type\":\"scattergl\",\"marker\":{\"colorbar\":{\"outlinewidth\":0,\"ticks\":\"\"}}}],\"scatter3d\":[{\"type\":\"scatter3d\",\"line\":{\"colorbar\":{\"outlinewidth\":0,\"ticks\":\"\"}},\"marker\":{\"colorbar\":{\"outlinewidth\":0,\"ticks\":\"\"}}}],\"scattermapbox\":[{\"type\":\"scattermapbox\",\"marker\":{\"colorbar\":{\"outlinewidth\":0,\"ticks\":\"\"}}}],\"scatterternary\":[{\"type\":\"scatterternary\",\"marker\":{\"colorbar\":{\"outlinewidth\":0,\"ticks\":\"\"}}}],\"scattercarpet\":[{\"type\":\"scattercarpet\",\"marker\":{\"colorbar\":{\"outlinewidth\":0,\"ticks\":\"\"}}}],\"carpet\":[{\"aaxis\":{\"endlinecolor\":\"#2a3f5f\",\"gridcolor\":\"white\",\"linecolor\":\"white\",\"minorgridcolor\":\"white\",\"startlinecolor\":\"#2a3f5f\"},\"baxis\":{\"endlinecolor\":\"#2a3f5f\",\"gridcolor\":\"white\",\"linecolor\":\"white\",\"minorgridcolor\":\"white\",\"startlinecolor\":\"#2a3f5f\"},\"type\":\"carpet\"}],\"table\":[{\"cells\":{\"fill\":{\"color\":\"#EBF0F8\"},\"line\":{\"color\":\"white\"}},\"header\":{\"fill\":{\"color\":\"#C8D4E3\"},\"line\":{\"color\":\"white\"}},\"type\":\"table\"}],\"barpolar\":[{\"marker\":{\"line\":{\"color\":\"#E5ECF6\",\"width\":0.5},\"pattern\":{\"fillmode\":\"overlay\",\"size\":10,\"solidity\":0.2}},\"type\":\"barpolar\"}],\"pie\":[{\"automargin\":true,\"type\":\"pie\"}]},\"layout\":{\"autotypenumbers\":\"strict\",\"colorway\":[\"#636efa\",\"#EF553B\",\"#00cc96\",\"#ab63fa\",\"#FFA15A\",\"#19d3f3\",\"#FF6692\",\"#B6E880\",\"#FF97FF\",\"#FECB52\"],\"font\":{\"color\":\"#2a3f5f\"},\"hovermode\":\"closest\",\"hoverlabel\":{\"align\":\"left\"},\"paper_bgcolor\":\"white\",\"plot_bgcolor\":\"#E5ECF6\",\"polar\":{\"bgcolor\":\"#E5ECF6\",\"angularaxis\":{\"gridcolor\":\"white\",\"linecolor\":\"white\",\"ticks\":\"\"},\"radialaxis\":{\"gridcolor\":\"white\",\"linecolor\":\"white\",\"ticks\":\"\"}},\"ternary\":{\"bgcolor\":\"#E5ECF6\",\"aaxis\":{\"gridcolor\":\"white\",\"linecolor\":\"white\",\"ticks\":\"\"},\"baxis\":{\"gridcolor\":\"white\",\"linecolor\":\"white\",\"ticks\":\"\"},\"caxis\":{\"gridcolor\":\"white\",\"linecolor\":\"white\",\"ticks\":\"\"}},\"coloraxis\":{\"colorbar\":{\"outlinewidth\":0,\"ticks\":\"\"}},\"colorscale\":{\"sequential\":[[0.0,\"#0d0887\"],[0.1111111111111111,\"#46039f\"],[0.2222222222222222,\"#7201a8\"],[0.3333333333333333,\"#9c179e\"],[0.4444444444444444,\"#bd3786\"],[0.5555555555555556,\"#d8576b\"],[0.6666666666666666,\"#ed7953\"],[0.7777777777777778,\"#fb9f3a\"],[0.8888888888888888,\"#fdca26\"],[1.0,\"#f0f921\"]],\"sequentialminus\":[[0.0,\"#0d0887\"],[0.1111111111111111,\"#46039f\"],[0.2222222222222222,\"#7201a8\"],[0.3333333333333333,\"#9c179e\"],[0.4444444444444444,\"#bd3786\"],[0.5555555555555556,\"#d8576b\"],[0.6666666666666666,\"#ed7953\"],[0.7777777777777778,\"#fb9f3a\"],[0.8888888888888888,\"#fdca26\"],[1.0,\"#f0f921\"]],\"diverging\":[[0,\"#8e0152\"],[0.1,\"#c51b7d\"],[0.2,\"#de77ae\"],[0.3,\"#f1b6da\"],[0.4,\"#fde0ef\"],[0.5,\"#f7f7f7\"],[0.6,\"#e6f5d0\"],[0.7,\"#b8e186\"],[0.8,\"#7fbc41\"],[0.9,\"#4d9221\"],[1,\"#276419\"]]},\"xaxis\":{\"gridcolor\":\"white\",\"linecolor\":\"white\",\"ticks\":\"\",\"title\":{\"standoff\":15},\"zerolinecolor\":\"white\",\"automargin\":true,\"zerolinewidth\":2},\"yaxis\":{\"gridcolor\":\"white\",\"linecolor\":\"white\",\"ticks\":\"\",\"title\":{\"standoff\":15},\"zerolinecolor\":\"white\",\"automargin\":true,\"zerolinewidth\":2},\"scene\":{\"xaxis\":{\"backgroundcolor\":\"#E5ECF6\",\"gridcolor\":\"white\",\"linecolor\":\"white\",\"showbackground\":true,\"ticks\":\"\",\"zerolinecolor\":\"white\",\"gridwidth\":2},\"yaxis\":{\"backgroundcolor\":\"#E5ECF6\",\"gridcolor\":\"white\",\"linecolor\":\"white\",\"showbackground\":true,\"ticks\":\"\",\"zerolinecolor\":\"white\",\"gridwidth\":2},\"zaxis\":{\"backgroundcolor\":\"#E5ECF6\",\"gridcolor\":\"white\",\"linecolor\":\"white\",\"showbackground\":true,\"ticks\":\"\",\"zerolinecolor\":\"white\",\"gridwidth\":2}},\"shapedefaults\":{\"line\":{\"color\":\"#2a3f5f\"}},\"annotationdefaults\":{\"arrowcolor\":\"#2a3f5f\",\"arrowhead\":0,\"arrowwidth\":1},\"geo\":{\"bgcolor\":\"white\",\"landcolor\":\"#E5ECF6\",\"subunitcolor\":\"white\",\"showland\":true,\"showlakes\":true,\"lakecolor\":\"white\"},\"title\":{\"x\":0.05},\"mapbox\":{\"style\":\"light\"}}},\"xaxis\":{\"anchor\":\"y\",\"domain\":[0.0,1.0],\"title\":{\"text\":\"Loudness\"}},\"yaxis\":{\"anchor\":\"x\",\"domain\":[0.0,1.0],\"title\":{\"text\":\"count\"}},\"legend\":{\"tracegroupgap\":0},\"margin\":{\"t\":60},\"barmode\":\"relative\"},                        {\"responsive\": true}                    ).then(function(){\n",
       "                            \n",
       "var gd = document.getElementById('f3087314-8bef-49ee-b4d2-160ad69435be');\n",
       "var x = new MutationObserver(function (mutations, observer) {{\n",
       "        var display = window.getComputedStyle(gd).display;\n",
       "        if (!display || display === 'none') {{\n",
       "            console.log([gd, 'removed!']);\n",
       "            Plotly.purge(gd);\n",
       "            observer.disconnect();\n",
       "        }}\n",
       "}});\n",
       "\n",
       "// Listen for the removal of the full notebook cells\n",
       "var notebookContainer = gd.closest('#notebook-container');\n",
       "if (notebookContainer) {{\n",
       "    x.observe(notebookContainer, {childList: true});\n",
       "}}\n",
       "\n",
       "// Listen for the clearing of the current output cell\n",
       "var outputEl = gd.closest('.output');\n",
       "if (outputEl) {{\n",
       "    x.observe(outputEl, {childList: true});\n",
       "}}\n",
       "\n",
       "                        })                };                });            </script>        </div>"
      ]
     },
     "metadata": {},
     "output_type": "display_data"
    }
   ],
   "source": [
    "express.histogram(data_frame=df, x='Loudness')"
   ]
  },
  {
   "cell_type": "markdown",
   "id": "ba02303d",
   "metadata": {
    "papermill": {
     "duration": 0.018519,
     "end_time": "2024-09-02T15:27:39.135977",
     "exception": false,
     "start_time": "2024-09-02T15:27:39.117458",
     "status": "completed"
    },
    "tags": []
   },
   "source": [
    "Yes; disco is loud. Disco predates the Loudness Wars, but by standards of the time disco was loud."
   ]
  },
  {
   "cell_type": "code",
   "execution_count": 23,
   "id": "a196f60e",
   "metadata": {
    "execution": {
     "iopub.execute_input": "2024-09-02T15:27:39.175978Z",
     "iopub.status.busy": "2024-09-02T15:27:39.175492Z",
     "iopub.status.idle": "2024-09-02T15:27:39.201512Z",
     "shell.execute_reply": "2024-09-02T15:27:39.200254Z"
    },
    "papermill": {
     "duration": 0.049284,
     "end_time": "2024-09-02T15:27:39.204210",
     "exception": false,
     "start_time": "2024-09-02T15:27:39.154926",
     "status": "completed"
    },
    "tags": []
   },
   "outputs": [
    {
     "data": {
      "text/html": [
       "<div>\n",
       "<style scoped>\n",
       "    .dataframe tbody tr th:only-of-type {\n",
       "        vertical-align: middle;\n",
       "    }\n",
       "\n",
       "    .dataframe tbody tr th {\n",
       "        vertical-align: top;\n",
       "    }\n",
       "\n",
       "    .dataframe thead th {\n",
       "        text-align: right;\n",
       "    }\n",
       "</style>\n",
       "<table border=\"1\" class=\"dataframe\">\n",
       "  <thead>\n",
       "    <tr style=\"text-align: right;\">\n",
       "      <th></th>\n",
       "      <th>Track</th>\n",
       "      <th>Artist</th>\n",
       "      <th>Album</th>\n",
       "      <th>Year</th>\n",
       "      <th>Duration</th>\n",
       "      <th>Time_Signature</th>\n",
       "      <th>Danceability</th>\n",
       "      <th>Energy</th>\n",
       "      <th>Key</th>\n",
       "      <th>Loudness</th>\n",
       "      <th>Mode</th>\n",
       "      <th>Speechiness</th>\n",
       "      <th>Acousticness</th>\n",
       "      <th>Instrumentalness</th>\n",
       "      <th>Liveness</th>\n",
       "      <th>Valence</th>\n",
       "      <th>Tempo</th>\n",
       "      <th>Popularity</th>\n",
       "    </tr>\n",
       "  </thead>\n",
       "  <tbody>\n",
       "    <tr>\n",
       "      <th>703</th>\n",
       "      <td>Hold Tight</td>\n",
       "      <td>Vicki Sue Robinson</td>\n",
       "      <td>Half and Half (Expanded Edition)</td>\n",
       "      <td>1976</td>\n",
       "      <td>326626</td>\n",
       "      <td>4</td>\n",
       "      <td>0.691</td>\n",
       "      <td>0.961</td>\n",
       "      <td>0</td>\n",
       "      <td>-3.914</td>\n",
       "      <td>1</td>\n",
       "      <td>0.0558</td>\n",
       "      <td>0.14100</td>\n",
       "      <td>0.000147</td>\n",
       "      <td>0.5980</td>\n",
       "      <td>0.833</td>\n",
       "      <td>123.459</td>\n",
       "      <td>6</td>\n",
       "    </tr>\n",
       "    <tr>\n",
       "      <th>132</th>\n",
       "      <td>I'll Be There (feat. Nile Rodgers) - Single Ve...</td>\n",
       "      <td>CHIC</td>\n",
       "      <td>I'll Be There (feat. Nile Rodgers)</td>\n",
       "      <td>1980</td>\n",
       "      <td>217849</td>\n",
       "      <td>4</td>\n",
       "      <td>0.855</td>\n",
       "      <td>0.826</td>\n",
       "      <td>0</td>\n",
       "      <td>-3.882</td>\n",
       "      <td>1</td>\n",
       "      <td>0.0798</td>\n",
       "      <td>0.13000</td>\n",
       "      <td>0.000003</td>\n",
       "      <td>0.0782</td>\n",
       "      <td>0.798</td>\n",
       "      <td>125.013</td>\n",
       "      <td>35</td>\n",
       "    </tr>\n",
       "    <tr>\n",
       "      <th>442</th>\n",
       "      <td>Love Gun</td>\n",
       "      <td>Rick James</td>\n",
       "      <td>Fire It Up</td>\n",
       "      <td>1981</td>\n",
       "      <td>346453</td>\n",
       "      <td>4</td>\n",
       "      <td>0.761</td>\n",
       "      <td>0.938</td>\n",
       "      <td>9</td>\n",
       "      <td>-3.856</td>\n",
       "      <td>1</td>\n",
       "      <td>0.0635</td>\n",
       "      <td>0.00652</td>\n",
       "      <td>0.100000</td>\n",
       "      <td>0.1000</td>\n",
       "      <td>0.748</td>\n",
       "      <td>121.714</td>\n",
       "      <td>32</td>\n",
       "    </tr>\n",
       "    <tr>\n",
       "      <th>529</th>\n",
       "      <td>Everything Is Cool</td>\n",
       "      <td>T-Connection</td>\n",
       "      <td>Classic Masters</td>\n",
       "      <td>1979</td>\n",
       "      <td>267573</td>\n",
       "      <td>4</td>\n",
       "      <td>0.732</td>\n",
       "      <td>0.900</td>\n",
       "      <td>0</td>\n",
       "      <td>-3.651</td>\n",
       "      <td>1</td>\n",
       "      <td>0.0873</td>\n",
       "      <td>0.34000</td>\n",
       "      <td>0.003760</td>\n",
       "      <td>0.0799</td>\n",
       "      <td>0.791</td>\n",
       "      <td>102.818</td>\n",
       "      <td>9</td>\n",
       "    </tr>\n",
       "    <tr>\n",
       "      <th>114</th>\n",
       "      <td>Midnight Madness</td>\n",
       "      <td>Cerrone</td>\n",
       "      <td>Don Ray - Garden of Love</td>\n",
       "      <td>1979</td>\n",
       "      <td>343000</td>\n",
       "      <td>4</td>\n",
       "      <td>0.789</td>\n",
       "      <td>0.932</td>\n",
       "      <td>11</td>\n",
       "      <td>-3.384</td>\n",
       "      <td>0</td>\n",
       "      <td>0.0493</td>\n",
       "      <td>0.00402</td>\n",
       "      <td>0.004760</td>\n",
       "      <td>0.0719</td>\n",
       "      <td>0.886</td>\n",
       "      <td>127.675</td>\n",
       "      <td>8</td>\n",
       "    </tr>\n",
       "  </tbody>\n",
       "</table>\n",
       "</div>"
      ],
      "text/plain": [
       "                                                 Track              Artist  \\\n",
       "703                                         Hold Tight  Vicki Sue Robinson   \n",
       "132  I'll Be There (feat. Nile Rodgers) - Single Ve...                CHIC   \n",
       "442                                           Love Gun          Rick James   \n",
       "529                                 Everything Is Cool        T-Connection   \n",
       "114                                   Midnight Madness             Cerrone   \n",
       "\n",
       "                                  Album  Year  Duration  Time_Signature  \\\n",
       "703    Half and Half (Expanded Edition)  1976    326626               4   \n",
       "132  I'll Be There (feat. Nile Rodgers)  1980    217849               4   \n",
       "442                          Fire It Up  1981    346453               4   \n",
       "529                     Classic Masters  1979    267573               4   \n",
       "114            Don Ray - Garden of Love  1979    343000               4   \n",
       "\n",
       "     Danceability  Energy  Key  Loudness  Mode  Speechiness  Acousticness  \\\n",
       "703         0.691   0.961    0    -3.914     1       0.0558       0.14100   \n",
       "132         0.855   0.826    0    -3.882     1       0.0798       0.13000   \n",
       "442         0.761   0.938    9    -3.856     1       0.0635       0.00652   \n",
       "529         0.732   0.900    0    -3.651     1       0.0873       0.34000   \n",
       "114         0.789   0.932   11    -3.384     0       0.0493       0.00402   \n",
       "\n",
       "     Instrumentalness  Liveness  Valence    Tempo  Popularity  \n",
       "703          0.000147    0.5980    0.833  123.459           6  \n",
       "132          0.000003    0.0782    0.798  125.013          35  \n",
       "442          0.100000    0.1000    0.748  121.714          32  \n",
       "529          0.003760    0.0799    0.791  102.818           9  \n",
       "114          0.004760    0.0719    0.886  127.675           8  "
      ]
     },
     "execution_count": 23,
     "metadata": {},
     "output_type": "execute_result"
    }
   ],
   "source": [
    "df[df['Loudness'] > -4].sort_values(by='Loudness')"
   ]
  }
 ],
 "metadata": {
  "kaggle": {
   "accelerator": "none",
   "dataSources": [
    {
     "datasetId": 5561255,
     "sourceId": 9213578,
     "sourceType": "datasetVersion"
    }
   ],
   "dockerImageVersionId": 30761,
   "isGpuEnabled": false,
   "isInternetEnabled": true,
   "language": "python",
   "sourceType": "notebook"
  },
  "kernelspec": {
   "display_name": "Python 3",
   "language": "python",
   "name": "python3"
  },
  "language_info": {
   "codemirror_mode": {
    "name": "ipython",
    "version": 3
   },
   "file_extension": ".py",
   "mimetype": "text/x-python",
   "name": "python",
   "nbconvert_exporter": "python",
   "pygments_lexer": "ipython3",
   "version": "3.10.14"
  },
  "papermill": {
   "default_parameters": {},
   "duration": 10.337092,
   "end_time": "2024-09-02T15:27:39.946119",
   "environment_variables": {},
   "exception": null,
   "input_path": "__notebook__.ipynb",
   "output_path": "__notebook__.ipynb",
   "parameters": {},
   "start_time": "2024-09-02T15:27:29.609027",
   "version": "2.6.0"
  }
 },
 "nbformat": 4,
 "nbformat_minor": 5
}
