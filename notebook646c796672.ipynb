{
 "cells": [
  {
   "cell_type": "code",
   "execution_count": 1,
   "id": "faf4e2f7",
   "metadata": {
    "_cell_guid": "b1076dfc-b9ad-4769-8c92-a6c4dae69d19",
    "_uuid": "8f2839f25d086af736a60e9eeb907d3b93b6e0e5",
    "execution": {
     "iopub.execute_input": "2024-09-04T16:05:17.533341Z",
     "iopub.status.busy": "2024-09-04T16:05:17.532790Z",
     "iopub.status.idle": "2024-09-04T16:05:23.642884Z",
     "shell.execute_reply": "2024-09-04T16:05:23.641718Z"
    },
    "papermill": {
     "duration": 6.117029,
     "end_time": "2024-09-04T16:05:23.645518",
     "exception": false,
     "start_time": "2024-09-04T16:05:17.528489",
     "status": "completed"
    },
    "tags": []
   },
   "outputs": [
    {
     "name": "stderr",
     "output_type": "stream",
     "text": [
      "Downloading: \"https://download.pytorch.org/models/resnext50_32x4d-1a0047aa.pth\" to /root/.cache/torch/hub/checkpoints/resnext50_32x4d-1a0047aa.pth\n",
      "100%|██████████| 95.8M/95.8M [00:00<00:00, 156MB/s]\n"
     ]
    }
   ],
   "source": [
    "import torch\n",
    "import torchvision.models as models\n",
    "import torchvision.transforms as transforms\n",
    "import numpy as np\n",
    "\n",
    "\n",
    "DEVICE = torch.device('cpu')\n",
    "OUTPUT_SIZE = 2048\n",
    "\n",
    "model = models.resnext50_32x4d(weights=models.ResNeXt50_32X4D_Weights.IMAGENET1K_V2)\n",
    "\n",
    "extraction_layer = model._modules.get('avgpool')\n",
    "model.to(DEVICE)\n",
    "model.eval()\n",
    "\n",
    "scaler = transforms.Resize((224, 224))\n",
    "normalize = transforms.Normalize(mean=[0.485, 0.456, 0.406], std=[0.229, 0.224, 0.225])\n",
    "to_tensor = transforms.ToTensor()\n",
    "\n",
    "def get_vec(arg, model, extraction_layer):\n",
    "    image = normalize(to_tensor(scaler(arg))).unsqueeze(0).to(DEVICE)\n",
    "    result = torch.zeros(1, OUTPUT_SIZE, 1, 1)\n",
    "    def copy_data(m, i, o):\n",
    "        result.copy_(o.data)\n",
    "    hooked = extraction_layer.register_forward_hook(copy_data)\n",
    "    with torch.no_grad():\n",
    "        model(image)\n",
    "    hooked.remove()\n",
    "    return result"
   ]
  },
  {
   "cell_type": "code",
   "execution_count": 2,
   "id": "4f572851",
   "metadata": {
    "execution": {
     "iopub.execute_input": "2024-09-04T16:05:23.653275Z",
     "iopub.status.busy": "2024-09-04T16:05:23.652732Z",
     "iopub.status.idle": "2024-09-04T16:28:45.604357Z",
     "shell.execute_reply": "2024-09-04T16:28:45.603246Z"
    },
    "papermill": {
     "duration": 1401.961156,
     "end_time": "2024-09-04T16:28:45.609743",
     "exception": false,
     "start_time": "2024-09-04T16:05:23.648587",
     "status": "completed"
    },
    "tags": []
   },
   "outputs": [
    {
     "name": "stdout",
     "output_type": "stream",
     "text": [
      "loaded valid: 1604 rows in 0:04:39.050900\n",
      "loaded test: 836 rows in 0:07:03.159670\n",
      "done in 0:23:21.454695\n"
     ]
    }
   ],
   "source": [
    "import arrow\n",
    "import base64\n",
    "import pandas as pd\n",
    "from glob import iglob\n",
    "from io import BytesIO\n",
    "from os.path import basename\n",
    "from PIL import Image\n",
    "\n",
    "ROOT = '/kaggle/input/bee-detection-dataset'\n",
    "TEST_IMAGES = ROOT + '/test/images'\n",
    "TEST_LABELS = ROOT + '/test/labels'\n",
    "THUMBNAIL_SIZE = (128, 128)\n",
    "TRAIN_IMAGES = ROOT + '/train/images'\n",
    "TRAIN_LABELS = ROOT + '/train/labels'\n",
    "VALID_IMAGES = ROOT + '/valid/images'\n",
    "VALID_LABELS = ROOT + '/valid/labels'\n",
    "\n",
    "\n",
    "def embed(model, filename: str):\n",
    "    with Image.open(fp=filename, mode='r') as image:\n",
    "        return get_vec(arg=image.convert('RGB'), model=model, extraction_layer=extraction_layer).numpy().reshape(OUTPUT_SIZE,)\n",
    "\n",
    "def label(filename: str, labels: str) -> int:\n",
    "    label_file = labels + '/' + filename.replace('.jpg', '.txt')\n",
    "    with open(file=label_file, mode='r') as input_fp:\n",
    "        data = input_fp.read()\n",
    "        if len(data.split()):\n",
    "            return int(data.split()[0])\n",
    "        else:\n",
    "            return -1\n",
    "\n",
    "def png(filename: str) -> str:\n",
    "    with Image.open(fp=filename, mode='r') as image:\n",
    "        buffer = BytesIO()\n",
    "        # our images are pretty big; let's shrink the hover images to thumbnail size\n",
    "        image.resize(size=THUMBNAIL_SIZE).convert('RGB').save(buffer, format='png')\n",
    "        return 'data:image/png;base64,' + base64.b64encode(buffer.getvalue()).decode()\n",
    "\n",
    "time_start = arrow.now()\n",
    "valid_df = pd.DataFrame(data=[pd.Series(data=[basename(item), embed(model=model, filename=item), png(filename=item)],\n",
    "                                        index=['item', 'value', 'png']) for item in iglob(VALID_IMAGES + '/*.jpg')])\n",
    "valid_df['label'] = valid_df['item'].apply(func=label, args=(VALID_LABELS, ))\n",
    "print('loaded valid: {} rows in {}'.format(len(valid_df), arrow.now() - time_start))\n",
    "test_df = pd.DataFrame(data=[pd.Series(data=[basename(item), embed(model=model, filename=item), png(filename=item)],\n",
    "                                        index=['item', 'value', 'png']) for item in iglob(TEST_IMAGES + '/*.jpg')])\n",
    "test_df['label'] = test_df['item'].apply(func=label, args=(TEST_LABELS, ))\n",
    "print('loaded test: {} rows in {}'.format(len(test_df), arrow.now() - time_start))\n",
    "train_df = pd.DataFrame(data=[pd.Series(data=[basename(item), embed(model=model, filename=item), png(filename=item)],\n",
    "                                        index=['item', 'value', 'png']) for item in iglob(TRAIN_IMAGES + '/*.jpg')])\n",
    "train_df['label'] = train_df['item'].apply(func=label, args=(TRAIN_LABELS, ))\n",
    "print('done in {}'.format(arrow.now() - time_start))"
   ]
  },
  {
   "cell_type": "code",
   "execution_count": 3,
   "id": "988de830",
   "metadata": {
    "execution": {
     "iopub.execute_input": "2024-09-04T16:28:45.617563Z",
     "iopub.status.busy": "2024-09-04T16:28:45.617008Z",
     "iopub.status.idle": "2024-09-04T16:28:45.635147Z",
     "shell.execute_reply": "2024-09-04T16:28:45.634106Z"
    },
    "papermill": {
     "duration": 0.024545,
     "end_time": "2024-09-04T16:28:45.637266",
     "exception": false,
     "start_time": "2024-09-04T16:28:45.612721",
     "status": "completed"
    },
    "tags": []
   },
   "outputs": [
    {
     "data": {
      "text/plain": [
       "{0: 6115, -1: 1129}"
      ]
     },
     "execution_count": 3,
     "metadata": {},
     "output_type": "execute_result"
    }
   ],
   "source": [
    "pd.concat(objs=[train_df, valid_df])['label'].value_counts().to_dict()"
   ]
  },
  {
   "cell_type": "code",
   "execution_count": 4,
   "id": "5dc5f90e",
   "metadata": {
    "execution": {
     "iopub.execute_input": "2024-09-04T16:28:45.645536Z",
     "iopub.status.busy": "2024-09-04T16:28:45.644603Z",
     "iopub.status.idle": "2024-09-04T16:30:15.643605Z",
     "shell.execute_reply": "2024-09-04T16:30:15.642527Z"
    },
    "papermill": {
     "duration": 90.007609,
     "end_time": "2024-09-04T16:30:15.648058",
     "exception": false,
     "start_time": "2024-09-04T16:28:45.640449",
     "status": "completed"
    },
    "tags": []
   },
   "outputs": [
    {
     "name": "stdout",
     "output_type": "stream",
     "text": [
      "done with UMAP in 0:00:56.419581\n"
     ]
    }
   ],
   "source": [
    "import arrow\n",
    "from umap import UMAP\n",
    "\n",
    "time_start = arrow.now()\n",
    "umap = UMAP(random_state=2024, verbose=False, n_jobs=1, low_memory=False, n_epochs=201)\n",
    "train_df[['x', 'y']] = umap.fit_transform(X=train_df['value'].apply(func=pd.Series))\n",
    "valid_df[['x', 'y']] = umap.transform(X=valid_df['value'].apply(func=pd.Series))\n",
    "test_df[['x', 'y']] = umap.transform(X=test_df['value'].apply(func=pd.Series))\n",
    "print('done with UMAP in {}'.format(arrow.now() - time_start))"
   ]
  }
 ],
 "metadata": {
  "kaggle": {
   "accelerator": "none",
   "dataSources": [
    {
     "datasetId": 5631547,
     "sourceId": 9300827,
     "sourceType": "datasetVersion"
    }
   ],
   "dockerImageVersionId": 30761,
   "isGpuEnabled": false,
   "isInternetEnabled": true,
   "language": "python",
   "sourceType": "notebook"
  },
  "kernelspec": {
   "display_name": "Python 3",
   "language": "python",
   "name": "python3"
  },
  "language_info": {
   "codemirror_mode": {
    "name": "ipython",
    "version": 3
   },
   "file_extension": ".py",
   "mimetype": "text/x-python",
   "name": "python",
   "nbconvert_exporter": "python",
   "pygments_lexer": "ipython3",
   "version": "3.10.14"
  },
  "papermill": {
   "default_parameters": {},
   "duration": 1504.127979,
   "end_time": "2024-09-04T16:30:18.984063",
   "environment_variables": {},
   "exception": null,
   "input_path": "__notebook__.ipynb",
   "output_path": "__notebook__.ipynb",
   "parameters": {},
   "start_time": "2024-09-04T16:05:14.856084",
   "version": "2.6.0"
  }
 },
 "nbformat": 4,
 "nbformat_minor": 5
}
