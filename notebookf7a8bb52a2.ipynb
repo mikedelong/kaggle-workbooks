{
 "cells": [
  {
   "cell_type": "code",
   "execution_count": 1,
   "id": "69eff6c7",
   "metadata": {
    "_cell_guid": "b1076dfc-b9ad-4769-8c92-a6c4dae69d19",
    "_uuid": "8f2839f25d086af736a60e9eeb907d3b93b6e0e5",
    "execution": {
     "iopub.execute_input": "2025-08-26T15:19:52.152514Z",
     "iopub.status.busy": "2025-08-26T15:19:52.151691Z",
     "iopub.status.idle": "2025-08-26T15:19:52.291517Z",
     "shell.execute_reply": "2025-08-26T15:19:52.290265Z"
    },
    "papermill": {
     "duration": 0.145308,
     "end_time": "2025-08-26T15:19:52.293400",
     "exception": false,
     "start_time": "2025-08-26T15:19:52.148092",
     "status": "completed"
    },
    "tags": []
   },
   "outputs": [
    {
     "name": "stdout",
     "output_type": "stream",
     "text": [
      "images\tlabels\r\n"
     ]
    }
   ],
   "source": [
    "!ls /kaggle/input/cows-and-buffalo-computer-vision-dataset/train/"
   ]
  },
  {
   "cell_type": "code",
   "execution_count": 2,
   "id": "4caca0aa",
   "metadata": {
    "execution": {
     "iopub.execute_input": "2025-08-26T15:19:52.299312Z",
     "iopub.status.busy": "2025-08-26T15:19:52.298676Z",
     "iopub.status.idle": "2025-08-26T15:19:52.303401Z",
     "shell.execute_reply": "2025-08-26T15:19:52.302623Z"
    },
    "papermill": {
     "duration": 0.008883,
     "end_time": "2025-08-26T15:19:52.304745",
     "exception": false,
     "start_time": "2025-08-26T15:19:52.295862",
     "status": "completed"
    },
    "tags": []
   },
   "outputs": [],
   "source": [
    "TRAIN = '/kaggle/input/cows-and-buffalo-computer-vision-dataset/train'"
   ]
  },
  {
   "cell_type": "code",
   "execution_count": 3,
   "id": "6bec50bb",
   "metadata": {
    "execution": {
     "iopub.execute_input": "2025-08-26T15:19:52.309505Z",
     "iopub.status.busy": "2025-08-26T15:19:52.309232Z",
     "iopub.status.idle": "2025-08-26T15:20:04.640283Z",
     "shell.execute_reply": "2025-08-26T15:20:04.639478Z"
    },
    "papermill": {
     "duration": 12.335665,
     "end_time": "2025-08-26T15:20:04.642373",
     "exception": false,
     "start_time": "2025-08-26T15:19:52.306708",
     "status": "completed"
    },
    "tags": []
   },
   "outputs": [
    {
     "name": "stderr",
     "output_type": "stream",
     "text": [
      "Downloading: \"https://download.pytorch.org/models/resnext50_32x4d-1a0047aa.pth\" to /root/.cache/torch/hub/checkpoints/resnext50_32x4d-1a0047aa.pth\n",
      "100%|██████████| 95.8M/95.8M [00:00<00:00, 170MB/s]\n"
     ]
    }
   ],
   "source": [
    "import torch\n",
    "import torchvision.models as models\n",
    "import torchvision.transforms as transforms\n",
    "import numpy as np\n",
    "\n",
    "\n",
    "DEVICE = torch.device('cpu')\n",
    "OUTPUT_SIZE = 2048\n",
    "\n",
    "model = models.resnext50_32x4d(weights=models.ResNeXt50_32X4D_Weights.IMAGENET1K_V2)\n",
    "\n",
    "extraction_layer = model._modules.get('avgpool')\n",
    "model.to(DEVICE)\n",
    "model.eval()\n",
    "\n",
    "scaler = transforms.Resize((224, 224))\n",
    "normalize = transforms.Normalize(mean=[0.485, 0.456, 0.406], std=[0.229, 0.224, 0.225])\n",
    "to_tensor = transforms.ToTensor()\n",
    "\n",
    "def get_vec(arg, model, extraction_layer):\n",
    "    image = normalize(to_tensor(scaler(arg))).unsqueeze(0).to(DEVICE)\n",
    "    result = torch.zeros(1, OUTPUT_SIZE, 1, 1)\n",
    "    def copy_data(m, i, o):\n",
    "        result.copy_(o.data)\n",
    "    hooked = extraction_layer.register_forward_hook(copy_data)\n",
    "    with torch.no_grad():\n",
    "        model(image)\n",
    "    hooked.remove()\n",
    "    return result"
   ]
  },
  {
   "cell_type": "code",
   "execution_count": 4,
   "id": "36fa999a",
   "metadata": {
    "execution": {
     "iopub.execute_input": "2025-08-26T15:20:04.648384Z",
     "iopub.status.busy": "2025-08-26T15:20:04.647927Z",
     "iopub.status.idle": "2025-08-26T15:24:15.132990Z",
     "shell.execute_reply": "2025-08-26T15:24:15.131933Z"
    },
    "papermill": {
     "duration": 250.491573,
     "end_time": "2025-08-26T15:24:15.136461",
     "exception": false,
     "start_time": "2025-08-26T15:20:04.644888",
     "status": "completed"
    },
    "tags": []
   },
   "outputs": [
    {
     "name": "stdout",
     "output_type": "stream",
     "text": [
      "encoded 0 rows of labels  in 0:00:00.228985\n",
      "encoded 1747 rows of images  in 0:04:08.313029\n",
      "done in 0:04:08.657408\n"
     ]
    }
   ],
   "source": [
    "import arrow\n",
    "import base64\n",
    "import pandas as pd\n",
    "from glob import iglob\n",
    "from io import BytesIO\n",
    "from os.path import basename\n",
    "from PIL import Image\n",
    "\n",
    "THUMBNAIL_SIZE = (64, 64)\n",
    "\n",
    "def embed(model, filename: str):\n",
    "    with Image.open(fp=filename, mode='r') as image:\n",
    "        return get_vec(arg=image.convert('RGB'), model=model, extraction_layer=extraction_layer).numpy().reshape(OUTPUT_SIZE,)\n",
    "\n",
    "\n",
    "# https://stackoverflow.com/a/952952\n",
    "def flatten(arg):\n",
    "    return [x for xs in arg for x in xs]\n",
    "\n",
    "def png(filename: str) -> str:\n",
    "    with Image.open(fp=filename, mode='r') as image:\n",
    "        buffer = BytesIO()\n",
    "        # our images are pretty big; let's shrink the hover images to thumbnail size\n",
    "        image.resize(size=THUMBNAIL_SIZE).convert('RGB').save(buffer, format='png')\n",
    "        return 'data:image/png;base64,' + base64.b64encode(buffer.getvalue()).decode()\n",
    "\n",
    "def get_picture_from_glob(arg: str, tag: str,) -> list:\n",
    "    time_get = arrow.now()\n",
    "    result = [pd.Series(data=[tag, basename(input_file), embed(model=model, filename=input_file), png(filename=input_file)],\n",
    "                        index=['tag', 'name', 'value', 'png'] )\n",
    "        for index, input_file in enumerate(list(iglob(pathname=arg))) if input_file.endswith('.jpg')]\n",
    "    print('encoded {} rows of {}  in {}'.format(len(result), tag, arrow.now() - time_get))\n",
    "    return result\n",
    "\n",
    "time_start = arrow.now()\n",
    "train_dict = {basename(folder) : folder + '/*.*' for folder in iglob(TRAIN + '/*')}\n",
    "train_df = pd.DataFrame(data=flatten(arg=[get_picture_from_glob(arg=value, tag=key) for key, value in train_dict.items()]))\n",
    "print('done in {}'.format(arrow.now() - time_start))"
   ]
  },
  {
   "cell_type": "code",
   "execution_count": 5,
   "id": "88024e7c",
   "metadata": {
    "execution": {
     "iopub.execute_input": "2025-08-26T15:24:15.142495Z",
     "iopub.status.busy": "2025-08-26T15:24:15.142072Z",
     "iopub.status.idle": "2025-08-26T15:24:21.544002Z",
     "shell.execute_reply": "2025-08-26T15:24:21.543124Z"
    },
    "papermill": {
     "duration": 6.406961,
     "end_time": "2025-08-26T15:24:21.545720",
     "exception": false,
     "start_time": "2025-08-26T15:24:15.138759",
     "status": "completed"
    },
    "tags": []
   },
   "outputs": [],
   "source": [
    "from pathlib import Path\n",
    "\n",
    "def get_label(arg: str) -> str:\n",
    "    label_file = str(Path(arg).with_suffix('.txt'))\n",
    "    with open(TRAIN + '/labels/' + label_file, mode='r') as fp:\n",
    "        results = []\n",
    "        for line in fp:\n",
    "            pieces = line.split(' ')\n",
    "            results.append(pieces[0])\n",
    "    if len(results):\n",
    "        return str(results[0])\n",
    "    else: return str(-1)\n",
    "train_df['tag'] = train_df['name'].apply(func=get_label)"
   ]
  }
 ],
 "metadata": {
  "kaggle": {
   "accelerator": "none",
   "dataSources": [
    {
     "datasetId": 8140627,
     "sourceId": 12869319,
     "sourceType": "datasetVersion"
    }
   ],
   "dockerImageVersionId": 31089,
   "isGpuEnabled": false,
   "isInternetEnabled": true,
   "language": "python",
   "sourceType": "notebook"
  },
  "kernelspec": {
   "display_name": "Python 3",
   "language": "python",
   "name": "python3"
  },
  "language_info": {
   "codemirror_mode": {
    "name": "ipython",
    "version": 3
   },
   "file_extension": ".py",
   "mimetype": "text/x-python",
   "name": "python",
   "nbconvert_exporter": "python",
   "pygments_lexer": "ipython3",
   "version": "3.11.13"
  },
  "papermill": {
   "default_parameters": {},
   "duration": 276.30001,
   "end_time": "2025-08-26T15:24:23.471132",
   "environment_variables": {},
   "exception": null,
   "input_path": "__notebook__.ipynb",
   "output_path": "__notebook__.ipynb",
   "parameters": {},
   "start_time": "2025-08-26T15:19:47.171122",
   "version": "2.6.0"
  }
 },
 "nbformat": 4,
 "nbformat_minor": 5
}
