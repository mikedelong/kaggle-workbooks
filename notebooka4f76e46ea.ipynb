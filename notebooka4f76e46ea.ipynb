{
 "cells": [
  {
   "cell_type": "code",
   "execution_count": 1,
   "id": "8671d29e",
   "metadata": {
    "_cell_guid": "b1076dfc-b9ad-4769-8c92-a6c4dae69d19",
    "_uuid": "8f2839f25d086af736a60e9eeb907d3b93b6e0e5",
    "execution": {
     "iopub.execute_input": "2024-09-29T09:44:58.596235Z",
     "iopub.status.busy": "2024-09-29T09:44:58.595769Z",
     "iopub.status.idle": "2024-09-29T09:44:59.599175Z",
     "shell.execute_reply": "2024-09-29T09:44:59.598007Z"
    },
    "papermill": {
     "duration": 1.012446,
     "end_time": "2024-09-29T09:44:59.602045",
     "exception": false,
     "start_time": "2024-09-29T09:44:58.589599",
     "status": "completed"
    },
    "tags": []
   },
   "outputs": [
    {
     "data": {
      "text/html": [
       "<div>\n",
       "<style scoped>\n",
       "    .dataframe tbody tr th:only-of-type {\n",
       "        vertical-align: middle;\n",
       "    }\n",
       "\n",
       "    .dataframe tbody tr th {\n",
       "        vertical-align: top;\n",
       "    }\n",
       "\n",
       "    .dataframe thead th {\n",
       "        text-align: right;\n",
       "    }\n",
       "</style>\n",
       "<table border=\"1\" class=\"dataframe\">\n",
       "  <thead>\n",
       "    <tr style=\"text-align: right;\">\n",
       "      <th></th>\n",
       "      <th>Name</th>\n",
       "      <th>age</th>\n",
       "      <th>gender</th>\n",
       "      <th>Date</th>\n",
       "      <th>Month</th>\n",
       "      <th>Year</th>\n",
       "      <th>Type</th>\n",
       "      <th>Location</th>\n",
       "      <th>Description</th>\n",
       "      <th>Type of bear</th>\n",
       "      <th>Hunter</th>\n",
       "      <th>Grizzly</th>\n",
       "      <th>Hikers</th>\n",
       "      <th>Only one killed</th>\n",
       "      <th>Latitude</th>\n",
       "      <th>Longitude</th>\n",
       "    </tr>\n",
       "  </thead>\n",
       "  <tbody>\n",
       "    <tr>\n",
       "      <th>0</th>\n",
       "      <td>Mary Porterfield</td>\n",
       "      <td>3.0</td>\n",
       "      <td>female</td>\n",
       "      <td>19/05/1901</td>\n",
       "      <td>May</td>\n",
       "      <td>1901</td>\n",
       "      <td>Wild</td>\n",
       "      <td>Job, West Virginia</td>\n",
       "      <td>The children were gathering flowers near their...</td>\n",
       "      <td>Black bear</td>\n",
       "      <td>0</td>\n",
       "      <td>0</td>\n",
       "      <td>0</td>\n",
       "      <td>0</td>\n",
       "      <td>38.864277</td>\n",
       "      <td>-79.556998</td>\n",
       "    </tr>\n",
       "    <tr>\n",
       "      <th>1</th>\n",
       "      <td>Wilie Porterfield</td>\n",
       "      <td>5.0</td>\n",
       "      <td>male</td>\n",
       "      <td>19/05/1901</td>\n",
       "      <td>May</td>\n",
       "      <td>1901</td>\n",
       "      <td>Wild</td>\n",
       "      <td>Job, West Virginia</td>\n",
       "      <td>The children were gathering flowers near their...</td>\n",
       "      <td>Black bear</td>\n",
       "      <td>0</td>\n",
       "      <td>0</td>\n",
       "      <td>0</td>\n",
       "      <td>0</td>\n",
       "      <td>38.864277</td>\n",
       "      <td>-79.556998</td>\n",
       "    </tr>\n",
       "    <tr>\n",
       "      <th>2</th>\n",
       "      <td>Henry Porterfield</td>\n",
       "      <td>7.0</td>\n",
       "      <td>male</td>\n",
       "      <td>19/05/1901</td>\n",
       "      <td>May</td>\n",
       "      <td>1901</td>\n",
       "      <td>Wild</td>\n",
       "      <td>Job, West Virginia</td>\n",
       "      <td>The children were gathering flowers near their...</td>\n",
       "      <td>Black bear</td>\n",
       "      <td>0</td>\n",
       "      <td>0</td>\n",
       "      <td>0</td>\n",
       "      <td>0</td>\n",
       "      <td>38.864277</td>\n",
       "      <td>-79.556998</td>\n",
       "    </tr>\n",
       "    <tr>\n",
       "      <th>3</th>\n",
       "      <td>John Dicht</td>\n",
       "      <td>18.0</td>\n",
       "      <td>male</td>\n",
       "      <td>24/11/1906</td>\n",
       "      <td>Nov</td>\n",
       "      <td>1906</td>\n",
       "      <td>Wild</td>\n",
       "      <td>Elk County, Pennsylvania</td>\n",
       "      <td>Thinking the bear was dead, Dicht began skinni...</td>\n",
       "      <td>Black bear</td>\n",
       "      <td>0</td>\n",
       "      <td>0</td>\n",
       "      <td>0</td>\n",
       "      <td>1</td>\n",
       "      <td>41.437362</td>\n",
       "      <td>-78.626009</td>\n",
       "    </tr>\n",
       "    <tr>\n",
       "      <th>4</th>\n",
       "      <td>Baby Laird</td>\n",
       "      <td>1.0</td>\n",
       "      <td>NaN</td>\n",
       "      <td>05/10/1908</td>\n",
       "      <td>Oct</td>\n",
       "      <td>1908</td>\n",
       "      <td>Captive</td>\n",
       "      <td>Tucson, Arizona</td>\n",
       "      <td>After a bear escaped from a cage at Elysian Gr...</td>\n",
       "      <td>Black bear</td>\n",
       "      <td>0</td>\n",
       "      <td>0</td>\n",
       "      <td>0</td>\n",
       "      <td>1</td>\n",
       "      <td>32.222876</td>\n",
       "      <td>-110.974847</td>\n",
       "    </tr>\n",
       "  </tbody>\n",
       "</table>\n",
       "</div>"
      ],
      "text/plain": [
       "                Name   age  gender        Date Month  Year     Type  \\\n",
       "0   Mary Porterfield   3.0  female  19/05/1901   May  1901     Wild   \n",
       "1  Wilie Porterfield   5.0    male  19/05/1901   May  1901     Wild   \n",
       "2  Henry Porterfield   7.0    male  19/05/1901   May  1901     Wild   \n",
       "3         John Dicht  18.0    male  24/11/1906   Nov  1906     Wild   \n",
       "4         Baby Laird   1.0     NaN  05/10/1908   Oct  1908  Captive   \n",
       "\n",
       "                   Location  \\\n",
       "0        Job, West Virginia   \n",
       "1        Job, West Virginia   \n",
       "2        Job, West Virginia   \n",
       "3  Elk County, Pennsylvania   \n",
       "4           Tucson, Arizona   \n",
       "\n",
       "                                         Description Type of bear  Hunter  \\\n",
       "0  The children were gathering flowers near their...   Black bear       0   \n",
       "1  The children were gathering flowers near their...   Black bear       0   \n",
       "2  The children were gathering flowers near their...   Black bear       0   \n",
       "3  Thinking the bear was dead, Dicht began skinni...   Black bear       0   \n",
       "4  After a bear escaped from a cage at Elysian Gr...   Black bear       0   \n",
       "\n",
       "   Grizzly  Hikers  Only one killed   Latitude   Longitude  \n",
       "0        0       0                0  38.864277  -79.556998  \n",
       "1        0       0                0  38.864277  -79.556998  \n",
       "2        0       0                0  38.864277  -79.556998  \n",
       "3        0       0                1  41.437362  -78.626009  \n",
       "4        0       0                1  32.222876 -110.974847  "
      ]
     },
     "execution_count": 1,
     "metadata": {},
     "output_type": "execute_result"
    }
   ],
   "source": [
    "import pandas as pd\n",
    "\n",
    "BEAR = '/kaggle/input/bear-attacks-north-america/data (3).csv'\n",
    "\n",
    "df = pd.read_csv(filepath_or_buffer=BEAR, parse_dates=['Date'],  date_format='%Y-%m-%d')\n",
    "df.columns = [item.strip() for item in df.columns]\n",
    "df.head()"
   ]
  },
  {
   "cell_type": "markdown",
   "id": "bf443ff4",
   "metadata": {
    "papermill": {
     "duration": 0.003584,
     "end_time": "2024-09-29T09:44:59.610111",
     "exception": false,
     "start_time": "2024-09-29T09:44:59.606527",
     "status": "completed"
    },
    "tags": []
   },
   "source": [
    "Bear attacks are uncommon given how many bears and how many people live in North America; let's make a time series, broken out by type of bear."
   ]
  },
  {
   "cell_type": "code",
   "execution_count": 2,
   "id": "b1127cdb",
   "metadata": {
    "execution": {
     "iopub.execute_input": "2024-09-29T09:44:59.620416Z",
     "iopub.status.busy": "2024-09-29T09:44:59.619014Z",
     "iopub.status.idle": "2024-09-29T09:45:02.525535Z",
     "shell.execute_reply": "2024-09-29T09:45:02.524383Z"
    },
    "papermill": {
     "duration": 2.91422,
     "end_time": "2024-09-29T09:45:02.528028",
     "exception": false,
     "start_time": "2024-09-29T09:44:59.613808",
     "status": "completed"
    },
    "tags": []
   },
   "outputs": [
    {
     "data": {
      "text/html": [
       "        <script type=\"text/javascript\">\n",
       "        window.PlotlyConfig = {MathJaxConfig: 'local'};\n",
       "        if (window.MathJax && window.MathJax.Hub && window.MathJax.Hub.Config) {window.MathJax.Hub.Config({SVG: {font: \"STIX-Web\"}});}\n",
       "        if (typeof require !== 'undefined') {\n",
       "        require.undef(\"plotly\");\n",
       "        requirejs.config({\n",
       "            paths: {\n",
       "                'plotly': ['https://cdn.plot.ly/plotly-2.32.0.min']\n",
       "            }\n",
       "        });\n",
       "        require(['plotly'], function(Plotly) {\n",
       "            window._Plotly = Plotly;\n",
       "        });\n",
       "        }\n",
       "        </script>\n",
       "        "
      ]
     },
     "metadata": {},
     "output_type": "display_data"
    },
    {
     "data": {
      "text/html": [
       "<div>                            <div id=\"d451db11-2a7a-473d-ae1a-bc0031061515\" class=\"plotly-graph-div\" style=\"height:525px; width:100%;\"></div>            <script type=\"text/javascript\">                require([\"plotly\"], function(Plotly) {                    window.PLOTLYENV=window.PLOTLYENV || {};                                    if (document.getElementById(\"d451db11-2a7a-473d-ae1a-bc0031061515\")) {                    Plotly.newPlot(                        \"d451db11-2a7a-473d-ae1a-bc0031061515\",                        [{\"alignmentgroup\":\"True\",\"bingroup\":\"x\",\"hovertemplate\":\"Type of bear=Black bear\\u003cbr\\u003eYear=%{x}\\u003cbr\\u003ecount=%{y}\\u003cextra\\u003e\\u003c\\u002fextra\\u003e\",\"legendgroup\":\"Black bear\",\"marker\":{\"color\":\"#636efa\",\"pattern\":{\"shape\":\"\"}},\"name\":\"Black bear\",\"nbinsx\":60,\"offsetgroup\":\"Black bear\",\"orientation\":\"v\",\"showlegend\":true,\"x\":[1901,1901,1901,1906,1908,1929,1930,1932,1933,1934,1934,1936,1936,1943,1945,1948,1952,1952,1953,1958,1959,1963,1964,1965,1966,1967,1968,1971,1974,1975,1978,1978,1978,1978,1980,1980,1980,1983,1983,1983,1985,1991,1991,1991,1992,1992,1993,1994,1996,1997,1997,2000,2000,2001,2001,2002,2002,2002,2005,2005,2005,2006,2007,2007,2008,2009,2009,2010,2011,2011,2013,2014,2014,2015,2017,2017],\"xaxis\":\"x\",\"yaxis\":\"y\",\"type\":\"histogram\"},{\"alignmentgroup\":\"True\",\"bingroup\":\"x\",\"hovertemplate\":\"Type of bear=Brown bear\\u003cbr\\u003eYear=%{x}\\u003cbr\\u003ecount=%{y}\\u003cextra\\u003e\\u003c\\u002fextra\\u003e\",\"legendgroup\":\"Brown bear\",\"marker\":{\"color\":\"#EF553B\",\"pattern\":{\"shape\":\"\"}},\"name\":\"Brown bear\",\"nbinsx\":60,\"offsetgroup\":\"Brown bear\",\"orientation\":\"v\",\"showlegend\":true,\"x\":[1916,1922,1929,1929,1932,1932,1934,1941,1942,1942,1945,1955,1956,1956,1958,1967,1967,1969,1970,1972,1973,1974,1976,1976,1977,1979,1980,1980,1980,1980,1983,1984,1986,1986,1987,1987,1988,1992,1992,1992,1995,1995,1995,1995,1996,1996,1998,1998,1998,1998,1999,1999,2000,2001,2003,2003,2005,2005,2005,2005,2006,2007,2008,2008,2010,2010,2011,2011,2012,2012,2014,2014,2014,2015,2016,2018,2018,2018,2018,2018],\"xaxis\":\"x\",\"yaxis\":\"y\",\"type\":\"histogram\"},{\"alignmentgroup\":\"True\",\"bingroup\":\"x\",\"hovertemplate\":\"Type of bear=Polar Bear\\u003cbr\\u003eYear=%{x}\\u003cbr\\u003ecount=%{y}\\u003cextra\\u003e\\u003c\\u002fextra\\u003e\",\"legendgroup\":\"Polar Bear\",\"marker\":{\"color\":\"#00cc96\",\"pattern\":{\"shape\":\"\"}},\"name\":\"Polar Bear\",\"nbinsx\":60,\"offsetgroup\":\"Polar Bear\",\"orientation\":\"v\",\"showlegend\":true,\"x\":[1968,1972,1975,1976,1982,1983,1987,1990,1999,2018],\"xaxis\":\"x\",\"yaxis\":\"y\",\"type\":\"histogram\"}],                        {\"template\":{\"data\":{\"histogram2dcontour\":[{\"type\":\"histogram2dcontour\",\"colorbar\":{\"outlinewidth\":0,\"ticks\":\"\"},\"colorscale\":[[0.0,\"#0d0887\"],[0.1111111111111111,\"#46039f\"],[0.2222222222222222,\"#7201a8\"],[0.3333333333333333,\"#9c179e\"],[0.4444444444444444,\"#bd3786\"],[0.5555555555555556,\"#d8576b\"],[0.6666666666666666,\"#ed7953\"],[0.7777777777777778,\"#fb9f3a\"],[0.8888888888888888,\"#fdca26\"],[1.0,\"#f0f921\"]]}],\"choropleth\":[{\"type\":\"choropleth\",\"colorbar\":{\"outlinewidth\":0,\"ticks\":\"\"}}],\"histogram2d\":[{\"type\":\"histogram2d\",\"colorbar\":{\"outlinewidth\":0,\"ticks\":\"\"},\"colorscale\":[[0.0,\"#0d0887\"],[0.1111111111111111,\"#46039f\"],[0.2222222222222222,\"#7201a8\"],[0.3333333333333333,\"#9c179e\"],[0.4444444444444444,\"#bd3786\"],[0.5555555555555556,\"#d8576b\"],[0.6666666666666666,\"#ed7953\"],[0.7777777777777778,\"#fb9f3a\"],[0.8888888888888888,\"#fdca26\"],[1.0,\"#f0f921\"]]}],\"heatmap\":[{\"type\":\"heatmap\",\"colorbar\":{\"outlinewidth\":0,\"ticks\":\"\"},\"colorscale\":[[0.0,\"#0d0887\"],[0.1111111111111111,\"#46039f\"],[0.2222222222222222,\"#7201a8\"],[0.3333333333333333,\"#9c179e\"],[0.4444444444444444,\"#bd3786\"],[0.5555555555555556,\"#d8576b\"],[0.6666666666666666,\"#ed7953\"],[0.7777777777777778,\"#fb9f3a\"],[0.8888888888888888,\"#fdca26\"],[1.0,\"#f0f921\"]]}],\"heatmapgl\":[{\"type\":\"heatmapgl\",\"colorbar\":{\"outlinewidth\":0,\"ticks\":\"\"},\"colorscale\":[[0.0,\"#0d0887\"],[0.1111111111111111,\"#46039f\"],[0.2222222222222222,\"#7201a8\"],[0.3333333333333333,\"#9c179e\"],[0.4444444444444444,\"#bd3786\"],[0.5555555555555556,\"#d8576b\"],[0.6666666666666666,\"#ed7953\"],[0.7777777777777778,\"#fb9f3a\"],[0.8888888888888888,\"#fdca26\"],[1.0,\"#f0f921\"]]}],\"contourcarpet\":[{\"type\":\"contourcarpet\",\"colorbar\":{\"outlinewidth\":0,\"ticks\":\"\"}}],\"contour\":[{\"type\":\"contour\",\"colorbar\":{\"outlinewidth\":0,\"ticks\":\"\"},\"colorscale\":[[0.0,\"#0d0887\"],[0.1111111111111111,\"#46039f\"],[0.2222222222222222,\"#7201a8\"],[0.3333333333333333,\"#9c179e\"],[0.4444444444444444,\"#bd3786\"],[0.5555555555555556,\"#d8576b\"],[0.6666666666666666,\"#ed7953\"],[0.7777777777777778,\"#fb9f3a\"],[0.8888888888888888,\"#fdca26\"],[1.0,\"#f0f921\"]]}],\"surface\":[{\"type\":\"surface\",\"colorbar\":{\"outlinewidth\":0,\"ticks\":\"\"},\"colorscale\":[[0.0,\"#0d0887\"],[0.1111111111111111,\"#46039f\"],[0.2222222222222222,\"#7201a8\"],[0.3333333333333333,\"#9c179e\"],[0.4444444444444444,\"#bd3786\"],[0.5555555555555556,\"#d8576b\"],[0.6666666666666666,\"#ed7953\"],[0.7777777777777778,\"#fb9f3a\"],[0.8888888888888888,\"#fdca26\"],[1.0,\"#f0f921\"]]}],\"mesh3d\":[{\"type\":\"mesh3d\",\"colorbar\":{\"outlinewidth\":0,\"ticks\":\"\"}}],\"scatter\":[{\"fillpattern\":{\"fillmode\":\"overlay\",\"size\":10,\"solidity\":0.2},\"type\":\"scatter\"}],\"parcoords\":[{\"type\":\"parcoords\",\"line\":{\"colorbar\":{\"outlinewidth\":0,\"ticks\":\"\"}}}],\"scatterpolargl\":[{\"type\":\"scatterpolargl\",\"marker\":{\"colorbar\":{\"outlinewidth\":0,\"ticks\":\"\"}}}],\"bar\":[{\"error_x\":{\"color\":\"#2a3f5f\"},\"error_y\":{\"color\":\"#2a3f5f\"},\"marker\":{\"line\":{\"color\":\"#E5ECF6\",\"width\":0.5},\"pattern\":{\"fillmode\":\"overlay\",\"size\":10,\"solidity\":0.2}},\"type\":\"bar\"}],\"scattergeo\":[{\"type\":\"scattergeo\",\"marker\":{\"colorbar\":{\"outlinewidth\":0,\"ticks\":\"\"}}}],\"scatterpolar\":[{\"type\":\"scatterpolar\",\"marker\":{\"colorbar\":{\"outlinewidth\":0,\"ticks\":\"\"}}}],\"histogram\":[{\"marker\":{\"pattern\":{\"fillmode\":\"overlay\",\"size\":10,\"solidity\":0.2}},\"type\":\"histogram\"}],\"scattergl\":[{\"type\":\"scattergl\",\"marker\":{\"colorbar\":{\"outlinewidth\":0,\"ticks\":\"\"}}}],\"scatter3d\":[{\"type\":\"scatter3d\",\"line\":{\"colorbar\":{\"outlinewidth\":0,\"ticks\":\"\"}},\"marker\":{\"colorbar\":{\"outlinewidth\":0,\"ticks\":\"\"}}}],\"scattermapbox\":[{\"type\":\"scattermapbox\",\"marker\":{\"colorbar\":{\"outlinewidth\":0,\"ticks\":\"\"}}}],\"scatterternary\":[{\"type\":\"scatterternary\",\"marker\":{\"colorbar\":{\"outlinewidth\":0,\"ticks\":\"\"}}}],\"scattercarpet\":[{\"type\":\"scattercarpet\",\"marker\":{\"colorbar\":{\"outlinewidth\":0,\"ticks\":\"\"}}}],\"carpet\":[{\"aaxis\":{\"endlinecolor\":\"#2a3f5f\",\"gridcolor\":\"white\",\"linecolor\":\"white\",\"minorgridcolor\":\"white\",\"startlinecolor\":\"#2a3f5f\"},\"baxis\":{\"endlinecolor\":\"#2a3f5f\",\"gridcolor\":\"white\",\"linecolor\":\"white\",\"minorgridcolor\":\"white\",\"startlinecolor\":\"#2a3f5f\"},\"type\":\"carpet\"}],\"table\":[{\"cells\":{\"fill\":{\"color\":\"#EBF0F8\"},\"line\":{\"color\":\"white\"}},\"header\":{\"fill\":{\"color\":\"#C8D4E3\"},\"line\":{\"color\":\"white\"}},\"type\":\"table\"}],\"barpolar\":[{\"marker\":{\"line\":{\"color\":\"#E5ECF6\",\"width\":0.5},\"pattern\":{\"fillmode\":\"overlay\",\"size\":10,\"solidity\":0.2}},\"type\":\"barpolar\"}],\"pie\":[{\"automargin\":true,\"type\":\"pie\"}]},\"layout\":{\"autotypenumbers\":\"strict\",\"colorway\":[\"#636efa\",\"#EF553B\",\"#00cc96\",\"#ab63fa\",\"#FFA15A\",\"#19d3f3\",\"#FF6692\",\"#B6E880\",\"#FF97FF\",\"#FECB52\"],\"font\":{\"color\":\"#2a3f5f\"},\"hovermode\":\"closest\",\"hoverlabel\":{\"align\":\"left\"},\"paper_bgcolor\":\"white\",\"plot_bgcolor\":\"#E5ECF6\",\"polar\":{\"bgcolor\":\"#E5ECF6\",\"angularaxis\":{\"gridcolor\":\"white\",\"linecolor\":\"white\",\"ticks\":\"\"},\"radialaxis\":{\"gridcolor\":\"white\",\"linecolor\":\"white\",\"ticks\":\"\"}},\"ternary\":{\"bgcolor\":\"#E5ECF6\",\"aaxis\":{\"gridcolor\":\"white\",\"linecolor\":\"white\",\"ticks\":\"\"},\"baxis\":{\"gridcolor\":\"white\",\"linecolor\":\"white\",\"ticks\":\"\"},\"caxis\":{\"gridcolor\":\"white\",\"linecolor\":\"white\",\"ticks\":\"\"}},\"coloraxis\":{\"colorbar\":{\"outlinewidth\":0,\"ticks\":\"\"}},\"colorscale\":{\"sequential\":[[0.0,\"#0d0887\"],[0.1111111111111111,\"#46039f\"],[0.2222222222222222,\"#7201a8\"],[0.3333333333333333,\"#9c179e\"],[0.4444444444444444,\"#bd3786\"],[0.5555555555555556,\"#d8576b\"],[0.6666666666666666,\"#ed7953\"],[0.7777777777777778,\"#fb9f3a\"],[0.8888888888888888,\"#fdca26\"],[1.0,\"#f0f921\"]],\"sequentialminus\":[[0.0,\"#0d0887\"],[0.1111111111111111,\"#46039f\"],[0.2222222222222222,\"#7201a8\"],[0.3333333333333333,\"#9c179e\"],[0.4444444444444444,\"#bd3786\"],[0.5555555555555556,\"#d8576b\"],[0.6666666666666666,\"#ed7953\"],[0.7777777777777778,\"#fb9f3a\"],[0.8888888888888888,\"#fdca26\"],[1.0,\"#f0f921\"]],\"diverging\":[[0,\"#8e0152\"],[0.1,\"#c51b7d\"],[0.2,\"#de77ae\"],[0.3,\"#f1b6da\"],[0.4,\"#fde0ef\"],[0.5,\"#f7f7f7\"],[0.6,\"#e6f5d0\"],[0.7,\"#b8e186\"],[0.8,\"#7fbc41\"],[0.9,\"#4d9221\"],[1,\"#276419\"]]},\"xaxis\":{\"gridcolor\":\"white\",\"linecolor\":\"white\",\"ticks\":\"\",\"title\":{\"standoff\":15},\"zerolinecolor\":\"white\",\"automargin\":true,\"zerolinewidth\":2},\"yaxis\":{\"gridcolor\":\"white\",\"linecolor\":\"white\",\"ticks\":\"\",\"title\":{\"standoff\":15},\"zerolinecolor\":\"white\",\"automargin\":true,\"zerolinewidth\":2},\"scene\":{\"xaxis\":{\"backgroundcolor\":\"#E5ECF6\",\"gridcolor\":\"white\",\"linecolor\":\"white\",\"showbackground\":true,\"ticks\":\"\",\"zerolinecolor\":\"white\",\"gridwidth\":2},\"yaxis\":{\"backgroundcolor\":\"#E5ECF6\",\"gridcolor\":\"white\",\"linecolor\":\"white\",\"showbackground\":true,\"ticks\":\"\",\"zerolinecolor\":\"white\",\"gridwidth\":2},\"zaxis\":{\"backgroundcolor\":\"#E5ECF6\",\"gridcolor\":\"white\",\"linecolor\":\"white\",\"showbackground\":true,\"ticks\":\"\",\"zerolinecolor\":\"white\",\"gridwidth\":2}},\"shapedefaults\":{\"line\":{\"color\":\"#2a3f5f\"}},\"annotationdefaults\":{\"arrowcolor\":\"#2a3f5f\",\"arrowhead\":0,\"arrowwidth\":1},\"geo\":{\"bgcolor\":\"white\",\"landcolor\":\"#E5ECF6\",\"subunitcolor\":\"white\",\"showland\":true,\"showlakes\":true,\"lakecolor\":\"white\"},\"title\":{\"x\":0.05},\"mapbox\":{\"style\":\"light\"}}},\"xaxis\":{\"anchor\":\"y\",\"domain\":[0.0,1.0],\"title\":{\"text\":\"Year\"}},\"yaxis\":{\"anchor\":\"x\",\"domain\":[0.0,1.0],\"title\":{\"text\":\"count\"}},\"legend\":{\"title\":{\"text\":\"Type of bear\"},\"tracegroupgap\":0},\"margin\":{\"t\":60},\"barmode\":\"relative\"},                        {\"responsive\": true}                    ).then(function(){\n",
       "                            \n",
       "var gd = document.getElementById('d451db11-2a7a-473d-ae1a-bc0031061515');\n",
       "var x = new MutationObserver(function (mutations, observer) {{\n",
       "        var display = window.getComputedStyle(gd).display;\n",
       "        if (!display || display === 'none') {{\n",
       "            console.log([gd, 'removed!']);\n",
       "            Plotly.purge(gd);\n",
       "            observer.disconnect();\n",
       "        }}\n",
       "}});\n",
       "\n",
       "// Listen for the removal of the full notebook cells\n",
       "var notebookContainer = gd.closest('#notebook-container');\n",
       "if (notebookContainer) {{\n",
       "    x.observe(notebookContainer, {childList: true});\n",
       "}}\n",
       "\n",
       "// Listen for the clearing of the current output cell\n",
       "var outputEl = gd.closest('.output');\n",
       "if (outputEl) {{\n",
       "    x.observe(outputEl, {childList: true});\n",
       "}}\n",
       "\n",
       "                        })                };                });            </script>        </div>"
      ]
     },
     "metadata": {},
     "output_type": "display_data"
    }
   ],
   "source": [
    "from plotly import express\n",
    "\n",
    "express.histogram(data_frame=df, x='Year', color='Type of bear', nbins=60)"
   ]
  },
  {
   "cell_type": "markdown",
   "id": "1a828582",
   "metadata": {
    "papermill": {
     "duration": 0.003929,
     "end_time": "2024-09-29T09:45:02.536690",
     "exception": false,
     "start_time": "2024-09-29T09:45:02.532761",
     "status": "completed"
    },
    "tags": []
   },
   "source": [
    "There are lots of years with no bear attacks, but if we use annual bins our chart looks leggy; using two-year bins does a pretty good job of representing the data and also making it clear that reported bear attacks have been more frequent since 1960."
   ]
  },
  {
   "cell_type": "markdown",
   "id": "db572964",
   "metadata": {
    "papermill": {
     "duration": 0.003854,
     "end_time": "2024-09-29T09:45:02.544742",
     "exception": false,
     "start_time": "2024-09-29T09:45:02.540888",
     "status": "completed"
    },
    "tags": []
   },
   "source": [
    "Where have bear attacks occurred?"
   ]
  },
  {
   "cell_type": "code",
   "execution_count": 3,
   "id": "f1c1a475",
   "metadata": {
    "execution": {
     "iopub.execute_input": "2024-09-29T09:45:02.555421Z",
     "iopub.status.busy": "2024-09-29T09:45:02.554875Z",
     "iopub.status.idle": "2024-09-29T09:45:02.696288Z",
     "shell.execute_reply": "2024-09-29T09:45:02.694892Z"
    },
    "papermill": {
     "duration": 0.150216,
     "end_time": "2024-09-29T09:45:02.699056",
     "exception": false,
     "start_time": "2024-09-29T09:45:02.548840",
     "status": "completed"
    },
    "tags": []
   },
   "outputs": [
    {
     "data": {
      "text/html": [
       "<div>                            <div id=\"1224165f-fef0-4b99-bc68-8a0a938f15d2\" class=\"plotly-graph-div\" style=\"height:800px; width:100%;\"></div>            <script type=\"text/javascript\">                require([\"plotly\"], function(Plotly) {                    window.PLOTLYENV=window.PLOTLYENV || {};                                    if (document.getElementById(\"1224165f-fef0-4b99-bc68-8a0a938f15d2\")) {                    Plotly.newPlot(                        \"1224165f-fef0-4b99-bc68-8a0a938f15d2\",                        [{\"customdata\":[[1901,\"Job, West Virginia\"],[1901,\"Job, West Virginia\"],[1901,\"Job, West Virginia\"],[1906,\"Elk County, Pennsylvania\"],[1908,\"Tucson, Arizona\"],[1929,\"near Lac Du Bonnet, Manitoba\"],[1930,\"Watertown, New York\"],[1932,\"Albion, New York\"],[1933,\"Brookhaven, New York\"],[1934,\"Mankato, Minnesota\"],[1934,\"Pecos County, Texas\"],[1936,\"Ellsworth, Maine\"],[1936,\"Ellsworth, Maine\"],[1943,\"West Townshend, Vermont\"],[1945,\"Chicago, Illinois\"],[1948,\"Marquette National Forest, Michigan\"],[1952,\"Crawford Notch State Park, New Hampshire\"],[1952,\"near Anchorage, Alaska\"],[1953,\"Flagstaff, Arizona\"],[1958,\"Jasper National Park, Alberta\"],[1959,\"near Cadomin, Alberta\"],[1963,\"near Fairbanks, Alaska\"],[1964,\"near Schefferville, Quebec\"],[1965,\"Aitkin, Minnesota\"],[1966,\"Prescott, Arizona\"],[1967,\"near Okanagan Landing, British Columbia\"],[1968,\"near Atikokan, Ontario\"],[1971,\"near Rocky Mountain National Park, Colorado\"],[1974,\"Glenwood, Washington\"],[1975,\"Stewardson, Illinois\"],[1978,\"Algonquin Provincial Park, Ontario\"],[1978,\"Algonquin Provincial Park, Ontario\"],[1978,\"Algonquin Provincial Park, Ontario\"],[1978,\"King, Ontario\"],[1980,\"near Granisle, British Columbia\"],[1980,\"near Zama City, Alberta\"],[1980,\"near Zama City, Alberta\"],[1983,\"near Canwood, Saskatchewan\"],[1983,\"near Nipawin Provincial Park, Saskatchewan\"],[1983,\"La Vérendrye Wildlife Reserve, Quebec\"],[1985,\"near Fort Nelson, British Columbia\"],[1991,\"Lesser Slave Lake, Alberta\"],[1991,\"Algonquin Provincial Park, Ontario\"],[1991,\"Algonquin Provincial Park, Ontario\"],[1992,\"near Cochrane, Ontario\"],[1992,\"Glennallen, Alaska\"],[1993,\"Fremont County, Colorado\"],[1994,\"70 Mile House, British Columbia\"],[1996,\"near Tatlayoko Lake, British Columbia\"],[1997,\"Liard River Hot Springs Provincial Park, British Columbia\"],[1997,\"Liard River Hot Springs Provincial Park, British Columbia\"],[2000,\"Great Smoky Mountains National Park, Tennessee\"],[2000,\"near Valcartier, Quebec\"],[2001,\"near Yellowknife, Northwest Territories\"],[2001,\"Mora, New Mexico\"],[2002,\"Fallsburg, New York\"],[2002,\"near Fort Nelson, British Columbia\"],[2002,\"Saint-Zénon-du-Lac-Humqui, Quebec\"],[2005,\"Nonacho Lake, Northwest Territories\"],[2005,\"Selkirk, Manitoba\"],[2005,\"Missinaibi Lake Provincial Park, Ontario\"],[2006,\"Cherokee National Forest, Tennessee\"],[2007,\"Uinta National Forest, Utah\"],[2007,\"Panorama Mountain Resort, British Columbia\"],[2008,\"near La Sarre, Quebec\"],[2009,\"Ouray, Colorado\"],[2009,\"Ross Township, Pennsylvania\"],[2010,\"Columbia Station, Ohio\"],[2011,\"near Lillooet, British Columbia\"],[2011,\"Pinetop-Lakeside, Arizona\"],[2013,\"near Delta Junction, Alaska\"],[2014,\"near Fort McMurray, Alberta\"],[2014,\"near West Milford, New Jersey\"],[2015,\"near Mackenzie, British Columbia\"],[2017,\"Indian, Alaska\"],[2017,\"Pogo mine, Alaska\"]],\"hovertemplate\":\"\\u003cb\\u003e%{hovertext}\\u003c\\u002fb\\u003e\\u003cbr\\u003e\\u003cbr\\u003eType of bear=Black bear\\u003cbr\\u003eLatitude=%{lat}\\u003cbr\\u003eLongitude=%{lon}\\u003cbr\\u003eYear=%{customdata[0]}\\u003cbr\\u003eLocation=%{customdata[1]}\\u003cextra\\u003e\\u003c\\u002fextra\\u003e\",\"hovertext\":[\"Mary Porterfield\",\"Wilie Porterfield\",\"Henry Porterfield\",\"John Dicht\",\"Baby Laird\",\"Olga Gregorchuk\",\"Emerson Joyce\",\"Peter Matthew Ryan\",\"Grant Taylor\",\"Clarence Staley\",\"William Thomas \\\"Bill\\\" Brown Jr\",\"George Langley\",\"James Virtue\",\"Carl Herrick\",\"Anton Rauch\",\"Carol Ann Pomeranky\",\"Robert Huckins\",\"Rudolph Gaier\",\"Andrew Mark Palmer\",\"Barbara Coates\",\"Lyndon Hooper\",\"William Strandberg\",\"Sidney Smith\",\"Vernon Sauvola\",\"Phyllis Tremper\",\"Susan Duckitt\",\"Jack Ottertail\",\"John Richardson\",\"Victoria Valdez\",\"Mary Ann Johns\",\"Mark Halfkenny\",\"Billy Rhindress\",\"George Halfkenny\",\"Lynn Orser\",\"Allan Russell Baines\",\"Carol Marshall\",\"Lee Randal Morris\",\"Clifford David Starblanket\",\"Melvin Rudd\",\"Daniel Anderson\",\"Gordon Ray\",\"James Waddell\",\"Raymond Jakubauskas\",\"Carola Frehe\",\"Sébastien Lauzier\",\"Darcy Staver\",\"Colin McClelland\",\"Ian Dunbar\",\"Sevend Satre\",\"Patti McConnell\",\"Raymond Kitchen\",\"Glenda Ann Bradley\",\"Mary Beth Miller\",\"Kyle Harry\",\"Adelia Maestras Trujillo\",\"Ester Schwimmer\",\"Christopher Bayduza\",\"Maurice Malenfant\",\"Merlyn Carter\",\"Harvey Robinson\",\"Jacqueline Perry\",\"Elora Petrasek\",\"Samuel Evan Ives\",\"Robin Kochorek\",\"Cécile Lavoie\",\"Donna Munson\",\"Kelly Ann Walz\",\"Brent Kandra\",\"Bernice Adolph\",\"Lana Hollingsworth\",\"Robert Weaver\",\"Lorna Weafer\",\"Darsh Patel\",\"Daniel Ward O'Connor\",\"Patrick Cooper\",\"Erin Johnson\"],\"lat\":[38.8642774,38.8642774,38.8642774,41.437362,32.2228765,null,43.9747838,43.246318,40.7792653,44.1634663,30.7857437,44.5414596,44.5414596,43.0842463,41.8755616,null,null,61.154512,35.1987522,52.80410345,null,null,null,46.5714822,34.539984,null,null,40.38205605,45.6492924,39.263096,45.65713555,45.65713555,45.65713555,44.0034771,null,null,null,null,null,null,null,55.4140157,45.65713555,45.65713555,null,62.1371485,38.4692006,51.3134959,null,59.41756185,59.41756185,35.63422005,null,null,35.972232,41.7320362,null,48.3071934,61.9089769,50.146986,null,35.2832221,40.94842945,50.44195115,null,38.146044,40.5419843,41.3131066,null,34.1448702,null,null,null,null,60.987796,64.4299165],\"legendgroup\":\"Black bear\",\"lon\":[-79.5569984,-79.5569984,-79.5569984,-78.626009,-110.974847,null,-75.9107565,-78.1936501,-72.9153827,-93.9993505,-102.8065415,-68.4243599,-68.4243599,-72.7105188,-87.6244212,null,null,-149.65229,-111.651822,-117.80482674803729,null,null,null,-93.3847595,-112.468812,null,null,-105.49813578279642,-123.2712098,-88.6297778,-78.49953864045284,-78.49953864045284,-78.49953864045284,-79.60477076446632,null,null,null,null,null,null,null,-115.0595,-78.49953864045284,-78.49953864045284,null,-145.82205347328326,-105.4328622,-121.3936001,null,-126.06474841886566,-126.06474841886566,-83.40236602525079,null,null,-104.9132218,-74.6012711,null,-67.5798856,-109.23552384421043,-96.880188,null,-84.21810143071036,-110.513937699255,-116.21242469895196,null,-107.7414887,-80.0114344,-81.9468057,null,-109.9584743,null,null,null,null,-149.5142719,-144.89847130981383],\"marker\":{\"color\":\"#636efa\"},\"mode\":\"markers\",\"name\":\"Black bear\",\"showlegend\":true,\"subplot\":\"mapbox\",\"type\":\"scattermapbox\"},{\"customdata\":[[1916,\"Yellowstone National Park, Wyoming\"],[1922,\"Absaroka-Beartooth Wilderness, Montana\"],[1929,\"Jasper National Park, Alberta\"],[1929,\"Admiralty Island, Alaska\"],[1932,\"Cleveland, Ohio\"],[1932,\"near Dawson, Yukon\"],[1934,\"Denver, Colorado\"],[1941,\"Detroit, Michigan\"],[1942,\"Yellowstone National Park, Wyoming\"],[1942,\"San Diego, California\"],[1945,\"Seattle, Washington\"],[1955,\"near Eureka, Alaska\"],[1956,\"Libertyville, Illinois\"],[1956,\"near Augusta, Montana\"],[1958,\"near Ovando, Montana\"],[1967,\"Glacier National Park, Montana\"],[1967,\"Glacier National Park, Montana\"],[1969,\"Fort Leonard Wood, Missouri\"],[1970,\"near Fort St. John, British Columbia\"],[1972,\"Yellowstone National Park, Wyoming\"],[1973,\"Banff National Park, Alberta\"],[1974,\"Izembek National Wildlife Refuge, Alaska\"],[1976,\"Glacier National Park of Canada, British Columbia\"],[1976,\"Glacier National Park, Montana\"],[1977,\"Waterton Lakes National Park, Alberta\"],[1979,\"near Pincher Creek, Alberta\"],[1980,\"Glacier National Park, Montana\"],[1980,\"Glacier National Park, Montana\"],[1980,\"near Banff, Alberta\"],[1980,\"Glacier National Park, Montana\"],[1983,\"Gallatin National Forest, Montana\"],[1984,\"Yellowstone National Park\"],[1986,\"Glacier Bay National Park and Preserve, Alaska\"],[1986,\"Yellowstone National Park, Wyoming\"],[1987,\"Glacier National Park, Montana\"],[1987,\"Glacier National Park, Montana\"],[1988,\"Port Alexander, Alaska\"],[1992,\"near King Cove, Alaska\"],[1992,\"Jasper National Park, Alberta\"],[1992,\"Glacier National Park, Montana\"],[1995,\"near Anchorage, Alaska\"],[1995,\"near Anchorage, Alaska\"],[1995,\"near Radium Hot Springs, British Columbia\"],[1995,\"near Radium Hot Springs, British Columbia\"],[1996,\"Kluane National Park, Yukon\"],[1996,\"Gates of the Arctic National Park, Alaska\"],[1998,\"near Kenai, Alaska\"],[1998,\"Glacier National Park, Montana\"],[1998,\"near Beaver Mines, Alberta\"],[1998,\"near Prince George, British Columbia\"],[1999,\"Kenai National Wildlife Refuge, Alaska\"],[1999,\"Uganik Island, Alaska\"],[2000,\"Hyder, Alaska\"],[2001,\"near Ovando, Montana\"],[2003,\"Katmai National Park, Alaska\"],[2003,\"Katmai National Park, Alaska\"],[2005,\"Canmore, Alberta\"],[2005,\"Arctic National Wildlife Refuge, Alaska\"],[2005,\"Arctic National Wildlife Refuge, Alaska\"],[2005,\"near Bowron River, British Columbia\"],[2006,\"near Ross River, Yukon\"],[2007,\"near Sundre, Alberta\"],[2008,\"Big Bear Lake, California\"],[2008,\"near Sundre, Alberta\"],[2010,\"Shoshone National Forest, Wyoming\"],[2010,\"Gallatin National Forest, Montana\"],[2011,\"Yellowstone National Park, Wyoming\"],[2011,\"Yellowstone National Park, Wyoming\"],[2012,\"Denali National Park, Alaska\"],[2012,\"Chichagof Island, Alaska\"],[2014,\"Bridger-Teton National Forest, Wyoming\"],[2014,\"Kananaskis Country, Alberta\"],[2014,\"near Norman Wells, Northwest Territories\"],[2015,\"Yellowstone National Park, Wyoming\"],[2016,\"Flathead National Forest, Montana\"],[2018,\"Eagle River, Alaska\"],[2018,\"Teton Wilderness, Wyoming\"],[2018,\"Admiralty Island, Alaska\"],[2018,\"Einarson Lake, Yukon\"],[2018,\"Einarson Lake, Yukon\"]],\"hovertemplate\":\"\\u003cb\\u003e%{hovertext}\\u003c\\u002fb\\u003e\\u003cbr\\u003e\\u003cbr\\u003eType of bear=Brown bear\\u003cbr\\u003eLatitude=%{lat}\\u003cbr\\u003eLongitude=%{lon}\\u003cbr\\u003eYear=%{customdata[0]}\\u003cbr\\u003eLocation=%{customdata[1]}\\u003cextra\\u003e\\u003c\\u002fextra\\u003e\",\"hovertext\":[\"Frank Welch\",\"Joseph B. \\\"Frenchy\\\" Duret\",\"Percy Goodair\",\"Jack Thayer\",\"Thomas Earl\",\"John Macdonald\",\"Charles Wyman\",\"Thomas Miller\",\"Martha Hansen\",\"Richard Havemann\",\"Richard Strand\",\"Willies McBride\",\"Paul Lemery\",\"Kenneth Scott\",\"Sam Adams\",\"Julie Helgeson\",\"Michele Koons\",\"Russell Ringer\",\"Harvey Cardinal\",\"Harry Walker\",\"Wilf Etherington\",\"Jay Reeves\",\"Barbara Chapman\",\"Mary Pat Mahoney\",\"Alison Muser\",\"Monty Adams\",\"Jane Ammerman\",\"Kim Eberly\",\"Ernest Cohoe\",\"Laurence Gordon\",\"Roger May\",\"Brigitta Fredenhagen\",\"Alan Precup\",\"William Tesinsky\",\"Charles Gibbs\",\"Gary Goeden\",\"Harley Seivenpiper\",\"Anton Bear\",\"Trevor Percy-Lancaster\",\"John Petranyi\",\"Larry Waldron\",\"Marcie Trent\",\"Shane Fumerton\",\"Bill Caspell\",\"Christine Courtney\",\"Robert Bell\",\"Audelio Luis Cortes\",\"Craig Dahl\",\"Christopher Kress\",\"George Evanoff\",\"Ken Cates\",\"Ned Rasmussen\",\"George Tullos\",\"Timothy Hilston\",\"Amie Huguenard\",\"Timothy Treadwell\",\"Isabelle Dubé\",\"Kathy Huffman\",\"Rich Huffman\",\"Arthur Louie\",\"Jean-François Pagé\",\"Don Peters\",\"Stephan Miller\",\"Robert Wagner\",\"Erwin Frank Evert\",\"Kevin Kammer\",\"Brian Matayoshi\",\"John Wallace\",\"Richard White\",\"Tomas Puerta\",\"Adam Thomas Stewart\",\"Rick Cross\",\"Ken Novotny\",\"Lance Crosby\",\"Brad Treat\",\"Mike Soltis\",\"Mark Uptain\",\"Anthony David Montoya\",\"Valérie Théorêt\",\"Adele Roesholt\"],\"lat\":[44.6200885,45.269611600000005,52.80410345,57.71332405,41.4996574,64.0427364,39.7392364,42.3315509,44.6200885,32.7174202,47.6038321,null,42.2830786,null,null,48.6174862,48.6174862,37.70114,null,44.6200885,51.4881335,55.3513427,null,48.6174862,49.10111735,null,48.6174862,48.6174862,51.05958955,48.6174862,46.06649605,44.6200885,58.8141751,44.6200885,48.6174862,48.6174862,56.2495672,null,52.80410345,48.6174862,61.154512,61.154512,null,null,60.6650331,66.8661186,null,48.6174862,null,null,60.3590565,57.88396625,55.9170859,null,58.5049844,58.5049844,51.0866897,68.45635705000001,68.45635705000001,null,null,null,34.2440587,null,43.9912968,46.06649605,44.6200885,44.6200885,63.23166155,57.82791105,43.2256695,50.8953274,null,44.6200885,48.11443195,61.2700284,44.04304885,57.71332405,63.9223646,63.9223646],\"legendgroup\":\"Brown bear\",\"lon\":[-110.5606893314306,-109.96802375468738,-117.80482674803729,-134.40983757816866,-81.6936772,-139.4105651,-104.984862,-83.0466403,-110.5606893314306,-117.162772,-122.330062,null,-87.9531303,null,null,-113.76088505945764,-113.76088505945764,-92.16933029454007,null,-110.5606893314306,-115.93804975198331,-162.34970987530212,null,-113.76088505945764,-113.98100763190487,null,-113.76088505945764,-113.76088505945764,-114.09014561352802,-113.76088505945764,-110.9859722960006,-110.5606893314306,-136.87209353901636,-110.5606893314306,-113.76088505945764,-113.76088505945764,-134.6444229,null,-117.80482674803729,-113.76088505945764,-149.65229,-149.65229,null,null,-139.18986027169953,-155.13516974926566,null,-113.76088505945764,null,null,-150.51290764600492,-153.35962549040127,-130.027254,null,-155.08962259876455,-155.08962259876455,-115.3481135,-143.61048251073333,-143.61048251073333,null,null,null,-116.91018,null,-109.45749364030333,-110.9859722960006,-110.5606893314306,-110.5606893314306,-151.04055543225255,-135.9799033392464,-109.98422646024731,-114.7057092,null,-110.5606893314306,-113.4788929510984,-149.3863924,-110.19230336112726,-134.40983757816866,-131.60758668541456,-131.60758668541456],\"marker\":{\"color\":\"#EF553B\"},\"mode\":\"markers\",\"name\":\"Brown bear\",\"showlegend\":true,\"subplot\":\"mapbox\",\"type\":\"scattermapbox\"},{\"customdata\":[[1968,\"Churchill, Manitoba\"],[1972,\"Toledo, Ohio\"],[1975,\"Inuvik, Northwest Territories\"],[1976,\"Baltimore, Maryland\"],[1982,\"New York City\"],[1983,\"Churchill, Manitoba\"],[1987,\"Brooklyn, New York\"],[1990,\"Point Lay, Alaska\"],[1999,\"near Rankin Inlet, Nunavut\"],[2018,\"Sentry Island, Nunavut\"]],\"hovertemplate\":\"\\u003cb\\u003e%{hovertext}\\u003c\\u002fb\\u003e\\u003cbr\\u003e\\u003cbr\\u003eType of bear=Polar Bear\\u003cbr\\u003eLatitude=%{lat}\\u003cbr\\u003eLongitude=%{lon}\\u003cbr\\u003eYear=%{customdata[0]}\\u003cbr\\u003eLocation=%{customdata[1]}\\u003cextra\\u003e\\u003c\\u002fextra\\u003e\",\"hovertext\":[\"Paulosie Meeko\",\"Richard Hale\",\"Richard Pernitzky\",\"Lafayette Herbert\",\"Conrado Mones\",\"Thomas Mutanen\",\"Juan Perez\",\"Carl Stalker\",\"Hattie Amitnak\",\"Aaron Gibbons\"],\"lat\":[58.7693101,41.6529143,68.3602632,39.2908816,40.7127281,58.7693101,40.6526006,69.7430846,null,61.1588175],\"legendgroup\":\"Polar Bear\",\"lon\":[-94.1736843,-83.5378173,-133.720386,-76.610759,-74.0060152,-94.1736843,-73.9497211,-163.007648,null,-93.8645097591844],\"marker\":{\"color\":\"#00cc96\"},\"mode\":\"markers\",\"name\":\"Polar Bear\",\"showlegend\":true,\"subplot\":\"mapbox\",\"type\":\"scattermapbox\"}],                        {\"template\":{\"data\":{\"histogram2dcontour\":[{\"type\":\"histogram2dcontour\",\"colorbar\":{\"outlinewidth\":0,\"ticks\":\"\"},\"colorscale\":[[0.0,\"#0d0887\"],[0.1111111111111111,\"#46039f\"],[0.2222222222222222,\"#7201a8\"],[0.3333333333333333,\"#9c179e\"],[0.4444444444444444,\"#bd3786\"],[0.5555555555555556,\"#d8576b\"],[0.6666666666666666,\"#ed7953\"],[0.7777777777777778,\"#fb9f3a\"],[0.8888888888888888,\"#fdca26\"],[1.0,\"#f0f921\"]]}],\"choropleth\":[{\"type\":\"choropleth\",\"colorbar\":{\"outlinewidth\":0,\"ticks\":\"\"}}],\"histogram2d\":[{\"type\":\"histogram2d\",\"colorbar\":{\"outlinewidth\":0,\"ticks\":\"\"},\"colorscale\":[[0.0,\"#0d0887\"],[0.1111111111111111,\"#46039f\"],[0.2222222222222222,\"#7201a8\"],[0.3333333333333333,\"#9c179e\"],[0.4444444444444444,\"#bd3786\"],[0.5555555555555556,\"#d8576b\"],[0.6666666666666666,\"#ed7953\"],[0.7777777777777778,\"#fb9f3a\"],[0.8888888888888888,\"#fdca26\"],[1.0,\"#f0f921\"]]}],\"heatmap\":[{\"type\":\"heatmap\",\"colorbar\":{\"outlinewidth\":0,\"ticks\":\"\"},\"colorscale\":[[0.0,\"#0d0887\"],[0.1111111111111111,\"#46039f\"],[0.2222222222222222,\"#7201a8\"],[0.3333333333333333,\"#9c179e\"],[0.4444444444444444,\"#bd3786\"],[0.5555555555555556,\"#d8576b\"],[0.6666666666666666,\"#ed7953\"],[0.7777777777777778,\"#fb9f3a\"],[0.8888888888888888,\"#fdca26\"],[1.0,\"#f0f921\"]]}],\"heatmapgl\":[{\"type\":\"heatmapgl\",\"colorbar\":{\"outlinewidth\":0,\"ticks\":\"\"},\"colorscale\":[[0.0,\"#0d0887\"],[0.1111111111111111,\"#46039f\"],[0.2222222222222222,\"#7201a8\"],[0.3333333333333333,\"#9c179e\"],[0.4444444444444444,\"#bd3786\"],[0.5555555555555556,\"#d8576b\"],[0.6666666666666666,\"#ed7953\"],[0.7777777777777778,\"#fb9f3a\"],[0.8888888888888888,\"#fdca26\"],[1.0,\"#f0f921\"]]}],\"contourcarpet\":[{\"type\":\"contourcarpet\",\"colorbar\":{\"outlinewidth\":0,\"ticks\":\"\"}}],\"contour\":[{\"type\":\"contour\",\"colorbar\":{\"outlinewidth\":0,\"ticks\":\"\"},\"colorscale\":[[0.0,\"#0d0887\"],[0.1111111111111111,\"#46039f\"],[0.2222222222222222,\"#7201a8\"],[0.3333333333333333,\"#9c179e\"],[0.4444444444444444,\"#bd3786\"],[0.5555555555555556,\"#d8576b\"],[0.6666666666666666,\"#ed7953\"],[0.7777777777777778,\"#fb9f3a\"],[0.8888888888888888,\"#fdca26\"],[1.0,\"#f0f921\"]]}],\"surface\":[{\"type\":\"surface\",\"colorbar\":{\"outlinewidth\":0,\"ticks\":\"\"},\"colorscale\":[[0.0,\"#0d0887\"],[0.1111111111111111,\"#46039f\"],[0.2222222222222222,\"#7201a8\"],[0.3333333333333333,\"#9c179e\"],[0.4444444444444444,\"#bd3786\"],[0.5555555555555556,\"#d8576b\"],[0.6666666666666666,\"#ed7953\"],[0.7777777777777778,\"#fb9f3a\"],[0.8888888888888888,\"#fdca26\"],[1.0,\"#f0f921\"]]}],\"mesh3d\":[{\"type\":\"mesh3d\",\"colorbar\":{\"outlinewidth\":0,\"ticks\":\"\"}}],\"scatter\":[{\"fillpattern\":{\"fillmode\":\"overlay\",\"size\":10,\"solidity\":0.2},\"type\":\"scatter\"}],\"parcoords\":[{\"type\":\"parcoords\",\"line\":{\"colorbar\":{\"outlinewidth\":0,\"ticks\":\"\"}}}],\"scatterpolargl\":[{\"type\":\"scatterpolargl\",\"marker\":{\"colorbar\":{\"outlinewidth\":0,\"ticks\":\"\"}}}],\"bar\":[{\"error_x\":{\"color\":\"#2a3f5f\"},\"error_y\":{\"color\":\"#2a3f5f\"},\"marker\":{\"line\":{\"color\":\"#E5ECF6\",\"width\":0.5},\"pattern\":{\"fillmode\":\"overlay\",\"size\":10,\"solidity\":0.2}},\"type\":\"bar\"}],\"scattergeo\":[{\"type\":\"scattergeo\",\"marker\":{\"colorbar\":{\"outlinewidth\":0,\"ticks\":\"\"}}}],\"scatterpolar\":[{\"type\":\"scatterpolar\",\"marker\":{\"colorbar\":{\"outlinewidth\":0,\"ticks\":\"\"}}}],\"histogram\":[{\"marker\":{\"pattern\":{\"fillmode\":\"overlay\",\"size\":10,\"solidity\":0.2}},\"type\":\"histogram\"}],\"scattergl\":[{\"type\":\"scattergl\",\"marker\":{\"colorbar\":{\"outlinewidth\":0,\"ticks\":\"\"}}}],\"scatter3d\":[{\"type\":\"scatter3d\",\"line\":{\"colorbar\":{\"outlinewidth\":0,\"ticks\":\"\"}},\"marker\":{\"colorbar\":{\"outlinewidth\":0,\"ticks\":\"\"}}}],\"scattermapbox\":[{\"type\":\"scattermapbox\",\"marker\":{\"colorbar\":{\"outlinewidth\":0,\"ticks\":\"\"}}}],\"scatterternary\":[{\"type\":\"scatterternary\",\"marker\":{\"colorbar\":{\"outlinewidth\":0,\"ticks\":\"\"}}}],\"scattercarpet\":[{\"type\":\"scattercarpet\",\"marker\":{\"colorbar\":{\"outlinewidth\":0,\"ticks\":\"\"}}}],\"carpet\":[{\"aaxis\":{\"endlinecolor\":\"#2a3f5f\",\"gridcolor\":\"white\",\"linecolor\":\"white\",\"minorgridcolor\":\"white\",\"startlinecolor\":\"#2a3f5f\"},\"baxis\":{\"endlinecolor\":\"#2a3f5f\",\"gridcolor\":\"white\",\"linecolor\":\"white\",\"minorgridcolor\":\"white\",\"startlinecolor\":\"#2a3f5f\"},\"type\":\"carpet\"}],\"table\":[{\"cells\":{\"fill\":{\"color\":\"#EBF0F8\"},\"line\":{\"color\":\"white\"}},\"header\":{\"fill\":{\"color\":\"#C8D4E3\"},\"line\":{\"color\":\"white\"}},\"type\":\"table\"}],\"barpolar\":[{\"marker\":{\"line\":{\"color\":\"#E5ECF6\",\"width\":0.5},\"pattern\":{\"fillmode\":\"overlay\",\"size\":10,\"solidity\":0.2}},\"type\":\"barpolar\"}],\"pie\":[{\"automargin\":true,\"type\":\"pie\"}]},\"layout\":{\"autotypenumbers\":\"strict\",\"colorway\":[\"#636efa\",\"#EF553B\",\"#00cc96\",\"#ab63fa\",\"#FFA15A\",\"#19d3f3\",\"#FF6692\",\"#B6E880\",\"#FF97FF\",\"#FECB52\"],\"font\":{\"color\":\"#2a3f5f\"},\"hovermode\":\"closest\",\"hoverlabel\":{\"align\":\"left\"},\"paper_bgcolor\":\"white\",\"plot_bgcolor\":\"#E5ECF6\",\"polar\":{\"bgcolor\":\"#E5ECF6\",\"angularaxis\":{\"gridcolor\":\"white\",\"linecolor\":\"white\",\"ticks\":\"\"},\"radialaxis\":{\"gridcolor\":\"white\",\"linecolor\":\"white\",\"ticks\":\"\"}},\"ternary\":{\"bgcolor\":\"#E5ECF6\",\"aaxis\":{\"gridcolor\":\"white\",\"linecolor\":\"white\",\"ticks\":\"\"},\"baxis\":{\"gridcolor\":\"white\",\"linecolor\":\"white\",\"ticks\":\"\"},\"caxis\":{\"gridcolor\":\"white\",\"linecolor\":\"white\",\"ticks\":\"\"}},\"coloraxis\":{\"colorbar\":{\"outlinewidth\":0,\"ticks\":\"\"}},\"colorscale\":{\"sequential\":[[0.0,\"#0d0887\"],[0.1111111111111111,\"#46039f\"],[0.2222222222222222,\"#7201a8\"],[0.3333333333333333,\"#9c179e\"],[0.4444444444444444,\"#bd3786\"],[0.5555555555555556,\"#d8576b\"],[0.6666666666666666,\"#ed7953\"],[0.7777777777777778,\"#fb9f3a\"],[0.8888888888888888,\"#fdca26\"],[1.0,\"#f0f921\"]],\"sequentialminus\":[[0.0,\"#0d0887\"],[0.1111111111111111,\"#46039f\"],[0.2222222222222222,\"#7201a8\"],[0.3333333333333333,\"#9c179e\"],[0.4444444444444444,\"#bd3786\"],[0.5555555555555556,\"#d8576b\"],[0.6666666666666666,\"#ed7953\"],[0.7777777777777778,\"#fb9f3a\"],[0.8888888888888888,\"#fdca26\"],[1.0,\"#f0f921\"]],\"diverging\":[[0,\"#8e0152\"],[0.1,\"#c51b7d\"],[0.2,\"#de77ae\"],[0.3,\"#f1b6da\"],[0.4,\"#fde0ef\"],[0.5,\"#f7f7f7\"],[0.6,\"#e6f5d0\"],[0.7,\"#b8e186\"],[0.8,\"#7fbc41\"],[0.9,\"#4d9221\"],[1,\"#276419\"]]},\"xaxis\":{\"gridcolor\":\"white\",\"linecolor\":\"white\",\"ticks\":\"\",\"title\":{\"standoff\":15},\"zerolinecolor\":\"white\",\"automargin\":true,\"zerolinewidth\":2},\"yaxis\":{\"gridcolor\":\"white\",\"linecolor\":\"white\",\"ticks\":\"\",\"title\":{\"standoff\":15},\"zerolinecolor\":\"white\",\"automargin\":true,\"zerolinewidth\":2},\"scene\":{\"xaxis\":{\"backgroundcolor\":\"#E5ECF6\",\"gridcolor\":\"white\",\"linecolor\":\"white\",\"showbackground\":true,\"ticks\":\"\",\"zerolinecolor\":\"white\",\"gridwidth\":2},\"yaxis\":{\"backgroundcolor\":\"#E5ECF6\",\"gridcolor\":\"white\",\"linecolor\":\"white\",\"showbackground\":true,\"ticks\":\"\",\"zerolinecolor\":\"white\",\"gridwidth\":2},\"zaxis\":{\"backgroundcolor\":\"#E5ECF6\",\"gridcolor\":\"white\",\"linecolor\":\"white\",\"showbackground\":true,\"ticks\":\"\",\"zerolinecolor\":\"white\",\"gridwidth\":2}},\"shapedefaults\":{\"line\":{\"color\":\"#2a3f5f\"}},\"annotationdefaults\":{\"arrowcolor\":\"#2a3f5f\",\"arrowhead\":0,\"arrowwidth\":1},\"geo\":{\"bgcolor\":\"white\",\"landcolor\":\"#E5ECF6\",\"subunitcolor\":\"white\",\"showland\":true,\"showlakes\":true,\"lakecolor\":\"white\"},\"title\":{\"x\":0.05},\"mapbox\":{\"style\":\"light\"}}},\"mapbox\":{\"domain\":{\"x\":[0.0,1.0],\"y\":[0.0,1.0]},\"center\":{\"lat\":48.79640911541667,\"lon\":-110.43311313132352},\"zoom\":2.4,\"style\":\"open-street-map\"},\"legend\":{\"title\":{\"text\":\"Type of bear\"},\"tracegroupgap\":0},\"margin\":{\"t\":60},\"height\":800},                        {\"responsive\": true}                    ).then(function(){\n",
       "                            \n",
       "var gd = document.getElementById('1224165f-fef0-4b99-bc68-8a0a938f15d2');\n",
       "var x = new MutationObserver(function (mutations, observer) {{\n",
       "        var display = window.getComputedStyle(gd).display;\n",
       "        if (!display || display === 'none') {{\n",
       "            console.log([gd, 'removed!']);\n",
       "            Plotly.purge(gd);\n",
       "            observer.disconnect();\n",
       "        }}\n",
       "}});\n",
       "\n",
       "// Listen for the removal of the full notebook cells\n",
       "var notebookContainer = gd.closest('#notebook-container');\n",
       "if (notebookContainer) {{\n",
       "    x.observe(notebookContainer, {childList: true});\n",
       "}}\n",
       "\n",
       "// Listen for the clearing of the current output cell\n",
       "var outputEl = gd.closest('.output');\n",
       "if (outputEl) {{\n",
       "    x.observe(outputEl, {childList: true});\n",
       "}}\n",
       "\n",
       "                        })                };                });            </script>        </div>"
      ]
     },
     "metadata": {},
     "output_type": "display_data"
    }
   ],
   "source": [
    "from plotly import express\n",
    "\n",
    "express.scatter_mapbox(data_frame=df, lat='Latitude', lon='Longitude', color='Type of bear',\n",
    "                       hover_name='Name', hover_data=['Year', 'Location'],\n",
    "                       mapbox_style='open-street-map', zoom=2.4, height=800)"
   ]
  },
  {
   "cell_type": "markdown",
   "id": "8ceb234e",
   "metadata": {
    "papermill": {
     "duration": 0.004606,
     "end_time": "2024-09-29T09:45:02.708626",
     "exception": false,
     "start_time": "2024-09-29T09:45:02.704020",
     "status": "completed"
    },
    "tags": []
   },
   "source": [
    "What would we expect the ages of bear attack targets to look like? Sort of like an age demography curve for North America, but more random, because our sample is so small."
   ]
  },
  {
   "cell_type": "code",
   "execution_count": 4,
   "id": "ee6c51f5",
   "metadata": {
    "execution": {
     "iopub.execute_input": "2024-09-29T09:45:02.720263Z",
     "iopub.status.busy": "2024-09-29T09:45:02.719706Z",
     "iopub.status.idle": "2024-09-29T09:45:02.795503Z",
     "shell.execute_reply": "2024-09-29T09:45:02.794276Z"
    },
    "papermill": {
     "duration": 0.08481,
     "end_time": "2024-09-29T09:45:02.798086",
     "exception": false,
     "start_time": "2024-09-29T09:45:02.713276",
     "status": "completed"
    },
    "tags": []
   },
   "outputs": [
    {
     "data": {
      "text/html": [
       "<div>                            <div id=\"6bc3d7bd-1504-4999-96d2-a55bcfcb85ac\" class=\"plotly-graph-div\" style=\"height:525px; width:100%;\"></div>            <script type=\"text/javascript\">                require([\"plotly\"], function(Plotly) {                    window.PLOTLYENV=window.PLOTLYENV || {};                                    if (document.getElementById(\"6bc3d7bd-1504-4999-96d2-a55bcfcb85ac\")) {                    Plotly.newPlot(                        \"6bc3d7bd-1504-4999-96d2-a55bcfcb85ac\",                        [{\"alignmentgroup\":\"True\",\"bingroup\":\"x\",\"hovertemplate\":\"age=%{x}\\u003cbr\\u003ecount=%{y}\\u003cextra\\u003e\\u003c\\u002fextra\\u003e\",\"legendgroup\":\"\",\"marker\":{\"color\":\"#636efa\",\"pattern\":{\"shape\":\"\"}},\"name\":\"\",\"nbinsx\":50,\"offsetgroup\":\"\",\"orientation\":\"v\",\"showlegend\":false,\"x\":[3.0,5.0,7.0,18.0,1.0,61.0,60.0,9.0,52.0,null,60.0,56.0,70.0,5.0,11.0,76.0,54.0,64.0,55.0,68.0,28.0,45.0,68.0,37.0,59.0,8.0,3.0,18.0,50.0,3.0,null,28.0,29.0,7.0,45.0,51.0,51.0,26.0,51.0,3.0,11.0,19.0,19.0,53.0,19.0,49.0,40.0,31.0,19.0,25.0,51.0,4.0,38.0,18.0,1.0,24.0,43.0,22.0,5.0,12.0,15.0,16.0,30.0,32.0,10.0,19.0,19.0,24.0,44.0,38.0,33.0,29.0,26.0,55.0,23.0,12.0,46.0,25.0,24.0,25.0,38.0,40.0,11.0,29.0,40.0,28.0,12.0,32.0,48.0,20.0,33.0,6.0,40.0,40.0,24.0,4.0,45.0,77.0,32.0,40.0,53.0,32.0,33.0,37.0,56.0,40.0,26.0,40.0,65.0,53.0,64.0,53.0,50.0,24.0,41.0,18.0,93.0,50.0,0.416666667,31.0,77.0,37.0,46.0,35.0,71.0,58.0,61.0,69.0,30.0,60.0,6.0,28.0,11.0,31.0,51.0,39.0,70.0,48.0,74.0,37.0,70.0,48.0,24.0,72.0,57.0,61.0,59.0,49.0,54.0,64.0,36.0,31.0,54.0,53.0,22.0,27.0,63.0,38.0,16.0,27.0,44.0,31.0,37.0,18.0,37.0,0.833333333],\"xaxis\":\"x\",\"yaxis\":\"y\",\"type\":\"histogram\"}],                        {\"template\":{\"data\":{\"histogram2dcontour\":[{\"type\":\"histogram2dcontour\",\"colorbar\":{\"outlinewidth\":0,\"ticks\":\"\"},\"colorscale\":[[0.0,\"#0d0887\"],[0.1111111111111111,\"#46039f\"],[0.2222222222222222,\"#7201a8\"],[0.3333333333333333,\"#9c179e\"],[0.4444444444444444,\"#bd3786\"],[0.5555555555555556,\"#d8576b\"],[0.6666666666666666,\"#ed7953\"],[0.7777777777777778,\"#fb9f3a\"],[0.8888888888888888,\"#fdca26\"],[1.0,\"#f0f921\"]]}],\"choropleth\":[{\"type\":\"choropleth\",\"colorbar\":{\"outlinewidth\":0,\"ticks\":\"\"}}],\"histogram2d\":[{\"type\":\"histogram2d\",\"colorbar\":{\"outlinewidth\":0,\"ticks\":\"\"},\"colorscale\":[[0.0,\"#0d0887\"],[0.1111111111111111,\"#46039f\"],[0.2222222222222222,\"#7201a8\"],[0.3333333333333333,\"#9c179e\"],[0.4444444444444444,\"#bd3786\"],[0.5555555555555556,\"#d8576b\"],[0.6666666666666666,\"#ed7953\"],[0.7777777777777778,\"#fb9f3a\"],[0.8888888888888888,\"#fdca26\"],[1.0,\"#f0f921\"]]}],\"heatmap\":[{\"type\":\"heatmap\",\"colorbar\":{\"outlinewidth\":0,\"ticks\":\"\"},\"colorscale\":[[0.0,\"#0d0887\"],[0.1111111111111111,\"#46039f\"],[0.2222222222222222,\"#7201a8\"],[0.3333333333333333,\"#9c179e\"],[0.4444444444444444,\"#bd3786\"],[0.5555555555555556,\"#d8576b\"],[0.6666666666666666,\"#ed7953\"],[0.7777777777777778,\"#fb9f3a\"],[0.8888888888888888,\"#fdca26\"],[1.0,\"#f0f921\"]]}],\"heatmapgl\":[{\"type\":\"heatmapgl\",\"colorbar\":{\"outlinewidth\":0,\"ticks\":\"\"},\"colorscale\":[[0.0,\"#0d0887\"],[0.1111111111111111,\"#46039f\"],[0.2222222222222222,\"#7201a8\"],[0.3333333333333333,\"#9c179e\"],[0.4444444444444444,\"#bd3786\"],[0.5555555555555556,\"#d8576b\"],[0.6666666666666666,\"#ed7953\"],[0.7777777777777778,\"#fb9f3a\"],[0.8888888888888888,\"#fdca26\"],[1.0,\"#f0f921\"]]}],\"contourcarpet\":[{\"type\":\"contourcarpet\",\"colorbar\":{\"outlinewidth\":0,\"ticks\":\"\"}}],\"contour\":[{\"type\":\"contour\",\"colorbar\":{\"outlinewidth\":0,\"ticks\":\"\"},\"colorscale\":[[0.0,\"#0d0887\"],[0.1111111111111111,\"#46039f\"],[0.2222222222222222,\"#7201a8\"],[0.3333333333333333,\"#9c179e\"],[0.4444444444444444,\"#bd3786\"],[0.5555555555555556,\"#d8576b\"],[0.6666666666666666,\"#ed7953\"],[0.7777777777777778,\"#fb9f3a\"],[0.8888888888888888,\"#fdca26\"],[1.0,\"#f0f921\"]]}],\"surface\":[{\"type\":\"surface\",\"colorbar\":{\"outlinewidth\":0,\"ticks\":\"\"},\"colorscale\":[[0.0,\"#0d0887\"],[0.1111111111111111,\"#46039f\"],[0.2222222222222222,\"#7201a8\"],[0.3333333333333333,\"#9c179e\"],[0.4444444444444444,\"#bd3786\"],[0.5555555555555556,\"#d8576b\"],[0.6666666666666666,\"#ed7953\"],[0.7777777777777778,\"#fb9f3a\"],[0.8888888888888888,\"#fdca26\"],[1.0,\"#f0f921\"]]}],\"mesh3d\":[{\"type\":\"mesh3d\",\"colorbar\":{\"outlinewidth\":0,\"ticks\":\"\"}}],\"scatter\":[{\"fillpattern\":{\"fillmode\":\"overlay\",\"size\":10,\"solidity\":0.2},\"type\":\"scatter\"}],\"parcoords\":[{\"type\":\"parcoords\",\"line\":{\"colorbar\":{\"outlinewidth\":0,\"ticks\":\"\"}}}],\"scatterpolargl\":[{\"type\":\"scatterpolargl\",\"marker\":{\"colorbar\":{\"outlinewidth\":0,\"ticks\":\"\"}}}],\"bar\":[{\"error_x\":{\"color\":\"#2a3f5f\"},\"error_y\":{\"color\":\"#2a3f5f\"},\"marker\":{\"line\":{\"color\":\"#E5ECF6\",\"width\":0.5},\"pattern\":{\"fillmode\":\"overlay\",\"size\":10,\"solidity\":0.2}},\"type\":\"bar\"}],\"scattergeo\":[{\"type\":\"scattergeo\",\"marker\":{\"colorbar\":{\"outlinewidth\":0,\"ticks\":\"\"}}}],\"scatterpolar\":[{\"type\":\"scatterpolar\",\"marker\":{\"colorbar\":{\"outlinewidth\":0,\"ticks\":\"\"}}}],\"histogram\":[{\"marker\":{\"pattern\":{\"fillmode\":\"overlay\",\"size\":10,\"solidity\":0.2}},\"type\":\"histogram\"}],\"scattergl\":[{\"type\":\"scattergl\",\"marker\":{\"colorbar\":{\"outlinewidth\":0,\"ticks\":\"\"}}}],\"scatter3d\":[{\"type\":\"scatter3d\",\"line\":{\"colorbar\":{\"outlinewidth\":0,\"ticks\":\"\"}},\"marker\":{\"colorbar\":{\"outlinewidth\":0,\"ticks\":\"\"}}}],\"scattermapbox\":[{\"type\":\"scattermapbox\",\"marker\":{\"colorbar\":{\"outlinewidth\":0,\"ticks\":\"\"}}}],\"scatterternary\":[{\"type\":\"scatterternary\",\"marker\":{\"colorbar\":{\"outlinewidth\":0,\"ticks\":\"\"}}}],\"scattercarpet\":[{\"type\":\"scattercarpet\",\"marker\":{\"colorbar\":{\"outlinewidth\":0,\"ticks\":\"\"}}}],\"carpet\":[{\"aaxis\":{\"endlinecolor\":\"#2a3f5f\",\"gridcolor\":\"white\",\"linecolor\":\"white\",\"minorgridcolor\":\"white\",\"startlinecolor\":\"#2a3f5f\"},\"baxis\":{\"endlinecolor\":\"#2a3f5f\",\"gridcolor\":\"white\",\"linecolor\":\"white\",\"minorgridcolor\":\"white\",\"startlinecolor\":\"#2a3f5f\"},\"type\":\"carpet\"}],\"table\":[{\"cells\":{\"fill\":{\"color\":\"#EBF0F8\"},\"line\":{\"color\":\"white\"}},\"header\":{\"fill\":{\"color\":\"#C8D4E3\"},\"line\":{\"color\":\"white\"}},\"type\":\"table\"}],\"barpolar\":[{\"marker\":{\"line\":{\"color\":\"#E5ECF6\",\"width\":0.5},\"pattern\":{\"fillmode\":\"overlay\",\"size\":10,\"solidity\":0.2}},\"type\":\"barpolar\"}],\"pie\":[{\"automargin\":true,\"type\":\"pie\"}]},\"layout\":{\"autotypenumbers\":\"strict\",\"colorway\":[\"#636efa\",\"#EF553B\",\"#00cc96\",\"#ab63fa\",\"#FFA15A\",\"#19d3f3\",\"#FF6692\",\"#B6E880\",\"#FF97FF\",\"#FECB52\"],\"font\":{\"color\":\"#2a3f5f\"},\"hovermode\":\"closest\",\"hoverlabel\":{\"align\":\"left\"},\"paper_bgcolor\":\"white\",\"plot_bgcolor\":\"#E5ECF6\",\"polar\":{\"bgcolor\":\"#E5ECF6\",\"angularaxis\":{\"gridcolor\":\"white\",\"linecolor\":\"white\",\"ticks\":\"\"},\"radialaxis\":{\"gridcolor\":\"white\",\"linecolor\":\"white\",\"ticks\":\"\"}},\"ternary\":{\"bgcolor\":\"#E5ECF6\",\"aaxis\":{\"gridcolor\":\"white\",\"linecolor\":\"white\",\"ticks\":\"\"},\"baxis\":{\"gridcolor\":\"white\",\"linecolor\":\"white\",\"ticks\":\"\"},\"caxis\":{\"gridcolor\":\"white\",\"linecolor\":\"white\",\"ticks\":\"\"}},\"coloraxis\":{\"colorbar\":{\"outlinewidth\":0,\"ticks\":\"\"}},\"colorscale\":{\"sequential\":[[0.0,\"#0d0887\"],[0.1111111111111111,\"#46039f\"],[0.2222222222222222,\"#7201a8\"],[0.3333333333333333,\"#9c179e\"],[0.4444444444444444,\"#bd3786\"],[0.5555555555555556,\"#d8576b\"],[0.6666666666666666,\"#ed7953\"],[0.7777777777777778,\"#fb9f3a\"],[0.8888888888888888,\"#fdca26\"],[1.0,\"#f0f921\"]],\"sequentialminus\":[[0.0,\"#0d0887\"],[0.1111111111111111,\"#46039f\"],[0.2222222222222222,\"#7201a8\"],[0.3333333333333333,\"#9c179e\"],[0.4444444444444444,\"#bd3786\"],[0.5555555555555556,\"#d8576b\"],[0.6666666666666666,\"#ed7953\"],[0.7777777777777778,\"#fb9f3a\"],[0.8888888888888888,\"#fdca26\"],[1.0,\"#f0f921\"]],\"diverging\":[[0,\"#8e0152\"],[0.1,\"#c51b7d\"],[0.2,\"#de77ae\"],[0.3,\"#f1b6da\"],[0.4,\"#fde0ef\"],[0.5,\"#f7f7f7\"],[0.6,\"#e6f5d0\"],[0.7,\"#b8e186\"],[0.8,\"#7fbc41\"],[0.9,\"#4d9221\"],[1,\"#276419\"]]},\"xaxis\":{\"gridcolor\":\"white\",\"linecolor\":\"white\",\"ticks\":\"\",\"title\":{\"standoff\":15},\"zerolinecolor\":\"white\",\"automargin\":true,\"zerolinewidth\":2},\"yaxis\":{\"gridcolor\":\"white\",\"linecolor\":\"white\",\"ticks\":\"\",\"title\":{\"standoff\":15},\"zerolinecolor\":\"white\",\"automargin\":true,\"zerolinewidth\":2},\"scene\":{\"xaxis\":{\"backgroundcolor\":\"#E5ECF6\",\"gridcolor\":\"white\",\"linecolor\":\"white\",\"showbackground\":true,\"ticks\":\"\",\"zerolinecolor\":\"white\",\"gridwidth\":2},\"yaxis\":{\"backgroundcolor\":\"#E5ECF6\",\"gridcolor\":\"white\",\"linecolor\":\"white\",\"showbackground\":true,\"ticks\":\"\",\"zerolinecolor\":\"white\",\"gridwidth\":2},\"zaxis\":{\"backgroundcolor\":\"#E5ECF6\",\"gridcolor\":\"white\",\"linecolor\":\"white\",\"showbackground\":true,\"ticks\":\"\",\"zerolinecolor\":\"white\",\"gridwidth\":2}},\"shapedefaults\":{\"line\":{\"color\":\"#2a3f5f\"}},\"annotationdefaults\":{\"arrowcolor\":\"#2a3f5f\",\"arrowhead\":0,\"arrowwidth\":1},\"geo\":{\"bgcolor\":\"white\",\"landcolor\":\"#E5ECF6\",\"subunitcolor\":\"white\",\"showland\":true,\"showlakes\":true,\"lakecolor\":\"white\"},\"title\":{\"x\":0.05},\"mapbox\":{\"style\":\"light\"}}},\"xaxis\":{\"anchor\":\"y\",\"domain\":[0.0,1.0],\"title\":{\"text\":\"age\"}},\"yaxis\":{\"anchor\":\"x\",\"domain\":[0.0,1.0],\"title\":{\"text\":\"count\"}},\"legend\":{\"tracegroupgap\":0},\"margin\":{\"t\":60},\"barmode\":\"relative\"},                        {\"responsive\": true}                    ).then(function(){\n",
       "                            \n",
       "var gd = document.getElementById('6bc3d7bd-1504-4999-96d2-a55bcfcb85ac');\n",
       "var x = new MutationObserver(function (mutations, observer) {{\n",
       "        var display = window.getComputedStyle(gd).display;\n",
       "        if (!display || display === 'none') {{\n",
       "            console.log([gd, 'removed!']);\n",
       "            Plotly.purge(gd);\n",
       "            observer.disconnect();\n",
       "        }}\n",
       "}});\n",
       "\n",
       "// Listen for the removal of the full notebook cells\n",
       "var notebookContainer = gd.closest('#notebook-container');\n",
       "if (notebookContainer) {{\n",
       "    x.observe(notebookContainer, {childList: true});\n",
       "}}\n",
       "\n",
       "// Listen for the clearing of the current output cell\n",
       "var outputEl = gd.closest('.output');\n",
       "if (outputEl) {{\n",
       "    x.observe(outputEl, {childList: true});\n",
       "}}\n",
       "\n",
       "                        })                };                });            </script>        </div>"
      ]
     },
     "metadata": {},
     "output_type": "display_data"
    }
   ],
   "source": [
    "express.histogram(data_frame=df, x='age', nbins=50)"
   ]
  }
 ],
 "metadata": {
  "kaggle": {
   "accelerator": "none",
   "dataSources": [
    {
     "datasetId": 5719221,
     "sourceId": 9419244,
     "sourceType": "datasetVersion"
    }
   ],
   "dockerImageVersionId": 30775,
   "isGpuEnabled": false,
   "isInternetEnabled": true,
   "language": "python",
   "sourceType": "notebook"
  },
  "kernelspec": {
   "display_name": "Python 3",
   "language": "python",
   "name": "python3"
  },
  "language_info": {
   "codemirror_mode": {
    "name": "ipython",
    "version": 3
   },
   "file_extension": ".py",
   "mimetype": "text/x-python",
   "name": "python",
   "nbconvert_exporter": "python",
   "pygments_lexer": "ipython3",
   "version": "3.10.14"
  },
  "papermill": {
   "default_parameters": {},
   "duration": 8.185845,
   "end_time": "2024-09-29T09:45:03.628416",
   "environment_variables": {},
   "exception": null,
   "input_path": "__notebook__.ipynb",
   "output_path": "__notebook__.ipynb",
   "parameters": {},
   "start_time": "2024-09-29T09:44:55.442571",
   "version": "2.6.0"
  }
 },
 "nbformat": 4,
 "nbformat_minor": 5
}
