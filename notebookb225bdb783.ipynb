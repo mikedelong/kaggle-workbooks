{
 "cells": [
  {
   "cell_type": "code",
   "execution_count": 1,
   "id": "88913806",
   "metadata": {
    "_cell_guid": "b1076dfc-b9ad-4769-8c92-a6c4dae69d19",
    "_uuid": "8f2839f25d086af736a60e9eeb907d3b93b6e0e5",
    "execution": {
     "iopub.execute_input": "2024-02-03T21:25:06.778035Z",
     "iopub.status.busy": "2024-02-03T21:25:06.777162Z",
     "iopub.status.idle": "2024-02-03T21:25:07.748600Z",
     "shell.execute_reply": "2024-02-03T21:25:07.747505Z"
    },
    "papermill": {
     "duration": 0.980183,
     "end_time": "2024-02-03T21:25:07.751401",
     "exception": false,
     "start_time": "2024-02-03T21:25:06.771218",
     "status": "completed"
    },
    "tags": []
   },
   "outputs": [
    {
     "data": {
      "text/html": [
       "<div>\n",
       "<style scoped>\n",
       "    .dataframe tbody tr th:only-of-type {\n",
       "        vertical-align: middle;\n",
       "    }\n",
       "\n",
       "    .dataframe tbody tr th {\n",
       "        vertical-align: top;\n",
       "    }\n",
       "\n",
       "    .dataframe thead th {\n",
       "        text-align: right;\n",
       "    }\n",
       "</style>\n",
       "<table border=\"1\" class=\"dataframe\">\n",
       "  <thead>\n",
       "    <tr style=\"text-align: right;\">\n",
       "      <th></th>\n",
       "      <th>Name of Incident</th>\n",
       "      <th>Date</th>\n",
       "      <th>Month</th>\n",
       "      <th>Year</th>\n",
       "      <th>Country</th>\n",
       "      <th>Type of Event</th>\n",
       "      <th>Place Name</th>\n",
       "      <th>Impact</th>\n",
       "      <th>Affected Population</th>\n",
       "      <th>Important Person/Group Responsible</th>\n",
       "      <th>Outcome</th>\n",
       "    </tr>\n",
       "    <tr>\n",
       "      <th>Sl. No</th>\n",
       "      <th></th>\n",
       "      <th></th>\n",
       "      <th></th>\n",
       "      <th></th>\n",
       "      <th></th>\n",
       "      <th></th>\n",
       "      <th></th>\n",
       "      <th></th>\n",
       "      <th></th>\n",
       "      <th></th>\n",
       "      <th></th>\n",
       "    </tr>\n",
       "  </thead>\n",
       "  <tbody>\n",
       "    <tr>\n",
       "      <th>1</th>\n",
       "      <td>Indus Valley Civilization Flourishes</td>\n",
       "      <td>Unknown</td>\n",
       "      <td>Unknown</td>\n",
       "      <td>2600 BC</td>\n",
       "      <td>India</td>\n",
       "      <td>Civilization</td>\n",
       "      <td>Indus Valley</td>\n",
       "      <td>Development of one of the world's earliest urb...</td>\n",
       "      <td>Local inhabitants</td>\n",
       "      <td>Indus Valley people</td>\n",
       "      <td>Positive</td>\n",
       "    </tr>\n",
       "    <tr>\n",
       "      <th>2</th>\n",
       "      <td>Battle of the Ten Kings</td>\n",
       "      <td>Unknown</td>\n",
       "      <td>Unknown</td>\n",
       "      <td>1400 BC</td>\n",
       "      <td>India</td>\n",
       "      <td>Battle</td>\n",
       "      <td>Punjab</td>\n",
       "      <td>Rigvedic tribes consolidated their control ove...</td>\n",
       "      <td>Rigvedic tribes</td>\n",
       "      <td>Sudas</td>\n",
       "      <td>Positive</td>\n",
       "    </tr>\n",
       "    <tr>\n",
       "      <th>6</th>\n",
       "      <td>Establishment of the Delhi Sultanate</td>\n",
       "      <td>Unknown</td>\n",
       "      <td>Unknown</td>\n",
       "      <td>1206</td>\n",
       "      <td>India</td>\n",
       "      <td>Political</td>\n",
       "      <td>Delhi</td>\n",
       "      <td>Muslim rule established in parts of India</td>\n",
       "      <td>People of Delhi and surrounding regions</td>\n",
       "      <td>QutbUnknownudUnknowndin Aibak</td>\n",
       "      <td>Mixed</td>\n",
       "    </tr>\n",
       "    <tr>\n",
       "      <th>7</th>\n",
       "      <td>Battle of Panipat</td>\n",
       "      <td>21</td>\n",
       "      <td>April</td>\n",
       "      <td>1526</td>\n",
       "      <td>India</td>\n",
       "      <td>Battle</td>\n",
       "      <td>Panipat</td>\n",
       "      <td>Foundation of the Mughal Empire in India</td>\n",
       "      <td>Northern Indian kingdoms</td>\n",
       "      <td>Babur</td>\n",
       "      <td>Mixed</td>\n",
       "    </tr>\n",
       "    <tr>\n",
       "      <th>8</th>\n",
       "      <td>Establishment of British Raj</td>\n",
       "      <td>1</td>\n",
       "      <td>May</td>\n",
       "      <td>1858</td>\n",
       "      <td>India</td>\n",
       "      <td>Colonial</td>\n",
       "      <td>Whole India</td>\n",
       "      <td>Start of direct British governance in India</td>\n",
       "      <td>Indian subcontinent</td>\n",
       "      <td>British East India Company/Empire</td>\n",
       "      <td>Negative</td>\n",
       "    </tr>\n",
       "  </tbody>\n",
       "</table>\n",
       "</div>"
      ],
      "text/plain": [
       "                            Name of Incident     Date    Month     Year  \\\n",
       "Sl. No                                                                    \n",
       "1       Indus Valley Civilization Flourishes  Unknown  Unknown  2600 BC   \n",
       "2                    Battle of the Ten Kings  Unknown  Unknown  1400 BC   \n",
       "6       Establishment of the Delhi Sultanate  Unknown  Unknown     1206   \n",
       "7                          Battle of Panipat       21    April     1526   \n",
       "8               Establishment of British Raj        1      May     1858   \n",
       "\n",
       "       Country Type of Event    Place Name  \\\n",
       "Sl. No                                       \n",
       "1        India  Civilization  Indus Valley   \n",
       "2        India        Battle        Punjab   \n",
       "6        India     Political         Delhi   \n",
       "7        India        Battle       Panipat   \n",
       "8        India      Colonial   Whole India   \n",
       "\n",
       "                                                   Impact  \\\n",
       "Sl. No                                                      \n",
       "1       Development of one of the world's earliest urb...   \n",
       "2       Rigvedic tribes consolidated their control ove...   \n",
       "6               Muslim rule established in parts of India   \n",
       "7                Foundation of the Mughal Empire in India   \n",
       "8             Start of direct British governance in India   \n",
       "\n",
       "                            Affected Population  \\\n",
       "Sl. No                                            \n",
       "1                             Local inhabitants   \n",
       "2                               Rigvedic tribes   \n",
       "6       People of Delhi and surrounding regions   \n",
       "7                      Northern Indian kingdoms   \n",
       "8                           Indian subcontinent   \n",
       "\n",
       "       Important Person/Group Responsible   Outcome  \n",
       "Sl. No                                               \n",
       "1                     Indus Valley people  Positive  \n",
       "2                                   Sudas  Positive  \n",
       "6           QutbUnknownudUnknowndin Aibak     Mixed  \n",
       "7                                   Babur     Mixed  \n",
       "8       British East India Company/Empire  Negative  "
      ]
     },
     "execution_count": 1,
     "metadata": {},
     "output_type": "execute_result"
    }
   ],
   "source": [
    "import pandas as pd\n",
    "from warnings import filterwarnings\n",
    "filterwarnings(action='ignore', category=FutureWarning)\n",
    "\n",
    "WORLD = '/kaggle/input/world-important-events-ancient-to-modern/World Important Dates.csv'\n",
    "df = pd.read_csv(filepath_or_buffer=WORLD, index_col=[0])\n",
    "df.head()"
   ]
  },
  {
   "cell_type": "code",
   "execution_count": 2,
   "id": "1702cc46",
   "metadata": {
    "execution": {
     "iopub.execute_input": "2024-02-03T21:25:07.759962Z",
     "iopub.status.busy": "2024-02-03T21:25:07.758845Z",
     "iopub.status.idle": "2024-02-03T21:25:07.783109Z",
     "shell.execute_reply": "2024-02-03T21:25:07.781951Z"
    },
    "papermill": {
     "duration": 0.031062,
     "end_time": "2024-02-03T21:25:07.785721",
     "exception": false,
     "start_time": "2024-02-03T21:25:07.754659",
     "status": "completed"
    },
    "tags": []
   },
   "outputs": [
    {
     "name": "stdout",
     "output_type": "stream",
     "text": [
      "<class 'pandas.core.frame.DataFrame'>\n",
      "Index: 1096 entries, 1 to 1151\n",
      "Data columns (total 11 columns):\n",
      " #   Column                              Non-Null Count  Dtype \n",
      "---  ------                              --------------  ----- \n",
      " 0   Name of Incident                    1096 non-null   object\n",
      " 1   Date                                1096 non-null   object\n",
      " 2   Month                               1096 non-null   object\n",
      " 3   Year                                1096 non-null   object\n",
      " 4   Country                             1096 non-null   object\n",
      " 5   Type of Event                       1096 non-null   object\n",
      " 6   Place Name                          1096 non-null   object\n",
      " 7   Impact                              1096 non-null   object\n",
      " 8   Affected Population                 1096 non-null   object\n",
      " 9   Important Person/Group Responsible  1096 non-null   object\n",
      " 10  Outcome                             1096 non-null   object\n",
      "dtypes: object(11)\n",
      "memory usage: 102.8+ KB\n"
     ]
    }
   ],
   "source": [
    "df.info()"
   ]
  },
  {
   "cell_type": "code",
   "execution_count": 3,
   "id": "e585861a",
   "metadata": {
    "execution": {
     "iopub.execute_input": "2024-02-03T21:25:07.793276Z",
     "iopub.status.busy": "2024-02-03T21:25:07.792923Z",
     "iopub.status.idle": "2024-02-03T21:25:07.806202Z",
     "shell.execute_reply": "2024-02-03T21:25:07.804298Z"
    },
    "papermill": {
     "duration": 0.020062,
     "end_time": "2024-02-03T21:25:07.808916",
     "exception": false,
     "start_time": "2024-02-03T21:25:07.788854",
     "status": "completed"
    },
    "tags": []
   },
   "outputs": [
    {
     "data": {
      "text/plain": [
       "Name of Incident                      1030\n",
       "Date                                    46\n",
       "Month                                   13\n",
       "Year                                   330\n",
       "Country                                113\n",
       "Type of Event                          402\n",
       "Place Name                             523\n",
       "Impact                                1081\n",
       "Affected Population                    591\n",
       "Important Person/Group Responsible     801\n",
       "Outcome                                  4\n",
       "dtype: int64"
      ]
     },
     "execution_count": 3,
     "metadata": {},
     "output_type": "execute_result"
    }
   ],
   "source": [
    "df.nunique()"
   ]
  },
  {
   "cell_type": "code",
   "execution_count": 4,
   "id": "a1992261",
   "metadata": {
    "execution": {
     "iopub.execute_input": "2024-02-03T21:25:07.817253Z",
     "iopub.status.busy": "2024-02-03T21:25:07.816653Z",
     "iopub.status.idle": "2024-02-03T21:25:10.472364Z",
     "shell.execute_reply": "2024-02-03T21:25:10.471281Z"
    },
    "papermill": {
     "duration": 2.662738,
     "end_time": "2024-02-03T21:25:10.474905",
     "exception": false,
     "start_time": "2024-02-03T21:25:07.812167",
     "status": "completed"
    },
    "tags": []
   },
   "outputs": [
    {
     "data": {
      "text/html": [
       "        <script type=\"text/javascript\">\n",
       "        window.PlotlyConfig = {MathJaxConfig: 'local'};\n",
       "        if (window.MathJax && window.MathJax.Hub && window.MathJax.Hub.Config) {window.MathJax.Hub.Config({SVG: {font: \"STIX-Web\"}});}\n",
       "        if (typeof require !== 'undefined') {\n",
       "        require.undef(\"plotly\");\n",
       "        requirejs.config({\n",
       "            paths: {\n",
       "                'plotly': ['https://cdn.plot.ly/plotly-2.27.0.min']\n",
       "            }\n",
       "        });\n",
       "        require(['plotly'], function(Plotly) {\n",
       "            window._Plotly = Plotly;\n",
       "        });\n",
       "        }\n",
       "        </script>\n",
       "        "
      ]
     },
     "metadata": {},
     "output_type": "display_data"
    },
    {
     "data": {
      "text/html": [
       "<div>                            <div id=\"bc4f422b-079c-4d28-83cb-d872dab42258\" class=\"plotly-graph-div\" style=\"height:1800px; width:100%;\"></div>            <script type=\"text/javascript\">                require([\"plotly\"], function(Plotly) {                    window.PLOTLYENV=window.PLOTLYENV || {};                                    if (document.getElementById(\"bc4f422b-079c-4d28-83cb-d872dab42258\")) {                    Plotly.newPlot(                        \"bc4f422b-079c-4d28-83cb-d872dab42258\",                        [{\"alignmentgroup\":\"True\",\"boxpoints\":\"all\",\"fillcolor\":\"rgba(255,255,255,0)\",\"hoveron\":\"points\",\"hovertemplate\":\"Outcome=Positive\\u003cbr\\u003eCountry=%{x}\\u003cbr\\u003eType of Event=%{y}\\u003cextra\\u003e\\u003c\\u002fextra\\u003e\",\"legendgroup\":\"Positive\",\"line\":{\"color\":\"rgba(255,255,255,0)\"},\"marker\":{\"color\":\"#636efa\"},\"name\":\"Positive\",\"offsetgroup\":\"Positive\",\"orientation\":\"v\",\"pointpos\":0,\"showlegend\":true,\"x\":[\"India\",\"India\",\"India\",\"India\",\"India\",\"India\",\"India\",\"India\",\"India\",\"India\",\"India\",\"India\",\"India\",\"India\",\"India\",\"India\",\"India\",\"India\",\"India\",\"India\",\"India\",\"India\",\"India\",\"India\",\"India\",\"India\",\"India\",\"India\",\"India\",\"India\",\"India\",\"India\",\"India\",\"India\",\"India\",\"India\",\"India\",\"India\",\"India\",\"India\",\"India\",\"India\",\"India\",\"Pakistan\",\"Pakistan\",\"Pakistan\",\"Pakistan\",\"Pakistan\",\"Pakistan\",\"Pakistan\",\"Pakistan\",\"Pakistan\",\"Pakistan\",\"Pakistan\",\"Pakistan\",\"Pakistan\",\"Pakistan\",\"Pakistan\",\"Pakistan\",\"Pakistan\",\"Pakistan\",\"Pakistan\",\"Pakistan\",\"Pakistan\",\"Pakistan\",\"Pakistan\",\"Pakistan\",\"Pakistan\",\"Pakistan\",\"Sri Lanka\",\"Sri Lanka\",\"Sri Lanka\",\"Sri Lanka\",\"Sri Lanka\",\"Sri Lanka\",\"Sri Lanka\",\"Sri Lanka\",\"Sri Lanka\",\"Sri Lanka\",\"Sri Lanka\",\"Sri Lanka\",\"China\",\"China\",\"China\",\"China\",\"China\",\"China\",\"China\",\"China\",\"China\",\"China\",\"China\",\"China\",\"China\",\"China\",\"China\",\"China\",\"China\",\"China\",\"China\",\"China\",\"China\",\"China\",\"China\",\"China\",\"China\",\"China\",\"China\",\"China\",\"China\",\"China\",\"China\",\"Russia\",\"Russia\",\"Russia\",\"Russia\",\"Russia\",\"Russia\",\"Russia\",\"Russia\",\"Russia\",\"USSR\",\"USSR\",\"USSR\",\"USSR\",\"USSR\",\"Russia\",\"Japan\",\"Japan\",\"Japan\",\"Japan\",\"Japan\",\"Japan\",\"Japan\",\"Japan\",\"Japan\",\"Japan\",\"Japan\",\"Japan\",\"Japan\",\"Japan\",\"Japan\",\"Japan\",\"Japan\",\"Japan\",\"Japan\",\"Japan\",\"Japan\",\"Japan\",\"Japan\",\"Japan\",\"Japan\",\"Japan\",\"Australia\",\"Australia\",\"Australia\",\"Australia\",\"Australia\",\"Australia\",\"Australia\",\"Australia\",\"Australia\",\"Australia\",\"Australia\",\"Australia\",\"Australia\",\"Australia\",\"Australia\",\"Australia\",\"Australia\",\"Australia\",\"Australia\",\"Australia\",\"Australia\",\"Australia\",\"Australia\",\"Australia\",\"Australia\",\"Australia\",\"Australia\",\"New Zealand\",\"New Zealand\",\"New Zealand\",\"New Zealand\",\"New Zealand\",\"New Zealand\",\"New Zealand\",\"New Zealand\",\"New Zealand\",\"New Zealand\",\"New Zealand\",\"New Zealand\",\"New Zealand\",\"New Zealand\",\"New Zealand\",\"New Zealand\",\"New Zealand\",\"New Zealand\",\"New Zealand\",\"New Zealand\",\"New Zealand\",\"New Zealand\",\"New Zealand\",\"New Zealand\",\"New Zealand\",\"New Zealand\",\"New Zealand\",\"New Zealand\",\"New Zealand\",\"New Zealand\",\"Korea\",\"Korea\",\"Korea\",\"Korea\",\"Korea\",\"South Korea\",\"North Korea\",\"South Korea\",\"South Korea\",\"South Korea\",\"South Korea\",\"South Korea\",\"South Korea\",\"South Korea\",\"Vietnam\",\"Vietnam\",\"Vietnam\",\"Vietnam\",\"Vietnam\",\"Vietnam\",\"Vietnam\",\"Vietnam\",\"Vietnam\",\"Vietnam\",\"Vietnam\",\"Vietnam\",\"Vietnam\",\"Vietnam\",\"Vietnam\",\"Vietnam\",\"Vietnam\",\"Vietnam\",\"Vietnam\",\"Vietnam\",\"Vietnam\",\"Vietnam\",\"Saudi Arabia\",\"Saudi Arabia\",\"Saudi Arabia\",\"Saudi Arabia\",\"Saudi Arabia\",\"Saudi Arabia\",\"Saudi Arabia\",\"Saudi Arabia\",\"Saudi Arabia\",\"Saudi Arabia\",\"Saudi Arabia\",\"Saudi Arabia\",\"Saudi Arabia\",\"Saudi Arabia\",\"Saudi Arabia\",\"Saudi Arabia\",\"Saudi Arabia\",\"Saudi Arabia\",\"Saudi Arabia\",\"Saudi Arabia\",\"Saudi Arabia\",\"Saudi Arabia\",\"Saudi Arabia\",\"Singapore\",\"Singapore\",\"Singapore\",\"Singapore\",\"Singapore\",\"Singapore\",\"Singapore\",\"Singapore\",\"Singapore\",\"Singapore\",\"Singapore\",\"Singapore\",\"Singapore\",\"Maldives\",\"Tehran\",\"Iraq\",\"Thimphu\",\"Malaysia\",\"Babylon\",\"Bhutan\",\"Maldives\",\"Malacca\",\"Iraq\",\"Samarkand\",\"Bhutan\",\"Maldives\",\"Maldives\",\"Iran\",\"Bhutan\",\"Maldives\",\"Iran\",\"Iraq\",\"Bhutan\",\"Maldives\",\"Iran\",\"Punakha\",\"Bhutan\",\"Kazakhstan\",\"Uzbekistan\",\"Bhutan\",\"Bhutan\",\"Maldives\",\"Malaysia\",\"Malaysia\",\"Uzbekistan\",\"Bhutan\",\"Uzbekistan\",\"Bhutan\",\"Maldives\",\"Malaysia\",\"Thailand\",\"USA\",\"USA\",\"USA\",\"USA\",\"USA\",\"USA\",\"USA\",\"USA\",\"USA\",\"USA\",\"USA\",\"USA\",\"USA\",\"USA\",\"USA\",\"USA\",\"USA\",\"USA\",\"USA\",\"USA\",\"USA\",\"USA\",\"USA\",\"USA\",\"USA\",\"USA\",\"USA\",\"USA\",\"USA\",\"USA\",\"USA\",\"USA\",\"USA\",\"USA\",\"USA\",\"USA\",\"Canada\",\"Canada\",\"Canada\",\"Canada\",\"Canada\",\"Canada\",\"Canada\",\"Canada\",\"Canada\",\"Canada\",\"Canada\",\"Canada\",\"Canada\",\"Canada\",\"Canada\",\"Canada\",\"Canada\",\"Canada\",\"Canada\",\"Canada\",\"Canada\",\"Canada\",\"Canada\",\"UK\",\"UK\",\"UK\",\"UK\",\"UK\",\"UK\",\"UK\",\"UK\",\"UK\",\"UK\",\"UK\",\"UK\",\"UK\",\"UK\",\"UK\",\"UK\",\"UK\",\"UK\",\"UK\",\"UK\",\"UK\",\"UK\",\"UK\",\"UK\",\"UK\",\"UK\",\"UK\",\"UK\",\"UK\",\"UK\",\"UK\",\"UK\",\"UK\",\"UK\",\"UK\",\"UK\",\"UK\",\"UK\",\"UK\",\"UK\",\"UK\",\"UK\",\"France\",\"France\",\"France\",\"France\",\"France\",\"France\",\"France\",\"France\",\"France\",\"France\",\"France\",\"France\",\"France\",\"France\",\"France\",\"France\",\"France\",\"France\",\"France\",\"France\",\"France\",\"France\",\"France\",\"Italy\",\"Italy\",\"Italy\",\"Italy\",\"Italy\",\"Italy\",\"Italy\",\"Italy\",\"Italy\",\"Italy\",\"Italy\",\"Italy\",\"Italy\",\"Spain\",\"Spain\",\"Spain\",\"Spain\",\"Spain\",\"Spain\",\"Spain\",\"Spain\",\"Spain\",\"Spain\",\"Spain\",\"Spain\",\"Spain\",\"Spain\",\"South Africa\",\"Spain\",\"Spain\",\"Spain\",\"Spain\",\"Denmark\",\"Norway\",\"Denmark\",\"Norway\",\"Finland\",\"Denmark\",\"Norway\",\"Norway\",\"Algeria\",\"Tunisia\",\"Zimbabwe\",\"Morocco\",\"Egypt\",\"Botswana\",\"Namibia\",\"Côte d'Ivoire\",\"Ghana\",\"Tanzania\",\"Madagascar\",\"Mozambique\",\"Zambia\",\"Senegal\",\"Sierra Leone\",\"Mali\",\"Burkina Faso\",\"Zimbabwe\",\"Egypt\",\"Kenya\",\"Cameroon\",\"Eritrea\",\"South Africa\",\"Sudan\",\"Nigeria\",\"Benin\",\"Tunisia\",\"Mauritania\",\"Gabon\",\"Lesotho\",\"Gambia\",\"Djibouti\",\"Equatorial Guinea\",\"Seychelles\",\"Somalia\",\"Cape Verde\",\"GuineaUnknownBissau\",\"Comoros\",\"Angola\",\"Central African Republic\",\"Chad\",\"Malawi\",\"Burundi\",\"Congo (Brazzaville)\",\"Togo\",\"Ivory Coast (Côte d'Ivoire)\",\"Niger\",\"Swaziland (Eswatini)\",\"Guinea\",\"Zambia\",\"Mozambique\",\"South Africa\",\"Ethiopia\",\"Namibia\",\"Algeria\",\"Sierra Leone\",\"Uganda\",\"South Sudan\",\"Burkina Faso\",\"Ethiopia\",\"Sudan\",\"Algeria\",\"Angola\",\"Sudan\",\"Brazil\",\"Brazil\",\"Brazil\",\"Brazil\",\"Brazil\",\"Brazil\",\"Brazil\",\"Brazil\",\"Brazil\",\"Brazil\",\"Brazil\",\"Germany\",\"Germany\",\"Germany\",\"Germany\",\"Germany\",\"Germany\",\"Germany\",\"Germany\",\"Germany\",\"Germany\",\"Germany\",\"Germany\",\"Germany\",\"Germany\",\"Argentina\",\"Argentina\",\"Argentina\",\"Argentina\",\"Argentina\",\"Argentina\",\"Argentina\",\"Argentina\",\"Mexico\",\"Mexico\",\"Mexico\",\"Mexico\",\"Mexico\",\"Mexico\",\"Mexico\",\"Mexico\"],\"x0\":\" \",\"xaxis\":\"x\",\"y\":[\"Civilization\",\"Battle\",\"National Movement\",\"Agricultural Revolution\",\"Military Conflict\",\"Legislation\",\"Criminal Incident\",\"Technology\",\"Cultural\\u002fReligious\",\"Infrastructure\",\"Political\",\"Political\",\"Economic Policy\",\"Legislation\",\"Infrastructure\",\"Cultural\\u002fPolitical\",\"Legislation\",\"Education\",\"Sports\",\"Space Exploration\",\"Sports\",\"Financial Technology\",\"Telecommunications\",\"Legal\",\"Wildlife Conservation\",\"Legal\",\"Space Exploration\",\"Environmental\\u002fSocial\",\"International Cooperation\",\"Economic Reform\",\"Political Formation\",\"Civil Disobedience Movement\",\"Civil Disobedience\",\"Political Declaration\",\"Mass Protest\",\"Political Integration\",\"Constitutional Adoption\",\"Central Banking Institution\",\"Space Agency\",\"Political Party\",\"Regulatory Body\",\"Mausoleum\",\"Religious Shrine\",\"Country Formation\",\"International Relations\",\"Constitutional\",\"Military Operation\",\"Economic\\u002fInfrastructure\",\"Diplomatic\\u002fReligious\",\"Political\",\"Administrative\",\"Monument\",\"Political Declaration\",\"International Agreement\",\"Scientific Organization\",\"International Relations\",\"Infrastructure\",\"Legislation\",\"International Recognition\",\"Infrastructure\",\"Social Welfare Program\",\"Constitutional Amendment\",\"Space Exploration\",\"Legislation\",\"Government Agency\",\"Nuclear Energy\",\"Education\",\"Infrastructure\",\"Security Policy\",\"Political\",\"Military\",\"Education Policy\",\"Constitutional\",\"Infrastructure Development\",\"Commemoration\",\"Economic Policy\",\"Health Policy\",\"Education Development\",\"Legislation\",\"Media Development\",\"Cultural Heritage\",\"Scientific\",\"Religious\\u002fCultural\",\"Cultural\\u002fEconomic\",\"Dynastic Founding\",\"Political\",\"Military\\u002fStrategic Retreat\",\"International Sports Event\",\"Trade Route Development\",\"Scientific\",\"Scientific\",\"Military\",\"Infrastructure\",\"Exploration\",\"Exploration\",\"Cultural and Political Movement\",\"Economic Reform\",\"International Sports Event\",\"International Organization\",\"Exploration\",\"Architectural\",\"Political\",\"Economic Policy\",\"Political\",\"International Relations\",\"Economic Reform\",\"International Economic Integration\",\"International Sports Event\",\"Infrastructure Development\",\"International Exhibition\",\"Space Exploration\",\"International Economic Agreement\",\"State Formation\",\"Military\",\"Territorial Expansion\",\"Modernization\\u002fExpansion\",\"Political Revolution\",\"End of WWII in Europe\",\"Political\",\"Military Battle\",\"Diplomatic Meeting\",\"Space Exploration\",\"Political\",\"Political\\u002fEconomic Reform\",\"Political\",\"Political\",\"Political\",\"Cultural\\u002fPolitical\",\"Political\",\"Cultural\",\"Cultural\",\"Literature\",\"Military\",\"Cultural\\u002fPolitical\",\"Political\",\"Political\",\"Military Conflict\",\"Military Conflict\",\"Civil War\",\"Diplomatic Mission\",\"Military Conflict\",\"International Relations\",\"International Treaty\",\"International Relations\",\"Economic Policy\",\"International Sports Event\",\"World's Fair\",\"Diplomatic Agreement\",\"Era Change\",\"Diplomatic Statement\",\"International Agreement\",\"Historical\",\"Era Change\",\"Economic\",\"Rebellion\",\"Federation\",\"Political\",\"Infrastructure\",\"Legal\",\"Military\",\"Political\",\"International Relations\",\"Legal Land Rights\",\"Health Policy\",\"Cultural Infrastructure\",\"Political\\u002fLegal\",\"Gun Violence\",\"Constitutional\\u002fLegal\",\"Political\",\"International Relations\",\"Legal\\u002fPolitical\",\"Cultural Infrastructure\",\"Legal\\u002fConstitutional\",\"Legal Land Rights\",\"Gun Violence\",\"International Sports Event\",\"Political\",\"Legal\\u002fSocial\",\"Legal Inquiry\",\"Political Milestone\",\"Economic Boom\",\"Political Framework\",\"Social Reform\",\"Social Policy\",\"Political Inclusion\",\"Economic Innovation\",\"Political Change\",\"Political\\u002fReligious Movement\",\"Social Welfare\",\"Political Party Formation\",\"Housing Policy\",\"National Commemoration\",\"Election\",\"Infrastructure Development\",\"Legal\\u002fPolitical\",\"International Relations\",\"Policy\\u002fLegislation\",\"Social Policy\",\"Environmental Legislation\",\"Judicial\\u002fPolitical\",\"Political Milestone\",\"Environmental Policy\",\"Civil Rights\",\"Electoral Reform\",\"International Agreement\",\"Constitutional Reform\",\"Legal Framework\",\"Political Development\",\"Cultural\\u002fLegal\",\"Social Policy\",\"Dynastic Founding\",\"Dynastic Founding\",\"Political Change\",\"Exile Government Formation\",\"End of Colonial Rule\",\"State Establishment\",\"Ceasefire\",\"Political Uprising\",\"Military Coup\",\"Democratic Uprising\",\"International Sports Event\",\"Diplomatic Policy\",\"International Sports Event\",\"Diplomatic\",\"Military Siege\",\"Military\\u002fPolitical Event\",\"Political\",\"Diplomatic\",\"International Integration\",\"International Trade Membership\",\"Cultural Celebration\",\"International Summit\",\"Environmental\\u002fEconomic Policy\",\"Technological Advancement\",\"Diplomatic\",\"Health Crisis\",\"State Formation\",\"Dynastic Founding\",\"Military Defense\",\"Dynastic Restoration\",\"Territorial Expansion\",\"Political Consolidation\",\"Political Party Formation\",\"Independence Movement\",\"Declaration of Independence\",\"Military Siege\",\"State Formation\",\"State Formation\",\"Territorial Expansion\",\"Diplomatic Agreement\",\"Economic Development\",\"Economic Development\",\"Political Unification\",\"Social Reform\",\"Legal System Implementation\",\"Economic Policy\",\"Military Organization\",\"Diplomatic Agreement\",\"Economic Development\",\"International Cooperation\",\"Educational Development\",\"Diplomatic Recognition\",\"International Relations\",\"Economic Development\",\"Legal Framework\",\"Economic Integration\",\"Leadership Change\",\"Economic\\u002fSocial Reform Plan\",\"Social Reform\",\"State Formation\",\"Diplomatic Agreement\",\"Administrative Change\",\"Reconstruction\",\"Educational Development\",\"Political Milestone\",\"Independence Declaration\",\"Defense Policy\",\"Economic Policy\",\"Cultural Policy\",\"Political Reform\",\"Diplomatic Agreement\",\"International Relations\",\"Religious Conversion\",\"Political Reform\",\"State Formation\",\"Cultural Development\",\"Political Movement\",\"Legal Code Introduction\",\"Religious Spread\",\"Religious Conversion\",\"Sultanate Formation\",\"City Foundation\",\"Empire Peak\",\"Country Unification\",\"Political Restoration\",\"Educational Reform\",\"Economic Nationalism\",\"Political Development\",\"Constitutional Development\",\"Modernization Policy\",\"Independence\",\"Monarchy Establishment\",\"Constitutional Development\",\"Political Reform\",\"Diplomatic Agreement\",\"Economic Development\",\"Independence\",\"Independence\",\"Cultural Change\",\"Political Development\",\"Political Reform\",\"Independence\",\"State Formation\",\"Economic Policy\",\"Social Policy\",\"Human Rights Improvement\",\"Legal Reform\",\"Electoral Victory\",\"General Election\",\"Rescue Operation\",\"Political\",\"Territorial Acquisition\",\"Legislative\",\"Space Exploration\",\"Legislative\",\"Space Exploration\",\"Judicial\",\"International\",\"Social Movement\",\"Judicial\",\"Legal\",\"Social Movement\",\"Environmental\",\"Healthcare\",\"Social Movement\",\"Social Movement\",\"Judicial\",\"Political\",\"Space Exploration\",\"Political Protest\",\"Exploration\",\"Economic\",\"Social Movement\",\"Legislative\",\"Infrastructure\",\"Military\",\"Aviation\",\"Military\",\"Legislative\",\"Engineering Achievement\",\"Social Welfare Legislation\",\"Economic Aid\",\"International Relations\",\"Settlement\",\"Political\",\"Territorial Acquisition\",\"Political\",\"Infrastructure\",\"Military\",\"Medical\",\"Political\",\"Cultural\",\"Legislative\",\"Legislative\",\"Social Justice\",\"Sports\",\"Legislative\",\"Legislative\",\"Political\",\"Economic\",\"Economic\",\"Political\",\"Legislative\",\"Medical\",\"Political\",\"Cultural\",\"Legislative\",\"Legislative\",\"Political\",\"Legal\",\"Religious Reformation\",\"Military\",\"Political\",\"Political\",\"Union\",\"Industrial\",\"Union\",\"Military\",\"Political Reform\",\"Monarchical\",\"Scientific\",\"Social Reform\",\"Cultural\",\"Peace Process\",\"Legislation\",\"Transportation\",\"Social Reform\",\"Military\",\"Social Reform\",\"Scientific\",\"Political\",\"Sporting Event\",\"Legislation\",\"Political\",\"Innovation\",\"Media\",\"Political Agreement\",\"International Organization\",\"Political\",\"Military\",\"Medical\",\"Royal Event\",\"Scientific\",\"International Politics\",\"Health\",\"Prehistoric Monument\",\"Political\",\"Military\",\"Cultural\",\"Legislation\",\"Sporting Event\",\"Battle\",\"Treaty\",\"Coronation\",\"Crusade\",\"Education\",\"Military\",\"War\",\"Cultural\",\"Treaty\",\"Revolution\",\"Political Coup\",\"Legislation\",\"Political Change\",\"Legislation\",\"Sport\",\"Military\",\"Revolution\",\"Coronation\",\"Political\",\"Legislation\",\"Political\",\"Economic\",\"Health\",\"Political Change\",\"Coronation\",\"Religious War\",\"Treaty\",\"Artistic Achievement\",\"Scientific Achievement\",\"Unification\",\"Treaty\",\"Referendum\",\"Treaty\",\"Corruption Investigation\",\"Sporting Event\",\"World Expo\",\"Discovery\",\"Political Transition\",\"Political\\u002fEconomic Integration\",\"Dynastic Union\",\"Cultural Flourishing\",\"Political Transition\",\"International Event\",\"Political\",\"Social Movement\",\"Historical Reconciliation\",\"Social Policy\",\"Peace\\u002fSecurity\",\"Archaeological Discovery\",\"Political\",\"Sports\",\"Infrastructure\",\"Legislation\",\"Economic\\u002fCultural\",\"Colonial Settlement\",\"Monarchical\",\"Political Separation\",\"Military\",\"Military\",\"Military\",\"Military\",\"Independence\",\"Foundational\",\"War\",\"Independence\",\"Civilization\",\"City Foundation\",\"Engineering Marvel\",\"Independence\",\"Independence\",\"Independence\",\"Independence\",\"Union\",\"Independence\",\"Independence\",\"Independence\",\"Independence\",\"Independence\",\"Independence\",\"Revolution\",\"Independence\",\"Revolution\",\"Independence\",\"Independence\",\"Independence\",\"Political\",\"Peace Agreement\",\"Independence\",\"Independence\",\"Revolution\",\"Legal\",\"Independence\",\"Independence\",\"Independence\",\"Independence\",\"Independence\",\"Independence\",\"Independence\\u002fUnion\",\"Independence\",\"Independence\",\"Independence\",\"Independence\",\"Independence\",\"Independence\",\"Independence\",\"Independence\",\"Independence\",\"Independence\",\"Independence\",\"Independence\",\"Independence\",\"Independence\",\"Political\",\"Peace Agreement\",\"General Elections\",\"Referendum\",\"Independence\",\"Peace Agreement\",\"Peace Agreement\",\"Military\",\"Independence\",\"Revolution\",\"Political\",\"Revolution\",\"Protest Movement\",\"Military Withdrawal\",\"Peace Agreement\",\"Independence\",\"Legal\",\"Political\",\"Political Movement\",\"Economic\",\"Political\",\"Sports\",\"Cultural\",\"Economic\",\"Environmental\",\"Political\",\"Political\",\"Political\",\"Political\",\"Political\",\"Political\",\"Military\",\"Military\",\"Economic\",\"Political\",\"Political\",\"Political\",\"Political\",\"Economic\",\"Sports\",\"Political\",\"Independence\",\"Political\",\"Legal\",\"Sports\",\"Religious\",\"Social Movement\",\"Legal\",\"Cultural\",\"Urban Development\",\"Cultural\",\"Urban Development\",\"Independence\",\"Independence\",\"Political\",\"Revolution\"],\"y0\":\" \",\"yaxis\":\"y\",\"type\":\"box\"},{\"alignmentgroup\":\"True\",\"boxpoints\":\"all\",\"fillcolor\":\"rgba(255,255,255,0)\",\"hoveron\":\"points\",\"hovertemplate\":\"Outcome=Mixed\\u003cbr\\u003eCountry=%{x}\\u003cbr\\u003eType of Event=%{y}\\u003cextra\\u003e\\u003c\\u002fextra\\u003e\",\"legendgroup\":\"Mixed\",\"line\":{\"color\":\"rgba(255,255,255,0)\"},\"marker\":{\"color\":\"#EF553B\"},\"name\":\"Mixed\",\"offsetgroup\":\"Mixed\",\"orientation\":\"v\",\"pointpos\":0,\"showlegend\":true,\"x\":[\"India\",\"India\",\"India\",\"India\",\"India\",\"India\",\"India\",\"India\",\"India\",\"UK\",\"Pakistan\",\"Pakistan\",\"Pakistan\",\"Pakistan\",\"Pakistan\",\"Sri Lanka\",\"Sri Lanka\",\"Sri Lanka\",\"Sri Lanka\",\"China\",\"China\",\"China\",\"China\",\"China\",\"China\",\"China\",\"China\",\"China\",\"China\",\"China\",\"China\",\"China\",\"China\",\"China\",\"China\",\"Russia\",\"Russia\",\"USSR\",\"Russia\",\"Russia\",\"Japan\",\"Japan\",\"Japan\",\"Japan\",\"Japan\",\"Japan\",\"Japan\",\"Japan\",\"Japan\",\"Australia\",\"Australia\",\"Australia\",\"Australia\",\"Australia\",\"Australia\",\"Australia\",\"Australia\",\"Australia\",\"New Zealand\",\"New Zealand\",\"New Zealand\",\"New Zealand\",\"New Zealand\",\"New Zealand\",\"Korea\",\"Korea\",\"Korea\",\"South Korea\",\"North Korea\",\"North Korea\",\"North Korea\",\"South Korea\",\"North Korea\",\"North Korea\",\"Vietnam\",\"Vietnam\",\"Vietnam\",\"Vietnam\",\"Vietnam\",\"Vietnam\",\"Vietnam\",\"Vietnam\",\"Vietnam\",\"Vietnam\",\"Saudi Arabia\",\"Saudi Arabia\",\"Saudi Arabia\",\"Saudi Arabia\",\"Saudi Arabia\",\"Saudi Arabia\",\"Saudi Arabia\",\"Saudi Arabia\",\"Singapore\",\"Singapore\",\"Singapore\",\"Iran\",\"Almaty\",\"Bhutan\",\"Samarkand\",\"Maldives\",\"Kazakhstan\",\"Persia\",\"Iraq\",\"Kazakhstan\",\"Uzbekistan\",\"Bhutan\",\"Iraq\",\"Malaya\",\"Iraq\",\"Maldives\",\"Iran\",\"Maldives\",\"Iran\",\"Iraq\",\"Malaya\",\"Iran\",\"Iraq\",\"Uzbekistan\",\"Uzbekistan\",\"Malaysia\",\"Kazakhstan\",\"USA\",\"USA\",\"USA\",\"USA\",\"USA\",\"USA\",\"USA\",\"USA\",\"USA\",\"USA\",\"USA\",\"USA\",\"USA\",\"USA\",\"Canada\",\"Canada\",\"UK\",\"UK\",\"UK\",\"UK\",\"UK\",\"UK\",\"France\",\"France\",\"France\",\"France\",\"Italy\",\"Italy\",\"Italy\",\"Spain\",\"Spain\",\"Spain\",\"Spain\",\"Spain\",\"Spain\",\"Spain\",\"Spain\",\"Denmark\",\"Norway\",\"Denmark\",\"Finland\",\"Finland\",\"Finland\",\"Norway\",\"South Africa\",\"Nigeria\",\"Kenya\",\"Sudan\",\"Libya\",\"Algeria\",\"Congo (DRC)\",\"Rwanda\",\"Libya\",\"Zimbabwe\",\"Rwanda\",\"Libya\",\"Egypt\",\"Zimbabwe\",\"Mauritania\",\"Nigeria\",\"Uganda\",\"Brazil\",\"Brazil\",\"Brazil\",\"Brazil\",\"Brazil\",\"Brazil\",\"Brazil\",\"Germany\",\"Germany\",\"Germany\",\"Germany\",\"Germany\",\"Germany\",\"Germany\",\"Germany\",\"Argentina\",\"Argentina\",\"Argentina\",\"Argentina\",\"Mexico\"],\"x0\":\" \",\"xaxis\":\"x\",\"y\":[\"Political\",\"Battle\",\"Nuclear Test\",\"Nuclear Test\",\"Political\",\"Judiciary\",\"Economic Policy\",\"Legislation\",\"Military\",\"Conference\",\"Political Movement\",\"Country Formation\",\"Nuclear Test\",\"Political Corruption\",\"Economic Policy\",\"International Agreement\",\"Peace Process\",\"Political\",\"Land Policy\",\"Architectural\\u002fDefensive\",\"Military\\u002fPolitical\",\"Dynastic Transition\",\"International Agreement\",\"Scientific\",\"Dynastic Transition\",\"Population Control Policy\",\"Sovereignty Transition\",\"Sovereignty Transition\",\"Historical Period\",\"Cultural\\u002fReligious Exchange\",\"Sovereignty Transition\",\"Economic and Infrastructure Project\",\"Legislation\",\"Political\",\"Economic Policy\",\"Economic Policy\",\"International Conference\",\"Political\",\"Political\",\"Military Intervention\",\"Military\\u002fPolitical\",\"Cultural\\u002fPolitical\",\"Military\\u002fTechnology\",\"Foreign Policy\",\"Political\",\"International Relations\",\"Economic Crisis\",\"Diplomatic Agreement\",\"International Sports Event\",\"Colonial Settlement\",\"Labor Movement\",\"Military\",\"Settlement\",\"Labor Movement\",\"Military Formation\",\"Military Conflict\",\"Military Conflict\",\"Economic Policy\",\"Foundational Document\",\"Military Conflict\",\"Defense Policy\",\"Economic Policy\",\"Social Unrest\",\"Legal\\u002fPolitical\",\"Military Conflict\",\"Political\\u002fSocial Reform\",\"Independence Movement\",\"Military Occupation\",\"Military Occupation\",\"Military Conflict\",\"Political Ideology\",\"Political\",\"Leadership Change\",\"Political\",\"Diplomatic Agreement\",\"Political\\u002fMilitary Organization\",\"Military Offensive\",\"Diplomatic Agreement\",\"Cultural Shift\",\"Rebellion\",\"Political Movement\",\"Armed Rebellion\",\"Military Occupation\",\"Resistance Movement\",\"Rebellion\",\"Military Conflict\",\"Military Conflict\",\"Regional Conflict\",\"Military Conflict\",\"Political Action\",\"AntiUnknownCorruption Effort\",\"International Summit\",\"Military Administration\",\"Political Union\",\"Judicial Execution\",\"Economic Development\",\"Political Movement\",\"Diplomatic Agreement\",\"Administrative Reorganization\",\"Colonial Subjugation\",\"Political Dominion\",\"Military Conquest\",\"State Formation\",\"Agricultural Development\",\"Political Reorganization\",\"Diplomatic Agreement\",\"Military Alliance\",\"CounterUnknownInsurgency\",\"Monarchy Establishment\",\"Political Change\",\"Nationalization\",\"Protectorate Establishment\",\"Economic Policy\",\"Political Revolution\",\"Political Reorganization\",\"Revolution\",\"Revolution\",\"Administrative Change\",\"Political Change\",\"Economic Policy\",\"Political Change\",\"War\",\"Political\\u002fInfrastructure\",\"Social Movement\\u002fLegal\",\"Economic\",\"Legislative\",\"International Policy\",\"Military\",\"Military\\u002fScience\",\"Military\",\"Military\",\"Legislative\",\"Legislative\",\"PostUnknownCivil War Reconstruction\",\"Economic\\u002fSocial\",\"Economic\",\"Political\",\"Civil War\",\"Political\",\"Military\",\"Political\",\"Social Movement\",\"Political\",\"Social Movement\",\"Protests\",\"Political Scandal\",\"Social Movement\",\"Conquest\",\"Treaty\",\"Political Change\",\"Military\\u002fReligious Campaign\",\"Peace Treaty\",\"Exploration\",\"War\",\"Political\",\"International Event\",\"Political\",\"Colonial Legislation\",\"Religious\",\"Religious\",\"Political Union\",\"Administrative\",\"Military\",\"Military\",\"Union\",\"Economic\",\"Political\",\"Independence Movement\",\"Religious\\u002fMilitary War\",\"Coup d'état\",\"Military Engagement\",\"Independence\",\"Peace Agreement\",\"Civil War\",\"Land Reform\",\"Justice System\",\"Revolution\",\"Revolution\",\"Coup\",\"Legal\",\"Protest Movement\",\"Election\",\"Discovery\",\"Political\",\"Urban Development\",\"Political\",\"Political\",\"Corruption Investigation\",\"Political\",\"Religious\\u002fPolitical\",\"Religious\",\"Political\",\"Political\\u002fSocial\",\"Political\",\"Economic\",\"Political\",\"Humanitarian\",\"Military\",\"Social\",\"Political\",\"Economic\",\"Civil War\"],\"y0\":\" \",\"yaxis\":\"y\",\"type\":\"box\"},{\"alignmentgroup\":\"True\",\"boxpoints\":\"all\",\"fillcolor\":\"rgba(255,255,255,0)\",\"hoveron\":\"points\",\"hovertemplate\":\"Outcome=Negative\\u003cbr\\u003eCountry=%{x}\\u003cbr\\u003eType of Event=%{y}\\u003cextra\\u003e\\u003c\\u002fextra\\u003e\",\"legendgroup\":\"Negative\",\"line\":{\"color\":\"rgba(255,255,255,0)\"},\"marker\":{\"color\":\"#00cc96\"},\"name\":\"Negative\",\"offsetgroup\":\"Negative\",\"orientation\":\"v\",\"pointpos\":0,\"showlegend\":true,\"x\":[\"India\",\"India\",\"India\",\"India\",\"India\",\"India\",\"India\",\"India\",\"India\",\"India\",\"India\",\"India\",\"India\",\"India\",\"India\",\"India\",\"India\",\"India\",\"India\",\"India\",\"India\",\"India\",\"Pakistan\",\"Pakistan\",\"Pakistan\",\"Pakistan\",\"Pakistan\",\"Pakistan\",\"Pakistan\",\"Pakistan\",\"Sri Lanka\",\"Sri Lanka\",\"Sri Lanka\",\"Sri Lanka\",\"China\",\"China\",\"China\",\"China\",\"China\",\"China\",\"China\",\"China\",\"China\",\"China\",\"China\",\"China\",\"Russia\",\"Russia\",\"Russia\",\"Russia\",\"Russia\",\"Russia\",\"Russia\",\"Russia\",\"Russia\",\"Russia\",\"Russia\",\"USSR\",\"USSR\",\"USSR\",\"USSR\",\"Russia\",\"Russia\",\"Russia\",\"Russia\",\"Russia\",\"Russia\",\"Japan\",\"Japan\",\"Japan\",\"Japan\",\"Japan\",\"Japan\",\"Japan\",\"Japan\",\"Japan\",\"Japan\",\"Japan\",\"Japan\",\"Australia\",\"Australia\",\"Australia\",\"Australia\",\"Australia\",\"Australia\",\"Australia\",\"Australia\",\"Australia\",\"Australia\",\"Australia\",\"Australia\",\"New Zealand\",\"New Zealand\",\"New Zealand\",\"New Zealand\",\"Korea\",\"Korea\",\"Korea\",\"Korea\",\"Korea\",\"Korea\",\"North Korea\",\"South Korea\",\"Korea\",\"North Korea\",\"North Korea\",\"North Korea\",\"South Korea\",\"North Korea\",\"Vietnam\",\"Vietnam\",\"Vietnam\",\"Vietnam\",\"Vietnam\",\"Saudi Arabia\",\"Saudi Arabia\",\"Saudi Arabia\",\"Saudi Arabia\",\"Saudi Arabia\",\"Singapore\",\"Singapore\",\"Singapore\",\"Singapore\",\"Singapore\",\"Singapore\",\"Singapore\",\"Singapore\",\"Iraq\",\"Bukhara\",\"Malaya\",\"Kazakhstan\",\"Kazakhstan\",\"Malaysia\",\"Iran\",\"Malaya\",\"Kazakhstan\",\"Uzbekistan\",\"Central Asia\",\"Bhutan\",\"Malaya\",\"Kazakhstan\",\"Bukhara\",\"Basra\",\"Kazakhstan\",\"Tashkent\",\"Malaya\",\"Soviet Union\",\"Uzbek SSR\",\"Addu Atoll\",\"Tehran\",\"Iraq\",\"Kuwait, Iraq\",\"Maldives\",\"Malaysia\",\"Iran\",\"Mosul\",\"Zhanaozen\",\"Maldives\",\"Malaysia\",\"Iran\",\"Iraq\",\"Malaysia\",\"Japan\",\"Taiwan\",\"South Korea\",\"Indonesia\",\"Pakistan\",\"Philippines\",\"Singapore\",\"Thailand\",\"South Korea\",\"Japan\",\"China\",\"Philippines\",\"Russia\",\"Indonesia\",\"USA\",\"USA\",\"USA\",\"USA\",\"USA\",\"USA\",\"USA\",\"USA\",\"USA\",\"USA\",\"USA\",\"USA\",\"USA\",\"USA\",\"USA\",\"USA\",\"USA\",\"USA\",\"USA\",\"USA\",\"USA\",\"USA\",\"Canada\",\"Canada\",\"Canada\",\"Canada\",\"Canada\",\"Canada\",\"Canada\",\"UK\",\"UK\",\"UK\",\"UK\",\"UK\",\"UK\",\"UK\",\"UK\",\"UK\",\"UK\",\"UK\",\"France\",\"France\",\"France\",\"France\",\"France\",\"France\",\"France\",\"France\",\"Italy\",\"Italy\",\"Italy\",\"Italy\",\"Italy\",\"Italy\",\"Italy\",\"Italy\",\"Italy\",\"Italy\",\"Spain\",\"Spain\",\"Spain\",\"Spain\",\"Spain\",\"Spain\",\"Spain\\u002fUSA\",\"Spain\",\"Spain\",\"Spain\",\"Spain\",\"Spain\",\"Spain\",\"Spain\",\"Spain\",\"Spain\",\"Spain\",\"Spain\",\"England\",\"Gibraltar\",\"Spain\",\"Finland\",\"Norway\",\"Denmark\",\"Finland\",\"Denmark\",\"Finland\",\"Denmark\",\"Finland\",\"Libya\",\"Angola\",\"Rwanda\",\"Uganda\",\"Somalia\",\"Ethiopia\",\"Nigeria\",\"South Africa\",\"Mali\",\"Central African Republic\",\"Nigeria\",\"Kenya\",\"Mozambique\",\"Ethiopia\",\"Chad\",\"Brazil\",\"Brazil\",\"Brazil\",\"Brazil\",\"Germany\",\"Germany\",\"Germany\",\"Germany\",\"Germany\",\"Germany\",\"Germany\",\"Germany\",\"Germany\",\"Germany\",\"Germany\",\"Germany\",\"Germany\",\"Argentina\",\"Argentina\",\"Argentina\",\"Argentina\",\"Mexico\",\"Mexico\",\"Mexico\",\"Mexico\",\"Mexico\"],\"x0\":\" \",\"xaxis\":\"x\",\"y\":[\"Colonial\",\"Partition\",\"War\",\"Terrorism\",\"Exploration\",\"Battle\",\"Revolt\",\"Military Operation\",\"Military Conflict\",\"Political\",\"Industrial Disaster\",\"Terrorism\",\"Terrorism\",\"Public Health\",\"Natural Disaster\",\"Terrorism\",\"Administrative\",\"Massacre\",\"Violent Protest\",\"Negotiation\",\"Famine\",\"Political Decision\",\"Military Conflict\",\"Military Conflict\",\"Natural Disaster\",\"Political\",\"Terrorism\",\"International Finance\",\"Military\\u002fPolitical\",\"Military Conflict\",\"Legislation\",\"Ethnic Conflict\",\"Natural Disaster\",\"Terrorism\",\"International Conflict\",\"Civil War\",\"Political\\u002fSocial Movement\",\"AntiUnknownImperialist Uprising\",\"Military Conflict\",\"Military Rebellion\",\"International Agreement\",\"Economic Policy\",\"Political\\u002fSocial Movement\",\"Political\",\"Health Crisis\",\"International Relations\",\"Military Invasion\",\"Political Crisis\",\"Military Conflict\",\"Civil War\",\"Political Repression\",\"Military Conflict\",\"International Treaty\",\"Military Rebellion\",\"Economic Policy\",\"Military Conflict\",\"Military Siege\",\"International Crisis\",\"Military Intervention\",\"Military Conflict\",\"Nuclear Accident\",\"Political Crisis\",\"Economic Crisis\",\"Terrorism\",\"Terrorism\",\"Political\\u002fTerritorial Change\",\"International Incident\",\"Civil War\",\"Military Invasion\",\"Military Conflict\",\"Military\\u002fAtomic Warfare\",\"Military Rebellion\",\"International Agreement\",\"Military Aggression\",\"Military Conflict\",\"End of WWII\",\"Natural Disaster\",\"Terrorism\",\"Nuclear Accident\",\"Colonial Expansion\",\"Military\",\"Economic Crisis\",\"Military\",\"Massacre\",\"Natural Disaster\",\"Political Crisis\",\"Military Conflict\",\"Political Crisis\",\"Humanitarian\\u002fPolitical\",\"Natural Disaster\",\"Environmental\\u002fEconomic Policy\",\"Military Conflict\",\"Natural Disaster\",\"Military Campaign\",\"Natural Disaster\",\"Military Invasion\",\"Military Invasion\",\"Political Assassination\",\"International Conflict\",\"Annexation\",\"Geopolitical Division\",\"State Establishment\",\"Social Unrest\",\"Military Conflict\",\"Military\\u002fPolitical Incident\",\"Political\",\"Nuclear Test\",\"Military\\u002fPolitical\",\"Nuclear Test\",\"Military Engagement\",\"Natural Disaster\",\"Colonial Occupation\",\"Assassination Attempt\",\"Military Conflict\",\"Military Defeat\",\"Security Incident\",\"Terrorism\",\"Military Intervention\",\"Diplomatic Incident\",\"Military Occupation\",\"Military Conflict\",\"Massacre\",\"Social Unrest\",\"Military Surrender\",\"Terrorism\",\"Accident\",\"Structural Failure\",\"Colonial Rule\",\"Political Change\",\"Military Occupation\",\"Economic Policy\",\"Political Annexation\",\"Colonial Rule\",\"Diplomatic Agreement\",\"Military Occupation\",\"Political Rebellion\",\"Agricultural Policy\",\"Economic Shift\",\"Military Conflict\",\"Colonial Administration\",\"Famine\",\"State Formation\",\"Military Occupation\",\"Social Policy\",\"Military Conquest\",\"Military Occupation\",\"Political Union\",\"State Formation\",\"Secession Attempt\",\"Political Coup\",\"Military Conflict\",\"Military Conflict\",\"Natural Disaster\",\"Civil Unrest\",\"Political Movement\",\"Military Occupation\",\"Civil Unrest\",\"Political Crisis\",\"Corruption Scandal\",\"Diplomatic Event\",\"Civil Unrest\",\"Aviation\",\"Aviation\",\"Aviation\",\"Aviation\",\"Aviation\",\"Aviation\",\"Aviation\",\"Aviation\",\"Aviation\",\"Maritime\",\"Nuclear Accident\",\"Rail\",\"Maritime\",\"Spacecraft Accident\",\"Industrial Accident\",\"Economic\",\"Terrorism\",\"Military\",\"Political Scandal\",\"Space Exploration Disaster\",\"Domestic Terrorism\",\"Natural Disaster\",\"Political\",\"Natural Disaster\",\"Political\",\"Economic\",\"Social Unrest\",\"Domestic Terrorism\",\"Military\",\"Judicial\",\"Judicial\",\"Legislative\",\"Military\",\"Legal\",\"PreUnknownRevolutionary Conflict\",\"Forced Relocation\",\"Legislative\",\"Social Unrest\",\"Natural Disaster\",\"Political\",\"Political\",\"Disaster\",\"Civil Rights Violation\",\"Political\",\"International Conflict\",\"Disaster\",\"Terrorism\",\"Disaster\",\"Health\",\"Royal Event\",\"Military\",\"Economic\",\"Health\",\"Civil Rights\",\"Natural Event\",\"War\",\"Execution\",\"War\",\"Disaster\",\"Execution\",\"Political\",\"War\",\"Revolt\",\"War\",\"Empire Fall\",\"Military Sack\",\"Coup\",\"War Declaration\",\"Political Change\",\"Natural Disaster\",\"Terrorism\",\"Natural Disaster\",\"Maritime Disaster\",\"Naval Engagement\",\"War\",\"Religious\\u002fCourt\",\"Colonial\",\"Civil War\",\"Terrorism\",\"War\",\"Religious\\u002fPolitical\",\"Naval Battle\",\"Peace Treaty\",\"War\",\"Colonial War\",\"Dictatorship\",\"Economic\",\"Political\\u002fSecession\",\"Economic Policy\",\"Health Crisis\",\"Religious Policy\",\"Naval Engagement\",\"Military Siege\",\"Military Conquest\",\"Military\",\"Pandemic\",\"Peace Treaty\",\"Military\",\"Disaster\",\"Civil War\",\"Military\",\"Treaty\",\"Military Invasion\",\"Colonial\",\"Genocide\",\"Dictatorship\",\"Civil War\",\"Revolution\",\"Civil War\",\"Massacre\",\"Coup\",\"Rebellion\",\"Insurgency\",\"Terrorism\",\"Natural Disaster\",\"Conflict\",\"Military\",\"Military Coup\",\"Political Scandal\",\"Health\",\"Environmental\",\"Pandemic\",\"Political\",\"Military\",\"Political\",\"Military\",\"Military\",\"Military\",\"Political\",\"Pogrom\",\"Military\",\"Genocide\",\"Military\",\"Political\",\"Political Repression\",\"Military\",\"Economic\",\"Economic\",\"Decline\",\"Conquest\",\"Colonial\",\"Military\",\"Military Intervention\"],\"y0\":\" \",\"yaxis\":\"y\",\"type\":\"box\"},{\"alignmentgroup\":\"True\",\"boxpoints\":\"all\",\"fillcolor\":\"rgba(255,255,255,0)\",\"hoveron\":\"points\",\"hovertemplate\":\"Outcome=Ongoing\\u003cbr\\u003eCountry=%{x}\\u003cbr\\u003eType of Event=%{y}\\u003cextra\\u003e\\u003c\\u002fextra\\u003e\",\"legendgroup\":\"Ongoing\",\"line\":{\"color\":\"rgba(255,255,255,0)\"},\"marker\":{\"color\":\"#ab63fa\"},\"name\":\"Ongoing\",\"offsetgroup\":\"Ongoing\",\"orientation\":\"v\",\"pointpos\":0,\"showlegend\":true,\"x\":[\"Canada\"],\"x0\":\" \",\"xaxis\":\"x\",\"y\":[\"Social Justice\"],\"y0\":\" \",\"yaxis\":\"y\",\"type\":\"box\"}],                        {\"template\":{\"data\":{\"histogram2dcontour\":[{\"type\":\"histogram2dcontour\",\"colorbar\":{\"outlinewidth\":0,\"ticks\":\"\"},\"colorscale\":[[0.0,\"#0d0887\"],[0.1111111111111111,\"#46039f\"],[0.2222222222222222,\"#7201a8\"],[0.3333333333333333,\"#9c179e\"],[0.4444444444444444,\"#bd3786\"],[0.5555555555555556,\"#d8576b\"],[0.6666666666666666,\"#ed7953\"],[0.7777777777777778,\"#fb9f3a\"],[0.8888888888888888,\"#fdca26\"],[1.0,\"#f0f921\"]]}],\"choropleth\":[{\"type\":\"choropleth\",\"colorbar\":{\"outlinewidth\":0,\"ticks\":\"\"}}],\"histogram2d\":[{\"type\":\"histogram2d\",\"colorbar\":{\"outlinewidth\":0,\"ticks\":\"\"},\"colorscale\":[[0.0,\"#0d0887\"],[0.1111111111111111,\"#46039f\"],[0.2222222222222222,\"#7201a8\"],[0.3333333333333333,\"#9c179e\"],[0.4444444444444444,\"#bd3786\"],[0.5555555555555556,\"#d8576b\"],[0.6666666666666666,\"#ed7953\"],[0.7777777777777778,\"#fb9f3a\"],[0.8888888888888888,\"#fdca26\"],[1.0,\"#f0f921\"]]}],\"heatmap\":[{\"type\":\"heatmap\",\"colorbar\":{\"outlinewidth\":0,\"ticks\":\"\"},\"colorscale\":[[0.0,\"#0d0887\"],[0.1111111111111111,\"#46039f\"],[0.2222222222222222,\"#7201a8\"],[0.3333333333333333,\"#9c179e\"],[0.4444444444444444,\"#bd3786\"],[0.5555555555555556,\"#d8576b\"],[0.6666666666666666,\"#ed7953\"],[0.7777777777777778,\"#fb9f3a\"],[0.8888888888888888,\"#fdca26\"],[1.0,\"#f0f921\"]]}],\"heatmapgl\":[{\"type\":\"heatmapgl\",\"colorbar\":{\"outlinewidth\":0,\"ticks\":\"\"},\"colorscale\":[[0.0,\"#0d0887\"],[0.1111111111111111,\"#46039f\"],[0.2222222222222222,\"#7201a8\"],[0.3333333333333333,\"#9c179e\"],[0.4444444444444444,\"#bd3786\"],[0.5555555555555556,\"#d8576b\"],[0.6666666666666666,\"#ed7953\"],[0.7777777777777778,\"#fb9f3a\"],[0.8888888888888888,\"#fdca26\"],[1.0,\"#f0f921\"]]}],\"contourcarpet\":[{\"type\":\"contourcarpet\",\"colorbar\":{\"outlinewidth\":0,\"ticks\":\"\"}}],\"contour\":[{\"type\":\"contour\",\"colorbar\":{\"outlinewidth\":0,\"ticks\":\"\"},\"colorscale\":[[0.0,\"#0d0887\"],[0.1111111111111111,\"#46039f\"],[0.2222222222222222,\"#7201a8\"],[0.3333333333333333,\"#9c179e\"],[0.4444444444444444,\"#bd3786\"],[0.5555555555555556,\"#d8576b\"],[0.6666666666666666,\"#ed7953\"],[0.7777777777777778,\"#fb9f3a\"],[0.8888888888888888,\"#fdca26\"],[1.0,\"#f0f921\"]]}],\"surface\":[{\"type\":\"surface\",\"colorbar\":{\"outlinewidth\":0,\"ticks\":\"\"},\"colorscale\":[[0.0,\"#0d0887\"],[0.1111111111111111,\"#46039f\"],[0.2222222222222222,\"#7201a8\"],[0.3333333333333333,\"#9c179e\"],[0.4444444444444444,\"#bd3786\"],[0.5555555555555556,\"#d8576b\"],[0.6666666666666666,\"#ed7953\"],[0.7777777777777778,\"#fb9f3a\"],[0.8888888888888888,\"#fdca26\"],[1.0,\"#f0f921\"]]}],\"mesh3d\":[{\"type\":\"mesh3d\",\"colorbar\":{\"outlinewidth\":0,\"ticks\":\"\"}}],\"scatter\":[{\"fillpattern\":{\"fillmode\":\"overlay\",\"size\":10,\"solidity\":0.2},\"type\":\"scatter\"}],\"parcoords\":[{\"type\":\"parcoords\",\"line\":{\"colorbar\":{\"outlinewidth\":0,\"ticks\":\"\"}}}],\"scatterpolargl\":[{\"type\":\"scatterpolargl\",\"marker\":{\"colorbar\":{\"outlinewidth\":0,\"ticks\":\"\"}}}],\"bar\":[{\"error_x\":{\"color\":\"#2a3f5f\"},\"error_y\":{\"color\":\"#2a3f5f\"},\"marker\":{\"line\":{\"color\":\"#E5ECF6\",\"width\":0.5},\"pattern\":{\"fillmode\":\"overlay\",\"size\":10,\"solidity\":0.2}},\"type\":\"bar\"}],\"scattergeo\":[{\"type\":\"scattergeo\",\"marker\":{\"colorbar\":{\"outlinewidth\":0,\"ticks\":\"\"}}}],\"scatterpolar\":[{\"type\":\"scatterpolar\",\"marker\":{\"colorbar\":{\"outlinewidth\":0,\"ticks\":\"\"}}}],\"histogram\":[{\"marker\":{\"pattern\":{\"fillmode\":\"overlay\",\"size\":10,\"solidity\":0.2}},\"type\":\"histogram\"}],\"scattergl\":[{\"type\":\"scattergl\",\"marker\":{\"colorbar\":{\"outlinewidth\":0,\"ticks\":\"\"}}}],\"scatter3d\":[{\"type\":\"scatter3d\",\"line\":{\"colorbar\":{\"outlinewidth\":0,\"ticks\":\"\"}},\"marker\":{\"colorbar\":{\"outlinewidth\":0,\"ticks\":\"\"}}}],\"scattermapbox\":[{\"type\":\"scattermapbox\",\"marker\":{\"colorbar\":{\"outlinewidth\":0,\"ticks\":\"\"}}}],\"scatterternary\":[{\"type\":\"scatterternary\",\"marker\":{\"colorbar\":{\"outlinewidth\":0,\"ticks\":\"\"}}}],\"scattercarpet\":[{\"type\":\"scattercarpet\",\"marker\":{\"colorbar\":{\"outlinewidth\":0,\"ticks\":\"\"}}}],\"carpet\":[{\"aaxis\":{\"endlinecolor\":\"#2a3f5f\",\"gridcolor\":\"white\",\"linecolor\":\"white\",\"minorgridcolor\":\"white\",\"startlinecolor\":\"#2a3f5f\"},\"baxis\":{\"endlinecolor\":\"#2a3f5f\",\"gridcolor\":\"white\",\"linecolor\":\"white\",\"minorgridcolor\":\"white\",\"startlinecolor\":\"#2a3f5f\"},\"type\":\"carpet\"}],\"table\":[{\"cells\":{\"fill\":{\"color\":\"#EBF0F8\"},\"line\":{\"color\":\"white\"}},\"header\":{\"fill\":{\"color\":\"#C8D4E3\"},\"line\":{\"color\":\"white\"}},\"type\":\"table\"}],\"barpolar\":[{\"marker\":{\"line\":{\"color\":\"#E5ECF6\",\"width\":0.5},\"pattern\":{\"fillmode\":\"overlay\",\"size\":10,\"solidity\":0.2}},\"type\":\"barpolar\"}],\"pie\":[{\"automargin\":true,\"type\":\"pie\"}]},\"layout\":{\"autotypenumbers\":\"strict\",\"colorway\":[\"#636efa\",\"#EF553B\",\"#00cc96\",\"#ab63fa\",\"#FFA15A\",\"#19d3f3\",\"#FF6692\",\"#B6E880\",\"#FF97FF\",\"#FECB52\"],\"font\":{\"color\":\"#2a3f5f\"},\"hovermode\":\"closest\",\"hoverlabel\":{\"align\":\"left\"},\"paper_bgcolor\":\"white\",\"plot_bgcolor\":\"#E5ECF6\",\"polar\":{\"bgcolor\":\"#E5ECF6\",\"angularaxis\":{\"gridcolor\":\"white\",\"linecolor\":\"white\",\"ticks\":\"\"},\"radialaxis\":{\"gridcolor\":\"white\",\"linecolor\":\"white\",\"ticks\":\"\"}},\"ternary\":{\"bgcolor\":\"#E5ECF6\",\"aaxis\":{\"gridcolor\":\"white\",\"linecolor\":\"white\",\"ticks\":\"\"},\"baxis\":{\"gridcolor\":\"white\",\"linecolor\":\"white\",\"ticks\":\"\"},\"caxis\":{\"gridcolor\":\"white\",\"linecolor\":\"white\",\"ticks\":\"\"}},\"coloraxis\":{\"colorbar\":{\"outlinewidth\":0,\"ticks\":\"\"}},\"colorscale\":{\"sequential\":[[0.0,\"#0d0887\"],[0.1111111111111111,\"#46039f\"],[0.2222222222222222,\"#7201a8\"],[0.3333333333333333,\"#9c179e\"],[0.4444444444444444,\"#bd3786\"],[0.5555555555555556,\"#d8576b\"],[0.6666666666666666,\"#ed7953\"],[0.7777777777777778,\"#fb9f3a\"],[0.8888888888888888,\"#fdca26\"],[1.0,\"#f0f921\"]],\"sequentialminus\":[[0.0,\"#0d0887\"],[0.1111111111111111,\"#46039f\"],[0.2222222222222222,\"#7201a8\"],[0.3333333333333333,\"#9c179e\"],[0.4444444444444444,\"#bd3786\"],[0.5555555555555556,\"#d8576b\"],[0.6666666666666666,\"#ed7953\"],[0.7777777777777778,\"#fb9f3a\"],[0.8888888888888888,\"#fdca26\"],[1.0,\"#f0f921\"]],\"diverging\":[[0,\"#8e0152\"],[0.1,\"#c51b7d\"],[0.2,\"#de77ae\"],[0.3,\"#f1b6da\"],[0.4,\"#fde0ef\"],[0.5,\"#f7f7f7\"],[0.6,\"#e6f5d0\"],[0.7,\"#b8e186\"],[0.8,\"#7fbc41\"],[0.9,\"#4d9221\"],[1,\"#276419\"]]},\"xaxis\":{\"gridcolor\":\"white\",\"linecolor\":\"white\",\"ticks\":\"\",\"title\":{\"standoff\":15},\"zerolinecolor\":\"white\",\"automargin\":true,\"zerolinewidth\":2},\"yaxis\":{\"gridcolor\":\"white\",\"linecolor\":\"white\",\"ticks\":\"\",\"title\":{\"standoff\":15},\"zerolinecolor\":\"white\",\"automargin\":true,\"zerolinewidth\":2},\"scene\":{\"xaxis\":{\"backgroundcolor\":\"#E5ECF6\",\"gridcolor\":\"white\",\"linecolor\":\"white\",\"showbackground\":true,\"ticks\":\"\",\"zerolinecolor\":\"white\",\"gridwidth\":2},\"yaxis\":{\"backgroundcolor\":\"#E5ECF6\",\"gridcolor\":\"white\",\"linecolor\":\"white\",\"showbackground\":true,\"ticks\":\"\",\"zerolinecolor\":\"white\",\"gridwidth\":2},\"zaxis\":{\"backgroundcolor\":\"#E5ECF6\",\"gridcolor\":\"white\",\"linecolor\":\"white\",\"showbackground\":true,\"ticks\":\"\",\"zerolinecolor\":\"white\",\"gridwidth\":2}},\"shapedefaults\":{\"line\":{\"color\":\"#2a3f5f\"}},\"annotationdefaults\":{\"arrowcolor\":\"#2a3f5f\",\"arrowhead\":0,\"arrowwidth\":1},\"geo\":{\"bgcolor\":\"white\",\"landcolor\":\"#E5ECF6\",\"subunitcolor\":\"white\",\"showland\":true,\"showlakes\":true,\"lakecolor\":\"white\"},\"title\":{\"x\":0.05},\"mapbox\":{\"style\":\"light\"}}},\"xaxis\":{\"anchor\":\"y\",\"domain\":[0.0,1.0],\"title\":{\"text\":\"Country\"}},\"yaxis\":{\"anchor\":\"x\",\"domain\":[0.0,1.0],\"title\":{\"text\":\"Type of Event\"}},\"legend\":{\"title\":{\"text\":\"Outcome\"},\"tracegroupgap\":0},\"margin\":{\"t\":60},\"boxmode\":\"group\",\"height\":1800},                        {\"responsive\": true}                    ).then(function(){\n",
       "                            \n",
       "var gd = document.getElementById('bc4f422b-079c-4d28-83cb-d872dab42258');\n",
       "var x = new MutationObserver(function (mutations, observer) {{\n",
       "        var display = window.getComputedStyle(gd).display;\n",
       "        if (!display || display === 'none') {{\n",
       "            console.log([gd, 'removed!']);\n",
       "            Plotly.purge(gd);\n",
       "            observer.disconnect();\n",
       "        }}\n",
       "}});\n",
       "\n",
       "// Listen for the removal of the full notebook cells\n",
       "var notebookContainer = gd.closest('#notebook-container');\n",
       "if (notebookContainer) {{\n",
       "    x.observe(notebookContainer, {childList: true});\n",
       "}}\n",
       "\n",
       "// Listen for the clearing of the current output cell\n",
       "var outputEl = gd.closest('.output');\n",
       "if (outputEl) {{\n",
       "    x.observe(outputEl, {childList: true});\n",
       "}}\n",
       "\n",
       "                        })                };                });            </script>        </div>"
      ]
     },
     "metadata": {},
     "output_type": "display_data"
    }
   ],
   "source": [
    "from plotly.express import strip\n",
    "strip(data_frame=df, y='Type of Event', x='Country', color='Outcome', height=1800)"
   ]
  }
 ],
 "metadata": {
  "kaggle": {
   "accelerator": "none",
   "dataSources": [
    {
     "datasetId": 4393447,
     "sourceId": 7545558,
     "sourceType": "datasetVersion"
    }
   ],
   "dockerImageVersionId": 30646,
   "isGpuEnabled": false,
   "isInternetEnabled": true,
   "language": "python",
   "sourceType": "notebook"
  },
  "kernelspec": {
   "display_name": "Python 3",
   "language": "python",
   "name": "python3"
  },
  "language_info": {
   "codemirror_mode": {
    "name": "ipython",
    "version": 3
   },
   "file_extension": ".py",
   "mimetype": "text/x-python",
   "name": "python",
   "nbconvert_exporter": "python",
   "pygments_lexer": "ipython3",
   "version": "3.10.13"
  },
  "papermill": {
   "default_parameters": {},
   "duration": 10.116849,
   "end_time": "2024-02-03T21:25:13.879985",
   "environment_variables": {},
   "exception": null,
   "input_path": "__notebook__.ipynb",
   "output_path": "__notebook__.ipynb",
   "parameters": {},
   "start_time": "2024-02-03T21:25:03.763136",
   "version": "2.5.0"
  }
 },
 "nbformat": 4,
 "nbformat_minor": 5
}
