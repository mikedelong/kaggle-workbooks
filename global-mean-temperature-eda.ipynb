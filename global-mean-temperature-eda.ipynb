{
 "cells": [
  {
   "cell_type": "code",
   "execution_count": 1,
   "id": "7263a8fd",
   "metadata": {
    "_cell_guid": "b1076dfc-b9ad-4769-8c92-a6c4dae69d19",
    "_uuid": "8f2839f25d086af736a60e9eeb907d3b93b6e0e5",
    "execution": {
     "iopub.execute_input": "2025-02-12T21:17:10.045817Z",
     "iopub.status.busy": "2025-02-12T21:17:10.045441Z",
     "iopub.status.idle": "2025-02-12T21:17:11.427793Z",
     "shell.execute_reply": "2025-02-12T21:17:11.426725Z"
    },
    "papermill": {
     "duration": 1.389851,
     "end_time": "2025-02-12T21:17:11.429511",
     "exception": false,
     "start_time": "2025-02-12T21:17:10.039660",
     "status": "completed"
    },
    "tags": []
   },
   "outputs": [
    {
     "data": {
      "text/html": [
       "<div>\n",
       "<style scoped>\n",
       "    .dataframe tbody tr th:only-of-type {\n",
       "        vertical-align: middle;\n",
       "    }\n",
       "\n",
       "    .dataframe tbody tr th {\n",
       "        vertical-align: top;\n",
       "    }\n",
       "\n",
       "    .dataframe thead th {\n",
       "        text-align: right;\n",
       "    }\n",
       "</style>\n",
       "<table border=\"1\" class=\"dataframe\">\n",
       "  <thead>\n",
       "    <tr style=\"text-align: right;\">\n",
       "      <th></th>\n",
       "      <th>Entity</th>\n",
       "      <th>Code</th>\n",
       "      <th>year</th>\n",
       "      <th>Day</th>\n",
       "      <th>Average surface temperature</th>\n",
       "      <th>Average surface temperature.1</th>\n",
       "    </tr>\n",
       "  </thead>\n",
       "  <tbody>\n",
       "    <tr>\n",
       "      <th>0</th>\n",
       "      <td>Afghanistan</td>\n",
       "      <td>AFG</td>\n",
       "      <td>1940</td>\n",
       "      <td>1940-01-15</td>\n",
       "      <td>-2.032494</td>\n",
       "      <td>11.327695</td>\n",
       "    </tr>\n",
       "    <tr>\n",
       "      <th>1</th>\n",
       "      <td>Afghanistan</td>\n",
       "      <td>AFG</td>\n",
       "      <td>1940</td>\n",
       "      <td>1940-02-15</td>\n",
       "      <td>-0.733503</td>\n",
       "      <td>11.327695</td>\n",
       "    </tr>\n",
       "    <tr>\n",
       "      <th>2</th>\n",
       "      <td>Afghanistan</td>\n",
       "      <td>AFG</td>\n",
       "      <td>1940</td>\n",
       "      <td>1940-03-15</td>\n",
       "      <td>1.999134</td>\n",
       "      <td>11.327695</td>\n",
       "    </tr>\n",
       "    <tr>\n",
       "      <th>3</th>\n",
       "      <td>Afghanistan</td>\n",
       "      <td>AFG</td>\n",
       "      <td>1940</td>\n",
       "      <td>1940-04-15</td>\n",
       "      <td>10.199754</td>\n",
       "      <td>11.327695</td>\n",
       "    </tr>\n",
       "    <tr>\n",
       "      <th>4</th>\n",
       "      <td>Afghanistan</td>\n",
       "      <td>AFG</td>\n",
       "      <td>1940</td>\n",
       "      <td>1940-05-15</td>\n",
       "      <td>17.942135</td>\n",
       "      <td>11.327695</td>\n",
       "    </tr>\n",
       "  </tbody>\n",
       "</table>\n",
       "</div>"
      ],
      "text/plain": [
       "        Entity Code  year        Day  Average surface temperature  \\\n",
       "0  Afghanistan  AFG  1940 1940-01-15                    -2.032494   \n",
       "1  Afghanistan  AFG  1940 1940-02-15                    -0.733503   \n",
       "2  Afghanistan  AFG  1940 1940-03-15                     1.999134   \n",
       "3  Afghanistan  AFG  1940 1940-04-15                    10.199754   \n",
       "4  Afghanistan  AFG  1940 1940-05-15                    17.942135   \n",
       "\n",
       "   Average surface temperature.1  \n",
       "0                      11.327695  \n",
       "1                      11.327695  \n",
       "2                      11.327695  \n",
       "3                      11.327695  \n",
       "4                      11.327695  "
      ]
     },
     "execution_count": 1,
     "metadata": {},
     "output_type": "execute_result"
    }
   ],
   "source": [
    "import pandas as pd\n",
    "\n",
    "DATA = '/kaggle/input/average-monthly-surface-temperature-1940-2024/average-monthly-surface-temperature.csv'\n",
    "df = pd.read_csv(filepath_or_buffer=DATA, parse_dates=['Day'])\n",
    "df.head()"
   ]
  },
  {
   "cell_type": "markdown",
   "id": "a9a1792f",
   "metadata": {
    "papermill": {
     "duration": 0.003665,
     "end_time": "2025-02-12T21:17:11.437464",
     "exception": false,
     "start_time": "2025-02-12T21:17:11.433799",
     "status": "completed"
    },
    "tags": []
   },
   "source": [
    "This seems like a lot of data. How much data do we have?"
   ]
  },
  {
   "cell_type": "code",
   "execution_count": 2,
   "id": "343d851e",
   "metadata": {
    "execution": {
     "iopub.execute_input": "2025-02-12T21:17:11.446501Z",
     "iopub.status.busy": "2025-02-12T21:17:11.446149Z",
     "iopub.status.idle": "2025-02-12T21:17:11.451982Z",
     "shell.execute_reply": "2025-02-12T21:17:11.451020Z"
    },
    "papermill": {
     "duration": 0.012297,
     "end_time": "2025-02-12T21:17:11.453610",
     "exception": false,
     "start_time": "2025-02-12T21:17:11.441313",
     "status": "completed"
    },
    "tags": []
   },
   "outputs": [
    {
     "data": {
      "text/plain": [
       "(198900, 6)"
      ]
     },
     "execution_count": 2,
     "metadata": {},
     "output_type": "execute_result"
    }
   ],
   "source": [
    "df.shape"
   ]
  },
  {
   "cell_type": "markdown",
   "id": "06ce399d",
   "metadata": {
    "papermill": {
     "duration": 0.003803,
     "end_time": "2025-02-12T21:17:11.461603",
     "exception": false,
     "start_time": "2025-02-12T21:17:11.457800",
     "status": "completed"
    },
    "tags": []
   },
   "source": [
    "Wow that's a lot of data. It looks like the last column is the annual average, taken from the monthly readings, for each country and year. Let's test that hypothesis."
   ]
  },
  {
   "cell_type": "code",
   "execution_count": 3,
   "id": "b98dc758",
   "metadata": {
    "execution": {
     "iopub.execute_input": "2025-02-12T21:17:11.470791Z",
     "iopub.status.busy": "2025-02-12T21:17:11.470444Z",
     "iopub.status.idle": "2025-02-12T21:17:11.499269Z",
     "shell.execute_reply": "2025-02-12T21:17:11.498308Z"
    },
    "papermill": {
     "duration": 0.035367,
     "end_time": "2025-02-12T21:17:11.500884",
     "exception": false,
     "start_time": "2025-02-12T21:17:11.465517",
     "status": "completed"
    },
    "tags": []
   },
   "outputs": [
    {
     "data": {
      "text/plain": [
       "(195, 85, 16557)"
      ]
     },
     "execution_count": 3,
     "metadata": {},
     "output_type": "execute_result"
    }
   ],
   "source": [
    "df['Entity'].nunique(), df['year'].nunique(), df['Average surface temperature.1'].nunique()"
   ]
  },
  {
   "cell_type": "markdown",
   "id": "534144c5",
   "metadata": {
    "papermill": {
     "duration": 0.003981,
     "end_time": "2025-02-12T21:17:11.508977",
     "exception": false,
     "start_time": "2025-02-12T21:17:11.504996",
     "status": "completed"
    },
    "tags": []
   },
   "source": [
    "We have 85 years and 195 countries, and 16557 unique temperature readings. If the final column is the annual average, then if we multiply the number of countries by the number of years we should get roughly the number of unique temperature readings."
   ]
  },
  {
   "cell_type": "code",
   "execution_count": 4,
   "id": "6876d547",
   "metadata": {
    "execution": {
     "iopub.execute_input": "2025-02-12T21:17:11.518398Z",
     "iopub.status.busy": "2025-02-12T21:17:11.518025Z",
     "iopub.status.idle": "2025-02-12T21:17:11.523664Z",
     "shell.execute_reply": "2025-02-12T21:17:11.522699Z"
    },
    "papermill": {
     "duration": 0.01232,
     "end_time": "2025-02-12T21:17:11.525356",
     "exception": false,
     "start_time": "2025-02-12T21:17:11.513036",
     "status": "completed"
    },
    "tags": []
   },
   "outputs": [
    {
     "data": {
      "text/plain": [
       "16575"
      ]
     },
     "execution_count": 4,
     "metadata": {},
     "output_type": "execute_result"
    }
   ],
   "source": [
    "85 * 195"
   ]
  },
  {
   "cell_type": "markdown",
   "id": "df62f70d",
   "metadata": {
    "papermill": {
     "duration": 0.004039,
     "end_time": "2025-02-12T21:17:11.533792",
     "exception": false,
     "start_time": "2025-02-12T21:17:11.529753",
     "status": "completed"
    },
    "tags": []
   },
   "source": [
    "What does our world annual average look like?"
   ]
  },
  {
   "cell_type": "code",
   "execution_count": 5,
   "id": "a4fdc021",
   "metadata": {
    "execution": {
     "iopub.execute_input": "2025-02-12T21:17:11.543556Z",
     "iopub.status.busy": "2025-02-12T21:17:11.543210Z",
     "iopub.status.idle": "2025-02-12T21:17:18.278155Z",
     "shell.execute_reply": "2025-02-12T21:17:18.277003Z"
    },
    "papermill": {
     "duration": 6.741825,
     "end_time": "2025-02-12T21:17:18.279888",
     "exception": false,
     "start_time": "2025-02-12T21:17:11.538063",
     "status": "completed"
    },
    "tags": []
   },
   "outputs": [
    {
     "data": {
      "text/html": [
       "        <script type=\"text/javascript\">\n",
       "        window.PlotlyConfig = {MathJaxConfig: 'local'};\n",
       "        if (window.MathJax && window.MathJax.Hub && window.MathJax.Hub.Config) {window.MathJax.Hub.Config({SVG: {font: \"STIX-Web\"}});}\n",
       "        if (typeof require !== 'undefined') {\n",
       "        require.undef(\"plotly\");\n",
       "        requirejs.config({\n",
       "            paths: {\n",
       "                'plotly': ['https://cdn.plot.ly/plotly-2.35.2.min']\n",
       "            }\n",
       "        });\n",
       "        require(['plotly'], function(Plotly) {\n",
       "            window._Plotly = Plotly;\n",
       "        });\n",
       "        }\n",
       "        </script>\n",
       "        "
      ]
     },
     "metadata": {},
     "output_type": "display_data"
    },
    {
     "data": {
      "text/html": [
       "<iframe\n",
       "    scrolling=\"no\"\n",
       "    width=\"100%\"\n",
       "    height=\"545px\"\n",
       "    src=\"iframe_figures/figure_5.html\"\n",
       "    frameborder=\"0\"\n",
       "    allowfullscreen\n",
       "></iframe>\n"
      ]
     },
     "metadata": {},
     "output_type": "display_data"
    }
   ],
   "source": [
    "from plotly import express\n",
    "from plotly.offline import init_notebook_mode\n",
    "\n",
    "init_notebook_mode(connected=True)\n",
    "express.scatter(data_frame=df[df['Entity'] == 'World'].drop(columns=['Code', 'Day', 'Average surface temperature']).drop_duplicates()\n",
    ", x='year', y='Average surface temperature.1', trendline='lowess').show(renderer='iframe_connected',)"
   ]
  },
  {
   "cell_type": "markdown",
   "id": "d3d46ec2",
   "metadata": {
    "papermill": {
     "duration": 0.004078,
     "end_time": "2025-02-12T21:17:18.288776",
     "exception": false,
     "start_time": "2025-02-12T21:17:18.284698",
     "status": "completed"
    },
    "tags": []
   },
   "source": [
    "What do we see? We see that world monthly average temperatures have generally trended upward over the course of the period of interest."
   ]
  },
  {
   "cell_type": "code",
   "execution_count": 6,
   "id": "1a871085",
   "metadata": {
    "execution": {
     "iopub.execute_input": "2025-02-12T21:17:18.299149Z",
     "iopub.status.busy": "2025-02-12T21:17:18.298548Z",
     "iopub.status.idle": "2025-02-12T21:17:21.053918Z",
     "shell.execute_reply": "2025-02-12T21:17:21.052870Z"
    },
    "papermill": {
     "duration": 2.762705,
     "end_time": "2025-02-12T21:17:21.055851",
     "exception": false,
     "start_time": "2025-02-12T21:17:18.293146",
     "status": "completed"
    },
    "tags": []
   },
   "outputs": [
    {
     "data": {
      "text/html": [
       "<iframe\n",
       "    scrolling=\"no\"\n",
       "    width=\"100%\"\n",
       "    height=\"820\"\n",
       "    src=\"iframe_figures/figure_6.html\"\n",
       "    frameborder=\"0\"\n",
       "    allowfullscreen\n",
       "></iframe>\n"
      ]
     },
     "metadata": {},
     "output_type": "display_data"
    }
   ],
   "source": [
    "express.scatter(data_frame=df[df['Entity'] != 'World'].drop(columns=['Code', 'Day', 'Average surface temperature'], ).drop_duplicates()\n",
    ", x='year', y='Average surface temperature.1',  color='Entity', height=800, trendline='lowess',).show(renderer='iframe_connected',)"
   ]
  },
  {
   "cell_type": "markdown",
   "id": "9c01d5b5",
   "metadata": {
    "papermill": {
     "duration": 0.004188,
     "end_time": "2025-02-12T21:17:21.064802",
     "exception": false,
     "start_time": "2025-02-12T21:17:21.060614",
     "status": "completed"
    },
    "tags": []
   },
   "source": [
    "What do we see? It looks like all countries have average temperatures that have trended upward over the period of interest."
   ]
  },
  {
   "cell_type": "markdown",
   "id": "6110dd36",
   "metadata": {
    "papermill": {
     "duration": 0.004107,
     "end_time": "2025-02-12T21:17:21.073349",
     "exception": false,
     "start_time": "2025-02-12T21:17:21.069242",
     "status": "completed"
    },
    "tags": []
   },
   "source": [
    "What countries are at the extremes? We can measure extremes in terms of both mean and variance."
   ]
  },
  {
   "cell_type": "code",
   "execution_count": 7,
   "id": "bc579552",
   "metadata": {
    "execution": {
     "iopub.execute_input": "2025-02-12T21:17:21.083626Z",
     "iopub.status.busy": "2025-02-12T21:17:21.083260Z",
     "iopub.status.idle": "2025-02-12T21:17:21.149382Z",
     "shell.execute_reply": "2025-02-12T21:17:21.148494Z"
    },
    "papermill": {
     "duration": 0.073572,
     "end_time": "2025-02-12T21:17:21.151282",
     "exception": false,
     "start_time": "2025-02-12T21:17:21.077710",
     "status": "completed"
    },
    "tags": []
   },
   "outputs": [],
   "source": [
    "scatter_df = df[['Entity', 'year', 'Average surface temperature.1']].drop_duplicates().groupby(by=['Entity',]).agg({'mean', 'std'}).reset_index().drop(columns=[('year', 'mean'), ('year', 'std')])\n",
    "scatter_df.columns = ['Entity', 'mean', 'std']"
   ]
  },
  {
   "cell_type": "code",
   "execution_count": 8,
   "id": "182f3121",
   "metadata": {
    "execution": {
     "iopub.execute_input": "2025-02-12T21:17:21.161730Z",
     "iopub.status.busy": "2025-02-12T21:17:21.161379Z",
     "iopub.status.idle": "2025-02-12T21:17:21.810764Z",
     "shell.execute_reply": "2025-02-12T21:17:21.809659Z"
    },
    "papermill": {
     "duration": 0.65684,
     "end_time": "2025-02-12T21:17:21.812813",
     "exception": false,
     "start_time": "2025-02-12T21:17:21.155973",
     "status": "completed"
    },
    "tags": []
   },
   "outputs": [
    {
     "data": {
      "text/html": [
       "<iframe\n",
       "    scrolling=\"no\"\n",
       "    width=\"100%\"\n",
       "    height=\"820\"\n",
       "    src=\"iframe_figures/figure_8.html\"\n",
       "    frameborder=\"0\"\n",
       "    allowfullscreen\n",
       "></iframe>\n"
      ]
     },
     "metadata": {},
     "output_type": "display_data"
    }
   ],
   "source": [
    "express.scatter(data_frame=scatter_df, x='mean', y='std', color='Entity', height=800).show(renderer='iframe_connected',) "
   ]
  },
  {
   "cell_type": "markdown",
   "id": "62f9b419",
   "metadata": {
    "papermill": {
     "duration": 0.007807,
     "end_time": "2025-02-12T21:17:21.829107",
     "exception": false,
     "start_time": "2025-02-12T21:17:21.821300",
     "status": "completed"
    },
    "tags": []
   },
   "source": [
    "What do we see? We see that a lot of countries cluster together in the lower right corner, but we see that we also have some outliers. Let's pick out some examples and plot their curves together."
   ]
  },
  {
   "cell_type": "code",
   "execution_count": 9,
   "id": "717a3a9e",
   "metadata": {
    "execution": {
     "iopub.execute_input": "2025-02-12T21:17:21.847110Z",
     "iopub.status.busy": "2025-02-12T21:17:21.846684Z",
     "iopub.status.idle": "2025-02-12T21:17:21.996892Z",
     "shell.execute_reply": "2025-02-12T21:17:21.995789Z"
    },
    "papermill": {
     "duration": 0.161666,
     "end_time": "2025-02-12T21:17:21.999058",
     "exception": false,
     "start_time": "2025-02-12T21:17:21.837392",
     "status": "completed"
    },
    "tags": []
   },
   "outputs": [
    {
     "data": {
      "text/html": [
       "<iframe\n",
       "    scrolling=\"no\"\n",
       "    width=\"100%\"\n",
       "    height=\"545px\"\n",
       "    src=\"iframe_figures/figure_9.html\"\n",
       "    frameborder=\"0\"\n",
       "    allowfullscreen\n",
       "></iframe>\n"
      ]
     },
     "metadata": {},
     "output_type": "display_data"
    }
   ],
   "source": [
    "entities = {'World', 'Greenland', 'Norway', 'Samoa', 'Saudi Arabia', 'Belarus', 'Falkland Islands'}\n",
    "express.scatter(data_frame=df[df['Entity'].isin(entities)].drop(columns=['Code', 'Day', 'Average surface temperature']).drop_duplicates()\n",
    ", x='year', y='Average surface temperature.1', trendline='lowess', color='Entity').show(renderer='iframe_connected',)"
   ]
  },
  {
   "cell_type": "markdown",
   "id": "b660d337",
   "metadata": {
    "papermill": {
     "duration": 0.007726,
     "end_time": "2025-02-12T21:17:22.015390",
     "exception": false,
     "start_time": "2025-02-12T21:17:22.007664",
     "status": "completed"
    },
    "tags": []
   },
   "source": [
    "What do we see? We see that World temperatures have low variability, probably because they're an average, but the country temperatures tend to have quite a bit of variability. "
   ]
  }
 ],
 "metadata": {
  "kaggle": {
   "accelerator": "none",
   "dataSources": [
    {
     "datasetId": 6550473,
     "sourceId": 10584868,
     "sourceType": "datasetVersion"
    }
   ],
   "dockerImageVersionId": 30886,
   "isGpuEnabled": false,
   "isInternetEnabled": true,
   "language": "python",
   "sourceType": "notebook"
  },
  "kernelspec": {
   "display_name": "Python 3",
   "language": "python",
   "name": "python3"
  },
  "language_info": {
   "codemirror_mode": {
    "name": "ipython",
    "version": 3
   },
   "file_extension": ".py",
   "mimetype": "text/x-python",
   "name": "python",
   "nbconvert_exporter": "python",
   "pygments_lexer": "ipython3",
   "version": "3.10.12"
  },
  "papermill": {
   "default_parameters": {},
   "duration": 16.395442,
   "end_time": "2025-02-12T21:17:22.942866",
   "environment_variables": {},
   "exception": null,
   "input_path": "__notebook__.ipynb",
   "output_path": "__notebook__.ipynb",
   "parameters": {},
   "start_time": "2025-02-12T21:17:06.547424",
   "version": "2.6.0"
  }
 },
 "nbformat": 4,
 "nbformat_minor": 5
}
