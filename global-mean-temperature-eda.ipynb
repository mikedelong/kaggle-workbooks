{
 "cells": [
  {
   "cell_type": "code",
   "execution_count": 1,
   "id": "cb0090cf",
   "metadata": {
    "_cell_guid": "b1076dfc-b9ad-4769-8c92-a6c4dae69d19",
    "_uuid": "8f2839f25d086af736a60e9eeb907d3b93b6e0e5",
    "execution": {
     "iopub.execute_input": "2025-02-12T21:18:54.801351Z",
     "iopub.status.busy": "2025-02-12T21:18:54.800828Z",
     "iopub.status.idle": "2025-02-12T21:18:56.156666Z",
     "shell.execute_reply": "2025-02-12T21:18:56.155508Z"
    },
    "papermill": {
     "duration": 1.363992,
     "end_time": "2025-02-12T21:18:56.158666",
     "exception": false,
     "start_time": "2025-02-12T21:18:54.794674",
     "status": "completed"
    },
    "tags": []
   },
   "outputs": [
    {
     "data": {
      "text/html": [
       "<div>\n",
       "<style scoped>\n",
       "    .dataframe tbody tr th:only-of-type {\n",
       "        vertical-align: middle;\n",
       "    }\n",
       "\n",
       "    .dataframe tbody tr th {\n",
       "        vertical-align: top;\n",
       "    }\n",
       "\n",
       "    .dataframe thead th {\n",
       "        text-align: right;\n",
       "    }\n",
       "</style>\n",
       "<table border=\"1\" class=\"dataframe\">\n",
       "  <thead>\n",
       "    <tr style=\"text-align: right;\">\n",
       "      <th></th>\n",
       "      <th>Entity</th>\n",
       "      <th>Code</th>\n",
       "      <th>year</th>\n",
       "      <th>Day</th>\n",
       "      <th>Average surface temperature</th>\n",
       "      <th>Average surface temperature.1</th>\n",
       "    </tr>\n",
       "  </thead>\n",
       "  <tbody>\n",
       "    <tr>\n",
       "      <th>0</th>\n",
       "      <td>Afghanistan</td>\n",
       "      <td>AFG</td>\n",
       "      <td>1940</td>\n",
       "      <td>1940-01-15</td>\n",
       "      <td>-2.032494</td>\n",
       "      <td>11.327695</td>\n",
       "    </tr>\n",
       "    <tr>\n",
       "      <th>1</th>\n",
       "      <td>Afghanistan</td>\n",
       "      <td>AFG</td>\n",
       "      <td>1940</td>\n",
       "      <td>1940-02-15</td>\n",
       "      <td>-0.733503</td>\n",
       "      <td>11.327695</td>\n",
       "    </tr>\n",
       "    <tr>\n",
       "      <th>2</th>\n",
       "      <td>Afghanistan</td>\n",
       "      <td>AFG</td>\n",
       "      <td>1940</td>\n",
       "      <td>1940-03-15</td>\n",
       "      <td>1.999134</td>\n",
       "      <td>11.327695</td>\n",
       "    </tr>\n",
       "    <tr>\n",
       "      <th>3</th>\n",
       "      <td>Afghanistan</td>\n",
       "      <td>AFG</td>\n",
       "      <td>1940</td>\n",
       "      <td>1940-04-15</td>\n",
       "      <td>10.199754</td>\n",
       "      <td>11.327695</td>\n",
       "    </tr>\n",
       "    <tr>\n",
       "      <th>4</th>\n",
       "      <td>Afghanistan</td>\n",
       "      <td>AFG</td>\n",
       "      <td>1940</td>\n",
       "      <td>1940-05-15</td>\n",
       "      <td>17.942135</td>\n",
       "      <td>11.327695</td>\n",
       "    </tr>\n",
       "  </tbody>\n",
       "</table>\n",
       "</div>"
      ],
      "text/plain": [
       "        Entity Code  year        Day  Average surface temperature  \\\n",
       "0  Afghanistan  AFG  1940 1940-01-15                    -2.032494   \n",
       "1  Afghanistan  AFG  1940 1940-02-15                    -0.733503   \n",
       "2  Afghanistan  AFG  1940 1940-03-15                     1.999134   \n",
       "3  Afghanistan  AFG  1940 1940-04-15                    10.199754   \n",
       "4  Afghanistan  AFG  1940 1940-05-15                    17.942135   \n",
       "\n",
       "   Average surface temperature.1  \n",
       "0                      11.327695  \n",
       "1                      11.327695  \n",
       "2                      11.327695  \n",
       "3                      11.327695  \n",
       "4                      11.327695  "
      ]
     },
     "execution_count": 1,
     "metadata": {},
     "output_type": "execute_result"
    }
   ],
   "source": [
    "import pandas as pd\n",
    "\n",
    "DATA = '/kaggle/input/average-monthly-surface-temperature-1940-2024/average-monthly-surface-temperature.csv'\n",
    "df = pd.read_csv(filepath_or_buffer=DATA, parse_dates=['Day'])\n",
    "df.head()"
   ]
  },
  {
   "cell_type": "markdown",
   "id": "faf1f0cc",
   "metadata": {
    "papermill": {
     "duration": 0.003993,
     "end_time": "2025-02-12T21:18:56.167422",
     "exception": false,
     "start_time": "2025-02-12T21:18:56.163429",
     "status": "completed"
    },
    "tags": []
   },
   "source": [
    "This seems like a lot of data. How much data do we have?"
   ]
  },
  {
   "cell_type": "code",
   "execution_count": 2,
   "id": "3bf107d6",
   "metadata": {
    "execution": {
     "iopub.execute_input": "2025-02-12T21:18:56.177143Z",
     "iopub.status.busy": "2025-02-12T21:18:56.176778Z",
     "iopub.status.idle": "2025-02-12T21:18:56.183209Z",
     "shell.execute_reply": "2025-02-12T21:18:56.181841Z"
    },
    "papermill": {
     "duration": 0.01349,
     "end_time": "2025-02-12T21:18:56.185068",
     "exception": false,
     "start_time": "2025-02-12T21:18:56.171578",
     "status": "completed"
    },
    "tags": []
   },
   "outputs": [
    {
     "data": {
      "text/plain": [
       "(198900, 6)"
      ]
     },
     "execution_count": 2,
     "metadata": {},
     "output_type": "execute_result"
    }
   ],
   "source": [
    "df.shape"
   ]
  },
  {
   "cell_type": "markdown",
   "id": "72e434f6",
   "metadata": {
    "papermill": {
     "duration": 0.004095,
     "end_time": "2025-02-12T21:18:56.193827",
     "exception": false,
     "start_time": "2025-02-12T21:18:56.189732",
     "status": "completed"
    },
    "tags": []
   },
   "source": [
    "Wow that's a lot of data. It looks like the last column is the annual average, taken from the monthly readings, for each country and year. Let's test that hypothesis."
   ]
  },
  {
   "cell_type": "code",
   "execution_count": 3,
   "id": "3348fdfb",
   "metadata": {
    "execution": {
     "iopub.execute_input": "2025-02-12T21:18:56.204571Z",
     "iopub.status.busy": "2025-02-12T21:18:56.204175Z",
     "iopub.status.idle": "2025-02-12T21:18:56.234734Z",
     "shell.execute_reply": "2025-02-12T21:18:56.233271Z"
    },
    "papermill": {
     "duration": 0.038488,
     "end_time": "2025-02-12T21:18:56.236907",
     "exception": false,
     "start_time": "2025-02-12T21:18:56.198419",
     "status": "completed"
    },
    "tags": []
   },
   "outputs": [
    {
     "data": {
      "text/plain": [
       "(195, 85, 16557)"
      ]
     },
     "execution_count": 3,
     "metadata": {},
     "output_type": "execute_result"
    }
   ],
   "source": [
    "df['Entity'].nunique(), df['year'].nunique(), df['Average surface temperature.1'].nunique()"
   ]
  },
  {
   "cell_type": "markdown",
   "id": "1a1278b9",
   "metadata": {
    "papermill": {
     "duration": 0.004445,
     "end_time": "2025-02-12T21:18:56.246068",
     "exception": false,
     "start_time": "2025-02-12T21:18:56.241623",
     "status": "completed"
    },
    "tags": []
   },
   "source": [
    "We have 85 years and 195 countries, and 16557 unique temperature readings. If the final column is the annual average, then if we multiply the number of countries by the number of years we should get roughly the number of unique temperature readings."
   ]
  },
  {
   "cell_type": "code",
   "execution_count": 4,
   "id": "1d1d3b2e",
   "metadata": {
    "execution": {
     "iopub.execute_input": "2025-02-12T21:18:56.256680Z",
     "iopub.status.busy": "2025-02-12T21:18:56.256202Z",
     "iopub.status.idle": "2025-02-12T21:18:56.262171Z",
     "shell.execute_reply": "2025-02-12T21:18:56.261162Z"
    },
    "papermill": {
     "duration": 0.013308,
     "end_time": "2025-02-12T21:18:56.263934",
     "exception": false,
     "start_time": "2025-02-12T21:18:56.250626",
     "status": "completed"
    },
    "tags": []
   },
   "outputs": [
    {
     "data": {
      "text/plain": [
       "16575"
      ]
     },
     "execution_count": 4,
     "metadata": {},
     "output_type": "execute_result"
    }
   ],
   "source": [
    "85 * 195"
   ]
  },
  {
   "cell_type": "markdown",
   "id": "183c1675",
   "metadata": {
    "papermill": {
     "duration": 0.004301,
     "end_time": "2025-02-12T21:18:56.273033",
     "exception": false,
     "start_time": "2025-02-12T21:18:56.268732",
     "status": "completed"
    },
    "tags": []
   },
   "source": [
    "What does our world annual average look like?"
   ]
  },
  {
   "cell_type": "code",
   "execution_count": 5,
   "id": "961b3740",
   "metadata": {
    "execution": {
     "iopub.execute_input": "2025-02-12T21:18:56.284039Z",
     "iopub.status.busy": "2025-02-12T21:18:56.283667Z",
     "iopub.status.idle": "2025-02-12T21:19:03.361781Z",
     "shell.execute_reply": "2025-02-12T21:19:03.360339Z"
    },
    "papermill": {
     "duration": 7.085868,
     "end_time": "2025-02-12T21:19:03.363891",
     "exception": false,
     "start_time": "2025-02-12T21:18:56.278023",
     "status": "completed"
    },
    "tags": []
   },
   "outputs": [
    {
     "data": {
      "text/html": [
       "        <script type=\"text/javascript\">\n",
       "        window.PlotlyConfig = {MathJaxConfig: 'local'};\n",
       "        if (window.MathJax && window.MathJax.Hub && window.MathJax.Hub.Config) {window.MathJax.Hub.Config({SVG: {font: \"STIX-Web\"}});}\n",
       "        if (typeof require !== 'undefined') {\n",
       "        require.undef(\"plotly\");\n",
       "        requirejs.config({\n",
       "            paths: {\n",
       "                'plotly': ['https://cdn.plot.ly/plotly-2.35.2.min']\n",
       "            }\n",
       "        });\n",
       "        require(['plotly'], function(Plotly) {\n",
       "            window._Plotly = Plotly;\n",
       "        });\n",
       "        }\n",
       "        </script>\n",
       "        "
      ]
     },
     "metadata": {},
     "output_type": "display_data"
    },
    {
     "data": {
      "text/html": [
       "<iframe\n",
       "    scrolling=\"no\"\n",
       "    width=\"100%\"\n",
       "    height=\"545px\"\n",
       "    src=\"iframe_figures/figure_5.html\"\n",
       "    frameborder=\"0\"\n",
       "    allowfullscreen\n",
       "></iframe>\n"
      ]
     },
     "metadata": {},
     "output_type": "display_data"
    }
   ],
   "source": [
    "from plotly import express\n",
    "from plotly.offline import init_notebook_mode\n",
    "\n",
    "init_notebook_mode(connected=True)\n",
    "express.scatter(data_frame=df[df['Entity'] == 'World'].drop(columns=['Code', 'Day', 'Average surface temperature']).drop_duplicates()\n",
    ", x='year', y='Average surface temperature.1', trendline='lowess').show(renderer='iframe_connected',)"
   ]
  },
  {
   "cell_type": "markdown",
   "id": "dada49bf",
   "metadata": {
    "papermill": {
     "duration": 0.004619,
     "end_time": "2025-02-12T21:19:03.374751",
     "exception": false,
     "start_time": "2025-02-12T21:19:03.370132",
     "status": "completed"
    },
    "tags": []
   },
   "source": [
    "What do we see? We see that world monthly average temperatures have generally trended upward over the course of the period of interest."
   ]
  },
  {
   "cell_type": "code",
   "execution_count": 6,
   "id": "b3e72ec2",
   "metadata": {
    "execution": {
     "iopub.execute_input": "2025-02-12T21:19:03.386447Z",
     "iopub.status.busy": "2025-02-12T21:19:03.385817Z",
     "iopub.status.idle": "2025-02-12T21:19:06.369823Z",
     "shell.execute_reply": "2025-02-12T21:19:06.368511Z"
    },
    "papermill": {
     "duration": 2.992352,
     "end_time": "2025-02-12T21:19:06.371974",
     "exception": false,
     "start_time": "2025-02-12T21:19:03.379622",
     "status": "completed"
    },
    "tags": []
   },
   "outputs": [
    {
     "data": {
      "text/html": [
       "<iframe\n",
       "    scrolling=\"no\"\n",
       "    width=\"100%\"\n",
       "    height=\"820\"\n",
       "    src=\"iframe_figures/figure_6.html\"\n",
       "    frameborder=\"0\"\n",
       "    allowfullscreen\n",
       "></iframe>\n"
      ]
     },
     "metadata": {},
     "output_type": "display_data"
    }
   ],
   "source": [
    "express.scatter(data_frame=df[df['Entity'] != 'World'].drop(columns=['Code', 'Day', 'Average surface temperature'], ).drop_duplicates()\n",
    ", x='year', y='Average surface temperature.1',  color='Entity', height=800, trendline='lowess',).show(renderer='iframe_connected',)"
   ]
  },
  {
   "cell_type": "markdown",
   "id": "91542b58",
   "metadata": {
    "papermill": {
     "duration": 0.004533,
     "end_time": "2025-02-12T21:19:06.381825",
     "exception": false,
     "start_time": "2025-02-12T21:19:06.377292",
     "status": "completed"
    },
    "tags": []
   },
   "source": [
    "What do we see? It looks like all countries have average temperatures that have trended upward over the period of interest."
   ]
  },
  {
   "cell_type": "markdown",
   "id": "e43a6983",
   "metadata": {
    "papermill": {
     "duration": 0.004427,
     "end_time": "2025-02-12T21:19:06.391137",
     "exception": false,
     "start_time": "2025-02-12T21:19:06.386710",
     "status": "completed"
    },
    "tags": []
   },
   "source": [
    "What countries are at the extremes? We can measure extremes in terms of both mean and variance."
   ]
  },
  {
   "cell_type": "code",
   "execution_count": 7,
   "id": "e01aa95e",
   "metadata": {
    "execution": {
     "iopub.execute_input": "2025-02-12T21:19:06.402347Z",
     "iopub.status.busy": "2025-02-12T21:19:06.401923Z",
     "iopub.status.idle": "2025-02-12T21:19:06.469884Z",
     "shell.execute_reply": "2025-02-12T21:19:06.468282Z"
    },
    "papermill": {
     "duration": 0.076261,
     "end_time": "2025-02-12T21:19:06.472166",
     "exception": false,
     "start_time": "2025-02-12T21:19:06.395905",
     "status": "completed"
    },
    "tags": []
   },
   "outputs": [],
   "source": [
    "scatter_df = df[['Entity', 'year', 'Average surface temperature.1']].drop_duplicates().groupby(by=['Entity',]).agg({'mean', 'std'}).reset_index().drop(columns=[('year', 'mean'), ('year', 'std')])\n",
    "scatter_df.columns = ['Entity', 'mean', 'std']"
   ]
  },
  {
   "cell_type": "code",
   "execution_count": 8,
   "id": "dbd00e64",
   "metadata": {
    "execution": {
     "iopub.execute_input": "2025-02-12T21:19:06.483949Z",
     "iopub.status.busy": "2025-02-12T21:19:06.483390Z",
     "iopub.status.idle": "2025-02-12T21:19:07.119535Z",
     "shell.execute_reply": "2025-02-12T21:19:07.118461Z"
    },
    "papermill": {
     "duration": 0.643941,
     "end_time": "2025-02-12T21:19:07.121319",
     "exception": false,
     "start_time": "2025-02-12T21:19:06.477378",
     "status": "completed"
    },
    "tags": []
   },
   "outputs": [
    {
     "data": {
      "text/html": [
       "<iframe\n",
       "    scrolling=\"no\"\n",
       "    width=\"100%\"\n",
       "    height=\"820\"\n",
       "    src=\"iframe_figures/figure_8.html\"\n",
       "    frameborder=\"0\"\n",
       "    allowfullscreen\n",
       "></iframe>\n"
      ]
     },
     "metadata": {},
     "output_type": "display_data"
    }
   ],
   "source": [
    "express.scatter(data_frame=scatter_df, x='mean', y='std', color='Entity', height=800).show(renderer='iframe_connected',) "
   ]
  },
  {
   "cell_type": "markdown",
   "id": "6207bd9e",
   "metadata": {
    "papermill": {
     "duration": 0.004898,
     "end_time": "2025-02-12T21:19:07.131569",
     "exception": false,
     "start_time": "2025-02-12T21:19:07.126671",
     "status": "completed"
    },
    "tags": []
   },
   "source": [
    "What do we see? We see that a lot of countries cluster together in the lower right corner, but we see that we also have some outliers. Let's pick out some examples and plot their curves together."
   ]
  },
  {
   "cell_type": "code",
   "execution_count": 9,
   "id": "b3f440fa",
   "metadata": {
    "execution": {
     "iopub.execute_input": "2025-02-12T21:19:07.143846Z",
     "iopub.status.busy": "2025-02-12T21:19:07.143436Z",
     "iopub.status.idle": "2025-02-12T21:19:07.308106Z",
     "shell.execute_reply": "2025-02-12T21:19:07.306558Z"
    },
    "papermill": {
     "duration": 0.173571,
     "end_time": "2025-02-12T21:19:07.310216",
     "exception": false,
     "start_time": "2025-02-12T21:19:07.136645",
     "status": "completed"
    },
    "tags": []
   },
   "outputs": [
    {
     "data": {
      "text/html": [
       "<iframe\n",
       "    scrolling=\"no\"\n",
       "    width=\"100%\"\n",
       "    height=\"545px\"\n",
       "    src=\"iframe_figures/figure_9.html\"\n",
       "    frameborder=\"0\"\n",
       "    allowfullscreen\n",
       "></iframe>\n"
      ]
     },
     "metadata": {},
     "output_type": "display_data"
    }
   ],
   "source": [
    "entities = {'World', 'Greenland', 'Norway', 'Samoa', 'Saudi Arabia', 'Belarus', 'Falkland Islands'}\n",
    "express.scatter(data_frame=df[df['Entity'].isin(entities)].drop(columns=['Code', 'Day', 'Average surface temperature']).drop_duplicates()\n",
    ", x='year', y='Average surface temperature.1', trendline='lowess', color='Entity').show(renderer='iframe_connected',)"
   ]
  },
  {
   "cell_type": "markdown",
   "id": "014af72c",
   "metadata": {
    "papermill": {
     "duration": 0.004884,
     "end_time": "2025-02-12T21:19:07.320548",
     "exception": false,
     "start_time": "2025-02-12T21:19:07.315664",
     "status": "completed"
    },
    "tags": []
   },
   "source": [
    "What do we see? We see that World temperatures have low variability, probably because they're an average, but the country temperatures tend to have quite a bit of variability. "
   ]
  }
 ],
 "metadata": {
  "kaggle": {
   "accelerator": "none",
   "dataSources": [
    {
     "datasetId": 6550473,
     "sourceId": 10584868,
     "sourceType": "datasetVersion"
    }
   ],
   "dockerImageVersionId": 30886,
   "isGpuEnabled": false,
   "isInternetEnabled": true,
   "language": "python",
   "sourceType": "notebook"
  },
  "kernelspec": {
   "display_name": "Python 3",
   "language": "python",
   "name": "python3"
  },
  "language_info": {
   "codemirror_mode": {
    "name": "ipython",
    "version": 3
   },
   "file_extension": ".py",
   "mimetype": "text/x-python",
   "name": "python",
   "nbconvert_exporter": "python",
   "pygments_lexer": "ipython3",
   "version": "3.10.12"
  },
  "papermill": {
   "default_parameters": {},
   "duration": 16.485381,
   "end_time": "2025-02-12T21:19:08.149140",
   "environment_variables": {},
   "exception": null,
   "input_path": "__notebook__.ipynb",
   "output_path": "__notebook__.ipynb",
   "parameters": {},
   "start_time": "2025-02-12T21:18:51.663759",
   "version": "2.6.0"
  }
 },
 "nbformat": 4,
 "nbformat_minor": 5
}
