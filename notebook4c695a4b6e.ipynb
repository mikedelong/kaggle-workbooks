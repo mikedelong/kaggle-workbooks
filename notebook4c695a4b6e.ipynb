{
 "cells": [
  {
   "cell_type": "code",
   "execution_count": 1,
   "id": "4a56e738",
   "metadata": {
    "_cell_guid": "b1076dfc-b9ad-4769-8c92-a6c4dae69d19",
    "_uuid": "8f2839f25d086af736a60e9eeb907d3b93b6e0e5",
    "execution": {
     "iopub.execute_input": "2025-07-04T21:11:17.130687Z",
     "iopub.status.busy": "2025-07-04T21:11:17.129882Z",
     "iopub.status.idle": "2025-07-04T21:11:17.267510Z",
     "shell.execute_reply": "2025-07-04T21:11:17.266357Z"
    },
    "papermill": {
     "duration": 0.143709,
     "end_time": "2025-07-04T21:11:17.269476",
     "exception": false,
     "start_time": "2025-07-04T21:11:17.125767",
     "status": "completed"
    },
    "tags": []
   },
   "outputs": [
    {
     "name": "stdout",
     "output_type": "stream",
     "text": [
      "classname.txt  test1  test.csv\ttrain1\ttrain.csv  val1  val.csv\r\n"
     ]
    }
   ],
   "source": [
    "!ls /kaggle/input/fruit-classification-dataset/Fruit_dataset"
   ]
  },
  {
   "cell_type": "code",
   "execution_count": 2,
   "id": "bd46f37f",
   "metadata": {
    "execution": {
     "iopub.execute_input": "2025-07-04T21:11:17.276091Z",
     "iopub.status.busy": "2025-07-04T21:11:17.275224Z",
     "iopub.status.idle": "2025-07-04T21:11:19.469776Z",
     "shell.execute_reply": "2025-07-04T21:11:19.468818Z"
    },
    "papermill": {
     "duration": 2.199433,
     "end_time": "2025-07-04T21:11:19.471347",
     "exception": false,
     "start_time": "2025-07-04T21:11:17.271914",
     "status": "completed"
    },
    "tags": []
   },
   "outputs": [
    {
     "data": {
      "text/plain": [
       "category\n",
       "-1    5000\n",
       "Name: count, dtype: int64"
      ]
     },
     "execution_count": 2,
     "metadata": {},
     "output_type": "execute_result"
    }
   ],
   "source": [
    "import pandas as pd\n",
    "\n",
    "test_df = pd.read_csv(filepath_or_buffer='/kaggle/input/fruit-classification-dataset/Fruit_dataset/test.csv')\n",
    "test_df['category'].value_counts()"
   ]
  },
  {
   "cell_type": "markdown",
   "id": "513f4085",
   "metadata": {
    "papermill": {
     "duration": 0.001687,
     "end_time": "2025-07-04T21:11:19.475177",
     "exception": false,
     "start_time": "2025-07-04T21:11:19.473490",
     "status": "completed"
    },
    "tags": []
   },
   "source": [
    "Obviously we don't know the class of any of the test data. How about the others?"
   ]
  },
  {
   "cell_type": "code",
   "execution_count": 3,
   "id": "3b863a86",
   "metadata": {
    "execution": {
     "iopub.execute_input": "2025-07-04T21:11:19.480825Z",
     "iopub.status.busy": "2025-07-04T21:11:19.480458Z",
     "iopub.status.idle": "2025-07-04T21:11:19.556051Z",
     "shell.execute_reply": "2025-07-04T21:11:19.555125Z"
    },
    "papermill": {
     "duration": 0.080313,
     "end_time": "2025-07-04T21:11:19.557638",
     "exception": false,
     "start_time": "2025-07-04T21:11:19.477325",
     "status": "completed"
    },
    "tags": []
   },
   "outputs": [
    {
     "data": {
      "text/html": [
       "<div>\n",
       "<style scoped>\n",
       "    .dataframe tbody tr th:only-of-type {\n",
       "        vertical-align: middle;\n",
       "    }\n",
       "\n",
       "    .dataframe tbody tr th {\n",
       "        vertical-align: top;\n",
       "    }\n",
       "\n",
       "    .dataframe thead th {\n",
       "        text-align: right;\n",
       "    }\n",
       "</style>\n",
       "<table border=\"1\" class=\"dataframe\">\n",
       "  <thead>\n",
       "    <tr style=\"text-align: right;\">\n",
       "      <th>category</th>\n",
       "      <th>0</th>\n",
       "      <th>1</th>\n",
       "      <th>2</th>\n",
       "      <th>3</th>\n",
       "      <th>4</th>\n",
       "      <th>5</th>\n",
       "      <th>6</th>\n",
       "      <th>7</th>\n",
       "      <th>8</th>\n",
       "      <th>9</th>\n",
       "      <th>...</th>\n",
       "      <th>90</th>\n",
       "      <th>91</th>\n",
       "      <th>92</th>\n",
       "      <th>93</th>\n",
       "      <th>94</th>\n",
       "      <th>95</th>\n",
       "      <th>96</th>\n",
       "      <th>97</th>\n",
       "      <th>98</th>\n",
       "      <th>99</th>\n",
       "    </tr>\n",
       "  </thead>\n",
       "  <tbody>\n",
       "    <tr>\n",
       "      <th>count</th>\n",
       "      <td>400</td>\n",
       "      <td>400</td>\n",
       "      <td>400</td>\n",
       "      <td>400</td>\n",
       "      <td>400</td>\n",
       "      <td>400</td>\n",
       "      <td>400</td>\n",
       "      <td>400</td>\n",
       "      <td>400</td>\n",
       "      <td>400</td>\n",
       "      <td>...</td>\n",
       "      <td>400</td>\n",
       "      <td>400</td>\n",
       "      <td>400</td>\n",
       "      <td>400</td>\n",
       "      <td>400</td>\n",
       "      <td>400</td>\n",
       "      <td>400</td>\n",
       "      <td>400</td>\n",
       "      <td>400</td>\n",
       "      <td>400</td>\n",
       "    </tr>\n",
       "  </tbody>\n",
       "</table>\n",
       "<p>1 rows × 100 columns</p>\n",
       "</div>"
      ],
      "text/plain": [
       "category   0    1    2    3    4    5    6    7    8    9   ...   90   91  \\\n",
       "count     400  400  400  400  400  400  400  400  400  400  ...  400  400   \n",
       "\n",
       "category   92   93   94   95   96   97   98   99  \n",
       "count     400  400  400  400  400  400  400  400  \n",
       "\n",
       "[1 rows x 100 columns]"
      ]
     },
     "execution_count": 3,
     "metadata": {},
     "output_type": "execute_result"
    }
   ],
   "source": [
    "train_df = pd.read_csv(filepath_or_buffer='/kaggle/input/fruit-classification-dataset/Fruit_dataset/train.csv')\n",
    "train_df['category'].value_counts().to_frame().sort_index().T"
   ]
  },
  {
   "cell_type": "code",
   "execution_count": 4,
   "id": "eb109cc3",
   "metadata": {
    "execution": {
     "iopub.execute_input": "2025-07-04T21:11:19.563689Z",
     "iopub.status.busy": "2025-07-04T21:11:19.563132Z",
     "iopub.status.idle": "2025-07-04T21:11:19.588019Z",
     "shell.execute_reply": "2025-07-04T21:11:19.587040Z"
    },
    "papermill": {
     "duration": 0.029592,
     "end_time": "2025-07-04T21:11:19.589592",
     "exception": false,
     "start_time": "2025-07-04T21:11:19.560000",
     "status": "completed"
    },
    "tags": []
   },
   "outputs": [
    {
     "data": {
      "text/html": [
       "<div>\n",
       "<style scoped>\n",
       "    .dataframe tbody tr th:only-of-type {\n",
       "        vertical-align: middle;\n",
       "    }\n",
       "\n",
       "    .dataframe tbody tr th {\n",
       "        vertical-align: top;\n",
       "    }\n",
       "\n",
       "    .dataframe thead th {\n",
       "        text-align: right;\n",
       "    }\n",
       "</style>\n",
       "<table border=\"1\" class=\"dataframe\">\n",
       "  <thead>\n",
       "    <tr style=\"text-align: right;\">\n",
       "      <th>category</th>\n",
       "      <th>0</th>\n",
       "      <th>1</th>\n",
       "      <th>2</th>\n",
       "      <th>3</th>\n",
       "      <th>4</th>\n",
       "      <th>5</th>\n",
       "      <th>6</th>\n",
       "      <th>7</th>\n",
       "      <th>8</th>\n",
       "      <th>9</th>\n",
       "      <th>...</th>\n",
       "      <th>90</th>\n",
       "      <th>91</th>\n",
       "      <th>92</th>\n",
       "      <th>93</th>\n",
       "      <th>94</th>\n",
       "      <th>95</th>\n",
       "      <th>96</th>\n",
       "      <th>97</th>\n",
       "      <th>98</th>\n",
       "      <th>99</th>\n",
       "    </tr>\n",
       "  </thead>\n",
       "  <tbody>\n",
       "    <tr>\n",
       "      <th>count</th>\n",
       "      <td>50</td>\n",
       "      <td>50</td>\n",
       "      <td>50</td>\n",
       "      <td>50</td>\n",
       "      <td>50</td>\n",
       "      <td>50</td>\n",
       "      <td>50</td>\n",
       "      <td>50</td>\n",
       "      <td>50</td>\n",
       "      <td>50</td>\n",
       "      <td>...</td>\n",
       "      <td>50</td>\n",
       "      <td>50</td>\n",
       "      <td>50</td>\n",
       "      <td>50</td>\n",
       "      <td>50</td>\n",
       "      <td>50</td>\n",
       "      <td>50</td>\n",
       "      <td>50</td>\n",
       "      <td>50</td>\n",
       "      <td>50</td>\n",
       "    </tr>\n",
       "  </tbody>\n",
       "</table>\n",
       "<p>1 rows × 100 columns</p>\n",
       "</div>"
      ],
      "text/plain": [
       "category  0   1   2   3   4   5   6   7   8   9   ...  90  91  92  93  94  95  \\\n",
       "count     50  50  50  50  50  50  50  50  50  50  ...  50  50  50  50  50  50   \n",
       "\n",
       "category  96  97  98  99  \n",
       "count     50  50  50  50  \n",
       "\n",
       "[1 rows x 100 columns]"
      ]
     },
     "execution_count": 4,
     "metadata": {},
     "output_type": "execute_result"
    }
   ],
   "source": [
    "val_df = pd.read_csv(filepath_or_buffer='/kaggle/input/fruit-classification-dataset/Fruit_dataset/val.csv')\n",
    "val_df['category'].value_counts().to_frame().sort_index().T"
   ]
  }
 ],
 "metadata": {
  "kaggle": {
   "accelerator": "none",
   "dataSources": [
    {
     "datasetId": 7522143,
     "sourceId": 11962603,
     "sourceType": "datasetVersion"
    }
   ],
   "dockerImageVersionId": 31040,
   "isGpuEnabled": false,
   "isInternetEnabled": true,
   "language": "python",
   "sourceType": "notebook"
  },
  "kernelspec": {
   "display_name": "Python 3",
   "language": "python",
   "name": "python3"
  },
  "language_info": {
   "codemirror_mode": {
    "name": "ipython",
    "version": 3
   },
   "file_extension": ".py",
   "mimetype": "text/x-python",
   "name": "python",
   "nbconvert_exporter": "python",
   "pygments_lexer": "ipython3",
   "version": "3.11.11"
  },
  "papermill": {
   "default_parameters": {},
   "duration": 8.462024,
   "end_time": "2025-07-04T21:11:20.212149",
   "environment_variables": {},
   "exception": null,
   "input_path": "__notebook__.ipynb",
   "output_path": "__notebook__.ipynb",
   "parameters": {},
   "start_time": "2025-07-04T21:11:11.750125",
   "version": "2.6.0"
  }
 },
 "nbformat": 4,
 "nbformat_minor": 5
}
