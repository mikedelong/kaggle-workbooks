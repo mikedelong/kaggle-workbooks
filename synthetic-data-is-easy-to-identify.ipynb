{
 "cells": [
  {
   "cell_type": "code",
   "execution_count": 1,
   "id": "9c20ca41",
   "metadata": {
    "_cell_guid": "b1076dfc-b9ad-4769-8c92-a6c4dae69d19",
    "_uuid": "8f2839f25d086af736a60e9eeb907d3b93b6e0e5",
    "execution": {
     "iopub.execute_input": "2025-02-27T20:33:06.442913Z",
     "iopub.status.busy": "2025-02-27T20:33:06.442578Z",
     "iopub.status.idle": "2025-02-27T20:33:07.310323Z",
     "shell.execute_reply": "2025-02-27T20:33:07.309326Z"
    },
    "papermill": {
     "duration": 0.875195,
     "end_time": "2025-02-27T20:33:07.311934",
     "exception": false,
     "start_time": "2025-02-27T20:33:06.436739",
     "status": "completed"
    },
    "tags": []
   },
   "outputs": [
    {
     "data": {
      "text/html": [
       "<div>\n",
       "<style scoped>\n",
       "    .dataframe tbody tr th:only-of-type {\n",
       "        vertical-align: middle;\n",
       "    }\n",
       "\n",
       "    .dataframe tbody tr th {\n",
       "        vertical-align: top;\n",
       "    }\n",
       "\n",
       "    .dataframe thead th {\n",
       "        text-align: right;\n",
       "    }\n",
       "</style>\n",
       "<table border=\"1\" class=\"dataframe\">\n",
       "  <thead>\n",
       "    <tr style=\"text-align: right;\">\n",
       "      <th></th>\n",
       "      <th>Age</th>\n",
       "      <th>Gender</th>\n",
       "      <th>Height (cm)</th>\n",
       "      <th>Weight (kg)</th>\n",
       "      <th>Workout Type</th>\n",
       "      <th>Workout Duration (mins)</th>\n",
       "      <th>Calories Burned</th>\n",
       "      <th>Heart Rate (bpm)</th>\n",
       "      <th>Steps Taken</th>\n",
       "      <th>Distance (km)</th>\n",
       "      <th>Workout Intensity</th>\n",
       "      <th>Sleep Hours</th>\n",
       "      <th>Water Intake (liters)</th>\n",
       "      <th>Daily Calories Intake</th>\n",
       "      <th>Resting Heart Rate (bpm)</th>\n",
       "      <th>VO2 Max</th>\n",
       "      <th>Body Fat (%)</th>\n",
       "      <th>Mood Before Workout</th>\n",
       "      <th>Mood After Workout</th>\n",
       "    </tr>\n",
       "    <tr>\n",
       "      <th>User ID</th>\n",
       "      <th></th>\n",
       "      <th></th>\n",
       "      <th></th>\n",
       "      <th></th>\n",
       "      <th></th>\n",
       "      <th></th>\n",
       "      <th></th>\n",
       "      <th></th>\n",
       "      <th></th>\n",
       "      <th></th>\n",
       "      <th></th>\n",
       "      <th></th>\n",
       "      <th></th>\n",
       "      <th></th>\n",
       "      <th></th>\n",
       "      <th></th>\n",
       "      <th></th>\n",
       "      <th></th>\n",
       "      <th></th>\n",
       "    </tr>\n",
       "  </thead>\n",
       "  <tbody>\n",
       "    <tr>\n",
       "      <th>1</th>\n",
       "      <td>39</td>\n",
       "      <td>Male</td>\n",
       "      <td>175</td>\n",
       "      <td>99</td>\n",
       "      <td>Cycling</td>\n",
       "      <td>79</td>\n",
       "      <td>384</td>\n",
       "      <td>112</td>\n",
       "      <td>8850</td>\n",
       "      <td>14.44</td>\n",
       "      <td>High</td>\n",
       "      <td>8.2</td>\n",
       "      <td>1.9</td>\n",
       "      <td>3195</td>\n",
       "      <td>61</td>\n",
       "      <td>38.4</td>\n",
       "      <td>28.5</td>\n",
       "      <td>Tired</td>\n",
       "      <td>Fatigued</td>\n",
       "    </tr>\n",
       "    <tr>\n",
       "      <th>2</th>\n",
       "      <td>36</td>\n",
       "      <td>Other</td>\n",
       "      <td>157</td>\n",
       "      <td>112</td>\n",
       "      <td>Cardio</td>\n",
       "      <td>73</td>\n",
       "      <td>612</td>\n",
       "      <td>168</td>\n",
       "      <td>2821</td>\n",
       "      <td>1.10</td>\n",
       "      <td>High</td>\n",
       "      <td>8.6</td>\n",
       "      <td>1.9</td>\n",
       "      <td>2541</td>\n",
       "      <td>73</td>\n",
       "      <td>38.4</td>\n",
       "      <td>28.5</td>\n",
       "      <td>Happy</td>\n",
       "      <td>Energized</td>\n",
       "    </tr>\n",
       "    <tr>\n",
       "      <th>3</th>\n",
       "      <td>25</td>\n",
       "      <td>Female</td>\n",
       "      <td>180</td>\n",
       "      <td>66</td>\n",
       "      <td>HIIT</td>\n",
       "      <td>27</td>\n",
       "      <td>540</td>\n",
       "      <td>133</td>\n",
       "      <td>18898</td>\n",
       "      <td>7.28</td>\n",
       "      <td>High</td>\n",
       "      <td>9.8</td>\n",
       "      <td>1.9</td>\n",
       "      <td>3362</td>\n",
       "      <td>80</td>\n",
       "      <td>38.4</td>\n",
       "      <td>28.5</td>\n",
       "      <td>Happy</td>\n",
       "      <td>Fatigued</td>\n",
       "    </tr>\n",
       "    <tr>\n",
       "      <th>4</th>\n",
       "      <td>56</td>\n",
       "      <td>Male</td>\n",
       "      <td>154</td>\n",
       "      <td>89</td>\n",
       "      <td>Cycling</td>\n",
       "      <td>39</td>\n",
       "      <td>672</td>\n",
       "      <td>118</td>\n",
       "      <td>14102</td>\n",
       "      <td>6.55</td>\n",
       "      <td>Medium</td>\n",
       "      <td>5.8</td>\n",
       "      <td>1.9</td>\n",
       "      <td>2071</td>\n",
       "      <td>65</td>\n",
       "      <td>38.4</td>\n",
       "      <td>28.5</td>\n",
       "      <td>Neutral</td>\n",
       "      <td>Neutral</td>\n",
       "    </tr>\n",
       "    <tr>\n",
       "      <th>5</th>\n",
       "      <td>53</td>\n",
       "      <td>Other</td>\n",
       "      <td>194</td>\n",
       "      <td>59</td>\n",
       "      <td>Strength</td>\n",
       "      <td>56</td>\n",
       "      <td>410</td>\n",
       "      <td>170</td>\n",
       "      <td>16518</td>\n",
       "      <td>3.17</td>\n",
       "      <td>Medium</td>\n",
       "      <td>7.3</td>\n",
       "      <td>1.9</td>\n",
       "      <td>3298</td>\n",
       "      <td>59</td>\n",
       "      <td>38.4</td>\n",
       "      <td>28.5</td>\n",
       "      <td>Stressed</td>\n",
       "      <td>Energized</td>\n",
       "    </tr>\n",
       "  </tbody>\n",
       "</table>\n",
       "</div>"
      ],
      "text/plain": [
       "         Age  Gender  Height (cm)  Weight (kg) Workout Type  \\\n",
       "User ID                                                       \n",
       "1         39    Male          175           99      Cycling   \n",
       "2         36   Other          157          112       Cardio   \n",
       "3         25  Female          180           66         HIIT   \n",
       "4         56    Male          154           89      Cycling   \n",
       "5         53   Other          194           59     Strength   \n",
       "\n",
       "         Workout Duration (mins)  Calories Burned  Heart Rate (bpm)  \\\n",
       "User ID                                                               \n",
       "1                             79              384               112   \n",
       "2                             73              612               168   \n",
       "3                             27              540               133   \n",
       "4                             39              672               118   \n",
       "5                             56              410               170   \n",
       "\n",
       "         Steps Taken  Distance (km) Workout Intensity  Sleep Hours  \\\n",
       "User ID                                                              \n",
       "1               8850          14.44              High          8.2   \n",
       "2               2821           1.10              High          8.6   \n",
       "3              18898           7.28              High          9.8   \n",
       "4              14102           6.55            Medium          5.8   \n",
       "5              16518           3.17            Medium          7.3   \n",
       "\n",
       "         Water Intake (liters)  Daily Calories Intake  \\\n",
       "User ID                                                 \n",
       "1                          1.9                   3195   \n",
       "2                          1.9                   2541   \n",
       "3                          1.9                   3362   \n",
       "4                          1.9                   2071   \n",
       "5                          1.9                   3298   \n",
       "\n",
       "         Resting Heart Rate (bpm)  VO2 Max  Body Fat (%) Mood Before Workout  \\\n",
       "User ID                                                                        \n",
       "1                              61     38.4          28.5               Tired   \n",
       "2                              73     38.4          28.5               Happy   \n",
       "3                              80     38.4          28.5               Happy   \n",
       "4                              65     38.4          28.5             Neutral   \n",
       "5                              59     38.4          28.5            Stressed   \n",
       "\n",
       "        Mood After Workout  \n",
       "User ID                     \n",
       "1                 Fatigued  \n",
       "2                Energized  \n",
       "3                 Fatigued  \n",
       "4                  Neutral  \n",
       "5                Energized  "
      ]
     },
     "execution_count": 1,
     "metadata": {},
     "output_type": "execute_result"
    }
   ],
   "source": [
    "import pandas as pd\n",
    "\n",
    "DATA = '/kaggle/input/workout-and-fitness-tracker-data/workout_fitness_tracker_data.csv'\n",
    "df = pd.read_csv(filepath_or_buffer=DATA, index_col=['User ID'])\n",
    "df.head()"
   ]
  },
  {
   "cell_type": "code",
   "execution_count": 2,
   "id": "ddf42de6",
   "metadata": {
    "execution": {
     "iopub.execute_input": "2025-02-27T20:33:07.320139Z",
     "iopub.status.busy": "2025-02-27T20:33:07.319826Z",
     "iopub.status.idle": "2025-02-27T20:33:07.329089Z",
     "shell.execute_reply": "2025-02-27T20:33:07.328214Z"
    },
    "papermill": {
     "duration": 0.014763,
     "end_time": "2025-02-27T20:33:07.330570",
     "exception": false,
     "start_time": "2025-02-27T20:33:07.315807",
     "status": "completed"
    },
    "tags": []
   },
   "outputs": [
    {
     "data": {
      "text/plain": [
       "{'Other': 3392, 'Male': 3370, 'Female': 3238}"
      ]
     },
     "execution_count": 2,
     "metadata": {},
     "output_type": "execute_result"
    }
   ],
   "source": [
    "df['Gender'].value_counts().to_dict()"
   ]
  },
  {
   "cell_type": "markdown",
   "id": "ac7dc656",
   "metadata": {
    "papermill": {
     "duration": 0.003301,
     "end_time": "2025-02-27T20:33:07.337586",
     "exception": false,
     "start_time": "2025-02-27T20:33:07.334285",
     "status": "completed"
    },
    "tags": []
   },
   "source": [
    "The fact that we have exactly 10k records, and they are roughly evenly distributed across three genders is an early indication we have synthetic data."
   ]
  },
  {
   "cell_type": "markdown",
   "id": "9afe91b6",
   "metadata": {
    "papermill": {
     "duration": 0.003215,
     "end_time": "2025-02-27T20:33:07.344157",
     "exception": false,
     "start_time": "2025-02-27T20:33:07.340942",
     "status": "completed"
    },
    "tags": []
   },
   "source": [
    "Let's build a scatter plot using dimensionality reduction; this should tell us if our data has a signal in it."
   ]
  },
  {
   "cell_type": "code",
   "execution_count": 3,
   "id": "c7117f6b",
   "metadata": {
    "execution": {
     "iopub.execute_input": "2025-02-27T20:33:07.352457Z",
     "iopub.status.busy": "2025-02-27T20:33:07.352106Z",
     "iopub.status.idle": "2025-02-27T20:34:08.295926Z",
     "shell.execute_reply": "2025-02-27T20:34:08.295098Z"
    },
    "papermill": {
     "duration": 60.950187,
     "end_time": "2025-02-27T20:34:08.297926",
     "exception": false,
     "start_time": "2025-02-27T20:33:07.347739",
     "status": "completed"
    },
    "tags": []
   },
   "outputs": [],
   "source": [
    "from sklearn.manifold import TSNE\n",
    "\n",
    "COLUMNS = [key for key, value in df.dtypes.to_dict().items() if str(value) in {'float64', 'int64'}]\n",
    "RANDOM_STATE = 2025\n",
    "TARGET = 'Gender'\n",
    "\n",
    "reducer = TSNE(random_state=RANDOM_STATE)\n",
    "plot_df = pd.DataFrame(columns=['x', 'y'], data=reducer.fit_transform(X=df[COLUMNS]))\n",
    "plot_df[TARGET] = df[TARGET].tolist()"
   ]
  },
  {
   "cell_type": "code",
   "execution_count": 4,
   "id": "26e06f8c",
   "metadata": {
    "execution": {
     "iopub.execute_input": "2025-02-27T20:34:08.306884Z",
     "iopub.status.busy": "2025-02-27T20:34:08.306383Z",
     "iopub.status.idle": "2025-02-27T20:34:10.897903Z",
     "shell.execute_reply": "2025-02-27T20:34:10.897090Z"
    },
    "papermill": {
     "duration": 2.597391,
     "end_time": "2025-02-27T20:34:10.899461",
     "exception": false,
     "start_time": "2025-02-27T20:34:08.302070",
     "status": "completed"
    },
    "tags": []
   },
   "outputs": [
    {
     "data": {
      "text/html": [
       "<iframe\n",
       "    scrolling=\"no\"\n",
       "    width=\"100%\"\n",
       "    height=\"545px\"\n",
       "    src=\"iframe_figures/figure_4.html\"\n",
       "    frameborder=\"0\"\n",
       "    allowfullscreen\n",
       "></iframe>\n"
      ]
     },
     "metadata": {},
     "output_type": "display_data"
    }
   ],
   "source": [
    "from plotly import express\n",
    "from plotly import io\n",
    "\n",
    "io.renderers.default = 'iframe'\n",
    "express.scatter(data_frame=plot_df, x='x', y='y', color=TARGET)"
   ]
  },
  {
   "cell_type": "markdown",
   "id": "c3b9c40a",
   "metadata": {
    "papermill": {
     "duration": 0.003334,
     "end_time": "2025-02-27T20:34:10.906635",
     "exception": false,
     "start_time": "2025-02-27T20:34:10.903301",
     "status": "completed"
    },
    "tags": []
   },
   "source": [
    "Our data may or may not be synthetic, but whatever signal it contains does not correspond to the target variable, as we do not see clustering in the data such that points in our plot have mostly neighbors with the same value in the target variable."
   ]
  },
  {
   "cell_type": "code",
   "execution_count": 5,
   "id": "6be18bfd",
   "metadata": {
    "execution": {
     "iopub.execute_input": "2025-02-27T20:34:10.914761Z",
     "iopub.status.busy": "2025-02-27T20:34:10.914446Z",
     "iopub.status.idle": "2025-02-27T20:34:11.080134Z",
     "shell.execute_reply": "2025-02-27T20:34:11.079267Z"
    },
    "papermill": {
     "duration": 0.171609,
     "end_time": "2025-02-27T20:34:11.081706",
     "exception": false,
     "start_time": "2025-02-27T20:34:10.910097",
     "status": "completed"
    },
    "tags": []
   },
   "outputs": [
    {
     "data": {
      "text/html": [
       "<iframe\n",
       "    scrolling=\"no\"\n",
       "    width=\"100%\"\n",
       "    height=\"545px\"\n",
       "    src=\"iframe_figures/figure_5.html\"\n",
       "    frameborder=\"0\"\n",
       "    allowfullscreen\n",
       "></iframe>\n"
      ]
     },
     "metadata": {},
     "output_type": "display_data"
    }
   ],
   "source": [
    "express.histogram(data_frame=df, x='Height (cm)', facet_col='Gender')"
   ]
  },
  {
   "cell_type": "markdown",
   "id": "63435247",
   "metadata": {
    "papermill": {
     "duration": 0.003478,
     "end_time": "2025-02-27T20:34:11.089265",
     "exception": false,
     "start_time": "2025-02-27T20:34:11.085787",
     "status": "completed"
    },
    "tags": []
   },
   "source": [
    "What do we see? First, we see that height is more or less uniformly distributed, which is not what we would expect. Second, we see that women are on average as tall as men, which we would very rarely see in real life in a sample this large."
   ]
  },
  {
   "cell_type": "code",
   "execution_count": 6,
   "id": "697f16b3",
   "metadata": {
    "execution": {
     "iopub.execute_input": "2025-02-27T20:34:11.097616Z",
     "iopub.status.busy": "2025-02-27T20:34:11.097311Z",
     "iopub.status.idle": "2025-02-27T20:34:11.110900Z",
     "shell.execute_reply": "2025-02-27T20:34:11.109972Z"
    },
    "papermill": {
     "duration": 0.019352,
     "end_time": "2025-02-27T20:34:11.112455",
     "exception": false,
     "start_time": "2025-02-27T20:34:11.093103",
     "status": "completed"
    },
    "tags": []
   },
   "outputs": [
    {
     "data": {
      "text/html": [
       "<div>\n",
       "<style scoped>\n",
       "    .dataframe tbody tr th:only-of-type {\n",
       "        vertical-align: middle;\n",
       "    }\n",
       "\n",
       "    .dataframe tbody tr th {\n",
       "        vertical-align: top;\n",
       "    }\n",
       "\n",
       "    .dataframe thead th {\n",
       "        text-align: right;\n",
       "    }\n",
       "</style>\n",
       "<table border=\"1\" class=\"dataframe\">\n",
       "  <thead>\n",
       "    <tr style=\"text-align: right;\">\n",
       "      <th>Gender</th>\n",
       "      <th>Female</th>\n",
       "      <th>Male</th>\n",
       "      <th>Other</th>\n",
       "    </tr>\n",
       "  </thead>\n",
       "  <tbody>\n",
       "    <tr>\n",
       "      <th>Height (cm)</th>\n",
       "      <td>174.332304</td>\n",
       "      <td>174.241246</td>\n",
       "      <td>174.254127</td>\n",
       "    </tr>\n",
       "  </tbody>\n",
       "</table>\n",
       "</div>"
      ],
      "text/plain": [
       "Gender           Female        Male       Other\n",
       "Height (cm)  174.332304  174.241246  174.254127"
      ]
     },
     "execution_count": 6,
     "metadata": {},
     "output_type": "execute_result"
    }
   ],
   "source": [
    "df[[TARGET, 'Height (cm)']].groupby(by=TARGET).mean().T"
   ]
  },
  {
   "cell_type": "markdown",
   "id": "03f99e8a",
   "metadata": {
    "papermill": {
     "duration": 0.003271,
     "end_time": "2025-02-27T20:34:11.119777",
     "exception": false,
     "start_time": "2025-02-27T20:34:11.116506",
     "status": "completed"
    },
    "tags": []
   },
   "source": [
    "The average woman in our sample is as tall as the average man. That's pretty unlikely in a random sample of 6700 men and women."
   ]
  },
  {
   "cell_type": "code",
   "execution_count": 7,
   "id": "d5e86c79",
   "metadata": {
    "execution": {
     "iopub.execute_input": "2025-02-27T20:34:11.128505Z",
     "iopub.status.busy": "2025-02-27T20:34:11.128161Z",
     "iopub.status.idle": "2025-02-27T20:34:11.240501Z",
     "shell.execute_reply": "2025-02-27T20:34:11.239761Z"
    },
    "papermill": {
     "duration": 0.118376,
     "end_time": "2025-02-27T20:34:11.242013",
     "exception": false,
     "start_time": "2025-02-27T20:34:11.123637",
     "status": "completed"
    },
    "tags": []
   },
   "outputs": [
    {
     "data": {
      "text/html": [
       "<iframe\n",
       "    scrolling=\"no\"\n",
       "    width=\"100%\"\n",
       "    height=\"545px\"\n",
       "    src=\"iframe_figures/figure_7.html\"\n",
       "    frameborder=\"0\"\n",
       "    allowfullscreen\n",
       "></iframe>\n"
      ]
     },
     "metadata": {},
     "output_type": "display_data"
    }
   ],
   "source": [
    "express.histogram(data_frame=df, x='Weight (kg)', facet_col='Gender')"
   ]
  },
  {
   "cell_type": "markdown",
   "id": "0cc1ada8",
   "metadata": {
    "papermill": {
     "duration": 0.003693,
     "end_time": "2025-02-27T20:34:11.249815",
     "exception": false,
     "start_time": "2025-02-27T20:34:11.246122",
     "status": "completed"
    },
    "tags": []
   },
   "source": [
    "Yes. This is synthetic data. Height and weight are not uniformly distributed, especially accounting for sex."
   ]
  },
  {
   "cell_type": "code",
   "execution_count": 8,
   "id": "b0ff6a3e",
   "metadata": {
    "execution": {
     "iopub.execute_input": "2025-02-27T20:34:11.258348Z",
     "iopub.status.busy": "2025-02-27T20:34:11.257966Z",
     "iopub.status.idle": "2025-02-27T20:34:11.270608Z",
     "shell.execute_reply": "2025-02-27T20:34:11.269643Z"
    },
    "papermill": {
     "duration": 0.018583,
     "end_time": "2025-02-27T20:34:11.272269",
     "exception": false,
     "start_time": "2025-02-27T20:34:11.253686",
     "status": "completed"
    },
    "tags": []
   },
   "outputs": [
    {
     "data": {
      "text/html": [
       "<div>\n",
       "<style scoped>\n",
       "    .dataframe tbody tr th:only-of-type {\n",
       "        vertical-align: middle;\n",
       "    }\n",
       "\n",
       "    .dataframe tbody tr th {\n",
       "        vertical-align: top;\n",
       "    }\n",
       "\n",
       "    .dataframe thead th {\n",
       "        text-align: right;\n",
       "    }\n",
       "</style>\n",
       "<table border=\"1\" class=\"dataframe\">\n",
       "  <thead>\n",
       "    <tr style=\"text-align: right;\">\n",
       "      <th>Gender</th>\n",
       "      <th>Female</th>\n",
       "      <th>Male</th>\n",
       "      <th>Other</th>\n",
       "    </tr>\n",
       "  </thead>\n",
       "  <tbody>\n",
       "    <tr>\n",
       "      <th>Weight (kg)</th>\n",
       "      <td>84.32273</td>\n",
       "      <td>85.525519</td>\n",
       "      <td>84.838443</td>\n",
       "    </tr>\n",
       "  </tbody>\n",
       "</table>\n",
       "</div>"
      ],
      "text/plain": [
       "Gender         Female       Male      Other\n",
       "Weight (kg)  84.32273  85.525519  84.838443"
      ]
     },
     "execution_count": 8,
     "metadata": {},
     "output_type": "execute_result"
    }
   ],
   "source": [
    "df[[TARGET, 'Weight (kg)']].groupby(by=TARGET).mean().T"
   ]
  },
  {
   "cell_type": "code",
   "execution_count": 9,
   "id": "a962aa31",
   "metadata": {
    "execution": {
     "iopub.execute_input": "2025-02-27T20:34:11.281263Z",
     "iopub.status.busy": "2025-02-27T20:34:11.280926Z",
     "iopub.status.idle": "2025-02-27T20:34:11.391562Z",
     "shell.execute_reply": "2025-02-27T20:34:11.390723Z"
    },
    "papermill": {
     "duration": 0.116614,
     "end_time": "2025-02-27T20:34:11.393097",
     "exception": false,
     "start_time": "2025-02-27T20:34:11.276483",
     "status": "completed"
    },
    "tags": []
   },
   "outputs": [
    {
     "data": {
      "text/html": [
       "<iframe\n",
       "    scrolling=\"no\"\n",
       "    width=\"100%\"\n",
       "    height=\"545px\"\n",
       "    src=\"iframe_figures/figure_9.html\"\n",
       "    frameborder=\"0\"\n",
       "    allowfullscreen\n",
       "></iframe>\n"
      ]
     },
     "metadata": {},
     "output_type": "display_data"
    }
   ],
   "source": [
    "express.scatter(data_frame=df, x='Height (cm)', y='Weight (kg)', color='Gender', facet_col='Gender')"
   ]
  },
  {
   "cell_type": "markdown",
   "id": "b85ac62d",
   "metadata": {
    "papermill": {
     "duration": 0.003793,
     "end_time": "2025-02-27T20:34:11.401232",
     "exception": false,
     "start_time": "2025-02-27T20:34:11.397439",
     "status": "completed"
    },
    "tags": []
   },
   "source": [
    "This is definitely synthetic data."
   ]
  }
 ],
 "metadata": {
  "kaggle": {
   "accelerator": "none",
   "dataSources": [
    {
     "datasetId": 6625474,
     "sourceId": 10692833,
     "sourceType": "datasetVersion"
    }
   ],
   "dockerImageVersionId": 30918,
   "isGpuEnabled": false,
   "isInternetEnabled": true,
   "language": "python",
   "sourceType": "notebook"
  },
  "kernelspec": {
   "display_name": "Python 3",
   "language": "python",
   "name": "python3"
  },
  "language_info": {
   "codemirror_mode": {
    "name": "ipython",
    "version": 3
   },
   "file_extension": ".py",
   "mimetype": "text/x-python",
   "name": "python",
   "nbconvert_exporter": "python",
   "pygments_lexer": "ipython3",
   "version": "3.10.12"
  },
  "papermill": {
   "default_parameters": {},
   "duration": 68.307363,
   "end_time": "2025-02-27T20:34:12.124432",
   "environment_variables": {},
   "exception": null,
   "input_path": "__notebook__.ipynb",
   "output_path": "__notebook__.ipynb",
   "parameters": {},
   "start_time": "2025-02-27T20:33:03.817069",
   "version": "2.6.0"
  }
 },
 "nbformat": 4,
 "nbformat_minor": 5
}
