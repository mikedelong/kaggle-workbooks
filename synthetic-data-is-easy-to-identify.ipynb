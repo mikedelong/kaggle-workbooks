{
 "cells": [
  {
   "cell_type": "code",
   "execution_count": 1,
   "id": "f4cd537d",
   "metadata": {
    "_cell_guid": "b1076dfc-b9ad-4769-8c92-a6c4dae69d19",
    "_uuid": "8f2839f25d086af736a60e9eeb907d3b93b6e0e5",
    "execution": {
     "iopub.execute_input": "2025-02-27T20:25:25.296194Z",
     "iopub.status.busy": "2025-02-27T20:25:25.295794Z",
     "iopub.status.idle": "2025-02-27T20:25:26.536932Z",
     "shell.execute_reply": "2025-02-27T20:25:26.535623Z"
    },
    "papermill": {
     "duration": 1.247984,
     "end_time": "2025-02-27T20:25:26.538839",
     "exception": false,
     "start_time": "2025-02-27T20:25:25.290855",
     "status": "completed"
    },
    "tags": []
   },
   "outputs": [
    {
     "data": {
      "text/html": [
       "<div>\n",
       "<style scoped>\n",
       "    .dataframe tbody tr th:only-of-type {\n",
       "        vertical-align: middle;\n",
       "    }\n",
       "\n",
       "    .dataframe tbody tr th {\n",
       "        vertical-align: top;\n",
       "    }\n",
       "\n",
       "    .dataframe thead th {\n",
       "        text-align: right;\n",
       "    }\n",
       "</style>\n",
       "<table border=\"1\" class=\"dataframe\">\n",
       "  <thead>\n",
       "    <tr style=\"text-align: right;\">\n",
       "      <th></th>\n",
       "      <th>Age</th>\n",
       "      <th>Gender</th>\n",
       "      <th>Height (cm)</th>\n",
       "      <th>Weight (kg)</th>\n",
       "      <th>Workout Type</th>\n",
       "      <th>Workout Duration (mins)</th>\n",
       "      <th>Calories Burned</th>\n",
       "      <th>Heart Rate (bpm)</th>\n",
       "      <th>Steps Taken</th>\n",
       "      <th>Distance (km)</th>\n",
       "      <th>Workout Intensity</th>\n",
       "      <th>Sleep Hours</th>\n",
       "      <th>Water Intake (liters)</th>\n",
       "      <th>Daily Calories Intake</th>\n",
       "      <th>Resting Heart Rate (bpm)</th>\n",
       "      <th>VO2 Max</th>\n",
       "      <th>Body Fat (%)</th>\n",
       "      <th>Mood Before Workout</th>\n",
       "      <th>Mood After Workout</th>\n",
       "    </tr>\n",
       "    <tr>\n",
       "      <th>User ID</th>\n",
       "      <th></th>\n",
       "      <th></th>\n",
       "      <th></th>\n",
       "      <th></th>\n",
       "      <th></th>\n",
       "      <th></th>\n",
       "      <th></th>\n",
       "      <th></th>\n",
       "      <th></th>\n",
       "      <th></th>\n",
       "      <th></th>\n",
       "      <th></th>\n",
       "      <th></th>\n",
       "      <th></th>\n",
       "      <th></th>\n",
       "      <th></th>\n",
       "      <th></th>\n",
       "      <th></th>\n",
       "      <th></th>\n",
       "    </tr>\n",
       "  </thead>\n",
       "  <tbody>\n",
       "    <tr>\n",
       "      <th>1</th>\n",
       "      <td>39</td>\n",
       "      <td>Male</td>\n",
       "      <td>175</td>\n",
       "      <td>99</td>\n",
       "      <td>Cycling</td>\n",
       "      <td>79</td>\n",
       "      <td>384</td>\n",
       "      <td>112</td>\n",
       "      <td>8850</td>\n",
       "      <td>14.44</td>\n",
       "      <td>High</td>\n",
       "      <td>8.2</td>\n",
       "      <td>1.9</td>\n",
       "      <td>3195</td>\n",
       "      <td>61</td>\n",
       "      <td>38.4</td>\n",
       "      <td>28.5</td>\n",
       "      <td>Tired</td>\n",
       "      <td>Fatigued</td>\n",
       "    </tr>\n",
       "    <tr>\n",
       "      <th>2</th>\n",
       "      <td>36</td>\n",
       "      <td>Other</td>\n",
       "      <td>157</td>\n",
       "      <td>112</td>\n",
       "      <td>Cardio</td>\n",
       "      <td>73</td>\n",
       "      <td>612</td>\n",
       "      <td>168</td>\n",
       "      <td>2821</td>\n",
       "      <td>1.10</td>\n",
       "      <td>High</td>\n",
       "      <td>8.6</td>\n",
       "      <td>1.9</td>\n",
       "      <td>2541</td>\n",
       "      <td>73</td>\n",
       "      <td>38.4</td>\n",
       "      <td>28.5</td>\n",
       "      <td>Happy</td>\n",
       "      <td>Energized</td>\n",
       "    </tr>\n",
       "    <tr>\n",
       "      <th>3</th>\n",
       "      <td>25</td>\n",
       "      <td>Female</td>\n",
       "      <td>180</td>\n",
       "      <td>66</td>\n",
       "      <td>HIIT</td>\n",
       "      <td>27</td>\n",
       "      <td>540</td>\n",
       "      <td>133</td>\n",
       "      <td>18898</td>\n",
       "      <td>7.28</td>\n",
       "      <td>High</td>\n",
       "      <td>9.8</td>\n",
       "      <td>1.9</td>\n",
       "      <td>3362</td>\n",
       "      <td>80</td>\n",
       "      <td>38.4</td>\n",
       "      <td>28.5</td>\n",
       "      <td>Happy</td>\n",
       "      <td>Fatigued</td>\n",
       "    </tr>\n",
       "    <tr>\n",
       "      <th>4</th>\n",
       "      <td>56</td>\n",
       "      <td>Male</td>\n",
       "      <td>154</td>\n",
       "      <td>89</td>\n",
       "      <td>Cycling</td>\n",
       "      <td>39</td>\n",
       "      <td>672</td>\n",
       "      <td>118</td>\n",
       "      <td>14102</td>\n",
       "      <td>6.55</td>\n",
       "      <td>Medium</td>\n",
       "      <td>5.8</td>\n",
       "      <td>1.9</td>\n",
       "      <td>2071</td>\n",
       "      <td>65</td>\n",
       "      <td>38.4</td>\n",
       "      <td>28.5</td>\n",
       "      <td>Neutral</td>\n",
       "      <td>Neutral</td>\n",
       "    </tr>\n",
       "    <tr>\n",
       "      <th>5</th>\n",
       "      <td>53</td>\n",
       "      <td>Other</td>\n",
       "      <td>194</td>\n",
       "      <td>59</td>\n",
       "      <td>Strength</td>\n",
       "      <td>56</td>\n",
       "      <td>410</td>\n",
       "      <td>170</td>\n",
       "      <td>16518</td>\n",
       "      <td>3.17</td>\n",
       "      <td>Medium</td>\n",
       "      <td>7.3</td>\n",
       "      <td>1.9</td>\n",
       "      <td>3298</td>\n",
       "      <td>59</td>\n",
       "      <td>38.4</td>\n",
       "      <td>28.5</td>\n",
       "      <td>Stressed</td>\n",
       "      <td>Energized</td>\n",
       "    </tr>\n",
       "  </tbody>\n",
       "</table>\n",
       "</div>"
      ],
      "text/plain": [
       "         Age  Gender  Height (cm)  Weight (kg) Workout Type  \\\n",
       "User ID                                                       \n",
       "1         39    Male          175           99      Cycling   \n",
       "2         36   Other          157          112       Cardio   \n",
       "3         25  Female          180           66         HIIT   \n",
       "4         56    Male          154           89      Cycling   \n",
       "5         53   Other          194           59     Strength   \n",
       "\n",
       "         Workout Duration (mins)  Calories Burned  Heart Rate (bpm)  \\\n",
       "User ID                                                               \n",
       "1                             79              384               112   \n",
       "2                             73              612               168   \n",
       "3                             27              540               133   \n",
       "4                             39              672               118   \n",
       "5                             56              410               170   \n",
       "\n",
       "         Steps Taken  Distance (km) Workout Intensity  Sleep Hours  \\\n",
       "User ID                                                              \n",
       "1               8850          14.44              High          8.2   \n",
       "2               2821           1.10              High          8.6   \n",
       "3              18898           7.28              High          9.8   \n",
       "4              14102           6.55            Medium          5.8   \n",
       "5              16518           3.17            Medium          7.3   \n",
       "\n",
       "         Water Intake (liters)  Daily Calories Intake  \\\n",
       "User ID                                                 \n",
       "1                          1.9                   3195   \n",
       "2                          1.9                   2541   \n",
       "3                          1.9                   3362   \n",
       "4                          1.9                   2071   \n",
       "5                          1.9                   3298   \n",
       "\n",
       "         Resting Heart Rate (bpm)  VO2 Max  Body Fat (%) Mood Before Workout  \\\n",
       "User ID                                                                        \n",
       "1                              61     38.4          28.5               Tired   \n",
       "2                              73     38.4          28.5               Happy   \n",
       "3                              80     38.4          28.5               Happy   \n",
       "4                              65     38.4          28.5             Neutral   \n",
       "5                              59     38.4          28.5            Stressed   \n",
       "\n",
       "        Mood After Workout  \n",
       "User ID                     \n",
       "1                 Fatigued  \n",
       "2                Energized  \n",
       "3                 Fatigued  \n",
       "4                  Neutral  \n",
       "5                Energized  "
      ]
     },
     "execution_count": 1,
     "metadata": {},
     "output_type": "execute_result"
    }
   ],
   "source": [
    "import pandas as pd\n",
    "\n",
    "DATA = '/kaggle/input/workout-and-fitness-tracker-data/workout_fitness_tracker_data.csv'\n",
    "df = pd.read_csv(filepath_or_buffer=DATA, index_col=['User ID'])\n",
    "df.head()"
   ]
  },
  {
   "cell_type": "code",
   "execution_count": 2,
   "id": "c6acaef2",
   "metadata": {
    "execution": {
     "iopub.execute_input": "2025-02-27T20:25:26.547044Z",
     "iopub.status.busy": "2025-02-27T20:25:26.546721Z",
     "iopub.status.idle": "2025-02-27T20:25:26.558838Z",
     "shell.execute_reply": "2025-02-27T20:25:26.557684Z"
    },
    "papermill": {
     "duration": 0.018411,
     "end_time": "2025-02-27T20:25:26.560936",
     "exception": false,
     "start_time": "2025-02-27T20:25:26.542525",
     "status": "completed"
    },
    "tags": []
   },
   "outputs": [
    {
     "data": {
      "text/plain": [
       "{'Other': 3392, 'Male': 3370, 'Female': 3238}"
      ]
     },
     "execution_count": 2,
     "metadata": {},
     "output_type": "execute_result"
    }
   ],
   "source": [
    "df['Gender'].value_counts().to_dict()"
   ]
  },
  {
   "cell_type": "markdown",
   "id": "eb16b638",
   "metadata": {
    "papermill": {
     "duration": 0.003061,
     "end_time": "2025-02-27T20:25:26.567522",
     "exception": false,
     "start_time": "2025-02-27T20:25:26.564461",
     "status": "completed"
    },
    "tags": []
   },
   "source": [
    "The fact that we have exactly 10k records, and they are roughly evenly distributed across three genders is an early indication we have synthetic data."
   ]
  },
  {
   "cell_type": "markdown",
   "id": "806d4fcc",
   "metadata": {
    "papermill": {
     "duration": 0.00306,
     "end_time": "2025-02-27T20:25:26.575641",
     "exception": false,
     "start_time": "2025-02-27T20:25:26.572581",
     "status": "completed"
    },
    "tags": []
   },
   "source": [
    "Let's build a scatter plot using dimensionality reduction; this should tell us if our data has a signal in it."
   ]
  },
  {
   "cell_type": "code",
   "execution_count": 3,
   "id": "88e744b0",
   "metadata": {
    "execution": {
     "iopub.execute_input": "2025-02-27T20:25:26.584000Z",
     "iopub.status.busy": "2025-02-27T20:25:26.583654Z",
     "iopub.status.idle": "2025-02-27T20:26:36.155923Z",
     "shell.execute_reply": "2025-02-27T20:26:36.154680Z"
    },
    "papermill": {
     "duration": 69.579009,
     "end_time": "2025-02-27T20:26:36.158361",
     "exception": false,
     "start_time": "2025-02-27T20:25:26.579352",
     "status": "completed"
    },
    "tags": []
   },
   "outputs": [],
   "source": [
    "from sklearn.manifold import TSNE\n",
    "\n",
    "COLUMNS = [key for key, value in df.dtypes.to_dict().items() if str(value) in {'float64', 'int64'}]\n",
    "RANDOM_STATE = 2025\n",
    "TARGET = 'Gender'\n",
    "\n",
    "reducer = TSNE(random_state=RANDOM_STATE)\n",
    "plot_df = pd.DataFrame(columns=['x', 'y'], data=reducer.fit_transform(X=df[COLUMNS]))\n",
    "plot_df[TARGET] = df[TARGET].tolist()"
   ]
  },
  {
   "cell_type": "code",
   "execution_count": 4,
   "id": "eaabb254",
   "metadata": {
    "execution": {
     "iopub.execute_input": "2025-02-27T20:26:36.167132Z",
     "iopub.status.busy": "2025-02-27T20:26:36.166510Z",
     "iopub.status.idle": "2025-02-27T20:26:39.741607Z",
     "shell.execute_reply": "2025-02-27T20:26:39.740563Z"
    },
    "papermill": {
     "duration": 3.581533,
     "end_time": "2025-02-27T20:26:39.743673",
     "exception": false,
     "start_time": "2025-02-27T20:26:36.162140",
     "status": "completed"
    },
    "tags": []
   },
   "outputs": [
    {
     "data": {
      "text/html": [
       "<iframe\n",
       "    scrolling=\"no\"\n",
       "    width=\"100%\"\n",
       "    height=\"545px\"\n",
       "    src=\"iframe_figures/figure_4.html\"\n",
       "    frameborder=\"0\"\n",
       "    allowfullscreen\n",
       "></iframe>\n"
      ]
     },
     "metadata": {},
     "output_type": "display_data"
    }
   ],
   "source": [
    "from plotly import express\n",
    "from plotly import io\n",
    "\n",
    "io.renderers.default = 'iframe'\n",
    "express.scatter(data_frame=plot_df, x='x', y='y', color=TARGET)"
   ]
  },
  {
   "cell_type": "markdown",
   "id": "dec180fd",
   "metadata": {
    "papermill": {
     "duration": 0.006226,
     "end_time": "2025-02-27T20:26:39.757418",
     "exception": false,
     "start_time": "2025-02-27T20:26:39.751192",
     "status": "completed"
    },
    "tags": []
   },
   "source": [
    "Our data definitely looks synthetic. Let's make some more plots."
   ]
  },
  {
   "cell_type": "code",
   "execution_count": 5,
   "id": "6a2092e3",
   "metadata": {
    "execution": {
     "iopub.execute_input": "2025-02-27T20:26:39.769087Z",
     "iopub.status.busy": "2025-02-27T20:26:39.768621Z",
     "iopub.status.idle": "2025-02-27T20:26:39.992391Z",
     "shell.execute_reply": "2025-02-27T20:26:39.991168Z"
    },
    "papermill": {
     "duration": 0.232448,
     "end_time": "2025-02-27T20:26:39.994480",
     "exception": false,
     "start_time": "2025-02-27T20:26:39.762032",
     "status": "completed"
    },
    "tags": []
   },
   "outputs": [
    {
     "data": {
      "text/html": [
       "<iframe\n",
       "    scrolling=\"no\"\n",
       "    width=\"100%\"\n",
       "    height=\"545px\"\n",
       "    src=\"iframe_figures/figure_5.html\"\n",
       "    frameborder=\"0\"\n",
       "    allowfullscreen\n",
       "></iframe>\n"
      ]
     },
     "metadata": {},
     "output_type": "display_data"
    }
   ],
   "source": [
    "express.histogram(data_frame=df, x='Height (cm)', facet_col='Gender')"
   ]
  },
  {
   "cell_type": "code",
   "execution_count": 6,
   "id": "be894605",
   "metadata": {
    "execution": {
     "iopub.execute_input": "2025-02-27T20:26:40.003907Z",
     "iopub.status.busy": "2025-02-27T20:26:40.003541Z",
     "iopub.status.idle": "2025-02-27T20:26:40.128429Z",
     "shell.execute_reply": "2025-02-27T20:26:40.127185Z"
    },
    "papermill": {
     "duration": 0.132359,
     "end_time": "2025-02-27T20:26:40.130754",
     "exception": false,
     "start_time": "2025-02-27T20:26:39.998395",
     "status": "completed"
    },
    "tags": []
   },
   "outputs": [
    {
     "data": {
      "text/html": [
       "<iframe\n",
       "    scrolling=\"no\"\n",
       "    width=\"100%\"\n",
       "    height=\"545px\"\n",
       "    src=\"iframe_figures/figure_6.html\"\n",
       "    frameborder=\"0\"\n",
       "    allowfullscreen\n",
       "></iframe>\n"
      ]
     },
     "metadata": {},
     "output_type": "display_data"
    }
   ],
   "source": [
    "express.histogram(data_frame=df, x='Weight (kg)', facet_col='Gender')"
   ]
  },
  {
   "cell_type": "markdown",
   "id": "7948329f",
   "metadata": {
    "papermill": {
     "duration": 0.003447,
     "end_time": "2025-02-27T20:26:40.138250",
     "exception": false,
     "start_time": "2025-02-27T20:26:40.134803",
     "status": "completed"
    },
    "tags": []
   },
   "source": [
    "Yes. This is synthetic data. Height and weight are not uniformly distributed, especially accounting for sex."
   ]
  },
  {
   "cell_type": "code",
   "execution_count": 7,
   "id": "3da8bd10",
   "metadata": {
    "execution": {
     "iopub.execute_input": "2025-02-27T20:26:40.147390Z",
     "iopub.status.busy": "2025-02-27T20:26:40.146918Z",
     "iopub.status.idle": "2025-02-27T20:26:40.272586Z",
     "shell.execute_reply": "2025-02-27T20:26:40.271316Z"
    },
    "papermill": {
     "duration": 0.132747,
     "end_time": "2025-02-27T20:26:40.274672",
     "exception": false,
     "start_time": "2025-02-27T20:26:40.141925",
     "status": "completed"
    },
    "tags": []
   },
   "outputs": [
    {
     "data": {
      "text/html": [
       "<iframe\n",
       "    scrolling=\"no\"\n",
       "    width=\"100%\"\n",
       "    height=\"545px\"\n",
       "    src=\"iframe_figures/figure_7.html\"\n",
       "    frameborder=\"0\"\n",
       "    allowfullscreen\n",
       "></iframe>\n"
      ]
     },
     "metadata": {},
     "output_type": "display_data"
    }
   ],
   "source": [
    "express.scatter(data_frame=df, x='Height (cm)', y='Weight (kg)', color='Gender', facet_col='Gender')"
   ]
  },
  {
   "cell_type": "markdown",
   "id": "b496a639",
   "metadata": {
    "papermill": {
     "duration": 0.003811,
     "end_time": "2025-02-27T20:26:40.282583",
     "exception": false,
     "start_time": "2025-02-27T20:26:40.278772",
     "status": "completed"
    },
    "tags": []
   },
   "source": [
    "This is definitely synthetic data."
   ]
  }
 ],
 "metadata": {
  "kaggle": {
   "accelerator": "none",
   "dataSources": [
    {
     "datasetId": 6625474,
     "sourceId": 10692833,
     "sourceType": "datasetVersion"
    }
   ],
   "dockerImageVersionId": 30918,
   "isGpuEnabled": false,
   "isInternetEnabled": true,
   "language": "python",
   "sourceType": "notebook"
  },
  "kernelspec": {
   "display_name": "Python 3",
   "language": "python",
   "name": "python3"
  },
  "language_info": {
   "codemirror_mode": {
    "name": "ipython",
    "version": 3
   },
   "file_extension": ".py",
   "mimetype": "text/x-python",
   "name": "python",
   "nbconvert_exporter": "python",
   "pygments_lexer": "ipython3",
   "version": "3.10.12"
  },
  "papermill": {
   "default_parameters": {},
   "duration": 78.966513,
   "end_time": "2025-02-27T20:26:41.209652",
   "environment_variables": {},
   "exception": null,
   "input_path": "__notebook__.ipynb",
   "output_path": "__notebook__.ipynb",
   "parameters": {},
   "start_time": "2025-02-27T20:25:22.243139",
   "version": "2.6.0"
  }
 },
 "nbformat": 4,
 "nbformat_minor": 5
}
