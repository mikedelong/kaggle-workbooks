{
 "cells": [
  {
   "cell_type": "markdown",
   "id": "9d159de8",
   "metadata": {
    "papermill": {
     "duration": 0.005576,
     "end_time": "2025-03-13T20:22:22.372428",
     "exception": false,
     "start_time": "2025-03-13T20:22:22.366852",
     "status": "completed"
    },
    "tags": []
   },
   "source": [
    "Let's load up our data and do a little feature engineering; our data is mostly numeric, and we want to convert the target variable to a boolean."
   ]
  },
  {
   "cell_type": "code",
   "execution_count": 1,
   "id": "d4cfc4d0",
   "metadata": {
    "_cell_guid": "b1076dfc-b9ad-4769-8c92-a6c4dae69d19",
    "_uuid": "8f2839f25d086af736a60e9eeb907d3b93b6e0e5",
    "execution": {
     "iopub.execute_input": "2025-03-13T20:22:22.382717Z",
     "iopub.status.busy": "2025-03-13T20:22:22.382035Z",
     "iopub.status.idle": "2025-03-13T20:22:23.514502Z",
     "shell.execute_reply": "2025-03-13T20:22:23.513384Z"
    },
    "papermill": {
     "duration": 1.139642,
     "end_time": "2025-03-13T20:22:23.516487",
     "exception": false,
     "start_time": "2025-03-13T20:22:22.376845",
     "status": "completed"
    },
    "tags": []
   },
   "outputs": [
    {
     "data": {
      "text/html": [
       "<div>\n",
       "<style scoped>\n",
       "    .dataframe tbody tr th:only-of-type {\n",
       "        vertical-align: middle;\n",
       "    }\n",
       "\n",
       "    .dataframe tbody tr th {\n",
       "        vertical-align: top;\n",
       "    }\n",
       "\n",
       "    .dataframe thead th {\n",
       "        text-align: right;\n",
       "    }\n",
       "</style>\n",
       "<table border=\"1\" class=\"dataframe\">\n",
       "  <thead>\n",
       "    <tr style=\"text-align: right;\">\n",
       "      <th></th>\n",
       "      <th>AGE</th>\n",
       "      <th>GENDER</th>\n",
       "      <th>SMOKING</th>\n",
       "      <th>FINGER_DISCOLORATION</th>\n",
       "      <th>MENTAL_STRESS</th>\n",
       "      <th>EXPOSURE_TO_POLLUTION</th>\n",
       "      <th>LONG_TERM_ILLNESS</th>\n",
       "      <th>ENERGY_LEVEL</th>\n",
       "      <th>IMMUNE_WEAKNESS</th>\n",
       "      <th>BREATHING_ISSUE</th>\n",
       "      <th>ALCOHOL_CONSUMPTION</th>\n",
       "      <th>THROAT_DISCOMFORT</th>\n",
       "      <th>OXYGEN_SATURATION</th>\n",
       "      <th>CHEST_TIGHTNESS</th>\n",
       "      <th>FAMILY_HISTORY</th>\n",
       "      <th>SMOKING_FAMILY_HISTORY</th>\n",
       "      <th>STRESS_IMMUNE</th>\n",
       "      <th>PULMONARY_DISEASE</th>\n",
       "    </tr>\n",
       "  </thead>\n",
       "  <tbody>\n",
       "    <tr>\n",
       "      <th>0</th>\n",
       "      <td>68</td>\n",
       "      <td>1</td>\n",
       "      <td>1</td>\n",
       "      <td>1</td>\n",
       "      <td>1</td>\n",
       "      <td>1</td>\n",
       "      <td>0</td>\n",
       "      <td>57.831178</td>\n",
       "      <td>0</td>\n",
       "      <td>0</td>\n",
       "      <td>1</td>\n",
       "      <td>1</td>\n",
       "      <td>95.977287</td>\n",
       "      <td>1</td>\n",
       "      <td>0</td>\n",
       "      <td>0</td>\n",
       "      <td>0</td>\n",
       "      <td>False</td>\n",
       "    </tr>\n",
       "    <tr>\n",
       "      <th>1</th>\n",
       "      <td>81</td>\n",
       "      <td>1</td>\n",
       "      <td>1</td>\n",
       "      <td>0</td>\n",
       "      <td>0</td>\n",
       "      <td>1</td>\n",
       "      <td>1</td>\n",
       "      <td>47.694835</td>\n",
       "      <td>1</td>\n",
       "      <td>1</td>\n",
       "      <td>0</td>\n",
       "      <td>1</td>\n",
       "      <td>97.184483</td>\n",
       "      <td>0</td>\n",
       "      <td>0</td>\n",
       "      <td>0</td>\n",
       "      <td>0</td>\n",
       "      <td>True</td>\n",
       "    </tr>\n",
       "    <tr>\n",
       "      <th>2</th>\n",
       "      <td>58</td>\n",
       "      <td>1</td>\n",
       "      <td>1</td>\n",
       "      <td>0</td>\n",
       "      <td>0</td>\n",
       "      <td>0</td>\n",
       "      <td>0</td>\n",
       "      <td>59.577435</td>\n",
       "      <td>0</td>\n",
       "      <td>1</td>\n",
       "      <td>1</td>\n",
       "      <td>0</td>\n",
       "      <td>94.974939</td>\n",
       "      <td>0</td>\n",
       "      <td>0</td>\n",
       "      <td>0</td>\n",
       "      <td>0</td>\n",
       "      <td>False</td>\n",
       "    </tr>\n",
       "    <tr>\n",
       "      <th>3</th>\n",
       "      <td>44</td>\n",
       "      <td>0</td>\n",
       "      <td>1</td>\n",
       "      <td>0</td>\n",
       "      <td>1</td>\n",
       "      <td>1</td>\n",
       "      <td>0</td>\n",
       "      <td>59.785767</td>\n",
       "      <td>0</td>\n",
       "      <td>1</td>\n",
       "      <td>0</td>\n",
       "      <td>1</td>\n",
       "      <td>95.187900</td>\n",
       "      <td>0</td>\n",
       "      <td>0</td>\n",
       "      <td>0</td>\n",
       "      <td>0</td>\n",
       "      <td>True</td>\n",
       "    </tr>\n",
       "    <tr>\n",
       "      <th>4</th>\n",
       "      <td>72</td>\n",
       "      <td>0</td>\n",
       "      <td>1</td>\n",
       "      <td>1</td>\n",
       "      <td>1</td>\n",
       "      <td>1</td>\n",
       "      <td>1</td>\n",
       "      <td>59.733941</td>\n",
       "      <td>0</td>\n",
       "      <td>1</td>\n",
       "      <td>0</td>\n",
       "      <td>1</td>\n",
       "      <td>93.503008</td>\n",
       "      <td>0</td>\n",
       "      <td>0</td>\n",
       "      <td>0</td>\n",
       "      <td>0</td>\n",
       "      <td>True</td>\n",
       "    </tr>\n",
       "  </tbody>\n",
       "</table>\n",
       "</div>"
      ],
      "text/plain": [
       "   AGE  GENDER  SMOKING  FINGER_DISCOLORATION  MENTAL_STRESS  \\\n",
       "0   68       1        1                     1              1   \n",
       "1   81       1        1                     0              0   \n",
       "2   58       1        1                     0              0   \n",
       "3   44       0        1                     0              1   \n",
       "4   72       0        1                     1              1   \n",
       "\n",
       "   EXPOSURE_TO_POLLUTION  LONG_TERM_ILLNESS  ENERGY_LEVEL  IMMUNE_WEAKNESS  \\\n",
       "0                      1                  0     57.831178                0   \n",
       "1                      1                  1     47.694835                1   \n",
       "2                      0                  0     59.577435                0   \n",
       "3                      1                  0     59.785767                0   \n",
       "4                      1                  1     59.733941                0   \n",
       "\n",
       "   BREATHING_ISSUE  ALCOHOL_CONSUMPTION  THROAT_DISCOMFORT  OXYGEN_SATURATION  \\\n",
       "0                0                    1                  1          95.977287   \n",
       "1                1                    0                  1          97.184483   \n",
       "2                1                    1                  0          94.974939   \n",
       "3                1                    0                  1          95.187900   \n",
       "4                1                    0                  1          93.503008   \n",
       "\n",
       "   CHEST_TIGHTNESS  FAMILY_HISTORY  SMOKING_FAMILY_HISTORY  STRESS_IMMUNE  \\\n",
       "0                1               0                       0              0   \n",
       "1                0               0                       0              0   \n",
       "2                0               0                       0              0   \n",
       "3                0               0                       0              0   \n",
       "4                0               0                       0              0   \n",
       "\n",
       "   PULMONARY_DISEASE  \n",
       "0              False  \n",
       "1               True  \n",
       "2              False  \n",
       "3               True  \n",
       "4               True  "
      ]
     },
     "execution_count": 1,
     "metadata": {},
     "output_type": "execute_result"
    }
   ],
   "source": [
    "import pandas as pd\n",
    "\n",
    "COLUMNS = ['AGE', 'GENDER', 'SMOKING', 'FINGER_DISCOLORATION', 'MENTAL_STRESS', 'EXPOSURE_TO_POLLUTION', 'LONG_TERM_ILLNESS', 'ENERGY_LEVEL',\n",
    "       'IMMUNE_WEAKNESS', 'BREATHING_ISSUE', 'ALCOHOL_CONSUMPTION', 'THROAT_DISCOMFORT', 'OXYGEN_SATURATION', 'CHEST_TIGHTNESS',\n",
    "       'FAMILY_HISTORY', 'SMOKING_FAMILY_HISTORY', 'STRESS_IMMUNE',]\n",
    "DATA = '/kaggle/input/lung-cancer-prediction-dataset/Lung Cancer Dataset.csv'\n",
    "RANDOM_STATE = 2025\n",
    "TARGET = 'PULMONARY_DISEASE'\n",
    "df = pd.read_csv(filepath_or_buffer=DATA)\n",
    "df[TARGET] = df[TARGET] == 'YES'\n",
    "df.head()"
   ]
  },
  {
   "cell_type": "markdown",
   "id": "f7e6f16f",
   "metadata": {
    "papermill": {
     "duration": 0.00511,
     "end_time": "2025-03-13T20:22:23.526369",
     "exception": false,
     "start_time": "2025-03-13T20:22:23.521259",
     "status": "completed"
    },
    "tags": []
   },
   "source": [
    "Let's make an exploratory plot and see if our data has any trends in it."
   ]
  },
  {
   "cell_type": "code",
   "execution_count": 2,
   "id": "ddfb489b",
   "metadata": {
    "execution": {
     "iopub.execute_input": "2025-03-13T20:22:23.537813Z",
     "iopub.status.busy": "2025-03-13T20:22:23.537398Z",
     "iopub.status.idle": "2025-03-13T20:22:56.557328Z",
     "shell.execute_reply": "2025-03-13T20:22:56.556446Z"
    },
    "papermill": {
     "duration": 33.028715,
     "end_time": "2025-03-13T20:22:56.559785",
     "exception": false,
     "start_time": "2025-03-13T20:22:23.531070",
     "status": "completed"
    },
    "tags": []
   },
   "outputs": [],
   "source": [
    "from sklearn.manifold import TSNE\n",
    "\n",
    "reducer = TSNE(random_state=RANDOM_STATE)\n",
    "plot_df = pd.DataFrame(columns=['x', 'y'], data=reducer.fit_transform(X=df[COLUMNS]))\n",
    "plot_df[TARGET] = df[TARGET].tolist()"
   ]
  },
  {
   "cell_type": "code",
   "execution_count": 3,
   "id": "17ee6d6b",
   "metadata": {
    "execution": {
     "iopub.execute_input": "2025-03-13T20:22:56.570599Z",
     "iopub.status.busy": "2025-03-13T20:22:56.570048Z",
     "iopub.status.idle": "2025-03-13T20:23:00.051625Z",
     "shell.execute_reply": "2025-03-13T20:23:00.050705Z"
    },
    "papermill": {
     "duration": 3.488918,
     "end_time": "2025-03-13T20:23:00.053442",
     "exception": false,
     "start_time": "2025-03-13T20:22:56.564524",
     "status": "completed"
    },
    "tags": []
   },
   "outputs": [
    {
     "data": {
      "text/html": [
       "<iframe\n",
       "    scrolling=\"no\"\n",
       "    width=\"100%\"\n",
       "    height=\"545px\"\n",
       "    src=\"iframe_figures/figure_3.html\"\n",
       "    frameborder=\"0\"\n",
       "    allowfullscreen\n",
       "></iframe>\n"
      ]
     },
     "metadata": {},
     "output_type": "display_data"
    }
   ],
   "source": [
    "from plotly import express\n",
    "from plotly import io\n",
    "\n",
    "io.renderers.default = 'iframe'\n",
    "express.scatter(data_frame=plot_df, x='x', y='y', color=TARGET)"
   ]
  },
  {
   "cell_type": "markdown",
   "id": "e2d9bf55",
   "metadata": {
    "papermill": {
     "duration": 0.004562,
     "end_time": "2025-03-13T20:23:00.063248",
     "exception": false,
     "start_time": "2025-03-13T20:23:00.058686",
     "status": "completed"
    },
    "tags": []
   },
   "source": [
    "This is the sort of plot we often see when dealing with synthetic data. Let's explore some of the variables."
   ]
  },
  {
   "cell_type": "code",
   "execution_count": 4,
   "id": "bec2ad2d",
   "metadata": {
    "execution": {
     "iopub.execute_input": "2025-03-13T20:23:00.074220Z",
     "iopub.status.busy": "2025-03-13T20:23:00.073866Z",
     "iopub.status.idle": "2025-03-13T20:23:00.245295Z",
     "shell.execute_reply": "2025-03-13T20:23:00.244189Z"
    },
    "papermill": {
     "duration": 0.17899,
     "end_time": "2025-03-13T20:23:00.247244",
     "exception": false,
     "start_time": "2025-03-13T20:23:00.068254",
     "status": "completed"
    },
    "tags": []
   },
   "outputs": [
    {
     "data": {
      "text/html": [
       "<iframe\n",
       "    scrolling=\"no\"\n",
       "    width=\"100%\"\n",
       "    height=\"545px\"\n",
       "    src=\"iframe_figures/figure_4.html\"\n",
       "    frameborder=\"0\"\n",
       "    allowfullscreen\n",
       "></iframe>\n"
      ]
     },
     "metadata": {},
     "output_type": "display_data"
    }
   ],
   "source": [
    "express.scatter(data_frame=df, x='OXYGEN_SATURATION', y='ENERGY_LEVEL', facet_col=TARGET, color='GENDER')"
   ]
  },
  {
   "cell_type": "markdown",
   "id": "59fd4398",
   "metadata": {
    "papermill": {
     "duration": 0.004597,
     "end_time": "2025-03-13T20:23:00.256828",
     "exception": false,
     "start_time": "2025-03-13T20:23:00.252231",
     "status": "completed"
    },
    "tags": []
   },
   "source": [
    "This data looks very random. We would expect there to be some correlation between o2 sats and energy level. Is there?"
   ]
  },
  {
   "cell_type": "code",
   "execution_count": 5,
   "id": "d8f7b077",
   "metadata": {
    "execution": {
     "iopub.execute_input": "2025-03-13T20:23:00.267789Z",
     "iopub.status.busy": "2025-03-13T20:23:00.267408Z",
     "iopub.status.idle": "2025-03-13T20:23:00.278465Z",
     "shell.execute_reply": "2025-03-13T20:23:00.277303Z"
    },
    "papermill": {
     "duration": 0.018499,
     "end_time": "2025-03-13T20:23:00.280320",
     "exception": false,
     "start_time": "2025-03-13T20:23:00.261821",
     "status": "completed"
    },
    "tags": []
   },
   "outputs": [
    {
     "data": {
      "text/html": [
       "<div>\n",
       "<style scoped>\n",
       "    .dataframe tbody tr th:only-of-type {\n",
       "        vertical-align: middle;\n",
       "    }\n",
       "\n",
       "    .dataframe tbody tr th {\n",
       "        vertical-align: top;\n",
       "    }\n",
       "\n",
       "    .dataframe thead th {\n",
       "        text-align: right;\n",
       "    }\n",
       "</style>\n",
       "<table border=\"1\" class=\"dataframe\">\n",
       "  <thead>\n",
       "    <tr style=\"text-align: right;\">\n",
       "      <th></th>\n",
       "      <th>OXYGEN_SATURATION</th>\n",
       "      <th>ENERGY_LEVEL</th>\n",
       "    </tr>\n",
       "  </thead>\n",
       "  <tbody>\n",
       "    <tr>\n",
       "      <th>OXYGEN_SATURATION</th>\n",
       "      <td>1.000000</td>\n",
       "      <td>0.008761</td>\n",
       "    </tr>\n",
       "    <tr>\n",
       "      <th>ENERGY_LEVEL</th>\n",
       "      <td>0.008761</td>\n",
       "      <td>1.000000</td>\n",
       "    </tr>\n",
       "  </tbody>\n",
       "</table>\n",
       "</div>"
      ],
      "text/plain": [
       "                   OXYGEN_SATURATION  ENERGY_LEVEL\n",
       "OXYGEN_SATURATION           1.000000      0.008761\n",
       "ENERGY_LEVEL                0.008761      1.000000"
      ]
     },
     "execution_count": 5,
     "metadata": {},
     "output_type": "execute_result"
    }
   ],
   "source": [
    "df[['OXYGEN_SATURATION', 'ENERGY_LEVEL']].corr()"
   ]
  },
  {
   "cell_type": "markdown",
   "id": "3682f746",
   "metadata": {
    "papermill": {
     "duration": 0.004674,
     "end_time": "2025-03-13T20:23:00.290075",
     "exception": false,
     "start_time": "2025-03-13T20:23:00.285401",
     "status": "completed"
    },
    "tags": []
   },
   "source": [
    "There's essentially no correlation. Let's look at all of the numerical data  and see if any of our variables are correlated."
   ]
  },
  {
   "cell_type": "code",
   "execution_count": 6,
   "id": "dd0f2775",
   "metadata": {
    "execution": {
     "iopub.execute_input": "2025-03-13T20:23:00.301148Z",
     "iopub.status.busy": "2025-03-13T20:23:00.300764Z",
     "iopub.status.idle": "2025-03-13T20:23:01.601000Z",
     "shell.execute_reply": "2025-03-13T20:23:01.599729Z"
    },
    "papermill": {
     "duration": 1.31081,
     "end_time": "2025-03-13T20:23:01.605723",
     "exception": false,
     "start_time": "2025-03-13T20:23:00.294913",
     "status": "completed"
    },
    "tags": []
   },
   "outputs": [
    {
     "data": {
      "text/plain": [
       "<Axes: >"
      ]
     },
     "execution_count": 6,
     "metadata": {},
     "output_type": "execute_result"
    },
    {
     "data": {
      "image/png": "[encoded data removed]",
      "text/plain": [
       "<Figure size 640x480 with 2 Axes>"
      ]
     },
     "metadata": {},
     "output_type": "display_data"
    }
   ],
   "source": [
    "from seaborn import heatmap\n",
    "heatmap(data=10 * df.corr(numeric_only=True),)"
   ]
  },
  {
   "cell_type": "markdown",
   "id": "b9ebb003",
   "metadata": {
    "papermill": {
     "duration": 0.007306,
     "end_time": "2025-03-13T20:23:01.621157",
     "exception": false,
     "start_time": "2025-03-13T20:23:01.613851",
     "status": "completed"
    },
    "tags": []
   },
   "source": [
    "This is very odd; some of our variables are correlated with the target variable, but almost none of them are correlated with each other. Let's build a classifier and see what happens."
   ]
  },
  {
   "cell_type": "code",
   "execution_count": 7,
   "id": "41c1a7a0",
   "metadata": {
    "execution": {
     "iopub.execute_input": "2025-03-13T20:23:01.637630Z",
     "iopub.status.busy": "2025-03-13T20:23:01.636977Z",
     "iopub.status.idle": "2025-03-13T20:23:01.652501Z",
     "shell.execute_reply": "2025-03-13T20:23:01.651184Z"
    },
    "papermill": {
     "duration": 0.025834,
     "end_time": "2025-03-13T20:23:01.654315",
     "exception": false,
     "start_time": "2025-03-13T20:23:01.628481",
     "status": "completed"
    },
    "tags": []
   },
   "outputs": [
    {
     "data": {
      "text/html": [
       "<div>\n",
       "<style scoped>\n",
       "    .dataframe tbody tr th:only-of-type {\n",
       "        vertical-align: middle;\n",
       "    }\n",
       "\n",
       "    .dataframe tbody tr th {\n",
       "        vertical-align: top;\n",
       "    }\n",
       "\n",
       "    .dataframe thead th {\n",
       "        text-align: right;\n",
       "    }\n",
       "</style>\n",
       "<table border=\"1\" class=\"dataframe\">\n",
       "  <thead>\n",
       "    <tr style=\"text-align: right;\">\n",
       "      <th>PULMONARY_DISEASE</th>\n",
       "      <th>False</th>\n",
       "      <th>True</th>\n",
       "    </tr>\n",
       "  </thead>\n",
       "  <tbody>\n",
       "    <tr>\n",
       "      <th>count</th>\n",
       "      <td>2963</td>\n",
       "      <td>2037</td>\n",
       "    </tr>\n",
       "  </tbody>\n",
       "</table>\n",
       "</div>"
      ],
      "text/plain": [
       "PULMONARY_DISEASE  False  True \n",
       "count               2963   2037"
      ]
     },
     "execution_count": 7,
     "metadata": {},
     "output_type": "execute_result"
    }
   ],
   "source": [
    "df[TARGET].value_counts().to_frame().T"
   ]
  },
  {
   "cell_type": "markdown",
   "id": "39afd507",
   "metadata": {
    "papermill": {
     "duration": 0.007061,
     "end_time": "2025-03-13T20:23:01.668929",
     "exception": false,
     "start_time": "2025-03-13T20:23:01.661868",
     "status": "completed"
    },
    "tags": []
   },
   "source": [
    "Our target variable is unbalanced about three to two. Let's rebalance."
   ]
  },
  {
   "cell_type": "code",
   "execution_count": 8,
   "id": "268038bd",
   "metadata": {
    "execution": {
     "iopub.execute_input": "2025-03-13T20:23:01.684891Z",
     "iopub.status.busy": "2025-03-13T20:23:01.684494Z",
     "iopub.status.idle": "2025-03-13T20:23:01.702388Z",
     "shell.execute_reply": "2025-03-13T20:23:01.701311Z"
    },
    "papermill": {
     "duration": 0.028046,
     "end_time": "2025-03-13T20:23:01.704340",
     "exception": false,
     "start_time": "2025-03-13T20:23:01.676294",
     "status": "completed"
    },
    "tags": []
   },
   "outputs": [
    {
     "data": {
      "text/html": [
       "<div>\n",
       "<style scoped>\n",
       "    .dataframe tbody tr th:only-of-type {\n",
       "        vertical-align: middle;\n",
       "    }\n",
       "\n",
       "    .dataframe tbody tr th {\n",
       "        vertical-align: top;\n",
       "    }\n",
       "\n",
       "    .dataframe thead th {\n",
       "        text-align: right;\n",
       "    }\n",
       "</style>\n",
       "<table border=\"1\" class=\"dataframe\">\n",
       "  <thead>\n",
       "    <tr style=\"text-align: right;\">\n",
       "      <th>PULMONARY_DISEASE</th>\n",
       "      <th>False</th>\n",
       "      <th>True</th>\n",
       "    </tr>\n",
       "  </thead>\n",
       "  <tbody>\n",
       "    <tr>\n",
       "      <th>count</th>\n",
       "      <td>2000</td>\n",
       "      <td>2000</td>\n",
       "    </tr>\n",
       "  </tbody>\n",
       "</table>\n",
       "</div>"
      ],
      "text/plain": [
       "PULMONARY_DISEASE  False  True \n",
       "count               2000   2000"
      ]
     },
     "execution_count": 8,
     "metadata": {},
     "output_type": "execute_result"
    }
   ],
   "source": [
    "sample_df = pd.concat(axis='index', objs=[df[df[TARGET]].sample(n=2000, random_state=RANDOM_STATE), df[~df[TARGET]].sample(n=2000, random_state=RANDOM_STATE)]).sort_index()\n",
    "sample_df[TARGET].value_counts().to_frame().T"
   ]
  },
  {
   "cell_type": "code",
   "execution_count": 9,
   "id": "e9a7d251",
   "metadata": {
    "execution": {
     "iopub.execute_input": "2025-03-13T20:23:01.721929Z",
     "iopub.status.busy": "2025-03-13T20:23:01.721515Z",
     "iopub.status.idle": "2025-03-13T20:23:02.003633Z",
     "shell.execute_reply": "2025-03-13T20:23:02.002320Z"
    },
    "papermill": {
     "duration": 0.292659,
     "end_time": "2025-03-13T20:23:02.005645",
     "exception": false,
     "start_time": "2025-03-13T20:23:01.712986",
     "status": "completed"
    },
    "tags": []
   },
   "outputs": [
    {
     "name": "stdout",
     "output_type": "stream",
     "text": [
      "model fit in 658 iterations\n",
      "accuracy: 0.8880\n",
      "f1: 0.8883\n",
      "              precision    recall  f1-score   support\n",
      "\n",
      "       False       0.91      0.89      0.90      1185\n",
      "        True       0.85      0.88      0.86       815\n",
      "\n",
      "    accuracy                           0.89      2000\n",
      "   macro avg       0.88      0.89      0.88      2000\n",
      "weighted avg       0.89      0.89      0.89      2000\n",
      "\n"
     ]
    }
   ],
   "source": [
    "from sklearn.linear_model import LogisticRegression\n",
    "from sklearn.metrics import accuracy_score\n",
    "from sklearn.metrics import classification_report\n",
    "from sklearn.metrics import f1_score\n",
    "from sklearn.model_selection import train_test_split\n",
    "\n",
    "X_train, X_test, y_train, y_test = train_test_split(df[COLUMNS], df[TARGET], test_size=0.4, random_state=2024, stratify=df[TARGET])\n",
    "logreg = LogisticRegression(max_iter=1000, tol=1e-12).fit(X_train, y_train)\n",
    "print('model fit in {} iterations'.format(logreg.n_iter_[0]))\n",
    "print('accuracy: {:5.4f}'.format(accuracy_score(y_true=y_test, y_pred=logreg.predict(X=X_test))))\n",
    "print('f1: {:5.4f}'.format(f1_score(average='weighted', y_true=y_test, y_pred=logreg.predict(X=X_test))))\n",
    "print(classification_report(y_true=y_test, y_pred=logreg.predict(X=X_test)))"
   ]
  },
  {
   "cell_type": "markdown",
   "id": "26faf418",
   "metadata": {
    "papermill": {
     "duration": 0.00728,
     "end_time": "2025-03-13T20:23:02.020924",
     "exception": false,
     "start_time": "2025-03-13T20:23:02.013644",
     "status": "completed"
    },
    "tags": []
   },
   "source": [
    "That's really surprising. Let's look at our feature importances."
   ]
  },
  {
   "cell_type": "code",
   "execution_count": 10,
   "id": "016675ee",
   "metadata": {
    "execution": {
     "iopub.execute_input": "2025-03-13T20:23:02.037437Z",
     "iopub.status.busy": "2025-03-13T20:23:02.037071Z",
     "iopub.status.idle": "2025-03-13T20:23:02.161354Z",
     "shell.execute_reply": "2025-03-13T20:23:02.160088Z"
    },
    "papermill": {
     "duration": 0.135223,
     "end_time": "2025-03-13T20:23:02.163694",
     "exception": false,
     "start_time": "2025-03-13T20:23:02.028471",
     "status": "completed"
    },
    "tags": []
   },
   "outputs": [
    {
     "data": {
      "text/html": [
       "<iframe\n",
       "    scrolling=\"no\"\n",
       "    width=\"100%\"\n",
       "    height=\"545px\"\n",
       "    src=\"iframe_figures/figure_10.html\"\n",
       "    frameborder=\"0\"\n",
       "    allowfullscreen\n",
       "></iframe>\n"
      ]
     },
     "metadata": {},
     "output_type": "display_data"
    }
   ],
   "source": [
    "express.bar(x=COLUMNS, y=logreg.coef_[0])"
   ]
  },
  {
   "cell_type": "markdown",
   "id": "46d5c13e",
   "metadata": {
    "papermill": {
     "duration": 0.007404,
     "end_time": "2025-03-13T20:23:02.178956",
     "exception": false,
     "start_time": "2025-03-13T20:23:02.171552",
     "status": "completed"
    },
    "tags": []
   },
   "source": [
    "Not surprisingly, smoking is an important feature, as are breathing issues, throat issues, stress immunity, and a family history of smoking."
   ]
  }
 ],
 "metadata": {
  "kaggle": {
   "accelerator": "none",
   "dataSources": [
    {
     "datasetId": 6723424,
     "sourceId": 10827884,
     "sourceType": "datasetVersion"
    }
   ],
   "dockerImageVersionId": 30918,
   "isGpuEnabled": false,
   "isInternetEnabled": true,
   "language": "python",
   "sourceType": "notebook"
  },
  "kernelspec": {
   "display_name": "Python 3",
   "language": "python",
   "name": "python3"
  },
  "language_info": {
   "codemirror_mode": {
    "name": "ipython",
    "version": 3
   },
   "file_extension": ".py",
   "mimetype": "text/x-python",
   "name": "python",
   "nbconvert_exporter": "python",
   "pygments_lexer": "ipython3",
   "version": "3.10.12"
  },
  "papermill": {
   "default_parameters": {},
   "duration": 43.663133,
   "end_time": "2025-03-13T20:23:03.008546",
   "environment_variables": {},
   "exception": null,
   "input_path": "__notebook__.ipynb",
   "output_path": "__notebook__.ipynb",
   "parameters": {},
   "start_time": "2025-03-13T20:22:19.345413",
   "version": "2.6.0"
  }
 },
 "nbformat": 4,
 "nbformat_minor": 5
}
