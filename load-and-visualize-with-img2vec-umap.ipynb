{
 "cells": [
  {
   "cell_type": "code",
   "execution_count": 1,
   "id": "22256075",
   "metadata": {
    "_cell_guid": "b1076dfc-b9ad-4769-8c92-a6c4dae69d19",
    "_uuid": "8f2839f25d086af736a60e9eeb907d3b93b6e0e5",
    "execution": {
     "iopub.execute_input": "2024-02-24T14:38:18.271481Z",
     "iopub.status.busy": "2024-02-24T14:38:18.270823Z",
     "iopub.status.idle": "2024-02-24T14:38:36.727819Z",
     "shell.execute_reply": "2024-02-24T14:38:36.725602Z"
    },
    "papermill": {
     "duration": 18.466359,
     "end_time": "2024-02-24T14:38:36.730953",
     "exception": false,
     "start_time": "2024-02-24T14:38:18.264594",
     "status": "completed"
    },
    "tags": []
   },
   "outputs": [
    {
     "name": "stdout",
     "output_type": "stream",
     "text": [
      "pip installed img2vec\n"
     ]
    }
   ],
   "source": [
    "!pip install --quiet img2vec_pytorch\n",
    "print('pip installed img2vec')\n",
    "\n",
    "from warnings import filterwarnings\n",
    "filterwarnings(action='ignore', category=FutureWarning) # quiet a plotly issue\n",
    "filterwarnings(action='ignore', category=UserWarning) # quiet an img2vec issue"
   ]
  },
  {
   "cell_type": "code",
   "execution_count": 2,
   "id": "f48fa2b5",
   "metadata": {
    "execution": {
     "iopub.execute_input": "2024-02-24T14:38:36.740835Z",
     "iopub.status.busy": "2024-02-24T14:38:36.740016Z",
     "iopub.status.idle": "2024-02-24T14:39:09.982274Z",
     "shell.execute_reply": "2024-02-24T14:39:09.981205Z"
    },
    "papermill": {
     "duration": 33.255257,
     "end_time": "2024-02-24T14:39:09.989791",
     "exception": false,
     "start_time": "2024-02-24T14:38:36.734534",
     "status": "completed"
    },
    "tags": []
   },
   "outputs": [
    {
     "name": "stderr",
     "output_type": "stream",
     "text": [
      "Downloading: \"https://download.pytorch.org/models/resnet18-f37072fd.pth\" to /root/.cache/torch/hub/checkpoints/resnet18-f37072fd.pth\n",
      "100%|██████████| 44.7M/44.7M [00:00<00:00, 110MB/s]\n"
     ]
    },
    {
     "name": "stdout",
     "output_type": "stream",
     "text": [
      "encoded paper data 100 rows in 0:00:07.516042\n",
      "encoded rock data 100 rows in 0:00:07.331164\n",
      "encoded scissors data 100 rows in 0:00:07.598564\n",
      "done in 0:00:22.494596\n"
     ]
    }
   ],
   "source": [
    "from img2vec_pytorch import Img2Vec\n",
    "from PIL import Image\n",
    "from arrow import now\n",
    "from glob import glob\n",
    "import pandas as pd\n",
    "from os.path import basename\n",
    "\n",
    "SIZE = 512\n",
    "STOP = 100 \n",
    "DATA_GLOB = '/kaggle/input/rock-paper-scissors-dataset'\n",
    "\n",
    "# https://stackoverflow.com/a/952952\n",
    "def flatten(arg):\n",
    "    return [x for xs in arg for x in xs]\n",
    "\n",
    "def get_from_glob(arg: str, tag: str, stop: int) -> list:\n",
    "    time_get = now()\n",
    "    result = []\n",
    "    for index, input_file in enumerate(glob(pathname=arg)):\n",
    "        if index < stop:\n",
    "            name = basename(input_file)\n",
    "            with Image.open(fp=input_file, mode='r') as image:\n",
    "                vector = img2vec.get_vec(image, tensor=True).numpy().reshape(SIZE,)\n",
    "                result.append(pd.Series(data=[tag, name, vector], index=['tag', 'name', 'value']))\n",
    "    print('encoded {} data {} rows in {}'.format(tag, len(result), now() - time_get))\n",
    "    return result\n",
    "\n",
    "\n",
    "img2vec = Img2Vec(cuda=False, model='resnet-18', layer='default', layer_output_size=SIZE)\n",
    "\n",
    "time_start = now()\n",
    "\n",
    "files = {basename(folder) : folder + '/*.png' for folder in glob(DATA_GLOB + '/*')}\n",
    "data = [get_from_glob(arg=value, tag=key, stop=STOP) for key, value in files.items()]\n",
    "df = pd.DataFrame(data=flatten(arg=data))\n",
    "    \n",
    "print('done in {}'.format(now() - time_start))"
   ]
  },
  {
   "cell_type": "code",
   "execution_count": 3,
   "id": "461724d3",
   "metadata": {
    "execution": {
     "iopub.execute_input": "2024-02-24T14:39:10.002449Z",
     "iopub.status.busy": "2024-02-24T14:39:10.001048Z",
     "iopub.status.idle": "2024-02-24T14:40:02.176685Z",
     "shell.execute_reply": "2024-02-24T14:40:02.174562Z"
    },
    "papermill": {
     "duration": 52.185286,
     "end_time": "2024-02-24T14:40:02.179816",
     "exception": false,
     "start_time": "2024-02-24T14:39:09.994530",
     "status": "completed"
    },
    "tags": []
   },
   "outputs": [
    {
     "name": "stderr",
     "output_type": "stream",
     "text": [
      "2024-02-24 14:39:34.358252: E external/local_xla/xla/stream_executor/cuda/cuda_dnn.cc:9261] Unable to register cuDNN factory: Attempting to register factory for plugin cuDNN when one has already been registered\n",
      "2024-02-24 14:39:34.358419: E external/local_xla/xla/stream_executor/cuda/cuda_fft.cc:607] Unable to register cuFFT factory: Attempting to register factory for plugin cuFFT when one has already been registered\n",
      "2024-02-24 14:39:34.532612: E external/local_xla/xla/stream_executor/cuda/cuda_blas.cc:1515] Unable to register cuBLAS factory: Attempting to register factory for plugin cuBLAS when one has already been registered\n"
     ]
    },
    {
     "name": "stdout",
     "output_type": "stream",
     "text": [
      "UMAP(low_memory=False, n_epochs=500, n_jobs=1, random_state=2024, verbose=True)\n",
      "Sat Feb 24 14:39:50 2024 Construct fuzzy simplicial set\n",
      "Sat Feb 24 14:39:51 2024 Finding Nearest Neighbors\n",
      "Sat Feb 24 14:39:56 2024 Finished Nearest Neighbor Search\n",
      "Sat Feb 24 14:40:00 2024 Construct embedding\n"
     ]
    },
    {
     "data": {
      "application/vnd.jupyter.widget-view+json": {
       "model_id": "0b1206e4cf4a4e5e8ddcdb5d5d69ed5f",
       "version_major": 2,
       "version_minor": 0
      },
      "text/plain": [
       "Epochs completed:   0%|            0/500 [00:00]"
      ]
     },
     "metadata": {},
     "output_type": "display_data"
    },
    {
     "name": "stdout",
     "output_type": "stream",
     "text": [
      "\tcompleted  0  /  500 epochs\n",
      "\tcompleted  50  /  500 epochs\n",
      "\tcompleted  100  /  500 epochs\n",
      "\tcompleted  150  /  500 epochs\n",
      "\tcompleted  200  /  500 epochs\n",
      "\tcompleted  250  /  500 epochs\n",
      "\tcompleted  300  /  500 epochs\n",
      "\tcompleted  350  /  500 epochs\n",
      "\tcompleted  400  /  500 epochs\n",
      "\tcompleted  450  /  500 epochs\n",
      "Sat Feb 24 14:40:02 2024 Finished embedding\n",
      "done with UMAP in 0:00:11.692296\n"
     ]
    }
   ],
   "source": [
    "from arrow import now\n",
    "from umap import UMAP\n",
    "\n",
    "time_start = now()\n",
    "umap = UMAP(random_state=2024, verbose=True, n_jobs=1, low_memory=False, n_epochs=500)\n",
    "plot_df = pd.concat(objs=[df, pd.DataFrame(data=umap.fit_transform(X=df['value'].apply(pd.Series)), columns=['x', 'y'])], axis=1)\n",
    "print('done with UMAP in {}'.format(now() - time_start))"
   ]
  },
  {
   "cell_type": "code",
   "execution_count": 4,
   "id": "aa891d7b",
   "metadata": {
    "execution": {
     "iopub.execute_input": "2024-02-24T14:40:02.194145Z",
     "iopub.status.busy": "2024-02-24T14:40:02.193012Z",
     "iopub.status.idle": "2024-02-24T14:40:05.279360Z",
     "shell.execute_reply": "2024-02-24T14:40:05.277859Z"
    },
    "papermill": {
     "duration": 3.097123,
     "end_time": "2024-02-24T14:40:05.282486",
     "exception": false,
     "start_time": "2024-02-24T14:40:02.185363",
     "status": "completed"
    },
    "tags": []
   },
   "outputs": [
    {
     "data": {
      "text/html": [
       "        <script type=\"text/javascript\">\n",
       "        window.PlotlyConfig = {MathJaxConfig: 'local'};\n",
       "        if (window.MathJax && window.MathJax.Hub && window.MathJax.Hub.Config) {window.MathJax.Hub.Config({SVG: {font: \"STIX-Web\"}});}\n",
       "        if (typeof require !== 'undefined') {\n",
       "        require.undef(\"plotly\");\n",
       "        requirejs.config({\n",
       "            paths: {\n",
       "                'plotly': ['https://cdn.plot.ly/plotly-2.27.0.min']\n",
       "            }\n",
       "        });\n",
       "        require(['plotly'], function(Plotly) {\n",
       "            window._Plotly = Plotly;\n",
       "        });\n",
       "        }\n",
       "        </script>\n",
       "        "
      ]
     },
     "metadata": {},
     "output_type": "display_data"
    },
    {
     "data": {
      "text/html": [
       "<div>                            <div id=\"e17ff9b4-e2d9-4b5e-9ad1-463f40ebd561\" class=\"plotly-graph-div\" style=\"height:900px; width:100%;\"></div>            <script type=\"text/javascript\">                require([\"plotly\"], function(Plotly) {                    window.PLOTLYENV=window.PLOTLYENV || {};                                    if (document.getElementById(\"e17ff9b4-e2d9-4b5e-9ad1-463f40ebd561\")) {                    Plotly.newPlot(                        \"e17ff9b4-e2d9-4b5e-9ad1-463f40ebd561\",                        [{\"hovertemplate\":\"\\u003cb\\u003e%{hovertext}\\u003c\\u002fb\\u003e\\u003cbr\\u003e\\u003cbr\\u003etag=paper\\u003cbr\\u003ex=%{x}\\u003cbr\\u003ey=%{y}\\u003cextra\\u003e\\u003c\\u002fextra\\u003e\",\"hovertext\":[\"paper_98.png\",\"paper_116.png\",\"paper_705.png\",\"paper_753.png\",\"paper_697.png\",\"paper_4.png\",\"paper_178.png\",\"paper_579.png\",\"paper_444.png\",\"paper_368.png\",\"paper_407.png\",\"paper_47.png\",\"paper_572.png\",\"paper_82.png\",\"paper_608.png\",\"paper_370.png\",\"paper_114.png\",\"paper_809.png\",\"paper_677.png\",\"paper_905.png\",\"paper_545.png\",\"paper_180.png\",\"paper_94.png\",\"paper_508.png\",\"paper_895.png\",\"paper_825.png\",\"paper_472.png\",\"paper_683.png\",\"paper_152.png\",\"paper_890.png\",\"paper_889.png\",\"paper_120.png\",\"paper_269.png\",\"paper_793.png\",\"paper_770.png\",\"paper_827.png\",\"paper_174.png\",\"paper_6.png\",\"paper_187.png\",\"paper_684.png\",\"paper_817.png\",\"paper_863.png\",\"paper_303.png\",\"paper_131.png\",\"paper_56.png\",\"paper_667.png\",\"paper_852.png\",\"paper_480.png\",\"paper_284.png\",\"paper_301.png\",\"paper_135.png\",\"paper_647.png\",\"paper_264.png\",\"paper_564.png\",\"paper_50.png\",\"paper_600.png\",\"paper_169.png\",\"paper_19.png\",\"paper_349.png\",\"paper_712.png\",\"paper_850.png\",\"paper_565.png\",\"paper_87.png\",\"paper_632.png\",\"paper_112.png\",\"paper_207.png\",\"paper_335.png\",\"paper_298.png\",\"paper_99.png\",\"paper_122.png\",\"paper_288.png\",\"paper_143.png\",\"paper_278.png\",\"paper_528.png\",\"paper_393.png\",\"paper_496.png\",\"paper_399.png\",\"paper_596.png\",\"paper_831.png\",\"paper_803.png\",\"paper_138.png\",\"paper_58.png\",\"paper_823.png\",\"paper_218.png\",\"paper_505.png\",\"paper_346.png\",\"paper_861.png\",\"paper_864.png\",\"paper_252.png\",\"paper_814.png\",\"paper_593.png\",\"paper_561.png\",\"paper_575.png\",\"paper_511.png\",\"paper_740.png\",\"paper_767.png\",\"paper_597.png\",\"paper_550.png\",\"paper_802.png\",\"paper_428.png\"],\"legendgroup\":\"paper\",\"marker\":{\"color\":\"#636efa\",\"symbol\":\"circle\"},\"mode\":\"markers\",\"name\":\"paper\",\"orientation\":\"v\",\"showlegend\":true,\"x\":[12.436487,10.870022,-2.0878487,14.79359,-1.8718745,11.457218,10.867783,-3.636287,-3.5484302,-3.6377394,-3.6352634,10.559331,-3.0183556,12.524026,-3.0971658,-3.7276552,11.173847,15.38348,-2.4218414,15.07726,-4.0827417,10.651985,11.974755,-3.7111266,14.348589,14.270634,-3.687995,-2.039577,11.075438,15.105618,15.0128765,10.863999,11.77124,15.237087,14.529961,14.189112,10.871264,11.131005,10.420868,-1.8793509,14.933509,14.1493435,10.839854,11.29487,11.23011,-2.0564332,14.020829,-3.6127965,10.317881,-2.7111185,-3.5979812,-2.3213243,12.5008135,-3.6630287,10.768805,-2.9430103,11.04079,10.989762,-2.5791895,15.21967,14.369268,-3.6255653,11.845871,-2.37225,-3.5716279,10.689499,10.608118,11.083807,12.444095,10.709487,10.54475,11.327469,12.483441,-3.3367748,-2.3819304,-3.6483152,-2.9714916,-3.2286873,14.338921,15.281768,10.8603325,10.785849,14.647286,10.848697,-3.6260915,-2.8740926,14.029945,14.121454,12.460714,14.952993,-3.2912192,-3.5782466,-3.2870302,-3.6548276,14.998552,14.603458,-3.008531,-4.279801,15.345398,-3.4319181],\"xaxis\":\"x\",\"y\":[5.5735703,5.154611,4.1908884,1.6564885,3.8438952,4.6438103,5.0553513,4.265498,5.1702914,7.556254,7.582164,6.078407,4.9914527,6.3458138,4.892207,7.4992404,5.4136844,1.1896638,4.7079806,1.3688645,4.9134808,5.0463343,5.8030577,4.2708893,1.9441483,1.7793112,5.4695005,3.629167,4.6012197,2.4372404,2.4559948,4.846283,5.9150023,1.1823123,1.6850817,1.8287373,5.344614,5.138884,5.525152,3.9392035,1.7190927,2.0000675,4.746859,5.4021378,6.077738,3.158128,2.1013522,4.389956,6.24897,7.7049623,7.650193,4.5059724,5.274186,5.4851303,5.536399,4.8234625,4.714161,4.469502,7.910987,1.21996,2.2776647,5.5830655,5.683862,4.398263,7.5295672,4.8566923,5.3684955,4.3753014,5.7100077,4.693005,5.344854,5.582019,6.157931,4.7867236,8.078328,4.4368114,7.709117,4.7339597,1.5968972,1.1153109,5.082888,5.9232016,1.6285398,5.867308,4.354665,7.6054373,1.9343029,2.0674677,6.068909,1.6557771,4.741066,5.4874396,5.086282,4.3926272,2.2813258,1.6683456,5.007082,4.790657,1.1334373,4.636286],\"yaxis\":\"y\",\"type\":\"scatter\"},{\"hovertemplate\":\"\\u003cb\\u003e%{hovertext}\\u003c\\u002fb\\u003e\\u003cbr\\u003e\\u003cbr\\u003etag=rock\\u003cbr\\u003ex=%{x}\\u003cbr\\u003ey=%{y}\\u003cextra\\u003e\\u003c\\u002fextra\\u003e\",\"hovertext\":[\"rock_813.png\",\"rock_170.png\",\"rock_608.png\",\"rock_767.png\",\"rock_405.png\",\"rock_357.png\",\"rock_245.png\",\"rock_279.png\",\"rock_588.png\",\"rock_331.png\",\"rock_33.png\",\"rock_59.png\",\"rock_686.png\",\"rock_629.png\",\"rock_28.png\",\"rock_244.png\",\"rock_93.png\",\"rock_870.png\",\"rock_189.png\",\"rock_548.png\",\"rock_377.png\",\"rock_489.png\",\"rock_387.png\",\"rock_41.png\",\"rock_227.png\",\"rock_762.png\",\"rock_339.png\",\"rock_458.png\",\"rock_386.png\",\"rock_822.png\",\"rock_376.png\",\"rock_359.png\",\"rock_825.png\",\"rock_731.png\",\"rock_614.png\",\"rock_319.png\",\"rock_862.png\",\"rock_801.png\",\"rock_544.png\",\"rock_477.png\",\"rock_496.png\",\"rock_675.png\",\"rock_616.png\",\"rock_493.png\",\"rock_705.png\",\"rock_868.png\",\"rock_663.png\",\"rock_512.png\",\"rock_808.png\",\"rock_11.png\",\"rock_95.png\",\"rock_439.png\",\"rock_254.png\",\"rock_503.png\",\"rock_19.png\",\"rock_354.png\",\"rock_369.png\",\"rock_186.png\",\"rock_112.png\",\"rock_394.png\",\"rock_123.png\",\"rock_317.png\",\"rock_219.png\",\"rock_444.png\",\"rock_646.png\",\"rock_787.png\",\"rock_771.png\",\"rock_545.png\",\"rock_577.png\",\"rock_526.png\",\"rock_529.png\",\"rock_602.png\",\"rock_194.png\",\"rock_425.png\",\"rock_67.png\",\"rock_179.png\",\"rock_361.png\",\"rock_237.png\",\"rock_20.png\",\"rock_700.png\",\"rock_263.png\",\"rock_148.png\",\"rock_181.png\",\"rock_324.png\",\"rock_366.png\",\"rock_810.png\",\"rock_864.png\",\"rock_327.png\",\"rock_733.png\",\"rock_223.png\",\"rock_164.png\",\"rock_143.png\",\"rock_843.png\",\"rock_600.png\",\"rock_505.png\",\"rock_3.png\",\"rock_363.png\",\"rock_139.png\",\"rock_72.png\",\"rock_547.png\"],\"legendgroup\":\"rock\",\"marker\":{\"color\":\"#EF553B\",\"symbol\":\"circle\"},\"mode\":\"markers\",\"name\":\"rock\",\"orientation\":\"v\",\"showlegend\":true,\"x\":[14.884669,11.4546175,-2.805269,14.803795,-2.3033948,-2.5634127,12.334388,-2.4825988,-2.5410972,12.763597,12.818814,12.937504,-1.2170248,-1.2724885,12.861108,12.662966,12.834831,14.451499,11.569772,-2.14001,-2.2723265,-3.4222126,-2.3094633,12.877411,11.703223,14.854548,13.069483,-2.5930772,-2.3344207,14.648511,-2.1340034,-2.514306,14.69372,14.938597,-1.3006753,12.4986725,14.714137,14.428542,-2.1314838,-2.4352381,-3.1988385,-1.590039,-1.557994,-3.0181603,-1.3515829,14.800492,-1.2495389,-3.3960407,14.8220005,-2.5828924,12.962325,-2.6663284,12.866733,-1.6478803,12.684762,-2.1643057,-2.257938,11.798655,-2.4149806,-2.1992388,-2.7002497,12.532069,12.917963,-1.828185,-1.1912078,14.239671,15.548257,-2.3913178,-2.5784857,-3.2221322,-2.6960566,-2.5850894,11.544269,-1.728258,13.0185995,-2.669781,-2.5321436,12.169891,12.735458,-1.1935728,13.025271,11.726056,11.572743,13.045818,-2.260439,14.740425,14.814673,12.4484,15.063936,-2.5021513,11.658326,11.818185,14.412264,-2.3654387,-2.7505758,11.544972,-2.3395674,11.787911,12.859322,-2.121875],\"xaxis\":\"x\",\"y\":[2.5062187,4.178729,5.118466,2.119867,7.1367216,7.6786633,3.4493663,7.307895,5.0552745,3.887449,4.566513,4.414935,3.800477,3.7907147,4.558697,3.5337272,4.5289845,2.3814108,4.095062,5.243698,8.009566,5.7686815,8.0683975,4.710462,3.7100902,1.8739074,4.38303,5.427527,7.946341,2.4097538,7.759864,7.6919923,2.299736,2.7136028,3.8578799,3.4103327,2.7078295,1.9856422,5.355691,5.3078995,5.822452,3.9742212,3.8895686,5.735072,3.8899598,2.5502532,3.8157003,5.8543487,2.559637,7.589383,4.6210413,5.626207,3.613652,4.251155,5.01595,7.783269,7.2740526,4.050174,7.3622723,7.295909,7.499612,3.4061954,4.9357295,4.2905316,3.9067068,2.333235,1.9151875,5.284231,5.570668,5.951228,5.5953226,5.1248446,3.8845315,4.1902847,4.7390003,7.6078715,7.7508755,3.494841,5.2222743,3.8005521,4.399487,3.614053,3.6593966,4.1116233,7.2348323,2.6626635,2.5758986,3.4043953,2.8413882,7.713547,3.7006464,3.587558,2.5027375,5.3874183,5.077778,4.0964174,8.007552,3.7490833,4.437159,5.3492465],\"yaxis\":\"y\",\"type\":\"scatter\"},{\"hovertemplate\":\"\\u003cb\\u003e%{hovertext}\\u003c\\u002fb\\u003e\\u003cbr\\u003e\\u003cbr\\u003etag=scissors\\u003cbr\\u003ex=%{x}\\u003cbr\\u003ey=%{y}\\u003cextra\\u003e\\u003c\\u002fextra\\u003e\",\"hovertext\":[\"scissors_163.png\",\"scissors_412.png\",\"scissors_765.png\",\"scissors_757.png\",\"scissors_549.png\",\"scissors_498.png\",\"scissors_532.png\",\"scissors_647.png\",\"scissors_692.png\",\"scissors_663.png\",\"scissors_660.png\",\"scissors_434.png\",\"scissors_495.png\",\"scissors_623.png\",\"scissors_860.png\",\"scissors_869.png\",\"scissors_473.png\",\"scissors_813.png\",\"scissors_291.png\",\"scissors_172.png\",\"scissors_229.png\",\"scissors_245.png\",\"scissors_586.png\",\"scissors_29.png\",\"scissors_719.png\",\"scissors_474.png\",\"scissors_731.png\",\"scissors_585.png\",\"scissors_254.png\",\"scissors_244.png\",\"scissors_19.png\",\"scissors_392.png\",\"scissors_117.png\",\"scissors_443.png\",\"scissors_233.png\",\"scissors_98.png\",\"scissors_107.png\",\"scissors_407.png\",\"scissors_789.png\",\"scissors_238.png\",\"scissors_745.png\",\"scissors_272.png\",\"scissors_491.png\",\"scissors_612.png\",\"scissors_882.png\",\"scissors_139.png\",\"scissors_266.png\",\"scissors_164.png\",\"scissors_462.png\",\"scissors_829.png\",\"scissors_271.png\",\"scissors_680.png\",\"scissors_771.png\",\"scissors_88.png\",\"scissors_796.png\",\"scissors_294.png\",\"scissors_673.png\",\"scissors_681.png\",\"scissors_676.png\",\"scissors_30.png\",\"scissors_483.png\",\"scissors_225.png\",\"scissors_192.png\",\"scissors_81.png\",\"scissors_700.png\",\"scissors_779.png\",\"scissors_16.png\",\"scissors_330.png\",\"scissors_251.png\",\"scissors_208.png\",\"scissors_340.png\",\"scissors_526.png\",\"scissors_130.png\",\"scissors_843.png\",\"scissors_725.png\",\"scissors_713.png\",\"scissors_143.png\",\"scissors_364.png\",\"scissors_178.png\",\"scissors_834.png\",\"scissors_846.png\",\"scissors_661.png\",\"scissors_567.png\",\"scissors_493.png\",\"scissors_160.png\",\"scissors_609.png\",\"scissors_170.png\",\"scissors_311.png\",\"scissors_321.png\",\"scissors_865.png\",\"scissors_385.png\",\"scissors_269.png\",\"scissors_21.png\",\"scissors_735.png\",\"scissors_56.png\",\"scissors_621.png\",\"scissors_414.png\",\"scissors_810.png\",\"scissors_169.png\",\"scissors_558.png\"],\"legendgroup\":\"scissors\",\"marker\":{\"color\":\"#00cc96\",\"symbol\":\"circle\"},\"mode\":\"markers\",\"name\":\"scissors\",\"orientation\":\"v\",\"showlegend\":true,\"x\":[10.462855,-3.7091832,15.478734,16.121843,-4.3503475,-3.8962495,-4.1111975,-2.274445,-2.985044,-2.0773811,-1.8110799,-3.8375647,-4.1017933,-2.0122952,16.273611,16.156143,-4.1835427,15.828739,10.1937,10.856323,11.735636,12.319282,-4.0679035,10.73008,16.342888,-4.377757,15.458325,-3.9652567,12.274767,12.370471,10.775907,-2.4271998,12.567988,-2.944542,11.975379,12.602731,12.582149,-3.324844,15.792079,12.22621,15.449034,12.411861,-3.7809768,-2.772753,15.901113,10.633488,12.604371,10.763156,-3.6537237,15.906348,12.580129,-1.775256,15.3339405,12.6519375,16.225985,10.146612,-2.1113877,-2.0360084,-1.8200929,10.807541,-3.9410386,10.463202,10.449616,12.4417,-2.8672323,16.09554,10.584821,10.164262,12.330189,10.219543,10.435529,-4.038871,10.279959,15.722609,16.239681,16.176472,10.288588,-3.0633135,10.660412,15.605687,16.043312,-2.066531,-4.1084247,-4.011518,10.370455,-4.2953672,11.137573,12.036742,10.332766,16.191425,-2.8631835,12.540008,10.899974,15.281285,10.581677,-2.1947336,-3.6469986,15.872365,11.17777,-4.4560113],\"xaxis\":\"x\",\"y\":[6.810233,3.898178,2.5521283,2.297377,4.6380997,3.950772,3.8723743,3.76378,3.885736,3.2755632,3.493182,5.7017603,3.8874016,3.2160254,2.3352816,2.3732777,4.514911,1.5969876,6.422511,7.0414577,6.8583555,6.5069103,4.0093594,7.1396413,2.3530982,4.6437187,2.2069259,3.700403,6.4509597,6.6325593,7.128017,8.066011,6.435539,3.8200421,6.7992845,6.2951775,6.4328694,7.6646395,2.325325,6.649871,2.0707645,6.2776704,3.7563815,3.750376,2.062454,6.581034,6.1933804,7.1133914,3.9600267,2.0783775,6.3278055,3.4820697,2.5553021,6.290322,2.279024,6.1750083,3.2326732,3.3040228,3.403416,7.222831,5.3049607,6.880913,6.5228295,6.5788016,3.7944744,2.257697,6.9351087,6.761145,6.34358,6.4543076,6.71362,4.7456074,6.2736225,2.181921,2.2551687,2.117454,6.5447435,7.8215356,6.542776,1.9423116,2.2501342,3.3547068,4.8891664,3.949328,6.657688,4.666389,7.0206947,6.543576,6.7520213,2.4352186,8.006608,6.118912,7.2050934,2.0304608,6.93337,3.2268615,3.8778524,1.631184,7.043481,4.531036],\"yaxis\":\"y\",\"type\":\"scatter\"}],                        {\"template\":{\"data\":{\"histogram2dcontour\":[{\"type\":\"histogram2dcontour\",\"colorbar\":{\"outlinewidth\":0,\"ticks\":\"\"},\"colorscale\":[[0.0,\"#0d0887\"],[0.1111111111111111,\"#46039f\"],[0.2222222222222222,\"#7201a8\"],[0.3333333333333333,\"#9c179e\"],[0.4444444444444444,\"#bd3786\"],[0.5555555555555556,\"#d8576b\"],[0.6666666666666666,\"#ed7953\"],[0.7777777777777778,\"#fb9f3a\"],[0.8888888888888888,\"#fdca26\"],[1.0,\"#f0f921\"]]}],\"choropleth\":[{\"type\":\"choropleth\",\"colorbar\":{\"outlinewidth\":0,\"ticks\":\"\"}}],\"histogram2d\":[{\"type\":\"histogram2d\",\"colorbar\":{\"outlinewidth\":0,\"ticks\":\"\"},\"colorscale\":[[0.0,\"#0d0887\"],[0.1111111111111111,\"#46039f\"],[0.2222222222222222,\"#7201a8\"],[0.3333333333333333,\"#9c179e\"],[0.4444444444444444,\"#bd3786\"],[0.5555555555555556,\"#d8576b\"],[0.6666666666666666,\"#ed7953\"],[0.7777777777777778,\"#fb9f3a\"],[0.8888888888888888,\"#fdca26\"],[1.0,\"#f0f921\"]]}],\"heatmap\":[{\"type\":\"heatmap\",\"colorbar\":{\"outlinewidth\":0,\"ticks\":\"\"},\"colorscale\":[[0.0,\"#0d0887\"],[0.1111111111111111,\"#46039f\"],[0.2222222222222222,\"#7201a8\"],[0.3333333333333333,\"#9c179e\"],[0.4444444444444444,\"#bd3786\"],[0.5555555555555556,\"#d8576b\"],[0.6666666666666666,\"#ed7953\"],[0.7777777777777778,\"#fb9f3a\"],[0.8888888888888888,\"#fdca26\"],[1.0,\"#f0f921\"]]}],\"heatmapgl\":[{\"type\":\"heatmapgl\",\"colorbar\":{\"outlinewidth\":0,\"ticks\":\"\"},\"colorscale\":[[0.0,\"#0d0887\"],[0.1111111111111111,\"#46039f\"],[0.2222222222222222,\"#7201a8\"],[0.3333333333333333,\"#9c179e\"],[0.4444444444444444,\"#bd3786\"],[0.5555555555555556,\"#d8576b\"],[0.6666666666666666,\"#ed7953\"],[0.7777777777777778,\"#fb9f3a\"],[0.8888888888888888,\"#fdca26\"],[1.0,\"#f0f921\"]]}],\"contourcarpet\":[{\"type\":\"contourcarpet\",\"colorbar\":{\"outlinewidth\":0,\"ticks\":\"\"}}],\"contour\":[{\"type\":\"contour\",\"colorbar\":{\"outlinewidth\":0,\"ticks\":\"\"},\"colorscale\":[[0.0,\"#0d0887\"],[0.1111111111111111,\"#46039f\"],[0.2222222222222222,\"#7201a8\"],[0.3333333333333333,\"#9c179e\"],[0.4444444444444444,\"#bd3786\"],[0.5555555555555556,\"#d8576b\"],[0.6666666666666666,\"#ed7953\"],[0.7777777777777778,\"#fb9f3a\"],[0.8888888888888888,\"#fdca26\"],[1.0,\"#f0f921\"]]}],\"surface\":[{\"type\":\"surface\",\"colorbar\":{\"outlinewidth\":0,\"ticks\":\"\"},\"colorscale\":[[0.0,\"#0d0887\"],[0.1111111111111111,\"#46039f\"],[0.2222222222222222,\"#7201a8\"],[0.3333333333333333,\"#9c179e\"],[0.4444444444444444,\"#bd3786\"],[0.5555555555555556,\"#d8576b\"],[0.6666666666666666,\"#ed7953\"],[0.7777777777777778,\"#fb9f3a\"],[0.8888888888888888,\"#fdca26\"],[1.0,\"#f0f921\"]]}],\"mesh3d\":[{\"type\":\"mesh3d\",\"colorbar\":{\"outlinewidth\":0,\"ticks\":\"\"}}],\"scatter\":[{\"fillpattern\":{\"fillmode\":\"overlay\",\"size\":10,\"solidity\":0.2},\"type\":\"scatter\"}],\"parcoords\":[{\"type\":\"parcoords\",\"line\":{\"colorbar\":{\"outlinewidth\":0,\"ticks\":\"\"}}}],\"scatterpolargl\":[{\"type\":\"scatterpolargl\",\"marker\":{\"colorbar\":{\"outlinewidth\":0,\"ticks\":\"\"}}}],\"bar\":[{\"error_x\":{\"color\":\"#2a3f5f\"},\"error_y\":{\"color\":\"#2a3f5f\"},\"marker\":{\"line\":{\"color\":\"#E5ECF6\",\"width\":0.5},\"pattern\":{\"fillmode\":\"overlay\",\"size\":10,\"solidity\":0.2}},\"type\":\"bar\"}],\"scattergeo\":[{\"type\":\"scattergeo\",\"marker\":{\"colorbar\":{\"outlinewidth\":0,\"ticks\":\"\"}}}],\"scatterpolar\":[{\"type\":\"scatterpolar\",\"marker\":{\"colorbar\":{\"outlinewidth\":0,\"ticks\":\"\"}}}],\"histogram\":[{\"marker\":{\"pattern\":{\"fillmode\":\"overlay\",\"size\":10,\"solidity\":0.2}},\"type\":\"histogram\"}],\"scattergl\":[{\"type\":\"scattergl\",\"marker\":{\"colorbar\":{\"outlinewidth\":0,\"ticks\":\"\"}}}],\"scatter3d\":[{\"type\":\"scatter3d\",\"line\":{\"colorbar\":{\"outlinewidth\":0,\"ticks\":\"\"}},\"marker\":{\"colorbar\":{\"outlinewidth\":0,\"ticks\":\"\"}}}],\"scattermapbox\":[{\"type\":\"scattermapbox\",\"marker\":{\"colorbar\":{\"outlinewidth\":0,\"ticks\":\"\"}}}],\"scatterternary\":[{\"type\":\"scatterternary\",\"marker\":{\"colorbar\":{\"outlinewidth\":0,\"ticks\":\"\"}}}],\"scattercarpet\":[{\"type\":\"scattercarpet\",\"marker\":{\"colorbar\":{\"outlinewidth\":0,\"ticks\":\"\"}}}],\"carpet\":[{\"aaxis\":{\"endlinecolor\":\"#2a3f5f\",\"gridcolor\":\"white\",\"linecolor\":\"white\",\"minorgridcolor\":\"white\",\"startlinecolor\":\"#2a3f5f\"},\"baxis\":{\"endlinecolor\":\"#2a3f5f\",\"gridcolor\":\"white\",\"linecolor\":\"white\",\"minorgridcolor\":\"white\",\"startlinecolor\":\"#2a3f5f\"},\"type\":\"carpet\"}],\"table\":[{\"cells\":{\"fill\":{\"color\":\"#EBF0F8\"},\"line\":{\"color\":\"white\"}},\"header\":{\"fill\":{\"color\":\"#C8D4E3\"},\"line\":{\"color\":\"white\"}},\"type\":\"table\"}],\"barpolar\":[{\"marker\":{\"line\":{\"color\":\"#E5ECF6\",\"width\":0.5},\"pattern\":{\"fillmode\":\"overlay\",\"size\":10,\"solidity\":0.2}},\"type\":\"barpolar\"}],\"pie\":[{\"automargin\":true,\"type\":\"pie\"}]},\"layout\":{\"autotypenumbers\":\"strict\",\"colorway\":[\"#636efa\",\"#EF553B\",\"#00cc96\",\"#ab63fa\",\"#FFA15A\",\"#19d3f3\",\"#FF6692\",\"#B6E880\",\"#FF97FF\",\"#FECB52\"],\"font\":{\"color\":\"#2a3f5f\"},\"hovermode\":\"closest\",\"hoverlabel\":{\"align\":\"left\"},\"paper_bgcolor\":\"white\",\"plot_bgcolor\":\"#E5ECF6\",\"polar\":{\"bgcolor\":\"#E5ECF6\",\"angularaxis\":{\"gridcolor\":\"white\",\"linecolor\":\"white\",\"ticks\":\"\"},\"radialaxis\":{\"gridcolor\":\"white\",\"linecolor\":\"white\",\"ticks\":\"\"}},\"ternary\":{\"bgcolor\":\"#E5ECF6\",\"aaxis\":{\"gridcolor\":\"white\",\"linecolor\":\"white\",\"ticks\":\"\"},\"baxis\":{\"gridcolor\":\"white\",\"linecolor\":\"white\",\"ticks\":\"\"},\"caxis\":{\"gridcolor\":\"white\",\"linecolor\":\"white\",\"ticks\":\"\"}},\"coloraxis\":{\"colorbar\":{\"outlinewidth\":0,\"ticks\":\"\"}},\"colorscale\":{\"sequential\":[[0.0,\"#0d0887\"],[0.1111111111111111,\"#46039f\"],[0.2222222222222222,\"#7201a8\"],[0.3333333333333333,\"#9c179e\"],[0.4444444444444444,\"#bd3786\"],[0.5555555555555556,\"#d8576b\"],[0.6666666666666666,\"#ed7953\"],[0.7777777777777778,\"#fb9f3a\"],[0.8888888888888888,\"#fdca26\"],[1.0,\"#f0f921\"]],\"sequentialminus\":[[0.0,\"#0d0887\"],[0.1111111111111111,\"#46039f\"],[0.2222222222222222,\"#7201a8\"],[0.3333333333333333,\"#9c179e\"],[0.4444444444444444,\"#bd3786\"],[0.5555555555555556,\"#d8576b\"],[0.6666666666666666,\"#ed7953\"],[0.7777777777777778,\"#fb9f3a\"],[0.8888888888888888,\"#fdca26\"],[1.0,\"#f0f921\"]],\"diverging\":[[0,\"#8e0152\"],[0.1,\"#c51b7d\"],[0.2,\"#de77ae\"],[0.3,\"#f1b6da\"],[0.4,\"#fde0ef\"],[0.5,\"#f7f7f7\"],[0.6,\"#e6f5d0\"],[0.7,\"#b8e186\"],[0.8,\"#7fbc41\"],[0.9,\"#4d9221\"],[1,\"#276419\"]]},\"xaxis\":{\"gridcolor\":\"white\",\"linecolor\":\"white\",\"ticks\":\"\",\"title\":{\"standoff\":15},\"zerolinecolor\":\"white\",\"automargin\":true,\"zerolinewidth\":2},\"yaxis\":{\"gridcolor\":\"white\",\"linecolor\":\"white\",\"ticks\":\"\",\"title\":{\"standoff\":15},\"zerolinecolor\":\"white\",\"automargin\":true,\"zerolinewidth\":2},\"scene\":{\"xaxis\":{\"backgroundcolor\":\"#E5ECF6\",\"gridcolor\":\"white\",\"linecolor\":\"white\",\"showbackground\":true,\"ticks\":\"\",\"zerolinecolor\":\"white\",\"gridwidth\":2},\"yaxis\":{\"backgroundcolor\":\"#E5ECF6\",\"gridcolor\":\"white\",\"linecolor\":\"white\",\"showbackground\":true,\"ticks\":\"\",\"zerolinecolor\":\"white\",\"gridwidth\":2},\"zaxis\":{\"backgroundcolor\":\"#E5ECF6\",\"gridcolor\":\"white\",\"linecolor\":\"white\",\"showbackground\":true,\"ticks\":\"\",\"zerolinecolor\":\"white\",\"gridwidth\":2}},\"shapedefaults\":{\"line\":{\"color\":\"#2a3f5f\"}},\"annotationdefaults\":{\"arrowcolor\":\"#2a3f5f\",\"arrowhead\":0,\"arrowwidth\":1},\"geo\":{\"bgcolor\":\"white\",\"landcolor\":\"#E5ECF6\",\"subunitcolor\":\"white\",\"showland\":true,\"showlakes\":true,\"lakecolor\":\"white\"},\"title\":{\"x\":0.05},\"mapbox\":{\"style\":\"light\"}}},\"xaxis\":{\"anchor\":\"y\",\"domain\":[0.0,1.0],\"title\":{\"text\":\"x\"}},\"yaxis\":{\"anchor\":\"x\",\"domain\":[0.0,1.0],\"title\":{\"text\":\"y\"}},\"legend\":{\"title\":{\"text\":\"tag\"},\"tracegroupgap\":0},\"margin\":{\"t\":60},\"height\":900},                        {\"responsive\": true}                    ).then(function(){\n",
       "                            \n",
       "var gd = document.getElementById('e17ff9b4-e2d9-4b5e-9ad1-463f40ebd561');\n",
       "var x = new MutationObserver(function (mutations, observer) {{\n",
       "        var display = window.getComputedStyle(gd).display;\n",
       "        if (!display || display === 'none') {{\n",
       "            console.log([gd, 'removed!']);\n",
       "            Plotly.purge(gd);\n",
       "            observer.disconnect();\n",
       "        }}\n",
       "}});\n",
       "\n",
       "// Listen for the removal of the full notebook cells\n",
       "var notebookContainer = gd.closest('#notebook-container');\n",
       "if (notebookContainer) {{\n",
       "    x.observe(notebookContainer, {childList: true});\n",
       "}}\n",
       "\n",
       "// Listen for the clearing of the current output cell\n",
       "var outputEl = gd.closest('.output');\n",
       "if (outputEl) {{\n",
       "    x.observe(outputEl, {childList: true});\n",
       "}}\n",
       "\n",
       "                        })                };                });            </script>        </div>"
      ]
     },
     "metadata": {},
     "output_type": "display_data"
    }
   ],
   "source": [
    "from plotly.express import scatter\n",
    "scatter(data_frame=plot_df, x='x', y='y', color='tag', hover_name='name', height=900).show()"
   ]
  }
 ],
 "metadata": {
  "kaggle": {
   "accelerator": "none",
   "dataSources": [
    {
     "datasetId": 4473163,
     "sourceId": 7669575,
     "sourceType": "datasetVersion"
    }
   ],
   "dockerImageVersionId": 30646,
   "isGpuEnabled": false,
   "isInternetEnabled": true,
   "language": "python",
   "sourceType": "notebook"
  },
  "kernelspec": {
   "display_name": "Python 3",
   "language": "python",
   "name": "python3"
  },
  "language_info": {
   "codemirror_mode": {
    "name": "ipython",
    "version": 3
   },
   "file_extension": ".py",
   "mimetype": "text/x-python",
   "name": "python",
   "nbconvert_exporter": "python",
   "pygments_lexer": "ipython3",
   "version": "3.10.13"
  },
  "papermill": {
   "default_parameters": {},
   "duration": 113.298717,
   "end_time": "2024-02-24T14:40:07.911671",
   "environment_variables": {},
   "exception": null,
   "input_path": "__notebook__.ipynb",
   "output_path": "__notebook__.ipynb",
   "parameters": {},
   "start_time": "2024-02-24T14:38:14.612954",
   "version": "2.5.0"
  },
  "widgets": {
   "application/vnd.jupyter.widget-state+json": {
    "state": {
     "0b1206e4cf4a4e5e8ddcdb5d5d69ed5f": {
      "model_module": "@jupyter-widgets/controls",
      "model_module_version": "1.5.0",
      "model_name": "HBoxModel",
      "state": {
       "_dom_classes": [],
       "_model_module": "@jupyter-widgets/controls",
       "_model_module_version": "1.5.0",
       "_model_name": "HBoxModel",
       "_view_count": null,
       "_view_module": "@jupyter-widgets/controls",
       "_view_module_version": "1.5.0",
       "_view_name": "HBoxView",
       "box_style": "",
       "children": [
        "IPY_MODEL_31b619f5a14c44d897a67f661f6e10f5",
        "IPY_MODEL_cc28b1a704fc44409851d5486745a56e",
        "IPY_MODEL_99465a858ee94b228a7cc1b60a2f5650"
       ],
       "layout": "IPY_MODEL_92010bcc23de4d30b15dbceb9abf82d1"
      }
     },
     "2379731f2dab45e1a4240f2063e5b3c4": {
      "model_module": "@jupyter-widgets/base",
      "model_module_version": "1.2.0",
      "model_name": "LayoutModel",
      "state": {
       "_model_module": "@jupyter-widgets/base",
       "_model_module_version": "1.2.0",
       "_model_name": "LayoutModel",
       "_view_count": null,
       "_view_module": "@jupyter-widgets/base",
       "_view_module_version": "1.2.0",
       "_view_name": "LayoutView",
       "align_content": null,
       "align_items": null,
       "align_self": null,
       "border": null,
       "bottom": null,
       "display": null,
       "flex": null,
       "flex_flow": null,
       "grid_area": null,
       "grid_auto_columns": null,
       "grid_auto_flow": null,
       "grid_auto_rows": null,
       "grid_column": null,
       "grid_gap": null,
       "grid_row": null,
       "grid_template_areas": null,
       "grid_template_columns": null,
       "grid_template_rows": null,
       "height": null,
       "justify_content": null,
       "justify_items": null,
       "left": null,
       "margin": null,
       "max_height": null,
       "max_width": null,
       "min_height": null,
       "min_width": null,
       "object_fit": null,
       "object_position": null,
       "order": null,
       "overflow": null,
       "overflow_x": null,
       "overflow_y": null,
       "padding": null,
       "right": null,
       "top": null,
       "visibility": null,
       "width": null
      }
     },
     "31b619f5a14c44d897a67f661f6e10f5": {
      "model_module": "@jupyter-widgets/controls",
      "model_module_version": "1.5.0",
      "model_name": "HTMLModel",
      "state": {
       "_dom_classes": [],
       "_model_module": "@jupyter-widgets/controls",
       "_model_module_version": "1.5.0",
       "_model_name": "HTMLModel",
       "_view_count": null,
       "_view_module": "@jupyter-widgets/controls",
       "_view_module_version": "1.5.0",
       "_view_name": "HTMLView",
       "description": "",
       "description_tooltip": null,
       "layout": "IPY_MODEL_df8198e793d645e6abe065811a2dc188",
       "placeholder": "​",
       "style": "IPY_MODEL_4c61af6c4e1e45a5b917d1980d6ce566",
       "value": "Epochs completed: 100%| "
      }
     },
     "4c61af6c4e1e45a5b917d1980d6ce566": {
      "model_module": "@jupyter-widgets/controls",
      "model_module_version": "1.5.0",
      "model_name": "DescriptionStyleModel",
      "state": {
       "_model_module": "@jupyter-widgets/controls",
       "_model_module_version": "1.5.0",
       "_model_name": "DescriptionStyleModel",
       "_view_count": null,
       "_view_module": "@jupyter-widgets/base",
       "_view_module_version": "1.2.0",
       "_view_name": "StyleView",
       "description_width": ""
      }
     },
     "51d6727ee1724b1bb8c2786c24842cf5": {
      "model_module": "@jupyter-widgets/base",
      "model_module_version": "1.2.0",
      "model_name": "LayoutModel",
      "state": {
       "_model_module": "@jupyter-widgets/base",
       "_model_module_version": "1.2.0",
       "_model_name": "LayoutModel",
       "_view_count": null,
       "_view_module": "@jupyter-widgets/base",
       "_view_module_version": "1.2.0",
       "_view_name": "LayoutView",
       "align_content": null,
       "align_items": null,
       "align_self": null,
       "border": null,
       "bottom": null,
       "display": null,
       "flex": null,
       "flex_flow": null,
       "grid_area": null,
       "grid_auto_columns": null,
       "grid_auto_flow": null,
       "grid_auto_rows": null,
       "grid_column": null,
       "grid_gap": null,
       "grid_row": null,
       "grid_template_areas": null,
       "grid_template_columns": null,
       "grid_template_rows": null,
       "height": null,
       "justify_content": null,
       "justify_items": null,
       "left": null,
       "margin": null,
       "max_height": null,
       "max_width": null,
       "min_height": null,
       "min_width": null,
       "object_fit": null,
       "object_position": null,
       "order": null,
       "overflow": null,
       "overflow_x": null,
       "overflow_y": null,
       "padding": null,
       "right": null,
       "top": null,
       "visibility": null,
       "width": null
      }
     },
     "7e47cdb54f184b9e9b55320518aebf63": {
      "model_module": "@jupyter-widgets/controls",
      "model_module_version": "1.5.0",
      "model_name": "ProgressStyleModel",
      "state": {
       "_model_module": "@jupyter-widgets/controls",
       "_model_module_version": "1.5.0",
       "_model_name": "ProgressStyleModel",
       "_view_count": null,
       "_view_module": "@jupyter-widgets/base",
       "_view_module_version": "1.2.0",
       "_view_name": "StyleView",
       "bar_color": null,
       "description_width": ""
      }
     },
     "92010bcc23de4d30b15dbceb9abf82d1": {
      "model_module": "@jupyter-widgets/base",
      "model_module_version": "1.2.0",
      "model_name": "LayoutModel",
      "state": {
       "_model_module": "@jupyter-widgets/base",
       "_model_module_version": "1.2.0",
       "_model_name": "LayoutModel",
       "_view_count": null,
       "_view_module": "@jupyter-widgets/base",
       "_view_module_version": "1.2.0",
       "_view_name": "LayoutView",
       "align_content": null,
       "align_items": null,
       "align_self": null,
       "border": null,
       "bottom": null,
       "display": null,
       "flex": null,
       "flex_flow": null,
       "grid_area": null,
       "grid_auto_columns": null,
       "grid_auto_flow": null,
       "grid_auto_rows": null,
       "grid_column": null,
       "grid_gap": null,
       "grid_row": null,
       "grid_template_areas": null,
       "grid_template_columns": null,
       "grid_template_rows": null,
       "height": null,
       "justify_content": null,
       "justify_items": null,
       "left": null,
       "margin": null,
       "max_height": null,
       "max_width": null,
       "min_height": null,
       "min_width": null,
       "object_fit": null,
       "object_position": null,
       "order": null,
       "overflow": null,
       "overflow_x": null,
       "overflow_y": null,
       "padding": null,
       "right": null,
       "top": null,
       "visibility": null,
       "width": null
      }
     },
     "99465a858ee94b228a7cc1b60a2f5650": {
      "model_module": "@jupyter-widgets/controls",
      "model_module_version": "1.5.0",
      "model_name": "HTMLModel",
      "state": {
       "_dom_classes": [],
       "_model_module": "@jupyter-widgets/controls",
       "_model_module_version": "1.5.0",
       "_model_name": "HTMLModel",
       "_view_count": null,
       "_view_module": "@jupyter-widgets/controls",
       "_view_module_version": "1.5.0",
       "_view_name": "HTMLView",
       "description": "",
       "description_tooltip": null,
       "layout": "IPY_MODEL_2379731f2dab45e1a4240f2063e5b3c4",
       "placeholder": "​",
       "style": "IPY_MODEL_fce4ba1f67f7485390f3552ed90bb8ff",
       "value": " 500/500 [00:01]"
      }
     },
     "cc28b1a704fc44409851d5486745a56e": {
      "model_module": "@jupyter-widgets/controls",
      "model_module_version": "1.5.0",
      "model_name": "FloatProgressModel",
      "state": {
       "_dom_classes": [],
       "_model_module": "@jupyter-widgets/controls",
       "_model_module_version": "1.5.0",
       "_model_name": "FloatProgressModel",
       "_view_count": null,
       "_view_module": "@jupyter-widgets/controls",
       "_view_module_version": "1.5.0",
       "_view_name": "ProgressView",
       "bar_style": "success",
       "description": "",
       "description_tooltip": null,
       "layout": "IPY_MODEL_51d6727ee1724b1bb8c2786c24842cf5",
       "max": 500.0,
       "min": 0.0,
       "orientation": "horizontal",
       "style": "IPY_MODEL_7e47cdb54f184b9e9b55320518aebf63",
       "value": 500.0
      }
     },
     "df8198e793d645e6abe065811a2dc188": {
      "model_module": "@jupyter-widgets/base",
      "model_module_version": "1.2.0",
      "model_name": "LayoutModel",
      "state": {
       "_model_module": "@jupyter-widgets/base",
       "_model_module_version": "1.2.0",
       "_model_name": "LayoutModel",
       "_view_count": null,
       "_view_module": "@jupyter-widgets/base",
       "_view_module_version": "1.2.0",
       "_view_name": "LayoutView",
       "align_content": null,
       "align_items": null,
       "align_self": null,
       "border": null,
       "bottom": null,
       "display": null,
       "flex": null,
       "flex_flow": null,
       "grid_area": null,
       "grid_auto_columns": null,
       "grid_auto_flow": null,
       "grid_auto_rows": null,
       "grid_column": null,
       "grid_gap": null,
       "grid_row": null,
       "grid_template_areas": null,
       "grid_template_columns": null,
       "grid_template_rows": null,
       "height": null,
       "justify_content": null,
       "justify_items": null,
       "left": null,
       "margin": null,
       "max_height": null,
       "max_width": null,
       "min_height": null,
       "min_width": null,
       "object_fit": null,
       "object_position": null,
       "order": null,
       "overflow": null,
       "overflow_x": null,
       "overflow_y": null,
       "padding": null,
       "right": null,
       "top": null,
       "visibility": null,
       "width": null
      }
     },
     "fce4ba1f67f7485390f3552ed90bb8ff": {
      "model_module": "@jupyter-widgets/controls",
      "model_module_version": "1.5.0",
      "model_name": "DescriptionStyleModel",
      "state": {
       "_model_module": "@jupyter-widgets/controls",
       "_model_module_version": "1.5.0",
       "_model_name": "DescriptionStyleModel",
       "_view_count": null,
       "_view_module": "@jupyter-widgets/base",
       "_view_module_version": "1.2.0",
       "_view_name": "StyleView",
       "description_width": ""
      }
     }
    },
    "version_major": 2,
    "version_minor": 0
   }
  }
 },
 "nbformat": 4,
 "nbformat_minor": 5
}
