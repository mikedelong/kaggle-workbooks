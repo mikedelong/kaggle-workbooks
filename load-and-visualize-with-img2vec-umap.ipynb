{
 "cells": [
  {
   "cell_type": "code",
   "execution_count": 1,
   "id": "a0e780f2",
   "metadata": {
    "_cell_guid": "b1076dfc-b9ad-4769-8c92-a6c4dae69d19",
    "_uuid": "8f2839f25d086af736a60e9eeb907d3b93b6e0e5",
    "execution": {
     "iopub.execute_input": "2024-02-24T14:56:51.339424Z",
     "iopub.status.busy": "2024-02-24T14:56:51.338651Z",
     "iopub.status.idle": "2024-02-24T14:57:09.095422Z",
     "shell.execute_reply": "2024-02-24T14:57:09.093829Z"
    },
    "papermill": {
     "duration": 17.766639,
     "end_time": "2024-02-24T14:57:09.098408",
     "exception": false,
     "start_time": "2024-02-24T14:56:51.331769",
     "status": "completed"
    },
    "tags": []
   },
   "outputs": [
    {
     "name": "stdout",
     "output_type": "stream",
     "text": [
      "pip installed img2vec\n"
     ]
    }
   ],
   "source": [
    "!pip install --quiet img2vec_pytorch\n",
    "print('pip installed img2vec')\n",
    "\n",
    "from warnings import filterwarnings\n",
    "filterwarnings(action='ignore', category=FutureWarning) # quiet a plotly issue\n",
    "filterwarnings(action='ignore', category=UserWarning) # quiet an img2vec issue"
   ]
  },
  {
   "cell_type": "code",
   "execution_count": 2,
   "id": "435e8cfb",
   "metadata": {
    "execution": {
     "iopub.execute_input": "2024-02-24T14:57:09.108774Z",
     "iopub.status.busy": "2024-02-24T14:57:09.107822Z",
     "iopub.status.idle": "2024-02-24T15:00:25.795623Z",
     "shell.execute_reply": "2024-02-24T15:00:25.794238Z"
    },
    "papermill": {
     "duration": 196.696054,
     "end_time": "2024-02-24T15:00:25.798582",
     "exception": false,
     "start_time": "2024-02-24T14:57:09.102528",
     "status": "completed"
    },
    "tags": []
   },
   "outputs": [
    {
     "name": "stderr",
     "output_type": "stream",
     "text": [
      "Downloading: \"https://download.pytorch.org/models/resnet18-f37072fd.pth\" to /root/.cache/torch/hub/checkpoints/resnet18-f37072fd.pth\n",
      "100%|██████████| 44.7M/44.7M [00:00<00:00, 57.1MB/s]\n"
     ]
    },
    {
     "name": "stdout",
     "output_type": "stream",
     "text": [
      "encoded paper data 907 rows in 0:01:01.833207\n",
      "encoded rock data 907 rows in 0:01:01.986712\n",
      "encoded scissors data 903 rows in 0:01:02.135709\n",
      "done in 0:03:06.232255\n"
     ]
    }
   ],
   "source": [
    "from img2vec_pytorch import Img2Vec\n",
    "from PIL import Image\n",
    "from arrow import now\n",
    "from glob import glob\n",
    "import pandas as pd\n",
    "from os.path import basename\n",
    "\n",
    "SIZE = 512\n",
    "STOP = 10000 \n",
    "DATA_GLOB = '/kaggle/input/rock-paper-scissors-dataset'\n",
    "\n",
    "# https://stackoverflow.com/a/952952\n",
    "def flatten(arg):\n",
    "    return [x for xs in arg for x in xs]\n",
    "\n",
    "def get_from_glob(arg: str, tag: str, stop: int) -> list:\n",
    "    time_get = now()\n",
    "    result = []\n",
    "    for index, input_file in enumerate(glob(pathname=arg)):\n",
    "        if index < stop:\n",
    "            name = basename(input_file)\n",
    "            with Image.open(fp=input_file, mode='r') as image:\n",
    "                vector = img2vec.get_vec(image, tensor=True).numpy().reshape(SIZE,)\n",
    "                result.append(pd.Series(data=[tag, name, vector], index=['tag', 'name', 'value']))\n",
    "    print('encoded {} data {} rows in {}'.format(tag, len(result), now() - time_get))\n",
    "    return result\n",
    "\n",
    "\n",
    "img2vec = Img2Vec(cuda=False, model='resnet-18', layer='default', layer_output_size=SIZE)\n",
    "\n",
    "time_start = now()\n",
    "\n",
    "files = {basename(folder) : folder + '/*.png' for folder in glob(DATA_GLOB + '/*')}\n",
    "data = [get_from_glob(arg=value, tag=key, stop=STOP) for key, value in files.items()]\n",
    "df = pd.DataFrame(data=flatten(arg=data))\n",
    "    \n",
    "print('done in {}'.format(now() - time_start))"
   ]
  },
  {
   "cell_type": "markdown",
   "id": "0e5a2f35",
   "metadata": {
    "papermill": {
     "duration": 0.005392,
     "end_time": "2024-02-24T15:00:25.809744",
     "exception": false,
     "start_time": "2024-02-24T15:00:25.804352",
     "status": "completed"
    },
    "tags": []
   },
   "source": [
    "Our classes are balanced and we have a small number of classes. Let's visualize using UMAP."
   ]
  },
  {
   "cell_type": "code",
   "execution_count": 3,
   "id": "001a7e74",
   "metadata": {
    "execution": {
     "iopub.execute_input": "2024-02-24T15:00:25.822955Z",
     "iopub.status.busy": "2024-02-24T15:00:25.822347Z",
     "iopub.status.idle": "2024-02-24T15:01:27.831840Z",
     "shell.execute_reply": "2024-02-24T15:01:27.830401Z"
    },
    "papermill": {
     "duration": 62.019609,
     "end_time": "2024-02-24T15:01:27.834870",
     "exception": false,
     "start_time": "2024-02-24T15:00:25.815261",
     "status": "completed"
    },
    "tags": []
   },
   "outputs": [
    {
     "name": "stderr",
     "output_type": "stream",
     "text": [
      "2024-02-24 15:00:48.647543: E external/local_xla/xla/stream_executor/cuda/cuda_dnn.cc:9261] Unable to register cuDNN factory: Attempting to register factory for plugin cuDNN when one has already been registered\n",
      "2024-02-24 15:00:48.647800: E external/local_xla/xla/stream_executor/cuda/cuda_fft.cc:607] Unable to register cuFFT factory: Attempting to register factory for plugin cuFFT when one has already been registered\n",
      "2024-02-24 15:00:48.850232: E external/local_xla/xla/stream_executor/cuda/cuda_blas.cc:1515] Unable to register cuBLAS factory: Attempting to register factory for plugin cuBLAS when one has already been registered\n"
     ]
    },
    {
     "name": "stdout",
     "output_type": "stream",
     "text": [
      "UMAP(low_memory=False, n_epochs=500, n_jobs=1, random_state=2024, verbose=True)\n",
      "Sat Feb 24 15:01:03 2024 Construct fuzzy simplicial set\n",
      "Sat Feb 24 15:01:12 2024 Finding Nearest Neighbors\n",
      "Sat Feb 24 15:01:17 2024 Finished Nearest Neighbor Search\n",
      "Sat Feb 24 15:01:21 2024 Construct embedding\n"
     ]
    },
    {
     "data": {
      "application/vnd.jupyter.widget-view+json": {
       "model_id": "51d6845e1f11490798d0db96a16ea18f",
       "version_major": 2,
       "version_minor": 0
      },
      "text/plain": [
       "Epochs completed:   0%|            0/500 [00:00]"
      ]
     },
     "metadata": {},
     "output_type": "display_data"
    },
    {
     "name": "stdout",
     "output_type": "stream",
     "text": [
      "\tcompleted  0  /  500 epochs\n",
      "\tcompleted  50  /  500 epochs\n",
      "\tcompleted  100  /  500 epochs\n",
      "\tcompleted  150  /  500 epochs\n",
      "\tcompleted  200  /  500 epochs\n",
      "\tcompleted  250  /  500 epochs\n",
      "\tcompleted  300  /  500 epochs\n",
      "\tcompleted  350  /  500 epochs\n",
      "\tcompleted  400  /  500 epochs\n",
      "\tcompleted  450  /  500 epochs\n",
      "Sat Feb 24 15:01:27 2024 Finished embedding\n",
      "done with UMAP in 0:00:25.011223\n"
     ]
    }
   ],
   "source": [
    "from arrow import now\n",
    "from umap import UMAP\n",
    "\n",
    "time_start = now()\n",
    "umap = UMAP(random_state=2024, verbose=True, n_jobs=1, low_memory=False, n_epochs=500)\n",
    "plot_df = pd.concat(objs=[df, pd.DataFrame(data=umap.fit_transform(X=df['value'].apply(pd.Series)), columns=['x', 'y'])], axis=1)\n",
    "print('done with UMAP in {}'.format(now() - time_start))"
   ]
  },
  {
   "cell_type": "code",
   "execution_count": 4,
   "id": "b9fe9628",
   "metadata": {
    "execution": {
     "iopub.execute_input": "2024-02-24T15:01:27.850915Z",
     "iopub.status.busy": "2024-02-24T15:01:27.850007Z",
     "iopub.status.idle": "2024-02-24T15:01:31.321880Z",
     "shell.execute_reply": "2024-02-24T15:01:31.320998Z"
    },
    "papermill": {
     "duration": 3.484241,
     "end_time": "2024-02-24T15:01:31.326062",
     "exception": false,
     "start_time": "2024-02-24T15:01:27.841821",
     "status": "completed"
    },
    "tags": []
   },
   "outputs": [
    {
     "data": {
      "text/html": [
       "        <script type=\"text/javascript\">\n",
       "        window.PlotlyConfig = {MathJaxConfig: 'local'};\n",
       "        if (window.MathJax && window.MathJax.Hub && window.MathJax.Hub.Config) {window.MathJax.Hub.Config({SVG: {font: \"STIX-Web\"}});}\n",
       "        if (typeof require !== 'undefined') {\n",
       "        require.undef(\"plotly\");\n",
       "        requirejs.config({\n",
       "            paths: {\n",
       "                'plotly': ['https://cdn.plot.ly/plotly-2.27.0.min']\n",
       "            }\n",
       "        });\n",
       "        require(['plotly'], function(Plotly) {\n",
       "            window._Plotly = Plotly;\n",
       "        });\n",
       "        }\n",
       "        </script>\n",
       "        "
      ]
     },
     "metadata": {},
     "output_type": "display_data"
    },
    {
     "data": {
      "text/html": [
       "<div>                            <div id=\"52766b28-96c7-4632-803d-d8e85ec81481\" class=\"plotly-graph-div\" style=\"height:900px; width:100%;\"></div>            <script type=\"text/javascript\">                require([\"plotly\"], function(Plotly) {                    window.PLOTLYENV=window.PLOTLYENV || {};                                    if (document.getElementById(\"52766b28-96c7-4632-803d-d8e85ec81481\")) {                    Plotly.newPlot(                        \"52766b28-96c7-4632-803d-d8e85ec81481\",                        [{\"hovertemplate\":\"\\u003cb\\u003e%{hovertext}\\u003c\\u002fb\\u003e\\u003cbr\\u003e\\u003cbr\\u003etag=paper\\u003cbr\\u003ex=%{x}\\u003cbr\\u003ey=%{y}\\u003cextra\\u003e\\u003c\\u002fextra\\u003e\",\"hovertext\":[\"paper_98.png\",\"paper_116.png\",\"paper_705.png\",\"paper_753.png\",\"paper_697.png\",\"paper_4.png\",\"paper_178.png\",\"paper_579.png\",\"paper_444.png\",\"paper_368.png\",\"paper_407.png\",\"paper_47.png\",\"paper_572.png\",\"paper_82.png\",\"paper_608.png\",\"paper_370.png\",\"paper_114.png\",\"paper_809.png\",\"paper_677.png\",\"paper_905.png\",\"paper_545.png\",\"paper_180.png\",\"paper_94.png\",\"paper_508.png\",\"paper_895.png\",\"paper_825.png\",\"paper_472.png\",\"paper_683.png\",\"paper_152.png\",\"paper_890.png\",\"paper_889.png\",\"paper_120.png\",\"paper_269.png\",\"paper_793.png\",\"paper_770.png\",\"paper_827.png\",\"paper_174.png\",\"paper_6.png\",\"paper_187.png\",\"paper_684.png\",\"paper_817.png\",\"paper_863.png\",\"paper_303.png\",\"paper_131.png\",\"paper_56.png\",\"paper_667.png\",\"paper_852.png\",\"paper_480.png\",\"paper_284.png\",\"paper_301.png\",\"paper_135.png\",\"paper_647.png\",\"paper_264.png\",\"paper_564.png\",\"paper_50.png\",\"paper_600.png\",\"paper_169.png\",\"paper_19.png\",\"paper_349.png\",\"paper_712.png\",\"paper_850.png\",\"paper_565.png\",\"paper_87.png\",\"paper_632.png\",\"paper_112.png\",\"paper_207.png\",\"paper_335.png\",\"paper_298.png\",\"paper_99.png\",\"paper_122.png\",\"paper_288.png\",\"paper_143.png\",\"paper_278.png\",\"paper_528.png\",\"paper_393.png\",\"paper_496.png\",\"paper_399.png\",\"paper_596.png\",\"paper_831.png\",\"paper_803.png\",\"paper_138.png\",\"paper_58.png\",\"paper_823.png\",\"paper_218.png\",\"paper_505.png\",\"paper_346.png\",\"paper_861.png\",\"paper_864.png\",\"paper_252.png\",\"paper_814.png\",\"paper_593.png\",\"paper_561.png\",\"paper_575.png\",\"paper_511.png\",\"paper_740.png\",\"paper_767.png\",\"paper_597.png\",\"paper_550.png\",\"paper_802.png\",\"paper_428.png\",\"paper_145.png\",\"paper_462.png\",\"paper_577.png\",\"paper_375.png\",\"paper_805.png\",\"paper_885.png\",\"paper_260.png\",\"paper_795.png\",\"paper_60.png\",\"paper_155.png\",\"paper_97.png\",\"paper_72.png\",\"paper_661.png\",\"paper_189.png\",\"paper_514.png\",\"paper_101.png\",\"paper_90.png\",\"paper_356.png\",\"paper_63.png\",\"paper_309.png\",\"paper_235.png\",\"paper_126.png\",\"paper_196.png\",\"paper_836.png\",\"paper_239.png\",\"paper_147.png\",\"paper_792.png\",\"paper_813.png\",\"paper_312.png\",\"paper_221.png\",\"paper_515.png\",\"paper_498.png\",\"paper_350.png\",\"paper_769.png\",\"paper_361.png\",\"paper_463.png\",\"paper_203.png\",\"paper_668.png\",\"paper_559.png\",\"paper_412.png\",\"paper_790.png\",\"paper_15.png\",\"paper_686.png\",\"paper_182.png\",\"paper_254.png\",\"paper_366.png\",\"paper_20.png\",\"paper_900.png\",\"paper_424.png\",\"paper_663.png\",\"paper_628.png\",\"paper_233.png\",\"paper_539.png\",\"paper_382.png\",\"paper_694.png\",\"paper_506.png\",\"paper_163.png\",\"paper_569.png\",\"paper_34.png\",\"paper_326.png\",\"paper_69.png\",\"paper_665.png\",\"paper_164.png\",\"paper_222.png\",\"paper_83.png\",\"paper_394.png\",\"paper_773.png\",\"paper_441.png\",\"paper_750.png\",\"paper_404.png\",\"paper_86.png\",\"paper_390.png\",\"paper_739.png\",\"paper_477.png\",\"paper_21.png\",\"paper_627.png\",\"paper_66.png\",\"paper_100.png\",\"paper_707.png\",\"paper_210.png\",\"paper_160.png\",\"paper_314.png\",\"paper_873.png\",\"paper_385.png\",\"paper_901.png\",\"paper_450.png\",\"paper_442.png\",\"paper_548.png\",\"paper_185.png\",\"paper_333.png\",\"paper_251.png\",\"paper_552.png\",\"paper_907.png\",\"paper_179.png\",\"paper_448.png\",\"paper_590.png\",\"paper_810.png\",\"paper_830.png\",\"paper_730.png\",\"paper_64.png\",\"paper_591.png\",\"paper_315.png\",\"paper_752.png\",\"paper_24.png\",\"paper_474.png\",\"paper_186.png\",\"paper_119.png\",\"paper_896.png\",\"paper_696.png\",\"paper_673.png\",\"paper_283.png\",\"paper_204.png\",\"paper_869.png\",\"paper_475.png\",\"paper_535.png\",\"paper_455.png\",\"paper_807.png\",\"paper_445.png\",\"paper_117.png\",\"paper_85.png\",\"paper_177.png\",\"paper_491.png\",\"paper_181.png\",\"paper_580.png\",\"paper_48.png\",\"paper_318.png\",\"paper_640.png\",\"paper_493.png\",\"paper_483.png\",\"paper_308.png\",\"paper_881.png\",\"paper_7.png\",\"paper_526.png\",\"paper_51.png\",\"paper_219.png\",\"paper_76.png\",\"paper_8.png\",\"paper_253.png\",\"paper_834.png\",\"paper_761.png\",\"paper_822.png\",\"paper_384.png\",\"paper_148.png\",\"paper_353.png\",\"paper_884.png\",\"paper_30.png\",\"paper_811.png\",\"paper_891.png\",\"paper_902.png\",\"paper_165.png\",\"paper_715.png\",\"paper_49.png\",\"paper_402.png\",\"paper_409.png\",\"paper_631.png\",\"paper_725.png\",\"paper_255.png\",\"paper_419.png\",\"paper_3.png\",\"paper_490.png\",\"paper_175.png\",\"paper_299.png\",\"paper_31.png\",\"paper_520.png\",\"paper_716.png\",\"paper_847.png\",\"paper_680.png\",\"paper_760.png\",\"paper_883.png\",\"paper_558.png\",\"paper_478.png\",\"paper_845.png\",\"paper_763.png\",\"paper_737.png\",\"paper_727.png\",\"paper_603.png\",\"paper_91.png\",\"paper_722.png\",\"paper_487.png\",\"paper_452.png\",\"paper_623.png\",\"paper_243.png\",\"paper_486.png\",\"paper_39.png\",\"paper_172.png\",\"paper_415.png\",\"paper_406.png\",\"paper_325.png\",\"paper_71.png\",\"paper_533.png\",\"paper_718.png\",\"paper_248.png\",\"paper_780.png\",\"paper_797.png\",\"paper_65.png\",\"paper_285.png\",\"paper_468.png\",\"paper_801.png\",\"paper_723.png\",\"paper_67.png\",\"paper_263.png\",\"paper_80.png\",\"paper_27.png\",\"paper_644.png\",\"paper_105.png\",\"paper_265.png\",\"paper_338.png\",\"paper_460.png\",\"paper_230.png\",\"paper_570.png\",\"paper_731.png\",\"paper_701.png\",\"paper_297.png\",\"paper_153.png\",\"paper_373.png\",\"paper_604.png\",\"paper_380.png\",\"paper_721.png\",\"paper_710.png\",\"paper_262.png\",\"paper_158.png\",\"paper_838.png\",\"paper_400.png\",\"paper_736.png\",\"paper_331.png\",\"paper_132.png\",\"paper_363.png\",\"paper_330.png\",\"paper_212.png\",\"paper_868.png\",\"paper_500.png\",\"paper_599.png\",\"paper_256.png\",\"paper_457.png\",\"paper_241.png\",\"paper_615.png\",\"paper_268.png\",\"paper_93.png\",\"paper_594.png\",\"paper_23.png\",\"paper_536.png\",\"paper_277.png\",\"paper_586.png\",\"paper_660.png\",\"paper_224.png\",\"paper_637.png\",\"paper_108.png\",\"paper_339.png\",\"paper_345.png\",\"paper_142.png\",\"paper_629.png\",\"paper_582.png\",\"paper_287.png\",\"paper_724.png\",\"paper_824.png\",\"paper_286.png\",\"paper_247.png\",\"paper_229.png\",\"paper_18.png\",\"paper_878.png\",\"paper_352.png\",\"paper_613.png\",\"paper_125.png\",\"paper_510.png\",\"paper_37.png\",\"paper_704.png\",\"paper_432.png\",\"paper_217.png\",\"paper_742.png\",\"paper_321.png\",\"paper_280.png\",\"paper_403.png\",\"paper_653.png\",\"paper_59.png\",\"paper_237.png\",\"paper_646.png\",\"paper_206.png\",\"paper_855.png\",\"paper_443.png\",\"paper_854.png\",\"paper_111.png\",\"paper_524.png\",\"paper_619.png\",\"paper_649.png\",\"paper_134.png\",\"paper_906.png\",\"paper_351.png\",\"paper_436.png\",\"paper_386.png\",\"paper_447.png\",\"paper_732.png\",\"paper_573.png\",\"paper_540.png\",\"paper_295.png\",\"paper_788.png\",\"paper_156.png\",\"paper_876.png\",\"paper_118.png\",\"paper_691.png\",\"paper_557.png\",\"paper_57.png\",\"paper_666.png\",\"paper_650.png\",\"paper_364.png\",\"paper_70.png\",\"paper_703.png\",\"paper_851.png\",\"paper_698.png\",\"paper_709.png\",\"paper_305.png\",\"paper_124.png\",\"paper_431.png\",\"paper_659.png\",\"paper_745.png\",\"paper_176.png\",\"paper_756.png\",\"paper_894.png\",\"paper_238.png\",\"paper_849.png\",\"paper_720.png\",\"paper_829.png\",\"paper_16.png\",\"paper_228.png\",\"paper_433.png\",\"paper_316.png\",\"paper_606.png\",\"paper_818.png\",\"paper_843.png\",\"paper_554.png\",\"paper_877.png\",\"paper_626.png\",\"paper_886.png\",\"paper_618.png\",\"paper_471.png\",\"paper_103.png\",\"paper_437.png\",\"paper_702.png\",\"paper_574.png\",\"paper_414.png\",\"paper_225.png\",\"paper_454.png\",\"paper_648.png\",\"paper_764.png\",\"paper_392.png\",\"paper_449.png\",\"paper_779.png\",\"paper_130.png\",\"paper_166.png\",\"paper_14.png\",\"paper_787.png\",\"paper_754.png\",\"paper_512.png\",\"paper_507.png\",\"paper_311.png\",\"paper_808.png\",\"paper_804.png\",\"paper_495.png\",\"paper_435.png\",\"paper_266.png\",\"paper_320.png\",\"paper_302.png\",\"paper_888.png\",\"paper_898.png\",\"paper_274.png\",\"paper_322.png\",\"paper_215.png\",\"paper_279.png\",\"paper_624.png\",\"paper_625.png\",\"paper_578.png\",\"paper_585.png\",\"paper_149.png\",\"paper_685.png\",\"paper_40.png\",\"paper_858.png\",\"paper_467.png\",\"paper_168.png\",\"paper_776.png\",\"paper_192.png\",\"paper_469.png\",\"paper_197.png\",\"paper_789.png\",\"paper_584.png\",\"paper_396.png\",\"paper_408.png\",\"paper_862.png\",\"paper_216.png\",\"paper_464.png\",\"paper_633.png\",\"paper_645.png\",\"paper_857.png\",\"paper_846.png\",\"paper_612.png\",\"paper_154.png\",\"paper_598.png\",\"paper_42.png\",\"paper_245.png\",\"paper_188.png\",\"paper_294.png\",\"paper_798.png\",\"paper_139.png\",\"paper_421.png\",\"paper_678.png\",\"paper_588.png\",\"paper_310.png\",\"paper_293.png\",\"paper_757.png\",\"paper_202.png\",\"paper_519.png\",\"paper_806.png\",\"paper_547.png\",\"paper_652.png\",\"paper_257.png\",\"paper_323.png\",\"paper_887.png\",\"paper_489.png\",\"paper_485.png\",\"paper_842.png\",\"paper_344.png\",\"paper_800.png\",\"paper_638.png\",\"paper_337.png\",\"paper_140.png\",\"paper_714.png\",\"paper_88.png\",\"paper_762.png\",\"paper_662.png\",\"paper_420.png\",\"paper_671.png\",\"paper_397.png\",\"paper_113.png\",\"paper_620.png\",\"paper_812.png\",\"paper_62.png\",\"paper_92.png\",\"paper_820.png\",\"paper_198.png\",\"paper_220.png\",\"paper_728.png\",\"paper_544.png\",\"paper_422.png\",\"paper_758.png\",\"paper_439.png\",\"paper_383.png\",\"paper_281.png\",\"paper_378.png\",\"paper_796.png\",\"paper_892.png\",\"paper_866.png\",\"paper_1.png\",\"paper_292.png\",\"paper_870.png\",\"paper_897.png\",\"paper_55.png\",\"paper_43.png\",\"paper_183.png\",\"paper_872.png\",\"paper_880.png\",\"paper_296.png\",\"paper_365.png\",\"paper_518.png\",\"paper_466.png\",\"paper_494.png\",\"paper_10.png\",\"paper_289.png\",\"paper_674.png\",\"paper_595.png\",\"paper_537.png\",\"paper_492.png\",\"paper_44.png\",\"paper_275.png\",\"paper_636.png\",\"paper_102.png\",\"paper_687.png\",\"paper_157.png\",\"paper_837.png\",\"paper_25.png\",\"paper_675.png\",\"paper_775.png\",\"paper_362.png\",\"paper_692.png\",\"paper_669.png\",\"paper_670.png\",\"paper_581.png\",\"paper_532.png\",\"paper_389.png\",\"paper_871.png\",\"paper_357.png\",\"paper_622.png\",\"paper_527.png\",\"paper_141.png\",\"paper_213.png\",\"paper_307.png\",\"paper_689.png\",\"paper_782.png\",\"paper_200.png\",\"paper_879.png\",\"paper_534.png\",\"paper_700.png\",\"paper_234.png\",\"paper_79.png\",\"paper_589.png\",\"paper_354.png\",\"paper_738.png\",\"paper_162.png\",\"paper_560.png\",\"paper_133.png\",\"paper_343.png\",\"paper_95.png\",\"paper_440.png\",\"paper_504.png\",\"paper_369.png\",\"paper_772.png\",\"paper_865.png\",\"paper_765.png\",\"paper_538.png\",\"paper_226.png\",\"paper_893.png\",\"paper_867.png\",\"paper_194.png\",\"paper_693.png\",\"paper_258.png\",\"paper_32.png\",\"paper_240.png\",\"paper_828.png\",\"paper_826.png\",\"paper_513.png\",\"paper_774.png\",\"paper_227.png\",\"paper_741.png\",\"paper_568.png\",\"paper_328.png\",\"paper_451.png\",\"paper_33.png\",\"paper_766.png\",\"paper_104.png\",\"paper_502.png\",\"paper_566.png\",\"paper_410.png\",\"paper_190.png\",\"paper_799.png\",\"paper_376.png\",\"paper_411.png\",\"paper_695.png\",\"paper_73.png\",\"paper_567.png\",\"paper_425.png\",\"paper_231.png\",\"paper_381.png\",\"paper_418.png\",\"paper_276.png\",\"paper_430.png\",\"paper_371.png\",\"paper_236.png\",\"paper_781.png\",\"paper_630.png\",\"paper_459.png\",\"paper_446.png\",\"paper_473.png\",\"paper_458.png\",\"paper_461.png\",\"paper_844.png\",\"paper_107.png\",\"paper_546.png\",\"paper_476.png\",\"paper_786.png\",\"paper_355.png\",\"paper_41.png\",\"paper_146.png\",\"paper_223.png\",\"paper_429.png\",\"paper_327.png\",\"paper_121.png\",\"paper_777.png\",\"paper_543.png\",\"paper_184.png\",\"paper_523.png\",\"paper_242.png\",\"paper_438.png\",\"paper_342.png\",\"paper_211.png\",\"paper_903.png\",\"paper_672.png\",\"paper_815.png\",\"paper_699.png\",\"paper_115.png\",\"paper_106.png\",\"paper_713.png\",\"paper_13.png\",\"paper_290.png\",\"paper_755.png\",\"paper_324.png\",\"paper_291.png\",\"paper_656.png\",\"paper_9.png\",\"paper_137.png\",\"paper_642.png\",\"paper_549.png\",\"paper_541.png\",\"paper_272.png\",\"paper_347.png\",\"paper_22.png\",\"paper_639.png\",\"paper_75.png\",\"paper_388.png\",\"paper_744.png\",\"paper_706.png\",\"paper_270.png\",\"paper_127.png\",\"paper_470.png\",\"paper_481.png\",\"paper_784.png\",\"paper_711.png\",\"paper_261.png\",\"paper_743.png\",\"paper_682.png\",\"paper_688.png\",\"paper_387.png\",\"paper_205.png\",\"paper_614.png\",\"paper_571.png\",\"paper_193.png\",\"paper_453.png\",\"paper_2.png\",\"paper_733.png\",\"paper_151.png\",\"paper_783.png\",\"paper_521.png\",\"paper_271.png\",\"paper_54.png\",\"paper_729.png\",\"paper_874.png\",\"paper_679.png\",\"paper_658.png\",\"paper_531.png\",\"paper_52.png\",\"paper_882.png\",\"paper_89.png\",\"paper_479.png\",\"paper_635.png\",\"paper_317.png\",\"paper_563.png\",\"paper_621.png\",\"paper_482.png\",\"paper_313.png\",\"paper_391.png\",\"paper_379.png\",\"paper_367.png\",\"paper_791.png\",\"paper_517.png\",\"paper_657.png\",\"paper_819.png\",\"paper_123.png\",\"paper_377.png\",\"paper_676.png\",\"paper_128.png\",\"paper_856.png\",\"paper_161.png\",\"paper_488.png\",\"paper_398.png\",\"paper_840.png\",\"paper_617.png\",\"paper_129.png\",\"paper_853.png\",\"paper_643.png\",\"paper_68.png\",\"paper_53.png\",\"paper_81.png\",\"paper_374.png\",\"paper_84.png\",\"paper_839.png\",\"paper_38.png\",\"paper_359.png\",\"paper_529.png\",\"paper_655.png\",\"paper_5.png\",\"paper_358.png\",\"paper_681.png\",\"paper_664.png\",\"paper_61.png\",\"paper_719.png\",\"paper_417.png\",\"paper_726.png\",\"paper_434.png\",\"paper_860.png\",\"paper_735.png\",\"paper_859.png\",\"paper_501.png\",\"paper_46.png\",\"paper_11.png\",\"paper_525.png\",\"paper_841.png\",\"paper_191.png\",\"paper_499.png\",\"paper_768.png\",\"paper_746.png\",\"paper_717.png\",\"paper_734.png\",\"paper_833.png\",\"paper_171.png\",\"paper_201.png\",\"paper_484.png\",\"paper_199.png\",\"paper_332.png\",\"paper_747.png\",\"paper_395.png\",\"paper_35.png\",\"paper_751.png\",\"paper_173.png\",\"paper_340.png\",\"paper_427.png\",\"paper_360.png\",\"paper_602.png\",\"paper_516.png\",\"paper_848.png\",\"paper_771.png\",\"paper_875.png\",\"paper_136.png\",\"paper_708.png\",\"paper_587.png\",\"paper_785.png\",\"paper_551.png\",\"paper_28.png\",\"paper_609.png\",\"paper_416.png\",\"paper_144.png\",\"paper_329.png\",\"paper_74.png\",\"paper_456.png\",\"paper_150.png\",\"paper_341.png\",\"paper_17.png\",\"paper_413.png\",\"paper_607.png\",\"paper_246.png\",\"paper_832.png\",\"paper_816.png\",\"paper_553.png\",\"paper_690.png\",\"paper_651.png\",\"paper_835.png\",\"paper_306.png\",\"paper_214.png\",\"paper_372.png\",\"paper_167.png\",\"paper_159.png\",\"paper_794.png\",\"paper_616.png\",\"paper_522.png\",\"paper_759.png\",\"paper_195.png\",\"paper_641.png\",\"paper_401.png\",\"paper_555.png\",\"paper_77.png\",\"paper_748.png\",\"paper_208.png\",\"paper_634.png\",\"paper_96.png\",\"paper_109.png\",\"paper_426.png\",\"paper_405.png\",\"paper_821.png\",\"paper_334.png\",\"paper_300.png\",\"paper_282.png\",\"paper_601.png\",\"paper_583.png\",\"paper_576.png\",\"paper_29.png\",\"paper_542.png\",\"paper_36.png\",\"paper_232.png\",\"paper_249.png\",\"paper_78.png\",\"paper_348.png\",\"paper_209.png\",\"paper_423.png\",\"paper_319.png\",\"paper_465.png\",\"paper_899.png\",\"paper_273.png\",\"paper_509.png\",\"paper_654.png\",\"paper_304.png\",\"paper_170.png\",\"paper_530.png\",\"paper_259.png\",\"paper_556.png\",\"paper_497.png\",\"paper_904.png\",\"paper_610.png\",\"paper_244.png\",\"paper_26.png\",\"paper_592.png\",\"paper_250.png\",\"paper_267.png\",\"paper_12.png\",\"paper_503.png\",\"paper_778.png\",\"paper_45.png\",\"paper_749.png\",\"paper_562.png\",\"paper_110.png\",\"paper_336.png\",\"paper_605.png\",\"paper_611.png\"],\"legendgroup\":\"paper\",\"marker\":{\"color\":\"#636efa\",\"symbol\":\"circle\"},\"mode\":\"markers\",\"name\":\"paper\",\"showlegend\":true,\"x\":[-4.5461955,-4.7896066,10.476154,-1.6414549,11.137882,-4.6749067,-5.092945,16.43303,13.432465,10.86053,10.805231,-4.635649,17.00501,-3.7323546,16.913029,10.694423,-5.361842,-0.42497915,11.447308,-1.112147,13.864456,-5.7202506,-4.8677645,18.207663,-2.6559331,-1.9847698,13.476295,11.122814,-5.264028,-3.1603258,-3.2667456,-5.105048,-4.249993,-0.69624776,-2.4486508,-1.9888437,-5.3969784,-5.1442995,-5.636332,10.774986,-1.7846152,-2.7079966,-5.7874804,-5.28755,-4.450606,9.535161,-2.7570615,18.146673,-5.4281783,11.31021,10.856094,10.475457,-4.5545506,13.585002,-4.8575153,17.013521,-5.233752,-5.4779973,11.359618,-0.8631823,-2.7756832,13.550107,-4.6296988,10.4605,10.826719,-5.6052575,-5.6552005,-5.6933007,-4.756801,-5.340274,-5.5738645,-5.20553,-4.2272325,17.420794,11.652336,18.14719,11.323532,17.447464,-2.0078952,-0.61923426,-5.107984,-4.994304,-1.904747,-4.9967885,18.170048,11.305316,-2.718599,-2.794789,-4.377912,-1.646127,17.603092,13.561705,16.782082,18.293825,-2.8739696,-2.3433142,16.857973,13.892818,-0.6634373,17.641153,-5.009139,14.005665,16.458117,10.659176,-0.51937133,-3.2544098,-4.1302514,-0.6572407,-4.2992263,-4.8146925,-4.7459755,-3.984746,10.770274,-5.629653,18.363379,10.900706,10.962129,10.835224,-3.5873613,-4.7669916,10.978011,-5.401213,-5.607047,-1.8425554,-4.613965,-4.9818115,-0.7068335,-1.2410064,11.481992,-5.212541,18.155003,18.222466,11.773441,-2.42846,11.928285,13.944057,-5.649858,10.6473465,13.462919,17.566217,-0.83868235,-5.125913,10.457404,-5.6354904,-4.3009205,11.151507,-5.33766,-1.7480432,18.164082,9.813516,11.174391,-4.6129894,13.586775,11.444824,10.803053,18.1386,-4.879815,16.890759,-5.4083962,-4.0344467,-4.0313,9.505317,-5.18132,-5.5104365,-3.738569,11.754753,-2.4732459,14.3528185,-0.7166611,11.047612,-4.787815,11.435904,-2.7537844,17.38557,-4.940234,11.577659,-3.5057046,-4.522198,9.632416,-4.908812,-5.094343,-4.5701995,-2.7039945,11.371504,-1.6455204,13.384777,13.406403,13.874266,-5.5827565,-5.641673,-4.447492,13.907349,-1.1826195,10.8260975,13.391993,17.431593,-0.43453798,-1.9882408,-2.5031383,-3.5985389,17.369017,-4.619738,-1.5505546,11.361326,14.329382,-5.561682,-5.080268,-1.817583,10.876926,11.08175,-5.405178,-5.73359,-1.6137062,14.302029,17.2714,14.020007,-0.427858,13.408359,-4.8325553,-4.7676473,-4.833771,18.311188,-5.6520066,16.458681,-4.6342764,-3.8700273,9.929457,16.94913,18.249136,-5.78353,-3.2220902,-4.8436007,18.19886,-5.105179,-5.3043733,-4.0416675,-3.6798973,-4.461651,-1.9524045,-2.1679544,-1.6175082,11.409723,-5.028084,11.5949745,-3.244477,-5.118469,-1.1794322,-3.08831,-1.582355,-5.3237906,-0.85643137,-4.8492236,11.150393,10.867588,10.743337,-2.7166038,-4.1876135,18.169273,-4.6066666,18.17631,-5.1695676,-5.689604,-5.411733,18.428644,-0.9101194,-1.5182862,10.847226,-2.1045754,-3.254573,13.4460125,17.39222,-1.4007316,-2.2621202,-2.7101166,-2.5147803,17.116302,-4.8655705,-1.141685,18.302322,13.987488,11.5166855,-4.6868243,18.315628,-4.7821393,-5.386323,17.701487,10.812778,-4.405502,-4.103639,17.36945,-0.904102,-4.4658136,-2.2520735,-0.6542603,-3.4299054,-5.4550147,13.389656,-0.68452024,-1.202995,-3.548324,-4.192715,-3.740886,-4.894186,10.404837,-4.811419,-4.1516275,-5.6051025,13.979245,-4.781095,16.970808,-2.4996743,11.4727335,-5.7001157,-5.220331,10.655681,16.95943,11.215872,-1.1165109,10.1158285,-4.165179,-5.0279264,-1.6725224,10.981283,-2.5793018,-5.4815073,-4.8698096,11.630666,-5.5610566,10.946959,-1.5743393,18.224531,16.836319,-4.181147,14.000014,-4.6528187,11.108631,11.59919,-4.794082,17.714725,-4.8131804,13.529487,-4.4044824,16.608715,10.747953,-5.687728,9.945222,-4.685912,-5.5892344,10.764829,-5.268704,10.7654085,16.450382,-5.6023273,-2.725142,-1.9762632,-5.513497,-4.48351,-4.929911,-5.3803864,-3.0906396,11.5901985,10.362179,-5.361648,18.305588,-5.1477623,10.730211,17.381523,-4.085434,-1.1770834,-4.0784125,-4.8170414,11.149405,11.460843,-5.0589194,-4.691783,10.365876,-5.600724,-2.6967807,13.492475,-2.7301698,-4.087466,18.297163,11.441818,10.955166,-5.1271334,-1.129539,11.777059,17.579992,11.430674,13.420151,-2.5184934,17.39404,13.59864,-5.6605396,-0.96641845,-4.8156066,-2.8626096,-4.9555173,10.361975,13.335759,11.225814,9.497925,11.38536,11.56487,-4.168486,11.115138,-2.7598798,11.2984705,9.735771,-5.7881646,10.851266,17.340395,10.748132,-0.74032354,-4.9252596,-1.675222,-2.750464,-4.672481,-2.7126296,-1.0350231,-1.9762408,-5.2376633,-5.7042537,17.440613,-4.255943,16.969084,-1.8722447,-1.408058,13.9208975,-3.1021798,11.588036,-3.2677884,11.491249,13.416153,-4.8465433,17.584198,11.289948,16.835232,17.628544,-5.754226,13.964967,10.803925,-2.2818556,11.4529,13.405585,-2.203345,-5.2387295,-5.165436,-5.146256,-1.4124719,-1.6156595,18.4014,18.20126,-4.3411045,-0.4014353,-0.49569818,17.596012,17.572912,-4.2120924,-4.041703,-5.727737,-3.276545,-1.720155,-4.0604615,-4.1269555,-4.503715,11.56522,11.512769,11.566659,16.455658,16.466602,-5.079503,10.645606,-4.783934,-2.7296865,13.350863,10.79632,-2.3831844,-5.705111,13.416433,-5.550743,-0.81233376,16.438452,11.4335165,10.836362,-2.6994903,-4.120961,13.949325,10.412923,10.415807,-2.7265658,-1.412604,10.33154,-4.905205,16.745451,-4.671727,-4.452889,-5.6341925,-5.783203,-0.7089392,-4.8482413,17.623873,11.353008,16.685438,-4.133792,-5.7314644,-1.8057535,-5.763332,18.420534,-0.42945093,13.887035,11.524379,11.614622,11.354999,-3.264994,18.31527,18.32048,-1.4064058,-5.572983,-0.61996907,9.909724,-5.569411,-5.1956825,-0.91570926,-4.5267196,-2.1476738,10.457809,18.176394,11.200161,11.413956,-3.9073956,11.520861,-1.2626415,-4.2786455,-4.84283,-1.7746906,-5.4047666,-5.2484145,-2.5057478,13.469216,17.981432,-1.948761,17.632334,11.4421015,-5.479151,10.780041,-0.6166454,-2.9207435,-2.7679253,-5.186469,-5.754901,-1.718501,-1.7469059,-5.0110297,-4.5900574,-5.599571,-2.6558793,-3.1104622,-5.731349,11.511348,18.401432,13.411398,17.074102,-4.6237483,-5.5964,11.1387205,18.163733,13.628751,18.250847,-4.59026,-4.663388,10.367366,-4.4793963,10.4240055,10.86523,-1.6826749,-4.796499,11.529983,-2.4298806,11.718576,10.487636,11.160039,11.063067,16.432207,17.557821,10.909029,-1.695305,11.765643,11.503287,17.395435,-5.255894,-4.737047,-5.781361,10.445232,-2.2771423,-5.7566023,-3.1092212,16.984358,11.49465,10.838956,11.026622,16.883251,11.500376,-2.7074516,-4.890507,13.555733,-4.8657455,-5.150767,-4.7266603,17.493723,18.230019,10.740891,-2.479703,-2.7149487,-2.352886,13.58023,-5.830797,-2.7990084,-1.4910914,-5.6024976,10.653355,-4.1097045,-5.481181,-4.6022787,-1.9928443,-1.9828163,18.44817,-2.3986938,-5.7615633,-1.1551505,13.690936,-5.510281,13.964718,-5.5043874,-2.3540263,-4.727478,18.295582,13.639345,11.107208,10.832774,-0.6543688,10.6868725,17.648046,10.797059,-3.9633002,13.614477,18.17142,-3.8718948,11.27457,18.110233,-4.492508,17.529274,10.668075,-4.6949034,-2.252425,10.747487,13.983657,13.391522,13.527337,14.031319,14.03164,-1.2781017,-4.797138,13.90647,17.402164,-1.7382996,11.261949,-4.7258215,10.929251,11.029332,17.45036,-5.4177914,-5.191734,-2.3085632,13.475891,-5.5816216,18.39081,-4.6832976,17.583424,-5.1663446,-4.8154874,-1.0080265,10.889423,-1.7833087,11.486928,-5.2927575,-4.81333,-0.91780573,11.06498,11.347381,-1.670884,-4.209271,-5.673803,11.46822,-4.2661533,-5.0996747,10.304432,13.879393,13.570007,-4.425873,11.277619,-4.976999,10.37117,-4.105768,11.427774,-0.77885103,9.680724,-4.4066944,-5.426847,13.402599,18.03069,-1.920403,-0.920608,-4.1717567,-1.1011239,11.378082,10.455316,11.445915,-5.650359,10.676404,16.837042,-5.572793,14.017913,-5.1707487,-2.5254586,-5.2518263,-2.1144123,18.340235,-4.483286,-5.1983123,-2.5101244,-2.77221,11.340435,11.415848,17.511604,-5.0381546,-3.2815816,-4.5807242,17.640661,10.333964,-3.9649086,13.581916,11.409558,18.126516,-4.5176787,11.398546,10.87124,10.762701,-0.8419545,17.416487,11.469247,-1.8793081,10.865395,10.678473,11.502879,-5.3551993,-2.7013168,-5.0676427,18.306795,11.394517,-1.5089291,11.738504,-5.258208,-2.7127237,10.315426,11.029589,-5.3246484,-3.7413337,10.652111,-4.764726,-1.5609608,-4.914271,11.814618,17.377787,11.4806385,-5.131973,11.843334,10.98178,9.640148,-4.001757,-0.9323591,17.981506,-2.4972377,17.660576,-2.7461984,-2.5379906,-2.7254403,18.296015,11.254568,11.047188,18.258991,-1.5326229,-5.6321225,18.202448,-2.347944,-0.725688,-0.91074544,-2.5304966,-1.954769,-5.4246926,10.914545,18.290367,-5.769369,-5.5289464,-0.70793825,11.699927,11.629811,-1.4033157,-5.429701,-5.4493847,17.973293,11.913856,17.855852,17.501188,0.6777213,-2.449979,-2.8019965,-5.0319805,10.004425,16.673807,-1.820398,13.8796,-4.910629,16.874363,17.739145,-5.0453863,-5.506096,-3.9200766,13.993784,-5.182906,-5.332406,-5.376543,17.597395,16.91699,11.439765,-1.9784462,-1.7766604,13.898152,10.388283,11.401793,-1.8592131,-5.755526,-4.696538,10.623057,-5.222496,-5.3136735,-0.5948614,11.323629,18.23925,-1.9936272,-5.620584,9.962467,11.22787,13.922281,-4.0156894,-0.7424375,-5.3979816,10.383303,-4.78049,-3.4895966,18.109322,10.955247,-1.678264,11.2243185,-5.7339554,-5.44114,17.423862,16.502316,16.460453,-4.89845,13.581772,-5.449416,-4.4941225,-4.5079784,-3.9962537,11.1989765,-5.031805,18.14344,-3.8928702,13.392546,-1.7119123,-4.379785,18.225086,11.471521,-5.8570266,-5.2424755,17.437504,-4.1332793,13.871972,18.062628,-0.99622345,16.819366,-4.4718294,-4.855515,17.609518,-4.5058494,-4.557818,10.99213,18.332708,-2.2869263,-4.554847,-0.7002158,13.586646,-4.0847607,-5.23788,16.942717,10.365784],\"xaxis\":\"x\",\"y\":[11.064604,13.290495,0.4724834,-8.841867,1.2005194,11.497555,13.244438,3.0812814,-2.8524435,13.8929205,13.920743,13.838432,2.3313005,10.53642,2.2915132,13.831129,13.322814,-9.508793,0.70518696,-8.712213,-4.221472,13.968742,10.683703,3.4444878,-6.320445,-9.389136,-2.8937652,1.197555,12.897737,-5.75996,-5.739464,13.000351,10.425592,-9.261826,-8.854335,-9.400794,13.832848,13.151234,14.490531,1.078661,-8.506106,-6.443963,13.456397,13.362237,12.915155,1.0940639,-6.2918935,3.345389,14.536147,15.101522,13.766229,0.39703757,11.082714,-2.9996836,13.700074,2.2913392,12.848504,13.046629,15.034301,-8.803189,-5.9668465,-2.9672537,11.057111,0.4685979,13.729613,13.739055,13.798811,13.243458,10.839129,13.021197,14.328355,13.474542,11.418397,2.3268995,14.553844,3.219506,14.477053,2.3545516,-9.384885,-9.330886,13.08383,13.550935,-9.058987,13.7260685,3.348032,15.14522,-6.5152035,-6.0597014,10.841274,-8.628391,2.3623033,-2.9727094,2.4128618,3.159384,-5.1642413,-8.834697,2.3319712,-4.263673,-9.304837,2.5464761,13.366477,-4.393117,3.0686746,13.837483,-9.421496,-5.761221,10.406849,-9.302928,12.82924,13.587593,10.770442,10.733214,0.7153868,14.212361,3.2153704,13.810615,13.842228,14.428495,11.341382,12.6948185,14.643003,13.017024,13.90378,-9.237002,11.152829,13.393286,-9.281695,-8.663093,15.334963,13.511336,3.0180824,3.506952,14.492122,-8.854223,14.671741,-4.3243604,13.751754,0.8556799,-2.9038575,2.4842372,-9.227702,12.934054,0.45377213,14.386382,10.463421,14.144081,13.203603,-8.463088,3.2157834,0.7582267,1.1828427,11.160256,-2.98711,14.476223,1.126314,3.283473,13.5418415,2.224086,13.154934,11.465423,11.0297575,1.1172037,13.344013,13.534022,10.539058,14.614105,-8.855164,0.34696636,-9.212115,14.079315,10.812805,14.512527,-5.9371815,2.5137877,13.10237,0.6798169,6.857723,11.056852,0.99899566,13.818735,13.59358,11.129297,-6.17053,14.500792,-8.496215,-2.849424,-2.5773287,-4.2467985,14.483175,13.824357,10.891642,-4.287546,-8.710786,14.50384,-2.8258767,2.3840168,-9.501276,-9.394865,-6.920699,11.233607,2.3393726,11.1352415,-8.843159,14.63879,-0.11262471,14.469191,13.020896,-8.196447,1.1842204,1.2040862,14.495498,13.818811,-8.561827,0.39451948,2.236648,-4.411601,-9.505927,-2.848632,13.304493,10.822014,13.555373,3.6063402,14.303756,3.0752912,13.805832,10.627964,0.6118754,2.297449,3.6328266,13.7527895,-5.7507887,13.215352,3.1999578,13.667137,13.499455,10.495638,10.649703,10.662536,-9.3712635,-8.938357,-8.877447,14.497995,13.296576,15.316662,-5.76456,13.360476,-8.722153,-5.7610464,-8.50706,13.297081,-8.779389,13.631929,14.172976,13.963693,0.67881286,-6.046525,10.411951,3.2817345,11.048997,3.4021213,13.719652,13.292175,13.348926,3.2806354,-8.765921,-8.468254,0.67807484,-8.996472,-5.727004,-2.9028678,2.5769079,-8.649645,-8.79446,-6.048171,-6.9077144,2.566262,10.731315,-8.675435,3.6974998,-4.3762116,0.8692841,11.18329,3.7098486,13.363618,13.750438,2.8348484,13.934739,11.246746,10.775611,2.3385751,-8.788608,10.542813,-8.789284,-9.316463,6.7732296,14.493839,-2.7969863,-9.286147,-8.614546,6.902508,10.512675,10.523774,13.316848,0.32621515,10.726361,10.406453,14.377188,-4.3703494,12.719401,2.2458594,-6.9298344,0.78620684,13.249744,12.89261,13.833751,2.5546243,14.265898,-8.692232,0.54809654,10.435077,13.458498,-8.881361,14.649042,-6.6451254,14.346591,13.179775,14.349875,14.168516,14.652134,-8.579178,3.443738,2.3351386,10.391054,-4.389875,11.026652,1.2439569,14.175375,10.77066,2.4738646,13.291773,0.0566155,11.304475,3.0752642,1.058611,13.784389,0.6148019,10.843104,14.465333,14.422346,13.514208,1.0606043,3.0677886,14.439494,-6.0261273,-9.299648,14.479179,10.452088,12.864552,12.957453,-5.7772536,15.195185,0.33663806,13.047466,3.5321734,13.340538,0.9000594,2.2997525,13.881686,-8.5648155,10.802399,12.75743,14.250617,0.79358375,13.600409,11.226582,0.31945938,13.636708,-6.567784,-2.8374565,-6.511022,12.75796,3.3308156,0.7202194,1.1937581,13.012189,-8.704818,14.506312,2.4082065,14.498107,-2.8720672,-6.905414,2.3392866,-3.006513,13.283727,-9.118417,13.56857,-5.9248276,13.16216,0.3231728,-2.8014162,14.393952,1.0952199,1.2464695,14.372469,11.031502,1.1831489,-6.03543,1.1144344,0.8731185,13.684923,13.709572,2.2286854,1.1671311,-9.193527,13.611896,-8.956768,-6.035401,11.197046,-6.016524,-8.747183,-9.421261,12.9023075,13.889281,2.316438,10.447905,2.6235738,-8.47627,-8.709113,-4.304194,-5.765576,0.6989334,-5.75677,0.7306902,-2.8493977,10.772435,2.4397917,1.1367642,2.3881423,2.841038,13.814244,-4.354428,1.140631,-8.780363,14.536618,-2.8463604,-8.821095,13.451106,12.940927,12.841407,-9.038843,-8.884669,3.2227366,3.378233,11.300907,-9.531304,-9.450583,2.7611413,2.4079392,10.3805065,10.557531,13.26039,-5.7477694,-8.368624,10.674179,10.712542,13.823554,14.459946,0.79026353,0.71278924,3.0698776,3.0693529,13.268396,0.5824315,13.620574,-6.520425,-2.7501884,14.363084,-8.82127,13.92667,-2.848725,13.772296,-9.230642,3.0295153,14.58851,13.919508,-6.5422225,13.883367,-4.279698,0.42418906,0.3105334,-6.5373993,-8.622281,0.31335914,13.327194,2.3366745,13.883519,10.418464,14.372602,13.43617,-9.279319,13.6263,2.8979745,0.66992086,2.4175348,11.522984,13.322289,-9.005975,13.855351,3.1810925,-9.504458,-4.265268,0.9001475,14.272721,15.233433,-5.7699046,3.6052773,3.732085,-8.706126,14.4137,-9.347192,0.64608395,14.369004,13.586299,-8.754083,11.009786,-8.921631,0.39222974,3.24195,0.728103,14.5662985,12.589588,0.7047839,-8.643249,12.830948,10.756347,-8.511367,13.889674,13.277677,-6.922608,-2.9500825,3.135636,-9.183126,2.486997,14.515357,13.701165,14.461584,-9.34568,-5.8859906,-5.7929277,12.958256,13.5136795,-8.425624,-8.34693,13.201646,13.92103,14.477556,-6.4383454,-5.806325,13.288471,14.311109,3.2488258,-2.8403525,2.4134917,11.036618,14.214932,1.167591,2.9919884,-2.896923,3.5890455,13.919151,11.086071,0.32056296,11.007734,0.3277763,14.374732,-8.887525,13.509582,0.75007874,-8.834227,14.312539,0.43079102,0.7299512,0.72502327,3.068756,2.3496425,14.560444,-8.433721,14.313223,0.8158672,2.327716,13.559158,13.731251,13.694957,0.25890213,-8.834246,13.868554,-5.803376,2.2503982,0.72155017,14.486783,13.858934,2.4400432,15.274789,-6.0072284,13.506975,-2.9769042,13.207763,14.149878,10.58789,2.4063687,3.4940171,13.858768,-8.852913,-6.021568,-8.806734,-2.9409811,13.6379795,-5.9689856,-8.596336,14.001762,0.8536182,10.38042,13.101896,11.180179,-9.407968,-9.421661,3.1883295,-8.832562,13.769195,-8.378496,-2.6372216,14.343255,-4.3444366,13.046677,-8.839959,10.732198,3.5279653,-3.042976,14.089507,14.5940895,-9.329311,13.874951,2.5334597,1.0649313,10.664559,-3.013549,3.2911186,11.386445,14.320147,3.283109,11.151761,2.4151344,13.837661,11.183187,-8.814994,0.82440627,-4.3720083,-2.842121,-2.946504,-4.4240274,-4.418365,-8.720546,10.797882,-4.281912,2.526463,-8.871992,15.006428,13.71035,14.1964445,14.719276,2.3598814,13.645422,12.922711,-8.861977,-2.9590478,14.496868,3.5104942,11.15444,2.4653249,14.0402775,13.837373,-8.736386,0.75727624,-8.565256,0.74700415,13.339025,10.781287,-8.753072,14.687618,15.070432,-8.889838,10.905706,13.812838,0.6999732,11.018736,13.265782,0.36212623,-4.2555776,-3.003648,10.495715,15.123051,12.980505,0.3187017,10.620696,14.501478,-9.2110615,0.9642039,10.416426,13.143847,-2.862862,3.364779,-8.991175,-8.772477,10.431543,-8.701343,0.7237255,0.33626223,14.519965,13.828519,0.854636,2.2075036,13.958054,-4.406672,13.015311,-6.886302,12.814287,-8.903888,3.245105,10.482412,13.446663,-6.9186997,-5.9911056,0.67450976,1.1339254,2.3747356,13.478132,-5.7413974,11.115213,2.9501405,0.32170004,10.481284,-2.9767282,0.6917949,3.5831969,11.090612,14.546811,14.029831,14.39475,-9.218328,2.3018196,0.71711946,-8.5407295,14.488265,13.886961,0.7073205,13.237038,-6.5550733,13.528552,3.6954591,14.548771,-8.745557,1.0839972,13.457967,-6.540568,0.2806616,14.125469,13.2025385,10.516617,13.825625,10.763782,-8.794789,13.3214655,14.559404,2.3251638,0.7116931,13.077477,14.597999,0.7950847,0.99851525,12.702431,-8.835109,3.1710958,-6.9159045,2.3879077,-6.538998,-6.84578,-6.530744,3.5032535,14.609279,14.678277,3.279552,-8.742038,14.065989,3.4507558,-8.829888,-9.190696,-8.814551,-6.8684983,-9.379644,13.294057,14.626052,3.6789567,13.846168,14.24528,-9.230272,14.569876,14.718839,-8.820811,13.75214,14.484539,3.1173062,14.669029,2.6433656,2.3835042,-5.6755877,-8.851463,-5.9609146,13.037284,0.5968953,2.5188756,-8.97857,-4.256358,13.491898,2.2270315,2.7254739,13.355828,14.322008,10.647929,-4.3886395,13.254084,14.384946,13.004003,2.5145743,2.636869,13.979803,-9.423489,-8.529335,-4.2807527,0.3040692,1.2135488,-9.220953,13.68815,13.749174,13.817322,12.821509,13.464868,-9.351494,1.2187059,3.2388704,-9.103765,13.968386,0.5909785,14.464051,-4.3053555,10.570721,-9.190552,13.869499,0.34258705,10.755412,11.184283,3.2457068,13.988719,-8.868084,15.041806,13.276003,14.391545,2.3404088,3.0827096,3.0580943,13.372714,-3.002404,13.369368,11.244081,10.622324,10.5928955,14.980395,13.836923,3.2625222,10.508021,-2.8680952,-8.437857,10.462647,3.4480984,0.742277,13.584402,12.777732,2.3332453,10.4092245,-4.244588,3.2224007,-8.731737,2.2034965,10.4377775,13.188811,2.3826969,10.581383,11.14186,14.623588,3.624157,-8.822162,13.887922,-9.242982,-2.9894874,12.757729,13.754217,2.6738248,0.32222205],\"yaxis\":\"y\",\"type\":\"scattergl\"},{\"hovertemplate\":\"\\u003cb\\u003e%{hovertext}\\u003c\\u002fb\\u003e\\u003cbr\\u003e\\u003cbr\\u003etag=rock\\u003cbr\\u003ex=%{x}\\u003cbr\\u003ey=%{y}\\u003cextra\\u003e\\u003c\\u002fextra\\u003e\",\"hovertext\":[\"rock_813.png\",\"rock_170.png\",\"rock_608.png\",\"rock_767.png\",\"rock_405.png\",\"rock_357.png\",\"rock_245.png\",\"rock_279.png\",\"rock_588.png\",\"rock_331.png\",\"rock_33.png\",\"rock_59.png\",\"rock_686.png\",\"rock_629.png\",\"rock_28.png\",\"rock_244.png\",\"rock_93.png\",\"rock_870.png\",\"rock_189.png\",\"rock_548.png\",\"rock_377.png\",\"rock_489.png\",\"rock_387.png\",\"rock_41.png\",\"rock_227.png\",\"rock_762.png\",\"rock_339.png\",\"rock_458.png\",\"rock_386.png\",\"rock_822.png\",\"rock_376.png\",\"rock_359.png\",\"rock_825.png\",\"rock_731.png\",\"rock_614.png\",\"rock_319.png\",\"rock_862.png\",\"rock_801.png\",\"rock_544.png\",\"rock_477.png\",\"rock_496.png\",\"rock_675.png\",\"rock_616.png\",\"rock_493.png\",\"rock_705.png\",\"rock_868.png\",\"rock_663.png\",\"rock_512.png\",\"rock_808.png\",\"rock_11.png\",\"rock_95.png\",\"rock_439.png\",\"rock_254.png\",\"rock_503.png\",\"rock_19.png\",\"rock_354.png\",\"rock_369.png\",\"rock_186.png\",\"rock_112.png\",\"rock_394.png\",\"rock_123.png\",\"rock_317.png\",\"rock_219.png\",\"rock_444.png\",\"rock_646.png\",\"rock_787.png\",\"rock_771.png\",\"rock_545.png\",\"rock_577.png\",\"rock_526.png\",\"rock_529.png\",\"rock_602.png\",\"rock_194.png\",\"rock_425.png\",\"rock_67.png\",\"rock_179.png\",\"rock_361.png\",\"rock_237.png\",\"rock_20.png\",\"rock_700.png\",\"rock_263.png\",\"rock_148.png\",\"rock_181.png\",\"rock_324.png\",\"rock_366.png\",\"rock_810.png\",\"rock_864.png\",\"rock_327.png\",\"rock_733.png\",\"rock_223.png\",\"rock_164.png\",\"rock_143.png\",\"rock_843.png\",\"rock_600.png\",\"rock_505.png\",\"rock_3.png\",\"rock_363.png\",\"rock_139.png\",\"rock_72.png\",\"rock_547.png\",\"rock_212.png\",\"rock_582.png\",\"rock_381.png\",\"rock_770.png\",\"rock_464.png\",\"rock_628.png\",\"rock_662.png\",\"rock_632.png\",\"rock_36.png\",\"rock_15.png\",\"rock_497.png\",\"rock_687.png\",\"rock_61.png\",\"rock_609.png\",\"rock_431.png\",\"rock_486.png\",\"rock_815.png\",\"rock_176.png\",\"rock_153.png\",\"rock_240.png\",\"rock_333.png\",\"rock_681.png\",\"rock_417.png\",\"rock_676.png\",\"rock_656.png\",\"rock_897.png\",\"rock_709.png\",\"rock_732.png\",\"rock_690.png\",\"rock_71.png\",\"rock_880.png\",\"rock_666.png\",\"rock_391.png\",\"rock_758.png\",\"rock_251.png\",\"rock_134.png\",\"rock_893.png\",\"rock_116.png\",\"rock_613.png\",\"rock_23.png\",\"rock_384.png\",\"rock_329.png\",\"rock_316.png\",\"rock_350.png\",\"rock_549.png\",\"rock_719.png\",\"rock_310.png\",\"rock_109.png\",\"rock_636.png\",\"rock_9.png\",\"rock_479.png\",\"rock_742.png\",\"rock_631.png\",\"rock_637.png\",\"rock_295.png\",\"rock_22.png\",\"rock_115.png\",\"rock_456.png\",\"rock_550.png\",\"rock_163.png\",\"rock_465.png\",\"rock_422.png\",\"rock_126.png\",\"rock_183.png\",\"rock_873.png\",\"rock_829.png\",\"rock_483.png\",\"rock_206.png\",\"rock_149.png\",\"rock_877.png\",\"rock_861.png\",\"rock_323.png\",\"rock_633.png\",\"rock_53.png\",\"rock_272.png\",\"rock_527.png\",\"rock_25.png\",\"rock_720.png\",\"rock_344.png\",\"rock_725.png\",\"rock_607.png\",\"rock_507.png\",\"rock_437.png\",\"rock_714.png\",\"rock_575.png\",\"rock_776.png\",\"rock_243.png\",\"rock_432.png\",\"rock_594.png\",\"rock_341.png\",\"rock_723.png\",\"rock_229.png\",\"rock_308.png\",\"rock_603.png\",\"rock_433.png\",\"rock_54.png\",\"rock_75.png\",\"rock_667.png\",\"rock_587.png\",\"rock_300.png\",\"rock_447.png\",\"rock_414.png\",\"rock_280.png\",\"rock_780.png\",\"rock_98.png\",\"rock_141.png\",\"rock_201.png\",\"rock_262.png\",\"rock_334.png\",\"rock_146.png\",\"rock_715.png\",\"rock_113.png\",\"rock_142.png\",\"rock_190.png\",\"rock_717.png\",\"rock_661.png\",\"rock_763.png\",\"rock_246.png\",\"rock_442.png\",\"rock_838.png\",\"rock_645.png\",\"rock_535.png\",\"rock_552.png\",\"rock_420.png\",\"rock_410.png\",\"rock_301.png\",\"rock_573.png\",\"rock_452.png\",\"rock_313.png\",\"rock_402.png\",\"rock_559.png\",\"rock_50.png\",\"rock_399.png\",\"rock_68.png\",\"rock_620.png\",\"rock_790.png\",\"rock_231.png\",\"rock_130.png\",\"rock_166.png\",\"rock_713.png\",\"rock_446.png\",\"rock_315.png\",\"rock_786.png\",\"rock_264.png\",\"rock_833.png\",\"rock_368.png\",\"rock_390.png\",\"rock_379.png\",\"rock_365.png\",\"rock_97.png\",\"rock_874.png\",\"rock_576.png\",\"rock_658.png\",\"rock_238.png\",\"rock_884.png\",\"rock_515.png\",\"rock_157.png\",\"rock_857.png\",\"rock_727.png\",\"rock_670.png\",\"rock_589.png\",\"rock_393.png\",\"rock_746.png\",\"rock_557.png\",\"rock_17.png\",\"rock_428.png\",\"rock_745.png\",\"rock_57.png\",\"rock_530.png\",\"rock_638.png\",\"rock_707.png\",\"rock_565.png\",\"rock_702.png\",\"rock_872.png\",\"rock_555.png\",\"rock_504.png\",\"rock_685.png\",\"rock_701.png\",\"rock_524.png\",\"rock_619.png\",\"rock_29.png\",\"rock_131.png\",\"rock_495.png\",\"rock_274.png\",\"rock_34.png\",\"rock_409.png\",\"rock_850.png\",\"rock_721.png\",\"rock_837.png\",\"rock_775.png\",\"rock_400.png\",\"rock_569.png\",\"rock_121.png\",\"rock_107.png\",\"rock_562.png\",\"rock_844.png\",\"rock_898.png\",\"rock_232.png\",\"rock_669.png\",\"rock_4.png\",\"rock_817.png\",\"rock_883.png\",\"rock_560.png\",\"rock_441.png\",\"rock_752.png\",\"rock_689.png\",\"rock_2.png\",\"rock_42.png\",\"rock_734.png\",\"rock_343.png\",\"rock_738.png\",\"rock_140.png\",\"rock_642.png\",\"rock_129.png\",\"rock_346.png\",\"rock_215.png\",\"rock_277.png\",\"rock_494.png\",\"rock_65.png\",\"rock_304.png\",\"rock_358.png\",\"rock_570.png\",\"rock_224.png\",\"rock_695.png\",\"rock_851.png\",\"rock_86.png\",\"rock_694.png\",\"rock_626.png\",\"rock_459.png\",\"rock_490.png\",\"rock_398.png\",\"rock_871.png\",\"rock_797.png\",\"rock_502.png\",\"rock_875.png\",\"rock_691.png\",\"rock_378.png\",\"rock_372.png\",\"rock_443.png\",\"rock_747.png\",\"rock_543.png\",\"rock_749.png\",\"rock_760.png\",\"rock_680.png\",\"rock_697.png\",\"rock_242.png\",\"rock_111.png\",\"rock_641.png\",\"rock_355.png\",\"rock_55.png\",\"rock_541.png\",\"rock_523.png\",\"rock_761.png\",\"rock_506.png\",\"rock_440.png\",\"rock_52.png\",\"rock_220.png\",\"rock_855.png\",\"rock_1.png\",\"rock_703.png\",\"rock_180.png\",\"rock_302.png\",\"rock_100.png\",\"rock_60.png\",\"rock_132.png\",\"rock_511.png\",\"rock_165.png\",\"rock_78.png\",\"rock_136.png\",\"rock_367.png\",\"rock_896.png\",\"rock_593.png\",\"rock_508.png\",\"rock_89.png\",\"rock_305.png\",\"rock_200.png\",\"rock_203.png\",\"rock_373.png\",\"rock_630.png\",\"rock_226.png\",\"rock_488.png\",\"rock_26.png\",\"rock_724.png\",\"rock_473.png\",\"rock_122.png\",\"rock_684.png\",\"rock_478.png\",\"rock_845.png\",\"rock_517.png\",\"rock_794.png\",\"rock_144.png\",\"rock_309.png\",\"rock_258.png\",\"rock_356.png\",\"rock_191.png\",\"rock_800.png\",\"rock_83.png\",\"rock_314.png\",\"rock_256.png\",\"rock_610.png\",\"rock_145.png\",\"rock_657.png\",\"rock_407.png\",\"rock_66.png\",\"rock_340.png\",\"rock_596.png\",\"rock_835.png\",\"rock_96.png\",\"rock_199.png\",\"rock_899.png\",\"rock_677.png\",\"rock_712.png\",\"rock_514.png\",\"rock_766.png\",\"rock_640.png\",\"rock_651.png\",\"rock_722.png\",\"rock_120.png\",\"rock_168.png\",\"rock_571.png\",\"rock_581.png\",\"rock_578.png\",\"rock_774.png\",\"rock_826.png\",\"rock_375.png\",\"rock_470.png\",\"rock_290.png\",\"rock_836.png\",\"rock_820.png\",\"rock_429.png\",\"rock_230.png\",\"rock_99.png\",\"rock_43.png\",\"rock_338.png\",\"rock_69.png\",\"rock_605.png\",\"rock_536.png\",\"rock_710.png\",\"rock_161.png\",\"rock_196.png\",\"rock_814.png\",\"rock_252.png\",\"rock_266.png\",\"rock_415.png\",\"rock_177.png\",\"rock_568.png\",\"rock_424.png\",\"rock_785.png\",\"rock_499.png\",\"rock_250.png\",\"rock_623.png\",\"rock_292.png\",\"rock_540.png\",\"rock_852.png\",\"rock_101.png\",\"rock_461.png\",\"rock_718.png\",\"rock_184.png\",\"rock_401.png\",\"rock_85.png\",\"rock_51.png\",\"rock_328.png\",\"rock_741.png\",\"rock_882.png\",\"rock_679.png\",\"rock_510.png\",\"rock_586.png\",\"rock_197.png\",\"rock_804.png\",\"rock_45.png\",\"rock_275.png\",\"rock_128.png\",\"rock_445.png\",\"rock_325.png\",\"rock_360.png\",\"rock_82.png\",\"rock_542.png\",\"rock_622.png\",\"rock_138.png\",\"rock_866.png\",\"rock_779.png\",\"rock_842.png\",\"rock_73.png\",\"rock_347.png\",\"rock_270.png\",\"rock_743.png\",\"rock_419.png\",\"rock_450.png\",\"rock_466.png\",\"rock_853.png\",\"rock_554.png\",\"rock_624.png\",\"rock_791.png\",\"rock_765.png\",\"rock_6.png\",\"rock_320.png\",\"rock_551.png\",\"rock_188.png\",\"rock_353.png\",\"rock_891.png\",\"rock_404.png\",\"rock_736.png\",\"rock_411.png\",\"rock_362.png\",\"rock_849.png\",\"rock_118.png\",\"rock_171.png\",\"rock_147.png\",\"rock_241.png\",\"rock_759.png\",\"rock_207.png\",\"rock_475.png\",\"rock_858.png\",\"rock_683.png\",\"rock_664.png\",\"rock_892.png\",\"rock_198.png\",\"rock_789.png\",\"rock_426.png\",\"rock_463.png\",\"rock_38.png\",\"rock_110.png\",\"rock_750.png\",\"rock_348.png\",\"rock_821.png\",\"rock_294.png\",\"rock_802.png\",\"rock_271.png\",\"rock_296.png\",\"rock_182.png\",\"rock_706.png\",\"rock_782.png\",\"rock_699.png\",\"rock_532.png\",\"rock_74.png\",\"rock_696.png\",\"rock_298.png\",\"rock_81.png\",\"rock_521.png\",\"rock_150.png\",\"rock_155.png\",\"rock_777.png\",\"rock_49.png\",\"rock_423.png\",\"rock_471.png\",\"rock_234.png\",\"rock_152.png\",\"rock_708.png\",\"rock_647.png\",\"rock_395.png\",\"rock_416.png\",\"rock_56.png\",\"rock_235.png\",\"rock_876.png\",\"rock_480.png\",\"rock_169.png\",\"rock_522.png\",\"rock_297.png\",\"rock_580.png\",\"rock_546.png\",\"rock_665.png\",\"rock_755.png\",\"rock_668.png\",\"rock_612.png\",\"rock_740.png\",\"rock_886.png\",\"rock_671.png\",\"rock_267.png\",\"rock_744.png\",\"rock_537.png\",\"rock_812.png\",\"rock_80.png\",\"rock_276.png\",\"rock_106.png\",\"rock_748.png\",\"rock_566.png\",\"rock_832.png\",\"rock_819.png\",\"rock_803.png\",\"rock_192.png\",\"rock_21.png\",\"rock_840.png\",\"rock_457.png\",\"rock_160.png\",\"rock_487.png\",\"rock_601.png\",\"rock_811.png\",\"rock_485.png\",\"rock_751.png\",\"rock_617.png\",\"rock_383.png\",\"rock_307.png\",\"rock_370.png\",\"rock_639.png\",\"rock_162.png\",\"rock_133.png\",\"rock_846.png\",\"rock_187.png\",\"rock_827.png\",\"rock_900.png\",\"rock_102.png\",\"rock_823.png\",\"rock_788.png\",\"rock_878.png\",\"rock_44.png\",\"rock_798.png\",\"rock_213.png\",\"rock_217.png\",\"rock_469.png\",\"rock_627.png\",\"rock_228.png\",\"rock_193.png\",\"rock_856.png\",\"rock_757.png\",\"rock_247.png\",\"rock_330.png\",\"rock_175.png\",\"rock_159.png\",\"rock_659.png\",\"rock_103.png\",\"rock_693.png\",\"rock_618.png\",\"rock_204.png\",\"rock_824.png\",\"rock_841.png\",\"rock_498.png\",\"rock_260.png\",\"rock_451.png\",\"rock_352.png\",\"rock_735.png\",\"rock_32.png\",\"rock_167.png\",\"rock_435.png\",\"rock_783.png\",\"rock_178.png\",\"rock_834.png\",\"rock_13.png\",\"rock_881.png\",\"rock_406.png\",\"rock_778.png\",\"rock_434.png\",\"rock_421.png\",\"rock_124.png\",\"rock_481.png\",\"rock_754.png\",\"rock_828.png\",\"rock_534.png\",\"rock_16.png\",\"rock_268.png\",\"rock_322.png\",\"rock_91.png\",\"rock_460.png\",\"rock_650.png\",\"rock_728.png\",\"rock_484.png\",\"rock_711.png\",\"rock_5.png\",\"rock_18.png\",\"rock_525.png\",\"rock_863.png\",\"rock_648.png\",\"rock_556.png\",\"rock_538.png\",\"rock_151.png\",\"rock_371.png\",\"rock_584.png\",\"rock_127.png\",\"rock_531.png\",\"rock_79.png\",\"rock_47.png\",\"rock_579.png\",\"rock_211.png\",\"rock_125.png\",\"rock_403.png\",\"rock_518.png\",\"rock_380.png\",\"rock_40.png\",\"rock_62.png\",\"rock_278.png\",\"rock_88.png\",\"rock_597.png\",\"rock_77.png\",\"rock_90.png\",\"rock_265.png\",\"rock_27.png\",\"rock_831.png\",\"rock_388.png\",\"rock_35.png\",\"rock_76.png\",\"rock_63.png\",\"rock_599.png\",\"rock_737.png\",\"rock_716.png\",\"rock_859.png\",\"rock_259.png\",\"rock_476.png\",\"rock_10.png\",\"rock_285.png\",\"rock_806.png\",\"rock_867.png\",\"rock_635.png\",\"rock_830.png\",\"rock_289.png\",\"rock_500.png\",\"rock_692.png\",\"rock_655.png\",\"rock_114.png\",\"rock_31.png\",\"rock_311.png\",\"rock_286.png\",\"rock_216.png\",\"rock_590.png\",\"rock_209.png\",\"rock_773.png\",\"rock_293.png\",\"rock_604.png\",\"rock_726.png\",\"rock_58.png\",\"rock_413.png\",\"rock_30.png\",\"rock_156.png\",\"rock_233.png\",\"rock_418.png\",\"rock_516.png\",\"rock_885.png\",\"rock_281.png\",\"rock_805.png\",\"rock_455.png\",\"rock_772.png\",\"rock_412.png\",\"rock_816.png\",\"rock_306.png\",\"rock_764.png\",\"rock_513.png\",\"rock_104.png\",\"rock_583.png\",\"rock_769.png\",\"rock_385.png\",\"rock_753.png\",\"rock_674.png\",\"rock_321.png\",\"rock_48.png\",\"rock_92.png\",\"rock_70.png\",\"rock_438.png\",\"rock_678.png\",\"rock_332.png\",\"rock_430.png\",\"rock_848.png\",\"rock_453.png\",\"rock_756.png\",\"rock_652.png\",\"rock_793.png\",\"rock_887.png\",\"rock_37.png\",\"rock_253.png\",\"rock_474.png\",\"rock_591.png\",\"rock_342.png\",\"rock_739.png\",\"rock_392.png\",\"rock_501.png\",\"rock_345.png\",\"rock_528.png\",\"rock_905.png\",\"rock_318.png\",\"rock_210.png\",\"rock_729.png\",\"rock_854.png\",\"rock_888.png\",\"rock_865.png\",\"rock_698.png\",\"rock_382.png\",\"rock_621.png\",\"rock_284.png\",\"rock_135.png\",\"rock_890.png\",\"rock_449.png\",\"rock_236.png\",\"rock_472.png\",\"rock_208.png\",\"rock_792.png\",\"rock_660.png\",\"rock_595.png\",\"rock_564.png\",\"rock_312.png\",\"rock_291.png\",\"rock_462.png\",\"rock_795.png\",\"rock_839.png\",\"rock_567.png\",\"rock_799.png\",\"rock_172.png\",\"rock_448.png\",\"rock_396.png\",\"rock_427.png\",\"rock_436.png\",\"rock_902.png\",\"rock_611.png\",\"rock_303.png\",\"rock_654.png\",\"rock_7.png\",\"rock_649.png\",\"rock_643.png\",\"rock_796.png\",\"rock_351.png\",\"rock_202.png\",\"rock_519.png\",\"rock_903.png\",\"rock_572.png\",\"rock_349.png\",\"rock_248.png\",\"rock_24.png\",\"rock_288.png\",\"rock_906.png\",\"rock_105.png\",\"rock_239.png\",\"rock_218.png\",\"rock_533.png\",\"rock_255.png\",\"rock_784.png\",\"rock_482.png\",\"rock_273.png\",\"rock_539.png\",\"rock_644.png\",\"rock_598.png\",\"rock_46.png\",\"rock_468.png\",\"rock_12.png\",\"rock_492.png\",\"rock_704.png\",\"rock_299.png\",\"rock_364.png\",\"rock_39.png\",\"rock_249.png\",\"rock_185.png\",\"rock_454.png\",\"rock_269.png\",\"rock_174.png\",\"rock_8.png\",\"rock_261.png\",\"rock_87.png\",\"rock_553.png\",\"rock_64.png\",\"rock_895.png\",\"rock_84.png\",\"rock_205.png\",\"rock_818.png\",\"rock_563.png\",\"rock_585.png\",\"rock_397.png\",\"rock_561.png\",\"rock_558.png\",\"rock_225.png\",\"rock_173.png\",\"rock_94.png\",\"rock_335.png\",\"rock_520.png\",\"rock_768.png\",\"rock_730.png\",\"rock_14.png\",\"rock_108.png\",\"rock_282.png\",\"rock_326.png\",\"rock_615.png\",\"rock_688.png\",\"rock_509.png\",\"rock_907.png\",\"rock_860.png\",\"rock_222.png\",\"rock_336.png\",\"rock_879.png\",\"rock_374.png\",\"rock_283.png\",\"rock_847.png\",\"rock_634.png\",\"rock_889.png\",\"rock_682.png\",\"rock_606.png\",\"rock_337.png\",\"rock_807.png\",\"rock_257.png\",\"rock_158.png\",\"rock_214.png\",\"rock_894.png\",\"rock_673.png\",\"rock_117.png\",\"rock_672.png\",\"rock_809.png\",\"rock_389.png\",\"rock_901.png\",\"rock_869.png\",\"rock_137.png\",\"rock_625.png\",\"rock_904.png\",\"rock_119.png\",\"rock_574.png\",\"rock_592.png\",\"rock_154.png\",\"rock_491.png\",\"rock_221.png\",\"rock_195.png\",\"rock_408.png\",\"rock_653.png\",\"rock_781.png\",\"rock_287.png\",\"rock_467.png\"],\"legendgroup\":\"rock\",\"marker\":{\"color\":\"#EF553B\",\"symbol\":\"circle\"},\"mode\":\"markers\",\"name\":\"rock\",\"showlegend\":true,\"x\":[-3.0097237,-1.8658978,15.663008,-2.6019688,11.939728,11.692734,-4.3311477,11.759838,15.6972885,-4.215603,-3.9493234,-4.004216,12.220126,12.29186,-3.6977267,-4.2690825,-3.7125437,-3.8309278,-1.9272608,15.861232,12.103428,15.140534,12.016445,-3.9048629,-2.4514842,-2.5575354,-4.584355,15.132038,11.92425,-2.8304784,12.118856,11.652201,-2.702761,-3.8763268,12.271476,-4.342404,-2.9522607,-3.043718,15.783733,14.827674,14.983507,11.919058,11.966117,15.172244,12.370493,-2.9937925,12.316393,14.781128,-2.700039,11.532011,-3.9995255,15.0279455,-4.3585873,14.09865,-4.2984843,12.376125,12.159208,-2.1272922,11.871259,12.409656,11.537322,-4.3220124,-3.5186324,14.250231,12.524888,-4.0161715,-2.6146255,15.728667,14.4967785,14.885695,14.577767,15.726072,-2.0298727,14.197472,-3.381104,11.600981,11.631037,-4.1628304,-4.1991315,12.357097,-4.5039387,-2.2396798,-2.1794722,-4.496546,12.15038,-3.1012638,-3.0821567,-4.26377,-3.8854718,11.6866045,-2.284997,-2.254724,-4.12888,15.614413,15.184312,-1.9392755,11.8749075,-2.1720011,-3.1429834,15.926312,11.562219,14.426189,11.737303,-2.5733857,15.097474,12.235465,12.380028,12.303746,-4.1871862,-4.121043,14.9484825,12.225623,-4.383744,15.658766,15.066218,14.122258,-2.5908551,-2.20218,-2.873485,-4.1702504,-4.14269,12.129097,15.095373,11.880418,12.332589,-4.1902432,12.43185,-3.899137,11.912272,-3.2744532,-3.07885,12.13576,12.6386595,-2.991753,-3.7414298,-1.9724442,-3.7935917,-2.541345,12.299964,-3.3172915,11.595708,-4.243277,-4.2321334,12.606736,15.856535,-3.8133247,-4.369441,-4.459481,12.174307,-4.2575455,14.5252,-3.6611378,12.315705,12.203103,-4.2632484,-3.4160295,-2.4501305,15.023008,15.877933,-2.3775485,15.098239,14.476664,-1.972944,-2.0211694,-4.1418977,-3.2305396,15.111484,-2.261192,-2.552866,-4.087861,-2.9869843,11.6153,12.245215,-4.344308,-4.5193677,14.613685,-3.278259,-3.8217542,-4.5965247,-3.7907488,15.726311,15.66965,14.980288,-3.9104009,14.546732,-4.0751634,-4.2497654,15.103887,15.51363,-4.6194844,-3.68152,-2.3486178,-4.468197,15.68075,15.120978,-4.2608876,-2.9109511,12.133062,15.342731,-4.4354258,14.70912,15.205002,-4.195827,-4.1566663,-4.2473483,-2.20175,11.637138,-4.4912877,11.685145,11.774521,-3.9051213,-3.0033464,-2.2653863,11.544428,-3.867227,12.3099985,-2.5795844,11.773375,14.794944,-4.0025873,12.782168,14.642228,15.775215,15.250135,11.584567,11.618957,14.533445,15.139048,-4.1680236,12.209984,15.574174,-4.07127,12.609826,11.962076,11.960283,-3.4726627,-2.25008,-2.189439,-1.9282324,-4.2327967,15.554849,-4.1421247,-4.083582,-3.7625334,-3.667713,12.205474,12.574249,12.112914,12.052583,-4.2830825,-4.164492,14.46337,12.161538,-4.1401224,-2.9005353,14.623154,11.66837,-2.6023703,-3.8455138,12.163067,15.5840225,12.410454,-4.229462,15.801771,-3.8376694,14.887698,-3.5899906,12.03702,14.53601,12.217454,12.413917,15.55179,12.426655,-4.1705713,15.763187,14.530527,12.21922,12.388429,14.757914,11.884657,-3.7066483,-2.1393666,15.082283,-4.6062636,-3.9686866,11.584476,-2.6441905,-3.7905796,-3.8768625,-4.009201,11.7792,15.642278,-4.308647,-4.445328,15.630004,-3.9865274,-4.080371,-2.1249225,12.050117,-2.0981896,-2.6049073,-2.957156,15.543874,14.989062,-3.3389618,12.0777445,-3.342572,-3.7300415,-3.8970654,-4.605273,-3.7450974,-2.2386582,12.725425,-2.1098964,11.948301,-1.95606,-4.4420834,15.211023,-3.4779508,-4.5845947,11.620871,14.263459,-3.148717,12.24266,-2.617182,-3.0383906,12.086922,12.079077,14.462627,14.540661,12.595621,-3.993752,-2.6817882,14.225948,-3.2423232,11.8489275,11.49307,12.087409,14.71665,-3.6138613,15.776005,-3.6218343,-2.6423874,12.085129,12.371129,-4.25219,-3.2543619,12.7871895,11.858266,-4.1524963,14.882797,15.842061,-2.5805223,15.3173,15.057513,-4.4146924,-3.5079684,-2.5284863,-3.8043761,12.434187,-2.1740754,-4.4800997,-4.043888,-4.349879,-2.0781164,15.107324,-1.9842204,-3.0996678,-2.0709782,11.477485,-4.0701933,15.603148,15.730539,-2.651507,-4.5726233,-2.277946,-2.004364,12.043273,12.282913,-2.733799,14.940075,-3.59043,-4.1979647,14.52802,-4.341833,12.274976,15.029463,-3.9618979,14.928849,-2.6960108,-2.2340872,-4.476551,-4.6216197,11.797543,-1.9120827,-2.906936,-2.9415004,-4.0219183,-4.582879,15.723896,-2.2917771,12.1854105,11.495438,-3.4391775,-4.621702,15.755829,-3.6951654,-4.2519703,-2.1655095,-4.0962615,11.860882,-2.6946752,14.816727,-3.16202,12.777473,12.393515,-3.768894,-4.1022973,12.065539,14.497068,14.433036,15.715833,-3.5970857,-2.8071573,12.083098,15.051888,11.624959,-3.9060342,-2.688373,14.989707,-2.2811406,-4.252927,-3.762687,-4.4831724,-3.3449175,15.720446,14.556018,12.3792715,-3.0630248,-2.0224652,-2.607299,-4.216227,-3.822896,15.274208,-2.2174065,15.714437,15.752476,-4.048291,14.8848095,-4.3176346,11.852404,-4.660994,14.645344,-2.5341978,11.677156,14.717247,-3.8338897,-2.010649,12.388829,-2.9408522,-4.181734,-4.2787714,-3.6864312,-2.926869,12.162712,15.221059,14.236956,-1.9985814,-2.7471013,-3.5954478,-4.5646925,-2.0412803,14.407357,-4.436651,11.552467,-2.9116158,15.0972,11.974328,-2.0639985,-2.957667,-4.1506186,-2.8675272,-3.0450923,12.168709,-4.2084923,-3.68539,15.045815,15.062328,15.086628,-2.9708133,15.778109,11.84187,-3.1116521,-3.1399105,-2.6821802,-4.2921376,15.8161,-1.9334155,12.519854,-3.6901526,11.827391,-3.8831668,15.854925,11.771739,-2.6684349,-3.942936,-1.8837103,-2.2275045,-4.3152423,-2.842872,-2.3118632,14.428365,-2.6270363,12.139444,12.241556,-3.6896496,-1.985411,-3.8204489,14.627676,15.11587,-4.338357,-3.4812202,-3.6359732,12.382043,-2.9153886,-4.2648306,-3.0961404,-4.2629614,-4.2494345,-2.128995,12.267306,-4.120965,12.482368,14.629642,-2.914595,12.356634,-4.301789,-2.947081,14.9928875,-2.5737927,-2.0885997,-4.1307397,-3.976402,14.265536,14.954854,11.694751,-3.0130796,12.415307,12.443413,12.534448,14.235936,-4.012335,11.685303,-4.201464,15.123618,-1.8641596,14.976268,-4.2701817,14.436309,15.893431,12.0969,-3.0292895,12.132175,12.307751,-3.6666715,-3.684885,12.21562,-3.7123303,-3.6477304,14.591711,-2.6734848,-3.075955,-4.4874873,-4.063164,-3.6288896,15.811831,-3.5669322,-2.5750885,-3.003324,-1.933293,-3.3758965,-4.090756,14.61952,-3.2510219,14.515994,15.756716,-2.601425,14.151572,-3.6009254,11.912981,11.714232,-4.515742,12.16424,12.411647,-2.9700913,-2.0523636,-3.5146391,-1.9287152,-3.020319,-4.09049,-3.8819113,-2.6177175,-3.6444538,-3.997868,-2.2354457,-2.8143609,-2.1538506,-3.340468,14.935131,12.257957,-2.383131,-1.969607,-2.5456884,-4.201095,-4.4538174,-4.1577535,-2.1951678,-2.055043,12.109334,-3.9181242,11.956715,11.850248,-2.1254292,-2.6300113,-4.1251154,14.960748,-4.611883,15.129032,12.631047,-4.258224,-3.8576026,-1.9395424,15.582925,-4.0969205,-2.1456668,-3.691576,11.95916,-2.9745982,11.433209,-4.07486,15.079578,15.276025,11.92688,15.081737,-3.0271363,-3.1369898,15.868832,-3.8295562,11.760177,-4.3002763,-2.4013608,14.265435,12.383678,-3.8820727,14.329816,-2.6747067,-2.437073,-4.169679,14.861876,-2.9522746,12.337682,15.738024,14.540447,-2.902309,12.134508,14.565041,-1.9619495,14.453618,11.622802,-3.5206861,14.460645,-2.050949,-2.0125017,11.708662,14.983791,11.997872,-4.166565,-4.3811884,-4.3776135,-3.302241,15.895843,-3.0524862,11.81305,-3.8518631,-3.5807226,-2.845579,12.445585,11.683788,-3.0211375,-4.458241,15.770158,-3.8286815,-3.9064476,-2.7030094,-4.6063695,14.597147,-4.1604505,-4.4291086,-2.4342003,-2.9623213,12.205302,-3.460414,-4.493796,14.311638,11.805128,12.359269,-2.4518065,-3.933294,-4.4299865,-4.4817185,-2.0906782,15.733571,-2.581813,-3.4914095,-4.290828,15.3869505,-3.8127978,-3.9442449,15.70355,-3.722949,-2.014768,-2.1414764,15.053769,14.712087,-2.9462206,-4.169569,-2.528204,15.114463,-2.8792393,15.855662,-2.5650349,-4.559658,-2.579612,14.940396,-3.9951682,14.542913,-2.553206,11.652972,-3.2005546,12.019506,-4.3458123,-3.7156587,-3.6342864,-3.3488505,14.958348,11.966221,-4.15397,15.063565,-2.8000546,15.13872,-3.001709,12.420375,-2.9609993,-2.8788698,-4.2939878,-4.347915,14.144605,15.702917,-4.6286755,-3.7084343,12.618975,14.671103,11.908265,14.573723,-3.9193861,-4.436699,-2.2805905,-3.851103,-2.5304601,-2.9176133,-2.961752,12.4087715,11.6821995,11.979447,-4.236803,11.824181,-3.4953988,15.008931,-4.1981006,14.702816,-2.5091014,-3.0060346,12.25606,15.518182,15.811249,11.617667,-4.572514,15.005456,-2.498558,-4.082663,15.589667,-3.1774368,-1.9694839,14.952623,12.599079,14.761244,14.992394,-3.9819021,12.299705,-4.476429,12.379019,-3.7489407,12.371169,12.800854,-2.5024571,12.630189,-2.0469131,14.942006,-3.929382,14.5155945,12.543983,-4.6293783,11.957242,-4.6457124,-3.9170334,-4.0025444,-4.14857,-3.4437993,14.750004,-4.4946766,-4.1119814,15.02706,-4.6041303,14.583659,12.7821455,15.826916,12.086567,14.674978,11.532175,15.22952,12.403206,-4.3282843,12.070212,-4.320642,-4.465884,-2.0672195,15.11422,-4.2349834,-2.048106,-4.336458,-4.604469,-3.0610268,15.7372675,-4.4364967,-4.0095353,-2.9263892,-2.1809313,-2.5795982,15.763854,14.502727,12.609946,15.593376,15.656619,-3.0479357,-2.0041344,-3.7803712,-4.1176953,15.012859,-4.1932807,-3.8911002,-4.1147003,-4.4418216,-4.197778,-4.2732687,12.09926,12.2189665,15.6887865,-3.9080324,-2.7497413,-3.1891575,-4.2675414,-3.8565586,12.058035,-4.2059765,-3.1645555,12.204552,-3.2622402,12.206149,15.766187,-4.4764185,-2.64551,11.7982025,-3.299938,-1.9875987,-3.956765,12.122743,-3.5610716,12.17377,-2.591802,11.578593,-4.0920935,-3.178444,-1.9665916,11.905213,-3.9048738,-4.1699467,14.51221,15.75221,-2.2640252,15.207651,-3.3206732,-1.9820808,11.525322,12.398857,-4.140347,-4.667838,14.959801],\"xaxis\":\"x\",\"y\":[-4.8087044,5.2892413,0.5307149,-4.0840592,15.622131,15.55166,3.8461232,15.681276,0.7118316,4.304646,6.186311,6.19549,1.0955616,2.4037707,6.294771,4.2647605,6.290062,-4.9245315,5.340054,0.44933513,15.113189,-0.56444263,15.039976,6.531876,4.9374447,-3.8735578,5.4352007,0.9714972,15.243949,-4.564147,15.551794,15.406357,-4.2234073,-2.6597803,2.4212403,3.8777492,-4.7738843,-4.152303,0.5088853,0.77368814,-0.53664905,1.8187138,1.9135795,-0.4840537,2.6828268,-4.804839,2.7367249,-0.623099,-4.313698,15.611946,6.262105,-0.277527,4.519782,0.5136619,6.5529084,15.161124,15.662553,5.546763,15.624035,15.166961,15.689876,3.9017398,6.6696157,0.4695292,2.2700546,-4.9839015,-4.564492,0.80182695,-0.22003306,-0.64152247,-0.45003074,0.90504616,5.066417,0.44310966,6.490048,15.538001,15.204899,3.9469671,6.599316,2.7397246,5.943375,4.7843876,4.7179418,4.4698863,15.703162,-4.902198,-4.9256144,3.8577135,-2.6451008,15.62852,4.8655486,4.988921,-4.517491,0.7318113,0.9949074,5.193135,15.127198,5.025826,5.8218193,0.41808674,15.570907,-0.25804088,15.501325,-4.1681213,-0.39485604,2.5448136,2.6992142,2.5816,6.4384084,6.367525,-0.3209963,1.0973839,6.657215,0.5393812,-0.5813718,0.56845033,-3.8267415,4.753635,5.657116,3.9897616,3.9619818,1.0408788,1.0061561,1.6773424,2.3142354,-5.0410233,2.7810204,-2.634346,1.2739944,6.2034993,-4.8455286,2.824426,15.211278,-3.1041188,5.3413124,5.401902,-4.294967,5.752488,2.4584217,6.354973,15.600555,3.8893008,3.9363484,15.196758,0.46548912,-3.1927874,4.568439,6.7252884,2.8601046,6.411728,-0.28965136,-2.8607812,2.4249468,2.812981,4.444943,6.5564175,5.6186647,0.9127897,0.42286757,4.822738,-0.37240005,0.58142424,5.061128,4.81831,-5.033564,-4.2208633,0.88901633,4.786865,5.3368616,-4.992837,-4.7532196,15.685462,2.7655935,6.545991,5.588209,-0.62904155,6.300795,-3.084654,5.833829,-2.7728505,0.4706524,0.7764299,-0.4939166,-3.722008,-0.100150004,-5.0152116,4.422979,-0.56874216,0.53229225,5.815946,-2.9109547,4.8467426,5.4009223,0.9029467,-0.47772095,6.490915,5.56198,2.80269,0.5911459,4.706396,0.60387987,1.014121,4.114637,-5.064852,6.5149508,5.0676665,15.586026,6.046221,15.686626,15.592869,-3.7322183,5.859826,5.0396934,15.556738,-3.486483,2.5350084,-4.1387897,15.696035,-0.14349116,-4.303176,2.2541735,-0.6210046,0.78624856,1.1093005,15.769219,15.731167,0.00339603,0.9619452,4.143518,15.066877,0.654021,6.6205645,15.201662,15.5661545,1.2035359,-4.8183503,4.7977643,5.5523725,4.8822823,-4.991027,0.57431346,3.9824877,-5.0125813,5.753047,-4.354101,15.713254,15.182065,14.996983,15.651023,6.4930506,-5.055805,-0.19900687,2.177504,4.007334,-4.5855083,0.3328573,15.592233,-4.2849984,-2.6978471,2.8463664,0.64006186,15.206128,-5.055318,0.9219144,6.254038,-0.19405818,-2.8491752,15.64403,-0.32555628,2.7899647,2.8055394,0.19310716,2.8128011,-5.02606,0.99568534,0.530704,1.0905234,2.7270024,-0.5975942,1.3581928,6.2708774,5.545957,-0.5441531,5.5222254,6.215865,15.771013,-4.1780443,-3.050009,-4.3371773,-4.9902377,15.147384,0.50870067,6.459696,6.171419,0.65619564,-4.2027645,-4.457236,4.871608,2.9261713,5.1478086,-3.833286,-4.716745,0.54881656,-0.30243185,-2.9020667,1.165912,6.64112,6.4318924,-2.628596,5.7830253,-2.7833862,5.206238,2.2800999,5.5292916,15.186805,4.902566,4.716513,-0.55657035,6.6934342,5.461031,15.55399,0.5406253,5.9087315,2.4948015,-4.1561794,5.648042,2.097951,2.0856588,0.54707307,-0.40995145,15.192186,-4.97936,-4.0140915,0.46236053,-4.9141526,1.4515064,15.595232,15.669429,-0.043464564,-2.8263905,0.5268374,-2.843211,-3.7931755,1.0262184,2.698145,4.3514876,6.3522263,2.2535923,15.31615,6.2928734,0.2993182,0.54276085,-3.8144565,1.0449922,-0.3538009,6.665651,6.7201767,-4.238292,6.4010854,2.799901,4.673623,4.9489403,6.3429255,6.654896,5.5000954,0.7111704,4.875161,5.632942,5.494091,15.624715,-4.4674487,0.7200183,0.72569263,5.7198186,5.5548835,4.877471,4.7310324,15.6493225,2.3639688,5.4448886,-0.17361526,6.382245,-5.0243406,0.0106706945,6.3681803,1.1354476,0.97754127,-4.188617,-0.2076345,-4.5940366,5.0122414,5.107159,5.850141,15.597869,4.9587774,-4.28933,5.564186,3.9735382,5.5626564,0.46220696,5.1029577,2.328925,15.643284,6.6735334,5.788272,0.45344946,-4.33988,6.5082197,5.161084,-4.5219264,1.4963559,-4.1577244,0.58259577,-4.1876855,2.2778077,2.2008972,-2.9770844,6.299377,15.061309,0.22363454,-0.28870326,0.4729682,-4.872175,-4.1596184,15.590455,-0.33682474,15.734236,-4.2671638,-4.1702685,-0.46766075,4.7989583,6.5719967,6.540595,5.107361,6.4333124,0.37695545,-0.6256863,2.849311,5.7464476,5.396053,-3.8447936,4.582218,5.786988,1.0971885,4.7668686,0.35816264,0.7670528,-4.9688997,-0.22891219,4.443712,1.3854731,4.044234,0.03752523,-4.218536,15.656587,-0.056062035,-3.2792237,5.0007195,15.107358,5.564855,6.615324,3.8563943,-2.8357265,-4.758854,1.0516291,0.83861303,0.38204747,5.3873444,-4.0707293,6.220752,5.444842,5.4566765,0.5232496,4.591068,15.211462,5.5541697,0.34565893,1.2562995,5.1362586,-4.77583,-5.0346255,-4.845094,5.728617,15.132798,5.8645086,-2.8158786,0.95852464,0.964192,-0.61631966,-4.931227,0.9641752,1.6386855,-4.846973,-4.155881,4.797427,3.870968,0.4903125,5.32295,15.178819,-4.425227,15.650074,-2.635606,0.52132666,15.125543,-4.126954,6.5736246,5.2931495,4.8364472,4.4420342,-3.3357956,4.8340697,0.6379324,-4.429555,1.0218803,2.8509805,-4.333171,5.2887354,-4.9085336,0.031833664,-0.42604846,6.550029,6.6450453,-2.8382492,15.148649,-4.633955,4.452245,-4.1618576,5.686459,4.388243,4.728147,2.4735177,-5.0396843,2.8484917,-0.6209757,5.598617,2.5851085,4.445306,5.568475,-0.25954005,5.21618,5.5496025,-5.0199804,6.590493,0.54668665,-0.2848078,15.494811,5.622768,2.833032,2.2251813,15.1873,0.5845348,6.110059,15.623179,-5.0404882,0.9921351,5.2097874,-0.26994845,4.469054,-0.2527147,0.53265196,2.8896723,-3.0374813,2.860027,2.4680867,-2.8617432,-4.946524,2.8571236,5.7422457,-2.848974,-0.6029835,-4.5641685,5.6180387,5.2443004,6.1049504,-2.8153346,0.37801507,-4.3721867,-3.8044615,-4.149116,4.8500876,6.619287,-4.4330406,0.39964393,6.074393,0.33901593,0.96307874,-4.3231516,0.5749763,-2.854393,1.7932299,15.580517,5.639874,15.682142,2.6953862,5.5909743,5.444581,-4.574957,5.3503184,-4.1749697,-4.5111194,6.209444,-4.2355447,-4.8879056,-5.0040455,5.5485168,-4.122566,5.0758963,6.6112924,-0.27732348,2.4372177,4.900597,5.1116734,-4.285351,-5.025319,3.8655555,3.9859047,4.7394857,5.510443,2.1517932,6.168128,1.8937943,1.4417557,4.7190495,-4.2394905,-4.477784,-0.25432524,5.940573,0.96126693,15.21474,-4.971687,6.1339245,4.85813,0.6724931,-5.034852,4.74482,-4.3523307,15.049026,-4.8145175,15.595954,-5.1145654,-0.3687092,0.76603615,15.6459,0.8887067,-2.989809,-4.186083,0.75488967,6.2791314,15.729435,3.9359643,5.5286503,0.405785,2.1770256,-2.6603665,0.5568219,-4.1604347,4.908868,6.446888,-0.61743695,-4.760327,2.3791273,0.68236166,-0.20356941,5.538707,15.686863,-0.11348092,5.010713,-0.27390322,15.663072,6.2626424,-0.24165225,5.121179,4.9283586,15.644273,-0.2876781,15.237671,6.6197224,6.644427,4.539259,6.0820637,0.6017739,5.5938487,15.600827,5.807512,6.3203125,-4.5926557,15.089723,15.222392,5.590757,6.7045693,0.9968382,-2.706733,-3.6018453,-4.628128,5.89048,0.68707746,6.4452953,3.8333359,-4.245826,-4.8000903,2.8304076,-4.3431716,3.8803124,0.38084215,1.4707817,2.2883072,5.5315304,6.146202,4.691359,3.8728478,5.5151987,0.79886645,5.4668007,-4.794622,4.432618,0.13430078,-2.7425578,6.227306,0.7334551,6.2092404,5.4841056,5.0342326,0.9525371,0.10935706,-4.2464194,4.078604,-4.1297245,1.002318,-4.762599,0.48788863,-3.804873,5.556338,-4.0435486,0.65344894,6.052407,-0.21234792,-4.0531588,15.600704,-2.9252253,1.9793495,3.8164194,6.33537,6.4260535,6.3822074,-0.3983874,1.1807787,3.9824603,-0.5870363,-4.031405,1.0142828,-3.0814915,2.1348593,-4.7740235,-4.193333,6.485772,4.47853,0.5569218,0.7514041,5.7969666,-2.8167696,15.203148,-0.51480186,15.597557,-0.6209342,-3.9273555,3.8673866,5.547132,-2.7005243,-4.245796,-4.1992345,-4.803187,2.7410464,15.639381,1.1875781,3.9706097,15.61256,-4.3847504,0.9140238,3.9560866,-0.08723337,5.225688,-4.8078256,2.289326,0.541492,0.7064095,15.842874,3.9527678,-0.38567343,-4.3776217,-4.4181094,0.6105146,-4.8952646,4.792573,0.83496,15.224374,-0.1098875,-0.4445376,-4.1881714,2.4717,5.1270485,2.2202668,11.16924,2.250467,2.240915,-4.2636333,15.2045145,4.7813544,-0.22327185,-4.0236115,0.13030449,15.181215,4.019519,15.063871,4.092772,-3.889364,6.092341,3.9921663,6.652418,-0.6282208,5.246029,-5.0408735,0.8662426,5.591447,-0.17759377,2.2341642,0.79034483,15.594496,0.2852919,15.655929,-0.52171326,2.8135352,4.3814445,15.33745,6.5598454,3.9848163,5.418239,1.0017629,5.773544,4.695291,6.5432787,5.936888,5.7185397,0.91466826,6.6900835,-4.23042,5.525232,4.7358265,-3.839761,0.6360512,0.1259917,15.209109,0.5257589,0.8001417,5.6102433,4.739268,6.155185,4.013143,-0.28501654,-5.0566487,-2.6448584,6.377141,6.691253,3.9762523,3.9078329,2.1201441,1.0396328,0.6661799,-3.7592528,-4.6374736,6.1973076,4.383328,-4.9798326,15.639598,3.9334595,-4.194192,2.793033,-4.2702193,1.0767497,0.44199324,4.923959,-4.1859126,15.687647,6.5539303,4.933579,-4.2183905,2.1246116,6.522673,2.26558,-4.2573757,15.207084,-4.4509535,-4.8564715,5.3586173,1.8056788,-3.9743552,6.4590993,-0.07757259,0.9053682,5.583995,-0.47638243,6.5996146,5.2577333,15.760789,2.1989214,-5.0586667,4.083874,-0.29963207],\"yaxis\":\"y\",\"type\":\"scattergl\"},{\"hovertemplate\":\"\\u003cb\\u003e%{hovertext}\\u003c\\u002fb\\u003e\\u003cbr\\u003e\\u003cbr\\u003etag=scissors\\u003cbr\\u003ex=%{x}\\u003cbr\\u003ey=%{y}\\u003cextra\\u003e\\u003c\\u002fextra\\u003e\",\"hovertext\":[\"scissors_163.png\",\"scissors_412.png\",\"scissors_765.png\",\"scissors_757.png\",\"scissors_549.png\",\"scissors_498.png\",\"scissors_532.png\",\"scissors_647.png\",\"scissors_692.png\",\"scissors_663.png\",\"scissors_660.png\",\"scissors_434.png\",\"scissors_495.png\",\"scissors_623.png\",\"scissors_860.png\",\"scissors_869.png\",\"scissors_473.png\",\"scissors_813.png\",\"scissors_291.png\",\"scissors_172.png\",\"scissors_229.png\",\"scissors_245.png\",\"scissors_586.png\",\"scissors_29.png\",\"scissors_719.png\",\"scissors_474.png\",\"scissors_731.png\",\"scissors_585.png\",\"scissors_254.png\",\"scissors_244.png\",\"scissors_19.png\",\"scissors_392.png\",\"scissors_117.png\",\"scissors_443.png\",\"scissors_233.png\",\"scissors_98.png\",\"scissors_107.png\",\"scissors_407.png\",\"scissors_789.png\",\"scissors_238.png\",\"scissors_745.png\",\"scissors_272.png\",\"scissors_491.png\",\"scissors_612.png\",\"scissors_882.png\",\"scissors_139.png\",\"scissors_266.png\",\"scissors_164.png\",\"scissors_462.png\",\"scissors_829.png\",\"scissors_271.png\",\"scissors_680.png\",\"scissors_771.png\",\"scissors_88.png\",\"scissors_796.png\",\"scissors_294.png\",\"scissors_673.png\",\"scissors_681.png\",\"scissors_676.png\",\"scissors_30.png\",\"scissors_483.png\",\"scissors_225.png\",\"scissors_192.png\",\"scissors_81.png\",\"scissors_700.png\",\"scissors_779.png\",\"scissors_16.png\",\"scissors_330.png\",\"scissors_251.png\",\"scissors_208.png\",\"scissors_340.png\",\"scissors_526.png\",\"scissors_130.png\",\"scissors_843.png\",\"scissors_725.png\",\"scissors_713.png\",\"scissors_143.png\",\"scissors_364.png\",\"scissors_178.png\",\"scissors_834.png\",\"scissors_846.png\",\"scissors_661.png\",\"scissors_567.png\",\"scissors_493.png\",\"scissors_160.png\",\"scissors_609.png\",\"scissors_170.png\",\"scissors_311.png\",\"scissors_321.png\",\"scissors_865.png\",\"scissors_385.png\",\"scissors_269.png\",\"scissors_21.png\",\"scissors_735.png\",\"scissors_56.png\",\"scissors_621.png\",\"scissors_414.png\",\"scissors_810.png\",\"scissors_169.png\",\"scissors_558.png\",\"scissors_162.png\",\"scissors_587.png\",\"scissors_897.png\",\"scissors_751.png\",\"scissors_318.png\",\"scissors_8.png\",\"scissors_301.png\",\"scissors_861.png\",\"scissors_283.png\",\"scissors_235.png\",\"scissors_48.png\",\"scissors_261.png\",\"scissors_316.png\",\"scissors_805.png\",\"scissors_591.png\",\"scissors_402.png\",\"scissors_481.png\",\"scissors_218.png\",\"scissors_486.png\",\"scissors_363.png\",\"scissors_467.png\",\"scissors_753.png\",\"scissors_150.png\",\"scissors_452.png\",\"scissors_1.png\",\"scissors_830.png\",\"scissors_547.png\",\"scissors_655.png\",\"scissors_505.png\",\"scissors_288.png\",\"scissors_672.png\",\"scissors_197.png\",\"scissors_400.png\",\"scissors_430.png\",\"scissors_471.png\",\"scissors_649.png\",\"scissors_809.png\",\"scissors_444.png\",\"scissors_551.png\",\"scissors_468.png\",\"scissors_193.png\",\"scissors_679.png\",\"scissors_721.png\",\"scissors_832.png\",\"scissors_588.png\",\"scissors_391.png\",\"scissors_325.png\",\"scissors_749.png\",\"scissors_427.png\",\"scissors_20.png\",\"scissors_324.png\",\"scissors_38.png\",\"scissors_723.png\",\"scissors_470.png\",\"scissors_822.png\",\"scissors_425.png\",\"scissors_900.png\",\"scissors_252.png\",\"scissors_533.png\",\"scissors_686.png\",\"scissors_838.png\",\"scissors_273.png\",\"scissors_344.png\",\"scissors_63.png\",\"scissors_576.png\",\"scissors_868.png\",\"scissors_855.png\",\"scissors_645.png\",\"scissors_281.png\",\"scissors_147.png\",\"scissors_86.png\",\"scissors_36.png\",\"scissors_134.png\",\"scissors_578.png\",\"scissors_27.png\",\"scissors_54.png\",\"scissors_835.png\",\"scissors_584.png\",\"scissors_207.png\",\"scissors_632.png\",\"scissors_635.png\",\"scissors_640.png\",\"scissors_592.png\",\"scissors_202.png\",\"scissors_335.png\",\"scissors_561.png\",\"scissors_119.png\",\"scissors_873.png\",\"scissors_643.png\",\"scissors_399.png\",\"scissors_746.png\",\"scissors_274.png\",\"scissors_670.png\",\"scissors_168.png\",\"scissors_883.png\",\"scissors_619.png\",\"scissors_449.png\",\"scissors_287.png\",\"scissors_57.png\",\"scissors_386.png\",\"scissors_563.png\",\"scissors_66.png\",\"scissors_895.png\",\"scissors_801.png\",\"scissors_523.png\",\"scissors_886.png\",\"scissors_345.png\",\"scissors_497.png\",\"scissors_72.png\",\"scissors_410.png\",\"scissors_874.png\",\"scissors_565.png\",\"scissors_616.png\",\"scissors_818.png\",\"scissors_566.png\",\"scissors_530.png\",\"scissors_390.png\",\"scissors_790.png\",\"scissors_67.png\",\"scissors_94.png\",\"scissors_85.png\",\"scissors_465.png\",\"scissors_357.png\",\"scissors_629.png\",\"scissors_825.png\",\"scissors_633.png\",\"scissors_35.png\",\"scissors_783.png\",\"scissors_213.png\",\"scissors_153.png\",\"scissors_705.png\",\"scissors_346.png\",\"scissors_366.png\",\"scissors_292.png\",\"scissors_500.png\",\"scissors_901.png\",\"scissors_496.png\",\"scissors_525.png\",\"scissors_688.png\",\"scissors_788.png\",\"scissors_485.png\",\"scissors_59.png\",\"scissors_741.png\",\"scissors_387.png\",\"scissors_423.png\",\"scissors_656.png\",\"scissors_131.png\",\"scissors_354.png\",\"scissors_177.png\",\"scissors_544.png\",\"scissors_171.png\",\"scissors_250.png\",\"scissors_877.png\",\"scissors_531.png\",\"scissors_568.png\",\"scissors_393.png\",\"scissors_264.png\",\"scissors_97.png\",\"scissors_453.png\",\"scissors_478.png\",\"scissors_534.png\",\"scissors_194.png\",\"scissors_600.png\",\"scissors_380.png\",\"scissors_191.png\",\"scissors_259.png\",\"scissors_284.png\",\"scissors_127.png\",\"scissors_560.png\",\"scissors_290.png\",\"scissors_613.png\",\"scissors_602.png\",\"scissors_141.png\",\"scissors_227.png\",\"scissors_450.png\",\"scissors_858.png\",\"scissors_852.png\",\"scissors_257.png\",\"scissors_405.png\",\"scissors_795.png\",\"scissors_859.png\",\"scissors_742.png\",\"scissors_166.png\",\"scissors_784.png\",\"scissors_518.png\",\"scissors_461.png\",\"scissors_824.png\",\"scissors_638.png\",\"scissors_429.png\",\"scissors_355.png\",\"scissors_123.png\",\"scissors_460.png\",\"scissors_246.png\",\"scissors_406.png\",\"scissors_306.png\",\"scissors_528.png\",\"scissors_752.png\",\"scissors_816.png\",\"scissors_103.png\",\"scissors_811.png\",\"scissors_68.png\",\"scissors_740.png\",\"scissors_553.png\",\"scissors_851.png\",\"scissors_230.png\",\"scissors_884.png\",\"scissors_668.png\",\"scissors_175.png\",\"scissors_32.png\",\"scissors_432.png\",\"scissors_792.png\",\"scissors_758.png\",\"scissors_184.png\",\"scissors_520.png\",\"scissors_876.png\",\"scissors_639.png\",\"scissors_806.png\",\"scissors_309.png\",\"scissors_438.png\",\"scissors_892.png\",\"scissors_212.png\",\"scissors_50.png\",\"scissors_764.png\",\"scissors_138.png\",\"scissors_848.png\",\"scissors_228.png\",\"scissors_711.png\",\"scissors_714.png\",\"scissors_634.png\",\"scissors_773.png\",\"scissors_187.png\",\"scissors_365.png\",\"scissors_786.png\",\"scissors_437.png\",\"scissors_337.png\",\"scissors_424.png\",\"scissors_492.png\",\"scissors_646.png\",\"scissors_542.png\",\"scissors_606.png\",\"scissors_459.png\",\"scissors_289.png\",\"scissors_395.png\",\"scissors_209.png\",\"scissors_652.png\",\"scissors_717.png\",\"scissors_37.png\",\"scissors_631.png\",\"scissors_887.png\",\"scissors_87.png\",\"scissors_15.png\",\"scissors_110.png\",\"scissors_77.png\",\"scissors_506.png\",\"scissors_28.png\",\"scissors_285.png\",\"scissors_509.png\",\"scissors_69.png\",\"scissors_18.png\",\"scissors_149.png\",\"scissors_787.png\",\"scissors_152.png\",\"scissors_378.png\",\"scissors_696.png\",\"scissors_142.png\",\"scissors_653.png\",\"scissors_755.png\",\"scissors_849.png\",\"scissors_494.png\",\"scissors_557.png\",\"scissors_797.png\",\"scissors_589.png\",\"scissors_595.png\",\"scissors_693.png\",\"scissors_334.png\",\"scissors_384.png\",\"scissors_195.png\",\"scissors_759.png\",\"scissors_367.png\",\"scissors_220.png\",\"scissors_441.png\",\"scissors_896.png\",\"scissors_216.png\",\"scissors_624.png\",\"scissors_706.png\",\"scissors_603.png\",\"scissors_231.png\",\"scissors_13.png\",\"scissors_296.png\",\"scissors_91.png\",\"scissors_611.png\",\"scissors_628.png\",\"scissors_671.png\",\"scissors_114.png\",\"scissors_540.png\",\"scissors_329.png\",\"scissors_275.png\",\"scissors_781.png\",\"scissors_466.png\",\"scissors_124.png\",\"scissors_204.png\",\"scissors_33.png\",\"scissors_762.png\",\"scissors_146.png\",\"scissors_665.png\",\"scissors_342.png\",\"scissors_179.png\",\"scissors_92.png\",\"scissors_720.png\",\"scissors_263.png\",\"scissors_267.png\",\"scissors_554.png\",\"scissors_276.png\",\"scissors_622.png\",\"scissors_101.png\",\"scissors_112.png\",\"scissors_479.png\",\"scissors_512.png\",\"scissors_262.png\",\"scissors_482.png\",\"scissors_356.png\",\"scissors_221.png\",\"scissors_854.png\",\"scissors_368.png\",\"scissors_176.png\",\"scissors_902.png\",\"scissors_637.png\",\"scissors_844.png\",\"scissors_64.png\",\"scissors_3.png\",\"scissors_872.png\",\"scissors_772.png\",\"scissors_715.png\",\"scissors_880.png\",\"scissors_684.png\",\"scissors_409.png\",\"scissors_440.png\",\"scissors_373.png\",\"scissors_99.png\",\"scissors_102.png\",\"scissors_831.png\",\"scissors_5.png\",\"scissors_26.png\",\"scissors_593.png\",\"scissors_89.png\",\"scissors_891.png\",\"scissors_137.png\",\"scissors_599.png\",\"scissors_799.png\",\"scissors_43.png\",\"scissors_44.png\",\"scissors_377.png\",\"scissors_297.png\",\"scissors_305.png\",\"scissors_546.png\",\"scissors_371.png\",\"scissors_791.png\",\"scissors_49.png\",\"scissors_428.png\",\"scissors_898.png\",\"scissors_303.png\",\"scissors_675.png\",\"scissors_579.png\",\"scissors_456.png\",\"scissors_598.png\",\"scissors_529.png\",\"scissors_132.png\",\"scissors_389.png\",\"scissors_687.png\",\"scissors_694.png\",\"scissors_313.png\",\"scissors_118.png\",\"scissors_217.png\",\"scissors_302.png\",\"scissors_804.png\",\"scissors_408.png\",\"scissors_499.png\",\"scissors_590.png\",\"scissors_517.png\",\"scissors_199.png\",\"scissors_61.png\",\"scissors_350.png\",\"scissors_155.png\",\"scissors_206.png\",\"scissors_808.png\",\"scissors_760.png\",\"scissors_188.png\",\"scissors_40.png\",\"scissors_362.png\",\"scissors_702.png\",\"scissors_82.png\",\"scissors_782.png\",\"scissors_260.png\",\"scissors_608.png\",\"scissors_422.png\",\"scissors_394.png\",\"scissors_607.png\",\"scissors_39.png\",\"scissors_574.png\",\"scissors_674.png\",\"scissors_165.png\",\"scissors_514.png\",\"scissors_351.png\",\"scissors_666.png\",\"scissors_803.png\",\"scissors_401.png\",\"scissors_299.png\",\"scissors_682.png\",\"scissors_469.png\",\"scissors_361.png\",\"scissors_174.png\",\"scissors_507.png\",\"scissors_572.png\",\"scissors_503.png\",\"scissors_777.png\",\"scissors_744.png\",\"scissors_555.png\",\"scissors_451.png\",\"scissors_738.png\",\"scissors_878.png\",\"scissors_347.png\",\"scissors_651.png\",\"scissors_780.png\",\"scissors_315.png\",\"scissors_597.png\",\"scissors_211.png\",\"scissors_215.png\",\"scissors_724.png\",\"scissors_10.png\",\"scissors_480.png\",\"scissors_750.png\",\"scissors_828.png\",\"scissors_359.png\",\"scissors_326.png\",\"scissors_418.png\",\"scissors_870.png\",\"scissors_60.png\",\"scissors_775.png\",\"scissors_889.png\",\"scissors_133.png\",\"scissors_11.png\",\"scissors_156.png\",\"scissors_327.png\",\"scissors_457.png\",\"scissors_388.png\",\"scissors_403.png\",\"scissors_847.png\",\"scissors_280.png\",\"scissors_426.png\",\"scissors_840.png\",\"scissors_332.png\",\"scissors_785.png\",\"scissors_837.png\",\"scissors_445.png\",\"scissors_397.png\",\"scissors_255.png\",\"scissors_766.png\",\"scissors_769.png\",\"scissors_93.png\",\"scissors_726.png\",\"scissors_550.png\",\"scissors_537.png\",\"scissors_885.png\",\"scissors_698.png\",\"scissors_683.png\",\"scissors_577.png\",\"scissors_770.png\",\"scissors_447.png\",\"scissors_167.png\",\"scissors_105.png\",\"scissors_463.png\",\"scissors_381.png\",\"scissors_181.png\",\"scissors_352.png\",\"scissors_58.png\",\"scissors_866.png\",\"scissors_23.png\",\"scissors_739.png\",\"scissors_570.png\",\"scissors_448.png\",\"scissors_243.png\",\"scissors_234.png\",\"scissors_644.png\",\"scissors_581.png\",\"scissors_504.png\",\"scissors_108.png\",\"scissors_25.png\",\"scissors_237.png\",\"scissors_722.png\",\"scissors_489.png\",\"scissors_185.png\",\"scissors_4.png\",\"scissors_767.png\",\"scissors_841.png\",\"scissors_73.png\",\"scissors_278.png\",\"scissors_421.png\",\"scissors_464.png\",\"scissors_382.png\",\"scissors_126.png\",\"scissors_256.png\",\"scissors_129.png\",\"scissors_404.png\",\"scissors_899.png\",\"scissors_31.png\",\"scissors_336.png\",\"scissors_573.png\",\"scissors_320.png\",\"scissors_304.png\",\"scissors_893.png\",\"scissors_477.png\",\"scissors_817.png\",\"scissors_70.png\",\"scissors_339.png\",\"scissors_707.png\",\"scissors_239.png\",\"scissors_515.png\",\"scissors_582.png\",\"scissors_626.png\",\"scissors_748.png\",\"scissors_411.png\",\"scissors_186.png\",\"scissors_372.png\",\"scissors_625.png\",\"scissors_556.png\",\"scissors_642.png\",\"scissors_511.png\",\"scissors_84.png\",\"scissors_807.png\",\"scissors_677.png\",\"scissors_701.png\",\"scissors_894.png\",\"scissors_383.png\",\"scissors_236.png\",\"scissors_295.png\",\"scissors_823.png\",\"scissors_685.png\",\"scissors_14.png\",\"scissors_247.png\",\"scissors_314.png\",\"scissors_413.png\",\"scissors_794.png\",\"scissors_41.png\",\"scissors_454.png\",\"scissors_776.png\",\"scissors_689.png\",\"scissors_317.png\",\"scissors_657.png\",\"scissors_662.png\",\"scissors_121.png\",\"scissors_145.png\",\"scissors_200.png\",\"scissors_821.png\",\"scissors_564.png\",\"scissors_293.png\",\"scissors_815.png\",\"scissors_458.png\",\"scissors_527.png\",\"scissors_571.png\",\"scissors_223.png\",\"scissors_331.png\",\"scissors_232.png\",\"scissors_699.png\",\"scissors_104.png\",\"scissors_52.png\",\"scissors_650.png\",\"scissors_763.png\",\"scissors_842.png\",\"scissors_774.png\",\"scissors_144.png\",\"scissors_827.png\",\"scissors_214.png\",\"scissors_522.png\",\"scissors_617.png\",\"scissors_203.png\",\"scissors_475.png\",\"scissors_538.png\",\"scissors_154.png\",\"scissors_328.png\",\"scissors_416.png\",\"scissors_270.png\",\"scissors_122.png\",\"scissors_338.png\",\"scissors_158.png\",\"scissors_198.png\",\"scissors_398.png\",\"scissors_2.png\",\"scissors_867.png\",\"scissors_323.png\",\"scissors_521.png\",\"scissors_627.png\",\"scissors_74.png\",\"scissors_879.png\",\"scissors_718.png\",\"scissors_196.png\",\"scissors_501.png\",\"scissors_488.png\",\"scissors_182.png\",\"scissors_548.png\",\"scissors_614.png\",\"scissors_857.png\",\"scissors_455.png\",\"scissors_343.png\",\"scissors_484.png\",\"scissors_109.png\",\"scissors_140.png\",\"scissors_814.png\",\"scissors_396.png\",\"scissors_604.png\",\"scissors_322.png\",\"scissors_490.png\",\"scissors_100.png\",\"scissors_508.png\",\"scissors_798.png\",\"scissors_641.png\",\"scissors_205.png\",\"scissors_620.png\",\"scissors_669.png\",\"scissors_157.png\",\"scissors_22.png\",\"scissors_277.png\",\"scissors_734.png\",\"scissors_654.png\",\"scissors_360.png\",\"scissors_358.png\",\"scissors_536.png\",\"scissors_349.png\",\"scissors_435.png\",\"scissors_747.png\",\"scissors_524.png\",\"scissors_659.png\",\"scissors_353.png\",\"scissors_180.png\",\"scissors_51.png\",\"scissors_6.png\",\"scissors_279.png\",\"scissors_439.png\",\"scissors_135.png\",\"scissors_308.png\",\"scissors_370.png\",\"scissors_862.png\",\"scissors_545.png\",\"scissors_580.png\",\"scissors_513.png\",\"scissors_562.png\",\"scissors_903.png\",\"scissors_319.png\",\"scissors_727.png\",\"scissors_853.png\",\"scissors_664.png\",\"scissors_730.png\",\"scissors_190.png\",\"scissors_709.png\",\"scissors_71.png\",\"scissors_761.png\",\"scissors_268.png\",\"scissors_75.png\",\"scissors_90.png\",\"scissors_754.png\",\"scissors_802.png\",\"scissors_839.png\",\"scissors_222.png\",\"scissors_210.png\",\"scissors_793.png\",\"scissors_476.png\",\"scissors_45.png\",\"scissors_695.png\",\"scissors_116.png\",\"scissors_46.png\",\"scissors_253.png\",\"scissors_242.png\",\"scissors_559.png\",\"scissors_845.png\",\"scissors_248.png\",\"scissors_348.png\",\"scissors_690.png\",\"scissors_173.png\",\"scissors_697.png\",\"scissors_648.png\",\"scissors_161.png\",\"scissors_768.png\",\"scissors_812.png\",\"scissors_375.png\",\"scissors_376.png\",\"scissors_415.png\",\"scissors_596.png\",\"scissors_151.png\",\"scissors_34.png\",\"scissors_42.png\",\"scissors_258.png\",\"scissors_826.png\",\"scissors_148.png\",\"scissors_615.png\",\"scissors_120.png\",\"scissors_733.png\",\"scissors_115.png\",\"scissors_541.png\",\"scissors_712.png\",\"scissors_630.png\",\"scissors_732.png\",\"scissors_446.png\",\"scissors_836.png\",\"scissors_729.png\",\"scissors_249.png\",\"scissors_76.png\",\"scissors_125.png\",\"scissors_282.png\",\"scissors_864.png\",\"scissors_55.png\",\"scissors_183.png\",\"scissors_341.png\",\"scissors_431.png\",\"scissors_113.png\",\"scissors_610.png\",\"scissors_890.png\",\"scissors_552.png\",\"scissors_80.png\",\"scissors_519.png\",\"scissors_224.png\",\"scissors_312.png\",\"scissors_9.png\",\"scissors_240.png\",\"scissors_12.png\",\"scissors_539.png\",\"scissors_106.png\",\"scissors_833.png\",\"scissors_510.png\",\"scissors_420.png\",\"scissors_286.png\",\"scissors_819.png\",\"scissors_159.png\",\"scissors_618.png\",\"scissors_136.png\",\"scissors_778.png\",\"scissors_128.png\",\"scissors_667.png\",\"scissors_601.png\",\"scissors_543.png\",\"scissors_241.png\",\"scissors_502.png\",\"scissors_704.png\",\"scissors_78.png\",\"scissors_743.png\",\"scissors_535.png\",\"scissors_605.png\",\"scissors_736.png\",\"scissors_856.png\",\"scissors_820.png\",\"scissors_728.png\",\"scissors_703.png\",\"scissors_417.png\",\"scissors_298.png\",\"scissors_516.png\",\"scissors_678.png\",\"scissors_300.png\",\"scissors_310.png\",\"scissors_79.png\",\"scissors_219.png\",\"scissors_472.png\",\"scissors_62.png\",\"scissors_594.png\",\"scissors_265.png\",\"scissors_737.png\",\"scissors_201.png\",\"scissors_24.png\",\"scissors_710.png\",\"scissors_569.png\",\"scissors_419.png\",\"scissors_875.png\",\"scissors_863.png\",\"scissors_7.png\",\"scissors_442.png\",\"scissors_226.png\",\"scissors_17.png\",\"scissors_575.png\",\"scissors_583.png\",\"scissors_53.png\",\"scissors_333.png\",\"scissors_96.png\",\"scissors_379.png\",\"scissors_708.png\",\"scissors_189.png\",\"scissors_47.png\",\"scissors_436.png\",\"scissors_374.png\",\"scissors_871.png\",\"scissors_658.png\",\"scissors_636.png\",\"scissors_83.png\",\"scissors_369.png\",\"scissors_888.png\",\"scissors_691.png\",\"scissors_65.png\",\"scissors_756.png\",\"scissors_95.png\",\"scissors_433.png\",\"scissors_850.png\",\"scissors_800.png\",\"scissors_307.png\",\"scissors_487.png\",\"scissors_716.png\",\"scissors_111.png\",\"scissors_881.png\"],\"legendgroup\":\"scissors\",\"marker\":{\"color\":\"#00cc96\",\"symbol\":\"circle\"},\"mode\":\"markers\",\"name\":\"scissors\",\"showlegend\":true,\"x\":[-1.5431184,16.769075,-2.3255794,1.2045997,12.499823,16.679138,16.241974,10.28808,10.299871,9.450253,9.454006,13.0651865,16.646494,9.50777,1.3356984,1.3547733,12.887706,0.4649446,-2.2712991,-1.4679382,-2.6177223,-3.0429177,16.157555,-1.4653065,1.4232204,12.937957,2.073108,16.262253,-3.1915798,-2.9631417,-1.4388039,11.875147,-2.6625082,12.900802,-2.7827563,-3.186085,-2.7361822,11.285449,1.163851,-2.8669088,2.2660692,-3.3963332,16.719917,10.400271,1.9529141,-1.9690402,-3.4383762,-1.4391694,16.712267,0.8457337,-3.4164505,9.448368,-2.352697,-3.1591604,1.1267153,-2.933036,9.485396,9.419981,9.411654,-1.4311876,13.045544,-1.9372947,-1.995478,-2.9505723,10.361675,1.0290817,-1.4928252,-2.5090227,-3.1510153,-2.2223518,-2.5108602,16.309896,-2.1090474,1.7161545,1.36455,1.3608452,-1.8043928,11.341847,-1.3726918,1.6276057,1.0872349,9.4564495,12.801853,16.647076,-1.5638486,12.639174,-1.6720208,-3.1680453,-2.601919,1.2711154,11.457862,-3.4432602,-1.4686835,2.2117994,-1.6648751,9.536932,16.812128,0.48214597,-1.6979705,12.379879,-1.5032833,16.107512,2.568537,2.293751,-2.7071328,-1.9521786,11.794321,1.309585,-2.7755148,11.789776,-1.5935248,-3.7394304,-2.8905427,0.68328995,16.11461,11.585149,12.859415,-1.689504,13.054646,11.326997,16.780062,2.0503697,-1.4010698,16.791115,-2.1485856,1.6551423,12.616608,9.601593,11.717666,-2.2843091,9.63608,-2.4221294,11.305479,12.894625,13.015921,10.1402645,0.4807972,13.074172,12.523274,13.20815,-2.0272253,9.613868,1.4671296,1.6492261,16.071596,11.470184,-2.0931783,2.3118985,13.014004,-1.4096352,-2.2854953,-1.2336895,1.4316785,12.805558,0.83161986,16.76836,2.5740418,-3.2299235,16.390306,10.406174,1.6199629,-3.5102477,-1.8621175,-1.3925517,16.403875,1.2609115,1.2959603,10.114711,-2.9410536,-1.522674,-3.0241432,-1.2617917,-2.0238745,16.662123,-1.6509897,-1.5262506,1.635789,16.508593,-2.0537279,9.367397,9.359582,9.47567,16.142948,-1.6451395,-2.6519601,12.389872,-2.4945865,1.4232907,9.922103,11.97293,2.230511,-3.4350452,9.771731,11.446411,1.9674503,9.5481415,16.744253,-2.106451,11.318328,11.2841425,12.591939,-1.6516588,2.486304,0.7443419,16.309637,2.2037325,11.486336,16.675459,-2.0648432,11.388558,1.5665869,12.774552,10.662247,0.60490596,13.021348,16.205793,11.513866,1.1908883,-1.6822244,-3.2164044,-2.9831645,16.673183,11.717942,9.365217,0.81285137,9.411224,11.457615,1.1056211,-2.3057709,-1.4393688,10.410211,11.729978,11.315124,-2.2609541,16.694921,2.5708504,16.667732,16.313868,10.386282,1.1500932,13.095593,-1.7909034,2.306453,11.235851,16.71129,9.475491,-2.051208,11.9769535,-1.200687,12.414634,-1.577674,-3.1242266,1.986326,16.19454,12.734371,11.96126,-3.4641132,-3.1590784,16.726131,13.114205,13.545817,-2.340828,16.269154,11.535406,-2.000235,-3.8161259,-2.708621,-1.9825016,12.479345,11.923305,10.400775,16.488573,-2.004175,-2.5062087,16.742426,1.3998487,1.3547045,11.977379,11.351307,1.0646722,1.3298775,2.3239837,-1.527915,1.1681522,16.73456,16.813953,0.7996589,9.356433,12.869061,11.96387,11.330392,16.684717,11.9642105,11.353265,-3.2319522,16.183565,2.3028116,0.525841,-2.818918,0.48843688,11.329578,2.2803423,12.431799,1.2992384,-2.6598408,2.0405781,9.686223,-1.2842963,-1.441589,12.978284,1.1586705,1.0981219,-1.7640842,16.561855,1.976658,9.458712,0.46238926,-3.1846697,13.038971,2.4009604,11.572898,-1.6465665,-2.354804,-2.1033154,1.1399921,-2.552882,1.3347036,1.3948897,9.398137,-2.3684838,-1.7508134,11.348236,1.1246923,13.004489,-2.5812385,16.724058,16.706493,10.199983,12.582915,12.645318,16.60971,-2.309884,11.944632,-2.2924008,9.728589,1.4661144,-1.2232057,9.389928,2.293256,-2.984257,-1.4458116,-2.7309012,-2.607153,12.731062,-1.5221922,-2.0673256,12.846298,-1.6326035,-1.4513128,-1.423768,1.1535523,-1.360081,11.3499775,10.328584,-1.9726985,9.5148945,1.5490457,1.2943457,16.668356,12.414916,1.0945783,16.056917,16.173908,10.09331,11.616539,11.49449,-2.264456,1.0550164,11.307887,-1.7187665,12.877153,2.544281,-1.9125229,9.539839,10.400739,13.415767,-2.8090308,11.456592,-3.0199313,-3.2608182,10.407254,9.360981,9.7645235,-2.772819,12.472996,-2.460201,-3.3714705,1.0526239,16.665768,11.368996,-1.7133496,-1.4683436,-2.3253734,11.277631,9.665751,-1.7844969,11.627149,-3.1811216,1.467388,-3.5694482,-3.4792655,12.420106,-3.3020415,9.570327,11.698157,11.400903,12.959133,16.273527,-3.676921,13.01784,11.442488,-1.7158312,1.3781543,11.174758,-1.239,2.585817,9.377687,0.91281605,-1.4348267,-1.7601454,1.3215292,-2.361502,1.4620997,2.0055544,10.4940405,11.332498,13.031656,11.3874235,-3.159761,-2.9809551,1.6329743,-2.8547852,-1.7523235,16.168522,-3.2217896,2.4195793,-2.0938816,16.530352,0.89959806,-1.4821655,-1.4824829,11.438268,-2.5128582,-3.2279792,12.59307,11.533552,1.1402102,-1.5887018,13.08539,2.5662587,-3.204456,9.5011,16.644966,16.638689,16.492535,16.182096,-1.9637207,11.330532,10.427485,10.332372,-3.0606163,-2.5708394,-1.7863234,-3.2062843,0.66616035,11.355617,16.68011,16.086874,16.676706,-2.313044,-1.8123772,11.790082,-1.4984219,-2.1383402,0.48124197,0.97913086,-1.8778627,-1.2558492,11.278604,10.374283,-2.9531426,1.1345413,-3.7425478,12.846272,16.622684,12.005022,13.563153,-1.2672981,16.536821,9.523087,-1.5073608,16.31142,11.825583,9.763736,0.6549039,11.746843,-3.2203364,9.5400915,13.102943,11.455222,-1.3071241,12.7553005,16.545502,16.682617,-2.3510103,2.289508,12.447826,16.802004,2.280162,1.9662951,11.839552,9.7899475,1.0429183,-2.9982438,16.633453,-2.3755333,-1.9651979,1.4178073,-3.0101867,12.870805,2.3095937,0.85444456,11.707589,-2.0189664,16.715168,1.3373692,-1.8425251,-2.3623252,2.381329,-1.8971816,11.359865,-1.4690869,-2.3756993,16.613188,11.256905,11.407986,1.0209411,-3.067049,16.815922,1.636299,-2.585953,1.1820889,1.5966734,13.07083,11.988186,-3.305318,-2.3651166,-2.3529184,-3.2194526,1.3852192,12.377627,12.681104,2.0796711,10.371941,9.699213,16.671162,-2.3566778,16.842726,-1.5739986,-2.7351623,16.582932,11.725847,-1.9832541,11.895209,-1.7784061,1.2094417,-1.5620115,2.2879536,13.50713,16.831861,-2.9909487,11.425553,10.065539,16.647858,13.485729,-2.7375803,-1.6646202,-2.90673,1.4464092,12.822728,-1.7347372,-2.9545674,-2.3408473,1.6597552,-2.2946749,-3.1338575,16.822084,16.697392,11.768778,-1.999954,-3.7704244,-2.0192175,11.280235,2.5702448,-1.4460088,-2.5724049,16.553707,-2.6805396,-3.2420487,2.4613128,13.095743,0.54317945,-1.5439023,-2.5139458,10.387053,-2.8433654,16.603943,16.6727,9.503792,2.2735693,16.826828,-1.7709935,11.539722,9.474005,12.432048,9.773071,16.42493,-3.0706546,0.47682685,9.449806,10.389901,2.4165108,11.461225,-2.8397818,-3.0873673,0.77925104,10.303757,-1.4969264,-3.1389914,-3.007256,16.802753,1.1303138,-1.3657068,16.641233,-2.342836,10.113048,-2.7094023,9.422034,9.463916,-2.2791908,-1.7059423,-2.20998,0.80282617,12.619403,-2.5323024,0.4318255,16.575552,16.215189,13.57278,11.586417,-2.4190993,-2.76699,10.379488,-2.8175297,-1.733099,9.845639,-2.3517122,1.6494566,-2.388927,-1.768534,0.87029594,-2.0477622,16.236877,10.497996,-1.6990831,12.993887,12.629734,-1.4249315,-2.5608833,16.739565,-3.4879375,-2.1828656,-2.5396173,-1.4939196,-2.4525728,11.988765,-2.2130747,1.1922528,11.628152,16.422302,9.431407,-2.3334033,1.992168,1.436065,-2.3630316,16.70613,12.9787,-1.8271544,12.541332,10.402917,1.3542504,16.714817,-1.7401587,13.070948,-2.72855,-1.9803658,0.49263832,12.055481,12.61837,-2.1888604,13.107785,-3.1229115,12.762073,0.8696433,9.75027,-2.011912,9.555633,9.717881,11.453724,-1.4185946,-3.252421,2.1882737,9.579273,11.428976,11.705531,13.214573,11.757734,12.987836,2.1959734,16.282454,9.407531,11.8866625,-1.9793822,-1.7706091,-2.0897942,11.934236,12.94135,11.306159,-3.204199,11.297018,1.261421,12.5736475,16.696823,16.163902,12.351118,2.5651574,-2.722878,0.9957957,1.3427721,9.573335,2.043016,11.757371,10.402878,-1.7692087,-2.3009999,11.942147,-2.392816,11.634873,1.9029862,0.6413803,1.623612,-1.791549,-2.3947134,1.126027,13.120744,-1.6263093,10.14918,-2.696722,11.433167,-3.18373,-2.8937662,12.39161,0.8483599,-3.0798836,11.754775,10.204826,-1.3578565,10.363072,10.332889,-1.6401473,-2.3631961,0.4734628,11.414782,11.505684,16.791525,16.183498,-1.390017,-1.3200411,-1.5336703,-3.7805777,0.84072804,-1.3406228,10.630673,-2.3177888,2.2056673,-2.685267,12.5211935,1.4048617,9.372748,2.215611,16.863491,1.6051737,1.9044195,-3.1045938,-2.5036547,-2.1135335,-2.923453,1.2354217,-1.6764377,-1.8039865,-1.8332022,12.951761,-2.7483559,12.556965,2.4258375,12.541988,-2.7172267,16.536638,-1.8516479,11.670076,-2.9659479,-2.834313,11.294917,12.619319,-2.7227254,1.6614658,12.826397,16.791254,-2.1636791,0.8085908,-1.4785088,9.860695,-2.041161,1.0545824,-1.829185,9.752782,16.256863,12.573877,-2.7304738,16.727173,10.416337,-2.6661742,2.28194,13.313483,12.577628,2.2100813,1.3651447,0.78297526,0.9329363,10.385325,16.755682,-2.4085548,16.552755,9.525108,-3.234306,-3.2005887,11.427547,-1.6408004,13.002272,-1.823906,16.228521,-3.512382,2.214297,11.800843,11.461399,10.41728,12.78816,16.738531,1.9369841,1.2984952,-2.3513432,12.712109,-1.942026,-1.3778796,16.395761,16.627468,-1.6285647,-2.678552,-3.2510805,11.368012,10.417079,-1.9108732,-1.5375375,12.985245,11.504914,1.370011,9.4225235,9.3992815,-3.0652926,11.433949,2.295615,10.237116,-1.5109018,1.2244527,-3.2523417,13.057406,1.2989473,0.719939,-3.199882,13.065489,1.4177647,-2.7260187,1.9607788],\"xaxis\":\"x\",\"y\":[13.588391,4.3208785,-2.220974,-5.4231496,-1.7079113,3.5870852,4.3533053,1.5627388,2.0981705,1.5968181,1.7349321,-1.8982668,3.711527,1.2411814,-5.4905143,-5.3360825,-1.8105181,-6.2470655,14.081251,13.140439,12.158112,11.787528,4.313506,13.100531,-5.7184415,-1.7760992,-4.113324,4.4077263,11.518997,11.883841,13.163321,13.467285,11.384609,-0.53683937,12.05275,11.221703,10.889107,12.717729,-4.684462,12.004295,-3.9429893,11.45283,4.3840003,2.0251431,-5.489362,13.988464,11.325991,13.212125,4.3260036,-5.6052766,11.371804,1.7379118,-2.232192,11.411318,-5.32534,14.118146,1.5487012,1.3282582,1.7329272,13.157266,-2.001766,13.136018,14.280561,11.500576,2.0613196,-5.0037007,13.306126,14.335572,11.519563,14.302722,13.983591,4.0075164,13.940524,-4.045046,-5.3510785,-5.3590283,13.7435255,12.79492,13.608485,-3.732639,-5.3418703,1.7044972,-1.6765968,3.9699156,13.891724,-1.5348855,12.992951,13.70226,13.859262,-5.3444552,12.954856,11.29561,13.114075,-4.025506,13.77015,1.1699907,4.312414,-6.232302,13.071716,-1.55494,13.538361,4.242423,-5.863984,-3.9187367,13.686962,13.990363,13.832662,-5.3487196,12.0824995,13.306906,13.843058,11.913922,13.653192,-6.0217886,4.2261877,13.11163,-1.8613523,13.224074,-1.9498242,12.845604,4.336764,-4.2106423,13.602943,4.401387,14.283441,-3.7875166,-1.5982726,1.6342922,0.59701514,13.644672,1.4705932,14.361614,12.829711,-1.7449996,-1.9631338,1.5370582,-6.2325025,-0.28066626,-1.5972424,-0.13911645,14.321999,1.8394531,-5.664743,-3.7548604,4.1982784,12.802761,14.212442,-3.904754,-0.33977136,13.138727,14.173819,13.516263,-5.7029753,-1.4740639,-5.5722594,4.4669633,-5.866881,11.42088,4.4391685,1.9834588,-3.7257433,11.437062,14.253556,13.614166,4.296818,-5.3720107,-5.759673,1.5385848,11.953254,13.718013,11.602611,13.649441,13.979742,4.8059354,13.006199,13.745406,-3.7330835,4.7047896,14.304448,1.1786349,1.2159475,1.5570737,4.2136793,13.945356,14.179801,-1.6846582,11.734223,-4.9827685,1.5785911,13.610557,-3.989843,11.546791,1.5172062,12.986107,-5.5036445,1.090659,4.1536946,12.934713,12.780074,12.919922,-1.4689137,13.6017,-5.8149137,-5.9546313,4.0637484,-5.6498523,12.765426,3.6481974,12.67508,12.832824,-4.9898353,-1.6379058,1.1877564,-6.074577,-1.8286866,4.261077,12.873124,-4.6811333,13.496286,11.212955,11.542916,4.3353295,13.232636,1.1349812,-5.614209,1.2593346,12.784345,-4.758802,14.342649,13.902794,2.1510046,13.854708,12.978356,14.096677,3.3676944,-5.864668,3.676248,3.9908323,2.1327088,-4.7392516,-2.0517206,13.906269,-3.9026182,13.084081,4.46464,1.6467516,13.892688,13.6732435,13.474474,-1.6671013,13.104936,11.570533,-5.519146,4.244261,-1.6494066,13.573077,11.417937,11.209801,4.583616,-1.9956685,0.19178753,14.332885,4.307006,13.064184,14.289105,12.008038,12.160269,12.978166,-1.5935718,13.804243,1.9996905,4.5034122,13.909706,12.215488,4.208005,-5.788642,-5.8208413,13.654449,12.74491,-4.8645034,-5.8267694,-3.9058266,13.154428,-4.7494025,4.6253257,4.4060817,-5.609932,1.2432717,-1.29515,13.66782,12.726424,4.653307,13.634463,12.759902,13.940675,4.3000154,-3.9096324,-6.1595263,10.945621,-6.228547,12.93796,-3.9043674,-1.5985323,-5.8132343,12.135459,-5.4961514,1.5063481,13.237532,13.837863,-1.8374026,-4.680059,-5.1909595,14.23171,3.88388,-5.485764,1.5807453,-6.2452364,13.789836,-1.8792344,-5.7541995,13.072144,13.509349,-2.2472312,14.336889,-5.411201,12.21818,-5.3510203,-5.549685,1.241108,-2.2163937,14.22487,12.924718,-4.7047,-1.8073722,14.1198015,4.408112,4.3938193,1.5462301,-1.5264797,-1.3498996,4.726363,13.988586,13.898592,14.282955,1.5223151,-5.7392716,13.565872,1.1192375,-5.69127,11.507676,13.213965,10.864827,11.655345,-1.8001316,13.054697,12.791652,-1.9458809,13.331723,13.146753,13.659848,-4.711708,13.697036,12.759674,2.1181705,13.863058,1.6462789,-4.821776,-5.749356,3.6521618,-1.5923846,-5.475235,4.2252955,4.1508303,1.832265,13.937628,12.777208,14.27651,-5.0578284,12.861241,13.900568,-1.6593734,-5.848496,14.284366,1.07606,2.1648796,-0.037417073,12.047949,12.916979,14.093572,11.287727,2.063367,1.1104357,1.5254109,10.928303,-1.5718735,14.313059,11.58422,-4.8863974,4.6527452,12.997822,14.1340885,13.969023,-2.2506053,12.883394,1.5075738,14.081725,13.107063,11.27093,-5.6936026,11.673564,11.282754,-1.6490031,11.671437,1.3302325,13.182598,13.290868,-1.9063177,4.1573963,11.815334,-1.9904552,12.762001,13.631388,-5.8441424,13.1255045,13.32009,-5.87826,1.1962708,-5.3870845,13.587365,14.101079,-4.854569,-2.2183287,-5.7609105,-5.5059896,1.2649308,12.760687,-1.9029006,12.849132,11.255843,11.072246,-3.750648,12.030365,12.93901,4.14943,11.327017,-5.7732043,14.204868,4.313943,-5.837591,13.4423065,13.522497,12.891687,14.133085,13.953343,-1.5211432,12.96738,-4.6254954,13.8247795,-0.30150574,-5.861674,13.966221,1.5507575,4.7933683,4.7249494,4.151653,4.2536926,13.7796955,12.84664,2.108253,2.098332,13.633684,11.6297455,13.788988,13.9696245,-6.035636,12.7069235,3.493923,4.231371,4.7592254,14.316409,13.976215,13.85644,14.048915,14.33622,-6.226067,-4.9449725,14.197805,13.341142,12.737517,2.0568821,11.467616,-4.7320385,11.915829,-1.1975996,4.572099,13.717153,-0.19081381,13.45975,4.7730775,1.5314844,13.121431,4.1916995,13.803315,1.5392779,-6.0601563,13.315987,13.941509,1.3779529,-0.3493482,12.801628,13.224166,-1.8158917,4.764468,3.4409094,-2.2599185,-3.9293299,-1.6341163,4.35467,-3.9217558,-5.50768,13.85347,1.5167835,-4.9514303,13.621515,4.2595525,14.370201,14.253903,-5.403238,11.536905,-1.8996005,-3.919158,-5.608836,13.190188,14.328594,4.532271,-5.2521124,13.921068,-2.271221,-5.7346835,13.961107,12.782076,14.087078,14.356949,4.7336674,12.974203,12.928282,-5.303713,11.906973,4.4112115,-3.739387,14.284778,-4.720532,-3.7011912,-0.27338907,13.773532,11.653195,-2.227686,-2.2388494,11.235892,-5.3897314,-1.6893705,-1.3445708,-5.5701027,2.1721315,1.4552734,4.725483,-2.2370515,4.3491607,13.108634,10.866749,4.257209,13.273829,14.274284,13.802054,13.903188,-5.3838415,13.09255,-3.9241655,0.08509891,4.2239017,11.914439,12.706153,1.5163242,4.8493276,0.037542023,10.877582,13.02239,11.967319,-5.6727376,-1.2447791,14.127742,11.906387,-2.2253273,-3.7262979,12.174069,11.839408,4.5588074,4.2659235,13.248651,12.8497095,11.979878,13.87813,12.932875,-5.8648458,13.829296,14.194246,4.7918763,13.728304,13.955212,-5.7997217,-1.9629897,-6.1532044,13.104806,13.946533,2.1870952,12.010613,4.486623,4.836048,1.1337447,-3.893074,4.3987365,14.188878,12.901422,1.1490406,-1.5559835,1.5255156,4.1165366,11.500445,-6.240426,1.7750428,2.031821,-5.767542,12.755837,12.0515175,14.053988,-5.646543,1.5950813,13.162344,11.753005,13.57442,4.521249,-4.66772,13.357373,4.7214794,-2.2573729,1.8705769,13.713175,1.7440866,1.6951351,12.26299,13.893086,14.281251,-5.598331,-1.4214928,14.187892,-6.219962,4.7224975,4.30504,0.2153169,13.02363,14.340405,12.063415,2.1498108,10.955534,13.631968,1.544395,-2.2484813,-3.7863486,-2.2792673,13.864606,-5.5950484,14.133473,4.102577,1.1702613,14.064,-1.8796003,-1.4240016,13.939848,14.292919,4.4393177,11.276308,12.394874,13.904401,14.021116,14.34597,13.701534,14.350383,-5.4408116,13.8944435,3.9540513,1.0632516,12.066224,-5.4869967,-5.7616644,14.349953,3.2823951,-1.9239112,14.206597,-1.5418551,1.3907745,-5.803316,4.6448174,14.226439,-2.00842,10.872192,13.88998,-6.224408,14.2235365,-1.3365024,14.135207,-0.20855427,11.256851,-1.835852,-5.656144,1.476669,14.141107,1.0666053,1.5409559,12.954179,13.170616,11.749982,-4.029716,1.6566706,12.781228,13.221395,-0.21289447,13.848501,-1.7751423,-4.027426,4.086179,1.7828864,13.7998495,14.276985,13.476701,14.101303,13.883324,-1.7651722,12.80826,13.826045,12.898677,-5.302754,-1.4799087,4.85168,4.194994,-1.6775032,-5.859775,13.703659,-5.6140904,-5.853732,1.500664,-4.2048593,13.235976,2.172656,13.008801,-2.2674365,13.822764,12.029308,13.164017,-4.4860134,-6.0809927,-3.7254457,13.294978,14.380284,-4.615094,-1.9839215,13.848335,1.6831625,11.282811,12.733127,11.517681,11.988236,-1.604177,-5.4012423,11.829088,13.90512,1.983725,13.183593,2.1686134,1.4885763,13.777194,-2.2466075,-6.2399144,12.785115,13.073259,4.3690443,4.1848183,13.626805,13.718082,13.294629,11.986875,-5.6191926,13.674616,1.1938258,12.209846,-4.009068,11.168102,-1.524469,-5.386868,1.128803,-4.0044227,4.307245,-3.6902418,-4.385841,11.6681595,11.795432,12.570418,11.9836855,-5.353702,13.850365,14.189338,14.013282,-1.7993655,10.847016,-1.6508384,-5.7756605,-1.521171,11.368898,3.9299526,13.346736,13.836037,11.562134,12.013954,12.855398,-1.4283164,10.872384,-3.7767344,-1.8708678,4.6010394,12.637556,-5.643912,14.030584,1.1914077,14.098421,-4.917506,13.191187,1.5197177,4.290247,-1.600556,12.077195,3.3277462,2.1686947,11.518683,-3.9344535,-0.063269466,-1.321879,-4.011762,-5.832146,-5.595794,-5.5349503,2.0510995,4.6339445,14.074981,4.6161237,1.8184084,13.966109,13.742839,12.958967,13.34819,-1.9299681,13.931182,4.128819,11.380943,-3.997553,13.321461,12.755899,2.186772,-1.1649675,4.6872807,-5.4355845,-5.273078,14.222856,-1.4879966,13.046499,13.2019,4.2439537,4.8389487,13.632698,14.25014,11.185448,12.961245,2.2067742,14.325293,13.719561,-1.8312976,12.901181,-4.876238,1.7726667,1.188848,11.467583,12.918363,-5.6657834,2.020231,13.535411,-5.1981077,11.211137,-1.8404546,-5.8307743,-5.9948277,13.906374,-2.0557773,-5.781752,10.873705,-5.482498],\"yaxis\":\"y\",\"type\":\"scattergl\"}],                        {\"template\":{\"data\":{\"histogram2dcontour\":[{\"type\":\"histogram2dcontour\",\"colorbar\":{\"outlinewidth\":0,\"ticks\":\"\"},\"colorscale\":[[0.0,\"#0d0887\"],[0.1111111111111111,\"#46039f\"],[0.2222222222222222,\"#7201a8\"],[0.3333333333333333,\"#9c179e\"],[0.4444444444444444,\"#bd3786\"],[0.5555555555555556,\"#d8576b\"],[0.6666666666666666,\"#ed7953\"],[0.7777777777777778,\"#fb9f3a\"],[0.8888888888888888,\"#fdca26\"],[1.0,\"#f0f921\"]]}],\"choropleth\":[{\"type\":\"choropleth\",\"colorbar\":{\"outlinewidth\":0,\"ticks\":\"\"}}],\"histogram2d\":[{\"type\":\"histogram2d\",\"colorbar\":{\"outlinewidth\":0,\"ticks\":\"\"},\"colorscale\":[[0.0,\"#0d0887\"],[0.1111111111111111,\"#46039f\"],[0.2222222222222222,\"#7201a8\"],[0.3333333333333333,\"#9c179e\"],[0.4444444444444444,\"#bd3786\"],[0.5555555555555556,\"#d8576b\"],[0.6666666666666666,\"#ed7953\"],[0.7777777777777778,\"#fb9f3a\"],[0.8888888888888888,\"#fdca26\"],[1.0,\"#f0f921\"]]}],\"heatmap\":[{\"type\":\"heatmap\",\"colorbar\":{\"outlinewidth\":0,\"ticks\":\"\"},\"colorscale\":[[0.0,\"#0d0887\"],[0.1111111111111111,\"#46039f\"],[0.2222222222222222,\"#7201a8\"],[0.3333333333333333,\"#9c179e\"],[0.4444444444444444,\"#bd3786\"],[0.5555555555555556,\"#d8576b\"],[0.6666666666666666,\"#ed7953\"],[0.7777777777777778,\"#fb9f3a\"],[0.8888888888888888,\"#fdca26\"],[1.0,\"#f0f921\"]]}],\"heatmapgl\":[{\"type\":\"heatmapgl\",\"colorbar\":{\"outlinewidth\":0,\"ticks\":\"\"},\"colorscale\":[[0.0,\"#0d0887\"],[0.1111111111111111,\"#46039f\"],[0.2222222222222222,\"#7201a8\"],[0.3333333333333333,\"#9c179e\"],[0.4444444444444444,\"#bd3786\"],[0.5555555555555556,\"#d8576b\"],[0.6666666666666666,\"#ed7953\"],[0.7777777777777778,\"#fb9f3a\"],[0.8888888888888888,\"#fdca26\"],[1.0,\"#f0f921\"]]}],\"contourcarpet\":[{\"type\":\"contourcarpet\",\"colorbar\":{\"outlinewidth\":0,\"ticks\":\"\"}}],\"contour\":[{\"type\":\"contour\",\"colorbar\":{\"outlinewidth\":0,\"ticks\":\"\"},\"colorscale\":[[0.0,\"#0d0887\"],[0.1111111111111111,\"#46039f\"],[0.2222222222222222,\"#7201a8\"],[0.3333333333333333,\"#9c179e\"],[0.4444444444444444,\"#bd3786\"],[0.5555555555555556,\"#d8576b\"],[0.6666666666666666,\"#ed7953\"],[0.7777777777777778,\"#fb9f3a\"],[0.8888888888888888,\"#fdca26\"],[1.0,\"#f0f921\"]]}],\"surface\":[{\"type\":\"surface\",\"colorbar\":{\"outlinewidth\":0,\"ticks\":\"\"},\"colorscale\":[[0.0,\"#0d0887\"],[0.1111111111111111,\"#46039f\"],[0.2222222222222222,\"#7201a8\"],[0.3333333333333333,\"#9c179e\"],[0.4444444444444444,\"#bd3786\"],[0.5555555555555556,\"#d8576b\"],[0.6666666666666666,\"#ed7953\"],[0.7777777777777778,\"#fb9f3a\"],[0.8888888888888888,\"#fdca26\"],[1.0,\"#f0f921\"]]}],\"mesh3d\":[{\"type\":\"mesh3d\",\"colorbar\":{\"outlinewidth\":0,\"ticks\":\"\"}}],\"scatter\":[{\"fillpattern\":{\"fillmode\":\"overlay\",\"size\":10,\"solidity\":0.2},\"type\":\"scatter\"}],\"parcoords\":[{\"type\":\"parcoords\",\"line\":{\"colorbar\":{\"outlinewidth\":0,\"ticks\":\"\"}}}],\"scatterpolargl\":[{\"type\":\"scatterpolargl\",\"marker\":{\"colorbar\":{\"outlinewidth\":0,\"ticks\":\"\"}}}],\"bar\":[{\"error_x\":{\"color\":\"#2a3f5f\"},\"error_y\":{\"color\":\"#2a3f5f\"},\"marker\":{\"line\":{\"color\":\"#E5ECF6\",\"width\":0.5},\"pattern\":{\"fillmode\":\"overlay\",\"size\":10,\"solidity\":0.2}},\"type\":\"bar\"}],\"scattergeo\":[{\"type\":\"scattergeo\",\"marker\":{\"colorbar\":{\"outlinewidth\":0,\"ticks\":\"\"}}}],\"scatterpolar\":[{\"type\":\"scatterpolar\",\"marker\":{\"colorbar\":{\"outlinewidth\":0,\"ticks\":\"\"}}}],\"histogram\":[{\"marker\":{\"pattern\":{\"fillmode\":\"overlay\",\"size\":10,\"solidity\":0.2}},\"type\":\"histogram\"}],\"scattergl\":[{\"type\":\"scattergl\",\"marker\":{\"colorbar\":{\"outlinewidth\":0,\"ticks\":\"\"}}}],\"scatter3d\":[{\"type\":\"scatter3d\",\"line\":{\"colorbar\":{\"outlinewidth\":0,\"ticks\":\"\"}},\"marker\":{\"colorbar\":{\"outlinewidth\":0,\"ticks\":\"\"}}}],\"scattermapbox\":[{\"type\":\"scattermapbox\",\"marker\":{\"colorbar\":{\"outlinewidth\":0,\"ticks\":\"\"}}}],\"scatterternary\":[{\"type\":\"scatterternary\",\"marker\":{\"colorbar\":{\"outlinewidth\":0,\"ticks\":\"\"}}}],\"scattercarpet\":[{\"type\":\"scattercarpet\",\"marker\":{\"colorbar\":{\"outlinewidth\":0,\"ticks\":\"\"}}}],\"carpet\":[{\"aaxis\":{\"endlinecolor\":\"#2a3f5f\",\"gridcolor\":\"white\",\"linecolor\":\"white\",\"minorgridcolor\":\"white\",\"startlinecolor\":\"#2a3f5f\"},\"baxis\":{\"endlinecolor\":\"#2a3f5f\",\"gridcolor\":\"white\",\"linecolor\":\"white\",\"minorgridcolor\":\"white\",\"startlinecolor\":\"#2a3f5f\"},\"type\":\"carpet\"}],\"table\":[{\"cells\":{\"fill\":{\"color\":\"#EBF0F8\"},\"line\":{\"color\":\"white\"}},\"header\":{\"fill\":{\"color\":\"#C8D4E3\"},\"line\":{\"color\":\"white\"}},\"type\":\"table\"}],\"barpolar\":[{\"marker\":{\"line\":{\"color\":\"#E5ECF6\",\"width\":0.5},\"pattern\":{\"fillmode\":\"overlay\",\"size\":10,\"solidity\":0.2}},\"type\":\"barpolar\"}],\"pie\":[{\"automargin\":true,\"type\":\"pie\"}]},\"layout\":{\"autotypenumbers\":\"strict\",\"colorway\":[\"#636efa\",\"#EF553B\",\"#00cc96\",\"#ab63fa\",\"#FFA15A\",\"#19d3f3\",\"#FF6692\",\"#B6E880\",\"#FF97FF\",\"#FECB52\"],\"font\":{\"color\":\"#2a3f5f\"},\"hovermode\":\"closest\",\"hoverlabel\":{\"align\":\"left\"},\"paper_bgcolor\":\"white\",\"plot_bgcolor\":\"#E5ECF6\",\"polar\":{\"bgcolor\":\"#E5ECF6\",\"angularaxis\":{\"gridcolor\":\"white\",\"linecolor\":\"white\",\"ticks\":\"\"},\"radialaxis\":{\"gridcolor\":\"white\",\"linecolor\":\"white\",\"ticks\":\"\"}},\"ternary\":{\"bgcolor\":\"#E5ECF6\",\"aaxis\":{\"gridcolor\":\"white\",\"linecolor\":\"white\",\"ticks\":\"\"},\"baxis\":{\"gridcolor\":\"white\",\"linecolor\":\"white\",\"ticks\":\"\"},\"caxis\":{\"gridcolor\":\"white\",\"linecolor\":\"white\",\"ticks\":\"\"}},\"coloraxis\":{\"colorbar\":{\"outlinewidth\":0,\"ticks\":\"\"}},\"colorscale\":{\"sequential\":[[0.0,\"#0d0887\"],[0.1111111111111111,\"#46039f\"],[0.2222222222222222,\"#7201a8\"],[0.3333333333333333,\"#9c179e\"],[0.4444444444444444,\"#bd3786\"],[0.5555555555555556,\"#d8576b\"],[0.6666666666666666,\"#ed7953\"],[0.7777777777777778,\"#fb9f3a\"],[0.8888888888888888,\"#fdca26\"],[1.0,\"#f0f921\"]],\"sequentialminus\":[[0.0,\"#0d0887\"],[0.1111111111111111,\"#46039f\"],[0.2222222222222222,\"#7201a8\"],[0.3333333333333333,\"#9c179e\"],[0.4444444444444444,\"#bd3786\"],[0.5555555555555556,\"#d8576b\"],[0.6666666666666666,\"#ed7953\"],[0.7777777777777778,\"#fb9f3a\"],[0.8888888888888888,\"#fdca26\"],[1.0,\"#f0f921\"]],\"diverging\":[[0,\"#8e0152\"],[0.1,\"#c51b7d\"],[0.2,\"#de77ae\"],[0.3,\"#f1b6da\"],[0.4,\"#fde0ef\"],[0.5,\"#f7f7f7\"],[0.6,\"#e6f5d0\"],[0.7,\"#b8e186\"],[0.8,\"#7fbc41\"],[0.9,\"#4d9221\"],[1,\"#276419\"]]},\"xaxis\":{\"gridcolor\":\"white\",\"linecolor\":\"white\",\"ticks\":\"\",\"title\":{\"standoff\":15},\"zerolinecolor\":\"white\",\"automargin\":true,\"zerolinewidth\":2},\"yaxis\":{\"gridcolor\":\"white\",\"linecolor\":\"white\",\"ticks\":\"\",\"title\":{\"standoff\":15},\"zerolinecolor\":\"white\",\"automargin\":true,\"zerolinewidth\":2},\"scene\":{\"xaxis\":{\"backgroundcolor\":\"#E5ECF6\",\"gridcolor\":\"white\",\"linecolor\":\"white\",\"showbackground\":true,\"ticks\":\"\",\"zerolinecolor\":\"white\",\"gridwidth\":2},\"yaxis\":{\"backgroundcolor\":\"#E5ECF6\",\"gridcolor\":\"white\",\"linecolor\":\"white\",\"showbackground\":true,\"ticks\":\"\",\"zerolinecolor\":\"white\",\"gridwidth\":2},\"zaxis\":{\"backgroundcolor\":\"#E5ECF6\",\"gridcolor\":\"white\",\"linecolor\":\"white\",\"showbackground\":true,\"ticks\":\"\",\"zerolinecolor\":\"white\",\"gridwidth\":2}},\"shapedefaults\":{\"line\":{\"color\":\"#2a3f5f\"}},\"annotationdefaults\":{\"arrowcolor\":\"#2a3f5f\",\"arrowhead\":0,\"arrowwidth\":1},\"geo\":{\"bgcolor\":\"white\",\"landcolor\":\"#E5ECF6\",\"subunitcolor\":\"white\",\"showland\":true,\"showlakes\":true,\"lakecolor\":\"white\"},\"title\":{\"x\":0.05},\"mapbox\":{\"style\":\"light\"}}},\"xaxis\":{\"anchor\":\"y\",\"domain\":[0.0,1.0],\"title\":{\"text\":\"x\"}},\"yaxis\":{\"anchor\":\"x\",\"domain\":[0.0,1.0],\"title\":{\"text\":\"y\"}},\"legend\":{\"title\":{\"text\":\"tag\"},\"tracegroupgap\":0},\"margin\":{\"t\":60},\"height\":900},                        {\"responsive\": true}                    ).then(function(){\n",
       "                            \n",
       "var gd = document.getElementById('52766b28-96c7-4632-803d-d8e85ec81481');\n",
       "var x = new MutationObserver(function (mutations, observer) {{\n",
       "        var display = window.getComputedStyle(gd).display;\n",
       "        if (!display || display === 'none') {{\n",
       "            console.log([gd, 'removed!']);\n",
       "            Plotly.purge(gd);\n",
       "            observer.disconnect();\n",
       "        }}\n",
       "}});\n",
       "\n",
       "// Listen for the removal of the full notebook cells\n",
       "var notebookContainer = gd.closest('#notebook-container');\n",
       "if (notebookContainer) {{\n",
       "    x.observe(notebookContainer, {childList: true});\n",
       "}}\n",
       "\n",
       "// Listen for the clearing of the current output cell\n",
       "var outputEl = gd.closest('.output');\n",
       "if (outputEl) {{\n",
       "    x.observe(outputEl, {childList: true});\n",
       "}}\n",
       "\n",
       "                        })                };                });            </script>        </div>"
      ]
     },
     "metadata": {},
     "output_type": "display_data"
    }
   ],
   "source": [
    "from plotly.express import scatter\n",
    "scatter(data_frame=plot_df, x='x', y='y', color='tag', hover_name='name', height=900).show()"
   ]
  },
  {
   "cell_type": "markdown",
   "id": "fd95e23b",
   "metadata": {
    "papermill": {
     "duration": 0.007903,
     "end_time": "2024-02-24T15:01:31.342352",
     "exception": false,
     "start_time": "2024-02-24T15:01:31.334449",
     "status": "completed"
    },
    "tags": []
   },
   "source": [
    "This is an odd looking clustering, in that we appear to have four clusters that have smaller subclusters within them, but the different classes seem to be tightly clustered inside them; we don't have regions in X-Y space that have a mix of all three classes. So on this basis we expect even a simple model will do a good job classifying these."
   ]
  },
  {
   "cell_type": "code",
   "execution_count": 5,
   "id": "c601a8c4",
   "metadata": {
    "execution": {
     "iopub.execute_input": "2024-02-24T15:01:31.360852Z",
     "iopub.status.busy": "2024-02-24T15:01:31.360368Z",
     "iopub.status.idle": "2024-02-24T15:01:33.174313Z",
     "shell.execute_reply": "2024-02-24T15:01:33.172805Z"
    },
    "papermill": {
     "duration": 1.828266,
     "end_time": "2024-02-24T15:01:33.178746",
     "exception": false,
     "start_time": "2024-02-24T15:01:31.350480",
     "status": "completed"
    },
    "tags": []
   },
   "outputs": [
    {
     "name": "stdout",
     "output_type": "stream",
     "text": [
      "accuracy: 99.26 pct\n"
     ]
    }
   ],
   "source": [
    "from sklearn.linear_model import LogisticRegression\n",
    "from sklearn.model_selection import train_test_split\n",
    "from sklearn.metrics import accuracy_score\n",
    "\n",
    "X_train, X_test, y_train, y_test = train_test_split(df['value'].apply(pd.Series), df['tag'], test_size=0.25, random_state=2024)\n",
    "model = LogisticRegression(max_iter=100000)\n",
    "model.fit(X_train, y_train)\n",
    "\n",
    "print('accuracy: {:5.2f} pct'.format(100 * accuracy_score(y_test, model.predict(X_test))))"
   ]
  },
  {
   "cell_type": "code",
   "execution_count": 6,
   "id": "dbfe9487",
   "metadata": {
    "execution": {
     "iopub.execute_input": "2024-02-24T15:01:33.218245Z",
     "iopub.status.busy": "2024-02-24T15:01:33.217540Z",
     "iopub.status.idle": "2024-02-24T15:01:33.329178Z",
     "shell.execute_reply": "2024-02-24T15:01:33.327696Z"
    },
    "papermill": {
     "duration": 0.137058,
     "end_time": "2024-02-24T15:01:33.334061",
     "exception": false,
     "start_time": "2024-02-24T15:01:33.197003",
     "status": "completed"
    },
    "tags": []
   },
   "outputs": [
    {
     "name": "stdout",
     "output_type": "stream",
     "text": [
      "              precision    recall  f1-score   support\n",
      "\n",
      "       paper       1.00      0.99      0.99       223\n",
      "        rock       0.99      1.00      1.00       226\n",
      "    scissors       0.99      0.99      0.99       231\n",
      "\n",
      "    accuracy                           0.99       680\n",
      "   macro avg       0.99      0.99      0.99       680\n",
      "weighted avg       0.99      0.99      0.99       680\n",
      "\n"
     ]
    }
   ],
   "source": [
    "from sklearn.metrics import classification_report\n",
    "\n",
    "print(classification_report(labels=df['tag'].unique().tolist(), y_true=y_test, y_pred=model.predict(X_test)))\n"
   ]
  }
 ],
 "metadata": {
  "kaggle": {
   "accelerator": "none",
   "dataSources": [
    {
     "datasetId": 4473163,
     "sourceId": 7669575,
     "sourceType": "datasetVersion"
    }
   ],
   "dockerImageVersionId": 30646,
   "isGpuEnabled": false,
   "isInternetEnabled": true,
   "language": "python",
   "sourceType": "notebook"
  },
  "kernelspec": {
   "display_name": "Python 3",
   "language": "python",
   "name": "python3"
  },
  "language_info": {
   "codemirror_mode": {
    "name": "ipython",
    "version": 3
   },
   "file_extension": ".py",
   "mimetype": "text/x-python",
   "name": "python",
   "nbconvert_exporter": "python",
   "pygments_lexer": "ipython3",
   "version": "3.10.13"
  },
  "papermill": {
   "default_parameters": {},
   "duration": 288.403387,
   "end_time": "2024-02-24T15:01:36.426530",
   "environment_variables": {},
   "exception": null,
   "input_path": "__notebook__.ipynb",
   "output_path": "__notebook__.ipynb",
   "parameters": {},
   "start_time": "2024-02-24T14:56:48.023143",
   "version": "2.5.0"
  },
  "widgets": {
   "application/vnd.jupyter.widget-state+json": {
    "state": {
     "1573fe1d32e24ee994fcb62020c82905": {
      "model_module": "@jupyter-widgets/controls",
      "model_module_version": "1.5.0",
      "model_name": "DescriptionStyleModel",
      "state": {
       "_model_module": "@jupyter-widgets/controls",
       "_model_module_version": "1.5.0",
       "_model_name": "DescriptionStyleModel",
       "_view_count": null,
       "_view_module": "@jupyter-widgets/base",
       "_view_module_version": "1.2.0",
       "_view_name": "StyleView",
       "description_width": ""
      }
     },
     "33d12b68094e4b70a1a9b9a149de103e": {
      "model_module": "@jupyter-widgets/base",
      "model_module_version": "1.2.0",
      "model_name": "LayoutModel",
      "state": {
       "_model_module": "@jupyter-widgets/base",
       "_model_module_version": "1.2.0",
       "_model_name": "LayoutModel",
       "_view_count": null,
       "_view_module": "@jupyter-widgets/base",
       "_view_module_version": "1.2.0",
       "_view_name": "LayoutView",
       "align_content": null,
       "align_items": null,
       "align_self": null,
       "border": null,
       "bottom": null,
       "display": null,
       "flex": null,
       "flex_flow": null,
       "grid_area": null,
       "grid_auto_columns": null,
       "grid_auto_flow": null,
       "grid_auto_rows": null,
       "grid_column": null,
       "grid_gap": null,
       "grid_row": null,
       "grid_template_areas": null,
       "grid_template_columns": null,
       "grid_template_rows": null,
       "height": null,
       "justify_content": null,
       "justify_items": null,
       "left": null,
       "margin": null,
       "max_height": null,
       "max_width": null,
       "min_height": null,
       "min_width": null,
       "object_fit": null,
       "object_position": null,
       "order": null,
       "overflow": null,
       "overflow_x": null,
       "overflow_y": null,
       "padding": null,
       "right": null,
       "top": null,
       "visibility": null,
       "width": null
      }
     },
     "51d6845e1f11490798d0db96a16ea18f": {
      "model_module": "@jupyter-widgets/controls",
      "model_module_version": "1.5.0",
      "model_name": "HBoxModel",
      "state": {
       "_dom_classes": [],
       "_model_module": "@jupyter-widgets/controls",
       "_model_module_version": "1.5.0",
       "_model_name": "HBoxModel",
       "_view_count": null,
       "_view_module": "@jupyter-widgets/controls",
       "_view_module_version": "1.5.0",
       "_view_name": "HBoxView",
       "box_style": "",
       "children": [
        "IPY_MODEL_8b1d80a62b554c7cb2a4cd9ef3711ddf",
        "IPY_MODEL_a003097f62c549baafcab6e6073b0a38",
        "IPY_MODEL_f9e36a14f3a24b24b055a09d0b55e591"
       ],
       "layout": "IPY_MODEL_da08e574b54b443cbfa63c54960eefcc"
      }
     },
     "6e35d99257504eafaba553648b794a26": {
      "model_module": "@jupyter-widgets/controls",
      "model_module_version": "1.5.0",
      "model_name": "DescriptionStyleModel",
      "state": {
       "_model_module": "@jupyter-widgets/controls",
       "_model_module_version": "1.5.0",
       "_model_name": "DescriptionStyleModel",
       "_view_count": null,
       "_view_module": "@jupyter-widgets/base",
       "_view_module_version": "1.2.0",
       "_view_name": "StyleView",
       "description_width": ""
      }
     },
     "848c76c7adf340b0be7030a015b78c40": {
      "model_module": "@jupyter-widgets/controls",
      "model_module_version": "1.5.0",
      "model_name": "ProgressStyleModel",
      "state": {
       "_model_module": "@jupyter-widgets/controls",
       "_model_module_version": "1.5.0",
       "_model_name": "ProgressStyleModel",
       "_view_count": null,
       "_view_module": "@jupyter-widgets/base",
       "_view_module_version": "1.2.0",
       "_view_name": "StyleView",
       "bar_color": null,
       "description_width": ""
      }
     },
     "8b1d80a62b554c7cb2a4cd9ef3711ddf": {
      "model_module": "@jupyter-widgets/controls",
      "model_module_version": "1.5.0",
      "model_name": "HTMLModel",
      "state": {
       "_dom_classes": [],
       "_model_module": "@jupyter-widgets/controls",
       "_model_module_version": "1.5.0",
       "_model_name": "HTMLModel",
       "_view_count": null,
       "_view_module": "@jupyter-widgets/controls",
       "_view_module_version": "1.5.0",
       "_view_name": "HTMLView",
       "description": "",
       "description_tooltip": null,
       "layout": "IPY_MODEL_f10a4836809b45b2aff481c5dfa4db08",
       "placeholder": "​",
       "style": "IPY_MODEL_6e35d99257504eafaba553648b794a26",
       "value": "Epochs completed: 100%| "
      }
     },
     "a003097f62c549baafcab6e6073b0a38": {
      "model_module": "@jupyter-widgets/controls",
      "model_module_version": "1.5.0",
      "model_name": "FloatProgressModel",
      "state": {
       "_dom_classes": [],
       "_model_module": "@jupyter-widgets/controls",
       "_model_module_version": "1.5.0",
       "_model_name": "FloatProgressModel",
       "_view_count": null,
       "_view_module": "@jupyter-widgets/controls",
       "_view_module_version": "1.5.0",
       "_view_name": "ProgressView",
       "bar_style": "success",
       "description": "",
       "description_tooltip": null,
       "layout": "IPY_MODEL_f3e417ee21b34d3ca077a783b2e2ce2b",
       "max": 500.0,
       "min": 0.0,
       "orientation": "horizontal",
       "style": "IPY_MODEL_848c76c7adf340b0be7030a015b78c40",
       "value": 500.0
      }
     },
     "da08e574b54b443cbfa63c54960eefcc": {
      "model_module": "@jupyter-widgets/base",
      "model_module_version": "1.2.0",
      "model_name": "LayoutModel",
      "state": {
       "_model_module": "@jupyter-widgets/base",
       "_model_module_version": "1.2.0",
       "_model_name": "LayoutModel",
       "_view_count": null,
       "_view_module": "@jupyter-widgets/base",
       "_view_module_version": "1.2.0",
       "_view_name": "LayoutView",
       "align_content": null,
       "align_items": null,
       "align_self": null,
       "border": null,
       "bottom": null,
       "display": null,
       "flex": null,
       "flex_flow": null,
       "grid_area": null,
       "grid_auto_columns": null,
       "grid_auto_flow": null,
       "grid_auto_rows": null,
       "grid_column": null,
       "grid_gap": null,
       "grid_row": null,
       "grid_template_areas": null,
       "grid_template_columns": null,
       "grid_template_rows": null,
       "height": null,
       "justify_content": null,
       "justify_items": null,
       "left": null,
       "margin": null,
       "max_height": null,
       "max_width": null,
       "min_height": null,
       "min_width": null,
       "object_fit": null,
       "object_position": null,
       "order": null,
       "overflow": null,
       "overflow_x": null,
       "overflow_y": null,
       "padding": null,
       "right": null,
       "top": null,
       "visibility": null,
       "width": null
      }
     },
     "f10a4836809b45b2aff481c5dfa4db08": {
      "model_module": "@jupyter-widgets/base",
      "model_module_version": "1.2.0",
      "model_name": "LayoutModel",
      "state": {
       "_model_module": "@jupyter-widgets/base",
       "_model_module_version": "1.2.0",
       "_model_name": "LayoutModel",
       "_view_count": null,
       "_view_module": "@jupyter-widgets/base",
       "_view_module_version": "1.2.0",
       "_view_name": "LayoutView",
       "align_content": null,
       "align_items": null,
       "align_self": null,
       "border": null,
       "bottom": null,
       "display": null,
       "flex": null,
       "flex_flow": null,
       "grid_area": null,
       "grid_auto_columns": null,
       "grid_auto_flow": null,
       "grid_auto_rows": null,
       "grid_column": null,
       "grid_gap": null,
       "grid_row": null,
       "grid_template_areas": null,
       "grid_template_columns": null,
       "grid_template_rows": null,
       "height": null,
       "justify_content": null,
       "justify_items": null,
       "left": null,
       "margin": null,
       "max_height": null,
       "max_width": null,
       "min_height": null,
       "min_width": null,
       "object_fit": null,
       "object_position": null,
       "order": null,
       "overflow": null,
       "overflow_x": null,
       "overflow_y": null,
       "padding": null,
       "right": null,
       "top": null,
       "visibility": null,
       "width": null
      }
     },
     "f3e417ee21b34d3ca077a783b2e2ce2b": {
      "model_module": "@jupyter-widgets/base",
      "model_module_version": "1.2.0",
      "model_name": "LayoutModel",
      "state": {
       "_model_module": "@jupyter-widgets/base",
       "_model_module_version": "1.2.0",
       "_model_name": "LayoutModel",
       "_view_count": null,
       "_view_module": "@jupyter-widgets/base",
       "_view_module_version": "1.2.0",
       "_view_name": "LayoutView",
       "align_content": null,
       "align_items": null,
       "align_self": null,
       "border": null,
       "bottom": null,
       "display": null,
       "flex": null,
       "flex_flow": null,
       "grid_area": null,
       "grid_auto_columns": null,
       "grid_auto_flow": null,
       "grid_auto_rows": null,
       "grid_column": null,
       "grid_gap": null,
       "grid_row": null,
       "grid_template_areas": null,
       "grid_template_columns": null,
       "grid_template_rows": null,
       "height": null,
       "justify_content": null,
       "justify_items": null,
       "left": null,
       "margin": null,
       "max_height": null,
       "max_width": null,
       "min_height": null,
       "min_width": null,
       "object_fit": null,
       "object_position": null,
       "order": null,
       "overflow": null,
       "overflow_x": null,
       "overflow_y": null,
       "padding": null,
       "right": null,
       "top": null,
       "visibility": null,
       "width": null
      }
     },
     "f9e36a14f3a24b24b055a09d0b55e591": {
      "model_module": "@jupyter-widgets/controls",
      "model_module_version": "1.5.0",
      "model_name": "HTMLModel",
      "state": {
       "_dom_classes": [],
       "_model_module": "@jupyter-widgets/controls",
       "_model_module_version": "1.5.0",
       "_model_name": "HTMLModel",
       "_view_count": null,
       "_view_module": "@jupyter-widgets/controls",
       "_view_module_version": "1.5.0",
       "_view_name": "HTMLView",
       "description": "",
       "description_tooltip": null,
       "layout": "IPY_MODEL_33d12b68094e4b70a1a9b9a149de103e",
       "placeholder": "​",
       "style": "IPY_MODEL_1573fe1d32e24ee994fcb62020c82905",
       "value": " 500/500 [00:06]"
      }
     }
    },
    "version_major": 2,
    "version_minor": 0
   }
  }
 },
 "nbformat": 4,
 "nbformat_minor": 5
}
