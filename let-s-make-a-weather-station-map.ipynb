{
 "cells": [
  {
   "cell_type": "code",
   "execution_count": 1,
   "id": "a5ddc29e",
   "metadata": {
    "_cell_guid": "b1076dfc-b9ad-4769-8c92-a6c4dae69d19",
    "_uuid": "8f2839f25d086af736a60e9eeb907d3b93b6e0e5",
    "execution": {
     "iopub.execute_input": "2024-07-15T17:46:45.705122Z",
     "iopub.status.busy": "2024-07-15T17:46:45.704659Z",
     "iopub.status.idle": "2024-07-15T17:46:46.647902Z",
     "shell.execute_reply": "2024-07-15T17:46:46.646815Z"
    },
    "papermill": {
     "duration": 0.95009,
     "end_time": "2024-07-15T17:46:46.650650",
     "exception": false,
     "start_time": "2024-07-15T17:46:45.700560",
     "status": "completed"
    },
    "tags": []
   },
   "outputs": [
    {
     "data": {
      "text/html": [
       "<div>\n",
       "<style scoped>\n",
       "    .dataframe tbody tr th:only-of-type {\n",
       "        vertical-align: middle;\n",
       "    }\n",
       "\n",
       "    .dataframe tbody tr th {\n",
       "        vertical-align: top;\n",
       "    }\n",
       "\n",
       "    .dataframe thead th {\n",
       "        text-align: right;\n",
       "    }\n",
       "</style>\n",
       "<table border=\"1\" class=\"dataframe\">\n",
       "  <thead>\n",
       "    <tr style=\"text-align: right;\">\n",
       "      <th></th>\n",
       "      <th>X</th>\n",
       "      <th>Y</th>\n",
       "      <th>siteID</th>\n",
       "      <th>siteName</th>\n",
       "      <th>radarType</th>\n",
       "      <th>antennaElevation</th>\n",
       "    </tr>\n",
       "    <tr>\n",
       "      <th>OBJECTID</th>\n",
       "      <th></th>\n",
       "      <th></th>\n",
       "      <th></th>\n",
       "      <th></th>\n",
       "      <th></th>\n",
       "      <th></th>\n",
       "    </tr>\n",
       "  </thead>\n",
       "  <tbody>\n",
       "    <tr>\n",
       "      <th>1</th>\n",
       "      <td>-98.413046</td>\n",
       "      <td>45.455833</td>\n",
       "      <td>KABR</td>\n",
       "      <td>ABERDEEN</td>\n",
       "      <td>NEXRAD</td>\n",
       "      <td>Unknown</td>\n",
       "    </tr>\n",
       "    <tr>\n",
       "      <th>2</th>\n",
       "      <td>-106.823880</td>\n",
       "      <td>35.149722</td>\n",
       "      <td>KABX</td>\n",
       "      <td>ALBUQUERQUE</td>\n",
       "      <td>NEXRAD</td>\n",
       "      <td>Unknown</td>\n",
       "    </tr>\n",
       "    <tr>\n",
       "      <th>3</th>\n",
       "      <td>-77.007491</td>\n",
       "      <td>36.983889</td>\n",
       "      <td>KAKQ</td>\n",
       "      <td>NORFOLK</td>\n",
       "      <td>NEXRAD</td>\n",
       "      <td>Unknown</td>\n",
       "    </tr>\n",
       "    <tr>\n",
       "      <th>4</th>\n",
       "      <td>-101.709269</td>\n",
       "      <td>35.233333</td>\n",
       "      <td>KAMA</td>\n",
       "      <td>AMARILLO</td>\n",
       "      <td>NEXRAD</td>\n",
       "      <td>Unknown</td>\n",
       "    </tr>\n",
       "    <tr>\n",
       "      <th>5</th>\n",
       "      <td>-80.413048</td>\n",
       "      <td>25.610556</td>\n",
       "      <td>KAMX</td>\n",
       "      <td>MIAMI</td>\n",
       "      <td>NEXRAD</td>\n",
       "      <td>Unknown</td>\n",
       "    </tr>\n",
       "  </tbody>\n",
       "</table>\n",
       "</div>"
      ],
      "text/plain": [
       "                   X          Y siteID     siteName radarType antennaElevation\n",
       "OBJECTID                                                                      \n",
       "1         -98.413046  45.455833   KABR     ABERDEEN    NEXRAD          Unknown\n",
       "2        -106.823880  35.149722   KABX  ALBUQUERQUE    NEXRAD          Unknown\n",
       "3         -77.007491  36.983889   KAKQ      NORFOLK    NEXRAD          Unknown\n",
       "4        -101.709269  35.233333   KAMA     AMARILLO    NEXRAD          Unknown\n",
       "5         -80.413048  25.610556   KAMX        MIAMI    NEXRAD          Unknown"
      ]
     },
     "execution_count": 1,
     "metadata": {},
     "output_type": "execute_result"
    }
   ],
   "source": [
    "import pandas as pd\n",
    "\n",
    "DATA = '/kaggle/input/weather-radar-stations-dataset/Weather_Radar_Stations.csv'\n",
    "\n",
    "df = pd.read_csv(filepath_or_buffer=DATA, index_col=['OBJECTID'])\n",
    "df.head()"
   ]
  },
  {
   "cell_type": "code",
   "execution_count": 2,
   "id": "7350b32c",
   "metadata": {
    "execution": {
     "iopub.execute_input": "2024-07-15T17:46:46.657904Z",
     "iopub.status.busy": "2024-07-15T17:46:46.656921Z",
     "iopub.status.idle": "2024-07-15T17:46:46.670221Z",
     "shell.execute_reply": "2024-07-15T17:46:46.669044Z"
    },
    "papermill": {
     "duration": 0.019542,
     "end_time": "2024-07-15T17:46:46.672850",
     "exception": false,
     "start_time": "2024-07-15T17:46:46.653308",
     "status": "completed"
    },
    "tags": []
   },
   "outputs": [
    {
     "data": {
      "text/plain": [
       "X                   201\n",
       "Y                   201\n",
       "siteID              201\n",
       "siteName            201\n",
       "radarType             2\n",
       "antennaElevation     46\n",
       "dtype: int64"
      ]
     },
     "execution_count": 2,
     "metadata": {},
     "output_type": "execute_result"
    }
   ],
   "source": [
    "df.nunique()"
   ]
  },
  {
   "cell_type": "code",
   "execution_count": 3,
   "id": "05d48de1",
   "metadata": {
    "execution": {
     "iopub.execute_input": "2024-07-15T17:46:46.679901Z",
     "iopub.status.busy": "2024-07-15T17:46:46.678843Z",
     "iopub.status.idle": "2024-07-15T17:46:49.218847Z",
     "shell.execute_reply": "2024-07-15T17:46:49.217855Z"
    },
    "papermill": {
     "duration": 2.545982,
     "end_time": "2024-07-15T17:46:49.221225",
     "exception": false,
     "start_time": "2024-07-15T17:46:46.675243",
     "status": "completed"
    },
    "tags": []
   },
   "outputs": [
    {
     "data": {
      "text/html": [
       "        <script type=\"text/javascript\">\n",
       "        window.PlotlyConfig = {MathJaxConfig: 'local'};\n",
       "        if (window.MathJax && window.MathJax.Hub && window.MathJax.Hub.Config) {window.MathJax.Hub.Config({SVG: {font: \"STIX-Web\"}});}\n",
       "        if (typeof require !== 'undefined') {\n",
       "        require.undef(\"plotly\");\n",
       "        requirejs.config({\n",
       "            paths: {\n",
       "                'plotly': ['https://cdn.plot.ly/plotly-2.27.0.min']\n",
       "            }\n",
       "        });\n",
       "        require(['plotly'], function(Plotly) {\n",
       "            window._Plotly = Plotly;\n",
       "        });\n",
       "        }\n",
       "        </script>\n",
       "        "
      ]
     },
     "metadata": {},
     "output_type": "display_data"
    },
    {
     "data": {
      "text/html": [
       "<div>                            <div id=\"33134e18-d560-4b2c-80ba-43d55f18d512\" class=\"plotly-graph-div\" style=\"height:800px; width:100%;\"></div>            <script type=\"text/javascript\">                require([\"plotly\"], function(Plotly) {                    window.PLOTLYENV=window.PLOTLYENV || {};                                    if (document.getElementById(\"33134e18-d560-4b2c-80ba-43d55f18d512\")) {                    Plotly.newPlot(                        \"33134e18-d560-4b2c-80ba-43d55f18d512\",                        [{\"hovertemplate\":\"radarType=NEXRAD\\u003cbr\\u003eY=%{lat}\\u003cbr\\u003eX=%{lon}\\u003cextra\\u003e\\u003c\\u002fextra\\u003e\",\"lat\":[45.45583300028834,35.14972200006362,36.98388900017164,35.23333300007601,25.61055600002488,44.90635000031262,43.82277799977928,48.1946109997045,39.49611099985612,42.199693999875606,40.498333000263614,46.770832999919456,45.853777999786594,33.17194399993019,41.95577799967618,25.9155560000814,42.94861099982226,24.596943999597684,33.94861100035038,46.03916699986488,43.490216999930155,40.923055999811595,41.41305599967697,32.65552799973926,35.23833300007292,27.7838889998536,44.51111099975794,41.151943999856634,38.501111000333765,37.760833000285565,29.272499999989797,32.28000000000299,39.9469440002003,46.83694399987738,41.73111100024186,38.82555599965056,42.700000000098576,41.61166700011553,32.53833300016716,38.810250000272745,31.893611000129585,42.58655600026174,31.460556000161954,31.87305599994613,35.70111099976972,30.565033000250843,29.704056000061133,35.0977779997058,37.02416699968872,34.36219400012862,34.634166999966965,33.363333000331906,43.58777800014463,34.57433300004909,39.78663900030849,32.572777999984865,48.20636099985136,39.0622219998106,39.36694399977742,44.49863300003554,30.72166700022124,42.89388900003376,34.883306000012425,33.89691699989622,43.89130600027405,33.076999999823606,29.471943999874,36.31416700033585,36.73666699999054,34.93055600001506,37.65444399977814,37.59105000035414,39.42027799970908,40.15049999976126,39.707499999666645,36.174999999701605,33.289166999681164,41.35861100018917,30.48463300023064,32.675000000203724,37.59083300002964,33.65413899972689,30.12530599996184,30.33666700035197,41.957943999825126,41.60444400027902,40.73972199990344,38.69888900010228,33.98916699966468,37.975277999811176,34.83638899966696,31.9434609999009,42.0811109998768,48.392499999742334,34.775832999644834,42.96777799992352,28.11305600013008,30.679443999800544,44.84888899994974,46.53111099979717,36.16833300015273,47.04111099974899,41.26277800027009,37.15522200003819,47.52805599993784,32.536649999905926,32.91888900013359,35.34472199990683,41.320277999754616,36.247221999969085,40.86552799967326,47.68055599999107,37.06833300027592,40.531667000330074,45.69055600029191,31.15527800007248,38.45944399990428,35.66527799983389,39.75405599994858,43.06611100009047,38.31111099972604,45.71499999973645,43.10560000022544,37.23527799992045,32.450832999722174,31.37111099998089,33.81773299987678,35.29041699996427,27.705277999985217,47.459721999723925,30.39750000007696,35.33305599973466,38.99694400031649,43.75583299968564,44.124722000282325,40.32083300008307,30.89027800011805,34.83854999973565,36.74083300004101,34.411666999662934,38.26025000021109,32.495278000094345,56.85277800007507,64.51138900009849,60.72638899996625,59.46194399996297,58.67944400005676,65.03555600010002,13.45583299993349,21.893889000238534,20.125277999748203,21.13277799983716,19.09500000008936,18.115667000422945,38.97611099965927,60.79194399992972],\"legendgroup\":\"NEXRAD\",\"lon\":[-98.41304599968551,-106.82388000034348,-77.00749100011141,-101.70926899967584,-80.41304800004434,-84.7195229999189,-91.19110100001816,-122.4956840004155,-121.63165799998563,-75.98471299970323,-124.29215800038534,-100.76026800041522,-108.60679599991968,-86.76971299965425,-71.1368510003865,-97.41860300043052,-78.73693499979265,-81.70332499984426,-81.11860199998003,-67.80640700034621,-116.23602300004282,-78.00388000000346,-81.85999100034172,-81.04218600005602,-97.4599909996674,-97.51082499971244,-73.16637900029046,-104.80610200028843,-121.67782399987819,-99.96888000023473,-100.28026999989233,-89.98443599964142,-74.41071299978061,-92.20971199969091,-93.72285199970048,-75.4399910002772,-83.47165799972798,-90.58082399986404,-99.2541590000484,-94.26446300034696,-110.63026999979905,-74.06407400040126,-85.45938099974525,-106.69799199995708,-114.8913810003954,-85.92165900006027,-98.02860299967689,-117.56074100000072,-80.27415799983123,-98.9766590000047,-103.61888100010052,-84.56582499988247,-96.72887999996708,-111.19843499991978,-104.54579699984777,-97.30313099989945,-106.6246830004113,-108.21375200027317,-101.7002689998298,-88.11110100040696,-97.38276999965434,-85.54488000025427,-82.21982499989164,-88.32918599996093,-70.25635099987876,-106.1200239995511,-95.07888099987196,-119.63212999986789,-87.28499099986105,-86.08360299990733,-97.44304700013454,-112.86221300034154,-83.8216579999288,-89.33678300027688,-86.28026900011977,-95.56412999998025,-111.66999199974008,-85.69999099992698,-81.70189200011647,-83.35110299984102,-83.313047000215,-101.8141589997719,-93.21588100030195,-89.82540900020183,-100.57621200039227,-88.08443499988137,-116.80276899978116,-90.68276899996356,-78.42915899977821,-85.9438800000161,-92.26193599980601,-102.1892420000844,-122.71735199965046,-100.86443299988989,-76.8763809995536,-88.55054600012262,-80.65443599965259,-88.23971399978358,-93.5655180002796,-87.54832300031404,-83.40193500023625,-113.98610099972464,-112.44776899982344,-121.89843500002733,-97.32499000035534,-85.78974099993869,-117.04193600018942,-89.87332400018961,-96.36679600000654,-86.56249099984436,-72.86390800028806,-117.62582300000244,-88.77193499969833,-80.21793500010851,-118.85290699963798,-92.97582500013912,-104.18137999963587,-78.4899919999271,-119.46201899985294,-108.47728999969216,-81.72276900003304,-122.96499000000021,-112.68612299974671,-93.4002689996876,-93.8412419995656,-100.49221400028136,-117.63599100016069,-94.36188000003607,-82.40193600000073,-111.38526799970975,-84.3288810001207,-97.27775300023502,-96.23249100010528,-75.67998999964034,-102.82999000020288,-98.44193499995923,-83.00179800012438,-120.39790900040524,-98.12749099962689,-119.17860200005197,-87.72451900031574,-114.65668600032107,-135.529153999792,-165.29498400033864,-151.34915300041993,-146.3010969996647,-156.62943100035773,-147.4991510003578,144.81111800031755,-159.5524919996599,-155.77777099971993,-157.18026999955757,-155.56888100000563,-66.0781589996679,-77.48749100028412,-161.87637500035035],\"marker\":{\"color\":\"#636efa\"},\"mode\":\"markers\",\"name\":\"NEXRAD\",\"showlegend\":true,\"subplot\":\"mapbox\",\"type\":\"scattermapbox\"},{\"hovertemplate\":\"radarType=TDWR\\u003cbr\\u003eY=%{lat}\\u003cbr\\u003eX=%{lon}\\u003cextra\\u003e\\u003c\\u002fextra\\u003e\",\"lat\":[38.69499999987824,33.647000000017655,35.979999999726154,42.157999999669485,39.09000000004071,35.337000000027935,40.0060000002574,38.89799999966319,32.92600000001931,40.02200000030478,38.75900000027488,39.72800000001192,33.06500000012003,42.11100000027346,40.5929999999846,26.142999999752288,29.516000000244745,39.084000000008345,30.065000000238744,37.50700000034022,39.63700000027652,40.58900000008404,36.14400000012616,41.290000000039086,39.498000000125934,28.34400000010425,41.65100000009107,34.89599999997721,25.758000000247467,42.81899999981693,44.870999999861674,30.02199999965524,35.276000000113,41.796999999693675,26.68799999983929,39.94899999976752,33.420999999745774,40.50100000005048,36.0019999996387,38.046000000090416,18.473999999803123,40.966999999884685,38.80499999990989,27.86000000028215,36.07099999979706],\"legendgroup\":\"TDWR\",\"lon\":[-76.84499999991817,-84.26199999979502,-86.66199999976038,-70.9329999996472,-76.63000000010285,-80.88499999987485,-82.71500000030883,-84.5800000000442,-96.96799999962134,-84.12299999997705,-76.96199999971324,-104.52600000037987,-96.91799999997764,-83.51499999999783,-74.26999999985242,-80.34400000004696,-95.2419999997039,-77.52899999989484,-95.5669999996337,-97.43699999978264,-86.43599999993357,-73.88100000001934,-115.00700000034122,-82.00800000022657,-94.74199999967368,-81.32600000041532,-87.73000000005489,-89.9930000003677,-80.49099999962826,-88.04600000013866,-92.93300000007822,-90.40300000014093,-97.51000000043025,-87.8579999998614,-80.27299999956477,-75.06900000035705,-112.16299999958729,-80.48600000011302,-78.69700000037504,-85.60999999989085,-66.17899999992767,-111.93000000007984,-90.48900000006708,-82.51800000018552,-95.82699999957757],\"marker\":{\"color\":\"#EF553B\"},\"mode\":\"markers\",\"name\":\"TDWR\",\"showlegend\":true,\"subplot\":\"mapbox\",\"type\":\"scattermapbox\"}],                        {\"template\":{\"data\":{\"histogram2dcontour\":[{\"type\":\"histogram2dcontour\",\"colorbar\":{\"outlinewidth\":0,\"ticks\":\"\"},\"colorscale\":[[0.0,\"#0d0887\"],[0.1111111111111111,\"#46039f\"],[0.2222222222222222,\"#7201a8\"],[0.3333333333333333,\"#9c179e\"],[0.4444444444444444,\"#bd3786\"],[0.5555555555555556,\"#d8576b\"],[0.6666666666666666,\"#ed7953\"],[0.7777777777777778,\"#fb9f3a\"],[0.8888888888888888,\"#fdca26\"],[1.0,\"#f0f921\"]]}],\"choropleth\":[{\"type\":\"choropleth\",\"colorbar\":{\"outlinewidth\":0,\"ticks\":\"\"}}],\"histogram2d\":[{\"type\":\"histogram2d\",\"colorbar\":{\"outlinewidth\":0,\"ticks\":\"\"},\"colorscale\":[[0.0,\"#0d0887\"],[0.1111111111111111,\"#46039f\"],[0.2222222222222222,\"#7201a8\"],[0.3333333333333333,\"#9c179e\"],[0.4444444444444444,\"#bd3786\"],[0.5555555555555556,\"#d8576b\"],[0.6666666666666666,\"#ed7953\"],[0.7777777777777778,\"#fb9f3a\"],[0.8888888888888888,\"#fdca26\"],[1.0,\"#f0f921\"]]}],\"heatmap\":[{\"type\":\"heatmap\",\"colorbar\":{\"outlinewidth\":0,\"ticks\":\"\"},\"colorscale\":[[0.0,\"#0d0887\"],[0.1111111111111111,\"#46039f\"],[0.2222222222222222,\"#7201a8\"],[0.3333333333333333,\"#9c179e\"],[0.4444444444444444,\"#bd3786\"],[0.5555555555555556,\"#d8576b\"],[0.6666666666666666,\"#ed7953\"],[0.7777777777777778,\"#fb9f3a\"],[0.8888888888888888,\"#fdca26\"],[1.0,\"#f0f921\"]]}],\"heatmapgl\":[{\"type\":\"heatmapgl\",\"colorbar\":{\"outlinewidth\":0,\"ticks\":\"\"},\"colorscale\":[[0.0,\"#0d0887\"],[0.1111111111111111,\"#46039f\"],[0.2222222222222222,\"#7201a8\"],[0.3333333333333333,\"#9c179e\"],[0.4444444444444444,\"#bd3786\"],[0.5555555555555556,\"#d8576b\"],[0.6666666666666666,\"#ed7953\"],[0.7777777777777778,\"#fb9f3a\"],[0.8888888888888888,\"#fdca26\"],[1.0,\"#f0f921\"]]}],\"contourcarpet\":[{\"type\":\"contourcarpet\",\"colorbar\":{\"outlinewidth\":0,\"ticks\":\"\"}}],\"contour\":[{\"type\":\"contour\",\"colorbar\":{\"outlinewidth\":0,\"ticks\":\"\"},\"colorscale\":[[0.0,\"#0d0887\"],[0.1111111111111111,\"#46039f\"],[0.2222222222222222,\"#7201a8\"],[0.3333333333333333,\"#9c179e\"],[0.4444444444444444,\"#bd3786\"],[0.5555555555555556,\"#d8576b\"],[0.6666666666666666,\"#ed7953\"],[0.7777777777777778,\"#fb9f3a\"],[0.8888888888888888,\"#fdca26\"],[1.0,\"#f0f921\"]]}],\"surface\":[{\"type\":\"surface\",\"colorbar\":{\"outlinewidth\":0,\"ticks\":\"\"},\"colorscale\":[[0.0,\"#0d0887\"],[0.1111111111111111,\"#46039f\"],[0.2222222222222222,\"#7201a8\"],[0.3333333333333333,\"#9c179e\"],[0.4444444444444444,\"#bd3786\"],[0.5555555555555556,\"#d8576b\"],[0.6666666666666666,\"#ed7953\"],[0.7777777777777778,\"#fb9f3a\"],[0.8888888888888888,\"#fdca26\"],[1.0,\"#f0f921\"]]}],\"mesh3d\":[{\"type\":\"mesh3d\",\"colorbar\":{\"outlinewidth\":0,\"ticks\":\"\"}}],\"scatter\":[{\"fillpattern\":{\"fillmode\":\"overlay\",\"size\":10,\"solidity\":0.2},\"type\":\"scatter\"}],\"parcoords\":[{\"type\":\"parcoords\",\"line\":{\"colorbar\":{\"outlinewidth\":0,\"ticks\":\"\"}}}],\"scatterpolargl\":[{\"type\":\"scatterpolargl\",\"marker\":{\"colorbar\":{\"outlinewidth\":0,\"ticks\":\"\"}}}],\"bar\":[{\"error_x\":{\"color\":\"#2a3f5f\"},\"error_y\":{\"color\":\"#2a3f5f\"},\"marker\":{\"line\":{\"color\":\"#E5ECF6\",\"width\":0.5},\"pattern\":{\"fillmode\":\"overlay\",\"size\":10,\"solidity\":0.2}},\"type\":\"bar\"}],\"scattergeo\":[{\"type\":\"scattergeo\",\"marker\":{\"colorbar\":{\"outlinewidth\":0,\"ticks\":\"\"}}}],\"scatterpolar\":[{\"type\":\"scatterpolar\",\"marker\":{\"colorbar\":{\"outlinewidth\":0,\"ticks\":\"\"}}}],\"histogram\":[{\"marker\":{\"pattern\":{\"fillmode\":\"overlay\",\"size\":10,\"solidity\":0.2}},\"type\":\"histogram\"}],\"scattergl\":[{\"type\":\"scattergl\",\"marker\":{\"colorbar\":{\"outlinewidth\":0,\"ticks\":\"\"}}}],\"scatter3d\":[{\"type\":\"scatter3d\",\"line\":{\"colorbar\":{\"outlinewidth\":0,\"ticks\":\"\"}},\"marker\":{\"colorbar\":{\"outlinewidth\":0,\"ticks\":\"\"}}}],\"scattermapbox\":[{\"type\":\"scattermapbox\",\"marker\":{\"colorbar\":{\"outlinewidth\":0,\"ticks\":\"\"}}}],\"scatterternary\":[{\"type\":\"scatterternary\",\"marker\":{\"colorbar\":{\"outlinewidth\":0,\"ticks\":\"\"}}}],\"scattercarpet\":[{\"type\":\"scattercarpet\",\"marker\":{\"colorbar\":{\"outlinewidth\":0,\"ticks\":\"\"}}}],\"carpet\":[{\"aaxis\":{\"endlinecolor\":\"#2a3f5f\",\"gridcolor\":\"white\",\"linecolor\":\"white\",\"minorgridcolor\":\"white\",\"startlinecolor\":\"#2a3f5f\"},\"baxis\":{\"endlinecolor\":\"#2a3f5f\",\"gridcolor\":\"white\",\"linecolor\":\"white\",\"minorgridcolor\":\"white\",\"startlinecolor\":\"#2a3f5f\"},\"type\":\"carpet\"}],\"table\":[{\"cells\":{\"fill\":{\"color\":\"#EBF0F8\"},\"line\":{\"color\":\"white\"}},\"header\":{\"fill\":{\"color\":\"#C8D4E3\"},\"line\":{\"color\":\"white\"}},\"type\":\"table\"}],\"barpolar\":[{\"marker\":{\"line\":{\"color\":\"#E5ECF6\",\"width\":0.5},\"pattern\":{\"fillmode\":\"overlay\",\"size\":10,\"solidity\":0.2}},\"type\":\"barpolar\"}],\"pie\":[{\"automargin\":true,\"type\":\"pie\"}]},\"layout\":{\"autotypenumbers\":\"strict\",\"colorway\":[\"#636efa\",\"#EF553B\",\"#00cc96\",\"#ab63fa\",\"#FFA15A\",\"#19d3f3\",\"#FF6692\",\"#B6E880\",\"#FF97FF\",\"#FECB52\"],\"font\":{\"color\":\"#2a3f5f\"},\"hovermode\":\"closest\",\"hoverlabel\":{\"align\":\"left\"},\"paper_bgcolor\":\"white\",\"plot_bgcolor\":\"#E5ECF6\",\"polar\":{\"bgcolor\":\"#E5ECF6\",\"angularaxis\":{\"gridcolor\":\"white\",\"linecolor\":\"white\",\"ticks\":\"\"},\"radialaxis\":{\"gridcolor\":\"white\",\"linecolor\":\"white\",\"ticks\":\"\"}},\"ternary\":{\"bgcolor\":\"#E5ECF6\",\"aaxis\":{\"gridcolor\":\"white\",\"linecolor\":\"white\",\"ticks\":\"\"},\"baxis\":{\"gridcolor\":\"white\",\"linecolor\":\"white\",\"ticks\":\"\"},\"caxis\":{\"gridcolor\":\"white\",\"linecolor\":\"white\",\"ticks\":\"\"}},\"coloraxis\":{\"colorbar\":{\"outlinewidth\":0,\"ticks\":\"\"}},\"colorscale\":{\"sequential\":[[0.0,\"#0d0887\"],[0.1111111111111111,\"#46039f\"],[0.2222222222222222,\"#7201a8\"],[0.3333333333333333,\"#9c179e\"],[0.4444444444444444,\"#bd3786\"],[0.5555555555555556,\"#d8576b\"],[0.6666666666666666,\"#ed7953\"],[0.7777777777777778,\"#fb9f3a\"],[0.8888888888888888,\"#fdca26\"],[1.0,\"#f0f921\"]],\"sequentialminus\":[[0.0,\"#0d0887\"],[0.1111111111111111,\"#46039f\"],[0.2222222222222222,\"#7201a8\"],[0.3333333333333333,\"#9c179e\"],[0.4444444444444444,\"#bd3786\"],[0.5555555555555556,\"#d8576b\"],[0.6666666666666666,\"#ed7953\"],[0.7777777777777778,\"#fb9f3a\"],[0.8888888888888888,\"#fdca26\"],[1.0,\"#f0f921\"]],\"diverging\":[[0,\"#8e0152\"],[0.1,\"#c51b7d\"],[0.2,\"#de77ae\"],[0.3,\"#f1b6da\"],[0.4,\"#fde0ef\"],[0.5,\"#f7f7f7\"],[0.6,\"#e6f5d0\"],[0.7,\"#b8e186\"],[0.8,\"#7fbc41\"],[0.9,\"#4d9221\"],[1,\"#276419\"]]},\"xaxis\":{\"gridcolor\":\"white\",\"linecolor\":\"white\",\"ticks\":\"\",\"title\":{\"standoff\":15},\"zerolinecolor\":\"white\",\"automargin\":true,\"zerolinewidth\":2},\"yaxis\":{\"gridcolor\":\"white\",\"linecolor\":\"white\",\"ticks\":\"\",\"title\":{\"standoff\":15},\"zerolinecolor\":\"white\",\"automargin\":true,\"zerolinewidth\":2},\"scene\":{\"xaxis\":{\"backgroundcolor\":\"#E5ECF6\",\"gridcolor\":\"white\",\"linecolor\":\"white\",\"showbackground\":true,\"ticks\":\"\",\"zerolinecolor\":\"white\",\"gridwidth\":2},\"yaxis\":{\"backgroundcolor\":\"#E5ECF6\",\"gridcolor\":\"white\",\"linecolor\":\"white\",\"showbackground\":true,\"ticks\":\"\",\"zerolinecolor\":\"white\",\"gridwidth\":2},\"zaxis\":{\"backgroundcolor\":\"#E5ECF6\",\"gridcolor\":\"white\",\"linecolor\":\"white\",\"showbackground\":true,\"ticks\":\"\",\"zerolinecolor\":\"white\",\"gridwidth\":2}},\"shapedefaults\":{\"line\":{\"color\":\"#2a3f5f\"}},\"annotationdefaults\":{\"arrowcolor\":\"#2a3f5f\",\"arrowhead\":0,\"arrowwidth\":1},\"geo\":{\"bgcolor\":\"white\",\"landcolor\":\"#E5ECF6\",\"subunitcolor\":\"white\",\"showland\":true,\"showlakes\":true,\"lakecolor\":\"white\"},\"title\":{\"x\":0.05},\"mapbox\":{\"style\":\"light\"}}},\"mapbox\":{\"domain\":{\"x\":[0.0,1.0],\"y\":[0.0,1.0]},\"center\":{\"lat\":37.641142184063256,\"lon\":-95.3643769751148},\"zoom\":3.5,\"style\":\"open-street-map\"},\"legend\":{\"title\":{\"text\":\"radarType\"},\"tracegroupgap\":0},\"margin\":{\"t\":60},\"height\":800},                        {\"responsive\": true}                    ).then(function(){\n",
       "                            \n",
       "var gd = document.getElementById('33134e18-d560-4b2c-80ba-43d55f18d512');\n",
       "var x = new MutationObserver(function (mutations, observer) {{\n",
       "        var display = window.getComputedStyle(gd).display;\n",
       "        if (!display || display === 'none') {{\n",
       "            console.log([gd, 'removed!']);\n",
       "            Plotly.purge(gd);\n",
       "            observer.disconnect();\n",
       "        }}\n",
       "}});\n",
       "\n",
       "// Listen for the removal of the full notebook cells\n",
       "var notebookContainer = gd.closest('#notebook-container');\n",
       "if (notebookContainer) {{\n",
       "    x.observe(notebookContainer, {childList: true});\n",
       "}}\n",
       "\n",
       "// Listen for the clearing of the current output cell\n",
       "var outputEl = gd.closest('.output');\n",
       "if (outputEl) {{\n",
       "    x.observe(outputEl, {childList: true});\n",
       "}}\n",
       "\n",
       "                        })                };                });            </script>        </div>"
      ]
     },
     "metadata": {},
     "output_type": "display_data"
    }
   ],
   "source": [
    "import warnings\n",
    "from plotly import express\n",
    "\n",
    "warnings.filterwarnings(action='ignore', category=FutureWarning)\n",
    "express.scatter_mapbox(data_frame=df, lat='Y', lon='X', mapbox_style='open-street-map', color='radarType', zoom=3.5, height=800)"
   ]
  }
 ],
 "metadata": {
  "kaggle": {
   "accelerator": "none",
   "dataSources": [
    {
     "datasetId": 5372889,
     "sourceId": 8931321,
     "sourceType": "datasetVersion"
    }
   ],
   "dockerImageVersionId": 30746,
   "isGpuEnabled": false,
   "isInternetEnabled": true,
   "language": "python",
   "sourceType": "notebook"
  },
  "kernelspec": {
   "display_name": "Python 3",
   "language": "python",
   "name": "python3"
  },
  "language_info": {
   "codemirror_mode": {
    "name": "ipython",
    "version": 3
   },
   "file_extension": ".py",
   "mimetype": "text/x-python",
   "name": "python",
   "nbconvert_exporter": "python",
   "pygments_lexer": "ipython3",
   "version": "3.10.13"
  },
  "papermill": {
   "default_parameters": {},
   "duration": 6.96025,
   "end_time": "2024-07-15T17:46:49.845469",
   "environment_variables": {},
   "exception": null,
   "input_path": "__notebook__.ipynb",
   "output_path": "__notebook__.ipynb",
   "parameters": {},
   "start_time": "2024-07-15T17:46:42.885219",
   "version": "2.5.0"
  }
 },
 "nbformat": 4,
 "nbformat_minor": 5
}
