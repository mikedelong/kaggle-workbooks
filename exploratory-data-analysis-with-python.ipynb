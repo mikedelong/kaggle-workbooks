{
 "cells": [
  {
   "cell_type": "code",
   "execution_count": 1,
   "id": "8c65212b",
   "metadata": {
    "_cell_guid": "b1076dfc-b9ad-4769-8c92-a6c4dae69d19",
    "_uuid": "8f2839f25d086af736a60e9eeb907d3b93b6e0e5",
    "execution": {
     "iopub.execute_input": "2023-07-28T16:54:43.885613Z",
     "iopub.status.busy": "2023-07-28T16:54:43.885193Z",
     "iopub.status.idle": "2023-07-28T16:54:43.982758Z",
     "shell.execute_reply": "2023-07-28T16:54:43.981328Z"
    },
    "papermill": {
     "duration": 0.105658,
     "end_time": "2023-07-28T16:54:43.986320",
     "exception": false,
     "start_time": "2023-07-28T16:54:43.880662",
     "status": "completed"
    },
    "tags": []
   },
   "outputs": [
    {
     "data": {
      "text/html": [
       "<div>\n",
       "<style scoped>\n",
       "    .dataframe tbody tr th:only-of-type {\n",
       "        vertical-align: middle;\n",
       "    }\n",
       "\n",
       "    .dataframe tbody tr th {\n",
       "        vertical-align: top;\n",
       "    }\n",
       "\n",
       "    .dataframe thead th {\n",
       "        text-align: right;\n",
       "    }\n",
       "</style>\n",
       "<table border=\"1\" class=\"dataframe\">\n",
       "  <thead>\n",
       "    <tr style=\"text-align: right;\">\n",
       "      <th></th>\n",
       "      <th>event_id</th>\n",
       "      <th>link</th>\n",
       "      <th>title</th>\n",
       "      <th>date</th>\n",
       "      <th>state</th>\n",
       "      <th>deaths</th>\n",
       "      <th>potential_death</th>\n",
       "      <th>false_alarm</th>\n",
       "      <th>description</th>\n",
       "      <th>deaths_binary</th>\n",
       "      <th>break</th>\n",
       "      <th>filename</th>\n",
       "    </tr>\n",
       "    <tr>\n",
       "      <th>id</th>\n",
       "      <th></th>\n",
       "      <th></th>\n",
       "      <th></th>\n",
       "      <th></th>\n",
       "      <th></th>\n",
       "      <th></th>\n",
       "      <th></th>\n",
       "      <th></th>\n",
       "      <th></th>\n",
       "      <th></th>\n",
       "      <th></th>\n",
       "      <th></th>\n",
       "    </tr>\n",
       "  </thead>\n",
       "  <tbody>\n",
       "    <tr>\n",
       "      <th>0</th>\n",
       "      <td>2</td>\n",
       "      <td>https://web.archive.org/web/20150417085342/htt...</td>\n",
       "      <td>Detroit Child’s 911 Call – audio</td>\n",
       "      <td>2/06</td>\n",
       "      <td>Michigan</td>\n",
       "      <td>1.0</td>\n",
       "      <td>1.0</td>\n",
       "      <td>0.0</td>\n",
       "      <td>– In Feb. 2006 5 year-old Robert Turner called...</td>\n",
       "      <td>1</td>\n",
       "      <td>13.0</td>\n",
       "      <td>911_first6sec/call_2_0.wav</td>\n",
       "    </tr>\n",
       "    <tr>\n",
       "      <th>1</th>\n",
       "      <td>8</td>\n",
       "      <td>https://web.archive.org/web/20150417085342/htt...</td>\n",
       "      <td>Girl’s Murder 911 Call</td>\n",
       "      <td>3/05</td>\n",
       "      <td>Florida</td>\n",
       "      <td>2.0</td>\n",
       "      <td>1.0</td>\n",
       "      <td>0.0</td>\n",
       "      <td>– the 911 call of a lifetime. Volusia County (...</td>\n",
       "      <td>1</td>\n",
       "      <td>3.0</td>\n",
       "      <td>911_first6sec/call_8_0.wav</td>\n",
       "    </tr>\n",
       "    <tr>\n",
       "      <th>2</th>\n",
       "      <td>9</td>\n",
       "      <td>https://web.archive.org/web/20150417085342/htt...</td>\n",
       "      <td>‘Shoot Her?’ 911 call</td>\n",
       "      <td>4/05</td>\n",
       "      <td>Texas</td>\n",
       "      <td>0.0</td>\n",
       "      <td>0.0</td>\n",
       "      <td>1.0</td>\n",
       "      <td>– caller reports her daughter is creating a di...</td>\n",
       "      <td>0</td>\n",
       "      <td>2.0</td>\n",
       "      <td>911_first6sec/call_9_0.wav</td>\n",
       "    </tr>\n",
       "    <tr>\n",
       "      <th>3</th>\n",
       "      <td>10</td>\n",
       "      <td>https://web.archive.org/web/20150417085342/htt...</td>\n",
       "      <td>Snowstorm 911 Call</td>\n",
       "      <td>1/05</td>\n",
       "      <td>Nebraska</td>\n",
       "      <td>2.0</td>\n",
       "      <td>1.0</td>\n",
       "      <td>0.0</td>\n",
       "      <td>– a couple under the influence of drugs dialed...</td>\n",
       "      <td>1</td>\n",
       "      <td>0.0</td>\n",
       "      <td>911_first6sec/call_10_0.wav</td>\n",
       "    </tr>\n",
       "    <tr>\n",
       "      <th>4</th>\n",
       "      <td>11</td>\n",
       "      <td>https://web.archive.org/web/20150417085342/htt...</td>\n",
       "      <td>911 Call for a Date</td>\n",
       "      <td>1/06</td>\n",
       "      <td>Oregon</td>\n",
       "      <td>0.0</td>\n",
       "      <td>0.0</td>\n",
       "      <td>1.0</td>\n",
       "      <td>– Lorna Jeanne Dudash in Aloha (Ore.) dialed 9...</td>\n",
       "      <td>0</td>\n",
       "      <td>2.0</td>\n",
       "      <td>911_first6sec/call_11_0.wav</td>\n",
       "    </tr>\n",
       "  </tbody>\n",
       "</table>\n",
       "</div>"
      ],
      "text/plain": [
       "    event_id                                               link  \\\n",
       "id                                                                \n",
       "0          2  https://web.archive.org/web/20150417085342/htt...   \n",
       "1          8  https://web.archive.org/web/20150417085342/htt...   \n",
       "2          9  https://web.archive.org/web/20150417085342/htt...   \n",
       "3         10  https://web.archive.org/web/20150417085342/htt...   \n",
       "4         11  https://web.archive.org/web/20150417085342/htt...   \n",
       "\n",
       "                               title  date     state  deaths  potential_death  \\\n",
       "id                                                                              \n",
       "0   Detroit Child’s 911 Call – audio  2/06  Michigan     1.0              1.0   \n",
       "1             Girl’s Murder 911 Call  3/05   Florida     2.0              1.0   \n",
       "2              ‘Shoot Her?’ 911 call  4/05     Texas     0.0              0.0   \n",
       "3                 Snowstorm 911 Call  1/05  Nebraska     2.0              1.0   \n",
       "4                911 Call for a Date  1/06    Oregon     0.0              0.0   \n",
       "\n",
       "    false_alarm                                        description  \\\n",
       "id                                                                   \n",
       "0           0.0  – In Feb. 2006 5 year-old Robert Turner called...   \n",
       "1           0.0  – the 911 call of a lifetime. Volusia County (...   \n",
       "2           1.0  – caller reports her daughter is creating a di...   \n",
       "3           0.0  – a couple under the influence of drugs dialed...   \n",
       "4           1.0  – Lorna Jeanne Dudash in Aloha (Ore.) dialed 9...   \n",
       "\n",
       "    deaths_binary  break                     filename  \n",
       "id                                                     \n",
       "0               1   13.0   911_first6sec/call_2_0.wav  \n",
       "1               1    3.0   911_first6sec/call_8_0.wav  \n",
       "2               0    2.0   911_first6sec/call_9_0.wav  \n",
       "3               1    0.0  911_first6sec/call_10_0.wav  \n",
       "4               0    2.0  911_first6sec/call_11_0.wav  "
      ]
     },
     "execution_count": 1,
     "metadata": {},
     "output_type": "execute_result"
    }
   ],
   "source": [
    "import pandas as pd # data processing, CSV file I/O (e.g. pd.read_csv)\n",
    "df = pd.read_csv(filepath_or_buffer='../input/911-recordings-first-6-seconds/911_first6sec/911_metadata.csv', index_col=[0])\n",
    "df.head()"
   ]
  },
  {
   "cell_type": "code",
   "execution_count": 2,
   "id": "a2bd145f",
   "metadata": {
    "execution": {
     "iopub.execute_input": "2023-07-28T16:54:43.994324Z",
     "iopub.status.busy": "2023-07-28T16:54:43.993888Z",
     "iopub.status.idle": "2023-07-28T16:54:44.000309Z",
     "shell.execute_reply": "2023-07-28T16:54:43.999342Z"
    },
    "papermill": {
     "duration": 0.0133,
     "end_time": "2023-07-28T16:54:44.002703",
     "exception": false,
     "start_time": "2023-07-28T16:54:43.989403",
     "status": "completed"
    },
    "tags": []
   },
   "outputs": [
    {
     "data": {
      "text/plain": [
       "(710, 12)"
      ]
     },
     "execution_count": 2,
     "metadata": {},
     "output_type": "execute_result"
    }
   ],
   "source": [
    "df.shape"
   ]
  },
  {
   "cell_type": "code",
   "execution_count": 3,
   "id": "be2b13a5",
   "metadata": {
    "execution": {
     "iopub.execute_input": "2023-07-28T16:54:44.010769Z",
     "iopub.status.busy": "2023-07-28T16:54:44.010256Z",
     "iopub.status.idle": "2023-07-28T16:54:44.028635Z",
     "shell.execute_reply": "2023-07-28T16:54:44.027614Z"
    },
    "papermill": {
     "duration": 0.025316,
     "end_time": "2023-07-28T16:54:44.031141",
     "exception": false,
     "start_time": "2023-07-28T16:54:44.005825",
     "status": "completed"
    },
    "tags": []
   },
   "outputs": [
    {
     "data": {
      "text/plain": [
       "event_id           644\n",
       "link               644\n",
       "title              467\n",
       "date               112\n",
       "state               43\n",
       "deaths              14\n",
       "potential_death      2\n",
       "false_alarm          2\n",
       "description        637\n",
       "deaths_binary        2\n",
       "break              112\n",
       "filename           707\n",
       "dtype: int64"
      ]
     },
     "execution_count": 3,
     "metadata": {},
     "output_type": "execute_result"
    }
   ],
   "source": [
    "df.nunique()"
   ]
  }
 ],
 "metadata": {
  "kernelspec": {
   "display_name": "Python 3",
   "language": "python",
   "name": "python3"
  },
  "language_info": {
   "codemirror_mode": {
    "name": "ipython",
    "version": 3
   },
   "file_extension": ".py",
   "mimetype": "text/x-python",
   "name": "python",
   "nbconvert_exporter": "python",
   "pygments_lexer": "ipython3",
   "version": "3.10.12"
  },
  "papermill": {
   "default_parameters": {},
   "duration": 13.78813,
   "end_time": "2023-07-28T16:54:44.958060",
   "environment_variables": {},
   "exception": null,
   "input_path": "__notebook__.ipynb",
   "output_path": "__notebook__.ipynb",
   "parameters": {},
   "start_time": "2023-07-28T16:54:31.169930",
   "version": "2.4.0"
  }
 },
 "nbformat": 4,
 "nbformat_minor": 5
}
