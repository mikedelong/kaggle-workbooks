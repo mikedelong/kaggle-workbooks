{
 "cells": [
  {
   "cell_type": "code",
   "execution_count": 1,
   "id": "c40e589b",
   "metadata": {
    "_cell_guid": "b1076dfc-b9ad-4769-8c92-a6c4dae69d19",
    "_uuid": "8f2839f25d086af736a60e9eeb907d3b93b6e0e5",
    "execution": {
     "iopub.execute_input": "2025-02-19T22:35:47.265966Z",
     "iopub.status.busy": "2025-02-19T22:35:47.265290Z",
     "iopub.status.idle": "2025-02-19T22:37:27.515900Z",
     "shell.execute_reply": "2025-02-19T22:37:27.514753Z"
    },
    "papermill": {
     "duration": 100.258415,
     "end_time": "2025-02-19T22:37:27.518096",
     "exception": false,
     "start_time": "2025-02-19T22:35:47.259681",
     "status": "completed"
    },
    "tags": []
   },
   "outputs": [
    {
     "name": "stderr",
     "output_type": "stream",
     "text": [
      "<ipython-input-1-523fad4bb78a>:4: DtypeWarning: Columns (0) have mixed types. Specify dtype option on import or set low_memory=False.\n",
      "  df = pd.read_csv(filepath_or_buffer=DATA, parse_dates=['RPT_DT'])\n"
     ]
    },
    {
     "data": {
      "text/plain": [
       "(8914838, 36)"
      ]
     },
     "execution_count": 1,
     "metadata": {},
     "output_type": "execute_result"
    }
   ],
   "source": [
    "import pandas as pd\n",
    "\n",
    "DATA = '/kaggle/input/nypd-complaint-data-historic/NYPD_Complaint_Data_Historic.csv'\n",
    "df = pd.read_csv(filepath_or_buffer=DATA, parse_dates=['RPT_DT'])\n",
    "df['year'] = df['RPT_DT'].dt.year\n",
    "df.shape"
   ]
  },
  {
   "cell_type": "markdown",
   "id": "adaaa5a3",
   "metadata": {
    "papermill": {
     "duration": 0.003778,
     "end_time": "2025-02-19T22:37:27.526312",
     "exception": false,
     "start_time": "2025-02-19T22:37:27.522534",
     "status": "completed"
    },
    "tags": []
   },
   "source": [
    "We have so many records let's just look at one year's worth."
   ]
  },
  {
   "cell_type": "code",
   "execution_count": 2,
   "id": "fe6a78aa",
   "metadata": {
    "execution": {
     "iopub.execute_input": "2025-02-19T22:37:27.535447Z",
     "iopub.status.busy": "2025-02-19T22:37:27.535045Z",
     "iopub.status.idle": "2025-02-19T22:37:27.725277Z",
     "shell.execute_reply": "2025-02-19T22:37:27.724183Z"
    },
    "papermill": {
     "duration": 0.197025,
     "end_time": "2025-02-19T22:37:27.727248",
     "exception": false,
     "start_time": "2025-02-19T22:37:27.530223",
     "status": "completed"
    },
    "tags": []
   },
   "outputs": [],
   "source": [
    "year_df = df[df['year'] == 2023]"
   ]
  },
  {
   "cell_type": "code",
   "execution_count": 3,
   "id": "38839210",
   "metadata": {
    "execution": {
     "iopub.execute_input": "2025-02-19T22:37:27.736665Z",
     "iopub.status.busy": "2025-02-19T22:37:27.736249Z",
     "iopub.status.idle": "2025-02-19T22:37:27.829982Z",
     "shell.execute_reply": "2025-02-19T22:37:27.828817Z"
    },
    "papermill": {
     "duration": 0.100434,
     "end_time": "2025-02-19T22:37:27.831894",
     "exception": false,
     "start_time": "2025-02-19T22:37:27.731460",
     "status": "completed"
    },
    "tags": []
   },
   "outputs": [
    {
     "data": {
      "text/html": [
       "<div>\n",
       "<style scoped>\n",
       "    .dataframe tbody tr th:only-of-type {\n",
       "        vertical-align: middle;\n",
       "    }\n",
       "\n",
       "    .dataframe tbody tr th {\n",
       "        vertical-align: top;\n",
       "    }\n",
       "\n",
       "    .dataframe thead th {\n",
       "        text-align: right;\n",
       "    }\n",
       "</style>\n",
       "<table border=\"1\" class=\"dataframe\">\n",
       "  <thead>\n",
       "    <tr style=\"text-align: right;\">\n",
       "      <th>year</th>\n",
       "      <th>2006</th>\n",
       "      <th>2007</th>\n",
       "      <th>2008</th>\n",
       "      <th>2009</th>\n",
       "      <th>2010</th>\n",
       "      <th>2011</th>\n",
       "      <th>2012</th>\n",
       "      <th>2013</th>\n",
       "      <th>2014</th>\n",
       "      <th>2015</th>\n",
       "      <th>2016</th>\n",
       "      <th>2017</th>\n",
       "      <th>2018</th>\n",
       "      <th>2019</th>\n",
       "      <th>2020</th>\n",
       "      <th>2021</th>\n",
       "      <th>2022</th>\n",
       "      <th>2023</th>\n",
       "    </tr>\n",
       "  </thead>\n",
       "  <tbody>\n",
       "    <tr>\n",
       "      <th>count</th>\n",
       "      <td>530891</td>\n",
       "      <td>536330</td>\n",
       "      <td>529973</td>\n",
       "      <td>512985</td>\n",
       "      <td>509731</td>\n",
       "      <td>498589</td>\n",
       "      <td>504351</td>\n",
       "      <td>497264</td>\n",
       "      <td>491332</td>\n",
       "      <td>478583</td>\n",
       "      <td>478934</td>\n",
       "      <td>469017</td>\n",
       "      <td>464138</td>\n",
       "      <td>461926</td>\n",
       "      <td>413639</td>\n",
       "      <td>450042</td>\n",
       "      <td>531996</td>\n",
       "      <td>555117</td>\n",
       "    </tr>\n",
       "  </tbody>\n",
       "</table>\n",
       "</div>"
      ],
      "text/plain": [
       "year     2006    2007    2008    2009    2010    2011    2012    2013    2014  \\\n",
       "count  530891  536330  529973  512985  509731  498589  504351  497264  491332   \n",
       "\n",
       "year     2015    2016    2017    2018    2019    2020    2021    2022    2023  \n",
       "count  478583  478934  469017  464138  461926  413639  450042  531996  555117  "
      ]
     },
     "execution_count": 3,
     "metadata": {},
     "output_type": "execute_result"
    }
   ],
   "source": [
    "df['year'].value_counts().sort_index().to_frame().T"
   ]
  },
  {
   "cell_type": "markdown",
   "id": "8af18ee2",
   "metadata": {
    "papermill": {
     "duration": 0.003653,
     "end_time": "2025-02-19T22:37:27.839899",
     "exception": false,
     "start_time": "2025-02-19T22:37:27.836246",
     "status": "completed"
    },
    "tags": []
   },
   "source": [
    "Let's make a map of our one year of data. A half-million points is too many to plot on an interactive map, so we have to take a sample."
   ]
  },
  {
   "cell_type": "code",
   "execution_count": 4,
   "id": "e0ec1c68",
   "metadata": {
    "execution": {
     "iopub.execute_input": "2025-02-19T22:37:27.848956Z",
     "iopub.status.busy": "2025-02-19T22:37:27.848609Z",
     "iopub.status.idle": "2025-02-19T22:37:31.189069Z",
     "shell.execute_reply": "2025-02-19T22:37:31.187769Z"
    },
    "papermill": {
     "duration": 3.347394,
     "end_time": "2025-02-19T22:37:31.191164",
     "exception": false,
     "start_time": "2025-02-19T22:37:27.843770",
     "status": "completed"
    },
    "tags": []
   },
   "outputs": [
    {
     "data": {
      "text/html": [
       "<iframe\n",
       "    scrolling=\"no\"\n",
       "    width=\"100%\"\n",
       "    height=\"820\"\n",
       "    src=\"iframe_figures/figure_4.html\"\n",
       "    frameborder=\"0\"\n",
       "    allowfullscreen\n",
       "></iframe>\n"
      ]
     },
     "metadata": {},
     "output_type": "display_data"
    }
   ],
   "source": [
    "from plotly import express\n",
    "from plotly import io\n",
    "\n",
    "io.renderers.default = 'iframe'\n",
    "express.scatter_mapbox(mapbox_style='open-street-map', lat='Latitude', lon='Longitude', color='BORO_NM', data_frame=year_df.sample(n=5000), height=800, zoom=10)"
   ]
  },
  {
   "cell_type": "markdown",
   "id": "995f2f93",
   "metadata": {
    "papermill": {
     "duration": 0.003876,
     "end_time": "2025-02-19T22:37:31.200363",
     "exception": false,
     "start_time": "2025-02-19T22:37:31.196487",
     "status": "completed"
    },
    "tags": []
   },
   "source": [
    "We can see the boroughs pretty clearly. Let's plot by jurisdiction."
   ]
  },
  {
   "cell_type": "code",
   "execution_count": 5,
   "id": "d24f3d5f",
   "metadata": {
    "execution": {
     "iopub.execute_input": "2025-02-19T22:37:31.210343Z",
     "iopub.status.busy": "2025-02-19T22:37:31.209955Z",
     "iopub.status.idle": "2025-02-19T22:37:31.342808Z",
     "shell.execute_reply": "2025-02-19T22:37:31.341821Z"
    },
    "papermill": {
     "duration": 0.140121,
     "end_time": "2025-02-19T22:37:31.344665",
     "exception": false,
     "start_time": "2025-02-19T22:37:31.204544",
     "status": "completed"
    },
    "tags": []
   },
   "outputs": [
    {
     "data": {
      "text/html": [
       "<iframe\n",
       "    scrolling=\"no\"\n",
       "    width=\"100%\"\n",
       "    height=\"820\"\n",
       "    src=\"iframe_figures/figure_5.html\"\n",
       "    frameborder=\"0\"\n",
       "    allowfullscreen\n",
       "></iframe>\n"
      ]
     },
     "metadata": {},
     "output_type": "display_data"
    }
   ],
   "source": [
    "express.scatter_mapbox(mapbox_style='open-street-map', lat='Latitude', lon='Longitude', color='KY_CD', data_frame=year_df.sample(n=5000), height=800, zoom=10)"
   ]
  },
  {
   "cell_type": "code",
   "execution_count": 6,
   "id": "3af63c29",
   "metadata": {
    "execution": {
     "iopub.execute_input": "2025-02-19T22:37:31.354725Z",
     "iopub.status.busy": "2025-02-19T22:37:31.354286Z",
     "iopub.status.idle": "2025-02-19T22:37:31.459239Z",
     "shell.execute_reply": "2025-02-19T22:37:31.457972Z"
    },
    "papermill": {
     "duration": 0.111925,
     "end_time": "2025-02-19T22:37:31.461077",
     "exception": false,
     "start_time": "2025-02-19T22:37:31.349152",
     "status": "completed"
    },
    "tags": []
   },
   "outputs": [
    {
     "data": {
      "text/html": [
       "<iframe\n",
       "    scrolling=\"no\"\n",
       "    width=\"100%\"\n",
       "    height=\"820\"\n",
       "    src=\"iframe_figures/figure_6.html\"\n",
       "    frameborder=\"0\"\n",
       "    allowfullscreen\n",
       "></iframe>\n"
      ]
     },
     "metadata": {},
     "output_type": "display_data"
    }
   ],
   "source": [
    "express.scatter_mapbox(mapbox_style='open-street-map', lat='Latitude', lon='Longitude', color='PD_CD', data_frame=year_df.sample(n=5000), height=800, zoom=10)"
   ]
  },
  {
   "cell_type": "markdown",
   "id": "0108ab89",
   "metadata": {
    "papermill": {
     "duration": 0.003885,
     "end_time": "2025-02-19T22:37:31.469473",
     "exception": false,
     "start_time": "2025-02-19T22:37:31.465588",
     "status": "completed"
    },
    "tags": []
   },
   "source": [
    "What are our top crimes by code?"
   ]
  },
  {
   "cell_type": "code",
   "execution_count": 7,
   "id": "26149d4f",
   "metadata": {
    "execution": {
     "iopub.execute_input": "2025-02-19T22:37:31.479299Z",
     "iopub.status.busy": "2025-02-19T22:37:31.478897Z",
     "iopub.status.idle": "2025-02-19T22:37:31.500884Z",
     "shell.execute_reply": "2025-02-19T22:37:31.499843Z"
    },
    "papermill": {
     "duration": 0.028951,
     "end_time": "2025-02-19T22:37:31.502669",
     "exception": false,
     "start_time": "2025-02-19T22:37:31.473718",
     "status": "completed"
    },
    "tags": []
   },
   "outputs": [
    {
     "data": {
      "text/html": [
       "<div>\n",
       "<style scoped>\n",
       "    .dataframe tbody tr th:only-of-type {\n",
       "        vertical-align: middle;\n",
       "    }\n",
       "\n",
       "    .dataframe tbody tr th {\n",
       "        vertical-align: top;\n",
       "    }\n",
       "\n",
       "    .dataframe thead th {\n",
       "        text-align: right;\n",
       "    }\n",
       "</style>\n",
       "<table border=\"1\" class=\"dataframe\">\n",
       "  <thead>\n",
       "    <tr style=\"text-align: right;\">\n",
       "      <th>PD_CD</th>\n",
       "      <th>638.0</th>\n",
       "      <th>333.0</th>\n",
       "      <th>101.0</th>\n",
       "      <th>109.0</th>\n",
       "      <th>637.0</th>\n",
       "      <th>639.0</th>\n",
       "      <th>922.0</th>\n",
       "      <th>259.0</th>\n",
       "      <th>441.0</th>\n",
       "      <th>198.0</th>\n",
       "    </tr>\n",
       "  </thead>\n",
       "  <tbody>\n",
       "    <tr>\n",
       "      <th>count</th>\n",
       "      <td>64807</td>\n",
       "      <td>51234</td>\n",
       "      <td>44137</td>\n",
       "      <td>20770</td>\n",
       "      <td>19147</td>\n",
       "      <td>16548</td>\n",
       "      <td>13683</td>\n",
       "      <td>12389</td>\n",
       "      <td>11429</td>\n",
       "      <td>10892</td>\n",
       "    </tr>\n",
       "  </tbody>\n",
       "</table>\n",
       "</div>"
      ],
      "text/plain": [
       "PD_CD  638.0  333.0  101.0  109.0  637.0  639.0  922.0  259.0  441.0  198.0\n",
       "count  64807  51234  44137  20770  19147  16548  13683  12389  11429  10892"
      ]
     },
     "execution_count": 7,
     "metadata": {},
     "output_type": "execute_result"
    }
   ],
   "source": [
    "year_df['PD_CD'].value_counts().head(n=10).to_frame().T"
   ]
  },
  {
   "cell_type": "markdown",
   "id": "b1c344f1",
   "metadata": {
    "papermill": {
     "duration": 0.004087,
     "end_time": "2025-02-19T22:37:31.511359",
     "exception": false,
     "start_time": "2025-02-19T22:37:31.507272",
     "status": "completed"
    },
    "tags": []
   },
   "source": [
    "What are they by name?"
   ]
  },
  {
   "cell_type": "code",
   "execution_count": 8,
   "id": "bcaad000",
   "metadata": {
    "execution": {
     "iopub.execute_input": "2025-02-19T22:37:31.522802Z",
     "iopub.status.busy": "2025-02-19T22:37:31.522344Z",
     "iopub.status.idle": "2025-02-19T22:37:31.578073Z",
     "shell.execute_reply": "2025-02-19T22:37:31.576922Z"
    },
    "papermill": {
     "duration": 0.062658,
     "end_time": "2025-02-19T22:37:31.579743",
     "exception": false,
     "start_time": "2025-02-19T22:37:31.517085",
     "status": "completed"
    },
    "tags": []
   },
   "outputs": [
    {
     "data": {
      "text/html": [
       "<div>\n",
       "<style scoped>\n",
       "    .dataframe tbody tr th:only-of-type {\n",
       "        vertical-align: middle;\n",
       "    }\n",
       "\n",
       "    .dataframe tbody tr th {\n",
       "        vertical-align: top;\n",
       "    }\n",
       "\n",
       "    .dataframe thead th {\n",
       "        text-align: right;\n",
       "    }\n",
       "</style>\n",
       "<table border=\"1\" class=\"dataframe\">\n",
       "  <thead>\n",
       "    <tr style=\"text-align: right;\">\n",
       "      <th>PD_DESC</th>\n",
       "      <th>HARASSMENT,SUBD 3,4,5</th>\n",
       "      <th>LARCENY,PETIT FROM STORE-SHOPL</th>\n",
       "      <th>ASSAULT 3</th>\n",
       "      <th>ASSAULT 2,1,UNCLASSIFIED</th>\n",
       "      <th>HARASSMENT,SUBD 1,CIVILIAN</th>\n",
       "      <th>AGGRAVATED HARASSMENT 2</th>\n",
       "      <th>TRAFFIC,UNCLASSIFIED MISDEMEAN</th>\n",
       "      <th>CRIMINAL MISCHIEF,UNCLASSIFIED 4</th>\n",
       "      <th>LARCENY,GRAND OF AUTO</th>\n",
       "      <th>CRIMINAL CONTEMPT 1</th>\n",
       "    </tr>\n",
       "  </thead>\n",
       "  <tbody>\n",
       "    <tr>\n",
       "      <th>count</th>\n",
       "      <td>64807</td>\n",
       "      <td>51234</td>\n",
       "      <td>44137</td>\n",
       "      <td>20770</td>\n",
       "      <td>19147</td>\n",
       "      <td>16548</td>\n",
       "      <td>13683</td>\n",
       "      <td>12389</td>\n",
       "      <td>11429</td>\n",
       "      <td>10892</td>\n",
       "    </tr>\n",
       "  </tbody>\n",
       "</table>\n",
       "</div>"
      ],
      "text/plain": [
       "PD_DESC  HARASSMENT,SUBD 3,4,5  LARCENY,PETIT FROM STORE-SHOPL  ASSAULT 3  \\\n",
       "count                    64807                           51234      44137   \n",
       "\n",
       "PD_DESC  ASSAULT 2,1,UNCLASSIFIED  HARASSMENT,SUBD 1,CIVILIAN  \\\n",
       "count                       20770                       19147   \n",
       "\n",
       "PD_DESC  AGGRAVATED HARASSMENT 2  TRAFFIC,UNCLASSIFIED MISDEMEAN  \\\n",
       "count                      16548                           13683   \n",
       "\n",
       "PD_DESC  CRIMINAL MISCHIEF,UNCLASSIFIED 4  LARCENY,GRAND OF AUTO  \\\n",
       "count                               12389                  11429   \n",
       "\n",
       "PD_DESC  CRIMINAL CONTEMPT 1  \n",
       "count                  10892  "
      ]
     },
     "execution_count": 8,
     "metadata": {},
     "output_type": "execute_result"
    }
   ],
   "source": [
    "year_df['PD_DESC'].value_counts().head(n=10).to_frame().T"
   ]
  },
  {
   "cell_type": "markdown",
   "id": "55e654dc",
   "metadata": {
    "papermill": {
     "duration": 0.004295,
     "end_time": "2025-02-19T22:37:31.588877",
     "exception": false,
     "start_time": "2025-02-19T22:37:31.584582",
     "status": "completed"
    },
    "tags": []
   },
   "source": [
    "Let's try plotting our GTAs."
   ]
  },
  {
   "cell_type": "code",
   "execution_count": 9,
   "id": "23515d47",
   "metadata": {
    "execution": {
     "iopub.execute_input": "2025-02-19T22:37:31.599329Z",
     "iopub.status.busy": "2025-02-19T22:37:31.598937Z",
     "iopub.status.idle": "2025-02-19T22:37:31.741930Z",
     "shell.execute_reply": "2025-02-19T22:37:31.740745Z"
    },
    "papermill": {
     "duration": 0.150609,
     "end_time": "2025-02-19T22:37:31.744033",
     "exception": false,
     "start_time": "2025-02-19T22:37:31.593424",
     "status": "completed"
    },
    "tags": []
   },
   "outputs": [
    {
     "data": {
      "text/html": [
       "<iframe\n",
       "    scrolling=\"no\"\n",
       "    width=\"100%\"\n",
       "    height=\"820\"\n",
       "    src=\"iframe_figures/figure_9.html\"\n",
       "    frameborder=\"0\"\n",
       "    allowfullscreen\n",
       "></iframe>\n"
      ]
     },
     "metadata": {},
     "output_type": "display_data"
    }
   ],
   "source": [
    "express.scatter_mapbox(mapbox_style='open-street-map', lat='Latitude', lon='Longitude', color='PD_CD', data_frame=year_df[year_df['PD_DESC'] == 'LARCENY,GRAND OF AUTO'], height=800, zoom=10)"
   ]
  },
  {
   "cell_type": "markdown",
   "id": "a3eab62a",
   "metadata": {
    "papermill": {
     "duration": 0.004449,
     "end_time": "2025-02-19T22:37:31.753616",
     "exception": false,
     "start_time": "2025-02-19T22:37:31.749167",
     "status": "completed"
    },
    "tags": []
   },
   "source": [
    "Wow. They are not evenly distributed geographically. Let's try counting them by borough."
   ]
  },
  {
   "cell_type": "code",
   "execution_count": 10,
   "id": "64ba2ba6",
   "metadata": {
    "execution": {
     "iopub.execute_input": "2025-02-19T22:37:31.764403Z",
     "iopub.status.busy": "2025-02-19T22:37:31.763981Z",
     "iopub.status.idle": "2025-02-19T22:37:31.840958Z",
     "shell.execute_reply": "2025-02-19T22:37:31.839744Z"
    },
    "papermill": {
     "duration": 0.084784,
     "end_time": "2025-02-19T22:37:31.843026",
     "exception": false,
     "start_time": "2025-02-19T22:37:31.758242",
     "status": "completed"
    },
    "tags": []
   },
   "outputs": [
    {
     "data": {
      "text/html": [
       "<div>\n",
       "<style scoped>\n",
       "    .dataframe tbody tr th:only-of-type {\n",
       "        vertical-align: middle;\n",
       "    }\n",
       "\n",
       "    .dataframe tbody tr th {\n",
       "        vertical-align: top;\n",
       "    }\n",
       "\n",
       "    .dataframe thead th {\n",
       "        text-align: right;\n",
       "    }\n",
       "</style>\n",
       "<table border=\"1\" class=\"dataframe\">\n",
       "  <thead>\n",
       "    <tr style=\"text-align: right;\">\n",
       "      <th>BORO_NM</th>\n",
       "      <th>BRONX</th>\n",
       "      <th>QUEENS</th>\n",
       "      <th>BROOKLYN</th>\n",
       "      <th>MANHATTAN</th>\n",
       "      <th>STATEN ISLAND</th>\n",
       "    </tr>\n",
       "  </thead>\n",
       "  <tbody>\n",
       "    <tr>\n",
       "      <th>count</th>\n",
       "      <td>3991</td>\n",
       "      <td>3276</td>\n",
       "      <td>2599</td>\n",
       "      <td>1135</td>\n",
       "      <td>428</td>\n",
       "    </tr>\n",
       "  </tbody>\n",
       "</table>\n",
       "</div>"
      ],
      "text/plain": [
       "BORO_NM  BRONX  QUEENS  BROOKLYN  MANHATTAN  STATEN ISLAND\n",
       "count     3991    3276      2599       1135            428"
      ]
     },
     "execution_count": 10,
     "metadata": {},
     "output_type": "execute_result"
    }
   ],
   "source": [
    "year_df[year_df['PD_DESC'] == 'LARCENY,GRAND OF AUTO']['BORO_NM'].value_counts().to_frame().T"
   ]
  }
 ],
 "metadata": {
  "kaggle": {
   "accelerator": "none",
   "dataSources": [
    {
     "datasetId": 6686049,
     "sourceId": 10776218,
     "sourceType": "datasetVersion"
    }
   ],
   "dockerImageVersionId": 30886,
   "isGpuEnabled": false,
   "isInternetEnabled": true,
   "language": "python",
   "sourceType": "notebook"
  },
  "kernelspec": {
   "display_name": "Python 3",
   "language": "python",
   "name": "python3"
  },
  "language_info": {
   "codemirror_mode": {
    "name": "ipython",
    "version": 3
   },
   "file_extension": ".py",
   "mimetype": "text/x-python",
   "name": "python",
   "nbconvert_exporter": "python",
   "pygments_lexer": "ipython3",
   "version": "3.10.12"
  },
  "papermill": {
   "default_parameters": {},
   "duration": 109.530578,
   "end_time": "2025-02-19T22:37:33.773704",
   "environment_variables": {},
   "exception": null,
   "input_path": "__notebook__.ipynb",
   "output_path": "__notebook__.ipynb",
   "parameters": {},
   "start_time": "2025-02-19T22:35:44.243126",
   "version": "2.6.0"
  }
 },
 "nbformat": 4,
 "nbformat_minor": 5
}
