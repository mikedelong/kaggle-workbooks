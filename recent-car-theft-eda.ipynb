{
 "cells": [
  {
   "cell_type": "code",
   "execution_count": 1,
   "id": "5ba12236",
   "metadata": {
    "_cell_guid": "b1076dfc-b9ad-4769-8c92-a6c4dae69d19",
    "_uuid": "8f2839f25d086af736a60e9eeb907d3b93b6e0e5",
    "execution": {
     "iopub.execute_input": "2025-02-20T19:59:43.134773Z",
     "iopub.status.busy": "2025-02-20T19:59:43.134189Z",
     "iopub.status.idle": "2025-02-20T20:01:28.821454Z",
     "shell.execute_reply": "2025-02-20T20:01:28.820361Z"
    },
    "papermill": {
     "duration": 105.696625,
     "end_time": "2025-02-20T20:01:28.823375",
     "exception": false,
     "start_time": "2025-02-20T19:59:43.126750",
     "status": "completed"
    },
    "tags": []
   },
   "outputs": [
    {
     "name": "stderr",
     "output_type": "stream",
     "text": [
      "<ipython-input-1-523fad4bb78a>:4: DtypeWarning: Columns (0) have mixed types. Specify dtype option on import or set low_memory=False.\n",
      "  df = pd.read_csv(filepath_or_buffer=DATA, parse_dates=['RPT_DT'])\n"
     ]
    },
    {
     "data": {
      "text/plain": [
       "(8914838, 36)"
      ]
     },
     "execution_count": 1,
     "metadata": {},
     "output_type": "execute_result"
    }
   ],
   "source": [
    "import pandas as pd\n",
    "\n",
    "DATA = '/kaggle/input/nypd-complaint-data-historic/NYPD_Complaint_Data_Historic.csv'\n",
    "df = pd.read_csv(filepath_or_buffer=DATA, parse_dates=['RPT_DT'])\n",
    "df['year'] = df['RPT_DT'].dt.year\n",
    "df.shape"
   ]
  },
  {
   "cell_type": "markdown",
   "id": "e496fd96",
   "metadata": {
    "papermill": {
     "duration": 0.005072,
     "end_time": "2025-02-20T20:01:28.834500",
     "exception": false,
     "start_time": "2025-02-20T20:01:28.829428",
     "status": "completed"
    },
    "tags": []
   },
   "source": [
    "Let's break them out by year."
   ]
  },
  {
   "cell_type": "code",
   "execution_count": 2,
   "id": "8ae928e8",
   "metadata": {
    "execution": {
     "iopub.execute_input": "2025-02-20T20:01:28.846840Z",
     "iopub.status.busy": "2025-02-20T20:01:28.846427Z",
     "iopub.status.idle": "2025-02-20T20:01:28.942367Z",
     "shell.execute_reply": "2025-02-20T20:01:28.941059Z"
    },
    "papermill": {
     "duration": 0.104815,
     "end_time": "2025-02-20T20:01:28.944601",
     "exception": false,
     "start_time": "2025-02-20T20:01:28.839786",
     "status": "completed"
    },
    "tags": []
   },
   "outputs": [
    {
     "data": {
      "text/html": [
       "<div>\n",
       "<style scoped>\n",
       "    .dataframe tbody tr th:only-of-type {\n",
       "        vertical-align: middle;\n",
       "    }\n",
       "\n",
       "    .dataframe tbody tr th {\n",
       "        vertical-align: top;\n",
       "    }\n",
       "\n",
       "    .dataframe thead th {\n",
       "        text-align: right;\n",
       "    }\n",
       "</style>\n",
       "<table border=\"1\" class=\"dataframe\">\n",
       "  <thead>\n",
       "    <tr style=\"text-align: right;\">\n",
       "      <th>year</th>\n",
       "      <th>2006</th>\n",
       "      <th>2007</th>\n",
       "      <th>2008</th>\n",
       "      <th>2009</th>\n",
       "      <th>2010</th>\n",
       "      <th>2011</th>\n",
       "      <th>2012</th>\n",
       "      <th>2013</th>\n",
       "      <th>2014</th>\n",
       "      <th>2015</th>\n",
       "      <th>2016</th>\n",
       "      <th>2017</th>\n",
       "      <th>2018</th>\n",
       "      <th>2019</th>\n",
       "      <th>2020</th>\n",
       "      <th>2021</th>\n",
       "      <th>2022</th>\n",
       "      <th>2023</th>\n",
       "    </tr>\n",
       "  </thead>\n",
       "  <tbody>\n",
       "    <tr>\n",
       "      <th>count</th>\n",
       "      <td>530891</td>\n",
       "      <td>536330</td>\n",
       "      <td>529973</td>\n",
       "      <td>512985</td>\n",
       "      <td>509731</td>\n",
       "      <td>498589</td>\n",
       "      <td>504351</td>\n",
       "      <td>497264</td>\n",
       "      <td>491332</td>\n",
       "      <td>478583</td>\n",
       "      <td>478934</td>\n",
       "      <td>469017</td>\n",
       "      <td>464138</td>\n",
       "      <td>461926</td>\n",
       "      <td>413639</td>\n",
       "      <td>450042</td>\n",
       "      <td>531996</td>\n",
       "      <td>555117</td>\n",
       "    </tr>\n",
       "  </tbody>\n",
       "</table>\n",
       "</div>"
      ],
      "text/plain": [
       "year     2006    2007    2008    2009    2010    2011    2012    2013    2014  \\\n",
       "count  530891  536330  529973  512985  509731  498589  504351  497264  491332   \n",
       "\n",
       "year     2015    2016    2017    2018    2019    2020    2021    2022    2023  \n",
       "count  478583  478934  469017  464138  461926  413639  450042  531996  555117  "
      ]
     },
     "execution_count": 2,
     "metadata": {},
     "output_type": "execute_result"
    }
   ],
   "source": [
    "df['year'].value_counts().sort_index().to_frame().T"
   ]
  },
  {
   "cell_type": "markdown",
   "id": "5273e726",
   "metadata": {
    "papermill": {
     "duration": 0.00535,
     "end_time": "2025-02-20T20:01:28.955740",
     "exception": false,
     "start_time": "2025-02-20T20:01:28.950390",
     "status": "completed"
    },
    "tags": []
   },
   "source": [
    "And let's see what we get if we break them out by borough."
   ]
  },
  {
   "cell_type": "code",
   "execution_count": 3,
   "id": "1269daa7",
   "metadata": {
    "execution": {
     "iopub.execute_input": "2025-02-20T20:01:28.967449Z",
     "iopub.status.busy": "2025-02-20T20:01:28.967054Z",
     "iopub.status.idle": "2025-02-20T20:01:29.314685Z",
     "shell.execute_reply": "2025-02-20T20:01:29.313619Z"
    },
    "papermill": {
     "duration": 0.35559,
     "end_time": "2025-02-20T20:01:29.316564",
     "exception": false,
     "start_time": "2025-02-20T20:01:28.960974",
     "status": "completed"
    },
    "tags": []
   },
   "outputs": [
    {
     "data": {
      "text/html": [
       "<div>\n",
       "<style scoped>\n",
       "    .dataframe tbody tr th:only-of-type {\n",
       "        vertical-align: middle;\n",
       "    }\n",
       "\n",
       "    .dataframe tbody tr th {\n",
       "        vertical-align: top;\n",
       "    }\n",
       "\n",
       "    .dataframe thead th {\n",
       "        text-align: right;\n",
       "    }\n",
       "</style>\n",
       "<table border=\"1\" class=\"dataframe\">\n",
       "  <thead>\n",
       "    <tr style=\"text-align: right;\">\n",
       "      <th>BORO_NM</th>\n",
       "      <th>(null)</th>\n",
       "      <th>BRONX</th>\n",
       "      <th>BROOKLYN</th>\n",
       "      <th>MANHATTAN</th>\n",
       "      <th>QUEENS</th>\n",
       "      <th>STATEN ISLAND</th>\n",
       "    </tr>\n",
       "  </thead>\n",
       "  <tbody>\n",
       "    <tr>\n",
       "      <th>count</th>\n",
       "      <td>7884</td>\n",
       "      <td>1928510</td>\n",
       "      <td>2618580</td>\n",
       "      <td>2149468</td>\n",
       "      <td>1800709</td>\n",
       "      <td>409687</td>\n",
       "    </tr>\n",
       "  </tbody>\n",
       "</table>\n",
       "</div>"
      ],
      "text/plain": [
       "BORO_NM  (null)    BRONX  BROOKLYN  MANHATTAN   QUEENS  STATEN ISLAND\n",
       "count      7884  1928510   2618580    2149468  1800709         409687"
      ]
     },
     "execution_count": 3,
     "metadata": {},
     "output_type": "execute_result"
    }
   ],
   "source": [
    "df['BORO_NM'].value_counts(dropna=False).sort_index().to_frame().T"
   ]
  },
  {
   "cell_type": "markdown",
   "id": "50839944",
   "metadata": {
    "papermill": {
     "duration": 0.005448,
     "end_time": "2025-02-20T20:01:29.327832",
     "exception": false,
     "start_time": "2025-02-20T20:01:29.322384",
     "status": "completed"
    },
    "tags": []
   },
   "source": [
    "Our data is definitely not evenly distributed across the boroughs, and we have a few thousand records where the borough is not known or not applicable."
   ]
  },
  {
   "cell_type": "markdown",
   "id": "a7c870b9",
   "metadata": {
    "papermill": {
     "duration": 0.005301,
     "end_time": "2025-02-20T20:01:29.338858",
     "exception": false,
     "start_time": "2025-02-20T20:01:29.333557",
     "status": "completed"
    },
    "tags": []
   },
   "source": [
    "We can plot the totals by year and borough. Is a heatmap a good way to do that?"
   ]
  },
  {
   "cell_type": "code",
   "execution_count": 4,
   "id": "1959ee5a",
   "metadata": {
    "execution": {
     "iopub.execute_input": "2025-02-20T20:01:29.352262Z",
     "iopub.status.busy": "2025-02-20T20:01:29.351848Z",
     "iopub.status.idle": "2025-02-20T20:01:37.648647Z",
     "shell.execute_reply": "2025-02-20T20:01:37.647101Z"
    },
    "papermill": {
     "duration": 8.306082,
     "end_time": "2025-02-20T20:01:37.650815",
     "exception": false,
     "start_time": "2025-02-20T20:01:29.344733",
     "status": "completed"
    },
    "tags": []
   },
   "outputs": [
    {
     "data": {
      "text/html": [
       "<iframe\n",
       "    scrolling=\"no\"\n",
       "    width=\"100%\"\n",
       "    height=\"545px\"\n",
       "    src=\"iframe_figures/figure_4.html\"\n",
       "    frameborder=\"0\"\n",
       "    allowfullscreen\n",
       "></iframe>\n"
      ]
     },
     "metadata": {},
     "output_type": "display_data"
    }
   ],
   "source": [
    "from plotly import express\n",
    "from plotly import io\n",
    "\n",
    "io.renderers.default = 'iframe'\n",
    "\n",
    "express.density_heatmap(\n",
    "    data_frame=df[df['BORO_NM'] != '(null)'][['year', 'BORO_NM']].value_counts().to_frame().reset_index(),\n",
    "    x='year', y='BORO_NM', z='count', nbinsx=18\n",
    ")"
   ]
  },
  {
   "cell_type": "markdown",
   "id": "354dc529",
   "metadata": {
    "execution": {
     "iopub.execute_input": "2025-02-20T19:57:54.488537Z",
     "iopub.status.busy": "2025-02-20T19:57:54.488151Z",
     "iopub.status.idle": "2025-02-20T19:57:54.496475Z",
     "shell.execute_reply": "2025-02-20T19:57:54.494786Z",
     "shell.execute_reply.started": "2025-02-20T19:57:54.488503Z"
    },
    "papermill": {
     "duration": 0.005393,
     "end_time": "2025-02-20T20:01:37.662525",
     "exception": false,
     "start_time": "2025-02-20T20:01:37.657132",
     "status": "completed"
    },
    "tags": []
   },
   "source": [
    "Maybe a line plot would do a better job."
   ]
  },
  {
   "cell_type": "code",
   "execution_count": 5,
   "id": "ac5bf45a",
   "metadata": {
    "execution": {
     "iopub.execute_input": "2025-02-20T20:01:37.675971Z",
     "iopub.status.busy": "2025-02-20T20:01:37.675408Z",
     "iopub.status.idle": "2025-02-20T20:01:47.782717Z",
     "shell.execute_reply": "2025-02-20T20:01:47.778720Z"
    },
    "papermill": {
     "duration": 10.123676,
     "end_time": "2025-02-20T20:01:47.792014",
     "exception": false,
     "start_time": "2025-02-20T20:01:37.668338",
     "status": "completed"
    },
    "tags": []
   },
   "outputs": [
    {
     "data": {
      "text/html": [
       "<iframe\n",
       "    scrolling=\"no\"\n",
       "    width=\"100%\"\n",
       "    height=\"545px\"\n",
       "    src=\"iframe_figures/figure_5.html\"\n",
       "    frameborder=\"0\"\n",
       "    allowfullscreen\n",
       "></iframe>\n"
      ]
     },
     "metadata": {},
     "output_type": "display_data"
    }
   ],
   "source": [
    "express.line(\n",
    "    data_frame=df[df['BORO_NM'] != '(null)'][['year', 'BORO_NM']].value_counts().to_frame().reset_index().sort_values(by=['year', 'BORO_NM']),\n",
    "    x='year', color='BORO_NM', y='count', \n",
    ")"
   ]
  },
  {
   "cell_type": "markdown",
   "id": "c34415ed",
   "metadata": {
    "papermill": {
     "duration": 0.020368,
     "end_time": "2025-02-20T20:01:47.835461",
     "exception": false,
     "start_time": "2025-02-20T20:01:47.815093",
     "status": "completed"
    },
    "tags": []
   },
   "source": [
    "A line plot does do a better job. Our data looks more like a time series this way, and we can really see the impact of the COVID pandemic on crime data."
   ]
  },
  {
   "cell_type": "markdown",
   "id": "e8a8b808",
   "metadata": {
    "papermill": {
     "duration": 0.02015,
     "end_time": "2025-02-20T20:01:47.876068",
     "exception": false,
     "start_time": "2025-02-20T20:01:47.855918",
     "status": "completed"
    },
    "tags": []
   },
   "source": [
    "We have so many records let's just look at one year's worth."
   ]
  },
  {
   "cell_type": "code",
   "execution_count": 6,
   "id": "c0b7cfbd",
   "metadata": {
    "execution": {
     "iopub.execute_input": "2025-02-20T20:01:47.926991Z",
     "iopub.status.busy": "2025-02-20T20:01:47.925123Z",
     "iopub.status.idle": "2025-02-20T20:01:48.235053Z",
     "shell.execute_reply": "2025-02-20T20:01:48.232129Z"
    },
    "papermill": {
     "duration": 0.343839,
     "end_time": "2025-02-20T20:01:48.241118",
     "exception": false,
     "start_time": "2025-02-20T20:01:47.897279",
     "status": "completed"
    },
    "tags": []
   },
   "outputs": [],
   "source": [
    "year_df = df[df['year'] == 2023]"
   ]
  },
  {
   "cell_type": "markdown",
   "id": "da3a68aa",
   "metadata": {
    "papermill": {
     "duration": 0.020667,
     "end_time": "2025-02-20T20:01:48.284732",
     "exception": false,
     "start_time": "2025-02-20T20:01:48.264065",
     "status": "completed"
    },
    "tags": []
   },
   "source": [
    "Let's make a map of our one year of data. A half-million points is too many to plot on an interactive map, so we have to take a sample."
   ]
  },
  {
   "cell_type": "code",
   "execution_count": 7,
   "id": "016897e8",
   "metadata": {
    "execution": {
     "iopub.execute_input": "2025-02-20T20:01:48.326226Z",
     "iopub.status.busy": "2025-02-20T20:01:48.325017Z",
     "iopub.status.idle": "2025-02-20T20:01:48.909549Z",
     "shell.execute_reply": "2025-02-20T20:01:48.908359Z"
    },
    "papermill": {
     "duration": 0.610604,
     "end_time": "2025-02-20T20:01:48.911600",
     "exception": false,
     "start_time": "2025-02-20T20:01:48.300996",
     "status": "completed"
    },
    "tags": []
   },
   "outputs": [
    {
     "data": {
      "text/html": [
       "<iframe\n",
       "    scrolling=\"no\"\n",
       "    width=\"100%\"\n",
       "    height=\"820\"\n",
       "    src=\"iframe_figures/figure_7.html\"\n",
       "    frameborder=\"0\"\n",
       "    allowfullscreen\n",
       "></iframe>\n"
      ]
     },
     "metadata": {},
     "output_type": "display_data"
    }
   ],
   "source": [
    "express.scatter_mapbox(mapbox_style='open-street-map', lat='Latitude', lon='Longitude', color='BORO_NM', data_frame=year_df.sample(n=5000), height=800, zoom=10)"
   ]
  },
  {
   "cell_type": "markdown",
   "id": "bfea7985",
   "metadata": {
    "papermill": {
     "duration": 0.005813,
     "end_time": "2025-02-20T20:01:48.923369",
     "exception": false,
     "start_time": "2025-02-20T20:01:48.917556",
     "status": "completed"
    },
    "tags": []
   },
   "source": [
    "We can see the boroughs pretty clearly. Let's plot by jurisdiction."
   ]
  },
  {
   "cell_type": "code",
   "execution_count": 8,
   "id": "e1c01a1a",
   "metadata": {
    "execution": {
     "iopub.execute_input": "2025-02-20T20:01:48.936581Z",
     "iopub.status.busy": "2025-02-20T20:01:48.936144Z",
     "iopub.status.idle": "2025-02-20T20:01:49.091587Z",
     "shell.execute_reply": "2025-02-20T20:01:49.090233Z"
    },
    "papermill": {
     "duration": 0.16452,
     "end_time": "2025-02-20T20:01:49.093568",
     "exception": false,
     "start_time": "2025-02-20T20:01:48.929048",
     "status": "completed"
    },
    "tags": []
   },
   "outputs": [
    {
     "data": {
      "text/html": [
       "<iframe\n",
       "    scrolling=\"no\"\n",
       "    width=\"100%\"\n",
       "    height=\"820\"\n",
       "    src=\"iframe_figures/figure_8.html\"\n",
       "    frameborder=\"0\"\n",
       "    allowfullscreen\n",
       "></iframe>\n"
      ]
     },
     "metadata": {},
     "output_type": "display_data"
    }
   ],
   "source": [
    "express.scatter_mapbox(mapbox_style='open-street-map', lat='Latitude', lon='Longitude', color='KY_CD', data_frame=year_df.sample(n=5000), height=800, zoom=10)"
   ]
  },
  {
   "cell_type": "code",
   "execution_count": 9,
   "id": "c5d6c89d",
   "metadata": {
    "execution": {
     "iopub.execute_input": "2025-02-20T20:01:49.106978Z",
     "iopub.status.busy": "2025-02-20T20:01:49.106576Z",
     "iopub.status.idle": "2025-02-20T20:01:49.249977Z",
     "shell.execute_reply": "2025-02-20T20:01:49.248832Z"
    },
    "papermill": {
     "duration": 0.152241,
     "end_time": "2025-02-20T20:01:49.251944",
     "exception": false,
     "start_time": "2025-02-20T20:01:49.099703",
     "status": "completed"
    },
    "tags": []
   },
   "outputs": [
    {
     "data": {
      "text/html": [
       "<iframe\n",
       "    scrolling=\"no\"\n",
       "    width=\"100%\"\n",
       "    height=\"820\"\n",
       "    src=\"iframe_figures/figure_9.html\"\n",
       "    frameborder=\"0\"\n",
       "    allowfullscreen\n",
       "></iframe>\n"
      ]
     },
     "metadata": {},
     "output_type": "display_data"
    }
   ],
   "source": [
    "express.scatter_mapbox(mapbox_style='open-street-map', lat='Latitude', lon='Longitude', color='PD_CD', data_frame=year_df.sample(n=5000), height=800, zoom=10)"
   ]
  },
  {
   "cell_type": "markdown",
   "id": "9f41692b",
   "metadata": {
    "papermill": {
     "duration": 0.005546,
     "end_time": "2025-02-20T20:01:49.263558",
     "exception": false,
     "start_time": "2025-02-20T20:01:49.258012",
     "status": "completed"
    },
    "tags": []
   },
   "source": [
    "What are our top crimes by code?"
   ]
  },
  {
   "cell_type": "code",
   "execution_count": 10,
   "id": "328afef8",
   "metadata": {
    "execution": {
     "iopub.execute_input": "2025-02-20T20:01:49.277933Z",
     "iopub.status.busy": "2025-02-20T20:01:49.277586Z",
     "iopub.status.idle": "2025-02-20T20:01:49.303734Z",
     "shell.execute_reply": "2025-02-20T20:01:49.302415Z"
    },
    "papermill": {
     "duration": 0.036412,
     "end_time": "2025-02-20T20:01:49.305905",
     "exception": false,
     "start_time": "2025-02-20T20:01:49.269493",
     "status": "completed"
    },
    "tags": []
   },
   "outputs": [
    {
     "data": {
      "text/html": [
       "<div>\n",
       "<style scoped>\n",
       "    .dataframe tbody tr th:only-of-type {\n",
       "        vertical-align: middle;\n",
       "    }\n",
       "\n",
       "    .dataframe tbody tr th {\n",
       "        vertical-align: top;\n",
       "    }\n",
       "\n",
       "    .dataframe thead th {\n",
       "        text-align: right;\n",
       "    }\n",
       "</style>\n",
       "<table border=\"1\" class=\"dataframe\">\n",
       "  <thead>\n",
       "    <tr style=\"text-align: right;\">\n",
       "      <th>PD_CD</th>\n",
       "      <th>638.0</th>\n",
       "      <th>333.0</th>\n",
       "      <th>101.0</th>\n",
       "      <th>109.0</th>\n",
       "      <th>637.0</th>\n",
       "      <th>639.0</th>\n",
       "      <th>922.0</th>\n",
       "      <th>259.0</th>\n",
       "      <th>441.0</th>\n",
       "      <th>198.0</th>\n",
       "    </tr>\n",
       "  </thead>\n",
       "  <tbody>\n",
       "    <tr>\n",
       "      <th>count</th>\n",
       "      <td>64807</td>\n",
       "      <td>51234</td>\n",
       "      <td>44137</td>\n",
       "      <td>20770</td>\n",
       "      <td>19147</td>\n",
       "      <td>16548</td>\n",
       "      <td>13683</td>\n",
       "      <td>12389</td>\n",
       "      <td>11429</td>\n",
       "      <td>10892</td>\n",
       "    </tr>\n",
       "  </tbody>\n",
       "</table>\n",
       "</div>"
      ],
      "text/plain": [
       "PD_CD  638.0  333.0  101.0  109.0  637.0  639.0  922.0  259.0  441.0  198.0\n",
       "count  64807  51234  44137  20770  19147  16548  13683  12389  11429  10892"
      ]
     },
     "execution_count": 10,
     "metadata": {},
     "output_type": "execute_result"
    }
   ],
   "source": [
    "year_df['PD_CD'].value_counts().head(n=10).to_frame().T"
   ]
  },
  {
   "cell_type": "markdown",
   "id": "06158e72",
   "metadata": {
    "papermill": {
     "duration": 0.006036,
     "end_time": "2025-02-20T20:01:49.318562",
     "exception": false,
     "start_time": "2025-02-20T20:01:49.312526",
     "status": "completed"
    },
    "tags": []
   },
   "source": [
    "What are they by name?"
   ]
  },
  {
   "cell_type": "code",
   "execution_count": 11,
   "id": "5a59a4b1",
   "metadata": {
    "execution": {
     "iopub.execute_input": "2025-02-20T20:01:49.333185Z",
     "iopub.status.busy": "2025-02-20T20:01:49.332765Z",
     "iopub.status.idle": "2025-02-20T20:01:49.393695Z",
     "shell.execute_reply": "2025-02-20T20:01:49.392340Z"
    },
    "papermill": {
     "duration": 0.07075,
     "end_time": "2025-02-20T20:01:49.395811",
     "exception": false,
     "start_time": "2025-02-20T20:01:49.325061",
     "status": "completed"
    },
    "tags": []
   },
   "outputs": [
    {
     "data": {
      "text/html": [
       "<div>\n",
       "<style scoped>\n",
       "    .dataframe tbody tr th:only-of-type {\n",
       "        vertical-align: middle;\n",
       "    }\n",
       "\n",
       "    .dataframe tbody tr th {\n",
       "        vertical-align: top;\n",
       "    }\n",
       "\n",
       "    .dataframe thead th {\n",
       "        text-align: right;\n",
       "    }\n",
       "</style>\n",
       "<table border=\"1\" class=\"dataframe\">\n",
       "  <thead>\n",
       "    <tr style=\"text-align: right;\">\n",
       "      <th>PD_DESC</th>\n",
       "      <th>HARASSMENT,SUBD 3,4,5</th>\n",
       "      <th>LARCENY,PETIT FROM STORE-SHOPL</th>\n",
       "      <th>ASSAULT 3</th>\n",
       "      <th>ASSAULT 2,1,UNCLASSIFIED</th>\n",
       "      <th>HARASSMENT,SUBD 1,CIVILIAN</th>\n",
       "      <th>AGGRAVATED HARASSMENT 2</th>\n",
       "      <th>TRAFFIC,UNCLASSIFIED MISDEMEAN</th>\n",
       "      <th>CRIMINAL MISCHIEF,UNCLASSIFIED 4</th>\n",
       "      <th>LARCENY,GRAND OF AUTO</th>\n",
       "      <th>CRIMINAL CONTEMPT 1</th>\n",
       "    </tr>\n",
       "  </thead>\n",
       "  <tbody>\n",
       "    <tr>\n",
       "      <th>count</th>\n",
       "      <td>64807</td>\n",
       "      <td>51234</td>\n",
       "      <td>44137</td>\n",
       "      <td>20770</td>\n",
       "      <td>19147</td>\n",
       "      <td>16548</td>\n",
       "      <td>13683</td>\n",
       "      <td>12389</td>\n",
       "      <td>11429</td>\n",
       "      <td>10892</td>\n",
       "    </tr>\n",
       "  </tbody>\n",
       "</table>\n",
       "</div>"
      ],
      "text/plain": [
       "PD_DESC  HARASSMENT,SUBD 3,4,5  LARCENY,PETIT FROM STORE-SHOPL  ASSAULT 3  \\\n",
       "count                    64807                           51234      44137   \n",
       "\n",
       "PD_DESC  ASSAULT 2,1,UNCLASSIFIED  HARASSMENT,SUBD 1,CIVILIAN  \\\n",
       "count                       20770                       19147   \n",
       "\n",
       "PD_DESC  AGGRAVATED HARASSMENT 2  TRAFFIC,UNCLASSIFIED MISDEMEAN  \\\n",
       "count                      16548                           13683   \n",
       "\n",
       "PD_DESC  CRIMINAL MISCHIEF,UNCLASSIFIED 4  LARCENY,GRAND OF AUTO  \\\n",
       "count                               12389                  11429   \n",
       "\n",
       "PD_DESC  CRIMINAL CONTEMPT 1  \n",
       "count                  10892  "
      ]
     },
     "execution_count": 11,
     "metadata": {},
     "output_type": "execute_result"
    }
   ],
   "source": [
    "year_df['PD_DESC'].value_counts().head(n=10).to_frame().T"
   ]
  },
  {
   "cell_type": "markdown",
   "id": "ce57649a",
   "metadata": {
    "papermill": {
     "duration": 0.008299,
     "end_time": "2025-02-20T20:01:49.412355",
     "exception": false,
     "start_time": "2025-02-20T20:01:49.404056",
     "status": "completed"
    },
    "tags": []
   },
   "source": [
    "Let's try plotting our GTAs."
   ]
  },
  {
   "cell_type": "code",
   "execution_count": 12,
   "id": "9e416c17",
   "metadata": {
    "execution": {
     "iopub.execute_input": "2025-02-20T20:01:49.429740Z",
     "iopub.status.busy": "2025-02-20T20:01:49.429377Z",
     "iopub.status.idle": "2025-02-20T20:01:49.597091Z",
     "shell.execute_reply": "2025-02-20T20:01:49.595855Z"
    },
    "papermill": {
     "duration": 0.17873,
     "end_time": "2025-02-20T20:01:49.599165",
     "exception": false,
     "start_time": "2025-02-20T20:01:49.420435",
     "status": "completed"
    },
    "tags": []
   },
   "outputs": [
    {
     "data": {
      "text/html": [
       "<iframe\n",
       "    scrolling=\"no\"\n",
       "    width=\"100%\"\n",
       "    height=\"820\"\n",
       "    src=\"iframe_figures/figure_12.html\"\n",
       "    frameborder=\"0\"\n",
       "    allowfullscreen\n",
       "></iframe>\n"
      ]
     },
     "metadata": {},
     "output_type": "display_data"
    }
   ],
   "source": [
    "express.scatter_mapbox(mapbox_style='open-street-map', lat='Latitude', lon='Longitude', color='PD_CD', data_frame=year_df[year_df['PD_DESC'] == 'LARCENY,GRAND OF AUTO'], height=800, zoom=10)"
   ]
  },
  {
   "cell_type": "markdown",
   "id": "5ca6ef43",
   "metadata": {
    "papermill": {
     "duration": 0.006482,
     "end_time": "2025-02-20T20:01:49.612434",
     "exception": false,
     "start_time": "2025-02-20T20:01:49.605952",
     "status": "completed"
    },
    "tags": []
   },
   "source": [
    "Wow. They are not evenly distributed geographically. Let's try counting them by borough."
   ]
  },
  {
   "cell_type": "code",
   "execution_count": 13,
   "id": "2007a688",
   "metadata": {
    "execution": {
     "iopub.execute_input": "2025-02-20T20:01:49.627674Z",
     "iopub.status.busy": "2025-02-20T20:01:49.627211Z",
     "iopub.status.idle": "2025-02-20T20:01:49.711850Z",
     "shell.execute_reply": "2025-02-20T20:01:49.710339Z"
    },
    "papermill": {
     "duration": 0.094937,
     "end_time": "2025-02-20T20:01:49.714313",
     "exception": false,
     "start_time": "2025-02-20T20:01:49.619376",
     "status": "completed"
    },
    "tags": []
   },
   "outputs": [
    {
     "data": {
      "text/html": [
       "<div>\n",
       "<style scoped>\n",
       "    .dataframe tbody tr th:only-of-type {\n",
       "        vertical-align: middle;\n",
       "    }\n",
       "\n",
       "    .dataframe tbody tr th {\n",
       "        vertical-align: top;\n",
       "    }\n",
       "\n",
       "    .dataframe thead th {\n",
       "        text-align: right;\n",
       "    }\n",
       "</style>\n",
       "<table border=\"1\" class=\"dataframe\">\n",
       "  <thead>\n",
       "    <tr style=\"text-align: right;\">\n",
       "      <th>BORO_NM</th>\n",
       "      <th>BRONX</th>\n",
       "      <th>QUEENS</th>\n",
       "      <th>BROOKLYN</th>\n",
       "      <th>MANHATTAN</th>\n",
       "      <th>STATEN ISLAND</th>\n",
       "    </tr>\n",
       "  </thead>\n",
       "  <tbody>\n",
       "    <tr>\n",
       "      <th>count</th>\n",
       "      <td>3991</td>\n",
       "      <td>3276</td>\n",
       "      <td>2599</td>\n",
       "      <td>1135</td>\n",
       "      <td>428</td>\n",
       "    </tr>\n",
       "  </tbody>\n",
       "</table>\n",
       "</div>"
      ],
      "text/plain": [
       "BORO_NM  BRONX  QUEENS  BROOKLYN  MANHATTAN  STATEN ISLAND\n",
       "count     3991    3276      2599       1135            428"
      ]
     },
     "execution_count": 13,
     "metadata": {},
     "output_type": "execute_result"
    }
   ],
   "source": [
    "year_df[year_df['PD_DESC'] == 'LARCENY,GRAND OF AUTO']['BORO_NM'].value_counts().to_frame().T"
   ]
  }
 ],
 "metadata": {
  "kaggle": {
   "accelerator": "none",
   "dataSources": [
    {
     "datasetId": 6686049,
     "sourceId": 10776218,
     "sourceType": "datasetVersion"
    }
   ],
   "dockerImageVersionId": 30886,
   "isGpuEnabled": false,
   "isInternetEnabled": true,
   "language": "python",
   "sourceType": "notebook"
  },
  "kernelspec": {
   "display_name": "Python 3",
   "language": "python",
   "name": "python3"
  },
  "language_info": {
   "codemirror_mode": {
    "name": "ipython",
    "version": 3
   },
   "file_extension": ".py",
   "mimetype": "text/x-python",
   "name": "python",
   "nbconvert_exporter": "python",
   "pygments_lexer": "ipython3",
   "version": "3.10.12"
  },
  "papermill": {
   "default_parameters": {},
   "duration": 132.028193,
   "end_time": "2025-02-20T20:01:52.063464",
   "environment_variables": {},
   "exception": null,
   "input_path": "__notebook__.ipynb",
   "output_path": "__notebook__.ipynb",
   "parameters": {},
   "start_time": "2025-02-20T19:59:40.035271",
   "version": "2.6.0"
  }
 },
 "nbformat": 4,
 "nbformat_minor": 5
}
