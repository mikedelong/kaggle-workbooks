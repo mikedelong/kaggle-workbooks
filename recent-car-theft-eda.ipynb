{
 "cells": [
  {
   "cell_type": "code",
   "execution_count": 1,
   "id": "9e0e7c16",
   "metadata": {
    "_cell_guid": "b1076dfc-b9ad-4769-8c92-a6c4dae69d19",
    "_uuid": "8f2839f25d086af736a60e9eeb907d3b93b6e0e5",
    "execution": {
     "iopub.execute_input": "2025-02-20T20:04:45.465619Z",
     "iopub.status.busy": "2025-02-20T20:04:45.465294Z",
     "iopub.status.idle": "2025-02-20T20:06:54.003126Z",
     "shell.execute_reply": "2025-02-20T20:06:54.001070Z"
    },
    "papermill": {
     "duration": 128.556392,
     "end_time": "2025-02-20T20:06:54.015249",
     "exception": false,
     "start_time": "2025-02-20T20:04:45.458857",
     "status": "completed"
    },
    "tags": []
   },
   "outputs": [
    {
     "data": {
      "text/plain": [
       "(8914838, 36)"
      ]
     },
     "execution_count": 1,
     "metadata": {},
     "output_type": "execute_result"
    }
   ],
   "source": [
    "import pandas as pd\n",
    "\n",
    "DATA = '/kaggle/input/nypd-complaint-data-historic/NYPD_Complaint_Data_Historic.csv'\n",
    "df = pd.read_csv(filepath_or_buffer=DATA, parse_dates=['RPT_DT'], low_memory=False,)\n",
    "df['year'] = df['RPT_DT'].dt.year\n",
    "df.shape"
   ]
  },
  {
   "cell_type": "markdown",
   "id": "4e0adf74",
   "metadata": {
    "papermill": {
     "duration": 0.011577,
     "end_time": "2025-02-20T20:06:54.038191",
     "exception": false,
     "start_time": "2025-02-20T20:06:54.026614",
     "status": "completed"
    },
    "tags": []
   },
   "source": [
    "Let's break them out by year."
   ]
  },
  {
   "cell_type": "code",
   "execution_count": 2,
   "id": "f5dc2295",
   "metadata": {
    "execution": {
     "iopub.execute_input": "2025-02-20T20:06:54.053774Z",
     "iopub.status.busy": "2025-02-20T20:06:54.053160Z",
     "iopub.status.idle": "2025-02-20T20:06:54.157921Z",
     "shell.execute_reply": "2025-02-20T20:06:54.156497Z"
    },
    "papermill": {
     "duration": 0.113938,
     "end_time": "2025-02-20T20:06:54.160199",
     "exception": false,
     "start_time": "2025-02-20T20:06:54.046261",
     "status": "completed"
    },
    "tags": []
   },
   "outputs": [
    {
     "data": {
      "text/html": [
       "<div>\n",
       "<style scoped>\n",
       "    .dataframe tbody tr th:only-of-type {\n",
       "        vertical-align: middle;\n",
       "    }\n",
       "\n",
       "    .dataframe tbody tr th {\n",
       "        vertical-align: top;\n",
       "    }\n",
       "\n",
       "    .dataframe thead th {\n",
       "        text-align: right;\n",
       "    }\n",
       "</style>\n",
       "<table border=\"1\" class=\"dataframe\">\n",
       "  <thead>\n",
       "    <tr style=\"text-align: right;\">\n",
       "      <th>year</th>\n",
       "      <th>2006</th>\n",
       "      <th>2007</th>\n",
       "      <th>2008</th>\n",
       "      <th>2009</th>\n",
       "      <th>2010</th>\n",
       "      <th>2011</th>\n",
       "      <th>2012</th>\n",
       "      <th>2013</th>\n",
       "      <th>2014</th>\n",
       "      <th>2015</th>\n",
       "      <th>2016</th>\n",
       "      <th>2017</th>\n",
       "      <th>2018</th>\n",
       "      <th>2019</th>\n",
       "      <th>2020</th>\n",
       "      <th>2021</th>\n",
       "      <th>2022</th>\n",
       "      <th>2023</th>\n",
       "    </tr>\n",
       "  </thead>\n",
       "  <tbody>\n",
       "    <tr>\n",
       "      <th>count</th>\n",
       "      <td>530891</td>\n",
       "      <td>536330</td>\n",
       "      <td>529973</td>\n",
       "      <td>512985</td>\n",
       "      <td>509731</td>\n",
       "      <td>498589</td>\n",
       "      <td>504351</td>\n",
       "      <td>497264</td>\n",
       "      <td>491332</td>\n",
       "      <td>478583</td>\n",
       "      <td>478934</td>\n",
       "      <td>469017</td>\n",
       "      <td>464138</td>\n",
       "      <td>461926</td>\n",
       "      <td>413639</td>\n",
       "      <td>450042</td>\n",
       "      <td>531996</td>\n",
       "      <td>555117</td>\n",
       "    </tr>\n",
       "  </tbody>\n",
       "</table>\n",
       "</div>"
      ],
      "text/plain": [
       "year     2006    2007    2008    2009    2010    2011    2012    2013    2014  \\\n",
       "count  530891  536330  529973  512985  509731  498589  504351  497264  491332   \n",
       "\n",
       "year     2015    2016    2017    2018    2019    2020    2021    2022    2023  \n",
       "count  478583  478934  469017  464138  461926  413639  450042  531996  555117  "
      ]
     },
     "execution_count": 2,
     "metadata": {},
     "output_type": "execute_result"
    }
   ],
   "source": [
    "df['year'].value_counts().sort_index().to_frame().T"
   ]
  },
  {
   "cell_type": "markdown",
   "id": "6b7a2d54",
   "metadata": {
    "papermill": {
     "duration": 0.011257,
     "end_time": "2025-02-20T20:06:54.183247",
     "exception": false,
     "start_time": "2025-02-20T20:06:54.171990",
     "status": "completed"
    },
    "tags": []
   },
   "source": [
    "And let's see what we get if we break them out by borough."
   ]
  },
  {
   "cell_type": "code",
   "execution_count": 3,
   "id": "372e0e69",
   "metadata": {
    "execution": {
     "iopub.execute_input": "2025-02-20T20:06:54.207871Z",
     "iopub.status.busy": "2025-02-20T20:06:54.207473Z",
     "iopub.status.idle": "2025-02-20T20:06:54.348783Z",
     "shell.execute_reply": "2025-02-20T20:06:54.347653Z"
    },
    "papermill": {
     "duration": 0.155522,
     "end_time": "2025-02-20T20:06:54.350413",
     "exception": false,
     "start_time": "2025-02-20T20:06:54.194891",
     "status": "completed"
    },
    "tags": []
   },
   "outputs": [
    {
     "data": {
      "text/html": [
       "<div>\n",
       "<style scoped>\n",
       "    .dataframe tbody tr th:only-of-type {\n",
       "        vertical-align: middle;\n",
       "    }\n",
       "\n",
       "    .dataframe tbody tr th {\n",
       "        vertical-align: top;\n",
       "    }\n",
       "\n",
       "    .dataframe thead th {\n",
       "        text-align: right;\n",
       "    }\n",
       "</style>\n",
       "<table border=\"1\" class=\"dataframe\">\n",
       "  <thead>\n",
       "    <tr style=\"text-align: right;\">\n",
       "      <th>BORO_NM</th>\n",
       "      <th>(null)</th>\n",
       "      <th>BRONX</th>\n",
       "      <th>BROOKLYN</th>\n",
       "      <th>MANHATTAN</th>\n",
       "      <th>QUEENS</th>\n",
       "      <th>STATEN ISLAND</th>\n",
       "    </tr>\n",
       "  </thead>\n",
       "  <tbody>\n",
       "    <tr>\n",
       "      <th>count</th>\n",
       "      <td>7884</td>\n",
       "      <td>1928510</td>\n",
       "      <td>2618580</td>\n",
       "      <td>2149468</td>\n",
       "      <td>1800709</td>\n",
       "      <td>409687</td>\n",
       "    </tr>\n",
       "  </tbody>\n",
       "</table>\n",
       "</div>"
      ],
      "text/plain": [
       "BORO_NM  (null)    BRONX  BROOKLYN  MANHATTAN   QUEENS  STATEN ISLAND\n",
       "count      7884  1928510   2618580    2149468  1800709         409687"
      ]
     },
     "execution_count": 3,
     "metadata": {},
     "output_type": "execute_result"
    }
   ],
   "source": [
    "df['BORO_NM'].value_counts(dropna=False).sort_index().to_frame().T"
   ]
  },
  {
   "cell_type": "markdown",
   "id": "e826a79c",
   "metadata": {
    "papermill": {
     "duration": 0.004967,
     "end_time": "2025-02-20T20:06:54.360784",
     "exception": false,
     "start_time": "2025-02-20T20:06:54.355817",
     "status": "completed"
    },
    "tags": []
   },
   "source": [
    "Our data is definitely not evenly distributed across the boroughs, and we have a few thousand records where the borough is not known or not applicable."
   ]
  },
  {
   "cell_type": "markdown",
   "id": "99f7e698",
   "metadata": {
    "papermill": {
     "duration": 0.004769,
     "end_time": "2025-02-20T20:06:54.370756",
     "exception": false,
     "start_time": "2025-02-20T20:06:54.365987",
     "status": "completed"
    },
    "tags": []
   },
   "source": [
    "We can plot the totals by year and borough. Is a heatmap a good way to do that?"
   ]
  },
  {
   "cell_type": "code",
   "execution_count": 4,
   "id": "9b854a03",
   "metadata": {
    "execution": {
     "iopub.execute_input": "2025-02-20T20:06:54.382659Z",
     "iopub.status.busy": "2025-02-20T20:06:54.382271Z",
     "iopub.status.idle": "2025-02-20T20:07:06.038563Z",
     "shell.execute_reply": "2025-02-20T20:07:06.037675Z"
    },
    "papermill": {
     "duration": 11.663979,
     "end_time": "2025-02-20T20:07:06.040209",
     "exception": false,
     "start_time": "2025-02-20T20:06:54.376230",
     "status": "completed"
    },
    "tags": []
   },
   "outputs": [
    {
     "data": {
      "text/html": [
       "<iframe\n",
       "    scrolling=\"no\"\n",
       "    width=\"100%\"\n",
       "    height=\"545px\"\n",
       "    src=\"iframe_figures/figure_4.html\"\n",
       "    frameborder=\"0\"\n",
       "    allowfullscreen\n",
       "></iframe>\n"
      ]
     },
     "metadata": {},
     "output_type": "display_data"
    }
   ],
   "source": [
    "from plotly import express\n",
    "from plotly import io\n",
    "\n",
    "io.renderers.default = 'iframe'\n",
    "\n",
    "express.density_heatmap(\n",
    "    data_frame=df[df['BORO_NM'] != '(null)'][['year', 'BORO_NM']].value_counts().to_frame().reset_index(),\n",
    "    x='year', y='BORO_NM', z='count', nbinsx=18\n",
    ")"
   ]
  },
  {
   "cell_type": "markdown",
   "id": "ba78d1dc",
   "metadata": {
    "execution": {
     "iopub.execute_input": "2025-02-20T19:57:54.488537Z",
     "iopub.status.busy": "2025-02-20T19:57:54.488151Z",
     "iopub.status.idle": "2025-02-20T19:57:54.496475Z",
     "shell.execute_reply": "2025-02-20T19:57:54.494786Z",
     "shell.execute_reply.started": "2025-02-20T19:57:54.488503Z"
    },
    "papermill": {
     "duration": 0.00489,
     "end_time": "2025-02-20T20:07:06.050751",
     "exception": false,
     "start_time": "2025-02-20T20:07:06.045861",
     "status": "completed"
    },
    "tags": []
   },
   "source": [
    "Maybe a line plot would do a better job."
   ]
  },
  {
   "cell_type": "code",
   "execution_count": 5,
   "id": "5b57e1f5",
   "metadata": {
    "execution": {
     "iopub.execute_input": "2025-02-20T20:07:06.062459Z",
     "iopub.status.busy": "2025-02-20T20:07:06.062097Z",
     "iopub.status.idle": "2025-02-20T20:07:11.923871Z",
     "shell.execute_reply": "2025-02-20T20:07:11.922762Z"
    },
    "papermill": {
     "duration": 5.869792,
     "end_time": "2025-02-20T20:07:11.925649",
     "exception": false,
     "start_time": "2025-02-20T20:07:06.055857",
     "status": "completed"
    },
    "tags": []
   },
   "outputs": [
    {
     "data": {
      "text/html": [
       "<iframe\n",
       "    scrolling=\"no\"\n",
       "    width=\"100%\"\n",
       "    height=\"545px\"\n",
       "    src=\"iframe_figures/figure_5.html\"\n",
       "    frameborder=\"0\"\n",
       "    allowfullscreen\n",
       "></iframe>\n"
      ]
     },
     "metadata": {},
     "output_type": "display_data"
    }
   ],
   "source": [
    "express.line(\n",
    "    data_frame=df[df['BORO_NM'] != '(null)'][['year', 'BORO_NM']].value_counts().to_frame().reset_index().sort_values(by=['year', 'BORO_NM']),\n",
    "    x='year', color='BORO_NM', y='count', \n",
    ")"
   ]
  },
  {
   "cell_type": "markdown",
   "id": "a519b438",
   "metadata": {
    "papermill": {
     "duration": 0.004959,
     "end_time": "2025-02-20T20:07:11.936152",
     "exception": false,
     "start_time": "2025-02-20T20:07:11.931193",
     "status": "completed"
    },
    "tags": []
   },
   "source": [
    "A line plot does do a better job. Our data looks more like a time series this way, and we can really see the impact of the COVID pandemic on crime data."
   ]
  },
  {
   "cell_type": "markdown",
   "id": "dba67627",
   "metadata": {
    "papermill": {
     "duration": 0.004898,
     "end_time": "2025-02-20T20:07:11.946215",
     "exception": false,
     "start_time": "2025-02-20T20:07:11.941317",
     "status": "completed"
    },
    "tags": []
   },
   "source": [
    "We have so many records let's just look at one year's worth."
   ]
  },
  {
   "cell_type": "code",
   "execution_count": 6,
   "id": "774d9430",
   "metadata": {
    "execution": {
     "iopub.execute_input": "2025-02-20T20:07:11.957880Z",
     "iopub.status.busy": "2025-02-20T20:07:11.957490Z",
     "iopub.status.idle": "2025-02-20T20:07:12.166304Z",
     "shell.execute_reply": "2025-02-20T20:07:12.165173Z"
    },
    "papermill": {
     "duration": 0.217122,
     "end_time": "2025-02-20T20:07:12.168328",
     "exception": false,
     "start_time": "2025-02-20T20:07:11.951206",
     "status": "completed"
    },
    "tags": []
   },
   "outputs": [],
   "source": [
    "year_df = df[df['year'] == 2023]"
   ]
  },
  {
   "cell_type": "markdown",
   "id": "c83bd3ed",
   "metadata": {
    "papermill": {
     "duration": 0.00595,
     "end_time": "2025-02-20T20:07:12.179786",
     "exception": false,
     "start_time": "2025-02-20T20:07:12.173836",
     "status": "completed"
    },
    "tags": []
   },
   "source": [
    "Let's make a map of our one year of data. A half-million points is too many to plot on an interactive map, so we have to take a sample."
   ]
  },
  {
   "cell_type": "code",
   "execution_count": 7,
   "id": "843a86e5",
   "metadata": {
    "execution": {
     "iopub.execute_input": "2025-02-20T20:07:12.191470Z",
     "iopub.status.busy": "2025-02-20T20:07:12.191130Z",
     "iopub.status.idle": "2025-02-20T20:07:12.359242Z",
     "shell.execute_reply": "2025-02-20T20:07:12.358233Z"
    },
    "papermill": {
     "duration": 0.176081,
     "end_time": "2025-02-20T20:07:12.361050",
     "exception": false,
     "start_time": "2025-02-20T20:07:12.184969",
     "status": "completed"
    },
    "tags": []
   },
   "outputs": [
    {
     "data": {
      "text/html": [
       "<iframe\n",
       "    scrolling=\"no\"\n",
       "    width=\"100%\"\n",
       "    height=\"820\"\n",
       "    src=\"iframe_figures/figure_7.html\"\n",
       "    frameborder=\"0\"\n",
       "    allowfullscreen\n",
       "></iframe>\n"
      ]
     },
     "metadata": {},
     "output_type": "display_data"
    }
   ],
   "source": [
    "express.scatter_mapbox(mapbox_style='open-street-map', lat='Latitude', lon='Longitude', color='BORO_NM', data_frame=year_df.sample(n=5000), height=800, zoom=10)"
   ]
  },
  {
   "cell_type": "markdown",
   "id": "f877fed3",
   "metadata": {
    "papermill": {
     "duration": 0.005225,
     "end_time": "2025-02-20T20:07:12.371823",
     "exception": false,
     "start_time": "2025-02-20T20:07:12.366598",
     "status": "completed"
    },
    "tags": []
   },
   "source": [
    "We can see the boroughs pretty clearly. Let's plot by jurisdiction."
   ]
  },
  {
   "cell_type": "code",
   "execution_count": 8,
   "id": "71ce2bde",
   "metadata": {
    "execution": {
     "iopub.execute_input": "2025-02-20T20:07:12.383857Z",
     "iopub.status.busy": "2025-02-20T20:07:12.383466Z",
     "iopub.status.idle": "2025-02-20T20:07:12.492576Z",
     "shell.execute_reply": "2025-02-20T20:07:12.491687Z"
    },
    "papermill": {
     "duration": 0.117114,
     "end_time": "2025-02-20T20:07:12.494398",
     "exception": false,
     "start_time": "2025-02-20T20:07:12.377284",
     "status": "completed"
    },
    "tags": []
   },
   "outputs": [
    {
     "data": {
      "text/html": [
       "<iframe\n",
       "    scrolling=\"no\"\n",
       "    width=\"100%\"\n",
       "    height=\"820\"\n",
       "    src=\"iframe_figures/figure_8.html\"\n",
       "    frameborder=\"0\"\n",
       "    allowfullscreen\n",
       "></iframe>\n"
      ]
     },
     "metadata": {},
     "output_type": "display_data"
    }
   ],
   "source": [
    "express.scatter_mapbox(mapbox_style='open-street-map', lat='Latitude', lon='Longitude', color='KY_CD', data_frame=year_df.sample(n=5000), height=800, zoom=10)"
   ]
  },
  {
   "cell_type": "code",
   "execution_count": 9,
   "id": "2c27a967",
   "metadata": {
    "execution": {
     "iopub.execute_input": "2025-02-20T20:07:12.507251Z",
     "iopub.status.busy": "2025-02-20T20:07:12.506886Z",
     "iopub.status.idle": "2025-02-20T20:07:12.607566Z",
     "shell.execute_reply": "2025-02-20T20:07:12.606496Z"
    },
    "papermill": {
     "duration": 0.109024,
     "end_time": "2025-02-20T20:07:12.609242",
     "exception": false,
     "start_time": "2025-02-20T20:07:12.500218",
     "status": "completed"
    },
    "tags": []
   },
   "outputs": [
    {
     "data": {
      "text/html": [
       "<iframe\n",
       "    scrolling=\"no\"\n",
       "    width=\"100%\"\n",
       "    height=\"820\"\n",
       "    src=\"iframe_figures/figure_9.html\"\n",
       "    frameborder=\"0\"\n",
       "    allowfullscreen\n",
       "></iframe>\n"
      ]
     },
     "metadata": {},
     "output_type": "display_data"
    }
   ],
   "source": [
    "express.scatter_mapbox(mapbox_style='open-street-map', lat='Latitude', lon='Longitude', color='PD_CD', data_frame=year_df.sample(n=5000), height=800, zoom=10)"
   ]
  },
  {
   "cell_type": "markdown",
   "id": "b844f9cd",
   "metadata": {
    "papermill": {
     "duration": 0.005296,
     "end_time": "2025-02-20T20:07:12.620329",
     "exception": false,
     "start_time": "2025-02-20T20:07:12.615033",
     "status": "completed"
    },
    "tags": []
   },
   "source": [
    "What are our top crimes by code?"
   ]
  },
  {
   "cell_type": "code",
   "execution_count": 10,
   "id": "a7778b63",
   "metadata": {
    "execution": {
     "iopub.execute_input": "2025-02-20T20:07:12.632880Z",
     "iopub.status.busy": "2025-02-20T20:07:12.632469Z",
     "iopub.status.idle": "2025-02-20T20:07:12.653727Z",
     "shell.execute_reply": "2025-02-20T20:07:12.652703Z"
    },
    "papermill": {
     "duration": 0.029531,
     "end_time": "2025-02-20T20:07:12.655429",
     "exception": false,
     "start_time": "2025-02-20T20:07:12.625898",
     "status": "completed"
    },
    "tags": []
   },
   "outputs": [
    {
     "data": {
      "text/html": [
       "<div>\n",
       "<style scoped>\n",
       "    .dataframe tbody tr th:only-of-type {\n",
       "        vertical-align: middle;\n",
       "    }\n",
       "\n",
       "    .dataframe tbody tr th {\n",
       "        vertical-align: top;\n",
       "    }\n",
       "\n",
       "    .dataframe thead th {\n",
       "        text-align: right;\n",
       "    }\n",
       "</style>\n",
       "<table border=\"1\" class=\"dataframe\">\n",
       "  <thead>\n",
       "    <tr style=\"text-align: right;\">\n",
       "      <th>PD_CD</th>\n",
       "      <th>638.0</th>\n",
       "      <th>333.0</th>\n",
       "      <th>101.0</th>\n",
       "      <th>109.0</th>\n",
       "      <th>637.0</th>\n",
       "      <th>639.0</th>\n",
       "      <th>922.0</th>\n",
       "      <th>259.0</th>\n",
       "      <th>441.0</th>\n",
       "      <th>198.0</th>\n",
       "    </tr>\n",
       "  </thead>\n",
       "  <tbody>\n",
       "    <tr>\n",
       "      <th>count</th>\n",
       "      <td>64807</td>\n",
       "      <td>51234</td>\n",
       "      <td>44137</td>\n",
       "      <td>20770</td>\n",
       "      <td>19147</td>\n",
       "      <td>16548</td>\n",
       "      <td>13683</td>\n",
       "      <td>12389</td>\n",
       "      <td>11429</td>\n",
       "      <td>10892</td>\n",
       "    </tr>\n",
       "  </tbody>\n",
       "</table>\n",
       "</div>"
      ],
      "text/plain": [
       "PD_CD  638.0  333.0  101.0  109.0  637.0  639.0  922.0  259.0  441.0  198.0\n",
       "count  64807  51234  44137  20770  19147  16548  13683  12389  11429  10892"
      ]
     },
     "execution_count": 10,
     "metadata": {},
     "output_type": "execute_result"
    }
   ],
   "source": [
    "year_df['PD_CD'].value_counts().head(n=10).to_frame().T"
   ]
  },
  {
   "cell_type": "markdown",
   "id": "30bf4e3f",
   "metadata": {
    "papermill": {
     "duration": 0.005814,
     "end_time": "2025-02-20T20:07:12.667173",
     "exception": false,
     "start_time": "2025-02-20T20:07:12.661359",
     "status": "completed"
    },
    "tags": []
   },
   "source": [
    "What are they by name?"
   ]
  },
  {
   "cell_type": "code",
   "execution_count": 11,
   "id": "c0307dc8",
   "metadata": {
    "execution": {
     "iopub.execute_input": "2025-02-20T20:07:12.680527Z",
     "iopub.status.busy": "2025-02-20T20:07:12.680145Z",
     "iopub.status.idle": "2025-02-20T20:07:12.721307Z",
     "shell.execute_reply": "2025-02-20T20:07:12.720049Z"
    },
    "papermill": {
     "duration": 0.04983,
     "end_time": "2025-02-20T20:07:12.723053",
     "exception": false,
     "start_time": "2025-02-20T20:07:12.673223",
     "status": "completed"
    },
    "tags": []
   },
   "outputs": [
    {
     "data": {
      "text/html": [
       "<div>\n",
       "<style scoped>\n",
       "    .dataframe tbody tr th:only-of-type {\n",
       "        vertical-align: middle;\n",
       "    }\n",
       "\n",
       "    .dataframe tbody tr th {\n",
       "        vertical-align: top;\n",
       "    }\n",
       "\n",
       "    .dataframe thead th {\n",
       "        text-align: right;\n",
       "    }\n",
       "</style>\n",
       "<table border=\"1\" class=\"dataframe\">\n",
       "  <thead>\n",
       "    <tr style=\"text-align: right;\">\n",
       "      <th>PD_DESC</th>\n",
       "      <th>HARASSMENT,SUBD 3,4,5</th>\n",
       "      <th>LARCENY,PETIT FROM STORE-SHOPL</th>\n",
       "      <th>ASSAULT 3</th>\n",
       "      <th>ASSAULT 2,1,UNCLASSIFIED</th>\n",
       "      <th>HARASSMENT,SUBD 1,CIVILIAN</th>\n",
       "      <th>AGGRAVATED HARASSMENT 2</th>\n",
       "      <th>TRAFFIC,UNCLASSIFIED MISDEMEAN</th>\n",
       "      <th>CRIMINAL MISCHIEF,UNCLASSIFIED 4</th>\n",
       "      <th>LARCENY,GRAND OF AUTO</th>\n",
       "      <th>CRIMINAL CONTEMPT 1</th>\n",
       "    </tr>\n",
       "  </thead>\n",
       "  <tbody>\n",
       "    <tr>\n",
       "      <th>count</th>\n",
       "      <td>64807</td>\n",
       "      <td>51234</td>\n",
       "      <td>44137</td>\n",
       "      <td>20770</td>\n",
       "      <td>19147</td>\n",
       "      <td>16548</td>\n",
       "      <td>13683</td>\n",
       "      <td>12389</td>\n",
       "      <td>11429</td>\n",
       "      <td>10892</td>\n",
       "    </tr>\n",
       "  </tbody>\n",
       "</table>\n",
       "</div>"
      ],
      "text/plain": [
       "PD_DESC  HARASSMENT,SUBD 3,4,5  LARCENY,PETIT FROM STORE-SHOPL  ASSAULT 3  \\\n",
       "count                    64807                           51234      44137   \n",
       "\n",
       "PD_DESC  ASSAULT 2,1,UNCLASSIFIED  HARASSMENT,SUBD 1,CIVILIAN  \\\n",
       "count                       20770                       19147   \n",
       "\n",
       "PD_DESC  AGGRAVATED HARASSMENT 2  TRAFFIC,UNCLASSIFIED MISDEMEAN  \\\n",
       "count                      16548                           13683   \n",
       "\n",
       "PD_DESC  CRIMINAL MISCHIEF,UNCLASSIFIED 4  LARCENY,GRAND OF AUTO  \\\n",
       "count                               12389                  11429   \n",
       "\n",
       "PD_DESC  CRIMINAL CONTEMPT 1  \n",
       "count                  10892  "
      ]
     },
     "execution_count": 11,
     "metadata": {},
     "output_type": "execute_result"
    }
   ],
   "source": [
    "year_df['PD_DESC'].value_counts().head(n=10).to_frame().T"
   ]
  },
  {
   "cell_type": "markdown",
   "id": "3fdab3c1",
   "metadata": {
    "papermill": {
     "duration": 0.005931,
     "end_time": "2025-02-20T20:07:12.735575",
     "exception": false,
     "start_time": "2025-02-20T20:07:12.729644",
     "status": "completed"
    },
    "tags": []
   },
   "source": [
    "Let's try plotting our GTAs."
   ]
  },
  {
   "cell_type": "code",
   "execution_count": 12,
   "id": "8c206414",
   "metadata": {
    "execution": {
     "iopub.execute_input": "2025-02-20T20:07:12.748735Z",
     "iopub.status.busy": "2025-02-20T20:07:12.748326Z",
     "iopub.status.idle": "2025-02-20T20:07:12.906084Z",
     "shell.execute_reply": "2025-02-20T20:07:12.905043Z"
    },
    "papermill": {
     "duration": 0.166445,
     "end_time": "2025-02-20T20:07:12.907896",
     "exception": false,
     "start_time": "2025-02-20T20:07:12.741451",
     "status": "completed"
    },
    "tags": []
   },
   "outputs": [
    {
     "data": {
      "text/html": [
       "<iframe\n",
       "    scrolling=\"no\"\n",
       "    width=\"100%\"\n",
       "    height=\"820\"\n",
       "    src=\"iframe_figures/figure_12.html\"\n",
       "    frameborder=\"0\"\n",
       "    allowfullscreen\n",
       "></iframe>\n"
      ]
     },
     "metadata": {},
     "output_type": "display_data"
    }
   ],
   "source": [
    "express.scatter_mapbox(mapbox_style='open-street-map', lat='Latitude', lon='Longitude', color='PD_CD', data_frame=year_df[year_df['PD_DESC'] == 'LARCENY,GRAND OF AUTO'], height=800, zoom=10)"
   ]
  },
  {
   "cell_type": "markdown",
   "id": "f36914cc",
   "metadata": {
    "papermill": {
     "duration": 0.005635,
     "end_time": "2025-02-20T20:07:12.919583",
     "exception": false,
     "start_time": "2025-02-20T20:07:12.913948",
     "status": "completed"
    },
    "tags": []
   },
   "source": [
    "Wow. They are not evenly distributed geographically. Let's try counting them by borough."
   ]
  },
  {
   "cell_type": "code",
   "execution_count": 13,
   "id": "62dd1949",
   "metadata": {
    "execution": {
     "iopub.execute_input": "2025-02-20T20:07:12.932738Z",
     "iopub.status.busy": "2025-02-20T20:07:12.932359Z",
     "iopub.status.idle": "2025-02-20T20:07:13.009732Z",
     "shell.execute_reply": "2025-02-20T20:07:13.008713Z"
    },
    "papermill": {
     "duration": 0.085998,
     "end_time": "2025-02-20T20:07:13.011476",
     "exception": false,
     "start_time": "2025-02-20T20:07:12.925478",
     "status": "completed"
    },
    "tags": []
   },
   "outputs": [
    {
     "data": {
      "text/html": [
       "<div>\n",
       "<style scoped>\n",
       "    .dataframe tbody tr th:only-of-type {\n",
       "        vertical-align: middle;\n",
       "    }\n",
       "\n",
       "    .dataframe tbody tr th {\n",
       "        vertical-align: top;\n",
       "    }\n",
       "\n",
       "    .dataframe thead th {\n",
       "        text-align: right;\n",
       "    }\n",
       "</style>\n",
       "<table border=\"1\" class=\"dataframe\">\n",
       "  <thead>\n",
       "    <tr style=\"text-align: right;\">\n",
       "      <th>BORO_NM</th>\n",
       "      <th>BRONX</th>\n",
       "      <th>QUEENS</th>\n",
       "      <th>BROOKLYN</th>\n",
       "      <th>MANHATTAN</th>\n",
       "      <th>STATEN ISLAND</th>\n",
       "    </tr>\n",
       "  </thead>\n",
       "  <tbody>\n",
       "    <tr>\n",
       "      <th>count</th>\n",
       "      <td>3991</td>\n",
       "      <td>3276</td>\n",
       "      <td>2599</td>\n",
       "      <td>1135</td>\n",
       "      <td>428</td>\n",
       "    </tr>\n",
       "  </tbody>\n",
       "</table>\n",
       "</div>"
      ],
      "text/plain": [
       "BORO_NM  BRONX  QUEENS  BROOKLYN  MANHATTAN  STATEN ISLAND\n",
       "count     3991    3276      2599       1135            428"
      ]
     },
     "execution_count": 13,
     "metadata": {},
     "output_type": "execute_result"
    }
   ],
   "source": [
    "year_df[year_df['PD_DESC'] == 'LARCENY,GRAND OF AUTO']['BORO_NM'].value_counts().to_frame().T"
   ]
  }
 ],
 "metadata": {
  "kaggle": {
   "accelerator": "none",
   "dataSources": [
    {
     "datasetId": 6686049,
     "sourceId": 10776218,
     "sourceType": "datasetVersion"
    }
   ],
   "dockerImageVersionId": 30886,
   "isGpuEnabled": false,
   "isInternetEnabled": true,
   "language": "python",
   "sourceType": "notebook"
  },
  "kernelspec": {
   "display_name": "Python 3",
   "language": "python",
   "name": "python3"
  },
  "language_info": {
   "codemirror_mode": {
    "name": "ipython",
    "version": 3
   },
   "file_extension": ".py",
   "mimetype": "text/x-python",
   "name": "python",
   "nbconvert_exporter": "python",
   "pygments_lexer": "ipython3",
   "version": "3.10.12"
  },
  "papermill": {
   "default_parameters": {},
   "duration": 151.819679,
   "end_time": "2025-02-20T20:07:14.541414",
   "environment_variables": {},
   "exception": null,
   "input_path": "__notebook__.ipynb",
   "output_path": "__notebook__.ipynb",
   "parameters": {},
   "start_time": "2025-02-20T20:04:42.721735",
   "version": "2.6.0"
  }
 },
 "nbformat": 4,
 "nbformat_minor": 5
}
