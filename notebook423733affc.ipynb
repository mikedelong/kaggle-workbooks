{
 "cells": [
  {
   "cell_type": "code",
   "execution_count": 1,
   "id": "4d8da625",
   "metadata": {
    "_cell_guid": "b1076dfc-b9ad-4769-8c92-a6c4dae69d19",
    "_uuid": "8f2839f25d086af736a60e9eeb907d3b93b6e0e5",
    "execution": {
     "iopub.execute_input": "2024-07-30T16:20:38.350552Z",
     "iopub.status.busy": "2024-07-30T16:20:38.350092Z",
     "iopub.status.idle": "2024-07-30T16:20:39.367098Z",
     "shell.execute_reply": "2024-07-30T16:20:39.365865Z"
    },
    "papermill": {
     "duration": 1.027615,
     "end_time": "2024-07-30T16:20:39.369748",
     "exception": false,
     "start_time": "2024-07-30T16:20:38.342133",
     "status": "completed"
    },
    "tags": []
   },
   "outputs": [
    {
     "data": {
      "text/html": [
       "<div>\n",
       "<style scoped>\n",
       "    .dataframe tbody tr th:only-of-type {\n",
       "        vertical-align: middle;\n",
       "    }\n",
       "\n",
       "    .dataframe tbody tr th {\n",
       "        vertical-align: top;\n",
       "    }\n",
       "\n",
       "    .dataframe thead th {\n",
       "        text-align: right;\n",
       "    }\n",
       "</style>\n",
       "<table border=\"1\" class=\"dataframe\">\n",
       "  <thead>\n",
       "    <tr style=\"text-align: right;\">\n",
       "      <th></th>\n",
       "      <th>Soil_Type</th>\n",
       "      <th>Sunlight_Hours</th>\n",
       "      <th>Water_Frequency</th>\n",
       "      <th>Fertilizer_Type</th>\n",
       "      <th>Temperature</th>\n",
       "      <th>Humidity</th>\n",
       "      <th>Growth_Milestone</th>\n",
       "    </tr>\n",
       "  </thead>\n",
       "  <tbody>\n",
       "    <tr>\n",
       "      <th>0</th>\n",
       "      <td>loam</td>\n",
       "      <td>5.192294</td>\n",
       "      <td>bi-weekly</td>\n",
       "      <td>chemical</td>\n",
       "      <td>31.719602</td>\n",
       "      <td>61.591861</td>\n",
       "      <td>False</td>\n",
       "    </tr>\n",
       "    <tr>\n",
       "      <th>1</th>\n",
       "      <td>sandy</td>\n",
       "      <td>4.033133</td>\n",
       "      <td>weekly</td>\n",
       "      <td>organic</td>\n",
       "      <td>28.919484</td>\n",
       "      <td>52.422276</td>\n",
       "      <td>True</td>\n",
       "    </tr>\n",
       "    <tr>\n",
       "      <th>2</th>\n",
       "      <td>loam</td>\n",
       "      <td>8.892769</td>\n",
       "      <td>bi-weekly</td>\n",
       "      <td>none</td>\n",
       "      <td>23.179059</td>\n",
       "      <td>44.660539</td>\n",
       "      <td>False</td>\n",
       "    </tr>\n",
       "    <tr>\n",
       "      <th>3</th>\n",
       "      <td>loam</td>\n",
       "      <td>8.241144</td>\n",
       "      <td>bi-weekly</td>\n",
       "      <td>none</td>\n",
       "      <td>18.465886</td>\n",
       "      <td>46.433227</td>\n",
       "      <td>False</td>\n",
       "    </tr>\n",
       "    <tr>\n",
       "      <th>4</th>\n",
       "      <td>sandy</td>\n",
       "      <td>8.374043</td>\n",
       "      <td>bi-weekly</td>\n",
       "      <td>organic</td>\n",
       "      <td>18.128741</td>\n",
       "      <td>63.625923</td>\n",
       "      <td>False</td>\n",
       "    </tr>\n",
       "  </tbody>\n",
       "</table>\n",
       "</div>"
      ],
      "text/plain": [
       "  Soil_Type  Sunlight_Hours Water_Frequency Fertilizer_Type  Temperature  \\\n",
       "0      loam        5.192294       bi-weekly        chemical    31.719602   \n",
       "1     sandy        4.033133          weekly         organic    28.919484   \n",
       "2      loam        8.892769       bi-weekly            none    23.179059   \n",
       "3      loam        8.241144       bi-weekly            none    18.465886   \n",
       "4     sandy        8.374043       bi-weekly         organic    18.128741   \n",
       "\n",
       "    Humidity  Growth_Milestone  \n",
       "0  61.591861             False  \n",
       "1  52.422276              True  \n",
       "2  44.660539             False  \n",
       "3  46.433227             False  \n",
       "4  63.625923             False  "
      ]
     },
     "execution_count": 1,
     "metadata": {},
     "output_type": "execute_result"
    }
   ],
   "source": [
    "import pandas as pd\n",
    "\n",
    "PLANTS = '/kaggle/input/plant-growth-data-classification/plant_growth_data.csv'\n",
    "TARGET = 'Growth_Milestone'\n",
    "\n",
    "df = pd.read_csv(filepath_or_buffer=PLANTS)\n",
    "df[TARGET] = df[TARGET] == 1\n",
    "df.head()"
   ]
  },
  {
   "cell_type": "markdown",
   "id": "a89485ed",
   "metadata": {
    "papermill": {
     "duration": 0.005791,
     "end_time": "2024-07-30T16:20:39.381999",
     "exception": false,
     "start_time": "2024-07-30T16:20:39.376208",
     "status": "completed"
    },
    "tags": []
   },
   "source": [
    "How much data do we have?"
   ]
  },
  {
   "cell_type": "code",
   "execution_count": 2,
   "id": "48cce991",
   "metadata": {
    "execution": {
     "iopub.execute_input": "2024-07-30T16:20:39.396079Z",
     "iopub.status.busy": "2024-07-30T16:20:39.395631Z",
     "iopub.status.idle": "2024-07-30T16:20:39.402870Z",
     "shell.execute_reply": "2024-07-30T16:20:39.401814Z"
    },
    "papermill": {
     "duration": 0.017311,
     "end_time": "2024-07-30T16:20:39.405430",
     "exception": false,
     "start_time": "2024-07-30T16:20:39.388119",
     "status": "completed"
    },
    "tags": []
   },
   "outputs": [
    {
     "data": {
      "text/plain": [
       "(193, 7)"
      ]
     },
     "execution_count": 2,
     "metadata": {},
     "output_type": "execute_result"
    }
   ],
   "source": [
    "df.shape"
   ]
  },
  {
   "cell_type": "markdown",
   "id": "f959af7b",
   "metadata": {
    "papermill": {
     "duration": 0.005966,
     "end_time": "2024-07-30T16:20:39.417703",
     "exception": false,
     "start_time": "2024-07-30T16:20:39.411737",
     "status": "completed"
    },
    "tags": []
   },
   "source": [
    "Not a lot. Is our target class balanced?"
   ]
  },
  {
   "cell_type": "code",
   "execution_count": 3,
   "id": "5a80a1d0",
   "metadata": {
    "execution": {
     "iopub.execute_input": "2024-07-30T16:20:39.431959Z",
     "iopub.status.busy": "2024-07-30T16:20:39.431569Z",
     "iopub.status.idle": "2024-07-30T16:20:39.450046Z",
     "shell.execute_reply": "2024-07-30T16:20:39.448873Z"
    },
    "papermill": {
     "duration": 0.028685,
     "end_time": "2024-07-30T16:20:39.452616",
     "exception": false,
     "start_time": "2024-07-30T16:20:39.423931",
     "status": "completed"
    },
    "tags": []
   },
   "outputs": [
    {
     "data": {
      "text/plain": [
       "{False: 0.5025906735751295, True: 0.49740932642487046}"
      ]
     },
     "execution_count": 3,
     "metadata": {},
     "output_type": "execute_result"
    }
   ],
   "source": [
    "df[TARGET].value_counts(normalize=True).to_dict()"
   ]
  },
  {
   "cell_type": "markdown",
   "id": "223977f3",
   "metadata": {
    "papermill": {
     "duration": 0.006165,
     "end_time": "2024-07-30T16:20:39.465317",
     "exception": false,
     "start_time": "2024-07-30T16:20:39.459152",
     "status": "completed"
    },
    "tags": []
   },
   "source": [
    "The target class is balanced, which is good news."
   ]
  },
  {
   "cell_type": "code",
   "execution_count": 4,
   "id": "da313a74",
   "metadata": {
    "execution": {
     "iopub.execute_input": "2024-07-30T16:20:39.480100Z",
     "iopub.status.busy": "2024-07-30T16:20:39.479665Z",
     "iopub.status.idle": "2024-07-30T16:20:39.496860Z",
     "shell.execute_reply": "2024-07-30T16:20:39.495912Z"
    },
    "papermill": {
     "duration": 0.027541,
     "end_time": "2024-07-30T16:20:39.499266",
     "exception": false,
     "start_time": "2024-07-30T16:20:39.471725",
     "status": "completed"
    },
    "tags": []
   },
   "outputs": [],
   "source": [
    "if len(df.columns) == 7:\n",
    "    df = pd.get_dummies(data=df, columns=['Soil_Type', 'Water_Frequency', 'Fertilizer_Type'])\n",
    "COLUMNS = df.drop(columns=[TARGET]).columns.tolist()"
   ]
  },
  {
   "cell_type": "code",
   "execution_count": 5,
   "id": "7902d779",
   "metadata": {
    "execution": {
     "iopub.execute_input": "2024-07-30T16:20:39.513889Z",
     "iopub.status.busy": "2024-07-30T16:20:39.513481Z",
     "iopub.status.idle": "2024-07-30T16:21:26.286105Z",
     "shell.execute_reply": "2024-07-30T16:21:26.284831Z"
    },
    "papermill": {
     "duration": 46.784626,
     "end_time": "2024-07-30T16:21:26.290335",
     "exception": false,
     "start_time": "2024-07-30T16:20:39.505709",
     "status": "completed"
    },
    "tags": []
   },
   "outputs": [
    {
     "name": "stderr",
     "output_type": "stream",
     "text": [
      "2024-07-30 16:21:04.417802: E external/local_xla/xla/stream_executor/cuda/cuda_dnn.cc:9261] Unable to register cuDNN factory: Attempting to register factory for plugin cuDNN when one has already been registered\n",
      "2024-07-30 16:21:04.417928: E external/local_xla/xla/stream_executor/cuda/cuda_fft.cc:607] Unable to register cuFFT factory: Attempting to register factory for plugin cuFFT when one has already been registered\n",
      "2024-07-30 16:21:04.604486: E external/local_xla/xla/stream_executor/cuda/cuda_blas.cc:1515] Unable to register cuBLAS factory: Attempting to register factory for plugin cuBLAS when one has already been registered\n"
     ]
    },
    {
     "name": "stdout",
     "output_type": "stream",
     "text": [
      "UMAP(low_memory=False, n_epochs=500, n_jobs=1, random_state=2024, verbose=True)\n",
      "Tue Jul 30 16:21:16 2024 Construct fuzzy simplicial set\n",
      "Tue Jul 30 16:21:16 2024 Finding Nearest Neighbors\n",
      "Tue Jul 30 16:21:20 2024 Finished Nearest Neighbor Search\n",
      "Tue Jul 30 16:21:24 2024 Construct embedding\n"
     ]
    },
    {
     "data": {
      "application/vnd.jupyter.widget-view+json": {
       "model_id": "de65bd71e9f143adb2228fd8eced7084",
       "version_major": 2,
       "version_minor": 0
      },
      "text/plain": [
       "Epochs completed:   0%|            0/500 [00:00]"
      ]
     },
     "metadata": {},
     "output_type": "display_data"
    },
    {
     "name": "stdout",
     "output_type": "stream",
     "text": [
      "\tcompleted  0  /  500 epochs\n",
      "\tcompleted  50  /  500 epochs\n",
      "\tcompleted  100  /  500 epochs\n",
      "\tcompleted  150  /  500 epochs\n",
      "\tcompleted  200  /  500 epochs\n",
      "\tcompleted  250  /  500 epochs\n",
      "\tcompleted  300  /  500 epochs\n",
      "\tcompleted  350  /  500 epochs\n",
      "\tcompleted  400  /  500 epochs\n",
      "\tcompleted  450  /  500 epochs\n",
      "Tue Jul 30 16:21:26 2024 Finished embedding\n",
      "done with UMAP in 0:00:09.848976\n"
     ]
    }
   ],
   "source": [
    "import arrow\n",
    "from umap import UMAP\n",
    "\n",
    "time_start = arrow.now()\n",
    "umap = UMAP(random_state=2024, verbose=True, n_jobs=1, low_memory=False, n_epochs=500)\n",
    "df[['x', 'y']] = umap.fit_transform(X=df[COLUMNS])\n",
    "print('done with UMAP in {}'.format(arrow.now() - time_start))"
   ]
  },
  {
   "cell_type": "code",
   "execution_count": 6,
   "id": "905ea29d",
   "metadata": {
    "execution": {
     "iopub.execute_input": "2024-07-30T16:21:26.307057Z",
     "iopub.status.busy": "2024-07-30T16:21:26.306286Z",
     "iopub.status.idle": "2024-07-30T16:21:28.890874Z",
     "shell.execute_reply": "2024-07-30T16:21:28.889844Z"
    },
    "papermill": {
     "duration": 2.595749,
     "end_time": "2024-07-30T16:21:28.893400",
     "exception": false,
     "start_time": "2024-07-30T16:21:26.297651",
     "status": "completed"
    },
    "tags": []
   },
   "outputs": [
    {
     "data": {
      "text/html": [
       "        <script type=\"text/javascript\">\n",
       "        window.PlotlyConfig = {MathJaxConfig: 'local'};\n",
       "        if (window.MathJax && window.MathJax.Hub && window.MathJax.Hub.Config) {window.MathJax.Hub.Config({SVG: {font: \"STIX-Web\"}});}\n",
       "        if (typeof require !== 'undefined') {\n",
       "        require.undef(\"plotly\");\n",
       "        requirejs.config({\n",
       "            paths: {\n",
       "                'plotly': ['https://cdn.plot.ly/plotly-2.27.0.min']\n",
       "            }\n",
       "        });\n",
       "        require(['plotly'], function(Plotly) {\n",
       "            window._Plotly = Plotly;\n",
       "        });\n",
       "        }\n",
       "        </script>\n",
       "        "
      ]
     },
     "metadata": {},
     "output_type": "display_data"
    },
    {
     "data": {
      "text/html": [
       "<div>                            <div id=\"036a72c8-2b1f-423d-8fe4-843cd5343998\" class=\"plotly-graph-div\" style=\"height:525px; width:100%;\"></div>            <script type=\"text/javascript\">                require([\"plotly\"], function(Plotly) {                    window.PLOTLYENV=window.PLOTLYENV || {};                                    if (document.getElementById(\"036a72c8-2b1f-423d-8fe4-843cd5343998\")) {                    Plotly.newPlot(                        \"036a72c8-2b1f-423d-8fe4-843cd5343998\",                        [{\"hovertemplate\":\"Growth_Milestone=False\\u003cbr\\u003ex=%{x}\\u003cbr\\u003ey=%{y}\\u003cextra\\u003e\\u003c\\u002fextra\\u003e\",\"legendgroup\":\"False\",\"marker\":{\"color\":\"#636efa\",\"symbol\":\"circle\"},\"mode\":\"markers\",\"name\":\"False\",\"orientation\":\"v\",\"showlegend\":true,\"x\":[4.0901604,-0.24467272,-0.9343853,7.0797787,8.674219,11.240593,-4.5782,3.4287813,-3.9692934,11.448301,-3.6400802,-4.508172,-3.6637135,-4.179198,10.829871,9.503408,11.1372795,11.209588,7.867414,9.950987,2.0493507,-4.521189,9.471745,4.321588,11.744859,0.83616483,11.768618,-1.4320143,9.751075,9.833721,-3.516274,10.283569,-4.425769,6.0999775,11.453248,3.1432905,3.8739722,11.746681,1.5803659,3.7508886,11.406293,11.383502,-0.19227345,-4.4223285,10.328267,11.77871,8.080588,1.2548316,11.8451805,10.724719,8.952508,1.2934095,-0.88487357,6.700132,11.630073,-1.0345972,4.600435,-1.4963611,9.690426,4.6951976,8.347303,-1.2229636,4.733486,9.243608,6.6443744,2.629875,-0.7817156,2.6037214,1.0257128,10.723476,8.97983,1.7190048,4.4676213,11.485332,5.5815926,9.100328,1.3940884,10.313884,2.7815104,0.8270276,6.0197535,11.586284,4.35561,0.92613626,9.265394,3.986199,5.0980463,9.144757,4.914599,4.257985,10.219342,6.202873,10.59486,4.232073,10.885356,5.4676948,4.3918853],\"xaxis\":\"x\",\"y\":[7.707512,5.1691213,4.7099,5.7025447,6.1145015,6.175431,6.9392486,7.458736,5.999934,6.527174,5.5894437,6.8022738,5.597728,6.3146677,4.8565664,6.185035,4.862822,4.5812783,5.801882,6.5461826,6.418761,6.7329993,6.6063747,6.9795747,4.760898,6.828276,5.400548,5.0101614,5.3279977,5.1708717,5.7006354,5.032783,6.763428,5.1638927,4.6368537,6.6409597,7.6053705,5.007884,7.035663,7.880821,4.622952,4.574108,5.275161,6.8765135,5.3414183,4.738583,5.760335,6.9026084,4.816002,5.6778274,5.8768296,6.5952983,4.611397,5.839008,6.0403414,4.6765513,7.823974,4.998011,6.255396,4.9540267,5.8955393,4.8371882,7.2815747,6.400312,5.613375,6.5241284,4.6120405,6.6824827,6.6980844,6.4883866,6.12062,6.8857145,7.181542,5.73956,5.2604795,6.1185412,6.768964,6.1552024,6.589521,6.836683,6.432256,6.317987,4.746816,6.430613,6.131988,5.210825,6.9282866,6.354528,7.129406,4.825313,6.223415,5.559021,6.136681,7.867,6.153836,6.7498956,5.0655117],\"yaxis\":\"y\",\"type\":\"scatter\"},{\"hovertemplate\":\"Growth_Milestone=True\\u003cbr\\u003ex=%{x}\\u003cbr\\u003ey=%{y}\\u003cextra\\u003e\\u003c\\u002fextra\\u003e\",\"legendgroup\":\"True\",\"marker\":{\"color\":\"#EF553B\",\"symbol\":\"circle\"},\"mode\":\"markers\",\"name\":\"True\",\"orientation\":\"v\",\"showlegend\":true,\"x\":[2.1453638,10.494224,-4.3210235,4.3369308,2.4641244,11.113783,-0.15466762,-3.8761048,6.363154,-3.6463916,7.6056547,11.178688,6.1158524,-0.6795361,-0.035677318,-0.16571558,-4.3124156,3.5300727,9.702248,-3.715081,3.1798148,-3.5078733,2.9011018,-4.2181983,-4.110813,4.694431,-0.17496705,-3.4833214,11.386396,5.67673,4.5268426,6.578009,4.9176445,4.223162,11.720343,-3.7797873,-1.0728842,11.394927,5.6269336,-0.3939285,-4.4364386,4.0435376,1.0071448,-4.0312734,7.5703583,3.2738519,11.611604,6.5348415,8.741589,6.1354246,4.7880807,4.0943856,5.4819703,2.9155772,10.812007,4.1116095,4.5390916,11.291459,0.95005476,1.4241725,3.8133276,11.679958,-0.7653709,1.6013056,10.412124,4.696057,9.8646345,9.108505,6.338316,3.6705472,3.14131,8.718975,-0.25469983,0.12169139,4.6066766,3.1210227,6.5048327,11.455638,8.948093,3.5805495,2.5055583,10.45955,6.5340033,5.020137,1.8295431,11.536875,2.8449233,1.0224469,3.7317493,0.8939038,4.3167715,3.4121432,-0.5959144,4.1438246,4.035143,10.963839],\"xaxis\":\"x\",\"y\":[6.581408,6.2478967,6.614708,4.719109,6.1192207,5.3831534,5.049572,5.8902345,5.189102,5.558669,5.704738,6.336176,6.768365,4.5643625,4.8289013,4.8894715,6.5268965,7.7783437,5.2711163,5.5392404,6.6502,5.6809883,6.4602265,6.407264,6.161694,7.506307,4.788212,5.6973357,5.189378,5.123889,5.041326,5.388934,7.8253202,7.887301,5.1122103,5.8067827,4.9277167,4.675884,6.467092,5.0556283,6.838983,4.7182827,6.913815,6.0792723,5.7301445,7.7009583,6.0292697,6.0128617,5.6927233,5.873126,7.021814,4.7674103,7.4880643,5.48386,6.2730513,4.878344,4.5897503,5.8527074,6.080639,6.863817,5.2584496,5.236214,4.602815,7.011448,6.226882,7.8030267,5.96401,6.264815,5.5993648,5.061467,7.1285458,5.7823787,4.9803157,5.32478,7.490442,6.503405,5.4488583,6.413353,5.9435534,6.8082066,6.6866035,6.5750947,5.4794064,7.292771,6.980147,6.1959515,6.625059,6.727254,6.803526,6.865749,7.580053,6.675981,4.7062273,4.6639137,7.7973213,6.5276437],\"yaxis\":\"y\",\"type\":\"scatter\"}],                        {\"template\":{\"data\":{\"histogram2dcontour\":[{\"type\":\"histogram2dcontour\",\"colorbar\":{\"outlinewidth\":0,\"ticks\":\"\"},\"colorscale\":[[0.0,\"#0d0887\"],[0.1111111111111111,\"#46039f\"],[0.2222222222222222,\"#7201a8\"],[0.3333333333333333,\"#9c179e\"],[0.4444444444444444,\"#bd3786\"],[0.5555555555555556,\"#d8576b\"],[0.6666666666666666,\"#ed7953\"],[0.7777777777777778,\"#fb9f3a\"],[0.8888888888888888,\"#fdca26\"],[1.0,\"#f0f921\"]]}],\"choropleth\":[{\"type\":\"choropleth\",\"colorbar\":{\"outlinewidth\":0,\"ticks\":\"\"}}],\"histogram2d\":[{\"type\":\"histogram2d\",\"colorbar\":{\"outlinewidth\":0,\"ticks\":\"\"},\"colorscale\":[[0.0,\"#0d0887\"],[0.1111111111111111,\"#46039f\"],[0.2222222222222222,\"#7201a8\"],[0.3333333333333333,\"#9c179e\"],[0.4444444444444444,\"#bd3786\"],[0.5555555555555556,\"#d8576b\"],[0.6666666666666666,\"#ed7953\"],[0.7777777777777778,\"#fb9f3a\"],[0.8888888888888888,\"#fdca26\"],[1.0,\"#f0f921\"]]}],\"heatmap\":[{\"type\":\"heatmap\",\"colorbar\":{\"outlinewidth\":0,\"ticks\":\"\"},\"colorscale\":[[0.0,\"#0d0887\"],[0.1111111111111111,\"#46039f\"],[0.2222222222222222,\"#7201a8\"],[0.3333333333333333,\"#9c179e\"],[0.4444444444444444,\"#bd3786\"],[0.5555555555555556,\"#d8576b\"],[0.6666666666666666,\"#ed7953\"],[0.7777777777777778,\"#fb9f3a\"],[0.8888888888888888,\"#fdca26\"],[1.0,\"#f0f921\"]]}],\"heatmapgl\":[{\"type\":\"heatmapgl\",\"colorbar\":{\"outlinewidth\":0,\"ticks\":\"\"},\"colorscale\":[[0.0,\"#0d0887\"],[0.1111111111111111,\"#46039f\"],[0.2222222222222222,\"#7201a8\"],[0.3333333333333333,\"#9c179e\"],[0.4444444444444444,\"#bd3786\"],[0.5555555555555556,\"#d8576b\"],[0.6666666666666666,\"#ed7953\"],[0.7777777777777778,\"#fb9f3a\"],[0.8888888888888888,\"#fdca26\"],[1.0,\"#f0f921\"]]}],\"contourcarpet\":[{\"type\":\"contourcarpet\",\"colorbar\":{\"outlinewidth\":0,\"ticks\":\"\"}}],\"contour\":[{\"type\":\"contour\",\"colorbar\":{\"outlinewidth\":0,\"ticks\":\"\"},\"colorscale\":[[0.0,\"#0d0887\"],[0.1111111111111111,\"#46039f\"],[0.2222222222222222,\"#7201a8\"],[0.3333333333333333,\"#9c179e\"],[0.4444444444444444,\"#bd3786\"],[0.5555555555555556,\"#d8576b\"],[0.6666666666666666,\"#ed7953\"],[0.7777777777777778,\"#fb9f3a\"],[0.8888888888888888,\"#fdca26\"],[1.0,\"#f0f921\"]]}],\"surface\":[{\"type\":\"surface\",\"colorbar\":{\"outlinewidth\":0,\"ticks\":\"\"},\"colorscale\":[[0.0,\"#0d0887\"],[0.1111111111111111,\"#46039f\"],[0.2222222222222222,\"#7201a8\"],[0.3333333333333333,\"#9c179e\"],[0.4444444444444444,\"#bd3786\"],[0.5555555555555556,\"#d8576b\"],[0.6666666666666666,\"#ed7953\"],[0.7777777777777778,\"#fb9f3a\"],[0.8888888888888888,\"#fdca26\"],[1.0,\"#f0f921\"]]}],\"mesh3d\":[{\"type\":\"mesh3d\",\"colorbar\":{\"outlinewidth\":0,\"ticks\":\"\"}}],\"scatter\":[{\"fillpattern\":{\"fillmode\":\"overlay\",\"size\":10,\"solidity\":0.2},\"type\":\"scatter\"}],\"parcoords\":[{\"type\":\"parcoords\",\"line\":{\"colorbar\":{\"outlinewidth\":0,\"ticks\":\"\"}}}],\"scatterpolargl\":[{\"type\":\"scatterpolargl\",\"marker\":{\"colorbar\":{\"outlinewidth\":0,\"ticks\":\"\"}}}],\"bar\":[{\"error_x\":{\"color\":\"#2a3f5f\"},\"error_y\":{\"color\":\"#2a3f5f\"},\"marker\":{\"line\":{\"color\":\"#E5ECF6\",\"width\":0.5},\"pattern\":{\"fillmode\":\"overlay\",\"size\":10,\"solidity\":0.2}},\"type\":\"bar\"}],\"scattergeo\":[{\"type\":\"scattergeo\",\"marker\":{\"colorbar\":{\"outlinewidth\":0,\"ticks\":\"\"}}}],\"scatterpolar\":[{\"type\":\"scatterpolar\",\"marker\":{\"colorbar\":{\"outlinewidth\":0,\"ticks\":\"\"}}}],\"histogram\":[{\"marker\":{\"pattern\":{\"fillmode\":\"overlay\",\"size\":10,\"solidity\":0.2}},\"type\":\"histogram\"}],\"scattergl\":[{\"type\":\"scattergl\",\"marker\":{\"colorbar\":{\"outlinewidth\":0,\"ticks\":\"\"}}}],\"scatter3d\":[{\"type\":\"scatter3d\",\"line\":{\"colorbar\":{\"outlinewidth\":0,\"ticks\":\"\"}},\"marker\":{\"colorbar\":{\"outlinewidth\":0,\"ticks\":\"\"}}}],\"scattermapbox\":[{\"type\":\"scattermapbox\",\"marker\":{\"colorbar\":{\"outlinewidth\":0,\"ticks\":\"\"}}}],\"scatterternary\":[{\"type\":\"scatterternary\",\"marker\":{\"colorbar\":{\"outlinewidth\":0,\"ticks\":\"\"}}}],\"scattercarpet\":[{\"type\":\"scattercarpet\",\"marker\":{\"colorbar\":{\"outlinewidth\":0,\"ticks\":\"\"}}}],\"carpet\":[{\"aaxis\":{\"endlinecolor\":\"#2a3f5f\",\"gridcolor\":\"white\",\"linecolor\":\"white\",\"minorgridcolor\":\"white\",\"startlinecolor\":\"#2a3f5f\"},\"baxis\":{\"endlinecolor\":\"#2a3f5f\",\"gridcolor\":\"white\",\"linecolor\":\"white\",\"minorgridcolor\":\"white\",\"startlinecolor\":\"#2a3f5f\"},\"type\":\"carpet\"}],\"table\":[{\"cells\":{\"fill\":{\"color\":\"#EBF0F8\"},\"line\":{\"color\":\"white\"}},\"header\":{\"fill\":{\"color\":\"#C8D4E3\"},\"line\":{\"color\":\"white\"}},\"type\":\"table\"}],\"barpolar\":[{\"marker\":{\"line\":{\"color\":\"#E5ECF6\",\"width\":0.5},\"pattern\":{\"fillmode\":\"overlay\",\"size\":10,\"solidity\":0.2}},\"type\":\"barpolar\"}],\"pie\":[{\"automargin\":true,\"type\":\"pie\"}]},\"layout\":{\"autotypenumbers\":\"strict\",\"colorway\":[\"#636efa\",\"#EF553B\",\"#00cc96\",\"#ab63fa\",\"#FFA15A\",\"#19d3f3\",\"#FF6692\",\"#B6E880\",\"#FF97FF\",\"#FECB52\"],\"font\":{\"color\":\"#2a3f5f\"},\"hovermode\":\"closest\",\"hoverlabel\":{\"align\":\"left\"},\"paper_bgcolor\":\"white\",\"plot_bgcolor\":\"#E5ECF6\",\"polar\":{\"bgcolor\":\"#E5ECF6\",\"angularaxis\":{\"gridcolor\":\"white\",\"linecolor\":\"white\",\"ticks\":\"\"},\"radialaxis\":{\"gridcolor\":\"white\",\"linecolor\":\"white\",\"ticks\":\"\"}},\"ternary\":{\"bgcolor\":\"#E5ECF6\",\"aaxis\":{\"gridcolor\":\"white\",\"linecolor\":\"white\",\"ticks\":\"\"},\"baxis\":{\"gridcolor\":\"white\",\"linecolor\":\"white\",\"ticks\":\"\"},\"caxis\":{\"gridcolor\":\"white\",\"linecolor\":\"white\",\"ticks\":\"\"}},\"coloraxis\":{\"colorbar\":{\"outlinewidth\":0,\"ticks\":\"\"}},\"colorscale\":{\"sequential\":[[0.0,\"#0d0887\"],[0.1111111111111111,\"#46039f\"],[0.2222222222222222,\"#7201a8\"],[0.3333333333333333,\"#9c179e\"],[0.4444444444444444,\"#bd3786\"],[0.5555555555555556,\"#d8576b\"],[0.6666666666666666,\"#ed7953\"],[0.7777777777777778,\"#fb9f3a\"],[0.8888888888888888,\"#fdca26\"],[1.0,\"#f0f921\"]],\"sequentialminus\":[[0.0,\"#0d0887\"],[0.1111111111111111,\"#46039f\"],[0.2222222222222222,\"#7201a8\"],[0.3333333333333333,\"#9c179e\"],[0.4444444444444444,\"#bd3786\"],[0.5555555555555556,\"#d8576b\"],[0.6666666666666666,\"#ed7953\"],[0.7777777777777778,\"#fb9f3a\"],[0.8888888888888888,\"#fdca26\"],[1.0,\"#f0f921\"]],\"diverging\":[[0,\"#8e0152\"],[0.1,\"#c51b7d\"],[0.2,\"#de77ae\"],[0.3,\"#f1b6da\"],[0.4,\"#fde0ef\"],[0.5,\"#f7f7f7\"],[0.6,\"#e6f5d0\"],[0.7,\"#b8e186\"],[0.8,\"#7fbc41\"],[0.9,\"#4d9221\"],[1,\"#276419\"]]},\"xaxis\":{\"gridcolor\":\"white\",\"linecolor\":\"white\",\"ticks\":\"\",\"title\":{\"standoff\":15},\"zerolinecolor\":\"white\",\"automargin\":true,\"zerolinewidth\":2},\"yaxis\":{\"gridcolor\":\"white\",\"linecolor\":\"white\",\"ticks\":\"\",\"title\":{\"standoff\":15},\"zerolinecolor\":\"white\",\"automargin\":true,\"zerolinewidth\":2},\"scene\":{\"xaxis\":{\"backgroundcolor\":\"#E5ECF6\",\"gridcolor\":\"white\",\"linecolor\":\"white\",\"showbackground\":true,\"ticks\":\"\",\"zerolinecolor\":\"white\",\"gridwidth\":2},\"yaxis\":{\"backgroundcolor\":\"#E5ECF6\",\"gridcolor\":\"white\",\"linecolor\":\"white\",\"showbackground\":true,\"ticks\":\"\",\"zerolinecolor\":\"white\",\"gridwidth\":2},\"zaxis\":{\"backgroundcolor\":\"#E5ECF6\",\"gridcolor\":\"white\",\"linecolor\":\"white\",\"showbackground\":true,\"ticks\":\"\",\"zerolinecolor\":\"white\",\"gridwidth\":2}},\"shapedefaults\":{\"line\":{\"color\":\"#2a3f5f\"}},\"annotationdefaults\":{\"arrowcolor\":\"#2a3f5f\",\"arrowhead\":0,\"arrowwidth\":1},\"geo\":{\"bgcolor\":\"white\",\"landcolor\":\"#E5ECF6\",\"subunitcolor\":\"white\",\"showland\":true,\"showlakes\":true,\"lakecolor\":\"white\"},\"title\":{\"x\":0.05},\"mapbox\":{\"style\":\"light\"}}},\"xaxis\":{\"anchor\":\"y\",\"domain\":[0.0,1.0],\"title\":{\"text\":\"x\"}},\"yaxis\":{\"anchor\":\"x\",\"domain\":[0.0,1.0],\"title\":{\"text\":\"y\"}},\"legend\":{\"title\":{\"text\":\"Growth_Milestone\"},\"tracegroupgap\":0},\"margin\":{\"t\":60}},                        {\"responsive\": true}                    ).then(function(){\n",
       "                            \n",
       "var gd = document.getElementById('036a72c8-2b1f-423d-8fe4-843cd5343998');\n",
       "var x = new MutationObserver(function (mutations, observer) {{\n",
       "        var display = window.getComputedStyle(gd).display;\n",
       "        if (!display || display === 'none') {{\n",
       "            console.log([gd, 'removed!']);\n",
       "            Plotly.purge(gd);\n",
       "            observer.disconnect();\n",
       "        }}\n",
       "}});\n",
       "\n",
       "// Listen for the removal of the full notebook cells\n",
       "var notebookContainer = gd.closest('#notebook-container');\n",
       "if (notebookContainer) {{\n",
       "    x.observe(notebookContainer, {childList: true});\n",
       "}}\n",
       "\n",
       "// Listen for the clearing of the current output cell\n",
       "var outputEl = gd.closest('.output');\n",
       "if (outputEl) {{\n",
       "    x.observe(outputEl, {childList: true});\n",
       "}}\n",
       "\n",
       "                        })                };                });            </script>        </div>"
      ]
     },
     "metadata": {},
     "output_type": "display_data"
    }
   ],
   "source": [
    "import warnings\n",
    "from plotly import express\n",
    "\n",
    "warnings.filterwarnings(action='ignore', category=FutureWarning)\n",
    "express.scatter(data_frame=df, x='x', y='y', color=TARGET, )"
   ]
  },
  {
   "cell_type": "markdown",
   "id": "43db9bd1",
   "metadata": {
    "papermill": {
     "duration": 0.00731,
     "end_time": "2024-07-30T16:21:28.908606",
     "exception": false,
     "start_time": "2024-07-30T16:21:28.901296",
     "status": "completed"
    },
    "tags": []
   },
   "source": [
    "Dimension reduction with UMAP causes our data to cluster, but not according to the target variable."
   ]
  },
  {
   "cell_type": "code",
   "execution_count": 7,
   "id": "463c5b35",
   "metadata": {
    "execution": {
     "iopub.execute_input": "2024-07-30T16:21:28.925627Z",
     "iopub.status.busy": "2024-07-30T16:21:28.925216Z",
     "iopub.status.idle": "2024-07-30T16:21:28.981004Z",
     "shell.execute_reply": "2024-07-30T16:21:28.979799Z"
    },
    "papermill": {
     "duration": 0.067386,
     "end_time": "2024-07-30T16:21:28.983631",
     "exception": false,
     "start_time": "2024-07-30T16:21:28.916245",
     "status": "completed"
    },
    "tags": []
   },
   "outputs": [
    {
     "name": "stdout",
     "output_type": "stream",
     "text": [
      "model fit in 156 iterations\n",
      "accuracy: 0.4359\n"
     ]
    }
   ],
   "source": [
    "from sklearn.linear_model import LogisticRegression\n",
    "from sklearn.model_selection import train_test_split\n",
    "from sklearn.metrics import accuracy_score\n",
    "\n",
    "X_train, X_test, y_train, y_test = train_test_split(df[COLUMNS], df[TARGET], test_size=0.2, random_state=2024, stratify=df[TARGET])\n",
    "model = LogisticRegression(max_iter=200, tol=1e-12).fit(X_train, y_train)\n",
    "print('model fit in {} iterations'.format(model.n_iter_[0]))\n",
    "\n",
    "print('accuracy: {:5.4f}'.format(accuracy_score(y_true=y_test, y_pred=model.predict(X=X_test))))"
   ]
  },
  {
   "cell_type": "code",
   "execution_count": 8,
   "id": "8071e3e8",
   "metadata": {
    "execution": {
     "iopub.execute_input": "2024-07-30T16:21:29.001477Z",
     "iopub.status.busy": "2024-07-30T16:21:29.000358Z",
     "iopub.status.idle": "2024-07-30T16:21:29.019413Z",
     "shell.execute_reply": "2024-07-30T16:21:29.017968Z"
    },
    "papermill": {
     "duration": 0.030451,
     "end_time": "2024-07-30T16:21:29.021829",
     "exception": false,
     "start_time": "2024-07-30T16:21:28.991378",
     "status": "completed"
    },
    "tags": []
   },
   "outputs": [
    {
     "name": "stdout",
     "output_type": "stream",
     "text": [
      "              precision    recall  f1-score   support\n",
      "\n",
      "       False       0.45      0.45      0.45        20\n",
      "        True       0.42      0.42      0.42        19\n",
      "\n",
      "    accuracy                           0.44        39\n",
      "   macro avg       0.44      0.44      0.44        39\n",
      "weighted avg       0.44      0.44      0.44        39\n",
      "\n"
     ]
    }
   ],
   "source": [
    "from sklearn.metrics import classification_report\n",
    "\n",
    "print(classification_report(zero_division=0 , y_true=y_test, y_pred=model.predict(X=X_test)))"
   ]
  },
  {
   "cell_type": "markdown",
   "id": "984f3f7e",
   "metadata": {
    "papermill": {
     "duration": 0.007515,
     "end_time": "2024-07-30T16:21:29.037319",
     "exception": false,
     "start_time": "2024-07-30T16:21:29.029804",
     "status": "completed"
    },
    "tags": []
   },
   "source": [
    "Our model does poorly on both classes. Can we do markedly better with a different model?"
   ]
  },
  {
   "cell_type": "code",
   "execution_count": 9,
   "id": "9e51a9c1",
   "metadata": {
    "execution": {
     "iopub.execute_input": "2024-07-30T16:21:29.054920Z",
     "iopub.status.busy": "2024-07-30T16:21:29.054072Z",
     "iopub.status.idle": "2024-07-30T16:21:29.972759Z",
     "shell.execute_reply": "2024-07-30T16:21:29.971207Z"
    },
    "papermill": {
     "duration": 0.930535,
     "end_time": "2024-07-30T16:21:29.975539",
     "exception": false,
     "start_time": "2024-07-30T16:21:29.045004",
     "status": "completed"
    },
    "tags": []
   },
   "outputs": [
    {
     "name": "stdout",
     "output_type": "stream",
     "text": [
      "0.4211 0:00:00.007624 Naive Bayes\n",
      "0.1667 0:00:00.019627 QDA\n",
      "0.5128 0:00:00.011844 3 Nearest Neighbors\n",
      "0.5455 0:00:00.010471 5 Nearest Neighbors\n",
      "0.4211 0:00:00.011488 Linear SVM\n"
     ]
    },
    {
     "name": "stderr",
     "output_type": "stream",
     "text": [
      "/opt/conda/lib/python3.10/site-packages/sklearn/discriminant_analysis.py:926: UserWarning:\n",
      "\n",
      "Variables are collinear\n",
      "\n",
      "/opt/conda/lib/python3.10/site-packages/sklearn/gaussian_process/kernels.py:420: ConvergenceWarning:\n",
      "\n",
      "The optimal value found for dimension 0 of parameter k1__constant_value is close to the specified lower bound 1e-05. Decreasing the bound and calling fit again may find a better value.\n",
      "\n"
     ]
    },
    {
     "name": "stdout",
     "output_type": "stream",
     "text": [
      "0.5455 0:00:00.329560 Gaussian Process\n",
      "0.6047 0:00:00.015692 Decision Tree\n",
      "0.6364 0:00:00.105805 10 estimator Random Forest\n",
      "0.6047 0:00:00.052302 20 estimator Random Forest\n",
      "0.6552 0:00:00.059330 Neural Net\n",
      "0.6222 0:00:00.168206 AdaBoost\n",
      "0.1818 0:00:00.011358 RBF SVM\n",
      "best: 0.6551724137931034 Neural Net\n"
     ]
    }
   ],
   "source": [
    "from sklearn.discriminant_analysis import QuadraticDiscriminantAnalysis\n",
    "from sklearn.ensemble import AdaBoostClassifier\n",
    "from sklearn.ensemble import RandomForestClassifier\n",
    "from sklearn.gaussian_process import GaussianProcessClassifier\n",
    "from sklearn.gaussian_process.kernels import RBF\n",
    "from sklearn.metrics import f1_score\n",
    "from sklearn.naive_bayes import GaussianNB\n",
    "from sklearn.neighbors import KNeighborsClassifier\n",
    "from sklearn.neural_network import MLPClassifier\n",
    "from sklearn.svm import SVC\n",
    "from sklearn.tree import DecisionTreeClassifier\n",
    "\n",
    "MODEL = {\n",
    "    'Naive Bayes': GaussianNB(),\n",
    "    'QDA': QuadraticDiscriminantAnalysis(),\n",
    "    '3 Nearest Neighbors': KNeighborsClassifier(n_neighbors=3),\n",
    "    '5 Nearest Neighbors': KNeighborsClassifier(n_neighbors=5),\n",
    "    'Linear SVM': SVC(kernel='linear', C=0.025, random_state=2024),\n",
    "    'Gaussian Process':GaussianProcessClassifier(1.0 * RBF(1.0), random_state=2024),\n",
    "    'Decision Tree': DecisionTreeClassifier(max_depth=5, random_state=2024),\n",
    "    '10 estimator Random Forest': RandomForestClassifier(max_depth=5, n_estimators=10, max_features=1, random_state=2024),\n",
    "    '20 estimator Random Forest': RandomForestClassifier(max_depth=5, n_estimators=20, max_features=1, random_state=2024),\n",
    "    'Neural Net': MLPClassifier(alpha=1, max_iter=1000, random_state=2024),\n",
    "    'AdaBoost': AdaBoostClassifier(algorithm='SAMME', random_state=2024),\n",
    "    'RBF SVM': SVC(gamma=2, C=1, random_state=2024),\n",
    "}\n",
    "\n",
    "result = []\n",
    "for name, clf in MODEL.items():\n",
    "    time_start = arrow.now()\n",
    "    clf.fit(X=X_train, y=y_train)\n",
    "    score = f1_score(y_true=y_test, y_pred=clf.predict(X=X_test))\n",
    "    result.append((score, name))\n",
    "    print('{:5.4f} {} {}'.format(score, arrow.now() - time_start, name))\n",
    "result = sorted(result, key=lambda x: x[0], reverse=True)\n",
    "print('best: {} {}'.format(result[0][0], result[0][1]))"
   ]
  },
  {
   "cell_type": "markdown",
   "id": "4126f393",
   "metadata": {
    "papermill": {
     "duration": 0.008158,
     "end_time": "2024-07-30T16:21:29.992511",
     "exception": false,
     "start_time": "2024-07-30T16:21:29.984353",
     "status": "completed"
    },
    "tags": []
   },
   "source": [
    "None of our classifiers do particularly well; let's pick the best model from the analysis above and see how it does."
   ]
  },
  {
   "cell_type": "code",
   "execution_count": 10,
   "id": "87dc7d03",
   "metadata": {
    "execution": {
     "iopub.execute_input": "2024-07-30T16:21:30.012763Z",
     "iopub.status.busy": "2024-07-30T16:21:30.011590Z",
     "iopub.status.idle": "2024-07-30T16:21:30.090276Z",
     "shell.execute_reply": "2024-07-30T16:21:30.088787Z"
    },
    "papermill": {
     "duration": 0.092664,
     "end_time": "2024-07-30T16:21:30.094571",
     "exception": false,
     "start_time": "2024-07-30T16:21:30.001907",
     "status": "completed"
    },
    "tags": []
   },
   "outputs": [
    {
     "name": "stdout",
     "output_type": "stream",
     "text": [
      "              precision    recall  f1-score   support\n",
      "\n",
      "       False       0.00      0.00      0.00        20\n",
      "        True       0.49      1.00      0.66        19\n",
      "\n",
      "    accuracy                           0.49        39\n",
      "   macro avg       0.24      0.50      0.33        39\n",
      "weighted avg       0.24      0.49      0.32        39\n",
      "\n"
     ]
    }
   ],
   "source": [
    "net = MLPClassifier(alpha=1, max_iter=1000, random_state=2024).fit(X=X_train, y=y_train)\n",
    "print(classification_report(zero_division=0, y_true=y_test, y_pred=net.predict(X=X_test)))"
   ]
  },
  {
   "cell_type": "markdown",
   "id": "7e25d506",
   "metadata": {
    "papermill": {
     "duration": 0.017244,
     "end_time": "2024-07-30T16:21:30.129670",
     "exception": false,
     "start_time": "2024-07-30T16:21:30.112426",
     "status": "completed"
    },
    "tags": []
   },
   "source": [
    "This is a case where we get our best f1 score from a model that puts all the cases in the True class, which is really bad."
   ]
  }
 ],
 "metadata": {
  "kaggle": {
   "accelerator": "none",
   "dataSources": [
    {
     "datasetId": 5363221,
     "sourceId": 8917906,
     "sourceType": "datasetVersion"
    }
   ],
   "dockerImageVersionId": 30746,
   "isGpuEnabled": false,
   "isInternetEnabled": true,
   "language": "python",
   "sourceType": "notebook"
  },
  "kernelspec": {
   "display_name": "Python 3",
   "language": "python",
   "name": "python3"
  },
  "language_info": {
   "codemirror_mode": {
    "name": "ipython",
    "version": 3
   },
   "file_extension": ".py",
   "mimetype": "text/x-python",
   "name": "python",
   "nbconvert_exporter": "python",
   "pygments_lexer": "ipython3",
   "version": "3.10.13"
  },
  "papermill": {
   "default_parameters": {},
   "duration": 58.156854,
   "end_time": "2024-07-30T16:21:33.428100",
   "environment_variables": {},
   "exception": null,
   "input_path": "__notebook__.ipynb",
   "output_path": "__notebook__.ipynb",
   "parameters": {},
   "start_time": "2024-07-30T16:20:35.271246",
   "version": "2.5.0"
  },
  "widgets": {
   "application/vnd.jupyter.widget-state+json": {
    "state": {
     "0dea5d20cd18466d8f57d038c566a82c": {
      "model_module": "@jupyter-widgets/controls",
      "model_module_version": "1.5.0",
      "model_name": "HTMLModel",
      "state": {
       "_dom_classes": [],
       "_model_module": "@jupyter-widgets/controls",
       "_model_module_version": "1.5.0",
       "_model_name": "HTMLModel",
       "_view_count": null,
       "_view_module": "@jupyter-widgets/controls",
       "_view_module_version": "1.5.0",
       "_view_name": "HTMLView",
       "description": "",
       "description_tooltip": null,
       "layout": "IPY_MODEL_75331891db744faabc7948bb64c7ac28",
       "placeholder": "​",
       "style": "IPY_MODEL_ac100879a965489397fca1a002019e5a",
       "value": " 500/500 [00:01]"
      }
     },
     "1232d2487bf749f897b31a54b3e5b42b": {
      "model_module": "@jupyter-widgets/controls",
      "model_module_version": "1.5.0",
      "model_name": "FloatProgressModel",
      "state": {
       "_dom_classes": [],
       "_model_module": "@jupyter-widgets/controls",
       "_model_module_version": "1.5.0",
       "_model_name": "FloatProgressModel",
       "_view_count": null,
       "_view_module": "@jupyter-widgets/controls",
       "_view_module_version": "1.5.0",
       "_view_name": "ProgressView",
       "bar_style": "success",
       "description": "",
       "description_tooltip": null,
       "layout": "IPY_MODEL_f4b171d939de4735b2d28b129b88839d",
       "max": 500.0,
       "min": 0.0,
       "orientation": "horizontal",
       "style": "IPY_MODEL_aba015d181f54b8e920240af8367ca49",
       "value": 500.0
      }
     },
     "2339a7f6da704e98bffc7adbc5cf4e8c": {
      "model_module": "@jupyter-widgets/base",
      "model_module_version": "1.2.0",
      "model_name": "LayoutModel",
      "state": {
       "_model_module": "@jupyter-widgets/base",
       "_model_module_version": "1.2.0",
       "_model_name": "LayoutModel",
       "_view_count": null,
       "_view_module": "@jupyter-widgets/base",
       "_view_module_version": "1.2.0",
       "_view_name": "LayoutView",
       "align_content": null,
       "align_items": null,
       "align_self": null,
       "border": null,
       "bottom": null,
       "display": null,
       "flex": null,
       "flex_flow": null,
       "grid_area": null,
       "grid_auto_columns": null,
       "grid_auto_flow": null,
       "grid_auto_rows": null,
       "grid_column": null,
       "grid_gap": null,
       "grid_row": null,
       "grid_template_areas": null,
       "grid_template_columns": null,
       "grid_template_rows": null,
       "height": null,
       "justify_content": null,
       "justify_items": null,
       "left": null,
       "margin": null,
       "max_height": null,
       "max_width": null,
       "min_height": null,
       "min_width": null,
       "object_fit": null,
       "object_position": null,
       "order": null,
       "overflow": null,
       "overflow_x": null,
       "overflow_y": null,
       "padding": null,
       "right": null,
       "top": null,
       "visibility": null,
       "width": null
      }
     },
     "75331891db744faabc7948bb64c7ac28": {
      "model_module": "@jupyter-widgets/base",
      "model_module_version": "1.2.0",
      "model_name": "LayoutModel",
      "state": {
       "_model_module": "@jupyter-widgets/base",
       "_model_module_version": "1.2.0",
       "_model_name": "LayoutModel",
       "_view_count": null,
       "_view_module": "@jupyter-widgets/base",
       "_view_module_version": "1.2.0",
       "_view_name": "LayoutView",
       "align_content": null,
       "align_items": null,
       "align_self": null,
       "border": null,
       "bottom": null,
       "display": null,
       "flex": null,
       "flex_flow": null,
       "grid_area": null,
       "grid_auto_columns": null,
       "grid_auto_flow": null,
       "grid_auto_rows": null,
       "grid_column": null,
       "grid_gap": null,
       "grid_row": null,
       "grid_template_areas": null,
       "grid_template_columns": null,
       "grid_template_rows": null,
       "height": null,
       "justify_content": null,
       "justify_items": null,
       "left": null,
       "margin": null,
       "max_height": null,
       "max_width": null,
       "min_height": null,
       "min_width": null,
       "object_fit": null,
       "object_position": null,
       "order": null,
       "overflow": null,
       "overflow_x": null,
       "overflow_y": null,
       "padding": null,
       "right": null,
       "top": null,
       "visibility": null,
       "width": null
      }
     },
     "95311346e35b434c85096d82cef23269": {
      "model_module": "@jupyter-widgets/controls",
      "model_module_version": "1.5.0",
      "model_name": "HTMLModel",
      "state": {
       "_dom_classes": [],
       "_model_module": "@jupyter-widgets/controls",
       "_model_module_version": "1.5.0",
       "_model_name": "HTMLModel",
       "_view_count": null,
       "_view_module": "@jupyter-widgets/controls",
       "_view_module_version": "1.5.0",
       "_view_name": "HTMLView",
       "description": "",
       "description_tooltip": null,
       "layout": "IPY_MODEL_e81a9f7a218a4bfaaac8edcadaa7c5d8",
       "placeholder": "​",
       "style": "IPY_MODEL_df20246cf72c40aeaea4ded5813d2cea",
       "value": "Epochs completed: 100%| "
      }
     },
     "aba015d181f54b8e920240af8367ca49": {
      "model_module": "@jupyter-widgets/controls",
      "model_module_version": "1.5.0",
      "model_name": "ProgressStyleModel",
      "state": {
       "_model_module": "@jupyter-widgets/controls",
       "_model_module_version": "1.5.0",
       "_model_name": "ProgressStyleModel",
       "_view_count": null,
       "_view_module": "@jupyter-widgets/base",
       "_view_module_version": "1.2.0",
       "_view_name": "StyleView",
       "bar_color": null,
       "description_width": ""
      }
     },
     "ac100879a965489397fca1a002019e5a": {
      "model_module": "@jupyter-widgets/controls",
      "model_module_version": "1.5.0",
      "model_name": "DescriptionStyleModel",
      "state": {
       "_model_module": "@jupyter-widgets/controls",
       "_model_module_version": "1.5.0",
       "_model_name": "DescriptionStyleModel",
       "_view_count": null,
       "_view_module": "@jupyter-widgets/base",
       "_view_module_version": "1.2.0",
       "_view_name": "StyleView",
       "description_width": ""
      }
     },
     "de65bd71e9f143adb2228fd8eced7084": {
      "model_module": "@jupyter-widgets/controls",
      "model_module_version": "1.5.0",
      "model_name": "HBoxModel",
      "state": {
       "_dom_classes": [],
       "_model_module": "@jupyter-widgets/controls",
       "_model_module_version": "1.5.0",
       "_model_name": "HBoxModel",
       "_view_count": null,
       "_view_module": "@jupyter-widgets/controls",
       "_view_module_version": "1.5.0",
       "_view_name": "HBoxView",
       "box_style": "",
       "children": [
        "IPY_MODEL_95311346e35b434c85096d82cef23269",
        "IPY_MODEL_1232d2487bf749f897b31a54b3e5b42b",
        "IPY_MODEL_0dea5d20cd18466d8f57d038c566a82c"
       ],
       "layout": "IPY_MODEL_2339a7f6da704e98bffc7adbc5cf4e8c"
      }
     },
     "df20246cf72c40aeaea4ded5813d2cea": {
      "model_module": "@jupyter-widgets/controls",
      "model_module_version": "1.5.0",
      "model_name": "DescriptionStyleModel",
      "state": {
       "_model_module": "@jupyter-widgets/controls",
       "_model_module_version": "1.5.0",
       "_model_name": "DescriptionStyleModel",
       "_view_count": null,
       "_view_module": "@jupyter-widgets/base",
       "_view_module_version": "1.2.0",
       "_view_name": "StyleView",
       "description_width": ""
      }
     },
     "e81a9f7a218a4bfaaac8edcadaa7c5d8": {
      "model_module": "@jupyter-widgets/base",
      "model_module_version": "1.2.0",
      "model_name": "LayoutModel",
      "state": {
       "_model_module": "@jupyter-widgets/base",
       "_model_module_version": "1.2.0",
       "_model_name": "LayoutModel",
       "_view_count": null,
       "_view_module": "@jupyter-widgets/base",
       "_view_module_version": "1.2.0",
       "_view_name": "LayoutView",
       "align_content": null,
       "align_items": null,
       "align_self": null,
       "border": null,
       "bottom": null,
       "display": null,
       "flex": null,
       "flex_flow": null,
       "grid_area": null,
       "grid_auto_columns": null,
       "grid_auto_flow": null,
       "grid_auto_rows": null,
       "grid_column": null,
       "grid_gap": null,
       "grid_row": null,
       "grid_template_areas": null,
       "grid_template_columns": null,
       "grid_template_rows": null,
       "height": null,
       "justify_content": null,
       "justify_items": null,
       "left": null,
       "margin": null,
       "max_height": null,
       "max_width": null,
       "min_height": null,
       "min_width": null,
       "object_fit": null,
       "object_position": null,
       "order": null,
       "overflow": null,
       "overflow_x": null,
       "overflow_y": null,
       "padding": null,
       "right": null,
       "top": null,
       "visibility": null,
       "width": null
      }
     },
     "f4b171d939de4735b2d28b129b88839d": {
      "model_module": "@jupyter-widgets/base",
      "model_module_version": "1.2.0",
      "model_name": "LayoutModel",
      "state": {
       "_model_module": "@jupyter-widgets/base",
       "_model_module_version": "1.2.0",
       "_model_name": "LayoutModel",
       "_view_count": null,
       "_view_module": "@jupyter-widgets/base",
       "_view_module_version": "1.2.0",
       "_view_name": "LayoutView",
       "align_content": null,
       "align_items": null,
       "align_self": null,
       "border": null,
       "bottom": null,
       "display": null,
       "flex": null,
       "flex_flow": null,
       "grid_area": null,
       "grid_auto_columns": null,
       "grid_auto_flow": null,
       "grid_auto_rows": null,
       "grid_column": null,
       "grid_gap": null,
       "grid_row": null,
       "grid_template_areas": null,
       "grid_template_columns": null,
       "grid_template_rows": null,
       "height": null,
       "justify_content": null,
       "justify_items": null,
       "left": null,
       "margin": null,
       "max_height": null,
       "max_width": null,
       "min_height": null,
       "min_width": null,
       "object_fit": null,
       "object_position": null,
       "order": null,
       "overflow": null,
       "overflow_x": null,
       "overflow_y": null,
       "padding": null,
       "right": null,
       "top": null,
       "visibility": null,
       "width": null
      }
     }
    },
    "version_major": 2,
    "version_minor": 0
   }
  }
 },
 "nbformat": 4,
 "nbformat_minor": 5
}
