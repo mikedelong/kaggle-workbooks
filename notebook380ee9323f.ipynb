{
 "cells": [
  {
   "cell_type": "code",
   "execution_count": 1,
   "id": "fbbccadf",
   "metadata": {
    "_cell_guid": "b1076dfc-b9ad-4769-8c92-a6c4dae69d19",
    "_uuid": "8f2839f25d086af736a60e9eeb907d3b93b6e0e5",
    "execution": {
     "iopub.execute_input": "2023-06-23T18:51:38.169008Z",
     "iopub.status.busy": "2023-06-23T18:51:38.168453Z",
     "iopub.status.idle": "2023-06-23T18:51:38.184670Z",
     "shell.execute_reply": "2023-06-23T18:51:38.182850Z"
    },
    "papermill": {
     "duration": 0.025733,
     "end_time": "2023-06-23T18:51:38.187760",
     "exception": false,
     "start_time": "2023-06-23T18:51:38.162027",
     "status": "completed"
    },
    "tags": []
   },
   "outputs": [],
   "source": [
    "import numpy as np # linear algebra\n",
    "import pandas as pd # data processing, CSV file I/O (e.g. pd.read_csv)\n",
    "from shapely.wkt import loads"
   ]
  },
  {
   "cell_type": "code",
   "execution_count": 2,
   "id": "44a779d3",
   "metadata": {
    "execution": {
     "iopub.execute_input": "2023-06-23T18:51:38.197994Z",
     "iopub.status.busy": "2023-06-23T18:51:38.197575Z",
     "iopub.status.idle": "2023-06-23T18:51:43.274616Z",
     "shell.execute_reply": "2023-06-23T18:51:43.273749Z"
    },
    "papermill": {
     "duration": 5.085022,
     "end_time": "2023-06-23T18:51:43.277146",
     "exception": false,
     "start_time": "2023-06-23T18:51:38.192124",
     "status": "completed"
    },
    "tags": []
   },
   "outputs": [
    {
     "data": {
      "text/plain": [
       "(135038, 17)"
      ]
     },
     "execution_count": 2,
     "metadata": {},
     "output_type": "execute_result"
    }
   ],
   "source": [
    "def load_vehicle_location(point):\n",
    "    if point:\n",
    "        return loads(point)\n",
    "    else:\n",
    "        return np.nan\n",
    "filename = '../input/electric-vehicle-population-data/Electric_Vehicle_Population_Data.csv'\n",
    "usecols = ['VIN (1-10)', 'County', 'City', 'State', 'Postal Code', 'Model Year',\n",
    "       'Make', 'Model', 'Electric Vehicle Type',\n",
    "       'Clean Alternative Fuel Vehicle (CAFV) Eligibility', 'Electric Range',\n",
    "       'Base MSRP', 'Legislative District', 'DOL Vehicle ID',\n",
    "       'Vehicle Location', 'Electric Utility', '2020 Census Tract']\n",
    "converters = {'Vehicle Location': load_vehicle_location}\n",
    "dtype = {'Postal Code': str,   '2020 Census Tract': str}\n",
    "df = pd.read_csv(filepath_or_buffer=filename,\n",
    "                 converters=converters,\n",
    "                 dtype=dtype,\n",
    "                 usecols=usecols, )\n",
    "df.shape"
   ]
  },
  {
   "cell_type": "code",
   "execution_count": 3,
   "id": "578fd65d",
   "metadata": {
    "execution": {
     "iopub.execute_input": "2023-06-23T18:51:43.290201Z",
     "iopub.status.busy": "2023-06-23T18:51:43.287516Z",
     "iopub.status.idle": "2023-06-23T18:51:43.334154Z",
     "shell.execute_reply": "2023-06-23T18:51:43.332440Z"
    },
    "papermill": {
     "duration": 0.055779,
     "end_time": "2023-06-23T18:51:43.337290",
     "exception": false,
     "start_time": "2023-06-23T18:51:43.281511",
     "status": "completed"
    },
    "tags": []
   },
   "outputs": [
    {
     "data": {
      "text/html": [
       "<div>\n",
       "<style scoped>\n",
       "    .dataframe tbody tr th:only-of-type {\n",
       "        vertical-align: middle;\n",
       "    }\n",
       "\n",
       "    .dataframe tbody tr th {\n",
       "        vertical-align: top;\n",
       "    }\n",
       "\n",
       "    .dataframe thead th {\n",
       "        text-align: right;\n",
       "    }\n",
       "</style>\n",
       "<table border=\"1\" class=\"dataframe\">\n",
       "  <thead>\n",
       "    <tr style=\"text-align: right;\">\n",
       "      <th></th>\n",
       "      <th>VIN (1-10)</th>\n",
       "      <th>County</th>\n",
       "      <th>City</th>\n",
       "      <th>State</th>\n",
       "      <th>Postal Code</th>\n",
       "      <th>Model Year</th>\n",
       "      <th>Make</th>\n",
       "      <th>Model</th>\n",
       "      <th>Electric Vehicle Type</th>\n",
       "      <th>Clean Alternative Fuel Vehicle (CAFV) Eligibility</th>\n",
       "      <th>Electric Range</th>\n",
       "      <th>Base MSRP</th>\n",
       "      <th>Legislative District</th>\n",
       "      <th>DOL Vehicle ID</th>\n",
       "      <th>Vehicle Location</th>\n",
       "      <th>Electric Utility</th>\n",
       "      <th>2020 Census Tract</th>\n",
       "    </tr>\n",
       "  </thead>\n",
       "  <tbody>\n",
       "    <tr>\n",
       "      <th>0</th>\n",
       "      <td>5YJ3E1EA0K</td>\n",
       "      <td>Thurston</td>\n",
       "      <td>Tumwater</td>\n",
       "      <td>WA</td>\n",
       "      <td>98512</td>\n",
       "      <td>2019</td>\n",
       "      <td>TESLA</td>\n",
       "      <td>MODEL 3</td>\n",
       "      <td>Battery Electric Vehicle (BEV)</td>\n",
       "      <td>Clean Alternative Fuel Vehicle Eligible</td>\n",
       "      <td>220.0</td>\n",
       "      <td>0.0</td>\n",
       "      <td>22.0</td>\n",
       "      <td>242565116</td>\n",
       "      <td>POINT (-122.91310169999997 47.01359260000004)</td>\n",
       "      <td>PUGET SOUND ENERGY INC</td>\n",
       "      <td>53067010910</td>\n",
       "    </tr>\n",
       "    <tr>\n",
       "      <th>1</th>\n",
       "      <td>1N4BZ1DV4N</td>\n",
       "      <td>Island</td>\n",
       "      <td>Clinton</td>\n",
       "      <td>WA</td>\n",
       "      <td>98236</td>\n",
       "      <td>2022</td>\n",
       "      <td>NISSAN</td>\n",
       "      <td>LEAF</td>\n",
       "      <td>Battery Electric Vehicle (BEV)</td>\n",
       "      <td>Eligibility unknown as battery range has not b...</td>\n",
       "      <td>0.0</td>\n",
       "      <td>0.0</td>\n",
       "      <td>10.0</td>\n",
       "      <td>183272785</td>\n",
       "      <td>POINT (-122.35936399999997 47.97965520000008)</td>\n",
       "      <td>PUGET SOUND ENERGY INC</td>\n",
       "      <td>53029972000</td>\n",
       "    </tr>\n",
       "    <tr>\n",
       "      <th>2</th>\n",
       "      <td>5YJ3E1EA0L</td>\n",
       "      <td>Snohomish</td>\n",
       "      <td>Snohomish</td>\n",
       "      <td>WA</td>\n",
       "      <td>98290</td>\n",
       "      <td>2020</td>\n",
       "      <td>TESLA</td>\n",
       "      <td>MODEL 3</td>\n",
       "      <td>Battery Electric Vehicle (BEV)</td>\n",
       "      <td>Clean Alternative Fuel Vehicle Eligible</td>\n",
       "      <td>266.0</td>\n",
       "      <td>0.0</td>\n",
       "      <td>44.0</td>\n",
       "      <td>112552366</td>\n",
       "      <td>POINT (-122.09150499999998 47.91555500000004)</td>\n",
       "      <td>PUGET SOUND ENERGY INC</td>\n",
       "      <td>53061052502</td>\n",
       "    </tr>\n",
       "    <tr>\n",
       "      <th>3</th>\n",
       "      <td>5YJ3E1EBXL</td>\n",
       "      <td>King</td>\n",
       "      <td>Seattle</td>\n",
       "      <td>WA</td>\n",
       "      <td>98134</td>\n",
       "      <td>2020</td>\n",
       "      <td>TESLA</td>\n",
       "      <td>MODEL 3</td>\n",
       "      <td>Battery Electric Vehicle (BEV)</td>\n",
       "      <td>Clean Alternative Fuel Vehicle Eligible</td>\n",
       "      <td>322.0</td>\n",
       "      <td>0.0</td>\n",
       "      <td>11.0</td>\n",
       "      <td>6336319</td>\n",
       "      <td>POINT (-122.32981499999994 47.579810000000066)</td>\n",
       "      <td>CITY OF SEATTLE - (WA)|CITY OF TACOMA - (WA)</td>\n",
       "      <td>53033009300</td>\n",
       "    </tr>\n",
       "    <tr>\n",
       "      <th>4</th>\n",
       "      <td>5YJSA1CP0D</td>\n",
       "      <td>Snohomish</td>\n",
       "      <td>Edmonds</td>\n",
       "      <td>WA</td>\n",
       "      <td>98020</td>\n",
       "      <td>2013</td>\n",
       "      <td>TESLA</td>\n",
       "      <td>MODEL S</td>\n",
       "      <td>Battery Electric Vehicle (BEV)</td>\n",
       "      <td>Clean Alternative Fuel Vehicle Eligible</td>\n",
       "      <td>208.0</td>\n",
       "      <td>69900.0</td>\n",
       "      <td>21.0</td>\n",
       "      <td>186212960</td>\n",
       "      <td>POINT (-122.37507 47.80807000000004)</td>\n",
       "      <td>PUGET SOUND ENERGY INC</td>\n",
       "      <td>53061050403</td>\n",
       "    </tr>\n",
       "  </tbody>\n",
       "</table>\n",
       "</div>"
      ],
      "text/plain": [
       "   VIN (1-10)     County       City State Postal Code  Model Year    Make  \\\n",
       "0  5YJ3E1EA0K   Thurston   Tumwater    WA       98512        2019   TESLA   \n",
       "1  1N4BZ1DV4N     Island    Clinton    WA       98236        2022  NISSAN   \n",
       "2  5YJ3E1EA0L  Snohomish  Snohomish    WA       98290        2020   TESLA   \n",
       "3  5YJ3E1EBXL       King    Seattle    WA       98134        2020   TESLA   \n",
       "4  5YJSA1CP0D  Snohomish    Edmonds    WA       98020        2013   TESLA   \n",
       "\n",
       "     Model           Electric Vehicle Type  \\\n",
       "0  MODEL 3  Battery Electric Vehicle (BEV)   \n",
       "1     LEAF  Battery Electric Vehicle (BEV)   \n",
       "2  MODEL 3  Battery Electric Vehicle (BEV)   \n",
       "3  MODEL 3  Battery Electric Vehicle (BEV)   \n",
       "4  MODEL S  Battery Electric Vehicle (BEV)   \n",
       "\n",
       "   Clean Alternative Fuel Vehicle (CAFV) Eligibility  Electric Range  \\\n",
       "0            Clean Alternative Fuel Vehicle Eligible           220.0   \n",
       "1  Eligibility unknown as battery range has not b...             0.0   \n",
       "2            Clean Alternative Fuel Vehicle Eligible           266.0   \n",
       "3            Clean Alternative Fuel Vehicle Eligible           322.0   \n",
       "4            Clean Alternative Fuel Vehicle Eligible           208.0   \n",
       "\n",
       "   Base MSRP  Legislative District  DOL Vehicle ID  \\\n",
       "0        0.0                  22.0       242565116   \n",
       "1        0.0                  10.0       183272785   \n",
       "2        0.0                  44.0       112552366   \n",
       "3        0.0                  11.0         6336319   \n",
       "4    69900.0                  21.0       186212960   \n",
       "\n",
       "                                 Vehicle Location  \\\n",
       "0   POINT (-122.91310169999997 47.01359260000004)   \n",
       "1   POINT (-122.35936399999997 47.97965520000008)   \n",
       "2   POINT (-122.09150499999998 47.91555500000004)   \n",
       "3  POINT (-122.32981499999994 47.579810000000066)   \n",
       "4            POINT (-122.37507 47.80807000000004)   \n",
       "\n",
       "                               Electric Utility 2020 Census Tract  \n",
       "0                        PUGET SOUND ENERGY INC       53067010910  \n",
       "1                        PUGET SOUND ENERGY INC       53029972000  \n",
       "2                        PUGET SOUND ENERGY INC       53061052502  \n",
       "3  CITY OF SEATTLE - (WA)|CITY OF TACOMA - (WA)       53033009300  \n",
       "4                        PUGET SOUND ENERGY INC       53061050403  "
      ]
     },
     "execution_count": 3,
     "metadata": {},
     "output_type": "execute_result"
    }
   ],
   "source": [
    "df.head()"
   ]
  },
  {
   "cell_type": "code",
   "execution_count": 4,
   "id": "d5992309",
   "metadata": {
    "execution": {
     "iopub.execute_input": "2023-06-23T18:51:43.348601Z",
     "iopub.status.busy": "2023-06-23T18:51:43.348157Z",
     "iopub.status.idle": "2023-06-23T18:51:43.357985Z",
     "shell.execute_reply": "2023-06-23T18:51:43.356795Z"
    },
    "papermill": {
     "duration": 0.018936,
     "end_time": "2023-06-23T18:51:43.360967",
     "exception": false,
     "start_time": "2023-06-23T18:51:43.342031",
     "status": "completed"
    },
    "tags": []
   },
   "outputs": [
    {
     "data": {
      "text/plain": [
       "VIN (1-10)                                            object\n",
       "County                                                object\n",
       "City                                                  object\n",
       "State                                                 object\n",
       "Postal Code                                           object\n",
       "Model Year                                             int64\n",
       "Make                                                  object\n",
       "Model                                                 object\n",
       "Electric Vehicle Type                                 object\n",
       "Clean Alternative Fuel Vehicle (CAFV) Eligibility     object\n",
       "Electric Range                                       float64\n",
       "Base MSRP                                            float64\n",
       "Legislative District                                 float64\n",
       "DOL Vehicle ID                                         int64\n",
       "Vehicle Location                                      object\n",
       "Electric Utility                                      object\n",
       "2020 Census Tract                                     object\n",
       "dtype: object"
      ]
     },
     "execution_count": 4,
     "metadata": {},
     "output_type": "execute_result"
    }
   ],
   "source": [
    "df.dtypes"
   ]
  },
  {
   "cell_type": "code",
   "execution_count": 5,
   "id": "eb71a6f7",
   "metadata": {
    "execution": {
     "iopub.execute_input": "2023-06-23T18:51:43.372452Z",
     "iopub.status.busy": "2023-06-23T18:51:43.372056Z",
     "iopub.status.idle": "2023-06-23T18:51:43.901890Z",
     "shell.execute_reply": "2023-06-23T18:51:43.900075Z"
    },
    "papermill": {
     "duration": 0.538727,
     "end_time": "2023-06-23T18:51:43.904699",
     "exception": false,
     "start_time": "2023-06-23T18:51:43.365972",
     "status": "completed"
    },
    "tags": []
   },
   "outputs": [
    {
     "data": {
      "text/plain": [
       "VIN (1-10)                                             0\n",
       "County                                                 8\n",
       "City                                                   8\n",
       "State                                                  0\n",
       "Postal Code                                            8\n",
       "Model Year                                             0\n",
       "Make                                                   0\n",
       "Model                                                249\n",
       "Electric Vehicle Type                                  0\n",
       "Clean Alternative Fuel Vehicle (CAFV) Eligibility      0\n",
       "Electric Range                                         1\n",
       "Base MSRP                                              1\n",
       "Legislative District                                 312\n",
       "DOL Vehicle ID                                         0\n",
       "Vehicle Location                                      10\n",
       "Electric Utility                                       8\n",
       "2020 Census Tract                                      8\n",
       "dtype: int64"
      ]
     },
     "execution_count": 5,
     "metadata": {},
     "output_type": "execute_result"
    }
   ],
   "source": [
    "df.isna().sum()"
   ]
  },
  {
   "cell_type": "code",
   "execution_count": 6,
   "id": "9564ba40",
   "metadata": {
    "execution": {
     "iopub.execute_input": "2023-06-23T18:51:43.916987Z",
     "iopub.status.busy": "2023-06-23T18:51:43.916551Z",
     "iopub.status.idle": "2023-06-23T18:51:43.957590Z",
     "shell.execute_reply": "2023-06-23T18:51:43.955484Z"
    },
    "papermill": {
     "duration": 0.051283,
     "end_time": "2023-06-23T18:51:43.961034",
     "exception": false,
     "start_time": "2023-06-23T18:51:43.909751",
     "status": "completed"
    },
    "tags": []
   },
   "outputs": [
    {
     "data": {
      "text/html": [
       "<div>\n",
       "<style scoped>\n",
       "    .dataframe tbody tr th:only-of-type {\n",
       "        vertical-align: middle;\n",
       "    }\n",
       "\n",
       "    .dataframe tbody tr th {\n",
       "        vertical-align: top;\n",
       "    }\n",
       "\n",
       "    .dataframe thead th {\n",
       "        text-align: right;\n",
       "    }\n",
       "</style>\n",
       "<table border=\"1\" class=\"dataframe\">\n",
       "  <thead>\n",
       "    <tr style=\"text-align: right;\">\n",
       "      <th></th>\n",
       "      <th>state</th>\n",
       "      <th>count</th>\n",
       "    </tr>\n",
       "  </thead>\n",
       "  <tbody>\n",
       "    <tr>\n",
       "      <th>0</th>\n",
       "      <td>WA</td>\n",
       "      <td>134726</td>\n",
       "    </tr>\n",
       "    <tr>\n",
       "      <th>1</th>\n",
       "      <td>CA</td>\n",
       "      <td>90</td>\n",
       "    </tr>\n",
       "    <tr>\n",
       "      <th>2</th>\n",
       "      <td>VA</td>\n",
       "      <td>33</td>\n",
       "    </tr>\n",
       "    <tr>\n",
       "      <th>3</th>\n",
       "      <td>MD</td>\n",
       "      <td>29</td>\n",
       "    </tr>\n",
       "    <tr>\n",
       "      <th>4</th>\n",
       "      <td>TX</td>\n",
       "      <td>18</td>\n",
       "    </tr>\n",
       "  </tbody>\n",
       "</table>\n",
       "</div>"
      ],
      "text/plain": [
       "  state   count\n",
       "0    WA  134726\n",
       "1    CA      90\n",
       "2    VA      33\n",
       "3    MD      29\n",
       "4    TX      18"
      ]
     },
     "execution_count": 6,
     "metadata": {},
     "output_type": "execute_result"
    }
   ],
   "source": [
    "state_counts = df['State'].value_counts()\n",
    "state_counts_df = pd.DataFrame(data={'state': state_counts.index, 'count': state_counts.values})\n",
    "state_counts_df.head()\n",
    "# almost all of our cars are in WA"
   ]
  },
  {
   "cell_type": "code",
   "execution_count": 7,
   "id": "98f421f7",
   "metadata": {
    "execution": {
     "iopub.execute_input": "2023-06-23T18:51:43.974280Z",
     "iopub.status.busy": "2023-06-23T18:51:43.973350Z",
     "iopub.status.idle": "2023-06-23T18:51:44.584606Z",
     "shell.execute_reply": "2023-06-23T18:51:44.583346Z"
    },
    "papermill": {
     "duration": 0.621044,
     "end_time": "2023-06-23T18:51:44.587405",
     "exception": false,
     "start_time": "2023-06-23T18:51:43.966361",
     "status": "completed"
    },
    "tags": []
   },
   "outputs": [
    {
     "data": {
      "text/plain": [
       "VIN (1-10)                                             0\n",
       "County                                                 0\n",
       "City                                                   0\n",
       "State                                                  0\n",
       "Postal Code                                            0\n",
       "Model Year                                             0\n",
       "Make                                                   0\n",
       "Model                                                249\n",
       "Electric Vehicle Type                                  0\n",
       "Clean Alternative Fuel Vehicle (CAFV) Eligibility      0\n",
       "Electric Range                                         1\n",
       "Base MSRP                                              1\n",
       "Legislative District                                   0\n",
       "DOL Vehicle ID                                         0\n",
       "Vehicle Location                                       0\n",
       "Electric Utility                                       0\n",
       "2020 Census Tract                                      0\n",
       "dtype: int64"
      ]
     },
     "execution_count": 7,
     "metadata": {},
     "output_type": "execute_result"
    }
   ],
   "source": [
    "# get the state of Washington since it's most of the data\n",
    "# and drop the two vehicles with no location information\n",
    "wa_df = df[df['State'] == 'WA']\n",
    "wa_df = wa_df[~wa_df['Vehicle Location'].isna()]\n",
    "wa_df.isna().sum()"
   ]
  },
  {
   "cell_type": "code",
   "execution_count": 8,
   "id": "88f23951",
   "metadata": {
    "execution": {
     "iopub.execute_input": "2023-06-23T18:51:44.600520Z",
     "iopub.status.busy": "2023-06-23T18:51:44.599535Z",
     "iopub.status.idle": "2023-06-23T18:51:50.501372Z",
     "shell.execute_reply": "2023-06-23T18:51:50.499806Z"
    },
    "papermill": {
     "duration": 5.911407,
     "end_time": "2023-06-23T18:51:50.504265",
     "exception": false,
     "start_time": "2023-06-23T18:51:44.592858",
     "status": "completed"
    },
    "tags": []
   },
   "outputs": [
    {
     "data": {
      "text/html": [
       "<div>\n",
       "<style scoped>\n",
       "    .dataframe tbody tr th:only-of-type {\n",
       "        vertical-align: middle;\n",
       "    }\n",
       "\n",
       "    .dataframe tbody tr th {\n",
       "        vertical-align: top;\n",
       "    }\n",
       "\n",
       "    .dataframe thead th {\n",
       "        text-align: right;\n",
       "    }\n",
       "</style>\n",
       "<table border=\"1\" class=\"dataframe\">\n",
       "  <thead>\n",
       "    <tr style=\"text-align: right;\">\n",
       "      <th></th>\n",
       "      <th>VIN (1-10)</th>\n",
       "      <th>County</th>\n",
       "      <th>City</th>\n",
       "      <th>State</th>\n",
       "      <th>Postal Code</th>\n",
       "      <th>Model Year</th>\n",
       "      <th>Make</th>\n",
       "      <th>Model</th>\n",
       "      <th>Electric Vehicle Type</th>\n",
       "      <th>Clean Alternative Fuel Vehicle (CAFV) Eligibility</th>\n",
       "      <th>Electric Range</th>\n",
       "      <th>Base MSRP</th>\n",
       "      <th>Legislative District</th>\n",
       "      <th>DOL Vehicle ID</th>\n",
       "      <th>Vehicle Location</th>\n",
       "      <th>Electric Utility</th>\n",
       "      <th>2020 Census Tract</th>\n",
       "      <th>latitude</th>\n",
       "      <th>longitude</th>\n",
       "    </tr>\n",
       "  </thead>\n",
       "  <tbody>\n",
       "    <tr>\n",
       "      <th>0</th>\n",
       "      <td>5YJ3E1EA0K</td>\n",
       "      <td>Thurston</td>\n",
       "      <td>Tumwater</td>\n",
       "      <td>WA</td>\n",
       "      <td>98512</td>\n",
       "      <td>2019</td>\n",
       "      <td>TESLA</td>\n",
       "      <td>MODEL 3</td>\n",
       "      <td>Battery Electric Vehicle (BEV)</td>\n",
       "      <td>Clean Alternative Fuel Vehicle Eligible</td>\n",
       "      <td>220.0</td>\n",
       "      <td>0.0</td>\n",
       "      <td>22.0</td>\n",
       "      <td>242565116</td>\n",
       "      <td>POINT (-122.91310169999997 47.01359260000004)</td>\n",
       "      <td>PUGET SOUND ENERGY INC</td>\n",
       "      <td>53067010910</td>\n",
       "      <td>-122.913102</td>\n",
       "      <td>47.013593</td>\n",
       "    </tr>\n",
       "    <tr>\n",
       "      <th>1</th>\n",
       "      <td>1N4BZ1DV4N</td>\n",
       "      <td>Island</td>\n",
       "      <td>Clinton</td>\n",
       "      <td>WA</td>\n",
       "      <td>98236</td>\n",
       "      <td>2022</td>\n",
       "      <td>NISSAN</td>\n",
       "      <td>LEAF</td>\n",
       "      <td>Battery Electric Vehicle (BEV)</td>\n",
       "      <td>Eligibility unknown as battery range has not b...</td>\n",
       "      <td>0.0</td>\n",
       "      <td>0.0</td>\n",
       "      <td>10.0</td>\n",
       "      <td>183272785</td>\n",
       "      <td>POINT (-122.35936399999997 47.97965520000008)</td>\n",
       "      <td>PUGET SOUND ENERGY INC</td>\n",
       "      <td>53029972000</td>\n",
       "      <td>-122.359364</td>\n",
       "      <td>47.979655</td>\n",
       "    </tr>\n",
       "    <tr>\n",
       "      <th>2</th>\n",
       "      <td>5YJ3E1EA0L</td>\n",
       "      <td>Snohomish</td>\n",
       "      <td>Snohomish</td>\n",
       "      <td>WA</td>\n",
       "      <td>98290</td>\n",
       "      <td>2020</td>\n",
       "      <td>TESLA</td>\n",
       "      <td>MODEL 3</td>\n",
       "      <td>Battery Electric Vehicle (BEV)</td>\n",
       "      <td>Clean Alternative Fuel Vehicle Eligible</td>\n",
       "      <td>266.0</td>\n",
       "      <td>0.0</td>\n",
       "      <td>44.0</td>\n",
       "      <td>112552366</td>\n",
       "      <td>POINT (-122.09150499999998 47.91555500000004)</td>\n",
       "      <td>PUGET SOUND ENERGY INC</td>\n",
       "      <td>53061052502</td>\n",
       "      <td>-122.091505</td>\n",
       "      <td>47.915555</td>\n",
       "    </tr>\n",
       "    <tr>\n",
       "      <th>3</th>\n",
       "      <td>5YJ3E1EBXL</td>\n",
       "      <td>King</td>\n",
       "      <td>Seattle</td>\n",
       "      <td>WA</td>\n",
       "      <td>98134</td>\n",
       "      <td>2020</td>\n",
       "      <td>TESLA</td>\n",
       "      <td>MODEL 3</td>\n",
       "      <td>Battery Electric Vehicle (BEV)</td>\n",
       "      <td>Clean Alternative Fuel Vehicle Eligible</td>\n",
       "      <td>322.0</td>\n",
       "      <td>0.0</td>\n",
       "      <td>11.0</td>\n",
       "      <td>6336319</td>\n",
       "      <td>POINT (-122.32981499999994 47.579810000000066)</td>\n",
       "      <td>CITY OF SEATTLE - (WA)|CITY OF TACOMA - (WA)</td>\n",
       "      <td>53033009300</td>\n",
       "      <td>-122.329815</td>\n",
       "      <td>47.579810</td>\n",
       "    </tr>\n",
       "    <tr>\n",
       "      <th>4</th>\n",
       "      <td>5YJSA1CP0D</td>\n",
       "      <td>Snohomish</td>\n",
       "      <td>Edmonds</td>\n",
       "      <td>WA</td>\n",
       "      <td>98020</td>\n",
       "      <td>2013</td>\n",
       "      <td>TESLA</td>\n",
       "      <td>MODEL S</td>\n",
       "      <td>Battery Electric Vehicle (BEV)</td>\n",
       "      <td>Clean Alternative Fuel Vehicle Eligible</td>\n",
       "      <td>208.0</td>\n",
       "      <td>69900.0</td>\n",
       "      <td>21.0</td>\n",
       "      <td>186212960</td>\n",
       "      <td>POINT (-122.37507 47.80807000000004)</td>\n",
       "      <td>PUGET SOUND ENERGY INC</td>\n",
       "      <td>53061050403</td>\n",
       "      <td>-122.375070</td>\n",
       "      <td>47.808070</td>\n",
       "    </tr>\n",
       "  </tbody>\n",
       "</table>\n",
       "</div>"
      ],
      "text/plain": [
       "   VIN (1-10)     County       City State Postal Code  Model Year    Make  \\\n",
       "0  5YJ3E1EA0K   Thurston   Tumwater    WA       98512        2019   TESLA   \n",
       "1  1N4BZ1DV4N     Island    Clinton    WA       98236        2022  NISSAN   \n",
       "2  5YJ3E1EA0L  Snohomish  Snohomish    WA       98290        2020   TESLA   \n",
       "3  5YJ3E1EBXL       King    Seattle    WA       98134        2020   TESLA   \n",
       "4  5YJSA1CP0D  Snohomish    Edmonds    WA       98020        2013   TESLA   \n",
       "\n",
       "     Model           Electric Vehicle Type  \\\n",
       "0  MODEL 3  Battery Electric Vehicle (BEV)   \n",
       "1     LEAF  Battery Electric Vehicle (BEV)   \n",
       "2  MODEL 3  Battery Electric Vehicle (BEV)   \n",
       "3  MODEL 3  Battery Electric Vehicle (BEV)   \n",
       "4  MODEL S  Battery Electric Vehicle (BEV)   \n",
       "\n",
       "   Clean Alternative Fuel Vehicle (CAFV) Eligibility  Electric Range  \\\n",
       "0            Clean Alternative Fuel Vehicle Eligible           220.0   \n",
       "1  Eligibility unknown as battery range has not b...             0.0   \n",
       "2            Clean Alternative Fuel Vehicle Eligible           266.0   \n",
       "3            Clean Alternative Fuel Vehicle Eligible           322.0   \n",
       "4            Clean Alternative Fuel Vehicle Eligible           208.0   \n",
       "\n",
       "   Base MSRP  Legislative District  DOL Vehicle ID  \\\n",
       "0        0.0                  22.0       242565116   \n",
       "1        0.0                  10.0       183272785   \n",
       "2        0.0                  44.0       112552366   \n",
       "3        0.0                  11.0         6336319   \n",
       "4    69900.0                  21.0       186212960   \n",
       "\n",
       "                                 Vehicle Location  \\\n",
       "0   POINT (-122.91310169999997 47.01359260000004)   \n",
       "1   POINT (-122.35936399999997 47.97965520000008)   \n",
       "2   POINT (-122.09150499999998 47.91555500000004)   \n",
       "3  POINT (-122.32981499999994 47.579810000000066)   \n",
       "4            POINT (-122.37507 47.80807000000004)   \n",
       "\n",
       "                               Electric Utility 2020 Census Tract    latitude  \\\n",
       "0                        PUGET SOUND ENERGY INC       53067010910 -122.913102   \n",
       "1                        PUGET SOUND ENERGY INC       53029972000 -122.359364   \n",
       "2                        PUGET SOUND ENERGY INC       53061052502 -122.091505   \n",
       "3  CITY OF SEATTLE - (WA)|CITY OF TACOMA - (WA)       53033009300 -122.329815   \n",
       "4                        PUGET SOUND ENERGY INC       53061050403 -122.375070   \n",
       "\n",
       "   longitude  \n",
       "0  47.013593  \n",
       "1  47.979655  \n",
       "2  47.915555  \n",
       "3  47.579810  \n",
       "4  47.808070  "
      ]
     },
     "execution_count": 8,
     "metadata": {},
     "output_type": "execute_result"
    }
   ],
   "source": [
    "wa_df['latitude'] = wa_df['Vehicle Location'].apply(func=lambda x: x.x)\n",
    "wa_df['longitude'] = wa_df['Vehicle Location'].apply(func=lambda x: x.y)\n",
    "wa_df.head()"
   ]
  },
  {
   "cell_type": "code",
   "execution_count": 9,
   "id": "eefbca59",
   "metadata": {
    "execution": {
     "iopub.execute_input": "2023-06-23T18:51:50.520520Z",
     "iopub.status.busy": "2023-06-23T18:51:50.519927Z",
     "iopub.status.idle": "2023-06-23T18:51:51.543455Z",
     "shell.execute_reply": "2023-06-23T18:51:51.542241Z"
    },
    "papermill": {
     "duration": 1.03402,
     "end_time": "2023-06-23T18:51:51.546581",
     "exception": false,
     "start_time": "2023-06-23T18:51:50.512561",
     "status": "completed"
    },
    "tags": []
   },
   "outputs": [
    {
     "data": {
      "text/plain": [
       "<Axes: xlabel='latitude', ylabel='longitude'>"
      ]
     },
     "execution_count": 9,
     "metadata": {},
     "output_type": "execute_result"
    },
    {
     "data": {
      "image/png": "[encoded data removed]",
      "text/plain": [
       "<Figure size 640x480 with 1 Axes>"
      ]
     },
     "metadata": {},
     "output_type": "display_data"
    }
   ],
   "source": [
    "wa_df.plot(kind='scatter', x='latitude', y='longitude')"
   ]
  }
 ],
 "metadata": {
  "kernelspec": {
   "display_name": "Python 3",
   "language": "python",
   "name": "python3"
  },
  "language_info": {
   "codemirror_mode": {
    "name": "ipython",
    "version": 3
   },
   "file_extension": ".py",
   "mimetype": "text/x-python",
   "name": "python",
   "nbconvert_exporter": "python",
   "pygments_lexer": "ipython3",
   "version": "3.10.10"
  },
  "papermill": {
   "default_parameters": {},
   "duration": 30.862857,
   "end_time": "2023-06-23T18:51:54.260645",
   "environment_variables": {},
   "exception": null,
   "input_path": "__notebook__.ipynb",
   "output_path": "__notebook__.ipynb",
   "parameters": {},
   "start_time": "2023-06-23T18:51:23.397788",
   "version": "2.4.0"
  }
 },
 "nbformat": 4,
 "nbformat_minor": 5
}
