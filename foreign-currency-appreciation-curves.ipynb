{
 "cells": [
  {
   "cell_type": "code",
   "execution_count": 1,
   "id": "4e767d2b",
   "metadata": {
    "_cell_guid": "b1076dfc-b9ad-4769-8c92-a6c4dae69d19",
    "_uuid": "8f2839f25d086af736a60e9eeb907d3b93b6e0e5",
    "execution": {
     "iopub.execute_input": "2025-02-09T20:29:20.619373Z",
     "iopub.status.busy": "2025-02-09T20:29:20.619025Z",
     "iopub.status.idle": "2025-02-09T20:29:21.475863Z",
     "shell.execute_reply": "2025-02-09T20:29:21.474792Z"
    },
    "papermill": {
     "duration": 0.864336,
     "end_time": "2025-02-09T20:29:21.477652",
     "exception": false,
     "start_time": "2025-02-09T20:29:20.613316",
     "status": "completed"
    },
    "tags": []
   },
   "outputs": [
    {
     "data": {
      "text/html": [
       "<div>\n",
       "<style scoped>\n",
       "    .dataframe tbody tr th:only-of-type {\n",
       "        vertical-align: middle;\n",
       "    }\n",
       "\n",
       "    .dataframe tbody tr th {\n",
       "        vertical-align: top;\n",
       "    }\n",
       "\n",
       "    .dataframe thead th {\n",
       "        text-align: right;\n",
       "    }\n",
       "</style>\n",
       "<table border=\"1\" class=\"dataframe\">\n",
       "  <thead>\n",
       "    <tr style=\"text-align: right;\">\n",
       "      <th></th>\n",
       "      <th>Date</th>\n",
       "      <th>USD_Price</th>\n",
       "      <th>GBP_Price</th>\n",
       "      <th>CAD_Price</th>\n",
       "      <th>AUD_Price</th>\n",
       "    </tr>\n",
       "  </thead>\n",
       "  <tbody>\n",
       "    <tr>\n",
       "      <th>0</th>\n",
       "      <td>1999-01-01</td>\n",
       "      <td>42.490</td>\n",
       "      <td>69.928</td>\n",
       "      <td>28.130</td>\n",
       "      <td>26.792</td>\n",
       "    </tr>\n",
       "    <tr>\n",
       "      <th>1</th>\n",
       "      <td>1999-02-01</td>\n",
       "      <td>42.680</td>\n",
       "      <td>68.394</td>\n",
       "      <td>28.302</td>\n",
       "      <td>26.409</td>\n",
       "    </tr>\n",
       "    <tr>\n",
       "      <th>2</th>\n",
       "      <td>1999-03-01</td>\n",
       "      <td>42.405</td>\n",
       "      <td>68.304</td>\n",
       "      <td>28.120</td>\n",
       "      <td>26.916</td>\n",
       "    </tr>\n",
       "    <tr>\n",
       "      <th>3</th>\n",
       "      <td>1999-04-01</td>\n",
       "      <td>42.810</td>\n",
       "      <td>68.903</td>\n",
       "      <td>29.392</td>\n",
       "      <td>28.319</td>\n",
       "    </tr>\n",
       "    <tr>\n",
       "      <th>4</th>\n",
       "      <td>1999-05-01</td>\n",
       "      <td>42.850</td>\n",
       "      <td>68.689</td>\n",
       "      <td>29.074</td>\n",
       "      <td>27.803</td>\n",
       "    </tr>\n",
       "  </tbody>\n",
       "</table>\n",
       "</div>"
      ],
      "text/plain": [
       "        Date  USD_Price  GBP_Price  CAD_Price  AUD_Price\n",
       "0 1999-01-01     42.490     69.928     28.130     26.792\n",
       "1 1999-02-01     42.680     68.394     28.302     26.409\n",
       "2 1999-03-01     42.405     68.304     28.120     26.916\n",
       "3 1999-04-01     42.810     68.903     29.392     28.319\n",
       "4 1999-05-01     42.850     68.689     29.074     27.803"
      ]
     },
     "execution_count": 1,
     "metadata": {},
     "output_type": "execute_result"
    }
   ],
   "source": [
    "import pandas as pd\n",
    "\n",
    "DATA = '/kaggle/input/monthly-rupee-trend-for-last-30-years/Currency_Trends_Data.csv'\n",
    "df = pd.read_csv(filepath_or_buffer=DATA, parse_dates=['Date'])\n",
    "df.head()"
   ]
  },
  {
   "cell_type": "markdown",
   "id": "760813ab",
   "metadata": {
    "papermill": {
     "duration": 0.002335,
     "end_time": "2025-02-09T20:29:21.483001",
     "exception": false,
     "start_time": "2025-02-09T20:29:21.480666",
     "status": "completed"
    },
    "tags": []
   },
   "source": [
    "The obvious thing to do with this data is to make a line plot showing each of the four time series, so let's do that."
   ]
  },
  {
   "cell_type": "code",
   "execution_count": 2,
   "id": "126cd5dc",
   "metadata": {
    "execution": {
     "iopub.execute_input": "2025-02-09T20:29:21.489110Z",
     "iopub.status.busy": "2025-02-09T20:29:21.488719Z",
     "iopub.status.idle": "2025-02-09T20:29:24.169812Z",
     "shell.execute_reply": "2025-02-09T20:29:24.168659Z"
    },
    "papermill": {
     "duration": 2.686169,
     "end_time": "2025-02-09T20:29:24.171633",
     "exception": false,
     "start_time": "2025-02-09T20:29:21.485464",
     "status": "completed"
    },
    "tags": []
   },
   "outputs": [
    {
     "data": {
      "text/html": [
       "        <script type=\"text/javascript\">\n",
       "        window.PlotlyConfig = {MathJaxConfig: 'local'};\n",
       "        if (window.MathJax && window.MathJax.Hub && window.MathJax.Hub.Config) {window.MathJax.Hub.Config({SVG: {font: \"STIX-Web\"}});}\n",
       "        if (typeof require !== 'undefined') {\n",
       "        require.undef(\"plotly\");\n",
       "        requirejs.config({\n",
       "            paths: {\n",
       "                'plotly': ['https://cdn.plot.ly/plotly-2.35.2.min']\n",
       "            }\n",
       "        });\n",
       "        require(['plotly'], function(Plotly) {\n",
       "            window._Plotly = Plotly;\n",
       "        });\n",
       "        }\n",
       "        </script>\n",
       "        "
      ]
     },
     "metadata": {},
     "output_type": "display_data"
    },
    {
     "data": {
      "text/html": [
       "<iframe\n",
       "    scrolling=\"no\"\n",
       "    width=\"100%\"\n",
       "    height=\"545px\"\n",
       "    src=\"iframe_figures/figure_2.html\"\n",
       "    frameborder=\"0\"\n",
       "    allowfullscreen\n",
       "></iframe>\n"
      ]
     },
     "metadata": {},
     "output_type": "display_data"
    }
   ],
   "source": [
    "from plotly import express\n",
    "from plotly.offline import init_notebook_mode\n",
    "\n",
    "init_notebook_mode(connected=True)\n",
    "express.line(data_frame=df[['Date', 'USD_Price', 'GBP_Price', 'CAD_Price', 'AUD_Price']].melt(id_vars=['Date']), x='Date', y='value', color='variable').show(renderer='iframe_connected',)"
   ]
  },
  {
   "cell_type": "markdown",
   "id": "96958dc5",
   "metadata": {
    "papermill": {
     "duration": 0.002396,
     "end_time": "2025-02-09T20:29:24.177015",
     "exception": false,
     "start_time": "2025-02-09T20:29:24.174619",
     "status": "completed"
    },
    "tags": []
   },
   "source": [
    "The four currencies, two of them being major and the other two minor currencies, are correlated but different. First let's look at the correlations."
   ]
  },
  {
   "cell_type": "code",
   "execution_count": 3,
   "id": "8048b37a",
   "metadata": {
    "execution": {
     "iopub.execute_input": "2025-02-09T20:29:24.183290Z",
     "iopub.status.busy": "2025-02-09T20:29:24.182980Z",
     "iopub.status.idle": "2025-02-09T20:29:24.194048Z",
     "shell.execute_reply": "2025-02-09T20:29:24.193069Z"
    },
    "papermill": {
     "duration": 0.016041,
     "end_time": "2025-02-09T20:29:24.195619",
     "exception": false,
     "start_time": "2025-02-09T20:29:24.179578",
     "status": "completed"
    },
    "tags": []
   },
   "outputs": [
    {
     "data": {
      "text/html": [
       "<div>\n",
       "<style scoped>\n",
       "    .dataframe tbody tr th:only-of-type {\n",
       "        vertical-align: middle;\n",
       "    }\n",
       "\n",
       "    .dataframe tbody tr th {\n",
       "        vertical-align: top;\n",
       "    }\n",
       "\n",
       "    .dataframe thead th {\n",
       "        text-align: right;\n",
       "    }\n",
       "</style>\n",
       "<table border=\"1\" class=\"dataframe\">\n",
       "  <thead>\n",
       "    <tr style=\"text-align: right;\">\n",
       "      <th></th>\n",
       "      <th>USD_Price</th>\n",
       "      <th>GBP_Price</th>\n",
       "      <th>CAD_Price</th>\n",
       "      <th>AUD_Price</th>\n",
       "    </tr>\n",
       "  </thead>\n",
       "  <tbody>\n",
       "    <tr>\n",
       "      <th>USD_Price</th>\n",
       "      <td>1.000000</td>\n",
       "      <td>0.836043</td>\n",
       "      <td>0.857086</td>\n",
       "      <td>0.771029</td>\n",
       "    </tr>\n",
       "    <tr>\n",
       "      <th>GBP_Price</th>\n",
       "      <td>0.836043</td>\n",
       "      <td>1.000000</td>\n",
       "      <td>0.856771</td>\n",
       "      <td>0.803446</td>\n",
       "    </tr>\n",
       "    <tr>\n",
       "      <th>CAD_Price</th>\n",
       "      <td>0.857086</td>\n",
       "      <td>0.856771</td>\n",
       "      <td>1.000000</td>\n",
       "      <td>0.970429</td>\n",
       "    </tr>\n",
       "    <tr>\n",
       "      <th>AUD_Price</th>\n",
       "      <td>0.771029</td>\n",
       "      <td>0.803446</td>\n",
       "      <td>0.970429</td>\n",
       "      <td>1.000000</td>\n",
       "    </tr>\n",
       "  </tbody>\n",
       "</table>\n",
       "</div>"
      ],
      "text/plain": [
       "           USD_Price  GBP_Price  CAD_Price  AUD_Price\n",
       "USD_Price   1.000000   0.836043   0.857086   0.771029\n",
       "GBP_Price   0.836043   1.000000   0.856771   0.803446\n",
       "CAD_Price   0.857086   0.856771   1.000000   0.970429\n",
       "AUD_Price   0.771029   0.803446   0.970429   1.000000"
      ]
     },
     "execution_count": 3,
     "metadata": {},
     "output_type": "execute_result"
    }
   ],
   "source": [
    "df[['USD_Price', 'GBP_Price', 'CAD_Price', 'AUD_Price']].corr()"
   ]
  },
  {
   "cell_type": "markdown",
   "id": "e960bc1e",
   "metadata": {
    "papermill": {
     "duration": 0.002667,
     "end_time": "2025-02-09T20:29:24.201265",
     "exception": false,
     "start_time": "2025-02-09T20:29:24.198598",
     "status": "completed"
    },
    "tags": []
   },
   "source": [
    "The currencies are obviously pretty highly correlated. It is pretty clear, for example, that the CAD and AUD prices are essentially identical. Let's try scaling the prices by their initial values so we can plot the change over time."
   ]
  },
  {
   "cell_type": "code",
   "execution_count": 4,
   "id": "675668ab",
   "metadata": {
    "execution": {
     "iopub.execute_input": "2025-02-09T20:29:24.207987Z",
     "iopub.status.busy": "2025-02-09T20:29:24.207626Z",
     "iopub.status.idle": "2025-02-09T20:29:24.288800Z",
     "shell.execute_reply": "2025-02-09T20:29:24.287900Z"
    },
    "papermill": {
     "duration": 0.086405,
     "end_time": "2025-02-09T20:29:24.290519",
     "exception": false,
     "start_time": "2025-02-09T20:29:24.204114",
     "status": "completed"
    },
    "tags": []
   },
   "outputs": [
    {
     "data": {
      "text/html": [
       "<iframe\n",
       "    scrolling=\"no\"\n",
       "    width=\"100%\"\n",
       "    height=\"545px\"\n",
       "    src=\"iframe_figures/figure_4.html\"\n",
       "    frameborder=\"0\"\n",
       "    allowfullscreen\n",
       "></iframe>\n"
      ]
     },
     "metadata": {},
     "output_type": "display_data"
    }
   ],
   "source": [
    "for price in ['USD_Price', 'GBP_Price', 'CAD_Price', 'AUD_Price']:\n",
    "    df[price + '_scaled'] = df[price]/df[price].iloc[0]\n",
    "    \n",
    "express.line(data_frame=df[['Date', 'USD_Price_scaled', 'GBP_Price_scaled', 'CAD_Price_scaled', 'AUD_Price_scaled']].melt(id_vars=['Date']), x='Date', y='value', color='variable').show(renderer='iframe_connected',)"
   ]
  },
  {
   "cell_type": "markdown",
   "id": "d70d57c1",
   "metadata": {
    "papermill": {
     "duration": 0.002583,
     "end_time": "2025-02-09T20:29:24.296199",
     "exception": false,
     "start_time": "2025-02-09T20:29:24.293616",
     "status": "completed"
    },
    "tags": []
   },
   "source": [
    "What do we see? Because we scaled by the initial values we have in a sense put the different currencies on equal footing, and we can see more easily how rupees have performed as an alternative asset. All four have performed better over the full period of interest, but CAD have performed the best, followed by AUD, then USD, and finally GBP. What is surprising is that this has been more true than it has not, with USD and GBP being fairly similar through about 2014 and diverging thereafter."
   ]
  }
 ],
 "metadata": {
  "kaggle": {
   "accelerator": "none",
   "dataSources": [
    {
     "datasetId": 6634376,
     "sourceId": 10705667,
     "sourceType": "datasetVersion"
    }
   ],
   "dockerImageVersionId": 30886,
   "isGpuEnabled": false,
   "isInternetEnabled": true,
   "language": "python",
   "sourceType": "notebook"
  },
  "kernelspec": {
   "display_name": "Python 3",
   "language": "python",
   "name": "python3"
  },
  "language_info": {
   "codemirror_mode": {
    "name": "ipython",
    "version": 3
   },
   "file_extension": ".py",
   "mimetype": "text/x-python",
   "name": "python",
   "nbconvert_exporter": "python",
   "pygments_lexer": "ipython3",
   "version": "3.10.12"
  },
  "papermill": {
   "default_parameters": {},
   "duration": 7.042842,
   "end_time": "2025-02-09T20:29:24.918095",
   "environment_variables": {},
   "exception": null,
   "input_path": "__notebook__.ipynb",
   "output_path": "__notebook__.ipynb",
   "parameters": {},
   "start_time": "2025-02-09T20:29:17.875253",
   "version": "2.6.0"
  }
 },
 "nbformat": 4,
 "nbformat_minor": 5
}
