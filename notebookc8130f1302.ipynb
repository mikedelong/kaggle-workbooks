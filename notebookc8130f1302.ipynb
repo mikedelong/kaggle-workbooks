{
 "cells": [
  {
   "cell_type": "markdown",
   "id": "e9bcebfd",
   "metadata": {
    "papermill": {
     "duration": 0.004075,
     "end_time": "2025-03-05T21:39:07.030015",
     "exception": false,
     "start_time": "2025-03-05T21:39:07.025940",
     "status": "completed"
    },
    "tags": []
   },
   "source": [
    "Let's load up our data and do a little cleanup. We want to make time series, so we need to parse our dates. And we want to extract the year from the dates so we can use color to indicate the passage of time in some of our plots."
   ]
  },
  {
   "cell_type": "code",
   "execution_count": 1,
   "id": "e0ebed49",
   "metadata": {
    "_cell_guid": "b1076dfc-b9ad-4769-8c92-a6c4dae69d19",
    "_uuid": "8f2839f25d086af736a60e9eeb907d3b93b6e0e5",
    "execution": {
     "iopub.execute_input": "2025-03-05T21:39:07.039027Z",
     "iopub.status.busy": "2025-03-05T21:39:07.038529Z",
     "iopub.status.idle": "2025-03-05T21:39:08.093727Z",
     "shell.execute_reply": "2025-03-05T21:39:08.092601Z"
    },
    "papermill": {
     "duration": 1.061821,
     "end_time": "2025-03-05T21:39:08.095669",
     "exception": false,
     "start_time": "2025-03-05T21:39:07.033848",
     "status": "completed"
    },
    "tags": []
   },
   "outputs": [
    {
     "data": {
      "text/html": [
       "<div>\n",
       "<style scoped>\n",
       "    .dataframe tbody tr th:only-of-type {\n",
       "        vertical-align: middle;\n",
       "    }\n",
       "\n",
       "    .dataframe tbody tr th {\n",
       "        vertical-align: top;\n",
       "    }\n",
       "\n",
       "    .dataframe thead th {\n",
       "        text-align: right;\n",
       "    }\n",
       "</style>\n",
       "<table border=\"1\" class=\"dataframe\">\n",
       "  <thead>\n",
       "    <tr style=\"text-align: right;\">\n",
       "      <th></th>\n",
       "      <th>date</th>\n",
       "      <th>open</th>\n",
       "      <th>high</th>\n",
       "      <th>low</th>\n",
       "      <th>close</th>\n",
       "      <th>adj_close</th>\n",
       "      <th>volume</th>\n",
       "      <th>Date</th>\n",
       "      <th>year</th>\n",
       "      <th>dollar volume</th>\n",
       "    </tr>\n",
       "  </thead>\n",
       "  <tbody>\n",
       "    <tr>\n",
       "      <th>0</th>\n",
       "      <td>1980-03-17 00:00:00-05:00</td>\n",
       "      <td>0.0</td>\n",
       "      <td>5.129630</td>\n",
       "      <td>5.018519</td>\n",
       "      <td>5.037037</td>\n",
       "      <td>1.059499</td>\n",
       "      <td>62775</td>\n",
       "      <td>1980-03-17</td>\n",
       "      <td>1980</td>\n",
       "      <td>66510.051316</td>\n",
       "    </tr>\n",
       "    <tr>\n",
       "      <th>1</th>\n",
       "      <td>1980-03-18 00:00:00-05:00</td>\n",
       "      <td>0.0</td>\n",
       "      <td>5.111111</td>\n",
       "      <td>5.037037</td>\n",
       "      <td>5.074074</td>\n",
       "      <td>1.067288</td>\n",
       "      <td>64125</td>\n",
       "      <td>1980-03-18</td>\n",
       "      <td>1980</td>\n",
       "      <td>68439.860925</td>\n",
       "    </tr>\n",
       "    <tr>\n",
       "      <th>2</th>\n",
       "      <td>1980-03-19 00:00:00-05:00</td>\n",
       "      <td>0.0</td>\n",
       "      <td>5.166667</td>\n",
       "      <td>5.111111</td>\n",
       "      <td>5.148148</td>\n",
       "      <td>1.082870</td>\n",
       "      <td>40500</td>\n",
       "      <td>1980-03-19</td>\n",
       "      <td>1980</td>\n",
       "      <td>43856.235266</td>\n",
       "    </tr>\n",
       "    <tr>\n",
       "      <th>3</th>\n",
       "      <td>1980-03-20 00:00:00-05:00</td>\n",
       "      <td>0.0</td>\n",
       "      <td>5.148148</td>\n",
       "      <td>5.092593</td>\n",
       "      <td>5.111111</td>\n",
       "      <td>1.075079</td>\n",
       "      <td>18900</td>\n",
       "      <td>1980-03-20</td>\n",
       "      <td>1980</td>\n",
       "      <td>20318.999183</td>\n",
       "    </tr>\n",
       "    <tr>\n",
       "      <th>4</th>\n",
       "      <td>1980-03-21 00:00:00-05:00</td>\n",
       "      <td>0.0</td>\n",
       "      <td>5.222222</td>\n",
       "      <td>5.111111</td>\n",
       "      <td>5.222222</td>\n",
       "      <td>1.098450</td>\n",
       "      <td>97200</td>\n",
       "      <td>1980-03-21</td>\n",
       "      <td>1980</td>\n",
       "      <td>106769.346285</td>\n",
       "    </tr>\n",
       "  </tbody>\n",
       "</table>\n",
       "</div>"
      ],
      "text/plain": [
       "                        date  open      high       low     close  adj_close  \\\n",
       "0  1980-03-17 00:00:00-05:00   0.0  5.129630  5.018519  5.037037   1.059499   \n",
       "1  1980-03-18 00:00:00-05:00   0.0  5.111111  5.037037  5.074074   1.067288   \n",
       "2  1980-03-19 00:00:00-05:00   0.0  5.166667  5.111111  5.148148   1.082870   \n",
       "3  1980-03-20 00:00:00-05:00   0.0  5.148148  5.092593  5.111111   1.075079   \n",
       "4  1980-03-21 00:00:00-05:00   0.0  5.222222  5.111111  5.222222   1.098450   \n",
       "\n",
       "   volume       Date  year  dollar volume  \n",
       "0   62775 1980-03-17  1980   66510.051316  \n",
       "1   64125 1980-03-18  1980   68439.860925  \n",
       "2   40500 1980-03-19  1980   43856.235266  \n",
       "3   18900 1980-03-20  1980   20318.999183  \n",
       "4   97200 1980-03-21  1980  106769.346285  "
      ]
     },
     "execution_count": 1,
     "metadata": {},
     "output_type": "execute_result"
    }
   ],
   "source": [
    "import pandas as pd\n",
    "\n",
    "DATA = '/kaggle/input/jpmorgan-chase-stock-data-2025/JPM_1940-01-01_2025-03-04.csv'\n",
    "df = pd.read_csv(filepath_or_buffer=DATA,)\n",
    "df['Date'] = df['date'].apply(func=lambda x: x.split()[0])\n",
    "df['Date'] = pd.to_datetime(df['Date'])\n",
    "df['year'] = df['Date'].dt.year\n",
    "df['dollar volume'] = df['adj_close'] * df['volume']\n",
    "df.head()"
   ]
  },
  {
   "cell_type": "markdown",
   "id": "ebd841b9",
   "metadata": {
    "papermill": {
     "duration": 0.00339,
     "end_time": "2025-03-05T21:39:08.103100",
     "exception": false,
     "start_time": "2025-03-05T21:39:08.099710",
     "status": "completed"
    },
    "tags": []
   },
   "source": [
    "First let's have a look at the price/volume correlations."
   ]
  },
  {
   "cell_type": "code",
   "execution_count": 2,
   "id": "f54011bd",
   "metadata": {
    "execution": {
     "iopub.execute_input": "2025-03-05T21:39:08.111563Z",
     "iopub.status.busy": "2025-03-05T21:39:08.111210Z",
     "iopub.status.idle": "2025-03-05T21:39:08.131266Z",
     "shell.execute_reply": "2025-03-05T21:39:08.130172Z"
    },
    "papermill": {
     "duration": 0.02624,
     "end_time": "2025-03-05T21:39:08.132962",
     "exception": false,
     "start_time": "2025-03-05T21:39:08.106722",
     "status": "completed"
    },
    "tags": []
   },
   "outputs": [
    {
     "data": {
      "text/html": [
       "<div>\n",
       "<style scoped>\n",
       "    .dataframe tbody tr th:only-of-type {\n",
       "        vertical-align: middle;\n",
       "    }\n",
       "\n",
       "    .dataframe tbody tr th {\n",
       "        vertical-align: top;\n",
       "    }\n",
       "\n",
       "    .dataframe thead th {\n",
       "        text-align: right;\n",
       "    }\n",
       "</style>\n",
       "<table border=\"1\" class=\"dataframe\">\n",
       "  <thead>\n",
       "    <tr style=\"text-align: right;\">\n",
       "      <th></th>\n",
       "      <th>open</th>\n",
       "      <th>high</th>\n",
       "      <th>low</th>\n",
       "      <th>close</th>\n",
       "      <th>adj_close</th>\n",
       "      <th>volume</th>\n",
       "    </tr>\n",
       "  </thead>\n",
       "  <tbody>\n",
       "    <tr>\n",
       "      <th>open</th>\n",
       "      <td>1.000000</td>\n",
       "      <td>0.998834</td>\n",
       "      <td>0.998758</td>\n",
       "      <td>0.998704</td>\n",
       "      <td>0.989419</td>\n",
       "      <td>0.152231</td>\n",
       "    </tr>\n",
       "    <tr>\n",
       "      <th>high</th>\n",
       "      <td>0.998834</td>\n",
       "      <td>1.000000</td>\n",
       "      <td>0.999845</td>\n",
       "      <td>0.999902</td>\n",
       "      <td>0.992053</td>\n",
       "      <td>0.147328</td>\n",
       "    </tr>\n",
       "    <tr>\n",
       "      <th>low</th>\n",
       "      <td>0.998758</td>\n",
       "      <td>0.999845</td>\n",
       "      <td>1.000000</td>\n",
       "      <td>0.999903</td>\n",
       "      <td>0.992343</td>\n",
       "      <td>0.140009</td>\n",
       "    </tr>\n",
       "    <tr>\n",
       "      <th>close</th>\n",
       "      <td>0.998704</td>\n",
       "      <td>0.999902</td>\n",
       "      <td>0.999903</td>\n",
       "      <td>1.000000</td>\n",
       "      <td>0.992303</td>\n",
       "      <td>0.143744</td>\n",
       "    </tr>\n",
       "    <tr>\n",
       "      <th>adj_close</th>\n",
       "      <td>0.989419</td>\n",
       "      <td>0.992053</td>\n",
       "      <td>0.992343</td>\n",
       "      <td>0.992303</td>\n",
       "      <td>1.000000</td>\n",
       "      <td>0.129419</td>\n",
       "    </tr>\n",
       "    <tr>\n",
       "      <th>volume</th>\n",
       "      <td>0.152231</td>\n",
       "      <td>0.147328</td>\n",
       "      <td>0.140009</td>\n",
       "      <td>0.143744</td>\n",
       "      <td>0.129419</td>\n",
       "      <td>1.000000</td>\n",
       "    </tr>\n",
       "  </tbody>\n",
       "</table>\n",
       "</div>"
      ],
      "text/plain": [
       "               open      high       low     close  adj_close    volume\n",
       "open       1.000000  0.998834  0.998758  0.998704   0.989419  0.152231\n",
       "high       0.998834  1.000000  0.999845  0.999902   0.992053  0.147328\n",
       "low        0.998758  0.999845  1.000000  0.999903   0.992343  0.140009\n",
       "close      0.998704  0.999902  0.999903  1.000000   0.992303  0.143744\n",
       "adj_close  0.989419  0.992053  0.992343  0.992303   1.000000  0.129419\n",
       "volume     0.152231  0.147328  0.140009  0.143744   0.129419  1.000000"
      ]
     },
     "execution_count": 2,
     "metadata": {},
     "output_type": "execute_result"
    }
   ],
   "source": [
    "df[['open', 'high', 'low', 'close', 'adj_close', 'volume']].corr()"
   ]
  },
  {
   "cell_type": "markdown",
   "id": "8dee6d9a",
   "metadata": {
    "papermill": {
     "duration": 0.003542,
     "end_time": "2025-03-05T21:39:08.140569",
     "exception": false,
     "start_time": "2025-03-05T21:39:08.137027",
     "status": "completed"
    },
    "tags": []
   },
   "source": [
    "What do we see? We see that none of the prices are perfectly correlated, so we know we have no redundant columns. We also see that price and volume is slightly positively correlated."
   ]
  },
  {
   "cell_type": "code",
   "execution_count": 3,
   "id": "1f4482eb",
   "metadata": {
    "execution": {
     "iopub.execute_input": "2025-03-05T21:39:08.149568Z",
     "iopub.status.busy": "2025-03-05T21:39:08.149198Z",
     "iopub.status.idle": "2025-03-05T21:39:11.323428Z",
     "shell.execute_reply": "2025-03-05T21:39:11.322272Z"
    },
    "papermill": {
     "duration": 3.180857,
     "end_time": "2025-03-05T21:39:11.325274",
     "exception": false,
     "start_time": "2025-03-05T21:39:08.144417",
     "status": "completed"
    },
    "tags": []
   },
   "outputs": [
    {
     "data": {
      "text/html": [
       "<iframe\n",
       "    scrolling=\"no\"\n",
       "    width=\"100%\"\n",
       "    height=\"545px\"\n",
       "    src=\"iframe_figures/figure_3.html\"\n",
       "    frameborder=\"0\"\n",
       "    allowfullscreen\n",
       "></iframe>\n"
      ]
     },
     "metadata": {},
     "output_type": "display_data"
    }
   ],
   "source": [
    "from plotly import express\n",
    "from plotly import io\n",
    "\n",
    "io.renderers.default = 'iframe'\n",
    "express.scatter(data_frame=df, x='Date', y='adj_close', color='year', log_y=False).update_traces(marker=dict(size=3))"
   ]
  },
  {
   "cell_type": "markdown",
   "id": "398ecaf5",
   "metadata": {
    "papermill": {
     "duration": 0.003979,
     "end_time": "2025-03-05T21:39:11.335687",
     "exception": false,
     "start_time": "2025-03-05T21:39:11.331708",
     "status": "completed"
    },
    "tags": []
   },
   "source": [
    "Because the stock has appreciated so much some years look like they have no price variability at all, which doesn't make much sense. Let's use a log plot in the price direction."
   ]
  },
  {
   "cell_type": "code",
   "execution_count": 4,
   "id": "7d56c7ad",
   "metadata": {
    "execution": {
     "iopub.execute_input": "2025-03-05T21:39:11.345744Z",
     "iopub.status.busy": "2025-03-05T21:39:11.345375Z",
     "iopub.status.idle": "2025-03-05T21:39:11.568679Z",
     "shell.execute_reply": "2025-03-05T21:39:11.567793Z"
    },
    "papermill": {
     "duration": 0.230288,
     "end_time": "2025-03-05T21:39:11.570340",
     "exception": false,
     "start_time": "2025-03-05T21:39:11.340052",
     "status": "completed"
    },
    "tags": []
   },
   "outputs": [
    {
     "data": {
      "text/html": [
       "<iframe\n",
       "    scrolling=\"no\"\n",
       "    width=\"100%\"\n",
       "    height=\"545px\"\n",
       "    src=\"iframe_figures/figure_4.html\"\n",
       "    frameborder=\"0\"\n",
       "    allowfullscreen\n",
       "></iframe>\n"
      ]
     },
     "metadata": {},
     "output_type": "display_data"
    }
   ],
   "source": [
    "express.scatter(data_frame=df, x='Date', y='adj_close', color='year', log_y=True).update_traces(marker=dict(size=3))"
   ]
  },
  {
   "cell_type": "markdown",
   "id": "1ac42229",
   "metadata": {
    "papermill": {
     "duration": 0.003759,
     "end_time": "2025-03-05T21:39:11.578373",
     "exception": false,
     "start_time": "2025-03-05T21:39:11.574614",
     "status": "completed"
    },
    "tags": []
   },
   "source": [
    "What do we see? We see that the stock price has appreciated pretty steadily, reflecting exponential price growth, but with occasional (substantial) reversals."
   ]
  },
  {
   "cell_type": "markdown",
   "id": "9e6f1c38",
   "metadata": {
    "papermill": {
     "duration": 0.003649,
     "end_time": "2025-03-05T21:39:11.585950",
     "exception": false,
     "start_time": "2025-03-05T21:39:11.582301",
     "status": "completed"
    },
    "tags": []
   },
   "source": [
    "Next let's look at volume over time. Volume is not generally serially correlated the way prices are, so we need to use a log plot to keep outliers from dominating our plot."
   ]
  },
  {
   "cell_type": "code",
   "execution_count": 5,
   "id": "9b52df1b",
   "metadata": {
    "execution": {
     "iopub.execute_input": "2025-03-05T21:39:11.595183Z",
     "iopub.status.busy": "2025-03-05T21:39:11.594770Z",
     "iopub.status.idle": "2025-03-05T21:39:11.824356Z",
     "shell.execute_reply": "2025-03-05T21:39:11.822823Z"
    },
    "papermill": {
     "duration": 0.236577,
     "end_time": "2025-03-05T21:39:11.826540",
     "exception": false,
     "start_time": "2025-03-05T21:39:11.589963",
     "status": "completed"
    },
    "tags": []
   },
   "outputs": [
    {
     "data": {
      "text/html": [
       "<iframe\n",
       "    scrolling=\"no\"\n",
       "    width=\"100%\"\n",
       "    height=\"545px\"\n",
       "    src=\"iframe_figures/figure_5.html\"\n",
       "    frameborder=\"0\"\n",
       "    allowfullscreen\n",
       "></iframe>\n"
      ]
     },
     "metadata": {},
     "output_type": "display_data"
    }
   ],
   "source": [
    "express.scatter(data_frame=df, x='Date', y='volume', color='year', log_y=True).update_traces(marker=dict(size=3))"
   ]
  },
  {
   "cell_type": "markdown",
   "id": "785ae7a7",
   "metadata": {
    "papermill": {
     "duration": 0.003934,
     "end_time": "2025-03-05T21:39:11.834941",
     "exception": false,
     "start_time": "2025-03-05T21:39:11.831007",
     "status": "completed"
    },
    "tags": []
   },
   "source": [
    "What do we see? We see steady growth in the log of the volume through some time around 2008, followed by a decline in volume. Let's try plotting price and volume together."
   ]
  },
  {
   "cell_type": "code",
   "execution_count": 6,
   "id": "12aef54b",
   "metadata": {
    "execution": {
     "iopub.execute_input": "2025-03-05T21:39:11.844714Z",
     "iopub.status.busy": "2025-03-05T21:39:11.844319Z",
     "iopub.status.idle": "2025-03-05T21:39:12.001786Z",
     "shell.execute_reply": "2025-03-05T21:39:11.999765Z"
    },
    "papermill": {
     "duration": 0.165413,
     "end_time": "2025-03-05T21:39:12.004601",
     "exception": false,
     "start_time": "2025-03-05T21:39:11.839188",
     "status": "completed"
    },
    "tags": []
   },
   "outputs": [
    {
     "data": {
      "text/html": [
       "<iframe\n",
       "    scrolling=\"no\"\n",
       "    width=\"100%\"\n",
       "    height=\"545px\"\n",
       "    src=\"iframe_figures/figure_6.html\"\n",
       "    frameborder=\"0\"\n",
       "    allowfullscreen\n",
       "></iframe>\n"
      ]
     },
     "metadata": {},
     "output_type": "display_data"
    }
   ],
   "source": [
    "express.scatter(data_frame=df, x='adj_close', y='volume', color='year', log_x=True, log_y=True, hover_name='date').update_traces(marker=dict(size=3))"
   ]
  },
  {
   "cell_type": "markdown",
   "id": "64232e0c",
   "metadata": {
    "papermill": {
     "duration": 0.005049,
     "end_time": "2025-03-05T21:39:12.018673",
     "exception": false,
     "start_time": "2025-03-05T21:39:12.013624",
     "status": "completed"
    },
    "tags": []
   },
   "source": [
    "What do we see? We see that the log of the price and the log of the volume are only slightly correlated, but by using color to represent the passage of time we do see that some years we can see the log of the price and the log of the volume growing together year over year."
   ]
  },
  {
   "cell_type": "markdown",
   "id": "af9eddf8",
   "metadata": {
    "papermill": {
     "duration": 0.004132,
     "end_time": "2025-03-05T21:39:12.027546",
     "exception": false,
     "start_time": "2025-03-05T21:39:12.023414",
     "status": "completed"
    },
    "tags": []
   },
   "source": [
    "We can also plot the \"dollar volume\" that approximates the dollar value traded per day."
   ]
  },
  {
   "cell_type": "code",
   "execution_count": 7,
   "id": "e8b28f72",
   "metadata": {
    "execution": {
     "iopub.execute_input": "2025-03-05T21:39:12.043700Z",
     "iopub.status.busy": "2025-03-05T21:39:12.043351Z",
     "iopub.status.idle": "2025-03-05T21:39:12.279231Z",
     "shell.execute_reply": "2025-03-05T21:39:12.278158Z"
    },
    "papermill": {
     "duration": 0.246072,
     "end_time": "2025-03-05T21:39:12.281060",
     "exception": false,
     "start_time": "2025-03-05T21:39:12.034988",
     "status": "completed"
    },
    "tags": []
   },
   "outputs": [
    {
     "data": {
      "text/html": [
       "<iframe\n",
       "    scrolling=\"no\"\n",
       "    width=\"100%\"\n",
       "    height=\"545px\"\n",
       "    src=\"iframe_figures/figure_7.html\"\n",
       "    frameborder=\"0\"\n",
       "    allowfullscreen\n",
       "></iframe>\n"
      ]
     },
     "metadata": {},
     "output_type": "display_data"
    }
   ],
   "source": [
    "express.scatter(data_frame=df, x='Date', y='dollar volume', color='year', log_y=True).update_traces(marker=dict(size=3))"
   ]
  },
  {
   "cell_type": "markdown",
   "id": "dd3c10c0",
   "metadata": {
    "papermill": {
     "duration": 0.004196,
     "end_time": "2025-03-05T21:39:12.289904",
     "exception": false,
     "start_time": "2025-03-05T21:39:12.285708",
     "status": "completed"
    },
    "tags": []
   },
   "source": [
    "Interestingly, the log of the dollar volume on average grows over time, which is surprising, as share price tends to be a drag on shares traded. The graph does seem to have two phases: a rising phase prior to about the end of 2008, and a stable phase thereafter."
   ]
  }
 ],
 "metadata": {
  "kaggle": {
   "accelerator": "none",
   "dataSources": [
    {
     "datasetId": 6786720,
     "sourceId": 10916970,
     "sourceType": "datasetVersion"
    }
   ],
   "dockerImageVersionId": 30918,
   "isGpuEnabled": false,
   "isInternetEnabled": true,
   "language": "python",
   "sourceType": "notebook"
  },
  "kernelspec": {
   "display_name": "Python 3",
   "language": "python",
   "name": "python3"
  },
  "language_info": {
   "codemirror_mode": {
    "name": "ipython",
    "version": 3
   },
   "file_extension": ".py",
   "mimetype": "text/x-python",
   "name": "python",
   "nbconvert_exporter": "python",
   "pygments_lexer": "ipython3",
   "version": "3.10.12"
  },
  "papermill": {
   "default_parameters": {},
   "duration": 8.790031,
   "end_time": "2025-03-05T21:39:13.015205",
   "environment_variables": {},
   "exception": null,
   "input_path": "__notebook__.ipynb",
   "output_path": "__notebook__.ipynb",
   "parameters": {},
   "start_time": "2025-03-05T21:39:04.225174",
   "version": "2.6.0"
  }
 },
 "nbformat": 4,
 "nbformat_minor": 5
}
