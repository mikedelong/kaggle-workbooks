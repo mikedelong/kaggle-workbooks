{
 "cells": [
  {
   "cell_type": "markdown",
   "id": "24308cda",
   "metadata": {
    "papermill": {
     "duration": 0.003631,
     "end_time": "2025-03-05T21:34:50.709027",
     "exception": false,
     "start_time": "2025-03-05T21:34:50.705396",
     "status": "completed"
    },
    "tags": []
   },
   "source": [
    "Let's load up our data and do a little cleanup. We want to make time series, so we need to parse our dates. And we want to extract the year from the dates so we can use color to indicate the passage of time in some of our plots."
   ]
  },
  {
   "cell_type": "code",
   "execution_count": 1,
   "id": "78ba72bd",
   "metadata": {
    "_cell_guid": "b1076dfc-b9ad-4769-8c92-a6c4dae69d19",
    "_uuid": "8f2839f25d086af736a60e9eeb907d3b93b6e0e5",
    "execution": {
     "iopub.execute_input": "2025-03-05T21:34:50.717299Z",
     "iopub.status.busy": "2025-03-05T21:34:50.716764Z",
     "iopub.status.idle": "2025-03-05T21:34:51.908159Z",
     "shell.execute_reply": "2025-03-05T21:34:51.906874Z"
    },
    "papermill": {
     "duration": 1.197729,
     "end_time": "2025-03-05T21:34:51.910233",
     "exception": false,
     "start_time": "2025-03-05T21:34:50.712504",
     "status": "completed"
    },
    "tags": []
   },
   "outputs": [
    {
     "data": {
      "text/html": [
       "<div>\n",
       "<style scoped>\n",
       "    .dataframe tbody tr th:only-of-type {\n",
       "        vertical-align: middle;\n",
       "    }\n",
       "\n",
       "    .dataframe tbody tr th {\n",
       "        vertical-align: top;\n",
       "    }\n",
       "\n",
       "    .dataframe thead th {\n",
       "        text-align: right;\n",
       "    }\n",
       "</style>\n",
       "<table border=\"1\" class=\"dataframe\">\n",
       "  <thead>\n",
       "    <tr style=\"text-align: right;\">\n",
       "      <th></th>\n",
       "      <th>date</th>\n",
       "      <th>open</th>\n",
       "      <th>high</th>\n",
       "      <th>low</th>\n",
       "      <th>close</th>\n",
       "      <th>adj_close</th>\n",
       "      <th>volume</th>\n",
       "      <th>Date</th>\n",
       "      <th>year</th>\n",
       "    </tr>\n",
       "  </thead>\n",
       "  <tbody>\n",
       "    <tr>\n",
       "      <th>0</th>\n",
       "      <td>1980-03-17 00:00:00-05:00</td>\n",
       "      <td>0.0</td>\n",
       "      <td>5.129630</td>\n",
       "      <td>5.018519</td>\n",
       "      <td>5.037037</td>\n",
       "      <td>1.059499</td>\n",
       "      <td>62775</td>\n",
       "      <td>1980-03-17</td>\n",
       "      <td>1980</td>\n",
       "    </tr>\n",
       "    <tr>\n",
       "      <th>1</th>\n",
       "      <td>1980-03-18 00:00:00-05:00</td>\n",
       "      <td>0.0</td>\n",
       "      <td>5.111111</td>\n",
       "      <td>5.037037</td>\n",
       "      <td>5.074074</td>\n",
       "      <td>1.067288</td>\n",
       "      <td>64125</td>\n",
       "      <td>1980-03-18</td>\n",
       "      <td>1980</td>\n",
       "    </tr>\n",
       "    <tr>\n",
       "      <th>2</th>\n",
       "      <td>1980-03-19 00:00:00-05:00</td>\n",
       "      <td>0.0</td>\n",
       "      <td>5.166667</td>\n",
       "      <td>5.111111</td>\n",
       "      <td>5.148148</td>\n",
       "      <td>1.082870</td>\n",
       "      <td>40500</td>\n",
       "      <td>1980-03-19</td>\n",
       "      <td>1980</td>\n",
       "    </tr>\n",
       "    <tr>\n",
       "      <th>3</th>\n",
       "      <td>1980-03-20 00:00:00-05:00</td>\n",
       "      <td>0.0</td>\n",
       "      <td>5.148148</td>\n",
       "      <td>5.092593</td>\n",
       "      <td>5.111111</td>\n",
       "      <td>1.075079</td>\n",
       "      <td>18900</td>\n",
       "      <td>1980-03-20</td>\n",
       "      <td>1980</td>\n",
       "    </tr>\n",
       "    <tr>\n",
       "      <th>4</th>\n",
       "      <td>1980-03-21 00:00:00-05:00</td>\n",
       "      <td>0.0</td>\n",
       "      <td>5.222222</td>\n",
       "      <td>5.111111</td>\n",
       "      <td>5.222222</td>\n",
       "      <td>1.098450</td>\n",
       "      <td>97200</td>\n",
       "      <td>1980-03-21</td>\n",
       "      <td>1980</td>\n",
       "    </tr>\n",
       "  </tbody>\n",
       "</table>\n",
       "</div>"
      ],
      "text/plain": [
       "                        date  open      high       low     close  adj_close  \\\n",
       "0  1980-03-17 00:00:00-05:00   0.0  5.129630  5.018519  5.037037   1.059499   \n",
       "1  1980-03-18 00:00:00-05:00   0.0  5.111111  5.037037  5.074074   1.067288   \n",
       "2  1980-03-19 00:00:00-05:00   0.0  5.166667  5.111111  5.148148   1.082870   \n",
       "3  1980-03-20 00:00:00-05:00   0.0  5.148148  5.092593  5.111111   1.075079   \n",
       "4  1980-03-21 00:00:00-05:00   0.0  5.222222  5.111111  5.222222   1.098450   \n",
       "\n",
       "   volume       Date  year  \n",
       "0   62775 1980-03-17  1980  \n",
       "1   64125 1980-03-18  1980  \n",
       "2   40500 1980-03-19  1980  \n",
       "3   18900 1980-03-20  1980  \n",
       "4   97200 1980-03-21  1980  "
      ]
     },
     "execution_count": 1,
     "metadata": {},
     "output_type": "execute_result"
    }
   ],
   "source": [
    "import pandas as pd\n",
    "\n",
    "DATA = '/kaggle/input/jpmorgan-chase-stock-data-2025/JPM_1940-01-01_2025-03-04.csv'\n",
    "df = pd.read_csv(filepath_or_buffer=DATA,)\n",
    "df['Date'] = df['date'].apply(func=lambda x: x.split()[0])\n",
    "df['Date'] = pd.to_datetime(df['Date'])\n",
    "df['year'] = df['Date'].dt.year\n",
    "df.head()"
   ]
  },
  {
   "cell_type": "markdown",
   "id": "fc0b0070",
   "metadata": {
    "papermill": {
     "duration": 0.003201,
     "end_time": "2025-03-05T21:34:51.917158",
     "exception": false,
     "start_time": "2025-03-05T21:34:51.913957",
     "status": "completed"
    },
    "tags": []
   },
   "source": [
    "First let's have a look at the price/volume correlations."
   ]
  },
  {
   "cell_type": "code",
   "execution_count": 2,
   "id": "59eb8221",
   "metadata": {
    "execution": {
     "iopub.execute_input": "2025-03-05T21:34:51.925778Z",
     "iopub.status.busy": "2025-03-05T21:34:51.925425Z",
     "iopub.status.idle": "2025-03-05T21:34:51.948848Z",
     "shell.execute_reply": "2025-03-05T21:34:51.947604Z"
    },
    "papermill": {
     "duration": 0.0299,
     "end_time": "2025-03-05T21:34:51.950923",
     "exception": false,
     "start_time": "2025-03-05T21:34:51.921023",
     "status": "completed"
    },
    "tags": []
   },
   "outputs": [
    {
     "data": {
      "text/html": [
       "<div>\n",
       "<style scoped>\n",
       "    .dataframe tbody tr th:only-of-type {\n",
       "        vertical-align: middle;\n",
       "    }\n",
       "\n",
       "    .dataframe tbody tr th {\n",
       "        vertical-align: top;\n",
       "    }\n",
       "\n",
       "    .dataframe thead th {\n",
       "        text-align: right;\n",
       "    }\n",
       "</style>\n",
       "<table border=\"1\" class=\"dataframe\">\n",
       "  <thead>\n",
       "    <tr style=\"text-align: right;\">\n",
       "      <th></th>\n",
       "      <th>open</th>\n",
       "      <th>high</th>\n",
       "      <th>low</th>\n",
       "      <th>close</th>\n",
       "      <th>adj_close</th>\n",
       "      <th>volume</th>\n",
       "    </tr>\n",
       "  </thead>\n",
       "  <tbody>\n",
       "    <tr>\n",
       "      <th>open</th>\n",
       "      <td>1.000000</td>\n",
       "      <td>0.998834</td>\n",
       "      <td>0.998758</td>\n",
       "      <td>0.998704</td>\n",
       "      <td>0.989419</td>\n",
       "      <td>0.152231</td>\n",
       "    </tr>\n",
       "    <tr>\n",
       "      <th>high</th>\n",
       "      <td>0.998834</td>\n",
       "      <td>1.000000</td>\n",
       "      <td>0.999845</td>\n",
       "      <td>0.999902</td>\n",
       "      <td>0.992053</td>\n",
       "      <td>0.147328</td>\n",
       "    </tr>\n",
       "    <tr>\n",
       "      <th>low</th>\n",
       "      <td>0.998758</td>\n",
       "      <td>0.999845</td>\n",
       "      <td>1.000000</td>\n",
       "      <td>0.999903</td>\n",
       "      <td>0.992343</td>\n",
       "      <td>0.140009</td>\n",
       "    </tr>\n",
       "    <tr>\n",
       "      <th>close</th>\n",
       "      <td>0.998704</td>\n",
       "      <td>0.999902</td>\n",
       "      <td>0.999903</td>\n",
       "      <td>1.000000</td>\n",
       "      <td>0.992303</td>\n",
       "      <td>0.143744</td>\n",
       "    </tr>\n",
       "    <tr>\n",
       "      <th>adj_close</th>\n",
       "      <td>0.989419</td>\n",
       "      <td>0.992053</td>\n",
       "      <td>0.992343</td>\n",
       "      <td>0.992303</td>\n",
       "      <td>1.000000</td>\n",
       "      <td>0.129419</td>\n",
       "    </tr>\n",
       "    <tr>\n",
       "      <th>volume</th>\n",
       "      <td>0.152231</td>\n",
       "      <td>0.147328</td>\n",
       "      <td>0.140009</td>\n",
       "      <td>0.143744</td>\n",
       "      <td>0.129419</td>\n",
       "      <td>1.000000</td>\n",
       "    </tr>\n",
       "  </tbody>\n",
       "</table>\n",
       "</div>"
      ],
      "text/plain": [
       "               open      high       low     close  adj_close    volume\n",
       "open       1.000000  0.998834  0.998758  0.998704   0.989419  0.152231\n",
       "high       0.998834  1.000000  0.999845  0.999902   0.992053  0.147328\n",
       "low        0.998758  0.999845  1.000000  0.999903   0.992343  0.140009\n",
       "close      0.998704  0.999902  0.999903  1.000000   0.992303  0.143744\n",
       "adj_close  0.989419  0.992053  0.992343  0.992303   1.000000  0.129419\n",
       "volume     0.152231  0.147328  0.140009  0.143744   0.129419  1.000000"
      ]
     },
     "execution_count": 2,
     "metadata": {},
     "output_type": "execute_result"
    }
   ],
   "source": [
    "df[['open', 'high', 'low', 'close', 'adj_close', 'volume']].corr()"
   ]
  },
  {
   "cell_type": "markdown",
   "id": "8465328a",
   "metadata": {
    "papermill": {
     "duration": 0.00333,
     "end_time": "2025-03-05T21:34:51.958177",
     "exception": false,
     "start_time": "2025-03-05T21:34:51.954847",
     "status": "completed"
    },
    "tags": []
   },
   "source": [
    "What do we see? We see that none of the prices are perfectly correlated, so we know we have no redundant columns. We also see that price and volume is slightly positively correlated."
   ]
  },
  {
   "cell_type": "code",
   "execution_count": 3,
   "id": "8052ba8e",
   "metadata": {
    "execution": {
     "iopub.execute_input": "2025-03-05T21:34:51.966909Z",
     "iopub.status.busy": "2025-03-05T21:34:51.966489Z",
     "iopub.status.idle": "2025-03-05T21:34:55.643445Z",
     "shell.execute_reply": "2025-03-05T21:34:55.642254Z"
    },
    "papermill": {
     "duration": 3.684453,
     "end_time": "2025-03-05T21:34:55.646263",
     "exception": false,
     "start_time": "2025-03-05T21:34:51.961810",
     "status": "completed"
    },
    "tags": []
   },
   "outputs": [
    {
     "data": {
      "text/html": [
       "<iframe\n",
       "    scrolling=\"no\"\n",
       "    width=\"100%\"\n",
       "    height=\"545px\"\n",
       "    src=\"iframe_figures/figure_3.html\"\n",
       "    frameborder=\"0\"\n",
       "    allowfullscreen\n",
       "></iframe>\n"
      ]
     },
     "metadata": {},
     "output_type": "display_data"
    }
   ],
   "source": [
    "from plotly import express\n",
    "from plotly import io\n",
    "\n",
    "io.renderers.default = 'iframe'\n",
    "express.scatter(data_frame=df, x='Date', y='adj_close', color='year', log_y=False).update_traces(marker=dict(size=3))"
   ]
  },
  {
   "cell_type": "markdown",
   "id": "c49be20d",
   "metadata": {
    "papermill": {
     "duration": 0.006442,
     "end_time": "2025-03-05T21:34:55.658005",
     "exception": false,
     "start_time": "2025-03-05T21:34:55.651563",
     "status": "completed"
    },
    "tags": []
   },
   "source": [
    "Because the stock has appreciated so much some years look like they have no price variability at all, which doesn't make much sense. Let's use a log plot in the price direction."
   ]
  },
  {
   "cell_type": "code",
   "execution_count": 4,
   "id": "56cf96e3",
   "metadata": {
    "execution": {
     "iopub.execute_input": "2025-03-05T21:34:55.669261Z",
     "iopub.status.busy": "2025-03-05T21:34:55.668743Z",
     "iopub.status.idle": "2025-03-05T21:34:55.936346Z",
     "shell.execute_reply": "2025-03-05T21:34:55.935215Z"
    },
    "papermill": {
     "duration": 0.275292,
     "end_time": "2025-03-05T21:34:55.938278",
     "exception": false,
     "start_time": "2025-03-05T21:34:55.662986",
     "status": "completed"
    },
    "tags": []
   },
   "outputs": [
    {
     "data": {
      "text/html": [
       "<iframe\n",
       "    scrolling=\"no\"\n",
       "    width=\"100%\"\n",
       "    height=\"545px\"\n",
       "    src=\"iframe_figures/figure_4.html\"\n",
       "    frameborder=\"0\"\n",
       "    allowfullscreen\n",
       "></iframe>\n"
      ]
     },
     "metadata": {},
     "output_type": "display_data"
    }
   ],
   "source": [
    "express.scatter(data_frame=df, x='Date', y='adj_close', color='year', log_y=True).update_traces(marker=dict(size=3))"
   ]
  },
  {
   "cell_type": "markdown",
   "id": "136d020d",
   "metadata": {
    "papermill": {
     "duration": 0.003513,
     "end_time": "2025-03-05T21:34:55.945943",
     "exception": false,
     "start_time": "2025-03-05T21:34:55.942430",
     "status": "completed"
    },
    "tags": []
   },
   "source": [
    "What do we see? We see that the stock price has appreciated pretty steadily, reflecting exponential price growth, but with occasional (substantial) reversals."
   ]
  },
  {
   "cell_type": "markdown",
   "id": "b054e96d",
   "metadata": {
    "papermill": {
     "duration": 0.006364,
     "end_time": "2025-03-05T21:34:55.956334",
     "exception": false,
     "start_time": "2025-03-05T21:34:55.949970",
     "status": "completed"
    },
    "tags": []
   },
   "source": [
    "Next let's look at volume over time. Volume is not generally serially correlated the way prices are, so we need to use a log plot to keep outliers from dominating our plot."
   ]
  },
  {
   "cell_type": "code",
   "execution_count": 5,
   "id": "a3e6cfc3",
   "metadata": {
    "execution": {
     "iopub.execute_input": "2025-03-05T21:34:55.968182Z",
     "iopub.status.busy": "2025-03-05T21:34:55.967554Z",
     "iopub.status.idle": "2025-03-05T21:34:56.200477Z",
     "shell.execute_reply": "2025-03-05T21:34:56.199300Z"
    },
    "papermill": {
     "duration": 0.240504,
     "end_time": "2025-03-05T21:34:56.202560",
     "exception": false,
     "start_time": "2025-03-05T21:34:55.962056",
     "status": "completed"
    },
    "tags": []
   },
   "outputs": [
    {
     "data": {
      "text/html": [
       "<iframe\n",
       "    scrolling=\"no\"\n",
       "    width=\"100%\"\n",
       "    height=\"545px\"\n",
       "    src=\"iframe_figures/figure_5.html\"\n",
       "    frameborder=\"0\"\n",
       "    allowfullscreen\n",
       "></iframe>\n"
      ]
     },
     "metadata": {},
     "output_type": "display_data"
    }
   ],
   "source": [
    "express.scatter(data_frame=df, x='Date', y='volume', color='year', log_y=True).update_traces(marker=dict(size=3))"
   ]
  },
  {
   "cell_type": "markdown",
   "id": "a7b021f3",
   "metadata": {
    "papermill": {
     "duration": 0.003662,
     "end_time": "2025-03-05T21:34:56.210491",
     "exception": false,
     "start_time": "2025-03-05T21:34:56.206829",
     "status": "completed"
    },
    "tags": []
   },
   "source": [
    "What do we see? We see steady growth in the log of the volume through some time around 2008, followed by a decline in volume. Let's try plotting price and volume together."
   ]
  },
  {
   "cell_type": "code",
   "execution_count": 6,
   "id": "c43d3296",
   "metadata": {
    "execution": {
     "iopub.execute_input": "2025-03-05T21:34:56.220033Z",
     "iopub.status.busy": "2025-03-05T21:34:56.219381Z",
     "iopub.status.idle": "2025-03-05T21:34:56.343231Z",
     "shell.execute_reply": "2025-03-05T21:34:56.342064Z"
    },
    "papermill": {
     "duration": 0.130729,
     "end_time": "2025-03-05T21:34:56.345210",
     "exception": false,
     "start_time": "2025-03-05T21:34:56.214481",
     "status": "completed"
    },
    "tags": []
   },
   "outputs": [
    {
     "data": {
      "text/html": [
       "<iframe\n",
       "    scrolling=\"no\"\n",
       "    width=\"100%\"\n",
       "    height=\"545px\"\n",
       "    src=\"iframe_figures/figure_6.html\"\n",
       "    frameborder=\"0\"\n",
       "    allowfullscreen\n",
       "></iframe>\n"
      ]
     },
     "metadata": {},
     "output_type": "display_data"
    }
   ],
   "source": [
    "express.scatter(data_frame=df, x='adj_close', y='volume', color='year', log_x=True, log_y=True).update_traces(marker=dict(size=3))"
   ]
  },
  {
   "cell_type": "markdown",
   "id": "58b319e3",
   "metadata": {
    "papermill": {
     "duration": 0.003819,
     "end_time": "2025-03-05T21:34:56.353401",
     "exception": false,
     "start_time": "2025-03-05T21:34:56.349582",
     "status": "completed"
    },
    "tags": []
   },
   "source": [
    "What do we see? We see that the log of the price and the log of the volume are only slightly correlated, but by using color to represent the passage of time we do see that some years we can see the log of the price and the log of the volume growing together year over year."
   ]
  }
 ],
 "metadata": {
  "kaggle": {
   "accelerator": "none",
   "dataSources": [
    {
     "datasetId": 6786720,
     "sourceId": 10916970,
     "sourceType": "datasetVersion"
    }
   ],
   "dockerImageVersionId": 30918,
   "isGpuEnabled": false,
   "isInternetEnabled": true,
   "language": "python",
   "sourceType": "notebook"
  },
  "kernelspec": {
   "display_name": "Python 3",
   "language": "python",
   "name": "python3"
  },
  "language_info": {
   "codemirror_mode": {
    "name": "ipython",
    "version": 3
   },
   "file_extension": ".py",
   "mimetype": "text/x-python",
   "name": "python",
   "nbconvert_exporter": "python",
   "pygments_lexer": "ipython3",
   "version": "3.10.12"
  },
  "papermill": {
   "default_parameters": {},
   "duration": 9.351606,
   "end_time": "2025-03-05T21:34:57.080173",
   "environment_variables": {},
   "exception": null,
   "input_path": "__notebook__.ipynb",
   "output_path": "__notebook__.ipynb",
   "parameters": {},
   "start_time": "2025-03-05T21:34:47.728567",
   "version": "2.6.0"
  }
 },
 "nbformat": 4,
 "nbformat_minor": 5
}
