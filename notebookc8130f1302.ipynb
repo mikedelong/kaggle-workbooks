{
 "cells": [
  {
   "cell_type": "code",
   "execution_count": 1,
   "id": "fbf8fc39",
   "metadata": {
    "_cell_guid": "b1076dfc-b9ad-4769-8c92-a6c4dae69d19",
    "_uuid": "8f2839f25d086af736a60e9eeb907d3b93b6e0e5",
    "execution": {
     "iopub.execute_input": "2025-03-04T22:31:52.389626Z",
     "iopub.status.busy": "2025-03-04T22:31:52.389266Z",
     "iopub.status.idle": "2025-03-04T22:31:53.494946Z",
     "shell.execute_reply": "2025-03-04T22:31:53.493679Z"
    },
    "papermill": {
     "duration": 1.112804,
     "end_time": "2025-03-04T22:31:53.496781",
     "exception": false,
     "start_time": "2025-03-04T22:31:52.383977",
     "status": "completed"
    },
    "tags": []
   },
   "outputs": [
    {
     "data": {
      "text/html": [
       "<div>\n",
       "<style scoped>\n",
       "    .dataframe tbody tr th:only-of-type {\n",
       "        vertical-align: middle;\n",
       "    }\n",
       "\n",
       "    .dataframe tbody tr th {\n",
       "        vertical-align: top;\n",
       "    }\n",
       "\n",
       "    .dataframe thead th {\n",
       "        text-align: right;\n",
       "    }\n",
       "</style>\n",
       "<table border=\"1\" class=\"dataframe\">\n",
       "  <thead>\n",
       "    <tr style=\"text-align: right;\">\n",
       "      <th></th>\n",
       "      <th>date</th>\n",
       "      <th>open</th>\n",
       "      <th>high</th>\n",
       "      <th>low</th>\n",
       "      <th>close</th>\n",
       "      <th>adj_close</th>\n",
       "      <th>volume</th>\n",
       "      <th>Date</th>\n",
       "      <th>year</th>\n",
       "    </tr>\n",
       "  </thead>\n",
       "  <tbody>\n",
       "    <tr>\n",
       "      <th>0</th>\n",
       "      <td>1980-03-17 00:00:00-05:00</td>\n",
       "      <td>0.0</td>\n",
       "      <td>5.129630</td>\n",
       "      <td>5.018519</td>\n",
       "      <td>5.037037</td>\n",
       "      <td>1.059499</td>\n",
       "      <td>62775</td>\n",
       "      <td>1980-03-17</td>\n",
       "      <td>1980.0</td>\n",
       "    </tr>\n",
       "    <tr>\n",
       "      <th>1</th>\n",
       "      <td>1980-03-18 00:00:00-05:00</td>\n",
       "      <td>0.0</td>\n",
       "      <td>5.111111</td>\n",
       "      <td>5.037037</td>\n",
       "      <td>5.074074</td>\n",
       "      <td>1.067288</td>\n",
       "      <td>64125</td>\n",
       "      <td>1980-03-18</td>\n",
       "      <td>1980.0</td>\n",
       "    </tr>\n",
       "    <tr>\n",
       "      <th>2</th>\n",
       "      <td>1980-03-19 00:00:00-05:00</td>\n",
       "      <td>0.0</td>\n",
       "      <td>5.166667</td>\n",
       "      <td>5.111111</td>\n",
       "      <td>5.148148</td>\n",
       "      <td>1.082870</td>\n",
       "      <td>40500</td>\n",
       "      <td>1980-03-19</td>\n",
       "      <td>1980.0</td>\n",
       "    </tr>\n",
       "    <tr>\n",
       "      <th>3</th>\n",
       "      <td>1980-03-20 00:00:00-05:00</td>\n",
       "      <td>0.0</td>\n",
       "      <td>5.148148</td>\n",
       "      <td>5.092593</td>\n",
       "      <td>5.111111</td>\n",
       "      <td>1.075079</td>\n",
       "      <td>18900</td>\n",
       "      <td>1980-03-20</td>\n",
       "      <td>1980.0</td>\n",
       "    </tr>\n",
       "    <tr>\n",
       "      <th>4</th>\n",
       "      <td>1980-03-21 00:00:00-05:00</td>\n",
       "      <td>0.0</td>\n",
       "      <td>5.222222</td>\n",
       "      <td>5.111111</td>\n",
       "      <td>5.222222</td>\n",
       "      <td>1.098450</td>\n",
       "      <td>97200</td>\n",
       "      <td>1980-03-21</td>\n",
       "      <td>1980.0</td>\n",
       "    </tr>\n",
       "  </tbody>\n",
       "</table>\n",
       "</div>"
      ],
      "text/plain": [
       "                        date  open      high       low     close  adj_close  \\\n",
       "0  1980-03-17 00:00:00-05:00   0.0  5.129630  5.018519  5.037037   1.059499   \n",
       "1  1980-03-18 00:00:00-05:00   0.0  5.111111  5.037037  5.074074   1.067288   \n",
       "2  1980-03-19 00:00:00-05:00   0.0  5.166667  5.111111  5.148148   1.082870   \n",
       "3  1980-03-20 00:00:00-05:00   0.0  5.148148  5.092593  5.111111   1.075079   \n",
       "4  1980-03-21 00:00:00-05:00   0.0  5.222222  5.111111  5.222222   1.098450   \n",
       "\n",
       "   volume       Date    year  \n",
       "0   62775 1980-03-17  1980.0  \n",
       "1   64125 1980-03-18  1980.0  \n",
       "2   40500 1980-03-19  1980.0  \n",
       "3   18900 1980-03-20  1980.0  \n",
       "4   97200 1980-03-21  1980.0  "
      ]
     },
     "execution_count": 1,
     "metadata": {},
     "output_type": "execute_result"
    }
   ],
   "source": [
    "import pandas as pd\n",
    "\n",
    "DATA = '/kaggle/input/jpmorgan-chase-stock-data-2025/JPM_1940-01-01_2025-03-04.csv'\n",
    "df = pd.read_csv(filepath_or_buffer=DATA,)\n",
    "df['Date'] = df['date'].apply(func=lambda x: x.split()[0])\n",
    "df['Date'] = pd.to_datetime(df['Date'])\n",
    "df['year'] = df['Date'].dt.year.astype(float)\n",
    "df.head()"
   ]
  },
  {
   "cell_type": "markdown",
   "id": "544f4fa0",
   "metadata": {
    "papermill": {
     "duration": 0.002871,
     "end_time": "2025-03-04T22:31:53.503370",
     "exception": false,
     "start_time": "2025-03-04T22:31:53.500499",
     "status": "completed"
    },
    "tags": []
   },
   "source": [
    "First let's have a look at the price/volume correlations."
   ]
  },
  {
   "cell_type": "code",
   "execution_count": 2,
   "id": "2a4dca14",
   "metadata": {
    "execution": {
     "iopub.execute_input": "2025-03-04T22:31:53.510793Z",
     "iopub.status.busy": "2025-03-04T22:31:53.510434Z",
     "iopub.status.idle": "2025-03-04T22:31:53.532470Z",
     "shell.execute_reply": "2025-03-04T22:31:53.531095Z"
    },
    "papermill": {
     "duration": 0.028271,
     "end_time": "2025-03-04T22:31:53.534624",
     "exception": false,
     "start_time": "2025-03-04T22:31:53.506353",
     "status": "completed"
    },
    "tags": []
   },
   "outputs": [
    {
     "data": {
      "text/html": [
       "<div>\n",
       "<style scoped>\n",
       "    .dataframe tbody tr th:only-of-type {\n",
       "        vertical-align: middle;\n",
       "    }\n",
       "\n",
       "    .dataframe tbody tr th {\n",
       "        vertical-align: top;\n",
       "    }\n",
       "\n",
       "    .dataframe thead th {\n",
       "        text-align: right;\n",
       "    }\n",
       "</style>\n",
       "<table border=\"1\" class=\"dataframe\">\n",
       "  <thead>\n",
       "    <tr style=\"text-align: right;\">\n",
       "      <th></th>\n",
       "      <th>open</th>\n",
       "      <th>high</th>\n",
       "      <th>low</th>\n",
       "      <th>close</th>\n",
       "      <th>adj_close</th>\n",
       "      <th>volume</th>\n",
       "    </tr>\n",
       "  </thead>\n",
       "  <tbody>\n",
       "    <tr>\n",
       "      <th>open</th>\n",
       "      <td>1.000000</td>\n",
       "      <td>0.998834</td>\n",
       "      <td>0.998758</td>\n",
       "      <td>0.998704</td>\n",
       "      <td>0.989419</td>\n",
       "      <td>0.152231</td>\n",
       "    </tr>\n",
       "    <tr>\n",
       "      <th>high</th>\n",
       "      <td>0.998834</td>\n",
       "      <td>1.000000</td>\n",
       "      <td>0.999845</td>\n",
       "      <td>0.999902</td>\n",
       "      <td>0.992053</td>\n",
       "      <td>0.147328</td>\n",
       "    </tr>\n",
       "    <tr>\n",
       "      <th>low</th>\n",
       "      <td>0.998758</td>\n",
       "      <td>0.999845</td>\n",
       "      <td>1.000000</td>\n",
       "      <td>0.999903</td>\n",
       "      <td>0.992343</td>\n",
       "      <td>0.140009</td>\n",
       "    </tr>\n",
       "    <tr>\n",
       "      <th>close</th>\n",
       "      <td>0.998704</td>\n",
       "      <td>0.999902</td>\n",
       "      <td>0.999903</td>\n",
       "      <td>1.000000</td>\n",
       "      <td>0.992303</td>\n",
       "      <td>0.143744</td>\n",
       "    </tr>\n",
       "    <tr>\n",
       "      <th>adj_close</th>\n",
       "      <td>0.989419</td>\n",
       "      <td>0.992053</td>\n",
       "      <td>0.992343</td>\n",
       "      <td>0.992303</td>\n",
       "      <td>1.000000</td>\n",
       "      <td>0.129419</td>\n",
       "    </tr>\n",
       "    <tr>\n",
       "      <th>volume</th>\n",
       "      <td>0.152231</td>\n",
       "      <td>0.147328</td>\n",
       "      <td>0.140009</td>\n",
       "      <td>0.143744</td>\n",
       "      <td>0.129419</td>\n",
       "      <td>1.000000</td>\n",
       "    </tr>\n",
       "  </tbody>\n",
       "</table>\n",
       "</div>"
      ],
      "text/plain": [
       "               open      high       low     close  adj_close    volume\n",
       "open       1.000000  0.998834  0.998758  0.998704   0.989419  0.152231\n",
       "high       0.998834  1.000000  0.999845  0.999902   0.992053  0.147328\n",
       "low        0.998758  0.999845  1.000000  0.999903   0.992343  0.140009\n",
       "close      0.998704  0.999902  0.999903  1.000000   0.992303  0.143744\n",
       "adj_close  0.989419  0.992053  0.992343  0.992303   1.000000  0.129419\n",
       "volume     0.152231  0.147328  0.140009  0.143744   0.129419  1.000000"
      ]
     },
     "execution_count": 2,
     "metadata": {},
     "output_type": "execute_result"
    }
   ],
   "source": [
    "df[['open', 'high', 'low', 'close', 'adj_close', 'volume']].corr()"
   ]
  },
  {
   "cell_type": "markdown",
   "id": "5ab23468",
   "metadata": {
    "papermill": {
     "duration": 0.003203,
     "end_time": "2025-03-04T22:31:53.541703",
     "exception": false,
     "start_time": "2025-03-04T22:31:53.538500",
     "status": "completed"
    },
    "tags": []
   },
   "source": [
    "What do we see? We see that none of the prices are perfectly correlated, so we know we have no redundant columns. We also see that price and volume is slightly positively correlated."
   ]
  },
  {
   "cell_type": "code",
   "execution_count": 3,
   "id": "1a3cf0be",
   "metadata": {
    "execution": {
     "iopub.execute_input": "2025-03-04T22:31:53.549958Z",
     "iopub.status.busy": "2025-03-04T22:31:53.549631Z",
     "iopub.status.idle": "2025-03-04T22:31:56.749018Z",
     "shell.execute_reply": "2025-03-04T22:31:56.747846Z"
    },
    "papermill": {
     "duration": 3.205602,
     "end_time": "2025-03-04T22:31:56.750810",
     "exception": false,
     "start_time": "2025-03-04T22:31:53.545208",
     "status": "completed"
    },
    "tags": []
   },
   "outputs": [
    {
     "data": {
      "text/html": [
       "<iframe\n",
       "    scrolling=\"no\"\n",
       "    width=\"100%\"\n",
       "    height=\"545px\"\n",
       "    src=\"iframe_figures/figure_3.html\"\n",
       "    frameborder=\"0\"\n",
       "    allowfullscreen\n",
       "></iframe>\n"
      ]
     },
     "metadata": {},
     "output_type": "display_data"
    }
   ],
   "source": [
    "from plotly import express\n",
    "from plotly import io\n",
    "\n",
    "io.renderers.default = 'iframe'\n",
    "express.scatter(data_frame=df, x='Date', y='adj_close', color='year', log_y=False)"
   ]
  },
  {
   "cell_type": "markdown",
   "id": "b1e99b1f",
   "metadata": {
    "papermill": {
     "duration": 0.003179,
     "end_time": "2025-03-04T22:31:56.757849",
     "exception": false,
     "start_time": "2025-03-04T22:31:56.754670",
     "status": "completed"
    },
    "tags": []
   },
   "source": [
    "Because the stock has appreciated so much some years look like they have no price variability at all, which doesn't make much sense. Let's use a log plot in the price direction."
   ]
  },
  {
   "cell_type": "code",
   "execution_count": 4,
   "id": "a4c0ce8d",
   "metadata": {
    "execution": {
     "iopub.execute_input": "2025-03-04T22:31:56.766109Z",
     "iopub.status.busy": "2025-03-04T22:31:56.765727Z",
     "iopub.status.idle": "2025-03-04T22:31:57.004963Z",
     "shell.execute_reply": "2025-03-04T22:31:57.003646Z"
    },
    "papermill": {
     "duration": 0.245619,
     "end_time": "2025-03-04T22:31:57.006850",
     "exception": false,
     "start_time": "2025-03-04T22:31:56.761231",
     "status": "completed"
    },
    "tags": []
   },
   "outputs": [
    {
     "data": {
      "text/html": [
       "<iframe\n",
       "    scrolling=\"no\"\n",
       "    width=\"100%\"\n",
       "    height=\"545px\"\n",
       "    src=\"iframe_figures/figure_4.html\"\n",
       "    frameborder=\"0\"\n",
       "    allowfullscreen\n",
       "></iframe>\n"
      ]
     },
     "metadata": {},
     "output_type": "display_data"
    }
   ],
   "source": [
    "express.scatter(data_frame=df, x='Date', y='adj_close', color='year', log_y=True)"
   ]
  },
  {
   "cell_type": "markdown",
   "id": "24e9103e",
   "metadata": {
    "papermill": {
     "duration": 0.004445,
     "end_time": "2025-03-04T22:31:57.015004",
     "exception": false,
     "start_time": "2025-03-04T22:31:57.010559",
     "status": "completed"
    },
    "tags": []
   },
   "source": [
    "What do we see? We see that the stock price has appreciated pretty steadily, reflecting exponential price growth, but with occasional (substantial) reversals."
   ]
  },
  {
   "cell_type": "markdown",
   "id": "c4249ca6",
   "metadata": {
    "papermill": {
     "duration": 0.00624,
     "end_time": "2025-03-04T22:31:57.025012",
     "exception": false,
     "start_time": "2025-03-04T22:31:57.018772",
     "status": "completed"
    },
    "tags": []
   },
   "source": [
    "Next let's look at volume over time. Volume is not generally serially correlated the way prices are, so we need to use a log plot to keep outliers from dominating our plot."
   ]
  },
  {
   "cell_type": "code",
   "execution_count": 5,
   "id": "0744c190",
   "metadata": {
    "execution": {
     "iopub.execute_input": "2025-03-04T22:31:57.036249Z",
     "iopub.status.busy": "2025-03-04T22:31:57.035799Z",
     "iopub.status.idle": "2025-03-04T22:31:57.324515Z",
     "shell.execute_reply": "2025-03-04T22:31:57.323550Z"
    },
    "papermill": {
     "duration": 0.296972,
     "end_time": "2025-03-04T22:31:57.327277",
     "exception": false,
     "start_time": "2025-03-04T22:31:57.030305",
     "status": "completed"
    },
    "tags": []
   },
   "outputs": [
    {
     "data": {
      "text/html": [
       "<iframe\n",
       "    scrolling=\"no\"\n",
       "    width=\"100%\"\n",
       "    height=\"545px\"\n",
       "    src=\"iframe_figures/figure_5.html\"\n",
       "    frameborder=\"0\"\n",
       "    allowfullscreen\n",
       "></iframe>\n"
      ]
     },
     "metadata": {},
     "output_type": "display_data"
    }
   ],
   "source": [
    "express.scatter(data_frame=df, x='Date', y='volume', color='year', log_y=True)"
   ]
  },
  {
   "cell_type": "markdown",
   "id": "70bfd784",
   "metadata": {
    "papermill": {
     "duration": 0.005321,
     "end_time": "2025-03-04T22:31:57.337888",
     "exception": false,
     "start_time": "2025-03-04T22:31:57.332567",
     "status": "completed"
    },
    "tags": []
   },
   "source": [
    "What do we see? We see steady growth in the log of the volume through some time around 2008, followed by a decline in volume. Let's try plotting price and volume together."
   ]
  },
  {
   "cell_type": "code",
   "execution_count": 6,
   "id": "2651e556",
   "metadata": {
    "execution": {
     "iopub.execute_input": "2025-03-04T22:31:57.351386Z",
     "iopub.status.busy": "2025-03-04T22:31:57.350907Z",
     "iopub.status.idle": "2025-03-04T22:31:57.469441Z",
     "shell.execute_reply": "2025-03-04T22:31:57.468278Z"
    },
    "papermill": {
     "duration": 0.12734,
     "end_time": "2025-03-04T22:31:57.471458",
     "exception": false,
     "start_time": "2025-03-04T22:31:57.344118",
     "status": "completed"
    },
    "tags": []
   },
   "outputs": [
    {
     "data": {
      "text/html": [
       "<iframe\n",
       "    scrolling=\"no\"\n",
       "    width=\"100%\"\n",
       "    height=\"545px\"\n",
       "    src=\"iframe_figures/figure_6.html\"\n",
       "    frameborder=\"0\"\n",
       "    allowfullscreen\n",
       "></iframe>\n"
      ]
     },
     "metadata": {},
     "output_type": "display_data"
    }
   ],
   "source": [
    "express.scatter(data_frame=df, x='adj_close', y='volume', color='year', log_x=True, log_y=True)"
   ]
  },
  {
   "cell_type": "markdown",
   "id": "70ba8849",
   "metadata": {
    "papermill": {
     "duration": 0.00394,
     "end_time": "2025-03-04T22:31:57.479907",
     "exception": false,
     "start_time": "2025-03-04T22:31:57.475967",
     "status": "completed"
    },
    "tags": []
   },
   "source": [
    "What do we see? We see that the log of the price and the log of the volume are only slightly correlated, but by using color to represent the passage of time we do see that some years we can see the log of the price and the log of the volume growing together year over year."
   ]
  }
 ],
 "metadata": {
  "kaggle": {
   "accelerator": "none",
   "dataSources": [
    {
     "datasetId": 6786720,
     "sourceId": 10916970,
     "sourceType": "datasetVersion"
    }
   ],
   "dockerImageVersionId": 30918,
   "isGpuEnabled": false,
   "isInternetEnabled": true,
   "language": "python",
   "sourceType": "notebook"
  },
  "kernelspec": {
   "display_name": "Python 3",
   "language": "python",
   "name": "python3"
  },
  "language_info": {
   "codemirror_mode": {
    "name": "ipython",
    "version": 3
   },
   "file_extension": ".py",
   "mimetype": "text/x-python",
   "name": "python",
   "nbconvert_exporter": "python",
   "pygments_lexer": "ipython3",
   "version": "3.10.12"
  },
  "papermill": {
   "default_parameters": {},
   "duration": 8.677919,
   "end_time": "2025-03-04T22:31:58.205732",
   "environment_variables": {},
   "exception": null,
   "input_path": "__notebook__.ipynb",
   "output_path": "__notebook__.ipynb",
   "parameters": {},
   "start_time": "2025-03-04T22:31:49.527813",
   "version": "2.6.0"
  }
 },
 "nbformat": 4,
 "nbformat_minor": 5
}
