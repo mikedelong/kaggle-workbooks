{
 "cells": [
  {
   "cell_type": "code",
   "execution_count": 1,
   "id": "433a9a36",
   "metadata": {
    "_cell_guid": "b1076dfc-b9ad-4769-8c92-a6c4dae69d19",
    "_uuid": "8f2839f25d086af736a60e9eeb907d3b93b6e0e5",
    "execution": {
     "iopub.execute_input": "2025-03-04T22:24:50.963063Z",
     "iopub.status.busy": "2025-03-04T22:24:50.962741Z",
     "iopub.status.idle": "2025-03-04T22:24:51.988228Z",
     "shell.execute_reply": "2025-03-04T22:24:51.986957Z"
    },
    "papermill": {
     "duration": 1.03061,
     "end_time": "2025-03-04T22:24:51.989882",
     "exception": false,
     "start_time": "2025-03-04T22:24:50.959272",
     "status": "completed"
    },
    "tags": []
   },
   "outputs": [
    {
     "data": {
      "text/html": [
       "<div>\n",
       "<style scoped>\n",
       "    .dataframe tbody tr th:only-of-type {\n",
       "        vertical-align: middle;\n",
       "    }\n",
       "\n",
       "    .dataframe tbody tr th {\n",
       "        vertical-align: top;\n",
       "    }\n",
       "\n",
       "    .dataframe thead th {\n",
       "        text-align: right;\n",
       "    }\n",
       "</style>\n",
       "<table border=\"1\" class=\"dataframe\">\n",
       "  <thead>\n",
       "    <tr style=\"text-align: right;\">\n",
       "      <th></th>\n",
       "      <th>date</th>\n",
       "      <th>open</th>\n",
       "      <th>high</th>\n",
       "      <th>low</th>\n",
       "      <th>close</th>\n",
       "      <th>adj_close</th>\n",
       "      <th>volume</th>\n",
       "      <th>Date</th>\n",
       "      <th>year</th>\n",
       "    </tr>\n",
       "  </thead>\n",
       "  <tbody>\n",
       "    <tr>\n",
       "      <th>0</th>\n",
       "      <td>1980-03-17 00:00:00-05:00</td>\n",
       "      <td>0.0</td>\n",
       "      <td>5.129630</td>\n",
       "      <td>5.018519</td>\n",
       "      <td>5.037037</td>\n",
       "      <td>1.059499</td>\n",
       "      <td>62775</td>\n",
       "      <td>1980-03-17</td>\n",
       "      <td>1980.0</td>\n",
       "    </tr>\n",
       "    <tr>\n",
       "      <th>1</th>\n",
       "      <td>1980-03-18 00:00:00-05:00</td>\n",
       "      <td>0.0</td>\n",
       "      <td>5.111111</td>\n",
       "      <td>5.037037</td>\n",
       "      <td>5.074074</td>\n",
       "      <td>1.067288</td>\n",
       "      <td>64125</td>\n",
       "      <td>1980-03-18</td>\n",
       "      <td>1980.0</td>\n",
       "    </tr>\n",
       "    <tr>\n",
       "      <th>2</th>\n",
       "      <td>1980-03-19 00:00:00-05:00</td>\n",
       "      <td>0.0</td>\n",
       "      <td>5.166667</td>\n",
       "      <td>5.111111</td>\n",
       "      <td>5.148148</td>\n",
       "      <td>1.082870</td>\n",
       "      <td>40500</td>\n",
       "      <td>1980-03-19</td>\n",
       "      <td>1980.0</td>\n",
       "    </tr>\n",
       "    <tr>\n",
       "      <th>3</th>\n",
       "      <td>1980-03-20 00:00:00-05:00</td>\n",
       "      <td>0.0</td>\n",
       "      <td>5.148148</td>\n",
       "      <td>5.092593</td>\n",
       "      <td>5.111111</td>\n",
       "      <td>1.075079</td>\n",
       "      <td>18900</td>\n",
       "      <td>1980-03-20</td>\n",
       "      <td>1980.0</td>\n",
       "    </tr>\n",
       "    <tr>\n",
       "      <th>4</th>\n",
       "      <td>1980-03-21 00:00:00-05:00</td>\n",
       "      <td>0.0</td>\n",
       "      <td>5.222222</td>\n",
       "      <td>5.111111</td>\n",
       "      <td>5.222222</td>\n",
       "      <td>1.098450</td>\n",
       "      <td>97200</td>\n",
       "      <td>1980-03-21</td>\n",
       "      <td>1980.0</td>\n",
       "    </tr>\n",
       "  </tbody>\n",
       "</table>\n",
       "</div>"
      ],
      "text/plain": [
       "                        date  open      high       low     close  adj_close  \\\n",
       "0  1980-03-17 00:00:00-05:00   0.0  5.129630  5.018519  5.037037   1.059499   \n",
       "1  1980-03-18 00:00:00-05:00   0.0  5.111111  5.037037  5.074074   1.067288   \n",
       "2  1980-03-19 00:00:00-05:00   0.0  5.166667  5.111111  5.148148   1.082870   \n",
       "3  1980-03-20 00:00:00-05:00   0.0  5.148148  5.092593  5.111111   1.075079   \n",
       "4  1980-03-21 00:00:00-05:00   0.0  5.222222  5.111111  5.222222   1.098450   \n",
       "\n",
       "   volume       Date    year  \n",
       "0   62775 1980-03-17  1980.0  \n",
       "1   64125 1980-03-18  1980.0  \n",
       "2   40500 1980-03-19  1980.0  \n",
       "3   18900 1980-03-20  1980.0  \n",
       "4   97200 1980-03-21  1980.0  "
      ]
     },
     "execution_count": 1,
     "metadata": {},
     "output_type": "execute_result"
    }
   ],
   "source": [
    "import pandas as pd\n",
    "\n",
    "DATA = '/kaggle/input/jpmorgan-chase-stock-data-2025/JPM_1940-01-01_2025-03-04.csv'\n",
    "df = pd.read_csv(filepath_or_buffer=DATA,)\n",
    "df['Date'] = df['date'].apply(func=lambda x: x.split()[0])\n",
    "df['Date'] = pd.to_datetime(df['Date'])\n",
    "df['year'] = df['Date'].dt.year.astype(float)\n",
    "df.head()"
   ]
  },
  {
   "cell_type": "markdown",
   "id": "944b2ebe",
   "metadata": {
    "papermill": {
     "duration": 0.001629,
     "end_time": "2025-03-04T22:24:51.993992",
     "exception": false,
     "start_time": "2025-03-04T22:24:51.992363",
     "status": "completed"
    },
    "tags": []
   },
   "source": [
    "First let's have a look at the price/volume correlations."
   ]
  },
  {
   "cell_type": "code",
   "execution_count": 2,
   "id": "9cabda07",
   "metadata": {
    "execution": {
     "iopub.execute_input": "2025-03-04T22:24:51.998856Z",
     "iopub.status.busy": "2025-03-04T22:24:51.998505Z",
     "iopub.status.idle": "2025-03-04T22:24:52.018108Z",
     "shell.execute_reply": "2025-03-04T22:24:52.017117Z"
    },
    "papermill": {
     "duration": 0.024139,
     "end_time": "2025-03-04T22:24:52.019931",
     "exception": false,
     "start_time": "2025-03-04T22:24:51.995792",
     "status": "completed"
    },
    "tags": []
   },
   "outputs": [
    {
     "data": {
      "text/html": [
       "<div>\n",
       "<style scoped>\n",
       "    .dataframe tbody tr th:only-of-type {\n",
       "        vertical-align: middle;\n",
       "    }\n",
       "\n",
       "    .dataframe tbody tr th {\n",
       "        vertical-align: top;\n",
       "    }\n",
       "\n",
       "    .dataframe thead th {\n",
       "        text-align: right;\n",
       "    }\n",
       "</style>\n",
       "<table border=\"1\" class=\"dataframe\">\n",
       "  <thead>\n",
       "    <tr style=\"text-align: right;\">\n",
       "      <th></th>\n",
       "      <th>open</th>\n",
       "      <th>high</th>\n",
       "      <th>low</th>\n",
       "      <th>close</th>\n",
       "      <th>adj_close</th>\n",
       "      <th>volume</th>\n",
       "    </tr>\n",
       "  </thead>\n",
       "  <tbody>\n",
       "    <tr>\n",
       "      <th>open</th>\n",
       "      <td>1.000000</td>\n",
       "      <td>0.998834</td>\n",
       "      <td>0.998758</td>\n",
       "      <td>0.998704</td>\n",
       "      <td>0.989419</td>\n",
       "      <td>0.152231</td>\n",
       "    </tr>\n",
       "    <tr>\n",
       "      <th>high</th>\n",
       "      <td>0.998834</td>\n",
       "      <td>1.000000</td>\n",
       "      <td>0.999845</td>\n",
       "      <td>0.999902</td>\n",
       "      <td>0.992053</td>\n",
       "      <td>0.147328</td>\n",
       "    </tr>\n",
       "    <tr>\n",
       "      <th>low</th>\n",
       "      <td>0.998758</td>\n",
       "      <td>0.999845</td>\n",
       "      <td>1.000000</td>\n",
       "      <td>0.999903</td>\n",
       "      <td>0.992343</td>\n",
       "      <td>0.140009</td>\n",
       "    </tr>\n",
       "    <tr>\n",
       "      <th>close</th>\n",
       "      <td>0.998704</td>\n",
       "      <td>0.999902</td>\n",
       "      <td>0.999903</td>\n",
       "      <td>1.000000</td>\n",
       "      <td>0.992303</td>\n",
       "      <td>0.143744</td>\n",
       "    </tr>\n",
       "    <tr>\n",
       "      <th>adj_close</th>\n",
       "      <td>0.989419</td>\n",
       "      <td>0.992053</td>\n",
       "      <td>0.992343</td>\n",
       "      <td>0.992303</td>\n",
       "      <td>1.000000</td>\n",
       "      <td>0.129419</td>\n",
       "    </tr>\n",
       "    <tr>\n",
       "      <th>volume</th>\n",
       "      <td>0.152231</td>\n",
       "      <td>0.147328</td>\n",
       "      <td>0.140009</td>\n",
       "      <td>0.143744</td>\n",
       "      <td>0.129419</td>\n",
       "      <td>1.000000</td>\n",
       "    </tr>\n",
       "  </tbody>\n",
       "</table>\n",
       "</div>"
      ],
      "text/plain": [
       "               open      high       low     close  adj_close    volume\n",
       "open       1.000000  0.998834  0.998758  0.998704   0.989419  0.152231\n",
       "high       0.998834  1.000000  0.999845  0.999902   0.992053  0.147328\n",
       "low        0.998758  0.999845  1.000000  0.999903   0.992343  0.140009\n",
       "close      0.998704  0.999902  0.999903  1.000000   0.992303  0.143744\n",
       "adj_close  0.989419  0.992053  0.992343  0.992303   1.000000  0.129419\n",
       "volume     0.152231  0.147328  0.140009  0.143744   0.129419  1.000000"
      ]
     },
     "execution_count": 2,
     "metadata": {},
     "output_type": "execute_result"
    }
   ],
   "source": [
    "df[['open', 'high', 'low', 'close', 'adj_close', 'volume']].corr()"
   ]
  },
  {
   "cell_type": "markdown",
   "id": "185b4b62",
   "metadata": {
    "papermill": {
     "duration": 0.001809,
     "end_time": "2025-03-04T22:24:52.023983",
     "exception": false,
     "start_time": "2025-03-04T22:24:52.022174",
     "status": "completed"
    },
    "tags": []
   },
   "source": [
    "What do we see? We see that none of the prices are perfectly correlated, so we know we have no redundant columns. We also see that price and volume is slightly positively correlated."
   ]
  },
  {
   "cell_type": "code",
   "execution_count": 3,
   "id": "04a7b7db",
   "metadata": {
    "execution": {
     "iopub.execute_input": "2025-03-04T22:24:52.028795Z",
     "iopub.status.busy": "2025-03-04T22:24:52.028437Z",
     "iopub.status.idle": "2025-03-04T22:24:55.123809Z",
     "shell.execute_reply": "2025-03-04T22:24:55.122580Z"
    },
    "papermill": {
     "duration": 3.099403,
     "end_time": "2025-03-04T22:24:55.125150",
     "exception": false,
     "start_time": "2025-03-04T22:24:52.025747",
     "status": "completed"
    },
    "tags": []
   },
   "outputs": [
    {
     "data": {
      "text/html": [
       "<iframe\n",
       "    scrolling=\"no\"\n",
       "    width=\"100%\"\n",
       "    height=\"545px\"\n",
       "    src=\"iframe_figures/figure_3.html\"\n",
       "    frameborder=\"0\"\n",
       "    allowfullscreen\n",
       "></iframe>\n"
      ]
     },
     "metadata": {},
     "output_type": "display_data"
    }
   ],
   "source": [
    "from plotly import express\n",
    "from plotly import io\n",
    "\n",
    "io.renderers.default = 'iframe'\n",
    "express.scatter(data_frame=df, x='Date', y='adj_close', color='year', log_y=False)"
   ]
  },
  {
   "cell_type": "markdown",
   "id": "2749a6c3",
   "metadata": {
    "papermill": {
     "duration": 0.001755,
     "end_time": "2025-03-04T22:24:55.129509",
     "exception": false,
     "start_time": "2025-03-04T22:24:55.127754",
     "status": "completed"
    },
    "tags": []
   },
   "source": [
    "Because the stock has appreciated so much some years look like they have no price variability at all, which doesn't make much sense. Let's use a log plot in the price direction."
   ]
  },
  {
   "cell_type": "code",
   "execution_count": 4,
   "id": "2bfa9a82",
   "metadata": {
    "execution": {
     "iopub.execute_input": "2025-03-04T22:24:55.134864Z",
     "iopub.status.busy": "2025-03-04T22:24:55.134448Z",
     "iopub.status.idle": "2025-03-04T22:24:55.301705Z",
     "shell.execute_reply": "2025-03-04T22:24:55.300299Z"
    },
    "papermill": {
     "duration": 0.172029,
     "end_time": "2025-03-04T22:24:55.303449",
     "exception": false,
     "start_time": "2025-03-04T22:24:55.131420",
     "status": "completed"
    },
    "tags": []
   },
   "outputs": [
    {
     "data": {
      "text/html": [
       "<iframe\n",
       "    scrolling=\"no\"\n",
       "    width=\"100%\"\n",
       "    height=\"545px\"\n",
       "    src=\"iframe_figures/figure_4.html\"\n",
       "    frameborder=\"0\"\n",
       "    allowfullscreen\n",
       "></iframe>\n"
      ]
     },
     "metadata": {},
     "output_type": "display_data"
    }
   ],
   "source": [
    "express.scatter(data_frame=df, x='Date', y='adj_close', color='year', log_y=True)"
   ]
  }
 ],
 "metadata": {
  "kaggle": {
   "accelerator": "none",
   "dataSources": [
    {
     "datasetId": 6786720,
     "sourceId": 10916970,
     "sourceType": "datasetVersion"
    }
   ],
   "dockerImageVersionId": 30918,
   "isGpuEnabled": false,
   "isInternetEnabled": true,
   "language": "python",
   "sourceType": "notebook"
  },
  "kernelspec": {
   "display_name": "Python 3",
   "language": "python",
   "name": "python3"
  },
  "language_info": {
   "codemirror_mode": {
    "name": "ipython",
    "version": 3
   },
   "file_extension": ".py",
   "mimetype": "text/x-python",
   "name": "python",
   "nbconvert_exporter": "python",
   "pygments_lexer": "ipython3",
   "version": "3.10.12"
  },
  "papermill": {
   "default_parameters": {},
   "duration": 7.257242,
   "end_time": "2025-03-04T22:24:56.026243",
   "environment_variables": {},
   "exception": null,
   "input_path": "__notebook__.ipynb",
   "output_path": "__notebook__.ipynb",
   "parameters": {},
   "start_time": "2025-03-04T22:24:48.769001",
   "version": "2.6.0"
  }
 },
 "nbformat": 4,
 "nbformat_minor": 5
}
