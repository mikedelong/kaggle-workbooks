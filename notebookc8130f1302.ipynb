{
 "cells": [
  {
   "cell_type": "code",
   "execution_count": 1,
   "id": "6780609f",
   "metadata": {
    "_cell_guid": "b1076dfc-b9ad-4769-8c92-a6c4dae69d19",
    "_uuid": "8f2839f25d086af736a60e9eeb907d3b93b6e0e5",
    "execution": {
     "iopub.execute_input": "2025-03-04T22:29:48.741829Z",
     "iopub.status.busy": "2025-03-04T22:29:48.741270Z",
     "iopub.status.idle": "2025-03-04T22:29:49.991824Z",
     "shell.execute_reply": "2025-03-04T22:29:49.989973Z"
    },
    "papermill": {
     "duration": 1.257829,
     "end_time": "2025-03-04T22:29:49.994076",
     "exception": false,
     "start_time": "2025-03-04T22:29:48.736247",
     "status": "completed"
    },
    "tags": []
   },
   "outputs": [
    {
     "data": {
      "text/html": [
       "<div>\n",
       "<style scoped>\n",
       "    .dataframe tbody tr th:only-of-type {\n",
       "        vertical-align: middle;\n",
       "    }\n",
       "\n",
       "    .dataframe tbody tr th {\n",
       "        vertical-align: top;\n",
       "    }\n",
       "\n",
       "    .dataframe thead th {\n",
       "        text-align: right;\n",
       "    }\n",
       "</style>\n",
       "<table border=\"1\" class=\"dataframe\">\n",
       "  <thead>\n",
       "    <tr style=\"text-align: right;\">\n",
       "      <th></th>\n",
       "      <th>date</th>\n",
       "      <th>open</th>\n",
       "      <th>high</th>\n",
       "      <th>low</th>\n",
       "      <th>close</th>\n",
       "      <th>adj_close</th>\n",
       "      <th>volume</th>\n",
       "      <th>Date</th>\n",
       "      <th>year</th>\n",
       "    </tr>\n",
       "  </thead>\n",
       "  <tbody>\n",
       "    <tr>\n",
       "      <th>0</th>\n",
       "      <td>1980-03-17 00:00:00-05:00</td>\n",
       "      <td>0.0</td>\n",
       "      <td>5.129630</td>\n",
       "      <td>5.018519</td>\n",
       "      <td>5.037037</td>\n",
       "      <td>1.059499</td>\n",
       "      <td>62775</td>\n",
       "      <td>1980-03-17</td>\n",
       "      <td>1980.0</td>\n",
       "    </tr>\n",
       "    <tr>\n",
       "      <th>1</th>\n",
       "      <td>1980-03-18 00:00:00-05:00</td>\n",
       "      <td>0.0</td>\n",
       "      <td>5.111111</td>\n",
       "      <td>5.037037</td>\n",
       "      <td>5.074074</td>\n",
       "      <td>1.067288</td>\n",
       "      <td>64125</td>\n",
       "      <td>1980-03-18</td>\n",
       "      <td>1980.0</td>\n",
       "    </tr>\n",
       "    <tr>\n",
       "      <th>2</th>\n",
       "      <td>1980-03-19 00:00:00-05:00</td>\n",
       "      <td>0.0</td>\n",
       "      <td>5.166667</td>\n",
       "      <td>5.111111</td>\n",
       "      <td>5.148148</td>\n",
       "      <td>1.082870</td>\n",
       "      <td>40500</td>\n",
       "      <td>1980-03-19</td>\n",
       "      <td>1980.0</td>\n",
       "    </tr>\n",
       "    <tr>\n",
       "      <th>3</th>\n",
       "      <td>1980-03-20 00:00:00-05:00</td>\n",
       "      <td>0.0</td>\n",
       "      <td>5.148148</td>\n",
       "      <td>5.092593</td>\n",
       "      <td>5.111111</td>\n",
       "      <td>1.075079</td>\n",
       "      <td>18900</td>\n",
       "      <td>1980-03-20</td>\n",
       "      <td>1980.0</td>\n",
       "    </tr>\n",
       "    <tr>\n",
       "      <th>4</th>\n",
       "      <td>1980-03-21 00:00:00-05:00</td>\n",
       "      <td>0.0</td>\n",
       "      <td>5.222222</td>\n",
       "      <td>5.111111</td>\n",
       "      <td>5.222222</td>\n",
       "      <td>1.098450</td>\n",
       "      <td>97200</td>\n",
       "      <td>1980-03-21</td>\n",
       "      <td>1980.0</td>\n",
       "    </tr>\n",
       "  </tbody>\n",
       "</table>\n",
       "</div>"
      ],
      "text/plain": [
       "                        date  open      high       low     close  adj_close  \\\n",
       "0  1980-03-17 00:00:00-05:00   0.0  5.129630  5.018519  5.037037   1.059499   \n",
       "1  1980-03-18 00:00:00-05:00   0.0  5.111111  5.037037  5.074074   1.067288   \n",
       "2  1980-03-19 00:00:00-05:00   0.0  5.166667  5.111111  5.148148   1.082870   \n",
       "3  1980-03-20 00:00:00-05:00   0.0  5.148148  5.092593  5.111111   1.075079   \n",
       "4  1980-03-21 00:00:00-05:00   0.0  5.222222  5.111111  5.222222   1.098450   \n",
       "\n",
       "   volume       Date    year  \n",
       "0   62775 1980-03-17  1980.0  \n",
       "1   64125 1980-03-18  1980.0  \n",
       "2   40500 1980-03-19  1980.0  \n",
       "3   18900 1980-03-20  1980.0  \n",
       "4   97200 1980-03-21  1980.0  "
      ]
     },
     "execution_count": 1,
     "metadata": {},
     "output_type": "execute_result"
    }
   ],
   "source": [
    "import pandas as pd\n",
    "\n",
    "DATA = '/kaggle/input/jpmorgan-chase-stock-data-2025/JPM_1940-01-01_2025-03-04.csv'\n",
    "df = pd.read_csv(filepath_or_buffer=DATA,)\n",
    "df['Date'] = df['date'].apply(func=lambda x: x.split()[0])\n",
    "df['Date'] = pd.to_datetime(df['Date'])\n",
    "df['year'] = df['Date'].dt.year.astype(float)\n",
    "df.head()"
   ]
  },
  {
   "cell_type": "markdown",
   "id": "348b0ae3",
   "metadata": {
    "papermill": {
     "duration": 0.003486,
     "end_time": "2025-03-04T22:29:50.001492",
     "exception": false,
     "start_time": "2025-03-04T22:29:49.998006",
     "status": "completed"
    },
    "tags": []
   },
   "source": [
    "First let's have a look at the price/volume correlations."
   ]
  },
  {
   "cell_type": "code",
   "execution_count": 2,
   "id": "14cd0d09",
   "metadata": {
    "execution": {
     "iopub.execute_input": "2025-03-04T22:29:50.010265Z",
     "iopub.status.busy": "2025-03-04T22:29:50.009819Z",
     "iopub.status.idle": "2025-03-04T22:29:50.034047Z",
     "shell.execute_reply": "2025-03-04T22:29:50.032483Z"
    },
    "papermill": {
     "duration": 0.031197,
     "end_time": "2025-03-04T22:29:50.036307",
     "exception": false,
     "start_time": "2025-03-04T22:29:50.005110",
     "status": "completed"
    },
    "tags": []
   },
   "outputs": [
    {
     "data": {
      "text/html": [
       "<div>\n",
       "<style scoped>\n",
       "    .dataframe tbody tr th:only-of-type {\n",
       "        vertical-align: middle;\n",
       "    }\n",
       "\n",
       "    .dataframe tbody tr th {\n",
       "        vertical-align: top;\n",
       "    }\n",
       "\n",
       "    .dataframe thead th {\n",
       "        text-align: right;\n",
       "    }\n",
       "</style>\n",
       "<table border=\"1\" class=\"dataframe\">\n",
       "  <thead>\n",
       "    <tr style=\"text-align: right;\">\n",
       "      <th></th>\n",
       "      <th>open</th>\n",
       "      <th>high</th>\n",
       "      <th>low</th>\n",
       "      <th>close</th>\n",
       "      <th>adj_close</th>\n",
       "      <th>volume</th>\n",
       "    </tr>\n",
       "  </thead>\n",
       "  <tbody>\n",
       "    <tr>\n",
       "      <th>open</th>\n",
       "      <td>1.000000</td>\n",
       "      <td>0.998834</td>\n",
       "      <td>0.998758</td>\n",
       "      <td>0.998704</td>\n",
       "      <td>0.989419</td>\n",
       "      <td>0.152231</td>\n",
       "    </tr>\n",
       "    <tr>\n",
       "      <th>high</th>\n",
       "      <td>0.998834</td>\n",
       "      <td>1.000000</td>\n",
       "      <td>0.999845</td>\n",
       "      <td>0.999902</td>\n",
       "      <td>0.992053</td>\n",
       "      <td>0.147328</td>\n",
       "    </tr>\n",
       "    <tr>\n",
       "      <th>low</th>\n",
       "      <td>0.998758</td>\n",
       "      <td>0.999845</td>\n",
       "      <td>1.000000</td>\n",
       "      <td>0.999903</td>\n",
       "      <td>0.992343</td>\n",
       "      <td>0.140009</td>\n",
       "    </tr>\n",
       "    <tr>\n",
       "      <th>close</th>\n",
       "      <td>0.998704</td>\n",
       "      <td>0.999902</td>\n",
       "      <td>0.999903</td>\n",
       "      <td>1.000000</td>\n",
       "      <td>0.992303</td>\n",
       "      <td>0.143744</td>\n",
       "    </tr>\n",
       "    <tr>\n",
       "      <th>adj_close</th>\n",
       "      <td>0.989419</td>\n",
       "      <td>0.992053</td>\n",
       "      <td>0.992343</td>\n",
       "      <td>0.992303</td>\n",
       "      <td>1.000000</td>\n",
       "      <td>0.129419</td>\n",
       "    </tr>\n",
       "    <tr>\n",
       "      <th>volume</th>\n",
       "      <td>0.152231</td>\n",
       "      <td>0.147328</td>\n",
       "      <td>0.140009</td>\n",
       "      <td>0.143744</td>\n",
       "      <td>0.129419</td>\n",
       "      <td>1.000000</td>\n",
       "    </tr>\n",
       "  </tbody>\n",
       "</table>\n",
       "</div>"
      ],
      "text/plain": [
       "               open      high       low     close  adj_close    volume\n",
       "open       1.000000  0.998834  0.998758  0.998704   0.989419  0.152231\n",
       "high       0.998834  1.000000  0.999845  0.999902   0.992053  0.147328\n",
       "low        0.998758  0.999845  1.000000  0.999903   0.992343  0.140009\n",
       "close      0.998704  0.999902  0.999903  1.000000   0.992303  0.143744\n",
       "adj_close  0.989419  0.992053  0.992343  0.992303   1.000000  0.129419\n",
       "volume     0.152231  0.147328  0.140009  0.143744   0.129419  1.000000"
      ]
     },
     "execution_count": 2,
     "metadata": {},
     "output_type": "execute_result"
    }
   ],
   "source": [
    "df[['open', 'high', 'low', 'close', 'adj_close', 'volume']].corr()"
   ]
  },
  {
   "cell_type": "markdown",
   "id": "b2614495",
   "metadata": {
    "papermill": {
     "duration": 0.003407,
     "end_time": "2025-03-04T22:29:50.044132",
     "exception": false,
     "start_time": "2025-03-04T22:29:50.040725",
     "status": "completed"
    },
    "tags": []
   },
   "source": [
    "What do we see? We see that none of the prices are perfectly correlated, so we know we have no redundant columns. We also see that price and volume is slightly positively correlated."
   ]
  },
  {
   "cell_type": "code",
   "execution_count": 3,
   "id": "3d5dfae2",
   "metadata": {
    "execution": {
     "iopub.execute_input": "2025-03-04T22:29:50.053378Z",
     "iopub.status.busy": "2025-03-04T22:29:50.052982Z",
     "iopub.status.idle": "2025-03-04T22:29:53.887957Z",
     "shell.execute_reply": "2025-03-04T22:29:53.886860Z"
    },
    "papermill": {
     "duration": 3.841486,
     "end_time": "2025-03-04T22:29:53.889783",
     "exception": false,
     "start_time": "2025-03-04T22:29:50.048297",
     "status": "completed"
    },
    "tags": []
   },
   "outputs": [
    {
     "data": {
      "text/html": [
       "<iframe\n",
       "    scrolling=\"no\"\n",
       "    width=\"100%\"\n",
       "    height=\"545px\"\n",
       "    src=\"iframe_figures/figure_3.html\"\n",
       "    frameborder=\"0\"\n",
       "    allowfullscreen\n",
       "></iframe>\n"
      ]
     },
     "metadata": {},
     "output_type": "display_data"
    }
   ],
   "source": [
    "from plotly import express\n",
    "from plotly import io\n",
    "\n",
    "io.renderers.default = 'iframe'\n",
    "express.scatter(data_frame=df, x='Date', y='adj_close', color='year', log_y=False)"
   ]
  },
  {
   "cell_type": "markdown",
   "id": "1ab7ef29",
   "metadata": {
    "papermill": {
     "duration": 0.003493,
     "end_time": "2025-03-04T22:29:53.897490",
     "exception": false,
     "start_time": "2025-03-04T22:29:53.893997",
     "status": "completed"
    },
    "tags": []
   },
   "source": [
    "Because the stock has appreciated so much some years look like they have no price variability at all, which doesn't make much sense. Let's use a log plot in the price direction."
   ]
  },
  {
   "cell_type": "code",
   "execution_count": 4,
   "id": "7869c3b6",
   "metadata": {
    "execution": {
     "iopub.execute_input": "2025-03-04T22:29:53.906011Z",
     "iopub.status.busy": "2025-03-04T22:29:53.905649Z",
     "iopub.status.idle": "2025-03-04T22:29:54.150464Z",
     "shell.execute_reply": "2025-03-04T22:29:54.149320Z"
    },
    "papermill": {
     "duration": 0.251402,
     "end_time": "2025-03-04T22:29:54.152572",
     "exception": false,
     "start_time": "2025-03-04T22:29:53.901170",
     "status": "completed"
    },
    "tags": []
   },
   "outputs": [
    {
     "data": {
      "text/html": [
       "<iframe\n",
       "    scrolling=\"no\"\n",
       "    width=\"100%\"\n",
       "    height=\"545px\"\n",
       "    src=\"iframe_figures/figure_4.html\"\n",
       "    frameborder=\"0\"\n",
       "    allowfullscreen\n",
       "></iframe>\n"
      ]
     },
     "metadata": {},
     "output_type": "display_data"
    }
   ],
   "source": [
    "express.scatter(data_frame=df, x='Date', y='adj_close', color='year', log_y=True)"
   ]
  },
  {
   "cell_type": "markdown",
   "id": "6e0837bc",
   "metadata": {
    "papermill": {
     "duration": 0.003631,
     "end_time": "2025-03-04T22:29:54.160239",
     "exception": false,
     "start_time": "2025-03-04T22:29:54.156608",
     "status": "completed"
    },
    "tags": []
   },
   "source": [
    "What do we see? We see that the stock price has appreciated pretty steadily, reflecting exponential price growth, but with occasional (substantial) reversals."
   ]
  },
  {
   "cell_type": "markdown",
   "id": "749f9e94",
   "metadata": {
    "papermill": {
     "duration": 0.003947,
     "end_time": "2025-03-04T22:29:54.168357",
     "exception": false,
     "start_time": "2025-03-04T22:29:54.164410",
     "status": "completed"
    },
    "tags": []
   },
   "source": [
    "Next let's look at volume over time."
   ]
  },
  {
   "cell_type": "code",
   "execution_count": 5,
   "id": "cd5e1ccf",
   "metadata": {
    "execution": {
     "iopub.execute_input": "2025-03-04T22:29:54.178141Z",
     "iopub.status.busy": "2025-03-04T22:29:54.177717Z",
     "iopub.status.idle": "2025-03-04T22:29:54.419876Z",
     "shell.execute_reply": "2025-03-04T22:29:54.418693Z"
    },
    "papermill": {
     "duration": 0.249303,
     "end_time": "2025-03-04T22:29:54.421817",
     "exception": false,
     "start_time": "2025-03-04T22:29:54.172514",
     "status": "completed"
    },
    "tags": []
   },
   "outputs": [
    {
     "data": {
      "text/html": [
       "<iframe\n",
       "    scrolling=\"no\"\n",
       "    width=\"100%\"\n",
       "    height=\"545px\"\n",
       "    src=\"iframe_figures/figure_5.html\"\n",
       "    frameborder=\"0\"\n",
       "    allowfullscreen\n",
       "></iframe>\n"
      ]
     },
     "metadata": {},
     "output_type": "display_data"
    }
   ],
   "source": [
    "express.scatter(data_frame=df, x='Date', y='volume', color='year', log_y=True)"
   ]
  },
  {
   "cell_type": "markdown",
   "id": "4baa75e2",
   "metadata": {
    "papermill": {
     "duration": 0.003563,
     "end_time": "2025-03-04T22:29:54.429764",
     "exception": false,
     "start_time": "2025-03-04T22:29:54.426201",
     "status": "completed"
    },
    "tags": []
   },
   "source": [
    "What do we see? We see steady growth in the log of the volume through some time around 2008, followed by a decline in volume. Let's try plotting price and volume together."
   ]
  },
  {
   "cell_type": "code",
   "execution_count": 6,
   "id": "3f8c1454",
   "metadata": {
    "execution": {
     "iopub.execute_input": "2025-03-04T22:29:54.441281Z",
     "iopub.status.busy": "2025-03-04T22:29:54.440881Z",
     "iopub.status.idle": "2025-03-04T22:29:54.561328Z",
     "shell.execute_reply": "2025-03-04T22:29:54.559851Z"
    },
    "papermill": {
     "duration": 0.128895,
     "end_time": "2025-03-04T22:29:54.563615",
     "exception": false,
     "start_time": "2025-03-04T22:29:54.434720",
     "status": "completed"
    },
    "tags": []
   },
   "outputs": [
    {
     "data": {
      "text/html": [
       "<iframe\n",
       "    scrolling=\"no\"\n",
       "    width=\"100%\"\n",
       "    height=\"545px\"\n",
       "    src=\"iframe_figures/figure_6.html\"\n",
       "    frameborder=\"0\"\n",
       "    allowfullscreen\n",
       "></iframe>\n"
      ]
     },
     "metadata": {},
     "output_type": "display_data"
    }
   ],
   "source": [
    "express.scatter(data_frame=df, x='adj_close', y='volume', color='year', log_x=True, log_y=True)"
   ]
  },
  {
   "cell_type": "markdown",
   "id": "10c0f8ab",
   "metadata": {
    "papermill": {
     "duration": 0.003796,
     "end_time": "2025-03-04T22:29:54.571568",
     "exception": false,
     "start_time": "2025-03-04T22:29:54.567772",
     "status": "completed"
    },
    "tags": []
   },
   "source": [
    "What do we see? We see that the log of the price and the log of the volume are only slightly correlated, but by using color to represent the passage of time we do see that some years we can see the log of the price and the log of the volume growing together year over year."
   ]
  }
 ],
 "metadata": {
  "kaggle": {
   "accelerator": "none",
   "dataSources": [
    {
     "datasetId": 6786720,
     "sourceId": 10916970,
     "sourceType": "datasetVersion"
    }
   ],
   "dockerImageVersionId": 30918,
   "isGpuEnabled": false,
   "isInternetEnabled": true,
   "language": "python",
   "sourceType": "notebook"
  },
  "kernelspec": {
   "display_name": "Python 3",
   "language": "python",
   "name": "python3"
  },
  "language_info": {
   "codemirror_mode": {
    "name": "ipython",
    "version": 3
   },
   "file_extension": ".py",
   "mimetype": "text/x-python",
   "name": "python",
   "nbconvert_exporter": "python",
   "pygments_lexer": "ipython3",
   "version": "3.10.12"
  },
  "papermill": {
   "default_parameters": {},
   "duration": 9.766114,
   "end_time": "2025-03-04T22:29:55.297071",
   "environment_variables": {},
   "exception": null,
   "input_path": "__notebook__.ipynb",
   "output_path": "__notebook__.ipynb",
   "parameters": {},
   "start_time": "2025-03-04T22:29:45.530957",
   "version": "2.6.0"
  }
 },
 "nbformat": 4,
 "nbformat_minor": 5
}
