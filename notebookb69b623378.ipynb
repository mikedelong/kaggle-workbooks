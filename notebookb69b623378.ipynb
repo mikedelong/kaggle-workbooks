{
 "cells": [
  {
   "cell_type": "code",
   "execution_count": 1,
   "id": "f0e87060",
   "metadata": {
    "_cell_guid": "b1076dfc-b9ad-4769-8c92-a6c4dae69d19",
    "_uuid": "8f2839f25d086af736a60e9eeb907d3b93b6e0e5",
    "execution": {
     "iopub.execute_input": "2024-07-28T15:21:45.870427Z",
     "iopub.status.busy": "2024-07-28T15:21:45.869980Z",
     "iopub.status.idle": "2024-07-28T15:21:46.084077Z",
     "shell.execute_reply": "2024-07-28T15:21:46.082859Z"
    },
    "papermill": {
     "duration": 0.225617,
     "end_time": "2024-07-28T15:21:46.087152",
     "exception": false,
     "start_time": "2024-07-28T15:21:45.861535",
     "status": "completed"
    },
    "tags": []
   },
   "outputs": [
    {
     "name": "stdout",
     "output_type": "stream",
     "text": [
      "Counter({'.jpg': 465, '.png': 69, '.JPG': 10, '.jpeg': 7, '.fcgi': 2, '.php': 1, '.webp': 1, '.gif': 1})\n"
     ]
    }
   ],
   "source": [
    "# what kind of files do we have?\n",
    "from glob import glob\n",
    "from pathlib import Path\n",
    "from collections import Counter\n",
    "\n",
    "GLOB = '/kaggle/input/chessman-image-dataset/Chessman-image-dataset/Chess/*/*'\n",
    "suffixes = Counter([Path(input_file).suffix for input_file in glob(pathname=GLOB)])\n",
    "\n",
    "print(suffixes)"
   ]
  },
  {
   "cell_type": "markdown",
   "id": "7b82dc4d",
   "metadata": {
    "papermill": {
     "duration": 0.004758,
     "end_time": "2024-07-28T15:21:46.097630",
     "exception": false,
     "start_time": "2024-07-28T15:21:46.092872",
     "status": "completed"
    },
    "tags": []
   },
   "source": [
    "We have some files that are not images and we need to be sure to ignore them."
   ]
  },
  {
   "cell_type": "markdown",
   "id": "dba56ae1",
   "metadata": {
    "papermill": {
     "duration": 0.004756,
     "end_time": "2024-07-28T15:21:46.107583",
     "exception": false,
     "start_time": "2024-07-28T15:21:46.102827",
     "status": "completed"
    },
    "tags": []
   },
   "source": [
    "Let's build a DataFrame of tags and file names."
   ]
  },
  {
   "cell_type": "code",
   "execution_count": 2,
   "id": "a0f8d0ea",
   "metadata": {
    "execution": {
     "iopub.execute_input": "2024-07-28T15:21:46.119099Z",
     "iopub.status.busy": "2024-07-28T15:21:46.118003Z",
     "iopub.status.idle": "2024-07-28T15:21:47.279869Z",
     "shell.execute_reply": "2024-07-28T15:21:47.278378Z"
    },
    "papermill": {
     "duration": 1.170719,
     "end_time": "2024-07-28T15:21:47.282964",
     "exception": false,
     "start_time": "2024-07-28T15:21:46.112245",
     "status": "completed"
    },
    "tags": []
   },
   "outputs": [],
   "source": [
    "import pandas as pd\n",
    "from pathlib import Path\n",
    "\n",
    "SUFFIXES = {'.jpg', '.png', '.JPG', '.jpeg', '.gif'}\n",
    "data = []\n",
    "for input_file in glob(pathname=GLOB):\n",
    "    path = Path(input_file)\n",
    "    if path.suffix in SUFFIXES:\n",
    "        data.append(pd.Series(data={'tag': str(path.parents[0]).split('/')[-1], 'name': input_file}))\n",
    "df = pd.DataFrame(data=data)"
   ]
  },
  {
   "cell_type": "code",
   "execution_count": 3,
   "id": "4f7cb2b2",
   "metadata": {
    "execution": {
     "iopub.execute_input": "2024-07-28T15:21:47.293091Z",
     "iopub.status.busy": "2024-07-28T15:21:47.292453Z",
     "iopub.status.idle": "2024-07-28T15:21:47.310901Z",
     "shell.execute_reply": "2024-07-28T15:21:47.309619Z"
    },
    "papermill": {
     "duration": 0.026442,
     "end_time": "2024-07-28T15:21:47.313308",
     "exception": false,
     "start_time": "2024-07-28T15:21:47.286866",
     "status": "completed"
    },
    "tags": []
   },
   "outputs": [
    {
     "data": {
      "text/plain": [
       "tag\n",
       "Pawn      106\n",
       "Knight    105\n",
       "Rook      102\n",
       "Bishop     87\n",
       "Queen      77\n",
       "King       75\n",
       "Name: count, dtype: int64"
      ]
     },
     "execution_count": 3,
     "metadata": {},
     "output_type": "execute_result"
    }
   ],
   "source": [
    "df['tag'].value_counts()"
   ]
  },
  {
   "cell_type": "code",
   "execution_count": 4,
   "id": "dd7b63e6",
   "metadata": {
    "execution": {
     "iopub.execute_input": "2024-07-28T15:21:47.323855Z",
     "iopub.status.busy": "2024-07-28T15:21:47.323380Z",
     "iopub.status.idle": "2024-07-28T15:22:43.263985Z",
     "shell.execute_reply": "2024-07-28T15:22:43.262702Z"
    },
    "papermill": {
     "duration": 55.949517,
     "end_time": "2024-07-28T15:22:43.267169",
     "exception": false,
     "start_time": "2024-07-28T15:21:47.317652",
     "status": "completed"
    },
    "tags": []
   },
   "outputs": [
    {
     "name": "stderr",
     "output_type": "stream",
     "text": [
      "Downloading: \"https://download.pytorch.org/models/resnet18-f37072fd.pth\" to /root/.cache/torch/hub/checkpoints/resnet18-f37072fd.pth\n",
      "100%|██████████| 44.7M/44.7M [00:00<00:00, 124MB/s]\n"
     ]
    }
   ],
   "source": [
    "import torch\n",
    "import torchvision.models as models\n",
    "import torchvision.transforms as transforms\n",
    "from PIL import Image\n",
    "\n",
    "device = torch.device('cpu')\n",
    "model = models.resnet18(weights=models.ResNet18_Weights.IMAGENET1K_V1).to(device=device)\n",
    "model.eval()\n",
    "\n",
    "layer = model._modules.get('avgpool')\n",
    "\n",
    "layer_output_size = 512\n",
    "\n",
    "scaler = transforms.Resize((224, 224))\n",
    "normalize = transforms.Normalize(mean=[0.485, 0.456, 0.406], std=[0.229, 0.224, 0.225])\n",
    "to_tensor = transforms.ToTensor()\n",
    "\n",
    "df['data'] = df['name'].apply(func=lambda x: Image.open(fp=x, mode='r').convert('RGB'))\n",
    "model_input = [normalize(to_tensor(scaler(item))) for item in df['data'].tolist()]\n",
    "images = torch.stack(model_input).to(device)\n",
    "df['value'] = [item.detach().numpy() for item in model(images)]\n",
    "df = df.drop(columns=['data'])\n"
   ]
  },
  {
   "cell_type": "code",
   "execution_count": 5,
   "id": "a071ee21",
   "metadata": {
    "execution": {
     "iopub.execute_input": "2024-07-28T15:22:43.279982Z",
     "iopub.status.busy": "2024-07-28T15:22:43.278553Z",
     "iopub.status.idle": "2024-07-28T15:23:32.262412Z",
     "shell.execute_reply": "2024-07-28T15:23:32.261029Z"
    },
    "papermill": {
     "duration": 48.993357,
     "end_time": "2024-07-28T15:23:32.265517",
     "exception": false,
     "start_time": "2024-07-28T15:22:43.272160",
     "status": "completed"
    },
    "tags": []
   },
   "outputs": [
    {
     "name": "stderr",
     "output_type": "stream",
     "text": [
      "2024-07-28 15:23:08.885287: E external/local_xla/xla/stream_executor/cuda/cuda_dnn.cc:9261] Unable to register cuDNN factory: Attempting to register factory for plugin cuDNN when one has already been registered\n",
      "2024-07-28 15:23:08.885431: E external/local_xla/xla/stream_executor/cuda/cuda_fft.cc:607] Unable to register cuFFT factory: Attempting to register factory for plugin cuFFT when one has already been registered\n",
      "2024-07-28 15:23:09.042470: E external/local_xla/xla/stream_executor/cuda/cuda_blas.cc:1515] Unable to register cuBLAS factory: Attempting to register factory for plugin cuBLAS when one has already been registered\n"
     ]
    },
    {
     "name": "stdout",
     "output_type": "stream",
     "text": [
      "UMAP(low_memory=False, n_epochs=500, n_jobs=1, random_state=2024, verbose=True)\n",
      "Sun Jul 28 15:23:20 2024 Construct fuzzy simplicial set\n",
      "Sun Jul 28 15:23:21 2024 Finding Nearest Neighbors\n",
      "Sun Jul 28 15:23:25 2024 Finished Nearest Neighbor Search\n",
      "Sun Jul 28 15:23:29 2024 Construct embedding\n"
     ]
    },
    {
     "data": {
      "application/vnd.jupyter.widget-view+json": {
       "model_id": "3ef78375b5034ae6a1474d9f6a396ba7",
       "version_major": 2,
       "version_minor": 0
      },
      "text/plain": [
       "Epochs completed:   0%|            0/500 [00:00]"
      ]
     },
     "metadata": {},
     "output_type": "display_data"
    },
    {
     "name": "stdout",
     "output_type": "stream",
     "text": [
      "\tcompleted  0  /  500 epochs\n",
      "\tcompleted  50  /  500 epochs\n",
      "\tcompleted  100  /  500 epochs\n",
      "\tcompleted  150  /  500 epochs\n",
      "\tcompleted  200  /  500 epochs\n",
      "\tcompleted  250  /  500 epochs\n",
      "\tcompleted  300  /  500 epochs\n",
      "\tcompleted  350  /  500 epochs\n",
      "\tcompleted  400  /  500 epochs\n",
      "\tcompleted  450  /  500 epochs\n",
      "Sun Jul 28 15:23:32 2024 Finished embedding\n",
      "done with UMAP in 0:00:11.512216\n"
     ]
    }
   ],
   "source": [
    "import arrow\n",
    "from umap import UMAP\n",
    "\n",
    "time_start = arrow.now()\n",
    "umap = UMAP(random_state=2024, verbose=True, n_jobs=1, low_memory=False, n_epochs=500)\n",
    "df[['x', 'y']] = umap.fit_transform(X=df['value'].apply(pd.Series))\n",
    "print('done with UMAP in {}'.format(arrow.now() - time_start))"
   ]
  },
  {
   "cell_type": "code",
   "execution_count": 6,
   "id": "8c59d8c4",
   "metadata": {
    "execution": {
     "iopub.execute_input": "2024-07-28T15:23:32.279916Z",
     "iopub.status.busy": "2024-07-28T15:23:32.278991Z",
     "iopub.status.idle": "2024-07-28T15:23:35.202073Z",
     "shell.execute_reply": "2024-07-28T15:23:35.200577Z"
    },
    "papermill": {
     "duration": 2.933648,
     "end_time": "2024-07-28T15:23:35.205123",
     "exception": false,
     "start_time": "2024-07-28T15:23:32.271475",
     "status": "completed"
    },
    "tags": []
   },
   "outputs": [
    {
     "data": {
      "text/html": [
       "        <script type=\"text/javascript\">\n",
       "        window.PlotlyConfig = {MathJaxConfig: 'local'};\n",
       "        if (window.MathJax && window.MathJax.Hub && window.MathJax.Hub.Config) {window.MathJax.Hub.Config({SVG: {font: \"STIX-Web\"}});}\n",
       "        if (typeof require !== 'undefined') {\n",
       "        require.undef(\"plotly\");\n",
       "        requirejs.config({\n",
       "            paths: {\n",
       "                'plotly': ['https://cdn.plot.ly/plotly-2.27.0.min']\n",
       "            }\n",
       "        });\n",
       "        require(['plotly'], function(Plotly) {\n",
       "            window._Plotly = Plotly;\n",
       "        });\n",
       "        }\n",
       "        </script>\n",
       "        "
      ]
     },
     "metadata": {},
     "output_type": "display_data"
    },
    {
     "data": {
      "text/html": [
       "<div>                            <div id=\"74960149-3306-4c69-91c3-a2f8f0b533f6\" class=\"plotly-graph-div\" style=\"height:525px; width:100%;\"></div>            <script type=\"text/javascript\">                require([\"plotly\"], function(Plotly) {                    window.PLOTLYENV=window.PLOTLYENV || {};                                    if (document.getElementById(\"74960149-3306-4c69-91c3-a2f8f0b533f6\")) {                    Plotly.newPlot(                        \"74960149-3306-4c69-91c3-a2f8f0b533f6\",                        [{\"hovertemplate\":\"tag=King\\u003cbr\\u003ex=%{x}\\u003cbr\\u003ey=%{y}\\u003cextra\\u003e\\u003c\\u002fextra\\u003e\",\"legendgroup\":\"King\",\"marker\":{\"color\":\"#636efa\",\"symbol\":\"circle\"},\"mode\":\"markers\",\"name\":\"King\",\"orientation\":\"v\",\"showlegend\":true,\"x\":[12.253328,13.677338,14.567451,12.481959,13.342675,14.835042,11.638193,14.933588,14.58803,13.282011,14.078915,11.067158,13.229446,14.690816,10.41871,14.933145,12.898984,11.295037,12.961214,12.559943,14.858201,11.628826,13.239201,12.255421,11.3434515,12.254575,12.528604,12.13027,11.067486,14.656924,13.035331,14.100639,13.89933,13.763481,12.720876,12.377007,13.214112,13.484791,12.563148,11.738004,10.583954,14.180425,11.635727,12.062721,14.4423485,12.152264,13.996677,11.846061,14.203774,13.530736,12.054373,13.533297,14.344237,13.595283,11.673015,14.374886,13.185262,14.190531,12.880814,12.241342,13.430901,11.369432,14.0926,13.98664,12.498802,12.516179,14.950862,14.2823925,11.269133,14.774214,14.96174,13.788023,14.71844,12.5527115,11.610159],\"xaxis\":\"x\",\"y\":[2.8478565,3.4416592,4.649873,5.955606,2.7343729,6.0180535,7.2487245,6.078977,4.567512,4.823761,4.7482433,4.570346,4.605061,6.28661,3.9285064,6.312553,1.1191795,3.7130988,4.3598576,5.5323877,6.464891,6.7126303,4.704938,5.425844,4.3773823,4.2352853,4.1993394,5.4658265,4.8820353,3.671398,4.1708856,3.7394972,4.384902,3.6848996,2.5371797,2.2307503,4.544258,3.767667,6.095988,4.7503104,4.1945834,4.5820265,8.364752,5.5930977,5.0064383,0.87487924,3.5323193,4.5523887,5.475123,3.720446,0.68824434,1.8730651,4.5759797,4.5935555,5.0266275,3.528847,4.02038,4.401987,4.911077,8.688871,3.2236423,3.092536,5.477229,5.197695,5.3968883,6.1054473,5.6052794,4.5852184,3.829056,5.138783,4.324811,5.1818466,5.8341694,7.77997,8.344079],\"yaxis\":\"y\",\"type\":\"scatter\"},{\"hovertemplate\":\"tag=Queen\\u003cbr\\u003ex=%{x}\\u003cbr\\u003ey=%{y}\\u003cextra\\u003e\\u003c\\u002fextra\\u003e\",\"legendgroup\":\"Queen\",\"marker\":{\"color\":\"#EF553B\",\"symbol\":\"circle\"},\"mode\":\"markers\",\"name\":\"Queen\",\"orientation\":\"v\",\"showlegend\":true,\"x\":[11.213492,14.410365,12.169599,11.944167,11.2712145,13.3903,12.670479,13.963966,11.107031,13.383327,13.596555,10.965541,13.382414,14.111774,13.855164,12.055224,10.513643,12.777451,11.055563,12.614446,14.474716,12.127846,11.19452,12.957435,11.643117,12.026013,12.141959,12.282577,13.5838585,12.746059,14.502687,11.586446,11.302597,11.805258,11.734378,12.130467,12.382993,13.320016,10.415117,14.491073,12.875786,11.573874,14.510759,11.651067,11.581502,13.56085,10.482101,12.96892,12.99471,12.629293,12.147994,14.232706,12.091828,12.880663,11.447375,14.100176,11.756987,14.5932865,12.485588,12.630759,13.882749,11.592541,10.871091,14.475637,11.677954,10.939126,13.507672,12.5784445,13.794604,11.765503,14.490843,14.4890785,12.321701,12.556859,12.325237,13.342979,11.034874],\"xaxis\":\"x\",\"y\":[5.941466,4.6014366,2.3414912,3.4495478,3.3548086,3.455821,4.488267,5.312582,3.8610597,5.1050677,2.012291,3.3919742,2.8953726,5.301546,2.951259,5.5301504,4.240883,5.04312,4.411634,5.092589,6.2642817,2.4506707,5.8837333,2.8885198,4.172236,0.6335602,4.2035837,4.111031,4.090857,4.1561246,3.4712234,6.8180914,3.6516976,5.7111406,3.8723934,5.5176578,5.362018,3.6298838,4.6392136,6.270596,1.1762078,8.296864,4.7857013,3.8969433,6.8374286,3.2792718,2.713433,2.980053,1.2955465,6.138152,8.745555,4.257212,3.1946428,3.6014318,6.1556683,4.272732,8.531648,5.738597,5.772642,5.6712127,5.7180014,4.0954075,2.5706944,4.771745,6.7432003,4.087706,4.8914375,4.3897414,4.5242825,4.4554143,4.884624,5.001995,4.277973,6.046691,2.8297799,3.9764159,4.9224043],\"yaxis\":\"y\",\"type\":\"scatter\"},{\"hovertemplate\":\"tag=Knight\\u003cbr\\u003ex=%{x}\\u003cbr\\u003ey=%{y}\\u003cextra\\u003e\\u003c\\u002fextra\\u003e\",\"legendgroup\":\"Knight\",\"marker\":{\"color\":\"#00cc96\",\"symbol\":\"circle\"},\"mode\":\"markers\",\"name\":\"Knight\",\"orientation\":\"v\",\"showlegend\":true,\"x\":[10.633139,14.505557,13.292106,10.115888,13.47029,9.792209,10.409648,13.273005,13.453116,10.227653,12.719659,13.395782,11.634693,9.589462,10.439916,14.434655,12.453522,14.51016,10.626905,10.400252,12.811914,14.577952,13.158194,10.209883,12.971632,12.069006,14.452754,9.855646,9.759774,9.614406,10.285374,12.792485,11.515693,12.12941,9.802595,13.172801,13.222763,13.503042,13.540806,10.259869,13.758921,14.35872,10.023346,11.967024,9.969919,10.15959,13.391206,9.684615,12.5983515,12.132953,14.43067,10.334079,10.258499,14.0386,12.947193,13.41694,12.192397,11.746277,13.670073,12.096458,12.307413,12.186081,9.669004,9.628279,13.441661,13.482564,10.714699,11.680204,12.471356,13.246702,10.5936575,13.05851,13.354842,10.260281,9.610173,11.883441,13.145863,13.066694,12.51838,10.543941,12.793537,10.097649,13.198426,13.242898,10.419132,12.150104,10.625515,10.295355,11.204418,9.7980795,13.12373,12.896055,9.730628,14.360467,12.335875,10.261437,14.498939,9.578033,10.093616,11.624831,10.164377,9.967775,10.370897,10.458772,13.250192],\"xaxis\":\"x\",\"y\":[4.7024837,6.835856,7.7475033,4.2704854,7.602874,4.2177596,5.6419845,7.8816166,7.7008433,5.1998715,7.1937613,7.7325854,7.4189363,4.1307282,5.6694517,7.025385,7.686132,7.0743413,6.0403414,5.5106354,4.1952963,6.6394153,7.2152314,4.747141,1.2747893,0.9173981,6.9225473,4.1403804,4.205668,4.4642353,5.9041195,6.965775,8.391436,8.444525,4.5358877,6.864068,7.5758553,7.6805563,6.8987527,5.7108927,4.350426,6.842111,4.600346,8.33954,4.9844337,5.496834,7.703373,4.1984677,7.6248517,0.97480124,6.8439717,4.8853145,4.8626623,6.995016,1.1378238,7.7386837,3.022623,8.56668,1.7744519,8.432841,6.219597,1.0448273,4.8018284,4.7271175,7.6153584,7.698147,6.221719,8.464387,1.8569138,7.863836,5.6739416,7.1463594,7.7513585,4.149118,4.3217916,8.608483,7.997741,7.389673,2.318748,6.0664845,1.9486719,5.669067,7.0273366,7.1846185,5.704028,8.589068,5.1872463,4.481487,4.176586,4.5611715,2.6829205,2.4310653,4.141354,6.9466653,6.2791023,5.345517,6.756594,4.49419,5.768736,7.501137,5.31832,4.555367,3.8562124,5.747984,3.0050278],\"yaxis\":\"y\",\"type\":\"scatter\"},{\"hovertemplate\":\"tag=Rook\\u003cbr\\u003ex=%{x}\\u003cbr\\u003ey=%{y}\\u003cextra\\u003e\\u003c\\u002fextra\\u003e\",\"legendgroup\":\"Rook\",\"marker\":{\"color\":\"#ab63fa\",\"symbol\":\"circle\"},\"mode\":\"markers\",\"name\":\"Rook\",\"orientation\":\"v\",\"showlegend\":true,\"x\":[12.281549,11.323664,13.835367,14.632074,11.387548,11.767202,11.780207,12.242959,14.040369,12.981821,14.749385,11.187937,13.853972,14.504639,12.315814,13.187725,12.256745,11.753613,11.893642,13.929826,11.701271,13.678801,11.327657,11.382403,11.557583,13.782626,13.739517,13.0275955,12.644311,12.35783,12.372946,11.470997,11.116582,11.476643,14.179874,11.454897,13.523351,14.466572,13.532967,13.700684,14.744939,13.708911,13.939104,12.7708235,14.289632,12.504099,13.553504,13.009424,12.629313,11.380537,11.60516,13.874097,11.528022,13.832007,10.996024,12.278144,11.716046,12.263222,12.926391,12.321292,11.781944,14.367965,14.517772,11.546813,12.9387,11.647821,10.580018,12.828608,11.275204,11.853611,11.802722,12.321004,11.542399,11.116677,11.254906,13.642525,11.405168,14.1280365,12.379164,11.120707,11.579133,12.0774,10.892834,11.67153,15.021825,11.616599,14.0024805,13.972258,11.475933,13.6575775,12.161228,12.104398,13.574286,14.050678,11.30569,14.137927,14.998017,10.498584,11.296861,11.880609,11.649809,12.511024],\"xaxis\":\"x\",\"y\":[4.0305886,2.9358308,5.5189404,3.5917428,3.7117784,2.4090254,2.9829152,4.0532374,6.3098884,4.327728,3.8698487,2.927401,4.6302924,6.107647,8.614154,1.5812668,1.1183558,2.620015,5.9738927,3.2500257,3.5713031,4.817418,2.7807064,3.5005698,3.9905446,6.0134993,3.029097,3.972406,5.3559775,2.128468,8.766451,3.1003358,4.0317993,2.3990836,5.5477786,3.387828,5.898245,6.620124,5.076274,1.8946186,6.5783243,4.3976545,5.8395452,3.0375743,5.485841,8.8387575,5.320192,1.2725981,2.9505944,2.3732996,3.1989412,5.444807,3.6746383,4.580313,4.904466,6.8232584,5.3506775,8.590774,1.1214062,2.109596,2.593171,5.9303575,6.2887006,6.366582,4.2127175,4.102952,4.2878494,5.23399,3.4389367,5.9659824,3.1827695,8.736661,2.8723848,3.596288,2.6341488,2.9417965,3.6327298,4.8885517,2.1313512,4.369225,3.1932285,2.53263,2.6010516,3.8394022,4.1014404,7.3922734,4.769802,5.175044,3.2981195,4.944092,0.8219608,0.93910366,4.3678446,4.7461796,3.5974402,6.5012894,3.9634566,4.088878,2.4480665,6.1018662,2.265635,2.7133121],\"yaxis\":\"y\",\"type\":\"scatter\"},{\"hovertemplate\":\"tag=Bishop\\u003cbr\\u003ex=%{x}\\u003cbr\\u003ey=%{y}\\u003cextra\\u003e\\u003c\\u002fextra\\u003e\",\"legendgroup\":\"Bishop\",\"marker\":{\"color\":\"#FFA15A\",\"symbol\":\"circle\"},\"mode\":\"markers\",\"name\":\"Bishop\",\"orientation\":\"v\",\"showlegend\":true,\"x\":[12.151117,13.617158,11.9484,11.668628,10.969705,12.012513,11.58923,13.724832,11.484176,14.505404,9.924497,14.587381,13.029322,10.399299,10.903043,11.409204,11.214447,13.613718,13.43338,12.132588,12.835135,15.014594,10.789476,13.320671,11.173119,14.511644,11.67358,10.448951,12.660216,12.307006,14.741362,11.780754,11.790667,11.44966,12.430392,10.301929,11.857971,10.606525,12.696616,10.543817,13.497288,11.831107,12.040355,11.001684,12.807891,10.651894,11.701842,13.0002365,12.491969,13.741668,14.229924,14.720596,11.367373,12.273228,12.108615,12.002704,11.52836,12.2610445,13.642296,13.450223,13.604306,11.429371,10.916391,14.454299,14.959703,13.761283,12.368147,12.650945,14.432247,14.402065,11.261363,12.561175,11.539464,10.496007,10.961696,15.001783,14.806499,12.519934,11.859555,11.483714,11.067311,14.645769,11.171162,11.190865,13.825926,11.720963,11.778941],\"xaxis\":\"x\",\"y\":[5.880623,2.4225771,2.3800385,5.9045725,4.661402,0.6590067,3.2668364,4.497138,4.19083,5.410998,3.703533,5.259153,1.0669148,2.754819,5.9075317,5.6297274,4.671305,1.8762493,4.391667,2.416836,4.159449,4.5556636,3.2980976,3.0651543,5.1820464,6.604505,7.374418,4.239003,1.2864236,2.1434135,4.8712397,5.51509,2.6390736,8.106389,6.1702795,3.4352946,6.6979904,4.3010325,2.9701765,2.9338546,2.8886697,4.2726192,8.766691,4.9216695,3.2710505,4.5149617,8.05264,3.3538814,1.9820535,2.5460935,4.011648,5.924556,5.1481357,1.0135795,2.566923,0.61555374,5.144572,4.075646,5.6511025,3.41236,3.8547142,5.902192,4.7103424,5.207614,6.292791,2.719017,5.0511174,4.7991524,5.8149576,5.9083953,5.6693087,4.209746,4.5641084,2.7633243,3.7053123,4.1127048,5.966479,1.5151542,8.604491,8.259797,4.3072095,4.712712,5.6402197,3.9311967,3.0797718,4.7926946,5.730029],\"yaxis\":\"y\",\"type\":\"scatter\"},{\"hovertemplate\":\"tag=Pawn\\u003cbr\\u003ex=%{x}\\u003cbr\\u003ey=%{y}\\u003cextra\\u003e\\u003c\\u002fextra\\u003e\",\"legendgroup\":\"Pawn\",\"marker\":{\"color\":\"#19d3f3\",\"symbol\":\"circle\"},\"mode\":\"markers\",\"name\":\"Pawn\",\"orientation\":\"v\",\"showlegend\":true,\"x\":[13.99044,10.538469,13.1334,10.777726,14.119561,14.344955,11.65912,12.219835,11.641651,14.344377,10.694912,10.59859,12.757664,14.038443,13.258748,11.053153,11.328508,11.320275,12.523359,11.7382965,12.10779,11.73706,11.337999,13.385943,12.744375,11.872775,12.46136,14.704402,13.107173,13.817711,10.421259,12.126712,15.012758,10.673311,12.9767475,13.332742,10.467422,12.562719,11.7972145,15.103748,12.257353,13.705464,13.557169,14.06498,13.703752,12.664965,15.04869,12.185175,13.726231,11.816224,14.608289,11.310057,13.74722,11.175227,13.587526,10.976814,11.531641,12.373352,10.430596,13.177154,11.142299,11.392194,14.489377,11.510318,10.414086,10.807904,11.644499,12.861485,12.845111,13.376082,11.282198,10.590015,12.268075,12.922456,14.26418,12.213877,10.492197,14.314204,12.700043,14.583713,12.705181,14.425552,13.441059,10.682109,14.909253,13.751083,11.173376,12.401021,12.602901,15.053455,12.428959,11.790999,12.552268,10.578765,11.108461,12.421778,12.248625,10.477943,11.241544,12.17782,13.481679,15.088236,14.82723,12.152706,10.374018,14.277536],\"xaxis\":\"x\",\"y\":[6.0824523,3.4212835,3.4487224,2.5861788,4.0769362,5.2552752,7.521813,8.646298,6.9521832,4.6741877,2.7778492,3.708499,3.0171902,3.833497,3.2801657,4.188816,6.050623,5.835735,3.3596203,5.978269,5.5836716,5.189081,3.9041407,3.5383947,2.1577675,2.3480115,6.1835356,6.3329377,3.819175,4.899658,2.903924,4.9622235,6.420368,3.382904,3.1781495,4.013524,3.6124218,5.3122425,3.7568843,4.2426724,3.2180204,3.6854901,5.9636755,5.985621,1.8398056,4.9952855,3.964966,0.78659815,2.7834136,3.8371263,6.4231253,4.580373,1.9273998,3.8868074,2.9787335,4.447764,8.3088455,1.2180918,3.3478415,2.8624291,4.8163114,3.9796073,6.529967,4.5327497,3.847027,2.5841177,2.2702034,2.190738,3.5867996,2.9040966,4.6942105,3.650856,8.55147,3.230437,3.9951847,4.9434304,2.6852324,5.97505,3.42717,3.7582495,2.1983492,5.9504347,3.325992,3.1835546,6.4143047,5.1132193,2.9550622,1.2658099,5.3769283,3.9190774,7.919241,5.1333404,5.2793584,3.818428,4.180657,3.9122856,8.531954,3.8384888,4.4740553,4.8509283,1.6354144,6.152277,4.808277,8.752123,3.5895898,6.282544],\"yaxis\":\"y\",\"type\":\"scatter\"}],                        {\"template\":{\"data\":{\"histogram2dcontour\":[{\"type\":\"histogram2dcontour\",\"colorbar\":{\"outlinewidth\":0,\"ticks\":\"\"},\"colorscale\":[[0.0,\"#0d0887\"],[0.1111111111111111,\"#46039f\"],[0.2222222222222222,\"#7201a8\"],[0.3333333333333333,\"#9c179e\"],[0.4444444444444444,\"#bd3786\"],[0.5555555555555556,\"#d8576b\"],[0.6666666666666666,\"#ed7953\"],[0.7777777777777778,\"#fb9f3a\"],[0.8888888888888888,\"#fdca26\"],[1.0,\"#f0f921\"]]}],\"choropleth\":[{\"type\":\"choropleth\",\"colorbar\":{\"outlinewidth\":0,\"ticks\":\"\"}}],\"histogram2d\":[{\"type\":\"histogram2d\",\"colorbar\":{\"outlinewidth\":0,\"ticks\":\"\"},\"colorscale\":[[0.0,\"#0d0887\"],[0.1111111111111111,\"#46039f\"],[0.2222222222222222,\"#7201a8\"],[0.3333333333333333,\"#9c179e\"],[0.4444444444444444,\"#bd3786\"],[0.5555555555555556,\"#d8576b\"],[0.6666666666666666,\"#ed7953\"],[0.7777777777777778,\"#fb9f3a\"],[0.8888888888888888,\"#fdca26\"],[1.0,\"#f0f921\"]]}],\"heatmap\":[{\"type\":\"heatmap\",\"colorbar\":{\"outlinewidth\":0,\"ticks\":\"\"},\"colorscale\":[[0.0,\"#0d0887\"],[0.1111111111111111,\"#46039f\"],[0.2222222222222222,\"#7201a8\"],[0.3333333333333333,\"#9c179e\"],[0.4444444444444444,\"#bd3786\"],[0.5555555555555556,\"#d8576b\"],[0.6666666666666666,\"#ed7953\"],[0.7777777777777778,\"#fb9f3a\"],[0.8888888888888888,\"#fdca26\"],[1.0,\"#f0f921\"]]}],\"heatmapgl\":[{\"type\":\"heatmapgl\",\"colorbar\":{\"outlinewidth\":0,\"ticks\":\"\"},\"colorscale\":[[0.0,\"#0d0887\"],[0.1111111111111111,\"#46039f\"],[0.2222222222222222,\"#7201a8\"],[0.3333333333333333,\"#9c179e\"],[0.4444444444444444,\"#bd3786\"],[0.5555555555555556,\"#d8576b\"],[0.6666666666666666,\"#ed7953\"],[0.7777777777777778,\"#fb9f3a\"],[0.8888888888888888,\"#fdca26\"],[1.0,\"#f0f921\"]]}],\"contourcarpet\":[{\"type\":\"contourcarpet\",\"colorbar\":{\"outlinewidth\":0,\"ticks\":\"\"}}],\"contour\":[{\"type\":\"contour\",\"colorbar\":{\"outlinewidth\":0,\"ticks\":\"\"},\"colorscale\":[[0.0,\"#0d0887\"],[0.1111111111111111,\"#46039f\"],[0.2222222222222222,\"#7201a8\"],[0.3333333333333333,\"#9c179e\"],[0.4444444444444444,\"#bd3786\"],[0.5555555555555556,\"#d8576b\"],[0.6666666666666666,\"#ed7953\"],[0.7777777777777778,\"#fb9f3a\"],[0.8888888888888888,\"#fdca26\"],[1.0,\"#f0f921\"]]}],\"surface\":[{\"type\":\"surface\",\"colorbar\":{\"outlinewidth\":0,\"ticks\":\"\"},\"colorscale\":[[0.0,\"#0d0887\"],[0.1111111111111111,\"#46039f\"],[0.2222222222222222,\"#7201a8\"],[0.3333333333333333,\"#9c179e\"],[0.4444444444444444,\"#bd3786\"],[0.5555555555555556,\"#d8576b\"],[0.6666666666666666,\"#ed7953\"],[0.7777777777777778,\"#fb9f3a\"],[0.8888888888888888,\"#fdca26\"],[1.0,\"#f0f921\"]]}],\"mesh3d\":[{\"type\":\"mesh3d\",\"colorbar\":{\"outlinewidth\":0,\"ticks\":\"\"}}],\"scatter\":[{\"fillpattern\":{\"fillmode\":\"overlay\",\"size\":10,\"solidity\":0.2},\"type\":\"scatter\"}],\"parcoords\":[{\"type\":\"parcoords\",\"line\":{\"colorbar\":{\"outlinewidth\":0,\"ticks\":\"\"}}}],\"scatterpolargl\":[{\"type\":\"scatterpolargl\",\"marker\":{\"colorbar\":{\"outlinewidth\":0,\"ticks\":\"\"}}}],\"bar\":[{\"error_x\":{\"color\":\"#2a3f5f\"},\"error_y\":{\"color\":\"#2a3f5f\"},\"marker\":{\"line\":{\"color\":\"#E5ECF6\",\"width\":0.5},\"pattern\":{\"fillmode\":\"overlay\",\"size\":10,\"solidity\":0.2}},\"type\":\"bar\"}],\"scattergeo\":[{\"type\":\"scattergeo\",\"marker\":{\"colorbar\":{\"outlinewidth\":0,\"ticks\":\"\"}}}],\"scatterpolar\":[{\"type\":\"scatterpolar\",\"marker\":{\"colorbar\":{\"outlinewidth\":0,\"ticks\":\"\"}}}],\"histogram\":[{\"marker\":{\"pattern\":{\"fillmode\":\"overlay\",\"size\":10,\"solidity\":0.2}},\"type\":\"histogram\"}],\"scattergl\":[{\"type\":\"scattergl\",\"marker\":{\"colorbar\":{\"outlinewidth\":0,\"ticks\":\"\"}}}],\"scatter3d\":[{\"type\":\"scatter3d\",\"line\":{\"colorbar\":{\"outlinewidth\":0,\"ticks\":\"\"}},\"marker\":{\"colorbar\":{\"outlinewidth\":0,\"ticks\":\"\"}}}],\"scattermapbox\":[{\"type\":\"scattermapbox\",\"marker\":{\"colorbar\":{\"outlinewidth\":0,\"ticks\":\"\"}}}],\"scatterternary\":[{\"type\":\"scatterternary\",\"marker\":{\"colorbar\":{\"outlinewidth\":0,\"ticks\":\"\"}}}],\"scattercarpet\":[{\"type\":\"scattercarpet\",\"marker\":{\"colorbar\":{\"outlinewidth\":0,\"ticks\":\"\"}}}],\"carpet\":[{\"aaxis\":{\"endlinecolor\":\"#2a3f5f\",\"gridcolor\":\"white\",\"linecolor\":\"white\",\"minorgridcolor\":\"white\",\"startlinecolor\":\"#2a3f5f\"},\"baxis\":{\"endlinecolor\":\"#2a3f5f\",\"gridcolor\":\"white\",\"linecolor\":\"white\",\"minorgridcolor\":\"white\",\"startlinecolor\":\"#2a3f5f\"},\"type\":\"carpet\"}],\"table\":[{\"cells\":{\"fill\":{\"color\":\"#EBF0F8\"},\"line\":{\"color\":\"white\"}},\"header\":{\"fill\":{\"color\":\"#C8D4E3\"},\"line\":{\"color\":\"white\"}},\"type\":\"table\"}],\"barpolar\":[{\"marker\":{\"line\":{\"color\":\"#E5ECF6\",\"width\":0.5},\"pattern\":{\"fillmode\":\"overlay\",\"size\":10,\"solidity\":0.2}},\"type\":\"barpolar\"}],\"pie\":[{\"automargin\":true,\"type\":\"pie\"}]},\"layout\":{\"autotypenumbers\":\"strict\",\"colorway\":[\"#636efa\",\"#EF553B\",\"#00cc96\",\"#ab63fa\",\"#FFA15A\",\"#19d3f3\",\"#FF6692\",\"#B6E880\",\"#FF97FF\",\"#FECB52\"],\"font\":{\"color\":\"#2a3f5f\"},\"hovermode\":\"closest\",\"hoverlabel\":{\"align\":\"left\"},\"paper_bgcolor\":\"white\",\"plot_bgcolor\":\"#E5ECF6\",\"polar\":{\"bgcolor\":\"#E5ECF6\",\"angularaxis\":{\"gridcolor\":\"white\",\"linecolor\":\"white\",\"ticks\":\"\"},\"radialaxis\":{\"gridcolor\":\"white\",\"linecolor\":\"white\",\"ticks\":\"\"}},\"ternary\":{\"bgcolor\":\"#E5ECF6\",\"aaxis\":{\"gridcolor\":\"white\",\"linecolor\":\"white\",\"ticks\":\"\"},\"baxis\":{\"gridcolor\":\"white\",\"linecolor\":\"white\",\"ticks\":\"\"},\"caxis\":{\"gridcolor\":\"white\",\"linecolor\":\"white\",\"ticks\":\"\"}},\"coloraxis\":{\"colorbar\":{\"outlinewidth\":0,\"ticks\":\"\"}},\"colorscale\":{\"sequential\":[[0.0,\"#0d0887\"],[0.1111111111111111,\"#46039f\"],[0.2222222222222222,\"#7201a8\"],[0.3333333333333333,\"#9c179e\"],[0.4444444444444444,\"#bd3786\"],[0.5555555555555556,\"#d8576b\"],[0.6666666666666666,\"#ed7953\"],[0.7777777777777778,\"#fb9f3a\"],[0.8888888888888888,\"#fdca26\"],[1.0,\"#f0f921\"]],\"sequentialminus\":[[0.0,\"#0d0887\"],[0.1111111111111111,\"#46039f\"],[0.2222222222222222,\"#7201a8\"],[0.3333333333333333,\"#9c179e\"],[0.4444444444444444,\"#bd3786\"],[0.5555555555555556,\"#d8576b\"],[0.6666666666666666,\"#ed7953\"],[0.7777777777777778,\"#fb9f3a\"],[0.8888888888888888,\"#fdca26\"],[1.0,\"#f0f921\"]],\"diverging\":[[0,\"#8e0152\"],[0.1,\"#c51b7d\"],[0.2,\"#de77ae\"],[0.3,\"#f1b6da\"],[0.4,\"#fde0ef\"],[0.5,\"#f7f7f7\"],[0.6,\"#e6f5d0\"],[0.7,\"#b8e186\"],[0.8,\"#7fbc41\"],[0.9,\"#4d9221\"],[1,\"#276419\"]]},\"xaxis\":{\"gridcolor\":\"white\",\"linecolor\":\"white\",\"ticks\":\"\",\"title\":{\"standoff\":15},\"zerolinecolor\":\"white\",\"automargin\":true,\"zerolinewidth\":2},\"yaxis\":{\"gridcolor\":\"white\",\"linecolor\":\"white\",\"ticks\":\"\",\"title\":{\"standoff\":15},\"zerolinecolor\":\"white\",\"automargin\":true,\"zerolinewidth\":2},\"scene\":{\"xaxis\":{\"backgroundcolor\":\"#E5ECF6\",\"gridcolor\":\"white\",\"linecolor\":\"white\",\"showbackground\":true,\"ticks\":\"\",\"zerolinecolor\":\"white\",\"gridwidth\":2},\"yaxis\":{\"backgroundcolor\":\"#E5ECF6\",\"gridcolor\":\"white\",\"linecolor\":\"white\",\"showbackground\":true,\"ticks\":\"\",\"zerolinecolor\":\"white\",\"gridwidth\":2},\"zaxis\":{\"backgroundcolor\":\"#E5ECF6\",\"gridcolor\":\"white\",\"linecolor\":\"white\",\"showbackground\":true,\"ticks\":\"\",\"zerolinecolor\":\"white\",\"gridwidth\":2}},\"shapedefaults\":{\"line\":{\"color\":\"#2a3f5f\"}},\"annotationdefaults\":{\"arrowcolor\":\"#2a3f5f\",\"arrowhead\":0,\"arrowwidth\":1},\"geo\":{\"bgcolor\":\"white\",\"landcolor\":\"#E5ECF6\",\"subunitcolor\":\"white\",\"showland\":true,\"showlakes\":true,\"lakecolor\":\"white\"},\"title\":{\"x\":0.05},\"mapbox\":{\"style\":\"light\"}}},\"xaxis\":{\"anchor\":\"y\",\"domain\":[0.0,1.0],\"title\":{\"text\":\"x\"}},\"yaxis\":{\"anchor\":\"x\",\"domain\":[0.0,1.0],\"title\":{\"text\":\"y\"}},\"legend\":{\"title\":{\"text\":\"tag\"},\"tracegroupgap\":0},\"margin\":{\"t\":60}},                        {\"responsive\": true}                    ).then(function(){\n",
       "                            \n",
       "var gd = document.getElementById('74960149-3306-4c69-91c3-a2f8f0b533f6');\n",
       "var x = new MutationObserver(function (mutations, observer) {{\n",
       "        var display = window.getComputedStyle(gd).display;\n",
       "        if (!display || display === 'none') {{\n",
       "            console.log([gd, 'removed!']);\n",
       "            Plotly.purge(gd);\n",
       "            observer.disconnect();\n",
       "        }}\n",
       "}});\n",
       "\n",
       "// Listen for the removal of the full notebook cells\n",
       "var notebookContainer = gd.closest('#notebook-container');\n",
       "if (notebookContainer) {{\n",
       "    x.observe(notebookContainer, {childList: true});\n",
       "}}\n",
       "\n",
       "// Listen for the clearing of the current output cell\n",
       "var outputEl = gd.closest('.output');\n",
       "if (outputEl) {{\n",
       "    x.observe(outputEl, {childList: true});\n",
       "}}\n",
       "\n",
       "                        })                };                });            </script>        </div>"
      ]
     },
     "metadata": {},
     "output_type": "display_data"
    }
   ],
   "source": [
    "import warnings\n",
    "from plotly import express\n",
    "\n",
    "warnings.filterwarnings(action='ignore', category=FutureWarning)\n",
    "express.scatter(data_frame=df, x='x', y='y', color='tag')"
   ]
  }
 ],
 "metadata": {
  "kaggle": {
   "accelerator": "none",
   "dataSources": [
    {
     "datasetId": 292862,
     "sourceId": 600874,
     "sourceType": "datasetVersion"
    }
   ],
   "dockerImageVersionId": 30746,
   "isGpuEnabled": false,
   "isInternetEnabled": true,
   "language": "python",
   "sourceType": "notebook"
  },
  "kernelspec": {
   "display_name": "Python 3",
   "language": "python",
   "name": "python3"
  },
  "language_info": {
   "codemirror_mode": {
    "name": "ipython",
    "version": 3
   },
   "file_extension": ".py",
   "mimetype": "text/x-python",
   "name": "python",
   "nbconvert_exporter": "python",
   "pygments_lexer": "ipython3",
   "version": "3.10.13"
  },
  "papermill": {
   "default_parameters": {},
   "duration": 116.269722,
   "end_time": "2024-07-28T15:23:38.895443",
   "environment_variables": {},
   "exception": null,
   "input_path": "__notebook__.ipynb",
   "output_path": "__notebook__.ipynb",
   "parameters": {},
   "start_time": "2024-07-28T15:21:42.625721",
   "version": "2.5.0"
  },
  "widgets": {
   "application/vnd.jupyter.widget-state+json": {
    "state": {
     "3bddc32e2340464d87eba79bb445add9": {
      "model_module": "@jupyter-widgets/controls",
      "model_module_version": "1.5.0",
      "model_name": "HTMLModel",
      "state": {
       "_dom_classes": [],
       "_model_module": "@jupyter-widgets/controls",
       "_model_module_version": "1.5.0",
       "_model_name": "HTMLModel",
       "_view_count": null,
       "_view_module": "@jupyter-widgets/controls",
       "_view_module_version": "1.5.0",
       "_view_name": "HTMLView",
       "description": "",
       "description_tooltip": null,
       "layout": "IPY_MODEL_ab4e8b67ccc74d6d828c4bd018470fc7",
       "placeholder": "​",
       "style": "IPY_MODEL_c1550f027b604c8a833a92d49ee5c022",
       "value": " 500/500 [00:02]"
      }
     },
     "3ef78375b5034ae6a1474d9f6a396ba7": {
      "model_module": "@jupyter-widgets/controls",
      "model_module_version": "1.5.0",
      "model_name": "HBoxModel",
      "state": {
       "_dom_classes": [],
       "_model_module": "@jupyter-widgets/controls",
       "_model_module_version": "1.5.0",
       "_model_name": "HBoxModel",
       "_view_count": null,
       "_view_module": "@jupyter-widgets/controls",
       "_view_module_version": "1.5.0",
       "_view_name": "HBoxView",
       "box_style": "",
       "children": [
        "IPY_MODEL_5ddb2f9893e84941888f2f77d151a61e",
        "IPY_MODEL_f0361ad773124fb4944073949b232819",
        "IPY_MODEL_3bddc32e2340464d87eba79bb445add9"
       ],
       "layout": "IPY_MODEL_a22533b010704eb7b0ba7ef97f8efb7f"
      }
     },
     "5ddb2f9893e84941888f2f77d151a61e": {
      "model_module": "@jupyter-widgets/controls",
      "model_module_version": "1.5.0",
      "model_name": "HTMLModel",
      "state": {
       "_dom_classes": [],
       "_model_module": "@jupyter-widgets/controls",
       "_model_module_version": "1.5.0",
       "_model_name": "HTMLModel",
       "_view_count": null,
       "_view_module": "@jupyter-widgets/controls",
       "_view_module_version": "1.5.0",
       "_view_name": "HTMLView",
       "description": "",
       "description_tooltip": null,
       "layout": "IPY_MODEL_eebfd8e24fca4e729708e1f1834afc2c",
       "placeholder": "​",
       "style": "IPY_MODEL_70061468275f4e39bd405189ab6d1e3e",
       "value": "Epochs completed: 100%| "
      }
     },
     "70061468275f4e39bd405189ab6d1e3e": {
      "model_module": "@jupyter-widgets/controls",
      "model_module_version": "1.5.0",
      "model_name": "DescriptionStyleModel",
      "state": {
       "_model_module": "@jupyter-widgets/controls",
       "_model_module_version": "1.5.0",
       "_model_name": "DescriptionStyleModel",
       "_view_count": null,
       "_view_module": "@jupyter-widgets/base",
       "_view_module_version": "1.2.0",
       "_view_name": "StyleView",
       "description_width": ""
      }
     },
     "99edef144d564630bab0c60b8a0ae647": {
      "model_module": "@jupyter-widgets/controls",
      "model_module_version": "1.5.0",
      "model_name": "ProgressStyleModel",
      "state": {
       "_model_module": "@jupyter-widgets/controls",
       "_model_module_version": "1.5.0",
       "_model_name": "ProgressStyleModel",
       "_view_count": null,
       "_view_module": "@jupyter-widgets/base",
       "_view_module_version": "1.2.0",
       "_view_name": "StyleView",
       "bar_color": null,
       "description_width": ""
      }
     },
     "a22533b010704eb7b0ba7ef97f8efb7f": {
      "model_module": "@jupyter-widgets/base",
      "model_module_version": "1.2.0",
      "model_name": "LayoutModel",
      "state": {
       "_model_module": "@jupyter-widgets/base",
       "_model_module_version": "1.2.0",
       "_model_name": "LayoutModel",
       "_view_count": null,
       "_view_module": "@jupyter-widgets/base",
       "_view_module_version": "1.2.0",
       "_view_name": "LayoutView",
       "align_content": null,
       "align_items": null,
       "align_self": null,
       "border": null,
       "bottom": null,
       "display": null,
       "flex": null,
       "flex_flow": null,
       "grid_area": null,
       "grid_auto_columns": null,
       "grid_auto_flow": null,
       "grid_auto_rows": null,
       "grid_column": null,
       "grid_gap": null,
       "grid_row": null,
       "grid_template_areas": null,
       "grid_template_columns": null,
       "grid_template_rows": null,
       "height": null,
       "justify_content": null,
       "justify_items": null,
       "left": null,
       "margin": null,
       "max_height": null,
       "max_width": null,
       "min_height": null,
       "min_width": null,
       "object_fit": null,
       "object_position": null,
       "order": null,
       "overflow": null,
       "overflow_x": null,
       "overflow_y": null,
       "padding": null,
       "right": null,
       "top": null,
       "visibility": null,
       "width": null
      }
     },
     "ab4e8b67ccc74d6d828c4bd018470fc7": {
      "model_module": "@jupyter-widgets/base",
      "model_module_version": "1.2.0",
      "model_name": "LayoutModel",
      "state": {
       "_model_module": "@jupyter-widgets/base",
       "_model_module_version": "1.2.0",
       "_model_name": "LayoutModel",
       "_view_count": null,
       "_view_module": "@jupyter-widgets/base",
       "_view_module_version": "1.2.0",
       "_view_name": "LayoutView",
       "align_content": null,
       "align_items": null,
       "align_self": null,
       "border": null,
       "bottom": null,
       "display": null,
       "flex": null,
       "flex_flow": null,
       "grid_area": null,
       "grid_auto_columns": null,
       "grid_auto_flow": null,
       "grid_auto_rows": null,
       "grid_column": null,
       "grid_gap": null,
       "grid_row": null,
       "grid_template_areas": null,
       "grid_template_columns": null,
       "grid_template_rows": null,
       "height": null,
       "justify_content": null,
       "justify_items": null,
       "left": null,
       "margin": null,
       "max_height": null,
       "max_width": null,
       "min_height": null,
       "min_width": null,
       "object_fit": null,
       "object_position": null,
       "order": null,
       "overflow": null,
       "overflow_x": null,
       "overflow_y": null,
       "padding": null,
       "right": null,
       "top": null,
       "visibility": null,
       "width": null
      }
     },
     "afcf1b9bfd8141309a0a731caeaeb4df": {
      "model_module": "@jupyter-widgets/base",
      "model_module_version": "1.2.0",
      "model_name": "LayoutModel",
      "state": {
       "_model_module": "@jupyter-widgets/base",
       "_model_module_version": "1.2.0",
       "_model_name": "LayoutModel",
       "_view_count": null,
       "_view_module": "@jupyter-widgets/base",
       "_view_module_version": "1.2.0",
       "_view_name": "LayoutView",
       "align_content": null,
       "align_items": null,
       "align_self": null,
       "border": null,
       "bottom": null,
       "display": null,
       "flex": null,
       "flex_flow": null,
       "grid_area": null,
       "grid_auto_columns": null,
       "grid_auto_flow": null,
       "grid_auto_rows": null,
       "grid_column": null,
       "grid_gap": null,
       "grid_row": null,
       "grid_template_areas": null,
       "grid_template_columns": null,
       "grid_template_rows": null,
       "height": null,
       "justify_content": null,
       "justify_items": null,
       "left": null,
       "margin": null,
       "max_height": null,
       "max_width": null,
       "min_height": null,
       "min_width": null,
       "object_fit": null,
       "object_position": null,
       "order": null,
       "overflow": null,
       "overflow_x": null,
       "overflow_y": null,
       "padding": null,
       "right": null,
       "top": null,
       "visibility": null,
       "width": null
      }
     },
     "c1550f027b604c8a833a92d49ee5c022": {
      "model_module": "@jupyter-widgets/controls",
      "model_module_version": "1.5.0",
      "model_name": "DescriptionStyleModel",
      "state": {
       "_model_module": "@jupyter-widgets/controls",
       "_model_module_version": "1.5.0",
       "_model_name": "DescriptionStyleModel",
       "_view_count": null,
       "_view_module": "@jupyter-widgets/base",
       "_view_module_version": "1.2.0",
       "_view_name": "StyleView",
       "description_width": ""
      }
     },
     "eebfd8e24fca4e729708e1f1834afc2c": {
      "model_module": "@jupyter-widgets/base",
      "model_module_version": "1.2.0",
      "model_name": "LayoutModel",
      "state": {
       "_model_module": "@jupyter-widgets/base",
       "_model_module_version": "1.2.0",
       "_model_name": "LayoutModel",
       "_view_count": null,
       "_view_module": "@jupyter-widgets/base",
       "_view_module_version": "1.2.0",
       "_view_name": "LayoutView",
       "align_content": null,
       "align_items": null,
       "align_self": null,
       "border": null,
       "bottom": null,
       "display": null,
       "flex": null,
       "flex_flow": null,
       "grid_area": null,
       "grid_auto_columns": null,
       "grid_auto_flow": null,
       "grid_auto_rows": null,
       "grid_column": null,
       "grid_gap": null,
       "grid_row": null,
       "grid_template_areas": null,
       "grid_template_columns": null,
       "grid_template_rows": null,
       "height": null,
       "justify_content": null,
       "justify_items": null,
       "left": null,
       "margin": null,
       "max_height": null,
       "max_width": null,
       "min_height": null,
       "min_width": null,
       "object_fit": null,
       "object_position": null,
       "order": null,
       "overflow": null,
       "overflow_x": null,
       "overflow_y": null,
       "padding": null,
       "right": null,
       "top": null,
       "visibility": null,
       "width": null
      }
     },
     "f0361ad773124fb4944073949b232819": {
      "model_module": "@jupyter-widgets/controls",
      "model_module_version": "1.5.0",
      "model_name": "FloatProgressModel",
      "state": {
       "_dom_classes": [],
       "_model_module": "@jupyter-widgets/controls",
       "_model_module_version": "1.5.0",
       "_model_name": "FloatProgressModel",
       "_view_count": null,
       "_view_module": "@jupyter-widgets/controls",
       "_view_module_version": "1.5.0",
       "_view_name": "ProgressView",
       "bar_style": "success",
       "description": "",
       "description_tooltip": null,
       "layout": "IPY_MODEL_afcf1b9bfd8141309a0a731caeaeb4df",
       "max": 500.0,
       "min": 0.0,
       "orientation": "horizontal",
       "style": "IPY_MODEL_99edef144d564630bab0c60b8a0ae647",
       "value": 500.0
      }
     }
    },
    "version_major": 2,
    "version_minor": 0
   }
  }
 },
 "nbformat": 4,
 "nbformat_minor": 5
}
