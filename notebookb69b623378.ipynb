{
 "cells": [
  {
   "cell_type": "code",
   "execution_count": 1,
   "id": "496a450b",
   "metadata": {
    "_cell_guid": "b1076dfc-b9ad-4769-8c92-a6c4dae69d19",
    "_uuid": "8f2839f25d086af736a60e9eeb907d3b93b6e0e5",
    "execution": {
     "iopub.execute_input": "2024-07-29T15:31:15.575833Z",
     "iopub.status.busy": "2024-07-29T15:31:15.575406Z",
     "iopub.status.idle": "2024-07-29T15:31:15.884345Z",
     "shell.execute_reply": "2024-07-29T15:31:15.883162Z"
    },
    "papermill": {
     "duration": 0.317913,
     "end_time": "2024-07-29T15:31:15.887076",
     "exception": false,
     "start_time": "2024-07-29T15:31:15.569163",
     "status": "completed"
    },
    "tags": []
   },
   "outputs": [
    {
     "name": "stdout",
     "output_type": "stream",
     "text": [
      "Counter({'.jpg': 465, '.png': 69, '.JPG': 10, '.jpeg': 7, '.fcgi': 2, '.php': 1, '.webp': 1, '.gif': 1})\n"
     ]
    }
   ],
   "source": [
    "# what kind of files do we have?\n",
    "from glob import glob\n",
    "from pathlib import Path\n",
    "from collections import Counter\n",
    "\n",
    "GLOB = '/kaggle/input/chessman-image-dataset/Chessman-image-dataset/Chess/*/*'\n",
    "suffixes = Counter([Path(input_file).suffix for input_file in glob(pathname=GLOB)])\n",
    "\n",
    "print(suffixes)"
   ]
  },
  {
   "cell_type": "markdown",
   "id": "5be2be48",
   "metadata": {
    "papermill": {
     "duration": 0.003586,
     "end_time": "2024-07-29T15:31:15.894987",
     "exception": false,
     "start_time": "2024-07-29T15:31:15.891401",
     "status": "completed"
    },
    "tags": []
   },
   "source": [
    "We have some files that are not images and we need to be sure to ignore them."
   ]
  },
  {
   "cell_type": "markdown",
   "id": "52805dae",
   "metadata": {
    "papermill": {
     "duration": 0.003494,
     "end_time": "2024-07-29T15:31:15.902168",
     "exception": false,
     "start_time": "2024-07-29T15:31:15.898674",
     "status": "completed"
    },
    "tags": []
   },
   "source": [
    "Let's build a DataFrame of tags and file names."
   ]
  },
  {
   "cell_type": "code",
   "execution_count": 2,
   "id": "454b773e",
   "metadata": {
    "execution": {
     "iopub.execute_input": "2024-07-29T15:31:15.911243Z",
     "iopub.status.busy": "2024-07-29T15:31:15.910868Z",
     "iopub.status.idle": "2024-07-29T15:31:16.961223Z",
     "shell.execute_reply": "2024-07-29T15:31:16.960230Z"
    },
    "papermill": {
     "duration": 1.058119,
     "end_time": "2024-07-29T15:31:16.963911",
     "exception": false,
     "start_time": "2024-07-29T15:31:15.905792",
     "status": "completed"
    },
    "tags": []
   },
   "outputs": [],
   "source": [
    "import pandas as pd\n",
    "from pathlib import Path\n",
    "\n",
    "SUFFIXES = {'.jpg', '.png', '.JPG', '.jpeg', '.gif'}\n",
    "data = []\n",
    "for input_file in glob(pathname=GLOB):\n",
    "    path = Path(input_file)\n",
    "    if path.suffix in SUFFIXES:\n",
    "        data.append(pd.Series(data={'tag': str(path.parents[0]).split('/')[-1], 'name': input_file}))\n",
    "df = pd.DataFrame(data=data)"
   ]
  },
  {
   "cell_type": "markdown",
   "id": "cfa5642c",
   "metadata": {
    "papermill": {
     "duration": 0.003676,
     "end_time": "2024-07-29T15:31:16.971623",
     "exception": false,
     "start_time": "2024-07-29T15:31:16.967947",
     "status": "completed"
    },
    "tags": []
   },
   "source": [
    "We know already that we have unequal numbers of pictures of the different pieces; how unequal are they?"
   ]
  },
  {
   "cell_type": "code",
   "execution_count": 3,
   "id": "33ecea38",
   "metadata": {
    "execution": {
     "iopub.execute_input": "2024-07-29T15:31:16.980989Z",
     "iopub.status.busy": "2024-07-29T15:31:16.980488Z",
     "iopub.status.idle": "2024-07-29T15:31:19.637649Z",
     "shell.execute_reply": "2024-07-29T15:31:19.636606Z"
    },
    "papermill": {
     "duration": 2.66458,
     "end_time": "2024-07-29T15:31:19.639974",
     "exception": false,
     "start_time": "2024-07-29T15:31:16.975394",
     "status": "completed"
    },
    "tags": []
   },
   "outputs": [
    {
     "data": {
      "text/html": [
       "        <script type=\"text/javascript\">\n",
       "        window.PlotlyConfig = {MathJaxConfig: 'local'};\n",
       "        if (window.MathJax && window.MathJax.Hub && window.MathJax.Hub.Config) {window.MathJax.Hub.Config({SVG: {font: \"STIX-Web\"}});}\n",
       "        if (typeof require !== 'undefined') {\n",
       "        require.undef(\"plotly\");\n",
       "        requirejs.config({\n",
       "            paths: {\n",
       "                'plotly': ['https://cdn.plot.ly/plotly-2.27.0.min']\n",
       "            }\n",
       "        });\n",
       "        require(['plotly'], function(Plotly) {\n",
       "            window._Plotly = Plotly;\n",
       "        });\n",
       "        }\n",
       "        </script>\n",
       "        "
      ]
     },
     "metadata": {},
     "output_type": "display_data"
    },
    {
     "data": {
      "text/html": [
       "<div>                            <div id=\"86668b77-9bcf-4740-b6b0-8b3c5e6c7eb3\" class=\"plotly-graph-div\" style=\"height:525px; width:100%;\"></div>            <script type=\"text/javascript\">                require([\"plotly\"], function(Plotly) {                    window.PLOTLYENV=window.PLOTLYENV || {};                                    if (document.getElementById(\"86668b77-9bcf-4740-b6b0-8b3c5e6c7eb3\")) {                    Plotly.newPlot(                        \"86668b77-9bcf-4740-b6b0-8b3c5e6c7eb3\",                        [{\"domain\":{\"x\":[0.0,1.0],\"y\":[0.0,1.0]},\"hovertemplate\":\"tag=%{label}\\u003cbr\\u003ecount=%{value}\\u003cextra\\u003e\\u003c\\u002fextra\\u003e\",\"labels\":[\"Pawn\",\"Knight\",\"Rook\",\"Bishop\",\"Queen\",\"King\"],\"legendgroup\":\"\",\"name\":\"\",\"showlegend\":true,\"values\":[106,105,102,87,77,75],\"type\":\"pie\",\"hoverinfo\":\"label+percent\",\"textinfo\":\"value\"}],                        {\"template\":{\"data\":{\"histogram2dcontour\":[{\"type\":\"histogram2dcontour\",\"colorbar\":{\"outlinewidth\":0,\"ticks\":\"\"},\"colorscale\":[[0.0,\"#0d0887\"],[0.1111111111111111,\"#46039f\"],[0.2222222222222222,\"#7201a8\"],[0.3333333333333333,\"#9c179e\"],[0.4444444444444444,\"#bd3786\"],[0.5555555555555556,\"#d8576b\"],[0.6666666666666666,\"#ed7953\"],[0.7777777777777778,\"#fb9f3a\"],[0.8888888888888888,\"#fdca26\"],[1.0,\"#f0f921\"]]}],\"choropleth\":[{\"type\":\"choropleth\",\"colorbar\":{\"outlinewidth\":0,\"ticks\":\"\"}}],\"histogram2d\":[{\"type\":\"histogram2d\",\"colorbar\":{\"outlinewidth\":0,\"ticks\":\"\"},\"colorscale\":[[0.0,\"#0d0887\"],[0.1111111111111111,\"#46039f\"],[0.2222222222222222,\"#7201a8\"],[0.3333333333333333,\"#9c179e\"],[0.4444444444444444,\"#bd3786\"],[0.5555555555555556,\"#d8576b\"],[0.6666666666666666,\"#ed7953\"],[0.7777777777777778,\"#fb9f3a\"],[0.8888888888888888,\"#fdca26\"],[1.0,\"#f0f921\"]]}],\"heatmap\":[{\"type\":\"heatmap\",\"colorbar\":{\"outlinewidth\":0,\"ticks\":\"\"},\"colorscale\":[[0.0,\"#0d0887\"],[0.1111111111111111,\"#46039f\"],[0.2222222222222222,\"#7201a8\"],[0.3333333333333333,\"#9c179e\"],[0.4444444444444444,\"#bd3786\"],[0.5555555555555556,\"#d8576b\"],[0.6666666666666666,\"#ed7953\"],[0.7777777777777778,\"#fb9f3a\"],[0.8888888888888888,\"#fdca26\"],[1.0,\"#f0f921\"]]}],\"heatmapgl\":[{\"type\":\"heatmapgl\",\"colorbar\":{\"outlinewidth\":0,\"ticks\":\"\"},\"colorscale\":[[0.0,\"#0d0887\"],[0.1111111111111111,\"#46039f\"],[0.2222222222222222,\"#7201a8\"],[0.3333333333333333,\"#9c179e\"],[0.4444444444444444,\"#bd3786\"],[0.5555555555555556,\"#d8576b\"],[0.6666666666666666,\"#ed7953\"],[0.7777777777777778,\"#fb9f3a\"],[0.8888888888888888,\"#fdca26\"],[1.0,\"#f0f921\"]]}],\"contourcarpet\":[{\"type\":\"contourcarpet\",\"colorbar\":{\"outlinewidth\":0,\"ticks\":\"\"}}],\"contour\":[{\"type\":\"contour\",\"colorbar\":{\"outlinewidth\":0,\"ticks\":\"\"},\"colorscale\":[[0.0,\"#0d0887\"],[0.1111111111111111,\"#46039f\"],[0.2222222222222222,\"#7201a8\"],[0.3333333333333333,\"#9c179e\"],[0.4444444444444444,\"#bd3786\"],[0.5555555555555556,\"#d8576b\"],[0.6666666666666666,\"#ed7953\"],[0.7777777777777778,\"#fb9f3a\"],[0.8888888888888888,\"#fdca26\"],[1.0,\"#f0f921\"]]}],\"surface\":[{\"type\":\"surface\",\"colorbar\":{\"outlinewidth\":0,\"ticks\":\"\"},\"colorscale\":[[0.0,\"#0d0887\"],[0.1111111111111111,\"#46039f\"],[0.2222222222222222,\"#7201a8\"],[0.3333333333333333,\"#9c179e\"],[0.4444444444444444,\"#bd3786\"],[0.5555555555555556,\"#d8576b\"],[0.6666666666666666,\"#ed7953\"],[0.7777777777777778,\"#fb9f3a\"],[0.8888888888888888,\"#fdca26\"],[1.0,\"#f0f921\"]]}],\"mesh3d\":[{\"type\":\"mesh3d\",\"colorbar\":{\"outlinewidth\":0,\"ticks\":\"\"}}],\"scatter\":[{\"fillpattern\":{\"fillmode\":\"overlay\",\"size\":10,\"solidity\":0.2},\"type\":\"scatter\"}],\"parcoords\":[{\"type\":\"parcoords\",\"line\":{\"colorbar\":{\"outlinewidth\":0,\"ticks\":\"\"}}}],\"scatterpolargl\":[{\"type\":\"scatterpolargl\",\"marker\":{\"colorbar\":{\"outlinewidth\":0,\"ticks\":\"\"}}}],\"bar\":[{\"error_x\":{\"color\":\"#2a3f5f\"},\"error_y\":{\"color\":\"#2a3f5f\"},\"marker\":{\"line\":{\"color\":\"#E5ECF6\",\"width\":0.5},\"pattern\":{\"fillmode\":\"overlay\",\"size\":10,\"solidity\":0.2}},\"type\":\"bar\"}],\"scattergeo\":[{\"type\":\"scattergeo\",\"marker\":{\"colorbar\":{\"outlinewidth\":0,\"ticks\":\"\"}}}],\"scatterpolar\":[{\"type\":\"scatterpolar\",\"marker\":{\"colorbar\":{\"outlinewidth\":0,\"ticks\":\"\"}}}],\"histogram\":[{\"marker\":{\"pattern\":{\"fillmode\":\"overlay\",\"size\":10,\"solidity\":0.2}},\"type\":\"histogram\"}],\"scattergl\":[{\"type\":\"scattergl\",\"marker\":{\"colorbar\":{\"outlinewidth\":0,\"ticks\":\"\"}}}],\"scatter3d\":[{\"type\":\"scatter3d\",\"line\":{\"colorbar\":{\"outlinewidth\":0,\"ticks\":\"\"}},\"marker\":{\"colorbar\":{\"outlinewidth\":0,\"ticks\":\"\"}}}],\"scattermapbox\":[{\"type\":\"scattermapbox\",\"marker\":{\"colorbar\":{\"outlinewidth\":0,\"ticks\":\"\"}}}],\"scatterternary\":[{\"type\":\"scatterternary\",\"marker\":{\"colorbar\":{\"outlinewidth\":0,\"ticks\":\"\"}}}],\"scattercarpet\":[{\"type\":\"scattercarpet\",\"marker\":{\"colorbar\":{\"outlinewidth\":0,\"ticks\":\"\"}}}],\"carpet\":[{\"aaxis\":{\"endlinecolor\":\"#2a3f5f\",\"gridcolor\":\"white\",\"linecolor\":\"white\",\"minorgridcolor\":\"white\",\"startlinecolor\":\"#2a3f5f\"},\"baxis\":{\"endlinecolor\":\"#2a3f5f\",\"gridcolor\":\"white\",\"linecolor\":\"white\",\"minorgridcolor\":\"white\",\"startlinecolor\":\"#2a3f5f\"},\"type\":\"carpet\"}],\"table\":[{\"cells\":{\"fill\":{\"color\":\"#EBF0F8\"},\"line\":{\"color\":\"white\"}},\"header\":{\"fill\":{\"color\":\"#C8D4E3\"},\"line\":{\"color\":\"white\"}},\"type\":\"table\"}],\"barpolar\":[{\"marker\":{\"line\":{\"color\":\"#E5ECF6\",\"width\":0.5},\"pattern\":{\"fillmode\":\"overlay\",\"size\":10,\"solidity\":0.2}},\"type\":\"barpolar\"}],\"pie\":[{\"automargin\":true,\"type\":\"pie\"}]},\"layout\":{\"autotypenumbers\":\"strict\",\"colorway\":[\"#636efa\",\"#EF553B\",\"#00cc96\",\"#ab63fa\",\"#FFA15A\",\"#19d3f3\",\"#FF6692\",\"#B6E880\",\"#FF97FF\",\"#FECB52\"],\"font\":{\"color\":\"#2a3f5f\"},\"hovermode\":\"closest\",\"hoverlabel\":{\"align\":\"left\"},\"paper_bgcolor\":\"white\",\"plot_bgcolor\":\"#E5ECF6\",\"polar\":{\"bgcolor\":\"#E5ECF6\",\"angularaxis\":{\"gridcolor\":\"white\",\"linecolor\":\"white\",\"ticks\":\"\"},\"radialaxis\":{\"gridcolor\":\"white\",\"linecolor\":\"white\",\"ticks\":\"\"}},\"ternary\":{\"bgcolor\":\"#E5ECF6\",\"aaxis\":{\"gridcolor\":\"white\",\"linecolor\":\"white\",\"ticks\":\"\"},\"baxis\":{\"gridcolor\":\"white\",\"linecolor\":\"white\",\"ticks\":\"\"},\"caxis\":{\"gridcolor\":\"white\",\"linecolor\":\"white\",\"ticks\":\"\"}},\"coloraxis\":{\"colorbar\":{\"outlinewidth\":0,\"ticks\":\"\"}},\"colorscale\":{\"sequential\":[[0.0,\"#0d0887\"],[0.1111111111111111,\"#46039f\"],[0.2222222222222222,\"#7201a8\"],[0.3333333333333333,\"#9c179e\"],[0.4444444444444444,\"#bd3786\"],[0.5555555555555556,\"#d8576b\"],[0.6666666666666666,\"#ed7953\"],[0.7777777777777778,\"#fb9f3a\"],[0.8888888888888888,\"#fdca26\"],[1.0,\"#f0f921\"]],\"sequentialminus\":[[0.0,\"#0d0887\"],[0.1111111111111111,\"#46039f\"],[0.2222222222222222,\"#7201a8\"],[0.3333333333333333,\"#9c179e\"],[0.4444444444444444,\"#bd3786\"],[0.5555555555555556,\"#d8576b\"],[0.6666666666666666,\"#ed7953\"],[0.7777777777777778,\"#fb9f3a\"],[0.8888888888888888,\"#fdca26\"],[1.0,\"#f0f921\"]],\"diverging\":[[0,\"#8e0152\"],[0.1,\"#c51b7d\"],[0.2,\"#de77ae\"],[0.3,\"#f1b6da\"],[0.4,\"#fde0ef\"],[0.5,\"#f7f7f7\"],[0.6,\"#e6f5d0\"],[0.7,\"#b8e186\"],[0.8,\"#7fbc41\"],[0.9,\"#4d9221\"],[1,\"#276419\"]]},\"xaxis\":{\"gridcolor\":\"white\",\"linecolor\":\"white\",\"ticks\":\"\",\"title\":{\"standoff\":15},\"zerolinecolor\":\"white\",\"automargin\":true,\"zerolinewidth\":2},\"yaxis\":{\"gridcolor\":\"white\",\"linecolor\":\"white\",\"ticks\":\"\",\"title\":{\"standoff\":15},\"zerolinecolor\":\"white\",\"automargin\":true,\"zerolinewidth\":2},\"scene\":{\"xaxis\":{\"backgroundcolor\":\"#E5ECF6\",\"gridcolor\":\"white\",\"linecolor\":\"white\",\"showbackground\":true,\"ticks\":\"\",\"zerolinecolor\":\"white\",\"gridwidth\":2},\"yaxis\":{\"backgroundcolor\":\"#E5ECF6\",\"gridcolor\":\"white\",\"linecolor\":\"white\",\"showbackground\":true,\"ticks\":\"\",\"zerolinecolor\":\"white\",\"gridwidth\":2},\"zaxis\":{\"backgroundcolor\":\"#E5ECF6\",\"gridcolor\":\"white\",\"linecolor\":\"white\",\"showbackground\":true,\"ticks\":\"\",\"zerolinecolor\":\"white\",\"gridwidth\":2}},\"shapedefaults\":{\"line\":{\"color\":\"#2a3f5f\"}},\"annotationdefaults\":{\"arrowcolor\":\"#2a3f5f\",\"arrowhead\":0,\"arrowwidth\":1},\"geo\":{\"bgcolor\":\"white\",\"landcolor\":\"#E5ECF6\",\"subunitcolor\":\"white\",\"showland\":true,\"showlakes\":true,\"lakecolor\":\"white\"},\"title\":{\"x\":0.05},\"mapbox\":{\"style\":\"light\"}}},\"legend\":{\"tracegroupgap\":0},\"margin\":{\"t\":60}},                        {\"responsive\": true}                    ).then(function(){\n",
       "                            \n",
       "var gd = document.getElementById('86668b77-9bcf-4740-b6b0-8b3c5e6c7eb3');\n",
       "var x = new MutationObserver(function (mutations, observer) {{\n",
       "        var display = window.getComputedStyle(gd).display;\n",
       "        if (!display || display === 'none') {{\n",
       "            console.log([gd, 'removed!']);\n",
       "            Plotly.purge(gd);\n",
       "            observer.disconnect();\n",
       "        }}\n",
       "}});\n",
       "\n",
       "// Listen for the removal of the full notebook cells\n",
       "var notebookContainer = gd.closest('#notebook-container');\n",
       "if (notebookContainer) {{\n",
       "    x.observe(notebookContainer, {childList: true});\n",
       "}}\n",
       "\n",
       "// Listen for the clearing of the current output cell\n",
       "var outputEl = gd.closest('.output');\n",
       "if (outputEl) {{\n",
       "    x.observe(outputEl, {childList: true});\n",
       "}}\n",
       "\n",
       "                        })                };                });            </script>        </div>"
      ]
     },
     "metadata": {},
     "output_type": "display_data"
    }
   ],
   "source": [
    "import warnings\n",
    "from plotly import express\n",
    "\n",
    "warnings.filterwarnings(action='ignore', category=FutureWarning)\n",
    "express.pie(data_frame=df['tag'].value_counts().to_frame().reset_index(), names='tag', values='count').update_traces(hoverinfo='label+percent', textinfo='value')"
   ]
  },
  {
   "cell_type": "code",
   "execution_count": 4,
   "id": "a38c9c06",
   "metadata": {
    "execution": {
     "iopub.execute_input": "2024-07-29T15:31:19.650246Z",
     "iopub.status.busy": "2024-07-29T15:31:19.649873Z",
     "iopub.status.idle": "2024-07-29T15:32:35.284774Z",
     "shell.execute_reply": "2024-07-29T15:32:35.283564Z"
    },
    "papermill": {
     "duration": 75.643232,
     "end_time": "2024-07-29T15:32:35.287629",
     "exception": false,
     "start_time": "2024-07-29T15:31:19.644397",
     "status": "completed"
    },
    "tags": []
   },
   "outputs": [
    {
     "name": "stderr",
     "output_type": "stream",
     "text": [
      "Downloading: \"https://download.pytorch.org/models/resnet34-b627a593.pth\" to /root/.cache/torch/hub/checkpoints/resnet34-b627a593.pth\n",
      "100%|██████████| 83.3M/83.3M [00:00<00:00, 116MB/s]\n"
     ]
    }
   ],
   "source": [
    "import torch\n",
    "import torchvision.models as models\n",
    "import torchvision.transforms as transforms\n",
    "from PIL import Image\n",
    "\n",
    "device = torch.device('cpu')\n",
    "# model = models.resnet18(weights=models.ResNet18_Weights.IMAGENET1K_V1).to(device=device)\n",
    "model = models.resnet34(weights=models.ResNet34_Weights.IMAGENET1K_V1).to(device=device)\n",
    "model.eval()\n",
    "\n",
    "layer = model._modules.get('avgpool')\n",
    "\n",
    "layer_output_size = 512\n",
    "\n",
    "scaler = transforms.Resize(size=(224, 224))\n",
    "normalize = transforms.Normalize(mean=[0.485, 0.456, 0.406], std=[0.229, 0.224, 0.225])\n",
    "to_tensor = transforms.ToTensor()\n",
    "\n",
    "df['data'] = df['name'].apply(func=lambda x: Image.open(fp=x, mode='r').convert('RGB'))\n",
    "model_input = [normalize(to_tensor(scaler(item))) for item in df['data'].tolist()]\n",
    "images = torch.stack(model_input).to(device)\n",
    "df['value'] = [item.detach().numpy() for item in model(images)]\n",
    "df = df.drop(columns=['data'])"
   ]
  },
  {
   "cell_type": "code",
   "execution_count": 5,
   "id": "ab7efdd0",
   "metadata": {
    "execution": {
     "iopub.execute_input": "2024-07-29T15:32:35.300289Z",
     "iopub.status.busy": "2024-07-29T15:32:35.299670Z",
     "iopub.status.idle": "2024-07-29T15:33:21.721648Z",
     "shell.execute_reply": "2024-07-29T15:33:21.719921Z"
    },
    "papermill": {
     "duration": 46.432142,
     "end_time": "2024-07-29T15:33:21.725188",
     "exception": false,
     "start_time": "2024-07-29T15:32:35.293046",
     "status": "completed"
    },
    "tags": []
   },
   "outputs": [
    {
     "name": "stderr",
     "output_type": "stream",
     "text": [
      "2024-07-29 15:32:59.498332: E external/local_xla/xla/stream_executor/cuda/cuda_dnn.cc:9261] Unable to register cuDNN factory: Attempting to register factory for plugin cuDNN when one has already been registered\n",
      "2024-07-29 15:32:59.498451: E external/local_xla/xla/stream_executor/cuda/cuda_fft.cc:607] Unable to register cuFFT factory: Attempting to register factory for plugin cuFFT when one has already been registered\n",
      "2024-07-29 15:32:59.643625: E external/local_xla/xla/stream_executor/cuda/cuda_blas.cc:1515] Unable to register cuBLAS factory: Attempting to register factory for plugin cuBLAS when one has already been registered\n"
     ]
    },
    {
     "name": "stdout",
     "output_type": "stream",
     "text": [
      "UMAP(low_memory=False, n_epochs=500, n_jobs=1, random_state=2024, verbose=True)\n",
      "Mon Jul 29 15:33:10 2024 Construct fuzzy simplicial set\n",
      "Mon Jul 29 15:33:11 2024 Finding Nearest Neighbors\n",
      "Mon Jul 29 15:33:15 2024 Finished Nearest Neighbor Search\n",
      "Mon Jul 29 15:33:19 2024 Construct embedding\n"
     ]
    },
    {
     "data": {
      "application/vnd.jupyter.widget-view+json": {
       "model_id": "67219075957641c581a89499b743c1f0",
       "version_major": 2,
       "version_minor": 0
      },
      "text/plain": [
       "Epochs completed:   0%|            0/500 [00:00]"
      ]
     },
     "metadata": {},
     "output_type": "display_data"
    },
    {
     "name": "stdout",
     "output_type": "stream",
     "text": [
      "\tcompleted  0  /  500 epochs\n",
      "\tcompleted  50  /  500 epochs\n",
      "\tcompleted  100  /  500 epochs\n",
      "\tcompleted  150  /  500 epochs\n",
      "\tcompleted  200  /  500 epochs\n",
      "\tcompleted  250  /  500 epochs\n",
      "\tcompleted  300  /  500 epochs\n",
      "\tcompleted  350  /  500 epochs\n",
      "\tcompleted  400  /  500 epochs\n",
      "\tcompleted  450  /  500 epochs\n",
      "Mon Jul 29 15:33:21 2024 Finished embedding\n",
      "done with UMAP in 0:00:10.956037\n"
     ]
    }
   ],
   "source": [
    "import arrow\n",
    "from umap import UMAP\n",
    "\n",
    "time_start = arrow.now()\n",
    "umap = UMAP(random_state=2024, verbose=True, n_jobs=1, low_memory=False, n_epochs=500)\n",
    "df[['x', 'y']] = umap.fit_transform(X=df['value'].apply(pd.Series))\n",
    "print('done with UMAP in {}'.format(arrow.now() - time_start))"
   ]
  },
  {
   "cell_type": "code",
   "execution_count": 6,
   "id": "13d2979c",
   "metadata": {
    "execution": {
     "iopub.execute_input": "2024-07-29T15:33:21.742230Z",
     "iopub.status.busy": "2024-07-29T15:33:21.741448Z",
     "iopub.status.idle": "2024-07-29T15:33:21.907586Z",
     "shell.execute_reply": "2024-07-29T15:33:21.906481Z"
    },
    "papermill": {
     "duration": 0.177603,
     "end_time": "2024-07-29T15:33:21.911213",
     "exception": false,
     "start_time": "2024-07-29T15:33:21.733610",
     "status": "completed"
    },
    "tags": []
   },
   "outputs": [
    {
     "data": {
      "text/html": [
       "<div>                            <div id=\"67f6682d-cf55-4ceb-949b-0d761c6f747b\" class=\"plotly-graph-div\" style=\"height:525px; width:100%;\"></div>            <script type=\"text/javascript\">                require([\"plotly\"], function(Plotly) {                    window.PLOTLYENV=window.PLOTLYENV || {};                                    if (document.getElementById(\"67f6682d-cf55-4ceb-949b-0d761c6f747b\")) {                    Plotly.newPlot(                        \"67f6682d-cf55-4ceb-949b-0d761c6f747b\",                        [{\"hovertemplate\":\"tag=King\\u003cbr\\u003ex=%{x}\\u003cbr\\u003ey=%{y}\\u003cextra\\u003e\\u003c\\u002fextra\\u003e\",\"legendgroup\":\"King\",\"marker\":{\"color\":\"#636efa\",\"symbol\":\"circle\"},\"mode\":\"markers\",\"name\":\"King\",\"orientation\":\"v\",\"showlegend\":true,\"x\":[10.6589365,7.834378,9.176794,11.386477,8.55675,6.9014997,8.565789,6.586016,9.04911,8.15427,8.022477,10.145534,7.9913096,6.6053514,10.490845,6.4786134,12.493074,9.384664,10.315741,11.639354,6.3387365,10.357142,8.078922,11.538104,10.450425,11.760123,11.536712,11.257017,10.37692,8.415321,11.545986,8.126519,8.726187,8.45893,10.125646,10.779971,8.086715,8.505136,11.525164,11.3388,10.388009,7.6579843,3.649234,11.270706,8.196085,12.380785,7.7941594,7.940669,7.832914,8.877011,12.477074,12.67865,8.304867,9.007923,11.558552,7.8821564,11.022141,8.452658,9.488999,3.2446454,7.9981146,10.445954,7.319507,7.38373,11.663904,11.657544,6.6343794,8.746077,9.96528,7.420578,7.6497135,7.5647964,7.224975,6.8560524,3.748742],\"xaxis\":\"x\",\"y\":[10.654056,11.43764,11.957996,14.188079,10.6709585,12.614405,13.202049,12.281118,12.044178,12.715748,12.125995,12.461206,12.637952,12.184977,13.642711,12.487363,11.252725,12.5880785,10.402917,14.168659,12.464367,12.459466,12.679133,13.693999,12.6402645,12.637775,13.060313,13.969765,13.571564,11.96581,13.183805,11.718959,11.185364,12.3548155,9.653405,9.436673,12.6843405,11.648381,14.193796,11.263217,12.900877,12.296902,9.298545,13.460412,11.796741,9.764301,11.708411,13.128663,12.164997,12.61025,9.775184,11.645991,11.673403,11.346945,11.054292,11.704816,13.219429,11.6416855,11.727758,9.423311,11.809209,12.008368,12.678136,12.918461,13.826087,14.315953,12.586562,11.8701,12.773491,11.726906,11.853727,12.683587,12.903268,11.950611,9.300804],\"yaxis\":\"y\",\"type\":\"scatter\"},{\"hovertemplate\":\"tag=Queen\\u003cbr\\u003ex=%{x}\\u003cbr\\u003ey=%{y}\\u003cextra\\u003e\\u003c\\u002fextra\\u003e\",\"legendgroup\":\"Queen\",\"marker\":{\"color\":\"#EF553B\",\"symbol\":\"circle\"},\"mode\":\"markers\",\"name\":\"Queen\",\"orientation\":\"v\",\"showlegend\":true,\"x\":[8.604547,8.24271,10.846015,11.589881,10.113652,8.690074,9.068783,7.2341733,10.418934,10.019104,12.666166,9.717677,8.460708,7.4657216,8.475834,11.07997,10.374595,11.002196,10.390522,11.112725,6.552907,10.161702,8.617973,8.468263,10.1156845,12.552604,10.945431,11.927083,9.832999,11.719627,10.610158,4.714089,10.220598,10.801424,9.341485,11.227074,11.312147,8.924004,9.767692,6.322558,12.5284815,3.7966444,8.139069,10.974048,4.4363,8.402962,11.679086,8.943817,12.321433,11.622885,3.2237318,8.194674,10.882197,9.173472,10.559939,8.590882,3.3759663,7.3131986,10.574898,9.159205,7.37576,10.462939,10.911807,11.3567,10.207427,10.494781,8.203388,11.58202,9.054142,10.9019575,8.715381,7.4811435,10.0182,11.53007,9.9850445,10.185924,10.307143],\"xaxis\":\"x\",\"y\":[13.211441,11.614632,9.635541,12.5237875,11.798118,11.003944,13.617716,12.704117,12.397436,12.685006,11.63913,12.431152,10.83115,12.948165,11.1366415,13.829065,12.852291,12.667597,12.610408,12.555274,12.317826,9.684613,13.285173,10.764167,12.365217,9.680238,12.946488,12.255525,10.361428,12.88002,12.092543,9.648569,12.531921,13.614122,12.114696,13.95592,13.9863615,12.483786,10.866494,11.90525,11.250055,9.325749,12.021409,13.009571,9.558478,10.9999275,10.914694,11.030079,11.145554,14.292027,9.306583,11.520581,11.130719,13.727347,12.876521,11.429867,9.298582,12.862346,12.812469,12.316757,12.336373,12.763287,10.319945,14.159418,13.619816,12.314441,12.220706,12.984173,11.273265,13.023367,12.174651,12.800323,12.971723,14.248336,10.791855,11.671925,13.534715],\"yaxis\":\"y\",\"type\":\"scatter\"},{\"hovertemplate\":\"tag=Knight\\u003cbr\\u003ex=%{x}\\u003cbr\\u003ey=%{y}\\u003cextra\\u003e\\u003c\\u002fextra\\u003e\",\"legendgroup\":\"Knight\",\"marker\":{\"color\":\"#00cc96\",\"symbol\":\"circle\"},\"mode\":\"markers\",\"name\":\"Knight\",\"orientation\":\"v\",\"showlegend\":true,\"x\":[11.616829,6.654866,7.7621183,9.910148,8.188355,10.416411,11.024575,8.023175,8.259119,8.519421,9.272888,7.7712407,4.0394235,10.9351,10.983906,6.5070715,7.5550103,6.3717823,8.171131,8.595167,11.893712,7.3069506,7.29944,9.854818,11.966328,12.499087,6.5184193,9.8329115,10.517539,11.1850195,7.8143334,9.602134,3.7815242,3.379867,11.231041,8.662892,7.7186003,7.90016,7.6344624,8.777907,9.189419,6.6493077,10.883118,3.3751006,11.041259,11.051379,7.9141784,7.9459324,8.919385,12.098115,6.655145,10.518236,7.897638,7.1579823,12.59531,7.8140526,7.8654237,3.504294,8.774069,3.4489336,11.059708,12.104984,11.06609,11.02997,8.076257,7.929223,8.330915,3.472823,12.723275,8.358166,8.369454,7.4465714,8.068615,9.393809,11.228138,3.2836375,7.5640893,8.317061,9.449222,8.44591,10.5914545,10.014316,7.8886294,7.5481114,8.343843,3.1864002,9.701477,10.1288805,11.163524,11.507842,9.451154,9.497831,9.915219,6.5816765,11.677809,8.906657,6.460625,11.112094,9.903153,3.9696422,8.861382,11.275471,11.721895,7.747817,7.91025],\"xaxis\":\"x\",\"y\":[11.959428,11.09996,9.672468,11.958632,11.161002,11.262236,11.61513,9.541875,9.749114,9.599898,10.001087,9.6233425,9.40968,10.838836,11.426689,11.361692,11.870007,11.60706,10.134206,9.698211,12.867181,10.6836405,10.566896,10.906809,11.274623,9.693326,11.316783,9.922076,10.606456,10.97157,10.276812,9.922546,9.395924,9.453784,11.186255,9.837911,9.912576,9.499077,10.3884325,9.421398,13.92808,11.019252,11.52876,9.410756,11.671731,11.616521,9.667787,9.783206,9.999317,9.73824,11.104514,12.309256,9.73655,10.654068,11.236437,9.775096,9.858419,9.364144,10.241033,9.380546,12.277306,9.681645,11.84594,11.907901,9.647824,9.501462,9.542127,9.379264,11.580474,9.5513735,9.85368,10.414517,9.620148,12.893277,11.435354,9.235271,9.915873,9.5874405,9.437878,9.595327,11.05676,11.118442,9.743781,10.149733,9.919031,9.249214,12.888344,10.027861,11.082659,11.310331,9.439004,9.33595,10.8339405,11.133047,14.372345,9.612525,11.742989,10.977992,11.289329,9.3954935,9.565053,10.908557,12.513053,10.42181,9.83424],\"yaxis\":\"y\",\"type\":\"scatter\"},{\"hovertemplate\":\"tag=Rook\\u003cbr\\u003ex=%{x}\\u003cbr\\u003ey=%{y}\\u003cextra\\u003e\\u003c\\u002fextra\\u003e\",\"legendgroup\":\"Rook\",\"marker\":{\"color\":\"#ab63fa\",\"symbol\":\"circle\"},\"mode\":\"markers\",\"name\":\"Rook\",\"orientation\":\"v\",\"showlegend\":true,\"x\":[11.9615,10.241572,9.59521,10.449046,10.120151,10.41528,9.040307,11.772719,6.554512,11.669708,9.1362095,10.783852,9.277384,6.3742347,3.2317274,12.72928,12.337601,9.243756,10.856435,9.220404,9.718406,8.874518,10.504418,10.321768,10.655912,7.249684,9.211125,11.190158,10.946605,10.834329,3.2439191,10.1921425,9.52226,10.004483,7.0247555,10.094385,7.855027,6.368894,9.261431,8.82801,6.2618637,8.72098,9.105182,9.997006,7.172654,3.2497993,8.226576,12.326972,9.053559,10.175361,10.349394,8.64797,9.105203,9.099892,10.199681,9.558212,11.418182,3.2218606,12.654974,10.778622,9.664638,6.4074655,6.2775955,9.794279,11.773684,10.540934,9.48746,11.0282,10.26854,10.68609,10.740967,3.266136,10.681644,9.325426,10.466872,10.000983,10.683077,7.849927,10.850653,11.697215,10.1202135,9.945015,10.799743,11.036035,7.715567,4.176645,8.200902,7.9062223,10.269951,8.867297,12.545358,10.693764,9.282978,8.191415,9.300687,6.8342347,8.490524,8.437713,10.469025,10.760916,9.923583,9.80493],\"xaxis\":\"x\",\"y\":[12.206339,10.868755,13.816842,10.429603,10.611554,10.10624,11.82452,12.169367,11.828247,13.098215,13.888868,10.137484,10.895635,11.995986,9.200698,11.605783,9.828431,13.830542,13.703036,10.621506,11.604991,11.189206,10.397407,11.208203,11.441685,12.733688,10.448512,12.633002,12.69231,9.336145,9.515443,11.346715,12.479362,10.310722,12.5179405,11.523075,13.091821,11.73728,11.757528,10.293481,11.942131,11.471935,12.944034,10.826427,12.686882,9.611163,12.052734,11.077799,10.710759,10.370151,10.929097,12.787909,11.643512,10.933019,13.480967,11.778917,11.844417,9.352978,11.35264,9.275429,10.4162035,12.0647135,11.709612,11.506215,12.972064,11.551151,13.194379,12.432786,11.340956,13.735107,9.366731,9.339541,10.038354,13.5993805,10.069001,10.475174,10.623007,12.412999,9.378118,12.665849,10.35965,10.277065,10.42333,12.928521,11.887033,9.549812,12.00389,12.45408,11.307609,11.678804,9.697993,11.591103,14.046184,11.348982,11.022693,11.87667,12.642315,12.040063,10.146116,13.749391,10.310436,10.3179245],\"yaxis\":\"y\",\"type\":\"scatter\"},{\"hovertemplate\":\"tag=Bishop\\u003cbr\\u003ex=%{x}\\u003cbr\\u003ey=%{y}\\u003cextra\\u003e\\u003c\\u002fextra\\u003e\",\"legendgroup\":\"Bishop\",\"marker\":{\"color\":\"#FFA15A\",\"symbol\":\"circle\"},\"mode\":\"markers\",\"name\":\"Bishop\",\"orientation\":\"v\",\"showlegend\":true,\"x\":[8.567527,10.215308,11.504731,10.716249,10.179769,12.578523,11.152201,9.341238,9.690035,8.198101,11.457051,7.183051,12.507508,11.720461,9.764435,8.548415,9.953983,12.708539,9.116353,10.272363,11.831471,7.6287456,10.63926,11.276239,10.474741,6.3495355,4.0310273,9.641986,12.332528,10.773007,8.110927,11.515263,8.3236885,3.8950455,11.689713,11.5138035,9.55921,7.741857,10.015446,11.523006,8.177254,11.084567,3.1446378,10.325707,9.168986,10.153768,3.7487533,10.853381,10.648744,9.224575,8.4552,6.830579,7.716284,12.334915,10.961745,12.53431,7.6982408,11.927491,7.4566436,7.8493915,8.948577,9.399886,10.289014,6.5378814,6.428311,8.426494,8.8737955,9.399055,6.9811287,7.386962,8.646341,11.653833,8.378866,11.61996,10.347364,10.245637,6.7255087,9.588692,3.4559383,3.6945772,10.221651,8.02205,8.611988,10.114038,8.030523,11.5764475,11.364023],\"xaxis\":\"x\",\"y\":[12.448865,9.577068,10.043844,13.597831,13.449419,9.663636,11.795981,13.966409,12.1189785,11.049848,11.014821,12.762592,11.302385,10.916947,12.088194,13.317272,12.148288,11.565874,13.7701235,9.559023,12.994847,11.648197,12.167223,11.156773,13.504649,11.764844,9.401115,12.9860115,11.17772,9.37953,11.357139,13.030675,10.827716,9.32075,14.401665,10.538738,11.897714,11.662143,10.832179,10.735729,10.765377,10.682488,9.264775,13.516874,13.774857,12.993805,9.212512,11.08857,9.311267,10.109359,11.141607,12.23146,13.178477,9.816705,10.245448,9.6963415,13.1771,12.473435,13.1005335,11.269047,11.966922,10.831679,13.01725,12.429738,12.607121,10.668473,12.864054,11.797327,12.6198635,12.288212,13.396892,13.099696,13.028743,11.012433,11.971138,12.425272,12.675759,10.027689,9.394787,9.316261,12.366359,11.666242,13.370396,12.724936,10.9508705,11.141259,13.409343],\"yaxis\":\"y\",\"type\":\"scatter\"},{\"hovertemplate\":\"tag=Pawn\\u003cbr\\u003ex=%{x}\\u003cbr\\u003ey=%{y}\\u003cextra\\u003e\\u003c\\u002fextra\\u003e\",\"legendgroup\":\"Pawn\",\"marker\":{\"color\":\"#19d3f3\",\"symbol\":\"circle\"},\"mode\":\"markers\",\"name\":\"Pawn\",\"orientation\":\"v\",\"showlegend\":true,\"x\":[8.35668,9.433123,9.46215,11.770132,8.938641,7.8778157,4.20965,3.372449,4.248716,9.563361,11.70195,9.348936,9.944599,8.843332,9.370594,10.007296,9.10967,9.201854,10.731249,10.745197,6.503999,11.563726,9.39292,8.649647,9.692252,9.119604,11.682477,6.476477,11.891647,9.395629,11.635544,10.632931,6.343768,9.535334,9.375756,9.100277,10.821375,10.9498825,8.993613,6.3684335,9.2903385,8.573987,7.527741,6.9472857,8.829651,11.176811,8.675548,12.582088,8.283065,9.008352,6.256456,9.664834,9.006947,9.564977,8.373952,11.507882,3.774707,12.036179,11.136763,9.256097,10.189213,9.353726,6.2930684,8.443855,10.499752,11.140709,11.254187,9.982831,9.168189,9.522889,9.837054,9.371772,3.225736,9.51225,8.317367,9.359182,11.704431,7.019139,9.030717,9.011854,9.683038,6.759988,7.928194,9.345307,6.3342247,7.410871,10.8658085,11.796482,11.285773,8.888112,6.130671,11.120391,10.324749,9.630197,9.746869,12.039518,3.152697,10.341584,9.842322,9.316627,12.541732,7.7002296,8.019794,3.101565,10.852789,6.4849734],\"xaxis\":\"x\",\"y\":[13.102654,12.936619,9.827277,10.731636,11.821288,12.471766,9.428458,9.354792,9.505989,11.539552,10.689987,13.067574,10.759462,11.667347,9.999753,12.600231,12.777339,12.872497,11.134737,13.677036,12.081414,11.154326,12.59237,11.829502,9.736789,13.008434,14.344756,12.473168,12.768865,13.825831,10.492248,12.280071,12.522236,12.703436,9.855661,13.843897,11.780681,12.528372,11.16903,11.615507,10.56787,12.382598,12.981078,11.990085,10.269013,12.245667,12.698151,9.649266,10.918077,10.177634,11.98894,12.429468,10.288708,12.646271,10.801167,11.976553,9.305302,9.922937,11.751366,10.655239,13.404366,10.432137,12.033177,12.911311,12.399597,10.343416,10.113126,9.63991,10.550658,10.176411,12.211556,13.263166,9.28918,10.159321,11.222593,11.809586,10.879693,12.350237,13.492762,13.425244,9.695845,12.343323,12.367287,13.211504,12.463168,12.7273655,10.266451,10.423123,12.350666,12.400788,11.8025875,13.068774,9.461266,13.243101,12.500712,12.152743,9.139275,12.414349,12.287745,11.9269495,11.91029,11.240989,9.960912,9.22756,12.028985,12.407236],\"yaxis\":\"y\",\"type\":\"scatter\"}],                        {\"template\":{\"data\":{\"histogram2dcontour\":[{\"type\":\"histogram2dcontour\",\"colorbar\":{\"outlinewidth\":0,\"ticks\":\"\"},\"colorscale\":[[0.0,\"#0d0887\"],[0.1111111111111111,\"#46039f\"],[0.2222222222222222,\"#7201a8\"],[0.3333333333333333,\"#9c179e\"],[0.4444444444444444,\"#bd3786\"],[0.5555555555555556,\"#d8576b\"],[0.6666666666666666,\"#ed7953\"],[0.7777777777777778,\"#fb9f3a\"],[0.8888888888888888,\"#fdca26\"],[1.0,\"#f0f921\"]]}],\"choropleth\":[{\"type\":\"choropleth\",\"colorbar\":{\"outlinewidth\":0,\"ticks\":\"\"}}],\"histogram2d\":[{\"type\":\"histogram2d\",\"colorbar\":{\"outlinewidth\":0,\"ticks\":\"\"},\"colorscale\":[[0.0,\"#0d0887\"],[0.1111111111111111,\"#46039f\"],[0.2222222222222222,\"#7201a8\"],[0.3333333333333333,\"#9c179e\"],[0.4444444444444444,\"#bd3786\"],[0.5555555555555556,\"#d8576b\"],[0.6666666666666666,\"#ed7953\"],[0.7777777777777778,\"#fb9f3a\"],[0.8888888888888888,\"#fdca26\"],[1.0,\"#f0f921\"]]}],\"heatmap\":[{\"type\":\"heatmap\",\"colorbar\":{\"outlinewidth\":0,\"ticks\":\"\"},\"colorscale\":[[0.0,\"#0d0887\"],[0.1111111111111111,\"#46039f\"],[0.2222222222222222,\"#7201a8\"],[0.3333333333333333,\"#9c179e\"],[0.4444444444444444,\"#bd3786\"],[0.5555555555555556,\"#d8576b\"],[0.6666666666666666,\"#ed7953\"],[0.7777777777777778,\"#fb9f3a\"],[0.8888888888888888,\"#fdca26\"],[1.0,\"#f0f921\"]]}],\"heatmapgl\":[{\"type\":\"heatmapgl\",\"colorbar\":{\"outlinewidth\":0,\"ticks\":\"\"},\"colorscale\":[[0.0,\"#0d0887\"],[0.1111111111111111,\"#46039f\"],[0.2222222222222222,\"#7201a8\"],[0.3333333333333333,\"#9c179e\"],[0.4444444444444444,\"#bd3786\"],[0.5555555555555556,\"#d8576b\"],[0.6666666666666666,\"#ed7953\"],[0.7777777777777778,\"#fb9f3a\"],[0.8888888888888888,\"#fdca26\"],[1.0,\"#f0f921\"]]}],\"contourcarpet\":[{\"type\":\"contourcarpet\",\"colorbar\":{\"outlinewidth\":0,\"ticks\":\"\"}}],\"contour\":[{\"type\":\"contour\",\"colorbar\":{\"outlinewidth\":0,\"ticks\":\"\"},\"colorscale\":[[0.0,\"#0d0887\"],[0.1111111111111111,\"#46039f\"],[0.2222222222222222,\"#7201a8\"],[0.3333333333333333,\"#9c179e\"],[0.4444444444444444,\"#bd3786\"],[0.5555555555555556,\"#d8576b\"],[0.6666666666666666,\"#ed7953\"],[0.7777777777777778,\"#fb9f3a\"],[0.8888888888888888,\"#fdca26\"],[1.0,\"#f0f921\"]]}],\"surface\":[{\"type\":\"surface\",\"colorbar\":{\"outlinewidth\":0,\"ticks\":\"\"},\"colorscale\":[[0.0,\"#0d0887\"],[0.1111111111111111,\"#46039f\"],[0.2222222222222222,\"#7201a8\"],[0.3333333333333333,\"#9c179e\"],[0.4444444444444444,\"#bd3786\"],[0.5555555555555556,\"#d8576b\"],[0.6666666666666666,\"#ed7953\"],[0.7777777777777778,\"#fb9f3a\"],[0.8888888888888888,\"#fdca26\"],[1.0,\"#f0f921\"]]}],\"mesh3d\":[{\"type\":\"mesh3d\",\"colorbar\":{\"outlinewidth\":0,\"ticks\":\"\"}}],\"scatter\":[{\"fillpattern\":{\"fillmode\":\"overlay\",\"size\":10,\"solidity\":0.2},\"type\":\"scatter\"}],\"parcoords\":[{\"type\":\"parcoords\",\"line\":{\"colorbar\":{\"outlinewidth\":0,\"ticks\":\"\"}}}],\"scatterpolargl\":[{\"type\":\"scatterpolargl\",\"marker\":{\"colorbar\":{\"outlinewidth\":0,\"ticks\":\"\"}}}],\"bar\":[{\"error_x\":{\"color\":\"#2a3f5f\"},\"error_y\":{\"color\":\"#2a3f5f\"},\"marker\":{\"line\":{\"color\":\"#E5ECF6\",\"width\":0.5},\"pattern\":{\"fillmode\":\"overlay\",\"size\":10,\"solidity\":0.2}},\"type\":\"bar\"}],\"scattergeo\":[{\"type\":\"scattergeo\",\"marker\":{\"colorbar\":{\"outlinewidth\":0,\"ticks\":\"\"}}}],\"scatterpolar\":[{\"type\":\"scatterpolar\",\"marker\":{\"colorbar\":{\"outlinewidth\":0,\"ticks\":\"\"}}}],\"histogram\":[{\"marker\":{\"pattern\":{\"fillmode\":\"overlay\",\"size\":10,\"solidity\":0.2}},\"type\":\"histogram\"}],\"scattergl\":[{\"type\":\"scattergl\",\"marker\":{\"colorbar\":{\"outlinewidth\":0,\"ticks\":\"\"}}}],\"scatter3d\":[{\"type\":\"scatter3d\",\"line\":{\"colorbar\":{\"outlinewidth\":0,\"ticks\":\"\"}},\"marker\":{\"colorbar\":{\"outlinewidth\":0,\"ticks\":\"\"}}}],\"scattermapbox\":[{\"type\":\"scattermapbox\",\"marker\":{\"colorbar\":{\"outlinewidth\":0,\"ticks\":\"\"}}}],\"scatterternary\":[{\"type\":\"scatterternary\",\"marker\":{\"colorbar\":{\"outlinewidth\":0,\"ticks\":\"\"}}}],\"scattercarpet\":[{\"type\":\"scattercarpet\",\"marker\":{\"colorbar\":{\"outlinewidth\":0,\"ticks\":\"\"}}}],\"carpet\":[{\"aaxis\":{\"endlinecolor\":\"#2a3f5f\",\"gridcolor\":\"white\",\"linecolor\":\"white\",\"minorgridcolor\":\"white\",\"startlinecolor\":\"#2a3f5f\"},\"baxis\":{\"endlinecolor\":\"#2a3f5f\",\"gridcolor\":\"white\",\"linecolor\":\"white\",\"minorgridcolor\":\"white\",\"startlinecolor\":\"#2a3f5f\"},\"type\":\"carpet\"}],\"table\":[{\"cells\":{\"fill\":{\"color\":\"#EBF0F8\"},\"line\":{\"color\":\"white\"}},\"header\":{\"fill\":{\"color\":\"#C8D4E3\"},\"line\":{\"color\":\"white\"}},\"type\":\"table\"}],\"barpolar\":[{\"marker\":{\"line\":{\"color\":\"#E5ECF6\",\"width\":0.5},\"pattern\":{\"fillmode\":\"overlay\",\"size\":10,\"solidity\":0.2}},\"type\":\"barpolar\"}],\"pie\":[{\"automargin\":true,\"type\":\"pie\"}]},\"layout\":{\"autotypenumbers\":\"strict\",\"colorway\":[\"#636efa\",\"#EF553B\",\"#00cc96\",\"#ab63fa\",\"#FFA15A\",\"#19d3f3\",\"#FF6692\",\"#B6E880\",\"#FF97FF\",\"#FECB52\"],\"font\":{\"color\":\"#2a3f5f\"},\"hovermode\":\"closest\",\"hoverlabel\":{\"align\":\"left\"},\"paper_bgcolor\":\"white\",\"plot_bgcolor\":\"#E5ECF6\",\"polar\":{\"bgcolor\":\"#E5ECF6\",\"angularaxis\":{\"gridcolor\":\"white\",\"linecolor\":\"white\",\"ticks\":\"\"},\"radialaxis\":{\"gridcolor\":\"white\",\"linecolor\":\"white\",\"ticks\":\"\"}},\"ternary\":{\"bgcolor\":\"#E5ECF6\",\"aaxis\":{\"gridcolor\":\"white\",\"linecolor\":\"white\",\"ticks\":\"\"},\"baxis\":{\"gridcolor\":\"white\",\"linecolor\":\"white\",\"ticks\":\"\"},\"caxis\":{\"gridcolor\":\"white\",\"linecolor\":\"white\",\"ticks\":\"\"}},\"coloraxis\":{\"colorbar\":{\"outlinewidth\":0,\"ticks\":\"\"}},\"colorscale\":{\"sequential\":[[0.0,\"#0d0887\"],[0.1111111111111111,\"#46039f\"],[0.2222222222222222,\"#7201a8\"],[0.3333333333333333,\"#9c179e\"],[0.4444444444444444,\"#bd3786\"],[0.5555555555555556,\"#d8576b\"],[0.6666666666666666,\"#ed7953\"],[0.7777777777777778,\"#fb9f3a\"],[0.8888888888888888,\"#fdca26\"],[1.0,\"#f0f921\"]],\"sequentialminus\":[[0.0,\"#0d0887\"],[0.1111111111111111,\"#46039f\"],[0.2222222222222222,\"#7201a8\"],[0.3333333333333333,\"#9c179e\"],[0.4444444444444444,\"#bd3786\"],[0.5555555555555556,\"#d8576b\"],[0.6666666666666666,\"#ed7953\"],[0.7777777777777778,\"#fb9f3a\"],[0.8888888888888888,\"#fdca26\"],[1.0,\"#f0f921\"]],\"diverging\":[[0,\"#8e0152\"],[0.1,\"#c51b7d\"],[0.2,\"#de77ae\"],[0.3,\"#f1b6da\"],[0.4,\"#fde0ef\"],[0.5,\"#f7f7f7\"],[0.6,\"#e6f5d0\"],[0.7,\"#b8e186\"],[0.8,\"#7fbc41\"],[0.9,\"#4d9221\"],[1,\"#276419\"]]},\"xaxis\":{\"gridcolor\":\"white\",\"linecolor\":\"white\",\"ticks\":\"\",\"title\":{\"standoff\":15},\"zerolinecolor\":\"white\",\"automargin\":true,\"zerolinewidth\":2},\"yaxis\":{\"gridcolor\":\"white\",\"linecolor\":\"white\",\"ticks\":\"\",\"title\":{\"standoff\":15},\"zerolinecolor\":\"white\",\"automargin\":true,\"zerolinewidth\":2},\"scene\":{\"xaxis\":{\"backgroundcolor\":\"#E5ECF6\",\"gridcolor\":\"white\",\"linecolor\":\"white\",\"showbackground\":true,\"ticks\":\"\",\"zerolinecolor\":\"white\",\"gridwidth\":2},\"yaxis\":{\"backgroundcolor\":\"#E5ECF6\",\"gridcolor\":\"white\",\"linecolor\":\"white\",\"showbackground\":true,\"ticks\":\"\",\"zerolinecolor\":\"white\",\"gridwidth\":2},\"zaxis\":{\"backgroundcolor\":\"#E5ECF6\",\"gridcolor\":\"white\",\"linecolor\":\"white\",\"showbackground\":true,\"ticks\":\"\",\"zerolinecolor\":\"white\",\"gridwidth\":2}},\"shapedefaults\":{\"line\":{\"color\":\"#2a3f5f\"}},\"annotationdefaults\":{\"arrowcolor\":\"#2a3f5f\",\"arrowhead\":0,\"arrowwidth\":1},\"geo\":{\"bgcolor\":\"white\",\"landcolor\":\"#E5ECF6\",\"subunitcolor\":\"white\",\"showland\":true,\"showlakes\":true,\"lakecolor\":\"white\"},\"title\":{\"x\":0.05},\"mapbox\":{\"style\":\"light\"}}},\"xaxis\":{\"anchor\":\"y\",\"domain\":[0.0,1.0],\"title\":{\"text\":\"x\"}},\"yaxis\":{\"anchor\":\"x\",\"domain\":[0.0,1.0],\"title\":{\"text\":\"y\"}},\"legend\":{\"title\":{\"text\":\"tag\"},\"tracegroupgap\":0},\"margin\":{\"t\":60}},                        {\"responsive\": true}                    ).then(function(){\n",
       "                            \n",
       "var gd = document.getElementById('67f6682d-cf55-4ceb-949b-0d761c6f747b');\n",
       "var x = new MutationObserver(function (mutations, observer) {{\n",
       "        var display = window.getComputedStyle(gd).display;\n",
       "        if (!display || display === 'none') {{\n",
       "            console.log([gd, 'removed!']);\n",
       "            Plotly.purge(gd);\n",
       "            observer.disconnect();\n",
       "        }}\n",
       "}});\n",
       "\n",
       "// Listen for the removal of the full notebook cells\n",
       "var notebookContainer = gd.closest('#notebook-container');\n",
       "if (notebookContainer) {{\n",
       "    x.observe(notebookContainer, {childList: true});\n",
       "}}\n",
       "\n",
       "// Listen for the clearing of the current output cell\n",
       "var outputEl = gd.closest('.output');\n",
       "if (outputEl) {{\n",
       "    x.observe(outputEl, {childList: true});\n",
       "}}\n",
       "\n",
       "                        })                };                });            </script>        </div>"
      ]
     },
     "metadata": {},
     "output_type": "display_data"
    }
   ],
   "source": [
    "import warnings\n",
    "from plotly import express\n",
    "\n",
    "warnings.filterwarnings(action='ignore', category=FutureWarning)\n",
    "express.scatter(data_frame=df, x='x', y='y', color='tag')"
   ]
  }
 ],
 "metadata": {
  "kaggle": {
   "accelerator": "none",
   "dataSources": [
    {
     "datasetId": 292862,
     "sourceId": 600874,
     "sourceType": "datasetVersion"
    }
   ],
   "dockerImageVersionId": 30746,
   "isGpuEnabled": false,
   "isInternetEnabled": true,
   "language": "python",
   "sourceType": "notebook"
  },
  "kernelspec": {
   "display_name": "Python 3",
   "language": "python",
   "name": "python3"
  },
  "language_info": {
   "codemirror_mode": {
    "name": "ipython",
    "version": 3
   },
   "file_extension": ".py",
   "mimetype": "text/x-python",
   "name": "python",
   "nbconvert_exporter": "python",
   "pygments_lexer": "ipython3",
   "version": "3.10.13"
  },
  "papermill": {
   "default_parameters": {},
   "duration": 132.151839,
   "end_time": "2024-07-29T15:33:24.764255",
   "environment_variables": {},
   "exception": null,
   "input_path": "__notebook__.ipynb",
   "output_path": "__notebook__.ipynb",
   "parameters": {},
   "start_time": "2024-07-29T15:31:12.612416",
   "version": "2.5.0"
  },
  "widgets": {
   "application/vnd.jupyter.widget-state+json": {
    "state": {
     "2215a8850a14437fba1172227e2abd3a": {
      "model_module": "@jupyter-widgets/controls",
      "model_module_version": "1.5.0",
      "model_name": "DescriptionStyleModel",
      "state": {
       "_model_module": "@jupyter-widgets/controls",
       "_model_module_version": "1.5.0",
       "_model_name": "DescriptionStyleModel",
       "_view_count": null,
       "_view_module": "@jupyter-widgets/base",
       "_view_module_version": "1.2.0",
       "_view_name": "StyleView",
       "description_width": ""
      }
     },
     "3c3044e9fafc44ee886d8efbc0a3cdc9": {
      "model_module": "@jupyter-widgets/base",
      "model_module_version": "1.2.0",
      "model_name": "LayoutModel",
      "state": {
       "_model_module": "@jupyter-widgets/base",
       "_model_module_version": "1.2.0",
       "_model_name": "LayoutModel",
       "_view_count": null,
       "_view_module": "@jupyter-widgets/base",
       "_view_module_version": "1.2.0",
       "_view_name": "LayoutView",
       "align_content": null,
       "align_items": null,
       "align_self": null,
       "border": null,
       "bottom": null,
       "display": null,
       "flex": null,
       "flex_flow": null,
       "grid_area": null,
       "grid_auto_columns": null,
       "grid_auto_flow": null,
       "grid_auto_rows": null,
       "grid_column": null,
       "grid_gap": null,
       "grid_row": null,
       "grid_template_areas": null,
       "grid_template_columns": null,
       "grid_template_rows": null,
       "height": null,
       "justify_content": null,
       "justify_items": null,
       "left": null,
       "margin": null,
       "max_height": null,
       "max_width": null,
       "min_height": null,
       "min_width": null,
       "object_fit": null,
       "object_position": null,
       "order": null,
       "overflow": null,
       "overflow_x": null,
       "overflow_y": null,
       "padding": null,
       "right": null,
       "top": null,
       "visibility": null,
       "width": null
      }
     },
     "44f717701c3f44c89cef4b94f1fb37a8": {
      "model_module": "@jupyter-widgets/controls",
      "model_module_version": "1.5.0",
      "model_name": "ProgressStyleModel",
      "state": {
       "_model_module": "@jupyter-widgets/controls",
       "_model_module_version": "1.5.0",
       "_model_name": "ProgressStyleModel",
       "_view_count": null,
       "_view_module": "@jupyter-widgets/base",
       "_view_module_version": "1.2.0",
       "_view_name": "StyleView",
       "bar_color": null,
       "description_width": ""
      }
     },
     "4835c13323094749ac6e48970f95b947": {
      "model_module": "@jupyter-widgets/base",
      "model_module_version": "1.2.0",
      "model_name": "LayoutModel",
      "state": {
       "_model_module": "@jupyter-widgets/base",
       "_model_module_version": "1.2.0",
       "_model_name": "LayoutModel",
       "_view_count": null,
       "_view_module": "@jupyter-widgets/base",
       "_view_module_version": "1.2.0",
       "_view_name": "LayoutView",
       "align_content": null,
       "align_items": null,
       "align_self": null,
       "border": null,
       "bottom": null,
       "display": null,
       "flex": null,
       "flex_flow": null,
       "grid_area": null,
       "grid_auto_columns": null,
       "grid_auto_flow": null,
       "grid_auto_rows": null,
       "grid_column": null,
       "grid_gap": null,
       "grid_row": null,
       "grid_template_areas": null,
       "grid_template_columns": null,
       "grid_template_rows": null,
       "height": null,
       "justify_content": null,
       "justify_items": null,
       "left": null,
       "margin": null,
       "max_height": null,
       "max_width": null,
       "min_height": null,
       "min_width": null,
       "object_fit": null,
       "object_position": null,
       "order": null,
       "overflow": null,
       "overflow_x": null,
       "overflow_y": null,
       "padding": null,
       "right": null,
       "top": null,
       "visibility": null,
       "width": null
      }
     },
     "56ee18fceea4497693681dadeecd172b": {
      "model_module": "@jupyter-widgets/base",
      "model_module_version": "1.2.0",
      "model_name": "LayoutModel",
      "state": {
       "_model_module": "@jupyter-widgets/base",
       "_model_module_version": "1.2.0",
       "_model_name": "LayoutModel",
       "_view_count": null,
       "_view_module": "@jupyter-widgets/base",
       "_view_module_version": "1.2.0",
       "_view_name": "LayoutView",
       "align_content": null,
       "align_items": null,
       "align_self": null,
       "border": null,
       "bottom": null,
       "display": null,
       "flex": null,
       "flex_flow": null,
       "grid_area": null,
       "grid_auto_columns": null,
       "grid_auto_flow": null,
       "grid_auto_rows": null,
       "grid_column": null,
       "grid_gap": null,
       "grid_row": null,
       "grid_template_areas": null,
       "grid_template_columns": null,
       "grid_template_rows": null,
       "height": null,
       "justify_content": null,
       "justify_items": null,
       "left": null,
       "margin": null,
       "max_height": null,
       "max_width": null,
       "min_height": null,
       "min_width": null,
       "object_fit": null,
       "object_position": null,
       "order": null,
       "overflow": null,
       "overflow_x": null,
       "overflow_y": null,
       "padding": null,
       "right": null,
       "top": null,
       "visibility": null,
       "width": null
      }
     },
     "66304d9a87654036a378352fba55baae": {
      "model_module": "@jupyter-widgets/controls",
      "model_module_version": "1.5.0",
      "model_name": "FloatProgressModel",
      "state": {
       "_dom_classes": [],
       "_model_module": "@jupyter-widgets/controls",
       "_model_module_version": "1.5.0",
       "_model_name": "FloatProgressModel",
       "_view_count": null,
       "_view_module": "@jupyter-widgets/controls",
       "_view_module_version": "1.5.0",
       "_view_name": "ProgressView",
       "bar_style": "success",
       "description": "",
       "description_tooltip": null,
       "layout": "IPY_MODEL_3c3044e9fafc44ee886d8efbc0a3cdc9",
       "max": 500.0,
       "min": 0.0,
       "orientation": "horizontal",
       "style": "IPY_MODEL_44f717701c3f44c89cef4b94f1fb37a8",
       "value": 500.0
      }
     },
     "67219075957641c581a89499b743c1f0": {
      "model_module": "@jupyter-widgets/controls",
      "model_module_version": "1.5.0",
      "model_name": "HBoxModel",
      "state": {
       "_dom_classes": [],
       "_model_module": "@jupyter-widgets/controls",
       "_model_module_version": "1.5.0",
       "_model_name": "HBoxModel",
       "_view_count": null,
       "_view_module": "@jupyter-widgets/controls",
       "_view_module_version": "1.5.0",
       "_view_name": "HBoxView",
       "box_style": "",
       "children": [
        "IPY_MODEL_d26c0fcc65894dad81368a133c2e59b6",
        "IPY_MODEL_66304d9a87654036a378352fba55baae",
        "IPY_MODEL_f7ee0d51bf9245d6a9f576c27d77b729"
       ],
       "layout": "IPY_MODEL_56ee18fceea4497693681dadeecd172b"
      }
     },
     "7d1f498e24c34ffa9c7019e6acb61948": {
      "model_module": "@jupyter-widgets/controls",
      "model_module_version": "1.5.0",
      "model_name": "DescriptionStyleModel",
      "state": {
       "_model_module": "@jupyter-widgets/controls",
       "_model_module_version": "1.5.0",
       "_model_name": "DescriptionStyleModel",
       "_view_count": null,
       "_view_module": "@jupyter-widgets/base",
       "_view_module_version": "1.2.0",
       "_view_name": "StyleView",
       "description_width": ""
      }
     },
     "b7400ff74b714466ad98e4923df8032b": {
      "model_module": "@jupyter-widgets/base",
      "model_module_version": "1.2.0",
      "model_name": "LayoutModel",
      "state": {
       "_model_module": "@jupyter-widgets/base",
       "_model_module_version": "1.2.0",
       "_model_name": "LayoutModel",
       "_view_count": null,
       "_view_module": "@jupyter-widgets/base",
       "_view_module_version": "1.2.0",
       "_view_name": "LayoutView",
       "align_content": null,
       "align_items": null,
       "align_self": null,
       "border": null,
       "bottom": null,
       "display": null,
       "flex": null,
       "flex_flow": null,
       "grid_area": null,
       "grid_auto_columns": null,
       "grid_auto_flow": null,
       "grid_auto_rows": null,
       "grid_column": null,
       "grid_gap": null,
       "grid_row": null,
       "grid_template_areas": null,
       "grid_template_columns": null,
       "grid_template_rows": null,
       "height": null,
       "justify_content": null,
       "justify_items": null,
       "left": null,
       "margin": null,
       "max_height": null,
       "max_width": null,
       "min_height": null,
       "min_width": null,
       "object_fit": null,
       "object_position": null,
       "order": null,
       "overflow": null,
       "overflow_x": null,
       "overflow_y": null,
       "padding": null,
       "right": null,
       "top": null,
       "visibility": null,
       "width": null
      }
     },
     "d26c0fcc65894dad81368a133c2e59b6": {
      "model_module": "@jupyter-widgets/controls",
      "model_module_version": "1.5.0",
      "model_name": "HTMLModel",
      "state": {
       "_dom_classes": [],
       "_model_module": "@jupyter-widgets/controls",
       "_model_module_version": "1.5.0",
       "_model_name": "HTMLModel",
       "_view_count": null,
       "_view_module": "@jupyter-widgets/controls",
       "_view_module_version": "1.5.0",
       "_view_name": "HTMLView",
       "description": "",
       "description_tooltip": null,
       "layout": "IPY_MODEL_b7400ff74b714466ad98e4923df8032b",
       "placeholder": "​",
       "style": "IPY_MODEL_2215a8850a14437fba1172227e2abd3a",
       "value": "Epochs completed: 100%| "
      }
     },
     "f7ee0d51bf9245d6a9f576c27d77b729": {
      "model_module": "@jupyter-widgets/controls",
      "model_module_version": "1.5.0",
      "model_name": "HTMLModel",
      "state": {
       "_dom_classes": [],
       "_model_module": "@jupyter-widgets/controls",
       "_model_module_version": "1.5.0",
       "_model_name": "HTMLModel",
       "_view_count": null,
       "_view_module": "@jupyter-widgets/controls",
       "_view_module_version": "1.5.0",
       "_view_name": "HTMLView",
       "description": "",
       "description_tooltip": null,
       "layout": "IPY_MODEL_4835c13323094749ac6e48970f95b947",
       "placeholder": "​",
       "style": "IPY_MODEL_7d1f498e24c34ffa9c7019e6acb61948",
       "value": " 500/500 [00:02]"
      }
     }
    },
    "version_major": 2,
    "version_minor": 0
   }
  }
 },
 "nbformat": 4,
 "nbformat_minor": 5
}
