{
 "cells": [
  {
   "cell_type": "code",
   "execution_count": 1,
   "id": "50e91d87",
   "metadata": {
    "_cell_guid": "b1076dfc-b9ad-4769-8c92-a6c4dae69d19",
    "_uuid": "8f2839f25d086af736a60e9eeb907d3b93b6e0e5",
    "execution": {
     "iopub.execute_input": "2024-07-28T15:17:54.753461Z",
     "iopub.status.busy": "2024-07-28T15:17:54.753008Z",
     "iopub.status.idle": "2024-07-28T15:17:54.867529Z",
     "shell.execute_reply": "2024-07-28T15:17:54.866439Z"
    },
    "papermill": {
     "duration": 0.123074,
     "end_time": "2024-07-28T15:17:54.870237",
     "exception": false,
     "start_time": "2024-07-28T15:17:54.747163",
     "status": "completed"
    },
    "tags": []
   },
   "outputs": [
    {
     "name": "stdout",
     "output_type": "stream",
     "text": [
      "Counter({'.jpg': 465, '.png': 69, '.JPG': 10, '.jpeg': 7, '.fcgi': 2, '.php': 1, '.webp': 1, '.gif': 1})\n"
     ]
    }
   ],
   "source": [
    "# what kind of files do we have?\n",
    "from glob import glob\n",
    "from pathlib import Path\n",
    "from collections import Counter\n",
    "\n",
    "GLOB = '/kaggle/input/chessman-image-dataset/Chessman-image-dataset/Chess/*/*'\n",
    "suffixes = Counter([Path(input_file).suffix for input_file in glob(pathname=GLOB)])\n",
    "\n",
    "print(suffixes)"
   ]
  },
  {
   "cell_type": "markdown",
   "id": "d00eb07b",
   "metadata": {
    "papermill": {
     "duration": 0.002713,
     "end_time": "2024-07-28T15:17:54.876295",
     "exception": false,
     "start_time": "2024-07-28T15:17:54.873582",
     "status": "completed"
    },
    "tags": []
   },
   "source": [
    "We have some files that are not images and we need to be sure to ignore them."
   ]
  },
  {
   "cell_type": "markdown",
   "id": "b5f3c867",
   "metadata": {
    "papermill": {
     "duration": 0.002643,
     "end_time": "2024-07-28T15:17:54.881822",
     "exception": false,
     "start_time": "2024-07-28T15:17:54.879179",
     "status": "completed"
    },
    "tags": []
   },
   "source": [
    "Let's build a DataFrame of tags and file names."
   ]
  },
  {
   "cell_type": "code",
   "execution_count": 2,
   "id": "aafa625e",
   "metadata": {
    "execution": {
     "iopub.execute_input": "2024-07-28T15:17:54.890072Z",
     "iopub.status.busy": "2024-07-28T15:17:54.889211Z",
     "iopub.status.idle": "2024-07-28T15:17:55.949462Z",
     "shell.execute_reply": "2024-07-28T15:17:55.948373Z"
    },
    "papermill": {
     "duration": 1.067617,
     "end_time": "2024-07-28T15:17:55.952399",
     "exception": false,
     "start_time": "2024-07-28T15:17:54.884782",
     "status": "completed"
    },
    "tags": []
   },
   "outputs": [],
   "source": [
    "import pandas as pd\n",
    "from pathlib import Path\n",
    "\n",
    "SUFFIXES = {'.jpg', '.png', '.JPG', '.jpeg', '.gif'}\n",
    "data = []\n",
    "for input_file in glob(pathname=GLOB):\n",
    "    path = Path(input_file)\n",
    "    if path.suffix in SUFFIXES:\n",
    "        data.append(pd.Series(data={'tag': str(path.parents[0]).split('/')[-1], 'name': input_file}))\n",
    "df = pd.DataFrame(data=data)"
   ]
  },
  {
   "cell_type": "code",
   "execution_count": 3,
   "id": "3a58e75b",
   "metadata": {
    "execution": {
     "iopub.execute_input": "2024-07-28T15:17:55.960461Z",
     "iopub.status.busy": "2024-07-28T15:17:55.959977Z",
     "iopub.status.idle": "2024-07-28T15:17:55.977017Z",
     "shell.execute_reply": "2024-07-28T15:17:55.975896Z"
    },
    "papermill": {
     "duration": 0.023821,
     "end_time": "2024-07-28T15:17:55.979455",
     "exception": false,
     "start_time": "2024-07-28T15:17:55.955634",
     "status": "completed"
    },
    "tags": []
   },
   "outputs": [
    {
     "data": {
      "text/plain": [
       "tag\n",
       "Pawn      106\n",
       "Knight    105\n",
       "Rook      102\n",
       "Bishop     87\n",
       "Queen      77\n",
       "King       75\n",
       "Name: count, dtype: int64"
      ]
     },
     "execution_count": 3,
     "metadata": {},
     "output_type": "execute_result"
    }
   ],
   "source": [
    "df['tag'].value_counts()"
   ]
  },
  {
   "cell_type": "code",
   "execution_count": 4,
   "id": "acdca1af",
   "metadata": {
    "execution": {
     "iopub.execute_input": "2024-07-28T15:17:55.987724Z",
     "iopub.status.busy": "2024-07-28T15:17:55.987348Z",
     "iopub.status.idle": "2024-07-28T15:18:47.544488Z",
     "shell.execute_reply": "2024-07-28T15:18:47.543257Z"
    },
    "papermill": {
     "duration": 51.564451,
     "end_time": "2024-07-28T15:18:47.547358",
     "exception": false,
     "start_time": "2024-07-28T15:17:55.982907",
     "status": "completed"
    },
    "tags": []
   },
   "outputs": [
    {
     "name": "stderr",
     "output_type": "stream",
     "text": [
      "Downloading: \"https://download.pytorch.org/models/resnet18-f37072fd.pth\" to /root/.cache/torch/hub/checkpoints/resnet18-f37072fd.pth\n",
      "100%|██████████| 44.7M/44.7M [00:00<00:00, 53.2MB/s]\n"
     ]
    }
   ],
   "source": [
    "import torch\n",
    "import torchvision.models as models\n",
    "import torchvision.transforms as transforms\n",
    "from PIL import Image\n",
    "\n",
    "device = torch.device('cpu')\n",
    "model = models.resnet18(weights=models.ResNet18_Weights.IMAGENET1K_V1).to(device=device)\n",
    "model.eval()\n",
    "\n",
    "layer = model._modules.get('avgpool')\n",
    "\n",
    "layer_output_size = 512\n",
    "\n",
    "scaler = transforms.Resize((224, 224))\n",
    "normalize = transforms.Normalize(mean=[0.485, 0.456, 0.406], std=[0.229, 0.224, 0.225])\n",
    "to_tensor = transforms.ToTensor()\n",
    "\n",
    "df['data'] = df['name'].apply(func=lambda x: Image.open(fp=x, mode='r').convert('RGB'))\n",
    "model_input = [normalize(to_tensor(scaler(item))) for item in df['data'].tolist()]\n",
    "images = torch.stack(model_input).to(device)\n",
    "df['value'] = [item.detach().numpy() for item in model(images)]\n",
    "df = df.drop(columns=['data'])\n"
   ]
  }
 ],
 "metadata": {
  "kaggle": {
   "accelerator": "none",
   "dataSources": [
    {
     "datasetId": 292862,
     "sourceId": 600874,
     "sourceType": "datasetVersion"
    }
   ],
   "dockerImageVersionId": 30746,
   "isGpuEnabled": false,
   "isInternetEnabled": true,
   "language": "python",
   "sourceType": "notebook"
  },
  "kernelspec": {
   "display_name": "Python 3",
   "language": "python",
   "name": "python3"
  },
  "language_info": {
   "codemirror_mode": {
    "name": "ipython",
    "version": 3
   },
   "file_extension": ".py",
   "mimetype": "text/x-python",
   "name": "python",
   "nbconvert_exporter": "python",
   "pygments_lexer": "ipython3",
   "version": "3.10.13"
  },
  "papermill": {
   "default_parameters": {},
   "duration": 58.138276,
   "end_time": "2024-07-28T15:18:49.856505",
   "environment_variables": {},
   "exception": null,
   "input_path": "__notebook__.ipynb",
   "output_path": "__notebook__.ipynb",
   "parameters": {},
   "start_time": "2024-07-28T15:17:51.718229",
   "version": "2.5.0"
  }
 },
 "nbformat": 4,
 "nbformat_minor": 5
}
