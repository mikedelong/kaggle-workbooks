{
 "cells": [
  {
   "cell_type": "code",
   "execution_count": 1,
   "id": "48ac61ff",
   "metadata": {
    "_cell_guid": "b1076dfc-b9ad-4769-8c92-a6c4dae69d19",
    "_uuid": "8f2839f25d086af736a60e9eeb907d3b93b6e0e5",
    "execution": {
     "iopub.execute_input": "2024-07-28T12:50:50.006017Z",
     "iopub.status.busy": "2024-07-28T12:50:50.005611Z",
     "iopub.status.idle": "2024-07-28T12:50:50.103890Z",
     "shell.execute_reply": "2024-07-28T12:50:50.102596Z"
    },
    "papermill": {
     "duration": 0.106198,
     "end_time": "2024-07-28T12:50:50.106972",
     "exception": false,
     "start_time": "2024-07-28T12:50:50.000774",
     "status": "completed"
    },
    "tags": []
   },
   "outputs": [
    {
     "name": "stdout",
     "output_type": "stream",
     "text": [
      "Counter({'.jpg': 465, '.png': 69, '.JPG': 10, '.jpeg': 7, '.fcgi': 2, '.php': 1, '.webp': 1, '.gif': 1})\n"
     ]
    }
   ],
   "source": [
    "# what kind of files do we have?\n",
    "from glob import glob\n",
    "from pathlib import Path\n",
    "from collections import Counter\n",
    "\n",
    "GLOB = '/kaggle/input/chessman-image-dataset/Chessman-image-dataset/Chess/*/*'\n",
    "suffixes = Counter([Path(input_file).suffix for input_file in glob(pathname=GLOB)])\n",
    "\n",
    "print(suffixes)"
   ]
  },
  {
   "cell_type": "markdown",
   "id": "1271fdfb",
   "metadata": {
    "papermill": {
     "duration": 0.002638,
     "end_time": "2024-07-28T12:50:50.112700",
     "exception": false,
     "start_time": "2024-07-28T12:50:50.110062",
     "status": "completed"
    },
    "tags": []
   },
   "source": [
    "We have some files that are not images and we need to be sure to ignore them."
   ]
  },
  {
   "cell_type": "code",
   "execution_count": 2,
   "id": "aaeb8cae",
   "metadata": {
    "execution": {
     "iopub.execute_input": "2024-07-28T12:50:50.119931Z",
     "iopub.status.busy": "2024-07-28T12:50:50.119489Z",
     "iopub.status.idle": "2024-07-28T12:50:50.142921Z",
     "shell.execute_reply": "2024-07-28T12:50:50.141718Z"
    },
    "papermill": {
     "duration": 0.030778,
     "end_time": "2024-07-28T12:50:50.146268",
     "exception": false,
     "start_time": "2024-07-28T12:50:50.115490",
     "status": "completed"
    },
    "tags": []
   },
   "outputs": [],
   "source": [
    "from PIL import Image\n",
    "\n",
    "this_file = '/kaggle/input/chessman-image-dataset/Chessman-image-dataset/Chess/Bishop/00000000.JPG'\n",
    "data = Image.open(this_file).convert('RGB')\n"
   ]
  },
  {
   "cell_type": "code",
   "execution_count": 3,
   "id": "43cbb324",
   "metadata": {
    "execution": {
     "iopub.execute_input": "2024-07-28T12:50:50.154036Z",
     "iopub.status.busy": "2024-07-28T12:50:50.153644Z",
     "iopub.status.idle": "2024-07-28T12:50:57.632122Z",
     "shell.execute_reply": "2024-07-28T12:50:57.630668Z"
    },
    "papermill": {
     "duration": 7.485745,
     "end_time": "2024-07-28T12:50:57.635114",
     "exception": false,
     "start_time": "2024-07-28T12:50:50.149369",
     "status": "completed"
    },
    "tags": []
   },
   "outputs": [
    {
     "name": "stderr",
     "output_type": "stream",
     "text": [
      "Downloading: \"https://download.pytorch.org/models/resnet18-f37072fd.pth\" to /root/.cache/torch/hub/checkpoints/resnet18-f37072fd.pth\n",
      "100%|██████████| 44.7M/44.7M [00:00<00:00, 101MB/s]\n"
     ]
    }
   ],
   "source": [
    "import torch\n",
    "import torchvision.models as models\n",
    "import torchvision.transforms as transforms\n",
    "\n",
    "device = torch.device('cpu')\n",
    "model = models.resnet18(weights=models.ResNet18_Weights.IMAGENET1K_V1).to(device=device)\n",
    "model.eval()\n",
    "\n",
    "layer = model._modules.get('avgpool')\n",
    "\n",
    "layer_output_size = 512\n",
    "\n",
    "scaler = transforms.Resize((224, 224))\n",
    "normalize = transforms.Normalize(mean=[0.485, 0.456, 0.406], std=[0.229, 0.224, 0.225])\n",
    "to_tensor = transforms.ToTensor()\n",
    "\n",
    "item = normalize(to_tensor(scaler(data)))\n",
    "items = list(item)\n",
    "images = torch.stack(items).to(device)\n",
    "# result = model(images)\n",
    "# result = torch.zeros(len(images[0]), layer_output_size, 1, 1)\n"
   ]
  }
 ],
 "metadata": {
  "kaggle": {
   "accelerator": "none",
   "dataSources": [
    {
     "datasetId": 292862,
     "sourceId": 600874,
     "sourceType": "datasetVersion"
    }
   ],
   "dockerImageVersionId": 30746,
   "isGpuEnabled": false,
   "isInternetEnabled": true,
   "language": "python",
   "sourceType": "notebook"
  },
  "kernelspec": {
   "display_name": "Python 3",
   "language": "python",
   "name": "python3"
  },
  "language_info": {
   "codemirror_mode": {
    "name": "ipython",
    "version": 3
   },
   "file_extension": ".py",
   "mimetype": "text/x-python",
   "name": "python",
   "nbconvert_exporter": "python",
   "pygments_lexer": "ipython3",
   "version": "3.10.13"
  },
  "papermill": {
   "default_parameters": {},
   "duration": 12.034789,
   "end_time": "2024-07-28T12:50:58.764466",
   "environment_variables": {},
   "exception": null,
   "input_path": "__notebook__.ipynb",
   "output_path": "__notebook__.ipynb",
   "parameters": {},
   "start_time": "2024-07-28T12:50:46.729677",
   "version": "2.5.0"
  }
 },
 "nbformat": 4,
 "nbformat_minor": 5
}
