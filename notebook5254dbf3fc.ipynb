{
 "cells": [
  {
   "cell_type": "code",
   "execution_count": 1,
   "id": "585995d2",
   "metadata": {
    "execution": {
     "iopub.execute_input": "2024-11-08T19:05:49.411926Z",
     "iopub.status.busy": "2024-11-08T19:05:49.411283Z",
     "iopub.status.idle": "2024-11-08T19:06:06.139757Z",
     "shell.execute_reply": "2024-11-08T19:06:06.138240Z"
    },
    "papermill": {
     "duration": 16.738678,
     "end_time": "2024-11-08T19:06:06.143121",
     "exception": false,
     "start_time": "2024-11-08T19:05:49.404443",
     "status": "completed"
    },
    "tags": []
   },
   "outputs": [],
   "source": [
    "!pip install --quiet umap-learn"
   ]
  },
  {
   "cell_type": "code",
   "execution_count": 2,
   "id": "558a768b",
   "metadata": {
    "_cell_guid": "b1076dfc-b9ad-4769-8c92-a6c4dae69d19",
    "_uuid": "8f2839f25d086af736a60e9eeb907d3b93b6e0e5",
    "execution": {
     "iopub.execute_input": "2024-11-08T19:06:06.154054Z",
     "iopub.status.busy": "2024-11-08T19:06:06.153544Z",
     "iopub.status.idle": "2024-11-08T19:06:07.197060Z",
     "shell.execute_reply": "2024-11-08T19:06:07.195737Z"
    },
    "papermill": {
     "duration": 1.052072,
     "end_time": "2024-11-08T19:06:07.199891",
     "exception": false,
     "start_time": "2024-11-08T19:06:06.147819",
     "status": "completed"
    },
    "tags": []
   },
   "outputs": [
    {
     "data": {
      "text/html": [
       "<div>\n",
       "<style scoped>\n",
       "    .dataframe tbody tr th:only-of-type {\n",
       "        vertical-align: middle;\n",
       "    }\n",
       "\n",
       "    .dataframe tbody tr th {\n",
       "        vertical-align: top;\n",
       "    }\n",
       "\n",
       "    .dataframe thead th {\n",
       "        text-align: right;\n",
       "    }\n",
       "</style>\n",
       "<table border=\"1\" class=\"dataframe\">\n",
       "  <thead>\n",
       "    <tr style=\"text-align: right;\">\n",
       "      <th></th>\n",
       "      <th>name</th>\n",
       "      <th>intelligence</th>\n",
       "      <th>strength</th>\n",
       "      <th>speed</th>\n",
       "      <th>durability</th>\n",
       "      <th>power</th>\n",
       "      <th>combat</th>\n",
       "      <th>full-name</th>\n",
       "      <th>alter-egos</th>\n",
       "      <th>aliases</th>\n",
       "      <th>...</th>\n",
       "      <th>race</th>\n",
       "      <th>height</th>\n",
       "      <th>weight</th>\n",
       "      <th>eye-color</th>\n",
       "      <th>hair-color</th>\n",
       "      <th>occupation</th>\n",
       "      <th>base</th>\n",
       "      <th>group-affiliation</th>\n",
       "      <th>relatives</th>\n",
       "      <th>url</th>\n",
       "    </tr>\n",
       "    <tr>\n",
       "      <th>id</th>\n",
       "      <th></th>\n",
       "      <th></th>\n",
       "      <th></th>\n",
       "      <th></th>\n",
       "      <th></th>\n",
       "      <th></th>\n",
       "      <th></th>\n",
       "      <th></th>\n",
       "      <th></th>\n",
       "      <th></th>\n",
       "      <th></th>\n",
       "      <th></th>\n",
       "      <th></th>\n",
       "      <th></th>\n",
       "      <th></th>\n",
       "      <th></th>\n",
       "      <th></th>\n",
       "      <th></th>\n",
       "      <th></th>\n",
       "      <th></th>\n",
       "      <th></th>\n",
       "    </tr>\n",
       "  </thead>\n",
       "  <tbody>\n",
       "    <tr>\n",
       "      <th>1</th>\n",
       "      <td>A-Bomb</td>\n",
       "      <td>38.0</td>\n",
       "      <td>100.0</td>\n",
       "      <td>17.0</td>\n",
       "      <td>80.0</td>\n",
       "      <td>24.0</td>\n",
       "      <td>64.0</td>\n",
       "      <td>Richard Milhouse Jones</td>\n",
       "      <td>No alter egos found.</td>\n",
       "      <td>['Rick Jones']</td>\n",
       "      <td>...</td>\n",
       "      <td>Human</td>\n",
       "      <td>[\"6'8\", '203 cm']</td>\n",
       "      <td>['980 lb', '441 kg']</td>\n",
       "      <td>Yellow</td>\n",
       "      <td>No Hair</td>\n",
       "      <td>Musician, adventurer, author; formerly talk sh...</td>\n",
       "      <td>-</td>\n",
       "      <td>Hulk Family; Excelsior (sponsor), Avengers (ho...</td>\n",
       "      <td>Marlo Chandler-Jones (wife); Polly (aunt); Mrs...</td>\n",
       "      <td>https://www.superherodb.com/pictures2/portrait...</td>\n",
       "    </tr>\n",
       "    <tr>\n",
       "      <th>2</th>\n",
       "      <td>Abe Sapien</td>\n",
       "      <td>88.0</td>\n",
       "      <td>28.0</td>\n",
       "      <td>35.0</td>\n",
       "      <td>65.0</td>\n",
       "      <td>100.0</td>\n",
       "      <td>85.0</td>\n",
       "      <td>Abraham Sapien</td>\n",
       "      <td>No alter egos found.</td>\n",
       "      <td>['Langdon Everett Caul', 'Abraham Sapien', 'La...</td>\n",
       "      <td>...</td>\n",
       "      <td>Icthyo Sapien</td>\n",
       "      <td>[\"6'3\", '191 cm']</td>\n",
       "      <td>['145 lb', '65 kg']</td>\n",
       "      <td>Blue</td>\n",
       "      <td>No Hair</td>\n",
       "      <td>Paranormal Investigator</td>\n",
       "      <td>-</td>\n",
       "      <td>Bureau for Paranormal Research and Defense</td>\n",
       "      <td>Edith Howard (wife, deceased)</td>\n",
       "      <td>https://www.superherodb.com/pictures2/portrait...</td>\n",
       "    </tr>\n",
       "    <tr>\n",
       "      <th>3</th>\n",
       "      <td>Abin Sur</td>\n",
       "      <td>50.0</td>\n",
       "      <td>90.0</td>\n",
       "      <td>53.0</td>\n",
       "      <td>64.0</td>\n",
       "      <td>99.0</td>\n",
       "      <td>65.0</td>\n",
       "      <td>NaN</td>\n",
       "      <td>No alter egos found.</td>\n",
       "      <td>['Lagzia']</td>\n",
       "      <td>...</td>\n",
       "      <td>Ungaran</td>\n",
       "      <td>[\"6'1\", '185 cm']</td>\n",
       "      <td>['200 lb', '90 kg']</td>\n",
       "      <td>Blue</td>\n",
       "      <td>No Hair</td>\n",
       "      <td>Green Lantern, former history professor</td>\n",
       "      <td>Oa</td>\n",
       "      <td>Green Lantern Corps, Black Lantern Corps</td>\n",
       "      <td>Amon Sur (son), Arin Sur (sister), Thaal Sines...</td>\n",
       "      <td>https://www.superherodb.com/pictures2/portrait...</td>\n",
       "    </tr>\n",
       "    <tr>\n",
       "      <th>4</th>\n",
       "      <td>Abomination</td>\n",
       "      <td>63.0</td>\n",
       "      <td>80.0</td>\n",
       "      <td>53.0</td>\n",
       "      <td>90.0</td>\n",
       "      <td>62.0</td>\n",
       "      <td>95.0</td>\n",
       "      <td>Emil Blonsky</td>\n",
       "      <td>No alter egos found.</td>\n",
       "      <td>['Agent R-7', 'Ravager of Worlds']</td>\n",
       "      <td>...</td>\n",
       "      <td>Human / Radiation</td>\n",
       "      <td>[\"6'8\", '203 cm']</td>\n",
       "      <td>['980 lb', '441 kg']</td>\n",
       "      <td>Green</td>\n",
       "      <td>No Hair</td>\n",
       "      <td>Ex-Spy</td>\n",
       "      <td>Mobile</td>\n",
       "      <td>former member of the crew of the Andromeda Sta...</td>\n",
       "      <td>Nadia Dornova Blonsky (wife, separated)</td>\n",
       "      <td>https://www.superherodb.com/pictures2/portrait...</td>\n",
       "    </tr>\n",
       "    <tr>\n",
       "      <th>5</th>\n",
       "      <td>Abraxas</td>\n",
       "      <td>88.0</td>\n",
       "      <td>63.0</td>\n",
       "      <td>83.0</td>\n",
       "      <td>100.0</td>\n",
       "      <td>100.0</td>\n",
       "      <td>55.0</td>\n",
       "      <td>Abraxas</td>\n",
       "      <td>No alter egos found.</td>\n",
       "      <td>['-']</td>\n",
       "      <td>...</td>\n",
       "      <td>Cosmic Entity</td>\n",
       "      <td>['-', '0 cm']</td>\n",
       "      <td>['- lb', '0 kg']</td>\n",
       "      <td>Blue</td>\n",
       "      <td>Black</td>\n",
       "      <td>Dimensional destroyer</td>\n",
       "      <td>-</td>\n",
       "      <td>Cosmic Beings</td>\n",
       "      <td>Eternity (\"Father\")</td>\n",
       "      <td>https://www.superherodb.com/pictures2/portrait...</td>\n",
       "    </tr>\n",
       "  </tbody>\n",
       "</table>\n",
       "<p>5 rows × 25 columns</p>\n",
       "</div>"
      ],
      "text/plain": [
       "           name  intelligence  strength  speed  durability  power  combat  \\\n",
       "id                                                                          \n",
       "1        A-Bomb          38.0     100.0   17.0        80.0   24.0    64.0   \n",
       "2    Abe Sapien          88.0      28.0   35.0        65.0  100.0    85.0   \n",
       "3      Abin Sur          50.0      90.0   53.0        64.0   99.0    65.0   \n",
       "4   Abomination          63.0      80.0   53.0        90.0   62.0    95.0   \n",
       "5       Abraxas          88.0      63.0   83.0       100.0  100.0    55.0   \n",
       "\n",
       "                 full-name            alter-egos  \\\n",
       "id                                                 \n",
       "1   Richard Milhouse Jones  No alter egos found.   \n",
       "2           Abraham Sapien  No alter egos found.   \n",
       "3                      NaN  No alter egos found.   \n",
       "4             Emil Blonsky  No alter egos found.   \n",
       "5                  Abraxas  No alter egos found.   \n",
       "\n",
       "                                              aliases  ...               race  \\\n",
       "id                                                     ...                      \n",
       "1                                      ['Rick Jones']  ...              Human   \n",
       "2   ['Langdon Everett Caul', 'Abraham Sapien', 'La...  ...      Icthyo Sapien   \n",
       "3                                          ['Lagzia']  ...            Ungaran   \n",
       "4                  ['Agent R-7', 'Ravager of Worlds']  ...  Human / Radiation   \n",
       "5                                               ['-']  ...      Cosmic Entity   \n",
       "\n",
       "               height                weight eye-color hair-color  \\\n",
       "id                                                                 \n",
       "1   [\"6'8\", '203 cm']  ['980 lb', '441 kg']    Yellow    No Hair   \n",
       "2   [\"6'3\", '191 cm']   ['145 lb', '65 kg']      Blue    No Hair   \n",
       "3   [\"6'1\", '185 cm']   ['200 lb', '90 kg']      Blue    No Hair   \n",
       "4   [\"6'8\", '203 cm']  ['980 lb', '441 kg']     Green    No Hair   \n",
       "5       ['-', '0 cm']      ['- lb', '0 kg']      Blue      Black   \n",
       "\n",
       "                                           occupation    base  \\\n",
       "id                                                              \n",
       "1   Musician, adventurer, author; formerly talk sh...       -   \n",
       "2                             Paranormal Investigator       -   \n",
       "3             Green Lantern, former history professor      Oa   \n",
       "4                                              Ex-Spy  Mobile   \n",
       "5                               Dimensional destroyer       -   \n",
       "\n",
       "                                    group-affiliation  \\\n",
       "id                                                      \n",
       "1   Hulk Family; Excelsior (sponsor), Avengers (ho...   \n",
       "2          Bureau for Paranormal Research and Defense   \n",
       "3            Green Lantern Corps, Black Lantern Corps   \n",
       "4   former member of the crew of the Andromeda Sta...   \n",
       "5                                       Cosmic Beings   \n",
       "\n",
       "                                            relatives  \\\n",
       "id                                                      \n",
       "1   Marlo Chandler-Jones (wife); Polly (aunt); Mrs...   \n",
       "2                       Edith Howard (wife, deceased)   \n",
       "3   Amon Sur (son), Arin Sur (sister), Thaal Sines...   \n",
       "4             Nadia Dornova Blonsky (wife, separated)   \n",
       "5                                 Eternity (\"Father\")   \n",
       "\n",
       "                                                  url  \n",
       "id                                                     \n",
       "1   https://www.superherodb.com/pictures2/portrait...  \n",
       "2   https://www.superherodb.com/pictures2/portrait...  \n",
       "3   https://www.superherodb.com/pictures2/portrait...  \n",
       "4   https://www.superherodb.com/pictures2/portrait...  \n",
       "5   https://www.superherodb.com/pictures2/portrait...  \n",
       "\n",
       "[5 rows x 25 columns]"
      ]
     },
     "execution_count": 2,
     "metadata": {},
     "output_type": "execute_result"
    }
   ],
   "source": [
    "import pandas as pd\n",
    "\n",
    "DATA = '/kaggle/input/super-heroes-dataset/superheroes_data.csv'\n",
    "\n",
    "df = pd.read_csv(filepath_or_buffer=DATA, index_col=['id'])\n",
    "df.head()"
   ]
  },
  {
   "cell_type": "code",
   "execution_count": 3,
   "id": "82aec6f4",
   "metadata": {
    "execution": {
     "iopub.execute_input": "2024-11-08T19:06:07.211699Z",
     "iopub.status.busy": "2024-11-08T19:06:07.210182Z",
     "iopub.status.idle": "2024-11-08T19:06:07.219613Z",
     "shell.execute_reply": "2024-11-08T19:06:07.218257Z"
    },
    "papermill": {
     "duration": 0.018382,
     "end_time": "2024-11-08T19:06:07.222773",
     "exception": false,
     "start_time": "2024-11-08T19:06:07.204391",
     "status": "completed"
    },
    "tags": []
   },
   "outputs": [
    {
     "data": {
      "text/plain": [
       "Index(['name', 'intelligence', 'strength', 'speed', 'durability', 'power',\n",
       "       'combat', 'full-name', 'alter-egos', 'aliases', 'place-of-birth',\n",
       "       'first-appearance', 'publisher', 'alignment', 'gender', 'race',\n",
       "       'height', 'weight', 'eye-color', 'hair-color', 'occupation', 'base',\n",
       "       'group-affiliation', 'relatives', 'url'],\n",
       "      dtype='object')"
      ]
     },
     "execution_count": 3,
     "metadata": {},
     "output_type": "execute_result"
    }
   ],
   "source": [
    "df.columns"
   ]
  },
  {
   "cell_type": "code",
   "execution_count": 4,
   "id": "f0aec212",
   "metadata": {
    "execution": {
     "iopub.execute_input": "2024-11-08T19:06:07.234809Z",
     "iopub.status.busy": "2024-11-08T19:06:07.234262Z",
     "iopub.status.idle": "2024-11-08T19:06:07.260943Z",
     "shell.execute_reply": "2024-11-08T19:06:07.259437Z"
    },
    "papermill": {
     "duration": 0.036115,
     "end_time": "2024-11-08T19:06:07.263812",
     "exception": false,
     "start_time": "2024-11-08T19:06:07.227697",
     "status": "completed"
    },
    "tags": []
   },
   "outputs": [
    {
     "name": "stdout",
     "output_type": "stream",
     "text": [
      "<class 'pandas.core.frame.DataFrame'>\n",
      "Index: 731 entries, 1 to 731\n",
      "Data columns (total 25 columns):\n",
      " #   Column             Non-Null Count  Dtype  \n",
      "---  ------             --------------  -----  \n",
      " 0   name               731 non-null    object \n",
      " 1   intelligence       566 non-null    float64\n",
      " 2   strength           629 non-null    float64\n",
      " 3   speed              566 non-null    float64\n",
      " 4   durability         566 non-null    float64\n",
      " 5   power              566 non-null    float64\n",
      " 6   combat             566 non-null    float64\n",
      " 7   full-name          630 non-null    object \n",
      " 8   alter-egos         731 non-null    object \n",
      " 9   aliases            731 non-null    object \n",
      " 10  place-of-birth     731 non-null    object \n",
      " 11  first-appearance   731 non-null    object \n",
      " 12  publisher          716 non-null    object \n",
      " 13  alignment          731 non-null    object \n",
      " 14  gender             731 non-null    object \n",
      " 15  race               429 non-null    object \n",
      " 16  height             731 non-null    object \n",
      " 17  weight             731 non-null    object \n",
      " 18  eye-color          731 non-null    object \n",
      " 19  hair-color         731 non-null    object \n",
      " 20  occupation         731 non-null    object \n",
      " 21  base               731 non-null    object \n",
      " 22  group-affiliation  731 non-null    object \n",
      " 23  relatives          731 non-null    object \n",
      " 24  url                731 non-null    object \n",
      "dtypes: float64(6), object(19)\n",
      "memory usage: 148.5+ KB\n"
     ]
    }
   ],
   "source": [
    "df.info()"
   ]
  },
  {
   "cell_type": "code",
   "execution_count": 5,
   "id": "346c4268",
   "metadata": {
    "execution": {
     "iopub.execute_input": "2024-11-08T19:06:07.275087Z",
     "iopub.status.busy": "2024-11-08T19:06:07.274674Z",
     "iopub.status.idle": "2024-11-08T19:06:07.280562Z",
     "shell.execute_reply": "2024-11-08T19:06:07.279385Z"
    },
    "papermill": {
     "duration": 0.014553,
     "end_time": "2024-11-08T19:06:07.283118",
     "exception": false,
     "start_time": "2024-11-08T19:06:07.268565",
     "status": "completed"
    },
    "tags": []
   },
   "outputs": [],
   "source": [
    "COLUMNS = ['intelligence', 'strength', 'speed', 'durability', 'power', 'combat']"
   ]
  },
  {
   "cell_type": "code",
   "execution_count": 6,
   "id": "cb0ab96c",
   "metadata": {
    "execution": {
     "iopub.execute_input": "2024-11-08T19:06:07.294138Z",
     "iopub.status.busy": "2024-11-08T19:06:07.293756Z",
     "iopub.status.idle": "2024-11-08T19:07:03.053811Z",
     "shell.execute_reply": "2024-11-08T19:07:03.052410Z"
    },
    "papermill": {
     "duration": 55.772886,
     "end_time": "2024-11-08T19:07:03.060776",
     "exception": false,
     "start_time": "2024-11-08T19:06:07.287890",
     "status": "completed"
    },
    "tags": []
   },
   "outputs": [
    {
     "name": "stdout",
     "output_type": "stream",
     "text": [
      "done with UMAP in 0:00:11.608475\n"
     ]
    }
   ],
   "source": [
    "import arrow\n",
    "from umap import UMAP\n",
    "\n",
    "time_start = arrow.now()\n",
    "reducer = UMAP(random_state=2024, verbose=False, n_jobs=1, low_memory=False, n_epochs=201)\n",
    "df[['x', 'y']] = reducer.fit_transform(X=df[COLUMNS].fillna(value=0.0))\n",
    "print('done with UMAP in {}'.format(arrow.now() - time_start))"
   ]
  },
  {
   "cell_type": "code",
   "execution_count": 7,
   "id": "8bc4ebc8",
   "metadata": {
    "execution": {
     "iopub.execute_input": "2024-11-08T19:07:03.072716Z",
     "iopub.status.busy": "2024-11-08T19:07:03.071896Z",
     "iopub.status.idle": "2024-11-08T19:07:05.716340Z",
     "shell.execute_reply": "2024-11-08T19:07:05.715148Z"
    },
    "papermill": {
     "duration": 2.653721,
     "end_time": "2024-11-08T19:07:05.719274",
     "exception": false,
     "start_time": "2024-11-08T19:07:03.065553",
     "status": "completed"
    },
    "tags": []
   },
   "outputs": [
    {
     "data": {
      "text/html": [
       "        <script type=\"text/javascript\">\n",
       "        window.PlotlyConfig = {MathJaxConfig: 'local'};\n",
       "        if (window.MathJax && window.MathJax.Hub && window.MathJax.Hub.Config) {window.MathJax.Hub.Config({SVG: {font: \"STIX-Web\"}});}\n",
       "        if (typeof require !== 'undefined') {\n",
       "        require.undef(\"plotly\");\n",
       "        requirejs.config({\n",
       "            paths: {\n",
       "                'plotly': ['https://cdn.plot.ly/plotly-2.32.0.min']\n",
       "            }\n",
       "        });\n",
       "        require(['plotly'], function(Plotly) {\n",
       "            window._Plotly = Plotly;\n",
       "        });\n",
       "        }\n",
       "        </script>\n",
       "        "
      ]
     },
     "metadata": {},
     "output_type": "display_data"
    },
    {
     "data": {
      "text/html": [
       "<div>                            <div id=\"a76eaa0c-c549-4649-a0d4-de61b744b3ae\" class=\"plotly-graph-div\" style=\"height:525px; width:100%;\"></div>            <script type=\"text/javascript\">                require([\"plotly\"], function(Plotly) {                    window.PLOTLYENV=window.PLOTLYENV || {};                                    if (document.getElementById(\"a76eaa0c-c549-4649-a0d4-de61b744b3ae\")) {                    Plotly.newPlot(                        \"a76eaa0c-c549-4649-a0d4-de61b744b3ae\",                        [{\"hovertemplate\":\"\\u003cb\\u003e%{hovertext}\\u003c\\u002fb\\u003e\\u003cbr\\u003e\\u003cbr\\u003ex=%{x}\\u003cbr\\u003ey=%{y}\\u003cextra\\u003e\\u003c\\u002fextra\\u003e\",\"hovertext\":[\"A-Bomb\",\"Abe Sapien\",\"Abin Sur\",\"Abomination\",\"Abraxas\",\"Absorbing Man\",\"Adam Monroe\",\"Adam Strange\",\"Agent 13\",\"Agent Bob\",\"Agent Zero\",\"Air-Walker\",\"Ajax\",\"Alan Scott\",\"Alex Mercer\",\"Alex Woolsly\",\"Alfred Pennyworth\",\"Alien\",\"Allan Quatermain\",\"Amazo\",\"Ammo\",\"Ando Masahashi\",\"Angel\",\"Angel\",\"Angel Dust\",\"Angel Salvadore\",\"Angela\",\"Animal Man\",\"Annihilus\",\"Ant-Man\",\"Ant-Man II\",\"Anti-Monitor\",\"Anti-Spawn\",\"Anti-Venom\",\"Apocalypse\",\"Aquababy\",\"Aqualad\",\"Aquaman\",\"Arachne\",\"Archangel\",\"Arclight\",\"Ardina\",\"Ares\",\"Ariel\",\"Armor\",\"Arsenal\",\"Astro Boy\",\"Atlas\",\"Atlas\",\"Atom\",\"Atom\",\"Atom Girl\",\"Atom II\",\"Atom III\",\"Atom IV\",\"Aurora\",\"Azazel\",\"Azrael\",\"Aztar\",\"Bane\",\"Banshee\",\"Bantam\",\"Batgirl\",\"Batgirl\",\"Batgirl III\",\"Batgirl IV\",\"Batgirl V\",\"Batgirl VI\",\"Batman\",\"Batman\",\"Batman II\",\"Battlestar\",\"Batwoman V\",\"Beak\",\"Beast\",\"Beast Boy\",\"Beetle\",\"Ben 10\",\"Beta Ray Bill\",\"Beyonder\",\"Big Barda\",\"Big Daddy\",\"Big Man\",\"Bill Harken\",\"Billy Kincaid\",\"Binary\",\"Bionic Woman\",\"Bird-Brain\",\"Bird-Man\",\"Bird-Man II\",\"Birdman\",\"Bishop\",\"Bizarro\",\"Black Abbott\",\"Black Adam\",\"Black Bolt\",\"Black Canary\",\"Black Canary\",\"Black Cat\",\"Black Flash\",\"Black Goliath\",\"Black Knight III\",\"Black Lightning\",\"Black Mamba\",\"Black Manta\",\"Black Panther\",\"Black Widow\",\"Black Widow II\",\"Blackout\",\"Blackwing\",\"Blackwulf\",\"Blade\",\"Blaquesmith\",\"Bling!\",\"Blink\",\"Blizzard\",\"Blizzard\",\"Blizzard II\",\"Blob\",\"Bloodaxe\",\"Bloodhawk\",\"Bloodwraith\",\"Blue Beetle\",\"Blue Beetle\",\"Blue Beetle II\",\"Blue Beetle III\",\"Boba Fett\",\"Bolt\",\"Bomb Queen\",\"Boom-Boom\",\"Boomer\",\"Booster Gold\",\"Box\",\"Box III\",\"Box IV\",\"Brainiac\",\"Brainiac 5\",\"Brother Voodoo\",\"Brundlefly\",\"Buffy\",\"Bullseye\",\"Bumblebee\",\"Bumbleboy\",\"Bushido\",\"Cable\",\"Callisto\",\"Cameron Hicks\",\"Cannonball\",\"Captain America\",\"Captain Atom\",\"Captain Britain\",\"Captain Cold\",\"Captain Epic\",\"Captain Hindsight\",\"Captain Mar-vell\",\"Captain Marvel\",\"Captain Marvel\",\"Captain Marvel II\",\"Captain Midnight\",\"Captain Planet\",\"Captain Universe\",\"Carnage\",\"Cat\",\"Cat II\",\"Catwoman\",\"Cecilia Reyes\",\"Century\",\"Cerebra\",\"Chamber\",\"Chameleon\",\"Changeling\",\"Cheetah\",\"Cheetah II\",\"Cheetah III\",\"Chromos\",\"Chuck Norris\",\"Citizen Steel\",\"Claire Bennet\",\"Clea\",\"Cloak\",\"Clock King\",\"Cogliostro\",\"Colin Wagner\",\"Colossal Boy\",\"Colossus\",\"Copycat\",\"Corsair\",\"Cottonmouth\",\"Crimson Crusader\",\"Crimson Dynamo\",\"Crystal\",\"Curse\",\"Cy-Gor\",\"Cyborg\",\"Cyborg Superman\",\"Cyclops\",\"Cypher\",\"Dagger\",\"Danny Cooper\",\"Daphne Powell\",\"Daredevil\",\"Darkhawk\",\"Darkman\",\"Darkseid\",\"Darkside\",\"Darkstar\",\"Darth Maul\",\"Darth Vader\",\"Dash\",\"Data\",\"Dazzler\",\"Deadman\",\"Deadpool\",\"Deadshot\",\"Deathlok\",\"Deathstroke\",\"Demogoblin\",\"Destroyer\",\"Diamondback\",\"DL Hawkins\",\"Doc Samson\",\"Doctor Doom\",\"Doctor Doom II\",\"Doctor Fate\",\"Doctor Octopus\",\"Doctor Strange\",\"Domino\",\"Donatello\",\"Donna Troy\",\"Doomsday\",\"Doppelganger\",\"Dormammu\",\"Dr Manhattan\",\"Drax the Destroyer\",\"Ego\",\"Elastigirl\",\"Electro\",\"Elektra\",\"Elle Bishop\",\"Elongated Man\",\"Emma Frost\",\"Enchantress\",\"Energy\",\"ERG-1\",\"Ethan Hunt\",\"Etrigan\",\"Evil Deadpool\",\"Evilhawk\",\"Exodus\",\"Fabian Cortez\",\"Falcon\",\"Fallen One II\",\"Faora\",\"Feral\",\"Fighting Spirit\",\"Fin Fang Foom\",\"Firebird\",\"Firelord\",\"Firestar\",\"Firestorm\",\"Firestorm\",\"Fixer\",\"Flash\",\"Flash Gordon\",\"Flash II\",\"Flash III\",\"Flash IV\",\"Forge\",\"Franklin Richards\",\"Franklin Storm\",\"Frenzy\",\"Frigga\",\"Galactus\",\"Gambit\",\"Gamora\",\"Garbage Man\",\"Gary Bell\",\"General Zod\",\"Genesis\",\"Ghost Rider\",\"Ghost Rider II\",\"Giant-Man\",\"Giant-Man II\",\"Giganta\",\"Gladiator\",\"Goblin Queen\",\"Godzilla\",\"Gog\",\"Goku\",\"Goliath\",\"Goliath\",\"Goliath\",\"Goliath IV\",\"Gorilla Grodd\",\"Granny Goodness\",\"Gravity\",\"Greedo\",\"Green Arrow\",\"Green Goblin\",\"Green Goblin II\",\"Green Goblin III\",\"Green Goblin IV\",\"Groot\",\"Guardian\",\"Guy Gardner\",\"Hal Jordan\",\"Han Solo\",\"Hancock\",\"Harley Quinn\",\"Harry Potter\",\"Havok\",\"Hawk\",\"Hawkeye\",\"Hawkeye II\",\"Hawkgirl\",\"Hawkman\",\"Hawkwoman\",\"Hawkwoman II\",\"Hawkwoman III\",\"Heat Wave\",\"Hela\",\"Hellboy\",\"Hellcat\",\"Hellstorm\",\"Hercules\",\"Hiro Nakamura\",\"Hit-Girl\",\"Hobgoblin\",\"Hollow\",\"Hope Summers\",\"Howard the Duck\",\"Hulk\",\"Human Torch\",\"Huntress\",\"Husk\",\"Hybrid\",\"Hydro-Man\",\"Hyperion\",\"Iceman\",\"Impulse\",\"Indiana Jones\",\"Indigo\",\"Ink\",\"Invisible Woman\",\"Iron Fist\",\"Iron Man\",\"Iron Monger\",\"Isis\",\"Jack Bauer\",\"Jack of Hearts\",\"Jack-Jack\",\"James Bond\",\"James T. Kirk\",\"Jar Jar Binks\",\"Jason Bourne\",\"Jean Grey\",\"Jean-Luc Picard\",\"Jennifer Kale\",\"Jesse Quick\",\"Jessica Cruz\",\"Jessica Jones\",\"Jessica Sanders\",\"Jigsaw\",\"Jim Powell\",\"JJ Powell\",\"Johann Krauss\",\"John Constantine\",\"John Stewart\",\"John Wraith\",\"Joker\",\"Jolt\",\"Jubilee\",\"Judge Dredd\",\"Juggernaut\",\"Junkpile\",\"Justice\",\"Jyn Erso\",\"K-2SO\",\"Kang\",\"Kathryn Janeway\",\"Katniss Everdeen\",\"Kevin 11\",\"Kick-Ass\",\"Kid Flash\",\"Kid Flash II\",\"Killer Croc\",\"Killer Frost\",\"Kilowog\",\"King Kong\",\"King Shark\",\"Kingpin\",\"Klaw\",\"Kool-Aid Man\",\"Kraven II\",\"Kraven the Hunter\",\"Krypto\",\"Kyle Rayner\",\"Kylo Ren\",\"Lady Bullseye\",\"Lady Deathstrike\",\"Leader\",\"Leech\",\"Legion\",\"Leonardo\",\"Lex Luthor\",\"Light Lass\",\"Lightning Lad\",\"Lightning Lord\",\"Living Brain\",\"Living Tribunal\",\"Liz Sherman\",\"Lizard\",\"Lobo\",\"Loki\",\"Longshot\",\"Luke Cage\",\"Luke Campbell\",\"Luke Skywalker\",\"Luna\",\"Lyja\",\"Mach-IV\",\"Machine Man\",\"Magneto\",\"Magog\",\"Magus\",\"Man of Miracles\",\"Man-Bat\",\"Man-Thing\",\"Man-Wolf\",\"Mandarin\",\"Mantis\",\"Martian Manhunter\",\"Marvel Girl\",\"Master Brood\",\"Master Chief\",\"Match\",\"Matt Parkman\",\"Maverick\",\"Maxima\",\"Maya Herrera\",\"Medusa\",\"Meltdown\",\"Mephisto\",\"Mera\",\"Metallo\",\"Metamorpho\",\"Meteorite\",\"Metron\",\"Micah Sanders\",\"Michelangelo\",\"Micro Lad\",\"Mimic\",\"Minna Murray\",\"Misfit\",\"Miss Martian\",\"Mister Fantastic\",\"Mister Freeze\",\"Mister Knife\",\"Mister Mxyzptlk\",\"Mister Sinister\",\"Mister Zsasz\",\"Mockingbird\",\"MODOK\",\"Mogo\",\"Mohinder Suresh\",\"Moloch\",\"Molten Man\",\"Monarch\",\"Monica Dawson\",\"Moon Knight\",\"Moonstone\",\"Morlun\",\"Morph\",\"Moses Magnum\",\"Mr Immortal\",\"Mr Incredible\",\"Ms Marvel II\",\"Multiple Man\",\"Mysterio\",\"Mystique\",\"Namor\",\"Namor\",\"Namora\",\"Namorita\",\"Naruto Uzumaki\",\"Nathan Petrelli\",\"Nebula\",\"Negasonic Teenage Warhead\",\"Nick Fury\",\"Nightcrawler\",\"Nightwing\",\"Niki Sanders\",\"Nina Theroux\",\"Nite Owl II\",\"Northstar\",\"Nova\",\"Nova\",\"Odin\",\"Offspring\",\"Omega Red\",\"Omniscient\",\"One Punch Man\",\"One-Above-All\",\"Onslaught\",\"Oracle\",\"Osiris\",\"Overtkill\",\"Ozymandias\",\"Parademon\",\"Paul Blart\",\"Penance\",\"Penance I\",\"Penance II\",\"Penguin\",\"Phantom\",\"Phantom Girl\",\"Phoenix\",\"Plantman\",\"Plastic Lad\",\"Plastic Man\",\"Plastique\",\"Poison Ivy\",\"Polaris\",\"Power Girl\",\"Power Man\",\"Predator\",\"Professor X\",\"Professor Zoom\",\"Psylocke\",\"Punisher\",\"Purple Man\",\"Pyro\",\"Q\",\"Quantum\",\"Question\",\"Quicksilver\",\"Quill\",\"Ra's Al Ghul\",\"Rachel Pirzad\",\"Rambo\",\"Raphael\",\"Raven\",\"Ray\",\"Razor-Fist II\",\"Red Arrow\",\"Red Hood\",\"Red Hulk\",\"Red Mist\",\"Red Robin\",\"Red Skull\",\"Red Tornado\",\"Redeemer II\",\"Redeemer III\",\"Renata Soliz\",\"Rey\",\"Rhino\",\"Rick Flag\",\"Riddler\",\"Rip Hunter\",\"Ripcord\",\"Robin\",\"Robin II\",\"Robin III\",\"Robin V\",\"Robin VI\",\"Rocket Raccoon\",\"Rogue\",\"Ronin\",\"Rorschach\",\"Sabretooth\",\"Sage\",\"Sandman\",\"Sasquatch\",\"Sauron\",\"Savage Dragon\",\"Scarecrow\",\"Scarlet Spider\",\"Scarlet Spider II\",\"Scarlet Witch\",\"Scorpia\",\"Scorpion\",\"Sebastian Shaw\",\"Sentry\",\"Shadow King\",\"Shadow Lass\",\"Shadowcat\",\"Shang-Chi\",\"Shatterstar\",\"She-Hulk\",\"She-Thing\",\"Shocker\",\"Shriek\",\"Shrinking Violet\",\"Sif\",\"Silk\",\"Silk Spectre\",\"Silk Spectre II\",\"Silver Surfer\",\"Silverclaw\",\"Simon Baz\",\"Sinestro\",\"Siren\",\"Siren II\",\"Siryn\",\"Skaar\",\"Snake-Eyes\",\"Snowbird\",\"Sobek\",\"Solomon Grundy\",\"Songbird\",\"Space Ghost\",\"Spawn\",\"Spectre\",\"Speedball\",\"Speedy\",\"Speedy\",\"Spider-Carnage\",\"Spider-Girl\",\"Spider-Gwen\",\"Spider-Man\",\"Spider-Man\",\"Spider-Man\",\"Spider-Woman\",\"Spider-Woman II\",\"Spider-Woman III\",\"Spider-Woman IV\",\"Spock\",\"Spyke\",\"Stacy X\",\"Star-Lord\",\"Stardust\",\"Starfire\",\"Stargirl\",\"Static\",\"Steel\",\"Stephanie Powell\",\"Steppenwolf\",\"Storm\",\"Stormtrooper\",\"Sunspot\",\"Superboy\",\"Superboy-Prime\",\"Supergirl\",\"Superman\",\"Swamp Thing\",\"Swarm\",\"Sylar\",\"Synch\",\"T-1000\",\"T-800\",\"T-850\",\"T-X\",\"Taskmaster\",\"Tempest\",\"Thanos\",\"The Cape\",\"The Comedian\",\"Thing\",\"Thor\",\"Thor Girl\",\"Thunderbird\",\"Thunderbird II\",\"Thunderbird III\",\"Thunderstrike\",\"Thundra\",\"Tiger Shark\",\"Tigra\",\"Tinkerer\",\"Titan\",\"Toad\",\"Toxin\",\"Toxin\",\"Tracy Strauss\",\"Trickster\",\"Trigon\",\"Triplicate Girl\",\"Triton\",\"Two-Face\",\"Ultragirl\",\"Ultron\",\"Utgard-Loki\",\"Vagabond\",\"Valerie Hart\",\"Valkyrie\",\"Vanisher\",\"Vegeta\",\"Venom\",\"Venom II\",\"Venom III\",\"Venompool\",\"Vertigo II\",\"Vibe\",\"Vindicator\",\"Vindicator\",\"Violator\",\"Violet Parr\",\"Vision\",\"Vision II\",\"Vixen\",\"Vulcan\",\"Vulture\",\"Walrus\",\"War Machine\",\"Warbird\",\"Warlock\",\"Warp\",\"Warpath\",\"Wasp\",\"Watcher\",\"Weapon XI\",\"White Canary\",\"White Queen\",\"Wildfire\",\"Winter Soldier\",\"Wiz Kid\",\"Wolfsbane\",\"Wolverine\",\"Wonder Girl\",\"Wonder Man\",\"Wonder Woman\",\"Wondra\",\"Wyatt Wingfoot\",\"X-23\",\"X-Man\",\"Yellow Claw\",\"Yellowjacket\",\"Yellowjacket II\",\"Ymir\",\"Yoda\",\"Zatanna\",\"Zoom\"],\"legendgroup\":\"\",\"marker\":{\"color\":\"#636efa\",\"symbol\":\"circle\"},\"mode\":\"markers\",\"name\":\"\",\"orientation\":\"v\",\"showlegend\":false,\"x\":[10.246668,11.451249,13.060048,11.709471,14.641447,12.824442,10.704728,6.5982857,-4.006406,5.532017,8.971094,14.489705,9.436877,13.021958,13.170239,-4.1377068,5.5508237,9.489208,-9.672061,15.023428,-9.631032,-9.922219,11.183556,8.948654,7.8596454,7.168796,-2.632724,10.314355,10.725892,6.2446632,7.1266026,14.635046,-3.3344526,11.706017,13.415286,5.8495674,10.661927,14.562297,10.133852,8.935009,8.160557,14.676404,12.385403,7.7553434,10.264145,-3.5393384,-2.9213486,13.018229,10.646614,-9.72107,-9.473797,6.4777746,7.056128,-9.597842,-9.537906,10.690471,10.778904,5.4026246,-2.6290708,7.2718744,7.848047,7.736028,5.6610074,-4.154187,-3.9688845,6.743323,-9.535792,5.299097,7.617286,6.9983644,5.6256146,9.973465,5.3154135,-9.68972,7.424938,10.296965,-3.5310774,7.346375,12.571509,15.656646,15.201148,5.464012,5.4698796,8.715978,-9.630828,-9.638245,7.8827176,5.848191,-9.693753,-9.802406,-4.1481137,10.581035,14.733452,-9.653027,15.001866,14.593408,6.842768,6.6281652,5.2278757,10.721478,-9.613038,8.505377,7.8484287,8.405625,8.655315,7.0125833,5.7869253,-3.9112918,9.324932,5.576651,7.394398,6.8401914,-9.641221,9.322879,7.593563,-9.8004,-3.0161655,6.956761,10.151056,12.547947,10.502534,-3.0108395,-9.63348,-9.455355,-4.0774565,10.592773,7.7938704,-9.767375,-3.0075002,7.181628,-9.622101,12.981814,-9.556523,-9.561843,7.836579,11.419835,7.1484156,-3.0387309,7.840299,9.254787,8.56782,6.6524673,-9.707807,5.2389894,11.959392,7.7015896,6.9806457,10.923825,7.1094365,14.877639,10.400736,6.2501216,-9.586297,6.4202676,-2.9334724,15.291947,14.845926,10.609005,-9.694385,14.154812,-2.8746023,11.782948,-2.9353757,-9.759728,5.513641,-9.757015,12.579474,-3.3933296,9.32553,6.147773,7.642996,5.503697,5.5974584,15.309647,-9.659038,10.3523655,10.458469,10.001296,-4.116781,10.185469,5.9485364,-9.678368,-9.632256,-9.673961,10.695387,6.975987,-4.235869,6.156702,-3.3054383,-3.0839484,7.0527906,-9.60937,-2.6185372,11.108006,15.092504,8.331013,-4.0669312,7.3335485,-9.643986,6.698485,6.5922832,9.953356,8.971606,15.202883,-9.817792,7.6730614,12.136238,12.173252,6.3892717,7.410916,10.083636,10.301135,11.205748,6.8825603,8.9956665,9.249618,10.267261,12.776355,6.7561774,7.2356167,10.575422,11.077531,-9.5599165,10.730331,7.710296,10.924989,6.9795876,8.209441,-2.9182703,14.7736,10.1810055,15.134052,13.402643,10.558844,14.783198,9.454384,8.430208,6.6725793,7.1383247,9.068729,12.984277,9.943428,-9.700583,-9.594245,5.7608833,12.897872,11.232124,10.21626,12.539829,-9.497404,5.45706,14.910457,15.154843,5.490174,-10.073492,12.373638,7.678096,10.344951,10.317257,12.470242,13.32206,-10.07919,10.633931,-3.03478,11.840124,10.746806,10.676164,5.8436737,12.873307,5.5825024,9.678496,-10.065264,15.030382,6.8385086,11.630283,-2.9332328,6.7443457,15.512155,-3.0456743,12.764541,-3.0320168,-2.9486992,-10.051032,10.559498,14.7044735,7.4502726,13.239335,9.185715,14.954015,-9.709016,-9.831975,-9.835204,-9.658393,12.598197,-2.6536381,7.8561873,5.966144,5.7536674,8.021948,8.421765,-10.052443,-9.988922,12.893741,-4.046321,13.078487,14.458982,6.6313944,13.709561,7.735446,8.210575,9.595746,9.465672,5.225248,5.6916747,10.985498,-3.0711207,-2.6333377,-10.031756,-2.8902457,6.1992693,13.353505,11.763669,7.204741,-3.4492214,12.443966,-4.292542,5.448206,-3.5047543,-9.507051,8.31186,-4.0242248,14.716056,10.370696,5.852796,10.392415,11.826246,9.710123,15.6125965,10.996045,10.699711,6.086321,12.542664,7.370436,10.89326,12.139479,13.861798,11.015726,10.324334,-3.9433482,10.729663,10.579486,5.3552246,5.262951,5.6473403,5.596435,12.425702,5.485239,8.313908,-4.008827,12.931184,9.287182,-9.835602,-10.119542,9.006097,6.013034,-4.15816,7.256241,13.015529,8.410163,7.578541,6.2660847,6.8914633,6.9797025,12.683556,9.996065,9.451445,-9.912183,-9.539609,12.545432,5.8570924,5.5600104,7.5639806,5.548386,6.373648,-3.9856462,10.028958,7.1853247,12.860733,11.310923,13.234066,5.571432,9.618838,5.6149626,7.0796056,6.7695427,14.162162,13.027813,12.266226,-3.0981984,9.226249,7.1250362,6.6409807,12.887658,8.440232,7.7390614,7.170617,7.10896,7.328715,8.393786,14.948674,-9.481148,10.03658,14.553293,12.936606,7.603264,10.346057,-9.938741,12.202383,6.4648657,-10.168809,10.174342,9.346332,12.723671,9.868157,14.780477,15.63794,9.081,10.0303545,7.707032,12.126962,10.749272,15.538871,12.863004,-9.590214,12.0142975,14.51287,7.096423,6.983734,12.668631,6.7662816,8.840532,7.2708793,13.34693,11.908504,11.946027,-2.9294662,-9.630781,10.1420765,6.7893505,8.5174465,6.709171,12.5000515,-10.14123,10.049584,13.38597,7.6745033,8.73516,5.5245748,14.985408,12.825708,5.348762,5.8328543,7.9812913,-10.120308,-9.95452,-9.986484,10.488113,-2.6149864,6.6779323,7.215218,10.660997,12.214587,-4.0688396,7.5088167,9.802969,10.316438,10.1403675,8.607209,8.376008,8.148766,11.956306,-9.855466,10.494604,10.303302,12.489779,-9.514928,7.7273054,6.4030385,6.046652,7.790862,5.6918964,7.7490463,6.9283643,-4.133693,10.559938,14.994581,14.620003,14.705554,10.610208,-3.2282765,-9.4401865,11.862624,15.61587,13.428512,5.347291,11.605654,-9.420737,5.6416583,6.721025,5.6623816,-9.917506,-10.04678,-4.286659,6.0995913,-3.8696582,6.864727,15.205194,8.635739,-9.485093,12.817009,6.97618,8.438076,12.655443,15.561447,-2.9322364,10.85746,8.117036,10.674301,12.122853,6.420788,7.6080074,6.6339965,10.85649,-10.080419,5.359445,10.7383795,5.9600663,5.7136755,6.713647,6.0449123,8.596151,9.924741,10.760592,-9.660603,5.275732,5.713808,12.429812,5.4664187,5.3484564,5.229681,10.673118,-9.489591,-9.520178,-10.051248,7.8061295,10.216501,5.4654336,6.043987,8.068093,-10.021129,5.3311343,5.458375,5.3691354,5.33072,5.294654,5.4571056,8.349379,5.218408,5.265363,9.504616,5.8004684,13.059198,10.515271,13.31508,11.187802,6.856811,10.383282,8.153548,11.005506,6.363257,9.919065,10.526196,14.735641,10.904435,7.981392,8.332144,6.329367,9.744624,10.791842,10.50211,9.80177,6.7439256,-9.358727,14.10438,10.646835,-9.170695,-3.5913732,14.638743,7.802977,12.999173,13.011199,12.003529,-9.72567,6.7204304,12.058214,-9.706829,7.634151,7.64738,12.972755,7.6943507,7.8482814,11.720696,15.383415,-9.739349,5.395553,-10.108472,-3.0766985,9.850078,10.725234,11.436563,-3.3672104,-3.2620373,9.931032,-9.995263,8.647317,-9.728493,7.259339,7.121277,-9.816692,6.579157,15.619009,10.929827,12.692125,10.107519,11.443275,6.277597,15.322644,8.2818165,5.5993075,12.388952,14.712795,15.629709,15.575565,15.610903,13.395659,9.1660385,8.318602,12.425205,11.072125,8.166333,12.469964,12.476853,6.5151567,7.562561,13.580337,5.4114923,5.1991997,10.682581,15.038902,14.269517,7.0010657,-9.388025,-9.793636,11.177231,10.2045355,10.29234,6.668152,6.0158973,-9.374415,10.238623,11.936012,12.890388,-9.398904,-9.236131,-2.6258013,6.8780546,10.285555,6.052575,10.332094,13.4133,12.588168,-10.040375,-9.223158,-2.7810552,10.5169525,15.320407,11.638014,10.267639,11.804996,11.559036,-9.894077,7.7173104,10.573654,-9.474081,-3.5502207,7.501803,13.655824,-9.4367,9.037629,-3.4012976,6.3091884,7.943443,14.406936,-9.858882,11.398025,7.6430173,10.218089,8.895823,14.007058,-9.630092,6.593366,-9.680126,10.034087,9.499906,-9.606107,6.0895014,11.121017,10.594547,11.506097,15.257397,-9.272369,5.457556,9.2207775,11.696804,-10.289335,6.128249,6.3375916,13.136507,12.301216,8.32331,10.7839775],\"xaxis\":\"x\",\"y\":[7.590526,4.847884,5.8093166,7.0898604,7.1468043,7.472817,4.8505225,4.198168,1.3937579,2.301203,6.27905,7.3287067,5.953394,7.3259373,7.347809,0.82954264,4.2404165,5.729867,-5.237139,6.329358,-5.4337387,-5.647252,5.4831824,5.1096473,4.9217157,3.265731,7.6542964,6.397561,6.7326865,4.0648274,3.9528997,6.246317,4.4019313,5.977676,6.698832,2.268232,5.844382,6.814504,6.2382936,5.058398,5.6162376,7.3763356,6.8022118,2.606342,7.014586,3.8319917,7.1883,7.3391037,7.781996,-5.4358873,-5.429691,3.0292125,5.1974053,-5.355051,-5.371321,3.5148182,5.026126,5.142964,7.6413264,6.0233994,3.8191543,5.101306,5.920872,0.7004484,1.0683714,6.050997,-5.484231,5.2988086,5.964854,6.189639,6.058215,6.6284094,5.4612994,-5.3064165,5.9782786,4.156757,3.8564022,2.5972288,6.767832,6.5515985,6.1734548,3.6244261,5.1304407,4.915427,-5.3717175,-5.355343,4.8187027,3.1760974,-5.372048,-5.197723,0.9013144,4.7823963,6.766229,-5.1909194,7.158225,7.219412,4.5790935,4.6937876,4.908084,3.4981565,-5.309249,5.282678,3.7253437,3.615213,6.2398934,6.23274,5.9607673,1.5540661,5.927649,3.4244404,2.7459912,5.8331265,-5.1567607,4.7704716,3.3714726,-5.4621224,5.769752,3.3183942,7.4542584,6.7110066,4.993798,5.7980275,-5.3772736,-5.3870893,1.3105214,4.0782275,3.9191375,-5.291008,5.8827553,3.4292314,-5.2857904,5.8216143,-5.329431,-5.207858,5.1914997,7.364874,4.041172,5.5535164,4.687387,5.803276,5.1976743,3.1183429,-5.2477784,3.6496127,4.8223286,5.479129,4.097055,5.076909,6.1272335,6.6876626,7.224316,2.7061963,-5.363542,2.9936516,6.5581207,6.7358823,6.2760663,7.774859,-5.204792,6.9971833,7.2907877,6.052703,7.1486053,-5.220952,5.3787465,-5.3942237,6.26925,4.302357,5.134121,4.1211195,4.104658,3.5357275,3.517894,6.3232546,-5.266858,7.172378,7.7678204,4.746877,0.9017902,4.3366737,4.09313,-5.439896,-5.2082357,-5.4332957,7.6870008,3.8843868,0.43917003,2.6517403,4.4508758,5.4856462,3.8088694,-5.384354,7.6500235,6.74903,6.711539,3.674495,1.2579817,4.365656,-5.4902506,2.3308792,5.336536,5.7322817,5.008097,6.2096944,-5.1222153,3.2258365,4.593915,4.634921,3.0386467,4.8021765,4.3968163,4.7922115,5.509892,4.424523,5.569874,6.2928295,5.605426,7.1637607,3.6265662,3.51074,7.7214246,4.9943647,-5.2553325,4.6105776,5.5036635,4.708389,4.4631486,6.0811534,7.172526,6.203884,6.948137,6.5383997,6.8997245,7.5387864,7.2339554,5.9568806,6.035705,4.8539276,3.0182858,4.928819,6.9473705,4.4225173,-5.180609,-5.192288,5.8074603,7.4855514,5.5279217,5.481785,5.176931,-5.2936745,3.502757,7.071176,6.157798,3.568949,-5.0549846,7.3816257,2.759452,6.7120137,3.9385216,5.488838,7.351337,-5.1850433,3.4687998,5.7272806,5.5557876,3.4454458,3.5302513,4.044465,5.6835113,2.2531753,6.119616,-5.5049405,7.216985,4.587511,7.1488757,6.5854797,2.2862263,6.3593664,5.669283,7.4056525,5.7343817,6.4525275,-5.1782866,7.8100653,6.8310738,3.9708273,7.4639783,5.721457,6.287437,-4.797273,-5.5340714,-4.869761,-4.876297,6.374516,7.611092,3.0421374,2.8199906,5.971952,5.5893245,4.79491,-5.2459664,-4.9862375,6.00131,1.2902509,5.881601,6.9474897,3.6854308,7.286751,6.050164,3.0185792,4.354887,5.838027,4.8056555,3.4170897,5.293001,5.560767,7.636549,-5.17314,7.2637696,3.0571766,7.289583,6.8898597,4.494145,4.1784277,6.9043455,0.376348,4.0493994,3.876523,-4.889422,3.5047097,1.2206987,6.1803694,4.013722,5.83113,7.1906548,6.019301,4.789278,6.617962,5.168761,3.4378476,3.9658856,5.513822,2.99115,4.6439295,4.6754866,6.5575256,7.165122,6.2968607,1.1481818,3.5927277,3.9964492,5.858387,5.1552763,2.350941,6.0129957,5.0899153,5.0132604,3.7348168,1.069732,5.6698155,5.815865,-5.001085,-4.8378825,5.22301,4.169476,0.7090945,4.270229,5.8378057,3.6273613,6.03864,3.7349334,4.6120667,6.1018615,7.3105655,4.787496,4.547076,-4.78001,-4.977343,6.255544,4.231403,3.9109387,2.7094166,3.4245954,3.024457,1.3999076,7.0755224,4.144037,5.7084203,7.2454004,7.4309864,5.171962,6.0058203,2.310162,5.372154,5.5979853,7.411526,5.7984514,4.763752,5.4009194,6.3021584,4.00858,2.3484342,5.591071,6.1468096,5.653029,2.9039843,2.9343429,2.9576538,4.918294,7.250385,-4.779587,6.4201202,6.2074723,6.5194573,3.8110676,7.2607,-4.973466,4.6090207,2.9924572,-5.131561,6.2504344,5.898455,6.6553555,6.258396,6.3596525,6.431856,5.134145,4.764447,5.3914657,4.603184,4.928187,6.5017757,5.593653,-4.8852625,6.959778,6.95191,3.765214,4.614589,5.9365506,2.3273747,5.5301766,3.4158938,6.8513303,5.9623694,6.816665,6.621365,-5.0364633,4.171,2.2960012,6.122376,3.0202193,5.4276924,-5.324718,4.705565,7.343392,6.0591884,4.8579173,4.957696,7.189464,6.286036,5.6837444,5.9084516,3.078923,-5.2359324,-4.9307427,-5.249827,7.275144,7.649218,4.7421513,5.3048406,6.4505763,5.243288,0.952045,4.7506747,4.8136835,7.6770773,7.4826474,5.3247695,3.5797238,5.781441,7.079347,-5.717307,7.022649,7.207343,6.871658,-4.905688,5.3608313,2.5430412,5.9838643,3.7236023,5.984773,5.277332,2.3347616,1.3100469,3.4154086,6.394644,7.2441463,6.2295218,4.9029336,4.8285866,-4.8826303,7.3064575,6.38305,6.784453,5.063359,7.341542,-5.070238,6.065609,2.975148,2.3861842,-5.374792,-5.0526643,0.38996348,4.0382214,1.5886682,2.8988202,6.5111275,4.5239425,-5.4107647,7.4991565,2.8978133,3.2420156,5.5052557,6.7032866,6.6104884,5.1852326,3.0302575,3.5282955,4.6303315,5.9817023,2.6407766,2.4448225,4.634924,-4.8142767,5.5364747,3.4837255,2.387623,6.078173,2.2974591,5.894555,6.1657295,4.5095053,3.6771617,-5.1376843,4.9910436,5.8341804,7.130341,3.3018873,5.5055585,4.970483,4.13864,-4.864914,-5.4135904,-5.2716155,2.7853804,7.3014584,5.9383144,4.150552,2.9263191,-5.3148613,5.815202,5.6290207,5.672813,4.617085,3.9288957,3.825969,3.5802896,4.6595173,5.160896,6.425094,4.2824044,7.356071,7.7315884,6.672125,6.8992863,3.95589,6.4827657,5.5153804,4.750388,3.1404226,6.749713,7.746254,7.327136,4.912355,3.7269094,3.582677,6.0466228,6.522212,7.6584535,7.7105494,4.6002603,3.0415823,-5.2899747,6.8318653,6.3445077,-5.172424,3.6881902,7.344512,4.6434393,5.5775847,5.809,5.8305206,-5.2333636,2.9386325,7.333966,-5.7383466,3.1291127,5.0804567,7.527367,5.2132945,3.3389552,5.9943657,6.874309,-5.7846804,3.8693328,-5.2909293,5.649816,6.4401674,6.4348435,6.0802712,4.333063,4.484676,6.196423,-4.988379,4.2312694,-4.705727,4.2068386,3.5485785,-4.839618,5.321098,6.6057277,7.4265385,7.3289714,4.2043834,7.285574,3.5361228,6.223716,3.6885598,2.3650637,5.065088,6.895471,6.6172,6.710749,6.6074533,6.7556806,5.2178807,3.2498746,5.11615,5.194249,5.5878286,6.9101567,6.6715007,5.10657,3.2296143,6.529216,3.564997,4.816613,7.8343906,6.3063374,6.8450227,5.0941706,-5.5174866,-5.6188273,7.1823893,7.43067,6.7736874,5.730547,4.183788,-4.865304,3.9428568,6.4173098,6.5861096,-5.7397227,-5.8158803,7.6437883,3.6178627,6.655025,4.1291575,7.363536,6.6456947,7.4577875,-5.514645,-5.2067566,7.438949,3.5821452,6.263585,5.965538,6.636917,7.2422423,5.9107337,-5.4682007,2.7645843,6.5886874,-5.589301,3.7967622,2.704376,6.510414,-5.4766717,4.1449075,4.282429,3.6814218,4.6611886,6.3399253,-5.516922,5.9118843,2.9243438,7.3002424,4.971527,6.590254,-5.689948,4.767957,-5.7262053,4.8318005,6.4368706,-5.310675,3.2616682,5.5618935,7.8379774,7.368915,6.1595316,-5.047858,3.0819747,6.305132,5.956254,-5.4725385,4.204171,3.0198112,7.4439163,4.5571117,3.2109036,3.614486],\"yaxis\":\"y\",\"type\":\"scatter\"}],                        {\"template\":{\"data\":{\"histogram2dcontour\":[{\"type\":\"histogram2dcontour\",\"colorbar\":{\"outlinewidth\":0,\"ticks\":\"\"},\"colorscale\":[[0.0,\"#0d0887\"],[0.1111111111111111,\"#46039f\"],[0.2222222222222222,\"#7201a8\"],[0.3333333333333333,\"#9c179e\"],[0.4444444444444444,\"#bd3786\"],[0.5555555555555556,\"#d8576b\"],[0.6666666666666666,\"#ed7953\"],[0.7777777777777778,\"#fb9f3a\"],[0.8888888888888888,\"#fdca26\"],[1.0,\"#f0f921\"]]}],\"choropleth\":[{\"type\":\"choropleth\",\"colorbar\":{\"outlinewidth\":0,\"ticks\":\"\"}}],\"histogram2d\":[{\"type\":\"histogram2d\",\"colorbar\":{\"outlinewidth\":0,\"ticks\":\"\"},\"colorscale\":[[0.0,\"#0d0887\"],[0.1111111111111111,\"#46039f\"],[0.2222222222222222,\"#7201a8\"],[0.3333333333333333,\"#9c179e\"],[0.4444444444444444,\"#bd3786\"],[0.5555555555555556,\"#d8576b\"],[0.6666666666666666,\"#ed7953\"],[0.7777777777777778,\"#fb9f3a\"],[0.8888888888888888,\"#fdca26\"],[1.0,\"#f0f921\"]]}],\"heatmap\":[{\"type\":\"heatmap\",\"colorbar\":{\"outlinewidth\":0,\"ticks\":\"\"},\"colorscale\":[[0.0,\"#0d0887\"],[0.1111111111111111,\"#46039f\"],[0.2222222222222222,\"#7201a8\"],[0.3333333333333333,\"#9c179e\"],[0.4444444444444444,\"#bd3786\"],[0.5555555555555556,\"#d8576b\"],[0.6666666666666666,\"#ed7953\"],[0.7777777777777778,\"#fb9f3a\"],[0.8888888888888888,\"#fdca26\"],[1.0,\"#f0f921\"]]}],\"heatmapgl\":[{\"type\":\"heatmapgl\",\"colorbar\":{\"outlinewidth\":0,\"ticks\":\"\"},\"colorscale\":[[0.0,\"#0d0887\"],[0.1111111111111111,\"#46039f\"],[0.2222222222222222,\"#7201a8\"],[0.3333333333333333,\"#9c179e\"],[0.4444444444444444,\"#bd3786\"],[0.5555555555555556,\"#d8576b\"],[0.6666666666666666,\"#ed7953\"],[0.7777777777777778,\"#fb9f3a\"],[0.8888888888888888,\"#fdca26\"],[1.0,\"#f0f921\"]]}],\"contourcarpet\":[{\"type\":\"contourcarpet\",\"colorbar\":{\"outlinewidth\":0,\"ticks\":\"\"}}],\"contour\":[{\"type\":\"contour\",\"colorbar\":{\"outlinewidth\":0,\"ticks\":\"\"},\"colorscale\":[[0.0,\"#0d0887\"],[0.1111111111111111,\"#46039f\"],[0.2222222222222222,\"#7201a8\"],[0.3333333333333333,\"#9c179e\"],[0.4444444444444444,\"#bd3786\"],[0.5555555555555556,\"#d8576b\"],[0.6666666666666666,\"#ed7953\"],[0.7777777777777778,\"#fb9f3a\"],[0.8888888888888888,\"#fdca26\"],[1.0,\"#f0f921\"]]}],\"surface\":[{\"type\":\"surface\",\"colorbar\":{\"outlinewidth\":0,\"ticks\":\"\"},\"colorscale\":[[0.0,\"#0d0887\"],[0.1111111111111111,\"#46039f\"],[0.2222222222222222,\"#7201a8\"],[0.3333333333333333,\"#9c179e\"],[0.4444444444444444,\"#bd3786\"],[0.5555555555555556,\"#d8576b\"],[0.6666666666666666,\"#ed7953\"],[0.7777777777777778,\"#fb9f3a\"],[0.8888888888888888,\"#fdca26\"],[1.0,\"#f0f921\"]]}],\"mesh3d\":[{\"type\":\"mesh3d\",\"colorbar\":{\"outlinewidth\":0,\"ticks\":\"\"}}],\"scatter\":[{\"fillpattern\":{\"fillmode\":\"overlay\",\"size\":10,\"solidity\":0.2},\"type\":\"scatter\"}],\"parcoords\":[{\"type\":\"parcoords\",\"line\":{\"colorbar\":{\"outlinewidth\":0,\"ticks\":\"\"}}}],\"scatterpolargl\":[{\"type\":\"scatterpolargl\",\"marker\":{\"colorbar\":{\"outlinewidth\":0,\"ticks\":\"\"}}}],\"bar\":[{\"error_x\":{\"color\":\"#2a3f5f\"},\"error_y\":{\"color\":\"#2a3f5f\"},\"marker\":{\"line\":{\"color\":\"#E5ECF6\",\"width\":0.5},\"pattern\":{\"fillmode\":\"overlay\",\"size\":10,\"solidity\":0.2}},\"type\":\"bar\"}],\"scattergeo\":[{\"type\":\"scattergeo\",\"marker\":{\"colorbar\":{\"outlinewidth\":0,\"ticks\":\"\"}}}],\"scatterpolar\":[{\"type\":\"scatterpolar\",\"marker\":{\"colorbar\":{\"outlinewidth\":0,\"ticks\":\"\"}}}],\"histogram\":[{\"marker\":{\"pattern\":{\"fillmode\":\"overlay\",\"size\":10,\"solidity\":0.2}},\"type\":\"histogram\"}],\"scattergl\":[{\"type\":\"scattergl\",\"marker\":{\"colorbar\":{\"outlinewidth\":0,\"ticks\":\"\"}}}],\"scatter3d\":[{\"type\":\"scatter3d\",\"line\":{\"colorbar\":{\"outlinewidth\":0,\"ticks\":\"\"}},\"marker\":{\"colorbar\":{\"outlinewidth\":0,\"ticks\":\"\"}}}],\"scattermapbox\":[{\"type\":\"scattermapbox\",\"marker\":{\"colorbar\":{\"outlinewidth\":0,\"ticks\":\"\"}}}],\"scatterternary\":[{\"type\":\"scatterternary\",\"marker\":{\"colorbar\":{\"outlinewidth\":0,\"ticks\":\"\"}}}],\"scattercarpet\":[{\"type\":\"scattercarpet\",\"marker\":{\"colorbar\":{\"outlinewidth\":0,\"ticks\":\"\"}}}],\"carpet\":[{\"aaxis\":{\"endlinecolor\":\"#2a3f5f\",\"gridcolor\":\"white\",\"linecolor\":\"white\",\"minorgridcolor\":\"white\",\"startlinecolor\":\"#2a3f5f\"},\"baxis\":{\"endlinecolor\":\"#2a3f5f\",\"gridcolor\":\"white\",\"linecolor\":\"white\",\"minorgridcolor\":\"white\",\"startlinecolor\":\"#2a3f5f\"},\"type\":\"carpet\"}],\"table\":[{\"cells\":{\"fill\":{\"color\":\"#EBF0F8\"},\"line\":{\"color\":\"white\"}},\"header\":{\"fill\":{\"color\":\"#C8D4E3\"},\"line\":{\"color\":\"white\"}},\"type\":\"table\"}],\"barpolar\":[{\"marker\":{\"line\":{\"color\":\"#E5ECF6\",\"width\":0.5},\"pattern\":{\"fillmode\":\"overlay\",\"size\":10,\"solidity\":0.2}},\"type\":\"barpolar\"}],\"pie\":[{\"automargin\":true,\"type\":\"pie\"}]},\"layout\":{\"autotypenumbers\":\"strict\",\"colorway\":[\"#636efa\",\"#EF553B\",\"#00cc96\",\"#ab63fa\",\"#FFA15A\",\"#19d3f3\",\"#FF6692\",\"#B6E880\",\"#FF97FF\",\"#FECB52\"],\"font\":{\"color\":\"#2a3f5f\"},\"hovermode\":\"closest\",\"hoverlabel\":{\"align\":\"left\"},\"paper_bgcolor\":\"white\",\"plot_bgcolor\":\"#E5ECF6\",\"polar\":{\"bgcolor\":\"#E5ECF6\",\"angularaxis\":{\"gridcolor\":\"white\",\"linecolor\":\"white\",\"ticks\":\"\"},\"radialaxis\":{\"gridcolor\":\"white\",\"linecolor\":\"white\",\"ticks\":\"\"}},\"ternary\":{\"bgcolor\":\"#E5ECF6\",\"aaxis\":{\"gridcolor\":\"white\",\"linecolor\":\"white\",\"ticks\":\"\"},\"baxis\":{\"gridcolor\":\"white\",\"linecolor\":\"white\",\"ticks\":\"\"},\"caxis\":{\"gridcolor\":\"white\",\"linecolor\":\"white\",\"ticks\":\"\"}},\"coloraxis\":{\"colorbar\":{\"outlinewidth\":0,\"ticks\":\"\"}},\"colorscale\":{\"sequential\":[[0.0,\"#0d0887\"],[0.1111111111111111,\"#46039f\"],[0.2222222222222222,\"#7201a8\"],[0.3333333333333333,\"#9c179e\"],[0.4444444444444444,\"#bd3786\"],[0.5555555555555556,\"#d8576b\"],[0.6666666666666666,\"#ed7953\"],[0.7777777777777778,\"#fb9f3a\"],[0.8888888888888888,\"#fdca26\"],[1.0,\"#f0f921\"]],\"sequentialminus\":[[0.0,\"#0d0887\"],[0.1111111111111111,\"#46039f\"],[0.2222222222222222,\"#7201a8\"],[0.3333333333333333,\"#9c179e\"],[0.4444444444444444,\"#bd3786\"],[0.5555555555555556,\"#d8576b\"],[0.6666666666666666,\"#ed7953\"],[0.7777777777777778,\"#fb9f3a\"],[0.8888888888888888,\"#fdca26\"],[1.0,\"#f0f921\"]],\"diverging\":[[0,\"#8e0152\"],[0.1,\"#c51b7d\"],[0.2,\"#de77ae\"],[0.3,\"#f1b6da\"],[0.4,\"#fde0ef\"],[0.5,\"#f7f7f7\"],[0.6,\"#e6f5d0\"],[0.7,\"#b8e186\"],[0.8,\"#7fbc41\"],[0.9,\"#4d9221\"],[1,\"#276419\"]]},\"xaxis\":{\"gridcolor\":\"white\",\"linecolor\":\"white\",\"ticks\":\"\",\"title\":{\"standoff\":15},\"zerolinecolor\":\"white\",\"automargin\":true,\"zerolinewidth\":2},\"yaxis\":{\"gridcolor\":\"white\",\"linecolor\":\"white\",\"ticks\":\"\",\"title\":{\"standoff\":15},\"zerolinecolor\":\"white\",\"automargin\":true,\"zerolinewidth\":2},\"scene\":{\"xaxis\":{\"backgroundcolor\":\"#E5ECF6\",\"gridcolor\":\"white\",\"linecolor\":\"white\",\"showbackground\":true,\"ticks\":\"\",\"zerolinecolor\":\"white\",\"gridwidth\":2},\"yaxis\":{\"backgroundcolor\":\"#E5ECF6\",\"gridcolor\":\"white\",\"linecolor\":\"white\",\"showbackground\":true,\"ticks\":\"\",\"zerolinecolor\":\"white\",\"gridwidth\":2},\"zaxis\":{\"backgroundcolor\":\"#E5ECF6\",\"gridcolor\":\"white\",\"linecolor\":\"white\",\"showbackground\":true,\"ticks\":\"\",\"zerolinecolor\":\"white\",\"gridwidth\":2}},\"shapedefaults\":{\"line\":{\"color\":\"#2a3f5f\"}},\"annotationdefaults\":{\"arrowcolor\":\"#2a3f5f\",\"arrowhead\":0,\"arrowwidth\":1},\"geo\":{\"bgcolor\":\"white\",\"landcolor\":\"#E5ECF6\",\"subunitcolor\":\"white\",\"showland\":true,\"showlakes\":true,\"lakecolor\":\"white\"},\"title\":{\"x\":0.05},\"mapbox\":{\"style\":\"light\"}}},\"xaxis\":{\"anchor\":\"y\",\"domain\":[0.0,1.0],\"title\":{\"text\":\"x\"}},\"yaxis\":{\"anchor\":\"x\",\"domain\":[0.0,1.0],\"title\":{\"text\":\"y\"}},\"legend\":{\"tracegroupgap\":0},\"margin\":{\"t\":60}},                        {\"responsive\": true}                    ).then(function(){\n",
       "                            \n",
       "var gd = document.getElementById('a76eaa0c-c549-4649-a0d4-de61b744b3ae');\n",
       "var x = new MutationObserver(function (mutations, observer) {{\n",
       "        var display = window.getComputedStyle(gd).display;\n",
       "        if (!display || display === 'none') {{\n",
       "            console.log([gd, 'removed!']);\n",
       "            Plotly.purge(gd);\n",
       "            observer.disconnect();\n",
       "        }}\n",
       "}});\n",
       "\n",
       "// Listen for the removal of the full notebook cells\n",
       "var notebookContainer = gd.closest('#notebook-container');\n",
       "if (notebookContainer) {{\n",
       "    x.observe(notebookContainer, {childList: true});\n",
       "}}\n",
       "\n",
       "// Listen for the clearing of the current output cell\n",
       "var outputEl = gd.closest('.output');\n",
       "if (outputEl) {{\n",
       "    x.observe(outputEl, {childList: true});\n",
       "}}\n",
       "\n",
       "                        })                };                });            </script>        </div>"
      ]
     },
     "metadata": {},
     "output_type": "display_data"
    }
   ],
   "source": [
    "from plotly import express\n",
    "\n",
    "express.scatter(data_frame=df, x='x', y='y', hover_name='name', )"
   ]
  },
  {
   "cell_type": "code",
   "execution_count": null,
   "id": "e91bdbbc",
   "metadata": {
    "papermill": {
     "duration": 0.005801,
     "end_time": "2024-11-08T19:07:05.731262",
     "exception": false,
     "start_time": "2024-11-08T19:07:05.725461",
     "status": "completed"
    },
    "tags": []
   },
   "outputs": [],
   "source": []
  }
 ],
 "metadata": {
  "kaggle": {
   "accelerator": "none",
   "dataSources": [
    {
     "datasetId": 5793935,
     "sourceId": 9517253,
     "sourceType": "datasetVersion"
    }
   ],
   "dockerImageVersionId": 30786,
   "isGpuEnabled": false,
   "isInternetEnabled": true,
   "language": "python",
   "sourceType": "notebook"
  },
  "kernelspec": {
   "display_name": "Python 3",
   "language": "python",
   "name": "python3"
  },
  "language_info": {
   "codemirror_mode": {
    "name": "ipython",
    "version": 3
   },
   "file_extension": ".py",
   "mimetype": "text/x-python",
   "name": "python",
   "nbconvert_exporter": "python",
   "pygments_lexer": "ipython3",
   "version": "3.10.14"
  },
  "papermill": {
   "default_parameters": {},
   "duration": 82.609423,
   "end_time": "2024-11-08T19:07:08.733512",
   "environment_variables": {},
   "exception": null,
   "input_path": "__notebook__.ipynb",
   "output_path": "__notebook__.ipynb",
   "parameters": {},
   "start_time": "2024-11-08T19:05:46.124089",
   "version": "2.6.0"
  }
 },
 "nbformat": 4,
 "nbformat_minor": 5
}
