{
 "cells": [
  {
   "cell_type": "markdown",
   "id": "7f4a215d",
   "metadata": {
    "papermill": {
     "duration": 0.005368,
     "end_time": "2025-02-10T19:44:42.148370",
     "exception": false,
     "start_time": "2025-02-10T19:44:42.143002",
     "status": "completed"
    },
    "tags": []
   },
   "source": [
    "Let's load up our data and do a little cleanup. We have one dirty record and some empty records."
   ]
  },
  {
   "cell_type": "code",
   "execution_count": 1,
   "id": "7e0d5814",
   "metadata": {
    "_cell_guid": "b1076dfc-b9ad-4769-8c92-a6c4dae69d19",
    "_uuid": "8f2839f25d086af736a60e9eeb907d3b93b6e0e5",
    "execution": {
     "iopub.execute_input": "2025-02-10T19:44:42.157750Z",
     "iopub.status.busy": "2025-02-10T19:44:42.157274Z",
     "iopub.status.idle": "2025-02-10T19:44:43.121338Z",
     "shell.execute_reply": "2025-02-10T19:44:43.120290Z"
    },
    "papermill": {
     "duration": 0.970406,
     "end_time": "2025-02-10T19:44:43.123258",
     "exception": false,
     "start_time": "2025-02-10T19:44:42.152852",
     "status": "completed"
    },
    "tags": []
   },
   "outputs": [
    {
     "data": {
      "text/html": [
       "<div>\n",
       "<style scoped>\n",
       "    .dataframe tbody tr th:only-of-type {\n",
       "        vertical-align: middle;\n",
       "    }\n",
       "\n",
       "    .dataframe tbody tr th {\n",
       "        vertical-align: top;\n",
       "    }\n",
       "\n",
       "    .dataframe thead th {\n",
       "        text-align: right;\n",
       "    }\n",
       "</style>\n",
       "<table border=\"1\" class=\"dataframe\">\n",
       "  <thead>\n",
       "    <tr style=\"text-align: right;\">\n",
       "      <th></th>\n",
       "      <th>title</th>\n",
       "      <th>author</th>\n",
       "      <th>season</th>\n",
       "      <th>year</th>\n",
       "    </tr>\n",
       "  </thead>\n",
       "  <tbody>\n",
       "    <tr>\n",
       "      <th>0</th>\n",
       "      <td>Metamorphosis</td>\n",
       "      <td>Franz Kafka</td>\n",
       "      <td>Autumn</td>\n",
       "      <td>2022</td>\n",
       "    </tr>\n",
       "    <tr>\n",
       "      <th>1</th>\n",
       "      <td>Cosmicomics</td>\n",
       "      <td>Italo Calvino</td>\n",
       "      <td>Autumn</td>\n",
       "      <td>2022</td>\n",
       "    </tr>\n",
       "    <tr>\n",
       "      <th>2</th>\n",
       "      <td>Lolly Willows</td>\n",
       "      <td>Sylvia Townsend Warner</td>\n",
       "      <td>Autumn</td>\n",
       "      <td>2022</td>\n",
       "    </tr>\n",
       "    <tr>\n",
       "      <th>3</th>\n",
       "      <td>The Queen of Spades</td>\n",
       "      <td>Alexander Pushkin</td>\n",
       "      <td>Autumn</td>\n",
       "      <td>2022</td>\n",
       "    </tr>\n",
       "    <tr>\n",
       "      <th>4</th>\n",
       "      <td>Lady Susan</td>\n",
       "      <td>Jane Austen</td>\n",
       "      <td>Autumn</td>\n",
       "      <td>2022</td>\n",
       "    </tr>\n",
       "  </tbody>\n",
       "</table>\n",
       "</div>"
      ],
      "text/plain": [
       "                 title                  author  season  year\n",
       "0        Metamorphosis             Franz Kafka  Autumn  2022\n",
       "1          Cosmicomics           Italo Calvino  Autumn  2022\n",
       "2        Lolly Willows  Sylvia Townsend Warner  Autumn  2022\n",
       "3  The Queen of Spades       Alexander Pushkin  Autumn  2022\n",
       "4           Lady Susan             Jane Austen  Autumn  2022"
      ]
     },
     "execution_count": 1,
     "metadata": {},
     "output_type": "execute_result"
    }
   ],
   "source": [
    "import pandas as pd\n",
    "\n",
    "DATA = '/kaggle/input/penguin-little-clothbound-classics/penguin-little-clothbound-classics.csv'\n",
    "df = pd.read_csv(filepath_or_buffer=DATA)\n",
    "df = pd.concat(axis='index', objs=[df, pd.Series(data={'title': 'The Star-Child', 'author': 'Oscar Wilde', 'season': 'Winter', 'year': 2022}).to_frame()])\n",
    "df = df[df['author'] != 'Winter']\n",
    "df = df.drop(columns=[0])\n",
    "df = df[~df['year'].isna()]\n",
    "df['year'] = df['year'].astype(int)\n",
    "df.head()"
   ]
  },
  {
   "cell_type": "markdown",
   "id": "d53182a0",
   "metadata": {
    "papermill": {
     "duration": 0.003216,
     "end_time": "2025-02-10T19:44:43.130247",
     "exception": false,
     "start_time": "2025-02-10T19:44:43.127031",
     "status": "completed"
    },
    "tags": []
   },
   "source": [
    "How many volumes do we have?"
   ]
  },
  {
   "cell_type": "code",
   "execution_count": 2,
   "id": "9cad029c",
   "metadata": {
    "execution": {
     "iopub.execute_input": "2025-02-10T19:44:43.138694Z",
     "iopub.status.busy": "2025-02-10T19:44:43.138257Z",
     "iopub.status.idle": "2025-02-10T19:44:43.144538Z",
     "shell.execute_reply": "2025-02-10T19:44:43.143507Z"
    },
    "papermill": {
     "duration": 0.01278,
     "end_time": "2025-02-10T19:44:43.146495",
     "exception": false,
     "start_time": "2025-02-10T19:44:43.133715",
     "status": "completed"
    },
    "tags": []
   },
   "outputs": [
    {
     "data": {
      "text/plain": [
       "47"
      ]
     },
     "execution_count": 2,
     "metadata": {},
     "output_type": "execute_result"
    }
   ],
   "source": [
    "len(df)"
   ]
  },
  {
   "cell_type": "markdown",
   "id": "315043fe",
   "metadata": {
    "papermill": {
     "duration": 0.003449,
     "end_time": "2025-02-10T19:44:43.156257",
     "exception": false,
     "start_time": "2025-02-10T19:44:43.152808",
     "status": "completed"
    },
    "tags": []
   },
   "source": [
    "We don't have a lot of data. Let's see what we can learn."
   ]
  },
  {
   "cell_type": "markdown",
   "id": "5b3cf996",
   "metadata": {
    "papermill": {
     "duration": 0.003206,
     "end_time": "2025-02-10T19:44:43.163020",
     "exception": false,
     "start_time": "2025-02-10T19:44:43.159814",
     "status": "completed"
    },
    "tags": []
   },
   "source": [
    "We would expect to see authors who have multiple books in this collection. Let's see if we do."
   ]
  },
  {
   "cell_type": "code",
   "execution_count": 3,
   "id": "a0cc0540",
   "metadata": {
    "execution": {
     "iopub.execute_input": "2025-02-10T19:44:43.171038Z",
     "iopub.status.busy": "2025-02-10T19:44:43.170630Z",
     "iopub.status.idle": "2025-02-10T19:44:43.183709Z",
     "shell.execute_reply": "2025-02-10T19:44:43.182360Z"
    },
    "papermill": {
     "duration": 0.019368,
     "end_time": "2025-02-10T19:44:43.185783",
     "exception": false,
     "start_time": "2025-02-10T19:44:43.166415",
     "status": "completed"
    },
    "tags": []
   },
   "outputs": [
    {
     "data": {
      "text/plain": [
       "1"
      ]
     },
     "execution_count": 3,
     "metadata": {},
     "output_type": "execute_result"
    }
   ],
   "source": [
    "df['author'].value_counts().max()"
   ]
  },
  {
   "cell_type": "markdown",
   "id": "ecdf93e8",
   "metadata": {
    "papermill": {
     "duration": 0.00602,
     "end_time": "2025-02-10T19:44:43.198452",
     "exception": false,
     "start_time": "2025-02-10T19:44:43.192432",
     "status": "completed"
    },
    "tags": []
   },
   "source": [
    "We do not. How about multiple books with the same title?"
   ]
  },
  {
   "cell_type": "code",
   "execution_count": 4,
   "id": "cd36e3f5",
   "metadata": {
    "execution": {
     "iopub.execute_input": "2025-02-10T19:44:43.207110Z",
     "iopub.status.busy": "2025-02-10T19:44:43.206628Z",
     "iopub.status.idle": "2025-02-10T19:44:43.214309Z",
     "shell.execute_reply": "2025-02-10T19:44:43.213333Z"
    },
    "papermill": {
     "duration": 0.013858,
     "end_time": "2025-02-10T19:44:43.215987",
     "exception": false,
     "start_time": "2025-02-10T19:44:43.202129",
     "status": "completed"
    },
    "tags": []
   },
   "outputs": [
    {
     "data": {
      "text/plain": [
       "1"
      ]
     },
     "execution_count": 4,
     "metadata": {},
     "output_type": "execute_result"
    }
   ],
   "source": [
    "df['title'].value_counts().max()"
   ]
  },
  {
   "cell_type": "markdown",
   "id": "97864c5b",
   "metadata": {
    "papermill": {
     "duration": 0.003533,
     "end_time": "2025-02-10T19:44:43.223380",
     "exception": false,
     "start_time": "2025-02-10T19:44:43.219847",
     "status": "completed"
    },
    "tags": []
   },
   "source": [
    "No. How are our volumes distributed across seasons?"
   ]
  },
  {
   "cell_type": "code",
   "execution_count": 5,
   "id": "78d19fda",
   "metadata": {
    "execution": {
     "iopub.execute_input": "2025-02-10T19:44:43.232434Z",
     "iopub.status.busy": "2025-02-10T19:44:43.231965Z",
     "iopub.status.idle": "2025-02-10T19:44:43.244482Z",
     "shell.execute_reply": "2025-02-10T19:44:43.243428Z"
    },
    "papermill": {
     "duration": 0.019112,
     "end_time": "2025-02-10T19:44:43.246233",
     "exception": false,
     "start_time": "2025-02-10T19:44:43.227121",
     "status": "completed"
    },
    "tags": []
   },
   "outputs": [
    {
     "data": {
      "text/html": [
       "<div>\n",
       "<style scoped>\n",
       "    .dataframe tbody tr th:only-of-type {\n",
       "        vertical-align: middle;\n",
       "    }\n",
       "\n",
       "    .dataframe tbody tr th {\n",
       "        vertical-align: top;\n",
       "    }\n",
       "\n",
       "    .dataframe thead th {\n",
       "        text-align: right;\n",
       "    }\n",
       "</style>\n",
       "<table border=\"1\" class=\"dataframe\">\n",
       "  <thead>\n",
       "    <tr style=\"text-align: right;\">\n",
       "      <th>season</th>\n",
       "      <th>Autumn</th>\n",
       "      <th>Spring</th>\n",
       "      <th>Summer</th>\n",
       "      <th>Winter</th>\n",
       "    </tr>\n",
       "  </thead>\n",
       "  <tbody>\n",
       "    <tr>\n",
       "      <th>count</th>\n",
       "      <td>12</td>\n",
       "      <td>12</td>\n",
       "      <td>12</td>\n",
       "      <td>11</td>\n",
       "    </tr>\n",
       "  </tbody>\n",
       "</table>\n",
       "</div>"
      ],
      "text/plain": [
       "season  Autumn  Spring  Summer  Winter\n",
       "count       12      12      12      11"
      ]
     },
     "execution_count": 5,
     "metadata": {},
     "output_type": "execute_result"
    }
   ],
   "source": [
    "df['season'].value_counts().to_frame().T"
   ]
  },
  {
   "cell_type": "markdown",
   "id": "f0f12101",
   "metadata": {
    "papermill": {
     "duration": 0.003846,
     "end_time": "2025-02-10T19:44:43.254174",
     "exception": false,
     "start_time": "2025-02-10T19:44:43.250328",
     "status": "completed"
    },
    "tags": []
   },
   "source": [
    "Our volumes are distributed almost equally; winter is one short. How are they distributed across years?"
   ]
  },
  {
   "cell_type": "code",
   "execution_count": 6,
   "id": "4a785746",
   "metadata": {
    "execution": {
     "iopub.execute_input": "2025-02-10T19:44:43.263487Z",
     "iopub.status.busy": "2025-02-10T19:44:43.263042Z",
     "iopub.status.idle": "2025-02-10T19:44:43.276243Z",
     "shell.execute_reply": "2025-02-10T19:44:43.275249Z"
    },
    "papermill": {
     "duration": 0.019629,
     "end_time": "2025-02-10T19:44:43.277792",
     "exception": false,
     "start_time": "2025-02-10T19:44:43.258163",
     "status": "completed"
    },
    "tags": []
   },
   "outputs": [
    {
     "data": {
      "text/html": [
       "<div>\n",
       "<style scoped>\n",
       "    .dataframe tbody tr th:only-of-type {\n",
       "        vertical-align: middle;\n",
       "    }\n",
       "\n",
       "    .dataframe tbody tr th {\n",
       "        vertical-align: top;\n",
       "    }\n",
       "\n",
       "    .dataframe thead th {\n",
       "        text-align: right;\n",
       "    }\n",
       "</style>\n",
       "<table border=\"1\" class=\"dataframe\">\n",
       "  <thead>\n",
       "    <tr style=\"text-align: right;\">\n",
       "      <th>year</th>\n",
       "      <th>2023</th>\n",
       "      <th>2022</th>\n",
       "    </tr>\n",
       "  </thead>\n",
       "  <tbody>\n",
       "    <tr>\n",
       "      <th>count</th>\n",
       "      <td>24</td>\n",
       "      <td>23</td>\n",
       "    </tr>\n",
       "  </tbody>\n",
       "</table>\n",
       "</div>"
      ],
      "text/plain": [
       "year   2023  2022\n",
       "count    24    23"
      ]
     },
     "execution_count": 6,
     "metadata": {},
     "output_type": "execute_result"
    }
   ],
   "source": [
    "df['year'].value_counts().to_frame().T"
   ]
  },
  {
   "cell_type": "markdown",
   "id": "d6471d7b",
   "metadata": {
    "papermill": {
     "duration": 0.003709,
     "end_time": "2025-02-10T19:44:43.285592",
     "exception": false,
     "start_time": "2025-02-10T19:44:43.281883",
     "status": "completed"
    },
    "tags": []
   },
   "source": [
    "How are the volumes distributed across seasons and years?"
   ]
  },
  {
   "cell_type": "code",
   "execution_count": 7,
   "id": "beeb0307",
   "metadata": {
    "execution": {
     "iopub.execute_input": "2025-02-10T19:44:43.294894Z",
     "iopub.status.busy": "2025-02-10T19:44:43.294420Z",
     "iopub.status.idle": "2025-02-10T19:44:43.316581Z",
     "shell.execute_reply": "2025-02-10T19:44:43.315578Z"
    },
    "papermill": {
     "duration": 0.028865,
     "end_time": "2025-02-10T19:44:43.318381",
     "exception": false,
     "start_time": "2025-02-10T19:44:43.289516",
     "status": "completed"
    },
    "tags": []
   },
   "outputs": [
    {
     "data": {
      "text/html": [
       "<div>\n",
       "<style scoped>\n",
       "    .dataframe tbody tr th:only-of-type {\n",
       "        vertical-align: middle;\n",
       "    }\n",
       "\n",
       "    .dataframe tbody tr th {\n",
       "        vertical-align: top;\n",
       "    }\n",
       "\n",
       "    .dataframe thead th {\n",
       "        text-align: right;\n",
       "    }\n",
       "</style>\n",
       "<table border=\"1\" class=\"dataframe\">\n",
       "  <thead>\n",
       "    <tr style=\"text-align: right;\">\n",
       "      <th></th>\n",
       "      <th>0</th>\n",
       "      <th>3</th>\n",
       "      <th>1</th>\n",
       "      <th>2</th>\n",
       "    </tr>\n",
       "  </thead>\n",
       "  <tbody>\n",
       "    <tr>\n",
       "      <th>season</th>\n",
       "      <td>Autumn</td>\n",
       "      <td>Winter</td>\n",
       "      <td>Spring</td>\n",
       "      <td>Summer</td>\n",
       "    </tr>\n",
       "    <tr>\n",
       "      <th>year</th>\n",
       "      <td>2022</td>\n",
       "      <td>2022</td>\n",
       "      <td>2023</td>\n",
       "      <td>2023</td>\n",
       "    </tr>\n",
       "    <tr>\n",
       "      <th>count</th>\n",
       "      <td>12</td>\n",
       "      <td>11</td>\n",
       "      <td>12</td>\n",
       "      <td>12</td>\n",
       "    </tr>\n",
       "  </tbody>\n",
       "</table>\n",
       "</div>"
      ],
      "text/plain": [
       "             0       3       1       2\n",
       "season  Autumn  Winter  Spring  Summer\n",
       "year      2022    2022    2023    2023\n",
       "count       12      11      12      12"
      ]
     },
     "execution_count": 7,
     "metadata": {},
     "output_type": "execute_result"
    }
   ],
   "source": [
    "df[['season', 'year']].value_counts().to_frame().reset_index().sort_index().sort_values(by='year').T"
   ]
  }
 ],
 "metadata": {
  "kaggle": {
   "accelerator": "none",
   "dataSources": [
    {
     "datasetId": 6632001,
     "sourceId": 10701663,
     "sourceType": "datasetVersion"
    }
   ],
   "dockerImageVersionId": 30886,
   "isGpuEnabled": false,
   "isInternetEnabled": true,
   "language": "python",
   "sourceType": "notebook"
  },
  "kernelspec": {
   "display_name": "Python 3",
   "language": "python",
   "name": "python3"
  },
  "language_info": {
   "codemirror_mode": {
    "name": "ipython",
    "version": 3
   },
   "file_extension": ".py",
   "mimetype": "text/x-python",
   "name": "python",
   "nbconvert_exporter": "python",
   "pygments_lexer": "ipython3",
   "version": "3.10.12"
  },
  "papermill": {
   "default_parameters": {},
   "duration": 4.587927,
   "end_time": "2025-02-10T19:44:43.942127",
   "environment_variables": {},
   "exception": null,
   "input_path": "__notebook__.ipynb",
   "output_path": "__notebook__.ipynb",
   "parameters": {},
   "start_time": "2025-02-10T19:44:39.354200",
   "version": "2.6.0"
  }
 },
 "nbformat": 4,
 "nbformat_minor": 5
}
