{
 "cells": [
  {
   "cell_type": "code",
   "execution_count": 1,
   "id": "54b86332",
   "metadata": {
    "_cell_guid": "b1076dfc-b9ad-4769-8c92-a6c4dae69d19",
    "_uuid": "8f2839f25d086af736a60e9eeb907d3b93b6e0e5",
    "execution": {
     "iopub.execute_input": "2024-07-04T09:42:40.472115Z",
     "iopub.status.busy": "2024-07-04T09:42:40.471689Z",
     "iopub.status.idle": "2024-07-04T09:42:41.581516Z",
     "shell.execute_reply": "2024-07-04T09:42:41.580338Z"
    },
    "papermill": {
     "duration": 1.119796,
     "end_time": "2024-07-04T09:42:41.584356",
     "exception": false,
     "start_time": "2024-07-04T09:42:40.464560",
     "status": "completed"
    },
    "tags": []
   },
   "outputs": [
    {
     "data": {
      "text/html": [
       "<div>\n",
       "<style scoped>\n",
       "    .dataframe tbody tr th:only-of-type {\n",
       "        vertical-align: middle;\n",
       "    }\n",
       "\n",
       "    .dataframe tbody tr th {\n",
       "        vertical-align: top;\n",
       "    }\n",
       "\n",
       "    .dataframe thead th {\n",
       "        text-align: right;\n",
       "    }\n",
       "</style>\n",
       "<table border=\"1\" class=\"dataframe\">\n",
       "  <thead>\n",
       "    <tr style=\"text-align: right;\">\n",
       "      <th></th>\n",
       "      <th>Recency</th>\n",
       "      <th>Frequency</th>\n",
       "      <th>Monetary</th>\n",
       "      <th>Time</th>\n",
       "      <th>Class</th>\n",
       "      <th>target</th>\n",
       "    </tr>\n",
       "  </thead>\n",
       "  <tbody>\n",
       "    <tr>\n",
       "      <th>0</th>\n",
       "      <td>2</td>\n",
       "      <td>50</td>\n",
       "      <td>12500</td>\n",
       "      <td>98</td>\n",
       "      <td>donated</td>\n",
       "      <td>True</td>\n",
       "    </tr>\n",
       "    <tr>\n",
       "      <th>1</th>\n",
       "      <td>0</td>\n",
       "      <td>13</td>\n",
       "      <td>3250</td>\n",
       "      <td>28</td>\n",
       "      <td>donated</td>\n",
       "      <td>True</td>\n",
       "    </tr>\n",
       "    <tr>\n",
       "      <th>2</th>\n",
       "      <td>1</td>\n",
       "      <td>16</td>\n",
       "      <td>4000</td>\n",
       "      <td>35</td>\n",
       "      <td>donated</td>\n",
       "      <td>True</td>\n",
       "    </tr>\n",
       "    <tr>\n",
       "      <th>3</th>\n",
       "      <td>2</td>\n",
       "      <td>20</td>\n",
       "      <td>5000</td>\n",
       "      <td>45</td>\n",
       "      <td>donated</td>\n",
       "      <td>True</td>\n",
       "    </tr>\n",
       "    <tr>\n",
       "      <th>4</th>\n",
       "      <td>1</td>\n",
       "      <td>24</td>\n",
       "      <td>6000</td>\n",
       "      <td>77</td>\n",
       "      <td>not donated</td>\n",
       "      <td>False</td>\n",
       "    </tr>\n",
       "  </tbody>\n",
       "</table>\n",
       "</div>"
      ],
      "text/plain": [
       "   Recency  Frequency  Monetary  Time        Class  target\n",
       "0        2         50     12500    98      donated    True\n",
       "1        0         13      3250    28      donated    True\n",
       "2        1         16      4000    35      donated    True\n",
       "3        2         20      5000    45      donated    True\n",
       "4        1         24      6000    77  not donated   False"
      ]
     },
     "execution_count": 1,
     "metadata": {},
     "output_type": "execute_result"
    }
   ],
   "source": [
    "import pandas as pd\n",
    "\n",
    "DATA = '/kaggle/input/blood-transfusion-classification/blood_transfusion.csv'\n",
    "\n",
    "df = pd.read_csv(filepath_or_buffer=DATA)\n",
    "df['target'] = df['Class'] == 'donated'\n",
    "\n",
    "df.head()"
   ]
  },
  {
   "cell_type": "markdown",
   "id": "c3aa1fd1",
   "metadata": {
    "papermill": {
     "duration": 0.004895,
     "end_time": "2024-07-04T09:42:41.594802",
     "exception": false,
     "start_time": "2024-07-04T09:42:41.589907",
     "status": "completed"
    },
    "tags": []
   },
   "source": [
    "We don't have a lot of data, and we don't expect the independent variables to be completely determinative of the target for obvious reasons."
   ]
  },
  {
   "cell_type": "code",
   "execution_count": 2,
   "id": "1d6bdf19",
   "metadata": {
    "execution": {
     "iopub.execute_input": "2024-07-04T09:42:41.607184Z",
     "iopub.status.busy": "2024-07-04T09:42:41.606571Z",
     "iopub.status.idle": "2024-07-04T09:42:44.617424Z",
     "shell.execute_reply": "2024-07-04T09:42:44.615862Z"
    },
    "papermill": {
     "duration": 3.020051,
     "end_time": "2024-07-04T09:42:44.620039",
     "exception": false,
     "start_time": "2024-07-04T09:42:41.599988",
     "status": "completed"
    },
    "tags": []
   },
   "outputs": [
    {
     "data": {
      "text/html": [
       "        <script type=\"text/javascript\">\n",
       "        window.PlotlyConfig = {MathJaxConfig: 'local'};\n",
       "        if (window.MathJax && window.MathJax.Hub && window.MathJax.Hub.Config) {window.MathJax.Hub.Config({SVG: {font: \"STIX-Web\"}});}\n",
       "        if (typeof require !== 'undefined') {\n",
       "        require.undef(\"plotly\");\n",
       "        requirejs.config({\n",
       "            paths: {\n",
       "                'plotly': ['https://cdn.plot.ly/plotly-2.27.0.min']\n",
       "            }\n",
       "        });\n",
       "        require(['plotly'], function(Plotly) {\n",
       "            window._Plotly = Plotly;\n",
       "        });\n",
       "        }\n",
       "        </script>\n",
       "        "
      ]
     },
     "metadata": {},
     "output_type": "display_data"
    },
    {
     "data": {
      "text/html": [
       "<div>                            <div id=\"6f3c4692-ec8d-4a6f-ac71-9dbcdd2128b2\" class=\"plotly-graph-div\" style=\"height:525px; width:100%;\"></div>            <script type=\"text/javascript\">                require([\"plotly\"], function(Plotly) {                    window.PLOTLYENV=window.PLOTLYENV || {};                                    if (document.getElementById(\"6f3c4692-ec8d-4a6f-ac71-9dbcdd2128b2\")) {                    Plotly.newPlot(                        \"6f3c4692-ec8d-4a6f-ac71-9dbcdd2128b2\",                        [{\"alignmentgroup\":\"True\",\"bingroup\":\"x\",\"hovertemplate\":\"Class=%{x}\\u003cbr\\u003ecount=%{y}\\u003cextra\\u003e\\u003c\\u002fextra\\u003e\",\"legendgroup\":\"\",\"marker\":{\"color\":\"#636efa\",\"pattern\":{\"shape\":\"\"}},\"name\":\"\",\"offsetgroup\":\"\",\"orientation\":\"v\",\"showlegend\":false,\"x\":[\"donated\",\"donated\",\"donated\",\"donated\",\"not donated\",\"not donated\",\"donated\",\"not donated\",\"donated\",\"donated\",\"not donated\",\"not donated\",\"donated\",\"not donated\",\"donated\",\"donated\",\"donated\",\"donated\",\"donated\",\"donated\",\"donated\",\"not donated\",\"donated\",\"donated\",\"not donated\",\"not donated\",\"not donated\",\"donated\",\"donated\",\"not donated\",\"not donated\",\"donated\",\"donated\",\"donated\",\"not donated\",\"donated\",\"donated\",\"donated\",\"donated\",\"donated\",\"donated\",\"not donated\",\"donated\",\"not donated\",\"donated\",\"donated\",\"not donated\",\"not donated\",\"not donated\",\"not donated\",\"not donated\",\"donated\",\"not donated\",\"not donated\",\"donated\",\"donated\",\"donated\",\"donated\",\"not donated\",\"not donated\",\"not donated\",\"donated\",\"not donated\",\"donated\",\"donated\",\"not donated\",\"donated\",\"not donated\",\"not donated\",\"not donated\",\"not donated\",\"not donated\",\"donated\",\"not donated\",\"donated\",\"donated\",\"donated\",\"not donated\",\"not donated\",\"not donated\",\"donated\",\"not donated\",\"not donated\",\"not donated\",\"donated\",\"not donated\",\"not donated\",\"not donated\",\"not donated\",\"donated\",\"donated\",\"not donated\",\"not donated\",\"not donated\",\"not donated\",\"not donated\",\"not donated\",\"donated\",\"donated\",\"donated\",\"donated\",\"donated\",\"not donated\",\"not donated\",\"not donated\",\"not donated\",\"not donated\",\"not donated\",\"not donated\",\"not donated\",\"donated\",\"not donated\",\"not donated\",\"donated\",\"not donated\",\"not donated\",\"donated\",\"not donated\",\"not donated\",\"donated\",\"donated\",\"donated\",\"donated\",\"donated\",\"not donated\",\"not donated\",\"donated\",\"not donated\",\"donated\",\"donated\",\"not donated\",\"not donated\",\"not donated\",\"not donated\",\"not donated\",\"not donated\",\"not donated\",\"not donated\",\"not donated\",\"not donated\",\"not donated\",\"not donated\",\"not donated\",\"not donated\",\"donated\",\"donated\",\"not donated\",\"not donated\",\"donated\",\"not donated\",\"donated\",\"not donated\",\"not donated\",\"donated\",\"not donated\",\"not donated\",\"not donated\",\"not donated\",\"not donated\",\"not donated\",\"not donated\",\"not donated\",\"not donated\",\"donated\",\"donated\",\"donated\",\"not donated\",\"not donated\",\"not donated\",\"not donated\",\"not donated\",\"not donated\",\"not donated\",\"not donated\",\"not donated\",\"not donated\",\"donated\",\"donated\",\"donated\",\"not donated\",\"donated\",\"not donated\",\"not donated\",\"not donated\",\"not donated\",\"not donated\",\"not donated\",\"not donated\",\"not donated\",\"donated\",\"not donated\",\"not donated\",\"not donated\",\"not donated\",\"not donated\",\"donated\",\"donated\",\"not donated\",\"not donated\",\"not donated\",\"not donated\",\"not donated\",\"donated\",\"not donated\",\"not donated\",\"not donated\",\"not donated\",\"not donated\",\"not donated\",\"not donated\",\"not donated\",\"not donated\",\"not donated\",\"not donated\",\"not donated\",\"donated\",\"not donated\",\"not donated\",\"not donated\",\"not donated\",\"not donated\",\"donated\",\"donated\",\"not donated\",\"donated\",\"donated\",\"not donated\",\"not donated\",\"not donated\",\"not donated\",\"not donated\",\"donated\",\"not donated\",\"not donated\",\"not donated\",\"not donated\",\"not donated\",\"not donated\",\"not donated\",\"not donated\",\"donated\",\"not donated\",\"donated\",\"donated\",\"not donated\",\"not donated\",\"not donated\",\"not donated\",\"not donated\",\"not donated\",\"not donated\",\"not donated\",\"donated\",\"donated\",\"not donated\",\"not donated\",\"not donated\",\"not donated\",\"not donated\",\"not donated\",\"not donated\",\"donated\",\"not donated\",\"donated\",\"not donated\",\"donated\",\"not donated\",\"not donated\",\"not donated\",\"not donated\",\"not donated\",\"not donated\",\"not donated\",\"not donated\",\"not donated\",\"not donated\",\"not donated\",\"not donated\",\"not donated\",\"not donated\",\"not donated\",\"donated\",\"not donated\",\"not donated\",\"not donated\",\"not donated\",\"not donated\",\"donated\",\"donated\",\"donated\",\"donated\",\"not donated\",\"not donated\",\"not donated\",\"not donated\",\"not donated\",\"not donated\",\"not donated\",\"not donated\",\"not donated\",\"not donated\",\"not donated\",\"not donated\",\"not donated\",\"not donated\",\"donated\",\"not donated\",\"not donated\",\"not donated\",\"not donated\",\"not donated\",\"not donated\",\"not donated\",\"not donated\",\"not donated\",\"not donated\",\"not donated\",\"not donated\",\"donated\",\"not donated\",\"not donated\",\"donated\",\"not donated\",\"donated\",\"not donated\",\"not donated\",\"not donated\",\"not donated\",\"donated\",\"not donated\",\"not donated\",\"not donated\",\"donated\",\"donated\",\"not donated\",\"donated\",\"not donated\",\"not donated\",\"donated\",\"not donated\",\"not donated\",\"not donated\",\"not donated\",\"not donated\",\"not donated\",\"not donated\",\"not donated\",\"not donated\",\"not donated\",\"not donated\",\"not donated\",\"not donated\",\"not donated\",\"not donated\",\"not donated\",\"not donated\",\"not donated\",\"not donated\",\"not donated\",\"not donated\",\"not donated\",\"not donated\",\"not donated\",\"not donated\",\"not donated\",\"donated\",\"not donated\",\"not donated\",\"not donated\",\"donated\",\"donated\",\"not donated\",\"not donated\",\"not donated\",\"not donated\",\"donated\",\"not donated\",\"not donated\",\"not donated\",\"not donated\",\"not donated\",\"not donated\",\"not donated\",\"not donated\",\"not donated\",\"not donated\",\"not donated\",\"not donated\",\"not donated\",\"not donated\",\"not donated\",\"not donated\",\"not donated\",\"not donated\",\"not donated\",\"not donated\",\"donated\",\"not donated\",\"not donated\",\"donated\",\"not donated\",\"not donated\",\"not donated\",\"not donated\",\"not donated\",\"not donated\",\"not donated\",\"not donated\",\"not donated\",\"not donated\",\"not donated\",\"not donated\",\"not donated\",\"not donated\",\"not donated\",\"not donated\",\"not donated\",\"not donated\",\"not donated\",\"not donated\",\"not donated\",\"not donated\",\"not donated\",\"not donated\",\"not donated\",\"not donated\",\"not donated\",\"not donated\",\"not donated\",\"not donated\",\"not donated\",\"not donated\",\"donated\",\"not donated\",\"not donated\",\"not donated\",\"not donated\",\"not donated\",\"not donated\",\"not donated\",\"not donated\",\"not donated\",\"not donated\",\"not donated\",\"not donated\",\"not donated\",\"not donated\",\"not donated\",\"not donated\",\"not donated\",\"not donated\",\"not donated\",\"not donated\",\"not donated\",\"not donated\",\"not donated\",\"not donated\",\"not donated\",\"not donated\",\"not donated\",\"not donated\",\"not donated\",\"donated\",\"not donated\",\"not donated\",\"not donated\",\"not donated\",\"not donated\",\"donated\",\"not donated\",\"not donated\",\"not donated\",\"not donated\",\"not donated\",\"not donated\",\"donated\",\"not donated\",\"not donated\",\"not donated\",\"not donated\",\"not donated\",\"not donated\",\"not donated\",\"not donated\",\"not donated\",\"not donated\",\"not donated\",\"not donated\",\"not donated\",\"not donated\",\"not donated\",\"not donated\",\"not donated\",\"not donated\",\"not donated\",\"not donated\",\"not donated\",\"not donated\",\"not donated\",\"not donated\",\"donated\",\"donated\",\"donated\",\"not donated\",\"donated\",\"donated\",\"donated\",\"not donated\",\"donated\",\"donated\",\"donated\",\"not donated\",\"not donated\",\"not donated\",\"donated\",\"not donated\",\"donated\",\"donated\",\"donated\",\"donated\",\"donated\",\"donated\",\"donated\",\"donated\",\"not donated\",\"not donated\",\"donated\",\"not donated\",\"not donated\",\"donated\",\"donated\",\"donated\",\"not donated\",\"not donated\",\"not donated\",\"donated\",\"donated\",\"donated\",\"donated\",\"donated\",\"donated\",\"not donated\",\"donated\",\"donated\",\"not donated\",\"donated\",\"not donated\",\"not donated\",\"donated\",\"donated\",\"not donated\",\"donated\",\"donated\",\"not donated\",\"not donated\",\"not donated\",\"not donated\",\"not donated\",\"not donated\",\"not donated\",\"donated\",\"not donated\",\"donated\",\"not donated\",\"not donated\",\"not donated\",\"not donated\",\"not donated\",\"donated\",\"not donated\",\"not donated\",\"not donated\",\"donated\",\"not donated\",\"donated\",\"donated\",\"donated\",\"not donated\",\"not donated\",\"not donated\",\"not donated\",\"donated\",\"not donated\",\"not donated\",\"not donated\",\"not donated\",\"donated\",\"not donated\",\"not donated\",\"not donated\",\"not donated\",\"not donated\",\"not donated\",\"donated\",\"not donated\",\"not donated\",\"donated\",\"not donated\",\"not donated\",\"not donated\",\"not donated\",\"not donated\",\"not donated\",\"not donated\",\"not donated\",\"not donated\",\"not donated\",\"not donated\",\"not donated\",\"not donated\",\"not donated\",\"not donated\",\"donated\",\"not donated\",\"not donated\",\"not donated\",\"not donated\",\"not donated\",\"donated\",\"not donated\",\"not donated\",\"not donated\",\"donated\",\"not donated\",\"donated\",\"not donated\",\"not donated\",\"not donated\",\"not donated\",\"not donated\",\"not donated\",\"not donated\",\"not donated\",\"not donated\",\"not donated\",\"not donated\",\"not donated\",\"not donated\",\"not donated\",\"donated\",\"donated\",\"not donated\",\"not donated\",\"not donated\",\"donated\",\"not donated\",\"not donated\",\"not donated\",\"not donated\",\"not donated\",\"not donated\",\"not donated\",\"not donated\",\"not donated\",\"not donated\",\"not donated\",\"not donated\",\"not donated\",\"not donated\",\"not donated\",\"not donated\",\"not donated\",\"not donated\",\"not donated\",\"not donated\",\"not donated\",\"not donated\",\"donated\",\"not donated\",\"donated\",\"not donated\",\"not donated\",\"not donated\",\"not donated\",\"not donated\",\"not donated\",\"not donated\",\"not donated\",\"not donated\",\"not donated\",\"donated\",\"not donated\",\"not donated\",\"not donated\",\"not donated\",\"not donated\",\"not donated\",\"not donated\",\"not donated\",\"not donated\",\"not donated\",\"not donated\",\"not donated\",\"not donated\",\"not donated\",\"donated\",\"not donated\",\"not donated\",\"not donated\",\"not donated\",\"not donated\",\"not donated\",\"not donated\",\"not donated\",\"not donated\",\"not donated\",\"not donated\",\"not donated\",\"donated\",\"not donated\",\"not donated\",\"not donated\",\"donated\",\"not donated\",\"not donated\",\"not donated\",\"not donated\",\"not donated\",\"not donated\",\"not donated\",\"not donated\",\"not donated\",\"not donated\",\"not donated\",\"not donated\",\"not donated\",\"not donated\",\"not donated\",\"not donated\",\"not donated\",\"not donated\",\"not donated\",\"donated\",\"not donated\",\"not donated\",\"not donated\",\"not donated\",\"not donated\",\"not donated\",\"not donated\",\"not donated\",\"not donated\",\"not donated\",\"not donated\",\"not donated\",\"not donated\",\"not donated\",\"not donated\"],\"xaxis\":\"x\",\"yaxis\":\"y\",\"type\":\"histogram\"}],                        {\"template\":{\"data\":{\"histogram2dcontour\":[{\"type\":\"histogram2dcontour\",\"colorbar\":{\"outlinewidth\":0,\"ticks\":\"\"},\"colorscale\":[[0.0,\"#0d0887\"],[0.1111111111111111,\"#46039f\"],[0.2222222222222222,\"#7201a8\"],[0.3333333333333333,\"#9c179e\"],[0.4444444444444444,\"#bd3786\"],[0.5555555555555556,\"#d8576b\"],[0.6666666666666666,\"#ed7953\"],[0.7777777777777778,\"#fb9f3a\"],[0.8888888888888888,\"#fdca26\"],[1.0,\"#f0f921\"]]}],\"choropleth\":[{\"type\":\"choropleth\",\"colorbar\":{\"outlinewidth\":0,\"ticks\":\"\"}}],\"histogram2d\":[{\"type\":\"histogram2d\",\"colorbar\":{\"outlinewidth\":0,\"ticks\":\"\"},\"colorscale\":[[0.0,\"#0d0887\"],[0.1111111111111111,\"#46039f\"],[0.2222222222222222,\"#7201a8\"],[0.3333333333333333,\"#9c179e\"],[0.4444444444444444,\"#bd3786\"],[0.5555555555555556,\"#d8576b\"],[0.6666666666666666,\"#ed7953\"],[0.7777777777777778,\"#fb9f3a\"],[0.8888888888888888,\"#fdca26\"],[1.0,\"#f0f921\"]]}],\"heatmap\":[{\"type\":\"heatmap\",\"colorbar\":{\"outlinewidth\":0,\"ticks\":\"\"},\"colorscale\":[[0.0,\"#0d0887\"],[0.1111111111111111,\"#46039f\"],[0.2222222222222222,\"#7201a8\"],[0.3333333333333333,\"#9c179e\"],[0.4444444444444444,\"#bd3786\"],[0.5555555555555556,\"#d8576b\"],[0.6666666666666666,\"#ed7953\"],[0.7777777777777778,\"#fb9f3a\"],[0.8888888888888888,\"#fdca26\"],[1.0,\"#f0f921\"]]}],\"heatmapgl\":[{\"type\":\"heatmapgl\",\"colorbar\":{\"outlinewidth\":0,\"ticks\":\"\"},\"colorscale\":[[0.0,\"#0d0887\"],[0.1111111111111111,\"#46039f\"],[0.2222222222222222,\"#7201a8\"],[0.3333333333333333,\"#9c179e\"],[0.4444444444444444,\"#bd3786\"],[0.5555555555555556,\"#d8576b\"],[0.6666666666666666,\"#ed7953\"],[0.7777777777777778,\"#fb9f3a\"],[0.8888888888888888,\"#fdca26\"],[1.0,\"#f0f921\"]]}],\"contourcarpet\":[{\"type\":\"contourcarpet\",\"colorbar\":{\"outlinewidth\":0,\"ticks\":\"\"}}],\"contour\":[{\"type\":\"contour\",\"colorbar\":{\"outlinewidth\":0,\"ticks\":\"\"},\"colorscale\":[[0.0,\"#0d0887\"],[0.1111111111111111,\"#46039f\"],[0.2222222222222222,\"#7201a8\"],[0.3333333333333333,\"#9c179e\"],[0.4444444444444444,\"#bd3786\"],[0.5555555555555556,\"#d8576b\"],[0.6666666666666666,\"#ed7953\"],[0.7777777777777778,\"#fb9f3a\"],[0.8888888888888888,\"#fdca26\"],[1.0,\"#f0f921\"]]}],\"surface\":[{\"type\":\"surface\",\"colorbar\":{\"outlinewidth\":0,\"ticks\":\"\"},\"colorscale\":[[0.0,\"#0d0887\"],[0.1111111111111111,\"#46039f\"],[0.2222222222222222,\"#7201a8\"],[0.3333333333333333,\"#9c179e\"],[0.4444444444444444,\"#bd3786\"],[0.5555555555555556,\"#d8576b\"],[0.6666666666666666,\"#ed7953\"],[0.7777777777777778,\"#fb9f3a\"],[0.8888888888888888,\"#fdca26\"],[1.0,\"#f0f921\"]]}],\"mesh3d\":[{\"type\":\"mesh3d\",\"colorbar\":{\"outlinewidth\":0,\"ticks\":\"\"}}],\"scatter\":[{\"fillpattern\":{\"fillmode\":\"overlay\",\"size\":10,\"solidity\":0.2},\"type\":\"scatter\"}],\"parcoords\":[{\"type\":\"parcoords\",\"line\":{\"colorbar\":{\"outlinewidth\":0,\"ticks\":\"\"}}}],\"scatterpolargl\":[{\"type\":\"scatterpolargl\",\"marker\":{\"colorbar\":{\"outlinewidth\":0,\"ticks\":\"\"}}}],\"bar\":[{\"error_x\":{\"color\":\"#2a3f5f\"},\"error_y\":{\"color\":\"#2a3f5f\"},\"marker\":{\"line\":{\"color\":\"#E5ECF6\",\"width\":0.5},\"pattern\":{\"fillmode\":\"overlay\",\"size\":10,\"solidity\":0.2}},\"type\":\"bar\"}],\"scattergeo\":[{\"type\":\"scattergeo\",\"marker\":{\"colorbar\":{\"outlinewidth\":0,\"ticks\":\"\"}}}],\"scatterpolar\":[{\"type\":\"scatterpolar\",\"marker\":{\"colorbar\":{\"outlinewidth\":0,\"ticks\":\"\"}}}],\"histogram\":[{\"marker\":{\"pattern\":{\"fillmode\":\"overlay\",\"size\":10,\"solidity\":0.2}},\"type\":\"histogram\"}],\"scattergl\":[{\"type\":\"scattergl\",\"marker\":{\"colorbar\":{\"outlinewidth\":0,\"ticks\":\"\"}}}],\"scatter3d\":[{\"type\":\"scatter3d\",\"line\":{\"colorbar\":{\"outlinewidth\":0,\"ticks\":\"\"}},\"marker\":{\"colorbar\":{\"outlinewidth\":0,\"ticks\":\"\"}}}],\"scattermapbox\":[{\"type\":\"scattermapbox\",\"marker\":{\"colorbar\":{\"outlinewidth\":0,\"ticks\":\"\"}}}],\"scatterternary\":[{\"type\":\"scatterternary\",\"marker\":{\"colorbar\":{\"outlinewidth\":0,\"ticks\":\"\"}}}],\"scattercarpet\":[{\"type\":\"scattercarpet\",\"marker\":{\"colorbar\":{\"outlinewidth\":0,\"ticks\":\"\"}}}],\"carpet\":[{\"aaxis\":{\"endlinecolor\":\"#2a3f5f\",\"gridcolor\":\"white\",\"linecolor\":\"white\",\"minorgridcolor\":\"white\",\"startlinecolor\":\"#2a3f5f\"},\"baxis\":{\"endlinecolor\":\"#2a3f5f\",\"gridcolor\":\"white\",\"linecolor\":\"white\",\"minorgridcolor\":\"white\",\"startlinecolor\":\"#2a3f5f\"},\"type\":\"carpet\"}],\"table\":[{\"cells\":{\"fill\":{\"color\":\"#EBF0F8\"},\"line\":{\"color\":\"white\"}},\"header\":{\"fill\":{\"color\":\"#C8D4E3\"},\"line\":{\"color\":\"white\"}},\"type\":\"table\"}],\"barpolar\":[{\"marker\":{\"line\":{\"color\":\"#E5ECF6\",\"width\":0.5},\"pattern\":{\"fillmode\":\"overlay\",\"size\":10,\"solidity\":0.2}},\"type\":\"barpolar\"}],\"pie\":[{\"automargin\":true,\"type\":\"pie\"}]},\"layout\":{\"autotypenumbers\":\"strict\",\"colorway\":[\"#636efa\",\"#EF553B\",\"#00cc96\",\"#ab63fa\",\"#FFA15A\",\"#19d3f3\",\"#FF6692\",\"#B6E880\",\"#FF97FF\",\"#FECB52\"],\"font\":{\"color\":\"#2a3f5f\"},\"hovermode\":\"closest\",\"hoverlabel\":{\"align\":\"left\"},\"paper_bgcolor\":\"white\",\"plot_bgcolor\":\"#E5ECF6\",\"polar\":{\"bgcolor\":\"#E5ECF6\",\"angularaxis\":{\"gridcolor\":\"white\",\"linecolor\":\"white\",\"ticks\":\"\"},\"radialaxis\":{\"gridcolor\":\"white\",\"linecolor\":\"white\",\"ticks\":\"\"}},\"ternary\":{\"bgcolor\":\"#E5ECF6\",\"aaxis\":{\"gridcolor\":\"white\",\"linecolor\":\"white\",\"ticks\":\"\"},\"baxis\":{\"gridcolor\":\"white\",\"linecolor\":\"white\",\"ticks\":\"\"},\"caxis\":{\"gridcolor\":\"white\",\"linecolor\":\"white\",\"ticks\":\"\"}},\"coloraxis\":{\"colorbar\":{\"outlinewidth\":0,\"ticks\":\"\"}},\"colorscale\":{\"sequential\":[[0.0,\"#0d0887\"],[0.1111111111111111,\"#46039f\"],[0.2222222222222222,\"#7201a8\"],[0.3333333333333333,\"#9c179e\"],[0.4444444444444444,\"#bd3786\"],[0.5555555555555556,\"#d8576b\"],[0.6666666666666666,\"#ed7953\"],[0.7777777777777778,\"#fb9f3a\"],[0.8888888888888888,\"#fdca26\"],[1.0,\"#f0f921\"]],\"sequentialminus\":[[0.0,\"#0d0887\"],[0.1111111111111111,\"#46039f\"],[0.2222222222222222,\"#7201a8\"],[0.3333333333333333,\"#9c179e\"],[0.4444444444444444,\"#bd3786\"],[0.5555555555555556,\"#d8576b\"],[0.6666666666666666,\"#ed7953\"],[0.7777777777777778,\"#fb9f3a\"],[0.8888888888888888,\"#fdca26\"],[1.0,\"#f0f921\"]],\"diverging\":[[0,\"#8e0152\"],[0.1,\"#c51b7d\"],[0.2,\"#de77ae\"],[0.3,\"#f1b6da\"],[0.4,\"#fde0ef\"],[0.5,\"#f7f7f7\"],[0.6,\"#e6f5d0\"],[0.7,\"#b8e186\"],[0.8,\"#7fbc41\"],[0.9,\"#4d9221\"],[1,\"#276419\"]]},\"xaxis\":{\"gridcolor\":\"white\",\"linecolor\":\"white\",\"ticks\":\"\",\"title\":{\"standoff\":15},\"zerolinecolor\":\"white\",\"automargin\":true,\"zerolinewidth\":2},\"yaxis\":{\"gridcolor\":\"white\",\"linecolor\":\"white\",\"ticks\":\"\",\"title\":{\"standoff\":15},\"zerolinecolor\":\"white\",\"automargin\":true,\"zerolinewidth\":2},\"scene\":{\"xaxis\":{\"backgroundcolor\":\"#E5ECF6\",\"gridcolor\":\"white\",\"linecolor\":\"white\",\"showbackground\":true,\"ticks\":\"\",\"zerolinecolor\":\"white\",\"gridwidth\":2},\"yaxis\":{\"backgroundcolor\":\"#E5ECF6\",\"gridcolor\":\"white\",\"linecolor\":\"white\",\"showbackground\":true,\"ticks\":\"\",\"zerolinecolor\":\"white\",\"gridwidth\":2},\"zaxis\":{\"backgroundcolor\":\"#E5ECF6\",\"gridcolor\":\"white\",\"linecolor\":\"white\",\"showbackground\":true,\"ticks\":\"\",\"zerolinecolor\":\"white\",\"gridwidth\":2}},\"shapedefaults\":{\"line\":{\"color\":\"#2a3f5f\"}},\"annotationdefaults\":{\"arrowcolor\":\"#2a3f5f\",\"arrowhead\":0,\"arrowwidth\":1},\"geo\":{\"bgcolor\":\"white\",\"landcolor\":\"#E5ECF6\",\"subunitcolor\":\"white\",\"showland\":true,\"showlakes\":true,\"lakecolor\":\"white\"},\"title\":{\"x\":0.05},\"mapbox\":{\"style\":\"light\"}}},\"xaxis\":{\"anchor\":\"y\",\"domain\":[0.0,1.0],\"title\":{\"text\":\"Class\"}},\"yaxis\":{\"anchor\":\"x\",\"domain\":[0.0,1.0],\"title\":{\"text\":\"count\"}},\"legend\":{\"tracegroupgap\":0},\"margin\":{\"t\":60},\"barmode\":\"relative\"},                        {\"responsive\": true}                    ).then(function(){\n",
       "                            \n",
       "var gd = document.getElementById('6f3c4692-ec8d-4a6f-ac71-9dbcdd2128b2');\n",
       "var x = new MutationObserver(function (mutations, observer) {{\n",
       "        var display = window.getComputedStyle(gd).display;\n",
       "        if (!display || display === 'none') {{\n",
       "            console.log([gd, 'removed!']);\n",
       "            Plotly.purge(gd);\n",
       "            observer.disconnect();\n",
       "        }}\n",
       "}});\n",
       "\n",
       "// Listen for the removal of the full notebook cells\n",
       "var notebookContainer = gd.closest('#notebook-container');\n",
       "if (notebookContainer) {{\n",
       "    x.observe(notebookContainer, {childList: true});\n",
       "}}\n",
       "\n",
       "// Listen for the clearing of the current output cell\n",
       "var outputEl = gd.closest('.output');\n",
       "if (outputEl) {{\n",
       "    x.observe(outputEl, {childList: true});\n",
       "}}\n",
       "\n",
       "                        })                };                });            </script>        </div>"
      ]
     },
     "metadata": {},
     "output_type": "display_data"
    }
   ],
   "source": [
    "from plotly import express\n",
    "\n",
    "express.histogram(data_frame=df, x='Class')"
   ]
  },
  {
   "cell_type": "code",
   "execution_count": 3,
   "id": "bd724177",
   "metadata": {
    "execution": {
     "iopub.execute_input": "2024-07-04T09:42:44.633910Z",
     "iopub.status.busy": "2024-07-04T09:42:44.633457Z",
     "iopub.status.idle": "2024-07-04T09:42:44.649239Z",
     "shell.execute_reply": "2024-07-04T09:42:44.647971Z"
    },
    "papermill": {
     "duration": 0.025911,
     "end_time": "2024-07-04T09:42:44.652048",
     "exception": false,
     "start_time": "2024-07-04T09:42:44.626137",
     "status": "completed"
    },
    "tags": []
   },
   "outputs": [
    {
     "data": {
      "text/plain": [
       "{'not donated': 0.7620320855614974, 'donated': 0.23796791443850268}"
      ]
     },
     "execution_count": 3,
     "metadata": {},
     "output_type": "execute_result"
    }
   ],
   "source": [
    "df['Class'].value_counts(normalize=True).to_dict()"
   ]
  },
  {
   "cell_type": "markdown",
   "id": "6f1ed348",
   "metadata": {
    "papermill": {
     "duration": 0.005759,
     "end_time": "2024-07-04T09:42:44.663944",
     "exception": false,
     "start_time": "2024-07-04T09:42:44.658185",
     "status": "completed"
    },
    "tags": []
   },
   "source": [
    "Our target class is unbalanced, with non-donors outnumbering donors about three to one."
   ]
  },
  {
   "cell_type": "code",
   "execution_count": 4,
   "id": "49c61af1",
   "metadata": {
    "execution": {
     "iopub.execute_input": "2024-07-04T09:42:44.678100Z",
     "iopub.status.busy": "2024-07-04T09:42:44.677714Z",
     "iopub.status.idle": "2024-07-04T09:42:46.344520Z",
     "shell.execute_reply": "2024-07-04T09:42:46.342696Z"
    },
    "papermill": {
     "duration": 1.676881,
     "end_time": "2024-07-04T09:42:46.347132",
     "exception": false,
     "start_time": "2024-07-04T09:42:44.670251",
     "status": "completed"
    },
    "tags": []
   },
   "outputs": [
    {
     "name": "stdout",
     "output_type": "stream",
     "text": [
      "model fit in 46 iterations took 0:00:00.021069\n",
      "accuracy: 0.7400\n",
      "model done in 0:00:00.025119\n"
     ]
    }
   ],
   "source": [
    "import arrow\n",
    "from sklearn.linear_model import LogisticRegression\n",
    "from sklearn.metrics import accuracy_score\n",
    "from sklearn.model_selection import train_test_split\n",
    "\n",
    "COLUMNS = ['Recency', 'Frequency', 'Monetary', 'Time']\n",
    "X_train, X_test, y_train, y_test = train_test_split(df[COLUMNS], df['target'], test_size=0.2, random_state=2024, stratify=df['target'])\n",
    "\n",
    "time_start = arrow.now()\n",
    "model = LogisticRegression(max_iter=100000, tol=1e-6).fit(X=X_train, y=y_train)\n",
    "print('model fit in {} iterations took {}'.format(model.n_iter_[0], arrow.now() - time_start))\n",
    "\n",
    "print('accuracy: {:5.4f}'.format(accuracy_score(y_true=y_test, y_pred=model.predict(X=X_test))))\n",
    "print('model done in {}'.format(arrow.now() - time_start))"
   ]
  },
  {
   "cell_type": "code",
   "execution_count": 5,
   "id": "c5360a64",
   "metadata": {
    "execution": {
     "iopub.execute_input": "2024-07-04T09:42:46.360912Z",
     "iopub.status.busy": "2024-07-04T09:42:46.360428Z",
     "iopub.status.idle": "2024-07-04T09:42:46.378810Z",
     "shell.execute_reply": "2024-07-04T09:42:46.377524Z"
    },
    "papermill": {
     "duration": 0.028209,
     "end_time": "2024-07-04T09:42:46.381302",
     "exception": false,
     "start_time": "2024-07-04T09:42:46.353093",
     "status": "completed"
    },
    "tags": []
   },
   "outputs": [
    {
     "name": "stdout",
     "output_type": "stream",
     "text": [
      "              precision    recall  f1-score   support\n",
      "\n",
      "       False       0.77      0.93      0.84       114\n",
      "        True       0.38      0.14      0.20        36\n",
      "\n",
      "    accuracy                           0.74       150\n",
      "   macro avg       0.58      0.53      0.52       150\n",
      "weighted avg       0.68      0.74      0.69       150\n",
      "\n"
     ]
    }
   ],
   "source": [
    "from sklearn.metrics import classification_report\n",
    "\n",
    "print(classification_report(y_true=y_test, y_pred=model.predict(X=X_test)))"
   ]
  },
  {
   "cell_type": "code",
   "execution_count": 6,
   "id": "b97e9091",
   "metadata": {
    "execution": {
     "iopub.execute_input": "2024-07-04T09:42:46.397092Z",
     "iopub.status.busy": "2024-07-04T09:42:46.396680Z",
     "iopub.status.idle": "2024-07-04T09:42:46.406824Z",
     "shell.execute_reply": "2024-07-04T09:42:46.405797Z"
    },
    "papermill": {
     "duration": 0.021445,
     "end_time": "2024-07-04T09:42:46.409299",
     "exception": false,
     "start_time": "2024-07-04T09:42:46.387854",
     "status": "completed"
    },
    "tags": []
   },
   "outputs": [
    {
     "data": {
      "text/plain": [
       "(array([False,  True]), array([137,  13]))"
      ]
     },
     "execution_count": 6,
     "metadata": {},
     "output_type": "execute_result"
    }
   ],
   "source": [
    "import numpy as np\n",
    "\n",
    "np.unique(model.predict(X=X_test), return_counts=True)"
   ]
  },
  {
   "cell_type": "code",
   "execution_count": 7,
   "id": "791e1a24",
   "metadata": {
    "execution": {
     "iopub.execute_input": "2024-07-04T09:42:46.424646Z",
     "iopub.status.busy": "2024-07-04T09:42:46.423433Z",
     "iopub.status.idle": "2024-07-04T09:42:46.431523Z",
     "shell.execute_reply": "2024-07-04T09:42:46.430337Z"
    },
    "papermill": {
     "duration": 0.01856,
     "end_time": "2024-07-04T09:42:46.434210",
     "exception": false,
     "start_time": "2024-07-04T09:42:46.415650",
     "status": "completed"
    },
    "tags": []
   },
   "outputs": [
    {
     "data": {
      "text/plain": [
       "(array([False,  True]), array([114,  36]))"
      ]
     },
     "execution_count": 7,
     "metadata": {},
     "output_type": "execute_result"
    }
   ],
   "source": [
    "np.unique(y_test, return_counts=True)"
   ]
  },
  {
   "cell_type": "markdown",
   "id": "86d5e49b",
   "metadata": {
    "papermill": {
     "duration": 0.006163,
     "end_time": "2024-07-04T09:42:46.446827",
     "exception": false,
     "start_time": "2024-07-04T09:42:46.440664",
     "status": "completed"
    },
    "tags": []
   },
   "source": [
    "Our model does a really poor job of predicting donors. It predicts \"not donor\" more than 90% of the time when it should predict \"not donor\" only 75% of the time."
   ]
  },
  {
   "cell_type": "markdown",
   "id": "780dfa77",
   "metadata": {
    "papermill": {
     "duration": 0.00608,
     "end_time": "2024-07-04T09:42:46.459285",
     "exception": false,
     "start_time": "2024-07-04T09:42:46.453205",
     "status": "completed"
    },
    "tags": []
   },
   "source": [
    "Let's look at the regression coefficients and see if they make sense."
   ]
  },
  {
   "cell_type": "code",
   "execution_count": 8,
   "id": "92805bd1",
   "metadata": {
    "execution": {
     "iopub.execute_input": "2024-07-04T09:42:46.473796Z",
     "iopub.status.busy": "2024-07-04T09:42:46.473306Z",
     "iopub.status.idle": "2024-07-04T09:42:46.550417Z",
     "shell.execute_reply": "2024-07-04T09:42:46.549214Z"
    },
    "papermill": {
     "duration": 0.087225,
     "end_time": "2024-07-04T09:42:46.552956",
     "exception": false,
     "start_time": "2024-07-04T09:42:46.465731",
     "status": "completed"
    },
    "tags": []
   },
   "outputs": [
    {
     "data": {
      "text/html": [
       "<div>                            <div id=\"ab7570e9-e7ad-402f-a1fa-2b22b8388881\" class=\"plotly-graph-div\" style=\"height:525px; width:100%;\"></div>            <script type=\"text/javascript\">                require([\"plotly\"], function(Plotly) {                    window.PLOTLYENV=window.PLOTLYENV || {};                                    if (document.getElementById(\"ab7570e9-e7ad-402f-a1fa-2b22b8388881\")) {                    Plotly.newPlot(                        \"ab7570e9-e7ad-402f-a1fa-2b22b8388881\",                        [{\"alignmentgroup\":\"True\",\"bingroup\":\"x\",\"histfunc\":\"sum\",\"hovertemplate\":\"x=%{x}\\u003cbr\\u003esum of y=%{y}\\u003cextra\\u003e\\u003c\\u002fextra\\u003e\",\"legendgroup\":\"\",\"marker\":{\"color\":\"#636efa\",\"pattern\":{\"shape\":\"\"}},\"name\":\"\",\"offsetgroup\":\"\",\"orientation\":\"v\",\"showlegend\":false,\"x\":[\"Recency\",\"Frequency\",\"Monetary\",\"Time\"],\"xaxis\":\"x\",\"y\":[-0.10027801224739923,2.8689719471396977e-6,0.000717242986701587,-0.028133122765501603],\"yaxis\":\"y\",\"type\":\"histogram\"}],                        {\"template\":{\"data\":{\"histogram2dcontour\":[{\"type\":\"histogram2dcontour\",\"colorbar\":{\"outlinewidth\":0,\"ticks\":\"\"},\"colorscale\":[[0.0,\"#0d0887\"],[0.1111111111111111,\"#46039f\"],[0.2222222222222222,\"#7201a8\"],[0.3333333333333333,\"#9c179e\"],[0.4444444444444444,\"#bd3786\"],[0.5555555555555556,\"#d8576b\"],[0.6666666666666666,\"#ed7953\"],[0.7777777777777778,\"#fb9f3a\"],[0.8888888888888888,\"#fdca26\"],[1.0,\"#f0f921\"]]}],\"choropleth\":[{\"type\":\"choropleth\",\"colorbar\":{\"outlinewidth\":0,\"ticks\":\"\"}}],\"histogram2d\":[{\"type\":\"histogram2d\",\"colorbar\":{\"outlinewidth\":0,\"ticks\":\"\"},\"colorscale\":[[0.0,\"#0d0887\"],[0.1111111111111111,\"#46039f\"],[0.2222222222222222,\"#7201a8\"],[0.3333333333333333,\"#9c179e\"],[0.4444444444444444,\"#bd3786\"],[0.5555555555555556,\"#d8576b\"],[0.6666666666666666,\"#ed7953\"],[0.7777777777777778,\"#fb9f3a\"],[0.8888888888888888,\"#fdca26\"],[1.0,\"#f0f921\"]]}],\"heatmap\":[{\"type\":\"heatmap\",\"colorbar\":{\"outlinewidth\":0,\"ticks\":\"\"},\"colorscale\":[[0.0,\"#0d0887\"],[0.1111111111111111,\"#46039f\"],[0.2222222222222222,\"#7201a8\"],[0.3333333333333333,\"#9c179e\"],[0.4444444444444444,\"#bd3786\"],[0.5555555555555556,\"#d8576b\"],[0.6666666666666666,\"#ed7953\"],[0.7777777777777778,\"#fb9f3a\"],[0.8888888888888888,\"#fdca26\"],[1.0,\"#f0f921\"]]}],\"heatmapgl\":[{\"type\":\"heatmapgl\",\"colorbar\":{\"outlinewidth\":0,\"ticks\":\"\"},\"colorscale\":[[0.0,\"#0d0887\"],[0.1111111111111111,\"#46039f\"],[0.2222222222222222,\"#7201a8\"],[0.3333333333333333,\"#9c179e\"],[0.4444444444444444,\"#bd3786\"],[0.5555555555555556,\"#d8576b\"],[0.6666666666666666,\"#ed7953\"],[0.7777777777777778,\"#fb9f3a\"],[0.8888888888888888,\"#fdca26\"],[1.0,\"#f0f921\"]]}],\"contourcarpet\":[{\"type\":\"contourcarpet\",\"colorbar\":{\"outlinewidth\":0,\"ticks\":\"\"}}],\"contour\":[{\"type\":\"contour\",\"colorbar\":{\"outlinewidth\":0,\"ticks\":\"\"},\"colorscale\":[[0.0,\"#0d0887\"],[0.1111111111111111,\"#46039f\"],[0.2222222222222222,\"#7201a8\"],[0.3333333333333333,\"#9c179e\"],[0.4444444444444444,\"#bd3786\"],[0.5555555555555556,\"#d8576b\"],[0.6666666666666666,\"#ed7953\"],[0.7777777777777778,\"#fb9f3a\"],[0.8888888888888888,\"#fdca26\"],[1.0,\"#f0f921\"]]}],\"surface\":[{\"type\":\"surface\",\"colorbar\":{\"outlinewidth\":0,\"ticks\":\"\"},\"colorscale\":[[0.0,\"#0d0887\"],[0.1111111111111111,\"#46039f\"],[0.2222222222222222,\"#7201a8\"],[0.3333333333333333,\"#9c179e\"],[0.4444444444444444,\"#bd3786\"],[0.5555555555555556,\"#d8576b\"],[0.6666666666666666,\"#ed7953\"],[0.7777777777777778,\"#fb9f3a\"],[0.8888888888888888,\"#fdca26\"],[1.0,\"#f0f921\"]]}],\"mesh3d\":[{\"type\":\"mesh3d\",\"colorbar\":{\"outlinewidth\":0,\"ticks\":\"\"}}],\"scatter\":[{\"fillpattern\":{\"fillmode\":\"overlay\",\"size\":10,\"solidity\":0.2},\"type\":\"scatter\"}],\"parcoords\":[{\"type\":\"parcoords\",\"line\":{\"colorbar\":{\"outlinewidth\":0,\"ticks\":\"\"}}}],\"scatterpolargl\":[{\"type\":\"scatterpolargl\",\"marker\":{\"colorbar\":{\"outlinewidth\":0,\"ticks\":\"\"}}}],\"bar\":[{\"error_x\":{\"color\":\"#2a3f5f\"},\"error_y\":{\"color\":\"#2a3f5f\"},\"marker\":{\"line\":{\"color\":\"#E5ECF6\",\"width\":0.5},\"pattern\":{\"fillmode\":\"overlay\",\"size\":10,\"solidity\":0.2}},\"type\":\"bar\"}],\"scattergeo\":[{\"type\":\"scattergeo\",\"marker\":{\"colorbar\":{\"outlinewidth\":0,\"ticks\":\"\"}}}],\"scatterpolar\":[{\"type\":\"scatterpolar\",\"marker\":{\"colorbar\":{\"outlinewidth\":0,\"ticks\":\"\"}}}],\"histogram\":[{\"marker\":{\"pattern\":{\"fillmode\":\"overlay\",\"size\":10,\"solidity\":0.2}},\"type\":\"histogram\"}],\"scattergl\":[{\"type\":\"scattergl\",\"marker\":{\"colorbar\":{\"outlinewidth\":0,\"ticks\":\"\"}}}],\"scatter3d\":[{\"type\":\"scatter3d\",\"line\":{\"colorbar\":{\"outlinewidth\":0,\"ticks\":\"\"}},\"marker\":{\"colorbar\":{\"outlinewidth\":0,\"ticks\":\"\"}}}],\"scattermapbox\":[{\"type\":\"scattermapbox\",\"marker\":{\"colorbar\":{\"outlinewidth\":0,\"ticks\":\"\"}}}],\"scatterternary\":[{\"type\":\"scatterternary\",\"marker\":{\"colorbar\":{\"outlinewidth\":0,\"ticks\":\"\"}}}],\"scattercarpet\":[{\"type\":\"scattercarpet\",\"marker\":{\"colorbar\":{\"outlinewidth\":0,\"ticks\":\"\"}}}],\"carpet\":[{\"aaxis\":{\"endlinecolor\":\"#2a3f5f\",\"gridcolor\":\"white\",\"linecolor\":\"white\",\"minorgridcolor\":\"white\",\"startlinecolor\":\"#2a3f5f\"},\"baxis\":{\"endlinecolor\":\"#2a3f5f\",\"gridcolor\":\"white\",\"linecolor\":\"white\",\"minorgridcolor\":\"white\",\"startlinecolor\":\"#2a3f5f\"},\"type\":\"carpet\"}],\"table\":[{\"cells\":{\"fill\":{\"color\":\"#EBF0F8\"},\"line\":{\"color\":\"white\"}},\"header\":{\"fill\":{\"color\":\"#C8D4E3\"},\"line\":{\"color\":\"white\"}},\"type\":\"table\"}],\"barpolar\":[{\"marker\":{\"line\":{\"color\":\"#E5ECF6\",\"width\":0.5},\"pattern\":{\"fillmode\":\"overlay\",\"size\":10,\"solidity\":0.2}},\"type\":\"barpolar\"}],\"pie\":[{\"automargin\":true,\"type\":\"pie\"}]},\"layout\":{\"autotypenumbers\":\"strict\",\"colorway\":[\"#636efa\",\"#EF553B\",\"#00cc96\",\"#ab63fa\",\"#FFA15A\",\"#19d3f3\",\"#FF6692\",\"#B6E880\",\"#FF97FF\",\"#FECB52\"],\"font\":{\"color\":\"#2a3f5f\"},\"hovermode\":\"closest\",\"hoverlabel\":{\"align\":\"left\"},\"paper_bgcolor\":\"white\",\"plot_bgcolor\":\"#E5ECF6\",\"polar\":{\"bgcolor\":\"#E5ECF6\",\"angularaxis\":{\"gridcolor\":\"white\",\"linecolor\":\"white\",\"ticks\":\"\"},\"radialaxis\":{\"gridcolor\":\"white\",\"linecolor\":\"white\",\"ticks\":\"\"}},\"ternary\":{\"bgcolor\":\"#E5ECF6\",\"aaxis\":{\"gridcolor\":\"white\",\"linecolor\":\"white\",\"ticks\":\"\"},\"baxis\":{\"gridcolor\":\"white\",\"linecolor\":\"white\",\"ticks\":\"\"},\"caxis\":{\"gridcolor\":\"white\",\"linecolor\":\"white\",\"ticks\":\"\"}},\"coloraxis\":{\"colorbar\":{\"outlinewidth\":0,\"ticks\":\"\"}},\"colorscale\":{\"sequential\":[[0.0,\"#0d0887\"],[0.1111111111111111,\"#46039f\"],[0.2222222222222222,\"#7201a8\"],[0.3333333333333333,\"#9c179e\"],[0.4444444444444444,\"#bd3786\"],[0.5555555555555556,\"#d8576b\"],[0.6666666666666666,\"#ed7953\"],[0.7777777777777778,\"#fb9f3a\"],[0.8888888888888888,\"#fdca26\"],[1.0,\"#f0f921\"]],\"sequentialminus\":[[0.0,\"#0d0887\"],[0.1111111111111111,\"#46039f\"],[0.2222222222222222,\"#7201a8\"],[0.3333333333333333,\"#9c179e\"],[0.4444444444444444,\"#bd3786\"],[0.5555555555555556,\"#d8576b\"],[0.6666666666666666,\"#ed7953\"],[0.7777777777777778,\"#fb9f3a\"],[0.8888888888888888,\"#fdca26\"],[1.0,\"#f0f921\"]],\"diverging\":[[0,\"#8e0152\"],[0.1,\"#c51b7d\"],[0.2,\"#de77ae\"],[0.3,\"#f1b6da\"],[0.4,\"#fde0ef\"],[0.5,\"#f7f7f7\"],[0.6,\"#e6f5d0\"],[0.7,\"#b8e186\"],[0.8,\"#7fbc41\"],[0.9,\"#4d9221\"],[1,\"#276419\"]]},\"xaxis\":{\"gridcolor\":\"white\",\"linecolor\":\"white\",\"ticks\":\"\",\"title\":{\"standoff\":15},\"zerolinecolor\":\"white\",\"automargin\":true,\"zerolinewidth\":2},\"yaxis\":{\"gridcolor\":\"white\",\"linecolor\":\"white\",\"ticks\":\"\",\"title\":{\"standoff\":15},\"zerolinecolor\":\"white\",\"automargin\":true,\"zerolinewidth\":2},\"scene\":{\"xaxis\":{\"backgroundcolor\":\"#E5ECF6\",\"gridcolor\":\"white\",\"linecolor\":\"white\",\"showbackground\":true,\"ticks\":\"\",\"zerolinecolor\":\"white\",\"gridwidth\":2},\"yaxis\":{\"backgroundcolor\":\"#E5ECF6\",\"gridcolor\":\"white\",\"linecolor\":\"white\",\"showbackground\":true,\"ticks\":\"\",\"zerolinecolor\":\"white\",\"gridwidth\":2},\"zaxis\":{\"backgroundcolor\":\"#E5ECF6\",\"gridcolor\":\"white\",\"linecolor\":\"white\",\"showbackground\":true,\"ticks\":\"\",\"zerolinecolor\":\"white\",\"gridwidth\":2}},\"shapedefaults\":{\"line\":{\"color\":\"#2a3f5f\"}},\"annotationdefaults\":{\"arrowcolor\":\"#2a3f5f\",\"arrowhead\":0,\"arrowwidth\":1},\"geo\":{\"bgcolor\":\"white\",\"landcolor\":\"#E5ECF6\",\"subunitcolor\":\"white\",\"showland\":true,\"showlakes\":true,\"lakecolor\":\"white\"},\"title\":{\"x\":0.05},\"mapbox\":{\"style\":\"light\"}}},\"xaxis\":{\"anchor\":\"y\",\"domain\":[0.0,1.0],\"title\":{\"text\":\"x\"}},\"yaxis\":{\"anchor\":\"x\",\"domain\":[0.0,1.0],\"title\":{\"text\":\"sum of y\"}},\"legend\":{\"tracegroupgap\":0},\"margin\":{\"t\":60},\"barmode\":\"relative\"},                        {\"responsive\": true}                    ).then(function(){\n",
       "                            \n",
       "var gd = document.getElementById('ab7570e9-e7ad-402f-a1fa-2b22b8388881');\n",
       "var x = new MutationObserver(function (mutations, observer) {{\n",
       "        var display = window.getComputedStyle(gd).display;\n",
       "        if (!display || display === 'none') {{\n",
       "            console.log([gd, 'removed!']);\n",
       "            Plotly.purge(gd);\n",
       "            observer.disconnect();\n",
       "        }}\n",
       "}});\n",
       "\n",
       "// Listen for the removal of the full notebook cells\n",
       "var notebookContainer = gd.closest('#notebook-container');\n",
       "if (notebookContainer) {{\n",
       "    x.observe(notebookContainer, {childList: true});\n",
       "}}\n",
       "\n",
       "// Listen for the clearing of the current output cell\n",
       "var outputEl = gd.closest('.output');\n",
       "if (outputEl) {{\n",
       "    x.observe(outputEl, {childList: true});\n",
       "}}\n",
       "\n",
       "                        })                };                });            </script>        </div>"
      ]
     },
     "metadata": {},
     "output_type": "display_data"
    }
   ],
   "source": [
    "from plotly import express\n",
    "\n",
    "express.histogram(x=COLUMNS, y=model.coef_[0])"
   ]
  },
  {
   "cell_type": "markdown",
   "id": "ba1463bb",
   "metadata": {
    "papermill": {
     "duration": 0.006472,
     "end_time": "2024-07-04T09:42:46.566371",
     "exception": false,
     "start_time": "2024-07-04T09:42:46.559899",
     "status": "completed"
    },
    "tags": []
   },
   "source": [
    "This probably makes some sense, as donors have to wait a certain amount of time before they can donate again; but is it surprising that money makes only a small difference? Probably not, given how our data is dominated by not-donors."
   ]
  }
 ],
 "metadata": {
  "kaggle": {
   "accelerator": "none",
   "dataSources": [
    {
     "datasetId": 5326969,
     "sourceId": 8849889,
     "sourceType": "datasetVersion"
    }
   ],
   "dockerImageVersionId": 30732,
   "isGpuEnabled": false,
   "isInternetEnabled": true,
   "language": "python",
   "sourceType": "notebook"
  },
  "kernelspec": {
   "display_name": "Python 3",
   "language": "python",
   "name": "python3"
  },
  "language_info": {
   "codemirror_mode": {
    "name": "ipython",
    "version": 3
   },
   "file_extension": ".py",
   "mimetype": "text/x-python",
   "name": "python",
   "nbconvert_exporter": "python",
   "pygments_lexer": "ipython3",
   "version": "3.10.13"
  },
  "papermill": {
   "default_parameters": {},
   "duration": 10.137213,
   "end_time": "2024-07-04T09:42:47.295373",
   "environment_variables": {},
   "exception": null,
   "input_path": "__notebook__.ipynb",
   "output_path": "__notebook__.ipynb",
   "parameters": {},
   "start_time": "2024-07-04T09:42:37.158160",
   "version": "2.5.0"
  }
 },
 "nbformat": 4,
 "nbformat_minor": 5
}
