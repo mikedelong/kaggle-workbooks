{
 "cells": [
  {
   "cell_type": "code",
   "execution_count": 1,
   "id": "a3f1f466",
   "metadata": {
    "_cell_guid": "b1076dfc-b9ad-4769-8c92-a6c4dae69d19",
    "_uuid": "8f2839f25d086af736a60e9eeb907d3b93b6e0e5",
    "execution": {
     "iopub.execute_input": "2023-07-31T19:10:19.633529Z",
     "iopub.status.busy": "2023-07-31T19:10:19.633081Z",
     "iopub.status.idle": "2023-07-31T19:10:19.650751Z",
     "shell.execute_reply": "2023-07-31T19:10:19.649790Z"
    },
    "papermill": {
     "duration": 0.027801,
     "end_time": "2023-07-31T19:10:19.653664",
     "exception": false,
     "start_time": "2023-07-31T19:10:19.625863",
     "status": "completed"
    },
    "tags": []
   },
   "outputs": [
    {
     "name": "stdout",
     "output_type": "stream",
     "text": [
      "/kaggle/input/passwords/passwords.csv\n"
     ]
    }
   ],
   "source": [
    "import os\n",
    "for dirname, _, filenames in os.walk('/kaggle/input'):\n",
    "    for filename in filenames:\n",
    "        print(os.path.join(dirname, filename))"
   ]
  },
  {
   "cell_type": "code",
   "execution_count": 2,
   "id": "72b97f9d",
   "metadata": {
    "execution": {
     "iopub.execute_input": "2023-07-31T19:10:19.666464Z",
     "iopub.status.busy": "2023-07-31T19:10:19.665724Z",
     "iopub.status.idle": "2023-07-31T19:10:19.729187Z",
     "shell.execute_reply": "2023-07-31T19:10:19.727953Z"
    },
    "papermill": {
     "duration": 0.072957,
     "end_time": "2023-07-31T19:10:19.731974",
     "exception": false,
     "start_time": "2023-07-31T19:10:19.659017",
     "status": "completed"
    },
    "tags": []
   },
   "outputs": [
    {
     "data": {
      "text/html": [
       "<div>\n",
       "<style scoped>\n",
       "    .dataframe tbody tr th:only-of-type {\n",
       "        vertical-align: middle;\n",
       "    }\n",
       "\n",
       "    .dataframe tbody tr th {\n",
       "        vertical-align: top;\n",
       "    }\n",
       "\n",
       "    .dataframe thead th {\n",
       "        text-align: right;\n",
       "    }\n",
       "</style>\n",
       "<table border=\"1\" class=\"dataframe\">\n",
       "  <thead>\n",
       "    <tr style=\"text-align: right;\">\n",
       "      <th></th>\n",
       "      <th>password</th>\n",
       "      <th>category</th>\n",
       "      <th>value</th>\n",
       "      <th>time_unit</th>\n",
       "      <th>offline_crack_sec</th>\n",
       "      <th>strength</th>\n",
       "      <th>font_size</th>\n",
       "    </tr>\n",
       "    <tr>\n",
       "      <th>rank</th>\n",
       "      <th></th>\n",
       "      <th></th>\n",
       "      <th></th>\n",
       "      <th></th>\n",
       "      <th></th>\n",
       "      <th></th>\n",
       "      <th></th>\n",
       "    </tr>\n",
       "  </thead>\n",
       "  <tbody>\n",
       "    <tr>\n",
       "      <th>1.0</th>\n",
       "      <td>password</td>\n",
       "      <td>password-related</td>\n",
       "      <td>6.91</td>\n",
       "      <td>years</td>\n",
       "      <td>2.170000e+00</td>\n",
       "      <td>8.0</td>\n",
       "      <td>11.0</td>\n",
       "    </tr>\n",
       "    <tr>\n",
       "      <th>2.0</th>\n",
       "      <td>123456</td>\n",
       "      <td>simple-alphanumeric</td>\n",
       "      <td>18.52</td>\n",
       "      <td>minutes</td>\n",
       "      <td>1.110000e-05</td>\n",
       "      <td>4.0</td>\n",
       "      <td>8.0</td>\n",
       "    </tr>\n",
       "    <tr>\n",
       "      <th>3.0</th>\n",
       "      <td>12345678</td>\n",
       "      <td>simple-alphanumeric</td>\n",
       "      <td>1.29</td>\n",
       "      <td>days</td>\n",
       "      <td>1.110000e-03</td>\n",
       "      <td>4.0</td>\n",
       "      <td>8.0</td>\n",
       "    </tr>\n",
       "    <tr>\n",
       "      <th>4.0</th>\n",
       "      <td>1234</td>\n",
       "      <td>simple-alphanumeric</td>\n",
       "      <td>11.11</td>\n",
       "      <td>seconds</td>\n",
       "      <td>1.110000e-07</td>\n",
       "      <td>4.0</td>\n",
       "      <td>8.0</td>\n",
       "    </tr>\n",
       "    <tr>\n",
       "      <th>5.0</th>\n",
       "      <td>qwerty</td>\n",
       "      <td>simple-alphanumeric</td>\n",
       "      <td>3.72</td>\n",
       "      <td>days</td>\n",
       "      <td>3.210000e-03</td>\n",
       "      <td>8.0</td>\n",
       "      <td>11.0</td>\n",
       "    </tr>\n",
       "  </tbody>\n",
       "</table>\n",
       "</div>"
      ],
      "text/plain": [
       "      password             category  value time_unit  offline_crack_sec  \\\n",
       "rank                                                                      \n",
       "1.0   password     password-related   6.91     years       2.170000e+00   \n",
       "2.0     123456  simple-alphanumeric  18.52   minutes       1.110000e-05   \n",
       "3.0   12345678  simple-alphanumeric   1.29      days       1.110000e-03   \n",
       "4.0       1234  simple-alphanumeric  11.11   seconds       1.110000e-07   \n",
       "5.0     qwerty  simple-alphanumeric   3.72      days       3.210000e-03   \n",
       "\n",
       "      strength  font_size  \n",
       "rank                       \n",
       "1.0        8.0       11.0  \n",
       "2.0        4.0        8.0  \n",
       "3.0        4.0        8.0  \n",
       "4.0        4.0        8.0  \n",
       "5.0        8.0       11.0  "
      ]
     },
     "execution_count": 2,
     "metadata": {},
     "output_type": "execute_result"
    }
   ],
   "source": [
    "import pandas as pd\n",
    "# the alt rank is the same as the rank so let's drop it\n",
    "df = pd.read_csv(filepath_or_buffer='/kaggle/input/passwords/passwords.csv', index_col=[0]).drop(columns=['rank_alt'])\n",
    "df.head()"
   ]
  },
  {
   "cell_type": "code",
   "execution_count": 3,
   "id": "9979d4f6",
   "metadata": {
    "execution": {
     "iopub.execute_input": "2023-07-31T19:10:19.746331Z",
     "iopub.status.busy": "2023-07-31T19:10:19.745149Z",
     "iopub.status.idle": "2023-07-31T19:10:19.754830Z",
     "shell.execute_reply": "2023-07-31T19:10:19.752758Z"
    },
    "papermill": {
     "duration": 0.019931,
     "end_time": "2023-07-31T19:10:19.757823",
     "exception": false,
     "start_time": "2023-07-31T19:10:19.737892",
     "status": "completed"
    },
    "tags": []
   },
   "outputs": [
    {
     "data": {
      "text/plain": [
       "(507, 7)"
      ]
     },
     "execution_count": 3,
     "metadata": {},
     "output_type": "execute_result"
    }
   ],
   "source": [
    "df.shape"
   ]
  },
  {
   "cell_type": "code",
   "execution_count": 4,
   "id": "80f574f5",
   "metadata": {
    "execution": {
     "iopub.execute_input": "2023-07-31T19:10:19.772143Z",
     "iopub.status.busy": "2023-07-31T19:10:19.771240Z",
     "iopub.status.idle": "2023-07-31T19:10:20.193385Z",
     "shell.execute_reply": "2023-07-31T19:10:20.191626Z"
    },
    "papermill": {
     "duration": 0.435179,
     "end_time": "2023-07-31T19:10:20.198533",
     "exception": false,
     "start_time": "2023-07-31T19:10:19.763354",
     "status": "completed"
    },
    "tags": []
   },
   "outputs": [
    {
     "data": {
      "text/plain": [
       "<Axes: ylabel='strength'>"
      ]
     },
     "execution_count": 4,
     "metadata": {},
     "output_type": "execute_result"
    },
    {
     "data": {
      "image/png": "[encoded data removed]",
      "text/plain": [
       "<Figure size 640x480 with 1 Axes>"
      ]
     },
     "metadata": {},
     "output_type": "display_data"
    }
   ],
   "source": [
    "df['strength'].value_counts().plot(kind='pie')"
   ]
  },
  {
   "cell_type": "markdown",
   "id": "6240719e",
   "metadata": {
    "papermill": {
     "duration": 0.00598,
     "end_time": "2023-07-31T19:10:20.213088",
     "exception": false,
     "start_time": "2023-07-31T19:10:20.207108",
     "status": "completed"
    },
    "tags": []
   },
   "source": [
    "Most of our passwords have single-digit strength."
   ]
  },
  {
   "cell_type": "code",
   "execution_count": 5,
   "id": "9e9f458b",
   "metadata": {
    "execution": {
     "iopub.execute_input": "2023-07-31T19:10:20.228008Z",
     "iopub.status.busy": "2023-07-31T19:10:20.227328Z",
     "iopub.status.idle": "2023-07-31T19:10:20.472527Z",
     "shell.execute_reply": "2023-07-31T19:10:20.470756Z"
    },
    "papermill": {
     "duration": 0.258788,
     "end_time": "2023-07-31T19:10:20.478262",
     "exception": false,
     "start_time": "2023-07-31T19:10:20.219474",
     "status": "completed"
    },
    "tags": []
   },
   "outputs": [
    {
     "data": {
      "text/plain": [
       "<Axes: ylabel='category'>"
      ]
     },
     "execution_count": 5,
     "metadata": {},
     "output_type": "execute_result"
    },
    {
     "data": {
      "image/png": "[encoded data removed]",
      "text/plain": [
       "<Figure size 640x480 with 1 Axes>"
      ]
     },
     "metadata": {},
     "output_type": "display_data"
    }
   ],
   "source": [
    "df['category'].value_counts().plot(kind='pie')"
   ]
  },
  {
   "cell_type": "code",
   "execution_count": 6,
   "id": "b747f7e2",
   "metadata": {
    "execution": {
     "iopub.execute_input": "2023-07-31T19:10:20.505310Z",
     "iopub.status.busy": "2023-07-31T19:10:20.504587Z",
     "iopub.status.idle": "2023-07-31T19:10:22.533893Z",
     "shell.execute_reply": "2023-07-31T19:10:22.532651Z"
    },
    "papermill": {
     "duration": 2.043978,
     "end_time": "2023-07-31T19:10:22.537032",
     "exception": false,
     "start_time": "2023-07-31T19:10:20.493054",
     "status": "completed"
    },
    "tags": []
   },
   "outputs": [
    {
     "name": "stderr",
     "output_type": "stream",
     "text": [
      "/opt/conda/lib/python3.10/site-packages/scipy/__init__.py:146: UserWarning: A NumPy version >=1.16.5 and <1.23.0 is required for this version of SciPy (detected version 1.23.5\n",
      "  warnings.warn(f\"A NumPy version >={np_minversion} and <{np_maxversion}\"\n"
     ]
    },
    {
     "data": {
      "text/plain": [
       "<Axes: xlabel='strength', ylabel='font_size'>"
      ]
     },
     "execution_count": 6,
     "metadata": {},
     "output_type": "execute_result"
    },
    {
     "data": {
      "image/png": "[encoded data removed]",
      "text/plain": [
       "<Figure size 640x480 with 1 Axes>"
      ]
     },
     "metadata": {},
     "output_type": "display_data"
    }
   ],
   "source": [
    "from seaborn import scatterplot\n",
    "scatterplot(data=df, x='strength', y='font_size', s=4)"
   ]
  },
  {
   "cell_type": "markdown",
   "id": "41144d16",
   "metadata": {
    "papermill": {
     "duration": 0.007351,
     "end_time": "2023-07-31T19:10:22.552197",
     "exception": false,
     "start_time": "2023-07-31T19:10:22.544846",
     "status": "completed"
    },
    "tags": []
   },
   "source": [
    "It looks like font size is a function of strength."
   ]
  },
  {
   "cell_type": "code",
   "execution_count": 7,
   "id": "2f01183e",
   "metadata": {
    "execution": {
     "iopub.execute_input": "2023-07-31T19:10:22.569467Z",
     "iopub.status.busy": "2023-07-31T19:10:22.569040Z",
     "iopub.status.idle": "2023-07-31T19:10:22.880747Z",
     "shell.execute_reply": "2023-07-31T19:10:22.879246Z"
    },
    "papermill": {
     "duration": 0.323885,
     "end_time": "2023-07-31T19:10:22.883730",
     "exception": false,
     "start_time": "2023-07-31T19:10:22.559845",
     "status": "completed"
    },
    "tags": []
   },
   "outputs": [
    {
     "data": {
      "text/plain": [
       "<Axes: xlabel='rank', ylabel='strength'>"
      ]
     },
     "execution_count": 7,
     "metadata": {},
     "output_type": "execute_result"
    },
    {
     "data": {
      "image/png": "[encoded data removed]",
      "text/plain": [
       "<Figure size 640x480 with 1 Axes>"
      ]
     },
     "metadata": {},
     "output_type": "display_data"
    }
   ],
   "source": [
    "scatterplot(data=df, x='rank', y='strength', s=4)"
   ]
  },
  {
   "cell_type": "markdown",
   "id": "a1401015",
   "metadata": {
    "papermill": {
     "duration": 0.007726,
     "end_time": "2023-07-31T19:10:22.899663",
     "exception": false,
     "start_time": "2023-07-31T19:10:22.891937",
     "status": "completed"
    },
    "tags": []
   },
   "source": [
    "We have two regimes: a small number of strong passwords and a large number of low-strength passwords."
   ]
  },
  {
   "cell_type": "code",
   "execution_count": 8,
   "id": "e7caae8c",
   "metadata": {
    "execution": {
     "iopub.execute_input": "2023-07-31T19:10:22.918064Z",
     "iopub.status.busy": "2023-07-31T19:10:22.917634Z",
     "iopub.status.idle": "2023-07-31T19:10:22.941342Z",
     "shell.execute_reply": "2023-07-31T19:10:22.940146Z"
    },
    "papermill": {
     "duration": 0.035944,
     "end_time": "2023-07-31T19:10:22.943726",
     "exception": false,
     "start_time": "2023-07-31T19:10:22.907782",
     "status": "completed"
    },
    "tags": []
   },
   "outputs": [
    {
     "data": {
      "text/html": [
       "<div>\n",
       "<style scoped>\n",
       "    .dataframe tbody tr th:only-of-type {\n",
       "        vertical-align: middle;\n",
       "    }\n",
       "\n",
       "    .dataframe tbody tr th {\n",
       "        vertical-align: top;\n",
       "    }\n",
       "\n",
       "    .dataframe thead th {\n",
       "        text-align: right;\n",
       "    }\n",
       "</style>\n",
       "<table border=\"1\" class=\"dataframe\">\n",
       "  <thead>\n",
       "    <tr style=\"text-align: right;\">\n",
       "      <th></th>\n",
       "      <th>password</th>\n",
       "      <th>category</th>\n",
       "      <th>value</th>\n",
       "      <th>time_unit</th>\n",
       "      <th>offline_crack_sec</th>\n",
       "      <th>strength</th>\n",
       "      <th>font_size</th>\n",
       "    </tr>\n",
       "    <tr>\n",
       "      <th>rank</th>\n",
       "      <th></th>\n",
       "      <th></th>\n",
       "      <th></th>\n",
       "      <th></th>\n",
       "      <th></th>\n",
       "      <th></th>\n",
       "      <th></th>\n",
       "    </tr>\n",
       "  </thead>\n",
       "  <tbody>\n",
       "    <tr>\n",
       "      <th>336.0</th>\n",
       "      <td>rush2112</td>\n",
       "      <td>nerdy-pop</td>\n",
       "      <td>92.27</td>\n",
       "      <td>years</td>\n",
       "      <td>29.020000</td>\n",
       "      <td>48.0</td>\n",
       "      <td>28.0</td>\n",
       "    </tr>\n",
       "    <tr>\n",
       "      <th>149.0</th>\n",
       "      <td>ncc1701</td>\n",
       "      <td>nerdy-pop</td>\n",
       "      <td>2.56</td>\n",
       "      <td>years</td>\n",
       "      <td>0.806000</td>\n",
       "      <td>46.0</td>\n",
       "      <td>27.0</td>\n",
       "    </tr>\n",
       "    <tr>\n",
       "      <th>197.0</th>\n",
       "      <td>thx1138</td>\n",
       "      <td>nerdy-pop</td>\n",
       "      <td>2.56</td>\n",
       "      <td>years</td>\n",
       "      <td>0.806000</td>\n",
       "      <td>46.0</td>\n",
       "      <td>27.0</td>\n",
       "    </tr>\n",
       "    <tr>\n",
       "      <th>321.0</th>\n",
       "      <td>bond007</td>\n",
       "      <td>nerdy-pop</td>\n",
       "      <td>2.56</td>\n",
       "      <td>years</td>\n",
       "      <td>0.806000</td>\n",
       "      <td>38.0</td>\n",
       "      <td>25.0</td>\n",
       "    </tr>\n",
       "    <tr>\n",
       "      <th>359.0</th>\n",
       "      <td>ou812</td>\n",
       "      <td>nerdy-pop</td>\n",
       "      <td>17.28</td>\n",
       "      <td>hours</td>\n",
       "      <td>0.000622</td>\n",
       "      <td>36.0</td>\n",
       "      <td>24.0</td>\n",
       "    </tr>\n",
       "    <tr>\n",
       "      <th>395.0</th>\n",
       "      <td>heka6w2</td>\n",
       "      <td>simple-alphanumeric</td>\n",
       "      <td>2.56</td>\n",
       "      <td>years</td>\n",
       "      <td>0.806000</td>\n",
       "      <td>36.0</td>\n",
       "      <td>24.0</td>\n",
       "    </tr>\n",
       "    <tr>\n",
       "      <th>478.0</th>\n",
       "      <td>test123</td>\n",
       "      <td>simple-alphanumeric</td>\n",
       "      <td>2.56</td>\n",
       "      <td>years</td>\n",
       "      <td>0.806000</td>\n",
       "      <td>36.0</td>\n",
       "      <td>24.0</td>\n",
       "    </tr>\n",
       "    <tr>\n",
       "      <th>344.0</th>\n",
       "      <td>red123</td>\n",
       "      <td>simple-alphanumeric</td>\n",
       "      <td>3.70</td>\n",
       "      <td>weeks</td>\n",
       "      <td>0.022400</td>\n",
       "      <td>35.0</td>\n",
       "      <td>24.0</td>\n",
       "    </tr>\n",
       "    <tr>\n",
       "      <th>406.0</th>\n",
       "      <td>jordan23</td>\n",
       "      <td>sport</td>\n",
       "      <td>92.27</td>\n",
       "      <td>years</td>\n",
       "      <td>29.270000</td>\n",
       "      <td>34.0</td>\n",
       "      <td>23.0</td>\n",
       "    </tr>\n",
       "    <tr>\n",
       "      <th>13.0</th>\n",
       "      <td>abc123</td>\n",
       "      <td>simple-alphanumeric</td>\n",
       "      <td>3.70</td>\n",
       "      <td>weeks</td>\n",
       "      <td>0.022400</td>\n",
       "      <td>32.0</td>\n",
       "      <td>23.0</td>\n",
       "    </tr>\n",
       "  </tbody>\n",
       "</table>\n",
       "</div>"
      ],
      "text/plain": [
       "       password             category  value time_unit  offline_crack_sec  \\\n",
       "rank                                                                       \n",
       "336.0  rush2112            nerdy-pop  92.27     years          29.020000   \n",
       "149.0   ncc1701            nerdy-pop   2.56     years           0.806000   \n",
       "197.0   thx1138            nerdy-pop   2.56     years           0.806000   \n",
       "321.0   bond007            nerdy-pop   2.56     years           0.806000   \n",
       "359.0     ou812            nerdy-pop  17.28     hours           0.000622   \n",
       "395.0   heka6w2  simple-alphanumeric   2.56     years           0.806000   \n",
       "478.0   test123  simple-alphanumeric   2.56     years           0.806000   \n",
       "344.0    red123  simple-alphanumeric   3.70     weeks           0.022400   \n",
       "406.0  jordan23                sport  92.27     years          29.270000   \n",
       "13.0     abc123  simple-alphanumeric   3.70     weeks           0.022400   \n",
       "\n",
       "       strength  font_size  \n",
       "rank                        \n",
       "336.0      48.0       28.0  \n",
       "149.0      46.0       27.0  \n",
       "197.0      46.0       27.0  \n",
       "321.0      38.0       25.0  \n",
       "359.0      36.0       24.0  \n",
       "395.0      36.0       24.0  \n",
       "478.0      36.0       24.0  \n",
       "344.0      35.0       24.0  \n",
       "406.0      34.0       23.0  \n",
       "13.0       32.0       23.0  "
      ]
     },
     "execution_count": 8,
     "metadata": {},
     "output_type": "execute_result"
    }
   ],
   "source": [
    "df[df['strength'] > 15].sort_values(by='strength', ascending=False).head(n=10)"
   ]
  },
  {
   "cell_type": "markdown",
   "id": "f25c9f4f",
   "metadata": {
    "papermill": {
     "duration": 0.008652,
     "end_time": "2023-07-31T19:10:22.963116",
     "exception": false,
     "start_time": "2023-07-31T19:10:22.954464",
     "status": "completed"
    },
    "tags": []
   },
   "source": [
    "Let' look at the log of the cracking time so we can tell the easy passwords from the very easy passwords."
   ]
  },
  {
   "cell_type": "code",
   "execution_count": 9,
   "id": "ee7b6818",
   "metadata": {
    "execution": {
     "iopub.execute_input": "2023-07-31T19:10:22.982745Z",
     "iopub.status.busy": "2023-07-31T19:10:22.981734Z",
     "iopub.status.idle": "2023-07-31T19:10:23.252797Z",
     "shell.execute_reply": "2023-07-31T19:10:23.251797Z"
    },
    "papermill": {
     "duration": 0.283243,
     "end_time": "2023-07-31T19:10:23.255056",
     "exception": false,
     "start_time": "2023-07-31T19:10:22.971813",
     "status": "completed"
    },
    "tags": []
   },
   "outputs": [
    {
     "data": {
      "text/plain": [
       "<Axes: xlabel='log10_sec', ylabel='strength'>"
      ]
     },
     "execution_count": 9,
     "metadata": {},
     "output_type": "execute_result"
    },
    {
     "data": {
      "image/png": "[encoded data removed]",
      "text/plain": [
       "<Figure size 640x480 with 1 Axes>"
      ]
     },
     "metadata": {},
     "output_type": "display_data"
    }
   ],
   "source": [
    "from math import log10\n",
    "df['log10_sec'] = df['offline_crack_sec'].apply(log10)\n",
    "scatterplot(data=df, x='log10_sec', y='strength', s=10)"
   ]
  }
 ],
 "metadata": {
  "kernelspec": {
   "display_name": "Python 3",
   "language": "python",
   "name": "python3"
  },
  "language_info": {
   "codemirror_mode": {
    "name": "ipython",
    "version": 3
   },
   "file_extension": ".py",
   "mimetype": "text/x-python",
   "name": "python",
   "nbconvert_exporter": "python",
   "pygments_lexer": "ipython3",
   "version": "3.10.12"
  },
  "papermill": {
   "default_parameters": {},
   "duration": 17.614716,
   "end_time": "2023-07-31T19:10:24.287395",
   "environment_variables": {},
   "exception": null,
   "input_path": "__notebook__.ipynb",
   "output_path": "__notebook__.ipynb",
   "parameters": {},
   "start_time": "2023-07-31T19:10:06.672679",
   "version": "2.4.0"
  }
 },
 "nbformat": 4,
 "nbformat_minor": 5
}
