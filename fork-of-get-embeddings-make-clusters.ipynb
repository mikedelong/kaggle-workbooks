{
 "cells": [
  {
   "cell_type": "code",
   "execution_count": 1,
   "id": "4bfae1ad",
   "metadata": {
    "_cell_guid": "b1076dfc-b9ad-4769-8c92-a6c4dae69d19",
    "_uuid": "8f2839f25d086af736a60e9eeb907d3b93b6e0e5",
    "execution": {
     "iopub.execute_input": "2024-08-11T09:46:53.021452Z",
     "iopub.status.busy": "2024-08-11T09:46:53.021001Z",
     "iopub.status.idle": "2024-08-11T09:46:53.339655Z",
     "shell.execute_reply": "2024-08-11T09:46:53.338210Z"
    },
    "papermill": {
     "duration": 0.328962,
     "end_time": "2024-08-11T09:46:53.342344",
     "exception": false,
     "start_time": "2024-08-11T09:46:53.013382",
     "status": "completed"
    },
    "tags": []
   },
   "outputs": [
    {
     "name": "stdout",
     "output_type": "stream",
     "text": [
      "22241\n"
     ]
    }
   ],
   "source": [
    "from glob import glob\n",
    "\n",
    "# How many images do we have?\n",
    "\n",
    "GLOB = '/kaggle/input/car-camera-photos/images/images/*'\n",
    "\n",
    "print(len(list(glob(pathname=GLOB))))"
   ]
  },
  {
   "cell_type": "markdown",
   "id": "d5c924e3",
   "metadata": {
    "papermill": {
     "duration": 0.005167,
     "end_time": "2024-08-11T09:46:53.353331",
     "exception": false,
     "start_time": "2024-08-11T09:46:53.348164",
     "status": "completed"
    },
    "tags": []
   },
   "source": [
    "This is a lot of images; we have too many for an interactive view, but maybe we can do some EDA using a static plot. Let's try."
   ]
  },
  {
   "cell_type": "code",
   "execution_count": 2,
   "id": "c73b1828",
   "metadata": {
    "execution": {
     "iopub.execute_input": "2024-08-11T09:46:53.365722Z",
     "iopub.status.busy": "2024-08-11T09:46:53.365316Z",
     "iopub.status.idle": "2024-08-11T09:47:00.576345Z",
     "shell.execute_reply": "2024-08-11T09:47:00.575197Z"
    },
    "papermill": {
     "duration": 7.220878,
     "end_time": "2024-08-11T09:47:00.579546",
     "exception": false,
     "start_time": "2024-08-11T09:46:53.358668",
     "status": "completed"
    },
    "tags": []
   },
   "outputs": [
    {
     "name": "stderr",
     "output_type": "stream",
     "text": [
      "Downloading: \"https://download.pytorch.org/models/resnet18-f37072fd.pth\" to /root/.cache/torch/hub/checkpoints/resnet18-f37072fd.pth\n",
      "100%|██████████| 44.7M/44.7M [00:00<00:00, 132MB/s]\n"
     ]
    }
   ],
   "source": [
    "import torch\n",
    "import torch.nn as nn\n",
    "import torchvision.models as models\n",
    "import torchvision.transforms as transforms\n",
    "import numpy as np\n",
    "\n",
    "\n",
    "DEVICE = torch.device('cpu')\n",
    "OUTPUT_SIZE = 512\n",
    "\n",
    "model = models.resnet18(weights=models.ResNet18_Weights.IMAGENET1K_V1)\n",
    "extraction_layer = model._modules.get('avgpool')\n",
    "model.to(DEVICE)\n",
    "model.eval()\n",
    "\n",
    "scaler = transforms.Resize((224, 224))\n",
    "normalize = transforms.Normalize(mean=[0.5, 0.5, 0.5], std=[0.2, 0.2, 0.2])\n",
    "to_tensor = transforms.ToTensor()\n",
    "\n",
    "def get_vec(arg, model, extraction_layer):\n",
    "    image = normalize(to_tensor(scaler(arg))).unsqueeze(0).to(DEVICE)\n",
    "    result = torch.zeros(1, OUTPUT_SIZE, 1, 1)\n",
    "    def copy_data(m, i, o):\n",
    "        result.copy_(o.data)\n",
    "    hooked = extraction_layer.register_forward_hook(copy_data)\n",
    "    with torch.no_grad():\n",
    "        model(image)\n",
    "    hooked.remove()\n",
    "    return result"
   ]
  },
  {
   "cell_type": "markdown",
   "id": "764cab89",
   "metadata": {
    "papermill": {
     "duration": 0.006767,
     "end_time": "2024-08-11T09:47:00.592910",
     "exception": false,
     "start_time": "2024-08-11T09:47:00.586143",
     "status": "completed"
    },
    "tags": []
   },
   "source": [
    "Getting embeddings for 22K images takes a while, so sit tight."
   ]
  },
  {
   "cell_type": "code",
   "execution_count": 3,
   "id": "458f006a",
   "metadata": {
    "execution": {
     "iopub.execute_input": "2024-08-11T09:47:00.607513Z",
     "iopub.status.busy": "2024-08-11T09:47:00.606942Z",
     "iopub.status.idle": "2024-08-11T10:10:49.366349Z",
     "shell.execute_reply": "2024-08-11T10:10:49.365107Z"
    },
    "papermill": {
     "duration": 1428.777011,
     "end_time": "2024-08-11T10:10:49.376201",
     "exception": false,
     "start_time": "2024-08-11T09:47:00.599190",
     "status": "completed"
    },
    "tags": []
   },
   "outputs": [
    {
     "name": "stdout",
     "output_type": "stream",
     "text": [
      "done in 0:23:47.618937\n"
     ]
    }
   ],
   "source": [
    "import base64\n",
    "import pandas as pd\n",
    "from arrow import now\n",
    "from glob import glob\n",
    "from io import BytesIO\n",
    "from os.path import basename\n",
    "from PIL import Image\n",
    "\n",
    "DATA = '/kaggle/input/car-camera-photos/images/images'\n",
    "THUMBNAIL_SIZE = (96, 96)\n",
    "\n",
    "\n",
    "def embed(model, filename: str):\n",
    "    with Image.open(fp=filename, mode='r') as image:\n",
    "        return get_vec(arg=image.convert('RGB'), model=model, extraction_layer=extraction_layer).numpy().reshape(OUTPUT_SIZE,)\n",
    "\n",
    "\n",
    "def get_picture_from_glob(arg: str) -> pd.Series:\n",
    "    time_get = now()\n",
    "    result = pd.Series(data=[basename(arg), embed(model=model, filename=arg), ], index=['name', 'value', ])\n",
    "    return result\n",
    "\n",
    "time_start = now()\n",
    "\n",
    "df = pd.DataFrame(data=[get_picture_from_glob(arg=value) for value in list(glob(DATA + '/*.jpg'))])\n",
    "print('done in {}'.format(now() - time_start))"
   ]
  },
  {
   "cell_type": "markdown",
   "id": "f9d77812",
   "metadata": {
    "papermill": {
     "duration": 0.005939,
     "end_time": "2024-08-11T10:10:49.388650",
     "exception": false,
     "start_time": "2024-08-11T10:10:49.382711",
     "status": "completed"
    },
    "tags": []
   },
   "source": [
    "Now let's load up the label data and merge."
   ]
  },
  {
   "cell_type": "code",
   "execution_count": 4,
   "id": "8f64a7db",
   "metadata": {
    "execution": {
     "iopub.execute_input": "2024-08-11T10:10:49.408669Z",
     "iopub.status.busy": "2024-08-11T10:10:49.408073Z",
     "iopub.status.idle": "2024-08-11T10:10:49.830532Z",
     "shell.execute_reply": "2024-08-11T10:10:49.828987Z"
    },
    "papermill": {
     "duration": 0.438538,
     "end_time": "2024-08-11T10:10:49.833514",
     "exception": false,
     "start_time": "2024-08-11T10:10:49.394976",
     "status": "completed"
    },
    "tags": []
   },
   "outputs": [],
   "source": [
    "df = df.merge(right=pd.read_csv(filepath_or_buffer='/kaggle/input/car-camera-photos/labels_train.csv'), left_on='name', right_on='frame')\n",
    "df = df.drop_duplicates(ignore_index=True, subset=['name'])"
   ]
  },
  {
   "cell_type": "markdown",
   "id": "87318448",
   "metadata": {
    "papermill": {
     "duration": 0.006055,
     "end_time": "2024-08-11T10:10:49.846088",
     "exception": false,
     "start_time": "2024-08-11T10:10:49.840033",
     "status": "completed"
    },
    "tags": []
   },
   "source": [
    "We have our data and our labels; what do our classes look like?"
   ]
  },
  {
   "cell_type": "code",
   "execution_count": 5,
   "id": "df58a93d",
   "metadata": {
    "execution": {
     "iopub.execute_input": "2024-08-11T10:10:49.861034Z",
     "iopub.status.busy": "2024-08-11T10:10:49.860586Z",
     "iopub.status.idle": "2024-08-11T10:10:49.889224Z",
     "shell.execute_reply": "2024-08-11T10:10:49.887961Z"
    },
    "papermill": {
     "duration": 0.039272,
     "end_time": "2024-08-11T10:10:49.891939",
     "exception": false,
     "start_time": "2024-08-11T10:10:49.852667",
     "status": "completed"
    },
    "tags": []
   },
   "outputs": [
    {
     "data": {
      "text/html": [
       "<div>\n",
       "<style scoped>\n",
       "    .dataframe tbody tr th:only-of-type {\n",
       "        vertical-align: middle;\n",
       "    }\n",
       "\n",
       "    .dataframe tbody tr th {\n",
       "        vertical-align: top;\n",
       "    }\n",
       "\n",
       "    .dataframe thead th {\n",
       "        text-align: right;\n",
       "    }\n",
       "</style>\n",
       "<table border=\"1\" class=\"dataframe\">\n",
       "  <thead>\n",
       "    <tr style=\"text-align: right;\">\n",
       "      <th></th>\n",
       "      <th>name</th>\n",
       "      <th>value</th>\n",
       "      <th>frame</th>\n",
       "      <th>xmin</th>\n",
       "      <th>xmax</th>\n",
       "      <th>ymin</th>\n",
       "      <th>ymax</th>\n",
       "      <th>class_id</th>\n",
       "    </tr>\n",
       "  </thead>\n",
       "  <tbody>\n",
       "    <tr>\n",
       "      <th>0</th>\n",
       "      <td>1478020894712588023.jpg</td>\n",
       "      <td>[2.0725107, 1.9327061, 1.172914, 0.82692915, 0...</td>\n",
       "      <td>1478020894712588023.jpg</td>\n",
       "      <td>229</td>\n",
       "      <td>254</td>\n",
       "      <td>137</td>\n",
       "      <td>154</td>\n",
       "      <td>1</td>\n",
       "    </tr>\n",
       "    <tr>\n",
       "      <th>1</th>\n",
       "      <td>1479502069714972898.jpg</td>\n",
       "      <td>[0.9942462, 1.631726, 0.582592, 1.0997323, 1.8...</td>\n",
       "      <td>1479502069714972898.jpg</td>\n",
       "      <td>50</td>\n",
       "      <td>166</td>\n",
       "      <td>117</td>\n",
       "      <td>195</td>\n",
       "      <td>1</td>\n",
       "    </tr>\n",
       "    <tr>\n",
       "      <th>2</th>\n",
       "      <td>1479500482587459937.jpg</td>\n",
       "      <td>[1.1718231, 4.1336675, 1.6602513, 0.42962426, ...</td>\n",
       "      <td>1479500482587459937.jpg</td>\n",
       "      <td>110</td>\n",
       "      <td>123</td>\n",
       "      <td>139</td>\n",
       "      <td>150</td>\n",
       "      <td>1</td>\n",
       "    </tr>\n",
       "    <tr>\n",
       "      <th>3</th>\n",
       "      <td>1478732638089007825.jpg</td>\n",
       "      <td>[2.5519118, 4.7600904, 2.8344846, 0.5478969, 0...</td>\n",
       "      <td>1478732638089007825.jpg</td>\n",
       "      <td>101</td>\n",
       "      <td>202</td>\n",
       "      <td>4</td>\n",
       "      <td>151</td>\n",
       "      <td>2</td>\n",
       "    </tr>\n",
       "    <tr>\n",
       "      <th>4</th>\n",
       "      <td>1479498594981336285.jpg</td>\n",
       "      <td>[0.8184468, 2.7105885, 2.545974, 0.7424777, 1....</td>\n",
       "      <td>1479498594981336285.jpg</td>\n",
       "      <td>118</td>\n",
       "      <td>132</td>\n",
       "      <td>141</td>\n",
       "      <td>151</td>\n",
       "      <td>1</td>\n",
       "    </tr>\n",
       "  </tbody>\n",
       "</table>\n",
       "</div>"
      ],
      "text/plain": [
       "                      name                                              value  \\\n",
       "0  1478020894712588023.jpg  [2.0725107, 1.9327061, 1.172914, 0.82692915, 0...   \n",
       "1  1479502069714972898.jpg  [0.9942462, 1.631726, 0.582592, 1.0997323, 1.8...   \n",
       "2  1479500482587459937.jpg  [1.1718231, 4.1336675, 1.6602513, 0.42962426, ...   \n",
       "3  1478732638089007825.jpg  [2.5519118, 4.7600904, 2.8344846, 0.5478969, 0...   \n",
       "4  1479498594981336285.jpg  [0.8184468, 2.7105885, 2.545974, 0.7424777, 1....   \n",
       "\n",
       "                     frame  xmin  xmax  ymin  ymax  class_id  \n",
       "0  1478020894712588023.jpg   229   254   137   154         1  \n",
       "1  1479502069714972898.jpg    50   166   117   195         1  \n",
       "2  1479500482587459937.jpg   110   123   139   150         1  \n",
       "3  1478732638089007825.jpg   101   202     4   151         2  \n",
       "4  1479498594981336285.jpg   118   132   141   151         1  "
      ]
     },
     "execution_count": 5,
     "metadata": {},
     "output_type": "execute_result"
    }
   ],
   "source": [
    "df.head()"
   ]
  },
  {
   "cell_type": "code",
   "execution_count": 6,
   "id": "740a937b",
   "metadata": {
    "execution": {
     "iopub.execute_input": "2024-08-11T10:10:49.907188Z",
     "iopub.status.busy": "2024-08-11T10:10:49.906765Z",
     "iopub.status.idle": "2024-08-11T10:10:49.921004Z",
     "shell.execute_reply": "2024-08-11T10:10:49.919806Z"
    },
    "papermill": {
     "duration": 0.025002,
     "end_time": "2024-08-11T10:10:49.923702",
     "exception": false,
     "start_time": "2024-08-11T10:10:49.898700",
     "status": "completed"
    },
    "tags": []
   },
   "outputs": [
    {
     "data": {
      "text/plain": [
       "{1: 0.8477222222222223,\n",
       " 2: 0.058833333333333335,\n",
       " 3: 0.050555555555555555,\n",
       " 5: 0.03327777777777778,\n",
       " 4: 0.009611111111111112}"
      ]
     },
     "execution_count": 6,
     "metadata": {},
     "output_type": "execute_result"
    }
   ],
   "source": [
    "df['class_id'].value_counts(normalize=True).to_dict()"
   ]
  },
  {
   "cell_type": "markdown",
   "id": "6daa52a6",
   "metadata": {
    "papermill": {
     "duration": 0.006585,
     "end_time": "2024-08-11T10:10:49.937501",
     "exception": false,
     "start_time": "2024-08-11T10:10:49.930916",
     "status": "completed"
    },
    "tags": []
   },
   "source": [
    "Our data is mostly class 1, so our plot is going to be dominated by one class."
   ]
  },
  {
   "cell_type": "code",
   "execution_count": 7,
   "id": "36b7bbd0",
   "metadata": {
    "execution": {
     "iopub.execute_input": "2024-08-11T10:10:49.953238Z",
     "iopub.status.busy": "2024-08-11T10:10:49.952778Z",
     "iopub.status.idle": "2024-08-11T10:12:20.605779Z",
     "shell.execute_reply": "2024-08-11T10:12:20.604368Z"
    },
    "papermill": {
     "duration": 90.746952,
     "end_time": "2024-08-11T10:12:20.691354",
     "exception": false,
     "start_time": "2024-08-11T10:10:49.944402",
     "status": "completed"
    },
    "tags": []
   },
   "outputs": [
    {
     "name": "stderr",
     "output_type": "stream",
     "text": [
      "2024-08-11 10:11:17.424362: E external/local_xla/xla/stream_executor/cuda/cuda_dnn.cc:9261] Unable to register cuDNN factory: Attempting to register factory for plugin cuDNN when one has already been registered\n",
      "2024-08-11 10:11:17.424523: E external/local_xla/xla/stream_executor/cuda/cuda_fft.cc:607] Unable to register cuFFT factory: Attempting to register factory for plugin cuFFT when one has already been registered\n",
      "2024-08-11 10:11:17.642861: E external/local_xla/xla/stream_executor/cuda/cuda_blas.cc:1515] Unable to register cuBLAS factory: Attempting to register factory for plugin cuBLAS when one has already been registered\n"
     ]
    },
    {
     "name": "stdout",
     "output_type": "stream",
     "text": [
      "UMAP(init='random', low_memory=False, n_epochs=201, n_jobs=1, random_state=2024, verbose=True)\n",
      "Sun Aug 11 10:11:33 2024 Construct fuzzy simplicial set\n",
      "Sun Aug 11 10:11:33 2024 Finding Nearest Neighbors\n",
      "Sun Aug 11 10:11:33 2024 Building RP forest with 12 trees\n",
      "Sun Aug 11 10:11:40 2024 NN descent for 14 iterations\n",
      "\t 1  /  14\n",
      "\t 2  /  14\n",
      "\t 3  /  14\n",
      "\t 4  /  14\n",
      "\t 5  /  14\n",
      "\t 6  /  14\n",
      "\tStopping threshold met -- exiting after 6 iterations\n",
      "Sun Aug 11 10:12:03 2024 Finished Nearest Neighbor Search\n",
      "Sun Aug 11 10:12:07 2024 Construct embedding\n"
     ]
    },
    {
     "data": {
      "application/vnd.jupyter.widget-view+json": {
       "model_id": "f4e127fef1844ae8925dd4de3f5b6b64",
       "version_major": 2,
       "version_minor": 0
      },
      "text/plain": [
       "Epochs completed:   0%|            0/201 [00:00]"
      ]
     },
     "metadata": {},
     "output_type": "display_data"
    },
    {
     "name": "stdout",
     "output_type": "stream",
     "text": [
      "\tcompleted  0  /  201 epochs\n",
      "\tcompleted  20  /  201 epochs\n",
      "\tcompleted  40  /  201 epochs\n",
      "\tcompleted  60  /  201 epochs\n",
      "\tcompleted  80  /  201 epochs\n",
      "\tcompleted  100  /  201 epochs\n",
      "\tcompleted  120  /  201 epochs\n",
      "\tcompleted  140  /  201 epochs\n",
      "\tcompleted  160  /  201 epochs\n",
      "\tcompleted  180  /  201 epochs\n",
      "\tcompleted  200  /  201 epochs\n",
      "Sun Aug 11 10:12:20 2024 Finished embedding\n",
      "done with UMAP in 0:00:50.040368\n"
     ]
    }
   ],
   "source": [
    "import arrow\n",
    "from umap import UMAP\n",
    "\n",
    "time_start = arrow.now()\n",
    "umap = UMAP(random_state=2024, verbose=True, n_jobs=1, low_memory=False, n_epochs=201, init='random')\n",
    "df[['x', 'y']] = umap.fit_transform(X=df['value'].apply(func=pd.Series))\n",
    "print('done with UMAP in {}'.format(arrow.now() - time_start))"
   ]
  },
  {
   "cell_type": "code",
   "execution_count": 8,
   "id": "0be20786",
   "metadata": {
    "execution": {
     "iopub.execute_input": "2024-08-11T10:12:20.712959Z",
     "iopub.status.busy": "2024-08-11T10:12:20.712106Z",
     "iopub.status.idle": "2024-08-11T10:12:23.095029Z",
     "shell.execute_reply": "2024-08-11T10:12:23.093632Z"
    },
    "papermill": {
     "duration": 2.397989,
     "end_time": "2024-08-11T10:12:23.098700",
     "exception": false,
     "start_time": "2024-08-11T10:12:20.700711",
     "status": "completed"
    },
    "tags": []
   },
   "outputs": [
    {
     "data": {
      "text/plain": [
       "<Axes: xlabel='x', ylabel='y'>"
      ]
     },
     "execution_count": 8,
     "metadata": {},
     "output_type": "execute_result"
    },
    {
     "data": {
      "image/png": "[encoded data removed]",
      "text/plain": [
       "<Figure size 800x800 with 1 Axes>"
      ]
     },
     "metadata": {},
     "output_type": "display_data"
    }
   ],
   "source": [
    "import matplotlib.pyplot as plt\n",
    "import seaborn as sns\n",
    "\n",
    "fig, ax = plt.subplots(figsize=(8, 8))\n",
    "sns.scatterplot(data=df, x='x', y='y', hue='class_id', ax=ax)"
   ]
  },
  {
   "cell_type": "markdown",
   "id": "2a6da832",
   "metadata": {
    "papermill": {
     "duration": 0.010735,
     "end_time": "2024-08-11T10:12:23.120317",
     "exception": false,
     "start_time": "2024-08-11T10:12:23.109582",
     "status": "completed"
    },
    "tags": []
   },
   "source": [
    "Hmmm."
   ]
  },
  {
   "cell_type": "code",
   "execution_count": 9,
   "id": "310bd66c",
   "metadata": {
    "execution": {
     "iopub.execute_input": "2024-08-11T10:12:23.144820Z",
     "iopub.status.busy": "2024-08-11T10:12:23.144403Z",
     "iopub.status.idle": "2024-08-11T10:12:23.171442Z",
     "shell.execute_reply": "2024-08-11T10:12:23.170086Z"
    },
    "papermill": {
     "duration": 0.043111,
     "end_time": "2024-08-11T10:12:23.174104",
     "exception": false,
     "start_time": "2024-08-11T10:12:23.130993",
     "status": "completed"
    },
    "tags": []
   },
   "outputs": [
    {
     "data": {
      "text/plain": [
       "name    18000\n",
       "x       17992\n",
       "y       17995\n",
       "dtype: int64"
      ]
     },
     "execution_count": 9,
     "metadata": {},
     "output_type": "execute_result"
    }
   ],
   "source": [
    "df[['name', 'x', 'y']].nunique()"
   ]
  },
  {
   "cell_type": "code",
   "execution_count": 10,
   "id": "f357213c",
   "metadata": {
    "execution": {
     "iopub.execute_input": "2024-08-11T10:12:23.197543Z",
     "iopub.status.busy": "2024-08-11T10:12:23.197129Z",
     "iopub.status.idle": "2024-08-11T10:12:23.205249Z",
     "shell.execute_reply": "2024-08-11T10:12:23.203960Z"
    },
    "papermill": {
     "duration": 0.023117,
     "end_time": "2024-08-11T10:12:23.208062",
     "exception": false,
     "start_time": "2024-08-11T10:12:23.184945",
     "status": "completed"
    },
    "tags": []
   },
   "outputs": [
    {
     "data": {
      "text/plain": [
       "(18000, 10)"
      ]
     },
     "execution_count": 10,
     "metadata": {},
     "output_type": "execute_result"
    }
   ],
   "source": [
    "df.shape"
   ]
  },
  {
   "cell_type": "code",
   "execution_count": 11,
   "id": "4860ad57",
   "metadata": {
    "execution": {
     "iopub.execute_input": "2024-08-11T10:12:23.232190Z",
     "iopub.status.busy": "2024-08-11T10:12:23.231756Z",
     "iopub.status.idle": "2024-08-11T10:12:23.256679Z",
     "shell.execute_reply": "2024-08-11T10:12:23.255361Z"
    },
    "papermill": {
     "duration": 0.040067,
     "end_time": "2024-08-11T10:12:23.259449",
     "exception": false,
     "start_time": "2024-08-11T10:12:23.219382",
     "status": "completed"
    },
    "tags": []
   },
   "outputs": [
    {
     "data": {
      "text/html": [
       "<div>\n",
       "<style scoped>\n",
       "    .dataframe tbody tr th:only-of-type {\n",
       "        vertical-align: middle;\n",
       "    }\n",
       "\n",
       "    .dataframe tbody tr th {\n",
       "        vertical-align: top;\n",
       "    }\n",
       "\n",
       "    .dataframe thead th {\n",
       "        text-align: right;\n",
       "    }\n",
       "</style>\n",
       "<table border=\"1\" class=\"dataframe\">\n",
       "  <thead>\n",
       "    <tr style=\"text-align: right;\">\n",
       "      <th></th>\n",
       "      <th>name</th>\n",
       "      <th>value</th>\n",
       "      <th>frame</th>\n",
       "      <th>xmin</th>\n",
       "      <th>xmax</th>\n",
       "      <th>ymin</th>\n",
       "      <th>ymax</th>\n",
       "      <th>class_id</th>\n",
       "      <th>x</th>\n",
       "      <th>y</th>\n",
       "    </tr>\n",
       "  </thead>\n",
       "  <tbody>\n",
       "    <tr>\n",
       "      <th>0</th>\n",
       "      <td>1478020894712588023.jpg</td>\n",
       "      <td>[2.0725107, 1.9327061, 1.172914, 0.82692915, 0...</td>\n",
       "      <td>1478020894712588023.jpg</td>\n",
       "      <td>229</td>\n",
       "      <td>254</td>\n",
       "      <td>137</td>\n",
       "      <td>154</td>\n",
       "      <td>1</td>\n",
       "      <td>0.818066</td>\n",
       "      <td>1.085484</td>\n",
       "    </tr>\n",
       "    <tr>\n",
       "      <th>1</th>\n",
       "      <td>1479502069714972898.jpg</td>\n",
       "      <td>[0.9942462, 1.631726, 0.582592, 1.0997323, 1.8...</td>\n",
       "      <td>1479502069714972898.jpg</td>\n",
       "      <td>50</td>\n",
       "      <td>166</td>\n",
       "      <td>117</td>\n",
       "      <td>195</td>\n",
       "      <td>1</td>\n",
       "      <td>0.347993</td>\n",
       "      <td>6.793143</td>\n",
       "    </tr>\n",
       "    <tr>\n",
       "      <th>2</th>\n",
       "      <td>1479500482587459937.jpg</td>\n",
       "      <td>[1.1718231, 4.1336675, 1.6602513, 0.42962426, ...</td>\n",
       "      <td>1479500482587459937.jpg</td>\n",
       "      <td>110</td>\n",
       "      <td>123</td>\n",
       "      <td>139</td>\n",
       "      <td>150</td>\n",
       "      <td>1</td>\n",
       "      <td>1.943317</td>\n",
       "      <td>9.362548</td>\n",
       "    </tr>\n",
       "    <tr>\n",
       "      <th>3</th>\n",
       "      <td>1478732638089007825.jpg</td>\n",
       "      <td>[2.5519118, 4.7600904, 2.8344846, 0.5478969, 0...</td>\n",
       "      <td>1478732638089007825.jpg</td>\n",
       "      <td>101</td>\n",
       "      <td>202</td>\n",
       "      <td>4</td>\n",
       "      <td>151</td>\n",
       "      <td>2</td>\n",
       "      <td>9.449958</td>\n",
       "      <td>7.009692</td>\n",
       "    </tr>\n",
       "    <tr>\n",
       "      <th>4</th>\n",
       "      <td>1479498594981336285.jpg</td>\n",
       "      <td>[0.8184468, 2.7105885, 2.545974, 0.7424777, 1....</td>\n",
       "      <td>1479498594981336285.jpg</td>\n",
       "      <td>118</td>\n",
       "      <td>132</td>\n",
       "      <td>141</td>\n",
       "      <td>151</td>\n",
       "      <td>1</td>\n",
       "      <td>4.244702</td>\n",
       "      <td>6.077816</td>\n",
       "    </tr>\n",
       "  </tbody>\n",
       "</table>\n",
       "</div>"
      ],
      "text/plain": [
       "                      name                                              value  \\\n",
       "0  1478020894712588023.jpg  [2.0725107, 1.9327061, 1.172914, 0.82692915, 0...   \n",
       "1  1479502069714972898.jpg  [0.9942462, 1.631726, 0.582592, 1.0997323, 1.8...   \n",
       "2  1479500482587459937.jpg  [1.1718231, 4.1336675, 1.6602513, 0.42962426, ...   \n",
       "3  1478732638089007825.jpg  [2.5519118, 4.7600904, 2.8344846, 0.5478969, 0...   \n",
       "4  1479498594981336285.jpg  [0.8184468, 2.7105885, 2.545974, 0.7424777, 1....   \n",
       "\n",
       "                     frame  xmin  xmax  ymin  ymax  class_id         x  \\\n",
       "0  1478020894712588023.jpg   229   254   137   154         1  0.818066   \n",
       "1  1479502069714972898.jpg    50   166   117   195         1  0.347993   \n",
       "2  1479500482587459937.jpg   110   123   139   150         1  1.943317   \n",
       "3  1478732638089007825.jpg   101   202     4   151         2  9.449958   \n",
       "4  1479498594981336285.jpg   118   132   141   151         1  4.244702   \n",
       "\n",
       "          y  \n",
       "0  1.085484  \n",
       "1  6.793143  \n",
       "2  9.362548  \n",
       "3  7.009692  \n",
       "4  6.077816  "
      ]
     },
     "execution_count": 11,
     "metadata": {},
     "output_type": "execute_result"
    }
   ],
   "source": [
    "df.head()"
   ]
  }
 ],
 "metadata": {
  "kaggle": {
   "accelerator": "none",
   "dataSources": [
    {
     "datasetId": 5497580,
     "sourceId": 9108953,
     "sourceType": "datasetVersion"
    }
   ],
   "dockerImageVersionId": 30746,
   "isGpuEnabled": false,
   "isInternetEnabled": true,
   "language": "python",
   "sourceType": "notebook"
  },
  "kernelspec": {
   "display_name": "Python 3",
   "language": "python",
   "name": "python3"
  },
  "language_info": {
   "codemirror_mode": {
    "name": "ipython",
    "version": 3
   },
   "file_extension": ".py",
   "mimetype": "text/x-python",
   "name": "python",
   "nbconvert_exporter": "python",
   "pygments_lexer": "ipython3",
   "version": "3.10.13"
  },
  "papermill": {
   "default_parameters": {},
   "duration": 1537.034686,
   "end_time": "2024-08-11T10:12:26.833799",
   "environment_variables": {},
   "exception": null,
   "input_path": "__notebook__.ipynb",
   "output_path": "__notebook__.ipynb",
   "parameters": {},
   "start_time": "2024-08-11T09:46:49.799113",
   "version": "2.5.0"
  },
  "widgets": {
   "application/vnd.jupyter.widget-state+json": {
    "state": {
     "0f84a144fb45415aa271a9c0506146d9": {
      "model_module": "@jupyter-widgets/base",
      "model_module_version": "1.2.0",
      "model_name": "LayoutModel",
      "state": {
       "_model_module": "@jupyter-widgets/base",
       "_model_module_version": "1.2.0",
       "_model_name": "LayoutModel",
       "_view_count": null,
       "_view_module": "@jupyter-widgets/base",
       "_view_module_version": "1.2.0",
       "_view_name": "LayoutView",
       "align_content": null,
       "align_items": null,
       "align_self": null,
       "border": null,
       "bottom": null,
       "display": null,
       "flex": null,
       "flex_flow": null,
       "grid_area": null,
       "grid_auto_columns": null,
       "grid_auto_flow": null,
       "grid_auto_rows": null,
       "grid_column": null,
       "grid_gap": null,
       "grid_row": null,
       "grid_template_areas": null,
       "grid_template_columns": null,
       "grid_template_rows": null,
       "height": null,
       "justify_content": null,
       "justify_items": null,
       "left": null,
       "margin": null,
       "max_height": null,
       "max_width": null,
       "min_height": null,
       "min_width": null,
       "object_fit": null,
       "object_position": null,
       "order": null,
       "overflow": null,
       "overflow_x": null,
       "overflow_y": null,
       "padding": null,
       "right": null,
       "top": null,
       "visibility": null,
       "width": null
      }
     },
     "1660db0c20114faca7436c5c7c8160ea": {
      "model_module": "@jupyter-widgets/controls",
      "model_module_version": "1.5.0",
      "model_name": "ProgressStyleModel",
      "state": {
       "_model_module": "@jupyter-widgets/controls",
       "_model_module_version": "1.5.0",
       "_model_name": "ProgressStyleModel",
       "_view_count": null,
       "_view_module": "@jupyter-widgets/base",
       "_view_module_version": "1.2.0",
       "_view_name": "StyleView",
       "bar_color": null,
       "description_width": ""
      }
     },
     "1dc26dcfdbf64ada8cdd08ae7bd7c067": {
      "model_module": "@jupyter-widgets/base",
      "model_module_version": "1.2.0",
      "model_name": "LayoutModel",
      "state": {
       "_model_module": "@jupyter-widgets/base",
       "_model_module_version": "1.2.0",
       "_model_name": "LayoutModel",
       "_view_count": null,
       "_view_module": "@jupyter-widgets/base",
       "_view_module_version": "1.2.0",
       "_view_name": "LayoutView",
       "align_content": null,
       "align_items": null,
       "align_self": null,
       "border": null,
       "bottom": null,
       "display": null,
       "flex": null,
       "flex_flow": null,
       "grid_area": null,
       "grid_auto_columns": null,
       "grid_auto_flow": null,
       "grid_auto_rows": null,
       "grid_column": null,
       "grid_gap": null,
       "grid_row": null,
       "grid_template_areas": null,
       "grid_template_columns": null,
       "grid_template_rows": null,
       "height": null,
       "justify_content": null,
       "justify_items": null,
       "left": null,
       "margin": null,
       "max_height": null,
       "max_width": null,
       "min_height": null,
       "min_width": null,
       "object_fit": null,
       "object_position": null,
       "order": null,
       "overflow": null,
       "overflow_x": null,
       "overflow_y": null,
       "padding": null,
       "right": null,
       "top": null,
       "visibility": null,
       "width": null
      }
     },
     "2b2c90fe5a5c4379bcba7da68de2fa34": {
      "model_module": "@jupyter-widgets/base",
      "model_module_version": "1.2.0",
      "model_name": "LayoutModel",
      "state": {
       "_model_module": "@jupyter-widgets/base",
       "_model_module_version": "1.2.0",
       "_model_name": "LayoutModel",
       "_view_count": null,
       "_view_module": "@jupyter-widgets/base",
       "_view_module_version": "1.2.0",
       "_view_name": "LayoutView",
       "align_content": null,
       "align_items": null,
       "align_self": null,
       "border": null,
       "bottom": null,
       "display": null,
       "flex": null,
       "flex_flow": null,
       "grid_area": null,
       "grid_auto_columns": null,
       "grid_auto_flow": null,
       "grid_auto_rows": null,
       "grid_column": null,
       "grid_gap": null,
       "grid_row": null,
       "grid_template_areas": null,
       "grid_template_columns": null,
       "grid_template_rows": null,
       "height": null,
       "justify_content": null,
       "justify_items": null,
       "left": null,
       "margin": null,
       "max_height": null,
       "max_width": null,
       "min_height": null,
       "min_width": null,
       "object_fit": null,
       "object_position": null,
       "order": null,
       "overflow": null,
       "overflow_x": null,
       "overflow_y": null,
       "padding": null,
       "right": null,
       "top": null,
       "visibility": null,
       "width": null
      }
     },
     "2e4d4dad8f6945d7874f6c65a057042b": {
      "model_module": "@jupyter-widgets/controls",
      "model_module_version": "1.5.0",
      "model_name": "DescriptionStyleModel",
      "state": {
       "_model_module": "@jupyter-widgets/controls",
       "_model_module_version": "1.5.0",
       "_model_name": "DescriptionStyleModel",
       "_view_count": null,
       "_view_module": "@jupyter-widgets/base",
       "_view_module_version": "1.2.0",
       "_view_name": "StyleView",
       "description_width": ""
      }
     },
     "54a2a8342a6f4f41a18abfdcd50d0554": {
      "model_module": "@jupyter-widgets/controls",
      "model_module_version": "1.5.0",
      "model_name": "FloatProgressModel",
      "state": {
       "_dom_classes": [],
       "_model_module": "@jupyter-widgets/controls",
       "_model_module_version": "1.5.0",
       "_model_name": "FloatProgressModel",
       "_view_count": null,
       "_view_module": "@jupyter-widgets/controls",
       "_view_module_version": "1.5.0",
       "_view_name": "ProgressView",
       "bar_style": "success",
       "description": "",
       "description_tooltip": null,
       "layout": "IPY_MODEL_d4318155db52425cbb6e56a3a3868af2",
       "max": 201.0,
       "min": 0.0,
       "orientation": "horizontal",
       "style": "IPY_MODEL_1660db0c20114faca7436c5c7c8160ea",
       "value": 201.0
      }
     },
     "d4318155db52425cbb6e56a3a3868af2": {
      "model_module": "@jupyter-widgets/base",
      "model_module_version": "1.2.0",
      "model_name": "LayoutModel",
      "state": {
       "_model_module": "@jupyter-widgets/base",
       "_model_module_version": "1.2.0",
       "_model_name": "LayoutModel",
       "_view_count": null,
       "_view_module": "@jupyter-widgets/base",
       "_view_module_version": "1.2.0",
       "_view_name": "LayoutView",
       "align_content": null,
       "align_items": null,
       "align_self": null,
       "border": null,
       "bottom": null,
       "display": null,
       "flex": null,
       "flex_flow": null,
       "grid_area": null,
       "grid_auto_columns": null,
       "grid_auto_flow": null,
       "grid_auto_rows": null,
       "grid_column": null,
       "grid_gap": null,
       "grid_row": null,
       "grid_template_areas": null,
       "grid_template_columns": null,
       "grid_template_rows": null,
       "height": null,
       "justify_content": null,
       "justify_items": null,
       "left": null,
       "margin": null,
       "max_height": null,
       "max_width": null,
       "min_height": null,
       "min_width": null,
       "object_fit": null,
       "object_position": null,
       "order": null,
       "overflow": null,
       "overflow_x": null,
       "overflow_y": null,
       "padding": null,
       "right": null,
       "top": null,
       "visibility": null,
       "width": null
      }
     },
     "e2ea13456aa5433aa0671443e70fecc1": {
      "model_module": "@jupyter-widgets/controls",
      "model_module_version": "1.5.0",
      "model_name": "HTMLModel",
      "state": {
       "_dom_classes": [],
       "_model_module": "@jupyter-widgets/controls",
       "_model_module_version": "1.5.0",
       "_model_name": "HTMLModel",
       "_view_count": null,
       "_view_module": "@jupyter-widgets/controls",
       "_view_module_version": "1.5.0",
       "_view_name": "HTMLView",
       "description": "",
       "description_tooltip": null,
       "layout": "IPY_MODEL_1dc26dcfdbf64ada8cdd08ae7bd7c067",
       "placeholder": "​",
       "style": "IPY_MODEL_f21671f2ce7b4ff8b3ac0185162ab4ca",
       "value": "Epochs completed: 100%| "
      }
     },
     "e6f03cb8ab884516b43c4ec05359e646": {
      "model_module": "@jupyter-widgets/controls",
      "model_module_version": "1.5.0",
      "model_name": "HTMLModel",
      "state": {
       "_dom_classes": [],
       "_model_module": "@jupyter-widgets/controls",
       "_model_module_version": "1.5.0",
       "_model_name": "HTMLModel",
       "_view_count": null,
       "_view_module": "@jupyter-widgets/controls",
       "_view_module_version": "1.5.0",
       "_view_name": "HTMLView",
       "description": "",
       "description_tooltip": null,
       "layout": "IPY_MODEL_0f84a144fb45415aa271a9c0506146d9",
       "placeholder": "​",
       "style": "IPY_MODEL_2e4d4dad8f6945d7874f6c65a057042b",
       "value": " 201/201 [00:13]"
      }
     },
     "f21671f2ce7b4ff8b3ac0185162ab4ca": {
      "model_module": "@jupyter-widgets/controls",
      "model_module_version": "1.5.0",
      "model_name": "DescriptionStyleModel",
      "state": {
       "_model_module": "@jupyter-widgets/controls",
       "_model_module_version": "1.5.0",
       "_model_name": "DescriptionStyleModel",
       "_view_count": null,
       "_view_module": "@jupyter-widgets/base",
       "_view_module_version": "1.2.0",
       "_view_name": "StyleView",
       "description_width": ""
      }
     },
     "f4e127fef1844ae8925dd4de3f5b6b64": {
      "model_module": "@jupyter-widgets/controls",
      "model_module_version": "1.5.0",
      "model_name": "HBoxModel",
      "state": {
       "_dom_classes": [],
       "_model_module": "@jupyter-widgets/controls",
       "_model_module_version": "1.5.0",
       "_model_name": "HBoxModel",
       "_view_count": null,
       "_view_module": "@jupyter-widgets/controls",
       "_view_module_version": "1.5.0",
       "_view_name": "HBoxView",
       "box_style": "",
       "children": [
        "IPY_MODEL_e2ea13456aa5433aa0671443e70fecc1",
        "IPY_MODEL_54a2a8342a6f4f41a18abfdcd50d0554",
        "IPY_MODEL_e6f03cb8ab884516b43c4ec05359e646"
       ],
       "layout": "IPY_MODEL_2b2c90fe5a5c4379bcba7da68de2fa34"
      }
     }
    },
    "version_major": 2,
    "version_minor": 0
   }
  }
 },
 "nbformat": 4,
 "nbformat_minor": 5
}
