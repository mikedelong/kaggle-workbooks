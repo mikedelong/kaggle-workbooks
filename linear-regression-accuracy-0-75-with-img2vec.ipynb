{
 "cells": [
  {
   "cell_type": "code",
   "execution_count": 1,
   "id": "8213a4f1",
   "metadata": {
    "_cell_guid": "b1076dfc-b9ad-4769-8c92-a6c4dae69d19",
    "_uuid": "8f2839f25d086af736a60e9eeb907d3b93b6e0e5",
    "execution": {
     "iopub.execute_input": "2024-02-20T16:22:51.191606Z",
     "iopub.status.busy": "2024-02-20T16:22:51.190795Z",
     "iopub.status.idle": "2024-02-20T16:23:09.033016Z",
     "shell.execute_reply": "2024-02-20T16:23:09.031727Z"
    },
    "papermill": {
     "duration": 17.853252,
     "end_time": "2024-02-20T16:23:09.036111",
     "exception": false,
     "start_time": "2024-02-20T16:22:51.182859",
     "status": "completed"
    },
    "tags": []
   },
   "outputs": [
    {
     "name": "stdout",
     "output_type": "stream",
     "text": [
      "Collecting img2vec_pytorch\r\n",
      "  Downloading img2vec_pytorch-1.0.1-py3-none-any.whl (6.9 kB)\r\n",
      "Requirement already satisfied: torch in /opt/conda/lib/python3.10/site-packages (from img2vec_pytorch) (2.1.2+cpu)\r\n",
      "Requirement already satisfied: torchvision in /opt/conda/lib/python3.10/site-packages (from img2vec_pytorch) (0.16.2+cpu)\r\n",
      "Requirement already satisfied: numpy in /opt/conda/lib/python3.10/site-packages (from img2vec_pytorch) (1.24.4)\r\n",
      "Requirement already satisfied: filelock in /opt/conda/lib/python3.10/site-packages (from torch->img2vec_pytorch) (3.13.1)\r\n",
      "Requirement already satisfied: typing-extensions in /opt/conda/lib/python3.10/site-packages (from torch->img2vec_pytorch) (4.9.0)\r\n",
      "Requirement already satisfied: sympy in /opt/conda/lib/python3.10/site-packages (from torch->img2vec_pytorch) (1.12)\r\n",
      "Requirement already satisfied: networkx in /opt/conda/lib/python3.10/site-packages (from torch->img2vec_pytorch) (3.2.1)\r\n",
      "Requirement already satisfied: jinja2 in /opt/conda/lib/python3.10/site-packages (from torch->img2vec_pytorch) (3.1.2)\r\n",
      "Requirement already satisfied: fsspec in /opt/conda/lib/python3.10/site-packages (from torch->img2vec_pytorch) (2023.12.2)\r\n",
      "Requirement already satisfied: requests in /opt/conda/lib/python3.10/site-packages (from torchvision->img2vec_pytorch) (2.31.0)\r\n",
      "Requirement already satisfied: pillow!=8.3.*,>=5.3.0 in /opt/conda/lib/python3.10/site-packages (from torchvision->img2vec_pytorch) (9.5.0)\r\n",
      "Requirement already satisfied: MarkupSafe>=2.0 in /opt/conda/lib/python3.10/site-packages (from jinja2->torch->img2vec_pytorch) (2.1.3)\r\n",
      "Requirement already satisfied: charset-normalizer<4,>=2 in /opt/conda/lib/python3.10/site-packages (from requests->torchvision->img2vec_pytorch) (3.3.2)\r\n",
      "Requirement already satisfied: idna<4,>=2.5 in /opt/conda/lib/python3.10/site-packages (from requests->torchvision->img2vec_pytorch) (3.6)\r\n",
      "Requirement already satisfied: urllib3<3,>=1.21.1 in /opt/conda/lib/python3.10/site-packages (from requests->torchvision->img2vec_pytorch) (1.26.18)\r\n",
      "Requirement already satisfied: certifi>=2017.4.17 in /opt/conda/lib/python3.10/site-packages (from requests->torchvision->img2vec_pytorch) (2023.11.17)\r\n",
      "Requirement already satisfied: mpmath>=0.19 in /opt/conda/lib/python3.10/site-packages (from sympy->torch->img2vec_pytorch) (1.3.0)\r\n",
      "Installing collected packages: img2vec_pytorch\r\n",
      "Successfully installed img2vec_pytorch-1.0.1\r\n"
     ]
    }
   ],
   "source": [
    "!pip install img2vec_pytorch"
   ]
  },
  {
   "cell_type": "code",
   "execution_count": 2,
   "id": "bebdda89",
   "metadata": {
    "execution": {
     "iopub.execute_input": "2024-02-20T16:23:09.051846Z",
     "iopub.status.busy": "2024-02-20T16:23:09.051385Z",
     "iopub.status.idle": "2024-02-20T16:23:09.057214Z",
     "shell.execute_reply": "2024-02-20T16:23:09.056282Z"
    },
    "papermill": {
     "duration": 0.017643,
     "end_time": "2024-02-20T16:23:09.060583",
     "exception": false,
     "start_time": "2024-02-20T16:23:09.042940",
     "status": "completed"
    },
    "tags": []
   },
   "outputs": [],
   "source": [
    "from warnings import filterwarnings\n",
    "filterwarnings(action='ignore', category=FutureWarning)"
   ]
  },
  {
   "cell_type": "markdown",
   "id": "7e43d0ac",
   "metadata": {
    "papermill": {
     "duration": 0.00568,
     "end_time": "2024-02-20T16:23:09.072494",
     "exception": false,
     "start_time": "2024-02-20T16:23:09.066814",
     "status": "completed"
    },
    "tags": []
   },
   "source": [
    "Let's use img2vec to build a dataset of tags, names, and vectors."
   ]
  },
  {
   "cell_type": "code",
   "execution_count": 3,
   "id": "c537c307",
   "metadata": {
    "execution": {
     "iopub.execute_input": "2024-02-20T16:23:09.086625Z",
     "iopub.status.busy": "2024-02-20T16:23:09.086192Z",
     "iopub.status.idle": "2024-02-20T16:25:06.950568Z",
     "shell.execute_reply": "2024-02-20T16:25:06.949477Z"
    },
    "papermill": {
     "duration": 117.881485,
     "end_time": "2024-02-20T16:25:06.960233",
     "exception": false,
     "start_time": "2024-02-20T16:23:09.078748",
     "status": "completed"
    },
    "tags": []
   },
   "outputs": [
    {
     "name": "stderr",
     "output_type": "stream",
     "text": [
      "/opt/conda/lib/python3.10/site-packages/torchvision/models/_utils.py:208: UserWarning: The parameter 'pretrained' is deprecated since 0.13 and may be removed in the future, please use 'weights' instead.\n",
      "  warnings.warn(\n",
      "/opt/conda/lib/python3.10/site-packages/torchvision/models/_utils.py:223: UserWarning: Arguments other than a weight enum or `None` for 'weights' are deprecated since 0.13 and may be removed in the future. The current behavior is equivalent to passing `weights=ResNet18_Weights.IMAGENET1K_V1`. You can also use `weights=ResNet18_Weights.DEFAULT` to get the most up-to-date weights.\n",
      "  warnings.warn(msg)\n",
      "Downloading: \"https://download.pytorch.org/models/resnet18-f37072fd.pth\" to /root/.cache/torch/hub/checkpoints/resnet18-f37072fd.pth\n",
      "100%|██████████| 44.7M/44.7M [00:00<00:00, 86.3MB/s]\n"
     ]
    },
    {
     "name": "stdout",
     "output_type": "stream",
     "text": [
      "done encoding the AI images in 0:00:55.825918\n",
      "done in 0:01:47.327806\n",
      "(894, 3)\n"
     ]
    }
   ],
   "source": [
    "from img2vec_pytorch import Img2Vec\n",
    "from PIL import Image\n",
    "from arrow import now\n",
    "from glob import glob\n",
    "import pandas as pd\n",
    "from os.path import basename\n",
    "\n",
    "img2vec = Img2Vec(cuda=False, model='resnet-18', layer='default', layer_output_size=512)\n",
    "\n",
    "GLOB_AI = '/kaggle/input/ai-generated-images-vs-real-images/AiArtData/AiArtData/*'\n",
    "GLOB_REAL = '/kaggle/input/ai-generated-images-vs-real-images/RealArt/RealArt/*'\n",
    "\n",
    "def get_from_glob(arg: str, tag: str) -> list:\n",
    "    result = []\n",
    "    for input_file in glob(pathname=arg):\n",
    "        name = basename(input_file)\n",
    "        try:\n",
    "            with Image.open(fp=input_file, mode='r') as image:\n",
    "                vector = img2vec.get_vec(image, tensor=True).numpy().reshape(512,)\n",
    "                result.append(pd.Series(data=[tag, name, vector], index=['tag', 'name', 'value']))\n",
    "        except RuntimeError:\n",
    "            # we only have a few failures so we're just going to discard them\n",
    "            pass\n",
    "    return result\n",
    "\n",
    "time_start = now()\n",
    "ai = get_from_glob(arg=GLOB_AI, tag='ai')\n",
    "print('done encoding the AI images in {}'.format(now() - time_start))\n",
    "real = get_from_glob(arg=GLOB_REAL, tag='real')\n",
    "df = pd.DataFrame(data=ai + real)\n",
    "print('done in {}'.format(now() - time_start))\n",
    "print(df.shape)"
   ]
  },
  {
   "cell_type": "markdown",
   "id": "485a1d61",
   "metadata": {
    "papermill": {
     "duration": 0.006955,
     "end_time": "2024-02-20T16:25:06.974507",
     "exception": false,
     "start_time": "2024-02-20T16:25:06.967552",
     "status": "completed"
    },
    "tags": []
   },
   "source": [
    "We have a DataFrame; what does it look like?"
   ]
  },
  {
   "cell_type": "code",
   "execution_count": 4,
   "id": "f15674a1",
   "metadata": {
    "execution": {
     "iopub.execute_input": "2024-02-20T16:25:06.991611Z",
     "iopub.status.busy": "2024-02-20T16:25:06.990956Z",
     "iopub.status.idle": "2024-02-20T16:25:07.018447Z",
     "shell.execute_reply": "2024-02-20T16:25:07.017200Z"
    },
    "papermill": {
     "duration": 0.039516,
     "end_time": "2024-02-20T16:25:07.021397",
     "exception": false,
     "start_time": "2024-02-20T16:25:06.981881",
     "status": "completed"
    },
    "tags": []
   },
   "outputs": [
    {
     "data": {
      "text/html": [
       "<div>\n",
       "<style scoped>\n",
       "    .dataframe tbody tr th:only-of-type {\n",
       "        vertical-align: middle;\n",
       "    }\n",
       "\n",
       "    .dataframe tbody tr th {\n",
       "        vertical-align: top;\n",
       "    }\n",
       "\n",
       "    .dataframe thead th {\n",
       "        text-align: right;\n",
       "    }\n",
       "</style>\n",
       "<table border=\"1\" class=\"dataframe\">\n",
       "  <thead>\n",
       "    <tr style=\"text-align: right;\">\n",
       "      <th></th>\n",
       "      <th>tag</th>\n",
       "      <th>name</th>\n",
       "      <th>value</th>\n",
       "    </tr>\n",
       "  </thead>\n",
       "  <tbody>\n",
       "    <tr>\n",
       "      <th>0</th>\n",
       "      <td>ai</td>\n",
       "      <td>Various-AI-portraits-generated-by-Fotor.jpg</td>\n",
       "      <td>[0.48017198, 0.8646128, 1.6611724, 0.915964, 0...</td>\n",
       "    </tr>\n",
       "    <tr>\n",
       "      <th>1</th>\n",
       "      <td>ai</td>\n",
       "      <td>images77.jpg</td>\n",
       "      <td>[1.4642816, 0.7189077, 1.1184237, 0.57213604, ...</td>\n",
       "    </tr>\n",
       "    <tr>\n",
       "      <th>2</th>\n",
       "      <td>ai</td>\n",
       "      <td>1000_F_563719058_JXnzcPV4GRpWqmF5sqnqmbJ7ow3ca...</td>\n",
       "      <td>[1.8749824, 0.036064498, 1.5152547, 1.4411104,...</td>\n",
       "    </tr>\n",
       "    <tr>\n",
       "      <th>3</th>\n",
       "      <td>ai</td>\n",
       "      <td>MidJourney-content-policy-1024x576.jpg</td>\n",
       "      <td>[0.9916628, 1.053051, 1.0515268, 1.0998507, 1....</td>\n",
       "    </tr>\n",
       "    <tr>\n",
       "      <th>4</th>\n",
       "      <td>ai</td>\n",
       "      <td>an-ai-jungle-landscape-made-by-ai-landscape-ge...</td>\n",
       "      <td>[0.9486984, 0.467991, 0.40774798, 0.9549215, 0...</td>\n",
       "    </tr>\n",
       "  </tbody>\n",
       "</table>\n",
       "</div>"
      ],
      "text/plain": [
       "  tag                                               name  \\\n",
       "0  ai        Various-AI-portraits-generated-by-Fotor.jpg   \n",
       "1  ai                                       images77.jpg   \n",
       "2  ai  1000_F_563719058_JXnzcPV4GRpWqmF5sqnqmbJ7ow3ca...   \n",
       "3  ai             MidJourney-content-policy-1024x576.jpg   \n",
       "4  ai  an-ai-jungle-landscape-made-by-ai-landscape-ge...   \n",
       "\n",
       "                                               value  \n",
       "0  [0.48017198, 0.8646128, 1.6611724, 0.915964, 0...  \n",
       "1  [1.4642816, 0.7189077, 1.1184237, 0.57213604, ...  \n",
       "2  [1.8749824, 0.036064498, 1.5152547, 1.4411104,...  \n",
       "3  [0.9916628, 1.053051, 1.0515268, 1.0998507, 1....  \n",
       "4  [0.9486984, 0.467991, 0.40774798, 0.9549215, 0...  "
      ]
     },
     "execution_count": 4,
     "metadata": {},
     "output_type": "execute_result"
    }
   ],
   "source": [
    "df.head()"
   ]
  },
  {
   "cell_type": "markdown",
   "id": "774bc301",
   "metadata": {
    "papermill": {
     "duration": 0.007105,
     "end_time": "2024-02-20T16:25:07.036022",
     "exception": false,
     "start_time": "2024-02-20T16:25:07.028917",
     "status": "completed"
    },
    "tags": []
   },
   "source": [
    "Let's use dimension reduction to visualize our data; if our vectors contain a signal that will may be useful for classification we should be able to see some evidence of it when we do dimension reduction. If our UMAP results do not show any clustering they do not."
   ]
  },
  {
   "cell_type": "code",
   "execution_count": 5,
   "id": "606a0a43",
   "metadata": {
    "execution": {
     "iopub.execute_input": "2024-02-20T16:25:07.054065Z",
     "iopub.status.busy": "2024-02-20T16:25:07.053645Z",
     "iopub.status.idle": "2024-02-20T16:26:00.064008Z",
     "shell.execute_reply": "2024-02-20T16:26:00.062459Z"
    },
    "papermill": {
     "duration": 53.02283,
     "end_time": "2024-02-20T16:26:00.066667",
     "exception": false,
     "start_time": "2024-02-20T16:25:07.043837",
     "status": "completed"
    },
    "tags": []
   },
   "outputs": [
    {
     "name": "stderr",
     "output_type": "stream",
     "text": [
      "2024-02-20 16:25:31.013278: E external/local_xla/xla/stream_executor/cuda/cuda_dnn.cc:9261] Unable to register cuDNN factory: Attempting to register factory for plugin cuDNN when one has already been registered\n",
      "2024-02-20 16:25:31.013445: E external/local_xla/xla/stream_executor/cuda/cuda_fft.cc:607] Unable to register cuFFT factory: Attempting to register factory for plugin cuFFT when one has already been registered\n",
      "2024-02-20 16:25:31.191434: E external/local_xla/xla/stream_executor/cuda/cuda_blas.cc:1515] Unable to register cuBLAS factory: Attempting to register factory for plugin cuBLAS when one has already been registered\n"
     ]
    },
    {
     "name": "stdout",
     "output_type": "stream",
     "text": [
      "UMAP(n_jobs=1, random_state=2024, verbose=True)\n",
      "Tue Feb 20 16:25:46 2024 Construct fuzzy simplicial set\n",
      "Tue Feb 20 16:25:47 2024 Finding Nearest Neighbors\n",
      "Tue Feb 20 16:25:52 2024 Finished Nearest Neighbor Search\n",
      "Tue Feb 20 16:25:56 2024 Construct embedding\n"
     ]
    },
    {
     "data": {
      "application/vnd.jupyter.widget-view+json": {
       "model_id": "d4fede9d2896418886dc1c1f8355d690",
       "version_major": 2,
       "version_minor": 0
      },
      "text/plain": [
       "Epochs completed:   0%|            0/500 [00:00]"
      ]
     },
     "metadata": {},
     "output_type": "display_data"
    },
    {
     "name": "stdout",
     "output_type": "stream",
     "text": [
      "\tcompleted  0  /  500 epochs\n",
      "\tcompleted  50  /  500 epochs\n",
      "\tcompleted  100  /  500 epochs\n",
      "\tcompleted  150  /  500 epochs\n",
      "\tcompleted  200  /  500 epochs\n",
      "\tcompleted  250  /  500 epochs\n",
      "\tcompleted  300  /  500 epochs\n",
      "\tcompleted  350  /  500 epochs\n",
      "\tcompleted  400  /  500 epochs\n",
      "\tcompleted  450  /  500 epochs\n",
      "Tue Feb 20 16:26:00 2024 Finished embedding\n",
      "done with UMAP in 0:02:40.440153\n"
     ]
    }
   ],
   "source": [
    "from umap import UMAP\n",
    "umap = UMAP(random_state=2024, verbose=True, n_jobs=1,)\n",
    "model_df = pd.DataFrame(data=umap.fit_transform(X=df['value'].apply(pd.Series)), columns=['x', 'y'])\n",
    "plot_df = pd.concat(objs=[df, model_df], axis=1)\n",
    "print('done with UMAP in {}'.format(now() - time_start))"
   ]
  },
  {
   "cell_type": "code",
   "execution_count": 6,
   "id": "03709b4b",
   "metadata": {
    "execution": {
     "iopub.execute_input": "2024-02-20T16:26:00.087361Z",
     "iopub.status.busy": "2024-02-20T16:26:00.086504Z",
     "iopub.status.idle": "2024-02-20T16:26:03.783885Z",
     "shell.execute_reply": "2024-02-20T16:26:03.782983Z"
    },
    "papermill": {
     "duration": 3.710522,
     "end_time": "2024-02-20T16:26:03.786324",
     "exception": false,
     "start_time": "2024-02-20T16:26:00.075802",
     "status": "completed"
    },
    "tags": []
   },
   "outputs": [
    {
     "data": {
      "text/html": [
       "        <script type=\"text/javascript\">\n",
       "        window.PlotlyConfig = {MathJaxConfig: 'local'};\n",
       "        if (window.MathJax && window.MathJax.Hub && window.MathJax.Hub.Config) {window.MathJax.Hub.Config({SVG: {font: \"STIX-Web\"}});}\n",
       "        if (typeof require !== 'undefined') {\n",
       "        require.undef(\"plotly\");\n",
       "        requirejs.config({\n",
       "            paths: {\n",
       "                'plotly': ['https://cdn.plot.ly/plotly-2.27.0.min']\n",
       "            }\n",
       "        });\n",
       "        require(['plotly'], function(Plotly) {\n",
       "            window._Plotly = Plotly;\n",
       "        });\n",
       "        }\n",
       "        </script>\n",
       "        "
      ]
     },
     "metadata": {},
     "output_type": "display_data"
    },
    {
     "data": {
      "text/html": [
       "<div>                            <div id=\"f8f7d9b2-b529-48b5-9b40-2558e4a96929\" class=\"plotly-graph-div\" style=\"height:900px; width:100%;\"></div>            <script type=\"text/javascript\">                require([\"plotly\"], function(Plotly) {                    window.PLOTLYENV=window.PLOTLYENV || {};                                    if (document.getElementById(\"f8f7d9b2-b529-48b5-9b40-2558e4a96929\")) {                    Plotly.newPlot(                        \"f8f7d9b2-b529-48b5-9b40-2558e4a96929\",                        [{\"hovertemplate\":\"\\u003cb\\u003e%{hovertext}\\u003c\\u002fb\\u003e\\u003cbr\\u003e\\u003cbr\\u003etag=ai\\u003cbr\\u003ex=%{x}\\u003cbr\\u003ey=%{y}\\u003cextra\\u003e\\u003c\\u002fextra\\u003e\",\"hovertext\":[\"Various-AI-portraits-generated-by-Fotor.jpg\",\"images77.jpg\",\"1000_F_563719058_JXnzcPV4GRpWqmF5sqnqmbJ7ow3ca3DS.jpg\",\"MidJourney-content-policy-1024x576.jpg\",\"an-ai-jungle-landscape-made-by-ai-landscape-generator.jpg\",\"bDSF6saJUuPLsEu9i3ud--1--gvs7i.jpg\",\"ai-last-selfie-taken-earth-comp.jpg\",\"google-dream-starry-night.jpg\",\"panoramic-abstract-mountain-scenery-in-flat-style-natural-wallpaper-ai-generated-image-photo.jpg\",\"ai-generated-8067660_1280.jpg\",\"14PMNtflOIXcw4g9HTntybg.png\",\"1E9WJo1jFlzdGVuFhb4BdQw.png\",\"GoogleAI-theAIgang.jpg\",\"63b413cd19c92c377052b31a_62c85730733d96f8213065f7_HERO2520-2520Yellow.jpeg\",\"banner-of-AI-Landscape-Generator_2023-05-25-100511_xmkz.jpg\",\"ai-generated-7845357_640.jpg\",\"how-do-you-make-the-ai-pictures-people-are-posting-on-instagram-1670327982.jpg\",\"335893730_1248848252414001_2214479283759117231_n_1679724354609_1679724368314_1679724368314.jpg\",\"nGuYVYiPu3dnmigzNfdMLZ-1200-80.jpg\",\"nathan-shipley-historical-ai-portraits-15.jpg\",\"03a3gbCKfH8dDJnjhHLuHDf-1.fit_lim.v1665523315.png\",\"tunning-double-exposure-landscape-featuring-a-river-trees-and-feathers-photo.jpg\",\"cute-dog-wearing-raincoat-3.jpg\",\"image34.jpg\",\"NeseDevenot_02.jpg\",\"HD-wallpaper-ai-landscape-2023-digital-art.jpg\",\"64efd48f24bacac40feae0b4_qFcGNfN66Fp4nrvBHhQp89Kg425rczlCMKCbW2cNCCs.jpeg\",\"g_in_the_center_of_a_beautiful_landscap_b555fb6f-fb9c-4bb1-827d-ef7b1df41a7a.png\",\"Instagram_Viral_Image_AI_Cat_Dog_1680332724335_1680332736162_1680332736162.png\",\"ai-generated-animal-crossbreeds-02.jpg\",\"witchy-studio-japan-psychedelic-05.jpg\",\"Bashenga_10-1-1000x552.jpg\",\"not-rabbit-not-mouse.jpg\",\"2023spring-ai-wildlife.1024-2.jpg\",\"meditation-kundalini-energy-colorful-psychedelic-ai-generated-art_843679-6229.jpg\",\"-s-fluffy-fur-and-round-features-immediately-melted-the-viewer-s-heart-photo.jpg\",\"fdfs2-800x533.jpg\",\"MIT-3Q-GenerativeAI-01-press.jpg\",\"images21.jpg\",\"0EAwg7WIIMhgnSfLf.png\",\"15G9ADdejiQlTQc0UxNt3Cg.png\",\"ai-portraits-ars.jpg\",\"two-landscape-designs-of-yard-made-by-ai-landscape-generator.jpg\",\"mazonaws.com2Fpublic2Fimages2F322b8da8-dc7a-44de-b28f-c8019d88e9f7_1024x1024.png\",\"midjourney-tools-tips-for-photographers-photography-photo-realistic.png\",\"96715731.jpg\",\"4m8ul9jg_kings-ai_625x300_27_January_23.jpg\",\"timparkin_collage_composite_landscape_c209c0c0-18fd-4919-8efd-744fb451e9b8.jpg\",\"2K65J19-2.jpg\",\"1fu-PkIWiOiMMedfiGmFefg.jpeg\",\"ai-created-women-visuals-02.jpg\",\"ai-generated-7820332_1280.jpg\",\"1235748-ai-animals.png\",\"07-the-coffee-service-hossaini-art-ai.x3e656121.png\",\"jesus-dunking-scaled.jpg\",\"Portrait_female_Midjourney.jpg\",\"a1ecf33fc27a086ef0120e46385f.jpg\",\"3e9bc32a-1d77-4f0a-b0df-199c80060385-1024x1024.jpg\",\"hero-image.fill.size_1248x702.v1623363981.png\",\"detectingai_02_wide-490b899012edf8bee6419139f70e38d991cbd644-s1100-c50.jpg\",\"960x02.png\",\"1VYisIu_trZPEZbLWkUtmBg.jpeg\",\"331EB940-E464-438A-B10138CC86B39894_source.jpeg\",\"lake-with-mountains-digital-download-ai-art-landscape-627.webp\",\"B49447D3-BE5D-4A25-8505059961823425_source.jpg\",\"thejohnechen-a-1691152122-png-selar.co-20230804122842.png\",\"create-ai-landscapes-with-ai-landscape-generator-of-fotor.jpg\",\"97224914.jpg\",\"file-20220421-24-mcdm2i.jpg\",\"AIlandscape1A.jpeg\",\"ndscape-with-mountains-planets-trees-moon-surrealist-escapism-concept-photo.jpeg\",\"-yellow-kimono-with-a-golden-crown-and-a-very-detailed-Barn-owl-copy-800x800.jpg\",\"EmaqLSjrm4SBsK7Xspie--1--avr9b.jpg\",\"BX9vGbWoqCKEVwkfGHvu.jpg\",\"1u7_j9GJ8BuLJv529Og-Tgg.png\",\"863198.jpg\",\"The-Most-Beautiful-Men-and-Women-in-the-World-According-to-AI-641d79584ef75__880.jpg\",\"Fotor-AI-portrait-generator-interface.jpg\",\"AI-portrait-generator.jpg\",\"dalle-midjourney.png\",\"ape_photography_Photograph_Photorealist_d64c461c-1d9d-44c5-8e09-5c35a0c37ae0.jpg\",\"hwXBAos.jpg\",\"eEaTGSQwrmwcAzTDoxJc.jpg\",\"cover-AI-Midjourney-3-1499x999.jpg\",\"AI-recreations-of-men-and-women-from-different-sta_1672816365869.jpg\",\"young-woman-eye-reflects-colorful-summer-nature-generated-by-ai_188544-18407.jpg\",\"AI-generated-images-art-.jpg\",\"images49.jpg\",\"AdobeStock_559145847.jpeg\",\"f5c07759919df7b72cb9755b12.jpg\",\"chayka_ai_copyright.jpg\",\"image14.jpeg\",\"nXLRsgDqpZcqChDus9b1_9.4899x.jpg\",\"Israeli-artist1.jpeg\",\"1687776010494_Screenshot20230626160839.png\",\"ious-different-styles-instatnly-with-Fotor-free-online-AI-portrait-generator.jpg\",\"MIDJOURNEY.jpg\",\"3c958e87e755ddec3003722eb91e787a.jpg\",\"00urban_biodiversity_landscape_architecture_14ed209d-45ca-4c57-b995-4d1552813cc1.jpg\",\"ugly-AI-1-1.jpg\",\"1sTXgMwDUW0pk-1yK4iHYFw.png\",\"ai-paintings-bali-van-gogh-512.jpg\",\"Vincent-Favilla-_Pondering_-800x550.jpg\",\"lensa_ai_1-sixteen_nine.jpg\",\"psychedelic-image-edited-2.png\",\"tdraw-girl.jpg\",\"Ai-art-for-authors-cover-image.jpg\",\"AI_image.png\",\"79ee7c59b0b2a08f9438487b729469ae.jpg\",\"oe33n1zk7l2a1.png\",\"midjourney-52.jpg\",\"AI-Art.jpeg\",\"NVIDIA-GauGAN-AI-demo-screenshot.jpg\",\"41b6d9592db18a15b1e32dfd50.jpg\",\"canva-ai-best-image-generators-2023.png\",\"amazonaws.com2Fpublic2Fimages2Fc5e787c1-70fc-4178-9f18-497c6ec85f79_832x832.jpeg\",\"history-of-AI-art.jpg\",\"c6cd1ba0-f067-4ca6-9ea2-692684db2b58_hero-ai-portrait-enhancer.jpg\",\"1btbVIzhV6dASEHy6bJmJHA.png\",\"tp-composite-ai-art-new.jpg\",\"jungle-river-3-800x800.png\",\"Picture1.jpg\",\"ai-generated-photos-1514935235304-videoSixteenByNineJumbo1600-v4.jpg\",\"52520977911_33437880be_z.jpg\",\"Worlds-First-AI-Generated-Art-Gallery-in-Amsterdam.jpg\",\"43div2to_animal-selfies_625x300_03_April_23.jpg\",\"filippo-nassetti-ai-designs-spaceships-bosch-caravaggio-designboom-600.jpg\",\"image13.jpeg\",\"GettyImages-1096829784-copy.jpg\",\"fc92cc7b1e56043e12b83c18080a2aca54-ai-art.1x.rsquare.w1400.jpg\",\"Robot_painting-1024x576.jpg\",\"ures-created-on-midjourney-midjourney-curated-feature-stirworld-220930050044.jpg\",\"midjourney-putin.jpg\",\"luke-wells-luke-wells-landscape-midjourney.jpg\",\"midjourney_v5_hero_2-800x450.jpg\",\"-using-generative-ai-technology-landscape-pattern-abstract-concept-269270897.jpg\",\"a823fafc36560121553573b1a7252334d9616c2f-1216x705.jpg\",\"top_5_midjourney_artists_2_1.jpg\",\"Imagen-comp.jpeg\",\"midjourney-images-6.jpg\",\"1344278.jpg\",\"images18.jpg\",\"psychedelic-revelation-ai-artwork-718_300x2x.webp\",\"1a9B6fCE7uFAgaQDUMGFRqw.jpeg\",\"midjourney_young_woman_61b02a5d-6935-44aa-842c-8f5e84f4c702-1024x1024.png\",\"serene-natural-background-depicting-peaceful-landscape-scenery-ai-generated_523886-7267.jpg\",\"loabfeature.jpg\",\"le_penguin_in_leather_armor_0_517c9353-4e20-4b7d-a13e-e39e63ddf8bf-1024x1024.png\",\"2A8oNV0baUgW9iGIEk1X.jpg\",\"1If0feu29zDCd9QIWw-vG9Q.png\",\"ai-generated-7921580_1280.jpg\",\"ai-portraits-millions-actors-photos-designboom-1200.jpg\",\"Marvel-Secret-Invasion-Opening-Credits-AI-Art.jpg\",\"How-to-Earn-Money-through-AI-Generated-Artwork-A-Simplified-Guide.jpg\",\"gar-surreal-psychedelic-abstract-expressionism-graffiti-st-olfactoart-studio.jpg\",\"Portrait-hero-image.png\",\"AI_art_1685017093404_1685017098933.jpeg\",\"ai-art.png\",\"morning-sunrise-scenery-lake-landscape-ai-art-nature.jpg\",\"portraits.jpg\",\"ai-generated-portrait-of-cat-businessman-animal-head-in-business-suit-photo.jpg\",\"zoomout_1.jpg\",\"06as5rHi0sgG4W2Tq.png\",\"baby-ping.jpg\",\"original-a7d94b3e8208048992a9732624e4c7fd.png\",\"gangaster-cat-7.jpg\",\"il_570xN.4503972325_g40z.jpg\",\"Boris-Eldagsen-AI-art.jpg\",\"Dottemannen_photo_of_a_blonde_swede_5d222c23-1088-4336-93c6-0fbd355e8150.png\",\"lensa-ai-portrait-2.jpg\",\"1k1x6oDDEtXdQeKTAKQsSbQ.jpeg\",\"MicrosoftTeams-image551ad57e01403f080a9df51975ac40b6efba82553c323a742b42b1c71c1e45f1.jpg\",\"ai-generated-8146218_1280.png\",\"scenery-art-landscape-ai-987.webp\",\"i7fdm8o8_ai-pics_625x300_10_March_23.jpg\",\"1000_F_555746402_GNMEIKpEuTIXooW5B1SEEy7VnK3rklI5.jpg\",\"merlin_145496349_2ef618d1-e2db-41ac-bfc0-333987273896-superJumbo.jpg\",\"ai-art-beautiful-psychedelic-colored-angel-with-butterflies-2-rose-santuci-sofranko.jpg\",\"ai-art-voguebus-photographer-month-22-story.jpg\",\"xATrJT1OBHIRSWYpTL8t--1--Z5XOZ_4x.jpg\",\"ancient_thing_when_the_leaves_take_thei_a1c8ef7e-e531-4d0d-8bcf-e5714b420f8e.png\",\"ai-generated-8175497_1280.jpg\",\"mystical-eye-vector-illustration-psychedelic-design-ai-generated-free-photo.jpg\",\"3048941-inline-i-2-why-google-deep-dreams-of-dogs.jpg\",\"images82.jpg\",\"185bbf9f7bf9e5d1df18aa782d7ddcd2.jpg\",\"ai-art.jpg\",\"merkel-rev.jpg\",\"ai-faces-white.jpg\",\"images71.jpg\",\"fdfs19-800x533.jpg\",\"i3zbp8cpfu3wmancnc8y.jpg\",\"230209101637-malik-afegbua-ngochola-younger.jpg\",\"rad0ujy1GFGKCCMD6GhR--1--yh4jv_8x.jpg\",\"tnsc6ik8_personalities-playing-holi_625x300_18_June_23.jpg\",\"hXN3TDj3BCU8aYUFBbKG_5.3945x.jpg\",\"13-3.png\",\"082922_GeneratedArtAI_02_teh_z1b_04.jpg\",\"62bf08968c2d68a06b1c7182_image9201-min.jpg\",\"WTV_AI_Split_1000x562_Klimt.jpg\",\"trudeau-rev.jpg\",\"essay-v2-gettyimages-1221733403.jpg\",\"Deepfake-AI-generated-2023.jpg\",\"Top-7-Amazing-Artworks-Meet-the-AI-Art-Makers-of-the-Future-AI-generated-eyes_face-of-a-woman.jpg\",\"5d395cf120e51-ai-transforms-celebrities-photo-into-old-portraits-paintings-5d380c2ebd006__700.jpg\",\"widen_1840x0.jpeg\",\"JuliePowell_AI-Banner.jpg\",\"640px-22Mona_Lisa22_with_DeepDream_effect_using_VGG16_network_trained_on_ImageNet.jpg\",\"a-beautiful-forest-landscape-made-by-ai-landscape-generator.jpg\",\"witchy-studio-japan-psychedelic-01.jpg\",\"ai-portrait-10.jpg\",\"can-artificial-intelligence-systems-like-dall-e-or-midjourney-perform-creative-tasks_8.jpg\",\"6588c371e32a540aace3ecd5_Ci5y2JLvKKO7SveqO8kAb8xloBhjE2Kjd2JzBr9EYNA.jpeg\",\"5552488_6d18_2.jpg\",\"3UzfFUqU5NuCDJYtoNMaUf-1200-80.jpg\",\"ai-generated-7670948_1280.jpg\",\"ai-generated-8260240_1280.jpg\",\"ai-art-illustration-landscape-hd-wallpaper-preview.jpg\",\"maxresdefault.jpg\",\"CreationOfAdam.jpg\",\"5d395cf1a43bd-ai-transforms-celebrities-photo-into-old-portraits-paintings-5d380beb228da__700.jpg\",\"1MhC86XK2wg6AC30Wm2ZiEw.png\",\"maxresdefault3.jpg\",\"BM6NugXodzCJUvbfOEPc_6x.jpg\",\"sharing-thumb.jpg\",\"6415e4b39e38cb53f00286e0_I_PelxQ-gpM_ZMFzYe2EazKifSdYCsHmcT3kJVA1nuY.jpeg\",\"ath-flowers-vivid-colors-generative-ai-landscape-painting-mountain-281590810.jpg\",\"edmond-de-belamy-framed-cropped.jpg\",\"Midjourney-copyright.jpg\",\"Realistic-Images.jpg\",\"Midjourney-L-2068f65.jpg\",\"1-trippy-cubism-psychedelic-fun-cocktails-mojitos-ai-generated-olfactoart-studio.jpg\",\"104023917.jpg\",\"Portrait_and_paint_drops_Generative_AI.png\",\"22acc109-736b-480c-a6f7-8ee4e0fc61ed.jpg\",\"1000_F_557173172_OZOK6P7w9PBUajB5n9YKcGlvMYumKKaL.jpg\",\"1WA1ZUTaiGV9YO5lVEPPFhA.png\",\"midjourney_aiart_gleb_alexandrov_21-1024x731.jpg\",\"The-Lensa-app-generates-AI-art-but-at-what-cost_-Photo-courtesy-of-Lensa-app.-900x900.jpg\",\"Feature-Image_MidJourney.jpg\",\"two-game-landscapes-made-by-ai-landscape-generator.jpg\",\"Ej6jaxYtzcL24kFW7kmKYC.jpg\",\"ting-art-on-a-canvas-with-many-colors-in-art-nouveau-style-1-e1670998298608.jpeg\",\"colombe.jpg\",\"y5aca20it7v1kb9qs0ce.jpg\",\"chrischilek_let_your_mind_wonder_7918d619-e9c8-4374-93fb-2468f1c54130.png\",\"230726115314-01-lensa-selfie.jpg\",\"realistic-disney-characters-artificial-intelligence-toyboyfan-fb.png\",\"sddefault.jpg\",\"18871730-0-image-a-27_1569333047511.jpg\",\"GANimal-1280x540.jpg\",\"images88.jpg\",\"aiart.jpg\",\"1Mcde2p8rG0uUjwwQ-tGWLg.png\",\"6415e4b2cd8ebd571e17d18a_85becjacC5FV9Ohz5fRCohUtpt6IHcA2TUmLvHWInL8.jpeg\",\"Bu69yrI45ueNWQX84ap5.jpg\",\"1000_F_561457876_KjtqRhGC0EqEr1G7OaLgn1tjWW38Z2bI.jpg\",\"Midjourney-Tips.png\",\"1000_F_564265464_mp9OwlBNexenRBJcwg5qhCwOxr4TC3gk.jpg\",\"midjourney_inpainting_demo-1.png\",\"flat750x075f-pad750x1000f8f8f8.jpg\",\"sddefault2.jpg\",\"illustrator-fantasy-world-scenery-japan-with-mountain-generate-ai_661039-1069.jpg\",\"1EOlo-3uyfHVlEE649tq62g.png\",\"221206-lensa-selfies-ai-celebrities-cs-548f22.jpg\",\"d5b733ded7a8468d95d56d317703b3da.jpeg\",\"a-painting-depicting-the-experience-of-an-lsd-trip-psychedelic-ai-generated-free-photo.JPG.jpg\",\"ai-generated-animal-crossbreeds-09.jpg\",\"FmX1O9YaEAIiFuX.jpg\",\"Midjourney-montage.jpg\",\"beautiful-psychedelic-surreal-landscape-water-painting-ai-generated-art_843679-2401.jpg\",\"959b0e7558d409e409de7e789d18e026.jpg\",\"529D7B2E-8BBA-4082-9CF3-871EC70DB41D-63f30f8004ece-jpeg__700.jpg\",\"luke-wells-midjourney-generated-image.jpg\",\"AI-generated-landscape-708x400.jpg\",\"il_fullxfull.4616860275_kccz.jpg\",\"240201-airec-main-ksp-5625e8.jpg\",\"8A9FC0D0-D02D-4909-8E7B90874F98DBF2_source.jpg\",\"Dave-McKean-3.jpeg\",\"fb_image_63f375d3885d6.png\",\"pqhV2Tq8YPmQQZ2iHK40.jpg\",\"landscape-art-ai-generated-photo.jpg\",\"on-ai-generated-beautiful-flowers-scenery-spring-season-background-293527034.jpg\",\"ts9dtkq8_selfies-from-the-past_625x300_21_March_23.jpg\",\"3FUI5P53A5JRLCB432NGJMWTMU.jpg\",\"animal-happy-character-cute-ai-generated-free-photo.jpg\",\"zjgkiTBuW5pPg4P7rV8u_4x.jpg\",\"08_No-more-lost-in-translation.jpg\",\"76480055-12619627-image-a-40_1697122533354.jpg\",\"midjourney_trump_pope_dance_ai_fake_image.png\",\"67995309-0-image-a-168_1677149995977.jpg\",\"cute-furry-animal-ai-generated_970779-15.jpg\",\"5d395cf1e10ca-ai-transforms-celebrities-photo-into-old-portraits-paintings-5d380c3722b84__700.jpg\",\"Nov20_17_498430921.jpg\",\"psychedelic-1084082_1920.jpg\",\"Gopnik_ai_art.jpg\",\"multi-colored-abstract-background-with-vibrant-flying-feathers-generated-by-ai-scaled.jpg\",\"psychedelic-planet-surreal-landscape-water-painting-ai-generated-art_843679-2589.jpg\",\"fdfs22-800x533.jpg\",\"psychedelic-artistic-image-christmas-santa-260nw-2401991075.jpg\",\"Header-L-316a743.jpg\",\"wp-image-940-16849365973x2.jpg\",\"24jo7tag_a-delhi-and-mumbai-woman-depicted-in-the-aigenerated-artwork_625x300_29_December_22.jpg\",\"psychedelic-artistic-image-geometric-repetitive-260nw-2395394413.jpg\",\"cafe-11-header.jpg\",\"serene-natural-background-depicting-peaceful-landscape-scenery-ai-generated_523886-6982.jpg\",\"Midjourney-Mishra-abstract-dancing-painting.jpg\",\"landscape2__444ba8e2d22eb8d0b9c065c86d918022.jpeg\",\"beautiful-landscape-with-mountains-lake-generative-ai_751108-3474.jpg\",\"memory-palace-by-Louis-Vivin-250_out-1.png\",\"befunky-collage_58-sixteen_nine.jpg\",\"make-ai-landscape-from-text-with-ai-landscape-generator.jpg\",\"macron-rev.jpg\",\"il_570xN.4585214944_j5ob.jpg\",\"backdrop-nature-beautiful-scenery-wallpaper-ai-generated-art_853163-335.jpg\",\"1OEipycyFugvcLmEh2_zINQ.png\",\"4hPwM82KpnA0Rie1400A.jpg\",\"8A0B55B5-A6CA-4440-AA2D-C63CA9E904E0-768x1024.jpeg\",\"ale_full_body_glasses_sci-fi_maximum__6c55f7b9-e0e6-4588-bc6e-aa6a4fbfea38-1.png\",\"Flower-Trip-style.jpeg\",\"Julian-van-Dieken_A-Girl-With-Glowing-Earrings-.png\",\"1486689.jpg\",\"pe-How-To-Use-AI-Images-Good-Bad-Review-Bard-Bing-ChatGPT-Guide-Paul-Reiffer.jpg\",\"AI4Animals_Logo.jpg\",\"nqsvevjgn3gxdubar6ly.JPEG.jpg\",\"cute-animals-wearing-clothes-ai-art-dylan-cover_800.png\",\"are_ai_art_engines_ripping_off_artists.jpg\",\"ai20images20holi20vrindavan1687103503681.jpg\",\"ai-future-creativity.jpg\",\"lothes-and-its-hard-not-to-fall-in-love-with-them-74-Pics-634d0cc885307__700.jpg\",\"ai-generated-7787714_1280.jpg\",\"Animals04april2023.jpg\",\"landscape-art-ai-generated-photo2.jpg\",\"1000_F_609715304_7ejZLzTd3JM94FT5O5jHEkI3pE9PTgZR.jpg\",\"barbsotiart_22_DEC_AIART-blog-post-content-photo-5.jpg\",\"a4411c44-c1cc-45ca-bf4b-2ecaf5172ba8.jpg\",\"Blogs.jpg\",\"ai-portraits-celebrities-dwayne-johnson-the-rock.jpg\",\"AI-Tracking-Cat.jpg\",\"new-project-1_tecm.1248.jpg\",\"Lensa20AI20portraits202.jpg\",\"mouse-in-a-maze.jpg\",\"1pTojVbbfa1akdP6JfX0hHA.png\",\"ai-transforms-celebrities-photo-into-old-portraits-paintings-5d380c16e46fd__700.jpg\",\"How-to-Use-Midjourney-to-create-AI-Art.jpg\",\"65b2f49a8e6bfcb8d19eed88898da02d.jpg\",\"tiger4.jpg\",\"Midjourney-prompt-23b3316-e1679066406110.png\",\"1000_F_551420122_DMVybsWtGw1kS6ogwlk66jcm78PmUIgn.jpg\",\"mmart-fai-102a-art-scale-5-00x.jpg\",\"120522_Lensa_AI.width-696.jpg\",\"AI20Landscape.jpg\",\"homer-ai-generated-art.jpg\",\"ai-generated-photos-aurel-manea-1.jpg\",\"2022-11-10-image-12.jpg\",\"teaser_400.jpg\",\"ai-images-news.jpg\",\"960x0.jpg\",\"AI-and-Dreams-scaled.jpg\",\"ai-generated-7483596_1280.jpg\",\"AI-historical-faces-body-image-1.jpg\",\"skynews-ai-art-generator-tim-flach_6121312.jpg\",\"SC-AI-Woman-Off-Plat2-copy-1.jpg\",\"hassan-ragab-cairo-sketches-midjourney-ai-architecture-hero_dezeen_1704_col_0.jpg\",\"5274772_0f37_5.jpg\",\"10352-original.jpg\",\"ai-art-canva.jpg\",\"3eb2e6d3-6ab8-445e-beb2-afdadb30afbd.jpg\",\"ai-header-4.jpg\",\"il_570xN.4588037671_ak6c.jpg\",\"erreurs-images.jpg\",\"tr71123-ai-art.jpeg\",\"1IGvTkw48FTa1pO33VbG4eA.png\",\"89644a996fdd0cfc9e06398c64320fbe.jpg\",\"Midjourney-v6.jpeg\",\"ai-ethicsconference-poster_v5_0.jpg\",\"ai-portraits-celebrities-keanu-reeves.jpg\",\"nathan-shipley-historical-ai-portraits-16.jpg\",\"403e1ee688f55ae08740e13dbcaae5633f7c1d3a-4032x2268.jpg\",\"ai-generated-7768378_1280.jpg\",\"Header-2.jpg\",\"mmart-4k-fai-7a-art-scale-2-00x.jpg\",\"4D0B10FA-D43F-427A-8F12-084A42A52081-63ef4da8f2ef6-jpeg__700.jpg\",\"UNfSEPwoEvvYcUN4H7PR.jpg\",\"6324662e5ee3110438933c1b_COBE-Pink-Elephant-Midjourney-Article.jpg\",\"Group_12467.jpg\",\"architecture-and-styles-midjourney-works-hassan-ragab-stirworld-230221015236.jpg\",\"59e0ba50419705a2c4b22681fb.jpg\",\"394d68ba91ee4f49d400034d8d487997.jpg\",\"Turn-a-selfie-into-AI-portraits-in-different-styles-instantly-with-Fotor-AI-portrait-generator.jpg\",\"ai-generated-8247695_1280.jpg\",\"portrait-01.jpg\",\"wieland_hero_2-800x450.jpg\",\"fpostersmallwall_textureproduct750x1000.u2.jpg\",\"ai-generated-animal-crossbreeds-06.jpg\",\"Biden1400.jpg\",\"ah3-932b64a175ba.jpeg\",\"1662575095617-collage-maker-07-sep-2022-0224-pm.jpeg\",\"popepufferjacket.jpg.jpg.foto.rm.jpeg.foto.rbig.jpeg\",\"AI-generated-art-copyright.jpg\",\"dreamstime_m_130821195-1.jpg\",\"71AlaLQNBuL._AC_UF10001000_QL80_.jpg\",\"midjourney_v4_hero_2-640x360.jpg\",\"63964cc739abd575d50b68ed_google-not-against-ai.jpg\",\"creepy-ai-generated-photos-743.jpg\",\"clgjlgjec001a08k0bhi51i88.png\",\"1BoIwK3flsWLkT57s18Bpgg.png\",\"il_570xN.4641411301_ngcf.jpg\",\"images52.jpg\",\"artificial-intelligence-AI-art402x.png\",\"ai-da-robot-ai-paintings-technology-news_dezeen_2364_col_8.jpg\",\"1000_F_570271411_Tqbdg5z0mL3qV3eaDS0XGrjMMwk6aNTf.jpg\",\"52285b755ff9e3869fac20294bfe1fc1.jpg\",\"wonderland-girl-generated-by-Fotor-ai-art-generator.jpg\",\"HD-wallpaper-artwork-midjourney-ai-ai-generated-nature-landscape-mountains-resolution.jpg\",\"il_570xN.4707958416_2553.jpg\",\"22-23-3-17-17-51-3m.jpg\",\"0qL4hrXp-V_NW-FR-.jpg\",\"101325148.jpg\",\"How-can-AI-unlock-the-psychedelic-drugs-do-to-our-brains.jpg\",\"ai-generated-illistration-group-animals-wearing-designer-jacket-high-fashion_441362-3757.jpg\",\"1DUblwf5wpci3hVlmG4ZnDw.png\",\"robot-monitoring-dairy-farm-1200x800-1.jpg\",\"ai-generated-background-1.jpg\",\"trippy-psychedelic-artwork-retro-hippie-style-generative-ai-surreal-landscape-274005108.jpg\",\"violin-buildings.jpg\",\"nvidia-ai-scribbles-realistic-landscapes.png\",\"65523f91e3679a1ab2eed021_face_of_data_art_kirell_benzi.jpg\",\"Ai-Da-robot-AI-art-hed.jpg\",\"1440_AI_and_animal_language_feat.jpg\",\"07IHO-LENSA-TOPART-articleLarge.jpg\",\"Earth-Species-project-generative-ai-unders.max-2100x2100.jpg\",\"_a_peaceful_countryside_Beaches_with_a__2edf54e5-d4e4-4507-abde-4f81b9754b54.png\",\"tr_20240201-the-complete-generative-ai-art-design-mastery-bundle.jpg\",\"fdfs20-800x533.jpg\",\"yWX4ioYtJH4ZaFoAgh4J38-1200-80.jpg\",\"top_5_midjourney_artists_1.jpg\",\"impossible-animal-hybrids9.jpg\",\"notlandscapes.jpg\",\"1ayKvyXsQfIHS7OOCswZA1g.png\",\"create-text-prompts-for-you-to-create-ai-generated-arts.png\",\"maxresdefault2.jpg\",\"Dark-Side-of-the-Moon-AI.jpg\",\"ake-underwater-landscape-background-adventure-explore-vibe-graphic-art-photo.jpg\",\"0nglsAEPlxapCcJZA.jpeg\",\"mhachman_a_castle_on_an_asteroid_floating_through_space_2315526d-252b-40df-9a6d-eeb00aed612f.png\",\"06db055c-ai-hallucination-rag-1024x688.jpg\",\"71f09875-ca8e-40e1-b99e-c70a0d3cc063-large16x9_NorthDakota.jpeg\",\"images89.jpg\",\"7e644b89-cd82-440c-8836-9a9300c97672.jpg\",\"1000_F_588347899_rcxPfuXCi7gXABcOl1TuboinIVfa6ggf.jpg\",\"earing-a-yellow-kimono-in-a-beautiful-and-foggy-tropical-greenh-copy-800x800.jpg\",\"van-gogh.jpg\",\"images51.jpg\",\"midjourney-v5-drafts-Artboard-4-800x400.jpg\",\"ai-cartoon-portraits-01.jpg\",\"flat750x075f-pad750x1000f8f8f8.u2.jpg\",\"Midjourney-River.jpg\",\"e47d1283-90b0-4844-98a3-41456f0c341c.jpg\",\"stability-ai-landscape.jpg\",\"ai-portraits-celebrities-beyonce.jpg\",\"image33.jpg\",\"6487517289657f25a1e7febf_How20Generative20AI20Works20to20Create20AI20Generated20Photos.jpg\",\"lensa-harry.jpg\",\"AdobeStock_591259557-1000x600.jpeg\",\"wild-animals-tiny-version-ai-01.jpg\",\"_portrait_of_a_stunning_Indian_v_95ff3e93-40ba-4dd8-90ed-d83729d37704-scaled.jpg\",\"1JfLNu1-TgkKhhX-e_FgpOA.png\",\"midjourney20images.jpg\",\"ai-generated-throwback-yearbook.jpg\",\"elizabeth-rev.jpg\",\"Vincent-progress.jpg\",\"wild-animals-tiny-version-ai-featured.jpg\",\"images12.jpg\",\"71SjWeOHKjL._AC_UF10001000_QL80_.jpg\",\"64dccffa6728f2a276286964_can-ai-generated-content-rank-on-google.jpg\",\"-how-important-people-from-the-past-really-looked-11-Pics-5ffd5c0f4d77f__880.jpg\",\"wn_landscape_66536f75-c67a-4be6-8124-1c4e1298f6c1-01-6507858fb212e-jpeg__880.jpg\",\"196027s_art_of_cow_getting_abducted_by_UFO_in_midwest.jpg\",\"Midjourney-1-9527a04.jpg\",\"merlin_212276709_3104aef5-3dc4-4288-bb44-9e5624db0b37-articleLarge.jpg\",\"1ddpDkJ0Zx4D37qoUehikeg.png\",\"1440_AI_and_animal_lang_spotted_naked_mole_rat.jpg\",\"chicken-1024x683.jpg\",\"a-3-718x523.jpeg\",\"Midjourney-guide-explained-how-to-use-370x490.jpg\",\"feature-image-Midjourney-subscription.png\",\"robot-art-for-web-1180x560.jpg\"],\"legendgroup\":\"ai\",\"marker\":{\"color\":\"#636efa\",\"symbol\":\"circle\"},\"mode\":\"markers\",\"name\":\"ai\",\"orientation\":\"v\",\"showlegend\":true,\"x\":[11.513118,11.13783,6.76484,11.764235,7.5528917,10.305731,10.793886,7.4370584,7.02871,7.516035,10.69915,7.9180117,10.229892,9.27807,8.374474,10.140675,12.841352,11.092532,12.808948,12.125844,9.97089,8.756598,12.002277,12.431678,11.983487,7.066266,8.0141535,7.0646276,10.52393,10.649365,7.6979613,12.1703825,10.697112,11.666494,7.987327,11.221697,7.157848,7.3250785,11.79683,12.485452,12.56496,11.847089,8.219416,7.726173,10.15353,12.481099,11.761976,7.4636207,13.427677,11.573476,10.72801,7.6216965,10.335159,11.911225,9.918054,12.533013,11.954499,12.474291,12.426677,11.788242,11.494724,8.581644,9.421722,6.7952,12.259311,12.033965,10.564904,11.347193,10.707315,7.3960266,7.55171,11.689221,11.192594,7.608506,12.535557,7.276017,12.788653,10.912233,11.73941,8.702709,7.1778817,7.154691,7.6813474,8.734094,12.401765,11.456942,7.4924536,11.340627,10.624062,11.521947,12.615779,11.654069,7.6994424,10.426296,10.15202,11.511422,11.131007,7.441471,7.281706,8.258348,8.352201,11.029883,7.6190767,11.408853,10.211546,12.665142,9.406709,12.53576,7.07503,10.917692,6.9677987,11.034658,10.629298,11.284356,10.698226,9.473266,10.272689,12.969856,11.288419,12.227756,7.302375,8.041056,12.071172,12.906862,11.311894,10.596639,9.127752,11.830394,10.272378,11.029467,10.110653,8.272736,10.656495,6.9155025,12.653331,8.0197525,11.404136,8.267018,9.425522,7.893749,7.202892,11.439515,7.80495,13.127777,12.055466,6.896706,11.425359,11.19753,6.668963,10.242014,7.737772,12.185568,11.055356,9.665751,10.067766,11.358907,7.402554,11.799937,7.28313,13.227237,11.019901,12.941825,10.579034,9.843112,7.725996,10.983107,12.275607,13.32115,11.750528,11.602111,7.4528327,11.633676,7.3754277,6.842973,11.072879,7.466142,10.130074,12.784726,12.794498,12.743595,8.718073,7.1061044,7.586772,7.778891,11.148184,10.533974,11.528015,11.992077,11.632017,11.442269,6.482856,7.9567914,12.347771,11.113638,11.173057,12.656367,10.698979,12.718804,9.918201,9.412005,12.623704,10.961667,11.916046,12.76706,12.027849,7.1135707,9.823167,7.2303863,7.2609844,8.143905,12.897931,7.699172,8.188139,11.322174,6.8443847,7.2637806,11.31095,7.0738163,13.106686,8.502592,12.549568,11.550836,7.998321,6.718681,12.074998,11.538132,6.5055904,10.192351,12.348252,8.737459,11.693727,7.946591,9.768846,11.640346,7.260615,7.4360642,8.982589,7.229345,12.867451,8.618749,8.459273,12.177193,7.5174212,11.356221,8.179085,7.494739,13.00085,12.9436865,11.184183,12.339657,10.801685,11.421779,11.530659,11.290458,12.126769,7.375214,6.5477023,8.352108,7.986337,11.676081,8.185846,6.801882,6.7541614,7.759932,11.636484,11.161773,7.6397367,10.719518,11.891153,10.2419615,7.2115474,10.439331,11.520489,6.969072,7.0853443,7.4570937,9.2974825,8.030507,10.827182,11.06801,7.8923917,6.639524,6.833195,10.832889,11.214437,10.706283,7.437608,9.236665,10.157685,10.681268,13.236312,11.132914,12.28544,7.6247864,7.4499564,8.947485,7.5695686,7.1671615,6.7385144,7.2588725,11.324495,11.484901,13.165189,7.4709992,8.035475,6.7561493,8.41302,7.3570943,7.0605264,7.222551,10.938026,8.320067,12.72611,7.9035745,7.1633816,10.533701,6.520593,12.883341,12.72828,7.34307,13.053042,11.922897,7.316784,11.461961,7.7324033,11.035614,11.000002,10.953826,8.719945,10.416064,7.199046,10.814987,6.5289583,7.7254877,12.174606,7.5066686,9.175203,12.500622,10.646266,11.59034,11.908818,9.56343,7.9395156,12.68606,12.979363,12.907555,9.635313,12.872639,7.1748176,6.853941,12.888879,8.822745,9.228213,7.1425605,8.563047,6.9848557,12.8367405,13.185834,7.676997,6.925662,13.034703,10.411965,13.071629,8.5914345,12.261642,7.222514,12.765026,11.544086,11.345211,7.5347486,11.554017,12.5206785,7.205053,10.78127,12.48925,10.886743,12.330555,12.186275,10.483059,11.187634,12.066815,6.755589,11.540569,6.6076846,9.842247,11.134093,8.226504,11.339909,7.007546,11.481186,7.01042,10.748537,12.960513,9.169202,10.403913,12.090045,7.8358803,11.011724,11.359403,8.124043,8.95644,8.312019,12.784628,7.7328854,11.609938,7.2002745,7.215173,7.583946,11.796253,8.6238575,10.6273365,10.651292,12.715935,12.771765,6.7031717,7.484267,7.91217,9.51418,12.151352,7.8572607,10.700993,12.94647,10.452311,8.008669,7.7419734,9.218328,8.182432,8.263768,10.739183,7.890964,11.444681,11.40737,7.1360664,10.111671,6.489146,10.303253,11.579163,10.366838,6.4201937,11.020904,7.7714615,8.401675,7.3349123,7.5918527,7.286564,7.14118,7.4637423,10.565796,11.689466,11.145743,7.902527,12.990035,11.4935,11.436733,13.179185,11.039242,10.184479,7.8042803,12.571683,6.730117,12.931882,12.50018,11.243628,11.404053,7.68415,10.810365,11.766071,12.349603,8.168704,11.255173,12.749565,12.340568,11.090477,11.7182,7.840488,10.49789,12.32515,7.9433794,10.473321,9.8946495,8.833636,12.18102,11.31364,7.4200883,6.9984374,10.024855,7.593163,10.289747],\"xaxis\":\"x\",\"y\":[5.3216047,5.2883043,0.23916802,4.063309,0.11849057,1.0573431,2.9592264,3.886258,1.7777926,0.2056131,0.58214414,3.6629143,2.4572155,4.0898705,1.7683617,0.6777609,3.3397481,3.0538573,4.38446,3.8183658,2.8695278,1.9767554,2.5402474,5.436709,2.3863971,0.36897904,3.904055,0.54462814,2.3322685,0.8704878,4.3185043,3.7310119,1.5376683,2.5132065,3.2541373,1.5853401,0.15730415,3.4479003,5.832343,3.7601247,4.5056868,5.6308036,2.0786355,4.0875645,2.9326005,4.26747,3.6584094,1.0002,3.1455388,3.1249611,3.4276004,3.8067043,1.498113,3.9802516,3.9560342,3.7076538,3.5220797,3.2426891,2.3482819,4.8293257,1.6352931,3.3496928,3.8908494,0.31128982,2.3535385,4.332244,4.8012853,3.838508,3.5973372,0.6409283,3.8671763,1.3393414,2.2022338,4.291609,3.0545998,4.244409,4.002733,4.9444656,4.1688395,2.8914893,1.0829508,0.89076984,3.5307925,0.81433004,4.1072617,3.2645893,1.6042203,5.5512586,3.000889,1.2438284,2.9812517,5.7537985,4.2074957,3.3905463,2.0711687,5.3758154,4.9876227,3.5999308,1.3133174,0.87848145,3.4561594,3.742712,3.2552605,5.60994,4.6297903,3.5784974,3.116198,3.2663033,1.0066283,2.8023722,0.74087715,3.9755738,4.764773,1.646459,5.726534,2.7701426,2.9401157,4.195179,5.3957624,4.603772,0.92577016,3.8815835,5.397639,2.8417497,4.115515,2.2546363,2.0969915,5.7813406,2.9586241,3.894041,2.8836434,0.5272667,2.345935,1.4987892,2.7867663,3.3155003,4.1325297,2.5213785,3.8666286,4.0274763,4.3364596,5.5368915,4.3476095,3.9240553,4.451821,0.6181416,4.387542,3.6203399,1.0231788,2.8647525,4.049839,5.3677,3.2517042,2.262079,3.0228891,3.752027,1.1504211,3.490159,1.0559003,4.108156,2.5974393,3.278371,1.7164344,4.211539,3.4915237,2.6536772,3.0572445,3.2593112,4.779769,5.739141,0.44825184,3.9694133,3.8866484,1.4096632,1.9685019,3.920084,3.9310243,3.3820188,3.6237597,3.6938167,1.7775816,3.4967144,4.1387424,3.6920142,5.738931,2.9785125,3.7630026,3.6916845,5.5055137,5.292718,0.50629735,3.7893162,4.085799,1.6930435,3.9432452,3.047966,2.9051309,3.5128348,4.35544,2.7251086,4.9382043,1.8618358,5.805912,3.75897,4.240593,1.6308613,2.6202533,4.264058,0.093144156,3.5867627,4.229643,0.27635446,3.4048228,4.389486,1.4800377,1.2780614,1.0446532,1.2092404,4.0986576,2.9510205,4.1872888,3.9713438,3.8379922,1.1129597,5.5138154,5.589314,0.8351177,4.0151286,4.199589,2.5449111,3.189559,3.4299476,1.241993,3.9145422,3.7740247,3.9898918,2.6132412,0.39718434,3.4203103,0.85910904,1.8849173,5.471639,4.2247715,5.450541,4.1121035,3.7748027,3.4680252,3.8130739,4.884133,4.9306164,2.0165014,5.3794336,3.9125965,4.743714,3.9405708,0.3215303,0.68689346,3.736808,3.6094193,3.5706396,4.3148003,0.38190287,1.3445269,3.7394338,5.672288,1.696614,3.583656,0.85042894,5.016887,2.4528244,3.6622148,2.8368156,0.7584339,1.4884644,1.0362003,3.7070694,3.6845272,0.6265283,3.5476701,0.7832316,3.7321372,0.7250044,1.6599221,3.0427644,4.494749,1.4273024,4.2342114,4.4602056,1.8861622,4.144259,4.153815,1.187196,4.4358716,0.18766229,4.078242,2.5655906,3.13256,3.7247086,0.7817429,4.2142267,2.8773193,3.303134,4.207001,4.252215,2.8455439,0.45834437,2.9921556,0.06827825,0.9746978,3.1004348,4.0097966,1.6281804,5.054436,2.9022675,1.1214213,1.4548401,0.720979,3.3421974,3.2469184,2.891628,3.7218058,5.5180073,0.76007247,4.522276,3.3289042,1.4710585,3.588214,3.9397917,2.3974788,1.7007365,0.9971589,2.9653242,0.75144714,3.786032,3.5220587,3.4634979,3.0815449,4.631159,1.9657238,5.357434,5.818704,4.292874,2.7575276,4.2749624,3.8976836,4.207749,1.9569821,2.8513732,0.7070524,0.035691775,3.3805897,3.1051898,4.4200807,0.12072027,2.8369117,1.7747967,4.418637,3.1798196,3.3865438,0.33592165,4.074652,1.4618028,3.6628702,0.78668344,3.4681444,4.2317915,3.7292895,5.2519913,3.182292,3.638182,0.85242295,3.081745,0.45360184,2.2186203,2.9612253,5.166169,4.5292296,3.5910726,3.646205,3.0250604,5.5304565,0.09890998,0.7005108,0.19177836,0.35358316,4.756232,0.6890872,1.5471097,0.06389731,5.3031354,0.39167508,2.1610029,4.2291274,4.307851,0.8621818,4.9602456,4.50259,4.252443,3.1120799,4.2831683,1.9051207,4.1638308,4.5090737,4.308587,5.2802978,3.6276891,3.3653097,4.0487833,5.025566,4.3082037,3.5188227,1.1484675,5.013158,3.4321723,0.071072176,3.9817543,4.28366,1.6627554,2.4140613,4.387915,2.6967432,3.4809089,2.1527488,3.6187787,3.3443751,2.564079,1.374516,4.126105,3.622141,0.66326654,5.5254154,2.0912697,2.155567,3.198805,0.55448884,3.486795,2.873598,0.89917624,0.67096496,1.8070754,3.4495635,3.815515,3.538941,1.118233,4.290383,1.6318314,3.6189282,1.1483333,5.8585405,5.2602506,3.6760252,2.9555693,3.4550412,5.2765894,3.4970934,3.3915625,3.427176,0.5203588,4.031591,0.30232474,4.1363196,5.4110126,5.1937003,5.7849402,3.324269,1.5244439,4.317685,3.2009666,3.859961,4.745701,3.5608056,4.554409,1.6393585,3.9187987,3.32133,4.035037,4.062533,2.3825495,2.1166055,1.3481606,2.749224,3.2506113,2.31928,2.9578037,1.5934354,3.0501003,4.292939,4.224887],\"yaxis\":\"y\",\"type\":\"scatter\"},{\"hovertemplate\":\"\\u003cb\\u003e%{hovertext}\\u003c\\u002fb\\u003e\\u003cbr\\u003e\\u003cbr\\u003etag=real\\u003cbr\\u003ex=%{x}\\u003cbr\\u003ey=%{y}\\u003cextra\\u003e\\u003c\\u002fextra\\u003e\",\"hovertext\":[\"portrait-smiling-middle-aged-african-260nw-2088822202.jpg\",\"A142xwh4GVL._AC_UF8941000_QL80_.jpg\",\"-man-sits-with-a-woman-on-her-phone-at-a-table-while-looking-at-a-computer_l.jpg\",\"people-strategy_1200x700.jpg\",\"360_F_606797008_rGPPk6bFWDQydnX7g7w1w9dVVZ4mD22J.jpg\",\"71afyFfZx0L._AC_UF8941000_QL80_.jpg\",\"180222162827-the-kiss-story-top-card-image.jpg\",\"COLORFUL-NIGHT.jpg\",\"thumb-duiker-animal.jpg\",\"images56.jpg\",\"69601536314088.jpg\",\"812EtDiEY9L._AC_UF10001000_QL80_.jpg\",\"wild_and_wonderful_asian_animals_header_1140.jpg\",\"header-african-american-health-equity-500x500-1.jpg\",\"original.jpg\",\"Shelley-Newman-Watching-The-Show-2022.jpg\",\"wers-blooming-green-grass-spring-concept-generative-ai-technology-free-photo.jpg\",\"Women-clothing-Kenya-East-Africa.jpg\",\"cheetah-003.jpg\",\"snapshot_20230310.jpg\",\"image34.jpg\",\"forest-landscape_71767-127.jpg\",\"GettyImages-450753839_83740.jpg\",\"lamb-iStock-665494268-16x9-e1559777676675-1200x675.jpg\",\"fe9d1f1322c456403839aef00b20126d.jpg\",\"black-american-portraits-130.gif\",\"Jackson-Kania-Montgomery-proximate-leaders-change-592x333.jpg\",\"XaHpf_z51huQS_JPHs-jkPhBp0dLlxFJwt-sPLpGJB0.jpg\",\"black_and_white_portraits_peter_sjo.jpg\",\"WBCSD-People-and-Society_i1140.jpg\",\"5c09c4dc82dc441dfb26975fe8dc1634.jpg\",\"wildlife_hero.jpg\",\"23b94bfecddc840c0ab5c4eaeaeeb974.jpg\",\"nature-scenery.jpg\",\"getty_517194189_373099.jpg\",\"HEADER-Best-Love-Paintings-Ever-Painted_1024x1024.jpg\",\"Paintings-by-Joan-Miro-1140x684.jpg\",\"wm_TreesOfAThousandLights_1920px.jpg\",\"Close_1969.16.jpg\",\"unknown-artist-mountain-landscapes-oil-on-card-paintings-set-of-2-8.jpg\",\"cUAIt5CTS9sQgkglwshb.jpg\",\"7917317-HSC00923-7.jpg\",\"arash-zia-artw1.jpg\",\"iy1ex3cookmf9cme5qlnxa.jpg\",\"autumn-walk-1800329209.jpg\",\"portrait-faces-and-photography-french-woman-clara.jpg\",\"the-essay_58_resurgence-of-the-people_2019-article-image.jpg\",\"PaintingBBR147_1.jpg\",\"GettyImages-514622028-1200px.jpg\",\"beautiful-scenery-arun-sivaprasad.jpg\",\"BabyAnimals.jpg\",\"white-tailed-deer---fawn_jpg.jpg\",\"99050588b2b7c5aaa581c808c1b687c6.jpg\",\"images31.jpg\",\"ct-art-vector-illustrations-creative-minimalist-hand-drawn-vector-2286463217.jpg\",\"LOOPYLUPINSJPG_1600x.jpg\",\"large-beautiful-print-of-village-scenery-waterproof-texture-original-imafzgbuhjehkgfe.jpeg\",\"7final-1-scaled.jpg\",\"pexels-photo-1172064.jpeg\",\"fox-937049_1920.jpg\",\"cafe-terrace-on-the-place-du-f.jpg\",\"172711.jpg\",\"images45.jpg\",\"arash-zia-artw3.jpg\",\"cute-baby-animals-1558535060.jpg\",\"famous-portrait-paintings_wide-3-2-636b81a7177ce.png\",\"hq720.jpg\",\"people-pleasing_mask.jpg\",\"e-world-barack-obama-mark-zuckerberg-oprah-winfrey-greta-thunberg-bill-gates.png\",\"famous-paintings-fb.png\",\"beautiful-nature-scenery-847611-zhjrh-fb.jpg\",\"66398230_702.jpg\",\"14_1110x.png\",\"beautiful-nature-scenery-smartphone-wallpaper-free-photo.jpg\",\"Portrait075a-819x1024.jpg\",\"G2_231208_TianTian.jpg\",\"end.jpg\",\"360_F_273227473_N0WRQuX3uZCJJxlHKYZF44uaJAkh2xLG.jpg\",\"1010172.jpg\",\"female-face-girl-posing-outdoors-in-natural-light.jpg\",\"beautiful-scenery-in-autumn-season-illustration-ai-generative-free-free-photo.jpg\",\"5-Small-but-Famous-Oil-Paintings-3h23gx8wfeu51t7jyudedm.jpg\",\"image14.jpeg\",\"set-safari-animals-illustration-600nw-2150029883.jpg\",\"natural-scenery-raphael-sanzio.jpg\",\"7592006-HSC00002-7.jpg\",\"Coyote-animal-sentience-research.jpg\",\"group-people-illustration-set_52683-33806.jpg\",\"painting-mountain-lake-with-mountain-background_188544-9126.jpg\",\"index-celebs-who-ran-for-office-1566504748.jpg\",\"9499928367_bf1abd7bf2_z.jpg\",\"changeofscenery-index-1634854124.jpeg\",\"4c1d531b-165d-4df6-89a6-0bd99446a31d_3c9c923a-84bb-4512-bb2d-4a16568285bd.jpg\",\"12-reasons-why-people-like-your-posts-on-social-media-001.jpg\",\"5-Types-of-People-e1640865120273.jpg\",\"3F302C18-1DA6-4372-8E313E2FF2CF4D86_source.png\",\"2-23-3-4-20-14-31m.jpg\",\"360_F_482153924_Jc1kuY4feaYUYo5p9tDlzww9OeoGguG4.jpg\",\"Gen-AI-Community-Forum_NC_Header.jpg\",\"_128319873_975784e5-9c6c-441e-9d3e-c77a84d5013f.jpg\",\"Captive-lion-hero-C2A9-George-Logan.jpg\",\"images76.jpg\",\"child-face-portrait-helen-whittle-767x506.jpg\",\"image12.jpeg\",\"beautiful-scenery-rock-formations-sea-queens-bath-kauai-hawaii-sunset-186645179.jpg\",\"people-person.jpg\",\"images34.jpg\",\"02-still-for-america-room-loop-superJumbo.jpg\",\"railroad-163518_640.jpg\",\"60095595_large1300.jpg\",\"1jWx9suY2k3Ifq4B8A_vz9g.jpeg\",\"Bluebirdprojectpainting.jpg\",\"1013032_credit_wspa-jiri_rezac.jpg\",\"4-23-4-22-8-4-13m.jpg\",\"meerkat-closeup-log_2x3.jpg\",\"julien.jpg\",\"beautiful-natural-scenery-with-a-lake-and-mountains-free-photo.jpg\",\"cute-baby-animals-at-australia-zoo.thumb.800.480.png\",\"Monroe_Exotic_Animals_Texas4.jpg\",\"images79.jpg\",\"images6.jpg\",\"cute.jpg\",\"210604151110-02-platon-nft-iris-series-restricted.jpg\",\"image-20160818-12312-4dyz0u.jpg\",\"homeless-man-color-poverty.jpg\",\"cbc662299bd35357e519fe867444b86c.jpg\",\"hqdefault.jpg\",\"3ae7570b10d1f71a41a1daea8bf8de77.jpg\",\"Red-Tailed-Guenon-Animal-Header-768x512.jpg\",\"young-girl-holding-chaffinch-upton-house-1336611.jpg\",\"MightyMountains_v2_product_1024x1024.jpg\",\"p5quSf4dZXctG9WFepXFdR-1200-80.jpg\",\"il_570xN.3757074450_o5mt.jpg\",\"a_meerkat_is_weighed_at_the_annual_weigh_in_website.jpg\",\"231019-Yayoi-Kusama-ew-337p-647c5e.jpg\",\"Mother_sea_otter_with_sleeping_pup.jpeg\",\"images40.jpg\",\"pleaser.jpeg\",\"for-desktop-nature-scenes-beautiful-scenery-1920x1080-wallpaper-preview.jpg\",\"Jason-Brown-lemur-baby.jpg\",\"Deer.jpg\",\"images83.jpg\",\"-Skills-Promo-A-Total-Artist-All-of-North-Wests-Impressive-Drawings-Photos-5.jpg\",\"mountainpygmypossum_science_BCDJ6K.jpg\",\"babyanimals_blogpost.jpg\",\"lindsey-pattison_october-2023_hero.jpg\",\"5-23-7-23-8-53-6m.jpg\",\"getty_511618259_186076.jpg\",\"Two-girlfriends-students-on-a-coffee-break-outdoors-1296x728-header-1296x728.jpg\",\"homepage-hero-low.jpg\",\"portrait-young-beautiful-woman-perfect-600nw-2228044151.jpg\",\"images16.jpg\",\"Personal-Crowd-Silhouettes-Human-Group-Of-People-2045498.jpg\",\"Portrait197a-1280x640.jpg\",\"scenery-pink-lakeside-sunset-lake-landscape-scenic-panorama-2048x2048-144.png\",\"images64.jpg\",\"CB2953EN_img7.jpg\",\"1200px-Claude_Monet2C_Impression2C_soleil_levant.jpg\",\"7761662-XIWBRDDJ-6.jpg\",\"pexels-photo-415829.jpeg\",\"people.jpg\",\"WR202206_GiraffeTranslocation_012_360559_reduced.jpg\",\"cat-with-ducklings.jpg\",\"pexels-photo-2422290.jpeg\",\"images108.jpg\",\"How-to-Draw-Scenery.jpg\",\"1997.166-GAP.jpg\",\"1_Charles-White.jpg\",\"JoanneHastie-2021-ForestLight-MountSeymourPainting-canvas-prints-003.jpg\",\"pngtree-beautiful-natural-scenery-like-in-a-fairyland-used-as-phone-wallpaper-image_1949463.jpg\",\"images95.jpg\",\"file-20231005-16-1flnlj.jpg\",\"images3.jpg\",\"49ee445617997a593ca86c6f9b.jpg\",\"Artboard_1_eb959a6d-c289-4196-8f79-44bffa2b6a8c.jpg\",\"beautiful-scenery-136-61dedf99f0878__880.jpg\",\"Opossum-with-babies.jpg\",\"arm-people-pleaser-2-wfxzwevfldlg.jpg\",\"LARAJADE_SELFPORTRAIT.jpg\",\"eCC81e-DOrsay-Art-Gallery.-Photo-by-DeAgostini_Getty-Images_1-a169874-scaled.jpg\",\"people-icon-set-trendy-flat-260nw-703972951.jpg\",\"360_F_340509733_5MwYU9THVvHgCBuYKZIC8nm5vIoM0dEv.jpg\",\"sudowoodo160500053.jpg\",\"4a092cb31ce8d11f8ca53137d86c276f.jpg\",\"10-tips-for-stunning-portrait-photography-7.jpg\",\"6c12fdc402726c513901a61f512ba3c6.jpg\",\"_MG_5812.jpg\",\"05-12-21-happy-people.jpg\",\"african-spurred-tortoise-web-image-300x200.jpg\",\"EPhE1HGU4AAwAdO.jpg\",\"First-image_Fb-size_grande.jpg\",\"United-States-56136431-EPA.jpg\",\"VIER20PFOTEN_2013-07-19_024-4576x3168-440x305.jpg\",\"female-face-girl-with-wind-in-hair.jpg\",\"most-famous-paintings-by-jan-van-eyck.jpg\",\"picasso-femme-a-la-montre-1932-2-654d363e6a607.jpg\",\"pngtree-sunset-scenery-wallpapers-1920x1080-image_2667375.jpg\",\"WI110119_W25_32.jpg\",\"maxresdefault.jpg\",\"beauty-portrait-female-face_93675-132045.jpg\",\"dog.jpg\",\"Van-Gogh-Self-Portrait-ft-min-pwoxk5den6j39ictcu0bhuupqqucvoep6902vpd6rs.jpg\",\"Famous-Portrait-Paintings-848x530-1.jpg\",\"taxture-scenery-poster-500x500.jpg\",\"GettyImages-141467674-crop.jpg\",\"michael_b._jordan_cannes_2018.jpg\",\"scenery-4nho1u78dzvt1meo.jpg\",\"1-shutterstock_588634790.jpg\",\"sunset-ocean-beautiful-scenery-paint-by-number.jpg\",\"images4.jpg\",\"17042020_beautiful-scenery.jpg\",\"1000_F_553971391_58CnJ3qSdxmrOFUp6eojyVhZ9khKq2Et.jpg\",\"63743885_605.jpg\",\"33100scr.jpg\",\"beautiful-scenery-wallpaper_1920x1080_91975.jpg\",\"paintings-of-venice-1.jpg\",\"Black-and-White-Portrait-3.jpg\",\"Portrait-Photographers-Yousuf-Karsh-King.jpg\",\"ai-generated-synthetic-scenery-landscape-watercolor-painting-riverside-scenery-at-sunset-photo.jpg\",\"sddefault.jpg\",\"360_F_550617518_Eu3U6kTl3mODPvnfTMFHQ88z1y5KNfNQ.jpg\",\"images88.jpg\",\"father-and-daughter-impressionist-beach-painting-artaistry-canvas-print.jpg\",\"natural-scenery-pictures-736-x-1308-2yckka60jpvm2q4e.jpg\",\"hq7202.jpg\",\"9320811-NWDRYHDP-6.jpg\",\"85120553.jpg\",\"sddefault2.jpg\",\"peoplegrove-og_image.jpg\",\"360_F_196873357_Z8LRgbrFSLloSUP1QEqaVAi3OBbVIaWh.jpg\",\"daniel-norton-portrait-photography-CLOSE.jpg\",\"people-rocco-giannetti-2023-2000x1125_1682531615_1024x576.jpg\",\"images19.jpg\",\"shutterstock_243101992.jpg\",\"H0820-L360654254.jpg\",\"sunset-trees-abstract-painting-3.jpg\",\"nature-scenery-background-821397-evzvw-fb.jpg\",\"male-portraits-how-to-photograph-men.jpg\",\"images32.jpg\",\"Threatened-animals-blog-image.jpg\",\"beautiful-nature-scenery-free-photo.jpg\",\"71OZ5MXTSjL.jpg\",\"looking-at-the-beautiful-scenery-vector-18883800.jpg\",\"1f6aa65055228e5224e504ba4b0a0de1.png\",\"feat-iStock-1333294167-1600x1200.jpg\",\"Javan_rhino_Ujung_Kulon_NP.jpg\",\"beauty-nature-scenery-landscape-background-nature-composition-beautiful-landscape-PA57M3.jpg\",\"silver-la-pastiche-art-paintings-ps8151-fr-20430620x24-64_600.jpg\",\"71JgyMLYYSL._AC_UF10001000_QL80_.jpg\",\"Tiger-1.jpg\",\"2g24m0k80001000.png\",\"images53.jpg\",\"147660_1.jpg\",\"file-20230721-6326-u8u6fj.jpg\",\"dwayne-johnson-attends-the-premiere-of-universal-pictures-news-photo-1161880409-1566504158.jpg\",\"HD-wallpaper-nature-scenery-scenery-nature.jpg\",\"rk-beautiful-autumn-scenery-park-outdoor-photography-sunrise-light-101482086.jpg\",\"GettyImages-1199904654-1-820x1024.jpg\",\"77505086_large1300.jpg\",\"Tiger-Male-CJ-Walking-Waterfall-JEP_8986.jpg\",\"what-color-paintings-sell-best.jpg\",\"bwportraits_cover-1500x1000.jpeg\",\"paintings-by-el-greco-franz-marc-cezanne-bruegel.jpg\",\"Worlds-15-Most-Iconic-Portraits-by-iPhotography.com-11.jpg\",\"beautiful-nature-mountain-scenery-with-flowers-free-photo.jpg\",\"Ballerina2030909_36x30_3.jpg\",\"pexels-photo-2598024.jpeg\",\"People_heroXBD201909-00859018.jpg\",\"2-van-gogh-style-paintings-set-a-sea-at-sunset-van-gogh-mounir-khalfouf.jpg\",\"71L0XXoGIRL._AC_UF8941000_QL80_.jpg\",\"GALLERY01-1920x1080-c9a073cc958f0b168efced096d8c73b1.jpg\",\"hero-animals-02.jpg\",\"beautiful-scenery-fb17-png__700.jpg\",\"images80.jpg\",\"famous-portrait-paintings-u3.jpg\",\"noir.jpg\",\"r19032hr19032c_composite_rd.jpg\",\"iri-painting_wide-4ba5e79b58c77487cbcc07b6b406cb2d5dcdb73d.jpg\",\"portrait-african-american-man_23-2149072179.jpg\",\"HD-wallpaper-scenery-lake-nature-sky-tree-water.jpg\",\"91BglHKIKnL._AC_UF8941000_QL80_.jpg\",\"final_animals-homeschooling_credit-alamy.jpg\",\"3-self-portraits-by-zanele-muholi.jpg\",\"152752.jpg\",\"sea-164989_1280.jpg\",\"jennifer-lawrence.jpg\",\"ezgif.com-gif-maker-3.jpg\",\"why_we_connect_with_vincent_van_goghs_paintings_1050x700.jpg\",\"26713309_web1_M-Rob-Schouten-edh-211007.jpg\",\"visitors-look-at-the-painting-water-serpents-ii-by-austrian-news-photo-1677014327.jpg\",\"pexels-photo-620337.jpeg\",\"shouts-animals-watch-baby-hemingway.jpg\",\"how-to-draw-easy-scenery-of-sunset-in-the-hills-1024x576.jpg\",\"images39.jpg\",\"1707541234037\",\"Child-face-portraits-Helen-Whittle-1.jpg\",\"ef2646b821cca54a5ad1cdfcf95d2a1a.jpg\",\"3-x-3-template-newi.jpg\",\"whats-world-population-jpg.jpg\",\"AdobeStock_502229899.jpeg\",\"evelyn-bradley.jpg\",\"images15.jpg\",\"final_credit-alamy-1.jpg\",\"pexels-photo-4029925.jpeg\",\"many-happy-diverse-ethnicity-different-260nw-1733872811.jpg\",\"images70.jpg\",\"63l8iooc5eobpz5bjjc6ig.jpg\",\"Group-of-People.jpg\",\"Science-of-Attraction-feat.jpg\",\"self-portrait-of-a-man.jpg\",\"bff24aa8-a7b3-4919-a9bc-17e1bf4452df.jpg\",\"131207210_web1_20230506dj-littiken-1.jpg\",\"hqdefault3.jpg\",\"naturepl_01154678_2x1.jpg\",\"360_F_568525285_CrGJ8Yh1noTyqu6QsocfVeGQGY91E0Jb.jpg\",\"6170a8ed-8180-448b-8cd1-faaa035fd5c6_570.Jpeg.jpg\",\"subordinate-meerkat-pack.jpg\",\"1032249.jpg\",\"contemporary-realism-portrait-painting-Stanley-Rayfield-artist-Churchhatnew-scaled.jpg\",\"People_Magazine_cover.png\",\"3-19-9-25-15-39-55m.jpg\",\"il_570xN.4398975758_9o5j.jpg\",\"Chris-Pratt.jpg\",\"tiger-full-width.jpg.thumb.1160.1160.jpg\",\"shutterstock_1020032878-scaled.jpg\",\"Crowd-of-Diverse-People_800x528.jpg\",\"v1_txt2img_8e704e98-ca05-4ec7-9c2c-3b6e02cad79f.png\",\"images9.jpg\",\"1200x0.jpg\",\"mammoth.jpg\",\"beautiful-scenery-wnxju2647uqrcccv.jpg\",\"picturesque-scenery-waterfall-flowing-through-260nw-2360180703.jpg\",\"Fireflies_product_800x.jpg\",\"9780241416907-jacket-large.jpg\",\"female-face-girl-wearing-hat-outdoors.jpg\",\"girl-with-a-pearl-earring-c-16.jpg\",\"image16.jpeg\",\"190430171751-mona-lisa.jpg\",\"image15.jpeg\",\"About-the-People-living-with-HIV-Stigma-Index.jpg\",\"hero_zebra_animals.jpg\",\"20230807-ashleyfortner-002-asian-elephant-trong-nhi-linh-teaser.jpg\",\"homepage-usp-photo-2_600x.jpg\",\"images43.jpg\",\"il_570xN.1185533356_i5n8.jpg\",\"lemuranimaheader3.jpg\",\"ways-to-take-stunning-portraits-3.jpg\",\"Russell-NormalPeople-3.jpg\",\"alexander-vinogradov-1900x1267-1419x946.jpg\",\"van-gogh-starry-night-min.jpg\",\"mediaonmedia-most-influential-person-in-media-19455.jpg\",\"3yl7j5q9n4_WEB_288447.jpg\",\"12_20201217171040_10852275_large.jpg\",\"beautiful-landscape-paintingoutdoor-scenery-illustration-GJ7FTK.jpg\",\"Cheetah-wildlife-hero.jpg\",\"images60.jpg\",\"elelphants_kindness_family_1122.jpg\",\"2020-03-feature-giraffe_tcm7-269465.png\",\"200914135645-golden-headed-lion-tamarin-london-zoo.jpg\",\"bear-painting-abstract-animal-art-kent-paulette.jpg\",\"abstract-art-painting-Information-Paradox-no-hotlink.jpg\",\"il_570xN.354623508_9g1k.jpg\",\"feature.jpg\",\"7ce6zbax23_WEB_257649.jpg\",\"black_and_white_portraits_drew_hays.jpg\",\"portrait-young-woman-with-natural-make-up_23-2149084942.jpg\",\"spider-monkey-gty-ps-230705_1688589803900_hpEmbed_sl_3x2.jpg\",\"diverse-crowd-people-different-ages-races_74855-5235.jpg\",\"lindsay-adler-male-portrait-final-image.jpeg\",\"Fschl-Eric_TrumpMug.jpg\",\"extinctions_elephants-555x507.jpg\",\"85220_africa-21787_1920.rev.1600192341.jpg\",\"iStock-1326443525.2e16d0ba.fill-950x535.jpg\",\"B23A9251-Edit-1024x683.jpg\",\"humpback-whale-1680735293.jpg\",\"female-face-eye-level-portrait.jpg\",\"il_570xN.3032062592_e10u.jpg\",\"il_fullxfull.3846364111_dz4y.jpg\",\"Mali_-_Bozo_girl_in_Bamako.jpg\",\"39699055175_5876c32612_b1.jpg\",\"impressive-summer-sunrise-scenery-background-nature-sea-ocean_743855-17494.jpg\",\"SeasideEscape_product_400x.jpg\",\"bob-ross-white-mountain-many-sigs-detail1_1024x1024.jpg\",\"diverse-people.jpg\",\"images38.jpg\",\"images72.jpg\",\"51sGagaZbS._AC_UF10001000_QL80_.jpg\",\"0ogZjy9KvWg2elv-I.jpg\",\"gettyimages-1238924365_wide-b1f7435f5e1e69d0b3a32ad364de7204c89cc15e-s1100-c50.jpg\",\"scenery-lake-blue-sky-forest-reflection-scenic-clouds-6016x3384-6639.jpg\",\"arbiyashaikh9_66663-IMG_20230517_160453.jpg\",\"9511429-QBAHKOGH-7.jpg\",\"hqdefault2.jpg\",\"people-taking-selfie-together-registration-day_23-2149096795.jpg\",\"91NKwoumEpL._AC_UF8941000_QL80_.jpg\",\"people-movement_740563843.jpg\",\"beautiful-scenery-tree-sea-sunset-hd-wallpaper-3842-1920x1080.jpg\",\"2ibwo5nyey_76768945_200ee080_6772_11ea_99f1_23346ee95a58.jpg\",\"Mona-Lisa-by-Leonardo-da-Vinci-687x1024.jpg\",\"20200204-Influential-51_camera-press.jpg\",\"images.jpg\",\"fw-fox-squirrel.jpg\",\"large-beautiful-print-of-village-scenery-waterproof-texture-original-imafzgbusjtaysub.jpeg\",\"360_F_380747975_sS1hCVB0qPqFCWBMZ3qJ5xTqH6rtaDBI.jpg\",\"pexels-photo-5091121.jpeg\",\"scenery.jpg\"],\"legendgroup\":\"real\",\"marker\":{\"color\":\"#EF553B\",\"symbol\":\"circle\"},\"mode\":\"markers\",\"name\":\"real\",\"orientation\":\"v\",\"showlegend\":true,\"x\":[12.071383,7.7639303,11.380327,10.422706,6.804004,7.620894,9.408178,7.7632923,11.028291,10.54731,8.070511,9.430784,11.247559,11.497938,11.440344,7.9889803,7.4980636,10.952135,10.647421,11.5022,9.551527,6.4974165,8.884363,11.061951,13.22371,8.227742,9.431316,11.74452,13.699635,10.330535,13.270054,11.215761,7.404966,6.86365,11.944096,9.939281,8.842485,7.8948135,12.8942585,7.9054646,6.5931444,7.8286853,13.077199,11.6746025,7.6881733,12.656883,8.070625,9.644961,11.199746,7.5168996,11.192767,10.841015,12.736047,10.355054,8.575263,7.4759383,7.9160113,11.161639,7.4019217,10.859824,8.371602,11.206486,11.253357,13.0794325,11.6075,11.472312,7.5148454,12.991656,11.709304,12.2808695,6.66906,8.936566,7.8084807,7.175986,12.896951,11.92039,10.378952,7.9688387,11.276932,11.970383,7.5136437,10.038053,10.784714,9.709834,7.7709584,7.687622,10.823439,10.19999,6.5982814,11.447661,13.625115,10.4890175,9.567701,11.271298,10.760525,9.586004,11.8835945,9.762369,11.3400955,10.435443,10.803107,9.134653,13.493898,10.105781,7.208357,11.855994,10.705248,12.003014,7.430849,13.512145,13.348176,8.769422,11.151341,7.4181585,11.618111,13.450779,6.7752643,11.562719,11.325844,7.8201327,11.62641,10.828637,13.502538,10.588514,12.415695,7.634837,11.251375,13.340678,11.78058,11.67867,8.371262,13.233829,7.8286357,11.590168,12.093672,7.9892316,10.732461,13.086722,7.8221893,11.429922,10.890081,7.7923346,10.720217,11.087257,11.062652,12.768068,7.4501805,11.802156,11.45706,7.5355935,13.074225,10.3188925,9.018801,12.887785,7.0810027,11.1148405,11.835839,7.9029493,8.34212,13.028252,11.904615,10.679116,11.06416,10.757423,12.464509,8.865777,12.134778,9.166859,10.921072,7.482933,8.233608,10.638505,10.943522,10.888613,9.42907,7.7355947,11.155909,12.017692,13.510208,7.8849025,10.165549,10.5145445,10.1203985,7.425423,11.43439,6.5833035,9.933813,11.929662,10.391697,7.6355476,11.500088,11.06576,10.840718,13.187147,11.724348,9.251635,6.9845467,11.107293,10.116291,12.847478,10.811391,11.423421,12.581715,6.8564973,10.741386,11.980869,7.1759095,12.722211,7.449121,8.072532,6.8692803,13.059196,10.158342,10.240075,7.3264265,7.816166,12.906744,12.849265,7.13987,7.4655194,6.566069,12.774054,8.602104,7.8009806,7.4921355,7.873137,10.902746,8.272742,11.433007,10.060041,13.056945,12.730088,7.450102,11.6914215,9.5062685,9.05523,6.6491323,12.154726,10.555899,10.444396,6.519109,9.234895,7.028402,13.421813,10.816741,8.0926285,7.8434978,9.358519,11.242702,10.310635,11.113274,10.465868,9.985188,11.003087,11.843679,6.662681,7.591833,9.921185,11.851233,10.207199,8.39217,13.410084,7.90366,12.16475,6.5738015,8.722018,12.343977,10.488329,8.040906,11.941831,6.7234077,10.577728,8.277189,8.307206,12.808101,13.687642,13.151388,9.14696,12.97062,7.2017946,8.1164875,9.862795,12.370972,8.666324,7.0671935,12.906182,11.881386,11.486801,7.475471,11.331417,6.934386,10.196558,7.391851,11.982709,10.21844,13.623177,10.546108,11.901259,10.062959,11.005953,11.769222,11.230328,10.999978,13.205682,10.664068,11.791532,11.82262,9.596912,11.788116,13.431255,12.490973,7.471705,11.208599,10.594475,6.4531784,12.453711,11.5263,11.002524,11.849812,11.110461,7.832981,11.408234,12.795021,10.22055,7.159988,10.722088,7.198681,10.173869,12.809882,10.307055,6.614592,7.455532,8.634952,9.67647,12.360319,12.620752,10.456039,12.299523,10.675942,11.789207,10.650331,9.909622,7.6756496,10.312486,7.664978,11.435184,13.698203,11.740533,13.075449,8.14679,12.644954,9.876559,13.042063,7.8554044,10.552233,10.99438,9.828485,10.705621,11.19,8.132771,9.238936,11.458871,7.653582,11.353298,13.740067,13.010979,11.778128,10.077509,13.588231,11.057856,9.854213,10.793863,11.638955,12.275321,7.949561,12.826951,7.315098,7.730245,7.438463,13.607068,6.7936997,9.439017,8.362187,10.340282,10.071869,7.3577533,7.0136266,12.60082,8.030298,7.0981307,8.262072,7.7266316,12.652237,11.750425,7.822242,10.285549,7.2172227,11.602231,12.268324,11.848702,8.916551,11.305628,8.174439,7.515625,11.961221,6.463106],\"xaxis\":\"x\",\"y\":[2.6819751,1.8536739,4.4511127,4.1668506,1.0244958,0.32034373,2.8002133,1.7626876,0.57106465,5.6544385,3.0341003,4.3891335,1.2196375,2.7481494,1.4622848,2.1250625,0.68562835,3.9280226,0.90928954,2.4902508,2.8439581,0.60121673,3.7608275,0.76470184,2.790363,3.8089406,4.452748,5.057773,3.1076496,5.6283755,2.7465074,0.7479518,2.3569696,0.24695358,5.2354627,3.3184886,3.77382,1.0764252,2.4603226,0.890729,-0.06791005,0.9441396,2.8501604,4.5632515,1.5952003,2.4515593,1.2753167,4.296984,0.88070935,1.2131934,1.3547275,0.6376075,2.7515852,4.8736396,1.3913975,1.4643507,2.000817,3.5256453,0.12310592,0.9480259,2.0564044,3.2340617,5.146583,2.8719351,1.7744181,3.8290367,2.36318,3.2654636,4.8068013,3.9776742,0.12638164,2.579859,1.0485117,0.41259223,2.687489,2.0077176,2.6415868,4.395541,2.6971018,2.445449,0.17635062,2.6630077,4.5505633,4.0876846,2.2260485,1.0665646,0.7589713,4.5249963,0.6108605,4.506344,3.5085275,3.5170097,3.8469653,3.0347114,4.1494613,4.42042,4.470559,4.5125575,4.324105,0.8360408,0.8878864,4.0306993,2.8711743,4.6628723,0.49116948,4.5686407,5.7077427,5.701401,0.13971698,3.010244,2.7915967,1.4484926,0.72027093,1.9207245,0.66395587,3.4999907,0.013834798,0.7051951,2.475597,2.29764,5.8153167,0.7575557,2.76763,0.71696335,2.4971573,1.2086092,4.558385,3.334219,2.052497,3.510963,1.6318333,2.6452472,1.4131877,0.738544,3.399143,0.6750729,5.562435,2.7413442,0.20721635,0.93920046,0.63585687,0.37118104,3.366062,1.1274197,1.0674851,2.5201082,1.5922236,4.551745,2.7105,3.1437395,2.8723817,5.5728455,4.448525,2.6032834,0.24395823,5.014208,2.7296402,0.9129993,1.1345854,2.7342136,5.098072,0.6904843,1.9911423,4.567559,3.7201555,3.7358935,3.0185752,3.3280385,3.5034595,1.0478133,3.8242497,3.7862575,5.6332493,3.1200287,4.0138373,0.5703907,1.1675483,2.9887667,2.9421184,1.4465622,4.6781626,4.4586806,4.7165318,2.3714428,2.786283,1.4340671,2.798808,2.4739678,0.9763649,2.230833,3.195441,2.9812331,0.61803627,2.6601932,5.2925835,4.485528,0.29354736,5.3810763,1.9816555,2.616466,0.84649915,3.402235,3.8537693,0.74120164,0.497247,2.3973033,-0.03840306,2.7880151,0.11064258,1.1734807,1.3385302,2.7955453,5.491182,5.574563,0.09246836,0.739247,2.3763623,4.9473147,1.5584661,2.3926544,0.8849933,3.0028188,1.5935899,0.854124,2.36562,0.77331513,0.99208754,1.6790493,2.715529,4.6584983,2.5474715,4.841317,4.5411425,2.5767698,3.9715085,4.388359,0.26265085,2.3513362,4.6418276,0.8359558,-0.08232523,2.8602288,0.39275393,3.1498036,0.68972325,0.26263615,0.97201097,4.0065765,1.6607932,1.5488741,0.62700874,5.4193254,4.3636045,2.3539848,2.903378,0.37142354,1.449347,3.5858567,3.3816879,1.641305,3.482059,3.8707514,2.0918784,2.6483924,0.07237997,1.5441171,2.6670663,5.645457,2.0662048,3.1830983,1.1742224,0.6491521,0.5074659,0.39088055,3.7635844,3.1266189,4.2565193,3.6696014,2.2963305,0.12688798,1.6738809,0.35498106,4.1248207,1.6651355,0.31669816,2.7891333,5.546461,3.3728583,0.82265264,4.210338,0.061798867,1.4611847,2.4922652,3.505958,1.7306424,3.0331943,3.5631745,4.700678,4.6117105,5.644045,2.3575022,5.346831,0.56985134,3.9062142,5.662255,5.693168,2.6063843,4.539282,2.1958125,2.682195,2.5267196,0.65065944,4.575273,0.5543243,0.5810046,2.9228187,0.6336677,0.55434567,3.244629,4.9807587,0.7985429,4.3355365,5.0382805,1.6261433,0.545655,5.716712,1.6782274,4.686682,5.032712,1.6595283,0.14010622,0.70212877,4.087652,4.332307,2.8525426,3.8176475,5.529116,3.1582694,5.65679,4.663281,1.412142,0.39176652,1.2605313,5.588445,1.5537839,0.9387556,3.2460785,2.201559,3.0552444,2.3161457,5.046235,0.350563,2.9736998,1.4261806,0.6789337,3.8983617,0.37950924,0.69267595,1.0978762,2.8915675,4.1973834,3.499475,0.6796637,2.1735096,3.1845334,2.8056686,2.0100694,4.543619,2.780138,3.3781233,0.35141054,0.97457224,2.3919253,2.6363854,0.34858358,2.5678902,1.2881473,1.3678535,4.443547,2.9305513,-0.001968274,4.1053905,1.7012885,4.862339,4.6762977,2.5224125,0.44906837,4.4627843,0.49875727,0.94073915,1.7223163,1.3947728,4.9904294,4.6424193,1.6948996,5.6158986,0.1690218,0.69847673,3.2388096,4.8857665,3.8321888,0.82607603,1.6934378,0.10428194,2.492017,0.59291077],\"yaxis\":\"y\",\"type\":\"scatter\"}],                        {\"template\":{\"data\":{\"histogram2dcontour\":[{\"type\":\"histogram2dcontour\",\"colorbar\":{\"outlinewidth\":0,\"ticks\":\"\"},\"colorscale\":[[0.0,\"#0d0887\"],[0.1111111111111111,\"#46039f\"],[0.2222222222222222,\"#7201a8\"],[0.3333333333333333,\"#9c179e\"],[0.4444444444444444,\"#bd3786\"],[0.5555555555555556,\"#d8576b\"],[0.6666666666666666,\"#ed7953\"],[0.7777777777777778,\"#fb9f3a\"],[0.8888888888888888,\"#fdca26\"],[1.0,\"#f0f921\"]]}],\"choropleth\":[{\"type\":\"choropleth\",\"colorbar\":{\"outlinewidth\":0,\"ticks\":\"\"}}],\"histogram2d\":[{\"type\":\"histogram2d\",\"colorbar\":{\"outlinewidth\":0,\"ticks\":\"\"},\"colorscale\":[[0.0,\"#0d0887\"],[0.1111111111111111,\"#46039f\"],[0.2222222222222222,\"#7201a8\"],[0.3333333333333333,\"#9c179e\"],[0.4444444444444444,\"#bd3786\"],[0.5555555555555556,\"#d8576b\"],[0.6666666666666666,\"#ed7953\"],[0.7777777777777778,\"#fb9f3a\"],[0.8888888888888888,\"#fdca26\"],[1.0,\"#f0f921\"]]}],\"heatmap\":[{\"type\":\"heatmap\",\"colorbar\":{\"outlinewidth\":0,\"ticks\":\"\"},\"colorscale\":[[0.0,\"#0d0887\"],[0.1111111111111111,\"#46039f\"],[0.2222222222222222,\"#7201a8\"],[0.3333333333333333,\"#9c179e\"],[0.4444444444444444,\"#bd3786\"],[0.5555555555555556,\"#d8576b\"],[0.6666666666666666,\"#ed7953\"],[0.7777777777777778,\"#fb9f3a\"],[0.8888888888888888,\"#fdca26\"],[1.0,\"#f0f921\"]]}],\"heatmapgl\":[{\"type\":\"heatmapgl\",\"colorbar\":{\"outlinewidth\":0,\"ticks\":\"\"},\"colorscale\":[[0.0,\"#0d0887\"],[0.1111111111111111,\"#46039f\"],[0.2222222222222222,\"#7201a8\"],[0.3333333333333333,\"#9c179e\"],[0.4444444444444444,\"#bd3786\"],[0.5555555555555556,\"#d8576b\"],[0.6666666666666666,\"#ed7953\"],[0.7777777777777778,\"#fb9f3a\"],[0.8888888888888888,\"#fdca26\"],[1.0,\"#f0f921\"]]}],\"contourcarpet\":[{\"type\":\"contourcarpet\",\"colorbar\":{\"outlinewidth\":0,\"ticks\":\"\"}}],\"contour\":[{\"type\":\"contour\",\"colorbar\":{\"outlinewidth\":0,\"ticks\":\"\"},\"colorscale\":[[0.0,\"#0d0887\"],[0.1111111111111111,\"#46039f\"],[0.2222222222222222,\"#7201a8\"],[0.3333333333333333,\"#9c179e\"],[0.4444444444444444,\"#bd3786\"],[0.5555555555555556,\"#d8576b\"],[0.6666666666666666,\"#ed7953\"],[0.7777777777777778,\"#fb9f3a\"],[0.8888888888888888,\"#fdca26\"],[1.0,\"#f0f921\"]]}],\"surface\":[{\"type\":\"surface\",\"colorbar\":{\"outlinewidth\":0,\"ticks\":\"\"},\"colorscale\":[[0.0,\"#0d0887\"],[0.1111111111111111,\"#46039f\"],[0.2222222222222222,\"#7201a8\"],[0.3333333333333333,\"#9c179e\"],[0.4444444444444444,\"#bd3786\"],[0.5555555555555556,\"#d8576b\"],[0.6666666666666666,\"#ed7953\"],[0.7777777777777778,\"#fb9f3a\"],[0.8888888888888888,\"#fdca26\"],[1.0,\"#f0f921\"]]}],\"mesh3d\":[{\"type\":\"mesh3d\",\"colorbar\":{\"outlinewidth\":0,\"ticks\":\"\"}}],\"scatter\":[{\"fillpattern\":{\"fillmode\":\"overlay\",\"size\":10,\"solidity\":0.2},\"type\":\"scatter\"}],\"parcoords\":[{\"type\":\"parcoords\",\"line\":{\"colorbar\":{\"outlinewidth\":0,\"ticks\":\"\"}}}],\"scatterpolargl\":[{\"type\":\"scatterpolargl\",\"marker\":{\"colorbar\":{\"outlinewidth\":0,\"ticks\":\"\"}}}],\"bar\":[{\"error_x\":{\"color\":\"#2a3f5f\"},\"error_y\":{\"color\":\"#2a3f5f\"},\"marker\":{\"line\":{\"color\":\"#E5ECF6\",\"width\":0.5},\"pattern\":{\"fillmode\":\"overlay\",\"size\":10,\"solidity\":0.2}},\"type\":\"bar\"}],\"scattergeo\":[{\"type\":\"scattergeo\",\"marker\":{\"colorbar\":{\"outlinewidth\":0,\"ticks\":\"\"}}}],\"scatterpolar\":[{\"type\":\"scatterpolar\",\"marker\":{\"colorbar\":{\"outlinewidth\":0,\"ticks\":\"\"}}}],\"histogram\":[{\"marker\":{\"pattern\":{\"fillmode\":\"overlay\",\"size\":10,\"solidity\":0.2}},\"type\":\"histogram\"}],\"scattergl\":[{\"type\":\"scattergl\",\"marker\":{\"colorbar\":{\"outlinewidth\":0,\"ticks\":\"\"}}}],\"scatter3d\":[{\"type\":\"scatter3d\",\"line\":{\"colorbar\":{\"outlinewidth\":0,\"ticks\":\"\"}},\"marker\":{\"colorbar\":{\"outlinewidth\":0,\"ticks\":\"\"}}}],\"scattermapbox\":[{\"type\":\"scattermapbox\",\"marker\":{\"colorbar\":{\"outlinewidth\":0,\"ticks\":\"\"}}}],\"scatterternary\":[{\"type\":\"scatterternary\",\"marker\":{\"colorbar\":{\"outlinewidth\":0,\"ticks\":\"\"}}}],\"scattercarpet\":[{\"type\":\"scattercarpet\",\"marker\":{\"colorbar\":{\"outlinewidth\":0,\"ticks\":\"\"}}}],\"carpet\":[{\"aaxis\":{\"endlinecolor\":\"#2a3f5f\",\"gridcolor\":\"white\",\"linecolor\":\"white\",\"minorgridcolor\":\"white\",\"startlinecolor\":\"#2a3f5f\"},\"baxis\":{\"endlinecolor\":\"#2a3f5f\",\"gridcolor\":\"white\",\"linecolor\":\"white\",\"minorgridcolor\":\"white\",\"startlinecolor\":\"#2a3f5f\"},\"type\":\"carpet\"}],\"table\":[{\"cells\":{\"fill\":{\"color\":\"#EBF0F8\"},\"line\":{\"color\":\"white\"}},\"header\":{\"fill\":{\"color\":\"#C8D4E3\"},\"line\":{\"color\":\"white\"}},\"type\":\"table\"}],\"barpolar\":[{\"marker\":{\"line\":{\"color\":\"#E5ECF6\",\"width\":0.5},\"pattern\":{\"fillmode\":\"overlay\",\"size\":10,\"solidity\":0.2}},\"type\":\"barpolar\"}],\"pie\":[{\"automargin\":true,\"type\":\"pie\"}]},\"layout\":{\"autotypenumbers\":\"strict\",\"colorway\":[\"#636efa\",\"#EF553B\",\"#00cc96\",\"#ab63fa\",\"#FFA15A\",\"#19d3f3\",\"#FF6692\",\"#B6E880\",\"#FF97FF\",\"#FECB52\"],\"font\":{\"color\":\"#2a3f5f\"},\"hovermode\":\"closest\",\"hoverlabel\":{\"align\":\"left\"},\"paper_bgcolor\":\"white\",\"plot_bgcolor\":\"#E5ECF6\",\"polar\":{\"bgcolor\":\"#E5ECF6\",\"angularaxis\":{\"gridcolor\":\"white\",\"linecolor\":\"white\",\"ticks\":\"\"},\"radialaxis\":{\"gridcolor\":\"white\",\"linecolor\":\"white\",\"ticks\":\"\"}},\"ternary\":{\"bgcolor\":\"#E5ECF6\",\"aaxis\":{\"gridcolor\":\"white\",\"linecolor\":\"white\",\"ticks\":\"\"},\"baxis\":{\"gridcolor\":\"white\",\"linecolor\":\"white\",\"ticks\":\"\"},\"caxis\":{\"gridcolor\":\"white\",\"linecolor\":\"white\",\"ticks\":\"\"}},\"coloraxis\":{\"colorbar\":{\"outlinewidth\":0,\"ticks\":\"\"}},\"colorscale\":{\"sequential\":[[0.0,\"#0d0887\"],[0.1111111111111111,\"#46039f\"],[0.2222222222222222,\"#7201a8\"],[0.3333333333333333,\"#9c179e\"],[0.4444444444444444,\"#bd3786\"],[0.5555555555555556,\"#d8576b\"],[0.6666666666666666,\"#ed7953\"],[0.7777777777777778,\"#fb9f3a\"],[0.8888888888888888,\"#fdca26\"],[1.0,\"#f0f921\"]],\"sequentialminus\":[[0.0,\"#0d0887\"],[0.1111111111111111,\"#46039f\"],[0.2222222222222222,\"#7201a8\"],[0.3333333333333333,\"#9c179e\"],[0.4444444444444444,\"#bd3786\"],[0.5555555555555556,\"#d8576b\"],[0.6666666666666666,\"#ed7953\"],[0.7777777777777778,\"#fb9f3a\"],[0.8888888888888888,\"#fdca26\"],[1.0,\"#f0f921\"]],\"diverging\":[[0,\"#8e0152\"],[0.1,\"#c51b7d\"],[0.2,\"#de77ae\"],[0.3,\"#f1b6da\"],[0.4,\"#fde0ef\"],[0.5,\"#f7f7f7\"],[0.6,\"#e6f5d0\"],[0.7,\"#b8e186\"],[0.8,\"#7fbc41\"],[0.9,\"#4d9221\"],[1,\"#276419\"]]},\"xaxis\":{\"gridcolor\":\"white\",\"linecolor\":\"white\",\"ticks\":\"\",\"title\":{\"standoff\":15},\"zerolinecolor\":\"white\",\"automargin\":true,\"zerolinewidth\":2},\"yaxis\":{\"gridcolor\":\"white\",\"linecolor\":\"white\",\"ticks\":\"\",\"title\":{\"standoff\":15},\"zerolinecolor\":\"white\",\"automargin\":true,\"zerolinewidth\":2},\"scene\":{\"xaxis\":{\"backgroundcolor\":\"#E5ECF6\",\"gridcolor\":\"white\",\"linecolor\":\"white\",\"showbackground\":true,\"ticks\":\"\",\"zerolinecolor\":\"white\",\"gridwidth\":2},\"yaxis\":{\"backgroundcolor\":\"#E5ECF6\",\"gridcolor\":\"white\",\"linecolor\":\"white\",\"showbackground\":true,\"ticks\":\"\",\"zerolinecolor\":\"white\",\"gridwidth\":2},\"zaxis\":{\"backgroundcolor\":\"#E5ECF6\",\"gridcolor\":\"white\",\"linecolor\":\"white\",\"showbackground\":true,\"ticks\":\"\",\"zerolinecolor\":\"white\",\"gridwidth\":2}},\"shapedefaults\":{\"line\":{\"color\":\"#2a3f5f\"}},\"annotationdefaults\":{\"arrowcolor\":\"#2a3f5f\",\"arrowhead\":0,\"arrowwidth\":1},\"geo\":{\"bgcolor\":\"white\",\"landcolor\":\"#E5ECF6\",\"subunitcolor\":\"white\",\"showland\":true,\"showlakes\":true,\"lakecolor\":\"white\"},\"title\":{\"x\":0.05},\"mapbox\":{\"style\":\"light\"}}},\"xaxis\":{\"anchor\":\"y\",\"domain\":[0.0,1.0],\"title\":{\"text\":\"x\"}},\"yaxis\":{\"anchor\":\"x\",\"domain\":[0.0,1.0],\"title\":{\"text\":\"y\"}},\"legend\":{\"title\":{\"text\":\"tag\"},\"tracegroupgap\":0},\"margin\":{\"t\":60},\"height\":900},                        {\"responsive\": true}                    ).then(function(){\n",
       "                            \n",
       "var gd = document.getElementById('f8f7d9b2-b529-48b5-9b40-2558e4a96929');\n",
       "var x = new MutationObserver(function (mutations, observer) {{\n",
       "        var display = window.getComputedStyle(gd).display;\n",
       "        if (!display || display === 'none') {{\n",
       "            console.log([gd, 'removed!']);\n",
       "            Plotly.purge(gd);\n",
       "            observer.disconnect();\n",
       "        }}\n",
       "}});\n",
       "\n",
       "// Listen for the removal of the full notebook cells\n",
       "var notebookContainer = gd.closest('#notebook-container');\n",
       "if (notebookContainer) {{\n",
       "    x.observe(notebookContainer, {childList: true});\n",
       "}}\n",
       "\n",
       "// Listen for the clearing of the current output cell\n",
       "var outputEl = gd.closest('.output');\n",
       "if (outputEl) {{\n",
       "    x.observe(outputEl, {childList: true});\n",
       "}}\n",
       "\n",
       "                        })                };                });            </script>        </div>"
      ]
     },
     "metadata": {},
     "output_type": "display_data"
    }
   ],
   "source": [
    "from plotly.express import scatter\n",
    "scatter(data_frame=plot_df, x='x', y='y', color='tag', hover_name='name', height=900)"
   ]
  },
  {
   "cell_type": "markdown",
   "id": "ff627906",
   "metadata": {
    "papermill": {
     "duration": 0.01086,
     "end_time": "2024-02-20T16:26:03.807863",
     "exception": false,
     "start_time": "2024-02-20T16:26:03.797003",
     "status": "completed"
    },
    "tags": []
   },
   "source": [
    "Our image to vector vectors do seem to cluster somewhat according to whether they are real or generated. Let's split and use a model to do the classification."
   ]
  },
  {
   "cell_type": "code",
   "execution_count": 7,
   "id": "5f324a32",
   "metadata": {
    "execution": {
     "iopub.execute_input": "2024-02-20T16:26:03.832677Z",
     "iopub.status.busy": "2024-02-20T16:26:03.832123Z",
     "iopub.status.idle": "2024-02-20T16:26:04.382629Z",
     "shell.execute_reply": "2024-02-20T16:26:04.380794Z"
    },
    "papermill": {
     "duration": 0.570197,
     "end_time": "2024-02-20T16:26:04.388297",
     "exception": false,
     "start_time": "2024-02-20T16:26:03.818100",
     "status": "completed"
    },
    "tags": []
   },
   "outputs": [
    {
     "name": "stdout",
     "output_type": "stream",
     "text": [
      "accuracy: 75.00 pct\n"
     ]
    }
   ],
   "source": [
    "from sklearn.linear_model import LogisticRegression\n",
    "from sklearn.model_selection import train_test_split\n",
    "from sklearn.metrics import accuracy_score\n",
    "\n",
    "X_train, X_test, y_train, y_test = train_test_split(df['value'].apply(pd.Series), df['tag'], test_size=0.25, random_state=2024)\n",
    "model = LogisticRegression(max_iter=100000)\n",
    "model.fit(X_train, y_train)\n",
    "\n",
    "print('accuracy: {:5.2f} pct'.format(100 * accuracy_score(y_test, model.predict(X_test))))"
   ]
  },
  {
   "cell_type": "markdown",
   "id": "3951143a",
   "metadata": {
    "papermill": {
     "duration": 0.020854,
     "end_time": "2024-02-20T16:26:04.431823",
     "exception": false,
     "start_time": "2024-02-20T16:26:04.410969",
     "status": "completed"
    },
    "tags": []
   },
   "source": [
    "Of course our accuracy doesn't tell the whole story, so let's build a classification report."
   ]
  },
  {
   "cell_type": "code",
   "execution_count": 8,
   "id": "dc375e51",
   "metadata": {
    "execution": {
     "iopub.execute_input": "2024-02-20T16:26:04.479671Z",
     "iopub.status.busy": "2024-02-20T16:26:04.478568Z",
     "iopub.status.idle": "2024-02-20T16:26:04.542653Z",
     "shell.execute_reply": "2024-02-20T16:26:04.541431Z"
    },
    "papermill": {
     "duration": 0.093676,
     "end_time": "2024-02-20T16:26:04.548106",
     "exception": false,
     "start_time": "2024-02-20T16:26:04.454430",
     "status": "completed"
    },
    "tags": []
   },
   "outputs": [
    {
     "name": "stdout",
     "output_type": "stream",
     "text": [
      "              precision    recall  f1-score   support\n",
      "\n",
      "          ai       0.80      0.78      0.79       135\n",
      "        real       0.68      0.71      0.69        89\n",
      "\n",
      "    accuracy                           0.75       224\n",
      "   macro avg       0.74      0.74      0.74       224\n",
      "weighted avg       0.75      0.75      0.75       224\n",
      "\n"
     ]
    }
   ],
   "source": [
    "from sklearn.metrics import classification_report\n",
    "print(classification_report(y_true = y_test, y_pred = model.predict(X_test)))"
   ]
  },
  {
   "cell_type": "markdown",
   "id": "3a0b3f3c",
   "metadata": {
    "papermill": {
     "duration": 0.02165,
     "end_time": "2024-02-20T16:26:04.591633",
     "exception": false,
     "start_time": "2024-02-20T16:26:04.569983",
     "status": "completed"
    },
    "tags": []
   },
   "source": [
    "Our classes are somewhat unbalanced; our model does a better job of finding generated images than real images, but this is not a terrible result for a first look."
   ]
  }
 ],
 "metadata": {
  "kaggle": {
   "accelerator": "none",
   "dataSources": [
    {
     "datasetId": 4423404,
     "sourceId": 7598969,
     "sourceType": "datasetVersion"
    }
   ],
   "dockerImageVersionId": 30646,
   "isGpuEnabled": false,
   "isInternetEnabled": true,
   "language": "python",
   "sourceType": "notebook"
  },
  "kernelspec": {
   "display_name": "Python 3",
   "language": "python",
   "name": "python3"
  },
  "language_info": {
   "codemirror_mode": {
    "name": "ipython",
    "version": 3
   },
   "file_extension": ".py",
   "mimetype": "text/x-python",
   "name": "python",
   "nbconvert_exporter": "python",
   "pygments_lexer": "ipython3",
   "version": "3.10.13"
  },
  "papermill": {
   "default_parameters": {},
   "duration": 200.401895,
   "end_time": "2024-02-20T16:26:08.199521",
   "environment_variables": {},
   "exception": null,
   "input_path": "__notebook__.ipynb",
   "output_path": "__notebook__.ipynb",
   "parameters": {},
   "start_time": "2024-02-20T16:22:47.797626",
   "version": "2.5.0"
  },
  "widgets": {
   "application/vnd.jupyter.widget-state+json": {
    "state": {
     "02cf0179545942a7b69cf776ab3cb916": {
      "model_module": "@jupyter-widgets/controls",
      "model_module_version": "1.5.0",
      "model_name": "DescriptionStyleModel",
      "state": {
       "_model_module": "@jupyter-widgets/controls",
       "_model_module_version": "1.5.0",
       "_model_name": "DescriptionStyleModel",
       "_view_count": null,
       "_view_module": "@jupyter-widgets/base",
       "_view_module_version": "1.2.0",
       "_view_name": "StyleView",
       "description_width": ""
      }
     },
     "07160f77d45d4055bacc8fcd7a6e77ec": {
      "model_module": "@jupyter-widgets/controls",
      "model_module_version": "1.5.0",
      "model_name": "DescriptionStyleModel",
      "state": {
       "_model_module": "@jupyter-widgets/controls",
       "_model_module_version": "1.5.0",
       "_model_name": "DescriptionStyleModel",
       "_view_count": null,
       "_view_module": "@jupyter-widgets/base",
       "_view_module_version": "1.2.0",
       "_view_name": "StyleView",
       "description_width": ""
      }
     },
     "081c5b214f6d4db28915082776fac5cc": {
      "model_module": "@jupyter-widgets/controls",
      "model_module_version": "1.5.0",
      "model_name": "HTMLModel",
      "state": {
       "_dom_classes": [],
       "_model_module": "@jupyter-widgets/controls",
       "_model_module_version": "1.5.0",
       "_model_name": "HTMLModel",
       "_view_count": null,
       "_view_module": "@jupyter-widgets/controls",
       "_view_module_version": "1.5.0",
       "_view_name": "HTMLView",
       "description": "",
       "description_tooltip": null,
       "layout": "IPY_MODEL_2408a06621824e8f9826f578a215baa0",
       "placeholder": "​",
       "style": "IPY_MODEL_02cf0179545942a7b69cf776ab3cb916",
       "value": "Epochs completed: 100%| "
      }
     },
     "1741c797602b4edc92f9fe90cee7ff61": {
      "model_module": "@jupyter-widgets/base",
      "model_module_version": "1.2.0",
      "model_name": "LayoutModel",
      "state": {
       "_model_module": "@jupyter-widgets/base",
       "_model_module_version": "1.2.0",
       "_model_name": "LayoutModel",
       "_view_count": null,
       "_view_module": "@jupyter-widgets/base",
       "_view_module_version": "1.2.0",
       "_view_name": "LayoutView",
       "align_content": null,
       "align_items": null,
       "align_self": null,
       "border": null,
       "bottom": null,
       "display": null,
       "flex": null,
       "flex_flow": null,
       "grid_area": null,
       "grid_auto_columns": null,
       "grid_auto_flow": null,
       "grid_auto_rows": null,
       "grid_column": null,
       "grid_gap": null,
       "grid_row": null,
       "grid_template_areas": null,
       "grid_template_columns": null,
       "grid_template_rows": null,
       "height": null,
       "justify_content": null,
       "justify_items": null,
       "left": null,
       "margin": null,
       "max_height": null,
       "max_width": null,
       "min_height": null,
       "min_width": null,
       "object_fit": null,
       "object_position": null,
       "order": null,
       "overflow": null,
       "overflow_x": null,
       "overflow_y": null,
       "padding": null,
       "right": null,
       "top": null,
       "visibility": null,
       "width": null
      }
     },
     "1bf184fb7db74b5e9981c7589d322448": {
      "model_module": "@jupyter-widgets/controls",
      "model_module_version": "1.5.0",
      "model_name": "HTMLModel",
      "state": {
       "_dom_classes": [],
       "_model_module": "@jupyter-widgets/controls",
       "_model_module_version": "1.5.0",
       "_model_name": "HTMLModel",
       "_view_count": null,
       "_view_module": "@jupyter-widgets/controls",
       "_view_module_version": "1.5.0",
       "_view_name": "HTMLView",
       "description": "",
       "description_tooltip": null,
       "layout": "IPY_MODEL_1741c797602b4edc92f9fe90cee7ff61",
       "placeholder": "​",
       "style": "IPY_MODEL_07160f77d45d4055bacc8fcd7a6e77ec",
       "value": " 500/500 [00:03]"
      }
     },
     "2408a06621824e8f9826f578a215baa0": {
      "model_module": "@jupyter-widgets/base",
      "model_module_version": "1.2.0",
      "model_name": "LayoutModel",
      "state": {
       "_model_module": "@jupyter-widgets/base",
       "_model_module_version": "1.2.0",
       "_model_name": "LayoutModel",
       "_view_count": null,
       "_view_module": "@jupyter-widgets/base",
       "_view_module_version": "1.2.0",
       "_view_name": "LayoutView",
       "align_content": null,
       "align_items": null,
       "align_self": null,
       "border": null,
       "bottom": null,
       "display": null,
       "flex": null,
       "flex_flow": null,
       "grid_area": null,
       "grid_auto_columns": null,
       "grid_auto_flow": null,
       "grid_auto_rows": null,
       "grid_column": null,
       "grid_gap": null,
       "grid_row": null,
       "grid_template_areas": null,
       "grid_template_columns": null,
       "grid_template_rows": null,
       "height": null,
       "justify_content": null,
       "justify_items": null,
       "left": null,
       "margin": null,
       "max_height": null,
       "max_width": null,
       "min_height": null,
       "min_width": null,
       "object_fit": null,
       "object_position": null,
       "order": null,
       "overflow": null,
       "overflow_x": null,
       "overflow_y": null,
       "padding": null,
       "right": null,
       "top": null,
       "visibility": null,
       "width": null
      }
     },
     "4df3cab01d17421cb98e855a5f570ae6": {
      "model_module": "@jupyter-widgets/base",
      "model_module_version": "1.2.0",
      "model_name": "LayoutModel",
      "state": {
       "_model_module": "@jupyter-widgets/base",
       "_model_module_version": "1.2.0",
       "_model_name": "LayoutModel",
       "_view_count": null,
       "_view_module": "@jupyter-widgets/base",
       "_view_module_version": "1.2.0",
       "_view_name": "LayoutView",
       "align_content": null,
       "align_items": null,
       "align_self": null,
       "border": null,
       "bottom": null,
       "display": null,
       "flex": null,
       "flex_flow": null,
       "grid_area": null,
       "grid_auto_columns": null,
       "grid_auto_flow": null,
       "grid_auto_rows": null,
       "grid_column": null,
       "grid_gap": null,
       "grid_row": null,
       "grid_template_areas": null,
       "grid_template_columns": null,
       "grid_template_rows": null,
       "height": null,
       "justify_content": null,
       "justify_items": null,
       "left": null,
       "margin": null,
       "max_height": null,
       "max_width": null,
       "min_height": null,
       "min_width": null,
       "object_fit": null,
       "object_position": null,
       "order": null,
       "overflow": null,
       "overflow_x": null,
       "overflow_y": null,
       "padding": null,
       "right": null,
       "top": null,
       "visibility": null,
       "width": null
      }
     },
     "5667f370dba6436794bcc372357f4086": {
      "model_module": "@jupyter-widgets/controls",
      "model_module_version": "1.5.0",
      "model_name": "FloatProgressModel",
      "state": {
       "_dom_classes": [],
       "_model_module": "@jupyter-widgets/controls",
       "_model_module_version": "1.5.0",
       "_model_name": "FloatProgressModel",
       "_view_count": null,
       "_view_module": "@jupyter-widgets/controls",
       "_view_module_version": "1.5.0",
       "_view_name": "ProgressView",
       "bar_style": "success",
       "description": "",
       "description_tooltip": null,
       "layout": "IPY_MODEL_d2e77f738e86402d90dece9a7e069327",
       "max": 500.0,
       "min": 0.0,
       "orientation": "horizontal",
       "style": "IPY_MODEL_d3b2e7e3680344c98b0abbb326e72d0c",
       "value": 500.0
      }
     },
     "d2e77f738e86402d90dece9a7e069327": {
      "model_module": "@jupyter-widgets/base",
      "model_module_version": "1.2.0",
      "model_name": "LayoutModel",
      "state": {
       "_model_module": "@jupyter-widgets/base",
       "_model_module_version": "1.2.0",
       "_model_name": "LayoutModel",
       "_view_count": null,
       "_view_module": "@jupyter-widgets/base",
       "_view_module_version": "1.2.0",
       "_view_name": "LayoutView",
       "align_content": null,
       "align_items": null,
       "align_self": null,
       "border": null,
       "bottom": null,
       "display": null,
       "flex": null,
       "flex_flow": null,
       "grid_area": null,
       "grid_auto_columns": null,
       "grid_auto_flow": null,
       "grid_auto_rows": null,
       "grid_column": null,
       "grid_gap": null,
       "grid_row": null,
       "grid_template_areas": null,
       "grid_template_columns": null,
       "grid_template_rows": null,
       "height": null,
       "justify_content": null,
       "justify_items": null,
       "left": null,
       "margin": null,
       "max_height": null,
       "max_width": null,
       "min_height": null,
       "min_width": null,
       "object_fit": null,
       "object_position": null,
       "order": null,
       "overflow": null,
       "overflow_x": null,
       "overflow_y": null,
       "padding": null,
       "right": null,
       "top": null,
       "visibility": null,
       "width": null
      }
     },
     "d3b2e7e3680344c98b0abbb326e72d0c": {
      "model_module": "@jupyter-widgets/controls",
      "model_module_version": "1.5.0",
      "model_name": "ProgressStyleModel",
      "state": {
       "_model_module": "@jupyter-widgets/controls",
       "_model_module_version": "1.5.0",
       "_model_name": "ProgressStyleModel",
       "_view_count": null,
       "_view_module": "@jupyter-widgets/base",
       "_view_module_version": "1.2.0",
       "_view_name": "StyleView",
       "bar_color": null,
       "description_width": ""
      }
     },
     "d4fede9d2896418886dc1c1f8355d690": {
      "model_module": "@jupyter-widgets/controls",
      "model_module_version": "1.5.0",
      "model_name": "HBoxModel",
      "state": {
       "_dom_classes": [],
       "_model_module": "@jupyter-widgets/controls",
       "_model_module_version": "1.5.0",
       "_model_name": "HBoxModel",
       "_view_count": null,
       "_view_module": "@jupyter-widgets/controls",
       "_view_module_version": "1.5.0",
       "_view_name": "HBoxView",
       "box_style": "",
       "children": [
        "IPY_MODEL_081c5b214f6d4db28915082776fac5cc",
        "IPY_MODEL_5667f370dba6436794bcc372357f4086",
        "IPY_MODEL_1bf184fb7db74b5e9981c7589d322448"
       ],
       "layout": "IPY_MODEL_4df3cab01d17421cb98e855a5f570ae6"
      }
     }
    },
    "version_major": 2,
    "version_minor": 0
   }
  }
 },
 "nbformat": 4,
 "nbformat_minor": 5
}
