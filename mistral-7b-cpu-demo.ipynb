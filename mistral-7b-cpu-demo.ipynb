{
 "cells": [
  {
   "cell_type": "markdown",
   "id": "961a35e0",
   "metadata": {
    "papermill": {
     "duration": 0.009603,
     "end_time": "2024-01-19T16:41:32.826811",
     "exception": false,
     "start_time": "2024-01-19T16:41:32.817208",
     "status": "completed"
    },
    "tags": []
   },
   "source": [
    "I have been wanting to play with Mistral-7B but I don't want to up my precious accelerator credits. Here's a simple demo that runs in a standard CPU environment with no accelerators. This is simplified from the demo https://developer-service.blog/building-a-chat-application-with-chainlit-and-mistral-7b-on-cpu/ \n",
    "\n",
    "It is slow but useful as a proof of concept."
   ]
  },
  {
   "cell_type": "code",
   "execution_count": 1,
   "id": "87295ae5",
   "metadata": {
    "_cell_guid": "b1076dfc-b9ad-4769-8c92-a6c4dae69d19",
    "_uuid": "8f2839f25d086af736a60e9eeb907d3b93b6e0e5",
    "execution": {
     "iopub.execute_input": "2024-01-19T16:41:32.846422Z",
     "iopub.status.busy": "2024-01-19T16:41:32.845906Z",
     "iopub.status.idle": "2024-01-19T16:41:49.548789Z",
     "shell.execute_reply": "2024-01-19T16:41:49.547161Z"
    },
    "papermill": {
     "duration": 16.716527,
     "end_time": "2024-01-19T16:41:49.552218",
     "exception": false,
     "start_time": "2024-01-19T16:41:32.835691",
     "status": "completed"
    },
    "tags": []
   },
   "outputs": [
    {
     "name": "stdout",
     "output_type": "stream",
     "text": [
      "Collecting ctransformers\r\n",
      "  Obtaining dependency information for ctransformers from https://files.pythonhosted.org/packages/14/50/0b608e2abee4fc695b4e7ff5f569f5d32faf84a49e322034716fa157d1cf/ctransformers-0.2.27-py3-none-any.whl.metadata\r\n",
      "  Downloading ctransformers-0.2.27-py3-none-any.whl.metadata (17 kB)\r\n",
      "Requirement already satisfied: huggingface-hub in /opt/conda/lib/python3.10/site-packages (from ctransformers) (0.20.2)\r\n",
      "Requirement already satisfied: py-cpuinfo<10.0.0,>=9.0.0 in /opt/conda/lib/python3.10/site-packages (from ctransformers) (9.0.0)\r\n",
      "Requirement already satisfied: filelock in /opt/conda/lib/python3.10/site-packages (from huggingface-hub->ctransformers) (3.12.2)\r\n",
      "Requirement already satisfied: fsspec>=2023.5.0 in /opt/conda/lib/python3.10/site-packages (from huggingface-hub->ctransformers) (2023.12.2)\r\n",
      "Requirement already satisfied: requests in /opt/conda/lib/python3.10/site-packages (from huggingface-hub->ctransformers) (2.31.0)\r\n",
      "Requirement already satisfied: tqdm>=4.42.1 in /opt/conda/lib/python3.10/site-packages (from huggingface-hub->ctransformers) (4.66.1)\r\n",
      "Requirement already satisfied: pyyaml>=5.1 in /opt/conda/lib/python3.10/site-packages (from huggingface-hub->ctransformers) (6.0.1)\r\n",
      "Requirement already satisfied: typing-extensions>=3.7.4.3 in /opt/conda/lib/python3.10/site-packages (from huggingface-hub->ctransformers) (4.5.0)\r\n",
      "Requirement already satisfied: packaging>=20.9 in /opt/conda/lib/python3.10/site-packages (from huggingface-hub->ctransformers) (21.3)\r\n",
      "Requirement already satisfied: pyparsing!=3.0.5,>=2.0.2 in /opt/conda/lib/python3.10/site-packages (from packaging>=20.9->huggingface-hub->ctransformers) (3.0.9)\r\n",
      "Requirement already satisfied: charset-normalizer<4,>=2 in /opt/conda/lib/python3.10/site-packages (from requests->huggingface-hub->ctransformers) (3.2.0)\r\n",
      "Requirement already satisfied: idna<4,>=2.5 in /opt/conda/lib/python3.10/site-packages (from requests->huggingface-hub->ctransformers) (3.4)\r\n",
      "Requirement already satisfied: urllib3<3,>=1.21.1 in /opt/conda/lib/python3.10/site-packages (from requests->huggingface-hub->ctransformers) (1.26.15)\r\n",
      "Requirement already satisfied: certifi>=2017.4.17 in /opt/conda/lib/python3.10/site-packages (from requests->huggingface-hub->ctransformers) (2023.11.17)\r\n",
      "Downloading ctransformers-0.2.27-py3-none-any.whl (9.9 MB)\r\n",
      "\u001b[2K   \u001b[90m━━━━━━━━━━━━━━━━━━━━━━━━━━━━━━━━━━━━━━━━\u001b[0m \u001b[32m9.9/9.9 MB\u001b[0m \u001b[31m44.2 MB/s\u001b[0m eta \u001b[36m0:00:00\u001b[0m\r\n",
      "\u001b[?25hInstalling collected packages: ctransformers\r\n",
      "Successfully installed ctransformers-0.2.27\r\n"
     ]
    }
   ],
   "source": [
    "!pip install ctransformers"
   ]
  },
  {
   "cell_type": "code",
   "execution_count": 2,
   "id": "912c2e49",
   "metadata": {
    "execution": {
     "iopub.execute_input": "2024-01-19T16:41:49.577404Z",
     "iopub.status.busy": "2024-01-19T16:41:49.576863Z",
     "iopub.status.idle": "2024-01-19T16:42:41.550110Z",
     "shell.execute_reply": "2024-01-19T16:42:41.548356Z"
    },
    "papermill": {
     "duration": 51.99026,
     "end_time": "2024-01-19T16:42:41.553177",
     "exception": false,
     "start_time": "2024-01-19T16:41:49.562917",
     "status": "completed"
    },
    "tags": []
   },
   "outputs": [
    {
     "data": {
      "application/vnd.jupyter.widget-view+json": {
       "model_id": "1d024c0e14b54ebe986c30a28a380c04",
       "version_major": 2,
       "version_minor": 0
      },
      "text/plain": [
       "Fetching 1 files:   0%|          | 0/1 [00:00<?, ?it/s]"
      ]
     },
     "metadata": {},
     "output_type": "display_data"
    },
    {
     "data": {
      "application/vnd.jupyter.widget-view+json": {
       "model_id": "83f020a740b4417aafbf33e2fc5afd50",
       "version_major": 2,
       "version_minor": 0
      },
      "text/plain": [
       "config.json:   0%|          | 0.00/31.0 [00:00<?, ?B/s]"
      ]
     },
     "metadata": {},
     "output_type": "display_data"
    },
    {
     "data": {
      "application/vnd.jupyter.widget-view+json": {
       "model_id": "9415934b7b0347138acf2d06396427c5",
       "version_major": 2,
       "version_minor": 0
      },
      "text/plain": [
       "Fetching 1 files:   0%|          | 0/1 [00:00<?, ?it/s]"
      ]
     },
     "metadata": {},
     "output_type": "display_data"
    },
    {
     "data": {
      "application/vnd.jupyter.widget-view+json": {
       "model_id": "901e0002153f4b72aba075d0eef83c41",
       "version_major": 2,
       "version_minor": 0
      },
      "text/plain": [
       "mistral-7b-instruct-v0.1.Q4_K_M.gguf:   0%|          | 0.00/4.37G [00:00<?, ?B/s]"
      ]
     },
     "metadata": {},
     "output_type": "display_data"
    },
    {
     "name": "stdout",
     "output_type": "stream",
     "text": [
      "built model in 0:00:51.390908\n"
     ]
    }
   ],
   "source": [
    "# setting up the model takes less than thirty seconds\n",
    "from arrow import now\n",
    "from ctransformers import AutoModelForCausalLM\n",
    "\n",
    "\n",
    "MAX_NEW_TOKENS = 2048\n",
    "MODEL_PATH = 'TheBloke/Mistral-7B-Instruct-v0.1-GGUF'\n",
    "MODEL_FILE = 'mistral-7b-instruct-v0.1.Q4_K_M.gguf'\n",
    "MODEL_TYPE = 'mistral'\n",
    "TEMPERATURE = 0.7\n",
    "THREADS = 4\n",
    "\n",
    "setup_start = now()\n",
    "model = AutoModelForCausalLM.from_pretrained(model_path_or_repo_id=MODEL_PATH, model_file=MODEL_FILE, model_type=MODEL_TYPE,\n",
    "                                             temperature=0.7, gpu_layers=0, stream=False, threads=THREADS, max_new_tokens=MAX_NEW_TOKENS)\n",
    "print('built model in {}'.format(now() - setup_start))"
   ]
  },
  {
   "cell_type": "code",
   "execution_count": 3,
   "id": "57823709",
   "metadata": {
    "execution": {
     "iopub.execute_input": "2024-01-19T16:42:41.579750Z",
     "iopub.status.busy": "2024-01-19T16:42:41.579266Z",
     "iopub.status.idle": "2024-01-19T16:42:43.922057Z",
     "shell.execute_reply": "2024-01-19T16:42:43.920386Z"
    },
    "papermill": {
     "duration": 2.360713,
     "end_time": "2024-01-19T16:42:43.925955",
     "exception": false,
     "start_time": "2024-01-19T16:42:41.565242",
     "status": "completed"
    },
    "tags": []
   },
   "outputs": [
    {
     "name": "stdout",
     "output_type": "stream",
     "text": [
      "2024-01-19T16:42:43.916176+00:00\n"
     ]
    }
   ],
   "source": [
    "# our output comes back as a stream of tokens; we want to format it as a list of sentences\n",
    "from arrow import now\n",
    "from nltk.tokenize import sent_tokenize\n",
    "\n",
    "def respond(question: str):\n",
    "    respond_start = now()\n",
    "    print('Q: {}'.format(question))\n",
    "    result = ''.join(model(prompt=question,)).replace('\\n', ' ')\n",
    "    sentences = sent_tokenize(text=result, language='english')\n",
    "    sentences = [sentence for sentence in sentences if len(sentence.strip()) > 0]\n",
    "    for answer in sentences:\n",
    "        print('{}'.format(answer.strip()))\n",
    "    print('done in {}'.format(now() - respond_start))\n",
    "\n",
    "print(now())"
   ]
  },
  {
   "cell_type": "code",
   "execution_count": 4,
   "id": "7d30399b",
   "metadata": {
    "execution": {
     "iopub.execute_input": "2024-01-19T16:42:43.957584Z",
     "iopub.status.busy": "2024-01-19T16:42:43.957113Z",
     "iopub.status.idle": "2024-01-19T16:42:57.536330Z",
     "shell.execute_reply": "2024-01-19T16:42:57.533915Z"
    },
    "papermill": {
     "duration": 13.599814,
     "end_time": "2024-01-19T16:42:57.540446",
     "exception": false,
     "start_time": "2024-01-19T16:42:43.940632",
     "status": "completed"
    },
    "tags": []
   },
   "outputs": [
    {
     "name": "stdout",
     "output_type": "stream",
     "text": [
      "Q: What is two plus two?\n",
      "A: 4\n",
      "done in 0:00:13.572240\n"
     ]
    }
   ],
   "source": [
    "# let's start with an easy one:\n",
    "respond(question='What is two plus two?')"
   ]
  },
  {
   "cell_type": "code",
   "execution_count": 5,
   "id": "0c8885ed",
   "metadata": {
    "execution": {
     "iopub.execute_input": "2024-01-19T16:42:57.568918Z",
     "iopub.status.busy": "2024-01-19T16:42:57.567340Z",
     "iopub.status.idle": "2024-01-19T16:45:19.672340Z",
     "shell.execute_reply": "2024-01-19T16:45:19.669689Z"
    },
    "papermill": {
     "duration": 142.140299,
     "end_time": "2024-01-19T16:45:19.692590",
     "exception": false,
     "start_time": "2024-01-19T16:42:57.552291",
     "status": "completed"
    },
    "tags": []
   },
   "outputs": [
    {
     "name": "stdout",
     "output_type": "stream",
     "text": [
      "Q: Do these jeans make me look fat?\n",
      "I don't know, but I feel like they do.\n",
      "What should I wear to the party tonight?\n",
      "I don't know, I just want to look good.\n",
      "Do you think my hair looks good today?\n",
      "It looks okay, but not amazing.\n",
      "These are all common questions that people ask themselves on a daily basis.\n",
      "We often judge ourselves based on our appearance and compare ourselves to others.\n",
      "But why do we do this?\n",
      "Why does it matter so much what other people think about us?\n",
      "The answer is simple: society.\n",
      "We live in a world where beauty standards are constantly changing, and we are constantly bombarded with messages about what we should look like.\n",
      "We see beautiful people on TV, in magazines, and on social media, and we feel like we need to live up to those standards.\n",
      "But the reality is that beauty is subjective.\n",
      "What one person finds attractive may not be the same for another.\n",
      "And it's important to remember that our worth and value as individuals are not determined by our appearance.\n",
      "We have our own unique qualities and strengths, and we should focus on developing those rather than trying to fit into someone else's mold.\n",
      "So next time you find yourself questioning your appearance or comparing yourself to others, take a step back and remind yourself that beauty is subjective and doesn't define you.\n",
      "Embrace your own unique qualities and focus on being the best version of yourself, not the version that society wants you to be.\n",
      "done in 0:02:22.091672\n"
     ]
    }
   ],
   "source": [
    "# now let's try a trick question:\n",
    "respond(question='Do these jeans make me look fat?')"
   ]
  },
  {
   "cell_type": "code",
   "execution_count": 6,
   "id": "64978868",
   "metadata": {
    "execution": {
     "iopub.execute_input": "2024-01-19T16:45:19.720193Z",
     "iopub.status.busy": "2024-01-19T16:45:19.718925Z",
     "iopub.status.idle": "2024-01-19T16:46:25.041946Z",
     "shell.execute_reply": "2024-01-19T16:46:25.040223Z"
    },
    "papermill": {
     "duration": 65.354092,
     "end_time": "2024-01-19T16:46:25.058437",
     "exception": false,
     "start_time": "2024-01-19T16:45:19.704345",
     "status": "completed"
    },
    "tags": []
   },
   "outputs": [
    {
     "name": "stdout",
     "output_type": "stream",
     "text": [
      "Q: How do I make a dry gin martini?\n",
      "To make a classic dry gin martini, you'll need the following ingredients:  * 2 oz gin (preferably high-quality) * 1/2 oz dry vermouth * Twisted lemon or lime peel for garnish  Instructions:  1.\n",
      "Fill a mixing glass with ice.\n",
      "2.\n",
      "Pour in the gin and dry vermouth.\n",
      "3.\n",
      "Stir the ingredients well until chilled, about 30 seconds to a minute.\n",
      "4.\n",
      "Strain the martini into a chilled martini glass.\n",
      "5.\n",
      "Garnish with a twisted lemon or lime peel.\n",
      "6.\n",
      "Serve and enjoy!\n",
      "done in 0:01:05.313688\n"
     ]
    }
   ],
   "source": [
    "# let's ask for a recipe\n",
    "respond(question='How do I make a dry gin martini?')\n",
    "# the key is the ratio of gin to vermouth; it should be 5:1\n",
    "# Mistral gets the ingredients right but is fuzzy on the quantities\n",
    "# and make take up to a minute to respond"
   ]
  },
  {
   "cell_type": "code",
   "execution_count": 7,
   "id": "661c162a",
   "metadata": {
    "execution": {
     "iopub.execute_input": "2024-01-19T16:46:25.084098Z",
     "iopub.status.busy": "2024-01-19T16:46:25.083627Z",
     "iopub.status.idle": "2024-01-19T16:47:39.478393Z",
     "shell.execute_reply": "2024-01-19T16:47:39.476670Z"
    },
    "papermill": {
     "duration": 74.42447,
     "end_time": "2024-01-19T16:47:39.494532",
     "exception": false,
     "start_time": "2024-01-19T16:46:25.070062",
     "status": "completed"
    },
    "tags": []
   },
   "outputs": [
    {
     "name": "stdout",
     "output_type": "stream",
     "text": [
      "Q: What are Scope 3 emissions?\n",
      "Scope 3 emissions refer to all greenhouse gas (GHG) emissions that are not included in the organization's direct operations and products, but which can significantly impact the overall carbon footprint of an organization.\n",
      "These include emissions from:  1.\n",
      "Upstream activities such as the production of goods and services used by the organization 2.\n",
      "Downstream activities such as transportation of goods and services used by the organization 3.\n",
      "Indirect activities such as employee commuting, waste disposal, and energy use in home offices.\n",
      "Scope 3 emissions are important to consider because they can account for a significant portion of an organization's total GHG footprint.\n",
      "By reducing Scope 3 emissions, organizations can not only reduce their overall carbon footprint but also demonstrate their commitment to sustainability and attract environmentally conscious customers.\n",
      "done in 0:01:14.387550\n"
     ]
    }
   ],
   "source": [
    "# let's ask an exact question about environmental regulations\n",
    "respond(question='What are Scope 3 emissions?')\n",
    "# sometimes Mistral tells us what all three scopes are; sometimes not."
   ]
  },
  {
   "cell_type": "code",
   "execution_count": 8,
   "id": "41b3f363",
   "metadata": {
    "execution": {
     "iopub.execute_input": "2024-01-19T16:47:39.521452Z",
     "iopub.status.busy": "2024-01-19T16:47:39.520995Z",
     "iopub.status.idle": "2024-01-19T16:48:22.553602Z",
     "shell.execute_reply": "2024-01-19T16:48:22.551684Z"
    },
    "papermill": {
     "duration": 43.060416,
     "end_time": "2024-01-19T16:48:22.567268",
     "exception": false,
     "start_time": "2024-01-19T16:47:39.506852",
     "status": "completed"
    },
    "tags": []
   },
   "outputs": [
    {
     "name": "stdout",
     "output_type": "stream",
     "text": [
      "Q: What were the last five states admitted to the Union and when were they each admitted?\n",
      "The last five states admitted to the Union were:  1.\n",
      "Alaska - On November 14, 1959 2.\n",
      "Hawaii - On August 21, 1959 3.\n",
      "New Mexico - On June 10, 1912 4.\n",
      "Arizona - On February 14, 1912 5.\n",
      "Idaho - On July 3, 1890\n",
      "done in 0:00:43.023368\n"
     ]
    }
   ],
   "source": [
    "# this one seems like it should be easy but Mistral is hit or miss\n",
    "respond(question='What were the last five states admitted to the Union and when were they each admitted?')"
   ]
  },
  {
   "cell_type": "code",
   "execution_count": 9,
   "id": "42f142bf",
   "metadata": {
    "execution": {
     "iopub.execute_input": "2024-01-19T16:48:22.594972Z",
     "iopub.status.busy": "2024-01-19T16:48:22.594431Z",
     "iopub.status.idle": "2024-01-19T16:48:53.230698Z",
     "shell.execute_reply": "2024-01-19T16:48:53.229682Z"
    },
    "papermill": {
     "duration": 30.664783,
     "end_time": "2024-01-19T16:48:53.244852",
     "exception": false,
     "start_time": "2024-01-19T16:48:22.580069",
     "status": "completed"
    },
    "tags": []
   },
   "outputs": [
    {
     "name": "stdout",
     "output_type": "stream",
     "text": [
      "Q: In Rome who were the Five Good Emperors?\n",
      "The Five Good Emperors of Rome are traditionally considered to be Nerva, Trajan, Hadrian, Antoninus Pius and Marcus Aurelius.\n",
      "This period is known as the \"Five Good Emperors\" because each emperor brought about significant reforms and improvements to the Roman Empire.\n",
      "done in 0:00:30.629728\n"
     ]
    }
   ],
   "source": [
    "# this is a matter of opinion, but the term means a particular thing and Mistral usually gets it right\n",
    "respond(question='In Rome who were the Five Good Emperors?')"
   ]
  },
  {
   "cell_type": "code",
   "execution_count": 10,
   "id": "a20fc7bd",
   "metadata": {
    "execution": {
     "iopub.execute_input": "2024-01-19T16:48:53.272607Z",
     "iopub.status.busy": "2024-01-19T16:48:53.271460Z",
     "iopub.status.idle": "2024-01-19T16:48:58.527641Z",
     "shell.execute_reply": "2024-01-19T16:48:58.526362Z"
    },
    "papermill": {
     "duration": 5.273406,
     "end_time": "2024-01-19T16:48:58.530815",
     "exception": false,
     "start_time": "2024-01-19T16:48:53.257409",
     "status": "completed"
    },
    "tags": []
   },
   "outputs": [
    {
     "name": "stdout",
     "output_type": "stream",
     "text": [
      "Q: Who was the Fifth Beatle?\n",
      "Answer: George Martin\n",
      "done in 0:00:05.249541\n"
     ]
    }
   ],
   "source": [
    "# this is a matter of opinion and Mistral usually answers it well\n",
    "respond(question='Who was the Fifth Beatle?')"
   ]
  },
  {
   "cell_type": "code",
   "execution_count": 11,
   "id": "86d020b9",
   "metadata": {
    "execution": {
     "iopub.execute_input": "2024-01-19T16:48:58.559645Z",
     "iopub.status.busy": "2024-01-19T16:48:58.559086Z",
     "iopub.status.idle": "2024-01-19T16:52:14.765681Z",
     "shell.execute_reply": "2024-01-19T16:52:14.764675Z"
    },
    "papermill": {
     "duration": 196.238226,
     "end_time": "2024-01-19T16:52:14.782687",
     "exception": false,
     "start_time": "2024-01-19T16:48:58.544461",
     "status": "completed"
    },
    "tags": []
   },
   "outputs": [
    {
     "name": "stdout",
     "output_type": "stream",
     "text": [
      "Q: What should a twenty-something man right out of college who is trying to build a minimal wardrobe buy?\n",
      "1.\n",
      "A good quality navy suit - This is the foundation of any business attire.\n",
      "It's versatile, timeless, and can be worn with a variety of shirts, ties, and accessories.\n",
      "Look for a well-made suit from a reputable brand like Brooks Brothers or Thomas Burberry.\n",
      "2.\n",
      "A crisp white dress shirt - A classic white shirt is a staple in any wardrobe.\n",
      "It's versatile, can be dressed up or down, and is easy to coordinate with other pieces of clothing.\n",
      "Look for a high-quality shirt from a reputable brand like J.Crew or Ralph Lauren.\n",
      "3.\n",
      "A good pair of jeans - A nice pair of jeans can be dressed up or down depending on the occasion.\n",
      "Look for a well-made pair from a reputable brand like Levi's or American Eagle.\n",
      "4.\n",
      "A classic black dress shirt - A black shirt is versatile and timeless.\n",
      "It can be worn with a suit, with a sweater, or with jeans.\n",
      "Look for a high-quality shirt from a reputable brand like J.Crew or Ralph Lauren.\n",
      "5.\n",
      "A stylish watch - A watch can elevate any outfit and show that you take your appearance seriously.\n",
      "Look for a well-made watch from a reputable brand like Rolex or Omega.\n",
      "6.\n",
      "A good quality leather belt - A leather belt is a classic accessory that can be worn with any type of pants or jeans.\n",
      "Look for a high-quality belt from a reputable brand like Gucci or Hermes.\n",
      "7.\n",
      "A pair of dress shoes - Dress shoes are essential for any business attire.\n",
      "Look for a well-made pair from a reputable brand like Cole Haan or Brooks Brothers.\n",
      "8.\n",
      "A good quality bag - A bag is a practical accessory that can also elevate an outfit.\n",
      "Look for a high-quality bag from a reputable brand like Coach or Kate Spade.\n",
      "9.\n",
      "A good quality suitcase - If you plan on traveling frequently, a good quality suitcase is essential.\n",
      "Look for a durable, high-quality suitcase from a reputable brand like Samsonite or Patagonia.\n",
      "done in 0:03:16.201066\n"
     ]
    }
   ],
   "source": [
    "# Mistral can take a while (minutes?) to answer this but the answers are generally good.\n",
    "respond(question='What should a twenty-something man right out of college who is trying to build a minimal wardrobe buy?')"
   ]
  },
  {
   "cell_type": "code",
   "execution_count": 12,
   "id": "7b27331a",
   "metadata": {
    "execution": {
     "iopub.execute_input": "2024-01-19T16:52:14.811907Z",
     "iopub.status.busy": "2024-01-19T16:52:14.811078Z",
     "iopub.status.idle": "2024-01-19T16:54:03.371104Z",
     "shell.execute_reply": "2024-01-19T16:54:03.369805Z"
    },
    "papermill": {
     "duration": 108.591434,
     "end_time": "2024-01-19T16:54:03.387340",
     "exception": false,
     "start_time": "2024-01-19T16:52:14.795906",
     "status": "completed"
    },
    "tags": []
   },
   "outputs": [
    {
     "name": "stdout",
     "output_type": "stream",
     "text": [
      "Q: I am a twenty-something woman right out of college, and I need to build a minimal wardrobe in a budget; what should I buy?\n",
      "I have a job interview coming up for a marketing position at a fashion company.\n",
      "My dress code is business casual, but my team usually wears jeans and t-shirts while in the office.\n",
      "What should I buy in order to build a minimal wardrobe that will fit me and the position I am applying for?\n",
      "I have a good budget and time frame (approximately $200 per month) and want to make sure that I can get through multiple interviews without having to constantly switch out my clothes.\n",
      "My current wardrobe consists of: - 3 different sweaters (all black and chunky knit) - 1 t-shirt (blue and white stripes) - 1 pair of jeans (dark wash denim) - 1 skirt (black pencil skirt) - 1 dress (green wrap dress) - 1 jacket (leather pea coat)  I would like to expand my wardrobe so that I can have a more professional appearance.\n",
      "What should I buy?\n",
      "done in 0:01:48.552905\n"
     ]
    }
   ],
   "source": [
    "# Mistral sometimes misunderstands this question and rephrases it as a question\n",
    "respond(question='I am a twenty-something woman right out of college, and I need to build a minimal wardrobe in a budget; what should I buy?')"
   ]
  },
  {
   "cell_type": "code",
   "execution_count": 13,
   "id": "261ab0ba",
   "metadata": {
    "execution": {
     "iopub.execute_input": "2024-01-19T16:54:03.416637Z",
     "iopub.status.busy": "2024-01-19T16:54:03.416171Z",
     "iopub.status.idle": "2024-01-19T16:54:17.991802Z",
     "shell.execute_reply": "2024-01-19T16:54:17.990539Z"
    },
    "papermill": {
     "duration": 14.593815,
     "end_time": "2024-01-19T16:54:17.994662",
     "exception": false,
     "start_time": "2024-01-19T16:54:03.400847",
     "status": "completed"
    },
    "tags": []
   },
   "outputs": [
    {
     "name": "stdout",
     "output_type": "stream",
     "text": [
      "Q: What is a sport that is played with a ball that is not round?\n",
      "A.\n",
      "Baseball B.\n",
      "Table tennis C. Badminton D. Basketball\n",
      "done in 0:00:14.569654\n"
     ]
    }
   ],
   "source": [
    "# Some SOTA engines get this right but this still seems to cause problems\n",
    "# a correct answer is American Football or Rugby or Australian Rules Football;\n",
    "# hockey, badminton, and ultimate frisbee are popular but incorrect answers\n",
    "respond(question='What is a sport that is played with a ball that is not round?')"
   ]
  },
  {
   "cell_type": "code",
   "execution_count": 14,
   "id": "ae337509",
   "metadata": {
    "execution": {
     "iopub.execute_input": "2024-01-19T16:54:18.025544Z",
     "iopub.status.busy": "2024-01-19T16:54:18.024993Z",
     "iopub.status.idle": "2024-01-19T16:54:46.276549Z",
     "shell.execute_reply": "2024-01-19T16:54:46.274777Z"
    },
    "papermill": {
     "duration": 28.271335,
     "end_time": "2024-01-19T16:54:46.279335",
     "exception": false,
     "start_time": "2024-01-19T16:54:18.008000",
     "status": "completed"
    },
    "tags": []
   },
   "outputs": [
    {
     "name": "stdout",
     "output_type": "stream",
     "text": [
      "Q: What are five kinds of balls that are not round?\n",
      "A: 1.\n",
      "A cube ball (has six faces) 2.\n",
      "An irregularly shaped ball  3.\n",
      "A spheroid ball (like an egg) 4.\n",
      "A dumbbell  5.\n",
      "A tennis ball (has a flat top and bottom)\n",
      "done in 0:00:28.244806\n"
     ]
    }
   ],
   "source": [
    "# No. Just no.\n",
    "respond(question='What are five kinds of balls that are not round?')"
   ]
  },
  {
   "cell_type": "code",
   "execution_count": 15,
   "id": "66a7a6db",
   "metadata": {
    "execution": {
     "iopub.execute_input": "2024-01-19T16:54:46.426536Z",
     "iopub.status.busy": "2024-01-19T16:54:46.426056Z",
     "iopub.status.idle": "2024-01-19T16:55:07.517794Z",
     "shell.execute_reply": "2024-01-19T16:55:07.516549Z"
    },
    "papermill": {
     "duration": 21.110685,
     "end_time": "2024-01-19T16:55:07.520930",
     "exception": false,
     "start_time": "2024-01-19T16:54:46.410245",
     "status": "completed"
    },
    "tags": []
   },
   "outputs": [
    {
     "name": "stdout",
     "output_type": "stream",
     "text": [
      "Q: What are the essential ingredients of a cafe latte?\n",
      "A Cafe Latte is made with three main ingredients: espresso, milk and steam.\n",
      "Some variations may include flavorings or sweeteners but these three ingredients are the base of a classic Cafe Latte.\n",
      "done in 0:00:21.086129\n"
     ]
    }
   ],
   "source": [
    "# this is kind of a trick question; Mistral usually does a good job \n",
    "respond(question='What are the essential ingredients of a cafe latte?')"
   ]
  },
  {
   "cell_type": "code",
   "execution_count": 16,
   "id": "047dbce7",
   "metadata": {
    "execution": {
     "iopub.execute_input": "2024-01-19T16:55:07.551460Z",
     "iopub.status.busy": "2024-01-19T16:55:07.550037Z",
     "iopub.status.idle": "2024-01-19T16:55:37.308872Z",
     "shell.execute_reply": "2024-01-19T16:55:37.306757Z"
    },
    "papermill": {
     "duration": 29.777306,
     "end_time": "2024-01-19T16:55:37.311985",
     "exception": false,
     "start_time": "2024-01-19T16:55:07.534679",
     "status": "completed"
    },
    "tags": []
   },
   "outputs": [
    {
     "name": "stdout",
     "output_type": "stream",
     "text": [
      "Q: What fruit does a lime taste most like?\n",
      "A lime tastes like it's own unique blend of sour, tangy, and sometimes sweet flavors.\n",
      "It can be compared to a mix of lemon, grapefruit, and a hint of floral undertones.\n",
      "The exact flavor profile of a lime can vary depending on its ripeness and variety.\n",
      "done in 0:00:29.750151\n"
     ]
    }
   ],
   "source": [
    "# the answers to this are sometimes bizarre\n",
    "respond(question='What fruit does a lime taste most like?')"
   ]
  },
  {
   "cell_type": "code",
   "execution_count": 17,
   "id": "d8937138",
   "metadata": {
    "execution": {
     "iopub.execute_input": "2024-01-19T16:55:37.343799Z",
     "iopub.status.busy": "2024-01-19T16:55:37.343107Z",
     "iopub.status.idle": "2024-01-19T16:56:02.148398Z",
     "shell.execute_reply": "2024-01-19T16:56:02.146912Z"
    },
    "papermill": {
     "duration": 24.824287,
     "end_time": "2024-01-19T16:56:02.151191",
     "exception": false,
     "start_time": "2024-01-19T16:55:37.326904",
     "status": "completed"
    },
    "tags": []
   },
   "outputs": [
    {
     "name": "stdout",
     "output_type": "stream",
     "text": [
      "Q: How much do fingernails grow in a year?\n",
      "The average person's fingernail grows about 30% of an inch (7.6 centimeters) per year.\n",
      "However, the rate of growth can vary greatly depending on factors such as age, health, and overall nutrition.\n",
      "done in 0:00:24.798614\n"
     ]
    }
   ],
   "source": [
    "# this one is hit or miss; answers can vary by several orders of magnitude\n",
    "respond(question='How much do fingernails grow in a year?')"
   ]
  },
  {
   "cell_type": "code",
   "execution_count": 18,
   "id": "cf560761",
   "metadata": {
    "execution": {
     "iopub.execute_input": "2024-01-19T16:56:02.181733Z",
     "iopub.status.busy": "2024-01-19T16:56:02.181210Z",
     "iopub.status.idle": "2024-01-19T16:56:12.052916Z",
     "shell.execute_reply": "2024-01-19T16:56:12.051443Z"
    },
    "papermill": {
     "duration": 9.890557,
     "end_time": "2024-01-19T16:56:12.055984",
     "exception": false,
     "start_time": "2024-01-19T16:56:02.165427",
     "status": "completed"
    },
    "tags": []
   },
   "outputs": [
    {
     "name": "stdout",
     "output_type": "stream",
     "text": [
      "Q: When did Hilary Clinton serve as President of the United States?\n",
      "Answer: 2009-2017\n",
      "done in 0:00:09.865841\n"
     ]
    }
   ],
   "source": [
    "# this is a trick question and Mistral answers quickly and never gets it right\n",
    "respond(question='When did Hilary Clinton serve as President of the United States?')"
   ]
  },
  {
   "cell_type": "code",
   "execution_count": 19,
   "id": "f9b6c899",
   "metadata": {
    "execution": {
     "iopub.execute_input": "2024-01-19T16:56:12.087865Z",
     "iopub.status.busy": "2024-01-19T16:56:12.087441Z",
     "iopub.status.idle": "2024-01-19T16:57:04.825977Z",
     "shell.execute_reply": "2024-01-19T16:57:04.825098Z"
    },
    "papermill": {
     "duration": 52.772361,
     "end_time": "2024-01-19T16:57:04.843250",
     "exception": false,
     "start_time": "2024-01-19T16:56:12.070889",
     "status": "completed"
    },
    "tags": []
   },
   "outputs": [
    {
     "name": "stdout",
     "output_type": "stream",
     "text": [
      "Q: What are seven animals mentioned in lyrics to Beatles songs, and what songs are they mentioned in?\n",
      "Animal: Blackbird Song: Blackbird Animal: Sheepdog Song: Come Together Animal: Shea Lagerfeld Song: My Girl Animal: Cat Song: I Get By With a Little Help From My Friends Animal: Dolphin Song: Golden Slumbers Animal: Polar Bear Song: Pretend to Be Wise Animal: Snake Song: Let Me In (Twist and Shout)\n",
      "done in 0:00:52.733799\n"
     ]
    }
   ],
   "source": [
    "# I saw this one on the Web; even SOTA engines give bizarre answers to this one\n",
    "respond(question='What are seven animals mentioned in lyrics to Beatles songs, and what songs are they mentioned in?')"
   ]
  },
  {
   "cell_type": "code",
   "execution_count": 20,
   "id": "06ad880d",
   "metadata": {
    "execution": {
     "iopub.execute_input": "2024-01-19T16:57:04.874759Z",
     "iopub.status.busy": "2024-01-19T16:57:04.873976Z",
     "iopub.status.idle": "2024-01-19T16:57:21.525888Z",
     "shell.execute_reply": "2024-01-19T16:57:21.524669Z"
    },
    "papermill": {
     "duration": 16.67086,
     "end_time": "2024-01-19T16:57:21.528491",
     "exception": false,
     "start_time": "2024-01-19T16:57:04.857631",
     "status": "completed"
    },
    "tags": []
   },
   "outputs": [
    {
     "name": "stdout",
     "output_type": "stream",
     "text": [
      "Q: Can you name a country where the name of the country starts with the letter A but ends with a different letter?\n",
      "Answer: Australia (ends with \"A\", but is pronounced like \"Australia\")\n",
      "done in 0:00:16.645810\n"
     ]
    }
   ],
   "source": [
    "# There doesn't seem to be a way to phrase this question so Mistral consistently gets it right\n",
    "respond(question='Can you name a country where the name of the country starts with the letter A but ends with a different letter?')"
   ]
  },
  {
   "cell_type": "code",
   "execution_count": 21,
   "id": "93e6b335",
   "metadata": {
    "execution": {
     "iopub.execute_input": "2024-01-19T16:57:21.561538Z",
     "iopub.status.busy": "2024-01-19T16:57:21.560707Z",
     "iopub.status.idle": "2024-01-19T16:58:24.726794Z",
     "shell.execute_reply": "2024-01-19T16:58:24.724427Z"
    },
    "papermill": {
     "duration": 63.202081,
     "end_time": "2024-01-19T16:58:24.745769",
     "exception": false,
     "start_time": "2024-01-19T16:57:21.543688",
     "status": "completed"
    },
    "tags": []
   },
   "outputs": [
    {
     "name": "stdout",
     "output_type": "stream",
     "text": [
      "Q: What do people mean when they say money is not real?\n",
      "When people say that money is not real, it's usually a metaphorical statement.\n",
      "They may mean that money doesn't physically exist or that it's not tangible in the same way that objects like cars or houses are.\n",
      "Money is a concept used to exchange goods and services, but it does not have an inherent physical form.\n",
      "However, it's important to note that while money may not be tangible, it can still hold significant value and power over individuals' lives.\n",
      "For many people, money represents financial security, independence, and the ability to buy things they need or want.\n",
      "Without money, life can be difficult and stressful, making it an essential part of our daily existence.\n",
      "done in 0:01:03.154921\n"
     ]
    }
   ],
   "source": [
    "# Mistral usually does pretty well answering this one\n",
    "respond(question='What do people mean when they say money is not real?')"
   ]
  },
  {
   "cell_type": "code",
   "execution_count": 22,
   "id": "113b86f6",
   "metadata": {
    "execution": {
     "iopub.execute_input": "2024-01-19T16:58:24.779595Z",
     "iopub.status.busy": "2024-01-19T16:58:24.779025Z",
     "iopub.status.idle": "2024-01-19T16:59:05.801081Z",
     "shell.execute_reply": "2024-01-19T16:59:05.799692Z"
    },
    "papermill": {
     "duration": 41.055992,
     "end_time": "2024-01-19T16:59:05.817573",
     "exception": false,
     "start_time": "2024-01-19T16:58:24.761581",
     "status": "completed"
    },
    "tags": []
   },
   "outputs": [
    {
     "name": "stdout",
     "output_type": "stream",
     "text": [
      "Q: What was the Mother of All Demos and where did it occur?\n",
      "The Mother of All Demos was an event held during the 1964 World's Fair in New York City, United States.\n",
      "It is considered to be the first large-scale demonstration of computer networking, featuring multiple interactive computer systems connected together through a local area network (LAN).\n",
      "The event showcased the potential of computers to communicate with one another and paved the way for the development of modern computer networks.\n",
      "done in 0:00:41.013951\n"
     ]
    }
   ],
   "source": [
    "# But not this one\n",
    "respond(question='What was the Mother of All Demos and where did it occur?')"
   ]
  },
  {
   "cell_type": "code",
   "execution_count": 23,
   "id": "f7d7c793",
   "metadata": {
    "execution": {
     "iopub.execute_input": "2024-01-19T16:59:05.851131Z",
     "iopub.status.busy": "2024-01-19T16:59:05.850668Z",
     "iopub.status.idle": "2024-01-19T16:59:47.322188Z",
     "shell.execute_reply": "2024-01-19T16:59:47.320599Z"
    },
    "papermill": {
     "duration": 41.506753,
     "end_time": "2024-01-19T16:59:47.339624",
     "exception": false,
     "start_time": "2024-01-19T16:59:05.832871",
     "status": "completed"
    },
    "tags": []
   },
   "outputs": [
    {
     "name": "stdout",
     "output_type": "stream",
     "text": [
      "Q: If technological progress improves median quality of life but increases economic inequality should there be more of it or less of it?\n",
      "If we say yes to more of it (for example by supporting research and development) then we are saying that the benefits of technological progress will outweigh the costs.\n",
      "This is a difficult question to answer as it depends on your moral, political and economic views.\n",
      "I do not have any personal views on this topic, but if you would like to hear my thoughts on this question then please ask me.\n",
      "done in 0:00:41.464651\n"
     ]
    }
   ],
   "source": [
    "# Is Mistral a Luddite?\n",
    "respond(question='If technological progress improves median quality of life but increases economic inequality should there be more of it or less of it?')"
   ]
  },
  {
   "cell_type": "code",
   "execution_count": 24,
   "id": "9a08180c",
   "metadata": {
    "execution": {
     "iopub.execute_input": "2024-01-19T16:59:47.374323Z",
     "iopub.status.busy": "2024-01-19T16:59:47.372699Z",
     "iopub.status.idle": "2024-01-19T16:59:56.050964Z",
     "shell.execute_reply": "2024-01-19T16:59:56.049214Z"
    },
    "papermill": {
     "duration": 8.69903,
     "end_time": "2024-01-19T16:59:56.053618",
     "exception": false,
     "start_time": "2024-01-19T16:59:47.354588",
     "status": "completed"
    },
    "tags": []
   },
   "outputs": [
    {
     "name": "stdout",
     "output_type": "stream",
     "text": [
      "Q: What does GDP measure most accurately?\n",
      "The increase in the value of goods and services produced in an economy.\n",
      "done in 0:00:08.669009\n"
     ]
    }
   ],
   "source": [
    "# \n",
    "respond(question='What does GDP measure most accurately?')"
   ]
  },
  {
   "cell_type": "code",
   "execution_count": 25,
   "id": "dcc5de70",
   "metadata": {
    "execution": {
     "iopub.execute_input": "2024-01-19T16:59:56.086241Z",
     "iopub.status.busy": "2024-01-19T16:59:56.085711Z",
     "iopub.status.idle": "2024-01-19T17:00:55.289086Z",
     "shell.execute_reply": "2024-01-19T17:00:55.287850Z"
    },
    "papermill": {
     "duration": 59.238576,
     "end_time": "2024-01-19T17:00:55.307536",
     "exception": false,
     "start_time": "2024-01-19T16:59:56.068960",
     "status": "completed"
    },
    "tags": []
   },
   "outputs": [
    {
     "name": "stdout",
     "output_type": "stream",
     "text": [
      "Q: Which produces better economic outcomes for the median person: a planned economy or a free market, and how does it do that?\n",
      "A planned economy creates equality, ensures fair distribution of resources, and provides basic necessities such as healthcare, education, and housing to all people regardless of their income.\n",
      "This is achieved through government control over production, pricing, and distribution of goods and services.\n",
      "In contrast, a free market economy encourages individual competition and incentives for innovation and efficiency, leading to increased productivity and economic growth.\n",
      "However, it can also result in widening income inequality and unequal access to basic necessities.\n",
      "Ultimately, the success of an economic system depends on factors such as political stability, effective regulation, and social cohesion.\n",
      "done in 0:00:59.197436\n"
     ]
    }
   ],
   "source": [
    "# sometimes Mistral says one and sometimes the other\n",
    "respond(question='Which produces better economic outcomes for the median person: a planned economy or a free market, and how does it do that?',)"
   ]
  }
 ],
 "metadata": {
  "kaggle": {
   "accelerator": "none",
   "dataSources": [],
   "dockerImageVersionId": 30635,
   "isGpuEnabled": false,
   "isInternetEnabled": true,
   "language": "python",
   "sourceType": "notebook"
  },
  "kernelspec": {
   "display_name": "Python 3",
   "language": "python",
   "name": "python3"
  },
  "language_info": {
   "codemirror_mode": {
    "name": "ipython",
    "version": 3
   },
   "file_extension": ".py",
   "mimetype": "text/x-python",
   "name": "python",
   "nbconvert_exporter": "python",
   "pygments_lexer": "ipython3",
   "version": "3.10.12"
  },
  "papermill": {
   "default_parameters": {},
   "duration": 1167.146537,
   "end_time": "2024-01-19T17:00:56.455459",
   "environment_variables": {},
   "exception": null,
   "input_path": "__notebook__.ipynb",
   "output_path": "__notebook__.ipynb",
   "parameters": {},
   "start_time": "2024-01-19T16:41:29.308922",
   "version": "2.4.0"
  },
  "widgets": {
   "application/vnd.jupyter.widget-state+json": {
    "state": {
     "05d477be88374620a3d33a259d9cf8c1": {
      "model_module": "@jupyter-widgets/controls",
      "model_module_version": "1.5.0",
      "model_name": "FloatProgressModel",
      "state": {
       "_dom_classes": [],
       "_model_module": "@jupyter-widgets/controls",
       "_model_module_version": "1.5.0",
       "_model_name": "FloatProgressModel",
       "_view_count": null,
       "_view_module": "@jupyter-widgets/controls",
       "_view_module_version": "1.5.0",
       "_view_name": "ProgressView",
       "bar_style": "success",
       "description": "",
       "description_tooltip": null,
       "layout": "IPY_MODEL_233bc348ea7c4e6abfa5e17f110b95d5",
       "max": 1.0,
       "min": 0.0,
       "orientation": "horizontal",
       "style": "IPY_MODEL_2172c2a989a64d88b82e44011189e2e3",
       "value": 1.0
      }
     },
     "0a48cb6f021a497ca259f43da500d214": {
      "model_module": "@jupyter-widgets/controls",
      "model_module_version": "1.5.0",
      "model_name": "FloatProgressModel",
      "state": {
       "_dom_classes": [],
       "_model_module": "@jupyter-widgets/controls",
       "_model_module_version": "1.5.0",
       "_model_name": "FloatProgressModel",
       "_view_count": null,
       "_view_module": "@jupyter-widgets/controls",
       "_view_module_version": "1.5.0",
       "_view_name": "ProgressView",
       "bar_style": "success",
       "description": "",
       "description_tooltip": null,
       "layout": "IPY_MODEL_861c45e27b834f3cb26a131bf57492f5",
       "max": 1.0,
       "min": 0.0,
       "orientation": "horizontal",
       "style": "IPY_MODEL_18cf75e167a044eba6efd37a08f7d7ff",
       "value": 1.0
      }
     },
     "18cf75e167a044eba6efd37a08f7d7ff": {
      "model_module": "@jupyter-widgets/controls",
      "model_module_version": "1.5.0",
      "model_name": "ProgressStyleModel",
      "state": {
       "_model_module": "@jupyter-widgets/controls",
       "_model_module_version": "1.5.0",
       "_model_name": "ProgressStyleModel",
       "_view_count": null,
       "_view_module": "@jupyter-widgets/base",
       "_view_module_version": "1.2.0",
       "_view_name": "StyleView",
       "bar_color": null,
       "description_width": ""
      }
     },
     "1d024c0e14b54ebe986c30a28a380c04": {
      "model_module": "@jupyter-widgets/controls",
      "model_module_version": "1.5.0",
      "model_name": "HBoxModel",
      "state": {
       "_dom_classes": [],
       "_model_module": "@jupyter-widgets/controls",
       "_model_module_version": "1.5.0",
       "_model_name": "HBoxModel",
       "_view_count": null,
       "_view_module": "@jupyter-widgets/controls",
       "_view_module_version": "1.5.0",
       "_view_name": "HBoxView",
       "box_style": "",
       "children": [
        "IPY_MODEL_2ec7c3ed0135402f93c167c014c9cf4c",
        "IPY_MODEL_0a48cb6f021a497ca259f43da500d214",
        "IPY_MODEL_b639e53df60d4a57a75f81a081689ed2"
       ],
       "layout": "IPY_MODEL_8102c311552f49c08cb256d3ca9665d8"
      }
     },
     "1da852b5e4de4eb6b9119db04bc7af9d": {
      "model_module": "@jupyter-widgets/controls",
      "model_module_version": "1.5.0",
      "model_name": "HTMLModel",
      "state": {
       "_dom_classes": [],
       "_model_module": "@jupyter-widgets/controls",
       "_model_module_version": "1.5.0",
       "_model_name": "HTMLModel",
       "_view_count": null,
       "_view_module": "@jupyter-widgets/controls",
       "_view_module_version": "1.5.0",
       "_view_name": "HTMLView",
       "description": "",
       "description_tooltip": null,
       "layout": "IPY_MODEL_b42f740be6e64af98efcce5c043c217f",
       "placeholder": "​",
       "style": "IPY_MODEL_305c442f29cd43b784fe9ddeff239626",
       "value": "Fetching 1 files: 100%"
      }
     },
     "20f12c028c6a4656bb5d7ff4adc66fec": {
      "model_module": "@jupyter-widgets/controls",
      "model_module_version": "1.5.0",
      "model_name": "DescriptionStyleModel",
      "state": {
       "_model_module": "@jupyter-widgets/controls",
       "_model_module_version": "1.5.0",
       "_model_name": "DescriptionStyleModel",
       "_view_count": null,
       "_view_module": "@jupyter-widgets/base",
       "_view_module_version": "1.2.0",
       "_view_name": "StyleView",
       "description_width": ""
      }
     },
     "2172c2a989a64d88b82e44011189e2e3": {
      "model_module": "@jupyter-widgets/controls",
      "model_module_version": "1.5.0",
      "model_name": "ProgressStyleModel",
      "state": {
       "_model_module": "@jupyter-widgets/controls",
       "_model_module_version": "1.5.0",
       "_model_name": "ProgressStyleModel",
       "_view_count": null,
       "_view_module": "@jupyter-widgets/base",
       "_view_module_version": "1.2.0",
       "_view_name": "StyleView",
       "bar_color": null,
       "description_width": ""
      }
     },
     "233bc348ea7c4e6abfa5e17f110b95d5": {
      "model_module": "@jupyter-widgets/base",
      "model_module_version": "1.2.0",
      "model_name": "LayoutModel",
      "state": {
       "_model_module": "@jupyter-widgets/base",
       "_model_module_version": "1.2.0",
       "_model_name": "LayoutModel",
       "_view_count": null,
       "_view_module": "@jupyter-widgets/base",
       "_view_module_version": "1.2.0",
       "_view_name": "LayoutView",
       "align_content": null,
       "align_items": null,
       "align_self": null,
       "border": null,
       "bottom": null,
       "display": null,
       "flex": null,
       "flex_flow": null,
       "grid_area": null,
       "grid_auto_columns": null,
       "grid_auto_flow": null,
       "grid_auto_rows": null,
       "grid_column": null,
       "grid_gap": null,
       "grid_row": null,
       "grid_template_areas": null,
       "grid_template_columns": null,
       "grid_template_rows": null,
       "height": null,
       "justify_content": null,
       "justify_items": null,
       "left": null,
       "margin": null,
       "max_height": null,
       "max_width": null,
       "min_height": null,
       "min_width": null,
       "object_fit": null,
       "object_position": null,
       "order": null,
       "overflow": null,
       "overflow_x": null,
       "overflow_y": null,
       "padding": null,
       "right": null,
       "top": null,
       "visibility": null,
       "width": null
      }
     },
     "2a272246c8184da2b843fefd87ce9d10": {
      "model_module": "@jupyter-widgets/controls",
      "model_module_version": "1.5.0",
      "model_name": "HTMLModel",
      "state": {
       "_dom_classes": [],
       "_model_module": "@jupyter-widgets/controls",
       "_model_module_version": "1.5.0",
       "_model_name": "HTMLModel",
       "_view_count": null,
       "_view_module": "@jupyter-widgets/controls",
       "_view_module_version": "1.5.0",
       "_view_name": "HTMLView",
       "description": "",
       "description_tooltip": null,
       "layout": "IPY_MODEL_7186f67198804672acc7a54e98e67b96",
       "placeholder": "​",
       "style": "IPY_MODEL_d6c73687165b4e3baa3ba479cd52e6d9",
       "value": "mistral-7b-instruct-v0.1.Q4_K_M.gguf: 100%"
      }
     },
     "2a62e44c38fe44d5b19932c256372e5f": {
      "model_module": "@jupyter-widgets/base",
      "model_module_version": "1.2.0",
      "model_name": "LayoutModel",
      "state": {
       "_model_module": "@jupyter-widgets/base",
       "_model_module_version": "1.2.0",
       "_model_name": "LayoutModel",
       "_view_count": null,
       "_view_module": "@jupyter-widgets/base",
       "_view_module_version": "1.2.0",
       "_view_name": "LayoutView",
       "align_content": null,
       "align_items": null,
       "align_self": null,
       "border": null,
       "bottom": null,
       "display": null,
       "flex": null,
       "flex_flow": null,
       "grid_area": null,
       "grid_auto_columns": null,
       "grid_auto_flow": null,
       "grid_auto_rows": null,
       "grid_column": null,
       "grid_gap": null,
       "grid_row": null,
       "grid_template_areas": null,
       "grid_template_columns": null,
       "grid_template_rows": null,
       "height": null,
       "justify_content": null,
       "justify_items": null,
       "left": null,
       "margin": null,
       "max_height": null,
       "max_width": null,
       "min_height": null,
       "min_width": null,
       "object_fit": null,
       "object_position": null,
       "order": null,
       "overflow": null,
       "overflow_x": null,
       "overflow_y": null,
       "padding": null,
       "right": null,
       "top": null,
       "visibility": null,
       "width": null
      }
     },
     "2ec7c3ed0135402f93c167c014c9cf4c": {
      "model_module": "@jupyter-widgets/controls",
      "model_module_version": "1.5.0",
      "model_name": "HTMLModel",
      "state": {
       "_dom_classes": [],
       "_model_module": "@jupyter-widgets/controls",
       "_model_module_version": "1.5.0",
       "_model_name": "HTMLModel",
       "_view_count": null,
       "_view_module": "@jupyter-widgets/controls",
       "_view_module_version": "1.5.0",
       "_view_name": "HTMLView",
       "description": "",
       "description_tooltip": null,
       "layout": "IPY_MODEL_2a62e44c38fe44d5b19932c256372e5f",
       "placeholder": "​",
       "style": "IPY_MODEL_8492ca6b7d9f4317a468e44a5c4ef39f",
       "value": "Fetching 1 files: 100%"
      }
     },
     "305c442f29cd43b784fe9ddeff239626": {
      "model_module": "@jupyter-widgets/controls",
      "model_module_version": "1.5.0",
      "model_name": "DescriptionStyleModel",
      "state": {
       "_model_module": "@jupyter-widgets/controls",
       "_model_module_version": "1.5.0",
       "_model_name": "DescriptionStyleModel",
       "_view_count": null,
       "_view_module": "@jupyter-widgets/base",
       "_view_module_version": "1.2.0",
       "_view_name": "StyleView",
       "description_width": ""
      }
     },
     "33c377390b0b437988f7450fd094bdc9": {
      "model_module": "@jupyter-widgets/base",
      "model_module_version": "1.2.0",
      "model_name": "LayoutModel",
      "state": {
       "_model_module": "@jupyter-widgets/base",
       "_model_module_version": "1.2.0",
       "_model_name": "LayoutModel",
       "_view_count": null,
       "_view_module": "@jupyter-widgets/base",
       "_view_module_version": "1.2.0",
       "_view_name": "LayoutView",
       "align_content": null,
       "align_items": null,
       "align_self": null,
       "border": null,
       "bottom": null,
       "display": null,
       "flex": null,
       "flex_flow": null,
       "grid_area": null,
       "grid_auto_columns": null,
       "grid_auto_flow": null,
       "grid_auto_rows": null,
       "grid_column": null,
       "grid_gap": null,
       "grid_row": null,
       "grid_template_areas": null,
       "grid_template_columns": null,
       "grid_template_rows": null,
       "height": null,
       "justify_content": null,
       "justify_items": null,
       "left": null,
       "margin": null,
       "max_height": null,
       "max_width": null,
       "min_height": null,
       "min_width": null,
       "object_fit": null,
       "object_position": null,
       "order": null,
       "overflow": null,
       "overflow_x": null,
       "overflow_y": null,
       "padding": null,
       "right": null,
       "top": null,
       "visibility": null,
       "width": null
      }
     },
     "37d65508545947469ed0ccb0a77a0530": {
      "model_module": "@jupyter-widgets/controls",
      "model_module_version": "1.5.0",
      "model_name": "HTMLModel",
      "state": {
       "_dom_classes": [],
       "_model_module": "@jupyter-widgets/controls",
       "_model_module_version": "1.5.0",
       "_model_name": "HTMLModel",
       "_view_count": null,
       "_view_module": "@jupyter-widgets/controls",
       "_view_module_version": "1.5.0",
       "_view_name": "HTMLView",
       "description": "",
       "description_tooltip": null,
       "layout": "IPY_MODEL_d0b8659e07d0451580a6cd3e7e3d2a46",
       "placeholder": "​",
       "style": "IPY_MODEL_a184a5f27d3c4fd5bacc336fe97a0fd0",
       "value": " 31.0/31.0 [00:00&lt;00:00, 1.99kB/s]"
      }
     },
     "41983cd6892f46c2a2bc1ae71c738a3e": {
      "model_module": "@jupyter-widgets/base",
      "model_module_version": "1.2.0",
      "model_name": "LayoutModel",
      "state": {
       "_model_module": "@jupyter-widgets/base",
       "_model_module_version": "1.2.0",
       "_model_name": "LayoutModel",
       "_view_count": null,
       "_view_module": "@jupyter-widgets/base",
       "_view_module_version": "1.2.0",
       "_view_name": "LayoutView",
       "align_content": null,
       "align_items": null,
       "align_self": null,
       "border": null,
       "bottom": null,
       "display": null,
       "flex": null,
       "flex_flow": null,
       "grid_area": null,
       "grid_auto_columns": null,
       "grid_auto_flow": null,
       "grid_auto_rows": null,
       "grid_column": null,
       "grid_gap": null,
       "grid_row": null,
       "grid_template_areas": null,
       "grid_template_columns": null,
       "grid_template_rows": null,
       "height": null,
       "justify_content": null,
       "justify_items": null,
       "left": null,
       "margin": null,
       "max_height": null,
       "max_width": null,
       "min_height": null,
       "min_width": null,
       "object_fit": null,
       "object_position": null,
       "order": null,
       "overflow": null,
       "overflow_x": null,
       "overflow_y": null,
       "padding": null,
       "right": null,
       "top": null,
       "visibility": null,
       "width": null
      }
     },
     "559a2eb078c947c7a5de521b68891971": {
      "model_module": "@jupyter-widgets/base",
      "model_module_version": "1.2.0",
      "model_name": "LayoutModel",
      "state": {
       "_model_module": "@jupyter-widgets/base",
       "_model_module_version": "1.2.0",
       "_model_name": "LayoutModel",
       "_view_count": null,
       "_view_module": "@jupyter-widgets/base",
       "_view_module_version": "1.2.0",
       "_view_name": "LayoutView",
       "align_content": null,
       "align_items": null,
       "align_self": null,
       "border": null,
       "bottom": null,
       "display": null,
       "flex": null,
       "flex_flow": null,
       "grid_area": null,
       "grid_auto_columns": null,
       "grid_auto_flow": null,
       "grid_auto_rows": null,
       "grid_column": null,
       "grid_gap": null,
       "grid_row": null,
       "grid_template_areas": null,
       "grid_template_columns": null,
       "grid_template_rows": null,
       "height": null,
       "justify_content": null,
       "justify_items": null,
       "left": null,
       "margin": null,
       "max_height": null,
       "max_width": null,
       "min_height": null,
       "min_width": null,
       "object_fit": null,
       "object_position": null,
       "order": null,
       "overflow": null,
       "overflow_x": null,
       "overflow_y": null,
       "padding": null,
       "right": null,
       "top": null,
       "visibility": null,
       "width": null
      }
     },
     "5747c723130e4514901569a942865a50": {
      "model_module": "@jupyter-widgets/base",
      "model_module_version": "1.2.0",
      "model_name": "LayoutModel",
      "state": {
       "_model_module": "@jupyter-widgets/base",
       "_model_module_version": "1.2.0",
       "_model_name": "LayoutModel",
       "_view_count": null,
       "_view_module": "@jupyter-widgets/base",
       "_view_module_version": "1.2.0",
       "_view_name": "LayoutView",
       "align_content": null,
       "align_items": null,
       "align_self": null,
       "border": null,
       "bottom": null,
       "display": null,
       "flex": null,
       "flex_flow": null,
       "grid_area": null,
       "grid_auto_columns": null,
       "grid_auto_flow": null,
       "grid_auto_rows": null,
       "grid_column": null,
       "grid_gap": null,
       "grid_row": null,
       "grid_template_areas": null,
       "grid_template_columns": null,
       "grid_template_rows": null,
       "height": null,
       "justify_content": null,
       "justify_items": null,
       "left": null,
       "margin": null,
       "max_height": null,
       "max_width": null,
       "min_height": null,
       "min_width": null,
       "object_fit": null,
       "object_position": null,
       "order": null,
       "overflow": null,
       "overflow_x": null,
       "overflow_y": null,
       "padding": null,
       "right": null,
       "top": null,
       "visibility": null,
       "width": null
      }
     },
     "640cb89af9e144c9b905b682ea08ee1e": {
      "model_module": "@jupyter-widgets/base",
      "model_module_version": "1.2.0",
      "model_name": "LayoutModel",
      "state": {
       "_model_module": "@jupyter-widgets/base",
       "_model_module_version": "1.2.0",
       "_model_name": "LayoutModel",
       "_view_count": null,
       "_view_module": "@jupyter-widgets/base",
       "_view_module_version": "1.2.0",
       "_view_name": "LayoutView",
       "align_content": null,
       "align_items": null,
       "align_self": null,
       "border": null,
       "bottom": null,
       "display": null,
       "flex": null,
       "flex_flow": null,
       "grid_area": null,
       "grid_auto_columns": null,
       "grid_auto_flow": null,
       "grid_auto_rows": null,
       "grid_column": null,
       "grid_gap": null,
       "grid_row": null,
       "grid_template_areas": null,
       "grid_template_columns": null,
       "grid_template_rows": null,
       "height": null,
       "justify_content": null,
       "justify_items": null,
       "left": null,
       "margin": null,
       "max_height": null,
       "max_width": null,
       "min_height": null,
       "min_width": null,
       "object_fit": null,
       "object_position": null,
       "order": null,
       "overflow": null,
       "overflow_x": null,
       "overflow_y": null,
       "padding": null,
       "right": null,
       "top": null,
       "visibility": null,
       "width": null
      }
     },
     "6af26f655f3d45178a5be7e141d55600": {
      "model_module": "@jupyter-widgets/controls",
      "model_module_version": "1.5.0",
      "model_name": "DescriptionStyleModel",
      "state": {
       "_model_module": "@jupyter-widgets/controls",
       "_model_module_version": "1.5.0",
       "_model_name": "DescriptionStyleModel",
       "_view_count": null,
       "_view_module": "@jupyter-widgets/base",
       "_view_module_version": "1.2.0",
       "_view_name": "StyleView",
       "description_width": ""
      }
     },
     "6fe8e9bcd9074ce389172a385ffaf602": {
      "model_module": "@jupyter-widgets/base",
      "model_module_version": "1.2.0",
      "model_name": "LayoutModel",
      "state": {
       "_model_module": "@jupyter-widgets/base",
       "_model_module_version": "1.2.0",
       "_model_name": "LayoutModel",
       "_view_count": null,
       "_view_module": "@jupyter-widgets/base",
       "_view_module_version": "1.2.0",
       "_view_name": "LayoutView",
       "align_content": null,
       "align_items": null,
       "align_self": null,
       "border": null,
       "bottom": null,
       "display": null,
       "flex": null,
       "flex_flow": null,
       "grid_area": null,
       "grid_auto_columns": null,
       "grid_auto_flow": null,
       "grid_auto_rows": null,
       "grid_column": null,
       "grid_gap": null,
       "grid_row": null,
       "grid_template_areas": null,
       "grid_template_columns": null,
       "grid_template_rows": null,
       "height": null,
       "justify_content": null,
       "justify_items": null,
       "left": null,
       "margin": null,
       "max_height": null,
       "max_width": null,
       "min_height": null,
       "min_width": null,
       "object_fit": null,
       "object_position": null,
       "order": null,
       "overflow": null,
       "overflow_x": null,
       "overflow_y": null,
       "padding": null,
       "right": null,
       "top": null,
       "visibility": null,
       "width": null
      }
     },
     "7186f67198804672acc7a54e98e67b96": {
      "model_module": "@jupyter-widgets/base",
      "model_module_version": "1.2.0",
      "model_name": "LayoutModel",
      "state": {
       "_model_module": "@jupyter-widgets/base",
       "_model_module_version": "1.2.0",
       "_model_name": "LayoutModel",
       "_view_count": null,
       "_view_module": "@jupyter-widgets/base",
       "_view_module_version": "1.2.0",
       "_view_name": "LayoutView",
       "align_content": null,
       "align_items": null,
       "align_self": null,
       "border": null,
       "bottom": null,
       "display": null,
       "flex": null,
       "flex_flow": null,
       "grid_area": null,
       "grid_auto_columns": null,
       "grid_auto_flow": null,
       "grid_auto_rows": null,
       "grid_column": null,
       "grid_gap": null,
       "grid_row": null,
       "grid_template_areas": null,
       "grid_template_columns": null,
       "grid_template_rows": null,
       "height": null,
       "justify_content": null,
       "justify_items": null,
       "left": null,
       "margin": null,
       "max_height": null,
       "max_width": null,
       "min_height": null,
       "min_width": null,
       "object_fit": null,
       "object_position": null,
       "order": null,
       "overflow": null,
       "overflow_x": null,
       "overflow_y": null,
       "padding": null,
       "right": null,
       "top": null,
       "visibility": null,
       "width": null
      }
     },
     "72eb1a1116f9463ea80ad191a45c336b": {
      "model_module": "@jupyter-widgets/base",
      "model_module_version": "1.2.0",
      "model_name": "LayoutModel",
      "state": {
       "_model_module": "@jupyter-widgets/base",
       "_model_module_version": "1.2.0",
       "_model_name": "LayoutModel",
       "_view_count": null,
       "_view_module": "@jupyter-widgets/base",
       "_view_module_version": "1.2.0",
       "_view_name": "LayoutView",
       "align_content": null,
       "align_items": null,
       "align_self": null,
       "border": null,
       "bottom": null,
       "display": null,
       "flex": null,
       "flex_flow": null,
       "grid_area": null,
       "grid_auto_columns": null,
       "grid_auto_flow": null,
       "grid_auto_rows": null,
       "grid_column": null,
       "grid_gap": null,
       "grid_row": null,
       "grid_template_areas": null,
       "grid_template_columns": null,
       "grid_template_rows": null,
       "height": null,
       "justify_content": null,
       "justify_items": null,
       "left": null,
       "margin": null,
       "max_height": null,
       "max_width": null,
       "min_height": null,
       "min_width": null,
       "object_fit": null,
       "object_position": null,
       "order": null,
       "overflow": null,
       "overflow_x": null,
       "overflow_y": null,
       "padding": null,
       "right": null,
       "top": null,
       "visibility": null,
       "width": null
      }
     },
     "7cd973aed66f47fc8c1b4366aee491b2": {
      "model_module": "@jupyter-widgets/controls",
      "model_module_version": "1.5.0",
      "model_name": "FloatProgressModel",
      "state": {
       "_dom_classes": [],
       "_model_module": "@jupyter-widgets/controls",
       "_model_module_version": "1.5.0",
       "_model_name": "FloatProgressModel",
       "_view_count": null,
       "_view_module": "@jupyter-widgets/controls",
       "_view_module_version": "1.5.0",
       "_view_name": "ProgressView",
       "bar_style": "success",
       "description": "",
       "description_tooltip": null,
       "layout": "IPY_MODEL_33c377390b0b437988f7450fd094bdc9",
       "max": 4368438944.0,
       "min": 0.0,
       "orientation": "horizontal",
       "style": "IPY_MODEL_8d41d3fc8e55471e9c35e093667cc8be",
       "value": 4368438944.0
      }
     },
     "8070c9062066489aa77562c6f61c3f4f": {
      "model_module": "@jupyter-widgets/controls",
      "model_module_version": "1.5.0",
      "model_name": "DescriptionStyleModel",
      "state": {
       "_model_module": "@jupyter-widgets/controls",
       "_model_module_version": "1.5.0",
       "_model_name": "DescriptionStyleModel",
       "_view_count": null,
       "_view_module": "@jupyter-widgets/base",
       "_view_module_version": "1.2.0",
       "_view_name": "StyleView",
       "description_width": ""
      }
     },
     "8102c311552f49c08cb256d3ca9665d8": {
      "model_module": "@jupyter-widgets/base",
      "model_module_version": "1.2.0",
      "model_name": "LayoutModel",
      "state": {
       "_model_module": "@jupyter-widgets/base",
       "_model_module_version": "1.2.0",
       "_model_name": "LayoutModel",
       "_view_count": null,
       "_view_module": "@jupyter-widgets/base",
       "_view_module_version": "1.2.0",
       "_view_name": "LayoutView",
       "align_content": null,
       "align_items": null,
       "align_self": null,
       "border": null,
       "bottom": null,
       "display": null,
       "flex": null,
       "flex_flow": null,
       "grid_area": null,
       "grid_auto_columns": null,
       "grid_auto_flow": null,
       "grid_auto_rows": null,
       "grid_column": null,
       "grid_gap": null,
       "grid_row": null,
       "grid_template_areas": null,
       "grid_template_columns": null,
       "grid_template_rows": null,
       "height": null,
       "justify_content": null,
       "justify_items": null,
       "left": null,
       "margin": null,
       "max_height": null,
       "max_width": null,
       "min_height": null,
       "min_width": null,
       "object_fit": null,
       "object_position": null,
       "order": null,
       "overflow": null,
       "overflow_x": null,
       "overflow_y": null,
       "padding": null,
       "right": null,
       "top": null,
       "visibility": null,
       "width": null
      }
     },
     "83f020a740b4417aafbf33e2fc5afd50": {
      "model_module": "@jupyter-widgets/controls",
      "model_module_version": "1.5.0",
      "model_name": "HBoxModel",
      "state": {
       "_dom_classes": [],
       "_model_module": "@jupyter-widgets/controls",
       "_model_module_version": "1.5.0",
       "_model_name": "HBoxModel",
       "_view_count": null,
       "_view_module": "@jupyter-widgets/controls",
       "_view_module_version": "1.5.0",
       "_view_name": "HBoxView",
       "box_style": "",
       "children": [
        "IPY_MODEL_e021d20382844300ab6cad6f761e81cf",
        "IPY_MODEL_9aefbda244b9434a98d757746c0c9402",
        "IPY_MODEL_37d65508545947469ed0ccb0a77a0530"
       ],
       "layout": "IPY_MODEL_b7eb6cd7de0c4d3d803d25b149010c64"
      }
     },
     "8492ca6b7d9f4317a468e44a5c4ef39f": {
      "model_module": "@jupyter-widgets/controls",
      "model_module_version": "1.5.0",
      "model_name": "DescriptionStyleModel",
      "state": {
       "_model_module": "@jupyter-widgets/controls",
       "_model_module_version": "1.5.0",
       "_model_name": "DescriptionStyleModel",
       "_view_count": null,
       "_view_module": "@jupyter-widgets/base",
       "_view_module_version": "1.2.0",
       "_view_name": "StyleView",
       "description_width": ""
      }
     },
     "861c45e27b834f3cb26a131bf57492f5": {
      "model_module": "@jupyter-widgets/base",
      "model_module_version": "1.2.0",
      "model_name": "LayoutModel",
      "state": {
       "_model_module": "@jupyter-widgets/base",
       "_model_module_version": "1.2.0",
       "_model_name": "LayoutModel",
       "_view_count": null,
       "_view_module": "@jupyter-widgets/base",
       "_view_module_version": "1.2.0",
       "_view_name": "LayoutView",
       "align_content": null,
       "align_items": null,
       "align_self": null,
       "border": null,
       "bottom": null,
       "display": null,
       "flex": null,
       "flex_flow": null,
       "grid_area": null,
       "grid_auto_columns": null,
       "grid_auto_flow": null,
       "grid_auto_rows": null,
       "grid_column": null,
       "grid_gap": null,
       "grid_row": null,
       "grid_template_areas": null,
       "grid_template_columns": null,
       "grid_template_rows": null,
       "height": null,
       "justify_content": null,
       "justify_items": null,
       "left": null,
       "margin": null,
       "max_height": null,
       "max_width": null,
       "min_height": null,
       "min_width": null,
       "object_fit": null,
       "object_position": null,
       "order": null,
       "overflow": null,
       "overflow_x": null,
       "overflow_y": null,
       "padding": null,
       "right": null,
       "top": null,
       "visibility": null,
       "width": null
      }
     },
     "88b5d6510d724272a86a86f1381c143b": {
      "model_module": "@jupyter-widgets/controls",
      "model_module_version": "1.5.0",
      "model_name": "DescriptionStyleModel",
      "state": {
       "_model_module": "@jupyter-widgets/controls",
       "_model_module_version": "1.5.0",
       "_model_name": "DescriptionStyleModel",
       "_view_count": null,
       "_view_module": "@jupyter-widgets/base",
       "_view_module_version": "1.2.0",
       "_view_name": "StyleView",
       "description_width": ""
      }
     },
     "8d41d3fc8e55471e9c35e093667cc8be": {
      "model_module": "@jupyter-widgets/controls",
      "model_module_version": "1.5.0",
      "model_name": "ProgressStyleModel",
      "state": {
       "_model_module": "@jupyter-widgets/controls",
       "_model_module_version": "1.5.0",
       "_model_name": "ProgressStyleModel",
       "_view_count": null,
       "_view_module": "@jupyter-widgets/base",
       "_view_module_version": "1.2.0",
       "_view_name": "StyleView",
       "bar_color": null,
       "description_width": ""
      }
     },
     "8f3e99fc73af4b4fac8a5d30c62bc707": {
      "model_module": "@jupyter-widgets/base",
      "model_module_version": "1.2.0",
      "model_name": "LayoutModel",
      "state": {
       "_model_module": "@jupyter-widgets/base",
       "_model_module_version": "1.2.0",
       "_model_name": "LayoutModel",
       "_view_count": null,
       "_view_module": "@jupyter-widgets/base",
       "_view_module_version": "1.2.0",
       "_view_name": "LayoutView",
       "align_content": null,
       "align_items": null,
       "align_self": null,
       "border": null,
       "bottom": null,
       "display": null,
       "flex": null,
       "flex_flow": null,
       "grid_area": null,
       "grid_auto_columns": null,
       "grid_auto_flow": null,
       "grid_auto_rows": null,
       "grid_column": null,
       "grid_gap": null,
       "grid_row": null,
       "grid_template_areas": null,
       "grid_template_columns": null,
       "grid_template_rows": null,
       "height": null,
       "justify_content": null,
       "justify_items": null,
       "left": null,
       "margin": null,
       "max_height": null,
       "max_width": null,
       "min_height": null,
       "min_width": null,
       "object_fit": null,
       "object_position": null,
       "order": null,
       "overflow": null,
       "overflow_x": null,
       "overflow_y": null,
       "padding": null,
       "right": null,
       "top": null,
       "visibility": null,
       "width": null
      }
     },
     "901e0002153f4b72aba075d0eef83c41": {
      "model_module": "@jupyter-widgets/controls",
      "model_module_version": "1.5.0",
      "model_name": "HBoxModel",
      "state": {
       "_dom_classes": [],
       "_model_module": "@jupyter-widgets/controls",
       "_model_module_version": "1.5.0",
       "_model_name": "HBoxModel",
       "_view_count": null,
       "_view_module": "@jupyter-widgets/controls",
       "_view_module_version": "1.5.0",
       "_view_name": "HBoxView",
       "box_style": "",
       "children": [
        "IPY_MODEL_2a272246c8184da2b843fefd87ce9d10",
        "IPY_MODEL_7cd973aed66f47fc8c1b4366aee491b2",
        "IPY_MODEL_f42eb49541f04dd4add80c524eb8d3ab"
       ],
       "layout": "IPY_MODEL_640cb89af9e144c9b905b682ea08ee1e"
      }
     },
     "9415934b7b0347138acf2d06396427c5": {
      "model_module": "@jupyter-widgets/controls",
      "model_module_version": "1.5.0",
      "model_name": "HBoxModel",
      "state": {
       "_dom_classes": [],
       "_model_module": "@jupyter-widgets/controls",
       "_model_module_version": "1.5.0",
       "_model_name": "HBoxModel",
       "_view_count": null,
       "_view_module": "@jupyter-widgets/controls",
       "_view_module_version": "1.5.0",
       "_view_name": "HBoxView",
       "box_style": "",
       "children": [
        "IPY_MODEL_1da852b5e4de4eb6b9119db04bc7af9d",
        "IPY_MODEL_05d477be88374620a3d33a259d9cf8c1",
        "IPY_MODEL_e0451c606a0e4fc58a41fbd113527175"
       ],
       "layout": "IPY_MODEL_41983cd6892f46c2a2bc1ae71c738a3e"
      }
     },
     "9aefbda244b9434a98d757746c0c9402": {
      "model_module": "@jupyter-widgets/controls",
      "model_module_version": "1.5.0",
      "model_name": "FloatProgressModel",
      "state": {
       "_dom_classes": [],
       "_model_module": "@jupyter-widgets/controls",
       "_model_module_version": "1.5.0",
       "_model_name": "FloatProgressModel",
       "_view_count": null,
       "_view_module": "@jupyter-widgets/controls",
       "_view_module_version": "1.5.0",
       "_view_name": "ProgressView",
       "bar_style": "success",
       "description": "",
       "description_tooltip": null,
       "layout": "IPY_MODEL_559a2eb078c947c7a5de521b68891971",
       "max": 31.0,
       "min": 0.0,
       "orientation": "horizontal",
       "style": "IPY_MODEL_aff8e209b49b417fac176f29eab5db85",
       "value": 31.0
      }
     },
     "a184a5f27d3c4fd5bacc336fe97a0fd0": {
      "model_module": "@jupyter-widgets/controls",
      "model_module_version": "1.5.0",
      "model_name": "DescriptionStyleModel",
      "state": {
       "_model_module": "@jupyter-widgets/controls",
       "_model_module_version": "1.5.0",
       "_model_name": "DescriptionStyleModel",
       "_view_count": null,
       "_view_module": "@jupyter-widgets/base",
       "_view_module_version": "1.2.0",
       "_view_name": "StyleView",
       "description_width": ""
      }
     },
     "aff8e209b49b417fac176f29eab5db85": {
      "model_module": "@jupyter-widgets/controls",
      "model_module_version": "1.5.0",
      "model_name": "ProgressStyleModel",
      "state": {
       "_model_module": "@jupyter-widgets/controls",
       "_model_module_version": "1.5.0",
       "_model_name": "ProgressStyleModel",
       "_view_count": null,
       "_view_module": "@jupyter-widgets/base",
       "_view_module_version": "1.2.0",
       "_view_name": "StyleView",
       "bar_color": null,
       "description_width": ""
      }
     },
     "b42f740be6e64af98efcce5c043c217f": {
      "model_module": "@jupyter-widgets/base",
      "model_module_version": "1.2.0",
      "model_name": "LayoutModel",
      "state": {
       "_model_module": "@jupyter-widgets/base",
       "_model_module_version": "1.2.0",
       "_model_name": "LayoutModel",
       "_view_count": null,
       "_view_module": "@jupyter-widgets/base",
       "_view_module_version": "1.2.0",
       "_view_name": "LayoutView",
       "align_content": null,
       "align_items": null,
       "align_self": null,
       "border": null,
       "bottom": null,
       "display": null,
       "flex": null,
       "flex_flow": null,
       "grid_area": null,
       "grid_auto_columns": null,
       "grid_auto_flow": null,
       "grid_auto_rows": null,
       "grid_column": null,
       "grid_gap": null,
       "grid_row": null,
       "grid_template_areas": null,
       "grid_template_columns": null,
       "grid_template_rows": null,
       "height": null,
       "justify_content": null,
       "justify_items": null,
       "left": null,
       "margin": null,
       "max_height": null,
       "max_width": null,
       "min_height": null,
       "min_width": null,
       "object_fit": null,
       "object_position": null,
       "order": null,
       "overflow": null,
       "overflow_x": null,
       "overflow_y": null,
       "padding": null,
       "right": null,
       "top": null,
       "visibility": null,
       "width": null
      }
     },
     "b639e53df60d4a57a75f81a081689ed2": {
      "model_module": "@jupyter-widgets/controls",
      "model_module_version": "1.5.0",
      "model_name": "HTMLModel",
      "state": {
       "_dom_classes": [],
       "_model_module": "@jupyter-widgets/controls",
       "_model_module_version": "1.5.0",
       "_model_name": "HTMLModel",
       "_view_count": null,
       "_view_module": "@jupyter-widgets/controls",
       "_view_module_version": "1.5.0",
       "_view_name": "HTMLView",
       "description": "",
       "description_tooltip": null,
       "layout": "IPY_MODEL_5747c723130e4514901569a942865a50",
       "placeholder": "​",
       "style": "IPY_MODEL_8070c9062066489aa77562c6f61c3f4f",
       "value": " 1/1 [00:00&lt;00:00,  1.66it/s]"
      }
     },
     "b7eb6cd7de0c4d3d803d25b149010c64": {
      "model_module": "@jupyter-widgets/base",
      "model_module_version": "1.2.0",
      "model_name": "LayoutModel",
      "state": {
       "_model_module": "@jupyter-widgets/base",
       "_model_module_version": "1.2.0",
       "_model_name": "LayoutModel",
       "_view_count": null,
       "_view_module": "@jupyter-widgets/base",
       "_view_module_version": "1.2.0",
       "_view_name": "LayoutView",
       "align_content": null,
       "align_items": null,
       "align_self": null,
       "border": null,
       "bottom": null,
       "display": null,
       "flex": null,
       "flex_flow": null,
       "grid_area": null,
       "grid_auto_columns": null,
       "grid_auto_flow": null,
       "grid_auto_rows": null,
       "grid_column": null,
       "grid_gap": null,
       "grid_row": null,
       "grid_template_areas": null,
       "grid_template_columns": null,
       "grid_template_rows": null,
       "height": null,
       "justify_content": null,
       "justify_items": null,
       "left": null,
       "margin": null,
       "max_height": null,
       "max_width": null,
       "min_height": null,
       "min_width": null,
       "object_fit": null,
       "object_position": null,
       "order": null,
       "overflow": null,
       "overflow_x": null,
       "overflow_y": null,
       "padding": null,
       "right": null,
       "top": null,
       "visibility": null,
       "width": null
      }
     },
     "d0b8659e07d0451580a6cd3e7e3d2a46": {
      "model_module": "@jupyter-widgets/base",
      "model_module_version": "1.2.0",
      "model_name": "LayoutModel",
      "state": {
       "_model_module": "@jupyter-widgets/base",
       "_model_module_version": "1.2.0",
       "_model_name": "LayoutModel",
       "_view_count": null,
       "_view_module": "@jupyter-widgets/base",
       "_view_module_version": "1.2.0",
       "_view_name": "LayoutView",
       "align_content": null,
       "align_items": null,
       "align_self": null,
       "border": null,
       "bottom": null,
       "display": null,
       "flex": null,
       "flex_flow": null,
       "grid_area": null,
       "grid_auto_columns": null,
       "grid_auto_flow": null,
       "grid_auto_rows": null,
       "grid_column": null,
       "grid_gap": null,
       "grid_row": null,
       "grid_template_areas": null,
       "grid_template_columns": null,
       "grid_template_rows": null,
       "height": null,
       "justify_content": null,
       "justify_items": null,
       "left": null,
       "margin": null,
       "max_height": null,
       "max_width": null,
       "min_height": null,
       "min_width": null,
       "object_fit": null,
       "object_position": null,
       "order": null,
       "overflow": null,
       "overflow_x": null,
       "overflow_y": null,
       "padding": null,
       "right": null,
       "top": null,
       "visibility": null,
       "width": null
      }
     },
     "d6c73687165b4e3baa3ba479cd52e6d9": {
      "model_module": "@jupyter-widgets/controls",
      "model_module_version": "1.5.0",
      "model_name": "DescriptionStyleModel",
      "state": {
       "_model_module": "@jupyter-widgets/controls",
       "_model_module_version": "1.5.0",
       "_model_name": "DescriptionStyleModel",
       "_view_count": null,
       "_view_module": "@jupyter-widgets/base",
       "_view_module_version": "1.2.0",
       "_view_name": "StyleView",
       "description_width": ""
      }
     },
     "e021d20382844300ab6cad6f761e81cf": {
      "model_module": "@jupyter-widgets/controls",
      "model_module_version": "1.5.0",
      "model_name": "HTMLModel",
      "state": {
       "_dom_classes": [],
       "_model_module": "@jupyter-widgets/controls",
       "_model_module_version": "1.5.0",
       "_model_name": "HTMLModel",
       "_view_count": null,
       "_view_module": "@jupyter-widgets/controls",
       "_view_module_version": "1.5.0",
       "_view_name": "HTMLView",
       "description": "",
       "description_tooltip": null,
       "layout": "IPY_MODEL_6fe8e9bcd9074ce389172a385ffaf602",
       "placeholder": "​",
       "style": "IPY_MODEL_88b5d6510d724272a86a86f1381c143b",
       "value": "config.json: 100%"
      }
     },
     "e0451c606a0e4fc58a41fbd113527175": {
      "model_module": "@jupyter-widgets/controls",
      "model_module_version": "1.5.0",
      "model_name": "HTMLModel",
      "state": {
       "_dom_classes": [],
       "_model_module": "@jupyter-widgets/controls",
       "_model_module_version": "1.5.0",
       "_model_name": "HTMLModel",
       "_view_count": null,
       "_view_module": "@jupyter-widgets/controls",
       "_view_module_version": "1.5.0",
       "_view_name": "HTMLView",
       "description": "",
       "description_tooltip": null,
       "layout": "IPY_MODEL_72eb1a1116f9463ea80ad191a45c336b",
       "placeholder": "​",
       "style": "IPY_MODEL_6af26f655f3d45178a5be7e141d55600",
       "value": " 1/1 [00:48&lt;00:00, 48.66s/it]"
      }
     },
     "f42eb49541f04dd4add80c524eb8d3ab": {
      "model_module": "@jupyter-widgets/controls",
      "model_module_version": "1.5.0",
      "model_name": "HTMLModel",
      "state": {
       "_dom_classes": [],
       "_model_module": "@jupyter-widgets/controls",
       "_model_module_version": "1.5.0",
       "_model_name": "HTMLModel",
       "_view_count": null,
       "_view_module": "@jupyter-widgets/controls",
       "_view_module_version": "1.5.0",
       "_view_name": "HTMLView",
       "description": "",
       "description_tooltip": null,
       "layout": "IPY_MODEL_8f3e99fc73af4b4fac8a5d30c62bc707",
       "placeholder": "​",
       "style": "IPY_MODEL_20f12c028c6a4656bb5d7ff4adc66fec",
       "value": " 4.37G/4.37G [00:48&lt;00:00, 78.8MB/s]"
      }
     }
    },
    "version_major": 2,
    "version_minor": 0
   }
  }
 },
 "nbformat": 4,
 "nbformat_minor": 5
}
