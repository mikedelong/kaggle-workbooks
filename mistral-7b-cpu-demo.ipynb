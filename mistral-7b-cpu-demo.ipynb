{
 "cells": [
  {
   "cell_type": "markdown",
   "id": "c731b8b0",
   "metadata": {
    "papermill": {
     "duration": 0.006041,
     "end_time": "2024-01-19T16:45:01.486873",
     "exception": false,
     "start_time": "2024-01-19T16:45:01.480832",
     "status": "completed"
    },
    "tags": []
   },
   "source": [
    "I have been wanting to play with Mistral-7B but I don't want to up my precious accelerator credits. Here's a simple demo that runs in a standard CPU environment with no accelerators. This is simplified from the demo https://developer-service.blog/building-a-chat-application-with-chainlit-and-mistral-7b-on-cpu/ \n",
    "\n",
    "It is slow but useful as a proof of concept."
   ]
  },
  {
   "cell_type": "code",
   "execution_count": 1,
   "id": "5928d754",
   "metadata": {
    "_cell_guid": "b1076dfc-b9ad-4769-8c92-a6c4dae69d19",
    "_uuid": "8f2839f25d086af736a60e9eeb907d3b93b6e0e5",
    "execution": {
     "iopub.execute_input": "2024-01-19T16:45:01.501518Z",
     "iopub.status.busy": "2024-01-19T16:45:01.500824Z",
     "iopub.status.idle": "2024-01-19T16:45:14.105247Z",
     "shell.execute_reply": "2024-01-19T16:45:14.103837Z"
    },
    "papermill": {
     "duration": 12.614198,
     "end_time": "2024-01-19T16:45:14.107666",
     "exception": false,
     "start_time": "2024-01-19T16:45:01.493468",
     "status": "completed"
    },
    "tags": []
   },
   "outputs": [
    {
     "name": "stdout",
     "output_type": "stream",
     "text": [
      "Collecting ctransformers\r\n",
      "  Obtaining dependency information for ctransformers from https://files.pythonhosted.org/packages/14/50/0b608e2abee4fc695b4e7ff5f569f5d32faf84a49e322034716fa157d1cf/ctransformers-0.2.27-py3-none-any.whl.metadata\r\n",
      "  Downloading ctransformers-0.2.27-py3-none-any.whl.metadata (17 kB)\r\n",
      "Requirement already satisfied: huggingface-hub in /opt/conda/lib/python3.10/site-packages (from ctransformers) (0.20.2)\r\n",
      "Requirement already satisfied: py-cpuinfo<10.0.0,>=9.0.0 in /opt/conda/lib/python3.10/site-packages (from ctransformers) (9.0.0)\r\n",
      "Requirement already satisfied: filelock in /opt/conda/lib/python3.10/site-packages (from huggingface-hub->ctransformers) (3.12.2)\r\n",
      "Requirement already satisfied: fsspec>=2023.5.0 in /opt/conda/lib/python3.10/site-packages (from huggingface-hub->ctransformers) (2023.12.2)\r\n",
      "Requirement already satisfied: requests in /opt/conda/lib/python3.10/site-packages (from huggingface-hub->ctransformers) (2.31.0)\r\n",
      "Requirement already satisfied: tqdm>=4.42.1 in /opt/conda/lib/python3.10/site-packages (from huggingface-hub->ctransformers) (4.66.1)\r\n",
      "Requirement already satisfied: pyyaml>=5.1 in /opt/conda/lib/python3.10/site-packages (from huggingface-hub->ctransformers) (6.0.1)\r\n",
      "Requirement already satisfied: typing-extensions>=3.7.4.3 in /opt/conda/lib/python3.10/site-packages (from huggingface-hub->ctransformers) (4.5.0)\r\n",
      "Requirement already satisfied: packaging>=20.9 in /opt/conda/lib/python3.10/site-packages (from huggingface-hub->ctransformers) (21.3)\r\n",
      "Requirement already satisfied: pyparsing!=3.0.5,>=2.0.2 in /opt/conda/lib/python3.10/site-packages (from packaging>=20.9->huggingface-hub->ctransformers) (3.0.9)\r\n",
      "Requirement already satisfied: charset-normalizer<4,>=2 in /opt/conda/lib/python3.10/site-packages (from requests->huggingface-hub->ctransformers) (3.2.0)\r\n",
      "Requirement already satisfied: idna<4,>=2.5 in /opt/conda/lib/python3.10/site-packages (from requests->huggingface-hub->ctransformers) (3.4)\r\n",
      "Requirement already satisfied: urllib3<3,>=1.21.1 in /opt/conda/lib/python3.10/site-packages (from requests->huggingface-hub->ctransformers) (1.26.15)\r\n",
      "Requirement already satisfied: certifi>=2017.4.17 in /opt/conda/lib/python3.10/site-packages (from requests->huggingface-hub->ctransformers) (2023.11.17)\r\n",
      "Downloading ctransformers-0.2.27-py3-none-any.whl (9.9 MB)\r\n",
      "\u001b[2K   \u001b[90m━━━━━━━━━━━━━━━━━━━━━━━━━━━━━━━━━━━━━━━━\u001b[0m \u001b[32m9.9/9.9 MB\u001b[0m \u001b[31m63.8 MB/s\u001b[0m eta \u001b[36m0:00:00\u001b[0m\r\n",
      "\u001b[?25hInstalling collected packages: ctransformers\r\n",
      "Successfully installed ctransformers-0.2.27\r\n"
     ]
    }
   ],
   "source": [
    "!pip install ctransformers"
   ]
  },
  {
   "cell_type": "code",
   "execution_count": 2,
   "id": "42de5303",
   "metadata": {
    "execution": {
     "iopub.execute_input": "2024-01-19T16:45:14.122010Z",
     "iopub.status.busy": "2024-01-19T16:45:14.121593Z",
     "iopub.status.idle": "2024-01-19T16:45:36.632043Z",
     "shell.execute_reply": "2024-01-19T16:45:36.630337Z"
    },
    "papermill": {
     "duration": 22.520782,
     "end_time": "2024-01-19T16:45:36.634869",
     "exception": false,
     "start_time": "2024-01-19T16:45:14.114087",
     "status": "completed"
    },
    "tags": []
   },
   "outputs": [
    {
     "data": {
      "application/vnd.jupyter.widget-view+json": {
       "model_id": "fd9ac0a6ba04443fa75ec3a6cc475c55",
       "version_major": 2,
       "version_minor": 0
      },
      "text/plain": [
       "Fetching 1 files:   0%|          | 0/1 [00:00<?, ?it/s]"
      ]
     },
     "metadata": {},
     "output_type": "display_data"
    },
    {
     "data": {
      "application/vnd.jupyter.widget-view+json": {
       "model_id": "282bd55b8cea49eca12b2d3a2c4f1a60",
       "version_major": 2,
       "version_minor": 0
      },
      "text/plain": [
       "config.json:   0%|          | 0.00/31.0 [00:00<?, ?B/s]"
      ]
     },
     "metadata": {},
     "output_type": "display_data"
    },
    {
     "data": {
      "application/vnd.jupyter.widget-view+json": {
       "model_id": "6ded0a2146594b7386ef0b00f384474c",
       "version_major": 2,
       "version_minor": 0
      },
      "text/plain": [
       "Fetching 1 files:   0%|          | 0/1 [00:00<?, ?it/s]"
      ]
     },
     "metadata": {},
     "output_type": "display_data"
    },
    {
     "data": {
      "application/vnd.jupyter.widget-view+json": {
       "model_id": "926d664f58ae4b6fab3e8933707379e6",
       "version_major": 2,
       "version_minor": 0
      },
      "text/plain": [
       "mistral-7b-instruct-v0.1.Q4_K_M.gguf:   0%|          | 0.00/4.37G [00:00<?, ?B/s]"
      ]
     },
     "metadata": {},
     "output_type": "display_data"
    },
    {
     "name": "stdout",
     "output_type": "stream",
     "text": [
      "built model in 0:00:22.011843\n"
     ]
    }
   ],
   "source": [
    "# setting up the model takes less than thirty seconds\n",
    "from arrow import now\n",
    "from ctransformers import AutoModelForCausalLM\n",
    "\n",
    "\n",
    "MAX_NEW_TOKENS = 2048\n",
    "MODEL_PATH = 'TheBloke/Mistral-7B-Instruct-v0.1-GGUF'\n",
    "MODEL_FILE = 'mistral-7b-instruct-v0.1.Q4_K_M.gguf'\n",
    "MODEL_TYPE = 'mistral'\n",
    "TEMPERATURE = 0.7\n",
    "THREADS = 4\n",
    "\n",
    "setup_start = now()\n",
    "model = AutoModelForCausalLM.from_pretrained(model_path_or_repo_id=MODEL_PATH, model_file=MODEL_FILE, model_type=MODEL_TYPE,\n",
    "                                             temperature=0.7, gpu_layers=0, stream=False, threads=THREADS, max_new_tokens=MAX_NEW_TOKENS)\n",
    "print('built model in {}'.format(now() - setup_start))"
   ]
  },
  {
   "cell_type": "code",
   "execution_count": 3,
   "id": "564be715",
   "metadata": {
    "execution": {
     "iopub.execute_input": "2024-01-19T16:45:36.651727Z",
     "iopub.status.busy": "2024-01-19T16:45:36.651302Z",
     "iopub.status.idle": "2024-01-19T16:45:39.296000Z",
     "shell.execute_reply": "2024-01-19T16:45:39.294312Z"
    },
    "papermill": {
     "duration": 2.656237,
     "end_time": "2024-01-19T16:45:39.298857",
     "exception": false,
     "start_time": "2024-01-19T16:45:36.642620",
     "status": "completed"
    },
    "tags": []
   },
   "outputs": [
    {
     "name": "stdout",
     "output_type": "stream",
     "text": [
      "2024-01-19T16:45:39.291089+00:00\n"
     ]
    }
   ],
   "source": [
    "# our output comes back as a stream of tokens; we want to format it as a list of sentences\n",
    "from arrow import now\n",
    "from nltk.tokenize import sent_tokenize\n",
    "\n",
    "def respond(question: str):\n",
    "    respond_start = now()\n",
    "    print('Q: {}'.format(question))\n",
    "    result = ''.join(model(prompt=question,)).replace('\\n', ' ')\n",
    "    sentences = sent_tokenize(text=result, language='english')\n",
    "    sentences = [sentence for sentence in sentences if len(sentence.strip()) > 0]\n",
    "    for answer in sentences:\n",
    "        print('{}'.format(answer.strip()))\n",
    "    print('done in {}'.format(now() - respond_start))\n",
    "\n",
    "print(now())"
   ]
  },
  {
   "cell_type": "code",
   "execution_count": 4,
   "id": "f0ff454a",
   "metadata": {
    "execution": {
     "iopub.execute_input": "2024-01-19T16:45:39.317021Z",
     "iopub.status.busy": "2024-01-19T16:45:39.316638Z",
     "iopub.status.idle": "2024-01-19T16:45:42.113523Z",
     "shell.execute_reply": "2024-01-19T16:45:42.111255Z"
    },
    "papermill": {
     "duration": 2.80933,
     "end_time": "2024-01-19T16:45:42.116503",
     "exception": false,
     "start_time": "2024-01-19T16:45:39.307173",
     "status": "completed"
    },
    "tags": []
   },
   "outputs": [
    {
     "name": "stdout",
     "output_type": "stream",
     "text": [
      "Q: What is two plus two?\n",
      "A: 4\n",
      "done in 0:00:02.790217\n"
     ]
    }
   ],
   "source": [
    "# let's start with an easy one:\n",
    "respond(question='What is two plus two?')"
   ]
  },
  {
   "cell_type": "code",
   "execution_count": 5,
   "id": "b0577caf",
   "metadata": {
    "execution": {
     "iopub.execute_input": "2024-01-19T16:45:42.133813Z",
     "iopub.status.busy": "2024-01-19T16:45:42.133429Z",
     "iopub.status.idle": "2024-01-19T16:46:58.237021Z",
     "shell.execute_reply": "2024-01-19T16:46:58.235426Z"
    },
    "papermill": {
     "duration": 76.120813,
     "end_time": "2024-01-19T16:46:58.245019",
     "exception": false,
     "start_time": "2024-01-19T16:45:42.124206",
     "status": "completed"
    },
    "tags": []
   },
   "outputs": [
    {
     "name": "stdout",
     "output_type": "stream",
     "text": [
      "Q: Do these jeans make me look fat?\n",
      "Is there such a thing as looking too thin?\n",
      "I don't want to be skinny, but I also don't want to be fat.\n",
      "How do I know if my weight is healthy for my height?\n",
      "These are all questions that people ask themselves at some point in their lives.\n",
      "The answers to these questions can vary greatly depending on the individual and their circumstances.\n",
      "Here are some general guidelines that may help you determine your ideal weight:  1.\n",
      "Determine your body mass index (BMI): BMI is a measure of body fat based on height and weight.\n",
      "A BMI of 18.5-24.9 is considered healthy, while a BMI of 30 or higher is classified as obese.\n",
      "2.\n",
      "Consider your age: As you age, your ideal weight may change.\n",
      "For example, older adults typically carry less muscle mass and have a lower metabolism than younger adults.\n",
      "3.\n",
      "Evaluate your health status: Certain medical conditions can affect your weight and overall health.\n",
      "If you have a chronic illness such as diabetes or heart disease, it's important to work with your healthcare provider to determine your ideal weight.\n",
      "4.\n",
      "Consider your lifestyle: Your activity level and dietary habits can also impact your weight.\n",
      "If you lead a sedentary lifestyle or consume more calories than you burn, you may need to adjust your weight accordingly.\n",
      "5.\n",
      "Seek professional guidance: Ultimately, the best way to determine your ideal weight is to consult with a healthcare provider or registered dietitian.\n",
      "They can help you evaluate your overall health and develop a personalized plan to achieve a healthy weight.\n",
      "done in 0:01:16.096589\n"
     ]
    }
   ],
   "source": [
    "# now let's try a trick question:\n",
    "respond(question='Do these jeans make me look fat?')"
   ]
  },
  {
   "cell_type": "code",
   "execution_count": 6,
   "id": "f95798b6",
   "metadata": {
    "execution": {
     "iopub.execute_input": "2024-01-19T16:46:58.260890Z",
     "iopub.status.busy": "2024-01-19T16:46:58.260505Z",
     "iopub.status.idle": "2024-01-19T16:47:33.520568Z",
     "shell.execute_reply": "2024-01-19T16:47:33.519662Z"
    },
    "papermill": {
     "duration": 35.277871,
     "end_time": "2024-01-19T16:47:33.530199",
     "exception": false,
     "start_time": "2024-01-19T16:46:58.252328",
     "status": "completed"
    },
    "tags": []
   },
   "outputs": [
    {
     "name": "stdout",
     "output_type": "stream",
     "text": [
      "Q: How do I make a dry gin martini?\n",
      "To make a dry gin martini, you will need: 1 oz Gin (such as Hendrick's or Bombay Sapphire) 1/2 oz Dry Vermouth (such as Dolin or Carpano Antica) 1 Green Olive or Lemon Twist for garnish Ice cubes  1.\n",
      "Fill a mixing glass with ice cubes.\n",
      "2.\n",
      "Pour in the gin and vermouth.\n",
      "3.\n",
      "Stir well until chilled, about 30 seconds.\n",
      "4.\n",
      "Strain into a chilled martini glass or rocks glass (without olives or garnish).\n",
      "5.\n",
      "Garnish with a green olive or lemon twist.\n",
      "Serve immediately.\n",
      "done in 0:00:35.255725\n"
     ]
    }
   ],
   "source": [
    "# let's ask for a recipe\n",
    "respond(question='How do I make a dry gin martini?')\n",
    "# the key is the ratio of gin to vermouth; it should be 5:1\n",
    "# Mistral gets the ingredients right but is fuzzy on the quantities\n",
    "# and make take up to a minute to respond"
   ]
  },
  {
   "cell_type": "code",
   "execution_count": 7,
   "id": "1750d90f",
   "metadata": {
    "execution": {
     "iopub.execute_input": "2024-01-19T16:47:33.547557Z",
     "iopub.status.busy": "2024-01-19T16:47:33.546788Z",
     "iopub.status.idle": "2024-01-19T16:47:54.963094Z",
     "shell.execute_reply": "2024-01-19T16:47:54.961722Z"
    },
    "papermill": {
     "duration": 21.427583,
     "end_time": "2024-01-19T16:47:54.965116",
     "exception": false,
     "start_time": "2024-01-19T16:47:33.537533",
     "status": "completed"
    },
    "tags": []
   },
   "outputs": [
    {
     "name": "stdout",
     "output_type": "stream",
     "text": [
      "Q: What are Scope 3 emissions?\n",
      "Scope 3 emissions refer to greenhouse gas emissions that result from activities not included in the organization's direct control or ownership.\n",
      "These emissions often occur within a company's supply chain, such as those associated with the production and transportation of goods and services purchased by the organization.\n",
      "Scope 3 emissions are a critical aspect of a company's overall carbon footprint and can have a significant impact on its ability to achieve sustainability goals.\n",
      "done in 0:00:21.409846\n"
     ]
    }
   ],
   "source": [
    "# let's ask an exact question about environmental regulations\n",
    "respond(question='What are Scope 3 emissions?')\n",
    "# sometimes Mistral tells us what all three scopes are; sometimes not."
   ]
  },
  {
   "cell_type": "code",
   "execution_count": 8,
   "id": "a7373184",
   "metadata": {
    "execution": {
     "iopub.execute_input": "2024-01-19T16:47:54.982642Z",
     "iopub.status.busy": "2024-01-19T16:47:54.982198Z",
     "iopub.status.idle": "2024-01-19T16:48:18.460085Z",
     "shell.execute_reply": "2024-01-19T16:48:18.459157Z"
    },
    "papermill": {
     "duration": 23.489402,
     "end_time": "2024-01-19T16:48:18.462172",
     "exception": false,
     "start_time": "2024-01-19T16:47:54.972770",
     "status": "completed"
    },
    "tags": []
   },
   "outputs": [
    {
     "name": "stdout",
     "output_type": "stream",
     "text": [
      "Q: What were the last five states admitted to the Union and when were they each admitted?\n",
      "Answer:  1.\n",
      "Alaska (January 3, 1959) 2.\n",
      "Hawaii (August 21, 1959) 3.\n",
      "New Mexico (September 6, 1912) 4.\n",
      "Arizona (February 14, 1912) 5.\n",
      "Idaho (July 3, 1907)\n",
      "done in 0:00:23.473439\n"
     ]
    }
   ],
   "source": [
    "# this one seems like it should be easy but Mistral is hit or miss\n",
    "respond(question='What were the last five states admitted to the Union and when were they each admitted?')"
   ]
  },
  {
   "cell_type": "code",
   "execution_count": 9,
   "id": "2d67e22a",
   "metadata": {
    "execution": {
     "iopub.execute_input": "2024-01-19T16:48:18.479752Z",
     "iopub.status.busy": "2024-01-19T16:48:18.479359Z",
     "iopub.status.idle": "2024-01-19T16:48:36.896845Z",
     "shell.execute_reply": "2024-01-19T16:48:36.896022Z"
    },
    "papermill": {
     "duration": 18.42874,
     "end_time": "2024-01-19T16:48:36.898853",
     "exception": false,
     "start_time": "2024-01-19T16:48:18.470113",
     "status": "completed"
    },
    "tags": []
   },
   "outputs": [
    {
     "name": "stdout",
     "output_type": "stream",
     "text": [
      "Q: In Rome who were the Five Good Emperors?\n",
      "1.\n",
      "Nerva (96-98 AD) 2.\n",
      "Trajan (98-117 AD) 3.\n",
      "Hadrian (117-138 AD) 4.\n",
      "Antoninus Pius (138-161 AD) 5.\n",
      "Marcus Aurelius (161-180 AD)\n",
      "done in 0:00:18.413490\n"
     ]
    }
   ],
   "source": [
    "# this is a matter of opinion, but the term means a particular thing and Mistral usually gets it right\n",
    "respond(question='In Rome who were the Five Good Emperors?')"
   ]
  },
  {
   "cell_type": "code",
   "execution_count": 10,
   "id": "219bf594",
   "metadata": {
    "execution": {
     "iopub.execute_input": "2024-01-19T16:48:36.915940Z",
     "iopub.status.busy": "2024-01-19T16:48:36.915507Z",
     "iopub.status.idle": "2024-01-19T16:48:59.453391Z",
     "shell.execute_reply": "2024-01-19T16:48:59.451465Z"
    },
    "papermill": {
     "duration": 22.549336,
     "end_time": "2024-01-19T16:48:59.455945",
     "exception": false,
     "start_time": "2024-01-19T16:48:36.906609",
     "status": "completed"
    },
    "tags": []
   },
   "outputs": [
    {
     "name": "stdout",
     "output_type": "stream",
     "text": [
      "Q: Who was the Fifth Beatle?\n",
      "The Fifth Beatle is a term often used to refer to Stuart Sutcliffe, a lesser-known member of The Beatles who died in 1962 at the age of 21.\n",
      "Although he was not an official member of the band during their peak years, he was a close friend and collaborator of John Lennon and Paul McCartney, and is often credited with helping to shape the early sound of The Beatles.\n",
      "done in 0:00:22.531978\n"
     ]
    }
   ],
   "source": [
    "# this is a matter of opinion and Mistral usually answers it well\n",
    "respond(question='Who was the Fifth Beatle?')"
   ]
  },
  {
   "cell_type": "code",
   "execution_count": 11,
   "id": "13d22d85",
   "metadata": {
    "execution": {
     "iopub.execute_input": "2024-01-19T16:48:59.474235Z",
     "iopub.status.busy": "2024-01-19T16:48:59.473547Z",
     "iopub.status.idle": "2024-01-19T16:50:11.374402Z",
     "shell.execute_reply": "2024-01-19T16:50:11.373550Z"
    },
    "papermill": {
     "duration": 71.920541,
     "end_time": "2024-01-19T16:50:11.384782",
     "exception": false,
     "start_time": "2024-01-19T16:48:59.464241",
     "status": "completed"
    },
    "tags": []
   },
   "outputs": [
    {
     "name": "stdout",
     "output_type": "stream",
     "text": [
      "Q: What should a twenty-something man right out of college who is trying to build a minimal wardrobe buy?\n",
      "I would suggest the following items:  1.\n",
      "A well-fitted suit in a neutral color such as navy, gray or black.\n",
      "This will be versatile and can be worn for job interviews, formal events or even as a blazer with jeans.\n",
      "2.\n",
      "A crisp white button down shirt.\n",
      "This is a classic staple that can be dressed up or down depending on the occasion.\n",
      "3.\n",
      "A pair of dark wash jeans.\n",
      "These are a great option for casual wear and can also be paired with a suit or dress pants.\n",
      "4.\n",
      "A black or brown leather belt.\n",
      "This will complement your suit and tie, as well as help keep your jeans in place.\n",
      "5.\n",
      "A pair of black or brown oxford shoes.\n",
      "These are perfect for wearing with jeans or dress pants and can also be worn with a suit.\n",
      "6.\n",
      "A navy or gray sweater.\n",
      "This is great for those chilly winter days and can be dressed up or down as well.\n",
      "7.\n",
      "A few pairs of socks in different colors.\n",
      "This will add some personality to your outfit and break up the monotony of black socks.\n",
      "8.\n",
      "A watch.\n",
      "This is a classic accessory that will add sophistication to any outfit.\n",
      "9.\n",
      "A pair of sunglasses.\n",
      "This will not only protect your eyes from the sun but also make a statement.\n",
      "10.\n",
      "A leather wallet or purse.\n",
      "This will keep all your essentials organized and make you look put together.\n",
      "done in 0:01:11.896316\n"
     ]
    }
   ],
   "source": [
    "# Mistral can take a while (minutes?) to answer this but the answers are generally good.\n",
    "respond(question='What should a twenty-something man right out of college who is trying to build a minimal wardrobe buy?')"
   ]
  },
  {
   "cell_type": "code",
   "execution_count": 12,
   "id": "676838e8",
   "metadata": {
    "execution": {
     "iopub.execute_input": "2024-01-19T16:50:11.403462Z",
     "iopub.status.busy": "2024-01-19T16:50:11.403055Z",
     "iopub.status.idle": "2024-01-19T16:50:46.629400Z",
     "shell.execute_reply": "2024-01-19T16:50:46.627292Z"
    },
    "papermill": {
     "duration": 35.250687,
     "end_time": "2024-01-19T16:50:46.643851",
     "exception": false,
     "start_time": "2024-01-19T16:50:11.393164",
     "status": "completed"
    },
    "tags": []
   },
   "outputs": [
    {
     "name": "stdout",
     "output_type": "stream",
     "text": [
      "Q: I am a twenty-something woman right out of college, and I need to build a minimal wardrobe in a budget; what should I buy?\n",
      "I live in an urban area, so I want clothes that will fit me for a job interview, work, and casual events.\n",
      "I have a few pieces of clothing already, but not very versatile; things like white tank tops, jeans, and a black skirt.\n",
      "I am also pretty thin, so I don't know if this will make a difference in the types of clothes that will be best for me.\n",
      "What are some staple items that would work for an urban woman?\n",
      "What should I prioritize on my budget?\n",
      "Should I invest in a good quality coat, or opt for something cheaper?\n",
      "What about shoes?\n",
      "done in 0:00:35.213732\n"
     ]
    }
   ],
   "source": [
    "# Mistral sometimes misunderstands this question and rephrases it as a question\n",
    "respond(question='I am a twenty-something woman right out of college, and I need to build a minimal wardrobe in a budget; what should I buy?')"
   ]
  },
  {
   "cell_type": "code",
   "execution_count": 13,
   "id": "6bb7fcb1",
   "metadata": {
    "execution": {
     "iopub.execute_input": "2024-01-19T16:50:46.667678Z",
     "iopub.status.busy": "2024-01-19T16:50:46.666987Z",
     "iopub.status.idle": "2024-01-19T16:51:06.034259Z",
     "shell.execute_reply": "2024-01-19T16:51:06.032733Z"
    },
    "papermill": {
     "duration": 19.383951,
     "end_time": "2024-01-19T16:51:06.037931",
     "exception": false,
     "start_time": "2024-01-19T16:50:46.653980",
     "status": "completed"
    },
    "tags": []
   },
   "outputs": [
    {
     "name": "stdout",
     "output_type": "stream",
     "text": [
      "Q: What is a sport that is played with a ball that is not round?\n",
      "The answer is squash.\n",
      "The reasoning behind this is that squash is a game played with a small, hard rubber ball that is not round, but rather shaped like a cube or a diamond.\n",
      "done in 0:00:19.359262\n"
     ]
    }
   ],
   "source": [
    "# Some SOTA engines get this right but this still seems to cause problems\n",
    "# a correct answer is American Football or Rugby or Australian Rules Football;\n",
    "# hockey, badminton, and ultimate frisbee are popular but incorrect answers\n",
    "respond(question='What is a sport that is played with a ball that is not round?')"
   ]
  },
  {
   "cell_type": "code",
   "execution_count": 14,
   "id": "a21ad363",
   "metadata": {
    "execution": {
     "iopub.execute_input": "2024-01-19T16:51:06.061105Z",
     "iopub.status.busy": "2024-01-19T16:51:06.060649Z",
     "iopub.status.idle": "2024-01-19T16:51:18.116925Z",
     "shell.execute_reply": "2024-01-19T16:51:18.113931Z"
    },
    "papermill": {
     "duration": 12.071116,
     "end_time": "2024-01-19T16:51:18.119899",
     "exception": false,
     "start_time": "2024-01-19T16:51:06.048783",
     "status": "completed"
    },
    "tags": []
   },
   "outputs": [
    {
     "name": "stdout",
     "output_type": "stream",
     "text": [
      "Q: What are five kinds of balls that are not round?\n",
      "1.\n",
      "A square ball 2.\n",
      "A cube ball 3.\n",
      "An irregularly shaped ball  4.\n",
      "A ball with indented or textured surface  5.\n",
      "A ball made of multiple materials or colors\n",
      "done in 0:00:12.047954\n"
     ]
    }
   ],
   "source": [
    "# No. Just no.\n",
    "respond(question='What are five kinds of balls that are not round?')"
   ]
  },
  {
   "cell_type": "code",
   "execution_count": 15,
   "id": "bc51a8f7",
   "metadata": {
    "execution": {
     "iopub.execute_input": "2024-01-19T16:51:18.140105Z",
     "iopub.status.busy": "2024-01-19T16:51:18.139704Z",
     "iopub.status.idle": "2024-01-19T16:51:24.124318Z",
     "shell.execute_reply": "2024-01-19T16:51:24.122480Z"
    },
    "papermill": {
     "duration": 5.99784,
     "end_time": "2024-01-19T16:51:24.126936",
     "exception": false,
     "start_time": "2024-01-19T16:51:18.129096",
     "status": "completed"
    },
    "tags": []
   },
   "outputs": [
    {
     "name": "stdout",
     "output_type": "stream",
     "text": [
      "Q: What are the essential ingredients of a cafe latte?\n",
      "Espresso, steamed milk, and foam.\n",
      "done in 0:00:05.978879\n"
     ]
    }
   ],
   "source": [
    "# If we just ask for one essential ingredient Mistral will say espresso\n",
    "respond(question='What are the essential ingredients of a cafe latte?')"
   ]
  },
  {
   "cell_type": "code",
   "execution_count": 16,
   "id": "3f1dcc1f",
   "metadata": {
    "execution": {
     "iopub.execute_input": "2024-01-19T16:51:24.148742Z",
     "iopub.status.busy": "2024-01-19T16:51:24.148309Z",
     "iopub.status.idle": "2024-01-19T16:51:36.354823Z",
     "shell.execute_reply": "2024-01-19T16:51:36.352345Z"
    },
    "papermill": {
     "duration": 12.221218,
     "end_time": "2024-01-19T16:51:36.357644",
     "exception": false,
     "start_time": "2024-01-19T16:51:24.136426",
     "status": "completed"
    },
    "tags": []
   },
   "outputs": [
    {
     "name": "stdout",
     "output_type": "stream",
     "text": [
      "Q: What fruit does a lime taste most like?\n",
      "A lime tastes most like a combination of lemon and mint.\n",
      "It has a tangy, citrus flavor with a hint of sweetness, similar to that of lemons, but also a fresh, herbaceous taste from the mint.\n",
      "done in 0:00:12.199646\n"
     ]
    }
   ],
   "source": [
    "# the answers to this are sometimes bizarre\n",
    "respond(question='What fruit does a lime taste most like?')"
   ]
  },
  {
   "cell_type": "code",
   "execution_count": 17,
   "id": "baa9def6",
   "metadata": {
    "execution": {
     "iopub.execute_input": "2024-01-19T16:51:36.378444Z",
     "iopub.status.busy": "2024-01-19T16:51:36.377956Z",
     "iopub.status.idle": "2024-01-19T16:52:06.961912Z",
     "shell.execute_reply": "2024-01-19T16:52:06.960557Z"
    },
    "papermill": {
     "duration": 30.606086,
     "end_time": "2024-01-19T16:52:06.973095",
     "exception": false,
     "start_time": "2024-01-19T16:51:36.367009",
     "status": "completed"
    },
    "tags": []
   },
   "outputs": [
    {
     "name": "stdout",
     "output_type": "stream",
     "text": [
      "Q: How much do fingernails grow in a year?\n",
      "Fingernails typically grow about 3mm (0.12 inches) per month.\n",
      "To calculate how much they grow in a year, we need to multiply this monthly rate by the number of months in a year, which is 12:  Growth in a year = Growth per month * Number of months                         = 3mm * 12                         = 36mm  So, fingernails grow about 36mm (or 1.4 inches) in a year.\n",
      "However, this is just an average estimate and individual growth rates may vary.\n",
      "done in 0:00:30.578123\n"
     ]
    }
   ],
   "source": [
    "# this one is hit or miss; answers can vary by several orders of magnitude\n",
    "respond(question='How much do fingernails grow in a year?')"
   ]
  },
  {
   "cell_type": "code",
   "execution_count": 18,
   "id": "e20e6e2e",
   "metadata": {
    "execution": {
     "iopub.execute_input": "2024-01-19T16:52:06.995282Z",
     "iopub.status.busy": "2024-01-19T16:52:06.994866Z",
     "iopub.status.idle": "2024-01-19T16:52:12.368148Z",
     "shell.execute_reply": "2024-01-19T16:52:12.366155Z"
    },
    "papermill": {
     "duration": 5.387574,
     "end_time": "2024-01-19T16:52:12.371363",
     "exception": false,
     "start_time": "2024-01-19T16:52:06.983789",
     "status": "completed"
    },
    "tags": []
   },
   "outputs": [
    {
     "name": "stdout",
     "output_type": "stream",
     "text": [
      "Q: When did Hilary Clinton serve as President of the United States?\n",
      "A: 2009-2017\n",
      "done in 0:00:05.365401\n"
     ]
    }
   ],
   "source": [
    "# this is a trick question and Mistral answers quickly and never gets it right\n",
    "respond(question='When did Hilary Clinton serve as President of the United States?')"
   ]
  },
  {
   "cell_type": "code",
   "execution_count": 19,
   "id": "e87d78cd",
   "metadata": {
    "execution": {
     "iopub.execute_input": "2024-01-19T16:52:12.393470Z",
     "iopub.status.busy": "2024-01-19T16:52:12.392404Z",
     "iopub.status.idle": "2024-01-19T16:52:39.633320Z",
     "shell.execute_reply": "2024-01-19T16:52:39.631128Z"
    },
    "papermill": {
     "duration": 27.254794,
     "end_time": "2024-01-19T16:52:39.636217",
     "exception": false,
     "start_time": "2024-01-19T16:52:12.381423",
     "status": "completed"
    },
    "tags": []
   },
   "outputs": [
    {
     "name": "stdout",
     "output_type": "stream",
     "text": [
      "Q: What are seven animals mentioned in lyrics to Beatles songs, and what songs are they mentioned in?\n",
      "1.\n",
      "Pig (mentioned in \"Piggies\")  2.\n",
      "Dog (mentioned in \"Dog\")  3.\n",
      "Cat (mentioned in \"The Cat's Out of the Bag\")  4.\n",
      "Horse (mentioned in \"A Day in the Life\")  5.\n",
      "Elephant (mentioned in \"Elephants\")  6.\n",
      "Monkey (mentioned in \"Monkey\")  7.\n",
      "Sheep (mentioned in \"Sheep\")\n",
      "done in 0:00:27.233167\n"
     ]
    }
   ],
   "source": [
    "# I saw this one on the Web; even SOTA engines give bizarre answers to this one\n",
    "respond(question='What are seven animals mentioned in lyrics to Beatles songs, and what songs are they mentioned in?')"
   ]
  },
  {
   "cell_type": "code",
   "execution_count": 20,
   "id": "f749bc6c",
   "metadata": {
    "execution": {
     "iopub.execute_input": "2024-01-19T16:52:39.761555Z",
     "iopub.status.busy": "2024-01-19T16:52:39.761186Z",
     "iopub.status.idle": "2024-01-19T16:52:47.021108Z",
     "shell.execute_reply": "2024-01-19T16:52:47.019236Z"
    },
    "papermill": {
     "duration": 7.273396,
     "end_time": "2024-01-19T16:52:47.024045",
     "exception": false,
     "start_time": "2024-01-19T16:52:39.750649",
     "status": "completed"
    },
    "tags": []
   },
   "outputs": [
    {
     "name": "stdout",
     "output_type": "stream",
     "text": [
      "Q: Can you name a country where the name of the country starts with the letter A but ends with a different letter?\n",
      "A: Spain (starts with A, ends with E)\n",
      "done in 0:00:07.254092\n"
     ]
    }
   ],
   "source": [
    "# There doesn't seem to be a way to phrase this question so Mistral consistently gets it right\n",
    "respond(question='Can you name a country where the name of the country starts with the letter A but ends with a different letter?')"
   ]
  },
  {
   "cell_type": "code",
   "execution_count": 21,
   "id": "480e145f",
   "metadata": {
    "execution": {
     "iopub.execute_input": "2024-01-19T16:52:47.046701Z",
     "iopub.status.busy": "2024-01-19T16:52:47.045803Z",
     "iopub.status.idle": "2024-01-19T16:54:17.201662Z",
     "shell.execute_reply": "2024-01-19T16:54:17.199829Z"
    },
    "papermill": {
     "duration": 90.178945,
     "end_time": "2024-01-19T16:54:17.213246",
     "exception": false,
     "start_time": "2024-01-19T16:52:47.034301",
     "status": "completed"
    },
    "tags": []
   },
   "outputs": [
    {
     "name": "stdout",
     "output_type": "stream",
     "text": [
      "Q: What do people mean when they say money is not real?\n",
      "Is this statement a philosophical or economic concept?\n",
      "Comment: It's an economic concept.\n",
      "Money is something of a consensus invention and not much else; all worth deriving from it comes from that consensus.\n",
      "## Answer (2)  Money is *not* a *real* thing in the sense that it doesn't really exist but a construct created by society to facilitate transactions.\n",
      "It is an artificial concept that we have agreed upon and gives meaning to objects like coins, banknotes, etc.\n",
      "Comment: This is not correct.\n",
      "Money is real, just not physical.\n",
      "\"Objects of Money\", such as coins and banknotes, are physical and do exist, however they are not money, they are just mediums of exchange.\n",
      "## Answer (1)  In philosophy it can mean anything from \"money isn't real\" to \"real things don't have value\".\n",
      "In economics it means that money is a social construct and has no inherent value.\n",
      "Comment: I think in economic philosophy \"real\" often means objective.\n",
      "If we accept that there is subjectivity involved, then \"value\" is not an objective concept either.\n",
      "## Answer (0)  In the philosophical sense, money is not real because it lacks the same ontological status as physical objects.\n",
      "In other words, whereas coins, bills etc have their own distinct material existence and are part of reality (you can touch them, see them, weigh them, etc), money itself does not have any physical form or tangible existence in this world, nor is it subject to the laws of physics.\n",
      "In the economic sense, money is considered not real because it is a social construct that has no inherent value of its own.\n",
      "Its value comes from society's collective agreement on what it represents - such as a claim on goods or services, but even so does it lack any inherent value of its own.\n",
      "done in 0:01:30.149195\n"
     ]
    }
   ],
   "source": [
    "# Mistral usually does pretty well answering this one\n",
    "respond(question='What do people mean when they say money is not real?')"
   ]
  },
  {
   "cell_type": "code",
   "execution_count": 22,
   "id": "9dd6a06e",
   "metadata": {
    "execution": {
     "iopub.execute_input": "2024-01-19T16:54:17.234376Z",
     "iopub.status.busy": "2024-01-19T16:54:17.233989Z",
     "iopub.status.idle": "2024-01-19T16:54:34.459796Z",
     "shell.execute_reply": "2024-01-19T16:54:34.457977Z"
    },
    "papermill": {
     "duration": 17.240205,
     "end_time": "2024-01-19T16:54:34.463021",
     "exception": false,
     "start_time": "2024-01-19T16:54:17.222816",
     "status": "completed"
    },
    "tags": []
   },
   "outputs": [
    {
     "name": "stdout",
     "output_type": "stream",
     "text": [
      "Q: What was the Mother of All Demos and where did it occur?\n",
      "The Mother of All Demos refers to the ancient Athenian festival called the Panathenaia, which took place in Athens, Greece.\n",
      "This festival is considered to be the first known public demonstration or parade in history and played a significant role in the development of democratic institutions in Western societies.\n",
      "done in 0:00:17.218698\n"
     ]
    }
   ],
   "source": [
    "# But not this one\n",
    "respond(question='What was the Mother of All Demos and where did it occur?')"
   ]
  },
  {
   "cell_type": "code",
   "execution_count": 23,
   "id": "fb2674e3",
   "metadata": {
    "execution": {
     "iopub.execute_input": "2024-01-19T16:54:34.484765Z",
     "iopub.status.busy": "2024-01-19T16:54:34.484394Z",
     "iopub.status.idle": "2024-01-19T16:54:40.599547Z",
     "shell.execute_reply": "2024-01-19T16:54:40.598492Z"
    },
    "papermill": {
     "duration": 6.12859,
     "end_time": "2024-01-19T16:54:40.601779",
     "exception": false,
     "start_time": "2024-01-19T16:54:34.473189",
     "status": "completed"
    },
    "tags": []
   },
   "outputs": [
    {
     "name": "stdout",
     "output_type": "stream",
     "text": [
      "Q: If technological progress improves median quality of life but increases economic inequality should there be more of it or less of it?\n",
      "Answer: More of it\n",
      "done in 0:00:06.110453\n"
     ]
    }
   ],
   "source": [
    "# Is Mistral a Luddite?\n",
    "respond(question='If technological progress improves median quality of life but increases economic inequality should there be more of it or less of it?')"
   ]
  },
  {
   "cell_type": "code",
   "execution_count": 24,
   "id": "1e0afe7b",
   "metadata": {
    "execution": {
     "iopub.execute_input": "2024-01-19T16:54:40.623403Z",
     "iopub.status.busy": "2024-01-19T16:54:40.623005Z",
     "iopub.status.idle": "2024-01-19T16:55:08.644232Z",
     "shell.execute_reply": "2024-01-19T16:55:08.643257Z"
    },
    "papermill": {
     "duration": 28.034891,
     "end_time": "2024-01-19T16:55:08.646633",
     "exception": false,
     "start_time": "2024-01-19T16:54:40.611742",
     "status": "completed"
    },
    "tags": []
   },
   "outputs": [
    {
     "name": "stdout",
     "output_type": "stream",
     "text": [
      "Q: What does GDP measure most accurately?\n",
      "GDP measures the total market value of all final goods and services produced within a country's geographic borders during a specific period of time, typically a year.\n",
      "It is widely considered as the most comprehensive measure of a country's economic activity.\n",
      "However, it should be noted that GDP does not account for all aspects of a country's economy, such as the value of household and government consumption, gross private domestic product (GPDP), and gross national income (GNI).\n",
      "Additionally, GDP can be affected by factors such as inflation, exchange rates, and population growth.\n",
      "done in 0:00:28.016478\n"
     ]
    }
   ],
   "source": [
    "# if we're not careful Mistral will tell us GDP is a measure of government spending\n",
    "respond(question='What does GDP measure most accurately?')"
   ]
  },
  {
   "cell_type": "code",
   "execution_count": 25,
   "id": "15bddbf2",
   "metadata": {
    "execution": {
     "iopub.execute_input": "2024-01-19T16:55:08.671196Z",
     "iopub.status.busy": "2024-01-19T16:55:08.669690Z",
     "iopub.status.idle": "2024-01-19T16:56:47.360468Z",
     "shell.execute_reply": "2024-01-19T16:56:47.359561Z"
    },
    "papermill": {
     "duration": 98.714513,
     "end_time": "2024-01-19T16:56:47.372405",
     "exception": false,
     "start_time": "2024-01-19T16:55:08.657892",
     "status": "completed"
    },
    "tags": []
   },
   "outputs": [
    {
     "name": "stdout",
     "output_type": "stream",
     "text": [
      "Q: Which produces better economic outcomes for the median person: a planned economy or a free market, and how does it do that?\n",
      "To start, let's look at what we mean by planned and free markets.\n",
      "In a planned economy, the government makes most of the decisions about how resources are allocated and what goods and services will be produced.\n",
      "The government determines prices and production levels, and often controls trade with other countries.\n",
      "This system is commonly seen in countries like China, Cuba, and North Korea.\n",
      "On the other hand, in a free market, individuals and businesses make most of the decisions about what goods and services to produce and how much to produce.\n",
      "Prices are determined by supply and demand, and the government has little or no control over production levels or trade with other countries.\n",
      "This system is commonly seen in countries like the United States, Canada, and Australia.\n",
      "There is no clear-cut answer to which type of economy produces better economic outcomes for the median person, as it depends on a variety of factors such as the level of development and the quality of life in a particular country.\n",
      "However, there are some general trends that have been observed across different types of economies.\n",
      "In planned economies, the government often prioritizes providing basic needs such as healthcare, education, and housing for all citizens.\n",
      "This can lead to lower levels of poverty and greater equality in income distribution.\n",
      "However, these systems can also be less efficient and less responsive to changes in market demand, which can result in long wait times for certain goods and services.\n",
      "In free markets, individuals and businesses are incentivized to produce and sell more, leading to higher levels of economic growth and innovation.\n",
      "This can lead to greater choice and competition in the marketplace, which can drive down prices and improve efficiency.\n",
      "However, free market systems can also result in greater income inequality, where wealthier individuals and businesses dominate the market and have more power to influence policy.\n",
      "Ultimately, the best economic system for a particular country depends on a variety of factors, including its level of development, resources, and political stability.\n",
      "A successful economy should strive to balance the needs of all citizens while promoting efficiency and innovation in the marketplace.\n",
      "done in 0:01:38.684530\n"
     ]
    }
   ],
   "source": [
    "# sometimes Mistral says one and sometimes the other\n",
    "respond(question='Which produces better economic outcomes for the median person: a planned economy or a free market, and how does it do that?',)"
   ]
  }
 ],
 "metadata": {
  "kaggle": {
   "accelerator": "none",
   "dataSources": [],
   "dockerImageVersionId": 30635,
   "isGpuEnabled": false,
   "isInternetEnabled": true,
   "language": "python",
   "sourceType": "notebook"
  },
  "kernelspec": {
   "display_name": "Python 3",
   "language": "python",
   "name": "python3"
  },
  "language_info": {
   "codemirror_mode": {
    "name": "ipython",
    "version": 3
   },
   "file_extension": ".py",
   "mimetype": "text/x-python",
   "name": "python",
   "nbconvert_exporter": "python",
   "pygments_lexer": "ipython3",
   "version": "3.10.12"
  },
  "papermill": {
   "default_parameters": {},
   "duration": 709.483443,
   "end_time": "2024-01-19T16:56:48.209641",
   "environment_variables": {},
   "exception": null,
   "input_path": "__notebook__.ipynb",
   "output_path": "__notebook__.ipynb",
   "parameters": {},
   "start_time": "2024-01-19T16:44:58.726198",
   "version": "2.4.0"
  },
  "widgets": {
   "application/vnd.jupyter.widget-state+json": {
    "state": {
     "07eb157da2ab46bf96491bdecc2d2d98": {
      "model_module": "@jupyter-widgets/controls",
      "model_module_version": "1.5.0",
      "model_name": "ProgressStyleModel",
      "state": {
       "_model_module": "@jupyter-widgets/controls",
       "_model_module_version": "1.5.0",
       "_model_name": "ProgressStyleModel",
       "_view_count": null,
       "_view_module": "@jupyter-widgets/base",
       "_view_module_version": "1.2.0",
       "_view_name": "StyleView",
       "bar_color": null,
       "description_width": ""
      }
     },
     "07ee42ea95a0441291a82a8312df8dae": {
      "model_module": "@jupyter-widgets/base",
      "model_module_version": "1.2.0",
      "model_name": "LayoutModel",
      "state": {
       "_model_module": "@jupyter-widgets/base",
       "_model_module_version": "1.2.0",
       "_model_name": "LayoutModel",
       "_view_count": null,
       "_view_module": "@jupyter-widgets/base",
       "_view_module_version": "1.2.0",
       "_view_name": "LayoutView",
       "align_content": null,
       "align_items": null,
       "align_self": null,
       "border": null,
       "bottom": null,
       "display": null,
       "flex": null,
       "flex_flow": null,
       "grid_area": null,
       "grid_auto_columns": null,
       "grid_auto_flow": null,
       "grid_auto_rows": null,
       "grid_column": null,
       "grid_gap": null,
       "grid_row": null,
       "grid_template_areas": null,
       "grid_template_columns": null,
       "grid_template_rows": null,
       "height": null,
       "justify_content": null,
       "justify_items": null,
       "left": null,
       "margin": null,
       "max_height": null,
       "max_width": null,
       "min_height": null,
       "min_width": null,
       "object_fit": null,
       "object_position": null,
       "order": null,
       "overflow": null,
       "overflow_x": null,
       "overflow_y": null,
       "padding": null,
       "right": null,
       "top": null,
       "visibility": null,
       "width": null
      }
     },
     "1695b80a887c423dbef218c885f59119": {
      "model_module": "@jupyter-widgets/base",
      "model_module_version": "1.2.0",
      "model_name": "LayoutModel",
      "state": {
       "_model_module": "@jupyter-widgets/base",
       "_model_module_version": "1.2.0",
       "_model_name": "LayoutModel",
       "_view_count": null,
       "_view_module": "@jupyter-widgets/base",
       "_view_module_version": "1.2.0",
       "_view_name": "LayoutView",
       "align_content": null,
       "align_items": null,
       "align_self": null,
       "border": null,
       "bottom": null,
       "display": null,
       "flex": null,
       "flex_flow": null,
       "grid_area": null,
       "grid_auto_columns": null,
       "grid_auto_flow": null,
       "grid_auto_rows": null,
       "grid_column": null,
       "grid_gap": null,
       "grid_row": null,
       "grid_template_areas": null,
       "grid_template_columns": null,
       "grid_template_rows": null,
       "height": null,
       "justify_content": null,
       "justify_items": null,
       "left": null,
       "margin": null,
       "max_height": null,
       "max_width": null,
       "min_height": null,
       "min_width": null,
       "object_fit": null,
       "object_position": null,
       "order": null,
       "overflow": null,
       "overflow_x": null,
       "overflow_y": null,
       "padding": null,
       "right": null,
       "top": null,
       "visibility": null,
       "width": null
      }
     },
     "173b7820fb7c4013b323c60df683cb61": {
      "model_module": "@jupyter-widgets/controls",
      "model_module_version": "1.5.0",
      "model_name": "HTMLModel",
      "state": {
       "_dom_classes": [],
       "_model_module": "@jupyter-widgets/controls",
       "_model_module_version": "1.5.0",
       "_model_name": "HTMLModel",
       "_view_count": null,
       "_view_module": "@jupyter-widgets/controls",
       "_view_module_version": "1.5.0",
       "_view_name": "HTMLView",
       "description": "",
       "description_tooltip": null,
       "layout": "IPY_MODEL_78ecc5e66405498cb12606f44fc42f67",
       "placeholder": "​",
       "style": "IPY_MODEL_a08432d7a94a43d2bc6fa49b13019d8b",
       "value": " 4.37G/4.37G [00:20&lt;00:00, 222MB/s]"
      }
     },
     "19ee21ba66364f8a80294bf4aa5269e7": {
      "model_module": "@jupyter-widgets/base",
      "model_module_version": "1.2.0",
      "model_name": "LayoutModel",
      "state": {
       "_model_module": "@jupyter-widgets/base",
       "_model_module_version": "1.2.0",
       "_model_name": "LayoutModel",
       "_view_count": null,
       "_view_module": "@jupyter-widgets/base",
       "_view_module_version": "1.2.0",
       "_view_name": "LayoutView",
       "align_content": null,
       "align_items": null,
       "align_self": null,
       "border": null,
       "bottom": null,
       "display": null,
       "flex": null,
       "flex_flow": null,
       "grid_area": null,
       "grid_auto_columns": null,
       "grid_auto_flow": null,
       "grid_auto_rows": null,
       "grid_column": null,
       "grid_gap": null,
       "grid_row": null,
       "grid_template_areas": null,
       "grid_template_columns": null,
       "grid_template_rows": null,
       "height": null,
       "justify_content": null,
       "justify_items": null,
       "left": null,
       "margin": null,
       "max_height": null,
       "max_width": null,
       "min_height": null,
       "min_width": null,
       "object_fit": null,
       "object_position": null,
       "order": null,
       "overflow": null,
       "overflow_x": null,
       "overflow_y": null,
       "padding": null,
       "right": null,
       "top": null,
       "visibility": null,
       "width": null
      }
     },
     "1cbd0628c78e47c9a1169af0bcd07f46": {
      "model_module": "@jupyter-widgets/base",
      "model_module_version": "1.2.0",
      "model_name": "LayoutModel",
      "state": {
       "_model_module": "@jupyter-widgets/base",
       "_model_module_version": "1.2.0",
       "_model_name": "LayoutModel",
       "_view_count": null,
       "_view_module": "@jupyter-widgets/base",
       "_view_module_version": "1.2.0",
       "_view_name": "LayoutView",
       "align_content": null,
       "align_items": null,
       "align_self": null,
       "border": null,
       "bottom": null,
       "display": null,
       "flex": null,
       "flex_flow": null,
       "grid_area": null,
       "grid_auto_columns": null,
       "grid_auto_flow": null,
       "grid_auto_rows": null,
       "grid_column": null,
       "grid_gap": null,
       "grid_row": null,
       "grid_template_areas": null,
       "grid_template_columns": null,
       "grid_template_rows": null,
       "height": null,
       "justify_content": null,
       "justify_items": null,
       "left": null,
       "margin": null,
       "max_height": null,
       "max_width": null,
       "min_height": null,
       "min_width": null,
       "object_fit": null,
       "object_position": null,
       "order": null,
       "overflow": null,
       "overflow_x": null,
       "overflow_y": null,
       "padding": null,
       "right": null,
       "top": null,
       "visibility": null,
       "width": null
      }
     },
     "22757e45f4484015b70cacc5a50140b0": {
      "model_module": "@jupyter-widgets/base",
      "model_module_version": "1.2.0",
      "model_name": "LayoutModel",
      "state": {
       "_model_module": "@jupyter-widgets/base",
       "_model_module_version": "1.2.0",
       "_model_name": "LayoutModel",
       "_view_count": null,
       "_view_module": "@jupyter-widgets/base",
       "_view_module_version": "1.2.0",
       "_view_name": "LayoutView",
       "align_content": null,
       "align_items": null,
       "align_self": null,
       "border": null,
       "bottom": null,
       "display": null,
       "flex": null,
       "flex_flow": null,
       "grid_area": null,
       "grid_auto_columns": null,
       "grid_auto_flow": null,
       "grid_auto_rows": null,
       "grid_column": null,
       "grid_gap": null,
       "grid_row": null,
       "grid_template_areas": null,
       "grid_template_columns": null,
       "grid_template_rows": null,
       "height": null,
       "justify_content": null,
       "justify_items": null,
       "left": null,
       "margin": null,
       "max_height": null,
       "max_width": null,
       "min_height": null,
       "min_width": null,
       "object_fit": null,
       "object_position": null,
       "order": null,
       "overflow": null,
       "overflow_x": null,
       "overflow_y": null,
       "padding": null,
       "right": null,
       "top": null,
       "visibility": null,
       "width": null
      }
     },
     "26bc54861262435bb97cf614ccb9bd51": {
      "model_module": "@jupyter-widgets/controls",
      "model_module_version": "1.5.0",
      "model_name": "HTMLModel",
      "state": {
       "_dom_classes": [],
       "_model_module": "@jupyter-widgets/controls",
       "_model_module_version": "1.5.0",
       "_model_name": "HTMLModel",
       "_view_count": null,
       "_view_module": "@jupyter-widgets/controls",
       "_view_module_version": "1.5.0",
       "_view_name": "HTMLView",
       "description": "",
       "description_tooltip": null,
       "layout": "IPY_MODEL_22757e45f4484015b70cacc5a50140b0",
       "placeholder": "​",
       "style": "IPY_MODEL_5248b52e584a4a009926f102464e56cb",
       "value": "mistral-7b-instruct-v0.1.Q4_K_M.gguf: 100%"
      }
     },
     "282bd55b8cea49eca12b2d3a2c4f1a60": {
      "model_module": "@jupyter-widgets/controls",
      "model_module_version": "1.5.0",
      "model_name": "HBoxModel",
      "state": {
       "_dom_classes": [],
       "_model_module": "@jupyter-widgets/controls",
       "_model_module_version": "1.5.0",
       "_model_name": "HBoxModel",
       "_view_count": null,
       "_view_module": "@jupyter-widgets/controls",
       "_view_module_version": "1.5.0",
       "_view_name": "HBoxView",
       "box_style": "",
       "children": [
        "IPY_MODEL_283ff7348f0e4c2b83dcfd8bd6a405bc",
        "IPY_MODEL_3812c0fa3535469f8e8372e5e6bc9540",
        "IPY_MODEL_ab9b0c3ba59c4a49ab1282c4fa6afc89"
       ],
       "layout": "IPY_MODEL_664fa6ba87bc4de080da1c90acc6e7dd"
      }
     },
     "283ff7348f0e4c2b83dcfd8bd6a405bc": {
      "model_module": "@jupyter-widgets/controls",
      "model_module_version": "1.5.0",
      "model_name": "HTMLModel",
      "state": {
       "_dom_classes": [],
       "_model_module": "@jupyter-widgets/controls",
       "_model_module_version": "1.5.0",
       "_model_name": "HTMLModel",
       "_view_count": null,
       "_view_module": "@jupyter-widgets/controls",
       "_view_module_version": "1.5.0",
       "_view_name": "HTMLView",
       "description": "",
       "description_tooltip": null,
       "layout": "IPY_MODEL_4a6e6811ed0c4c1eb31358bbd147d364",
       "placeholder": "​",
       "style": "IPY_MODEL_9a3873d507ce4dc8929f755b0fb689c7",
       "value": "config.json: 100%"
      }
     },
     "32579b621e174c8dac1e83124ac671d6": {
      "model_module": "@jupyter-widgets/controls",
      "model_module_version": "1.5.0",
      "model_name": "FloatProgressModel",
      "state": {
       "_dom_classes": [],
       "_model_module": "@jupyter-widgets/controls",
       "_model_module_version": "1.5.0",
       "_model_name": "FloatProgressModel",
       "_view_count": null,
       "_view_module": "@jupyter-widgets/controls",
       "_view_module_version": "1.5.0",
       "_view_name": "ProgressView",
       "bar_style": "success",
       "description": "",
       "description_tooltip": null,
       "layout": "IPY_MODEL_19ee21ba66364f8a80294bf4aa5269e7",
       "max": 1.0,
       "min": 0.0,
       "orientation": "horizontal",
       "style": "IPY_MODEL_07eb157da2ab46bf96491bdecc2d2d98",
       "value": 1.0
      }
     },
     "37f416afbda14a82894d775812e209a9": {
      "model_module": "@jupyter-widgets/base",
      "model_module_version": "1.2.0",
      "model_name": "LayoutModel",
      "state": {
       "_model_module": "@jupyter-widgets/base",
       "_model_module_version": "1.2.0",
       "_model_name": "LayoutModel",
       "_view_count": null,
       "_view_module": "@jupyter-widgets/base",
       "_view_module_version": "1.2.0",
       "_view_name": "LayoutView",
       "align_content": null,
       "align_items": null,
       "align_self": null,
       "border": null,
       "bottom": null,
       "display": null,
       "flex": null,
       "flex_flow": null,
       "grid_area": null,
       "grid_auto_columns": null,
       "grid_auto_flow": null,
       "grid_auto_rows": null,
       "grid_column": null,
       "grid_gap": null,
       "grid_row": null,
       "grid_template_areas": null,
       "grid_template_columns": null,
       "grid_template_rows": null,
       "height": null,
       "justify_content": null,
       "justify_items": null,
       "left": null,
       "margin": null,
       "max_height": null,
       "max_width": null,
       "min_height": null,
       "min_width": null,
       "object_fit": null,
       "object_position": null,
       "order": null,
       "overflow": null,
       "overflow_x": null,
       "overflow_y": null,
       "padding": null,
       "right": null,
       "top": null,
       "visibility": null,
       "width": null
      }
     },
     "3812c0fa3535469f8e8372e5e6bc9540": {
      "model_module": "@jupyter-widgets/controls",
      "model_module_version": "1.5.0",
      "model_name": "FloatProgressModel",
      "state": {
       "_dom_classes": [],
       "_model_module": "@jupyter-widgets/controls",
       "_model_module_version": "1.5.0",
       "_model_name": "FloatProgressModel",
       "_view_count": null,
       "_view_module": "@jupyter-widgets/controls",
       "_view_module_version": "1.5.0",
       "_view_name": "ProgressView",
       "bar_style": "success",
       "description": "",
       "description_tooltip": null,
       "layout": "IPY_MODEL_07ee42ea95a0441291a82a8312df8dae",
       "max": 31.0,
       "min": 0.0,
       "orientation": "horizontal",
       "style": "IPY_MODEL_ee15af330e9f4fbaaaebcb94ef2c0612",
       "value": 31.0
      }
     },
     "418bfd38346742f9b2ec456c7d675f9c": {
      "model_module": "@jupyter-widgets/controls",
      "model_module_version": "1.5.0",
      "model_name": "HTMLModel",
      "state": {
       "_dom_classes": [],
       "_model_module": "@jupyter-widgets/controls",
       "_model_module_version": "1.5.0",
       "_model_name": "HTMLModel",
       "_view_count": null,
       "_view_module": "@jupyter-widgets/controls",
       "_view_module_version": "1.5.0",
       "_view_name": "HTMLView",
       "description": "",
       "description_tooltip": null,
       "layout": "IPY_MODEL_1695b80a887c423dbef218c885f59119",
       "placeholder": "​",
       "style": "IPY_MODEL_b302037e271043e084fd3a0a83c688ff",
       "value": "Fetching 1 files: 100%"
      }
     },
     "4498b2ea93c245329585568c52214270": {
      "model_module": "@jupyter-widgets/controls",
      "model_module_version": "1.5.0",
      "model_name": "ProgressStyleModel",
      "state": {
       "_model_module": "@jupyter-widgets/controls",
       "_model_module_version": "1.5.0",
       "_model_name": "ProgressStyleModel",
       "_view_count": null,
       "_view_module": "@jupyter-widgets/base",
       "_view_module_version": "1.2.0",
       "_view_name": "StyleView",
       "bar_color": null,
       "description_width": ""
      }
     },
     "4a6e6811ed0c4c1eb31358bbd147d364": {
      "model_module": "@jupyter-widgets/base",
      "model_module_version": "1.2.0",
      "model_name": "LayoutModel",
      "state": {
       "_model_module": "@jupyter-widgets/base",
       "_model_module_version": "1.2.0",
       "_model_name": "LayoutModel",
       "_view_count": null,
       "_view_module": "@jupyter-widgets/base",
       "_view_module_version": "1.2.0",
       "_view_name": "LayoutView",
       "align_content": null,
       "align_items": null,
       "align_self": null,
       "border": null,
       "bottom": null,
       "display": null,
       "flex": null,
       "flex_flow": null,
       "grid_area": null,
       "grid_auto_columns": null,
       "grid_auto_flow": null,
       "grid_auto_rows": null,
       "grid_column": null,
       "grid_gap": null,
       "grid_row": null,
       "grid_template_areas": null,
       "grid_template_columns": null,
       "grid_template_rows": null,
       "height": null,
       "justify_content": null,
       "justify_items": null,
       "left": null,
       "margin": null,
       "max_height": null,
       "max_width": null,
       "min_height": null,
       "min_width": null,
       "object_fit": null,
       "object_position": null,
       "order": null,
       "overflow": null,
       "overflow_x": null,
       "overflow_y": null,
       "padding": null,
       "right": null,
       "top": null,
       "visibility": null,
       "width": null
      }
     },
     "5248b52e584a4a009926f102464e56cb": {
      "model_module": "@jupyter-widgets/controls",
      "model_module_version": "1.5.0",
      "model_name": "DescriptionStyleModel",
      "state": {
       "_model_module": "@jupyter-widgets/controls",
       "_model_module_version": "1.5.0",
       "_model_name": "DescriptionStyleModel",
       "_view_count": null,
       "_view_module": "@jupyter-widgets/base",
       "_view_module_version": "1.2.0",
       "_view_name": "StyleView",
       "description_width": ""
      }
     },
     "592ea844713044798eff8f228c20aea7": {
      "model_module": "@jupyter-widgets/base",
      "model_module_version": "1.2.0",
      "model_name": "LayoutModel",
      "state": {
       "_model_module": "@jupyter-widgets/base",
       "_model_module_version": "1.2.0",
       "_model_name": "LayoutModel",
       "_view_count": null,
       "_view_module": "@jupyter-widgets/base",
       "_view_module_version": "1.2.0",
       "_view_name": "LayoutView",
       "align_content": null,
       "align_items": null,
       "align_self": null,
       "border": null,
       "bottom": null,
       "display": null,
       "flex": null,
       "flex_flow": null,
       "grid_area": null,
       "grid_auto_columns": null,
       "grid_auto_flow": null,
       "grid_auto_rows": null,
       "grid_column": null,
       "grid_gap": null,
       "grid_row": null,
       "grid_template_areas": null,
       "grid_template_columns": null,
       "grid_template_rows": null,
       "height": null,
       "justify_content": null,
       "justify_items": null,
       "left": null,
       "margin": null,
       "max_height": null,
       "max_width": null,
       "min_height": null,
       "min_width": null,
       "object_fit": null,
       "object_position": null,
       "order": null,
       "overflow": null,
       "overflow_x": null,
       "overflow_y": null,
       "padding": null,
       "right": null,
       "top": null,
       "visibility": null,
       "width": null
      }
     },
     "664fa6ba87bc4de080da1c90acc6e7dd": {
      "model_module": "@jupyter-widgets/base",
      "model_module_version": "1.2.0",
      "model_name": "LayoutModel",
      "state": {
       "_model_module": "@jupyter-widgets/base",
       "_model_module_version": "1.2.0",
       "_model_name": "LayoutModel",
       "_view_count": null,
       "_view_module": "@jupyter-widgets/base",
       "_view_module_version": "1.2.0",
       "_view_name": "LayoutView",
       "align_content": null,
       "align_items": null,
       "align_self": null,
       "border": null,
       "bottom": null,
       "display": null,
       "flex": null,
       "flex_flow": null,
       "grid_area": null,
       "grid_auto_columns": null,
       "grid_auto_flow": null,
       "grid_auto_rows": null,
       "grid_column": null,
       "grid_gap": null,
       "grid_row": null,
       "grid_template_areas": null,
       "grid_template_columns": null,
       "grid_template_rows": null,
       "height": null,
       "justify_content": null,
       "justify_items": null,
       "left": null,
       "margin": null,
       "max_height": null,
       "max_width": null,
       "min_height": null,
       "min_width": null,
       "object_fit": null,
       "object_position": null,
       "order": null,
       "overflow": null,
       "overflow_x": null,
       "overflow_y": null,
       "padding": null,
       "right": null,
       "top": null,
       "visibility": null,
       "width": null
      }
     },
     "68fd62e8e6bb4479880950e263067acd": {
      "model_module": "@jupyter-widgets/base",
      "model_module_version": "1.2.0",
      "model_name": "LayoutModel",
      "state": {
       "_model_module": "@jupyter-widgets/base",
       "_model_module_version": "1.2.0",
       "_model_name": "LayoutModel",
       "_view_count": null,
       "_view_module": "@jupyter-widgets/base",
       "_view_module_version": "1.2.0",
       "_view_name": "LayoutView",
       "align_content": null,
       "align_items": null,
       "align_self": null,
       "border": null,
       "bottom": null,
       "display": null,
       "flex": null,
       "flex_flow": null,
       "grid_area": null,
       "grid_auto_columns": null,
       "grid_auto_flow": null,
       "grid_auto_rows": null,
       "grid_column": null,
       "grid_gap": null,
       "grid_row": null,
       "grid_template_areas": null,
       "grid_template_columns": null,
       "grid_template_rows": null,
       "height": null,
       "justify_content": null,
       "justify_items": null,
       "left": null,
       "margin": null,
       "max_height": null,
       "max_width": null,
       "min_height": null,
       "min_width": null,
       "object_fit": null,
       "object_position": null,
       "order": null,
       "overflow": null,
       "overflow_x": null,
       "overflow_y": null,
       "padding": null,
       "right": null,
       "top": null,
       "visibility": null,
       "width": null
      }
     },
     "6ded0a2146594b7386ef0b00f384474c": {
      "model_module": "@jupyter-widgets/controls",
      "model_module_version": "1.5.0",
      "model_name": "HBoxModel",
      "state": {
       "_dom_classes": [],
       "_model_module": "@jupyter-widgets/controls",
       "_model_module_version": "1.5.0",
       "_model_name": "HBoxModel",
       "_view_count": null,
       "_view_module": "@jupyter-widgets/controls",
       "_view_module_version": "1.5.0",
       "_view_name": "HBoxView",
       "box_style": "",
       "children": [
        "IPY_MODEL_418bfd38346742f9b2ec456c7d675f9c",
        "IPY_MODEL_beab358991154f17b47655f25ea9064c",
        "IPY_MODEL_6e877586b27a417eb74bc1de880924ea"
       ],
       "layout": "IPY_MODEL_faa3e901a4cc46b6ab0f4477c3dd6b21"
      }
     },
     "6e877586b27a417eb74bc1de880924ea": {
      "model_module": "@jupyter-widgets/controls",
      "model_module_version": "1.5.0",
      "model_name": "HTMLModel",
      "state": {
       "_dom_classes": [],
       "_model_module": "@jupyter-widgets/controls",
       "_model_module_version": "1.5.0",
       "_model_name": "HTMLModel",
       "_view_count": null,
       "_view_module": "@jupyter-widgets/controls",
       "_view_module_version": "1.5.0",
       "_view_name": "HTMLView",
       "description": "",
       "description_tooltip": null,
       "layout": "IPY_MODEL_37f416afbda14a82894d775812e209a9",
       "placeholder": "​",
       "style": "IPY_MODEL_8f1e5b4c8ffa401eb01f2d367f365a3d",
       "value": " 1/1 [00:20&lt;00:00, 20.23s/it]"
      }
     },
     "78ecc5e66405498cb12606f44fc42f67": {
      "model_module": "@jupyter-widgets/base",
      "model_module_version": "1.2.0",
      "model_name": "LayoutModel",
      "state": {
       "_model_module": "@jupyter-widgets/base",
       "_model_module_version": "1.2.0",
       "_model_name": "LayoutModel",
       "_view_count": null,
       "_view_module": "@jupyter-widgets/base",
       "_view_module_version": "1.2.0",
       "_view_name": "LayoutView",
       "align_content": null,
       "align_items": null,
       "align_self": null,
       "border": null,
       "bottom": null,
       "display": null,
       "flex": null,
       "flex_flow": null,
       "grid_area": null,
       "grid_auto_columns": null,
       "grid_auto_flow": null,
       "grid_auto_rows": null,
       "grid_column": null,
       "grid_gap": null,
       "grid_row": null,
       "grid_template_areas": null,
       "grid_template_columns": null,
       "grid_template_rows": null,
       "height": null,
       "justify_content": null,
       "justify_items": null,
       "left": null,
       "margin": null,
       "max_height": null,
       "max_width": null,
       "min_height": null,
       "min_width": null,
       "object_fit": null,
       "object_position": null,
       "order": null,
       "overflow": null,
       "overflow_x": null,
       "overflow_y": null,
       "padding": null,
       "right": null,
       "top": null,
       "visibility": null,
       "width": null
      }
     },
     "79a4c9a420874d3cbc2b48b0b5f60ca4": {
      "model_module": "@jupyter-widgets/controls",
      "model_module_version": "1.5.0",
      "model_name": "DescriptionStyleModel",
      "state": {
       "_model_module": "@jupyter-widgets/controls",
       "_model_module_version": "1.5.0",
       "_model_name": "DescriptionStyleModel",
       "_view_count": null,
       "_view_module": "@jupyter-widgets/base",
       "_view_module_version": "1.2.0",
       "_view_name": "StyleView",
       "description_width": ""
      }
     },
     "8660080e5be14afbbb272617769edd20": {
      "model_module": "@jupyter-widgets/base",
      "model_module_version": "1.2.0",
      "model_name": "LayoutModel",
      "state": {
       "_model_module": "@jupyter-widgets/base",
       "_model_module_version": "1.2.0",
       "_model_name": "LayoutModel",
       "_view_count": null,
       "_view_module": "@jupyter-widgets/base",
       "_view_module_version": "1.2.0",
       "_view_name": "LayoutView",
       "align_content": null,
       "align_items": null,
       "align_self": null,
       "border": null,
       "bottom": null,
       "display": null,
       "flex": null,
       "flex_flow": null,
       "grid_area": null,
       "grid_auto_columns": null,
       "grid_auto_flow": null,
       "grid_auto_rows": null,
       "grid_column": null,
       "grid_gap": null,
       "grid_row": null,
       "grid_template_areas": null,
       "grid_template_columns": null,
       "grid_template_rows": null,
       "height": null,
       "justify_content": null,
       "justify_items": null,
       "left": null,
       "margin": null,
       "max_height": null,
       "max_width": null,
       "min_height": null,
       "min_width": null,
       "object_fit": null,
       "object_position": null,
       "order": null,
       "overflow": null,
       "overflow_x": null,
       "overflow_y": null,
       "padding": null,
       "right": null,
       "top": null,
       "visibility": null,
       "width": null
      }
     },
     "8ec6bcd5fc714e418705c60bb3f1af37": {
      "model_module": "@jupyter-widgets/base",
      "model_module_version": "1.2.0",
      "model_name": "LayoutModel",
      "state": {
       "_model_module": "@jupyter-widgets/base",
       "_model_module_version": "1.2.0",
       "_model_name": "LayoutModel",
       "_view_count": null,
       "_view_module": "@jupyter-widgets/base",
       "_view_module_version": "1.2.0",
       "_view_name": "LayoutView",
       "align_content": null,
       "align_items": null,
       "align_self": null,
       "border": null,
       "bottom": null,
       "display": null,
       "flex": null,
       "flex_flow": null,
       "grid_area": null,
       "grid_auto_columns": null,
       "grid_auto_flow": null,
       "grid_auto_rows": null,
       "grid_column": null,
       "grid_gap": null,
       "grid_row": null,
       "grid_template_areas": null,
       "grid_template_columns": null,
       "grid_template_rows": null,
       "height": null,
       "justify_content": null,
       "justify_items": null,
       "left": null,
       "margin": null,
       "max_height": null,
       "max_width": null,
       "min_height": null,
       "min_width": null,
       "object_fit": null,
       "object_position": null,
       "order": null,
       "overflow": null,
       "overflow_x": null,
       "overflow_y": null,
       "padding": null,
       "right": null,
       "top": null,
       "visibility": null,
       "width": null
      }
     },
     "8f1e5b4c8ffa401eb01f2d367f365a3d": {
      "model_module": "@jupyter-widgets/controls",
      "model_module_version": "1.5.0",
      "model_name": "DescriptionStyleModel",
      "state": {
       "_model_module": "@jupyter-widgets/controls",
       "_model_module_version": "1.5.0",
       "_model_name": "DescriptionStyleModel",
       "_view_count": null,
       "_view_module": "@jupyter-widgets/base",
       "_view_module_version": "1.2.0",
       "_view_name": "StyleView",
       "description_width": ""
      }
     },
     "8fddf35321284ac4b44c92dcca89aa9a": {
      "model_module": "@jupyter-widgets/controls",
      "model_module_version": "1.5.0",
      "model_name": "DescriptionStyleModel",
      "state": {
       "_model_module": "@jupyter-widgets/controls",
       "_model_module_version": "1.5.0",
       "_model_name": "DescriptionStyleModel",
       "_view_count": null,
       "_view_module": "@jupyter-widgets/base",
       "_view_module_version": "1.2.0",
       "_view_name": "StyleView",
       "description_width": ""
      }
     },
     "926d664f58ae4b6fab3e8933707379e6": {
      "model_module": "@jupyter-widgets/controls",
      "model_module_version": "1.5.0",
      "model_name": "HBoxModel",
      "state": {
       "_dom_classes": [],
       "_model_module": "@jupyter-widgets/controls",
       "_model_module_version": "1.5.0",
       "_model_name": "HBoxModel",
       "_view_count": null,
       "_view_module": "@jupyter-widgets/controls",
       "_view_module_version": "1.5.0",
       "_view_name": "HBoxView",
       "box_style": "",
       "children": [
        "IPY_MODEL_26bc54861262435bb97cf614ccb9bd51",
        "IPY_MODEL_ec7733e9eaa14de6919ef78efdb8ee3c",
        "IPY_MODEL_173b7820fb7c4013b323c60df683cb61"
       ],
       "layout": "IPY_MODEL_b86507022e1c4f6f97adaca21f1f03e5"
      }
     },
     "94b6cbd8172e483eb33a9a628e2e683c": {
      "model_module": "@jupyter-widgets/controls",
      "model_module_version": "1.5.0",
      "model_name": "HTMLModel",
      "state": {
       "_dom_classes": [],
       "_model_module": "@jupyter-widgets/controls",
       "_model_module_version": "1.5.0",
       "_model_name": "HTMLModel",
       "_view_count": null,
       "_view_module": "@jupyter-widgets/controls",
       "_view_module_version": "1.5.0",
       "_view_name": "HTMLView",
       "description": "",
       "description_tooltip": null,
       "layout": "IPY_MODEL_1cbd0628c78e47c9a1169af0bcd07f46",
       "placeholder": "​",
       "style": "IPY_MODEL_8fddf35321284ac4b44c92dcca89aa9a",
       "value": "Fetching 1 files: 100%"
      }
     },
     "9a3873d507ce4dc8929f755b0fb689c7": {
      "model_module": "@jupyter-widgets/controls",
      "model_module_version": "1.5.0",
      "model_name": "DescriptionStyleModel",
      "state": {
       "_model_module": "@jupyter-widgets/controls",
       "_model_module_version": "1.5.0",
       "_model_name": "DescriptionStyleModel",
       "_view_count": null,
       "_view_module": "@jupyter-widgets/base",
       "_view_module_version": "1.2.0",
       "_view_name": "StyleView",
       "description_width": ""
      }
     },
     "9c5ff4666dc54ec19bfd213d5ba9975d": {
      "model_module": "@jupyter-widgets/base",
      "model_module_version": "1.2.0",
      "model_name": "LayoutModel",
      "state": {
       "_model_module": "@jupyter-widgets/base",
       "_model_module_version": "1.2.0",
       "_model_name": "LayoutModel",
       "_view_count": null,
       "_view_module": "@jupyter-widgets/base",
       "_view_module_version": "1.2.0",
       "_view_name": "LayoutView",
       "align_content": null,
       "align_items": null,
       "align_self": null,
       "border": null,
       "bottom": null,
       "display": null,
       "flex": null,
       "flex_flow": null,
       "grid_area": null,
       "grid_auto_columns": null,
       "grid_auto_flow": null,
       "grid_auto_rows": null,
       "grid_column": null,
       "grid_gap": null,
       "grid_row": null,
       "grid_template_areas": null,
       "grid_template_columns": null,
       "grid_template_rows": null,
       "height": null,
       "justify_content": null,
       "justify_items": null,
       "left": null,
       "margin": null,
       "max_height": null,
       "max_width": null,
       "min_height": null,
       "min_width": null,
       "object_fit": null,
       "object_position": null,
       "order": null,
       "overflow": null,
       "overflow_x": null,
       "overflow_y": null,
       "padding": null,
       "right": null,
       "top": null,
       "visibility": null,
       "width": null
      }
     },
     "a08432d7a94a43d2bc6fa49b13019d8b": {
      "model_module": "@jupyter-widgets/controls",
      "model_module_version": "1.5.0",
      "model_name": "DescriptionStyleModel",
      "state": {
       "_model_module": "@jupyter-widgets/controls",
       "_model_module_version": "1.5.0",
       "_model_name": "DescriptionStyleModel",
       "_view_count": null,
       "_view_module": "@jupyter-widgets/base",
       "_view_module_version": "1.2.0",
       "_view_name": "StyleView",
       "description_width": ""
      }
     },
     "a09556046cf14c458139eb84d7ca0352": {
      "model_module": "@jupyter-widgets/controls",
      "model_module_version": "1.5.0",
      "model_name": "DescriptionStyleModel",
      "state": {
       "_model_module": "@jupyter-widgets/controls",
       "_model_module_version": "1.5.0",
       "_model_name": "DescriptionStyleModel",
       "_view_count": null,
       "_view_module": "@jupyter-widgets/base",
       "_view_module_version": "1.2.0",
       "_view_name": "StyleView",
       "description_width": ""
      }
     },
     "ab9b0c3ba59c4a49ab1282c4fa6afc89": {
      "model_module": "@jupyter-widgets/controls",
      "model_module_version": "1.5.0",
      "model_name": "HTMLModel",
      "state": {
       "_dom_classes": [],
       "_model_module": "@jupyter-widgets/controls",
       "_model_module_version": "1.5.0",
       "_model_name": "HTMLModel",
       "_view_count": null,
       "_view_module": "@jupyter-widgets/controls",
       "_view_module_version": "1.5.0",
       "_view_name": "HTMLView",
       "description": "",
       "description_tooltip": null,
       "layout": "IPY_MODEL_592ea844713044798eff8f228c20aea7",
       "placeholder": "​",
       "style": "IPY_MODEL_a09556046cf14c458139eb84d7ca0352",
       "value": " 31.0/31.0 [00:00&lt;00:00, 2.51kB/s]"
      }
     },
     "acf94be3063b4d01b79c11de25b61b77": {
      "model_module": "@jupyter-widgets/controls",
      "model_module_version": "1.5.0",
      "model_name": "ProgressStyleModel",
      "state": {
       "_model_module": "@jupyter-widgets/controls",
       "_model_module_version": "1.5.0",
       "_model_name": "ProgressStyleModel",
       "_view_count": null,
       "_view_module": "@jupyter-widgets/base",
       "_view_module_version": "1.2.0",
       "_view_name": "StyleView",
       "bar_color": null,
       "description_width": ""
      }
     },
     "b302037e271043e084fd3a0a83c688ff": {
      "model_module": "@jupyter-widgets/controls",
      "model_module_version": "1.5.0",
      "model_name": "DescriptionStyleModel",
      "state": {
       "_model_module": "@jupyter-widgets/controls",
       "_model_module_version": "1.5.0",
       "_model_name": "DescriptionStyleModel",
       "_view_count": null,
       "_view_module": "@jupyter-widgets/base",
       "_view_module_version": "1.2.0",
       "_view_name": "StyleView",
       "description_width": ""
      }
     },
     "b86507022e1c4f6f97adaca21f1f03e5": {
      "model_module": "@jupyter-widgets/base",
      "model_module_version": "1.2.0",
      "model_name": "LayoutModel",
      "state": {
       "_model_module": "@jupyter-widgets/base",
       "_model_module_version": "1.2.0",
       "_model_name": "LayoutModel",
       "_view_count": null,
       "_view_module": "@jupyter-widgets/base",
       "_view_module_version": "1.2.0",
       "_view_name": "LayoutView",
       "align_content": null,
       "align_items": null,
       "align_self": null,
       "border": null,
       "bottom": null,
       "display": null,
       "flex": null,
       "flex_flow": null,
       "grid_area": null,
       "grid_auto_columns": null,
       "grid_auto_flow": null,
       "grid_auto_rows": null,
       "grid_column": null,
       "grid_gap": null,
       "grid_row": null,
       "grid_template_areas": null,
       "grid_template_columns": null,
       "grid_template_rows": null,
       "height": null,
       "justify_content": null,
       "justify_items": null,
       "left": null,
       "margin": null,
       "max_height": null,
       "max_width": null,
       "min_height": null,
       "min_width": null,
       "object_fit": null,
       "object_position": null,
       "order": null,
       "overflow": null,
       "overflow_x": null,
       "overflow_y": null,
       "padding": null,
       "right": null,
       "top": null,
       "visibility": null,
       "width": null
      }
     },
     "beab358991154f17b47655f25ea9064c": {
      "model_module": "@jupyter-widgets/controls",
      "model_module_version": "1.5.0",
      "model_name": "FloatProgressModel",
      "state": {
       "_dom_classes": [],
       "_model_module": "@jupyter-widgets/controls",
       "_model_module_version": "1.5.0",
       "_model_name": "FloatProgressModel",
       "_view_count": null,
       "_view_module": "@jupyter-widgets/controls",
       "_view_module_version": "1.5.0",
       "_view_name": "ProgressView",
       "bar_style": "success",
       "description": "",
       "description_tooltip": null,
       "layout": "IPY_MODEL_8660080e5be14afbbb272617769edd20",
       "max": 1.0,
       "min": 0.0,
       "orientation": "horizontal",
       "style": "IPY_MODEL_4498b2ea93c245329585568c52214270",
       "value": 1.0
      }
     },
     "e1cf102ec65b4ecfb490218bc042323f": {
      "model_module": "@jupyter-widgets/controls",
      "model_module_version": "1.5.0",
      "model_name": "HTMLModel",
      "state": {
       "_dom_classes": [],
       "_model_module": "@jupyter-widgets/controls",
       "_model_module_version": "1.5.0",
       "_model_name": "HTMLModel",
       "_view_count": null,
       "_view_module": "@jupyter-widgets/controls",
       "_view_module_version": "1.5.0",
       "_view_name": "HTMLView",
       "description": "",
       "description_tooltip": null,
       "layout": "IPY_MODEL_8ec6bcd5fc714e418705c60bb3f1af37",
       "placeholder": "​",
       "style": "IPY_MODEL_79a4c9a420874d3cbc2b48b0b5f60ca4",
       "value": " 1/1 [00:00&lt;00:00,  5.01it/s]"
      }
     },
     "ec7733e9eaa14de6919ef78efdb8ee3c": {
      "model_module": "@jupyter-widgets/controls",
      "model_module_version": "1.5.0",
      "model_name": "FloatProgressModel",
      "state": {
       "_dom_classes": [],
       "_model_module": "@jupyter-widgets/controls",
       "_model_module_version": "1.5.0",
       "_model_name": "FloatProgressModel",
       "_view_count": null,
       "_view_module": "@jupyter-widgets/controls",
       "_view_module_version": "1.5.0",
       "_view_name": "ProgressView",
       "bar_style": "success",
       "description": "",
       "description_tooltip": null,
       "layout": "IPY_MODEL_68fd62e8e6bb4479880950e263067acd",
       "max": 4368438944.0,
       "min": 0.0,
       "orientation": "horizontal",
       "style": "IPY_MODEL_acf94be3063b4d01b79c11de25b61b77",
       "value": 4368438944.0
      }
     },
     "ee15af330e9f4fbaaaebcb94ef2c0612": {
      "model_module": "@jupyter-widgets/controls",
      "model_module_version": "1.5.0",
      "model_name": "ProgressStyleModel",
      "state": {
       "_model_module": "@jupyter-widgets/controls",
       "_model_module_version": "1.5.0",
       "_model_name": "ProgressStyleModel",
       "_view_count": null,
       "_view_module": "@jupyter-widgets/base",
       "_view_module_version": "1.2.0",
       "_view_name": "StyleView",
       "bar_color": null,
       "description_width": ""
      }
     },
     "faa3e901a4cc46b6ab0f4477c3dd6b21": {
      "model_module": "@jupyter-widgets/base",
      "model_module_version": "1.2.0",
      "model_name": "LayoutModel",
      "state": {
       "_model_module": "@jupyter-widgets/base",
       "_model_module_version": "1.2.0",
       "_model_name": "LayoutModel",
       "_view_count": null,
       "_view_module": "@jupyter-widgets/base",
       "_view_module_version": "1.2.0",
       "_view_name": "LayoutView",
       "align_content": null,
       "align_items": null,
       "align_self": null,
       "border": null,
       "bottom": null,
       "display": null,
       "flex": null,
       "flex_flow": null,
       "grid_area": null,
       "grid_auto_columns": null,
       "grid_auto_flow": null,
       "grid_auto_rows": null,
       "grid_column": null,
       "grid_gap": null,
       "grid_row": null,
       "grid_template_areas": null,
       "grid_template_columns": null,
       "grid_template_rows": null,
       "height": null,
       "justify_content": null,
       "justify_items": null,
       "left": null,
       "margin": null,
       "max_height": null,
       "max_width": null,
       "min_height": null,
       "min_width": null,
       "object_fit": null,
       "object_position": null,
       "order": null,
       "overflow": null,
       "overflow_x": null,
       "overflow_y": null,
       "padding": null,
       "right": null,
       "top": null,
       "visibility": null,
       "width": null
      }
     },
     "fd9ac0a6ba04443fa75ec3a6cc475c55": {
      "model_module": "@jupyter-widgets/controls",
      "model_module_version": "1.5.0",
      "model_name": "HBoxModel",
      "state": {
       "_dom_classes": [],
       "_model_module": "@jupyter-widgets/controls",
       "_model_module_version": "1.5.0",
       "_model_name": "HBoxModel",
       "_view_count": null,
       "_view_module": "@jupyter-widgets/controls",
       "_view_module_version": "1.5.0",
       "_view_name": "HBoxView",
       "box_style": "",
       "children": [
        "IPY_MODEL_94b6cbd8172e483eb33a9a628e2e683c",
        "IPY_MODEL_32579b621e174c8dac1e83124ac671d6",
        "IPY_MODEL_e1cf102ec65b4ecfb490218bc042323f"
       ],
       "layout": "IPY_MODEL_9c5ff4666dc54ec19bfd213d5ba9975d"
      }
     }
    },
    "version_major": 2,
    "version_minor": 0
   }
  }
 },
 "nbformat": 4,
 "nbformat_minor": 5
}
