{
 "cells": [
  {
   "cell_type": "code",
   "execution_count": 1,
   "id": "4722f1cc",
   "metadata": {
    "_cell_guid": "b1076dfc-b9ad-4769-8c92-a6c4dae69d19",
    "_uuid": "8f2839f25d086af736a60e9eeb907d3b93b6e0e5",
    "execution": {
     "iopub.execute_input": "2024-08-10T19:09:07.225824Z",
     "iopub.status.busy": "2024-08-10T19:09:07.225304Z",
     "iopub.status.idle": "2024-08-10T19:09:07.767977Z",
     "shell.execute_reply": "2024-08-10T19:09:07.766573Z"
    },
    "papermill": {
     "duration": 0.550654,
     "end_time": "2024-08-10T19:09:07.770889",
     "exception": false,
     "start_time": "2024-08-10T19:09:07.220235",
     "status": "completed"
    },
    "tags": []
   },
   "outputs": [
    {
     "name": "stdout",
     "output_type": "stream",
     "text": [
      "22241\n"
     ]
    }
   ],
   "source": [
    "from glob import glob\n",
    "\n",
    "# How many images do we have?\n",
    "\n",
    "GLOB = '/kaggle/input/car-camera-photos/images/images/*'\n",
    "\n",
    "print(len(list(glob(pathname=GLOB))))"
   ]
  },
  {
   "cell_type": "code",
   "execution_count": 2,
   "id": "8f306609",
   "metadata": {
    "execution": {
     "iopub.execute_input": "2024-08-10T19:09:07.778957Z",
     "iopub.status.busy": "2024-08-10T19:09:07.778525Z",
     "iopub.status.idle": "2024-08-10T19:09:14.740703Z",
     "shell.execute_reply": "2024-08-10T19:09:14.739566Z"
    },
    "papermill": {
     "duration": 6.969924,
     "end_time": "2024-08-10T19:09:14.743930",
     "exception": false,
     "start_time": "2024-08-10T19:09:07.774006",
     "status": "completed"
    },
    "tags": []
   },
   "outputs": [
    {
     "name": "stderr",
     "output_type": "stream",
     "text": [
      "Downloading: \"https://download.pytorch.org/models/resnet18-f37072fd.pth\" to /root/.cache/torch/hub/checkpoints/resnet18-f37072fd.pth\n",
      "100%|██████████| 44.7M/44.7M [00:00<00:00, 122MB/s]\n"
     ]
    }
   ],
   "source": [
    "import torch\n",
    "import torch.nn as nn\n",
    "import torchvision.models as models\n",
    "import torchvision.transforms as transforms\n",
    "import numpy as np\n",
    "\n",
    "\n",
    "DEVICE = torch.device('cpu')\n",
    "OUTPUT_SIZE = 512\n",
    "\n",
    "model = models.resnet18(weights=models.ResNet18_Weights.IMAGENET1K_V1)\n",
    "extraction_layer = model._modules.get('avgpool')\n",
    "model.to(DEVICE)\n",
    "model.eval()\n",
    "\n",
    "scaler = transforms.Resize((224, 224))\n",
    "normalize = transforms.Normalize(mean=[0.5, 0.5, 0.5], std=[0.2, 0.2, 0.2])\n",
    "to_tensor = transforms.ToTensor()\n",
    "\n",
    "def get_vec(arg, model, extraction_layer):\n",
    "    image = normalize(to_tensor(scaler(arg))).unsqueeze(0).to(DEVICE)\n",
    "    result = torch.zeros(1, OUTPUT_SIZE, 1, 1)\n",
    "    def copy_data(m, i, o):\n",
    "        result.copy_(o.data)\n",
    "    hooked = extraction_layer.register_forward_hook(copy_data)\n",
    "    with torch.no_grad():\n",
    "        model(image)\n",
    "    hooked.remove()\n",
    "    return result"
   ]
  },
  {
   "cell_type": "code",
   "execution_count": 3,
   "id": "ebef3b91",
   "metadata": {
    "execution": {
     "iopub.execute_input": "2024-08-10T19:09:14.753225Z",
     "iopub.status.busy": "2024-08-10T19:09:14.752683Z",
     "iopub.status.idle": "2024-08-10T19:37:40.936959Z",
     "shell.execute_reply": "2024-08-10T19:37:40.935767Z"
    },
    "papermill": {
     "duration": 1706.194986,
     "end_time": "2024-08-10T19:37:40.942640",
     "exception": false,
     "start_time": "2024-08-10T19:09:14.747654",
     "status": "completed"
    },
    "tags": []
   },
   "outputs": [
    {
     "name": "stdout",
     "output_type": "stream",
     "text": [
      "done in 0:28:25.164173\n"
     ]
    }
   ],
   "source": [
    "import base64\n",
    "import pandas as pd\n",
    "from arrow import now\n",
    "from glob import glob\n",
    "from io import BytesIO\n",
    "from os.path import basename\n",
    "from PIL import Image\n",
    "\n",
    "DATA = '/kaggle/input/car-camera-photos/images/images'\n",
    "STOP = 3000\n",
    "THUMBNAIL_SIZE = (128, 128)\n",
    "\n",
    "\n",
    "def embed(model, filename: str):\n",
    "    with Image.open(fp=filename, mode='r') as image:\n",
    "        return get_vec(arg=image.convert('RGB'), model=model, extraction_layer=extraction_layer).numpy().reshape(OUTPUT_SIZE,)\n",
    "\n",
    "\n",
    "def png(filename: str) -> str:\n",
    "    with Image.open(fp=filename, mode='r') as image:\n",
    "        buffer = BytesIO()\n",
    "        # our images are pretty big; let's shrink the hover images to thumbnail size\n",
    "        image.resize(size=THUMBNAIL_SIZE).convert('RGB').save(buffer, format='png')\n",
    "        return 'data:image/png;base64,' + base64.b64encode(buffer.getvalue()).decode()\n",
    "\n",
    "def get_picture_from_glob(arg: str, stop: int) -> list:\n",
    "    time_get = now()\n",
    "    result = [pd.Series(data=[basename(input_file), embed(model=model, filename=input_file), png(filename=input_file), ],\n",
    "                        index=['name', 'value', 'image'])\n",
    "        for index, input_file in enumerate(glob(pathname=arg)) if index < stop and input_file.endswith('.jpg')]\n",
    "#     print('encoded {} rows of {}  in {}'.format(len(result), now() - time_get))\n",
    "    return result\n",
    "\n",
    "time_start = now()\n",
    "data_list = list(glob(DATA + '/*'))\n",
    "df = pd.DataFrame(data=[get_picture_from_glob(arg=value, stop=STOP) for value in data_list])\n",
    "print('done in {}'.format(now() - time_start))"
   ]
  },
  {
   "cell_type": "code",
   "execution_count": 4,
   "id": "db20db20",
   "metadata": {
    "execution": {
     "iopub.execute_input": "2024-08-10T19:37:40.952055Z",
     "iopub.status.busy": "2024-08-10T19:37:40.951423Z",
     "iopub.status.idle": "2024-08-10T19:37:40.960891Z",
     "shell.execute_reply": "2024-08-10T19:37:40.959651Z"
    },
    "papermill": {
     "duration": 0.017293,
     "end_time": "2024-08-10T19:37:40.963689",
     "exception": false,
     "start_time": "2024-08-10T19:37:40.946396",
     "status": "completed"
    },
    "tags": []
   },
   "outputs": [
    {
     "data": {
      "text/plain": [
       "(22241, 1)"
      ]
     },
     "execution_count": 4,
     "metadata": {},
     "output_type": "execute_result"
    }
   ],
   "source": [
    "df.shape"
   ]
  }
 ],
 "metadata": {
  "kaggle": {
   "accelerator": "none",
   "dataSources": [
    {
     "datasetId": 5497580,
     "sourceId": 9108953,
     "sourceType": "datasetVersion"
    }
   ],
   "dockerImageVersionId": 30746,
   "isGpuEnabled": false,
   "isInternetEnabled": true,
   "language": "python",
   "sourceType": "notebook"
  },
  "kernelspec": {
   "display_name": "Python 3",
   "language": "python",
   "name": "python3"
  },
  "language_info": {
   "codemirror_mode": {
    "name": "ipython",
    "version": 3
   },
   "file_extension": ".py",
   "mimetype": "text/x-python",
   "name": "python",
   "nbconvert_exporter": "python",
   "pygments_lexer": "ipython3",
   "version": "3.10.13"
  },
  "papermill": {
   "default_parameters": {},
   "duration": 1718.793653,
   "end_time": "2024-08-10T19:37:42.800937",
   "environment_variables": {},
   "exception": null,
   "input_path": "__notebook__.ipynb",
   "output_path": "__notebook__.ipynb",
   "parameters": {},
   "start_time": "2024-08-10T19:09:04.007284",
   "version": "2.5.0"
  }
 },
 "nbformat": 4,
 "nbformat_minor": 5
}
