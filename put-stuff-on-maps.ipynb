{
 "cells": [
  {
   "cell_type": "code",
   "execution_count": 1,
   "id": "e4b3e640",
   "metadata": {
    "execution": {
     "iopub.execute_input": "2023-08-17T19:11:25.968080Z",
     "iopub.status.busy": "2023-08-17T19:11:25.967010Z",
     "iopub.status.idle": "2023-08-17T19:11:27.530326Z",
     "shell.execute_reply": "2023-08-17T19:11:27.529167Z"
    },
    "papermill": {
     "duration": 1.573586,
     "end_time": "2023-08-17T19:11:27.533180",
     "exception": false,
     "start_time": "2023-08-17T19:11:25.959594",
     "status": "completed"
    },
    "tags": []
   },
   "outputs": [
    {
     "name": "stdout",
     "output_type": "stream",
     "text": [
      "<class 'pandas.core.frame.DataFrame'>\n",
      "RangeIndex: 363049 entries, 0 to 363048\n",
      "Data columns (total 4 columns):\n",
      " #   Column      Non-Null Count   Dtype \n",
      "---  ------      --------------   ----- \n",
      " 0   IPv4        363049 non-null  object\n",
      " 1   gateway     363049 non-null  object\n",
      " 2   ??          363049 non-null  int64 \n",
      " 3   Registrant  363045 non-null  object\n",
      "dtypes: int64(1), object(3)\n",
      "memory usage: 11.1+ MB\n"
     ]
    }
   ],
   "source": [
    "import pandas as pd\n",
    "asn_names = ['IPv4', 'gateway', '??', 'Registrant']\n",
    "asn_df = pd.read_csv(filepath_or_buffer='/kaggle/input/global-ip-dataset-by-location-2023/asn-ipv4.csv', names=asn_names)\n",
    "asn_df.info()"
   ]
  },
  {
   "cell_type": "code",
   "execution_count": 2,
   "id": "82c1ab0c",
   "metadata": {
    "execution": {
     "iopub.execute_input": "2023-08-17T19:11:27.545052Z",
     "iopub.status.busy": "2023-08-17T19:11:27.543717Z",
     "iopub.status.idle": "2023-08-17T19:11:41.578268Z",
     "shell.execute_reply": "2023-08-17T19:11:41.576828Z"
    },
    "papermill": {
     "duration": 14.04366,
     "end_time": "2023-08-17T19:11:41.581092",
     "exception": false,
     "start_time": "2023-08-17T19:11:27.537432",
     "status": "completed"
    },
    "tags": []
   },
   "outputs": [
    {
     "name": "stdout",
     "output_type": "stream",
     "text": [
      "<class 'pandas.core.frame.DataFrame'>\n",
      "RangeIndex: 3182050 entries, 0 to 3182049\n",
      "Data columns (total 7 columns):\n",
      " #   Column     Dtype  \n",
      "---  ------     -----  \n",
      " 0   IPv4       object \n",
      " 1   gateway    object \n",
      " 2   ISO-2      object \n",
      " 3   Metro      object \n",
      " 4   City       object \n",
      " 5   latitude   float64\n",
      " 6   longitude  float64\n",
      "dtypes: float64(2), object(5)\n",
      "memory usage: 169.9+ MB\n"
     ]
    }
   ],
   "source": [
    "# dbip_names = \n",
    "dbip_df = pd.read_csv(filepath_or_buffer='/kaggle/input/global-ip-dataset-by-location-2023/dbip-city-ipv4.csv', \n",
    "                      header=None).reset_index(drop=True).drop(columns=[4, 6, 9])\n",
    "dbip_df.columns = ['IPv4', 'gateway', 'ISO-2', 'Metro', 'City', 'latitude', 'longitude', ]\n",
    "dbip_df.info()"
   ]
  },
  {
   "cell_type": "code",
   "execution_count": 3,
   "id": "2d03d754",
   "metadata": {
    "execution": {
     "iopub.execute_input": "2023-08-17T19:11:41.591664Z",
     "iopub.status.busy": "2023-08-17T19:11:41.591222Z",
     "iopub.status.idle": "2023-08-17T19:11:46.758047Z",
     "shell.execute_reply": "2023-08-17T19:11:46.756765Z"
    },
    "papermill": {
     "duration": 5.175456,
     "end_time": "2023-08-17T19:11:46.760817",
     "exception": false,
     "start_time": "2023-08-17T19:11:41.585361",
     "status": "completed"
    },
    "tags": []
   },
   "outputs": [
    {
     "data": {
      "text/plain": [
       "IPv4             0\n",
       "gateway          0\n",
       "ISO-2          328\n",
       "Metro        14107\n",
       "City            10\n",
       "latitude         0\n",
       "longitude        0\n",
       "dtype: int64"
      ]
     },
     "execution_count": 3,
     "metadata": {},
     "output_type": "execute_result"
    }
   ],
   "source": [
    "dbip_df.isna().sum()"
   ]
  },
  {
   "cell_type": "code",
   "execution_count": 4,
   "id": "6b0c8777",
   "metadata": {
    "execution": {
     "iopub.execute_input": "2023-08-17T19:11:46.774196Z",
     "iopub.status.busy": "2023-08-17T19:11:46.773725Z",
     "iopub.status.idle": "2023-08-17T19:11:52.425626Z",
     "shell.execute_reply": "2023-08-17T19:11:52.424217Z"
    },
    "papermill": {
     "duration": 5.662361,
     "end_time": "2023-08-17T19:11:52.429003",
     "exception": false,
     "start_time": "2023-08-17T19:11:46.766642",
     "status": "completed"
    },
    "tags": []
   },
   "outputs": [
    {
     "data": {
      "text/plain": [
       "IPv4         3182050\n",
       "gateway      3182050\n",
       "ISO-2            243\n",
       "Metro           3207\n",
       "City          115275\n",
       "latitude      230026\n",
       "longitude     281141\n",
       "dtype: int64"
      ]
     },
     "execution_count": 4,
     "metadata": {},
     "output_type": "execute_result"
    }
   ],
   "source": [
    "dbip_df.nunique()"
   ]
  },
  {
   "cell_type": "code",
   "execution_count": 5,
   "id": "0200c174",
   "metadata": {
    "execution": {
     "iopub.execute_input": "2023-08-17T19:11:52.442083Z",
     "iopub.status.busy": "2023-08-17T19:11:52.441614Z",
     "iopub.status.idle": "2023-08-17T19:11:55.987450Z",
     "shell.execute_reply": "2023-08-17T19:11:55.986215Z"
    },
    "papermill": {
     "duration": 3.55479,
     "end_time": "2023-08-17T19:11:55.989904",
     "exception": false,
     "start_time": "2023-08-17T19:11:52.435114",
     "status": "completed"
    },
    "tags": []
   },
   "outputs": [
    {
     "data": {
      "text/html": [
       "        <script type=\"text/javascript\">\n",
       "        window.PlotlyConfig = {MathJaxConfig: 'local'};\n",
       "        if (window.MathJax && window.MathJax.Hub && window.MathJax.Hub.Config) {window.MathJax.Hub.Config({SVG: {font: \"STIX-Web\"}});}\n",
       "        if (typeof require !== 'undefined') {\n",
       "        require.undef(\"plotly\");\n",
       "        requirejs.config({\n",
       "            paths: {\n",
       "                'plotly': ['https://cdn.plot.ly/plotly-2.24.1.min']\n",
       "            }\n",
       "        });\n",
       "        require(['plotly'], function(Plotly) {\n",
       "            window._Plotly = Plotly;\n",
       "        });\n",
       "        }\n",
       "        </script>\n",
       "        "
      ]
     },
     "metadata": {},
     "output_type": "display_data"
    },
    {
     "data": {
      "text/html": [
       "<div>                            <div id=\"6de2a3b1-f3f6-434d-8be5-15e2b1fa9cea\" class=\"plotly-graph-div\" style=\"height:525px; width:100%;\"></div>            <script type=\"text/javascript\">                require([\"plotly\"], function(Plotly) {                    window.PLOTLYENV=window.PLOTLYENV || {};                                    if (document.getElementById(\"6de2a3b1-f3f6-434d-8be5-15e2b1fa9cea\")) {                    Plotly.newPlot(                        \"6de2a3b1-f3f6-434d-8be5-15e2b1fa9cea\",                        [{\"geo\":\"geo\",\"hovertemplate\":\"ISO-2=US\\u003cbr\\u003elatitude=%{lat}\\u003cbr\\u003elongitude=%{lon}\\u003cextra\\u003e\\u003c\\u002fextra\\u003e\",\"lat\":[34.1199,41.8867,33.7555,41.058,40.7128,47.6694,41.885,47.6588,39.9651,38.9072,40.7408,42.1918,41.4844,35.2271,39.9526,40.7357,40.7357,40.7128,47.6062,39.7684,40.7128,38.5816,45.5152,40.7128,42.4793,37.7947,39.4496,45.9954,40.0494,40.7282,43.0981,33.5186,42.6526,40.7128,40.7128,41.8536,33.4484,34.4048,38.5816,41.5494,41.5639,28.7444,33.8229,39.5491,47.4941,37.3986,32.7767,40.7603,40.287,37.5326,35.9501,37.3974,34.0922,38.6452,41.2728,29.7604,40.7252,42.6526,43.3196,40.0049,30.3164,29.7604,37.4834,36.6915,33.749,40.7128,40.7357,40.318,37.7809,33.8171,35.7796,48.6967,40.7128,40.7128,40.7357,41.8781,40.7357,41.4993,41.6708,38.8397,41.2762,26.1723,32.2205,40.7128,29.539,36.1236,37.3986,40.7608,39.3465,47.6694,42.499,44.0462,42.3013,30.3234,34.1199,40.7608,39.7519,42.3736,38.9696,35.9943,40.7128,41.457,40.5638,42.3736,41.7256,33.6382,33.7555,38.8024,33.749,39.5481,42.5739,41.8881,46.7259,36.066,43.151,41.8781,38.9138,32.7157,42.3736,35.1106,39.5124,40.7128,39.8928,43.16,42.3192,38.907,40.7128,47.0402,38.9517,41.4993,37.412,40.2884,33.6846,38.804,45.5408,41.8781,40.7128,39.0438,33.4356,39.9257,43.0528,40.7128,36.1685,28.298,40.7128,34.8959,40.7357,35.7796,41.8769,38.7134,33.8841,37.7749,40.7128,38.5816,40.8665,40.48,37.7912,44.0266,28.7444,39.0438,34.7872,45.637,26.1224,26.6298,42.2359,40.7357,39.0063,29.7052,42.4793,40.7509,41.8781,39.9832,40.7128,34.0522,42.3928,40.7128,33.6846,43.4056,37.3861,29.4241,40.7406,32.5896,33.8982,47.4748,42.6526,39.7351,40.7444,33.0198,41.6068,36.175,26.2379,42.9906,33.8648,38.6786,32.7531,40.8598,31.7149,47.6733,39.0438,36.0959,29.7604,40.7128,47.6694,40.6023,37.7875,36.1699,34.0262,33.4484,40.7128,39.0067,37.458,39.011,41.5653,33.749,29.9511,47.6062,30.2471,34.0738,43.3365,38.9973,40.7128,34.0041,39.9209,29.7604,36.0999,39.8028,47.6062,34.7304,42.6743,42.6967,32.297,37.4097,40.7128,37.9101,38.9072,32.9312,39.0438,40.7128,41.2457,41.885,42.0237,40.7247,39.0438,39.7523,32.8546,29.4241,42.9956,32.7948,33.6117,40.7785,40.7128,47.6062,42.9591,48.0795,39.1434,42.6017,41.4993,40.318,34.0581,39.0438,30.5477,38.7314,47.4941,38.9507,40.7268,41.18,28.7444,33.5901,41.4993,39.0438,39.7392,38.9603,36.1924,33.6833,34.1561,40.7128,30.4515,39.9051,33.4484,33.2926,32.7767,41.5868,37.381,42.2409,39.0438,39.082,35.2271,40.7128,41.4369,33.6846,31.0238,41.3362,33.4161,33.0897,41.8781,37.3541,45.6203,40.7128,37.5407,29.7604,40.7128,36.8508,43.1566,42.3609,40.7128,40.7128,32.7767,40.7128,38.5951,40.8697,40.3978,33.4796,41.8959,43.6591,42.3601,36.0395,34.0522,34.7872,34.6517,38.5816,41.9358,41.8781,40.689,40.7128,32.9483,40.7128,43.4448,37.3688,33.749,32.4033,47.6062,34.0522,36.9618,36.6676,40.7128],\"legendgroup\":\"US\",\"lon\":[-84.0379,-87.6232,-84.3915,-81.479,-74.006,-122.122,-87.7845,-117.426,-74.9061,-77.0369,-74.0022,-87.9362,-87.7585,-80.8431,-75.1652,-74.1724,-74.1724,-74.006,-122.332,-86.1581,-74.006,-121.494,-122.678,-74.006,-71.1523,-122.402,-75.7163,-91.3823,-75.0683,-73.7949,-106.393,-86.8104,-73.7562,-74.006,-74.006,-87.6183,-112.074,-103.205,-121.494,-90.5807,-93.7594,-81.3599,-84.3686,-104.842,-122.294,-121.964,-96.797,-73.9745,-111.691,-122.325,-85.0296,-121.977,-117.435,-90.4464,-73.1352,-95.3698,-74.0047,-73.7562,-72.5063,-83.0466,-97.9607,-95.3698,-122.15,-79.8725,-84.388,-74.006,-74.1724,-75.1331,-90.4218,-84.3748,-78.6382,-122.906,-74.006,-74.006,-74.1724,-87.6298,-74.1724,-81.6944,-86.2466,-77.4335,-72.8684,-80.132,-110.971,-74.006,-98.4239,-115.298,-121.964,-111.891,-76.7077,-122.122,-83.3677,-123.022,-71.219,-97.6556,-84.0379,-111.891,-104.996,-71.1097,-77.3861,-79.9353,-74.006,-72.8231,-122.239,-71.1097,-87.8251,-96.6082,-84.3915,-77.0513,-84.388,-104.974,-83.1465,-87.6665,-117.013,-115.138,-77.6488,-87.6298,-104.826,-117.161,-71.1097,-80.7104,-121.557,-74.006,-75.1204,-95.3269,-71.232,-77.0526,-74.006,-122.893,-77.3776,-81.6944,-122.148,-75.8547,-117.827,-76.9066,-122.391,-87.6298,-74.006,-77.4874,-112.35,-86.2245,-74.3438,-74.006,-115.141,-81.4387,-74.006,-82.2172,-74.1724,-78.6382,-87.6499,-78.1591,-117.925,-122.419,-74.006,-121.494,-98.0034,-111.905,-122.402,-116.963,-81.3599,-77.4874,-92.3968,-89.4113,-80.1373,-82.0709,-88.8594,-74.1724,-77.4371,-95.1238,-71.1523,-73.9833,-87.6298,-75.8238,-74.006,-118.244,-83.0496,-74.006,-117.827,-88.7051,-122.084,-98.4936,-73.9848,-92.0669,-84.2833,-122.273,-73.7562,-121.816,-73.9851,-96.6989,-93.6184,-115.137,-80.1248,-84.1967,-84.4644,-90.3795,-97.3297,-74.0593,-83.2527,-122.129,-77.4874,-86.8569,-95.3698,-74.006,-122.122,-75.4714,-122.401,-115.14,-118.48,-112.074,-74.006,-77.4291,-122.172,-77.4711,-87.5085,-84.388,-90.0715,-122.332,-81.8358,-118.051,-73.8184,-77.4386,-74.006,-81.0352,-105.144,-95.3698,-80.2442,-105.087,-122.332,-86.5859,-83.0131,-71.2113,-90.2449,-121.912,-74.006,-122.065,-77.0369,-96.4597,-77.4874,-74.006,-73.0763,-87.7845,-71.1448,-73.9972,-77.4874,-104.984,-79.9748,-98.4936,-71.4548,-116.963,-111.717,-73.1042,-74.006,-122.332,-85.6705,-123.098,-77.2014,-71.3273,-81.6944,-75.1331,-118.235,-77.4874,-88.1753,-90.7345,-122.294,-76.9647,-73.6343,-73.2487,-81.3599,-117.726,-81.6944,-77.4874,-104.99,-92.375,-86.5974,-112.092,-118.798,-74.006,-91.1871,-82.8643,-112.074,-82.2015,-96.797,-93.625,-121.941,-83.2697,-77.4874,-84.5602,-80.8431,-74.006,-82.1333,-117.827,-87.4939,-75.9633,-112.009,-96.68,-87.6298,-121.955,-122.639,-74.006,-77.4361,-95.3698,-74.006,-76.2859,-77.6088,-71.0987,-74.006,-74.006,-96.797,-74.006,-90.2292,-73.9576,-74.1354,-88.5805,-88.2169,-70.2568,-71.0589,-114.982,-118.244,-92.3968,-77.3439,-121.494,-71.2747,-87.6298,-73.339,-74.006,-96.7299,-74.006,-110.867,-122.036,-84.388,-86.2383,-122.332,-118.244,-94.3154,-78.3875,-74.006],\"marker\":{\"color\":\"#636efa\",\"symbol\":\"circle\"},\"mode\":\"markers\",\"name\":\"US\",\"showlegend\":true,\"type\":\"scattergeo\"},{\"geo\":\"geo\",\"hovertemplate\":\"ISO-2=NL\\u003cbr\\u003elatitude=%{lat}\\u003cbr\\u003elongitude=%{lon}\\u003cextra\\u003e\\u003c\\u002fextra\\u003e\",\"lat\":[51.5555,52.3676,52.3667,52.3259,53.2352,53.0337,52.3373,51.9203,52.3676,51.3683,52.3377,52.243,50.892,51.3704,52.3676,52.3506,52.3676,52.339,52.3667,52.2758],\"legendgroup\":\"NL\",\"lon\":[5.0913,4.90414,4.89454,4.9515,6.44661,5.65565,6.6408,6.35603,4.90414,5.22083,4.87017,5.37884,6.05914,6.1724,4.90414,4.93517,4.90414,4.95919,4.89454,5.15447],\"marker\":{\"color\":\"#EF553B\",\"symbol\":\"circle\"},\"mode\":\"markers\",\"name\":\"NL\",\"showlegend\":true,\"type\":\"scattergeo\"},{\"geo\":\"geo\",\"hovertemplate\":\"ISO-2=PT\\u003cbr\\u003elatitude=%{lat}\\u003cbr\\u003elongitude=%{lon}\\u003cextra\\u003e\\u003c\\u002fextra\\u003e\",\"lat\":[38.741,38.737,38.7303,41.7672,41.5659,38.7745,41.1579,40.2056],\"legendgroup\":\"PT\",\"lon\":[-9.14284,-9.21678,-9.14699,-8.58393,-8.45134,-9.09745,-8.62911,-8.41955],\"marker\":{\"color\":\"#00cc96\",\"symbol\":\"circle\"},\"mode\":\"markers\",\"name\":\"PT\",\"showlegend\":true,\"type\":\"scattergeo\"},{\"geo\":\"geo\",\"hovertemplate\":\"ISO-2=FR\\u003cbr\\u003elatitude=%{lat}\\u003cbr\\u003elongitude=%{lon}\\u003cextra\\u003e\\u003c\\u002fextra\\u003e\",\"lat\":[48.8566,50.4544,48.8566,48.5682,43.5895,48.6921,43.6047,48.8566,43.6047,43.3606,46.3374,48.5839,48.8924,48.868,48.8566,48.8566,50.6927,48.8266,48.8566,48.6298,48.0248],\"legendgroup\":\"FR\",\"lon\":[2.35222,3.58884,2.35222,2.62007,2.11234,6.18442,1.44421,2.35222,1.44421,-1.39991,5.13053,7.74553,2.21533,2.33989,2.35222,2.35222,3.17785,2.2228,2.35222,2.44178,0.0737469],\"marker\":{\"color\":\"#ab63fa\",\"symbol\":\"circle\"},\"mode\":\"markers\",\"name\":\"FR\",\"showlegend\":true,\"type\":\"scattergeo\"},{\"geo\":\"geo\",\"hovertemplate\":\"ISO-2=TR\\u003cbr\\u003elatitude=%{lat}\\u003cbr\\u003elongitude=%{lon}\\u003cextra\\u003e\\u003c\\u002fextra\\u003e\",\"lat\":[36.2208,41.0164,38.6735,41.0082,40.2188,36.8549,37.75,41.113,40.9591],\"legendgroup\":\"TR\",\"lon\":[36.2308,29.1248,35.9675,28.9784,29.1949,28.2709,29.0935,29.0244,28.8353],\"marker\":{\"color\":\"#FFA15A\",\"symbol\":\"circle\"},\"mode\":\"markers\",\"name\":\"TR\",\"showlegend\":true,\"type\":\"scattergeo\"},{\"geo\":\"geo\",\"hovertemplate\":\"ISO-2=GB\\u003cbr\\u003elatitude=%{lat}\\u003cbr\\u003elongitude=%{lon}\\u003cextra\\u003e\\u003c\\u002fextra\\u003e\",\"lat\":[51.512,53.1658,51.5902,51.5181,51.5558,51.5087,50.7821,53.4906,51.7321,52.1936,53.4877,52.5371,51.5074,52.5232,50.8227,50.7205,50.8954,51.4827,54.2797,52.1385,52.2811,53.1892,51.5897,51.5074,51.4123,53.8335,51.5163,51.512,55.8288,51.5181,51.5074,52.6776,51.5181,51.4552,51.5074,51.5074,53.724,52.5718,51.5149,54.8586,52.2707,51.7532,51.7486,51.5074,51.5897,51.5897,51.5128,51.5074,51.5052,50.7998,51.8639,53.4668,53.5237],\"legendgroup\":\"GB\",\"lon\":[-0.0694459,-1.47898,-0.0173437,-0.0714189,-1.77972,-0.144662,-0.67978,-1.34222,-1.20631,-2.22158,-2.29042,-1.279,-0.127758,-1.46523,-0.14429,-1.8795,-1.40504,-0.0066962,-0.40443,-0.50687,-0.6451,-1.28334,-0.249103,-0.127758,-0.300689,-2.33728,-0.0809449,-0.450056,-4.21376,-0.0714189,-0.127758,-2.46726,-0.0714189,-2.59665,-0.127758,-0.127758,-1.71294,-0.241936,-0.0785939,-1.57408,-1.89351,-0.448632,-0.326131,-0.127758,-0.249103,-0.249103,-0.09184,-0.127758,-0.0195096,-0.673957,-2.20087,-2.27825,-2.49354],\"marker\":{\"color\":\"#19d3f3\",\"symbol\":\"circle\"},\"mode\":\"markers\",\"name\":\"GB\",\"showlegend\":true,\"type\":\"scattergeo\"},{\"geo\":\"geo\",\"hovertemplate\":\"ISO-2=JP\\u003cbr\\u003elatitude=%{lat}\\u003cbr\\u003elongitude=%{lon}\\u003cextra\\u003e\\u003c\\u002fextra\\u003e\",\"lat\":[35.0167,35.6552,35.6906,35.6906,40.6531,35.85,35.6906,35.6719,35.6706,35.6906,34.6937,35.0,33.5589,35.6895,35.6906,35.6906,34.3356,35.1572,35.6906,35.6552,35.6906,35.6989,34.6937,35.666,34.6937,35.69,35.6552,43.0667,35.6906,37.8864,35.69,34.6937,34.6937,35.6916,35.3493,35.6938,35.6916,35.6719,34.6937,35.69,35.6945,33.2054,35.6916,35.7424,36.5333,31.5969,35.6906,35.6906,36.1833,36.7306,35.0116,36.75],\"legendgroup\":\"JP\",\"lon\":[135.967,139.761,139.77,139.77,140.5,140.617,139.77,139.685,139.889,139.77,135.502,137.033,133.531,139.692,139.77,139.77,134.093,136.925,139.77,139.761,139.77,139.744,135.502,135.292,135.502,139.769,139.761,141.35,139.77,139.006,139.769,135.502,135.502,139.768,139.477,139.703,139.768,139.685,135.502,139.769,139.983,130.492,139.768,139.426,136.617,130.557,139.77,139.77,139.717,137.076,135.768,137.017],\"marker\":{\"color\":\"#FF6692\",\"symbol\":\"circle\"},\"mode\":\"markers\",\"name\":\"JP\",\"showlegend\":true,\"type\":\"scattergeo\"},{\"geo\":\"geo\",\"hovertemplate\":\"ISO-2=IT\\u003cbr\\u003elatitude=%{lat}\\u003cbr\\u003elongitude=%{lon}\\u003cextra\\u003e\\u003c\\u002fextra\\u003e\",\"lat\":[45.4642,45.376,45.519,44.5085,39.2305,44.2448,40.0217,45.612,40.8626,41.8354,45.5435,45.5189,41.9028,45.0078,41.8073,45.4642,40.3544,44.5013,37.5746,45.4581,44.7024,45.4642,44.4545,45.4642,41.9028,42.3695,45.4642,45.4642,40.7046,45.4581,45.4642,46.2984,46.4738,44.6976,45.4702,45.4771,43.8522,44.3907,43.7696,41.2364],\"legendgroup\":\"IT\",\"lon\":[9.18998,9.14277,10.1402,11.3646,9.11917,9.76787,18.1628,10.4886,14.5244,12.4699,9.00956,9.08626,12.4964,7.54432,12.3365,9.18998,18.1686,11.3497,15.0496,7.87102,10.649,9.18998,11.3785,9.18998,12.4964,14.1483,9.18998,9.18998,14.7047,7.87102,9.18998,12.0131,11.3329,11.8076,9.24589,9.23066,10.6674,7.54828,11.2558,13.9331],\"marker\":{\"color\":\"#B6E880\",\"symbol\":\"circle\"},\"mode\":\"markers\",\"name\":\"IT\",\"showlegend\":true,\"type\":\"scattergeo\"},{\"geo\":\"geo\",\"hovertemplate\":\"ISO-2=AR\\u003cbr\\u003elatitude=%{lat}\\u003cbr\\u003elongitude=%{lon}\\u003cextra\\u003e\\u003c\\u002fextra\\u003e\",\"lat\":[-34.6125,-34.5751,-34.611,-34.5751],\"legendgroup\":\"AR\",\"lon\":[-58.4346,-58.4359,-58.3661,-58.4359],\"marker\":{\"color\":\"#FF97FF\",\"symbol\":\"circle\"},\"mode\":\"markers\",\"name\":\"AR\",\"showlegend\":true,\"type\":\"scattergeo\"},{\"geo\":\"geo\",\"hovertemplate\":\"ISO-2=AT\\u003cbr\\u003elatitude=%{lat}\\u003cbr\\u003elongitude=%{lon}\\u003cextra\\u003e\\u003c\\u002fextra\\u003e\",\"lat\":[48.1632,47.7994,48.2228,48.2641,47.2838],\"legendgroup\":\"AT\",\"lon\":[14.0365,13.044,16.3986,16.402,9.65075],\"marker\":{\"color\":\"#FECB52\",\"symbol\":\"circle\"},\"mode\":\"markers\",\"name\":\"AT\",\"showlegend\":true,\"type\":\"scattergeo\"},{\"geo\":\"geo\",\"hovertemplate\":\"ISO-2=BR\\u003cbr\\u003elatitude=%{lat}\\u003cbr\\u003elongitude=%{lon}\\u003cextra\\u003e\\u003c\\u002fextra\\u003e\",\"lat\":[-12.1375,-21.7642,-23.5558,-23.5505,-19.6243,-22.8752,-22.9027,-26.9957,-15.8267,-15.8086,-22.7642,-15.7865,-25.4372,-23.5558,-23.1994,-20.3903,-23.5475,-16.6869,-21.2922],\"legendgroup\":\"BR\",\"lon\":[-40.3591,-43.3503,-46.6396,-46.6333,-43.2236,-47.0789,-43.2194,-51.4127,-47.9218,-47.858,-43.3994,-47.8872,-49.27,-46.6396,-47.2878,-40.4961,-46.6361,-49.2648,-50.3428],\"marker\":{\"color\":\"#636efa\",\"symbol\":\"circle\"},\"mode\":\"markers\",\"name\":\"BR\",\"showlegend\":true,\"type\":\"scattergeo\"},{\"geo\":\"geo\",\"hovertemplate\":\"ISO-2=BG\\u003cbr\\u003elatitude=%{lat}\\u003cbr\\u003elongitude=%{lon}\\u003cextra\\u003e\\u003c\\u002fextra\\u003e\",\"lat\":[42.6977,43.8393,42.6977,42.337,42.7042,43.9962],\"legendgroup\":\"BG\",\"lon\":[23.3219,25.97,23.3219,23.5528,23.2947,22.8679],\"marker\":{\"color\":\"#EF553B\",\"symbol\":\"circle\"},\"mode\":\"markers\",\"name\":\"BG\",\"showlegend\":true,\"type\":\"scattergeo\"},{\"geo\":\"geo\",\"hovertemplate\":\"ISO-2=MX\\u003cbr\\u003elatitude=%{lat}\\u003cbr\\u003elongitude=%{lon}\\u003cextra\\u003e\\u003c\\u002fextra\\u003e\",\"lat\":[18.8814,19.1485,20.6689,19.4096,18.8839,20.6243,19.5614,19.0379,20.7015,23.7908,19.4087,19.2951,19.8311,32.5241],\"legendgroup\":\"MX\",\"lon\":[-99.1778,-98.2222,-103.382,-99.1576,-96.9238,-103.321,-98.8442,-98.2035,-103.318,-99.1913,-99.1813,-99.1621,-99.1931,-117.029],\"marker\":{\"color\":\"#00cc96\",\"symbol\":\"circle\"},\"mode\":\"markers\",\"name\":\"MX\",\"showlegend\":true,\"type\":\"scattergeo\"},{\"geo\":\"geo\",\"hovertemplate\":\"ISO-2=SE\\u003cbr\\u003elatitude=%{lat}\\u003cbr\\u003elongitude=%{lon}\\u003cextra\\u003e\\u003c\\u002fextra\\u003e\",\"lat\":[59.3659,59.8586,59.3774,59.3293,60.4843,59.3293,57.6045,57.7814,59.1681,59.3526,57.2657,59.3294],\"legendgroup\":\"SE\",\"lon\":[17.9428,17.6389,17.0312,18.0686,15.434,18.0686,18.256,14.1562,18.138,18.0686,16.4474,18.0008],\"marker\":{\"color\":\"#ab63fa\",\"symbol\":\"circle\"},\"mode\":\"markers\",\"name\":\"SE\",\"showlegend\":true,\"type\":\"scattergeo\"},{\"geo\":\"geo\",\"hovertemplate\":\"ISO-2=AU\\u003cbr\\u003elatitude=%{lat}\\u003cbr\\u003elongitude=%{lon}\\u003cextra\\u003e\\u003c\\u002fextra\\u003e\",\"lat\":[-33.8688,-37.7947,-33.8707,-33.8679,-33.8688,-32.9295,-33.8688,-27.4705,-37.8136,-38.1471,-27.4705,-37.8136,-33.8679,-33.8688,-35.2748,-33.8688,-33.8688],\"legendgroup\":\"AU\",\"lon\":[151.209,144.819,151.205,151.207,151.209,151.78,151.209,153.026,144.963,144.361,153.026,144.963,151.207,151.209,149.114,151.209,151.209],\"marker\":{\"color\":\"#FFA15A\",\"symbol\":\"circle\"},\"mode\":\"markers\",\"name\":\"AU\",\"showlegend\":true,\"type\":\"scattergeo\"},{\"geo\":\"geo\",\"hovertemplate\":\"ISO-2=KE\\u003cbr\\u003elatitude=%{lat}\\u003cbr\\u003elongitude=%{lon}\\u003cextra\\u003e\\u003c\\u002fextra\\u003e\",\"lat\":[-1.28333,-1.28333,-1.28333,0.04626,-1.28333,-1.25909,-1.28333],\"legendgroup\":\"KE\",\"lon\":[36.8167,36.8167,36.8167,37.6559,36.8167,36.7858,36.8167],\"marker\":{\"color\":\"#19d3f3\",\"symbol\":\"circle\"},\"mode\":\"markers\",\"name\":\"KE\",\"showlegend\":true,\"type\":\"scattergeo\"},{\"geo\":\"geo\",\"hovertemplate\":\"ISO-2=IR\\u003cbr\\u003elatitude=%{lat}\\u003cbr\\u003elongitude=%{lon}\\u003cextra\\u003e\\u003c\\u002fextra\\u003e\",\"lat\":[37.2994,34.0949,35.6892,35.7477,35.7599,35.7477,38.0551,35.4846,37.137,35.6892,27.1832],\"legendgroup\":\"IR\",\"lon\":[49.5895,49.6981,51.389,51.4021,51.4739,51.4021,46.346,51.0829,50.2917,51.389,56.2666],\"marker\":{\"color\":\"#FF6692\",\"symbol\":\"circle\"},\"mode\":\"markers\",\"name\":\"IR\",\"showlegend\":true,\"type\":\"scattergeo\"},{\"geo\":\"geo\",\"hovertemplate\":\"ISO-2=CA\\u003cbr\\u003elatitude=%{lat}\\u003cbr\\u003elongitude=%{lon}\\u003cextra\\u003e\\u003c\\u002fextra\\u003e\",\"lat\":[45.5019,43.671,43.7364,45.5285,44.6713,43.7214,52.0267,51.0447,45.3602,49.2848,46.8095,43.4251,43.8384,45.3491,42.9834,43.6532,47.5615,43.6447,43.6715,45.0662,43.67],\"legendgroup\":\"CA\",\"lon\":[-73.5674,-79.3794,-79.8222,-73.6104,-63.5772,-79.3011,-113.947,-114.072,-73.7494,-123.112,-71.2351,-81.6135,-79.3237,-75.9195,-81.233,-79.3832,-52.7126,-79.3838,-79.38,-64.4436,-79.3794],\"marker\":{\"color\":\"#B6E880\",\"symbol\":\"circle\"},\"mode\":\"markers\",\"name\":\"CA\",\"showlegend\":true,\"type\":\"scattergeo\"},{\"geo\":\"geo\",\"hovertemplate\":\"ISO-2=PL\\u003cbr\\u003elatitude=%{lat}\\u003cbr\\u003elongitude=%{lon}\\u003cextra\\u003e\\u003c\\u002fextra\\u003e\",\"lat\":[53.4285,52.2625,50.068,50.2975,53.1235,49.8144,51.2101,53.1415,51.9646,52.2297,50.2649,52.4064,54.4641,50.0834,52.221],\"legendgroup\":\"PL\",\"lon\":[14.5528,21.0984,19.9385,18.9546,18.0084,19.056,16.1619,14.8964,19.7157,21.0122,19.0238,16.9252,17.0285,19.9012,20.9853],\"marker\":{\"color\":\"#FF97FF\",\"symbol\":\"circle\"},\"mode\":\"markers\",\"name\":\"PL\",\"showlegend\":true,\"type\":\"scattergeo\"},{\"geo\":\"geo\",\"hovertemplate\":\"ISO-2=ES\\u003cbr\\u003elatitude=%{lat}\\u003cbr\\u003elongitude=%{lon}\\u003cextra\\u003e\\u003c\\u002fextra\\u003e\",\"lat\":[40.4168,43.2909,38.5382,37.9922,40.5167,41.3851,41.3851,41.4033,42.4316,41.3949,41.3851,39.8418,41.3851,40.4168,36.6283],\"legendgroup\":\"ES\",\"lon\":[-3.70379,-2.85886,-0.13098,-1.13065,-3.66479,2.1734,2.1734,2.12831,-8.07899,2.19746,2.1734,3.13291,2.1734,-3.70379,-4.50008],\"marker\":{\"color\":\"#FECB52\",\"symbol\":\"circle\"},\"mode\":\"markers\",\"name\":\"ES\",\"showlegend\":true,\"type\":\"scattergeo\"},{\"geo\":\"geo\",\"hovertemplate\":\"ISO-2=KR\\u003cbr\\u003elatitude=%{lat}\\u003cbr\\u003elongitude=%{lon}\\u003cextra\\u003e\\u003c\\u002fextra\\u003e\",\"lat\":[37.3638,37.3638,37.3638,36.6376,37.536,37.5445,36.1976,37.507,37.8765,37.4966,37.477,37.3638,37.3587,37.3638,35.1395,37.3588,37.6492,37.5175,37.536,37.4834,36.355,37.4834,34.871,37.3588,37.3638,37.3638,37.3588,37.4944,37.3588,37.3638,35.8136,37.3638,37.536],\"legendgroup\":\"KR\",\"lon\":[127.122,127.122,127.122,127.47,126.971,126.984,127.081,126.722,127.754,126.787,126.883,127.116,127.115,127.122,126.794,127.115,126.848,126.935,126.971,126.894,126.578,126.894,128.682,127.115,127.122,127.122,127.115,127.037,127.115,127.122,128.72,127.122,126.971],\"marker\":{\"color\":\"#636efa\",\"symbol\":\"circle\"},\"mode\":\"markers\",\"name\":\"KR\",\"showlegend\":true,\"type\":\"scattergeo\"},{\"geo\":\"geo\",\"hovertemplate\":\"ISO-2=UZ\\u003cbr\\u003elatitude=%{lat}\\u003cbr\\u003elongitude=%{lon}\\u003cextra\\u003e\\u003c\\u002fextra\\u003e\",\"lat\":[41.2995],\"legendgroup\":\"UZ\",\"lon\":[69.2401],\"marker\":{\"color\":\"#EF553B\",\"symbol\":\"circle\"},\"mode\":\"markers\",\"name\":\"UZ\",\"showlegend\":true,\"type\":\"scattergeo\"},{\"geo\":\"geo\",\"hovertemplate\":\"ISO-2=CN\\u003cbr\\u003elatitude=%{lat}\\u003cbr\\u003elongitude=%{lon}\\u003cextra\\u003e\\u003c\\u002fextra\\u003e\",\"lat\":[31.2304,22.6351,26.843,39.9371,32.0617,22.5431,31.1409,30.5928,31.2304,32.0617,29.1416,42.5246,40.8424,26.086,23.1291],\"legendgroup\":\"CN\",\"lon\":[121.474,114.064,107.29,116.344,118.778,114.058,121.425,114.306,121.474,118.778,119.789,87.5396,111.75,119.305,113.264],\"marker\":{\"color\":\"#00cc96\",\"symbol\":\"circle\"},\"mode\":\"markers\",\"name\":\"CN\",\"showlegend\":true,\"type\":\"scattergeo\"},{\"geo\":\"geo\",\"hovertemplate\":\"ISO-2=CH\\u003cbr\\u003elatitude=%{lat}\\u003cbr\\u003elongitude=%{lon}\\u003cextra\\u003e\\u003c\\u002fextra\\u003e\",\"lat\":[46.948,47.3846,46.9712,46.2312,47.4465,46.218],\"legendgroup\":\"CH\",\"lon\":[7.44745,8.08898,7.35685,7.36302,8.21103,6.12169],\"marker\":{\"color\":\"#ab63fa\",\"symbol\":\"circle\"},\"mode\":\"markers\",\"name\":\"CH\",\"showlegend\":true,\"type\":\"scattergeo\"},{\"geo\":\"geo\",\"hovertemplate\":\"ISO-2=ZA\\u003cbr\\u003elatitude=%{lat}\\u003cbr\\u003elongitude=%{lon}\\u003cextra\\u003e\\u003c\\u002fextra\\u003e\",\"lat\":[-33.9249,-26.2041,-33.9249,-33.0153,-29.8579,-25.4745,-25.9992,-26.0941,-26.042,-25.7449,-31.8976],\"legendgroup\":\"ZA\",\"lon\":[18.4241,28.0473,18.4241,27.9116,31.0292,30.9703,28.1263,28.0012,28.0233,28.1878,26.8753],\"marker\":{\"color\":\"#FFA15A\",\"symbol\":\"circle\"},\"mode\":\"markers\",\"name\":\"ZA\",\"showlegend\":true,\"type\":\"scattergeo\"},{\"geo\":\"geo\",\"hovertemplate\":\"ISO-2=CZ\\u003cbr\\u003elatitude=%{lat}\\u003cbr\\u003elongitude=%{lon}\\u003cextra\\u003e\\u003c\\u002fextra\\u003e\",\"lat\":[50.2392,50.0467,50.088,50.0218,50.0468,50.039,50.0755,50.0755,49.2215,50.0839,50.0468],\"legendgroup\":\"CZ\",\"lon\":[14.3062,14.4566,14.4208,14.5148,14.3047,14.4759,14.4378,14.4378,16.5173,14.468,14.3047],\"marker\":{\"color\":\"#19d3f3\",\"symbol\":\"circle\"},\"mode\":\"markers\",\"name\":\"CZ\",\"showlegend\":true,\"type\":\"scattergeo\"},{\"geo\":\"geo\",\"hovertemplate\":\"ISO-2=IS\\u003cbr\\u003elatitude=%{lat}\\u003cbr\\u003elongitude=%{lon}\\u003cextra\\u003e\\u003c\\u002fextra\\u003e\",\"lat\":[64.0291,64.1462],\"legendgroup\":\"IS\",\"lon\":[-21.9685,-21.9103],\"marker\":{\"color\":\"#FF6692\",\"symbol\":\"circle\"},\"mode\":\"markers\",\"name\":\"IS\",\"showlegend\":true,\"type\":\"scattergeo\"},{\"geo\":\"geo\",\"hovertemplate\":\"ISO-2=RO\\u003cbr\\u003elatitude=%{lat}\\u003cbr\\u003elongitude=%{lon}\\u003cextra\\u003e\\u003c\\u002fextra\\u003e\",\"lat\":[44.4315,46.9833,44.4815,44.4268],\"legendgroup\":\"RO\",\"lon\":[26.0792,27.3,26.1221,26.1025],\"marker\":{\"color\":\"#B6E880\",\"symbol\":\"circle\"},\"mode\":\"markers\",\"name\":\"RO\",\"showlegend\":true,\"type\":\"scattergeo\"},{\"geo\":\"geo\",\"hovertemplate\":\"ISO-2=NZ\\u003cbr\\u003elatitude=%{lat}\\u003cbr\\u003elongitude=%{lon}\\u003cextra\\u003e\\u003c\\u002fextra\\u003e\",\"lat\":[-36.7667,-39.6376],\"legendgroup\":\"NZ\",\"lon\":[174.667,176.839],\"marker\":{\"color\":\"#FF97FF\",\"symbol\":\"circle\"},\"mode\":\"markers\",\"name\":\"NZ\",\"showlegend\":true,\"type\":\"scattergeo\"},{\"geo\":\"geo\",\"hovertemplate\":\"ISO-2=VN\\u003cbr\\u003elatitude=%{lat}\\u003cbr\\u003elongitude=%{lon}\\u003cextra\\u003e\\u003c\\u002fextra\\u003e\",\"lat\":[20.9947,21.0195,21.0278,10.8231,21.0278],\"legendgroup\":\"VN\",\"lon\":[105.8,105.937,105.834,106.63,105.834],\"marker\":{\"color\":\"#FECB52\",\"symbol\":\"circle\"},\"mode\":\"markers\",\"name\":\"VN\",\"showlegend\":true,\"type\":\"scattergeo\"},{\"geo\":\"geo\",\"hovertemplate\":\"ISO-2=DE\\u003cbr\\u003elatitude=%{lat}\\u003cbr\\u003elongitude=%{lon}\\u003cextra\\u003e\\u003c\\u002fextra\\u003e\",\"lat\":[47.7971,50.1109,51.3397,48.1246,51.2224,50.7706,53.5511,50.1109,50.1109,47.7167,50.1109,50.1109,50.1109,50.1109,51.5692,52.52,48.5659,48.0269,48.0616,50.1109,50.9796],\"legendgroup\":\"DE\",\"lon\":[12.1701,8.68213,12.3731,7.83285,6.90831,6.08557,9.99368,8.68213,8.68213,11.7167,8.68213,8.68213,8.68213,8.68213,9.24113,13.405,12.7371,7.80992,8.55412,8.68213,6.88896],\"marker\":{\"color\":\"#636efa\",\"symbol\":\"circle\"},\"mode\":\"markers\",\"name\":\"DE\",\"showlegend\":true,\"type\":\"scattergeo\"},{\"geo\":\"geo\",\"hovertemplate\":\"ISO-2=PS\\u003cbr\\u003elatitude=%{lat}\\u003cbr\\u003elongitude=%{lon}\\u003cextra\\u003e\\u003c\\u002fextra\\u003e\",\"lat\":[31.9038],\"legendgroup\":\"PS\",\"lon\":[35.2034],\"marker\":{\"color\":\"#EF553B\",\"symbol\":\"circle\"},\"mode\":\"markers\",\"name\":\"PS\",\"showlegend\":true,\"type\":\"scattergeo\"},{\"geo\":\"geo\",\"hovertemplate\":\"ISO-2=RU\\u003cbr\\u003elatitude=%{lat}\\u003cbr\\u003elongitude=%{lon}\\u003cextra\\u003e\\u003c\\u002fextra\\u003e\",\"lat\":[55.7558,43.1329,55.7558,57.6261,66.0888,59.9462,44.6038,59.8813,55.219,50.05,48.3521,56.8519,53.1884,56.3269,47.2814,61.25,56.0109,54.9914,55.8113,44.4647,55.7558,59.9297,59.8356],\"legendgroup\":\"RU\",\"lon\":[37.6173,131.893,37.6173,39.8845,76.6599,30.3481,40.1017,29.9003,75.9828,46.8833,135.232,60.6122,50.0726,44.0059,39.7489,73.4167,92.8822,73.3645,37.6377,39.7342,37.6173,30.6446,30.3024],\"marker\":{\"color\":\"#00cc96\",\"symbol\":\"circle\"},\"mode\":\"markers\",\"name\":\"RU\",\"showlegend\":true,\"type\":\"scattergeo\"},{\"geo\":\"geo\",\"hovertemplate\":\"ISO-2=SK\\u003cbr\\u003elatitude=%{lat}\\u003cbr\\u003elongitude=%{lon}\\u003cextra\\u003e\\u003c\\u002fextra\\u003e\",\"lat\":[48.5809,49.2918,49.1538],\"legendgroup\":\"SK\",\"lon\":[19.1499,21.2727,20.9638],\"marker\":{\"color\":\"#ab63fa\",\"symbol\":\"circle\"},\"mode\":\"markers\",\"name\":\"SK\",\"showlegend\":true,\"type\":\"scattergeo\"},{\"geo\":\"geo\",\"hovertemplate\":\"ISO-2=EE\\u003cbr\\u003elatitude=%{lat}\\u003cbr\\u003elongitude=%{lon}\\u003cextra\\u003e\\u003c\\u002fextra\\u003e\",\"lat\":[59.4282],\"legendgroup\":\"EE\",\"lon\":[24.7041],\"marker\":{\"color\":\"#FFA15A\",\"symbol\":\"circle\"},\"mode\":\"markers\",\"name\":\"EE\",\"showlegend\":true,\"type\":\"scattergeo\"},{\"geo\":\"geo\",\"hovertemplate\":\"ISO-2=IN\\u003cbr\\u003elatitude=%{lat}\\u003cbr\\u003elongitude=%{lon}\\u003cextra\\u003e\\u003c\\u002fextra\\u003e\",\"lat\":[31.5372,28.5246,21.169,17.3841,12.9716,9.93988,28.6306,26.1478,28.6139,19.1412,30.7333,28.6306,21.1458,13.3379,28.6306,13.0827,28.5217],\"legendgroup\":\"IN\",\"lon\":[75.9127,77.2793,72.8434,78.4564,77.5946,76.2602,77.2239,85.3581,77.209,73.0087,76.7794,77.2239,79.0882,77.1173,77.2239,80.2707,77.2773],\"marker\":{\"color\":\"#19d3f3\",\"symbol\":\"circle\"},\"mode\":\"markers\",\"name\":\"IN\",\"showlegend\":true,\"type\":\"scattergeo\"},{\"geo\":\"geo\",\"hovertemplate\":\"ISO-2=GR\\u003cbr\\u003elatitude=%{lat}\\u003cbr\\u003elongitude=%{lon}\\u003cextra\\u003e\\u003c\\u002fextra\\u003e\",\"lat\":[38.045,38.045,38.0095,40.6401],\"legendgroup\":\"GR\",\"lon\":[23.8043,23.8043,23.7846,22.9444],\"marker\":{\"color\":\"#FF6692\",\"symbol\":\"circle\"},\"mode\":\"markers\",\"name\":\"GR\",\"showlegend\":true,\"type\":\"scattergeo\"},{\"geo\":\"geo\",\"hovertemplate\":\"ISO-2=EG\\u003cbr\\u003elatitude=%{lat}\\u003cbr\\u003elongitude=%{lon}\\u003cextra\\u003e\\u003c\\u002fextra\\u003e\",\"lat\":[30.0723,29.8167,30.0384,30.0444,30.0723,30.7885,30.7142,30.0444,30.0626,30.0094,30.03,30.0176,30.0384,30.0094,27.9304,30.1529,30.0384,30.5968,30.03,30.0384],\"legendgroup\":\"EG\",\"lon\":[31.2282,31.05,31.2098,31.2357,31.2282,31.0019,31.2442,31.2357,31.2497,31.2086,31.47,31.4131,31.2098,31.2086,30.8383,31.315,31.2098,30.8993,31.47,31.2098],\"marker\":{\"color\":\"#B6E880\",\"symbol\":\"circle\"},\"mode\":\"markers\",\"name\":\"EG\",\"showlegend\":true,\"type\":\"scattergeo\"},{\"geo\":\"geo\",\"hovertemplate\":\"ISO-2=BE\\u003cbr\\u003elatitude=%{lat}\\u003cbr\\u003elongitude=%{lon}\\u003cextra\\u003e\\u003c\\u002fextra\\u003e\",\"lat\":[50.8503,50.8638,51.3479,50.6333],\"legendgroup\":\"BE\",\"lon\":[4.35171,4.35891,4.76053,5.58047],\"marker\":{\"color\":\"#FF97FF\",\"symbol\":\"circle\"},\"mode\":\"markers\",\"name\":\"BE\",\"showlegend\":true,\"type\":\"scattergeo\"},{\"geo\":\"geo\",\"hovertemplate\":\"ISO-2=NO\\u003cbr\\u003elatitude=%{lat}\\u003cbr\\u003elongitude=%{lon}\\u003cextra\\u003e\\u003c\\u002fextra\\u003e\",\"lat\":[59.9127,59.9139,59.9217,59.9139,59.9127],\"legendgroup\":\"NO\",\"lon\":[10.7461,10.7522,10.6739,10.7522,10.7318],\"marker\":{\"color\":\"#FECB52\",\"symbol\":\"circle\"},\"mode\":\"markers\",\"name\":\"NO\",\"showlegend\":true,\"type\":\"scattergeo\"},{\"geo\":\"geo\",\"hovertemplate\":\"ISO-2=LT\\u003cbr\\u003elatitude=%{lat}\\u003cbr\\u003elongitude=%{lon}\\u003cextra\\u003e\\u003c\\u002fextra\\u003e\",\"lat\":[54.6856,54.7022],\"legendgroup\":\"LT\",\"lon\":[25.2795,25.26],\"marker\":{\"color\":\"#636efa\",\"symbol\":\"circle\"},\"mode\":\"markers\",\"name\":\"LT\",\"showlegend\":true,\"type\":\"scattergeo\"},{\"geo\":\"geo\",\"hovertemplate\":\"ISO-2=OM\\u003cbr\\u003elatitude=%{lat}\\u003cbr\\u003elongitude=%{lon}\\u003cextra\\u003e\\u003c\\u002fextra\\u003e\",\"lat\":[19.9593],\"legendgroup\":\"OM\",\"lon\":[56.2757],\"marker\":{\"color\":\"#EF553B\",\"symbol\":\"circle\"},\"mode\":\"markers\",\"name\":\"OM\",\"showlegend\":true,\"type\":\"scattergeo\"},{\"geo\":\"geo\",\"hovertemplate\":\"ISO-2=CO\\u003cbr\\u003elatitude=%{lat}\\u003cbr\\u003elongitude=%{lon}\\u003cextra\\u003e\\u003c\\u002fextra\\u003e\",\"lat\":[10.9685,8.4115,4.43889,6.25184,10.3932,4.71099,4.81333,5.8245,7.06528,5.46304,4.20475,4.60971],\"legendgroup\":\"CO\",\"lon\":[-74.7813,-75.5851,-75.2322,-75.5636,-75.4832,-74.0721,-75.6961,-73.0341,-73.8547,-74.6544,-74.6407,-74.0817],\"marker\":{\"color\":\"#00cc96\",\"symbol\":\"circle\"},\"mode\":\"markers\",\"name\":\"CO\",\"showlegend\":true,\"type\":\"scattergeo\"},{\"geo\":\"geo\",\"hovertemplate\":\"ISO-2=CL\\u003cbr\\u003elatitude=%{lat}\\u003cbr\\u003elongitude=%{lon}\\u003cextra\\u003e\\u003c\\u002fextra\\u003e\",\"lat\":[-33.4359,-33.4368,-38.7397,-33.4443,-33.437,-33.437],\"legendgroup\":\"CL\",\"lon\":[-70.6524,-70.6322,-72.5984,-70.7255,-70.6324,-70.6324],\"marker\":{\"color\":\"#ab63fa\",\"symbol\":\"circle\"},\"mode\":\"markers\",\"name\":\"CL\",\"showlegend\":true,\"type\":\"scattergeo\"},{\"geo\":\"geo\",\"hovertemplate\":\"ISO-2=FI\\u003cbr\\u003elatitude=%{lat}\\u003cbr\\u003elongitude=%{lon}\\u003cextra\\u003e\\u003c\\u002fextra\\u003e\",\"lat\":[60.1699,60.1937,60.1626],\"legendgroup\":\"FI\",\"lon\":[24.9384,24.9492,24.9396],\"marker\":{\"color\":\"#FFA15A\",\"symbol\":\"circle\"},\"mode\":\"markers\",\"name\":\"FI\",\"showlegend\":true,\"type\":\"scattergeo\"},{\"geo\":\"geo\",\"hovertemplate\":\"ISO-2=MA\\u003cbr\\u003elatitude=%{lat}\\u003cbr\\u003elongitude=%{lon}\\u003cextra\\u003e\\u003c\\u002fextra\\u003e\",\"lat\":[33.5581,33.9977,33.9716,31.6342,33.9977,33.9977,32.3372,33.5883,33.9287,34.0331,34.0132,33.9977],\"legendgroup\":\"MA\",\"lon\":[-7.48647,-6.84793,-6.84981,-7.99994,-6.84793,-6.84793,-6.34983,-7.61138,-6.90656,-5.00028,-6.83255,-6.84793],\"marker\":{\"color\":\"#19d3f3\",\"symbol\":\"circle\"},\"mode\":\"markers\",\"name\":\"MA\",\"showlegend\":true,\"type\":\"scattergeo\"},{\"geo\":\"geo\",\"hovertemplate\":\"ISO-2=HK\\u003cbr\\u003elatitude=%{lat}\\u003cbr\\u003elongitude=%{lon}\\u003cextra\\u003e\\u003c\\u002fextra\\u003e\",\"lat\":[22.467,22.2836],\"legendgroup\":\"HK\",\"lon\":[114.194,114.16],\"marker\":{\"color\":\"#FF6692\",\"symbol\":\"circle\"},\"mode\":\"markers\",\"name\":\"HK\",\"showlegend\":true,\"type\":\"scattergeo\"},{\"geo\":\"geo\",\"hovertemplate\":\"ISO-2=PK\\u003cbr\\u003elatitude=%{lat}\\u003cbr\\u003elongitude=%{lon}\\u003cextra\\u003e\\u003c\\u002fextra\\u003e\",\"lat\":[29.3543,33.6648,24.8607,31.558],\"legendgroup\":\"PK\",\"lon\":[71.6911,73.0419,67.0011,74.3507],\"marker\":{\"color\":\"#B6E880\",\"symbol\":\"circle\"},\"mode\":\"markers\",\"name\":\"PK\",\"showlegend\":true,\"type\":\"scattergeo\"},{\"geo\":\"geo\",\"hovertemplate\":\"ISO-2=IQ\\u003cbr\\u003elatitude=%{lat}\\u003cbr\\u003elongitude=%{lon}\\u003cextra\\u003e\\u003c\\u002fextra\\u003e\",\"lat\":[33.2959],\"legendgroup\":\"IQ\",\"lon\":[44.4212],\"marker\":{\"color\":\"#FF97FF\",\"symbol\":\"circle\"},\"mode\":\"markers\",\"name\":\"IQ\",\"showlegend\":true,\"type\":\"scattergeo\"},{\"geo\":\"geo\",\"hovertemplate\":\"ISO-2=ME\\u003cbr\\u003elatitude=%{lat}\\u003cbr\\u003elongitude=%{lon}\\u003cextra\\u003e\\u003c\\u002fextra\\u003e\",\"lat\":[42.4427],\"legendgroup\":\"ME\",\"lon\":[19.2479],\"marker\":{\"color\":\"#FECB52\",\"symbol\":\"circle\"},\"mode\":\"markers\",\"name\":\"ME\",\"showlegend\":true,\"type\":\"scattergeo\"},{\"geo\":\"geo\",\"hovertemplate\":\"ISO-2=UY\\u003cbr\\u003elatitude=%{lat}\\u003cbr\\u003elongitude=%{lon}\\u003cextra\\u003e\\u003c\\u002fextra\\u003e\",\"lat\":[-34.8921,-31.3833,-34.8921,-34.9033],\"legendgroup\":\"UY\",\"lon\":[-56.1944,-57.9667,-56.1944,-56.1882],\"marker\":{\"color\":\"#636efa\",\"symbol\":\"circle\"},\"mode\":\"markers\",\"name\":\"UY\",\"showlegend\":true,\"type\":\"scattergeo\"},{\"geo\":\"geo\",\"hovertemplate\":\"ISO-2=BM\\u003cbr\\u003elatitude=%{lat}\\u003cbr\\u003elongitude=%{lon}\\u003cextra\\u003e\\u003c\\u002fextra\\u003e\",\"lat\":[32.2949],\"legendgroup\":\"BM\",\"lon\":[-64.783],\"marker\":{\"color\":\"#EF553B\",\"symbol\":\"circle\"},\"mode\":\"markers\",\"name\":\"BM\",\"showlegend\":true,\"type\":\"scattergeo\"},{\"geo\":\"geo\",\"hovertemplate\":\"ISO-2=HU\\u003cbr\\u003elatitude=%{lat}\\u003cbr\\u003elongitude=%{lon}\\u003cextra\\u003e\\u003c\\u002fextra\\u003e\",\"lat\":[47.4979,46.3431,46.9619],\"legendgroup\":\"HU\",\"lon\":[19.0402,20.0402,18.9355],\"marker\":{\"color\":\"#00cc96\",\"symbol\":\"circle\"},\"mode\":\"markers\",\"name\":\"HU\",\"showlegend\":true,\"type\":\"scattergeo\"},{\"geo\":\"geo\",\"hovertemplate\":\"ISO-2=TN\\u003cbr\\u003elatitude=%{lat}\\u003cbr\\u003elongitude=%{lon}\\u003cextra\\u003e\\u003c\\u002fextra\\u003e\",\"lat\":[35.6477,34.4628,36.819,37.2744],\"legendgroup\":\"TN\",\"lon\":[10.8905,9.26404,10.1658,9.87391],\"marker\":{\"color\":\"#ab63fa\",\"symbol\":\"circle\"},\"mode\":\"markers\",\"name\":\"TN\",\"showlegend\":true,\"type\":\"scattergeo\"},{\"geo\":\"geo\",\"hovertemplate\":\"ISO-2=PY\\u003cbr\\u003elatitude=%{lat}\\u003cbr\\u003elongitude=%{lon}\\u003cextra\\u003e\\u003c\\u002fextra\\u003e\",\"lat\":[-25.2079],\"legendgroup\":\"PY\",\"lon\":[-57.532],\"marker\":{\"color\":\"#FFA15A\",\"symbol\":\"circle\"},\"mode\":\"markers\",\"name\":\"PY\",\"showlegend\":true,\"type\":\"scattergeo\"},{\"geo\":\"geo\",\"hovertemplate\":\"ISO-2=RS\\u003cbr\\u003elatitude=%{lat}\\u003cbr\\u003elongitude=%{lon}\\u003cextra\\u003e\\u003c\\u002fextra\\u003e\",\"lat\":[44.8125,45.5168,43.3247],\"legendgroup\":\"RS\",\"lon\":[20.4612,20.3196,21.9033],\"marker\":{\"color\":\"#19d3f3\",\"symbol\":\"circle\"},\"mode\":\"markers\",\"name\":\"RS\",\"showlegend\":true,\"type\":\"scattergeo\"},{\"geo\":\"geo\",\"hovertemplate\":\"ISO-2=VE\\u003cbr\\u003elatitude=%{lat}\\u003cbr\\u003elongitude=%{lon}\\u003cextra\\u003e\\u003c\\u002fextra\\u003e\",\"lat\":[10.488,10.0677,10.4744,8.58972,9.36583,7.88782],\"legendgroup\":\"VE\",\"lon\":[-66.8792,-69.2841,-66.7486,-71.1561,-70.4369,-67.4724],\"marker\":{\"color\":\"#FF6692\",\"symbol\":\"circle\"},\"mode\":\"markers\",\"name\":\"VE\",\"showlegend\":true,\"type\":\"scattergeo\"},{\"geo\":\"geo\",\"hovertemplate\":\"ISO-2=QA\\u003cbr\\u003elatitude=%{lat}\\u003cbr\\u003elongitude=%{lon}\\u003cextra\\u003e\\u003c\\u002fextra\\u003e\",\"lat\":[25.2854,25.3234],\"legendgroup\":\"QA\",\"lon\":[51.531,51.5377],\"marker\":{\"color\":\"#B6E880\",\"symbol\":\"circle\"},\"mode\":\"markers\",\"name\":\"QA\",\"showlegend\":true,\"type\":\"scattergeo\"},{\"geo\":\"geo\",\"hovertemplate\":\"ISO-2=YE\\u003cbr\\u003elatitude=%{lat}\\u003cbr\\u003elongitude=%{lon}\\u003cextra\\u003e\\u003c\\u002fextra\\u003e\",\"lat\":[15.3547],\"legendgroup\":\"YE\",\"lon\":[44.2067],\"marker\":{\"color\":\"#FF97FF\",\"symbol\":\"circle\"},\"mode\":\"markers\",\"name\":\"YE\",\"showlegend\":true,\"type\":\"scattergeo\"},{\"geo\":\"geo\",\"hovertemplate\":\"ISO-2=DK\\u003cbr\\u003elatitude=%{lat}\\u003cbr\\u003elongitude=%{lon}\\u003cextra\\u003e\\u003c\\u002fextra\\u003e\",\"lat\":[56.1059,55.9908,56.1074,55.7292,56.1074],\"legendgroup\":\"DK\",\"lon\":[10.1397,10.15,10.1406,12.5014,10.1406],\"marker\":{\"color\":\"#FECB52\",\"symbol\":\"circle\"},\"mode\":\"markers\",\"name\":\"DK\",\"showlegend\":true,\"type\":\"scattergeo\"},{\"geo\":\"geo\",\"hovertemplate\":\"ISO-2=IL\\u003cbr\\u003elatitude=%{lat}\\u003cbr\\u003elongitude=%{lon}\\u003cextra\\u003e\\u003c\\u002fextra\\u003e\",\"lat\":[32.0988,32.0809,32.084],\"legendgroup\":\"IL\",\"lon\":[34.8635,34.7806,34.8878],\"marker\":{\"color\":\"#636efa\",\"symbol\":\"circle\"},\"mode\":\"markers\",\"name\":\"IL\",\"showlegend\":true,\"type\":\"scattergeo\"},{\"geo\":\"geo\",\"hovertemplate\":\"ISO-2=UA\\u003cbr\\u003elatitude=%{lat}\\u003cbr\\u003elongitude=%{lon}\\u003cextra\\u003e\\u003c\\u002fextra\\u003e\",\"lat\":[48.6775,50.9077],\"legendgroup\":\"UA\",\"lon\":[33.1238,34.7981],\"marker\":{\"color\":\"#EF553B\",\"symbol\":\"circle\"},\"mode\":\"markers\",\"name\":\"UA\",\"showlegend\":true,\"type\":\"scattergeo\"},{\"geo\":\"geo\",\"hovertemplate\":\"ISO-2=HR\\u003cbr\\u003elatitude=%{lat}\\u003cbr\\u003elongitude=%{lon}\\u003cextra\\u003e\\u003c\\u002fextra\\u003e\",\"lat\":[45.1828,44.1135,45.7996],\"legendgroup\":\"HR\",\"lon\":[18.1831,15.2369,15.9572],\"marker\":{\"color\":\"#00cc96\",\"symbol\":\"circle\"},\"mode\":\"markers\",\"name\":\"HR\",\"showlegend\":true,\"type\":\"scattergeo\"},{\"geo\":\"geo\",\"hovertemplate\":\"ISO-2=IE\\u003cbr\\u003elatitude=%{lat}\\u003cbr\\u003elongitude=%{lon}\\u003cextra\\u003e\\u003c\\u002fextra\\u003e\",\"lat\":[51.898,54.0045,53.5259,53.2772,53.3659,53.3498],\"legendgroup\":\"IE\",\"lon\":[-8.47061,-6.3753,-7.33814,-6.21464,-6.59033,-6.26031],\"marker\":{\"color\":\"#ab63fa\",\"symbol\":\"circle\"},\"mode\":\"markers\",\"name\":\"IE\",\"showlegend\":true,\"type\":\"scattergeo\"},{\"geo\":\"geo\",\"hovertemplate\":\"ISO-2=DZ\\u003cbr\\u003elatitude=%{lat}\\u003cbr\\u003elongitude=%{lon}\\u003cextra\\u003e\\u003c\\u002fextra\\u003e\",\"lat\":[36.6195,34.8829,36.8038,34.8829,35.1818,36.7323],\"legendgroup\":\"DZ\",\"lon\":[4.08282,-1.31668,7.73684,-1.31668,1.49013,3.08746],\"marker\":{\"color\":\"#FFA15A\",\"symbol\":\"circle\"},\"mode\":\"markers\",\"name\":\"DZ\",\"showlegend\":true,\"type\":\"scattergeo\"},{\"geo\":\"geo\",\"hovertemplate\":\"ISO-2=PA\\u003cbr\\u003elatitude=%{lat}\\u003cbr\\u003elongitude=%{lon}\\u003cextra\\u003e\\u003c\\u002fextra\\u003e\",\"lat\":[8.9936,9.01313],\"legendgroup\":\"PA\",\"lon\":[-79.5197,-79.4676],\"marker\":{\"color\":\"#19d3f3\",\"symbol\":\"circle\"},\"mode\":\"markers\",\"name\":\"PA\",\"showlegend\":true,\"type\":\"scattergeo\"},{\"geo\":\"geo\",\"hovertemplate\":\"ISO-2=CR\\u003cbr\\u003elatitude=%{lat}\\u003cbr\\u003elongitude=%{lon}\\u003cextra\\u003e\\u003c\\u002fextra\\u003e\",\"lat\":[9.27447],\"legendgroup\":\"CR\",\"lon\":[-83.5797],\"marker\":{\"color\":\"#FF6692\",\"symbol\":\"circle\"},\"mode\":\"markers\",\"name\":\"CR\",\"showlegend\":true,\"type\":\"scattergeo\"},{\"geo\":\"geo\",\"hovertemplate\":\"ISO-2=TZ\\u003cbr\\u003elatitude=%{lat}\\u003cbr\\u003elongitude=%{lon}\\u003cextra\\u003e\\u003c\\u002fextra\\u003e\",\"lat\":[-6.78637],\"legendgroup\":\"TZ\",\"lon\":[39.2789],\"marker\":{\"color\":\"#B6E880\",\"symbol\":\"circle\"},\"mode\":\"markers\",\"name\":\"TZ\",\"showlegend\":true,\"type\":\"scattergeo\"},{\"geo\":\"geo\",\"hovertemplate\":\"ISO-2=SD\\u003cbr\\u003elatitude=%{lat}\\u003cbr\\u003elongitude=%{lon}\\u003cextra\\u003e\\u003c\\u002fextra\\u003e\",\"lat\":[19.1059],\"legendgroup\":\"SD\",\"lon\":[37.3321],\"marker\":{\"color\":\"#FF97FF\",\"symbol\":\"circle\"},\"mode\":\"markers\",\"name\":\"SD\",\"showlegend\":true,\"type\":\"scattergeo\"},{\"geo\":\"geo\",\"hovertemplate\":\"ISO-2=TW\\u003cbr\\u003elatitude=%{lat}\\u003cbr\\u003elongitude=%{lon}\\u003cextra\\u003e\\u003c\\u002fextra\\u003e\",\"lat\":[25.033,25.03],\"legendgroup\":\"TW\",\"lon\":[121.565,121.515],\"marker\":{\"color\":\"#FECB52\",\"symbol\":\"circle\"},\"mode\":\"markers\",\"name\":\"TW\",\"showlegend\":true,\"type\":\"scattergeo\"},{\"geo\":\"geo\",\"hovertemplate\":\"ISO-2=PR\\u003cbr\\u003elatitude=%{lat}\\u003cbr\\u003elongitude=%{lon}\\u003cextra\\u003e\\u003c\\u002fextra\\u003e\",\"lat\":[18.4597],\"legendgroup\":\"PR\",\"lon\":[-66.7447],\"marker\":{\"color\":\"#636efa\",\"symbol\":\"circle\"},\"mode\":\"markers\",\"name\":\"PR\",\"showlegend\":true,\"type\":\"scattergeo\"},{\"geo\":\"geo\",\"hovertemplate\":\"ISO-2=BS\\u003cbr\\u003elatitude=%{lat}\\u003cbr\\u003elongitude=%{lon}\\u003cextra\\u003e\\u003c\\u002fextra\\u003e\",\"lat\":[25.064],\"legendgroup\":\"BS\",\"lon\":[-77.3332],\"marker\":{\"color\":\"#EF553B\",\"symbol\":\"circle\"},\"mode\":\"markers\",\"name\":\"BS\",\"showlegend\":true,\"type\":\"scattergeo\"},{\"geo\":\"geo\",\"hovertemplate\":\"ISO-2=MY\\u003cbr\\u003elatitude=%{lat}\\u003cbr\\u003elongitude=%{lon}\\u003cextra\\u003e\\u003c\\u002fextra\\u003e\",\"lat\":[3.13696,5.41492],\"legendgroup\":\"MY\",\"lon\":[101.694,100.33],\"marker\":{\"color\":\"#00cc96\",\"symbol\":\"circle\"},\"mode\":\"markers\",\"name\":\"MY\",\"showlegend\":true,\"type\":\"scattergeo\"},{\"geo\":\"geo\",\"hovertemplate\":\"ISO-2=BD\\u003cbr\\u003elatitude=%{lat}\\u003cbr\\u003elongitude=%{lon}\\u003cextra\\u003e\\u003c\\u002fextra\\u003e\",\"lat\":[23.8607],\"legendgroup\":\"BD\",\"lon\":[90.4044],\"marker\":{\"color\":\"#ab63fa\",\"symbol\":\"circle\"},\"mode\":\"markers\",\"name\":\"BD\",\"showlegend\":true,\"type\":\"scattergeo\"},{\"geo\":\"geo\",\"hovertemplate\":\"ISO-2=CI\\u003cbr\\u003elatitude=%{lat}\\u003cbr\\u003elongitude=%{lon}\\u003cextra\\u003e\\u003c\\u002fextra\\u003e\",\"lat\":[5.89839,5.31922],\"legendgroup\":\"CI\",\"lon\":[-4.82293,-4.01514],\"marker\":{\"color\":\"#FFA15A\",\"symbol\":\"circle\"},\"mode\":\"markers\",\"name\":\"CI\",\"showlegend\":true,\"type\":\"scattergeo\"},{\"geo\":\"geo\",\"hovertemplate\":\"ISO-2=AM\\u003cbr\\u003elatitude=%{lat}\\u003cbr\\u003elongitude=%{lon}\\u003cextra\\u003e\\u003c\\u002fextra\\u003e\",\"lat\":[40.1811],\"legendgroup\":\"AM\",\"lon\":[44.5136],\"marker\":{\"color\":\"#19d3f3\",\"symbol\":\"circle\"},\"mode\":\"markers\",\"name\":\"AM\",\"showlegend\":true,\"type\":\"scattergeo\"},{\"geo\":\"geo\",\"hovertemplate\":\"ISO-2=BW\\u003cbr\\u003elatitude=%{lat}\\u003cbr\\u003elongitude=%{lon}\\u003cextra\\u003e\\u003c\\u002fextra\\u003e\",\"lat\":[-24.6605],\"legendgroup\":\"BW\",\"lon\":[25.912],\"marker\":{\"color\":\"#FF6692\",\"symbol\":\"circle\"},\"mode\":\"markers\",\"name\":\"BW\",\"showlegend\":true,\"type\":\"scattergeo\"},{\"geo\":\"geo\",\"hovertemplate\":\"ISO-2=NG\\u003cbr\\u003elatitude=%{lat}\\u003cbr\\u003elongitude=%{lon}\\u003cextra\\u003e\\u003c\\u002fextra\\u003e\",\"lat\":[6.52438],\"legendgroup\":\"NG\",\"lon\":[3.37921],\"marker\":{\"color\":\"#B6E880\",\"symbol\":\"circle\"},\"mode\":\"markers\",\"name\":\"NG\",\"showlegend\":true,\"type\":\"scattergeo\"},{\"geo\":\"geo\",\"hovertemplate\":\"ISO-2=AE\\u003cbr\\u003elatitude=%{lat}\\u003cbr\\u003elongitude=%{lon}\\u003cextra\\u003e\\u003c\\u002fextra\\u003e\",\"lat\":[25.0772,25.2195],\"legendgroup\":\"AE\",\"lon\":[55.3093,55.2795],\"marker\":{\"color\":\"#FF97FF\",\"symbol\":\"circle\"},\"mode\":\"markers\",\"name\":\"AE\",\"showlegend\":true,\"type\":\"scattergeo\"},{\"geo\":\"geo\",\"hovertemplate\":\"ISO-2=DO\\u003cbr\\u003elatitude=%{lat}\\u003cbr\\u003elongitude=%{lon}\\u003cextra\\u003e\\u003c\\u002fextra\\u003e\",\"lat\":[18.4505],\"legendgroup\":\"DO\",\"lon\":[-69.9517],\"marker\":{\"color\":\"#FECB52\",\"symbol\":\"circle\"},\"mode\":\"markers\",\"name\":\"DO\",\"showlegend\":true,\"type\":\"scattergeo\"},{\"geo\":\"geo\",\"hovertemplate\":\"ISO-2=ID\\u003cbr\\u003elatitude=%{lat}\\u003cbr\\u003elongitude=%{lon}\\u003cextra\\u003e\\u003c\\u002fextra\\u003e\",\"lat\":[-6.23846,-6.14884],\"legendgroup\":\"ID\",\"lon\":[106.824,106.836],\"marker\":{\"color\":\"#636efa\",\"symbol\":\"circle\"},\"mode\":\"markers\",\"name\":\"ID\",\"showlegend\":true,\"type\":\"scattergeo\"},{\"geo\":\"geo\",\"hovertemplate\":\"ISO-2=PE\\u003cbr\\u003elatitude=%{lat}\\u003cbr\\u003elongitude=%{lon}\\u003cextra\\u003e\\u003c\\u002fextra\\u003e\",\"lat\":[-11.9828],\"legendgroup\":\"PE\",\"lon\":[-76.7675],\"marker\":{\"color\":\"#EF553B\",\"symbol\":\"circle\"},\"mode\":\"markers\",\"name\":\"PE\",\"showlegend\":true,\"type\":\"scattergeo\"},{\"geo\":\"geo\",\"hovertemplate\":\"ISO-2=AO\\u003cbr\\u003elatitude=%{lat}\\u003cbr\\u003elongitude=%{lon}\\u003cextra\\u003e\\u003c\\u002fextra\\u003e\",\"lat\":[-8.80313],\"legendgroup\":\"AO\",\"lon\":[13.2428],\"marker\":{\"color\":\"#00cc96\",\"symbol\":\"circle\"},\"mode\":\"markers\",\"name\":\"AO\",\"showlegend\":true,\"type\":\"scattergeo\"},{\"geo\":\"geo\",\"hovertemplate\":\"ISO-2=PH\\u003cbr\\u003elatitude=%{lat}\\u003cbr\\u003elongitude=%{lon}\\u003cextra\\u003e\\u003c\\u002fextra\\u003e\",\"lat\":[14.5535],\"legendgroup\":\"PH\",\"lon\":[121.05],\"marker\":{\"color\":\"#ab63fa\",\"symbol\":\"circle\"},\"mode\":\"markers\",\"name\":\"PH\",\"showlegend\":true,\"type\":\"scattergeo\"},{\"geo\":\"geo\",\"hovertemplate\":\"ISO-2=LV\\u003cbr\\u003elatitude=%{lat}\\u003cbr\\u003elongitude=%{lon}\\u003cextra\\u003e\\u003c\\u002fextra\\u003e\",\"lat\":[56.9497],\"legendgroup\":\"LV\",\"lon\":[24.1042],\"marker\":{\"color\":\"#FFA15A\",\"symbol\":\"circle\"},\"mode\":\"markers\",\"name\":\"LV\",\"showlegend\":true,\"type\":\"scattergeo\"},{\"geo\":\"geo\",\"hovertemplate\":\"ISO-2=SG\\u003cbr\\u003elatitude=%{lat}\\u003cbr\\u003elongitude=%{lon}\\u003cextra\\u003e\\u003c\\u002fextra\\u003e\",\"lat\":[1.33789,1.35208],\"legendgroup\":\"SG\",\"lon\":[103.965,103.82],\"marker\":{\"color\":\"#19d3f3\",\"symbol\":\"circle\"},\"mode\":\"markers\",\"name\":\"SG\",\"showlegend\":true,\"type\":\"scattergeo\"},{\"geo\":\"geo\",\"hovertemplate\":\"ISO-2=BA\\u003cbr\\u003elatitude=%{lat}\\u003cbr\\u003elongitude=%{lon}\\u003cextra\\u003e\\u003c\\u002fextra\\u003e\",\"lat\":[44.7715],\"legendgroup\":\"BA\",\"lon\":[17.1898],\"marker\":{\"color\":\"#FF6692\",\"symbol\":\"circle\"},\"mode\":\"markers\",\"name\":\"BA\",\"showlegend\":true,\"type\":\"scattergeo\"},{\"geo\":\"geo\",\"hovertemplate\":\"ISO-2=EC\\u003cbr\\u003elatitude=%{lat}\\u003cbr\\u003elongitude=%{lon}\\u003cextra\\u003e\\u003c\\u002fextra\\u003e\",\"lat\":[-2.19616],\"legendgroup\":\"EC\",\"lon\":[-79.8862],\"marker\":{\"color\":\"#B6E880\",\"symbol\":\"circle\"},\"mode\":\"markers\",\"name\":\"EC\",\"showlegend\":true,\"type\":\"scattergeo\"},{\"geo\":\"geo\",\"hovertemplate\":\"ISO-2=KH\\u003cbr\\u003elatitude=%{lat}\\u003cbr\\u003elongitude=%{lon}\\u003cextra\\u003e\\u003c\\u002fextra\\u003e\",\"lat\":[11.5492],\"legendgroup\":\"KH\",\"lon\":[104.905],\"marker\":{\"color\":\"#FF97FF\",\"symbol\":\"circle\"},\"mode\":\"markers\",\"name\":\"KH\",\"showlegend\":true,\"type\":\"scattergeo\"},{\"geo\":\"geo\",\"hovertemplate\":\"ISO-2=BF\\u003cbr\\u003elatitude=%{lat}\\u003cbr\\u003elongitude=%{lon}\\u003cextra\\u003e\\u003c\\u002fextra\\u003e\",\"lat\":[12.3657],\"legendgroup\":\"BF\",\"lon\":[-1.53388],\"marker\":{\"color\":\"#FECB52\",\"symbol\":\"circle\"},\"mode\":\"markers\",\"name\":\"BF\",\"showlegend\":true,\"type\":\"scattergeo\"},{\"geo\":\"geo\",\"hovertemplate\":\"ISO-2=GA\\u003cbr\\u003elatitude=%{lat}\\u003cbr\\u003elongitude=%{lon}\\u003cextra\\u003e\\u003c\\u002fextra\\u003e\",\"lat\":[0.416198],\"legendgroup\":\"GA\",\"lon\":[9.46727],\"marker\":{\"color\":\"#636efa\",\"symbol\":\"circle\"},\"mode\":\"markers\",\"name\":\"GA\",\"showlegend\":true,\"type\":\"scattergeo\"}],                        {\"template\":{\"data\":{\"histogram2dcontour\":[{\"type\":\"histogram2dcontour\",\"colorbar\":{\"outlinewidth\":0,\"ticks\":\"\"},\"colorscale\":[[0.0,\"#0d0887\"],[0.1111111111111111,\"#46039f\"],[0.2222222222222222,\"#7201a8\"],[0.3333333333333333,\"#9c179e\"],[0.4444444444444444,\"#bd3786\"],[0.5555555555555556,\"#d8576b\"],[0.6666666666666666,\"#ed7953\"],[0.7777777777777778,\"#fb9f3a\"],[0.8888888888888888,\"#fdca26\"],[1.0,\"#f0f921\"]]}],\"choropleth\":[{\"type\":\"choropleth\",\"colorbar\":{\"outlinewidth\":0,\"ticks\":\"\"}}],\"histogram2d\":[{\"type\":\"histogram2d\",\"colorbar\":{\"outlinewidth\":0,\"ticks\":\"\"},\"colorscale\":[[0.0,\"#0d0887\"],[0.1111111111111111,\"#46039f\"],[0.2222222222222222,\"#7201a8\"],[0.3333333333333333,\"#9c179e\"],[0.4444444444444444,\"#bd3786\"],[0.5555555555555556,\"#d8576b\"],[0.6666666666666666,\"#ed7953\"],[0.7777777777777778,\"#fb9f3a\"],[0.8888888888888888,\"#fdca26\"],[1.0,\"#f0f921\"]]}],\"heatmap\":[{\"type\":\"heatmap\",\"colorbar\":{\"outlinewidth\":0,\"ticks\":\"\"},\"colorscale\":[[0.0,\"#0d0887\"],[0.1111111111111111,\"#46039f\"],[0.2222222222222222,\"#7201a8\"],[0.3333333333333333,\"#9c179e\"],[0.4444444444444444,\"#bd3786\"],[0.5555555555555556,\"#d8576b\"],[0.6666666666666666,\"#ed7953\"],[0.7777777777777778,\"#fb9f3a\"],[0.8888888888888888,\"#fdca26\"],[1.0,\"#f0f921\"]]}],\"heatmapgl\":[{\"type\":\"heatmapgl\",\"colorbar\":{\"outlinewidth\":0,\"ticks\":\"\"},\"colorscale\":[[0.0,\"#0d0887\"],[0.1111111111111111,\"#46039f\"],[0.2222222222222222,\"#7201a8\"],[0.3333333333333333,\"#9c179e\"],[0.4444444444444444,\"#bd3786\"],[0.5555555555555556,\"#d8576b\"],[0.6666666666666666,\"#ed7953\"],[0.7777777777777778,\"#fb9f3a\"],[0.8888888888888888,\"#fdca26\"],[1.0,\"#f0f921\"]]}],\"contourcarpet\":[{\"type\":\"contourcarpet\",\"colorbar\":{\"outlinewidth\":0,\"ticks\":\"\"}}],\"contour\":[{\"type\":\"contour\",\"colorbar\":{\"outlinewidth\":0,\"ticks\":\"\"},\"colorscale\":[[0.0,\"#0d0887\"],[0.1111111111111111,\"#46039f\"],[0.2222222222222222,\"#7201a8\"],[0.3333333333333333,\"#9c179e\"],[0.4444444444444444,\"#bd3786\"],[0.5555555555555556,\"#d8576b\"],[0.6666666666666666,\"#ed7953\"],[0.7777777777777778,\"#fb9f3a\"],[0.8888888888888888,\"#fdca26\"],[1.0,\"#f0f921\"]]}],\"surface\":[{\"type\":\"surface\",\"colorbar\":{\"outlinewidth\":0,\"ticks\":\"\"},\"colorscale\":[[0.0,\"#0d0887\"],[0.1111111111111111,\"#46039f\"],[0.2222222222222222,\"#7201a8\"],[0.3333333333333333,\"#9c179e\"],[0.4444444444444444,\"#bd3786\"],[0.5555555555555556,\"#d8576b\"],[0.6666666666666666,\"#ed7953\"],[0.7777777777777778,\"#fb9f3a\"],[0.8888888888888888,\"#fdca26\"],[1.0,\"#f0f921\"]]}],\"mesh3d\":[{\"type\":\"mesh3d\",\"colorbar\":{\"outlinewidth\":0,\"ticks\":\"\"}}],\"scatter\":[{\"fillpattern\":{\"fillmode\":\"overlay\",\"size\":10,\"solidity\":0.2},\"type\":\"scatter\"}],\"parcoords\":[{\"type\":\"parcoords\",\"line\":{\"colorbar\":{\"outlinewidth\":0,\"ticks\":\"\"}}}],\"scatterpolargl\":[{\"type\":\"scatterpolargl\",\"marker\":{\"colorbar\":{\"outlinewidth\":0,\"ticks\":\"\"}}}],\"bar\":[{\"error_x\":{\"color\":\"#2a3f5f\"},\"error_y\":{\"color\":\"#2a3f5f\"},\"marker\":{\"line\":{\"color\":\"#E5ECF6\",\"width\":0.5},\"pattern\":{\"fillmode\":\"overlay\",\"size\":10,\"solidity\":0.2}},\"type\":\"bar\"}],\"scattergeo\":[{\"type\":\"scattergeo\",\"marker\":{\"colorbar\":{\"outlinewidth\":0,\"ticks\":\"\"}}}],\"scatterpolar\":[{\"type\":\"scatterpolar\",\"marker\":{\"colorbar\":{\"outlinewidth\":0,\"ticks\":\"\"}}}],\"histogram\":[{\"marker\":{\"pattern\":{\"fillmode\":\"overlay\",\"size\":10,\"solidity\":0.2}},\"type\":\"histogram\"}],\"scattergl\":[{\"type\":\"scattergl\",\"marker\":{\"colorbar\":{\"outlinewidth\":0,\"ticks\":\"\"}}}],\"scatter3d\":[{\"type\":\"scatter3d\",\"line\":{\"colorbar\":{\"outlinewidth\":0,\"ticks\":\"\"}},\"marker\":{\"colorbar\":{\"outlinewidth\":0,\"ticks\":\"\"}}}],\"scattermapbox\":[{\"type\":\"scattermapbox\",\"marker\":{\"colorbar\":{\"outlinewidth\":0,\"ticks\":\"\"}}}],\"scatterternary\":[{\"type\":\"scatterternary\",\"marker\":{\"colorbar\":{\"outlinewidth\":0,\"ticks\":\"\"}}}],\"scattercarpet\":[{\"type\":\"scattercarpet\",\"marker\":{\"colorbar\":{\"outlinewidth\":0,\"ticks\":\"\"}}}],\"carpet\":[{\"aaxis\":{\"endlinecolor\":\"#2a3f5f\",\"gridcolor\":\"white\",\"linecolor\":\"white\",\"minorgridcolor\":\"white\",\"startlinecolor\":\"#2a3f5f\"},\"baxis\":{\"endlinecolor\":\"#2a3f5f\",\"gridcolor\":\"white\",\"linecolor\":\"white\",\"minorgridcolor\":\"white\",\"startlinecolor\":\"#2a3f5f\"},\"type\":\"carpet\"}],\"table\":[{\"cells\":{\"fill\":{\"color\":\"#EBF0F8\"},\"line\":{\"color\":\"white\"}},\"header\":{\"fill\":{\"color\":\"#C8D4E3\"},\"line\":{\"color\":\"white\"}},\"type\":\"table\"}],\"barpolar\":[{\"marker\":{\"line\":{\"color\":\"#E5ECF6\",\"width\":0.5},\"pattern\":{\"fillmode\":\"overlay\",\"size\":10,\"solidity\":0.2}},\"type\":\"barpolar\"}],\"pie\":[{\"automargin\":true,\"type\":\"pie\"}]},\"layout\":{\"autotypenumbers\":\"strict\",\"colorway\":[\"#636efa\",\"#EF553B\",\"#00cc96\",\"#ab63fa\",\"#FFA15A\",\"#19d3f3\",\"#FF6692\",\"#B6E880\",\"#FF97FF\",\"#FECB52\"],\"font\":{\"color\":\"#2a3f5f\"},\"hovermode\":\"closest\",\"hoverlabel\":{\"align\":\"left\"},\"paper_bgcolor\":\"white\",\"plot_bgcolor\":\"#E5ECF6\",\"polar\":{\"bgcolor\":\"#E5ECF6\",\"angularaxis\":{\"gridcolor\":\"white\",\"linecolor\":\"white\",\"ticks\":\"\"},\"radialaxis\":{\"gridcolor\":\"white\",\"linecolor\":\"white\",\"ticks\":\"\"}},\"ternary\":{\"bgcolor\":\"#E5ECF6\",\"aaxis\":{\"gridcolor\":\"white\",\"linecolor\":\"white\",\"ticks\":\"\"},\"baxis\":{\"gridcolor\":\"white\",\"linecolor\":\"white\",\"ticks\":\"\"},\"caxis\":{\"gridcolor\":\"white\",\"linecolor\":\"white\",\"ticks\":\"\"}},\"coloraxis\":{\"colorbar\":{\"outlinewidth\":0,\"ticks\":\"\"}},\"colorscale\":{\"sequential\":[[0.0,\"#0d0887\"],[0.1111111111111111,\"#46039f\"],[0.2222222222222222,\"#7201a8\"],[0.3333333333333333,\"#9c179e\"],[0.4444444444444444,\"#bd3786\"],[0.5555555555555556,\"#d8576b\"],[0.6666666666666666,\"#ed7953\"],[0.7777777777777778,\"#fb9f3a\"],[0.8888888888888888,\"#fdca26\"],[1.0,\"#f0f921\"]],\"sequentialminus\":[[0.0,\"#0d0887\"],[0.1111111111111111,\"#46039f\"],[0.2222222222222222,\"#7201a8\"],[0.3333333333333333,\"#9c179e\"],[0.4444444444444444,\"#bd3786\"],[0.5555555555555556,\"#d8576b\"],[0.6666666666666666,\"#ed7953\"],[0.7777777777777778,\"#fb9f3a\"],[0.8888888888888888,\"#fdca26\"],[1.0,\"#f0f921\"]],\"diverging\":[[0,\"#8e0152\"],[0.1,\"#c51b7d\"],[0.2,\"#de77ae\"],[0.3,\"#f1b6da\"],[0.4,\"#fde0ef\"],[0.5,\"#f7f7f7\"],[0.6,\"#e6f5d0\"],[0.7,\"#b8e186\"],[0.8,\"#7fbc41\"],[0.9,\"#4d9221\"],[1,\"#276419\"]]},\"xaxis\":{\"gridcolor\":\"white\",\"linecolor\":\"white\",\"ticks\":\"\",\"title\":{\"standoff\":15},\"zerolinecolor\":\"white\",\"automargin\":true,\"zerolinewidth\":2},\"yaxis\":{\"gridcolor\":\"white\",\"linecolor\":\"white\",\"ticks\":\"\",\"title\":{\"standoff\":15},\"zerolinecolor\":\"white\",\"automargin\":true,\"zerolinewidth\":2},\"scene\":{\"xaxis\":{\"backgroundcolor\":\"#E5ECF6\",\"gridcolor\":\"white\",\"linecolor\":\"white\",\"showbackground\":true,\"ticks\":\"\",\"zerolinecolor\":\"white\",\"gridwidth\":2},\"yaxis\":{\"backgroundcolor\":\"#E5ECF6\",\"gridcolor\":\"white\",\"linecolor\":\"white\",\"showbackground\":true,\"ticks\":\"\",\"zerolinecolor\":\"white\",\"gridwidth\":2},\"zaxis\":{\"backgroundcolor\":\"#E5ECF6\",\"gridcolor\":\"white\",\"linecolor\":\"white\",\"showbackground\":true,\"ticks\":\"\",\"zerolinecolor\":\"white\",\"gridwidth\":2}},\"shapedefaults\":{\"line\":{\"color\":\"#2a3f5f\"}},\"annotationdefaults\":{\"arrowcolor\":\"#2a3f5f\",\"arrowhead\":0,\"arrowwidth\":1},\"geo\":{\"bgcolor\":\"white\",\"landcolor\":\"#E5ECF6\",\"subunitcolor\":\"white\",\"showland\":true,\"showlakes\":true,\"lakecolor\":\"white\"},\"title\":{\"x\":0.05},\"mapbox\":{\"style\":\"light\"}}},\"geo\":{\"domain\":{\"x\":[0.0,1.0],\"y\":[0.0,1.0]},\"center\":{}},\"legend\":{\"title\":{\"text\":\"ISO-2\"},\"tracegroupgap\":0},\"margin\":{\"t\":60}},                        {\"responsive\": true}                    ).then(function(){\n",
       "                            \n",
       "var gd = document.getElementById('6de2a3b1-f3f6-434d-8be5-15e2b1fa9cea');\n",
       "var x = new MutationObserver(function (mutations, observer) {{\n",
       "        var display = window.getComputedStyle(gd).display;\n",
       "        if (!display || display === 'none') {{\n",
       "            console.log([gd, 'removed!']);\n",
       "            Plotly.purge(gd);\n",
       "            observer.disconnect();\n",
       "        }}\n",
       "}});\n",
       "\n",
       "// Listen for the removal of the full notebook cells\n",
       "var notebookContainer = gd.closest('#notebook-container');\n",
       "if (notebookContainer) {{\n",
       "    x.observe(notebookContainer, {childList: true});\n",
       "}}\n",
       "\n",
       "// Listen for the clearing of the current output cell\n",
       "var outputEl = gd.closest('.output');\n",
       "if (outputEl) {{\n",
       "    x.observe(outputEl, {childList: true});\n",
       "}}\n",
       "\n",
       "                        })                };                });            </script>        </div>"
      ]
     },
     "metadata": {},
     "output_type": "display_data"
    }
   ],
   "source": [
    "from plotly.express import scatter_geo\n",
    "scatter_geo(data_frame=dbip_df.sample(n=1000), lat='latitude', lon='longitude', color='ISO-2').show()"
   ]
  },
  {
   "cell_type": "code",
   "execution_count": 6,
   "id": "1f0acd57",
   "metadata": {
    "execution": {
     "iopub.execute_input": "2023-08-17T19:11:56.005303Z",
     "iopub.status.busy": "2023-08-17T19:11:56.003908Z",
     "iopub.status.idle": "2023-08-17T19:11:56.805828Z",
     "shell.execute_reply": "2023-08-17T19:11:56.804745Z"
    },
    "papermill": {
     "duration": 0.812189,
     "end_time": "2023-08-17T19:11:56.808367",
     "exception": false,
     "start_time": "2023-08-17T19:11:55.996178",
     "status": "completed"
    },
    "tags": []
   },
   "outputs": [
    {
     "name": "stdout",
     "output_type": "stream",
     "text": [
      "<class 'pandas.core.frame.DataFrame'>\n",
      "RangeIndex: 241716 entries, 0 to 241715\n",
      "Data columns (total 3 columns):\n",
      " #   Column   Non-Null Count   Dtype \n",
      "---  ------   --------------   ----- \n",
      " 0   IPv4     241716 non-null  object\n",
      " 1   gateway  241716 non-null  object\n",
      " 2   ISO-2    241654 non-null  object\n",
      "dtypes: object(3)\n",
      "memory usage: 5.5+ MB\n"
     ]
    }
   ],
   "source": [
    "whois_df = pd.read_csv(filepath_or_buffer='/kaggle/input/global-ip-dataset-by-location-2023/geo-whois-asn-country-ipv4.csv',\n",
    "                      names=['IPv4', 'gateway', 'ISO-2'])\n",
    "whois_df.info()"
   ]
  },
  {
   "cell_type": "code",
   "execution_count": 7,
   "id": "64e8bc4e",
   "metadata": {
    "execution": {
     "iopub.execute_input": "2023-08-17T19:11:56.824195Z",
     "iopub.status.busy": "2023-08-17T19:11:56.821577Z",
     "iopub.status.idle": "2023-08-17T19:12:10.243972Z",
     "shell.execute_reply": "2023-08-17T19:12:10.242244Z"
    },
    "papermill": {
     "duration": 13.432898,
     "end_time": "2023-08-17T19:12:10.247269",
     "exception": false,
     "start_time": "2023-08-17T19:11:56.814371",
     "status": "completed"
    },
    "tags": []
   },
   "outputs": [
    {
     "name": "stdout",
     "output_type": "stream",
     "text": [
      "<class 'pandas.core.frame.DataFrame'>\n",
      "RangeIndex: 2823586 entries, 0 to 2823585\n",
      "Data columns (total 9 columns):\n",
      " #   Column     Dtype  \n",
      "---  ------     -----  \n",
      " 0   IPv4       object \n",
      " 1   gateway    object \n",
      " 2   ISO-2      object \n",
      " 3   state      object \n",
      " 4   city       object \n",
      " 5   postcode   object \n",
      " 6   latitude   float64\n",
      " 7   longitude  float64\n",
      " 8   Region?    object \n",
      "dtypes: float64(2), object(7)\n",
      "memory usage: 193.9+ MB\n"
     ]
    }
   ],
   "source": [
    "geolite_df = pd.read_csv(filepath_or_buffer='/kaggle/input/global-ip-dataset-by-location-2023/geolite2-city-ipv4.csv',\n",
    "                         header=None, ).drop(columns=[4])\n",
    "geolite_df.columns = ['IPv4', 'gateway', 'ISO-2', 'state', 'city', 'postcode', 'latitude', 'longitude', 'Region?']\n",
    "geolite_df.info()"
   ]
  },
  {
   "cell_type": "code",
   "execution_count": 8,
   "id": "8f7d3915",
   "metadata": {
    "execution": {
     "iopub.execute_input": "2023-08-17T19:12:10.267680Z",
     "iopub.status.busy": "2023-08-17T19:12:10.265976Z",
     "iopub.status.idle": "2023-08-17T19:12:10.291808Z",
     "shell.execute_reply": "2023-08-17T19:12:10.290692Z"
    },
    "papermill": {
     "duration": 0.040342,
     "end_time": "2023-08-17T19:12:10.295378",
     "exception": false,
     "start_time": "2023-08-17T19:12:10.255036",
     "status": "completed"
    },
    "tags": []
   },
   "outputs": [
    {
     "data": {
      "text/html": [
       "<div>\n",
       "<style scoped>\n",
       "    .dataframe tbody tr th:only-of-type {\n",
       "        vertical-align: middle;\n",
       "    }\n",
       "\n",
       "    .dataframe tbody tr th {\n",
       "        vertical-align: top;\n",
       "    }\n",
       "\n",
       "    .dataframe thead th {\n",
       "        text-align: right;\n",
       "    }\n",
       "</style>\n",
       "<table border=\"1\" class=\"dataframe\">\n",
       "  <thead>\n",
       "    <tr style=\"text-align: right;\">\n",
       "      <th></th>\n",
       "      <th>IPv4</th>\n",
       "      <th>gateway</th>\n",
       "      <th>ISO-2</th>\n",
       "      <th>state</th>\n",
       "      <th>city</th>\n",
       "      <th>postcode</th>\n",
       "      <th>latitude</th>\n",
       "      <th>longitude</th>\n",
       "      <th>Region?</th>\n",
       "    </tr>\n",
       "  </thead>\n",
       "  <tbody>\n",
       "    <tr>\n",
       "      <th>0</th>\n",
       "      <td>1.0.0.0</td>\n",
       "      <td>1.0.0.127</td>\n",
       "      <td>AU</td>\n",
       "      <td>Victoria</td>\n",
       "      <td>Moondarra</td>\n",
       "      <td>3825</td>\n",
       "      <td>-38.0248</td>\n",
       "      <td>146.3710</td>\n",
       "      <td>Australia/Melbourne</td>\n",
       "    </tr>\n",
       "    <tr>\n",
       "      <th>1</th>\n",
       "      <td>1.0.0.128</td>\n",
       "      <td>1.0.0.255</td>\n",
       "      <td>AU</td>\n",
       "      <td>Western Australia</td>\n",
       "      <td>Clarkson</td>\n",
       "      <td>6030</td>\n",
       "      <td>-31.6866</td>\n",
       "      <td>115.7281</td>\n",
       "      <td>Australia/Perth</td>\n",
       "    </tr>\n",
       "    <tr>\n",
       "      <th>2</th>\n",
       "      <td>1.0.1.0</td>\n",
       "      <td>1.0.3.255</td>\n",
       "      <td>CN</td>\n",
       "      <td>NaN</td>\n",
       "      <td>NaN</td>\n",
       "      <td>NaN</td>\n",
       "      <td>34.7732</td>\n",
       "      <td>113.7220</td>\n",
       "      <td>Asia/Shanghai</td>\n",
       "    </tr>\n",
       "    <tr>\n",
       "      <th>3</th>\n",
       "      <td>1.0.4.0</td>\n",
       "      <td>1.0.7.255</td>\n",
       "      <td>AU</td>\n",
       "      <td>New South Wales</td>\n",
       "      <td>Sydney</td>\n",
       "      <td>2000</td>\n",
       "      <td>-33.8715</td>\n",
       "      <td>151.2006</td>\n",
       "      <td>Australia/Sydney</td>\n",
       "    </tr>\n",
       "    <tr>\n",
       "      <th>4</th>\n",
       "      <td>1.0.8.0</td>\n",
       "      <td>1.0.15.255</td>\n",
       "      <td>CN</td>\n",
       "      <td>NaN</td>\n",
       "      <td>NaN</td>\n",
       "      <td>NaN</td>\n",
       "      <td>34.7732</td>\n",
       "      <td>113.7220</td>\n",
       "      <td>Asia/Shanghai</td>\n",
       "    </tr>\n",
       "  </tbody>\n",
       "</table>\n",
       "</div>"
      ],
      "text/plain": [
       "        IPv4     gateway ISO-2              state       city postcode  \\\n",
       "0    1.0.0.0   1.0.0.127    AU           Victoria  Moondarra     3825   \n",
       "1  1.0.0.128   1.0.0.255    AU  Western Australia   Clarkson     6030   \n",
       "2    1.0.1.0   1.0.3.255    CN                NaN        NaN      NaN   \n",
       "3    1.0.4.0   1.0.7.255    AU    New South Wales     Sydney     2000   \n",
       "4    1.0.8.0  1.0.15.255    CN                NaN        NaN      NaN   \n",
       "\n",
       "   latitude  longitude              Region?  \n",
       "0  -38.0248   146.3710  Australia/Melbourne  \n",
       "1  -31.6866   115.7281      Australia/Perth  \n",
       "2   34.7732   113.7220        Asia/Shanghai  \n",
       "3  -33.8715   151.2006     Australia/Sydney  \n",
       "4   34.7732   113.7220        Asia/Shanghai  "
      ]
     },
     "execution_count": 8,
     "metadata": {},
     "output_type": "execute_result"
    }
   ],
   "source": [
    "geolite_df.head()"
   ]
  },
  {
   "cell_type": "code",
   "execution_count": 9,
   "id": "66e67934",
   "metadata": {
    "execution": {
     "iopub.execute_input": "2023-08-17T19:12:10.316725Z",
     "iopub.status.busy": "2023-08-17T19:12:10.315818Z",
     "iopub.status.idle": "2023-08-17T19:12:15.853489Z",
     "shell.execute_reply": "2023-08-17T19:12:15.852175Z"
    },
    "papermill": {
     "duration": 5.55194,
     "end_time": "2023-08-17T19:12:15.856662",
     "exception": false,
     "start_time": "2023-08-17T19:12:10.304722",
     "status": "completed"
    },
    "tags": []
   },
   "outputs": [
    {
     "data": {
      "text/plain": [
       "IPv4         2823586\n",
       "gateway      2823586\n",
       "ISO-2            249\n",
       "state           3291\n",
       "city           93792\n",
       "postcode       87538\n",
       "latitude      107479\n",
       "longitude     118559\n",
       "Region?          399\n",
       "dtype: int64"
      ]
     },
     "execution_count": 9,
     "metadata": {},
     "output_type": "execute_result"
    }
   ],
   "source": [
    "geolite_df.nunique()"
   ]
  }
 ],
 "metadata": {
  "kernelspec": {
   "display_name": "Python 3",
   "language": "python",
   "name": "python3"
  },
  "language_info": {
   "codemirror_mode": {
    "name": "ipython",
    "version": 3
   },
   "file_extension": ".py",
   "mimetype": "text/x-python",
   "name": "python",
   "nbconvert_exporter": "python",
   "pygments_lexer": "ipython3",
   "version": "3.10.12"
  },
  "papermill": {
   "default_parameters": {},
   "duration": 66.132129,
   "end_time": "2023-08-17T19:12:17.697418",
   "environment_variables": {},
   "exception": null,
   "input_path": "__notebook__.ipynb",
   "output_path": "__notebook__.ipynb",
   "parameters": {},
   "start_time": "2023-08-17T19:11:11.565289",
   "version": "2.4.0"
  }
 },
 "nbformat": 4,
 "nbformat_minor": 5
}
