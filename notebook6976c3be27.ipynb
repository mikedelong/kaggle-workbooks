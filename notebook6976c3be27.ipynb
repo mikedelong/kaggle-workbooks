{
 "cells": [
  {
   "cell_type": "code",
   "execution_count": 1,
   "id": "211092ed",
   "metadata": {
    "_cell_guid": "b1076dfc-b9ad-4769-8c92-a6c4dae69d19",
    "_uuid": "8f2839f25d086af736a60e9eeb907d3b93b6e0e5",
    "execution": {
     "iopub.execute_input": "2023-07-31T18:39:44.576816Z",
     "iopub.status.busy": "2023-07-31T18:39:44.576318Z",
     "iopub.status.idle": "2023-07-31T18:39:45.858698Z",
     "shell.execute_reply": "2023-07-31T18:39:45.856694Z"
    },
    "papermill": {
     "duration": 1.294397,
     "end_time": "2023-07-31T18:39:45.861962",
     "exception": false,
     "start_time": "2023-07-31T18:39:44.567565",
     "status": "completed"
    },
    "tags": []
   },
   "outputs": [
    {
     "name": "stdout",
     "output_type": "stream",
     "text": [
      "output2014.xlsx: ['Sheet1']\n",
      "output2017.xlsx: ['Sheet1']\n",
      "output2012.xlsx: ['Sheet1', 'Sheet2']\n",
      "output2006.xlsx: ['Sheet1', 'Sheet2']\n",
      "output2016.xlsx: ['Sheet1']\n",
      "output2004.xlsx: ['Sheet1', 'Sheet2']\n",
      "output2019_2020_2021.xlsx: ['CIIReport']\n",
      "output2005.xlsx: ['Sheet1', 'Sheet2']\n",
      "output2010.xlsx: ['Sheet1', 'Sheet2']\n",
      "output2018.xlsx: ['Sheet1']\n",
      "output2009.xlsx: ['Sheet1', 'Sheet2']\n",
      "output2015.xlsx: ['Sheet1']\n",
      "output2008.xlsx: ['Sheet1', 'Sheet2']\n",
      "output2013.xlsx: ['Sheet1', 'Sheet2']\n",
      "output2003.xlsx: ['Sheet1', 'Sheet2']\n",
      "output2011.xlsx: ['Sheet1', 'Sheet2']\n",
      "output2007.xlsx: ['Sheet1', 'Sheet2']\n"
     ]
    }
   ],
   "source": [
    "import numpy as np # linear algebra\n",
    "import pandas as pd # data processing, CSV file I/O (e.g. pd.read_csv)\n",
    "import os\n",
    "for dirname, _, filenames in os.walk('/kaggle/input'):\n",
    "    for filename in filenames:\n",
    "        with pd.ExcelFile(path_or_buffer=os.path.join(dirname, filename)) as excel_file:\n",
    "            print('{}: {}'.format(filename, excel_file.sheet_names))"
   ]
  },
  {
   "cell_type": "code",
   "execution_count": 2,
   "id": "289cb7bb",
   "metadata": {
    "execution": {
     "iopub.execute_input": "2023-07-31T18:39:45.877306Z",
     "iopub.status.busy": "2023-07-31T18:39:45.875931Z",
     "iopub.status.idle": "2023-07-31T18:39:46.046711Z",
     "shell.execute_reply": "2023-07-31T18:39:46.045258Z"
    },
    "papermill": {
     "duration": 0.181499,
     "end_time": "2023-07-31T18:39:46.049854",
     "exception": false,
     "start_time": "2023-07-31T18:39:45.868355",
     "status": "completed"
    },
    "tags": []
   },
   "outputs": [
    {
     "data": {
      "text/html": [
       "<div>\n",
       "<style scoped>\n",
       "    .dataframe tbody tr th:only-of-type {\n",
       "        vertical-align: middle;\n",
       "    }\n",
       "\n",
       "    .dataframe tbody tr th {\n",
       "        vertical-align: top;\n",
       "    }\n",
       "\n",
       "    .dataframe thead th {\n",
       "        text-align: right;\n",
       "    }\n",
       "</style>\n",
       "<table border=\"1\" class=\"dataframe\">\n",
       "  <thead>\n",
       "    <tr style=\"text-align: right;\">\n",
       "      <th></th>\n",
       "      <th>SL.No</th>\n",
       "      <th>State/UT</th>\n",
       "      <th>Unnamed: 2</th>\n",
       "      <th>IT ACT</th>\n",
       "      <th>Unnamed: 4</th>\n",
       "      <th>Unnamed: 5</th>\n",
       "      <th>IPC Section</th>\n",
       "      <th>Unnamed: 7</th>\n",
       "    </tr>\n",
       "  </thead>\n",
       "  <tbody>\n",
       "    <tr>\n",
       "      <th>0</th>\n",
       "      <td>1</td>\n",
       "      <td>2</td>\n",
       "      <td>3.0</td>\n",
       "      <td>4.0</td>\n",
       "      <td>5</td>\n",
       "      <td>6.0</td>\n",
       "      <td>7.0</td>\n",
       "      <td>8</td>\n",
       "    </tr>\n",
       "    <tr>\n",
       "      <th>1</th>\n",
       "      <td>1</td>\n",
       "      <td>ANDHRA PRADESH</td>\n",
       "      <td>8.0</td>\n",
       "      <td>3.0</td>\n",
       "      <td>-62.50</td>\n",
       "      <td>253.0</td>\n",
       "      <td>218.0</td>\n",
       "      <td>-13.83</td>\n",
       "    </tr>\n",
       "    <tr>\n",
       "      <th>2</th>\n",
       "      <td>2</td>\n",
       "      <td>ARUNACHAL PRADESH</td>\n",
       "      <td>0.0</td>\n",
       "      <td>0.0</td>\n",
       "      <td>-</td>\n",
       "      <td>0.0</td>\n",
       "      <td>0.0</td>\n",
       "      <td>-</td>\n",
       "    </tr>\n",
       "    <tr>\n",
       "      <th>3</th>\n",
       "      <td>3</td>\n",
       "      <td>ASSAM</td>\n",
       "      <td>2.0</td>\n",
       "      <td>0.0</td>\n",
       "      <td>-100.00</td>\n",
       "      <td>0.0</td>\n",
       "      <td>0.0</td>\n",
       "      <td>-</td>\n",
       "    </tr>\n",
       "    <tr>\n",
       "      <th>4</th>\n",
       "      <td>4</td>\n",
       "      <td>BIHAR</td>\n",
       "      <td>0.0</td>\n",
       "      <td>0.0</td>\n",
       "      <td>-</td>\n",
       "      <td>0.0</td>\n",
       "      <td>0.0</td>\n",
       "      <td>-</td>\n",
       "    </tr>\n",
       "    <tr>\n",
       "      <th>5</th>\n",
       "      <td>5</td>\n",
       "      <td>CHHATTISGARH</td>\n",
       "      <td>0.0</td>\n",
       "      <td>0.0</td>\n",
       "      <td>-</td>\n",
       "      <td>0.0</td>\n",
       "      <td>0.0</td>\n",
       "      <td>-</td>\n",
       "    </tr>\n",
       "    <tr>\n",
       "      <th>6</th>\n",
       "      <td>6</td>\n",
       "      <td>GOA</td>\n",
       "      <td>4.0</td>\n",
       "      <td>2.0</td>\n",
       "      <td>-50.00</td>\n",
       "      <td>4.0</td>\n",
       "      <td>0.0</td>\n",
       "      <td>-100.00</td>\n",
       "    </tr>\n",
       "    <tr>\n",
       "      <th>7</th>\n",
       "      <td>7</td>\n",
       "      <td>GUJARAT</td>\n",
       "      <td>1.0</td>\n",
       "      <td>14.0</td>\n",
       "      <td>1300</td>\n",
       "      <td>249.0</td>\n",
       "      <td>15.0</td>\n",
       "      <td>-93.98</td>\n",
       "    </tr>\n",
       "    <tr>\n",
       "      <th>8</th>\n",
       "      <td>8</td>\n",
       "      <td>HARYANA</td>\n",
       "      <td>2.0</td>\n",
       "      <td>0.0</td>\n",
       "      <td>-100.00</td>\n",
       "      <td>0.0</td>\n",
       "      <td>1.0</td>\n",
       "      <td>-</td>\n",
       "    </tr>\n",
       "    <tr>\n",
       "      <th>9</th>\n",
       "      <td>9</td>\n",
       "      <td>HIMACHAL PRADESH</td>\n",
       "      <td>0.0</td>\n",
       "      <td>0.0</td>\n",
       "      <td>-</td>\n",
       "      <td>99.0</td>\n",
       "      <td>87.0</td>\n",
       "      <td>-12.12</td>\n",
       "    </tr>\n",
       "  </tbody>\n",
       "</table>\n",
       "</div>"
      ],
      "text/plain": [
       "  SL.No           State/UT  Unnamed: 2  IT ACT  Unnamed: 4  Unnamed: 5  \\\n",
       "0     1                  2         3.0      4.0          5         6.0   \n",
       "1     1     ANDHRA PRADESH         8.0      3.0     -62.50       253.0   \n",
       "2     2  ARUNACHAL PRADESH         0.0      0.0          -         0.0   \n",
       "3     3              ASSAM         2.0      0.0    -100.00         0.0   \n",
       "4     4              BIHAR         0.0      0.0          -         0.0   \n",
       "5     5       CHHATTISGARH         0.0      0.0          -         0.0   \n",
       "6     6                GOA         4.0      2.0     -50.00         4.0   \n",
       "7     7            GUJARAT         1.0     14.0       1300       249.0   \n",
       "8     8            HARYANA         2.0      0.0    -100.00         0.0   \n",
       "9     9   HIMACHAL PRADESH         0.0      0.0          -        99.0   \n",
       "\n",
       "   IPC Section Unnamed: 7  \n",
       "0          7.0          8  \n",
       "1        218.0     -13.83  \n",
       "2          0.0          -  \n",
       "3          0.0          -  \n",
       "4          0.0          -  \n",
       "5          0.0          -  \n",
       "6          0.0    -100.00  \n",
       "7         15.0     -93.98  \n",
       "8          1.0          -  \n",
       "9         87.0     -12.12  "
      ]
     },
     "execution_count": 2,
     "metadata": {},
     "output_type": "execute_result"
    }
   ],
   "source": [
    "filename = '/kaggle/input/cyber-crime-in-india-from-2003/output2003.xlsx'\n",
    "excel_file = pd.ExcelFile(path_or_buffer=filename)\n",
    "dfs = [\n",
    "    pd.read_excel(io=filename, sheet_name=excel_file.sheet_names[0], skiprows=[0, 1, 2, 3, 5]),\n",
    "    pd.read_excel(io=filename, sheet_name=excel_file.sheet_names[1], skiprows=[0, 1, 2, 4]),\n",
    "]\n",
    "dfs[0].head(n=10)"
   ]
  },
  {
   "cell_type": "code",
   "execution_count": 3,
   "id": "64c2c8aa",
   "metadata": {
    "execution": {
     "iopub.execute_input": "2023-07-31T18:39:46.065148Z",
     "iopub.status.busy": "2023-07-31T18:39:46.064059Z",
     "iopub.status.idle": "2023-07-31T18:39:46.086533Z",
     "shell.execute_reply": "2023-07-31T18:39:46.085289Z"
    },
    "papermill": {
     "duration": 0.032796,
     "end_time": "2023-07-31T18:39:46.089020",
     "exception": false,
     "start_time": "2023-07-31T18:39:46.056224",
     "status": "completed"
    },
    "tags": []
   },
   "outputs": [
    {
     "data": {
      "text/html": [
       "<div>\n",
       "<style scoped>\n",
       "    .dataframe tbody tr th:only-of-type {\n",
       "        vertical-align: middle;\n",
       "    }\n",
       "\n",
       "    .dataframe tbody tr th {\n",
       "        vertical-align: top;\n",
       "    }\n",
       "\n",
       "    .dataframe thead th {\n",
       "        text-align: right;\n",
       "    }\n",
       "</style>\n",
       "<table border=\"1\" class=\"dataframe\">\n",
       "  <thead>\n",
       "    <tr style=\"text-align: right;\">\n",
       "      <th></th>\n",
       "      <th>Unnamed: 0</th>\n",
       "      <th>Unnamed: 1</th>\n",
       "      <th>2002</th>\n",
       "      <th>2003</th>\n",
       "      <th>Variation</th>\n",
       "      <th>2002.1</th>\n",
       "      <th>2003.1</th>\n",
       "      <th>Variation.1</th>\n",
       "    </tr>\n",
       "  </thead>\n",
       "  <tbody>\n",
       "    <tr>\n",
       "      <th>0</th>\n",
       "      <td>36.0</td>\n",
       "      <td>AGRA</td>\n",
       "      <td>0.0</td>\n",
       "      <td>0.0</td>\n",
       "      <td>-</td>\n",
       "      <td>0.0</td>\n",
       "      <td>0.0</td>\n",
       "      <td>-</td>\n",
       "    </tr>\n",
       "    <tr>\n",
       "      <th>1</th>\n",
       "      <td>37.0</td>\n",
       "      <td>AHMEDABAD</td>\n",
       "      <td>1.0</td>\n",
       "      <td>11.0</td>\n",
       "      <td>1000</td>\n",
       "      <td>1.0</td>\n",
       "      <td>1.0</td>\n",
       "      <td>0</td>\n",
       "    </tr>\n",
       "    <tr>\n",
       "      <th>2</th>\n",
       "      <td>38.0</td>\n",
       "      <td>ALLAHABAD</td>\n",
       "      <td>0.0</td>\n",
       "      <td>0.0</td>\n",
       "      <td>-</td>\n",
       "      <td>0.0</td>\n",
       "      <td>0.0</td>\n",
       "      <td>-</td>\n",
       "    </tr>\n",
       "    <tr>\n",
       "      <th>3</th>\n",
       "      <td>39.0</td>\n",
       "      <td>AMRITSAR</td>\n",
       "      <td>1.0</td>\n",
       "      <td>1.0</td>\n",
       "      <td>0</td>\n",
       "      <td>2.0</td>\n",
       "      <td>0.0</td>\n",
       "      <td>-100</td>\n",
       "    </tr>\n",
       "    <tr>\n",
       "      <th>4</th>\n",
       "      <td>40.0</td>\n",
       "      <td>ASANSOL</td>\n",
       "      <td>0.0</td>\n",
       "      <td>0.0</td>\n",
       "      <td>-</td>\n",
       "      <td>0.0</td>\n",
       "      <td>0.0</td>\n",
       "      <td>-</td>\n",
       "    </tr>\n",
       "    <tr>\n",
       "      <th>5</th>\n",
       "      <td>41.0</td>\n",
       "      <td>BANGALORE</td>\n",
       "      <td>15.0</td>\n",
       "      <td>7.0</td>\n",
       "      <td>-53.33</td>\n",
       "      <td>0.0</td>\n",
       "      <td>1.0</td>\n",
       "      <td>-</td>\n",
       "    </tr>\n",
       "    <tr>\n",
       "      <th>6</th>\n",
       "      <td>42.0</td>\n",
       "      <td>BHOPAL</td>\n",
       "      <td>1.0</td>\n",
       "      <td>0.0</td>\n",
       "      <td>-100</td>\n",
       "      <td>1.0</td>\n",
       "      <td>0.0</td>\n",
       "      <td>-100</td>\n",
       "    </tr>\n",
       "    <tr>\n",
       "      <th>7</th>\n",
       "      <td>43.0</td>\n",
       "      <td>CHENNAI</td>\n",
       "      <td>2.0</td>\n",
       "      <td>6.0</td>\n",
       "      <td>200</td>\n",
       "      <td>0.0</td>\n",
       "      <td>0.0</td>\n",
       "      <td>-</td>\n",
       "    </tr>\n",
       "    <tr>\n",
       "      <th>8</th>\n",
       "      <td>44.0</td>\n",
       "      <td>COIMBATORE</td>\n",
       "      <td>0.0</td>\n",
       "      <td>0.0</td>\n",
       "      <td>-</td>\n",
       "      <td>0.0</td>\n",
       "      <td>0.0</td>\n",
       "      <td>-</td>\n",
       "    </tr>\n",
       "    <tr>\n",
       "      <th>9</th>\n",
       "      <td>45.0</td>\n",
       "      <td>DELHI (CITY)</td>\n",
       "      <td>5.0</td>\n",
       "      <td>4.0</td>\n",
       "      <td>-20</td>\n",
       "      <td>2.0</td>\n",
       "      <td>0.0</td>\n",
       "      <td>-100</td>\n",
       "    </tr>\n",
       "  </tbody>\n",
       "</table>\n",
       "</div>"
      ],
      "text/plain": [
       "   Unnamed: 0      Unnamed: 1  2002  2003 Variation  2002.1  2003.1  \\\n",
       "0        36.0            AGRA   0.0   0.0         -     0.0     0.0   \n",
       "1        37.0       AHMEDABAD   1.0  11.0      1000     1.0     1.0   \n",
       "2        38.0       ALLAHABAD   0.0   0.0         -     0.0     0.0   \n",
       "3        39.0        AMRITSAR   1.0   1.0         0     2.0     0.0   \n",
       "4        40.0         ASANSOL   0.0   0.0         -     0.0     0.0   \n",
       "5        41.0       BANGALORE  15.0   7.0    -53.33     0.0     1.0   \n",
       "6        42.0          BHOPAL   1.0   0.0      -100     1.0     0.0   \n",
       "7        43.0         CHENNAI   2.0   6.0       200     0.0     0.0   \n",
       "8        44.0      COIMBATORE   0.0   0.0         -     0.0     0.0   \n",
       "9        45.0  DELHI (CITY)     5.0   4.0       -20     2.0     0.0   \n",
       "\n",
       "  Variation.1  \n",
       "0           -  \n",
       "1           0  \n",
       "2           -  \n",
       "3        -100  \n",
       "4           -  \n",
       "5           -  \n",
       "6        -100  \n",
       "7           -  \n",
       "8           -  \n",
       "9        -100  "
      ]
     },
     "execution_count": 3,
     "metadata": {},
     "output_type": "execute_result"
    }
   ],
   "source": [
    "dfs[1].head(n=10)"
   ]
  },
  {
   "cell_type": "code",
   "execution_count": 4,
   "id": "91befba8",
   "metadata": {
    "execution": {
     "iopub.execute_input": "2023-07-31T18:39:46.106521Z",
     "iopub.status.busy": "2023-07-31T18:39:46.106004Z",
     "iopub.status.idle": "2023-07-31T18:39:46.113859Z",
     "shell.execute_reply": "2023-07-31T18:39:46.112444Z"
    },
    "papermill": {
     "duration": 0.020898,
     "end_time": "2023-07-31T18:39:46.116389",
     "exception": false,
     "start_time": "2023-07-31T18:39:46.095491",
     "status": "completed"
    },
    "tags": []
   },
   "outputs": [
    {
     "data": {
      "text/plain": [
       "[(41, 8), (37, 8)]"
      ]
     },
     "execution_count": 4,
     "metadata": {},
     "output_type": "execute_result"
    }
   ],
   "source": [
    "[frame.shape for frame in dfs]"
   ]
  },
  {
   "cell_type": "code",
   "execution_count": 5,
   "id": "abd7a902",
   "metadata": {
    "execution": {
     "iopub.execute_input": "2023-07-31T18:39:46.132186Z",
     "iopub.status.busy": "2023-07-31T18:39:46.131703Z",
     "iopub.status.idle": "2023-07-31T18:39:46.163981Z",
     "shell.execute_reply": "2023-07-31T18:39:46.162126Z"
    },
    "papermill": {
     "duration": 0.043639,
     "end_time": "2023-07-31T18:39:46.167003",
     "exception": false,
     "start_time": "2023-07-31T18:39:46.123364",
     "status": "completed"
    },
    "tags": []
   },
   "outputs": [
    {
     "name": "stdout",
     "output_type": "stream",
     "text": [
      "['CIIReport']\n"
     ]
    }
   ],
   "source": [
    "import pandas as pd\n",
    "filename = '/kaggle/input/cyber-crime-in-india-from-2003/output2019_2020_2021.xlsx'\n",
    "with pd.ExcelFile(path_or_buffer=filename) as excel_file:\n",
    "    print(list(excel_file.sheet_names))"
   ]
  },
  {
   "cell_type": "code",
   "execution_count": 6,
   "id": "d7f21e7a",
   "metadata": {
    "execution": {
     "iopub.execute_input": "2023-07-31T18:39:46.182241Z",
     "iopub.status.busy": "2023-07-31T18:39:46.181784Z",
     "iopub.status.idle": "2023-07-31T18:39:46.243336Z",
     "shell.execute_reply": "2023-07-31T18:39:46.241809Z"
    },
    "papermill": {
     "duration": 0.072616,
     "end_time": "2023-07-31T18:39:46.246219",
     "exception": false,
     "start_time": "2023-07-31T18:39:46.173603",
     "status": "completed"
    },
    "tags": []
   },
   "outputs": [
    {
     "data": {
      "text/html": [
       "<div>\n",
       "<style scoped>\n",
       "    .dataframe tbody tr th:only-of-type {\n",
       "        vertical-align: middle;\n",
       "    }\n",
       "\n",
       "    .dataframe tbody tr th {\n",
       "        vertical-align: top;\n",
       "    }\n",
       "\n",
       "    .dataframe thead th {\n",
       "        text-align: right;\n",
       "    }\n",
       "</style>\n",
       "<table border=\"1\" class=\"dataframe\">\n",
       "  <thead>\n",
       "    <tr style=\"text-align: right;\">\n",
       "      <th></th>\n",
       "      <th>State/UT</th>\n",
       "      <th>2019</th>\n",
       "      <th>2020</th>\n",
       "      <th>2021</th>\n",
       "      <th>Mid-Year Projected Population (in Lakhs)</th>\n",
       "      <th>Rate of Total Cyber Crimes (2021)</th>\n",
       "      <th>Chargesheeting Rate (2021)</th>\n",
       "    </tr>\n",
       "    <tr>\n",
       "      <th>SL</th>\n",
       "      <th></th>\n",
       "      <th></th>\n",
       "      <th></th>\n",
       "      <th></th>\n",
       "      <th></th>\n",
       "      <th></th>\n",
       "      <th></th>\n",
       "    </tr>\n",
       "  </thead>\n",
       "  <tbody>\n",
       "    <tr>\n",
       "      <th>1</th>\n",
       "      <td>Andhra Pradesh</td>\n",
       "      <td>1886</td>\n",
       "      <td>1899</td>\n",
       "      <td>1875</td>\n",
       "      <td>528.5</td>\n",
       "      <td>3.5</td>\n",
       "      <td>31.8</td>\n",
       "    </tr>\n",
       "    <tr>\n",
       "      <th>2</th>\n",
       "      <td>Arunachal Pradesh</td>\n",
       "      <td>8</td>\n",
       "      <td>30</td>\n",
       "      <td>47</td>\n",
       "      <td>15.4</td>\n",
       "      <td>3.1</td>\n",
       "      <td>60</td>\n",
       "    </tr>\n",
       "    <tr>\n",
       "      <th>3</th>\n",
       "      <td>Assam</td>\n",
       "      <td>2231</td>\n",
       "      <td>3530</td>\n",
       "      <td>4846</td>\n",
       "      <td>351.6</td>\n",
       "      <td>13.8</td>\n",
       "      <td>15.9</td>\n",
       "    </tr>\n",
       "    <tr>\n",
       "      <th>4</th>\n",
       "      <td>Bihar</td>\n",
       "      <td>1050</td>\n",
       "      <td>1512</td>\n",
       "      <td>1413</td>\n",
       "      <td>1237.0</td>\n",
       "      <td>1.1</td>\n",
       "      <td>50.2</td>\n",
       "    </tr>\n",
       "    <tr>\n",
       "      <th>5</th>\n",
       "      <td>Chhattisgarh</td>\n",
       "      <td>175</td>\n",
       "      <td>297</td>\n",
       "      <td>352</td>\n",
       "      <td>296.1</td>\n",
       "      <td>1.2</td>\n",
       "      <td>83</td>\n",
       "    </tr>\n",
       "  </tbody>\n",
       "</table>\n",
       "</div>"
      ],
      "text/plain": [
       "             State/UT  2019  2020  2021  \\\n",
       "SL                                        \n",
       "1      Andhra Pradesh  1886  1899  1875   \n",
       "2   Arunachal Pradesh     8    30    47   \n",
       "3               Assam  2231  3530  4846   \n",
       "4               Bihar  1050  1512  1413   \n",
       "5        Chhattisgarh   175   297   352   \n",
       "\n",
       "    Mid-Year Projected Population (in Lakhs)  \\\n",
       "SL                                             \n",
       "1                                      528.5   \n",
       "2                                       15.4   \n",
       "3                                      351.6   \n",
       "4                                     1237.0   \n",
       "5                                      296.1   \n",
       "\n",
       "    Rate of Total Cyber Crimes (2021) Chargesheeting Rate (2021)  \n",
       "SL                                                                \n",
       "1                                 3.5                       31.8  \n",
       "2                                 3.1                         60  \n",
       "3                                13.8                       15.9  \n",
       "4                                 1.1                       50.2  \n",
       "5                                 1.2                         83  "
      ]
     },
     "execution_count": 6,
     "metadata": {},
     "output_type": "execute_result"
    }
   ],
   "source": [
    "import pandas as pd\n",
    "sheet_name = 'CIIReport'\n",
    "df = pd.read_excel(io=filename, sheet_name=sheet_name, index_col=[0])\n",
    "df.head()"
   ]
  },
  {
   "cell_type": "code",
   "execution_count": 7,
   "id": "be47d5fe",
   "metadata": {
    "execution": {
     "iopub.execute_input": "2023-07-31T18:39:46.262198Z",
     "iopub.status.busy": "2023-07-31T18:39:46.261729Z",
     "iopub.status.idle": "2023-07-31T18:39:46.268967Z",
     "shell.execute_reply": "2023-07-31T18:39:46.267986Z"
    },
    "papermill": {
     "duration": 0.018486,
     "end_time": "2023-07-31T18:39:46.271578",
     "exception": false,
     "start_time": "2023-07-31T18:39:46.253092",
     "status": "completed"
    },
    "tags": []
   },
   "outputs": [
    {
     "data": {
      "text/plain": [
       "(39, 7)"
      ]
     },
     "execution_count": 7,
     "metadata": {},
     "output_type": "execute_result"
    }
   ],
   "source": [
    "df.shape"
   ]
  },
  {
   "cell_type": "code",
   "execution_count": 8,
   "id": "b91becb6",
   "metadata": {
    "execution": {
     "iopub.execute_input": "2023-07-31T18:39:46.288067Z",
     "iopub.status.busy": "2023-07-31T18:39:46.287229Z",
     "iopub.status.idle": "2023-07-31T18:39:46.294938Z",
     "shell.execute_reply": "2023-07-31T18:39:46.293844Z"
    },
    "papermill": {
     "duration": 0.019244,
     "end_time": "2023-07-31T18:39:46.297785",
     "exception": false,
     "start_time": "2023-07-31T18:39:46.278541",
     "status": "completed"
    },
    "tags": []
   },
   "outputs": [
    {
     "data": {
      "text/plain": [
       "Index([                                'State/UT',\n",
       "                                             2019,\n",
       "                                             2020,\n",
       "                                             2021,\n",
       "       'Mid-Year Projected Population (in Lakhs)',\n",
       "              'Rate of Total Cyber Crimes (2021)',\n",
       "                     'Chargesheeting Rate (2021)'],\n",
       "      dtype='object')"
      ]
     },
     "execution_count": 8,
     "metadata": {},
     "output_type": "execute_result"
    }
   ],
   "source": [
    "df.columns"
   ]
  },
  {
   "cell_type": "code",
   "execution_count": 9,
   "id": "1d4cbccd",
   "metadata": {
    "execution": {
     "iopub.execute_input": "2023-07-31T18:39:46.315035Z",
     "iopub.status.busy": "2023-07-31T18:39:46.314614Z",
     "iopub.status.idle": "2023-07-31T18:39:46.962971Z",
     "shell.execute_reply": "2023-07-31T18:39:46.961586Z"
    },
    "papermill": {
     "duration": 0.660646,
     "end_time": "2023-07-31T18:39:46.966153",
     "exception": false,
     "start_time": "2023-07-31T18:39:46.305507",
     "status": "completed"
    },
    "tags": []
   },
   "outputs": [
    {
     "data": {
      "text/plain": [
       "<Axes: xlabel='State/UT', ylabel='2021'>"
      ]
     },
     "execution_count": 9,
     "metadata": {},
     "output_type": "execute_result"
    },
    {
     "data": {
      "image/png": "[encoded data removed]",
      "text/plain": [
       "<Figure size 640x480 with 1 Axes>"
      ]
     },
     "metadata": {},
     "output_type": "display_data"
    }
   ],
   "source": [
    "df[~df['State/UT'].str.startswith('TOTAL')][['State/UT', 2021]].sort_values(by=2021).plot(kind='scatter', x='State/UT', y=2021, rot=90, s=40)"
   ]
  },
  {
   "cell_type": "code",
   "execution_count": 10,
   "id": "63739af3",
   "metadata": {
    "execution": {
     "iopub.execute_input": "2023-07-31T18:39:46.987408Z",
     "iopub.status.busy": "2023-07-31T18:39:46.986246Z",
     "iopub.status.idle": "2023-07-31T18:39:47.550792Z",
     "shell.execute_reply": "2023-07-31T18:39:47.549481Z"
    },
    "papermill": {
     "duration": 0.578827,
     "end_time": "2023-07-31T18:39:47.553928",
     "exception": false,
     "start_time": "2023-07-31T18:39:46.975101",
     "status": "completed"
    },
    "tags": []
   },
   "outputs": [
    {
     "data": {
      "text/plain": [
       "<Axes: xlabel='State/UT', ylabel='2020'>"
      ]
     },
     "execution_count": 10,
     "metadata": {},
     "output_type": "execute_result"
    },
    {
     "data": {
      "image/png": "[encoded data removed]",
      "text/plain": [
       "<Figure size 640x480 with 1 Axes>"
      ]
     },
     "metadata": {},
     "output_type": "display_data"
    }
   ],
   "source": [
    "df[~df['State/UT'].str.startswith('TOTAL')][['State/UT', 2020]].sort_values(by=2020).plot(kind='scatter', x='State/UT', y=2020, rot=90, s=40)"
   ]
  },
  {
   "cell_type": "code",
   "execution_count": 11,
   "id": "8b5e1ace",
   "metadata": {
    "execution": {
     "iopub.execute_input": "2023-07-31T18:39:47.577261Z",
     "iopub.status.busy": "2023-07-31T18:39:47.576788Z",
     "iopub.status.idle": "2023-07-31T18:39:47.898826Z",
     "shell.execute_reply": "2023-07-31T18:39:47.897635Z"
    },
    "papermill": {
     "duration": 0.336279,
     "end_time": "2023-07-31T18:39:47.901695",
     "exception": false,
     "start_time": "2023-07-31T18:39:47.565416",
     "status": "completed"
    },
    "tags": []
   },
   "outputs": [
    {
     "data": {
      "text/plain": [
       "<Axes: xlabel='2020', ylabel='2021'>"
      ]
     },
     "execution_count": 11,
     "metadata": {},
     "output_type": "execute_result"
    },
    {
     "data": {
      "image/png": "[encoded data removed]",
      "text/plain": [
       "<Figure size 640x480 with 1 Axes>"
      ]
     },
     "metadata": {},
     "output_type": "display_data"
    }
   ],
   "source": [
    "df[~df['State/UT'].str.startswith('TOTAL')][[2020, 2021]].sort_values(by=2021).plot(kind='scatter', x=2020, y=2021, rot=90, s=40)"
   ]
  },
  {
   "cell_type": "code",
   "execution_count": 12,
   "id": "57d32eac",
   "metadata": {
    "execution": {
     "iopub.execute_input": "2023-07-31T18:39:47.925288Z",
     "iopub.status.busy": "2023-07-31T18:39:47.924734Z",
     "iopub.status.idle": "2023-07-31T18:39:47.959898Z",
     "shell.execute_reply": "2023-07-31T18:39:47.958954Z"
    },
    "papermill": {
     "duration": 0.050214,
     "end_time": "2023-07-31T18:39:47.962359",
     "exception": false,
     "start_time": "2023-07-31T18:39:47.912145",
     "status": "completed"
    },
    "tags": []
   },
   "outputs": [
    {
     "data": {
      "text/html": [
       "<div>\n",
       "<style scoped>\n",
       "    .dataframe tbody tr th:only-of-type {\n",
       "        vertical-align: middle;\n",
       "    }\n",
       "\n",
       "    .dataframe tbody tr th {\n",
       "        vertical-align: top;\n",
       "    }\n",
       "\n",
       "    .dataframe thead th {\n",
       "        text-align: right;\n",
       "    }\n",
       "</style>\n",
       "<table border=\"1\" class=\"dataframe\">\n",
       "  <thead>\n",
       "    <tr style=\"text-align: right;\">\n",
       "      <th>SL</th>\n",
       "      <th>index</th>\n",
       "      <th>1</th>\n",
       "      <th>2</th>\n",
       "      <th>3</th>\n",
       "      <th>4</th>\n",
       "      <th>5</th>\n",
       "      <th>6</th>\n",
       "      <th>7</th>\n",
       "      <th>8</th>\n",
       "      <th>9</th>\n",
       "      <th>...</th>\n",
       "      <th>29</th>\n",
       "      <th>30</th>\n",
       "      <th>31</th>\n",
       "      <th>32</th>\n",
       "      <th>33</th>\n",
       "      <th>34</th>\n",
       "      <th>35</th>\n",
       "      <th>36</th>\n",
       "      <th>36</th>\n",
       "      <th>36</th>\n",
       "    </tr>\n",
       "  </thead>\n",
       "  <tbody>\n",
       "    <tr>\n",
       "      <th>0</th>\n",
       "      <td>State/UT</td>\n",
       "      <td>Andhra Pradesh</td>\n",
       "      <td>Arunachal Pradesh</td>\n",
       "      <td>Assam</td>\n",
       "      <td>Bihar</td>\n",
       "      <td>Chhattisgarh</td>\n",
       "      <td>Goa</td>\n",
       "      <td>Gujarat</td>\n",
       "      <td>Haryana</td>\n",
       "      <td>Himachal Pradesh</td>\n",
       "      <td>...</td>\n",
       "      <td>A&amp;N Islands</td>\n",
       "      <td>Chandigarh</td>\n",
       "      <td>D&amp;N Haveli and Daman &amp; Diu</td>\n",
       "      <td>Delhi</td>\n",
       "      <td>Jammu &amp; Kashmir</td>\n",
       "      <td>Ladakh</td>\n",
       "      <td>Lakshadweep</td>\n",
       "      <td>Puducherry</td>\n",
       "      <td>TOTAL UT(S)</td>\n",
       "      <td>TOTAL ALL INDIA</td>\n",
       "    </tr>\n",
       "    <tr>\n",
       "      <th>1</th>\n",
       "      <td>2019</td>\n",
       "      <td>1886</td>\n",
       "      <td>8</td>\n",
       "      <td>2231</td>\n",
       "      <td>1050</td>\n",
       "      <td>175</td>\n",
       "      <td>15</td>\n",
       "      <td>784</td>\n",
       "      <td>564</td>\n",
       "      <td>76</td>\n",
       "      <td>...</td>\n",
       "      <td>2</td>\n",
       "      <td>23</td>\n",
       "      <td>3</td>\n",
       "      <td>115</td>\n",
       "      <td>73</td>\n",
       "      <td>-</td>\n",
       "      <td>4</td>\n",
       "      <td>4</td>\n",
       "      <td>224</td>\n",
       "      <td>44735</td>\n",
       "    </tr>\n",
       "    <tr>\n",
       "      <th>2</th>\n",
       "      <td>2020</td>\n",
       "      <td>1899</td>\n",
       "      <td>30</td>\n",
       "      <td>3530</td>\n",
       "      <td>1512</td>\n",
       "      <td>297</td>\n",
       "      <td>40</td>\n",
       "      <td>1283</td>\n",
       "      <td>656</td>\n",
       "      <td>98</td>\n",
       "      <td>...</td>\n",
       "      <td>5</td>\n",
       "      <td>17</td>\n",
       "      <td>3</td>\n",
       "      <td>168</td>\n",
       "      <td>120</td>\n",
       "      <td>1</td>\n",
       "      <td>3</td>\n",
       "      <td>10</td>\n",
       "      <td>327</td>\n",
       "      <td>50035</td>\n",
       "    </tr>\n",
       "    <tr>\n",
       "      <th>3</th>\n",
       "      <td>2021</td>\n",
       "      <td>1875</td>\n",
       "      <td>47</td>\n",
       "      <td>4846</td>\n",
       "      <td>1413</td>\n",
       "      <td>352</td>\n",
       "      <td>36</td>\n",
       "      <td>1536</td>\n",
       "      <td>622</td>\n",
       "      <td>70</td>\n",
       "      <td>...</td>\n",
       "      <td>8</td>\n",
       "      <td>15</td>\n",
       "      <td>5</td>\n",
       "      <td>356</td>\n",
       "      <td>154</td>\n",
       "      <td>5</td>\n",
       "      <td>1</td>\n",
       "      <td>0</td>\n",
       "      <td>544</td>\n",
       "      <td>52974</td>\n",
       "    </tr>\n",
       "  </tbody>\n",
       "</table>\n",
       "<p>4 rows × 40 columns</p>\n",
       "</div>"
      ],
      "text/plain": [
       "SL     index               1                  2      3      4             5  \\\n",
       "0   State/UT  Andhra Pradesh  Arunachal Pradesh  Assam  Bihar  Chhattisgarh   \n",
       "1       2019            1886                  8   2231   1050           175   \n",
       "2       2020            1899                 30   3530   1512           297   \n",
       "3       2021            1875                 47   4846   1413           352   \n",
       "\n",
       "SL    6        7        8                 9  ...           29          30  \\\n",
       "0   Goa  Gujarat  Haryana  Himachal Pradesh  ...  A&N Islands  Chandigarh   \n",
       "1    15      784      564                76  ...            2          23   \n",
       "2    40     1283      656                98  ...            5          17   \n",
       "3    36     1536      622                70  ...            8          15   \n",
       "\n",
       "SL                          31     32               33      34           35  \\\n",
       "0   D&N Haveli and Daman & Diu  Delhi  Jammu & Kashmir  Ladakh  Lakshadweep   \n",
       "1                            3    115               73       -            4   \n",
       "2                            3    168              120       1            3   \n",
       "3                            5    356              154       5            1   \n",
       "\n",
       "SL          36           36               36  \n",
       "0   Puducherry  TOTAL UT(S)  TOTAL ALL INDIA  \n",
       "1            4          224            44735  \n",
       "2           10          327            50035  \n",
       "3            0          544            52974  \n",
       "\n",
       "[4 rows x 40 columns]"
      ]
     },
     "execution_count": 12,
     "metadata": {},
     "output_type": "execute_result"
    }
   ],
   "source": [
    "alt_df = df[['State/UT', 2019, 2020, 2021]].T.reset_index()\n",
    "alt_df.head()"
   ]
  },
  {
   "cell_type": "code",
   "execution_count": 13,
   "id": "0cf11d25",
   "metadata": {
    "execution": {
     "iopub.execute_input": "2023-07-31T18:39:47.985990Z",
     "iopub.status.busy": "2023-07-31T18:39:47.985507Z",
     "iopub.status.idle": "2023-07-31T18:39:48.050794Z",
     "shell.execute_reply": "2023-07-31T18:39:48.049200Z"
    },
    "papermill": {
     "duration": 0.081211,
     "end_time": "2023-07-31T18:39:48.054236",
     "exception": false,
     "start_time": "2023-07-31T18:39:47.973025",
     "status": "completed"
    },
    "tags": []
   },
   "outputs": [
    {
     "data": {
      "text/html": [
       "<div>\n",
       "<style scoped>\n",
       "    .dataframe tbody tr th:only-of-type {\n",
       "        vertical-align: middle;\n",
       "    }\n",
       "\n",
       "    .dataframe tbody tr th {\n",
       "        vertical-align: top;\n",
       "    }\n",
       "\n",
       "    .dataframe thead th {\n",
       "        text-align: right;\n",
       "    }\n",
       "</style>\n",
       "<table border=\"1\" class=\"dataframe\">\n",
       "  <thead>\n",
       "    <tr style=\"text-align: right;\">\n",
       "      <th>State/UT</th>\n",
       "      <th>Andhra Pradesh</th>\n",
       "      <th>Arunachal Pradesh</th>\n",
       "      <th>Assam</th>\n",
       "      <th>Bihar</th>\n",
       "      <th>Chhattisgarh</th>\n",
       "      <th>Goa</th>\n",
       "      <th>Gujarat</th>\n",
       "      <th>Haryana</th>\n",
       "      <th>Himachal Pradesh</th>\n",
       "      <th>Jharkhand</th>\n",
       "      <th>...</th>\n",
       "      <th>A&amp;N Islands</th>\n",
       "      <th>Chandigarh</th>\n",
       "      <th>D&amp;N Haveli and Daman &amp; Diu</th>\n",
       "      <th>Delhi</th>\n",
       "      <th>Jammu &amp; Kashmir</th>\n",
       "      <th>Ladakh</th>\n",
       "      <th>Lakshadweep</th>\n",
       "      <th>Puducherry</th>\n",
       "      <th>TOTAL UT(S)</th>\n",
       "      <th>TOTAL ALL INDIA</th>\n",
       "    </tr>\n",
       "  </thead>\n",
       "  <tbody>\n",
       "    <tr>\n",
       "      <th>2019</th>\n",
       "      <td>1886</td>\n",
       "      <td>8</td>\n",
       "      <td>2231</td>\n",
       "      <td>1050</td>\n",
       "      <td>175</td>\n",
       "      <td>15</td>\n",
       "      <td>784</td>\n",
       "      <td>564</td>\n",
       "      <td>76</td>\n",
       "      <td>1095</td>\n",
       "      <td>...</td>\n",
       "      <td>2</td>\n",
       "      <td>23</td>\n",
       "      <td>3</td>\n",
       "      <td>115</td>\n",
       "      <td>73</td>\n",
       "      <td>-</td>\n",
       "      <td>4</td>\n",
       "      <td>4</td>\n",
       "      <td>224</td>\n",
       "      <td>44735</td>\n",
       "    </tr>\n",
       "    <tr>\n",
       "      <th>2020</th>\n",
       "      <td>1899</td>\n",
       "      <td>30</td>\n",
       "      <td>3530</td>\n",
       "      <td>1512</td>\n",
       "      <td>297</td>\n",
       "      <td>40</td>\n",
       "      <td>1283</td>\n",
       "      <td>656</td>\n",
       "      <td>98</td>\n",
       "      <td>1204</td>\n",
       "      <td>...</td>\n",
       "      <td>5</td>\n",
       "      <td>17</td>\n",
       "      <td>3</td>\n",
       "      <td>168</td>\n",
       "      <td>120</td>\n",
       "      <td>1</td>\n",
       "      <td>3</td>\n",
       "      <td>10</td>\n",
       "      <td>327</td>\n",
       "      <td>50035</td>\n",
       "    </tr>\n",
       "    <tr>\n",
       "      <th>2021</th>\n",
       "      <td>1875</td>\n",
       "      <td>47</td>\n",
       "      <td>4846</td>\n",
       "      <td>1413</td>\n",
       "      <td>352</td>\n",
       "      <td>36</td>\n",
       "      <td>1536</td>\n",
       "      <td>622</td>\n",
       "      <td>70</td>\n",
       "      <td>953</td>\n",
       "      <td>...</td>\n",
       "      <td>8</td>\n",
       "      <td>15</td>\n",
       "      <td>5</td>\n",
       "      <td>356</td>\n",
       "      <td>154</td>\n",
       "      <td>5</td>\n",
       "      <td>1</td>\n",
       "      <td>0</td>\n",
       "      <td>544</td>\n",
       "      <td>52974</td>\n",
       "    </tr>\n",
       "  </tbody>\n",
       "</table>\n",
       "<p>3 rows × 39 columns</p>\n",
       "</div>"
      ],
      "text/plain": [
       "State/UT Andhra Pradesh Arunachal Pradesh Assam Bihar Chhattisgarh Goa  \\\n",
       "2019               1886                 8  2231  1050          175  15   \n",
       "2020               1899                30  3530  1512          297  40   \n",
       "2021               1875                47  4846  1413          352  36   \n",
       "\n",
       "State/UT Gujarat Haryana Himachal Pradesh Jharkhand  ... A&N Islands  \\\n",
       "2019         784     564               76      1095  ...           2   \n",
       "2020        1283     656               98      1204  ...           5   \n",
       "2021        1536     622               70       953  ...           8   \n",
       "\n",
       "State/UT Chandigarh D&N Haveli and Daman & Diu Delhi Jammu & Kashmir Ladakh  \\\n",
       "2019             23                          3   115              73      -   \n",
       "2020             17                          3   168             120      1   \n",
       "2021             15                          5   356             154      5   \n",
       "\n",
       "State/UT Lakshadweep Puducherry TOTAL UT(S) TOTAL ALL INDIA  \n",
       "2019               4          4         224           44735  \n",
       "2020               3         10         327           50035  \n",
       "2021               1          0         544           52974  \n",
       "\n",
       "[3 rows x 39 columns]"
      ]
     },
     "execution_count": 13,
     "metadata": {},
     "output_type": "execute_result"
    }
   ],
   "source": [
    "filename = '/kaggle/input/cyber-crime-in-india-from-2003/output2019_2020_2021.xlsx'\n",
    "sheet_name = 'CIIReport'\n",
    "alt_df = pd.read_excel(io=filename, sheet_name=sheet_name, index_col=[1])[[2019, 2020, 2021]].T\n",
    "alt_df.head()"
   ]
  }
 ],
 "metadata": {
  "kernelspec": {
   "display_name": "Python 3",
   "language": "python",
   "name": "python3"
  },
  "language_info": {
   "codemirror_mode": {
    "name": "ipython",
    "version": 3
   },
   "file_extension": ".py",
   "mimetype": "text/x-python",
   "name": "python",
   "nbconvert_exporter": "python",
   "pygments_lexer": "ipython3",
   "version": "3.10.12"
  },
  "papermill": {
   "default_parameters": {},
   "duration": 18.229174,
   "end_time": "2023-07-31T18:39:49.192817",
   "environment_variables": {},
   "exception": null,
   "input_path": "__notebook__.ipynb",
   "output_path": "__notebook__.ipynb",
   "parameters": {},
   "start_time": "2023-07-31T18:39:30.963643",
   "version": "2.4.0"
  }
 },
 "nbformat": 4,
 "nbformat_minor": 5
}
