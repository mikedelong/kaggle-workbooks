{
 "cells": [
  {
   "cell_type": "code",
   "execution_count": 1,
   "id": "f9dc11e1",
   "metadata": {
    "_cell_guid": "b1076dfc-b9ad-4769-8c92-a6c4dae69d19",
    "_uuid": "8f2839f25d086af736a60e9eeb907d3b93b6e0e5",
    "execution": {
     "iopub.execute_input": "2025-03-06T20:37:59.894387Z",
     "iopub.status.busy": "2025-03-06T20:37:59.894080Z",
     "iopub.status.idle": "2025-03-06T20:38:10.616639Z",
     "shell.execute_reply": "2025-03-06T20:38:10.615361Z"
    },
    "papermill": {
     "duration": 10.728942,
     "end_time": "2025-03-06T20:38:10.618404",
     "exception": false,
     "start_time": "2025-03-06T20:37:59.889462",
     "status": "completed"
    },
    "tags": []
   },
   "outputs": [
    {
     "name": "stderr",
     "output_type": "stream",
     "text": [
      "/usr/local/lib/python3.10/dist-packages/pandas/io/formats/format.py:1458: RuntimeWarning: invalid value encountered in greater\n",
      "  has_large_values = (abs_vals > 1e6).any()\n",
      "/usr/local/lib/python3.10/dist-packages/pandas/io/formats/format.py:1459: RuntimeWarning: invalid value encountered in less\n",
      "  has_small_values = ((abs_vals < 10 ** (-self.digits)) & (abs_vals > 0)).any()\n",
      "/usr/local/lib/python3.10/dist-packages/pandas/io/formats/format.py:1459: RuntimeWarning: invalid value encountered in greater\n",
      "  has_small_values = ((abs_vals < 10 ** (-self.digits)) & (abs_vals > 0)).any()\n",
      "/usr/local/lib/python3.10/dist-packages/pandas/io/formats/format.py:1458: RuntimeWarning: invalid value encountered in greater\n",
      "  has_large_values = (abs_vals > 1e6).any()\n",
      "/usr/local/lib/python3.10/dist-packages/pandas/io/formats/format.py:1459: RuntimeWarning: invalid value encountered in less\n",
      "  has_small_values = ((abs_vals < 10 ** (-self.digits)) & (abs_vals > 0)).any()\n",
      "/usr/local/lib/python3.10/dist-packages/pandas/io/formats/format.py:1459: RuntimeWarning: invalid value encountered in greater\n",
      "  has_small_values = ((abs_vals < 10 ** (-self.digits)) & (abs_vals > 0)).any()\n"
     ]
    },
    {
     "data": {
      "text/html": [
       "<div>\n",
       "<style scoped>\n",
       "    .dataframe tbody tr th:only-of-type {\n",
       "        vertical-align: middle;\n",
       "    }\n",
       "\n",
       "    .dataframe tbody tr th {\n",
       "        vertical-align: top;\n",
       "    }\n",
       "\n",
       "    .dataframe thead th {\n",
       "        text-align: right;\n",
       "    }\n",
       "</style>\n",
       "<table border=\"1\" class=\"dataframe\">\n",
       "  <thead>\n",
       "    <tr style=\"text-align: right;\">\n",
       "      <th></th>\n",
       "      <th>DR_NO</th>\n",
       "      <th>Date Rptd</th>\n",
       "      <th>DATE OCC</th>\n",
       "      <th>TIME OCC</th>\n",
       "      <th>AREA</th>\n",
       "      <th>AREA NAME</th>\n",
       "      <th>Rpt Dist No</th>\n",
       "      <th>Part 1-2</th>\n",
       "      <th>Crm Cd</th>\n",
       "      <th>Crm Cd Desc</th>\n",
       "      <th>...</th>\n",
       "      <th>Crm Cd 2</th>\n",
       "      <th>Crm Cd 3</th>\n",
       "      <th>Crm Cd 4</th>\n",
       "      <th>LOCATION</th>\n",
       "      <th>Cross Street</th>\n",
       "      <th>LAT</th>\n",
       "      <th>LON</th>\n",
       "      <th>Reported</th>\n",
       "      <th>Occurred</th>\n",
       "      <th>year_occurred</th>\n",
       "    </tr>\n",
       "  </thead>\n",
       "  <tbody>\n",
       "    <tr>\n",
       "      <th>0</th>\n",
       "      <td>190326475</td>\n",
       "      <td>03/01/2020 12:00:00 AM</td>\n",
       "      <td>03/01/2020 12:00:00 AM</td>\n",
       "      <td>2130</td>\n",
       "      <td>7</td>\n",
       "      <td>Wilshire</td>\n",
       "      <td>784</td>\n",
       "      <td>1</td>\n",
       "      <td>510</td>\n",
       "      <td>VEHICLE - STOLEN</td>\n",
       "      <td>...</td>\n",
       "      <td>998.0</td>\n",
       "      <td>NaN</td>\n",
       "      <td>NaN</td>\n",
       "      <td>1900 S  LONGWOOD                     AV</td>\n",
       "      <td>NaN</td>\n",
       "      <td>34.0375</td>\n",
       "      <td>-118.3506</td>\n",
       "      <td>2020-03-01</td>\n",
       "      <td>2020-03-01</td>\n",
       "      <td>2020</td>\n",
       "    </tr>\n",
       "    <tr>\n",
       "      <th>1</th>\n",
       "      <td>200106753</td>\n",
       "      <td>02/09/2020 12:00:00 AM</td>\n",
       "      <td>02/08/2020 12:00:00 AM</td>\n",
       "      <td>1800</td>\n",
       "      <td>1</td>\n",
       "      <td>Central</td>\n",
       "      <td>182</td>\n",
       "      <td>1</td>\n",
       "      <td>330</td>\n",
       "      <td>BURGLARY FROM VEHICLE</td>\n",
       "      <td>...</td>\n",
       "      <td>998.0</td>\n",
       "      <td>NaN</td>\n",
       "      <td>NaN</td>\n",
       "      <td>1000 S  FLOWER                       ST</td>\n",
       "      <td>NaN</td>\n",
       "      <td>34.0444</td>\n",
       "      <td>-118.2628</td>\n",
       "      <td>2020-02-09</td>\n",
       "      <td>2020-02-08</td>\n",
       "      <td>2020</td>\n",
       "    </tr>\n",
       "    <tr>\n",
       "      <th>2</th>\n",
       "      <td>200320258</td>\n",
       "      <td>11/11/2020 12:00:00 AM</td>\n",
       "      <td>11/04/2020 12:00:00 AM</td>\n",
       "      <td>1700</td>\n",
       "      <td>3</td>\n",
       "      <td>Southwest</td>\n",
       "      <td>356</td>\n",
       "      <td>1</td>\n",
       "      <td>480</td>\n",
       "      <td>BIKE - STOLEN</td>\n",
       "      <td>...</td>\n",
       "      <td>NaN</td>\n",
       "      <td>NaN</td>\n",
       "      <td>NaN</td>\n",
       "      <td>1400 W  37TH                         ST</td>\n",
       "      <td>NaN</td>\n",
       "      <td>34.0210</td>\n",
       "      <td>-118.3002</td>\n",
       "      <td>2020-11-11</td>\n",
       "      <td>2020-11-04</td>\n",
       "      <td>2020</td>\n",
       "    </tr>\n",
       "    <tr>\n",
       "      <th>3</th>\n",
       "      <td>200907217</td>\n",
       "      <td>05/10/2023 12:00:00 AM</td>\n",
       "      <td>03/10/2020 12:00:00 AM</td>\n",
       "      <td>2037</td>\n",
       "      <td>9</td>\n",
       "      <td>Van Nuys</td>\n",
       "      <td>964</td>\n",
       "      <td>1</td>\n",
       "      <td>343</td>\n",
       "      <td>SHOPLIFTING-GRAND THEFT ($950.01 &amp; OVER)</td>\n",
       "      <td>...</td>\n",
       "      <td>NaN</td>\n",
       "      <td>NaN</td>\n",
       "      <td>NaN</td>\n",
       "      <td>14000    RIVERSIDE                    DR</td>\n",
       "      <td>NaN</td>\n",
       "      <td>34.1576</td>\n",
       "      <td>-118.4387</td>\n",
       "      <td>2023-05-10</td>\n",
       "      <td>2020-03-10</td>\n",
       "      <td>2020</td>\n",
       "    </tr>\n",
       "    <tr>\n",
       "      <th>4</th>\n",
       "      <td>200412582</td>\n",
       "      <td>09/09/2020 12:00:00 AM</td>\n",
       "      <td>09/09/2020 12:00:00 AM</td>\n",
       "      <td>630</td>\n",
       "      <td>4</td>\n",
       "      <td>Hollenbeck</td>\n",
       "      <td>413</td>\n",
       "      <td>1</td>\n",
       "      <td>510</td>\n",
       "      <td>VEHICLE - STOLEN</td>\n",
       "      <td>...</td>\n",
       "      <td>NaN</td>\n",
       "      <td>NaN</td>\n",
       "      <td>NaN</td>\n",
       "      <td>200 E  AVENUE 28</td>\n",
       "      <td>NaN</td>\n",
       "      <td>34.0820</td>\n",
       "      <td>-118.2130</td>\n",
       "      <td>2020-09-09</td>\n",
       "      <td>2020-09-09</td>\n",
       "      <td>2020</td>\n",
       "    </tr>\n",
       "  </tbody>\n",
       "</table>\n",
       "<p>5 rows × 31 columns</p>\n",
       "</div>"
      ],
      "text/plain": [
       "       DR_NO               Date Rptd                DATE OCC  TIME OCC  AREA  \\\n",
       "0  190326475  03/01/2020 12:00:00 AM  03/01/2020 12:00:00 AM      2130     7   \n",
       "1  200106753  02/09/2020 12:00:00 AM  02/08/2020 12:00:00 AM      1800     1   \n",
       "2  200320258  11/11/2020 12:00:00 AM  11/04/2020 12:00:00 AM      1700     3   \n",
       "3  200907217  05/10/2023 12:00:00 AM  03/10/2020 12:00:00 AM      2037     9   \n",
       "4  200412582  09/09/2020 12:00:00 AM  09/09/2020 12:00:00 AM       630     4   \n",
       "\n",
       "    AREA NAME  Rpt Dist No  Part 1-2  Crm Cd  \\\n",
       "0    Wilshire          784         1     510   \n",
       "1     Central          182         1     330   \n",
       "2   Southwest          356         1     480   \n",
       "3    Van Nuys          964         1     343   \n",
       "4  Hollenbeck          413         1     510   \n",
       "\n",
       "                                Crm Cd Desc  ... Crm Cd 2  Crm Cd 3 Crm Cd 4  \\\n",
       "0                          VEHICLE - STOLEN  ...    998.0       NaN      NaN   \n",
       "1                     BURGLARY FROM VEHICLE  ...    998.0       NaN      NaN   \n",
       "2                             BIKE - STOLEN  ...      NaN       NaN      NaN   \n",
       "3  SHOPLIFTING-GRAND THEFT ($950.01 & OVER)  ...      NaN       NaN      NaN   \n",
       "4                          VEHICLE - STOLEN  ...      NaN       NaN      NaN   \n",
       "\n",
       "                                   LOCATION  Cross Street      LAT       LON  \\\n",
       "0   1900 S  LONGWOOD                     AV           NaN  34.0375 -118.3506   \n",
       "1   1000 S  FLOWER                       ST           NaN  34.0444 -118.2628   \n",
       "2   1400 W  37TH                         ST           NaN  34.0210 -118.3002   \n",
       "3  14000    RIVERSIDE                    DR           NaN  34.1576 -118.4387   \n",
       "4                          200 E  AVENUE 28           NaN  34.0820 -118.2130   \n",
       "\n",
       "    Reported   Occurred year_occurred  \n",
       "0 2020-03-01 2020-03-01          2020  \n",
       "1 2020-02-09 2020-02-08          2020  \n",
       "2 2020-11-11 2020-11-04          2020  \n",
       "3 2023-05-10 2020-03-10          2020  \n",
       "4 2020-09-09 2020-09-09          2020  \n",
       "\n",
       "[5 rows x 31 columns]"
      ]
     },
     "execution_count": 1,
     "metadata": {},
     "output_type": "execute_result"
    }
   ],
   "source": [
    "import pandas as pd\n",
    "\n",
    "DATA = '/kaggle/input/crime-data-from-2020-to-present/Crime_Data_from_2020_to_Present.csv'\n",
    "df = pd.read_csv(filepath_or_buffer=DATA, )\n",
    "df['Reported'] = pd.to_datetime(df['Date Rptd'].apply(func=lambda x: x.split()[0]))\n",
    "df['Occurred'] = pd.to_datetime(df['DATE OCC'].apply(func=lambda x: x.split()[0]))\n",
    "df['year_occurred'] = df['Occurred'].dt.year\n",
    "df.head()"
   ]
  },
  {
   "cell_type": "code",
   "execution_count": 2,
   "id": "6c83b1a2",
   "metadata": {
    "execution": {
     "iopub.execute_input": "2025-03-06T20:38:10.626288Z",
     "iopub.status.busy": "2025-03-06T20:38:10.626004Z",
     "iopub.status.idle": "2025-03-06T20:38:10.631274Z",
     "shell.execute_reply": "2025-03-06T20:38:10.630172Z"
    },
    "papermill": {
     "duration": 0.010611,
     "end_time": "2025-03-06T20:38:10.632706",
     "exception": false,
     "start_time": "2025-03-06T20:38:10.622095",
     "status": "completed"
    },
    "tags": []
   },
   "outputs": [
    {
     "data": {
      "text/plain": [
       "(1004847, 31)"
      ]
     },
     "execution_count": 2,
     "metadata": {},
     "output_type": "execute_result"
    }
   ],
   "source": [
    "df.shape"
   ]
  },
  {
   "cell_type": "code",
   "execution_count": 3,
   "id": "17edf9ee",
   "metadata": {
    "execution": {
     "iopub.execute_input": "2025-03-06T20:38:10.640622Z",
     "iopub.status.busy": "2025-03-06T20:38:10.640336Z",
     "iopub.status.idle": "2025-03-06T20:38:10.661013Z",
     "shell.execute_reply": "2025-03-06T20:38:10.660133Z"
    },
    "papermill": {
     "duration": 0.026277,
     "end_time": "2025-03-06T20:38:10.662504",
     "exception": false,
     "start_time": "2025-03-06T20:38:10.636227",
     "status": "completed"
    },
    "tags": []
   },
   "outputs": [
    {
     "data": {
      "text/html": [
       "<div>\n",
       "<style scoped>\n",
       "    .dataframe tbody tr th:only-of-type {\n",
       "        vertical-align: middle;\n",
       "    }\n",
       "\n",
       "    .dataframe tbody tr th {\n",
       "        vertical-align: top;\n",
       "    }\n",
       "\n",
       "    .dataframe thead th {\n",
       "        text-align: right;\n",
       "    }\n",
       "</style>\n",
       "<table border=\"1\" class=\"dataframe\">\n",
       "  <thead>\n",
       "    <tr style=\"text-align: right;\">\n",
       "      <th>year_occurred</th>\n",
       "      <th>2022</th>\n",
       "      <th>2023</th>\n",
       "      <th>2021</th>\n",
       "      <th>2020</th>\n",
       "      <th>2024</th>\n",
       "    </tr>\n",
       "  </thead>\n",
       "  <tbody>\n",
       "    <tr>\n",
       "      <th>count</th>\n",
       "      <td>235252</td>\n",
       "      <td>232353</td>\n",
       "      <td>209871</td>\n",
       "      <td>199846</td>\n",
       "      <td>127525</td>\n",
       "    </tr>\n",
       "  </tbody>\n",
       "</table>\n",
       "</div>"
      ],
      "text/plain": [
       "year_occurred    2022    2023    2021    2020    2024\n",
       "count          235252  232353  209871  199846  127525"
      ]
     },
     "execution_count": 3,
     "metadata": {},
     "output_type": "execute_result"
    }
   ],
   "source": [
    "df['year_occurred'].value_counts().to_frame().T"
   ]
  },
  {
   "cell_type": "code",
   "execution_count": 4,
   "id": "bca972aa",
   "metadata": {
    "execution": {
     "iopub.execute_input": "2025-03-06T20:38:10.670871Z",
     "iopub.status.busy": "2025-03-06T20:38:10.670558Z",
     "iopub.status.idle": "2025-03-06T20:38:10.714942Z",
     "shell.execute_reply": "2025-03-06T20:38:10.713873Z"
    },
    "papermill": {
     "duration": 0.050564,
     "end_time": "2025-03-06T20:38:10.716890",
     "exception": false,
     "start_time": "2025-03-06T20:38:10.666326",
     "status": "completed"
    },
    "tags": []
   },
   "outputs": [],
   "source": [
    "sample_df = df[(df['year_occurred'] == 2024) & (df['LAT'] != 0)].drop(columns=['year_occurred', 'Crm Cd 2', 'Crm Cd 3', 'Crm Cd 4', 'Cross Street', 'Weapon Used Cd', 'Weapon Desc'])"
   ]
  },
  {
   "cell_type": "code",
   "execution_count": 5,
   "id": "43203de4",
   "metadata": {
    "execution": {
     "iopub.execute_input": "2025-03-06T20:38:10.725367Z",
     "iopub.status.busy": "2025-03-06T20:38:10.725060Z",
     "iopub.status.idle": "2025-03-06T20:38:10.813203Z",
     "shell.execute_reply": "2025-03-06T20:38:10.812149Z"
    },
    "papermill": {
     "duration": 0.094044,
     "end_time": "2025-03-06T20:38:10.814758",
     "exception": false,
     "start_time": "2025-03-06T20:38:10.720714",
     "status": "completed"
    },
    "tags": []
   },
   "outputs": [
    {
     "data": {
      "text/plain": [
       "(97452, 24)"
      ]
     },
     "execution_count": 5,
     "metadata": {},
     "output_type": "execute_result"
    }
   ],
   "source": [
    "sample_df.dropna().shape"
   ]
  },
  {
   "cell_type": "markdown",
   "id": "72d1a4b0",
   "metadata": {
    "papermill": {
     "duration": 0.003465,
     "end_time": "2025-03-06T20:38:10.822196",
     "exception": false,
     "start_time": "2025-03-06T20:38:10.818731",
     "status": "completed"
    },
    "tags": []
   },
   "source": [
    "We have way too many datapoints to plot them all, even after we've reduced our focus to just one year and remove some broken records. So let's just plot a sample."
   ]
  },
  {
   "cell_type": "code",
   "execution_count": 6,
   "id": "8c04f2fe",
   "metadata": {
    "execution": {
     "iopub.execute_input": "2025-03-06T20:38:10.831017Z",
     "iopub.status.busy": "2025-03-06T20:38:10.830558Z",
     "iopub.status.idle": "2025-03-06T20:38:13.591208Z",
     "shell.execute_reply": "2025-03-06T20:38:13.590346Z"
    },
    "papermill": {
     "duration": 2.767012,
     "end_time": "2025-03-06T20:38:13.592936",
     "exception": false,
     "start_time": "2025-03-06T20:38:10.825924",
     "status": "completed"
    },
    "tags": []
   },
   "outputs": [
    {
     "data": {
      "text/html": [
       "<iframe\n",
       "    scrolling=\"no\"\n",
       "    width=\"100%\"\n",
       "    height=\"820\"\n",
       "    src=\"iframe_figures/figure_6.html\"\n",
       "    frameborder=\"0\"\n",
       "    allowfullscreen\n",
       "></iframe>\n"
      ]
     },
     "metadata": {},
     "output_type": "display_data"
    }
   ],
   "source": [
    "from plotly import colors\n",
    "from plotly import express\n",
    "from plotly import io\n",
    "\n",
    "N = 3000\n",
    "RANDOM_STATE = 2025\n",
    "\n",
    "io.renderers.default = 'iframe'\n",
    "express.scatter_mapbox(mapbox_style='open-street-map', height=800, zoom=9.25, data_frame=sample_df.sample(n=N, random_state=RANDOM_STATE),\n",
    "                       lat='LAT', lon='LON', color='AREA NAME', color_discrete_sequence=colors.sample_colorscale('HSV', 21))"
   ]
  },
  {
   "cell_type": "markdown",
   "id": "6cab0ea0",
   "metadata": {
    "papermill": {
     "duration": 0.003371,
     "end_time": "2025-03-06T20:38:13.600433",
     "exception": false,
     "start_time": "2025-03-06T20:38:13.597062",
     "status": "completed"
    },
    "tags": []
   },
   "source": [
    "We don't expect crime to be evenly distributed across our areas, but do we have an expectation regarding how it is distributed?"
   ]
  },
  {
   "cell_type": "code",
   "execution_count": 7,
   "id": "f678b2cd",
   "metadata": {
    "execution": {
     "iopub.execute_input": "2025-03-06T20:38:13.608589Z",
     "iopub.status.busy": "2025-03-06T20:38:13.608281Z",
     "iopub.status.idle": "2025-03-06T20:38:13.633219Z",
     "shell.execute_reply": "2025-03-06T20:38:13.632246Z"
    },
    "papermill": {
     "duration": 0.030831,
     "end_time": "2025-03-06T20:38:13.634744",
     "exception": false,
     "start_time": "2025-03-06T20:38:13.603913",
     "status": "completed"
    },
    "tags": []
   },
   "outputs": [
    {
     "data": {
      "text/html": [
       "<div>\n",
       "<style scoped>\n",
       "    .dataframe tbody tr th:only-of-type {\n",
       "        vertical-align: middle;\n",
       "    }\n",
       "\n",
       "    .dataframe tbody tr th {\n",
       "        vertical-align: top;\n",
       "    }\n",
       "\n",
       "    .dataframe thead th {\n",
       "        text-align: right;\n",
       "    }\n",
       "</style>\n",
       "<table border=\"1\" class=\"dataframe\">\n",
       "  <thead>\n",
       "    <tr style=\"text-align: right;\">\n",
       "      <th>AREA NAME</th>\n",
       "      <th>Central</th>\n",
       "      <th>Southwest</th>\n",
       "      <th>Pacific</th>\n",
       "      <th>N Hollywood</th>\n",
       "      <th>77th Street</th>\n",
       "      <th>Wilshire</th>\n",
       "      <th>Hollywood</th>\n",
       "      <th>Devonshire</th>\n",
       "      <th>Olympic</th>\n",
       "      <th>Van Nuys</th>\n",
       "      <th>Southeast</th>\n",
       "      <th>Rampart</th>\n",
       "      <th>Topanga</th>\n",
       "      <th>West LA</th>\n",
       "      <th>Newton</th>\n",
       "    </tr>\n",
       "  </thead>\n",
       "  <tbody>\n",
       "    <tr>\n",
       "      <th>proportion</th>\n",
       "      <td>0.080094</td>\n",
       "      <td>0.065109</td>\n",
       "      <td>0.063901</td>\n",
       "      <td>0.056836</td>\n",
       "      <td>0.053127</td>\n",
       "      <td>0.049402</td>\n",
       "      <td>0.048273</td>\n",
       "      <td>0.046109</td>\n",
       "      <td>0.045238</td>\n",
       "      <td>0.045144</td>\n",
       "      <td>0.043929</td>\n",
       "      <td>0.043913</td>\n",
       "      <td>0.043435</td>\n",
       "      <td>0.042423</td>\n",
       "      <td>0.042243</td>\n",
       "    </tr>\n",
       "  </tbody>\n",
       "</table>\n",
       "</div>"
      ],
      "text/plain": [
       "AREA NAME    Central  Southwest   Pacific  N Hollywood  77th Street  Wilshire  \\\n",
       "proportion  0.080094   0.065109  0.063901     0.056836     0.053127  0.049402   \n",
       "\n",
       "AREA NAME   Hollywood  Devonshire   Olympic  Van Nuys  Southeast   Rampart  \\\n",
       "proportion   0.048273    0.046109  0.045238  0.045144   0.043929  0.043913   \n",
       "\n",
       "AREA NAME    Topanga   West LA    Newton  \n",
       "proportion  0.043435  0.042423  0.042243  "
      ]
     },
     "execution_count": 7,
     "metadata": {},
     "output_type": "execute_result"
    }
   ],
   "source": [
    "sample_df['AREA NAME'].value_counts(normalize=True).to_frame().head(n=15).T"
   ]
  },
  {
   "cell_type": "markdown",
   "id": "301e5617",
   "metadata": {
    "papermill": {
     "duration": 0.003571,
     "end_time": "2025-03-06T20:38:13.642646",
     "exception": false,
     "start_time": "2025-03-06T20:38:13.639075",
     "status": "completed"
    },
    "tags": []
   },
   "source": [
    "Not surprisingly crime is not evenly distributed; most areas in our top 15 areas hover around 4 1/2 percent."
   ]
  },
  {
   "cell_type": "markdown",
   "id": "2c8fc419",
   "metadata": {
    "papermill": {
     "duration": 0.003382,
     "end_time": "2025-03-06T20:38:13.649731",
     "exception": false,
     "start_time": "2025-03-06T20:38:13.646349",
     "status": "completed"
    },
    "tags": []
   },
   "source": [
    "Let's look at the top crime codes."
   ]
  },
  {
   "cell_type": "code",
   "execution_count": 8,
   "id": "a9b7f318",
   "metadata": {
    "execution": {
     "iopub.execute_input": "2025-03-06T20:38:13.658397Z",
     "iopub.status.busy": "2025-03-06T20:38:13.658100Z",
     "iopub.status.idle": "2025-03-06T20:38:13.681427Z",
     "shell.execute_reply": "2025-03-06T20:38:13.680499Z"
    },
    "papermill": {
     "duration": 0.029518,
     "end_time": "2025-03-06T20:38:13.683029",
     "exception": false,
     "start_time": "2025-03-06T20:38:13.653511",
     "status": "completed"
    },
    "tags": []
   },
   "outputs": [
    {
     "data": {
      "text/html": [
       "<div>\n",
       "<style scoped>\n",
       "    .dataframe tbody tr th:only-of-type {\n",
       "        vertical-align: middle;\n",
       "    }\n",
       "\n",
       "    .dataframe tbody tr th {\n",
       "        vertical-align: top;\n",
       "    }\n",
       "\n",
       "    .dataframe thead th {\n",
       "        text-align: right;\n",
       "    }\n",
       "</style>\n",
       "<table border=\"1\" class=\"dataframe\">\n",
       "  <thead>\n",
       "    <tr style=\"text-align: right;\">\n",
       "      <th>Crm Cd Desc</th>\n",
       "      <th>VEHICLE - STOLEN</th>\n",
       "      <th>BURGLARY FROM VEHICLE</th>\n",
       "      <th>SHOPLIFTING - PETTY THEFT ($950 &amp; UNDER)</th>\n",
       "      <th>THEFT PLAIN - PETTY ($950 &amp; UNDER)</th>\n",
       "      <th>VANDALISM - FELONY ($400 &amp; OVER, ALL CHURCH VANDALISMS)</th>\n",
       "      <th>THEFT FROM MOTOR VEHICLE - PETTY ($950 &amp; UNDER)</th>\n",
       "      <th>THEFT OF IDENTITY</th>\n",
       "      <th>THEFT-GRAND ($950.01 &amp; OVER)EXCPT,GUNS,FOWL,LIVESTK,PROD</th>\n",
       "      <th>THEFT FROM MOTOR VEHICLE - GRAND ($950.01 AND OVER)</th>\n",
       "      <th>TRESPASSING</th>\n",
       "    </tr>\n",
       "  </thead>\n",
       "  <tbody>\n",
       "    <tr>\n",
       "      <th>proportion</th>\n",
       "      <td>0.168665</td>\n",
       "      <td>0.07466</td>\n",
       "      <td>0.070935</td>\n",
       "      <td>0.069139</td>\n",
       "      <td>0.062294</td>\n",
       "      <td>0.059659</td>\n",
       "      <td>0.049551</td>\n",
       "      <td>0.047042</td>\n",
       "      <td>0.044054</td>\n",
       "      <td>0.043733</td>\n",
       "    </tr>\n",
       "  </tbody>\n",
       "</table>\n",
       "</div>"
      ],
      "text/plain": [
       "Crm Cd Desc  VEHICLE - STOLEN  BURGLARY FROM VEHICLE  \\\n",
       "proportion           0.168665                0.07466   \n",
       "\n",
       "Crm Cd Desc  SHOPLIFTING - PETTY THEFT ($950 & UNDER)  \\\n",
       "proportion                                   0.070935   \n",
       "\n",
       "Crm Cd Desc  THEFT PLAIN - PETTY ($950 & UNDER)  \\\n",
       "proportion                             0.069139   \n",
       "\n",
       "Crm Cd Desc  VANDALISM - FELONY ($400 & OVER, ALL CHURCH VANDALISMS)  \\\n",
       "proportion                                            0.062294         \n",
       "\n",
       "Crm Cd Desc  THEFT FROM MOTOR VEHICLE - PETTY ($950 & UNDER)  \\\n",
       "proportion                                          0.059659   \n",
       "\n",
       "Crm Cd Desc  THEFT OF IDENTITY  \\\n",
       "proportion            0.049551   \n",
       "\n",
       "Crm Cd Desc  THEFT-GRAND ($950.01 & OVER)EXCPT,GUNS,FOWL,LIVESTK,PROD  \\\n",
       "proportion                                            0.047042          \n",
       "\n",
       "Crm Cd Desc  THEFT FROM MOTOR VEHICLE - GRAND ($950.01 AND OVER)  TRESPASSING  \n",
       "proportion                                            0.044054       0.043733  "
      ]
     },
     "execution_count": 8,
     "metadata": {},
     "output_type": "execute_result"
    }
   ],
   "source": [
    "sample_df['Crm Cd Desc'].value_counts(normalize=True).to_frame().head(n=10).T"
   ]
  },
  {
   "cell_type": "markdown",
   "id": "9c5c1f37",
   "metadata": {
    "papermill": {
     "duration": 0.003755,
     "end_time": "2025-03-06T20:38:13.691239",
     "exception": false,
     "start_time": "2025-03-06T20:38:13.687484",
     "status": "completed"
    },
    "tags": []
   },
   "source": [
    "Wow. A lot of our top crime codes are vehicle-related."
   ]
  }
 ],
 "metadata": {
  "kaggle": {
   "accelerator": "none",
   "dataSources": [
    {
     "datasetId": 6607559,
     "sourceId": 10668654,
     "sourceType": "datasetVersion"
    }
   ],
   "dockerImageVersionId": 30918,
   "isGpuEnabled": false,
   "isInternetEnabled": true,
   "language": "python",
   "sourceType": "notebook"
  },
  "kernelspec": {
   "display_name": "Python 3",
   "language": "python",
   "name": "python3"
  },
  "language_info": {
   "codemirror_mode": {
    "name": "ipython",
    "version": 3
   },
   "file_extension": ".py",
   "mimetype": "text/x-python",
   "name": "python",
   "nbconvert_exporter": "python",
   "pygments_lexer": "ipython3",
   "version": "3.10.12"
  },
  "papermill": {
   "default_parameters": {},
   "duration": 17.236436,
   "end_time": "2025-03-06T20:38:14.414811",
   "environment_variables": {},
   "exception": null,
   "input_path": "__notebook__.ipynb",
   "output_path": "__notebook__.ipynb",
   "parameters": {},
   "start_time": "2025-03-06T20:37:57.178375",
   "version": "2.6.0"
  }
 },
 "nbformat": 4,
 "nbformat_minor": 5
}
