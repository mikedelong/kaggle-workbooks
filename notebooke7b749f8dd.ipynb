{
 "cells": [
  {
   "cell_type": "code",
   "execution_count": 1,
   "id": "105d6937",
   "metadata": {
    "_cell_guid": "b1076dfc-b9ad-4769-8c92-a6c4dae69d19",
    "_uuid": "8f2839f25d086af736a60e9eeb907d3b93b6e0e5",
    "execution": {
     "iopub.execute_input": "2025-03-06T20:18:37.092030Z",
     "iopub.status.busy": "2025-03-06T20:18:37.091504Z",
     "iopub.status.idle": "2025-03-06T20:18:48.307903Z",
     "shell.execute_reply": "2025-03-06T20:18:48.306386Z"
    },
    "papermill": {
     "duration": 11.224027,
     "end_time": "2025-03-06T20:18:48.310870",
     "exception": false,
     "start_time": "2025-03-06T20:18:37.086843",
     "status": "completed"
    },
    "tags": []
   },
   "outputs": [
    {
     "name": "stderr",
     "output_type": "stream",
     "text": [
      "/usr/local/lib/python3.10/dist-packages/pandas/io/formats/format.py:1458: RuntimeWarning: invalid value encountered in greater\n",
      "  has_large_values = (abs_vals > 1e6).any()\n",
      "/usr/local/lib/python3.10/dist-packages/pandas/io/formats/format.py:1459: RuntimeWarning: invalid value encountered in less\n",
      "  has_small_values = ((abs_vals < 10 ** (-self.digits)) & (abs_vals > 0)).any()\n",
      "/usr/local/lib/python3.10/dist-packages/pandas/io/formats/format.py:1459: RuntimeWarning: invalid value encountered in greater\n",
      "  has_small_values = ((abs_vals < 10 ** (-self.digits)) & (abs_vals > 0)).any()\n",
      "/usr/local/lib/python3.10/dist-packages/pandas/io/formats/format.py:1458: RuntimeWarning: invalid value encountered in greater\n",
      "  has_large_values = (abs_vals > 1e6).any()\n",
      "/usr/local/lib/python3.10/dist-packages/pandas/io/formats/format.py:1459: RuntimeWarning: invalid value encountered in less\n",
      "  has_small_values = ((abs_vals < 10 ** (-self.digits)) & (abs_vals > 0)).any()\n",
      "/usr/local/lib/python3.10/dist-packages/pandas/io/formats/format.py:1459: RuntimeWarning: invalid value encountered in greater\n",
      "  has_small_values = ((abs_vals < 10 ** (-self.digits)) & (abs_vals > 0)).any()\n"
     ]
    },
    {
     "data": {
      "text/html": [
       "<div>\n",
       "<style scoped>\n",
       "    .dataframe tbody tr th:only-of-type {\n",
       "        vertical-align: middle;\n",
       "    }\n",
       "\n",
       "    .dataframe tbody tr th {\n",
       "        vertical-align: top;\n",
       "    }\n",
       "\n",
       "    .dataframe thead th {\n",
       "        text-align: right;\n",
       "    }\n",
       "</style>\n",
       "<table border=\"1\" class=\"dataframe\">\n",
       "  <thead>\n",
       "    <tr style=\"text-align: right;\">\n",
       "      <th></th>\n",
       "      <th>DR_NO</th>\n",
       "      <th>Date Rptd</th>\n",
       "      <th>DATE OCC</th>\n",
       "      <th>TIME OCC</th>\n",
       "      <th>AREA</th>\n",
       "      <th>AREA NAME</th>\n",
       "      <th>Rpt Dist No</th>\n",
       "      <th>Part 1-2</th>\n",
       "      <th>Crm Cd</th>\n",
       "      <th>Crm Cd Desc</th>\n",
       "      <th>...</th>\n",
       "      <th>Crm Cd 2</th>\n",
       "      <th>Crm Cd 3</th>\n",
       "      <th>Crm Cd 4</th>\n",
       "      <th>LOCATION</th>\n",
       "      <th>Cross Street</th>\n",
       "      <th>LAT</th>\n",
       "      <th>LON</th>\n",
       "      <th>Reported</th>\n",
       "      <th>Occurred</th>\n",
       "      <th>year_occurred</th>\n",
       "    </tr>\n",
       "  </thead>\n",
       "  <tbody>\n",
       "    <tr>\n",
       "      <th>0</th>\n",
       "      <td>190326475</td>\n",
       "      <td>03/01/2020 12:00:00 AM</td>\n",
       "      <td>03/01/2020 12:00:00 AM</td>\n",
       "      <td>2130</td>\n",
       "      <td>7</td>\n",
       "      <td>Wilshire</td>\n",
       "      <td>784</td>\n",
       "      <td>1</td>\n",
       "      <td>510</td>\n",
       "      <td>VEHICLE - STOLEN</td>\n",
       "      <td>...</td>\n",
       "      <td>998.0</td>\n",
       "      <td>NaN</td>\n",
       "      <td>NaN</td>\n",
       "      <td>1900 S  LONGWOOD                     AV</td>\n",
       "      <td>NaN</td>\n",
       "      <td>34.0375</td>\n",
       "      <td>-118.3506</td>\n",
       "      <td>2020-03-01</td>\n",
       "      <td>2020-03-01</td>\n",
       "      <td>2020</td>\n",
       "    </tr>\n",
       "    <tr>\n",
       "      <th>1</th>\n",
       "      <td>200106753</td>\n",
       "      <td>02/09/2020 12:00:00 AM</td>\n",
       "      <td>02/08/2020 12:00:00 AM</td>\n",
       "      <td>1800</td>\n",
       "      <td>1</td>\n",
       "      <td>Central</td>\n",
       "      <td>182</td>\n",
       "      <td>1</td>\n",
       "      <td>330</td>\n",
       "      <td>BURGLARY FROM VEHICLE</td>\n",
       "      <td>...</td>\n",
       "      <td>998.0</td>\n",
       "      <td>NaN</td>\n",
       "      <td>NaN</td>\n",
       "      <td>1000 S  FLOWER                       ST</td>\n",
       "      <td>NaN</td>\n",
       "      <td>34.0444</td>\n",
       "      <td>-118.2628</td>\n",
       "      <td>2020-02-09</td>\n",
       "      <td>2020-02-08</td>\n",
       "      <td>2020</td>\n",
       "    </tr>\n",
       "    <tr>\n",
       "      <th>2</th>\n",
       "      <td>200320258</td>\n",
       "      <td>11/11/2020 12:00:00 AM</td>\n",
       "      <td>11/04/2020 12:00:00 AM</td>\n",
       "      <td>1700</td>\n",
       "      <td>3</td>\n",
       "      <td>Southwest</td>\n",
       "      <td>356</td>\n",
       "      <td>1</td>\n",
       "      <td>480</td>\n",
       "      <td>BIKE - STOLEN</td>\n",
       "      <td>...</td>\n",
       "      <td>NaN</td>\n",
       "      <td>NaN</td>\n",
       "      <td>NaN</td>\n",
       "      <td>1400 W  37TH                         ST</td>\n",
       "      <td>NaN</td>\n",
       "      <td>34.0210</td>\n",
       "      <td>-118.3002</td>\n",
       "      <td>2020-11-11</td>\n",
       "      <td>2020-11-04</td>\n",
       "      <td>2020</td>\n",
       "    </tr>\n",
       "    <tr>\n",
       "      <th>3</th>\n",
       "      <td>200907217</td>\n",
       "      <td>05/10/2023 12:00:00 AM</td>\n",
       "      <td>03/10/2020 12:00:00 AM</td>\n",
       "      <td>2037</td>\n",
       "      <td>9</td>\n",
       "      <td>Van Nuys</td>\n",
       "      <td>964</td>\n",
       "      <td>1</td>\n",
       "      <td>343</td>\n",
       "      <td>SHOPLIFTING-GRAND THEFT ($950.01 &amp; OVER)</td>\n",
       "      <td>...</td>\n",
       "      <td>NaN</td>\n",
       "      <td>NaN</td>\n",
       "      <td>NaN</td>\n",
       "      <td>14000    RIVERSIDE                    DR</td>\n",
       "      <td>NaN</td>\n",
       "      <td>34.1576</td>\n",
       "      <td>-118.4387</td>\n",
       "      <td>2023-05-10</td>\n",
       "      <td>2020-03-10</td>\n",
       "      <td>2020</td>\n",
       "    </tr>\n",
       "    <tr>\n",
       "      <th>4</th>\n",
       "      <td>200412582</td>\n",
       "      <td>09/09/2020 12:00:00 AM</td>\n",
       "      <td>09/09/2020 12:00:00 AM</td>\n",
       "      <td>630</td>\n",
       "      <td>4</td>\n",
       "      <td>Hollenbeck</td>\n",
       "      <td>413</td>\n",
       "      <td>1</td>\n",
       "      <td>510</td>\n",
       "      <td>VEHICLE - STOLEN</td>\n",
       "      <td>...</td>\n",
       "      <td>NaN</td>\n",
       "      <td>NaN</td>\n",
       "      <td>NaN</td>\n",
       "      <td>200 E  AVENUE 28</td>\n",
       "      <td>NaN</td>\n",
       "      <td>34.0820</td>\n",
       "      <td>-118.2130</td>\n",
       "      <td>2020-09-09</td>\n",
       "      <td>2020-09-09</td>\n",
       "      <td>2020</td>\n",
       "    </tr>\n",
       "  </tbody>\n",
       "</table>\n",
       "<p>5 rows × 31 columns</p>\n",
       "</div>"
      ],
      "text/plain": [
       "       DR_NO               Date Rptd                DATE OCC  TIME OCC  AREA  \\\n",
       "0  190326475  03/01/2020 12:00:00 AM  03/01/2020 12:00:00 AM      2130     7   \n",
       "1  200106753  02/09/2020 12:00:00 AM  02/08/2020 12:00:00 AM      1800     1   \n",
       "2  200320258  11/11/2020 12:00:00 AM  11/04/2020 12:00:00 AM      1700     3   \n",
       "3  200907217  05/10/2023 12:00:00 AM  03/10/2020 12:00:00 AM      2037     9   \n",
       "4  200412582  09/09/2020 12:00:00 AM  09/09/2020 12:00:00 AM       630     4   \n",
       "\n",
       "    AREA NAME  Rpt Dist No  Part 1-2  Crm Cd  \\\n",
       "0    Wilshire          784         1     510   \n",
       "1     Central          182         1     330   \n",
       "2   Southwest          356         1     480   \n",
       "3    Van Nuys          964         1     343   \n",
       "4  Hollenbeck          413         1     510   \n",
       "\n",
       "                                Crm Cd Desc  ... Crm Cd 2  Crm Cd 3 Crm Cd 4  \\\n",
       "0                          VEHICLE - STOLEN  ...    998.0       NaN      NaN   \n",
       "1                     BURGLARY FROM VEHICLE  ...    998.0       NaN      NaN   \n",
       "2                             BIKE - STOLEN  ...      NaN       NaN      NaN   \n",
       "3  SHOPLIFTING-GRAND THEFT ($950.01 & OVER)  ...      NaN       NaN      NaN   \n",
       "4                          VEHICLE - STOLEN  ...      NaN       NaN      NaN   \n",
       "\n",
       "                                   LOCATION  Cross Street      LAT       LON  \\\n",
       "0   1900 S  LONGWOOD                     AV           NaN  34.0375 -118.3506   \n",
       "1   1000 S  FLOWER                       ST           NaN  34.0444 -118.2628   \n",
       "2   1400 W  37TH                         ST           NaN  34.0210 -118.3002   \n",
       "3  14000    RIVERSIDE                    DR           NaN  34.1576 -118.4387   \n",
       "4                          200 E  AVENUE 28           NaN  34.0820 -118.2130   \n",
       "\n",
       "    Reported   Occurred year_occurred  \n",
       "0 2020-03-01 2020-03-01          2020  \n",
       "1 2020-02-09 2020-02-08          2020  \n",
       "2 2020-11-11 2020-11-04          2020  \n",
       "3 2023-05-10 2020-03-10          2020  \n",
       "4 2020-09-09 2020-09-09          2020  \n",
       "\n",
       "[5 rows x 31 columns]"
      ]
     },
     "execution_count": 1,
     "metadata": {},
     "output_type": "execute_result"
    }
   ],
   "source": [
    "import pandas as pd\n",
    "\n",
    "DATA = '/kaggle/input/crime-data-from-2020-to-present/Crime_Data_from_2020_to_Present.csv'\n",
    "df = pd.read_csv(filepath_or_buffer=DATA, )\n",
    "df['Reported'] = pd.to_datetime(df['Date Rptd'].apply(func=lambda x: x.split()[0]))\n",
    "df['Occurred'] = pd.to_datetime(df['DATE OCC'].apply(func=lambda x: x.split()[0]))\n",
    "df['year_occurred'] = df['Occurred'].dt.year\n",
    "df.head()"
   ]
  },
  {
   "cell_type": "code",
   "execution_count": 2,
   "id": "6fa2102b",
   "metadata": {
    "execution": {
     "iopub.execute_input": "2025-03-06T20:18:48.318895Z",
     "iopub.status.busy": "2025-03-06T20:18:48.318527Z",
     "iopub.status.idle": "2025-03-06T20:18:48.325040Z",
     "shell.execute_reply": "2025-03-06T20:18:48.323776Z"
    },
    "papermill": {
     "duration": 0.012508,
     "end_time": "2025-03-06T20:18:48.326920",
     "exception": false,
     "start_time": "2025-03-06T20:18:48.314412",
     "status": "completed"
    },
    "tags": []
   },
   "outputs": [
    {
     "data": {
      "text/plain": [
       "(1004847, 31)"
      ]
     },
     "execution_count": 2,
     "metadata": {},
     "output_type": "execute_result"
    }
   ],
   "source": [
    "df.shape"
   ]
  },
  {
   "cell_type": "code",
   "execution_count": 3,
   "id": "711f0f92",
   "metadata": {
    "execution": {
     "iopub.execute_input": "2025-03-06T20:18:48.334238Z",
     "iopub.status.busy": "2025-03-06T20:18:48.333867Z",
     "iopub.status.idle": "2025-03-06T20:18:48.357496Z",
     "shell.execute_reply": "2025-03-06T20:18:48.356292Z"
    },
    "papermill": {
     "duration": 0.029567,
     "end_time": "2025-03-06T20:18:48.359616",
     "exception": false,
     "start_time": "2025-03-06T20:18:48.330049",
     "status": "completed"
    },
    "tags": []
   },
   "outputs": [
    {
     "data": {
      "text/html": [
       "<div>\n",
       "<style scoped>\n",
       "    .dataframe tbody tr th:only-of-type {\n",
       "        vertical-align: middle;\n",
       "    }\n",
       "\n",
       "    .dataframe tbody tr th {\n",
       "        vertical-align: top;\n",
       "    }\n",
       "\n",
       "    .dataframe thead th {\n",
       "        text-align: right;\n",
       "    }\n",
       "</style>\n",
       "<table border=\"1\" class=\"dataframe\">\n",
       "  <thead>\n",
       "    <tr style=\"text-align: right;\">\n",
       "      <th>year_occurred</th>\n",
       "      <th>2022</th>\n",
       "      <th>2023</th>\n",
       "      <th>2021</th>\n",
       "      <th>2020</th>\n",
       "      <th>2024</th>\n",
       "    </tr>\n",
       "  </thead>\n",
       "  <tbody>\n",
       "    <tr>\n",
       "      <th>count</th>\n",
       "      <td>235252</td>\n",
       "      <td>232353</td>\n",
       "      <td>209871</td>\n",
       "      <td>199846</td>\n",
       "      <td>127525</td>\n",
       "    </tr>\n",
       "  </tbody>\n",
       "</table>\n",
       "</div>"
      ],
      "text/plain": [
       "year_occurred    2022    2023    2021    2020    2024\n",
       "count          235252  232353  209871  199846  127525"
      ]
     },
     "execution_count": 3,
     "metadata": {},
     "output_type": "execute_result"
    }
   ],
   "source": [
    "df['year_occurred'].value_counts().to_frame().T"
   ]
  },
  {
   "cell_type": "code",
   "execution_count": 4,
   "id": "e942508a",
   "metadata": {
    "execution": {
     "iopub.execute_input": "2025-03-06T20:18:48.367418Z",
     "iopub.status.busy": "2025-03-06T20:18:48.366978Z",
     "iopub.status.idle": "2025-03-06T20:18:48.427476Z",
     "shell.execute_reply": "2025-03-06T20:18:48.426216Z"
    },
    "papermill": {
     "duration": 0.067058,
     "end_time": "2025-03-06T20:18:48.429866",
     "exception": false,
     "start_time": "2025-03-06T20:18:48.362808",
     "status": "completed"
    },
    "tags": []
   },
   "outputs": [],
   "source": [
    "sample_df = df[(df['year_occurred'] == 2024) & (df['LAT'] != 0)].drop(columns=['year_occurred', 'Crm Cd 2', 'Crm Cd 3', 'Crm Cd 4', 'Cross Street', 'Weapon Used Cd', 'Weapon Desc'])"
   ]
  },
  {
   "cell_type": "code",
   "execution_count": 5,
   "id": "6bb35012",
   "metadata": {
    "execution": {
     "iopub.execute_input": "2025-03-06T20:18:48.437825Z",
     "iopub.status.busy": "2025-03-06T20:18:48.437413Z",
     "iopub.status.idle": "2025-03-06T20:18:48.529604Z",
     "shell.execute_reply": "2025-03-06T20:18:48.528497Z"
    },
    "papermill": {
     "duration": 0.098393,
     "end_time": "2025-03-06T20:18:48.531602",
     "exception": false,
     "start_time": "2025-03-06T20:18:48.433209",
     "status": "completed"
    },
    "tags": []
   },
   "outputs": [
    {
     "data": {
      "text/plain": [
       "(97452, 24)"
      ]
     },
     "execution_count": 5,
     "metadata": {},
     "output_type": "execute_result"
    }
   ],
   "source": [
    "sample_df.dropna().shape"
   ]
  },
  {
   "cell_type": "code",
   "execution_count": 6,
   "id": "e7e1fb6f",
   "metadata": {
    "execution": {
     "iopub.execute_input": "2025-03-06T20:18:48.539592Z",
     "iopub.status.busy": "2025-03-06T20:18:48.539174Z",
     "iopub.status.idle": "2025-03-06T20:18:51.795206Z",
     "shell.execute_reply": "2025-03-06T20:18:51.794069Z"
    },
    "papermill": {
     "duration": 3.26203,
     "end_time": "2025-03-06T20:18:51.797017",
     "exception": false,
     "start_time": "2025-03-06T20:18:48.534987",
     "status": "completed"
    },
    "tags": []
   },
   "outputs": [
    {
     "data": {
      "text/html": [
       "<iframe\n",
       "    scrolling=\"no\"\n",
       "    width=\"100%\"\n",
       "    height=\"820\"\n",
       "    src=\"iframe_figures/figure_6.html\"\n",
       "    frameborder=\"0\"\n",
       "    allowfullscreen\n",
       "></iframe>\n"
      ]
     },
     "metadata": {},
     "output_type": "display_data"
    }
   ],
   "source": [
    "from plotly import express\n",
    "from plotly import io\n",
    "\n",
    "N = 3000\n",
    "RANDOM_STATE = 2025\n",
    "\n",
    "io.renderers.default = 'iframe'\n",
    "express.scatter_mapbox(mapbox_style='open-street-map', height=800, zoom=9, data_frame=sample_df.sample(n=N, random_state=RANDOM_STATE),\n",
    "                       lat='LAT', lon='LON', color='AREA')"
   ]
  }
 ],
 "metadata": {
  "kaggle": {
   "accelerator": "none",
   "dataSources": [
    {
     "datasetId": 6607559,
     "sourceId": 10668654,
     "sourceType": "datasetVersion"
    }
   ],
   "dockerImageVersionId": 30918,
   "isGpuEnabled": false,
   "isInternetEnabled": true,
   "language": "python",
   "sourceType": "notebook"
  },
  "kernelspec": {
   "display_name": "Python 3",
   "language": "python",
   "name": "python3"
  },
  "language_info": {
   "codemirror_mode": {
    "name": "ipython",
    "version": 3
   },
   "file_extension": ".py",
   "mimetype": "text/x-python",
   "name": "python",
   "nbconvert_exporter": "python",
   "pygments_lexer": "ipython3",
   "version": "3.10.12"
  },
  "papermill": {
   "default_parameters": {},
   "duration": 18.685588,
   "end_time": "2025-03-06T20:18:52.823043",
   "environment_variables": {},
   "exception": null,
   "input_path": "__notebook__.ipynb",
   "output_path": "__notebook__.ipynb",
   "parameters": {},
   "start_time": "2025-03-06T20:18:34.137455",
   "version": "2.6.0"
  }
 },
 "nbformat": 4,
 "nbformat_minor": 5
}
