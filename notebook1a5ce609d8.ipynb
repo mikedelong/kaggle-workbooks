{
 "cells": [
  {
   "cell_type": "markdown",
   "id": "90f66ac5",
   "metadata": {
    "papermill": {
     "duration": 0.004424,
     "end_time": "2024-12-14T16:30:23.111029",
     "exception": false,
     "start_time": "2024-12-14T16:30:23.106605",
     "status": "completed"
    },
    "tags": []
   },
   "source": [
    "First let's load our data and do a little feature engineering. Some of our quantities are in object form, so let's find their float equivalents."
   ]
  },
  {
   "cell_type": "code",
   "execution_count": 1,
   "id": "359966fd",
   "metadata": {
    "_cell_guid": "b1076dfc-b9ad-4769-8c92-a6c4dae69d19",
    "_uuid": "8f2839f25d086af736a60e9eeb907d3b93b6e0e5",
    "execution": {
     "iopub.execute_input": "2024-12-14T16:30:23.120502Z",
     "iopub.status.busy": "2024-12-14T16:30:23.120092Z",
     "iopub.status.idle": "2024-12-14T16:30:24.125202Z",
     "shell.execute_reply": "2024-12-14T16:30:24.123846Z"
    },
    "papermill": {
     "duration": 1.01323,
     "end_time": "2024-12-14T16:30:24.128149",
     "exception": false,
     "start_time": "2024-12-14T16:30:23.114919",
     "status": "completed"
    },
    "tags": []
   },
   "outputs": [
    {
     "data": {
      "text/html": [
       "<div>\n",
       "<style scoped>\n",
       "    .dataframe tbody tr th:only-of-type {\n",
       "        vertical-align: middle;\n",
       "    }\n",
       "\n",
       "    .dataframe tbody tr th {\n",
       "        vertical-align: top;\n",
       "    }\n",
       "\n",
       "    .dataframe thead th {\n",
       "        text-align: right;\n",
       "    }\n",
       "</style>\n",
       "<table border=\"1\" class=\"dataframe\">\n",
       "  <thead>\n",
       "    <tr style=\"text-align: right;\">\n",
       "      <th></th>\n",
       "      <th>Date</th>\n",
       "      <th>Price</th>\n",
       "      <th>Open</th>\n",
       "      <th>High</th>\n",
       "      <th>Low</th>\n",
       "      <th>Vol.</th>\n",
       "      <th>Change %</th>\n",
       "      <th>volume</th>\n",
       "      <th>change (pct)</th>\n",
       "    </tr>\n",
       "  </thead>\n",
       "  <tbody>\n",
       "    <tr>\n",
       "      <th>0</th>\n",
       "      <td>2024-12-12</td>\n",
       "      <td>136.91</td>\n",
       "      <td>137.06</td>\n",
       "      <td>137.53</td>\n",
       "      <td>135.81</td>\n",
       "      <td>67.31M</td>\n",
       "      <td>-1.72%</td>\n",
       "      <td>67310000.0</td>\n",
       "      <td>-1.72</td>\n",
       "    </tr>\n",
       "    <tr>\n",
       "      <th>1</th>\n",
       "      <td>2024-12-11</td>\n",
       "      <td>139.31</td>\n",
       "      <td>137.36</td>\n",
       "      <td>140.17</td>\n",
       "      <td>135.21</td>\n",
       "      <td>184.91M</td>\n",
       "      <td>3.14%</td>\n",
       "      <td>184910000.0</td>\n",
       "      <td>3.14</td>\n",
       "    </tr>\n",
       "    <tr>\n",
       "      <th>2</th>\n",
       "      <td>2024-12-10</td>\n",
       "      <td>135.07</td>\n",
       "      <td>139.01</td>\n",
       "      <td>141.82</td>\n",
       "      <td>133.79</td>\n",
       "      <td>210.02M</td>\n",
       "      <td>-2.69%</td>\n",
       "      <td>210020000.0</td>\n",
       "      <td>-2.69</td>\n",
       "    </tr>\n",
       "    <tr>\n",
       "      <th>3</th>\n",
       "      <td>2024-12-09</td>\n",
       "      <td>138.81</td>\n",
       "      <td>138.97</td>\n",
       "      <td>139.95</td>\n",
       "      <td>137.13</td>\n",
       "      <td>189.31M</td>\n",
       "      <td>-2.55%</td>\n",
       "      <td>189310000.0</td>\n",
       "      <td>-2.55</td>\n",
       "    </tr>\n",
       "    <tr>\n",
       "      <th>4</th>\n",
       "      <td>2024-12-06</td>\n",
       "      <td>142.44</td>\n",
       "      <td>144.60</td>\n",
       "      <td>145.70</td>\n",
       "      <td>141.31</td>\n",
       "      <td>188.51M</td>\n",
       "      <td>-1.81%</td>\n",
       "      <td>188510000.0</td>\n",
       "      <td>-1.81</td>\n",
       "    </tr>\n",
       "  </tbody>\n",
       "</table>\n",
       "</div>"
      ],
      "text/plain": [
       "        Date   Price    Open    High     Low     Vol. Change %       volume  \\\n",
       "0 2024-12-12  136.91  137.06  137.53  135.81   67.31M   -1.72%   67310000.0   \n",
       "1 2024-12-11  139.31  137.36  140.17  135.21  184.91M    3.14%  184910000.0   \n",
       "2 2024-12-10  135.07  139.01  141.82  133.79  210.02M   -2.69%  210020000.0   \n",
       "3 2024-12-09  138.81  138.97  139.95  137.13  189.31M   -2.55%  189310000.0   \n",
       "4 2024-12-06  142.44  144.60  145.70  141.31  188.51M   -1.81%  188510000.0   \n",
       "\n",
       "   change (pct)  \n",
       "0         -1.72  \n",
       "1          3.14  \n",
       "2         -2.69  \n",
       "3         -2.55  \n",
       "4         -1.81  "
      ]
     },
     "execution_count": 1,
     "metadata": {},
     "output_type": "execute_result"
    }
   ],
   "source": [
    "import pandas as pd\n",
    "\n",
    "NVDA = '/kaggle/input/nvidia-stock-price-history2024/NVIDIA Stock Price History.csv'\n",
    "\n",
    "df = pd.read_csv(filepath_or_buffer=NVDA, parse_dates=['Date'])\n",
    "df['volume'] = df['Vol.'].apply(func=lambda x: 1e6 * float(x.replace('M', '')))\n",
    "df['change (pct)'] = df['Change %'].apply(func=lambda x: float(x.replace('%', '')))\n",
    "df.head()"
   ]
  },
  {
   "cell_type": "markdown",
   "id": "374ecb06",
   "metadata": {
    "papermill": {
     "duration": 0.003714,
     "end_time": "2024-12-14T16:30:24.135926",
     "exception": false,
     "start_time": "2024-12-14T16:30:24.132212",
     "status": "completed"
    },
    "tags": []
   },
   "source": [
    "We almost always look at the price and volume correlations, so let's do that."
   ]
  },
  {
   "cell_type": "code",
   "execution_count": 2,
   "id": "5e082a72",
   "metadata": {
    "execution": {
     "iopub.execute_input": "2024-12-14T16:30:24.145609Z",
     "iopub.status.busy": "2024-12-14T16:30:24.145224Z",
     "iopub.status.idle": "2024-12-14T16:30:24.165987Z",
     "shell.execute_reply": "2024-12-14T16:30:24.164878Z"
    },
    "papermill": {
     "duration": 0.028242,
     "end_time": "2024-12-14T16:30:24.168161",
     "exception": false,
     "start_time": "2024-12-14T16:30:24.139919",
     "status": "completed"
    },
    "tags": []
   },
   "outputs": [
    {
     "data": {
      "text/html": [
       "<div>\n",
       "<style scoped>\n",
       "    .dataframe tbody tr th:only-of-type {\n",
       "        vertical-align: middle;\n",
       "    }\n",
       "\n",
       "    .dataframe tbody tr th {\n",
       "        vertical-align: top;\n",
       "    }\n",
       "\n",
       "    .dataframe thead th {\n",
       "        text-align: right;\n",
       "    }\n",
       "</style>\n",
       "<table border=\"1\" class=\"dataframe\">\n",
       "  <thead>\n",
       "    <tr style=\"text-align: right;\">\n",
       "      <th></th>\n",
       "      <th>Price</th>\n",
       "      <th>Open</th>\n",
       "      <th>High</th>\n",
       "      <th>Low</th>\n",
       "      <th>volume</th>\n",
       "    </tr>\n",
       "  </thead>\n",
       "  <tbody>\n",
       "    <tr>\n",
       "      <th>Price</th>\n",
       "      <td>1.000000</td>\n",
       "      <td>0.816376</td>\n",
       "      <td>0.897553</td>\n",
       "      <td>0.918594</td>\n",
       "      <td>0.260582</td>\n",
       "    </tr>\n",
       "    <tr>\n",
       "      <th>Open</th>\n",
       "      <td>0.816376</td>\n",
       "      <td>1.000000</td>\n",
       "      <td>0.950579</td>\n",
       "      <td>0.877230</td>\n",
       "      <td>0.491047</td>\n",
       "    </tr>\n",
       "    <tr>\n",
       "      <th>High</th>\n",
       "      <td>0.897553</td>\n",
       "      <td>0.950579</td>\n",
       "      <td>1.000000</td>\n",
       "      <td>0.860287</td>\n",
       "      <td>0.516624</td>\n",
       "    </tr>\n",
       "    <tr>\n",
       "      <th>Low</th>\n",
       "      <td>0.918594</td>\n",
       "      <td>0.877230</td>\n",
       "      <td>0.860287</td>\n",
       "      <td>1.000000</td>\n",
       "      <td>0.115987</td>\n",
       "    </tr>\n",
       "    <tr>\n",
       "      <th>volume</th>\n",
       "      <td>0.260582</td>\n",
       "      <td>0.491047</td>\n",
       "      <td>0.516624</td>\n",
       "      <td>0.115987</td>\n",
       "      <td>1.000000</td>\n",
       "    </tr>\n",
       "  </tbody>\n",
       "</table>\n",
       "</div>"
      ],
      "text/plain": [
       "           Price      Open      High       Low    volume\n",
       "Price   1.000000  0.816376  0.897553  0.918594  0.260582\n",
       "Open    0.816376  1.000000  0.950579  0.877230  0.491047\n",
       "High    0.897553  0.950579  1.000000  0.860287  0.516624\n",
       "Low     0.918594  0.877230  0.860287  1.000000  0.115987\n",
       "volume  0.260582  0.491047  0.516624  0.115987  1.000000"
      ]
     },
     "execution_count": 2,
     "metadata": {},
     "output_type": "execute_result"
    }
   ],
   "source": [
    "df[['Price', 'Open', 'High', 'Low', 'volume']].corr()"
   ]
  },
  {
   "cell_type": "markdown",
   "id": "9b7e7e2a",
   "metadata": {
    "papermill": {
     "duration": 0.00385,
     "end_time": "2024-12-14T16:30:24.176240",
     "exception": false,
     "start_time": "2024-12-14T16:30:24.172390",
     "status": "completed"
    },
    "tags": []
   },
   "source": [
    "The fact that our interprice correlations are so low tells us right away that we don't have a lot of data, as over long periods of time our interprice correlations tend toward 1.0. How many rows of data do we have?"
   ]
  },
  {
   "cell_type": "code",
   "execution_count": 3,
   "id": "408c72be",
   "metadata": {
    "execution": {
     "iopub.execute_input": "2024-12-14T16:30:24.187677Z",
     "iopub.status.busy": "2024-12-14T16:30:24.186759Z",
     "iopub.status.idle": "2024-12-14T16:30:24.193536Z",
     "shell.execute_reply": "2024-12-14T16:30:24.192483Z"
    },
    "papermill": {
     "duration": 0.015428,
     "end_time": "2024-12-14T16:30:24.195741",
     "exception": false,
     "start_time": "2024-12-14T16:30:24.180313",
     "status": "completed"
    },
    "tags": []
   },
   "outputs": [
    {
     "data": {
      "text/plain": [
       "22"
      ]
     },
     "execution_count": 3,
     "metadata": {},
     "output_type": "execute_result"
    }
   ],
   "source": [
    "len(df)"
   ]
  },
  {
   "cell_type": "markdown",
   "id": "fc58aa5e",
   "metadata": {
    "papermill": {
     "duration": 0.00386,
     "end_time": "2024-12-14T16:30:24.203860",
     "exception": false,
     "start_time": "2024-12-14T16:30:24.200000",
     "status": "completed"
    },
    "tags": []
   },
   "source": [
    "Ah. We have about a month's data. Let's look at the series."
   ]
  },
  {
   "cell_type": "code",
   "execution_count": 4,
   "id": "76f19dfe",
   "metadata": {
    "execution": {
     "iopub.execute_input": "2024-12-14T16:30:24.214263Z",
     "iopub.status.busy": "2024-12-14T16:30:24.213311Z",
     "iopub.status.idle": "2024-12-14T16:30:26.388221Z",
     "shell.execute_reply": "2024-12-14T16:30:26.387082Z"
    },
    "papermill": {
     "duration": 2.182631,
     "end_time": "2024-12-14T16:30:26.390581",
     "exception": false,
     "start_time": "2024-12-14T16:30:24.207950",
     "status": "completed"
    },
    "tags": []
   },
   "outputs": [
    {
     "data": {
      "text/plain": [
       "<Axes: xlabel='Date', ylabel='Price'>"
      ]
     },
     "execution_count": 4,
     "metadata": {},
     "output_type": "execute_result"
    },
    {
     "data": {
      "image/png": "[encoded data removed]",
      "text/plain": [
       "<Figure size 1000x500 with 1 Axes>"
      ]
     },
     "metadata": {},
     "output_type": "display_data"
    }
   ],
   "source": [
    "import matplotlib.pyplot as plt\n",
    "from seaborn import scatterplot\n",
    "\n",
    "FIGSIZE = (10, 5)\n",
    "plt.figure(figsize=FIGSIZE)\n",
    "scatterplot(data=df, x='Date', y='Price')"
   ]
  },
  {
   "cell_type": "markdown",
   "id": "040cb961",
   "metadata": {
    "papermill": {
     "duration": 0.004419,
     "end_time": "2024-12-14T16:30:26.399804",
     "exception": false,
     "start_time": "2024-12-14T16:30:26.395385",
     "status": "completed"
    },
    "tags": []
   },
   "source": [
    "That data looks almost random. Let's look at the mean and variance."
   ]
  },
  {
   "cell_type": "code",
   "execution_count": 5,
   "id": "d2f59a8b",
   "metadata": {
    "execution": {
     "iopub.execute_input": "2024-12-14T16:30:26.411447Z",
     "iopub.status.busy": "2024-12-14T16:30:26.410746Z",
     "iopub.status.idle": "2024-12-14T16:30:26.419279Z",
     "shell.execute_reply": "2024-12-14T16:30:26.417965Z"
    },
    "papermill": {
     "duration": 0.01712,
     "end_time": "2024-12-14T16:30:26.421500",
     "exception": false,
     "start_time": "2024-12-14T16:30:26.404380",
     "status": "completed"
    },
    "tags": []
   },
   "outputs": [
    {
     "data": {
      "text/plain": [
       "(141.50590909090909, 4.2855334269197725)"
      ]
     },
     "execution_count": 5,
     "metadata": {},
     "output_type": "execute_result"
    }
   ],
   "source": [
    "df['Price'].mean(), df['Price'].std()"
   ]
  },
  {
   "cell_type": "code",
   "execution_count": 6,
   "id": "f4fac6ab",
   "metadata": {
    "execution": {
     "iopub.execute_input": "2024-12-14T16:30:26.432627Z",
     "iopub.status.busy": "2024-12-14T16:30:26.432220Z",
     "iopub.status.idle": "2024-12-14T16:30:26.443729Z",
     "shell.execute_reply": "2024-12-14T16:30:26.442637Z"
    },
    "papermill": {
     "duration": 0.020014,
     "end_time": "2024-12-14T16:30:26.446244",
     "exception": false,
     "start_time": "2024-12-14T16:30:26.426230",
     "status": "completed"
    },
    "tags": []
   },
   "outputs": [
    {
     "data": {
      "text/plain": [
       "Power_divergenceResult(statistic=2.725552129207579, pvalue=0.9999993715633971)"
      ]
     },
     "execution_count": 6,
     "metadata": {},
     "output_type": "execute_result"
    }
   ],
   "source": [
    "from scipy.stats import chisquare\n",
    "\n",
    "chisquare(df['Price'].values)"
   ]
  },
  {
   "cell_type": "markdown",
   "id": "2d100ac5",
   "metadata": {
    "papermill": {
     "duration": 0.004491,
     "end_time": "2024-12-14T16:30:26.455703",
     "exception": false,
     "start_time": "2024-12-14T16:30:26.451212",
     "status": "completed"
    },
    "tags": []
   },
   "source": [
    "Wow. The chi-square test says our prices look random."
   ]
  },
  {
   "cell_type": "markdown",
   "id": "d5b08c0f",
   "metadata": {
    "papermill": {
     "duration": 0.005029,
     "end_time": "2024-12-14T16:30:26.465516",
     "exception": false,
     "start_time": "2024-12-14T16:30:26.460487",
     "status": "completed"
    },
    "tags": []
   },
   "source": [
    "It looks like NVDA traded net downward over the period of interest. Over the long term we expect daily changes to be random too. What do they look like in our little dataset?"
   ]
  },
  {
   "cell_type": "code",
   "execution_count": 7,
   "id": "a416e664",
   "metadata": {
    "execution": {
     "iopub.execute_input": "2024-12-14T16:30:26.476983Z",
     "iopub.status.busy": "2024-12-14T16:30:26.476488Z",
     "iopub.status.idle": "2024-12-14T16:30:26.798607Z",
     "shell.execute_reply": "2024-12-14T16:30:26.797426Z"
    },
    "papermill": {
     "duration": 0.330677,
     "end_time": "2024-12-14T16:30:26.801084",
     "exception": false,
     "start_time": "2024-12-14T16:30:26.470407",
     "status": "completed"
    },
    "tags": []
   },
   "outputs": [
    {
     "data": {
      "text/plain": [
       "<Axes: xlabel='Date', ylabel='change (pct)'>"
      ]
     },
     "execution_count": 7,
     "metadata": {},
     "output_type": "execute_result"
    },
    {
     "data": {
      "image/png": "[encoded data removed]",
      "text/plain": [
       "<Figure size 1000x500 with 1 Axes>"
      ]
     },
     "metadata": {},
     "output_type": "display_data"
    }
   ],
   "source": [
    "plt.figure(figsize=FIGSIZE)\n",
    "scatterplot(data=df, x='Date', y='change (pct)')"
   ]
  },
  {
   "cell_type": "markdown",
   "id": "5eb61e2a",
   "metadata": {
    "papermill": {
     "duration": 0.004902,
     "end_time": "2024-12-14T16:30:26.811324",
     "exception": false,
     "start_time": "2024-12-14T16:30:26.806422",
     "status": "completed"
    },
    "tags": []
   },
   "source": [
    "Yes that looks pretty random."
   ]
  },
  {
   "cell_type": "code",
   "execution_count": 8,
   "id": "e5dfeb78",
   "metadata": {
    "execution": {
     "iopub.execute_input": "2024-12-14T16:30:26.823435Z",
     "iopub.status.busy": "2024-12-14T16:30:26.823021Z",
     "iopub.status.idle": "2024-12-14T16:30:26.830834Z",
     "shell.execute_reply": "2024-12-14T16:30:26.829756Z"
    },
    "papermill": {
     "duration": 0.01645,
     "end_time": "2024-12-14T16:30:26.833002",
     "exception": false,
     "start_time": "2024-12-14T16:30:26.816552",
     "status": "completed"
    },
    "tags": []
   },
   "outputs": [
    {
     "data": {
      "text/plain": [
       "(-0.24227272727272728, 2.387776275350256)"
      ]
     },
     "execution_count": 8,
     "metadata": {},
     "output_type": "execute_result"
    }
   ],
   "source": [
    "df['change (pct)'].mean(), df['change (pct)'].std()"
   ]
  },
  {
   "cell_type": "code",
   "execution_count": 9,
   "id": "85ecc7e7",
   "metadata": {
    "execution": {
     "iopub.execute_input": "2024-12-14T16:30:26.845414Z",
     "iopub.status.busy": "2024-12-14T16:30:26.845027Z",
     "iopub.status.idle": "2024-12-14T16:30:26.852232Z",
     "shell.execute_reply": "2024-12-14T16:30:26.851156Z"
    },
    "papermill": {
     "duration": 0.015908,
     "end_time": "2024-12-14T16:30:26.854417",
     "exception": false,
     "start_time": "2024-12-14T16:30:26.838509",
     "status": "completed"
    },
    "tags": []
   },
   "outputs": [
    {
     "data": {
      "text/plain": [
       "Power_divergenceResult(statistic=-494.1991932457786, pvalue=1.0)"
      ]
     },
     "execution_count": 9,
     "metadata": {},
     "output_type": "execute_result"
    }
   ],
   "source": [
    "chisquare(f_obs=df['change (pct)'])"
   ]
  },
  {
   "cell_type": "markdown",
   "id": "2474d87c",
   "metadata": {
    "papermill": {
     "duration": 0.005205,
     "end_time": "2024-12-14T16:30:26.865149",
     "exception": false,
     "start_time": "2024-12-14T16:30:26.859944",
     "status": "completed"
    },
    "tags": []
   },
   "source": [
    "Are the daily changes more random than the prices they're based on? Who can say with only 22 obvervations."
   ]
  }
 ],
 "metadata": {
  "kaggle": {
   "accelerator": "none",
   "dataSources": [
    {
     "datasetId": 6290314,
     "sourceId": 10182755,
     "sourceType": "datasetVersion"
    }
   ],
   "dockerImageVersionId": 30804,
   "isGpuEnabled": false,
   "isInternetEnabled": true,
   "language": "python",
   "sourceType": "notebook"
  },
  "kernelspec": {
   "display_name": "Python 3",
   "language": "python",
   "name": "python3"
  },
  "language_info": {
   "codemirror_mode": {
    "name": "ipython",
    "version": 3
   },
   "file_extension": ".py",
   "mimetype": "text/x-python",
   "name": "python",
   "nbconvert_exporter": "python",
   "pygments_lexer": "ipython3",
   "version": "3.10.14"
  },
  "papermill": {
   "default_parameters": {},
   "duration": 7.245185,
   "end_time": "2024-12-14T16:30:27.493762",
   "environment_variables": {},
   "exception": null,
   "input_path": "__notebook__.ipynb",
   "output_path": "__notebook__.ipynb",
   "parameters": {},
   "start_time": "2024-12-14T16:30:20.248577",
   "version": "2.6.0"
  }
 },
 "nbformat": 4,
 "nbformat_minor": 5
}
