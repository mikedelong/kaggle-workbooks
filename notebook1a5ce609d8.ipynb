{
 "cells": [
  {
   "cell_type": "markdown",
   "id": "ec432d3c",
   "metadata": {
    "papermill": {
     "duration": 0.002947,
     "end_time": "2024-12-14T16:06:05.508553",
     "exception": false,
     "start_time": "2024-12-14T16:06:05.505606",
     "status": "completed"
    },
    "tags": []
   },
   "source": [
    "First let's load our data and do a little feature engineering. Some of our quantities are in object form, so let's find their float equivalents."
   ]
  },
  {
   "cell_type": "code",
   "execution_count": 1,
   "id": "051c423b",
   "metadata": {
    "_cell_guid": "b1076dfc-b9ad-4769-8c92-a6c4dae69d19",
    "_uuid": "8f2839f25d086af736a60e9eeb907d3b93b6e0e5",
    "execution": {
     "iopub.execute_input": "2024-12-14T16:06:05.515467Z",
     "iopub.status.busy": "2024-12-14T16:06:05.515017Z",
     "iopub.status.idle": "2024-12-14T16:06:06.578777Z",
     "shell.execute_reply": "2024-12-14T16:06:06.577319Z"
    },
    "papermill": {
     "duration": 1.07023,
     "end_time": "2024-12-14T16:06:06.581365",
     "exception": false,
     "start_time": "2024-12-14T16:06:05.511135",
     "status": "completed"
    },
    "tags": []
   },
   "outputs": [
    {
     "data": {
      "text/html": [
       "<div>\n",
       "<style scoped>\n",
       "    .dataframe tbody tr th:only-of-type {\n",
       "        vertical-align: middle;\n",
       "    }\n",
       "\n",
       "    .dataframe tbody tr th {\n",
       "        vertical-align: top;\n",
       "    }\n",
       "\n",
       "    .dataframe thead th {\n",
       "        text-align: right;\n",
       "    }\n",
       "</style>\n",
       "<table border=\"1\" class=\"dataframe\">\n",
       "  <thead>\n",
       "    <tr style=\"text-align: right;\">\n",
       "      <th></th>\n",
       "      <th>Date</th>\n",
       "      <th>Price</th>\n",
       "      <th>Open</th>\n",
       "      <th>High</th>\n",
       "      <th>Low</th>\n",
       "      <th>Vol.</th>\n",
       "      <th>Change %</th>\n",
       "      <th>year</th>\n",
       "      <th>volume</th>\n",
       "      <th>change (pct)</th>\n",
       "    </tr>\n",
       "  </thead>\n",
       "  <tbody>\n",
       "    <tr>\n",
       "      <th>0</th>\n",
       "      <td>2024-12-12</td>\n",
       "      <td>136.91</td>\n",
       "      <td>137.06</td>\n",
       "      <td>137.53</td>\n",
       "      <td>135.81</td>\n",
       "      <td>67.31M</td>\n",
       "      <td>-1.72%</td>\n",
       "      <td>2024</td>\n",
       "      <td>67310000.0</td>\n",
       "      <td>-1.72</td>\n",
       "    </tr>\n",
       "    <tr>\n",
       "      <th>1</th>\n",
       "      <td>2024-12-11</td>\n",
       "      <td>139.31</td>\n",
       "      <td>137.36</td>\n",
       "      <td>140.17</td>\n",
       "      <td>135.21</td>\n",
       "      <td>184.91M</td>\n",
       "      <td>3.14%</td>\n",
       "      <td>2024</td>\n",
       "      <td>184910000.0</td>\n",
       "      <td>3.14</td>\n",
       "    </tr>\n",
       "    <tr>\n",
       "      <th>2</th>\n",
       "      <td>2024-12-10</td>\n",
       "      <td>135.07</td>\n",
       "      <td>139.01</td>\n",
       "      <td>141.82</td>\n",
       "      <td>133.79</td>\n",
       "      <td>210.02M</td>\n",
       "      <td>-2.69%</td>\n",
       "      <td>2024</td>\n",
       "      <td>210020000.0</td>\n",
       "      <td>-2.69</td>\n",
       "    </tr>\n",
       "    <tr>\n",
       "      <th>3</th>\n",
       "      <td>2024-12-09</td>\n",
       "      <td>138.81</td>\n",
       "      <td>138.97</td>\n",
       "      <td>139.95</td>\n",
       "      <td>137.13</td>\n",
       "      <td>189.31M</td>\n",
       "      <td>-2.55%</td>\n",
       "      <td>2024</td>\n",
       "      <td>189310000.0</td>\n",
       "      <td>-2.55</td>\n",
       "    </tr>\n",
       "    <tr>\n",
       "      <th>4</th>\n",
       "      <td>2024-12-06</td>\n",
       "      <td>142.44</td>\n",
       "      <td>144.60</td>\n",
       "      <td>145.70</td>\n",
       "      <td>141.31</td>\n",
       "      <td>188.51M</td>\n",
       "      <td>-1.81%</td>\n",
       "      <td>2024</td>\n",
       "      <td>188510000.0</td>\n",
       "      <td>-1.81</td>\n",
       "    </tr>\n",
       "  </tbody>\n",
       "</table>\n",
       "</div>"
      ],
      "text/plain": [
       "        Date   Price    Open    High     Low     Vol. Change %  year  \\\n",
       "0 2024-12-12  136.91  137.06  137.53  135.81   67.31M   -1.72%  2024   \n",
       "1 2024-12-11  139.31  137.36  140.17  135.21  184.91M    3.14%  2024   \n",
       "2 2024-12-10  135.07  139.01  141.82  133.79  210.02M   -2.69%  2024   \n",
       "3 2024-12-09  138.81  138.97  139.95  137.13  189.31M   -2.55%  2024   \n",
       "4 2024-12-06  142.44  144.60  145.70  141.31  188.51M   -1.81%  2024   \n",
       "\n",
       "        volume  change (pct)  \n",
       "0   67310000.0         -1.72  \n",
       "1  184910000.0          3.14  \n",
       "2  210020000.0         -2.69  \n",
       "3  189310000.0         -2.55  \n",
       "4  188510000.0         -1.81  "
      ]
     },
     "execution_count": 1,
     "metadata": {},
     "output_type": "execute_result"
    }
   ],
   "source": [
    "import pandas as pd\n",
    "\n",
    "NVDA = '/kaggle/input/nvidia-stock-price-history2024/NVIDIA Stock Price History.csv'\n",
    "\n",
    "df = pd.read_csv(filepath_or_buffer=NVDA, parse_dates=['Date'])\n",
    "df['year'] = df['Date'].dt.year\n",
    "df['volume'] = df['Vol.'].apply(func=lambda x: 1e6 * float(x.replace('M', '')))\n",
    "df['change (pct)'] = df['Change %'].apply(func=lambda x: float(x.replace('%', '')))\n",
    "df.head()"
   ]
  },
  {
   "cell_type": "markdown",
   "id": "f08e52e5",
   "metadata": {
    "papermill": {
     "duration": 0.002399,
     "end_time": "2024-12-14T16:06:06.586588",
     "exception": false,
     "start_time": "2024-12-14T16:06:06.584189",
     "status": "completed"
    },
    "tags": []
   },
   "source": [
    "We almost always look at the price and volume correlations, so let's do that."
   ]
  },
  {
   "cell_type": "code",
   "execution_count": 2,
   "id": "6697528f",
   "metadata": {
    "execution": {
     "iopub.execute_input": "2024-12-14T16:06:06.593282Z",
     "iopub.status.busy": "2024-12-14T16:06:06.592895Z",
     "iopub.status.idle": "2024-12-14T16:06:06.613574Z",
     "shell.execute_reply": "2024-12-14T16:06:06.612487Z"
    },
    "papermill": {
     "duration": 0.026756,
     "end_time": "2024-12-14T16:06:06.615840",
     "exception": false,
     "start_time": "2024-12-14T16:06:06.589084",
     "status": "completed"
    },
    "tags": []
   },
   "outputs": [
    {
     "data": {
      "text/html": [
       "<div>\n",
       "<style scoped>\n",
       "    .dataframe tbody tr th:only-of-type {\n",
       "        vertical-align: middle;\n",
       "    }\n",
       "\n",
       "    .dataframe tbody tr th {\n",
       "        vertical-align: top;\n",
       "    }\n",
       "\n",
       "    .dataframe thead th {\n",
       "        text-align: right;\n",
       "    }\n",
       "</style>\n",
       "<table border=\"1\" class=\"dataframe\">\n",
       "  <thead>\n",
       "    <tr style=\"text-align: right;\">\n",
       "      <th></th>\n",
       "      <th>Price</th>\n",
       "      <th>Open</th>\n",
       "      <th>High</th>\n",
       "      <th>Low</th>\n",
       "      <th>volume</th>\n",
       "    </tr>\n",
       "  </thead>\n",
       "  <tbody>\n",
       "    <tr>\n",
       "      <th>Price</th>\n",
       "      <td>1.000000</td>\n",
       "      <td>0.816376</td>\n",
       "      <td>0.897553</td>\n",
       "      <td>0.918594</td>\n",
       "      <td>0.260582</td>\n",
       "    </tr>\n",
       "    <tr>\n",
       "      <th>Open</th>\n",
       "      <td>0.816376</td>\n",
       "      <td>1.000000</td>\n",
       "      <td>0.950579</td>\n",
       "      <td>0.877230</td>\n",
       "      <td>0.491047</td>\n",
       "    </tr>\n",
       "    <tr>\n",
       "      <th>High</th>\n",
       "      <td>0.897553</td>\n",
       "      <td>0.950579</td>\n",
       "      <td>1.000000</td>\n",
       "      <td>0.860287</td>\n",
       "      <td>0.516624</td>\n",
       "    </tr>\n",
       "    <tr>\n",
       "      <th>Low</th>\n",
       "      <td>0.918594</td>\n",
       "      <td>0.877230</td>\n",
       "      <td>0.860287</td>\n",
       "      <td>1.000000</td>\n",
       "      <td>0.115987</td>\n",
       "    </tr>\n",
       "    <tr>\n",
       "      <th>volume</th>\n",
       "      <td>0.260582</td>\n",
       "      <td>0.491047</td>\n",
       "      <td>0.516624</td>\n",
       "      <td>0.115987</td>\n",
       "      <td>1.000000</td>\n",
       "    </tr>\n",
       "  </tbody>\n",
       "</table>\n",
       "</div>"
      ],
      "text/plain": [
       "           Price      Open      High       Low    volume\n",
       "Price   1.000000  0.816376  0.897553  0.918594  0.260582\n",
       "Open    0.816376  1.000000  0.950579  0.877230  0.491047\n",
       "High    0.897553  0.950579  1.000000  0.860287  0.516624\n",
       "Low     0.918594  0.877230  0.860287  1.000000  0.115987\n",
       "volume  0.260582  0.491047  0.516624  0.115987  1.000000"
      ]
     },
     "execution_count": 2,
     "metadata": {},
     "output_type": "execute_result"
    }
   ],
   "source": [
    "df[['Price', 'Open', 'High', 'Low', 'volume']].corr()"
   ]
  },
  {
   "cell_type": "markdown",
   "id": "207201d0",
   "metadata": {
    "papermill": {
     "duration": 0.002599,
     "end_time": "2024-12-14T16:06:06.621387",
     "exception": false,
     "start_time": "2024-12-14T16:06:06.618788",
     "status": "completed"
    },
    "tags": []
   },
   "source": [
    "The fact that our interprice correlations are so low tells us right away that we don't have a lot of data, as over long periods of time our interprice correlations tend toward 1.0. How many rows of data do we have?"
   ]
  },
  {
   "cell_type": "code",
   "execution_count": 3,
   "id": "4e913c8f",
   "metadata": {
    "execution": {
     "iopub.execute_input": "2024-12-14T16:06:06.628655Z",
     "iopub.status.busy": "2024-12-14T16:06:06.628230Z",
     "iopub.status.idle": "2024-12-14T16:06:06.635054Z",
     "shell.execute_reply": "2024-12-14T16:06:06.633992Z"
    },
    "papermill": {
     "duration": 0.012906,
     "end_time": "2024-12-14T16:06:06.637214",
     "exception": false,
     "start_time": "2024-12-14T16:06:06.624308",
     "status": "completed"
    },
    "tags": []
   },
   "outputs": [
    {
     "data": {
      "text/plain": [
       "22"
      ]
     },
     "execution_count": 3,
     "metadata": {},
     "output_type": "execute_result"
    }
   ],
   "source": [
    "len(df)"
   ]
  },
  {
   "cell_type": "markdown",
   "id": "62ba72a3",
   "metadata": {
    "papermill": {
     "duration": 0.00275,
     "end_time": "2024-12-14T16:06:06.642938",
     "exception": false,
     "start_time": "2024-12-14T16:06:06.640188",
     "status": "completed"
    },
    "tags": []
   },
   "source": [
    "Ah. We have about a month's data. Let's look at the series."
   ]
  },
  {
   "cell_type": "code",
   "execution_count": 4,
   "id": "c9d221c6",
   "metadata": {
    "execution": {
     "iopub.execute_input": "2024-12-14T16:06:06.650553Z",
     "iopub.status.busy": "2024-12-14T16:06:06.650124Z",
     "iopub.status.idle": "2024-12-14T16:06:08.927835Z",
     "shell.execute_reply": "2024-12-14T16:06:08.926453Z"
    },
    "papermill": {
     "duration": 2.284511,
     "end_time": "2024-12-14T16:06:08.930348",
     "exception": false,
     "start_time": "2024-12-14T16:06:06.645837",
     "status": "completed"
    },
    "tags": []
   },
   "outputs": [
    {
     "data": {
      "text/plain": [
       "<Axes: xlabel='Date', ylabel='Price'>"
      ]
     },
     "execution_count": 4,
     "metadata": {},
     "output_type": "execute_result"
    },
    {
     "data": {
      "image/png": "[encoded data removed]",
      "text/plain": [
       "<Figure size 1000x500 with 1 Axes>"
      ]
     },
     "metadata": {},
     "output_type": "display_data"
    }
   ],
   "source": [
    "import matplotlib.pyplot as plt\n",
    "from seaborn import scatterplot\n",
    "\n",
    "FIGSIZE = (10, 5)\n",
    "plt.figure(figsize=FIGSIZE)\n",
    "scatterplot(data=df, x='Date', y='Price')"
   ]
  }
 ],
 "metadata": {
  "kaggle": {
   "accelerator": "none",
   "dataSources": [
    {
     "datasetId": 6290314,
     "sourceId": 10182755,
     "sourceType": "datasetVersion"
    }
   ],
   "dockerImageVersionId": 30804,
   "isGpuEnabled": false,
   "isInternetEnabled": true,
   "language": "python",
   "sourceType": "notebook"
  },
  "kernelspec": {
   "display_name": "Python 3",
   "language": "python",
   "name": "python3"
  },
  "language_info": {
   "codemirror_mode": {
    "name": "ipython",
    "version": 3
   },
   "file_extension": ".py",
   "mimetype": "text/x-python",
   "name": "python",
   "nbconvert_exporter": "python",
   "pygments_lexer": "ipython3",
   "version": "3.10.14"
  },
  "papermill": {
   "default_parameters": {},
   "duration": 7.455336,
   "end_time": "2024-12-14T16:06:09.556240",
   "environment_variables": {},
   "exception": null,
   "input_path": "__notebook__.ipynb",
   "output_path": "__notebook__.ipynb",
   "parameters": {},
   "start_time": "2024-12-14T16:06:02.100904",
   "version": "2.6.0"
  }
 },
 "nbformat": 4,
 "nbformat_minor": 5
}
