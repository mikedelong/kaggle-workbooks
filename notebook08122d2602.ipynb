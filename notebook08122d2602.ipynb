{
 "cells": [
  {
   "cell_type": "code",
   "execution_count": 1,
   "id": "8b4de7d4",
   "metadata": {
    "_cell_guid": "b1076dfc-b9ad-4769-8c92-a6c4dae69d19",
    "_uuid": "8f2839f25d086af736a60e9eeb907d3b93b6e0e5",
    "execution": {
     "iopub.execute_input": "2025-05-28T19:09:30.310368Z",
     "iopub.status.busy": "2025-05-28T19:09:30.310145Z",
     "iopub.status.idle": "2025-05-28T19:09:30.440282Z",
     "shell.execute_reply": "2025-05-28T19:09:30.439422Z"
    },
    "papermill": {
     "duration": 0.134389,
     "end_time": "2025-05-28T19:09:30.441655",
     "exception": false,
     "start_time": "2025-05-28T19:09:30.307266",
     "status": "completed"
    },
    "tags": []
   },
   "outputs": [
    {
     "name": "stdout",
     "output_type": "stream",
     "text": [
      "0Normal  1Doubtful  2Mild  3Moderate  4Severe\r\n"
     ]
    }
   ],
   "source": [
    "!ls '/kaggle/input/digital-knee-x-ray-images/Digital Knee X-ray Images/Digital Knee X-ray Images/Knee X-ray Images/MedicalExpert-I/MedicalExpert-I/'"
   ]
  },
  {
   "cell_type": "code",
   "execution_count": 2,
   "id": "63734221",
   "metadata": {
    "execution": {
     "iopub.execute_input": "2025-05-28T19:09:30.445551Z",
     "iopub.status.busy": "2025-05-28T19:09:30.445319Z",
     "iopub.status.idle": "2025-05-28T19:09:31.766304Z",
     "shell.execute_reply": "2025-05-28T19:09:31.765723Z"
    },
    "papermill": {
     "duration": 1.32406,
     "end_time": "2025-05-28T19:09:31.767361",
     "exception": false,
     "start_time": "2025-05-28T19:09:30.443301",
     "status": "completed"
    },
    "tags": []
   },
   "outputs": [
    {
     "data": {
      "text/html": [
       "<div>\n",
       "<style scoped>\n",
       "    .dataframe tbody tr th:only-of-type {\n",
       "        vertical-align: middle;\n",
       "    }\n",
       "\n",
       "    .dataframe tbody tr th {\n",
       "        vertical-align: top;\n",
       "    }\n",
       "\n",
       "    .dataframe thead th {\n",
       "        text-align: right;\n",
       "    }\n",
       "</style>\n",
       "<table border=\"1\" class=\"dataframe\">\n",
       "  <thead>\n",
       "    <tr style=\"text-align: right;\">\n",
       "      <th></th>\n",
       "      <th>Parent Directory</th>\n",
       "      <th>Subdirectory</th>\n",
       "      <th>File Count</th>\n",
       "    </tr>\n",
       "  </thead>\n",
       "  <tbody>\n",
       "    <tr>\n",
       "      <th>0</th>\n",
       "      <td>MedicalExpert-I</td>\n",
       "      <td>0Normal</td>\n",
       "      <td>514</td>\n",
       "    </tr>\n",
       "    <tr>\n",
       "      <th>1</th>\n",
       "      <td>MedicalExpert-I</td>\n",
       "      <td>1Doubtful</td>\n",
       "      <td>477</td>\n",
       "    </tr>\n",
       "    <tr>\n",
       "      <th>2</th>\n",
       "      <td>MedicalExpert-I</td>\n",
       "      <td>2Mild</td>\n",
       "      <td>232</td>\n",
       "    </tr>\n",
       "    <tr>\n",
       "      <th>3</th>\n",
       "      <td>MedicalExpert-I</td>\n",
       "      <td>3Moderate</td>\n",
       "      <td>221</td>\n",
       "    </tr>\n",
       "    <tr>\n",
       "      <th>4</th>\n",
       "      <td>MedicalExpert-I</td>\n",
       "      <td>4Severe</td>\n",
       "      <td>206</td>\n",
       "    </tr>\n",
       "    <tr>\n",
       "      <th>5</th>\n",
       "      <td>MedicalExpert-II</td>\n",
       "      <td>0Normal</td>\n",
       "      <td>503</td>\n",
       "    </tr>\n",
       "    <tr>\n",
       "      <th>6</th>\n",
       "      <td>MedicalExpert-II</td>\n",
       "      <td>1Doubtful</td>\n",
       "      <td>488</td>\n",
       "    </tr>\n",
       "    <tr>\n",
       "      <th>7</th>\n",
       "      <td>MedicalExpert-II</td>\n",
       "      <td>2Mild</td>\n",
       "      <td>232</td>\n",
       "    </tr>\n",
       "    <tr>\n",
       "      <th>8</th>\n",
       "      <td>MedicalExpert-II</td>\n",
       "      <td>3Moderate</td>\n",
       "      <td>221</td>\n",
       "    </tr>\n",
       "    <tr>\n",
       "      <th>9</th>\n",
       "      <td>MedicalExpert-II</td>\n",
       "      <td>4Severe</td>\n",
       "      <td>206</td>\n",
       "    </tr>\n",
       "  </tbody>\n",
       "</table>\n",
       "</div>"
      ],
      "text/plain": [
       "   Parent Directory Subdirectory  File Count\n",
       "0   MedicalExpert-I      0Normal         514\n",
       "1   MedicalExpert-I    1Doubtful         477\n",
       "2   MedicalExpert-I        2Mild         232\n",
       "3   MedicalExpert-I    3Moderate         221\n",
       "4   MedicalExpert-I      4Severe         206\n",
       "5  MedicalExpert-II      0Normal         503\n",
       "6  MedicalExpert-II    1Doubtful         488\n",
       "7  MedicalExpert-II        2Mild         232\n",
       "8  MedicalExpert-II    3Moderate         221\n",
       "9  MedicalExpert-II      4Severe         206"
      ]
     },
     "execution_count": 2,
     "metadata": {},
     "output_type": "execute_result"
    }
   ],
   "source": [
    "import pandas as pd\n",
    "\n",
    "df = pd.read_csv(filepath_or_buffer='/kaggle/input/digital-knee-x-ray-images/Digital Knee X-ray Images.csv')\n",
    "df"
   ]
  },
  {
   "cell_type": "code",
   "execution_count": 3,
   "id": "9fdd7d65",
   "metadata": {
    "execution": {
     "iopub.execute_input": "2025-05-28T19:09:31.771034Z",
     "iopub.status.busy": "2025-05-28T19:09:31.770857Z",
     "iopub.status.idle": "2025-05-28T19:10:11.213599Z",
     "shell.execute_reply": "2025-05-28T19:10:11.212933Z"
    },
    "papermill": {
     "duration": 39.445923,
     "end_time": "2025-05-28T19:10:11.214889",
     "exception": false,
     "start_time": "2025-05-28T19:09:31.768966",
     "status": "completed"
    },
    "tags": []
   },
   "outputs": [
    {
     "name": "stderr",
     "output_type": "stream",
     "text": [
      "Downloading: \"https://download.pytorch.org/models/resnext50_32x4d-1a0047aa.pth\" to /root/.cache/torch/hub/checkpoints/resnext50_32x4d-1a0047aa.pth\n",
      "100%|██████████| 95.8M/95.8M [00:29<00:00, 3.46MB/s]\n"
     ]
    }
   ],
   "source": [
    "import torch\n",
    "import torchvision.models as models\n",
    "import torchvision.transforms as transforms\n",
    "import numpy as np\n",
    "\n",
    "\n",
    "DEVICE = torch.device('cpu')\n",
    "OUTPUT_SIZE = 2048\n",
    "\n",
    "model = models.resnext50_32x4d(weights=models.ResNeXt50_32X4D_Weights.IMAGENET1K_V2)\n",
    "\n",
    "extraction_layer = model._modules.get('avgpool')\n",
    "model.to(DEVICE)\n",
    "model.eval()\n",
    "\n",
    "scaler = transforms.Resize((224, 224))\n",
    "normalize = transforms.Normalize(mean=[0.485, 0.456, 0.406], std=[0.229, 0.224, 0.225])\n",
    "to_tensor = transforms.ToTensor()\n",
    "\n",
    "def get_vec(arg, model, extraction_layer):\n",
    "    image = normalize(to_tensor(scaler(arg))).unsqueeze(0).to(DEVICE)\n",
    "    result = torch.zeros(1, OUTPUT_SIZE, 1, 1)\n",
    "    def copy_data(m, i, o):\n",
    "        result.copy_(o.data)\n",
    "    hooked = extraction_layer.register_forward_hook(copy_data)\n",
    "    with torch.no_grad():\n",
    "        model(image)\n",
    "    hooked.remove()\n",
    "    return result"
   ]
  },
  {
   "cell_type": "code",
   "execution_count": 4,
   "id": "89d1335d",
   "metadata": {
    "execution": {
     "iopub.execute_input": "2025-05-28T19:10:11.231312Z",
     "iopub.status.busy": "2025-05-28T19:10:11.231026Z",
     "iopub.status.idle": "2025-05-28T19:16:06.631225Z",
     "shell.execute_reply": "2025-05-28T19:16:06.630543Z"
    },
    "papermill": {
     "duration": 355.416912,
     "end_time": "2025-05-28T19:16:06.639875",
     "exception": false,
     "start_time": "2025-05-28T19:10:11.222963",
     "status": "completed"
    },
    "tags": []
   },
   "outputs": [
    {
     "name": "stdout",
     "output_type": "stream",
     "text": [
      "encoded 477 rows of 1Doubtful  in 0:00:51.078200\n",
      "encoded 221 rows of 3Moderate  in 0:00:23.874753\n",
      "encoded 206 rows of 4Severe  in 0:00:22.101054\n",
      "encoded 232 rows of 2Mild  in 0:00:24.709120\n",
      "encoded 514 rows of 0Normal  in 0:00:54.668069\n",
      "encoded 488 rows of 1Doubtful  in 0:00:53.521036\n",
      "encoded 221 rows of 3Moderate  in 0:00:23.134874\n",
      "encoded 206 rows of 4Severe  in 0:00:22.229648\n",
      "encoded 232 rows of 2Mild  in 0:00:25.351514\n",
      "encoded 503 rows of 0Normal  in 0:00:54.566217\n",
      "done in 0:05:55.382671\n"
     ]
    }
   ],
   "source": [
    "import arrow\n",
    "import base64\n",
    "import pandas as pd\n",
    "from glob import iglob\n",
    "from io import BytesIO\n",
    "from os.path import basename\n",
    "from PIL import Image\n",
    "\n",
    "THUMBNAIL_SIZE = (64, 64)\n",
    "ME1 = '/kaggle/input/digital-knee-x-ray-images/Digital Knee X-ray Images/Digital Knee X-ray Images/Knee X-ray Images/MedicalExpert-I/MedicalExpert-I'\n",
    "ME2 = '/kaggle/input/digital-knee-x-ray-images/Digital Knee X-ray Images/Digital Knee X-ray Images/Knee X-ray Images/MedicalExpert-II/MedicalExpert-II'\n",
    "\n",
    "def embed(model, filename: str):\n",
    "    with Image.open(fp=filename, mode='r') as image:\n",
    "        return get_vec(arg=image.convert('RGB'), model=model, extraction_layer=extraction_layer).numpy().reshape(OUTPUT_SIZE,)\n",
    "\n",
    "\n",
    "# https://stackoverflow.com/a/952952\n",
    "def flatten(arg):\n",
    "    return [x for xs in arg for x in xs]\n",
    "\n",
    "def png(filename: str) -> str:\n",
    "    with Image.open(fp=filename, mode='r') as image:\n",
    "        buffer = BytesIO()\n",
    "        # our images are pretty big; let's shrink the hover images to thumbnail size\n",
    "        image.resize(size=THUMBNAIL_SIZE).convert('RGB').save(buffer, format='png')\n",
    "        return 'data:image/png;base64,' + base64.b64encode(buffer.getvalue()).decode()\n",
    "\n",
    "def get_picture_from_glob(arg: str, tag: str,) -> list:\n",
    "    time_get = arrow.now()\n",
    "    result = [pd.Series(data=[tag, basename(input_file), embed(model=model, filename=input_file), png(filename=input_file)],\n",
    "                        index=['tag', 'name', 'value', 'png'])\n",
    "        for index, input_file in enumerate(list(iglob(pathname=arg))) if input_file.endswith('.png')]\n",
    "    print('encoded {} rows of {}  in {}'.format(len(result), tag, arrow.now() - time_get))\n",
    "    return result\n",
    "\n",
    "time_start = arrow.now()\n",
    "me1_dict = {basename(folder) : folder + '/*.*' for folder in iglob(ME1 + '/*')}\n",
    "me1_df = pd.DataFrame(data=flatten(arg=[get_picture_from_glob(arg=value, tag=key) for key, value in me1_dict.items()]))\n",
    "me1_df['expert'] = 1\n",
    "me2_dict = {basename(folder) : folder + '/*.*' for folder in iglob(ME2 + '/*')}\n",
    "me2_df = pd.DataFrame(data=flatten(arg=[get_picture_from_glob(arg=value, tag=key) for key, value in me2_dict.items()]))\n",
    "me2_df['expert'] = 2\n",
    "df = pd.concat(axis='index', objs=[me1_df, me2_df])\n",
    "print('done in {}'.format(arrow.now() - time_start))"
   ]
  }
 ],
 "metadata": {
  "kaggle": {
   "accelerator": "none",
   "dataSources": [
    {
     "datasetId": 7088338,
     "sourceId": 11339916,
     "sourceType": "datasetVersion"
    }
   ],
   "dockerImageVersionId": 31040,
   "isGpuEnabled": false,
   "isInternetEnabled": true,
   "language": "python",
   "sourceType": "notebook"
  },
  "kernelspec": {
   "display_name": "Python 3",
   "language": "python",
   "name": "python3"
  },
  "language_info": {
   "codemirror_mode": {
    "name": "ipython",
    "version": 3
   },
   "file_extension": ".py",
   "mimetype": "text/x-python",
   "name": "python",
   "nbconvert_exporter": "python",
   "pygments_lexer": "ipython3",
   "version": "3.11.11"
  },
  "papermill": {
   "default_parameters": {},
   "duration": 403.725437,
   "end_time": "2025-05-28T19:16:09.737427",
   "environment_variables": {},
   "exception": null,
   "input_path": "__notebook__.ipynb",
   "output_path": "__notebook__.ipynb",
   "parameters": {},
   "start_time": "2025-05-28T19:09:26.011990",
   "version": "2.6.0"
  }
 },
 "nbformat": 4,
 "nbformat_minor": 5
}
