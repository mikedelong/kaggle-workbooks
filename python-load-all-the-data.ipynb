{
 "cells": [
  {
   "cell_type": "code",
   "execution_count": 1,
   "id": "9a5d285e",
   "metadata": {
    "execution": {
     "iopub.execute_input": "2023-09-01T15:24:33.760410Z",
     "iopub.status.busy": "2023-09-01T15:24:33.759647Z",
     "iopub.status.idle": "2023-09-01T15:24:47.271150Z",
     "shell.execute_reply": "2023-09-01T15:24:47.270043Z"
    },
    "papermill": {
     "duration": 13.521563,
     "end_time": "2023-09-01T15:24:47.273858",
     "exception": false,
     "start_time": "2023-09-01T15:24:33.752295",
     "status": "completed"
    },
    "tags": []
   },
   "outputs": [
    {
     "name": "stdout",
     "output_type": "stream",
     "text": [
      "Collecting chardet\r\n",
      "  Downloading chardet-5.2.0-py3-none-any.whl (199 kB)\r\n",
      "\u001b[2K     \u001b[90m━━━━━━━━━━━━━━━━━━━━━━━━━━━━━━━━━━━━━━━\u001b[0m \u001b[32m199.4/199.4 kB\u001b[0m \u001b[31m3.8 MB/s\u001b[0m eta \u001b[36m0:00:00\u001b[0m\r\n",
      "\u001b[?25hInstalling collected packages: chardet\r\n",
      "Successfully installed chardet-5.2.0\r\n"
     ]
    }
   ],
   "source": [
    "!pip install chardet"
   ]
  },
  {
   "cell_type": "code",
   "execution_count": 2,
   "id": "dc29f929",
   "metadata": {
    "execution": {
     "iopub.execute_input": "2023-09-01T15:24:47.284611Z",
     "iopub.status.busy": "2023-09-01T15:24:47.284221Z",
     "iopub.status.idle": "2023-09-01T15:24:47.394120Z",
     "shell.execute_reply": "2023-09-01T15:24:47.392492Z"
    },
    "papermill": {
     "duration": 0.118699,
     "end_time": "2023-09-01T15:24:47.397189",
     "exception": false,
     "start_time": "2023-09-01T15:24:47.278490",
     "status": "completed"
    },
    "tags": []
   },
   "outputs": [
    {
     "name": "stdout",
     "output_type": "stream",
     "text": [
      "encoding: ISO-8859-1 file: /kaggle/input/top-20-most-searched-queries-in-google-search/202203.csv\n"
     ]
    }
   ],
   "source": [
    "# let's find our encoding\n",
    "# https://www.kaggle.com/code/rtatman/data-cleaning-challenge-character-encodings/notebook#Reading-in-files-with-encoding-problems\n",
    "from glob import glob\n",
    "from chardet import detect\n",
    "files = sorted(list(glob(pathname='/kaggle/input/top-20-most-searched-queries-in-google-search/*.csv')))\n",
    "first_file = files[0]\n",
    "with open(first_file, 'rb') as rawdata:\n",
    "    detection_result = detect(rawdata.read(10000))\n",
    "encoding = detection_result['encoding']\n",
    "print('encoding: {} file: {}'.format(encoding, first_file))"
   ]
  },
  {
   "cell_type": "code",
   "execution_count": 3,
   "id": "4afe36e3",
   "metadata": {
    "execution": {
     "iopub.execute_input": "2023-09-01T15:24:47.408044Z",
     "iopub.status.busy": "2023-09-01T15:24:47.407593Z",
     "iopub.status.idle": "2023-09-01T15:24:48.223264Z",
     "shell.execute_reply": "2023-09-01T15:24:48.222145Z"
    },
    "papermill": {
     "duration": 0.823826,
     "end_time": "2023-09-01T15:24:48.225589",
     "exception": false,
     "start_time": "2023-09-01T15:24:47.401763",
     "status": "completed"
    },
    "tags": []
   },
   "outputs": [
    {
     "data": {
      "text/html": [
       "<div>\n",
       "<style scoped>\n",
       "    .dataframe tbody tr th:only-of-type {\n",
       "        vertical-align: middle;\n",
       "    }\n",
       "\n",
       "    .dataframe tbody tr th {\n",
       "        vertical-align: top;\n",
       "    }\n",
       "\n",
       "    .dataframe thead th {\n",
       "        text-align: right;\n",
       "    }\n",
       "</style>\n",
       "<table border=\"1\" class=\"dataframe\">\n",
       "  <thead>\n",
       "    <tr style=\"text-align: right;\">\n",
       "      <th></th>\n",
       "      <th>kw_location</th>\n",
       "      <th>created_date</th>\n",
       "      <th>period</th>\n",
       "      <th>1</th>\n",
       "      <th>2</th>\n",
       "      <th>3</th>\n",
       "      <th>4</th>\n",
       "      <th>5</th>\n",
       "      <th>6</th>\n",
       "      <th>7</th>\n",
       "      <th>...</th>\n",
       "      <th>13</th>\n",
       "      <th>14</th>\n",
       "      <th>15</th>\n",
       "      <th>16</th>\n",
       "      <th>17</th>\n",
       "      <th>18</th>\n",
       "      <th>19</th>\n",
       "      <th>20</th>\n",
       "      <th>year</th>\n",
       "      <th>month</th>\n",
       "    </tr>\n",
       "    <tr>\n",
       "      <th>id</th>\n",
       "      <th></th>\n",
       "      <th></th>\n",
       "      <th></th>\n",
       "      <th></th>\n",
       "      <th></th>\n",
       "      <th></th>\n",
       "      <th></th>\n",
       "      <th></th>\n",
       "      <th></th>\n",
       "      <th></th>\n",
       "      <th></th>\n",
       "      <th></th>\n",
       "      <th></th>\n",
       "      <th></th>\n",
       "      <th></th>\n",
       "      <th></th>\n",
       "      <th></th>\n",
       "      <th></th>\n",
       "      <th></th>\n",
       "      <th></th>\n",
       "      <th></th>\n",
       "    </tr>\n",
       "  </thead>\n",
       "  <tbody>\n",
       "    <tr>\n",
       "      <th>37</th>\n",
       "      <td>US</td>\n",
       "      <td>2022-03-11 00:08:03</td>\n",
       "      <td>Late Night</td>\n",
       "      <td>Grimes</td>\n",
       "      <td>MLB</td>\n",
       "      <td>Players Championship</td>\n",
       "      <td>Michigan Basketball</td>\n",
       "      <td>Jussie Smollett</td>\n",
       "      <td>Khalil Mack</td>\n",
       "      <td>Barcelona</td>\n",
       "      <td>...</td>\n",
       "      <td>Mario Day</td>\n",
       "      <td>Bruce Weber</td>\n",
       "      <td>Big East Tournament</td>\n",
       "      <td>Jen Psaki</td>\n",
       "      <td>Nick Cannon</td>\n",
       "      <td>Norwich City vs Chelsea</td>\n",
       "      <td>Samuel L. Jackson</td>\n",
       "      <td>Hayden Christensen</td>\n",
       "      <td>2022</td>\n",
       "      <td>3</td>\n",
       "    </tr>\n",
       "    <tr>\n",
       "      <th>38</th>\n",
       "      <td>UK</td>\n",
       "      <td>2022-03-11 00:08:03</td>\n",
       "      <td>Late Night</td>\n",
       "      <td>Premier League</td>\n",
       "      <td>Leeds United</td>\n",
       "      <td>Rangers</td>\n",
       "      <td>Southampton vs Newcastle</td>\n",
       "      <td>Grimes</td>\n",
       "      <td>Sam Ryder</td>\n",
       "      <td>Wolves vs Watford</td>\n",
       "      <td>...</td>\n",
       "      <td>F1</td>\n",
       "      <td>Rangers FC</td>\n",
       "      <td>Supreme</td>\n",
       "      <td>Russia Ukraine Putin News</td>\n",
       "      <td>Southmead Hospital</td>\n",
       "      <td>Ryan Coogler</td>\n",
       "      <td>Bryan Adams</td>\n",
       "      <td>Nile Rodgers</td>\n",
       "      <td>2022</td>\n",
       "      <td>3</td>\n",
       "    </tr>\n",
       "    <tr>\n",
       "      <th>40</th>\n",
       "      <td>DE</td>\n",
       "      <td>2022-03-11 00:08:03</td>\n",
       "      <td>Late Night</td>\n",
       "      <td>Chelsea</td>\n",
       "      <td>Galatasaray</td>\n",
       "      <td>Grimes</td>\n",
       "      <td>Heidi Klum</td>\n",
       "      <td>Kurt Krömer</td>\n",
       "      <td>Schröder Putin</td>\n",
       "      <td>Gauck</td>\n",
       "      <td>...</td>\n",
       "      <td>Katie Price</td>\n",
       "      <td>Joachim Gauck</td>\n",
       "      <td>EZB</td>\n",
       "      <td>Let\\u2019s Dance</td>\n",
       "      <td>Real Madrid gegen PSG</td>\n",
       "      <td>Europa League</td>\n",
       "      <td>Eintracht Frankfurt</td>\n",
       "      <td>Tschernobyl</td>\n",
       "      <td>2022</td>\n",
       "      <td>3</td>\n",
       "    </tr>\n",
       "    <tr>\n",
       "      <th>41</th>\n",
       "      <td>FR</td>\n",
       "      <td>2022-03-11 00:08:03</td>\n",
       "      <td>Late Night</td>\n",
       "      <td>OM</td>\n",
       "      <td>Leicester \\u2013 Rennes</td>\n",
       "      <td>Balthazar</td>\n",
       "      <td>Ne le dis à personne</td>\n",
       "      <td>L'equipe</td>\n",
       "      <td>Braga \\u2013 Monaco</td>\n",
       "      <td>Corse</td>\n",
       "      <td>...</td>\n",
       "      <td>Marioupol</td>\n",
       "      <td>Lisa Azuelos</td>\n",
       "      <td>State of Play</td>\n",
       "      <td>Robert Menard</td>\n",
       "      <td>Coupe du monde 2022</td>\n",
       "      <td>Alain Maneval</td>\n",
       "      <td>Pauline Cheviller</td>\n",
       "      <td>SOFOOT</td>\n",
       "      <td>2022</td>\n",
       "      <td>3</td>\n",
       "    </tr>\n",
       "    <tr>\n",
       "      <th>42</th>\n",
       "      <td>NL</td>\n",
       "      <td>2022-03-11 00:08:03</td>\n",
       "      <td>Late Night</td>\n",
       "      <td>Chelsea</td>\n",
       "      <td>PSV</td>\n",
       "      <td>Vitesse</td>\n",
       "      <td>Barcelona</td>\n",
       "      <td>Grimes</td>\n",
       "      <td>Camila Cabello</td>\n",
       "      <td>Bodo Glimt</td>\n",
       "      <td>...</td>\n",
       "      <td>Boskalis</td>\n",
       "      <td>Real</td>\n",
       "      <td>Feyenoord</td>\n",
       "      <td>PSG</td>\n",
       "      <td>Tsjernobyl</td>\n",
       "      <td>Kevin Magnussen</td>\n",
       "      <td>Hans kazan</td>\n",
       "      <td>Willem 2</td>\n",
       "      <td>2022</td>\n",
       "      <td>3</td>\n",
       "    </tr>\n",
       "  </tbody>\n",
       "</table>\n",
       "<p>5 rows × 25 columns</p>\n",
       "</div>"
      ],
      "text/plain": [
       "   kw_location        created_date      period               1  \\\n",
       "id                                                               \n",
       "37          US 2022-03-11 00:08:03  Late Night          Grimes   \n",
       "38          UK 2022-03-11 00:08:03  Late Night  Premier League   \n",
       "40          DE 2022-03-11 00:08:03  Late Night         Chelsea   \n",
       "41          FR 2022-03-11 00:08:03  Late Night              OM   \n",
       "42          NL 2022-03-11 00:08:03  Late Night         Chelsea   \n",
       "\n",
       "                          2                     3                         4  \\\n",
       "id                                                                            \n",
       "37                      MLB  Players Championship       Michigan Basketball   \n",
       "38             Leeds United               Rangers  Southampton vs Newcastle   \n",
       "40              Galatasaray                Grimes                Heidi Klum   \n",
       "41  Leicester \\u2013 Rennes             Balthazar      Ne le dis à personne   \n",
       "42                      PSV               Vitesse                 Barcelona   \n",
       "\n",
       "                  5                    6                  7  ...           13  \\\n",
       "id                                                           ...                \n",
       "37  Jussie Smollett          Khalil Mack          Barcelona  ...    Mario Day   \n",
       "38           Grimes            Sam Ryder  Wolves vs Watford  ...           F1   \n",
       "40      Kurt Krömer       Schröder Putin              Gauck  ...  Katie Price   \n",
       "41         L'equipe  Braga \\u2013 Monaco              Corse  ...    Marioupol   \n",
       "42           Grimes       Camila Cabello         Bodo Glimt  ...     Boskalis   \n",
       "\n",
       "               14                   15                         16  \\\n",
       "id                                                                  \n",
       "37    Bruce Weber  Big East Tournament                  Jen Psaki   \n",
       "38     Rangers FC              Supreme  Russia Ukraine Putin News   \n",
       "40  Joachim Gauck                  EZB           Let\\u2019s Dance   \n",
       "41   Lisa Azuelos        State of Play              Robert Menard   \n",
       "42           Real            Feyenoord                        PSG   \n",
       "\n",
       "                       17                       18                   19  \\\n",
       "id                                                                        \n",
       "37            Nick Cannon  Norwich City vs Chelsea    Samuel L. Jackson   \n",
       "38     Southmead Hospital             Ryan Coogler          Bryan Adams   \n",
       "40  Real Madrid gegen PSG            Europa League  Eintracht Frankfurt   \n",
       "41    Coupe du monde 2022            Alain Maneval    Pauline Cheviller   \n",
       "42             Tsjernobyl          Kevin Magnussen           Hans kazan   \n",
       "\n",
       "                    20  year month  \n",
       "id                                  \n",
       "37  Hayden Christensen  2022     3  \n",
       "38        Nile Rodgers  2022     3  \n",
       "40         Tschernobyl  2022     3  \n",
       "41              SOFOOT  2022     3  \n",
       "42            Willem 2  2022     3  \n",
       "\n",
       "[5 rows x 25 columns]"
      ]
     },
     "execution_count": 3,
     "metadata": {},
     "output_type": "execute_result"
    }
   ],
   "source": [
    "import pandas as pd\n",
    "# the unnamed column is redundant if we have the id column, and the time location is always UK\n",
    "df = pd.concat(objs=[pd.read_csv(filepath_or_buffer=current, encoding=encoding, index_col=['id'], parse_dates=['created_date']) \n",
    "                    for current in files]).drop(columns=['Unnamed: 0', 'time_location'])\n",
    "df.head()"
   ]
  },
  {
   "cell_type": "code",
   "execution_count": 4,
   "id": "fbe2e618",
   "metadata": {
    "execution": {
     "iopub.execute_input": "2023-09-01T15:24:48.238006Z",
     "iopub.status.busy": "2023-09-01T15:24:48.236901Z",
     "iopub.status.idle": "2023-09-01T15:24:48.263060Z",
     "shell.execute_reply": "2023-09-01T15:24:48.262022Z"
    },
    "papermill": {
     "duration": 0.035267,
     "end_time": "2023-09-01T15:24:48.266011",
     "exception": false,
     "start_time": "2023-09-01T15:24:48.230744",
     "status": "completed"
    },
    "tags": []
   },
   "outputs": [
    {
     "name": "stdout",
     "output_type": "stream",
     "text": [
      "<class 'pandas.core.frame.DataFrame'>\n",
      "Index: 5628 entries, 37 to 8927\n",
      "Data columns (total 25 columns):\n",
      " #   Column        Non-Null Count  Dtype         \n",
      "---  ------        --------------  -----         \n",
      " 0   kw_location   5628 non-null   object        \n",
      " 1   created_date  5628 non-null   datetime64[ns]\n",
      " 2   period        5628 non-null   object        \n",
      " 3   1             5628 non-null   object        \n",
      " 4   2             5628 non-null   object        \n",
      " 5   3             5628 non-null   object        \n",
      " 6   4             5628 non-null   object        \n",
      " 7   5             5628 non-null   object        \n",
      " 8   6             5628 non-null   object        \n",
      " 9   7             5628 non-null   object        \n",
      " 10  8             5628 non-null   object        \n",
      " 11  9             5628 non-null   object        \n",
      " 12  10            5628 non-null   object        \n",
      " 13  11            5628 non-null   object        \n",
      " 14  12            5628 non-null   object        \n",
      " 15  13            5628 non-null   object        \n",
      " 16  14            5628 non-null   object        \n",
      " 17  15            5628 non-null   object        \n",
      " 18  16            5628 non-null   object        \n",
      " 19  17            5628 non-null   object        \n",
      " 20  18            5628 non-null   object        \n",
      " 21  19            5628 non-null   object        \n",
      " 22  20            5628 non-null   object        \n",
      " 23  year          5628 non-null   int64         \n",
      " 24  month         5628 non-null   int64         \n",
      "dtypes: datetime64[ns](1), int64(2), object(22)\n",
      "memory usage: 1.1+ MB\n"
     ]
    }
   ],
   "source": [
    "df.info()"
   ]
  },
  {
   "cell_type": "code",
   "execution_count": 5,
   "id": "798642d5",
   "metadata": {
    "execution": {
     "iopub.execute_input": "2023-09-01T15:24:48.276997Z",
     "iopub.status.busy": "2023-09-01T15:24:48.276574Z",
     "iopub.status.idle": "2023-09-01T15:24:48.313387Z",
     "shell.execute_reply": "2023-09-01T15:24:48.312033Z"
    },
    "papermill": {
     "duration": 0.045439,
     "end_time": "2023-09-01T15:24:48.316150",
     "exception": false,
     "start_time": "2023-09-01T15:24:48.270711",
     "status": "completed"
    },
    "tags": []
   },
   "outputs": [
    {
     "data": {
      "text/plain": [
       "kw_location        7\n",
       "created_date     804\n",
       "period             3\n",
       "1               3612\n",
       "2               4032\n",
       "3               4207\n",
       "4               4239\n",
       "5               4266\n",
       "6               4342\n",
       "7               4314\n",
       "8               4434\n",
       "9               4428\n",
       "10              4404\n",
       "11              4351\n",
       "12              4400\n",
       "13              4305\n",
       "14              4356\n",
       "15              4423\n",
       "16              4349\n",
       "17              4316\n",
       "18              4337\n",
       "19              4334\n",
       "20              4311\n",
       "year               2\n",
       "month             10\n",
       "dtype: int64"
      ]
     },
     "execution_count": 5,
     "metadata": {},
     "output_type": "execute_result"
    }
   ],
   "source": [
    "df.nunique()"
   ]
  },
  {
   "cell_type": "code",
   "execution_count": 6,
   "id": "cdd42a0d",
   "metadata": {
    "execution": {
     "iopub.execute_input": "2023-09-01T15:24:48.328891Z",
     "iopub.status.busy": "2023-09-01T15:24:48.328475Z",
     "iopub.status.idle": "2023-09-01T15:24:49.122199Z",
     "shell.execute_reply": "2023-09-01T15:24:49.120420Z"
    },
    "papermill": {
     "duration": 0.803134,
     "end_time": "2023-09-01T15:24:49.124809",
     "exception": false,
     "start_time": "2023-09-01T15:24:48.321675",
     "status": "completed"
    },
    "tags": []
   },
   "outputs": [
    {
     "data": {
      "image/png": "[encoded data removed]",
      "text/plain": [
       "<Figure size 1400x500 with 4 Axes>"
      ]
     },
     "metadata": {},
     "output_type": "display_data"
    }
   ],
   "source": [
    "from matplotlib.pyplot import subplots\n",
    "_, ax = subplots(figsize=(14, 5), ncols=4,)\n",
    "for index, column in enumerate(['kw_location', 'period', 'year', 'month']):\n",
    "    df[column].value_counts(sort=False).sort_index().plot(ax=ax.ravel()[index], kind='bar')"
   ]
  }
 ],
 "kernelspec": {
  "display_name": "Python 3",
  "language": "python",
  "name": "python3"
 },
 "language_info": {
  "codemirror_mode": {
   "name": "ipython",
   "version": 3
  },
  "file_extension": ".py",
  "mimetype": "text/x-python",
  "name": "python",
  "nbconvert_exporter": "python",
  "pygments_lexer": "ipython3",
  "version": "3.6.4"
 },
 "metadata": {
  "kernelspec": {
   "display_name": "Python 3",
   "language": "python",
   "name": "python3"
  },
  "language_info": {
   "codemirror_mode": {
    "name": "ipython",
    "version": 3
   },
   "file_extension": ".py",
   "mimetype": "text/x-python",
   "name": "python",
   "nbconvert_exporter": "python",
   "pygments_lexer": "ipython3",
   "version": "3.10.12"
  },
  "papermill": {
   "default_parameters": {},
   "duration": 19.611601,
   "end_time": "2023-09-01T15:24:49.855759",
   "environment_variables": {},
   "exception": null,
   "input_path": "__notebook__.ipynb",
   "output_path": "__notebook__.ipynb",
   "parameters": {},
   "start_time": "2023-09-01T15:24:30.244158",
   "version": "2.4.0"
  }
 },
 "nbformat": 4,
 "nbformat_minor": 5
}
