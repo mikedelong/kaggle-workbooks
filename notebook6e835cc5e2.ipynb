{
 "cells": [
  {
   "cell_type": "code",
   "execution_count": 1,
   "id": "dacf4aa7",
   "metadata": {
    "_cell_guid": "b1076dfc-b9ad-4769-8c92-a6c4dae69d19",
    "_uuid": "8f2839f25d086af736a60e9eeb907d3b93b6e0e5",
    "execution": {
     "iopub.execute_input": "2025-02-19T22:04:02.996443Z",
     "iopub.status.busy": "2025-02-19T22:04:02.996047Z",
     "iopub.status.idle": "2025-02-19T22:04:04.019320Z",
     "shell.execute_reply": "2025-02-19T22:04:04.018256Z"
    },
    "papermill": {
     "duration": 1.028547,
     "end_time": "2025-02-19T22:04:04.021136",
     "exception": false,
     "start_time": "2025-02-19T22:04:02.992589",
     "status": "completed"
    },
    "tags": []
   },
   "outputs": [
    {
     "data": {
      "text/html": [
       "<div>\n",
       "<style scoped>\n",
       "    .dataframe tbody tr th:only-of-type {\n",
       "        vertical-align: middle;\n",
       "    }\n",
       "\n",
       "    .dataframe tbody tr th {\n",
       "        vertical-align: top;\n",
       "    }\n",
       "\n",
       "    .dataframe thead th {\n",
       "        text-align: right;\n",
       "    }\n",
       "</style>\n",
       "<table border=\"1\" class=\"dataframe\">\n",
       "  <thead>\n",
       "    <tr style=\"text-align: right;\">\n",
       "      <th></th>\n",
       "      <th>User_ID</th>\n",
       "      <th>User_Text</th>\n",
       "      <th>Sentiment_Label</th>\n",
       "      <th>Recommended_Song_ID</th>\n",
       "      <th>Song_Name</th>\n",
       "      <th>Artist</th>\n",
       "      <th>Genre</th>\n",
       "      <th>Tempo (BPM)</th>\n",
       "      <th>Mood</th>\n",
       "      <th>Energy</th>\n",
       "      <th>Danceability</th>\n",
       "    </tr>\n",
       "  </thead>\n",
       "  <tbody>\n",
       "    <tr>\n",
       "      <th>0</th>\n",
       "      <td>U1</td>\n",
       "      <td>Way ball purpose public experience recently re...</td>\n",
       "      <td>Sad</td>\n",
       "      <td>S1</td>\n",
       "      <td>Someone Like You</td>\n",
       "      <td>Adele</td>\n",
       "      <td>Pop</td>\n",
       "      <td>67</td>\n",
       "      <td>Melancholic</td>\n",
       "      <td>Low</td>\n",
       "      <td>Low</td>\n",
       "    </tr>\n",
       "    <tr>\n",
       "      <th>1</th>\n",
       "      <td>U2</td>\n",
       "      <td>Save officer two myself a.</td>\n",
       "      <td>Happy</td>\n",
       "      <td>S2</td>\n",
       "      <td>Happy</td>\n",
       "      <td>Pharrell Williams</td>\n",
       "      <td>Pop</td>\n",
       "      <td>160</td>\n",
       "      <td>Joyful</td>\n",
       "      <td>High</td>\n",
       "      <td>High</td>\n",
       "    </tr>\n",
       "    <tr>\n",
       "      <th>2</th>\n",
       "      <td>U3</td>\n",
       "      <td>Decade ahead everyone environment themselves a...</td>\n",
       "      <td>Relaxed</td>\n",
       "      <td>S3</td>\n",
       "      <td>Clair de Lune</td>\n",
       "      <td>Debussy</td>\n",
       "      <td>Classical</td>\n",
       "      <td>60</td>\n",
       "      <td>Soothing</td>\n",
       "      <td>Low</td>\n",
       "      <td>Low</td>\n",
       "    </tr>\n",
       "    <tr>\n",
       "      <th>3</th>\n",
       "      <td>U4</td>\n",
       "      <td>Best change letter citizen try ask quality pro...</td>\n",
       "      <td>Happy</td>\n",
       "      <td>S4</td>\n",
       "      <td>Happy</td>\n",
       "      <td>Pharrell Williams</td>\n",
       "      <td>Pop</td>\n",
       "      <td>160</td>\n",
       "      <td>Joyful</td>\n",
       "      <td>High</td>\n",
       "      <td>High</td>\n",
       "    </tr>\n",
       "    <tr>\n",
       "      <th>4</th>\n",
       "      <td>U5</td>\n",
       "      <td>Worker player chance kind actually.</td>\n",
       "      <td>Happy</td>\n",
       "      <td>S5</td>\n",
       "      <td>Happy</td>\n",
       "      <td>Pharrell Williams</td>\n",
       "      <td>Pop</td>\n",
       "      <td>160</td>\n",
       "      <td>Joyful</td>\n",
       "      <td>High</td>\n",
       "      <td>High</td>\n",
       "    </tr>\n",
       "  </tbody>\n",
       "</table>\n",
       "</div>"
      ],
      "text/plain": [
       "  User_ID                                          User_Text Sentiment_Label  \\\n",
       "0      U1  Way ball purpose public experience recently re...             Sad   \n",
       "1      U2                         Save officer two myself a.           Happy   \n",
       "2      U3  Decade ahead everyone environment themselves a...         Relaxed   \n",
       "3      U4  Best change letter citizen try ask quality pro...           Happy   \n",
       "4      U5                Worker player chance kind actually.           Happy   \n",
       "\n",
       "  Recommended_Song_ID         Song_Name             Artist      Genre  \\\n",
       "0                  S1  Someone Like You              Adele        Pop   \n",
       "1                  S2             Happy  Pharrell Williams        Pop   \n",
       "2                  S3     Clair de Lune            Debussy  Classical   \n",
       "3                  S4             Happy  Pharrell Williams        Pop   \n",
       "4                  S5             Happy  Pharrell Williams        Pop   \n",
       "\n",
       "   Tempo (BPM)         Mood Energy Danceability  \n",
       "0           67  Melancholic    Low          Low  \n",
       "1          160       Joyful   High         High  \n",
       "2           60     Soothing    Low          Low  \n",
       "3          160       Joyful   High         High  \n",
       "4          160       Joyful   High         High  "
      ]
     },
     "execution_count": 1,
     "metadata": {},
     "output_type": "execute_result"
    }
   ],
   "source": [
    "import pandas as pd\n",
    "\n",
    "DATA = '/kaggle/input/ai-powered-music-recommendation-system/music_sentiment_dataset.csv'\n",
    "df = pd.read_csv(filepath_or_buffer=DATA)\n",
    "df.head()"
   ]
  },
  {
   "cell_type": "code",
   "execution_count": 2,
   "id": "3dd8ef37",
   "metadata": {
    "execution": {
     "iopub.execute_input": "2025-02-19T22:04:04.026969Z",
     "iopub.status.busy": "2025-02-19T22:04:04.026627Z",
     "iopub.status.idle": "2025-02-19T22:04:04.055204Z",
     "shell.execute_reply": "2025-02-19T22:04:04.054066Z"
    },
    "papermill": {
     "duration": 0.033532,
     "end_time": "2025-02-19T22:04:04.057167",
     "exception": false,
     "start_time": "2025-02-19T22:04:04.023635",
     "status": "completed"
    },
    "tags": []
   },
   "outputs": [
    {
     "name": "stdout",
     "output_type": "stream",
     "text": [
      "<class 'pandas.core.frame.DataFrame'>\n",
      "RangeIndex: 1000 entries, 0 to 999\n",
      "Data columns (total 11 columns):\n",
      " #   Column               Non-Null Count  Dtype \n",
      "---  ------               --------------  ----- \n",
      " 0   User_ID              1000 non-null   object\n",
      " 1   User_Text            1000 non-null   object\n",
      " 2   Sentiment_Label      1000 non-null   object\n",
      " 3   Recommended_Song_ID  1000 non-null   object\n",
      " 4   Song_Name            1000 non-null   object\n",
      " 5   Artist               1000 non-null   object\n",
      " 6   Genre                1000 non-null   object\n",
      " 7   Tempo (BPM)          1000 non-null   int64 \n",
      " 8   Mood                 1000 non-null   object\n",
      " 9   Energy               1000 non-null   object\n",
      " 10  Danceability         1000 non-null   object\n",
      "dtypes: int64(1), object(10)\n",
      "memory usage: 86.1+ KB\n"
     ]
    }
   ],
   "source": [
    "df.info()"
   ]
  },
  {
   "cell_type": "code",
   "execution_count": 3,
   "id": "399b5b6d",
   "metadata": {
    "execution": {
     "iopub.execute_input": "2025-02-19T22:04:04.062682Z",
     "iopub.status.busy": "2025-02-19T22:04:04.062326Z",
     "iopub.status.idle": "2025-02-19T22:04:04.076142Z",
     "shell.execute_reply": "2025-02-19T22:04:04.075190Z"
    },
    "papermill": {
     "duration": 0.018113,
     "end_time": "2025-02-19T22:04:04.077623",
     "exception": false,
     "start_time": "2025-02-19T22:04:04.059510",
     "status": "completed"
    },
    "tags": []
   },
   "outputs": [
    {
     "data": {
      "text/html": [
       "<div>\n",
       "<style scoped>\n",
       "    .dataframe tbody tr th:only-of-type {\n",
       "        vertical-align: middle;\n",
       "    }\n",
       "\n",
       "    .dataframe tbody tr th {\n",
       "        vertical-align: top;\n",
       "    }\n",
       "\n",
       "    .dataframe thead th {\n",
       "        text-align: right;\n",
       "    }\n",
       "</style>\n",
       "<table border=\"1\" class=\"dataframe\">\n",
       "  <thead>\n",
       "    <tr style=\"text-align: right;\">\n",
       "      <th></th>\n",
       "      <th>User_ID</th>\n",
       "      <th>User_Text</th>\n",
       "      <th>Sentiment_Label</th>\n",
       "      <th>Recommended_Song_ID</th>\n",
       "      <th>Song_Name</th>\n",
       "      <th>Artist</th>\n",
       "      <th>Genre</th>\n",
       "      <th>Tempo (BPM)</th>\n",
       "      <th>Mood</th>\n",
       "      <th>Energy</th>\n",
       "      <th>Danceability</th>\n",
       "    </tr>\n",
       "  </thead>\n",
       "  <tbody>\n",
       "    <tr>\n",
       "      <th>0</th>\n",
       "      <td>1000</td>\n",
       "      <td>1000</td>\n",
       "      <td>4</td>\n",
       "      <td>1000</td>\n",
       "      <td>8</td>\n",
       "      <td>8</td>\n",
       "      <td>6</td>\n",
       "      <td>8</td>\n",
       "      <td>7</td>\n",
       "      <td>2</td>\n",
       "      <td>3</td>\n",
       "    </tr>\n",
       "  </tbody>\n",
       "</table>\n",
       "</div>"
      ],
      "text/plain": [
       "   User_ID  User_Text  Sentiment_Label  Recommended_Song_ID  Song_Name  \\\n",
       "0     1000       1000                4                 1000          8   \n",
       "\n",
       "   Artist  Genre  Tempo (BPM)  Mood  Energy  Danceability  \n",
       "0       8      6            8     7       2             3  "
      ]
     },
     "execution_count": 3,
     "metadata": {},
     "output_type": "execute_result"
    }
   ],
   "source": [
    "df.nunique().to_frame().T"
   ]
  },
  {
   "cell_type": "code",
   "execution_count": 4,
   "id": "35a4a06a",
   "metadata": {
    "execution": {
     "iopub.execute_input": "2025-02-19T22:04:04.083199Z",
     "iopub.status.busy": "2025-02-19T22:04:04.082912Z",
     "iopub.status.idle": "2025-02-19T22:04:04.088027Z",
     "shell.execute_reply": "2025-02-19T22:04:04.087242Z"
    },
    "papermill": {
     "duration": 0.009391,
     "end_time": "2025-02-19T22:04:04.089407",
     "exception": false,
     "start_time": "2025-02-19T22:04:04.080016",
     "status": "completed"
    },
    "tags": []
   },
   "outputs": [
    {
     "data": {
      "text/plain": [
       "(1000, 11)"
      ]
     },
     "execution_count": 4,
     "metadata": {},
     "output_type": "execute_result"
    }
   ],
   "source": [
    "df.shape"
   ]
  }
 ],
 "metadata": {
  "kaggle": {
   "accelerator": "none",
   "dataSources": [
    {
     "datasetId": 6695694,
     "sourceId": 10789685,
     "sourceType": "datasetVersion"
    }
   ],
   "dockerImageVersionId": 30886,
   "isGpuEnabled": false,
   "isInternetEnabled": true,
   "language": "python",
   "sourceType": "notebook"
  },
  "kernelspec": {
   "display_name": "Python 3",
   "language": "python",
   "name": "python3"
  },
  "language_info": {
   "codemirror_mode": {
    "name": "ipython",
    "version": 3
   },
   "file_extension": ".py",
   "mimetype": "text/x-python",
   "name": "python",
   "nbconvert_exporter": "python",
   "pygments_lexer": "ipython3",
   "version": "3.10.12"
  },
  "papermill": {
   "default_parameters": {},
   "duration": 4.61432,
   "end_time": "2025-02-19T22:04:04.712095",
   "environment_variables": {},
   "exception": null,
   "input_path": "__notebook__.ipynb",
   "output_path": "__notebook__.ipynb",
   "parameters": {},
   "start_time": "2025-02-19T22:04:00.097775",
   "version": "2.6.0"
  }
 },
 "nbformat": 4,
 "nbformat_minor": 5
}
