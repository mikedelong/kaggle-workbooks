{
 "cells": [
  {
   "cell_type": "code",
   "execution_count": 1,
   "id": "0ee6bbb9",
   "metadata": {
    "_cell_guid": "b1076dfc-b9ad-4769-8c92-a6c4dae69d19",
    "_uuid": "8f2839f25d086af736a60e9eeb907d3b93b6e0e5",
    "execution": {
     "iopub.execute_input": "2025-07-22T21:39:44.824632Z",
     "iopub.status.busy": "2025-07-22T21:39:44.824306Z",
     "iopub.status.idle": "2025-07-22T21:39:44.960214Z",
     "shell.execute_reply": "2025-07-22T21:39:44.958762Z"
    },
    "papermill": {
     "duration": 0.142536,
     "end_time": "2025-07-22T21:39:44.963235",
     "exception": false,
     "start_time": "2025-07-22T21:39:44.820699",
     "status": "completed"
    },
    "tags": []
   },
   "outputs": [
    {
     "name": "stdout",
     "output_type": "stream",
     "text": [
      "annotations.csv  images\r\n"
     ]
    }
   ],
   "source": [
    "!ls /kaggle/input/indian-diabetic-retinopathy-image-dataset-idrid2/IDRiD/train/"
   ]
  },
  {
   "cell_type": "code",
   "execution_count": 2,
   "id": "8ad8b7b8",
   "metadata": {
    "execution": {
     "iopub.execute_input": "2025-07-22T21:39:44.973299Z",
     "iopub.status.busy": "2025-07-22T21:39:44.972337Z",
     "iopub.status.idle": "2025-07-22T21:39:46.854248Z",
     "shell.execute_reply": "2025-07-22T21:39:46.853443Z"
    },
    "papermill": {
     "duration": 1.889077,
     "end_time": "2025-07-22T21:39:46.855861",
     "exception": false,
     "start_time": "2025-07-22T21:39:44.966784",
     "status": "completed"
    },
    "tags": []
   },
   "outputs": [],
   "source": [
    "import pandas as pd\n",
    "\n",
    "annotations_df = pd.read_csv(filepath_or_buffer='/kaggle/input/indian-diabetic-retinopathy-image-dataset-idrid2/IDRiD/train/annotations.csv')"
   ]
  },
  {
   "cell_type": "code",
   "execution_count": 3,
   "id": "7b07eda1",
   "metadata": {
    "execution": {
     "iopub.execute_input": "2025-07-22T21:39:46.860724Z",
     "iopub.status.busy": "2025-07-22T21:39:46.860446Z",
     "iopub.status.idle": "2025-07-22T21:39:46.864521Z",
     "shell.execute_reply": "2025-07-22T21:39:46.863809Z"
    },
    "papermill": {
     "duration": 0.007906,
     "end_time": "2025-07-22T21:39:46.865762",
     "exception": false,
     "start_time": "2025-07-22T21:39:46.857856",
     "status": "completed"
    },
    "tags": []
   },
   "outputs": [],
   "source": [
    "TRAIN = '/kaggle/input/indian-diabetic-retinopathy-image-dataset-idrid2/IDRiD/train/images'"
   ]
  },
  {
   "cell_type": "code",
   "execution_count": 4,
   "id": "5cceeaca",
   "metadata": {
    "execution": {
     "iopub.execute_input": "2025-07-22T21:39:46.870331Z",
     "iopub.status.busy": "2025-07-22T21:39:46.870016Z",
     "iopub.status.idle": "2025-07-22T21:39:59.753455Z",
     "shell.execute_reply": "2025-07-22T21:39:59.752598Z"
    },
    "jupyter": {
     "source_hidden": true
    },
    "papermill": {
     "duration": 12.887538,
     "end_time": "2025-07-22T21:39:59.755081",
     "exception": false,
     "start_time": "2025-07-22T21:39:46.867543",
     "status": "completed"
    },
    "tags": []
   },
   "outputs": [
    {
     "name": "stderr",
     "output_type": "stream",
     "text": [
      "Downloading: \"https://download.pytorch.org/models/resnext50_32x4d-1a0047aa.pth\" to /root/.cache/torch/hub/checkpoints/resnext50_32x4d-1a0047aa.pth\n",
      "100%|██████████| 95.8M/95.8M [00:00<00:00, 160MB/s]\n"
     ]
    }
   ],
   "source": [
    "import torch\n",
    "import torchvision.models as models\n",
    "import torchvision.transforms as transforms\n",
    "import numpy as np\n",
    "\n",
    "\n",
    "DEVICE = torch.device('cpu')\n",
    "OUTPUT_SIZE = 2048\n",
    "\n",
    "model = models.resnext50_32x4d(weights=models.ResNeXt50_32X4D_Weights.IMAGENET1K_V2)\n",
    "\n",
    "extraction_layer = model._modules.get('avgpool')\n",
    "model.to(DEVICE)\n",
    "model.eval()\n",
    "\n",
    "scaler = transforms.Resize((224, 224))\n",
    "normalize = transforms.Normalize(mean=[0.485, 0.456, 0.406], std=[0.229, 0.224, 0.225])\n",
    "to_tensor = transforms.ToTensor()\n",
    "\n",
    "def get_vec(arg, model, extraction_layer):\n",
    "    image = normalize(to_tensor(scaler(arg))).unsqueeze(0).to(DEVICE)\n",
    "    result = torch.zeros(1, OUTPUT_SIZE, 1, 1)\n",
    "    def copy_data(m, i, o):\n",
    "        result.copy_(o.data)\n",
    "    hooked = extraction_layer.register_forward_hook(copy_data)\n",
    "    with torch.no_grad():\n",
    "        model(image)\n",
    "    hooked.remove()\n",
    "    return result"
   ]
  }
 ],
 "metadata": {
  "kaggle": {
   "accelerator": "none",
   "dataSources": [
    {
     "datasetId": 7835731,
     "sourceId": 12461332,
     "sourceType": "datasetVersion"
    }
   ],
   "dockerImageVersionId": 31089,
   "isGpuEnabled": false,
   "isInternetEnabled": true,
   "language": "python",
   "sourceType": "notebook"
  },
  "kernelspec": {
   "display_name": "Python 3",
   "language": "python",
   "name": "python3"
  },
  "language_info": {
   "codemirror_mode": {
    "name": "ipython",
    "version": 3
   },
   "file_extension": ".py",
   "mimetype": "text/x-python",
   "name": "python",
   "nbconvert_exporter": "python",
   "pygments_lexer": "ipython3",
   "version": "3.11.13"
  },
  "papermill": {
   "default_parameters": {},
   "duration": 22.771815,
   "end_time": "2025-07-22T21:40:01.682814",
   "environment_variables": {},
   "exception": null,
   "input_path": "__notebook__.ipynb",
   "output_path": "__notebook__.ipynb",
   "parameters": {},
   "start_time": "2025-07-22T21:39:38.910999",
   "version": "2.6.0"
  }
 },
 "nbformat": 4,
 "nbformat_minor": 5
}
