{
 "cells": [
  {
   "cell_type": "code",
   "execution_count": 1,
   "id": "cae35ce1",
   "metadata": {
    "execution": {
     "iopub.execute_input": "2024-02-29T18:48:54.626396Z",
     "iopub.status.busy": "2024-02-29T18:48:54.625973Z",
     "iopub.status.idle": "2024-02-29T18:49:11.227524Z",
     "shell.execute_reply": "2024-02-29T18:49:11.225862Z"
    },
    "papermill": {
     "duration": 16.612241,
     "end_time": "2024-02-29T18:49:11.230443",
     "exception": false,
     "start_time": "2024-02-29T18:48:54.618202",
     "status": "completed"
    },
    "tags": []
   },
   "outputs": [
    {
     "name": "stdout",
     "output_type": "stream",
     "text": [
      "pip install xlrd complete\n"
     ]
    }
   ],
   "source": [
    "!pip install --quiet xlrd\n",
    "print('pip install xlrd complete')"
   ]
  },
  {
   "cell_type": "markdown",
   "id": "9148d6f1",
   "metadata": {
    "papermill": {
     "duration": 0.00535,
     "end_time": "2024-02-29T18:49:11.241409",
     "exception": false,
     "start_time": "2024-02-29T18:49:11.236059",
     "status": "completed"
    },
    "tags": []
   },
   "source": [
    "Only one sheet has something that might be interesting to model: the session sheet, which contains the grades that are rolled up into the final/total grade. Our data is formatted with a header and footer in Excel so we need to do some cleanup. Also we have some missing data, including some missing names."
   ]
  },
  {
   "cell_type": "code",
   "execution_count": 2,
   "id": "2fbe725f",
   "metadata": {
    "_cell_guid": "b1076dfc-b9ad-4769-8c92-a6c4dae69d19",
    "_uuid": "8f2839f25d086af736a60e9eeb907d3b93b6e0e5",
    "execution": {
     "iopub.execute_input": "2024-02-29T18:49:11.255252Z",
     "iopub.status.busy": "2024-02-29T18:49:11.253852Z",
     "iopub.status.idle": "2024-02-29T18:49:13.148892Z",
     "shell.execute_reply": "2024-02-29T18:49:13.147533Z"
    },
    "papermill": {
     "duration": 1.905053,
     "end_time": "2024-02-29T18:49:13.151643",
     "exception": false,
     "start_time": "2024-02-29T18:49:11.246590",
     "status": "completed"
    },
    "tags": []
   },
   "outputs": [
    {
     "data": {
      "text/html": [
       "<div>\n",
       "<style scoped>\n",
       "    .dataframe tbody tr th:only-of-type {\n",
       "        vertical-align: middle;\n",
       "    }\n",
       "\n",
       "    .dataframe tbody tr th {\n",
       "        vertical-align: top;\n",
       "    }\n",
       "\n",
       "    .dataframe thead th {\n",
       "        text-align: right;\n",
       "    }\n",
       "</style>\n",
       "<table border=\"1\" class=\"dataframe\">\n",
       "  <thead>\n",
       "    <tr style=\"text-align: right;\">\n",
       "      <th></th>\n",
       "      <th>roll</th>\n",
       "      <th>name</th>\n",
       "      <th>Q1</th>\n",
       "      <th>Q2</th>\n",
       "      <th>AV1</th>\n",
       "      <th>A1</th>\n",
       "      <th>A2</th>\n",
       "      <th>AV2</th>\n",
       "      <th>M</th>\n",
       "      <th>Total</th>\n",
       "    </tr>\n",
       "  </thead>\n",
       "  <tbody>\n",
       "    <tr>\n",
       "      <th>1</th>\n",
       "      <td>1.0</td>\n",
       "      <td>Ashir Mehfooz</td>\n",
       "      <td>14.0</td>\n",
       "      <td>14.0</td>\n",
       "      <td>14.0</td>\n",
       "      <td>13.0</td>\n",
       "      <td>13.0</td>\n",
       "      <td>13.0</td>\n",
       "      <td>41.0</td>\n",
       "      <td>68.0</td>\n",
       "    </tr>\n",
       "    <tr>\n",
       "      <th>2</th>\n",
       "      <td>2.0</td>\n",
       "      <td>Atif Raftad</td>\n",
       "      <td>4.0</td>\n",
       "      <td>10.0</td>\n",
       "      <td>7.0</td>\n",
       "      <td>4.0</td>\n",
       "      <td>5.0</td>\n",
       "      <td>4.5</td>\n",
       "      <td>30.0</td>\n",
       "      <td>41.5</td>\n",
       "    </tr>\n",
       "    <tr>\n",
       "      <th>3</th>\n",
       "      <td>3.0</td>\n",
       "      <td>Saiqa Aziz</td>\n",
       "      <td>15.0</td>\n",
       "      <td>11.0</td>\n",
       "      <td>13.0</td>\n",
       "      <td>14.0</td>\n",
       "      <td>13.0</td>\n",
       "      <td>13.5</td>\n",
       "      <td>34.0</td>\n",
       "      <td>60.5</td>\n",
       "    </tr>\n",
       "    <tr>\n",
       "      <th>4</th>\n",
       "      <td>8.0</td>\n",
       "      <td>Ozair Minhas</td>\n",
       "      <td>6.0</td>\n",
       "      <td>5.0</td>\n",
       "      <td>5.5</td>\n",
       "      <td>4.0</td>\n",
       "      <td>6.0</td>\n",
       "      <td>5.0</td>\n",
       "      <td>12.0</td>\n",
       "      <td>22.5</td>\n",
       "    </tr>\n",
       "    <tr>\n",
       "      <th>5</th>\n",
       "      <td>9.0</td>\n",
       "      <td>Naveera Subhani</td>\n",
       "      <td>5.0</td>\n",
       "      <td>11.0</td>\n",
       "      <td>8.0</td>\n",
       "      <td>4.0</td>\n",
       "      <td>5.0</td>\n",
       "      <td>4.5</td>\n",
       "      <td>34.0</td>\n",
       "      <td>46.5</td>\n",
       "    </tr>\n",
       "  </tbody>\n",
       "</table>\n",
       "</div>"
      ],
      "text/plain": [
       "   roll             name    Q1    Q2   AV1    A1    A2   AV2     M  Total\n",
       "1   1.0    Ashir Mehfooz  14.0  14.0  14.0  13.0  13.0  13.0  41.0   68.0\n",
       "2   2.0      Atif Raftad   4.0  10.0   7.0   4.0   5.0   4.5  30.0   41.5\n",
       "3   3.0       Saiqa Aziz  15.0  11.0  13.0  14.0  13.0  13.5  34.0   60.5\n",
       "4   8.0     Ozair Minhas   6.0   5.0   5.5   4.0   6.0   5.0  12.0   22.5\n",
       "5   9.0  Naveera Subhani   5.0  11.0   8.0   4.0   5.0   4.5  34.0   46.5"
      ]
     },
     "execution_count": 2,
     "metadata": {},
     "output_type": "execute_result"
    }
   ],
   "source": [
    "import pandas as pd\n",
    "import numpy as np\n",
    "\n",
    "\n",
    "DATA = '/kaggle/input/university-students-marks-sheet/Univeristy_Results.xls'\n",
    "\n",
    "session_df = pd.read_excel(io=DATA, sheet_name='Sessional', engine='xlrd',)\n",
    "session_df.columns = ['roll', 'name', 'Q1', 'Q2', 'AV1', 'A1', 'A2', 'AV2', 'M', 'Total']\n",
    "session_df = session_df[session_df.index != 0].head(216)\n",
    "numeric_columns = [item for item in session_df.columns if item != 'name']\n",
    "session_df['roll'] = session_df['roll'].apply(func=lambda x: x if isinstance(x, float) or isinstance(x, int) or x.strip() == '' else x)\n",
    "for column in numeric_columns:\n",
    "    session_df[column] = session_df[column].apply(func=lambda x: x.strip() if isinstance(x, str) else x)\n",
    "session_df[numeric_columns] = session_df[numeric_columns].replace('', '0').astype(float).fillna(value=0)\n",
    "session_df.head()"
   ]
  },
  {
   "cell_type": "markdown",
   "id": "d9835d28",
   "metadata": {
    "papermill": {
     "duration": 0.005161,
     "end_time": "2024-02-29T18:49:13.162383",
     "exception": false,
     "start_time": "2024-02-29T18:49:13.157222",
     "status": "completed"
    },
    "tags": []
   },
   "source": [
    "It looks like we have two assignments, two quizzes, and two averages, plus a midterm. Let's see what weights we get if we treat all of them as first-order values."
   ]
  },
  {
   "cell_type": "code",
   "execution_count": 3,
   "id": "6bffd0c1",
   "metadata": {
    "execution": {
     "iopub.execute_input": "2024-02-29T18:49:13.175985Z",
     "iopub.status.busy": "2024-02-29T18:49:13.175473Z",
     "iopub.status.idle": "2024-02-29T18:49:14.927792Z",
     "shell.execute_reply": "2024-02-29T18:49:14.926100Z"
    },
    "papermill": {
     "duration": 1.762974,
     "end_time": "2024-02-29T18:49:14.930766",
     "exception": false,
     "start_time": "2024-02-29T18:49:13.167792",
     "status": "completed"
    },
    "tags": []
   },
   "outputs": [
    {
     "name": "stdout",
     "output_type": "stream",
     "text": [
      "r2: 0.9458\n"
     ]
    }
   ],
   "source": [
    "from sklearn.linear_model import LinearRegression\n",
    "from sklearn.model_selection import train_test_split\n",
    "from sklearn.metrics import r2_score\n",
    "\n",
    "scores = ['Q1', 'Q2', 'AV1', 'A1', 'A2', 'AV2', 'M',] \n",
    "X_train, X_test, y_train, y_test = train_test_split(session_df[scores], session_df['Total'], test_size=0.25, random_state=2024)\n",
    "\n",
    "linear = LinearRegression()\n",
    "linear.fit(X_train, y_train)\n",
    "print('r2: {:5.4f}'.format(r2_score(y_true=y_test, y_pred=linear.predict(X_test))))\n"
   ]
  },
  {
   "cell_type": "code",
   "execution_count": 4,
   "id": "cfb60175",
   "metadata": {
    "execution": {
     "iopub.execute_input": "2024-02-29T18:49:14.945365Z",
     "iopub.status.busy": "2024-02-29T18:49:14.944199Z",
     "iopub.status.idle": "2024-02-29T18:49:17.881485Z",
     "shell.execute_reply": "2024-02-29T18:49:17.880311Z"
    },
    "papermill": {
     "duration": 2.947552,
     "end_time": "2024-02-29T18:49:17.884433",
     "exception": false,
     "start_time": "2024-02-29T18:49:14.936881",
     "status": "completed"
    },
    "tags": []
   },
   "outputs": [
    {
     "data": {
      "text/html": [
       "        <script type=\"text/javascript\">\n",
       "        window.PlotlyConfig = {MathJaxConfig: 'local'};\n",
       "        if (window.MathJax && window.MathJax.Hub && window.MathJax.Hub.Config) {window.MathJax.Hub.Config({SVG: {font: \"STIX-Web\"}});}\n",
       "        if (typeof require !== 'undefined') {\n",
       "        require.undef(\"plotly\");\n",
       "        requirejs.config({\n",
       "            paths: {\n",
       "                'plotly': ['https://cdn.plot.ly/plotly-2.27.0.min']\n",
       "            }\n",
       "        });\n",
       "        require(['plotly'], function(Plotly) {\n",
       "            window._Plotly = Plotly;\n",
       "        });\n",
       "        }\n",
       "        </script>\n",
       "        "
      ]
     },
     "metadata": {},
     "output_type": "display_data"
    },
    {
     "data": {
      "text/html": [
       "<div>                            <div id=\"141e548a-62ce-4a9d-9f38-930e39fcc41d\" class=\"plotly-graph-div\" style=\"height:525px; width:100%;\"></div>            <script type=\"text/javascript\">                require([\"plotly\"], function(Plotly) {                    window.PLOTLYENV=window.PLOTLYENV || {};                                    if (document.getElementById(\"141e548a-62ce-4a9d-9f38-930e39fcc41d\")) {                    Plotly.newPlot(                        \"141e548a-62ce-4a9d-9f38-930e39fcc41d\",                        [{\"customdata\":[[0.2937005084156984],[0.32152095046576745],[0.307610729440733],[0.29619059651343776],[0.31976440068417633],[0.30797749859880724],[1.140462682685616]],\"domain\":{\"x\":[0.0,1.0],\"y\":[0.0,1.0]},\"hovertemplate\":\"label=%{label}\\u003cbr\\u003evalue=%{value}\\u003cbr\\u003ecolor=%{customdata[0]}\\u003cextra\\u003e\\u003c\\u002fextra\\u003e\",\"labels\":[\"Q1\",\"Q2\",\"AV1\",\"A1\",\"A2\",\"AV2\",\"M\"],\"legendgroup\":\"\",\"marker\":{\"colors\":[\"#636efa\",\"#EF553B\",\"#00cc96\",\"#ab63fa\",\"#FFA15A\",\"#19d3f3\",\"#FF6692\"]},\"name\":\"\",\"showlegend\":true,\"values\":[0.2937005084156984,0.32152095046576745,0.307610729440733,0.29619059651343776,0.31976440068417633,0.30797749859880724,1.140462682685616],\"type\":\"pie\"}],                        {\"template\":{\"data\":{\"histogram2dcontour\":[{\"type\":\"histogram2dcontour\",\"colorbar\":{\"outlinewidth\":0,\"ticks\":\"\"},\"colorscale\":[[0.0,\"#0d0887\"],[0.1111111111111111,\"#46039f\"],[0.2222222222222222,\"#7201a8\"],[0.3333333333333333,\"#9c179e\"],[0.4444444444444444,\"#bd3786\"],[0.5555555555555556,\"#d8576b\"],[0.6666666666666666,\"#ed7953\"],[0.7777777777777778,\"#fb9f3a\"],[0.8888888888888888,\"#fdca26\"],[1.0,\"#f0f921\"]]}],\"choropleth\":[{\"type\":\"choropleth\",\"colorbar\":{\"outlinewidth\":0,\"ticks\":\"\"}}],\"histogram2d\":[{\"type\":\"histogram2d\",\"colorbar\":{\"outlinewidth\":0,\"ticks\":\"\"},\"colorscale\":[[0.0,\"#0d0887\"],[0.1111111111111111,\"#46039f\"],[0.2222222222222222,\"#7201a8\"],[0.3333333333333333,\"#9c179e\"],[0.4444444444444444,\"#bd3786\"],[0.5555555555555556,\"#d8576b\"],[0.6666666666666666,\"#ed7953\"],[0.7777777777777778,\"#fb9f3a\"],[0.8888888888888888,\"#fdca26\"],[1.0,\"#f0f921\"]]}],\"heatmap\":[{\"type\":\"heatmap\",\"colorbar\":{\"outlinewidth\":0,\"ticks\":\"\"},\"colorscale\":[[0.0,\"#0d0887\"],[0.1111111111111111,\"#46039f\"],[0.2222222222222222,\"#7201a8\"],[0.3333333333333333,\"#9c179e\"],[0.4444444444444444,\"#bd3786\"],[0.5555555555555556,\"#d8576b\"],[0.6666666666666666,\"#ed7953\"],[0.7777777777777778,\"#fb9f3a\"],[0.8888888888888888,\"#fdca26\"],[1.0,\"#f0f921\"]]}],\"heatmapgl\":[{\"type\":\"heatmapgl\",\"colorbar\":{\"outlinewidth\":0,\"ticks\":\"\"},\"colorscale\":[[0.0,\"#0d0887\"],[0.1111111111111111,\"#46039f\"],[0.2222222222222222,\"#7201a8\"],[0.3333333333333333,\"#9c179e\"],[0.4444444444444444,\"#bd3786\"],[0.5555555555555556,\"#d8576b\"],[0.6666666666666666,\"#ed7953\"],[0.7777777777777778,\"#fb9f3a\"],[0.8888888888888888,\"#fdca26\"],[1.0,\"#f0f921\"]]}],\"contourcarpet\":[{\"type\":\"contourcarpet\",\"colorbar\":{\"outlinewidth\":0,\"ticks\":\"\"}}],\"contour\":[{\"type\":\"contour\",\"colorbar\":{\"outlinewidth\":0,\"ticks\":\"\"},\"colorscale\":[[0.0,\"#0d0887\"],[0.1111111111111111,\"#46039f\"],[0.2222222222222222,\"#7201a8\"],[0.3333333333333333,\"#9c179e\"],[0.4444444444444444,\"#bd3786\"],[0.5555555555555556,\"#d8576b\"],[0.6666666666666666,\"#ed7953\"],[0.7777777777777778,\"#fb9f3a\"],[0.8888888888888888,\"#fdca26\"],[1.0,\"#f0f921\"]]}],\"surface\":[{\"type\":\"surface\",\"colorbar\":{\"outlinewidth\":0,\"ticks\":\"\"},\"colorscale\":[[0.0,\"#0d0887\"],[0.1111111111111111,\"#46039f\"],[0.2222222222222222,\"#7201a8\"],[0.3333333333333333,\"#9c179e\"],[0.4444444444444444,\"#bd3786\"],[0.5555555555555556,\"#d8576b\"],[0.6666666666666666,\"#ed7953\"],[0.7777777777777778,\"#fb9f3a\"],[0.8888888888888888,\"#fdca26\"],[1.0,\"#f0f921\"]]}],\"mesh3d\":[{\"type\":\"mesh3d\",\"colorbar\":{\"outlinewidth\":0,\"ticks\":\"\"}}],\"scatter\":[{\"fillpattern\":{\"fillmode\":\"overlay\",\"size\":10,\"solidity\":0.2},\"type\":\"scatter\"}],\"parcoords\":[{\"type\":\"parcoords\",\"line\":{\"colorbar\":{\"outlinewidth\":0,\"ticks\":\"\"}}}],\"scatterpolargl\":[{\"type\":\"scatterpolargl\",\"marker\":{\"colorbar\":{\"outlinewidth\":0,\"ticks\":\"\"}}}],\"bar\":[{\"error_x\":{\"color\":\"#2a3f5f\"},\"error_y\":{\"color\":\"#2a3f5f\"},\"marker\":{\"line\":{\"color\":\"#E5ECF6\",\"width\":0.5},\"pattern\":{\"fillmode\":\"overlay\",\"size\":10,\"solidity\":0.2}},\"type\":\"bar\"}],\"scattergeo\":[{\"type\":\"scattergeo\",\"marker\":{\"colorbar\":{\"outlinewidth\":0,\"ticks\":\"\"}}}],\"scatterpolar\":[{\"type\":\"scatterpolar\",\"marker\":{\"colorbar\":{\"outlinewidth\":0,\"ticks\":\"\"}}}],\"histogram\":[{\"marker\":{\"pattern\":{\"fillmode\":\"overlay\",\"size\":10,\"solidity\":0.2}},\"type\":\"histogram\"}],\"scattergl\":[{\"type\":\"scattergl\",\"marker\":{\"colorbar\":{\"outlinewidth\":0,\"ticks\":\"\"}}}],\"scatter3d\":[{\"type\":\"scatter3d\",\"line\":{\"colorbar\":{\"outlinewidth\":0,\"ticks\":\"\"}},\"marker\":{\"colorbar\":{\"outlinewidth\":0,\"ticks\":\"\"}}}],\"scattermapbox\":[{\"type\":\"scattermapbox\",\"marker\":{\"colorbar\":{\"outlinewidth\":0,\"ticks\":\"\"}}}],\"scatterternary\":[{\"type\":\"scatterternary\",\"marker\":{\"colorbar\":{\"outlinewidth\":0,\"ticks\":\"\"}}}],\"scattercarpet\":[{\"type\":\"scattercarpet\",\"marker\":{\"colorbar\":{\"outlinewidth\":0,\"ticks\":\"\"}}}],\"carpet\":[{\"aaxis\":{\"endlinecolor\":\"#2a3f5f\",\"gridcolor\":\"white\",\"linecolor\":\"white\",\"minorgridcolor\":\"white\",\"startlinecolor\":\"#2a3f5f\"},\"baxis\":{\"endlinecolor\":\"#2a3f5f\",\"gridcolor\":\"white\",\"linecolor\":\"white\",\"minorgridcolor\":\"white\",\"startlinecolor\":\"#2a3f5f\"},\"type\":\"carpet\"}],\"table\":[{\"cells\":{\"fill\":{\"color\":\"#EBF0F8\"},\"line\":{\"color\":\"white\"}},\"header\":{\"fill\":{\"color\":\"#C8D4E3\"},\"line\":{\"color\":\"white\"}},\"type\":\"table\"}],\"barpolar\":[{\"marker\":{\"line\":{\"color\":\"#E5ECF6\",\"width\":0.5},\"pattern\":{\"fillmode\":\"overlay\",\"size\":10,\"solidity\":0.2}},\"type\":\"barpolar\"}],\"pie\":[{\"automargin\":true,\"type\":\"pie\"}]},\"layout\":{\"autotypenumbers\":\"strict\",\"colorway\":[\"#636efa\",\"#EF553B\",\"#00cc96\",\"#ab63fa\",\"#FFA15A\",\"#19d3f3\",\"#FF6692\",\"#B6E880\",\"#FF97FF\",\"#FECB52\"],\"font\":{\"color\":\"#2a3f5f\"},\"hovermode\":\"closest\",\"hoverlabel\":{\"align\":\"left\"},\"paper_bgcolor\":\"white\",\"plot_bgcolor\":\"#E5ECF6\",\"polar\":{\"bgcolor\":\"#E5ECF6\",\"angularaxis\":{\"gridcolor\":\"white\",\"linecolor\":\"white\",\"ticks\":\"\"},\"radialaxis\":{\"gridcolor\":\"white\",\"linecolor\":\"white\",\"ticks\":\"\"}},\"ternary\":{\"bgcolor\":\"#E5ECF6\",\"aaxis\":{\"gridcolor\":\"white\",\"linecolor\":\"white\",\"ticks\":\"\"},\"baxis\":{\"gridcolor\":\"white\",\"linecolor\":\"white\",\"ticks\":\"\"},\"caxis\":{\"gridcolor\":\"white\",\"linecolor\":\"white\",\"ticks\":\"\"}},\"coloraxis\":{\"colorbar\":{\"outlinewidth\":0,\"ticks\":\"\"}},\"colorscale\":{\"sequential\":[[0.0,\"#0d0887\"],[0.1111111111111111,\"#46039f\"],[0.2222222222222222,\"#7201a8\"],[0.3333333333333333,\"#9c179e\"],[0.4444444444444444,\"#bd3786\"],[0.5555555555555556,\"#d8576b\"],[0.6666666666666666,\"#ed7953\"],[0.7777777777777778,\"#fb9f3a\"],[0.8888888888888888,\"#fdca26\"],[1.0,\"#f0f921\"]],\"sequentialminus\":[[0.0,\"#0d0887\"],[0.1111111111111111,\"#46039f\"],[0.2222222222222222,\"#7201a8\"],[0.3333333333333333,\"#9c179e\"],[0.4444444444444444,\"#bd3786\"],[0.5555555555555556,\"#d8576b\"],[0.6666666666666666,\"#ed7953\"],[0.7777777777777778,\"#fb9f3a\"],[0.8888888888888888,\"#fdca26\"],[1.0,\"#f0f921\"]],\"diverging\":[[0,\"#8e0152\"],[0.1,\"#c51b7d\"],[0.2,\"#de77ae\"],[0.3,\"#f1b6da\"],[0.4,\"#fde0ef\"],[0.5,\"#f7f7f7\"],[0.6,\"#e6f5d0\"],[0.7,\"#b8e186\"],[0.8,\"#7fbc41\"],[0.9,\"#4d9221\"],[1,\"#276419\"]]},\"xaxis\":{\"gridcolor\":\"white\",\"linecolor\":\"white\",\"ticks\":\"\",\"title\":{\"standoff\":15},\"zerolinecolor\":\"white\",\"automargin\":true,\"zerolinewidth\":2},\"yaxis\":{\"gridcolor\":\"white\",\"linecolor\":\"white\",\"ticks\":\"\",\"title\":{\"standoff\":15},\"zerolinecolor\":\"white\",\"automargin\":true,\"zerolinewidth\":2},\"scene\":{\"xaxis\":{\"backgroundcolor\":\"#E5ECF6\",\"gridcolor\":\"white\",\"linecolor\":\"white\",\"showbackground\":true,\"ticks\":\"\",\"zerolinecolor\":\"white\",\"gridwidth\":2},\"yaxis\":{\"backgroundcolor\":\"#E5ECF6\",\"gridcolor\":\"white\",\"linecolor\":\"white\",\"showbackground\":true,\"ticks\":\"\",\"zerolinecolor\":\"white\",\"gridwidth\":2},\"zaxis\":{\"backgroundcolor\":\"#E5ECF6\",\"gridcolor\":\"white\",\"linecolor\":\"white\",\"showbackground\":true,\"ticks\":\"\",\"zerolinecolor\":\"white\",\"gridwidth\":2}},\"shapedefaults\":{\"line\":{\"color\":\"#2a3f5f\"}},\"annotationdefaults\":{\"arrowcolor\":\"#2a3f5f\",\"arrowhead\":0,\"arrowwidth\":1},\"geo\":{\"bgcolor\":\"white\",\"landcolor\":\"#E5ECF6\",\"subunitcolor\":\"white\",\"showland\":true,\"showlakes\":true,\"lakecolor\":\"white\"},\"title\":{\"x\":0.05},\"mapbox\":{\"style\":\"light\"}}},\"legend\":{\"tracegroupgap\":0},\"margin\":{\"t\":60}},                        {\"responsive\": true}                    ).then(function(){\n",
       "                            \n",
       "var gd = document.getElementById('141e548a-62ce-4a9d-9f38-930e39fcc41d');\n",
       "var x = new MutationObserver(function (mutations, observer) {{\n",
       "        var display = window.getComputedStyle(gd).display;\n",
       "        if (!display || display === 'none') {{\n",
       "            console.log([gd, 'removed!']);\n",
       "            Plotly.purge(gd);\n",
       "            observer.disconnect();\n",
       "        }}\n",
       "}});\n",
       "\n",
       "// Listen for the removal of the full notebook cells\n",
       "var notebookContainer = gd.closest('#notebook-container');\n",
       "if (notebookContainer) {{\n",
       "    x.observe(notebookContainer, {childList: true});\n",
       "}}\n",
       "\n",
       "// Listen for the clearing of the current output cell\n",
       "var outputEl = gd.closest('.output');\n",
       "if (outputEl) {{\n",
       "    x.observe(outputEl, {childList: true});\n",
       "}}\n",
       "\n",
       "                        })                };                });            </script>        </div>"
      ]
     },
     "metadata": {},
     "output_type": "display_data"
    }
   ],
   "source": [
    "from plotly.express import pie\n",
    "pie(names=scores, values=linear.coef_, color=linear.coef_)"
   ]
  },
  {
   "cell_type": "markdown",
   "id": "03035a3c",
   "metadata": {
    "papermill": {
     "duration": 0.005939,
     "end_time": "2024-02-29T18:49:17.897110",
     "exception": false,
     "start_time": "2024-02-29T18:49:17.891171",
     "status": "completed"
    },
    "tags": []
   },
   "source": [
    "Now let's try again and ignore the averages, as they are extraneous in that they are completely determined once we know the assignment and quiz scores."
   ]
  },
  {
   "cell_type": "code",
   "execution_count": 5,
   "id": "e315743a",
   "metadata": {
    "execution": {
     "iopub.execute_input": "2024-02-29T18:49:17.912505Z",
     "iopub.status.busy": "2024-02-29T18:49:17.912061Z",
     "iopub.status.idle": "2024-02-29T18:49:17.988826Z",
     "shell.execute_reply": "2024-02-29T18:49:17.987196Z"
    },
    "papermill": {
     "duration": 0.087709,
     "end_time": "2024-02-29T18:49:17.991424",
     "exception": false,
     "start_time": "2024-02-29T18:49:17.903715",
     "status": "completed"
    },
    "tags": []
   },
   "outputs": [
    {
     "name": "stdout",
     "output_type": "stream",
     "text": [
      "r2: 0.9458\n"
     ]
    },
    {
     "data": {
      "text/html": [
       "<div>                            <div id=\"a2234712-451c-494d-80e0-cf17fe3d7a23\" class=\"plotly-graph-div\" style=\"height:525px; width:100%;\"></div>            <script type=\"text/javascript\">                require([\"plotly\"], function(Plotly) {                    window.PLOTLYENV=window.PLOTLYENV || {};                                    if (document.getElementById(\"a2234712-451c-494d-80e0-cf17fe3d7a23\")) {                    Plotly.newPlot(                        \"a2234712-451c-494d-80e0-cf17fe3d7a23\",                        [{\"customdata\":[[0.4475058731360646],[0.47532631518613666],[0.45017934581284225],[0.4737531499835801],[1.1404626826856157]],\"domain\":{\"x\":[0.0,1.0],\"y\":[0.0,1.0]},\"hovertemplate\":\"label=%{label}\\u003cbr\\u003evalue=%{value}\\u003cbr\\u003ecolor=%{customdata[0]}\\u003cextra\\u003e\\u003c\\u002fextra\\u003e\",\"labels\":[\"Q1\",\"Q2\",\"A1\",\"A2\",\"M\"],\"legendgroup\":\"\",\"marker\":{\"colors\":[\"#636efa\",\"#EF553B\",\"#00cc96\",\"#ab63fa\",\"#FFA15A\"]},\"name\":\"\",\"showlegend\":true,\"values\":[0.4475058731360646,0.47532631518613666,0.45017934581284225,0.4737531499835801,1.1404626826856157],\"type\":\"pie\"}],                        {\"template\":{\"data\":{\"histogram2dcontour\":[{\"type\":\"histogram2dcontour\",\"colorbar\":{\"outlinewidth\":0,\"ticks\":\"\"},\"colorscale\":[[0.0,\"#0d0887\"],[0.1111111111111111,\"#46039f\"],[0.2222222222222222,\"#7201a8\"],[0.3333333333333333,\"#9c179e\"],[0.4444444444444444,\"#bd3786\"],[0.5555555555555556,\"#d8576b\"],[0.6666666666666666,\"#ed7953\"],[0.7777777777777778,\"#fb9f3a\"],[0.8888888888888888,\"#fdca26\"],[1.0,\"#f0f921\"]]}],\"choropleth\":[{\"type\":\"choropleth\",\"colorbar\":{\"outlinewidth\":0,\"ticks\":\"\"}}],\"histogram2d\":[{\"type\":\"histogram2d\",\"colorbar\":{\"outlinewidth\":0,\"ticks\":\"\"},\"colorscale\":[[0.0,\"#0d0887\"],[0.1111111111111111,\"#46039f\"],[0.2222222222222222,\"#7201a8\"],[0.3333333333333333,\"#9c179e\"],[0.4444444444444444,\"#bd3786\"],[0.5555555555555556,\"#d8576b\"],[0.6666666666666666,\"#ed7953\"],[0.7777777777777778,\"#fb9f3a\"],[0.8888888888888888,\"#fdca26\"],[1.0,\"#f0f921\"]]}],\"heatmap\":[{\"type\":\"heatmap\",\"colorbar\":{\"outlinewidth\":0,\"ticks\":\"\"},\"colorscale\":[[0.0,\"#0d0887\"],[0.1111111111111111,\"#46039f\"],[0.2222222222222222,\"#7201a8\"],[0.3333333333333333,\"#9c179e\"],[0.4444444444444444,\"#bd3786\"],[0.5555555555555556,\"#d8576b\"],[0.6666666666666666,\"#ed7953\"],[0.7777777777777778,\"#fb9f3a\"],[0.8888888888888888,\"#fdca26\"],[1.0,\"#f0f921\"]]}],\"heatmapgl\":[{\"type\":\"heatmapgl\",\"colorbar\":{\"outlinewidth\":0,\"ticks\":\"\"},\"colorscale\":[[0.0,\"#0d0887\"],[0.1111111111111111,\"#46039f\"],[0.2222222222222222,\"#7201a8\"],[0.3333333333333333,\"#9c179e\"],[0.4444444444444444,\"#bd3786\"],[0.5555555555555556,\"#d8576b\"],[0.6666666666666666,\"#ed7953\"],[0.7777777777777778,\"#fb9f3a\"],[0.8888888888888888,\"#fdca26\"],[1.0,\"#f0f921\"]]}],\"contourcarpet\":[{\"type\":\"contourcarpet\",\"colorbar\":{\"outlinewidth\":0,\"ticks\":\"\"}}],\"contour\":[{\"type\":\"contour\",\"colorbar\":{\"outlinewidth\":0,\"ticks\":\"\"},\"colorscale\":[[0.0,\"#0d0887\"],[0.1111111111111111,\"#46039f\"],[0.2222222222222222,\"#7201a8\"],[0.3333333333333333,\"#9c179e\"],[0.4444444444444444,\"#bd3786\"],[0.5555555555555556,\"#d8576b\"],[0.6666666666666666,\"#ed7953\"],[0.7777777777777778,\"#fb9f3a\"],[0.8888888888888888,\"#fdca26\"],[1.0,\"#f0f921\"]]}],\"surface\":[{\"type\":\"surface\",\"colorbar\":{\"outlinewidth\":0,\"ticks\":\"\"},\"colorscale\":[[0.0,\"#0d0887\"],[0.1111111111111111,\"#46039f\"],[0.2222222222222222,\"#7201a8\"],[0.3333333333333333,\"#9c179e\"],[0.4444444444444444,\"#bd3786\"],[0.5555555555555556,\"#d8576b\"],[0.6666666666666666,\"#ed7953\"],[0.7777777777777778,\"#fb9f3a\"],[0.8888888888888888,\"#fdca26\"],[1.0,\"#f0f921\"]]}],\"mesh3d\":[{\"type\":\"mesh3d\",\"colorbar\":{\"outlinewidth\":0,\"ticks\":\"\"}}],\"scatter\":[{\"fillpattern\":{\"fillmode\":\"overlay\",\"size\":10,\"solidity\":0.2},\"type\":\"scatter\"}],\"parcoords\":[{\"type\":\"parcoords\",\"line\":{\"colorbar\":{\"outlinewidth\":0,\"ticks\":\"\"}}}],\"scatterpolargl\":[{\"type\":\"scatterpolargl\",\"marker\":{\"colorbar\":{\"outlinewidth\":0,\"ticks\":\"\"}}}],\"bar\":[{\"error_x\":{\"color\":\"#2a3f5f\"},\"error_y\":{\"color\":\"#2a3f5f\"},\"marker\":{\"line\":{\"color\":\"#E5ECF6\",\"width\":0.5},\"pattern\":{\"fillmode\":\"overlay\",\"size\":10,\"solidity\":0.2}},\"type\":\"bar\"}],\"scattergeo\":[{\"type\":\"scattergeo\",\"marker\":{\"colorbar\":{\"outlinewidth\":0,\"ticks\":\"\"}}}],\"scatterpolar\":[{\"type\":\"scatterpolar\",\"marker\":{\"colorbar\":{\"outlinewidth\":0,\"ticks\":\"\"}}}],\"histogram\":[{\"marker\":{\"pattern\":{\"fillmode\":\"overlay\",\"size\":10,\"solidity\":0.2}},\"type\":\"histogram\"}],\"scattergl\":[{\"type\":\"scattergl\",\"marker\":{\"colorbar\":{\"outlinewidth\":0,\"ticks\":\"\"}}}],\"scatter3d\":[{\"type\":\"scatter3d\",\"line\":{\"colorbar\":{\"outlinewidth\":0,\"ticks\":\"\"}},\"marker\":{\"colorbar\":{\"outlinewidth\":0,\"ticks\":\"\"}}}],\"scattermapbox\":[{\"type\":\"scattermapbox\",\"marker\":{\"colorbar\":{\"outlinewidth\":0,\"ticks\":\"\"}}}],\"scatterternary\":[{\"type\":\"scatterternary\",\"marker\":{\"colorbar\":{\"outlinewidth\":0,\"ticks\":\"\"}}}],\"scattercarpet\":[{\"type\":\"scattercarpet\",\"marker\":{\"colorbar\":{\"outlinewidth\":0,\"ticks\":\"\"}}}],\"carpet\":[{\"aaxis\":{\"endlinecolor\":\"#2a3f5f\",\"gridcolor\":\"white\",\"linecolor\":\"white\",\"minorgridcolor\":\"white\",\"startlinecolor\":\"#2a3f5f\"},\"baxis\":{\"endlinecolor\":\"#2a3f5f\",\"gridcolor\":\"white\",\"linecolor\":\"white\",\"minorgridcolor\":\"white\",\"startlinecolor\":\"#2a3f5f\"},\"type\":\"carpet\"}],\"table\":[{\"cells\":{\"fill\":{\"color\":\"#EBF0F8\"},\"line\":{\"color\":\"white\"}},\"header\":{\"fill\":{\"color\":\"#C8D4E3\"},\"line\":{\"color\":\"white\"}},\"type\":\"table\"}],\"barpolar\":[{\"marker\":{\"line\":{\"color\":\"#E5ECF6\",\"width\":0.5},\"pattern\":{\"fillmode\":\"overlay\",\"size\":10,\"solidity\":0.2}},\"type\":\"barpolar\"}],\"pie\":[{\"automargin\":true,\"type\":\"pie\"}]},\"layout\":{\"autotypenumbers\":\"strict\",\"colorway\":[\"#636efa\",\"#EF553B\",\"#00cc96\",\"#ab63fa\",\"#FFA15A\",\"#19d3f3\",\"#FF6692\",\"#B6E880\",\"#FF97FF\",\"#FECB52\"],\"font\":{\"color\":\"#2a3f5f\"},\"hovermode\":\"closest\",\"hoverlabel\":{\"align\":\"left\"},\"paper_bgcolor\":\"white\",\"plot_bgcolor\":\"#E5ECF6\",\"polar\":{\"bgcolor\":\"#E5ECF6\",\"angularaxis\":{\"gridcolor\":\"white\",\"linecolor\":\"white\",\"ticks\":\"\"},\"radialaxis\":{\"gridcolor\":\"white\",\"linecolor\":\"white\",\"ticks\":\"\"}},\"ternary\":{\"bgcolor\":\"#E5ECF6\",\"aaxis\":{\"gridcolor\":\"white\",\"linecolor\":\"white\",\"ticks\":\"\"},\"baxis\":{\"gridcolor\":\"white\",\"linecolor\":\"white\",\"ticks\":\"\"},\"caxis\":{\"gridcolor\":\"white\",\"linecolor\":\"white\",\"ticks\":\"\"}},\"coloraxis\":{\"colorbar\":{\"outlinewidth\":0,\"ticks\":\"\"}},\"colorscale\":{\"sequential\":[[0.0,\"#0d0887\"],[0.1111111111111111,\"#46039f\"],[0.2222222222222222,\"#7201a8\"],[0.3333333333333333,\"#9c179e\"],[0.4444444444444444,\"#bd3786\"],[0.5555555555555556,\"#d8576b\"],[0.6666666666666666,\"#ed7953\"],[0.7777777777777778,\"#fb9f3a\"],[0.8888888888888888,\"#fdca26\"],[1.0,\"#f0f921\"]],\"sequentialminus\":[[0.0,\"#0d0887\"],[0.1111111111111111,\"#46039f\"],[0.2222222222222222,\"#7201a8\"],[0.3333333333333333,\"#9c179e\"],[0.4444444444444444,\"#bd3786\"],[0.5555555555555556,\"#d8576b\"],[0.6666666666666666,\"#ed7953\"],[0.7777777777777778,\"#fb9f3a\"],[0.8888888888888888,\"#fdca26\"],[1.0,\"#f0f921\"]],\"diverging\":[[0,\"#8e0152\"],[0.1,\"#c51b7d\"],[0.2,\"#de77ae\"],[0.3,\"#f1b6da\"],[0.4,\"#fde0ef\"],[0.5,\"#f7f7f7\"],[0.6,\"#e6f5d0\"],[0.7,\"#b8e186\"],[0.8,\"#7fbc41\"],[0.9,\"#4d9221\"],[1,\"#276419\"]]},\"xaxis\":{\"gridcolor\":\"white\",\"linecolor\":\"white\",\"ticks\":\"\",\"title\":{\"standoff\":15},\"zerolinecolor\":\"white\",\"automargin\":true,\"zerolinewidth\":2},\"yaxis\":{\"gridcolor\":\"white\",\"linecolor\":\"white\",\"ticks\":\"\",\"title\":{\"standoff\":15},\"zerolinecolor\":\"white\",\"automargin\":true,\"zerolinewidth\":2},\"scene\":{\"xaxis\":{\"backgroundcolor\":\"#E5ECF6\",\"gridcolor\":\"white\",\"linecolor\":\"white\",\"showbackground\":true,\"ticks\":\"\",\"zerolinecolor\":\"white\",\"gridwidth\":2},\"yaxis\":{\"backgroundcolor\":\"#E5ECF6\",\"gridcolor\":\"white\",\"linecolor\":\"white\",\"showbackground\":true,\"ticks\":\"\",\"zerolinecolor\":\"white\",\"gridwidth\":2},\"zaxis\":{\"backgroundcolor\":\"#E5ECF6\",\"gridcolor\":\"white\",\"linecolor\":\"white\",\"showbackground\":true,\"ticks\":\"\",\"zerolinecolor\":\"white\",\"gridwidth\":2}},\"shapedefaults\":{\"line\":{\"color\":\"#2a3f5f\"}},\"annotationdefaults\":{\"arrowcolor\":\"#2a3f5f\",\"arrowhead\":0,\"arrowwidth\":1},\"geo\":{\"bgcolor\":\"white\",\"landcolor\":\"#E5ECF6\",\"subunitcolor\":\"white\",\"showland\":true,\"showlakes\":true,\"lakecolor\":\"white\"},\"title\":{\"x\":0.05},\"mapbox\":{\"style\":\"light\"}}},\"legend\":{\"tracegroupgap\":0},\"margin\":{\"t\":60}},                        {\"responsive\": true}                    ).then(function(){\n",
       "                            \n",
       "var gd = document.getElementById('a2234712-451c-494d-80e0-cf17fe3d7a23');\n",
       "var x = new MutationObserver(function (mutations, observer) {{\n",
       "        var display = window.getComputedStyle(gd).display;\n",
       "        if (!display || display === 'none') {{\n",
       "            console.log([gd, 'removed!']);\n",
       "            Plotly.purge(gd);\n",
       "            observer.disconnect();\n",
       "        }}\n",
       "}});\n",
       "\n",
       "// Listen for the removal of the full notebook cells\n",
       "var notebookContainer = gd.closest('#notebook-container');\n",
       "if (notebookContainer) {{\n",
       "    x.observe(notebookContainer, {childList: true});\n",
       "}}\n",
       "\n",
       "// Listen for the clearing of the current output cell\n",
       "var outputEl = gd.closest('.output');\n",
       "if (outputEl) {{\n",
       "    x.observe(outputEl, {childList: true});\n",
       "}}\n",
       "\n",
       "                        })                };                });            </script>        </div>"
      ]
     },
     "metadata": {},
     "output_type": "display_data"
    }
   ],
   "source": [
    "from sklearn.linear_model import LinearRegression\n",
    "from sklearn.model_selection import train_test_split\n",
    "from sklearn.metrics import r2_score\n",
    "from plotly.express import pie\n",
    "\n",
    "no_averages = ['Q1', 'Q2', 'A1', 'A2', 'M',] \n",
    "X_train, X_test, y_train, y_test = train_test_split(session_df[no_averages], session_df['Total'], test_size=0.25, random_state=2024)\n",
    "\n",
    "linear_no_avg = LinearRegression()\n",
    "linear_no_avg.fit(X_train, y_train)\n",
    "print('r2: {:5.4f}'.format(r2_score(y_true=y_test, y_pred=linear_no_avg.predict(X_test))))\n",
    "pie(names=no_averages, values=linear_no_avg.coef_, color=linear_no_avg.coef_).show()"
   ]
  },
  {
   "cell_type": "markdown",
   "id": "e1339bb2",
   "metadata": {
    "papermill": {
     "duration": 0.006331,
     "end_time": "2024-02-29T18:49:18.004413",
     "exception": false,
     "start_time": "2024-02-29T18:49:17.998082",
     "status": "completed"
    },
    "tags": []
   },
   "source": [
    "This seems more plausible as it looks like the two assignments and the two quizzes are weighted 15% each and the midterm is 40%. Where are the errors coming from? Probably from two sources:\n",
    "* We have filled in missing values with zeros and that may or may not be correct\n",
    "* Points have been reported in half-point increments, which introduces some rounding error\n",
    "* Some students apparently withdrew and got zero total scores while having nonzero assignment/quiz scores\n"
   ]
  },
  {
   "cell_type": "code",
   "execution_count": 6,
   "id": "1ed9c9e0",
   "metadata": {
    "execution": {
     "iopub.execute_input": "2024-02-29T18:49:18.020680Z",
     "iopub.status.busy": "2024-02-29T18:49:18.020284Z",
     "iopub.status.idle": "2024-02-29T18:49:18.052063Z",
     "shell.execute_reply": "2024-02-29T18:49:18.050431Z"
    },
    "papermill": {
     "duration": 0.043044,
     "end_time": "2024-02-29T18:49:18.054772",
     "exception": false,
     "start_time": "2024-02-29T18:49:18.011728",
     "status": "completed"
    },
    "tags": []
   },
   "outputs": [
    {
     "data": {
      "text/html": [
       "<div>\n",
       "<style scoped>\n",
       "    .dataframe tbody tr th:only-of-type {\n",
       "        vertical-align: middle;\n",
       "    }\n",
       "\n",
       "    .dataframe tbody tr th {\n",
       "        vertical-align: top;\n",
       "    }\n",
       "\n",
       "    .dataframe thead th {\n",
       "        text-align: right;\n",
       "    }\n",
       "</style>\n",
       "<table border=\"1\" class=\"dataframe\">\n",
       "  <thead>\n",
       "    <tr style=\"text-align: right;\">\n",
       "      <th></th>\n",
       "      <th>roll</th>\n",
       "      <th>name</th>\n",
       "      <th>Q1</th>\n",
       "      <th>Q2</th>\n",
       "      <th>AV1</th>\n",
       "      <th>A1</th>\n",
       "      <th>A2</th>\n",
       "      <th>AV2</th>\n",
       "      <th>M</th>\n",
       "      <th>Total</th>\n",
       "    </tr>\n",
       "  </thead>\n",
       "  <tbody>\n",
       "    <tr>\n",
       "      <th>7</th>\n",
       "      <td>11.0</td>\n",
       "      <td>Seher Ishtiaq</td>\n",
       "      <td>12.0</td>\n",
       "      <td>12.0</td>\n",
       "      <td>12.0</td>\n",
       "      <td>13.0</td>\n",
       "      <td>12.0</td>\n",
       "      <td>12.5</td>\n",
       "      <td>0.0</td>\n",
       "      <td>0.0</td>\n",
       "    </tr>\n",
       "    <tr>\n",
       "      <th>13</th>\n",
       "      <td>18.0</td>\n",
       "      <td>Ahmed Ali</td>\n",
       "      <td>13.0</td>\n",
       "      <td>14.0</td>\n",
       "      <td>13.5</td>\n",
       "      <td>7.0</td>\n",
       "      <td>14.0</td>\n",
       "      <td>10.5</td>\n",
       "      <td>0.0</td>\n",
       "      <td>0.0</td>\n",
       "    </tr>\n",
       "    <tr>\n",
       "      <th>27</th>\n",
       "      <td>33.0</td>\n",
       "      <td>Muhammad Ishtiaq</td>\n",
       "      <td>6.0</td>\n",
       "      <td>13.0</td>\n",
       "      <td>9.5</td>\n",
       "      <td>0.0</td>\n",
       "      <td>6.0</td>\n",
       "      <td>3.0</td>\n",
       "      <td>0.0</td>\n",
       "      <td>0.0</td>\n",
       "    </tr>\n",
       "    <tr>\n",
       "      <th>38</th>\n",
       "      <td>0.0</td>\n",
       "      <td>Aslam Ch</td>\n",
       "      <td>14.0</td>\n",
       "      <td>2.0</td>\n",
       "      <td>8.0</td>\n",
       "      <td>13.0</td>\n",
       "      <td>4.0</td>\n",
       "      <td>8.5</td>\n",
       "      <td>0.0</td>\n",
       "      <td>0.0</td>\n",
       "    </tr>\n",
       "    <tr>\n",
       "      <th>61</th>\n",
       "      <td>0.0</td>\n",
       "      <td>Talha</td>\n",
       "      <td>5.0</td>\n",
       "      <td>3.0</td>\n",
       "      <td>4.0</td>\n",
       "      <td>13.0</td>\n",
       "      <td>2.0</td>\n",
       "      <td>7.5</td>\n",
       "      <td>0.0</td>\n",
       "      <td>0.0</td>\n",
       "    </tr>\n",
       "    <tr>\n",
       "      <th>76</th>\n",
       "      <td>82.0</td>\n",
       "      <td>Büşra</td>\n",
       "      <td>9.0</td>\n",
       "      <td>1.0</td>\n",
       "      <td>5.0</td>\n",
       "      <td>14.0</td>\n",
       "      <td>0.0</td>\n",
       "      <td>7.0</td>\n",
       "      <td>0.0</td>\n",
       "      <td>0.0</td>\n",
       "    </tr>\n",
       "    <tr>\n",
       "      <th>100</th>\n",
       "      <td>106.0</td>\n",
       "      <td>James Miller</td>\n",
       "      <td>14.0</td>\n",
       "      <td>15.0</td>\n",
       "      <td>14.5</td>\n",
       "      <td>4.0</td>\n",
       "      <td>14.0</td>\n",
       "      <td>9.0</td>\n",
       "      <td>0.0</td>\n",
       "      <td>0.0</td>\n",
       "    </tr>\n",
       "    <tr>\n",
       "      <th>125</th>\n",
       "      <td>131.0</td>\n",
       "      <td>Yusuf</td>\n",
       "      <td>4.0</td>\n",
       "      <td>6.0</td>\n",
       "      <td>5.0</td>\n",
       "      <td>13.0</td>\n",
       "      <td>2.0</td>\n",
       "      <td>7.5</td>\n",
       "      <td>0.0</td>\n",
       "      <td>0.0</td>\n",
       "    </tr>\n",
       "    <tr>\n",
       "      <th>155</th>\n",
       "      <td>161.0</td>\n",
       "      <td>Fadi Nabil</td>\n",
       "      <td>13.0</td>\n",
       "      <td>5.0</td>\n",
       "      <td>9.0</td>\n",
       "      <td>13.0</td>\n",
       "      <td>5.0</td>\n",
       "      <td>9.0</td>\n",
       "      <td>0.0</td>\n",
       "      <td>0.0</td>\n",
       "    </tr>\n",
       "    <tr>\n",
       "      <th>179</th>\n",
       "      <td>185.0</td>\n",
       "      <td>Erkan</td>\n",
       "      <td>4.0</td>\n",
       "      <td>6.0</td>\n",
       "      <td>5.0</td>\n",
       "      <td>3.0</td>\n",
       "      <td>5.0</td>\n",
       "      <td>4.0</td>\n",
       "      <td>0.0</td>\n",
       "      <td>0.0</td>\n",
       "    </tr>\n",
       "    <tr>\n",
       "      <th>185</th>\n",
       "      <td>191.0</td>\n",
       "      <td>Hüseyin</td>\n",
       "      <td>6.0</td>\n",
       "      <td>6.0</td>\n",
       "      <td>6.0</td>\n",
       "      <td>2.0</td>\n",
       "      <td>3.0</td>\n",
       "      <td>2.5</td>\n",
       "      <td>0.0</td>\n",
       "      <td>0.0</td>\n",
       "    </tr>\n",
       "  </tbody>\n",
       "</table>\n",
       "</div>"
      ],
      "text/plain": [
       "      roll              name    Q1    Q2   AV1    A1    A2   AV2    M  Total\n",
       "7     11.0     Seher Ishtiaq  12.0  12.0  12.0  13.0  12.0  12.5  0.0    0.0\n",
       "13    18.0         Ahmed Ali  13.0  14.0  13.5   7.0  14.0  10.5  0.0    0.0\n",
       "27    33.0  Muhammad Ishtiaq   6.0  13.0   9.5   0.0   6.0   3.0  0.0    0.0\n",
       "38     0.0          Aslam Ch  14.0   2.0   8.0  13.0   4.0   8.5  0.0    0.0\n",
       "61     0.0             Talha   5.0   3.0   4.0  13.0   2.0   7.5  0.0    0.0\n",
       "76    82.0             Büşra   9.0   1.0   5.0  14.0   0.0   7.0  0.0    0.0\n",
       "100  106.0      James Miller  14.0  15.0  14.5   4.0  14.0   9.0  0.0    0.0\n",
       "125  131.0             Yusuf   4.0   6.0   5.0  13.0   2.0   7.5  0.0    0.0\n",
       "155  161.0        Fadi Nabil  13.0   5.0   9.0  13.0   5.0   9.0  0.0    0.0\n",
       "179  185.0             Erkan   4.0   6.0   5.0   3.0   5.0   4.0  0.0    0.0\n",
       "185  191.0           Hüseyin   6.0   6.0   6.0   2.0   3.0   2.5  0.0    0.0"
      ]
     },
     "execution_count": 6,
     "metadata": {},
     "output_type": "execute_result"
    }
   ],
   "source": [
    "session_df[session_df['Total'] == 0]"
   ]
  },
  {
   "cell_type": "markdown",
   "id": "82191616",
   "metadata": {
    "papermill": {
     "duration": 0.006526,
     "end_time": "2024-02-29T18:49:18.068308",
     "exception": false,
     "start_time": "2024-02-29T18:49:18.061782",
     "status": "completed"
    },
    "tags": []
   },
   "source": [
    "Let's remove the students with non-zero partial scores and zero total scores and rebuild our model."
   ]
  },
  {
   "cell_type": "code",
   "execution_count": 7,
   "id": "ffc34749",
   "metadata": {
    "execution": {
     "iopub.execute_input": "2024-02-29T18:49:18.085481Z",
     "iopub.status.busy": "2024-02-29T18:49:18.083917Z",
     "iopub.status.idle": "2024-02-29T18:49:18.161947Z",
     "shell.execute_reply": "2024-02-29T18:49:18.160718Z"
    },
    "papermill": {
     "duration": 0.089334,
     "end_time": "2024-02-29T18:49:18.164643",
     "exception": false,
     "start_time": "2024-02-29T18:49:18.075309",
     "status": "completed"
    },
    "tags": []
   },
   "outputs": [
    {
     "name": "stdout",
     "output_type": "stream",
     "text": [
      "r2: 1.0000\n"
     ]
    },
    {
     "data": {
      "text/html": [
       "<div>                            <div id=\"ed22d716-151a-442c-b122-41a19a635e37\" class=\"plotly-graph-div\" style=\"height:525px; width:100%;\"></div>            <script type=\"text/javascript\">                require([\"plotly\"], function(Plotly) {                    window.PLOTLYENV=window.PLOTLYENV || {};                                    if (document.getElementById(\"ed22d716-151a-442c-b122-41a19a635e37\")) {                    Plotly.newPlot(                        \"ed22d716-151a-442c-b122-41a19a635e37\",                        [{\"customdata\":[[0.5000000000000003],[0.49999999999999956],[0.49999999999999944],[0.5],[0.9999999999999991]],\"domain\":{\"x\":[0.0,1.0],\"y\":[0.0,1.0]},\"hovertemplate\":\"label=%{label}\\u003cbr\\u003evalue=%{value}\\u003cbr\\u003ecolor=%{customdata[0]}\\u003cextra\\u003e\\u003c\\u002fextra\\u003e\",\"labels\":[\"Q1\",\"Q2\",\"A1\",\"A2\",\"M\"],\"legendgroup\":\"\",\"marker\":{\"colors\":[\"#636efa\",\"#EF553B\",\"#00cc96\",\"#ab63fa\",\"#FFA15A\"]},\"name\":\"\",\"showlegend\":true,\"values\":[0.5000000000000003,0.49999999999999956,0.49999999999999944,0.5,0.9999999999999991],\"type\":\"pie\"}],                        {\"template\":{\"data\":{\"histogram2dcontour\":[{\"type\":\"histogram2dcontour\",\"colorbar\":{\"outlinewidth\":0,\"ticks\":\"\"},\"colorscale\":[[0.0,\"#0d0887\"],[0.1111111111111111,\"#46039f\"],[0.2222222222222222,\"#7201a8\"],[0.3333333333333333,\"#9c179e\"],[0.4444444444444444,\"#bd3786\"],[0.5555555555555556,\"#d8576b\"],[0.6666666666666666,\"#ed7953\"],[0.7777777777777778,\"#fb9f3a\"],[0.8888888888888888,\"#fdca26\"],[1.0,\"#f0f921\"]]}],\"choropleth\":[{\"type\":\"choropleth\",\"colorbar\":{\"outlinewidth\":0,\"ticks\":\"\"}}],\"histogram2d\":[{\"type\":\"histogram2d\",\"colorbar\":{\"outlinewidth\":0,\"ticks\":\"\"},\"colorscale\":[[0.0,\"#0d0887\"],[0.1111111111111111,\"#46039f\"],[0.2222222222222222,\"#7201a8\"],[0.3333333333333333,\"#9c179e\"],[0.4444444444444444,\"#bd3786\"],[0.5555555555555556,\"#d8576b\"],[0.6666666666666666,\"#ed7953\"],[0.7777777777777778,\"#fb9f3a\"],[0.8888888888888888,\"#fdca26\"],[1.0,\"#f0f921\"]]}],\"heatmap\":[{\"type\":\"heatmap\",\"colorbar\":{\"outlinewidth\":0,\"ticks\":\"\"},\"colorscale\":[[0.0,\"#0d0887\"],[0.1111111111111111,\"#46039f\"],[0.2222222222222222,\"#7201a8\"],[0.3333333333333333,\"#9c179e\"],[0.4444444444444444,\"#bd3786\"],[0.5555555555555556,\"#d8576b\"],[0.6666666666666666,\"#ed7953\"],[0.7777777777777778,\"#fb9f3a\"],[0.8888888888888888,\"#fdca26\"],[1.0,\"#f0f921\"]]}],\"heatmapgl\":[{\"type\":\"heatmapgl\",\"colorbar\":{\"outlinewidth\":0,\"ticks\":\"\"},\"colorscale\":[[0.0,\"#0d0887\"],[0.1111111111111111,\"#46039f\"],[0.2222222222222222,\"#7201a8\"],[0.3333333333333333,\"#9c179e\"],[0.4444444444444444,\"#bd3786\"],[0.5555555555555556,\"#d8576b\"],[0.6666666666666666,\"#ed7953\"],[0.7777777777777778,\"#fb9f3a\"],[0.8888888888888888,\"#fdca26\"],[1.0,\"#f0f921\"]]}],\"contourcarpet\":[{\"type\":\"contourcarpet\",\"colorbar\":{\"outlinewidth\":0,\"ticks\":\"\"}}],\"contour\":[{\"type\":\"contour\",\"colorbar\":{\"outlinewidth\":0,\"ticks\":\"\"},\"colorscale\":[[0.0,\"#0d0887\"],[0.1111111111111111,\"#46039f\"],[0.2222222222222222,\"#7201a8\"],[0.3333333333333333,\"#9c179e\"],[0.4444444444444444,\"#bd3786\"],[0.5555555555555556,\"#d8576b\"],[0.6666666666666666,\"#ed7953\"],[0.7777777777777778,\"#fb9f3a\"],[0.8888888888888888,\"#fdca26\"],[1.0,\"#f0f921\"]]}],\"surface\":[{\"type\":\"surface\",\"colorbar\":{\"outlinewidth\":0,\"ticks\":\"\"},\"colorscale\":[[0.0,\"#0d0887\"],[0.1111111111111111,\"#46039f\"],[0.2222222222222222,\"#7201a8\"],[0.3333333333333333,\"#9c179e\"],[0.4444444444444444,\"#bd3786\"],[0.5555555555555556,\"#d8576b\"],[0.6666666666666666,\"#ed7953\"],[0.7777777777777778,\"#fb9f3a\"],[0.8888888888888888,\"#fdca26\"],[1.0,\"#f0f921\"]]}],\"mesh3d\":[{\"type\":\"mesh3d\",\"colorbar\":{\"outlinewidth\":0,\"ticks\":\"\"}}],\"scatter\":[{\"fillpattern\":{\"fillmode\":\"overlay\",\"size\":10,\"solidity\":0.2},\"type\":\"scatter\"}],\"parcoords\":[{\"type\":\"parcoords\",\"line\":{\"colorbar\":{\"outlinewidth\":0,\"ticks\":\"\"}}}],\"scatterpolargl\":[{\"type\":\"scatterpolargl\",\"marker\":{\"colorbar\":{\"outlinewidth\":0,\"ticks\":\"\"}}}],\"bar\":[{\"error_x\":{\"color\":\"#2a3f5f\"},\"error_y\":{\"color\":\"#2a3f5f\"},\"marker\":{\"line\":{\"color\":\"#E5ECF6\",\"width\":0.5},\"pattern\":{\"fillmode\":\"overlay\",\"size\":10,\"solidity\":0.2}},\"type\":\"bar\"}],\"scattergeo\":[{\"type\":\"scattergeo\",\"marker\":{\"colorbar\":{\"outlinewidth\":0,\"ticks\":\"\"}}}],\"scatterpolar\":[{\"type\":\"scatterpolar\",\"marker\":{\"colorbar\":{\"outlinewidth\":0,\"ticks\":\"\"}}}],\"histogram\":[{\"marker\":{\"pattern\":{\"fillmode\":\"overlay\",\"size\":10,\"solidity\":0.2}},\"type\":\"histogram\"}],\"scattergl\":[{\"type\":\"scattergl\",\"marker\":{\"colorbar\":{\"outlinewidth\":0,\"ticks\":\"\"}}}],\"scatter3d\":[{\"type\":\"scatter3d\",\"line\":{\"colorbar\":{\"outlinewidth\":0,\"ticks\":\"\"}},\"marker\":{\"colorbar\":{\"outlinewidth\":0,\"ticks\":\"\"}}}],\"scattermapbox\":[{\"type\":\"scattermapbox\",\"marker\":{\"colorbar\":{\"outlinewidth\":0,\"ticks\":\"\"}}}],\"scatterternary\":[{\"type\":\"scatterternary\",\"marker\":{\"colorbar\":{\"outlinewidth\":0,\"ticks\":\"\"}}}],\"scattercarpet\":[{\"type\":\"scattercarpet\",\"marker\":{\"colorbar\":{\"outlinewidth\":0,\"ticks\":\"\"}}}],\"carpet\":[{\"aaxis\":{\"endlinecolor\":\"#2a3f5f\",\"gridcolor\":\"white\",\"linecolor\":\"white\",\"minorgridcolor\":\"white\",\"startlinecolor\":\"#2a3f5f\"},\"baxis\":{\"endlinecolor\":\"#2a3f5f\",\"gridcolor\":\"white\",\"linecolor\":\"white\",\"minorgridcolor\":\"white\",\"startlinecolor\":\"#2a3f5f\"},\"type\":\"carpet\"}],\"table\":[{\"cells\":{\"fill\":{\"color\":\"#EBF0F8\"},\"line\":{\"color\":\"white\"}},\"header\":{\"fill\":{\"color\":\"#C8D4E3\"},\"line\":{\"color\":\"white\"}},\"type\":\"table\"}],\"barpolar\":[{\"marker\":{\"line\":{\"color\":\"#E5ECF6\",\"width\":0.5},\"pattern\":{\"fillmode\":\"overlay\",\"size\":10,\"solidity\":0.2}},\"type\":\"barpolar\"}],\"pie\":[{\"automargin\":true,\"type\":\"pie\"}]},\"layout\":{\"autotypenumbers\":\"strict\",\"colorway\":[\"#636efa\",\"#EF553B\",\"#00cc96\",\"#ab63fa\",\"#FFA15A\",\"#19d3f3\",\"#FF6692\",\"#B6E880\",\"#FF97FF\",\"#FECB52\"],\"font\":{\"color\":\"#2a3f5f\"},\"hovermode\":\"closest\",\"hoverlabel\":{\"align\":\"left\"},\"paper_bgcolor\":\"white\",\"plot_bgcolor\":\"#E5ECF6\",\"polar\":{\"bgcolor\":\"#E5ECF6\",\"angularaxis\":{\"gridcolor\":\"white\",\"linecolor\":\"white\",\"ticks\":\"\"},\"radialaxis\":{\"gridcolor\":\"white\",\"linecolor\":\"white\",\"ticks\":\"\"}},\"ternary\":{\"bgcolor\":\"#E5ECF6\",\"aaxis\":{\"gridcolor\":\"white\",\"linecolor\":\"white\",\"ticks\":\"\"},\"baxis\":{\"gridcolor\":\"white\",\"linecolor\":\"white\",\"ticks\":\"\"},\"caxis\":{\"gridcolor\":\"white\",\"linecolor\":\"white\",\"ticks\":\"\"}},\"coloraxis\":{\"colorbar\":{\"outlinewidth\":0,\"ticks\":\"\"}},\"colorscale\":{\"sequential\":[[0.0,\"#0d0887\"],[0.1111111111111111,\"#46039f\"],[0.2222222222222222,\"#7201a8\"],[0.3333333333333333,\"#9c179e\"],[0.4444444444444444,\"#bd3786\"],[0.5555555555555556,\"#d8576b\"],[0.6666666666666666,\"#ed7953\"],[0.7777777777777778,\"#fb9f3a\"],[0.8888888888888888,\"#fdca26\"],[1.0,\"#f0f921\"]],\"sequentialminus\":[[0.0,\"#0d0887\"],[0.1111111111111111,\"#46039f\"],[0.2222222222222222,\"#7201a8\"],[0.3333333333333333,\"#9c179e\"],[0.4444444444444444,\"#bd3786\"],[0.5555555555555556,\"#d8576b\"],[0.6666666666666666,\"#ed7953\"],[0.7777777777777778,\"#fb9f3a\"],[0.8888888888888888,\"#fdca26\"],[1.0,\"#f0f921\"]],\"diverging\":[[0,\"#8e0152\"],[0.1,\"#c51b7d\"],[0.2,\"#de77ae\"],[0.3,\"#f1b6da\"],[0.4,\"#fde0ef\"],[0.5,\"#f7f7f7\"],[0.6,\"#e6f5d0\"],[0.7,\"#b8e186\"],[0.8,\"#7fbc41\"],[0.9,\"#4d9221\"],[1,\"#276419\"]]},\"xaxis\":{\"gridcolor\":\"white\",\"linecolor\":\"white\",\"ticks\":\"\",\"title\":{\"standoff\":15},\"zerolinecolor\":\"white\",\"automargin\":true,\"zerolinewidth\":2},\"yaxis\":{\"gridcolor\":\"white\",\"linecolor\":\"white\",\"ticks\":\"\",\"title\":{\"standoff\":15},\"zerolinecolor\":\"white\",\"automargin\":true,\"zerolinewidth\":2},\"scene\":{\"xaxis\":{\"backgroundcolor\":\"#E5ECF6\",\"gridcolor\":\"white\",\"linecolor\":\"white\",\"showbackground\":true,\"ticks\":\"\",\"zerolinecolor\":\"white\",\"gridwidth\":2},\"yaxis\":{\"backgroundcolor\":\"#E5ECF6\",\"gridcolor\":\"white\",\"linecolor\":\"white\",\"showbackground\":true,\"ticks\":\"\",\"zerolinecolor\":\"white\",\"gridwidth\":2},\"zaxis\":{\"backgroundcolor\":\"#E5ECF6\",\"gridcolor\":\"white\",\"linecolor\":\"white\",\"showbackground\":true,\"ticks\":\"\",\"zerolinecolor\":\"white\",\"gridwidth\":2}},\"shapedefaults\":{\"line\":{\"color\":\"#2a3f5f\"}},\"annotationdefaults\":{\"arrowcolor\":\"#2a3f5f\",\"arrowhead\":0,\"arrowwidth\":1},\"geo\":{\"bgcolor\":\"white\",\"landcolor\":\"#E5ECF6\",\"subunitcolor\":\"white\",\"showland\":true,\"showlakes\":true,\"lakecolor\":\"white\"},\"title\":{\"x\":0.05},\"mapbox\":{\"style\":\"light\"}}},\"legend\":{\"tracegroupgap\":0},\"margin\":{\"t\":60}},                        {\"responsive\": true}                    ).then(function(){\n",
       "                            \n",
       "var gd = document.getElementById('ed22d716-151a-442c-b122-41a19a635e37');\n",
       "var x = new MutationObserver(function (mutations, observer) {{\n",
       "        var display = window.getComputedStyle(gd).display;\n",
       "        if (!display || display === 'none') {{\n",
       "            console.log([gd, 'removed!']);\n",
       "            Plotly.purge(gd);\n",
       "            observer.disconnect();\n",
       "        }}\n",
       "}});\n",
       "\n",
       "// Listen for the removal of the full notebook cells\n",
       "var notebookContainer = gd.closest('#notebook-container');\n",
       "if (notebookContainer) {{\n",
       "    x.observe(notebookContainer, {childList: true});\n",
       "}}\n",
       "\n",
       "// Listen for the clearing of the current output cell\n",
       "var outputEl = gd.closest('.output');\n",
       "if (outputEl) {{\n",
       "    x.observe(outputEl, {childList: true});\n",
       "}}\n",
       "\n",
       "                        })                };                });            </script>        </div>"
      ]
     },
     "metadata": {},
     "output_type": "display_data"
    }
   ],
   "source": [
    "from sklearn.linear_model import LinearRegression\n",
    "from sklearn.model_selection import train_test_split\n",
    "from sklearn.metrics import r2_score\n",
    "from plotly.express import pie\n",
    "\n",
    "no_averages = ['Q1', 'Q2', 'A1', 'A2', 'M',] \n",
    "no_zero_df = session_df[session_df['Total'] != 0]\n",
    "X_train, X_test, y_train, y_test = train_test_split(no_zero_df[no_averages], no_zero_df['Total'], test_size=0.25, random_state=2024)\n",
    "\n",
    "linear2 = LinearRegression()\n",
    "linear2.fit(X_train, y_train)\n",
    "print('r2: {:5.4f}'.format(r2_score(y_true=y_test, y_pred=linear2.predict(X_test))))\n",
    "pie(names=no_averages, values=linear2.coef_, color=linear2.coef_).show()"
   ]
  },
  {
   "cell_type": "markdown",
   "id": "7a15d167",
   "metadata": {
    "papermill": {
     "duration": 0.00706,
     "end_time": "2024-02-29T18:49:18.179205",
     "exception": false,
     "start_time": "2024-02-29T18:49:18.172145",
     "status": "completed"
    },
    "tags": []
   },
   "source": [
    "This makes more sense. The midterm counts twice and the other scores count once. Apparently the other two sources of error above made insignificant contributions to our model error."
   ]
  },
  {
   "cell_type": "code",
   "execution_count": 8,
   "id": "4cb96aae",
   "metadata": {
    "execution": {
     "iopub.execute_input": "2024-02-29T18:49:18.196754Z",
     "iopub.status.busy": "2024-02-29T18:49:18.196162Z",
     "iopub.status.idle": "2024-02-29T18:49:20.270622Z",
     "shell.execute_reply": "2024-02-29T18:49:20.269295Z"
    },
    "papermill": {
     "duration": 2.086751,
     "end_time": "2024-02-29T18:49:20.273714",
     "exception": false,
     "start_time": "2024-02-29T18:49:18.186963",
     "status": "completed"
    },
    "tags": []
   },
   "outputs": [
    {
     "data": {
      "text/html": [
       "<div>                            <div id=\"a46b48f3-0226-49f0-8af7-7ecea8443c04\" class=\"plotly-graph-div\" style=\"height:525px; width:100%;\"></div>            <script type=\"text/javascript\">                require([\"plotly\"], function(Plotly) {                    window.PLOTLYENV=window.PLOTLYENV || {};                                    if (document.getElementById(\"a46b48f3-0226-49f0-8af7-7ecea8443c04\")) {                    Plotly.newPlot(                        \"a46b48f3-0226-49f0-8af7-7ecea8443c04\",                        [{\"hovertemplate\":\"\\u003cb\\u003e%{hovertext}\\u003c\\u002fb\\u003e\\u003cbr\\u003e\\u003cbr\\u003eTotal=%{x}\\u003cbr\\u003esynthetic=%{y}\\u003cextra\\u003e\\u003c\\u002fextra\\u003e\",\"hovertext\":[\"Ashir Mehfooz\",\"Atif Raftad\",\"Saiqa Aziz\",\"Ozair Minhas\",\"Naveera Subhani\",\"Zia-ul-arfin\",\"Seher Ishtiaq\",\"Nasir Naveed\",\"Farhat Jameel\",\"Arooba Tariq\",\"Mudasar Hussain\",\"Waqas Khan\",\"Ahmed Ali\",\"Muhammad Ali Zafar\",\"Aman Ashiq\",\"Uzair Rafique Chohan\",\"M.Kamran \",\"Hamad Aslam\",\"Abdul Qadeer\",\"Aleena Muqarrab\",\"Mehfooz Ahmed\",\"Raftad Khan\",\"Muhammad Aziz\",\"Minhas Alam\",\"Ahmed Subhani\",\"Arfin Sahib\",\"Muhammad Ishtiaq\",\"ch Naveed\",\" Jameel ahmed\",\" Tariq Gulzar\",\"Hussain Bhatti\",\"Jutt waqas\",\"Ahmed Ali Raja\",\"Muhammad Ali\",\"Aman Ashiq\",\"Uzair Rafique Chohan\",\"M.Kamran \",\"Aslam Ch\",\"Abdul Qadeer Khan\",\"Muqarrab Raja\",\"Yusuf\",\"Zeynep\",\"Mehmet\",\"Fatma\",\"Emir\",\"Elif\",\"Ahmed\",\"Ayşe\",\"Mustafa\",\"Esra\",\"İbrahim\",\"Hafsa\",\"Ömer\",\"Hatice\",\"Ali\",\"Selma\",\"Kerem\",\"Rabia\",\"İsmail\",\"Sema\",\"Talha\",\"Zehra\",\"Barış\",\"Aysel\",\"Murat\",\"Ceren\",\"Yunus\",\"Sibel\",\"İdris\",\"Derya\",\"Osman\",\"Merve\",\"Eren\",\"İrem\",\"Arda\",\"Büşra\",\"Can\",\"Melek\",\"Bilal\",\"Gizem\",\"Cem\",\"Feride\",\"Furkan\",\"Hande\",\"Ege\",\"Şeyma\",\"Hüseyin\",\"Deniz\",\"Serkan\",\"Şule\",\"Harun\",\"Meltem\",\"Uğur\",\"Liam Smith\",\"Noah Johnson\",\"Ethan Williams\",\"Aiden Brown\",\"Mason Jones\",\"Elijah Davis\",\"James Miller\",\"Benjamin Wilson\",\"Lucas Taylor\",\"Alexander Anderson\",\"Dilara\",\"Emre\",\"Gülşen\",\"Taha\",\"Pınar\",\"Yağız\",\"Bengü\",\"Selim\",\"Defne\",\"Kadir\",\"Aslı\",\"Ferhat\",\"Duygu\",\"İlker\",\"İnci\",\"Arif\",\"Bahar\",\"Oğuz\",\"Figen\",\"Ertuğrul\",\"Ceyda\",\"Yusuf\",\"Ahmed Hassan\",\"Fatima Ali\",\"Omar Khalid\",\"Aisha Mahmoud\",\"Bilal Ibrahim\",\"Layla Farid\",\"Yusuf Karim\",\"Zainab Mustafa\",\"Hassan Abdul\",\"Mariam Saleh\",\"Aliyah Adil\",\"Kareem Fahad\",\"Noura Hamid\",\"Tariq Mansour\",\"Salma Jamal\",\"Khaled Youssef\",\"Amira Nassir\",\"Faisal Rashid\",\"Hala Samir\",\"Yasmine Hadi\",\"Hamza Abbas\",\"Safa Rami\",\"Saeed Jamal\",\"Lina Talal\",\"Jad Rami\",\"Mona Kamal\",\"Adnan Nizar\",\"Yasir Jabir\",\"Samira Saad\",\"Fadi Nabil\",\"Necla\",\"Orhan\",\"Rüya\",\"Şafak\",\"Ece\",\"Caner\",\"Yasemin\",\"Volkan\",\"Feray\",\"Hamza\",\"Nergis\",\"Hakan\",\"Asuman\",\"Kerim\",\"Nisan\",\"Ercan\",\"Reyhan\",\"Engin\",\"Sare\",\"Serdar\",\"Lale\",\"Barış\",\"Rümeysa\",\"Erkan\",\"Damla\",\"Gürkan\",\"Tuğçe\",\"Alparslan\",\"Eylem\",\"Hüseyin\",\"Zeliha\",\"Levent\",\"Selin\",\"Arman\",\"Özge\",\"Zeki\",\"Naz\",\"Batuhan\",\"Melike\",\"Taner\",\"İlknur\",\"Ferhat\",\"Cemile\",\"Aziz\",\"Asena\",\"Davut\",\"İlayda\",\"Serhat\",\"Özlem\",\"İlhan\",\"Yaren\",\"Tarık\",\"Beyza\",\"Eray\",\"Nergis\",\"Aslan\",\"Yelda\",\"Ertan\",\"Cansın\",\"Fırat\",\"Gamze\"],\"legendgroup\":\"\",\"marker\":{\"color\":\"#636efa\",\"symbol\":\"circle\"},\"mode\":\"markers\",\"name\":\"\",\"orientation\":\"v\",\"showlegend\":false,\"x\":[68.0,41.5,60.5,22.5,46.5,50.0,0.0,45.5,40.0,43.0,39.0,50.5,0.0,19.0,34.0,42.0,52.5,54.5,57.0,62.0,57.5,50.0,50.5,37.0,33.0,44.5,0.0,44.5,24.0,33.0,23.5,30.5,33.0,39.5,34.5,41.0,55.5,0.0,48.0,53.5,50.0,59.5,53.0,46.0,52.0,22.5,44.5,54.5,44.0,52.0,38.5,44.0,39.0,47.0,41.0,27.0,48.5,44.0,55.5,53.0,0.0,58.5,63.5,50.5,53.0,40.0,55.0,56.5,58.5,37.5,54.5,25.0,49.5,38.0,41.0,0.0,42.5,35.0,32.0,53.5,40.0,31.5,36.5,50.0,49.5,64.5,59.0,65.0,54.0,69.0,52.0,36.0,31.0,51.0,40.0,48.0,20.0,28.0,21.5,0.0,21.5,36.0,30.5,39.0,59.0,21.0,61.0,25.5,51.5,42.5,56.5,40.5,43.5,36.5,38.0,44.5,50.0,24.5,42.0,23.0,38.5,44.5,39.0,55.5,0.0,54.5,57.0,64.5,46.0,48.0,52.0,55.5,55.0,39.0,31.5,46.0,38.0,25.5,30.5,42.5,39.0,55.5,59.5,57.0,55.0,60.5,46.0,29.0,49.0,50.5,42.0,45.5,45.5,35.0,0.0,47.5,36.5,18.0,46.0,20.5,33.5,41.5,45.0,52.0,58.0,59.0,57.0,64.0,46.5,53.5,53.0,54.5,62.5,38.5,39.0,51.0,43.0,27.0,0.0,40.5,43.5,53.0,17.5,57.0,0.0,45.5,40.0,53.0,40.0,38.0,52.5,35.0,35.5,36.5,39.5,36.5,53.0,45.0,67.5,57.5,61.0,72.0,70.0,58.0,58.5,60.0,59.5,57.5,48.5,45.5,60.0,48.0,34.0,47.0,43.0,59.5],\"xaxis\":\"x\",\"y\":[68.0,41.5,60.5,22.5,46.5,50.0,24.5,45.5,40.0,43.0,39.0,50.5,24.0,19.0,34.0,42.0,52.5,54.5,57.0,62.0,57.5,50.0,50.5,37.0,33.0,44.5,12.5,44.5,24.0,33.0,23.5,30.5,33.0,39.5,34.5,41.0,55.5,16.5,48.0,53.5,50.0,59.5,53.0,46.0,52.0,22.5,44.5,54.5,44.0,52.0,38.5,44.0,39.0,47.0,41.0,27.0,48.5,44.0,55.5,53.0,11.5,58.5,63.5,50.5,53.0,40.0,55.0,56.5,58.5,37.5,54.5,25.0,49.5,38.0,41.0,12.0,42.5,35.0,32.0,53.5,40.0,31.5,36.5,50.0,49.5,64.5,59.0,65.0,54.0,69.0,52.0,36.0,31.0,51.0,40.0,48.0,20.0,28.0,21.5,23.5,21.5,36.0,30.5,39.0,59.0,21.0,61.0,25.5,51.5,42.5,56.5,40.5,43.5,36.5,38.0,44.5,50.0,24.5,42.0,23.0,38.5,44.5,39.0,55.5,12.5,54.5,57.0,64.5,46.0,48.0,52.0,55.5,55.0,39.0,31.5,46.0,38.0,25.5,30.5,42.5,39.0,55.5,59.5,57.0,55.0,60.5,46.0,29.0,49.0,50.5,42.0,45.5,45.5,35.0,18.0,47.5,36.5,18.0,46.0,20.5,33.5,41.5,45.0,52.0,58.0,59.0,57.0,64.0,46.5,53.5,53.0,54.5,62.5,38.5,39.0,51.0,43.0,27.0,9.0,40.5,43.5,53.0,17.5,57.0,8.5,45.5,40.0,53.0,40.0,38.0,52.5,35.0,35.5,36.5,39.5,36.5,53.0,45.0,67.5,57.5,61.0,72.0,70.0,58.0,58.5,60.0,59.5,57.5,48.5,45.5,60.0,48.0,34.0,47.0,43.0,59.5],\"yaxis\":\"y\",\"type\":\"scatter\"},{\"hovertemplate\":\"\\u003cb\\u003eOLS trendline\\u003c\\u002fb\\u003e\\u003cbr\\u003esynthetic = 0.850002 * Total + 7.25757\\u003cbr\\u003eR\\u003csup\\u003e2\\u003c\\u002fsup\\u003e=0.951724\\u003cbr\\u003e\\u003cbr\\u003eTotal=%{x}\\u003cbr\\u003esynthetic=%{y} \\u003cb\\u003e(trend)\\u003c\\u002fb\\u003e\\u003cextra\\u003e\\u003c\\u002fextra\\u003e\",\"legendgroup\":\"\",\"marker\":{\"color\":\"#636efa\",\"symbol\":\"circle\"},\"mode\":\"lines\",\"name\":\"\",\"showlegend\":false,\"x\":[0.0,0.0,0.0,0.0,0.0,0.0,0.0,0.0,0.0,0.0,0.0,17.5,18.0,19.0,20.0,20.5,21.0,21.5,21.5,22.5,22.5,23.0,23.5,24.0,24.5,25.0,25.5,25.5,27.0,27.0,28.0,29.0,30.5,30.5,30.5,31.0,31.5,31.5,32.0,33.0,33.0,33.0,33.5,34.0,34.0,34.5,35.0,35.0,35.0,35.5,36.0,36.0,36.5,36.5,36.5,36.5,36.5,37.0,37.5,38.0,38.0,38.0,38.0,38.5,38.5,38.5,39.0,39.0,39.0,39.0,39.0,39.0,39.0,39.5,39.5,40.0,40.0,40.0,40.0,40.0,40.0,40.5,40.5,41.0,41.0,41.0,41.5,41.5,42.0,42.0,42.0,42.5,42.5,42.5,43.0,43.0,43.0,43.5,43.5,44.0,44.0,44.0,44.5,44.5,44.5,44.5,44.5,45.0,45.0,45.5,45.5,45.5,45.5,45.5,46.0,46.0,46.0,46.0,46.0,46.5,46.5,47.0,47.0,47.5,48.0,48.0,48.0,48.0,48.5,48.5,49.0,49.5,49.5,50.0,50.0,50.0,50.0,50.0,50.5,50.5,50.5,50.5,51.0,51.0,51.5,52.0,52.0,52.0,52.0,52.0,52.5,52.5,53.0,53.0,53.0,53.0,53.0,53.0,53.0,53.5,53.5,53.5,54.0,54.5,54.5,54.5,54.5,54.5,55.0,55.0,55.0,55.5,55.5,55.5,55.5,55.5,56.5,56.5,57.0,57.0,57.0,57.0,57.0,57.5,57.5,57.5,58.0,58.0,58.5,58.5,58.5,59.0,59.0,59.0,59.5,59.5,59.5,59.5,60.0,60.0,60.5,60.5,61.0,61.0,62.0,62.5,63.5,64.0,64.5,64.5,65.0,67.5,68.0,69.0,70.0,72.0],\"xaxis\":\"x\",\"y\":[7.257573068303538,7.257573068303538,7.257573068303538,7.257573068303538,7.257573068303538,7.257573068303538,7.257573068303538,7.257573068303538,7.257573068303538,7.257573068303538,7.257573068303538,22.132599818310258,22.557600582596166,23.407602111167975,24.25760363973979,24.682604404025696,25.1076051683116,25.532605932597505,25.532605932597505,26.38260746116932,26.38260746116932,26.807608225455226,27.23260898974113,27.657609754027035,28.082610518312947,28.50761128259885,28.932612046884756,28.932612046884756,30.207614339742477,30.207614339742477,31.057615868314286,31.907617396886103,33.182619689743824,33.182619689743824,33.182619689743824,33.60762045402973,34.03262121831563,34.03262121831563,34.45762198260154,35.307623511173354,35.307623511173354,35.307623511173354,35.73262427545926,36.15762503974516,36.15762503974516,36.58262580403107,37.00762656831698,37.00762656831698,37.00762656831698,37.432627332602884,37.85762809688879,37.85762809688879,38.28262886117469,38.28262886117469,38.28262886117469,38.28262886117469,38.28262886117469,38.707629625460605,39.13263038974651,39.557631154032414,39.557631154032414,39.557631154032414,39.557631154032414,39.98263191831832,39.98263191831832,39.98263191831832,40.40763268260422,40.40763268260422,40.40763268260422,40.40763268260422,40.40763268260422,40.40763268260422,40.40763268260422,40.832633446890135,40.832633446890135,41.25763421117604,41.25763421117604,41.25763421117604,41.25763421117604,41.25763421117604,41.25763421117604,41.682634975461944,41.682634975461944,42.10763573974785,42.10763573974785,42.10763573974785,42.53263650403375,42.53263650403375,42.957637268319665,42.957637268319665,42.957637268319665,43.38263803260557,43.38263803260557,43.38263803260557,43.807638796891474,43.807638796891474,43.807638796891474,44.23263956117738,44.23263956117738,44.65764032546329,44.65764032546329,44.65764032546329,45.082641089749195,45.082641089749195,45.082641089749195,45.082641089749195,45.082641089749195,45.5076418540351,45.5076418540351,45.932642618321005,45.932642618321005,45.932642618321005,45.932642618321005,45.932642618321005,46.357643382606916,46.357643382606916,46.357643382606916,46.357643382606916,46.357643382606916,46.78264414689282,46.78264414689282,47.207644911178726,47.207644911178726,47.63264567546463,48.057646439750535,48.057646439750535,48.057646439750535,48.057646439750535,48.48264720403645,48.48264720403645,48.90764796832235,49.332648732608256,49.332648732608256,49.75764949689416,49.75764949689416,49.75764949689416,49.75764949689416,49.75764949689416,50.18265026118007,50.18265026118007,50.18265026118007,50.18265026118007,50.60765102546598,50.60765102546598,51.03265178975188,51.457652554037786,51.457652554037786,51.457652554037786,51.457652554037786,51.457652554037786,51.8826533183237,51.8826533183237,52.3076540826096,52.3076540826096,52.3076540826096,52.3076540826096,52.3076540826096,52.3076540826096,52.3076540826096,52.73265484689551,52.73265484689551,52.73265484689551,53.15765561118141,53.58265637546732,53.58265637546732,53.58265637546732,53.58265637546732,53.58265637546732,54.00765713975323,54.00765713975323,54.00765713975323,54.43265790403913,54.43265790403913,54.43265790403913,54.43265790403913,54.43265790403913,55.28265943261094,55.28265943261094,55.70766019689685,55.70766019689685,55.70766019689685,55.70766019689685,55.70766019689685,56.13266096118276,56.13266096118276,56.13266096118276,56.55766172546866,56.55766172546866,56.98266248975457,56.98266248975457,56.98266248975457,57.40766325404048,57.40766325404048,57.40766325404048,57.83266401832638,57.83266401832638,57.83266401832638,57.83266401832638,58.25766478261229,58.25766478261229,58.68266554689819,58.68266554689819,59.107666311184104,59.107666311184104,59.95766783975591,60.38266860404182,61.232670132613634,61.65767089689954,62.082671661185444,62.082671661185444,62.50767242547135,64.63267624690089,65.0576770111868,65.9076785397586,66.75768006833042,68.45768312547405],\"yaxis\":\"y\",\"type\":\"scatter\"}],                        {\"template\":{\"data\":{\"histogram2dcontour\":[{\"type\":\"histogram2dcontour\",\"colorbar\":{\"outlinewidth\":0,\"ticks\":\"\"},\"colorscale\":[[0.0,\"#0d0887\"],[0.1111111111111111,\"#46039f\"],[0.2222222222222222,\"#7201a8\"],[0.3333333333333333,\"#9c179e\"],[0.4444444444444444,\"#bd3786\"],[0.5555555555555556,\"#d8576b\"],[0.6666666666666666,\"#ed7953\"],[0.7777777777777778,\"#fb9f3a\"],[0.8888888888888888,\"#fdca26\"],[1.0,\"#f0f921\"]]}],\"choropleth\":[{\"type\":\"choropleth\",\"colorbar\":{\"outlinewidth\":0,\"ticks\":\"\"}}],\"histogram2d\":[{\"type\":\"histogram2d\",\"colorbar\":{\"outlinewidth\":0,\"ticks\":\"\"},\"colorscale\":[[0.0,\"#0d0887\"],[0.1111111111111111,\"#46039f\"],[0.2222222222222222,\"#7201a8\"],[0.3333333333333333,\"#9c179e\"],[0.4444444444444444,\"#bd3786\"],[0.5555555555555556,\"#d8576b\"],[0.6666666666666666,\"#ed7953\"],[0.7777777777777778,\"#fb9f3a\"],[0.8888888888888888,\"#fdca26\"],[1.0,\"#f0f921\"]]}],\"heatmap\":[{\"type\":\"heatmap\",\"colorbar\":{\"outlinewidth\":0,\"ticks\":\"\"},\"colorscale\":[[0.0,\"#0d0887\"],[0.1111111111111111,\"#46039f\"],[0.2222222222222222,\"#7201a8\"],[0.3333333333333333,\"#9c179e\"],[0.4444444444444444,\"#bd3786\"],[0.5555555555555556,\"#d8576b\"],[0.6666666666666666,\"#ed7953\"],[0.7777777777777778,\"#fb9f3a\"],[0.8888888888888888,\"#fdca26\"],[1.0,\"#f0f921\"]]}],\"heatmapgl\":[{\"type\":\"heatmapgl\",\"colorbar\":{\"outlinewidth\":0,\"ticks\":\"\"},\"colorscale\":[[0.0,\"#0d0887\"],[0.1111111111111111,\"#46039f\"],[0.2222222222222222,\"#7201a8\"],[0.3333333333333333,\"#9c179e\"],[0.4444444444444444,\"#bd3786\"],[0.5555555555555556,\"#d8576b\"],[0.6666666666666666,\"#ed7953\"],[0.7777777777777778,\"#fb9f3a\"],[0.8888888888888888,\"#fdca26\"],[1.0,\"#f0f921\"]]}],\"contourcarpet\":[{\"type\":\"contourcarpet\",\"colorbar\":{\"outlinewidth\":0,\"ticks\":\"\"}}],\"contour\":[{\"type\":\"contour\",\"colorbar\":{\"outlinewidth\":0,\"ticks\":\"\"},\"colorscale\":[[0.0,\"#0d0887\"],[0.1111111111111111,\"#46039f\"],[0.2222222222222222,\"#7201a8\"],[0.3333333333333333,\"#9c179e\"],[0.4444444444444444,\"#bd3786\"],[0.5555555555555556,\"#d8576b\"],[0.6666666666666666,\"#ed7953\"],[0.7777777777777778,\"#fb9f3a\"],[0.8888888888888888,\"#fdca26\"],[1.0,\"#f0f921\"]]}],\"surface\":[{\"type\":\"surface\",\"colorbar\":{\"outlinewidth\":0,\"ticks\":\"\"},\"colorscale\":[[0.0,\"#0d0887\"],[0.1111111111111111,\"#46039f\"],[0.2222222222222222,\"#7201a8\"],[0.3333333333333333,\"#9c179e\"],[0.4444444444444444,\"#bd3786\"],[0.5555555555555556,\"#d8576b\"],[0.6666666666666666,\"#ed7953\"],[0.7777777777777778,\"#fb9f3a\"],[0.8888888888888888,\"#fdca26\"],[1.0,\"#f0f921\"]]}],\"mesh3d\":[{\"type\":\"mesh3d\",\"colorbar\":{\"outlinewidth\":0,\"ticks\":\"\"}}],\"scatter\":[{\"fillpattern\":{\"fillmode\":\"overlay\",\"size\":10,\"solidity\":0.2},\"type\":\"scatter\"}],\"parcoords\":[{\"type\":\"parcoords\",\"line\":{\"colorbar\":{\"outlinewidth\":0,\"ticks\":\"\"}}}],\"scatterpolargl\":[{\"type\":\"scatterpolargl\",\"marker\":{\"colorbar\":{\"outlinewidth\":0,\"ticks\":\"\"}}}],\"bar\":[{\"error_x\":{\"color\":\"#2a3f5f\"},\"error_y\":{\"color\":\"#2a3f5f\"},\"marker\":{\"line\":{\"color\":\"#E5ECF6\",\"width\":0.5},\"pattern\":{\"fillmode\":\"overlay\",\"size\":10,\"solidity\":0.2}},\"type\":\"bar\"}],\"scattergeo\":[{\"type\":\"scattergeo\",\"marker\":{\"colorbar\":{\"outlinewidth\":0,\"ticks\":\"\"}}}],\"scatterpolar\":[{\"type\":\"scatterpolar\",\"marker\":{\"colorbar\":{\"outlinewidth\":0,\"ticks\":\"\"}}}],\"histogram\":[{\"marker\":{\"pattern\":{\"fillmode\":\"overlay\",\"size\":10,\"solidity\":0.2}},\"type\":\"histogram\"}],\"scattergl\":[{\"type\":\"scattergl\",\"marker\":{\"colorbar\":{\"outlinewidth\":0,\"ticks\":\"\"}}}],\"scatter3d\":[{\"type\":\"scatter3d\",\"line\":{\"colorbar\":{\"outlinewidth\":0,\"ticks\":\"\"}},\"marker\":{\"colorbar\":{\"outlinewidth\":0,\"ticks\":\"\"}}}],\"scattermapbox\":[{\"type\":\"scattermapbox\",\"marker\":{\"colorbar\":{\"outlinewidth\":0,\"ticks\":\"\"}}}],\"scatterternary\":[{\"type\":\"scatterternary\",\"marker\":{\"colorbar\":{\"outlinewidth\":0,\"ticks\":\"\"}}}],\"scattercarpet\":[{\"type\":\"scattercarpet\",\"marker\":{\"colorbar\":{\"outlinewidth\":0,\"ticks\":\"\"}}}],\"carpet\":[{\"aaxis\":{\"endlinecolor\":\"#2a3f5f\",\"gridcolor\":\"white\",\"linecolor\":\"white\",\"minorgridcolor\":\"white\",\"startlinecolor\":\"#2a3f5f\"},\"baxis\":{\"endlinecolor\":\"#2a3f5f\",\"gridcolor\":\"white\",\"linecolor\":\"white\",\"minorgridcolor\":\"white\",\"startlinecolor\":\"#2a3f5f\"},\"type\":\"carpet\"}],\"table\":[{\"cells\":{\"fill\":{\"color\":\"#EBF0F8\"},\"line\":{\"color\":\"white\"}},\"header\":{\"fill\":{\"color\":\"#C8D4E3\"},\"line\":{\"color\":\"white\"}},\"type\":\"table\"}],\"barpolar\":[{\"marker\":{\"line\":{\"color\":\"#E5ECF6\",\"width\":0.5},\"pattern\":{\"fillmode\":\"overlay\",\"size\":10,\"solidity\":0.2}},\"type\":\"barpolar\"}],\"pie\":[{\"automargin\":true,\"type\":\"pie\"}]},\"layout\":{\"autotypenumbers\":\"strict\",\"colorway\":[\"#636efa\",\"#EF553B\",\"#00cc96\",\"#ab63fa\",\"#FFA15A\",\"#19d3f3\",\"#FF6692\",\"#B6E880\",\"#FF97FF\",\"#FECB52\"],\"font\":{\"color\":\"#2a3f5f\"},\"hovermode\":\"closest\",\"hoverlabel\":{\"align\":\"left\"},\"paper_bgcolor\":\"white\",\"plot_bgcolor\":\"#E5ECF6\",\"polar\":{\"bgcolor\":\"#E5ECF6\",\"angularaxis\":{\"gridcolor\":\"white\",\"linecolor\":\"white\",\"ticks\":\"\"},\"radialaxis\":{\"gridcolor\":\"white\",\"linecolor\":\"white\",\"ticks\":\"\"}},\"ternary\":{\"bgcolor\":\"#E5ECF6\",\"aaxis\":{\"gridcolor\":\"white\",\"linecolor\":\"white\",\"ticks\":\"\"},\"baxis\":{\"gridcolor\":\"white\",\"linecolor\":\"white\",\"ticks\":\"\"},\"caxis\":{\"gridcolor\":\"white\",\"linecolor\":\"white\",\"ticks\":\"\"}},\"coloraxis\":{\"colorbar\":{\"outlinewidth\":0,\"ticks\":\"\"}},\"colorscale\":{\"sequential\":[[0.0,\"#0d0887\"],[0.1111111111111111,\"#46039f\"],[0.2222222222222222,\"#7201a8\"],[0.3333333333333333,\"#9c179e\"],[0.4444444444444444,\"#bd3786\"],[0.5555555555555556,\"#d8576b\"],[0.6666666666666666,\"#ed7953\"],[0.7777777777777778,\"#fb9f3a\"],[0.8888888888888888,\"#fdca26\"],[1.0,\"#f0f921\"]],\"sequentialminus\":[[0.0,\"#0d0887\"],[0.1111111111111111,\"#46039f\"],[0.2222222222222222,\"#7201a8\"],[0.3333333333333333,\"#9c179e\"],[0.4444444444444444,\"#bd3786\"],[0.5555555555555556,\"#d8576b\"],[0.6666666666666666,\"#ed7953\"],[0.7777777777777778,\"#fb9f3a\"],[0.8888888888888888,\"#fdca26\"],[1.0,\"#f0f921\"]],\"diverging\":[[0,\"#8e0152\"],[0.1,\"#c51b7d\"],[0.2,\"#de77ae\"],[0.3,\"#f1b6da\"],[0.4,\"#fde0ef\"],[0.5,\"#f7f7f7\"],[0.6,\"#e6f5d0\"],[0.7,\"#b8e186\"],[0.8,\"#7fbc41\"],[0.9,\"#4d9221\"],[1,\"#276419\"]]},\"xaxis\":{\"gridcolor\":\"white\",\"linecolor\":\"white\",\"ticks\":\"\",\"title\":{\"standoff\":15},\"zerolinecolor\":\"white\",\"automargin\":true,\"zerolinewidth\":2},\"yaxis\":{\"gridcolor\":\"white\",\"linecolor\":\"white\",\"ticks\":\"\",\"title\":{\"standoff\":15},\"zerolinecolor\":\"white\",\"automargin\":true,\"zerolinewidth\":2},\"scene\":{\"xaxis\":{\"backgroundcolor\":\"#E5ECF6\",\"gridcolor\":\"white\",\"linecolor\":\"white\",\"showbackground\":true,\"ticks\":\"\",\"zerolinecolor\":\"white\",\"gridwidth\":2},\"yaxis\":{\"backgroundcolor\":\"#E5ECF6\",\"gridcolor\":\"white\",\"linecolor\":\"white\",\"showbackground\":true,\"ticks\":\"\",\"zerolinecolor\":\"white\",\"gridwidth\":2},\"zaxis\":{\"backgroundcolor\":\"#E5ECF6\",\"gridcolor\":\"white\",\"linecolor\":\"white\",\"showbackground\":true,\"ticks\":\"\",\"zerolinecolor\":\"white\",\"gridwidth\":2}},\"shapedefaults\":{\"line\":{\"color\":\"#2a3f5f\"}},\"annotationdefaults\":{\"arrowcolor\":\"#2a3f5f\",\"arrowhead\":0,\"arrowwidth\":1},\"geo\":{\"bgcolor\":\"white\",\"landcolor\":\"#E5ECF6\",\"subunitcolor\":\"white\",\"showland\":true,\"showlakes\":true,\"lakecolor\":\"white\"},\"title\":{\"x\":0.05},\"mapbox\":{\"style\":\"light\"}}},\"xaxis\":{\"anchor\":\"y\",\"domain\":[0.0,1.0],\"title\":{\"text\":\"Total\"}},\"yaxis\":{\"anchor\":\"x\",\"domain\":[0.0,1.0],\"title\":{\"text\":\"synthetic\"}},\"legend\":{\"tracegroupgap\":0},\"margin\":{\"t\":60}},                        {\"responsive\": true}                    ).then(function(){\n",
       "                            \n",
       "var gd = document.getElementById('a46b48f3-0226-49f0-8af7-7ecea8443c04');\n",
       "var x = new MutationObserver(function (mutations, observer) {{\n",
       "        var display = window.getComputedStyle(gd).display;\n",
       "        if (!display || display === 'none') {{\n",
       "            console.log([gd, 'removed!']);\n",
       "            Plotly.purge(gd);\n",
       "            observer.disconnect();\n",
       "        }}\n",
       "}});\n",
       "\n",
       "// Listen for the removal of the full notebook cells\n",
       "var notebookContainer = gd.closest('#notebook-container');\n",
       "if (notebookContainer) {{\n",
       "    x.observe(notebookContainer, {childList: true});\n",
       "}}\n",
       "\n",
       "// Listen for the clearing of the current output cell\n",
       "var outputEl = gd.closest('.output');\n",
       "if (outputEl) {{\n",
       "    x.observe(outputEl, {childList: true});\n",
       "}}\n",
       "\n",
       "                        })                };                });            </script>        </div>"
      ]
     },
     "metadata": {},
     "output_type": "display_data"
    }
   ],
   "source": [
    "from plotly.express import scatter\n",
    "session_df['synthetic'] = session_df['M'] + 0.5 * session_df[['A1', 'A2', 'Q1', 'Q2', ]].sum(axis=1)\n",
    "scatter(data_frame=session_df, x='Total', y='synthetic', hover_name='name', trendline='ols')"
   ]
  }
 ],
 "metadata": {
  "kaggle": {
   "accelerator": "none",
   "dataSources": [
    {
     "datasetId": 4489100,
     "sourceId": 7691987,
     "sourceType": "datasetVersion"
    }
   ],
   "dockerImageVersionId": 30664,
   "isGpuEnabled": false,
   "isInternetEnabled": true,
   "language": "python",
   "sourceType": "notebook"
  },
  "kernelspec": {
   "display_name": "Python 3",
   "language": "python",
   "name": "python3"
  },
  "language_info": {
   "codemirror_mode": {
    "name": "ipython",
    "version": 3
   },
   "file_extension": ".py",
   "mimetype": "text/x-python",
   "name": "python",
   "nbconvert_exporter": "python",
   "pygments_lexer": "ipython3",
   "version": "3.10.13"
  },
  "papermill": {
   "default_parameters": {},
   "duration": 29.737048,
   "end_time": "2024-02-29T18:49:21.208580",
   "environment_variables": {},
   "exception": null,
   "input_path": "__notebook__.ipynb",
   "output_path": "__notebook__.ipynb",
   "parameters": {},
   "start_time": "2024-02-29T18:48:51.471532",
   "version": "2.5.0"
  }
 },
 "nbformat": 4,
 "nbformat_minor": 5
}
