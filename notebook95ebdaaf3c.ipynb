{
 "cells": [
  {
   "cell_type": "code",
   "execution_count": 1,
   "id": "e95c828b",
   "metadata": {
    "_cell_guid": "b1076dfc-b9ad-4769-8c92-a6c4dae69d19",
    "_uuid": "8f2839f25d086af736a60e9eeb907d3b93b6e0e5",
    "execution": {
     "iopub.execute_input": "2025-03-08T19:55:05.640836Z",
     "iopub.status.busy": "2025-03-08T19:55:05.640414Z",
     "iopub.status.idle": "2025-03-08T19:55:07.695200Z",
     "shell.execute_reply": "2025-03-08T19:55:07.694046Z"
    },
    "papermill": {
     "duration": 2.061768,
     "end_time": "2025-03-08T19:55:07.697095",
     "exception": false,
     "start_time": "2025-03-08T19:55:05.635327",
     "status": "completed"
    },
    "tags": []
   },
   "outputs": [
    {
     "data": {
      "text/html": [
       "<div>\n",
       "<style scoped>\n",
       "    .dataframe tbody tr th:only-of-type {\n",
       "        vertical-align: middle;\n",
       "    }\n",
       "\n",
       "    .dataframe tbody tr th {\n",
       "        vertical-align: top;\n",
       "    }\n",
       "\n",
       "    .dataframe thead th {\n",
       "        text-align: right;\n",
       "    }\n",
       "</style>\n",
       "<table border=\"1\" class=\"dataframe\">\n",
       "  <thead>\n",
       "    <tr style=\"text-align: right;\">\n",
       "      <th></th>\n",
       "      <th>Country</th>\n",
       "      <th>Age</th>\n",
       "      <th>Gender</th>\n",
       "      <th>Tobacco Use</th>\n",
       "      <th>Alcohol Consumption</th>\n",
       "      <th>HPV Infection</th>\n",
       "      <th>Betel Quid Use</th>\n",
       "      <th>Chronic Sun Exposure</th>\n",
       "      <th>Poor Oral Hygiene</th>\n",
       "      <th>Diet (Fruits &amp; Vegetables Intake)</th>\n",
       "      <th>...</th>\n",
       "      <th>Difficulty Swallowing</th>\n",
       "      <th>White or Red Patches in Mouth</th>\n",
       "      <th>Tumor Size (cm)</th>\n",
       "      <th>Cancer Stage</th>\n",
       "      <th>Treatment Type</th>\n",
       "      <th>Survival Rate (5-Year, %)</th>\n",
       "      <th>Cost of Treatment (USD)</th>\n",
       "      <th>Economic Burden (Lost Workdays per Year)</th>\n",
       "      <th>Early Diagnosis</th>\n",
       "      <th>Oral Cancer (Diagnosis)</th>\n",
       "    </tr>\n",
       "    <tr>\n",
       "      <th>ID</th>\n",
       "      <th></th>\n",
       "      <th></th>\n",
       "      <th></th>\n",
       "      <th></th>\n",
       "      <th></th>\n",
       "      <th></th>\n",
       "      <th></th>\n",
       "      <th></th>\n",
       "      <th></th>\n",
       "      <th></th>\n",
       "      <th></th>\n",
       "      <th></th>\n",
       "      <th></th>\n",
       "      <th></th>\n",
       "      <th></th>\n",
       "      <th></th>\n",
       "      <th></th>\n",
       "      <th></th>\n",
       "      <th></th>\n",
       "      <th></th>\n",
       "      <th></th>\n",
       "    </tr>\n",
       "  </thead>\n",
       "  <tbody>\n",
       "    <tr>\n",
       "      <th>1</th>\n",
       "      <td>Italy</td>\n",
       "      <td>36</td>\n",
       "      <td>Female</td>\n",
       "      <td>True</td>\n",
       "      <td>True</td>\n",
       "      <td>True</td>\n",
       "      <td>False</td>\n",
       "      <td>False</td>\n",
       "      <td>True</td>\n",
       "      <td>Low</td>\n",
       "      <td>...</td>\n",
       "      <td>False</td>\n",
       "      <td>False</td>\n",
       "      <td>0.000000</td>\n",
       "      <td>0</td>\n",
       "      <td>No Treatment</td>\n",
       "      <td>100.000000</td>\n",
       "      <td>0.00</td>\n",
       "      <td>0</td>\n",
       "      <td>False</td>\n",
       "      <td>False</td>\n",
       "    </tr>\n",
       "    <tr>\n",
       "      <th>2</th>\n",
       "      <td>Japan</td>\n",
       "      <td>64</td>\n",
       "      <td>Male</td>\n",
       "      <td>True</td>\n",
       "      <td>True</td>\n",
       "      <td>True</td>\n",
       "      <td>False</td>\n",
       "      <td>True</td>\n",
       "      <td>True</td>\n",
       "      <td>High</td>\n",
       "      <td>...</td>\n",
       "      <td>False</td>\n",
       "      <td>False</td>\n",
       "      <td>1.782186</td>\n",
       "      <td>1</td>\n",
       "      <td>No Treatment</td>\n",
       "      <td>83.340103</td>\n",
       "      <td>77772.50</td>\n",
       "      <td>177</td>\n",
       "      <td>False</td>\n",
       "      <td>True</td>\n",
       "    </tr>\n",
       "    <tr>\n",
       "      <th>3</th>\n",
       "      <td>UK</td>\n",
       "      <td>37</td>\n",
       "      <td>Female</td>\n",
       "      <td>False</td>\n",
       "      <td>True</td>\n",
       "      <td>False</td>\n",
       "      <td>False</td>\n",
       "      <td>True</td>\n",
       "      <td>True</td>\n",
       "      <td>Moderate</td>\n",
       "      <td>...</td>\n",
       "      <td>False</td>\n",
       "      <td>True</td>\n",
       "      <td>3.523895</td>\n",
       "      <td>2</td>\n",
       "      <td>Surgery</td>\n",
       "      <td>63.222871</td>\n",
       "      <td>101164.50</td>\n",
       "      <td>130</td>\n",
       "      <td>True</td>\n",
       "      <td>True</td>\n",
       "    </tr>\n",
       "    <tr>\n",
       "      <th>4</th>\n",
       "      <td>Sri Lanka</td>\n",
       "      <td>55</td>\n",
       "      <td>Male</td>\n",
       "      <td>True</td>\n",
       "      <td>True</td>\n",
       "      <td>False</td>\n",
       "      <td>True</td>\n",
       "      <td>False</td>\n",
       "      <td>True</td>\n",
       "      <td>Moderate</td>\n",
       "      <td>...</td>\n",
       "      <td>False</td>\n",
       "      <td>False</td>\n",
       "      <td>0.000000</td>\n",
       "      <td>0</td>\n",
       "      <td>No Treatment</td>\n",
       "      <td>100.000000</td>\n",
       "      <td>0.00</td>\n",
       "      <td>0</td>\n",
       "      <td>True</td>\n",
       "      <td>False</td>\n",
       "    </tr>\n",
       "    <tr>\n",
       "      <th>5</th>\n",
       "      <td>South Africa</td>\n",
       "      <td>68</td>\n",
       "      <td>Male</td>\n",
       "      <td>False</td>\n",
       "      <td>False</td>\n",
       "      <td>False</td>\n",
       "      <td>False</td>\n",
       "      <td>False</td>\n",
       "      <td>True</td>\n",
       "      <td>High</td>\n",
       "      <td>...</td>\n",
       "      <td>False</td>\n",
       "      <td>False</td>\n",
       "      <td>2.834789</td>\n",
       "      <td>3</td>\n",
       "      <td>No Treatment</td>\n",
       "      <td>44.293199</td>\n",
       "      <td>45354.75</td>\n",
       "      <td>52</td>\n",
       "      <td>False</td>\n",
       "      <td>True</td>\n",
       "    </tr>\n",
       "  </tbody>\n",
       "</table>\n",
       "<p>5 rows × 24 columns</p>\n",
       "</div>"
      ],
      "text/plain": [
       "         Country  Age  Gender  Tobacco Use  Alcohol Consumption  \\\n",
       "ID                                                                \n",
       "1          Italy   36  Female         True                 True   \n",
       "2          Japan   64    Male         True                 True   \n",
       "3             UK   37  Female        False                 True   \n",
       "4      Sri Lanka   55    Male         True                 True   \n",
       "5   South Africa   68    Male        False                False   \n",
       "\n",
       "    HPV Infection  Betel Quid Use  Chronic Sun Exposure  Poor Oral Hygiene  \\\n",
       "ID                                                                           \n",
       "1            True           False                 False               True   \n",
       "2            True           False                  True               True   \n",
       "3           False           False                  True               True   \n",
       "4           False            True                 False               True   \n",
       "5           False           False                 False               True   \n",
       "\n",
       "   Diet (Fruits & Vegetables Intake)  ...  Difficulty Swallowing  \\\n",
       "ID                                    ...                          \n",
       "1                                Low  ...                  False   \n",
       "2                               High  ...                  False   \n",
       "3                           Moderate  ...                  False   \n",
       "4                           Moderate  ...                  False   \n",
       "5                               High  ...                  False   \n",
       "\n",
       "    White or Red Patches in Mouth  Tumor Size (cm)  Cancer Stage  \\\n",
       "ID                                                                 \n",
       "1                           False         0.000000             0   \n",
       "2                           False         1.782186             1   \n",
       "3                            True         3.523895             2   \n",
       "4                           False         0.000000             0   \n",
       "5                           False         2.834789             3   \n",
       "\n",
       "    Treatment Type  Survival Rate (5-Year, %)  Cost of Treatment (USD)  \\\n",
       "ID                                                                       \n",
       "1     No Treatment                 100.000000                     0.00   \n",
       "2     No Treatment                  83.340103                 77772.50   \n",
       "3          Surgery                  63.222871                101164.50   \n",
       "4     No Treatment                 100.000000                     0.00   \n",
       "5     No Treatment                  44.293199                 45354.75   \n",
       "\n",
       "    Economic Burden (Lost Workdays per Year) Early Diagnosis  \\\n",
       "ID                                                             \n",
       "1                                          0           False   \n",
       "2                                        177           False   \n",
       "3                                        130            True   \n",
       "4                                          0            True   \n",
       "5                                         52           False   \n",
       "\n",
       "    Oral Cancer (Diagnosis)  \n",
       "ID                           \n",
       "1                     False  \n",
       "2                      True  \n",
       "3                      True  \n",
       "4                     False  \n",
       "5                      True  \n",
       "\n",
       "[5 rows x 24 columns]"
      ]
     },
     "execution_count": 1,
     "metadata": {},
     "output_type": "execute_result"
    }
   ],
   "source": [
    "import pandas as pd\n",
    "\n",
    "DATA = '/kaggle/input/oral-cancer-prediction-dataset/oral_cancer_prediction_dataset.csv'\n",
    "df = pd.read_csv(filepath_or_buffer=DATA, index_col=['ID'])\n",
    "for column in [column for column in df.columns if set(df[column].unique().tolist()) == {'No', 'Yes'} ]:\n",
    "    df[column] = df[column] == 'Yes'\n",
    "df.head()"
   ]
  },
  {
   "cell_type": "code",
   "execution_count": 2,
   "id": "11b57b08",
   "metadata": {
    "execution": {
     "iopub.execute_input": "2025-03-08T19:55:07.705875Z",
     "iopub.status.busy": "2025-03-08T19:55:07.705366Z",
     "iopub.status.idle": "2025-03-08T19:55:07.746335Z",
     "shell.execute_reply": "2025-03-08T19:55:07.745105Z"
    },
    "papermill": {
     "duration": 0.04733,
     "end_time": "2025-03-08T19:55:07.748245",
     "exception": false,
     "start_time": "2025-03-08T19:55:07.700915",
     "status": "completed"
    },
    "tags": []
   },
   "outputs": [
    {
     "name": "stdout",
     "output_type": "stream",
     "text": [
      "<class 'pandas.core.frame.DataFrame'>\n",
      "Index: 84922 entries, 1 to 84922\n",
      "Data columns (total 24 columns):\n",
      " #   Column                                    Non-Null Count  Dtype  \n",
      "---  ------                                    --------------  -----  \n",
      " 0   Country                                   84922 non-null  object \n",
      " 1   Age                                       84922 non-null  int64  \n",
      " 2   Gender                                    84922 non-null  object \n",
      " 3   Tobacco Use                               84922 non-null  bool   \n",
      " 4   Alcohol Consumption                       84922 non-null  bool   \n",
      " 5   HPV Infection                             84922 non-null  bool   \n",
      " 6   Betel Quid Use                            84922 non-null  bool   \n",
      " 7   Chronic Sun Exposure                      84922 non-null  bool   \n",
      " 8   Poor Oral Hygiene                         84922 non-null  bool   \n",
      " 9   Diet (Fruits & Vegetables Intake)         84922 non-null  object \n",
      " 10  Family History of Cancer                  84922 non-null  bool   \n",
      " 11  Compromised Immune System                 84922 non-null  bool   \n",
      " 12  Oral Lesions                              84922 non-null  bool   \n",
      " 13  Unexplained Bleeding                      84922 non-null  bool   \n",
      " 14  Difficulty Swallowing                     84922 non-null  bool   \n",
      " 15  White or Red Patches in Mouth             84922 non-null  bool   \n",
      " 16  Tumor Size (cm)                           84922 non-null  float64\n",
      " 17  Cancer Stage                              84922 non-null  int64  \n",
      " 18  Treatment Type                            84922 non-null  object \n",
      " 19  Survival Rate (5-Year, %)                 84922 non-null  float64\n",
      " 20  Cost of Treatment (USD)                   84922 non-null  float64\n",
      " 21  Economic Burden (Lost Workdays per Year)  84922 non-null  int64  \n",
      " 22  Early Diagnosis                           84922 non-null  bool   \n",
      " 23  Oral Cancer (Diagnosis)                   84922 non-null  bool   \n",
      "dtypes: bool(14), float64(3), int64(3), object(4)\n",
      "memory usage: 8.3+ MB\n"
     ]
    }
   ],
   "source": [
    "df.info()"
   ]
  },
  {
   "cell_type": "markdown",
   "id": "92505eca",
   "metadata": {
    "papermill": {
     "duration": 0.003208,
     "end_time": "2025-03-08T19:55:07.755136",
     "exception": false,
     "start_time": "2025-03-08T19:55:07.751928",
     "status": "completed"
    },
    "tags": []
   },
   "source": [
    "We want to pick out variables that contribute to the diagnosis but that are not aliases for the diagnosis, so we have to be careful. Also, we have a lot of rows, so we can probably get a good sense of whether we have a strong signal in our data using dimensionality reduction and just a small sample (a few percent) of the data."
   ]
  },
  {
   "cell_type": "code",
   "execution_count": 3,
   "id": "7d6c61ba",
   "metadata": {
    "execution": {
     "iopub.execute_input": "2025-03-08T19:55:07.763086Z",
     "iopub.status.busy": "2025-03-08T19:55:07.762712Z",
     "iopub.status.idle": "2025-03-08T19:55:21.246041Z",
     "shell.execute_reply": "2025-03-08T19:55:21.245143Z"
    },
    "papermill": {
     "duration": 13.489977,
     "end_time": "2025-03-08T19:55:21.248439",
     "exception": false,
     "start_time": "2025-03-08T19:55:07.758462",
     "status": "completed"
    },
    "tags": []
   },
   "outputs": [],
   "source": [
    "from sklearn.manifold import TSNE\n",
    "\n",
    "TARGET = 'Oral Cancer (Diagnosis)'\n",
    "COLUMNS = [key for key, value in df.dtypes.to_dict().items() if str(value) in {'int64', 'bool', 'float64'} and key not in {TARGET, 'Cancer Stage', 'Early Diagnosis', 'Treatment Type', 'Cost of Treatment (USD)', 'Economic Burden (Lost Workdays per Year)', 'Survival Rate (5-Year, %)'}]\n",
    "N = 2000\n",
    "RANDOM_STATE = 2025\n",
    "\n",
    "sample_df = df.sample(n=N, random_state=RANDOM_STATE)\n",
    "reducer = TSNE(random_state=RANDOM_STATE)\n",
    "plot_df = pd.DataFrame(columns=['x', 'y'], data=reducer.fit_transform(X=sample_df[COLUMNS]))\n",
    "plot_df[TARGET] = sample_df[TARGET].tolist()"
   ]
  },
  {
   "cell_type": "markdown",
   "id": "f9a5612f",
   "metadata": {
    "papermill": {
     "duration": 0.005888,
     "end_time": "2025-03-08T19:55:21.258858",
     "exception": false,
     "start_time": "2025-03-08T19:55:21.252970",
     "status": "completed"
    },
    "tags": []
   },
   "source": [
    "Do the columns we have chosen make sense?"
   ]
  },
  {
   "cell_type": "code",
   "execution_count": 4,
   "id": "1c38f1d9",
   "metadata": {
    "execution": {
     "iopub.execute_input": "2025-03-08T19:55:21.267652Z",
     "iopub.status.busy": "2025-03-08T19:55:21.267054Z",
     "iopub.status.idle": "2025-03-08T19:55:21.273519Z",
     "shell.execute_reply": "2025-03-08T19:55:21.272641Z"
    },
    "papermill": {
     "duration": 0.012686,
     "end_time": "2025-03-08T19:55:21.275341",
     "exception": false,
     "start_time": "2025-03-08T19:55:21.262655",
     "status": "completed"
    },
    "tags": []
   },
   "outputs": [
    {
     "data": {
      "text/plain": [
       "['Age',\n",
       " 'Tobacco Use',\n",
       " 'Alcohol Consumption',\n",
       " 'HPV Infection',\n",
       " 'Betel Quid Use',\n",
       " 'Chronic Sun Exposure',\n",
       " 'Poor Oral Hygiene',\n",
       " 'Family History of Cancer',\n",
       " 'Compromised Immune System',\n",
       " 'Oral Lesions',\n",
       " 'Unexplained Bleeding',\n",
       " 'Difficulty Swallowing',\n",
       " 'White or Red Patches in Mouth',\n",
       " 'Tumor Size (cm)']"
      ]
     },
     "execution_count": 4,
     "metadata": {},
     "output_type": "execute_result"
    }
   ],
   "source": [
    "COLUMNS"
   ]
  },
  {
   "cell_type": "code",
   "execution_count": 5,
   "id": "240c5ec8",
   "metadata": {
    "execution": {
     "iopub.execute_input": "2025-03-08T19:55:21.284172Z",
     "iopub.status.busy": "2025-03-08T19:55:21.283804Z",
     "iopub.status.idle": "2025-03-08T19:55:25.019367Z",
     "shell.execute_reply": "2025-03-08T19:55:25.018419Z"
    },
    "papermill": {
     "duration": 3.741896,
     "end_time": "2025-03-08T19:55:25.021159",
     "exception": false,
     "start_time": "2025-03-08T19:55:21.279263",
     "status": "completed"
    },
    "tags": []
   },
   "outputs": [
    {
     "data": {
      "text/html": [
       "<iframe\n",
       "    scrolling=\"no\"\n",
       "    width=\"100%\"\n",
       "    height=\"545px\"\n",
       "    src=\"iframe_figures/figure_5.html\"\n",
       "    frameborder=\"0\"\n",
       "    allowfullscreen\n",
       "></iframe>\n"
      ]
     },
     "metadata": {},
     "output_type": "display_data"
    }
   ],
   "source": [
    "from plotly import express\n",
    "from plotly import io\n",
    "\n",
    "io.renderers.default = 'iframe'\n",
    "express.scatter(data_frame=plot_df, x='x', y='y', color=TARGET)"
   ]
  },
  {
   "cell_type": "markdown",
   "id": "df6197de",
   "metadata": {
    "papermill": {
     "duration": 0.003553,
     "end_time": "2025-03-08T19:55:25.028685",
     "exception": false,
     "start_time": "2025-03-08T19:55:25.025132",
     "status": "completed"
    },
    "tags": []
   },
   "source": [
    "This plot suggests we've chosen reasonably well, because there are a few difficult cases but otherwise we see strong clustering within classes and separation between clusters."
   ]
  },
  {
   "cell_type": "markdown",
   "id": "0217bbc5",
   "metadata": {
    "papermill": {
     "duration": 0.003996,
     "end_time": "2025-03-08T19:55:25.036882",
     "exception": false,
     "start_time": "2025-03-08T19:55:25.032886",
     "status": "completed"
    },
    "tags": []
   },
   "source": [
    "Is our target class balanced?"
   ]
  },
  {
   "cell_type": "code",
   "execution_count": 6,
   "id": "f7363332",
   "metadata": {
    "execution": {
     "iopub.execute_input": "2025-03-08T19:55:25.045697Z",
     "iopub.status.busy": "2025-03-08T19:55:25.045306Z",
     "iopub.status.idle": "2025-03-08T19:55:25.057687Z",
     "shell.execute_reply": "2025-03-08T19:55:25.055942Z"
    },
    "papermill": {
     "duration": 0.019209,
     "end_time": "2025-03-08T19:55:25.059818",
     "exception": false,
     "start_time": "2025-03-08T19:55:25.040609",
     "status": "completed"
    },
    "tags": []
   },
   "outputs": [
    {
     "data": {
      "text/html": [
       "<div>\n",
       "<style scoped>\n",
       "    .dataframe tbody tr th:only-of-type {\n",
       "        vertical-align: middle;\n",
       "    }\n",
       "\n",
       "    .dataframe tbody tr th {\n",
       "        vertical-align: top;\n",
       "    }\n",
       "\n",
       "    .dataframe thead th {\n",
       "        text-align: right;\n",
       "    }\n",
       "</style>\n",
       "<table border=\"1\" class=\"dataframe\">\n",
       "  <thead>\n",
       "    <tr style=\"text-align: right;\">\n",
       "      <th>Oral Cancer (Diagnosis)</th>\n",
       "      <th>False</th>\n",
       "      <th>True</th>\n",
       "    </tr>\n",
       "  </thead>\n",
       "  <tbody>\n",
       "    <tr>\n",
       "      <th>count</th>\n",
       "      <td>42573</td>\n",
       "      <td>42349</td>\n",
       "    </tr>\n",
       "  </tbody>\n",
       "</table>\n",
       "</div>"
      ],
      "text/plain": [
       "Oral Cancer (Diagnosis)  False  True \n",
       "count                    42573  42349"
      ]
     },
     "execution_count": 6,
     "metadata": {},
     "output_type": "execute_result"
    }
   ],
   "source": [
    "df[TARGET].value_counts().to_frame().T"
   ]
  },
  {
   "cell_type": "markdown",
   "id": "3d99121d",
   "metadata": {
    "papermill": {
     "duration": 0.003465,
     "end_time": "2025-03-08T19:55:25.067747",
     "exception": false,
     "start_time": "2025-03-08T19:55:25.064282",
     "status": "completed"
    },
    "tags": []
   },
   "source": [
    "Almost exactly. Is that good (it represents a real phenomenon) or bad (it suggests our data is synthetic)? Hard to say. Let's build a model."
   ]
  },
  {
   "cell_type": "code",
   "execution_count": null,
   "id": "bc2c6f4a",
   "metadata": {
    "papermill": {
     "duration": 0.003526,
     "end_time": "2025-03-08T19:55:25.075198",
     "exception": false,
     "start_time": "2025-03-08T19:55:25.071672",
     "status": "completed"
    },
    "tags": []
   },
   "outputs": [],
   "source": []
  }
 ],
 "metadata": {
  "kaggle": {
   "accelerator": "none",
   "dataSources": [
    {
     "datasetId": 6805468,
     "sourceId": 10942559,
     "sourceType": "datasetVersion"
    }
   ],
   "dockerImageVersionId": 30918,
   "isGpuEnabled": false,
   "isInternetEnabled": true,
   "language": "python",
   "sourceType": "notebook"
  },
  "kernelspec": {
   "display_name": "Python 3",
   "language": "python",
   "name": "python3"
  },
  "language_info": {
   "codemirror_mode": {
    "name": "ipython",
    "version": 3
   },
   "file_extension": ".py",
   "mimetype": "text/x-python",
   "name": "python",
   "nbconvert_exporter": "python",
   "pygments_lexer": "ipython3",
   "version": "3.10.12"
  },
  "papermill": {
   "default_parameters": {},
   "duration": 23.507631,
   "end_time": "2025-03-08T19:55:26.000960",
   "environment_variables": {},
   "exception": null,
   "input_path": "__notebook__.ipynb",
   "output_path": "__notebook__.ipynb",
   "parameters": {},
   "start_time": "2025-03-08T19:55:02.493329",
   "version": "2.6.0"
  }
 },
 "nbformat": 4,
 "nbformat_minor": 5
}
