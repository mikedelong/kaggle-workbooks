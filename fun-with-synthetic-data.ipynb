{
 "cells": [
  {
   "cell_type": "code",
   "execution_count": 1,
   "id": "08695745",
   "metadata": {
    "_cell_guid": "b1076dfc-b9ad-4769-8c92-a6c4dae69d19",
    "_uuid": "8f2839f25d086af736a60e9eeb907d3b93b6e0e5",
    "execution": {
     "iopub.execute_input": "2025-02-07T20:03:00.194060Z",
     "iopub.status.busy": "2025-02-07T20:03:00.193547Z",
     "iopub.status.idle": "2025-02-07T20:03:01.379716Z",
     "shell.execute_reply": "2025-02-07T20:03:01.378457Z"
    },
    "papermill": {
     "duration": 1.193181,
     "end_time": "2025-02-07T20:03:01.381664",
     "exception": false,
     "start_time": "2025-02-07T20:03:00.188483",
     "status": "completed"
    },
    "tags": []
   },
   "outputs": [
    {
     "data": {
      "text/html": [
       "<div>\n",
       "<style scoped>\n",
       "    .dataframe tbody tr th:only-of-type {\n",
       "        vertical-align: middle;\n",
       "    }\n",
       "\n",
       "    .dataframe tbody tr th {\n",
       "        vertical-align: top;\n",
       "    }\n",
       "\n",
       "    .dataframe thead th {\n",
       "        text-align: right;\n",
       "    }\n",
       "</style>\n",
       "<table border=\"1\" class=\"dataframe\">\n",
       "  <thead>\n",
       "    <tr style=\"text-align: right;\">\n",
       "      <th></th>\n",
       "      <th>Date</th>\n",
       "      <th>Open</th>\n",
       "      <th>High</th>\n",
       "      <th>Low</th>\n",
       "      <th>Close</th>\n",
       "      <th>Volume</th>\n",
       "      <th>AdjustedClose</th>\n",
       "      <th>Dividend</th>\n",
       "      <th>SplitCoefficient</th>\n",
       "      <th>DailyReturnPercent</th>\n",
       "      <th>year</th>\n",
       "      <th>month</th>\n",
       "    </tr>\n",
       "  </thead>\n",
       "  <tbody>\n",
       "    <tr>\n",
       "      <th>0</th>\n",
       "      <td>2020-01-01</td>\n",
       "      <td>150.56</td>\n",
       "      <td>150.61</td>\n",
       "      <td>150.01</td>\n",
       "      <td>150.14</td>\n",
       "      <td>7878334</td>\n",
       "      <td>151.20</td>\n",
       "      <td>0.0</td>\n",
       "      <td>1.0</td>\n",
       "      <td>0.09</td>\n",
       "      <td>2020</td>\n",
       "      <td>1</td>\n",
       "    </tr>\n",
       "    <tr>\n",
       "      <th>1</th>\n",
       "      <td>2020-01-02</td>\n",
       "      <td>149.83</td>\n",
       "      <td>149.89</td>\n",
       "      <td>149.39</td>\n",
       "      <td>149.64</td>\n",
       "      <td>2780798</td>\n",
       "      <td>150.01</td>\n",
       "      <td>0.0</td>\n",
       "      <td>1.0</td>\n",
       "      <td>-0.33</td>\n",
       "      <td>2020</td>\n",
       "      <td>1</td>\n",
       "    </tr>\n",
       "    <tr>\n",
       "      <th>2</th>\n",
       "      <td>2020-01-03</td>\n",
       "      <td>149.32</td>\n",
       "      <td>150.22</td>\n",
       "      <td>148.76</td>\n",
       "      <td>150.03</td>\n",
       "      <td>11714555</td>\n",
       "      <td>151.22</td>\n",
       "      <td>0.0</td>\n",
       "      <td>1.0</td>\n",
       "      <td>0.26</td>\n",
       "      <td>2020</td>\n",
       "      <td>1</td>\n",
       "    </tr>\n",
       "    <tr>\n",
       "      <th>3</th>\n",
       "      <td>2020-01-04</td>\n",
       "      <td>151.86</td>\n",
       "      <td>152.53</td>\n",
       "      <td>151.67</td>\n",
       "      <td>151.75</td>\n",
       "      <td>24082477</td>\n",
       "      <td>152.38</td>\n",
       "      <td>0.0</td>\n",
       "      <td>1.0</td>\n",
       "      <td>1.15</td>\n",
       "      <td>2020</td>\n",
       "      <td>1</td>\n",
       "    </tr>\n",
       "    <tr>\n",
       "      <th>4</th>\n",
       "      <td>2020-01-05</td>\n",
       "      <td>151.89</td>\n",
       "      <td>153.84</td>\n",
       "      <td>151.13</td>\n",
       "      <td>152.63</td>\n",
       "      <td>43187302</td>\n",
       "      <td>153.35</td>\n",
       "      <td>0.0</td>\n",
       "      <td>1.0</td>\n",
       "      <td>0.58</td>\n",
       "      <td>2020</td>\n",
       "      <td>1</td>\n",
       "    </tr>\n",
       "  </tbody>\n",
       "</table>\n",
       "</div>"
      ],
      "text/plain": [
       "        Date    Open    High     Low   Close    Volume  AdjustedClose  \\\n",
       "0 2020-01-01  150.56  150.61  150.01  150.14   7878334         151.20   \n",
       "1 2020-01-02  149.83  149.89  149.39  149.64   2780798         150.01   \n",
       "2 2020-01-03  149.32  150.22  148.76  150.03  11714555         151.22   \n",
       "3 2020-01-04  151.86  152.53  151.67  151.75  24082477         152.38   \n",
       "4 2020-01-05  151.89  153.84  151.13  152.63  43187302         153.35   \n",
       "\n",
       "   Dividend  SplitCoefficient  DailyReturnPercent  year  month  \n",
       "0       0.0               1.0                0.09  2020      1  \n",
       "1       0.0               1.0               -0.33  2020      1  \n",
       "2       0.0               1.0                0.26  2020      1  \n",
       "3       0.0               1.0                1.15  2020      1  \n",
       "4       0.0               1.0                0.58  2020      1  "
      ]
     },
     "execution_count": 1,
     "metadata": {},
     "output_type": "execute_result"
    }
   ],
   "source": [
    "import pandas as pd\n",
    "\n",
    "DATA = '/kaggle/input/microsoft-stock/microsoft_stock_synthetic.csv'\n",
    "df = pd.read_csv(filepath_or_buffer=DATA, parse_dates=['Date'])\n",
    "df['year'] = df['Date'].dt.year\n",
    "df['month'] = df['Date'].dt.month\n",
    "df.head()"
   ]
  },
  {
   "cell_type": "markdown",
   "id": "e6c4b1e9",
   "metadata": {
    "papermill": {
     "duration": 0.003175,
     "end_time": "2025-02-07T20:03:01.388914",
     "exception": false,
     "start_time": "2025-02-07T20:03:01.385739",
     "status": "completed"
    },
    "tags": []
   },
   "source": [
    "First let's look at the price/volume correlations."
   ]
  },
  {
   "cell_type": "code",
   "execution_count": 2,
   "id": "544c83cb",
   "metadata": {
    "execution": {
     "iopub.execute_input": "2025-02-07T20:03:01.396679Z",
     "iopub.status.busy": "2025-02-07T20:03:01.396355Z",
     "iopub.status.idle": "2025-02-07T20:03:01.417359Z",
     "shell.execute_reply": "2025-02-07T20:03:01.416127Z"
    },
    "papermill": {
     "duration": 0.027174,
     "end_time": "2025-02-07T20:03:01.419374",
     "exception": false,
     "start_time": "2025-02-07T20:03:01.392200",
     "status": "completed"
    },
    "tags": []
   },
   "outputs": [
    {
     "data": {
      "text/html": [
       "<div>\n",
       "<style scoped>\n",
       "    .dataframe tbody tr th:only-of-type {\n",
       "        vertical-align: middle;\n",
       "    }\n",
       "\n",
       "    .dataframe tbody tr th {\n",
       "        vertical-align: top;\n",
       "    }\n",
       "\n",
       "    .dataframe thead th {\n",
       "        text-align: right;\n",
       "    }\n",
       "</style>\n",
       "<table border=\"1\" class=\"dataframe\">\n",
       "  <thead>\n",
       "    <tr style=\"text-align: right;\">\n",
       "      <th></th>\n",
       "      <th>Open</th>\n",
       "      <th>High</th>\n",
       "      <th>Low</th>\n",
       "      <th>Close</th>\n",
       "      <th>AdjustedClose</th>\n",
       "      <th>Volume</th>\n",
       "    </tr>\n",
       "  </thead>\n",
       "  <tbody>\n",
       "    <tr>\n",
       "      <th>Open</th>\n",
       "      <td>1.000000</td>\n",
       "      <td>0.998923</td>\n",
       "      <td>0.998881</td>\n",
       "      <td>0.998089</td>\n",
       "      <td>0.987086</td>\n",
       "      <td>-0.051173</td>\n",
       "    </tr>\n",
       "    <tr>\n",
       "      <th>High</th>\n",
       "      <td>0.998923</td>\n",
       "      <td>1.000000</td>\n",
       "      <td>0.997797</td>\n",
       "      <td>0.998141</td>\n",
       "      <td>0.987062</td>\n",
       "      <td>-0.049765</td>\n",
       "    </tr>\n",
       "    <tr>\n",
       "      <th>Low</th>\n",
       "      <td>0.998881</td>\n",
       "      <td>0.997797</td>\n",
       "      <td>1.000000</td>\n",
       "      <td>0.998222</td>\n",
       "      <td>0.987184</td>\n",
       "      <td>-0.051307</td>\n",
       "    </tr>\n",
       "    <tr>\n",
       "      <th>Close</th>\n",
       "      <td>0.998089</td>\n",
       "      <td>0.998141</td>\n",
       "      <td>0.998222</td>\n",
       "      <td>1.000000</td>\n",
       "      <td>0.988703</td>\n",
       "      <td>-0.049996</td>\n",
       "    </tr>\n",
       "    <tr>\n",
       "      <th>AdjustedClose</th>\n",
       "      <td>0.987086</td>\n",
       "      <td>0.987062</td>\n",
       "      <td>0.987184</td>\n",
       "      <td>0.988703</td>\n",
       "      <td>1.000000</td>\n",
       "      <td>-0.046289</td>\n",
       "    </tr>\n",
       "    <tr>\n",
       "      <th>Volume</th>\n",
       "      <td>-0.051173</td>\n",
       "      <td>-0.049765</td>\n",
       "      <td>-0.051307</td>\n",
       "      <td>-0.049996</td>\n",
       "      <td>-0.046289</td>\n",
       "      <td>1.000000</td>\n",
       "    </tr>\n",
       "  </tbody>\n",
       "</table>\n",
       "</div>"
      ],
      "text/plain": [
       "                   Open      High       Low     Close  AdjustedClose    Volume\n",
       "Open           1.000000  0.998923  0.998881  0.998089       0.987086 -0.051173\n",
       "High           0.998923  1.000000  0.997797  0.998141       0.987062 -0.049765\n",
       "Low            0.998881  0.997797  1.000000  0.998222       0.987184 -0.051307\n",
       "Close          0.998089  0.998141  0.998222  1.000000       0.988703 -0.049996\n",
       "AdjustedClose  0.987086  0.987062  0.987184  0.988703       1.000000 -0.046289\n",
       "Volume        -0.051173 -0.049765 -0.051307 -0.049996      -0.046289  1.000000"
      ]
     },
     "execution_count": 2,
     "metadata": {},
     "output_type": "execute_result"
    }
   ],
   "source": [
    "df[['Open', 'High', 'Low', 'Close', 'AdjustedClose', 'Volume']].corr()"
   ]
  },
  {
   "cell_type": "markdown",
   "id": "dd4afeaa",
   "metadata": {
    "papermill": {
     "duration": 0.00319,
     "end_time": "2025-02-07T20:03:01.426338",
     "exception": false,
     "start_time": "2025-02-07T20:03:01.423148",
     "status": "completed"
    },
    "tags": []
   },
   "source": [
    "What do these correlations tell us? First, none of our prices are perfectly correlated, which tells us that none of them is redundant. Second, we see that prices and volumes are uncorrelated."
   ]
  },
  {
   "cell_type": "code",
   "execution_count": 3,
   "id": "9e4456ad",
   "metadata": {
    "execution": {
     "iopub.execute_input": "2025-02-07T20:03:01.434650Z",
     "iopub.status.busy": "2025-02-07T20:03:01.434327Z",
     "iopub.status.idle": "2025-02-07T20:03:04.877176Z",
     "shell.execute_reply": "2025-02-07T20:03:04.875479Z"
    },
    "papermill": {
     "duration": 3.449358,
     "end_time": "2025-02-07T20:03:04.879260",
     "exception": false,
     "start_time": "2025-02-07T20:03:01.429902",
     "status": "completed"
    },
    "tags": []
   },
   "outputs": [
    {
     "data": {
      "text/html": [
       "        <script type=\"text/javascript\">\n",
       "        window.PlotlyConfig = {MathJaxConfig: 'local'};\n",
       "        if (window.MathJax && window.MathJax.Hub && window.MathJax.Hub.Config) {window.MathJax.Hub.Config({SVG: {font: \"STIX-Web\"}});}\n",
       "        if (typeof require !== 'undefined') {\n",
       "        require.undef(\"plotly\");\n",
       "        requirejs.config({\n",
       "            paths: {\n",
       "                'plotly': ['https://cdn.plot.ly/plotly-2.35.2.min']\n",
       "            }\n",
       "        });\n",
       "        require(['plotly'], function(Plotly) {\n",
       "            window._Plotly = Plotly;\n",
       "        });\n",
       "        }\n",
       "        </script>\n",
       "        "
      ]
     },
     "metadata": {},
     "output_type": "display_data"
    },
    {
     "data": {
      "text/html": [
       "<iframe\n",
       "    scrolling=\"no\"\n",
       "    width=\"100%\"\n",
       "    height=\"545px\"\n",
       "    src=\"iframe_figures/figure_3.html\"\n",
       "    frameborder=\"0\"\n",
       "    allowfullscreen\n",
       "></iframe>\n"
      ]
     },
     "metadata": {},
     "output_type": "display_data"
    }
   ],
   "source": [
    "from plotly import express\n",
    "from plotly.offline import init_notebook_mode\n",
    "\n",
    "init_notebook_mode(connected=True)\n",
    "express.scatter(data_frame=df, x='Date', y='AdjustedClose', color='year').show(renderer='iframe_connected',)"
   ]
  },
  {
   "cell_type": "markdown",
   "id": "ca0bfb39",
   "metadata": {
    "papermill": {
     "duration": 0.003394,
     "end_time": "2025-02-07T20:03:04.886825",
     "exception": false,
     "start_time": "2025-02-07T20:03:04.883431",
     "status": "completed"
    },
    "tags": []
   },
   "source": [
    "What do we see? We see that we only have three years of data, and we also see that MSFT has moved up and down quite a bit over the period of interest, but ended up not much changed at the end relative to the beginning. Let's take a look at the volume time series."
   ]
  },
  {
   "cell_type": "code",
   "execution_count": 4,
   "id": "0867a00d",
   "metadata": {
    "execution": {
     "iopub.execute_input": "2025-02-07T20:03:04.895477Z",
     "iopub.status.busy": "2025-02-07T20:03:04.895160Z",
     "iopub.status.idle": "2025-02-07T20:03:04.962323Z",
     "shell.execute_reply": "2025-02-07T20:03:04.961151Z"
    },
    "papermill": {
     "duration": 0.073889,
     "end_time": "2025-02-07T20:03:04.964419",
     "exception": false,
     "start_time": "2025-02-07T20:03:04.890530",
     "status": "completed"
    },
    "tags": []
   },
   "outputs": [
    {
     "data": {
      "text/html": [
       "<iframe\n",
       "    scrolling=\"no\"\n",
       "    width=\"100%\"\n",
       "    height=\"545px\"\n",
       "    src=\"iframe_figures/figure_4.html\"\n",
       "    frameborder=\"0\"\n",
       "    allowfullscreen\n",
       "></iframe>\n"
      ]
     },
     "metadata": {},
     "output_type": "display_data"
    }
   ],
   "source": [
    "express.scatter(data_frame=df, x='Date', y='Volume', color='year').show(renderer='iframe_connected',)"
   ]
  },
  {
   "cell_type": "markdown",
   "id": "977e19f3",
   "metadata": {
    "papermill": {
     "duration": 0.003549,
     "end_time": "2025-02-07T20:03:04.971919",
     "exception": false,
     "start_time": "2025-02-07T20:03:04.968370",
     "status": "completed"
    },
    "tags": []
   },
   "source": [
    "Wow. That data looks a lot like random data. Let's see what its distribution looks like."
   ]
  },
  {
   "cell_type": "code",
   "execution_count": 5,
   "id": "685163f2",
   "metadata": {
    "execution": {
     "iopub.execute_input": "2025-02-07T20:03:04.980705Z",
     "iopub.status.busy": "2025-02-07T20:03:04.980320Z",
     "iopub.status.idle": "2025-02-07T20:03:05.133487Z",
     "shell.execute_reply": "2025-02-07T20:03:05.132319Z"
    },
    "papermill": {
     "duration": 0.159859,
     "end_time": "2025-02-07T20:03:05.135477",
     "exception": false,
     "start_time": "2025-02-07T20:03:04.975618",
     "status": "completed"
    },
    "tags": []
   },
   "outputs": [
    {
     "data": {
      "text/html": [
       "<iframe\n",
       "    scrolling=\"no\"\n",
       "    width=\"100%\"\n",
       "    height=\"545px\"\n",
       "    src=\"iframe_figures/figure_5.html\"\n",
       "    frameborder=\"0\"\n",
       "    allowfullscreen\n",
       "></iframe>\n"
      ]
     },
     "metadata": {},
     "output_type": "display_data"
    }
   ],
   "source": [
    "express.histogram(data_frame=df, x='Volume', facet_col='year').show(renderer='iframe_connected',)"
   ]
  },
  {
   "cell_type": "markdown",
   "id": "2091fd42",
   "metadata": {
    "papermill": {
     "duration": 0.003668,
     "end_time": "2025-02-07T20:03:05.143306",
     "exception": false,
     "start_time": "2025-02-07T20:03:05.139638",
     "status": "completed"
    },
    "tags": []
   },
   "source": [
    "That looks very random. A not very close look at the data card tells us that this isn't actual MSFT data at all, but synthetic data. That explains how the prices and volume could be uncorrelated; we usually see some correlation (-20 pct or so) for stocks with prices that rise over the long term, but price/volume correlations for stocks over the short term can be unpredictable. "
   ]
  },
  {
   "cell_type": "markdown",
   "id": "59957d8e",
   "metadata": {
    "papermill": {
     "duration": 0.003763,
     "end_time": "2025-02-07T20:03:05.151392",
     "exception": false,
     "start_time": "2025-02-07T20:03:05.147629",
     "status": "completed"
    },
    "tags": []
   },
   "source": [
    "Let's take a look at the daily return; we expect that to be random even for real stock data, but we expect it to be more Gaussian rather than uniform."
   ]
  },
  {
   "cell_type": "code",
   "execution_count": 6,
   "id": "d3e789de",
   "metadata": {
    "execution": {
     "iopub.execute_input": "2025-02-07T20:03:05.160892Z",
     "iopub.status.busy": "2025-02-07T20:03:05.160467Z",
     "iopub.status.idle": "2025-02-07T20:03:05.241278Z",
     "shell.execute_reply": "2025-02-07T20:03:05.239619Z"
    },
    "papermill": {
     "duration": 0.088114,
     "end_time": "2025-02-07T20:03:05.243427",
     "exception": false,
     "start_time": "2025-02-07T20:03:05.155313",
     "status": "completed"
    },
    "tags": []
   },
   "outputs": [
    {
     "data": {
      "text/html": [
       "<iframe\n",
       "    scrolling=\"no\"\n",
       "    width=\"100%\"\n",
       "    height=\"545px\"\n",
       "    src=\"iframe_figures/figure_6.html\"\n",
       "    frameborder=\"0\"\n",
       "    allowfullscreen\n",
       "></iframe>\n"
      ]
     },
     "metadata": {},
     "output_type": "display_data"
    }
   ],
   "source": [
    "express.histogram(data_frame=df, x='DailyReturnPercent', facet_col='year').show(renderer='iframe_connected',)"
   ]
  },
  {
   "cell_type": "markdown",
   "id": "f34fadd4",
   "metadata": {
    "papermill": {
     "duration": 0.003754,
     "end_time": "2025-02-07T20:03:05.251832",
     "exception": false,
     "start_time": "2025-02-07T20:03:05.248078",
     "status": "completed"
    },
    "tags": []
   },
   "source": [
    "This is actually more Gaussian than we would expect daily returns to be, which is another (difficult to prove) clue we're working with synthetic data."
   ]
  }
 ],
 "metadata": {
  "kaggle": {
   "accelerator": "none",
   "dataSources": [
    {
     "datasetId": 6621461,
     "sourceId": 10687232,
     "sourceType": "datasetVersion"
    }
   ],
   "dockerImageVersionId": 30886,
   "isGpuEnabled": false,
   "isInternetEnabled": true,
   "language": "python",
   "sourceType": "notebook"
  },
  "kernelspec": {
   "display_name": "Python 3",
   "language": "python",
   "name": "python3"
  },
  "language_info": {
   "codemirror_mode": {
    "name": "ipython",
    "version": 3
   },
   "file_extension": ".py",
   "mimetype": "text/x-python",
   "name": "python",
   "nbconvert_exporter": "python",
   "pygments_lexer": "ipython3",
   "version": "3.10.12"
  },
  "papermill": {
   "default_parameters": {},
   "duration": 8.766273,
   "end_time": "2025-02-07T20:03:05.977749",
   "environment_variables": {},
   "exception": null,
   "input_path": "__notebook__.ipynb",
   "output_path": "__notebook__.ipynb",
   "parameters": {},
   "start_time": "2025-02-07T20:02:57.211476",
   "version": "2.6.0"
  }
 },
 "nbformat": 4,
 "nbformat_minor": 5
}
