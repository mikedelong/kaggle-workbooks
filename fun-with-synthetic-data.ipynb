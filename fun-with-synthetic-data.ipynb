{
 "cells": [
  {
   "cell_type": "code",
   "execution_count": 1,
   "id": "a6f1667f",
   "metadata": {
    "_cell_guid": "b1076dfc-b9ad-4769-8c92-a6c4dae69d19",
    "_uuid": "8f2839f25d086af736a60e9eeb907d3b93b6e0e5",
    "execution": {
     "iopub.execute_input": "2025-02-07T20:04:26.199124Z",
     "iopub.status.busy": "2025-02-07T20:04:26.198447Z",
     "iopub.status.idle": "2025-02-07T20:04:27.323800Z",
     "shell.execute_reply": "2025-02-07T20:04:27.322432Z"
    },
    "papermill": {
     "duration": 1.133798,
     "end_time": "2025-02-07T20:04:27.325862",
     "exception": false,
     "start_time": "2025-02-07T20:04:26.192064",
     "status": "completed"
    },
    "tags": []
   },
   "outputs": [
    {
     "data": {
      "text/html": [
       "<div>\n",
       "<style scoped>\n",
       "    .dataframe tbody tr th:only-of-type {\n",
       "        vertical-align: middle;\n",
       "    }\n",
       "\n",
       "    .dataframe tbody tr th {\n",
       "        vertical-align: top;\n",
       "    }\n",
       "\n",
       "    .dataframe thead th {\n",
       "        text-align: right;\n",
       "    }\n",
       "</style>\n",
       "<table border=\"1\" class=\"dataframe\">\n",
       "  <thead>\n",
       "    <tr style=\"text-align: right;\">\n",
       "      <th></th>\n",
       "      <th>Date</th>\n",
       "      <th>Open</th>\n",
       "      <th>High</th>\n",
       "      <th>Low</th>\n",
       "      <th>Close</th>\n",
       "      <th>Volume</th>\n",
       "      <th>AdjustedClose</th>\n",
       "      <th>Dividend</th>\n",
       "      <th>SplitCoefficient</th>\n",
       "      <th>DailyReturnPercent</th>\n",
       "      <th>year</th>\n",
       "      <th>month</th>\n",
       "    </tr>\n",
       "  </thead>\n",
       "  <tbody>\n",
       "    <tr>\n",
       "      <th>0</th>\n",
       "      <td>2020-01-01</td>\n",
       "      <td>150.56</td>\n",
       "      <td>150.61</td>\n",
       "      <td>150.01</td>\n",
       "      <td>150.14</td>\n",
       "      <td>7878334</td>\n",
       "      <td>151.20</td>\n",
       "      <td>0.0</td>\n",
       "      <td>1.0</td>\n",
       "      <td>0.09</td>\n",
       "      <td>2020</td>\n",
       "      <td>1</td>\n",
       "    </tr>\n",
       "    <tr>\n",
       "      <th>1</th>\n",
       "      <td>2020-01-02</td>\n",
       "      <td>149.83</td>\n",
       "      <td>149.89</td>\n",
       "      <td>149.39</td>\n",
       "      <td>149.64</td>\n",
       "      <td>2780798</td>\n",
       "      <td>150.01</td>\n",
       "      <td>0.0</td>\n",
       "      <td>1.0</td>\n",
       "      <td>-0.33</td>\n",
       "      <td>2020</td>\n",
       "      <td>1</td>\n",
       "    </tr>\n",
       "    <tr>\n",
       "      <th>2</th>\n",
       "      <td>2020-01-03</td>\n",
       "      <td>149.32</td>\n",
       "      <td>150.22</td>\n",
       "      <td>148.76</td>\n",
       "      <td>150.03</td>\n",
       "      <td>11714555</td>\n",
       "      <td>151.22</td>\n",
       "      <td>0.0</td>\n",
       "      <td>1.0</td>\n",
       "      <td>0.26</td>\n",
       "      <td>2020</td>\n",
       "      <td>1</td>\n",
       "    </tr>\n",
       "    <tr>\n",
       "      <th>3</th>\n",
       "      <td>2020-01-04</td>\n",
       "      <td>151.86</td>\n",
       "      <td>152.53</td>\n",
       "      <td>151.67</td>\n",
       "      <td>151.75</td>\n",
       "      <td>24082477</td>\n",
       "      <td>152.38</td>\n",
       "      <td>0.0</td>\n",
       "      <td>1.0</td>\n",
       "      <td>1.15</td>\n",
       "      <td>2020</td>\n",
       "      <td>1</td>\n",
       "    </tr>\n",
       "    <tr>\n",
       "      <th>4</th>\n",
       "      <td>2020-01-05</td>\n",
       "      <td>151.89</td>\n",
       "      <td>153.84</td>\n",
       "      <td>151.13</td>\n",
       "      <td>152.63</td>\n",
       "      <td>43187302</td>\n",
       "      <td>153.35</td>\n",
       "      <td>0.0</td>\n",
       "      <td>1.0</td>\n",
       "      <td>0.58</td>\n",
       "      <td>2020</td>\n",
       "      <td>1</td>\n",
       "    </tr>\n",
       "  </tbody>\n",
       "</table>\n",
       "</div>"
      ],
      "text/plain": [
       "        Date    Open    High     Low   Close    Volume  AdjustedClose  \\\n",
       "0 2020-01-01  150.56  150.61  150.01  150.14   7878334         151.20   \n",
       "1 2020-01-02  149.83  149.89  149.39  149.64   2780798         150.01   \n",
       "2 2020-01-03  149.32  150.22  148.76  150.03  11714555         151.22   \n",
       "3 2020-01-04  151.86  152.53  151.67  151.75  24082477         152.38   \n",
       "4 2020-01-05  151.89  153.84  151.13  152.63  43187302         153.35   \n",
       "\n",
       "   Dividend  SplitCoefficient  DailyReturnPercent  year  month  \n",
       "0       0.0               1.0                0.09  2020      1  \n",
       "1       0.0               1.0               -0.33  2020      1  \n",
       "2       0.0               1.0                0.26  2020      1  \n",
       "3       0.0               1.0                1.15  2020      1  \n",
       "4       0.0               1.0                0.58  2020      1  "
      ]
     },
     "execution_count": 1,
     "metadata": {},
     "output_type": "execute_result"
    }
   ],
   "source": [
    "import pandas as pd\n",
    "\n",
    "DATA = '/kaggle/input/microsoft-stock/microsoft_stock_synthetic.csv'\n",
    "df = pd.read_csv(filepath_or_buffer=DATA, parse_dates=['Date'])\n",
    "df['year'] = df['Date'].dt.year\n",
    "df['month'] = df['Date'].dt.month\n",
    "df.head()"
   ]
  },
  {
   "cell_type": "markdown",
   "id": "50509c61",
   "metadata": {
    "papermill": {
     "duration": 0.003699,
     "end_time": "2025-02-07T20:04:27.334177",
     "exception": false,
     "start_time": "2025-02-07T20:04:27.330478",
     "status": "completed"
    },
    "tags": []
   },
   "source": [
    "First let's look at the price/volume correlations."
   ]
  },
  {
   "cell_type": "code",
   "execution_count": 2,
   "id": "c5c16f13",
   "metadata": {
    "execution": {
     "iopub.execute_input": "2025-02-07T20:04:27.343802Z",
     "iopub.status.busy": "2025-02-07T20:04:27.343383Z",
     "iopub.status.idle": "2025-02-07T20:04:27.365523Z",
     "shell.execute_reply": "2025-02-07T20:04:27.364266Z"
    },
    "papermill": {
     "duration": 0.029912,
     "end_time": "2025-02-07T20:04:27.368172",
     "exception": false,
     "start_time": "2025-02-07T20:04:27.338260",
     "status": "completed"
    },
    "tags": []
   },
   "outputs": [
    {
     "data": {
      "text/html": [
       "<div>\n",
       "<style scoped>\n",
       "    .dataframe tbody tr th:only-of-type {\n",
       "        vertical-align: middle;\n",
       "    }\n",
       "\n",
       "    .dataframe tbody tr th {\n",
       "        vertical-align: top;\n",
       "    }\n",
       "\n",
       "    .dataframe thead th {\n",
       "        text-align: right;\n",
       "    }\n",
       "</style>\n",
       "<table border=\"1\" class=\"dataframe\">\n",
       "  <thead>\n",
       "    <tr style=\"text-align: right;\">\n",
       "      <th></th>\n",
       "      <th>Open</th>\n",
       "      <th>High</th>\n",
       "      <th>Low</th>\n",
       "      <th>Close</th>\n",
       "      <th>AdjustedClose</th>\n",
       "      <th>Volume</th>\n",
       "    </tr>\n",
       "  </thead>\n",
       "  <tbody>\n",
       "    <tr>\n",
       "      <th>Open</th>\n",
       "      <td>1.000000</td>\n",
       "      <td>0.998923</td>\n",
       "      <td>0.998881</td>\n",
       "      <td>0.998089</td>\n",
       "      <td>0.987086</td>\n",
       "      <td>-0.051173</td>\n",
       "    </tr>\n",
       "    <tr>\n",
       "      <th>High</th>\n",
       "      <td>0.998923</td>\n",
       "      <td>1.000000</td>\n",
       "      <td>0.997797</td>\n",
       "      <td>0.998141</td>\n",
       "      <td>0.987062</td>\n",
       "      <td>-0.049765</td>\n",
       "    </tr>\n",
       "    <tr>\n",
       "      <th>Low</th>\n",
       "      <td>0.998881</td>\n",
       "      <td>0.997797</td>\n",
       "      <td>1.000000</td>\n",
       "      <td>0.998222</td>\n",
       "      <td>0.987184</td>\n",
       "      <td>-0.051307</td>\n",
       "    </tr>\n",
       "    <tr>\n",
       "      <th>Close</th>\n",
       "      <td>0.998089</td>\n",
       "      <td>0.998141</td>\n",
       "      <td>0.998222</td>\n",
       "      <td>1.000000</td>\n",
       "      <td>0.988703</td>\n",
       "      <td>-0.049996</td>\n",
       "    </tr>\n",
       "    <tr>\n",
       "      <th>AdjustedClose</th>\n",
       "      <td>0.987086</td>\n",
       "      <td>0.987062</td>\n",
       "      <td>0.987184</td>\n",
       "      <td>0.988703</td>\n",
       "      <td>1.000000</td>\n",
       "      <td>-0.046289</td>\n",
       "    </tr>\n",
       "    <tr>\n",
       "      <th>Volume</th>\n",
       "      <td>-0.051173</td>\n",
       "      <td>-0.049765</td>\n",
       "      <td>-0.051307</td>\n",
       "      <td>-0.049996</td>\n",
       "      <td>-0.046289</td>\n",
       "      <td>1.000000</td>\n",
       "    </tr>\n",
       "  </tbody>\n",
       "</table>\n",
       "</div>"
      ],
      "text/plain": [
       "                   Open      High       Low     Close  AdjustedClose    Volume\n",
       "Open           1.000000  0.998923  0.998881  0.998089       0.987086 -0.051173\n",
       "High           0.998923  1.000000  0.997797  0.998141       0.987062 -0.049765\n",
       "Low            0.998881  0.997797  1.000000  0.998222       0.987184 -0.051307\n",
       "Close          0.998089  0.998141  0.998222  1.000000       0.988703 -0.049996\n",
       "AdjustedClose  0.987086  0.987062  0.987184  0.988703       1.000000 -0.046289\n",
       "Volume        -0.051173 -0.049765 -0.051307 -0.049996      -0.046289  1.000000"
      ]
     },
     "execution_count": 2,
     "metadata": {},
     "output_type": "execute_result"
    }
   ],
   "source": [
    "df[['Open', 'High', 'Low', 'Close', 'AdjustedClose', 'Volume']].corr()"
   ]
  },
  {
   "cell_type": "markdown",
   "id": "a6f46a7b",
   "metadata": {
    "papermill": {
     "duration": 0.003751,
     "end_time": "2025-02-07T20:04:27.376237",
     "exception": false,
     "start_time": "2025-02-07T20:04:27.372486",
     "status": "completed"
    },
    "tags": []
   },
   "source": [
    "What do these correlations tell us? First, none of our prices are perfectly correlated, which tells us that none of them is redundant. Second, we see that prices and volumes are uncorrelated."
   ]
  },
  {
   "cell_type": "code",
   "execution_count": 3,
   "id": "8ebeaecb",
   "metadata": {
    "execution": {
     "iopub.execute_input": "2025-02-07T20:04:27.386129Z",
     "iopub.status.busy": "2025-02-07T20:04:27.385650Z",
     "iopub.status.idle": "2025-02-07T20:04:31.038732Z",
     "shell.execute_reply": "2025-02-07T20:04:31.037329Z"
    },
    "papermill": {
     "duration": 3.660774,
     "end_time": "2025-02-07T20:04:31.041042",
     "exception": false,
     "start_time": "2025-02-07T20:04:27.380268",
     "status": "completed"
    },
    "tags": []
   },
   "outputs": [
    {
     "data": {
      "text/html": [
       "        <script type=\"text/javascript\">\n",
       "        window.PlotlyConfig = {MathJaxConfig: 'local'};\n",
       "        if (window.MathJax && window.MathJax.Hub && window.MathJax.Hub.Config) {window.MathJax.Hub.Config({SVG: {font: \"STIX-Web\"}});}\n",
       "        if (typeof require !== 'undefined') {\n",
       "        require.undef(\"plotly\");\n",
       "        requirejs.config({\n",
       "            paths: {\n",
       "                'plotly': ['https://cdn.plot.ly/plotly-2.35.2.min']\n",
       "            }\n",
       "        });\n",
       "        require(['plotly'], function(Plotly) {\n",
       "            window._Plotly = Plotly;\n",
       "        });\n",
       "        }\n",
       "        </script>\n",
       "        "
      ]
     },
     "metadata": {},
     "output_type": "display_data"
    },
    {
     "data": {
      "text/html": [
       "<iframe\n",
       "    scrolling=\"no\"\n",
       "    width=\"100%\"\n",
       "    height=\"545px\"\n",
       "    src=\"iframe_figures/figure_3.html\"\n",
       "    frameborder=\"0\"\n",
       "    allowfullscreen\n",
       "></iframe>\n"
      ]
     },
     "metadata": {},
     "output_type": "display_data"
    }
   ],
   "source": [
    "from plotly import express\n",
    "from plotly.offline import init_notebook_mode\n",
    "\n",
    "init_notebook_mode(connected=True)\n",
    "express.scatter(data_frame=df, x='Date', y='AdjustedClose', color='year').show(renderer='iframe_connected',)"
   ]
  },
  {
   "cell_type": "markdown",
   "id": "32b5d052",
   "metadata": {
    "papermill": {
     "duration": 0.004048,
     "end_time": "2025-02-07T20:04:31.049729",
     "exception": false,
     "start_time": "2025-02-07T20:04:31.045681",
     "status": "completed"
    },
    "tags": []
   },
   "source": [
    "What do we see? We see that we only have three years of data, and we also see that MSFT has moved up and down quite a bit over the period of interest, but ended up not much changed at the end relative to the beginning. Let's take a look at the volume time series."
   ]
  },
  {
   "cell_type": "code",
   "execution_count": 4,
   "id": "138dce67",
   "metadata": {
    "execution": {
     "iopub.execute_input": "2025-02-07T20:04:31.060282Z",
     "iopub.status.busy": "2025-02-07T20:04:31.059818Z",
     "iopub.status.idle": "2025-02-07T20:04:31.131410Z",
     "shell.execute_reply": "2025-02-07T20:04:31.130122Z"
    },
    "papermill": {
     "duration": 0.079355,
     "end_time": "2025-02-07T20:04:31.133378",
     "exception": false,
     "start_time": "2025-02-07T20:04:31.054023",
     "status": "completed"
    },
    "tags": []
   },
   "outputs": [
    {
     "data": {
      "text/html": [
       "<iframe\n",
       "    scrolling=\"no\"\n",
       "    width=\"100%\"\n",
       "    height=\"545px\"\n",
       "    src=\"iframe_figures/figure_4.html\"\n",
       "    frameborder=\"0\"\n",
       "    allowfullscreen\n",
       "></iframe>\n"
      ]
     },
     "metadata": {},
     "output_type": "display_data"
    }
   ],
   "source": [
    "express.scatter(data_frame=df, x='Date', y='Volume', color='year').show(renderer='iframe_connected',)"
   ]
  },
  {
   "cell_type": "markdown",
   "id": "1237fce3",
   "metadata": {
    "papermill": {
     "duration": 0.004,
     "end_time": "2025-02-07T20:04:31.141963",
     "exception": false,
     "start_time": "2025-02-07T20:04:31.137963",
     "status": "completed"
    },
    "tags": []
   },
   "source": [
    "Wow. That data looks a lot like random data. Let's see what its distribution looks like."
   ]
  },
  {
   "cell_type": "code",
   "execution_count": 5,
   "id": "d1110071",
   "metadata": {
    "execution": {
     "iopub.execute_input": "2025-02-07T20:04:31.152486Z",
     "iopub.status.busy": "2025-02-07T20:04:31.151984Z",
     "iopub.status.idle": "2025-02-07T20:04:31.303816Z",
     "shell.execute_reply": "2025-02-07T20:04:31.302233Z"
    },
    "papermill": {
     "duration": 0.159967,
     "end_time": "2025-02-07T20:04:31.306208",
     "exception": false,
     "start_time": "2025-02-07T20:04:31.146241",
     "status": "completed"
    },
    "tags": []
   },
   "outputs": [
    {
     "data": {
      "text/html": [
       "<iframe\n",
       "    scrolling=\"no\"\n",
       "    width=\"100%\"\n",
       "    height=\"545px\"\n",
       "    src=\"iframe_figures/figure_5.html\"\n",
       "    frameborder=\"0\"\n",
       "    allowfullscreen\n",
       "></iframe>\n"
      ]
     },
     "metadata": {},
     "output_type": "display_data"
    }
   ],
   "source": [
    "express.histogram(data_frame=df, x='Volume', facet_col='year').show(renderer='iframe_connected',)"
   ]
  },
  {
   "cell_type": "code",
   "execution_count": 6,
   "id": "69e6e5ba",
   "metadata": {
    "execution": {
     "iopub.execute_input": "2025-02-07T20:04:31.317799Z",
     "iopub.status.busy": "2025-02-07T20:04:31.317374Z",
     "iopub.status.idle": "2025-02-07T20:04:31.484926Z",
     "shell.execute_reply": "2025-02-07T20:04:31.483494Z"
    },
    "papermill": {
     "duration": 0.175943,
     "end_time": "2025-02-07T20:04:31.487067",
     "exception": false,
     "start_time": "2025-02-07T20:04:31.311124",
     "status": "completed"
    },
    "tags": []
   },
   "outputs": [
    {
     "data": {
      "text/html": [
       "<iframe\n",
       "    scrolling=\"no\"\n",
       "    width=\"100%\"\n",
       "    height=\"545px\"\n",
       "    src=\"iframe_figures/figure_6.html\"\n",
       "    frameborder=\"0\"\n",
       "    allowfullscreen\n",
       "></iframe>\n"
      ]
     },
     "metadata": {},
     "output_type": "display_data"
    }
   ],
   "source": [
    "express.histogram(data_frame=df, x='Volume', facet_col='month').show(renderer='iframe_connected',)"
   ]
  },
  {
   "cell_type": "markdown",
   "id": "750ca702",
   "metadata": {
    "papermill": {
     "duration": 0.00424,
     "end_time": "2025-02-07T20:04:31.496181",
     "exception": false,
     "start_time": "2025-02-07T20:04:31.491941",
     "status": "completed"
    },
    "tags": []
   },
   "source": [
    "That looks very random. A not very close look at the data card tells us that this isn't actual MSFT data at all, but synthetic data. That explains how the prices and volume could be uncorrelated; we usually see some correlation (-20 pct or so) for stocks with prices that rise over the long term, but price/volume correlations for stocks over the short term can be unpredictable. "
   ]
  },
  {
   "cell_type": "markdown",
   "id": "190015c0",
   "metadata": {
    "papermill": {
     "duration": 0.004037,
     "end_time": "2025-02-07T20:04:31.504711",
     "exception": false,
     "start_time": "2025-02-07T20:04:31.500674",
     "status": "completed"
    },
    "tags": []
   },
   "source": [
    "Let's take a look at the daily return; we expect that to be random even for real stock data, but we expect it to be more Gaussian rather than uniform."
   ]
  },
  {
   "cell_type": "code",
   "execution_count": 7,
   "id": "a6b50a82",
   "metadata": {
    "execution": {
     "iopub.execute_input": "2025-02-07T20:04:31.515369Z",
     "iopub.status.busy": "2025-02-07T20:04:31.514879Z",
     "iopub.status.idle": "2025-02-07T20:04:31.739314Z",
     "shell.execute_reply": "2025-02-07T20:04:31.737924Z"
    },
    "papermill": {
     "duration": 0.232579,
     "end_time": "2025-02-07T20:04:31.741747",
     "exception": false,
     "start_time": "2025-02-07T20:04:31.509168",
     "status": "completed"
    },
    "tags": []
   },
   "outputs": [
    {
     "data": {
      "text/html": [
       "<iframe\n",
       "    scrolling=\"no\"\n",
       "    width=\"100%\"\n",
       "    height=\"545px\"\n",
       "    src=\"iframe_figures/figure_7.html\"\n",
       "    frameborder=\"0\"\n",
       "    allowfullscreen\n",
       "></iframe>\n"
      ]
     },
     "metadata": {},
     "output_type": "display_data"
    }
   ],
   "source": [
    "express.histogram(data_frame=df, x='DailyReturnPercent', facet_col='year').show(renderer='iframe_connected',)"
   ]
  },
  {
   "cell_type": "code",
   "execution_count": 8,
   "id": "3d893f8d",
   "metadata": {
    "execution": {
     "iopub.execute_input": "2025-02-07T20:04:31.753047Z",
     "iopub.status.busy": "2025-02-07T20:04:31.752650Z",
     "iopub.status.idle": "2025-02-07T20:04:31.919000Z",
     "shell.execute_reply": "2025-02-07T20:04:31.917823Z"
    },
    "papermill": {
     "duration": 0.174656,
     "end_time": "2025-02-07T20:04:31.921223",
     "exception": false,
     "start_time": "2025-02-07T20:04:31.746567",
     "status": "completed"
    },
    "tags": []
   },
   "outputs": [
    {
     "data": {
      "text/html": [
       "<iframe\n",
       "    scrolling=\"no\"\n",
       "    width=\"100%\"\n",
       "    height=\"545px\"\n",
       "    src=\"iframe_figures/figure_8.html\"\n",
       "    frameborder=\"0\"\n",
       "    allowfullscreen\n",
       "></iframe>\n"
      ]
     },
     "metadata": {},
     "output_type": "display_data"
    }
   ],
   "source": [
    "express.histogram(data_frame=df, x='DailyReturnPercent', facet_col='month').show(renderer='iframe_connected',)"
   ]
  },
  {
   "cell_type": "markdown",
   "id": "a307a7b2",
   "metadata": {
    "papermill": {
     "duration": 0.004103,
     "end_time": "2025-02-07T20:04:31.929966",
     "exception": false,
     "start_time": "2025-02-07T20:04:31.925863",
     "status": "completed"
    },
    "tags": []
   },
   "source": [
    "This is actually more Gaussian than we would expect daily returns to be, which is another (difficult to prove) clue we're working with synthetic data."
   ]
  }
 ],
 "metadata": {
  "kaggle": {
   "accelerator": "none",
   "dataSources": [
    {
     "datasetId": 6621461,
     "sourceId": 10687232,
     "sourceType": "datasetVersion"
    }
   ],
   "dockerImageVersionId": 30886,
   "isGpuEnabled": false,
   "isInternetEnabled": true,
   "language": "python",
   "sourceType": "notebook"
  },
  "kernelspec": {
   "display_name": "Python 3",
   "language": "python",
   "name": "python3"
  },
  "language_info": {
   "codemirror_mode": {
    "name": "ipython",
    "version": 3
   },
   "file_extension": ".py",
   "mimetype": "text/x-python",
   "name": "python",
   "nbconvert_exporter": "python",
   "pygments_lexer": "ipython3",
   "version": "3.10.12"
  },
  "papermill": {
   "default_parameters": {},
   "duration": 10.582801,
   "end_time": "2025-02-07T20:04:32.965954",
   "environment_variables": {},
   "exception": null,
   "input_path": "__notebook__.ipynb",
   "output_path": "__notebook__.ipynb",
   "parameters": {},
   "start_time": "2025-02-07T20:04:22.383153",
   "version": "2.6.0"
  }
 },
 "nbformat": 4,
 "nbformat_minor": 5
}
