{
 "cells": [
  {
   "cell_type": "code",
   "execution_count": 1,
   "id": "6c412d5c",
   "metadata": {
    "_cell_guid": "b1076dfc-b9ad-4769-8c92-a6c4dae69d19",
    "_uuid": "8f2839f25d086af736a60e9eeb907d3b93b6e0e5",
    "execution": {
     "iopub.execute_input": "2024-09-05T14:36:10.151775Z",
     "iopub.status.busy": "2024-09-05T14:36:10.151297Z",
     "iopub.status.idle": "2024-09-05T14:36:16.853267Z",
     "shell.execute_reply": "2024-09-05T14:36:16.852184Z"
    },
    "papermill": {
     "duration": 6.710058,
     "end_time": "2024-09-05T14:36:16.856201",
     "exception": false,
     "start_time": "2024-09-05T14:36:10.146143",
     "status": "completed"
    },
    "tags": []
   },
   "outputs": [
    {
     "name": "stderr",
     "output_type": "stream",
     "text": [
      "Downloading: \"https://download.pytorch.org/models/resnext50_32x4d-1a0047aa.pth\" to /root/.cache/torch/hub/checkpoints/resnext50_32x4d-1a0047aa.pth\n",
      "100%|██████████| 95.8M/95.8M [00:00<00:00, 125MB/s]\n"
     ]
    }
   ],
   "source": [
    "import torch\n",
    "import torchvision.models as models\n",
    "import torchvision.transforms as transforms\n",
    "import numpy as np\n",
    "\n",
    "\n",
    "DEVICE = torch.device('cpu')\n",
    "OUTPUT_SIZE = 2048\n",
    "\n",
    "model = models.resnext50_32x4d(weights=models.ResNeXt50_32X4D_Weights.IMAGENET1K_V2)\n",
    "\n",
    "extraction_layer = model._modules.get('avgpool')\n",
    "model.to(DEVICE)\n",
    "model.eval()\n",
    "\n",
    "scaler = transforms.Resize((224, 224))\n",
    "normalize = transforms.Normalize(mean=[0.485, 0.456, 0.406], std=[0.229, 0.224, 0.225])\n",
    "to_tensor = transforms.ToTensor()\n",
    "\n",
    "def get_vec(arg, model, extraction_layer):\n",
    "    image = normalize(to_tensor(scaler(arg))).unsqueeze(0).to(DEVICE)\n",
    "    result = torch.zeros(1, OUTPUT_SIZE, 1, 1)\n",
    "    def copy_data(m, i, o):\n",
    "        result.copy_(o.data)\n",
    "    hooked = extraction_layer.register_forward_hook(copy_data)\n",
    "    with torch.no_grad():\n",
    "        model(image)\n",
    "    hooked.remove()\n",
    "    return result"
   ]
  },
  {
   "cell_type": "code",
   "execution_count": 2,
   "id": "5c9d6409",
   "metadata": {
    "execution": {
     "iopub.execute_input": "2024-09-05T14:36:16.864969Z",
     "iopub.status.busy": "2024-09-05T14:36:16.864409Z",
     "iopub.status.idle": "2024-09-05T15:01:19.389023Z",
     "shell.execute_reply": "2024-09-05T15:01:19.387871Z"
    },
    "papermill": {
     "duration": 1502.53463,
     "end_time": "2024-09-05T15:01:19.394455",
     "exception": false,
     "start_time": "2024-09-05T14:36:16.859825",
     "status": "completed"
    },
    "tags": []
   },
   "outputs": [
    {
     "name": "stdout",
     "output_type": "stream",
     "text": [
      "done loading training data in 0:20:01.792344\n",
      "done in 0:25:01.979784\n"
     ]
    }
   ],
   "source": [
    "import arrow\n",
    "import base64\n",
    "import pandas as pd\n",
    "from glob import iglob\n",
    "from io import BytesIO\n",
    "from os.path import basename\n",
    "from os.path import dirname\n",
    "from PIL import Image\n",
    "\n",
    "ROOT = '/kaggle/input/mtarsidataset/MTARSI_Dataset'\n",
    "TEST_IMAGES = ROOT + '/test'\n",
    "THUMBNAIL_SIZE = (128, 128)\n",
    "TRAIN_IMAGES = ROOT + '/train'\n",
    "\n",
    "\n",
    "def embed(model, filename: str):\n",
    "    with Image.open(fp=filename, mode='r') as image:\n",
    "        return get_vec(arg=image.convert('RGB'), model=model, extraction_layer=extraction_layer).numpy().reshape(OUTPUT_SIZE,)\n",
    "\n",
    "def png(filename: str) -> str:\n",
    "    with Image.open(fp=filename, mode='r') as image:\n",
    "        buffer = BytesIO()\n",
    "        # our images are pretty big; let's shrink the hover images to thumbnail size\n",
    "        image.resize(size=THUMBNAIL_SIZE).convert('RGB').save(buffer, format='png')\n",
    "        return 'data:image/png;base64,' + base64.b64encode(buffer.getvalue()).decode()\n",
    "\n",
    "time_start = arrow.now()\n",
    "train_df = pd.DataFrame(data=[pd.Series(data=[basename(item), embed(model=model, filename=item), png(filename=item), basename(dirname(item))],\n",
    "                                        index=['item', 'value', 'png', 'label']) for item in iglob(TRAIN_IMAGES + '/*/*.jpeg')])\n",
    "print('done loading training data in {}'.format(arrow.now() - time_start))\n",
    "test_df = pd.DataFrame(data=[pd.Series(data=[basename(item), embed(model=model, filename=item), png(filename=item), basename(dirname(item))],\n",
    "                                        index=['item', 'value', 'png', 'label']) for item in iglob(TEST_IMAGES + '/*/*.jpeg')])\n",
    "print('done in {}'.format(arrow.now() - time_start))"
   ]
  }
 ],
 "metadata": {
  "kaggle": {
   "accelerator": "none",
   "dataSources": [
    {
     "datasetId": 2528703,
     "sourceId": 4291591,
     "sourceType": "datasetVersion"
    }
   ],
   "dockerImageVersionId": 30761,
   "isGpuEnabled": false,
   "isInternetEnabled": true,
   "language": "python",
   "sourceType": "notebook"
  },
  "kernelspec": {
   "display_name": "Python 3",
   "language": "python",
   "name": "python3"
  },
  "language_info": {
   "codemirror_mode": {
    "name": "ipython",
    "version": 3
   },
   "file_extension": ".py",
   "mimetype": "text/x-python",
   "name": "python",
   "nbconvert_exporter": "python",
   "pygments_lexer": "ipython3",
   "version": "3.10.14"
  },
  "papermill": {
   "default_parameters": {},
   "duration": 1513.59886,
   "end_time": "2024-09-05T15:01:20.722929",
   "environment_variables": {},
   "exception": null,
   "input_path": "__notebook__.ipynb",
   "output_path": "__notebook__.ipynb",
   "parameters": {},
   "start_time": "2024-09-05T14:36:07.124069",
   "version": "2.6.0"
  }
 },
 "nbformat": 4,
 "nbformat_minor": 5
}
