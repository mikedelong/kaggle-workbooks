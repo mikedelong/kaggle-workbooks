{
 "cells": [
  {
   "cell_type": "code",
   "execution_count": 1,
   "id": "b7836cca",
   "metadata": {
    "execution": {
     "iopub.execute_input": "2023-11-13T14:01:50.102451Z",
     "iopub.status.busy": "2023-11-13T14:01:50.101660Z",
     "iopub.status.idle": "2023-11-13T14:01:57.154345Z",
     "shell.execute_reply": "2023-11-13T14:01:57.153167Z"
    },
    "papermill": {
     "duration": 7.059841,
     "end_time": "2023-11-13T14:01:57.156960",
     "exception": false,
     "start_time": "2023-11-13T14:01:50.097119",
     "status": "completed"
    },
    "tags": []
   },
   "outputs": [
    {
     "data": {
      "text/html": [
       "<div>\n",
       "<style scoped>\n",
       "    .dataframe tbody tr th:only-of-type {\n",
       "        vertical-align: middle;\n",
       "    }\n",
       "\n",
       "    .dataframe tbody tr th {\n",
       "        vertical-align: top;\n",
       "    }\n",
       "\n",
       "    .dataframe thead th {\n",
       "        text-align: right;\n",
       "    }\n",
       "</style>\n",
       "<table border=\"1\" class=\"dataframe\">\n",
       "  <thead>\n",
       "    <tr style=\"text-align: right;\">\n",
       "      <th></th>\n",
       "      <th>source_id</th>\n",
       "      <th>source_name</th>\n",
       "      <th>author</th>\n",
       "      <th>title</th>\n",
       "      <th>description</th>\n",
       "      <th>published_at</th>\n",
       "      <th>content</th>\n",
       "      <th>category</th>\n",
       "      <th>full_content</th>\n",
       "      <th>date</th>\n",
       "    </tr>\n",
       "    <tr>\n",
       "      <th>article_id</th>\n",
       "      <th></th>\n",
       "      <th></th>\n",
       "      <th></th>\n",
       "      <th></th>\n",
       "      <th></th>\n",
       "      <th></th>\n",
       "      <th></th>\n",
       "      <th></th>\n",
       "      <th></th>\n",
       "      <th></th>\n",
       "    </tr>\n",
       "  </thead>\n",
       "  <tbody>\n",
       "    <tr>\n",
       "      <th>81664</th>\n",
       "      <td>NaN</td>\n",
       "      <td>Forbes</td>\n",
       "      <td>Elizabeth Brownfield, Contributor, \\n Elizabet...</td>\n",
       "      <td>Superstar Chef Yannick Alléno Brings Refined F...</td>\n",
       "      <td>Now open in Mayfair at Four Seasons Hotel Lond...</td>\n",
       "      <td>2023-11-01 03:27:21.000000</td>\n",
       "      <td>Pavyllon London, at Four Seasons Hotel London ...</td>\n",
       "      <td>Monaco</td>\n",
       "      <td>Pavyllon London, at Four Seasons Hotel London ...</td>\n",
       "      <td>2023-11-01</td>\n",
       "    </tr>\n",
       "    <tr>\n",
       "      <th>81666</th>\n",
       "      <td>NaN</td>\n",
       "      <td>Eurosport.fr</td>\n",
       "      <td>NaN</td>\n",
       "      <td>Battu sur le fil à Nancy, Paris cède son trône</td>\n",
       "      <td>\"Le Paris Basketball n\\u0027est plus invincibl...</td>\n",
       "      <td>2023-10-05 21:36:49.000000</td>\n",
       "      <td>T.J. Shorts, Paris Basketball\\nCrédit: Imago</td>\n",
       "      <td>Monaco</td>\n",
       "      <td>NaN</td>\n",
       "      <td>2023-10-05</td>\n",
       "    </tr>\n",
       "    <tr>\n",
       "      <th>81667</th>\n",
       "      <td>NaN</td>\n",
       "      <td>CNA</td>\n",
       "      <td>NaN</td>\n",
       "      <td>Nice claim top spot in Ligue 1 with late win a...</td>\n",
       "      <td>Nice moved into provisional first place in the...</td>\n",
       "      <td>2023-10-27 21:28:48.000000</td>\n",
       "      <td>Nice moved into provisional first place in the...</td>\n",
       "      <td>Monaco</td>\n",
       "      <td>Nice moved into provisional first place in the...</td>\n",
       "      <td>2023-10-27</td>\n",
       "    </tr>\n",
       "    <tr>\n",
       "      <th>81680</th>\n",
       "      <td>NaN</td>\n",
       "      <td>Paul Tan's Automotive News</td>\n",
       "      <td>Mohan K Ramanujam</td>\n",
       "      <td>Lotus reveals Type 136 First Edition e-bike, R...</td>\n",
       "      <td>Fusing Formula 1 engineering with electric bic...</td>\n",
       "      <td>2023-11-02 05:32:49.000000</td>\n",
       "      <td>Fusing Formula 1 engineering with electric bic...</td>\n",
       "      <td>Monaco</td>\n",
       "      <td>NaN</td>\n",
       "      <td>2023-11-02</td>\n",
       "    </tr>\n",
       "    <tr>\n",
       "      <th>81683</th>\n",
       "      <td>NaN</td>\n",
       "      <td>Autocar</td>\n",
       "      <td>Felix Page</td>\n",
       "      <td>New Mazda concept previews rotary-electric MX-...</td>\n",
       "      <td>Rotary-electric powertrain is said to allow fo...</td>\n",
       "      <td>2023-10-25 00:31:45.000000</td>\n",
       "      <td>Mazda has given a radical vision of what the f...</td>\n",
       "      <td>Monaco</td>\n",
       "      <td>NaN</td>\n",
       "      <td>2023-10-25</td>\n",
       "    </tr>\n",
       "  </tbody>\n",
       "</table>\n",
       "</div>"
      ],
      "text/plain": [
       "           source_id                 source_name  \\\n",
       "article_id                                         \n",
       "81664            NaN                      Forbes   \n",
       "81666            NaN                Eurosport.fr   \n",
       "81667            NaN                         CNA   \n",
       "81680            NaN  Paul Tan's Automotive News   \n",
       "81683            NaN                     Autocar   \n",
       "\n",
       "                                                       author  \\\n",
       "article_id                                                      \n",
       "81664       Elizabeth Brownfield, Contributor, \\n Elizabet...   \n",
       "81666                                                     NaN   \n",
       "81667                                                     NaN   \n",
       "81680                                       Mohan K Ramanujam   \n",
       "81683                                              Felix Page   \n",
       "\n",
       "                                                        title  \\\n",
       "article_id                                                      \n",
       "81664       Superstar Chef Yannick Alléno Brings Refined F...   \n",
       "81666          Battu sur le fil à Nancy, Paris cède son trône   \n",
       "81667       Nice claim top spot in Ligue 1 with late win a...   \n",
       "81680       Lotus reveals Type 136 First Edition e-bike, R...   \n",
       "81683       New Mazda concept previews rotary-electric MX-...   \n",
       "\n",
       "                                                  description  \\\n",
       "article_id                                                      \n",
       "81664       Now open in Mayfair at Four Seasons Hotel Lond...   \n",
       "81666       \"Le Paris Basketball n\\u0027est plus invincibl...   \n",
       "81667       Nice moved into provisional first place in the...   \n",
       "81680       Fusing Formula 1 engineering with electric bic...   \n",
       "81683       Rotary-electric powertrain is said to allow fo...   \n",
       "\n",
       "                          published_at  \\\n",
       "article_id                               \n",
       "81664       2023-11-01 03:27:21.000000   \n",
       "81666       2023-10-05 21:36:49.000000   \n",
       "81667       2023-10-27 21:28:48.000000   \n",
       "81680       2023-11-02 05:32:49.000000   \n",
       "81683       2023-10-25 00:31:45.000000   \n",
       "\n",
       "                                                      content category  \\\n",
       "article_id                                                               \n",
       "81664       Pavyllon London, at Four Seasons Hotel London ...   Monaco   \n",
       "81666            T.J. Shorts, Paris Basketball\\nCrédit: Imago   Monaco   \n",
       "81667       Nice moved into provisional first place in the...   Monaco   \n",
       "81680       Fusing Formula 1 engineering with electric bic...   Monaco   \n",
       "81683       Mazda has given a radical vision of what the f...   Monaco   \n",
       "\n",
       "                                                 full_content       date  \n",
       "article_id                                                                \n",
       "81664       Pavyllon London, at Four Seasons Hotel London ... 2023-11-01  \n",
       "81666                                                     NaN 2023-10-05  \n",
       "81667       Nice moved into provisional first place in the... 2023-10-27  \n",
       "81680                                                     NaN 2023-11-02  \n",
       "81683                                                     NaN 2023-10-25  "
      ]
     },
     "execution_count": 1,
     "metadata": {},
     "output_type": "execute_result"
    }
   ],
   "source": [
    "import pandas as pd\n",
    "df = pd.read_csv(filepath_or_buffer='/kaggle/input/global-news-dataset/data.csv', index_col=['article_id'],\n",
    "                 parse_dates=['published_at']).drop(columns=['url', 'url_to_image'])\n",
    "df['date'] = pd.to_datetime(df['published_at'].apply(func=lambda x: x.split()[0]))\n",
    "df.head()"
   ]
  },
  {
   "cell_type": "code",
   "execution_count": 2,
   "id": "224927ea",
   "metadata": {
    "execution": {
     "iopub.execute_input": "2023-11-13T14:01:57.164607Z",
     "iopub.status.busy": "2023-11-13T14:01:57.164170Z",
     "iopub.status.idle": "2023-11-13T14:01:57.254936Z",
     "shell.execute_reply": "2023-11-13T14:01:57.252068Z"
    },
    "papermill": {
     "duration": 0.097621,
     "end_time": "2023-11-13T14:01:57.257598",
     "exception": false,
     "start_time": "2023-11-13T14:01:57.159977",
     "status": "completed"
    },
    "tags": []
   },
   "outputs": [
    {
     "name": "stdout",
     "output_type": "stream",
     "text": [
      "<class 'pandas.core.frame.DataFrame'>\n",
      "Index: 73133 entries, 81664 to 261138\n",
      "Data columns (total 10 columns):\n",
      " #   Column        Non-Null Count  Dtype         \n",
      "---  ------        --------------  -----         \n",
      " 0   source_id     14723 non-null  object        \n",
      " 1   source_name   73133 non-null  object        \n",
      " 2   author        64914 non-null  object        \n",
      " 3   title         73093 non-null  object        \n",
      " 4   description   72756 non-null  object        \n",
      " 5   published_at  73133 non-null  object        \n",
      " 6   content       73133 non-null  object        \n",
      " 7   category      73100 non-null  object        \n",
      " 8   full_content  26190 non-null  object        \n",
      " 9   date          73133 non-null  datetime64[ns]\n",
      "dtypes: datetime64[ns](1), object(9)\n",
      "memory usage: 6.1+ MB\n"
     ]
    }
   ],
   "source": [
    "df.info()"
   ]
  },
  {
   "cell_type": "code",
   "execution_count": 3,
   "id": "dbfebf7a",
   "metadata": {
    "execution": {
     "iopub.execute_input": "2023-11-13T14:01:57.265019Z",
     "iopub.status.busy": "2023-11-13T14:01:57.264627Z",
     "iopub.status.idle": "2023-11-13T14:01:57.736844Z",
     "shell.execute_reply": "2023-11-13T14:01:57.735858Z"
    },
    "papermill": {
     "duration": 0.478701,
     "end_time": "2023-11-13T14:01:57.739331",
     "exception": false,
     "start_time": "2023-11-13T14:01:57.260630",
     "status": "completed"
    },
    "tags": []
   },
   "outputs": [
    {
     "data": {
      "text/plain": [
       "source_id          61\n",
       "source_name      2379\n",
       "author          17608\n",
       "title           70379\n",
       "description     70683\n",
       "published_at    59797\n",
       "content         70291\n",
       "category          257\n",
       "full_content    25774\n",
       "date               39\n",
       "dtype: int64"
      ]
     },
     "execution_count": 3,
     "metadata": {},
     "output_type": "execute_result"
    }
   ],
   "source": [
    "df.nunique()"
   ]
  }
 ],
 "metadata": {
  "kernelspec": {
   "display_name": "Python 3",
   "language": "python",
   "name": "python3"
  },
  "language_info": {
   "codemirror_mode": {
    "name": "ipython",
    "version": 3
   },
   "file_extension": ".py",
   "mimetype": "text/x-python",
   "name": "python",
   "nbconvert_exporter": "python",
   "pygments_lexer": "ipython3",
   "version": "3.10.12"
  },
  "papermill": {
   "default_parameters": {},
   "duration": 11.577503,
   "end_time": "2023-11-13T14:01:58.262716",
   "environment_variables": {},
   "exception": null,
   "input_path": "__notebook__.ipynb",
   "output_path": "__notebook__.ipynb",
   "parameters": {},
   "start_time": "2023-11-13T14:01:46.685213",
   "version": "2.4.0"
  }
 },
 "nbformat": 4,
 "nbformat_minor": 5
}
