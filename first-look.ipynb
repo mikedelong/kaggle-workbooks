{
 "cells": [
  {
   "cell_type": "code",
   "execution_count": 1,
   "id": "c53d2a9c",
   "metadata": {
    "_cell_guid": "b1076dfc-b9ad-4769-8c92-a6c4dae69d19",
    "_uuid": "8f2839f25d086af736a60e9eeb907d3b93b6e0e5",
    "execution": {
     "iopub.execute_input": "2024-06-12T13:31:16.030119Z",
     "iopub.status.busy": "2024-06-12T13:31:16.029131Z",
     "iopub.status.idle": "2024-06-12T13:31:17.091287Z",
     "shell.execute_reply": "2024-06-12T13:31:17.090223Z"
    },
    "papermill": {
     "duration": 1.069079,
     "end_time": "2024-06-12T13:31:17.093803",
     "exception": false,
     "start_time": "2024-06-12T13:31:16.024724",
     "status": "completed"
    },
    "tags": []
   },
   "outputs": [
    {
     "data": {
      "text/html": [
       "<div>\n",
       "<style scoped>\n",
       "    .dataframe tbody tr th:only-of-type {\n",
       "        vertical-align: middle;\n",
       "    }\n",
       "\n",
       "    .dataframe tbody tr th {\n",
       "        vertical-align: top;\n",
       "    }\n",
       "\n",
       "    .dataframe thead th {\n",
       "        text-align: right;\n",
       "    }\n",
       "</style>\n",
       "<table border=\"1\" class=\"dataframe\">\n",
       "  <thead>\n",
       "    <tr style=\"text-align: right;\">\n",
       "      <th></th>\n",
       "      <th>controversial_flag</th>\n",
       "      <th>planet_name</th>\n",
       "      <th>host_name</th>\n",
       "      <th>number_of_stars</th>\n",
       "      <th>number_of_planets</th>\n",
       "      <th>discovery_method</th>\n",
       "      <th>discovery_year</th>\n",
       "      <th>discovery_facility</th>\n",
       "      <th>orbital_period</th>\n",
       "      <th>orbit_semi_major_axis_au</th>\n",
       "      <th>...</th>\n",
       "      <th>stellar_metallicity_ratio</th>\n",
       "      <th>stellar_surface_gravity_log10_(cm/s**2)</th>\n",
       "      <th>distance_(parsecs)</th>\n",
       "      <th>RA_(sexagesimal)</th>\n",
       "      <th>Dec_(sexagesimal)</th>\n",
       "      <th>RA_(decimal)</th>\n",
       "      <th>Dec_(decimal)</th>\n",
       "      <th>V_(Johnson)_magnitude</th>\n",
       "      <th>K_(2NASS)_magnitude</th>\n",
       "      <th>gaia_magnitude</th>\n",
       "    </tr>\n",
       "  </thead>\n",
       "  <tbody>\n",
       "    <tr>\n",
       "      <th>0</th>\n",
       "      <td>0</td>\n",
       "      <td>CI Tau c</td>\n",
       "      <td>CI Tau</td>\n",
       "      <td>1</td>\n",
       "      <td>1</td>\n",
       "      <td>Radial Velocity</td>\n",
       "      <td>2024</td>\n",
       "      <td>Multiple Observatories</td>\n",
       "      <td>25.200001</td>\n",
       "      <td>0.1700</td>\n",
       "      <td>...</td>\n",
       "      <td>NaN</td>\n",
       "      <td>NaN</td>\n",
       "      <td>157.998001</td>\n",
       "      <td>04h33m52.02s</td>\n",
       "      <td>+22d50m29.83s</td>\n",
       "      <td>68.466766</td>\n",
       "      <td>22.841619</td>\n",
       "      <td>13.642</td>\n",
       "      <td>7.793</td>\n",
       "      <td>12.14540</td>\n",
       "    </tr>\n",
       "    <tr>\n",
       "      <th>1</th>\n",
       "      <td>0</td>\n",
       "      <td>HD 134606 b</td>\n",
       "      <td>HD 134606</td>\n",
       "      <td>1</td>\n",
       "      <td>5</td>\n",
       "      <td>Radial Velocity</td>\n",
       "      <td>2024</td>\n",
       "      <td>Multiple Observatories</td>\n",
       "      <td>12.089000</td>\n",
       "      <td>0.1046</td>\n",
       "      <td>...</td>\n",
       "      <td>[Fe/H]</td>\n",
       "      <td>4.33</td>\n",
       "      <td>26.790899</td>\n",
       "      <td>15h15m14.49s</td>\n",
       "      <td>-70d31m13.20s</td>\n",
       "      <td>228.810394</td>\n",
       "      <td>-70.520332</td>\n",
       "      <td>6.860</td>\n",
       "      <td>5.177</td>\n",
       "      <td>6.67835</td>\n",
       "    </tr>\n",
       "    <tr>\n",
       "      <th>2</th>\n",
       "      <td>0</td>\n",
       "      <td>HD 134606 c</td>\n",
       "      <td>HD 134606</td>\n",
       "      <td>1</td>\n",
       "      <td>5</td>\n",
       "      <td>Radial Velocity</td>\n",
       "      <td>2024</td>\n",
       "      <td>Multiple Observatories</td>\n",
       "      <td>58.882999</td>\n",
       "      <td>0.3007</td>\n",
       "      <td>...</td>\n",
       "      <td>[Fe/H]</td>\n",
       "      <td>4.33</td>\n",
       "      <td>26.790899</td>\n",
       "      <td>15h15m14.49s</td>\n",
       "      <td>-70d31m13.20s</td>\n",
       "      <td>228.810394</td>\n",
       "      <td>-70.520332</td>\n",
       "      <td>6.860</td>\n",
       "      <td>5.177</td>\n",
       "      <td>6.67835</td>\n",
       "    </tr>\n",
       "    <tr>\n",
       "      <th>3</th>\n",
       "      <td>0</td>\n",
       "      <td>HD 134606 d</td>\n",
       "      <td>HD 134606</td>\n",
       "      <td>1</td>\n",
       "      <td>5</td>\n",
       "      <td>Radial Velocity</td>\n",
       "      <td>2024</td>\n",
       "      <td>Multiple Observatories</td>\n",
       "      <td>966.500000</td>\n",
       "      <td>1.9410</td>\n",
       "      <td>...</td>\n",
       "      <td>[Fe/H]</td>\n",
       "      <td>4.33</td>\n",
       "      <td>26.790899</td>\n",
       "      <td>15h15m14.49s</td>\n",
       "      <td>-70d31m13.20s</td>\n",
       "      <td>228.810394</td>\n",
       "      <td>-70.520332</td>\n",
       "      <td>6.860</td>\n",
       "      <td>5.177</td>\n",
       "      <td>6.67835</td>\n",
       "    </tr>\n",
       "    <tr>\n",
       "      <th>4</th>\n",
       "      <td>0</td>\n",
       "      <td>HD 134606 e</td>\n",
       "      <td>HD 134606</td>\n",
       "      <td>1</td>\n",
       "      <td>5</td>\n",
       "      <td>Radial Velocity</td>\n",
       "      <td>2024</td>\n",
       "      <td>Multiple Observatories</td>\n",
       "      <td>4.320300</td>\n",
       "      <td>0.0527</td>\n",
       "      <td>...</td>\n",
       "      <td>[Fe/H]</td>\n",
       "      <td>4.33</td>\n",
       "      <td>26.790899</td>\n",
       "      <td>15h15m14.49s</td>\n",
       "      <td>-70d31m13.20s</td>\n",
       "      <td>228.810394</td>\n",
       "      <td>-70.520332</td>\n",
       "      <td>6.860</td>\n",
       "      <td>5.177</td>\n",
       "      <td>6.67835</td>\n",
       "    </tr>\n",
       "  </tbody>\n",
       "</table>\n",
       "<p>5 rows × 33 columns</p>\n",
       "</div>"
      ],
      "text/plain": [
       "   controversial_flag  planet_name  host_name  number_of_stars  \\\n",
       "0                   0     CI Tau c     CI Tau                1   \n",
       "1                   0  HD 134606 b  HD 134606                1   \n",
       "2                   0  HD 134606 c  HD 134606                1   \n",
       "3                   0  HD 134606 d  HD 134606                1   \n",
       "4                   0  HD 134606 e  HD 134606                1   \n",
       "\n",
       "   number_of_planets discovery_method  discovery_year      discovery_facility  \\\n",
       "0                  1  Radial Velocity            2024  Multiple Observatories   \n",
       "1                  5  Radial Velocity            2024  Multiple Observatories   \n",
       "2                  5  Radial Velocity            2024  Multiple Observatories   \n",
       "3                  5  Radial Velocity            2024  Multiple Observatories   \n",
       "4                  5  Radial Velocity            2024  Multiple Observatories   \n",
       "\n",
       "   orbital_period  orbit_semi_major_axis_au  ...  stellar_metallicity_ratio  \\\n",
       "0       25.200001                    0.1700  ...                        NaN   \n",
       "1       12.089000                    0.1046  ...                     [Fe/H]   \n",
       "2       58.882999                    0.3007  ...                     [Fe/H]   \n",
       "3      966.500000                    1.9410  ...                     [Fe/H]   \n",
       "4        4.320300                    0.0527  ...                     [Fe/H]   \n",
       "\n",
       "   stellar_surface_gravity_log10_(cm/s**2)  distance_(parsecs)  \\\n",
       "0                                      NaN          157.998001   \n",
       "1                                     4.33           26.790899   \n",
       "2                                     4.33           26.790899   \n",
       "3                                     4.33           26.790899   \n",
       "4                                     4.33           26.790899   \n",
       "\n",
       "   RA_(sexagesimal) Dec_(sexagesimal)  RA_(decimal)  Dec_(decimal)  \\\n",
       "0      04h33m52.02s     +22d50m29.83s     68.466766      22.841619   \n",
       "1      15h15m14.49s     -70d31m13.20s    228.810394     -70.520332   \n",
       "2      15h15m14.49s     -70d31m13.20s    228.810394     -70.520332   \n",
       "3      15h15m14.49s     -70d31m13.20s    228.810394     -70.520332   \n",
       "4      15h15m14.49s     -70d31m13.20s    228.810394     -70.520332   \n",
       "\n",
       "   V_(Johnson)_magnitude K_(2NASS)_magnitude  gaia_magnitude  \n",
       "0                 13.642               7.793        12.14540  \n",
       "1                  6.860               5.177         6.67835  \n",
       "2                  6.860               5.177         6.67835  \n",
       "3                  6.860               5.177         6.67835  \n",
       "4                  6.860               5.177         6.67835  \n",
       "\n",
       "[5 rows x 33 columns]"
      ]
     },
     "execution_count": 1,
     "metadata": {},
     "output_type": "execute_result"
    }
   ],
   "source": [
    "import pandas as pd\n",
    "\n",
    "NASA = '/kaggle/input/exoplanet-data-nasa-2024-april/Exoplanet_2024_April_06.csv'\n",
    "\n",
    "df = pd.read_csv(filepath_or_buffer=NASA)\n",
    "df.head()"
   ]
  },
  {
   "cell_type": "code",
   "execution_count": 2,
   "id": "9c7b2001",
   "metadata": {
    "execution": {
     "iopub.execute_input": "2024-06-12T13:31:17.100994Z",
     "iopub.status.busy": "2024-06-12T13:31:17.100528Z",
     "iopub.status.idle": "2024-06-12T13:31:17.107669Z",
     "shell.execute_reply": "2024-06-12T13:31:17.106524Z"
    },
    "papermill": {
     "duration": 0.013294,
     "end_time": "2024-06-12T13:31:17.110012",
     "exception": false,
     "start_time": "2024-06-12T13:31:17.096718",
     "status": "completed"
    },
    "tags": []
   },
   "outputs": [
    {
     "data": {
      "text/plain": [
       "(5602, 33)"
      ]
     },
     "execution_count": 2,
     "metadata": {},
     "output_type": "execute_result"
    }
   ],
   "source": [
    "df.shape"
   ]
  },
  {
   "cell_type": "code",
   "execution_count": 3,
   "id": "fa27d057",
   "metadata": {
    "execution": {
     "iopub.execute_input": "2024-06-12T13:31:17.117366Z",
     "iopub.status.busy": "2024-06-12T13:31:17.116971Z",
     "iopub.status.idle": "2024-06-12T13:31:17.145451Z",
     "shell.execute_reply": "2024-06-12T13:31:17.144123Z"
    },
    "papermill": {
     "duration": 0.035111,
     "end_time": "2024-06-12T13:31:17.148134",
     "exception": false,
     "start_time": "2024-06-12T13:31:17.113023",
     "status": "completed"
    },
    "tags": []
   },
   "outputs": [
    {
     "data": {
      "text/plain": [
       "controversial_flag                            2\n",
       "planet_name                                5602\n",
       "host_name                                  4166\n",
       "number_of_stars                               4\n",
       "number_of_planets                             8\n",
       "discovery_method                             11\n",
       "discovery_year                               32\n",
       "discovery_facility                           70\n",
       "orbital_period                             5342\n",
       "orbit_semi_major_axis_au                   2981\n",
       "planet_radius_(earth_radius)               1688\n",
       "planet_radius_(jupiter_radius)              972\n",
       "planet_mass_(earth_mass)                   2543\n",
       "planet_mass_(jupiter_mass)                 2247\n",
       "planet_mass_provenance                        4\n",
       "planet_eccentricity                         537\n",
       "insolution_flux                            3568\n",
       "equilibrium_temperature_(K)                1516\n",
       "spectral_type                               293\n",
       "stellar_effective_temperature              2192\n",
       "stellar_radius_(solar_radius)               442\n",
       "stellar_mass_(solar_mass)                   237\n",
       "stellar_metallicity                         470\n",
       "stellar_metallicity_ratio                     5\n",
       "stellar_surface_gravity_log10_(cm/s**2)     285\n",
       "distance_(parsecs)                         4086\n",
       "RA_(sexagesimal)                           4159\n",
       "Dec_(sexagesimal)                          4166\n",
       "RA_(decimal)                               4162\n",
       "Dec_(decimal)                              4164\n",
       "V_(Johnson)_magnitude                      2993\n",
       "K_(2NASS)_magnitude                        3163\n",
       "gaia_magnitude                             3819\n",
       "dtype: int64"
      ]
     },
     "execution_count": 3,
     "metadata": {},
     "output_type": "execute_result"
    }
   ],
   "source": [
    "df.nunique()"
   ]
  },
  {
   "cell_type": "code",
   "execution_count": 4,
   "id": "3e0ff53a",
   "metadata": {
    "execution": {
     "iopub.execute_input": "2024-06-12T13:31:17.156078Z",
     "iopub.status.busy": "2024-06-12T13:31:17.155690Z",
     "iopub.status.idle": "2024-06-12T13:31:17.167554Z",
     "shell.execute_reply": "2024-06-12T13:31:17.166469Z"
    },
    "papermill": {
     "duration": 0.018795,
     "end_time": "2024-06-12T13:31:17.169927",
     "exception": false,
     "start_time": "2024-06-12T13:31:17.151132",
     "status": "completed"
    },
    "tags": []
   },
   "outputs": [
    {
     "data": {
      "text/plain": [
       "{0: 5572, 1: 30}"
      ]
     },
     "execution_count": 4,
     "metadata": {},
     "output_type": "execute_result"
    }
   ],
   "source": [
    "df['controversial_flag'].value_counts().to_dict()"
   ]
  }
 ],
 "metadata": {
  "kaggle": {
   "accelerator": "none",
   "dataSources": [
    {
     "datasetId": 4747930,
     "sourceId": 8051120,
     "sourceType": "datasetVersion"
    }
   ],
   "dockerImageVersionId": 30732,
   "isGpuEnabled": false,
   "isInternetEnabled": true,
   "language": "python",
   "sourceType": "notebook"
  },
  "kernelspec": {
   "display_name": "Python 3",
   "language": "python",
   "name": "python3"
  },
  "language_info": {
   "codemirror_mode": {
    "name": "ipython",
    "version": 3
   },
   "file_extension": ".py",
   "mimetype": "text/x-python",
   "name": "python",
   "nbconvert_exporter": "python",
   "pygments_lexer": "ipython3",
   "version": "3.10.13"
  },
  "papermill": {
   "default_parameters": {},
   "duration": 4.54793,
   "end_time": "2024-06-12T13:31:17.694779",
   "environment_variables": {},
   "exception": null,
   "input_path": "__notebook__.ipynb",
   "output_path": "__notebook__.ipynb",
   "parameters": {},
   "start_time": "2024-06-12T13:31:13.146849",
   "version": "2.5.0"
  }
 },
 "nbformat": 4,
 "nbformat_minor": 5
}
