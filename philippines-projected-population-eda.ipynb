{
 "cells": [
  {
   "cell_type": "code",
   "execution_count": 1,
   "id": "249cdda4",
   "metadata": {
    "_cell_guid": "b1076dfc-b9ad-4769-8c92-a6c4dae69d19",
    "_uuid": "8f2839f25d086af736a60e9eeb907d3b93b6e0e5",
    "execution": {
     "iopub.execute_input": "2025-03-06T20:28:34.125199Z",
     "iopub.status.busy": "2025-03-06T20:28:34.124800Z",
     "iopub.status.idle": "2025-03-06T20:28:36.190894Z",
     "shell.execute_reply": "2025-03-06T20:28:36.189669Z"
    },
    "papermill": {
     "duration": 2.07207,
     "end_time": "2025-03-06T20:28:36.192774",
     "exception": false,
     "start_time": "2025-03-06T20:28:34.120704",
     "status": "completed"
    },
    "tags": []
   },
   "outputs": [
    {
     "data": {
      "text/html": [
       "<div>\n",
       "<style scoped>\n",
       "    .dataframe tbody tr th:only-of-type {\n",
       "        vertical-align: middle;\n",
       "    }\n",
       "\n",
       "    .dataframe tbody tr th {\n",
       "        vertical-align: top;\n",
       "    }\n",
       "\n",
       "    .dataframe thead th {\n",
       "        text-align: right;\n",
       "    }\n",
       "</style>\n",
       "<table border=\"1\" class=\"dataframe\">\n",
       "  <thead>\n",
       "    <tr style=\"text-align: right;\">\n",
       "      <th></th>\n",
       "      <th>Region</th>\n",
       "      <th>Region_pcode</th>\n",
       "      <th>Province</th>\n",
       "      <th>Province_pcode</th>\n",
       "      <th>Municipality_City</th>\n",
       "      <th>Mun_Pcode</th>\n",
       "      <th>July2020</th>\n",
       "      <th>July2021</th>\n",
       "      <th>July2022</th>\n",
       "      <th>July2023</th>\n",
       "      <th>July2024</th>\n",
       "      <th>July2025</th>\n",
       "    </tr>\n",
       "  </thead>\n",
       "  <tbody>\n",
       "    <tr>\n",
       "      <th>0</th>\n",
       "      <td>Region I (Ilocos Region)</td>\n",
       "      <td>PH010000000</td>\n",
       "      <td>Ilocos Norte</td>\n",
       "      <td>PH012800000</td>\n",
       "      <td>Adams</td>\n",
       "      <td>PH012801000</td>\n",
       "      <td>1823</td>\n",
       "      <td>1827</td>\n",
       "      <td>1830</td>\n",
       "      <td>1833</td>\n",
       "      <td>1834</td>\n",
       "      <td>1835</td>\n",
       "    </tr>\n",
       "    <tr>\n",
       "      <th>1</th>\n",
       "      <td>Region I (Ilocos Region)</td>\n",
       "      <td>PH010000000</td>\n",
       "      <td>Ilocos Norte</td>\n",
       "      <td>PH012800000</td>\n",
       "      <td>Bacarra</td>\n",
       "      <td>PH012802000</td>\n",
       "      <td>32778</td>\n",
       "      <td>32850</td>\n",
       "      <td>32908</td>\n",
       "      <td>32951</td>\n",
       "      <td>32979</td>\n",
       "      <td>32994</td>\n",
       "    </tr>\n",
       "    <tr>\n",
       "      <th>2</th>\n",
       "      <td>Region I (Ilocos Region)</td>\n",
       "      <td>PH010000000</td>\n",
       "      <td>Ilocos Norte</td>\n",
       "      <td>PH012800000</td>\n",
       "      <td>Badoc</td>\n",
       "      <td>PH012803000</td>\n",
       "      <td>32218</td>\n",
       "      <td>32299</td>\n",
       "      <td>32365</td>\n",
       "      <td>32418</td>\n",
       "      <td>32456</td>\n",
       "      <td>32480</td>\n",
       "    </tr>\n",
       "    <tr>\n",
       "      <th>3</th>\n",
       "      <td>Region I (Ilocos Region)</td>\n",
       "      <td>PH010000000</td>\n",
       "      <td>Ilocos Norte</td>\n",
       "      <td>PH012800000</td>\n",
       "      <td>Bangui</td>\n",
       "      <td>PH012804000</td>\n",
       "      <td>14954</td>\n",
       "      <td>14993</td>\n",
       "      <td>15024</td>\n",
       "      <td>15049</td>\n",
       "      <td>15067</td>\n",
       "      <td>15079</td>\n",
       "    </tr>\n",
       "    <tr>\n",
       "      <th>4</th>\n",
       "      <td>Region I (Ilocos Region)</td>\n",
       "      <td>PH010000000</td>\n",
       "      <td>Ilocos Norte</td>\n",
       "      <td>PH012800000</td>\n",
       "      <td>City of Batac</td>\n",
       "      <td>PH012805000</td>\n",
       "      <td>56248</td>\n",
       "      <td>56389</td>\n",
       "      <td>56504</td>\n",
       "      <td>56595</td>\n",
       "      <td>56661</td>\n",
       "      <td>56702</td>\n",
       "    </tr>\n",
       "  </tbody>\n",
       "</table>\n",
       "</div>"
      ],
      "text/plain": [
       "                     Region Region_pcode      Province Province_pcode  \\\n",
       "0  Region I (Ilocos Region)  PH010000000  Ilocos Norte    PH012800000   \n",
       "1  Region I (Ilocos Region)  PH010000000  Ilocos Norte    PH012800000   \n",
       "2  Region I (Ilocos Region)  PH010000000  Ilocos Norte    PH012800000   \n",
       "3  Region I (Ilocos Region)  PH010000000  Ilocos Norte    PH012800000   \n",
       "4  Region I (Ilocos Region)  PH010000000  Ilocos Norte    PH012800000   \n",
       "\n",
       "  Municipality_City    Mun_Pcode  July2020  July2021  July2022  July2023  \\\n",
       "0             Adams  PH012801000      1823      1827      1830      1833   \n",
       "1           Bacarra  PH012802000     32778     32850     32908     32951   \n",
       "2             Badoc  PH012803000     32218     32299     32365     32418   \n",
       "3            Bangui  PH012804000     14954     14993     15024     15049   \n",
       "4     City of Batac  PH012805000     56248     56389     56504     56595   \n",
       "\n",
       "   July2024  July2025  \n",
       "0      1834      1835  \n",
       "1     32979     32994  \n",
       "2     32456     32480  \n",
       "3     15067     15079  \n",
       "4     56661     56702  "
      ]
     },
     "execution_count": 1,
     "metadata": {},
     "output_type": "execute_result"
    }
   ],
   "source": [
    "import pandas as pd\n",
    "\n",
    "XLS = '/kaggle/input/philippines-population-projection-2020-to-2025/phl_population-projections_admin3_midyear2020_2025.xlsx'\n",
    "sheet_name = 'PopnProj_adm3'\n",
    "\n",
    "df = pd.read_excel(io=XLS, sheet_name=sheet_name)\n",
    "df.head()"
   ]
  },
  {
   "cell_type": "code",
   "execution_count": 2,
   "id": "89ffc1c5",
   "metadata": {
    "execution": {
     "iopub.execute_input": "2025-03-06T20:28:36.200450Z",
     "iopub.status.busy": "2025-03-06T20:28:36.199857Z",
     "iopub.status.idle": "2025-03-06T20:28:39.597841Z",
     "shell.execute_reply": "2025-03-06T20:28:39.596640Z"
    },
    "papermill": {
     "duration": 3.403869,
     "end_time": "2025-03-06T20:28:39.599845",
     "exception": false,
     "start_time": "2025-03-06T20:28:36.195976",
     "status": "completed"
    },
    "tags": []
   },
   "outputs": [
    {
     "data": {
      "text/html": [
       "<iframe\n",
       "    scrolling=\"no\"\n",
       "    width=\"100%\"\n",
       "    height=\"545px\"\n",
       "    src=\"iframe_figures/figure_2.html\"\n",
       "    frameborder=\"0\"\n",
       "    allowfullscreen\n",
       "></iframe>\n"
      ]
     },
     "metadata": {},
     "output_type": "display_data"
    }
   ],
   "source": [
    "from plotly import colors\n",
    "from plotly import express\n",
    "from plotly import io\n",
    "\n",
    "io.renderers.default = 'iframe'\n",
    "\n",
    "region_df = df[['Region', 'July2020', 'July2021', 'July2022', 'July2023', 'July2024', 'July2025']].groupby(by=['Region']).sum().reset_index()\n",
    "region_df.columns = ['Region', ] + list(range(2020, 2026))\n",
    "express.line(log_y=True, color_discrete_sequence = colors.sample_colorscale('HSV', 17),\n",
    "    data_frame=region_df.melt(id_vars=['Region']).rename(columns={'variable': 'year', 'value': 'population'}), x='year', y='population', color='Region'\n",
    ")"
   ]
  },
  {
   "cell_type": "markdown",
   "id": "b02189ef",
   "metadata": {
    "papermill": {
     "duration": 0.002221,
     "end_time": "2025-03-06T20:28:39.604896",
     "exception": false,
     "start_time": "2025-03-06T20:28:39.602675",
     "status": "completed"
    },
    "tags": []
   },
   "source": [
    "We already knew from the data card that these are projections based on 2015 data, so it is not surprising that the projections are all linear. If we use a log plot in the y direction here we can see more difference among the lower-population regions. Let's do the same thing at the Municipality level."
   ]
  },
  {
   "cell_type": "code",
   "execution_count": 3,
   "id": "117ed610",
   "metadata": {
    "execution": {
     "iopub.execute_input": "2025-03-06T20:28:39.611121Z",
     "iopub.status.busy": "2025-03-06T20:28:39.610748Z",
     "iopub.status.idle": "2025-03-06T20:28:40.026702Z",
     "shell.execute_reply": "2025-03-06T20:28:40.025467Z"
    },
    "papermill": {
     "duration": 0.421284,
     "end_time": "2025-03-06T20:28:40.028709",
     "exception": false,
     "start_time": "2025-03-06T20:28:39.607425",
     "status": "completed"
    },
    "tags": []
   },
   "outputs": [
    {
     "data": {
      "text/html": [
       "<iframe\n",
       "    scrolling=\"no\"\n",
       "    width=\"100%\"\n",
       "    height=\"1220\"\n",
       "    src=\"iframe_figures/figure_3.html\"\n",
       "    frameborder=\"0\"\n",
       "    allowfullscreen\n",
       "></iframe>\n"
      ]
     },
     "metadata": {},
     "output_type": "display_data"
    }
   ],
   "source": [
    "province_df = df[['Province', 'July2020', 'July2021', 'July2022', 'July2023', 'July2024', 'July2025']].groupby(by=['Province']).sum().reset_index()\n",
    "province_df.columns = ['Province', ] + list(range(2020, 2026))\n",
    "express.line(log_y=True, color_discrete_sequence = colors.sample_colorscale('HSV', 87), height=1200,\n",
    "    data_frame=province_df.melt(id_vars=['Province']).rename(columns={'variable': 'year', 'value': 'population'}), x='year', y='population', color='Province',\n",
    ")"
   ]
  },
  {
   "cell_type": "markdown",
   "id": "ed40fcfa",
   "metadata": {
    "papermill": {
     "duration": 0.002314,
     "end_time": "2025-03-06T20:28:40.033869",
     "exception": false,
     "start_time": "2025-03-06T20:28:40.031555",
     "status": "completed"
    },
    "tags": []
   },
   "source": [
    "We can also visualize this same data with a bit less detail in terms of the mean and variance across the projected years."
   ]
  },
  {
   "cell_type": "code",
   "execution_count": 4,
   "id": "facf1816",
   "metadata": {
    "execution": {
     "iopub.execute_input": "2025-03-06T20:28:40.040270Z",
     "iopub.status.busy": "2025-03-06T20:28:40.039937Z",
     "iopub.status.idle": "2025-03-06T20:28:40.400796Z",
     "shell.execute_reply": "2025-03-06T20:28:40.399750Z"
    },
    "papermill": {
     "duration": 0.366222,
     "end_time": "2025-03-06T20:28:40.402675",
     "exception": false,
     "start_time": "2025-03-06T20:28:40.036453",
     "status": "completed"
    },
    "tags": []
   },
   "outputs": [
    {
     "data": {
      "text/html": [
       "<iframe\n",
       "    scrolling=\"no\"\n",
       "    width=\"100%\"\n",
       "    height=\"820\"\n",
       "    src=\"iframe_figures/figure_4.html\"\n",
       "    frameborder=\"0\"\n",
       "    allowfullscreen\n",
       "></iframe>\n"
      ]
     },
     "metadata": {},
     "output_type": "display_data"
    }
   ],
   "source": [
    "plot_df = province_df.copy()\n",
    "plot_df['mean'] = plot_df[range(2020, 2026)].mean(axis='columns')\n",
    "plot_df['std'] = plot_df[range(2020, 2026)].std(axis='columns')\n",
    "express.scatter(data_frame=plot_df, x='mean', y='std', color='Province', color_discrete_sequence = colors.sample_colorscale('HSV', 87), \n",
    "                log_x=True, log_y=True, height=800)"
   ]
  }
 ],
 "metadata": {
  "kaggle": {
   "accelerator": "none",
   "dataSources": [
    {
     "datasetId": 6744489,
     "sourceId": 10857857,
     "sourceType": "datasetVersion"
    }
   ],
   "dockerImageVersionId": 30918,
   "isGpuEnabled": false,
   "isInternetEnabled": true,
   "language": "python",
   "sourceType": "notebook"
  },
  "kernelspec": {
   "display_name": "Python 3",
   "language": "python",
   "name": "python3"
  },
  "language_info": {
   "codemirror_mode": {
    "name": "ipython",
    "version": 3
   },
   "file_extension": ".py",
   "mimetype": "text/x-python",
   "name": "python",
   "nbconvert_exporter": "python",
   "pygments_lexer": "ipython3",
   "version": "3.10.12"
  },
  "papermill": {
   "default_parameters": {},
   "duration": 10.017603,
   "end_time": "2025-03-06T20:28:41.126149",
   "environment_variables": {},
   "exception": null,
   "input_path": "__notebook__.ipynb",
   "output_path": "__notebook__.ipynb",
   "parameters": {},
   "start_time": "2025-03-06T20:28:31.108546",
   "version": "2.6.0"
  }
 },
 "nbformat": 4,
 "nbformat_minor": 5
}
