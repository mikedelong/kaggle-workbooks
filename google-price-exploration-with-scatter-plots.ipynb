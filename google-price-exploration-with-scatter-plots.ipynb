{
 "cells": [
  {
   "cell_type": "code",
   "execution_count": 1,
   "id": "9116d8a9",
   "metadata": {
    "_cell_guid": "b1076dfc-b9ad-4769-8c92-a6c4dae69d19",
    "_uuid": "8f2839f25d086af736a60e9eeb907d3b93b6e0e5",
    "execution": {
     "iopub.execute_input": "2024-12-07T21:48:57.247172Z",
     "iopub.status.busy": "2024-12-07T21:48:57.246623Z",
     "iopub.status.idle": "2024-12-07T21:48:58.265841Z",
     "shell.execute_reply": "2024-12-07T21:48:58.264301Z"
    },
    "papermill": {
     "duration": 1.02912,
     "end_time": "2024-12-07T21:48:58.268502",
     "exception": false,
     "start_time": "2024-12-07T21:48:57.239382",
     "status": "completed"
    },
    "tags": []
   },
   "outputs": [
    {
     "data": {
      "text/html": [
       "<div>\n",
       "<style scoped>\n",
       "    .dataframe tbody tr th:only-of-type {\n",
       "        vertical-align: middle;\n",
       "    }\n",
       "\n",
       "    .dataframe tbody tr th {\n",
       "        vertical-align: top;\n",
       "    }\n",
       "\n",
       "    .dataframe thead th {\n",
       "        text-align: right;\n",
       "    }\n",
       "</style>\n",
       "<table border=\"1\" class=\"dataframe\">\n",
       "  <thead>\n",
       "    <tr style=\"text-align: right;\">\n",
       "      <th></th>\n",
       "      <th>Date</th>\n",
       "      <th>Adj Close</th>\n",
       "      <th>Close</th>\n",
       "      <th>High</th>\n",
       "      <th>Low</th>\n",
       "      <th>Open</th>\n",
       "      <th>Volume</th>\n",
       "      <th>year</th>\n",
       "    </tr>\n",
       "  </thead>\n",
       "  <tbody>\n",
       "    <tr>\n",
       "      <th>0</th>\n",
       "      <td>2024-01-02</td>\n",
       "      <td>139.218109</td>\n",
       "      <td>139.559998</td>\n",
       "      <td>140.615005</td>\n",
       "      <td>137.740005</td>\n",
       "      <td>139.600006</td>\n",
       "      <td>20071900</td>\n",
       "      <td>2024</td>\n",
       "    </tr>\n",
       "    <tr>\n",
       "      <th>1</th>\n",
       "      <td>2024-01-03</td>\n",
       "      <td>140.016144</td>\n",
       "      <td>140.360001</td>\n",
       "      <td>141.089996</td>\n",
       "      <td>138.429993</td>\n",
       "      <td>138.600006</td>\n",
       "      <td>18974300</td>\n",
       "      <td>2024</td>\n",
       "    </tr>\n",
       "    <tr>\n",
       "      <th>2</th>\n",
       "      <td>2024-01-04</td>\n",
       "      <td>137.701828</td>\n",
       "      <td>138.039993</td>\n",
       "      <td>140.634995</td>\n",
       "      <td>138.009995</td>\n",
       "      <td>139.850006</td>\n",
       "      <td>18253300</td>\n",
       "      <td>2024</td>\n",
       "    </tr>\n",
       "    <tr>\n",
       "      <th>3</th>\n",
       "      <td>2024-01-05</td>\n",
       "      <td>137.053421</td>\n",
       "      <td>137.389999</td>\n",
       "      <td>138.809998</td>\n",
       "      <td>136.850006</td>\n",
       "      <td>138.352005</td>\n",
       "      <td>15433200</td>\n",
       "      <td>2024</td>\n",
       "    </tr>\n",
       "    <tr>\n",
       "      <th>4</th>\n",
       "      <td>2024-01-08</td>\n",
       "      <td>140.185715</td>\n",
       "      <td>140.529999</td>\n",
       "      <td>140.639999</td>\n",
       "      <td>137.880005</td>\n",
       "      <td>138.000000</td>\n",
       "      <td>17645300</td>\n",
       "      <td>2024</td>\n",
       "    </tr>\n",
       "  </tbody>\n",
       "</table>\n",
       "</div>"
      ],
      "text/plain": [
       "        Date   Adj Close       Close        High         Low        Open  \\\n",
       "0 2024-01-02  139.218109  139.559998  140.615005  137.740005  139.600006   \n",
       "1 2024-01-03  140.016144  140.360001  141.089996  138.429993  138.600006   \n",
       "2 2024-01-04  137.701828  138.039993  140.634995  138.009995  139.850006   \n",
       "3 2024-01-05  137.053421  137.389999  138.809998  136.850006  138.352005   \n",
       "4 2024-01-08  140.185715  140.529999  140.639999  137.880005  138.000000   \n",
       "\n",
       "     Volume  year  \n",
       "0  20071900  2024  \n",
       "1  18974300  2024  \n",
       "2  18253300  2024  \n",
       "3  15433200  2024  \n",
       "4  17645300  2024  "
      ]
     },
     "execution_count": 1,
     "metadata": {},
     "output_type": "execute_result"
    }
   ],
   "source": [
    "import pandas as pd\n",
    "\n",
    "GOOG = '/kaggle/input/google-stock-market-data-2024/GOOG.csv'\n",
    "\n",
    "df = pd.read_csv(filepath_or_buffer=GOOG, header=[0, 1], parse_dates=[('Price', 'Ticker')])\n",
    "df.columns = ['Date', 'Adj Close', 'Close', 'High', 'Low', 'Open', 'Volume']\n",
    "df['year'] = df['Date'].dt.year\n",
    "df.head()"
   ]
  },
  {
   "cell_type": "markdown",
   "id": "5efe5c07",
   "metadata": {
    "papermill": {
     "duration": 0.003786,
     "end_time": "2024-12-07T21:48:58.276979",
     "exception": false,
     "start_time": "2024-12-07T21:48:58.273193",
     "status": "completed"
    },
    "tags": []
   },
   "source": [
    "How many years of data do we have?"
   ]
  },
  {
   "cell_type": "code",
   "execution_count": 2,
   "id": "3175f146",
   "metadata": {
    "execution": {
     "iopub.execute_input": "2024-12-07T21:48:58.288364Z",
     "iopub.status.busy": "2024-12-07T21:48:58.287916Z",
     "iopub.status.idle": "2024-12-07T21:48:58.309002Z",
     "shell.execute_reply": "2024-12-07T21:48:58.307604Z"
    },
    "papermill": {
     "duration": 0.029359,
     "end_time": "2024-12-07T21:48:58.311406",
     "exception": false,
     "start_time": "2024-12-07T21:48:58.282047",
     "status": "completed"
    },
    "tags": []
   },
   "outputs": [
    {
     "data": {
      "text/html": [
       "<div>\n",
       "<style scoped>\n",
       "    .dataframe tbody tr th:only-of-type {\n",
       "        vertical-align: middle;\n",
       "    }\n",
       "\n",
       "    .dataframe tbody tr th {\n",
       "        vertical-align: top;\n",
       "    }\n",
       "\n",
       "    .dataframe thead th {\n",
       "        text-align: right;\n",
       "    }\n",
       "</style>\n",
       "<table border=\"1\" class=\"dataframe\">\n",
       "  <thead>\n",
       "    <tr style=\"text-align: right;\">\n",
       "      <th></th>\n",
       "      <th>year</th>\n",
       "      <th>count</th>\n",
       "    </tr>\n",
       "  </thead>\n",
       "  <tbody>\n",
       "    <tr>\n",
       "      <th>0</th>\n",
       "      <td>2024</td>\n",
       "      <td>233</td>\n",
       "    </tr>\n",
       "  </tbody>\n",
       "</table>\n",
       "</div>"
      ],
      "text/plain": [
       "   year  count\n",
       "0  2024    233"
      ]
     },
     "execution_count": 2,
     "metadata": {},
     "output_type": "execute_result"
    }
   ],
   "source": [
    "df['year'].value_counts().to_frame().reset_index()"
   ]
  },
  {
   "cell_type": "markdown",
   "id": "55a6cfff",
   "metadata": {
    "papermill": {
     "duration": 0.004649,
     "end_time": "2024-12-07T21:48:58.320399",
     "exception": false,
     "start_time": "2024-12-07T21:48:58.315750",
     "status": "completed"
    },
    "tags": []
   },
   "source": [
    "We have less than one trading year of quotes. It's hard to know what to expect from just one year of quotes."
   ]
  },
  {
   "cell_type": "markdown",
   "id": "dded74ef",
   "metadata": {
    "papermill": {
     "duration": 0.004522,
     "end_time": "2024-12-07T21:48:58.330028",
     "exception": false,
     "start_time": "2024-12-07T21:48:58.325506",
     "status": "completed"
    },
    "tags": []
   },
   "source": [
    "We can tell by looking at the top row that we do not have any redundant price quotes, but let's look at the price correlations."
   ]
  },
  {
   "cell_type": "code",
   "execution_count": 3,
   "id": "609980e5",
   "metadata": {
    "execution": {
     "iopub.execute_input": "2024-12-07T21:48:58.342503Z",
     "iopub.status.busy": "2024-12-07T21:48:58.342071Z",
     "iopub.status.idle": "2024-12-07T21:48:58.361596Z",
     "shell.execute_reply": "2024-12-07T21:48:58.360308Z"
    },
    "papermill": {
     "duration": 0.030224,
     "end_time": "2024-12-07T21:48:58.364606",
     "exception": false,
     "start_time": "2024-12-07T21:48:58.334382",
     "status": "completed"
    },
    "tags": []
   },
   "outputs": [
    {
     "data": {
      "text/html": [
       "<div>\n",
       "<style scoped>\n",
       "    .dataframe tbody tr th:only-of-type {\n",
       "        vertical-align: middle;\n",
       "    }\n",
       "\n",
       "    .dataframe tbody tr th {\n",
       "        vertical-align: top;\n",
       "    }\n",
       "\n",
       "    .dataframe thead th {\n",
       "        text-align: right;\n",
       "    }\n",
       "</style>\n",
       "<table border=\"1\" class=\"dataframe\">\n",
       "  <thead>\n",
       "    <tr style=\"text-align: right;\">\n",
       "      <th></th>\n",
       "      <th>Adj Close</th>\n",
       "      <th>Close</th>\n",
       "      <th>High</th>\n",
       "      <th>Low</th>\n",
       "      <th>Open</th>\n",
       "      <th>Volume</th>\n",
       "    </tr>\n",
       "  </thead>\n",
       "  <tbody>\n",
       "    <tr>\n",
       "      <th>Adj Close</th>\n",
       "      <td>1.000000</td>\n",
       "      <td>0.999944</td>\n",
       "      <td>0.994705</td>\n",
       "      <td>0.997199</td>\n",
       "      <td>0.990169</td>\n",
       "      <td>-0.301528</td>\n",
       "    </tr>\n",
       "    <tr>\n",
       "      <th>Close</th>\n",
       "      <td>0.999944</td>\n",
       "      <td>1.000000</td>\n",
       "      <td>0.994650</td>\n",
       "      <td>0.997206</td>\n",
       "      <td>0.990052</td>\n",
       "      <td>-0.300700</td>\n",
       "    </tr>\n",
       "    <tr>\n",
       "      <th>High</th>\n",
       "      <td>0.994705</td>\n",
       "      <td>0.994650</td>\n",
       "      <td>1.000000</td>\n",
       "      <td>0.995540</td>\n",
       "      <td>0.996587</td>\n",
       "      <td>-0.262401</td>\n",
       "    </tr>\n",
       "    <tr>\n",
       "      <th>Low</th>\n",
       "      <td>0.997199</td>\n",
       "      <td>0.997206</td>\n",
       "      <td>0.995540</td>\n",
       "      <td>1.000000</td>\n",
       "      <td>0.994350</td>\n",
       "      <td>-0.308561</td>\n",
       "    </tr>\n",
       "    <tr>\n",
       "      <th>Open</th>\n",
       "      <td>0.990169</td>\n",
       "      <td>0.990052</td>\n",
       "      <td>0.996587</td>\n",
       "      <td>0.994350</td>\n",
       "      <td>1.000000</td>\n",
       "      <td>-0.269599</td>\n",
       "    </tr>\n",
       "    <tr>\n",
       "      <th>Volume</th>\n",
       "      <td>-0.301528</td>\n",
       "      <td>-0.300700</td>\n",
       "      <td>-0.262401</td>\n",
       "      <td>-0.308561</td>\n",
       "      <td>-0.269599</td>\n",
       "      <td>1.000000</td>\n",
       "    </tr>\n",
       "  </tbody>\n",
       "</table>\n",
       "</div>"
      ],
      "text/plain": [
       "           Adj Close     Close      High       Low      Open    Volume\n",
       "Adj Close   1.000000  0.999944  0.994705  0.997199  0.990169 -0.301528\n",
       "Close       0.999944  1.000000  0.994650  0.997206  0.990052 -0.300700\n",
       "High        0.994705  0.994650  1.000000  0.995540  0.996587 -0.262401\n",
       "Low         0.997199  0.997206  0.995540  1.000000  0.994350 -0.308561\n",
       "Open        0.990169  0.990052  0.996587  0.994350  1.000000 -0.269599\n",
       "Volume     -0.301528 -0.300700 -0.262401 -0.308561 -0.269599  1.000000"
      ]
     },
     "execution_count": 3,
     "metadata": {},
     "output_type": "execute_result"
    }
   ],
   "source": [
    "df[['Adj Close', 'Close', 'High', 'Low', 'Open', 'Volume']].corr()"
   ]
  },
  {
   "cell_type": "markdown",
   "id": "9ee0a3da",
   "metadata": {
    "papermill": {
     "duration": 0.004771,
     "end_time": "2024-12-07T21:48:58.374318",
     "exception": false,
     "start_time": "2024-12-07T21:48:58.369547",
     "status": "completed"
    },
    "tags": []
   },
   "source": [
    "What do we see? We don't expect to see much in a table of daily price correlations, as daily movements will be small weighed against the whole period of interest, but we do see that the prices and the volume are slightly negatively correlated. We expect this to mean that very broadly the volume will decline as the prices rise. "
   ]
  },
  {
   "cell_type": "code",
   "execution_count": 4,
   "id": "ec4c1b53",
   "metadata": {
    "execution": {
     "iopub.execute_input": "2024-12-07T21:48:58.385218Z",
     "iopub.status.busy": "2024-12-07T21:48:58.384764Z",
     "iopub.status.idle": "2024-12-07T21:49:00.672950Z",
     "shell.execute_reply": "2024-12-07T21:49:00.671415Z"
    },
    "papermill": {
     "duration": 2.297011,
     "end_time": "2024-12-07T21:49:00.675924",
     "exception": false,
     "start_time": "2024-12-07T21:48:58.378913",
     "status": "completed"
    },
    "tags": []
   },
   "outputs": [
    {
     "data": {
      "text/plain": [
       "<Axes: xlabel='Date', ylabel='Adj Close'>"
      ]
     },
     "execution_count": 4,
     "metadata": {},
     "output_type": "execute_result"
    },
    {
     "data": {
      "image/png": "[encoded data removed]",
      "text/plain": [
       "<Figure size 1000x500 with 1 Axes>"
      ]
     },
     "metadata": {},
     "output_type": "display_data"
    }
   ],
   "source": [
    "import matplotlib.pyplot as plt\n",
    "\n",
    "from seaborn import scatterplot\n",
    "\n",
    "plt.figure(figsize=(10, 5))\n",
    "scatterplot(data=df, x='Date', y='Adj Close', )"
   ]
  },
  {
   "cell_type": "markdown",
   "id": "2754c123",
   "metadata": {
    "papermill": {
     "duration": 0.005197,
     "end_time": "2024-12-07T21:49:00.686597",
     "exception": false,
     "start_time": "2024-12-07T21:49:00.681400",
     "status": "completed"
    },
    "tags": []
   },
   "source": [
    "What do we see? The price has risen somewhat, but it's been a bumpy ride. How much has the price changed over the period of interest?"
   ]
  },
  {
   "cell_type": "code",
   "execution_count": 5,
   "id": "6d835078",
   "metadata": {
    "execution": {
     "iopub.execute_input": "2024-12-07T21:49:00.700401Z",
     "iopub.status.busy": "2024-12-07T21:49:00.699731Z",
     "iopub.status.idle": "2024-12-07T21:49:00.708342Z",
     "shell.execute_reply": "2024-12-07T21:49:00.707196Z"
    },
    "papermill": {
     "duration": 0.018678,
     "end_time": "2024-12-07T21:49:00.710872",
     "exception": false,
     "start_time": "2024-12-07T21:49:00.692194",
     "status": "completed"
    },
    "tags": []
   },
   "outputs": [
    {
     "data": {
      "text/plain": [
       "1.2427981198180846"
      ]
     },
     "execution_count": 5,
     "metadata": {},
     "output_type": "execute_result"
    }
   ],
   "source": [
    "df['Adj Close'].values[-1] / df['Adj Close'].values[0]"
   ]
  },
  {
   "cell_type": "markdown",
   "id": "ea7708ad",
   "metadata": {
    "papermill": {
     "duration": 0.004707,
     "end_time": "2024-12-07T21:49:00.720673",
     "exception": false,
     "start_time": "2024-12-07T21:49:00.715966",
     "status": "completed"
    },
    "tags": []
   },
   "source": [
    "The price has risen a little over 24% over the period of interest, but the price range has been substantially larger. What is it?"
   ]
  },
  {
   "cell_type": "code",
   "execution_count": 6,
   "id": "ba8a96d8",
   "metadata": {
    "execution": {
     "iopub.execute_input": "2024-12-07T21:49:00.732929Z",
     "iopub.status.busy": "2024-12-07T21:49:00.732485Z",
     "iopub.status.idle": "2024-12-07T21:49:00.740634Z",
     "shell.execute_reply": "2024-12-07T21:49:00.739117Z"
    },
    "papermill": {
     "duration": 0.017556,
     "end_time": "2024-12-07T21:49:00.743465",
     "exception": false,
     "start_time": "2024-12-07T21:49:00.725909",
     "status": "completed"
    },
    "tags": []
   },
   "outputs": [
    {
     "data": {
      "text/plain": [
       "1.455033590967358"
      ]
     },
     "execution_count": 6,
     "metadata": {},
     "output_type": "execute_result"
    }
   ],
   "source": [
    "df['Adj Close'].max() / df['Adj Close'].min()"
   ]
  },
  {
   "cell_type": "markdown",
   "id": "b1c511a6",
   "metadata": {
    "papermill": {
     "duration": 0.005345,
     "end_time": "2024-12-07T21:49:00.755470",
     "exception": false,
     "start_time": "2024-12-07T21:49:00.750125",
     "status": "completed"
    },
    "tags": []
   },
   "source": [
    "A dollar invested at the low for the year would have been worth $1.455 at the high for the year. Do what you will, capital is at risk."
   ]
  },
  {
   "cell_type": "markdown",
   "id": "2534e226",
   "metadata": {
    "papermill": {
     "duration": 0.005296,
     "end_time": "2024-12-07T21:49:00.766412",
     "exception": false,
     "start_time": "2024-12-07T21:49:00.761116",
     "status": "completed"
    },
    "tags": []
   },
   "source": [
    "Let's take a look at the relationship between price and volume."
   ]
  },
  {
   "cell_type": "code",
   "execution_count": 7,
   "id": "2b35670b",
   "metadata": {
    "execution": {
     "iopub.execute_input": "2024-12-07T21:49:00.779001Z",
     "iopub.status.busy": "2024-12-07T21:49:00.778559Z",
     "iopub.status.idle": "2024-12-07T21:49:01.351147Z",
     "shell.execute_reply": "2024-12-07T21:49:01.349871Z"
    },
    "papermill": {
     "duration": 0.581765,
     "end_time": "2024-12-07T21:49:01.353826",
     "exception": false,
     "start_time": "2024-12-07T21:49:00.772061",
     "status": "completed"
    },
    "tags": []
   },
   "outputs": [
    {
     "data": {
      "text/plain": [
       "<Axes: xlabel='Volume', ylabel='Adj Close'>"
      ]
     },
     "execution_count": 7,
     "metadata": {},
     "output_type": "execute_result"
    },
    {
     "data": {
      "image/png": "[encoded data removed]",
      "text/plain": [
       "<Figure size 1000x500 with 1 Axes>"
      ]
     },
     "metadata": {},
     "output_type": "display_data"
    }
   ],
   "source": [
    "plt.figure(figsize=(10, 5))\n",
    "plt.xscale(value='log')\n",
    "scatterplot(data=df, x='Volume', y='Adj Close')"
   ]
  },
  {
   "cell_type": "markdown",
   "id": "204e7a7e",
   "metadata": {
    "papermill": {
     "duration": 0.005601,
     "end_time": "2024-12-07T21:49:01.365574",
     "exception": false,
     "start_time": "2024-12-07T21:49:01.359973",
     "status": "completed"
    },
    "tags": []
   },
   "source": [
    "If we plot the price against the log of the volume we mostly see a blob. That's what we see with data that is essentially uncorrelated. What do we see if we add a trendline?"
   ]
  },
  {
   "cell_type": "code",
   "execution_count": 8,
   "id": "9b691ec0",
   "metadata": {
    "execution": {
     "iopub.execute_input": "2024-12-07T21:49:01.378539Z",
     "iopub.status.busy": "2024-12-07T21:49:01.378154Z",
     "iopub.status.idle": "2024-12-07T21:49:01.697424Z",
     "shell.execute_reply": "2024-12-07T21:49:01.696177Z"
    },
    "papermill": {
     "duration": 0.328553,
     "end_time": "2024-12-07T21:49:01.699758",
     "exception": false,
     "start_time": "2024-12-07T21:49:01.371205",
     "status": "completed"
    },
    "tags": []
   },
   "outputs": [
    {
     "data": {
      "text/plain": [
       "<Axes: xlabel='Volume', ylabel='Adj Close'>"
      ]
     },
     "execution_count": 8,
     "metadata": {},
     "output_type": "execute_result"
    },
    {
     "data": {
      "image/png": "[encoded data removed]",
      "text/plain": [
       "<Figure size 640x480 with 1 Axes>"
      ]
     },
     "metadata": {},
     "output_type": "display_data"
    }
   ],
   "source": [
    "from seaborn import residplot\n",
    "\n",
    "residplot(data=df, x='Volume', y='Adj Close', lowess=True)"
   ]
  },
  {
   "cell_type": "markdown",
   "id": "d54a08a2",
   "metadata": {
    "papermill": {
     "duration": 0.006047,
     "end_time": "2024-12-07T21:49:01.712582",
     "exception": false,
     "start_time": "2024-12-07T21:49:01.706535",
     "status": "completed"
    },
    "tags": []
   },
   "source": [
    "That's an odd looking moving average. Its shape and direction are mostly governed by a few outliers."
   ]
  }
 ],
 "metadata": {
  "kaggle": {
   "accelerator": "none",
   "dataSources": [
    {
     "datasetId": 6237265,
     "sourceId": 10110376,
     "sourceType": "datasetVersion"
    }
   ],
   "dockerImageVersionId": 30804,
   "isGpuEnabled": false,
   "isInternetEnabled": true,
   "language": "python",
   "sourceType": "notebook"
  },
  "kernelspec": {
   "display_name": "Python 3",
   "language": "python",
   "name": "python3"
  },
  "language_info": {
   "codemirror_mode": {
    "name": "ipython",
    "version": 3
   },
   "file_extension": ".py",
   "mimetype": "text/x-python",
   "name": "python",
   "nbconvert_exporter": "python",
   "pygments_lexer": "ipython3",
   "version": "3.10.14"
  },
  "papermill": {
   "default_parameters": {},
   "duration": 8.125802,
   "end_time": "2024-12-07T21:49:02.443476",
   "environment_variables": {},
   "exception": null,
   "input_path": "__notebook__.ipynb",
   "output_path": "__notebook__.ipynb",
   "parameters": {},
   "start_time": "2024-12-07T21:48:54.317674",
   "version": "2.6.0"
  }
 },
 "nbformat": 4,
 "nbformat_minor": 5
}
