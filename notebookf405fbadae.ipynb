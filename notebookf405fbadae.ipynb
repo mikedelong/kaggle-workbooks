{
 "cells": [
  {
   "cell_type": "code",
   "execution_count": 1,
   "id": "8a1b4955",
   "metadata": {
    "execution": {
     "iopub.execute_input": "2023-11-18T17:50:13.786840Z",
     "iopub.status.busy": "2023-11-18T17:50:13.786328Z",
     "iopub.status.idle": "2023-11-18T17:51:46.086888Z",
     "shell.execute_reply": "2023-11-18T17:51:46.085704Z"
    },
    "papermill": {
     "duration": 92.308573,
     "end_time": "2023-11-18T17:51:46.090566",
     "exception": false,
     "start_time": "2023-11-18T17:50:13.781993",
     "status": "completed"
    },
    "tags": []
   },
   "outputs": [
    {
     "name": "stdout",
     "output_type": "stream",
     "text": [
      "time: 0:01:31.848086 shape: (1110643, 401)\n"
     ]
    }
   ],
   "source": [
    "import pandas as pd\n",
    "from glob import glob\n",
    "from arrow import now\n",
    "\n",
    "load_start = now()\n",
    "df = pd.concat(objs=[\n",
    "    pd.read_csv(filepath_or_buffer=filename, low_memory=False)\n",
    "        for filename in list(glob(pathname='/kaggle/input/us-census-2020/*.csv'))[:5]\n",
    "])\n",
    "print('time: {} shape: {}'.format(now() - load_start, df.shape))"
   ]
  }
 ],
 "metadata": {
  "kaggle": {
   "accelerator": "none",
   "dataSources": [
    {
     "datasetId": 1545325,
     "sourceId": 2579166,
     "sourceType": "datasetVersion"
    }
   ],
   "dockerImageVersionId": 30587,
   "isGpuEnabled": false,
   "isInternetEnabled": true,
   "language": "python",
   "sourceType": "notebook"
  },
  "kernelspec": {
   "display_name": "Python 3",
   "language": "python",
   "name": "python3"
  },
  "language_info": {
   "codemirror_mode": {
    "name": "ipython",
    "version": 3
   },
   "file_extension": ".py",
   "mimetype": "text/x-python",
   "name": "python",
   "nbconvert_exporter": "python",
   "pygments_lexer": "ipython3",
   "version": "3.10.12"
  },
  "papermill": {
   "default_parameters": {},
   "duration": 96.49719,
   "end_time": "2023-11-18T17:51:46.814343",
   "environment_variables": {},
   "exception": null,
   "input_path": "__notebook__.ipynb",
   "output_path": "__notebook__.ipynb",
   "parameters": {},
   "start_time": "2023-11-18T17:50:10.317153",
   "version": "2.4.0"
  }
 },
 "nbformat": 4,
 "nbformat_minor": 5
}
