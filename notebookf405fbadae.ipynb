{
 "cells": [
  {
   "cell_type": "code",
   "execution_count": 1,
   "id": "7d065786",
   "metadata": {
    "execution": {
     "iopub.execute_input": "2023-11-18T18:18:28.363465Z",
     "iopub.status.busy": "2023-11-18T18:18:28.362972Z",
     "iopub.status.idle": "2023-11-18T18:24:45.196539Z",
     "shell.execute_reply": "2023-11-18T18:24:45.194996Z"
    },
    "papermill": {
     "duration": 376.840739,
     "end_time": "2023-11-18T18:24:45.199067",
     "exception": false,
     "start_time": "2023-11-18T18:18:28.358328",
     "status": "completed"
    },
    "tags": []
   },
   "outputs": [
    {
     "name": "stdout",
     "output_type": "stream",
     "text": [
      "/kaggle/input/us-census-2020/Alabama_AL.csv\n",
      "/kaggle/input/us-census-2020/Alaska_AK.csv\n",
      "/kaggle/input/us-census-2020/Arizona_AZ.csv\n",
      "/kaggle/input/us-census-2020/Arkansas_AR.csv\n",
      "/kaggle/input/us-census-2020/California_CA.csv\n",
      "/kaggle/input/us-census-2020/Colorado_CO.csv\n",
      "/kaggle/input/us-census-2020/Connecticut_CT.csv\n",
      "/kaggle/input/us-census-2020/Delaware_DE.csv\n",
      "/kaggle/input/us-census-2020/District_of_Columbia_DC.csv\n",
      "/kaggle/input/us-census-2020/Florida_FL.csv\n",
      "/kaggle/input/us-census-2020/Georgia_GA.csv\n",
      "/kaggle/input/us-census-2020/Hawaii_HI.csv\n",
      "/kaggle/input/us-census-2020/Idaho_ID.csv\n",
      "/kaggle/input/us-census-2020/Illinois_IL.csv\n",
      "/kaggle/input/us-census-2020/Indiana_IN.csv\n",
      "/kaggle/input/us-census-2020/Iowa_IA.csv\n",
      "/kaggle/input/us-census-2020/Kansas_KS.csv\n",
      "/kaggle/input/us-census-2020/Kentucky_KY.csv\n",
      "/kaggle/input/us-census-2020/Louisiana_LA.csv\n",
      "/kaggle/input/us-census-2020/Maine_ME.csv\n",
      "/kaggle/input/us-census-2020/Maryland_MD.csv\n",
      "/kaggle/input/us-census-2020/Massachusetts_MA.csv\n",
      "/kaggle/input/us-census-2020/Michigan_MI.csv\n",
      "/kaggle/input/us-census-2020/Minnesota_MN.csv\n",
      "/kaggle/input/us-census-2020/Mississippi_MS.csv\n",
      "/kaggle/input/us-census-2020/Missouri_MO.csv\n",
      "/kaggle/input/us-census-2020/Montana_MT.csv\n",
      "/kaggle/input/us-census-2020/Nebraska_NE.csv\n",
      "/kaggle/input/us-census-2020/Nevada_NV.csv\n",
      "/kaggle/input/us-census-2020/New_Hampshire_NH.csv\n",
      "/kaggle/input/us-census-2020/New_Jersey_NJ.csv\n",
      "/kaggle/input/us-census-2020/New_Mexico_NM.csv\n",
      "/kaggle/input/us-census-2020/New_York_NY.csv\n",
      "/kaggle/input/us-census-2020/North_Carolina_NC.csv\n",
      "/kaggle/input/us-census-2020/North_Dakota_ND.csv\n",
      "/kaggle/input/us-census-2020/Ohio_OH.csv\n",
      "/kaggle/input/us-census-2020/Oklahoma_OK.csv\n",
      "/kaggle/input/us-census-2020/Oregon_OR.csv\n",
      "/kaggle/input/us-census-2020/Pennsylvania_PA.csv\n",
      "/kaggle/input/us-census-2020/Puerto_Rico_PR.csv\n",
      "/kaggle/input/us-census-2020/Rhode_Island_RI.csv\n",
      "/kaggle/input/us-census-2020/South_Carolina_SC.csv\n",
      "/kaggle/input/us-census-2020/South_Dakota_SD.csv\n",
      "/kaggle/input/us-census-2020/Tennessee_TN.csv\n",
      "/kaggle/input/us-census-2020/Texas_TX.csv\n",
      "/kaggle/input/us-census-2020/Utah_UT.csv\n",
      "/kaggle/input/us-census-2020/Vermont_VT.csv\n",
      "/kaggle/input/us-census-2020/Virginia_VA.csv\n",
      "/kaggle/input/us-census-2020/West_Virginia_WV.csv\n",
      "/kaggle/input/us-census-2020/Wisconsin_WI.csv\n",
      "/kaggle/input/us-census-2020/Wyoming_WY.csv\n",
      "time: 0:06:16.380629 shape: (12151664, 3)\n"
     ]
    }
   ],
   "source": [
    "import pandas as pd\n",
    "from glob import glob\n",
    "from arrow import now\n",
    "\n",
    "def get(fname):\n",
    "    print(fname)\n",
    "    return pd.read_csv(filepath_or_buffer=fname, low_memory=False, usecols=USECOLS)\n",
    "\n",
    "USECOLS = ['BASENAME', 'STUSAB', 'POP100']\n",
    "load_start = now()\n",
    "\n",
    "files = list(glob(pathname='/kaggle/input/us-census-2020/*.csv'))\n",
    "files = sorted(files)\n",
    "files = [item for item in files if 'National' not in item and 'ton_WA' not in item]\n",
    "df = pd.concat(objs=[\n",
    "#     pd.read_csv(filepath_or_buffer=filename, low_memory=False, usecols=USECOLS)\n",
    "    get(fname=filename)\n",
    "        for filename in files\n",
    "])\n",
    "print('time: {} shape: {}'.format(now() - load_start, df.shape))"
   ]
  },
  {
   "cell_type": "code",
   "execution_count": 2,
   "id": "496c14fe",
   "metadata": {
    "execution": {
     "iopub.execute_input": "2023-11-18T18:24:45.216898Z",
     "iopub.status.busy": "2023-11-18T18:24:45.216438Z",
     "iopub.status.idle": "2023-11-18T18:24:48.308243Z",
     "shell.execute_reply": "2023-11-18T18:24:48.306918Z"
    },
    "papermill": {
     "duration": 3.103814,
     "end_time": "2023-11-18T18:24:48.310953",
     "exception": false,
     "start_time": "2023-11-18T18:24:45.207139",
     "status": "completed"
    },
    "tags": []
   },
   "outputs": [
    {
     "data": {
      "text/plain": [
       "Index(['Unnamed: 0'], dtype='object')"
      ]
     },
     "execution_count": 2,
     "metadata": {},
     "output_type": "execute_result"
    }
   ],
   "source": [
    "wa_df = pd.read_csv(filepath_or_buffer='/kaggle/input/us-census-2020/Washington_WA.csv', low_memory=True, nrows=5)\n",
    "wa_df.columns"
   ]
  },
  {
   "cell_type": "code",
   "execution_count": 3,
   "id": "0ff052bf",
   "metadata": {
    "execution": {
     "iopub.execute_input": "2023-11-18T18:24:48.328627Z",
     "iopub.status.busy": "2023-11-18T18:24:48.327802Z",
     "iopub.status.idle": "2023-11-18T18:24:48.349975Z",
     "shell.execute_reply": "2023-11-18T18:24:48.348835Z"
    },
    "papermill": {
     "duration": 0.033676,
     "end_time": "2023-11-18T18:24:48.352502",
     "exception": false,
     "start_time": "2023-11-18T18:24:48.318826",
     "status": "completed"
    },
    "tags": []
   },
   "outputs": [
    {
     "data": {
      "text/html": [
       "<div>\n",
       "<style scoped>\n",
       "    .dataframe tbody tr th:only-of-type {\n",
       "        vertical-align: middle;\n",
       "    }\n",
       "\n",
       "    .dataframe tbody tr th {\n",
       "        vertical-align: top;\n",
       "    }\n",
       "\n",
       "    .dataframe thead th {\n",
       "        text-align: right;\n",
       "    }\n",
       "</style>\n",
       "<table border=\"1\" class=\"dataframe\">\n",
       "  <thead>\n",
       "    <tr style=\"text-align: right;\">\n",
       "      <th></th>\n",
       "      <th>STUSAB</th>\n",
       "      <th>BASENAME</th>\n",
       "      <th>POP100</th>\n",
       "    </tr>\n",
       "  </thead>\n",
       "  <tbody>\n",
       "    <tr>\n",
       "      <th>0</th>\n",
       "      <td>AL</td>\n",
       "      <td>Autauga</td>\n",
       "      <td>58805</td>\n",
       "    </tr>\n",
       "    <tr>\n",
       "      <th>1</th>\n",
       "      <td>AL</td>\n",
       "      <td>Baldwin</td>\n",
       "      <td>231767</td>\n",
       "    </tr>\n",
       "    <tr>\n",
       "      <th>2</th>\n",
       "      <td>AL</td>\n",
       "      <td>Barbour</td>\n",
       "      <td>25223</td>\n",
       "    </tr>\n",
       "    <tr>\n",
       "      <th>3</th>\n",
       "      <td>AL</td>\n",
       "      <td>Bibb</td>\n",
       "      <td>22293</td>\n",
       "    </tr>\n",
       "    <tr>\n",
       "      <th>4</th>\n",
       "      <td>AL</td>\n",
       "      <td>Blount</td>\n",
       "      <td>59134</td>\n",
       "    </tr>\n",
       "  </tbody>\n",
       "</table>\n",
       "</div>"
      ],
      "text/plain": [
       "  STUSAB BASENAME  POP100\n",
       "0     AL  Autauga   58805\n",
       "1     AL  Baldwin  231767\n",
       "2     AL  Barbour   25223\n",
       "3     AL     Bibb   22293\n",
       "4     AL   Blount   59134"
      ]
     },
     "execution_count": 3,
     "metadata": {},
     "output_type": "execute_result"
    }
   ],
   "source": [
    "df.head()"
   ]
  },
  {
   "cell_type": "code",
   "execution_count": 4,
   "id": "ef880ec4",
   "metadata": {
    "execution": {
     "iopub.execute_input": "2023-11-18T18:24:48.370035Z",
     "iopub.status.busy": "2023-11-18T18:24:48.369652Z",
     "iopub.status.idle": "2023-11-18T18:24:48.390645Z",
     "shell.execute_reply": "2023-11-18T18:24:48.389538Z"
    },
    "papermill": {
     "duration": 0.032952,
     "end_time": "2023-11-18T18:24:48.393332",
     "exception": false,
     "start_time": "2023-11-18T18:24:48.360380",
     "status": "completed"
    },
    "tags": []
   },
   "outputs": [
    {
     "data": {
      "text/plain": [
       "16372356199"
      ]
     },
     "execution_count": 4,
     "metadata": {},
     "output_type": "execute_result"
    }
   ],
   "source": [
    "df['POP100'].sum()"
   ]
  }
 ],
 "metadata": {
  "kaggle": {
   "accelerator": "none",
   "dataSources": [
    {
     "datasetId": 1545325,
     "sourceId": 2579166,
     "sourceType": "datasetVersion"
    }
   ],
   "dockerImageVersionId": 30587,
   "isGpuEnabled": false,
   "isInternetEnabled": true,
   "language": "python",
   "sourceType": "notebook"
  },
  "kernelspec": {
   "display_name": "Python 3",
   "language": "python",
   "name": "python3"
  },
  "language_info": {
   "codemirror_mode": {
    "name": "ipython",
    "version": 3
   },
   "file_extension": ".py",
   "mimetype": "text/x-python",
   "name": "python",
   "nbconvert_exporter": "python",
   "pygments_lexer": "ipython3",
   "version": "3.10.12"
  },
  "papermill": {
   "default_parameters": {},
   "duration": 384.24522,
   "end_time": "2023-11-18T18:24:49.025737",
   "environment_variables": {},
   "exception": null,
   "input_path": "__notebook__.ipynb",
   "output_path": "__notebook__.ipynb",
   "parameters": {},
   "start_time": "2023-11-18T18:18:24.780517",
   "version": "2.4.0"
  }
 },
 "nbformat": 4,
 "nbformat_minor": 5
}
