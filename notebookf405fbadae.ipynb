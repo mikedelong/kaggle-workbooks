{
 "cells": [
  {
   "cell_type": "code",
   "execution_count": 1,
   "id": "9ca7cfd4",
   "metadata": {
    "execution": {
     "iopub.execute_input": "2023-11-18T18:25:23.524242Z",
     "iopub.status.busy": "2023-11-18T18:25:23.523852Z",
     "iopub.status.idle": "2023-11-18T18:29:47.887710Z",
     "shell.execute_reply": "2023-11-18T18:29:47.885854Z"
    },
    "papermill": {
     "duration": 264.37229,
     "end_time": "2023-11-18T18:29:47.891480",
     "exception": false,
     "start_time": "2023-11-18T18:25:23.519190",
     "status": "completed"
    },
    "tags": []
   },
   "outputs": [
    {
     "name": "stdout",
     "output_type": "stream",
     "text": [
      "/kaggle/input/us-census-2020/Alabama_AL.csv\n",
      "/kaggle/input/us-census-2020/Alaska_AK.csv\n",
      "/kaggle/input/us-census-2020/Arizona_AZ.csv\n",
      "/kaggle/input/us-census-2020/Arkansas_AR.csv\n",
      "/kaggle/input/us-census-2020/California_CA.csv\n",
      "/kaggle/input/us-census-2020/Colorado_CO.csv\n",
      "/kaggle/input/us-census-2020/Connecticut_CT.csv\n",
      "/kaggle/input/us-census-2020/Delaware_DE.csv\n",
      "/kaggle/input/us-census-2020/District_of_Columbia_DC.csv\n",
      "/kaggle/input/us-census-2020/Florida_FL.csv\n",
      "/kaggle/input/us-census-2020/Georgia_GA.csv\n",
      "/kaggle/input/us-census-2020/Hawaii_HI.csv\n",
      "/kaggle/input/us-census-2020/Idaho_ID.csv\n",
      "/kaggle/input/us-census-2020/Illinois_IL.csv\n",
      "/kaggle/input/us-census-2020/Indiana_IN.csv\n",
      "/kaggle/input/us-census-2020/Iowa_IA.csv\n",
      "/kaggle/input/us-census-2020/Kansas_KS.csv\n",
      "/kaggle/input/us-census-2020/Kentucky_KY.csv\n",
      "/kaggle/input/us-census-2020/Louisiana_LA.csv\n",
      "/kaggle/input/us-census-2020/Maine_ME.csv\n",
      "/kaggle/input/us-census-2020/Maryland_MD.csv\n",
      "/kaggle/input/us-census-2020/Massachusetts_MA.csv\n",
      "/kaggle/input/us-census-2020/Michigan_MI.csv\n",
      "/kaggle/input/us-census-2020/Minnesota_MN.csv\n",
      "/kaggle/input/us-census-2020/Mississippi_MS.csv\n",
      "/kaggle/input/us-census-2020/Missouri_MO.csv\n",
      "/kaggle/input/us-census-2020/Montana_MT.csv\n",
      "/kaggle/input/us-census-2020/Nebraska_NE.csv\n",
      "/kaggle/input/us-census-2020/Nevada_NV.csv\n",
      "/kaggle/input/us-census-2020/New_Hampshire_NH.csv\n",
      "/kaggle/input/us-census-2020/New_Jersey_NJ.csv\n",
      "/kaggle/input/us-census-2020/New_Mexico_NM.csv\n",
      "/kaggle/input/us-census-2020/New_York_NY.csv\n",
      "/kaggle/input/us-census-2020/North_Carolina_NC.csv\n",
      "/kaggle/input/us-census-2020/North_Dakota_ND.csv\n",
      "/kaggle/input/us-census-2020/Ohio_OH.csv\n",
      "/kaggle/input/us-census-2020/Oklahoma_OK.csv\n",
      "/kaggle/input/us-census-2020/Oregon_OR.csv\n",
      "/kaggle/input/us-census-2020/Pennsylvania_PA.csv\n",
      "/kaggle/input/us-census-2020/Puerto_Rico_PR.csv\n",
      "/kaggle/input/us-census-2020/Rhode_Island_RI.csv\n",
      "/kaggle/input/us-census-2020/South_Carolina_SC.csv\n",
      "/kaggle/input/us-census-2020/South_Dakota_SD.csv\n",
      "/kaggle/input/us-census-2020/Tennessee_TN.csv\n",
      "/kaggle/input/us-census-2020/Texas_TX.csv\n",
      "/kaggle/input/us-census-2020/Utah_UT.csv\n",
      "/kaggle/input/us-census-2020/Vermont_VT.csv\n",
      "/kaggle/input/us-census-2020/Virginia_VA.csv\n",
      "/kaggle/input/us-census-2020/West_Virginia_WV.csv\n",
      "/kaggle/input/us-census-2020/Wisconsin_WI.csv\n",
      "/kaggle/input/us-census-2020/Wyoming_WY.csv\n",
      "time: 0:04:24.007697 shape: (12151664, 3)\n"
     ]
    }
   ],
   "source": [
    "import pandas as pd\n",
    "from glob import glob\n",
    "from arrow import now\n",
    "\n",
    "def get(fname):\n",
    "    print(fname)\n",
    "    return pd.read_csv(filepath_or_buffer=fname, low_memory=False, usecols=USECOLS)\n",
    "\n",
    "USECOLS = ['BASENAME', 'STUSAB', 'POP100']\n",
    "load_start = now()\n",
    "\n",
    "files = list(glob(pathname='/kaggle/input/us-census-2020/*.csv'))\n",
    "files = sorted(files)\n",
    "files = [item for item in files if 'National' not in item and 'ton_WA' not in item]\n",
    "df = pd.concat(objs=[\n",
    "#     pd.read_csv(filepath_or_buffer=filename, low_memory=False, usecols=USECOLS)\n",
    "    get(fname=filename)\n",
    "        for filename in files\n",
    "])\n",
    "print('time: {} shape: {}'.format(now() - load_start, df.shape))"
   ]
  },
  {
   "cell_type": "code",
   "execution_count": 2,
   "id": "6b3896f9",
   "metadata": {
    "execution": {
     "iopub.execute_input": "2023-11-18T18:29:47.905992Z",
     "iopub.status.busy": "2023-11-18T18:29:47.905612Z",
     "iopub.status.idle": "2023-11-18T18:29:50.313542Z",
     "shell.execute_reply": "2023-11-18T18:29:50.312052Z"
    },
    "papermill": {
     "duration": 2.418685,
     "end_time": "2023-11-18T18:29:50.316352",
     "exception": false,
     "start_time": "2023-11-18T18:29:47.897667",
     "status": "completed"
    },
    "tags": []
   },
   "outputs": [
    {
     "data": {
      "text/plain": [
       "Index(['Unnamed: 0'], dtype='object')"
      ]
     },
     "execution_count": 2,
     "metadata": {},
     "output_type": "execute_result"
    }
   ],
   "source": [
    "wa_df = pd.read_csv(filepath_or_buffer='/kaggle/input/us-census-2020/Washington_WA.csv', low_memory=False, nrows=5)\n",
    "wa_df.columns"
   ]
  },
  {
   "cell_type": "code",
   "execution_count": 3,
   "id": "e29eb5dd",
   "metadata": {
    "execution": {
     "iopub.execute_input": "2023-11-18T18:29:50.331753Z",
     "iopub.status.busy": "2023-11-18T18:29:50.330411Z",
     "iopub.status.idle": "2023-11-18T18:29:50.366246Z",
     "shell.execute_reply": "2023-11-18T18:29:50.364741Z"
    },
    "papermill": {
     "duration": 0.047594,
     "end_time": "2023-11-18T18:29:50.369867",
     "exception": false,
     "start_time": "2023-11-18T18:29:50.322273",
     "status": "completed"
    },
    "tags": []
   },
   "outputs": [
    {
     "data": {
      "text/html": [
       "<div>\n",
       "<style scoped>\n",
       "    .dataframe tbody tr th:only-of-type {\n",
       "        vertical-align: middle;\n",
       "    }\n",
       "\n",
       "    .dataframe tbody tr th {\n",
       "        vertical-align: top;\n",
       "    }\n",
       "\n",
       "    .dataframe thead th {\n",
       "        text-align: right;\n",
       "    }\n",
       "</style>\n",
       "<table border=\"1\" class=\"dataframe\">\n",
       "  <thead>\n",
       "    <tr style=\"text-align: right;\">\n",
       "      <th></th>\n",
       "      <th>STUSAB</th>\n",
       "      <th>BASENAME</th>\n",
       "      <th>POP100</th>\n",
       "    </tr>\n",
       "  </thead>\n",
       "  <tbody>\n",
       "    <tr>\n",
       "      <th>0</th>\n",
       "      <td>AL</td>\n",
       "      <td>Autauga</td>\n",
       "      <td>58805</td>\n",
       "    </tr>\n",
       "    <tr>\n",
       "      <th>1</th>\n",
       "      <td>AL</td>\n",
       "      <td>Baldwin</td>\n",
       "      <td>231767</td>\n",
       "    </tr>\n",
       "    <tr>\n",
       "      <th>2</th>\n",
       "      <td>AL</td>\n",
       "      <td>Barbour</td>\n",
       "      <td>25223</td>\n",
       "    </tr>\n",
       "    <tr>\n",
       "      <th>3</th>\n",
       "      <td>AL</td>\n",
       "      <td>Bibb</td>\n",
       "      <td>22293</td>\n",
       "    </tr>\n",
       "    <tr>\n",
       "      <th>4</th>\n",
       "      <td>AL</td>\n",
       "      <td>Blount</td>\n",
       "      <td>59134</td>\n",
       "    </tr>\n",
       "  </tbody>\n",
       "</table>\n",
       "</div>"
      ],
      "text/plain": [
       "  STUSAB BASENAME  POP100\n",
       "0     AL  Autauga   58805\n",
       "1     AL  Baldwin  231767\n",
       "2     AL  Barbour   25223\n",
       "3     AL     Bibb   22293\n",
       "4     AL   Blount   59134"
      ]
     },
     "execution_count": 3,
     "metadata": {},
     "output_type": "execute_result"
    }
   ],
   "source": [
    "df.head()"
   ]
  },
  {
   "cell_type": "code",
   "execution_count": 4,
   "id": "6212f285",
   "metadata": {
    "execution": {
     "iopub.execute_input": "2023-11-18T18:29:50.386942Z",
     "iopub.status.busy": "2023-11-18T18:29:50.386590Z",
     "iopub.status.idle": "2023-11-18T18:29:50.409034Z",
     "shell.execute_reply": "2023-11-18T18:29:50.407622Z"
    },
    "papermill": {
     "duration": 0.034427,
     "end_time": "2023-11-18T18:29:50.411995",
     "exception": false,
     "start_time": "2023-11-18T18:29:50.377568",
     "status": "completed"
    },
    "tags": []
   },
   "outputs": [
    {
     "data": {
      "text/plain": [
       "16372356199"
      ]
     },
     "execution_count": 4,
     "metadata": {},
     "output_type": "execute_result"
    }
   ],
   "source": [
    "df['POP100'].sum()"
   ]
  },
  {
   "cell_type": "code",
   "execution_count": 5,
   "id": "85b0dfa7",
   "metadata": {
    "execution": {
     "iopub.execute_input": "2023-11-18T18:29:50.427040Z",
     "iopub.status.busy": "2023-11-18T18:29:50.426573Z",
     "iopub.status.idle": "2023-11-18T18:29:51.515684Z",
     "shell.execute_reply": "2023-11-18T18:29:51.513062Z"
    },
    "papermill": {
     "duration": 1.100218,
     "end_time": "2023-11-18T18:29:51.519157",
     "exception": false,
     "start_time": "2023-11-18T18:29:50.418939",
     "status": "completed"
    },
    "tags": []
   },
   "outputs": [
    {
     "data": {
      "text/html": [
       "<div>\n",
       "<style scoped>\n",
       "    .dataframe tbody tr th:only-of-type {\n",
       "        vertical-align: middle;\n",
       "    }\n",
       "\n",
       "    .dataframe tbody tr th {\n",
       "        vertical-align: top;\n",
       "    }\n",
       "\n",
       "    .dataframe thead th {\n",
       "        text-align: right;\n",
       "    }\n",
       "</style>\n",
       "<table border=\"1\" class=\"dataframe\">\n",
       "  <thead>\n",
       "    <tr style=\"text-align: right;\">\n",
       "      <th></th>\n",
       "      <th>STUSAB</th>\n",
       "      <th>POP100</th>\n",
       "    </tr>\n",
       "  </thead>\n",
       "  <tbody>\n",
       "    <tr>\n",
       "      <th>0</th>\n",
       "      <td>AK</td>\n",
       "      <td>41674804</td>\n",
       "    </tr>\n",
       "    <tr>\n",
       "      <th>1</th>\n",
       "      <td>AL</td>\n",
       "      <td>244231910</td>\n",
       "    </tr>\n",
       "    <tr>\n",
       "      <th>2</th>\n",
       "      <td>AR</td>\n",
       "      <td>145944625</td>\n",
       "    </tr>\n",
       "    <tr>\n",
       "      <th>3</th>\n",
       "      <td>AZ</td>\n",
       "      <td>371616586</td>\n",
       "    </tr>\n",
       "    <tr>\n",
       "      <th>4</th>\n",
       "      <td>CA</td>\n",
       "      <td>2047405728</td>\n",
       "    </tr>\n",
       "  </tbody>\n",
       "</table>\n",
       "</div>"
      ],
      "text/plain": [
       "  STUSAB      POP100\n",
       "0     AK    41674804\n",
       "1     AL   244231910\n",
       "2     AR   145944625\n",
       "3     AZ   371616586\n",
       "4     CA  2047405728"
      ]
     },
     "execution_count": 5,
     "metadata": {},
     "output_type": "execute_result"
    }
   ],
   "source": [
    "df.drop(columns=['BASENAME']).groupby(by='STUSAB').sum().reset_index().head()"
   ]
  },
  {
   "cell_type": "markdown",
   "id": "f5e4467b",
   "metadata": {
    "papermill": {
     "duration": 0.005698,
     "end_time": "2023-11-18T18:29:51.532061",
     "exception": false,
     "start_time": "2023-11-18T18:29:51.526363",
     "status": "completed"
    },
    "tags": []
   },
   "source": [
    "We are double-counting something; what is it?"
   ]
  }
 ],
 "metadata": {
  "kaggle": {
   "accelerator": "none",
   "dataSources": [
    {
     "datasetId": 1545325,
     "sourceId": 2579166,
     "sourceType": "datasetVersion"
    }
   ],
   "dockerImageVersionId": 30587,
   "isGpuEnabled": false,
   "isInternetEnabled": true,
   "language": "python",
   "sourceType": "notebook"
  },
  "kernelspec": {
   "display_name": "Python 3",
   "language": "python",
   "name": "python3"
  },
  "language_info": {
   "codemirror_mode": {
    "name": "ipython",
    "version": 3
   },
   "file_extension": ".py",
   "mimetype": "text/x-python",
   "name": "python",
   "nbconvert_exporter": "python",
   "pygments_lexer": "ipython3",
   "version": "3.10.12"
  },
  "papermill": {
   "default_parameters": {},
   "duration": 271.59123,
   "end_time": "2023-11-18T18:29:52.264512",
   "environment_variables": {},
   "exception": null,
   "input_path": "__notebook__.ipynb",
   "output_path": "__notebook__.ipynb",
   "parameters": {},
   "start_time": "2023-11-18T18:25:20.673282",
   "version": "2.4.0"
  }
 },
 "nbformat": 4,
 "nbformat_minor": 5
}
