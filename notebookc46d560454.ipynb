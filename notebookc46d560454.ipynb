{
 "cells": [
  {
   "cell_type": "markdown",
   "id": "01fd6348",
   "metadata": {
    "papermill": {
     "duration": 0.008826,
     "end_time": "2024-10-09T20:05:54.351869",
     "exception": false,
     "start_time": "2024-10-09T20:05:54.343043",
     "status": "completed"
    },
    "tags": []
   },
   "source": [
    "We're going to do some dimension reduction, so let's pip install UMAP."
   ]
  },
  {
   "cell_type": "code",
   "execution_count": 1,
   "id": "d6e423ec",
   "metadata": {
    "execution": {
     "iopub.execute_input": "2024-10-09T20:05:54.373190Z",
     "iopub.status.busy": "2024-10-09T20:05:54.372620Z",
     "iopub.status.idle": "2024-10-09T20:06:16.339478Z",
     "shell.execute_reply": "2024-10-09T20:06:16.337315Z"
    },
    "papermill": {
     "duration": 21.982885,
     "end_time": "2024-10-09T20:06:16.343126",
     "exception": false,
     "start_time": "2024-10-09T20:05:54.360241",
     "status": "completed"
    },
    "tags": []
   },
   "outputs": [
    {
     "name": "stdout",
     "output_type": "stream",
     "text": [
      "umap install complete.\n"
     ]
    }
   ],
   "source": [
    "!pip install --quiet umap-learn\n",
    "print('umap install complete.')"
   ]
  },
  {
   "cell_type": "markdown",
   "id": "fca1445a",
   "metadata": {
    "papermill": {
     "duration": 0.007081,
     "end_time": "2024-10-09T20:06:16.358174",
     "exception": false,
     "start_time": "2024-10-09T20:06:16.351093",
     "status": "completed"
    },
    "tags": []
   },
   "source": [
    "Let's load up the data and do a little feature engineering."
   ]
  },
  {
   "cell_type": "code",
   "execution_count": 2,
   "id": "a848501e",
   "metadata": {
    "_cell_guid": "b1076dfc-b9ad-4769-8c92-a6c4dae69d19",
    "_uuid": "8f2839f25d086af736a60e9eeb907d3b93b6e0e5",
    "execution": {
     "iopub.execute_input": "2024-10-09T20:06:16.379502Z",
     "iopub.status.busy": "2024-10-09T20:06:16.378940Z",
     "iopub.status.idle": "2024-10-09T20:06:21.273353Z",
     "shell.execute_reply": "2024-10-09T20:06:21.271557Z"
    },
    "papermill": {
     "duration": 4.909677,
     "end_time": "2024-10-09T20:06:21.277832",
     "exception": false,
     "start_time": "2024-10-09T20:06:16.368155",
     "status": "completed"
    },
    "tags": []
   },
   "outputs": [
    {
     "data": {
      "text/html": [
       "<div>\n",
       "<style scoped>\n",
       "    .dataframe tbody tr th:only-of-type {\n",
       "        vertical-align: middle;\n",
       "    }\n",
       "\n",
       "    .dataframe tbody tr th {\n",
       "        vertical-align: top;\n",
       "    }\n",
       "\n",
       "    .dataframe thead th {\n",
       "        text-align: right;\n",
       "    }\n",
       "</style>\n",
       "<table border=\"1\" class=\"dataframe\">\n",
       "  <thead>\n",
       "    <tr style=\"text-align: right;\">\n",
       "      <th></th>\n",
       "      <th>Age</th>\n",
       "      <th>Height</th>\n",
       "      <th>Overweight_Obese_Family</th>\n",
       "      <th>Consumption_of_Fast_Food</th>\n",
       "      <th>Frequency_of_Consuming_Vegetables</th>\n",
       "      <th>Number_of_Main_Meals_Daily</th>\n",
       "      <th>Food_Intake_Between_Meals</th>\n",
       "      <th>Smoking</th>\n",
       "      <th>Liquid_Intake_Daily</th>\n",
       "      <th>Calculation_of_Calorie_Intake</th>\n",
       "      <th>Physical_Excercise</th>\n",
       "      <th>Schedule_Dedicated_to_Technology</th>\n",
       "      <th>Type_of_Transportation_Used</th>\n",
       "      <th>Class</th>\n",
       "      <th>Sex_1</th>\n",
       "      <th>Sex_2</th>\n",
       "    </tr>\n",
       "  </thead>\n",
       "  <tbody>\n",
       "    <tr>\n",
       "      <th>0</th>\n",
       "      <td>-1.537377</td>\n",
       "      <td>-1.597215</td>\n",
       "      <td>2</td>\n",
       "      <td>2</td>\n",
       "      <td>3</td>\n",
       "      <td>1</td>\n",
       "      <td>3</td>\n",
       "      <td>2</td>\n",
       "      <td>1</td>\n",
       "      <td>2</td>\n",
       "      <td>3</td>\n",
       "      <td>3</td>\n",
       "      <td>4</td>\n",
       "      <td>B</td>\n",
       "      <td>False</td>\n",
       "      <td>True</td>\n",
       "    </tr>\n",
       "    <tr>\n",
       "      <th>1</th>\n",
       "      <td>-1.537377</td>\n",
       "      <td>-1.221152</td>\n",
       "      <td>2</td>\n",
       "      <td>2</td>\n",
       "      <td>3</td>\n",
       "      <td>1</td>\n",
       "      <td>1</td>\n",
       "      <td>2</td>\n",
       "      <td>1</td>\n",
       "      <td>2</td>\n",
       "      <td>1</td>\n",
       "      <td>3</td>\n",
       "      <td>3</td>\n",
       "      <td>B</td>\n",
       "      <td>False</td>\n",
       "      <td>True</td>\n",
       "    </tr>\n",
       "    <tr>\n",
       "      <th>2</th>\n",
       "      <td>-1.537377</td>\n",
       "      <td>-1.095798</td>\n",
       "      <td>2</td>\n",
       "      <td>2</td>\n",
       "      <td>2</td>\n",
       "      <td>1</td>\n",
       "      <td>3</td>\n",
       "      <td>2</td>\n",
       "      <td>3</td>\n",
       "      <td>2</td>\n",
       "      <td>2</td>\n",
       "      <td>3</td>\n",
       "      <td>4</td>\n",
       "      <td>B</td>\n",
       "      <td>False</td>\n",
       "      <td>True</td>\n",
       "    </tr>\n",
       "    <tr>\n",
       "      <th>3</th>\n",
       "      <td>-1.537377</td>\n",
       "      <td>-0.719736</td>\n",
       "      <td>2</td>\n",
       "      <td>2</td>\n",
       "      <td>2</td>\n",
       "      <td>2</td>\n",
       "      <td>2</td>\n",
       "      <td>2</td>\n",
       "      <td>2</td>\n",
       "      <td>2</td>\n",
       "      <td>1</td>\n",
       "      <td>3</td>\n",
       "      <td>4</td>\n",
       "      <td>B</td>\n",
       "      <td>False</td>\n",
       "      <td>True</td>\n",
       "    </tr>\n",
       "    <tr>\n",
       "      <th>4</th>\n",
       "      <td>-1.537377</td>\n",
       "      <td>-0.343673</td>\n",
       "      <td>2</td>\n",
       "      <td>1</td>\n",
       "      <td>2</td>\n",
       "      <td>1</td>\n",
       "      <td>3</td>\n",
       "      <td>2</td>\n",
       "      <td>1</td>\n",
       "      <td>2</td>\n",
       "      <td>3</td>\n",
       "      <td>3</td>\n",
       "      <td>2</td>\n",
       "      <td>B</td>\n",
       "      <td>False</td>\n",
       "      <td>True</td>\n",
       "    </tr>\n",
       "  </tbody>\n",
       "</table>\n",
       "</div>"
      ],
      "text/plain": [
       "        Age    Height  Overweight_Obese_Family  Consumption_of_Fast_Food  \\\n",
       "0 -1.537377 -1.597215                        2                         2   \n",
       "1 -1.537377 -1.221152                        2                         2   \n",
       "2 -1.537377 -1.095798                        2                         2   \n",
       "3 -1.537377 -0.719736                        2                         2   \n",
       "4 -1.537377 -0.343673                        2                         1   \n",
       "\n",
       "   Frequency_of_Consuming_Vegetables  Number_of_Main_Meals_Daily  \\\n",
       "0                                  3                           1   \n",
       "1                                  3                           1   \n",
       "2                                  2                           1   \n",
       "3                                  2                           2   \n",
       "4                                  2                           1   \n",
       "\n",
       "   Food_Intake_Between_Meals  Smoking  Liquid_Intake_Daily  \\\n",
       "0                          3        2                    1   \n",
       "1                          1        2                    1   \n",
       "2                          3        2                    3   \n",
       "3                          2        2                    2   \n",
       "4                          3        2                    1   \n",
       "\n",
       "   Calculation_of_Calorie_Intake  Physical_Excercise  \\\n",
       "0                              2                   3   \n",
       "1                              2                   1   \n",
       "2                              2                   2   \n",
       "3                              2                   1   \n",
       "4                              2                   3   \n",
       "\n",
       "   Schedule_Dedicated_to_Technology  Type_of_Transportation_Used Class  Sex_1  \\\n",
       "0                                 3                            4     B  False   \n",
       "1                                 3                            3     B  False   \n",
       "2                                 3                            4     B  False   \n",
       "3                                 3                            4     B  False   \n",
       "4                                 3                            2     B  False   \n",
       "\n",
       "   Sex_2  \n",
       "0   True  \n",
       "1   True  \n",
       "2   True  \n",
       "3   True  \n",
       "4   True  "
      ]
     },
     "execution_count": 2,
     "metadata": {},
     "output_type": "execute_result"
    }
   ],
   "source": [
    "import pandas as pd\n",
    "from sklearn.compose import ColumnTransformer\n",
    "from sklearn.preprocessing import StandardScaler\n",
    "\n",
    "XLSX = '/kaggle/input/obesity-dataset/Obesity_Dataset.xlsx'\n",
    "\n",
    "df = pd.read_excel(io=XLSX, sheet_name='Obesity_Dataset ', )\n",
    "df['Class'] = df['Class'].map({1: 'A', 2: 'B', 3: 'C', 4: 'D'})\n",
    "preprocessor = ColumnTransformer(\n",
    "    [\n",
    "        ('age', StandardScaler(), ['Age']),\n",
    "        ('height', StandardScaler(), ['Height']),\n",
    "    ],\n",
    "    verbose_feature_names_out=False,\n",
    ")\n",
    "df[['Age', 'Height', ]] = preprocessor.fit_transform(X=df.drop(columns=['Class']), y=df['Class'])\n",
    "df = pd.get_dummies(data=df, columns=['Sex'])\n",
    "\n",
    "\n",
    "df.head()"
   ]
  },
  {
   "cell_type": "markdown",
   "id": "963156c4",
   "metadata": {
    "papermill": {
     "duration": 0.008946,
     "end_time": "2024-10-09T20:06:21.295007",
     "exception": false,
     "start_time": "2024-10-09T20:06:21.286061",
     "status": "completed"
    },
    "tags": []
   },
   "source": [
    "What kind of data do we have?"
   ]
  },
  {
   "cell_type": "code",
   "execution_count": 3,
   "id": "2c2a228f",
   "metadata": {
    "execution": {
     "iopub.execute_input": "2024-10-09T20:06:21.316203Z",
     "iopub.status.busy": "2024-10-09T20:06:21.315411Z",
     "iopub.status.idle": "2024-10-09T20:06:21.329171Z",
     "shell.execute_reply": "2024-10-09T20:06:21.327505Z"
    },
    "papermill": {
     "duration": 0.029276,
     "end_time": "2024-10-09T20:06:21.332197",
     "exception": false,
     "start_time": "2024-10-09T20:06:21.302921",
     "status": "completed"
    },
    "tags": []
   },
   "outputs": [
    {
     "data": {
      "text/plain": [
       "Age                                  float64\n",
       "Height                               float64\n",
       "Overweight_Obese_Family                int64\n",
       "Consumption_of_Fast_Food               int64\n",
       "Frequency_of_Consuming_Vegetables      int64\n",
       "Number_of_Main_Meals_Daily             int64\n",
       "Food_Intake_Between_Meals              int64\n",
       "Smoking                                int64\n",
       "Liquid_Intake_Daily                    int64\n",
       "Calculation_of_Calorie_Intake          int64\n",
       "Physical_Excercise                     int64\n",
       "Schedule_Dedicated_to_Technology       int64\n",
       "Type_of_Transportation_Used            int64\n",
       "Class                                 object\n",
       "Sex_1                                   bool\n",
       "Sex_2                                   bool\n",
       "dtype: object"
      ]
     },
     "execution_count": 3,
     "metadata": {},
     "output_type": "execute_result"
    }
   ],
   "source": [
    "df.dtypes"
   ]
  },
  {
   "cell_type": "markdown",
   "id": "6553c4b7",
   "metadata": {
    "papermill": {
     "duration": 0.00722,
     "end_time": "2024-10-09T20:06:21.347297",
     "exception": false,
     "start_time": "2024-10-09T20:06:21.340077",
     "status": "completed"
    },
    "tags": []
   },
   "source": [
    "All of our data except the target variable is numerical."
   ]
  },
  {
   "cell_type": "markdown",
   "id": "5ba50eb8",
   "metadata": {
    "papermill": {
     "duration": 0.007409,
     "end_time": "2024-10-09T20:06:21.362665",
     "exception": false,
     "start_time": "2024-10-09T20:06:21.355256",
     "status": "completed"
    },
    "tags": []
   },
   "source": [
    "Are the classes in our target variable balanced?"
   ]
  },
  {
   "cell_type": "code",
   "execution_count": 4,
   "id": "cc78ff78",
   "metadata": {
    "execution": {
     "iopub.execute_input": "2024-10-09T20:06:21.381144Z",
     "iopub.status.busy": "2024-10-09T20:06:21.380600Z",
     "iopub.status.idle": "2024-10-09T20:06:21.394401Z",
     "shell.execute_reply": "2024-10-09T20:06:21.392586Z"
    },
    "papermill": {
     "duration": 0.026288,
     "end_time": "2024-10-09T20:06:21.397411",
     "exception": false,
     "start_time": "2024-10-09T20:06:21.371123",
     "status": "completed"
    },
    "tags": []
   },
   "outputs": [
    {
     "data": {
      "text/plain": [
       "{'B': 658, 'C': 592, 'D': 287, 'A': 73}"
      ]
     },
     "execution_count": 4,
     "metadata": {},
     "output_type": "execute_result"
    }
   ],
   "source": [
    "df['Class'].value_counts().to_dict()"
   ]
  },
  {
   "cell_type": "markdown",
   "id": "5a425b57",
   "metadata": {
    "papermill": {
     "duration": 0.008907,
     "end_time": "2024-10-09T20:06:21.415498",
     "exception": false,
     "start_time": "2024-10-09T20:06:21.406591",
     "status": "completed"
    },
    "tags": []
   },
   "source": [
    "If we use a dummy model that always guesses the largest class how accurate will it be?"
   ]
  },
  {
   "cell_type": "code",
   "execution_count": 5,
   "id": "468dcea7",
   "metadata": {
    "execution": {
     "iopub.execute_input": "2024-10-09T20:06:21.434325Z",
     "iopub.status.busy": "2024-10-09T20:06:21.433848Z",
     "iopub.status.idle": "2024-10-09T20:06:21.449491Z",
     "shell.execute_reply": "2024-10-09T20:06:21.447681Z"
    },
    "papermill": {
     "duration": 0.028306,
     "end_time": "2024-10-09T20:06:21.452889",
     "exception": false,
     "start_time": "2024-10-09T20:06:21.424583",
     "status": "completed"
    },
    "tags": []
   },
   "outputs": [
    {
     "name": "stdout",
     "output_type": "stream",
     "text": [
      "0.4087\n"
     ]
    }
   ],
   "source": [
    "print('{:5.4f}'.format(len(df[df['Class'] == 'B'])/len(df)))"
   ]
  },
  {
   "cell_type": "markdown",
   "id": "ede8acba",
   "metadata": {
    "papermill": {
     "duration": 0.008753,
     "end_time": "2024-10-09T20:06:21.471102",
     "exception": false,
     "start_time": "2024-10-09T20:06:21.462349",
     "status": "completed"
    },
    "tags": []
   },
   "source": [
    "A dummy model that always guesses B will by accurate about 41% of the time."
   ]
  },
  {
   "cell_type": "markdown",
   "id": "3d14ccb9",
   "metadata": {
    "papermill": {
     "duration": 0.008441,
     "end_time": "2024-10-09T20:06:21.488519",
     "exception": false,
     "start_time": "2024-10-09T20:06:21.480078",
     "status": "completed"
    },
    "tags": []
   },
   "source": [
    "Our classes are substantially unbalanced, which suggests this may be a difficult problem. Let's use dimension reduction to add x/y coordinates so we can visualize our data."
   ]
  },
  {
   "cell_type": "code",
   "execution_count": 6,
   "id": "a20b2c08",
   "metadata": {
    "execution": {
     "iopub.execute_input": "2024-10-09T20:06:21.507713Z",
     "iopub.status.busy": "2024-10-09T20:06:21.507241Z",
     "iopub.status.idle": "2024-10-09T20:07:22.981541Z",
     "shell.execute_reply": "2024-10-09T20:07:22.979122Z"
    },
    "papermill": {
     "duration": 61.494109,
     "end_time": "2024-10-09T20:07:22.990897",
     "exception": false,
     "start_time": "2024-10-09T20:06:21.496788",
     "status": "completed"
    },
    "tags": []
   },
   "outputs": [
    {
     "name": "stdout",
     "output_type": "stream",
     "text": [
      "done with UMAP in 0:00:16.444025\n"
     ]
    }
   ],
   "source": [
    "import arrow\n",
    "from umap import UMAP\n",
    "\n",
    "time_start = arrow.now()\n",
    "umap = UMAP(random_state=2024, verbose=False, n_jobs=1, low_memory=False, n_epochs=201)\n",
    "df[['x', 'y']] = umap.fit_transform(X=df.drop(columns=['Class']))\n",
    "print('done with UMAP in {}'.format(arrow.now() - time_start))"
   ]
  },
  {
   "cell_type": "code",
   "execution_count": 7,
   "id": "e09173b5",
   "metadata": {
    "execution": {
     "iopub.execute_input": "2024-10-09T20:07:23.012030Z",
     "iopub.status.busy": "2024-10-09T20:07:23.010790Z",
     "iopub.status.idle": "2024-10-09T20:07:27.455081Z",
     "shell.execute_reply": "2024-10-09T20:07:27.452448Z"
    },
    "papermill": {
     "duration": 4.458917,
     "end_time": "2024-10-09T20:07:27.459317",
     "exception": false,
     "start_time": "2024-10-09T20:07:23.000400",
     "status": "completed"
    },
    "tags": []
   },
   "outputs": [
    {
     "data": {
      "text/html": [
       "        <script type=\"text/javascript\">\n",
       "        window.PlotlyConfig = {MathJaxConfig: 'local'};\n",
       "        if (window.MathJax && window.MathJax.Hub && window.MathJax.Hub.Config) {window.MathJax.Hub.Config({SVG: {font: \"STIX-Web\"}});}\n",
       "        if (typeof require !== 'undefined') {\n",
       "        require.undef(\"plotly\");\n",
       "        requirejs.config({\n",
       "            paths: {\n",
       "                'plotly': ['https://cdn.plot.ly/plotly-2.32.0.min']\n",
       "            }\n",
       "        });\n",
       "        require(['plotly'], function(Plotly) {\n",
       "            window._Plotly = Plotly;\n",
       "        });\n",
       "        }\n",
       "        </script>\n",
       "        "
      ]
     },
     "metadata": {},
     "output_type": "display_data"
    },
    {
     "data": {
      "text/html": [
       "<div>                            <div id=\"a0bd96b0-da5d-4225-9f68-b3ae39bc30cb\" class=\"plotly-graph-div\" style=\"height:800px; width:100%;\"></div>            <script type=\"text/javascript\">                require([\"plotly\"], function(Plotly) {                    window.PLOTLYENV=window.PLOTLYENV || {};                                    if (document.getElementById(\"a0bd96b0-da5d-4225-9f68-b3ae39bc30cb\")) {                    Plotly.newPlot(                        \"a0bd96b0-da5d-4225-9f68-b3ae39bc30cb\",                        [{\"customdata\":[[false,true],[false,true],[false,true],[false,true],[false,true],[false,true],[false,true],[false,true],[false,true],[false,true],[false,true],[false,true],[false,true],[false,true],[false,true],[false,true],[false,true],[false,true],[false,true],[false,true],[false,true],[false,true],[false,true],[false,true],[false,true],[false,true],[false,true],[false,true],[false,true],[false,true],[false,true],[false,true],[false,true],[false,true],[false,true],[false,true],[false,true],[false,true],[false,true],[false,true],[false,true],[false,true],[false,true],[false,true],[false,true],[false,true],[false,true],[false,true],[false,true],[false,true],[false,true],[false,true],[false,true],[false,true],[false,true],[false,true],[false,true],[false,true],[false,true],[false,true],[false,true],[false,true],[false,true],[false,true],[false,true],[false,true],[false,true],[false,true],[false,true],[false,true],[false,true],[false,true],[false,true],[false,true],[false,true],[false,true],[false,true],[false,true],[false,true],[false,true],[false,true],[false,true],[false,true],[false,true],[false,true],[false,true],[false,true],[false,true],[false,true],[false,true],[false,true],[false,true],[false,true],[false,true],[false,true],[false,true],[false,true],[false,true],[false,true],[false,true],[false,true],[false,true],[false,true],[false,true],[false,true],[false,true],[false,true],[false,true],[false,true],[false,true],[false,true],[false,true],[false,true],[false,true],[false,true],[false,true],[false,true],[false,true],[false,true],[false,true],[false,true],[false,true],[false,true],[false,true],[false,true],[false,true],[false,true],[false,true],[false,true],[false,true],[false,true],[false,true],[false,true],[false,true],[false,true],[false,true],[false,true],[false,true],[false,true],[false,true],[false,true],[false,true],[false,true],[false,true],[false,true],[false,true],[false,true],[false,true],[false,true],[false,true],[false,true],[false,true],[false,true],[false,true],[false,true],[false,true],[false,true],[false,true],[false,true],[false,true],[false,true],[false,true],[false,true],[false,true],[false,true],[false,true],[false,true],[false,true],[false,true],[false,true],[false,true],[false,true],[false,true],[false,true],[false,true],[false,true],[false,true],[false,true],[false,true],[false,true],[false,true],[false,true],[false,true],[false,true],[false,true],[false,true],[false,true],[false,true],[false,true],[false,true],[false,true],[false,true],[false,true],[false,true],[false,true],[false,true],[false,true],[false,true],[false,true],[false,true],[false,true],[false,true],[false,true],[false,true],[false,true],[false,true],[false,true],[false,true],[false,true],[false,true],[false,true],[false,true],[false,true],[false,true],[false,true],[false,true],[false,true],[false,true],[false,true],[false,true],[false,true],[false,true],[false,true],[false,true],[false,true],[false,true],[false,true],[false,true],[false,true],[false,true],[false,true],[false,true],[false,true],[false,true],[false,true],[true,false],[true,false],[true,false],[true,false],[true,false],[true,false],[true,false],[true,false],[true,false],[true,false],[true,false],[true,false],[true,false],[true,false],[true,false],[true,false],[true,false],[true,false],[true,false],[true,false],[true,false],[true,false],[true,false],[true,false],[true,false],[true,false],[true,false],[true,false],[true,false],[true,false],[true,false],[true,false],[true,false],[true,false],[true,false],[true,false],[true,false],[true,false],[true,false],[true,false],[true,false],[true,false],[true,false],[true,false],[true,false],[true,false],[true,false],[true,false],[true,false],[true,false],[true,false],[true,false],[true,false],[true,false],[true,false],[true,false],[true,false],[true,false],[true,false],[true,false],[true,false],[true,false],[true,false],[true,false],[true,false],[true,false],[true,false],[true,false],[true,false],[true,false],[true,false],[true,false],[true,false],[true,false],[true,false],[true,false],[true,false],[true,false],[true,false],[true,false],[true,false],[true,false],[true,false],[true,false],[true,false],[true,false],[true,false],[true,false],[true,false],[true,false],[true,false],[true,false],[true,false],[true,false],[false,true],[false,true],[false,true],[false,true],[false,true],[false,true],[false,true],[false,true],[false,true],[false,true],[false,true],[false,true],[false,true],[false,true],[false,true],[false,true],[false,true],[false,true],[false,true],[false,true],[false,true],[false,true],[false,true],[false,true],[false,true],[false,true],[false,true],[false,true],[false,true],[false,true],[false,true],[false,true],[false,true],[false,true],[false,true],[false,true],[false,true],[false,true],[false,true],[false,true],[false,true],[false,true],[false,true],[false,true],[false,true],[false,true],[false,true],[false,true],[false,true],[false,true],[false,true],[false,true],[false,true],[false,true],[false,true],[false,true],[false,true],[false,true],[false,true],[false,true],[false,true],[false,true],[false,true],[false,true],[false,true],[false,true],[false,true],[false,true],[false,true],[false,true],[false,true],[false,true],[false,true],[false,true],[false,true],[false,true],[false,true],[false,true],[false,true],[false,true],[false,true],[false,true],[false,true],[false,true],[false,true],[false,true],[false,true],[false,true],[false,true],[false,true],[false,true],[false,true],[false,true],[false,true],[false,true],[false,true],[false,true],[false,true],[false,true],[false,true],[false,true],[false,true],[false,true],[false,true],[false,true],[false,true],[false,true],[false,true],[false,true],[false,true],[false,true],[false,true],[false,true],[false,true],[false,true],[false,true],[false,true],[false,true],[false,true],[false,true],[false,true],[false,true],[false,true],[false,true],[false,true],[false,true],[false,true],[false,true],[false,true],[false,true],[false,true],[false,true],[false,true],[false,true],[false,true],[false,true],[false,true],[false,true],[false,true],[false,true],[false,true],[false,true],[false,true],[false,true],[false,true],[false,true],[false,true],[false,true],[false,true],[false,true],[false,true],[false,true],[false,true],[false,true],[false,true],[false,true],[false,true],[false,true],[false,true],[false,true],[false,true],[false,true],[false,true],[false,true],[false,true],[false,true],[false,true],[false,true],[false,true],[false,true],[false,true],[false,true],[false,true],[false,true],[false,true],[false,true],[false,true],[false,true],[false,true],[false,true],[false,true],[false,true],[false,true],[false,true],[false,true],[false,true],[false,true],[false,true],[false,true],[false,true],[false,true],[false,true],[false,true],[false,true],[false,true],[false,true],[false,true],[false,true],[false,true],[false,true],[false,true],[false,true],[false,true],[false,true],[false,true],[false,true],[false,true],[false,true],[false,true],[false,true],[false,true],[false,true],[false,true],[false,true],[false,true],[false,true],[false,true],[false,true],[false,true],[false,true],[false,true],[false,true],[false,true],[false,true],[false,true],[false,true],[false,true],[false,true],[false,true],[false,true],[false,true],[false,true],[false,true],[false,true],[false,true],[true,false],[true,false],[true,false],[true,false],[true,false],[true,false],[true,false],[true,false],[true,false],[true,false],[true,false],[true,false],[true,false],[true,false],[true,false],[true,false],[true,false],[true,false],[true,false],[true,false],[true,false],[true,false],[true,false],[true,false],[true,false],[true,false],[true,false],[true,false],[true,false],[true,false],[true,false],[true,false],[true,false],[true,false],[true,false],[true,false],[true,false],[true,false],[true,false],[true,false],[true,false],[true,false],[true,false],[true,false],[true,false],[true,false],[true,false],[true,false],[true,false],[true,false],[true,false],[true,false],[true,false],[true,false],[true,false],[true,false],[true,false],[true,false],[true,false],[true,false],[true,false],[true,false],[true,false],[true,false],[true,false],[true,false],[true,false],[true,false],[true,false],[true,false],[true,false],[true,false],[true,false],[true,false],[true,false],[true,false],[true,false],[true,false],[true,false],[true,false],[true,false],[true,false],[true,false],[true,false],[true,false],[true,false],[true,false],[true,false],[true,false],[true,false],[true,false],[true,false],[true,false],[true,false]],\"hovertemplate\":\"Class=B\\u003cbr\\u003ex=%{x}\\u003cbr\\u003ey=%{y}\\u003cbr\\u003eSex_1=%{customdata[0]}\\u003cbr\\u003eSex_2=%{customdata[1]}\\u003cextra\\u003e\\u003c\\u002fextra\\u003e\",\"legendgroup\":\"B\",\"marker\":{\"color\":\"#636efa\",\"symbol\":\"circle\"},\"mode\":\"markers\",\"name\":\"B\",\"showlegend\":true,\"x\":[0.71566266,0.44497335,-0.107585154,-0.13007864,0.9966831,0.07638335,1.1226759,0.17562774,0.18474674,0.44035643,0.14325225,0.33711138,-0.035412665,-0.3957751,-0.30724692,0.8876622,1.2186158,0.9519135,1.1414884,1.0495019,0.049110733,-0.46437973,-0.36266038,-0.6199342,1.0791807,0.115143836,0.42865923,0.27547294,0.06257048,1.097189,-0.062227372,-0.35581887,-0.59513986,-0.30437136,-0.89124125,-0.34900358,-0.43159747,-0.41960868,0.82619894,1.0073795,0.5910143,0.6957203,-0.19064751,0.22238082,-0.14290793,1.1371498,-0.022794666,0.32169488,1.1348566,1.4244455,-0.27564463,-0.29189235,0.8209454,1.129003,0.47590378,0.8536307,-0.42040625,-0.90634966,1.1874545,-0.37773326,-0.31464234,0.19701971,1.1906115,0.0155883925,0.64019394,-0.3300475,0.35780582,0.28373674,0.26258153,0.1890983,-0.16242385,-0.048318736,-0.531105,0.003325093,-0.15949042,-0.54337597,-0.3507814,0.50553435,1.1327988,0.43448368,-0.22387339,0.36727676,0.1824018,1.1805958,0.54122734,-0.49766922,-0.060466923,0.44758075,-0.106121056,0.25689274,0.62891865,-0.8058818,-0.68900514,0.52143234,0.029805154,0.11943218,-0.039689478,0.039442398,-0.14341532,-0.49743807,-0.36094594,0.17479669,0.01393879,1.0565937,0.29371217,0.4437813,0.64461863,0.037976697,0.47467747,0.5554688,0.7240368,1.0143704,-0.41737562,0.7077128,0.5429759,0.35404792,-0.18434273,-0.4265976,-0.3366213,-0.39638,-0.9004256,0.7169788,0.89544123,-0.6833107,0.7571511,0.17811403,0.71823573,-0.45848644,0.23661162,-0.4377341,0.500631,0.76742446,-0.085131906,8.712486,0.025216762,-0.85916036,-0.53442854,0.96901417,0.95506054,1.2157298,0.364501,1.1508181,0.8107047,0.5461246,-0.77383465,1.3520595,-0.008671592,-0.6963207,0.59661573,0.77147603,-0.066861644,-0.12344584,-0.03254424,-0.6799092,-0.1446005,1.3016635,0.9338979,0.8813713,0.7565316,8.605749,-0.46169296,-0.3708417,1.0499318,-0.36433274,1.2500962,-0.47073165,0.7793196,0.07489631,0.3753869,-0.22627763,0.8581079,-0.84874856,1.0596429,-0.65138906,-0.5060969,0.3780357,-0.615413,-0.2936797,0.3808797,0.14158697,0.9470564,0.8110428,-0.7584828,0.83538,0.46079955,-0.72697854,1.0342413,-0.758167,0.67292064,1.2581232,8.836611,7.6994853,1.0674322,8.486207,7.9113297,8.688778,8.87053,9.167591,8.578394,9.197235,-0.94334805,9.608681,8.334037,8.573754,8.563727,9.3105545,8.346169,8.283404,8.248344,8.1384325,8.9476,9.462817,8.229083,9.009256,8.818035,8.890851,8.641111,8.839162,9.306022,9.0105095,7.6998644,9.058792,7.5234427,8.190839,8.30118,7.5682855,8.276742,9.657649,9.382999,8.6976385,8.263812,9.341607,9.191813,8.405399,9.61613,-3.0927098,-2.0015032,-2.1481733,-2.5963147,-2.6417177,-1.7167215,-2.5215237,-1.9229,-2.0271797,-2.4630828,-1.6285717,-2.8076873,-2.0122008,-1.2841684,0.44596756,-1.7549623,-2.9831762,-2.9116778,-2.6604276,-2.451933,-1.221748,-1.977495,6.6662846,-3.0332458,-0.16713953,-2.053697,7.7368803,-2.3906162,-1.9993255,-0.9694195,-1.9150037,-3.2016091,-2.5369391,-1.5531442,-1.5614648,-2.9681756,-0.19179127,7.951695,-2.1978579,-2.9875379,-2.1109407,-0.48886454,-2.8954766,-0.15552643,-2.762124,-3.000097,7.641508,-2.0545938,-2.7738435,-0.40125763,-0.3757855,-1.342848,-2.6026819,-0.6222327,-2.9067714,-0.81795853,8.692759,-0.6362121,-2.335855,-1.4713126,-1.1507877,-3.183246,-0.38300714,-0.380862,-1.6280829,-2.9238598,-0.6729462,-0.9999885,-2.945184,7.9497385,-1.531973,8.130515,7.781714,7.6112485,7.1796427,-2.122428,8.493518,-0.85573757,-1.3667712,7.286665,-0.8439746,7.7597404,7.86725,7.1540933,-2.543056,-2.7430704,7.6006017,-0.40495658,7.2964945,7.574136,7.5713854,-1.8786161,9.827754,7.2516704,1.3905038,0.18702608,-0.36291832,1.160682,0.030638285,1.1525692,0.0970846,-0.12255461,0.30648473,-0.14655025,0.44962257,-0.045934975,-0.38044783,-0.3327702,0.8964291,1.0932504,1.0181772,0.9599398,0.45354792,0.20844214,-0.34705567,-0.29469213,-0.8229186,1.0582854,0.15532246,-0.3955407,1.3340951,0.5845413,0.110783756,0.070141874,1.1897041,-0.1265396,-0.64892995,0.05560589,-0.141676,-0.87262464,-0.45890447,-0.4236477,-0.36008132,1.2049469,0.99108046,0.7764454,0.5881553,-0.41261128,0.5129071,0.14901452,1.0113629,0.38566807,1.0681204,0.41890734,1.5127199,-0.48358002,-0.32429704,-0.21899313,1.2128307,0.26492995,0.7544104,0.8636062,-0.42546773,-0.8853776,1.1971935,-0.333558,-0.31549203,-0.34474057,0.9666804,0.05996756,0.7335873,-0.43843308,0.4070409,-0.446021,-0.28546348,0.12533404,0.016512344,0.25671527,-0.61688185,0.14900827,-0.5269419,-0.546976,-0.34372365,0.2642592,1.0779935,0.37051427,0.22466522,0.3028422,0.21451317,1.2301376,0.4032919,-0.55783087,-0.25871202,0.15535116,-0.2553448,0.26653022,0.22632223,-0.8372089,-0.7742437,0.45443508,0.35210475,-0.07218701,-0.15758173,0.31630296,-0.1272437,-0.6333784,-0.14344884,-0.032150496,0.21764903,1.2318766,0.35630864,0.45205945,1.1582532,0.21736304,0.5750918,0.60731435,0.35867843,0.88922024,-0.57059485,0.86629426,0.5701235,0.41234827,0.23163585,-0.32985437,0.09605284,-0.4347447,-0.93611336,0.7398913,0.9584146,0.9117646,-0.60867435,0.6232009,0.36287203,0.71475387,-0.49586728,0.6901685,0.11161065,-0.73037237,0.48240417,0.74885046,-0.11285167,8.725122,-0.012795481,-0.9239462,-0.59463364,1.0455503,0.893662,0.9481031,1.2396643,0.96068317,0.7356418,0.7914223,-0.73467785,1.2693418,-0.6560665,-0.5641144,0.66633856,0.83517885,-0.039231263,-0.43242264,-0.12287948,-0.6915947,-0.18597151,1.1857848,0.96596575,0.99019563,0.8368612,8.618025,-0.5581795,-0.39323214,1.0956815,-0.5641286,1.2401053,-0.6306921,0.8183305,0.5063834,0.24386543,0.78939354,-0.79495466,-0.65847874,-0.73465985,0.48154238,-0.40599027,-0.48393586,0.14060368,0.23717694,1.2840315,0.67354447,-0.92771834,0.54367965,0.29918644,-0.6408841,0.6526667,1.2818547,-0.8239612,0.6996686,1.3202301,8.89716,1.1531677,8.578859,7.8079605,9.08712,8.85834,9.016916,8.618222,8.989402,-0.8975111,8.12419,8.586686,8.791145,8.67318,8.313441,8.237639,8.067814,8.703166,9.38793,8.256652,8.897266,8.859673,8.897061,8.436684,8.7548685,9.275056,8.842972,7.7229548,9.583839,7.5972953,8.320463,8.30271,7.60974,8.294485,9.499391,9.388442,8.564385,8.316172,9.381543,9.223603,8.293363,7.8481255,-3.1685307,-1.9313109,-2.1499226,-2.5431035,-2.7351263,-1.080389,-2.5233595,-1.9099244,-1.9807479,-2.41453,-1.6520221,-2.7981493,-1.9799742,-0.86050653,0.39366555,-2.2770991,-2.979456,-2.8660944,-2.5270934,-2.6199005,-1.2822335,-1.8912843,6.6534696,-2.8901188,-0.22663923,-1.8409739,7.746253,-2.6050706,-2.1202154,-1.2835737,-1.7862905,-3.0875165,-2.616061,-1.7028276,-1.7385287,-3.2173016,-0.24527101,7.830816,-1.9194453,-2.9524999,-2.0368693,-0.3661885,-2.9728682,-0.10640843,-2.776566,-2.9138572,7.766199,-2.0749476,-2.70792,-0.5582663,-0.40756068,-1.8372363,-2.7533734,-0.6612214,-2.8721995,-0.97208554,8.588447,-0.6069816,-2.6135852,-1.2926456,-0.8820195,-3.188397,-0.31740654,-0.6046654,-2.962407,-1.1374924,-2.7180946,7.489754,-2.917173,-2.6146867,7.817625,-1.5377374,8.3067465,7.737192,7.1566873,7.1875825,-2.1366396,8.52291,-0.8250255,7.2420354,-0.6485501,7.3599005,8.709618,7.2040105,-2.6105042,-2.8510003,7.720708,-0.40850252,7.3139477,7.674878,7.296904,-1.9008058,9.829323,7.1028414],\"xaxis\":\"x\",\"y\":[6.854734,8.884304,8.510492,8.504776,7.421468,4.934286,7.865234,9.43878,7.983007,6.659806,8.582604,8.817283,8.590587,5.965098,9.286139,8.504447,5.904807,8.097675,7.2330017,7.660152,8.835347,7.68237,9.337919,7.716952,7.618725,9.427261,7.8806663,6.498941,8.156816,7.4615607,8.280189,8.677457,8.793845,9.515731,8.744211,8.077361,5.9317822,5.7651815,6.823697,8.133879,7.981907,6.9400816,9.082862,8.0612,7.87117,7.2230167,9.234614,6.718077,7.0175805,7.549491,8.73801,8.285379,7.186322,7.1901517,7.937702,7.5037975,6.3938284,8.693557,7.503662,9.435632,9.257333,6.8836126,7.5991545,7.113599,6.931622,8.112894,6.556133,7.934342,9.16153,6.8572526,9.319802,9.424448,8.48911,7.827355,6.2783,7.9160957,5.201543,6.5297,7.20658,7.730545,9.29353,6.7454696,6.316377,7.6660466,6.9869866,8.874945,7.5085483,6.718552,7.8469157,6.6461706,6.9850082,7.6897144,7.6330276,5.3176017,7.660532,7.848731,7.7419167,7.230986,6.938324,8.804951,5.696955,8.977432,8.304309,5.3973036,7.9127636,7.095467,7.371032,6.9144387,7.9111195,6.8114147,5.7498655,7.129641,9.301084,6.9526753,5.595573,5.8717203,6.9875355,6.445165,6.180506,6.199611,8.797748,6.3334455,8.418003,7.5906963,5.819636,7.6691074,5.6231723,8.02064,7.2574296,7.8403993,5.539808,5.3519835,6.5225782,5.698558,5.798566,8.49367,8.549089,5.8734303,5.364899,7.9010715,6.153139,7.956342,5.5926323,5.5095806,8.4985,8.126,7.763608,7.983503,5.1513815,6.8299575,6.0037656,6.941689,6.0783577,6.6682005,5.2226453,6.697861,6.102935,5.3222957,6.082057,5.723142,6.623442,5.91824,5.8366475,8.665832,5.342952,8.348395,6.6982856,7.2692366,6.023379,7.6675816,6.5945725,9.017236,5.9052515,7.109349,7.992226,5.705273,7.8096457,6.0887733,5.0991592,5.733261,6.017069,5.8331122,7.8855605,5.841895,6.3320227,7.627747,5.236695,7.3739977,6.4243665,8.202098,6.9862432,6.642753,5.9572783,6.6228447,6.5167546,7.4399843,6.0922103,5.8553314,5.8943467,6.3240123,7.7014837,7.2641106,5.800772,5.717529,6.395535,6.23994,5.972301,5.9400764,5.6081867,5.6327434,6.1751885,6.170001,6.176279,6.629755,6.64913,6.5453277,7.1571484,6.302563,5.9015975,5.838825,6.382523,6.660864,6.755672,5.7996974,5.3977976,6.3331976,5.3844924,7.3293037,6.153256,5.7952137,6.1865497,7.057528,5.8432612,5.1242466,6.6300297,3.422774,4.07666,3.4290018,4.238819,4.339323,4.1044626,3.180695,3.532882,3.483747,4.4650254,3.8188004,4.068071,4.079892,3.9471962,3.6891086,3.5433078,3.8328204,4.2635117,4.1245065,4.0519423,3.922785,4.0318737,3.2556736,4.1174946,3.6226904,4.1659126,1.7150774,3.3369951,3.2715592,3.6331093,4.0797367,3.358118,4.1788564,3.9336412,3.4177442,3.5163255,3.72241,1.4563113,3.239151,4.152342,3.3026567,3.4182663,4.188429,3.617865,3.2159965,4.158309,2.3403497,3.8073344,2.8933525,3.697382,3.1260793,3.4151666,3.7669222,3.2048032,2.9927702,3.0788238,3.5641422,3.3597045,4.0477853,2.8949385,3.958568,3.2528737,2.8805382,3.3248057,3.609887,2.8124375,3.3830853,3.2742753,3.271821,3.3644066,3.9922748,1.4887238,2.3676817,3.8061223,3.605143,3.8566358,3.477389,2.959329,3.3572633,3.5284998,2.7650695,3.7432086,1.3742635,3.0326576,2.9610503,2.8304253,2.4637074,2.6044905,2.7135832,3.8598495,3.2012796,2.6228619,2.966903,3.5208695,7.384584,8.305514,8.557152,7.3673453,5.000377,7.9568343,9.511852,8.379981,6.7154756,8.662038,8.818637,8.550715,5.8793907,9.3048525,8.501702,5.9714875,7.603745,7.0351524,7.345182,8.537423,7.6080174,9.3986225,7.694972,7.6147766,9.342774,7.2623153,5.265075,8.02285,6.316835,8.305731,7.4420056,8.155657,8.189876,9.556015,9.613349,8.833714,8.007934,5.883606,5.802347,7.1106186,8.03033,8.001507,6.851632,8.811094,8.367582,7.995499,7.487577,8.818684,7.0706573,6.6627088,7.6157293,8.051001,6.6381383,8.390568,7.5202622,6.399977,7.9008584,7.613364,6.3380065,8.690652,7.1998835,9.370125,9.376713,7.2368875,7.778777,7.11201,6.852021,8.143873,6.4934773,8.0672865,9.296353,7.101769,9.440161,9.222527,9.082972,7.8392196,6.3799486,7.752343,5.3402495,6.912428,7.228245,7.6908975,8.928322,6.6279593,6.289177,7.6676993,6.9553504,8.483941,8.737065,6.7250357,7.882439,6.49717,6.3701963,7.7725167,7.505407,5.1860538,7.886072,7.497637,7.6976914,6.497954,6.983802,9.145021,5.7642336,9.0935755,8.37875,5.385324,8.113727,7.249417,7.4431963,6.6928477,8.025285,6.970184,6.2689157,7.07388,9.039948,7.1010895,5.5677004,5.7423863,6.815101,6.6194644,6.1036325,6.2266927,8.756248,6.236959,4.8659215,8.520099,7.6340237,5.588802,7.517552,5.563025,8.03502,5.9513903,7.2807274,7.9820833,5.528835,5.2498646,6.2951417,5.721832,5.7375627,8.647387,8.757693,5.8353777,5.5216975,8.3624,6.9665713,8.444563,5.528719,4.900442,8.27667,8.171825,7.74064,7.83593,4.663377,6.913354,6.121848,6.2520456,6.081288,6.6418633,5.1870375,6.47925,6.0260773,5.3714533,5.9527974,5.6901364,6.641923,5.8113136,5.858797,8.074879,5.1950994,8.161197,6.6925044,7.0767336,6.0897017,6.5507593,9.160934,7.1134906,7.5357943,5.717134,7.7416224,6.172185,5.069573,5.9518304,6.304439,5.666915,7.7609015,5.4754343,6.1154685,7.5093055,4.6745267,5.059393,7.16642,6.538788,8.101421,7.4212627,5.953812,7.0166826,6.6467786,5.8991694,5.8854446,5.881248,5.9126067,7.442454,7.6606574,5.7414064,5.706184,6.3181477,7.427676,5.712718,5.8392878,5.7216134,7.428535,6.044781,6.8068724,6.9295173,5.9595227,6.6119823,5.6876593,6.974759,5.867015,5.8339405,6.3986096,6.125951,6.935747,5.6572895,5.3257446,6.230347,5.50044,7.499696,6.101335,5.718206,5.969032,6.846666,5.8077946,5.257278,6.962483,3.3986146,3.9191678,3.5064054,4.1940475,4.252923,3.6216686,3.1218312,3.7289524,2.8326676,4.4141574,4.026458,3.9352467,4.090376,3.609146,3.676494,4.1314206,3.8737278,4.2661166,3.768036,4.1290092,3.9326324,4.074769,3.4213076,3.6168137,3.6466134,3.905927,1.8641915,4.1582413,4.1473756,3.9215438,4.1533766,3.1034234,4.1806784,3.3565598,3.5506384,3.8090205,3.6123216,1.368214,3.7923908,4.1162176,3.2835255,3.4802089,4.187465,3.504485,3.2154434,4.0605617,2.4519858,3.5991197,2.9861598,3.655864,3.1511505,3.7042832,2.7928436,3.3072512,2.9542062,3.072481,3.8148406,3.5148401,3.324785,2.3378894,3.6898706,3.2950356,2.6333578,3.5437756,2.851468,3.706098,2.9206357,2.4563053,3.150985,3.4671388,3.2771826,4.019915,1.5484917,2.5623937,2.7794902,3.5863428,3.8775694,3.5022492,2.8344078,3.5167012,2.6266596,2.642798,3.1567671,3.239998,2.7311256,2.8448956,2.6980157,2.4888632,2.562253,3.9726677,3.6142464,2.7318442,3.0761344,3.2965],\"yaxis\":\"y\",\"type\":\"scattergl\"},{\"customdata\":[[false,true],[false,true],[false,true],[false,true],[false,true],[false,true],[false,true],[false,true],[false,true],[false,true],[false,true],[false,true],[false,true],[false,true],[false,true],[false,true],[false,true],[false,true],[false,true],[false,true],[false,true],[false,true],[false,true],[false,true],[false,true],[false,true],[false,true],[false,true],[false,true],[false,true],[false,true],[false,true],[false,true],[false,true],[false,true],[false,true],[false,true],[false,true],[false,true],[false,true],[false,true],[false,true],[false,true],[false,true],[false,true],[false,true],[false,true],[false,true],[false,true],[false,true],[false,true],[false,true],[false,true],[false,true],[false,true],[false,true],[false,true],[false,true],[false,true],[false,true],[false,true],[false,true],[false,true],[false,true],[false,true],[false,true],[false,true],[false,true],[false,true],[false,true],[false,true],[false,true],[false,true],[false,true],[false,true],[false,true],[false,true],[false,true],[false,true],[false,true],[false,true],[false,true],[false,true],[false,true],[false,true],[false,true],[false,true],[false,true],[false,true],[false,true],[false,true],[false,true],[false,true],[false,true],[false,true],[false,true],[false,true],[false,true],[false,true],[false,true],[false,true],[false,true],[false,true],[false,true],[false,true],[false,true],[false,true],[false,true],[false,true],[false,true],[false,true],[false,true],[false,true],[false,true],[false,true],[false,true],[false,true],[false,true],[false,true],[true,false],[true,false],[true,false],[true,false],[true,false],[true,false],[true,false],[true,false],[true,false],[true,false],[true,false],[true,false],[true,false],[true,false],[true,false],[true,false],[true,false],[true,false],[true,false],[true,false],[true,false],[true,false],[true,false],[true,false],[true,false],[true,false],[true,false],[true,false],[true,false],[true,false],[true,false],[true,false],[true,false],[true,false],[true,false],[true,false],[true,false],[true,false],[true,false],[true,false],[true,false],[true,false],[true,false],[true,false],[true,false],[true,false],[true,false],[true,false],[true,false],[true,false],[true,false],[true,false],[true,false],[true,false],[true,false],[true,false],[true,false],[true,false],[true,false],[true,false],[true,false],[true,false],[true,false],[true,false],[true,false],[true,false],[true,false],[true,false],[true,false],[true,false],[true,false],[true,false],[true,false],[true,false],[true,false],[true,false],[true,false],[true,false],[true,false],[true,false],[true,false],[true,false],[true,false],[true,false],[true,false],[true,false],[true,false],[true,false],[true,false],[true,false],[true,false],[true,false],[true,false],[true,false],[true,false],[true,false],[true,false],[true,false],[true,false],[true,false],[true,false],[true,false],[true,false],[true,false],[true,false],[true,false],[true,false],[true,false],[true,false],[true,false],[true,false],[true,false],[true,false],[true,false],[true,false],[true,false],[true,false],[true,false],[true,false],[true,false],[true,false],[true,false],[true,false],[true,false],[true,false],[true,false],[true,false],[true,false],[true,false],[true,false],[true,false],[true,false],[true,false],[true,false],[true,false],[true,false],[true,false],[true,false],[true,false],[true,false],[true,false],[true,false],[true,false],[true,false],[true,false],[true,false],[true,false],[true,false],[true,false],[true,false],[true,false],[true,false],[true,false],[true,false],[true,false],[true,false],[true,false],[true,false],[true,false],[true,false],[true,false],[true,false],[true,false],[true,false],[true,false],[true,false],[true,false],[true,false],[true,false],[true,false],[true,false],[true,false],[true,false],[true,false],[true,false],[true,false],[true,false],[true,false],[true,false],[false,true],[false,true],[false,true],[false,true],[false,true],[false,true],[false,true],[false,true],[false,true],[false,true],[false,true],[false,true],[false,true],[false,true],[false,true],[false,true],[false,true],[false,true],[false,true],[false,true],[false,true],[false,true],[false,true],[false,true],[false,true],[false,true],[false,true],[false,true],[false,true],[false,true],[false,true],[false,true],[false,true],[false,true],[false,true],[false,true],[false,true],[false,true],[false,true],[false,true],[false,true],[false,true],[false,true],[false,true],[false,true],[false,true],[false,true],[false,true],[false,true],[false,true],[false,true],[false,true],[false,true],[false,true],[false,true],[false,true],[false,true],[false,true],[false,true],[false,true],[false,true],[false,true],[false,true],[false,true],[false,true],[false,true],[false,true],[false,true],[false,true],[false,true],[false,true],[false,true],[false,true],[false,true],[false,true],[false,true],[false,true],[false,true],[false,true],[false,true],[false,true],[false,true],[false,true],[false,true],[false,true],[false,true],[false,true],[false,true],[false,true],[false,true],[false,true],[false,true],[false,true],[false,true],[false,true],[false,true],[false,true],[false,true],[false,true],[false,true],[false,true],[false,true],[false,true],[false,true],[false,true],[false,true],[false,true],[false,true],[false,true],[false,true],[false,true],[false,true],[false,true],[false,true],[false,true],[true,false],[true,false],[true,false],[true,false],[true,false],[true,false],[true,false],[true,false],[true,false],[true,false],[true,false],[true,false],[true,false],[true,false],[true,false],[true,false],[true,false],[true,false],[true,false],[true,false],[true,false],[true,false],[true,false],[true,false],[true,false],[true,false],[true,false],[true,false],[true,false],[true,false],[true,false],[true,false],[true,false],[true,false],[true,false],[true,false],[true,false],[true,false],[true,false],[true,false],[true,false],[true,false],[true,false],[true,false],[true,false],[true,false],[true,false],[true,false],[true,false],[true,false],[true,false],[true,false],[true,false],[true,false],[true,false],[true,false],[true,false],[true,false],[true,false],[true,false],[true,false],[true,false],[true,false],[true,false],[true,false],[true,false],[true,false],[true,false],[true,false],[true,false],[true,false],[true,false],[true,false],[true,false],[true,false],[true,false],[true,false],[true,false],[true,false],[true,false],[true,false],[true,false],[true,false],[true,false],[true,false],[true,false],[true,false],[true,false],[true,false],[true,false],[true,false],[true,false],[true,false],[true,false],[true,false],[true,false],[true,false],[true,false],[true,false],[true,false],[true,false],[true,false],[true,false],[true,false],[true,false],[true,false],[true,false],[true,false],[true,false],[true,false],[true,false],[true,false],[true,false],[true,false],[true,false],[true,false],[true,false],[true,false],[true,false],[true,false],[true,false],[true,false],[true,false],[true,false],[true,false],[true,false],[true,false],[true,false],[true,false],[true,false],[true,false],[true,false],[true,false],[true,false],[true,false],[true,false],[true,false],[true,false],[true,false],[true,false],[true,false],[true,false],[true,false],[true,false],[true,false],[true,false],[true,false],[true,false],[true,false],[true,false],[true,false],[true,false],[true,false],[true,false],[true,false],[true,false],[true,false],[true,false],[true,false],[true,false],[true,false],[true,false],[true,false],[true,false],[true,false],[true,false],[true,false],[true,false],[true,false],[true,false],[true,false],[true,false],[true,false],[true,false],[true,false],[true,false],[true,false],[true,false],[true,false]],\"hovertemplate\":\"Class=C\\u003cbr\\u003ex=%{x}\\u003cbr\\u003ey=%{y}\\u003cbr\\u003eSex_1=%{customdata[0]}\\u003cbr\\u003eSex_2=%{customdata[1]}\\u003cextra\\u003e\\u003c\\u002fextra\\u003e\",\"legendgroup\":\"C\",\"marker\":{\"color\":\"#EF553B\",\"symbol\":\"circle\"},\"mode\":\"markers\",\"name\":\"C\",\"showlegend\":true,\"x\":[-0.11634817,0.50518334,0.94391656,-0.21405767,-0.5337067,1.2342664,0.046228845,1.0329767,-0.2512969,1.1322513,0.8904028,-0.47466952,0.6709916,0.5522733,0.28404498,0.7993854,1.1306385,0.977266,-0.49914166,0.1118309,-0.8062012,-0.05300137,0.67744637,-0.39281127,0.9036236,9.176502,-0.7709943,8.856554,8.772603,9.051281,7.8559074,9.275846,-0.6477203,8.244048,9.14655,10.41317,8.090274,8.576659,9.182848,8.522191,9.047097,9.079867,9.44964,8.194502,8.847997,9.524977,9.581851,8.81244,7.6593485,9.577799,9.289648,10.495604,8.945916,9.15461,8.970658,8.367251,7.5212812,8.9850445,9.13907,10.042573,9.772739,8.985803,8.444686,8.426146,10.334991,9.564004,8.281555,7.8651743,9.799475,9.717263,9.791936,10.06734,7.8137236,7.9292727,9.666118,10.14569,8.780763,9.411502,10.295718,10.610961,7.537598,9.324181,9.704889,8.608989,10.174225,9.742416,10.060493,9.468204,9.289058,10.2915,9.047814,9.329467,9.310302,8.020719,9.986454,10.00064,10.14639,10.752632,8.944137,8.015742,9.242751,7.6442013,9.261183,9.231495,9.707633,9.309304,8.578382,10.233012,9.959752,9.61643,10.655304,7.6653814,10.031295,10.186619,9.604854,10.158787,10.178842,10.002227,10.177637,-0.926447,7.152357,-1.1972011,-0.7932781,-2.5982008,-2.8055186,-0.65470785,-1.2785662,-3.0598307,-0.52364004,-2.2879972,-2.5012298,-0.10524895,-0.9393064,-1.0018367,-2.7670066,-2.9298124,-1.6647086,-1.4290885,7.8162727,-2.84045,-0.63944197,-1.2637484,-0.49974436,-1.2577454,-0.6686681,-1.3397422,-2.584366,-2.1868343,-2.3858027,-2.2672014,-2.9823756,-2.8442843,-1.1857936,-1.1487355,7.468817,-0.43185323,-1.651906,-2.6746666,-2.844295,7.518373,-1.3535091,7.67474,7.269758,-2.5984378,-1.8968517,9.145768,7.9459386,-2.442022,7.5638146,-0.66381973,7.6144223,8.019326,-0.31383842,8.792071,7.400129,-0.3751048,9.333662,7.405007,7.2759075,-2.9121583,-0.98182803,7.36506,8.319104,7.3688016,-2.914737,7.4446244,-2.4397302,7.596856,-2.4917822,8.174378,7.6277,-1.9345236,-0.33918113,9.11296,-1.7374893,-1.7405534,7.273821,-2.0610468,7.322846,9.212561,-0.456796,7.298341,-0.5399313,7.823848,-1.9653778,-0.63427895,8.845142,7.8851137,9.743826,-0.2605394,7.9696255,8.553263,9.324029,10.015152,-0.1355207,-0.44861192,-0.21817945,9.064253,9.255657,-1.0448918,-2.3623145,8.810136,-0.9303249,7.6840234,7.361252,9.792475,-1.8976971,8.407731,-0.25573644,9.346703,-2.4526074,8.663452,8.240331,9.487042,8.485824,-0.36944222,7.832374,-2.2991805,7.8081036,-1.7148421,8.795942,-0.40956286,-1.2250965,-2.2096157,7.392876,9.438473,9.380687,8.11846,9.310912,9.391584,9.141869,7.371096,7.331744,9.174789,8.6280155,8.11898,9.676278,9.916229,9.993872,7.3523374,8.982027,9.232042,8.150059,9.134412,7.632603,9.639242,7.984966,8.111471,9.959951,9.173538,8.943755,9.44439,8.055634,9.099476,8.221116,9.805262,7.7776747,9.98451,8.293064,8.367272,9.019297,8.753913,8.067681,8.527838,8.715715,9.37447,9.512518,8.446513,7.9320393,8.555049,10.079489,8.403121,8.510574,10.068023,8.307213,8.536378,8.225595,9.1822,-0.3952939,0.49186578,0.99811536,-0.46774033,1.0205106,-0.17960249,1.1467501,1.0774915,-0.25246167,0.658253,0.29190996,0.78140855,0.6679607,1.0460496,-0.5039545,-0.20891334,1.0474747,-0.12754902,-0.8309125,0.01168326,-0.21793446,0.8408641,9.117598,7.571958,-0.81854576,8.8909855,8.786094,8.961383,7.8586063,9.052102,-0.589165,8.257958,9.4750185,8.75009,8.395201,10.336675,8.30178,8.577181,9.07484,8.760523,9.040385,9.110551,9.39812,8.157501,8.943639,9.608989,9.543178,8.788469,7.9412956,9.561714,9.368421,10.718815,8.84378,9.021932,9.100752,8.344772,7.6475215,9.369691,10.267312,10.334948,8.98508,8.423384,9.092183,10.5198,9.475108,8.384222,7.755224,9.989225,9.5927515,9.686397,9.94893,7.8320184,7.7877774,10.038828,10.142407,9.163132,9.696414,10.297067,10.547002,7.51869,9.674723,9.546228,10.389635,10.377794,10.640788,9.394246,9.605727,10.391345,10.130747,9.974208,8.452857,7.9193916,9.84493,8.97319,10.365928,9.647136,7.7254,9.33011,9.487354,10.253662,9.784544,9.737632,8.550788,10.322702,9.893081,9.604922,10.592894,7.585553,10.075155,9.649522,9.526372,9.956413,10.102331,9.976442,10.250601,-0.84600043,7.191336,-0.95582724,-0.7710569,-2.4909482,-2.6670878,-0.6572262,-1.1970983,-3.028869,-0.64452404,-2.2049222,-2.4711053,-0.046254996,-0.9204396,-0.70815885,-2.6931071,-2.748928,-1.7488015,-1.3214192,7.7143636,-2.8685944,-0.6434372,-1.4093804,-0.5160915,-1.1634234,-0.7629214,-1.701486,-2.395318,-1.9897659,-1.4516963,-2.4435453,-1.9979757,-2.9968824,-1.286557,-1.3314853,-1.2032171,-0.4534224,-1.6909419,-2.555372,7.563118,-1.1468875,-1.3232267,7.682757,7.2610545,-2.7531607,-1.8890442,9.118077,7.904569,-2.4932528,8.032965,-0.6898078,7.7812376,7.720002,-0.50517595,7.814414,7.4881196,-0.43228132,9.215079,7.251049,7.326284,-2.920248,-1.153454,7.257131,8.351416,7.3108363,-3.0421782,7.4445953,-2.4672935,7.573253,-2.4448497,8.319009,7.329132,-1.9269964,-0.04229918,9.679358,-1.6919391,-1.8602359,7.936907,-1.9863241,7.3084774,9.091328,-0.5710311,7.1595964,-0.35024226,7.8415837,-2.0474079,-0.59853035,9.629107,7.9850054,8.952922,-0.14370959,8.250492,8.792379,9.107876,9.682199,-0.08769278,-0.54085666,-0.2829103,9.073597,9.616352,-0.7334757,-2.4042528,8.59228,-0.87897617,8.07056,7.2376156,9.6466255,-1.8463892,8.253422,-0.2933972,9.442126,-2.3928425,8.562335,7.955639,9.476695,8.468673,-0.40070996,8.10055,-2.1942754,7.79858,-1.8002135,8.996007,-0.51158077,-1.2788644,-2.1698613,7.434979,9.255127,9.404166,9.639005,9.255272,7.423431,7.2515244,9.389464,8.890576,8.201983,9.788617,9.782504,9.810509,7.498035,9.031955,9.555905,8.033753,9.084821,7.9097233,9.768372,7.926406,8.070435,9.135071,8.679946,9.05173,9.823278,8.038068,9.303763,8.144801,9.620363,7.834011,9.935702,8.144557,8.297334,8.837859,8.96473,8.141307,8.462324,8.513904,9.507985,8.946037,8.7001,7.8191338,8.432416,10.135657,8.399292,8.520582,10.009907,8.623173,8.478816,8.2896185,9.314363,7.2898,8.606249],\"xaxis\":\"x\",\"y\":[8.220067,8.419571,7.8542356,8.695658,7.3306994,5.221716,8.552476,7.051827,6.7207723,6.4137135,5.4423275,7.1844635,5.94655,5.148933,3.135516,4.8119574,5.310115,5.7637243,7.799431,6.6304717,7.536553,3.0457153,4.7388287,6.9409003,4.8262377,6.354098,7.4044833,7.254879,7.3318925,6.4732203,6.70514,6.3267374,7.217495,7.2669563,6.2064962,7.1166697,7.3422236,6.693054,6.0981445,5.614044,7.4977717,7.5162854,6.3896165,7.132549,7.3558187,7.5217757,7.43731,7.2396383,6.7993894,6.0378704,6.819929,7.4174356,7.551308,6.683269,7.1099014,6.57733,6.863338,7.478581,7.741526,7.135621,7.9442625,7.6654625,6.5768995,7.598324,7.5357156,7.8112555,6.6861086,7.0480676,7.435119,6.291043,6.7025476,7.718981,6.693672,7.2535067,7.765053,6.7516146,7.460035,6.932851,7.385477,7.1687436,6.543887,7.839906,6.0776377,7.551514,7.4012775,7.762537,7.955585,7.5035815,7.141941,2.9713356,7.6632876,7.93588,6.096677,7.4606695,7.2685704,6.9033265,6.311721,7.0522304,7.3722706,6.9018774,7.481023,6.945136,7.7870903,7.803641,6.332572,7.8230033,6.730113,7.6459246,6.2435064,7.176994,7.33534,6.9266787,6.1496964,6.624109,6.7620215,6.3584547,6.1906896,6.1985345,7.7287807,3.1333606,1.5699908,3.350414,3.8975859,2.962058,2.767008,3.2292569,3.384824,3.1800075,2.6003895,3.8928545,2.9650595,3.7528434,2.9426827,3.075907,3.0242462,2.858517,2.7932715,3.7649605,1.3726794,3.6474144,2.8881154,3.9264655,2.5271652,3.472344,2.8654404,2.6723075,3.524532,3.1283386,3.8427656,3.1674728,3.8608491,3.056679,2.8784683,2.8617847,2.5510066,2.516332,2.7461648,3.4465833,4.0536723,2.574548,3.4698713,2.3772643,3.5396686,3.6333876,2.7211766,3.0024722,2.3162756,2.8817708,2.9562755,2.9598167,3.5452077,3.4493475,2.7447176,3.2435153,2.6313982,3.0142946,3.4573624,3.1391392,2.747029,3.067091,3.517309,3.6765273,3.4874866,3.2758477,3.7417321,2.4787457,2.6569626,2.567067,2.6518643,2.9561493,3.0851092,2.6418657,2.3115566,3.541841,2.6086006,2.6663234,2.6346319,3.4566476,2.655429,3.3441818,2.2723415,3.247359,2.2561605,2.3216636,3.279587,2.8042564,2.4839957,3.4991148,3.457048,3.1824465,3.04246,2.4245415,2.7481449,3.4449303,3.4868758,3.3216078,3.0845335,2.6023195,3.1487827,2.6658902,2.5415187,2.3031404,2.6929772,2.3872285,2.9102123,2.9384482,2.6064718,2.650983,2.6710281,2.7686894,3.9099963,2.395959,3.7425795,3.1127267,2.7536256,2.3164272,2.5412061,2.5437448,3.096382,2.4748614,2.1771083,3.1964936,2.2790043,2.6488638,3.355647,3.2212837,2.800333,2.2457933,2.5957265,2.9253523,2.469779,2.7054644,3.0028174,2.4994535,2.368788,2.7628121,3.3916702,2.764024,2.9685678,2.8254464,2.8766208,3.3865192,3.7608328,3.3499496,2.8953085,2.4616206,2.1887972,2.8339581,3.0887632,2.9501154,2.1639657,2.8389685,2.6002803,2.8410342,2.7549424,2.8001776,3.9260666,2.9798093,2.76067,3.6573324,2.707795,3.5999627,2.8637831,2.337177,3.4969537,2.411114,2.3965487,2.4526284,3.915975,2.3224833,2.7818677,3.7009351,2.5184643,3.2202923,2.9497895,2.3394096,3.8257751,2.3432434,8.149416,8.300767,7.5776024,8.129316,8.631762,9.051801,7.18721,6.33666,6.7919207,4.7357507,3.056915,5.158305,5.285061,5.69889,7.7370605,7.552979,5.768925,6.5004406,7.297518,2.9303782,6.42221,4.7053957,6.359802,6.5497594,7.5116158,7.214631,7.383789,7.1440477,7.2067175,7.6523995,6.970303,7.3288937,7.5444665,7.001147,6.121622,7.363162,6.584298,6.9464703,6.4777365,5.947602,7.6440353,7.401567,7.9352946,7.3005915,7.1969414,7.720869,7.6330614,7.2779026,7.310884,6.1231194,6.9417906,7.2481465,7.3974915,7.3034253,7.019819,6.656287,7.114042,6.664338,6.7211876,6.610835,7.6209826,7.49444,6.0645504,7.4473596,7.9114223,6.411741,6.976779,7.393934,6.484269,6.247935,7.8928976,7.0042725,7.21738,6.659338,6.8261623,5.9262433,6.5301967,7.3889713,6.896653,6.606159,6.583188,6.072446,7.429021,7.549836,7.1714587,7.589324,6.452953,3.0158703,6.38248,6.5932727,7.587248,7.2875185,7.5383015,7.72818,7.7049894,6.226917,7.175506,7.798587,6.9802923,6.546013,6.583006,7.1517844,6.717599,7.452565,6.3153305,7.303417,7.5041547,6.759045,6.0682263,7.930408,6.890142,6.1504645,6.1653066,6.245437,7.6997113,3.0779505,1.5607499,3.1540701,3.834084,3.9219193,3.7160835,3.2151747,3.3320096,3.1852522,2.7727516,3.5117116,2.8885133,3.7908106,2.8511806,2.9846392,3.0099523,3.6300337,3.214925,3.9796603,1.4134525,3.723715,2.9331388,4.0181637,2.6684682,3.3302877,2.868098,3.3421469,3.8877811,3.1223075,3.4818592,2.9865196,3.1867163,3.928775,2.7720354,3.16184,3.3805041,3.0805783,2.7460024,3.8499386,2.5301356,2.7183454,3.419739,2.3513272,3.6239758,3.057025,3.4670293,3.1012614,2.2714062,2.8036435,3.7031405,2.9750018,3.706314,3.4334307,2.8468504,1.3190497,2.6533525,3.1274345,3.5110443,3.2106504,2.9453943,2.8626928,3.2507555,3.588611,3.465866,2.7079842,3.8419623,3.5949109,2.6321673,2.4301395,2.707505,2.9526122,2.6408396,2.7321534,2.4788384,3.5412948,2.8423007,2.807777,3.7667332,3.1105516,3.2464318,3.3342116,2.2042918,3.3766568,2.2011867,3.7685378,2.7099164,3.3211517,3.3981106,3.3857756,2.6382563,3.002479,3.300851,3.0466597,2.6385024,3.3799381,3.4349334,3.4138467,2.9537177,2.5589871,3.260268,2.784225,2.5944884,2.296222,2.5383604,3.6988118,2.7734897,2.8617392,2.7289708,2.341176,2.5655527,2.6130092,3.8924832,2.384998,2.8914475,3.0377243,2.7627325,2.441596,3.7678003,2.5026562,3.0626035,2.4295998,2.0938716,3.317001,2.2855215,2.4846356,3.3239028,3.1104422,2.6717474,2.930464,2.5191956,2.5247858,2.911135,2.5895057,2.7350194,2.8220806,3.4428895,2.6106355,2.9226375,2.6510236,2.884587,3.3966293,3.852522,3.1732237,3.3790848,2.5114708,2.2489035,2.7184763,2.6555922,2.3403027,2.104662,2.869405,3.8708334,2.9486485,2.3421397,2.692068,3.9483304,3.0904071,3.4452827,3.6325722,2.647131,3.5517197,2.7149496,2.2209597,2.8009481,2.3496723,2.0605114,2.3985498,3.9292436,2.5796623,2.714157,2.7028325,2.3744571,3.245797,3.0113525,2.2345686,2.6848938,2.3389926,1.5510648,2.4969318],\"yaxis\":\"y\",\"type\":\"scattergl\"},{\"customdata\":[[false,true],[false,true],[false,true],[false,true],[false,true],[false,true],[false,true],[false,true],[false,true],[false,true],[false,true],[false,true],[false,true],[false,true],[false,true],[false,true],[false,true],[true,false],[true,false],[true,false],[true,false],[true,false],[true,false],[true,false],[true,false],[true,false],[true,false],[true,false],[true,false],[true,false],[true,false],[true,false],[true,false],[true,false],[true,false],[true,false],[true,false],[true,false],[true,false],[true,false],[true,false],[true,false],[true,false],[true,false],[true,false],[true,false],[true,false],[true,false],[true,false],[true,false],[true,false],[true,false],[true,false],[true,false],[true,false],[true,false],[true,false],[true,false],[true,false],[true,false],[true,false],[true,false],[true,false],[true,false],[true,false],[true,false],[true,false],[true,false],[true,false],[true,false],[true,false],[true,false],[true,false],[true,false],[true,false],[true,false],[true,false],[true,false],[true,false],[true,false],[true,false],[true,false],[true,false],[true,false],[true,false],[true,false],[true,false],[true,false],[true,false],[true,false],[true,false],[true,false],[true,false],[false,true],[false,true],[false,true],[false,true],[false,true],[false,true],[false,true],[false,true],[false,true],[false,true],[false,true],[false,true],[false,true],[false,true],[false,true],[false,true],[false,true],[false,true],[false,true],[false,true],[false,true],[false,true],[false,true],[false,true],[false,true],[false,true],[false,true],[false,true],[false,true],[false,true],[false,true],[false,true],[false,true],[false,true],[false,true],[false,true],[false,true],[false,true],[false,true],[false,true],[false,true],[false,true],[false,true],[false,true],[false,true],[false,true],[false,true],[false,true],[false,true],[false,true],[false,true],[false,true],[false,true],[false,true],[false,true],[false,true],[false,true],[false,true],[false,true],[false,true],[false,true],[false,true],[false,true],[false,true],[false,true],[false,true],[false,true],[false,true],[false,true],[true,false],[true,false],[true,false],[true,false],[true,false],[true,false],[true,false],[true,false],[true,false],[true,false],[true,false],[true,false],[true,false],[true,false],[true,false],[true,false],[true,false],[true,false],[true,false],[true,false],[true,false],[true,false],[true,false],[true,false],[true,false],[true,false],[true,false],[true,false],[true,false],[true,false],[true,false],[true,false],[true,false],[true,false],[true,false],[true,false],[true,false],[true,false],[true,false],[true,false],[true,false],[true,false],[true,false],[true,false],[true,false],[true,false],[true,false],[true,false],[true,false],[true,false],[true,false],[true,false],[true,false],[true,false],[true,false],[true,false],[true,false],[true,false],[true,false],[true,false],[true,false],[true,false],[true,false],[true,false],[true,false],[true,false],[true,false],[true,false],[true,false],[true,false],[true,false],[true,false],[true,false],[true,false],[true,false],[true,false],[false,true],[false,true],[false,true],[false,true],[false,true],[false,true],[false,true],[false,true],[false,true],[false,true],[false,true],[false,true],[false,true],[false,true],[false,true],[false,true],[false,true],[false,true],[false,true],[false,true],[false,true],[false,true],[false,true],[false,true],[false,true],[false,true],[false,true],[false,true],[false,true],[false,true],[false,true],[false,true],[false,true],[false,true],[false,true],[false,true],[false,true],[false,true],[false,true],[false,true],[false,true],[false,true],[false,true],[false,true],[false,true],[false,true],[false,true],[false,true],[false,true]],\"hovertemplate\":\"Class=D\\u003cbr\\u003ex=%{x}\\u003cbr\\u003ey=%{y}\\u003cbr\\u003eSex_1=%{customdata[0]}\\u003cbr\\u003eSex_2=%{customdata[1]}\\u003cextra\\u003e\\u003c\\u002fextra\\u003e\",\"legendgroup\":\"D\",\"marker\":{\"color\":\"#00cc96\",\"symbol\":\"circle\"},\"mode\":\"markers\",\"name\":\"D\",\"showlegend\":true,\"x\":[1.0831355,10.3370495,9.839027,10.625742,9.703684,10.121882,7.6363316,9.970487,10.304638,10.15517,10.664565,7.6803985,10.069478,9.81118,10.684143,9.5908985,10.267486,7.793171,7.3873053,-0.33546072,-1.7164947,7.113173,-2.6839285,7.214667,-3.170681,7.9644375,-0.96338165,-0.2236217,-0.73855734,0.20063446,-0.7661084,-0.2942658,-1.821291,-0.1961492,0.15033093,-2.59247,-1.1105183,-0.9470094,-3.1605997,-0.81779885,-0.58651304,-1.4737136,-1.1515756,-0.15313539,-0.02267125,-0.11801416,0.35838097,9.183988,9.993644,7.7331505,9.702517,9.65032,7.994588,9.426497,9.572219,9.882531,8.241451,9.132206,9.957398,9.296361,9.7189665,9.119491,9.804104,9.969436,7.66038,9.650083,8.998411,9.157474,7.9653606,9.946816,9.372862,9.235921,8.163553,9.8419895,9.369586,7.6650214,9.772867,9.830841,9.564073,9.165403,9.294117,9.143441,9.784972,7.8547297,8.163657,8.897943,9.456485,10.070871,8.016732,10.04621,-2.044895,8.645846,-1.8623302,0.9055356,-0.8294271,1.7569336,0.7490538,0.83673155,1.6750242,-1.0309471,1.2474767,0.9837318,1.0723261,0.36596623,0.11101676,1.1597902,1.1566888,-0.87220895,1.2604578,9.057857,-1.1018147,1.1195583,0.6132007,1.1354989,1.5884119,1.2243274,9.087119,9.480183,7.834927,10.463367,9.20477,8.227814,9.52144,10.3127575,7.706067,7.80926,9.787589,9.781491,7.9355426,9.419305,9.717664,10.046375,10.291238,9.614079,9.804968,8.097592,10.229302,9.679522,10.2001,10.283792,8.345736,9.918816,10.377472,9.56638,10.387717,9.962994,8.995688,9.808767,7.6285286,10.550803,10.281096,9.471881,9.912896,10.656411,7.703189,10.209736,10.032263,9.86273,9.625768,10.342221,9.75304,10.415242,7.815933,7.407786,-0.033089004,9.531688,7.99032,-1.6208211,7.161351,-2.5530124,-3.1702197,7.979282,-0.736381,-0.33884463,-0.53374845,-0.3865109,-0.55718154,0.18325691,-1.8735961,-0.23183066,0.00037400285,-2.6810513,-0.9766991,-1.0344818,-3.125348,-0.54410416,-0.5822785,-1.569807,-1.227412,-0.40052566,-0.27258575,-0.08913359,0.39707598,9.291609,9.942632,7.4729295,9.628642,9.568101,8.118665,9.509677,9.340627,9.607893,8.295583,9.131637,10.111971,9.322974,9.546469,9.234969,9.891227,9.977333,7.497177,9.650205,9.703327,8.883365,7.915736,10.032523,9.480693,9.243905,8.115765,9.242678,7.7583613,10.128544,9.986787,9.615628,9.139423,9.113686,9.03925,9.830063,7.825144,8.695631,8.889579,9.719087,10.168062,8.70719,9.981884,-1.8774399,8.56651,-1.9075811,0.93176645,-0.7952346,1.7760285,0.6978374,0.806933,1.6633373,-1.0037453,1.1295615,0.9019668,1.2093065,0.24123302,0.26510292,1.199595,1.157543,-0.9114287,1.2603058,9.164819,-1.0551538,1.1637392,0.53296584,1.1883831,1.507557,1.225588,9.077889,9.615986,7.8563256,10.536069,9.210724,9.117423,9.538246,10.345539,7.6455164,7.9568915,9.724991,9.718075,7.947758,9.385581,9.709849,9.998149,10.548348,10.26965,9.898622,8.113403,10.25494,9.5978,9.356014,9.957472,9.151104,9.861471],\"xaxis\":\"x\",\"y\":[8.521118,6.909031,7.0327883,7.139827,7.389968,7.782925,6.994975,7.7486196,7.742926,6.765444,7.1738977,6.8734193,7.908169,6.4155893,7.1900125,6.8666654,7.8336782,1.3501751,3.1667216,2.2920663,3.5704136,1.5906694,3.7162511,1.5885054,3.429592,2.2528565,2.1183972,2.6872756,2.1677346,3.387911,2.1473541,2.6804574,3.0149803,2.4316769,2.9622142,2.7734077,2.1884658,2.1505313,3.448456,2.7853658,2.1960843,2.3899872,2.1893697,2.3907137,2.4781165,2.4508424,3.4110322,2.5346198,3.4662127,3.2869642,2.7661421,2.7452462,2.0431314,2.7895346,3.2225637,2.2709563,2.0527017,2.104295,2.5394423,2.6558135,2.3390193,2.4002614,2.7047431,3.0465066,3.144189,2.5883956,1.9975061,3.0721097,2.9811828,2.5006053,3.2494223,2.546297,2.0013828,3.5293698,2.4148674,2.8429804,2.6074235,2.5687752,2.1389601,2.7639952,2.4556797,3.0448608,2.42822,2.8774679,2.8914645,2.1162498,2.2249498,2.488128,2.7024274,2.618931,2.4390144,2.2860801,2.5174942,4.6716194,7.40452,5.9191165,4.726807,4.6497254,5.796228,7.111281,4.9128003,4.7494187,4.804442,5.010395,2.8996542,4.850371,4.8814793,6.1649475,5.01787,7.0644774,6.9793844,4.9904766,4.753543,5.1152267,5.3746037,4.9115834,6.7160125,6.31854,7.113505,7.2366576,6.650611,7.0986843,7.2787623,6.819657,6.855309,6.879014,8.058251,6.4815803,7.00244,6.757838,6.095871,8.040863,7.5413933,7.9413652,6.36841,7.287991,2.8875864,8.024301,7.245667,7.613457,7.5827804,8.076192,6.926856,6.6862993,6.946413,6.510962,7.699268,7.740599,6.877877,7.2149763,7.710716,7.785281,7.053968,7.0792212,6.8747187,7.9055896,6.884338,7.5885663,6.236836,7.725218,6.954666,7.9046097,1.3731033,3.1833026,2.4588563,2.8381953,2.240282,3.5716345,1.5676949,3.7437265,3.3771238,2.2218475,2.0748487,2.85871,2.05999,2.8998146,2.1982553,3.184981,3.0326397,2.3485775,2.8967693,2.7929316,2.1289978,2.1625092,3.4350133,2.4355946,2.1742897,2.526157,2.2572052,2.1577022,2.2866237,2.3512564,3.4666302,2.5627697,3.4551153,3.2057076,2.724825,2.8285818,1.9884241,2.716352,3.4022903,2.1540575,1.9593729,2.0854192,2.5092735,2.7800798,2.178692,3.1659787,2.5850012,3.090543,3.0693572,2.7155683,2.3199446,2.7902145,3.0285485,2.411265,3.201139,2.4373758,2.020166,2.348199,2.7787766,2.519822,2.4941516,2.2747555,2.7629104,2.090447,2.9556756,2.4991133,3.0785277,3.128054,2.1250062,2.3338854,2.511112,2.4198675,2.5018296,2.4668872,2.2574887,2.5106273,4.734806,7.448245,5.9260683,4.6707835,5.1006303,5.782083,7.1009655,4.734987,4.765075,5.1789227,5.101311,3.0505352,4.9134374,4.84709,6.146517,4.956665,6.9147325,7.0111775,5.0224266,4.789799,5.169825,5.3840146,4.927558,6.7824135,6.0776978,7.2385135,7.1636496,6.890979,7.5538588,7.341736,6.788007,6.7990313,7.0212274,7.9988046,7.4947186,6.960234,6.7368064,6.1313705,7.9940286,7.328193,6.890156,6.3458157,7.07247,2.912116,8.046843,7.706084,8.090751,8.046438,7.904991],\"yaxis\":\"y\",\"type\":\"scattergl\"},{\"customdata\":[[true,false],[true,false],[true,false],[true,false],[true,false],[true,false],[true,false],[false,true],[false,true],[false,true],[false,true],[false,true],[false,true],[false,true],[false,true],[false,true],[false,true],[false,true],[false,true],[false,true],[false,true],[false,true],[false,true],[false,true],[false,true],[false,true],[false,true],[false,true],[false,true],[false,true],[false,true],[false,true],[false,true],[false,true],[false,true],[false,true],[false,true],[true,false],[true,false],[true,false],[true,false],[true,false],[true,false],[true,false],[false,true],[false,true],[false,true],[false,true],[false,true],[false,true],[false,true],[false,true],[false,true],[false,true],[false,true],[false,true],[false,true],[false,true],[false,true],[false,true],[false,true],[false,true],[false,true],[false,true],[false,true],[false,true],[false,true],[false,true],[false,true],[false,true],[false,true],[false,true],[false,true]],\"hovertemplate\":\"Class=A\\u003cbr\\u003ex=%{x}\\u003cbr\\u003ey=%{y}\\u003cbr\\u003eSex_1=%{customdata[0]}\\u003cbr\\u003eSex_2=%{customdata[1]}\\u003cextra\\u003e\\u003c\\u002fextra\\u003e\",\"legendgroup\":\"A\",\"marker\":{\"color\":\"#ab63fa\",\"symbol\":\"circle\"},\"mode\":\"markers\",\"name\":\"A\",\"showlegend\":true,\"x\":[-1.0001512,7.1803336,-3.0456264,6.8380537,-3.0302002,-3.287224,-2.987368,0.7032044,-0.08115131,0.7731715,0.056152012,-0.16944514,0.27151382,0.0891426,0.65707755,-0.22164324,-0.14587668,-0.0666829,0.42075953,-0.031950854,-0.7190214,0.024910107,0.0073139146,0.08607159,-0.6936647,0.118824035,-0.7170751,0.30620265,0.011447174,-0.3637863,-0.6622182,-0.3702782,-0.99252385,7.609308,7.7020187,7.715384,0.3634419,-1.0323348,7.233421,-3.0670857,6.696486,-3.060688,-3.2315874,-2.9967184,0.59662986,0.30553338,0.74968314,0.01655013,-0.16135256,0.3491001,-0.13736337,0.6957933,-0.3181395,-0.21088079,0.13016887,0.5588648,0.18513945,-0.9213198,-0.14783087,-0.03806417,-0.08348937,-0.66748583,0.22614397,-0.751804,0.92460907,0.19145305,-0.06677864,-0.4280958,-0.1509137,-1.0519636,7.5715747,7.576113,7.6643877],\"xaxis\":\"x\",\"y\":[3.156366,2.1864543,4.2202525,3.65531,4.0646462,3.5102537,3.6913514,8.593913,9.400125,7.7742934,9.333245,9.204622,8.0587,9.291222,8.6120405,8.43387,9.194616,9.60124,6.892982,9.636662,7.6170793,9.377968,6.486431,9.396796,8.544333,9.558702,8.496198,7.665106,8.132043,9.392988,8.837612,9.364204,8.302262,6.963966,6.9643354,6.9790382,8.910633,3.2192879,2.3348148,4.2333713,3.6894832,4.1476355,3.3078434,3.8256307,8.582276,9.055636,7.7611055,9.297703,9.241814,8.146834,9.019765,8.407522,8.600628,9.031831,9.383955,7.0910525,9.536638,6.812039,9.192833,6.6301184,9.393432,8.5487995,9.110456,8.596865,8.235483,8.332665,9.67449,8.527408,9.366902,8.229152,6.8975983,6.933839,6.7281337],\"yaxis\":\"y\",\"type\":\"scattergl\"}],                        {\"template\":{\"data\":{\"histogram2dcontour\":[{\"type\":\"histogram2dcontour\",\"colorbar\":{\"outlinewidth\":0,\"ticks\":\"\"},\"colorscale\":[[0.0,\"#0d0887\"],[0.1111111111111111,\"#46039f\"],[0.2222222222222222,\"#7201a8\"],[0.3333333333333333,\"#9c179e\"],[0.4444444444444444,\"#bd3786\"],[0.5555555555555556,\"#d8576b\"],[0.6666666666666666,\"#ed7953\"],[0.7777777777777778,\"#fb9f3a\"],[0.8888888888888888,\"#fdca26\"],[1.0,\"#f0f921\"]]}],\"choropleth\":[{\"type\":\"choropleth\",\"colorbar\":{\"outlinewidth\":0,\"ticks\":\"\"}}],\"histogram2d\":[{\"type\":\"histogram2d\",\"colorbar\":{\"outlinewidth\":0,\"ticks\":\"\"},\"colorscale\":[[0.0,\"#0d0887\"],[0.1111111111111111,\"#46039f\"],[0.2222222222222222,\"#7201a8\"],[0.3333333333333333,\"#9c179e\"],[0.4444444444444444,\"#bd3786\"],[0.5555555555555556,\"#d8576b\"],[0.6666666666666666,\"#ed7953\"],[0.7777777777777778,\"#fb9f3a\"],[0.8888888888888888,\"#fdca26\"],[1.0,\"#f0f921\"]]}],\"heatmap\":[{\"type\":\"heatmap\",\"colorbar\":{\"outlinewidth\":0,\"ticks\":\"\"},\"colorscale\":[[0.0,\"#0d0887\"],[0.1111111111111111,\"#46039f\"],[0.2222222222222222,\"#7201a8\"],[0.3333333333333333,\"#9c179e\"],[0.4444444444444444,\"#bd3786\"],[0.5555555555555556,\"#d8576b\"],[0.6666666666666666,\"#ed7953\"],[0.7777777777777778,\"#fb9f3a\"],[0.8888888888888888,\"#fdca26\"],[1.0,\"#f0f921\"]]}],\"heatmapgl\":[{\"type\":\"heatmapgl\",\"colorbar\":{\"outlinewidth\":0,\"ticks\":\"\"},\"colorscale\":[[0.0,\"#0d0887\"],[0.1111111111111111,\"#46039f\"],[0.2222222222222222,\"#7201a8\"],[0.3333333333333333,\"#9c179e\"],[0.4444444444444444,\"#bd3786\"],[0.5555555555555556,\"#d8576b\"],[0.6666666666666666,\"#ed7953\"],[0.7777777777777778,\"#fb9f3a\"],[0.8888888888888888,\"#fdca26\"],[1.0,\"#f0f921\"]]}],\"contourcarpet\":[{\"type\":\"contourcarpet\",\"colorbar\":{\"outlinewidth\":0,\"ticks\":\"\"}}],\"contour\":[{\"type\":\"contour\",\"colorbar\":{\"outlinewidth\":0,\"ticks\":\"\"},\"colorscale\":[[0.0,\"#0d0887\"],[0.1111111111111111,\"#46039f\"],[0.2222222222222222,\"#7201a8\"],[0.3333333333333333,\"#9c179e\"],[0.4444444444444444,\"#bd3786\"],[0.5555555555555556,\"#d8576b\"],[0.6666666666666666,\"#ed7953\"],[0.7777777777777778,\"#fb9f3a\"],[0.8888888888888888,\"#fdca26\"],[1.0,\"#f0f921\"]]}],\"surface\":[{\"type\":\"surface\",\"colorbar\":{\"outlinewidth\":0,\"ticks\":\"\"},\"colorscale\":[[0.0,\"#0d0887\"],[0.1111111111111111,\"#46039f\"],[0.2222222222222222,\"#7201a8\"],[0.3333333333333333,\"#9c179e\"],[0.4444444444444444,\"#bd3786\"],[0.5555555555555556,\"#d8576b\"],[0.6666666666666666,\"#ed7953\"],[0.7777777777777778,\"#fb9f3a\"],[0.8888888888888888,\"#fdca26\"],[1.0,\"#f0f921\"]]}],\"mesh3d\":[{\"type\":\"mesh3d\",\"colorbar\":{\"outlinewidth\":0,\"ticks\":\"\"}}],\"scatter\":[{\"fillpattern\":{\"fillmode\":\"overlay\",\"size\":10,\"solidity\":0.2},\"type\":\"scatter\"}],\"parcoords\":[{\"type\":\"parcoords\",\"line\":{\"colorbar\":{\"outlinewidth\":0,\"ticks\":\"\"}}}],\"scatterpolargl\":[{\"type\":\"scatterpolargl\",\"marker\":{\"colorbar\":{\"outlinewidth\":0,\"ticks\":\"\"}}}],\"bar\":[{\"error_x\":{\"color\":\"#2a3f5f\"},\"error_y\":{\"color\":\"#2a3f5f\"},\"marker\":{\"line\":{\"color\":\"#E5ECF6\",\"width\":0.5},\"pattern\":{\"fillmode\":\"overlay\",\"size\":10,\"solidity\":0.2}},\"type\":\"bar\"}],\"scattergeo\":[{\"type\":\"scattergeo\",\"marker\":{\"colorbar\":{\"outlinewidth\":0,\"ticks\":\"\"}}}],\"scatterpolar\":[{\"type\":\"scatterpolar\",\"marker\":{\"colorbar\":{\"outlinewidth\":0,\"ticks\":\"\"}}}],\"histogram\":[{\"marker\":{\"pattern\":{\"fillmode\":\"overlay\",\"size\":10,\"solidity\":0.2}},\"type\":\"histogram\"}],\"scattergl\":[{\"type\":\"scattergl\",\"marker\":{\"colorbar\":{\"outlinewidth\":0,\"ticks\":\"\"}}}],\"scatter3d\":[{\"type\":\"scatter3d\",\"line\":{\"colorbar\":{\"outlinewidth\":0,\"ticks\":\"\"}},\"marker\":{\"colorbar\":{\"outlinewidth\":0,\"ticks\":\"\"}}}],\"scattermapbox\":[{\"type\":\"scattermapbox\",\"marker\":{\"colorbar\":{\"outlinewidth\":0,\"ticks\":\"\"}}}],\"scatterternary\":[{\"type\":\"scatterternary\",\"marker\":{\"colorbar\":{\"outlinewidth\":0,\"ticks\":\"\"}}}],\"scattercarpet\":[{\"type\":\"scattercarpet\",\"marker\":{\"colorbar\":{\"outlinewidth\":0,\"ticks\":\"\"}}}],\"carpet\":[{\"aaxis\":{\"endlinecolor\":\"#2a3f5f\",\"gridcolor\":\"white\",\"linecolor\":\"white\",\"minorgridcolor\":\"white\",\"startlinecolor\":\"#2a3f5f\"},\"baxis\":{\"endlinecolor\":\"#2a3f5f\",\"gridcolor\":\"white\",\"linecolor\":\"white\",\"minorgridcolor\":\"white\",\"startlinecolor\":\"#2a3f5f\"},\"type\":\"carpet\"}],\"table\":[{\"cells\":{\"fill\":{\"color\":\"#EBF0F8\"},\"line\":{\"color\":\"white\"}},\"header\":{\"fill\":{\"color\":\"#C8D4E3\"},\"line\":{\"color\":\"white\"}},\"type\":\"table\"}],\"barpolar\":[{\"marker\":{\"line\":{\"color\":\"#E5ECF6\",\"width\":0.5},\"pattern\":{\"fillmode\":\"overlay\",\"size\":10,\"solidity\":0.2}},\"type\":\"barpolar\"}],\"pie\":[{\"automargin\":true,\"type\":\"pie\"}]},\"layout\":{\"autotypenumbers\":\"strict\",\"colorway\":[\"#636efa\",\"#EF553B\",\"#00cc96\",\"#ab63fa\",\"#FFA15A\",\"#19d3f3\",\"#FF6692\",\"#B6E880\",\"#FF97FF\",\"#FECB52\"],\"font\":{\"color\":\"#2a3f5f\"},\"hovermode\":\"closest\",\"hoverlabel\":{\"align\":\"left\"},\"paper_bgcolor\":\"white\",\"plot_bgcolor\":\"#E5ECF6\",\"polar\":{\"bgcolor\":\"#E5ECF6\",\"angularaxis\":{\"gridcolor\":\"white\",\"linecolor\":\"white\",\"ticks\":\"\"},\"radialaxis\":{\"gridcolor\":\"white\",\"linecolor\":\"white\",\"ticks\":\"\"}},\"ternary\":{\"bgcolor\":\"#E5ECF6\",\"aaxis\":{\"gridcolor\":\"white\",\"linecolor\":\"white\",\"ticks\":\"\"},\"baxis\":{\"gridcolor\":\"white\",\"linecolor\":\"white\",\"ticks\":\"\"},\"caxis\":{\"gridcolor\":\"white\",\"linecolor\":\"white\",\"ticks\":\"\"}},\"coloraxis\":{\"colorbar\":{\"outlinewidth\":0,\"ticks\":\"\"}},\"colorscale\":{\"sequential\":[[0.0,\"#0d0887\"],[0.1111111111111111,\"#46039f\"],[0.2222222222222222,\"#7201a8\"],[0.3333333333333333,\"#9c179e\"],[0.4444444444444444,\"#bd3786\"],[0.5555555555555556,\"#d8576b\"],[0.6666666666666666,\"#ed7953\"],[0.7777777777777778,\"#fb9f3a\"],[0.8888888888888888,\"#fdca26\"],[1.0,\"#f0f921\"]],\"sequentialminus\":[[0.0,\"#0d0887\"],[0.1111111111111111,\"#46039f\"],[0.2222222222222222,\"#7201a8\"],[0.3333333333333333,\"#9c179e\"],[0.4444444444444444,\"#bd3786\"],[0.5555555555555556,\"#d8576b\"],[0.6666666666666666,\"#ed7953\"],[0.7777777777777778,\"#fb9f3a\"],[0.8888888888888888,\"#fdca26\"],[1.0,\"#f0f921\"]],\"diverging\":[[0,\"#8e0152\"],[0.1,\"#c51b7d\"],[0.2,\"#de77ae\"],[0.3,\"#f1b6da\"],[0.4,\"#fde0ef\"],[0.5,\"#f7f7f7\"],[0.6,\"#e6f5d0\"],[0.7,\"#b8e186\"],[0.8,\"#7fbc41\"],[0.9,\"#4d9221\"],[1,\"#276419\"]]},\"xaxis\":{\"gridcolor\":\"white\",\"linecolor\":\"white\",\"ticks\":\"\",\"title\":{\"standoff\":15},\"zerolinecolor\":\"white\",\"automargin\":true,\"zerolinewidth\":2},\"yaxis\":{\"gridcolor\":\"white\",\"linecolor\":\"white\",\"ticks\":\"\",\"title\":{\"standoff\":15},\"zerolinecolor\":\"white\",\"automargin\":true,\"zerolinewidth\":2},\"scene\":{\"xaxis\":{\"backgroundcolor\":\"#E5ECF6\",\"gridcolor\":\"white\",\"linecolor\":\"white\",\"showbackground\":true,\"ticks\":\"\",\"zerolinecolor\":\"white\",\"gridwidth\":2},\"yaxis\":{\"backgroundcolor\":\"#E5ECF6\",\"gridcolor\":\"white\",\"linecolor\":\"white\",\"showbackground\":true,\"ticks\":\"\",\"zerolinecolor\":\"white\",\"gridwidth\":2},\"zaxis\":{\"backgroundcolor\":\"#E5ECF6\",\"gridcolor\":\"white\",\"linecolor\":\"white\",\"showbackground\":true,\"ticks\":\"\",\"zerolinecolor\":\"white\",\"gridwidth\":2}},\"shapedefaults\":{\"line\":{\"color\":\"#2a3f5f\"}},\"annotationdefaults\":{\"arrowcolor\":\"#2a3f5f\",\"arrowhead\":0,\"arrowwidth\":1},\"geo\":{\"bgcolor\":\"white\",\"landcolor\":\"#E5ECF6\",\"subunitcolor\":\"white\",\"showland\":true,\"showlakes\":true,\"lakecolor\":\"white\"},\"title\":{\"x\":0.05},\"mapbox\":{\"style\":\"light\"}}},\"xaxis\":{\"anchor\":\"y\",\"domain\":[0.0,1.0],\"title\":{\"text\":\"x\"}},\"yaxis\":{\"anchor\":\"x\",\"domain\":[0.0,1.0],\"title\":{\"text\":\"y\"}},\"legend\":{\"title\":{\"text\":\"Class\"},\"tracegroupgap\":0},\"margin\":{\"t\":60},\"height\":800},                        {\"responsive\": true}                    ).then(function(){\n",
       "                            \n",
       "var gd = document.getElementById('a0bd96b0-da5d-4225-9f68-b3ae39bc30cb');\n",
       "var x = new MutationObserver(function (mutations, observer) {{\n",
       "        var display = window.getComputedStyle(gd).display;\n",
       "        if (!display || display === 'none') {{\n",
       "            console.log([gd, 'removed!']);\n",
       "            Plotly.purge(gd);\n",
       "            observer.disconnect();\n",
       "        }}\n",
       "}});\n",
       "\n",
       "// Listen for the removal of the full notebook cells\n",
       "var notebookContainer = gd.closest('#notebook-container');\n",
       "if (notebookContainer) {{\n",
       "    x.observe(notebookContainer, {childList: true});\n",
       "}}\n",
       "\n",
       "// Listen for the clearing of the current output cell\n",
       "var outputEl = gd.closest('.output');\n",
       "if (outputEl) {{\n",
       "    x.observe(outputEl, {childList: true});\n",
       "}}\n",
       "\n",
       "                        })                };                });            </script>        </div>"
      ]
     },
     "metadata": {},
     "output_type": "display_data"
    }
   ],
   "source": [
    "from plotly import express\n",
    "\n",
    "express.scatter(data_frame=df, x='x', y='y', color='Class', hover_data=['Sex_1', 'Sex_2'], height=800)"
   ]
  },
  {
   "cell_type": "markdown",
   "id": "393cacad",
   "metadata": {
    "papermill": {
     "duration": 0.010339,
     "end_time": "2024-10-09T20:07:27.479188",
     "exception": false,
     "start_time": "2024-10-09T20:07:27.468849",
     "status": "completed"
    },
    "tags": []
   },
   "source": [
    "What do we see? We see that UMAP easily distinguishes men from women. Beyond that, this suggests that a model will easily distinguish class B from class C instances, but broadly distinguishing all four classes may be challenging. Let's build a model."
   ]
  },
  {
   "cell_type": "code",
   "execution_count": 8,
   "id": "03646013",
   "metadata": {
    "execution": {
     "iopub.execute_input": "2024-10-09T20:07:27.504139Z",
     "iopub.status.busy": "2024-10-09T20:07:27.503555Z",
     "iopub.status.idle": "2024-10-09T20:07:27.655781Z",
     "shell.execute_reply": "2024-10-09T20:07:27.653382Z"
    },
    "papermill": {
     "duration": 0.16935,
     "end_time": "2024-10-09T20:07:27.659439",
     "exception": false,
     "start_time": "2024-10-09T20:07:27.490089",
     "status": "completed"
    },
    "tags": []
   },
   "outputs": [
    {
     "name": "stdout",
     "output_type": "stream",
     "text": [
      "accuracy: 0.7578 f1: 0.7337\n",
      "              precision    recall  f1-score   support\n",
      "\n",
      "           A       0.00      0.00      0.00        15\n",
      "           B       0.79      0.91      0.85       132\n",
      "           C       0.72      0.80      0.76       118\n",
      "           D       0.77      0.53      0.62        57\n",
      "\n",
      "    accuracy                           0.76       322\n",
      "   macro avg       0.57      0.56      0.56       322\n",
      "weighted avg       0.72      0.76      0.73       322\n",
      "\n"
     ]
    }
   ],
   "source": [
    "from sklearn.metrics import accuracy_score\n",
    "from sklearn.metrics import classification_report\n",
    "from sklearn.metrics import f1_score\n",
    "from sklearn.model_selection import train_test_split\n",
    "from sklearn.svm import SVC\n",
    "\n",
    "X_train, X_test, y_train, y_test = train_test_split(df.drop(columns=['x', 'y', 'Class']), df['Class'], test_size=0.2, random_state=2024, stratify=df['Class'])\n",
    "\n",
    "svc = SVC(kernel='linear', C=0.025, random_state=2024).fit(X_train, y_train)\n",
    "print('accuracy: {:5.4f} f1: {:5.4f}'.format(accuracy_score(y_true=y_test, y_pred=svc.predict(X=X_test)), f1_score(average='weighted', y_true=y_test, y_pred=svc.predict(X=X_test), zero_division=0)))\n",
    "print(classification_report(y_true=y_test, y_pred=svc.predict(X=X_test), zero_division=0))"
   ]
  },
  {
   "cell_type": "markdown",
   "id": "5c227069",
   "metadata": {
    "papermill": {
     "duration": 0.009901,
     "end_time": "2024-10-09T20:07:27.678863",
     "exception": false,
     "start_time": "2024-10-09T20:07:27.668962",
     "status": "completed"
    },
    "tags": []
   },
   "source": [
    "As expected our model does better with the large classes (B and C) than it does with the small classes (A and D)."
   ]
  },
  {
   "cell_type": "markdown",
   "id": "4843ad77",
   "metadata": {
    "papermill": {
     "duration": 0.009766,
     "end_time": "2024-10-09T20:07:27.697890",
     "exception": false,
     "start_time": "2024-10-09T20:07:27.688124",
     "status": "completed"
    },
    "tags": []
   },
   "source": [
    "We can do a little better with logistic regression."
   ]
  },
  {
   "cell_type": "code",
   "execution_count": 9,
   "id": "c4e98808",
   "metadata": {
    "execution": {
     "iopub.execute_input": "2024-10-09T20:07:27.717753Z",
     "iopub.status.busy": "2024-10-09T20:07:27.717269Z",
     "iopub.status.idle": "2024-10-09T20:07:28.016628Z",
     "shell.execute_reply": "2024-10-09T20:07:28.014414Z"
    },
    "papermill": {
     "duration": 0.316425,
     "end_time": "2024-10-09T20:07:28.023134",
     "exception": false,
     "start_time": "2024-10-09T20:07:27.706709",
     "status": "completed"
    },
    "tags": []
   },
   "outputs": [
    {
     "name": "stdout",
     "output_type": "stream",
     "text": [
      "model fit in 369 iterations\n",
      "accuracy: 0.7453\n",
      "f1: 0.7385\n",
      "              precision    recall  f1-score   support\n",
      "\n",
      "           A       0.45      0.33      0.38        15\n",
      "           B       0.78      0.87      0.82       132\n",
      "           C       0.74      0.75      0.74       118\n",
      "           D       0.72      0.54      0.62        57\n",
      "\n",
      "    accuracy                           0.75       322\n",
      "   macro avg       0.67      0.63      0.64       322\n",
      "weighted avg       0.74      0.75      0.74       322\n",
      "\n"
     ]
    }
   ],
   "source": [
    "from sklearn.linear_model import LogisticRegression\n",
    "\n",
    "logreg = LogisticRegression(max_iter=500, tol=1e-12).fit(X_train, y_train)\n",
    "print('model fit in {} iterations'.format(logreg.n_iter_[0]))\n",
    "print('accuracy: {:5.4f}'.format(accuracy_score(y_true=y_test, y_pred=logreg.predict(X=X_test))))\n",
    "print('f1: {:5.4f}'.format(f1_score(average='weighted', y_true=y_test, y_pred=logreg.predict(X=X_test), zero_division=0)))\n",
    "print(classification_report(y_true=y_test, y_pred=logreg.predict(X=X_test), zero_division=0))"
   ]
  }
 ],
 "metadata": {
  "kaggle": {
   "accelerator": "none",
   "dataSources": [
    {
     "datasetId": 5687952,
     "sourceId": 9376916,
     "sourceType": "datasetVersion"
    }
   ],
   "dockerImageVersionId": 30775,
   "isGpuEnabled": false,
   "isInternetEnabled": true,
   "language": "python",
   "sourceType": "notebook"
  },
  "kernelspec": {
   "display_name": "Python 3",
   "language": "python",
   "name": "python3"
  },
  "language_info": {
   "codemirror_mode": {
    "name": "ipython",
    "version": 3
   },
   "file_extension": ".py",
   "mimetype": "text/x-python",
   "name": "python",
   "nbconvert_exporter": "python",
   "pygments_lexer": "ipython3",
   "version": "3.10.14"
  },
  "papermill": {
   "default_parameters": {},
   "duration": 101.884292,
   "end_time": "2024-10-09T20:07:31.473516",
   "environment_variables": {},
   "exception": null,
   "input_path": "__notebook__.ipynb",
   "output_path": "__notebook__.ipynb",
   "parameters": {},
   "start_time": "2024-10-09T20:05:49.589224",
   "version": "2.6.0"
  }
 },
 "nbformat": 4,
 "nbformat_minor": 5
}
