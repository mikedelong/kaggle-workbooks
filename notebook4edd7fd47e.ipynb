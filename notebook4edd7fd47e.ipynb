{
 "cells": [
  {
   "cell_type": "code",
   "execution_count": 1,
   "id": "a37c18ee",
   "metadata": {
    "_cell_guid": "b1076dfc-b9ad-4769-8c92-a6c4dae69d19",
    "_uuid": "8f2839f25d086af736a60e9eeb907d3b93b6e0e5",
    "execution": {
     "iopub.execute_input": "2023-10-23T22:51:06.521958Z",
     "iopub.status.busy": "2023-10-23T22:51:06.521589Z",
     "iopub.status.idle": "2023-10-23T22:52:31.946239Z",
     "shell.execute_reply": "2023-10-23T22:52:31.944852Z"
    },
    "papermill": {
     "duration": 85.431854,
     "end_time": "2023-10-23T22:52:31.948884",
     "exception": false,
     "start_time": "2023-10-23T22:51:06.517030",
     "status": "completed"
    },
    "tags": []
   },
   "outputs": [
    {
     "name": "stdout",
     "output_type": "stream",
     "text": [
      "env: TOKENIZERS_PARALLELISM=false\n",
      "Collecting bertopic\r\n",
      "  Downloading bertopic-0.15.0-py2.py3-none-any.whl (143 kB)\r\n",
      "\u001b[2K     \u001b[90m━━━━━━━━━━━━━━━━━━━━━━━━━━━━━━━━━━━━━━━\u001b[0m \u001b[32m143.4/143.4 kB\u001b[0m \u001b[31m2.8 MB/s\u001b[0m eta \u001b[36m0:00:00\u001b[0m\r\n",
      "\u001b[?25hRequirement already satisfied: numpy>=1.20.0 in /opt/conda/lib/python3.10/site-packages (from bertopic) (1.23.5)\r\n",
      "Collecting hdbscan>=0.8.29 (from bertopic)\r\n",
      "  Downloading hdbscan-0.8.33.tar.gz (5.2 MB)\r\n",
      "\u001b[2K     \u001b[90m━━━━━━━━━━━━━━━━━━━━━━━━━━━━━━━━━━━━━━━━\u001b[0m \u001b[32m5.2/5.2 MB\u001b[0m \u001b[31m53.2 MB/s\u001b[0m eta \u001b[36m0:00:00\u001b[0m\r\n",
      "\u001b[?25h  Installing build dependencies ... \u001b[?25l-\b \b\\\b \b|\b \b/\b \b-\b \b\\\b \b|\b \b/\b \bdone\r\n",
      "\u001b[?25h  Getting requirements to build wheel ... \u001b[?25l-\b \bdone\r\n",
      "\u001b[?25h  Preparing metadata (pyproject.toml) ... \u001b[?25l-\b \bdone\r\n",
      "\u001b[?25hRequirement already satisfied: umap-learn>=0.5.0 in /opt/conda/lib/python3.10/site-packages (from bertopic) (0.5.3)\r\n",
      "Requirement already satisfied: pandas>=1.1.5 in /opt/conda/lib/python3.10/site-packages (from bertopic) (2.0.3)\r\n",
      "Requirement already satisfied: scikit-learn>=0.22.2.post1 in /opt/conda/lib/python3.10/site-packages (from bertopic) (1.2.2)\r\n",
      "Requirement already satisfied: tqdm>=4.41.1 in /opt/conda/lib/python3.10/site-packages (from bertopic) (4.66.1)\r\n",
      "Collecting sentence-transformers>=0.4.1 (from bertopic)\r\n",
      "  Downloading sentence-transformers-2.2.2.tar.gz (85 kB)\r\n",
      "\u001b[2K     \u001b[90m━━━━━━━━━━━━━━━━━━━━━━━━━━━━━━━━━━━━━━━━\u001b[0m \u001b[32m86.0/86.0 kB\u001b[0m \u001b[31m8.1 MB/s\u001b[0m eta \u001b[36m0:00:00\u001b[0m\r\n",
      "\u001b[?25h  Preparing metadata (setup.py) ... \u001b[?25l-\b \bdone\r\n",
      "\u001b[?25hRequirement already satisfied: plotly>=4.7.0 in /opt/conda/lib/python3.10/site-packages (from bertopic) (5.15.0)\r\n",
      "Requirement already satisfied: cython<3,>=0.27 in /opt/conda/lib/python3.10/site-packages (from hdbscan>=0.8.29->bertopic) (0.29.35)\r\n",
      "Requirement already satisfied: scipy>=1.0 in /opt/conda/lib/python3.10/site-packages (from hdbscan>=0.8.29->bertopic) (1.11.2)\r\n",
      "Requirement already satisfied: joblib>=1.0 in /opt/conda/lib/python3.10/site-packages (from hdbscan>=0.8.29->bertopic) (1.3.2)\r\n",
      "Requirement already satisfied: python-dateutil>=2.8.2 in /opt/conda/lib/python3.10/site-packages (from pandas>=1.1.5->bertopic) (2.8.2)\r\n",
      "Requirement already satisfied: pytz>=2020.1 in /opt/conda/lib/python3.10/site-packages (from pandas>=1.1.5->bertopic) (2023.3)\r\n",
      "Requirement already satisfied: tzdata>=2022.1 in /opt/conda/lib/python3.10/site-packages (from pandas>=1.1.5->bertopic) (2023.3)\r\n",
      "Requirement already satisfied: tenacity>=6.2.0 in /opt/conda/lib/python3.10/site-packages (from plotly>=4.7.0->bertopic) (8.2.2)\r\n",
      "Requirement already satisfied: packaging in /opt/conda/lib/python3.10/site-packages (from plotly>=4.7.0->bertopic) (21.3)\r\n",
      "Requirement already satisfied: threadpoolctl>=2.0.0 in /opt/conda/lib/python3.10/site-packages (from scikit-learn>=0.22.2.post1->bertopic) (3.1.0)\r\n",
      "Requirement already satisfied: transformers<5.0.0,>=4.6.0 in /opt/conda/lib/python3.10/site-packages (from sentence-transformers>=0.4.1->bertopic) (4.33.0)\r\n",
      "Requirement already satisfied: torch>=1.6.0 in /opt/conda/lib/python3.10/site-packages (from sentence-transformers>=0.4.1->bertopic) (2.0.0+cpu)\r\n",
      "Requirement already satisfied: torchvision in /opt/conda/lib/python3.10/site-packages (from sentence-transformers>=0.4.1->bertopic) (0.15.1+cpu)\r\n",
      "Requirement already satisfied: nltk in /opt/conda/lib/python3.10/site-packages (from sentence-transformers>=0.4.1->bertopic) (3.2.4)\r\n",
      "Requirement already satisfied: sentencepiece in /opt/conda/lib/python3.10/site-packages (from sentence-transformers>=0.4.1->bertopic) (0.1.99)\r\n",
      "Requirement already satisfied: huggingface-hub>=0.4.0 in /opt/conda/lib/python3.10/site-packages (from sentence-transformers>=0.4.1->bertopic) (0.16.4)\r\n",
      "Requirement already satisfied: numba>=0.49 in /opt/conda/lib/python3.10/site-packages (from umap-learn>=0.5.0->bertopic) (0.57.1)\r\n",
      "Requirement already satisfied: pynndescent>=0.5 in /opt/conda/lib/python3.10/site-packages (from umap-learn>=0.5.0->bertopic) (0.5.10)\r\n",
      "Requirement already satisfied: filelock in /opt/conda/lib/python3.10/site-packages (from huggingface-hub>=0.4.0->sentence-transformers>=0.4.1->bertopic) (3.12.2)\r\n",
      "Requirement already satisfied: fsspec in /opt/conda/lib/python3.10/site-packages (from huggingface-hub>=0.4.0->sentence-transformers>=0.4.1->bertopic) (2023.9.0)\r\n",
      "Requirement already satisfied: requests in /opt/conda/lib/python3.10/site-packages (from huggingface-hub>=0.4.0->sentence-transformers>=0.4.1->bertopic) (2.31.0)\r\n",
      "Requirement already satisfied: pyyaml>=5.1 in /opt/conda/lib/python3.10/site-packages (from huggingface-hub>=0.4.0->sentence-transformers>=0.4.1->bertopic) (6.0)\r\n",
      "Requirement already satisfied: typing-extensions>=3.7.4.3 in /opt/conda/lib/python3.10/site-packages (from huggingface-hub>=0.4.0->sentence-transformers>=0.4.1->bertopic) (4.6.3)\r\n",
      "Requirement already satisfied: llvmlite<0.41,>=0.40.0dev0 in /opt/conda/lib/python3.10/site-packages (from numba>=0.49->umap-learn>=0.5.0->bertopic) (0.40.1)\r\n",
      "Requirement already satisfied: pyparsing!=3.0.5,>=2.0.2 in /opt/conda/lib/python3.10/site-packages (from packaging->plotly>=4.7.0->bertopic) (3.0.9)\r\n",
      "Requirement already satisfied: six>=1.5 in /opt/conda/lib/python3.10/site-packages (from python-dateutil>=2.8.2->pandas>=1.1.5->bertopic) (1.16.0)\r\n",
      "Requirement already satisfied: sympy in /opt/conda/lib/python3.10/site-packages (from torch>=1.6.0->sentence-transformers>=0.4.1->bertopic) (1.12)\r\n",
      "Requirement already satisfied: networkx in /opt/conda/lib/python3.10/site-packages (from torch>=1.6.0->sentence-transformers>=0.4.1->bertopic) (3.1)\r\n",
      "Requirement already satisfied: jinja2 in /opt/conda/lib/python3.10/site-packages (from torch>=1.6.0->sentence-transformers>=0.4.1->bertopic) (3.1.2)\r\n",
      "Requirement already satisfied: regex!=2019.12.17 in /opt/conda/lib/python3.10/site-packages (from transformers<5.0.0,>=4.6.0->sentence-transformers>=0.4.1->bertopic) (2023.6.3)\r\n",
      "Requirement already satisfied: tokenizers!=0.11.3,<0.14,>=0.11.1 in /opt/conda/lib/python3.10/site-packages (from transformers<5.0.0,>=4.6.0->sentence-transformers>=0.4.1->bertopic) (0.13.3)\r\n",
      "Requirement already satisfied: safetensors>=0.3.1 in /opt/conda/lib/python3.10/site-packages (from transformers<5.0.0,>=4.6.0->sentence-transformers>=0.4.1->bertopic) (0.3.3)\r\n",
      "Requirement already satisfied: pillow!=8.3.*,>=5.3.0 in /opt/conda/lib/python3.10/site-packages (from torchvision->sentence-transformers>=0.4.1->bertopic) (9.5.0)\r\n",
      "Requirement already satisfied: MarkupSafe>=2.0 in /opt/conda/lib/python3.10/site-packages (from jinja2->torch>=1.6.0->sentence-transformers>=0.4.1->bertopic) (2.1.3)\r\n",
      "Requirement already satisfied: charset-normalizer<4,>=2 in /opt/conda/lib/python3.10/site-packages (from requests->huggingface-hub>=0.4.0->sentence-transformers>=0.4.1->bertopic) (3.1.0)\r\n",
      "Requirement already satisfied: idna<4,>=2.5 in /opt/conda/lib/python3.10/site-packages (from requests->huggingface-hub>=0.4.0->sentence-transformers>=0.4.1->bertopic) (3.4)\r\n",
      "Requirement already satisfied: urllib3<3,>=1.21.1 in /opt/conda/lib/python3.10/site-packages (from requests->huggingface-hub>=0.4.0->sentence-transformers>=0.4.1->bertopic) (1.26.15)\r\n",
      "Requirement already satisfied: certifi>=2017.4.17 in /opt/conda/lib/python3.10/site-packages (from requests->huggingface-hub>=0.4.0->sentence-transformers>=0.4.1->bertopic) (2023.7.22)\r\n",
      "Requirement already satisfied: mpmath>=0.19 in /opt/conda/lib/python3.10/site-packages (from sympy->torch>=1.6.0->sentence-transformers>=0.4.1->bertopic) (1.3.0)\r\n",
      "Building wheels for collected packages: hdbscan, sentence-transformers\r\n",
      "  Building wheel for hdbscan (pyproject.toml) ... \u001b[?25l-\b \b\\\b \b|\b \b/\b \b-\b \b\\\b \b|\b \b/\b \b-\b \b\\\b \b|\b \b/\b \b-\b \b\\\b \b|\b \b/\b \b-\b \b\\\b \b|\b \b/\b \b-\b \b\\\b \b|\b \bdone\r\n",
      "\u001b[?25h  Created wheel for hdbscan: filename=hdbscan-0.8.33-cp310-cp310-linux_x86_64.whl size=819467 sha256=e025e37848b964ab54043c9c62daf3871ddff6ee8bf06536aebb2153b28517d4\r\n",
      "  Stored in directory: /root/.cache/pip/wheels/75/0b/3b/dc4f60b7cc455efaefb62883a7483e76f09d06ca81cf87d610\r\n",
      "  Building wheel for sentence-transformers (setup.py) ... \u001b[?25l-\b \b\\\b \bdone\r\n",
      "\u001b[?25h  Created wheel for sentence-transformers: filename=sentence_transformers-2.2.2-py3-none-any.whl size=125926 sha256=a60720fa5318383fe724cf16fceaceb422a9b506f40c443b1eddd1c7506cf4e2\r\n",
      "  Stored in directory: /root/.cache/pip/wheels/62/f2/10/1e606fd5f02395388f74e7462910fe851042f97238cbbd902f\r\n",
      "Successfully built hdbscan sentence-transformers\r\n",
      "Installing collected packages: hdbscan, sentence-transformers, bertopic\r\n",
      "Successfully installed bertopic-0.15.0 hdbscan-0.8.33 sentence-transformers-2.2.2\r\n"
     ]
    }
   ],
   "source": [
    "%env TOKENIZERS_PARALLELISM=false\n",
    "!pip install bertopic"
   ]
  },
  {
   "cell_type": "code",
   "execution_count": 2,
   "id": "cc71a69c",
   "metadata": {
    "execution": {
     "iopub.execute_input": "2023-10-23T22:52:31.964703Z",
     "iopub.status.busy": "2023-10-23T22:52:31.964271Z",
     "iopub.status.idle": "2023-10-23T22:52:32.911154Z",
     "shell.execute_reply": "2023-10-23T22:52:32.910323Z"
    },
    "papermill": {
     "duration": 0.957671,
     "end_time": "2023-10-23T22:52:32.913517",
     "exception": false,
     "start_time": "2023-10-23T22:52:31.955846",
     "status": "completed"
    },
    "tags": []
   },
   "outputs": [
    {
     "data": {
      "text/html": [
       "<div>\n",
       "<style scoped>\n",
       "    .dataframe tbody tr th:only-of-type {\n",
       "        vertical-align: middle;\n",
       "    }\n",
       "\n",
       "    .dataframe tbody tr th {\n",
       "        vertical-align: top;\n",
       "    }\n",
       "\n",
       "    .dataframe thead th {\n",
       "        text-align: right;\n",
       "    }\n",
       "</style>\n",
       "<table border=\"1\" class=\"dataframe\">\n",
       "  <thead>\n",
       "    <tr style=\"text-align: right;\">\n",
       "      <th></th>\n",
       "      <th>season</th>\n",
       "      <th>episode</th>\n",
       "      <th>line</th>\n",
       "      <th>raw_text</th>\n",
       "      <th>stage_direction</th>\n",
       "      <th>dialogue</th>\n",
       "      <th>start_time</th>\n",
       "      <th>end_time</th>\n",
       "      <th>text</th>\n",
       "    </tr>\n",
       "  </thead>\n",
       "  <tbody>\n",
       "    <tr>\n",
       "      <th>0</th>\n",
       "      <td>1</td>\n",
       "      <td>1</td>\n",
       "      <td>1</td>\n",
       "      <td>[crickets chirping]</td>\n",
       "      <td>[crickets chirping]</td>\n",
       "      <td>NaN</td>\n",
       "      <td>00:00:07</td>\n",
       "      <td>00:00:09</td>\n",
       "      <td>[crickets chirping] [crickets chirping]</td>\n",
       "    </tr>\n",
       "    <tr>\n",
       "      <th>1</th>\n",
       "      <td>1</td>\n",
       "      <td>1</td>\n",
       "      <td>2</td>\n",
       "      <td>[alarm blaring]</td>\n",
       "      <td>[alarm blaring]</td>\n",
       "      <td>NaN</td>\n",
       "      <td>00:00:49</td>\n",
       "      <td>00:00:51</td>\n",
       "      <td>[alarm blaring] [alarm blaring]</td>\n",
       "    </tr>\n",
       "    <tr>\n",
       "      <th>2</th>\n",
       "      <td>1</td>\n",
       "      <td>1</td>\n",
       "      <td>3</td>\n",
       "      <td>[panting]</td>\n",
       "      <td>[panting]</td>\n",
       "      <td>NaN</td>\n",
       "      <td>00:00:52</td>\n",
       "      <td>00:00:54</td>\n",
       "      <td>[panting] [panting]</td>\n",
       "    </tr>\n",
       "    <tr>\n",
       "      <th>3</th>\n",
       "      <td>1</td>\n",
       "      <td>1</td>\n",
       "      <td>4</td>\n",
       "      <td>[elevator descending]</td>\n",
       "      <td>[elevator descending]</td>\n",
       "      <td>NaN</td>\n",
       "      <td>00:01:01</td>\n",
       "      <td>00:01:02</td>\n",
       "      <td>[elevator descending] [elevator descending]</td>\n",
       "    </tr>\n",
       "    <tr>\n",
       "      <th>4</th>\n",
       "      <td>1</td>\n",
       "      <td>1</td>\n",
       "      <td>5</td>\n",
       "      <td>[elevator dings]</td>\n",
       "      <td>[elevator dings]</td>\n",
       "      <td>NaN</td>\n",
       "      <td>00:01:09</td>\n",
       "      <td>00:01:10</td>\n",
       "      <td>[elevator dings] [elevator dings]</td>\n",
       "    </tr>\n",
       "  </tbody>\n",
       "</table>\n",
       "</div>"
      ],
      "text/plain": [
       "   season  episode  line               raw_text        stage_direction  \\\n",
       "0       1        1     1    [crickets chirping]    [crickets chirping]   \n",
       "1       1        1     2        [alarm blaring]        [alarm blaring]   \n",
       "2       1        1     3              [panting]              [panting]   \n",
       "3       1        1     4  [elevator descending]  [elevator descending]   \n",
       "4       1        1     5       [elevator dings]       [elevator dings]   \n",
       "\n",
       "  dialogue start_time  end_time                                         text  \n",
       "0      NaN   00:00:07  00:00:09      [crickets chirping] [crickets chirping]  \n",
       "1      NaN   00:00:49  00:00:51              [alarm blaring] [alarm blaring]  \n",
       "2      NaN   00:00:52  00:00:54                          [panting] [panting]  \n",
       "3      NaN   00:01:01  00:01:02  [elevator descending] [elevator descending]  \n",
       "4      NaN   00:01:09  00:01:10            [elevator dings] [elevator dings]  "
      ]
     },
     "execution_count": 2,
     "metadata": {},
     "output_type": "execute_result"
    }
   ],
   "source": [
    "import pandas as pd\n",
    "df = pd.read_csv(filepath_or_buffer='/kaggle/input/stranger-things-dialogue-dataset/stranger_things_all_dialogue.csv')\n",
    "df['text'] = df['raw_text'] + ' ' + df['stage_direction']\n",
    "df.head()"
   ]
  },
  {
   "cell_type": "code",
   "execution_count": 3,
   "id": "cd3494d7",
   "metadata": {
    "execution": {
     "iopub.execute_input": "2023-10-23T22:52:32.929678Z",
     "iopub.status.busy": "2023-10-23T22:52:32.928842Z",
     "iopub.status.idle": "2023-10-23T22:52:32.968219Z",
     "shell.execute_reply": "2023-10-23T22:52:32.967234Z"
    },
    "papermill": {
     "duration": 0.050115,
     "end_time": "2023-10-23T22:52:32.970667",
     "exception": false,
     "start_time": "2023-10-23T22:52:32.920552",
     "status": "completed"
    },
    "tags": []
   },
   "outputs": [
    {
     "name": "stdout",
     "output_type": "stream",
     "text": [
      "<class 'pandas.core.frame.DataFrame'>\n",
      "RangeIndex: 32519 entries, 0 to 32518\n",
      "Data columns (total 9 columns):\n",
      " #   Column           Non-Null Count  Dtype \n",
      "---  ------           --------------  ----- \n",
      " 0   season           32519 non-null  int64 \n",
      " 1   episode          32519 non-null  int64 \n",
      " 2   line             32519 non-null  int64 \n",
      " 3   raw_text         32519 non-null  object\n",
      " 4   stage_direction  10678 non-null  object\n",
      " 5   dialogue         26435 non-null  object\n",
      " 6   start_time       32519 non-null  object\n",
      " 7   end_time         32519 non-null  object\n",
      " 8   text             10678 non-null  object\n",
      "dtypes: int64(3), object(6)\n",
      "memory usage: 2.2+ MB\n"
     ]
    }
   ],
   "source": [
    "df.info()"
   ]
  },
  {
   "cell_type": "code",
   "execution_count": 4,
   "id": "80c1b629",
   "metadata": {
    "execution": {
     "iopub.execute_input": "2023-10-23T22:52:32.986803Z",
     "iopub.status.busy": "2023-10-23T22:52:32.986436Z",
     "iopub.status.idle": "2023-10-23T22:52:33.022147Z",
     "shell.execute_reply": "2023-10-23T22:52:33.020728Z"
    },
    "papermill": {
     "duration": 0.046653,
     "end_time": "2023-10-23T22:52:33.024451",
     "exception": false,
     "start_time": "2023-10-23T22:52:32.977798",
     "status": "completed"
    },
    "tags": []
   },
   "outputs": [
    {
     "name": "stdout",
     "output_type": "stream",
     "text": [
      "[('music', 1801), ('playing', 1392), ('sighs', 764), ('in', 665), ('grunts', 637), ('chuckles', 548), ('continues', 478), ('panting', 477), ('Russian', 472), ('I', 460), ('Dustin', 454), ('Hopper', 416), ('Mike', 405), ('you', 390), ('Joyce', 365), ('door', 337), ('on', 330), ('Eleven', 313), ('Steve', 312), ('the', 307)]\n",
      "6924\n"
     ]
    }
   ],
   "source": [
    "from collections import Counter\n",
    "text = ' '.join(df['text'].dropna().values).replace('[', '').replace(']', '')\n",
    "counts = Counter(text.split())\n",
    "print(counts.most_common(n=20))\n",
    "unique = set(text.split())\n",
    "print(len(unique))"
   ]
  },
  {
   "cell_type": "code",
   "execution_count": 5,
   "id": "c5ebe0e2",
   "metadata": {
    "execution": {
     "iopub.execute_input": "2023-10-23T22:52:33.040391Z",
     "iopub.status.busy": "2023-10-23T22:52:33.040016Z",
     "iopub.status.idle": "2023-10-23T22:52:45.635141Z",
     "shell.execute_reply": "2023-10-23T22:52:45.634064Z"
    },
    "papermill": {
     "duration": 12.60572,
     "end_time": "2023-10-23T22:52:45.637359",
     "exception": false,
     "start_time": "2023-10-23T22:52:33.031639",
     "status": "completed"
    },
    "tags": []
   },
   "outputs": [
    {
     "data": {
      "text/plain": [
       "[('crickets', 0.00028095148904289194),\n",
       " ('chirping', 0.001311106948866829),\n",
       " ('alarm', 0.003652369357557595),\n",
       " ('blaring', 0.002341262408690766),\n",
       " ('panting', 0.023038022101517137),\n",
       " ('elevator', 0.001311106948866829),\n",
       " ('descending', 0.00018730099269526128),\n",
       " ('dings', 0.0014047574452144597),\n",
       " ('heavily', 0.009833302116501217),\n",
       " ('breathing', 0.013017418992320659)]"
      ]
     },
     "execution_count": 5,
     "metadata": {},
     "output_type": "execute_result"
    }
   ],
   "source": [
    "from collections import defaultdict\n",
    "document_counts = defaultdict(int)\n",
    "for index, row in df.dropna(subset=['text']).iterrows():\n",
    "    current = set(row['text'].replace('[', '').replace(']', '').split())\n",
    "    for token in current:\n",
    "        document_counts[token] += 1\n",
    "percentages = {key: value/len(df['text'].dropna()) for key, value in document_counts.items()}\n",
    "list(percentages.items())[:10]"
   ]
  },
  {
   "cell_type": "code",
   "execution_count": 6,
   "id": "031f1353",
   "metadata": {
    "execution": {
     "iopub.execute_input": "2023-10-23T22:52:45.654005Z",
     "iopub.status.busy": "2023-10-23T22:52:45.652850Z",
     "iopub.status.idle": "2023-10-23T22:52:45.660617Z",
     "shell.execute_reply": "2023-10-23T22:52:45.659812Z"
    },
    "papermill": {
     "duration": 0.018033,
     "end_time": "2023-10-23T22:52:45.662498",
     "exception": false,
     "start_time": "2023-10-23T22:52:45.644465",
     "status": "completed"
    },
    "tags": []
   },
   "outputs": [
    {
     "data": {
      "text/plain": [
       "[0.08540925266903915,\n",
       " 0.06518074545795093,\n",
       " 0.038677654991571456,\n",
       " 0.038209402509833304,\n",
       " 0.03568083910844728,\n",
       " 0.03493163513766623,\n",
       " 0.03137291627645627,\n",
       " 0.0278141974152463,\n",
       " 0.025941187488293688,\n",
       " 0.02519198351751264]"
      ]
     },
     "execution_count": 6,
     "metadata": {},
     "output_type": "execute_result"
    }
   ],
   "source": [
    "pcts = sorted(list(percentages.values()), reverse=True)\n",
    "pcts[:10]"
   ]
  }
 ],
 "metadata": {
  "kernelspec": {
   "display_name": "Python 3",
   "language": "python",
   "name": "python3"
  },
  "language_info": {
   "codemirror_mode": {
    "name": "ipython",
    "version": 3
   },
   "file_extension": ".py",
   "mimetype": "text/x-python",
   "name": "python",
   "nbconvert_exporter": "python",
   "pygments_lexer": "ipython3",
   "version": "3.10.12"
  },
  "papermill": {
   "default_parameters": {},
   "duration": 103.661768,
   "end_time": "2023-10-23T22:52:46.088934",
   "environment_variables": {},
   "exception": null,
   "input_path": "__notebook__.ipynb",
   "output_path": "__notebook__.ipynb",
   "parameters": {},
   "start_time": "2023-10-23T22:51:02.427166",
   "version": "2.4.0"
  }
 },
 "nbformat": 4,
 "nbformat_minor": 5
}
