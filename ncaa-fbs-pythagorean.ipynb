{
 "cells": [
  {
   "cell_type": "code",
   "execution_count": 1,
   "id": "2897d583",
   "metadata": {
    "_cell_guid": "b1076dfc-b9ad-4769-8c92-a6c4dae69d19",
    "_uuid": "8f2839f25d086af736a60e9eeb907d3b93b6e0e5",
    "execution": {
     "iopub.execute_input": "2024-11-29T23:08:44.170537Z",
     "iopub.status.busy": "2024-11-29T23:08:44.169640Z",
     "iopub.status.idle": "2024-11-29T23:08:44.957705Z",
     "shell.execute_reply": "2024-11-29T23:08:44.956607Z"
    },
    "papermill": {
     "duration": 0.79486,
     "end_time": "2024-11-29T23:08:44.960233",
     "exception": false,
     "start_time": "2024-11-29T23:08:44.165373",
     "status": "completed"
    },
    "tags": []
   },
   "outputs": [],
   "source": [
    "import pandas as pd\n",
    "\n",
    "points = []\n",
    "points.append(pd.Series(data={'name': 'Oregon', 'PF': 373, 'PA': 173}))\n",
    "points.append(pd.Series(data={'name': 'Indiana', 'PF': 454, 'PA': 176}))"
   ]
  },
  {
   "cell_type": "code",
   "execution_count": 2,
   "id": "c54320ec",
   "metadata": {
    "execution": {
     "iopub.execute_input": "2024-11-29T23:08:44.968608Z",
     "iopub.status.busy": "2024-11-29T23:08:44.968156Z",
     "iopub.status.idle": "2024-11-29T23:08:44.973428Z",
     "shell.execute_reply": "2024-11-29T23:08:44.972464Z"
    },
    "papermill": {
     "duration": 0.011107,
     "end_time": "2024-11-29T23:08:44.975274",
     "exception": false,
     "start_time": "2024-11-29T23:08:44.964167",
     "status": "completed"
    },
    "tags": []
   },
   "outputs": [],
   "source": [
    "data = \\\n",
    "\"\"\"SMU\t7\t0\t10\t1\t432\t231\t5-1\t5-0\tWon 8\n",
    "Clemson\t7\t1\t9\t2\t414\t242\t5-1\t4-0\tWon 3\n",
    "Miami (FL)\t6\t1\t10\t1\t492\t245\t6-0\t4-1\tWon 1\n",
    "Louisville\t5\t3\t7\t4\t398\t265\t4-2\t3-2\tWon 1\n",
    "Georgia Tech\t5\t3\t7\t4\t307\t254\t5-0\t1-3\tWon 2\n",
    "Syracuse\t4\t3\t8\t3\t349\t306\t5-1\t3-2\tWon 2\n",
    "Duke\t4\t3\t8\t3\t299\t249\t5-1\t3-2\tWon 2\n",
    "Pittsburgh\t3\t4\t7\t4\t359\t287\t5-2\t2-2\tLost 4\n",
    "North Carolina\t3\t4\t6\t5\t358\t303\t3-3\t3-2\tLost 1\n",
    "Boston College\t3\t4\t6\t5\t317\t266\t5-1\t1-4\tWon 1\n",
    "Virginia Tech\t3\t4\t5\t6\t319\t256\t3-2\t2-4\tLost 3\n",
    "Virginia\t3\t4\t5\t6\t255\t308\t2-4\t3-2\tLost 2\n",
    "California\t2\t5\t6\t5\t307\t228\t4-3\t2-2\tWon 1\n",
    "NC State\t2\t5\t5\t6\t315\t336\t4-3\t1-2\tLost 2\n",
    "Wake Forest\t2\t5\t4\t7\t291\t367\t1-5\t3-2\tLost 3\n",
    "Stanford\t2\t6\t3\t8\t243\t370\t2-4\t1-4\tLost 1\n",
    "Florida St.\t1\t7\t2\t9\t174\t305\t2-4\t0-4\tWon 1\"\"\""
   ]
  },
  {
   "cell_type": "code",
   "execution_count": 3,
   "id": "1b2cde82",
   "metadata": {
    "execution": {
     "iopub.execute_input": "2024-11-29T23:08:44.981524Z",
     "iopub.status.busy": "2024-11-29T23:08:44.981172Z",
     "iopub.status.idle": "2024-11-29T23:08:44.985814Z",
     "shell.execute_reply": "2024-11-29T23:08:44.984956Z"
    },
    "papermill": {
     "duration": 0.009836,
     "end_time": "2024-11-29T23:08:44.987635",
     "exception": false,
     "start_time": "2024-11-29T23:08:44.977799",
     "status": "completed"
    },
    "tags": []
   },
   "outputs": [],
   "source": [
    "data += \"\"\"Iowa St.\t6\t2\t9\t2\t345\t214\t5-1\t4-1\tWon 2\n",
    "BYU\t6\t2\t9\t2\t339\t223\t4-1\t5-1\tLost 2\n",
    "Arizona St.\t6\t2\t9\t2\t336\t251\t6-0\t3-2\tWon 4\n",
    "Colorado\t6\t2\t8\t3\t362\t264\t4-1\t4-2\tLost 1\n",
    "Kansas St.\t5\t3\t8\t3\t336\t234\t5-1\t3-2\tWon 1\n",
    "Texas Tech\t5\t3\t7\t4\t411\t399\t4-2\t3-2\tWon 1\n",
    "TCU\t5\t3\t7\t4\t381\t304\t4-2\t3-2\tWon 2\n",
    "Baylor\t5\t3\t7\t4\t371\t286\t4-1\t3-3\tWon 5\n",
    "West Virginia\t5\t3\t6\t5\t327\t321\t3-4\t3-1\tWon 1\n",
    "Kansas\t4\t4\t5\t6\t339\t267\t4-2\t1-4\tWon 3\n",
    "Cincinnati\t3\t5\t5\t6\t289\t275\t3-2\t2-4\tLost 4\n",
    "Houston\t3\t5\t4\t7\t150\t245\t3-3\t1-4\tLost 2\n",
    "UCF\t2\t6\t4\t7\t351\t295\t3-3\t1-4\tLost 2\n",
    "Arizona\t2\t6\t4\t7\t254\t332\t3-3\t1-4\tLost 1\n",
    "Utah\t1\t7\t4\t7\t255\t234\t2-4\t2-3\tLost 7\n",
    "Oklahoma St.\t0\t8\t3\t8\t326\t375\t2-4\t1-4\tLost 8\"\"\""
   ]
  },
  {
   "cell_type": "code",
   "execution_count": null,
   "id": "7fa3c6b1",
   "metadata": {
    "papermill": {
     "duration": 0.002112,
     "end_time": "2024-11-29T23:08:44.992187",
     "exception": false,
     "start_time": "2024-11-29T23:08:44.990075",
     "status": "completed"
    },
    "tags": []
   },
   "outputs": [],
   "source": []
  },
  {
   "cell_type": "code",
   "execution_count": 4,
   "id": "d917e9a9",
   "metadata": {
    "execution": {
     "iopub.execute_input": "2024-11-29T23:08:44.998504Z",
     "iopub.status.busy": "2024-11-29T23:08:44.998143Z",
     "iopub.status.idle": "2024-11-29T23:08:45.020247Z",
     "shell.execute_reply": "2024-11-29T23:08:45.019337Z"
    },
    "papermill": {
     "duration": 0.027781,
     "end_time": "2024-11-29T23:08:45.022409",
     "exception": false,
     "start_time": "2024-11-29T23:08:44.994628",
     "status": "completed"
    },
    "tags": []
   },
   "outputs": [],
   "source": [
    "lines = data.split('\\n')\n",
    "for line in lines:\n",
    "    items = line.split('\\t')\n",
    "    points.append(pd.Series(data={'name': items[0], 'PF': items[5], 'PA': items[6]}))\n",
    "\n",
    "df = pd.DataFrame(data=points)\n",
    "df['PF'] = df['PF'].astype(float)\n",
    "df['PA'] = df['PA'].astype(float)"
   ]
  },
  {
   "cell_type": "code",
   "execution_count": 5,
   "id": "d1783b21",
   "metadata": {
    "execution": {
     "iopub.execute_input": "2024-11-29T23:08:45.028927Z",
     "iopub.status.busy": "2024-11-29T23:08:45.028526Z",
     "iopub.status.idle": "2024-11-29T23:08:45.037282Z",
     "shell.execute_reply": "2024-11-29T23:08:45.036220Z"
    },
    "papermill": {
     "duration": 0.01426,
     "end_time": "2024-11-29T23:08:45.039229",
     "exception": false,
     "start_time": "2024-11-29T23:08:45.024969",
     "status": "completed"
    },
    "tags": []
   },
   "outputs": [],
   "source": [
    "import numpy as np\n",
    "\n",
    "NUMERATOR = 2.37\n",
    "\n",
    "df['numerator'] = df['PF'].pow(NUMERATOR)\n",
    "df['denominator'] = df['PF'].pow(NUMERATOR) + df['PA'].pow(NUMERATOR)\n",
    "df['expectation'] = df['numerator']/df['denominator']"
   ]
  },
  {
   "cell_type": "code",
   "execution_count": 6,
   "id": "edd4498c",
   "metadata": {
    "execution": {
     "iopub.execute_input": "2024-11-29T23:08:45.045480Z",
     "iopub.status.busy": "2024-11-29T23:08:45.045119Z",
     "iopub.status.idle": "2024-11-29T23:08:45.067497Z",
     "shell.execute_reply": "2024-11-29T23:08:45.066462Z"
    },
    "papermill": {
     "duration": 0.02798,
     "end_time": "2024-11-29T23:08:45.069641",
     "exception": false,
     "start_time": "2024-11-29T23:08:45.041661",
     "status": "completed"
    },
    "tags": []
   },
   "outputs": [
    {
     "data": {
      "text/html": [
       "<div>\n",
       "<style scoped>\n",
       "    .dataframe tbody tr th:only-of-type {\n",
       "        vertical-align: middle;\n",
       "    }\n",
       "\n",
       "    .dataframe tbody tr th {\n",
       "        vertical-align: top;\n",
       "    }\n",
       "\n",
       "    .dataframe thead th {\n",
       "        text-align: right;\n",
       "    }\n",
       "</style>\n",
       "<table border=\"1\" class=\"dataframe\">\n",
       "  <thead>\n",
       "    <tr style=\"text-align: right;\">\n",
       "      <th></th>\n",
       "      <th>name</th>\n",
       "      <th>PF</th>\n",
       "      <th>PA</th>\n",
       "      <th>numerator</th>\n",
       "      <th>denominator</th>\n",
       "      <th>expectation</th>\n",
       "    </tr>\n",
       "  </thead>\n",
       "  <tbody>\n",
       "    <tr>\n",
       "      <th>1</th>\n",
       "      <td>Indiana</td>\n",
       "      <td>454.0</td>\n",
       "      <td>176.0</td>\n",
       "      <td>1.982542e+06</td>\n",
       "      <td>2.192371e+06</td>\n",
       "      <td>0.904291</td>\n",
       "    </tr>\n",
       "    <tr>\n",
       "      <th>0</th>\n",
       "      <td>Oregon</td>\n",
       "      <td>373.0</td>\n",
       "      <td>173.0</td>\n",
       "      <td>1.244371e+06</td>\n",
       "      <td>1.445822e+06</td>\n",
       "      <td>0.860667</td>\n",
       "    </tr>\n",
       "    <tr>\n",
       "      <th>4</th>\n",
       "      <td>Miami (FL)</td>\n",
       "      <td>492.0</td>\n",
       "      <td>245.0</td>\n",
       "      <td>2.398597e+06</td>\n",
       "      <td>2.858137e+06</td>\n",
       "      <td>0.839217</td>\n",
       "    </tr>\n",
       "    <tr>\n",
       "      <th>2</th>\n",
       "      <td>SMU</td>\n",
       "      <td>432.0</td>\n",
       "      <td>231.0</td>\n",
       "      <td>1.762368e+06</td>\n",
       "      <td>2.162092e+06</td>\n",
       "      <td>0.815122</td>\n",
       "    </tr>\n",
       "    <tr>\n",
       "      <th>3</th>\n",
       "      <td>Clemson</td>\n",
       "      <td>414.0</td>\n",
       "      <td>242.0</td>\n",
       "      <td>1.593275e+06</td>\n",
       "      <td>2.039591e+06</td>\n",
       "      <td>0.781174</td>\n",
       "    </tr>\n",
       "  </tbody>\n",
       "</table>\n",
       "</div>"
      ],
      "text/plain": [
       "         name     PF     PA     numerator   denominator  expectation\n",
       "1     Indiana  454.0  176.0  1.982542e+06  2.192371e+06     0.904291\n",
       "0      Oregon  373.0  173.0  1.244371e+06  1.445822e+06     0.860667\n",
       "4  Miami (FL)  492.0  245.0  2.398597e+06  2.858137e+06     0.839217\n",
       "2         SMU  432.0  231.0  1.762368e+06  2.162092e+06     0.815122\n",
       "3     Clemson  414.0  242.0  1.593275e+06  2.039591e+06     0.781174"
      ]
     },
     "execution_count": 6,
     "metadata": {},
     "output_type": "execute_result"
    }
   ],
   "source": [
    "df.sort_values(ascending=False, by='expectation').head(n=5)"
   ]
  },
  {
   "cell_type": "code",
   "execution_count": 7,
   "id": "73b1d249",
   "metadata": {
    "execution": {
     "iopub.execute_input": "2024-11-29T23:08:45.076629Z",
     "iopub.status.busy": "2024-11-29T23:08:45.076246Z",
     "iopub.status.idle": "2024-11-29T23:08:46.865543Z",
     "shell.execute_reply": "2024-11-29T23:08:46.864553Z"
    },
    "papermill": {
     "duration": 1.795355,
     "end_time": "2024-11-29T23:08:46.867754",
     "exception": false,
     "start_time": "2024-11-29T23:08:45.072399",
     "status": "completed"
    },
    "tags": []
   },
   "outputs": [
    {
     "data": {
      "text/plain": [
       "<Axes: xlabel='PF', ylabel='PA'>"
      ]
     },
     "execution_count": 7,
     "metadata": {},
     "output_type": "execute_result"
    },
    {
     "data": {
      "image/png": "[encoded data removed]",
      "text/plain": [
       "<Figure size 640x480 with 1 Axes>"
      ]
     },
     "metadata": {},
     "output_type": "display_data"
    }
   ],
   "source": [
    "from seaborn import scatterplot\n",
    "scatterplot(data=df, x='PF', y='PA', )"
   ]
  }
 ],
 "metadata": {
  "kaggle": {
   "accelerator": "none",
   "dataSources": [],
   "dockerImageVersionId": 30786,
   "isGpuEnabled": false,
   "isInternetEnabled": true,
   "language": "python",
   "sourceType": "notebook"
  },
  "kernelspec": {
   "display_name": "Python 3",
   "language": "python",
   "name": "python3"
  },
  "language_info": {
   "codemirror_mode": {
    "name": "ipython",
    "version": 3
   },
   "file_extension": ".py",
   "mimetype": "text/x-python",
   "name": "python",
   "nbconvert_exporter": "python",
   "pygments_lexer": "ipython3",
   "version": "3.10.14"
  },
  "papermill": {
   "default_parameters": {},
   "duration": 5.857489,
   "end_time": "2024-11-29T23:08:47.491001",
   "environment_variables": {},
   "exception": null,
   "input_path": "__notebook__.ipynb",
   "output_path": "__notebook__.ipynb",
   "parameters": {},
   "start_time": "2024-11-29T23:08:41.633512",
   "version": "2.6.0"
  }
 },
 "nbformat": 4,
 "nbformat_minor": 5
}
