{
 "cells": [
  {
   "cell_type": "markdown",
   "id": "2992ac65",
   "metadata": {
    "papermill": {
     "duration": 0.007603,
     "end_time": "2024-11-30T16:10:59.671987",
     "exception": false,
     "start_time": "2024-11-30T16:10:59.664384",
     "status": "completed"
    },
    "tags": []
   },
   "source": [
    "First let's add conference data we've painstakingly scraped from the NCAA website."
   ]
  },
  {
   "cell_type": "code",
   "execution_count": 1,
   "id": "7541d4f8",
   "metadata": {
    "execution": {
     "iopub.execute_input": "2024-11-30T16:10:59.687763Z",
     "iopub.status.busy": "2024-11-30T16:10:59.687351Z",
     "iopub.status.idle": "2024-11-30T16:11:00.583060Z",
     "shell.execute_reply": "2024-11-30T16:11:00.581887Z"
    },
    "papermill": {
     "duration": 0.906672,
     "end_time": "2024-11-30T16:11:00.585703",
     "exception": false,
     "start_time": "2024-11-30T16:10:59.679031",
     "status": "completed"
    },
    "tags": []
   },
   "outputs": [],
   "source": [
    "import pandas as pd\n",
    "\n",
    "\n",
    "def make_dataframe(arg : str) -> pd.DataFrame:\n",
    "    points = []\n",
    "    for line in arg.split('\\n'):\n",
    "        items = line.split('\\t')\n",
    "        points.append(pd.Series(data={'name': items[0], 'PF': items[5], 'PA': items[6], 'WOA': items[3], 'LOA': items[4], 'WCONF': items[1],\n",
    "                                     'LCONF': items[2], }))\n",
    "    \n",
    "    result_df = pd.DataFrame(data=points)\n",
    "    for column in ['PF', 'PA', 'WOA', 'LOA', 'WCONF', 'LCONF']:\n",
    "        result_df[column] = result_df[column].astype(float)\n",
    "    return result_df"
   ]
  },
  {
   "cell_type": "code",
   "execution_count": 2,
   "id": "863570ba",
   "metadata": {
    "execution": {
     "iopub.execute_input": "2024-11-30T16:11:00.600521Z",
     "iopub.status.busy": "2024-11-30T16:11:00.600066Z",
     "iopub.status.idle": "2024-11-30T16:11:00.624635Z",
     "shell.execute_reply": "2024-11-30T16:11:00.623754Z"
    },
    "papermill": {
     "duration": 0.034582,
     "end_time": "2024-11-30T16:11:00.626996",
     "exception": false,
     "start_time": "2024-11-30T16:11:00.592414",
     "status": "completed"
    },
    "tags": []
   },
   "outputs": [],
   "source": [
    "objs = []\n",
    "\n",
    "data = \"\"\"SMU\t7\t0\t10\t1\t432\t231\t5-1\t5-0\tWon 8\n",
    "Clemson\t7\t1\t9\t2\t414\t242\t5-1\t4-0\tWon 3\n",
    "Miami (FL)\t6\t1\t10\t1\t492\t245\t6-0\t4-1\tWon 1\n",
    "Louisville\t5\t3\t7\t4\t398\t265\t4-2\t3-2\tWon 1\n",
    "Georgia Tech\t5\t3\t7\t4\t307\t254\t5-0\t1-3\tWon 2\n",
    "Syracuse\t4\t3\t8\t3\t349\t306\t5-1\t3-2\tWon 2\n",
    "Duke\t4\t3\t8\t3\t299\t249\t5-1\t3-2\tWon 2\n",
    "Pittsburgh\t3\t4\t7\t4\t359\t287\t5-2\t2-2\tLost 4\n",
    "North Carolina\t3\t4\t6\t5\t358\t303\t3-3\t3-2\tLost 1\n",
    "Boston College\t3\t4\t6\t5\t317\t266\t5-1\t1-4\tWon 1\n",
    "Virginia Tech\t3\t4\t5\t6\t319\t256\t3-2\t2-4\tLost 3\n",
    "Virginia\t3\t4\t5\t6\t255\t308\t2-4\t3-2\tLost 2\n",
    "California\t2\t5\t6\t5\t307\t228\t4-3\t2-2\tWon 1\n",
    "NC State\t2\t5\t5\t6\t315\t336\t4-3\t1-2\tLost 2\n",
    "Wake Forest\t2\t5\t4\t7\t291\t367\t1-5\t3-2\tLost 3\n",
    "Stanford\t2\t6\t3\t8\t243\t370\t2-4\t1-4\tLost 1\n",
    "Florida St.\t1\t7\t2\t9\t174\t305\t2-4\t0-4\tWon 1\"\"\"\n",
    "\n",
    "data_df = make_dataframe(arg=data)\n",
    "data_df['conference'] = 'ACC'\n",
    "objs.append(data_df)"
   ]
  },
  {
   "cell_type": "code",
   "execution_count": 3,
   "id": "84b6b95a",
   "metadata": {
    "execution": {
     "iopub.execute_input": "2024-11-30T16:11:00.641475Z",
     "iopub.status.busy": "2024-11-30T16:11:00.641085Z",
     "iopub.status.idle": "2024-11-30T16:11:00.654410Z",
     "shell.execute_reply": "2024-11-30T16:11:00.653506Z"
    },
    "papermill": {
     "duration": 0.023575,
     "end_time": "2024-11-30T16:11:00.656952",
     "exception": false,
     "start_time": "2024-11-30T16:11:00.633377",
     "status": "completed"
    },
    "tags": []
   },
   "outputs": [],
   "source": [
    "data = \"\"\"Iowa St.\t6\t2\t9\t2\t345\t214\t5-1\t4-1\tWon 2\n",
    "BYU\t6\t2\t9\t2\t339\t223\t4-1\t5-1\tLost 2\n",
    "Arizona St.\t6\t2\t9\t2\t336\t251\t6-0\t3-2\tWon 4\n",
    "Colorado\t6\t2\t8\t3\t362\t264\t4-1\t4-2\tLost 1\n",
    "Kansas St.\t5\t3\t8\t3\t336\t234\t5-1\t3-2\tWon 1\n",
    "Texas Tech\t5\t3\t7\t4\t411\t399\t4-2\t3-2\tWon 1\n",
    "TCU\t5\t3\t7\t4\t381\t304\t4-2\t3-2\tWon 2\n",
    "Baylor\t5\t3\t7\t4\t371\t286\t4-1\t3-3\tWon 5\n",
    "West Virginia\t5\t3\t6\t5\t327\t321\t3-4\t3-1\tWon 1\n",
    "Kansas\t4\t4\t5\t6\t339\t267\t4-2\t1-4\tWon 3\n",
    "Cincinnati\t3\t5\t5\t6\t289\t275\t3-2\t2-4\tLost 4\n",
    "Houston\t3\t5\t4\t7\t150\t245\t3-3\t1-4\tLost 2\n",
    "UCF\t2\t6\t4\t7\t351\t295\t3-3\t1-4\tLost 2\n",
    "Arizona\t2\t6\t4\t7\t254\t332\t3-3\t1-4\tLost 1\n",
    "Utah\t1\t7\t4\t7\t255\t234\t2-4\t2-3\tLost 7\n",
    "Oklahoma St.\t0\t8\t3\t8\t326\t375\t2-4\t1-4\tLost 8\"\"\"\n",
    "\n",
    "data_df = make_dataframe(arg=data)\n",
    "data_df['conference'] = 'Big 12'\n",
    "objs.append(data_df)"
   ]
  },
  {
   "cell_type": "code",
   "execution_count": 4,
   "id": "7b75f83f",
   "metadata": {
    "execution": {
     "iopub.execute_input": "2024-11-30T16:11:00.672577Z",
     "iopub.status.busy": "2024-11-30T16:11:00.672195Z",
     "iopub.status.idle": "2024-11-30T16:11:00.687249Z",
     "shell.execute_reply": "2024-11-30T16:11:00.686394Z"
    },
    "papermill": {
     "duration": 0.024942,
     "end_time": "2024-11-30T16:11:00.689429",
     "exception": false,
     "start_time": "2024-11-30T16:11:00.664487",
     "status": "completed"
    },
    "tags": []
   },
   "outputs": [],
   "source": [
    "data = \"\"\"Oregon\t8\t0\t11\t0\t373\t173\t6-0\t5-0\tWon 11\n",
    "Indiana\t7\t1\t10\t1\t454\t176\t7-0\t3-1\tLost 1\n",
    "Ohio St.\t7\t1\t10\t1\t416\t118\t7-0\t3-1\tWon 5\n",
    "Penn St.\t7\t1\t10\t1\t356\t161\t5-1\t5-0\tWon 3\n",
    "Illinois\t5\t3\t8\t3\t309\t237\t6-1\t2-2\tWon 2\n",
    "Iowa\t5\t3\t7\t4\t323\t195\t5-1\t2-3\tWon 1\n",
    "Minnesota\t4\t4\t6\t5\t292\t203\t4-3\t2-2\tLost 2\n",
    "Michigan\t4\t4\t6\t5\t254\t236\t6-2\t0-3\tWon 1\n",
    "Washington\t4\t4\t6\t5\t249\t225\t6-0\t0-4\tWon 1\n",
    "Southern California\t4\t5\t6\t5\t322\t233\t4-1\t1-4\tWon 2\n",
    "Rutgers\t3\t5\t6\t5\t294\t272\t4-3\t2-2\tLost 1\n",
    "Nebraska\t3\t5\t6\t5\t276\t225\t5-2\t1-3\tWon 1\n",
    "Wisconsin\t3\t5\t5\t6\t264\t253\t3-3\t2-3\tLost 4\n",
    "Michigan St.\t3\t5\t5\t6\t218\t272\t4-2\t1-4\tWon 1\n",
    "UCLA\t3\t6\t4\t7\t201\t290\t1-4\t3-3\tLost 2\n",
    "Northwestern\t2\t6\t4\t7\t186\t278\t2-4\t2-3\tLost 2\n",
    "Maryland\t1\t7\t4\t7\t277\t321\t3-4\t1-3\tLost 4\n",
    "Purdue\t0\t8\t1\t10\t189\t413\t1-5\t0-5\tLost 10\"\"\"\n",
    "\n",
    "data_df = make_dataframe(arg=data)\n",
    "data_df['conference'] = 'Big Ten'\n",
    "objs.append(data_df)"
   ]
  },
  {
   "cell_type": "code",
   "execution_count": 5,
   "id": "f1ab3420",
   "metadata": {
    "execution": {
     "iopub.execute_input": "2024-11-30T16:11:00.703816Z",
     "iopub.status.busy": "2024-11-30T16:11:00.703346Z",
     "iopub.status.idle": "2024-11-30T16:11:00.715073Z",
     "shell.execute_reply": "2024-11-30T16:11:00.713967Z"
    },
    "papermill": {
     "duration": 0.021295,
     "end_time": "2024-11-30T16:11:00.717246",
     "exception": false,
     "start_time": "2024-11-30T16:11:00.695951",
     "status": "completed"
    },
    "tags": []
   },
   "outputs": [],
   "source": [
    "data = \"\"\"Jacksonville St.\t7\t0\t8\t3\t408\t305\t5-1\t3-2\tWon 8\n",
    "Liberty\t5\t2\t8\t2\t320\t236\t5-1\t3-1\tWon 3\n",
    "Sam Houston\t5\t2\t8\t3\t258\t222\t3-1\t4-2\tLost 1\n",
    "Western Ky.\t5\t2\t7\t4\t301\t249\t4-1\t3-3\tLost 2\n",
    "Louisiana Tech\t3\t4\t4\t7\t233\t246\t3-2\t1-5\tLost 1\n",
    "FIU\t2\t5\t3\t8\t281\t285\t3-2\t0-6\tLost 2\n",
    "New Mexico St.\t2\t5\t3\t8\t224\t393\t2-3\t1-5\tWon 1\n",
    "Middle Tenn.\t2\t5\t3\t8\t193\t376\t2-4\t1-4\tLost 2\n",
    "Kennesaw St.\t2\t5\t2\t9\t198\t341\t2-4\t0-5\tWon 1\n",
    "UTEP\t2\t5\t2\t9\t192\t353\t2-3\t0-6\tLost 1\"\"\"\n",
    "\n",
    "data_df = make_dataframe(arg=data)\n",
    "data_df['conference'] = 'CUSA'\n",
    "objs.append(data_df)"
   ]
  },
  {
   "cell_type": "code",
   "execution_count": 6,
   "id": "894a7e05",
   "metadata": {
    "execution": {
     "iopub.execute_input": "2024-11-30T16:11:00.732067Z",
     "iopub.status.busy": "2024-11-30T16:11:00.731182Z",
     "iopub.status.idle": "2024-11-30T16:11:00.740163Z",
     "shell.execute_reply": "2024-11-30T16:11:00.739122Z"
    },
    "papermill": {
     "duration": 0.018941,
     "end_time": "2024-11-30T16:11:00.742523",
     "exception": false,
     "start_time": "2024-11-30T16:11:00.723582",
     "status": "completed"
    },
    "tags": []
   },
   "outputs": [],
   "source": [
    "data = \"\"\"Notre Dame\t0\t0\t10\t1\t429\t128\t5-1\t2-0\tWon 9\n",
    "UConn\t0\t0\t7\t4\t341\t244\t6-1\t1-3\tLost 1\n",
    "Massachusetts\t0\t0\t2\t9\t228\t379\t2-3\t0-6\tLost 3\"\"\"\n",
    "\n",
    "data_df = make_dataframe(arg=data)\n",
    "data_df['conference'] = 'FBS Independent'\n",
    "objs.append(data_df)"
   ]
  },
  {
   "cell_type": "code",
   "execution_count": 7,
   "id": "b8b69352",
   "metadata": {
    "execution": {
     "iopub.execute_input": "2024-11-30T16:11:00.757247Z",
     "iopub.status.busy": "2024-11-30T16:11:00.756902Z",
     "iopub.status.idle": "2024-11-30T16:11:00.768939Z",
     "shell.execute_reply": "2024-11-30T16:11:00.767773Z"
    },
    "papermill": {
     "duration": 0.022097,
     "end_time": "2024-11-30T16:11:00.771124",
     "exception": false,
     "start_time": "2024-11-30T16:11:00.749027",
     "status": "completed"
    },
    "tags": []
   },
   "outputs": [],
   "source": [
    "data = \"\"\"Ohio\t6\t1\t8\t3\t300\t203\t5-0\t3-3\tWon 4\n",
    "Bowling Green\t6\t1\t7\t4\t309\t215\t3-2\t4-2\tWon 5\n",
    "Miami (OH)\t6\t1\t7\t4\t263\t196\t5-1\t2-3\tWon 6\n",
    "Buffalo\t6\t2\t8\t4\t349\t336\t5-1\t3-3\tWon 4\n",
    "Western Mich.\t4\t3\t5\t6\t327\t359\t3-1\t2-5\tLost 3\n",
    "Toledo\t4\t4\t7\t5\t320\t256\t4-2\t3-3\tLost 2\n",
    "NIU\t3\t4\t6\t5\t267\t205\t3-2\t3-3\tLost 1\n",
    "Akron\t3\t5\t4\t8\t245\t384\t3-2\t1-6\tWon 2\n",
    "Eastern Mich.\t2\t5\t5\t6\t293\t309\t3-3\t2-3\tLost 4\n",
    "Central Mich.\t2\t5\t4\t7\t255\t332\t4-2\t0-5\tWon 1\n",
    "Ball St.\t2\t5\t3\t8\t283\t439\t2-3\t1-5\tLost 3\n",
    "Kent St.\t0\t8\t0\t12\t167\t529\t0-5\t0-7\tLost 12\"\"\"\n",
    "\n",
    "data_df = make_dataframe(arg=data)\n",
    "data_df['conference'] = 'MAC'\n",
    "objs.append(data_df)"
   ]
  },
  {
   "cell_type": "code",
   "execution_count": 8,
   "id": "95772843",
   "metadata": {
    "execution": {
     "iopub.execute_input": "2024-11-30T16:11:00.785379Z",
     "iopub.status.busy": "2024-11-30T16:11:00.785035Z",
     "iopub.status.idle": "2024-11-30T16:11:00.796403Z",
     "shell.execute_reply": "2024-11-30T16:11:00.795376Z"
    },
    "papermill": {
     "duration": 0.02109,
     "end_time": "2024-11-30T16:11:00.798580",
     "exception": false,
     "start_time": "2024-11-30T16:11:00.777490",
     "status": "completed"
    },
    "tags": []
   },
   "outputs": [],
   "source": [
    "data = \"\"\"Boise St.\t7\t0\t10\t1\t453\t260\t5-0\t5-1\tWon 9\n",
    "UNLV\t5\t1\t9\t2\t426\t250\t3-2\t6-0\tWon 3\n",
    "Colorado St.\t5\t1\t7\t4\t258\t255\t5-1\t2-3\tLost 1\n",
    "Fresno St.\t4\t3\t6\t5\t306\t275\t4-2\t2-3\tWon 1\n",
    "New Mexico\t3\t3\t5\t6\t372\t418\t2-3\t3-3\tWon 2\n",
    "Utah St.\t3\t3\t4\t7\t346\t411\t3-3\t1-4\tWon 2\n",
    "San Jose St.\t3\t4\t6\t5\t296\t286\t4-2\t2-3\tLost 2\n",
    "Hawaii\t2\t4\t4\t7\t230\t282\t3-3\t1-4\tLost 2\n",
    "Air Force\t2\t4\t4\t7\t196\t259\t3-3\t1-4\tWon 3\n",
    "San Diego St.\t2\t4\t3\t8\t236\t324\t2-3\t1-5\tLost 5\n",
    "Wyoming\t2\t5\t2\t9\t217\t326\t1-5\t1-4\tLost 2\n",
    "Nevada\t0\t6\t3\t9\t286\t336\t2-5\t1-4\tLost 5\"\"\"\n",
    "\n",
    "data_df = make_dataframe(arg=data)\n",
    "data_df['conference'] = 'Mountain West'\n",
    "objs.append(data_df)"
   ]
  },
  {
   "cell_type": "code",
   "execution_count": 9,
   "id": "73fbd3cd",
   "metadata": {
    "execution": {
     "iopub.execute_input": "2024-11-30T16:11:00.812556Z",
     "iopub.status.busy": "2024-11-30T16:11:00.812220Z",
     "iopub.status.idle": "2024-11-30T16:11:00.822171Z",
     "shell.execute_reply": "2024-11-30T16:11:00.821014Z"
    },
    "papermill": {
     "duration": 0.019488,
     "end_time": "2024-11-30T16:11:00.824325",
     "exception": false,
     "start_time": "2024-11-30T16:11:00.804837",
     "status": "completed"
    },
    "tags": []
   },
   "outputs": [],
   "source": [
    "data = \"\"\"Oregon St.\t1\t0\t5\t6\t273\t325\t4-3\t1-3\tWon 1\n",
    "Washington St.\t0\t1\t8\t3\t427\t322\t5-0\t2-3\tLost 2\"\"\"\n",
    "\n",
    "data_df = make_dataframe(arg=data)\n",
    "data_df['conference'] = 'Pac 12'\n",
    "objs.append(data_df)"
   ]
  },
  {
   "cell_type": "code",
   "execution_count": 10,
   "id": "12657c86",
   "metadata": {
    "execution": {
     "iopub.execute_input": "2024-11-30T16:11:00.838856Z",
     "iopub.status.busy": "2024-11-30T16:11:00.837964Z",
     "iopub.status.idle": "2024-11-30T16:11:00.849895Z",
     "shell.execute_reply": "2024-11-30T16:11:00.849063Z"
    },
    "papermill": {
     "duration": 0.021308,
     "end_time": "2024-11-30T16:11:00.851984",
     "exception": false,
     "start_time": "2024-11-30T16:11:00.830676",
     "status": "completed"
    },
    "tags": []
   },
   "outputs": [],
   "source": [
    "data = \"\"\"Texas\t6\t1\t10\t1\t401\t133\t6-1\t3-0\tWon 4\n",
    "Georgia\t6\t2\t9\t2\t365\t204\t5-0\t2-2\tWon 2\n",
    "Tennessee\t5\t2\t9\t2\t411\t144\t7-0\t1-2\tWon 1\n",
    "Texas A&M\t5\t2\t8\t3\t357\t237\t5-1\t2-2\tLost 1\n",
    "South Carolina\t5\t3\t8\t3\t362\t200\t5-2\t3-1\tWon 5\n",
    "Ole Miss\t4\t3\t8\t3\t424\t153\t5-1\t3-2\tLost 1\n",
    "Alabama\t4\t3\t8\t3\t398\t193\t6-0\t2-3\tLost 1\n",
    "Missouri\t4\t3\t8\t3\t321\t220\t6-0\t2-3\tWon 1\n",
    "LSU\t4\t3\t7\t4\t315\t268\t5-1\t2-2\tWon 1\n",
    "Florida\t4\t4\t6\t5\t304\t281\t5-2\t1-2\tWon 2\n",
    "Arkansas\t3\t4\t6\t5\t342\t271\t4-3\t2-1\tWon 1\n",
    "Vanderbilt\t3\t4\t6\t5\t297\t241\t4-2\t2-3\tLost 2\n",
    "Oklahoma\t2\t5\t6\t5\t275\t222\t5-2\t1-2\tWon 1\n",
    "Auburn\t2\t5\t5\t6\t319\t228\t4-4\t1-2\tWon 2\n",
    "Kentucky\t1\t7\t4\t7\t233\t224\t3-4\t1-3\tLost 1\n",
    "Mississippi St.\t0\t7\t2\t9\t296\t383\t2-5\t0-4\tLost 2\"\"\"\n",
    "\n",
    "data_df = make_dataframe(arg=data)\n",
    "data_df['conference'] = 'SEC'\n",
    "objs.append(data_df)"
   ]
  },
  {
   "cell_type": "code",
   "execution_count": 11,
   "id": "0db5c287",
   "metadata": {
    "execution": {
     "iopub.execute_input": "2024-11-30T16:11:00.866066Z",
     "iopub.status.busy": "2024-11-30T16:11:00.865686Z",
     "iopub.status.idle": "2024-11-30T16:11:00.878756Z",
     "shell.execute_reply": "2024-11-30T16:11:00.877675Z"
    },
    "papermill": {
     "duration": 0.022716,
     "end_time": "2024-11-30T16:11:00.881050",
     "exception": false,
     "start_time": "2024-11-30T16:11:00.858334",
     "status": "completed"
    },
    "tags": []
   },
   "outputs": [],
   "source": [
    "data = \"\"\"Marshall\t6\t1\t8\t3\t348\t264\t6-0\t2-3\tWon 5\n",
    "Ga. Southern\t5\t2\t7\t4\t309\t308\t3-2\t4-2\tWon 1\n",
    "James Madison\t4\t3\t8\t3\t373\t214\t5-0\t3-3\tLost 1\n",
    "App State\t3\t4\t5\t5\t273\t333\t4-1\t1-4\tWon 1\n",
    "Old Dominion\t3\t4\t4\t7\t296\t304\t2-4\t2-3\tLost 3\n",
    "Coastal Carolina\t2\t5\t5\t6\t310\t340\t3-3\t2-3\tLost 2\n",
    "Georgia St.\t1\t6\t3\t8\t259\t358\t2-3\t1-5\tWon 1\n",
    "Louisiana\t6\t1\t9\t2\t390\t250\t4-2\t5-0\tWon 1\n",
    "Arkansas St.\t5\t2\t7\t4\t266\t347\t5-0\t2-4\tWon 2\n",
    "South Alabama\t5\t2\t6\t5\t379\t259\t3-2\t3-3\tWon 2\n",
    "Texas St.\t4\t3\t6\t5\t400\t253\t4-3\t2-1\tLost 1\n",
    "ULM\t3\t4\t5\t6\t229\t308\t4-1\t1-5\tLost 5\n",
    "Troy\t2\t5\t3\t8\t260\t321\t2-3\t1-5\tLost 1\n",
    "Southern Miss.\t0\t7\t1\t10\t163\t401\t1-5\t0-5\tLost 9\"\"\"\n",
    "\n",
    "data_df = make_dataframe(arg=data)\n",
    "data_df['conference'] = 'Sun Belt'\n",
    "objs.append(data_df)"
   ]
  },
  {
   "cell_type": "code",
   "execution_count": 12,
   "id": "512b170b",
   "metadata": {
    "execution": {
     "iopub.execute_input": "2024-11-30T16:11:00.895124Z",
     "iopub.status.busy": "2024-11-30T16:11:00.894754Z",
     "iopub.status.idle": "2024-11-30T16:11:00.907119Z",
     "shell.execute_reply": "2024-11-30T16:11:00.906069Z"
    },
    "papermill": {
     "duration": 0.021972,
     "end_time": "2024-11-30T16:11:00.909328",
     "exception": false,
     "start_time": "2024-11-30T16:11:00.887356",
     "status": "completed"
    },
    "tags": []
   },
   "outputs": [],
   "source": [
    "data = \"\"\"Army West Point\t7\t0\t9\t1\t331\t142\t5-0\t4-0\tLost 1\n",
    "Tulane\t7\t1\t9\t3\t469\t221\t4-2\t5-1\tLost 1\n",
    "Memphis\t6\t2\t10\t2\t422\t273\t7-0\t2-2\tWon 3\n",
    "Navy\t5\t2\t7\t3\t321\t235\t4-1\t3-1\tLost 1\n",
    "East Carolina\t5\t2\t7\t4\t370\t300\t4-1\t3-3\tWon 4\n",
    "UTSA\t4\t3\t6\t5\t363\t347\t6-0\t0-5\tWon 3\n",
    "South Fla.\t4\t3\t6\t5\t349\t313\t3-2\t3-2\tWon 2\n",
    "Charlotte\t3\t4\t4\t7\t255\t394\t2-3\t2-4\tWon 1\n",
    "North Texas\t2\t5\t5\t6\t384\t397\t3-3\t2-3\tLost 5\n",
    "UAB\t2\t5\t3\t8\t287\t382\t3-3\t0-5\tWon 1\n",
    "Rice\t2\t5\t3\t8\t231\t277\t3-2\t0-6\tLost 2\n",
    "Temple\t2\t5\t3\t8\t218\t401\t3-2\t0-6\tLost 1\n",
    "Tulsa\t1\t6\t3\t8\t284\t447\t2-3\t1-5\tLost 3\n",
    "Fla. Atlantic\t0\t7\t2\t9\t248\t347\t2-4\t0-5\tLost 6\"\"\"\n",
    "\n",
    "data_df = make_dataframe(arg=data)\n",
    "data_df['conference'] = 'The American'\n",
    "objs.append(data_df)"
   ]
  },
  {
   "cell_type": "markdown",
   "id": "5f1492d6",
   "metadata": {
    "papermill": {
     "duration": 0.006066,
     "end_time": "2024-11-30T16:11:00.921834",
     "exception": false,
     "start_time": "2024-11-30T16:11:00.915768",
     "status": "completed"
    },
    "tags": []
   },
   "source": [
    "Next let's build our big DataFrame, add the Pythagorean expectation, and calculate the actual winning percentage. Then let's take the geometric mean of those two winning percentages."
   ]
  },
  {
   "cell_type": "code",
   "execution_count": 13,
   "id": "5279f089",
   "metadata": {
    "execution": {
     "iopub.execute_input": "2024-11-30T16:11:00.935812Z",
     "iopub.status.busy": "2024-11-30T16:11:00.935388Z",
     "iopub.status.idle": "2024-11-30T16:11:00.952096Z",
     "shell.execute_reply": "2024-11-30T16:11:00.951089Z"
    },
    "papermill": {
     "duration": 0.026042,
     "end_time": "2024-11-30T16:11:00.954049",
     "exception": false,
     "start_time": "2024-11-30T16:11:00.928007",
     "status": "completed"
    },
    "tags": []
   },
   "outputs": [
    {
     "data": {
      "text/plain": [
       "134"
      ]
     },
     "execution_count": 13,
     "metadata": {},
     "output_type": "execute_result"
    }
   ],
   "source": [
    "import math\n",
    "import numpy as np\n",
    "\n",
    "NUMERATOR = 2.37\n",
    "\n",
    "df = pd.concat(objs=objs, axis='index')\n",
    "df['numerator'] = df['PF'].pow(NUMERATOR)\n",
    "df['denominator'] = df['PF'].pow(NUMERATOR) + df['PA'].pow(NUMERATOR)\n",
    "df['expectation'] = df['numerator']/df['denominator']\n",
    "df['overall'] = df['WOA'] / (df['WOA'] + df['LOA'])\n",
    "df['conference'] = df['WCONF'] / (df['WCONF'] + df['LCONF'])\n",
    "df['geomean'] = (df['expectation'] * df['overall']).apply(func=math.pow, args=(0.5,))\n",
    "len(df)"
   ]
  },
  {
   "cell_type": "markdown",
   "id": "fae1adb5",
   "metadata": {
    "papermill": {
     "duration": 0.006064,
     "end_time": "2024-11-30T16:11:00.966593",
     "exception": false,
     "start_time": "2024-11-30T16:11:00.960529",
     "status": "completed"
    },
    "tags": []
   },
   "source": [
    "What does our top 25 look like? What jumps out?"
   ]
  },
  {
   "cell_type": "code",
   "execution_count": 14,
   "id": "08262790",
   "metadata": {
    "execution": {
     "iopub.execute_input": "2024-11-30T16:11:00.981136Z",
     "iopub.status.busy": "2024-11-30T16:11:00.980198Z",
     "iopub.status.idle": "2024-11-30T16:11:01.018348Z",
     "shell.execute_reply": "2024-11-30T16:11:01.017327Z"
    },
    "papermill": {
     "duration": 0.047951,
     "end_time": "2024-11-30T16:11:01.020764",
     "exception": false,
     "start_time": "2024-11-30T16:11:00.972813",
     "status": "completed"
    },
    "tags": []
   },
   "outputs": [
    {
     "data": {
      "text/html": [
       "<div>\n",
       "<style scoped>\n",
       "    .dataframe tbody tr th:only-of-type {\n",
       "        vertical-align: middle;\n",
       "    }\n",
       "\n",
       "    .dataframe tbody tr th {\n",
       "        vertical-align: top;\n",
       "    }\n",
       "\n",
       "    .dataframe thead th {\n",
       "        text-align: right;\n",
       "    }\n",
       "</style>\n",
       "<table border=\"1\" class=\"dataframe\">\n",
       "  <thead>\n",
       "    <tr style=\"text-align: right;\">\n",
       "      <th></th>\n",
       "      <th>name</th>\n",
       "      <th>PF</th>\n",
       "      <th>PA</th>\n",
       "      <th>WOA</th>\n",
       "      <th>LOA</th>\n",
       "      <th>WCONF</th>\n",
       "      <th>LCONF</th>\n",
       "      <th>conference</th>\n",
       "      <th>expectation</th>\n",
       "      <th>overall</th>\n",
       "      <th>geomean</th>\n",
       "    </tr>\n",
       "  </thead>\n",
       "  <tbody>\n",
       "    <tr>\n",
       "      <th>2</th>\n",
       "      <td>Ohio St.</td>\n",
       "      <td>416.0</td>\n",
       "      <td>118.0</td>\n",
       "      <td>10.0</td>\n",
       "      <td>1.0</td>\n",
       "      <td>7.0</td>\n",
       "      <td>1.0</td>\n",
       "      <td>0.875000</td>\n",
       "      <td>0.951947</td>\n",
       "      <td>0.909091</td>\n",
       "      <td>0.930272</td>\n",
       "    </tr>\n",
       "    <tr>\n",
       "      <th>0</th>\n",
       "      <td>Oregon</td>\n",
       "      <td>373.0</td>\n",
       "      <td>173.0</td>\n",
       "      <td>11.0</td>\n",
       "      <td>0.0</td>\n",
       "      <td>8.0</td>\n",
       "      <td>0.0</td>\n",
       "      <td>1.000000</td>\n",
       "      <td>0.860667</td>\n",
       "      <td>1.000000</td>\n",
       "      <td>0.927721</td>\n",
       "    </tr>\n",
       "    <tr>\n",
       "      <th>0</th>\n",
       "      <td>Notre Dame</td>\n",
       "      <td>429.0</td>\n",
       "      <td>128.0</td>\n",
       "      <td>10.0</td>\n",
       "      <td>1.0</td>\n",
       "      <td>0.0</td>\n",
       "      <td>0.0</td>\n",
       "      <td>NaN</td>\n",
       "      <td>0.946157</td>\n",
       "      <td>0.909091</td>\n",
       "      <td>0.927439</td>\n",
       "    </tr>\n",
       "    <tr>\n",
       "      <th>0</th>\n",
       "      <td>Texas</td>\n",
       "      <td>401.0</td>\n",
       "      <td>133.0</td>\n",
       "      <td>10.0</td>\n",
       "      <td>1.0</td>\n",
       "      <td>6.0</td>\n",
       "      <td>1.0</td>\n",
       "      <td>0.857143</td>\n",
       "      <td>0.931856</td>\n",
       "      <td>0.909091</td>\n",
       "      <td>0.920403</td>\n",
       "    </tr>\n",
       "    <tr>\n",
       "      <th>1</th>\n",
       "      <td>Indiana</td>\n",
       "      <td>454.0</td>\n",
       "      <td>176.0</td>\n",
       "      <td>10.0</td>\n",
       "      <td>1.0</td>\n",
       "      <td>7.0</td>\n",
       "      <td>1.0</td>\n",
       "      <td>0.875000</td>\n",
       "      <td>0.904291</td>\n",
       "      <td>0.909091</td>\n",
       "      <td>0.906688</td>\n",
       "    </tr>\n",
       "    <tr>\n",
       "      <th>0</th>\n",
       "      <td>Army West Point</td>\n",
       "      <td>331.0</td>\n",
       "      <td>142.0</td>\n",
       "      <td>9.0</td>\n",
       "      <td>1.0</td>\n",
       "      <td>7.0</td>\n",
       "      <td>0.0</td>\n",
       "      <td>1.000000</td>\n",
       "      <td>0.881395</td>\n",
       "      <td>0.900000</td>\n",
       "      <td>0.890649</td>\n",
       "    </tr>\n",
       "    <tr>\n",
       "      <th>3</th>\n",
       "      <td>Penn St.</td>\n",
       "      <td>356.0</td>\n",
       "      <td>161.0</td>\n",
       "      <td>10.0</td>\n",
       "      <td>1.0</td>\n",
       "      <td>7.0</td>\n",
       "      <td>1.0</td>\n",
       "      <td>0.875000</td>\n",
       "      <td>0.867687</td>\n",
       "      <td>0.909091</td>\n",
       "      <td>0.888148</td>\n",
       "    </tr>\n",
       "    <tr>\n",
       "      <th>2</th>\n",
       "      <td>Miami (FL)</td>\n",
       "      <td>492.0</td>\n",
       "      <td>245.0</td>\n",
       "      <td>10.0</td>\n",
       "      <td>1.0</td>\n",
       "      <td>6.0</td>\n",
       "      <td>1.0</td>\n",
       "      <td>0.857143</td>\n",
       "      <td>0.839217</td>\n",
       "      <td>0.909091</td>\n",
       "      <td>0.873455</td>\n",
       "    </tr>\n",
       "    <tr>\n",
       "      <th>2</th>\n",
       "      <td>Tennessee</td>\n",
       "      <td>411.0</td>\n",
       "      <td>144.0</td>\n",
       "      <td>9.0</td>\n",
       "      <td>2.0</td>\n",
       "      <td>5.0</td>\n",
       "      <td>2.0</td>\n",
       "      <td>0.714286</td>\n",
       "      <td>0.923127</td>\n",
       "      <td>0.818182</td>\n",
       "      <td>0.869072</td>\n",
       "    </tr>\n",
       "    <tr>\n",
       "      <th>0</th>\n",
       "      <td>SMU</td>\n",
       "      <td>432.0</td>\n",
       "      <td>231.0</td>\n",
       "      <td>10.0</td>\n",
       "      <td>1.0</td>\n",
       "      <td>7.0</td>\n",
       "      <td>0.0</td>\n",
       "      <td>1.000000</td>\n",
       "      <td>0.815122</td>\n",
       "      <td>0.909091</td>\n",
       "      <td>0.860825</td>\n",
       "    </tr>\n",
       "    <tr>\n",
       "      <th>0</th>\n",
       "      <td>Boise St.</td>\n",
       "      <td>453.0</td>\n",
       "      <td>260.0</td>\n",
       "      <td>10.0</td>\n",
       "      <td>1.0</td>\n",
       "      <td>7.0</td>\n",
       "      <td>0.0</td>\n",
       "      <td>1.000000</td>\n",
       "      <td>0.788490</td>\n",
       "      <td>0.909091</td>\n",
       "      <td>0.846646</td>\n",
       "    </tr>\n",
       "    <tr>\n",
       "      <th>5</th>\n",
       "      <td>Ole Miss</td>\n",
       "      <td>424.0</td>\n",
       "      <td>153.0</td>\n",
       "      <td>8.0</td>\n",
       "      <td>3.0</td>\n",
       "      <td>4.0</td>\n",
       "      <td>3.0</td>\n",
       "      <td>0.571429</td>\n",
       "      <td>0.918019</td>\n",
       "      <td>0.727273</td>\n",
       "      <td>0.817099</td>\n",
       "    </tr>\n",
       "    <tr>\n",
       "      <th>1</th>\n",
       "      <td>Georgia</td>\n",
       "      <td>365.0</td>\n",
       "      <td>204.0</td>\n",
       "      <td>9.0</td>\n",
       "      <td>2.0</td>\n",
       "      <td>6.0</td>\n",
       "      <td>2.0</td>\n",
       "      <td>0.750000</td>\n",
       "      <td>0.798800</td>\n",
       "      <td>0.818182</td>\n",
       "      <td>0.808433</td>\n",
       "    </tr>\n",
       "    <tr>\n",
       "      <th>1</th>\n",
       "      <td>Tulane</td>\n",
       "      <td>469.0</td>\n",
       "      <td>221.0</td>\n",
       "      <td>9.0</td>\n",
       "      <td>3.0</td>\n",
       "      <td>7.0</td>\n",
       "      <td>1.0</td>\n",
       "      <td>0.875000</td>\n",
       "      <td>0.856102</td>\n",
       "      <td>0.750000</td>\n",
       "      <td>0.801297</td>\n",
       "    </tr>\n",
       "    <tr>\n",
       "      <th>1</th>\n",
       "      <td>Clemson</td>\n",
       "      <td>414.0</td>\n",
       "      <td>242.0</td>\n",
       "      <td>9.0</td>\n",
       "      <td>2.0</td>\n",
       "      <td>7.0</td>\n",
       "      <td>1.0</td>\n",
       "      <td>0.875000</td>\n",
       "      <td>0.781174</td>\n",
       "      <td>0.818182</td>\n",
       "      <td>0.799464</td>\n",
       "    </tr>\n",
       "    <tr>\n",
       "      <th>1</th>\n",
       "      <td>UNLV</td>\n",
       "      <td>426.0</td>\n",
       "      <td>250.0</td>\n",
       "      <td>9.0</td>\n",
       "      <td>2.0</td>\n",
       "      <td>5.0</td>\n",
       "      <td>1.0</td>\n",
       "      <td>0.833333</td>\n",
       "      <td>0.779569</td>\n",
       "      <td>0.818182</td>\n",
       "      <td>0.798642</td>\n",
       "    </tr>\n",
       "    <tr>\n",
       "      <th>0</th>\n",
       "      <td>Iowa St.</td>\n",
       "      <td>345.0</td>\n",
       "      <td>214.0</td>\n",
       "      <td>9.0</td>\n",
       "      <td>2.0</td>\n",
       "      <td>6.0</td>\n",
       "      <td>2.0</td>\n",
       "      <td>0.750000</td>\n",
       "      <td>0.756178</td>\n",
       "      <td>0.818182</td>\n",
       "      <td>0.786569</td>\n",
       "    </tr>\n",
       "    <tr>\n",
       "      <th>6</th>\n",
       "      <td>Alabama</td>\n",
       "      <td>398.0</td>\n",
       "      <td>193.0</td>\n",
       "      <td>8.0</td>\n",
       "      <td>3.0</td>\n",
       "      <td>4.0</td>\n",
       "      <td>3.0</td>\n",
       "      <td>0.571429</td>\n",
       "      <td>0.847524</td>\n",
       "      <td>0.727273</td>\n",
       "      <td>0.785100</td>\n",
       "    </tr>\n",
       "    <tr>\n",
       "      <th>2</th>\n",
       "      <td>Memphis</td>\n",
       "      <td>422.0</td>\n",
       "      <td>273.0</td>\n",
       "      <td>10.0</td>\n",
       "      <td>2.0</td>\n",
       "      <td>6.0</td>\n",
       "      <td>2.0</td>\n",
       "      <td>0.750000</td>\n",
       "      <td>0.737345</td>\n",
       "      <td>0.833333</td>\n",
       "      <td>0.783871</td>\n",
       "    </tr>\n",
       "    <tr>\n",
       "      <th>7</th>\n",
       "      <td>Louisiana</td>\n",
       "      <td>390.0</td>\n",
       "      <td>250.0</td>\n",
       "      <td>9.0</td>\n",
       "      <td>2.0</td>\n",
       "      <td>6.0</td>\n",
       "      <td>1.0</td>\n",
       "      <td>0.857143</td>\n",
       "      <td>0.741524</td>\n",
       "      <td>0.818182</td>\n",
       "      <td>0.778910</td>\n",
       "    </tr>\n",
       "    <tr>\n",
       "      <th>1</th>\n",
       "      <td>BYU</td>\n",
       "      <td>339.0</td>\n",
       "      <td>223.0</td>\n",
       "      <td>9.0</td>\n",
       "      <td>2.0</td>\n",
       "      <td>6.0</td>\n",
       "      <td>2.0</td>\n",
       "      <td>0.750000</td>\n",
       "      <td>0.729606</td>\n",
       "      <td>0.818182</td>\n",
       "      <td>0.772625</td>\n",
       "    </tr>\n",
       "    <tr>\n",
       "      <th>4</th>\n",
       "      <td>South Carolina</td>\n",
       "      <td>362.0</td>\n",
       "      <td>200.0</td>\n",
       "      <td>8.0</td>\n",
       "      <td>3.0</td>\n",
       "      <td>5.0</td>\n",
       "      <td>3.0</td>\n",
       "      <td>0.625000</td>\n",
       "      <td>0.803163</td>\n",
       "      <td>0.727273</td>\n",
       "      <td>0.764277</td>\n",
       "    </tr>\n",
       "    <tr>\n",
       "      <th>2</th>\n",
       "      <td>James Madison</td>\n",
       "      <td>373.0</td>\n",
       "      <td>214.0</td>\n",
       "      <td>8.0</td>\n",
       "      <td>3.0</td>\n",
       "      <td>4.0</td>\n",
       "      <td>3.0</td>\n",
       "      <td>0.571429</td>\n",
       "      <td>0.788645</td>\n",
       "      <td>0.727273</td>\n",
       "      <td>0.757337</td>\n",
       "    </tr>\n",
       "    <tr>\n",
       "      <th>2</th>\n",
       "      <td>Arizona St.</td>\n",
       "      <td>336.0</td>\n",
       "      <td>251.0</td>\n",
       "      <td>9.0</td>\n",
       "      <td>2.0</td>\n",
       "      <td>6.0</td>\n",
       "      <td>2.0</td>\n",
       "      <td>0.750000</td>\n",
       "      <td>0.666240</td>\n",
       "      <td>0.818182</td>\n",
       "      <td>0.738313</td>\n",
       "    </tr>\n",
       "    <tr>\n",
       "      <th>1</th>\n",
       "      <td>Liberty</td>\n",
       "      <td>320.0</td>\n",
       "      <td>236.0</td>\n",
       "      <td>8.0</td>\n",
       "      <td>2.0</td>\n",
       "      <td>5.0</td>\n",
       "      <td>2.0</td>\n",
       "      <td>0.714286</td>\n",
       "      <td>0.672968</td>\n",
       "      <td>0.800000</td>\n",
       "      <td>0.733740</td>\n",
       "    </tr>\n",
       "  </tbody>\n",
       "</table>\n",
       "</div>"
      ],
      "text/plain": [
       "              name     PF     PA   WOA  LOA  WCONF  LCONF  conference  \\\n",
       "2         Ohio St.  416.0  118.0  10.0  1.0    7.0    1.0    0.875000   \n",
       "0           Oregon  373.0  173.0  11.0  0.0    8.0    0.0    1.000000   \n",
       "0       Notre Dame  429.0  128.0  10.0  1.0    0.0    0.0         NaN   \n",
       "0            Texas  401.0  133.0  10.0  1.0    6.0    1.0    0.857143   \n",
       "1          Indiana  454.0  176.0  10.0  1.0    7.0    1.0    0.875000   \n",
       "0  Army West Point  331.0  142.0   9.0  1.0    7.0    0.0    1.000000   \n",
       "3         Penn St.  356.0  161.0  10.0  1.0    7.0    1.0    0.875000   \n",
       "2       Miami (FL)  492.0  245.0  10.0  1.0    6.0    1.0    0.857143   \n",
       "2        Tennessee  411.0  144.0   9.0  2.0    5.0    2.0    0.714286   \n",
       "0              SMU  432.0  231.0  10.0  1.0    7.0    0.0    1.000000   \n",
       "0        Boise St.  453.0  260.0  10.0  1.0    7.0    0.0    1.000000   \n",
       "5         Ole Miss  424.0  153.0   8.0  3.0    4.0    3.0    0.571429   \n",
       "1          Georgia  365.0  204.0   9.0  2.0    6.0    2.0    0.750000   \n",
       "1           Tulane  469.0  221.0   9.0  3.0    7.0    1.0    0.875000   \n",
       "1          Clemson  414.0  242.0   9.0  2.0    7.0    1.0    0.875000   \n",
       "1             UNLV  426.0  250.0   9.0  2.0    5.0    1.0    0.833333   \n",
       "0         Iowa St.  345.0  214.0   9.0  2.0    6.0    2.0    0.750000   \n",
       "6          Alabama  398.0  193.0   8.0  3.0    4.0    3.0    0.571429   \n",
       "2          Memphis  422.0  273.0  10.0  2.0    6.0    2.0    0.750000   \n",
       "7        Louisiana  390.0  250.0   9.0  2.0    6.0    1.0    0.857143   \n",
       "1              BYU  339.0  223.0   9.0  2.0    6.0    2.0    0.750000   \n",
       "4   South Carolina  362.0  200.0   8.0  3.0    5.0    3.0    0.625000   \n",
       "2    James Madison  373.0  214.0   8.0  3.0    4.0    3.0    0.571429   \n",
       "2      Arizona St.  336.0  251.0   9.0  2.0    6.0    2.0    0.750000   \n",
       "1          Liberty  320.0  236.0   8.0  2.0    5.0    2.0    0.714286   \n",
       "\n",
       "   expectation   overall   geomean  \n",
       "2     0.951947  0.909091  0.930272  \n",
       "0     0.860667  1.000000  0.927721  \n",
       "0     0.946157  0.909091  0.927439  \n",
       "0     0.931856  0.909091  0.920403  \n",
       "1     0.904291  0.909091  0.906688  \n",
       "0     0.881395  0.900000  0.890649  \n",
       "3     0.867687  0.909091  0.888148  \n",
       "2     0.839217  0.909091  0.873455  \n",
       "2     0.923127  0.818182  0.869072  \n",
       "0     0.815122  0.909091  0.860825  \n",
       "0     0.788490  0.909091  0.846646  \n",
       "5     0.918019  0.727273  0.817099  \n",
       "1     0.798800  0.818182  0.808433  \n",
       "1     0.856102  0.750000  0.801297  \n",
       "1     0.781174  0.818182  0.799464  \n",
       "1     0.779569  0.818182  0.798642  \n",
       "0     0.756178  0.818182  0.786569  \n",
       "6     0.847524  0.727273  0.785100  \n",
       "2     0.737345  0.833333  0.783871  \n",
       "7     0.741524  0.818182  0.778910  \n",
       "1     0.729606  0.818182  0.772625  \n",
       "4     0.803163  0.727273  0.764277  \n",
       "2     0.788645  0.727273  0.757337  \n",
       "2     0.666240  0.818182  0.738313  \n",
       "1     0.672968  0.800000  0.733740  "
      ]
     },
     "execution_count": 14,
     "metadata": {},
     "output_type": "execute_result"
    }
   ],
   "source": [
    "df.drop(columns=['numerator', 'denominator']).sort_values(ascending=False, by='geomean').head(n=25)"
   ]
  },
  {
   "cell_type": "markdown",
   "id": "c9c2d2f0",
   "metadata": {
    "papermill": {
     "duration": 0.006747,
     "end_time": "2024-11-30T16:11:01.034815",
     "exception": false,
     "start_time": "2024-11-30T16:11:01.028068",
     "status": "completed"
    },
    "tags": []
   },
   "source": [
    "This is overall a pretty good approximation of the official Top 25, we've got more than 20 of the real top 25 teams, but of course we've got lots of them in the wrong order. Let's add the actual Top 25 data and see what teams we missed."
   ]
  },
  {
   "cell_type": "code",
   "execution_count": 15,
   "id": "e538e313",
   "metadata": {
    "execution": {
     "iopub.execute_input": "2024-11-30T16:11:01.050433Z",
     "iopub.status.busy": "2024-11-30T16:11:01.050048Z",
     "iopub.status.idle": "2024-11-30T16:11:01.056702Z",
     "shell.execute_reply": "2024-11-30T16:11:01.055659Z"
    },
    "papermill": {
     "duration": 0.017067,
     "end_time": "2024-11-30T16:11:01.058889",
     "exception": false,
     "start_time": "2024-11-30T16:11:01.041822",
     "status": "completed"
    },
    "tags": []
   },
   "outputs": [
    {
     "name": "stdout",
     "output_type": "stream",
     "text": [
      "['Oregon', 'Ohio State', 'Texas', 'Penn State', 'Notre Dame', 'Miami', 'Georgia', 'Tennessee', 'SMU', 'Indiana', 'Boise State', 'Clemson', 'Alabama', 'Ole Miss', 'South Carolina', 'Arizona State', 'Tulane', 'Iowa State', 'BYU', 'Texas A&M', 'Missouri', 'UNLV', 'Illinois', 'Kansas State', 'Colorado']\n"
     ]
    }
   ],
   "source": [
    "actual = \"\"\"1\tOregon\t11-0\t1\t\t\t\t\t\t\t\t\n",
    "2\tOhio State\t10-1\t2\t\t\t\t\t\t\t\t\n",
    "3\tTexas\t10-1\t3\t\t\t\t\t\t\t\t\n",
    "4\tPenn State\t10-1\t4\t\t\t\t\t\t\t\t\n",
    "5\tNotre Dame\t10-1\t6\t\t\t\t\t\t\t\t\n",
    "6\tMiami\t10-1\t8\t\t\t\t\t\t\t\t\n",
    "7\tGeorgia\t9-2\t10\t\t\t\t\t\t\t\t\n",
    "8\tTennessee\t9-2\t11\t\t\t\t\t\t\t\t\n",
    "9\tSMU\t10-1\t13\t\t\t\t\t\t\t\t\n",
    "10\tIndiana\t10-1\t5\t\t\t\t\t\t\t\t\n",
    "11\tBoise State\t10-1\t12\t\t\t\t\t\t\t\t\n",
    "12\tClemson\t9-2\t17\t\t\t\t\t\t\t\t\n",
    "13\tAlabama\t8-3\t7\t\t\t\t\t\t\t\t\n",
    "14\tOle Miss\t8-3\t9\t\t\t\t\t\t\t\t\n",
    "15\tSouth Carolina\t8-3\t18\t\t\t\t\t\t\t\t\n",
    "16\tArizona State\t9-2\t21\t\t\t\t\t\t\t\t\n",
    "17\tTulane\t9-2\t20\t\t\t\t\t\t\t\t\n",
    "18\tIowa State\t9-2\t22\t\t\t\t\t\t\t\t\n",
    "19\tBYU\t9-2\t14\t\t\t\t\t\t\t\t\n",
    "20\tTexas A&M\t8-3\t15\t\t\t\t\t\t\t\t\n",
    "21\tMissouri\t8-3\t23\t\t\t\t\t\t\t\t\n",
    "22\tUNLV\t9-2\t24\t\t\t\t\t\t\t\t\n",
    "23\tIllinois\t8-3\t25\t\t\t\t\t\t\t\t\n",
    "24\tKansas State\t8-3\tNR\t\t\t\t\t\t\t\t\n",
    "25\tColorado\t8-3\t16\"\"\"\n",
    "actual_top_25 = [item.split('\\t')[1] for item in actual.split('\\n')]\n",
    "print(actual_top_25)"
   ]
  },
  {
   "cell_type": "code",
   "execution_count": 16,
   "id": "93687127",
   "metadata": {
    "execution": {
     "iopub.execute_input": "2024-11-30T16:11:01.074813Z",
     "iopub.status.busy": "2024-11-30T16:11:01.073958Z",
     "iopub.status.idle": "2024-11-30T16:11:01.082891Z",
     "shell.execute_reply": "2024-11-30T16:11:01.081556Z"
    },
    "papermill": {
     "duration": 0.019453,
     "end_time": "2024-11-30T16:11:01.085314",
     "exception": false,
     "start_time": "2024-11-30T16:11:01.065861",
     "status": "completed"
    },
    "tags": []
   },
   "outputs": [
    {
     "name": "stdout",
     "output_type": "stream",
     "text": [
      "['Army West Point', 'Memphis', 'Louisiana', 'James Madison', 'Liberty']\n"
     ]
    }
   ],
   "source": [
    "print([item for item in df.sort_values(ascending=False, by='geomean').head(n=25)['name'].tolist() if item.replace(' St.', ' State').replace('Miami (FL)', 'Miami') not in actual_top_25])"
   ]
  },
  {
   "cell_type": "markdown",
   "id": "f34fe7f6",
   "metadata": {
    "papermill": {
     "duration": 0.006883,
     "end_time": "2024-11-30T16:11:01.100110",
     "exception": false,
     "start_time": "2024-11-30T16:11:01.093227",
     "status": "completed"
    },
    "tags": []
   },
   "source": [
    "We have five teams in that are out."
   ]
  },
  {
   "cell_type": "code",
   "execution_count": 17,
   "id": "f2b9720d",
   "metadata": {
    "execution": {
     "iopub.execute_input": "2024-11-30T16:11:01.116377Z",
     "iopub.status.busy": "2024-11-30T16:11:01.116001Z",
     "iopub.status.idle": "2024-11-30T16:11:01.134659Z",
     "shell.execute_reply": "2024-11-30T16:11:01.133345Z"
    },
    "papermill": {
     "duration": 0.029199,
     "end_time": "2024-11-30T16:11:01.136937",
     "exception": false,
     "start_time": "2024-11-30T16:11:01.107738",
     "status": "completed"
    },
    "tags": []
   },
   "outputs": [
    {
     "name": "stdout",
     "output_type": "stream",
     "text": [
      "['Texas A&M', 'Missouri', 'Illinois', 'Kansas State', 'Colorado']\n"
     ]
    }
   ],
   "source": [
    "print([item for item in actual_top_25 if item.replace(' State', ' St.').replace('Miami', 'Miami (FL)') not in df.sort_values(ascending=False, by='geomean').head(n=25)['name'].tolist()])"
   ]
  },
  {
   "cell_type": "markdown",
   "id": "2f472ce0",
   "metadata": {
    "papermill": {
     "duration": 0.006656,
     "end_time": "2024-11-30T16:11:01.150590",
     "exception": false,
     "start_time": "2024-11-30T16:11:01.143934",
     "status": "completed"
    },
    "tags": []
   },
   "source": [
    "And we have five teams out that are in."
   ]
  },
  {
   "cell_type": "markdown",
   "id": "daae8556",
   "metadata": {
    "papermill": {
     "duration": 0.006783,
     "end_time": "2024-11-30T16:11:01.164589",
     "exception": false,
     "start_time": "2024-11-30T16:11:01.157806",
     "status": "completed"
    },
    "tags": []
   },
   "source": [
    "Let's take a look at our bottom 25."
   ]
  },
  {
   "cell_type": "code",
   "execution_count": 18,
   "id": "e9e8c4b6",
   "metadata": {
    "execution": {
     "iopub.execute_input": "2024-11-30T16:11:01.180058Z",
     "iopub.status.busy": "2024-11-30T16:11:01.179720Z",
     "iopub.status.idle": "2024-11-30T16:11:01.209370Z",
     "shell.execute_reply": "2024-11-30T16:11:01.207859Z"
    },
    "papermill": {
     "duration": 0.040212,
     "end_time": "2024-11-30T16:11:01.211679",
     "exception": false,
     "start_time": "2024-11-30T16:11:01.171467",
     "status": "completed"
    },
    "tags": []
   },
   "outputs": [
    {
     "data": {
      "text/html": [
       "<div>\n",
       "<style scoped>\n",
       "    .dataframe tbody tr th:only-of-type {\n",
       "        vertical-align: middle;\n",
       "    }\n",
       "\n",
       "    .dataframe tbody tr th {\n",
       "        vertical-align: top;\n",
       "    }\n",
       "\n",
       "    .dataframe thead th {\n",
       "        text-align: right;\n",
       "    }\n",
       "</style>\n",
       "<table border=\"1\" class=\"dataframe\">\n",
       "  <thead>\n",
       "    <tr style=\"text-align: right;\">\n",
       "      <th></th>\n",
       "      <th>name</th>\n",
       "      <th>PF</th>\n",
       "      <th>PA</th>\n",
       "      <th>WOA</th>\n",
       "      <th>LOA</th>\n",
       "      <th>WCONF</th>\n",
       "      <th>LCONF</th>\n",
       "      <th>conference</th>\n",
       "      <th>expectation</th>\n",
       "      <th>overall</th>\n",
       "      <th>geomean</th>\n",
       "    </tr>\n",
       "  </thead>\n",
       "  <tbody>\n",
       "    <tr>\n",
       "      <th>11</th>\n",
       "      <td>Kent St.</td>\n",
       "      <td>167.0</td>\n",
       "      <td>529.0</td>\n",
       "      <td>0.0</td>\n",
       "      <td>12.0</td>\n",
       "      <td>0.0</td>\n",
       "      <td>8.0</td>\n",
       "      <td>0.000000</td>\n",
       "      <td>0.061077</td>\n",
       "      <td>0.000000</td>\n",
       "      <td>0.000000</td>\n",
       "    </tr>\n",
       "    <tr>\n",
       "      <th>13</th>\n",
       "      <td>Southern Miss.</td>\n",
       "      <td>163.0</td>\n",
       "      <td>401.0</td>\n",
       "      <td>1.0</td>\n",
       "      <td>10.0</td>\n",
       "      <td>0.0</td>\n",
       "      <td>7.0</td>\n",
       "      <td>0.000000</td>\n",
       "      <td>0.105883</td>\n",
       "      <td>0.090909</td>\n",
       "      <td>0.098111</td>\n",
       "    </tr>\n",
       "    <tr>\n",
       "      <th>17</th>\n",
       "      <td>Purdue</td>\n",
       "      <td>189.0</td>\n",
       "      <td>413.0</td>\n",
       "      <td>1.0</td>\n",
       "      <td>10.0</td>\n",
       "      <td>0.0</td>\n",
       "      <td>8.0</td>\n",
       "      <td>0.000000</td>\n",
       "      <td>0.135564</td>\n",
       "      <td>0.090909</td>\n",
       "      <td>0.111014</td>\n",
       "    </tr>\n",
       "    <tr>\n",
       "      <th>9</th>\n",
       "      <td>UTEP</td>\n",
       "      <td>192.0</td>\n",
       "      <td>353.0</td>\n",
       "      <td>2.0</td>\n",
       "      <td>9.0</td>\n",
       "      <td>2.0</td>\n",
       "      <td>5.0</td>\n",
       "      <td>0.285714</td>\n",
       "      <td>0.191040</td>\n",
       "      <td>0.181818</td>\n",
       "      <td>0.186372</td>\n",
       "    </tr>\n",
       "    <tr>\n",
       "      <th>16</th>\n",
       "      <td>Florida St.</td>\n",
       "      <td>174.0</td>\n",
       "      <td>305.0</td>\n",
       "      <td>2.0</td>\n",
       "      <td>9.0</td>\n",
       "      <td>1.0</td>\n",
       "      <td>7.0</td>\n",
       "      <td>0.125000</td>\n",
       "      <td>0.209130</td>\n",
       "      <td>0.181818</td>\n",
       "      <td>0.194996</td>\n",
       "    </tr>\n",
       "    <tr>\n",
       "      <th>8</th>\n",
       "      <td>Kennesaw St.</td>\n",
       "      <td>198.0</td>\n",
       "      <td>341.0</td>\n",
       "      <td>2.0</td>\n",
       "      <td>9.0</td>\n",
       "      <td>2.0</td>\n",
       "      <td>5.0</td>\n",
       "      <td>0.285714</td>\n",
       "      <td>0.216129</td>\n",
       "      <td>0.181818</td>\n",
       "      <td>0.198233</td>\n",
       "    </tr>\n",
       "    <tr>\n",
       "      <th>2</th>\n",
       "      <td>Massachusetts</td>\n",
       "      <td>228.0</td>\n",
       "      <td>379.0</td>\n",
       "      <td>2.0</td>\n",
       "      <td>9.0</td>\n",
       "      <td>0.0</td>\n",
       "      <td>0.0</td>\n",
       "      <td>NaN</td>\n",
       "      <td>0.230691</td>\n",
       "      <td>0.181818</td>\n",
       "      <td>0.204802</td>\n",
       "    </tr>\n",
       "    <tr>\n",
       "      <th>7</th>\n",
       "      <td>Middle Tenn.</td>\n",
       "      <td>193.0</td>\n",
       "      <td>376.0</td>\n",
       "      <td>3.0</td>\n",
       "      <td>8.0</td>\n",
       "      <td>2.0</td>\n",
       "      <td>5.0</td>\n",
       "      <td>0.285714</td>\n",
       "      <td>0.170718</td>\n",
       "      <td>0.272727</td>\n",
       "      <td>0.215776</td>\n",
       "    </tr>\n",
       "    <tr>\n",
       "      <th>10</th>\n",
       "      <td>Wyoming</td>\n",
       "      <td>217.0</td>\n",
       "      <td>326.0</td>\n",
       "      <td>2.0</td>\n",
       "      <td>9.0</td>\n",
       "      <td>2.0</td>\n",
       "      <td>5.0</td>\n",
       "      <td>0.285714</td>\n",
       "      <td>0.275960</td>\n",
       "      <td>0.181818</td>\n",
       "      <td>0.223997</td>\n",
       "    </tr>\n",
       "    <tr>\n",
       "      <th>11</th>\n",
       "      <td>Temple</td>\n",
       "      <td>218.0</td>\n",
       "      <td>401.0</td>\n",
       "      <td>3.0</td>\n",
       "      <td>8.0</td>\n",
       "      <td>2.0</td>\n",
       "      <td>5.0</td>\n",
       "      <td>0.285714</td>\n",
       "      <td>0.190859</td>\n",
       "      <td>0.272727</td>\n",
       "      <td>0.228150</td>\n",
       "    </tr>\n",
       "    <tr>\n",
       "      <th>13</th>\n",
       "      <td>Fla. Atlantic</td>\n",
       "      <td>248.0</td>\n",
       "      <td>347.0</td>\n",
       "      <td>2.0</td>\n",
       "      <td>9.0</td>\n",
       "      <td>0.0</td>\n",
       "      <td>7.0</td>\n",
       "      <td>0.000000</td>\n",
       "      <td>0.310866</td>\n",
       "      <td>0.181818</td>\n",
       "      <td>0.237742</td>\n",
       "    </tr>\n",
       "    <tr>\n",
       "      <th>6</th>\n",
       "      <td>New Mexico St.</td>\n",
       "      <td>224.0</td>\n",
       "      <td>393.0</td>\n",
       "      <td>3.0</td>\n",
       "      <td>8.0</td>\n",
       "      <td>2.0</td>\n",
       "      <td>5.0</td>\n",
       "      <td>0.285714</td>\n",
       "      <td>0.208775</td>\n",
       "      <td>0.272727</td>\n",
       "      <td>0.238618</td>\n",
       "    </tr>\n",
       "    <tr>\n",
       "      <th>15</th>\n",
       "      <td>Mississippi St.</td>\n",
       "      <td>296.0</td>\n",
       "      <td>383.0</td>\n",
       "      <td>2.0</td>\n",
       "      <td>9.0</td>\n",
       "      <td>0.0</td>\n",
       "      <td>7.0</td>\n",
       "      <td>0.000000</td>\n",
       "      <td>0.351902</td>\n",
       "      <td>0.181818</td>\n",
       "      <td>0.252947</td>\n",
       "    </tr>\n",
       "    <tr>\n",
       "      <th>12</th>\n",
       "      <td>Tulsa</td>\n",
       "      <td>284.0</td>\n",
       "      <td>447.0</td>\n",
       "      <td>3.0</td>\n",
       "      <td>8.0</td>\n",
       "      <td>1.0</td>\n",
       "      <td>6.0</td>\n",
       "      <td>0.142857</td>\n",
       "      <td>0.254454</td>\n",
       "      <td>0.272727</td>\n",
       "      <td>0.263432</td>\n",
       "    </tr>\n",
       "    <tr>\n",
       "      <th>10</th>\n",
       "      <td>Ball St.</td>\n",
       "      <td>283.0</td>\n",
       "      <td>439.0</td>\n",
       "      <td>3.0</td>\n",
       "      <td>8.0</td>\n",
       "      <td>2.0</td>\n",
       "      <td>5.0</td>\n",
       "      <td>0.285714</td>\n",
       "      <td>0.261043</td>\n",
       "      <td>0.272727</td>\n",
       "      <td>0.266821</td>\n",
       "    </tr>\n",
       "    <tr>\n",
       "      <th>15</th>\n",
       "      <td>Stanford</td>\n",
       "      <td>243.0</td>\n",
       "      <td>370.0</td>\n",
       "      <td>3.0</td>\n",
       "      <td>8.0</td>\n",
       "      <td>2.0</td>\n",
       "      <td>6.0</td>\n",
       "      <td>0.250000</td>\n",
       "      <td>0.269641</td>\n",
       "      <td>0.272727</td>\n",
       "      <td>0.271180</td>\n",
       "    </tr>\n",
       "    <tr>\n",
       "      <th>7</th>\n",
       "      <td>Akron</td>\n",
       "      <td>245.0</td>\n",
       "      <td>384.0</td>\n",
       "      <td>4.0</td>\n",
       "      <td>8.0</td>\n",
       "      <td>3.0</td>\n",
       "      <td>5.0</td>\n",
       "      <td>0.375000</td>\n",
       "      <td>0.256347</td>\n",
       "      <td>0.333333</td>\n",
       "      <td>0.292317</td>\n",
       "    </tr>\n",
       "    <tr>\n",
       "      <th>6</th>\n",
       "      <td>Georgia St.</td>\n",
       "      <td>259.0</td>\n",
       "      <td>358.0</td>\n",
       "      <td>3.0</td>\n",
       "      <td>8.0</td>\n",
       "      <td>1.0</td>\n",
       "      <td>6.0</td>\n",
       "      <td>0.142857</td>\n",
       "      <td>0.317089</td>\n",
       "      <td>0.272727</td>\n",
       "      <td>0.294073</td>\n",
       "    </tr>\n",
       "    <tr>\n",
       "      <th>11</th>\n",
       "      <td>Houston</td>\n",
       "      <td>150.0</td>\n",
       "      <td>245.0</td>\n",
       "      <td>4.0</td>\n",
       "      <td>7.0</td>\n",
       "      <td>3.0</td>\n",
       "      <td>5.0</td>\n",
       "      <td>0.375000</td>\n",
       "      <td>0.238163</td>\n",
       "      <td>0.363636</td>\n",
       "      <td>0.294287</td>\n",
       "    </tr>\n",
       "    <tr>\n",
       "      <th>9</th>\n",
       "      <td>San Diego St.</td>\n",
       "      <td>236.0</td>\n",
       "      <td>324.0</td>\n",
       "      <td>3.0</td>\n",
       "      <td>8.0</td>\n",
       "      <td>2.0</td>\n",
       "      <td>4.0</td>\n",
       "      <td>0.333333</td>\n",
       "      <td>0.320586</td>\n",
       "      <td>0.272727</td>\n",
       "      <td>0.295690</td>\n",
       "    </tr>\n",
       "    <tr>\n",
       "      <th>9</th>\n",
       "      <td>UAB</td>\n",
       "      <td>287.0</td>\n",
       "      <td>382.0</td>\n",
       "      <td>3.0</td>\n",
       "      <td>8.0</td>\n",
       "      <td>2.0</td>\n",
       "      <td>5.0</td>\n",
       "      <td>0.285714</td>\n",
       "      <td>0.336781</td>\n",
       "      <td>0.272727</td>\n",
       "      <td>0.303066</td>\n",
       "    </tr>\n",
       "    <tr>\n",
       "      <th>7</th>\n",
       "      <td>Charlotte</td>\n",
       "      <td>255.0</td>\n",
       "      <td>394.0</td>\n",
       "      <td>4.0</td>\n",
       "      <td>7.0</td>\n",
       "      <td>3.0</td>\n",
       "      <td>4.0</td>\n",
       "      <td>0.428571</td>\n",
       "      <td>0.262860</td>\n",
       "      <td>0.363636</td>\n",
       "      <td>0.309169</td>\n",
       "    </tr>\n",
       "    <tr>\n",
       "      <th>15</th>\n",
       "      <td>Northwestern</td>\n",
       "      <td>186.0</td>\n",
       "      <td>278.0</td>\n",
       "      <td>4.0</td>\n",
       "      <td>7.0</td>\n",
       "      <td>2.0</td>\n",
       "      <td>6.0</td>\n",
       "      <td>0.250000</td>\n",
       "      <td>0.278394</td>\n",
       "      <td>0.363636</td>\n",
       "      <td>0.318173</td>\n",
       "    </tr>\n",
       "    <tr>\n",
       "      <th>11</th>\n",
       "      <td>Nevada</td>\n",
       "      <td>286.0</td>\n",
       "      <td>336.0</td>\n",
       "      <td>3.0</td>\n",
       "      <td>9.0</td>\n",
       "      <td>0.0</td>\n",
       "      <td>6.0</td>\n",
       "      <td>0.000000</td>\n",
       "      <td>0.405680</td>\n",
       "      <td>0.250000</td>\n",
       "      <td>0.318465</td>\n",
       "    </tr>\n",
       "    <tr>\n",
       "      <th>12</th>\n",
       "      <td>Troy</td>\n",
       "      <td>260.0</td>\n",
       "      <td>321.0</td>\n",
       "      <td>3.0</td>\n",
       "      <td>8.0</td>\n",
       "      <td>2.0</td>\n",
       "      <td>5.0</td>\n",
       "      <td>0.285714</td>\n",
       "      <td>0.377658</td>\n",
       "      <td>0.272727</td>\n",
       "      <td>0.320933</td>\n",
       "    </tr>\n",
       "  </tbody>\n",
       "</table>\n",
       "</div>"
      ],
      "text/plain": [
       "               name     PF     PA  WOA   LOA  WCONF  LCONF  conference  \\\n",
       "11         Kent St.  167.0  529.0  0.0  12.0    0.0    8.0    0.000000   \n",
       "13   Southern Miss.  163.0  401.0  1.0  10.0    0.0    7.0    0.000000   \n",
       "17           Purdue  189.0  413.0  1.0  10.0    0.0    8.0    0.000000   \n",
       "9              UTEP  192.0  353.0  2.0   9.0    2.0    5.0    0.285714   \n",
       "16      Florida St.  174.0  305.0  2.0   9.0    1.0    7.0    0.125000   \n",
       "8      Kennesaw St.  198.0  341.0  2.0   9.0    2.0    5.0    0.285714   \n",
       "2     Massachusetts  228.0  379.0  2.0   9.0    0.0    0.0         NaN   \n",
       "7      Middle Tenn.  193.0  376.0  3.0   8.0    2.0    5.0    0.285714   \n",
       "10          Wyoming  217.0  326.0  2.0   9.0    2.0    5.0    0.285714   \n",
       "11           Temple  218.0  401.0  3.0   8.0    2.0    5.0    0.285714   \n",
       "13    Fla. Atlantic  248.0  347.0  2.0   9.0    0.0    7.0    0.000000   \n",
       "6    New Mexico St.  224.0  393.0  3.0   8.0    2.0    5.0    0.285714   \n",
       "15  Mississippi St.  296.0  383.0  2.0   9.0    0.0    7.0    0.000000   \n",
       "12            Tulsa  284.0  447.0  3.0   8.0    1.0    6.0    0.142857   \n",
       "10         Ball St.  283.0  439.0  3.0   8.0    2.0    5.0    0.285714   \n",
       "15         Stanford  243.0  370.0  3.0   8.0    2.0    6.0    0.250000   \n",
       "7             Akron  245.0  384.0  4.0   8.0    3.0    5.0    0.375000   \n",
       "6       Georgia St.  259.0  358.0  3.0   8.0    1.0    6.0    0.142857   \n",
       "11          Houston  150.0  245.0  4.0   7.0    3.0    5.0    0.375000   \n",
       "9     San Diego St.  236.0  324.0  3.0   8.0    2.0    4.0    0.333333   \n",
       "9               UAB  287.0  382.0  3.0   8.0    2.0    5.0    0.285714   \n",
       "7         Charlotte  255.0  394.0  4.0   7.0    3.0    4.0    0.428571   \n",
       "15     Northwestern  186.0  278.0  4.0   7.0    2.0    6.0    0.250000   \n",
       "11           Nevada  286.0  336.0  3.0   9.0    0.0    6.0    0.000000   \n",
       "12             Troy  260.0  321.0  3.0   8.0    2.0    5.0    0.285714   \n",
       "\n",
       "    expectation   overall   geomean  \n",
       "11     0.061077  0.000000  0.000000  \n",
       "13     0.105883  0.090909  0.098111  \n",
       "17     0.135564  0.090909  0.111014  \n",
       "9      0.191040  0.181818  0.186372  \n",
       "16     0.209130  0.181818  0.194996  \n",
       "8      0.216129  0.181818  0.198233  \n",
       "2      0.230691  0.181818  0.204802  \n",
       "7      0.170718  0.272727  0.215776  \n",
       "10     0.275960  0.181818  0.223997  \n",
       "11     0.190859  0.272727  0.228150  \n",
       "13     0.310866  0.181818  0.237742  \n",
       "6      0.208775  0.272727  0.238618  \n",
       "15     0.351902  0.181818  0.252947  \n",
       "12     0.254454  0.272727  0.263432  \n",
       "10     0.261043  0.272727  0.266821  \n",
       "15     0.269641  0.272727  0.271180  \n",
       "7      0.256347  0.333333  0.292317  \n",
       "6      0.317089  0.272727  0.294073  \n",
       "11     0.238163  0.363636  0.294287  \n",
       "9      0.320586  0.272727  0.295690  \n",
       "9      0.336781  0.272727  0.303066  \n",
       "7      0.262860  0.363636  0.309169  \n",
       "15     0.278394  0.363636  0.318173  \n",
       "11     0.405680  0.250000  0.318465  \n",
       "12     0.377658  0.272727  0.320933  "
      ]
     },
     "execution_count": 18,
     "metadata": {},
     "output_type": "execute_result"
    }
   ],
   "source": [
    "df.drop(columns=['numerator', 'denominator']).sort_values(ascending=True, by='geomean').head(n=25)"
   ]
  },
  {
   "cell_type": "markdown",
   "id": "c8d8245b",
   "metadata": {
    "papermill": {
     "duration": 0.007129,
     "end_time": "2024-11-30T16:11:01.226548",
     "exception": false,
     "start_time": "2024-11-30T16:11:01.219419",
     "status": "completed"
    },
    "tags": []
   },
   "source": [
    "All those three-win and four-win teams are probably difficult to rank definitively."
   ]
  },
  {
   "cell_type": "markdown",
   "id": "b2afbec9",
   "metadata": {
    "papermill": {
     "duration": 0.007126,
     "end_time": "2024-11-30T16:11:01.241093",
     "exception": false,
     "start_time": "2024-11-30T16:11:01.233967",
     "status": "completed"
    },
    "tags": []
   },
   "source": [
    "Let's have a look at our two winning percentages; we expect them to be pretty highly correlated. "
   ]
  },
  {
   "cell_type": "code",
   "execution_count": 19,
   "id": "77851293",
   "metadata": {
    "execution": {
     "iopub.execute_input": "2024-11-30T16:11:01.257660Z",
     "iopub.status.busy": "2024-11-30T16:11:01.257285Z",
     "iopub.status.idle": "2024-11-30T16:11:03.202350Z",
     "shell.execute_reply": "2024-11-30T16:11:03.201310Z"
    },
    "papermill": {
     "duration": 1.956287,
     "end_time": "2024-11-30T16:11:03.204747",
     "exception": false,
     "start_time": "2024-11-30T16:11:01.248460",
     "status": "completed"
    },
    "tags": []
   },
   "outputs": [
    {
     "data": {
      "text/plain": [
       "<Axes: xlabel='expectation', ylabel='overall'>"
      ]
     },
     "execution_count": 19,
     "metadata": {},
     "output_type": "execute_result"
    },
    {
     "data": {
      "image/png": "[encoded data removed]",
      "text/plain": [
       "<Figure size 640x480 with 1 Axes>"
      ]
     },
     "metadata": {},
     "output_type": "display_data"
    }
   ],
   "source": [
    "from seaborn import scatterplot\n",
    "scatterplot(data=df, x='expectation', y='overall', )"
   ]
  },
  {
   "cell_type": "markdown",
   "id": "41ef9133",
   "metadata": {
    "papermill": {
     "duration": 0.007738,
     "end_time": "2024-11-30T16:11:03.220983",
     "exception": false,
     "start_time": "2024-11-30T16:11:03.213245",
     "status": "completed"
    },
    "tags": []
   },
   "source": [
    "Unfortunately actual overall wins step up, while expected wins can be anything from zero to one."
   ]
  },
  {
   "cell_type": "code",
   "execution_count": 20,
   "id": "210773ff",
   "metadata": {
    "execution": {
     "iopub.execute_input": "2024-11-30T16:11:03.238801Z",
     "iopub.status.busy": "2024-11-30T16:11:03.238234Z",
     "iopub.status.idle": "2024-11-30T16:11:03.537454Z",
     "shell.execute_reply": "2024-11-30T16:11:03.536286Z"
    },
    "papermill": {
     "duration": 0.310794,
     "end_time": "2024-11-30T16:11:03.539780",
     "exception": false,
     "start_time": "2024-11-30T16:11:03.228986",
     "status": "completed"
    },
    "tags": []
   },
   "outputs": [
    {
     "data": {
      "text/plain": [
       "<Axes: xlabel='expectation', ylabel='overall'>"
      ]
     },
     "execution_count": 20,
     "metadata": {},
     "output_type": "execute_result"
    },
    {
     "data": {
      "image/png": "[encoded data removed]",
      "text/plain": [
       "<Figure size 640x480 with 1 Axes>"
      ]
     },
     "metadata": {},
     "output_type": "display_data"
    }
   ],
   "source": [
    "from seaborn import residplot\n",
    "\n",
    "residplot(data=df, x='expectation', y='overall', lowess=True)"
   ]
  },
  {
   "cell_type": "markdown",
   "id": "6cbcf9f5",
   "metadata": {
    "papermill": {
     "duration": 0.008421,
     "end_time": "2024-11-30T16:11:03.557166",
     "exception": false,
     "start_time": "2024-11-30T16:11:03.548745",
     "status": "completed"
    },
    "tags": []
   },
   "source": [
    "Let's make a crude scatter plot with names."
   ]
  },
  {
   "cell_type": "code",
   "execution_count": 21,
   "id": "b9758242",
   "metadata": {
    "execution": {
     "iopub.execute_input": "2024-11-30T16:11:03.576933Z",
     "iopub.status.busy": "2024-11-30T16:11:03.576426Z",
     "iopub.status.idle": "2024-11-30T16:11:04.500790Z",
     "shell.execute_reply": "2024-11-30T16:11:04.499699Z"
    },
    "papermill": {
     "duration": 0.93837,
     "end_time": "2024-11-30T16:11:04.504713",
     "exception": false,
     "start_time": "2024-11-30T16:11:03.566343",
     "status": "completed"
    },
    "tags": []
   },
   "outputs": [
    {
     "data": {
      "image/png": "[encoded data removed]",
      "text/plain": [
       "<Figure size 1200x1200 with 1 Axes>"
      ]
     },
     "metadata": {},
     "output_type": "display_data"
    }
   ],
   "source": [
    "import matplotlib.pyplot as plt\n",
    "\n",
    "fig, ax = plt.subplots(figsize=(12, 12))\n",
    "ax.scatter(df['expectation'], df['overall'])\n",
    "\n",
    "for index, row in df.iterrows():\n",
    "    ax.annotate(row['name'], ( row['overall'], row['expectation']))"
   ]
  },
  {
   "cell_type": "markdown",
   "id": "c27f8ee9",
   "metadata": {
    "papermill": {
     "duration": 0.011082,
     "end_time": "2024-11-30T16:11:04.527452",
     "exception": false,
     "start_time": "2024-11-30T16:11:04.516370",
     "status": "completed"
    },
    "tags": []
   },
   "source": [
    "Is our geometric mean Gaussian? "
   ]
  },
  {
   "cell_type": "code",
   "execution_count": 22,
   "id": "e46059c3",
   "metadata": {
    "execution": {
     "iopub.execute_input": "2024-11-30T16:11:04.552805Z",
     "iopub.status.busy": "2024-11-30T16:11:04.552392Z",
     "iopub.status.idle": "2024-11-30T16:11:04.836131Z",
     "shell.execute_reply": "2024-11-30T16:11:04.835052Z"
    },
    "papermill": {
     "duration": 0.29893,
     "end_time": "2024-11-30T16:11:04.838465",
     "exception": false,
     "start_time": "2024-11-30T16:11:04.539535",
     "status": "completed"
    },
    "tags": []
   },
   "outputs": [
    {
     "data": {
      "text/plain": [
       "<Axes: ylabel='Density'>"
      ]
     },
     "execution_count": 22,
     "metadata": {},
     "output_type": "execute_result"
    },
    {
     "data": {
      "image/png": "[encoded data removed]",
      "text/plain": [
       "<Figure size 640x480 with 1 Axes>"
      ]
     },
     "metadata": {},
     "output_type": "display_data"
    }
   ],
   "source": [
    "df[['geomean']].plot(kind='kde', bw_method=0.15)"
   ]
  },
  {
   "cell_type": "code",
   "execution_count": 23,
   "id": "a9f89b9c",
   "metadata": {
    "execution": {
     "iopub.execute_input": "2024-11-30T16:11:04.865012Z",
     "iopub.status.busy": "2024-11-30T16:11:04.864639Z",
     "iopub.status.idle": "2024-11-30T16:11:04.879767Z",
     "shell.execute_reply": "2024-11-30T16:11:04.878486Z"
    },
    "papermill": {
     "duration": 0.031607,
     "end_time": "2024-11-30T16:11:04.882119",
     "exception": false,
     "start_time": "2024-11-30T16:11:04.850512",
     "status": "completed"
    },
    "tags": []
   },
   "outputs": [
    {
     "name": "stdout",
     "output_type": "stream",
     "text": [
      "NormaltestResult(statistic=6.089778158447217, pvalue=0.04760159170021884)\n",
      "NormaltestResult(statistic=6.031551324824933, pvalue=0.04900780722639429)\n",
      "NormaltestResult(statistic=5.001116150193863, pvalue=0.08203920181055425)\n"
     ]
    }
   ],
   "source": [
    "from scipy.stats import normaltest\n",
    "\n",
    "for column in ['expectation', 'overall', 'geomean']:\n",
    "    print(normaltest(a=df[column]))"
   ]
  },
  {
   "cell_type": "markdown",
   "id": "72115f76",
   "metadata": {
    "papermill": {
     "duration": 0.011701,
     "end_time": "2024-11-30T16:11:04.906209",
     "exception": false,
     "start_time": "2024-11-30T16:11:04.894508",
     "status": "completed"
    },
    "tags": []
   },
   "source": [
    "Yes, our winning percentages are Gaussian."
   ]
  }
 ],
 "metadata": {
  "kaggle": {
   "accelerator": "none",
   "dataSources": [],
   "dockerImageVersionId": 30786,
   "isGpuEnabled": false,
   "isInternetEnabled": true,
   "language": "python",
   "sourceType": "notebook"
  },
  "kernelspec": {
   "display_name": "Python 3",
   "language": "python",
   "name": "python3"
  },
  "language_info": {
   "codemirror_mode": {
    "name": "ipython",
    "version": 3
   },
   "file_extension": ".py",
   "mimetype": "text/x-python",
   "name": "python",
   "nbconvert_exporter": "python",
   "pygments_lexer": "ipython3",
   "version": "3.10.14"
  },
  "papermill": {
   "default_parameters": {},
   "duration": 8.711176,
   "end_time": "2024-11-30T16:11:05.640256",
   "environment_variables": {},
   "exception": null,
   "input_path": "__notebook__.ipynb",
   "output_path": "__notebook__.ipynb",
   "parameters": {},
   "start_time": "2024-11-30T16:10:56.929080",
   "version": "2.6.0"
  }
 },
 "nbformat": 4,
 "nbformat_minor": 5
}
