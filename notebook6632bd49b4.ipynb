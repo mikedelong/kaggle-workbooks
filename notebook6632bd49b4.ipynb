{
 "cells": [
  {
   "cell_type": "code",
   "execution_count": 1,
   "id": "cbe83c9a",
   "metadata": {
    "execution": {
     "iopub.execute_input": "2024-01-07T16:41:56.484102Z",
     "iopub.status.busy": "2024-01-07T16:41:56.483137Z",
     "iopub.status.idle": "2024-01-07T16:41:56.990514Z",
     "shell.execute_reply": "2024-01-07T16:41:56.989341Z"
    },
    "papermill": {
     "duration": 0.517157,
     "end_time": "2024-01-07T16:41:56.993147",
     "exception": false,
     "start_time": "2024-01-07T16:41:56.475990",
     "status": "completed"
    },
    "tags": []
   },
   "outputs": [
    {
     "data": {
      "text/html": [
       "<div>\n",
       "<style scoped>\n",
       "    .dataframe tbody tr th:only-of-type {\n",
       "        vertical-align: middle;\n",
       "    }\n",
       "\n",
       "    .dataframe tbody tr th {\n",
       "        vertical-align: top;\n",
       "    }\n",
       "\n",
       "    .dataframe thead th {\n",
       "        text-align: right;\n",
       "    }\n",
       "</style>\n",
       "<table border=\"1\" class=\"dataframe\">\n",
       "  <thead>\n",
       "    <tr style=\"text-align: right;\">\n",
       "      <th></th>\n",
       "      <th>Course_Name</th>\n",
       "      <th>Company_Name</th>\n",
       "      <th>Skills</th>\n",
       "      <th>Ratings</th>\n",
       "      <th>Reviews</th>\n",
       "      <th>Difficulty</th>\n",
       "      <th>Type_Of_Certificate</th>\n",
       "      <th>Duration</th>\n",
       "    </tr>\n",
       "  </thead>\n",
       "  <tbody>\n",
       "    <tr>\n",
       "      <th>0</th>\n",
       "      <td>Google Cybersecurity</td>\n",
       "      <td>Google</td>\n",
       "      <td>Skills you'll gain: Network Security, Python P...</td>\n",
       "      <td>4.8</td>\n",
       "      <td>(19K reviews)</td>\n",
       "      <td>Beginner</td>\n",
       "      <td>Professional Certificate</td>\n",
       "      <td>3 - 6 Months</td>\n",
       "    </tr>\n",
       "    <tr>\n",
       "      <th>1</th>\n",
       "      <td>Google Data Analytics</td>\n",
       "      <td>Google</td>\n",
       "      <td>Skills you'll gain: Data Analysis, R Programmi...</td>\n",
       "      <td>4.8</td>\n",
       "      <td>(136K reviews)</td>\n",
       "      <td>Beginner</td>\n",
       "      <td>Professional Certificate</td>\n",
       "      <td>3 - 6 Months</td>\n",
       "    </tr>\n",
       "    <tr>\n",
       "      <th>2</th>\n",
       "      <td>Google Project Management:</td>\n",
       "      <td>Google</td>\n",
       "      <td>Skills you'll gain: Project Management, Strate...</td>\n",
       "      <td>4.8</td>\n",
       "      <td>(100K reviews)</td>\n",
       "      <td>Beginner</td>\n",
       "      <td>Professional Certificate</td>\n",
       "      <td>3 - 6 Months</td>\n",
       "    </tr>\n",
       "    <tr>\n",
       "      <th>3</th>\n",
       "      <td>IBM Data Science</td>\n",
       "      <td>IBM</td>\n",
       "      <td>Skills you'll gain: Python Programming, Data S...</td>\n",
       "      <td>4.6</td>\n",
       "      <td>(120K reviews)</td>\n",
       "      <td>Beginner</td>\n",
       "      <td>Professional Certificate</td>\n",
       "      <td>3 - 6 Months</td>\n",
       "    </tr>\n",
       "    <tr>\n",
       "      <th>4</th>\n",
       "      <td>Google Digital Marketing &amp; E-commerce</td>\n",
       "      <td>Google</td>\n",
       "      <td>Skills you'll gain: Digital Marketing, Marketi...</td>\n",
       "      <td>4.8</td>\n",
       "      <td>(23K reviews)</td>\n",
       "      <td>Beginner</td>\n",
       "      <td>Professional Certificate</td>\n",
       "      <td>3 - 6 Months</td>\n",
       "    </tr>\n",
       "  </tbody>\n",
       "</table>\n",
       "</div>"
      ],
      "text/plain": [
       "                             Course_Name Company_Name  \\\n",
       "0                   Google Cybersecurity       Google   \n",
       "1                  Google Data Analytics       Google   \n",
       "2             Google Project Management:       Google   \n",
       "3                       IBM Data Science          IBM   \n",
       "4  Google Digital Marketing & E-commerce       Google   \n",
       "\n",
       "                                              Skills  Ratings         Reviews  \\\n",
       "0  Skills you'll gain: Network Security, Python P...      4.8   (19K reviews)   \n",
       "1  Skills you'll gain: Data Analysis, R Programmi...      4.8  (136K reviews)   \n",
       "2  Skills you'll gain: Project Management, Strate...      4.8  (100K reviews)   \n",
       "3  Skills you'll gain: Python Programming, Data S...      4.6  (120K reviews)   \n",
       "4  Skills you'll gain: Digital Marketing, Marketi...      4.8   (23K reviews)   \n",
       "\n",
       "  Difficulty       Type_Of_Certificate      Duration  \n",
       "0   Beginner  Professional Certificate  3 - 6 Months  \n",
       "1   Beginner  Professional Certificate  3 - 6 Months  \n",
       "2   Beginner  Professional Certificate  3 - 6 Months  \n",
       "3   Beginner  Professional Certificate  3 - 6 Months  \n",
       "4   Beginner  Professional Certificate  3 - 6 Months  "
      ]
     },
     "execution_count": 1,
     "metadata": {},
     "output_type": "execute_result"
    }
   ],
   "source": [
    "import pandas as pd\n",
    "filename = '/kaggle/input/coursera-1000-courses-dataset/coursera_1000_Courses'\n",
    "df = pd.read_csv(filepath_or_buffer=filename, index_col=[0]).drop(columns=['Course_Banner'])\n",
    "df.head()"
   ]
  },
  {
   "cell_type": "code",
   "execution_count": 2,
   "id": "17aa3a29",
   "metadata": {
    "execution": {
     "iopub.execute_input": "2024-01-07T16:41:57.004842Z",
     "iopub.status.busy": "2024-01-07T16:41:57.004384Z",
     "iopub.status.idle": "2024-01-07T16:41:57.017145Z",
     "shell.execute_reply": "2024-01-07T16:41:57.016364Z"
    },
    "papermill": {
     "duration": 0.021074,
     "end_time": "2024-01-07T16:41:57.019372",
     "exception": false,
     "start_time": "2024-01-07T16:41:56.998298",
     "status": "completed"
    },
    "tags": []
   },
   "outputs": [
    {
     "data": {
      "text/plain": [
       "Course_Name            994\n",
       "Company_Name           156\n",
       "Skills                 929\n",
       "Ratings                 17\n",
       "Reviews                417\n",
       "Difficulty               5\n",
       "Type_Of_Certificate      5\n",
       "Duration                 5\n",
       "dtype: int64"
      ]
     },
     "execution_count": 2,
     "metadata": {},
     "output_type": "execute_result"
    }
   ],
   "source": [
    "df.nunique()"
   ]
  },
  {
   "cell_type": "code",
   "execution_count": 3,
   "id": "95d31265",
   "metadata": {
    "execution": {
     "iopub.execute_input": "2024-01-07T16:41:57.031636Z",
     "iopub.status.busy": "2024-01-07T16:41:57.030762Z",
     "iopub.status.idle": "2024-01-07T16:41:59.990023Z",
     "shell.execute_reply": "2024-01-07T16:41:59.988677Z"
    },
    "papermill": {
     "duration": 2.968101,
     "end_time": "2024-01-07T16:41:59.992762",
     "exception": false,
     "start_time": "2024-01-07T16:41:57.024661",
     "status": "completed"
    },
    "tags": []
   },
   "outputs": [
    {
     "data": {
      "text/html": [
       "        <script type=\"text/javascript\">\n",
       "        window.PlotlyConfig = {MathJaxConfig: 'local'};\n",
       "        if (window.MathJax && window.MathJax.Hub && window.MathJax.Hub.Config) {window.MathJax.Hub.Config({SVG: {font: \"STIX-Web\"}});}\n",
       "        if (typeof require !== 'undefined') {\n",
       "        require.undef(\"plotly\");\n",
       "        requirejs.config({\n",
       "            paths: {\n",
       "                'plotly': ['https://cdn.plot.ly/plotly-2.25.2.min']\n",
       "            }\n",
       "        });\n",
       "        require(['plotly'], function(Plotly) {\n",
       "            window._Plotly = Plotly;\n",
       "        });\n",
       "        }\n",
       "        </script>\n",
       "        "
      ]
     },
     "metadata": {},
     "output_type": "display_data"
    },
    {
     "data": {
      "text/html": [
       "<div>                            <div id=\"c7e41425-1c1b-48f0-9a02-31e16af53995\" class=\"plotly-graph-div\" style=\"height:525px; width:100%;\"></div>            <script type=\"text/javascript\">                require([\"plotly\"], function(Plotly) {                    window.PLOTLYENV=window.PLOTLYENV || {};                                    if (document.getElementById(\"c7e41425-1c1b-48f0-9a02-31e16af53995\")) {                    Plotly.newPlot(                        \"c7e41425-1c1b-48f0-9a02-31e16af53995\",                        [{\"alignmentgroup\":\"True\",\"bingroup\":\"x\",\"histfunc\":\"sum\",\"hovertemplate\":\"Company_Name=%{x}\\u003cbr\\u003esum of 0=%{y}\\u003cextra\\u003e\\u003c\\u002fextra\\u003e\",\"legendgroup\":\"\",\"marker\":{\"color\":\"#636efa\",\"pattern\":{\"shape\":\"\"}},\"name\":\"\",\"offsetgroup\":\"\",\"orientation\":\"v\",\"showlegend\":false,\"x\":[\"Google\",\"IBM\",\"University of Pennsylvania\",\"DeepLearning.AI\",\"Google Cloud\",\"University of Michigan\",\"University of Illinois at Urbana-Champaign\",\"University of Colorado Boulder\",\"Duke University\",\"Johns Hopkins University\",\"Meta\",\"University of California, Irvine\",\"Stanford University\",\"Microsoft\",\"Yale University\",\"University of California, Davis\",\"University of Virginia\",\"Rice University\",\"University of London\",\"Vanderbilt University\",\"University of California San Diego\",\"Berklee\",\"Georgia Institute of Technology\",\"Arizona State University\",\"University of Toronto\",\"Macquarie University\",\"SkillUp EdTech\",\"Imperial College London\",\"University of Minnesota\",\"University of Geneva\"],\"xaxis\":\"x\",\"y\":[94,93,53,44,36,35,30,30,26,26,22,21,21,20,19,18,15,14,13,10,9,9,8,8,8,8,8,7,7,7],\"yaxis\":\"y\",\"type\":\"histogram\"}],                        {\"template\":{\"data\":{\"histogram2dcontour\":[{\"type\":\"histogram2dcontour\",\"colorbar\":{\"outlinewidth\":0,\"ticks\":\"\"},\"colorscale\":[[0.0,\"#0d0887\"],[0.1111111111111111,\"#46039f\"],[0.2222222222222222,\"#7201a8\"],[0.3333333333333333,\"#9c179e\"],[0.4444444444444444,\"#bd3786\"],[0.5555555555555556,\"#d8576b\"],[0.6666666666666666,\"#ed7953\"],[0.7777777777777778,\"#fb9f3a\"],[0.8888888888888888,\"#fdca26\"],[1.0,\"#f0f921\"]]}],\"choropleth\":[{\"type\":\"choropleth\",\"colorbar\":{\"outlinewidth\":0,\"ticks\":\"\"}}],\"histogram2d\":[{\"type\":\"histogram2d\",\"colorbar\":{\"outlinewidth\":0,\"ticks\":\"\"},\"colorscale\":[[0.0,\"#0d0887\"],[0.1111111111111111,\"#46039f\"],[0.2222222222222222,\"#7201a8\"],[0.3333333333333333,\"#9c179e\"],[0.4444444444444444,\"#bd3786\"],[0.5555555555555556,\"#d8576b\"],[0.6666666666666666,\"#ed7953\"],[0.7777777777777778,\"#fb9f3a\"],[0.8888888888888888,\"#fdca26\"],[1.0,\"#f0f921\"]]}],\"heatmap\":[{\"type\":\"heatmap\",\"colorbar\":{\"outlinewidth\":0,\"ticks\":\"\"},\"colorscale\":[[0.0,\"#0d0887\"],[0.1111111111111111,\"#46039f\"],[0.2222222222222222,\"#7201a8\"],[0.3333333333333333,\"#9c179e\"],[0.4444444444444444,\"#bd3786\"],[0.5555555555555556,\"#d8576b\"],[0.6666666666666666,\"#ed7953\"],[0.7777777777777778,\"#fb9f3a\"],[0.8888888888888888,\"#fdca26\"],[1.0,\"#f0f921\"]]}],\"heatmapgl\":[{\"type\":\"heatmapgl\",\"colorbar\":{\"outlinewidth\":0,\"ticks\":\"\"},\"colorscale\":[[0.0,\"#0d0887\"],[0.1111111111111111,\"#46039f\"],[0.2222222222222222,\"#7201a8\"],[0.3333333333333333,\"#9c179e\"],[0.4444444444444444,\"#bd3786\"],[0.5555555555555556,\"#d8576b\"],[0.6666666666666666,\"#ed7953\"],[0.7777777777777778,\"#fb9f3a\"],[0.8888888888888888,\"#fdca26\"],[1.0,\"#f0f921\"]]}],\"contourcarpet\":[{\"type\":\"contourcarpet\",\"colorbar\":{\"outlinewidth\":0,\"ticks\":\"\"}}],\"contour\":[{\"type\":\"contour\",\"colorbar\":{\"outlinewidth\":0,\"ticks\":\"\"},\"colorscale\":[[0.0,\"#0d0887\"],[0.1111111111111111,\"#46039f\"],[0.2222222222222222,\"#7201a8\"],[0.3333333333333333,\"#9c179e\"],[0.4444444444444444,\"#bd3786\"],[0.5555555555555556,\"#d8576b\"],[0.6666666666666666,\"#ed7953\"],[0.7777777777777778,\"#fb9f3a\"],[0.8888888888888888,\"#fdca26\"],[1.0,\"#f0f921\"]]}],\"surface\":[{\"type\":\"surface\",\"colorbar\":{\"outlinewidth\":0,\"ticks\":\"\"},\"colorscale\":[[0.0,\"#0d0887\"],[0.1111111111111111,\"#46039f\"],[0.2222222222222222,\"#7201a8\"],[0.3333333333333333,\"#9c179e\"],[0.4444444444444444,\"#bd3786\"],[0.5555555555555556,\"#d8576b\"],[0.6666666666666666,\"#ed7953\"],[0.7777777777777778,\"#fb9f3a\"],[0.8888888888888888,\"#fdca26\"],[1.0,\"#f0f921\"]]}],\"mesh3d\":[{\"type\":\"mesh3d\",\"colorbar\":{\"outlinewidth\":0,\"ticks\":\"\"}}],\"scatter\":[{\"fillpattern\":{\"fillmode\":\"overlay\",\"size\":10,\"solidity\":0.2},\"type\":\"scatter\"}],\"parcoords\":[{\"type\":\"parcoords\",\"line\":{\"colorbar\":{\"outlinewidth\":0,\"ticks\":\"\"}}}],\"scatterpolargl\":[{\"type\":\"scatterpolargl\",\"marker\":{\"colorbar\":{\"outlinewidth\":0,\"ticks\":\"\"}}}],\"bar\":[{\"error_x\":{\"color\":\"#2a3f5f\"},\"error_y\":{\"color\":\"#2a3f5f\"},\"marker\":{\"line\":{\"color\":\"#E5ECF6\",\"width\":0.5},\"pattern\":{\"fillmode\":\"overlay\",\"size\":10,\"solidity\":0.2}},\"type\":\"bar\"}],\"scattergeo\":[{\"type\":\"scattergeo\",\"marker\":{\"colorbar\":{\"outlinewidth\":0,\"ticks\":\"\"}}}],\"scatterpolar\":[{\"type\":\"scatterpolar\",\"marker\":{\"colorbar\":{\"outlinewidth\":0,\"ticks\":\"\"}}}],\"histogram\":[{\"marker\":{\"pattern\":{\"fillmode\":\"overlay\",\"size\":10,\"solidity\":0.2}},\"type\":\"histogram\"}],\"scattergl\":[{\"type\":\"scattergl\",\"marker\":{\"colorbar\":{\"outlinewidth\":0,\"ticks\":\"\"}}}],\"scatter3d\":[{\"type\":\"scatter3d\",\"line\":{\"colorbar\":{\"outlinewidth\":0,\"ticks\":\"\"}},\"marker\":{\"colorbar\":{\"outlinewidth\":0,\"ticks\":\"\"}}}],\"scattermapbox\":[{\"type\":\"scattermapbox\",\"marker\":{\"colorbar\":{\"outlinewidth\":0,\"ticks\":\"\"}}}],\"scatterternary\":[{\"type\":\"scatterternary\",\"marker\":{\"colorbar\":{\"outlinewidth\":0,\"ticks\":\"\"}}}],\"scattercarpet\":[{\"type\":\"scattercarpet\",\"marker\":{\"colorbar\":{\"outlinewidth\":0,\"ticks\":\"\"}}}],\"carpet\":[{\"aaxis\":{\"endlinecolor\":\"#2a3f5f\",\"gridcolor\":\"white\",\"linecolor\":\"white\",\"minorgridcolor\":\"white\",\"startlinecolor\":\"#2a3f5f\"},\"baxis\":{\"endlinecolor\":\"#2a3f5f\",\"gridcolor\":\"white\",\"linecolor\":\"white\",\"minorgridcolor\":\"white\",\"startlinecolor\":\"#2a3f5f\"},\"type\":\"carpet\"}],\"table\":[{\"cells\":{\"fill\":{\"color\":\"#EBF0F8\"},\"line\":{\"color\":\"white\"}},\"header\":{\"fill\":{\"color\":\"#C8D4E3\"},\"line\":{\"color\":\"white\"}},\"type\":\"table\"}],\"barpolar\":[{\"marker\":{\"line\":{\"color\":\"#E5ECF6\",\"width\":0.5},\"pattern\":{\"fillmode\":\"overlay\",\"size\":10,\"solidity\":0.2}},\"type\":\"barpolar\"}],\"pie\":[{\"automargin\":true,\"type\":\"pie\"}]},\"layout\":{\"autotypenumbers\":\"strict\",\"colorway\":[\"#636efa\",\"#EF553B\",\"#00cc96\",\"#ab63fa\",\"#FFA15A\",\"#19d3f3\",\"#FF6692\",\"#B6E880\",\"#FF97FF\",\"#FECB52\"],\"font\":{\"color\":\"#2a3f5f\"},\"hovermode\":\"closest\",\"hoverlabel\":{\"align\":\"left\"},\"paper_bgcolor\":\"white\",\"plot_bgcolor\":\"#E5ECF6\",\"polar\":{\"bgcolor\":\"#E5ECF6\",\"angularaxis\":{\"gridcolor\":\"white\",\"linecolor\":\"white\",\"ticks\":\"\"},\"radialaxis\":{\"gridcolor\":\"white\",\"linecolor\":\"white\",\"ticks\":\"\"}},\"ternary\":{\"bgcolor\":\"#E5ECF6\",\"aaxis\":{\"gridcolor\":\"white\",\"linecolor\":\"white\",\"ticks\":\"\"},\"baxis\":{\"gridcolor\":\"white\",\"linecolor\":\"white\",\"ticks\":\"\"},\"caxis\":{\"gridcolor\":\"white\",\"linecolor\":\"white\",\"ticks\":\"\"}},\"coloraxis\":{\"colorbar\":{\"outlinewidth\":0,\"ticks\":\"\"}},\"colorscale\":{\"sequential\":[[0.0,\"#0d0887\"],[0.1111111111111111,\"#46039f\"],[0.2222222222222222,\"#7201a8\"],[0.3333333333333333,\"#9c179e\"],[0.4444444444444444,\"#bd3786\"],[0.5555555555555556,\"#d8576b\"],[0.6666666666666666,\"#ed7953\"],[0.7777777777777778,\"#fb9f3a\"],[0.8888888888888888,\"#fdca26\"],[1.0,\"#f0f921\"]],\"sequentialminus\":[[0.0,\"#0d0887\"],[0.1111111111111111,\"#46039f\"],[0.2222222222222222,\"#7201a8\"],[0.3333333333333333,\"#9c179e\"],[0.4444444444444444,\"#bd3786\"],[0.5555555555555556,\"#d8576b\"],[0.6666666666666666,\"#ed7953\"],[0.7777777777777778,\"#fb9f3a\"],[0.8888888888888888,\"#fdca26\"],[1.0,\"#f0f921\"]],\"diverging\":[[0,\"#8e0152\"],[0.1,\"#c51b7d\"],[0.2,\"#de77ae\"],[0.3,\"#f1b6da\"],[0.4,\"#fde0ef\"],[0.5,\"#f7f7f7\"],[0.6,\"#e6f5d0\"],[0.7,\"#b8e186\"],[0.8,\"#7fbc41\"],[0.9,\"#4d9221\"],[1,\"#276419\"]]},\"xaxis\":{\"gridcolor\":\"white\",\"linecolor\":\"white\",\"ticks\":\"\",\"title\":{\"standoff\":15},\"zerolinecolor\":\"white\",\"automargin\":true,\"zerolinewidth\":2},\"yaxis\":{\"gridcolor\":\"white\",\"linecolor\":\"white\",\"ticks\":\"\",\"title\":{\"standoff\":15},\"zerolinecolor\":\"white\",\"automargin\":true,\"zerolinewidth\":2},\"scene\":{\"xaxis\":{\"backgroundcolor\":\"#E5ECF6\",\"gridcolor\":\"white\",\"linecolor\":\"white\",\"showbackground\":true,\"ticks\":\"\",\"zerolinecolor\":\"white\",\"gridwidth\":2},\"yaxis\":{\"backgroundcolor\":\"#E5ECF6\",\"gridcolor\":\"white\",\"linecolor\":\"white\",\"showbackground\":true,\"ticks\":\"\",\"zerolinecolor\":\"white\",\"gridwidth\":2},\"zaxis\":{\"backgroundcolor\":\"#E5ECF6\",\"gridcolor\":\"white\",\"linecolor\":\"white\",\"showbackground\":true,\"ticks\":\"\",\"zerolinecolor\":\"white\",\"gridwidth\":2}},\"shapedefaults\":{\"line\":{\"color\":\"#2a3f5f\"}},\"annotationdefaults\":{\"arrowcolor\":\"#2a3f5f\",\"arrowhead\":0,\"arrowwidth\":1},\"geo\":{\"bgcolor\":\"white\",\"landcolor\":\"#E5ECF6\",\"subunitcolor\":\"white\",\"showland\":true,\"showlakes\":true,\"lakecolor\":\"white\"},\"title\":{\"x\":0.05},\"mapbox\":{\"style\":\"light\"}}},\"xaxis\":{\"anchor\":\"y\",\"domain\":[0.0,1.0],\"title\":{\"text\":\"Company_Name\"}},\"yaxis\":{\"anchor\":\"x\",\"domain\":[0.0,1.0],\"title\":{\"text\":\"sum of 0\"}},\"legend\":{\"tracegroupgap\":0},\"title\":{\"text\":\"Top 30 Entities by Course Count\"},\"barmode\":\"relative\"},                        {\"responsive\": true}                    ).then(function(){\n",
       "                            \n",
       "var gd = document.getElementById('c7e41425-1c1b-48f0-9a02-31e16af53995');\n",
       "var x = new MutationObserver(function (mutations, observer) {{\n",
       "        var display = window.getComputedStyle(gd).display;\n",
       "        if (!display || display === 'none') {{\n",
       "            console.log([gd, 'removed!']);\n",
       "            Plotly.purge(gd);\n",
       "            observer.disconnect();\n",
       "        }}\n",
       "}});\n",
       "\n",
       "// Listen for the removal of the full notebook cells\n",
       "var notebookContainer = gd.closest('#notebook-container');\n",
       "if (notebookContainer) {{\n",
       "    x.observe(notebookContainer, {childList: true});\n",
       "}}\n",
       "\n",
       "// Listen for the clearing of the current output cell\n",
       "var outputEl = gd.closest('.output');\n",
       "if (outputEl) {{\n",
       "    x.observe(outputEl, {childList: true});\n",
       "}}\n",
       "\n",
       "                        })                };                });            </script>        </div>"
      ]
     },
     "metadata": {},
     "output_type": "display_data"
    }
   ],
   "source": [
    "from plotly.express import histogram\n",
    "TOP_N = 30\n",
    "histogram(data_frame=df[['Company_Name']].groupby(by='Company_Name').size().to_frame().reset_index().sort_values(ascending=False, by=0).head(n=TOP_N),\n",
    "          x='Company_Name', y=0, title='Top {} Entities by Course Count'.format(TOP_N))"
   ]
  },
  {
   "cell_type": "code",
   "execution_count": 4,
   "id": "ef6022ca",
   "metadata": {
    "execution": {
     "iopub.execute_input": "2024-01-07T16:42:00.005991Z",
     "iopub.status.busy": "2024-01-07T16:42:00.005450Z",
     "iopub.status.idle": "2024-01-07T16:42:00.084608Z",
     "shell.execute_reply": "2024-01-07T16:42:00.083476Z"
    },
    "papermill": {
     "duration": 0.088733,
     "end_time": "2024-01-07T16:42:00.087424",
     "exception": false,
     "start_time": "2024-01-07T16:41:59.998691",
     "status": "completed"
    },
    "tags": []
   },
   "outputs": [
    {
     "data": {
      "text/html": [
       "<div>                            <div id=\"44f5d8aa-d158-48c1-9f90-9a3b40b4ce5d\" class=\"plotly-graph-div\" style=\"height:525px; width:100%;\"></div>            <script type=\"text/javascript\">                require([\"plotly\"], function(Plotly) {                    window.PLOTLYENV=window.PLOTLYENV || {};                                    if (document.getElementById(\"44f5d8aa-d158-48c1-9f90-9a3b40b4ce5d\")) {                    Plotly.newPlot(                        \"44f5d8aa-d158-48c1-9f90-9a3b40b4ce5d\",                        [{\"alignmentgroup\":\"True\",\"bingroup\":\"x\",\"hovertemplate\":\"Ratings=%{x}\\u003cbr\\u003ecount=%{y}\\u003cextra\\u003e\\u003c\\u002fextra\\u003e\",\"legendgroup\":\"\",\"marker\":{\"color\":\"#636efa\",\"pattern\":{\"shape\":\"\"}},\"name\":\"\",\"offsetgroup\":\"\",\"orientation\":\"v\",\"showlegend\":false,\"x\":[4.8,4.8,4.8,4.6,4.8,4.6,4.8,4.9,4.8,4.6,4.6,4.6,4.6,4.6,4.7,4.6,4.7,4.8,4.6,4.6,4.8,4.6,4.7,4.7,4.7,4.6,4.7,4.8,4.6,4.7,4.7,4.7,4.7,4.7,4.7,4.7,4.7,4.9,4.7,4.9,4.6,4.8,4.7,4.9,4.6,4.9,4.8,4.6,4.7,4.6,4.8,4.5,4.8,4.7,4.7,4.8,4.8,4.6,4.7,4.6,4.8,4.5,4.8,4.8,4.6,4.7,4.7,4.6,4.6,4.8,4.5,4.7,4.8,4.7,4.6,4.7,4.6,4.7,4.8,4.5,4.7,4.8,4.7,4.6,4.6,4.7,4.7,4.9,4.8,4.7,4.8,4.8,4.6,4.9,4.9,4.7,4.7,4.6,4.6,4.8,4.6,4.7,4.7,4.6,4.7,4.7,4.4,4.7,4.8,4.9,4.7,4.6,4.6,4.8,4.9,4.9,4.6,4.7,4.7,4.6,4.7,4.9,4.7,4.6,4.8,4.8,4.9,4.8,4.6,4.7,4.8,4.5,4.7,4.8,4.7,4.8,4.7,4.7,4.7,4.6,4.7,4.8,4.7,4.9,4.6,4.8,4.9,4.5,4.7,4.8,4.6,4.8,4.9,4.8,4.7,4.7,4.7,4.8,4.7,4.7,4.8,4.8,4.8,4.9,4.8,4.9,4.7,4.9,4.6,4.5,4.4,4.7,4.7,4.7,4.7,4.7,4.9,4.8,4.7,4.4,4.6,4.6,4.7,4.6,4.7,4.8,4.8,4.8,4.8,4.8,4.8,4.5,4.6,4.6,4.8,4.8,4.8,4.9,4.6,4.7,4.7,4.6,4.8,4.7,4.6,4.5,4.8,4.8,4.4,4.7,4.8,4.8,4.8,4.5,4.8,4.7,4.8,4.7,4.8,4.8,4.5,4.8,4.6,4.7,4.6,4.7,4.7,4.5,4.6,4.8,4.5,4.6,4.8,4.7,4.8,4.6,4.8,4.6,4.8,4.7,4.8,4.7,4.6,4.7,4.6,4.8,4.9,4.6,4.8,4.6,4.8,4.8,4.8,4.8,4.5,4.8,4.8,4.8,4.7,4.8,4.8,4.6,4.8,4.6,4.8,4.8,4.8,4.7,4.8,4.6,4.5,4.6,4.6,4.9,4.8,4.7,4.7,4.6,4.7,4.4,4.7,4.9,4.7,4.8,4.7,4.7,4.9,4.5,4.9,4.8,4.6,4.7,4.8,4.9,4.7,4.8,4.7,4.9,4.8,4.6,4.8,4.8,4.7,4.6,4.7,4.5,4.5,4.7,4.8,4.8,4.0,3.8,4.7,4.8,4.8,4.8,4.7,4.6,4.8,4.5,4.6,4.5,4.8,4.8,4.7,4.6,4.7,4.9,4.7,4.7,4.4,4.6,4.6,null,4.7,4.8,4.7,4.8,4.8,4.7,4.7,4.6,4.8,4.7,4.9,4.7,4.7,4.8,4.6,4.8,4.6,4.7,4.5,4.5,4.7,4.7,3.9,4.9,4.7,4.6,4.8,4.6,4.8,4.6,4.8,4.8,4.6,4.5,4.7,4.8,4.5,4.8,4.7,4.6,4.8,4.6,4.8,4.6,4.8,4.6,4.7,4.6,4.6,4.8,4.6,4.8,4.8,4.4,4.7,4.0,4.6,4.7,4.8,3.9,4.9,4.6,4.8,4.8,4.8,4.9,4.7,4.7,4.7,4.8,4.9,4.7,4.3,4.7,4.6,4.7,4.7,4.4,4.8,4.6,4.3,4.7,4.9,4.7,4.9,4.8,4.7,4.8,4.8,4.8,4.8,4.6,4.7,4.1,4.5,4.7,4.8,4.7,4.7,4.8,4.8,4.6,4.6,4.3,4.8,4.3,4.9,4.8,4.9,4.7,4.5,4.3,4.7,4.8,4.7,4.7,4.9,4.7,4.7,4.7,3.4,4.6,4.7,4.7,4.8,4.7,4.4,4.8,4.9,4.7,4.8,4.4,4.7,4.2,4.5,4.8,4.8,4.8,4.7,4.7,4.3,4.7,4.7,4.8,4.7,4.7,4.7,4.7,4.5,4.8,4.7,4.6,4.6,4.6,4.8,4.7,4.5,4.6,4.7,4.5,4.8,4.7,4.7,4.6,4.5,4.8,4.6,4.7,4.7,4.6,4.7,4.8,2.8,4.6,4.6,4.8,4.7,4.8,4.6,4.9,4.7,4.7,4.8,4.8,4.7,4.7,4.7,4.7,4.8,4.6,4.8,4.7,4.6,4.3,4.8,4.9,4.5,4.6,4.9,4.9,4.7,null,4.8,4.8,4.5,4.6,4.9,4.7,4.6,4.7,4.7,4.6,4.7,4.8,4.6,4.5,4.7,4.7,4.7,4.8,4.6,4.8,4.4,4.7,4.6,4.6,4.8,null,4.4,4.8,4.8,4.6,4.8,4.6,4.8,4.7,4.7,4.6,4.8,4.3,4.6,4.2,4.8,4.7,4.8,4.6,4.7,4.6,4.6,4.8,4.5,4.8,4.9,4.9,4.8,4.7,4.4,4.7,4.8,4.8,4.6,4.4,4.7,4.7,4.7,4.5,4.7,4.8,4.7,4.7,4.8,4.7,4.7,4.7,4.6,4.5,4.7,null,4.7,4.7,4.6,4.5,4.8,4.9,4.7,4.8,4.8,4.8,4.4,4.5,4.8,4.9,4.7,4.7,4.6,4.7,4.4,4.4,4.8,4.7,4.8,4.8,4.7,4.7,4.7,4.9,4.8,4.6,4.6,4.8,4.7,4.6,4.8,4.5,4.4,4.2,4.8,4.8,4.6,4.9,4.8,4.8,4.6,4.4,4.6,4.3,4.5,4.8,4.5,4.9,4.5,4.0,4.6,4.7,4.8,4.6,4.6,4.8,4.9,4.8,4.8,4.6,4.2,4.7,4.7,4.6,4.5,4.2,4.9,4.6,4.8,4.7,4.8,4.9,4.2,4.6,null,4.7,4.6,4.6,4.4,4.6,4.7,4.7,4.9,null,4.7,4.6,4.7,4.8,4.7,4.9,4.7,4.7,4.2,4.4,4.7,4.7,4.7,4.7,4.7,4.8,4.7,4.8,4.7,4.9,4.7,4.7,4.6,4.8,4.7,4.6,4.8,4.9,4.8,4.8,4.7,4.8,4.8,4.7,4.8,4.7,4.8,4.8,4.7,4.8,4.6,4.7,4.6,4.8,4.6,4.8,4.6,4.7,4.4,4.7,4.5,4.8,4.9,4.5,4.6,4.9,4.7,4.5,4.6,4.8,4.5,4.8,4.8,4.7,4.7,4.6,4.6,4.8,4.4,4.0,4.2,4.7,4.4,4.7,4.3,4.8,4.8,4.5,4.5,4.8,4.6,4.0,4.7,4.6,4.7,4.5,4.6,4.8,4.9,4.9,4.5,4.9,4.9,4.8,4.7,4.8,4.9,4.3,4.7,4.7,3.9,4.4,4.8,4.4,4.7,4.5,4.8,4.8,4.6,4.8,4.7,4.6,4.8,3.9,4.8,4.8,4.5,5.0,4.4,4.6,4.4,4.3,4.6,4.8,4.5,4.9,4.8,4.7,4.8,4.4,4.8,4.7,4.4,4.7,4.8,4.6,4.5,4.8,4.8,4.8,4.8,4.6,4.6,4.5,4.8,4.7,4.8,4.8,4.7,4.7,4.9,4.5,4.9,4.9,4.9,4.6,4.7,4.7,4.7,4.7,4.7,4.3,4.7,4.8,4.8,4.8,4.7,4.7,4.9,4.6,4.7,4.8,4.5,4.7,4.7,4.5,4.8,4.7,4.8,4.7,4.7,4.7,4.5,4.7,4.8,4.7,4.4,4.7,4.7,4.6,4.8,4.7,4.8,4.5,4.8,4.7,4.8,4.5,4.7,4.8,4.7,4.8,4.5,4.7,4.9,4.8,4.5,4.7,4.8,4.7,4.8,4.5,4.7,4.8,null,4.7,4.5,4.7,4.6,4.8,4.8,4.4,4.7,4.7,4.4,4.6,4.6,4.6,4.6,4.8,4.8,4.6,4.8,4.7,4.5,3.7,4.7,4.6,4.4,4.5,4.7,4.8,4.7,4.7,4.9,4.7,4.5,4.7,4.7,4.7,4.0,4.9,4.8,4.9,4.7,4.7,4.8,4.8,4.8,4.5,4.6,4.4,null,3.0,4.7,4.8,4.6,4.9,4.7,4.8,4.6,4.7,4.9,4.6,4.5,4.7,4.8,4.5,4.8,4.8,4.7,4.5,4.6,4.7,4.6,4.5,4.6,4.6,4.9,4.9,4.9,4.6,4.6,4.8,4.2,4.5,4.7,4.8,null,4.1],\"xaxis\":\"x\",\"yaxis\":\"y\",\"type\":\"histogram\"}],                        {\"template\":{\"data\":{\"histogram2dcontour\":[{\"type\":\"histogram2dcontour\",\"colorbar\":{\"outlinewidth\":0,\"ticks\":\"\"},\"colorscale\":[[0.0,\"#0d0887\"],[0.1111111111111111,\"#46039f\"],[0.2222222222222222,\"#7201a8\"],[0.3333333333333333,\"#9c179e\"],[0.4444444444444444,\"#bd3786\"],[0.5555555555555556,\"#d8576b\"],[0.6666666666666666,\"#ed7953\"],[0.7777777777777778,\"#fb9f3a\"],[0.8888888888888888,\"#fdca26\"],[1.0,\"#f0f921\"]]}],\"choropleth\":[{\"type\":\"choropleth\",\"colorbar\":{\"outlinewidth\":0,\"ticks\":\"\"}}],\"histogram2d\":[{\"type\":\"histogram2d\",\"colorbar\":{\"outlinewidth\":0,\"ticks\":\"\"},\"colorscale\":[[0.0,\"#0d0887\"],[0.1111111111111111,\"#46039f\"],[0.2222222222222222,\"#7201a8\"],[0.3333333333333333,\"#9c179e\"],[0.4444444444444444,\"#bd3786\"],[0.5555555555555556,\"#d8576b\"],[0.6666666666666666,\"#ed7953\"],[0.7777777777777778,\"#fb9f3a\"],[0.8888888888888888,\"#fdca26\"],[1.0,\"#f0f921\"]]}],\"heatmap\":[{\"type\":\"heatmap\",\"colorbar\":{\"outlinewidth\":0,\"ticks\":\"\"},\"colorscale\":[[0.0,\"#0d0887\"],[0.1111111111111111,\"#46039f\"],[0.2222222222222222,\"#7201a8\"],[0.3333333333333333,\"#9c179e\"],[0.4444444444444444,\"#bd3786\"],[0.5555555555555556,\"#d8576b\"],[0.6666666666666666,\"#ed7953\"],[0.7777777777777778,\"#fb9f3a\"],[0.8888888888888888,\"#fdca26\"],[1.0,\"#f0f921\"]]}],\"heatmapgl\":[{\"type\":\"heatmapgl\",\"colorbar\":{\"outlinewidth\":0,\"ticks\":\"\"},\"colorscale\":[[0.0,\"#0d0887\"],[0.1111111111111111,\"#46039f\"],[0.2222222222222222,\"#7201a8\"],[0.3333333333333333,\"#9c179e\"],[0.4444444444444444,\"#bd3786\"],[0.5555555555555556,\"#d8576b\"],[0.6666666666666666,\"#ed7953\"],[0.7777777777777778,\"#fb9f3a\"],[0.8888888888888888,\"#fdca26\"],[1.0,\"#f0f921\"]]}],\"contourcarpet\":[{\"type\":\"contourcarpet\",\"colorbar\":{\"outlinewidth\":0,\"ticks\":\"\"}}],\"contour\":[{\"type\":\"contour\",\"colorbar\":{\"outlinewidth\":0,\"ticks\":\"\"},\"colorscale\":[[0.0,\"#0d0887\"],[0.1111111111111111,\"#46039f\"],[0.2222222222222222,\"#7201a8\"],[0.3333333333333333,\"#9c179e\"],[0.4444444444444444,\"#bd3786\"],[0.5555555555555556,\"#d8576b\"],[0.6666666666666666,\"#ed7953\"],[0.7777777777777778,\"#fb9f3a\"],[0.8888888888888888,\"#fdca26\"],[1.0,\"#f0f921\"]]}],\"surface\":[{\"type\":\"surface\",\"colorbar\":{\"outlinewidth\":0,\"ticks\":\"\"},\"colorscale\":[[0.0,\"#0d0887\"],[0.1111111111111111,\"#46039f\"],[0.2222222222222222,\"#7201a8\"],[0.3333333333333333,\"#9c179e\"],[0.4444444444444444,\"#bd3786\"],[0.5555555555555556,\"#d8576b\"],[0.6666666666666666,\"#ed7953\"],[0.7777777777777778,\"#fb9f3a\"],[0.8888888888888888,\"#fdca26\"],[1.0,\"#f0f921\"]]}],\"mesh3d\":[{\"type\":\"mesh3d\",\"colorbar\":{\"outlinewidth\":0,\"ticks\":\"\"}}],\"scatter\":[{\"fillpattern\":{\"fillmode\":\"overlay\",\"size\":10,\"solidity\":0.2},\"type\":\"scatter\"}],\"parcoords\":[{\"type\":\"parcoords\",\"line\":{\"colorbar\":{\"outlinewidth\":0,\"ticks\":\"\"}}}],\"scatterpolargl\":[{\"type\":\"scatterpolargl\",\"marker\":{\"colorbar\":{\"outlinewidth\":0,\"ticks\":\"\"}}}],\"bar\":[{\"error_x\":{\"color\":\"#2a3f5f\"},\"error_y\":{\"color\":\"#2a3f5f\"},\"marker\":{\"line\":{\"color\":\"#E5ECF6\",\"width\":0.5},\"pattern\":{\"fillmode\":\"overlay\",\"size\":10,\"solidity\":0.2}},\"type\":\"bar\"}],\"scattergeo\":[{\"type\":\"scattergeo\",\"marker\":{\"colorbar\":{\"outlinewidth\":0,\"ticks\":\"\"}}}],\"scatterpolar\":[{\"type\":\"scatterpolar\",\"marker\":{\"colorbar\":{\"outlinewidth\":0,\"ticks\":\"\"}}}],\"histogram\":[{\"marker\":{\"pattern\":{\"fillmode\":\"overlay\",\"size\":10,\"solidity\":0.2}},\"type\":\"histogram\"}],\"scattergl\":[{\"type\":\"scattergl\",\"marker\":{\"colorbar\":{\"outlinewidth\":0,\"ticks\":\"\"}}}],\"scatter3d\":[{\"type\":\"scatter3d\",\"line\":{\"colorbar\":{\"outlinewidth\":0,\"ticks\":\"\"}},\"marker\":{\"colorbar\":{\"outlinewidth\":0,\"ticks\":\"\"}}}],\"scattermapbox\":[{\"type\":\"scattermapbox\",\"marker\":{\"colorbar\":{\"outlinewidth\":0,\"ticks\":\"\"}}}],\"scatterternary\":[{\"type\":\"scatterternary\",\"marker\":{\"colorbar\":{\"outlinewidth\":0,\"ticks\":\"\"}}}],\"scattercarpet\":[{\"type\":\"scattercarpet\",\"marker\":{\"colorbar\":{\"outlinewidth\":0,\"ticks\":\"\"}}}],\"carpet\":[{\"aaxis\":{\"endlinecolor\":\"#2a3f5f\",\"gridcolor\":\"white\",\"linecolor\":\"white\",\"minorgridcolor\":\"white\",\"startlinecolor\":\"#2a3f5f\"},\"baxis\":{\"endlinecolor\":\"#2a3f5f\",\"gridcolor\":\"white\",\"linecolor\":\"white\",\"minorgridcolor\":\"white\",\"startlinecolor\":\"#2a3f5f\"},\"type\":\"carpet\"}],\"table\":[{\"cells\":{\"fill\":{\"color\":\"#EBF0F8\"},\"line\":{\"color\":\"white\"}},\"header\":{\"fill\":{\"color\":\"#C8D4E3\"},\"line\":{\"color\":\"white\"}},\"type\":\"table\"}],\"barpolar\":[{\"marker\":{\"line\":{\"color\":\"#E5ECF6\",\"width\":0.5},\"pattern\":{\"fillmode\":\"overlay\",\"size\":10,\"solidity\":0.2}},\"type\":\"barpolar\"}],\"pie\":[{\"automargin\":true,\"type\":\"pie\"}]},\"layout\":{\"autotypenumbers\":\"strict\",\"colorway\":[\"#636efa\",\"#EF553B\",\"#00cc96\",\"#ab63fa\",\"#FFA15A\",\"#19d3f3\",\"#FF6692\",\"#B6E880\",\"#FF97FF\",\"#FECB52\"],\"font\":{\"color\":\"#2a3f5f\"},\"hovermode\":\"closest\",\"hoverlabel\":{\"align\":\"left\"},\"paper_bgcolor\":\"white\",\"plot_bgcolor\":\"#E5ECF6\",\"polar\":{\"bgcolor\":\"#E5ECF6\",\"angularaxis\":{\"gridcolor\":\"white\",\"linecolor\":\"white\",\"ticks\":\"\"},\"radialaxis\":{\"gridcolor\":\"white\",\"linecolor\":\"white\",\"ticks\":\"\"}},\"ternary\":{\"bgcolor\":\"#E5ECF6\",\"aaxis\":{\"gridcolor\":\"white\",\"linecolor\":\"white\",\"ticks\":\"\"},\"baxis\":{\"gridcolor\":\"white\",\"linecolor\":\"white\",\"ticks\":\"\"},\"caxis\":{\"gridcolor\":\"white\",\"linecolor\":\"white\",\"ticks\":\"\"}},\"coloraxis\":{\"colorbar\":{\"outlinewidth\":0,\"ticks\":\"\"}},\"colorscale\":{\"sequential\":[[0.0,\"#0d0887\"],[0.1111111111111111,\"#46039f\"],[0.2222222222222222,\"#7201a8\"],[0.3333333333333333,\"#9c179e\"],[0.4444444444444444,\"#bd3786\"],[0.5555555555555556,\"#d8576b\"],[0.6666666666666666,\"#ed7953\"],[0.7777777777777778,\"#fb9f3a\"],[0.8888888888888888,\"#fdca26\"],[1.0,\"#f0f921\"]],\"sequentialminus\":[[0.0,\"#0d0887\"],[0.1111111111111111,\"#46039f\"],[0.2222222222222222,\"#7201a8\"],[0.3333333333333333,\"#9c179e\"],[0.4444444444444444,\"#bd3786\"],[0.5555555555555556,\"#d8576b\"],[0.6666666666666666,\"#ed7953\"],[0.7777777777777778,\"#fb9f3a\"],[0.8888888888888888,\"#fdca26\"],[1.0,\"#f0f921\"]],\"diverging\":[[0,\"#8e0152\"],[0.1,\"#c51b7d\"],[0.2,\"#de77ae\"],[0.3,\"#f1b6da\"],[0.4,\"#fde0ef\"],[0.5,\"#f7f7f7\"],[0.6,\"#e6f5d0\"],[0.7,\"#b8e186\"],[0.8,\"#7fbc41\"],[0.9,\"#4d9221\"],[1,\"#276419\"]]},\"xaxis\":{\"gridcolor\":\"white\",\"linecolor\":\"white\",\"ticks\":\"\",\"title\":{\"standoff\":15},\"zerolinecolor\":\"white\",\"automargin\":true,\"zerolinewidth\":2},\"yaxis\":{\"gridcolor\":\"white\",\"linecolor\":\"white\",\"ticks\":\"\",\"title\":{\"standoff\":15},\"zerolinecolor\":\"white\",\"automargin\":true,\"zerolinewidth\":2},\"scene\":{\"xaxis\":{\"backgroundcolor\":\"#E5ECF6\",\"gridcolor\":\"white\",\"linecolor\":\"white\",\"showbackground\":true,\"ticks\":\"\",\"zerolinecolor\":\"white\",\"gridwidth\":2},\"yaxis\":{\"backgroundcolor\":\"#E5ECF6\",\"gridcolor\":\"white\",\"linecolor\":\"white\",\"showbackground\":true,\"ticks\":\"\",\"zerolinecolor\":\"white\",\"gridwidth\":2},\"zaxis\":{\"backgroundcolor\":\"#E5ECF6\",\"gridcolor\":\"white\",\"linecolor\":\"white\",\"showbackground\":true,\"ticks\":\"\",\"zerolinecolor\":\"white\",\"gridwidth\":2}},\"shapedefaults\":{\"line\":{\"color\":\"#2a3f5f\"}},\"annotationdefaults\":{\"arrowcolor\":\"#2a3f5f\",\"arrowhead\":0,\"arrowwidth\":1},\"geo\":{\"bgcolor\":\"white\",\"landcolor\":\"#E5ECF6\",\"subunitcolor\":\"white\",\"showland\":true,\"showlakes\":true,\"lakecolor\":\"white\"},\"title\":{\"x\":0.05},\"mapbox\":{\"style\":\"light\"}}},\"xaxis\":{\"anchor\":\"y\",\"domain\":[0.0,1.0],\"title\":{\"text\":\"Ratings\"}},\"yaxis\":{\"anchor\":\"x\",\"domain\":[0.0,1.0],\"title\":{\"text\":\"count\"}},\"legend\":{\"tracegroupgap\":0},\"margin\":{\"t\":60},\"barmode\":\"relative\"},                        {\"responsive\": true}                    ).then(function(){\n",
       "                            \n",
       "var gd = document.getElementById('44f5d8aa-d158-48c1-9f90-9a3b40b4ce5d');\n",
       "var x = new MutationObserver(function (mutations, observer) {{\n",
       "        var display = window.getComputedStyle(gd).display;\n",
       "        if (!display || display === 'none') {{\n",
       "            console.log([gd, 'removed!']);\n",
       "            Plotly.purge(gd);\n",
       "            observer.disconnect();\n",
       "        }}\n",
       "}});\n",
       "\n",
       "// Listen for the removal of the full notebook cells\n",
       "var notebookContainer = gd.closest('#notebook-container');\n",
       "if (notebookContainer) {{\n",
       "    x.observe(notebookContainer, {childList: true});\n",
       "}}\n",
       "\n",
       "// Listen for the clearing of the current output cell\n",
       "var outputEl = gd.closest('.output');\n",
       "if (outputEl) {{\n",
       "    x.observe(outputEl, {childList: true});\n",
       "}}\n",
       "\n",
       "                        })                };                });            </script>        </div>"
      ]
     },
     "metadata": {},
     "output_type": "display_data"
    }
   ],
   "source": [
    "histogram(data_frame=df, x='Ratings')"
   ]
  },
  {
   "cell_type": "markdown",
   "id": "0e813b68",
   "metadata": {
    "papermill": {
     "duration": 0.005341,
     "end_time": "2024-01-07T16:42:00.098437",
     "exception": false,
     "start_time": "2024-01-07T16:42:00.093096",
     "status": "completed"
    },
    "tags": []
   },
   "source": [
    "What do Ratings tell us? They tell us that users who submit ratings consider almost all of the courses high quality; they do not tell us much about which courses are better than others."
   ]
  },
  {
   "cell_type": "code",
   "execution_count": 5,
   "id": "c6feb9e3",
   "metadata": {
    "execution": {
     "iopub.execute_input": "2024-01-07T16:42:00.112613Z",
     "iopub.status.busy": "2024-01-07T16:42:00.112210Z",
     "iopub.status.idle": "2024-01-07T16:42:00.209776Z",
     "shell.execute_reply": "2024-01-07T16:42:00.208435Z"
    },
    "papermill": {
     "duration": 0.108355,
     "end_time": "2024-01-07T16:42:00.212353",
     "exception": false,
     "start_time": "2024-01-07T16:42:00.103998",
     "status": "completed"
    },
    "tags": []
   },
   "outputs": [
    {
     "data": {
      "text/html": [
       "<div>                            <div id=\"b4f8f4ea-7afa-4780-9566-1341e1c8df7d\" class=\"plotly-graph-div\" style=\"height:525px; width:100%;\"></div>            <script type=\"text/javascript\">                require([\"plotly\"], function(Plotly) {                    window.PLOTLYENV=window.PLOTLYENV || {};                                    if (document.getElementById(\"b4f8f4ea-7afa-4780-9566-1341e1c8df7d\")) {                    Plotly.newPlot(                        \"b4f8f4ea-7afa-4780-9566-1341e1c8df7d\",                        [{\"domain\":{\"x\":[0.0,1.0],\"y\":[0.0,1.0]},\"hovertemplate\":\"Difficulty=%{label}\\u003cextra\\u003e\\u003c\\u002fextra\\u003e\",\"labels\":[\"Beginner\",\"Beginner\",\"Beginner\",\"Beginner\",\"Beginner\",\"Beginner\",\"Beginner\",\"Beginner\",\"Beginner\",\"Beginner\",\"Beginner\",\"Beginner\",\"Beginner\",\"Beginner\",\"Beginner\",\"Beginner\",\"Beginner\",\"Beginner\",\"Beginner\",\"Beginner\",\"Intermediate\",\"Beginner\",\"Beginner\",\"Beginner\",\"Advanced\",\"Beginner\",\"Beginner\",\"Beginner\",\"Beginner\",\"Beginner\",\"Beginner\",\"Beginner\",\"Beginner\",\"Beginner\",\"Beginner\",\"Intermediate\",\"Beginner\",\"Intermediate\",\"Beginner\",\"Beginner\",\"Beginner\",\"Beginner\",\"Beginner\",\"Beginner\",\"Beginner\",\"Beginner\",\"Beginner\",\"Intermediate\",\"Beginner\",\"Beginner\",\"Beginner\",\"Beginner\",\"Beginner\",\"Beginner\",\"Beginner\",\"Beginner\",\"Intermediate\",\"Beginner\",\"Beginner\",\"Intermediate\",\"Beginner\",\"Beginner\",\"Advanced\",\"Beginner\",\"Beginner\",\"Beginner\",\"Beginner\",\"Beginner\",\"Beginner\",\"Beginner\",\"Beginner\",\"Advanced\",\"Beginner\",\"Beginner\",\"Beginner\",\"Mixed\",\"Beginner\",\"Beginner\",\"Beginner\",\"Beginner\",\"Beginner\",\"Beginner\",\"Beginner\",\"Intermediate\",\"Beginner\",\"Intermediate\",\"Intermediate\",\"Intermediate\",\"Intermediate\",\"Beginner\",\"Mixed\",\"Intermediate\",\"Intermediate\",\"Beginner\",\"Beginner\",\"Beginner\",\"Beginner\",\"Beginner\",\"Beginner\",\"Beginner\",\"Beginner\",\"Beginner\",\"Beginner\",\"Intermediate\",\"Beginner\",\"Beginner\",\"Beginner\",\"Intermediate\",\"Beginner\",\"Intermediate\",\"Beginner\",\"Intermediate\",\"Beginner\",\"Beginner\",\"Beginner\",\"Beginner\",\"Intermediate\",\"Beginner\",\"Beginner\",\"Beginner\",\"Intermediate\",\"Beginner\",\"Beginner\",\"Intermediate\",\"Beginner\",\"Beginner\",\"Beginner\",\"Intermediate\",\"Mixed\",\"Intermediate\",\"Beginner\",\"Intermediate\",\"Beginner\",\"Beginner\",\"Not Found\",\"Intermediate\",\"Beginner\",\"Beginner\",\"Intermediate\",\"Beginner\",\"Beginner\",\"Beginner\",\"Beginner\",\"Beginner\",\"Intermediate\",\"Beginner\",\"Beginner\",\"Beginner\",\"Beginner\",\"Beginner\",\"Intermediate\",\"Beginner\",\"Beginner\",\"Beginner\",\"Beginner\",\"Beginner\",\"Beginner\",\"Intermediate\",\"Beginner\",\"Beginner\",\"Beginner\",\"Beginner\",\"Beginner\",\"Beginner\",\"Intermediate\",\"Beginner\",\"Beginner\",\"Mixed\",\"Intermediate\",\"Beginner\",\"Beginner\",\"Not Found\",\"Intermediate\",\"Beginner\",\"Beginner\",\"Beginner\",\"Intermediate\",\"Intermediate\",\"Beginner\",\"Beginner\",\"Intermediate\",\"Beginner\",\"Beginner\",\"Beginner\",\"Beginner\",\"Beginner\",\"Beginner\",\"Intermediate\",\"Beginner\",\"Beginner\",\"Beginner\",\"Beginner\",\"Beginner\",\"Beginner\",\"Beginner\",\"Intermediate\",\"Beginner\",\"Beginner\",\"Intermediate\",\"Beginner\",\"Beginner\",\"Beginner\",\"Beginner\",\"Intermediate\",\"Beginner\",\"Beginner\",\"Beginner\",\"Beginner\",\"Beginner\",\"Beginner\",\"Beginner\",\"Beginner\",\"Beginner\",\"Beginner\",\"Beginner\",\"Beginner\",\"Intermediate\",\"Beginner\",\"Beginner\",\"Beginner\",\"Beginner\",\"Beginner\",\"Intermediate\",\"Intermediate\",\"Beginner\",\"Beginner\",\"Beginner\",\"Beginner\",\"Beginner\",\"Beginner\",\"Not Found\",\"Beginner\",\"Beginner\",\"Beginner\",\"Beginner\",\"Intermediate\",\"Intermediate\",\"Mixed\",\"Beginner\",\"Intermediate\",\"Intermediate\",\"Beginner\",\"Beginner\",\"Intermediate\",\"Beginner\",\"Not Found\",\"Beginner\",\"Advanced\",\"Advanced\",\"Beginner\",\"Intermediate\",\"Beginner\",\"Beginner\",\"Intermediate\",\"Beginner\",\"Not Found\",\"Advanced\",\"Beginner\",\"Beginner\",\"Advanced\",\"Beginner\",\"Beginner\",\"Beginner\",\"Beginner\",\"Beginner\",\"Beginner\",\"Beginner\",\"Beginner\",\"Beginner\",\"Beginner\",\"Beginner\",\"Beginner\",\"Advanced\",\"Beginner\",\"Beginner\",\"Beginner\",\"Intermediate\",\"Beginner\",\"Beginner\",\"Mixed\",\"Mixed\",\"Not Found\",\"Beginner\",\"Intermediate\",\"Not Found\",\"Beginner\",\"Beginner\",\"Beginner\",\"Beginner\",\"Mixed\",\"Intermediate\",\"Beginner\",\"Beginner\",\"Not Found\",\"Intermediate\",\"Beginner\",\"Beginner\",\"Beginner\",\"Not Found\",\"Beginner\",\"Beginner\",\"Beginner\",\"Beginner\",\"Beginner\",\"Beginner\",\"Beginner\",\"Beginner\",\"Beginner\",\"Intermediate\",\"Intermediate\",\"Not Found\",\"Advanced\",\"Beginner\",\"Beginner\",\"Mixed\",\"Not Found\",\"Not Found\",\"Intermediate\",\"Beginner\",\"Beginner\",\"Not Found\",\"Beginner\",\"Mixed\",\"Intermediate\",\"Beginner\",\"Beginner\",\"Beginner\",\"Beginner\",\"Mixed\",\"Beginner\",\"Beginner\",\"Advanced\",\"Beginner\",\"Beginner\",\"Beginner\",\"Not Found\",\"Beginner\",\"Beginner\",\"Beginner\",\"Beginner\",\"Intermediate\",\"Beginner\",\"Intermediate\",\"Intermediate\",\"Not Found\",\"Beginner\",\"Beginner\",\"Beginner\",\"Intermediate\",\"Intermediate\",\"Beginner\",\"Beginner\",\"Beginner\",\"Beginner\",\"Beginner\",\"Mixed\",\"Beginner\",\"Beginner\",\"Beginner\",\"Beginner\",\"Intermediate\",\"Beginner\",\"Beginner\",\"Mixed\",\"Beginner\",\"Beginner\",\"Beginner\",\"Beginner\",\"Beginner\",\"Advanced\",\"Beginner\",\"Beginner\",\"Beginner\",\"Not Found\",\"Beginner\",\"Beginner\",\"Intermediate\",\"Intermediate\",\"Beginner\",\"Beginner\",\"Beginner\",\"Beginner\",\"Beginner\",\"Beginner\",\"Beginner\",\"Intermediate\",\"Beginner\",\"Beginner\",\"Beginner\",\"Beginner\",\"Beginner\",\"Beginner\",\"Advanced\",\"Mixed\",\"Beginner\",\"Beginner\",\"Beginner\",\"Intermediate\",\"Beginner\",\"Advanced\",\"Beginner\",\"Beginner\",\"Beginner\",\"Beginner\",\"Not Found\",\"Beginner\",\"Mixed\",\"Beginner\",\"Beginner\",\"Beginner\",\"Not Found\",\"Intermediate\",\"Beginner\",\"Beginner\",\"Beginner\",\"Beginner\",\"Beginner\",\"Beginner\",\"Intermediate\",\"Beginner\",\"Beginner\",\"Mixed\",\"Beginner\",\"Beginner\",\"Beginner\",\"Not Found\",\"Mixed\",\"Intermediate\",\"Beginner\",\"Beginner\",\"Beginner\",\"Advanced\",\"Beginner\",\"Beginner\",\"Not Found\",\"Advanced\",\"Beginner\",\"Intermediate\",\"Beginner\",\"Beginner\",\"Advanced\",\"Beginner\",\"Beginner\",\"Beginner\",\"Intermediate\",\"Not Found\",\"Beginner\",\"Beginner\",\"Not Found\",\"Beginner\",\"Mixed\",\"Beginner\",\"Mixed\",\"Not Found\",\"Intermediate\",\"Mixed\",\"Not Found\",\"Beginner\",\"Beginner\",\"Intermediate\",\"Beginner\",\"Beginner\",\"Not Found\",\"Intermediate\",\"Intermediate\",\"Advanced\",\"Beginner\",\"Mixed\",\"Beginner\",\"Beginner\",\"Intermediate\",\"Beginner\",\"Beginner\",\"Beginner\",\"Not Found\",\"Intermediate\",\"Intermediate\",\"Intermediate\",\"Mixed\",\"Beginner\",\"Beginner\",\"Intermediate\",\"Intermediate\",\"Beginner\",\"Advanced\",\"Beginner\",\"Beginner\",\"Beginner\",\"Beginner\",\"Beginner\",\"Intermediate\",\"Not Found\",\"Beginner\",\"Not Found\",\"Intermediate\",\"Intermediate\",\"Beginner\",\"Beginner\",\"Beginner\",\"Beginner\",\"Beginner\",\"Not Found\",\"Intermediate\",\"Intermediate\",\"Beginner\",\"Intermediate\",\"Beginner\",\"Intermediate\",\"Beginner\",\"Beginner\",\"Mixed\",\"Beginner\",\"Mixed\",\"Not Found\",\"Intermediate\",\"Not Found\",\"Mixed\",\"Mixed\",\"Beginner\",\"Not Found\",\"Mixed\",\"Advanced\",\"Intermediate\",\"Mixed\",\"Not Found\",\"Intermediate\",\"Beginner\",\"Beginner\",\"Beginner\",\"Beginner\",\"Beginner\",\"Beginner\",\"Beginner\",\"Intermediate\",\"Beginner\",\"Beginner\",\"Not Found\",\"Mixed\",\"Intermediate\",\"Beginner\",\"Intermediate\",\"Beginner\",\"Beginner\",\"Beginner\",\"Not Found\",\"Beginner\",\"Beginner\",\"Beginner\",\"Beginner\",\"Not Found\",\"Beginner\",\"Beginner\",\"Beginner\",\"Not Found\",\"Beginner\",\"Beginner\",\"Intermediate\",\"Beginner\",\"Beginner\",\"Beginner\",\"Beginner\",\"Beginner\",\"Not Found\",\"Not Found\",\"Beginner\",\"Beginner\",\"Not Found\",\"Beginner\",\"Not Found\",\"Not Found\",\"Beginner\",\"Beginner\",\"Not Found\",\"Beginner\",\"Beginner\",\"Beginner\",\"Intermediate\",\"Intermediate\",\"Intermediate\",\"Intermediate\",\"Not Found\",\"Mixed\",\"Advanced\",\"Not Found\",\"Not Found\",\"Beginner\",\"Not Found\",\"Mixed\",\"Intermediate\",\"Intermediate\",\"Intermediate\",\"Beginner\",\"Not Found\",\"Beginner\",\"Not Found\",\"Beginner\",\"Beginner\",\"Beginner\",\"Beginner\",\"Not Found\",\"Intermediate\",\"Beginner\",\"Beginner\",\"Not Found\",\"Mixed\",\"Intermediate\",\"Beginner\",\"Beginner\",\"Beginner\",\"Not Found\",\"Beginner\",\"Beginner\",\"Not Found\",\"Beginner\",\"Intermediate\",\"Advanced\",\"Beginner\",\"Beginner\",\"Beginner\",\"Beginner\",\"Beginner\",\"Intermediate\",\"Beginner\",\"Intermediate\",\"Beginner\",\"Beginner\",\"Beginner\",\"Intermediate\",\"Intermediate\",\"Intermediate\",\"Intermediate\",\"Intermediate\",\"Intermediate\",\"Mixed\",\"Beginner\",\"Beginner\",\"Beginner\",\"Beginner\",\"Beginner\",\"Intermediate\",\"Beginner\",\"Beginner\",\"Intermediate\",\"Beginner\",\"Not Found\",\"Intermediate\",\"Beginner\",\"Beginner\",\"Beginner\",\"Beginner\",\"Intermediate\",\"Beginner\",\"Intermediate\",\"Beginner\",\"Beginner\",\"Not Found\",\"Beginner\",\"Beginner\",\"Beginner\",\"Beginner\",\"Beginner\",\"Beginner\",\"Mixed\",\"Mixed\",\"Beginner\",\"Intermediate\",\"Beginner\",\"Beginner\",\"Advanced\",\"Not Found\",\"Beginner\",\"Beginner\",\"Not Found\",\"Beginner\",\"Mixed\",\"Beginner\",\"Beginner\",\"Beginner\",\"Intermediate\",\"Mixed\",\"Not Found\",\"Not Found\",\"Beginner\",\"Beginner\",\"Intermediate\",\"Beginner\",\"Intermediate\",\"Not Found\",\"Not Found\",\"Intermediate\",\"Beginner\",\"Advanced\",\"Beginner\",\"Intermediate\",\"Not Found\",\"Beginner\",\"Beginner\",\"Beginner\",\"Intermediate\",\"Beginner\",\"Beginner\",\"Mixed\",\"Not Found\",\"Beginner\",\"Beginner\",\"Beginner\",\"Intermediate\",\"Intermediate\",\"Beginner\",\"Beginner\",\"Not Found\",\"Beginner\",\"Beginner\",\"Mixed\",\"Beginner\",\"Beginner\",\"Intermediate\",\"Beginner\",\"Beginner\",\"Not Found\",\"Beginner\",\"Intermediate\",\"Beginner\",\"Intermediate\",\"Beginner\",\"Mixed\",\"Not Found\",\"Beginner\",\"Beginner\",\"Beginner\",\"Beginner\",\"Beginner\",\"Beginner\",\"Beginner\",\"Beginner\",\"Intermediate\",\"Beginner\",\"Not Found\",\"Beginner\",\"Intermediate\",\"Beginner\",\"Not Found\",\"Beginner\",\"Beginner\",\"Beginner\",\"Not Found\",\"Beginner\",\"Beginner\",\"Beginner\",\"Not Found\",\"Advanced\",\"Advanced\",\"Beginner\",\"Beginner\",\"Beginner\",\"Beginner\",\"Beginner\",\"Intermediate\",\"Intermediate\",\"Beginner\",\"Mixed\",\"Intermediate\",\"Intermediate\",\"Beginner\",\"Beginner\",\"Beginner\",\"Not Found\",\"Intermediate\",\"Beginner\",\"Beginner\",\"Not Found\",\"Beginner\",\"Beginner\",\"Beginner\",\"Mixed\",\"Mixed\",\"Beginner\",\"Beginner\",\"Intermediate\",\"Intermediate\",\"Intermediate\",\"Not Found\",\"Beginner\",\"Beginner\",\"Beginner\",\"Not Found\",\"Beginner\",\"Beginner\",\"Intermediate\",\"Beginner\",\"Beginner\",\"Beginner\",\"Mixed\",\"Beginner\",\"Mixed\",\"Beginner\",\"Beginner\",\"Beginner\",\"Intermediate\",\"Beginner\",\"Intermediate\",\"Beginner\",\"Not Found\",\"Advanced\",\"Not Found\",\"Intermediate\",\"Advanced\",\"Beginner\",\"Intermediate\",\"Beginner\",\"Advanced\",\"Beginner\",\"Beginner\",\"Intermediate\",\"Intermediate\",\"Advanced\",\"Beginner\",\"Not Found\",\"Beginner\",\"Beginner\",\"Not Found\",\"Beginner\",\"Not Found\",\"Intermediate\",\"Not Found\",\"Beginner\",\"Intermediate\",\"Beginner\",\"Intermediate\",\"Beginner\",\"Beginner\",\"Not Found\",\"Beginner\",\"Beginner\",\"Beginner\",\"Beginner\",\"Beginner\",\"Intermediate\",\"Beginner\",\"Beginner\",\"Beginner\",\"Beginner\",\"Beginner\",\"Beginner\",\"Beginner\",\"Not Found\",\"Advanced\",\"Beginner\",\"Not Found\",\"Intermediate\",\"Beginner\",\"Not Found\",\"Beginner\",\"Not Found\",\"Intermediate\",\"Beginner\",\"Not Found\",\"Beginner\",\"Beginner\",\"Intermediate\",\"Intermediate\",\"Beginner\",\"Beginner\",\"Intermediate\",\"Not Found\",\"Intermediate\",\"Intermediate\",\"Mixed\",\"Beginner\",\"Not Found\",\"Intermediate\",\"Beginner\",\"Beginner\",\"Intermediate\",\"Beginner\",\"Beginner\",\"Not Found\",\"Beginner\",\"Beginner\",\"Advanced\",\"Advanced\",\"Beginner\",\"Intermediate\",\"Intermediate\",\"Not Found\",\"Advanced\",\"Beginner\",\"Mixed\",\"Intermediate\",\"Beginner\",\"Beginner\",\"Not Found\",\"Beginner\",\"Beginner\",\"Not Found\",\"Beginner\",\"Not Found\",\"Intermediate\",\"Intermediate\",\"Beginner\",\"Beginner\",\"Beginner\",\"Mixed\",\"Intermediate\",\"Beginner\",\"Not Found\",\"Beginner\",\"Not Found\",\"Beginner\",\"Mixed\",\"Beginner\",\"Beginner\",\"Intermediate\",\"Mixed\",\"Beginner\",\"Not Found\",\"Beginner\",\"Beginner\",\"Beginner\",\"Not Found\",\"Beginner\",\"Beginner\",\"Beginner\",\"Beginner\",\"Intermediate\",\"Mixed\",\"Beginner\",\"Not Found\",\"Beginner\",\"Not Found\",\"Intermediate\",\"Mixed\",\"Beginner\",\"Beginner\",\"Mixed\",\"Mixed\",\"Intermediate\",\"Intermediate\",\"Beginner\",\"Not Found\",\"Beginner\",\"Beginner\",\"Beginner\",\"Intermediate\",\"Intermediate\",\"Intermediate\",\"Mixed\",\"Intermediate\",\"Beginner\",\"Mixed\",\"Beginner\",\"Beginner\",\"Beginner\",\"Not Found\",\"Beginner\",\"Beginner\",\"Beginner\",\"Beginner\",\"Not Found\",\"Beginner\",\"Intermediate\",\"Intermediate\",\"Not Found\",\"Beginner\",\"Beginner\",\"Advanced\",\"Intermediate\",\"Not Found\",\"Beginner\",\"Not Found\",\"Beginner\",\"Intermediate\",\"Not Found\",\"Intermediate\",\"Beginner\",\"Not Found\",\"Intermediate\",null,null,null,null,null,null,null,null,null,null,null,null,null,null,null,null,null,null,null,null,null,null,null],\"legendgroup\":\"\",\"name\":\"\",\"showlegend\":true,\"type\":\"pie\",\"textinfo\":\"label+value\",\"textposition\":\"inside\"}],                        {\"template\":{\"data\":{\"histogram2dcontour\":[{\"type\":\"histogram2dcontour\",\"colorbar\":{\"outlinewidth\":0,\"ticks\":\"\"},\"colorscale\":[[0.0,\"#0d0887\"],[0.1111111111111111,\"#46039f\"],[0.2222222222222222,\"#7201a8\"],[0.3333333333333333,\"#9c179e\"],[0.4444444444444444,\"#bd3786\"],[0.5555555555555556,\"#d8576b\"],[0.6666666666666666,\"#ed7953\"],[0.7777777777777778,\"#fb9f3a\"],[0.8888888888888888,\"#fdca26\"],[1.0,\"#f0f921\"]]}],\"choropleth\":[{\"type\":\"choropleth\",\"colorbar\":{\"outlinewidth\":0,\"ticks\":\"\"}}],\"histogram2d\":[{\"type\":\"histogram2d\",\"colorbar\":{\"outlinewidth\":0,\"ticks\":\"\"},\"colorscale\":[[0.0,\"#0d0887\"],[0.1111111111111111,\"#46039f\"],[0.2222222222222222,\"#7201a8\"],[0.3333333333333333,\"#9c179e\"],[0.4444444444444444,\"#bd3786\"],[0.5555555555555556,\"#d8576b\"],[0.6666666666666666,\"#ed7953\"],[0.7777777777777778,\"#fb9f3a\"],[0.8888888888888888,\"#fdca26\"],[1.0,\"#f0f921\"]]}],\"heatmap\":[{\"type\":\"heatmap\",\"colorbar\":{\"outlinewidth\":0,\"ticks\":\"\"},\"colorscale\":[[0.0,\"#0d0887\"],[0.1111111111111111,\"#46039f\"],[0.2222222222222222,\"#7201a8\"],[0.3333333333333333,\"#9c179e\"],[0.4444444444444444,\"#bd3786\"],[0.5555555555555556,\"#d8576b\"],[0.6666666666666666,\"#ed7953\"],[0.7777777777777778,\"#fb9f3a\"],[0.8888888888888888,\"#fdca26\"],[1.0,\"#f0f921\"]]}],\"heatmapgl\":[{\"type\":\"heatmapgl\",\"colorbar\":{\"outlinewidth\":0,\"ticks\":\"\"},\"colorscale\":[[0.0,\"#0d0887\"],[0.1111111111111111,\"#46039f\"],[0.2222222222222222,\"#7201a8\"],[0.3333333333333333,\"#9c179e\"],[0.4444444444444444,\"#bd3786\"],[0.5555555555555556,\"#d8576b\"],[0.6666666666666666,\"#ed7953\"],[0.7777777777777778,\"#fb9f3a\"],[0.8888888888888888,\"#fdca26\"],[1.0,\"#f0f921\"]]}],\"contourcarpet\":[{\"type\":\"contourcarpet\",\"colorbar\":{\"outlinewidth\":0,\"ticks\":\"\"}}],\"contour\":[{\"type\":\"contour\",\"colorbar\":{\"outlinewidth\":0,\"ticks\":\"\"},\"colorscale\":[[0.0,\"#0d0887\"],[0.1111111111111111,\"#46039f\"],[0.2222222222222222,\"#7201a8\"],[0.3333333333333333,\"#9c179e\"],[0.4444444444444444,\"#bd3786\"],[0.5555555555555556,\"#d8576b\"],[0.6666666666666666,\"#ed7953\"],[0.7777777777777778,\"#fb9f3a\"],[0.8888888888888888,\"#fdca26\"],[1.0,\"#f0f921\"]]}],\"surface\":[{\"type\":\"surface\",\"colorbar\":{\"outlinewidth\":0,\"ticks\":\"\"},\"colorscale\":[[0.0,\"#0d0887\"],[0.1111111111111111,\"#46039f\"],[0.2222222222222222,\"#7201a8\"],[0.3333333333333333,\"#9c179e\"],[0.4444444444444444,\"#bd3786\"],[0.5555555555555556,\"#d8576b\"],[0.6666666666666666,\"#ed7953\"],[0.7777777777777778,\"#fb9f3a\"],[0.8888888888888888,\"#fdca26\"],[1.0,\"#f0f921\"]]}],\"mesh3d\":[{\"type\":\"mesh3d\",\"colorbar\":{\"outlinewidth\":0,\"ticks\":\"\"}}],\"scatter\":[{\"fillpattern\":{\"fillmode\":\"overlay\",\"size\":10,\"solidity\":0.2},\"type\":\"scatter\"}],\"parcoords\":[{\"type\":\"parcoords\",\"line\":{\"colorbar\":{\"outlinewidth\":0,\"ticks\":\"\"}}}],\"scatterpolargl\":[{\"type\":\"scatterpolargl\",\"marker\":{\"colorbar\":{\"outlinewidth\":0,\"ticks\":\"\"}}}],\"bar\":[{\"error_x\":{\"color\":\"#2a3f5f\"},\"error_y\":{\"color\":\"#2a3f5f\"},\"marker\":{\"line\":{\"color\":\"#E5ECF6\",\"width\":0.5},\"pattern\":{\"fillmode\":\"overlay\",\"size\":10,\"solidity\":0.2}},\"type\":\"bar\"}],\"scattergeo\":[{\"type\":\"scattergeo\",\"marker\":{\"colorbar\":{\"outlinewidth\":0,\"ticks\":\"\"}}}],\"scatterpolar\":[{\"type\":\"scatterpolar\",\"marker\":{\"colorbar\":{\"outlinewidth\":0,\"ticks\":\"\"}}}],\"histogram\":[{\"marker\":{\"pattern\":{\"fillmode\":\"overlay\",\"size\":10,\"solidity\":0.2}},\"type\":\"histogram\"}],\"scattergl\":[{\"type\":\"scattergl\",\"marker\":{\"colorbar\":{\"outlinewidth\":0,\"ticks\":\"\"}}}],\"scatter3d\":[{\"type\":\"scatter3d\",\"line\":{\"colorbar\":{\"outlinewidth\":0,\"ticks\":\"\"}},\"marker\":{\"colorbar\":{\"outlinewidth\":0,\"ticks\":\"\"}}}],\"scattermapbox\":[{\"type\":\"scattermapbox\",\"marker\":{\"colorbar\":{\"outlinewidth\":0,\"ticks\":\"\"}}}],\"scatterternary\":[{\"type\":\"scatterternary\",\"marker\":{\"colorbar\":{\"outlinewidth\":0,\"ticks\":\"\"}}}],\"scattercarpet\":[{\"type\":\"scattercarpet\",\"marker\":{\"colorbar\":{\"outlinewidth\":0,\"ticks\":\"\"}}}],\"carpet\":[{\"aaxis\":{\"endlinecolor\":\"#2a3f5f\",\"gridcolor\":\"white\",\"linecolor\":\"white\",\"minorgridcolor\":\"white\",\"startlinecolor\":\"#2a3f5f\"},\"baxis\":{\"endlinecolor\":\"#2a3f5f\",\"gridcolor\":\"white\",\"linecolor\":\"white\",\"minorgridcolor\":\"white\",\"startlinecolor\":\"#2a3f5f\"},\"type\":\"carpet\"}],\"table\":[{\"cells\":{\"fill\":{\"color\":\"#EBF0F8\"},\"line\":{\"color\":\"white\"}},\"header\":{\"fill\":{\"color\":\"#C8D4E3\"},\"line\":{\"color\":\"white\"}},\"type\":\"table\"}],\"barpolar\":[{\"marker\":{\"line\":{\"color\":\"#E5ECF6\",\"width\":0.5},\"pattern\":{\"fillmode\":\"overlay\",\"size\":10,\"solidity\":0.2}},\"type\":\"barpolar\"}],\"pie\":[{\"automargin\":true,\"type\":\"pie\"}]},\"layout\":{\"autotypenumbers\":\"strict\",\"colorway\":[\"#636efa\",\"#EF553B\",\"#00cc96\",\"#ab63fa\",\"#FFA15A\",\"#19d3f3\",\"#FF6692\",\"#B6E880\",\"#FF97FF\",\"#FECB52\"],\"font\":{\"color\":\"#2a3f5f\"},\"hovermode\":\"closest\",\"hoverlabel\":{\"align\":\"left\"},\"paper_bgcolor\":\"white\",\"plot_bgcolor\":\"#E5ECF6\",\"polar\":{\"bgcolor\":\"#E5ECF6\",\"angularaxis\":{\"gridcolor\":\"white\",\"linecolor\":\"white\",\"ticks\":\"\"},\"radialaxis\":{\"gridcolor\":\"white\",\"linecolor\":\"white\",\"ticks\":\"\"}},\"ternary\":{\"bgcolor\":\"#E5ECF6\",\"aaxis\":{\"gridcolor\":\"white\",\"linecolor\":\"white\",\"ticks\":\"\"},\"baxis\":{\"gridcolor\":\"white\",\"linecolor\":\"white\",\"ticks\":\"\"},\"caxis\":{\"gridcolor\":\"white\",\"linecolor\":\"white\",\"ticks\":\"\"}},\"coloraxis\":{\"colorbar\":{\"outlinewidth\":0,\"ticks\":\"\"}},\"colorscale\":{\"sequential\":[[0.0,\"#0d0887\"],[0.1111111111111111,\"#46039f\"],[0.2222222222222222,\"#7201a8\"],[0.3333333333333333,\"#9c179e\"],[0.4444444444444444,\"#bd3786\"],[0.5555555555555556,\"#d8576b\"],[0.6666666666666666,\"#ed7953\"],[0.7777777777777778,\"#fb9f3a\"],[0.8888888888888888,\"#fdca26\"],[1.0,\"#f0f921\"]],\"sequentialminus\":[[0.0,\"#0d0887\"],[0.1111111111111111,\"#46039f\"],[0.2222222222222222,\"#7201a8\"],[0.3333333333333333,\"#9c179e\"],[0.4444444444444444,\"#bd3786\"],[0.5555555555555556,\"#d8576b\"],[0.6666666666666666,\"#ed7953\"],[0.7777777777777778,\"#fb9f3a\"],[0.8888888888888888,\"#fdca26\"],[1.0,\"#f0f921\"]],\"diverging\":[[0,\"#8e0152\"],[0.1,\"#c51b7d\"],[0.2,\"#de77ae\"],[0.3,\"#f1b6da\"],[0.4,\"#fde0ef\"],[0.5,\"#f7f7f7\"],[0.6,\"#e6f5d0\"],[0.7,\"#b8e186\"],[0.8,\"#7fbc41\"],[0.9,\"#4d9221\"],[1,\"#276419\"]]},\"xaxis\":{\"gridcolor\":\"white\",\"linecolor\":\"white\",\"ticks\":\"\",\"title\":{\"standoff\":15},\"zerolinecolor\":\"white\",\"automargin\":true,\"zerolinewidth\":2},\"yaxis\":{\"gridcolor\":\"white\",\"linecolor\":\"white\",\"ticks\":\"\",\"title\":{\"standoff\":15},\"zerolinecolor\":\"white\",\"automargin\":true,\"zerolinewidth\":2},\"scene\":{\"xaxis\":{\"backgroundcolor\":\"#E5ECF6\",\"gridcolor\":\"white\",\"linecolor\":\"white\",\"showbackground\":true,\"ticks\":\"\",\"zerolinecolor\":\"white\",\"gridwidth\":2},\"yaxis\":{\"backgroundcolor\":\"#E5ECF6\",\"gridcolor\":\"white\",\"linecolor\":\"white\",\"showbackground\":true,\"ticks\":\"\",\"zerolinecolor\":\"white\",\"gridwidth\":2},\"zaxis\":{\"backgroundcolor\":\"#E5ECF6\",\"gridcolor\":\"white\",\"linecolor\":\"white\",\"showbackground\":true,\"ticks\":\"\",\"zerolinecolor\":\"white\",\"gridwidth\":2}},\"shapedefaults\":{\"line\":{\"color\":\"#2a3f5f\"}},\"annotationdefaults\":{\"arrowcolor\":\"#2a3f5f\",\"arrowhead\":0,\"arrowwidth\":1},\"geo\":{\"bgcolor\":\"white\",\"landcolor\":\"#E5ECF6\",\"subunitcolor\":\"white\",\"showland\":true,\"showlakes\":true,\"lakecolor\":\"white\"},\"title\":{\"x\":0.05},\"mapbox\":{\"style\":\"light\"}}},\"legend\":{\"tracegroupgap\":0},\"margin\":{\"t\":60},\"showlegend\":false},                        {\"responsive\": true}                    ).then(function(){\n",
       "                            \n",
       "var gd = document.getElementById('b4f8f4ea-7afa-4780-9566-1341e1c8df7d');\n",
       "var x = new MutationObserver(function (mutations, observer) {{\n",
       "        var display = window.getComputedStyle(gd).display;\n",
       "        if (!display || display === 'none') {{\n",
       "            console.log([gd, 'removed!']);\n",
       "            Plotly.purge(gd);\n",
       "            observer.disconnect();\n",
       "        }}\n",
       "}});\n",
       "\n",
       "// Listen for the removal of the full notebook cells\n",
       "var notebookContainer = gd.closest('#notebook-container');\n",
       "if (notebookContainer) {{\n",
       "    x.observe(notebookContainer, {childList: true});\n",
       "}}\n",
       "\n",
       "// Listen for the clearing of the current output cell\n",
       "var outputEl = gd.closest('.output');\n",
       "if (outputEl) {{\n",
       "    x.observe(outputEl, {childList: true});\n",
       "}}\n",
       "\n",
       "                        })                };                });            </script>        </div>"
      ]
     },
     "metadata": {},
     "output_type": "display_data"
    }
   ],
   "source": [
    "from plotly.express import pie\n",
    "pie(data_frame=df, names='Difficulty', ).update_traces(textposition='inside', textinfo='label+value').update_layout(showlegend=False)"
   ]
  },
  {
   "cell_type": "markdown",
   "id": "90c5762a",
   "metadata": {
    "papermill": {
     "duration": 0.006175,
     "end_time": "2024-01-07T16:42:00.225016",
     "exception": false,
     "start_time": "2024-01-07T16:42:00.218841",
     "status": "completed"
    },
    "tags": []
   },
   "source": [
    "When visualizing a simple data series it is easy to fall into false precision; this series really only tells us a couple of things:\n",
    "* More than half of courses are beginner-difficulty courses\n",
    "* Roughly three quarters of courses are beginner- or intermediate-difficulty courses "
   ]
  },
  {
   "cell_type": "code",
   "execution_count": 6,
   "id": "463d090c",
   "metadata": {
    "execution": {
     "iopub.execute_input": "2024-01-07T16:42:00.241044Z",
     "iopub.status.busy": "2024-01-07T16:42:00.239926Z",
     "iopub.status.idle": "2024-01-07T16:42:00.307631Z",
     "shell.execute_reply": "2024-01-07T16:42:00.306465Z"
    },
    "papermill": {
     "duration": 0.078671,
     "end_time": "2024-01-07T16:42:00.310778",
     "exception": false,
     "start_time": "2024-01-07T16:42:00.232107",
     "status": "completed"
    },
    "tags": []
   },
   "outputs": [
    {
     "data": {
      "text/html": [
       "<div>                            <div id=\"4e0aace0-7a5a-4f42-a3ae-6000b2eec9db\" class=\"plotly-graph-div\" style=\"height:525px; width:100%;\"></div>            <script type=\"text/javascript\">                require([\"plotly\"], function(Plotly) {                    window.PLOTLYENV=window.PLOTLYENV || {};                                    if (document.getElementById(\"4e0aace0-7a5a-4f42-a3ae-6000b2eec9db\")) {                    Plotly.newPlot(                        \"4e0aace0-7a5a-4f42-a3ae-6000b2eec9db\",                        [{\"domain\":{\"x\":[0.0,1.0],\"y\":[0.0,1.0]},\"hovertemplate\":\"Type_Of_Certificate=%{label}\\u003cextra\\u003e\\u003c\\u002fextra\\u003e\",\"labels\":[\"Professional Certificate\",\"Professional Certificate\",\"Professional Certificate\",\"Professional Certificate\",\"Professional Certificate\",\"Professional Certificate\",\"Professional Certificate\",\"Specialization\",\"Professional Certificate\",\"Professional Certificate\",\"Professional Certificate\",\"Professional Certificate\",\"Specialization\",\"Specialization\",\"Specialization\",\"Specialization\",\"Professional Certificate\",\"Specialization\",\"Specialization\",\"Specialization\",\"Course\",\"Specialization\",\"Specialization\",\"Professional Certificate\",\"Professional Certificate\",\"Professional Certificate\",\"Professional Certificate\",\"Specialization\",\"Specialization\",\"Professional Certificate\",\"Course\",\"Professional Certificate\",\"Course\",\"Professional Certificate\",\"Professional Certificate\",\"Specialization\",\"Course\",\"Professional Certificate\",\"Course\",\"Course\",\"Specialization\",\"Professional Certificate\",\"Specialization\",\"Course\",\"Professional Certificate\",\"Professional Certificate\",\"Specialization\",\"Professional Certificate\",\"Professional Certificate\",\"Specialization\",\"Specialization\",\"Professional Certificate\",\"Course\",\"Professional Certificate\",\"Course\",\"Specialization\",\"Professional Certificate\",\"Specialization\",\"Specialization\",\"Specialization\",\"Course\",\"Specialization\",\"Specialization\",\"Course\",\"Professional Certificate\",\"Professional Certificate\",\"Specialization\",\"Professional Certificate\",\"Professional Certificate\",\"Course\",\"Specialization\",\"Professional Certificate\",\"Course\",\"Course\",\"Professional Certificate\",\"Course\",\"Professional Certificate\",\"Course\",\"Course\",\"Course\",\"Specialization\",\"Professional Certificate\",\"Course\",\"Professional Certificate\",\"Specialization\",\"Course\",\"Professional Certificate\",\"Professional Certificate\",\"Professional Certificate\",\"Specialization\",\"Course\",\"Specialization\",\"Specialization\",\"Specialization\",\"Specialization\",\"Specialization\",\"Specialization\",\"Specialization\",\"Specialization\",\"Course\",\"Professional Certificate\",\"Professional Certificate\",\"Course\",\"Professional Certificate\",\"Professional Certificate\",\"Course\",\"Course\",\"Specialization\",\"Professional Certificate\",\"Specialization\",\"Course\",\"Professional Certificate\",\"Professional Certificate\",\"Specialization\",\"Course\",\"Course\",\"Professional Certificate\",\"Professional Certificate\",\"Professional Certificate\",\"Specialization\",\"Professional Certificate\",\"Specialization\",\"Course\",\"Professional Certificate\",\"Course\",\"Professional Certificate\",\"Course\",\"Specialization\",\"Course\",\"Specialization\",\"Specialization\",\"Specialization\",\"Course\",\"Course\",\"Not Found\",\"Specialization\",\"Specialization\",\"Course\",\"Specialization\",\"Specialization\",\"Course\",\"Specialization\",\"Course\",\"Professional Certificate\",\"Specialization\",\"Professional Certificate\",\"Specialization\",\"Specialization\",\"Specialization\",\"Specialization\",\"Specialization\",\"Specialization\",\"Course\",\"Specialization\",\"Specialization\",\"Course\",\"Course\",\"Specialization\",\"Professional Certificate\",\"Specialization\",\"Specialization\",\"Specialization\",\"Specialization\",\"Specialization\",\"Specialization\",\"Professional Certificate\",\"Specialization\",\"Course\",\"Specialization\",\"Course\",\"Specialization\",\"Not Found\",\"Specialization\",\"Course\",\"Course\",\"Specialization\",\"Specialization\",\"Specialization\",\"Course\",\"Course\",\"Course\",\"Specialization\",\"Specialization\",\"Specialization\",\"Course\",\"Course\",\"Professional Certificate\",\"Course\",\"Professional Certificate\",\"Specialization\",\"Specialization\",\"Course\",\"Course\",\"Specialization\",\"Course\",\"Specialization\",\"Course\",\"Specialization\",\"Professional Certificate\",\"Professional Certificate\",\"Specialization\",\"Professional Certificate\",\"Course\",\"Specialization\",\"Specialization\",\"Course\",\"Specialization\",\"Specialization\",\"Specialization\",\"Specialization\",\"Course\",\"Course\",\"Specialization\",\"Specialization\",\"Specialization\",\"Specialization\",\"Specialization\",\"Course\",\"Specialization\",\"Course\",\"Specialization\",\"Course\",\"Specialization\",\"Course\",\"Specialization\",\"Specialization\",\"Course\",\"Course\",\"Specialization\",\"Course\",\"Not Found\",\"Professional Certificate\",\"Course\",\"Course\",\"Specialization\",\"Course\",\"Professional Certificate\",\"Course\",\"Course\",\"Course\",\"Course\",\"Specialization\",\"Professional Certificate\",\"Specialization\",\"Course\",\"Not Found\",\"Course\",\"Course\",\"Course\",\"Specialization\",\"Course\",\"Specialization\",\"Specialization\",\"Specialization\",\"Specialization\",\"Not Found\",\"Specialization\",\"Course\",\"Specialization\",\"Specialization\",\"Course\",\"Specialization\",\"Course\",\"Specialization\",\"Specialization\",\"Specialization\",\"Specialization\",\"Specialization\",\"Professional Certificate\",\"Specialization\",\"Specialization\",\"Specialization\",\"Course\",\"Professional Certificate\",\"Specialization\",\"Specialization\",\"Specialization\",\"Course\",\"Course\",\"Course\",\"Course\",\"Not Found\",\"Professional Certificate\",\"Specialization\",\"Not Found\",\"Course\",\"Professional Certificate\",\"Course\",\"Specialization\",\"Course\",\"Course\",\"Specialization\",\"Specialization\",\"Not Found\",\"Course\",\"Course\",\"Course\",\"Specialization\",\"Not Found\",\"Specialization\",\"Specialization\",\"Course\",\"Course\",\"Course\",\"Course\",\"Specialization\",\"Specialization\",\"Specialization\",\"Specialization\",\"Course\",\"Not Found\",\"Course\",\"Specialization\",\"Course\",\"Course\",\"Not Found\",\"Not Found\",\"Professional Certificate\",\"Specialization\",\"Specialization\",\"Not Found\",\"Course\",\"Course\",\"Specialization\",\"Course\",\"Specialization\",\"Professional Certificate\",\"Specialization\",\"Course\",\"Specialization\",\"Course\",\"Course\",\"Specialization\",\"Course\",\"Course\",\"Not Found\",\"Course\",\"Specialization\",\"Specialization\",\"Specialization\",\"Specialization\",\"Specialization\",\"Specialization\",\"Specialization\",\"Not Found\",\"Specialization\",\"Course\",\"Course\",\"Course\",\"Specialization\",\"Specialization\",\"Course\",\"Specialization\",\"Course\",\"Professional Certificate\",\"Course\",\"Course\",\"Professional Certificate\",\"Course\",\"Course\",\"Specialization\",\"Course\",\"Specialization\",\"Course\",\"Specialization\",\"Specialization\",\"Course\",\"Course\",\"Specialization\",\"Specialization\",\"Course\",\"Specialization\",\"Course\",\"Not Found\",\"Specialization\",\"Course\",\"Specialization\",\"Specialization\",\"Specialization\",\"Specialization\",\"Course\",\"Course\",\"Specialization\",\"Course\",\"Course\",\"Course\",\"Professional Certificate\",\"Course\",\"Specialization\",\"Specialization\",\"Course\",\"Course\",\"Specialization\",\"Course\",\"Specialization\",\"Specialization\",\"Course\",\"Specialization\",\"Course\",\"Specialization\",\"Professional Certificate\",\"Specialization\",\"Professional Certificate\",\"Specialization\",\"Not Found\",\"Specialization\",\"Course\",\"Course\",\"Specialization\",\"Course\",\"Not Found\",\"Professional Certificate\",\"Specialization\",\"Course\",\"Specialization\",\"Specialization\",\"Specialization\",\"Specialization\",\"Course\",\"Specialization\",\"Specialization\",\"Course\",\"Course\",\"Specialization\",\"Course\",\"Not Found\",\"Course\",\"Specialization\",\"Course\",\"Specialization\",\"Specialization\",\"Course\",\"Specialization\",\"Specialization\",\"Not Found\",\"Course\",\"Course\",\"Specialization\",\"Course\",\"Course\",\"Specialization\",\"Specialization\",\"Professional Certificate\",\"Course\",\"Specialization\",\"Not Found\",\"Specialization\",\"Course\",\"Not Found\",\"Specialization\",\"Course\",\"Course\",\"Course\",\"Not Found\",\"Course\",\"Course\",\"Not Found\",\"Course\",\"Course\",\"Specialization\",\"Specialization\",\"Course\",\"Not Found\",\"Specialization\",\"Professional Certificate\",\"Course\",\"Course\",\"Course\",\"Course\",\"Course\",\"Course\",\"Course\",\"Specialization\",\"Course\",\"Not Found\",\"Course\",\"Specialization\",\"Course\",\"Course\",\"Specialization\",\"Professional Certificate\",\"Specialization\",\"Specialization\",\"Course\",\"Course\",\"Course\",\"Specialization\",\"Specialization\",\"Specialization\",\"Specialization\",\"Specialization\",\"Not Found\",\"Specialization\",\"Not Found\",\"Course\",\"Specialization\",\"Specialization\",\"Course\",\"Specialization\",\"Specialization\",\"Specialization\",\"Not Found\",\"Course\",\"Specialization\",\"Course\",\"Course\",\"Course\",\"Course\",\"Course\",\"Course\",\"Course\",\"Course\",\"Course\",\"Not Found\",\"Specialization\",\"Not Found\",\"Course\",\"Course\",\"Specialization\",\"Not Found\",\"Course\",\"Course\",\"Specialization\",\"Course\",\"Not Found\",\"Course\",\"Specialization\",\"Specialization\",\"Course\",\"Specialization\",\"Specialization\",\"Specialization\",\"Specialization\",\"Specialization\",\"Guided Project\",\"Specialization\",\"Not Found\",\"Course\",\"Course\",\"Specialization\",\"Course\",\"Specialization\",\"Course\",\"Course\",\"Not Found\",\"Course\",\"Course\",\"Course\",\"Specialization\",\"Not Found\",\"Course\",\"Specialization\",\"Course\",\"Not Found\",\"Specialization\",\"Course\",\"Specialization\",\"Specialization\",\"Specialization\",\"Course\",\"Specialization\",\"Course\",\"Not Found\",\"Not Found\",\"Course\",\"Course\",\"Not Found\",\"Specialization\",\"Not Found\",\"Not Found\",\"Course\",\"Course\",\"Not Found\",\"Course\",\"Course\",\"Specialization\",\"Course\",\"Specialization\",\"Course\",\"Specialization\",\"Not Found\",\"Course\",\"Specialization\",\"Not Found\",\"Not Found\",\"Specialization\",\"Not Found\",\"Course\",\"Course\",\"Course\",\"Specialization\",\"Specialization\",\"Not Found\",\"Course\",\"Not Found\",\"Course\",\"Specialization\",\"Specialization\",\"Specialization\",\"Not Found\",\"Course\",\"Specialization\",\"Course\",\"Not Found\",\"Course\",\"Course\",\"Course\",\"Course\",\"Course\",\"Not Found\",\"Course\",\"Specialization\",\"Not Found\",\"Specialization\",\"Specialization\",\"Course\",\"Course\",\"Specialization\",\"Course\",\"Course\",\"Course\",\"Course\",\"Course\",\"Course\",\"Specialization\",\"Specialization\",\"Course\",\"Specialization\",\"Specialization\",\"Specialization\",\"Specialization\",\"Specialization\",\"Specialization\",\"Course\",\"Specialization\",\"Specialization\",\"Course\",\"Course\",\"Course\",\"Specialization\",\"Course\",\"Specialization\",\"Course\",\"Specialization\",\"Not Found\",\"Course\",\"Professional Certificate\",\"Course\",\"Course\",\"Course\",\"Course\",\"Specialization\",\"Specialization\",\"Course\",\"Specialization\",\"Not Found\",\"Specialization\",\"Course\",\"Specialization\",\"Specialization\",\"Course\",\"Professional Certificate\",\"Course\",\"Course\",\"Course\",\"Course\",\"Course\",\"Course\",\"Course\",\"Not Found\",\"Professional Certificate\",\"Course\",\"Not Found\",\"Specialization\",\"Course\",\"Specialization\",\"Course\",\"Course\",\"Course\",\"Course\",\"Not Found\",\"Not Found\",\"Specialization\",\"Specialization\",\"Course\",\"Course\",\"Course\",\"Not Found\",\"Not Found\",\"Course\",\"Course\",\"Specialization\",\"Course\",\"Course\",\"Not Found\",\"Course\",\"Specialization\",\"Course\",\"Specialization\",\"Course\",\"Course\",\"Course\",\"Not Found\",\"Specialization\",\"Specialization\",\"Course\",\"Specialization\",\"Professional Certificate\",\"Course\",\"Course\",\"Not Found\",\"Course\",\"Specialization\",\"Course\",\"Specialization\",\"Course\",\"Course\",\"Specialization\",\"Course\",\"Not Found\",\"Course\",\"Specialization\",\"Course\",\"Course\",\"Course\",\"Course\",\"Not Found\",\"Course\",\"Specialization\",\"Specialization\",\"Professional Certificate\",\"Specialization\",\"Course\",\"Course\",\"Specialization\",\"Course\",\"Course\",\"Not Found\",\"Professional Certificate\",\"Specialization\",\"Course\",\"Not Found\",\"Specialization\",\"Professional Certificate\",\"Professional Certificate\",\"Not Found\",\"Specialization\",\"Professional Certificate\",\"Specialization\",\"Not Found\",\"Course\",\"Specialization\",\"Course\",\"Specialization\",\"Course\",\"Course\",\"Specialization\",\"Specialization\",\"Course\",\"Specialization\",\"Course\",\"Specialization\",\"Specialization\",\"Course\",\"Specialization\",\"Course\",\"Not Found\",\"Specialization\",\"Course\",\"Professional Certificate\",\"Not Found\",\"Specialization\",\"Specialization\",\"Course\",\"Course\",\"Course\",\"Specialization\",\"Course\",\"Course\",\"Specialization\",\"Specialization\",\"Not Found\",\"Professional Certificate\",\"Course\",\"Specialization\",\"Not Found\",\"Specialization\",\"Specialization\",\"Specialization\",\"Specialization\",\"Course\",\"Course\",\"Course\",\"Course\",\"Course\",\"Course\",\"Course\",\"Course\",\"Course\",\"Specialization\",\"Course\",\"Specialization\",\"Not Found\",\"Specialization\",\"Not Found\",\"Course\",\"Course\",\"Course\",\"Specialization\",\"Professional Certificate\",\"Course\",\"Course\",\"Specialization\",\"Course\",\"Specialization\",\"Course\",\"Course\",\"Not Found\",\"Course\",\"Course\",\"Not Found\",\"Course\",\"Not Found\",\"Specialization\",\"Not Found\",\"Specialization\",\"Specialization\",\"Professional Certificate\",\"Specialization\",\"Specialization\",\"Course\",\"Not Found\",\"Specialization\",\"Specialization\",\"Specialization\",\"Course\",\"Course\",\"Course\",\"Specialization\",\"Course\",\"Specialization\",\"Course\",\"Course\",\"Specialization\",\"Course\",\"Not Found\",\"Course\",\"Specialization\",\"Not Found\",\"Specialization\",\"Specialization\",\"Not Found\",\"Specialization\",\"Not Found\",\"Specialization\",\"Specialization\",\"Not Found\",\"Specialization\",\"Course\",\"Course\",\"Specialization\",\"Course\",\"Course\",\"Professional Certificate\",\"Not Found\",\"Specialization\",\"Course\",\"Course\",\"Specialization\",\"Not Found\",\"Specialization\",\"Course\",\"Course\",\"Course\",\"Course\",\"Course\",\"Not Found\",\"Professional Certificate\",\"Course\",\"Course\",\"Specialization\",\"Professional Certificate\",\"Specialization\",\"Specialization\",\"Not Found\",\"Specialization\",\"Specialization\",\"Course\",\"Specialization\",\"Course\",\"Specialization\",\"Not Found\",\"Course\",\"Specialization\",\"Not Found\",\"Course\",\"Not Found\",\"Specialization\",\"Specialization\",\"Specialization\",\"Course\",\"Course\",\"Course\",\"Course\",\"Course\",\"Not Found\",\"Course\",\"Not Found\",\"Course\",\"Course\",\"Course\",\"Specialization\",\"Specialization\",\"Course\",\"Professional Certificate\",\"Not Found\",\"Guided Project\",\"Course\",\"Course\",\"Not Found\",\"Specialization\",\"Course\",\"Course\",\"Specialization\",\"Specialization\",\"Course\",\"Specialization\",\"Not Found\",\"Course\",\"Not Found\",\"Course\",\"Course\",\"Guided Project\",\"Course\",\"Course\",\"Course\",\"Course\",\"Specialization\",\"Specialization\",\"Not Found\",\"Guided Project\",\"Specialization\",\"Course\",\"Course\",\"Course\",\"Specialization\",\"Course\",\"Course\",\"Course\",\"Course\",\"Course\",\"Course\",\"Professional Certificate\",\"Not Found\",\"Specialization\",\"Specialization\",\"Course\",\"Course\",\"Not Found\",\"Specialization\",\"Course\",\"Specialization\",\"Not Found\",\"Course\",\"Course\",\"Course\",\"Course\",\"Not Found\",\"Specialization\",\"Not Found\",\"Course\",\"Course\",\"Not Found\",\"Course\",\"Specialization\",\"Not Found\",\"Specialization\",null,null,null,null,null,null,null,null,null,null,null,null,null,null,null,null,null,null,null,null,null,null,null],\"legendgroup\":\"\",\"name\":\"\",\"showlegend\":true,\"type\":\"pie\",\"textinfo\":\"label+value\",\"textposition\":\"inside\"}],                        {\"template\":{\"data\":{\"histogram2dcontour\":[{\"type\":\"histogram2dcontour\",\"colorbar\":{\"outlinewidth\":0,\"ticks\":\"\"},\"colorscale\":[[0.0,\"#0d0887\"],[0.1111111111111111,\"#46039f\"],[0.2222222222222222,\"#7201a8\"],[0.3333333333333333,\"#9c179e\"],[0.4444444444444444,\"#bd3786\"],[0.5555555555555556,\"#d8576b\"],[0.6666666666666666,\"#ed7953\"],[0.7777777777777778,\"#fb9f3a\"],[0.8888888888888888,\"#fdca26\"],[1.0,\"#f0f921\"]]}],\"choropleth\":[{\"type\":\"choropleth\",\"colorbar\":{\"outlinewidth\":0,\"ticks\":\"\"}}],\"histogram2d\":[{\"type\":\"histogram2d\",\"colorbar\":{\"outlinewidth\":0,\"ticks\":\"\"},\"colorscale\":[[0.0,\"#0d0887\"],[0.1111111111111111,\"#46039f\"],[0.2222222222222222,\"#7201a8\"],[0.3333333333333333,\"#9c179e\"],[0.4444444444444444,\"#bd3786\"],[0.5555555555555556,\"#d8576b\"],[0.6666666666666666,\"#ed7953\"],[0.7777777777777778,\"#fb9f3a\"],[0.8888888888888888,\"#fdca26\"],[1.0,\"#f0f921\"]]}],\"heatmap\":[{\"type\":\"heatmap\",\"colorbar\":{\"outlinewidth\":0,\"ticks\":\"\"},\"colorscale\":[[0.0,\"#0d0887\"],[0.1111111111111111,\"#46039f\"],[0.2222222222222222,\"#7201a8\"],[0.3333333333333333,\"#9c179e\"],[0.4444444444444444,\"#bd3786\"],[0.5555555555555556,\"#d8576b\"],[0.6666666666666666,\"#ed7953\"],[0.7777777777777778,\"#fb9f3a\"],[0.8888888888888888,\"#fdca26\"],[1.0,\"#f0f921\"]]}],\"heatmapgl\":[{\"type\":\"heatmapgl\",\"colorbar\":{\"outlinewidth\":0,\"ticks\":\"\"},\"colorscale\":[[0.0,\"#0d0887\"],[0.1111111111111111,\"#46039f\"],[0.2222222222222222,\"#7201a8\"],[0.3333333333333333,\"#9c179e\"],[0.4444444444444444,\"#bd3786\"],[0.5555555555555556,\"#d8576b\"],[0.6666666666666666,\"#ed7953\"],[0.7777777777777778,\"#fb9f3a\"],[0.8888888888888888,\"#fdca26\"],[1.0,\"#f0f921\"]]}],\"contourcarpet\":[{\"type\":\"contourcarpet\",\"colorbar\":{\"outlinewidth\":0,\"ticks\":\"\"}}],\"contour\":[{\"type\":\"contour\",\"colorbar\":{\"outlinewidth\":0,\"ticks\":\"\"},\"colorscale\":[[0.0,\"#0d0887\"],[0.1111111111111111,\"#46039f\"],[0.2222222222222222,\"#7201a8\"],[0.3333333333333333,\"#9c179e\"],[0.4444444444444444,\"#bd3786\"],[0.5555555555555556,\"#d8576b\"],[0.6666666666666666,\"#ed7953\"],[0.7777777777777778,\"#fb9f3a\"],[0.8888888888888888,\"#fdca26\"],[1.0,\"#f0f921\"]]}],\"surface\":[{\"type\":\"surface\",\"colorbar\":{\"outlinewidth\":0,\"ticks\":\"\"},\"colorscale\":[[0.0,\"#0d0887\"],[0.1111111111111111,\"#46039f\"],[0.2222222222222222,\"#7201a8\"],[0.3333333333333333,\"#9c179e\"],[0.4444444444444444,\"#bd3786\"],[0.5555555555555556,\"#d8576b\"],[0.6666666666666666,\"#ed7953\"],[0.7777777777777778,\"#fb9f3a\"],[0.8888888888888888,\"#fdca26\"],[1.0,\"#f0f921\"]]}],\"mesh3d\":[{\"type\":\"mesh3d\",\"colorbar\":{\"outlinewidth\":0,\"ticks\":\"\"}}],\"scatter\":[{\"fillpattern\":{\"fillmode\":\"overlay\",\"size\":10,\"solidity\":0.2},\"type\":\"scatter\"}],\"parcoords\":[{\"type\":\"parcoords\",\"line\":{\"colorbar\":{\"outlinewidth\":0,\"ticks\":\"\"}}}],\"scatterpolargl\":[{\"type\":\"scatterpolargl\",\"marker\":{\"colorbar\":{\"outlinewidth\":0,\"ticks\":\"\"}}}],\"bar\":[{\"error_x\":{\"color\":\"#2a3f5f\"},\"error_y\":{\"color\":\"#2a3f5f\"},\"marker\":{\"line\":{\"color\":\"#E5ECF6\",\"width\":0.5},\"pattern\":{\"fillmode\":\"overlay\",\"size\":10,\"solidity\":0.2}},\"type\":\"bar\"}],\"scattergeo\":[{\"type\":\"scattergeo\",\"marker\":{\"colorbar\":{\"outlinewidth\":0,\"ticks\":\"\"}}}],\"scatterpolar\":[{\"type\":\"scatterpolar\",\"marker\":{\"colorbar\":{\"outlinewidth\":0,\"ticks\":\"\"}}}],\"histogram\":[{\"marker\":{\"pattern\":{\"fillmode\":\"overlay\",\"size\":10,\"solidity\":0.2}},\"type\":\"histogram\"}],\"scattergl\":[{\"type\":\"scattergl\",\"marker\":{\"colorbar\":{\"outlinewidth\":0,\"ticks\":\"\"}}}],\"scatter3d\":[{\"type\":\"scatter3d\",\"line\":{\"colorbar\":{\"outlinewidth\":0,\"ticks\":\"\"}},\"marker\":{\"colorbar\":{\"outlinewidth\":0,\"ticks\":\"\"}}}],\"scattermapbox\":[{\"type\":\"scattermapbox\",\"marker\":{\"colorbar\":{\"outlinewidth\":0,\"ticks\":\"\"}}}],\"scatterternary\":[{\"type\":\"scatterternary\",\"marker\":{\"colorbar\":{\"outlinewidth\":0,\"ticks\":\"\"}}}],\"scattercarpet\":[{\"type\":\"scattercarpet\",\"marker\":{\"colorbar\":{\"outlinewidth\":0,\"ticks\":\"\"}}}],\"carpet\":[{\"aaxis\":{\"endlinecolor\":\"#2a3f5f\",\"gridcolor\":\"white\",\"linecolor\":\"white\",\"minorgridcolor\":\"white\",\"startlinecolor\":\"#2a3f5f\"},\"baxis\":{\"endlinecolor\":\"#2a3f5f\",\"gridcolor\":\"white\",\"linecolor\":\"white\",\"minorgridcolor\":\"white\",\"startlinecolor\":\"#2a3f5f\"},\"type\":\"carpet\"}],\"table\":[{\"cells\":{\"fill\":{\"color\":\"#EBF0F8\"},\"line\":{\"color\":\"white\"}},\"header\":{\"fill\":{\"color\":\"#C8D4E3\"},\"line\":{\"color\":\"white\"}},\"type\":\"table\"}],\"barpolar\":[{\"marker\":{\"line\":{\"color\":\"#E5ECF6\",\"width\":0.5},\"pattern\":{\"fillmode\":\"overlay\",\"size\":10,\"solidity\":0.2}},\"type\":\"barpolar\"}],\"pie\":[{\"automargin\":true,\"type\":\"pie\"}]},\"layout\":{\"autotypenumbers\":\"strict\",\"colorway\":[\"#636efa\",\"#EF553B\",\"#00cc96\",\"#ab63fa\",\"#FFA15A\",\"#19d3f3\",\"#FF6692\",\"#B6E880\",\"#FF97FF\",\"#FECB52\"],\"font\":{\"color\":\"#2a3f5f\"},\"hovermode\":\"closest\",\"hoverlabel\":{\"align\":\"left\"},\"paper_bgcolor\":\"white\",\"plot_bgcolor\":\"#E5ECF6\",\"polar\":{\"bgcolor\":\"#E5ECF6\",\"angularaxis\":{\"gridcolor\":\"white\",\"linecolor\":\"white\",\"ticks\":\"\"},\"radialaxis\":{\"gridcolor\":\"white\",\"linecolor\":\"white\",\"ticks\":\"\"}},\"ternary\":{\"bgcolor\":\"#E5ECF6\",\"aaxis\":{\"gridcolor\":\"white\",\"linecolor\":\"white\",\"ticks\":\"\"},\"baxis\":{\"gridcolor\":\"white\",\"linecolor\":\"white\",\"ticks\":\"\"},\"caxis\":{\"gridcolor\":\"white\",\"linecolor\":\"white\",\"ticks\":\"\"}},\"coloraxis\":{\"colorbar\":{\"outlinewidth\":0,\"ticks\":\"\"}},\"colorscale\":{\"sequential\":[[0.0,\"#0d0887\"],[0.1111111111111111,\"#46039f\"],[0.2222222222222222,\"#7201a8\"],[0.3333333333333333,\"#9c179e\"],[0.4444444444444444,\"#bd3786\"],[0.5555555555555556,\"#d8576b\"],[0.6666666666666666,\"#ed7953\"],[0.7777777777777778,\"#fb9f3a\"],[0.8888888888888888,\"#fdca26\"],[1.0,\"#f0f921\"]],\"sequentialminus\":[[0.0,\"#0d0887\"],[0.1111111111111111,\"#46039f\"],[0.2222222222222222,\"#7201a8\"],[0.3333333333333333,\"#9c179e\"],[0.4444444444444444,\"#bd3786\"],[0.5555555555555556,\"#d8576b\"],[0.6666666666666666,\"#ed7953\"],[0.7777777777777778,\"#fb9f3a\"],[0.8888888888888888,\"#fdca26\"],[1.0,\"#f0f921\"]],\"diverging\":[[0,\"#8e0152\"],[0.1,\"#c51b7d\"],[0.2,\"#de77ae\"],[0.3,\"#f1b6da\"],[0.4,\"#fde0ef\"],[0.5,\"#f7f7f7\"],[0.6,\"#e6f5d0\"],[0.7,\"#b8e186\"],[0.8,\"#7fbc41\"],[0.9,\"#4d9221\"],[1,\"#276419\"]]},\"xaxis\":{\"gridcolor\":\"white\",\"linecolor\":\"white\",\"ticks\":\"\",\"title\":{\"standoff\":15},\"zerolinecolor\":\"white\",\"automargin\":true,\"zerolinewidth\":2},\"yaxis\":{\"gridcolor\":\"white\",\"linecolor\":\"white\",\"ticks\":\"\",\"title\":{\"standoff\":15},\"zerolinecolor\":\"white\",\"automargin\":true,\"zerolinewidth\":2},\"scene\":{\"xaxis\":{\"backgroundcolor\":\"#E5ECF6\",\"gridcolor\":\"white\",\"linecolor\":\"white\",\"showbackground\":true,\"ticks\":\"\",\"zerolinecolor\":\"white\",\"gridwidth\":2},\"yaxis\":{\"backgroundcolor\":\"#E5ECF6\",\"gridcolor\":\"white\",\"linecolor\":\"white\",\"showbackground\":true,\"ticks\":\"\",\"zerolinecolor\":\"white\",\"gridwidth\":2},\"zaxis\":{\"backgroundcolor\":\"#E5ECF6\",\"gridcolor\":\"white\",\"linecolor\":\"white\",\"showbackground\":true,\"ticks\":\"\",\"zerolinecolor\":\"white\",\"gridwidth\":2}},\"shapedefaults\":{\"line\":{\"color\":\"#2a3f5f\"}},\"annotationdefaults\":{\"arrowcolor\":\"#2a3f5f\",\"arrowhead\":0,\"arrowwidth\":1},\"geo\":{\"bgcolor\":\"white\",\"landcolor\":\"#E5ECF6\",\"subunitcolor\":\"white\",\"showland\":true,\"showlakes\":true,\"lakecolor\":\"white\"},\"title\":{\"x\":0.05},\"mapbox\":{\"style\":\"light\"}}},\"legend\":{\"tracegroupgap\":0},\"margin\":{\"t\":60},\"showlegend\":false},                        {\"responsive\": true}                    ).then(function(){\n",
       "                            \n",
       "var gd = document.getElementById('4e0aace0-7a5a-4f42-a3ae-6000b2eec9db');\n",
       "var x = new MutationObserver(function (mutations, observer) {{\n",
       "        var display = window.getComputedStyle(gd).display;\n",
       "        if (!display || display === 'none') {{\n",
       "            console.log([gd, 'removed!']);\n",
       "            Plotly.purge(gd);\n",
       "            observer.disconnect();\n",
       "        }}\n",
       "}});\n",
       "\n",
       "// Listen for the removal of the full notebook cells\n",
       "var notebookContainer = gd.closest('#notebook-container');\n",
       "if (notebookContainer) {{\n",
       "    x.observe(notebookContainer, {childList: true});\n",
       "}}\n",
       "\n",
       "// Listen for the clearing of the current output cell\n",
       "var outputEl = gd.closest('.output');\n",
       "if (outputEl) {{\n",
       "    x.observe(outputEl, {childList: true});\n",
       "}}\n",
       "\n",
       "                        })                };                });            </script>        </div>"
      ]
     },
     "metadata": {},
     "output_type": "display_data"
    }
   ],
   "source": [
    "pie(data_frame=df, names='Type_Of_Certificate', ).update_traces(textposition='inside', textinfo='label+value').update_layout(showlegend=False)"
   ]
  },
  {
   "cell_type": "code",
   "execution_count": 7,
   "id": "f01efe62",
   "metadata": {
    "execution": {
     "iopub.execute_input": "2024-01-07T16:42:00.326155Z",
     "iopub.status.busy": "2024-01-07T16:42:00.325750Z",
     "iopub.status.idle": "2024-01-07T16:42:00.443234Z",
     "shell.execute_reply": "2024-01-07T16:42:00.442264Z"
    },
    "papermill": {
     "duration": 0.128156,
     "end_time": "2024-01-07T16:42:00.445768",
     "exception": false,
     "start_time": "2024-01-07T16:42:00.317612",
     "status": "completed"
    },
    "tags": []
   },
   "outputs": [
    {
     "data": {
      "text/html": [
       "<div>                            <div id=\"1ebceb43-b367-4591-b271-902dd972727d\" class=\"plotly-graph-div\" style=\"height:525px; width:100%;\"></div>            <script type=\"text/javascript\">                require([\"plotly\"], function(Plotly) {                    window.PLOTLYENV=window.PLOTLYENV || {};                                    if (document.getElementById(\"1ebceb43-b367-4591-b271-902dd972727d\")) {                    Plotly.newPlot(                        \"1ebceb43-b367-4591-b271-902dd972727d\",                        [{\"domain\":{\"x\":[0.0,0.18400000000000002],\"y\":[0.0,1.0]},\"hovertemplate\":\"Type_Of_Certificate=Course\\u003cbr\\u003eDifficulty=%{label}\\u003cbr\\u003e0=%{value}\\u003cextra\\u003e\\u003c\\u002fextra\\u003e\",\"labels\":[\"Advanced\",\"Beginner\",\"Intermediate\",\"Mixed\"],\"legendgroup\":\"\",\"name\":\"\",\"showlegend\":true,\"values\":[19,258,66,56],\"type\":\"pie\",\"textinfo\":\"label+value\",\"textposition\":\"inside\"},{\"domain\":{\"x\":[0.20400000000000001,0.388],\"y\":[0.0,1.0]},\"hovertemplate\":\"Type_Of_Certificate=Professional Certificate\\u003cbr\\u003eDifficulty=%{label}\\u003cbr\\u003e0=%{value}\\u003cextra\\u003e\\u003c\\u002fextra\\u003e\",\"labels\":[\"Advanced\",\"Beginner\",\"Intermediate\"],\"legendgroup\":\"\",\"name\":\"\",\"showlegend\":true,\"values\":[2,78,19],\"type\":\"pie\",\"textinfo\":\"label+value\",\"textposition\":\"inside\"},{\"domain\":{\"x\":[0.40800000000000003,0.5920000000000001],\"y\":[0.0,1.0]},\"hovertemplate\":\"Type_Of_Certificate=Specialization\\u003cbr\\u003eDifficulty=%{label}\\u003cbr\\u003e0=%{value}\\u003cextra\\u003e\\u003c\\u002fextra\\u003e\",\"labels\":[\"Advanced\",\"Beginner\",\"Intermediate\"],\"legendgroup\":\"\",\"name\":\"\",\"showlegend\":true,\"values\":[13,259,96],\"type\":\"pie\",\"textinfo\":\"label+value\",\"textposition\":\"inside\"},{\"domain\":{\"x\":[0.6120000000000001,0.7960000000000002],\"y\":[0.0,1.0]},\"hovertemplate\":\"Type_Of_Certificate=Guided Project\\u003cbr\\u003eDifficulty=%{label}\\u003cbr\\u003e0=%{value}\\u003cextra\\u003e\\u003c\\u002fextra\\u003e\",\"labels\":[\"Beginner\"],\"legendgroup\":\"\",\"name\":\"\",\"showlegend\":true,\"values\":[4],\"type\":\"pie\",\"textinfo\":\"label+value\",\"textposition\":\"inside\"},{\"domain\":{\"x\":[0.8160000000000001,1.0],\"y\":[0.0,1.0]},\"hovertemplate\":\"Type_Of_Certificate=Not Found\\u003cbr\\u003eDifficulty=%{label}\\u003cbr\\u003e0=%{value}\\u003cextra\\u003e\\u003c\\u002fextra\\u003e\",\"labels\":[\"Not Found\"],\"legendgroup\":\"\",\"name\":\"\",\"showlegend\":true,\"values\":[107],\"type\":\"pie\",\"textinfo\":\"label+value\",\"textposition\":\"inside\"}],                        {\"template\":{\"data\":{\"histogram2dcontour\":[{\"type\":\"histogram2dcontour\",\"colorbar\":{\"outlinewidth\":0,\"ticks\":\"\"},\"colorscale\":[[0.0,\"#0d0887\"],[0.1111111111111111,\"#46039f\"],[0.2222222222222222,\"#7201a8\"],[0.3333333333333333,\"#9c179e\"],[0.4444444444444444,\"#bd3786\"],[0.5555555555555556,\"#d8576b\"],[0.6666666666666666,\"#ed7953\"],[0.7777777777777778,\"#fb9f3a\"],[0.8888888888888888,\"#fdca26\"],[1.0,\"#f0f921\"]]}],\"choropleth\":[{\"type\":\"choropleth\",\"colorbar\":{\"outlinewidth\":0,\"ticks\":\"\"}}],\"histogram2d\":[{\"type\":\"histogram2d\",\"colorbar\":{\"outlinewidth\":0,\"ticks\":\"\"},\"colorscale\":[[0.0,\"#0d0887\"],[0.1111111111111111,\"#46039f\"],[0.2222222222222222,\"#7201a8\"],[0.3333333333333333,\"#9c179e\"],[0.4444444444444444,\"#bd3786\"],[0.5555555555555556,\"#d8576b\"],[0.6666666666666666,\"#ed7953\"],[0.7777777777777778,\"#fb9f3a\"],[0.8888888888888888,\"#fdca26\"],[1.0,\"#f0f921\"]]}],\"heatmap\":[{\"type\":\"heatmap\",\"colorbar\":{\"outlinewidth\":0,\"ticks\":\"\"},\"colorscale\":[[0.0,\"#0d0887\"],[0.1111111111111111,\"#46039f\"],[0.2222222222222222,\"#7201a8\"],[0.3333333333333333,\"#9c179e\"],[0.4444444444444444,\"#bd3786\"],[0.5555555555555556,\"#d8576b\"],[0.6666666666666666,\"#ed7953\"],[0.7777777777777778,\"#fb9f3a\"],[0.8888888888888888,\"#fdca26\"],[1.0,\"#f0f921\"]]}],\"heatmapgl\":[{\"type\":\"heatmapgl\",\"colorbar\":{\"outlinewidth\":0,\"ticks\":\"\"},\"colorscale\":[[0.0,\"#0d0887\"],[0.1111111111111111,\"#46039f\"],[0.2222222222222222,\"#7201a8\"],[0.3333333333333333,\"#9c179e\"],[0.4444444444444444,\"#bd3786\"],[0.5555555555555556,\"#d8576b\"],[0.6666666666666666,\"#ed7953\"],[0.7777777777777778,\"#fb9f3a\"],[0.8888888888888888,\"#fdca26\"],[1.0,\"#f0f921\"]]}],\"contourcarpet\":[{\"type\":\"contourcarpet\",\"colorbar\":{\"outlinewidth\":0,\"ticks\":\"\"}}],\"contour\":[{\"type\":\"contour\",\"colorbar\":{\"outlinewidth\":0,\"ticks\":\"\"},\"colorscale\":[[0.0,\"#0d0887\"],[0.1111111111111111,\"#46039f\"],[0.2222222222222222,\"#7201a8\"],[0.3333333333333333,\"#9c179e\"],[0.4444444444444444,\"#bd3786\"],[0.5555555555555556,\"#d8576b\"],[0.6666666666666666,\"#ed7953\"],[0.7777777777777778,\"#fb9f3a\"],[0.8888888888888888,\"#fdca26\"],[1.0,\"#f0f921\"]]}],\"surface\":[{\"type\":\"surface\",\"colorbar\":{\"outlinewidth\":0,\"ticks\":\"\"},\"colorscale\":[[0.0,\"#0d0887\"],[0.1111111111111111,\"#46039f\"],[0.2222222222222222,\"#7201a8\"],[0.3333333333333333,\"#9c179e\"],[0.4444444444444444,\"#bd3786\"],[0.5555555555555556,\"#d8576b\"],[0.6666666666666666,\"#ed7953\"],[0.7777777777777778,\"#fb9f3a\"],[0.8888888888888888,\"#fdca26\"],[1.0,\"#f0f921\"]]}],\"mesh3d\":[{\"type\":\"mesh3d\",\"colorbar\":{\"outlinewidth\":0,\"ticks\":\"\"}}],\"scatter\":[{\"fillpattern\":{\"fillmode\":\"overlay\",\"size\":10,\"solidity\":0.2},\"type\":\"scatter\"}],\"parcoords\":[{\"type\":\"parcoords\",\"line\":{\"colorbar\":{\"outlinewidth\":0,\"ticks\":\"\"}}}],\"scatterpolargl\":[{\"type\":\"scatterpolargl\",\"marker\":{\"colorbar\":{\"outlinewidth\":0,\"ticks\":\"\"}}}],\"bar\":[{\"error_x\":{\"color\":\"#2a3f5f\"},\"error_y\":{\"color\":\"#2a3f5f\"},\"marker\":{\"line\":{\"color\":\"#E5ECF6\",\"width\":0.5},\"pattern\":{\"fillmode\":\"overlay\",\"size\":10,\"solidity\":0.2}},\"type\":\"bar\"}],\"scattergeo\":[{\"type\":\"scattergeo\",\"marker\":{\"colorbar\":{\"outlinewidth\":0,\"ticks\":\"\"}}}],\"scatterpolar\":[{\"type\":\"scatterpolar\",\"marker\":{\"colorbar\":{\"outlinewidth\":0,\"ticks\":\"\"}}}],\"histogram\":[{\"marker\":{\"pattern\":{\"fillmode\":\"overlay\",\"size\":10,\"solidity\":0.2}},\"type\":\"histogram\"}],\"scattergl\":[{\"type\":\"scattergl\",\"marker\":{\"colorbar\":{\"outlinewidth\":0,\"ticks\":\"\"}}}],\"scatter3d\":[{\"type\":\"scatter3d\",\"line\":{\"colorbar\":{\"outlinewidth\":0,\"ticks\":\"\"}},\"marker\":{\"colorbar\":{\"outlinewidth\":0,\"ticks\":\"\"}}}],\"scattermapbox\":[{\"type\":\"scattermapbox\",\"marker\":{\"colorbar\":{\"outlinewidth\":0,\"ticks\":\"\"}}}],\"scatterternary\":[{\"type\":\"scatterternary\",\"marker\":{\"colorbar\":{\"outlinewidth\":0,\"ticks\":\"\"}}}],\"scattercarpet\":[{\"type\":\"scattercarpet\",\"marker\":{\"colorbar\":{\"outlinewidth\":0,\"ticks\":\"\"}}}],\"carpet\":[{\"aaxis\":{\"endlinecolor\":\"#2a3f5f\",\"gridcolor\":\"white\",\"linecolor\":\"white\",\"minorgridcolor\":\"white\",\"startlinecolor\":\"#2a3f5f\"},\"baxis\":{\"endlinecolor\":\"#2a3f5f\",\"gridcolor\":\"white\",\"linecolor\":\"white\",\"minorgridcolor\":\"white\",\"startlinecolor\":\"#2a3f5f\"},\"type\":\"carpet\"}],\"table\":[{\"cells\":{\"fill\":{\"color\":\"#EBF0F8\"},\"line\":{\"color\":\"white\"}},\"header\":{\"fill\":{\"color\":\"#C8D4E3\"},\"line\":{\"color\":\"white\"}},\"type\":\"table\"}],\"barpolar\":[{\"marker\":{\"line\":{\"color\":\"#E5ECF6\",\"width\":0.5},\"pattern\":{\"fillmode\":\"overlay\",\"size\":10,\"solidity\":0.2}},\"type\":\"barpolar\"}],\"pie\":[{\"automargin\":true,\"type\":\"pie\"}]},\"layout\":{\"autotypenumbers\":\"strict\",\"colorway\":[\"#636efa\",\"#EF553B\",\"#00cc96\",\"#ab63fa\",\"#FFA15A\",\"#19d3f3\",\"#FF6692\",\"#B6E880\",\"#FF97FF\",\"#FECB52\"],\"font\":{\"color\":\"#2a3f5f\"},\"hovermode\":\"closest\",\"hoverlabel\":{\"align\":\"left\"},\"paper_bgcolor\":\"white\",\"plot_bgcolor\":\"#E5ECF6\",\"polar\":{\"bgcolor\":\"#E5ECF6\",\"angularaxis\":{\"gridcolor\":\"white\",\"linecolor\":\"white\",\"ticks\":\"\"},\"radialaxis\":{\"gridcolor\":\"white\",\"linecolor\":\"white\",\"ticks\":\"\"}},\"ternary\":{\"bgcolor\":\"#E5ECF6\",\"aaxis\":{\"gridcolor\":\"white\",\"linecolor\":\"white\",\"ticks\":\"\"},\"baxis\":{\"gridcolor\":\"white\",\"linecolor\":\"white\",\"ticks\":\"\"},\"caxis\":{\"gridcolor\":\"white\",\"linecolor\":\"white\",\"ticks\":\"\"}},\"coloraxis\":{\"colorbar\":{\"outlinewidth\":0,\"ticks\":\"\"}},\"colorscale\":{\"sequential\":[[0.0,\"#0d0887\"],[0.1111111111111111,\"#46039f\"],[0.2222222222222222,\"#7201a8\"],[0.3333333333333333,\"#9c179e\"],[0.4444444444444444,\"#bd3786\"],[0.5555555555555556,\"#d8576b\"],[0.6666666666666666,\"#ed7953\"],[0.7777777777777778,\"#fb9f3a\"],[0.8888888888888888,\"#fdca26\"],[1.0,\"#f0f921\"]],\"sequentialminus\":[[0.0,\"#0d0887\"],[0.1111111111111111,\"#46039f\"],[0.2222222222222222,\"#7201a8\"],[0.3333333333333333,\"#9c179e\"],[0.4444444444444444,\"#bd3786\"],[0.5555555555555556,\"#d8576b\"],[0.6666666666666666,\"#ed7953\"],[0.7777777777777778,\"#fb9f3a\"],[0.8888888888888888,\"#fdca26\"],[1.0,\"#f0f921\"]],\"diverging\":[[0,\"#8e0152\"],[0.1,\"#c51b7d\"],[0.2,\"#de77ae\"],[0.3,\"#f1b6da\"],[0.4,\"#fde0ef\"],[0.5,\"#f7f7f7\"],[0.6,\"#e6f5d0\"],[0.7,\"#b8e186\"],[0.8,\"#7fbc41\"],[0.9,\"#4d9221\"],[1,\"#276419\"]]},\"xaxis\":{\"gridcolor\":\"white\",\"linecolor\":\"white\",\"ticks\":\"\",\"title\":{\"standoff\":15},\"zerolinecolor\":\"white\",\"automargin\":true,\"zerolinewidth\":2},\"yaxis\":{\"gridcolor\":\"white\",\"linecolor\":\"white\",\"ticks\":\"\",\"title\":{\"standoff\":15},\"zerolinecolor\":\"white\",\"automargin\":true,\"zerolinewidth\":2},\"scene\":{\"xaxis\":{\"backgroundcolor\":\"#E5ECF6\",\"gridcolor\":\"white\",\"linecolor\":\"white\",\"showbackground\":true,\"ticks\":\"\",\"zerolinecolor\":\"white\",\"gridwidth\":2},\"yaxis\":{\"backgroundcolor\":\"#E5ECF6\",\"gridcolor\":\"white\",\"linecolor\":\"white\",\"showbackground\":true,\"ticks\":\"\",\"zerolinecolor\":\"white\",\"gridwidth\":2},\"zaxis\":{\"backgroundcolor\":\"#E5ECF6\",\"gridcolor\":\"white\",\"linecolor\":\"white\",\"showbackground\":true,\"ticks\":\"\",\"zerolinecolor\":\"white\",\"gridwidth\":2}},\"shapedefaults\":{\"line\":{\"color\":\"#2a3f5f\"}},\"annotationdefaults\":{\"arrowcolor\":\"#2a3f5f\",\"arrowhead\":0,\"arrowwidth\":1},\"geo\":{\"bgcolor\":\"white\",\"landcolor\":\"#E5ECF6\",\"subunitcolor\":\"white\",\"showland\":true,\"showlakes\":true,\"lakecolor\":\"white\"},\"title\":{\"x\":0.05},\"mapbox\":{\"style\":\"light\"}}},\"annotations\":[{\"font\":{},\"showarrow\":false,\"text\":\"Type_Of_Certificate=Course\",\"x\":0.09200000000000001,\"xanchor\":\"center\",\"xref\":\"paper\",\"y\":1.0,\"yanchor\":\"bottom\",\"yref\":\"paper\"},{\"font\":{},\"showarrow\":false,\"text\":\"Type_Of_Certificate=Professional Certificate\",\"x\":0.29600000000000004,\"xanchor\":\"center\",\"xref\":\"paper\",\"y\":1.0,\"yanchor\":\"bottom\",\"yref\":\"paper\"},{\"font\":{},\"showarrow\":false,\"text\":\"Type_Of_Certificate=Specialization\",\"x\":0.5,\"xanchor\":\"center\",\"xref\":\"paper\",\"y\":1.0,\"yanchor\":\"bottom\",\"yref\":\"paper\"},{\"font\":{},\"showarrow\":false,\"text\":\"Type_Of_Certificate=Guided Project\",\"x\":0.7040000000000002,\"xanchor\":\"center\",\"xref\":\"paper\",\"y\":1.0,\"yanchor\":\"bottom\",\"yref\":\"paper\"},{\"font\":{},\"showarrow\":false,\"text\":\"Type_Of_Certificate=Not Found\",\"x\":0.908,\"xanchor\":\"center\",\"xref\":\"paper\",\"y\":1.0,\"yanchor\":\"bottom\",\"yref\":\"paper\"}],\"legend\":{\"tracegroupgap\":0},\"margin\":{\"t\":60},\"showlegend\":false},                        {\"responsive\": true}                    ).then(function(){\n",
       "                            \n",
       "var gd = document.getElementById('1ebceb43-b367-4591-b271-902dd972727d');\n",
       "var x = new MutationObserver(function (mutations, observer) {{\n",
       "        var display = window.getComputedStyle(gd).display;\n",
       "        if (!display || display === 'none') {{\n",
       "            console.log([gd, 'removed!']);\n",
       "            Plotly.purge(gd);\n",
       "            observer.disconnect();\n",
       "        }}\n",
       "}});\n",
       "\n",
       "// Listen for the removal of the full notebook cells\n",
       "var notebookContainer = gd.closest('#notebook-container');\n",
       "if (notebookContainer) {{\n",
       "    x.observe(notebookContainer, {childList: true});\n",
       "}}\n",
       "\n",
       "// Listen for the clearing of the current output cell\n",
       "var outputEl = gd.closest('.output');\n",
       "if (outputEl) {{\n",
       "    x.observe(outputEl, {childList: true});\n",
       "}}\n",
       "\n",
       "                        })                };                });            </script>        </div>"
      ]
     },
     "metadata": {},
     "output_type": "display_data"
    }
   ],
   "source": [
    "pie(data_frame=df[['Difficulty', 'Type_Of_Certificate']].groupby(by=['Difficulty', 'Type_Of_Certificate']).size().reset_index(), values=0,\n",
    "   names='Difficulty', facet_col='Type_Of_Certificate').update_traces(textposition='inside', textinfo='label+value').update_layout(showlegend=False)"
   ]
  },
  {
   "cell_type": "code",
   "execution_count": 8,
   "id": "8321f575",
   "metadata": {
    "execution": {
     "iopub.execute_input": "2024-01-07T16:42:00.461657Z",
     "iopub.status.busy": "2024-01-07T16:42:00.461123Z",
     "iopub.status.idle": "2024-01-07T16:42:00.555222Z",
     "shell.execute_reply": "2024-01-07T16:42:00.554128Z"
    },
    "papermill": {
     "duration": 0.105224,
     "end_time": "2024-01-07T16:42:00.557807",
     "exception": false,
     "start_time": "2024-01-07T16:42:00.452583",
     "status": "completed"
    },
    "tags": []
   },
   "outputs": [
    {
     "data": {
      "text/html": [
       "<div>                            <div id=\"a885731e-4698-442b-a2ff-b39b24335952\" class=\"plotly-graph-div\" style=\"height:525px; width:100%;\"></div>            <script type=\"text/javascript\">                require([\"plotly\"], function(Plotly) {                    window.PLOTLYENV=window.PLOTLYENV || {};                                    if (document.getElementById(\"a885731e-4698-442b-a2ff-b39b24335952\")) {                    Plotly.newPlot(                        \"a885731e-4698-442b-a2ff-b39b24335952\",                        [{\"domain\":{\"x\":[0.0,0.18400000000000002],\"y\":[0.0,1.0]},\"hovertemplate\":\"Difficulty=Advanced\\u003cbr\\u003eType_Of_Certificate=%{label}\\u003cbr\\u003e0=%{value}\\u003cextra\\u003e\\u003c\\u002fextra\\u003e\",\"labels\":[\"Course\",\"Professional Certificate\",\"Specialization\"],\"legendgroup\":\"\",\"name\":\"\",\"showlegend\":true,\"values\":[19,2,13],\"type\":\"pie\",\"textinfo\":\"label+value\",\"textposition\":\"inside\"},{\"domain\":{\"x\":[0.20400000000000001,0.388],\"y\":[0.0,1.0]},\"hovertemplate\":\"Difficulty=Beginner\\u003cbr\\u003eType_Of_Certificate=%{label}\\u003cbr\\u003e0=%{value}\\u003cextra\\u003e\\u003c\\u002fextra\\u003e\",\"labels\":[\"Course\",\"Guided Project\",\"Professional Certificate\",\"Specialization\"],\"legendgroup\":\"\",\"name\":\"\",\"showlegend\":true,\"values\":[258,4,78,259],\"type\":\"pie\",\"textinfo\":\"label+value\",\"textposition\":\"inside\"},{\"domain\":{\"x\":[0.40800000000000003,0.5920000000000001],\"y\":[0.0,1.0]},\"hovertemplate\":\"Difficulty=Intermediate\\u003cbr\\u003eType_Of_Certificate=%{label}\\u003cbr\\u003e0=%{value}\\u003cextra\\u003e\\u003c\\u002fextra\\u003e\",\"labels\":[\"Course\",\"Professional Certificate\",\"Specialization\"],\"legendgroup\":\"\",\"name\":\"\",\"showlegend\":true,\"values\":[66,19,96],\"type\":\"pie\",\"textinfo\":\"label+value\",\"textposition\":\"inside\"},{\"domain\":{\"x\":[0.6120000000000001,0.7960000000000002],\"y\":[0.0,1.0]},\"hovertemplate\":\"Difficulty=Mixed\\u003cbr\\u003eType_Of_Certificate=%{label}\\u003cbr\\u003e0=%{value}\\u003cextra\\u003e\\u003c\\u002fextra\\u003e\",\"labels\":[\"Course\"],\"legendgroup\":\"\",\"name\":\"\",\"showlegend\":true,\"values\":[56],\"type\":\"pie\",\"textinfo\":\"label+value\",\"textposition\":\"inside\"},{\"domain\":{\"x\":[0.8160000000000001,1.0],\"y\":[0.0,1.0]},\"hovertemplate\":\"Difficulty=Not Found\\u003cbr\\u003eType_Of_Certificate=%{label}\\u003cbr\\u003e0=%{value}\\u003cextra\\u003e\\u003c\\u002fextra\\u003e\",\"labels\":[\"Not Found\"],\"legendgroup\":\"\",\"name\":\"\",\"showlegend\":true,\"values\":[107],\"type\":\"pie\",\"textinfo\":\"label+value\",\"textposition\":\"inside\"}],                        {\"template\":{\"data\":{\"histogram2dcontour\":[{\"type\":\"histogram2dcontour\",\"colorbar\":{\"outlinewidth\":0,\"ticks\":\"\"},\"colorscale\":[[0.0,\"#0d0887\"],[0.1111111111111111,\"#46039f\"],[0.2222222222222222,\"#7201a8\"],[0.3333333333333333,\"#9c179e\"],[0.4444444444444444,\"#bd3786\"],[0.5555555555555556,\"#d8576b\"],[0.6666666666666666,\"#ed7953\"],[0.7777777777777778,\"#fb9f3a\"],[0.8888888888888888,\"#fdca26\"],[1.0,\"#f0f921\"]]}],\"choropleth\":[{\"type\":\"choropleth\",\"colorbar\":{\"outlinewidth\":0,\"ticks\":\"\"}}],\"histogram2d\":[{\"type\":\"histogram2d\",\"colorbar\":{\"outlinewidth\":0,\"ticks\":\"\"},\"colorscale\":[[0.0,\"#0d0887\"],[0.1111111111111111,\"#46039f\"],[0.2222222222222222,\"#7201a8\"],[0.3333333333333333,\"#9c179e\"],[0.4444444444444444,\"#bd3786\"],[0.5555555555555556,\"#d8576b\"],[0.6666666666666666,\"#ed7953\"],[0.7777777777777778,\"#fb9f3a\"],[0.8888888888888888,\"#fdca26\"],[1.0,\"#f0f921\"]]}],\"heatmap\":[{\"type\":\"heatmap\",\"colorbar\":{\"outlinewidth\":0,\"ticks\":\"\"},\"colorscale\":[[0.0,\"#0d0887\"],[0.1111111111111111,\"#46039f\"],[0.2222222222222222,\"#7201a8\"],[0.3333333333333333,\"#9c179e\"],[0.4444444444444444,\"#bd3786\"],[0.5555555555555556,\"#d8576b\"],[0.6666666666666666,\"#ed7953\"],[0.7777777777777778,\"#fb9f3a\"],[0.8888888888888888,\"#fdca26\"],[1.0,\"#f0f921\"]]}],\"heatmapgl\":[{\"type\":\"heatmapgl\",\"colorbar\":{\"outlinewidth\":0,\"ticks\":\"\"},\"colorscale\":[[0.0,\"#0d0887\"],[0.1111111111111111,\"#46039f\"],[0.2222222222222222,\"#7201a8\"],[0.3333333333333333,\"#9c179e\"],[0.4444444444444444,\"#bd3786\"],[0.5555555555555556,\"#d8576b\"],[0.6666666666666666,\"#ed7953\"],[0.7777777777777778,\"#fb9f3a\"],[0.8888888888888888,\"#fdca26\"],[1.0,\"#f0f921\"]]}],\"contourcarpet\":[{\"type\":\"contourcarpet\",\"colorbar\":{\"outlinewidth\":0,\"ticks\":\"\"}}],\"contour\":[{\"type\":\"contour\",\"colorbar\":{\"outlinewidth\":0,\"ticks\":\"\"},\"colorscale\":[[0.0,\"#0d0887\"],[0.1111111111111111,\"#46039f\"],[0.2222222222222222,\"#7201a8\"],[0.3333333333333333,\"#9c179e\"],[0.4444444444444444,\"#bd3786\"],[0.5555555555555556,\"#d8576b\"],[0.6666666666666666,\"#ed7953\"],[0.7777777777777778,\"#fb9f3a\"],[0.8888888888888888,\"#fdca26\"],[1.0,\"#f0f921\"]]}],\"surface\":[{\"type\":\"surface\",\"colorbar\":{\"outlinewidth\":0,\"ticks\":\"\"},\"colorscale\":[[0.0,\"#0d0887\"],[0.1111111111111111,\"#46039f\"],[0.2222222222222222,\"#7201a8\"],[0.3333333333333333,\"#9c179e\"],[0.4444444444444444,\"#bd3786\"],[0.5555555555555556,\"#d8576b\"],[0.6666666666666666,\"#ed7953\"],[0.7777777777777778,\"#fb9f3a\"],[0.8888888888888888,\"#fdca26\"],[1.0,\"#f0f921\"]]}],\"mesh3d\":[{\"type\":\"mesh3d\",\"colorbar\":{\"outlinewidth\":0,\"ticks\":\"\"}}],\"scatter\":[{\"fillpattern\":{\"fillmode\":\"overlay\",\"size\":10,\"solidity\":0.2},\"type\":\"scatter\"}],\"parcoords\":[{\"type\":\"parcoords\",\"line\":{\"colorbar\":{\"outlinewidth\":0,\"ticks\":\"\"}}}],\"scatterpolargl\":[{\"type\":\"scatterpolargl\",\"marker\":{\"colorbar\":{\"outlinewidth\":0,\"ticks\":\"\"}}}],\"bar\":[{\"error_x\":{\"color\":\"#2a3f5f\"},\"error_y\":{\"color\":\"#2a3f5f\"},\"marker\":{\"line\":{\"color\":\"#E5ECF6\",\"width\":0.5},\"pattern\":{\"fillmode\":\"overlay\",\"size\":10,\"solidity\":0.2}},\"type\":\"bar\"}],\"scattergeo\":[{\"type\":\"scattergeo\",\"marker\":{\"colorbar\":{\"outlinewidth\":0,\"ticks\":\"\"}}}],\"scatterpolar\":[{\"type\":\"scatterpolar\",\"marker\":{\"colorbar\":{\"outlinewidth\":0,\"ticks\":\"\"}}}],\"histogram\":[{\"marker\":{\"pattern\":{\"fillmode\":\"overlay\",\"size\":10,\"solidity\":0.2}},\"type\":\"histogram\"}],\"scattergl\":[{\"type\":\"scattergl\",\"marker\":{\"colorbar\":{\"outlinewidth\":0,\"ticks\":\"\"}}}],\"scatter3d\":[{\"type\":\"scatter3d\",\"line\":{\"colorbar\":{\"outlinewidth\":0,\"ticks\":\"\"}},\"marker\":{\"colorbar\":{\"outlinewidth\":0,\"ticks\":\"\"}}}],\"scattermapbox\":[{\"type\":\"scattermapbox\",\"marker\":{\"colorbar\":{\"outlinewidth\":0,\"ticks\":\"\"}}}],\"scatterternary\":[{\"type\":\"scatterternary\",\"marker\":{\"colorbar\":{\"outlinewidth\":0,\"ticks\":\"\"}}}],\"scattercarpet\":[{\"type\":\"scattercarpet\",\"marker\":{\"colorbar\":{\"outlinewidth\":0,\"ticks\":\"\"}}}],\"carpet\":[{\"aaxis\":{\"endlinecolor\":\"#2a3f5f\",\"gridcolor\":\"white\",\"linecolor\":\"white\",\"minorgridcolor\":\"white\",\"startlinecolor\":\"#2a3f5f\"},\"baxis\":{\"endlinecolor\":\"#2a3f5f\",\"gridcolor\":\"white\",\"linecolor\":\"white\",\"minorgridcolor\":\"white\",\"startlinecolor\":\"#2a3f5f\"},\"type\":\"carpet\"}],\"table\":[{\"cells\":{\"fill\":{\"color\":\"#EBF0F8\"},\"line\":{\"color\":\"white\"}},\"header\":{\"fill\":{\"color\":\"#C8D4E3\"},\"line\":{\"color\":\"white\"}},\"type\":\"table\"}],\"barpolar\":[{\"marker\":{\"line\":{\"color\":\"#E5ECF6\",\"width\":0.5},\"pattern\":{\"fillmode\":\"overlay\",\"size\":10,\"solidity\":0.2}},\"type\":\"barpolar\"}],\"pie\":[{\"automargin\":true,\"type\":\"pie\"}]},\"layout\":{\"autotypenumbers\":\"strict\",\"colorway\":[\"#636efa\",\"#EF553B\",\"#00cc96\",\"#ab63fa\",\"#FFA15A\",\"#19d3f3\",\"#FF6692\",\"#B6E880\",\"#FF97FF\",\"#FECB52\"],\"font\":{\"color\":\"#2a3f5f\"},\"hovermode\":\"closest\",\"hoverlabel\":{\"align\":\"left\"},\"paper_bgcolor\":\"white\",\"plot_bgcolor\":\"#E5ECF6\",\"polar\":{\"bgcolor\":\"#E5ECF6\",\"angularaxis\":{\"gridcolor\":\"white\",\"linecolor\":\"white\",\"ticks\":\"\"},\"radialaxis\":{\"gridcolor\":\"white\",\"linecolor\":\"white\",\"ticks\":\"\"}},\"ternary\":{\"bgcolor\":\"#E5ECF6\",\"aaxis\":{\"gridcolor\":\"white\",\"linecolor\":\"white\",\"ticks\":\"\"},\"baxis\":{\"gridcolor\":\"white\",\"linecolor\":\"white\",\"ticks\":\"\"},\"caxis\":{\"gridcolor\":\"white\",\"linecolor\":\"white\",\"ticks\":\"\"}},\"coloraxis\":{\"colorbar\":{\"outlinewidth\":0,\"ticks\":\"\"}},\"colorscale\":{\"sequential\":[[0.0,\"#0d0887\"],[0.1111111111111111,\"#46039f\"],[0.2222222222222222,\"#7201a8\"],[0.3333333333333333,\"#9c179e\"],[0.4444444444444444,\"#bd3786\"],[0.5555555555555556,\"#d8576b\"],[0.6666666666666666,\"#ed7953\"],[0.7777777777777778,\"#fb9f3a\"],[0.8888888888888888,\"#fdca26\"],[1.0,\"#f0f921\"]],\"sequentialminus\":[[0.0,\"#0d0887\"],[0.1111111111111111,\"#46039f\"],[0.2222222222222222,\"#7201a8\"],[0.3333333333333333,\"#9c179e\"],[0.4444444444444444,\"#bd3786\"],[0.5555555555555556,\"#d8576b\"],[0.6666666666666666,\"#ed7953\"],[0.7777777777777778,\"#fb9f3a\"],[0.8888888888888888,\"#fdca26\"],[1.0,\"#f0f921\"]],\"diverging\":[[0,\"#8e0152\"],[0.1,\"#c51b7d\"],[0.2,\"#de77ae\"],[0.3,\"#f1b6da\"],[0.4,\"#fde0ef\"],[0.5,\"#f7f7f7\"],[0.6,\"#e6f5d0\"],[0.7,\"#b8e186\"],[0.8,\"#7fbc41\"],[0.9,\"#4d9221\"],[1,\"#276419\"]]},\"xaxis\":{\"gridcolor\":\"white\",\"linecolor\":\"white\",\"ticks\":\"\",\"title\":{\"standoff\":15},\"zerolinecolor\":\"white\",\"automargin\":true,\"zerolinewidth\":2},\"yaxis\":{\"gridcolor\":\"white\",\"linecolor\":\"white\",\"ticks\":\"\",\"title\":{\"standoff\":15},\"zerolinecolor\":\"white\",\"automargin\":true,\"zerolinewidth\":2},\"scene\":{\"xaxis\":{\"backgroundcolor\":\"#E5ECF6\",\"gridcolor\":\"white\",\"linecolor\":\"white\",\"showbackground\":true,\"ticks\":\"\",\"zerolinecolor\":\"white\",\"gridwidth\":2},\"yaxis\":{\"backgroundcolor\":\"#E5ECF6\",\"gridcolor\":\"white\",\"linecolor\":\"white\",\"showbackground\":true,\"ticks\":\"\",\"zerolinecolor\":\"white\",\"gridwidth\":2},\"zaxis\":{\"backgroundcolor\":\"#E5ECF6\",\"gridcolor\":\"white\",\"linecolor\":\"white\",\"showbackground\":true,\"ticks\":\"\",\"zerolinecolor\":\"white\",\"gridwidth\":2}},\"shapedefaults\":{\"line\":{\"color\":\"#2a3f5f\"}},\"annotationdefaults\":{\"arrowcolor\":\"#2a3f5f\",\"arrowhead\":0,\"arrowwidth\":1},\"geo\":{\"bgcolor\":\"white\",\"landcolor\":\"#E5ECF6\",\"subunitcolor\":\"white\",\"showland\":true,\"showlakes\":true,\"lakecolor\":\"white\"},\"title\":{\"x\":0.05},\"mapbox\":{\"style\":\"light\"}}},\"annotations\":[{\"font\":{},\"showarrow\":false,\"text\":\"Difficulty=Advanced\",\"x\":0.09200000000000001,\"xanchor\":\"center\",\"xref\":\"paper\",\"y\":1.0,\"yanchor\":\"bottom\",\"yref\":\"paper\"},{\"font\":{},\"showarrow\":false,\"text\":\"Difficulty=Beginner\",\"x\":0.29600000000000004,\"xanchor\":\"center\",\"xref\":\"paper\",\"y\":1.0,\"yanchor\":\"bottom\",\"yref\":\"paper\"},{\"font\":{},\"showarrow\":false,\"text\":\"Difficulty=Intermediate\",\"x\":0.5,\"xanchor\":\"center\",\"xref\":\"paper\",\"y\":1.0,\"yanchor\":\"bottom\",\"yref\":\"paper\"},{\"font\":{},\"showarrow\":false,\"text\":\"Difficulty=Mixed\",\"x\":0.7040000000000002,\"xanchor\":\"center\",\"xref\":\"paper\",\"y\":1.0,\"yanchor\":\"bottom\",\"yref\":\"paper\"},{\"font\":{},\"showarrow\":false,\"text\":\"Difficulty=Not Found\",\"x\":0.908,\"xanchor\":\"center\",\"xref\":\"paper\",\"y\":1.0,\"yanchor\":\"bottom\",\"yref\":\"paper\"}],\"legend\":{\"tracegroupgap\":0},\"margin\":{\"t\":60},\"showlegend\":false},                        {\"responsive\": true}                    ).then(function(){\n",
       "                            \n",
       "var gd = document.getElementById('a885731e-4698-442b-a2ff-b39b24335952');\n",
       "var x = new MutationObserver(function (mutations, observer) {{\n",
       "        var display = window.getComputedStyle(gd).display;\n",
       "        if (!display || display === 'none') {{\n",
       "            console.log([gd, 'removed!']);\n",
       "            Plotly.purge(gd);\n",
       "            observer.disconnect();\n",
       "        }}\n",
       "}});\n",
       "\n",
       "// Listen for the removal of the full notebook cells\n",
       "var notebookContainer = gd.closest('#notebook-container');\n",
       "if (notebookContainer) {{\n",
       "    x.observe(notebookContainer, {childList: true});\n",
       "}}\n",
       "\n",
       "// Listen for the clearing of the current output cell\n",
       "var outputEl = gd.closest('.output');\n",
       "if (outputEl) {{\n",
       "    x.observe(outputEl, {childList: true});\n",
       "}}\n",
       "\n",
       "                        })                };                });            </script>        </div>"
      ]
     },
     "metadata": {},
     "output_type": "display_data"
    }
   ],
   "source": [
    "pie(data_frame=df[['Difficulty', 'Type_Of_Certificate']].groupby(by=['Difficulty', 'Type_Of_Certificate']).size().reset_index(), values=0,\n",
    "   facet_col='Difficulty', names='Type_Of_Certificate').update_traces(textposition='inside', textinfo='label+value').update_layout(showlegend=False)"
   ]
  },
  {
   "cell_type": "code",
   "execution_count": 9,
   "id": "af0410a0",
   "metadata": {
    "execution": {
     "iopub.execute_input": "2024-01-07T16:42:00.574605Z",
     "iopub.status.busy": "2024-01-07T16:42:00.574213Z",
     "iopub.status.idle": "2024-01-07T16:42:00.644380Z",
     "shell.execute_reply": "2024-01-07T16:42:00.642937Z"
    },
    "papermill": {
     "duration": 0.081879,
     "end_time": "2024-01-07T16:42:00.647251",
     "exception": false,
     "start_time": "2024-01-07T16:42:00.565372",
     "status": "completed"
    },
    "tags": []
   },
   "outputs": [
    {
     "data": {
      "text/html": [
       "<div>                            <div id=\"54556a0d-28fb-4c33-adca-f89974d39c6a\" class=\"plotly-graph-div\" style=\"height:525px; width:100%;\"></div>            <script type=\"text/javascript\">                require([\"plotly\"], function(Plotly) {                    window.PLOTLYENV=window.PLOTLYENV || {};                                    if (document.getElementById(\"54556a0d-28fb-4c33-adca-f89974d39c6a\")) {                    Plotly.newPlot(                        \"54556a0d-28fb-4c33-adca-f89974d39c6a\",                        [{\"domain\":{\"x\":[0.0,1.0],\"y\":[0.0,1.0]},\"hovertemplate\":\"Duration=%{label}\\u003cextra\\u003e\\u003c\\u002fextra\\u003e\",\"labels\":[\"3 - 6 Months\",\"3 - 6 Months\",\"3 - 6 Months\",\"3 - 6 Months\",\"3 - 6 Months\",\"3 - 6 Months\",\"3 - 6 Months\",\"1 - 3 Months\",\"3 - 6 Months\",\"3 - 6 Months\",\"3 - 6 Months\",\"3 - 6 Months\",\"1 - 3 Months\",\"3 - 6 Months\",\"3 - 6 Months\",\"1 - 3 Months\",\"3 - 6 Months\",\"1 - 3 Months\",\"3 - 6 Months\",\"3 - 6 Months\",\"1 - 4 Weeks\",\"3 - 6 Months\",\"3 - 6 Months\",\"3 - 6 Months\",\"3 - 6 Months\",\"3 - 6 Months\",\"3 - 6 Months\",\"1 - 3 Months\",\"3 - 6 Months\",\"3 - 6 Months\",\"1 - 4 Weeks\",\"3 - 6 Months\",\"1 - 4 Weeks\",\"3 - 6 Months\",\"3 - 6 Months\",\"1 - 3 Months\",\"1 - 4 Weeks\",\"3 - 6 Months\",\"1 - 4 Weeks\",\"1 - 3 Months\",\"1 - 3 Months\",\"3 - 6 Months\",\"3 - 6 Months\",\"1 - 4 Weeks\",\"3 - 6 Months\",\"3 - 6 Months\",\"3 - 6 Months\",\"3 - 6 Months\",\"3 - 6 Months\",\"3 - 6 Months\",\"3 - 6 Months\",\"3 - 6 Months\",\"1 - 3 Months\",\"3 - 6 Months\",\"1 - 3 Months\",\"3 - 6 Months\",\"3 - 6 Months\",\"3 - 6 Months\",\"3 - 6 Months\",\"3 - 6 Months\",\"1 - 4 Weeks\",\"3 - 6 Months\",\"3 - 6 Months\",\"1 - 4 Weeks\",\"3 - 6 Months\",\"3 - 6 Months\",\"3 - 6 Months\",\"3 - 6 Months\",\"3 - 6 Months\",\"1 - 4 Weeks\",\"3 - 6 Months\",\"3 - 6 Months\",\"1 - 4 Weeks\",\"1 - 4 Weeks\",\"3 - 6 Months\",\"1 - 3 Months\",\"3 - 6 Months\",\"1 - 3 Months\",\"1 - 4 Weeks\",\"1 - 3 Months\",\"3 - 6 Months\",\"3 - 6 Months\",\"1 - 4 Weeks\",\"3 - 6 Months\",\"3 - 6 Months\",\"1 - 4 Weeks\",\"3 - 6 Months\",\"3 - 6 Months\",\"3 - 6 Months\",\"3 - 6 Months\",\"1 - 3 Months\",\"3 - 6 Months\",\"3 - 6 Months\",\"3 - 6 Months\",\"3 - 6 Months\",\"3 - 6 Months\",\"3 - 6 Months\",\"3 - 6 Months\",\"3 - 6 Months\",\"1 - 3 Months\",\"3 - 6 Months\",\"3 - 6 Months\",\"1 - 3 Months\",\"3 - 6 Months\",\"3 - 6 Months\",\"1 - 3 Months\",\"1 - 3 Months\",\"3 - 6 Months\",\"3 - 6 Months\",\"3 - 6 Months\",\"1 - 4 Weeks\",\"3 - 6 Months\",\"3 - 6 Months\",\"3 - 6 Months\",\"1 - 3 Months\",\"1 - 4 Weeks\",\"3 - 6 Months\",\"3 - 6 Months\",\"3 - 6 Months\",\"3 - 6 Months\",\"3 - 6 Months\",\"1 - 3 Months\",\"1 - 4 Weeks\",\"3 - 6 Months\",\"1 - 3 Months\",\"3 - 6 Months\",\"1 - 3 Months\",\"3 - 6 Months\",\"1 - 3 Months\",\"3 - 6 Months\",\"3 - 6 Months\",\"3 - 6 Months\",\"1 - 4 Weeks\",\"1 - 4 Weeks\",\"Not Found\",\"3 - 6 Months\",\"3 - 6 Months\",\"1 - 3 Months\",\"3 - 6 Months\",\"3 - 6 Months\",\"1 - 3 Months\",\"3 - 6 Months\",\"1 - 4 Weeks\",\"3 - 6 Months\",\"1 - 3 Months\",\"3 - 6 Months\",\"3 - 6 Months\",\"3 - 6 Months\",\"3 - 6 Months\",\"3 - 6 Months\",\"3 - 6 Months\",\"3 - 6 Months\",\"1 - 3 Months\",\"3 - 6 Months\",\"3 - 6 Months\",\"1 - 4 Weeks\",\"1 - 4 Weeks\",\"1 - 3 Months\",\"3 - 6 Months\",\"3 - 6 Months\",\"3 - 6 Months\",\"3 - 6 Months\",\"3 - 6 Months\",\"3 - 6 Months\",\"1 - 3 Months\",\"3 - 6 Months\",\"3 - 6 Months\",\"1 - 3 Months\",\"3 - 6 Months\",\"1 - 4 Weeks\",\"3 - 6 Months\",\"Not Found\",\"1 - 3 Months\",\"1 - 4 Weeks\",\"1 - 3 Months\",\"1 - 3 Months\",\"3 - 6 Months\",\"3 - 6 Months\",\"1 - 3 Months\",\"1 - 3 Months\",\"1 - 3 Months\",\"3 - 6 Months\",\"3 - 6 Months\",\"3 - 6 Months\",\"1 - 3 Months\",\"1 - 4 Weeks\",\"3 - 6 Months\",\"1 - 4 Weeks\",\"3 - 6 Months\",\"3 - 6 Months\",\"3 - 6 Months\",\"1 - 3 Months\",\"1 - 3 Months\",\"1 - 3 Months\",\"1 - 4 Weeks\",\"3 - 6 Months\",\"1 - 3 Months\",\"3 - 6 Months\",\"3 - 6 Months\",\"3 - 6 Months\",\"3 - 6 Months\",\"3 - 6 Months\",\"1 - 4 Weeks\",\"3 - 6 Months\",\"3 - 6 Months\",\"1 - 4 Weeks\",\"3 - 6 Months\",\"3 - 6 Months\",\"3 - 6 Months\",\"3 - 6 Months\",\"1 - 4 Weeks\",\"1 - 3 Months\",\"1 - 3 Months\",\"3 - 6 Months\",\"3 - 6 Months\",\"3 - 6 Months\",\"3 - 6 Months\",\"1 - 3 Months\",\"3 - 6 Months\",\"1 - 4 Weeks\",\"3 - 6 Months\",\"1 - 4 Weeks\",\"3 - 6 Months\",\"1 - 3 Months\",\"3 - 6 Months\",\"3 - 6 Months\",\"1 - 3 Months\",\"1 - 3 Months\",\"3 - 6 Months\",\"1 - 4 Weeks\",\"Not Found\",\"3 - 6 Months\",\"1 - 3 Months\",\"1 - 4 Weeks\",\"3 - 6 Months\",\"1 - 4 Weeks\",\"3 - 6 Months\",\"1 - 3 Months\",\"1 - 3 Months\",\"1 - 3 Months\",\"1 - 4 Weeks\",\"3 - 6 Months\",\"3 - 6 Months\",\"3 - 6 Months\",\"1 - 4 Weeks\",\"Not Found\",\"1 - 3 Months\",\"1 - 3 Months\",\"1 - 4 Weeks\",\"1 - 3 Months\",\"1 - 4 Weeks\",\"3 - 6 Months\",\"3 - 6 Months\",\"3 - 6 Months\",\"3 - 6 Months\",\"Not Found\",\"3 - 6 Months\",\"1 - 4 Weeks\",\"3 - 6 Months\",\"1 - 3 Months\",\"1 - 3 Months\",\"3 - 6 Months\",\"1 - 4 Weeks\",\"3 - 6 Months\",\"3 - 6 Months\",\"3 - 6 Months\",\"3 - 6 Months\",\"3 - 6 Months\",\"3 - 6 Months\",\"3 - 6 Months\",\"3 - 6 Months\",\"3 - 6 Months\",\"1 - 4 Weeks\",\"1 - 4 Weeks\",\"3 - 6 Months\",\"3 - 6 Months\",\"3 - 6 Months\",\"1 - 3 Months\",\"1 - 3 Months\",\"1 - 4 Weeks\",\"1 - 3 Months\",\"Not Found\",\"3 - 6 Months\",\"3 - 6 Months\",\"Not Found\",\"1 - 4 Weeks\",\"3 - 6 Months\",\"1 - 4 Weeks\",\"3 - 6 Months\",\"1 - 4 Weeks\",\"1 - 4 Weeks\",\"3 - 6 Months\",\"3 - 6 Months\",\"Not Found\",\"1 - 3 Months\",\"1 - 3 Months\",\"1 - 3 Months\",\"3 - 6 Months\",\"Not Found\",\"3 - 6 Months\",\"3 - 6 Months\",\"1 - 4 Weeks\",\"1 - 3 Months\",\"1 - 4 Weeks\",\"1 - 3 Months\",\"1 - 3 Months\",\"3 - 6 Months\",\"3 - 6 Months\",\"3 - 6 Months\",\"1 - 4 Weeks\",\"Not Found\",\"1 - 3 Months\",\"3 - 6 Months\",\"1 - 4 Weeks\",\"1 - 4 Weeks\",\"Not Found\",\"Not Found\",\"3 - 6 Months\",\"3 - 6 Months\",\"3 - 6 Months\",\"Not Found\",\"1 - 3 Months\",\"1 - 3 Months\",\"3 - 6 Months\",\"1 - 4 Weeks\",\"3 - 6 Months\",\"3 - 6 Months\",\"3 - 6 Months\",\"1 - 4 Weeks\",\"3 - 6 Months\",\"1 - 4 Weeks\",\"3 - 6 Months\",\"3 - 6 Months\",\"1 - 3 Months\",\"1 - 3 Months\",\"Not Found\",\"1 - 3 Months\",\"3 - 6 Months\",\"3 - 6 Months\",\"3 - 6 Months\",\"3 - 6 Months\",\"3 - 6 Months\",\"3 - 6 Months\",\"1 - 3 Months\",\"Not Found\",\"3 - 6 Months\",\"1 - 4 Weeks\",\"1 - 3 Months\",\"1 - 4 Weeks\",\"3 - 6 Months\",\"3 - 6 Months\",\"1 - 3 Months\",\"3 - 6 Months\",\"1 - 4 Weeks\",\"3 - 6 Months\",\"1 - 4 Weeks\",\"1 - 3 Months\",\"3 - 6 Months\",\"1 - 3 Months\",\"1 - 3 Months\",\"3 - 6 Months\",\"1 - 3 Months\",\"3 - 6 Months\",\"1 - 3 Months\",\"1 - 3 Months\",\"3 - 6 Months\",\"1 - 4 Weeks\",\"1 - 4 Weeks\",\"3 - 6 Months\",\"3 - 6 Months\",\"1 - 4 Weeks\",\"1 - 3 Months\",\"1 - 3 Months\",\"Not Found\",\"3 - 6 Months\",\"1 - 4 Weeks\",\"3 - 6 Months\",\"3 - 6 Months\",\"3 - 6 Months\",\"3 - 6 Months\",\"1 - 3 Months\",\"1 - 3 Months\",\"3 - 6 Months\",\"1 - 4 Weeks\",\"1 - 4 Weeks\",\"1 - 3 Months\",\"3 - 6 Months\",\"1 - 4 Weeks\",\"3 - 6 Months\",\"3 - 6 Months\",\"1 - 3 Months\",\"1 - 3 Months\",\"3 - 6 Months\",\"1 - 3 Months\",\"3 - 6 Months\",\"3 - 6 Months\",\"1 - 3 Months\",\"3 - 6 Months\",\"1 - 3 Months\",\"3 - 6 Months\",\"3 - 6 Months\",\"3 - 6 Months\",\"3 - 6 Months\",\"3 - 6 Months\",\"Not Found\",\"3 - 6 Months\",\"1 - 3 Months\",\"1 - 4 Weeks\",\"3 - 6 Months\",\"1 - 3 Months\",\"Not Found\",\"3 - 6 Months\",\"3 - 6 Months\",\"1 - 4 Weeks\",\"3 - 6 Months\",\"3 - 6 Months\",\"3 - 6 Months\",\"3 - 6 Months\",\"1 - 4 Weeks\",\"3 - 6 Months\",\"3 - 6 Months\",\"1 - 4 Weeks\",\"1 - 4 Weeks\",\"3 - 6 Months\",\"1 - 3 Months\",\"Not Found\",\"1 - 3 Months\",\"3 - 6 Months\",\"1 - 3 Months\",\"3 - 6 Months\",\"3 - 6 Months\",\"1 - 4 Weeks\",\"3 - 6 Months\",\"3 - 6 Months\",\"Not Found\",\"1 - 4 Weeks\",\"1 - 3 Months\",\"1 - 3 Months\",\"1 - 3 Months\",\"1 - 4 Weeks\",\"1 - 3 Months\",\"3 - 6 Months\",\"3 - 6 Months\",\"1 - 3 Months\",\"3 - 6 Months\",\"Not Found\",\"3 - 6 Months\",\"1 - 3 Months\",\"Not Found\",\"3 - 6 Months\",\"1 - 4 Weeks\",\"1 - 4 Weeks\",\"1 - 3 Months\",\"Not Found\",\"1 - 3 Months\",\"1 - 3 Months\",\"Not Found\",\"1 - 4 Weeks\",\"1 - 4 Weeks\",\"3 - 6 Months\",\"3 - 6 Months\",\"1 - 4 Weeks\",\"Not Found\",\"3 - 6 Months\",\"1 - 3 Months\",\"1 - 4 Weeks\",\"1 - 3 Months\",\"1 - 3 Months\",\"1 - 4 Weeks\",\"1 - 3 Months\",\"1 - 4 Weeks\",\"1 - 4 Weeks\",\"3 - 6 Months\",\"1 - 3 Months\",\"Not Found\",\"1 - 4 Weeks\",\"3 - 6 Months\",\"1 - 3 Months\",\"1 - 3 Months\",\"3 - 6 Months\",\"3 - 6 Months\",\"3 - 6 Months\",\"3 - 6 Months\",\"1 - 3 Months\",\"1 - 3 Months\",\"1 - 3 Months\",\"3 - 6 Months\",\"3 - 6 Months\",\"3 - 6 Months\",\"3 - 6 Months\",\"3 - 6 Months\",\"Not Found\",\"3 - 6 Months\",\"Not Found\",\"1 - 4 Weeks\",\"3 - 6 Months\",\"3 - 6 Months\",\"1 - 4 Weeks\",\"3 - 6 Months\",\"3 - 6 Months\",\"3 - 6 Months\",\"Not Found\",\"1 - 4 Weeks\",\"3 - 6 Months\",\"1 - 3 Months\",\"1 - 3 Months\",\"1 - 4 Weeks\",\"1 - 4 Weeks\",\"1 - 4 Weeks\",\"1 - 3 Months\",\"1 - 3 Months\",\"1 - 3 Months\",\"1 - 3 Months\",\"Not Found\",\"3 - 6 Months\",\"Not Found\",\"1 - 3 Months\",\"3 - 6 Months\",\"3 - 6 Months\",\"Not Found\",\"1 - 3 Months\",\"1 - 3 Months\",\"3 - 6 Months\",\"1 - 3 Months\",\"Not Found\",\"1 - 3 Months\",\"3 - 6 Months\",\"3 - 6 Months\",\"1 - 3 Months\",\"1 - 3 Months\",\"3 - 6 Months\",\"3 - 6 Months\",\"3 - 6 Months\",\"3 - 6 Months\",\"Less Than 2 Hours\",\"1 - 3 Months\",\"Not Found\",\"1 - 3 Months\",\"1 - 3 Months\",\"3 - 6 Months\",\"1 - 4 Weeks\",\"1 - 3 Months\",\"1 - 3 Months\",\"1 - 3 Months\",\"Not Found\",\"1 - 3 Months\",\"1 - 4 Weeks\",\"1 - 4 Weeks\",\"3 - 6 Months\",\"Not Found\",\"1 - 3 Months\",\"3 - 6 Months\",\"1 - 3 Months\",\"Not Found\",\"1 - 3 Months\",\"1 - 3 Months\",\"3 - 6 Months\",\"3 - 6 Months\",\"3 - 6 Months\",\"1 - 4 Weeks\",\"3 - 6 Months\",\"1 - 4 Weeks\",\"Not Found\",\"Not Found\",\"1 - 3 Months\",\"1 - 4 Weeks\",\"Not Found\",\"3 - 6 Months\",\"Not Found\",\"Not Found\",\"1 - 3 Months\",\"1 - 3 Months\",\"Not Found\",\"1 - 4 Weeks\",\"1 - 4 Weeks\",\"3 - 6 Months\",\"1 - 3 Months\",\"3 - 6 Months\",\"1 - 3 Months\",\"1 - 3 Months\",\"Not Found\",\"1 - 4 Weeks\",\"3 - 6 Months\",\"Not Found\",\"Not Found\",\"3 - 6 Months\",\"Not Found\",\"1 - 3 Months\",\"1 - 4 Weeks\",\"1 - 4 Weeks\",\"3 - 6 Months\",\"3 - 6 Months\",\"Not Found\",\"1 - 4 Weeks\",\"Not Found\",\"1 - 3 Months\",\"3 - 6 Months\",\"3 - 6 Months\",\"3 - 6 Months\",\"Not Found\",\"1 - 3 Months\",\"1 - 3 Months\",\"1 - 4 Weeks\",\"Not Found\",\"1 - 3 Months\",\"1 - 4 Weeks\",\"1 - 3 Months\",\"1 - 3 Months\",\"1 - 4 Weeks\",\"Not Found\",\"1 - 3 Months\",\"1 - 3 Months\",\"Not Found\",\"3 - 6 Months\",\"3 - 6 Months\",\"1 - 3 Months\",\"1 - 3 Months\",\"3 - 6 Months\",\"1 - 3 Months\",\"1 - 4 Weeks\",\"1 - 3 Months\",\"1 - 3 Months\",\"1 - 4 Weeks\",\"1 - 3 Months\",\"1 - 3 Months\",\"3 - 6 Months\",\"1 - 4 Weeks\",\"3 - 6 Months\",\"3 - 6 Months\",\"3 - 6 Months\",\"3 - 6 Months\",\"1 - 3 Months\",\"1 - 3 Months\",\"1 - 3 Months\",\"3 - 6 Months\",\"3 - 6 Months\",\"1 - 3 Months\",\"1 - 3 Months\",\"1 - 4 Weeks\",\"3 - 6 Months\",\"1 - 4 Weeks\",\"3 - 6 Months\",\"1 - 4 Weeks\",\"3 - 6 Months\",\"Not Found\",\"1 - 4 Weeks\",\"3 - 6 Months\",\"1 - 4 Weeks\",\"1 - 4 Weeks\",\"1 - 4 Weeks\",\"1 - 3 Months\",\"3 - 6 Months\",\"3 - 6 Months\",\"1 - 4 Weeks\",\"1 - 3 Months\",\"Not Found\",\"3 - 6 Months\",\"1 - 4 Weeks\",\"3 - 6 Months\",\"3 - 6 Months\",\"1 - 3 Months\",\"3 - 6 Months\",\"1 - 3 Months\",\"1 - 4 Weeks\",\"1 - 4 Weeks\",\"1 - 3 Months\",\"1 - 4 Weeks\",\"1 - 3 Months\",\"1 - 3 Months\",\"Not Found\",\"3 - 6 Months\",\"1 - 4 Weeks\",\"Not Found\",\"3 - 6 Months\",\"1 - 4 Weeks\",\"3 - 6 Months\",\"1 - 4 Weeks\",\"1 - 4 Weeks\",\"1 - 3 Months\",\"1 - 3 Months\",\"Not Found\",\"Not Found\",\"3 - 6 Months\",\"3 - 6 Months\",\"1 - 3 Months\",\"1 - 4 Weeks\",\"1 - 4 Weeks\",\"Not Found\",\"Not Found\",\"1 - 3 Months\",\"1 - 4 Weeks\",\"3 - 6 Months\",\"1 - 4 Weeks\",\"1 - 3 Months\",\"Not Found\",\"1 - 3 Months\",\"1 - 3 Months\",\"1 - 3 Months\",\"3 - 6 Months\",\"1 - 4 Weeks\",\"1 - 3 Months\",\"1 - 3 Months\",\"Not Found\",\"3 - 6 Months\",\"3 - 6 Months\",\"1 - 4 Weeks\",\"3 - 6 Months\",\"3 - 6 Months\",\"1 - 4 Weeks\",\"1 - 4 Weeks\",\"Not Found\",\"1 - 3 Months\",\"3 - 6 Months\",\"1 - 3 Months\",\"3 - 6 Months\",\"1 - 4 Weeks\",\"1 - 4 Weeks\",\"3 - 6 Months\",\"1 - 4 Weeks\",\"Not Found\",\"1 - 4 Weeks\",\"3 - 6 Months\",\"3 - 6 Months\",\"1 - 3 Months\",\"1 - 3 Months\",\"1 - 3 Months\",\"Not Found\",\"1 - 4 Weeks\",\"3 - 6 Months\",\"1 - 3 Months\",\"3 - 6 Months\",\"3 - 6 Months\",\"1 - 3 Months\",\"1 - 3 Months\",\"1 - 3 Months\",\"1 - 4 Weeks\",\"1 - 3 Months\",\"Not Found\",\"3 - 6 Months\",\"3 - 6 Months\",\"1 - 3 Months\",\"Not Found\",\"1 - 3 Months\",\"3 - 6 Months\",\"3 - 6 Months\",\"Not Found\",\"3 - 6 Months\",\"3 - 6 Months\",\"3 - 6 Months\",\"Not Found\",\"1 - 3 Months\",\"3 - 6 Months\",\"1 - 4 Weeks\",\"3 - 6 Months\",\"1 - 4 Weeks\",\"1 - 3 Months\",\"3 - 6 Months\",\"3 - 6 Months\",\"1 - 4 Weeks\",\"3 - 6 Months\",\"1 - 3 Months\",\"3 - 6 Months\",\"1 - 3 Months\",\"1 - 4 Weeks\",\"3 - 6 Months\",\"1 - 3 Months\",\"Not Found\",\"3 - 6 Months\",\"1 - 4 Weeks\",\"3 - 6 Months\",\"Not Found\",\"1 - 3 Months\",\"1 - 3 Months\",\"1 - 4 Weeks\",\"1 - 3 Months\",\"1 - 4 Weeks\",\"3 - 6 Months\",\"1 - 4 Weeks\",\"1 - 4 Weeks\",\"3 - 6 Months\",\"3 - 6 Months\",\"Not Found\",\"3 - 6 Months\",\"1 - 3 Months\",\"3 - 6 Months\",\"Not Found\",\"3 - 6 Months\",\"3 - 6 Months\",\"3 - 6 Months\",\"3 - 6 Months\",\"1 - 3 Months\",\"1 - 3 Months\",\"1 - 4 Weeks\",\"1 - 4 Weeks\",\"1 - 3 Months\",\"1 - 4 Weeks\",\"1 - 4 Weeks\",\"1 - 4 Weeks\",\"1 - 3 Months\",\"3 - 6 Months\",\"1 - 3 Months\",\"1 - 3 Months\",\"Not Found\",\"3 - 6 Months\",\"Not Found\",\"1 - 3 Months\",\"1 - 3 Months\",\"1 - 4 Weeks\",\"3 - 6 Months\",\"3 - 6 Months\",\"1 - 3 Months\",\"1 - 4 Weeks\",\"3 - 6 Months\",\"1 - 3 Months\",\"3 - 6 Months\",\"1 - 4 Weeks\",\"1 - 3 Months\",\"Not Found\",\"1 - 3 Months\",\"1 - 4 Weeks\",\"Not Found\",\"1 - 4 Weeks\",\"Not Found\",\"3 - 6 Months\",\"Not Found\",\"3 - 6 Months\",\"3 - 6 Months\",\"3 - 6 Months\",\"3 - 6 Months\",\"1 - 3 Months\",\"1 - 4 Weeks\",\"Not Found\",\"3 - 6 Months\",\"3 - 6 Months\",\"3 - 6 Months\",\"1 - 3 Months\",\"1 - 4 Weeks\",\"1 - 4 Weeks\",\"3 - 6 Months\",\"1 - 3 Months\",\"3 - 6 Months\",\"1 - 3 Months\",\"1 - 3 Months\",\"3 - 6 Months\",\"1 - 4 Weeks\",\"Not Found\",\"1 - 4 Weeks\",\"1 - 3 Months\",\"Not Found\",\"3 - 6 Months\",\"3 - 6 Months\",\"Not Found\",\"3 - 6 Months\",\"Not Found\",\"3 - 6 Months\",\"3 - 6 Months\",\"Not Found\",\"3 - 6 Months\",\"1 - 3 Months\",\"1 - 4 Weeks\",\"3 - 6 Months\",\"1 - 4 Weeks\",\"1 - 3 Months\",\"3 - 6 Months\",\"Not Found\",\"3 - 6 Months\",\"1 - 4 Weeks\",\"1 - 3 Months\",\"3 - 6 Months\",\"Not Found\",\"3 - 6 Months\",\"1 - 3 Months\",\"1 - 4 Weeks\",\"1 - 4 Weeks\",\"1 - 4 Weeks\",\"1 - 3 Months\",\"Not Found\",\"3 - 6 Months\",\"1 - 4 Weeks\",\"1 - 4 Weeks\",\"3 - 6 Months\",\"3 - 6 Months\",\"3 - 6 Months\",\"3 - 6 Months\",\"Not Found\",\"3 - 6 Months\",\"1 - 3 Months\",\"1 - 4 Weeks\",\"3 - 6 Months\",\"1 - 3 Months\",\"3 - 6 Months\",\"Not Found\",\"1 - 3 Months\",\"1 - 3 Months\",\"Not Found\",\"1 - 4 Weeks\",\"Not Found\",\"3 - 6 Months\",\"3 - 6 Months\",\"3 - 6 Months\",\"1 - 4 Weeks\",null,\"1 - 4 Weeks\",\"1 - 3 Months\",\"1 - 4 Weeks\",\"Not Found\",\"1 - 3 Months\",\"Not Found\",\"1 - 3 Months\",\"3 - 6 Months\",\"1 - 4 Weeks\",\"3 - 6 Months\",\"3 - 6 Months\",\"1 - 3 Months\",\"3 - 6 Months\",\"Not Found\",\"Less Than 2 Hours\",\"1 - 3 Months\",\"1 - 4 Weeks\",\"Not Found\",\"3 - 6 Months\",\"1 - 3 Months\",\"1 - 4 Weeks\",\"3 - 6 Months\",\"3 - 6 Months\",\"1 - 3 Months\",\"3 - 6 Months\",\"Not Found\",\"1 - 4 Weeks\",\"Not Found\",\"1 - 3 Months\",\"1 - 3 Months\",\"Less Than 2 Hours\",\"1 - 4 Weeks\",\"1 - 4 Weeks\",\"1 - 3 Months\",\"1 - 3 Months\",\"3 - 6 Months\",\"3 - 6 Months\",\"Not Found\",\"Less Than 2 Hours\",\"3 - 6 Months\",\"1 - 3 Months\",\"1 - 3 Months\",\"1 - 3 Months\",\"3 - 6 Months\",\"1 - 4 Weeks\",\"1 - 4 Weeks\",\"1 - 3 Months\",\"1 - 3 Months\",\"1 - 3 Months\",\"1 - 3 Months\",\"3 - 6 Months\",\"Not Found\",\"3 - 6 Months\",\"3 - 6 Months\",\"1 - 4 Weeks\",\"1 - 3 Months\",\"Not Found\",\"3 - 6 Months\",\"1 - 3 Months\",\"3 - 6 Months\",\"Not Found\",\"1 - 4 Weeks\",\"1 - 3 Months\",\"1 - 4 Weeks\",\"1 - 3 Months\",\"Not Found\",\"3 - 6 Months\",\"Not Found\",\"1 - 4 Weeks\",\"1 - 3 Months\",\"Not Found\",\"1 - 4 Weeks\",\"3 - 6 Months\",\"Not Found\",\"3 - 6 Months\",null,null,null,null,null,null,null,null,null,null,null,null,null,null,null,null,null,null,null,null,null,null,null],\"legendgroup\":\"\",\"name\":\"\",\"showlegend\":true,\"type\":\"pie\",\"textinfo\":\"label+value\",\"textposition\":\"inside\"}],                        {\"template\":{\"data\":{\"histogram2dcontour\":[{\"type\":\"histogram2dcontour\",\"colorbar\":{\"outlinewidth\":0,\"ticks\":\"\"},\"colorscale\":[[0.0,\"#0d0887\"],[0.1111111111111111,\"#46039f\"],[0.2222222222222222,\"#7201a8\"],[0.3333333333333333,\"#9c179e\"],[0.4444444444444444,\"#bd3786\"],[0.5555555555555556,\"#d8576b\"],[0.6666666666666666,\"#ed7953\"],[0.7777777777777778,\"#fb9f3a\"],[0.8888888888888888,\"#fdca26\"],[1.0,\"#f0f921\"]]}],\"choropleth\":[{\"type\":\"choropleth\",\"colorbar\":{\"outlinewidth\":0,\"ticks\":\"\"}}],\"histogram2d\":[{\"type\":\"histogram2d\",\"colorbar\":{\"outlinewidth\":0,\"ticks\":\"\"},\"colorscale\":[[0.0,\"#0d0887\"],[0.1111111111111111,\"#46039f\"],[0.2222222222222222,\"#7201a8\"],[0.3333333333333333,\"#9c179e\"],[0.4444444444444444,\"#bd3786\"],[0.5555555555555556,\"#d8576b\"],[0.6666666666666666,\"#ed7953\"],[0.7777777777777778,\"#fb9f3a\"],[0.8888888888888888,\"#fdca26\"],[1.0,\"#f0f921\"]]}],\"heatmap\":[{\"type\":\"heatmap\",\"colorbar\":{\"outlinewidth\":0,\"ticks\":\"\"},\"colorscale\":[[0.0,\"#0d0887\"],[0.1111111111111111,\"#46039f\"],[0.2222222222222222,\"#7201a8\"],[0.3333333333333333,\"#9c179e\"],[0.4444444444444444,\"#bd3786\"],[0.5555555555555556,\"#d8576b\"],[0.6666666666666666,\"#ed7953\"],[0.7777777777777778,\"#fb9f3a\"],[0.8888888888888888,\"#fdca26\"],[1.0,\"#f0f921\"]]}],\"heatmapgl\":[{\"type\":\"heatmapgl\",\"colorbar\":{\"outlinewidth\":0,\"ticks\":\"\"},\"colorscale\":[[0.0,\"#0d0887\"],[0.1111111111111111,\"#46039f\"],[0.2222222222222222,\"#7201a8\"],[0.3333333333333333,\"#9c179e\"],[0.4444444444444444,\"#bd3786\"],[0.5555555555555556,\"#d8576b\"],[0.6666666666666666,\"#ed7953\"],[0.7777777777777778,\"#fb9f3a\"],[0.8888888888888888,\"#fdca26\"],[1.0,\"#f0f921\"]]}],\"contourcarpet\":[{\"type\":\"contourcarpet\",\"colorbar\":{\"outlinewidth\":0,\"ticks\":\"\"}}],\"contour\":[{\"type\":\"contour\",\"colorbar\":{\"outlinewidth\":0,\"ticks\":\"\"},\"colorscale\":[[0.0,\"#0d0887\"],[0.1111111111111111,\"#46039f\"],[0.2222222222222222,\"#7201a8\"],[0.3333333333333333,\"#9c179e\"],[0.4444444444444444,\"#bd3786\"],[0.5555555555555556,\"#d8576b\"],[0.6666666666666666,\"#ed7953\"],[0.7777777777777778,\"#fb9f3a\"],[0.8888888888888888,\"#fdca26\"],[1.0,\"#f0f921\"]]}],\"surface\":[{\"type\":\"surface\",\"colorbar\":{\"outlinewidth\":0,\"ticks\":\"\"},\"colorscale\":[[0.0,\"#0d0887\"],[0.1111111111111111,\"#46039f\"],[0.2222222222222222,\"#7201a8\"],[0.3333333333333333,\"#9c179e\"],[0.4444444444444444,\"#bd3786\"],[0.5555555555555556,\"#d8576b\"],[0.6666666666666666,\"#ed7953\"],[0.7777777777777778,\"#fb9f3a\"],[0.8888888888888888,\"#fdca26\"],[1.0,\"#f0f921\"]]}],\"mesh3d\":[{\"type\":\"mesh3d\",\"colorbar\":{\"outlinewidth\":0,\"ticks\":\"\"}}],\"scatter\":[{\"fillpattern\":{\"fillmode\":\"overlay\",\"size\":10,\"solidity\":0.2},\"type\":\"scatter\"}],\"parcoords\":[{\"type\":\"parcoords\",\"line\":{\"colorbar\":{\"outlinewidth\":0,\"ticks\":\"\"}}}],\"scatterpolargl\":[{\"type\":\"scatterpolargl\",\"marker\":{\"colorbar\":{\"outlinewidth\":0,\"ticks\":\"\"}}}],\"bar\":[{\"error_x\":{\"color\":\"#2a3f5f\"},\"error_y\":{\"color\":\"#2a3f5f\"},\"marker\":{\"line\":{\"color\":\"#E5ECF6\",\"width\":0.5},\"pattern\":{\"fillmode\":\"overlay\",\"size\":10,\"solidity\":0.2}},\"type\":\"bar\"}],\"scattergeo\":[{\"type\":\"scattergeo\",\"marker\":{\"colorbar\":{\"outlinewidth\":0,\"ticks\":\"\"}}}],\"scatterpolar\":[{\"type\":\"scatterpolar\",\"marker\":{\"colorbar\":{\"outlinewidth\":0,\"ticks\":\"\"}}}],\"histogram\":[{\"marker\":{\"pattern\":{\"fillmode\":\"overlay\",\"size\":10,\"solidity\":0.2}},\"type\":\"histogram\"}],\"scattergl\":[{\"type\":\"scattergl\",\"marker\":{\"colorbar\":{\"outlinewidth\":0,\"ticks\":\"\"}}}],\"scatter3d\":[{\"type\":\"scatter3d\",\"line\":{\"colorbar\":{\"outlinewidth\":0,\"ticks\":\"\"}},\"marker\":{\"colorbar\":{\"outlinewidth\":0,\"ticks\":\"\"}}}],\"scattermapbox\":[{\"type\":\"scattermapbox\",\"marker\":{\"colorbar\":{\"outlinewidth\":0,\"ticks\":\"\"}}}],\"scatterternary\":[{\"type\":\"scatterternary\",\"marker\":{\"colorbar\":{\"outlinewidth\":0,\"ticks\":\"\"}}}],\"scattercarpet\":[{\"type\":\"scattercarpet\",\"marker\":{\"colorbar\":{\"outlinewidth\":0,\"ticks\":\"\"}}}],\"carpet\":[{\"aaxis\":{\"endlinecolor\":\"#2a3f5f\",\"gridcolor\":\"white\",\"linecolor\":\"white\",\"minorgridcolor\":\"white\",\"startlinecolor\":\"#2a3f5f\"},\"baxis\":{\"endlinecolor\":\"#2a3f5f\",\"gridcolor\":\"white\",\"linecolor\":\"white\",\"minorgridcolor\":\"white\",\"startlinecolor\":\"#2a3f5f\"},\"type\":\"carpet\"}],\"table\":[{\"cells\":{\"fill\":{\"color\":\"#EBF0F8\"},\"line\":{\"color\":\"white\"}},\"header\":{\"fill\":{\"color\":\"#C8D4E3\"},\"line\":{\"color\":\"white\"}},\"type\":\"table\"}],\"barpolar\":[{\"marker\":{\"line\":{\"color\":\"#E5ECF6\",\"width\":0.5},\"pattern\":{\"fillmode\":\"overlay\",\"size\":10,\"solidity\":0.2}},\"type\":\"barpolar\"}],\"pie\":[{\"automargin\":true,\"type\":\"pie\"}]},\"layout\":{\"autotypenumbers\":\"strict\",\"colorway\":[\"#636efa\",\"#EF553B\",\"#00cc96\",\"#ab63fa\",\"#FFA15A\",\"#19d3f3\",\"#FF6692\",\"#B6E880\",\"#FF97FF\",\"#FECB52\"],\"font\":{\"color\":\"#2a3f5f\"},\"hovermode\":\"closest\",\"hoverlabel\":{\"align\":\"left\"},\"paper_bgcolor\":\"white\",\"plot_bgcolor\":\"#E5ECF6\",\"polar\":{\"bgcolor\":\"#E5ECF6\",\"angularaxis\":{\"gridcolor\":\"white\",\"linecolor\":\"white\",\"ticks\":\"\"},\"radialaxis\":{\"gridcolor\":\"white\",\"linecolor\":\"white\",\"ticks\":\"\"}},\"ternary\":{\"bgcolor\":\"#E5ECF6\",\"aaxis\":{\"gridcolor\":\"white\",\"linecolor\":\"white\",\"ticks\":\"\"},\"baxis\":{\"gridcolor\":\"white\",\"linecolor\":\"white\",\"ticks\":\"\"},\"caxis\":{\"gridcolor\":\"white\",\"linecolor\":\"white\",\"ticks\":\"\"}},\"coloraxis\":{\"colorbar\":{\"outlinewidth\":0,\"ticks\":\"\"}},\"colorscale\":{\"sequential\":[[0.0,\"#0d0887\"],[0.1111111111111111,\"#46039f\"],[0.2222222222222222,\"#7201a8\"],[0.3333333333333333,\"#9c179e\"],[0.4444444444444444,\"#bd3786\"],[0.5555555555555556,\"#d8576b\"],[0.6666666666666666,\"#ed7953\"],[0.7777777777777778,\"#fb9f3a\"],[0.8888888888888888,\"#fdca26\"],[1.0,\"#f0f921\"]],\"sequentialminus\":[[0.0,\"#0d0887\"],[0.1111111111111111,\"#46039f\"],[0.2222222222222222,\"#7201a8\"],[0.3333333333333333,\"#9c179e\"],[0.4444444444444444,\"#bd3786\"],[0.5555555555555556,\"#d8576b\"],[0.6666666666666666,\"#ed7953\"],[0.7777777777777778,\"#fb9f3a\"],[0.8888888888888888,\"#fdca26\"],[1.0,\"#f0f921\"]],\"diverging\":[[0,\"#8e0152\"],[0.1,\"#c51b7d\"],[0.2,\"#de77ae\"],[0.3,\"#f1b6da\"],[0.4,\"#fde0ef\"],[0.5,\"#f7f7f7\"],[0.6,\"#e6f5d0\"],[0.7,\"#b8e186\"],[0.8,\"#7fbc41\"],[0.9,\"#4d9221\"],[1,\"#276419\"]]},\"xaxis\":{\"gridcolor\":\"white\",\"linecolor\":\"white\",\"ticks\":\"\",\"title\":{\"standoff\":15},\"zerolinecolor\":\"white\",\"automargin\":true,\"zerolinewidth\":2},\"yaxis\":{\"gridcolor\":\"white\",\"linecolor\":\"white\",\"ticks\":\"\",\"title\":{\"standoff\":15},\"zerolinecolor\":\"white\",\"automargin\":true,\"zerolinewidth\":2},\"scene\":{\"xaxis\":{\"backgroundcolor\":\"#E5ECF6\",\"gridcolor\":\"white\",\"linecolor\":\"white\",\"showbackground\":true,\"ticks\":\"\",\"zerolinecolor\":\"white\",\"gridwidth\":2},\"yaxis\":{\"backgroundcolor\":\"#E5ECF6\",\"gridcolor\":\"white\",\"linecolor\":\"white\",\"showbackground\":true,\"ticks\":\"\",\"zerolinecolor\":\"white\",\"gridwidth\":2},\"zaxis\":{\"backgroundcolor\":\"#E5ECF6\",\"gridcolor\":\"white\",\"linecolor\":\"white\",\"showbackground\":true,\"ticks\":\"\",\"zerolinecolor\":\"white\",\"gridwidth\":2}},\"shapedefaults\":{\"line\":{\"color\":\"#2a3f5f\"}},\"annotationdefaults\":{\"arrowcolor\":\"#2a3f5f\",\"arrowhead\":0,\"arrowwidth\":1},\"geo\":{\"bgcolor\":\"white\",\"landcolor\":\"#E5ECF6\",\"subunitcolor\":\"white\",\"showland\":true,\"showlakes\":true,\"lakecolor\":\"white\"},\"title\":{\"x\":0.05},\"mapbox\":{\"style\":\"light\"}}},\"legend\":{\"tracegroupgap\":0},\"margin\":{\"t\":60},\"showlegend\":false},                        {\"responsive\": true}                    ).then(function(){\n",
       "                            \n",
       "var gd = document.getElementById('54556a0d-28fb-4c33-adca-f89974d39c6a');\n",
       "var x = new MutationObserver(function (mutations, observer) {{\n",
       "        var display = window.getComputedStyle(gd).display;\n",
       "        if (!display || display === 'none') {{\n",
       "            console.log([gd, 'removed!']);\n",
       "            Plotly.purge(gd);\n",
       "            observer.disconnect();\n",
       "        }}\n",
       "}});\n",
       "\n",
       "// Listen for the removal of the full notebook cells\n",
       "var notebookContainer = gd.closest('#notebook-container');\n",
       "if (notebookContainer) {{\n",
       "    x.observe(notebookContainer, {childList: true});\n",
       "}}\n",
       "\n",
       "// Listen for the clearing of the current output cell\n",
       "var outputEl = gd.closest('.output');\n",
       "if (outputEl) {{\n",
       "    x.observe(outputEl, {childList: true});\n",
       "}}\n",
       "\n",
       "                        })                };                });            </script>        </div>"
      ]
     },
     "metadata": {},
     "output_type": "display_data"
    }
   ],
   "source": [
    "pie(data_frame=df, names='Duration').update_traces(textposition='inside', textinfo='label+value').update_layout(showlegend=False)"
   ]
  }
 ],
 "metadata": {
  "kaggle": {
   "accelerator": "none",
   "dataSources": [
    {
     "datasetId": 4267157,
     "sourceId": 7348487,
     "sourceType": "datasetVersion"
    }
   ],
   "dockerImageVersionId": 30626,
   "isGpuEnabled": false,
   "isInternetEnabled": true,
   "language": "python",
   "sourceType": "notebook"
  },
  "kernelspec": {
   "display_name": "Python 3",
   "language": "python",
   "name": "python3"
  },
  "language_info": {
   "codemirror_mode": {
    "name": "ipython",
    "version": 3
   },
   "file_extension": ".py",
   "mimetype": "text/x-python",
   "name": "python",
   "nbconvert_exporter": "python",
   "pygments_lexer": "ipython3",
   "version": "3.10.12"
  },
  "papermill": {
   "default_parameters": {},
   "duration": 8.407762,
   "end_time": "2024-01-07T16:42:01.378185",
   "environment_variables": {},
   "exception": null,
   "input_path": "__notebook__.ipynb",
   "output_path": "__notebook__.ipynb",
   "parameters": {},
   "start_time": "2024-01-07T16:41:52.970423",
   "version": "2.4.0"
  }
 },
 "nbformat": 4,
 "nbformat_minor": 5
}
