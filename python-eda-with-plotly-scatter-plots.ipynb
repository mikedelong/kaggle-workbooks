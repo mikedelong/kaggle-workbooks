{
 "cells": [
  {
   "cell_type": "code",
   "execution_count": 1,
   "id": "d92f8465",
   "metadata": {
    "execution": {
     "iopub.execute_input": "2023-10-24T20:22:46.385708Z",
     "iopub.status.busy": "2023-10-24T20:22:46.384238Z",
     "iopub.status.idle": "2023-10-24T20:22:46.844629Z",
     "shell.execute_reply": "2023-10-24T20:22:46.843235Z"
    },
    "papermill": {
     "duration": 0.469521,
     "end_time": "2023-10-24T20:22:46.847681",
     "exception": false,
     "start_time": "2023-10-24T20:22:46.378160",
     "status": "completed"
    },
    "tags": []
   },
   "outputs": [
    {
     "data": {
      "text/html": [
       "<div>\n",
       "<style scoped>\n",
       "    .dataframe tbody tr th:only-of-type {\n",
       "        vertical-align: middle;\n",
       "    }\n",
       "\n",
       "    .dataframe tbody tr th {\n",
       "        vertical-align: top;\n",
       "    }\n",
       "\n",
       "    .dataframe thead th {\n",
       "        text-align: right;\n",
       "    }\n",
       "</style>\n",
       "<table border=\"1\" class=\"dataframe\">\n",
       "  <thead>\n",
       "    <tr style=\"text-align: right;\">\n",
       "      <th></th>\n",
       "      <th>country</th>\n",
       "      <th>year</th>\n",
       "      <th>CL</th>\n",
       "      <th>PR</th>\n",
       "      <th>Status</th>\n",
       "      <th>Region_Code</th>\n",
       "      <th>Region_Name</th>\n",
       "      <th>is_ldc</th>\n",
       "      <th>least_developed</th>\n",
       "    </tr>\n",
       "  </thead>\n",
       "  <tbody>\n",
       "    <tr>\n",
       "      <th>0</th>\n",
       "      <td>Afghanistan</td>\n",
       "      <td>1995</td>\n",
       "      <td>7</td>\n",
       "      <td>7</td>\n",
       "      <td>NF</td>\n",
       "      <td>142</td>\n",
       "      <td>Asia</td>\n",
       "      <td>1</td>\n",
       "      <td>True</td>\n",
       "    </tr>\n",
       "    <tr>\n",
       "      <th>1</th>\n",
       "      <td>Afghanistan</td>\n",
       "      <td>1996</td>\n",
       "      <td>7</td>\n",
       "      <td>7</td>\n",
       "      <td>NF</td>\n",
       "      <td>142</td>\n",
       "      <td>Asia</td>\n",
       "      <td>1</td>\n",
       "      <td>True</td>\n",
       "    </tr>\n",
       "    <tr>\n",
       "      <th>2</th>\n",
       "      <td>Afghanistan</td>\n",
       "      <td>1997</td>\n",
       "      <td>7</td>\n",
       "      <td>7</td>\n",
       "      <td>NF</td>\n",
       "      <td>142</td>\n",
       "      <td>Asia</td>\n",
       "      <td>1</td>\n",
       "      <td>True</td>\n",
       "    </tr>\n",
       "    <tr>\n",
       "      <th>3</th>\n",
       "      <td>Afghanistan</td>\n",
       "      <td>1998</td>\n",
       "      <td>7</td>\n",
       "      <td>7</td>\n",
       "      <td>NF</td>\n",
       "      <td>142</td>\n",
       "      <td>Asia</td>\n",
       "      <td>1</td>\n",
       "      <td>True</td>\n",
       "    </tr>\n",
       "    <tr>\n",
       "      <th>4</th>\n",
       "      <td>Afghanistan</td>\n",
       "      <td>1999</td>\n",
       "      <td>7</td>\n",
       "      <td>7</td>\n",
       "      <td>NF</td>\n",
       "      <td>142</td>\n",
       "      <td>Asia</td>\n",
       "      <td>1</td>\n",
       "      <td>True</td>\n",
       "    </tr>\n",
       "  </tbody>\n",
       "</table>\n",
       "</div>"
      ],
      "text/plain": [
       "       country  year  CL  PR Status  Region_Code Region_Name  is_ldc  \\\n",
       "0  Afghanistan  1995   7   7     NF          142        Asia       1   \n",
       "1  Afghanistan  1996   7   7     NF          142        Asia       1   \n",
       "2  Afghanistan  1997   7   7     NF          142        Asia       1   \n",
       "3  Afghanistan  1998   7   7     NF          142        Asia       1   \n",
       "4  Afghanistan  1999   7   7     NF          142        Asia       1   \n",
       "\n",
       "   least_developed  \n",
       "0             True  \n",
       "1             True  \n",
       "2             True  \n",
       "3             True  \n",
       "4             True  "
      ]
     },
     "execution_count": 1,
     "metadata": {},
     "output_type": "execute_result"
    }
   ],
   "source": [
    "import pandas as pd\n",
    "df = pd.read_csv(filepath_or_buffer='/kaggle/input/world-freedom-index/freedom.csv')\n",
    "df['least_developed'] = df['is_ldc'].astype(bool)\n",
    "df.head()"
   ]
  },
  {
   "cell_type": "code",
   "execution_count": 2,
   "id": "4ee7d2d6",
   "metadata": {
    "execution": {
     "iopub.execute_input": "2023-10-24T20:22:46.860035Z",
     "iopub.status.busy": "2023-10-24T20:22:46.859047Z",
     "iopub.status.idle": "2023-10-24T20:22:46.877522Z",
     "shell.execute_reply": "2023-10-24T20:22:46.876350Z"
    },
    "papermill": {
     "duration": 0.026442,
     "end_time": "2023-10-24T20:22:46.880548",
     "exception": false,
     "start_time": "2023-10-24T20:22:46.854106",
     "status": "completed"
    },
    "tags": []
   },
   "outputs": [
    {
     "data": {
      "text/plain": [
       "country            193\n",
       "year                26\n",
       "CL                   7\n",
       "PR                   7\n",
       "Status               3\n",
       "Region_Code          5\n",
       "Region_Name          5\n",
       "is_ldc               2\n",
       "least_developed      2\n",
       "dtype: int64"
      ]
     },
     "execution_count": 2,
     "metadata": {},
     "output_type": "execute_result"
    }
   ],
   "source": [
    "df.nunique()"
   ]
  },
  {
   "cell_type": "code",
   "execution_count": 3,
   "id": "f531acc8",
   "metadata": {
    "execution": {
     "iopub.execute_input": "2023-10-24T20:22:46.889333Z",
     "iopub.status.busy": "2023-10-24T20:22:46.888983Z",
     "iopub.status.idle": "2023-10-24T20:22:46.896485Z",
     "shell.execute_reply": "2023-10-24T20:22:46.895283Z"
    },
    "papermill": {
     "duration": 0.014626,
     "end_time": "2023-10-24T20:22:46.898875",
     "exception": false,
     "start_time": "2023-10-24T20:22:46.884249",
     "status": "completed"
    },
    "tags": []
   },
   "outputs": [
    {
     "data": {
      "text/plain": [
       "2020"
      ]
     },
     "execution_count": 3,
     "metadata": {},
     "output_type": "execute_result"
    }
   ],
   "source": [
    "df['year'].max()"
   ]
  },
  {
   "cell_type": "code",
   "execution_count": 4,
   "id": "5d46dd89",
   "metadata": {
    "execution": {
     "iopub.execute_input": "2023-10-24T20:22:46.908445Z",
     "iopub.status.busy": "2023-10-24T20:22:46.908089Z",
     "iopub.status.idle": "2023-10-24T20:22:49.734301Z",
     "shell.execute_reply": "2023-10-24T20:22:49.732890Z"
    },
    "papermill": {
     "duration": 2.833969,
     "end_time": "2023-10-24T20:22:49.736841",
     "exception": false,
     "start_time": "2023-10-24T20:22:46.902872",
     "status": "completed"
    },
    "tags": []
   },
   "outputs": [
    {
     "data": {
      "text/html": [
       "        <script type=\"text/javascript\">\n",
       "        window.PlotlyConfig = {MathJaxConfig: 'local'};\n",
       "        if (window.MathJax && window.MathJax.Hub && window.MathJax.Hub.Config) {window.MathJax.Hub.Config({SVG: {font: \"STIX-Web\"}});}\n",
       "        if (typeof require !== 'undefined') {\n",
       "        require.undef(\"plotly\");\n",
       "        requirejs.config({\n",
       "            paths: {\n",
       "                'plotly': ['https://cdn.plot.ly/plotly-2.24.1.min']\n",
       "            }\n",
       "        });\n",
       "        require(['plotly'], function(Plotly) {\n",
       "            window._Plotly = Plotly;\n",
       "        });\n",
       "        }\n",
       "        </script>\n",
       "        "
      ]
     },
     "metadata": {},
     "output_type": "display_data"
    },
    {
     "data": {
      "text/html": [
       "<div>                            <div id=\"e2fe7f5e-0227-4dce-9ef5-b0f6e84e8c88\" class=\"plotly-graph-div\" style=\"height:525px; width:100%;\"></div>            <script type=\"text/javascript\">                require([\"plotly\"], function(Plotly) {                    window.PLOTLYENV=window.PLOTLYENV || {};                                    if (document.getElementById(\"e2fe7f5e-0227-4dce-9ef5-b0f6e84e8c88\")) {                    Plotly.newPlot(                        \"e2fe7f5e-0227-4dce-9ef5-b0f6e84e8c88\",                        [{\"alignmentgroup\":\"True\",\"boxpoints\":\"all\",\"fillcolor\":\"rgba(255,255,255,0)\",\"hoveron\":\"points\",\"hovertemplate\":\"\\u003cb\\u003e%{hovertext}\\u003c\\u002fb\\u003e\\u003cbr\\u003e\\u003cbr\\u003eRegion_Name=Asia\\u003cbr\\u003eCL=%{x}\\u003cbr\\u003ePR=%{y}\\u003cextra\\u003e\\u003c\\u002fextra\\u003e\",\"hovertext\":[\"Afghanistan\",\"Armenia\",\"Azerbaijan\",\"Bahrain\",\"Bangladesh\",\"Bhutan\",\"Brunei Darussalam\",\"Cambodia\",\"China\",\"Cyprus\",\"Georgia\",\"India\",\"Indonesia\",\"Iran (Islamic Republic of)\",\"Iraq\",\"Israel\",\"Japan\",\"Jordan\",\"Kazakhstan\",\"Kuwait\",\"Kyrgyzstan\",\"Lao People's Democratic Republic\",\"Lebanon\",\"Malaysia\",\"Maldives\",\"Mongolia\",\"Myanmar\",\"Nepal\",\"Democratic People's Republic of Korea\",\"Oman\",\"Pakistan\",\"Philippines\",\"Qatar\",\"Saudi Arabia\",\"Singapore\",\"Republic of Korea\",\"Sri Lanka\",\"Syrian Arab Republic\",\"Tajikistan\",\"Thailand\",\"Timor-Leste\",\"Turkey\",\"Turkmenistan\",\"United Arab Emirates\",\"Uzbekistan\",\"Viet Nam\",\"Yemen\"],\"legendgroup\":\"Asia\",\"line\":{\"color\":\"rgba(255,255,255,0)\"},\"marker\":{\"color\":\"#636efa\"},\"name\":\"Asia\",\"offsetgroup\":\"Asia\",\"orientation\":\"v\",\"pointpos\":0,\"showlegend\":true,\"x\":[6,4,6,6,5,4,5,5,6,1,3,4,4,6,6,3,1,5,5,5,5,6,4,4,5,2,6,4,7,5,5,4,5,7,4,2,4,7,6,5,3,6,7,6,6,6,6],\"x0\":\" \",\"xaxis\":\"x\",\"y\":[5,4,7,7,5,2,6,7,7,1,4,2,2,6,5,2,1,6,7,5,7,7,5,4,4,1,5,3,7,6,5,3,6,7,4,2,4,7,7,7,2,5,7,7,7,7,7],\"y0\":\" \",\"yaxis\":\"y\",\"type\":\"box\"},{\"alignmentgroup\":\"True\",\"boxpoints\":\"all\",\"fillcolor\":\"rgba(255,255,255,0)\",\"hoveron\":\"points\",\"hovertemplate\":\"\\u003cb\\u003e%{hovertext}\\u003c\\u002fb\\u003e\\u003cbr\\u003e\\u003cbr\\u003eRegion_Name=Europe\\u003cbr\\u003eCL=%{x}\\u003cbr\\u003ePR=%{y}\\u003cextra\\u003e\\u003c\\u002fextra\\u003e\",\"hovertext\":[\"Albania\",\"Andorra\",\"Austria\",\"Belarus\",\"Belgium\",\"Bosnia and Herzegovina\",\"Bulgaria\",\"Croatia\",\"Czechia\",\"Denmark\",\"Estonia\",\"Finland\",\"France\",\"Germany\",\"Greece\",\"Hungary\",\"Iceland\",\"Ireland\",\"Italy\",\"Latvia\",\"Liechtenstein\",\"Lithuania\",\"Luxembourg\",\"Malta\",\"Republic of Moldova\",\"Monaco\",\"Montenegro\",\"Netherlands\",\"North Macedonia\",\"Norway\",\"Poland\",\"Portugal\",\"Romania\",\"Russian Federation\",\"San Marino\",\"Serbia\",\"Slovakia\",\"Slovenia\",\"Spain\",\"Sweden\",\"Switzerland\",\"Ukraine\",\"United Kingdom of Great Britain and Northern Ireland\"],\"legendgroup\":\"Europe\",\"line\":{\"color\":\"rgba(255,255,255,0)\"},\"marker\":{\"color\":\"#EF553B\"},\"name\":\"Europe\",\"offsetgroup\":\"Europe\",\"orientation\":\"v\",\"pointpos\":0,\"showlegend\":true,\"x\":[3,1,1,6,1,4,2,2,1,1,1,1,2,1,2,3,1,1,1,2,1,2,1,1,3,1,3,1,3,1,2,1,2,6,1,3,1,1,1,1,1,4,1],\"x0\":\" \",\"xaxis\":\"x\",\"y\":[3,1,1,7,1,4,2,1,1,1,1,1,1,1,1,3,1,1,1,1,2,1,1,2,3,3,3,1,3,1,2,1,2,7,1,4,1,1,1,1,1,3,1],\"y0\":\" \",\"yaxis\":\"y\",\"type\":\"box\"},{\"alignmentgroup\":\"True\",\"boxpoints\":\"all\",\"fillcolor\":\"rgba(255,255,255,0)\",\"hoveron\":\"points\",\"hovertemplate\":\"\\u003cb\\u003e%{hovertext}\\u003c\\u002fb\\u003e\\u003cbr\\u003e\\u003cbr\\u003eRegion_Name=Africa\\u003cbr\\u003eCL=%{x}\\u003cbr\\u003ePR=%{y}\\u003cextra\\u003e\\u003c\\u002fextra\\u003e\",\"hovertext\":[\"Algeria\",\"Angola\",\"Benin\",\"Botswana\",\"Burkina Faso\",\"Burundi\",\"Cabo Verde\",\"Cameroon\",\"Central African Republic\",\"Chad\",\"Comoros\",\"Congo\",\"Democratic Republic of the Congo\",\"CÃƒÂ´te dÃ¢â‚¬â„¢Ivoire\",\"Djibouti\",\"Egypt\",\"Equatorial Guinea\",\"Eritrea\",\"Eswatini\",\"Ethiopia\",\"Gabon\",\"Ghana\",\"Guinea\",\"Guinea-Bissau\",\"Kenya\",\"Lesotho\",\"Liberia\",\"Libya\",\"Madagascar\",\"Malawi\",\"Mali\",\"Mauritania\",\"Mauritius\",\"Morocco\",\"Mozambique\",\"Namibia\",\"Niger\",\"Nigeria\",\"Rwanda\",\"Sao Tome and Principe\",\"Senegal\",\"Seychelles\",\"Sierra Leone\",\"Somalia\",\"South Africa\",\"South Sudan\",\"Sudan\",\"United Republic of Tanzania\",\"Gambia\",\"Togo\",\"Tunisia\",\"Uganda\",\"Zambia\",\"Zimbabwe\"],\"legendgroup\":\"Africa\",\"line\":{\"color\":\"rgba(255,255,255,0)\"},\"marker\":{\"color\":\"#00cc96\"},\"name\":\"Africa\",\"offsetgroup\":\"Africa\",\"orientation\":\"v\",\"pointpos\":0,\"showlegend\":true,\"x\":[5,5,2,2,4,6,1,6,7,6,4,5,6,4,5,6,7,7,5,6,5,2,5,4,4,3,4,6,4,3,5,5,2,5,4,2,4,5,6,2,3,3,3,7,2,7,6,5,4,4,3,5,4,5],\"x0\":\" \",\"xaxis\":\"x\",\"y\":[6,6,4,3,4,7,1,6,7,7,5,7,7,5,7,6,7,7,7,6,7,2,5,5,4,3,3,7,3,3,6,5,1,5,5,2,4,4,6,2,3,2,3,7,2,7,7,5,4,5,2,6,4,6],\"y0\":\" \",\"yaxis\":\"y\",\"type\":\"box\"},{\"alignmentgroup\":\"True\",\"boxpoints\":\"all\",\"fillcolor\":\"rgba(255,255,255,0)\",\"hoveron\":\"points\",\"hovertemplate\":\"\\u003cb\\u003e%{hovertext}\\u003c\\u002fb\\u003e\\u003cbr\\u003e\\u003cbr\\u003eRegion_Name=Americas\\u003cbr\\u003eCL=%{x}\\u003cbr\\u003ePR=%{y}\\u003cextra\\u003e\\u003c\\u002fextra\\u003e\",\"hovertext\":[\"Antigua and Barbuda\",\"Argentina\",\"Bahamas\",\"Barbados\",\"Belize\",\"Bolivia (Plurinational State of)\",\"Brazil\",\"Canada\",\"Chile\",\"Colombia\",\"Costa Rica\",\"Cuba\",\"Dominica\",\"Dominican Republic\",\"Ecuador\",\"El Salvador\",\"Grenada\",\"Guatemala\",\"Guyana\",\"Haiti\",\"Honduras\",\"Jamaica\",\"Mexico\",\"Nicaragua\",\"Panama\",\"Paraguay\",\"Peru\",\"Saint Kitts and Nevis\",\"Saint Lucia\",\"Saint Vincent and the Grenadines\",\"Suriname\",\"Trinidad and Tobago\",\"United States of America\",\"Uruguay\",\"Venezuela (Bolivarian Republic of)\"],\"legendgroup\":\"Americas\",\"line\":{\"color\":\"rgba(255,255,255,0)\"},\"marker\":{\"color\":\"#ab63fa\"},\"name\":\"Americas\",\"offsetgroup\":\"Americas\",\"orientation\":\"v\",\"pointpos\":0,\"showlegend\":true,\"x\":[2,2,1,1,1,3,3,1,1,3,1,6,1,3,3,4,2,4,3,5,5,2,4,5,2,3,3,1,1,1,2,2,2,1,6],\"x0\":\" \",\"xaxis\":\"x\",\"y\":[2,2,1,1,2,3,2,1,1,3,1,7,1,3,3,2,1,4,2,5,4,2,3,6,2,3,3,2,1,1,2,2,2,1,7],\"y0\":\" \",\"yaxis\":\"y\",\"type\":\"box\"},{\"alignmentgroup\":\"True\",\"boxpoints\":\"all\",\"fillcolor\":\"rgba(255,255,255,0)\",\"hoveron\":\"points\",\"hovertemplate\":\"\\u003cb\\u003e%{hovertext}\\u003c\\u002fb\\u003e\\u003cbr\\u003e\\u003cbr\\u003eRegion_Name=Oceania\\u003cbr\\u003eCL=%{x}\\u003cbr\\u003ePR=%{y}\\u003cextra\\u003e\\u003c\\u002fextra\\u003e\",\"hovertext\":[\"Australia\",\"Fiji\",\"Kiribati\",\"Marshall Islands\",\"Micronesia (Federated States of)\",\"Nauru\",\"New Zealand\",\"Palau\",\"Papua New Guinea\",\"Samoa\",\"Solomon Islands\",\"Tonga\",\"Tuvalu\",\"Vanuatu\"],\"legendgroup\":\"Oceania\",\"line\":{\"color\":\"rgba(255,255,255,0)\"},\"marker\":{\"color\":\"#FFA15A\"},\"name\":\"Oceania\",\"offsetgroup\":\"Oceania\",\"orientation\":\"v\",\"pointpos\":0,\"showlegend\":true,\"x\":[1,3,1,1,1,3,1,1,3,2,2,2,1,2],\"x0\":\" \",\"xaxis\":\"x\",\"y\":[1,3,1,1,1,2,1,1,4,2,2,2,1,2],\"y0\":\" \",\"yaxis\":\"y\",\"type\":\"box\"}],                        {\"template\":{\"data\":{\"histogram2dcontour\":[{\"type\":\"histogram2dcontour\",\"colorbar\":{\"outlinewidth\":0,\"ticks\":\"\"},\"colorscale\":[[0.0,\"#0d0887\"],[0.1111111111111111,\"#46039f\"],[0.2222222222222222,\"#7201a8\"],[0.3333333333333333,\"#9c179e\"],[0.4444444444444444,\"#bd3786\"],[0.5555555555555556,\"#d8576b\"],[0.6666666666666666,\"#ed7953\"],[0.7777777777777778,\"#fb9f3a\"],[0.8888888888888888,\"#fdca26\"],[1.0,\"#f0f921\"]]}],\"choropleth\":[{\"type\":\"choropleth\",\"colorbar\":{\"outlinewidth\":0,\"ticks\":\"\"}}],\"histogram2d\":[{\"type\":\"histogram2d\",\"colorbar\":{\"outlinewidth\":0,\"ticks\":\"\"},\"colorscale\":[[0.0,\"#0d0887\"],[0.1111111111111111,\"#46039f\"],[0.2222222222222222,\"#7201a8\"],[0.3333333333333333,\"#9c179e\"],[0.4444444444444444,\"#bd3786\"],[0.5555555555555556,\"#d8576b\"],[0.6666666666666666,\"#ed7953\"],[0.7777777777777778,\"#fb9f3a\"],[0.8888888888888888,\"#fdca26\"],[1.0,\"#f0f921\"]]}],\"heatmap\":[{\"type\":\"heatmap\",\"colorbar\":{\"outlinewidth\":0,\"ticks\":\"\"},\"colorscale\":[[0.0,\"#0d0887\"],[0.1111111111111111,\"#46039f\"],[0.2222222222222222,\"#7201a8\"],[0.3333333333333333,\"#9c179e\"],[0.4444444444444444,\"#bd3786\"],[0.5555555555555556,\"#d8576b\"],[0.6666666666666666,\"#ed7953\"],[0.7777777777777778,\"#fb9f3a\"],[0.8888888888888888,\"#fdca26\"],[1.0,\"#f0f921\"]]}],\"heatmapgl\":[{\"type\":\"heatmapgl\",\"colorbar\":{\"outlinewidth\":0,\"ticks\":\"\"},\"colorscale\":[[0.0,\"#0d0887\"],[0.1111111111111111,\"#46039f\"],[0.2222222222222222,\"#7201a8\"],[0.3333333333333333,\"#9c179e\"],[0.4444444444444444,\"#bd3786\"],[0.5555555555555556,\"#d8576b\"],[0.6666666666666666,\"#ed7953\"],[0.7777777777777778,\"#fb9f3a\"],[0.8888888888888888,\"#fdca26\"],[1.0,\"#f0f921\"]]}],\"contourcarpet\":[{\"type\":\"contourcarpet\",\"colorbar\":{\"outlinewidth\":0,\"ticks\":\"\"}}],\"contour\":[{\"type\":\"contour\",\"colorbar\":{\"outlinewidth\":0,\"ticks\":\"\"},\"colorscale\":[[0.0,\"#0d0887\"],[0.1111111111111111,\"#46039f\"],[0.2222222222222222,\"#7201a8\"],[0.3333333333333333,\"#9c179e\"],[0.4444444444444444,\"#bd3786\"],[0.5555555555555556,\"#d8576b\"],[0.6666666666666666,\"#ed7953\"],[0.7777777777777778,\"#fb9f3a\"],[0.8888888888888888,\"#fdca26\"],[1.0,\"#f0f921\"]]}],\"surface\":[{\"type\":\"surface\",\"colorbar\":{\"outlinewidth\":0,\"ticks\":\"\"},\"colorscale\":[[0.0,\"#0d0887\"],[0.1111111111111111,\"#46039f\"],[0.2222222222222222,\"#7201a8\"],[0.3333333333333333,\"#9c179e\"],[0.4444444444444444,\"#bd3786\"],[0.5555555555555556,\"#d8576b\"],[0.6666666666666666,\"#ed7953\"],[0.7777777777777778,\"#fb9f3a\"],[0.8888888888888888,\"#fdca26\"],[1.0,\"#f0f921\"]]}],\"mesh3d\":[{\"type\":\"mesh3d\",\"colorbar\":{\"outlinewidth\":0,\"ticks\":\"\"}}],\"scatter\":[{\"fillpattern\":{\"fillmode\":\"overlay\",\"size\":10,\"solidity\":0.2},\"type\":\"scatter\"}],\"parcoords\":[{\"type\":\"parcoords\",\"line\":{\"colorbar\":{\"outlinewidth\":0,\"ticks\":\"\"}}}],\"scatterpolargl\":[{\"type\":\"scatterpolargl\",\"marker\":{\"colorbar\":{\"outlinewidth\":0,\"ticks\":\"\"}}}],\"bar\":[{\"error_x\":{\"color\":\"#2a3f5f\"},\"error_y\":{\"color\":\"#2a3f5f\"},\"marker\":{\"line\":{\"color\":\"#E5ECF6\",\"width\":0.5},\"pattern\":{\"fillmode\":\"overlay\",\"size\":10,\"solidity\":0.2}},\"type\":\"bar\"}],\"scattergeo\":[{\"type\":\"scattergeo\",\"marker\":{\"colorbar\":{\"outlinewidth\":0,\"ticks\":\"\"}}}],\"scatterpolar\":[{\"type\":\"scatterpolar\",\"marker\":{\"colorbar\":{\"outlinewidth\":0,\"ticks\":\"\"}}}],\"histogram\":[{\"marker\":{\"pattern\":{\"fillmode\":\"overlay\",\"size\":10,\"solidity\":0.2}},\"type\":\"histogram\"}],\"scattergl\":[{\"type\":\"scattergl\",\"marker\":{\"colorbar\":{\"outlinewidth\":0,\"ticks\":\"\"}}}],\"scatter3d\":[{\"type\":\"scatter3d\",\"line\":{\"colorbar\":{\"outlinewidth\":0,\"ticks\":\"\"}},\"marker\":{\"colorbar\":{\"outlinewidth\":0,\"ticks\":\"\"}}}],\"scattermapbox\":[{\"type\":\"scattermapbox\",\"marker\":{\"colorbar\":{\"outlinewidth\":0,\"ticks\":\"\"}}}],\"scatterternary\":[{\"type\":\"scatterternary\",\"marker\":{\"colorbar\":{\"outlinewidth\":0,\"ticks\":\"\"}}}],\"scattercarpet\":[{\"type\":\"scattercarpet\",\"marker\":{\"colorbar\":{\"outlinewidth\":0,\"ticks\":\"\"}}}],\"carpet\":[{\"aaxis\":{\"endlinecolor\":\"#2a3f5f\",\"gridcolor\":\"white\",\"linecolor\":\"white\",\"minorgridcolor\":\"white\",\"startlinecolor\":\"#2a3f5f\"},\"baxis\":{\"endlinecolor\":\"#2a3f5f\",\"gridcolor\":\"white\",\"linecolor\":\"white\",\"minorgridcolor\":\"white\",\"startlinecolor\":\"#2a3f5f\"},\"type\":\"carpet\"}],\"table\":[{\"cells\":{\"fill\":{\"color\":\"#EBF0F8\"},\"line\":{\"color\":\"white\"}},\"header\":{\"fill\":{\"color\":\"#C8D4E3\"},\"line\":{\"color\":\"white\"}},\"type\":\"table\"}],\"barpolar\":[{\"marker\":{\"line\":{\"color\":\"#E5ECF6\",\"width\":0.5},\"pattern\":{\"fillmode\":\"overlay\",\"size\":10,\"solidity\":0.2}},\"type\":\"barpolar\"}],\"pie\":[{\"automargin\":true,\"type\":\"pie\"}]},\"layout\":{\"autotypenumbers\":\"strict\",\"colorway\":[\"#636efa\",\"#EF553B\",\"#00cc96\",\"#ab63fa\",\"#FFA15A\",\"#19d3f3\",\"#FF6692\",\"#B6E880\",\"#FF97FF\",\"#FECB52\"],\"font\":{\"color\":\"#2a3f5f\"},\"hovermode\":\"closest\",\"hoverlabel\":{\"align\":\"left\"},\"paper_bgcolor\":\"white\",\"plot_bgcolor\":\"#E5ECF6\",\"polar\":{\"bgcolor\":\"#E5ECF6\",\"angularaxis\":{\"gridcolor\":\"white\",\"linecolor\":\"white\",\"ticks\":\"\"},\"radialaxis\":{\"gridcolor\":\"white\",\"linecolor\":\"white\",\"ticks\":\"\"}},\"ternary\":{\"bgcolor\":\"#E5ECF6\",\"aaxis\":{\"gridcolor\":\"white\",\"linecolor\":\"white\",\"ticks\":\"\"},\"baxis\":{\"gridcolor\":\"white\",\"linecolor\":\"white\",\"ticks\":\"\"},\"caxis\":{\"gridcolor\":\"white\",\"linecolor\":\"white\",\"ticks\":\"\"}},\"coloraxis\":{\"colorbar\":{\"outlinewidth\":0,\"ticks\":\"\"}},\"colorscale\":{\"sequential\":[[0.0,\"#0d0887\"],[0.1111111111111111,\"#46039f\"],[0.2222222222222222,\"#7201a8\"],[0.3333333333333333,\"#9c179e\"],[0.4444444444444444,\"#bd3786\"],[0.5555555555555556,\"#d8576b\"],[0.6666666666666666,\"#ed7953\"],[0.7777777777777778,\"#fb9f3a\"],[0.8888888888888888,\"#fdca26\"],[1.0,\"#f0f921\"]],\"sequentialminus\":[[0.0,\"#0d0887\"],[0.1111111111111111,\"#46039f\"],[0.2222222222222222,\"#7201a8\"],[0.3333333333333333,\"#9c179e\"],[0.4444444444444444,\"#bd3786\"],[0.5555555555555556,\"#d8576b\"],[0.6666666666666666,\"#ed7953\"],[0.7777777777777778,\"#fb9f3a\"],[0.8888888888888888,\"#fdca26\"],[1.0,\"#f0f921\"]],\"diverging\":[[0,\"#8e0152\"],[0.1,\"#c51b7d\"],[0.2,\"#de77ae\"],[0.3,\"#f1b6da\"],[0.4,\"#fde0ef\"],[0.5,\"#f7f7f7\"],[0.6,\"#e6f5d0\"],[0.7,\"#b8e186\"],[0.8,\"#7fbc41\"],[0.9,\"#4d9221\"],[1,\"#276419\"]]},\"xaxis\":{\"gridcolor\":\"white\",\"linecolor\":\"white\",\"ticks\":\"\",\"title\":{\"standoff\":15},\"zerolinecolor\":\"white\",\"automargin\":true,\"zerolinewidth\":2},\"yaxis\":{\"gridcolor\":\"white\",\"linecolor\":\"white\",\"ticks\":\"\",\"title\":{\"standoff\":15},\"zerolinecolor\":\"white\",\"automargin\":true,\"zerolinewidth\":2},\"scene\":{\"xaxis\":{\"backgroundcolor\":\"#E5ECF6\",\"gridcolor\":\"white\",\"linecolor\":\"white\",\"showbackground\":true,\"ticks\":\"\",\"zerolinecolor\":\"white\",\"gridwidth\":2},\"yaxis\":{\"backgroundcolor\":\"#E5ECF6\",\"gridcolor\":\"white\",\"linecolor\":\"white\",\"showbackground\":true,\"ticks\":\"\",\"zerolinecolor\":\"white\",\"gridwidth\":2},\"zaxis\":{\"backgroundcolor\":\"#E5ECF6\",\"gridcolor\":\"white\",\"linecolor\":\"white\",\"showbackground\":true,\"ticks\":\"\",\"zerolinecolor\":\"white\",\"gridwidth\":2}},\"shapedefaults\":{\"line\":{\"color\":\"#2a3f5f\"}},\"annotationdefaults\":{\"arrowcolor\":\"#2a3f5f\",\"arrowhead\":0,\"arrowwidth\":1},\"geo\":{\"bgcolor\":\"white\",\"landcolor\":\"#E5ECF6\",\"subunitcolor\":\"white\",\"showland\":true,\"showlakes\":true,\"lakecolor\":\"white\"},\"title\":{\"x\":0.05},\"mapbox\":{\"style\":\"light\"}}},\"xaxis\":{\"anchor\":\"y\",\"domain\":[0.0,1.0],\"title\":{\"text\":\"CL\"}},\"yaxis\":{\"anchor\":\"x\",\"domain\":[0.0,1.0],\"title\":{\"text\":\"PR\"}},\"legend\":{\"title\":{\"text\":\"Region_Name\"},\"tracegroupgap\":0},\"margin\":{\"t\":60},\"boxmode\":\"group\"},                        {\"responsive\": true}                    ).then(function(){\n",
       "                            \n",
       "var gd = document.getElementById('e2fe7f5e-0227-4dce-9ef5-b0f6e84e8c88');\n",
       "var x = new MutationObserver(function (mutations, observer) {{\n",
       "        var display = window.getComputedStyle(gd).display;\n",
       "        if (!display || display === 'none') {{\n",
       "            console.log([gd, 'removed!']);\n",
       "            Plotly.purge(gd);\n",
       "            observer.disconnect();\n",
       "        }}\n",
       "}});\n",
       "\n",
       "// Listen for the removal of the full notebook cells\n",
       "var notebookContainer = gd.closest('#notebook-container');\n",
       "if (notebookContainer) {{\n",
       "    x.observe(notebookContainer, {childList: true});\n",
       "}}\n",
       "\n",
       "// Listen for the clearing of the current output cell\n",
       "var outputEl = gd.closest('.output');\n",
       "if (outputEl) {{\n",
       "    x.observe(outputEl, {childList: true});\n",
       "}}\n",
       "\n",
       "                        })                };                });            </script>        </div>"
      ]
     },
     "metadata": {},
     "output_type": "display_data"
    }
   ],
   "source": [
    "from plotly.express import strip\n",
    "strip(data_frame=df[df['year'] == 2020], x='CL', y='PR', hover_name='country', color='Region_Name')"
   ]
  },
  {
   "cell_type": "markdown",
   "id": "6e3ecb80",
   "metadata": {
    "papermill": {
     "duration": 0.004038,
     "end_time": "2023-10-24T20:22:49.745450",
     "exception": false,
     "start_time": "2023-10-24T20:22:49.741412",
     "status": "completed"
    },
    "tags": []
   },
   "source": [
    "The strip plot gives us a good sense of what things are like in the most recent year reported, but it doesn't capture behavior over time."
   ]
  },
  {
   "cell_type": "code",
   "execution_count": 5,
   "id": "cec79c9f",
   "metadata": {
    "execution": {
     "iopub.execute_input": "2023-10-24T20:22:49.757776Z",
     "iopub.status.busy": "2023-10-24T20:22:49.756130Z",
     "iopub.status.idle": "2023-10-24T20:22:53.170596Z",
     "shell.execute_reply": "2023-10-24T20:22:53.169404Z"
    },
    "papermill": {
     "duration": 3.423198,
     "end_time": "2023-10-24T20:22:53.173080",
     "exception": false,
     "start_time": "2023-10-24T20:22:49.749882",
     "status": "completed"
    },
    "tags": []
   },
   "outputs": [
    {
     "data": {
      "text/html": [
       "<div>                            <div id=\"a459b6f5-4956-46ce-871d-cf84f70d7694\" class=\"plotly-graph-div\" style=\"height:525px; width:100%;\"></div>            <script type=\"text/javascript\">                require([\"plotly\"], function(Plotly) {                    window.PLOTLYENV=window.PLOTLYENV || {};                                    if (document.getElementById(\"a459b6f5-4956-46ce-871d-cf84f70d7694\")) {                    Plotly.newPlot(                        \"a459b6f5-4956-46ce-871d-cf84f70d7694\",                        [{\"hovertemplate\":\"\\u003cb\\u003e%{hovertext}\\u003c\\u002fb\\u003e\\u003cbr\\u003e\\u003cbr\\u003eRegion_Name=Asia\\u003cbr\\u003eCL=%{x}\\u003cbr\\u003ePR=%{y}\\u003cextra\\u003e\\u003c\\u002fextra\\u003e\",\"hovertext\":[\"Afghanistan\",\"Armenia\",\"Azerbaijan\",\"Bahrain\",\"Bangladesh\",\"Bhutan\",\"Brunei Darussalam\",\"Cambodia\",\"China\",\"Cyprus\",\"Democratic People's Republic of Korea\",\"Georgia\",\"India\",\"Indonesia\",\"Iran (Islamic Republic of)\",\"Iraq\",\"Israel\",\"Japan\",\"Jordan\",\"Kazakhstan\",\"Kuwait\",\"Kyrgyzstan\",\"Lao People's Democratic Republic\",\"Lebanon\",\"Malaysia\",\"Maldives\",\"Mongolia\",\"Myanmar\",\"Nepal\",\"Oman\",\"Pakistan\",\"Philippines\",\"Qatar\",\"Republic of Korea\",\"Saudi Arabia\",\"Singapore\",\"Sri Lanka\",\"Syrian Arab Republic\",\"Tajikistan\",\"Thailand\",\"Timor-Leste\",\"Turkey\",\"Turkmenistan\",\"United Arab Emirates\",\"Uzbekistan\",\"Viet Nam\",\"Yemen\"],\"legendgroup\":\"Asia\",\"marker\":{\"color\":\"#636efa\",\"symbol\":\"circle\"},\"mode\":\"markers\",\"name\":\"Asia\",\"orientation\":\"v\",\"showlegend\":true,\"x\":[6.153846153846154,4.0,5.230769230769231,5.615384615384615,4.115384615384615,5.076923076923077,5.0,5.230769230769231,6.115384615384615,1.0,7.0,3.5384615384615383,3.1538461538461537,3.8461538461538463,6.115384615384615,6.1923076923076925,2.5,1.6923076923076923,4.653846153846154,5.0,4.846153846153846,4.653846153846154,6.0,4.3076923076923075,4.3076923076923075,4.846153846153846,2.269230769230769,6.384615384615385,4.076923076923077,5.1923076923076925,5.0,3.1153846153846154,5.346153846153846,2.0,6.769230769230769,4.269230769230769,4.0,6.8076923076923075,5.6923076923076925,3.8461538461538463,3.409090909090909,4.3076923076923075,7.0,5.5,6.538461538461538,5.615384615384615,5.653846153846154],\"xaxis\":\"x\",\"y\":[5.923076923076923,4.769230769230769,6.230769230769231,6.1923076923076925,3.576923076923077,4.923076923076923,6.269230769230769,6.115384615384615,7.0,1.0,7.0,3.4615384615384617,2.076923076923077,3.0,6.0,6.0,1.1153846153846154,1.0,5.115384615384615,6.1923076923076925,4.5,5.1923076923076925,7.0,5.423076923076923,4.230769230769231,5.038461538461538,1.6538461538461537,6.461538461538462,3.6923076923076925,6.0,4.8076923076923075,2.730769230769231,6.153846153846154,1.6538461538461537,7.0,4.576923076923077,3.6923076923076925,7.0,6.3076923076923075,4.230769230769231,3.1818181818181817,3.6538461538461537,7.0,6.153846153846154,7.0,7.0,5.769230769230769],\"yaxis\":\"y\",\"type\":\"scatter\"},{\"hovertemplate\":\"\\u003cb\\u003e%{hovertext}\\u003c\\u002fb\\u003e\\u003cbr\\u003e\\u003cbr\\u003eRegion_Name=Europe\\u003cbr\\u003eCL=%{x}\\u003cbr\\u003ePR=%{y}\\u003cextra\\u003e\\u003c\\u002fextra\\u003e\",\"hovertext\":[\"Albania\",\"Andorra\",\"Austria\",\"Belarus\",\"Belgium\",\"Bosnia and Herzegovina\",\"Bulgaria\",\"Croatia\",\"Czechia\",\"Denmark\",\"Estonia\",\"Finland\",\"France\",\"Germany\",\"Greece\",\"Hungary\",\"Iceland\",\"Ireland\",\"Italy\",\"Latvia\",\"Liechtenstein\",\"Lithuania\",\"Luxembourg\",\"Malta\",\"Monaco\",\"Montenegro\",\"Netherlands\",\"North Macedonia\",\"Norway\",\"Poland\",\"Portugal\",\"Republic of Moldova\",\"Romania\",\"Russian Federation\",\"San Marino\",\"Serbia\",\"Slovakia\",\"Slovenia\",\"Spain\",\"Sweden\",\"Switzerland\",\"Ukraine\",\"United Kingdom of Great Britain and Northern Ireland\"],\"legendgroup\":\"Europe\",\"marker\":{\"color\":\"#EF553B\",\"symbol\":\"circle\"},\"mode\":\"markers\",\"name\":\"Europe\",\"orientation\":\"v\",\"showlegend\":true,\"x\":[3.3846153846153846,1.0,1.0,5.961538461538462,1.2307692307692308,3.769230769230769,2.230769230769231,2.423076923076923,1.3461538461538463,1.0,1.3461538461538463,1.0,1.4615384615384615,1.2692307692307692,2.269230769230769,1.8461538461538463,1.0,1.0,1.3846153846153846,1.8076923076923077,1.0,1.4230769230769231,1.0,1.0,1.0,2.6,1.0,3.0384615384615383,1.0,1.5384615384615385,1.0,3.6538461538461537,2.076923076923077,5.115384615384615,1.0,2.1666666666666665,1.6153846153846154,1.2692307692307692,1.2692307692307692,1.0,1.0,3.230769230769231,1.2692307692307692],\"xaxis\":\"x\",\"y\":[3.1923076923076925,1.0,1.0,6.576923076923077,1.0,4.1923076923076925,1.7307692307692308,1.9230769230769231,1.0,1.0,1.0384615384615385,1.0,1.0,1.0,1.2692307692307692,1.4615384615384615,1.0,1.0,1.0384615384615385,1.5,1.1923076923076923,1.0384615384615385,1.0,1.1153846153846154,2.1923076923076925,3.1333333333333333,1.0,3.3846153846153846,1.0,1.1153846153846154,1.0,2.923076923076923,2.1153846153846154,5.538461538461538,1.0,2.7222222222222223,1.1538461538461537,1.0,1.0,1.0,1.0,3.3076923076923075,1.0],\"yaxis\":\"y\",\"type\":\"scatter\"},{\"hovertemplate\":\"\\u003cb\\u003e%{hovertext}\\u003c\\u002fb\\u003e\\u003cbr\\u003e\\u003cbr\\u003eRegion_Name=Africa\\u003cbr\\u003eCL=%{x}\\u003cbr\\u003ePR=%{y}\\u003cextra\\u003e\\u003c\\u002fextra\\u003e\",\"hovertext\":[\"Algeria\",\"Angola\",\"Benin\",\"Botswana\",\"Burkina Faso\",\"Burundi\",\"Cabo Verde\",\"Cameroon\",\"Central African Republic\",\"Chad\",\"Comoros\",\"Congo\",\"CÃƒÂ´te dÃ¢â‚¬â„¢Ivoire\",\"Democratic Republic of the Congo\",\"Djibouti\",\"Egypt\",\"Equatorial Guinea\",\"Eritrea\",\"Eswatini\",\"Ethiopia\",\"Gabon\",\"Gambia\",\"Ghana\",\"Guinea\",\"Guinea-Bissau\",\"Kenya\",\"Lesotho\",\"Liberia\",\"Libya\",\"Madagascar\",\"Malawi\",\"Mali\",\"Mauritania\",\"Mauritius\",\"Morocco\",\"Mozambique\",\"Namibia\",\"Niger\",\"Nigeria\",\"Rwanda\",\"Sao Tome and Principe\",\"Senegal\",\"Seychelles\",\"Sierra Leone\",\"Somalia\",\"South Africa\",\"South Sudan\",\"Sudan\",\"Togo\",\"Tunisia\",\"Uganda\",\"United Republic of Tanzania\",\"Zambia\",\"Zimbabwe\"],\"legendgroup\":\"Africa\",\"marker\":{\"color\":\"#00cc96\",\"symbol\":\"circle\"},\"mode\":\"markers\",\"name\":\"Africa\",\"orientation\":\"v\",\"showlegend\":true,\"x\":[5.115384615384615,5.384615384615385,2.0384615384615383,2.0,3.4615384615384617,5.615384615384615,1.3076923076923077,5.846153846153846,5.384615384615385,5.538461538461538,4.0,4.730769230769231,4.8076923076923075,6.0,5.1923076923076925,5.423076923076923,6.730769230769231,6.076923076923077,5.038461538461538,5.384615384615385,4.461538461538462,4.961538461538462,2.3846153846153846,5.0,4.423076923076923,4.076923076923077,3.269230769230769,4.5,6.538461538461538,3.730769230769231,3.4615384615384617,3.269230769230769,5.0,1.9230769230769231,4.384615384615385,3.6923076923076925,2.3846153846153846,4.076923076923077,4.576923076923077,5.576923076923077,2.0,3.1153846153846154,3.0,3.6538461538461537,7.0,2.0,6.3,6.923076923076923,4.538461538461538,4.3076923076923075,4.346153846153846,3.730769230769231,3.9615384615384617,5.538461538461538],\"xaxis\":\"x\",\"y\":[6.0,6.0,2.230769230769231,2.4615384615384617,4.615384615384615,5.6923076923076925,1.0,6.230769230769231,5.269230769230769,6.538461538461538,4.0,5.961538461538462,5.538461538461538,6.346153846153846,5.346153846153846,5.961538461538462,6.961538461538462,6.846153846153846,6.6923076923076925,5.384615384615385,5.769230769230769,5.461538461538462,1.6923076923076923,5.653846153846154,4.269230769230769,4.461538461538462,2.8846153846153846,3.9615384615384617,6.6923076923076925,3.423076923076923,3.1153846153846154,3.230769230769231,5.730769230769231,1.0,5.0,3.5384615384615383,2.0384615384615383,4.038461538461538,4.384615384615385,6.3076923076923075,1.6923076923076923,2.6923076923076925,2.9615384615384617,3.576923076923077,6.769230769230769,1.5769230769230769,6.7,7.0,5.153846153846154,4.615384615384615,5.3076923076923075,3.9615384615384617,3.8076923076923075,5.8076923076923075],\"yaxis\":\"y\",\"type\":\"scatter\"},{\"hovertemplate\":\"\\u003cb\\u003e%{hovertext}\\u003c\\u002fb\\u003e\\u003cbr\\u003e\\u003cbr\\u003eRegion_Name=Americas\\u003cbr\\u003eCL=%{x}\\u003cbr\\u003ePR=%{y}\\u003cextra\\u003e\\u003c\\u002fextra\\u003e\",\"hovertext\":[\"Antigua and Barbuda\",\"Argentina\",\"Bahamas\",\"Barbados\",\"Belize\",\"Bolivia (Plurinational State of)\",\"Brazil\",\"Canada\",\"Chile\",\"Colombia\",\"Costa Rica\",\"Cuba\",\"Dominica\",\"Dominican Republic\",\"Ecuador\",\"El Salvador\",\"Grenada\",\"Guatemala\",\"Guyana\",\"Haiti\",\"Honduras\",\"Jamaica\",\"Mexico\",\"Nicaragua\",\"Panama\",\"Paraguay\",\"Peru\",\"Saint Kitts and Nevis\",\"Saint Lucia\",\"Saint Vincent and the Grenadines\",\"Suriname\",\"Trinidad and Tobago\",\"United States of America\",\"Uruguay\",\"Venezuela (Bolivarian Republic of)\"],\"legendgroup\":\"Americas\",\"marker\":{\"color\":\"#ab63fa\",\"symbol\":\"circle\"},\"mode\":\"markers\",\"name\":\"Americas\",\"orientation\":\"v\",\"showlegend\":true,\"x\":[2.1923076923076925,2.269230769230769,1.1538461538461537,1.0,1.7307692307692308,3.0384615384615383,2.6153846153846154,1.0,1.3076923076923077,3.6923076923076925,1.3461538461538463,6.5,1.0,2.5,3.076923076923077,3.076923076923077,2.0,4.038461538461538,2.6153846153846154,5.1923076923076925,3.5,2.769230769230769,3.0384615384615383,3.5,2.1538461538461537,3.0,3.1923076923076925,1.3846153846153846,1.3846153846153846,1.0,2.3461538461538463,2.1538461538461537,1.0384615384615385,1.1923076923076923,4.461538461538462],\"xaxis\":\"x\",\"y\":[2.8076923076923075,2.076923076923077,1.0,1.0,1.0769230769230769,2.5,2.1923076923076925,1.0,1.3461538461538463,3.3461538461538463,1.0,7.0,1.0,2.423076923076923,2.8461538461538463,2.076923076923077,1.0,3.5,2.0384615384615383,4.923076923076923,3.3846153846153846,2.0,2.6923076923076925,3.8846153846153846,1.3846153846153846,3.3076923076923075,2.576923076923077,1.0769230769230769,1.0,1.5769230769230769,2.0,2.0,1.1538461538461537,1.0384615384615385,4.3076923076923075],\"yaxis\":\"y\",\"type\":\"scatter\"},{\"hovertemplate\":\"\\u003cb\\u003e%{hovertext}\\u003c\\u002fb\\u003e\\u003cbr\\u003e\\u003cbr\\u003eRegion_Name=Oceania\\u003cbr\\u003eCL=%{x}\\u003cbr\\u003ePR=%{y}\\u003cextra\\u003e\\u003c\\u002fextra\\u003e\",\"hovertext\":[\"Australia\",\"Fiji\",\"Kiribati\",\"Marshall Islands\",\"Micronesia (Federated States of)\",\"Nauru\",\"New Zealand\",\"Palau\",\"Papua New Guinea\",\"Samoa\",\"Solomon Islands\",\"Tonga\",\"Tuvalu\",\"Vanuatu\"],\"legendgroup\":\"Oceania\",\"marker\":{\"color\":\"#FFA15A\",\"symbol\":\"circle\"},\"mode\":\"markers\",\"name\":\"Oceania\",\"orientation\":\"v\",\"showlegend\":true,\"x\":[1.0,3.3846153846153846,1.0,1.0,1.2307692307692308,1.9230769230769231,1.0,1.3076923076923077,3.1153846153846154,2.0384615384615383,2.6923076923076925,2.6538461538461537,1.0,2.269230769230769],\"xaxis\":\"x\",\"y\":[1.0,4.346153846153846,1.0,1.0,1.0,1.2307692307692308,1.0,1.0,3.076923076923077,2.0,2.8846153846153846,3.8461538461538463,1.0,1.6923076923076923],\"yaxis\":\"y\",\"type\":\"scatter\"},{\"hovertemplate\":\"\\u003cb\\u003eLOWESS trendline\\u003c\\u002fb\\u003e\\u003cbr\\u003e\\u003cbr\\u003eCL=%{x}\\u003cbr\\u003ePR=%{y} \\u003cb\\u003e(trend)\\u003c\\u002fb\\u003e\\u003cextra\\u003e\\u003c\\u002fextra\\u003e\",\"legendgroup\":\"Overall Trendline\",\"line\":{\"color\":\"#19d3f3\"},\"mode\":\"lines\",\"name\":\"Overall Trendline\",\"showlegend\":true,\"x\":[1.0,1.0,1.0,1.0,1.0,1.0,1.0,1.0,1.0,1.0,1.0,1.0,1.0,1.0,1.0,1.0,1.0,1.0,1.0,1.0,1.0,1.0,1.0,1.0,1.0,1.0,1.0384615384615385,1.1538461538461537,1.1923076923076923,1.2307692307692308,1.2307692307692308,1.2692307692307692,1.2692307692307692,1.2692307692307692,1.2692307692307692,1.3076923076923077,1.3076923076923077,1.3076923076923077,1.3461538461538463,1.3461538461538463,1.3461538461538463,1.3846153846153846,1.3846153846153846,1.3846153846153846,1.4230769230769231,1.4615384615384615,1.5384615384615385,1.6153846153846154,1.6923076923076923,1.7307692307692308,1.8076923076923077,1.8461538461538463,1.9230769230769231,1.9230769230769231,2.0,2.0,2.0,2.0,2.0,2.0384615384615383,2.0384615384615383,2.076923076923077,2.1538461538461537,2.1538461538461537,2.1666666666666665,2.1923076923076925,2.230769230769231,2.269230769230769,2.269230769230769,2.269230769230769,2.269230769230769,2.3461538461538463,2.3846153846153846,2.3846153846153846,2.423076923076923,2.5,2.5,2.6,2.6153846153846154,2.6153846153846154,2.6538461538461537,2.6923076923076925,2.769230769230769,3.0,3.0,3.0384615384615383,3.0384615384615383,3.0384615384615383,3.076923076923077,3.076923076923077,3.1153846153846154,3.1153846153846154,3.1153846153846154,3.1538461538461537,3.1923076923076925,3.230769230769231,3.269230769230769,3.269230769230769,3.3846153846153846,3.3846153846153846,3.409090909090909,3.4615384615384617,3.4615384615384617,3.5,3.5,3.5384615384615383,3.6538461538461537,3.6538461538461537,3.6923076923076925,3.6923076923076925,3.730769230769231,3.730769230769231,3.769230769230769,3.8461538461538463,3.8461538461538463,3.9615384615384617,4.0,4.0,4.0,4.038461538461538,4.076923076923077,4.076923076923077,4.076923076923077,4.115384615384615,4.269230769230769,4.3076923076923075,4.3076923076923075,4.3076923076923075,4.3076923076923075,4.346153846153846,4.384615384615385,4.423076923076923,4.461538461538462,4.461538461538462,4.5,4.538461538461538,4.576923076923077,4.653846153846154,4.653846153846154,4.730769230769231,4.8076923076923075,4.846153846153846,4.846153846153846,4.961538461538462,5.0,5.0,5.0,5.0,5.0,5.038461538461538,5.076923076923077,5.115384615384615,5.115384615384615,5.1923076923076925,5.1923076923076925,5.1923076923076925,5.230769230769231,5.230769230769231,5.346153846153846,5.384615384615385,5.384615384615385,5.384615384615385,5.423076923076923,5.5,5.538461538461538,5.538461538461538,5.576923076923077,5.615384615384615,5.615384615384615,5.615384615384615,5.653846153846154,5.6923076923076925,5.846153846153846,5.961538461538462,6.0,6.0,6.076923076923077,6.115384615384615,6.115384615384615,6.153846153846154,6.1923076923076925,6.3,6.384615384615385,6.5,6.538461538461538,6.538461538461538,6.730769230769231,6.769230769230769,6.8076923076923075,6.923076923076923,7.0,7.0,7.0],\"y\":[0.888897273666145,0.888897273666145,0.888897273666145,0.888897273666145,0.888897273666145,0.888897273666145,0.888897273666145,0.888897273666145,0.888897273666145,0.888897273666145,0.888897273666145,0.888897273666145,0.888897273666145,0.888897273666145,0.888897273666145,0.888897273666145,0.888897273666145,0.888897273666145,0.888897273666145,0.888897273666145,0.888897273666145,0.888897273666145,0.888897273666145,0.888897273666145,0.888897273666145,0.888897273666145,0.9219580015677588,1.0217415476539815,1.0551946250751891,1.0887389288620852,1.0887389288620852,1.1223714098876156,1.1223714098876156,1.1223714098876156,1.1223714098876156,1.1560890741927796,1.1560890741927796,1.1560890741927796,1.1898892008122228,1.1898892008122228,1.1898892008122228,1.2237691958635282,1.2237691958635282,1.2237691958635282,1.2577268578274743,1.2917604414354196,1.3600494952158637,1.4286256311754515,1.4974790818628925,1.5320069982172435,1.6012613583117636,1.6359868910912618,1.7056318258064767,1.7056318258064767,1.7755304298065233,1.7755304298065233,1.7755304298065233,1.7755304298065233,1.7755304298065233,1.810573387074681,1.810573387074681,1.8456772161135049,1.916049646638255,1.916049646638255,1.927796314987998,1.9513011595283938,1.9865775090086695,2.021856235867452,2.021856235867452,2.021856235867452,2.021856235867452,2.0923012291234016,2.1273995139015383,2.1273995139015383,2.162378274363638,2.2321488421579496,2.2321488421579496,2.326348907463237,2.3419211278176237,2.3419211278176237,2.382387631422374,2.4267712219841644,2.5161935922617555,2.7916157966697064,2.7916157966697064,2.8385431735105486,2.8385431735105486,2.8385431735105486,2.8858251139597133,2.8858251139597133,2.9314122766554314,2.9314122766554314,2.9314122766554314,2.975405141799597,3.0199330774999624,3.0665580876023215,3.1152138387097916,3.1152138387097916,3.259392120543532,3.259392120543532,3.291044682699193,3.357210118569029,3.357210118569029,3.405394337842778,3.405394337842778,3.4555710812590132,3.602791370914274,3.602791370914274,3.6530099906936364,3.6530099906936364,3.70161716475945,3.70161716475945,3.750275392082745,3.8450595627542614,3.8450595627542614,3.9926695929166454,4.042124315108876,4.042124315108876,4.042124315108876,4.0911035846592805,4.1413808964377194,4.1413808964377194,4.1413808964377194,4.191337353919281,4.388842084588228,4.437389715936712,4.437389715936712,4.437389715936712,4.437389715936712,4.485527632355484,4.534167030255316,4.581667128921727,4.629929637639416,4.629929637639416,4.676754593450915,4.7259667065963775,4.7721964275529825,4.86502435687989,4.86502435687989,4.954149627930025,5.04138379900552,5.084486954949696,5.084486954949696,5.212548795331463,5.2549815732318566,5.2549815732318566,5.2549815732318566,5.2549815732318566,5.2549815732318566,5.297342750451599,5.339653230072461,5.381928473783479,5.381928473783479,5.466416033957273,5.466416033957273,5.466416033957273,5.508642056948746,5.508642056948746,5.635289764492438,5.677498615872988,5.677498615872988,5.677498615872988,5.719703505395696,5.804097625418545,5.8462841408381765,5.8462841408381765,5.888461244066449,5.930626631229901,5.930626631229901,5.930626631229901,5.972777660019827,6.0149115142424465,6.183220122297236,6.309138285059841,6.351037818647756,6.351037818647756,6.434711735903979,6.476480537203569,6.476480537203569,6.51820004611753,6.559867451384007,6.67624026407308,6.767350170648768,6.891095747366936,6.932212047400212,6.932212047400212,7.136753423649152,7.177447381443939,7.218068207548438,7.3394893144160696,7.4200684874155565,7.4200684874155565,7.4200684874155565],\"type\":\"scatter\",\"xaxis\":\"x\",\"yaxis\":\"y\"}],                        {\"template\":{\"data\":{\"histogram2dcontour\":[{\"type\":\"histogram2dcontour\",\"colorbar\":{\"outlinewidth\":0,\"ticks\":\"\"},\"colorscale\":[[0.0,\"#0d0887\"],[0.1111111111111111,\"#46039f\"],[0.2222222222222222,\"#7201a8\"],[0.3333333333333333,\"#9c179e\"],[0.4444444444444444,\"#bd3786\"],[0.5555555555555556,\"#d8576b\"],[0.6666666666666666,\"#ed7953\"],[0.7777777777777778,\"#fb9f3a\"],[0.8888888888888888,\"#fdca26\"],[1.0,\"#f0f921\"]]}],\"choropleth\":[{\"type\":\"choropleth\",\"colorbar\":{\"outlinewidth\":0,\"ticks\":\"\"}}],\"histogram2d\":[{\"type\":\"histogram2d\",\"colorbar\":{\"outlinewidth\":0,\"ticks\":\"\"},\"colorscale\":[[0.0,\"#0d0887\"],[0.1111111111111111,\"#46039f\"],[0.2222222222222222,\"#7201a8\"],[0.3333333333333333,\"#9c179e\"],[0.4444444444444444,\"#bd3786\"],[0.5555555555555556,\"#d8576b\"],[0.6666666666666666,\"#ed7953\"],[0.7777777777777778,\"#fb9f3a\"],[0.8888888888888888,\"#fdca26\"],[1.0,\"#f0f921\"]]}],\"heatmap\":[{\"type\":\"heatmap\",\"colorbar\":{\"outlinewidth\":0,\"ticks\":\"\"},\"colorscale\":[[0.0,\"#0d0887\"],[0.1111111111111111,\"#46039f\"],[0.2222222222222222,\"#7201a8\"],[0.3333333333333333,\"#9c179e\"],[0.4444444444444444,\"#bd3786\"],[0.5555555555555556,\"#d8576b\"],[0.6666666666666666,\"#ed7953\"],[0.7777777777777778,\"#fb9f3a\"],[0.8888888888888888,\"#fdca26\"],[1.0,\"#f0f921\"]]}],\"heatmapgl\":[{\"type\":\"heatmapgl\",\"colorbar\":{\"outlinewidth\":0,\"ticks\":\"\"},\"colorscale\":[[0.0,\"#0d0887\"],[0.1111111111111111,\"#46039f\"],[0.2222222222222222,\"#7201a8\"],[0.3333333333333333,\"#9c179e\"],[0.4444444444444444,\"#bd3786\"],[0.5555555555555556,\"#d8576b\"],[0.6666666666666666,\"#ed7953\"],[0.7777777777777778,\"#fb9f3a\"],[0.8888888888888888,\"#fdca26\"],[1.0,\"#f0f921\"]]}],\"contourcarpet\":[{\"type\":\"contourcarpet\",\"colorbar\":{\"outlinewidth\":0,\"ticks\":\"\"}}],\"contour\":[{\"type\":\"contour\",\"colorbar\":{\"outlinewidth\":0,\"ticks\":\"\"},\"colorscale\":[[0.0,\"#0d0887\"],[0.1111111111111111,\"#46039f\"],[0.2222222222222222,\"#7201a8\"],[0.3333333333333333,\"#9c179e\"],[0.4444444444444444,\"#bd3786\"],[0.5555555555555556,\"#d8576b\"],[0.6666666666666666,\"#ed7953\"],[0.7777777777777778,\"#fb9f3a\"],[0.8888888888888888,\"#fdca26\"],[1.0,\"#f0f921\"]]}],\"surface\":[{\"type\":\"surface\",\"colorbar\":{\"outlinewidth\":0,\"ticks\":\"\"},\"colorscale\":[[0.0,\"#0d0887\"],[0.1111111111111111,\"#46039f\"],[0.2222222222222222,\"#7201a8\"],[0.3333333333333333,\"#9c179e\"],[0.4444444444444444,\"#bd3786\"],[0.5555555555555556,\"#d8576b\"],[0.6666666666666666,\"#ed7953\"],[0.7777777777777778,\"#fb9f3a\"],[0.8888888888888888,\"#fdca26\"],[1.0,\"#f0f921\"]]}],\"mesh3d\":[{\"type\":\"mesh3d\",\"colorbar\":{\"outlinewidth\":0,\"ticks\":\"\"}}],\"scatter\":[{\"fillpattern\":{\"fillmode\":\"overlay\",\"size\":10,\"solidity\":0.2},\"type\":\"scatter\"}],\"parcoords\":[{\"type\":\"parcoords\",\"line\":{\"colorbar\":{\"outlinewidth\":0,\"ticks\":\"\"}}}],\"scatterpolargl\":[{\"type\":\"scatterpolargl\",\"marker\":{\"colorbar\":{\"outlinewidth\":0,\"ticks\":\"\"}}}],\"bar\":[{\"error_x\":{\"color\":\"#2a3f5f\"},\"error_y\":{\"color\":\"#2a3f5f\"},\"marker\":{\"line\":{\"color\":\"#E5ECF6\",\"width\":0.5},\"pattern\":{\"fillmode\":\"overlay\",\"size\":10,\"solidity\":0.2}},\"type\":\"bar\"}],\"scattergeo\":[{\"type\":\"scattergeo\",\"marker\":{\"colorbar\":{\"outlinewidth\":0,\"ticks\":\"\"}}}],\"scatterpolar\":[{\"type\":\"scatterpolar\",\"marker\":{\"colorbar\":{\"outlinewidth\":0,\"ticks\":\"\"}}}],\"histogram\":[{\"marker\":{\"pattern\":{\"fillmode\":\"overlay\",\"size\":10,\"solidity\":0.2}},\"type\":\"histogram\"}],\"scattergl\":[{\"type\":\"scattergl\",\"marker\":{\"colorbar\":{\"outlinewidth\":0,\"ticks\":\"\"}}}],\"scatter3d\":[{\"type\":\"scatter3d\",\"line\":{\"colorbar\":{\"outlinewidth\":0,\"ticks\":\"\"}},\"marker\":{\"colorbar\":{\"outlinewidth\":0,\"ticks\":\"\"}}}],\"scattermapbox\":[{\"type\":\"scattermapbox\",\"marker\":{\"colorbar\":{\"outlinewidth\":0,\"ticks\":\"\"}}}],\"scatterternary\":[{\"type\":\"scatterternary\",\"marker\":{\"colorbar\":{\"outlinewidth\":0,\"ticks\":\"\"}}}],\"scattercarpet\":[{\"type\":\"scattercarpet\",\"marker\":{\"colorbar\":{\"outlinewidth\":0,\"ticks\":\"\"}}}],\"carpet\":[{\"aaxis\":{\"endlinecolor\":\"#2a3f5f\",\"gridcolor\":\"white\",\"linecolor\":\"white\",\"minorgridcolor\":\"white\",\"startlinecolor\":\"#2a3f5f\"},\"baxis\":{\"endlinecolor\":\"#2a3f5f\",\"gridcolor\":\"white\",\"linecolor\":\"white\",\"minorgridcolor\":\"white\",\"startlinecolor\":\"#2a3f5f\"},\"type\":\"carpet\"}],\"table\":[{\"cells\":{\"fill\":{\"color\":\"#EBF0F8\"},\"line\":{\"color\":\"white\"}},\"header\":{\"fill\":{\"color\":\"#C8D4E3\"},\"line\":{\"color\":\"white\"}},\"type\":\"table\"}],\"barpolar\":[{\"marker\":{\"line\":{\"color\":\"#E5ECF6\",\"width\":0.5},\"pattern\":{\"fillmode\":\"overlay\",\"size\":10,\"solidity\":0.2}},\"type\":\"barpolar\"}],\"pie\":[{\"automargin\":true,\"type\":\"pie\"}]},\"layout\":{\"autotypenumbers\":\"strict\",\"colorway\":[\"#636efa\",\"#EF553B\",\"#00cc96\",\"#ab63fa\",\"#FFA15A\",\"#19d3f3\",\"#FF6692\",\"#B6E880\",\"#FF97FF\",\"#FECB52\"],\"font\":{\"color\":\"#2a3f5f\"},\"hovermode\":\"closest\",\"hoverlabel\":{\"align\":\"left\"},\"paper_bgcolor\":\"white\",\"plot_bgcolor\":\"#E5ECF6\",\"polar\":{\"bgcolor\":\"#E5ECF6\",\"angularaxis\":{\"gridcolor\":\"white\",\"linecolor\":\"white\",\"ticks\":\"\"},\"radialaxis\":{\"gridcolor\":\"white\",\"linecolor\":\"white\",\"ticks\":\"\"}},\"ternary\":{\"bgcolor\":\"#E5ECF6\",\"aaxis\":{\"gridcolor\":\"white\",\"linecolor\":\"white\",\"ticks\":\"\"},\"baxis\":{\"gridcolor\":\"white\",\"linecolor\":\"white\",\"ticks\":\"\"},\"caxis\":{\"gridcolor\":\"white\",\"linecolor\":\"white\",\"ticks\":\"\"}},\"coloraxis\":{\"colorbar\":{\"outlinewidth\":0,\"ticks\":\"\"}},\"colorscale\":{\"sequential\":[[0.0,\"#0d0887\"],[0.1111111111111111,\"#46039f\"],[0.2222222222222222,\"#7201a8\"],[0.3333333333333333,\"#9c179e\"],[0.4444444444444444,\"#bd3786\"],[0.5555555555555556,\"#d8576b\"],[0.6666666666666666,\"#ed7953\"],[0.7777777777777778,\"#fb9f3a\"],[0.8888888888888888,\"#fdca26\"],[1.0,\"#f0f921\"]],\"sequentialminus\":[[0.0,\"#0d0887\"],[0.1111111111111111,\"#46039f\"],[0.2222222222222222,\"#7201a8\"],[0.3333333333333333,\"#9c179e\"],[0.4444444444444444,\"#bd3786\"],[0.5555555555555556,\"#d8576b\"],[0.6666666666666666,\"#ed7953\"],[0.7777777777777778,\"#fb9f3a\"],[0.8888888888888888,\"#fdca26\"],[1.0,\"#f0f921\"]],\"diverging\":[[0,\"#8e0152\"],[0.1,\"#c51b7d\"],[0.2,\"#de77ae\"],[0.3,\"#f1b6da\"],[0.4,\"#fde0ef\"],[0.5,\"#f7f7f7\"],[0.6,\"#e6f5d0\"],[0.7,\"#b8e186\"],[0.8,\"#7fbc41\"],[0.9,\"#4d9221\"],[1,\"#276419\"]]},\"xaxis\":{\"gridcolor\":\"white\",\"linecolor\":\"white\",\"ticks\":\"\",\"title\":{\"standoff\":15},\"zerolinecolor\":\"white\",\"automargin\":true,\"zerolinewidth\":2},\"yaxis\":{\"gridcolor\":\"white\",\"linecolor\":\"white\",\"ticks\":\"\",\"title\":{\"standoff\":15},\"zerolinecolor\":\"white\",\"automargin\":true,\"zerolinewidth\":2},\"scene\":{\"xaxis\":{\"backgroundcolor\":\"#E5ECF6\",\"gridcolor\":\"white\",\"linecolor\":\"white\",\"showbackground\":true,\"ticks\":\"\",\"zerolinecolor\":\"white\",\"gridwidth\":2},\"yaxis\":{\"backgroundcolor\":\"#E5ECF6\",\"gridcolor\":\"white\",\"linecolor\":\"white\",\"showbackground\":true,\"ticks\":\"\",\"zerolinecolor\":\"white\",\"gridwidth\":2},\"zaxis\":{\"backgroundcolor\":\"#E5ECF6\",\"gridcolor\":\"white\",\"linecolor\":\"white\",\"showbackground\":true,\"ticks\":\"\",\"zerolinecolor\":\"white\",\"gridwidth\":2}},\"shapedefaults\":{\"line\":{\"color\":\"#2a3f5f\"}},\"annotationdefaults\":{\"arrowcolor\":\"#2a3f5f\",\"arrowhead\":0,\"arrowwidth\":1},\"geo\":{\"bgcolor\":\"white\",\"landcolor\":\"#E5ECF6\",\"subunitcolor\":\"white\",\"showland\":true,\"showlakes\":true,\"lakecolor\":\"white\"},\"title\":{\"x\":0.05},\"mapbox\":{\"style\":\"light\"}}},\"xaxis\":{\"anchor\":\"y\",\"domain\":[0.0,1.0],\"title\":{\"text\":\"CL\"}},\"yaxis\":{\"anchor\":\"x\",\"domain\":[0.0,1.0],\"title\":{\"text\":\"PR\"}},\"legend\":{\"title\":{\"text\":\"Region_Name\"},\"tracegroupgap\":0},\"margin\":{\"t\":60}},                        {\"responsive\": true}                    ).then(function(){\n",
       "                            \n",
       "var gd = document.getElementById('a459b6f5-4956-46ce-871d-cf84f70d7694');\n",
       "var x = new MutationObserver(function (mutations, observer) {{\n",
       "        var display = window.getComputedStyle(gd).display;\n",
       "        if (!display || display === 'none') {{\n",
       "            console.log([gd, 'removed!']);\n",
       "            Plotly.purge(gd);\n",
       "            observer.disconnect();\n",
       "        }}\n",
       "}});\n",
       "\n",
       "// Listen for the removal of the full notebook cells\n",
       "var notebookContainer = gd.closest('#notebook-container');\n",
       "if (notebookContainer) {{\n",
       "    x.observe(notebookContainer, {childList: true});\n",
       "}}\n",
       "\n",
       "// Listen for the clearing of the current output cell\n",
       "var outputEl = gd.closest('.output');\n",
       "if (outputEl) {{\n",
       "    x.observe(outputEl, {childList: true});\n",
       "}}\n",
       "\n",
       "                        })                };                });            </script>        </div>"
      ]
     },
     "metadata": {},
     "output_type": "display_data"
    }
   ],
   "source": [
    "from plotly.express import scatter\n",
    "mean_df = df[['country', 'CL', 'PR']].groupby(by='country').mean().reset_index().merge(right=df[['country', 'Region_Name']].drop_duplicates(ignore_index=True), on='country', how='inner')\n",
    "scatter(data_frame=mean_df, x='CL', y='PR', hover_name='country', color='Region_Name', trendline='lowess', trendline_scope='overall')"
   ]
  },
  {
   "cell_type": "markdown",
   "id": "d3c79f3f",
   "metadata": {
    "papermill": {
     "duration": 0.004393,
     "end_time": "2023-10-24T20:22:53.182484",
     "exception": false,
     "start_time": "2023-10-24T20:22:53.178091",
     "status": "completed"
    },
    "tags": []
   },
   "source": [
    "Taking the mean over the time series compresses changes over time. It also shows how the two measures tend to be highly correlated."
   ]
  },
  {
   "cell_type": "code",
   "execution_count": 6,
   "id": "ac965688",
   "metadata": {
    "execution": {
     "iopub.execute_input": "2023-10-24T20:22:53.194971Z",
     "iopub.status.busy": "2023-10-24T20:22:53.193474Z",
     "iopub.status.idle": "2023-10-24T20:22:53.285569Z",
     "shell.execute_reply": "2023-10-24T20:22:53.284197Z"
    },
    "papermill": {
     "duration": 0.101182,
     "end_time": "2023-10-24T20:22:53.288351",
     "exception": false,
     "start_time": "2023-10-24T20:22:53.187169",
     "status": "completed"
    },
    "tags": []
   },
   "outputs": [
    {
     "data": {
      "text/html": [
       "<div>                            <div id=\"386491e6-a3cc-486f-80ff-7bd7a46b7e0a\" class=\"plotly-graph-div\" style=\"height:525px; width:100%;\"></div>            <script type=\"text/javascript\">                require([\"plotly\"], function(Plotly) {                    window.PLOTLYENV=window.PLOTLYENV || {};                                    if (document.getElementById(\"386491e6-a3cc-486f-80ff-7bd7a46b7e0a\")) {                    Plotly.newPlot(                        \"386491e6-a3cc-486f-80ff-7bd7a46b7e0a\",                        [{\"hovertemplate\":\"\\u003cb\\u003e%{hovertext}\\u003c\\u002fb\\u003e\\u003cbr\\u003e\\u003cbr\\u003eStatus=NF\\u003cbr\\u003eCL=%{x}\\u003cbr\\u003ePR=%{y}\\u003cextra\\u003e\\u003c\\u002fextra\\u003e\",\"hovertext\":[\"Afghanistan\",\"Algeria\",\"Angola\",\"Azerbaijan\",\"Bahrain\",\"Belarus\",\"Bhutan\",\"Bosnia and Herzegovina\",\"Brunei Darussalam\",\"Burundi\",\"Cambodia\",\"Cameroon\",\"Central African Republic\",\"Chad\",\"China\",\"Congo\",\"Cuba\",\"CÃƒÂ´te dÃ¢â‚¬â„¢Ivoire\",\"Democratic People's Republic of Korea\",\"Democratic Republic of the Congo\",\"Djibouti\",\"Egypt\",\"Equatorial Guinea\",\"Eritrea\",\"Eswatini\",\"Ethiopia\",\"Gabon\",\"Gambia\",\"Guinea\",\"Guinea-Bissau\",\"Haiti\",\"Indonesia\",\"Iran (Islamic Republic of)\",\"Iraq\",\"Jordan\",\"Kazakhstan\",\"Kenya\",\"Kyrgyzstan\",\"Lao People's Democratic Republic\",\"Lebanon\",\"Liberia\",\"Libya\",\"Maldives\",\"Mali\",\"Mauritania\",\"Myanmar\",\"Nepal\",\"Nicaragua\",\"Niger\",\"Nigeria\",\"Oman\",\"Pakistan\",\"Qatar\",\"Russian Federation\",\"Rwanda\",\"Saudi Arabia\",\"Sierra Leone\",\"Somalia\",\"South Sudan\",\"Sudan\",\"Syrian Arab Republic\",\"Tajikistan\",\"Thailand\",\"Togo\",\"Tunisia\",\"Turkey\",\"Turkmenistan\",\"Uganda\",\"United Arab Emirates\",\"Uzbekistan\",\"Venezuela (Bolivarian Republic of)\",\"Viet Nam\",\"Yemen\",\"Zimbabwe\"],\"legendgroup\":\"NF\",\"marker\":{\"color\":\"#636efa\",\"symbol\":\"circle\"},\"mode\":\"markers\",\"name\":\"NF\",\"orientation\":\"v\",\"showlegend\":true,\"x\":[6.153846153846154,5.115384615384615,5.384615384615385,5.230769230769231,5.615384615384615,5.961538461538462,5.076923076923077,3.769230769230769,5.0,5.615384615384615,5.230769230769231,5.846153846153846,5.384615384615385,5.538461538461538,6.115384615384615,4.730769230769231,6.5,4.8076923076923075,7.0,6.0,5.1923076923076925,5.423076923076923,6.730769230769231,6.076923076923077,5.038461538461538,5.384615384615385,4.461538461538462,4.961538461538462,5.0,4.423076923076923,5.1923076923076925,3.8461538461538463,6.115384615384615,6.1923076923076925,4.653846153846154,5.0,4.076923076923077,4.653846153846154,6.0,4.3076923076923075,4.5,6.538461538461538,4.846153846153846,3.269230769230769,5.0,6.384615384615385,4.076923076923077,3.5,4.076923076923077,4.576923076923077,5.1923076923076925,5.0,5.346153846153846,5.115384615384615,5.576923076923077,6.769230769230769,3.6538461538461537,7.0,6.3,6.923076923076923,6.8076923076923075,5.6923076923076925,3.8461538461538463,4.538461538461538,4.3076923076923075,4.3076923076923075,7.0,4.346153846153846,5.5,6.538461538461538,4.461538461538462,5.615384615384615,5.653846153846154,5.538461538461538],\"xaxis\":\"x\",\"y\":[5.923076923076923,6.0,6.0,6.230769230769231,6.1923076923076925,6.576923076923077,4.923076923076923,4.1923076923076925,6.269230769230769,5.6923076923076925,6.115384615384615,6.230769230769231,5.269230769230769,6.538461538461538,7.0,5.961538461538462,7.0,5.538461538461538,7.0,6.346153846153846,5.346153846153846,5.961538461538462,6.961538461538462,6.846153846153846,6.6923076923076925,5.384615384615385,5.769230769230769,5.461538461538462,5.653846153846154,4.269230769230769,4.923076923076923,3.0,6.0,6.0,5.115384615384615,6.1923076923076925,4.461538461538462,5.1923076923076925,7.0,5.423076923076923,3.9615384615384617,6.6923076923076925,5.038461538461538,3.230769230769231,5.730769230769231,6.461538461538462,3.6923076923076925,3.8846153846153846,4.038461538461538,4.384615384615385,6.0,4.8076923076923075,6.153846153846154,5.538461538461538,6.3076923076923075,7.0,3.576923076923077,6.769230769230769,6.7,7.0,7.0,6.3076923076923075,4.230769230769231,5.153846153846154,4.615384615384615,3.6538461538461537,7.0,5.3076923076923075,6.153846153846154,7.0,4.3076923076923075,7.0,5.769230769230769,5.8076923076923075],\"yaxis\":\"y\",\"type\":\"scatter\"},{\"hovertemplate\":\"\\u003cb\\u003e%{hovertext}\\u003c\\u002fb\\u003e\\u003cbr\\u003e\\u003cbr\\u003eStatus=PF\\u003cbr\\u003eCL=%{x}\\u003cbr\\u003ePR=%{y}\\u003cextra\\u003e\\u003c\\u002fextra\\u003e\",\"hovertext\":[\"Afghanistan\",\"Albania\",\"Antigua and Barbuda\",\"Argentina\",\"Armenia\",\"Azerbaijan\",\"Bahrain\",\"Bangladesh\",\"Belarus\",\"Benin\",\"Bhutan\",\"Bolivia (Plurinational State of)\",\"Bosnia and Herzegovina\",\"Brazil\",\"Burkina Faso\",\"Burundi\",\"Central African Republic\",\"Colombia\",\"Comoros\",\"Congo\",\"Croatia\",\"CÃƒÂ´te dÃ¢â‚¬â„¢Ivoire\",\"Djibouti\",\"Dominican Republic\",\"Ecuador\",\"Egypt\",\"El Salvador\",\"Eritrea\",\"Ethiopia\",\"Fiji\",\"Gabon\",\"Gambia\",\"Georgia\",\"Ghana\",\"Guatemala\",\"Guinea\",\"Guinea-Bissau\",\"Guyana\",\"Haiti\",\"Honduras\",\"Hungary\",\"India\",\"Indonesia\",\"Jordan\",\"Kenya\",\"Kuwait\",\"Kyrgyzstan\",\"Lebanon\",\"Lesotho\",\"Liberia\",\"Libya\",\"Madagascar\",\"Malawi\",\"Malaysia\",\"Maldives\",\"Mali\",\"Mauritania\",\"Mexico\",\"Montenegro\",\"Morocco\",\"Mozambique\",\"Myanmar\",\"Nepal\",\"Nicaragua\",\"Niger\",\"Nigeria\",\"North Macedonia\",\"Pakistan\",\"Papua New Guinea\",\"Paraguay\",\"Peru\",\"Philippines\",\"Republic of Moldova\",\"Romania\",\"Russian Federation\",\"Senegal\",\"Serbia\",\"Seychelles\",\"Sierra Leone\",\"Singapore\",\"Slovakia\",\"Solomon Islands\",\"Sri Lanka\",\"Suriname\",\"Thailand\",\"Timor-Leste\",\"Togo\",\"Tonga\",\"Trinidad and Tobago\",\"Tunisia\",\"Turkey\",\"Uganda\",\"Ukraine\",\"United Republic of Tanzania\",\"Venezuela (Bolivarian Republic of)\",\"Yemen\",\"Zambia\",\"Zimbabwe\"],\"legendgroup\":\"PF\",\"marker\":{\"color\":\"#EF553B\",\"symbol\":\"circle\"},\"mode\":\"markers\",\"name\":\"PF\",\"orientation\":\"v\",\"showlegend\":true,\"x\":[6.153846153846154,3.3846153846153846,2.1923076923076925,2.269230769230769,4.0,5.230769230769231,5.615384615384615,4.115384615384615,5.961538461538462,2.0384615384615383,5.076923076923077,3.0384615384615383,3.769230769230769,2.6153846153846154,3.4615384615384617,5.615384615384615,5.384615384615385,3.6923076923076925,4.0,4.730769230769231,2.423076923076923,4.8076923076923075,5.1923076923076925,2.5,3.076923076923077,5.423076923076923,3.076923076923077,6.076923076923077,5.384615384615385,3.3846153846153846,4.461538461538462,4.961538461538462,3.5384615384615383,2.3846153846153846,4.038461538461538,5.0,4.423076923076923,2.6153846153846154,5.1923076923076925,3.5,1.8461538461538463,3.1538461538461537,3.8461538461538463,4.653846153846154,4.076923076923077,4.846153846153846,4.653846153846154,4.3076923076923075,3.269230769230769,4.5,6.538461538461538,3.730769230769231,3.4615384615384617,4.3076923076923075,4.846153846153846,3.269230769230769,5.0,3.0384615384615383,2.6,4.384615384615385,3.6923076923076925,6.384615384615385,4.076923076923077,3.5,4.076923076923077,4.576923076923077,3.0384615384615383,5.0,3.1153846153846154,3.0,3.1923076923076925,3.1153846153846154,3.6538461538461537,2.076923076923077,5.115384615384615,3.1153846153846154,2.1666666666666665,3.0,3.6538461538461537,4.269230769230769,1.6153846153846154,2.6923076923076925,4.0,2.3461538461538463,3.8461538461538463,3.409090909090909,4.538461538461538,2.6538461538461537,2.1538461538461537,4.3076923076923075,4.3076923076923075,4.346153846153846,3.230769230769231,3.730769230769231,4.461538461538462,5.653846153846154,3.9615384615384617,5.538461538461538],\"xaxis\":\"x\",\"y\":[5.923076923076923,3.1923076923076925,2.8076923076923075,2.076923076923077,4.769230769230769,6.230769230769231,6.1923076923076925,3.576923076923077,6.576923076923077,2.230769230769231,4.923076923076923,2.5,4.1923076923076925,2.1923076923076925,4.615384615384615,5.6923076923076925,5.269230769230769,3.3461538461538463,4.0,5.961538461538462,1.9230769230769231,5.538461538461538,5.346153846153846,2.423076923076923,2.8461538461538463,5.961538461538462,2.076923076923077,6.846153846153846,5.384615384615385,4.346153846153846,5.769230769230769,5.461538461538462,3.4615384615384617,1.6923076923076923,3.5,5.653846153846154,4.269230769230769,2.0384615384615383,4.923076923076923,3.3846153846153846,1.4615384615384615,2.076923076923077,3.0,5.115384615384615,4.461538461538462,4.5,5.1923076923076925,5.423076923076923,2.8846153846153846,3.9615384615384617,6.6923076923076925,3.423076923076923,3.1153846153846154,4.230769230769231,5.038461538461538,3.230769230769231,5.730769230769231,2.6923076923076925,3.1333333333333333,5.0,3.5384615384615383,6.461538461538462,3.6923076923076925,3.8846153846153846,4.038461538461538,4.384615384615385,3.3846153846153846,4.8076923076923075,3.076923076923077,3.3076923076923075,2.576923076923077,2.730769230769231,2.923076923076923,2.1153846153846154,5.538461538461538,2.6923076923076925,2.7222222222222223,2.9615384615384617,3.576923076923077,4.576923076923077,1.1538461538461537,2.8846153846153846,3.6923076923076925,2.0,4.230769230769231,3.1818181818181817,5.153846153846154,3.8461538461538463,2.0,4.615384615384615,3.6538461538461537,5.3076923076923075,3.3076923076923075,3.9615384615384617,4.3076923076923075,5.769230769230769,3.8076923076923075,5.8076923076923075],\"yaxis\":\"y\",\"type\":\"scatter\"},{\"hovertemplate\":\"\\u003cb\\u003e%{hovertext}\\u003c\\u002fb\\u003e\\u003cbr\\u003e\\u003cbr\\u003eStatus=F\\u003cbr\\u003eCL=%{x}\\u003cbr\\u003ePR=%{y}\\u003cextra\\u003e\\u003c\\u002fextra\\u003e\",\"hovertext\":[\"Andorra\",\"Antigua and Barbuda\",\"Argentina\",\"Australia\",\"Austria\",\"Bahamas\",\"Barbados\",\"Belgium\",\"Belize\",\"Benin\",\"Bolivia (Plurinational State of)\",\"Botswana\",\"Brazil\",\"Bulgaria\",\"Cabo Verde\",\"Canada\",\"Chile\",\"Costa Rica\",\"Croatia\",\"Cyprus\",\"Czechia\",\"Denmark\",\"Dominica\",\"Dominican Republic\",\"Ecuador\",\"El Salvador\",\"Estonia\",\"Fiji\",\"Finland\",\"France\",\"Germany\",\"Ghana\",\"Greece\",\"Grenada\",\"Guyana\",\"Honduras\",\"Hungary\",\"Iceland\",\"India\",\"Indonesia\",\"Ireland\",\"Israel\",\"Italy\",\"Jamaica\",\"Japan\",\"Kiribati\",\"Latvia\",\"Lesotho\",\"Liechtenstein\",\"Lithuania\",\"Luxembourg\",\"Malawi\",\"Mali\",\"Malta\",\"Marshall Islands\",\"Mauritius\",\"Mexico\",\"Micronesia (Federated States of)\",\"Monaco\",\"Mongolia\",\"Montenegro\",\"Namibia\",\"Nauru\",\"Netherlands\",\"New Zealand\",\"Norway\",\"Palau\",\"Panama\",\"Papua New Guinea\",\"Peru\",\"Philippines\",\"Poland\",\"Portugal\",\"Republic of Korea\",\"Romania\",\"Saint Kitts and Nevis\",\"Saint Lucia\",\"Saint Vincent and the Grenadines\",\"Samoa\",\"San Marino\",\"Sao Tome and Principe\",\"Senegal\",\"Serbia\",\"Seychelles\",\"Sierra Leone\",\"Slovakia\",\"Slovenia\",\"Solomon Islands\",\"South Africa\",\"Spain\",\"Suriname\",\"Sweden\",\"Switzerland\",\"Thailand\",\"Timor-Leste\",\"Tonga\",\"Trinidad and Tobago\",\"Tunisia\",\"Tuvalu\",\"Ukraine\",\"United Kingdom of Great Britain and Northern Ireland\",\"United States of America\",\"Uruguay\",\"Vanuatu\",\"Venezuela (Bolivarian Republic of)\"],\"legendgroup\":\"F\",\"marker\":{\"color\":\"#00cc96\",\"symbol\":\"circle\"},\"mode\":\"markers\",\"name\":\"F\",\"orientation\":\"v\",\"showlegend\":true,\"x\":[1.0,2.1923076923076925,2.269230769230769,1.0,1.0,1.1538461538461537,1.0,1.2307692307692308,1.7307692307692308,2.0384615384615383,3.0384615384615383,2.0,2.6153846153846154,2.230769230769231,1.3076923076923077,1.0,1.3076923076923077,1.3461538461538463,2.423076923076923,1.0,1.3461538461538463,1.0,1.0,2.5,3.076923076923077,3.076923076923077,1.3461538461538463,3.3846153846153846,1.0,1.4615384615384615,1.2692307692307692,2.3846153846153846,2.269230769230769,2.0,2.6153846153846154,3.5,1.8461538461538463,1.0,3.1538461538461537,3.8461538461538463,1.0,2.5,1.3846153846153846,2.769230769230769,1.6923076923076923,1.0,1.8076923076923077,3.269230769230769,1.0,1.4230769230769231,1.0,3.4615384615384617,3.269230769230769,1.0,1.0,1.9230769230769231,3.0384615384615383,1.2307692307692308,1.0,2.269230769230769,2.6,2.3846153846153846,1.9230769230769231,1.0,1.0,1.0,1.3076923076923077,2.1538461538461537,3.1153846153846154,3.1923076923076925,3.1153846153846154,1.5384615384615385,1.0,2.0,2.076923076923077,1.3846153846153846,1.3846153846153846,1.0,2.0384615384615383,1.0,2.0,3.1153846153846154,2.1666666666666665,3.0,3.6538461538461537,1.6153846153846154,1.2692307692307692,2.6923076923076925,2.0,1.2692307692307692,2.3461538461538463,1.0,1.0,3.8461538461538463,3.409090909090909,2.6538461538461537,2.1538461538461537,4.3076923076923075,1.0,3.230769230769231,1.2692307692307692,1.0384615384615385,1.1923076923076923,2.269230769230769,4.461538461538462],\"xaxis\":\"x\",\"y\":[1.0,2.8076923076923075,2.076923076923077,1.0,1.0,1.0,1.0,1.0,1.0769230769230769,2.230769230769231,2.5,2.4615384615384617,2.1923076923076925,1.7307692307692308,1.0,1.0,1.3461538461538463,1.0,1.9230769230769231,1.0,1.0,1.0,1.0,2.423076923076923,2.8461538461538463,2.076923076923077,1.0384615384615385,4.346153846153846,1.0,1.0,1.0,1.6923076923076923,1.2692307692307692,1.0,2.0384615384615383,3.3846153846153846,1.4615384615384615,1.0,2.076923076923077,3.0,1.0,1.1153846153846154,1.0384615384615385,2.0,1.0,1.0,1.5,2.8846153846153846,1.1923076923076923,1.0384615384615385,1.0,3.1153846153846154,3.230769230769231,1.1153846153846154,1.0,1.0,2.6923076923076925,1.0,2.1923076923076925,1.6538461538461537,3.1333333333333333,2.0384615384615383,1.2307692307692308,1.0,1.0,1.0,1.0,1.3846153846153846,3.076923076923077,2.576923076923077,2.730769230769231,1.1153846153846154,1.0,1.6538461538461537,2.1153846153846154,1.0769230769230769,1.0,1.5769230769230769,2.0,1.0,1.6923076923076923,2.6923076923076925,2.7222222222222223,2.9615384615384617,3.576923076923077,1.1538461538461537,1.0,2.8846153846153846,1.5769230769230769,1.0,2.0,1.0,1.0,4.230769230769231,3.1818181818181817,3.8461538461538463,2.0,4.615384615384615,1.0,3.3076923076923075,1.0,1.1538461538461537,1.0384615384615385,1.6923076923076923,4.3076923076923075],\"yaxis\":\"y\",\"type\":\"scatter\"}],                        {\"template\":{\"data\":{\"histogram2dcontour\":[{\"type\":\"histogram2dcontour\",\"colorbar\":{\"outlinewidth\":0,\"ticks\":\"\"},\"colorscale\":[[0.0,\"#0d0887\"],[0.1111111111111111,\"#46039f\"],[0.2222222222222222,\"#7201a8\"],[0.3333333333333333,\"#9c179e\"],[0.4444444444444444,\"#bd3786\"],[0.5555555555555556,\"#d8576b\"],[0.6666666666666666,\"#ed7953\"],[0.7777777777777778,\"#fb9f3a\"],[0.8888888888888888,\"#fdca26\"],[1.0,\"#f0f921\"]]}],\"choropleth\":[{\"type\":\"choropleth\",\"colorbar\":{\"outlinewidth\":0,\"ticks\":\"\"}}],\"histogram2d\":[{\"type\":\"histogram2d\",\"colorbar\":{\"outlinewidth\":0,\"ticks\":\"\"},\"colorscale\":[[0.0,\"#0d0887\"],[0.1111111111111111,\"#46039f\"],[0.2222222222222222,\"#7201a8\"],[0.3333333333333333,\"#9c179e\"],[0.4444444444444444,\"#bd3786\"],[0.5555555555555556,\"#d8576b\"],[0.6666666666666666,\"#ed7953\"],[0.7777777777777778,\"#fb9f3a\"],[0.8888888888888888,\"#fdca26\"],[1.0,\"#f0f921\"]]}],\"heatmap\":[{\"type\":\"heatmap\",\"colorbar\":{\"outlinewidth\":0,\"ticks\":\"\"},\"colorscale\":[[0.0,\"#0d0887\"],[0.1111111111111111,\"#46039f\"],[0.2222222222222222,\"#7201a8\"],[0.3333333333333333,\"#9c179e\"],[0.4444444444444444,\"#bd3786\"],[0.5555555555555556,\"#d8576b\"],[0.6666666666666666,\"#ed7953\"],[0.7777777777777778,\"#fb9f3a\"],[0.8888888888888888,\"#fdca26\"],[1.0,\"#f0f921\"]]}],\"heatmapgl\":[{\"type\":\"heatmapgl\",\"colorbar\":{\"outlinewidth\":0,\"ticks\":\"\"},\"colorscale\":[[0.0,\"#0d0887\"],[0.1111111111111111,\"#46039f\"],[0.2222222222222222,\"#7201a8\"],[0.3333333333333333,\"#9c179e\"],[0.4444444444444444,\"#bd3786\"],[0.5555555555555556,\"#d8576b\"],[0.6666666666666666,\"#ed7953\"],[0.7777777777777778,\"#fb9f3a\"],[0.8888888888888888,\"#fdca26\"],[1.0,\"#f0f921\"]]}],\"contourcarpet\":[{\"type\":\"contourcarpet\",\"colorbar\":{\"outlinewidth\":0,\"ticks\":\"\"}}],\"contour\":[{\"type\":\"contour\",\"colorbar\":{\"outlinewidth\":0,\"ticks\":\"\"},\"colorscale\":[[0.0,\"#0d0887\"],[0.1111111111111111,\"#46039f\"],[0.2222222222222222,\"#7201a8\"],[0.3333333333333333,\"#9c179e\"],[0.4444444444444444,\"#bd3786\"],[0.5555555555555556,\"#d8576b\"],[0.6666666666666666,\"#ed7953\"],[0.7777777777777778,\"#fb9f3a\"],[0.8888888888888888,\"#fdca26\"],[1.0,\"#f0f921\"]]}],\"surface\":[{\"type\":\"surface\",\"colorbar\":{\"outlinewidth\":0,\"ticks\":\"\"},\"colorscale\":[[0.0,\"#0d0887\"],[0.1111111111111111,\"#46039f\"],[0.2222222222222222,\"#7201a8\"],[0.3333333333333333,\"#9c179e\"],[0.4444444444444444,\"#bd3786\"],[0.5555555555555556,\"#d8576b\"],[0.6666666666666666,\"#ed7953\"],[0.7777777777777778,\"#fb9f3a\"],[0.8888888888888888,\"#fdca26\"],[1.0,\"#f0f921\"]]}],\"mesh3d\":[{\"type\":\"mesh3d\",\"colorbar\":{\"outlinewidth\":0,\"ticks\":\"\"}}],\"scatter\":[{\"fillpattern\":{\"fillmode\":\"overlay\",\"size\":10,\"solidity\":0.2},\"type\":\"scatter\"}],\"parcoords\":[{\"type\":\"parcoords\",\"line\":{\"colorbar\":{\"outlinewidth\":0,\"ticks\":\"\"}}}],\"scatterpolargl\":[{\"type\":\"scatterpolargl\",\"marker\":{\"colorbar\":{\"outlinewidth\":0,\"ticks\":\"\"}}}],\"bar\":[{\"error_x\":{\"color\":\"#2a3f5f\"},\"error_y\":{\"color\":\"#2a3f5f\"},\"marker\":{\"line\":{\"color\":\"#E5ECF6\",\"width\":0.5},\"pattern\":{\"fillmode\":\"overlay\",\"size\":10,\"solidity\":0.2}},\"type\":\"bar\"}],\"scattergeo\":[{\"type\":\"scattergeo\",\"marker\":{\"colorbar\":{\"outlinewidth\":0,\"ticks\":\"\"}}}],\"scatterpolar\":[{\"type\":\"scatterpolar\",\"marker\":{\"colorbar\":{\"outlinewidth\":0,\"ticks\":\"\"}}}],\"histogram\":[{\"marker\":{\"pattern\":{\"fillmode\":\"overlay\",\"size\":10,\"solidity\":0.2}},\"type\":\"histogram\"}],\"scattergl\":[{\"type\":\"scattergl\",\"marker\":{\"colorbar\":{\"outlinewidth\":0,\"ticks\":\"\"}}}],\"scatter3d\":[{\"type\":\"scatter3d\",\"line\":{\"colorbar\":{\"outlinewidth\":0,\"ticks\":\"\"}},\"marker\":{\"colorbar\":{\"outlinewidth\":0,\"ticks\":\"\"}}}],\"scattermapbox\":[{\"type\":\"scattermapbox\",\"marker\":{\"colorbar\":{\"outlinewidth\":0,\"ticks\":\"\"}}}],\"scatterternary\":[{\"type\":\"scatterternary\",\"marker\":{\"colorbar\":{\"outlinewidth\":0,\"ticks\":\"\"}}}],\"scattercarpet\":[{\"type\":\"scattercarpet\",\"marker\":{\"colorbar\":{\"outlinewidth\":0,\"ticks\":\"\"}}}],\"carpet\":[{\"aaxis\":{\"endlinecolor\":\"#2a3f5f\",\"gridcolor\":\"white\",\"linecolor\":\"white\",\"minorgridcolor\":\"white\",\"startlinecolor\":\"#2a3f5f\"},\"baxis\":{\"endlinecolor\":\"#2a3f5f\",\"gridcolor\":\"white\",\"linecolor\":\"white\",\"minorgridcolor\":\"white\",\"startlinecolor\":\"#2a3f5f\"},\"type\":\"carpet\"}],\"table\":[{\"cells\":{\"fill\":{\"color\":\"#EBF0F8\"},\"line\":{\"color\":\"white\"}},\"header\":{\"fill\":{\"color\":\"#C8D4E3\"},\"line\":{\"color\":\"white\"}},\"type\":\"table\"}],\"barpolar\":[{\"marker\":{\"line\":{\"color\":\"#E5ECF6\",\"width\":0.5},\"pattern\":{\"fillmode\":\"overlay\",\"size\":10,\"solidity\":0.2}},\"type\":\"barpolar\"}],\"pie\":[{\"automargin\":true,\"type\":\"pie\"}]},\"layout\":{\"autotypenumbers\":\"strict\",\"colorway\":[\"#636efa\",\"#EF553B\",\"#00cc96\",\"#ab63fa\",\"#FFA15A\",\"#19d3f3\",\"#FF6692\",\"#B6E880\",\"#FF97FF\",\"#FECB52\"],\"font\":{\"color\":\"#2a3f5f\"},\"hovermode\":\"closest\",\"hoverlabel\":{\"align\":\"left\"},\"paper_bgcolor\":\"white\",\"plot_bgcolor\":\"#E5ECF6\",\"polar\":{\"bgcolor\":\"#E5ECF6\",\"angularaxis\":{\"gridcolor\":\"white\",\"linecolor\":\"white\",\"ticks\":\"\"},\"radialaxis\":{\"gridcolor\":\"white\",\"linecolor\":\"white\",\"ticks\":\"\"}},\"ternary\":{\"bgcolor\":\"#E5ECF6\",\"aaxis\":{\"gridcolor\":\"white\",\"linecolor\":\"white\",\"ticks\":\"\"},\"baxis\":{\"gridcolor\":\"white\",\"linecolor\":\"white\",\"ticks\":\"\"},\"caxis\":{\"gridcolor\":\"white\",\"linecolor\":\"white\",\"ticks\":\"\"}},\"coloraxis\":{\"colorbar\":{\"outlinewidth\":0,\"ticks\":\"\"}},\"colorscale\":{\"sequential\":[[0.0,\"#0d0887\"],[0.1111111111111111,\"#46039f\"],[0.2222222222222222,\"#7201a8\"],[0.3333333333333333,\"#9c179e\"],[0.4444444444444444,\"#bd3786\"],[0.5555555555555556,\"#d8576b\"],[0.6666666666666666,\"#ed7953\"],[0.7777777777777778,\"#fb9f3a\"],[0.8888888888888888,\"#fdca26\"],[1.0,\"#f0f921\"]],\"sequentialminus\":[[0.0,\"#0d0887\"],[0.1111111111111111,\"#46039f\"],[0.2222222222222222,\"#7201a8\"],[0.3333333333333333,\"#9c179e\"],[0.4444444444444444,\"#bd3786\"],[0.5555555555555556,\"#d8576b\"],[0.6666666666666666,\"#ed7953\"],[0.7777777777777778,\"#fb9f3a\"],[0.8888888888888888,\"#fdca26\"],[1.0,\"#f0f921\"]],\"diverging\":[[0,\"#8e0152\"],[0.1,\"#c51b7d\"],[0.2,\"#de77ae\"],[0.3,\"#f1b6da\"],[0.4,\"#fde0ef\"],[0.5,\"#f7f7f7\"],[0.6,\"#e6f5d0\"],[0.7,\"#b8e186\"],[0.8,\"#7fbc41\"],[0.9,\"#4d9221\"],[1,\"#276419\"]]},\"xaxis\":{\"gridcolor\":\"white\",\"linecolor\":\"white\",\"ticks\":\"\",\"title\":{\"standoff\":15},\"zerolinecolor\":\"white\",\"automargin\":true,\"zerolinewidth\":2},\"yaxis\":{\"gridcolor\":\"white\",\"linecolor\":\"white\",\"ticks\":\"\",\"title\":{\"standoff\":15},\"zerolinecolor\":\"white\",\"automargin\":true,\"zerolinewidth\":2},\"scene\":{\"xaxis\":{\"backgroundcolor\":\"#E5ECF6\",\"gridcolor\":\"white\",\"linecolor\":\"white\",\"showbackground\":true,\"ticks\":\"\",\"zerolinecolor\":\"white\",\"gridwidth\":2},\"yaxis\":{\"backgroundcolor\":\"#E5ECF6\",\"gridcolor\":\"white\",\"linecolor\":\"white\",\"showbackground\":true,\"ticks\":\"\",\"zerolinecolor\":\"white\",\"gridwidth\":2},\"zaxis\":{\"backgroundcolor\":\"#E5ECF6\",\"gridcolor\":\"white\",\"linecolor\":\"white\",\"showbackground\":true,\"ticks\":\"\",\"zerolinecolor\":\"white\",\"gridwidth\":2}},\"shapedefaults\":{\"line\":{\"color\":\"#2a3f5f\"}},\"annotationdefaults\":{\"arrowcolor\":\"#2a3f5f\",\"arrowhead\":0,\"arrowwidth\":1},\"geo\":{\"bgcolor\":\"white\",\"landcolor\":\"#E5ECF6\",\"subunitcolor\":\"white\",\"showland\":true,\"showlakes\":true,\"lakecolor\":\"white\"},\"title\":{\"x\":0.05},\"mapbox\":{\"style\":\"light\"}}},\"xaxis\":{\"anchor\":\"y\",\"domain\":[0.0,1.0],\"title\":{\"text\":\"CL\"}},\"yaxis\":{\"anchor\":\"x\",\"domain\":[0.0,1.0],\"title\":{\"text\":\"PR\"}},\"legend\":{\"title\":{\"text\":\"Status\"},\"tracegroupgap\":0},\"margin\":{\"t\":60}},                        {\"responsive\": true}                    ).then(function(){\n",
       "                            \n",
       "var gd = document.getElementById('386491e6-a3cc-486f-80ff-7bd7a46b7e0a');\n",
       "var x = new MutationObserver(function (mutations, observer) {{\n",
       "        var display = window.getComputedStyle(gd).display;\n",
       "        if (!display || display === 'none') {{\n",
       "            console.log([gd, 'removed!']);\n",
       "            Plotly.purge(gd);\n",
       "            observer.disconnect();\n",
       "        }}\n",
       "}});\n",
       "\n",
       "// Listen for the removal of the full notebook cells\n",
       "var notebookContainer = gd.closest('#notebook-container');\n",
       "if (notebookContainer) {{\n",
       "    x.observe(notebookContainer, {childList: true});\n",
       "}}\n",
       "\n",
       "// Listen for the clearing of the current output cell\n",
       "var outputEl = gd.closest('.output');\n",
       "if (outputEl) {{\n",
       "    x.observe(outputEl, {childList: true});\n",
       "}}\n",
       "\n",
       "                        })                };                });            </script>        </div>"
      ]
     },
     "metadata": {},
     "output_type": "display_data"
    }
   ],
   "source": [
    "mean_df = df[['country', 'CL', 'PR']].groupby(by='country').mean().reset_index().merge(right=df[['country', 'Status']].drop_duplicates(ignore_index=True), on='country', how='inner')\n",
    "scatter(data_frame=mean_df, x='CL', y='PR', hover_name='country', color='Status', )"
   ]
  },
  {
   "cell_type": "markdown",
   "id": "7143c579",
   "metadata": {
    "papermill": {
     "duration": 0.005054,
     "end_time": "2023-10-24T20:22:53.298883",
     "exception": false,
     "start_time": "2023-10-24T20:22:53.293829",
     "status": "completed"
    },
    "tags": []
   },
   "source": [
    "For the most part the mean variables would predict status pretty well using a very simple model."
   ]
  },
  {
   "cell_type": "code",
   "execution_count": 7,
   "id": "c7c9f3f1",
   "metadata": {
    "execution": {
     "iopub.execute_input": "2023-10-24T20:22:53.312014Z",
     "iopub.status.busy": "2023-10-24T20:22:53.311556Z",
     "iopub.status.idle": "2023-10-24T20:22:53.390644Z",
     "shell.execute_reply": "2023-10-24T20:22:53.389348Z"
    },
    "papermill": {
     "duration": 0.089586,
     "end_time": "2023-10-24T20:22:53.393689",
     "exception": false,
     "start_time": "2023-10-24T20:22:53.304103",
     "status": "completed"
    },
    "tags": []
   },
   "outputs": [
    {
     "data": {
      "text/html": [
       "<div>                            <div id=\"20d92590-0721-4716-9009-2390da3d1b79\" class=\"plotly-graph-div\" style=\"height:525px; width:100%;\"></div>            <script type=\"text/javascript\">                require([\"plotly\"], function(Plotly) {                    window.PLOTLYENV=window.PLOTLYENV || {};                                    if (document.getElementById(\"20d92590-0721-4716-9009-2390da3d1b79\")) {                    Plotly.newPlot(                        \"20d92590-0721-4716-9009-2390da3d1b79\",                        [{\"hovertemplate\":\"\\u003cb\\u003e%{hovertext}\\u003c\\u002fb\\u003e\\u003cbr\\u003e\\u003cbr\\u003eleast_developed=True\\u003cbr\\u003eCL=%{x}\\u003cbr\\u003ePR=%{y}\\u003cextra\\u003e\\u003c\\u002fextra\\u003e\",\"hovertext\":[\"Afghanistan\",\"Angola\",\"Bangladesh\",\"Benin\",\"Bhutan\",\"Burkina Faso\",\"Burundi\",\"Cambodia\",\"Central African Republic\",\"Chad\",\"Comoros\",\"Democratic Republic of the Congo\",\"Djibouti\",\"Eritrea\",\"Ethiopia\",\"Gambia\",\"Guinea\",\"Guinea-Bissau\",\"Haiti\",\"Kiribati\",\"Lao People's Democratic Republic\",\"Lesotho\",\"Liberia\",\"Madagascar\",\"Malawi\",\"Mali\",\"Mauritania\",\"Mozambique\",\"Myanmar\",\"Nepal\",\"Niger\",\"Rwanda\",\"Sao Tome and Principe\",\"Senegal\",\"Sierra Leone\",\"Solomon Islands\",\"Somalia\",\"South Sudan\",\"Sudan\",\"Timor-Leste\",\"Togo\",\"Tuvalu\",\"Uganda\",\"United Republic of Tanzania\",\"Yemen\",\"Zambia\"],\"legendgroup\":\"True\",\"marker\":{\"color\":\"#636efa\",\"symbol\":\"circle\"},\"mode\":\"markers\",\"name\":\"True\",\"orientation\":\"v\",\"showlegend\":true,\"x\":[6.153846153846154,5.384615384615385,4.115384615384615,2.0384615384615383,5.076923076923077,3.4615384615384617,5.615384615384615,5.230769230769231,5.384615384615385,5.538461538461538,4.0,6.0,5.1923076923076925,6.076923076923077,5.384615384615385,4.961538461538462,5.0,4.423076923076923,5.1923076923076925,1.0,6.0,3.269230769230769,4.5,3.730769230769231,3.4615384615384617,3.269230769230769,5.0,3.6923076923076925,6.384615384615385,4.076923076923077,4.076923076923077,5.576923076923077,2.0,3.1153846153846154,3.6538461538461537,2.6923076923076925,7.0,6.3,6.923076923076923,3.409090909090909,4.538461538461538,1.0,4.346153846153846,3.730769230769231,5.653846153846154,3.9615384615384617],\"xaxis\":\"x\",\"y\":[5.923076923076923,6.0,3.576923076923077,2.230769230769231,4.923076923076923,4.615384615384615,5.6923076923076925,6.115384615384615,5.269230769230769,6.538461538461538,4.0,6.346153846153846,5.346153846153846,6.846153846153846,5.384615384615385,5.461538461538462,5.653846153846154,4.269230769230769,4.923076923076923,1.0,7.0,2.8846153846153846,3.9615384615384617,3.423076923076923,3.1153846153846154,3.230769230769231,5.730769230769231,3.5384615384615383,6.461538461538462,3.6923076923076925,4.038461538461538,6.3076923076923075,1.6923076923076923,2.6923076923076925,3.576923076923077,2.8846153846153846,6.769230769230769,6.7,7.0,3.1818181818181817,5.153846153846154,1.0,5.3076923076923075,3.9615384615384617,5.769230769230769,3.8076923076923075],\"yaxis\":\"y\",\"type\":\"scatter\"},{\"hovertemplate\":\"\\u003cb\\u003e%{hovertext}\\u003c\\u002fb\\u003e\\u003cbr\\u003e\\u003cbr\\u003eleast_developed=False\\u003cbr\\u003eCL=%{x}\\u003cbr\\u003ePR=%{y}\\u003cextra\\u003e\\u003c\\u002fextra\\u003e\",\"hovertext\":[\"Albania\",\"Algeria\",\"Andorra\",\"Antigua and Barbuda\",\"Argentina\",\"Armenia\",\"Australia\",\"Austria\",\"Azerbaijan\",\"Bahamas\",\"Bahrain\",\"Barbados\",\"Belarus\",\"Belgium\",\"Belize\",\"Bolivia (Plurinational State of)\",\"Bosnia and Herzegovina\",\"Botswana\",\"Brazil\",\"Brunei Darussalam\",\"Bulgaria\",\"Cabo Verde\",\"Cameroon\",\"Canada\",\"Chile\",\"China\",\"Colombia\",\"Congo\",\"Costa Rica\",\"Croatia\",\"Cuba\",\"Cyprus\",\"Czechia\",\"CÃƒÂ´te dÃ¢â‚¬â„¢Ivoire\",\"Democratic People's Republic of Korea\",\"Denmark\",\"Dominica\",\"Dominican Republic\",\"Ecuador\",\"Egypt\",\"El Salvador\",\"Equatorial Guinea\",\"Estonia\",\"Eswatini\",\"Fiji\",\"Finland\",\"France\",\"Gabon\",\"Georgia\",\"Germany\",\"Ghana\",\"Greece\",\"Grenada\",\"Guatemala\",\"Guyana\",\"Honduras\",\"Hungary\",\"Iceland\",\"India\",\"Indonesia\",\"Iran (Islamic Republic of)\",\"Iraq\",\"Ireland\",\"Israel\",\"Italy\",\"Jamaica\",\"Japan\",\"Jordan\",\"Kazakhstan\",\"Kenya\",\"Kuwait\",\"Kyrgyzstan\",\"Latvia\",\"Lebanon\",\"Libya\",\"Liechtenstein\",\"Lithuania\",\"Luxembourg\",\"Malaysia\",\"Maldives\",\"Malta\",\"Marshall Islands\",\"Mauritius\",\"Mexico\",\"Micronesia (Federated States of)\",\"Monaco\",\"Mongolia\",\"Montenegro\",\"Morocco\",\"Namibia\",\"Nauru\",\"Netherlands\",\"New Zealand\",\"Nicaragua\",\"Nigeria\",\"North Macedonia\",\"Norway\",\"Oman\",\"Pakistan\",\"Palau\",\"Panama\",\"Papua New Guinea\",\"Paraguay\",\"Peru\",\"Philippines\",\"Poland\",\"Portugal\",\"Qatar\",\"Republic of Korea\",\"Republic of Moldova\",\"Romania\",\"Russian Federation\",\"Saint Kitts and Nevis\",\"Saint Lucia\",\"Saint Vincent and the Grenadines\",\"Samoa\",\"San Marino\",\"Saudi Arabia\",\"Serbia\",\"Seychelles\",\"Singapore\",\"Slovakia\",\"Slovenia\",\"South Africa\",\"Spain\",\"Sri Lanka\",\"Suriname\",\"Sweden\",\"Switzerland\",\"Syrian Arab Republic\",\"Tajikistan\",\"Thailand\",\"Tonga\",\"Trinidad and Tobago\",\"Tunisia\",\"Turkey\",\"Turkmenistan\",\"Ukraine\",\"United Arab Emirates\",\"United Kingdom of Great Britain and Northern Ireland\",\"United States of America\",\"Uruguay\",\"Uzbekistan\",\"Vanuatu\",\"Venezuela (Bolivarian Republic of)\",\"Viet Nam\",\"Zimbabwe\"],\"legendgroup\":\"False\",\"marker\":{\"color\":\"#EF553B\",\"symbol\":\"circle\"},\"mode\":\"markers\",\"name\":\"False\",\"orientation\":\"v\",\"showlegend\":true,\"x\":[3.3846153846153846,5.115384615384615,1.0,2.1923076923076925,2.269230769230769,4.0,1.0,1.0,5.230769230769231,1.1538461538461537,5.615384615384615,1.0,5.961538461538462,1.2307692307692308,1.7307692307692308,3.0384615384615383,3.769230769230769,2.0,2.6153846153846154,5.0,2.230769230769231,1.3076923076923077,5.846153846153846,1.0,1.3076923076923077,6.115384615384615,3.6923076923076925,4.730769230769231,1.3461538461538463,2.423076923076923,6.5,1.0,1.3461538461538463,4.8076923076923075,7.0,1.0,1.0,2.5,3.076923076923077,5.423076923076923,3.076923076923077,6.730769230769231,1.3461538461538463,5.038461538461538,3.3846153846153846,1.0,1.4615384615384615,4.461538461538462,3.5384615384615383,1.2692307692307692,2.3846153846153846,2.269230769230769,2.0,4.038461538461538,2.6153846153846154,3.5,1.8461538461538463,1.0,3.1538461538461537,3.8461538461538463,6.115384615384615,6.1923076923076925,1.0,2.5,1.3846153846153846,2.769230769230769,1.6923076923076923,4.653846153846154,5.0,4.076923076923077,4.846153846153846,4.653846153846154,1.8076923076923077,4.3076923076923075,6.538461538461538,1.0,1.4230769230769231,1.0,4.3076923076923075,4.846153846153846,1.0,1.0,1.9230769230769231,3.0384615384615383,1.2307692307692308,1.0,2.269230769230769,2.6,4.384615384615385,2.3846153846153846,1.9230769230769231,1.0,1.0,3.5,4.576923076923077,3.0384615384615383,1.0,5.1923076923076925,5.0,1.3076923076923077,2.1538461538461537,3.1153846153846154,3.0,3.1923076923076925,3.1153846153846154,1.5384615384615385,1.0,5.346153846153846,2.0,3.6538461538461537,2.076923076923077,5.115384615384615,1.3846153846153846,1.3846153846153846,1.0,2.0384615384615383,1.0,6.769230769230769,2.1666666666666665,3.0,4.269230769230769,1.6153846153846154,1.2692307692307692,2.0,1.2692307692307692,4.0,2.3461538461538463,1.0,1.0,6.8076923076923075,5.6923076923076925,3.8461538461538463,2.6538461538461537,2.1538461538461537,4.3076923076923075,4.3076923076923075,7.0,3.230769230769231,5.5,1.2692307692307692,1.0384615384615385,1.1923076923076923,6.538461538461538,2.269230769230769,4.461538461538462,5.615384615384615,5.538461538461538],\"xaxis\":\"x\",\"y\":[3.1923076923076925,6.0,1.0,2.8076923076923075,2.076923076923077,4.769230769230769,1.0,1.0,6.230769230769231,1.0,6.1923076923076925,1.0,6.576923076923077,1.0,1.0769230769230769,2.5,4.1923076923076925,2.4615384615384617,2.1923076923076925,6.269230769230769,1.7307692307692308,1.0,6.230769230769231,1.0,1.3461538461538463,7.0,3.3461538461538463,5.961538461538462,1.0,1.9230769230769231,7.0,1.0,1.0,5.538461538461538,7.0,1.0,1.0,2.423076923076923,2.8461538461538463,5.961538461538462,2.076923076923077,6.961538461538462,1.0384615384615385,6.6923076923076925,4.346153846153846,1.0,1.0,5.769230769230769,3.4615384615384617,1.0,1.6923076923076923,1.2692307692307692,1.0,3.5,2.0384615384615383,3.3846153846153846,1.4615384615384615,1.0,2.076923076923077,3.0,6.0,6.0,1.0,1.1153846153846154,1.0384615384615385,2.0,1.0,5.115384615384615,6.1923076923076925,4.461538461538462,4.5,5.1923076923076925,1.5,5.423076923076923,6.6923076923076925,1.1923076923076923,1.0384615384615385,1.0,4.230769230769231,5.038461538461538,1.1153846153846154,1.0,1.0,2.6923076923076925,1.0,2.1923076923076925,1.6538461538461537,3.1333333333333333,5.0,2.0384615384615383,1.2307692307692308,1.0,1.0,3.8846153846153846,4.384615384615385,3.3846153846153846,1.0,6.0,4.8076923076923075,1.0,1.3846153846153846,3.076923076923077,3.3076923076923075,2.576923076923077,2.730769230769231,1.1153846153846154,1.0,6.153846153846154,1.6538461538461537,2.923076923076923,2.1153846153846154,5.538461538461538,1.0769230769230769,1.0,1.5769230769230769,2.0,1.0,7.0,2.7222222222222223,2.9615384615384617,4.576923076923077,1.1538461538461537,1.0,1.5769230769230769,1.0,3.6923076923076925,2.0,1.0,1.0,7.0,6.3076923076923075,4.230769230769231,3.8461538461538463,2.0,4.615384615384615,3.6538461538461537,7.0,3.3076923076923075,6.153846153846154,1.0,1.1538461538461537,1.0384615384615385,7.0,1.6923076923076923,4.3076923076923075,7.0,5.8076923076923075],\"yaxis\":\"y\",\"type\":\"scatter\"}],                        {\"template\":{\"data\":{\"histogram2dcontour\":[{\"type\":\"histogram2dcontour\",\"colorbar\":{\"outlinewidth\":0,\"ticks\":\"\"},\"colorscale\":[[0.0,\"#0d0887\"],[0.1111111111111111,\"#46039f\"],[0.2222222222222222,\"#7201a8\"],[0.3333333333333333,\"#9c179e\"],[0.4444444444444444,\"#bd3786\"],[0.5555555555555556,\"#d8576b\"],[0.6666666666666666,\"#ed7953\"],[0.7777777777777778,\"#fb9f3a\"],[0.8888888888888888,\"#fdca26\"],[1.0,\"#f0f921\"]]}],\"choropleth\":[{\"type\":\"choropleth\",\"colorbar\":{\"outlinewidth\":0,\"ticks\":\"\"}}],\"histogram2d\":[{\"type\":\"histogram2d\",\"colorbar\":{\"outlinewidth\":0,\"ticks\":\"\"},\"colorscale\":[[0.0,\"#0d0887\"],[0.1111111111111111,\"#46039f\"],[0.2222222222222222,\"#7201a8\"],[0.3333333333333333,\"#9c179e\"],[0.4444444444444444,\"#bd3786\"],[0.5555555555555556,\"#d8576b\"],[0.6666666666666666,\"#ed7953\"],[0.7777777777777778,\"#fb9f3a\"],[0.8888888888888888,\"#fdca26\"],[1.0,\"#f0f921\"]]}],\"heatmap\":[{\"type\":\"heatmap\",\"colorbar\":{\"outlinewidth\":0,\"ticks\":\"\"},\"colorscale\":[[0.0,\"#0d0887\"],[0.1111111111111111,\"#46039f\"],[0.2222222222222222,\"#7201a8\"],[0.3333333333333333,\"#9c179e\"],[0.4444444444444444,\"#bd3786\"],[0.5555555555555556,\"#d8576b\"],[0.6666666666666666,\"#ed7953\"],[0.7777777777777778,\"#fb9f3a\"],[0.8888888888888888,\"#fdca26\"],[1.0,\"#f0f921\"]]}],\"heatmapgl\":[{\"type\":\"heatmapgl\",\"colorbar\":{\"outlinewidth\":0,\"ticks\":\"\"},\"colorscale\":[[0.0,\"#0d0887\"],[0.1111111111111111,\"#46039f\"],[0.2222222222222222,\"#7201a8\"],[0.3333333333333333,\"#9c179e\"],[0.4444444444444444,\"#bd3786\"],[0.5555555555555556,\"#d8576b\"],[0.6666666666666666,\"#ed7953\"],[0.7777777777777778,\"#fb9f3a\"],[0.8888888888888888,\"#fdca26\"],[1.0,\"#f0f921\"]]}],\"contourcarpet\":[{\"type\":\"contourcarpet\",\"colorbar\":{\"outlinewidth\":0,\"ticks\":\"\"}}],\"contour\":[{\"type\":\"contour\",\"colorbar\":{\"outlinewidth\":0,\"ticks\":\"\"},\"colorscale\":[[0.0,\"#0d0887\"],[0.1111111111111111,\"#46039f\"],[0.2222222222222222,\"#7201a8\"],[0.3333333333333333,\"#9c179e\"],[0.4444444444444444,\"#bd3786\"],[0.5555555555555556,\"#d8576b\"],[0.6666666666666666,\"#ed7953\"],[0.7777777777777778,\"#fb9f3a\"],[0.8888888888888888,\"#fdca26\"],[1.0,\"#f0f921\"]]}],\"surface\":[{\"type\":\"surface\",\"colorbar\":{\"outlinewidth\":0,\"ticks\":\"\"},\"colorscale\":[[0.0,\"#0d0887\"],[0.1111111111111111,\"#46039f\"],[0.2222222222222222,\"#7201a8\"],[0.3333333333333333,\"#9c179e\"],[0.4444444444444444,\"#bd3786\"],[0.5555555555555556,\"#d8576b\"],[0.6666666666666666,\"#ed7953\"],[0.7777777777777778,\"#fb9f3a\"],[0.8888888888888888,\"#fdca26\"],[1.0,\"#f0f921\"]]}],\"mesh3d\":[{\"type\":\"mesh3d\",\"colorbar\":{\"outlinewidth\":0,\"ticks\":\"\"}}],\"scatter\":[{\"fillpattern\":{\"fillmode\":\"overlay\",\"size\":10,\"solidity\":0.2},\"type\":\"scatter\"}],\"parcoords\":[{\"type\":\"parcoords\",\"line\":{\"colorbar\":{\"outlinewidth\":0,\"ticks\":\"\"}}}],\"scatterpolargl\":[{\"type\":\"scatterpolargl\",\"marker\":{\"colorbar\":{\"outlinewidth\":0,\"ticks\":\"\"}}}],\"bar\":[{\"error_x\":{\"color\":\"#2a3f5f\"},\"error_y\":{\"color\":\"#2a3f5f\"},\"marker\":{\"line\":{\"color\":\"#E5ECF6\",\"width\":0.5},\"pattern\":{\"fillmode\":\"overlay\",\"size\":10,\"solidity\":0.2}},\"type\":\"bar\"}],\"scattergeo\":[{\"type\":\"scattergeo\",\"marker\":{\"colorbar\":{\"outlinewidth\":0,\"ticks\":\"\"}}}],\"scatterpolar\":[{\"type\":\"scatterpolar\",\"marker\":{\"colorbar\":{\"outlinewidth\":0,\"ticks\":\"\"}}}],\"histogram\":[{\"marker\":{\"pattern\":{\"fillmode\":\"overlay\",\"size\":10,\"solidity\":0.2}},\"type\":\"histogram\"}],\"scattergl\":[{\"type\":\"scattergl\",\"marker\":{\"colorbar\":{\"outlinewidth\":0,\"ticks\":\"\"}}}],\"scatter3d\":[{\"type\":\"scatter3d\",\"line\":{\"colorbar\":{\"outlinewidth\":0,\"ticks\":\"\"}},\"marker\":{\"colorbar\":{\"outlinewidth\":0,\"ticks\":\"\"}}}],\"scattermapbox\":[{\"type\":\"scattermapbox\",\"marker\":{\"colorbar\":{\"outlinewidth\":0,\"ticks\":\"\"}}}],\"scatterternary\":[{\"type\":\"scatterternary\",\"marker\":{\"colorbar\":{\"outlinewidth\":0,\"ticks\":\"\"}}}],\"scattercarpet\":[{\"type\":\"scattercarpet\",\"marker\":{\"colorbar\":{\"outlinewidth\":0,\"ticks\":\"\"}}}],\"carpet\":[{\"aaxis\":{\"endlinecolor\":\"#2a3f5f\",\"gridcolor\":\"white\",\"linecolor\":\"white\",\"minorgridcolor\":\"white\",\"startlinecolor\":\"#2a3f5f\"},\"baxis\":{\"endlinecolor\":\"#2a3f5f\",\"gridcolor\":\"white\",\"linecolor\":\"white\",\"minorgridcolor\":\"white\",\"startlinecolor\":\"#2a3f5f\"},\"type\":\"carpet\"}],\"table\":[{\"cells\":{\"fill\":{\"color\":\"#EBF0F8\"},\"line\":{\"color\":\"white\"}},\"header\":{\"fill\":{\"color\":\"#C8D4E3\"},\"line\":{\"color\":\"white\"}},\"type\":\"table\"}],\"barpolar\":[{\"marker\":{\"line\":{\"color\":\"#E5ECF6\",\"width\":0.5},\"pattern\":{\"fillmode\":\"overlay\",\"size\":10,\"solidity\":0.2}},\"type\":\"barpolar\"}],\"pie\":[{\"automargin\":true,\"type\":\"pie\"}]},\"layout\":{\"autotypenumbers\":\"strict\",\"colorway\":[\"#636efa\",\"#EF553B\",\"#00cc96\",\"#ab63fa\",\"#FFA15A\",\"#19d3f3\",\"#FF6692\",\"#B6E880\",\"#FF97FF\",\"#FECB52\"],\"font\":{\"color\":\"#2a3f5f\"},\"hovermode\":\"closest\",\"hoverlabel\":{\"align\":\"left\"},\"paper_bgcolor\":\"white\",\"plot_bgcolor\":\"#E5ECF6\",\"polar\":{\"bgcolor\":\"#E5ECF6\",\"angularaxis\":{\"gridcolor\":\"white\",\"linecolor\":\"white\",\"ticks\":\"\"},\"radialaxis\":{\"gridcolor\":\"white\",\"linecolor\":\"white\",\"ticks\":\"\"}},\"ternary\":{\"bgcolor\":\"#E5ECF6\",\"aaxis\":{\"gridcolor\":\"white\",\"linecolor\":\"white\",\"ticks\":\"\"},\"baxis\":{\"gridcolor\":\"white\",\"linecolor\":\"white\",\"ticks\":\"\"},\"caxis\":{\"gridcolor\":\"white\",\"linecolor\":\"white\",\"ticks\":\"\"}},\"coloraxis\":{\"colorbar\":{\"outlinewidth\":0,\"ticks\":\"\"}},\"colorscale\":{\"sequential\":[[0.0,\"#0d0887\"],[0.1111111111111111,\"#46039f\"],[0.2222222222222222,\"#7201a8\"],[0.3333333333333333,\"#9c179e\"],[0.4444444444444444,\"#bd3786\"],[0.5555555555555556,\"#d8576b\"],[0.6666666666666666,\"#ed7953\"],[0.7777777777777778,\"#fb9f3a\"],[0.8888888888888888,\"#fdca26\"],[1.0,\"#f0f921\"]],\"sequentialminus\":[[0.0,\"#0d0887\"],[0.1111111111111111,\"#46039f\"],[0.2222222222222222,\"#7201a8\"],[0.3333333333333333,\"#9c179e\"],[0.4444444444444444,\"#bd3786\"],[0.5555555555555556,\"#d8576b\"],[0.6666666666666666,\"#ed7953\"],[0.7777777777777778,\"#fb9f3a\"],[0.8888888888888888,\"#fdca26\"],[1.0,\"#f0f921\"]],\"diverging\":[[0,\"#8e0152\"],[0.1,\"#c51b7d\"],[0.2,\"#de77ae\"],[0.3,\"#f1b6da\"],[0.4,\"#fde0ef\"],[0.5,\"#f7f7f7\"],[0.6,\"#e6f5d0\"],[0.7,\"#b8e186\"],[0.8,\"#7fbc41\"],[0.9,\"#4d9221\"],[1,\"#276419\"]]},\"xaxis\":{\"gridcolor\":\"white\",\"linecolor\":\"white\",\"ticks\":\"\",\"title\":{\"standoff\":15},\"zerolinecolor\":\"white\",\"automargin\":true,\"zerolinewidth\":2},\"yaxis\":{\"gridcolor\":\"white\",\"linecolor\":\"white\",\"ticks\":\"\",\"title\":{\"standoff\":15},\"zerolinecolor\":\"white\",\"automargin\":true,\"zerolinewidth\":2},\"scene\":{\"xaxis\":{\"backgroundcolor\":\"#E5ECF6\",\"gridcolor\":\"white\",\"linecolor\":\"white\",\"showbackground\":true,\"ticks\":\"\",\"zerolinecolor\":\"white\",\"gridwidth\":2},\"yaxis\":{\"backgroundcolor\":\"#E5ECF6\",\"gridcolor\":\"white\",\"linecolor\":\"white\",\"showbackground\":true,\"ticks\":\"\",\"zerolinecolor\":\"white\",\"gridwidth\":2},\"zaxis\":{\"backgroundcolor\":\"#E5ECF6\",\"gridcolor\":\"white\",\"linecolor\":\"white\",\"showbackground\":true,\"ticks\":\"\",\"zerolinecolor\":\"white\",\"gridwidth\":2}},\"shapedefaults\":{\"line\":{\"color\":\"#2a3f5f\"}},\"annotationdefaults\":{\"arrowcolor\":\"#2a3f5f\",\"arrowhead\":0,\"arrowwidth\":1},\"geo\":{\"bgcolor\":\"white\",\"landcolor\":\"#E5ECF6\",\"subunitcolor\":\"white\",\"showland\":true,\"showlakes\":true,\"lakecolor\":\"white\"},\"title\":{\"x\":0.05},\"mapbox\":{\"style\":\"light\"}}},\"xaxis\":{\"anchor\":\"y\",\"domain\":[0.0,1.0],\"title\":{\"text\":\"CL\"}},\"yaxis\":{\"anchor\":\"x\",\"domain\":[0.0,1.0],\"title\":{\"text\":\"PR\"}},\"legend\":{\"title\":{\"text\":\"least_developed\"},\"tracegroupgap\":0},\"margin\":{\"t\":60}},                        {\"responsive\": true}                    ).then(function(){\n",
       "                            \n",
       "var gd = document.getElementById('20d92590-0721-4716-9009-2390da3d1b79');\n",
       "var x = new MutationObserver(function (mutations, observer) {{\n",
       "        var display = window.getComputedStyle(gd).display;\n",
       "        if (!display || display === 'none') {{\n",
       "            console.log([gd, 'removed!']);\n",
       "            Plotly.purge(gd);\n",
       "            observer.disconnect();\n",
       "        }}\n",
       "}});\n",
       "\n",
       "// Listen for the removal of the full notebook cells\n",
       "var notebookContainer = gd.closest('#notebook-container');\n",
       "if (notebookContainer) {{\n",
       "    x.observe(notebookContainer, {childList: true});\n",
       "}}\n",
       "\n",
       "// Listen for the clearing of the current output cell\n",
       "var outputEl = gd.closest('.output');\n",
       "if (outputEl) {{\n",
       "    x.observe(outputEl, {childList: true});\n",
       "}}\n",
       "\n",
       "                        })                };                });            </script>        </div>"
      ]
     },
     "metadata": {},
     "output_type": "display_data"
    }
   ],
   "source": [
    "mean_df = df[['country', 'CL', 'PR']].groupby(by='country').mean().reset_index().merge(right=df[['country', 'least_developed']].drop_duplicates(ignore_index=True), on='country', how='inner')\n",
    "scatter(data_frame=mean_df, x='CL', y='PR', hover_name='country', color='least_developed', color_continuous_scale='gray')"
   ]
  },
  {
   "cell_type": "markdown",
   "id": "2263cf8b",
   "metadata": {
    "papermill": {
     "duration": 0.005933,
     "end_time": "2023-10-24T20:22:53.405864",
     "exception": false,
     "start_time": "2023-10-24T20:22:53.399931",
     "status": "completed"
    },
    "tags": []
   },
   "source": [
    "It is easy to see how freedoms correlate with development status."
   ]
  }
 ],
 "metadata": {
  "kernelspec": {
   "display_name": "Python 3",
   "language": "python",
   "name": "python3"
  },
  "language_info": {
   "codemirror_mode": {
    "name": "ipython",
    "version": 3
   },
   "file_extension": ".py",
   "mimetype": "text/x-python",
   "name": "python",
   "nbconvert_exporter": "python",
   "pygments_lexer": "ipython3",
   "version": "3.10.12"
  },
  "papermill": {
   "default_parameters": {},
   "duration": 11.532708,
   "end_time": "2023-10-24T20:22:54.436553",
   "environment_variables": {},
   "exception": null,
   "input_path": "__notebook__.ipynb",
   "output_path": "__notebook__.ipynb",
   "parameters": {},
   "start_time": "2023-10-24T20:22:42.903845",
   "version": "2.4.0"
  }
 },
 "nbformat": 4,
 "nbformat_minor": 5
}
