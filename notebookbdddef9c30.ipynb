{
 "cells": [
  {
   "cell_type": "code",
   "execution_count": 1,
   "id": "301e1fc7",
   "metadata": {
    "execution": {
     "iopub.execute_input": "2023-12-03T16:20:10.039723Z",
     "iopub.status.busy": "2023-12-03T16:20:10.038405Z",
     "iopub.status.idle": "2023-12-03T16:20:11.184249Z",
     "shell.execute_reply": "2023-12-03T16:20:11.183166Z"
    },
    "papermill": {
     "duration": 1.153224,
     "end_time": "2023-12-03T16:20:11.187042",
     "exception": false,
     "start_time": "2023-12-03T16:20:10.033818",
     "status": "completed"
    },
    "tags": []
   },
   "outputs": [
    {
     "data": {
      "text/html": [
       "<div>\n",
       "<style scoped>\n",
       "    .dataframe tbody tr th:only-of-type {\n",
       "        vertical-align: middle;\n",
       "    }\n",
       "\n",
       "    .dataframe tbody tr th {\n",
       "        vertical-align: top;\n",
       "    }\n",
       "\n",
       "    .dataframe thead th {\n",
       "        text-align: right;\n",
       "    }\n",
       "</style>\n",
       "<table border=\"1\" class=\"dataframe\">\n",
       "  <thead>\n",
       "    <tr style=\"text-align: right;\">\n",
       "      <th></th>\n",
       "      <th>Prompt</th>\n",
       "    </tr>\n",
       "  </thead>\n",
       "  <tbody>\n",
       "    <tr>\n",
       "      <th>0</th>\n",
       "      <td>tarot pele hawaiian fire goddess holding molte...</td>\n",
       "    </tr>\n",
       "    <tr>\n",
       "      <th>1</th>\n",
       "      <td>Lively sunny landscape of a kerala village rea...</td>\n",
       "    </tr>\n",
       "    <tr>\n",
       "      <th>2</th>\n",
       "      <td>portrait of a young spiderman handsome but joy...</td>\n",
       "    </tr>\n",
       "    <tr>\n",
       "      <th>3</th>\n",
       "      <td>Saladin in the style of Berserk, artstation, c...</td>\n",
       "    </tr>\n",
       "    <tr>\n",
       "      <th>4</th>\n",
       "      <td>donald trump, lord of the undead, portrait pai...</td>\n",
       "    </tr>\n",
       "  </tbody>\n",
       "</table>\n",
       "</div>"
      ],
      "text/plain": [
       "                                              Prompt\n",
       "0  tarot pele hawaiian fire goddess holding molte...\n",
       "1  Lively sunny landscape of a kerala village rea...\n",
       "2  portrait of a young spiderman handsome but joy...\n",
       "3  Saladin in the style of Berserk, artstation, c...\n",
       "4  donald trump, lord of the undead, portrait pai..."
      ]
     },
     "execution_count": 1,
     "metadata": {},
     "output_type": "execute_result"
    }
   ],
   "source": [
    "import pandas as pd\n",
    "df = pd.concat(objs=[\n",
    "    pd.read_csv(filepath_or_buffer='/kaggle/input/gustavosta-nlp-research-prompts/train.csv', ),\n",
    "    pd.read_csv(filepath_or_buffer='/kaggle/input/gustavosta-nlp-research-prompts/test.csv', )\n",
    "]).sample(frac=1, random_state=2022).reset_index().drop(columns=['index']).drop_duplicates(ignore_index=True)\n",
    "df.head()"
   ]
  },
  {
   "cell_type": "code",
   "execution_count": 2,
   "id": "0b11d314",
   "metadata": {
    "execution": {
     "iopub.execute_input": "2023-12-03T16:20:11.196005Z",
     "iopub.status.busy": "2023-12-03T16:20:11.195550Z",
     "iopub.status.idle": "2023-12-03T16:20:11.202730Z",
     "shell.execute_reply": "2023-12-03T16:20:11.201543Z"
    },
    "papermill": {
     "duration": 0.013484,
     "end_time": "2023-12-03T16:20:11.205143",
     "exception": false,
     "start_time": "2023-12-03T16:20:11.191659",
     "status": "completed"
    },
    "tags": []
   },
   "outputs": [
    {
     "data": {
      "text/plain": [
       "(67101, 1)"
      ]
     },
     "execution_count": 2,
     "metadata": {},
     "output_type": "execute_result"
    }
   ],
   "source": [
    "df.shape"
   ]
  },
  {
   "cell_type": "code",
   "execution_count": 3,
   "id": "c6e57810",
   "metadata": {
    "execution": {
     "iopub.execute_input": "2023-12-03T16:20:11.212398Z",
     "iopub.status.busy": "2023-12-03T16:20:11.212001Z",
     "iopub.status.idle": "2023-12-03T16:20:11.310364Z",
     "shell.execute_reply": "2023-12-03T16:20:11.309093Z"
    },
    "papermill": {
     "duration": 0.105117,
     "end_time": "2023-12-03T16:20:11.313118",
     "exception": false,
     "start_time": "2023-12-03T16:20:11.208001",
     "status": "completed"
    },
    "tags": []
   },
   "outputs": [
    {
     "data": {
      "text/plain": [
       "Prompt    67101\n",
       "dtype: int64"
      ]
     },
     "execution_count": 3,
     "metadata": {},
     "output_type": "execute_result"
    }
   ],
   "source": [
    "df.nunique()"
   ]
  }
 ],
 "metadata": {
  "kaggle": {
   "accelerator": "none",
   "dataSources": [
    {
     "datasetId": 4047029,
     "sourceId": 7034970,
     "sourceType": "datasetVersion"
    }
   ],
   "dockerImageVersionId": 30587,
   "isGpuEnabled": false,
   "isInternetEnabled": true,
   "language": "python",
   "sourceType": "notebook"
  },
  "kernelspec": {
   "display_name": "Python 3",
   "language": "python",
   "name": "python3"
  },
  "language_info": {
   "codemirror_mode": {
    "name": "ipython",
    "version": 3
   },
   "file_extension": ".py",
   "mimetype": "text/x-python",
   "name": "python",
   "nbconvert_exporter": "python",
   "pygments_lexer": "ipython3",
   "version": "3.10.12"
  },
  "papermill": {
   "default_parameters": {},
   "duration": 5.309005,
   "end_time": "2023-12-03T16:20:11.836874",
   "environment_variables": {},
   "exception": null,
   "input_path": "__notebook__.ipynb",
   "output_path": "__notebook__.ipynb",
   "parameters": {},
   "start_time": "2023-12-03T16:20:06.527869",
   "version": "2.4.0"
  }
 },
 "nbformat": 4,
 "nbformat_minor": 5
}
