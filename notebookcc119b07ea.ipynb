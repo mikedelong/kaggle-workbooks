{
 "cells": [
  {
   "cell_type": "code",
   "execution_count": 1,
   "id": "73564e34",
   "metadata": {
    "execution": {
     "iopub.execute_input": "2024-04-02T12:02:04.686958Z",
     "iopub.status.busy": "2024-04-02T12:02:04.686051Z",
     "iopub.status.idle": "2024-04-02T12:02:06.431907Z",
     "shell.execute_reply": "2024-04-02T12:02:06.430548Z"
    },
    "papermill": {
     "duration": 1.752913,
     "end_time": "2024-04-02T12:02:06.434357",
     "exception": false,
     "start_time": "2024-04-02T12:02:04.681444",
     "status": "completed"
    },
    "tags": []
   },
   "outputs": [
    {
     "data": {
      "text/html": [
       "<div>\n",
       "<style scoped>\n",
       "    .dataframe tbody tr th:only-of-type {\n",
       "        vertical-align: middle;\n",
       "    }\n",
       "\n",
       "    .dataframe tbody tr th {\n",
       "        vertical-align: top;\n",
       "    }\n",
       "\n",
       "    .dataframe thead th {\n",
       "        text-align: right;\n",
       "    }\n",
       "</style>\n",
       "<table border=\"1\" class=\"dataframe\">\n",
       "  <thead>\n",
       "    <tr style=\"text-align: right;\">\n",
       "      <th></th>\n",
       "      <th>Liste cheat white</th>\n",
       "      <th>Liste cheat black</th>\n",
       "      <th>Game</th>\n",
       "      <th>Elo White</th>\n",
       "      <th>Elo Black</th>\n",
       "      <th>Score</th>\n",
       "    </tr>\n",
       "  </thead>\n",
       "  <tbody>\n",
       "    <tr>\n",
       "      <th>0</th>\n",
       "      <td>00000000001111101010111010100110000001001111</td>\n",
       "      <td>0000000000111001000000001100100000000111000</td>\n",
       "      <td>1. d4 e6 2. c4 d5 3. Nc3 Be7 4. Nf3 Nf6 5. Bf4...</td>\n",
       "      <td>1001</td>\n",
       "      <td>-1</td>\n",
       "      <td>1/2-1/2</td>\n",
       "    </tr>\n",
       "    <tr>\n",
       "      <th>1</th>\n",
       "      <td>0000000000000010111101100000100111000111101111001</td>\n",
       "      <td>0000000000110111110111111111111111111011111111111</td>\n",
       "      <td>1. d4 c5 2. c4 cxd4 3. Qxd4 Nc6 4. Qd1 e6 5. N...</td>\n",
       "      <td>1001</td>\n",
       "      <td>-1</td>\n",
       "      <td>1/2-1/2</td>\n",
       "    </tr>\n",
       "    <tr>\n",
       "      <th>2</th>\n",
       "      <td>0000000000111001110111100111111110101011110111...</td>\n",
       "      <td>0000000000111111100001111111111111111111010101...</td>\n",
       "      <td>1. e4 e5 2. d4 exd4 3. Qxd4 Nc6 4. Qd3 b6 5. B...</td>\n",
       "      <td>1001</td>\n",
       "      <td>-1</td>\n",
       "      <td>1/2-1/2</td>\n",
       "    </tr>\n",
       "    <tr>\n",
       "      <th>3</th>\n",
       "      <td>000000000011111101111111110110101111111</td>\n",
       "      <td>00000000000001101001000011100111100110</td>\n",
       "      <td>1. e4 e5 2. Nf3 Nf6 3. Nc3 Bc5 4. Bc4 d6 5. O-...</td>\n",
       "      <td>1002</td>\n",
       "      <td>-1</td>\n",
       "      <td>1/2-1/2</td>\n",
       "    </tr>\n",
       "    <tr>\n",
       "      <th>4</th>\n",
       "      <td>0000000000001000111010111101001010011010011011...</td>\n",
       "      <td>0000000000000000010000001110011010100010001100...</td>\n",
       "      <td>1. d4 d5 2. c4 Nf6 3. Nc3 e6 4. Bg5 Be7 5. e3 ...</td>\n",
       "      <td>1002</td>\n",
       "      <td>-1</td>\n",
       "      <td>1/2-1/2</td>\n",
       "    </tr>\n",
       "  </tbody>\n",
       "</table>\n",
       "</div>"
      ],
      "text/plain": [
       "                                   Liste cheat white  \\\n",
       "0       00000000001111101010111010100110000001001111   \n",
       "1  0000000000000010111101100000100111000111101111001   \n",
       "2  0000000000111001110111100111111110101011110111...   \n",
       "3            000000000011111101111111110110101111111   \n",
       "4  0000000000001000111010111101001010011010011011...   \n",
       "\n",
       "                                   Liste cheat black  \\\n",
       "0        0000000000111001000000001100100000000111000   \n",
       "1  0000000000110111110111111111111111111011111111111   \n",
       "2  0000000000111111100001111111111111111111010101...   \n",
       "3             00000000000001101001000011100111100110   \n",
       "4  0000000000000000010000001110011010100010001100...   \n",
       "\n",
       "                                                Game  Elo White  Elo Black  \\\n",
       "0  1. d4 e6 2. c4 d5 3. Nc3 Be7 4. Nf3 Nf6 5. Bf4...       1001         -1   \n",
       "1  1. d4 c5 2. c4 cxd4 3. Qxd4 Nc6 4. Qd1 e6 5. N...       1001         -1   \n",
       "2  1. e4 e5 2. d4 exd4 3. Qxd4 Nc6 4. Qd3 b6 5. B...       1001         -1   \n",
       "3  1. e4 e5 2. Nf3 Nf6 3. Nc3 Bc5 4. Bc4 d6 5. O-...       1002         -1   \n",
       "4  1. d4 d5 2. c4 Nf6 3. Nc3 e6 4. Bg5 Be7 5. e3 ...       1002         -1   \n",
       "\n",
       "     Score  \n",
       "0  1/2-1/2  \n",
       "1  1/2-1/2  \n",
       "2  1/2-1/2  \n",
       "3  1/2-1/2  \n",
       "4  1/2-1/2  "
      ]
     },
     "execution_count": 1,
     "metadata": {},
     "output_type": "execute_result"
    }
   ],
   "source": [
    "import pandas as pd\n",
    "\n",
    "GAMES = '/kaggle/input/chess-cheating-dataset/Games.csv'\n",
    "\n",
    "df = pd.read_csv(filepath_or_buffer=GAMES)\n",
    "df.head()"
   ]
  },
  {
   "cell_type": "code",
   "execution_count": 2,
   "id": "4fb2e24e",
   "metadata": {
    "execution": {
     "iopub.execute_input": "2024-04-02T12:02:06.440757Z",
     "iopub.status.busy": "2024-04-02T12:02:06.440359Z",
     "iopub.status.idle": "2024-04-02T12:02:06.447142Z",
     "shell.execute_reply": "2024-04-02T12:02:06.446176Z"
    },
    "papermill": {
     "duration": 0.012095,
     "end_time": "2024-04-02T12:02:06.449027",
     "exception": false,
     "start_time": "2024-04-02T12:02:06.436932",
     "status": "completed"
    },
    "tags": []
   },
   "outputs": [
    {
     "data": {
      "text/plain": [
       "(48933, 6)"
      ]
     },
     "execution_count": 2,
     "metadata": {},
     "output_type": "execute_result"
    }
   ],
   "source": [
    "df.shape"
   ]
  },
  {
   "cell_type": "code",
   "execution_count": 3,
   "id": "f54825d4",
   "metadata": {
    "execution": {
     "iopub.execute_input": "2024-04-02T12:02:06.454973Z",
     "iopub.status.busy": "2024-04-02T12:02:06.454648Z",
     "iopub.status.idle": "2024-04-02T12:02:06.489760Z",
     "shell.execute_reply": "2024-04-02T12:02:06.488310Z"
    },
    "papermill": {
     "duration": 0.040614,
     "end_time": "2024-04-02T12:02:06.491957",
     "exception": false,
     "start_time": "2024-04-02T12:02:06.451343",
     "status": "completed"
    },
    "tags": []
   },
   "outputs": [
    {
     "name": "stdout",
     "output_type": "stream",
     "text": [
      "<class 'pandas.core.frame.DataFrame'>\n",
      "RangeIndex: 48933 entries, 0 to 48932\n",
      "Data columns (total 6 columns):\n",
      " #   Column             Non-Null Count  Dtype \n",
      "---  ------             --------------  ----- \n",
      " 0   Liste cheat white  48933 non-null  object\n",
      " 1   Liste cheat black  48933 non-null  object\n",
      " 2   Game               48932 non-null  object\n",
      " 3   Elo White          48933 non-null  int64 \n",
      " 4   Elo Black          48933 non-null  int64 \n",
      " 5   Score              48933 non-null  object\n",
      "dtypes: int64(2), object(4)\n",
      "memory usage: 2.2+ MB\n"
     ]
    }
   ],
   "source": [
    "df.info()"
   ]
  },
  {
   "cell_type": "code",
   "execution_count": 4,
   "id": "0cdd363f",
   "metadata": {
    "execution": {
     "iopub.execute_input": "2024-04-02T12:02:06.498137Z",
     "iopub.status.busy": "2024-04-02T12:02:06.497800Z",
     "iopub.status.idle": "2024-04-02T12:02:06.562349Z",
     "shell.execute_reply": "2024-04-02T12:02:06.561254Z"
    },
    "papermill": {
     "duration": 0.070162,
     "end_time": "2024-04-02T12:02:06.564594",
     "exception": false,
     "start_time": "2024-04-02T12:02:06.494432",
     "status": "completed"
    },
    "tags": []
   },
   "outputs": [
    {
     "data": {
      "text/plain": [
       "Liste cheat white    18957\n",
       "Liste cheat black    22726\n",
       "Game                 46672\n",
       "Elo White             1236\n",
       "Elo Black             1125\n",
       "Score                    3\n",
       "dtype: int64"
      ]
     },
     "execution_count": 4,
     "metadata": {},
     "output_type": "execute_result"
    }
   ],
   "source": [
    "df.nunique()"
   ]
  }
 ],
 "metadata": {
  "kaggle": {
   "accelerator": "none",
   "dataSources": [
    {
     "datasetId": 4711983,
     "sourceId": 8001562,
     "sourceType": "datasetVersion"
    }
   ],
   "dockerImageVersionId": 30673,
   "isGpuEnabled": false,
   "isInternetEnabled": true,
   "language": "python",
   "sourceType": "notebook"
  },
  "kernelspec": {
   "display_name": "Python 3",
   "language": "python",
   "name": "python3"
  },
  "language_info": {
   "codemirror_mode": {
    "name": "ipython",
    "version": 3
   },
   "file_extension": ".py",
   "mimetype": "text/x-python",
   "name": "python",
   "nbconvert_exporter": "python",
   "pygments_lexer": "ipython3",
   "version": "3.10.13"
  },
  "papermill": {
   "default_parameters": {},
   "duration": 4.818713,
   "end_time": "2024-04-02T12:02:06.986696",
   "environment_variables": {},
   "exception": null,
   "input_path": "__notebook__.ipynb",
   "output_path": "__notebook__.ipynb",
   "parameters": {},
   "start_time": "2024-04-02T12:02:02.167983",
   "version": "2.5.0"
  }
 },
 "nbformat": 4,
 "nbformat_minor": 5
}
