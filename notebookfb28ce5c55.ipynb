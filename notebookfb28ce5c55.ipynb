{
 "cells": [
  {
   "cell_type": "markdown",
   "id": "0b0a7375",
   "metadata": {
    "papermill": {
     "duration": 0.004653,
     "end_time": "2025-02-24T23:00:36.558730",
     "exception": false,
     "start_time": "2025-02-24T23:00:36.554077",
     "status": "completed"
    },
    "tags": []
   },
   "source": [
    "Let's load up our data and do a little cleanup. We have a column that is always null and another that is redundant, so we can drop them both."
   ]
  },
  {
   "cell_type": "code",
   "execution_count": 1,
   "id": "6874c82c",
   "metadata": {
    "_cell_guid": "b1076dfc-b9ad-4769-8c92-a6c4dae69d19",
    "_uuid": "8f2839f25d086af736a60e9eeb907d3b93b6e0e5",
    "execution": {
     "iopub.execute_input": "2025-02-24T23:00:36.569522Z",
     "iopub.status.busy": "2025-02-24T23:00:36.569062Z",
     "iopub.status.idle": "2025-02-24T23:00:37.940282Z",
     "shell.execute_reply": "2025-02-24T23:00:37.939084Z"
    },
    "papermill": {
     "duration": 1.378367,
     "end_time": "2025-02-24T23:00:37.942161",
     "exception": false,
     "start_time": "2025-02-24T23:00:36.563794",
     "status": "completed"
    },
    "tags": []
   },
   "outputs": [
    {
     "data": {
      "text/html": [
       "<div>\n",
       "<style scoped>\n",
       "    .dataframe tbody tr th:only-of-type {\n",
       "        vertical-align: middle;\n",
       "    }\n",
       "\n",
       "    .dataframe tbody tr th {\n",
       "        vertical-align: top;\n",
       "    }\n",
       "\n",
       "    .dataframe thead th {\n",
       "        text-align: right;\n",
       "    }\n",
       "</style>\n",
       "<table border=\"1\" class=\"dataframe\">\n",
       "  <thead>\n",
       "    <tr style=\"text-align: right;\">\n",
       "      <th></th>\n",
       "      <th>name</th>\n",
       "      <th>id</th>\n",
       "      <th>nametype</th>\n",
       "      <th>recclass</th>\n",
       "      <th>mass (g)</th>\n",
       "      <th>fall</th>\n",
       "      <th>year</th>\n",
       "      <th>reclat</th>\n",
       "      <th>reclong</th>\n",
       "    </tr>\n",
       "  </thead>\n",
       "  <tbody>\n",
       "    <tr>\n",
       "      <th>0</th>\n",
       "      <td>Aachen</td>\n",
       "      <td>1</td>\n",
       "      <td>Valid</td>\n",
       "      <td>L5</td>\n",
       "      <td>21.0</td>\n",
       "      <td>Fell</td>\n",
       "      <td>1880.0</td>\n",
       "      <td>50.77500</td>\n",
       "      <td>6.08333</td>\n",
       "    </tr>\n",
       "    <tr>\n",
       "      <th>1</th>\n",
       "      <td>Aarhus</td>\n",
       "      <td>2</td>\n",
       "      <td>Valid</td>\n",
       "      <td>H6</td>\n",
       "      <td>720.0</td>\n",
       "      <td>Fell</td>\n",
       "      <td>1951.0</td>\n",
       "      <td>56.18333</td>\n",
       "      <td>10.23333</td>\n",
       "    </tr>\n",
       "    <tr>\n",
       "      <th>2</th>\n",
       "      <td>Abee</td>\n",
       "      <td>6</td>\n",
       "      <td>Valid</td>\n",
       "      <td>EH4</td>\n",
       "      <td>107000.0</td>\n",
       "      <td>Fell</td>\n",
       "      <td>1952.0</td>\n",
       "      <td>54.21667</td>\n",
       "      <td>-113.00000</td>\n",
       "    </tr>\n",
       "    <tr>\n",
       "      <th>3</th>\n",
       "      <td>Acapulco</td>\n",
       "      <td>10</td>\n",
       "      <td>Valid</td>\n",
       "      <td>Acapulcoite</td>\n",
       "      <td>1914.0</td>\n",
       "      <td>Fell</td>\n",
       "      <td>1976.0</td>\n",
       "      <td>16.88333</td>\n",
       "      <td>-99.90000</td>\n",
       "    </tr>\n",
       "    <tr>\n",
       "      <th>4</th>\n",
       "      <td>Achiras</td>\n",
       "      <td>370</td>\n",
       "      <td>Valid</td>\n",
       "      <td>L6</td>\n",
       "      <td>780.0</td>\n",
       "      <td>Fell</td>\n",
       "      <td>1902.0</td>\n",
       "      <td>-33.16667</td>\n",
       "      <td>-64.95000</td>\n",
       "    </tr>\n",
       "  </tbody>\n",
       "</table>\n",
       "</div>"
      ],
      "text/plain": [
       "       name   id nametype     recclass  mass (g)  fall    year    reclat  \\\n",
       "0    Aachen    1    Valid           L5      21.0  Fell  1880.0  50.77500   \n",
       "1    Aarhus    2    Valid           H6     720.0  Fell  1951.0  56.18333   \n",
       "2      Abee    6    Valid          EH4  107000.0  Fell  1952.0  54.21667   \n",
       "3  Acapulco   10    Valid  Acapulcoite    1914.0  Fell  1976.0  16.88333   \n",
       "4   Achiras  370    Valid           L6     780.0  Fell  1902.0 -33.16667   \n",
       "\n",
       "     reclong  \n",
       "0    6.08333  \n",
       "1   10.23333  \n",
       "2 -113.00000  \n",
       "3  -99.90000  \n",
       "4  -64.95000  "
      ]
     },
     "execution_count": 1,
     "metadata": {},
     "output_type": "execute_result"
    }
   ],
   "source": [
    "import pandas as pd\n",
    "\n",
    "DATA = '/kaggle/input/meteorite-landings-on-earth-data/Meteorite_Landings.csv'\n",
    "df = pd.read_csv(filepath_or_buffer=DATA).drop(columns=['Unnamed: 10', 'GeoLocation'])\n",
    "df.head()"
   ]
  },
  {
   "cell_type": "markdown",
   "id": "48405907",
   "metadata": {
    "papermill": {
     "duration": 0.004467,
     "end_time": "2025-02-24T23:00:37.951443",
     "exception": false,
     "start_time": "2025-02-24T23:00:37.946976",
     "status": "completed"
    },
    "tags": []
   },
   "source": [
    "Let's take a quick look at a couple of columns that only have two different values."
   ]
  },
  {
   "cell_type": "code",
   "execution_count": 2,
   "id": "7931521b",
   "metadata": {
    "execution": {
     "iopub.execute_input": "2025-02-24T23:00:37.963190Z",
     "iopub.status.busy": "2025-02-24T23:00:37.962583Z",
     "iopub.status.idle": "2025-02-24T23:00:37.980906Z",
     "shell.execute_reply": "2025-02-24T23:00:37.979130Z"
    },
    "papermill": {
     "duration": 0.025931,
     "end_time": "2025-02-24T23:00:37.982816",
     "exception": false,
     "start_time": "2025-02-24T23:00:37.956885",
     "status": "completed"
    },
    "tags": []
   },
   "outputs": [
    {
     "data": {
      "text/plain": [
       "{'Valid': 45641, 'Relict': 75}"
      ]
     },
     "execution_count": 2,
     "metadata": {},
     "output_type": "execute_result"
    }
   ],
   "source": [
    "df['nametype'].value_counts().to_dict()"
   ]
  },
  {
   "cell_type": "code",
   "execution_count": 3,
   "id": "adf2f95a",
   "metadata": {
    "execution": {
     "iopub.execute_input": "2025-02-24T23:00:37.993221Z",
     "iopub.status.busy": "2025-02-24T23:00:37.992757Z",
     "iopub.status.idle": "2025-02-24T23:00:38.003597Z",
     "shell.execute_reply": "2025-02-24T23:00:38.002181Z"
    },
    "papermill": {
     "duration": 0.018283,
     "end_time": "2025-02-24T23:00:38.005676",
     "exception": false,
     "start_time": "2025-02-24T23:00:37.987393",
     "status": "completed"
    },
    "tags": []
   },
   "outputs": [
    {
     "data": {
      "text/plain": [
       "{'Found': 44609, 'Fell': 1107}"
      ]
     },
     "execution_count": 3,
     "metadata": {},
     "output_type": "execute_result"
    }
   ],
   "source": [
    "df['fall'].value_counts().to_dict()"
   ]
  },
  {
   "cell_type": "markdown",
   "id": "225aa631",
   "metadata": {
    "papermill": {
     "duration": 0.004899,
     "end_time": "2025-02-24T23:00:38.015716",
     "exception": false,
     "start_time": "2025-02-24T23:00:38.010817",
     "status": "completed"
    },
    "tags": []
   },
   "source": [
    "Let's start by making some exploratory graphs."
   ]
  },
  {
   "cell_type": "code",
   "execution_count": 4,
   "id": "afbc2619",
   "metadata": {
    "execution": {
     "iopub.execute_input": "2025-02-24T23:00:38.027099Z",
     "iopub.status.busy": "2025-02-24T23:00:38.026681Z",
     "iopub.status.idle": "2025-02-24T23:00:41.783447Z",
     "shell.execute_reply": "2025-02-24T23:00:41.782365Z"
    },
    "papermill": {
     "duration": 3.764356,
     "end_time": "2025-02-24T23:00:41.785605",
     "exception": false,
     "start_time": "2025-02-24T23:00:38.021249",
     "status": "completed"
    },
    "tags": []
   },
   "outputs": [
    {
     "data": {
      "text/html": [
       "<iframe\n",
       "    scrolling=\"no\"\n",
       "    width=\"100%\"\n",
       "    height=\"545px\"\n",
       "    src=\"iframe_figures/figure_4.html\"\n",
       "    frameborder=\"0\"\n",
       "    allowfullscreen\n",
       "></iframe>\n"
      ]
     },
     "metadata": {},
     "output_type": "display_data"
    }
   ],
   "source": [
    "from plotly import express\n",
    "from plotly import io\n",
    "\n",
    "io.renderers.default = 'iframe'\n",
    "express.bar(data_frame=df['recclass'].value_counts().to_frame().reset_index().head(n=40), x='recclass', y='count')"
   ]
  },
  {
   "cell_type": "markdown",
   "id": "73083cba",
   "metadata": {
    "papermill": {
     "duration": 0.005092,
     "end_time": "2025-02-24T23:00:41.796545",
     "exception": false,
     "start_time": "2025-02-24T23:00:41.791453",
     "status": "completed"
    },
    "tags": []
   },
   "source": [
    "Okay that's interesting. Our dataset is dominated by eight classes, and then there's a long tail."
   ]
  },
  {
   "cell_type": "markdown",
   "id": "ad5f5f31",
   "metadata": {
    "papermill": {
     "duration": 0.004246,
     "end_time": "2025-02-24T23:00:41.805786",
     "exception": false,
     "start_time": "2025-02-24T23:00:41.801540",
     "status": "completed"
    },
    "tags": []
   },
   "source": [
    "Let's take a look at the mass data; how do we expect it to be distributed? There are probably meteors too small to be noticed, but also a practical limit on how large a meteor could be, so we might expect a normal distribution. "
   ]
  },
  {
   "cell_type": "code",
   "execution_count": 5,
   "id": "7f6dc7e3",
   "metadata": {
    "execution": {
     "iopub.execute_input": "2025-02-24T23:00:41.819566Z",
     "iopub.status.busy": "2025-02-24T23:00:41.819196Z",
     "iopub.status.idle": "2025-02-24T23:00:42.019134Z",
     "shell.execute_reply": "2025-02-24T23:00:42.017935Z"
    },
    "papermill": {
     "duration": 0.210136,
     "end_time": "2025-02-24T23:00:42.021386",
     "exception": false,
     "start_time": "2025-02-24T23:00:41.811250",
     "status": "completed"
    },
    "tags": []
   },
   "outputs": [
    {
     "data": {
      "text/html": [
       "<iframe\n",
       "    scrolling=\"no\"\n",
       "    width=\"100%\"\n",
       "    height=\"545px\"\n",
       "    src=\"iframe_figures/figure_5.html\"\n",
       "    frameborder=\"0\"\n",
       "    allowfullscreen\n",
       "></iframe>\n"
      ]
     },
     "metadata": {},
     "output_type": "display_data"
    }
   ],
   "source": [
    "from warnings import filterwarnings\n",
    "\n",
    "filterwarnings(action='ignore', category=RuntimeWarning)\n",
    "express.histogram(data_frame=df[df['mass (g)'] < 100], x='mass (g)')"
   ]
  },
  {
   "cell_type": "markdown",
   "id": "98064421",
   "metadata": {
    "papermill": {
     "duration": 0.00526,
     "end_time": "2025-02-24T23:00:42.034564",
     "exception": false,
     "start_time": "2025-02-24T23:00:42.029304",
     "status": "completed"
    },
    "tags": []
   },
   "source": [
    "That's not a normal distribution, but it's definitely got only one mode. We had to cut off the right tail for clarity but we didn't really lose any thing crucial to the meaning of this graph by doing so."
   ]
  },
  {
   "cell_type": "markdown",
   "id": "99b5a951",
   "metadata": {
    "papermill": {
     "duration": 0.005821,
     "end_time": "2025-02-24T23:00:42.048794",
     "exception": false,
     "start_time": "2025-02-24T23:00:42.042973",
     "status": "completed"
    },
    "tags": []
   },
   "source": [
    "We have some annual data, so let's take a look at that too."
   ]
  },
  {
   "cell_type": "code",
   "execution_count": 6,
   "id": "73ef3ee2",
   "metadata": {
    "execution": {
     "iopub.execute_input": "2025-02-24T23:00:42.064052Z",
     "iopub.status.busy": "2025-02-24T23:00:42.063385Z",
     "iopub.status.idle": "2025-02-24T23:00:42.203166Z",
     "shell.execute_reply": "2025-02-24T23:00:42.201981Z"
    },
    "papermill": {
     "duration": 0.150912,
     "end_time": "2025-02-24T23:00:42.205234",
     "exception": false,
     "start_time": "2025-02-24T23:00:42.054322",
     "status": "completed"
    },
    "tags": []
   },
   "outputs": [
    {
     "data": {
      "text/html": [
       "<iframe\n",
       "    scrolling=\"no\"\n",
       "    width=\"100%\"\n",
       "    height=\"545px\"\n",
       "    src=\"iframe_figures/figure_6.html\"\n",
       "    frameborder=\"0\"\n",
       "    allowfullscreen\n",
       "></iframe>\n"
      ]
     },
     "metadata": {},
     "output_type": "display_data"
    }
   ],
   "source": [
    "express.histogram(data_frame=df[(df['year'] > 1850) & (df['year'] < 2025)], x='year')"
   ]
  },
  {
   "cell_type": "markdown",
   "id": "f3f680cc",
   "metadata": {
    "papermill": {
     "duration": 0.006055,
     "end_time": "2025-02-24T23:00:42.216438",
     "exception": false,
     "start_time": "2025-02-24T23:00:42.210383",
     "status": "completed"
    },
    "tags": []
   },
   "source": [
    "That's an interesting plot. Do we believe that there were almost no meteors prior to 1974 and then suddenly there were thousands per year? No, it seems more likely there was sudden change in people looking for meteors and the methods they used."
   ]
  },
  {
   "cell_type": "markdown",
   "id": "4137e308",
   "metadata": {
    "papermill": {
     "duration": 0.004498,
     "end_time": "2025-02-24T23:00:42.226083",
     "exception": false,
     "start_time": "2025-02-24T23:00:42.221585",
     "status": "completed"
    },
    "tags": []
   },
   "source": [
    "We knew this moment was coming; let's make a map."
   ]
  },
  {
   "cell_type": "code",
   "execution_count": 7,
   "id": "89f39127",
   "metadata": {
    "execution": {
     "iopub.execute_input": "2025-02-24T23:00:42.237730Z",
     "iopub.status.busy": "2025-02-24T23:00:42.237279Z",
     "iopub.status.idle": "2025-02-24T23:00:42.562185Z",
     "shell.execute_reply": "2025-02-24T23:00:42.560994Z"
    },
    "papermill": {
     "duration": 0.33327,
     "end_time": "2025-02-24T23:00:42.564237",
     "exception": false,
     "start_time": "2025-02-24T23:00:42.230967",
     "status": "completed"
    },
    "tags": []
   },
   "outputs": [
    {
     "data": {
      "text/html": [
       "<iframe\n",
       "    scrolling=\"no\"\n",
       "    width=\"100%\"\n",
       "    height=\"820\"\n",
       "    src=\"iframe_figures/figure_7.html\"\n",
       "    frameborder=\"0\"\n",
       "    allowfullscreen\n",
       "></iframe>\n"
      ]
     },
     "metadata": {},
     "output_type": "display_data"
    }
   ],
   "source": [
    "express.scatter_mapbox(data_frame=df[(df['year'] > 1970) & (df['year'] < 2025)], lat='reclat', lon='reclong', color='year',\n",
    "                       mapbox_style='open-street-map', height=800, zoom=1, center={'lat': 0, 'lon': 0}, hover_name='name')"
   ]
  },
  {
   "cell_type": "markdown",
   "id": "b8f5e8b7",
   "metadata": {
    "papermill": {
     "duration": 0.004989,
     "end_time": "2025-02-24T23:00:42.575731",
     "exception": false,
     "start_time": "2025-02-24T23:00:42.570742",
     "status": "completed"
    },
    "tags": []
   },
   "source": [
    "Interestingly, there are parts of the world where we don't know much about their meteors until very recently."
   ]
  },
  {
   "cell_type": "markdown",
   "id": "052981ca",
   "metadata": {
    "papermill": {
     "duration": 0.004644,
     "end_time": "2025-02-24T23:00:42.585977",
     "exception": false,
     "start_time": "2025-02-24T23:00:42.581333",
     "status": "completed"
    },
    "tags": []
   },
   "source": [
    "Let's take another look, but color by the mass."
   ]
  },
  {
   "cell_type": "code",
   "execution_count": 8,
   "id": "e9a6a791",
   "metadata": {
    "execution": {
     "iopub.execute_input": "2025-02-24T23:00:42.598030Z",
     "iopub.status.busy": "2025-02-24T23:00:42.597625Z",
     "iopub.status.idle": "2025-02-24T23:00:42.832160Z",
     "shell.execute_reply": "2025-02-24T23:00:42.830850Z"
    },
    "papermill": {
     "duration": 0.243469,
     "end_time": "2025-02-24T23:00:42.834412",
     "exception": false,
     "start_time": "2025-02-24T23:00:42.590943",
     "status": "completed"
    },
    "tags": []
   },
   "outputs": [
    {
     "data": {
      "text/html": [
       "<iframe\n",
       "    scrolling=\"no\"\n",
       "    width=\"100%\"\n",
       "    height=\"820\"\n",
       "    src=\"iframe_figures/figure_8.html\"\n",
       "    frameborder=\"0\"\n",
       "    allowfullscreen\n",
       "></iframe>\n"
      ]
     },
     "metadata": {},
     "output_type": "display_data"
    }
   ],
   "source": [
    "express.scatter_mapbox(data_frame=df[df['mass (g)'] < 1000], lat='reclat', lon='reclong', color='mass (g)',\n",
    "                       mapbox_style='open-street-map', height=800, zoom=1, center={'lat': 0, 'lon': 0}, hover_name='name')"
   ]
  },
  {
   "cell_type": "markdown",
   "id": "22e897d5",
   "metadata": {
    "papermill": {
     "duration": 0.005158,
     "end_time": "2025-02-24T23:00:42.846824",
     "exception": false,
     "start_time": "2025-02-24T23:00:42.841666",
     "status": "completed"
    },
    "tags": []
   },
   "source": [
    "The distribution of mass doesn't show a clear geographic pattern, although maybe if we squint we can see that smaller meteors are more prevalent near populated areas."
   ]
  }
 ],
 "metadata": {
  "kaggle": {
   "accelerator": "none",
   "dataSources": [
    {
     "datasetId": 6567293,
     "sourceId": 10608577,
     "sourceType": "datasetVersion"
    }
   ],
   "dockerImageVersionId": 30918,
   "isGpuEnabled": false,
   "isInternetEnabled": true,
   "language": "python",
   "sourceType": "notebook"
  },
  "kernelspec": {
   "display_name": "Python 3",
   "language": "python",
   "name": "python3"
  },
  "language_info": {
   "codemirror_mode": {
    "name": "ipython",
    "version": 3
   },
   "file_extension": ".py",
   "mimetype": "text/x-python",
   "name": "python",
   "nbconvert_exporter": "python",
   "pygments_lexer": "ipython3",
   "version": "3.10.12"
  },
  "papermill": {
   "default_parameters": {},
   "duration": 10.114728,
   "end_time": "2025-02-24T23:00:43.573707",
   "environment_variables": {},
   "exception": null,
   "input_path": "__notebook__.ipynb",
   "output_path": "__notebook__.ipynb",
   "parameters": {},
   "start_time": "2025-02-24T23:00:33.458979",
   "version": "2.6.0"
  }
 },
 "nbformat": 4,
 "nbformat_minor": 5
}
