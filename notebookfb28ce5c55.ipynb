{
 "cells": [
  {
   "cell_type": "code",
   "execution_count": 1,
   "id": "9675fe6f",
   "metadata": {
    "_cell_guid": "b1076dfc-b9ad-4769-8c92-a6c4dae69d19",
    "_uuid": "8f2839f25d086af736a60e9eeb907d3b93b6e0e5",
    "execution": {
     "iopub.execute_input": "2025-02-24T22:25:56.018636Z",
     "iopub.status.busy": "2025-02-24T22:25:56.018235Z",
     "iopub.status.idle": "2025-02-24T22:25:57.172683Z",
     "shell.execute_reply": "2025-02-24T22:25:57.171551Z"
    },
    "papermill": {
     "duration": 1.160635,
     "end_time": "2025-02-24T22:25:57.174492",
     "exception": false,
     "start_time": "2025-02-24T22:25:56.013857",
     "status": "completed"
    },
    "tags": []
   },
   "outputs": [
    {
     "data": {
      "text/html": [
       "<div>\n",
       "<style scoped>\n",
       "    .dataframe tbody tr th:only-of-type {\n",
       "        vertical-align: middle;\n",
       "    }\n",
       "\n",
       "    .dataframe tbody tr th {\n",
       "        vertical-align: top;\n",
       "    }\n",
       "\n",
       "    .dataframe thead th {\n",
       "        text-align: right;\n",
       "    }\n",
       "</style>\n",
       "<table border=\"1\" class=\"dataframe\">\n",
       "  <thead>\n",
       "    <tr style=\"text-align: right;\">\n",
       "      <th></th>\n",
       "      <th>name</th>\n",
       "      <th>id</th>\n",
       "      <th>nametype</th>\n",
       "      <th>recclass</th>\n",
       "      <th>mass (g)</th>\n",
       "      <th>fall</th>\n",
       "      <th>year</th>\n",
       "      <th>reclat</th>\n",
       "      <th>reclong</th>\n",
       "    </tr>\n",
       "  </thead>\n",
       "  <tbody>\n",
       "    <tr>\n",
       "      <th>0</th>\n",
       "      <td>Aachen</td>\n",
       "      <td>1</td>\n",
       "      <td>Valid</td>\n",
       "      <td>L5</td>\n",
       "      <td>21.0</td>\n",
       "      <td>Fell</td>\n",
       "      <td>1880.0</td>\n",
       "      <td>50.77500</td>\n",
       "      <td>6.08333</td>\n",
       "    </tr>\n",
       "    <tr>\n",
       "      <th>1</th>\n",
       "      <td>Aarhus</td>\n",
       "      <td>2</td>\n",
       "      <td>Valid</td>\n",
       "      <td>H6</td>\n",
       "      <td>720.0</td>\n",
       "      <td>Fell</td>\n",
       "      <td>1951.0</td>\n",
       "      <td>56.18333</td>\n",
       "      <td>10.23333</td>\n",
       "    </tr>\n",
       "    <tr>\n",
       "      <th>2</th>\n",
       "      <td>Abee</td>\n",
       "      <td>6</td>\n",
       "      <td>Valid</td>\n",
       "      <td>EH4</td>\n",
       "      <td>107000.0</td>\n",
       "      <td>Fell</td>\n",
       "      <td>1952.0</td>\n",
       "      <td>54.21667</td>\n",
       "      <td>-113.00000</td>\n",
       "    </tr>\n",
       "    <tr>\n",
       "      <th>3</th>\n",
       "      <td>Acapulco</td>\n",
       "      <td>10</td>\n",
       "      <td>Valid</td>\n",
       "      <td>Acapulcoite</td>\n",
       "      <td>1914.0</td>\n",
       "      <td>Fell</td>\n",
       "      <td>1976.0</td>\n",
       "      <td>16.88333</td>\n",
       "      <td>-99.90000</td>\n",
       "    </tr>\n",
       "    <tr>\n",
       "      <th>4</th>\n",
       "      <td>Achiras</td>\n",
       "      <td>370</td>\n",
       "      <td>Valid</td>\n",
       "      <td>L6</td>\n",
       "      <td>780.0</td>\n",
       "      <td>Fell</td>\n",
       "      <td>1902.0</td>\n",
       "      <td>-33.16667</td>\n",
       "      <td>-64.95000</td>\n",
       "    </tr>\n",
       "  </tbody>\n",
       "</table>\n",
       "</div>"
      ],
      "text/plain": [
       "       name   id nametype     recclass  mass (g)  fall    year    reclat  \\\n",
       "0    Aachen    1    Valid           L5      21.0  Fell  1880.0  50.77500   \n",
       "1    Aarhus    2    Valid           H6     720.0  Fell  1951.0  56.18333   \n",
       "2      Abee    6    Valid          EH4  107000.0  Fell  1952.0  54.21667   \n",
       "3  Acapulco   10    Valid  Acapulcoite    1914.0  Fell  1976.0  16.88333   \n",
       "4   Achiras  370    Valid           L6     780.0  Fell  1902.0 -33.16667   \n",
       "\n",
       "     reclong  \n",
       "0    6.08333  \n",
       "1   10.23333  \n",
       "2 -113.00000  \n",
       "3  -99.90000  \n",
       "4  -64.95000  "
      ]
     },
     "execution_count": 1,
     "metadata": {},
     "output_type": "execute_result"
    }
   ],
   "source": [
    "import pandas as pd\n",
    "\n",
    "DATA = '/kaggle/input/meteorite-landings-on-earth-data/Meteorite_Landings.csv'\n",
    "df = pd.read_csv(filepath_or_buffer=DATA).drop(columns=['Unnamed: 10', 'GeoLocation'])\n",
    "df.head()"
   ]
  },
  {
   "cell_type": "code",
   "execution_count": 2,
   "id": "3ec095cb",
   "metadata": {
    "execution": {
     "iopub.execute_input": "2025-02-24T22:25:57.182012Z",
     "iopub.status.busy": "2025-02-24T22:25:57.181628Z",
     "iopub.status.idle": "2025-02-24T22:25:57.216445Z",
     "shell.execute_reply": "2025-02-24T22:25:57.215130Z"
    },
    "papermill": {
     "duration": 0.040411,
     "end_time": "2025-02-24T22:25:57.218236",
     "exception": false,
     "start_time": "2025-02-24T22:25:57.177825",
     "status": "completed"
    },
    "tags": []
   },
   "outputs": [
    {
     "name": "stdout",
     "output_type": "stream",
     "text": [
      "<class 'pandas.core.frame.DataFrame'>\n",
      "RangeIndex: 45716 entries, 0 to 45715\n",
      "Data columns (total 9 columns):\n",
      " #   Column    Non-Null Count  Dtype  \n",
      "---  ------    --------------  -----  \n",
      " 0   name      45716 non-null  object \n",
      " 1   id        45716 non-null  int64  \n",
      " 2   nametype  45716 non-null  object \n",
      " 3   recclass  45716 non-null  object \n",
      " 4   mass (g)  45585 non-null  float64\n",
      " 5   fall      45716 non-null  object \n",
      " 6   year      45425 non-null  float64\n",
      " 7   reclat    38401 non-null  float64\n",
      " 8   reclong   38401 non-null  float64\n",
      "dtypes: float64(4), int64(1), object(4)\n",
      "memory usage: 3.1+ MB\n"
     ]
    }
   ],
   "source": [
    "df.info()"
   ]
  },
  {
   "cell_type": "code",
   "execution_count": 3,
   "id": "556f4a56",
   "metadata": {
    "execution": {
     "iopub.execute_input": "2025-02-24T22:25:57.225666Z",
     "iopub.status.busy": "2025-02-24T22:25:57.225281Z",
     "iopub.status.idle": "2025-02-24T22:25:57.256432Z",
     "shell.execute_reply": "2025-02-24T22:25:57.255307Z"
    },
    "papermill": {
     "duration": 0.036829,
     "end_time": "2025-02-24T22:25:57.258248",
     "exception": false,
     "start_time": "2025-02-24T22:25:57.221419",
     "status": "completed"
    },
    "tags": []
   },
   "outputs": [
    {
     "data": {
      "text/plain": [
       "name        45716\n",
       "id          45716\n",
       "nametype        2\n",
       "recclass      466\n",
       "mass (g)    12576\n",
       "fall            2\n",
       "year          265\n",
       "reclat      12738\n",
       "reclong     14640\n",
       "dtype: int64"
      ]
     },
     "execution_count": 3,
     "metadata": {},
     "output_type": "execute_result"
    }
   ],
   "source": [
    "df.nunique()"
   ]
  },
  {
   "cell_type": "markdown",
   "id": "ea3a6237",
   "metadata": {
    "papermill": {
     "duration": 0.002758,
     "end_time": "2025-02-24T22:25:57.264415",
     "exception": false,
     "start_time": "2025-02-24T22:25:57.261657",
     "status": "completed"
    },
    "tags": []
   },
   "source": [
    "Let's take a quick look at a couple of columns that only have two different values."
   ]
  },
  {
   "cell_type": "code",
   "execution_count": 4,
   "id": "bde8caa6",
   "metadata": {
    "execution": {
     "iopub.execute_input": "2025-02-24T22:25:57.272104Z",
     "iopub.status.busy": "2025-02-24T22:25:57.271729Z",
     "iopub.status.idle": "2025-02-24T22:25:57.281169Z",
     "shell.execute_reply": "2025-02-24T22:25:57.280047Z"
    },
    "papermill": {
     "duration": 0.015047,
     "end_time": "2025-02-24T22:25:57.282818",
     "exception": false,
     "start_time": "2025-02-24T22:25:57.267771",
     "status": "completed"
    },
    "tags": []
   },
   "outputs": [
    {
     "data": {
      "text/plain": [
       "{'Valid': 45641, 'Relict': 75}"
      ]
     },
     "execution_count": 4,
     "metadata": {},
     "output_type": "execute_result"
    }
   ],
   "source": [
    "df['nametype'].value_counts().to_dict()"
   ]
  },
  {
   "cell_type": "code",
   "execution_count": 5,
   "id": "972ff5ed",
   "metadata": {
    "execution": {
     "iopub.execute_input": "2025-02-24T22:25:57.290588Z",
     "iopub.status.busy": "2025-02-24T22:25:57.290243Z",
     "iopub.status.idle": "2025-02-24T22:25:57.298884Z",
     "shell.execute_reply": "2025-02-24T22:25:57.297942Z"
    },
    "papermill": {
     "duration": 0.01427,
     "end_time": "2025-02-24T22:25:57.300499",
     "exception": false,
     "start_time": "2025-02-24T22:25:57.286229",
     "status": "completed"
    },
    "tags": []
   },
   "outputs": [
    {
     "data": {
      "text/plain": [
       "{'Found': 44609, 'Fell': 1107}"
      ]
     },
     "execution_count": 5,
     "metadata": {},
     "output_type": "execute_result"
    }
   ],
   "source": [
    "df['fall'].value_counts().to_dict()"
   ]
  },
  {
   "cell_type": "markdown",
   "id": "248889c6",
   "metadata": {
    "papermill": {
     "duration": 0.003028,
     "end_time": "2025-02-24T22:25:57.307172",
     "exception": false,
     "start_time": "2025-02-24T22:25:57.304144",
     "status": "completed"
    },
    "tags": []
   },
   "source": [
    "Let's start by making some exploratory graphs."
   ]
  },
  {
   "cell_type": "code",
   "execution_count": 6,
   "id": "4269fda4",
   "metadata": {
    "execution": {
     "iopub.execute_input": "2025-02-24T22:25:57.315036Z",
     "iopub.status.busy": "2025-02-24T22:25:57.314467Z",
     "iopub.status.idle": "2025-02-24T22:25:57.328073Z",
     "shell.execute_reply": "2025-02-24T22:25:57.327084Z"
    },
    "papermill": {
     "duration": 0.019103,
     "end_time": "2025-02-24T22:25:57.329528",
     "exception": false,
     "start_time": "2025-02-24T22:25:57.310425",
     "status": "completed"
    },
    "tags": []
   },
   "outputs": [
    {
     "data": {
      "text/html": [
       "<div>\n",
       "<style scoped>\n",
       "    .dataframe tbody tr th:only-of-type {\n",
       "        vertical-align: middle;\n",
       "    }\n",
       "\n",
       "    .dataframe tbody tr th {\n",
       "        vertical-align: top;\n",
       "    }\n",
       "\n",
       "    .dataframe thead th {\n",
       "        text-align: right;\n",
       "    }\n",
       "</style>\n",
       "<table border=\"1\" class=\"dataframe\">\n",
       "  <thead>\n",
       "    <tr style=\"text-align: right;\">\n",
       "      <th></th>\n",
       "      <th>recclass</th>\n",
       "      <th>count</th>\n",
       "    </tr>\n",
       "  </thead>\n",
       "  <tbody>\n",
       "    <tr>\n",
       "      <th>0</th>\n",
       "      <td>L6</td>\n",
       "      <td>8285</td>\n",
       "    </tr>\n",
       "    <tr>\n",
       "      <th>1</th>\n",
       "      <td>H5</td>\n",
       "      <td>7142</td>\n",
       "    </tr>\n",
       "    <tr>\n",
       "      <th>2</th>\n",
       "      <td>L5</td>\n",
       "      <td>4796</td>\n",
       "    </tr>\n",
       "    <tr>\n",
       "      <th>3</th>\n",
       "      <td>H6</td>\n",
       "      <td>4528</td>\n",
       "    </tr>\n",
       "    <tr>\n",
       "      <th>4</th>\n",
       "      <td>H4</td>\n",
       "      <td>4211</td>\n",
       "    </tr>\n",
       "  </tbody>\n",
       "</table>\n",
       "</div>"
      ],
      "text/plain": [
       "  recclass  count\n",
       "0       L6   8285\n",
       "1       H5   7142\n",
       "2       L5   4796\n",
       "3       H6   4528\n",
       "4       H4   4211"
      ]
     },
     "execution_count": 6,
     "metadata": {},
     "output_type": "execute_result"
    }
   ],
   "source": [
    "df['recclass'].value_counts().to_frame().reset_index().head(n=5)"
   ]
  },
  {
   "cell_type": "code",
   "execution_count": 7,
   "id": "e5b01c2b",
   "metadata": {
    "execution": {
     "iopub.execute_input": "2025-02-24T22:25:57.338067Z",
     "iopub.status.busy": "2025-02-24T22:25:57.337651Z",
     "iopub.status.idle": "2025-02-24T22:26:00.371014Z",
     "shell.execute_reply": "2025-02-24T22:26:00.369924Z"
    },
    "papermill": {
     "duration": 3.039703,
     "end_time": "2025-02-24T22:26:00.372874",
     "exception": false,
     "start_time": "2025-02-24T22:25:57.333171",
     "status": "completed"
    },
    "tags": []
   },
   "outputs": [
    {
     "data": {
      "text/html": [
       "<iframe\n",
       "    scrolling=\"no\"\n",
       "    width=\"100%\"\n",
       "    height=\"545px\"\n",
       "    src=\"iframe_figures/figure_7.html\"\n",
       "    frameborder=\"0\"\n",
       "    allowfullscreen\n",
       "></iframe>\n"
      ]
     },
     "metadata": {},
     "output_type": "display_data"
    }
   ],
   "source": [
    "from plotly import express\n",
    "from plotly import io\n",
    "\n",
    "io.renderers.default = 'iframe'\n",
    "express.bar(data_frame=df['recclass'].value_counts().to_frame().reset_index().head(n=40), x='recclass', y='count')"
   ]
  },
  {
   "cell_type": "markdown",
   "id": "9b3fab6b",
   "metadata": {
    "papermill": {
     "duration": 0.003235,
     "end_time": "2025-02-24T22:26:00.379840",
     "exception": false,
     "start_time": "2025-02-24T22:26:00.376605",
     "status": "completed"
    },
    "tags": []
   },
   "source": [
    "Okay that's interesting. Our dataset is dominated by eight classes, and then there's a long tail."
   ]
  }
 ],
 "metadata": {
  "kaggle": {
   "accelerator": "none",
   "dataSources": [
    {
     "datasetId": 6567293,
     "sourceId": 10608577,
     "sourceType": "datasetVersion"
    }
   ],
   "dockerImageVersionId": 30918,
   "isGpuEnabled": false,
   "isInternetEnabled": true,
   "language": "python",
   "sourceType": "notebook"
  },
  "kernelspec": {
   "display_name": "Python 3",
   "language": "python",
   "name": "python3"
  },
  "language_info": {
   "codemirror_mode": {
    "name": "ipython",
    "version": 3
   },
   "file_extension": ".py",
   "mimetype": "text/x-python",
   "name": "python",
   "nbconvert_exporter": "python",
   "pygments_lexer": "ipython3",
   "version": "3.10.12"
  },
  "papermill": {
   "default_parameters": {},
   "duration": 7.897389,
   "end_time": "2025-02-24T22:26:01.104278",
   "environment_variables": {},
   "exception": null,
   "input_path": "__notebook__.ipynb",
   "output_path": "__notebook__.ipynb",
   "parameters": {},
   "start_time": "2025-02-24T22:25:53.206889",
   "version": "2.6.0"
  }
 },
 "nbformat": 4,
 "nbformat_minor": 5
}
