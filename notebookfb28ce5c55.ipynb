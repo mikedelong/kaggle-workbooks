{
 "cells": [
  {
   "cell_type": "code",
   "execution_count": 1,
   "id": "ddf1e17d",
   "metadata": {
    "_cell_guid": "b1076dfc-b9ad-4769-8c92-a6c4dae69d19",
    "_uuid": "8f2839f25d086af736a60e9eeb907d3b93b6e0e5",
    "execution": {
     "iopub.execute_input": "2025-02-24T22:59:08.208775Z",
     "iopub.status.busy": "2025-02-24T22:59:08.208358Z",
     "iopub.status.idle": "2025-02-24T22:59:09.454217Z",
     "shell.execute_reply": "2025-02-24T22:59:09.453211Z"
    },
    "papermill": {
     "duration": 1.253508,
     "end_time": "2025-02-24T22:59:09.455967",
     "exception": false,
     "start_time": "2025-02-24T22:59:08.202459",
     "status": "completed"
    },
    "tags": []
   },
   "outputs": [
    {
     "data": {
      "text/html": [
       "<div>\n",
       "<style scoped>\n",
       "    .dataframe tbody tr th:only-of-type {\n",
       "        vertical-align: middle;\n",
       "    }\n",
       "\n",
       "    .dataframe tbody tr th {\n",
       "        vertical-align: top;\n",
       "    }\n",
       "\n",
       "    .dataframe thead th {\n",
       "        text-align: right;\n",
       "    }\n",
       "</style>\n",
       "<table border=\"1\" class=\"dataframe\">\n",
       "  <thead>\n",
       "    <tr style=\"text-align: right;\">\n",
       "      <th></th>\n",
       "      <th>name</th>\n",
       "      <th>id</th>\n",
       "      <th>nametype</th>\n",
       "      <th>recclass</th>\n",
       "      <th>mass (g)</th>\n",
       "      <th>fall</th>\n",
       "      <th>year</th>\n",
       "      <th>reclat</th>\n",
       "      <th>reclong</th>\n",
       "    </tr>\n",
       "  </thead>\n",
       "  <tbody>\n",
       "    <tr>\n",
       "      <th>0</th>\n",
       "      <td>Aachen</td>\n",
       "      <td>1</td>\n",
       "      <td>Valid</td>\n",
       "      <td>L5</td>\n",
       "      <td>21.0</td>\n",
       "      <td>Fell</td>\n",
       "      <td>1880.0</td>\n",
       "      <td>50.77500</td>\n",
       "      <td>6.08333</td>\n",
       "    </tr>\n",
       "    <tr>\n",
       "      <th>1</th>\n",
       "      <td>Aarhus</td>\n",
       "      <td>2</td>\n",
       "      <td>Valid</td>\n",
       "      <td>H6</td>\n",
       "      <td>720.0</td>\n",
       "      <td>Fell</td>\n",
       "      <td>1951.0</td>\n",
       "      <td>56.18333</td>\n",
       "      <td>10.23333</td>\n",
       "    </tr>\n",
       "    <tr>\n",
       "      <th>2</th>\n",
       "      <td>Abee</td>\n",
       "      <td>6</td>\n",
       "      <td>Valid</td>\n",
       "      <td>EH4</td>\n",
       "      <td>107000.0</td>\n",
       "      <td>Fell</td>\n",
       "      <td>1952.0</td>\n",
       "      <td>54.21667</td>\n",
       "      <td>-113.00000</td>\n",
       "    </tr>\n",
       "    <tr>\n",
       "      <th>3</th>\n",
       "      <td>Acapulco</td>\n",
       "      <td>10</td>\n",
       "      <td>Valid</td>\n",
       "      <td>Acapulcoite</td>\n",
       "      <td>1914.0</td>\n",
       "      <td>Fell</td>\n",
       "      <td>1976.0</td>\n",
       "      <td>16.88333</td>\n",
       "      <td>-99.90000</td>\n",
       "    </tr>\n",
       "    <tr>\n",
       "      <th>4</th>\n",
       "      <td>Achiras</td>\n",
       "      <td>370</td>\n",
       "      <td>Valid</td>\n",
       "      <td>L6</td>\n",
       "      <td>780.0</td>\n",
       "      <td>Fell</td>\n",
       "      <td>1902.0</td>\n",
       "      <td>-33.16667</td>\n",
       "      <td>-64.95000</td>\n",
       "    </tr>\n",
       "  </tbody>\n",
       "</table>\n",
       "</div>"
      ],
      "text/plain": [
       "       name   id nametype     recclass  mass (g)  fall    year    reclat  \\\n",
       "0    Aachen    1    Valid           L5      21.0  Fell  1880.0  50.77500   \n",
       "1    Aarhus    2    Valid           H6     720.0  Fell  1951.0  56.18333   \n",
       "2      Abee    6    Valid          EH4  107000.0  Fell  1952.0  54.21667   \n",
       "3  Acapulco   10    Valid  Acapulcoite    1914.0  Fell  1976.0  16.88333   \n",
       "4   Achiras  370    Valid           L6     780.0  Fell  1902.0 -33.16667   \n",
       "\n",
       "     reclong  \n",
       "0    6.08333  \n",
       "1   10.23333  \n",
       "2 -113.00000  \n",
       "3  -99.90000  \n",
       "4  -64.95000  "
      ]
     },
     "execution_count": 1,
     "metadata": {},
     "output_type": "execute_result"
    }
   ],
   "source": [
    "import pandas as pd\n",
    "\n",
    "DATA = '/kaggle/input/meteorite-landings-on-earth-data/Meteorite_Landings.csv'\n",
    "df = pd.read_csv(filepath_or_buffer=DATA).drop(columns=['Unnamed: 10', 'GeoLocation'])\n",
    "df.head()"
   ]
  },
  {
   "cell_type": "code",
   "execution_count": 2,
   "id": "8b675568",
   "metadata": {
    "execution": {
     "iopub.execute_input": "2025-02-24T22:59:09.466444Z",
     "iopub.status.busy": "2025-02-24T22:59:09.466062Z",
     "iopub.status.idle": "2025-02-24T22:59:09.501602Z",
     "shell.execute_reply": "2025-02-24T22:59:09.500263Z"
    },
    "papermill": {
     "duration": 0.042689,
     "end_time": "2025-02-24T22:59:09.503365",
     "exception": false,
     "start_time": "2025-02-24T22:59:09.460676",
     "status": "completed"
    },
    "tags": []
   },
   "outputs": [
    {
     "name": "stdout",
     "output_type": "stream",
     "text": [
      "<class 'pandas.core.frame.DataFrame'>\n",
      "RangeIndex: 45716 entries, 0 to 45715\n",
      "Data columns (total 9 columns):\n",
      " #   Column    Non-Null Count  Dtype  \n",
      "---  ------    --------------  -----  \n",
      " 0   name      45716 non-null  object \n",
      " 1   id        45716 non-null  int64  \n",
      " 2   nametype  45716 non-null  object \n",
      " 3   recclass  45716 non-null  object \n",
      " 4   mass (g)  45585 non-null  float64\n",
      " 5   fall      45716 non-null  object \n",
      " 6   year      45425 non-null  float64\n",
      " 7   reclat    38401 non-null  float64\n",
      " 8   reclong   38401 non-null  float64\n",
      "dtypes: float64(4), int64(1), object(4)\n",
      "memory usage: 3.1+ MB\n"
     ]
    }
   ],
   "source": [
    "df.info()"
   ]
  },
  {
   "cell_type": "code",
   "execution_count": 3,
   "id": "db9564d8",
   "metadata": {
    "execution": {
     "iopub.execute_input": "2025-02-24T22:59:09.513469Z",
     "iopub.status.busy": "2025-02-24T22:59:09.513140Z",
     "iopub.status.idle": "2025-02-24T22:59:09.543979Z",
     "shell.execute_reply": "2025-02-24T22:59:09.542931Z"
    },
    "papermill": {
     "duration": 0.038246,
     "end_time": "2025-02-24T22:59:09.546048",
     "exception": false,
     "start_time": "2025-02-24T22:59:09.507802",
     "status": "completed"
    },
    "tags": []
   },
   "outputs": [
    {
     "data": {
      "text/plain": [
       "name        45716\n",
       "id          45716\n",
       "nametype        2\n",
       "recclass      466\n",
       "mass (g)    12576\n",
       "fall            2\n",
       "year          265\n",
       "reclat      12738\n",
       "reclong     14640\n",
       "dtype: int64"
      ]
     },
     "execution_count": 3,
     "metadata": {},
     "output_type": "execute_result"
    }
   ],
   "source": [
    "df.nunique()"
   ]
  },
  {
   "cell_type": "markdown",
   "id": "e05dd114",
   "metadata": {
    "papermill": {
     "duration": 0.004156,
     "end_time": "2025-02-24T22:59:09.554909",
     "exception": false,
     "start_time": "2025-02-24T22:59:09.550753",
     "status": "completed"
    },
    "tags": []
   },
   "source": [
    "Let's take a quick look at a couple of columns that only have two different values."
   ]
  },
  {
   "cell_type": "code",
   "execution_count": 4,
   "id": "b558534b",
   "metadata": {
    "execution": {
     "iopub.execute_input": "2025-02-24T22:59:09.565050Z",
     "iopub.status.busy": "2025-02-24T22:59:09.564649Z",
     "iopub.status.idle": "2025-02-24T22:59:09.574569Z",
     "shell.execute_reply": "2025-02-24T22:59:09.573448Z"
    },
    "papermill": {
     "duration": 0.017052,
     "end_time": "2025-02-24T22:59:09.576340",
     "exception": false,
     "start_time": "2025-02-24T22:59:09.559288",
     "status": "completed"
    },
    "tags": []
   },
   "outputs": [
    {
     "data": {
      "text/plain": [
       "{'Valid': 45641, 'Relict': 75}"
      ]
     },
     "execution_count": 4,
     "metadata": {},
     "output_type": "execute_result"
    }
   ],
   "source": [
    "df['nametype'].value_counts().to_dict()"
   ]
  },
  {
   "cell_type": "code",
   "execution_count": 5,
   "id": "08c44f95",
   "metadata": {
    "execution": {
     "iopub.execute_input": "2025-02-24T22:59:09.586938Z",
     "iopub.status.busy": "2025-02-24T22:59:09.586528Z",
     "iopub.status.idle": "2025-02-24T22:59:09.596140Z",
     "shell.execute_reply": "2025-02-24T22:59:09.594766Z"
    },
    "papermill": {
     "duration": 0.01697,
     "end_time": "2025-02-24T22:59:09.598000",
     "exception": false,
     "start_time": "2025-02-24T22:59:09.581030",
     "status": "completed"
    },
    "tags": []
   },
   "outputs": [
    {
     "data": {
      "text/plain": [
       "{'Found': 44609, 'Fell': 1107}"
      ]
     },
     "execution_count": 5,
     "metadata": {},
     "output_type": "execute_result"
    }
   ],
   "source": [
    "df['fall'].value_counts().to_dict()"
   ]
  },
  {
   "cell_type": "markdown",
   "id": "423c982b",
   "metadata": {
    "papermill": {
     "duration": 0.004389,
     "end_time": "2025-02-24T22:59:09.607314",
     "exception": false,
     "start_time": "2025-02-24T22:59:09.602925",
     "status": "completed"
    },
    "tags": []
   },
   "source": [
    "Let's start by making some exploratory graphs."
   ]
  },
  {
   "cell_type": "code",
   "execution_count": 6,
   "id": "3de6bebd",
   "metadata": {
    "execution": {
     "iopub.execute_input": "2025-02-24T22:59:09.618322Z",
     "iopub.status.busy": "2025-02-24T22:59:09.617977Z",
     "iopub.status.idle": "2025-02-24T22:59:12.731960Z",
     "shell.execute_reply": "2025-02-24T22:59:12.730974Z"
    },
    "papermill": {
     "duration": 3.121565,
     "end_time": "2025-02-24T22:59:12.733797",
     "exception": false,
     "start_time": "2025-02-24T22:59:09.612232",
     "status": "completed"
    },
    "tags": []
   },
   "outputs": [
    {
     "data": {
      "text/html": [
       "<iframe\n",
       "    scrolling=\"no\"\n",
       "    width=\"100%\"\n",
       "    height=\"545px\"\n",
       "    src=\"iframe_figures/figure_6.html\"\n",
       "    frameborder=\"0\"\n",
       "    allowfullscreen\n",
       "></iframe>\n"
      ]
     },
     "metadata": {},
     "output_type": "display_data"
    }
   ],
   "source": [
    "from plotly import express\n",
    "from plotly import io\n",
    "\n",
    "io.renderers.default = 'iframe'\n",
    "express.bar(data_frame=df['recclass'].value_counts().to_frame().reset_index().head(n=40), x='recclass', y='count')"
   ]
  },
  {
   "cell_type": "markdown",
   "id": "dcad170d",
   "metadata": {
    "papermill": {
     "duration": 0.00427,
     "end_time": "2025-02-24T22:59:12.743043",
     "exception": false,
     "start_time": "2025-02-24T22:59:12.738773",
     "status": "completed"
    },
    "tags": []
   },
   "source": [
    "Okay that's interesting. Our dataset is dominated by eight classes, and then there's a long tail."
   ]
  },
  {
   "cell_type": "markdown",
   "id": "180fe398",
   "metadata": {
    "papermill": {
     "duration": 0.004218,
     "end_time": "2025-02-24T22:59:12.752070",
     "exception": false,
     "start_time": "2025-02-24T22:59:12.747852",
     "status": "completed"
    },
    "tags": []
   },
   "source": [
    "Let's take a look at the mass data; how do we expect it to be distributed? There are probably meteors too small to be noticed, but also a practical limit on how large a meteor could be, so we might expect a normal distribution. "
   ]
  },
  {
   "cell_type": "code",
   "execution_count": 7,
   "id": "a02af4ba",
   "metadata": {
    "execution": {
     "iopub.execute_input": "2025-02-24T22:59:12.762611Z",
     "iopub.status.busy": "2025-02-24T22:59:12.762158Z",
     "iopub.status.idle": "2025-02-24T22:59:12.914634Z",
     "shell.execute_reply": "2025-02-24T22:59:12.913540Z"
    },
    "papermill": {
     "duration": 0.159869,
     "end_time": "2025-02-24T22:59:12.916450",
     "exception": false,
     "start_time": "2025-02-24T22:59:12.756581",
     "status": "completed"
    },
    "tags": []
   },
   "outputs": [
    {
     "data": {
      "text/html": [
       "<iframe\n",
       "    scrolling=\"no\"\n",
       "    width=\"100%\"\n",
       "    height=\"545px\"\n",
       "    src=\"iframe_figures/figure_7.html\"\n",
       "    frameborder=\"0\"\n",
       "    allowfullscreen\n",
       "></iframe>\n"
      ]
     },
     "metadata": {},
     "output_type": "display_data"
    }
   ],
   "source": [
    "from warnings import filterwarnings\n",
    "\n",
    "filterwarnings(action='ignore', category=RuntimeWarning)\n",
    "express.histogram(data_frame=df[df['mass (g)'] < 100], x='mass (g)')"
   ]
  },
  {
   "cell_type": "markdown",
   "id": "6e9c2d96",
   "metadata": {
    "papermill": {
     "duration": 0.004677,
     "end_time": "2025-02-24T22:59:12.926157",
     "exception": false,
     "start_time": "2025-02-24T22:59:12.921480",
     "status": "completed"
    },
    "tags": []
   },
   "source": [
    "That's not a normal distribution, but it's definitely got only one mode. We had to cut off the right tail for clarity but we didn't really lose any thing crucial to the meaning of this graph by doing so."
   ]
  },
  {
   "cell_type": "markdown",
   "id": "562815ba",
   "metadata": {
    "papermill": {
     "duration": 0.004376,
     "end_time": "2025-02-24T22:59:12.935326",
     "exception": false,
     "start_time": "2025-02-24T22:59:12.930950",
     "status": "completed"
    },
    "tags": []
   },
   "source": [
    "We have some annual data, so let's take a look at that too."
   ]
  },
  {
   "cell_type": "code",
   "execution_count": 8,
   "id": "f5d65de5",
   "metadata": {
    "execution": {
     "iopub.execute_input": "2025-02-24T22:59:12.946155Z",
     "iopub.status.busy": "2025-02-24T22:59:12.945808Z",
     "iopub.status.idle": "2025-02-24T22:59:13.055295Z",
     "shell.execute_reply": "2025-02-24T22:59:13.054240Z"
    },
    "papermill": {
     "duration": 0.116883,
     "end_time": "2025-02-24T22:59:13.057026",
     "exception": false,
     "start_time": "2025-02-24T22:59:12.940143",
     "status": "completed"
    },
    "tags": []
   },
   "outputs": [
    {
     "data": {
      "text/html": [
       "<iframe\n",
       "    scrolling=\"no\"\n",
       "    width=\"100%\"\n",
       "    height=\"545px\"\n",
       "    src=\"iframe_figures/figure_8.html\"\n",
       "    frameborder=\"0\"\n",
       "    allowfullscreen\n",
       "></iframe>\n"
      ]
     },
     "metadata": {},
     "output_type": "display_data"
    }
   ],
   "source": [
    "express.histogram(data_frame=df[(df['year'] > 1850) & (df['year'] < 2025)], x='year')"
   ]
  },
  {
   "cell_type": "markdown",
   "id": "8043c866",
   "metadata": {
    "papermill": {
     "duration": 0.0045,
     "end_time": "2025-02-24T22:59:13.066575",
     "exception": false,
     "start_time": "2025-02-24T22:59:13.062075",
     "status": "completed"
    },
    "tags": []
   },
   "source": [
    "That's an interesting plot. Do we believe that there were almost no meteors prior to 1974 and then suddenly there were thousands per year? No, it seems more likely there was sudden change in people looking for meteors and the methods they used."
   ]
  },
  {
   "cell_type": "markdown",
   "id": "a3f5f62d",
   "metadata": {
    "papermill": {
     "duration": 0.004547,
     "end_time": "2025-02-24T22:59:13.075849",
     "exception": false,
     "start_time": "2025-02-24T22:59:13.071302",
     "status": "completed"
    },
    "tags": []
   },
   "source": [
    "We knew this moment was coming; let's make a map."
   ]
  },
  {
   "cell_type": "code",
   "execution_count": 9,
   "id": "44a591e4",
   "metadata": {
    "execution": {
     "iopub.execute_input": "2025-02-24T22:59:13.086875Z",
     "iopub.status.busy": "2025-02-24T22:59:13.086438Z",
     "iopub.status.idle": "2025-02-24T22:59:13.388952Z",
     "shell.execute_reply": "2025-02-24T22:59:13.388016Z"
    },
    "papermill": {
     "duration": 0.310008,
     "end_time": "2025-02-24T22:59:13.390564",
     "exception": false,
     "start_time": "2025-02-24T22:59:13.080556",
     "status": "completed"
    },
    "tags": []
   },
   "outputs": [
    {
     "data": {
      "text/html": [
       "<iframe\n",
       "    scrolling=\"no\"\n",
       "    width=\"100%\"\n",
       "    height=\"820\"\n",
       "    src=\"iframe_figures/figure_9.html\"\n",
       "    frameborder=\"0\"\n",
       "    allowfullscreen\n",
       "></iframe>\n"
      ]
     },
     "metadata": {},
     "output_type": "display_data"
    }
   ],
   "source": [
    "express.scatter_mapbox(data_frame=df[(df['year'] > 1970) & (df['year'] < 2025)], lat='reclat', lon='reclong', color='year',\n",
    "                       mapbox_style='open-street-map', height=800, zoom=1, center={'lat': 0, 'lon': 0}, hover_name='name')"
   ]
  },
  {
   "cell_type": "markdown",
   "id": "b9b53d13",
   "metadata": {
    "papermill": {
     "duration": 0.004604,
     "end_time": "2025-02-24T22:59:13.400292",
     "exception": false,
     "start_time": "2025-02-24T22:59:13.395688",
     "status": "completed"
    },
    "tags": []
   },
   "source": [
    "Interestingly, there are parts of the world where we don't know much about their meteors until very recently."
   ]
  },
  {
   "cell_type": "markdown",
   "id": "4d27a10b",
   "metadata": {
    "papermill": {
     "duration": 0.004571,
     "end_time": "2025-02-24T22:59:13.409830",
     "exception": false,
     "start_time": "2025-02-24T22:59:13.405259",
     "status": "completed"
    },
    "tags": []
   },
   "source": [
    "Let's take another look, but color by the mass."
   ]
  },
  {
   "cell_type": "code",
   "execution_count": 10,
   "id": "8cbaf8e1",
   "metadata": {
    "execution": {
     "iopub.execute_input": "2025-02-24T22:59:13.421438Z",
     "iopub.status.busy": "2025-02-24T22:59:13.420946Z",
     "iopub.status.idle": "2025-02-24T22:59:13.672812Z",
     "shell.execute_reply": "2025-02-24T22:59:13.671842Z"
    },
    "papermill": {
     "duration": 0.259925,
     "end_time": "2025-02-24T22:59:13.674611",
     "exception": false,
     "start_time": "2025-02-24T22:59:13.414686",
     "status": "completed"
    },
    "tags": []
   },
   "outputs": [
    {
     "data": {
      "text/html": [
       "<iframe\n",
       "    scrolling=\"no\"\n",
       "    width=\"100%\"\n",
       "    height=\"820\"\n",
       "    src=\"iframe_figures/figure_10.html\"\n",
       "    frameborder=\"0\"\n",
       "    allowfullscreen\n",
       "></iframe>\n"
      ]
     },
     "metadata": {},
     "output_type": "display_data"
    }
   ],
   "source": [
    "express.scatter_mapbox(data_frame=df[df['mass (g)'] < 1000], lat='reclat', lon='reclong', color='mass (g)',\n",
    "                       mapbox_style='open-street-map', height=800, zoom=1, center={'lat': 0, 'lon': 0}, hover_name='name')"
   ]
  },
  {
   "cell_type": "markdown",
   "id": "a3092fdf",
   "metadata": {
    "papermill": {
     "duration": 0.005139,
     "end_time": "2025-02-24T22:59:13.685162",
     "exception": false,
     "start_time": "2025-02-24T22:59:13.680023",
     "status": "completed"
    },
    "tags": []
   },
   "source": [
    "The distribution of mass doesn't show a clear geographic pattern, although maybe if we squint we can see that smaller meteors are more prevalent near populated areas."
   ]
  }
 ],
 "metadata": {
  "kaggle": {
   "accelerator": "none",
   "dataSources": [
    {
     "datasetId": 6567293,
     "sourceId": 10608577,
     "sourceType": "datasetVersion"
    }
   ],
   "dockerImageVersionId": 30918,
   "isGpuEnabled": false,
   "isInternetEnabled": true,
   "language": "python",
   "sourceType": "notebook"
  },
  "kernelspec": {
   "display_name": "Python 3",
   "language": "python",
   "name": "python3"
  },
  "language_info": {
   "codemirror_mode": {
    "name": "ipython",
    "version": 3
   },
   "file_extension": ".py",
   "mimetype": "text/x-python",
   "name": "python",
   "nbconvert_exporter": "python",
   "pygments_lexer": "ipython3",
   "version": "3.10.12"
  },
  "papermill": {
   "default_parameters": {},
   "duration": 9.106889,
   "end_time": "2025-02-24T22:59:14.410684",
   "environment_variables": {},
   "exception": null,
   "input_path": "__notebook__.ipynb",
   "output_path": "__notebook__.ipynb",
   "parameters": {},
   "start_time": "2025-02-24T22:59:05.303795",
   "version": "2.6.0"
  }
 },
 "nbformat": 4,
 "nbformat_minor": 5
}
