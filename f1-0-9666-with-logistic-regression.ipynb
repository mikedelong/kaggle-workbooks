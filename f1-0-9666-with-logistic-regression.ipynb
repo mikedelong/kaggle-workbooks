{
 "cells": [
  {
   "cell_type": "code",
   "execution_count": 1,
   "id": "07485428",
   "metadata": {
    "_cell_guid": "b1076dfc-b9ad-4769-8c92-a6c4dae69d19",
    "_uuid": "8f2839f25d086af736a60e9eeb907d3b93b6e0e5",
    "execution": {
     "iopub.execute_input": "2025-02-11T19:27:58.606880Z",
     "iopub.status.busy": "2025-02-11T19:27:58.606511Z",
     "iopub.status.idle": "2025-02-11T19:27:59.622420Z",
     "shell.execute_reply": "2025-02-11T19:27:59.621339Z"
    },
    "papermill": {
     "duration": 1.022197,
     "end_time": "2025-02-11T19:27:59.624092",
     "exception": false,
     "start_time": "2025-02-11T19:27:58.601895",
     "status": "completed"
    },
    "tags": []
   },
   "outputs": [
    {
     "data": {
      "text/html": [
       "<div>\n",
       "<style scoped>\n",
       "    .dataframe tbody tr th:only-of-type {\n",
       "        vertical-align: middle;\n",
       "    }\n",
       "\n",
       "    .dataframe tbody tr th {\n",
       "        vertical-align: top;\n",
       "    }\n",
       "\n",
       "    .dataframe thead th {\n",
       "        text-align: right;\n",
       "    }\n",
       "</style>\n",
       "<table border=\"1\" class=\"dataframe\">\n",
       "  <thead>\n",
       "    <tr style=\"text-align: right;\">\n",
       "      <th></th>\n",
       "      <th>sepal_length</th>\n",
       "      <th>sepal_width</th>\n",
       "      <th>petal_length</th>\n",
       "      <th>petal_width</th>\n",
       "      <th>species</th>\n",
       "    </tr>\n",
       "  </thead>\n",
       "  <tbody>\n",
       "    <tr>\n",
       "      <th>0</th>\n",
       "      <td>5.2</td>\n",
       "      <td>3.5</td>\n",
       "      <td>1.4</td>\n",
       "      <td>0.2</td>\n",
       "      <td>Iris-setosa</td>\n",
       "    </tr>\n",
       "    <tr>\n",
       "      <th>1</th>\n",
       "      <td>4.9</td>\n",
       "      <td>3.0</td>\n",
       "      <td>1.4</td>\n",
       "      <td>0.2</td>\n",
       "      <td>Iris-setosa</td>\n",
       "    </tr>\n",
       "    <tr>\n",
       "      <th>2</th>\n",
       "      <td>4.7</td>\n",
       "      <td>3.2</td>\n",
       "      <td>1.3</td>\n",
       "      <td>0.2</td>\n",
       "      <td>Iris-setosa</td>\n",
       "    </tr>\n",
       "    <tr>\n",
       "      <th>3</th>\n",
       "      <td>4.6</td>\n",
       "      <td>3.1</td>\n",
       "      <td>1.5</td>\n",
       "      <td>0.2</td>\n",
       "      <td>Iris-setosa</td>\n",
       "    </tr>\n",
       "    <tr>\n",
       "      <th>4</th>\n",
       "      <td>5.0</td>\n",
       "      <td>3.6</td>\n",
       "      <td>1.4</td>\n",
       "      <td>0.2</td>\n",
       "      <td>Iris-setosa</td>\n",
       "    </tr>\n",
       "  </tbody>\n",
       "</table>\n",
       "</div>"
      ],
      "text/plain": [
       "   sepal_length  sepal_width  petal_length  petal_width      species\n",
       "0           5.2          3.5           1.4          0.2  Iris-setosa\n",
       "1           4.9          3.0           1.4          0.2  Iris-setosa\n",
       "2           4.7          3.2           1.3          0.2  Iris-setosa\n",
       "3           4.6          3.1           1.5          0.2  Iris-setosa\n",
       "4           5.0          3.6           1.4          0.2  Iris-setosa"
      ]
     },
     "execution_count": 1,
     "metadata": {},
     "output_type": "execute_result"
    }
   ],
   "source": [
    "import pandas as pd\n",
    "\n",
    "IRIS = '/kaggle/input/iris-datset/IRIS.csv'\n",
    "df  = pd.read_csv(filepath_or_buffer=IRIS)\n",
    "df.head()"
   ]
  },
  {
   "cell_type": "markdown",
   "id": "c30b1ae6",
   "metadata": {
    "papermill": {
     "duration": 0.002538,
     "end_time": "2025-02-11T19:27:59.629937",
     "exception": false,
     "start_time": "2025-02-11T19:27:59.627399",
     "status": "completed"
    },
    "tags": []
   },
   "source": [
    "Let's use dimensionality reduction to plot our whole dataset."
   ]
  },
  {
   "cell_type": "code",
   "execution_count": 2,
   "id": "cf4b2472",
   "metadata": {
    "execution": {
     "iopub.execute_input": "2025-02-11T19:27:59.636557Z",
     "iopub.status.busy": "2025-02-11T19:27:59.636222Z",
     "iopub.status.idle": "2025-02-11T19:28:02.412831Z",
     "shell.execute_reply": "2025-02-11T19:28:02.411879Z"
    },
    "papermill": {
     "duration": 2.782503,
     "end_time": "2025-02-11T19:28:02.415155",
     "exception": false,
     "start_time": "2025-02-11T19:27:59.632652",
     "status": "completed"
    },
    "tags": []
   },
   "outputs": [],
   "source": [
    "from sklearn.manifold import TSNE\n",
    "\n",
    "RANDOM_STATE = 2025\n",
    "reducer = TSNE(random_state=RANDOM_STATE)\n",
    "plot_df = pd.DataFrame(columns=['x', 'y'], data=reducer.fit_transform(X=df[['sepal_length', 'sepal_width', 'petal_length', 'petal_width']]))\n",
    "plot_df['species'] = df['species'].tolist()"
   ]
  },
  {
   "cell_type": "code",
   "execution_count": 3,
   "id": "75298f3f",
   "metadata": {
    "execution": {
     "iopub.execute_input": "2025-02-11T19:28:02.425085Z",
     "iopub.status.busy": "2025-02-11T19:28:02.424294Z",
     "iopub.status.idle": "2025-02-11T19:28:05.666379Z",
     "shell.execute_reply": "2025-02-11T19:28:05.665195Z"
    },
    "papermill": {
     "duration": 3.248838,
     "end_time": "2025-02-11T19:28:05.668418",
     "exception": false,
     "start_time": "2025-02-11T19:28:02.419580",
     "status": "completed"
    },
    "tags": []
   },
   "outputs": [
    {
     "data": {
      "text/html": [
       "        <script type=\"text/javascript\">\n",
       "        window.PlotlyConfig = {MathJaxConfig: 'local'};\n",
       "        if (window.MathJax && window.MathJax.Hub && window.MathJax.Hub.Config) {window.MathJax.Hub.Config({SVG: {font: \"STIX-Web\"}});}\n",
       "        if (typeof require !== 'undefined') {\n",
       "        require.undef(\"plotly\");\n",
       "        requirejs.config({\n",
       "            paths: {\n",
       "                'plotly': ['https://cdn.plot.ly/plotly-2.35.2.min']\n",
       "            }\n",
       "        });\n",
       "        require(['plotly'], function(Plotly) {\n",
       "            window._Plotly = Plotly;\n",
       "        });\n",
       "        }\n",
       "        </script>\n",
       "        "
      ]
     },
     "metadata": {},
     "output_type": "display_data"
    },
    {
     "data": {
      "text/html": [
       "<iframe\n",
       "    scrolling=\"no\"\n",
       "    width=\"100%\"\n",
       "    height=\"545px\"\n",
       "    src=\"iframe_figures/figure_3.html\"\n",
       "    frameborder=\"0\"\n",
       "    allowfullscreen\n",
       "></iframe>\n"
      ]
     },
     "metadata": {},
     "output_type": "display_data"
    }
   ],
   "source": [
    "from plotly import express\n",
    "from plotly.offline import init_notebook_mode\n",
    "\n",
    "init_notebook_mode(connected=True)\n",
    "express.scatter(data_frame=plot_df, x='x', y='y', color='species').show(renderer='iframe_connected',)"
   ]
  },
  {
   "cell_type": "markdown",
   "id": "4be96dc4",
   "metadata": {
    "papermill": {
     "duration": 0.002946,
     "end_time": "2025-02-11T19:28:05.675424",
     "exception": false,
     "start_time": "2025-02-11T19:28:05.672478",
     "status": "completed"
    },
    "tags": []
   },
   "source": [
    "What do we see? We see that Setosa irises are very different from the other two species, but we have some hard cases between the other two species. Let's build a model."
   ]
  },
  {
   "cell_type": "code",
   "execution_count": 4,
   "id": "56d44b86",
   "metadata": {
    "execution": {
     "iopub.execute_input": "2025-02-11T19:28:05.683161Z",
     "iopub.status.busy": "2025-02-11T19:28:05.682776Z",
     "iopub.status.idle": "2025-02-11T19:28:05.740783Z",
     "shell.execute_reply": "2025-02-11T19:28:05.739389Z"
    },
    "papermill": {
     "duration": 0.064316,
     "end_time": "2025-02-11T19:28:05.742928",
     "exception": false,
     "start_time": "2025-02-11T19:28:05.678612",
     "status": "completed"
    },
    "tags": []
   },
   "outputs": [
    {
     "name": "stdout",
     "output_type": "stream",
     "text": [
      "model fit in 103 iterations\n",
      "accuracy: 0.9667\n",
      "f1: 0.9666\n",
      "                 precision    recall  f1-score   support\n",
      "\n",
      "    Iris-setosa       1.00      1.00      1.00        10\n",
      "Iris-versicolor       0.91      1.00      0.95        10\n",
      " Iris-virginica       1.00      0.90      0.95        10\n",
      "\n",
      "       accuracy                           0.97        30\n",
      "      macro avg       0.97      0.97      0.97        30\n",
      "   weighted avg       0.97      0.97      0.97        30\n",
      "\n"
     ]
    }
   ],
   "source": [
    "from sklearn.linear_model import LogisticRegression\n",
    "from sklearn.metrics import accuracy_score\n",
    "from sklearn.metrics import classification_report\n",
    "from sklearn.metrics import f1_score\n",
    "from sklearn.model_selection import train_test_split\n",
    "\n",
    "X_train, X_test, y_train, y_test = train_test_split(df[['sepal_length', 'sepal_width', 'petal_length', 'petal_width']], df['species'], test_size=0.2, random_state=2024, stratify=df['species'])\n",
    "logreg = LogisticRegression(max_iter=1000, tol=1e-12).fit(X_train, y_train)\n",
    "print('model fit in {} iterations'.format(logreg.n_iter_[0]))\n",
    "print('accuracy: {:5.4f}'.format(accuracy_score(y_true=y_test, y_pred=logreg.predict(X=X_test))))\n",
    "print('f1: {:5.4f}'.format(f1_score(average='weighted', y_true=y_test, y_pred=logreg.predict(X=X_test))))\n",
    "print(classification_report(y_true=y_test, y_pred=logreg.predict(X=X_test)))"
   ]
  },
  {
   "cell_type": "markdown",
   "id": "20c2ee9d",
   "metadata": {
    "papermill": {
     "duration": 0.003075,
     "end_time": "2025-02-11T19:28:05.749400",
     "exception": false,
     "start_time": "2025-02-11T19:28:05.746325",
     "status": "completed"
    },
    "tags": []
   },
   "source": [
    "Let's visualize our model results with model probabilities."
   ]
  },
  {
   "cell_type": "code",
   "execution_count": 5,
   "id": "d0a34e77",
   "metadata": {
    "execution": {
     "iopub.execute_input": "2025-02-11T19:28:05.757075Z",
     "iopub.status.busy": "2025-02-11T19:28:05.756668Z",
     "iopub.status.idle": "2025-02-11T19:28:06.043457Z",
     "shell.execute_reply": "2025-02-11T19:28:06.041957Z"
    },
    "papermill": {
     "duration": 0.29296,
     "end_time": "2025-02-11T19:28:06.045506",
     "exception": false,
     "start_time": "2025-02-11T19:28:05.752546",
     "status": "completed"
    },
    "tags": []
   },
   "outputs": [
    {
     "data": {
      "text/html": [
       "<iframe\n",
       "    scrolling=\"no\"\n",
       "    width=\"100%\"\n",
       "    height=\"545px\"\n",
       "    src=\"iframe_figures/figure_5.html\"\n",
       "    frameborder=\"0\"\n",
       "    allowfullscreen\n",
       "></iframe>\n"
      ]
     },
     "metadata": {},
     "output_type": "display_data"
    }
   ],
   "source": [
    "reducer_test = TSNE(random_state=RANDOM_STATE, perplexity=9)\n",
    "plot_test_df = pd.DataFrame(columns=['x', 'y'], data=reducer_test.fit_transform(X=X_test))\n",
    "plot_test_df['model probability'] = logreg.predict_proba(X=X_test).max(axis=1)\n",
    "plot_test_df['true'] = y_test.tolist()\n",
    "plot_test_df['predicted'] = logreg.predict(X=X_test).tolist()\n",
    "plot_test_df['correct'] = plot_test_df['true'] == plot_test_df['predicted']\n",
    "express.scatter(data_frame=plot_test_df, x='x', y='y', color='model probability', hover_name='true', hover_data=['predicted']).show(renderer='iframe_connected',)"
   ]
  },
  {
   "cell_type": "code",
   "execution_count": 6,
   "id": "5e8c560e",
   "metadata": {
    "execution": {
     "iopub.execute_input": "2025-02-11T19:28:06.053925Z",
     "iopub.status.busy": "2025-02-11T19:28:06.053592Z",
     "iopub.status.idle": "2025-02-11T19:28:06.070016Z",
     "shell.execute_reply": "2025-02-11T19:28:06.069077Z"
    },
    "papermill": {
     "duration": 0.022595,
     "end_time": "2025-02-11T19:28:06.071763",
     "exception": false,
     "start_time": "2025-02-11T19:28:06.049168",
     "status": "completed"
    },
    "tags": []
   },
   "outputs": [
    {
     "data": {
      "text/html": [
       "<div>\n",
       "<style scoped>\n",
       "    .dataframe tbody tr th:only-of-type {\n",
       "        vertical-align: middle;\n",
       "    }\n",
       "\n",
       "    .dataframe tbody tr th {\n",
       "        vertical-align: top;\n",
       "    }\n",
       "\n",
       "    .dataframe thead th {\n",
       "        text-align: right;\n",
       "    }\n",
       "</style>\n",
       "<table border=\"1\" class=\"dataframe\">\n",
       "  <thead>\n",
       "    <tr style=\"text-align: right;\">\n",
       "      <th></th>\n",
       "      <th>x</th>\n",
       "      <th>y</th>\n",
       "      <th>model probability</th>\n",
       "      <th>true</th>\n",
       "      <th>predicted</th>\n",
       "      <th>correct</th>\n",
       "    </tr>\n",
       "  </thead>\n",
       "  <tbody>\n",
       "    <tr>\n",
       "      <th>3</th>\n",
       "      <td>10.422758</td>\n",
       "      <td>9.499957</td>\n",
       "      <td>0.612915</td>\n",
       "      <td>Iris-virginica</td>\n",
       "      <td>Iris-versicolor</td>\n",
       "      <td>False</td>\n",
       "    </tr>\n",
       "    <tr>\n",
       "      <th>14</th>\n",
       "      <td>12.989719</td>\n",
       "      <td>10.541120</td>\n",
       "      <td>0.579409</td>\n",
       "      <td>Iris-versicolor</td>\n",
       "      <td>Iris-versicolor</td>\n",
       "      <td>True</td>\n",
       "    </tr>\n",
       "    <tr>\n",
       "      <th>21</th>\n",
       "      <td>9.666318</td>\n",
       "      <td>6.967516</td>\n",
       "      <td>0.694709</td>\n",
       "      <td>Iris-versicolor</td>\n",
       "      <td>Iris-versicolor</td>\n",
       "      <td>True</td>\n",
       "    </tr>\n",
       "    <tr>\n",
       "      <th>7</th>\n",
       "      <td>12.731920</td>\n",
       "      <td>9.756556</td>\n",
       "      <td>0.765967</td>\n",
       "      <td>Iris-versicolor</td>\n",
       "      <td>Iris-versicolor</td>\n",
       "      <td>True</td>\n",
       "    </tr>\n",
       "    <tr>\n",
       "      <th>4</th>\n",
       "      <td>12.098927</td>\n",
       "      <td>11.093219</td>\n",
       "      <td>0.807135</td>\n",
       "      <td>Iris-virginica</td>\n",
       "      <td>Iris-virginica</td>\n",
       "      <td>True</td>\n",
       "    </tr>\n",
       "  </tbody>\n",
       "</table>\n",
       "</div>"
      ],
      "text/plain": [
       "            x          y  model probability             true        predicted  \\\n",
       "3   10.422758   9.499957           0.612915   Iris-virginica  Iris-versicolor   \n",
       "14  12.989719  10.541120           0.579409  Iris-versicolor  Iris-versicolor   \n",
       "21   9.666318   6.967516           0.694709  Iris-versicolor  Iris-versicolor   \n",
       "7   12.731920   9.756556           0.765967  Iris-versicolor  Iris-versicolor   \n",
       "4   12.098927  11.093219           0.807135   Iris-virginica   Iris-virginica   \n",
       "\n",
       "    correct  \n",
       "3     False  \n",
       "14     True  \n",
       "21     True  \n",
       "7      True  \n",
       "4      True  "
      ]
     },
     "execution_count": 6,
     "metadata": {},
     "output_type": "execute_result"
    }
   ],
   "source": [
    "plot_test_df.sort_values(by=['correct', 'model probability'], ascending=True).head(n=5)"
   ]
  },
  {
   "cell_type": "markdown",
   "id": "446662de",
   "metadata": {
    "papermill": {
     "duration": 0.003268,
     "end_time": "2025-02-11T19:28:06.079044",
     "exception": false,
     "start_time": "2025-02-11T19:28:06.075776",
     "status": "completed"
    },
    "tags": []
   },
   "source": [
    "What do we see? We see that our only mis-prediction occurs when the model probability is low, but not when the model probability is the lowest."
   ]
  }
 ],
 "metadata": {
  "kaggle": {
   "accelerator": "none",
   "dataSources": [
    {
     "datasetId": 6641988,
     "sourceId": 10715604,
     "sourceType": "datasetVersion"
    }
   ],
   "dockerImageVersionId": 30886,
   "isGpuEnabled": false,
   "isInternetEnabled": true,
   "language": "python",
   "sourceType": "notebook"
  },
  "kernelspec": {
   "display_name": "Python 3",
   "language": "python",
   "name": "python3"
  },
  "language_info": {
   "codemirror_mode": {
    "name": "ipython",
    "version": 3
   },
   "file_extension": ".py",
   "mimetype": "text/x-python",
   "name": "python",
   "nbconvert_exporter": "python",
   "pygments_lexer": "ipython3",
   "version": "3.10.12"
  },
  "papermill": {
   "default_parameters": {},
   "duration": 11.338376,
   "end_time": "2025-02-11T19:28:07.006497",
   "environment_variables": {},
   "exception": null,
   "input_path": "__notebook__.ipynb",
   "output_path": "__notebook__.ipynb",
   "parameters": {},
   "start_time": "2025-02-11T19:27:55.668121",
   "version": "2.6.0"
  }
 },
 "nbformat": 4,
 "nbformat_minor": 5
}
