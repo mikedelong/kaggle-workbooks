{
 "cells": [
  {
   "cell_type": "code",
   "execution_count": 1,
   "id": "4bd0e180",
   "metadata": {
    "execution": {
     "iopub.execute_input": "2023-12-16T16:54:17.257865Z",
     "iopub.status.busy": "2023-12-16T16:54:17.256989Z",
     "iopub.status.idle": "2023-12-16T16:54:17.622303Z",
     "shell.execute_reply": "2023-12-16T16:54:17.620790Z"
    },
    "papermill": {
     "duration": 0.373552,
     "end_time": "2023-12-16T16:54:17.625628",
     "exception": false,
     "start_time": "2023-12-16T16:54:17.252076",
     "status": "completed"
    },
    "tags": []
   },
   "outputs": [
    {
     "data": {
      "text/html": [
       "<div>\n",
       "<style scoped>\n",
       "    .dataframe tbody tr th:only-of-type {\n",
       "        vertical-align: middle;\n",
       "    }\n",
       "\n",
       "    .dataframe tbody tr th {\n",
       "        vertical-align: top;\n",
       "    }\n",
       "\n",
       "    .dataframe thead th {\n",
       "        text-align: right;\n",
       "    }\n",
       "</style>\n",
       "<table border=\"1\" class=\"dataframe\">\n",
       "  <thead>\n",
       "    <tr style=\"text-align: right;\">\n",
       "      <th></th>\n",
       "      <th>Language</th>\n",
       "      <th>Endonym</th>\n",
       "      <th>World Region</th>\n",
       "      <th>Country</th>\n",
       "      <th>Global Speakers</th>\n",
       "      <th>Language Family</th>\n",
       "      <th>Location</th>\n",
       "      <th>Size</th>\n",
       "      <th>Status</th>\n",
       "    </tr>\n",
       "  </thead>\n",
       "  <tbody>\n",
       "    <tr>\n",
       "      <th>0</th>\n",
       "      <td>Abaza</td>\n",
       "      <td>Абаза</td>\n",
       "      <td>Western Asia</td>\n",
       "      <td>Turkey,\\nRussia</td>\n",
       "      <td>49800.0</td>\n",
       "      <td>Abkhaz-Adyge</td>\n",
       "      <td>Wayne (NJ)</td>\n",
       "      <td>Smallest</td>\n",
       "      <td>Residential</td>\n",
       "    </tr>\n",
       "    <tr>\n",
       "      <th>1</th>\n",
       "      <td>Abruzzese</td>\n",
       "      <td>NaN</td>\n",
       "      <td>Southern Europe</td>\n",
       "      <td>Italy</td>\n",
       "      <td>NaN</td>\n",
       "      <td>Indo-European</td>\n",
       "      <td>Astoria</td>\n",
       "      <td>Small</td>\n",
       "      <td>Residential</td>\n",
       "    </tr>\n",
       "    <tr>\n",
       "      <th>2</th>\n",
       "      <td>Abruzzese</td>\n",
       "      <td>NaN</td>\n",
       "      <td>Southern Europe</td>\n",
       "      <td>Italy</td>\n",
       "      <td>NaN</td>\n",
       "      <td>Indo-European</td>\n",
       "      <td>Little Italy</td>\n",
       "      <td>Small</td>\n",
       "      <td>Historical</td>\n",
       "    </tr>\n",
       "    <tr>\n",
       "      <th>3</th>\n",
       "      <td>Acehnese</td>\n",
       "      <td>Bahsa Acèh</td>\n",
       "      <td>Southeastern Asia</td>\n",
       "      <td>Indonesia</td>\n",
       "      <td>3500000.0</td>\n",
       "      <td>Austronesian</td>\n",
       "      <td>Astoria</td>\n",
       "      <td>Smallest</td>\n",
       "      <td>Community</td>\n",
       "    </tr>\n",
       "    <tr>\n",
       "      <th>4</th>\n",
       "      <td>Acehnese</td>\n",
       "      <td>Bahsa Acèh</td>\n",
       "      <td>Southeastern Asia</td>\n",
       "      <td>Indonesia</td>\n",
       "      <td>3500000.0</td>\n",
       "      <td>Austronesian</td>\n",
       "      <td>Elmhurst</td>\n",
       "      <td>Smallest</td>\n",
       "      <td>Residential</td>\n",
       "    </tr>\n",
       "  </tbody>\n",
       "</table>\n",
       "</div>"
      ],
      "text/plain": [
       "    Language     Endonym       World Region          Country  Global Speakers  \\\n",
       "0      Abaza       Абаза       Western Asia  Turkey,\\nRussia          49800.0   \n",
       "1  Abruzzese         NaN    Southern Europe            Italy              NaN   \n",
       "2  Abruzzese         NaN    Southern Europe            Italy              NaN   \n",
       "3   Acehnese  Bahsa Acèh  Southeastern Asia        Indonesia        3500000.0   \n",
       "4   Acehnese  Bahsa Acèh  Southeastern Asia        Indonesia        3500000.0   \n",
       "\n",
       "  Language Family      Location      Size       Status  \n",
       "0    Abkhaz-Adyge    Wayne (NJ)  Smallest  Residential  \n",
       "1   Indo-European       Astoria     Small  Residential  \n",
       "2   Indo-European  Little Italy     Small   Historical  \n",
       "3    Austronesian       Astoria  Smallest    Community  \n",
       "4    Austronesian      Elmhurst  Smallest  Residential  "
      ]
     },
     "execution_count": 1,
     "metadata": {},
     "output_type": "execute_result"
    }
   ],
   "source": [
    "import pandas as pd\n",
    "df = pd.read_csv(filepath_or_buffer='/kaggle/input/nyc-languages/nyc-language-data.csv', thousands=',')\n",
    "df.head()"
   ]
  },
  {
   "cell_type": "code",
   "execution_count": 2,
   "id": "eb04d561",
   "metadata": {
    "execution": {
     "iopub.execute_input": "2023-12-16T16:54:17.633689Z",
     "iopub.status.busy": "2023-12-16T16:54:17.633304Z",
     "iopub.status.idle": "2023-12-16T16:54:17.664005Z",
     "shell.execute_reply": "2023-12-16T16:54:17.661829Z"
    },
    "papermill": {
     "duration": 0.037178,
     "end_time": "2023-12-16T16:54:17.666256",
     "exception": false,
     "start_time": "2023-12-16T16:54:17.629078",
     "status": "completed"
    },
    "tags": []
   },
   "outputs": [
    {
     "name": "stdout",
     "output_type": "stream",
     "text": [
      "<class 'pandas.core.frame.DataFrame'>\n",
      "RangeIndex: 1270 entries, 0 to 1269\n",
      "Data columns (total 9 columns):\n",
      " #   Column           Non-Null Count  Dtype  \n",
      "---  ------           --------------  -----  \n",
      " 0   Language         1270 non-null   object \n",
      " 1   Endonym          1106 non-null   object \n",
      " 2   World Region     1270 non-null   object \n",
      " 3   Country          1270 non-null   object \n",
      " 4   Global Speakers  1099 non-null   float64\n",
      " 5   Language Family  1263 non-null   object \n",
      " 6   Location         1270 non-null   object \n",
      " 7   Size             1270 non-null   object \n",
      " 8   Status           1270 non-null   object \n",
      "dtypes: float64(1), object(8)\n",
      "memory usage: 89.4+ KB\n"
     ]
    }
   ],
   "source": [
    "df.info()"
   ]
  },
  {
   "cell_type": "code",
   "execution_count": 3,
   "id": "447761fb",
   "metadata": {
    "execution": {
     "iopub.execute_input": "2023-12-16T16:54:17.675436Z",
     "iopub.status.busy": "2023-12-16T16:54:17.673879Z",
     "iopub.status.idle": "2023-12-16T16:54:17.685058Z",
     "shell.execute_reply": "2023-12-16T16:54:17.683840Z"
    },
    "papermill": {
     "duration": 0.017601,
     "end_time": "2023-12-16T16:54:17.687324",
     "exception": false,
     "start_time": "2023-12-16T16:54:17.669723",
     "status": "completed"
    },
    "tags": []
   },
   "outputs": [
    {
     "data": {
      "text/plain": [
       "Language           730\n",
       "Endonym            621\n",
       "World Region        22\n",
       "Country            344\n",
       "Global Speakers    525\n",
       "Language Family     47\n",
       "Location           259\n",
       "Size                 5\n",
       "Status               5\n",
       "dtype: int64"
      ]
     },
     "execution_count": 3,
     "metadata": {},
     "output_type": "execute_result"
    }
   ],
   "source": [
    "df.nunique()"
   ]
  },
  {
   "cell_type": "code",
   "execution_count": 4,
   "id": "19e93f8e",
   "metadata": {
    "execution": {
     "iopub.execute_input": "2023-12-16T16:54:17.695623Z",
     "iopub.status.busy": "2023-12-16T16:54:17.695245Z",
     "iopub.status.idle": "2023-12-16T16:54:20.206264Z",
     "shell.execute_reply": "2023-12-16T16:54:20.205322Z"
    },
    "papermill": {
     "duration": 2.517439,
     "end_time": "2023-12-16T16:54:20.208184",
     "exception": false,
     "start_time": "2023-12-16T16:54:17.690745",
     "status": "completed"
    },
    "tags": []
   },
   "outputs": [
    {
     "data": {
      "text/html": [
       "        <script type=\"text/javascript\">\n",
       "        window.PlotlyConfig = {MathJaxConfig: 'local'};\n",
       "        if (window.MathJax && window.MathJax.Hub && window.MathJax.Hub.Config) {window.MathJax.Hub.Config({SVG: {font: \"STIX-Web\"}});}\n",
       "        if (typeof require !== 'undefined') {\n",
       "        require.undef(\"plotly\");\n",
       "        requirejs.config({\n",
       "            paths: {\n",
       "                'plotly': ['https://cdn.plot.ly/plotly-2.25.2.min']\n",
       "            }\n",
       "        });\n",
       "        require(['plotly'], function(Plotly) {\n",
       "            window._Plotly = Plotly;\n",
       "        });\n",
       "        }\n",
       "        </script>\n",
       "        "
      ]
     },
     "metadata": {},
     "output_type": "display_data"
    },
    {
     "data": {
      "text/html": [
       "<div>                            <div id=\"c533d320-624a-47d1-a934-7b745b64681b\" class=\"plotly-graph-div\" style=\"height:525px; width:100%;\"></div>            <script type=\"text/javascript\">                require([\"plotly\"], function(Plotly) {                    window.PLOTLYENV=window.PLOTLYENV || {};                                    if (document.getElementById(\"c533d320-624a-47d1-a934-7b745b64681b\")) {                    Plotly.newPlot(                        \"c533d320-624a-47d1-a934-7b745b64681b\",                        [{\"alignmentgroup\":\"True\",\"hovertemplate\":\"World Region=%{x}\\u003cbr\\u003ecount=%{y}\\u003cextra\\u003e\\u003c\\u002fextra\\u003e\",\"legendgroup\":\"\",\"marker\":{\"color\":\"#636efa\",\"pattern\":{\"shape\":\"\"}},\"name\":\"\",\"offsetgroup\":\"\",\"orientation\":\"v\",\"showlegend\":false,\"textposition\":\"auto\",\"x\":[\"Southern Asia\",\"Western Africa\",\"Southern Europe\",\"Southeastern Asia\",\"Western Asia\",\"Eastern Europe\",\"Eastern Asia\",\"Central America\",\"Northern America\",\"Caribbean\",\"Western Europe\",\"South America\",\"Northern Africa\",\"Northern Europe\",\"Eastern Africa\",\"Middle Africa\",\"Central Asia\",\"Southern Africa\",\"Melanesia\",\"Micronesia\",\"Australia and New Zealand\",\"Polynesia\"],\"xaxis\":\"x\",\"y\":[206,138,130,111,78,78,74,73,62,58,41,40,37,35,33,27,20,11,7,6,3,2],\"yaxis\":\"y\",\"type\":\"bar\"}],                        {\"template\":{\"data\":{\"histogram2dcontour\":[{\"type\":\"histogram2dcontour\",\"colorbar\":{\"outlinewidth\":0,\"ticks\":\"\"},\"colorscale\":[[0.0,\"#0d0887\"],[0.1111111111111111,\"#46039f\"],[0.2222222222222222,\"#7201a8\"],[0.3333333333333333,\"#9c179e\"],[0.4444444444444444,\"#bd3786\"],[0.5555555555555556,\"#d8576b\"],[0.6666666666666666,\"#ed7953\"],[0.7777777777777778,\"#fb9f3a\"],[0.8888888888888888,\"#fdca26\"],[1.0,\"#f0f921\"]]}],\"choropleth\":[{\"type\":\"choropleth\",\"colorbar\":{\"outlinewidth\":0,\"ticks\":\"\"}}],\"histogram2d\":[{\"type\":\"histogram2d\",\"colorbar\":{\"outlinewidth\":0,\"ticks\":\"\"},\"colorscale\":[[0.0,\"#0d0887\"],[0.1111111111111111,\"#46039f\"],[0.2222222222222222,\"#7201a8\"],[0.3333333333333333,\"#9c179e\"],[0.4444444444444444,\"#bd3786\"],[0.5555555555555556,\"#d8576b\"],[0.6666666666666666,\"#ed7953\"],[0.7777777777777778,\"#fb9f3a\"],[0.8888888888888888,\"#fdca26\"],[1.0,\"#f0f921\"]]}],\"heatmap\":[{\"type\":\"heatmap\",\"colorbar\":{\"outlinewidth\":0,\"ticks\":\"\"},\"colorscale\":[[0.0,\"#0d0887\"],[0.1111111111111111,\"#46039f\"],[0.2222222222222222,\"#7201a8\"],[0.3333333333333333,\"#9c179e\"],[0.4444444444444444,\"#bd3786\"],[0.5555555555555556,\"#d8576b\"],[0.6666666666666666,\"#ed7953\"],[0.7777777777777778,\"#fb9f3a\"],[0.8888888888888888,\"#fdca26\"],[1.0,\"#f0f921\"]]}],\"heatmapgl\":[{\"type\":\"heatmapgl\",\"colorbar\":{\"outlinewidth\":0,\"ticks\":\"\"},\"colorscale\":[[0.0,\"#0d0887\"],[0.1111111111111111,\"#46039f\"],[0.2222222222222222,\"#7201a8\"],[0.3333333333333333,\"#9c179e\"],[0.4444444444444444,\"#bd3786\"],[0.5555555555555556,\"#d8576b\"],[0.6666666666666666,\"#ed7953\"],[0.7777777777777778,\"#fb9f3a\"],[0.8888888888888888,\"#fdca26\"],[1.0,\"#f0f921\"]]}],\"contourcarpet\":[{\"type\":\"contourcarpet\",\"colorbar\":{\"outlinewidth\":0,\"ticks\":\"\"}}],\"contour\":[{\"type\":\"contour\",\"colorbar\":{\"outlinewidth\":0,\"ticks\":\"\"},\"colorscale\":[[0.0,\"#0d0887\"],[0.1111111111111111,\"#46039f\"],[0.2222222222222222,\"#7201a8\"],[0.3333333333333333,\"#9c179e\"],[0.4444444444444444,\"#bd3786\"],[0.5555555555555556,\"#d8576b\"],[0.6666666666666666,\"#ed7953\"],[0.7777777777777778,\"#fb9f3a\"],[0.8888888888888888,\"#fdca26\"],[1.0,\"#f0f921\"]]}],\"surface\":[{\"type\":\"surface\",\"colorbar\":{\"outlinewidth\":0,\"ticks\":\"\"},\"colorscale\":[[0.0,\"#0d0887\"],[0.1111111111111111,\"#46039f\"],[0.2222222222222222,\"#7201a8\"],[0.3333333333333333,\"#9c179e\"],[0.4444444444444444,\"#bd3786\"],[0.5555555555555556,\"#d8576b\"],[0.6666666666666666,\"#ed7953\"],[0.7777777777777778,\"#fb9f3a\"],[0.8888888888888888,\"#fdca26\"],[1.0,\"#f0f921\"]]}],\"mesh3d\":[{\"type\":\"mesh3d\",\"colorbar\":{\"outlinewidth\":0,\"ticks\":\"\"}}],\"scatter\":[{\"fillpattern\":{\"fillmode\":\"overlay\",\"size\":10,\"solidity\":0.2},\"type\":\"scatter\"}],\"parcoords\":[{\"type\":\"parcoords\",\"line\":{\"colorbar\":{\"outlinewidth\":0,\"ticks\":\"\"}}}],\"scatterpolargl\":[{\"type\":\"scatterpolargl\",\"marker\":{\"colorbar\":{\"outlinewidth\":0,\"ticks\":\"\"}}}],\"bar\":[{\"error_x\":{\"color\":\"#2a3f5f\"},\"error_y\":{\"color\":\"#2a3f5f\"},\"marker\":{\"line\":{\"color\":\"#E5ECF6\",\"width\":0.5},\"pattern\":{\"fillmode\":\"overlay\",\"size\":10,\"solidity\":0.2}},\"type\":\"bar\"}],\"scattergeo\":[{\"type\":\"scattergeo\",\"marker\":{\"colorbar\":{\"outlinewidth\":0,\"ticks\":\"\"}}}],\"scatterpolar\":[{\"type\":\"scatterpolar\",\"marker\":{\"colorbar\":{\"outlinewidth\":0,\"ticks\":\"\"}}}],\"histogram\":[{\"marker\":{\"pattern\":{\"fillmode\":\"overlay\",\"size\":10,\"solidity\":0.2}},\"type\":\"histogram\"}],\"scattergl\":[{\"type\":\"scattergl\",\"marker\":{\"colorbar\":{\"outlinewidth\":0,\"ticks\":\"\"}}}],\"scatter3d\":[{\"type\":\"scatter3d\",\"line\":{\"colorbar\":{\"outlinewidth\":0,\"ticks\":\"\"}},\"marker\":{\"colorbar\":{\"outlinewidth\":0,\"ticks\":\"\"}}}],\"scattermapbox\":[{\"type\":\"scattermapbox\",\"marker\":{\"colorbar\":{\"outlinewidth\":0,\"ticks\":\"\"}}}],\"scatterternary\":[{\"type\":\"scatterternary\",\"marker\":{\"colorbar\":{\"outlinewidth\":0,\"ticks\":\"\"}}}],\"scattercarpet\":[{\"type\":\"scattercarpet\",\"marker\":{\"colorbar\":{\"outlinewidth\":0,\"ticks\":\"\"}}}],\"carpet\":[{\"aaxis\":{\"endlinecolor\":\"#2a3f5f\",\"gridcolor\":\"white\",\"linecolor\":\"white\",\"minorgridcolor\":\"white\",\"startlinecolor\":\"#2a3f5f\"},\"baxis\":{\"endlinecolor\":\"#2a3f5f\",\"gridcolor\":\"white\",\"linecolor\":\"white\",\"minorgridcolor\":\"white\",\"startlinecolor\":\"#2a3f5f\"},\"type\":\"carpet\"}],\"table\":[{\"cells\":{\"fill\":{\"color\":\"#EBF0F8\"},\"line\":{\"color\":\"white\"}},\"header\":{\"fill\":{\"color\":\"#C8D4E3\"},\"line\":{\"color\":\"white\"}},\"type\":\"table\"}],\"barpolar\":[{\"marker\":{\"line\":{\"color\":\"#E5ECF6\",\"width\":0.5},\"pattern\":{\"fillmode\":\"overlay\",\"size\":10,\"solidity\":0.2}},\"type\":\"barpolar\"}],\"pie\":[{\"automargin\":true,\"type\":\"pie\"}]},\"layout\":{\"autotypenumbers\":\"strict\",\"colorway\":[\"#636efa\",\"#EF553B\",\"#00cc96\",\"#ab63fa\",\"#FFA15A\",\"#19d3f3\",\"#FF6692\",\"#B6E880\",\"#FF97FF\",\"#FECB52\"],\"font\":{\"color\":\"#2a3f5f\"},\"hovermode\":\"closest\",\"hoverlabel\":{\"align\":\"left\"},\"paper_bgcolor\":\"white\",\"plot_bgcolor\":\"#E5ECF6\",\"polar\":{\"bgcolor\":\"#E5ECF6\",\"angularaxis\":{\"gridcolor\":\"white\",\"linecolor\":\"white\",\"ticks\":\"\"},\"radialaxis\":{\"gridcolor\":\"white\",\"linecolor\":\"white\",\"ticks\":\"\"}},\"ternary\":{\"bgcolor\":\"#E5ECF6\",\"aaxis\":{\"gridcolor\":\"white\",\"linecolor\":\"white\",\"ticks\":\"\"},\"baxis\":{\"gridcolor\":\"white\",\"linecolor\":\"white\",\"ticks\":\"\"},\"caxis\":{\"gridcolor\":\"white\",\"linecolor\":\"white\",\"ticks\":\"\"}},\"coloraxis\":{\"colorbar\":{\"outlinewidth\":0,\"ticks\":\"\"}},\"colorscale\":{\"sequential\":[[0.0,\"#0d0887\"],[0.1111111111111111,\"#46039f\"],[0.2222222222222222,\"#7201a8\"],[0.3333333333333333,\"#9c179e\"],[0.4444444444444444,\"#bd3786\"],[0.5555555555555556,\"#d8576b\"],[0.6666666666666666,\"#ed7953\"],[0.7777777777777778,\"#fb9f3a\"],[0.8888888888888888,\"#fdca26\"],[1.0,\"#f0f921\"]],\"sequentialminus\":[[0.0,\"#0d0887\"],[0.1111111111111111,\"#46039f\"],[0.2222222222222222,\"#7201a8\"],[0.3333333333333333,\"#9c179e\"],[0.4444444444444444,\"#bd3786\"],[0.5555555555555556,\"#d8576b\"],[0.6666666666666666,\"#ed7953\"],[0.7777777777777778,\"#fb9f3a\"],[0.8888888888888888,\"#fdca26\"],[1.0,\"#f0f921\"]],\"diverging\":[[0,\"#8e0152\"],[0.1,\"#c51b7d\"],[0.2,\"#de77ae\"],[0.3,\"#f1b6da\"],[0.4,\"#fde0ef\"],[0.5,\"#f7f7f7\"],[0.6,\"#e6f5d0\"],[0.7,\"#b8e186\"],[0.8,\"#7fbc41\"],[0.9,\"#4d9221\"],[1,\"#276419\"]]},\"xaxis\":{\"gridcolor\":\"white\",\"linecolor\":\"white\",\"ticks\":\"\",\"title\":{\"standoff\":15},\"zerolinecolor\":\"white\",\"automargin\":true,\"zerolinewidth\":2},\"yaxis\":{\"gridcolor\":\"white\",\"linecolor\":\"white\",\"ticks\":\"\",\"title\":{\"standoff\":15},\"zerolinecolor\":\"white\",\"automargin\":true,\"zerolinewidth\":2},\"scene\":{\"xaxis\":{\"backgroundcolor\":\"#E5ECF6\",\"gridcolor\":\"white\",\"linecolor\":\"white\",\"showbackground\":true,\"ticks\":\"\",\"zerolinecolor\":\"white\",\"gridwidth\":2},\"yaxis\":{\"backgroundcolor\":\"#E5ECF6\",\"gridcolor\":\"white\",\"linecolor\":\"white\",\"showbackground\":true,\"ticks\":\"\",\"zerolinecolor\":\"white\",\"gridwidth\":2},\"zaxis\":{\"backgroundcolor\":\"#E5ECF6\",\"gridcolor\":\"white\",\"linecolor\":\"white\",\"showbackground\":true,\"ticks\":\"\",\"zerolinecolor\":\"white\",\"gridwidth\":2}},\"shapedefaults\":{\"line\":{\"color\":\"#2a3f5f\"}},\"annotationdefaults\":{\"arrowcolor\":\"#2a3f5f\",\"arrowhead\":0,\"arrowwidth\":1},\"geo\":{\"bgcolor\":\"white\",\"landcolor\":\"#E5ECF6\",\"subunitcolor\":\"white\",\"showland\":true,\"showlakes\":true,\"lakecolor\":\"white\"},\"title\":{\"x\":0.05},\"mapbox\":{\"style\":\"light\"}}},\"xaxis\":{\"anchor\":\"y\",\"domain\":[0.0,1.0],\"title\":{\"text\":\"World Region\"}},\"yaxis\":{\"anchor\":\"x\",\"domain\":[0.0,1.0],\"title\":{\"text\":\"count\"}},\"legend\":{\"tracegroupgap\":0},\"margin\":{\"t\":60},\"barmode\":\"relative\"},                        {\"responsive\": true}                    ).then(function(){\n",
       "                            \n",
       "var gd = document.getElementById('c533d320-624a-47d1-a934-7b745b64681b');\n",
       "var x = new MutationObserver(function (mutations, observer) {{\n",
       "        var display = window.getComputedStyle(gd).display;\n",
       "        if (!display || display === 'none') {{\n",
       "            console.log([gd, 'removed!']);\n",
       "            Plotly.purge(gd);\n",
       "            observer.disconnect();\n",
       "        }}\n",
       "}});\n",
       "\n",
       "// Listen for the removal of the full notebook cells\n",
       "var notebookContainer = gd.closest('#notebook-container');\n",
       "if (notebookContainer) {{\n",
       "    x.observe(notebookContainer, {childList: true});\n",
       "}}\n",
       "\n",
       "// Listen for the clearing of the current output cell\n",
       "var outputEl = gd.closest('.output');\n",
       "if (outputEl) {{\n",
       "    x.observe(outputEl, {childList: true});\n",
       "}}\n",
       "\n",
       "                        })                };                });            </script>        </div>"
      ]
     },
     "metadata": {},
     "output_type": "display_data"
    },
    {
     "data": {
      "text/html": [
       "<div>                            <div id=\"a182c404-2ebd-4a6d-99e8-1614c66a0d0f\" class=\"plotly-graph-div\" style=\"height:525px; width:100%;\"></div>            <script type=\"text/javascript\">                require([\"plotly\"], function(Plotly) {                    window.PLOTLYENV=window.PLOTLYENV || {};                                    if (document.getElementById(\"a182c404-2ebd-4a6d-99e8-1614c66a0d0f\")) {                    Plotly.newPlot(                        \"a182c404-2ebd-4a6d-99e8-1614c66a0d0f\",                        [{\"alignmentgroup\":\"True\",\"hovertemplate\":\"Size=%{x}\\u003cbr\\u003ecount=%{y}\\u003cextra\\u003e\\u003c\\u002fextra\\u003e\",\"legendgroup\":\"\",\"marker\":{\"color\":\"#636efa\",\"pattern\":{\"shape\":\"\"}},\"name\":\"\",\"offsetgroup\":\"\",\"orientation\":\"v\",\"showlegend\":false,\"textposition\":\"auto\",\"x\":[\"Smallest\",\"Small\",\"Medium\",\"Large\",\"Largest\"],\"xaxis\":\"x\",\"y\":[425,365,308,92,80],\"yaxis\":\"y\",\"type\":\"bar\"}],                        {\"template\":{\"data\":{\"histogram2dcontour\":[{\"type\":\"histogram2dcontour\",\"colorbar\":{\"outlinewidth\":0,\"ticks\":\"\"},\"colorscale\":[[0.0,\"#0d0887\"],[0.1111111111111111,\"#46039f\"],[0.2222222222222222,\"#7201a8\"],[0.3333333333333333,\"#9c179e\"],[0.4444444444444444,\"#bd3786\"],[0.5555555555555556,\"#d8576b\"],[0.6666666666666666,\"#ed7953\"],[0.7777777777777778,\"#fb9f3a\"],[0.8888888888888888,\"#fdca26\"],[1.0,\"#f0f921\"]]}],\"choropleth\":[{\"type\":\"choropleth\",\"colorbar\":{\"outlinewidth\":0,\"ticks\":\"\"}}],\"histogram2d\":[{\"type\":\"histogram2d\",\"colorbar\":{\"outlinewidth\":0,\"ticks\":\"\"},\"colorscale\":[[0.0,\"#0d0887\"],[0.1111111111111111,\"#46039f\"],[0.2222222222222222,\"#7201a8\"],[0.3333333333333333,\"#9c179e\"],[0.4444444444444444,\"#bd3786\"],[0.5555555555555556,\"#d8576b\"],[0.6666666666666666,\"#ed7953\"],[0.7777777777777778,\"#fb9f3a\"],[0.8888888888888888,\"#fdca26\"],[1.0,\"#f0f921\"]]}],\"heatmap\":[{\"type\":\"heatmap\",\"colorbar\":{\"outlinewidth\":0,\"ticks\":\"\"},\"colorscale\":[[0.0,\"#0d0887\"],[0.1111111111111111,\"#46039f\"],[0.2222222222222222,\"#7201a8\"],[0.3333333333333333,\"#9c179e\"],[0.4444444444444444,\"#bd3786\"],[0.5555555555555556,\"#d8576b\"],[0.6666666666666666,\"#ed7953\"],[0.7777777777777778,\"#fb9f3a\"],[0.8888888888888888,\"#fdca26\"],[1.0,\"#f0f921\"]]}],\"heatmapgl\":[{\"type\":\"heatmapgl\",\"colorbar\":{\"outlinewidth\":0,\"ticks\":\"\"},\"colorscale\":[[0.0,\"#0d0887\"],[0.1111111111111111,\"#46039f\"],[0.2222222222222222,\"#7201a8\"],[0.3333333333333333,\"#9c179e\"],[0.4444444444444444,\"#bd3786\"],[0.5555555555555556,\"#d8576b\"],[0.6666666666666666,\"#ed7953\"],[0.7777777777777778,\"#fb9f3a\"],[0.8888888888888888,\"#fdca26\"],[1.0,\"#f0f921\"]]}],\"contourcarpet\":[{\"type\":\"contourcarpet\",\"colorbar\":{\"outlinewidth\":0,\"ticks\":\"\"}}],\"contour\":[{\"type\":\"contour\",\"colorbar\":{\"outlinewidth\":0,\"ticks\":\"\"},\"colorscale\":[[0.0,\"#0d0887\"],[0.1111111111111111,\"#46039f\"],[0.2222222222222222,\"#7201a8\"],[0.3333333333333333,\"#9c179e\"],[0.4444444444444444,\"#bd3786\"],[0.5555555555555556,\"#d8576b\"],[0.6666666666666666,\"#ed7953\"],[0.7777777777777778,\"#fb9f3a\"],[0.8888888888888888,\"#fdca26\"],[1.0,\"#f0f921\"]]}],\"surface\":[{\"type\":\"surface\",\"colorbar\":{\"outlinewidth\":0,\"ticks\":\"\"},\"colorscale\":[[0.0,\"#0d0887\"],[0.1111111111111111,\"#46039f\"],[0.2222222222222222,\"#7201a8\"],[0.3333333333333333,\"#9c179e\"],[0.4444444444444444,\"#bd3786\"],[0.5555555555555556,\"#d8576b\"],[0.6666666666666666,\"#ed7953\"],[0.7777777777777778,\"#fb9f3a\"],[0.8888888888888888,\"#fdca26\"],[1.0,\"#f0f921\"]]}],\"mesh3d\":[{\"type\":\"mesh3d\",\"colorbar\":{\"outlinewidth\":0,\"ticks\":\"\"}}],\"scatter\":[{\"fillpattern\":{\"fillmode\":\"overlay\",\"size\":10,\"solidity\":0.2},\"type\":\"scatter\"}],\"parcoords\":[{\"type\":\"parcoords\",\"line\":{\"colorbar\":{\"outlinewidth\":0,\"ticks\":\"\"}}}],\"scatterpolargl\":[{\"type\":\"scatterpolargl\",\"marker\":{\"colorbar\":{\"outlinewidth\":0,\"ticks\":\"\"}}}],\"bar\":[{\"error_x\":{\"color\":\"#2a3f5f\"},\"error_y\":{\"color\":\"#2a3f5f\"},\"marker\":{\"line\":{\"color\":\"#E5ECF6\",\"width\":0.5},\"pattern\":{\"fillmode\":\"overlay\",\"size\":10,\"solidity\":0.2}},\"type\":\"bar\"}],\"scattergeo\":[{\"type\":\"scattergeo\",\"marker\":{\"colorbar\":{\"outlinewidth\":0,\"ticks\":\"\"}}}],\"scatterpolar\":[{\"type\":\"scatterpolar\",\"marker\":{\"colorbar\":{\"outlinewidth\":0,\"ticks\":\"\"}}}],\"histogram\":[{\"marker\":{\"pattern\":{\"fillmode\":\"overlay\",\"size\":10,\"solidity\":0.2}},\"type\":\"histogram\"}],\"scattergl\":[{\"type\":\"scattergl\",\"marker\":{\"colorbar\":{\"outlinewidth\":0,\"ticks\":\"\"}}}],\"scatter3d\":[{\"type\":\"scatter3d\",\"line\":{\"colorbar\":{\"outlinewidth\":0,\"ticks\":\"\"}},\"marker\":{\"colorbar\":{\"outlinewidth\":0,\"ticks\":\"\"}}}],\"scattermapbox\":[{\"type\":\"scattermapbox\",\"marker\":{\"colorbar\":{\"outlinewidth\":0,\"ticks\":\"\"}}}],\"scatterternary\":[{\"type\":\"scatterternary\",\"marker\":{\"colorbar\":{\"outlinewidth\":0,\"ticks\":\"\"}}}],\"scattercarpet\":[{\"type\":\"scattercarpet\",\"marker\":{\"colorbar\":{\"outlinewidth\":0,\"ticks\":\"\"}}}],\"carpet\":[{\"aaxis\":{\"endlinecolor\":\"#2a3f5f\",\"gridcolor\":\"white\",\"linecolor\":\"white\",\"minorgridcolor\":\"white\",\"startlinecolor\":\"#2a3f5f\"},\"baxis\":{\"endlinecolor\":\"#2a3f5f\",\"gridcolor\":\"white\",\"linecolor\":\"white\",\"minorgridcolor\":\"white\",\"startlinecolor\":\"#2a3f5f\"},\"type\":\"carpet\"}],\"table\":[{\"cells\":{\"fill\":{\"color\":\"#EBF0F8\"},\"line\":{\"color\":\"white\"}},\"header\":{\"fill\":{\"color\":\"#C8D4E3\"},\"line\":{\"color\":\"white\"}},\"type\":\"table\"}],\"barpolar\":[{\"marker\":{\"line\":{\"color\":\"#E5ECF6\",\"width\":0.5},\"pattern\":{\"fillmode\":\"overlay\",\"size\":10,\"solidity\":0.2}},\"type\":\"barpolar\"}],\"pie\":[{\"automargin\":true,\"type\":\"pie\"}]},\"layout\":{\"autotypenumbers\":\"strict\",\"colorway\":[\"#636efa\",\"#EF553B\",\"#00cc96\",\"#ab63fa\",\"#FFA15A\",\"#19d3f3\",\"#FF6692\",\"#B6E880\",\"#FF97FF\",\"#FECB52\"],\"font\":{\"color\":\"#2a3f5f\"},\"hovermode\":\"closest\",\"hoverlabel\":{\"align\":\"left\"},\"paper_bgcolor\":\"white\",\"plot_bgcolor\":\"#E5ECF6\",\"polar\":{\"bgcolor\":\"#E5ECF6\",\"angularaxis\":{\"gridcolor\":\"white\",\"linecolor\":\"white\",\"ticks\":\"\"},\"radialaxis\":{\"gridcolor\":\"white\",\"linecolor\":\"white\",\"ticks\":\"\"}},\"ternary\":{\"bgcolor\":\"#E5ECF6\",\"aaxis\":{\"gridcolor\":\"white\",\"linecolor\":\"white\",\"ticks\":\"\"},\"baxis\":{\"gridcolor\":\"white\",\"linecolor\":\"white\",\"ticks\":\"\"},\"caxis\":{\"gridcolor\":\"white\",\"linecolor\":\"white\",\"ticks\":\"\"}},\"coloraxis\":{\"colorbar\":{\"outlinewidth\":0,\"ticks\":\"\"}},\"colorscale\":{\"sequential\":[[0.0,\"#0d0887\"],[0.1111111111111111,\"#46039f\"],[0.2222222222222222,\"#7201a8\"],[0.3333333333333333,\"#9c179e\"],[0.4444444444444444,\"#bd3786\"],[0.5555555555555556,\"#d8576b\"],[0.6666666666666666,\"#ed7953\"],[0.7777777777777778,\"#fb9f3a\"],[0.8888888888888888,\"#fdca26\"],[1.0,\"#f0f921\"]],\"sequentialminus\":[[0.0,\"#0d0887\"],[0.1111111111111111,\"#46039f\"],[0.2222222222222222,\"#7201a8\"],[0.3333333333333333,\"#9c179e\"],[0.4444444444444444,\"#bd3786\"],[0.5555555555555556,\"#d8576b\"],[0.6666666666666666,\"#ed7953\"],[0.7777777777777778,\"#fb9f3a\"],[0.8888888888888888,\"#fdca26\"],[1.0,\"#f0f921\"]],\"diverging\":[[0,\"#8e0152\"],[0.1,\"#c51b7d\"],[0.2,\"#de77ae\"],[0.3,\"#f1b6da\"],[0.4,\"#fde0ef\"],[0.5,\"#f7f7f7\"],[0.6,\"#e6f5d0\"],[0.7,\"#b8e186\"],[0.8,\"#7fbc41\"],[0.9,\"#4d9221\"],[1,\"#276419\"]]},\"xaxis\":{\"gridcolor\":\"white\",\"linecolor\":\"white\",\"ticks\":\"\",\"title\":{\"standoff\":15},\"zerolinecolor\":\"white\",\"automargin\":true,\"zerolinewidth\":2},\"yaxis\":{\"gridcolor\":\"white\",\"linecolor\":\"white\",\"ticks\":\"\",\"title\":{\"standoff\":15},\"zerolinecolor\":\"white\",\"automargin\":true,\"zerolinewidth\":2},\"scene\":{\"xaxis\":{\"backgroundcolor\":\"#E5ECF6\",\"gridcolor\":\"white\",\"linecolor\":\"white\",\"showbackground\":true,\"ticks\":\"\",\"zerolinecolor\":\"white\",\"gridwidth\":2},\"yaxis\":{\"backgroundcolor\":\"#E5ECF6\",\"gridcolor\":\"white\",\"linecolor\":\"white\",\"showbackground\":true,\"ticks\":\"\",\"zerolinecolor\":\"white\",\"gridwidth\":2},\"zaxis\":{\"backgroundcolor\":\"#E5ECF6\",\"gridcolor\":\"white\",\"linecolor\":\"white\",\"showbackground\":true,\"ticks\":\"\",\"zerolinecolor\":\"white\",\"gridwidth\":2}},\"shapedefaults\":{\"line\":{\"color\":\"#2a3f5f\"}},\"annotationdefaults\":{\"arrowcolor\":\"#2a3f5f\",\"arrowhead\":0,\"arrowwidth\":1},\"geo\":{\"bgcolor\":\"white\",\"landcolor\":\"#E5ECF6\",\"subunitcolor\":\"white\",\"showland\":true,\"showlakes\":true,\"lakecolor\":\"white\"},\"title\":{\"x\":0.05},\"mapbox\":{\"style\":\"light\"}}},\"xaxis\":{\"anchor\":\"y\",\"domain\":[0.0,1.0],\"title\":{\"text\":\"Size\"}},\"yaxis\":{\"anchor\":\"x\",\"domain\":[0.0,1.0],\"title\":{\"text\":\"count\"}},\"legend\":{\"tracegroupgap\":0},\"margin\":{\"t\":60},\"barmode\":\"relative\"},                        {\"responsive\": true}                    ).then(function(){\n",
       "                            \n",
       "var gd = document.getElementById('a182c404-2ebd-4a6d-99e8-1614c66a0d0f');\n",
       "var x = new MutationObserver(function (mutations, observer) {{\n",
       "        var display = window.getComputedStyle(gd).display;\n",
       "        if (!display || display === 'none') {{\n",
       "            console.log([gd, 'removed!']);\n",
       "            Plotly.purge(gd);\n",
       "            observer.disconnect();\n",
       "        }}\n",
       "}});\n",
       "\n",
       "// Listen for the removal of the full notebook cells\n",
       "var notebookContainer = gd.closest('#notebook-container');\n",
       "if (notebookContainer) {{\n",
       "    x.observe(notebookContainer, {childList: true});\n",
       "}}\n",
       "\n",
       "// Listen for the clearing of the current output cell\n",
       "var outputEl = gd.closest('.output');\n",
       "if (outputEl) {{\n",
       "    x.observe(outputEl, {childList: true});\n",
       "}}\n",
       "\n",
       "                        })                };                });            </script>        </div>"
      ]
     },
     "metadata": {},
     "output_type": "display_data"
    },
    {
     "data": {
      "text/html": [
       "<div>                            <div id=\"93c5fe9b-3dab-4183-b2cf-4d72ceb86c03\" class=\"plotly-graph-div\" style=\"height:525px; width:100%;\"></div>            <script type=\"text/javascript\">                require([\"plotly\"], function(Plotly) {                    window.PLOTLYENV=window.PLOTLYENV || {};                                    if (document.getElementById(\"93c5fe9b-3dab-4183-b2cf-4d72ceb86c03\")) {                    Plotly.newPlot(                        \"93c5fe9b-3dab-4183-b2cf-4d72ceb86c03\",                        [{\"alignmentgroup\":\"True\",\"hovertemplate\":\"Status=%{x}\\u003cbr\\u003ecount=%{y}\\u003cextra\\u003e\\u003c\\u002fextra\\u003e\",\"legendgroup\":\"\",\"marker\":{\"color\":\"#636efa\",\"pattern\":{\"shape\":\"\"}},\"name\":\"\",\"offsetgroup\":\"\",\"orientation\":\"v\",\"showlegend\":false,\"textposition\":\"auto\",\"x\":[\"Residential\",\"Community\",\"Historical\",\"Liturgical\",\"Reviving\"],\"xaxis\":\"x\",\"y\":[992,145,78,34,21],\"yaxis\":\"y\",\"type\":\"bar\"}],                        {\"template\":{\"data\":{\"histogram2dcontour\":[{\"type\":\"histogram2dcontour\",\"colorbar\":{\"outlinewidth\":0,\"ticks\":\"\"},\"colorscale\":[[0.0,\"#0d0887\"],[0.1111111111111111,\"#46039f\"],[0.2222222222222222,\"#7201a8\"],[0.3333333333333333,\"#9c179e\"],[0.4444444444444444,\"#bd3786\"],[0.5555555555555556,\"#d8576b\"],[0.6666666666666666,\"#ed7953\"],[0.7777777777777778,\"#fb9f3a\"],[0.8888888888888888,\"#fdca26\"],[1.0,\"#f0f921\"]]}],\"choropleth\":[{\"type\":\"choropleth\",\"colorbar\":{\"outlinewidth\":0,\"ticks\":\"\"}}],\"histogram2d\":[{\"type\":\"histogram2d\",\"colorbar\":{\"outlinewidth\":0,\"ticks\":\"\"},\"colorscale\":[[0.0,\"#0d0887\"],[0.1111111111111111,\"#46039f\"],[0.2222222222222222,\"#7201a8\"],[0.3333333333333333,\"#9c179e\"],[0.4444444444444444,\"#bd3786\"],[0.5555555555555556,\"#d8576b\"],[0.6666666666666666,\"#ed7953\"],[0.7777777777777778,\"#fb9f3a\"],[0.8888888888888888,\"#fdca26\"],[1.0,\"#f0f921\"]]}],\"heatmap\":[{\"type\":\"heatmap\",\"colorbar\":{\"outlinewidth\":0,\"ticks\":\"\"},\"colorscale\":[[0.0,\"#0d0887\"],[0.1111111111111111,\"#46039f\"],[0.2222222222222222,\"#7201a8\"],[0.3333333333333333,\"#9c179e\"],[0.4444444444444444,\"#bd3786\"],[0.5555555555555556,\"#d8576b\"],[0.6666666666666666,\"#ed7953\"],[0.7777777777777778,\"#fb9f3a\"],[0.8888888888888888,\"#fdca26\"],[1.0,\"#f0f921\"]]}],\"heatmapgl\":[{\"type\":\"heatmapgl\",\"colorbar\":{\"outlinewidth\":0,\"ticks\":\"\"},\"colorscale\":[[0.0,\"#0d0887\"],[0.1111111111111111,\"#46039f\"],[0.2222222222222222,\"#7201a8\"],[0.3333333333333333,\"#9c179e\"],[0.4444444444444444,\"#bd3786\"],[0.5555555555555556,\"#d8576b\"],[0.6666666666666666,\"#ed7953\"],[0.7777777777777778,\"#fb9f3a\"],[0.8888888888888888,\"#fdca26\"],[1.0,\"#f0f921\"]]}],\"contourcarpet\":[{\"type\":\"contourcarpet\",\"colorbar\":{\"outlinewidth\":0,\"ticks\":\"\"}}],\"contour\":[{\"type\":\"contour\",\"colorbar\":{\"outlinewidth\":0,\"ticks\":\"\"},\"colorscale\":[[0.0,\"#0d0887\"],[0.1111111111111111,\"#46039f\"],[0.2222222222222222,\"#7201a8\"],[0.3333333333333333,\"#9c179e\"],[0.4444444444444444,\"#bd3786\"],[0.5555555555555556,\"#d8576b\"],[0.6666666666666666,\"#ed7953\"],[0.7777777777777778,\"#fb9f3a\"],[0.8888888888888888,\"#fdca26\"],[1.0,\"#f0f921\"]]}],\"surface\":[{\"type\":\"surface\",\"colorbar\":{\"outlinewidth\":0,\"ticks\":\"\"},\"colorscale\":[[0.0,\"#0d0887\"],[0.1111111111111111,\"#46039f\"],[0.2222222222222222,\"#7201a8\"],[0.3333333333333333,\"#9c179e\"],[0.4444444444444444,\"#bd3786\"],[0.5555555555555556,\"#d8576b\"],[0.6666666666666666,\"#ed7953\"],[0.7777777777777778,\"#fb9f3a\"],[0.8888888888888888,\"#fdca26\"],[1.0,\"#f0f921\"]]}],\"mesh3d\":[{\"type\":\"mesh3d\",\"colorbar\":{\"outlinewidth\":0,\"ticks\":\"\"}}],\"scatter\":[{\"fillpattern\":{\"fillmode\":\"overlay\",\"size\":10,\"solidity\":0.2},\"type\":\"scatter\"}],\"parcoords\":[{\"type\":\"parcoords\",\"line\":{\"colorbar\":{\"outlinewidth\":0,\"ticks\":\"\"}}}],\"scatterpolargl\":[{\"type\":\"scatterpolargl\",\"marker\":{\"colorbar\":{\"outlinewidth\":0,\"ticks\":\"\"}}}],\"bar\":[{\"error_x\":{\"color\":\"#2a3f5f\"},\"error_y\":{\"color\":\"#2a3f5f\"},\"marker\":{\"line\":{\"color\":\"#E5ECF6\",\"width\":0.5},\"pattern\":{\"fillmode\":\"overlay\",\"size\":10,\"solidity\":0.2}},\"type\":\"bar\"}],\"scattergeo\":[{\"type\":\"scattergeo\",\"marker\":{\"colorbar\":{\"outlinewidth\":0,\"ticks\":\"\"}}}],\"scatterpolar\":[{\"type\":\"scatterpolar\",\"marker\":{\"colorbar\":{\"outlinewidth\":0,\"ticks\":\"\"}}}],\"histogram\":[{\"marker\":{\"pattern\":{\"fillmode\":\"overlay\",\"size\":10,\"solidity\":0.2}},\"type\":\"histogram\"}],\"scattergl\":[{\"type\":\"scattergl\",\"marker\":{\"colorbar\":{\"outlinewidth\":0,\"ticks\":\"\"}}}],\"scatter3d\":[{\"type\":\"scatter3d\",\"line\":{\"colorbar\":{\"outlinewidth\":0,\"ticks\":\"\"}},\"marker\":{\"colorbar\":{\"outlinewidth\":0,\"ticks\":\"\"}}}],\"scattermapbox\":[{\"type\":\"scattermapbox\",\"marker\":{\"colorbar\":{\"outlinewidth\":0,\"ticks\":\"\"}}}],\"scatterternary\":[{\"type\":\"scatterternary\",\"marker\":{\"colorbar\":{\"outlinewidth\":0,\"ticks\":\"\"}}}],\"scattercarpet\":[{\"type\":\"scattercarpet\",\"marker\":{\"colorbar\":{\"outlinewidth\":0,\"ticks\":\"\"}}}],\"carpet\":[{\"aaxis\":{\"endlinecolor\":\"#2a3f5f\",\"gridcolor\":\"white\",\"linecolor\":\"white\",\"minorgridcolor\":\"white\",\"startlinecolor\":\"#2a3f5f\"},\"baxis\":{\"endlinecolor\":\"#2a3f5f\",\"gridcolor\":\"white\",\"linecolor\":\"white\",\"minorgridcolor\":\"white\",\"startlinecolor\":\"#2a3f5f\"},\"type\":\"carpet\"}],\"table\":[{\"cells\":{\"fill\":{\"color\":\"#EBF0F8\"},\"line\":{\"color\":\"white\"}},\"header\":{\"fill\":{\"color\":\"#C8D4E3\"},\"line\":{\"color\":\"white\"}},\"type\":\"table\"}],\"barpolar\":[{\"marker\":{\"line\":{\"color\":\"#E5ECF6\",\"width\":0.5},\"pattern\":{\"fillmode\":\"overlay\",\"size\":10,\"solidity\":0.2}},\"type\":\"barpolar\"}],\"pie\":[{\"automargin\":true,\"type\":\"pie\"}]},\"layout\":{\"autotypenumbers\":\"strict\",\"colorway\":[\"#636efa\",\"#EF553B\",\"#00cc96\",\"#ab63fa\",\"#FFA15A\",\"#19d3f3\",\"#FF6692\",\"#B6E880\",\"#FF97FF\",\"#FECB52\"],\"font\":{\"color\":\"#2a3f5f\"},\"hovermode\":\"closest\",\"hoverlabel\":{\"align\":\"left\"},\"paper_bgcolor\":\"white\",\"plot_bgcolor\":\"#E5ECF6\",\"polar\":{\"bgcolor\":\"#E5ECF6\",\"angularaxis\":{\"gridcolor\":\"white\",\"linecolor\":\"white\",\"ticks\":\"\"},\"radialaxis\":{\"gridcolor\":\"white\",\"linecolor\":\"white\",\"ticks\":\"\"}},\"ternary\":{\"bgcolor\":\"#E5ECF6\",\"aaxis\":{\"gridcolor\":\"white\",\"linecolor\":\"white\",\"ticks\":\"\"},\"baxis\":{\"gridcolor\":\"white\",\"linecolor\":\"white\",\"ticks\":\"\"},\"caxis\":{\"gridcolor\":\"white\",\"linecolor\":\"white\",\"ticks\":\"\"}},\"coloraxis\":{\"colorbar\":{\"outlinewidth\":0,\"ticks\":\"\"}},\"colorscale\":{\"sequential\":[[0.0,\"#0d0887\"],[0.1111111111111111,\"#46039f\"],[0.2222222222222222,\"#7201a8\"],[0.3333333333333333,\"#9c179e\"],[0.4444444444444444,\"#bd3786\"],[0.5555555555555556,\"#d8576b\"],[0.6666666666666666,\"#ed7953\"],[0.7777777777777778,\"#fb9f3a\"],[0.8888888888888888,\"#fdca26\"],[1.0,\"#f0f921\"]],\"sequentialminus\":[[0.0,\"#0d0887\"],[0.1111111111111111,\"#46039f\"],[0.2222222222222222,\"#7201a8\"],[0.3333333333333333,\"#9c179e\"],[0.4444444444444444,\"#bd3786\"],[0.5555555555555556,\"#d8576b\"],[0.6666666666666666,\"#ed7953\"],[0.7777777777777778,\"#fb9f3a\"],[0.8888888888888888,\"#fdca26\"],[1.0,\"#f0f921\"]],\"diverging\":[[0,\"#8e0152\"],[0.1,\"#c51b7d\"],[0.2,\"#de77ae\"],[0.3,\"#f1b6da\"],[0.4,\"#fde0ef\"],[0.5,\"#f7f7f7\"],[0.6,\"#e6f5d0\"],[0.7,\"#b8e186\"],[0.8,\"#7fbc41\"],[0.9,\"#4d9221\"],[1,\"#276419\"]]},\"xaxis\":{\"gridcolor\":\"white\",\"linecolor\":\"white\",\"ticks\":\"\",\"title\":{\"standoff\":15},\"zerolinecolor\":\"white\",\"automargin\":true,\"zerolinewidth\":2},\"yaxis\":{\"gridcolor\":\"white\",\"linecolor\":\"white\",\"ticks\":\"\",\"title\":{\"standoff\":15},\"zerolinecolor\":\"white\",\"automargin\":true,\"zerolinewidth\":2},\"scene\":{\"xaxis\":{\"backgroundcolor\":\"#E5ECF6\",\"gridcolor\":\"white\",\"linecolor\":\"white\",\"showbackground\":true,\"ticks\":\"\",\"zerolinecolor\":\"white\",\"gridwidth\":2},\"yaxis\":{\"backgroundcolor\":\"#E5ECF6\",\"gridcolor\":\"white\",\"linecolor\":\"white\",\"showbackground\":true,\"ticks\":\"\",\"zerolinecolor\":\"white\",\"gridwidth\":2},\"zaxis\":{\"backgroundcolor\":\"#E5ECF6\",\"gridcolor\":\"white\",\"linecolor\":\"white\",\"showbackground\":true,\"ticks\":\"\",\"zerolinecolor\":\"white\",\"gridwidth\":2}},\"shapedefaults\":{\"line\":{\"color\":\"#2a3f5f\"}},\"annotationdefaults\":{\"arrowcolor\":\"#2a3f5f\",\"arrowhead\":0,\"arrowwidth\":1},\"geo\":{\"bgcolor\":\"white\",\"landcolor\":\"#E5ECF6\",\"subunitcolor\":\"white\",\"showland\":true,\"showlakes\":true,\"lakecolor\":\"white\"},\"title\":{\"x\":0.05},\"mapbox\":{\"style\":\"light\"}}},\"xaxis\":{\"anchor\":\"y\",\"domain\":[0.0,1.0],\"title\":{\"text\":\"Status\"}},\"yaxis\":{\"anchor\":\"x\",\"domain\":[0.0,1.0],\"title\":{\"text\":\"count\"}},\"legend\":{\"tracegroupgap\":0},\"margin\":{\"t\":60},\"barmode\":\"relative\"},                        {\"responsive\": true}                    ).then(function(){\n",
       "                            \n",
       "var gd = document.getElementById('93c5fe9b-3dab-4183-b2cf-4d72ceb86c03');\n",
       "var x = new MutationObserver(function (mutations, observer) {{\n",
       "        var display = window.getComputedStyle(gd).display;\n",
       "        if (!display || display === 'none') {{\n",
       "            console.log([gd, 'removed!']);\n",
       "            Plotly.purge(gd);\n",
       "            observer.disconnect();\n",
       "        }}\n",
       "}});\n",
       "\n",
       "// Listen for the removal of the full notebook cells\n",
       "var notebookContainer = gd.closest('#notebook-container');\n",
       "if (notebookContainer) {{\n",
       "    x.observe(notebookContainer, {childList: true});\n",
       "}}\n",
       "\n",
       "// Listen for the clearing of the current output cell\n",
       "var outputEl = gd.closest('.output');\n",
       "if (outputEl) {{\n",
       "    x.observe(outputEl, {childList: true});\n",
       "}}\n",
       "\n",
       "                        })                };                });            </script>        </div>"
      ]
     },
     "metadata": {},
     "output_type": "display_data"
    }
   ],
   "source": [
    "from plotly.express import bar\n",
    "for column in ['World Region', 'Size', 'Status']:\n",
    "    bar(data_frame=df[column].value_counts().to_frame().reset_index(), x=column, y='count',).show()"
   ]
  },
  {
   "cell_type": "code",
   "execution_count": 5,
   "id": "04d61a13",
   "metadata": {
    "execution": {
     "iopub.execute_input": "2023-12-16T16:54:20.218378Z",
     "iopub.status.busy": "2023-12-16T16:54:20.218034Z",
     "iopub.status.idle": "2023-12-16T16:54:20.274795Z",
     "shell.execute_reply": "2023-12-16T16:54:20.273344Z"
    },
    "papermill": {
     "duration": 0.064018,
     "end_time": "2023-12-16T16:54:20.276945",
     "exception": false,
     "start_time": "2023-12-16T16:54:20.212927",
     "status": "completed"
    },
    "tags": []
   },
   "outputs": [
    {
     "data": {
      "text/html": [
       "<div>                            <div id=\"35c880da-38c8-419c-9136-36fb1152664a\" class=\"plotly-graph-div\" style=\"height:800px; width:100%;\"></div>            <script type=\"text/javascript\">                require([\"plotly\"], function(Plotly) {                    window.PLOTLYENV=window.PLOTLYENV || {};                                    if (document.getElementById(\"35c880da-38c8-419c-9136-36fb1152664a\")) {                    Plotly.newPlot(                        \"35c880da-38c8-419c-9136-36fb1152664a\",                        [{\"alignmentgroup\":\"True\",\"hovertemplate\":\"count=%{x}\\u003cbr\\u003eLanguage Family=%{y}\\u003cextra\\u003e\\u003c\\u002fextra\\u003e\",\"legendgroup\":\"\",\"marker\":{\"color\":\"#636efa\",\"pattern\":{\"shape\":\"\"}},\"name\":\"\",\"offsetgroup\":\"\",\"orientation\":\"h\",\"showlegend\":false,\"textposition\":\"auto\",\"x\":[536,147,135,93,83,33,29,25,20,18,18,11,11,10,8,7,7,6,6,6,5,5,5,3,3,3,3,3,2,2,2,2,2,1,1,1,1,1,1,1,1,1,1,1,1,1,1],\"xaxis\":\"x\",\"y\":[\"Indo-European\",\"Sino-Tibetan\",\"Atlantic-Congo\",\"Afro-Asiatic\",\"Austronesian\",\"Mande\",\"Turkic\",\"Otomanguean\",\"Mayan\",\"Dravidian\",\"Algic\",\"Austroasiatic\",\"Tai-Kadai\",\"Uralic\",\"Koreanic\",\"Uto-Aztecan\",\"Kartvelian\",\"Quechuan\",\"Mongolic\",\"Japonic\",\"Arawakan\",\"Abkhaz-Adyge\",\"Nakh-Daghestanian\",\"Chibchan\",\"Nilotic\",\"Songhay\",\"Basque\",\"Totonacan\",\"Tupian\",\"Athabaskan-Eyak-Tlingit\",\"Hmong-Mien\",\"Iroquoian\",\"Siouan\",\"Nubian\",\"Furan\",\"Tarascan\",\"Maban\",\"Chicham\",\"Cochimi-Yuman\",\"Yuman\",\"Araucanian\",\"Salish\",\"Aymaran\",\"Ijoid\",\"Burushaski\",\"Eskimo-Aleut\",\"Saharan\"],\"yaxis\":\"y\",\"type\":\"bar\"}],                        {\"template\":{\"data\":{\"histogram2dcontour\":[{\"type\":\"histogram2dcontour\",\"colorbar\":{\"outlinewidth\":0,\"ticks\":\"\"},\"colorscale\":[[0.0,\"#0d0887\"],[0.1111111111111111,\"#46039f\"],[0.2222222222222222,\"#7201a8\"],[0.3333333333333333,\"#9c179e\"],[0.4444444444444444,\"#bd3786\"],[0.5555555555555556,\"#d8576b\"],[0.6666666666666666,\"#ed7953\"],[0.7777777777777778,\"#fb9f3a\"],[0.8888888888888888,\"#fdca26\"],[1.0,\"#f0f921\"]]}],\"choropleth\":[{\"type\":\"choropleth\",\"colorbar\":{\"outlinewidth\":0,\"ticks\":\"\"}}],\"histogram2d\":[{\"type\":\"histogram2d\",\"colorbar\":{\"outlinewidth\":0,\"ticks\":\"\"},\"colorscale\":[[0.0,\"#0d0887\"],[0.1111111111111111,\"#46039f\"],[0.2222222222222222,\"#7201a8\"],[0.3333333333333333,\"#9c179e\"],[0.4444444444444444,\"#bd3786\"],[0.5555555555555556,\"#d8576b\"],[0.6666666666666666,\"#ed7953\"],[0.7777777777777778,\"#fb9f3a\"],[0.8888888888888888,\"#fdca26\"],[1.0,\"#f0f921\"]]}],\"heatmap\":[{\"type\":\"heatmap\",\"colorbar\":{\"outlinewidth\":0,\"ticks\":\"\"},\"colorscale\":[[0.0,\"#0d0887\"],[0.1111111111111111,\"#46039f\"],[0.2222222222222222,\"#7201a8\"],[0.3333333333333333,\"#9c179e\"],[0.4444444444444444,\"#bd3786\"],[0.5555555555555556,\"#d8576b\"],[0.6666666666666666,\"#ed7953\"],[0.7777777777777778,\"#fb9f3a\"],[0.8888888888888888,\"#fdca26\"],[1.0,\"#f0f921\"]]}],\"heatmapgl\":[{\"type\":\"heatmapgl\",\"colorbar\":{\"outlinewidth\":0,\"ticks\":\"\"},\"colorscale\":[[0.0,\"#0d0887\"],[0.1111111111111111,\"#46039f\"],[0.2222222222222222,\"#7201a8\"],[0.3333333333333333,\"#9c179e\"],[0.4444444444444444,\"#bd3786\"],[0.5555555555555556,\"#d8576b\"],[0.6666666666666666,\"#ed7953\"],[0.7777777777777778,\"#fb9f3a\"],[0.8888888888888888,\"#fdca26\"],[1.0,\"#f0f921\"]]}],\"contourcarpet\":[{\"type\":\"contourcarpet\",\"colorbar\":{\"outlinewidth\":0,\"ticks\":\"\"}}],\"contour\":[{\"type\":\"contour\",\"colorbar\":{\"outlinewidth\":0,\"ticks\":\"\"},\"colorscale\":[[0.0,\"#0d0887\"],[0.1111111111111111,\"#46039f\"],[0.2222222222222222,\"#7201a8\"],[0.3333333333333333,\"#9c179e\"],[0.4444444444444444,\"#bd3786\"],[0.5555555555555556,\"#d8576b\"],[0.6666666666666666,\"#ed7953\"],[0.7777777777777778,\"#fb9f3a\"],[0.8888888888888888,\"#fdca26\"],[1.0,\"#f0f921\"]]}],\"surface\":[{\"type\":\"surface\",\"colorbar\":{\"outlinewidth\":0,\"ticks\":\"\"},\"colorscale\":[[0.0,\"#0d0887\"],[0.1111111111111111,\"#46039f\"],[0.2222222222222222,\"#7201a8\"],[0.3333333333333333,\"#9c179e\"],[0.4444444444444444,\"#bd3786\"],[0.5555555555555556,\"#d8576b\"],[0.6666666666666666,\"#ed7953\"],[0.7777777777777778,\"#fb9f3a\"],[0.8888888888888888,\"#fdca26\"],[1.0,\"#f0f921\"]]}],\"mesh3d\":[{\"type\":\"mesh3d\",\"colorbar\":{\"outlinewidth\":0,\"ticks\":\"\"}}],\"scatter\":[{\"fillpattern\":{\"fillmode\":\"overlay\",\"size\":10,\"solidity\":0.2},\"type\":\"scatter\"}],\"parcoords\":[{\"type\":\"parcoords\",\"line\":{\"colorbar\":{\"outlinewidth\":0,\"ticks\":\"\"}}}],\"scatterpolargl\":[{\"type\":\"scatterpolargl\",\"marker\":{\"colorbar\":{\"outlinewidth\":0,\"ticks\":\"\"}}}],\"bar\":[{\"error_x\":{\"color\":\"#2a3f5f\"},\"error_y\":{\"color\":\"#2a3f5f\"},\"marker\":{\"line\":{\"color\":\"#E5ECF6\",\"width\":0.5},\"pattern\":{\"fillmode\":\"overlay\",\"size\":10,\"solidity\":0.2}},\"type\":\"bar\"}],\"scattergeo\":[{\"type\":\"scattergeo\",\"marker\":{\"colorbar\":{\"outlinewidth\":0,\"ticks\":\"\"}}}],\"scatterpolar\":[{\"type\":\"scatterpolar\",\"marker\":{\"colorbar\":{\"outlinewidth\":0,\"ticks\":\"\"}}}],\"histogram\":[{\"marker\":{\"pattern\":{\"fillmode\":\"overlay\",\"size\":10,\"solidity\":0.2}},\"type\":\"histogram\"}],\"scattergl\":[{\"type\":\"scattergl\",\"marker\":{\"colorbar\":{\"outlinewidth\":0,\"ticks\":\"\"}}}],\"scatter3d\":[{\"type\":\"scatter3d\",\"line\":{\"colorbar\":{\"outlinewidth\":0,\"ticks\":\"\"}},\"marker\":{\"colorbar\":{\"outlinewidth\":0,\"ticks\":\"\"}}}],\"scattermapbox\":[{\"type\":\"scattermapbox\",\"marker\":{\"colorbar\":{\"outlinewidth\":0,\"ticks\":\"\"}}}],\"scatterternary\":[{\"type\":\"scatterternary\",\"marker\":{\"colorbar\":{\"outlinewidth\":0,\"ticks\":\"\"}}}],\"scattercarpet\":[{\"type\":\"scattercarpet\",\"marker\":{\"colorbar\":{\"outlinewidth\":0,\"ticks\":\"\"}}}],\"carpet\":[{\"aaxis\":{\"endlinecolor\":\"#2a3f5f\",\"gridcolor\":\"white\",\"linecolor\":\"white\",\"minorgridcolor\":\"white\",\"startlinecolor\":\"#2a3f5f\"},\"baxis\":{\"endlinecolor\":\"#2a3f5f\",\"gridcolor\":\"white\",\"linecolor\":\"white\",\"minorgridcolor\":\"white\",\"startlinecolor\":\"#2a3f5f\"},\"type\":\"carpet\"}],\"table\":[{\"cells\":{\"fill\":{\"color\":\"#EBF0F8\"},\"line\":{\"color\":\"white\"}},\"header\":{\"fill\":{\"color\":\"#C8D4E3\"},\"line\":{\"color\":\"white\"}},\"type\":\"table\"}],\"barpolar\":[{\"marker\":{\"line\":{\"color\":\"#E5ECF6\",\"width\":0.5},\"pattern\":{\"fillmode\":\"overlay\",\"size\":10,\"solidity\":0.2}},\"type\":\"barpolar\"}],\"pie\":[{\"automargin\":true,\"type\":\"pie\"}]},\"layout\":{\"autotypenumbers\":\"strict\",\"colorway\":[\"#636efa\",\"#EF553B\",\"#00cc96\",\"#ab63fa\",\"#FFA15A\",\"#19d3f3\",\"#FF6692\",\"#B6E880\",\"#FF97FF\",\"#FECB52\"],\"font\":{\"color\":\"#2a3f5f\"},\"hovermode\":\"closest\",\"hoverlabel\":{\"align\":\"left\"},\"paper_bgcolor\":\"white\",\"plot_bgcolor\":\"#E5ECF6\",\"polar\":{\"bgcolor\":\"#E5ECF6\",\"angularaxis\":{\"gridcolor\":\"white\",\"linecolor\":\"white\",\"ticks\":\"\"},\"radialaxis\":{\"gridcolor\":\"white\",\"linecolor\":\"white\",\"ticks\":\"\"}},\"ternary\":{\"bgcolor\":\"#E5ECF6\",\"aaxis\":{\"gridcolor\":\"white\",\"linecolor\":\"white\",\"ticks\":\"\"},\"baxis\":{\"gridcolor\":\"white\",\"linecolor\":\"white\",\"ticks\":\"\"},\"caxis\":{\"gridcolor\":\"white\",\"linecolor\":\"white\",\"ticks\":\"\"}},\"coloraxis\":{\"colorbar\":{\"outlinewidth\":0,\"ticks\":\"\"}},\"colorscale\":{\"sequential\":[[0.0,\"#0d0887\"],[0.1111111111111111,\"#46039f\"],[0.2222222222222222,\"#7201a8\"],[0.3333333333333333,\"#9c179e\"],[0.4444444444444444,\"#bd3786\"],[0.5555555555555556,\"#d8576b\"],[0.6666666666666666,\"#ed7953\"],[0.7777777777777778,\"#fb9f3a\"],[0.8888888888888888,\"#fdca26\"],[1.0,\"#f0f921\"]],\"sequentialminus\":[[0.0,\"#0d0887\"],[0.1111111111111111,\"#46039f\"],[0.2222222222222222,\"#7201a8\"],[0.3333333333333333,\"#9c179e\"],[0.4444444444444444,\"#bd3786\"],[0.5555555555555556,\"#d8576b\"],[0.6666666666666666,\"#ed7953\"],[0.7777777777777778,\"#fb9f3a\"],[0.8888888888888888,\"#fdca26\"],[1.0,\"#f0f921\"]],\"diverging\":[[0,\"#8e0152\"],[0.1,\"#c51b7d\"],[0.2,\"#de77ae\"],[0.3,\"#f1b6da\"],[0.4,\"#fde0ef\"],[0.5,\"#f7f7f7\"],[0.6,\"#e6f5d0\"],[0.7,\"#b8e186\"],[0.8,\"#7fbc41\"],[0.9,\"#4d9221\"],[1,\"#276419\"]]},\"xaxis\":{\"gridcolor\":\"white\",\"linecolor\":\"white\",\"ticks\":\"\",\"title\":{\"standoff\":15},\"zerolinecolor\":\"white\",\"automargin\":true,\"zerolinewidth\":2},\"yaxis\":{\"gridcolor\":\"white\",\"linecolor\":\"white\",\"ticks\":\"\",\"title\":{\"standoff\":15},\"zerolinecolor\":\"white\",\"automargin\":true,\"zerolinewidth\":2},\"scene\":{\"xaxis\":{\"backgroundcolor\":\"#E5ECF6\",\"gridcolor\":\"white\",\"linecolor\":\"white\",\"showbackground\":true,\"ticks\":\"\",\"zerolinecolor\":\"white\",\"gridwidth\":2},\"yaxis\":{\"backgroundcolor\":\"#E5ECF6\",\"gridcolor\":\"white\",\"linecolor\":\"white\",\"showbackground\":true,\"ticks\":\"\",\"zerolinecolor\":\"white\",\"gridwidth\":2},\"zaxis\":{\"backgroundcolor\":\"#E5ECF6\",\"gridcolor\":\"white\",\"linecolor\":\"white\",\"showbackground\":true,\"ticks\":\"\",\"zerolinecolor\":\"white\",\"gridwidth\":2}},\"shapedefaults\":{\"line\":{\"color\":\"#2a3f5f\"}},\"annotationdefaults\":{\"arrowcolor\":\"#2a3f5f\",\"arrowhead\":0,\"arrowwidth\":1},\"geo\":{\"bgcolor\":\"white\",\"landcolor\":\"#E5ECF6\",\"subunitcolor\":\"white\",\"showland\":true,\"showlakes\":true,\"lakecolor\":\"white\"},\"title\":{\"x\":0.05},\"mapbox\":{\"style\":\"light\"}}},\"xaxis\":{\"anchor\":\"y\",\"domain\":[0.0,1.0],\"title\":{\"text\":\"count\"},\"type\":\"log\"},\"yaxis\":{\"anchor\":\"x\",\"domain\":[0.0,1.0],\"title\":{\"text\":\"Language Family\"}},\"legend\":{\"tracegroupgap\":0},\"margin\":{\"t\":60},\"barmode\":\"relative\",\"height\":800},                        {\"responsive\": true}                    ).then(function(){\n",
       "                            \n",
       "var gd = document.getElementById('35c880da-38c8-419c-9136-36fb1152664a');\n",
       "var x = new MutationObserver(function (mutations, observer) {{\n",
       "        var display = window.getComputedStyle(gd).display;\n",
       "        if (!display || display === 'none') {{\n",
       "            console.log([gd, 'removed!']);\n",
       "            Plotly.purge(gd);\n",
       "            observer.disconnect();\n",
       "        }}\n",
       "}});\n",
       "\n",
       "// Listen for the removal of the full notebook cells\n",
       "var notebookContainer = gd.closest('#notebook-container');\n",
       "if (notebookContainer) {{\n",
       "    x.observe(notebookContainer, {childList: true});\n",
       "}}\n",
       "\n",
       "// Listen for the clearing of the current output cell\n",
       "var outputEl = gd.closest('.output');\n",
       "if (outputEl) {{\n",
       "    x.observe(outputEl, {childList: true});\n",
       "}}\n",
       "\n",
       "                        })                };                });            </script>        </div>"
      ]
     },
     "metadata": {},
     "output_type": "display_data"
    }
   ],
   "source": [
    "bar(data_frame=df['Language Family'].value_counts().to_frame().reset_index(), x='count', y='Language Family', height=800, log_x=True)"
   ]
  },
  {
   "cell_type": "code",
   "execution_count": 6,
   "id": "5f843c57",
   "metadata": {
    "execution": {
     "iopub.execute_input": "2023-12-16T16:54:20.287044Z",
     "iopub.status.busy": "2023-12-16T16:54:20.286671Z",
     "iopub.status.idle": "2023-12-16T16:54:20.343386Z",
     "shell.execute_reply": "2023-12-16T16:54:20.341821Z"
    },
    "papermill": {
     "duration": 0.064447,
     "end_time": "2023-12-16T16:54:20.345773",
     "exception": false,
     "start_time": "2023-12-16T16:54:20.281326",
     "status": "completed"
    },
    "tags": []
   },
   "outputs": [
    {
     "data": {
      "text/html": [
       "<div>                            <div id=\"be286e0d-946f-4cf1-b34a-ce2a2c11b35a\" class=\"plotly-graph-div\" style=\"height:525px; width:100%;\"></div>            <script type=\"text/javascript\">                require([\"plotly\"], function(Plotly) {                    window.PLOTLYENV=window.PLOTLYENV || {};                                    if (document.getElementById(\"be286e0d-946f-4cf1-b34a-ce2a2c11b35a\")) {                    Plotly.newPlot(                        \"be286e0d-946f-4cf1-b34a-ce2a2c11b35a\",                        [{\"alignmentgroup\":\"True\",\"hovertemplate\":\"Location=%{x}\\u003cbr\\u003ecount=%{y}\\u003cextra\\u003e\\u003c\\u002fextra\\u003e\",\"legendgroup\":\"\",\"marker\":{\"color\":\"#636efa\",\"pattern\":{\"shape\":\"\"}},\"name\":\"\",\"offsetgroup\":\"\",\"orientation\":\"v\",\"showlegend\":false,\"textposition\":\"auto\",\"x\":[\"Elmhurst\",\"Astoria\",\"Central Harlem\",\"Jackson Heights\",\"Woodside\",\"Murray Hill\",\"East Midtown\",\"East Village\",\"Flatbush\",\"Concourse\",\"Bensonhurst\",\"Jamaica\",\"Flushing\",\"Ridgewood\",\"Sunset Park\",\"Park Hill\",\"Corona\",\"Brighton Beach\",\"Midtown\",\"East Harlem\"],\"xaxis\":\"x\",\"y\":[52,47,38,37,31,23,23,22,22,20,20,20,19,19,18,17,17,16,15,15],\"yaxis\":\"y\",\"type\":\"bar\"}],                        {\"template\":{\"data\":{\"histogram2dcontour\":[{\"type\":\"histogram2dcontour\",\"colorbar\":{\"outlinewidth\":0,\"ticks\":\"\"},\"colorscale\":[[0.0,\"#0d0887\"],[0.1111111111111111,\"#46039f\"],[0.2222222222222222,\"#7201a8\"],[0.3333333333333333,\"#9c179e\"],[0.4444444444444444,\"#bd3786\"],[0.5555555555555556,\"#d8576b\"],[0.6666666666666666,\"#ed7953\"],[0.7777777777777778,\"#fb9f3a\"],[0.8888888888888888,\"#fdca26\"],[1.0,\"#f0f921\"]]}],\"choropleth\":[{\"type\":\"choropleth\",\"colorbar\":{\"outlinewidth\":0,\"ticks\":\"\"}}],\"histogram2d\":[{\"type\":\"histogram2d\",\"colorbar\":{\"outlinewidth\":0,\"ticks\":\"\"},\"colorscale\":[[0.0,\"#0d0887\"],[0.1111111111111111,\"#46039f\"],[0.2222222222222222,\"#7201a8\"],[0.3333333333333333,\"#9c179e\"],[0.4444444444444444,\"#bd3786\"],[0.5555555555555556,\"#d8576b\"],[0.6666666666666666,\"#ed7953\"],[0.7777777777777778,\"#fb9f3a\"],[0.8888888888888888,\"#fdca26\"],[1.0,\"#f0f921\"]]}],\"heatmap\":[{\"type\":\"heatmap\",\"colorbar\":{\"outlinewidth\":0,\"ticks\":\"\"},\"colorscale\":[[0.0,\"#0d0887\"],[0.1111111111111111,\"#46039f\"],[0.2222222222222222,\"#7201a8\"],[0.3333333333333333,\"#9c179e\"],[0.4444444444444444,\"#bd3786\"],[0.5555555555555556,\"#d8576b\"],[0.6666666666666666,\"#ed7953\"],[0.7777777777777778,\"#fb9f3a\"],[0.8888888888888888,\"#fdca26\"],[1.0,\"#f0f921\"]]}],\"heatmapgl\":[{\"type\":\"heatmapgl\",\"colorbar\":{\"outlinewidth\":0,\"ticks\":\"\"},\"colorscale\":[[0.0,\"#0d0887\"],[0.1111111111111111,\"#46039f\"],[0.2222222222222222,\"#7201a8\"],[0.3333333333333333,\"#9c179e\"],[0.4444444444444444,\"#bd3786\"],[0.5555555555555556,\"#d8576b\"],[0.6666666666666666,\"#ed7953\"],[0.7777777777777778,\"#fb9f3a\"],[0.8888888888888888,\"#fdca26\"],[1.0,\"#f0f921\"]]}],\"contourcarpet\":[{\"type\":\"contourcarpet\",\"colorbar\":{\"outlinewidth\":0,\"ticks\":\"\"}}],\"contour\":[{\"type\":\"contour\",\"colorbar\":{\"outlinewidth\":0,\"ticks\":\"\"},\"colorscale\":[[0.0,\"#0d0887\"],[0.1111111111111111,\"#46039f\"],[0.2222222222222222,\"#7201a8\"],[0.3333333333333333,\"#9c179e\"],[0.4444444444444444,\"#bd3786\"],[0.5555555555555556,\"#d8576b\"],[0.6666666666666666,\"#ed7953\"],[0.7777777777777778,\"#fb9f3a\"],[0.8888888888888888,\"#fdca26\"],[1.0,\"#f0f921\"]]}],\"surface\":[{\"type\":\"surface\",\"colorbar\":{\"outlinewidth\":0,\"ticks\":\"\"},\"colorscale\":[[0.0,\"#0d0887\"],[0.1111111111111111,\"#46039f\"],[0.2222222222222222,\"#7201a8\"],[0.3333333333333333,\"#9c179e\"],[0.4444444444444444,\"#bd3786\"],[0.5555555555555556,\"#d8576b\"],[0.6666666666666666,\"#ed7953\"],[0.7777777777777778,\"#fb9f3a\"],[0.8888888888888888,\"#fdca26\"],[1.0,\"#f0f921\"]]}],\"mesh3d\":[{\"type\":\"mesh3d\",\"colorbar\":{\"outlinewidth\":0,\"ticks\":\"\"}}],\"scatter\":[{\"fillpattern\":{\"fillmode\":\"overlay\",\"size\":10,\"solidity\":0.2},\"type\":\"scatter\"}],\"parcoords\":[{\"type\":\"parcoords\",\"line\":{\"colorbar\":{\"outlinewidth\":0,\"ticks\":\"\"}}}],\"scatterpolargl\":[{\"type\":\"scatterpolargl\",\"marker\":{\"colorbar\":{\"outlinewidth\":0,\"ticks\":\"\"}}}],\"bar\":[{\"error_x\":{\"color\":\"#2a3f5f\"},\"error_y\":{\"color\":\"#2a3f5f\"},\"marker\":{\"line\":{\"color\":\"#E5ECF6\",\"width\":0.5},\"pattern\":{\"fillmode\":\"overlay\",\"size\":10,\"solidity\":0.2}},\"type\":\"bar\"}],\"scattergeo\":[{\"type\":\"scattergeo\",\"marker\":{\"colorbar\":{\"outlinewidth\":0,\"ticks\":\"\"}}}],\"scatterpolar\":[{\"type\":\"scatterpolar\",\"marker\":{\"colorbar\":{\"outlinewidth\":0,\"ticks\":\"\"}}}],\"histogram\":[{\"marker\":{\"pattern\":{\"fillmode\":\"overlay\",\"size\":10,\"solidity\":0.2}},\"type\":\"histogram\"}],\"scattergl\":[{\"type\":\"scattergl\",\"marker\":{\"colorbar\":{\"outlinewidth\":0,\"ticks\":\"\"}}}],\"scatter3d\":[{\"type\":\"scatter3d\",\"line\":{\"colorbar\":{\"outlinewidth\":0,\"ticks\":\"\"}},\"marker\":{\"colorbar\":{\"outlinewidth\":0,\"ticks\":\"\"}}}],\"scattermapbox\":[{\"type\":\"scattermapbox\",\"marker\":{\"colorbar\":{\"outlinewidth\":0,\"ticks\":\"\"}}}],\"scatterternary\":[{\"type\":\"scatterternary\",\"marker\":{\"colorbar\":{\"outlinewidth\":0,\"ticks\":\"\"}}}],\"scattercarpet\":[{\"type\":\"scattercarpet\",\"marker\":{\"colorbar\":{\"outlinewidth\":0,\"ticks\":\"\"}}}],\"carpet\":[{\"aaxis\":{\"endlinecolor\":\"#2a3f5f\",\"gridcolor\":\"white\",\"linecolor\":\"white\",\"minorgridcolor\":\"white\",\"startlinecolor\":\"#2a3f5f\"},\"baxis\":{\"endlinecolor\":\"#2a3f5f\",\"gridcolor\":\"white\",\"linecolor\":\"white\",\"minorgridcolor\":\"white\",\"startlinecolor\":\"#2a3f5f\"},\"type\":\"carpet\"}],\"table\":[{\"cells\":{\"fill\":{\"color\":\"#EBF0F8\"},\"line\":{\"color\":\"white\"}},\"header\":{\"fill\":{\"color\":\"#C8D4E3\"},\"line\":{\"color\":\"white\"}},\"type\":\"table\"}],\"barpolar\":[{\"marker\":{\"line\":{\"color\":\"#E5ECF6\",\"width\":0.5},\"pattern\":{\"fillmode\":\"overlay\",\"size\":10,\"solidity\":0.2}},\"type\":\"barpolar\"}],\"pie\":[{\"automargin\":true,\"type\":\"pie\"}]},\"layout\":{\"autotypenumbers\":\"strict\",\"colorway\":[\"#636efa\",\"#EF553B\",\"#00cc96\",\"#ab63fa\",\"#FFA15A\",\"#19d3f3\",\"#FF6692\",\"#B6E880\",\"#FF97FF\",\"#FECB52\"],\"font\":{\"color\":\"#2a3f5f\"},\"hovermode\":\"closest\",\"hoverlabel\":{\"align\":\"left\"},\"paper_bgcolor\":\"white\",\"plot_bgcolor\":\"#E5ECF6\",\"polar\":{\"bgcolor\":\"#E5ECF6\",\"angularaxis\":{\"gridcolor\":\"white\",\"linecolor\":\"white\",\"ticks\":\"\"},\"radialaxis\":{\"gridcolor\":\"white\",\"linecolor\":\"white\",\"ticks\":\"\"}},\"ternary\":{\"bgcolor\":\"#E5ECF6\",\"aaxis\":{\"gridcolor\":\"white\",\"linecolor\":\"white\",\"ticks\":\"\"},\"baxis\":{\"gridcolor\":\"white\",\"linecolor\":\"white\",\"ticks\":\"\"},\"caxis\":{\"gridcolor\":\"white\",\"linecolor\":\"white\",\"ticks\":\"\"}},\"coloraxis\":{\"colorbar\":{\"outlinewidth\":0,\"ticks\":\"\"}},\"colorscale\":{\"sequential\":[[0.0,\"#0d0887\"],[0.1111111111111111,\"#46039f\"],[0.2222222222222222,\"#7201a8\"],[0.3333333333333333,\"#9c179e\"],[0.4444444444444444,\"#bd3786\"],[0.5555555555555556,\"#d8576b\"],[0.6666666666666666,\"#ed7953\"],[0.7777777777777778,\"#fb9f3a\"],[0.8888888888888888,\"#fdca26\"],[1.0,\"#f0f921\"]],\"sequentialminus\":[[0.0,\"#0d0887\"],[0.1111111111111111,\"#46039f\"],[0.2222222222222222,\"#7201a8\"],[0.3333333333333333,\"#9c179e\"],[0.4444444444444444,\"#bd3786\"],[0.5555555555555556,\"#d8576b\"],[0.6666666666666666,\"#ed7953\"],[0.7777777777777778,\"#fb9f3a\"],[0.8888888888888888,\"#fdca26\"],[1.0,\"#f0f921\"]],\"diverging\":[[0,\"#8e0152\"],[0.1,\"#c51b7d\"],[0.2,\"#de77ae\"],[0.3,\"#f1b6da\"],[0.4,\"#fde0ef\"],[0.5,\"#f7f7f7\"],[0.6,\"#e6f5d0\"],[0.7,\"#b8e186\"],[0.8,\"#7fbc41\"],[0.9,\"#4d9221\"],[1,\"#276419\"]]},\"xaxis\":{\"gridcolor\":\"white\",\"linecolor\":\"white\",\"ticks\":\"\",\"title\":{\"standoff\":15},\"zerolinecolor\":\"white\",\"automargin\":true,\"zerolinewidth\":2},\"yaxis\":{\"gridcolor\":\"white\",\"linecolor\":\"white\",\"ticks\":\"\",\"title\":{\"standoff\":15},\"zerolinecolor\":\"white\",\"automargin\":true,\"zerolinewidth\":2},\"scene\":{\"xaxis\":{\"backgroundcolor\":\"#E5ECF6\",\"gridcolor\":\"white\",\"linecolor\":\"white\",\"showbackground\":true,\"ticks\":\"\",\"zerolinecolor\":\"white\",\"gridwidth\":2},\"yaxis\":{\"backgroundcolor\":\"#E5ECF6\",\"gridcolor\":\"white\",\"linecolor\":\"white\",\"showbackground\":true,\"ticks\":\"\",\"zerolinecolor\":\"white\",\"gridwidth\":2},\"zaxis\":{\"backgroundcolor\":\"#E5ECF6\",\"gridcolor\":\"white\",\"linecolor\":\"white\",\"showbackground\":true,\"ticks\":\"\",\"zerolinecolor\":\"white\",\"gridwidth\":2}},\"shapedefaults\":{\"line\":{\"color\":\"#2a3f5f\"}},\"annotationdefaults\":{\"arrowcolor\":\"#2a3f5f\",\"arrowhead\":0,\"arrowwidth\":1},\"geo\":{\"bgcolor\":\"white\",\"landcolor\":\"#E5ECF6\",\"subunitcolor\":\"white\",\"showland\":true,\"showlakes\":true,\"lakecolor\":\"white\"},\"title\":{\"x\":0.05},\"mapbox\":{\"style\":\"light\"}}},\"xaxis\":{\"anchor\":\"y\",\"domain\":[0.0,1.0],\"title\":{\"text\":\"Location\"}},\"yaxis\":{\"anchor\":\"x\",\"domain\":[0.0,1.0],\"title\":{\"text\":\"count\"}},\"legend\":{\"tracegroupgap\":0},\"margin\":{\"t\":60},\"barmode\":\"relative\"},                        {\"responsive\": true}                    ).then(function(){\n",
       "                            \n",
       "var gd = document.getElementById('be286e0d-946f-4cf1-b34a-ce2a2c11b35a');\n",
       "var x = new MutationObserver(function (mutations, observer) {{\n",
       "        var display = window.getComputedStyle(gd).display;\n",
       "        if (!display || display === 'none') {{\n",
       "            console.log([gd, 'removed!']);\n",
       "            Plotly.purge(gd);\n",
       "            observer.disconnect();\n",
       "        }}\n",
       "}});\n",
       "\n",
       "// Listen for the removal of the full notebook cells\n",
       "var notebookContainer = gd.closest('#notebook-container');\n",
       "if (notebookContainer) {{\n",
       "    x.observe(notebookContainer, {childList: true});\n",
       "}}\n",
       "\n",
       "// Listen for the clearing of the current output cell\n",
       "var outputEl = gd.closest('.output');\n",
       "if (outputEl) {{\n",
       "    x.observe(outputEl, {childList: true});\n",
       "}}\n",
       "\n",
       "                        })                };                });            </script>        </div>"
      ]
     },
     "metadata": {},
     "output_type": "display_data"
    }
   ],
   "source": [
    "bar(data_frame=df['Location'].value_counts().to_frame().reset_index().head(n=20), x='Location', y='count')"
   ]
  },
  {
   "cell_type": "code",
   "execution_count": 7,
   "id": "9d528617",
   "metadata": {
    "execution": {
     "iopub.execute_input": "2023-12-16T16:54:20.356163Z",
     "iopub.status.busy": "2023-12-16T16:54:20.355808Z",
     "iopub.status.idle": "2023-12-16T16:54:20.456510Z",
     "shell.execute_reply": "2023-12-16T16:54:20.454847Z"
    },
    "papermill": {
     "duration": 0.108849,
     "end_time": "2023-12-16T16:54:20.459102",
     "exception": false,
     "start_time": "2023-12-16T16:54:20.350253",
     "status": "completed"
    },
    "tags": []
   },
   "outputs": [
    {
     "data": {
      "text/html": [
       "<div>                            <div id=\"2481bed5-2c3d-4d15-9443-6c2d022d2d4d\" class=\"plotly-graph-div\" style=\"height:525px; width:100%;\"></div>            <script type=\"text/javascript\">                require([\"plotly\"], function(Plotly) {                    window.PLOTLYENV=window.PLOTLYENV || {};                                    if (document.getElementById(\"2481bed5-2c3d-4d15-9443-6c2d022d2d4d\")) {                    Plotly.newPlot(                        \"2481bed5-2c3d-4d15-9443-6c2d022d2d4d\",                        [{\"alignmentgroup\":\"True\",\"bingroup\":\"x\",\"hovertemplate\":\"Global Speakers=%{x}\\u003cbr\\u003ecount=%{y}\\u003cextra\\u003e\\u003c\\u002fextra\\u003e\",\"legendgroup\":\"\",\"marker\":{\"color\":\"#636efa\",\"pattern\":{\"shape\":\"\"}},\"name\":\"\",\"offsetgroup\":\"\",\"orientation\":\"v\",\"showlegend\":false,\"x\":[49800.0,null,3500000.0,140000.0,117500.0,270000.0,45109521.0,17543580.0,9231300.0,525600.0,32387600.0,500000.0,1800000.0,271700.0,25880630.0,45900.0,2550000.0,null,150000.0,null,412000.0,null,380000.0,45000000.0,181120.0,3800000.0,15329040.0,587320.0,560000.0,24000000.0,8859000.0,766500.0,null,1677100.0,9197760.0,100000.0,250000.0,15250.0,96000.0,3300000.0,809940.0,4086000.0,392800.0,14102320.0,84000.0,3655000.0,195100.0,4650000.0,7500.0,260000.0,80000.0,300000.0,537860.0,653000.0,3000000.0,600000.0,2000000.0,14359000.0,20000.0,3843110.0,390000.0,4110000.0,null,265042480.0,5000000.0,52405300.0,null,null,119600.0,10000.0,1600000.0,4500000.0,304000.0,41000.0,8779176.0,205000000.0,206000.0,7000.0,67886004.0,4027800.0,110600.0,8144880.0,79779360.0,168000.0,20000.0,42912350.0,112000.0,219000.0,null,500000.0,null,null,null,12000000.0,null,37590000.0,73538610.0,1191000.0,208100.0,2408000.0,9153310.0,15942480.0,44530000.0,400000.0,1757300.0,4000.0,null,378000.0,241610.0,77000.0,64300.0,null,81501290.0,4750.0,2178100.0,431000.0,1502350.0,132000.0,1520.0,9690520.0,1600000.0,18729160.0,130000.0,1500.0,13000000.0,20000.0,61630.0,null,100090.0,1282270.0,250000.0,null,null,null,1186710.0,49650000.0,1100000.0,null,634930.0,541540.0,6741420.0,11340000.0,8680.0,700000.0,null,13386850.0,1100000.0,1160000.0,1020000.0,5632990.0,230509.0,9241369.0,9000400.0,null,70300.0,331000.0,1352120.0,8000.0,43000.0,43000.0,10630000.0,88000.0,108400.0,23069480.0,12486000.0,237080.0,3843000.0,152000.0,null,1000000.0,17080000.0,1641670.0,2405260.0,64618100.0,null,null,300000.0,2001000.0,1252770.0,4685760.0,578000.0,107000.0,1106100.0,2700000.0,140000.0,670710.0,6305020.0,6500000.0,1935500.0,663100.0,null,279821930.0,300000.0,470000.0,300000.0,50462190.0,14485000.0,745800.0,745000.0,150000.0,2372000.0,null,22100000.0,175000.0,1270000.0,3856370.0,325000.0,3858920.0,132176520.0,null,18000.0,null,350000.0,6623000.0,119881.0,1534800.0,161000.0,null,1064200.0,13170460.0,89000.0,600000.0,6162840.0,130000.0,1305800.0,60588970.0,9750000.0,250000.0,934000.0,1860000.0,1653000.0,500000.0,381800.0,50000.0,200.0,50462190.0,7613800.0,133016.0,210410.0,48467490.0,3000000.0,null,2840000.0,74930300.0,27200.0,600000.0,8000000.0,9303950.0,211700.0,612000000.0,7710850.0,50462190.0,6080.0,37300000.0,12574280.0,10680.0,116000.0,277000.0,9970000.0,300000.0,27014190.0,6482100.0,6246880.0,null,198733600.0,322900.0,200000.0,1200.0,241000.0,15655900.0,125120.0,1171000.0,4904000.0,5700000.0,21000000.0,3000.0,400.0,1400.0,null,67894920.0,null,83600.0,null,3200000.0,128350830.0,68277600.0,null,null,null,10000.0,null,4500.0,null,45100.0,820000.0,202.0,null,null,null,null,null,null,133016.0,80500.0,1270000.0,1702500.0,984300.0,null,5599200.0,940000.0,null,50.0,258000.0,5000.0,200000.0,431800.0,null,56463310.0,833000.0,310400.0,635670.0,7000000.0,18200.0,6914780.0,711310.0,9980000.0,15000.0,2672080.0,27000.0,1380000.0,17591230.0,332200.0,6500000.0,2100000.0,433000.0,12120250.0,10000000.0,null,5400000.0,114000.0,null,5889650.0,244477.0,210000.0,77264890.0,null,39000.0,null,1220000.0,214000.0,271000.0,33000.0,440.0,61000.0,461000.0,22132670.0,15000.0,100000.0,600.0,4170000.0,27000.0,600000.0,2100.0,125000.0,4230000.0,74000.0,1765910.0,22000.0,null,null,null,633610.0,null,4911800.0,35000.0,508210.0,442000.0,407000.0,29000.0,2260520.0,3000600.0,null,7500.0,266000.0,3903000.0,180000.0,null,447360.0,7060000.0,1510000.0,null,6564750.0,null,null,4200000.0,1760000.0,471400.0,1620290.0,null,7790900.0,308000.0,1100000.0,300000.0,34085000.0,2530000.0,18138380.0,250000000.0,35495000.0,481760.0,488500.0,60000.0,2350000.0,390.0,1116596640.0,154000.0,1325000.0,356800.0,900000.0,1733000.0,390000.0,258410.0,866000.0,95312800.0,900000.0,185800.0,186700.0,61000.0,600000.0,20591400.0,440000.0,null,1090000.0,100000.0,2340000.0,220000.0,210000.0,1775000.0,1800000.0,1976000.0,126200000.0,813600.0,6463000.0,345530.0,11600.0,500934.0,3040.0,null,200.0,24345750.0,null,851000.0,400000.0,152000.0,null,2010000.0,7600.0,30500000.0,null,7829300.0,39000.0,7000.0,486000.0,45000.0,159700.0,10000.0,null,1740000.0,600.0,3300.0,null,10300.0,167000.0,1634800.0,5700000.0,100.0,20980000.0,4886000.0,879600.0,521542.0,null,null,null,31000.0,10000.0,24200000.0,null,2191000.0,13524520.0,6029500.0,5000000.0,null,2000.0,896280.0,null,37091520.0,25900.0,984000.0,17465900.0,1481000.0,599250.0,88500.0,55000.0,560000.0,null,400000.0,18140.0,3105000.0,null,2049670.0,8000.0,null,2500000.0,1243660.0,80000.0,341300.0,6000000.0,38249700.0,61782560.0,7735620.0,31990000.0,null,700000.0,331400.0,21654.0,40378030.0,778000.0,92200.0,234168620.0,null,null,3194000.0,null,null,null,null,null,null,null,null,null,125000000.0,93500.0,148340.0,733600.0,8485000.0,null,2020000.0,null,10801000.0,null,null,1547690.0,24345750.0,40000.0,18000.0,258227760.0,82960.0,25700.0,415720.0,18300.0,null,5199000.0,36000.0,76000.0,5007800.0,7620280.0,20009000.0,90000.0,2100000.0,1599200.0,60130.0,700.0,350000.0,3000000.0,8779176.0,1410700.0,80200.0,3295000.0,14000000.0,810000.0,98800.0,169980.0,644200.0,null,9037290.0,42300.0,95000.0,420000.0,100000000.0,4700000.0,5758640.0,280000.0,522000.0,24625591.0,null,17287880.0,20000.0,7227240.0,2226650.0,16321530.0,null,2138110.0,8000000.0,null,6700000.0,null,58200000.0,715700.0,null,46000.0,3000000.0,39000.0,357153.0,357153.0,31940300.0,32400000.0,39760.0,1610110.0,14071.0,820000.0,18027740.0,4843200.0,12804900.0,5724200.0,11800000.0,null,null,null,23808890.0,2300000.0,16000000.0,7987320.0,1370000.0,80989130.0,22000.0,67000.0,4366000.0,7066000.0,5009510.0,946000.0,20000.0,null,411000.0,93040340.0,381300.0,1870000.0,50462190.0,8900.0,463500.0,60657660.0,6000.0,2000000.0,1186710.0,1290000.0,7659780.0,4000000.0,37500.0,300000.0,4125740.0,3500.0,1500000.0,187710.0,150000.0,1870730.0,1390000.0,958000.0,25000.0,4790.0,13664710.0,null,1850000.0,1546000.0,11200000.0,46000.0,79779360.0,6765590.0,103300.0,null,297000.0,9000000.0,63200.0,235000.0,null,33082790.0,null,6000000.0,null,170208780.0,546000.0,null,10100000.0,25164820.0,186800.0,7852500.0,30000000.0,76950770.0,117000.0,76000.0,5009510.0,900000.0,58000.0,140000.0,600000.0,3500.0,2611110.0,573050.0,8000000.0,13700.0,3843000.0,null,250.0,5267290.0,19183300.0,130000.0,450000.0,300000.0,26453300.0,50300.0,367357.0,39844260.0,45966239.0,1500.0,316660.0,441182.0,3680100.0,1344000.0,8000.0,12000000.0,null,null],\"xaxis\":\"x\",\"yaxis\":\"y\",\"type\":\"histogram\"}],                        {\"template\":{\"data\":{\"histogram2dcontour\":[{\"type\":\"histogram2dcontour\",\"colorbar\":{\"outlinewidth\":0,\"ticks\":\"\"},\"colorscale\":[[0.0,\"#0d0887\"],[0.1111111111111111,\"#46039f\"],[0.2222222222222222,\"#7201a8\"],[0.3333333333333333,\"#9c179e\"],[0.4444444444444444,\"#bd3786\"],[0.5555555555555556,\"#d8576b\"],[0.6666666666666666,\"#ed7953\"],[0.7777777777777778,\"#fb9f3a\"],[0.8888888888888888,\"#fdca26\"],[1.0,\"#f0f921\"]]}],\"choropleth\":[{\"type\":\"choropleth\",\"colorbar\":{\"outlinewidth\":0,\"ticks\":\"\"}}],\"histogram2d\":[{\"type\":\"histogram2d\",\"colorbar\":{\"outlinewidth\":0,\"ticks\":\"\"},\"colorscale\":[[0.0,\"#0d0887\"],[0.1111111111111111,\"#46039f\"],[0.2222222222222222,\"#7201a8\"],[0.3333333333333333,\"#9c179e\"],[0.4444444444444444,\"#bd3786\"],[0.5555555555555556,\"#d8576b\"],[0.6666666666666666,\"#ed7953\"],[0.7777777777777778,\"#fb9f3a\"],[0.8888888888888888,\"#fdca26\"],[1.0,\"#f0f921\"]]}],\"heatmap\":[{\"type\":\"heatmap\",\"colorbar\":{\"outlinewidth\":0,\"ticks\":\"\"},\"colorscale\":[[0.0,\"#0d0887\"],[0.1111111111111111,\"#46039f\"],[0.2222222222222222,\"#7201a8\"],[0.3333333333333333,\"#9c179e\"],[0.4444444444444444,\"#bd3786\"],[0.5555555555555556,\"#d8576b\"],[0.6666666666666666,\"#ed7953\"],[0.7777777777777778,\"#fb9f3a\"],[0.8888888888888888,\"#fdca26\"],[1.0,\"#f0f921\"]]}],\"heatmapgl\":[{\"type\":\"heatmapgl\",\"colorbar\":{\"outlinewidth\":0,\"ticks\":\"\"},\"colorscale\":[[0.0,\"#0d0887\"],[0.1111111111111111,\"#46039f\"],[0.2222222222222222,\"#7201a8\"],[0.3333333333333333,\"#9c179e\"],[0.4444444444444444,\"#bd3786\"],[0.5555555555555556,\"#d8576b\"],[0.6666666666666666,\"#ed7953\"],[0.7777777777777778,\"#fb9f3a\"],[0.8888888888888888,\"#fdca26\"],[1.0,\"#f0f921\"]]}],\"contourcarpet\":[{\"type\":\"contourcarpet\",\"colorbar\":{\"outlinewidth\":0,\"ticks\":\"\"}}],\"contour\":[{\"type\":\"contour\",\"colorbar\":{\"outlinewidth\":0,\"ticks\":\"\"},\"colorscale\":[[0.0,\"#0d0887\"],[0.1111111111111111,\"#46039f\"],[0.2222222222222222,\"#7201a8\"],[0.3333333333333333,\"#9c179e\"],[0.4444444444444444,\"#bd3786\"],[0.5555555555555556,\"#d8576b\"],[0.6666666666666666,\"#ed7953\"],[0.7777777777777778,\"#fb9f3a\"],[0.8888888888888888,\"#fdca26\"],[1.0,\"#f0f921\"]]}],\"surface\":[{\"type\":\"surface\",\"colorbar\":{\"outlinewidth\":0,\"ticks\":\"\"},\"colorscale\":[[0.0,\"#0d0887\"],[0.1111111111111111,\"#46039f\"],[0.2222222222222222,\"#7201a8\"],[0.3333333333333333,\"#9c179e\"],[0.4444444444444444,\"#bd3786\"],[0.5555555555555556,\"#d8576b\"],[0.6666666666666666,\"#ed7953\"],[0.7777777777777778,\"#fb9f3a\"],[0.8888888888888888,\"#fdca26\"],[1.0,\"#f0f921\"]]}],\"mesh3d\":[{\"type\":\"mesh3d\",\"colorbar\":{\"outlinewidth\":0,\"ticks\":\"\"}}],\"scatter\":[{\"fillpattern\":{\"fillmode\":\"overlay\",\"size\":10,\"solidity\":0.2},\"type\":\"scatter\"}],\"parcoords\":[{\"type\":\"parcoords\",\"line\":{\"colorbar\":{\"outlinewidth\":0,\"ticks\":\"\"}}}],\"scatterpolargl\":[{\"type\":\"scatterpolargl\",\"marker\":{\"colorbar\":{\"outlinewidth\":0,\"ticks\":\"\"}}}],\"bar\":[{\"error_x\":{\"color\":\"#2a3f5f\"},\"error_y\":{\"color\":\"#2a3f5f\"},\"marker\":{\"line\":{\"color\":\"#E5ECF6\",\"width\":0.5},\"pattern\":{\"fillmode\":\"overlay\",\"size\":10,\"solidity\":0.2}},\"type\":\"bar\"}],\"scattergeo\":[{\"type\":\"scattergeo\",\"marker\":{\"colorbar\":{\"outlinewidth\":0,\"ticks\":\"\"}}}],\"scatterpolar\":[{\"type\":\"scatterpolar\",\"marker\":{\"colorbar\":{\"outlinewidth\":0,\"ticks\":\"\"}}}],\"histogram\":[{\"marker\":{\"pattern\":{\"fillmode\":\"overlay\",\"size\":10,\"solidity\":0.2}},\"type\":\"histogram\"}],\"scattergl\":[{\"type\":\"scattergl\",\"marker\":{\"colorbar\":{\"outlinewidth\":0,\"ticks\":\"\"}}}],\"scatter3d\":[{\"type\":\"scatter3d\",\"line\":{\"colorbar\":{\"outlinewidth\":0,\"ticks\":\"\"}},\"marker\":{\"colorbar\":{\"outlinewidth\":0,\"ticks\":\"\"}}}],\"scattermapbox\":[{\"type\":\"scattermapbox\",\"marker\":{\"colorbar\":{\"outlinewidth\":0,\"ticks\":\"\"}}}],\"scatterternary\":[{\"type\":\"scatterternary\",\"marker\":{\"colorbar\":{\"outlinewidth\":0,\"ticks\":\"\"}}}],\"scattercarpet\":[{\"type\":\"scattercarpet\",\"marker\":{\"colorbar\":{\"outlinewidth\":0,\"ticks\":\"\"}}}],\"carpet\":[{\"aaxis\":{\"endlinecolor\":\"#2a3f5f\",\"gridcolor\":\"white\",\"linecolor\":\"white\",\"minorgridcolor\":\"white\",\"startlinecolor\":\"#2a3f5f\"},\"baxis\":{\"endlinecolor\":\"#2a3f5f\",\"gridcolor\":\"white\",\"linecolor\":\"white\",\"minorgridcolor\":\"white\",\"startlinecolor\":\"#2a3f5f\"},\"type\":\"carpet\"}],\"table\":[{\"cells\":{\"fill\":{\"color\":\"#EBF0F8\"},\"line\":{\"color\":\"white\"}},\"header\":{\"fill\":{\"color\":\"#C8D4E3\"},\"line\":{\"color\":\"white\"}},\"type\":\"table\"}],\"barpolar\":[{\"marker\":{\"line\":{\"color\":\"#E5ECF6\",\"width\":0.5},\"pattern\":{\"fillmode\":\"overlay\",\"size\":10,\"solidity\":0.2}},\"type\":\"barpolar\"}],\"pie\":[{\"automargin\":true,\"type\":\"pie\"}]},\"layout\":{\"autotypenumbers\":\"strict\",\"colorway\":[\"#636efa\",\"#EF553B\",\"#00cc96\",\"#ab63fa\",\"#FFA15A\",\"#19d3f3\",\"#FF6692\",\"#B6E880\",\"#FF97FF\",\"#FECB52\"],\"font\":{\"color\":\"#2a3f5f\"},\"hovermode\":\"closest\",\"hoverlabel\":{\"align\":\"left\"},\"paper_bgcolor\":\"white\",\"plot_bgcolor\":\"#E5ECF6\",\"polar\":{\"bgcolor\":\"#E5ECF6\",\"angularaxis\":{\"gridcolor\":\"white\",\"linecolor\":\"white\",\"ticks\":\"\"},\"radialaxis\":{\"gridcolor\":\"white\",\"linecolor\":\"white\",\"ticks\":\"\"}},\"ternary\":{\"bgcolor\":\"#E5ECF6\",\"aaxis\":{\"gridcolor\":\"white\",\"linecolor\":\"white\",\"ticks\":\"\"},\"baxis\":{\"gridcolor\":\"white\",\"linecolor\":\"white\",\"ticks\":\"\"},\"caxis\":{\"gridcolor\":\"white\",\"linecolor\":\"white\",\"ticks\":\"\"}},\"coloraxis\":{\"colorbar\":{\"outlinewidth\":0,\"ticks\":\"\"}},\"colorscale\":{\"sequential\":[[0.0,\"#0d0887\"],[0.1111111111111111,\"#46039f\"],[0.2222222222222222,\"#7201a8\"],[0.3333333333333333,\"#9c179e\"],[0.4444444444444444,\"#bd3786\"],[0.5555555555555556,\"#d8576b\"],[0.6666666666666666,\"#ed7953\"],[0.7777777777777778,\"#fb9f3a\"],[0.8888888888888888,\"#fdca26\"],[1.0,\"#f0f921\"]],\"sequentialminus\":[[0.0,\"#0d0887\"],[0.1111111111111111,\"#46039f\"],[0.2222222222222222,\"#7201a8\"],[0.3333333333333333,\"#9c179e\"],[0.4444444444444444,\"#bd3786\"],[0.5555555555555556,\"#d8576b\"],[0.6666666666666666,\"#ed7953\"],[0.7777777777777778,\"#fb9f3a\"],[0.8888888888888888,\"#fdca26\"],[1.0,\"#f0f921\"]],\"diverging\":[[0,\"#8e0152\"],[0.1,\"#c51b7d\"],[0.2,\"#de77ae\"],[0.3,\"#f1b6da\"],[0.4,\"#fde0ef\"],[0.5,\"#f7f7f7\"],[0.6,\"#e6f5d0\"],[0.7,\"#b8e186\"],[0.8,\"#7fbc41\"],[0.9,\"#4d9221\"],[1,\"#276419\"]]},\"xaxis\":{\"gridcolor\":\"white\",\"linecolor\":\"white\",\"ticks\":\"\",\"title\":{\"standoff\":15},\"zerolinecolor\":\"white\",\"automargin\":true,\"zerolinewidth\":2},\"yaxis\":{\"gridcolor\":\"white\",\"linecolor\":\"white\",\"ticks\":\"\",\"title\":{\"standoff\":15},\"zerolinecolor\":\"white\",\"automargin\":true,\"zerolinewidth\":2},\"scene\":{\"xaxis\":{\"backgroundcolor\":\"#E5ECF6\",\"gridcolor\":\"white\",\"linecolor\":\"white\",\"showbackground\":true,\"ticks\":\"\",\"zerolinecolor\":\"white\",\"gridwidth\":2},\"yaxis\":{\"backgroundcolor\":\"#E5ECF6\",\"gridcolor\":\"white\",\"linecolor\":\"white\",\"showbackground\":true,\"ticks\":\"\",\"zerolinecolor\":\"white\",\"gridwidth\":2},\"zaxis\":{\"backgroundcolor\":\"#E5ECF6\",\"gridcolor\":\"white\",\"linecolor\":\"white\",\"showbackground\":true,\"ticks\":\"\",\"zerolinecolor\":\"white\",\"gridwidth\":2}},\"shapedefaults\":{\"line\":{\"color\":\"#2a3f5f\"}},\"annotationdefaults\":{\"arrowcolor\":\"#2a3f5f\",\"arrowhead\":0,\"arrowwidth\":1},\"geo\":{\"bgcolor\":\"white\",\"landcolor\":\"#E5ECF6\",\"subunitcolor\":\"white\",\"showland\":true,\"showlakes\":true,\"lakecolor\":\"white\"},\"title\":{\"x\":0.05},\"mapbox\":{\"style\":\"light\"}}},\"xaxis\":{\"anchor\":\"y\",\"domain\":[0.0,1.0],\"title\":{\"text\":\"Global Speakers\"}},\"yaxis\":{\"anchor\":\"x\",\"domain\":[0.0,1.0],\"title\":{\"text\":\"count\"},\"type\":\"log\"},\"legend\":{\"tracegroupgap\":0},\"margin\":{\"t\":60},\"barmode\":\"relative\"},                        {\"responsive\": true}                    ).then(function(){\n",
       "                            \n",
       "var gd = document.getElementById('2481bed5-2c3d-4d15-9443-6c2d022d2d4d');\n",
       "var x = new MutationObserver(function (mutations, observer) {{\n",
       "        var display = window.getComputedStyle(gd).display;\n",
       "        if (!display || display === 'none') {{\n",
       "            console.log([gd, 'removed!']);\n",
       "            Plotly.purge(gd);\n",
       "            observer.disconnect();\n",
       "        }}\n",
       "}});\n",
       "\n",
       "// Listen for the removal of the full notebook cells\n",
       "var notebookContainer = gd.closest('#notebook-container');\n",
       "if (notebookContainer) {{\n",
       "    x.observe(notebookContainer, {childList: true});\n",
       "}}\n",
       "\n",
       "// Listen for the clearing of the current output cell\n",
       "var outputEl = gd.closest('.output');\n",
       "if (outputEl) {{\n",
       "    x.observe(outputEl, {childList: true});\n",
       "}}\n",
       "\n",
       "                        })                };                });            </script>        </div>"
      ]
     },
     "metadata": {},
     "output_type": "display_data"
    }
   ],
   "source": [
    "from plotly.express import histogram\n",
    "histogram(data_frame=df[['Language', 'Global Speakers']].drop_duplicates(ignore_index=True), x='Global Speakers', log_y=True)"
   ]
  },
  {
   "cell_type": "markdown",
   "id": "28f037fa",
   "metadata": {
    "papermill": {
     "duration": 0.00464,
     "end_time": "2023-12-16T16:54:20.468646",
     "exception": false,
     "start_time": "2023-12-16T16:54:20.464006",
     "status": "completed"
    },
    "tags": []
   },
   "source": [
    "There are a surprising number of languages spoken in New York City that are spoken almost nowhere else in the world."
   ]
  },
  {
   "cell_type": "code",
   "execution_count": 8,
   "id": "0a9d7737",
   "metadata": {
    "execution": {
     "iopub.execute_input": "2023-12-16T16:54:20.478825Z",
     "iopub.status.busy": "2023-12-16T16:54:20.478445Z",
     "iopub.status.idle": "2023-12-16T16:54:20.531749Z",
     "shell.execute_reply": "2023-12-16T16:54:20.530370Z"
    },
    "papermill": {
     "duration": 0.060848,
     "end_time": "2023-12-16T16:54:20.533880",
     "exception": false,
     "start_time": "2023-12-16T16:54:20.473032",
     "status": "completed"
    },
    "tags": []
   },
   "outputs": [
    {
     "data": {
      "text/html": [
       "<div>                            <div id=\"d42d5fb9-c883-4854-b943-e810bc45cca3\" class=\"plotly-graph-div\" style=\"height:525px; width:100%;\"></div>            <script type=\"text/javascript\">                require([\"plotly\"], function(Plotly) {                    window.PLOTLYENV=window.PLOTLYENV || {};                                    if (document.getElementById(\"d42d5fb9-c883-4854-b943-e810bc45cca3\")) {                    Plotly.newPlot(                        \"d42d5fb9-c883-4854-b943-e810bc45cca3\",                        [{\"alignmentgroup\":\"True\",\"hovertemplate\":\"Language=%{x}\\u003cbr\\u003eGlobal Speakers=%{y}\\u003cextra\\u003e\\u003c\\u002fextra\\u003e\",\"legendgroup\":\"\",\"marker\":{\"color\":\"#636efa\",\"pattern\":{\"shape\":\"\"}},\"name\":\"\",\"offsetgroup\":\"\",\"orientation\":\"v\",\"showlegend\":false,\"textposition\":\"auto\",\"x\":[\"Kaike\",\"Neo-Mandaic\",\"Mojave\",\"Gyalsumdo\",\"Judeo-Crimean Tatar\",\"Winnebago\",\"Manang\",\"Istrioto\",\"Kumeyaay\",\"Nar-Phu\",\"Kyirong\",\"Seke\",\"Inuktun\",\"Istro-Romanian\",\"Chiricahua Apache\",\"Zacaptec Mixtec\",\"Cherokee\",\"Nubri\",\"Lakota\",\"Ishkashimi\"],\"xaxis\":\"x\",\"y\":[50.0,100.0,200.0,200.0,202.0,250.0,390.0,400.0,440.0,600.0,600.0,700.0,1200.0,1400.0,1500.0,1500.0,1520.0,2000.0,2100.0,3000.0],\"yaxis\":\"y\",\"type\":\"bar\"}],                        {\"template\":{\"data\":{\"histogram2dcontour\":[{\"type\":\"histogram2dcontour\",\"colorbar\":{\"outlinewidth\":0,\"ticks\":\"\"},\"colorscale\":[[0.0,\"#0d0887\"],[0.1111111111111111,\"#46039f\"],[0.2222222222222222,\"#7201a8\"],[0.3333333333333333,\"#9c179e\"],[0.4444444444444444,\"#bd3786\"],[0.5555555555555556,\"#d8576b\"],[0.6666666666666666,\"#ed7953\"],[0.7777777777777778,\"#fb9f3a\"],[0.8888888888888888,\"#fdca26\"],[1.0,\"#f0f921\"]]}],\"choropleth\":[{\"type\":\"choropleth\",\"colorbar\":{\"outlinewidth\":0,\"ticks\":\"\"}}],\"histogram2d\":[{\"type\":\"histogram2d\",\"colorbar\":{\"outlinewidth\":0,\"ticks\":\"\"},\"colorscale\":[[0.0,\"#0d0887\"],[0.1111111111111111,\"#46039f\"],[0.2222222222222222,\"#7201a8\"],[0.3333333333333333,\"#9c179e\"],[0.4444444444444444,\"#bd3786\"],[0.5555555555555556,\"#d8576b\"],[0.6666666666666666,\"#ed7953\"],[0.7777777777777778,\"#fb9f3a\"],[0.8888888888888888,\"#fdca26\"],[1.0,\"#f0f921\"]]}],\"heatmap\":[{\"type\":\"heatmap\",\"colorbar\":{\"outlinewidth\":0,\"ticks\":\"\"},\"colorscale\":[[0.0,\"#0d0887\"],[0.1111111111111111,\"#46039f\"],[0.2222222222222222,\"#7201a8\"],[0.3333333333333333,\"#9c179e\"],[0.4444444444444444,\"#bd3786\"],[0.5555555555555556,\"#d8576b\"],[0.6666666666666666,\"#ed7953\"],[0.7777777777777778,\"#fb9f3a\"],[0.8888888888888888,\"#fdca26\"],[1.0,\"#f0f921\"]]}],\"heatmapgl\":[{\"type\":\"heatmapgl\",\"colorbar\":{\"outlinewidth\":0,\"ticks\":\"\"},\"colorscale\":[[0.0,\"#0d0887\"],[0.1111111111111111,\"#46039f\"],[0.2222222222222222,\"#7201a8\"],[0.3333333333333333,\"#9c179e\"],[0.4444444444444444,\"#bd3786\"],[0.5555555555555556,\"#d8576b\"],[0.6666666666666666,\"#ed7953\"],[0.7777777777777778,\"#fb9f3a\"],[0.8888888888888888,\"#fdca26\"],[1.0,\"#f0f921\"]]}],\"contourcarpet\":[{\"type\":\"contourcarpet\",\"colorbar\":{\"outlinewidth\":0,\"ticks\":\"\"}}],\"contour\":[{\"type\":\"contour\",\"colorbar\":{\"outlinewidth\":0,\"ticks\":\"\"},\"colorscale\":[[0.0,\"#0d0887\"],[0.1111111111111111,\"#46039f\"],[0.2222222222222222,\"#7201a8\"],[0.3333333333333333,\"#9c179e\"],[0.4444444444444444,\"#bd3786\"],[0.5555555555555556,\"#d8576b\"],[0.6666666666666666,\"#ed7953\"],[0.7777777777777778,\"#fb9f3a\"],[0.8888888888888888,\"#fdca26\"],[1.0,\"#f0f921\"]]}],\"surface\":[{\"type\":\"surface\",\"colorbar\":{\"outlinewidth\":0,\"ticks\":\"\"},\"colorscale\":[[0.0,\"#0d0887\"],[0.1111111111111111,\"#46039f\"],[0.2222222222222222,\"#7201a8\"],[0.3333333333333333,\"#9c179e\"],[0.4444444444444444,\"#bd3786\"],[0.5555555555555556,\"#d8576b\"],[0.6666666666666666,\"#ed7953\"],[0.7777777777777778,\"#fb9f3a\"],[0.8888888888888888,\"#fdca26\"],[1.0,\"#f0f921\"]]}],\"mesh3d\":[{\"type\":\"mesh3d\",\"colorbar\":{\"outlinewidth\":0,\"ticks\":\"\"}}],\"scatter\":[{\"fillpattern\":{\"fillmode\":\"overlay\",\"size\":10,\"solidity\":0.2},\"type\":\"scatter\"}],\"parcoords\":[{\"type\":\"parcoords\",\"line\":{\"colorbar\":{\"outlinewidth\":0,\"ticks\":\"\"}}}],\"scatterpolargl\":[{\"type\":\"scatterpolargl\",\"marker\":{\"colorbar\":{\"outlinewidth\":0,\"ticks\":\"\"}}}],\"bar\":[{\"error_x\":{\"color\":\"#2a3f5f\"},\"error_y\":{\"color\":\"#2a3f5f\"},\"marker\":{\"line\":{\"color\":\"#E5ECF6\",\"width\":0.5},\"pattern\":{\"fillmode\":\"overlay\",\"size\":10,\"solidity\":0.2}},\"type\":\"bar\"}],\"scattergeo\":[{\"type\":\"scattergeo\",\"marker\":{\"colorbar\":{\"outlinewidth\":0,\"ticks\":\"\"}}}],\"scatterpolar\":[{\"type\":\"scatterpolar\",\"marker\":{\"colorbar\":{\"outlinewidth\":0,\"ticks\":\"\"}}}],\"histogram\":[{\"marker\":{\"pattern\":{\"fillmode\":\"overlay\",\"size\":10,\"solidity\":0.2}},\"type\":\"histogram\"}],\"scattergl\":[{\"type\":\"scattergl\",\"marker\":{\"colorbar\":{\"outlinewidth\":0,\"ticks\":\"\"}}}],\"scatter3d\":[{\"type\":\"scatter3d\",\"line\":{\"colorbar\":{\"outlinewidth\":0,\"ticks\":\"\"}},\"marker\":{\"colorbar\":{\"outlinewidth\":0,\"ticks\":\"\"}}}],\"scattermapbox\":[{\"type\":\"scattermapbox\",\"marker\":{\"colorbar\":{\"outlinewidth\":0,\"ticks\":\"\"}}}],\"scatterternary\":[{\"type\":\"scatterternary\",\"marker\":{\"colorbar\":{\"outlinewidth\":0,\"ticks\":\"\"}}}],\"scattercarpet\":[{\"type\":\"scattercarpet\",\"marker\":{\"colorbar\":{\"outlinewidth\":0,\"ticks\":\"\"}}}],\"carpet\":[{\"aaxis\":{\"endlinecolor\":\"#2a3f5f\",\"gridcolor\":\"white\",\"linecolor\":\"white\",\"minorgridcolor\":\"white\",\"startlinecolor\":\"#2a3f5f\"},\"baxis\":{\"endlinecolor\":\"#2a3f5f\",\"gridcolor\":\"white\",\"linecolor\":\"white\",\"minorgridcolor\":\"white\",\"startlinecolor\":\"#2a3f5f\"},\"type\":\"carpet\"}],\"table\":[{\"cells\":{\"fill\":{\"color\":\"#EBF0F8\"},\"line\":{\"color\":\"white\"}},\"header\":{\"fill\":{\"color\":\"#C8D4E3\"},\"line\":{\"color\":\"white\"}},\"type\":\"table\"}],\"barpolar\":[{\"marker\":{\"line\":{\"color\":\"#E5ECF6\",\"width\":0.5},\"pattern\":{\"fillmode\":\"overlay\",\"size\":10,\"solidity\":0.2}},\"type\":\"barpolar\"}],\"pie\":[{\"automargin\":true,\"type\":\"pie\"}]},\"layout\":{\"autotypenumbers\":\"strict\",\"colorway\":[\"#636efa\",\"#EF553B\",\"#00cc96\",\"#ab63fa\",\"#FFA15A\",\"#19d3f3\",\"#FF6692\",\"#B6E880\",\"#FF97FF\",\"#FECB52\"],\"font\":{\"color\":\"#2a3f5f\"},\"hovermode\":\"closest\",\"hoverlabel\":{\"align\":\"left\"},\"paper_bgcolor\":\"white\",\"plot_bgcolor\":\"#E5ECF6\",\"polar\":{\"bgcolor\":\"#E5ECF6\",\"angularaxis\":{\"gridcolor\":\"white\",\"linecolor\":\"white\",\"ticks\":\"\"},\"radialaxis\":{\"gridcolor\":\"white\",\"linecolor\":\"white\",\"ticks\":\"\"}},\"ternary\":{\"bgcolor\":\"#E5ECF6\",\"aaxis\":{\"gridcolor\":\"white\",\"linecolor\":\"white\",\"ticks\":\"\"},\"baxis\":{\"gridcolor\":\"white\",\"linecolor\":\"white\",\"ticks\":\"\"},\"caxis\":{\"gridcolor\":\"white\",\"linecolor\":\"white\",\"ticks\":\"\"}},\"coloraxis\":{\"colorbar\":{\"outlinewidth\":0,\"ticks\":\"\"}},\"colorscale\":{\"sequential\":[[0.0,\"#0d0887\"],[0.1111111111111111,\"#46039f\"],[0.2222222222222222,\"#7201a8\"],[0.3333333333333333,\"#9c179e\"],[0.4444444444444444,\"#bd3786\"],[0.5555555555555556,\"#d8576b\"],[0.6666666666666666,\"#ed7953\"],[0.7777777777777778,\"#fb9f3a\"],[0.8888888888888888,\"#fdca26\"],[1.0,\"#f0f921\"]],\"sequentialminus\":[[0.0,\"#0d0887\"],[0.1111111111111111,\"#46039f\"],[0.2222222222222222,\"#7201a8\"],[0.3333333333333333,\"#9c179e\"],[0.4444444444444444,\"#bd3786\"],[0.5555555555555556,\"#d8576b\"],[0.6666666666666666,\"#ed7953\"],[0.7777777777777778,\"#fb9f3a\"],[0.8888888888888888,\"#fdca26\"],[1.0,\"#f0f921\"]],\"diverging\":[[0,\"#8e0152\"],[0.1,\"#c51b7d\"],[0.2,\"#de77ae\"],[0.3,\"#f1b6da\"],[0.4,\"#fde0ef\"],[0.5,\"#f7f7f7\"],[0.6,\"#e6f5d0\"],[0.7,\"#b8e186\"],[0.8,\"#7fbc41\"],[0.9,\"#4d9221\"],[1,\"#276419\"]]},\"xaxis\":{\"gridcolor\":\"white\",\"linecolor\":\"white\",\"ticks\":\"\",\"title\":{\"standoff\":15},\"zerolinecolor\":\"white\",\"automargin\":true,\"zerolinewidth\":2},\"yaxis\":{\"gridcolor\":\"white\",\"linecolor\":\"white\",\"ticks\":\"\",\"title\":{\"standoff\":15},\"zerolinecolor\":\"white\",\"automargin\":true,\"zerolinewidth\":2},\"scene\":{\"xaxis\":{\"backgroundcolor\":\"#E5ECF6\",\"gridcolor\":\"white\",\"linecolor\":\"white\",\"showbackground\":true,\"ticks\":\"\",\"zerolinecolor\":\"white\",\"gridwidth\":2},\"yaxis\":{\"backgroundcolor\":\"#E5ECF6\",\"gridcolor\":\"white\",\"linecolor\":\"white\",\"showbackground\":true,\"ticks\":\"\",\"zerolinecolor\":\"white\",\"gridwidth\":2},\"zaxis\":{\"backgroundcolor\":\"#E5ECF6\",\"gridcolor\":\"white\",\"linecolor\":\"white\",\"showbackground\":true,\"ticks\":\"\",\"zerolinecolor\":\"white\",\"gridwidth\":2}},\"shapedefaults\":{\"line\":{\"color\":\"#2a3f5f\"}},\"annotationdefaults\":{\"arrowcolor\":\"#2a3f5f\",\"arrowhead\":0,\"arrowwidth\":1},\"geo\":{\"bgcolor\":\"white\",\"landcolor\":\"#E5ECF6\",\"subunitcolor\":\"white\",\"showland\":true,\"showlakes\":true,\"lakecolor\":\"white\"},\"title\":{\"x\":0.05},\"mapbox\":{\"style\":\"light\"}}},\"xaxis\":{\"anchor\":\"y\",\"domain\":[0.0,1.0],\"title\":{\"text\":\"Language\"}},\"yaxis\":{\"anchor\":\"x\",\"domain\":[0.0,1.0],\"title\":{\"text\":\"Global Speakers\"}},\"legend\":{\"tracegroupgap\":0},\"margin\":{\"t\":60},\"barmode\":\"relative\"},                        {\"responsive\": true}                    ).then(function(){\n",
       "                            \n",
       "var gd = document.getElementById('d42d5fb9-c883-4854-b943-e810bc45cca3');\n",
       "var x = new MutationObserver(function (mutations, observer) {{\n",
       "        var display = window.getComputedStyle(gd).display;\n",
       "        if (!display || display === 'none') {{\n",
       "            console.log([gd, 'removed!']);\n",
       "            Plotly.purge(gd);\n",
       "            observer.disconnect();\n",
       "        }}\n",
       "}});\n",
       "\n",
       "// Listen for the removal of the full notebook cells\n",
       "var notebookContainer = gd.closest('#notebook-container');\n",
       "if (notebookContainer) {{\n",
       "    x.observe(notebookContainer, {childList: true});\n",
       "}}\n",
       "\n",
       "// Listen for the clearing of the current output cell\n",
       "var outputEl = gd.closest('.output');\n",
       "if (outputEl) {{\n",
       "    x.observe(outputEl, {childList: true});\n",
       "}}\n",
       "\n",
       "                        })                };                });            </script>        </div>"
      ]
     },
     "metadata": {},
     "output_type": "display_data"
    }
   ],
   "source": [
    "bar(data_frame=df[['Language', 'Global Speakers']].drop_duplicates(ignore_index=True).sort_values(by='Global Speakers').head(n=20), x='Language', y='Global Speakers')"
   ]
  },
  {
   "cell_type": "code",
   "execution_count": 9,
   "id": "5f7096b1",
   "metadata": {
    "execution": {
     "iopub.execute_input": "2023-12-16T16:54:20.544641Z",
     "iopub.status.busy": "2023-12-16T16:54:20.544265Z",
     "iopub.status.idle": "2023-12-16T16:54:20.626782Z",
     "shell.execute_reply": "2023-12-16T16:54:20.625380Z"
    },
    "papermill": {
     "duration": 0.090301,
     "end_time": "2023-12-16T16:54:20.628833",
     "exception": false,
     "start_time": "2023-12-16T16:54:20.538532",
     "status": "completed"
    },
    "tags": []
   },
   "outputs": [
    {
     "data": {
      "text/html": [
       "<div>                            <div id=\"002f2d1e-5832-4b51-84f6-212a4db0dd6f\" class=\"plotly-graph-div\" style=\"height:15000px; width:100%;\"></div>            <script type=\"text/javascript\">                require([\"plotly\"], function(Plotly) {                    window.PLOTLYENV=window.PLOTLYENV || {};                                    if (document.getElementById(\"002f2d1e-5832-4b51-84f6-212a4db0dd6f\")) {                    Plotly.newPlot(                        \"002f2d1e-5832-4b51-84f6-212a4db0dd6f\",                        [{\"hovertemplate\":\"Language Family=%{x}\\u003cbr\\u003eLanguage=%{y}\\u003cextra\\u003e\\u003c\\u002fextra\\u003e\",\"legendgroup\":\"\",\"marker\":{\"color\":\"#636efa\",\"symbol\":\"circle\"},\"mode\":\"markers\",\"name\":\"\",\"orientation\":\"v\",\"showlegend\":false,\"x\":[\"Abkhaz-Adyge\",\"Indo-European\",\"Austronesian\",\"Atlantic-Congo\",\"Abkhaz-Adyge\",\"Atlantic-Congo\",\"Indo-European\",\"Indo-European\",\"Atlantic-Congo\",\"Austronesian\",\"Afro-Asiatic\",\"Indo-European\",\"Sino-Tibetan\",null,\"Afro-Asiatic\",\"Otomanguean\",\"Atlantic-Congo\",\"Indo-European\",\"Indo-European\",\"Sino-Tibetan\",\"Atlantic-Congo\",\"Indo-European\",\"Indo-European\",\"Indo-European\",\"Indo-European\",\"Atlantic-Congo\",\"Indo-European\",\"Afro-Asiatic\",\"Indo-European\",\"Indo-European\",\"Indo-European\",\"Nakh-Daghestanian\",\"Indo-European\",\"Aymaran\",\"Turkic\",\"Atlantic-Congo\",\"Indo-European\",\"Sino-Tibetan\",\"Atlantic-Congo\",\"Austronesian\",\"Indo-European\",\"Indo-European\",\"Sino-Tibetan\",\"Mande\",\"Austronesian\",\"Austronesian\",\"Sino-Tibetan\",\"Atlantic-Congo\",\"Sino-Tibetan\",\"Indo-European\",\"Indo-European\",\"Atlantic-Congo\",\"Basque\",\"Atlantic-Congo\",\"Austronesian\",\"Austronesian\",\"Austronesian\",\"Indo-European\",\"Atlantic-Congo\",\"Indo-European\",\"Indo-European\",\"Atlantic-Congo\",\"Indo-European\",\"Indo-European\",\"Austronesian\",\"Indo-European\",\"Afro-Asiatic\",\"Austronesian\",\"Indo-European\",\"Indo-European\",\"Quechuan\",\"Indo-European\",\"Atlantic-Congo\",\"Austronesian\",\"Indo-European\",\"Indo-European\",\"Indo-European\",\"Chibchan\",\"Indo-European\",\"Austronesian\",\"Indo-European\",\"Indo-European\",\"Turkic\",\"Austronesian\",\"Sino-Tibetan\",\"Sino-Tibetan\",\"Burushaski\",\"Mongolic\",\"Abkhaz-Adyge\",\"Atlantic-Congo\",\"Indo-European\",\"Indo-European\",\"Indo-European\",\"Indo-European\",\"Indo-European\",\"Indo-European\",\"Sino-Tibetan\",\"Indo-European\",\"Indo-European\",\"Indo-European\",\"Indo-European\",\"Austronesian\",\"Indo-European\",\"Austronesian\",\"Afro-Asiatic\",\"Sino-Tibetan\",\"Mongolic\",\"Indo-European\",\"Afro-Asiatic\",\"Sino-Tibetan\",\"Austronesian\",\"Sino-Tibetan\",\"Sino-Tibetan\",\"Sino-Tibetan\",\"Afro-Asiatic\",\"Indo-European\",\"Nakh-Daghestanian\",\"Atlantic-Congo\",\"Iroquoian\",\"Atlantic-Congo\",\"Atlantic-Congo\",\"Indo-European\",\"Otomanguean\",\"Athabaskan-Eyak-Tlingit\",\"Indo-European\",\"Sino-Tibetan\",\"Mayan\",\"Indo-European\",\"Austronesian\",\"Turkic\",\"Indo-European\",\"Afro-Asiatic\",\"Indo-European\",\"Indo-European\",\"Sino-Tibetan\",\"Indo-European\",\"Atlantic-Congo\",\"Afro-Asiatic\",\"Indo-European\",\"Turkic\",\"Indo-European\",\"Indo-European\",\"Otomanguean\",\"Indo-European\",\"Turkic\",\"Indo-European\",\"Atlantic-Congo\",\"Atlantic-Congo\",\"Atlantic-Congo\",\"Indo-European\",\"Indo-European\",\"Afro-Asiatic\",\"Indo-European\",\"Sino-Tibetan\",\"Sino-Tibetan\",\"Indo-European\",\"Nilotic\",\"Sino-Tibetan\",\"Indo-European\",\"Indo-European\",\"Indo-European\",\"Atlantic-Congo\",\"Sino-Tibetan\",\"Indo-European\",\"Mande\",\"Sino-Tibetan\",\"Indo-European\",\"Atlantic-Congo\",\"Indo-European\",\"Quechuan\",\"Indo-European\",\"Atlantic-Congo\",\"Atlantic-Congo\",\"Afro-Asiatic\",\"Afro-Asiatic\",\"Indo-European\",\"Atlantic-Congo\",null,\"Uralic\",\"Atlantic-Congo\",\"Atlantic-Congo\",\"Sino-Tibetan\",\"Atlantic-Congo\",\"Atlantic-Congo\",\"Atlantic-Congo\",\"Austronesian\",\"Uralic\",\"Indo-European\",\"Atlantic-Congo\",\"Atlantic-Congo\",\"Indo-European\",\"Indo-European\",\"Indo-European\",\"Indo-European\",\"Indo-European\",\"Sino-Tibetan\",\"Atlantic-Congo\",\"Furan\",\"Atlantic-Congo\",\"Atlantic-Congo\",\"Indo-European\",\"Indo-European\",\"Sino-Tibetan\",\"Arawakan\",\"Sino-Tibetan\",\"Indo-European\",\"Atlantic-Congo\",\"Kartvelian\",\"Indo-European\",\"Afro-Asiatic\",\"Sino-Tibetan\",\"Indo-European\",\"Atlantic-Congo\",\"Atlantic-Congo\",\"Austronesian\",\"Mande\",\"Atlantic-Congo\",\"Indo-European\",\"Atlantic-Congo\",\"Indo-European\",\"Indo-European\",\"Indo-European\",\"Tupian\",\"Atlantic-Congo\",\"Indo-European\",\"Indo-European\",\"Afro-Asiatic\",\"Indo-European\",\"Atlantic-Congo\",\"Afro-Asiatic\",\"Indo-European\",\"Mande\",\"Sino-Tibetan\",\"Indo-European\",\"Sino-Tibetan\",\"Sino-Tibetan\",\"Indo-European\",\"Indo-European\",\"Sino-Tibetan\",\"Sino-Tibetan\",\"Koreanic\",\"Indo-European\",\"Afro-Asiatic\",\"Afro-Asiatic\",\"Austronesian\",\"Indo-European\",\"Indo-European\",\"Afro-Asiatic\",\"Atlantic-Congo\",\"Indo-European\",\"Hmong-Mien\",\"Sino-Tibetan\",\"Uto-Aztecan\",\"Sino-Tibetan\",\"Uralic\",\"Sino-Tibetan\",\"Austronesian\",\"Austronesian\",\"Atlantic-Congo\",\"Indo-European\",\"Atlantic-Congo\",\"Austronesian\",\"Austronesian\",\"Indo-European\",\"Austronesian\",\"Nakh-Daghestanian\",\"Sino-Tibetan\",\"Eskimo-Aleut\",\"Austronesian\",\"Afro-Asiatic\",\"Afro-Asiatic\",\"Indo-European\",\"Indo-European\",\"Indo-European\",\"Tai-Kadai\",\"Indo-European\",\"Indo-European\",\"Indo-European\",\"Indo-European\",\"Indo-European\",\"Indo-European\",\"Mayan\",\"Dravidian\",\"Indo-European\",\"Japonic\",\"Austronesian\",\"Indo-European\",\"Afro-Asiatic\",\"Indo-European\",\"Afro-Asiatic\",\"Afro-Asiatic\",\"Afro-Asiatic\",\"Indo-European\",\"Atlantic-Congo\",\"Afro-Asiatic\",\"Turkic\",\"Kartvelian\",\"Indo-European\",\"Indo-European\",\"Indo-European\",\"Indo-European\",\"Indo-European\",\"Indo-European\",\"Indo-European\",\"Mayan\",\"Abkhaz-Adyge\",\"Atlantic-Congo\",\"Indo-European\",\"Afro-Asiatic\",\"Sino-Tibetan\",\"Austronesian\",\"Sino-Tibetan\",\"Ijoid\",\"Indo-European\",\"Indo-European\",\"Mongolic\",\"Indo-European\",\"Dravidian\",\"Mayan\",\"Turkic\",\"Turkic\",\"Sino-Tibetan\",\"Austronesian\",\"Indo-European\",\"Mande\",\"Turkic\",\"Sino-Tibetan\",\"Mongolic\",\"Sino-Tibetan\",\"Sino-Tibetan\",\"Austroasiatic\",\"Indo-European\",\"Atlantic-Congo\",\"Atlantic-Congo\",\"Austronesian\",\"Atlantic-Congo\",\"Atlantic-Congo\",\"Atlantic-Congo\",\"Atlantic-Congo\",\"Dravidian\",\"Indo-European\",\"Indo-European\",\"Sino-Tibetan\",\"Mande\",\"Koreanic\",\"Koreanic\",\"Atlantic-Congo\",\"Mande\",\"Mande\",\"Atlantic-Congo\",\"Atlantic-Congo\",\"Sino-Tibetan\",\"Yuman\",\"Chibchan\",\"Mande\",\"Indo-European\",\"Sino-Tibetan\",\"Indo-European\",\"Sino-Tibetan\",\"Turkic\",\"Sino-Tibetan\",\"Sino-Tibetan\",\"Siouan\",\"Atlantic-Congo\",\"Tai-Kadai\",\"Atlantic-Congo\",\"Indo-European\",\"Kartvelian\",\"Indo-European\",\"Algic\",\"Algic\",\"Nakh-Daghestanian\",\"Indo-European\",\"Afro-Asiatic\",\"Afro-Asiatic\",\"Indo-European\",\"Atlantic-Congo\",\"Sino-Tibetan\",\"Sino-Tibetan\",\"Atlantic-Congo\",\"Indo-European\",\"Indo-European\",\"Sino-Tibetan\",\"Mande\",\"Indo-European\",\"Sino-Tibetan\",\"Indo-European\",\"Indo-European\",\"Atlantic-Congo\",\"Atlantic-Congo\",\"Indo-European\",\"Atlantic-Congo\",\"Atlantic-Congo\",\"Salish\",\"Nilotic\",\"Indo-European\",\"Indo-European\",\"Indo-European\",\"Indo-European\",\"Austronesian\",\"Sino-Tibetan\",\"Austronesian\",\"Mande\",\"Indo-European\",\"Austronesian\",\"Austronesian\",\"Austronesian\",\"Dravidian\",\"Afro-Asiatic\",\"Mayan\",\"Austronesian\",\"Austronesian\",\"Sino-Tibetan\",\"Sino-Tibetan\",\"Mande\",\"Mande\",\"Atlantic-Congo\",\"Austronesian\",\"Mande\",\"Mande\",\"Araucanian\",\"Austronesian\",\"Indo-European\",\"Indo-European\",\"Mande\",\"Sino-Tibetan\",\"Austronesian\",\"Indo-European\",\"Indo-European\",\"Maban\",\"Algic\",\"Indo-European\",\"Otomanguean\",\"Indo-European\",\"Otomanguean\",\"Atlantic-Congo\",\"Sino-Tibetan\",\"Indo-European\",\"Mande\",\"Indo-European\",\"Hmong-Mien\",\"Austronesian\",\"Kartvelian\",\"Otomanguean\",\"Otomanguean\",\"Iroquoian\",\"Algic\",\"Cochimi-Yuman\",\"Indo-European\",\"Indo-European\",\"Austroasiatic\",\"Atlantic-Congo\",\"Mongolic\",\"Algic\",\"Indo-European\",\"Indo-European\",\"Afro-Asiatic\",\"Afro-Asiatic\",\"Atlantic-Congo\",\"Austronesian\",\"Sino-Tibetan\",\"Austroasiatic\",\"Atlantic-Congo\",\"Austronesian\",\"Sino-Tibetan\",\"Indo-European\",\"Uto-Aztecan\",\"Sino-Tibetan\",\"Chibchan\",\"Indo-European\",\"Austronesian\",\"Athabaskan-Eyak-Tlingit\",\"Atlantic-Congo\",\"Indo-European\",\"Afro-Asiatic\",\"Indo-European\",\"Indo-European\",\"Sino-Tibetan\",\"Indo-European\",\"Indo-European\",\"Sino-Tibetan\",\"Indo-European\",\"Indo-European\",\"Indo-European\",\"Afro-Asiatic\",\"Sino-Tibetan\",\"Sino-Tibetan\",\"Atlantic-Congo\",\"Tai-Kadai\",\"Indo-European\",\"Nubian\",\"Sino-Tibetan\",\"Nilotic\",\"Indo-European\",\"Indo-European\",\"Algic\",\"Japonic\",\"Afro-Asiatic\",\"Atlantic-Congo\",\"Indo-European\",\"Otomanguean\",\"Tarascan\",\"Sino-Tibetan\",\"Indo-European\",\"Indo-European\",\"Austronesian\",\"Austronesian\",\"Indo-European\",\"Austronesian\",\"Atlantic-Congo\",\"Indo-European\",\"Indo-European\",\"Austronesian\",\"Totonacan\",\"Indo-European\",\"Indo-European\",\"Indo-European\",\"Indo-European\",\"Quechuan\",\"Indo-European\",\"Indo-European\",\"Indo-European\",\"Indo-European\",\"Sino-Tibetan\",\"Indo-European\",\"Indo-European\",\"Mayan\",\"Indo-European\",\"Indo-European\",null,\"Indo-European\",\"Indo-European\",\"Indo-European\",\"Indo-European\",\"Indo-European\",\"Indo-European\",\"Indo-European\",\"Indo-European\",\"Indo-European\",\"Indo-European\",\"Indo-European\",\"Sino-Tibetan\",\"Mayan\",\"Mayan\",\"Indo-European\",\"Algic\",\"Sino-Tibetan\",\"Sino-Tibetan\",\"Indo-European\",\"Indo-European\",\"Indo-European\",\"Indo-European\",\"Indo-European\",\"Indo-European\",\"Indo-European\",\"Indo-European\",\"Indo-European\",\"Uralic\",\"Austronesian\",\"Sino-Tibetan\",\"Indo-European\",\"Atlantic-Congo\",\"Indo-European\",\"Sino-Tibetan\",\"Indo-European\",\"Indo-European\",\"Indo-European\",\"Indo-European\",\"Austronesian\",\"Indo-European\",\"Indo-European\",\"Sino-Tibetan\",\"Sino-Tibetan\",\"Atlantic-Congo\",\"Indo-European\",\"Atlantic-Congo\",\"Indo-European\",\"Tai-Kadai\",\"Sino-Tibetan\",\"Abkhaz-Adyge\",\"Sino-Tibetan\",\"Sino-Tibetan\",\"Indo-European\",\"Algic\",\"Atlantic-Congo\",\"Chicham\",\"Indo-European\",\"Atlantic-Congo\",\"Sino-Tibetan\",\"Indo-European\",\"Indo-European\",\"Totonacan\",\"Indo-European\",\"Indo-European\",\"Indo-European\",\"Indo-European\",\"Afro-Asiatic\",\"Indo-European\",\"Indo-European\",\"Afro-Asiatic\",\"Songhay\",\"Mande\",\"Indo-European\",\"Indo-European\",\"Afro-Asiatic\",\"Indo-European\",\"Indo-European\",\"Indo-European\",\"Indo-European\",\"Austronesian\",\"Dravidian\",\"Indo-European\",\"Indo-European\",\"Indo-European\",\"Afro-Asiatic\",\"Austronesian\",\"Sino-Tibetan\",\"Mande\",\"Kartvelian\",\"Indo-European\",\"Atlantic-Congo\",\"Atlantic-Congo\",\"Indo-European\",\"Indo-European\",\"Indo-European\",\"Afro-Asiatic\",\"Afro-Asiatic\",\"Afro-Asiatic\",\"Austronesian\",\"Sino-Tibetan\",\"Sino-Tibetan\",\"Indo-European\",\"Sino-Tibetan\",\"Dravidian\",\"Indo-European\",\"Sino-Tibetan\",\"Afro-Asiatic\",\"Afro-Asiatic\",\"Turkic\",\"Austronesian\",\"Austronesian\",\"Arawakan\",\"Sino-Tibetan\",\"Dravidian\",\"Atlantic-Congo\",\"Atlantic-Congo\",\"Sino-Tibetan\",\"Totonacan\",\"Austronesian\",\"Tai-Kadai\",\"Sino-Tibetan\",\"Indo-European\",\"Sino-Tibetan\",\"Afro-Asiatic\",\"Afro-Asiatic\",\"Atlantic-Congo\",\"Otomanguean\",\"Indo-European\",\"Indo-European\",\"Sino-Tibetan\",\"Atlantic-Congo\",\"Austronesian\",\"Austronesian\",\"Indo-European\",\"Indo-European\",\"Sino-Tibetan\",\"Otomanguean\",\"Sino-Tibetan\",\"Atlantic-Congo\",\"Afro-Asiatic\",\"Dravidian\",\"Atlantic-Congo\",\"Afro-Asiatic\",\"Afro-Asiatic\",\"Turkic\",\"Turkic\",\"Afro-Asiatic\",\"Indo-European\",\"Turkic\",\"Atlantic-Congo\",\"Mayan\",\"Mayan\",\"Sino-Tibetan\",\"Indo-European\",\"Indo-European\",\"Atlantic-Congo\",\"Algic\",\"Indo-European\",\"Atlantic-Congo\",\"Indo-European\",\"Turkic\",\"Turkic\",\"Mande\",\"Indo-European\",\"Indo-European\",\"Austroasiatic\",\"Indo-European\",\"Indo-European\",\"Turkic\",\"Austroasiatic\",\"Indo-European\",\"Atlantic-Congo\",\"Indo-European\",\"Sino-Tibetan\",\"Austronesian\",\"Indo-European\",\"Sino-Tibetan\",\"Austronesian\",\"Indo-European\",\"Indo-European\",\"Siouan\",\"Atlantic-Congo\",\"Atlantic-Congo\",\"Austronesian\",\"Turkic\",\"Atlantic-Congo\",\"Afro-Asiatic\",\"Afro-Asiatic\",\"Indo-European\",\"Atlantic-Congo\",\"Sino-Tibetan\",\"Otomanguean\",\"Saharan\",\"Otomanguean\",\"Songhay\",\"Indo-European\",\"Indo-European\",\"Atlantic-Congo\",\"Afro-Asiatic\",\"Sino-Tibetan\"],\"xaxis\":\"x\",\"y\":[\"Abaza\",\"Abruzzese\",\"Acehnese\",\"Adjoukrou\",\"Adyghe\",\"Afenmai\",\"African-American English\",\"Afrikaans\",\"Akan\",\"Aklanon\",\"Algerian Arabic\",\"Alsatian\",\"Amdo Tibetan\",\"American Sign Language\",\"Amharic\",\"Amuzgo\",\"Anaang\",\"Ancient Greek\",\"Antigua and Barbuda Creole\",\"Ao\",\"Appolo\",\"Apulo-Lucano\",\"Arbëresh\",\"Argentine Spanish\",\"Aromanian\",\"Ashanti\",\"Assamese\",\"Assyrian Neo-Aramaic\",\"Asturian\",\"Australian English\",\"Austrian German\",\"Avar\",\"Avestan\",\"Aymara\",\"Azeri\",\"Bafut\",\"Bahamian Creole\",\"Bahing\",\"Balanta-Ganja\",\"Balinese\",\"Balkan Romani\",\"Balochi\",\"Balti\",\"Bambara\",\"Banguingui\",\"Banjarese\",\"Bantawa\",\"Baoulé\",\"Baragaun\",\"Barbadian Creole\",\"Bartangi\",\"Basaa\",\"Basque\",\"Bassa\",\"Batak\",\"Batak (Karo)\",\"Batak (Toba)\",\"Bavarian\",\"Baïnounk\",\"Belarusian\",\"Belizean Creole\",\"Bemba\",\"Beneventano\",\"Bengali\",\"Betawi Malay\",\"Bhojpuri\",\"Biblical Hebrew\",\"Bicolano\",\"Bishnupriya Manipuri\",\"Bislama\",\"Bolivian Quechua\",\"Bolivian Spanish\",\"Bomu\",\"Bontoc\",\"Bosnian\",\"Brazilian Portuguese\",\"Breton\",\"Bribri\",\"British English\",\"Buginese\",\"Bukhori\",\"Bulgarian\",\"Bulgarian Turkish\",\"Buli\",\"Bumthang\",\"Burmese\",\"Burushaski\",\"Buryat\",\"Bzedukh\",\"Bété\",\"Calabrese\",\"Calabrese (Gioiosano)\",\"Calabrese (Sanfilese)\",\"Cameroonian Pidgin English\",\"Camfranglais\",\"Canadian English\",\"Cantonese\",\"Cape Verdean Creole\",\"Caribbean Hindustani\",\"Castilian Spanish\",\"Catalan\",\"Cebuano\",\"Central American Spanish\",\"Central Malay\",\"Chadian Arabic\",\"Chak\",\"Chakhar Mongolian\",\"Chakma\",\"Chaldean Neo-Aramaic\",\"Chamling\",\"Chamorro\",\"Changki\",\"Changzhounese\",\"Chantyal\",\"Chaouia\",\"Chavacano\",\"Chechen\",\"Cherepon\",\"Cherokee\",\"Chewa\",\"Chiga\",\"Chilean Spanish\",\"Chinantec\",\"Chiricahua Apache\",\"Chittagonian\",\"Chocha-ngacha\",\"Chuj\",\"Church Slavonic\",\"Chuukese\",\"Chuvash\",\"Cilentano\",\"Classical Arabic\",\"Classical Armenian\",\"Classical Latin\",\"Classical Tibetan\",\"Colombian Spanish\",\"Comorian\",\"Coptic\",\"Cretan Greek\",\"Crimean Tatar\",\"Croatian\",\"Cuban Spanish\",\"Cuicatec\",\"Cypriot Greek\",\"Cypriot Turkish\",\"Czech\",\"Dagaare\",\"Dagbani\",\"Dangme\",\"Danish\",\"Danube Swabian\",\"Darfurian Arabic\",\"Dari\",\"Dawei Burmese\",\"Denjongke\",\"Dhivehi\",\"Dinka\",\"Dolpo\",\"Dominican Creole (English)\",\"Dominican Creole (French)\",\"Dominican Spanish\",\"Duala\",\"Dungan\",\"Dutch\",\"Dyula\",\"Dzongkha\",\"Eastern Armenian\",\"Ebrié\",\"Ecclesiastical Latin\",\"Ecuadorian Kichwa\",\"Ecuadorian Spanish\",\"Edo\",\"Efik\",\"Egyptian Arabic\",\"Egyptian Judeo-Arabic\",\"Emiliano\",\"Esan\",\"Esperanto\",\"Estonian\",\"Ewe\",\"Ewondo\",\"Falam Chin\",\"Fang\",\"Fante\",\"Fe'fe'\",\"Fijian\",\"Finnish\",\"Flemish\",\"Fon\",\"Frafra\",\"Franconian\",\"French\",\"French Guianese Creole\",\"Frisian\",\"Friulian\",\"Fujianese\",\"Fulani\",\"Fur\",\"Ga\",\"Gagnoa Bété\",\"Galician\",\"Gallo-Italic\",\"Gan\",\"Garifuna\",\"Garo\",\"Geg Albanian\",\"Gen-Gbe\",\"Georgian\",\"German\",\"Geʽez\",\"Ghale\",\"Ghanaian English\",\"Ghomala\",\"Gikuyu\",\"Gilbertese\",\"Gio\",\"Gola\",\"Gottscheerisch\",\"Gourmanché\",\"Greek\",\"Grenadian Creole\",\"Guadeloupean Creole\",\"Guarani\",\"Guiberoua Bété\",\"Guinea-Bissau Creole\",\"Gujarati\",\"Gulf Arabic\",\"Gullah\",\"Gun-Gbe\",\"Gurage\",\"Gurjar\",\"Guro\",\"Gurung\",\"Guyanese Creole\",\"Gyalsumdo\",\"Hainanese (Southern Min)\",\"Haitian Creole\",\"Haketia\",\"Hakha Chin\",\"Hakka\",\"Hamgyŏng Korean (Joseonjok)\",\"Hasidic Yiddish\",\"Hassaniya Arabic\",\"Hausa\",\"Hawaiian\",\"Hawaiian English\",\"Hazara\",\"Hebrew\",\"Herero\",\"Hindi\",\"Hmong\",\"Hokkien\",\"Hopi\",\"Hunanese\",\"Hungarian\",\"Hyolmo\",\"Ibaloy\",\"Ibanag\",\"Ibibio\",\"Icelandic\",\"Igbo\",\"Ilocano\",\"Ilonggo\",\"Indian English\",\"Indonesian\",\"Ingush\",\"Intha Burmese\",\"Inuktun\",\"Iranun\",\"Iraqi Arabic\",\"Iraqi Judeo-Arabic\",\"Irish\",\"Irish English\",\"Irpino\",\"Isan\",\"Ishkashimi\",\"Istrioto\",\"Istro-Romanian\",\"Istro-Veneto\",\"Italian\",\"Italian English\",\"Ixil\",\"Iyengar Tamil\",\"Jamaican Patois\",\"Japanese\",\"Javanese\",\"Jersey Dutch\",\"Jewish Babylonian Aramaic\",\"Jewish English\",\"Jewish Neo-Aramaic (Bijar)\",\"Jewish Neo-Aramaic (Sanandaj)\",\"Jewish Neo-Aramaic (Urmia)\",\"Jewish Russian\",\"Jola\",\"Juba Arabic\",\"Judeo-Crimean Tatar\",\"Judeo-Georgian\",\"Judeo-Greek\",\"Judeo-Hamadani\",\"Judeo-Isfahani\",\"Judeo-Kashani\",\"Judeo-Shirazi\",\"Judeo-Spanish\",\"Juhuri\",\"K'iche'\",\"Kabardian\",\"Kabiye\",\"Kabli\",\"Kabyle\",\"Kachin\",\"Kadazan Dusun\",\"Kaike\",\"Kalabari\",\"Kalasha\",\"Kalderash Romani\",\"Kalmyk\",\"Kandhari\",\"Kannada\",\"Kaqchikel\",\"Karachay-Balkar\",\"Karakalpak\",\"Karen\",\"Kariu\",\"Kashmiri\",\"Kassonke\",\"Kazakh\",\"Khaling\",\"Khalkha Mongolian\",\"Kham Magar\",\"Kham Tibetan\",\"Khmer\",\"Khowar\",\"Kikongo\",\"Kimbundu\",\"Kinaray-a\",\"Kinyarwanda\",\"Kirundi\",\"Kissi\",\"Kituba\",\"Kodava\",\"Koine Greek\",\"Konkani\",\"Konyak\",\"Konyanka\",\"Korean\",\"Koryo-Mar\",\"Kota\",\"Koulounkalan\",\"Kpelle\",\"Krahn\",\"Kru\",\"Kulung\",\"Kumeyaay\",\"Kuna\",\"Kuranko\",\"Kurdish\",\"Kurtöp\",\"Kutchi\",\"Kyirong\",\"Kyrgyz\",\"Ladakhi\",\"Lahu\",\"Lakota\",\"Lamnso\",\"Lao\",\"Larteh\",\"Latvian\",\"Lazuri\",\"Lemko\",\"Lenape (Munsee)\",\"Lenape (Unami)\",\"Lezgi\",\"Liberian English\",\"Libyan Arabic\",\"Libyan Judeo-Arabic\",\"Ligurian\",\"Limba\",\"Limbu\",\"Limi\",\"Lingala\",\"Lithuanian\",\"Litvish Yiddish\",\"Loke\",\"Loma\",\"Lombard\",\"Lotha\",\"Lovari Romani\",\"Low German\",\"Luba-Kasai\",\"Luba-Katanga\",\"Lucano\",\"Luganda\",\"Lukumí\",\"Lummi\",\"Luo\",\"Luri\",\"Luxembourgish\",\"Macedonian\",\"Machvaya Romani\",\"Madurese\",\"Magar\",\"Maguindanao\",\"Mahouka\",\"Maithili\",\"Makassarese\",\"Malagasy\",\"Malay\",\"Malayalam\",\"Maltese\",\"Mam\",\"Mamuju\",\"Manado Malay\",\"Manang\",\"Mandarin Chinese\",\"Mandingo\",\"Mandinka\",\"Mandjak\",\"Manggarai\",\"Maninka\",\"Mano\",\"Mapuche\",\"Maranao\",\"Marathi\",\"Marchigiano\",\"Marka\",\"Marma\",\"Marshallese\",\"Martinican Creole\",\"Marwari\",\"Masalit\",\"Matinecock\",\"Mauritian Creole\",\"Mazahua\",\"Mazanderani\",\"Mazatec\",\"Medumba\",\"Meitei\",\"Memoni\",\"Mende\",\"Mexican Spanish\",\"Mien\",\"Minangkabau\",\"Mingrelian\",\"Mixe\",\"Mixtec\",\"Mohawk\",\"Mohican\",\"Mojave\",\"Moldovan\",\"Molisan\",\"Mon\",\"Mongo\",\"Monguor\",\"Montaukett\",\"Montenegrin\",\"Montserrat Creole\",\"Moroccan Arabic\",\"Moroccan Judeo-Arabic\",\"Mossi\",\"Motu\",\"Mugu\",\"Munda\",\"Myene\",\"Māori\",\"Nachhiring\",\"Nagamese\",\"Nahuatl\",\"Nar-Phu\",\"Naso\",\"Native American English\",\"Nauruan\",\"Navajo\",\"Ndebele\",\"Neapolitan\",\"Neo-Mandaic\",\"Nepali\",\"New Zealand English\",\"Newari\",\"Newfoundland English\",\"Nigerian English\",\"Ningbo\",\"Noakhailla\",\"Nones\",\"North Frisian\",\"North Levantine Arabic\",\"Northeastern Mandarin Chinese\",\"Northern Fujianese\",\"Northern Sotho\",\"Northern Thai\",\"Norwegian\",\"Nubian\",\"Nubri\",\"Nuer\",\"Occitan\",\"Odia\",\"Ojibwe\",\"Okinawan\",\"Oromo\",\"Oshiwambo\",\"Ossetian\",\"Otomi\",\"P'urhépecha\",\"Pa'O\",\"Pakistani English\",\"Palatine German\",\"Palauan\",\"Palembang\",\"Pali\",\"Pampangan\",\"Pana\",\"Panamanian English\",\"Panamanian Spanish\",\"Pangasinan\",\"Papantla Totonac\",\"Papiamento\",\"Paraguayan Spanish\",\"Pashto\",\"Persian\",\"Peruvian Quechua\",\"Peruvian Spanish\",\"Philippine English\",\"Piedmontese\",\"Pijin\",\"Pochury\",\"Polish\",\"Pontic Greek\",\"Poqomchi'\",\"Portuguese\",\"Pothwari\",\"Puerto Rican Sign Language\",\"Puerto Rican Spanish\",\"Pugliese (Barese)\",\"Pugliese (Bitettese)\",\"Pugliese (Casamassimese)\",\"Pugliese (Conversanese)\",\"Pugliese (Garganico)\",\"Pugliese (Grumese)\",\"Pugliese (Molese)\",\"Pugliese (Molfettese)\",\"Pugliese (Palese)\",\"Punjabi\",\"Purgi\",\"Q'anjob'al\",\"Q'eqchi'\",\"Quebec French\",\"Quiripi\",\"Rakhine\",\"Ramaluk\",\"Rangpuri\",\"Rashti\",\"Romagnol\",\"Romani\",\"Romanian\",\"Romansh\",\"Rushani\",\"Russian\",\"Rusyn\",\"Sami\",\"Samoan\",\"Sampang\",\"Sandwippa\",\"Sango\",\"Sangsari\",\"Sangtam\",\"Sanskrit\",\"Santali\",\"Saraiki\",\"Saramaccan Creole\",\"Sasak\",\"Scots\",\"Scottish Gaelic\",\"Seke\",\"Sema\",\"Senoufo\",\"Serbian\",\"Serer\",\"Seychellois Creole\",\"Shan\",\"Shanghainese\",\"Shapsug\",\"Sharchop\",\"Sherpa\",\"Shina\",\"Shinnecock\",\"Shona\",\"Shuar\",\"Shughni\",\"Shupamem\",\"Sichuanese\",\"Sicilian\",\"Sierra Leone Creole\",\"Sierra Totonac\",\"Silesian\",\"Sindhi\",\"Singlish\",\"Sinhalese\",\"Siwi\",\"Slovak\",\"Slovenian\",\"Somali\",\"Songhay\",\"Soninke\",\"Sorani Kurdish\",\"South African English\",\"South Levantine Arabic\",\"Southern Lazio\",\"Spanglish\",\"Sranan Tongo\",\"Sri Lankan English\",\"Sri Lankan Malay\",\"Sri Lankan Tamil\",\"St. Kitts Creole\",\"St. Lucian Creole (English)\",\"St. Lucian Creole (French)\",\"Sudanese Arabic\",\"Sundanese\",\"Sunwar\",\"Susu\",\"Svan\",\"Swabian\",\"Swahili\",\"Swati\",\"Swedish\",\"Swiss German\",\"Sylheti\",\"Syriac\",\"Syrian Judeo-Arabic\",\"Syro-Malankara Syriac\",\"Tagalog\",\"Taishanese\",\"Taiwanese\",\"Tajik\",\"Tamang\",\"Tamil\",\"Tanchangya\",\"Tangkhul\",\"Tarifit\",\"Tashelhyt\",\"Tatar\",\"Tausug\",\"Tawala\",\"Taíno\",\"Tedim Chin\",\"Telugu\",\"Tem\",\"Temne\",\"Teochew\",\"Tepehua\",\"Tetum\",\"Thai\",\"Thakali\",\"Tharu\",\"Tibetan\",\"Tigre\",\"Tigrinya\",\"Tiv\",\"Tlapanec\",\"Tobagonian Creole\",\"Tok Pisin\",\"Tokpe Gola\",\"Tonga\",\"Tongan\",\"Tontemboan\",\"Tosk Albanian\",\"Trinidadian Creole\",\"Tripuri\",\"Triqui\",\"Tsum\",\"Tswana\",\"Tuareg\",\"Tulu\",\"Tumbuka\",\"Tunisian Arabic\",\"Tunisian Judeo-Arabic\",\"Turkish\",\"Turkmen\",\"Turoyo Neo-Aramaic\",\"Tuscan\",\"Tuvan\",\"Twi\",\"Tz'utujil\",\"Tzotzil\",\"Tö Tibetan\",\"Ukrainian\",\"Ulster Scots\",\"Umbundu\",\"Unkechaug\",\"Urdu\",\"Urhobo\",\"Uruguayan Spanish\",\"Uyghur\",\"Uzbek\",\"Vai\",\"Venetian\",\"Venezuelan Spanish\",\"Vietnamese\",\"Vincentian Creole\",\"Virgin Islands Creole\",\"Volga Tatar\",\"Wa\",\"Wakhi\",\"Wali\",\"Walloon\",\"Walung\",\"Waray-Waray\",\"Welsh\",\"Wenzhounese\",\"West Ambae\",\"Western Armenian\",\"Western Yiddish\",\"Winnebago\",\"Wolof\",\"Xhosa\",\"Yakan\",\"Yakut\",\"Yemba\",\"Yemeni Arabic\",\"Yemenite Judeo-Arabic\",\"Yiddish\",\"Yoruba\",\"Yunnanese\",\"Zacaptec Mixtec\",\"Zaghawa\",\"Zapotec\",\"Zarma\",\"Zaza\",\"Zoroastrian Dari\",\"Zulu\",\"Zuwara\",\"Ü-Tsang Tibetan\"],\"yaxis\":\"y\",\"type\":\"scatter\"}],                        {\"template\":{\"data\":{\"histogram2dcontour\":[{\"type\":\"histogram2dcontour\",\"colorbar\":{\"outlinewidth\":0,\"ticks\":\"\"},\"colorscale\":[[0.0,\"#0d0887\"],[0.1111111111111111,\"#46039f\"],[0.2222222222222222,\"#7201a8\"],[0.3333333333333333,\"#9c179e\"],[0.4444444444444444,\"#bd3786\"],[0.5555555555555556,\"#d8576b\"],[0.6666666666666666,\"#ed7953\"],[0.7777777777777778,\"#fb9f3a\"],[0.8888888888888888,\"#fdca26\"],[1.0,\"#f0f921\"]]}],\"choropleth\":[{\"type\":\"choropleth\",\"colorbar\":{\"outlinewidth\":0,\"ticks\":\"\"}}],\"histogram2d\":[{\"type\":\"histogram2d\",\"colorbar\":{\"outlinewidth\":0,\"ticks\":\"\"},\"colorscale\":[[0.0,\"#0d0887\"],[0.1111111111111111,\"#46039f\"],[0.2222222222222222,\"#7201a8\"],[0.3333333333333333,\"#9c179e\"],[0.4444444444444444,\"#bd3786\"],[0.5555555555555556,\"#d8576b\"],[0.6666666666666666,\"#ed7953\"],[0.7777777777777778,\"#fb9f3a\"],[0.8888888888888888,\"#fdca26\"],[1.0,\"#f0f921\"]]}],\"heatmap\":[{\"type\":\"heatmap\",\"colorbar\":{\"outlinewidth\":0,\"ticks\":\"\"},\"colorscale\":[[0.0,\"#0d0887\"],[0.1111111111111111,\"#46039f\"],[0.2222222222222222,\"#7201a8\"],[0.3333333333333333,\"#9c179e\"],[0.4444444444444444,\"#bd3786\"],[0.5555555555555556,\"#d8576b\"],[0.6666666666666666,\"#ed7953\"],[0.7777777777777778,\"#fb9f3a\"],[0.8888888888888888,\"#fdca26\"],[1.0,\"#f0f921\"]]}],\"heatmapgl\":[{\"type\":\"heatmapgl\",\"colorbar\":{\"outlinewidth\":0,\"ticks\":\"\"},\"colorscale\":[[0.0,\"#0d0887\"],[0.1111111111111111,\"#46039f\"],[0.2222222222222222,\"#7201a8\"],[0.3333333333333333,\"#9c179e\"],[0.4444444444444444,\"#bd3786\"],[0.5555555555555556,\"#d8576b\"],[0.6666666666666666,\"#ed7953\"],[0.7777777777777778,\"#fb9f3a\"],[0.8888888888888888,\"#fdca26\"],[1.0,\"#f0f921\"]]}],\"contourcarpet\":[{\"type\":\"contourcarpet\",\"colorbar\":{\"outlinewidth\":0,\"ticks\":\"\"}}],\"contour\":[{\"type\":\"contour\",\"colorbar\":{\"outlinewidth\":0,\"ticks\":\"\"},\"colorscale\":[[0.0,\"#0d0887\"],[0.1111111111111111,\"#46039f\"],[0.2222222222222222,\"#7201a8\"],[0.3333333333333333,\"#9c179e\"],[0.4444444444444444,\"#bd3786\"],[0.5555555555555556,\"#d8576b\"],[0.6666666666666666,\"#ed7953\"],[0.7777777777777778,\"#fb9f3a\"],[0.8888888888888888,\"#fdca26\"],[1.0,\"#f0f921\"]]}],\"surface\":[{\"type\":\"surface\",\"colorbar\":{\"outlinewidth\":0,\"ticks\":\"\"},\"colorscale\":[[0.0,\"#0d0887\"],[0.1111111111111111,\"#46039f\"],[0.2222222222222222,\"#7201a8\"],[0.3333333333333333,\"#9c179e\"],[0.4444444444444444,\"#bd3786\"],[0.5555555555555556,\"#d8576b\"],[0.6666666666666666,\"#ed7953\"],[0.7777777777777778,\"#fb9f3a\"],[0.8888888888888888,\"#fdca26\"],[1.0,\"#f0f921\"]]}],\"mesh3d\":[{\"type\":\"mesh3d\",\"colorbar\":{\"outlinewidth\":0,\"ticks\":\"\"}}],\"scatter\":[{\"fillpattern\":{\"fillmode\":\"overlay\",\"size\":10,\"solidity\":0.2},\"type\":\"scatter\"}],\"parcoords\":[{\"type\":\"parcoords\",\"line\":{\"colorbar\":{\"outlinewidth\":0,\"ticks\":\"\"}}}],\"scatterpolargl\":[{\"type\":\"scatterpolargl\",\"marker\":{\"colorbar\":{\"outlinewidth\":0,\"ticks\":\"\"}}}],\"bar\":[{\"error_x\":{\"color\":\"#2a3f5f\"},\"error_y\":{\"color\":\"#2a3f5f\"},\"marker\":{\"line\":{\"color\":\"#E5ECF6\",\"width\":0.5},\"pattern\":{\"fillmode\":\"overlay\",\"size\":10,\"solidity\":0.2}},\"type\":\"bar\"}],\"scattergeo\":[{\"type\":\"scattergeo\",\"marker\":{\"colorbar\":{\"outlinewidth\":0,\"ticks\":\"\"}}}],\"scatterpolar\":[{\"type\":\"scatterpolar\",\"marker\":{\"colorbar\":{\"outlinewidth\":0,\"ticks\":\"\"}}}],\"histogram\":[{\"marker\":{\"pattern\":{\"fillmode\":\"overlay\",\"size\":10,\"solidity\":0.2}},\"type\":\"histogram\"}],\"scattergl\":[{\"type\":\"scattergl\",\"marker\":{\"colorbar\":{\"outlinewidth\":0,\"ticks\":\"\"}}}],\"scatter3d\":[{\"type\":\"scatter3d\",\"line\":{\"colorbar\":{\"outlinewidth\":0,\"ticks\":\"\"}},\"marker\":{\"colorbar\":{\"outlinewidth\":0,\"ticks\":\"\"}}}],\"scattermapbox\":[{\"type\":\"scattermapbox\",\"marker\":{\"colorbar\":{\"outlinewidth\":0,\"ticks\":\"\"}}}],\"scatterternary\":[{\"type\":\"scatterternary\",\"marker\":{\"colorbar\":{\"outlinewidth\":0,\"ticks\":\"\"}}}],\"scattercarpet\":[{\"type\":\"scattercarpet\",\"marker\":{\"colorbar\":{\"outlinewidth\":0,\"ticks\":\"\"}}}],\"carpet\":[{\"aaxis\":{\"endlinecolor\":\"#2a3f5f\",\"gridcolor\":\"white\",\"linecolor\":\"white\",\"minorgridcolor\":\"white\",\"startlinecolor\":\"#2a3f5f\"},\"baxis\":{\"endlinecolor\":\"#2a3f5f\",\"gridcolor\":\"white\",\"linecolor\":\"white\",\"minorgridcolor\":\"white\",\"startlinecolor\":\"#2a3f5f\"},\"type\":\"carpet\"}],\"table\":[{\"cells\":{\"fill\":{\"color\":\"#EBF0F8\"},\"line\":{\"color\":\"white\"}},\"header\":{\"fill\":{\"color\":\"#C8D4E3\"},\"line\":{\"color\":\"white\"}},\"type\":\"table\"}],\"barpolar\":[{\"marker\":{\"line\":{\"color\":\"#E5ECF6\",\"width\":0.5},\"pattern\":{\"fillmode\":\"overlay\",\"size\":10,\"solidity\":0.2}},\"type\":\"barpolar\"}],\"pie\":[{\"automargin\":true,\"type\":\"pie\"}]},\"layout\":{\"autotypenumbers\":\"strict\",\"colorway\":[\"#636efa\",\"#EF553B\",\"#00cc96\",\"#ab63fa\",\"#FFA15A\",\"#19d3f3\",\"#FF6692\",\"#B6E880\",\"#FF97FF\",\"#FECB52\"],\"font\":{\"color\":\"#2a3f5f\"},\"hovermode\":\"closest\",\"hoverlabel\":{\"align\":\"left\"},\"paper_bgcolor\":\"white\",\"plot_bgcolor\":\"#E5ECF6\",\"polar\":{\"bgcolor\":\"#E5ECF6\",\"angularaxis\":{\"gridcolor\":\"white\",\"linecolor\":\"white\",\"ticks\":\"\"},\"radialaxis\":{\"gridcolor\":\"white\",\"linecolor\":\"white\",\"ticks\":\"\"}},\"ternary\":{\"bgcolor\":\"#E5ECF6\",\"aaxis\":{\"gridcolor\":\"white\",\"linecolor\":\"white\",\"ticks\":\"\"},\"baxis\":{\"gridcolor\":\"white\",\"linecolor\":\"white\",\"ticks\":\"\"},\"caxis\":{\"gridcolor\":\"white\",\"linecolor\":\"white\",\"ticks\":\"\"}},\"coloraxis\":{\"colorbar\":{\"outlinewidth\":0,\"ticks\":\"\"}},\"colorscale\":{\"sequential\":[[0.0,\"#0d0887\"],[0.1111111111111111,\"#46039f\"],[0.2222222222222222,\"#7201a8\"],[0.3333333333333333,\"#9c179e\"],[0.4444444444444444,\"#bd3786\"],[0.5555555555555556,\"#d8576b\"],[0.6666666666666666,\"#ed7953\"],[0.7777777777777778,\"#fb9f3a\"],[0.8888888888888888,\"#fdca26\"],[1.0,\"#f0f921\"]],\"sequentialminus\":[[0.0,\"#0d0887\"],[0.1111111111111111,\"#46039f\"],[0.2222222222222222,\"#7201a8\"],[0.3333333333333333,\"#9c179e\"],[0.4444444444444444,\"#bd3786\"],[0.5555555555555556,\"#d8576b\"],[0.6666666666666666,\"#ed7953\"],[0.7777777777777778,\"#fb9f3a\"],[0.8888888888888888,\"#fdca26\"],[1.0,\"#f0f921\"]],\"diverging\":[[0,\"#8e0152\"],[0.1,\"#c51b7d\"],[0.2,\"#de77ae\"],[0.3,\"#f1b6da\"],[0.4,\"#fde0ef\"],[0.5,\"#f7f7f7\"],[0.6,\"#e6f5d0\"],[0.7,\"#b8e186\"],[0.8,\"#7fbc41\"],[0.9,\"#4d9221\"],[1,\"#276419\"]]},\"xaxis\":{\"gridcolor\":\"white\",\"linecolor\":\"white\",\"ticks\":\"\",\"title\":{\"standoff\":15},\"zerolinecolor\":\"white\",\"automargin\":true,\"zerolinewidth\":2},\"yaxis\":{\"gridcolor\":\"white\",\"linecolor\":\"white\",\"ticks\":\"\",\"title\":{\"standoff\":15},\"zerolinecolor\":\"white\",\"automargin\":true,\"zerolinewidth\":2},\"scene\":{\"xaxis\":{\"backgroundcolor\":\"#E5ECF6\",\"gridcolor\":\"white\",\"linecolor\":\"white\",\"showbackground\":true,\"ticks\":\"\",\"zerolinecolor\":\"white\",\"gridwidth\":2},\"yaxis\":{\"backgroundcolor\":\"#E5ECF6\",\"gridcolor\":\"white\",\"linecolor\":\"white\",\"showbackground\":true,\"ticks\":\"\",\"zerolinecolor\":\"white\",\"gridwidth\":2},\"zaxis\":{\"backgroundcolor\":\"#E5ECF6\",\"gridcolor\":\"white\",\"linecolor\":\"white\",\"showbackground\":true,\"ticks\":\"\",\"zerolinecolor\":\"white\",\"gridwidth\":2}},\"shapedefaults\":{\"line\":{\"color\":\"#2a3f5f\"}},\"annotationdefaults\":{\"arrowcolor\":\"#2a3f5f\",\"arrowhead\":0,\"arrowwidth\":1},\"geo\":{\"bgcolor\":\"white\",\"landcolor\":\"#E5ECF6\",\"subunitcolor\":\"white\",\"showland\":true,\"showlakes\":true,\"lakecolor\":\"white\"},\"title\":{\"x\":0.05},\"mapbox\":{\"style\":\"light\"}}},\"xaxis\":{\"anchor\":\"y\",\"domain\":[0.0,1.0],\"title\":{\"text\":\"Language Family\"}},\"yaxis\":{\"anchor\":\"x\",\"domain\":[0.0,1.0],\"title\":{\"text\":\"Language\"}},\"legend\":{\"tracegroupgap\":0},\"margin\":{\"t\":60},\"height\":15000},                        {\"responsive\": true}                    ).then(function(){\n",
       "                            \n",
       "var gd = document.getElementById('002f2d1e-5832-4b51-84f6-212a4db0dd6f');\n",
       "var x = new MutationObserver(function (mutations, observer) {{\n",
       "        var display = window.getComputedStyle(gd).display;\n",
       "        if (!display || display === 'none') {{\n",
       "            console.log([gd, 'removed!']);\n",
       "            Plotly.purge(gd);\n",
       "            observer.disconnect();\n",
       "        }}\n",
       "}});\n",
       "\n",
       "// Listen for the removal of the full notebook cells\n",
       "var notebookContainer = gd.closest('#notebook-container');\n",
       "if (notebookContainer) {{\n",
       "    x.observe(notebookContainer, {childList: true});\n",
       "}}\n",
       "\n",
       "// Listen for the clearing of the current output cell\n",
       "var outputEl = gd.closest('.output');\n",
       "if (outputEl) {{\n",
       "    x.observe(outputEl, {childList: true});\n",
       "}}\n",
       "\n",
       "                        })                };                });            </script>        </div>"
      ]
     },
     "metadata": {},
     "output_type": "display_data"
    }
   ],
   "source": [
    "from plotly.express import scatter\n",
    "scatter(data_frame=df[['Language', 'Language Family', 'Global Speakers']].drop_duplicates(ignore_index=True), \n",
    "       x='Language Family', y='Language', height=15000)"
   ]
  }
 ],
 "metadata": {
  "kaggle": {
   "accelerator": "none",
   "dataSources": [
    {
     "datasetId": 4176054,
     "sourceId": 7216159,
     "sourceType": "datasetVersion"
    }
   ],
   "dockerImageVersionId": 30626,
   "isGpuEnabled": false,
   "isInternetEnabled": true,
   "language": "python",
   "sourceType": "notebook"
  },
  "kernelspec": {
   "display_name": "Python 3",
   "language": "python",
   "name": "python3"
  },
  "language_info": {
   "codemirror_mode": {
    "name": "ipython",
    "version": 3
   },
   "file_extension": ".py",
   "mimetype": "text/x-python",
   "name": "python",
   "nbconvert_exporter": "python",
   "pygments_lexer": "ipython3",
   "version": "3.10.12"
  },
  "papermill": {
   "default_parameters": {},
   "duration": 6.673485,
   "end_time": "2023-12-16T16:54:21.254895",
   "environment_variables": {},
   "exception": null,
   "input_path": "__notebook__.ipynb",
   "output_path": "__notebook__.ipynb",
   "parameters": {},
   "start_time": "2023-12-16T16:54:14.581410",
   "version": "2.4.0"
  }
 },
 "nbformat": 4,
 "nbformat_minor": 5
}
