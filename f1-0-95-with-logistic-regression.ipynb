{
 "cells": [
  {
   "cell_type": "code",
   "execution_count": 1,
   "id": "897c9564",
   "metadata": {
    "_cell_guid": "b1076dfc-b9ad-4769-8c92-a6c4dae69d19",
    "_uuid": "8f2839f25d086af736a60e9eeb907d3b93b6e0e5",
    "execution": {
     "iopub.execute_input": "2025-02-23T00:45:36.843068Z",
     "iopub.status.busy": "2025-02-23T00:45:36.842578Z",
     "iopub.status.idle": "2025-02-23T00:45:37.936903Z",
     "shell.execute_reply": "2025-02-23T00:45:37.935795Z"
    },
    "papermill": {
     "duration": 1.101171,
     "end_time": "2025-02-23T00:45:37.939137",
     "exception": false,
     "start_time": "2025-02-23T00:45:36.837966",
     "status": "completed"
    },
    "tags": []
   },
   "outputs": [
    {
     "data": {
      "text/html": [
       "<div>\n",
       "<style scoped>\n",
       "    .dataframe tbody tr th:only-of-type {\n",
       "        vertical-align: middle;\n",
       "    }\n",
       "\n",
       "    .dataframe tbody tr th {\n",
       "        vertical-align: top;\n",
       "    }\n",
       "\n",
       "    .dataframe thead th {\n",
       "        text-align: right;\n",
       "    }\n",
       "</style>\n",
       "<table border=\"1\" class=\"dataframe\">\n",
       "  <thead>\n",
       "    <tr style=\"text-align: right;\">\n",
       "      <th></th>\n",
       "      <th>Age</th>\n",
       "      <th>BMI</th>\n",
       "      <th>Menstrual_Irregularity</th>\n",
       "      <th>Testosterone_Level(ng/dL)</th>\n",
       "      <th>Antral_Follicle_Count</th>\n",
       "      <th>PCOS_Diagnosis</th>\n",
       "      <th>PCOS</th>\n",
       "    </tr>\n",
       "  </thead>\n",
       "  <tbody>\n",
       "    <tr>\n",
       "      <th>0</th>\n",
       "      <td>24</td>\n",
       "      <td>34.7</td>\n",
       "      <td>1</td>\n",
       "      <td>25.2</td>\n",
       "      <td>20</td>\n",
       "      <td>0</td>\n",
       "      <td>False</td>\n",
       "    </tr>\n",
       "    <tr>\n",
       "      <th>1</th>\n",
       "      <td>37</td>\n",
       "      <td>26.4</td>\n",
       "      <td>0</td>\n",
       "      <td>57.1</td>\n",
       "      <td>25</td>\n",
       "      <td>0</td>\n",
       "      <td>False</td>\n",
       "    </tr>\n",
       "    <tr>\n",
       "      <th>2</th>\n",
       "      <td>32</td>\n",
       "      <td>23.6</td>\n",
       "      <td>0</td>\n",
       "      <td>92.7</td>\n",
       "      <td>28</td>\n",
       "      <td>0</td>\n",
       "      <td>False</td>\n",
       "    </tr>\n",
       "    <tr>\n",
       "      <th>3</th>\n",
       "      <td>28</td>\n",
       "      <td>28.8</td>\n",
       "      <td>0</td>\n",
       "      <td>63.1</td>\n",
       "      <td>26</td>\n",
       "      <td>0</td>\n",
       "      <td>False</td>\n",
       "    </tr>\n",
       "    <tr>\n",
       "      <th>4</th>\n",
       "      <td>25</td>\n",
       "      <td>22.1</td>\n",
       "      <td>1</td>\n",
       "      <td>59.8</td>\n",
       "      <td>8</td>\n",
       "      <td>0</td>\n",
       "      <td>False</td>\n",
       "    </tr>\n",
       "  </tbody>\n",
       "</table>\n",
       "</div>"
      ],
      "text/plain": [
       "   Age   BMI  Menstrual_Irregularity  Testosterone_Level(ng/dL)  \\\n",
       "0   24  34.7                       1                       25.2   \n",
       "1   37  26.4                       0                       57.1   \n",
       "2   32  23.6                       0                       92.7   \n",
       "3   28  28.8                       0                       63.1   \n",
       "4   25  22.1                       1                       59.8   \n",
       "\n",
       "   Antral_Follicle_Count  PCOS_Diagnosis   PCOS  \n",
       "0                     20               0  False  \n",
       "1                     25               0  False  \n",
       "2                     28               0  False  \n",
       "3                     26               0  False  \n",
       "4                      8               0  False  "
      ]
     },
     "execution_count": 1,
     "metadata": {},
     "output_type": "execute_result"
    }
   ],
   "source": [
    "import pandas as pd\n",
    "\n",
    "DATA = '/kaggle/input/pcos-diagnosis-dataset/pcos_dataset.csv'\n",
    "df = pd.read_csv(filepath_or_buffer=DATA)\n",
    "df['PCOS'] = df['PCOS_Diagnosis'] == 1\n",
    "df.head()"
   ]
  },
  {
   "cell_type": "code",
   "execution_count": 2,
   "id": "b2001717",
   "metadata": {
    "execution": {
     "iopub.execute_input": "2025-02-23T00:45:37.951332Z",
     "iopub.status.busy": "2025-02-23T00:45:37.950962Z",
     "iopub.status.idle": "2025-02-23T00:45:37.977746Z",
     "shell.execute_reply": "2025-02-23T00:45:37.976401Z"
    },
    "papermill": {
     "duration": 0.034995,
     "end_time": "2025-02-23T00:45:37.979868",
     "exception": false,
     "start_time": "2025-02-23T00:45:37.944873",
     "status": "completed"
    },
    "tags": []
   },
   "outputs": [
    {
     "name": "stdout",
     "output_type": "stream",
     "text": [
      "<class 'pandas.core.frame.DataFrame'>\n",
      "RangeIndex: 1000 entries, 0 to 999\n",
      "Data columns (total 7 columns):\n",
      " #   Column                     Non-Null Count  Dtype  \n",
      "---  ------                     --------------  -----  \n",
      " 0   Age                        1000 non-null   int64  \n",
      " 1   BMI                        1000 non-null   float64\n",
      " 2   Menstrual_Irregularity     1000 non-null   int64  \n",
      " 3   Testosterone_Level(ng/dL)  1000 non-null   float64\n",
      " 4   Antral_Follicle_Count      1000 non-null   int64  \n",
      " 5   PCOS_Diagnosis             1000 non-null   int64  \n",
      " 6   PCOS                       1000 non-null   bool   \n",
      "dtypes: bool(1), float64(2), int64(4)\n",
      "memory usage: 48.0 KB\n"
     ]
    }
   ],
   "source": [
    "df.info()"
   ]
  },
  {
   "cell_type": "markdown",
   "id": "1635173e",
   "metadata": {
    "papermill": {
     "duration": 0.004917,
     "end_time": "2025-02-23T00:45:37.990369",
     "exception": false,
     "start_time": "2025-02-23T00:45:37.985452",
     "status": "completed"
    },
    "tags": []
   },
   "source": [
    "We have exactly 1000 rows and our data is all numerical. Any chance this is synthetic data? Let's find out."
   ]
  },
  {
   "cell_type": "code",
   "execution_count": 3,
   "id": "53b18ebe",
   "metadata": {
    "execution": {
     "iopub.execute_input": "2025-02-23T00:45:37.998895Z",
     "iopub.status.busy": "2025-02-23T00:45:37.998384Z",
     "iopub.status.idle": "2025-02-23T00:45:44.939834Z",
     "shell.execute_reply": "2025-02-23T00:45:44.938818Z"
    },
    "papermill": {
     "duration": 6.947987,
     "end_time": "2025-02-23T00:45:44.942027",
     "exception": false,
     "start_time": "2025-02-23T00:45:37.994040",
     "status": "completed"
    },
    "tags": []
   },
   "outputs": [],
   "source": [
    "from sklearn.manifold import TSNE\n",
    "\n",
    "COLUMNS = ['Age', 'BMI', 'Menstrual_Irregularity', 'Testosterone_Level(ng/dL)', 'Antral_Follicle_Count',]\n",
    "TARGET = 'PCOS'\n",
    "RANDOM_STATE = 2025\n",
    "reducer = TSNE(random_state=RANDOM_STATE)\n",
    "tsne_df = pd.DataFrame(columns=['x', 'y'], data=reducer.fit_transform(X=df[COLUMNS]))\n",
    "tsne_df[TARGET] = df[TARGET].to_list()"
   ]
  },
  {
   "cell_type": "code",
   "execution_count": 4,
   "id": "100d6d3e",
   "metadata": {
    "execution": {
     "iopub.execute_input": "2025-02-23T00:45:44.951316Z",
     "iopub.status.busy": "2025-02-23T00:45:44.950748Z",
     "iopub.status.idle": "2025-02-23T00:45:48.322074Z",
     "shell.execute_reply": "2025-02-23T00:45:48.320965Z"
    },
    "papermill": {
     "duration": 3.378012,
     "end_time": "2025-02-23T00:45:48.324081",
     "exception": false,
     "start_time": "2025-02-23T00:45:44.946069",
     "status": "completed"
    },
    "tags": []
   },
   "outputs": [
    {
     "data": {
      "text/html": [
       "<iframe\n",
       "    scrolling=\"no\"\n",
       "    width=\"100%\"\n",
       "    height=\"545px\"\n",
       "    src=\"iframe_figures/figure_4.html\"\n",
       "    frameborder=\"0\"\n",
       "    allowfullscreen\n",
       "></iframe>\n"
      ]
     },
     "metadata": {},
     "output_type": "display_data"
    }
   ],
   "source": [
    "from plotly import express\n",
    "from plotly import io\n",
    "\n",
    "io.renderers.default = 'iframe'\n",
    "express.scatter(data_frame=tsne_df, x='x', y='y', color=TARGET)"
   ]
  },
  {
   "cell_type": "markdown",
   "id": "1933b7f7",
   "metadata": {
    "papermill": {
     "duration": 0.003021,
     "end_time": "2025-02-23T00:45:48.330517",
     "exception": false,
     "start_time": "2025-02-23T00:45:48.327496",
     "status": "completed"
    },
    "tags": []
   },
   "source": [
    "We do see some local clustering, so maybe there's a signal in our data. Let's build a model and see what happens."
   ]
  },
  {
   "cell_type": "code",
   "execution_count": 5,
   "id": "9a57f78d",
   "metadata": {
    "execution": {
     "iopub.execute_input": "2025-02-23T00:45:48.338376Z",
     "iopub.status.busy": "2025-02-23T00:45:48.337966Z",
     "iopub.status.idle": "2025-02-23T00:45:48.349351Z",
     "shell.execute_reply": "2025-02-23T00:45:48.348037Z"
    },
    "papermill": {
     "duration": 0.017997,
     "end_time": "2025-02-23T00:45:48.351729",
     "exception": false,
     "start_time": "2025-02-23T00:45:48.333732",
     "status": "completed"
    },
    "tags": []
   },
   "outputs": [
    {
     "data": {
      "text/plain": [
       "{False: 801, True: 199}"
      ]
     },
     "execution_count": 5,
     "metadata": {},
     "output_type": "execute_result"
    }
   ],
   "source": [
    "df[TARGET].value_counts().to_dict()"
   ]
  },
  {
   "cell_type": "markdown",
   "id": "bb3e28e9",
   "metadata": {
    "papermill": {
     "duration": 0.003666,
     "end_time": "2025-02-23T00:45:48.359330",
     "exception": false,
     "start_time": "2025-02-23T00:45:48.355664",
     "status": "completed"
    },
    "tags": []
   },
   "source": [
    "Our classes are unbalanced, so let's use a sample to balance them."
   ]
  },
  {
   "cell_type": "code",
   "execution_count": 6,
   "id": "9210f056",
   "metadata": {
    "execution": {
     "iopub.execute_input": "2025-02-23T00:45:48.368110Z",
     "iopub.status.busy": "2025-02-23T00:45:48.367607Z",
     "iopub.status.idle": "2025-02-23T00:45:48.379550Z",
     "shell.execute_reply": "2025-02-23T00:45:48.378256Z"
    },
    "papermill": {
     "duration": 0.018693,
     "end_time": "2025-02-23T00:45:48.381676",
     "exception": false,
     "start_time": "2025-02-23T00:45:48.362983",
     "status": "completed"
    },
    "tags": []
   },
   "outputs": [
    {
     "data": {
      "text/plain": [
       "(399, 7)"
      ]
     },
     "execution_count": 6,
     "metadata": {},
     "output_type": "execute_result"
    }
   ],
   "source": [
    "sample_df = pd.concat(axis='index', objs=[df[df[TARGET] == True], df[df[TARGET]== False].sample(n=200, random_state=RANDOM_STATE)])\n",
    "sample_df.shape"
   ]
  },
  {
   "cell_type": "code",
   "execution_count": 7,
   "id": "c393c78b",
   "metadata": {
    "execution": {
     "iopub.execute_input": "2025-02-23T00:45:48.390446Z",
     "iopub.status.busy": "2025-02-23T00:45:48.390027Z",
     "iopub.status.idle": "2025-02-23T00:45:48.443491Z",
     "shell.execute_reply": "2025-02-23T00:45:48.442182Z"
    },
    "papermill": {
     "duration": 0.059969,
     "end_time": "2025-02-23T00:45:48.445483",
     "exception": false,
     "start_time": "2025-02-23T00:45:48.385514",
     "status": "completed"
    },
    "tags": []
   },
   "outputs": [
    {
     "name": "stdout",
     "output_type": "stream",
     "text": [
      "model fit in 43 iterations\n",
      "accuracy: 0.9500\n",
      "f1: 0.9500\n",
      "              precision    recall  f1-score   support\n",
      "\n",
      "       False       0.95      0.95      0.95        40\n",
      "        True       0.95      0.95      0.95        40\n",
      "\n",
      "    accuracy                           0.95        80\n",
      "   macro avg       0.95      0.95      0.95        80\n",
      "weighted avg       0.95      0.95      0.95        80\n",
      "\n"
     ]
    }
   ],
   "source": [
    "from sklearn.linear_model import LogisticRegression\n",
    "from sklearn.metrics import accuracy_score\n",
    "from sklearn.metrics import classification_report\n",
    "from sklearn.metrics import f1_score\n",
    "from sklearn.model_selection import train_test_split\n",
    "\n",
    "X_train, X_test, y_train, y_test = train_test_split(sample_df[COLUMNS], sample_df[TARGET], test_size=0.2, random_state=2024, stratify=sample_df[TARGET])\n",
    "logreg = LogisticRegression(max_iter=1000, tol=1e-12).fit(X_train, y_train)\n",
    "print('model fit in {} iterations'.format(logreg.n_iter_[0]))\n",
    "print('accuracy: {:5.4f}'.format(accuracy_score(y_true=y_test, y_pred=logreg.predict(X=X_test))))\n",
    "print('f1: {:5.4f}'.format(f1_score(average='weighted', y_true=y_test, y_pred=logreg.predict(X=X_test))))\n",
    "print(classification_report(y_true=y_test, y_pred=logreg.predict(X=X_test)))"
   ]
  }
 ],
 "metadata": {
  "kaggle": {
   "accelerator": "none",
   "dataSources": [
    {
     "datasetId": 6702154,
     "sourceId": 10798632,
     "sourceType": "datasetVersion"
    }
   ],
   "dockerImageVersionId": 30918,
   "isGpuEnabled": false,
   "isInternetEnabled": true,
   "language": "python",
   "sourceType": "notebook"
  },
  "kernelspec": {
   "display_name": "Python 3",
   "language": "python",
   "name": "python3"
  },
  "language_info": {
   "codemirror_mode": {
    "name": "ipython",
    "version": 3
   },
   "file_extension": ".py",
   "mimetype": "text/x-python",
   "name": "python",
   "nbconvert_exporter": "python",
   "pygments_lexer": "ipython3",
   "version": "3.10.12"
  },
  "papermill": {
   "default_parameters": {},
   "duration": 15.400492,
   "end_time": "2025-02-23T00:45:49.371768",
   "environment_variables": {},
   "exception": null,
   "input_path": "__notebook__.ipynb",
   "output_path": "__notebook__.ipynb",
   "parameters": {},
   "start_time": "2025-02-23T00:45:33.971276",
   "version": "2.6.0"
  }
 },
 "nbformat": 4,
 "nbformat_minor": 5
}
