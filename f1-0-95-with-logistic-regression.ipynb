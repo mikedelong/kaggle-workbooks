{
 "cells": [
  {
   "cell_type": "markdown",
   "id": "c347b75a",
   "metadata": {
    "papermill": {
     "duration": 0.002261,
     "end_time": "2025-02-23T00:50:20.654725",
     "exception": false,
     "start_time": "2025-02-23T00:50:20.652464",
     "status": "completed"
    },
    "tags": []
   },
   "source": [
    "Let's load up our data and do a little feature engineering. We will get nicer plots if our target variable is binary, so let's convert it."
   ]
  },
  {
   "cell_type": "code",
   "execution_count": 1,
   "id": "672b5e97",
   "metadata": {
    "_cell_guid": "b1076dfc-b9ad-4769-8c92-a6c4dae69d19",
    "_uuid": "8f2839f25d086af736a60e9eeb907d3b93b6e0e5",
    "execution": {
     "iopub.execute_input": "2025-02-23T00:50:20.659488Z",
     "iopub.status.busy": "2025-02-23T00:50:20.659231Z",
     "iopub.status.idle": "2025-02-23T00:50:21.328325Z",
     "shell.execute_reply": "2025-02-23T00:50:21.327676Z"
    },
    "papermill": {
     "duration": 0.672817,
     "end_time": "2025-02-23T00:50:21.329513",
     "exception": false,
     "start_time": "2025-02-23T00:50:20.656696",
     "status": "completed"
    },
    "tags": []
   },
   "outputs": [
    {
     "data": {
      "text/html": [
       "<div>\n",
       "<style scoped>\n",
       "    .dataframe tbody tr th:only-of-type {\n",
       "        vertical-align: middle;\n",
       "    }\n",
       "\n",
       "    .dataframe tbody tr th {\n",
       "        vertical-align: top;\n",
       "    }\n",
       "\n",
       "    .dataframe thead th {\n",
       "        text-align: right;\n",
       "    }\n",
       "</style>\n",
       "<table border=\"1\" class=\"dataframe\">\n",
       "  <thead>\n",
       "    <tr style=\"text-align: right;\">\n",
       "      <th></th>\n",
       "      <th>Age</th>\n",
       "      <th>BMI</th>\n",
       "      <th>Menstrual_Irregularity</th>\n",
       "      <th>Testosterone_Level(ng/dL)</th>\n",
       "      <th>Antral_Follicle_Count</th>\n",
       "      <th>PCOS_Diagnosis</th>\n",
       "      <th>PCOS</th>\n",
       "    </tr>\n",
       "  </thead>\n",
       "  <tbody>\n",
       "    <tr>\n",
       "      <th>0</th>\n",
       "      <td>24</td>\n",
       "      <td>34.7</td>\n",
       "      <td>1</td>\n",
       "      <td>25.2</td>\n",
       "      <td>20</td>\n",
       "      <td>0</td>\n",
       "      <td>False</td>\n",
       "    </tr>\n",
       "    <tr>\n",
       "      <th>1</th>\n",
       "      <td>37</td>\n",
       "      <td>26.4</td>\n",
       "      <td>0</td>\n",
       "      <td>57.1</td>\n",
       "      <td>25</td>\n",
       "      <td>0</td>\n",
       "      <td>False</td>\n",
       "    </tr>\n",
       "    <tr>\n",
       "      <th>2</th>\n",
       "      <td>32</td>\n",
       "      <td>23.6</td>\n",
       "      <td>0</td>\n",
       "      <td>92.7</td>\n",
       "      <td>28</td>\n",
       "      <td>0</td>\n",
       "      <td>False</td>\n",
       "    </tr>\n",
       "    <tr>\n",
       "      <th>3</th>\n",
       "      <td>28</td>\n",
       "      <td>28.8</td>\n",
       "      <td>0</td>\n",
       "      <td>63.1</td>\n",
       "      <td>26</td>\n",
       "      <td>0</td>\n",
       "      <td>False</td>\n",
       "    </tr>\n",
       "    <tr>\n",
       "      <th>4</th>\n",
       "      <td>25</td>\n",
       "      <td>22.1</td>\n",
       "      <td>1</td>\n",
       "      <td>59.8</td>\n",
       "      <td>8</td>\n",
       "      <td>0</td>\n",
       "      <td>False</td>\n",
       "    </tr>\n",
       "  </tbody>\n",
       "</table>\n",
       "</div>"
      ],
      "text/plain": [
       "   Age   BMI  Menstrual_Irregularity  Testosterone_Level(ng/dL)  \\\n",
       "0   24  34.7                       1                       25.2   \n",
       "1   37  26.4                       0                       57.1   \n",
       "2   32  23.6                       0                       92.7   \n",
       "3   28  28.8                       0                       63.1   \n",
       "4   25  22.1                       1                       59.8   \n",
       "\n",
       "   Antral_Follicle_Count  PCOS_Diagnosis   PCOS  \n",
       "0                     20               0  False  \n",
       "1                     25               0  False  \n",
       "2                     28               0  False  \n",
       "3                     26               0  False  \n",
       "4                      8               0  False  "
      ]
     },
     "execution_count": 1,
     "metadata": {},
     "output_type": "execute_result"
    }
   ],
   "source": [
    "import pandas as pd\n",
    "\n",
    "DATA = '/kaggle/input/pcos-diagnosis-dataset/pcos_dataset.csv'\n",
    "df = pd.read_csv(filepath_or_buffer=DATA)\n",
    "df['PCOS'] = df['PCOS_Diagnosis'] == 1\n",
    "df.head()"
   ]
  },
  {
   "cell_type": "markdown",
   "id": "02e02581",
   "metadata": {
    "papermill": {
     "duration": 0.001753,
     "end_time": "2025-02-23T00:50:21.333452",
     "exception": false,
     "start_time": "2025-02-23T00:50:21.331699",
     "status": "completed"
    },
    "tags": []
   },
   "source": [
    "Let's use dimensionality reduction to build a scatter plot to see if there's a signal in our data."
   ]
  },
  {
   "cell_type": "code",
   "execution_count": 2,
   "id": "b2019f28",
   "metadata": {
    "execution": {
     "iopub.execute_input": "2025-02-23T00:50:21.337958Z",
     "iopub.status.busy": "2025-02-23T00:50:21.337739Z",
     "iopub.status.idle": "2025-02-23T00:50:27.310152Z",
     "shell.execute_reply": "2025-02-23T00:50:27.309546Z"
    },
    "papermill": {
     "duration": 5.975896,
     "end_time": "2025-02-23T00:50:27.311293",
     "exception": false,
     "start_time": "2025-02-23T00:50:21.335397",
     "status": "completed"
    },
    "tags": []
   },
   "outputs": [
    {
     "data": {
      "text/html": [
       "<iframe\n",
       "    scrolling=\"no\"\n",
       "    width=\"100%\"\n",
       "    height=\"545px\"\n",
       "    src=\"iframe_figures/figure_2.html\"\n",
       "    frameborder=\"0\"\n",
       "    allowfullscreen\n",
       "></iframe>\n"
      ]
     },
     "metadata": {},
     "output_type": "display_data"
    }
   ],
   "source": [
    "from plotly import express\n",
    "from plotly import io\n",
    "from sklearn.manifold import TSNE\n",
    "\n",
    "COLUMNS = ['Age', 'BMI', 'Menstrual_Irregularity', 'Testosterone_Level(ng/dL)', 'Antral_Follicle_Count',]\n",
    "TARGET = 'PCOS'\n",
    "RANDOM_STATE = 2025\n",
    "reducer = TSNE(random_state=RANDOM_STATE)\n",
    "tsne_df = pd.DataFrame(columns=['x', 'y'], data=reducer.fit_transform(X=df[COLUMNS]))\n",
    "tsne_df[TARGET] = df[TARGET].to_list()\n",
    "\n",
    "io.renderers.default = 'iframe'\n",
    "express.scatter(data_frame=tsne_df, x='x', y='y', color=TARGET)"
   ]
  },
  {
   "cell_type": "markdown",
   "id": "d0d32baf",
   "metadata": {
    "papermill": {
     "duration": 0.001808,
     "end_time": "2025-02-23T00:50:27.315392",
     "exception": false,
     "start_time": "2025-02-23T00:50:27.313584",
     "status": "completed"
    },
    "tags": []
   },
   "source": [
    "We do see some local clustering, so maybe there's a signal in our data. Let's build a model and see what happens. But first, is our target variable balanced?"
   ]
  },
  {
   "cell_type": "code",
   "execution_count": 3,
   "id": "f630e50e",
   "metadata": {
    "execution": {
     "iopub.execute_input": "2025-02-23T00:50:27.319932Z",
     "iopub.status.busy": "2025-02-23T00:50:27.319726Z",
     "iopub.status.idle": "2025-02-23T00:50:27.326849Z",
     "shell.execute_reply": "2025-02-23T00:50:27.326201Z"
    },
    "papermill": {
     "duration": 0.010661,
     "end_time": "2025-02-23T00:50:27.327961",
     "exception": false,
     "start_time": "2025-02-23T00:50:27.317300",
     "status": "completed"
    },
    "tags": []
   },
   "outputs": [
    {
     "data": {
      "text/plain": [
       "{False: 801, True: 199}"
      ]
     },
     "execution_count": 3,
     "metadata": {},
     "output_type": "execute_result"
    }
   ],
   "source": [
    "df[TARGET].value_counts().to_dict()"
   ]
  },
  {
   "cell_type": "markdown",
   "id": "f904db55",
   "metadata": {
    "papermill": {
     "duration": 0.001847,
     "end_time": "2025-02-23T00:50:27.332054",
     "exception": false,
     "start_time": "2025-02-23T00:50:27.330207",
     "status": "completed"
    },
    "tags": []
   },
   "source": [
    "Our classes are unbalanced, so let's use a sample to balance them."
   ]
  },
  {
   "cell_type": "code",
   "execution_count": 4,
   "id": "ab47449a",
   "metadata": {
    "execution": {
     "iopub.execute_input": "2025-02-23T00:50:27.336916Z",
     "iopub.status.busy": "2025-02-23T00:50:27.336696Z",
     "iopub.status.idle": "2025-02-23T00:50:27.343303Z",
     "shell.execute_reply": "2025-02-23T00:50:27.342764Z"
    },
    "papermill": {
     "duration": 0.010239,
     "end_time": "2025-02-23T00:50:27.344348",
     "exception": false,
     "start_time": "2025-02-23T00:50:27.334109",
     "status": "completed"
    },
    "tags": []
   },
   "outputs": [
    {
     "data": {
      "text/plain": [
       "(399, 7)"
      ]
     },
     "execution_count": 4,
     "metadata": {},
     "output_type": "execute_result"
    }
   ],
   "source": [
    "sample_df = pd.concat(axis='index', objs=[df[df[TARGET] == True], df[df[TARGET]== False].sample(n=200, random_state=RANDOM_STATE)])\n",
    "sample_df.shape"
   ]
  },
  {
   "cell_type": "markdown",
   "id": "db98a3a5",
   "metadata": {
    "papermill": {
     "duration": 0.001959,
     "end_time": "2025-02-23T00:50:27.348675",
     "exception": false,
     "start_time": "2025-02-23T00:50:27.346716",
     "status": "completed"
    },
    "tags": []
   },
   "source": [
    "We're going to just take a sample of the variable we're not interested in, in the hope of training a model that will focus more on the minority class, which we are interested in."
   ]
  },
  {
   "cell_type": "code",
   "execution_count": 5,
   "id": "d8dc68da",
   "metadata": {
    "execution": {
     "iopub.execute_input": "2025-02-23T00:50:27.353447Z",
     "iopub.status.busy": "2025-02-23T00:50:27.353244Z",
     "iopub.status.idle": "2025-02-23T00:50:27.385608Z",
     "shell.execute_reply": "2025-02-23T00:50:27.384776Z"
    },
    "papermill": {
     "duration": 0.035959,
     "end_time": "2025-02-23T00:50:27.386682",
     "exception": false,
     "start_time": "2025-02-23T00:50:27.350723",
     "status": "completed"
    },
    "tags": []
   },
   "outputs": [
    {
     "name": "stdout",
     "output_type": "stream",
     "text": [
      "model fit in 43 iterations\n",
      "accuracy: 0.9500\n",
      "f1: 0.9500\n",
      "              precision    recall  f1-score   support\n",
      "\n",
      "       False       0.95      0.95      0.95        40\n",
      "        True       0.95      0.95      0.95        40\n",
      "\n",
      "    accuracy                           0.95        80\n",
      "   macro avg       0.95      0.95      0.95        80\n",
      "weighted avg       0.95      0.95      0.95        80\n",
      "\n"
     ]
    }
   ],
   "source": [
    "from sklearn.linear_model import LogisticRegression\n",
    "from sklearn.metrics import accuracy_score\n",
    "from sklearn.metrics import classification_report\n",
    "from sklearn.metrics import f1_score\n",
    "from sklearn.model_selection import train_test_split\n",
    "\n",
    "X_train, X_test, y_train, y_test = train_test_split(sample_df[COLUMNS], sample_df[TARGET], test_size=0.2, random_state=2024, stratify=sample_df[TARGET])\n",
    "logreg = LogisticRegression(max_iter=100, tol=1e-12).fit(X_train, y_train)\n",
    "print('model fit in {} iterations'.format(logreg.n_iter_[0]))\n",
    "print('accuracy: {:5.4f}'.format(accuracy_score(y_true=y_test, y_pred=logreg.predict(X=X_test))))\n",
    "print('f1: {:5.4f}'.format(f1_score(average='weighted', y_true=y_test, y_pred=logreg.predict(X=X_test))))\n",
    "print(classification_report(y_true=y_test, y_pred=logreg.predict(X=X_test)))"
   ]
  },
  {
   "cell_type": "markdown",
   "id": "b810b829",
   "metadata": {
    "papermill": {
     "duration": 0.002098,
     "end_time": "2025-02-23T00:50:27.391354",
     "exception": false,
     "start_time": "2025-02-23T00:50:27.389256",
     "status": "completed"
    },
    "tags": []
   },
   "source": [
    "F1 = 0.95 isn't bad."
   ]
  }
 ],
 "metadata": {
  "kaggle": {
   "accelerator": "none",
   "dataSources": [
    {
     "datasetId": 6702154,
     "sourceId": 10798632,
     "sourceType": "datasetVersion"
    }
   ],
   "dockerImageVersionId": 30918,
   "isGpuEnabled": false,
   "isInternetEnabled": true,
   "language": "python",
   "sourceType": "notebook"
  },
  "kernelspec": {
   "display_name": "Python 3",
   "language": "python",
   "name": "python3"
  },
  "language_info": {
   "codemirror_mode": {
    "name": "ipython",
    "version": 3
   },
   "file_extension": ".py",
   "mimetype": "text/x-python",
   "name": "python",
   "nbconvert_exporter": "python",
   "pygments_lexer": "ipython3",
   "version": "3.10.12"
  },
  "papermill": {
   "default_parameters": {},
   "duration": 9.300737,
   "end_time": "2025-02-23T00:50:28.012081",
   "environment_variables": {},
   "exception": null,
   "input_path": "__notebook__.ipynb",
   "output_path": "__notebook__.ipynb",
   "parameters": {},
   "start_time": "2025-02-23T00:50:18.711344",
   "version": "2.6.0"
  }
 },
 "nbformat": 4,
 "nbformat_minor": 5
}
