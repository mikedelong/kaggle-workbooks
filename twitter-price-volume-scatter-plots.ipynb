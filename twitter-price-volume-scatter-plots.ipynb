{
 "cells": [
  {
   "cell_type": "code",
   "execution_count": 1,
   "id": "d6802462",
   "metadata": {
    "_cell_guid": "b1076dfc-b9ad-4769-8c92-a6c4dae69d19",
    "_uuid": "8f2839f25d086af736a60e9eeb907d3b93b6e0e5",
    "execution": {
     "iopub.execute_input": "2025-03-07T18:44:04.651390Z",
     "iopub.status.busy": "2025-03-07T18:44:04.651035Z",
     "iopub.status.idle": "2025-03-07T18:44:05.617145Z",
     "shell.execute_reply": "2025-03-07T18:44:05.616102Z"
    },
    "papermill": {
     "duration": 0.972888,
     "end_time": "2025-03-07T18:44:05.618896",
     "exception": false,
     "start_time": "2025-03-07T18:44:04.646008",
     "status": "completed"
    },
    "tags": []
   },
   "outputs": [
    {
     "data": {
      "text/html": [
       "<div>\n",
       "<style scoped>\n",
       "    .dataframe tbody tr th:only-of-type {\n",
       "        vertical-align: middle;\n",
       "    }\n",
       "\n",
       "    .dataframe tbody tr th {\n",
       "        vertical-align: top;\n",
       "    }\n",
       "\n",
       "    .dataframe thead th {\n",
       "        text-align: right;\n",
       "    }\n",
       "</style>\n",
       "<table border=\"1\" class=\"dataframe\">\n",
       "  <thead>\n",
       "    <tr style=\"text-align: right;\">\n",
       "      <th></th>\n",
       "      <th>Date</th>\n",
       "      <th>Open</th>\n",
       "      <th>High</th>\n",
       "      <th>Low</th>\n",
       "      <th>Close</th>\n",
       "      <th>Adj Close</th>\n",
       "      <th>Volume</th>\n",
       "      <th>year</th>\n",
       "    </tr>\n",
       "  </thead>\n",
       "  <tbody>\n",
       "    <tr>\n",
       "      <th>0</th>\n",
       "      <td>2013-11-07</td>\n",
       "      <td>45.099998</td>\n",
       "      <td>50.090000</td>\n",
       "      <td>44.000000</td>\n",
       "      <td>44.900002</td>\n",
       "      <td>44.900002</td>\n",
       "      <td>117701670.0</td>\n",
       "      <td>2013</td>\n",
       "    </tr>\n",
       "    <tr>\n",
       "      <th>1</th>\n",
       "      <td>2013-11-08</td>\n",
       "      <td>45.930000</td>\n",
       "      <td>46.939999</td>\n",
       "      <td>40.685001</td>\n",
       "      <td>41.650002</td>\n",
       "      <td>41.650002</td>\n",
       "      <td>27925307.0</td>\n",
       "      <td>2013</td>\n",
       "    </tr>\n",
       "    <tr>\n",
       "      <th>2</th>\n",
       "      <td>2013-11-11</td>\n",
       "      <td>40.500000</td>\n",
       "      <td>43.000000</td>\n",
       "      <td>39.400002</td>\n",
       "      <td>42.900002</td>\n",
       "      <td>42.900002</td>\n",
       "      <td>16113941.0</td>\n",
       "      <td>2013</td>\n",
       "    </tr>\n",
       "    <tr>\n",
       "      <th>3</th>\n",
       "      <td>2013-11-12</td>\n",
       "      <td>43.660000</td>\n",
       "      <td>43.779999</td>\n",
       "      <td>41.830002</td>\n",
       "      <td>41.900002</td>\n",
       "      <td>41.900002</td>\n",
       "      <td>6316755.0</td>\n",
       "      <td>2013</td>\n",
       "    </tr>\n",
       "    <tr>\n",
       "      <th>4</th>\n",
       "      <td>2013-11-13</td>\n",
       "      <td>41.029999</td>\n",
       "      <td>42.869999</td>\n",
       "      <td>40.759998</td>\n",
       "      <td>42.599998</td>\n",
       "      <td>42.599998</td>\n",
       "      <td>8688325.0</td>\n",
       "      <td>2013</td>\n",
       "    </tr>\n",
       "  </tbody>\n",
       "</table>\n",
       "</div>"
      ],
      "text/plain": [
       "        Date       Open       High        Low      Close  Adj Close  \\\n",
       "0 2013-11-07  45.099998  50.090000  44.000000  44.900002  44.900002   \n",
       "1 2013-11-08  45.930000  46.939999  40.685001  41.650002  41.650002   \n",
       "2 2013-11-11  40.500000  43.000000  39.400002  42.900002  42.900002   \n",
       "3 2013-11-12  43.660000  43.779999  41.830002  41.900002  41.900002   \n",
       "4 2013-11-13  41.029999  42.869999  40.759998  42.599998  42.599998   \n",
       "\n",
       "        Volume  year  \n",
       "0  117701670.0  2013  \n",
       "1   27925307.0  2013  \n",
       "2   16113941.0  2013  \n",
       "3    6316755.0  2013  \n",
       "4    8688325.0  2013  "
      ]
     },
     "execution_count": 1,
     "metadata": {},
     "output_type": "execute_result"
    }
   ],
   "source": [
    "import pandas as pd\n",
    "\n",
    "TWTR = '/kaggle/input/twitter-stock-market/TWTR.csv'\n",
    "df = pd.read_csv(filepath_or_buffer=TWTR, parse_dates=['Date'])\n",
    "df['year'] = df['Date'].dt.year\n",
    "df.head()"
   ]
  },
  {
   "cell_type": "markdown",
   "id": "aa16c7e1",
   "metadata": {
    "execution": {
     "iopub.execute_input": "2025-03-07T18:31:30.598632Z",
     "iopub.status.busy": "2025-03-07T18:31:30.598254Z",
     "iopub.status.idle": "2025-03-07T18:31:30.606360Z",
     "shell.execute_reply": "2025-03-07T18:31:30.604829Z",
     "shell.execute_reply.started": "2025-03-07T18:31:30.598595Z"
    },
    "papermill": {
     "duration": 0.003325,
     "end_time": "2025-03-07T18:44:05.626145",
     "exception": false,
     "start_time": "2025-03-07T18:44:05.622820",
     "status": "completed"
    },
    "tags": []
   },
   "source": [
    "Let's start by looking at the price/volume correlations."
   ]
  },
  {
   "cell_type": "code",
   "execution_count": 2,
   "id": "b0952758",
   "metadata": {
    "execution": {
     "iopub.execute_input": "2025-03-07T18:44:05.634486Z",
     "iopub.status.busy": "2025-03-07T18:44:05.634090Z",
     "iopub.status.idle": "2025-03-07T18:44:05.652361Z",
     "shell.execute_reply": "2025-03-07T18:44:05.651293Z"
    },
    "papermill": {
     "duration": 0.02442,
     "end_time": "2025-03-07T18:44:05.654103",
     "exception": false,
     "start_time": "2025-03-07T18:44:05.629683",
     "status": "completed"
    },
    "tags": []
   },
   "outputs": [
    {
     "data": {
      "text/html": [
       "<div>\n",
       "<style scoped>\n",
       "    .dataframe tbody tr th:only-of-type {\n",
       "        vertical-align: middle;\n",
       "    }\n",
       "\n",
       "    .dataframe tbody tr th {\n",
       "        vertical-align: top;\n",
       "    }\n",
       "\n",
       "    .dataframe thead th {\n",
       "        text-align: right;\n",
       "    }\n",
       "</style>\n",
       "<table border=\"1\" class=\"dataframe\">\n",
       "  <thead>\n",
       "    <tr style=\"text-align: right;\">\n",
       "      <th></th>\n",
       "      <th>Open</th>\n",
       "      <th>High</th>\n",
       "      <th>Low</th>\n",
       "      <th>Close</th>\n",
       "      <th>Adj Close</th>\n",
       "      <th>Volume</th>\n",
       "    </tr>\n",
       "  </thead>\n",
       "  <tbody>\n",
       "    <tr>\n",
       "      <th>Open</th>\n",
       "      <td>1.000000</td>\n",
       "      <td>0.998860</td>\n",
       "      <td>0.998588</td>\n",
       "      <td>0.997414</td>\n",
       "      <td>0.997414</td>\n",
       "      <td>-0.015718</td>\n",
       "    </tr>\n",
       "    <tr>\n",
       "      <th>High</th>\n",
       "      <td>0.998860</td>\n",
       "      <td>1.000000</td>\n",
       "      <td>0.998265</td>\n",
       "      <td>0.998731</td>\n",
       "      <td>0.998731</td>\n",
       "      <td>-0.001709</td>\n",
       "    </tr>\n",
       "    <tr>\n",
       "      <th>Low</th>\n",
       "      <td>0.998588</td>\n",
       "      <td>0.998265</td>\n",
       "      <td>1.000000</td>\n",
       "      <td>0.998887</td>\n",
       "      <td>0.998887</td>\n",
       "      <td>-0.031352</td>\n",
       "    </tr>\n",
       "    <tr>\n",
       "      <th>Close</th>\n",
       "      <td>0.997414</td>\n",
       "      <td>0.998731</td>\n",
       "      <td>0.998887</td>\n",
       "      <td>1.000000</td>\n",
       "      <td>1.000000</td>\n",
       "      <td>-0.019179</td>\n",
       "    </tr>\n",
       "    <tr>\n",
       "      <th>Adj Close</th>\n",
       "      <td>0.997414</td>\n",
       "      <td>0.998731</td>\n",
       "      <td>0.998887</td>\n",
       "      <td>1.000000</td>\n",
       "      <td>1.000000</td>\n",
       "      <td>-0.019179</td>\n",
       "    </tr>\n",
       "    <tr>\n",
       "      <th>Volume</th>\n",
       "      <td>-0.015718</td>\n",
       "      <td>-0.001709</td>\n",
       "      <td>-0.031352</td>\n",
       "      <td>-0.019179</td>\n",
       "      <td>-0.019179</td>\n",
       "      <td>1.000000</td>\n",
       "    </tr>\n",
       "  </tbody>\n",
       "</table>\n",
       "</div>"
      ],
      "text/plain": [
       "               Open      High       Low     Close  Adj Close    Volume\n",
       "Open       1.000000  0.998860  0.998588  0.997414   0.997414 -0.015718\n",
       "High       0.998860  1.000000  0.998265  0.998731   0.998731 -0.001709\n",
       "Low        0.998588  0.998265  1.000000  0.998887   0.998887 -0.031352\n",
       "Close      0.997414  0.998731  0.998887  1.000000   1.000000 -0.019179\n",
       "Adj Close  0.997414  0.998731  0.998887  1.000000   1.000000 -0.019179\n",
       "Volume    -0.015718 -0.001709 -0.031352 -0.019179  -0.019179  1.000000"
      ]
     },
     "execution_count": 2,
     "metadata": {},
     "output_type": "execute_result"
    }
   ],
   "source": [
    "df[['Open', 'High', 'Low', 'Close', 'Adj Close', 'Volume']].corr()"
   ]
  },
  {
   "cell_type": "markdown",
   "id": "e68f1b53",
   "metadata": {
    "papermill": {
     "duration": 0.003454,
     "end_time": "2025-03-07T18:44:05.661478",
     "exception": false,
     "start_time": "2025-03-07T18:44:05.658024",
     "status": "completed"
    },
    "tags": []
   },
   "source": [
    "What do we see?\n",
    "* Our close and adjusted close prices are perfectly correlated, so we know we have no dividends, and we can ignore the adjusted close prices.\n",
    "* Prices and volumes are essentially uncorrelated."
   ]
  },
  {
   "cell_type": "markdown",
   "id": "09fcf578",
   "metadata": {
    "papermill": {
     "duration": 0.003412,
     "end_time": "2025-03-07T18:44:05.668578",
     "exception": false,
     "start_time": "2025-03-07T18:44:05.665166",
     "status": "completed"
    },
    "tags": []
   },
   "source": [
    "How much data do we have?"
   ]
  },
  {
   "cell_type": "code",
   "execution_count": 3,
   "id": "42e1bf71",
   "metadata": {
    "execution": {
     "iopub.execute_input": "2025-03-07T18:44:05.677170Z",
     "iopub.status.busy": "2025-03-07T18:44:05.676800Z",
     "iopub.status.idle": "2025-03-07T18:44:05.697176Z",
     "shell.execute_reply": "2025-03-07T18:44:05.696183Z"
    },
    "papermill": {
     "duration": 0.026733,
     "end_time": "2025-03-07T18:44:05.698914",
     "exception": false,
     "start_time": "2025-03-07T18:44:05.672181",
     "status": "completed"
    },
    "tags": []
   },
   "outputs": [
    {
     "data": {
      "text/html": [
       "<div>\n",
       "<style scoped>\n",
       "    .dataframe tbody tr th:only-of-type {\n",
       "        vertical-align: middle;\n",
       "    }\n",
       "\n",
       "    .dataframe tbody tr th {\n",
       "        vertical-align: top;\n",
       "    }\n",
       "\n",
       "    .dataframe thead th {\n",
       "        text-align: right;\n",
       "    }\n",
       "</style>\n",
       "<table border=\"1\" class=\"dataframe\">\n",
       "  <thead>\n",
       "    <tr style=\"text-align: right;\">\n",
       "      <th>year</th>\n",
       "      <th>2013</th>\n",
       "      <th>2014</th>\n",
       "      <th>2015</th>\n",
       "      <th>2016</th>\n",
       "      <th>2017</th>\n",
       "      <th>2018</th>\n",
       "      <th>2019</th>\n",
       "      <th>2020</th>\n",
       "      <th>2021</th>\n",
       "      <th>2022</th>\n",
       "    </tr>\n",
       "  </thead>\n",
       "  <tbody>\n",
       "    <tr>\n",
       "      <th>count</th>\n",
       "      <td>37</td>\n",
       "      <td>252</td>\n",
       "      <td>252</td>\n",
       "      <td>252</td>\n",
       "      <td>251</td>\n",
       "      <td>251</td>\n",
       "      <td>252</td>\n",
       "      <td>253</td>\n",
       "      <td>252</td>\n",
       "      <td>212</td>\n",
       "    </tr>\n",
       "  </tbody>\n",
       "</table>\n",
       "</div>"
      ],
      "text/plain": [
       "year   2013  2014  2015  2016  2017  2018  2019  2020  2021  2022\n",
       "count    37   252   252   252   251   251   252   253   252   212"
      ]
     },
     "execution_count": 3,
     "metadata": {},
     "output_type": "execute_result"
    }
   ],
   "source": [
    "df['year'].value_counts().to_frame().sort_index().T"
   ]
  },
  {
   "cell_type": "markdown",
   "id": "797a5330",
   "metadata": {
    "papermill": {
     "duration": 0.003735,
     "end_time": "2025-03-07T18:44:05.706756",
     "exception": false,
     "start_time": "2025-03-07T18:44:05.703021",
     "status": "completed"
    },
    "tags": []
   },
   "source": [
    "We have eight complete years and two partial years."
   ]
  },
  {
   "cell_type": "markdown",
   "id": "3ce87b51",
   "metadata": {
    "papermill": {
     "duration": 0.003588,
     "end_time": "2025-03-07T18:44:05.714280",
     "exception": false,
     "start_time": "2025-03-07T18:44:05.710692",
     "status": "completed"
    },
    "tags": []
   },
   "source": [
    "Let's make a time series of closing prices."
   ]
  },
  {
   "cell_type": "code",
   "execution_count": 4,
   "id": "1f805ffa",
   "metadata": {
    "execution": {
     "iopub.execute_input": "2025-03-07T18:44:05.723180Z",
     "iopub.status.busy": "2025-03-07T18:44:05.722819Z",
     "iopub.status.idle": "2025-03-07T18:44:08.677239Z",
     "shell.execute_reply": "2025-03-07T18:44:08.676126Z"
    },
    "papermill": {
     "duration": 2.960923,
     "end_time": "2025-03-07T18:44:08.678952",
     "exception": false,
     "start_time": "2025-03-07T18:44:05.718029",
     "status": "completed"
    },
    "tags": []
   },
   "outputs": [
    {
     "data": {
      "text/html": [
       "<iframe\n",
       "    scrolling=\"no\"\n",
       "    width=\"100%\"\n",
       "    height=\"545px\"\n",
       "    src=\"iframe_figures/figure_4.html\"\n",
       "    frameborder=\"0\"\n",
       "    allowfullscreen\n",
       "></iframe>\n"
      ]
     },
     "metadata": {},
     "output_type": "display_data"
    }
   ],
   "source": [
    "from plotly import express\n",
    "from plotly import io\n",
    "\n",
    "io.renderers.default = 'iframe'\n",
    "express.scatter(data_frame=df, x='Date', y='Close', color='year')"
   ]
  },
  {
   "cell_type": "markdown",
   "id": "72e5b38c",
   "metadata": {
    "papermill": {
     "duration": 0.003748,
     "end_time": "2025-03-07T18:44:08.686923",
     "exception": false,
     "start_time": "2025-03-07T18:44:08.683175",
     "status": "completed"
    },
    "tags": []
   },
   "source": [
    "What do we see? We see a stock that went up and down, but mostly traded in a range. If you bought and held this stock, you would have probably have been better off buying an index fund."
   ]
  },
  {
   "cell_type": "markdown",
   "id": "b5693a6c",
   "metadata": {
    "papermill": {
     "duration": 0.0037,
     "end_time": "2025-03-07T18:44:08.694574",
     "exception": false,
     "start_time": "2025-03-07T18:44:08.690874",
     "status": "completed"
    },
    "tags": []
   },
   "source": [
    "Next let's look at the volume over time."
   ]
  },
  {
   "cell_type": "code",
   "execution_count": 5,
   "id": "7cb11a70",
   "metadata": {
    "execution": {
     "iopub.execute_input": "2025-03-07T18:44:08.703585Z",
     "iopub.status.busy": "2025-03-07T18:44:08.703184Z",
     "iopub.status.idle": "2025-03-07T18:44:08.830218Z",
     "shell.execute_reply": "2025-03-07T18:44:08.829276Z"
    },
    "papermill": {
     "duration": 0.133663,
     "end_time": "2025-03-07T18:44:08.832076",
     "exception": false,
     "start_time": "2025-03-07T18:44:08.698413",
     "status": "completed"
    },
    "tags": []
   },
   "outputs": [
    {
     "data": {
      "text/html": [
       "<iframe\n",
       "    scrolling=\"no\"\n",
       "    width=\"100%\"\n",
       "    height=\"545px\"\n",
       "    src=\"iframe_figures/figure_5.html\"\n",
       "    frameborder=\"0\"\n",
       "    allowfullscreen\n",
       "></iframe>\n"
      ]
     },
     "metadata": {},
     "output_type": "display_data"
    }
   ],
   "source": [
    "express.scatter(data_frame=df, x='Date', y='Volume', color='year', log_y=True)"
   ]
  },
  {
   "cell_type": "markdown",
   "id": "2d2323f3",
   "metadata": {
    "papermill": {
     "duration": 0.003914,
     "end_time": "2025-03-07T18:44:08.840301",
     "exception": false,
     "start_time": "2025-03-07T18:44:08.836387",
     "status": "completed"
    },
    "tags": []
   },
   "source": [
    "Unline prices, volume tends not to be serially correlated, so the plot tends to look uniform except where there are outliers. Plotting the log of the volume gives us a better sense of how volumes have behaved over time. Do we see a pattern? No, volume moves up and down and has shocks on news, but it mostly looks pretty random."
   ]
  },
  {
   "cell_type": "markdown",
   "id": "58d56bf6",
   "metadata": {
    "papermill": {
     "duration": 0.003747,
     "end_time": "2025-03-07T18:44:08.848355",
     "exception": false,
     "start_time": "2025-03-07T18:44:08.844608",
     "status": "completed"
    },
    "tags": []
   },
   "source": [
    "What do we see if we plot prices and volume together?"
   ]
  },
  {
   "cell_type": "code",
   "execution_count": 6,
   "id": "95160b0b",
   "metadata": {
    "execution": {
     "iopub.execute_input": "2025-03-07T18:44:08.857594Z",
     "iopub.status.busy": "2025-03-07T18:44:08.857182Z",
     "iopub.status.idle": "2025-03-07T18:44:08.956501Z",
     "shell.execute_reply": "2025-03-07T18:44:08.955596Z"
    },
    "papermill": {
     "duration": 0.105753,
     "end_time": "2025-03-07T18:44:08.958052",
     "exception": false,
     "start_time": "2025-03-07T18:44:08.852299",
     "status": "completed"
    },
    "tags": []
   },
   "outputs": [
    {
     "data": {
      "text/html": [
       "<iframe\n",
       "    scrolling=\"no\"\n",
       "    width=\"100%\"\n",
       "    height=\"545px\"\n",
       "    src=\"iframe_figures/figure_6.html\"\n",
       "    frameborder=\"0\"\n",
       "    allowfullscreen\n",
       "></iframe>\n"
      ]
     },
     "metadata": {},
     "output_type": "display_data"
    }
   ],
   "source": [
    "express.scatter(data_frame=df, x='Close', y='Volume', color='year', log_y=True)"
   ]
  },
  {
   "cell_type": "markdown",
   "id": "68e9106a",
   "metadata": {
    "papermill": {
     "duration": 0.004133,
     "end_time": "2025-03-07T18:44:08.966584",
     "exception": false,
     "start_time": "2025-03-07T18:44:08.962451",
     "status": "completed"
    },
    "tags": []
   },
   "source": [
    "We can sort of see the passage of time because we're using the year to color our plot. But we mostly see an uncorrelated mess. Not least because prices within a year tend to move in a range, and volumes also tend to move in a range most of the time."
   ]
  }
 ],
 "metadata": {
  "kaggle": {
   "accelerator": "none",
   "dataSources": [
    {
     "datasetId": 6812249,
     "sourceId": 10951409,
     "sourceType": "datasetVersion"
    }
   ],
   "dockerImageVersionId": 30918,
   "isGpuEnabled": false,
   "isInternetEnabled": true,
   "language": "python",
   "sourceType": "notebook"
  },
  "kernelspec": {
   "display_name": "Python 3",
   "language": "python",
   "name": "python3"
  },
  "language_info": {
   "codemirror_mode": {
    "name": "ipython",
    "version": 3
   },
   "file_extension": ".py",
   "mimetype": "text/x-python",
   "name": "python",
   "nbconvert_exporter": "python",
   "pygments_lexer": "ipython3",
   "version": "3.10.12"
  },
  "papermill": {
   "default_parameters": {},
   "duration": 7.806807,
   "end_time": "2025-03-07T18:44:09.691509",
   "environment_variables": {},
   "exception": null,
   "input_path": "__notebook__.ipynb",
   "output_path": "__notebook__.ipynb",
   "parameters": {},
   "start_time": "2025-03-07T18:44:01.884702",
   "version": "2.6.0"
  }
 },
 "nbformat": 4,
 "nbformat_minor": 5
}
