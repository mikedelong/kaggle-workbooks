{
 "cells": [
  {
   "cell_type": "code",
   "execution_count": 1,
   "id": "f958e4f3",
   "metadata": {
    "_cell_guid": "b1076dfc-b9ad-4769-8c92-a6c4dae69d19",
    "_uuid": "8f2839f25d086af736a60e9eeb907d3b93b6e0e5",
    "execution": {
     "iopub.execute_input": "2024-03-06T17:40:06.674863Z",
     "iopub.status.busy": "2024-03-06T17:40:06.674510Z",
     "iopub.status.idle": "2024-03-06T17:40:07.893555Z",
     "shell.execute_reply": "2024-03-06T17:40:07.892651Z"
    },
    "papermill": {
     "duration": 1.225902,
     "end_time": "2024-03-06T17:40:07.896476",
     "exception": false,
     "start_time": "2024-03-06T17:40:06.670574",
     "status": "completed"
    },
    "tags": []
   },
   "outputs": [
    {
     "data": {
      "text/html": [
       "<div>\n",
       "<style scoped>\n",
       "    .dataframe tbody tr th:only-of-type {\n",
       "        vertical-align: middle;\n",
       "    }\n",
       "\n",
       "    .dataframe tbody tr th {\n",
       "        vertical-align: top;\n",
       "    }\n",
       "\n",
       "    .dataframe thead th {\n",
       "        text-align: right;\n",
       "    }\n",
       "</style>\n",
       "<table border=\"1\" class=\"dataframe\">\n",
       "  <thead>\n",
       "    <tr style=\"text-align: right;\">\n",
       "      <th></th>\n",
       "      <th>diagnosis</th>\n",
       "      <th>radius_mean</th>\n",
       "      <th>texture_mean</th>\n",
       "      <th>perimeter_mean</th>\n",
       "      <th>area_mean</th>\n",
       "      <th>smoothness_mean</th>\n",
       "      <th>compactness_mean</th>\n",
       "      <th>concavity_mean</th>\n",
       "      <th>concave_points_mean</th>\n",
       "      <th>symmetry_mean</th>\n",
       "      <th>...</th>\n",
       "      <th>radius_worst</th>\n",
       "      <th>texture_worst</th>\n",
       "      <th>perimeter_worst</th>\n",
       "      <th>area_worst</th>\n",
       "      <th>smoothness_worst</th>\n",
       "      <th>compactness_worst</th>\n",
       "      <th>concavity_worst</th>\n",
       "      <th>concave_points_worst</th>\n",
       "      <th>symmetry_worst</th>\n",
       "      <th>fractal_dimension_worst</th>\n",
       "    </tr>\n",
       "    <tr>\n",
       "      <th>id</th>\n",
       "      <th></th>\n",
       "      <th></th>\n",
       "      <th></th>\n",
       "      <th></th>\n",
       "      <th></th>\n",
       "      <th></th>\n",
       "      <th></th>\n",
       "      <th></th>\n",
       "      <th></th>\n",
       "      <th></th>\n",
       "      <th></th>\n",
       "      <th></th>\n",
       "      <th></th>\n",
       "      <th></th>\n",
       "      <th></th>\n",
       "      <th></th>\n",
       "      <th></th>\n",
       "      <th></th>\n",
       "      <th></th>\n",
       "      <th></th>\n",
       "      <th></th>\n",
       "    </tr>\n",
       "  </thead>\n",
       "  <tbody>\n",
       "    <tr>\n",
       "      <th>842302</th>\n",
       "      <td>M</td>\n",
       "      <td>17.99</td>\n",
       "      <td>10.38</td>\n",
       "      <td>122.80</td>\n",
       "      <td>1001.0</td>\n",
       "      <td>0.11840</td>\n",
       "      <td>0.27760</td>\n",
       "      <td>0.3001</td>\n",
       "      <td>0.14710</td>\n",
       "      <td>0.2419</td>\n",
       "      <td>...</td>\n",
       "      <td>25.38</td>\n",
       "      <td>17.33</td>\n",
       "      <td>184.60</td>\n",
       "      <td>2019.0</td>\n",
       "      <td>0.1622</td>\n",
       "      <td>0.6656</td>\n",
       "      <td>0.7119</td>\n",
       "      <td>0.2654</td>\n",
       "      <td>0.4601</td>\n",
       "      <td>0.11890</td>\n",
       "    </tr>\n",
       "    <tr>\n",
       "      <th>842517</th>\n",
       "      <td>M</td>\n",
       "      <td>20.57</td>\n",
       "      <td>17.77</td>\n",
       "      <td>132.90</td>\n",
       "      <td>1326.0</td>\n",
       "      <td>0.08474</td>\n",
       "      <td>0.07864</td>\n",
       "      <td>0.0869</td>\n",
       "      <td>0.07017</td>\n",
       "      <td>0.1812</td>\n",
       "      <td>...</td>\n",
       "      <td>24.99</td>\n",
       "      <td>23.41</td>\n",
       "      <td>158.80</td>\n",
       "      <td>1956.0</td>\n",
       "      <td>0.1238</td>\n",
       "      <td>0.1866</td>\n",
       "      <td>0.2416</td>\n",
       "      <td>0.1860</td>\n",
       "      <td>0.2750</td>\n",
       "      <td>0.08902</td>\n",
       "    </tr>\n",
       "    <tr>\n",
       "      <th>84300903</th>\n",
       "      <td>M</td>\n",
       "      <td>19.69</td>\n",
       "      <td>21.25</td>\n",
       "      <td>130.00</td>\n",
       "      <td>1203.0</td>\n",
       "      <td>0.10960</td>\n",
       "      <td>0.15990</td>\n",
       "      <td>0.1974</td>\n",
       "      <td>0.12790</td>\n",
       "      <td>0.2069</td>\n",
       "      <td>...</td>\n",
       "      <td>23.57</td>\n",
       "      <td>25.53</td>\n",
       "      <td>152.50</td>\n",
       "      <td>1709.0</td>\n",
       "      <td>0.1444</td>\n",
       "      <td>0.4245</td>\n",
       "      <td>0.4504</td>\n",
       "      <td>0.2430</td>\n",
       "      <td>0.3613</td>\n",
       "      <td>0.08758</td>\n",
       "    </tr>\n",
       "    <tr>\n",
       "      <th>84348301</th>\n",
       "      <td>M</td>\n",
       "      <td>11.42</td>\n",
       "      <td>20.38</td>\n",
       "      <td>77.58</td>\n",
       "      <td>386.1</td>\n",
       "      <td>0.14250</td>\n",
       "      <td>0.28390</td>\n",
       "      <td>0.2414</td>\n",
       "      <td>0.10520</td>\n",
       "      <td>0.2597</td>\n",
       "      <td>...</td>\n",
       "      <td>14.91</td>\n",
       "      <td>26.50</td>\n",
       "      <td>98.87</td>\n",
       "      <td>567.7</td>\n",
       "      <td>0.2098</td>\n",
       "      <td>0.8663</td>\n",
       "      <td>0.6869</td>\n",
       "      <td>0.2575</td>\n",
       "      <td>0.6638</td>\n",
       "      <td>0.17300</td>\n",
       "    </tr>\n",
       "    <tr>\n",
       "      <th>84358402</th>\n",
       "      <td>M</td>\n",
       "      <td>20.29</td>\n",
       "      <td>14.34</td>\n",
       "      <td>135.10</td>\n",
       "      <td>1297.0</td>\n",
       "      <td>0.10030</td>\n",
       "      <td>0.13280</td>\n",
       "      <td>0.1980</td>\n",
       "      <td>0.10430</td>\n",
       "      <td>0.1809</td>\n",
       "      <td>...</td>\n",
       "      <td>22.54</td>\n",
       "      <td>16.67</td>\n",
       "      <td>152.20</td>\n",
       "      <td>1575.0</td>\n",
       "      <td>0.1374</td>\n",
       "      <td>0.2050</td>\n",
       "      <td>0.4000</td>\n",
       "      <td>0.1625</td>\n",
       "      <td>0.2364</td>\n",
       "      <td>0.07678</td>\n",
       "    </tr>\n",
       "  </tbody>\n",
       "</table>\n",
       "<p>5 rows × 31 columns</p>\n",
       "</div>"
      ],
      "text/plain": [
       "         diagnosis  radius_mean  texture_mean  perimeter_mean  area_mean  \\\n",
       "id                                                                         \n",
       "842302           M        17.99         10.38          122.80     1001.0   \n",
       "842517           M        20.57         17.77          132.90     1326.0   \n",
       "84300903         M        19.69         21.25          130.00     1203.0   \n",
       "84348301         M        11.42         20.38           77.58      386.1   \n",
       "84358402         M        20.29         14.34          135.10     1297.0   \n",
       "\n",
       "          smoothness_mean  compactness_mean  concavity_mean  \\\n",
       "id                                                            \n",
       "842302            0.11840           0.27760          0.3001   \n",
       "842517            0.08474           0.07864          0.0869   \n",
       "84300903          0.10960           0.15990          0.1974   \n",
       "84348301          0.14250           0.28390          0.2414   \n",
       "84358402          0.10030           0.13280          0.1980   \n",
       "\n",
       "          concave_points_mean  symmetry_mean  ...  radius_worst  \\\n",
       "id                                            ...                 \n",
       "842302                0.14710         0.2419  ...         25.38   \n",
       "842517                0.07017         0.1812  ...         24.99   \n",
       "84300903              0.12790         0.2069  ...         23.57   \n",
       "84348301              0.10520         0.2597  ...         14.91   \n",
       "84358402              0.10430         0.1809  ...         22.54   \n",
       "\n",
       "          texture_worst  perimeter_worst  area_worst  smoothness_worst  \\\n",
       "id                                                                       \n",
       "842302            17.33           184.60      2019.0            0.1622   \n",
       "842517            23.41           158.80      1956.0            0.1238   \n",
       "84300903          25.53           152.50      1709.0            0.1444   \n",
       "84348301          26.50            98.87       567.7            0.2098   \n",
       "84358402          16.67           152.20      1575.0            0.1374   \n",
       "\n",
       "          compactness_worst  concavity_worst  concave_points_worst  \\\n",
       "id                                                                   \n",
       "842302               0.6656           0.7119                0.2654   \n",
       "842517               0.1866           0.2416                0.1860   \n",
       "84300903             0.4245           0.4504                0.2430   \n",
       "84348301             0.8663           0.6869                0.2575   \n",
       "84358402             0.2050           0.4000                0.1625   \n",
       "\n",
       "          symmetry_worst  fractal_dimension_worst  \n",
       "id                                                 \n",
       "842302            0.4601                  0.11890  \n",
       "842517            0.2750                  0.08902  \n",
       "84300903          0.3613                  0.08758  \n",
       "84348301          0.6638                  0.17300  \n",
       "84358402          0.2364                  0.07678  \n",
       "\n",
       "[5 rows x 31 columns]"
      ]
     },
     "execution_count": 1,
     "metadata": {},
     "output_type": "execute_result"
    }
   ],
   "source": [
    "import pandas as pd\n",
    "import warnings\n",
    "from plotly import express\n",
    "\n",
    "warnings.filterwarnings(action='ignore', category=FutureWarning)\n",
    "\n",
    "DATA = '/kaggle/input/breast-cancer/data.csv'\n",
    "df = pd.read_csv(filepath_or_buffer=DATA, index_col=['id'])\n",
    "df.head()"
   ]
  },
  {
   "cell_type": "code",
   "execution_count": 2,
   "id": "b3280e67",
   "metadata": {
    "execution": {
     "iopub.execute_input": "2024-03-06T17:40:07.903580Z",
     "iopub.status.busy": "2024-03-06T17:40:07.903311Z",
     "iopub.status.idle": "2024-03-06T17:40:09.435072Z",
     "shell.execute_reply": "2024-03-06T17:40:09.434092Z"
    },
    "papermill": {
     "duration": 1.537376,
     "end_time": "2024-03-06T17:40:09.437334",
     "exception": false,
     "start_time": "2024-03-06T17:40:07.899958",
     "status": "completed"
    },
    "tags": []
   },
   "outputs": [
    {
     "data": {
      "text/html": [
       "        <script type=\"text/javascript\">\n",
       "        window.PlotlyConfig = {MathJaxConfig: 'local'};\n",
       "        if (window.MathJax && window.MathJax.Hub && window.MathJax.Hub.Config) {window.MathJax.Hub.Config({SVG: {font: \"STIX-Web\"}});}\n",
       "        if (typeof require !== 'undefined') {\n",
       "        require.undef(\"plotly\");\n",
       "        requirejs.config({\n",
       "            paths: {\n",
       "                'plotly': ['https://cdn.plot.ly/plotly-2.27.0.min']\n",
       "            }\n",
       "        });\n",
       "        require(['plotly'], function(Plotly) {\n",
       "            window._Plotly = Plotly;\n",
       "        });\n",
       "        }\n",
       "        </script>\n",
       "        "
      ]
     },
     "metadata": {},
     "output_type": "display_data"
    },
    {
     "data": {
      "text/html": [
       "<div>                            <div id=\"25f14ee3-f17c-433c-875d-d1a389c74968\" class=\"plotly-graph-div\" style=\"height:525px; width:100%;\"></div>            <script type=\"text/javascript\">                require([\"plotly\"], function(Plotly) {                    window.PLOTLYENV=window.PLOTLYENV || {};                                    if (document.getElementById(\"25f14ee3-f17c-433c-875d-d1a389c74968\")) {                    Plotly.newPlot(                        \"25f14ee3-f17c-433c-875d-d1a389c74968\",                        [{\"customdata\":[[\"M\"],[\"M\"],[\"M\"],[\"M\"],[\"M\"],[\"M\"],[\"M\"],[\"M\"],[\"M\"],[\"M\"],[\"M\"],[\"M\"],[\"M\"],[\"M\"],[\"M\"],[\"M\"],[\"M\"],[\"M\"],[\"M\"],[\"B\"],[\"B\"],[\"B\"],[\"M\"],[\"M\"],[\"M\"],[\"M\"],[\"M\"],[\"M\"],[\"M\"],[\"M\"],[\"M\"],[\"M\"],[\"M\"],[\"M\"],[\"M\"],[\"M\"],[\"M\"],[\"B\"],[\"M\"],[\"M\"],[\"M\"],[\"M\"],[\"M\"],[\"M\"],[\"M\"],[\"M\"],[\"B\"],[\"M\"],[\"B\"],[\"B\"],[\"B\"],[\"B\"],[\"B\"],[\"M\"],[\"M\"],[\"B\"],[\"M\"],[\"M\"],[\"B\"],[\"B\"],[\"B\"],[\"B\"],[\"M\"],[\"B\"],[\"M\"],[\"M\"],[\"B\"],[\"B\"],[\"B\"],[\"B\"],[\"M\"],[\"B\"],[\"M\"],[\"M\"],[\"B\"],[\"M\"],[\"B\"],[\"M\"],[\"M\"],[\"B\"],[\"B\"],[\"B\"],[\"M\"],[\"M\"],[\"B\"],[\"M\"],[\"M\"],[\"M\"],[\"B\"],[\"B\"],[\"B\"],[\"M\"],[\"B\"],[\"B\"],[\"M\"],[\"M\"],[\"B\"],[\"B\"],[\"B\"],[\"M\"],[\"M\"],[\"B\"],[\"B\"],[\"B\"],[\"B\"],[\"M\"],[\"B\"],[\"B\"],[\"M\"],[\"B\"],[\"B\"],[\"B\"],[\"B\"],[\"B\"],[\"B\"],[\"B\"],[\"B\"],[\"M\"],[\"M\"],[\"M\"],[\"B\"],[\"M\"],[\"M\"],[\"B\"],[\"B\"],[\"B\"],[\"M\"],[\"M\"],[\"B\"],[\"M\"],[\"B\"],[\"M\"],[\"M\"],[\"B\"],[\"M\"],[\"M\"],[\"B\"],[\"B\"],[\"M\"],[\"B\"],[\"B\"],[\"M\"],[\"B\"],[\"B\"],[\"B\"],[\"B\"],[\"M\"],[\"B\"],[\"B\"],[\"B\"],[\"B\"],[\"B\"],[\"B\"],[\"B\"],[\"B\"],[\"B\"],[\"M\"],[\"B\"],[\"B\"],[\"B\"],[\"B\"],[\"M\"],[\"M\"],[\"B\"],[\"M\"],[\"B\"],[\"B\"],[\"M\"],[\"M\"],[\"B\"],[\"B\"],[\"M\"],[\"M\"],[\"B\"],[\"B\"],[\"B\"],[\"B\"],[\"M\"],[\"B\"],[\"B\"],[\"M\"],[\"M\"],[\"M\"],[\"B\"],[\"M\"],[\"B\"],[\"M\"],[\"B\"],[\"B\"],[\"B\"],[\"M\"],[\"B\"],[\"B\"],[\"M\"],[\"M\"],[\"B\"],[\"M\"],[\"M\"],[\"M\"],[\"M\"],[\"B\"],[\"M\"],[\"M\"],[\"M\"],[\"B\"],[\"M\"],[\"B\"],[\"M\"],[\"B\"],[\"B\"],[\"M\"],[\"B\"],[\"M\"],[\"M\"],[\"M\"],[\"M\"],[\"B\"],[\"B\"],[\"M\"],[\"M\"],[\"B\"],[\"B\"],[\"B\"],[\"M\"],[\"B\"],[\"B\"],[\"B\"],[\"B\"],[\"B\"],[\"M\"],[\"M\"],[\"B\"],[\"B\"],[\"M\"],[\"B\"],[\"B\"],[\"M\"],[\"M\"],[\"B\"],[\"M\"],[\"B\"],[\"B\"],[\"B\"],[\"B\"],[\"M\"],[\"B\"],[\"B\"],[\"B\"],[\"B\"],[\"B\"],[\"M\"],[\"B\"],[\"M\"],[\"M\"],[\"M\"],[\"M\"],[\"M\"],[\"M\"],[\"M\"],[\"M\"],[\"M\"],[\"M\"],[\"M\"],[\"M\"],[\"M\"],[\"M\"],[\"B\"],[\"B\"],[\"B\"],[\"B\"],[\"B\"],[\"B\"],[\"M\"],[\"B\"],[\"M\"],[\"B\"],[\"B\"],[\"M\"],[\"B\"],[\"B\"],[\"M\"],[\"B\"],[\"M\"],[\"M\"],[\"B\"],[\"B\"],[\"B\"],[\"B\"],[\"B\"],[\"B\"],[\"B\"],[\"B\"],[\"B\"],[\"B\"],[\"B\"],[\"B\"],[\"B\"],[\"M\"],[\"B\"],[\"B\"],[\"M\"],[\"B\"],[\"M\"],[\"B\"],[\"B\"],[\"B\"],[\"B\"],[\"B\"],[\"B\"],[\"B\"],[\"B\"],[\"B\"],[\"B\"],[\"B\"],[\"B\"],[\"B\"],[\"B\"],[\"M\"],[\"B\"],[\"B\"],[\"B\"],[\"M\"],[\"B\"],[\"M\"],[\"B\"],[\"B\"],[\"B\"],[\"B\"],[\"M\"],[\"M\"],[\"M\"],[\"B\"],[\"B\"],[\"B\"],[\"B\"],[\"M\"],[\"B\"],[\"M\"],[\"B\"],[\"M\"],[\"B\"],[\"B\"],[\"B\"],[\"M\"],[\"B\"],[\"B\"],[\"B\"],[\"B\"],[\"B\"],[\"B\"],[\"B\"],[\"M\"],[\"M\"],[\"M\"],[\"B\"],[\"B\"],[\"B\"],[\"B\"],[\"B\"],[\"B\"],[\"B\"],[\"B\"],[\"B\"],[\"B\"],[\"B\"],[\"M\"],[\"M\"],[\"B\"],[\"M\"],[\"M\"],[\"M\"],[\"B\"],[\"M\"],[\"M\"],[\"B\"],[\"B\"],[\"B\"],[\"B\"],[\"B\"],[\"M\"],[\"B\"],[\"B\"],[\"B\"],[\"B\"],[\"B\"],[\"M\"],[\"B\"],[\"B\"],[\"B\"],[\"M\"],[\"B\"],[\"B\"],[\"M\"],[\"M\"],[\"B\"],[\"B\"],[\"B\"],[\"B\"],[\"B\"],[\"B\"],[\"M\"],[\"B\"],[\"B\"],[\"B\"],[\"B\"],[\"B\"],[\"B\"],[\"B\"],[\"M\"],[\"B\"],[\"B\"],[\"B\"],[\"B\"],[\"B\"],[\"M\"],[\"B\"],[\"B\"],[\"M\"],[\"B\"],[\"B\"],[\"B\"],[\"B\"],[\"B\"],[\"B\"],[\"B\"],[\"B\"],[\"B\"],[\"B\"],[\"B\"],[\"B\"],[\"M\"],[\"B\"],[\"M\"],[\"M\"],[\"B\"],[\"M\"],[\"B\"],[\"B\"],[\"B\"],[\"B\"],[\"B\"],[\"M\"],[\"B\"],[\"B\"],[\"M\"],[\"B\"],[\"M\"],[\"B\"],[\"B\"],[\"M\"],[\"B\"],[\"M\"],[\"B\"],[\"B\"],[\"B\"],[\"B\"],[\"B\"],[\"B\"],[\"B\"],[\"B\"],[\"M\"],[\"M\"],[\"B\"],[\"B\"],[\"B\"],[\"B\"],[\"B\"],[\"B\"],[\"M\"],[\"B\"],[\"B\"],[\"B\"],[\"B\"],[\"B\"],[\"B\"],[\"B\"],[\"B\"],[\"B\"],[\"B\"],[\"M\"],[\"B\"],[\"B\"],[\"B\"],[\"B\"],[\"B\"],[\"B\"],[\"B\"],[\"M\"],[\"B\"],[\"M\"],[\"B\"],[\"B\"],[\"M\"],[\"B\"],[\"B\"],[\"B\"],[\"B\"],[\"B\"],[\"M\"],[\"M\"],[\"B\"],[\"M\"],[\"B\"],[\"M\"],[\"B\"],[\"B\"],[\"B\"],[\"B\"],[\"B\"],[\"M\"],[\"B\"],[\"B\"],[\"M\"],[\"B\"],[\"M\"],[\"B\"],[\"M\"],[\"M\"],[\"B\"],[\"B\"],[\"B\"],[\"M\"],[\"B\"],[\"B\"],[\"B\"],[\"B\"],[\"B\"],[\"B\"],[\"B\"],[\"B\"],[\"B\"],[\"B\"],[\"B\"],[\"M\"],[\"B\"],[\"M\"],[\"M\"],[\"B\"],[\"B\"],[\"B\"],[\"B\"],[\"B\"],[\"B\"],[\"B\"],[\"B\"],[\"B\"],[\"B\"],[\"B\"],[\"B\"],[\"B\"],[\"B\"],[\"B\"],[\"B\"],[\"B\"],[\"B\"],[\"B\"],[\"B\"],[\"B\"],[\"B\"],[\"B\"],[\"B\"],[\"B\"],[\"M\"],[\"M\"],[\"M\"],[\"M\"],[\"M\"],[\"M\"],[\"B\"]],\"domain\":{\"x\":[0.0,1.0],\"y\":[0.0,1.0]},\"hovertemplate\":\"diagnosis=%{customdata[0]}\\u003cextra\\u003e\\u003c\\u002fextra\\u003e\",\"labels\":[\"M\",\"M\",\"M\",\"M\",\"M\",\"M\",\"M\",\"M\",\"M\",\"M\",\"M\",\"M\",\"M\",\"M\",\"M\",\"M\",\"M\",\"M\",\"M\",\"B\",\"B\",\"B\",\"M\",\"M\",\"M\",\"M\",\"M\",\"M\",\"M\",\"M\",\"M\",\"M\",\"M\",\"M\",\"M\",\"M\",\"M\",\"B\",\"M\",\"M\",\"M\",\"M\",\"M\",\"M\",\"M\",\"M\",\"B\",\"M\",\"B\",\"B\",\"B\",\"B\",\"B\",\"M\",\"M\",\"B\",\"M\",\"M\",\"B\",\"B\",\"B\",\"B\",\"M\",\"B\",\"M\",\"M\",\"B\",\"B\",\"B\",\"B\",\"M\",\"B\",\"M\",\"M\",\"B\",\"M\",\"B\",\"M\",\"M\",\"B\",\"B\",\"B\",\"M\",\"M\",\"B\",\"M\",\"M\",\"M\",\"B\",\"B\",\"B\",\"M\",\"B\",\"B\",\"M\",\"M\",\"B\",\"B\",\"B\",\"M\",\"M\",\"B\",\"B\",\"B\",\"B\",\"M\",\"B\",\"B\",\"M\",\"B\",\"B\",\"B\",\"B\",\"B\",\"B\",\"B\",\"B\",\"M\",\"M\",\"M\",\"B\",\"M\",\"M\",\"B\",\"B\",\"B\",\"M\",\"M\",\"B\",\"M\",\"B\",\"M\",\"M\",\"B\",\"M\",\"M\",\"B\",\"B\",\"M\",\"B\",\"B\",\"M\",\"B\",\"B\",\"B\",\"B\",\"M\",\"B\",\"B\",\"B\",\"B\",\"B\",\"B\",\"B\",\"B\",\"B\",\"M\",\"B\",\"B\",\"B\",\"B\",\"M\",\"M\",\"B\",\"M\",\"B\",\"B\",\"M\",\"M\",\"B\",\"B\",\"M\",\"M\",\"B\",\"B\",\"B\",\"B\",\"M\",\"B\",\"B\",\"M\",\"M\",\"M\",\"B\",\"M\",\"B\",\"M\",\"B\",\"B\",\"B\",\"M\",\"B\",\"B\",\"M\",\"M\",\"B\",\"M\",\"M\",\"M\",\"M\",\"B\",\"M\",\"M\",\"M\",\"B\",\"M\",\"B\",\"M\",\"B\",\"B\",\"M\",\"B\",\"M\",\"M\",\"M\",\"M\",\"B\",\"B\",\"M\",\"M\",\"B\",\"B\",\"B\",\"M\",\"B\",\"B\",\"B\",\"B\",\"B\",\"M\",\"M\",\"B\",\"B\",\"M\",\"B\",\"B\",\"M\",\"M\",\"B\",\"M\",\"B\",\"B\",\"B\",\"B\",\"M\",\"B\",\"B\",\"B\",\"B\",\"B\",\"M\",\"B\",\"M\",\"M\",\"M\",\"M\",\"M\",\"M\",\"M\",\"M\",\"M\",\"M\",\"M\",\"M\",\"M\",\"M\",\"B\",\"B\",\"B\",\"B\",\"B\",\"B\",\"M\",\"B\",\"M\",\"B\",\"B\",\"M\",\"B\",\"B\",\"M\",\"B\",\"M\",\"M\",\"B\",\"B\",\"B\",\"B\",\"B\",\"B\",\"B\",\"B\",\"B\",\"B\",\"B\",\"B\",\"B\",\"M\",\"B\",\"B\",\"M\",\"B\",\"M\",\"B\",\"B\",\"B\",\"B\",\"B\",\"B\",\"B\",\"B\",\"B\",\"B\",\"B\",\"B\",\"B\",\"B\",\"M\",\"B\",\"B\",\"B\",\"M\",\"B\",\"M\",\"B\",\"B\",\"B\",\"B\",\"M\",\"M\",\"M\",\"B\",\"B\",\"B\",\"B\",\"M\",\"B\",\"M\",\"B\",\"M\",\"B\",\"B\",\"B\",\"M\",\"B\",\"B\",\"B\",\"B\",\"B\",\"B\",\"B\",\"M\",\"M\",\"M\",\"B\",\"B\",\"B\",\"B\",\"B\",\"B\",\"B\",\"B\",\"B\",\"B\",\"B\",\"M\",\"M\",\"B\",\"M\",\"M\",\"M\",\"B\",\"M\",\"M\",\"B\",\"B\",\"B\",\"B\",\"B\",\"M\",\"B\",\"B\",\"B\",\"B\",\"B\",\"M\",\"B\",\"B\",\"B\",\"M\",\"B\",\"B\",\"M\",\"M\",\"B\",\"B\",\"B\",\"B\",\"B\",\"B\",\"M\",\"B\",\"B\",\"B\",\"B\",\"B\",\"B\",\"B\",\"M\",\"B\",\"B\",\"B\",\"B\",\"B\",\"M\",\"B\",\"B\",\"M\",\"B\",\"B\",\"B\",\"B\",\"B\",\"B\",\"B\",\"B\",\"B\",\"B\",\"B\",\"B\",\"M\",\"B\",\"M\",\"M\",\"B\",\"M\",\"B\",\"B\",\"B\",\"B\",\"B\",\"M\",\"B\",\"B\",\"M\",\"B\",\"M\",\"B\",\"B\",\"M\",\"B\",\"M\",\"B\",\"B\",\"B\",\"B\",\"B\",\"B\",\"B\",\"B\",\"M\",\"M\",\"B\",\"B\",\"B\",\"B\",\"B\",\"B\",\"M\",\"B\",\"B\",\"B\",\"B\",\"B\",\"B\",\"B\",\"B\",\"B\",\"B\",\"M\",\"B\",\"B\",\"B\",\"B\",\"B\",\"B\",\"B\",\"M\",\"B\",\"M\",\"B\",\"B\",\"M\",\"B\",\"B\",\"B\",\"B\",\"B\",\"M\",\"M\",\"B\",\"M\",\"B\",\"M\",\"B\",\"B\",\"B\",\"B\",\"B\",\"M\",\"B\",\"B\",\"M\",\"B\",\"M\",\"B\",\"M\",\"M\",\"B\",\"B\",\"B\",\"M\",\"B\",\"B\",\"B\",\"B\",\"B\",\"B\",\"B\",\"B\",\"B\",\"B\",\"B\",\"M\",\"B\",\"M\",\"M\",\"B\",\"B\",\"B\",\"B\",\"B\",\"B\",\"B\",\"B\",\"B\",\"B\",\"B\",\"B\",\"B\",\"B\",\"B\",\"B\",\"B\",\"B\",\"B\",\"B\",\"B\",\"B\",\"B\",\"B\",\"B\",\"M\",\"M\",\"M\",\"M\",\"M\",\"M\",\"B\"],\"legendgroup\":\"\",\"marker\":{\"colors\":[\"#636efa\",\"#636efa\",\"#636efa\",\"#636efa\",\"#636efa\",\"#636efa\",\"#636efa\",\"#636efa\",\"#636efa\",\"#636efa\",\"#636efa\",\"#636efa\",\"#636efa\",\"#636efa\",\"#636efa\",\"#636efa\",\"#636efa\",\"#636efa\",\"#636efa\",\"#EF553B\",\"#EF553B\",\"#EF553B\",\"#636efa\",\"#636efa\",\"#636efa\",\"#636efa\",\"#636efa\",\"#636efa\",\"#636efa\",\"#636efa\",\"#636efa\",\"#636efa\",\"#636efa\",\"#636efa\",\"#636efa\",\"#636efa\",\"#636efa\",\"#EF553B\",\"#636efa\",\"#636efa\",\"#636efa\",\"#636efa\",\"#636efa\",\"#636efa\",\"#636efa\",\"#636efa\",\"#EF553B\",\"#636efa\",\"#EF553B\",\"#EF553B\",\"#EF553B\",\"#EF553B\",\"#EF553B\",\"#636efa\",\"#636efa\",\"#EF553B\",\"#636efa\",\"#636efa\",\"#EF553B\",\"#EF553B\",\"#EF553B\",\"#EF553B\",\"#636efa\",\"#EF553B\",\"#636efa\",\"#636efa\",\"#EF553B\",\"#EF553B\",\"#EF553B\",\"#EF553B\",\"#636efa\",\"#EF553B\",\"#636efa\",\"#636efa\",\"#EF553B\",\"#636efa\",\"#EF553B\",\"#636efa\",\"#636efa\",\"#EF553B\",\"#EF553B\",\"#EF553B\",\"#636efa\",\"#636efa\",\"#EF553B\",\"#636efa\",\"#636efa\",\"#636efa\",\"#EF553B\",\"#EF553B\",\"#EF553B\",\"#636efa\",\"#EF553B\",\"#EF553B\",\"#636efa\",\"#636efa\",\"#EF553B\",\"#EF553B\",\"#EF553B\",\"#636efa\",\"#636efa\",\"#EF553B\",\"#EF553B\",\"#EF553B\",\"#EF553B\",\"#636efa\",\"#EF553B\",\"#EF553B\",\"#636efa\",\"#EF553B\",\"#EF553B\",\"#EF553B\",\"#EF553B\",\"#EF553B\",\"#EF553B\",\"#EF553B\",\"#EF553B\",\"#636efa\",\"#636efa\",\"#636efa\",\"#EF553B\",\"#636efa\",\"#636efa\",\"#EF553B\",\"#EF553B\",\"#EF553B\",\"#636efa\",\"#636efa\",\"#EF553B\",\"#636efa\",\"#EF553B\",\"#636efa\",\"#636efa\",\"#EF553B\",\"#636efa\",\"#636efa\",\"#EF553B\",\"#EF553B\",\"#636efa\",\"#EF553B\",\"#EF553B\",\"#636efa\",\"#EF553B\",\"#EF553B\",\"#EF553B\",\"#EF553B\",\"#636efa\",\"#EF553B\",\"#EF553B\",\"#EF553B\",\"#EF553B\",\"#EF553B\",\"#EF553B\",\"#EF553B\",\"#EF553B\",\"#EF553B\",\"#636efa\",\"#EF553B\",\"#EF553B\",\"#EF553B\",\"#EF553B\",\"#636efa\",\"#636efa\",\"#EF553B\",\"#636efa\",\"#EF553B\",\"#EF553B\",\"#636efa\",\"#636efa\",\"#EF553B\",\"#EF553B\",\"#636efa\",\"#636efa\",\"#EF553B\",\"#EF553B\",\"#EF553B\",\"#EF553B\",\"#636efa\",\"#EF553B\",\"#EF553B\",\"#636efa\",\"#636efa\",\"#636efa\",\"#EF553B\",\"#636efa\",\"#EF553B\",\"#636efa\",\"#EF553B\",\"#EF553B\",\"#EF553B\",\"#636efa\",\"#EF553B\",\"#EF553B\",\"#636efa\",\"#636efa\",\"#EF553B\",\"#636efa\",\"#636efa\",\"#636efa\",\"#636efa\",\"#EF553B\",\"#636efa\",\"#636efa\",\"#636efa\",\"#EF553B\",\"#636efa\",\"#EF553B\",\"#636efa\",\"#EF553B\",\"#EF553B\",\"#636efa\",\"#EF553B\",\"#636efa\",\"#636efa\",\"#636efa\",\"#636efa\",\"#EF553B\",\"#EF553B\",\"#636efa\",\"#636efa\",\"#EF553B\",\"#EF553B\",\"#EF553B\",\"#636efa\",\"#EF553B\",\"#EF553B\",\"#EF553B\",\"#EF553B\",\"#EF553B\",\"#636efa\",\"#636efa\",\"#EF553B\",\"#EF553B\",\"#636efa\",\"#EF553B\",\"#EF553B\",\"#636efa\",\"#636efa\",\"#EF553B\",\"#636efa\",\"#EF553B\",\"#EF553B\",\"#EF553B\",\"#EF553B\",\"#636efa\",\"#EF553B\",\"#EF553B\",\"#EF553B\",\"#EF553B\",\"#EF553B\",\"#636efa\",\"#EF553B\",\"#636efa\",\"#636efa\",\"#636efa\",\"#636efa\",\"#636efa\",\"#636efa\",\"#636efa\",\"#636efa\",\"#636efa\",\"#636efa\",\"#636efa\",\"#636efa\",\"#636efa\",\"#636efa\",\"#EF553B\",\"#EF553B\",\"#EF553B\",\"#EF553B\",\"#EF553B\",\"#EF553B\",\"#636efa\",\"#EF553B\",\"#636efa\",\"#EF553B\",\"#EF553B\",\"#636efa\",\"#EF553B\",\"#EF553B\",\"#636efa\",\"#EF553B\",\"#636efa\",\"#636efa\",\"#EF553B\",\"#EF553B\",\"#EF553B\",\"#EF553B\",\"#EF553B\",\"#EF553B\",\"#EF553B\",\"#EF553B\",\"#EF553B\",\"#EF553B\",\"#EF553B\",\"#EF553B\",\"#EF553B\",\"#636efa\",\"#EF553B\",\"#EF553B\",\"#636efa\",\"#EF553B\",\"#636efa\",\"#EF553B\",\"#EF553B\",\"#EF553B\",\"#EF553B\",\"#EF553B\",\"#EF553B\",\"#EF553B\",\"#EF553B\",\"#EF553B\",\"#EF553B\",\"#EF553B\",\"#EF553B\",\"#EF553B\",\"#EF553B\",\"#636efa\",\"#EF553B\",\"#EF553B\",\"#EF553B\",\"#636efa\",\"#EF553B\",\"#636efa\",\"#EF553B\",\"#EF553B\",\"#EF553B\",\"#EF553B\",\"#636efa\",\"#636efa\",\"#636efa\",\"#EF553B\",\"#EF553B\",\"#EF553B\",\"#EF553B\",\"#636efa\",\"#EF553B\",\"#636efa\",\"#EF553B\",\"#636efa\",\"#EF553B\",\"#EF553B\",\"#EF553B\",\"#636efa\",\"#EF553B\",\"#EF553B\",\"#EF553B\",\"#EF553B\",\"#EF553B\",\"#EF553B\",\"#EF553B\",\"#636efa\",\"#636efa\",\"#636efa\",\"#EF553B\",\"#EF553B\",\"#EF553B\",\"#EF553B\",\"#EF553B\",\"#EF553B\",\"#EF553B\",\"#EF553B\",\"#EF553B\",\"#EF553B\",\"#EF553B\",\"#636efa\",\"#636efa\",\"#EF553B\",\"#636efa\",\"#636efa\",\"#636efa\",\"#EF553B\",\"#636efa\",\"#636efa\",\"#EF553B\",\"#EF553B\",\"#EF553B\",\"#EF553B\",\"#EF553B\",\"#636efa\",\"#EF553B\",\"#EF553B\",\"#EF553B\",\"#EF553B\",\"#EF553B\",\"#636efa\",\"#EF553B\",\"#EF553B\",\"#EF553B\",\"#636efa\",\"#EF553B\",\"#EF553B\",\"#636efa\",\"#636efa\",\"#EF553B\",\"#EF553B\",\"#EF553B\",\"#EF553B\",\"#EF553B\",\"#EF553B\",\"#636efa\",\"#EF553B\",\"#EF553B\",\"#EF553B\",\"#EF553B\",\"#EF553B\",\"#EF553B\",\"#EF553B\",\"#636efa\",\"#EF553B\",\"#EF553B\",\"#EF553B\",\"#EF553B\",\"#EF553B\",\"#636efa\",\"#EF553B\",\"#EF553B\",\"#636efa\",\"#EF553B\",\"#EF553B\",\"#EF553B\",\"#EF553B\",\"#EF553B\",\"#EF553B\",\"#EF553B\",\"#EF553B\",\"#EF553B\",\"#EF553B\",\"#EF553B\",\"#EF553B\",\"#636efa\",\"#EF553B\",\"#636efa\",\"#636efa\",\"#EF553B\",\"#636efa\",\"#EF553B\",\"#EF553B\",\"#EF553B\",\"#EF553B\",\"#EF553B\",\"#636efa\",\"#EF553B\",\"#EF553B\",\"#636efa\",\"#EF553B\",\"#636efa\",\"#EF553B\",\"#EF553B\",\"#636efa\",\"#EF553B\",\"#636efa\",\"#EF553B\",\"#EF553B\",\"#EF553B\",\"#EF553B\",\"#EF553B\",\"#EF553B\",\"#EF553B\",\"#EF553B\",\"#636efa\",\"#636efa\",\"#EF553B\",\"#EF553B\",\"#EF553B\",\"#EF553B\",\"#EF553B\",\"#EF553B\",\"#636efa\",\"#EF553B\",\"#EF553B\",\"#EF553B\",\"#EF553B\",\"#EF553B\",\"#EF553B\",\"#EF553B\",\"#EF553B\",\"#EF553B\",\"#EF553B\",\"#636efa\",\"#EF553B\",\"#EF553B\",\"#EF553B\",\"#EF553B\",\"#EF553B\",\"#EF553B\",\"#EF553B\",\"#636efa\",\"#EF553B\",\"#636efa\",\"#EF553B\",\"#EF553B\",\"#636efa\",\"#EF553B\",\"#EF553B\",\"#EF553B\",\"#EF553B\",\"#EF553B\",\"#636efa\",\"#636efa\",\"#EF553B\",\"#636efa\",\"#EF553B\",\"#636efa\",\"#EF553B\",\"#EF553B\",\"#EF553B\",\"#EF553B\",\"#EF553B\",\"#636efa\",\"#EF553B\",\"#EF553B\",\"#636efa\",\"#EF553B\",\"#636efa\",\"#EF553B\",\"#636efa\",\"#636efa\",\"#EF553B\",\"#EF553B\",\"#EF553B\",\"#636efa\",\"#EF553B\",\"#EF553B\",\"#EF553B\",\"#EF553B\",\"#EF553B\",\"#EF553B\",\"#EF553B\",\"#EF553B\",\"#EF553B\",\"#EF553B\",\"#EF553B\",\"#636efa\",\"#EF553B\",\"#636efa\",\"#636efa\",\"#EF553B\",\"#EF553B\",\"#EF553B\",\"#EF553B\",\"#EF553B\",\"#EF553B\",\"#EF553B\",\"#EF553B\",\"#EF553B\",\"#EF553B\",\"#EF553B\",\"#EF553B\",\"#EF553B\",\"#EF553B\",\"#EF553B\",\"#EF553B\",\"#EF553B\",\"#EF553B\",\"#EF553B\",\"#EF553B\",\"#EF553B\",\"#EF553B\",\"#EF553B\",\"#EF553B\",\"#EF553B\",\"#636efa\",\"#636efa\",\"#636efa\",\"#636efa\",\"#636efa\",\"#636efa\",\"#EF553B\"]},\"name\":\"\",\"showlegend\":true,\"type\":\"pie\"}],                        {\"template\":{\"data\":{\"histogram2dcontour\":[{\"type\":\"histogram2dcontour\",\"colorbar\":{\"outlinewidth\":0,\"ticks\":\"\"},\"colorscale\":[[0.0,\"#0d0887\"],[0.1111111111111111,\"#46039f\"],[0.2222222222222222,\"#7201a8\"],[0.3333333333333333,\"#9c179e\"],[0.4444444444444444,\"#bd3786\"],[0.5555555555555556,\"#d8576b\"],[0.6666666666666666,\"#ed7953\"],[0.7777777777777778,\"#fb9f3a\"],[0.8888888888888888,\"#fdca26\"],[1.0,\"#f0f921\"]]}],\"choropleth\":[{\"type\":\"choropleth\",\"colorbar\":{\"outlinewidth\":0,\"ticks\":\"\"}}],\"histogram2d\":[{\"type\":\"histogram2d\",\"colorbar\":{\"outlinewidth\":0,\"ticks\":\"\"},\"colorscale\":[[0.0,\"#0d0887\"],[0.1111111111111111,\"#46039f\"],[0.2222222222222222,\"#7201a8\"],[0.3333333333333333,\"#9c179e\"],[0.4444444444444444,\"#bd3786\"],[0.5555555555555556,\"#d8576b\"],[0.6666666666666666,\"#ed7953\"],[0.7777777777777778,\"#fb9f3a\"],[0.8888888888888888,\"#fdca26\"],[1.0,\"#f0f921\"]]}],\"heatmap\":[{\"type\":\"heatmap\",\"colorbar\":{\"outlinewidth\":0,\"ticks\":\"\"},\"colorscale\":[[0.0,\"#0d0887\"],[0.1111111111111111,\"#46039f\"],[0.2222222222222222,\"#7201a8\"],[0.3333333333333333,\"#9c179e\"],[0.4444444444444444,\"#bd3786\"],[0.5555555555555556,\"#d8576b\"],[0.6666666666666666,\"#ed7953\"],[0.7777777777777778,\"#fb9f3a\"],[0.8888888888888888,\"#fdca26\"],[1.0,\"#f0f921\"]]}],\"heatmapgl\":[{\"type\":\"heatmapgl\",\"colorbar\":{\"outlinewidth\":0,\"ticks\":\"\"},\"colorscale\":[[0.0,\"#0d0887\"],[0.1111111111111111,\"#46039f\"],[0.2222222222222222,\"#7201a8\"],[0.3333333333333333,\"#9c179e\"],[0.4444444444444444,\"#bd3786\"],[0.5555555555555556,\"#d8576b\"],[0.6666666666666666,\"#ed7953\"],[0.7777777777777778,\"#fb9f3a\"],[0.8888888888888888,\"#fdca26\"],[1.0,\"#f0f921\"]]}],\"contourcarpet\":[{\"type\":\"contourcarpet\",\"colorbar\":{\"outlinewidth\":0,\"ticks\":\"\"}}],\"contour\":[{\"type\":\"contour\",\"colorbar\":{\"outlinewidth\":0,\"ticks\":\"\"},\"colorscale\":[[0.0,\"#0d0887\"],[0.1111111111111111,\"#46039f\"],[0.2222222222222222,\"#7201a8\"],[0.3333333333333333,\"#9c179e\"],[0.4444444444444444,\"#bd3786\"],[0.5555555555555556,\"#d8576b\"],[0.6666666666666666,\"#ed7953\"],[0.7777777777777778,\"#fb9f3a\"],[0.8888888888888888,\"#fdca26\"],[1.0,\"#f0f921\"]]}],\"surface\":[{\"type\":\"surface\",\"colorbar\":{\"outlinewidth\":0,\"ticks\":\"\"},\"colorscale\":[[0.0,\"#0d0887\"],[0.1111111111111111,\"#46039f\"],[0.2222222222222222,\"#7201a8\"],[0.3333333333333333,\"#9c179e\"],[0.4444444444444444,\"#bd3786\"],[0.5555555555555556,\"#d8576b\"],[0.6666666666666666,\"#ed7953\"],[0.7777777777777778,\"#fb9f3a\"],[0.8888888888888888,\"#fdca26\"],[1.0,\"#f0f921\"]]}],\"mesh3d\":[{\"type\":\"mesh3d\",\"colorbar\":{\"outlinewidth\":0,\"ticks\":\"\"}}],\"scatter\":[{\"fillpattern\":{\"fillmode\":\"overlay\",\"size\":10,\"solidity\":0.2},\"type\":\"scatter\"}],\"parcoords\":[{\"type\":\"parcoords\",\"line\":{\"colorbar\":{\"outlinewidth\":0,\"ticks\":\"\"}}}],\"scatterpolargl\":[{\"type\":\"scatterpolargl\",\"marker\":{\"colorbar\":{\"outlinewidth\":0,\"ticks\":\"\"}}}],\"bar\":[{\"error_x\":{\"color\":\"#2a3f5f\"},\"error_y\":{\"color\":\"#2a3f5f\"},\"marker\":{\"line\":{\"color\":\"#E5ECF6\",\"width\":0.5},\"pattern\":{\"fillmode\":\"overlay\",\"size\":10,\"solidity\":0.2}},\"type\":\"bar\"}],\"scattergeo\":[{\"type\":\"scattergeo\",\"marker\":{\"colorbar\":{\"outlinewidth\":0,\"ticks\":\"\"}}}],\"scatterpolar\":[{\"type\":\"scatterpolar\",\"marker\":{\"colorbar\":{\"outlinewidth\":0,\"ticks\":\"\"}}}],\"histogram\":[{\"marker\":{\"pattern\":{\"fillmode\":\"overlay\",\"size\":10,\"solidity\":0.2}},\"type\":\"histogram\"}],\"scattergl\":[{\"type\":\"scattergl\",\"marker\":{\"colorbar\":{\"outlinewidth\":0,\"ticks\":\"\"}}}],\"scatter3d\":[{\"type\":\"scatter3d\",\"line\":{\"colorbar\":{\"outlinewidth\":0,\"ticks\":\"\"}},\"marker\":{\"colorbar\":{\"outlinewidth\":0,\"ticks\":\"\"}}}],\"scattermapbox\":[{\"type\":\"scattermapbox\",\"marker\":{\"colorbar\":{\"outlinewidth\":0,\"ticks\":\"\"}}}],\"scatterternary\":[{\"type\":\"scatterternary\",\"marker\":{\"colorbar\":{\"outlinewidth\":0,\"ticks\":\"\"}}}],\"scattercarpet\":[{\"type\":\"scattercarpet\",\"marker\":{\"colorbar\":{\"outlinewidth\":0,\"ticks\":\"\"}}}],\"carpet\":[{\"aaxis\":{\"endlinecolor\":\"#2a3f5f\",\"gridcolor\":\"white\",\"linecolor\":\"white\",\"minorgridcolor\":\"white\",\"startlinecolor\":\"#2a3f5f\"},\"baxis\":{\"endlinecolor\":\"#2a3f5f\",\"gridcolor\":\"white\",\"linecolor\":\"white\",\"minorgridcolor\":\"white\",\"startlinecolor\":\"#2a3f5f\"},\"type\":\"carpet\"}],\"table\":[{\"cells\":{\"fill\":{\"color\":\"#EBF0F8\"},\"line\":{\"color\":\"white\"}},\"header\":{\"fill\":{\"color\":\"#C8D4E3\"},\"line\":{\"color\":\"white\"}},\"type\":\"table\"}],\"barpolar\":[{\"marker\":{\"line\":{\"color\":\"#E5ECF6\",\"width\":0.5},\"pattern\":{\"fillmode\":\"overlay\",\"size\":10,\"solidity\":0.2}},\"type\":\"barpolar\"}],\"pie\":[{\"automargin\":true,\"type\":\"pie\"}]},\"layout\":{\"autotypenumbers\":\"strict\",\"colorway\":[\"#636efa\",\"#EF553B\",\"#00cc96\",\"#ab63fa\",\"#FFA15A\",\"#19d3f3\",\"#FF6692\",\"#B6E880\",\"#FF97FF\",\"#FECB52\"],\"font\":{\"color\":\"#2a3f5f\"},\"hovermode\":\"closest\",\"hoverlabel\":{\"align\":\"left\"},\"paper_bgcolor\":\"white\",\"plot_bgcolor\":\"#E5ECF6\",\"polar\":{\"bgcolor\":\"#E5ECF6\",\"angularaxis\":{\"gridcolor\":\"white\",\"linecolor\":\"white\",\"ticks\":\"\"},\"radialaxis\":{\"gridcolor\":\"white\",\"linecolor\":\"white\",\"ticks\":\"\"}},\"ternary\":{\"bgcolor\":\"#E5ECF6\",\"aaxis\":{\"gridcolor\":\"white\",\"linecolor\":\"white\",\"ticks\":\"\"},\"baxis\":{\"gridcolor\":\"white\",\"linecolor\":\"white\",\"ticks\":\"\"},\"caxis\":{\"gridcolor\":\"white\",\"linecolor\":\"white\",\"ticks\":\"\"}},\"coloraxis\":{\"colorbar\":{\"outlinewidth\":0,\"ticks\":\"\"}},\"colorscale\":{\"sequential\":[[0.0,\"#0d0887\"],[0.1111111111111111,\"#46039f\"],[0.2222222222222222,\"#7201a8\"],[0.3333333333333333,\"#9c179e\"],[0.4444444444444444,\"#bd3786\"],[0.5555555555555556,\"#d8576b\"],[0.6666666666666666,\"#ed7953\"],[0.7777777777777778,\"#fb9f3a\"],[0.8888888888888888,\"#fdca26\"],[1.0,\"#f0f921\"]],\"sequentialminus\":[[0.0,\"#0d0887\"],[0.1111111111111111,\"#46039f\"],[0.2222222222222222,\"#7201a8\"],[0.3333333333333333,\"#9c179e\"],[0.4444444444444444,\"#bd3786\"],[0.5555555555555556,\"#d8576b\"],[0.6666666666666666,\"#ed7953\"],[0.7777777777777778,\"#fb9f3a\"],[0.8888888888888888,\"#fdca26\"],[1.0,\"#f0f921\"]],\"diverging\":[[0,\"#8e0152\"],[0.1,\"#c51b7d\"],[0.2,\"#de77ae\"],[0.3,\"#f1b6da\"],[0.4,\"#fde0ef\"],[0.5,\"#f7f7f7\"],[0.6,\"#e6f5d0\"],[0.7,\"#b8e186\"],[0.8,\"#7fbc41\"],[0.9,\"#4d9221\"],[1,\"#276419\"]]},\"xaxis\":{\"gridcolor\":\"white\",\"linecolor\":\"white\",\"ticks\":\"\",\"title\":{\"standoff\":15},\"zerolinecolor\":\"white\",\"automargin\":true,\"zerolinewidth\":2},\"yaxis\":{\"gridcolor\":\"white\",\"linecolor\":\"white\",\"ticks\":\"\",\"title\":{\"standoff\":15},\"zerolinecolor\":\"white\",\"automargin\":true,\"zerolinewidth\":2},\"scene\":{\"xaxis\":{\"backgroundcolor\":\"#E5ECF6\",\"gridcolor\":\"white\",\"linecolor\":\"white\",\"showbackground\":true,\"ticks\":\"\",\"zerolinecolor\":\"white\",\"gridwidth\":2},\"yaxis\":{\"backgroundcolor\":\"#E5ECF6\",\"gridcolor\":\"white\",\"linecolor\":\"white\",\"showbackground\":true,\"ticks\":\"\",\"zerolinecolor\":\"white\",\"gridwidth\":2},\"zaxis\":{\"backgroundcolor\":\"#E5ECF6\",\"gridcolor\":\"white\",\"linecolor\":\"white\",\"showbackground\":true,\"ticks\":\"\",\"zerolinecolor\":\"white\",\"gridwidth\":2}},\"shapedefaults\":{\"line\":{\"color\":\"#2a3f5f\"}},\"annotationdefaults\":{\"arrowcolor\":\"#2a3f5f\",\"arrowhead\":0,\"arrowwidth\":1},\"geo\":{\"bgcolor\":\"white\",\"landcolor\":\"#E5ECF6\",\"subunitcolor\":\"white\",\"showland\":true,\"showlakes\":true,\"lakecolor\":\"white\"},\"title\":{\"x\":0.05},\"mapbox\":{\"style\":\"light\"}}},\"legend\":{\"tracegroupgap\":0},\"margin\":{\"t\":60}},                        {\"responsive\": true}                    ).then(function(){\n",
       "                            \n",
       "var gd = document.getElementById('25f14ee3-f17c-433c-875d-d1a389c74968');\n",
       "var x = new MutationObserver(function (mutations, observer) {{\n",
       "        var display = window.getComputedStyle(gd).display;\n",
       "        if (!display || display === 'none') {{\n",
       "            console.log([gd, 'removed!']);\n",
       "            Plotly.purge(gd);\n",
       "            observer.disconnect();\n",
       "        }}\n",
       "}});\n",
       "\n",
       "// Listen for the removal of the full notebook cells\n",
       "var notebookContainer = gd.closest('#notebook-container');\n",
       "if (notebookContainer) {{\n",
       "    x.observe(notebookContainer, {childList: true});\n",
       "}}\n",
       "\n",
       "// Listen for the clearing of the current output cell\n",
       "var outputEl = gd.closest('.output');\n",
       "if (outputEl) {{\n",
       "    x.observe(outputEl, {childList: true});\n",
       "}}\n",
       "\n",
       "                        })                };                });            </script>        </div>"
      ]
     },
     "metadata": {},
     "output_type": "display_data"
    }
   ],
   "source": [
    "express.pie(data_frame=df, names='diagnosis', color='diagnosis')"
   ]
  },
  {
   "cell_type": "markdown",
   "id": "934e4da5",
   "metadata": {
    "papermill": {
     "duration": 0.00237,
     "end_time": "2024-03-06T17:40:09.442539",
     "exception": false,
     "start_time": "2024-03-06T17:40:09.440169",
     "status": "completed"
    },
    "tags": []
   },
   "source": [
    "Our classes are unbalanced, with benign tumors outnumbering malignant tumors about 2:1.\n",
    "\n",
    "All of our features are floats, so let's build a regression model that uses all of them."
   ]
  },
  {
   "cell_type": "code",
   "execution_count": 3,
   "id": "22850338",
   "metadata": {
    "execution": {
     "iopub.execute_input": "2024-03-06T17:40:09.449153Z",
     "iopub.status.busy": "2024-03-06T17:40:09.448795Z",
     "iopub.status.idle": "2024-03-06T17:40:11.017603Z",
     "shell.execute_reply": "2024-03-06T17:40:11.016961Z"
    },
    "papermill": {
     "duration": 1.574419,
     "end_time": "2024-03-06T17:40:11.019518",
     "exception": false,
     "start_time": "2024-03-06T17:40:09.445099",
     "status": "completed"
    },
    "tags": []
   },
   "outputs": [
    {
     "name": "stdout",
     "output_type": "stream",
     "text": [
      "accuracy: 0.9649 \n"
     ]
    },
    {
     "data": {
      "text/html": [
       "<div>                            <div id=\"828938f9-1f1c-493d-9ebf-dee6771ae1c9\" class=\"plotly-graph-div\" style=\"height:525px; width:100%;\"></div>            <script type=\"text/javascript\">                require([\"plotly\"], function(Plotly) {                    window.PLOTLYENV=window.PLOTLYENV || {};                                    if (document.getElementById(\"828938f9-1f1c-493d-9ebf-dee6771ae1c9\")) {                    Plotly.newPlot(                        \"828938f9-1f1c-493d-9ebf-dee6771ae1c9\",                        [{\"alignmentgroup\":\"True\",\"bingroup\":\"x\",\"histfunc\":\"sum\",\"hovertemplate\":\"x=%{x}\\u003cbr\\u003esum of y=%{y}\\u003cextra\\u003e\\u003c\\u002fextra\\u003e\",\"legendgroup\":\"\",\"marker\":{\"color\":\"#636efa\",\"pattern\":{\"shape\":\"\"}},\"name\":\"\",\"offsetgroup\":\"\",\"orientation\":\"v\",\"showlegend\":false,\"x\":[\"radius_mean\",\"texture_mean\",\"perimeter_mean\",\"area_mean\",\"smoothness_mean\",\"compactness_mean\",\"concavity_mean\",\"concave_points_mean\",\"symmetry_mean\",\"fractal_dimension_mean\",\"radius_se\",\"texture_se\",\"perimeter_se\",\"area_se\",\"smoothness_se\",\"compactness_se\",\"concavity_se\",\"concave_points_se\",\"symmetry_se\",\"fractal_dimension_se\",\"radius_worst\",\"texture_worst\",\"perimeter_worst\",\"area_worst\",\"smoothness_worst\",\"compactness_worst\",\"concavity_worst\",\"concave_points_worst\",\"symmetry_worst\",\"fractal_dimension_worst\"],\"xaxis\":\"x\",\"y\":[-0.7092497015080129,-0.14985724100221537,0.2594173534457913,-0.025634975652716715,0.15399412342927069,0.19198515756811516,0.36245933932289054,0.2137285843262538,0.16680715131423113,0.02923800079405707,0.0653829111548742,-0.9861031708886738,0.23829733946513815,0.07974926455440857,0.02334271435097549,-0.053807177404142745,0.014680060158132589,0.028863296728849092,0.006659845623180803,-0.012864025413691832,-0.1928050600602162,0.37749164685470027,0.09812337223227338,0.01583914008581645,0.3140594573202436,0.6108480426516306,1.0593563279548814,0.45998386854147344,0.3905645884231519,0.07483294980602707],\"yaxis\":\"y\",\"type\":\"histogram\"}],                        {\"template\":{\"data\":{\"histogram2dcontour\":[{\"type\":\"histogram2dcontour\",\"colorbar\":{\"outlinewidth\":0,\"ticks\":\"\"},\"colorscale\":[[0.0,\"#0d0887\"],[0.1111111111111111,\"#46039f\"],[0.2222222222222222,\"#7201a8\"],[0.3333333333333333,\"#9c179e\"],[0.4444444444444444,\"#bd3786\"],[0.5555555555555556,\"#d8576b\"],[0.6666666666666666,\"#ed7953\"],[0.7777777777777778,\"#fb9f3a\"],[0.8888888888888888,\"#fdca26\"],[1.0,\"#f0f921\"]]}],\"choropleth\":[{\"type\":\"choropleth\",\"colorbar\":{\"outlinewidth\":0,\"ticks\":\"\"}}],\"histogram2d\":[{\"type\":\"histogram2d\",\"colorbar\":{\"outlinewidth\":0,\"ticks\":\"\"},\"colorscale\":[[0.0,\"#0d0887\"],[0.1111111111111111,\"#46039f\"],[0.2222222222222222,\"#7201a8\"],[0.3333333333333333,\"#9c179e\"],[0.4444444444444444,\"#bd3786\"],[0.5555555555555556,\"#d8576b\"],[0.6666666666666666,\"#ed7953\"],[0.7777777777777778,\"#fb9f3a\"],[0.8888888888888888,\"#fdca26\"],[1.0,\"#f0f921\"]]}],\"heatmap\":[{\"type\":\"heatmap\",\"colorbar\":{\"outlinewidth\":0,\"ticks\":\"\"},\"colorscale\":[[0.0,\"#0d0887\"],[0.1111111111111111,\"#46039f\"],[0.2222222222222222,\"#7201a8\"],[0.3333333333333333,\"#9c179e\"],[0.4444444444444444,\"#bd3786\"],[0.5555555555555556,\"#d8576b\"],[0.6666666666666666,\"#ed7953\"],[0.7777777777777778,\"#fb9f3a\"],[0.8888888888888888,\"#fdca26\"],[1.0,\"#f0f921\"]]}],\"heatmapgl\":[{\"type\":\"heatmapgl\",\"colorbar\":{\"outlinewidth\":0,\"ticks\":\"\"},\"colorscale\":[[0.0,\"#0d0887\"],[0.1111111111111111,\"#46039f\"],[0.2222222222222222,\"#7201a8\"],[0.3333333333333333,\"#9c179e\"],[0.4444444444444444,\"#bd3786\"],[0.5555555555555556,\"#d8576b\"],[0.6666666666666666,\"#ed7953\"],[0.7777777777777778,\"#fb9f3a\"],[0.8888888888888888,\"#fdca26\"],[1.0,\"#f0f921\"]]}],\"contourcarpet\":[{\"type\":\"contourcarpet\",\"colorbar\":{\"outlinewidth\":0,\"ticks\":\"\"}}],\"contour\":[{\"type\":\"contour\",\"colorbar\":{\"outlinewidth\":0,\"ticks\":\"\"},\"colorscale\":[[0.0,\"#0d0887\"],[0.1111111111111111,\"#46039f\"],[0.2222222222222222,\"#7201a8\"],[0.3333333333333333,\"#9c179e\"],[0.4444444444444444,\"#bd3786\"],[0.5555555555555556,\"#d8576b\"],[0.6666666666666666,\"#ed7953\"],[0.7777777777777778,\"#fb9f3a\"],[0.8888888888888888,\"#fdca26\"],[1.0,\"#f0f921\"]]}],\"surface\":[{\"type\":\"surface\",\"colorbar\":{\"outlinewidth\":0,\"ticks\":\"\"},\"colorscale\":[[0.0,\"#0d0887\"],[0.1111111111111111,\"#46039f\"],[0.2222222222222222,\"#7201a8\"],[0.3333333333333333,\"#9c179e\"],[0.4444444444444444,\"#bd3786\"],[0.5555555555555556,\"#d8576b\"],[0.6666666666666666,\"#ed7953\"],[0.7777777777777778,\"#fb9f3a\"],[0.8888888888888888,\"#fdca26\"],[1.0,\"#f0f921\"]]}],\"mesh3d\":[{\"type\":\"mesh3d\",\"colorbar\":{\"outlinewidth\":0,\"ticks\":\"\"}}],\"scatter\":[{\"fillpattern\":{\"fillmode\":\"overlay\",\"size\":10,\"solidity\":0.2},\"type\":\"scatter\"}],\"parcoords\":[{\"type\":\"parcoords\",\"line\":{\"colorbar\":{\"outlinewidth\":0,\"ticks\":\"\"}}}],\"scatterpolargl\":[{\"type\":\"scatterpolargl\",\"marker\":{\"colorbar\":{\"outlinewidth\":0,\"ticks\":\"\"}}}],\"bar\":[{\"error_x\":{\"color\":\"#2a3f5f\"},\"error_y\":{\"color\":\"#2a3f5f\"},\"marker\":{\"line\":{\"color\":\"#E5ECF6\",\"width\":0.5},\"pattern\":{\"fillmode\":\"overlay\",\"size\":10,\"solidity\":0.2}},\"type\":\"bar\"}],\"scattergeo\":[{\"type\":\"scattergeo\",\"marker\":{\"colorbar\":{\"outlinewidth\":0,\"ticks\":\"\"}}}],\"scatterpolar\":[{\"type\":\"scatterpolar\",\"marker\":{\"colorbar\":{\"outlinewidth\":0,\"ticks\":\"\"}}}],\"histogram\":[{\"marker\":{\"pattern\":{\"fillmode\":\"overlay\",\"size\":10,\"solidity\":0.2}},\"type\":\"histogram\"}],\"scattergl\":[{\"type\":\"scattergl\",\"marker\":{\"colorbar\":{\"outlinewidth\":0,\"ticks\":\"\"}}}],\"scatter3d\":[{\"type\":\"scatter3d\",\"line\":{\"colorbar\":{\"outlinewidth\":0,\"ticks\":\"\"}},\"marker\":{\"colorbar\":{\"outlinewidth\":0,\"ticks\":\"\"}}}],\"scattermapbox\":[{\"type\":\"scattermapbox\",\"marker\":{\"colorbar\":{\"outlinewidth\":0,\"ticks\":\"\"}}}],\"scatterternary\":[{\"type\":\"scatterternary\",\"marker\":{\"colorbar\":{\"outlinewidth\":0,\"ticks\":\"\"}}}],\"scattercarpet\":[{\"type\":\"scattercarpet\",\"marker\":{\"colorbar\":{\"outlinewidth\":0,\"ticks\":\"\"}}}],\"carpet\":[{\"aaxis\":{\"endlinecolor\":\"#2a3f5f\",\"gridcolor\":\"white\",\"linecolor\":\"white\",\"minorgridcolor\":\"white\",\"startlinecolor\":\"#2a3f5f\"},\"baxis\":{\"endlinecolor\":\"#2a3f5f\",\"gridcolor\":\"white\",\"linecolor\":\"white\",\"minorgridcolor\":\"white\",\"startlinecolor\":\"#2a3f5f\"},\"type\":\"carpet\"}],\"table\":[{\"cells\":{\"fill\":{\"color\":\"#EBF0F8\"},\"line\":{\"color\":\"white\"}},\"header\":{\"fill\":{\"color\":\"#C8D4E3\"},\"line\":{\"color\":\"white\"}},\"type\":\"table\"}],\"barpolar\":[{\"marker\":{\"line\":{\"color\":\"#E5ECF6\",\"width\":0.5},\"pattern\":{\"fillmode\":\"overlay\",\"size\":10,\"solidity\":0.2}},\"type\":\"barpolar\"}],\"pie\":[{\"automargin\":true,\"type\":\"pie\"}]},\"layout\":{\"autotypenumbers\":\"strict\",\"colorway\":[\"#636efa\",\"#EF553B\",\"#00cc96\",\"#ab63fa\",\"#FFA15A\",\"#19d3f3\",\"#FF6692\",\"#B6E880\",\"#FF97FF\",\"#FECB52\"],\"font\":{\"color\":\"#2a3f5f\"},\"hovermode\":\"closest\",\"hoverlabel\":{\"align\":\"left\"},\"paper_bgcolor\":\"white\",\"plot_bgcolor\":\"#E5ECF6\",\"polar\":{\"bgcolor\":\"#E5ECF6\",\"angularaxis\":{\"gridcolor\":\"white\",\"linecolor\":\"white\",\"ticks\":\"\"},\"radialaxis\":{\"gridcolor\":\"white\",\"linecolor\":\"white\",\"ticks\":\"\"}},\"ternary\":{\"bgcolor\":\"#E5ECF6\",\"aaxis\":{\"gridcolor\":\"white\",\"linecolor\":\"white\",\"ticks\":\"\"},\"baxis\":{\"gridcolor\":\"white\",\"linecolor\":\"white\",\"ticks\":\"\"},\"caxis\":{\"gridcolor\":\"white\",\"linecolor\":\"white\",\"ticks\":\"\"}},\"coloraxis\":{\"colorbar\":{\"outlinewidth\":0,\"ticks\":\"\"}},\"colorscale\":{\"sequential\":[[0.0,\"#0d0887\"],[0.1111111111111111,\"#46039f\"],[0.2222222222222222,\"#7201a8\"],[0.3333333333333333,\"#9c179e\"],[0.4444444444444444,\"#bd3786\"],[0.5555555555555556,\"#d8576b\"],[0.6666666666666666,\"#ed7953\"],[0.7777777777777778,\"#fb9f3a\"],[0.8888888888888888,\"#fdca26\"],[1.0,\"#f0f921\"]],\"sequentialminus\":[[0.0,\"#0d0887\"],[0.1111111111111111,\"#46039f\"],[0.2222222222222222,\"#7201a8\"],[0.3333333333333333,\"#9c179e\"],[0.4444444444444444,\"#bd3786\"],[0.5555555555555556,\"#d8576b\"],[0.6666666666666666,\"#ed7953\"],[0.7777777777777778,\"#fb9f3a\"],[0.8888888888888888,\"#fdca26\"],[1.0,\"#f0f921\"]],\"diverging\":[[0,\"#8e0152\"],[0.1,\"#c51b7d\"],[0.2,\"#de77ae\"],[0.3,\"#f1b6da\"],[0.4,\"#fde0ef\"],[0.5,\"#f7f7f7\"],[0.6,\"#e6f5d0\"],[0.7,\"#b8e186\"],[0.8,\"#7fbc41\"],[0.9,\"#4d9221\"],[1,\"#276419\"]]},\"xaxis\":{\"gridcolor\":\"white\",\"linecolor\":\"white\",\"ticks\":\"\",\"title\":{\"standoff\":15},\"zerolinecolor\":\"white\",\"automargin\":true,\"zerolinewidth\":2},\"yaxis\":{\"gridcolor\":\"white\",\"linecolor\":\"white\",\"ticks\":\"\",\"title\":{\"standoff\":15},\"zerolinecolor\":\"white\",\"automargin\":true,\"zerolinewidth\":2},\"scene\":{\"xaxis\":{\"backgroundcolor\":\"#E5ECF6\",\"gridcolor\":\"white\",\"linecolor\":\"white\",\"showbackground\":true,\"ticks\":\"\",\"zerolinecolor\":\"white\",\"gridwidth\":2},\"yaxis\":{\"backgroundcolor\":\"#E5ECF6\",\"gridcolor\":\"white\",\"linecolor\":\"white\",\"showbackground\":true,\"ticks\":\"\",\"zerolinecolor\":\"white\",\"gridwidth\":2},\"zaxis\":{\"backgroundcolor\":\"#E5ECF6\",\"gridcolor\":\"white\",\"linecolor\":\"white\",\"showbackground\":true,\"ticks\":\"\",\"zerolinecolor\":\"white\",\"gridwidth\":2}},\"shapedefaults\":{\"line\":{\"color\":\"#2a3f5f\"}},\"annotationdefaults\":{\"arrowcolor\":\"#2a3f5f\",\"arrowhead\":0,\"arrowwidth\":1},\"geo\":{\"bgcolor\":\"white\",\"landcolor\":\"#E5ECF6\",\"subunitcolor\":\"white\",\"showland\":true,\"showlakes\":true,\"lakecolor\":\"white\"},\"title\":{\"x\":0.05},\"mapbox\":{\"style\":\"light\"}}},\"xaxis\":{\"anchor\":\"y\",\"domain\":[0.0,1.0],\"title\":{\"text\":\"x\"}},\"yaxis\":{\"anchor\":\"x\",\"domain\":[0.0,1.0],\"title\":{\"text\":\"sum of y\"}},\"legend\":{\"tracegroupgap\":0},\"margin\":{\"t\":60},\"barmode\":\"relative\"},                        {\"responsive\": true}                    ).then(function(){\n",
       "                            \n",
       "var gd = document.getElementById('828938f9-1f1c-493d-9ebf-dee6771ae1c9');\n",
       "var x = new MutationObserver(function (mutations, observer) {{\n",
       "        var display = window.getComputedStyle(gd).display;\n",
       "        if (!display || display === 'none') {{\n",
       "            console.log([gd, 'removed!']);\n",
       "            Plotly.purge(gd);\n",
       "            observer.disconnect();\n",
       "        }}\n",
       "}});\n",
       "\n",
       "// Listen for the removal of the full notebook cells\n",
       "var notebookContainer = gd.closest('#notebook-container');\n",
       "if (notebookContainer) {{\n",
       "    x.observe(notebookContainer, {childList: true});\n",
       "}}\n",
       "\n",
       "// Listen for the clearing of the current output cell\n",
       "var outputEl = gd.closest('.output');\n",
       "if (outputEl) {{\n",
       "    x.observe(outputEl, {childList: true});\n",
       "}}\n",
       "\n",
       "                        })                };                });            </script>        </div>"
      ]
     },
     "metadata": {},
     "output_type": "display_data"
    }
   ],
   "source": [
    "from sklearn.linear_model import LogisticRegression\n",
    "from sklearn.model_selection import train_test_split\n",
    "from sklearn.metrics import accuracy_score\n",
    "\n",
    "columns = ['radius_mean', 'texture_mean', 'perimeter_mean', 'area_mean', 'smoothness_mean', 'compactness_mean', 'concavity_mean',\n",
    "           'concave_points_mean', 'symmetry_mean', 'fractal_dimension_mean', 'radius_se', 'texture_se', 'perimeter_se', 'area_se', 'smoothness_se',\n",
    "           'compactness_se', 'concavity_se', 'concave_points_se', 'symmetry_se', 'fractal_dimension_se', 'radius_worst', 'texture_worst',\n",
    "           'perimeter_worst', 'area_worst', 'smoothness_worst', 'compactness_worst', 'concavity_worst', 'concave_points_worst',\n",
    "           'symmetry_worst', 'fractal_dimension_worst']\n",
    "target = 'diagnosis'\n",
    "\n",
    "X_train, X_test, y_train, y_test = train_test_split(df[columns], df[target], test_size=0.2, random_state=2024, stratify=df[target])\n",
    "\n",
    "regression = LogisticRegression(max_iter=100000)\n",
    "regression.fit(X=X_train, y=y_train)\n",
    "print('accuracy: {:5.4f} '.format(regression.score(X=X_test, y=y_test)))\n",
    "express.histogram(y=regression.coef_.tolist()[0], x=columns).show(validate=True)"
   ]
  },
  {
   "cell_type": "code",
   "execution_count": 4,
   "id": "4dcfc4f2",
   "metadata": {
    "execution": {
     "iopub.execute_input": "2024-03-06T17:40:11.028712Z",
     "iopub.status.busy": "2024-03-06T17:40:11.028219Z",
     "iopub.status.idle": "2024-03-06T17:40:11.044461Z",
     "shell.execute_reply": "2024-03-06T17:40:11.043465Z"
    },
    "papermill": {
     "duration": 0.023009,
     "end_time": "2024-03-06T17:40:11.046150",
     "exception": false,
     "start_time": "2024-03-06T17:40:11.023141",
     "status": "completed"
    },
    "tags": []
   },
   "outputs": [
    {
     "name": "stdout",
     "output_type": "stream",
     "text": [
      "              precision    recall  f1-score   support\n",
      "\n",
      "           B       0.99      0.96      0.97        72\n",
      "           M       0.93      0.98      0.95        42\n",
      "\n",
      "    accuracy                           0.96       114\n",
      "   macro avg       0.96      0.97      0.96       114\n",
      "weighted avg       0.97      0.96      0.97       114\n",
      "\n"
     ]
    }
   ],
   "source": [
    "from sklearn.metrics import classification_report\n",
    "print(classification_report(y_true=y_test, y_pred=regression.predict(X=X_test)))"
   ]
  },
  {
   "cell_type": "markdown",
   "id": "949fd1ce",
   "metadata": {
    "papermill": {
     "duration": 0.002512,
     "end_time": "2024-03-06T17:40:11.051698",
     "exception": false,
     "start_time": "2024-03-06T17:40:11.049186",
     "status": "completed"
    },
    "tags": []
   },
   "source": [
    "Our model does roughly equally well for both benign and malignant tumors."
   ]
  }
 ],
 "metadata": {
  "kaggle": {
   "accelerator": "none",
   "dataSources": [
    {
     "datasetId": 4523562,
     "sourceId": 7739531,
     "sourceType": "datasetVersion"
    }
   ],
   "dockerImageVersionId": 30664,
   "isGpuEnabled": false,
   "isInternetEnabled": true,
   "language": "python",
   "sourceType": "notebook"
  },
  "kernelspec": {
   "display_name": "Python 3",
   "language": "python",
   "name": "python3"
  },
  "language_info": {
   "codemirror_mode": {
    "name": "ipython",
    "version": 3
   },
   "file_extension": ".py",
   "mimetype": "text/x-python",
   "name": "python",
   "nbconvert_exporter": "python",
   "pygments_lexer": "ipython3",
   "version": "3.10.13"
  },
  "papermill": {
   "default_parameters": {},
   "duration": 7.144323,
   "end_time": "2024-03-06T17:40:11.573065",
   "environment_variables": {},
   "exception": null,
   "input_path": "__notebook__.ipynb",
   "output_path": "__notebook__.ipynb",
   "parameters": {},
   "start_time": "2024-03-06T17:40:04.428742",
   "version": "2.5.0"
  }
 },
 "nbformat": 4,
 "nbformat_minor": 5
}
