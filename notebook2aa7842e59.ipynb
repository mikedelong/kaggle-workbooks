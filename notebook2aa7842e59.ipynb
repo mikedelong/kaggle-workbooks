{
 "cells": [
  {
   "cell_type": "code",
   "execution_count": 1,
   "id": "4d2b5780",
   "metadata": {
    "_cell_guid": "b1076dfc-b9ad-4769-8c92-a6c4dae69d19",
    "_uuid": "8f2839f25d086af736a60e9eeb907d3b93b6e0e5",
    "execution": {
     "iopub.execute_input": "2025-05-08T19:48:48.395131Z",
     "iopub.status.busy": "2025-05-08T19:48:48.394422Z",
     "iopub.status.idle": "2025-05-08T19:48:48.534961Z",
     "shell.execute_reply": "2025-05-08T19:48:48.534087Z"
    },
    "papermill": {
     "duration": 0.145577,
     "end_time": "2025-05-08T19:48:48.536838",
     "exception": false,
     "start_time": "2025-05-08T19:48:48.391261",
     "status": "completed"
    },
    "tags": []
   },
   "outputs": [
    {
     "name": "stdout",
     "output_type": "stream",
     "text": [
      "1    12  18  23  29  34  4   45  50  56  61  67  72  78  83  89  94\r\n",
      "10   13  19  24  3   35  40  46  51  57  62  68  73  79  84  9\t 95\r\n",
      "100  14  2   25  30  36  41  47  52  58  63  69  74  8\t 85  90  96\r\n",
      "101  15  20  26  31  37  42  48  53  59  64  7\t 75  80  86  91  97\r\n",
      "102  16  21  27  32  38  43  49  54  6\t 65  70  76  81  87  92  98\r\n",
      "11   17  22  28  33  39  44  5\t 55  60  66  71  77  82  88  93  99\r\n"
     ]
    }
   ],
   "source": [
    "!ls '/kaggle/input/flower-classification-dataset/Flower Classification Dataset/train/'"
   ]
  },
  {
   "cell_type": "code",
   "execution_count": 2,
   "id": "6647a17d",
   "metadata": {
    "execution": {
     "iopub.execute_input": "2025-05-08T19:48:48.541585Z",
     "iopub.status.busy": "2025-05-08T19:48:48.541321Z",
     "iopub.status.idle": "2025-05-08T19:49:00.393624Z",
     "shell.execute_reply": "2025-05-08T19:49:00.392879Z"
    },
    "papermill": {
     "duration": 11.85642,
     "end_time": "2025-05-08T19:49:00.395252",
     "exception": false,
     "start_time": "2025-05-08T19:48:48.538832",
     "status": "completed"
    },
    "tags": []
   },
   "outputs": [
    {
     "name": "stderr",
     "output_type": "stream",
     "text": [
      "Downloading: \"https://download.pytorch.org/models/resnext50_32x4d-1a0047aa.pth\" to /root/.cache/torch/hub/checkpoints/resnext50_32x4d-1a0047aa.pth\n",
      "100%|██████████| 95.8M/95.8M [00:01<00:00, 65.1MB/s]\n"
     ]
    }
   ],
   "source": [
    "import torch\n",
    "import torchvision.models as models\n",
    "import torchvision.transforms as transforms\n",
    "import numpy as np\n",
    "\n",
    "\n",
    "DEVICE = torch.device('cpu')\n",
    "OUTPUT_SIZE = 2048\n",
    "\n",
    "model = models.resnext50_32x4d(weights=models.ResNeXt50_32X4D_Weights.IMAGENET1K_V2)\n",
    "\n",
    "extraction_layer = model._modules.get('avgpool')\n",
    "model.to(DEVICE)\n",
    "model.eval()\n",
    "\n",
    "scaler = transforms.Resize((224, 224))\n",
    "normalize = transforms.Normalize(mean=[0.485, 0.456, 0.406], std=[0.229, 0.224, 0.225])\n",
    "to_tensor = transforms.ToTensor()\n",
    "\n",
    "def get_vec(arg, model, extraction_layer):\n",
    "    image = normalize(to_tensor(scaler(arg))).unsqueeze(0).to(DEVICE)\n",
    "    result = torch.zeros(1, OUTPUT_SIZE, 1, 1)\n",
    "    def copy_data(m, i, o):\n",
    "        result.copy_(o.data)\n",
    "    hooked = extraction_layer.register_forward_hook(copy_data)\n",
    "    with torch.no_grad():\n",
    "        model(image)\n",
    "    hooked.remove()\n",
    "    return result"
   ]
  },
  {
   "cell_type": "code",
   "execution_count": 3,
   "id": "dbf9e83f",
   "metadata": {
    "execution": {
     "iopub.execute_input": "2025-05-08T19:49:00.401116Z",
     "iopub.status.busy": "2025-05-08T19:49:00.400482Z",
     "iopub.status.idle": "2025-05-08T19:56:40.921310Z",
     "shell.execute_reply": "2025-05-08T19:56:40.920484Z"
    },
    "papermill": {
     "duration": 460.530785,
     "end_time": "2025-05-08T19:56:40.928443",
     "exception": false,
     "start_time": "2025-05-08T19:49:00.397658",
     "status": "completed"
    },
    "tags": []
   },
   "outputs": [
    {
     "name": "stdout",
     "output_type": "stream",
     "text": [
      "encoded 22 rows of 7  in 0:00:02.618534\n",
      "encoded 32 rows of 47  in 0:00:03.513001\n",
      "encoded 41 rows of 17  in 0:00:04.514302\n",
      "encoded 81 rows of 81  in 0:00:09.448197\n",
      "encoded 24 rows of 19  in 0:00:02.663498\n",
      "encoded 29 rows of 22  in 0:00:03.143883\n",
      "encoded 30 rows of 2  in 0:00:03.310213\n",
      "encoded 17 rows of 35  in 0:00:01.937620\n",
      "encoded 28 rows of 92  in 0:00:03.159455\n",
      "encoded 53 rows of 50  in 0:00:05.921131\n",
      "encoded 49 rows of 23  in 0:00:05.748875\n",
      "encoded 25 rows of 87  in 0:00:02.946764\n",
      "encoded 26 rows of 10  in 0:00:02.937495\n",
      "encoded 27 rows of 5  in 0:00:02.935617\n",
      "encoded 29 rows of 61  in 0:00:03.148363\n",
      "encoded 39 rows of 36  in 0:00:04.258922\n",
      "encoded 27 rows of 20  in 0:00:02.924278\n",
      "encoded 17 rows of 45  in 0:00:01.845456\n",
      "encoded 49 rows of 60  in 0:00:05.379466\n",
      "encoded 25 rows of 27  in 0:00:02.748596\n",
      "encoded 29 rows of 64  in 0:00:03.767951\n",
      "encoded 66 rows of 41  in 0:00:07.237292\n",
      "encoded 96 rows of 89  in 0:00:10.449535\n",
      "encoded 18 rows of 39  in 0:00:01.951224\n",
      "encoded 22 rows of 32  in 0:00:02.445615\n",
      "encoded 44 rows of 98  in 0:00:04.755351\n",
      "encoded 20 rows of 25  in 0:00:02.185387\n",
      "encoded 23 rows of 42  in 0:00:03.101424\n",
      "encoded 43 rows of 52  in 0:00:04.757740\n",
      "encoded 60 rows of 75  in 0:00:06.617801\n",
      "encoded 41 rows of 8  in 0:00:04.526862\n",
      "encoded 26 rows of 38  in 0:00:02.862303\n",
      "encoded 49 rows of 12  in 0:00:05.435625\n",
      "encoded 84 rows of 94  in 0:00:09.784244\n",
      "encoded 36 rows of 55  in 0:00:03.935894\n",
      "encoded 27 rows of 49  in 0:00:02.949891\n",
      "encoded 28 rows of 31  in 0:00:03.025174\n",
      "encoded 27 rows of 62  in 0:00:02.946021\n",
      "encoded 52 rows of 53  in 0:00:05.762538\n",
      "encoded 24 rows of 101  in 0:00:02.637465\n",
      "encoded 23 rows of 70  in 0:00:02.553805\n",
      "encoded 17 rows of 34  in 0:00:01.899121\n",
      "encoded 44 rows of 18  in 0:00:05.415474\n",
      "encoded 24 rows of 79  in 0:00:02.678362\n",
      "encoded 41 rows of 85  in 0:00:04.547857\n",
      "encoded 80 rows of 88  in 0:00:08.847179\n",
      "encoded 50 rows of 65  in 0:00:05.529378\n",
      "encoded 19 rows of 67  in 0:00:02.097661\n",
      "encoded 75 rows of 78  in 0:00:08.894866\n",
      "encoded 27 rows of 28  in 0:00:03.045524\n",
      "encoded 40 rows of 66  in 0:00:04.354929\n",
      "encoded 54 rows of 56  in 0:00:05.841123\n",
      "encoded 55 rows of 72  in 0:00:06.013125\n",
      "encoded 21 rows of 16  in 0:00:02.380477\n",
      "encoded 21 rows of 13  in 0:00:02.389959\n",
      "encoded 31 rows of 99  in 0:00:03.361751\n",
      "encoded 21 rows of 26  in 0:00:02.499771\n",
      "encoded 89 rows of 74  in 0:00:10.118237\n",
      "encoded 27 rows of 15  in 0:00:03.029878\n",
      "encoded 19 rows of 3  in 0:00:02.164819\n",
      "encoded 39 rows of 90  in 0:00:04.313913\n",
      "encoded 27 rows of 69  in 0:00:03.025550\n",
      "encoded 121 rows of 77  in 0:00:13.877352\n",
      "encoded 26 rows of 102  in 0:00:02.838037\n",
      "encoded 31 rows of 86  in 0:00:03.405734\n",
      "encoded 62 rows of 95  in 0:00:06.753356\n",
      "encoded 73 rows of 43  in 0:00:08.103170\n",
      "encoded 37 rows of 91  in 0:00:04.143521\n",
      "encoded 37 rows of 71  in 0:00:04.685749\n",
      "encoded 20 rows of 1  in 0:00:02.199574\n",
      "encoded 64 rows of 58  in 0:00:07.070629\n",
      "encoded 27 rows of 59  in 0:00:02.961677\n",
      "encoded 37 rows of 97  in 0:00:04.083159\n",
      "encoded 39 rows of 30  in 0:00:04.266647\n",
      "encoded 23 rows of 14  in 0:00:02.514682\n",
      "encoded 54 rows of 76  in 0:00:05.911960\n",
      "encoded 39 rows of 84  in 0:00:04.843980\n",
      "encoded 29 rows of 4  in 0:00:03.247322\n",
      "encoded 57 rows of 83  in 0:00:06.273335\n",
      "encoded 61 rows of 82  in 0:00:06.734005\n",
      "encoded 39 rows of 57  in 0:00:04.255283\n",
      "encoded 23 rows of 9  in 0:00:02.627094\n",
      "encoded 48 rows of 96  in 0:00:05.486060\n",
      "encoded 96 rows of 46  in 0:00:10.802319\n",
      "encoded 21 rows of 21  in 0:00:02.339146\n",
      "encoded 46 rows of 44  in 0:00:04.966996\n",
      "encoded 32 rows of 40  in 0:00:03.450287\n",
      "encoded 47 rows of 80  in 0:00:05.089418\n",
      "encoded 24 rows of 6  in 0:00:02.614693\n",
      "encoded 40 rows of 11  in 0:00:04.896552\n",
      "encoded 28 rows of 68  in 0:00:03.026646\n",
      "encoded 22 rows of 63  in 0:00:02.437217\n",
      "encoded 58 rows of 37  in 0:00:06.271390\n",
      "encoded 131 rows of 51  in 0:00:14.078894\n",
      "encoded 30 rows of 33  in 0:00:03.268642\n",
      "encoded 24 rows of 100  in 0:00:03.102850\n",
      "encoded 22 rows of 54  in 0:00:02.372415\n",
      "encoded 30 rows of 48  in 0:00:03.234832\n",
      "encoded 43 rows of 29  in 0:00:04.661447\n",
      "encoded 18 rows of 24  in 0:00:01.951983\n",
      "encoded 89 rows of 73  in 0:00:09.575712\n",
      "encoded 25 rows of 93  in 0:00:02.695176\n",
      "done in 0:07:38.804448\n"
     ]
    }
   ],
   "source": [
    "import arrow\n",
    "import base64\n",
    "import pandas as pd\n",
    "from glob import iglob\n",
    "from io import BytesIO\n",
    "from os.path import basename\n",
    "from PIL import Image\n",
    "\n",
    "THUMBNAIL_SIZE = (64, 64)\n",
    "TRAIN = '/kaggle/input/flower-classification-dataset/Flower Classification Dataset/train/'\n",
    "\n",
    "\n",
    "def embed(model, filename: str):\n",
    "    with Image.open(fp=filename, mode='r') as image:\n",
    "        return get_vec(arg=image.convert('RGB'), model=model, extraction_layer=extraction_layer).numpy().reshape(OUTPUT_SIZE,)\n",
    "\n",
    "\n",
    "# https://stackoverflow.com/a/952952\n",
    "def flatten(arg):\n",
    "    return [x for xs in arg for x in xs]\n",
    "\n",
    "def png(filename: str) -> str:\n",
    "    with Image.open(fp=filename, mode='r') as image:\n",
    "        buffer = BytesIO()\n",
    "        # our images are pretty big; let's shrink the hover images to thumbnail size\n",
    "        image.resize(size=THUMBNAIL_SIZE).convert('RGB').save(buffer, format='png')\n",
    "        return 'data:image/png;base64,' + base64.b64encode(buffer.getvalue()).decode()\n",
    "\n",
    "def label(filename: str) -> str:\n",
    "    pieces = filename.split('.')\n",
    "    filename = '.'.join(pieces[:-1]) + '.txt'\n",
    "    pieces = filename.split('/')\n",
    "    pieces = [piece if piece != 'images' else 'labels' for piece in pieces]\n",
    "    filename = '/'.join(pieces)\n",
    "    with open(file=filename, mode='r') as fp:\n",
    "        return fp.readlines()[0].split(' ')[0]\n",
    "    \n",
    "\n",
    "def get_picture_from_glob(arg: str, tag: str,) -> list:\n",
    "    time_get = arrow.now()\n",
    "    result = [pd.Series(data=[tag, basename(input_file), embed(model=model, filename=input_file), png(filename=input_file)],\n",
    "                        index=['tag', 'name', 'value', 'png'])\n",
    "        for index, input_file in enumerate(list(iglob(pathname=arg))) if (input_file.endswith('.jpg')) and index < 500]\n",
    "    print('encoded {} rows of {}  in {}'.format(len(result), tag, arrow.now() - time_get))\n",
    "    return result\n",
    "\n",
    "time_start = arrow.now()\n",
    "train_dict = {basename(folder) : folder + '/*.*' for folder in iglob(TRAIN + '/*')}\n",
    "train_df = pd.DataFrame(data=flatten(arg=[get_picture_from_glob(arg=value, tag=key) for key, value in train_dict.items()]))\n",
    "print('done in {}'.format(arrow.now() - time_start))"
   ]
  }
 ],
 "metadata": {
  "kaggle": {
   "accelerator": "none",
   "dataSources": [
    {
     "datasetId": 7276487,
     "sourceId": 11602020,
     "sourceType": "datasetVersion"
    }
   ],
   "dockerImageVersionId": 31012,
   "isGpuEnabled": false,
   "isInternetEnabled": true,
   "language": "python",
   "sourceType": "notebook"
  },
  "kernelspec": {
   "display_name": "Python 3",
   "language": "python",
   "name": "python3"
  },
  "language_info": {
   "codemirror_mode": {
    "name": "ipython",
    "version": 3
   },
   "file_extension": ".py",
   "mimetype": "text/x-python",
   "name": "python",
   "nbconvert_exporter": "python",
   "pygments_lexer": "ipython3",
   "version": "3.11.11"
  },
  "papermill": {
   "default_parameters": {},
   "duration": 479.211892,
   "end_time": "2025-05-08T19:56:43.430825",
   "environment_variables": {},
   "exception": null,
   "input_path": "__notebook__.ipynb",
   "output_path": "__notebook__.ipynb",
   "parameters": {},
   "start_time": "2025-05-08T19:48:44.218933",
   "version": "2.6.0"
  }
 },
 "nbformat": 4,
 "nbformat_minor": 5
}
