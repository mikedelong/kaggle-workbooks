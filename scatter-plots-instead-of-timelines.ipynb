{
 "cells": [
  {
   "cell_type": "code",
   "execution_count": 1,
   "id": "47a89b17",
   "metadata": {
    "_cell_guid": "b1076dfc-b9ad-4769-8c92-a6c4dae69d19",
    "_uuid": "8f2839f25d086af736a60e9eeb907d3b93b6e0e5",
    "execution": {
     "iopub.execute_input": "2024-02-27T14:59:41.375017Z",
     "iopub.status.busy": "2024-02-27T14:59:41.374554Z",
     "iopub.status.idle": "2024-02-27T14:59:42.550277Z",
     "shell.execute_reply": "2024-02-27T14:59:42.549123Z"
    },
    "papermill": {
     "duration": 1.184454,
     "end_time": "2024-02-27T14:59:42.552707",
     "exception": false,
     "start_time": "2024-02-27T14:59:41.368253",
     "status": "completed"
    },
    "tags": []
   },
   "outputs": [
    {
     "data": {
      "text/html": [
       "<div>\n",
       "<style scoped>\n",
       "    .dataframe tbody tr th:only-of-type {\n",
       "        vertical-align: middle;\n",
       "    }\n",
       "\n",
       "    .dataframe tbody tr th {\n",
       "        vertical-align: top;\n",
       "    }\n",
       "\n",
       "    .dataframe thead th {\n",
       "        text-align: right;\n",
       "    }\n",
       "</style>\n",
       "<table border=\"1\" class=\"dataframe\">\n",
       "  <thead>\n",
       "    <tr style=\"text-align: right;\">\n",
       "      <th></th>\n",
       "      <th>year_birth</th>\n",
       "      <th>person</th>\n",
       "      <th>description</th>\n",
       "      <th>year_death</th>\n",
       "    </tr>\n",
       "  </thead>\n",
       "  <tbody>\n",
       "    <tr>\n",
       "      <th>0</th>\n",
       "      <td>1468</td>\n",
       "      <td>Pope Paul III</td>\n",
       "      <td>NaN</td>\n",
       "      <td>1549.0</td>\n",
       "    </tr>\n",
       "    <tr>\n",
       "      <th>1</th>\n",
       "      <td>1528</td>\n",
       "      <td>Albert V</td>\n",
       "      <td>Duke of Bavaria</td>\n",
       "      <td>1579.0</td>\n",
       "    </tr>\n",
       "    <tr>\n",
       "      <th>2</th>\n",
       "      <td>1528</td>\n",
       "      <td>Domingo Báñez</td>\n",
       "      <td>Spanish theologian</td>\n",
       "      <td>1604.0</td>\n",
       "    </tr>\n",
       "    <tr>\n",
       "      <th>3</th>\n",
       "      <td>1572</td>\n",
       "      <td>Edward Cecil</td>\n",
       "      <td>1st Viscount Wimbledon</td>\n",
       "      <td>1638.0</td>\n",
       "    </tr>\n",
       "    <tr>\n",
       "      <th>4</th>\n",
       "      <td>1576</td>\n",
       "      <td>Antonio Neri</td>\n",
       "      <td>Florentine priest and glassmaker</td>\n",
       "      <td>1614.0</td>\n",
       "    </tr>\n",
       "  </tbody>\n",
       "</table>\n",
       "</div>"
      ],
      "text/plain": [
       "   year_birth          person                        description  year_death\n",
       "0        1468  Pope Paul III                                 NaN      1549.0\n",
       "1        1528        Albert V                   Duke of Bavaria       1579.0\n",
       "2        1528   Domingo Báñez                Spanish theologian       1604.0\n",
       "3        1572    Edward Cecil            1st Viscount Wimbledon       1638.0\n",
       "4        1576    Antonio Neri  Florentine priest and glassmaker       1614.0"
      ]
     },
     "execution_count": 1,
     "metadata": {},
     "output_type": "execute_result"
    }
   ],
   "source": [
    "import pandas as pd\n",
    "from warnings import filterwarnings\n",
    "filterwarnings(action='ignore', category=FutureWarning)\n",
    "\n",
    "BIRTHS = '/kaggle/input/leap-year-days/births.csv'\n",
    "births_df = pd.read_csv(filepath_or_buffer=BIRTHS)\n",
    "births_df.head()"
   ]
  },
  {
   "cell_type": "markdown",
   "id": "b39afe6e",
   "metadata": {
    "papermill": {
     "duration": 0.003562,
     "end_time": "2024-02-27T14:59:42.560448",
     "exception": false,
     "start_time": "2024-02-27T14:59:42.556886",
     "status": "completed"
    },
    "tags": []
   },
   "source": [
    "We have a couple of challenges in visualizing this dataset:\n",
    "* The dataset leans heavily toward the last century \n",
    "* A significant number of people are still alive\n",
    "* The early dates are out of range for pandas dates"
   ]
  },
  {
   "cell_type": "code",
   "execution_count": 2,
   "id": "6896497c",
   "metadata": {
    "execution": {
     "iopub.execute_input": "2024-02-27T14:59:42.570195Z",
     "iopub.status.busy": "2024-02-27T14:59:42.569453Z",
     "iopub.status.idle": "2024-02-27T14:59:45.237769Z",
     "shell.execute_reply": "2024-02-27T14:59:45.236255Z"
    },
    "papermill": {
     "duration": 2.676769,
     "end_time": "2024-02-27T14:59:45.240961",
     "exception": false,
     "start_time": "2024-02-27T14:59:42.564192",
     "status": "completed"
    },
    "tags": []
   },
   "outputs": [
    {
     "data": {
      "text/html": [
       "        <script type=\"text/javascript\">\n",
       "        window.PlotlyConfig = {MathJaxConfig: 'local'};\n",
       "        if (window.MathJax && window.MathJax.Hub && window.MathJax.Hub.Config) {window.MathJax.Hub.Config({SVG: {font: \"STIX-Web\"}});}\n",
       "        if (typeof require !== 'undefined') {\n",
       "        require.undef(\"plotly\");\n",
       "        requirejs.config({\n",
       "            paths: {\n",
       "                'plotly': ['https://cdn.plot.ly/plotly-2.27.0.min']\n",
       "            }\n",
       "        });\n",
       "        require(['plotly'], function(Plotly) {\n",
       "            window._Plotly = Plotly;\n",
       "        });\n",
       "        }\n",
       "        </script>\n",
       "        "
      ]
     },
     "metadata": {},
     "output_type": "display_data"
    },
    {
     "data": {
      "text/html": [
       "<div>                            <div id=\"fae77f34-cb90-4bc7-8b5d-335f657993c4\" class=\"plotly-graph-div\" style=\"height:525px; width:100%;\"></div>            <script type=\"text/javascript\">                require([\"plotly\"], function(Plotly) {                    window.PLOTLYENV=window.PLOTLYENV || {};                                    if (document.getElementById(\"fae77f34-cb90-4bc7-8b5d-335f657993c4\")) {                    Plotly.newPlot(                        \"fae77f34-cb90-4bc7-8b5d-335f657993c4\",                        [{\"hovertemplate\":\"\\u003cb\\u003e%{hovertext}\\u003c\\u002fb\\u003e\\u003cbr\\u003e\\u003cbr\\u003eyear_birth=%{marker.color}\\u003cbr\\u003eyear_death=%{y}\\u003cextra\\u003e\\u003c\\u002fextra\\u003e\",\"hovertext\":[\"Pope Paul III \",\"Albert V\",\"Domingo Báñez\",\"Edward Cecil\",\"Antonio Neri\",\"Benjamin Keach\",\"John Byrom\",\"Eva Marie Veigel\",\"Ann Lee\",\"Gioachino Rossini\",\"James Milne Wilson\",\"Emmeline B. Wells\",\"Dickey Pearce\",\"Theodor Leber\",\"Frank Gavan Duffy\",\"Prince George Maximilianovich\",\"Herman Hollerith\",\"Richard S. Aldrich\",\"Augusta Savage\",\"Morarji Desai\",\"William A. Wellman\",\"Jimmy Dorsey\",\"Pepper Martin\",\"Balthus\",\"Dee Brown\",\"Alf Gover\",\"Louie Myfanwy Thomas\",\"Kamil Tolon\",\"James B. Donovan\",\"Leonard Shoen\",\"Fyodor Abramov\",\"Arthur Franz\",\"James Mitchell\",\"Michèle Morgan\",\"Rolland W. Redlin\",\"David Beattie\",\"Carlos Humberto Romero\",\"Al Rosen\",\"Joss Ackland\",\"Jean Adamson\",\"Vance Haynes\",\"Michael Henshall\",\"Seymour Papert\",\"Tempest Storm\",\"Gene H. Golub\",\"Masten Gregory\",\"Reri Grist\",\"Jaguar\",\"Gavin Stevens\",\"Nh. Dini\",\"Jack R. Lousma\",\"Henri Richard\",\"Alex Rocco\",\"Sonja Barend\",\"Dennis Farina\",\"Nicholas Frayling\",\"Phyllis Frelich\",\"Steve Mingori\",\"Paolo Eleuteri Serpieri\",\"Lennart Svedberg\",\"Saeed Poursamimi\",\"Hermione Lee\",\"Manoel Maria\",\"Patricia A. McKillip\",\"Tim Powers\",\"Raisa Smetanina\",\"Bart Stupak\",\"Jonathan Coleman\",\"Bob Speller\",\"Aileen Wuornos\",\"Khaled\",\"Richard Ramirez\",\"Dave Brailsford\",\"Lyndon Byers\",\"Mervyn Warren\",\"Chucky Brown\",\"Gareth Farr\",\"Pete Fenson\",\"Bryce Paup\",\"Howard Tayler\",\"Eugene Volokh\",\"Frank Woodley\",\"Sylvie Lubamba\",\"Mike Pollitt\",\"Antonio Sabàto Jr.\",\"Pedro Sánchez\",\"Dave Williams\",\"Saul Williams\",\"Pedro Zamora\",\"Vonteego Cummings\",\"Katalin Kovács\",\"Terrence Long\",\"Ja Rule\",\"Çağdaş Atan\",\"Simon Gagné\",\"Rubén Plaza\",\"Clinton Toopi\",\"Taylor Twellman\",\"Peter Scanavino\",\"Darren Ambrose\",\"Rica Imai\",\"Cullen Jones\",\"Nuria Martínez\",\"Lena Raine\",\"Rakhee Thakrar\",\"Cam Ward\",\"Mark Foster\",\"Lena Gercke\",\"Benedikt Höwedes\",\"Brent Macaffer\",\"Hannah Mills\",\"Sean Abbott\",\"Eric Kendricks\",\"Jessica Long\",\"Jessie T. Usher\",\"Nelson Asofa-Solomona\",\"Reece Prescod\",\"Claudia Williams\",\"Tyrese Haliburton\",\"Ferran Torres\",\"Lydia Jacoby\"],\"legendgroup\":\"\",\"marker\":{\"color\":[1468,1528,1528,1572,1576,1640,1692,1724,1736,1792,1812,1828,1836,1840,1852,1852,1860,1884,1892,1896,1896,1904,1904,1908,1908,1908,1908,1912,1916,1916,1920,1920,1920,1920,1920,1924,1924,1924,1928,1928,1928,1928,1928,1928,1932,1932,1932,1932,1932,1936,1936,1936,1936,1940,1944,1944,1944,1944,1944,1944,1944,1948,1948,1948,1952,1952,1952,1956,1956,1956,1960,1960,1964,1964,1964,1968,1968,1968,1968,1968,1968,1968,1972,1972,1972,1972,1972,1972,1972,1976,1976,1976,1976,1980,1980,1980,1980,1980,1980,1984,1984,1984,1984,1984,1984,1984,1984,1988,1988,1988,1988,1992,1992,1992,1992,1996,1996,1996,2000,2000,2004],\"coloraxis\":\"coloraxis\",\"symbol\":\"circle\"},\"mode\":\"markers\",\"name\":\"\",\"orientation\":\"v\",\"showlegend\":false,\"x\":[1468,1528,1528,1572,1576,1640,1692,1724,1736,1792,1812,1828,1836,1840,1852,1852,1860,1884,1892,1896,1896,1904,1904,1908,1908,1908,1908,1912,1916,1916,1920,1920,1920,1920,1920,1924,1924,1924,1928,1928,1928,1928,1928,1928,1932,1932,1932,1932,1932,1936,1936,1936,1936,1940,1944,1944,1944,1944,1944,1944,1944,1948,1948,1948,1952,1952,1952,1956,1956,1956,1960,1960,1964,1964,1964,1968,1968,1968,1968,1968,1968,1968,1972,1972,1972,1972,1972,1972,1972,1976,1976,1976,1976,1980,1980,1980,1980,1980,1980,1984,1984,1984,1984,1984,1984,1984,1984,1988,1988,1988,1988,1992,1992,1992,1992,1996,1996,1996,2000,2000,2004],\"xaxis\":\"x\",\"y\":[1549.0,1579.0,1604.0,1638.0,1614.0,1704.0,1763.0,1822.0,1784.0,1868.0,1880.0,1921.0,1908.0,1917.0,1936.0,1912.0,1929.0,1941.0,1962.0,1995.0,1975.0,1957.0,1965.0,2001.0,2002.0,2001.0,1968.0,1978.0,1970.0,1999.0,1983.0,2006.0,2010.0,2016.0,2011.0,2001.0,2017.0,2015.0,2023.0,null,null,2017.0,2016.0,2021.0,2007.0,1985.0,null,null,null,2018.0,null,2020.0,2015.0,null,2013.0,null,2014.0,2008.0,null,1972.0,null,null,null,2022.0,null,null,null,2021.0,null,null,null,2013.0,null,null,null,null,null,null,null,null,null,null,null,null,null,null,2002.0,null,1994.0,null,null,null,null,null,null,null,null,null,null,null,null,null,null,null,null,null,null,null,null,null,null,null,null,null,null,null,null,null,null,null,null],\"yaxis\":\"y\",\"type\":\"scatter\"}],                        {\"template\":{\"data\":{\"histogram2dcontour\":[{\"type\":\"histogram2dcontour\",\"colorbar\":{\"outlinewidth\":0,\"ticks\":\"\"},\"colorscale\":[[0.0,\"#0d0887\"],[0.1111111111111111,\"#46039f\"],[0.2222222222222222,\"#7201a8\"],[0.3333333333333333,\"#9c179e\"],[0.4444444444444444,\"#bd3786\"],[0.5555555555555556,\"#d8576b\"],[0.6666666666666666,\"#ed7953\"],[0.7777777777777778,\"#fb9f3a\"],[0.8888888888888888,\"#fdca26\"],[1.0,\"#f0f921\"]]}],\"choropleth\":[{\"type\":\"choropleth\",\"colorbar\":{\"outlinewidth\":0,\"ticks\":\"\"}}],\"histogram2d\":[{\"type\":\"histogram2d\",\"colorbar\":{\"outlinewidth\":0,\"ticks\":\"\"},\"colorscale\":[[0.0,\"#0d0887\"],[0.1111111111111111,\"#46039f\"],[0.2222222222222222,\"#7201a8\"],[0.3333333333333333,\"#9c179e\"],[0.4444444444444444,\"#bd3786\"],[0.5555555555555556,\"#d8576b\"],[0.6666666666666666,\"#ed7953\"],[0.7777777777777778,\"#fb9f3a\"],[0.8888888888888888,\"#fdca26\"],[1.0,\"#f0f921\"]]}],\"heatmap\":[{\"type\":\"heatmap\",\"colorbar\":{\"outlinewidth\":0,\"ticks\":\"\"},\"colorscale\":[[0.0,\"#0d0887\"],[0.1111111111111111,\"#46039f\"],[0.2222222222222222,\"#7201a8\"],[0.3333333333333333,\"#9c179e\"],[0.4444444444444444,\"#bd3786\"],[0.5555555555555556,\"#d8576b\"],[0.6666666666666666,\"#ed7953\"],[0.7777777777777778,\"#fb9f3a\"],[0.8888888888888888,\"#fdca26\"],[1.0,\"#f0f921\"]]}],\"heatmapgl\":[{\"type\":\"heatmapgl\",\"colorbar\":{\"outlinewidth\":0,\"ticks\":\"\"},\"colorscale\":[[0.0,\"#0d0887\"],[0.1111111111111111,\"#46039f\"],[0.2222222222222222,\"#7201a8\"],[0.3333333333333333,\"#9c179e\"],[0.4444444444444444,\"#bd3786\"],[0.5555555555555556,\"#d8576b\"],[0.6666666666666666,\"#ed7953\"],[0.7777777777777778,\"#fb9f3a\"],[0.8888888888888888,\"#fdca26\"],[1.0,\"#f0f921\"]]}],\"contourcarpet\":[{\"type\":\"contourcarpet\",\"colorbar\":{\"outlinewidth\":0,\"ticks\":\"\"}}],\"contour\":[{\"type\":\"contour\",\"colorbar\":{\"outlinewidth\":0,\"ticks\":\"\"},\"colorscale\":[[0.0,\"#0d0887\"],[0.1111111111111111,\"#46039f\"],[0.2222222222222222,\"#7201a8\"],[0.3333333333333333,\"#9c179e\"],[0.4444444444444444,\"#bd3786\"],[0.5555555555555556,\"#d8576b\"],[0.6666666666666666,\"#ed7953\"],[0.7777777777777778,\"#fb9f3a\"],[0.8888888888888888,\"#fdca26\"],[1.0,\"#f0f921\"]]}],\"surface\":[{\"type\":\"surface\",\"colorbar\":{\"outlinewidth\":0,\"ticks\":\"\"},\"colorscale\":[[0.0,\"#0d0887\"],[0.1111111111111111,\"#46039f\"],[0.2222222222222222,\"#7201a8\"],[0.3333333333333333,\"#9c179e\"],[0.4444444444444444,\"#bd3786\"],[0.5555555555555556,\"#d8576b\"],[0.6666666666666666,\"#ed7953\"],[0.7777777777777778,\"#fb9f3a\"],[0.8888888888888888,\"#fdca26\"],[1.0,\"#f0f921\"]]}],\"mesh3d\":[{\"type\":\"mesh3d\",\"colorbar\":{\"outlinewidth\":0,\"ticks\":\"\"}}],\"scatter\":[{\"fillpattern\":{\"fillmode\":\"overlay\",\"size\":10,\"solidity\":0.2},\"type\":\"scatter\"}],\"parcoords\":[{\"type\":\"parcoords\",\"line\":{\"colorbar\":{\"outlinewidth\":0,\"ticks\":\"\"}}}],\"scatterpolargl\":[{\"type\":\"scatterpolargl\",\"marker\":{\"colorbar\":{\"outlinewidth\":0,\"ticks\":\"\"}}}],\"bar\":[{\"error_x\":{\"color\":\"#2a3f5f\"},\"error_y\":{\"color\":\"#2a3f5f\"},\"marker\":{\"line\":{\"color\":\"#E5ECF6\",\"width\":0.5},\"pattern\":{\"fillmode\":\"overlay\",\"size\":10,\"solidity\":0.2}},\"type\":\"bar\"}],\"scattergeo\":[{\"type\":\"scattergeo\",\"marker\":{\"colorbar\":{\"outlinewidth\":0,\"ticks\":\"\"}}}],\"scatterpolar\":[{\"type\":\"scatterpolar\",\"marker\":{\"colorbar\":{\"outlinewidth\":0,\"ticks\":\"\"}}}],\"histogram\":[{\"marker\":{\"pattern\":{\"fillmode\":\"overlay\",\"size\":10,\"solidity\":0.2}},\"type\":\"histogram\"}],\"scattergl\":[{\"type\":\"scattergl\",\"marker\":{\"colorbar\":{\"outlinewidth\":0,\"ticks\":\"\"}}}],\"scatter3d\":[{\"type\":\"scatter3d\",\"line\":{\"colorbar\":{\"outlinewidth\":0,\"ticks\":\"\"}},\"marker\":{\"colorbar\":{\"outlinewidth\":0,\"ticks\":\"\"}}}],\"scattermapbox\":[{\"type\":\"scattermapbox\",\"marker\":{\"colorbar\":{\"outlinewidth\":0,\"ticks\":\"\"}}}],\"scatterternary\":[{\"type\":\"scatterternary\",\"marker\":{\"colorbar\":{\"outlinewidth\":0,\"ticks\":\"\"}}}],\"scattercarpet\":[{\"type\":\"scattercarpet\",\"marker\":{\"colorbar\":{\"outlinewidth\":0,\"ticks\":\"\"}}}],\"carpet\":[{\"aaxis\":{\"endlinecolor\":\"#2a3f5f\",\"gridcolor\":\"white\",\"linecolor\":\"white\",\"minorgridcolor\":\"white\",\"startlinecolor\":\"#2a3f5f\"},\"baxis\":{\"endlinecolor\":\"#2a3f5f\",\"gridcolor\":\"white\",\"linecolor\":\"white\",\"minorgridcolor\":\"white\",\"startlinecolor\":\"#2a3f5f\"},\"type\":\"carpet\"}],\"table\":[{\"cells\":{\"fill\":{\"color\":\"#EBF0F8\"},\"line\":{\"color\":\"white\"}},\"header\":{\"fill\":{\"color\":\"#C8D4E3\"},\"line\":{\"color\":\"white\"}},\"type\":\"table\"}],\"barpolar\":[{\"marker\":{\"line\":{\"color\":\"#E5ECF6\",\"width\":0.5},\"pattern\":{\"fillmode\":\"overlay\",\"size\":10,\"solidity\":0.2}},\"type\":\"barpolar\"}],\"pie\":[{\"automargin\":true,\"type\":\"pie\"}]},\"layout\":{\"autotypenumbers\":\"strict\",\"colorway\":[\"#636efa\",\"#EF553B\",\"#00cc96\",\"#ab63fa\",\"#FFA15A\",\"#19d3f3\",\"#FF6692\",\"#B6E880\",\"#FF97FF\",\"#FECB52\"],\"font\":{\"color\":\"#2a3f5f\"},\"hovermode\":\"closest\",\"hoverlabel\":{\"align\":\"left\"},\"paper_bgcolor\":\"white\",\"plot_bgcolor\":\"#E5ECF6\",\"polar\":{\"bgcolor\":\"#E5ECF6\",\"angularaxis\":{\"gridcolor\":\"white\",\"linecolor\":\"white\",\"ticks\":\"\"},\"radialaxis\":{\"gridcolor\":\"white\",\"linecolor\":\"white\",\"ticks\":\"\"}},\"ternary\":{\"bgcolor\":\"#E5ECF6\",\"aaxis\":{\"gridcolor\":\"white\",\"linecolor\":\"white\",\"ticks\":\"\"},\"baxis\":{\"gridcolor\":\"white\",\"linecolor\":\"white\",\"ticks\":\"\"},\"caxis\":{\"gridcolor\":\"white\",\"linecolor\":\"white\",\"ticks\":\"\"}},\"coloraxis\":{\"colorbar\":{\"outlinewidth\":0,\"ticks\":\"\"}},\"colorscale\":{\"sequential\":[[0.0,\"#0d0887\"],[0.1111111111111111,\"#46039f\"],[0.2222222222222222,\"#7201a8\"],[0.3333333333333333,\"#9c179e\"],[0.4444444444444444,\"#bd3786\"],[0.5555555555555556,\"#d8576b\"],[0.6666666666666666,\"#ed7953\"],[0.7777777777777778,\"#fb9f3a\"],[0.8888888888888888,\"#fdca26\"],[1.0,\"#f0f921\"]],\"sequentialminus\":[[0.0,\"#0d0887\"],[0.1111111111111111,\"#46039f\"],[0.2222222222222222,\"#7201a8\"],[0.3333333333333333,\"#9c179e\"],[0.4444444444444444,\"#bd3786\"],[0.5555555555555556,\"#d8576b\"],[0.6666666666666666,\"#ed7953\"],[0.7777777777777778,\"#fb9f3a\"],[0.8888888888888888,\"#fdca26\"],[1.0,\"#f0f921\"]],\"diverging\":[[0,\"#8e0152\"],[0.1,\"#c51b7d\"],[0.2,\"#de77ae\"],[0.3,\"#f1b6da\"],[0.4,\"#fde0ef\"],[0.5,\"#f7f7f7\"],[0.6,\"#e6f5d0\"],[0.7,\"#b8e186\"],[0.8,\"#7fbc41\"],[0.9,\"#4d9221\"],[1,\"#276419\"]]},\"xaxis\":{\"gridcolor\":\"white\",\"linecolor\":\"white\",\"ticks\":\"\",\"title\":{\"standoff\":15},\"zerolinecolor\":\"white\",\"automargin\":true,\"zerolinewidth\":2},\"yaxis\":{\"gridcolor\":\"white\",\"linecolor\":\"white\",\"ticks\":\"\",\"title\":{\"standoff\":15},\"zerolinecolor\":\"white\",\"automargin\":true,\"zerolinewidth\":2},\"scene\":{\"xaxis\":{\"backgroundcolor\":\"#E5ECF6\",\"gridcolor\":\"white\",\"linecolor\":\"white\",\"showbackground\":true,\"ticks\":\"\",\"zerolinecolor\":\"white\",\"gridwidth\":2},\"yaxis\":{\"backgroundcolor\":\"#E5ECF6\",\"gridcolor\":\"white\",\"linecolor\":\"white\",\"showbackground\":true,\"ticks\":\"\",\"zerolinecolor\":\"white\",\"gridwidth\":2},\"zaxis\":{\"backgroundcolor\":\"#E5ECF6\",\"gridcolor\":\"white\",\"linecolor\":\"white\",\"showbackground\":true,\"ticks\":\"\",\"zerolinecolor\":\"white\",\"gridwidth\":2}},\"shapedefaults\":{\"line\":{\"color\":\"#2a3f5f\"}},\"annotationdefaults\":{\"arrowcolor\":\"#2a3f5f\",\"arrowhead\":0,\"arrowwidth\":1},\"geo\":{\"bgcolor\":\"white\",\"landcolor\":\"#E5ECF6\",\"subunitcolor\":\"white\",\"showland\":true,\"showlakes\":true,\"lakecolor\":\"white\"},\"title\":{\"x\":0.05},\"mapbox\":{\"style\":\"light\"}}},\"xaxis\":{\"anchor\":\"y\",\"domain\":[0.0,1.0],\"title\":{\"text\":\"year_birth\"}},\"yaxis\":{\"anchor\":\"x\",\"domain\":[0.0,1.0],\"title\":{\"text\":\"year_death\"}},\"coloraxis\":{\"colorbar\":{\"title\":{\"text\":\"year_birth\"}},\"colorscale\":[[0.0,\"#0d0887\"],[0.1111111111111111,\"#46039f\"],[0.2222222222222222,\"#7201a8\"],[0.3333333333333333,\"#9c179e\"],[0.4444444444444444,\"#bd3786\"],[0.5555555555555556,\"#d8576b\"],[0.6666666666666666,\"#ed7953\"],[0.7777777777777778,\"#fb9f3a\"],[0.8888888888888888,\"#fdca26\"],[1.0,\"#f0f921\"]]},\"legend\":{\"tracegroupgap\":0},\"margin\":{\"t\":60}},                        {\"responsive\": true}                    ).then(function(){\n",
       "                            \n",
       "var gd = document.getElementById('fae77f34-cb90-4bc7-8b5d-335f657993c4');\n",
       "var x = new MutationObserver(function (mutations, observer) {{\n",
       "        var display = window.getComputedStyle(gd).display;\n",
       "        if (!display || display === 'none') {{\n",
       "            console.log([gd, 'removed!']);\n",
       "            Plotly.purge(gd);\n",
       "            observer.disconnect();\n",
       "        }}\n",
       "}});\n",
       "\n",
       "// Listen for the removal of the full notebook cells\n",
       "var notebookContainer = gd.closest('#notebook-container');\n",
       "if (notebookContainer) {{\n",
       "    x.observe(notebookContainer, {childList: true});\n",
       "}}\n",
       "\n",
       "// Listen for the clearing of the current output cell\n",
       "var outputEl = gd.closest('.output');\n",
       "if (outputEl) {{\n",
       "    x.observe(outputEl, {childList: true});\n",
       "}}\n",
       "\n",
       "                        })                };                });            </script>        </div>"
      ]
     },
     "metadata": {},
     "output_type": "display_data"
    }
   ],
   "source": [
    "from plotly.express import scatter\n",
    "scatter(data_frame=births_df, x='year_birth', y='year_death', hover_name='person',  color='year_birth')"
   ]
  },
  {
   "cell_type": "markdown",
   "id": "eef21f09",
   "metadata": {
    "papermill": {
     "duration": 0.00424,
     "end_time": "2024-02-27T14:59:45.250016",
     "exception": false,
     "start_time": "2024-02-27T14:59:45.245776",
     "status": "completed"
    },
    "tags": []
   },
   "source": [
    "We do not see any living people in this scatter plot but we can see how the dataset skews recent."
   ]
  },
  {
   "cell_type": "code",
   "execution_count": 3,
   "id": "2994fc07",
   "metadata": {
    "execution": {
     "iopub.execute_input": "2024-02-27T14:59:45.260960Z",
     "iopub.status.busy": "2024-02-27T14:59:45.260580Z",
     "iopub.status.idle": "2024-02-27T14:59:45.369121Z",
     "shell.execute_reply": "2024-02-27T14:59:45.367872Z"
    },
    "papermill": {
     "duration": 0.117635,
     "end_time": "2024-02-27T14:59:45.372207",
     "exception": false,
     "start_time": "2024-02-27T14:59:45.254572",
     "status": "completed"
    },
    "tags": []
   },
   "outputs": [
    {
     "data": {
      "text/html": [
       "<div>                            <div id=\"22d6b01b-a452-410f-b2d8-076cf84d4a62\" class=\"plotly-graph-div\" style=\"height:1200px; width:100%;\"></div>            <script type=\"text/javascript\">                require([\"plotly\"], function(Plotly) {                    window.PLOTLYENV=window.PLOTLYENV || {};                                    if (document.getElementById(\"22d6b01b-a452-410f-b2d8-076cf84d4a62\")) {                    Plotly.newPlot(                        \"22d6b01b-a452-410f-b2d8-076cf84d4a62\",                        [{\"hovertemplate\":\"\\u003cb\\u003e%{hovertext}\\u003c\\u002fb\\u003e\\u003cbr\\u003e\\u003cbr\\u003evariable=year_birth\\u003cbr\\u003evalue=%{x}\\u003cbr\\u003eperson=%{y}\\u003cextra\\u003e\\u003c\\u002fextra\\u003e\",\"hovertext\":[\"Pope Paul III \",\"Albert V\",\"Domingo Báñez\",\"Edward Cecil\",\"Antonio Neri\",\"Benjamin Keach\",\"John Byrom\",\"Eva Marie Veigel\",\"Ann Lee\",\"Gioachino Rossini\",\"James Milne Wilson\",\"Emmeline B. Wells\",\"Dickey Pearce\",\"Theodor Leber\",\"Frank Gavan Duffy\",\"Prince George Maximilianovich\",\"Herman Hollerith\",\"Richard S. Aldrich\",\"Augusta Savage\",\"Morarji Desai\",\"William A. Wellman\",\"Jimmy Dorsey\",\"Pepper Martin\",\"Balthus\",\"Dee Brown\",\"Alf Gover\",\"Louie Myfanwy Thomas\",\"Kamil Tolon\",\"James B. Donovan\",\"Leonard Shoen\",\"Fyodor Abramov\",\"Arthur Franz\",\"James Mitchell\",\"Michèle Morgan\",\"Rolland W. Redlin\",\"David Beattie\",\"Carlos Humberto Romero\",\"Al Rosen\",\"Joss Ackland\",\"Jean Adamson\",\"Vance Haynes\",\"Michael Henshall\",\"Seymour Papert\",\"Tempest Storm\",\"Gene H. Golub\",\"Masten Gregory\",\"Reri Grist\",\"Jaguar\",\"Gavin Stevens\",\"Nh. Dini\",\"Jack R. Lousma\",\"Henri Richard\",\"Alex Rocco\",\"Sonja Barend\",\"Dennis Farina\",\"Nicholas Frayling\",\"Phyllis Frelich\",\"Steve Mingori\",\"Paolo Eleuteri Serpieri\",\"Lennart Svedberg\",\"Saeed Poursamimi\",\"Hermione Lee\",\"Manoel Maria\",\"Patricia A. McKillip\",\"Tim Powers\",\"Raisa Smetanina\",\"Bart Stupak\",\"Jonathan Coleman\",\"Bob Speller\",\"Aileen Wuornos\",\"Khaled\",\"Richard Ramirez\",\"Dave Brailsford\",\"Lyndon Byers\",\"Mervyn Warren\",\"Chucky Brown\",\"Gareth Farr\",\"Pete Fenson\",\"Bryce Paup\",\"Howard Tayler\",\"Eugene Volokh\",\"Frank Woodley\",\"Sylvie Lubamba\",\"Mike Pollitt\",\"Antonio Sabàto Jr.\",\"Pedro Sánchez\",\"Dave Williams\",\"Saul Williams\",\"Pedro Zamora\",\"Vonteego Cummings\",\"Katalin Kovács\",\"Terrence Long\",\"Ja Rule\",\"Çağdaş Atan\",\"Simon Gagné\",\"Rubén Plaza\",\"Clinton Toopi\",\"Taylor Twellman\",\"Peter Scanavino\",\"Darren Ambrose\",\"Rica Imai\",\"Cullen Jones\",\"Nuria Martínez\",\"Lena Raine\",\"Rakhee Thakrar\",\"Cam Ward\",\"Mark Foster\",\"Lena Gercke\",\"Benedikt Höwedes\",\"Brent Macaffer\",\"Hannah Mills\",\"Sean Abbott\",\"Eric Kendricks\",\"Jessica Long\",\"Jessie T. Usher\",\"Nelson Asofa-Solomona\",\"Reece Prescod\",\"Claudia Williams\",\"Tyrese Haliburton\",\"Ferran Torres\",\"Lydia Jacoby\"],\"legendgroup\":\"year_birth\",\"marker\":{\"color\":\"#636efa\",\"symbol\":\"circle\"},\"mode\":\"markers\",\"name\":\"year_birth\",\"orientation\":\"h\",\"showlegend\":true,\"x\":[1468.0,1528.0,1528.0,1572.0,1576.0,1640.0,1692.0,1724.0,1736.0,1792.0,1812.0,1828.0,1836.0,1840.0,1852.0,1852.0,1860.0,1884.0,1892.0,1896.0,1896.0,1904.0,1904.0,1908.0,1908.0,1908.0,1908.0,1912.0,1916.0,1916.0,1920.0,1920.0,1920.0,1920.0,1920.0,1924.0,1924.0,1924.0,1928.0,1928.0,1928.0,1928.0,1928.0,1928.0,1932.0,1932.0,1932.0,1932.0,1932.0,1936.0,1936.0,1936.0,1936.0,1940.0,1944.0,1944.0,1944.0,1944.0,1944.0,1944.0,1944.0,1948.0,1948.0,1948.0,1952.0,1952.0,1952.0,1956.0,1956.0,1956.0,1960.0,1960.0,1964.0,1964.0,1964.0,1968.0,1968.0,1968.0,1968.0,1968.0,1968.0,1968.0,1972.0,1972.0,1972.0,1972.0,1972.0,1972.0,1972.0,1976.0,1976.0,1976.0,1976.0,1980.0,1980.0,1980.0,1980.0,1980.0,1980.0,1984.0,1984.0,1984.0,1984.0,1984.0,1984.0,1984.0,1984.0,1988.0,1988.0,1988.0,1988.0,1992.0,1992.0,1992.0,1992.0,1996.0,1996.0,1996.0,2000.0,2000.0,2004.0],\"xaxis\":\"x\",\"y\":[\"Pope Paul III \",\"Albert V\",\"Domingo Báñez\",\"Edward Cecil\",\"Antonio Neri\",\"Benjamin Keach\",\"John Byrom\",\"Eva Marie Veigel\",\"Ann Lee\",\"Gioachino Rossini\",\"James Milne Wilson\",\"Emmeline B. Wells\",\"Dickey Pearce\",\"Theodor Leber\",\"Frank Gavan Duffy\",\"Prince George Maximilianovich\",\"Herman Hollerith\",\"Richard S. Aldrich\",\"Augusta Savage\",\"Morarji Desai\",\"William A. Wellman\",\"Jimmy Dorsey\",\"Pepper Martin\",\"Balthus\",\"Dee Brown\",\"Alf Gover\",\"Louie Myfanwy Thomas\",\"Kamil Tolon\",\"James B. Donovan\",\"Leonard Shoen\",\"Fyodor Abramov\",\"Arthur Franz\",\"James Mitchell\",\"Michèle Morgan\",\"Rolland W. Redlin\",\"David Beattie\",\"Carlos Humberto Romero\",\"Al Rosen\",\"Joss Ackland\",\"Jean Adamson\",\"Vance Haynes\",\"Michael Henshall\",\"Seymour Papert\",\"Tempest Storm\",\"Gene H. Golub\",\"Masten Gregory\",\"Reri Grist\",\"Jaguar\",\"Gavin Stevens\",\"Nh. Dini\",\"Jack R. Lousma\",\"Henri Richard\",\"Alex Rocco\",\"Sonja Barend\",\"Dennis Farina\",\"Nicholas Frayling\",\"Phyllis Frelich\",\"Steve Mingori\",\"Paolo Eleuteri Serpieri\",\"Lennart Svedberg\",\"Saeed Poursamimi\",\"Hermione Lee\",\"Manoel Maria\",\"Patricia A. McKillip\",\"Tim Powers\",\"Raisa Smetanina\",\"Bart Stupak\",\"Jonathan Coleman\",\"Bob Speller\",\"Aileen Wuornos\",\"Khaled\",\"Richard Ramirez\",\"Dave Brailsford\",\"Lyndon Byers\",\"Mervyn Warren\",\"Chucky Brown\",\"Gareth Farr\",\"Pete Fenson\",\"Bryce Paup\",\"Howard Tayler\",\"Eugene Volokh\",\"Frank Woodley\",\"Sylvie Lubamba\",\"Mike Pollitt\",\"Antonio Sabàto Jr.\",\"Pedro Sánchez\",\"Dave Williams\",\"Saul Williams\",\"Pedro Zamora\",\"Vonteego Cummings\",\"Katalin Kovács\",\"Terrence Long\",\"Ja Rule\",\"Çağdaş Atan\",\"Simon Gagné\",\"Rubén Plaza\",\"Clinton Toopi\",\"Taylor Twellman\",\"Peter Scanavino\",\"Darren Ambrose\",\"Rica Imai\",\"Cullen Jones\",\"Nuria Martínez\",\"Lena Raine\",\"Rakhee Thakrar\",\"Cam Ward\",\"Mark Foster\",\"Lena Gercke\",\"Benedikt Höwedes\",\"Brent Macaffer\",\"Hannah Mills\",\"Sean Abbott\",\"Eric Kendricks\",\"Jessica Long\",\"Jessie T. Usher\",\"Nelson Asofa-Solomona\",\"Reece Prescod\",\"Claudia Williams\",\"Tyrese Haliburton\",\"Ferran Torres\",\"Lydia Jacoby\"],\"yaxis\":\"y\",\"type\":\"scatter\"},{\"hovertemplate\":\"\\u003cb\\u003e%{hovertext}\\u003c\\u002fb\\u003e\\u003cbr\\u003e\\u003cbr\\u003evariable=year_death\\u003cbr\\u003evalue=%{x}\\u003cbr\\u003eperson=%{y}\\u003cextra\\u003e\\u003c\\u002fextra\\u003e\",\"hovertext\":[\"Pope Paul III \",\"Albert V\",\"Domingo Báñez\",\"Edward Cecil\",\"Antonio Neri\",\"Benjamin Keach\",\"John Byrom\",\"Eva Marie Veigel\",\"Ann Lee\",\"Gioachino Rossini\",\"James Milne Wilson\",\"Emmeline B. Wells\",\"Dickey Pearce\",\"Theodor Leber\",\"Frank Gavan Duffy\",\"Prince George Maximilianovich\",\"Herman Hollerith\",\"Richard S. Aldrich\",\"Augusta Savage\",\"Morarji Desai\",\"William A. Wellman\",\"Jimmy Dorsey\",\"Pepper Martin\",\"Balthus\",\"Dee Brown\",\"Alf Gover\",\"Louie Myfanwy Thomas\",\"Kamil Tolon\",\"James B. Donovan\",\"Leonard Shoen\",\"Fyodor Abramov\",\"Arthur Franz\",\"James Mitchell\",\"Michèle Morgan\",\"Rolland W. Redlin\",\"David Beattie\",\"Carlos Humberto Romero\",\"Al Rosen\",\"Joss Ackland\",\"Jean Adamson\",\"Vance Haynes\",\"Michael Henshall\",\"Seymour Papert\",\"Tempest Storm\",\"Gene H. Golub\",\"Masten Gregory\",\"Reri Grist\",\"Jaguar\",\"Gavin Stevens\",\"Nh. Dini\",\"Jack R. Lousma\",\"Henri Richard\",\"Alex Rocco\",\"Sonja Barend\",\"Dennis Farina\",\"Nicholas Frayling\",\"Phyllis Frelich\",\"Steve Mingori\",\"Paolo Eleuteri Serpieri\",\"Lennart Svedberg\",\"Saeed Poursamimi\",\"Hermione Lee\",\"Manoel Maria\",\"Patricia A. McKillip\",\"Tim Powers\",\"Raisa Smetanina\",\"Bart Stupak\",\"Jonathan Coleman\",\"Bob Speller\",\"Aileen Wuornos\",\"Khaled\",\"Richard Ramirez\",\"Dave Brailsford\",\"Lyndon Byers\",\"Mervyn Warren\",\"Chucky Brown\",\"Gareth Farr\",\"Pete Fenson\",\"Bryce Paup\",\"Howard Tayler\",\"Eugene Volokh\",\"Frank Woodley\",\"Sylvie Lubamba\",\"Mike Pollitt\",\"Antonio Sabàto Jr.\",\"Pedro Sánchez\",\"Dave Williams\",\"Saul Williams\",\"Pedro Zamora\",\"Vonteego Cummings\",\"Katalin Kovács\",\"Terrence Long\",\"Ja Rule\",\"Çağdaş Atan\",\"Simon Gagné\",\"Rubén Plaza\",\"Clinton Toopi\",\"Taylor Twellman\",\"Peter Scanavino\",\"Darren Ambrose\",\"Rica Imai\",\"Cullen Jones\",\"Nuria Martínez\",\"Lena Raine\",\"Rakhee Thakrar\",\"Cam Ward\",\"Mark Foster\",\"Lena Gercke\",\"Benedikt Höwedes\",\"Brent Macaffer\",\"Hannah Mills\",\"Sean Abbott\",\"Eric Kendricks\",\"Jessica Long\",\"Jessie T. Usher\",\"Nelson Asofa-Solomona\",\"Reece Prescod\",\"Claudia Williams\",\"Tyrese Haliburton\",\"Ferran Torres\",\"Lydia Jacoby\"],\"legendgroup\":\"year_death\",\"marker\":{\"color\":\"#EF553B\",\"symbol\":\"circle\"},\"mode\":\"markers\",\"name\":\"year_death\",\"orientation\":\"h\",\"showlegend\":true,\"x\":[1549.0,1579.0,1604.0,1638.0,1614.0,1704.0,1763.0,1822.0,1784.0,1868.0,1880.0,1921.0,1908.0,1917.0,1936.0,1912.0,1929.0,1941.0,1962.0,1995.0,1975.0,1957.0,1965.0,2001.0,2002.0,2001.0,1968.0,1978.0,1970.0,1999.0,1983.0,2006.0,2010.0,2016.0,2011.0,2001.0,2017.0,2015.0,2023.0,null,null,2017.0,2016.0,2021.0,2007.0,1985.0,null,null,null,2018.0,null,2020.0,2015.0,null,2013.0,null,2014.0,2008.0,null,1972.0,null,null,null,2022.0,null,null,null,2021.0,null,null,null,2013.0,null,null,null,null,null,null,null,null,null,null,null,null,null,null,2002.0,null,1994.0,null,null,null,null,null,null,null,null,null,null,null,null,null,null,null,null,null,null,null,null,null,null,null,null,null,null,null,null,null,null,null,null],\"xaxis\":\"x\",\"y\":[\"Pope Paul III \",\"Albert V\",\"Domingo Báñez\",\"Edward Cecil\",\"Antonio Neri\",\"Benjamin Keach\",\"John Byrom\",\"Eva Marie Veigel\",\"Ann Lee\",\"Gioachino Rossini\",\"James Milne Wilson\",\"Emmeline B. Wells\",\"Dickey Pearce\",\"Theodor Leber\",\"Frank Gavan Duffy\",\"Prince George Maximilianovich\",\"Herman Hollerith\",\"Richard S. Aldrich\",\"Augusta Savage\",\"Morarji Desai\",\"William A. Wellman\",\"Jimmy Dorsey\",\"Pepper Martin\",\"Balthus\",\"Dee Brown\",\"Alf Gover\",\"Louie Myfanwy Thomas\",\"Kamil Tolon\",\"James B. Donovan\",\"Leonard Shoen\",\"Fyodor Abramov\",\"Arthur Franz\",\"James Mitchell\",\"Michèle Morgan\",\"Rolland W. Redlin\",\"David Beattie\",\"Carlos Humberto Romero\",\"Al Rosen\",\"Joss Ackland\",\"Jean Adamson\",\"Vance Haynes\",\"Michael Henshall\",\"Seymour Papert\",\"Tempest Storm\",\"Gene H. Golub\",\"Masten Gregory\",\"Reri Grist\",\"Jaguar\",\"Gavin Stevens\",\"Nh. Dini\",\"Jack R. Lousma\",\"Henri Richard\",\"Alex Rocco\",\"Sonja Barend\",\"Dennis Farina\",\"Nicholas Frayling\",\"Phyllis Frelich\",\"Steve Mingori\",\"Paolo Eleuteri Serpieri\",\"Lennart Svedberg\",\"Saeed Poursamimi\",\"Hermione Lee\",\"Manoel Maria\",\"Patricia A. McKillip\",\"Tim Powers\",\"Raisa Smetanina\",\"Bart Stupak\",\"Jonathan Coleman\",\"Bob Speller\",\"Aileen Wuornos\",\"Khaled\",\"Richard Ramirez\",\"Dave Brailsford\",\"Lyndon Byers\",\"Mervyn Warren\",\"Chucky Brown\",\"Gareth Farr\",\"Pete Fenson\",\"Bryce Paup\",\"Howard Tayler\",\"Eugene Volokh\",\"Frank Woodley\",\"Sylvie Lubamba\",\"Mike Pollitt\",\"Antonio Sabàto Jr.\",\"Pedro Sánchez\",\"Dave Williams\",\"Saul Williams\",\"Pedro Zamora\",\"Vonteego Cummings\",\"Katalin Kovács\",\"Terrence Long\",\"Ja Rule\",\"Çağdaş Atan\",\"Simon Gagné\",\"Rubén Plaza\",\"Clinton Toopi\",\"Taylor Twellman\",\"Peter Scanavino\",\"Darren Ambrose\",\"Rica Imai\",\"Cullen Jones\",\"Nuria Martínez\",\"Lena Raine\",\"Rakhee Thakrar\",\"Cam Ward\",\"Mark Foster\",\"Lena Gercke\",\"Benedikt Höwedes\",\"Brent Macaffer\",\"Hannah Mills\",\"Sean Abbott\",\"Eric Kendricks\",\"Jessica Long\",\"Jessie T. Usher\",\"Nelson Asofa-Solomona\",\"Reece Prescod\",\"Claudia Williams\",\"Tyrese Haliburton\",\"Ferran Torres\",\"Lydia Jacoby\"],\"yaxis\":\"y\",\"type\":\"scatter\"}],                        {\"template\":{\"data\":{\"histogram2dcontour\":[{\"type\":\"histogram2dcontour\",\"colorbar\":{\"outlinewidth\":0,\"ticks\":\"\"},\"colorscale\":[[0.0,\"#0d0887\"],[0.1111111111111111,\"#46039f\"],[0.2222222222222222,\"#7201a8\"],[0.3333333333333333,\"#9c179e\"],[0.4444444444444444,\"#bd3786\"],[0.5555555555555556,\"#d8576b\"],[0.6666666666666666,\"#ed7953\"],[0.7777777777777778,\"#fb9f3a\"],[0.8888888888888888,\"#fdca26\"],[1.0,\"#f0f921\"]]}],\"choropleth\":[{\"type\":\"choropleth\",\"colorbar\":{\"outlinewidth\":0,\"ticks\":\"\"}}],\"histogram2d\":[{\"type\":\"histogram2d\",\"colorbar\":{\"outlinewidth\":0,\"ticks\":\"\"},\"colorscale\":[[0.0,\"#0d0887\"],[0.1111111111111111,\"#46039f\"],[0.2222222222222222,\"#7201a8\"],[0.3333333333333333,\"#9c179e\"],[0.4444444444444444,\"#bd3786\"],[0.5555555555555556,\"#d8576b\"],[0.6666666666666666,\"#ed7953\"],[0.7777777777777778,\"#fb9f3a\"],[0.8888888888888888,\"#fdca26\"],[1.0,\"#f0f921\"]]}],\"heatmap\":[{\"type\":\"heatmap\",\"colorbar\":{\"outlinewidth\":0,\"ticks\":\"\"},\"colorscale\":[[0.0,\"#0d0887\"],[0.1111111111111111,\"#46039f\"],[0.2222222222222222,\"#7201a8\"],[0.3333333333333333,\"#9c179e\"],[0.4444444444444444,\"#bd3786\"],[0.5555555555555556,\"#d8576b\"],[0.6666666666666666,\"#ed7953\"],[0.7777777777777778,\"#fb9f3a\"],[0.8888888888888888,\"#fdca26\"],[1.0,\"#f0f921\"]]}],\"heatmapgl\":[{\"type\":\"heatmapgl\",\"colorbar\":{\"outlinewidth\":0,\"ticks\":\"\"},\"colorscale\":[[0.0,\"#0d0887\"],[0.1111111111111111,\"#46039f\"],[0.2222222222222222,\"#7201a8\"],[0.3333333333333333,\"#9c179e\"],[0.4444444444444444,\"#bd3786\"],[0.5555555555555556,\"#d8576b\"],[0.6666666666666666,\"#ed7953\"],[0.7777777777777778,\"#fb9f3a\"],[0.8888888888888888,\"#fdca26\"],[1.0,\"#f0f921\"]]}],\"contourcarpet\":[{\"type\":\"contourcarpet\",\"colorbar\":{\"outlinewidth\":0,\"ticks\":\"\"}}],\"contour\":[{\"type\":\"contour\",\"colorbar\":{\"outlinewidth\":0,\"ticks\":\"\"},\"colorscale\":[[0.0,\"#0d0887\"],[0.1111111111111111,\"#46039f\"],[0.2222222222222222,\"#7201a8\"],[0.3333333333333333,\"#9c179e\"],[0.4444444444444444,\"#bd3786\"],[0.5555555555555556,\"#d8576b\"],[0.6666666666666666,\"#ed7953\"],[0.7777777777777778,\"#fb9f3a\"],[0.8888888888888888,\"#fdca26\"],[1.0,\"#f0f921\"]]}],\"surface\":[{\"type\":\"surface\",\"colorbar\":{\"outlinewidth\":0,\"ticks\":\"\"},\"colorscale\":[[0.0,\"#0d0887\"],[0.1111111111111111,\"#46039f\"],[0.2222222222222222,\"#7201a8\"],[0.3333333333333333,\"#9c179e\"],[0.4444444444444444,\"#bd3786\"],[0.5555555555555556,\"#d8576b\"],[0.6666666666666666,\"#ed7953\"],[0.7777777777777778,\"#fb9f3a\"],[0.8888888888888888,\"#fdca26\"],[1.0,\"#f0f921\"]]}],\"mesh3d\":[{\"type\":\"mesh3d\",\"colorbar\":{\"outlinewidth\":0,\"ticks\":\"\"}}],\"scatter\":[{\"fillpattern\":{\"fillmode\":\"overlay\",\"size\":10,\"solidity\":0.2},\"type\":\"scatter\"}],\"parcoords\":[{\"type\":\"parcoords\",\"line\":{\"colorbar\":{\"outlinewidth\":0,\"ticks\":\"\"}}}],\"scatterpolargl\":[{\"type\":\"scatterpolargl\",\"marker\":{\"colorbar\":{\"outlinewidth\":0,\"ticks\":\"\"}}}],\"bar\":[{\"error_x\":{\"color\":\"#2a3f5f\"},\"error_y\":{\"color\":\"#2a3f5f\"},\"marker\":{\"line\":{\"color\":\"#E5ECF6\",\"width\":0.5},\"pattern\":{\"fillmode\":\"overlay\",\"size\":10,\"solidity\":0.2}},\"type\":\"bar\"}],\"scattergeo\":[{\"type\":\"scattergeo\",\"marker\":{\"colorbar\":{\"outlinewidth\":0,\"ticks\":\"\"}}}],\"scatterpolar\":[{\"type\":\"scatterpolar\",\"marker\":{\"colorbar\":{\"outlinewidth\":0,\"ticks\":\"\"}}}],\"histogram\":[{\"marker\":{\"pattern\":{\"fillmode\":\"overlay\",\"size\":10,\"solidity\":0.2}},\"type\":\"histogram\"}],\"scattergl\":[{\"type\":\"scattergl\",\"marker\":{\"colorbar\":{\"outlinewidth\":0,\"ticks\":\"\"}}}],\"scatter3d\":[{\"type\":\"scatter3d\",\"line\":{\"colorbar\":{\"outlinewidth\":0,\"ticks\":\"\"}},\"marker\":{\"colorbar\":{\"outlinewidth\":0,\"ticks\":\"\"}}}],\"scattermapbox\":[{\"type\":\"scattermapbox\",\"marker\":{\"colorbar\":{\"outlinewidth\":0,\"ticks\":\"\"}}}],\"scatterternary\":[{\"type\":\"scatterternary\",\"marker\":{\"colorbar\":{\"outlinewidth\":0,\"ticks\":\"\"}}}],\"scattercarpet\":[{\"type\":\"scattercarpet\",\"marker\":{\"colorbar\":{\"outlinewidth\":0,\"ticks\":\"\"}}}],\"carpet\":[{\"aaxis\":{\"endlinecolor\":\"#2a3f5f\",\"gridcolor\":\"white\",\"linecolor\":\"white\",\"minorgridcolor\":\"white\",\"startlinecolor\":\"#2a3f5f\"},\"baxis\":{\"endlinecolor\":\"#2a3f5f\",\"gridcolor\":\"white\",\"linecolor\":\"white\",\"minorgridcolor\":\"white\",\"startlinecolor\":\"#2a3f5f\"},\"type\":\"carpet\"}],\"table\":[{\"cells\":{\"fill\":{\"color\":\"#EBF0F8\"},\"line\":{\"color\":\"white\"}},\"header\":{\"fill\":{\"color\":\"#C8D4E3\"},\"line\":{\"color\":\"white\"}},\"type\":\"table\"}],\"barpolar\":[{\"marker\":{\"line\":{\"color\":\"#E5ECF6\",\"width\":0.5},\"pattern\":{\"fillmode\":\"overlay\",\"size\":10,\"solidity\":0.2}},\"type\":\"barpolar\"}],\"pie\":[{\"automargin\":true,\"type\":\"pie\"}]},\"layout\":{\"autotypenumbers\":\"strict\",\"colorway\":[\"#636efa\",\"#EF553B\",\"#00cc96\",\"#ab63fa\",\"#FFA15A\",\"#19d3f3\",\"#FF6692\",\"#B6E880\",\"#FF97FF\",\"#FECB52\"],\"font\":{\"color\":\"#2a3f5f\"},\"hovermode\":\"closest\",\"hoverlabel\":{\"align\":\"left\"},\"paper_bgcolor\":\"white\",\"plot_bgcolor\":\"#E5ECF6\",\"polar\":{\"bgcolor\":\"#E5ECF6\",\"angularaxis\":{\"gridcolor\":\"white\",\"linecolor\":\"white\",\"ticks\":\"\"},\"radialaxis\":{\"gridcolor\":\"white\",\"linecolor\":\"white\",\"ticks\":\"\"}},\"ternary\":{\"bgcolor\":\"#E5ECF6\",\"aaxis\":{\"gridcolor\":\"white\",\"linecolor\":\"white\",\"ticks\":\"\"},\"baxis\":{\"gridcolor\":\"white\",\"linecolor\":\"white\",\"ticks\":\"\"},\"caxis\":{\"gridcolor\":\"white\",\"linecolor\":\"white\",\"ticks\":\"\"}},\"coloraxis\":{\"colorbar\":{\"outlinewidth\":0,\"ticks\":\"\"}},\"colorscale\":{\"sequential\":[[0.0,\"#0d0887\"],[0.1111111111111111,\"#46039f\"],[0.2222222222222222,\"#7201a8\"],[0.3333333333333333,\"#9c179e\"],[0.4444444444444444,\"#bd3786\"],[0.5555555555555556,\"#d8576b\"],[0.6666666666666666,\"#ed7953\"],[0.7777777777777778,\"#fb9f3a\"],[0.8888888888888888,\"#fdca26\"],[1.0,\"#f0f921\"]],\"sequentialminus\":[[0.0,\"#0d0887\"],[0.1111111111111111,\"#46039f\"],[0.2222222222222222,\"#7201a8\"],[0.3333333333333333,\"#9c179e\"],[0.4444444444444444,\"#bd3786\"],[0.5555555555555556,\"#d8576b\"],[0.6666666666666666,\"#ed7953\"],[0.7777777777777778,\"#fb9f3a\"],[0.8888888888888888,\"#fdca26\"],[1.0,\"#f0f921\"]],\"diverging\":[[0,\"#8e0152\"],[0.1,\"#c51b7d\"],[0.2,\"#de77ae\"],[0.3,\"#f1b6da\"],[0.4,\"#fde0ef\"],[0.5,\"#f7f7f7\"],[0.6,\"#e6f5d0\"],[0.7,\"#b8e186\"],[0.8,\"#7fbc41\"],[0.9,\"#4d9221\"],[1,\"#276419\"]]},\"xaxis\":{\"gridcolor\":\"white\",\"linecolor\":\"white\",\"ticks\":\"\",\"title\":{\"standoff\":15},\"zerolinecolor\":\"white\",\"automargin\":true,\"zerolinewidth\":2},\"yaxis\":{\"gridcolor\":\"white\",\"linecolor\":\"white\",\"ticks\":\"\",\"title\":{\"standoff\":15},\"zerolinecolor\":\"white\",\"automargin\":true,\"zerolinewidth\":2},\"scene\":{\"xaxis\":{\"backgroundcolor\":\"#E5ECF6\",\"gridcolor\":\"white\",\"linecolor\":\"white\",\"showbackground\":true,\"ticks\":\"\",\"zerolinecolor\":\"white\",\"gridwidth\":2},\"yaxis\":{\"backgroundcolor\":\"#E5ECF6\",\"gridcolor\":\"white\",\"linecolor\":\"white\",\"showbackground\":true,\"ticks\":\"\",\"zerolinecolor\":\"white\",\"gridwidth\":2},\"zaxis\":{\"backgroundcolor\":\"#E5ECF6\",\"gridcolor\":\"white\",\"linecolor\":\"white\",\"showbackground\":true,\"ticks\":\"\",\"zerolinecolor\":\"white\",\"gridwidth\":2}},\"shapedefaults\":{\"line\":{\"color\":\"#2a3f5f\"}},\"annotationdefaults\":{\"arrowcolor\":\"#2a3f5f\",\"arrowhead\":0,\"arrowwidth\":1},\"geo\":{\"bgcolor\":\"white\",\"landcolor\":\"#E5ECF6\",\"subunitcolor\":\"white\",\"showland\":true,\"showlakes\":true,\"lakecolor\":\"white\"},\"title\":{\"x\":0.05},\"mapbox\":{\"style\":\"light\"}}},\"xaxis\":{\"anchor\":\"y\",\"domain\":[0.0,1.0],\"title\":{\"text\":\"value\"}},\"yaxis\":{\"anchor\":\"x\",\"domain\":[0.0,1.0],\"title\":{\"text\":\"person\"}},\"legend\":{\"title\":{\"text\":\"variable\"},\"tracegroupgap\":0},\"margin\":{\"t\":60},\"height\":1200},                        {\"responsive\": true}                    ).then(function(){\n",
       "                            \n",
       "var gd = document.getElementById('22d6b01b-a452-410f-b2d8-076cf84d4a62');\n",
       "var x = new MutationObserver(function (mutations, observer) {{\n",
       "        var display = window.getComputedStyle(gd).display;\n",
       "        if (!display || display === 'none') {{\n",
       "            console.log([gd, 'removed!']);\n",
       "            Plotly.purge(gd);\n",
       "            observer.disconnect();\n",
       "        }}\n",
       "}});\n",
       "\n",
       "// Listen for the removal of the full notebook cells\n",
       "var notebookContainer = gd.closest('#notebook-container');\n",
       "if (notebookContainer) {{\n",
       "    x.observe(notebookContainer, {childList: true});\n",
       "}}\n",
       "\n",
       "// Listen for the clearing of the current output cell\n",
       "var outputEl = gd.closest('.output');\n",
       "if (outputEl) {{\n",
       "    x.observe(outputEl, {childList: true});\n",
       "}}\n",
       "\n",
       "                        })                };                });            </script>        </div>"
      ]
     },
     "metadata": {},
     "output_type": "display_data"
    }
   ],
   "source": [
    "from plotly.express import scatter\n",
    "scatter(data_frame=births_df, y='person', x=['year_birth', 'year_death',], hover_name='person', height=1200)"
   ]
  },
  {
   "cell_type": "markdown",
   "id": "f36d248a",
   "metadata": {
    "papermill": {
     "duration": 0.004681,
     "end_time": "2024-02-27T14:59:45.383119",
     "exception": false,
     "start_time": "2024-02-27T14:59:45.378438",
     "status": "completed"
    },
    "tags": []
   },
   "source": [
    "The issues with pandas dates keeps us from being able to use the plotly timeline plot, but we can fake it using a scatter plot. This plot also shows living people as still living, which is nice."
   ]
  },
  {
   "cell_type": "code",
   "execution_count": 4,
   "id": "a465a390",
   "metadata": {
    "execution": {
     "iopub.execute_input": "2024-02-27T14:59:45.394634Z",
     "iopub.status.busy": "2024-02-27T14:59:45.394219Z",
     "iopub.status.idle": "2024-02-27T14:59:45.411864Z",
     "shell.execute_reply": "2024-02-27T14:59:45.410622Z"
    },
    "papermill": {
     "duration": 0.026456,
     "end_time": "2024-02-27T14:59:45.414322",
     "exception": false,
     "start_time": "2024-02-27T14:59:45.387866",
     "status": "completed"
    },
    "tags": []
   },
   "outputs": [
    {
     "data": {
      "text/html": [
       "<div>\n",
       "<style scoped>\n",
       "    .dataframe tbody tr th:only-of-type {\n",
       "        vertical-align: middle;\n",
       "    }\n",
       "\n",
       "    .dataframe tbody tr th {\n",
       "        vertical-align: top;\n",
       "    }\n",
       "\n",
       "    .dataframe thead th {\n",
       "        text-align: right;\n",
       "    }\n",
       "</style>\n",
       "<table border=\"1\" class=\"dataframe\">\n",
       "  <thead>\n",
       "    <tr style=\"text-align: right;\">\n",
       "      <th></th>\n",
       "      <th>year_death</th>\n",
       "      <th>person</th>\n",
       "      <th>description</th>\n",
       "      <th>year_birth</th>\n",
       "    </tr>\n",
       "  </thead>\n",
       "  <tbody>\n",
       "    <tr>\n",
       "      <th>0</th>\n",
       "      <td>468</td>\n",
       "      <td>Pope Hilarius</td>\n",
       "      <td>NaN</td>\n",
       "      <td>NaN</td>\n",
       "    </tr>\n",
       "    <tr>\n",
       "      <th>1</th>\n",
       "      <td>992</td>\n",
       "      <td>Oswald of Worcester</td>\n",
       "      <td>Anglo-Saxon archbishop and saint</td>\n",
       "      <td>925.0</td>\n",
       "    </tr>\n",
       "    <tr>\n",
       "      <th>2</th>\n",
       "      <td>1460</td>\n",
       "      <td>Albert III</td>\n",
       "      <td>Duke of Bavaria-Munich</td>\n",
       "      <td>1401.0</td>\n",
       "    </tr>\n",
       "    <tr>\n",
       "      <th>3</th>\n",
       "      <td>1528</td>\n",
       "      <td>Patrick Hamilton</td>\n",
       "      <td>Scottish Protestant reformer and martyr</td>\n",
       "      <td>1504.0</td>\n",
       "    </tr>\n",
       "    <tr>\n",
       "      <th>4</th>\n",
       "      <td>1592</td>\n",
       "      <td>Alessandro Striggio</td>\n",
       "      <td>Italian composer and diplomat</td>\n",
       "      <td>1536.0</td>\n",
       "    </tr>\n",
       "  </tbody>\n",
       "</table>\n",
       "</div>"
      ],
      "text/plain": [
       "   year_death               person                               description  \\\n",
       "0         468        Pope Hilarius                                       NaN   \n",
       "1         992  Oswald of Worcester         Anglo-Saxon archbishop and saint    \n",
       "2        1460           Albert III                   Duke of Bavaria-Munich    \n",
       "3        1528     Patrick Hamilton  Scottish Protestant reformer and martyr    \n",
       "4        1592  Alessandro Striggio            Italian composer and diplomat    \n",
       "\n",
       "   year_birth  \n",
       "0         NaN  \n",
       "1       925.0  \n",
       "2      1401.0  \n",
       "3      1504.0  \n",
       "4      1536.0  "
      ]
     },
     "execution_count": 4,
     "metadata": {},
     "output_type": "execute_result"
    }
   ],
   "source": [
    "DEATH = '/kaggle/input/leap-year-days/deaths.csv'\n",
    "death_df = pd.read_csv(filepath_or_buffer=DEATH)\n",
    "death_df.head()"
   ]
  },
  {
   "cell_type": "code",
   "execution_count": 5,
   "id": "0970275b",
   "metadata": {
    "execution": {
     "iopub.execute_input": "2024-02-27T14:59:45.427791Z",
     "iopub.status.busy": "2024-02-27T14:59:45.427371Z",
     "iopub.status.idle": "2024-02-27T14:59:45.508754Z",
     "shell.execute_reply": "2024-02-27T14:59:45.507555Z"
    },
    "papermill": {
     "duration": 0.091425,
     "end_time": "2024-02-27T14:59:45.511308",
     "exception": false,
     "start_time": "2024-02-27T14:59:45.419883",
     "status": "completed"
    },
    "tags": []
   },
   "outputs": [
    {
     "data": {
      "text/html": [
       "<div>                            <div id=\"b8c7e5d7-5cdd-454d-93dc-a611a4bd0268\" class=\"plotly-graph-div\" style=\"height:1200px; width:100%;\"></div>            <script type=\"text/javascript\">                require([\"plotly\"], function(Plotly) {                    window.PLOTLYENV=window.PLOTLYENV || {};                                    if (document.getElementById(\"b8c7e5d7-5cdd-454d-93dc-a611a4bd0268\")) {                    Plotly.newPlot(                        \"b8c7e5d7-5cdd-454d-93dc-a611a4bd0268\",                        [{\"hovertemplate\":\"\\u003cb\\u003e%{hovertext}\\u003c\\u002fb\\u003e\\u003cbr\\u003e\\u003cbr\\u003evariable=year_birth\\u003cbr\\u003evalue=%{x}\\u003cbr\\u003eperson=%{y}\\u003cextra\\u003e\\u003c\\u002fextra\\u003e\",\"hovertext\":[\"Pope Hilarius\",\"Oswald of Worcester\",\"Albert III\",\"Patrick Hamilton\",\"Alessandro Striggio\",\"Caspar Hennenberger\",\"John Whitgift\",\"Johann Conrad Peyer\",\"John Theophilus Desaguliers\",\"Johann Andreas Stein\",\"Johann Joachim Eschenburg\",\"Louis-François Lejeune\",\"Auguste Chapdelaine\",\"Ludwig I of Bavaria \",\"James Milne Wilson\",\"Patrick O'Sullivan\",\"Henri Joseph Anastase Perrotin\",\"Pat Garrett\",\"John Hope\",\"John Nanson\",\"Ernie Courtney\",\"Frederic Chapple\",\"Adolphe Appia\",\"Ina Coolbrith\",\"Arthur Mills Lea\",\"Giuseppe Vitali\",\"E. F. Benson\",\"Pehr Evind Svinhufvud\",\"Robert Barrington-Ward\",\"Sarah Ann Jenyns\",\"Elpidio Quirino\",\"Melvin Purvis\",\"Walter Yust\",\"Frank Albertson\",\"Tore Ørjasæter\",\"Tom Davies\",\"Florence P. Dwyer\",\"Yigal Allon\",\"Gil Elvgren\",\"Ludwik Starski\",\"Ruth Pitter\",\"Frank Daniel\",\"Wes Farrell\",\"Ralph Rowe\",\"Dennis Danell\",\"Kagamisato Kiyoji\",\"Jerome Lawrence\",\"Harold Bernard St. John\",\"Lorrie Wilmot\",\"Janet Kagan\",\"Erik Ortvad\",\"Akira Yamada\",\"Davy Jones\",\"Sheldon Moldoff\",\"P. K. Narayana Panicker\",\"Wenn V. Deramas\",\"Gil Hill\",\"Josefin Nilsson\",\"Mumtaz Qadri\",\"Louise Rennison\",\"Dieter Laser\",\"Éva Székely\"],\"legendgroup\":\"year_birth\",\"marker\":{\"color\":\"#636efa\",\"symbol\":\"circle\"},\"mode\":\"markers\",\"name\":\"year_birth\",\"orientation\":\"h\",\"showlegend\":true,\"x\":[null,925.0,1401.0,1504.0,1536.0,1529.0,1530.0,1653.0,1683.0,1728.0,1743.0,1775.0,1814.0,1786.0,1812.0,1818.0,1845.0,1850.0,1860.0,1863.0,1875.0,1845.0,1862.0,1841.0,1868.0,1875.0,1867.0,1861.0,1891.0,1865.0,1890.0,1903.0,1894.0,1909.0,1886.0,1896.0,1902.0,1918.0,1914.0,1903.0,1897.0,1926.0,1939.0,1924.0,1961.0,1923.0,1915.0,1931.0,1943.0,1946.0,1917.0,1922.0,1945.0,1920.0,1930.0,1966.0,1931.0,1969.0,1985.0,1951.0,1942.0,1927.0],\"xaxis\":\"x\",\"y\":[\"Pope Hilarius\",\"Oswald of Worcester\",\"Albert III\",\"Patrick Hamilton\",\"Alessandro Striggio\",\"Caspar Hennenberger\",\"John Whitgift\",\"Johann Conrad Peyer\",\"John Theophilus Desaguliers\",\"Johann Andreas Stein\",\"Johann Joachim Eschenburg\",\"Louis-François Lejeune\",\"Auguste Chapdelaine\",\"Ludwig I of Bavaria \",\"James Milne Wilson\",\"Patrick O'Sullivan\",\"Henri Joseph Anastase Perrotin\",\"Pat Garrett\",\"John Hope\",\"John Nanson\",\"Ernie Courtney\",\"Frederic Chapple\",\"Adolphe Appia\",\"Ina Coolbrith\",\"Arthur Mills Lea\",\"Giuseppe Vitali\",\"E. F. Benson\",\"Pehr Evind Svinhufvud\",\"Robert Barrington-Ward\",\"Sarah Ann Jenyns\",\"Elpidio Quirino\",\"Melvin Purvis\",\"Walter Yust\",\"Frank Albertson\",\"Tore Ørjasæter\",\"Tom Davies\",\"Florence P. Dwyer\",\"Yigal Allon\",\"Gil Elvgren\",\"Ludwik Starski\",\"Ruth Pitter\",\"Frank Daniel\",\"Wes Farrell\",\"Ralph Rowe\",\"Dennis Danell\",\"Kagamisato Kiyoji\",\"Jerome Lawrence\",\"Harold Bernard St. John\",\"Lorrie Wilmot\",\"Janet Kagan\",\"Erik Ortvad\",\"Akira Yamada\",\"Davy Jones\",\"Sheldon Moldoff\",\"P. K. Narayana Panicker\",\"Wenn V. Deramas\",\"Gil Hill\",\"Josefin Nilsson\",\"Mumtaz Qadri\",\"Louise Rennison\",\"Dieter Laser\",\"Éva Székely\"],\"yaxis\":\"y\",\"type\":\"scatter\"},{\"hovertemplate\":\"\\u003cb\\u003e%{hovertext}\\u003c\\u002fb\\u003e\\u003cbr\\u003e\\u003cbr\\u003evariable=year_death\\u003cbr\\u003evalue=%{x}\\u003cbr\\u003eperson=%{y}\\u003cextra\\u003e\\u003c\\u002fextra\\u003e\",\"hovertext\":[\"Pope Hilarius\",\"Oswald of Worcester\",\"Albert III\",\"Patrick Hamilton\",\"Alessandro Striggio\",\"Caspar Hennenberger\",\"John Whitgift\",\"Johann Conrad Peyer\",\"John Theophilus Desaguliers\",\"Johann Andreas Stein\",\"Johann Joachim Eschenburg\",\"Louis-François Lejeune\",\"Auguste Chapdelaine\",\"Ludwig I of Bavaria \",\"James Milne Wilson\",\"Patrick O'Sullivan\",\"Henri Joseph Anastase Perrotin\",\"Pat Garrett\",\"John Hope\",\"John Nanson\",\"Ernie Courtney\",\"Frederic Chapple\",\"Adolphe Appia\",\"Ina Coolbrith\",\"Arthur Mills Lea\",\"Giuseppe Vitali\",\"E. F. Benson\",\"Pehr Evind Svinhufvud\",\"Robert Barrington-Ward\",\"Sarah Ann Jenyns\",\"Elpidio Quirino\",\"Melvin Purvis\",\"Walter Yust\",\"Frank Albertson\",\"Tore Ørjasæter\",\"Tom Davies\",\"Florence P. Dwyer\",\"Yigal Allon\",\"Gil Elvgren\",\"Ludwik Starski\",\"Ruth Pitter\",\"Frank Daniel\",\"Wes Farrell\",\"Ralph Rowe\",\"Dennis Danell\",\"Kagamisato Kiyoji\",\"Jerome Lawrence\",\"Harold Bernard St. John\",\"Lorrie Wilmot\",\"Janet Kagan\",\"Erik Ortvad\",\"Akira Yamada\",\"Davy Jones\",\"Sheldon Moldoff\",\"P. K. Narayana Panicker\",\"Wenn V. Deramas\",\"Gil Hill\",\"Josefin Nilsson\",\"Mumtaz Qadri\",\"Louise Rennison\",\"Dieter Laser\",\"Éva Székely\"],\"legendgroup\":\"year_death\",\"marker\":{\"color\":\"#EF553B\",\"symbol\":\"circle\"},\"mode\":\"markers\",\"name\":\"year_death\",\"orientation\":\"h\",\"showlegend\":true,\"x\":[468.0,992.0,1460.0,1528.0,1592.0,1600.0,1604.0,1712.0,1744.0,1792.0,1820.0,1848.0,1856.0,1868.0,1880.0,1904.0,1904.0,1908.0,1908.0,1916.0,1920.0,1924.0,1928.0,1928.0,1932.0,1932.0,1940.0,1944.0,1948.0,1952.0,1956.0,1960.0,1960.0,1964.0,1968.0,1972.0,1976.0,1980.0,1980.0,1984.0,1992.0,1996.0,1996.0,1996.0,2000.0,2004.0,2004.0,2004.0,2004.0,2008.0,2008.0,2008.0,2012.0,2012.0,2012.0,2016.0,2016.0,2016.0,2016.0,2016.0,2020.0,2020.0],\"xaxis\":\"x\",\"y\":[\"Pope Hilarius\",\"Oswald of Worcester\",\"Albert III\",\"Patrick Hamilton\",\"Alessandro Striggio\",\"Caspar Hennenberger\",\"John Whitgift\",\"Johann Conrad Peyer\",\"John Theophilus Desaguliers\",\"Johann Andreas Stein\",\"Johann Joachim Eschenburg\",\"Louis-François Lejeune\",\"Auguste Chapdelaine\",\"Ludwig I of Bavaria \",\"James Milne Wilson\",\"Patrick O'Sullivan\",\"Henri Joseph Anastase Perrotin\",\"Pat Garrett\",\"John Hope\",\"John Nanson\",\"Ernie Courtney\",\"Frederic Chapple\",\"Adolphe Appia\",\"Ina Coolbrith\",\"Arthur Mills Lea\",\"Giuseppe Vitali\",\"E. F. Benson\",\"Pehr Evind Svinhufvud\",\"Robert Barrington-Ward\",\"Sarah Ann Jenyns\",\"Elpidio Quirino\",\"Melvin Purvis\",\"Walter Yust\",\"Frank Albertson\",\"Tore Ørjasæter\",\"Tom Davies\",\"Florence P. Dwyer\",\"Yigal Allon\",\"Gil Elvgren\",\"Ludwik Starski\",\"Ruth Pitter\",\"Frank Daniel\",\"Wes Farrell\",\"Ralph Rowe\",\"Dennis Danell\",\"Kagamisato Kiyoji\",\"Jerome Lawrence\",\"Harold Bernard St. John\",\"Lorrie Wilmot\",\"Janet Kagan\",\"Erik Ortvad\",\"Akira Yamada\",\"Davy Jones\",\"Sheldon Moldoff\",\"P. K. Narayana Panicker\",\"Wenn V. Deramas\",\"Gil Hill\",\"Josefin Nilsson\",\"Mumtaz Qadri\",\"Louise Rennison\",\"Dieter Laser\",\"Éva Székely\"],\"yaxis\":\"y\",\"type\":\"scatter\"}],                        {\"template\":{\"data\":{\"histogram2dcontour\":[{\"type\":\"histogram2dcontour\",\"colorbar\":{\"outlinewidth\":0,\"ticks\":\"\"},\"colorscale\":[[0.0,\"#0d0887\"],[0.1111111111111111,\"#46039f\"],[0.2222222222222222,\"#7201a8\"],[0.3333333333333333,\"#9c179e\"],[0.4444444444444444,\"#bd3786\"],[0.5555555555555556,\"#d8576b\"],[0.6666666666666666,\"#ed7953\"],[0.7777777777777778,\"#fb9f3a\"],[0.8888888888888888,\"#fdca26\"],[1.0,\"#f0f921\"]]}],\"choropleth\":[{\"type\":\"choropleth\",\"colorbar\":{\"outlinewidth\":0,\"ticks\":\"\"}}],\"histogram2d\":[{\"type\":\"histogram2d\",\"colorbar\":{\"outlinewidth\":0,\"ticks\":\"\"},\"colorscale\":[[0.0,\"#0d0887\"],[0.1111111111111111,\"#46039f\"],[0.2222222222222222,\"#7201a8\"],[0.3333333333333333,\"#9c179e\"],[0.4444444444444444,\"#bd3786\"],[0.5555555555555556,\"#d8576b\"],[0.6666666666666666,\"#ed7953\"],[0.7777777777777778,\"#fb9f3a\"],[0.8888888888888888,\"#fdca26\"],[1.0,\"#f0f921\"]]}],\"heatmap\":[{\"type\":\"heatmap\",\"colorbar\":{\"outlinewidth\":0,\"ticks\":\"\"},\"colorscale\":[[0.0,\"#0d0887\"],[0.1111111111111111,\"#46039f\"],[0.2222222222222222,\"#7201a8\"],[0.3333333333333333,\"#9c179e\"],[0.4444444444444444,\"#bd3786\"],[0.5555555555555556,\"#d8576b\"],[0.6666666666666666,\"#ed7953\"],[0.7777777777777778,\"#fb9f3a\"],[0.8888888888888888,\"#fdca26\"],[1.0,\"#f0f921\"]]}],\"heatmapgl\":[{\"type\":\"heatmapgl\",\"colorbar\":{\"outlinewidth\":0,\"ticks\":\"\"},\"colorscale\":[[0.0,\"#0d0887\"],[0.1111111111111111,\"#46039f\"],[0.2222222222222222,\"#7201a8\"],[0.3333333333333333,\"#9c179e\"],[0.4444444444444444,\"#bd3786\"],[0.5555555555555556,\"#d8576b\"],[0.6666666666666666,\"#ed7953\"],[0.7777777777777778,\"#fb9f3a\"],[0.8888888888888888,\"#fdca26\"],[1.0,\"#f0f921\"]]}],\"contourcarpet\":[{\"type\":\"contourcarpet\",\"colorbar\":{\"outlinewidth\":0,\"ticks\":\"\"}}],\"contour\":[{\"type\":\"contour\",\"colorbar\":{\"outlinewidth\":0,\"ticks\":\"\"},\"colorscale\":[[0.0,\"#0d0887\"],[0.1111111111111111,\"#46039f\"],[0.2222222222222222,\"#7201a8\"],[0.3333333333333333,\"#9c179e\"],[0.4444444444444444,\"#bd3786\"],[0.5555555555555556,\"#d8576b\"],[0.6666666666666666,\"#ed7953\"],[0.7777777777777778,\"#fb9f3a\"],[0.8888888888888888,\"#fdca26\"],[1.0,\"#f0f921\"]]}],\"surface\":[{\"type\":\"surface\",\"colorbar\":{\"outlinewidth\":0,\"ticks\":\"\"},\"colorscale\":[[0.0,\"#0d0887\"],[0.1111111111111111,\"#46039f\"],[0.2222222222222222,\"#7201a8\"],[0.3333333333333333,\"#9c179e\"],[0.4444444444444444,\"#bd3786\"],[0.5555555555555556,\"#d8576b\"],[0.6666666666666666,\"#ed7953\"],[0.7777777777777778,\"#fb9f3a\"],[0.8888888888888888,\"#fdca26\"],[1.0,\"#f0f921\"]]}],\"mesh3d\":[{\"type\":\"mesh3d\",\"colorbar\":{\"outlinewidth\":0,\"ticks\":\"\"}}],\"scatter\":[{\"fillpattern\":{\"fillmode\":\"overlay\",\"size\":10,\"solidity\":0.2},\"type\":\"scatter\"}],\"parcoords\":[{\"type\":\"parcoords\",\"line\":{\"colorbar\":{\"outlinewidth\":0,\"ticks\":\"\"}}}],\"scatterpolargl\":[{\"type\":\"scatterpolargl\",\"marker\":{\"colorbar\":{\"outlinewidth\":0,\"ticks\":\"\"}}}],\"bar\":[{\"error_x\":{\"color\":\"#2a3f5f\"},\"error_y\":{\"color\":\"#2a3f5f\"},\"marker\":{\"line\":{\"color\":\"#E5ECF6\",\"width\":0.5},\"pattern\":{\"fillmode\":\"overlay\",\"size\":10,\"solidity\":0.2}},\"type\":\"bar\"}],\"scattergeo\":[{\"type\":\"scattergeo\",\"marker\":{\"colorbar\":{\"outlinewidth\":0,\"ticks\":\"\"}}}],\"scatterpolar\":[{\"type\":\"scatterpolar\",\"marker\":{\"colorbar\":{\"outlinewidth\":0,\"ticks\":\"\"}}}],\"histogram\":[{\"marker\":{\"pattern\":{\"fillmode\":\"overlay\",\"size\":10,\"solidity\":0.2}},\"type\":\"histogram\"}],\"scattergl\":[{\"type\":\"scattergl\",\"marker\":{\"colorbar\":{\"outlinewidth\":0,\"ticks\":\"\"}}}],\"scatter3d\":[{\"type\":\"scatter3d\",\"line\":{\"colorbar\":{\"outlinewidth\":0,\"ticks\":\"\"}},\"marker\":{\"colorbar\":{\"outlinewidth\":0,\"ticks\":\"\"}}}],\"scattermapbox\":[{\"type\":\"scattermapbox\",\"marker\":{\"colorbar\":{\"outlinewidth\":0,\"ticks\":\"\"}}}],\"scatterternary\":[{\"type\":\"scatterternary\",\"marker\":{\"colorbar\":{\"outlinewidth\":0,\"ticks\":\"\"}}}],\"scattercarpet\":[{\"type\":\"scattercarpet\",\"marker\":{\"colorbar\":{\"outlinewidth\":0,\"ticks\":\"\"}}}],\"carpet\":[{\"aaxis\":{\"endlinecolor\":\"#2a3f5f\",\"gridcolor\":\"white\",\"linecolor\":\"white\",\"minorgridcolor\":\"white\",\"startlinecolor\":\"#2a3f5f\"},\"baxis\":{\"endlinecolor\":\"#2a3f5f\",\"gridcolor\":\"white\",\"linecolor\":\"white\",\"minorgridcolor\":\"white\",\"startlinecolor\":\"#2a3f5f\"},\"type\":\"carpet\"}],\"table\":[{\"cells\":{\"fill\":{\"color\":\"#EBF0F8\"},\"line\":{\"color\":\"white\"}},\"header\":{\"fill\":{\"color\":\"#C8D4E3\"},\"line\":{\"color\":\"white\"}},\"type\":\"table\"}],\"barpolar\":[{\"marker\":{\"line\":{\"color\":\"#E5ECF6\",\"width\":0.5},\"pattern\":{\"fillmode\":\"overlay\",\"size\":10,\"solidity\":0.2}},\"type\":\"barpolar\"}],\"pie\":[{\"automargin\":true,\"type\":\"pie\"}]},\"layout\":{\"autotypenumbers\":\"strict\",\"colorway\":[\"#636efa\",\"#EF553B\",\"#00cc96\",\"#ab63fa\",\"#FFA15A\",\"#19d3f3\",\"#FF6692\",\"#B6E880\",\"#FF97FF\",\"#FECB52\"],\"font\":{\"color\":\"#2a3f5f\"},\"hovermode\":\"closest\",\"hoverlabel\":{\"align\":\"left\"},\"paper_bgcolor\":\"white\",\"plot_bgcolor\":\"#E5ECF6\",\"polar\":{\"bgcolor\":\"#E5ECF6\",\"angularaxis\":{\"gridcolor\":\"white\",\"linecolor\":\"white\",\"ticks\":\"\"},\"radialaxis\":{\"gridcolor\":\"white\",\"linecolor\":\"white\",\"ticks\":\"\"}},\"ternary\":{\"bgcolor\":\"#E5ECF6\",\"aaxis\":{\"gridcolor\":\"white\",\"linecolor\":\"white\",\"ticks\":\"\"},\"baxis\":{\"gridcolor\":\"white\",\"linecolor\":\"white\",\"ticks\":\"\"},\"caxis\":{\"gridcolor\":\"white\",\"linecolor\":\"white\",\"ticks\":\"\"}},\"coloraxis\":{\"colorbar\":{\"outlinewidth\":0,\"ticks\":\"\"}},\"colorscale\":{\"sequential\":[[0.0,\"#0d0887\"],[0.1111111111111111,\"#46039f\"],[0.2222222222222222,\"#7201a8\"],[0.3333333333333333,\"#9c179e\"],[0.4444444444444444,\"#bd3786\"],[0.5555555555555556,\"#d8576b\"],[0.6666666666666666,\"#ed7953\"],[0.7777777777777778,\"#fb9f3a\"],[0.8888888888888888,\"#fdca26\"],[1.0,\"#f0f921\"]],\"sequentialminus\":[[0.0,\"#0d0887\"],[0.1111111111111111,\"#46039f\"],[0.2222222222222222,\"#7201a8\"],[0.3333333333333333,\"#9c179e\"],[0.4444444444444444,\"#bd3786\"],[0.5555555555555556,\"#d8576b\"],[0.6666666666666666,\"#ed7953\"],[0.7777777777777778,\"#fb9f3a\"],[0.8888888888888888,\"#fdca26\"],[1.0,\"#f0f921\"]],\"diverging\":[[0,\"#8e0152\"],[0.1,\"#c51b7d\"],[0.2,\"#de77ae\"],[0.3,\"#f1b6da\"],[0.4,\"#fde0ef\"],[0.5,\"#f7f7f7\"],[0.6,\"#e6f5d0\"],[0.7,\"#b8e186\"],[0.8,\"#7fbc41\"],[0.9,\"#4d9221\"],[1,\"#276419\"]]},\"xaxis\":{\"gridcolor\":\"white\",\"linecolor\":\"white\",\"ticks\":\"\",\"title\":{\"standoff\":15},\"zerolinecolor\":\"white\",\"automargin\":true,\"zerolinewidth\":2},\"yaxis\":{\"gridcolor\":\"white\",\"linecolor\":\"white\",\"ticks\":\"\",\"title\":{\"standoff\":15},\"zerolinecolor\":\"white\",\"automargin\":true,\"zerolinewidth\":2},\"scene\":{\"xaxis\":{\"backgroundcolor\":\"#E5ECF6\",\"gridcolor\":\"white\",\"linecolor\":\"white\",\"showbackground\":true,\"ticks\":\"\",\"zerolinecolor\":\"white\",\"gridwidth\":2},\"yaxis\":{\"backgroundcolor\":\"#E5ECF6\",\"gridcolor\":\"white\",\"linecolor\":\"white\",\"showbackground\":true,\"ticks\":\"\",\"zerolinecolor\":\"white\",\"gridwidth\":2},\"zaxis\":{\"backgroundcolor\":\"#E5ECF6\",\"gridcolor\":\"white\",\"linecolor\":\"white\",\"showbackground\":true,\"ticks\":\"\",\"zerolinecolor\":\"white\",\"gridwidth\":2}},\"shapedefaults\":{\"line\":{\"color\":\"#2a3f5f\"}},\"annotationdefaults\":{\"arrowcolor\":\"#2a3f5f\",\"arrowhead\":0,\"arrowwidth\":1},\"geo\":{\"bgcolor\":\"white\",\"landcolor\":\"#E5ECF6\",\"subunitcolor\":\"white\",\"showland\":true,\"showlakes\":true,\"lakecolor\":\"white\"},\"title\":{\"x\":0.05},\"mapbox\":{\"style\":\"light\"}}},\"xaxis\":{\"anchor\":\"y\",\"domain\":[0.0,1.0],\"title\":{\"text\":\"value\"}},\"yaxis\":{\"anchor\":\"x\",\"domain\":[0.0,1.0],\"title\":{\"text\":\"person\"}},\"legend\":{\"title\":{\"text\":\"variable\"},\"tracegroupgap\":0},\"margin\":{\"t\":60},\"height\":1200},                        {\"responsive\": true}                    ).then(function(){\n",
       "                            \n",
       "var gd = document.getElementById('b8c7e5d7-5cdd-454d-93dc-a611a4bd0268');\n",
       "var x = new MutationObserver(function (mutations, observer) {{\n",
       "        var display = window.getComputedStyle(gd).display;\n",
       "        if (!display || display === 'none') {{\n",
       "            console.log([gd, 'removed!']);\n",
       "            Plotly.purge(gd);\n",
       "            observer.disconnect();\n",
       "        }}\n",
       "}});\n",
       "\n",
       "// Listen for the removal of the full notebook cells\n",
       "var notebookContainer = gd.closest('#notebook-container');\n",
       "if (notebookContainer) {{\n",
       "    x.observe(notebookContainer, {childList: true});\n",
       "}}\n",
       "\n",
       "// Listen for the clearing of the current output cell\n",
       "var outputEl = gd.closest('.output');\n",
       "if (outputEl) {{\n",
       "    x.observe(outputEl, {childList: true});\n",
       "}}\n",
       "\n",
       "                        })                };                });            </script>        </div>"
      ]
     },
     "metadata": {},
     "output_type": "display_data"
    }
   ],
   "source": [
    "scatter(data_frame=death_df, y='person', x=['year_birth', 'year_death'], hover_name='person', height=1200)"
   ]
  }
 ],
 "metadata": {
  "kaggle": {
   "accelerator": "none",
   "dataSources": [
    {
     "datasetId": 4501383,
     "sourceId": 7709363,
     "sourceType": "datasetVersion"
    }
   ],
   "dockerImageVersionId": 30646,
   "isGpuEnabled": false,
   "isInternetEnabled": true,
   "language": "python",
   "sourceType": "notebook"
  },
  "kernelspec": {
   "display_name": "Python 3",
   "language": "python",
   "name": "python3"
  },
  "language_info": {
   "codemirror_mode": {
    "name": "ipython",
    "version": 3
   },
   "file_extension": ".py",
   "mimetype": "text/x-python",
   "name": "python",
   "nbconvert_exporter": "python",
   "pygments_lexer": "ipython3",
   "version": "3.10.13"
  },
  "papermill": {
   "default_parameters": {},
   "duration": 8.068627,
   "end_time": "2024-02-27T14:59:46.340049",
   "environment_variables": {},
   "exception": null,
   "input_path": "__notebook__.ipynb",
   "output_path": "__notebook__.ipynb",
   "parameters": {},
   "start_time": "2024-02-27T14:59:38.271422",
   "version": "2.5.0"
  }
 },
 "nbformat": 4,
 "nbformat_minor": 5
}
