{
 "cells": [
  {
   "cell_type": "code",
   "execution_count": 1,
   "id": "06d80689",
   "metadata": {
    "execution": {
     "iopub.execute_input": "2023-11-06T21:17:01.373913Z",
     "iopub.status.busy": "2023-11-06T21:17:01.373568Z",
     "iopub.status.idle": "2023-11-06T21:17:02.209123Z",
     "shell.execute_reply": "2023-11-06T21:17:02.207767Z"
    },
    "papermill": {
     "duration": 0.841828,
     "end_time": "2023-11-06T21:17:02.211864",
     "exception": false,
     "start_time": "2023-11-06T21:17:01.370036",
     "status": "completed"
    },
    "tags": []
   },
   "outputs": [
    {
     "name": "stdout",
     "output_type": "stream",
     "text": [
      "built scoring function in 0:00:00.000239\n"
     ]
    }
   ],
   "source": [
    "import pandas as pd\n",
    "from arrow import now\n",
    "\n",
    "time_start = now()\n",
    "\n",
    "def score(arg: str, ) -> float:\n",
    "    result = 0\n",
    "    result += 0.5 if len(arg) < 1798 else 0\n",
    "    result += 0.5 if len(arg.split()) < 290 else 0\n",
    "    return result\n",
    "\n",
    "print('built scoring function in {}'.format(now() - time_start))"
   ]
  },
  {
   "cell_type": "code",
   "execution_count": 2,
   "id": "869c4c33",
   "metadata": {
    "execution": {
     "iopub.execute_input": "2023-11-06T21:17:02.219544Z",
     "iopub.status.busy": "2023-11-06T21:17:02.219054Z",
     "iopub.status.idle": "2023-11-06T21:17:02.247669Z",
     "shell.execute_reply": "2023-11-06T21:17:02.246964Z"
    },
    "papermill": {
     "duration": 0.035805,
     "end_time": "2023-11-06T21:17:02.249715",
     "exception": false,
     "start_time": "2023-11-06T21:17:02.213910",
     "status": "completed"
    },
    "tags": []
   },
   "outputs": [
    {
     "name": "stdout",
     "output_type": "stream",
     "text": [
      "generated scores in 0:00:00.023438\n"
     ]
    }
   ],
   "source": [
    "time_start = now()\n",
    "test_df = pd.read_csv(filepath_or_buffer='../input/llm-detect-ai-generated-text/test_essays.csv')\n",
    "test_df['generated'] = test_df['text'].apply(func=score, )\n",
    "print('generated scores in {}'.format(now() - time_start))"
   ]
  },
  {
   "cell_type": "code",
   "execution_count": 3,
   "id": "549207f5",
   "metadata": {
    "execution": {
     "iopub.execute_input": "2023-11-06T21:17:02.255034Z",
     "iopub.status.busy": "2023-11-06T21:17:02.254505Z",
     "iopub.status.idle": "2023-11-06T21:17:02.272056Z",
     "shell.execute_reply": "2023-11-06T21:17:02.270495Z"
    },
    "papermill": {
     "duration": 0.023065,
     "end_time": "2023-11-06T21:17:02.274599",
     "exception": false,
     "start_time": "2023-11-06T21:17:02.251534",
     "status": "completed"
    },
    "tags": []
   },
   "outputs": [],
   "source": [
    "test_df.drop(columns=['prompt_id', 'text']).to_csv(path_or_buf='submission.csv', index=False)"
   ]
  }
 ],
 "metadata": {
  "kernelspec": {
   "display_name": "Python 3",
   "language": "python",
   "name": "python3"
  },
  "language_info": {
   "codemirror_mode": {
    "name": "ipython",
    "version": 3
   },
   "file_extension": ".py",
   "mimetype": "text/x-python",
   "name": "python",
   "nbconvert_exporter": "python",
   "pygments_lexer": "ipython3",
   "version": "3.10.12"
  },
  "papermill": {
   "default_parameters": {},
   "duration": 5.420693,
   "end_time": "2023-11-06T21:17:02.696814",
   "environment_variables": {},
   "exception": null,
   "input_path": "__notebook__.ipynb",
   "output_path": "__notebook__.ipynb",
   "parameters": {},
   "start_time": "2023-11-06T21:16:57.276121",
   "version": "2.4.0"
  }
 },
 "nbformat": 4,
 "nbformat_minor": 5
}
