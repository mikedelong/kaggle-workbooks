{
 "cells": [
  {
   "cell_type": "code",
   "execution_count": 1,
   "id": "a5569fa5",
   "metadata": {
    "execution": {
     "iopub.execute_input": "2023-11-06T21:10:54.633687Z",
     "iopub.status.busy": "2023-11-06T21:10:54.632634Z",
     "iopub.status.idle": "2023-11-06T21:10:55.058025Z",
     "shell.execute_reply": "2023-11-06T21:10:55.056868Z"
    },
    "papermill": {
     "duration": 0.432696,
     "end_time": "2023-11-06T21:10:55.060863",
     "exception": false,
     "start_time": "2023-11-06T21:10:54.628167",
     "status": "completed"
    },
    "tags": []
   },
   "outputs": [],
   "source": [
    "import pandas as pd\n",
    "from arrow import now\n",
    "\n",
    "time_start = now()\n",
    "\n",
    "def score(arg: str, ) -> float:\n",
    "    result = 0\n",
    "    result += 0.5 if len(arg) < 1798 else 0\n",
    "    result += 0.5 if len(arg.split()) < 290 else 0\n",
    "    return result"
   ]
  },
  {
   "cell_type": "code",
   "execution_count": 2,
   "id": "0a55f73d",
   "metadata": {
    "execution": {
     "iopub.execute_input": "2023-11-06T21:10:55.069783Z",
     "iopub.status.busy": "2023-11-06T21:10:55.066618Z",
     "iopub.status.idle": "2023-11-06T21:10:55.095668Z",
     "shell.execute_reply": "2023-11-06T21:10:55.094720Z"
    },
    "papermill": {
     "duration": 0.03495,
     "end_time": "2023-11-06T21:10:55.098315",
     "exception": false,
     "start_time": "2023-11-06T21:10:55.063365",
     "status": "completed"
    },
    "tags": []
   },
   "outputs": [],
   "source": [
    "test_df = pd.read_csv(filepath_or_buffer='../input/llm-detect-ai-generated-text/test_essays.csv')\n",
    "test_df['generated'] = test_df['text'].apply(func=score, )"
   ]
  },
  {
   "cell_type": "code",
   "execution_count": 3,
   "id": "4cc37806",
   "metadata": {
    "execution": {
     "iopub.execute_input": "2023-11-06T21:10:55.103970Z",
     "iopub.status.busy": "2023-11-06T21:10:55.103628Z",
     "iopub.status.idle": "2023-11-06T21:10:55.118401Z",
     "shell.execute_reply": "2023-11-06T21:10:55.117294Z"
    },
    "papermill": {
     "duration": 0.020279,
     "end_time": "2023-11-06T21:10:55.120778",
     "exception": false,
     "start_time": "2023-11-06T21:10:55.100499",
     "status": "completed"
    },
    "tags": []
   },
   "outputs": [],
   "source": [
    "test_df.drop(columns=['prompt_id', 'text']).to_csv(path_or_buf='submission.csv', index=False)"
   ]
  }
 ],
 "metadata": {
  "kernelspec": {
   "display_name": "Python 3",
   "language": "python",
   "name": "python3"
  },
  "language_info": {
   "codemirror_mode": {
    "name": "ipython",
    "version": 3
   },
   "file_extension": ".py",
   "mimetype": "text/x-python",
   "name": "python",
   "nbconvert_exporter": "python",
   "pygments_lexer": "ipython3",
   "version": "3.10.12"
  },
  "papermill": {
   "default_parameters": {},
   "duration": 4.464955,
   "end_time": "2023-11-06T21:10:55.542467",
   "environment_variables": {},
   "exception": null,
   "input_path": "__notebook__.ipynb",
   "output_path": "__notebook__.ipynb",
   "parameters": {},
   "start_time": "2023-11-06T21:10:51.077512",
   "version": "2.4.0"
  }
 },
 "nbformat": 4,
 "nbformat_minor": 5
}
