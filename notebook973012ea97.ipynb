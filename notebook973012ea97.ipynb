{
 "cells": [
  {
   "cell_type": "code",
   "execution_count": 1,
   "id": "94e61ff0",
   "metadata": {
    "execution": {
     "iopub.execute_input": "2023-11-06T20:50:17.723007Z",
     "iopub.status.busy": "2023-11-06T20:50:17.722486Z",
     "iopub.status.idle": "2023-11-06T20:50:29.434658Z",
     "shell.execute_reply": "2023-11-06T20:50:29.434041Z"
    },
    "papermill": {
     "duration": 11.717921,
     "end_time": "2023-11-06T20:50:29.436817",
     "exception": false,
     "start_time": "2023-11-06T20:50:17.718896",
     "status": "completed"
    },
    "tags": []
   },
   "outputs": [
    {
     "name": "stdout",
     "output_type": "stream",
     "text": [
      "Collecting autocorrect\r\n",
      "  Downloading autocorrect-2.6.1.tar.gz (622 kB)\r\n",
      "\u001b[2K     \u001b[90m━━━━━━━━━━━━━━━━━━━━━━━━━━━━━━━━━━━━━━\u001b[0m \u001b[32m622.8/622.8 kB\u001b[0m \u001b[31m15.4 MB/s\u001b[0m eta \u001b[36m0:00:00\u001b[0m\r\n",
      "\u001b[?25h  Preparing metadata (setup.py) ... \u001b[?25ldone\r\n",
      "\u001b[?25hBuilding wheels for collected packages: autocorrect\r\n",
      "  Building wheel for autocorrect (setup.py) ... \u001b[?25l-\b \bdone\r\n",
      "\u001b[?25h  Created wheel for autocorrect: filename=autocorrect-2.6.1-py3-none-any.whl size=622363 sha256=1bb7baa6cc9d30025ccabf27998ff1c64d60ec29a9a2223ee1ef3b561b7f08f1\r\n",
      "  Stored in directory: /root/.cache/pip/wheels/b5/7b/6d/b76b29ce11ff8e2521c8c7dd0e5bfee4fb1789d76193124343\r\n",
      "Successfully built autocorrect\r\n",
      "Installing collected packages: autocorrect\r\n",
      "Successfully installed autocorrect-2.6.1\r\n"
     ]
    }
   ],
   "source": [
    "!pip install autocorrect"
   ]
  },
  {
   "cell_type": "code",
   "execution_count": 2,
   "id": "6bb6ac03",
   "metadata": {
    "execution": {
     "iopub.execute_input": "2023-11-06T20:50:29.442404Z",
     "iopub.status.busy": "2023-11-06T20:50:29.442151Z",
     "iopub.status.idle": "2023-11-06T20:50:29.769971Z",
     "shell.execute_reply": "2023-11-06T20:50:29.769021Z"
    },
    "papermill": {
     "duration": 0.332854,
     "end_time": "2023-11-06T20:50:29.772090",
     "exception": false,
     "start_time": "2023-11-06T20:50:29.439236",
     "status": "completed"
    },
    "tags": []
   },
   "outputs": [],
   "source": [
    "import pandas as pd\n",
    "from autocorrect import Speller\n",
    "from arrow import now\n",
    "\n",
    "time_start = now()\n",
    "checker = Speller(lang='en')\n",
    "\n",
    "def score(arg: str, speller: Speller) -> float:\n",
    "    result = 0\n",
    "    result += 0.33 if len(arg) < 1798 else 0\n",
    "    result += 0.33 if len(arg.split()) < 290 else 0\n",
    "    result += 0.34 if arg == speller.autocorrect_sentence(sentence=arg) else 0\n",
    "    return result"
   ]
  },
  {
   "cell_type": "code",
   "execution_count": 3,
   "id": "5e2fd146",
   "metadata": {
    "execution": {
     "iopub.execute_input": "2023-11-06T20:50:29.777635Z",
     "iopub.status.busy": "2023-11-06T20:50:29.777283Z",
     "iopub.status.idle": "2023-11-06T20:50:29.802003Z",
     "shell.execute_reply": "2023-11-06T20:50:29.801230Z"
    },
    "papermill": {
     "duration": 0.029466,
     "end_time": "2023-11-06T20:50:29.803836",
     "exception": false,
     "start_time": "2023-11-06T20:50:29.774370",
     "status": "completed"
    },
    "tags": []
   },
   "outputs": [],
   "source": [
    "test_df = pd.read_csv(filepath_or_buffer='../input/llm-detect-ai-generated-text/test_essays.csv')\n",
    "test_df['generated'] = test_df['text'].apply(func=score, args=(checker,))"
   ]
  },
  {
   "cell_type": "code",
   "execution_count": 4,
   "id": "e16dec47",
   "metadata": {
    "execution": {
     "iopub.execute_input": "2023-11-06T20:50:29.809126Z",
     "iopub.status.busy": "2023-11-06T20:50:29.808890Z",
     "iopub.status.idle": "2023-11-06T20:50:29.820335Z",
     "shell.execute_reply": "2023-11-06T20:50:29.819597Z"
    },
    "papermill": {
     "duration": 0.016045,
     "end_time": "2023-11-06T20:50:29.821963",
     "exception": false,
     "start_time": "2023-11-06T20:50:29.805918",
     "status": "completed"
    },
    "tags": []
   },
   "outputs": [],
   "source": [
    "test_df.drop(columns=['prompt_id', 'text']).to_csv('submission.csv')"
   ]
  }
 ],
 "metadata": {
  "kernelspec": {
   "display_name": "Python 3",
   "language": "python",
   "name": "python3"
  },
  "language_info": {
   "codemirror_mode": {
    "name": "ipython",
    "version": 3
   },
   "file_extension": ".py",
   "mimetype": "text/x-python",
   "name": "python",
   "nbconvert_exporter": "python",
   "pygments_lexer": "ipython3",
   "version": "3.10.12"
  },
  "papermill": {
   "default_parameters": {},
   "duration": 14.866922,
   "end_time": "2023-11-06T20:50:30.140769",
   "environment_variables": {},
   "exception": null,
   "input_path": "__notebook__.ipynb",
   "output_path": "__notebook__.ipynb",
   "parameters": {},
   "start_time": "2023-11-06T20:50:15.273847",
   "version": "2.4.0"
  }
 },
 "nbformat": 4,
 "nbformat_minor": 5
}
