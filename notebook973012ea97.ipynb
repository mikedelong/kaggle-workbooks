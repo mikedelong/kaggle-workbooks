{
 "cells": [
  {
   "cell_type": "code",
   "execution_count": 1,
   "id": "0a203715",
   "metadata": {
    "execution": {
     "iopub.execute_input": "2023-11-06T21:04:01.010113Z",
     "iopub.status.busy": "2023-11-06T21:04:01.008984Z",
     "iopub.status.idle": "2023-11-06T21:04:01.858081Z",
     "shell.execute_reply": "2023-11-06T21:04:01.856252Z"
    },
    "papermill": {
     "duration": 0.855864,
     "end_time": "2023-11-06T21:04:01.860652",
     "exception": false,
     "start_time": "2023-11-06T21:04:01.004788",
     "status": "completed"
    },
    "tags": []
   },
   "outputs": [],
   "source": [
    "import pandas as pd\n",
    "from arrow import now\n",
    "\n",
    "time_start = now()\n",
    "\n",
    "def score(arg: str, ) -> float:\n",
    "    result = 0\n",
    "    result += 0.5 if len(arg) < 1798 else 0\n",
    "    result += 0.5 if len(arg.split()) < 290 else 0\n",
    "    return result"
   ]
  },
  {
   "cell_type": "code",
   "execution_count": 2,
   "id": "b8144507",
   "metadata": {
    "execution": {
     "iopub.execute_input": "2023-11-06T21:04:01.865896Z",
     "iopub.status.busy": "2023-11-06T21:04:01.865309Z",
     "iopub.status.idle": "2023-11-06T21:04:01.892220Z",
     "shell.execute_reply": "2023-11-06T21:04:01.891141Z"
    },
    "papermill": {
     "duration": 0.032116,
     "end_time": "2023-11-06T21:04:01.894613",
     "exception": false,
     "start_time": "2023-11-06T21:04:01.862497",
     "status": "completed"
    },
    "tags": []
   },
   "outputs": [],
   "source": [
    "test_df = pd.read_csv(filepath_or_buffer='../input/llm-detect-ai-generated-text/test_essays.csv')\n",
    "test_df['generated'] = test_df['text'].apply(func=score, )"
   ]
  },
  {
   "cell_type": "code",
   "execution_count": 3,
   "id": "3768fc59",
   "metadata": {
    "execution": {
     "iopub.execute_input": "2023-11-06T21:04:01.899398Z",
     "iopub.status.busy": "2023-11-06T21:04:01.899036Z",
     "iopub.status.idle": "2023-11-06T21:04:01.916858Z",
     "shell.execute_reply": "2023-11-06T21:04:01.915766Z"
    },
    "papermill": {
     "duration": 0.022863,
     "end_time": "2023-11-06T21:04:01.919157",
     "exception": false,
     "start_time": "2023-11-06T21:04:01.896294",
     "status": "completed"
    },
    "tags": []
   },
   "outputs": [],
   "source": [
    "test_df.drop(columns=['prompt_id', 'text']).to_csv('submission.csv')"
   ]
  }
 ],
 "metadata": {
  "kernelspec": {
   "display_name": "Python 3",
   "language": "python",
   "name": "python3"
  },
  "language_info": {
   "codemirror_mode": {
    "name": "ipython",
    "version": 3
   },
   "file_extension": ".py",
   "mimetype": "text/x-python",
   "name": "python",
   "nbconvert_exporter": "python",
   "pygments_lexer": "ipython3",
   "version": "3.10.12"
  },
  "papermill": {
   "default_parameters": {},
   "duration": 5.803765,
   "end_time": "2023-11-06T21:04:02.442519",
   "environment_variables": {},
   "exception": null,
   "input_path": "__notebook__.ipynb",
   "output_path": "__notebook__.ipynb",
   "parameters": {},
   "start_time": "2023-11-06T21:03:56.638754",
   "version": "2.4.0"
  }
 },
 "nbformat": 4,
 "nbformat_minor": 5
}
