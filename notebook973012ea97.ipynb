{
 "cells": [
  {
   "cell_type": "code",
   "execution_count": 1,
   "id": "36f40582",
   "metadata": {
    "execution": {
     "iopub.execute_input": "2023-11-08T18:39:05.677625Z",
     "iopub.status.busy": "2023-11-08T18:39:05.677310Z",
     "iopub.status.idle": "2023-11-08T18:39:35.271313Z",
     "shell.execute_reply": "2023-11-08T18:39:35.270364Z"
    },
    "papermill": {
     "duration": 29.59944,
     "end_time": "2023-11-08T18:39:35.273272",
     "exception": false,
     "start_time": "2023-11-08T18:39:05.673832",
     "status": "completed"
    },
    "tags": []
   },
   "outputs": [],
   "source": [
    "!pip install -q /kaggle/input/language-tool-python-2-7-1/language_tool_python-2.7.1-py3-none-any.whl"
   ]
  },
  {
   "cell_type": "code",
   "execution_count": 2,
   "id": "3e14a945",
   "metadata": {
    "execution": {
     "iopub.execute_input": "2023-11-08T18:39:35.278259Z",
     "iopub.status.busy": "2023-11-08T18:39:35.278033Z",
     "iopub.status.idle": "2023-11-08T18:39:49.074915Z",
     "shell.execute_reply": "2023-11-08T18:39:49.073504Z"
    },
    "papermill": {
     "duration": 13.801166,
     "end_time": "2023-11-08T18:39:49.076500",
     "exception": false,
     "start_time": "2023-11-08T18:39:35.275334",
     "status": "completed"
    },
    "tags": []
   },
   "outputs": [
    {
     "name": "stdout",
     "output_type": "stream",
     "text": [
      "All files zipped successfully!\n",
      "Extracted all\n",
      "['LanguageTool-5.7']\n"
     ]
    }
   ],
   "source": [
    "import os\n",
    "import zipfile\n",
    "from zipfile import ZipFile\n",
    "import shutil\n",
    "\n",
    "# create download path\n",
    "def get_language_tool_cache_path():\n",
    "    # Get download path from environment or use default.\n",
    "    download_path = os.environ.get(\n",
    "        'LTP_PATH',\n",
    "        os.path.join(os.path.expanduser(\"~\"), \".cache\", \"language_tool_python\")\n",
    "    )\n",
    "    # Make download path, if it doesn't exist.\n",
    "    os.makedirs(download_path, exist_ok=True)\n",
    "    return download_path\n",
    "\n",
    "lt_path = get_language_tool_cache_path()\n",
    "\n",
    "def get_all_file_paths(directory):\n",
    "  \n",
    "    # initializing empty file paths list\n",
    "    file_paths = []\n",
    "  \n",
    "    # crawling through directory and subdirectories\n",
    "    for root, directories, files in os.walk(directory):\n",
    "        for filename in files:\n",
    "            # join the two strings in order to form the full filepath.\n",
    "            filepath = os.path.join(root, filename)\n",
    "            file_paths.append(filepath)\n",
    "  \n",
    "    # returning all file paths\n",
    "    return file_paths        \n",
    "  \n",
    "def main():\n",
    "    # path to folder which needs to be zipped\n",
    "    directory = '../input/language-tool-python-2-7-1/LanguageTool-5.7/LanguageTool-5.7'\n",
    "  \n",
    "    # calling function to get all file paths in the directory\n",
    "    file_paths = get_all_file_paths(directory)\n",
    "\n",
    "    # writing files to a zipfile\n",
    "    with ZipFile('./lt.zip','w') as zip:\n",
    "        # writing each file one by one\n",
    "        for file in file_paths:\n",
    "            zip.write(file)\n",
    "  \n",
    "    print('All files zipped successfully!')        \n",
    "    \n",
    "main()\n",
    "\n",
    "zip_file = \"./lt.zip\"\n",
    " \n",
    "try:\n",
    "    with zipfile.ZipFile(zip_file) as z:\n",
    "        z.extractall()\n",
    "        print(\"Extracted all\")\n",
    "except:\n",
    "    print(\"Invalid file\")\n",
    "    \n",
    "#move to cache\n",
    "!mv {'./input/language-tool-python-2-7-1/LanguageTool-5.7/LanguageTool-5.7'} {lt_path} \n",
    "print(os.listdir('/root/.cache/language_tool_python/'))\n",
    "\n",
    "#remove files from output\n",
    "\n",
    "shutil.rmtree('./input')\n",
    "os.remove(\"./lt.zip\")"
   ]
  },
  {
   "cell_type": "code",
   "execution_count": 3,
   "id": "909a3c98",
   "metadata": {
    "execution": {
     "iopub.execute_input": "2023-11-08T18:39:49.081904Z",
     "iopub.status.busy": "2023-11-08T18:39:49.081650Z",
     "iopub.status.idle": "2023-11-08T18:39:51.147183Z",
     "shell.execute_reply": "2023-11-08T18:39:51.146351Z"
    },
    "papermill": {
     "duration": 2.070471,
     "end_time": "2023-11-08T18:39:51.149116",
     "exception": false,
     "start_time": "2023-11-08T18:39:49.078645",
     "status": "completed"
    },
    "tags": []
   },
   "outputs": [
    {
     "name": "stdout",
     "output_type": "stream",
     "text": [
      "built scoring function in 0:00:01.683384\n"
     ]
    }
   ],
   "source": [
    "import pandas as pd\n",
    "from arrow import now\n",
    "from language_tool_python import LanguageTool\n",
    "\n",
    "time_start = now()\n",
    "corrector = LanguageTool('en-US')\n",
    "\n",
    "\n",
    "def score(arg: str, ) -> float:\n",
    "    result = 0\n",
    "#     result += 0.3 if len(arg) < 1798 else 0\n",
    "#     result += 0.3 if len(arg.split()) < 290 else 0\n",
    "    result += 1 if arg == corrector.correct(arg) else 0\n",
    "    return result\n",
    "\n",
    "print('built scoring function in {}'.format(now() - time_start))"
   ]
  },
  {
   "cell_type": "code",
   "execution_count": 4,
   "id": "4a4785ad",
   "metadata": {
    "execution": {
     "iopub.execute_input": "2023-11-08T18:39:51.157806Z",
     "iopub.status.busy": "2023-11-08T18:39:51.157309Z",
     "iopub.status.idle": "2023-11-08T18:39:56.288868Z",
     "shell.execute_reply": "2023-11-08T18:39:56.287196Z"
    },
    "papermill": {
     "duration": 5.138035,
     "end_time": "2023-11-08T18:39:56.291253",
     "exception": false,
     "start_time": "2023-11-08T18:39:51.153218",
     "status": "completed"
    },
    "tags": []
   },
   "outputs": [
    {
     "name": "stdout",
     "output_type": "stream",
     "text": [
      "generated scores in 0:00:05.125127\n"
     ]
    }
   ],
   "source": [
    "time_start = now()\n",
    "test_df = pd.read_csv(filepath_or_buffer='../input/llm-detect-ai-generated-text/test_essays.csv')\n",
    "test_df['generated'] = test_df['text'].apply(func=score, )\n",
    "print('generated scores in {}'.format(now() - time_start))"
   ]
  },
  {
   "cell_type": "code",
   "execution_count": 5,
   "id": "b3ff21b4",
   "metadata": {
    "execution": {
     "iopub.execute_input": "2023-11-08T18:39:56.298624Z",
     "iopub.status.busy": "2023-11-08T18:39:56.298249Z",
     "iopub.status.idle": "2023-11-08T18:39:56.311770Z",
     "shell.execute_reply": "2023-11-08T18:39:56.310875Z"
    },
    "papermill": {
     "duration": 0.019797,
     "end_time": "2023-11-08T18:39:56.314042",
     "exception": false,
     "start_time": "2023-11-08T18:39:56.294245",
     "status": "completed"
    },
    "tags": []
   },
   "outputs": [],
   "source": [
    "test_df.drop(columns=['prompt_id', 'text']).to_csv(path_or_buf='submission.csv', index=False)"
   ]
  }
 ],
 "metadata": {
  "kernelspec": {
   "display_name": "Python 3",
   "language": "python",
   "name": "python3"
  },
  "language_info": {
   "codemirror_mode": {
    "name": "ipython",
    "version": 3
   },
   "file_extension": ".py",
   "mimetype": "text/x-python",
   "name": "python",
   "nbconvert_exporter": "python",
   "pygments_lexer": "ipython3",
   "version": "3.10.12"
  },
  "papermill": {
   "default_parameters": {},
   "duration": 55.717569,
   "end_time": "2023-11-08T18:39:58.935844",
   "environment_variables": {},
   "exception": null,
   "input_path": "__notebook__.ipynb",
   "output_path": "__notebook__.ipynb",
   "parameters": {},
   "start_time": "2023-11-08T18:39:03.218275",
   "version": "2.4.0"
  }
 },
 "nbformat": 4,
 "nbformat_minor": 5
}
