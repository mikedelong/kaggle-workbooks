{
 "cells": [
  {
   "cell_type": "code",
   "execution_count": 1,
   "id": "6f69e8a0",
   "metadata": {
    "_cell_guid": "b1076dfc-b9ad-4769-8c92-a6c4dae69d19",
    "_uuid": "8f2839f25d086af736a60e9eeb907d3b93b6e0e5",
    "execution": {
     "iopub.execute_input": "2022-12-14T21:54:56.872686Z",
     "iopub.status.busy": "2022-12-14T21:54:56.872143Z",
     "iopub.status.idle": "2022-12-14T21:54:58.765812Z",
     "shell.execute_reply": "2022-12-14T21:54:58.764840Z"
    },
    "papermill": {
     "duration": 1.901089,
     "end_time": "2022-12-14T21:54:58.768244",
     "exception": false,
     "start_time": "2022-12-14T21:54:56.867155",
     "status": "completed"
    },
    "tags": []
   },
   "outputs": [
    {
     "data": {
      "text/html": [
       "<style type='text/css'>\n",
       ".datatable table.frame { margin-bottom: 0; }\n",
       ".datatable table.frame thead { border-bottom: none; }\n",
       ".datatable table.frame tr.coltypes td {  color: #FFFFFF;  line-height: 6px;  padding: 0 0.5em;}\n",
       ".datatable .bool    { background: #DDDD99; }\n",
       ".datatable .object  { background: #565656; }\n",
       ".datatable .int     { background: #5D9E5D; }\n",
       ".datatable .float   { background: #4040CC; }\n",
       ".datatable .str     { background: #CC4040; }\n",
       ".datatable .time    { background: #40CC40; }\n",
       ".datatable .row_index {  background: var(--jp-border-color3);  border-right: 1px solid var(--jp-border-color0);  color: var(--jp-ui-font-color3);  font-size: 9px;}\n",
       ".datatable .frame tbody td { text-align: left; }\n",
       ".datatable .frame tr.coltypes .row_index {  background: var(--jp-border-color0);}\n",
       ".datatable th:nth-child(2) { padding-left: 12px; }\n",
       ".datatable .hellipsis {  color: var(--jp-cell-editor-border-color);}\n",
       ".datatable .vellipsis {  background: var(--jp-layout-color0);  color: var(--jp-cell-editor-border-color);}\n",
       ".datatable .na {  color: var(--jp-cell-editor-border-color);  font-size: 80%;}\n",
       ".datatable .sp {  opacity: 0.25;}\n",
       ".datatable .footer { font-size: 9px; }\n",
       ".datatable .frame_dimensions {  background: var(--jp-border-color3);  border-top: 1px solid var(--jp-border-color0);  color: var(--jp-ui-font-color3);  display: inline-block;  opacity: 0.6;  padding: 1px 10px 1px 5px;}\n",
       ".datatable .frame thead tr.colnames {  background-image: url('data:image/png;base64,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');  background-repeat: repeat-x;  background-size: 14px;  height: 28px;}\n",
       "</style>\n"
      ],
      "text/plain": [
       "<IPython.core.display.HTML object>"
      ]
     },
     "metadata": {},
     "output_type": "display_data"
    }
   ],
   "source": [
    "from lightgbm import Dataset\n",
    "from lightgbm import LGBMClassifier\n",
    "from lightgbm import train\n",
    "from matplotlib.pyplot import plot\n",
    "from numpy import ndarray\n",
    "from pandas import DataFrame\n",
    "from pandas import read_csv\n",
    "from pandas import Series\n",
    "from sklearn.model_selection import train_test_split\n",
    "from sklearn.preprocessing import LabelEncoder"
   ]
  },
  {
   "cell_type": "code",
   "execution_count": 2,
   "id": "64ab1b42",
   "metadata": {
    "execution": {
     "iopub.execute_input": "2022-12-14T21:54:58.774904Z",
     "iopub.status.busy": "2022-12-14T21:54:58.774581Z",
     "iopub.status.idle": "2022-12-14T21:54:58.826881Z",
     "shell.execute_reply": "2022-12-14T21:54:58.825083Z"
    },
    "papermill": {
     "duration": 0.05859,
     "end_time": "2022-12-14T21:54:58.829678",
     "exception": false,
     "start_time": "2022-12-14T21:54:58.771088",
     "status": "completed"
    },
    "tags": []
   },
   "outputs": [
    {
     "name": "stdout",
     "output_type": "stream",
     "text": [
      "['PassengerId', 'HomePlanet', 'CryoSleep', 'Cabin', 'Destination', 'Age', 'VIP', 'RoomService', 'FoodCourt', 'ShoppingMall', 'Spa', 'VRDeck', 'Name', 'Transported']\n"
     ]
    }
   ],
   "source": [
    "train_df = read_csv('../input/spaceship-titanic/train.csv')\n",
    "print(train_df.columns.tolist())"
   ]
  },
  {
   "cell_type": "code",
   "execution_count": 3,
   "id": "f341a455",
   "metadata": {
    "execution": {
     "iopub.execute_input": "2022-12-14T21:54:58.836537Z",
     "iopub.status.busy": "2022-12-14T21:54:58.836146Z",
     "iopub.status.idle": "2022-12-14T21:54:58.875581Z",
     "shell.execute_reply": "2022-12-14T21:54:58.873832Z"
    },
    "papermill": {
     "duration": 0.045393,
     "end_time": "2022-12-14T21:54:58.877890",
     "exception": false,
     "start_time": "2022-12-14T21:54:58.832497",
     "status": "completed"
    },
    "tags": []
   },
   "outputs": [],
   "source": [
    "def prepare(input_df: DataFrame) -> ndarray:\n",
    "    result_df = input_df.drop(columns=['PassengerId', 'Name', 'Transported'], errors='ignore').copy(deep=True)\n",
    "    columns = ['CryoSleep', 'Destination', 'HomePlanet', 'VIP',]\n",
    "    for column in columns:\n",
    "        result_df[column] = LabelEncoder().fit_transform(y=result_df[column])\n",
    "    # todo do something with Cabin\n",
    "    result_df = result_df.drop(columns=['Cabin'])\n",
    "    return result_df.columns, result_df.values\n",
    "\n",
    "# get the labels\n",
    "y = train_df['Transported'].values\n",
    "out_columns, x = prepare(input_df=train_df)\n",
    "\n",
    "# split\n",
    "random_state = 1\n",
    "x, x_test, y, y_test = train_test_split(x, y, test_size=0.2, random_state=random_state, stratify=y)\n",
    "train_data = Dataset(x, label=y) #, categorical_feature='auto')\n",
    "test_data = Dataset(x_test, label=y_test)"
   ]
  },
  {
   "cell_type": "code",
   "execution_count": 4,
   "id": "c3ed4faa",
   "metadata": {
    "execution": {
     "iopub.execute_input": "2022-12-14T21:54:58.885287Z",
     "iopub.status.busy": "2022-12-14T21:54:58.884733Z",
     "iopub.status.idle": "2022-12-14T21:54:59.167559Z",
     "shell.execute_reply": "2022-12-14T21:54:59.166853Z"
    },
    "papermill": {
     "duration": 0.288764,
     "end_time": "2022-12-14T21:54:59.169460",
     "exception": false,
     "start_time": "2022-12-14T21:54:58.880696",
     "status": "completed"
    },
    "tags": []
   },
   "outputs": [
    {
     "name": "stdout",
     "output_type": "stream",
     "text": [
      "[LightGBM] [Warning] early_stopping_round is set=20, early_stopping_rounds=20 will be ignored. Current value: early_stopping_round=20\n",
      "[1]\tvalid_0's binary_logloss: 0.654099\n",
      "[2]\tvalid_0's binary_logloss: 0.622518\n",
      "[3]\tvalid_0's binary_logloss: 0.596406\n",
      "[4]\tvalid_0's binary_logloss: 0.574072\n",
      "[5]\tvalid_0's binary_logloss: 0.555282\n",
      "[6]\tvalid_0's binary_logloss: 0.53967\n",
      "[7]\tvalid_0's binary_logloss: 0.52632\n",
      "[8]\tvalid_0's binary_logloss: 0.514544\n",
      "[9]\tvalid_0's binary_logloss: 0.504351\n",
      "[10]\tvalid_0's binary_logloss: 0.496059\n",
      "[11]\tvalid_0's binary_logloss: 0.488305\n",
      "[12]\tvalid_0's binary_logloss: 0.4823\n",
      "[13]\tvalid_0's binary_logloss: 0.476661\n",
      "[14]\tvalid_0's binary_logloss: 0.470598\n",
      "[15]\tvalid_0's binary_logloss: 0.465544\n",
      "[16]\tvalid_0's binary_logloss: 0.461743\n",
      "[17]\tvalid_0's binary_logloss: 0.457825\n",
      "[18]\tvalid_0's binary_logloss: 0.455502\n",
      "[19]\tvalid_0's binary_logloss: 0.453291\n",
      "[20]\tvalid_0's binary_logloss: 0.451463\n",
      "[21]\tvalid_0's binary_logloss: 0.44874\n",
      "[22]\tvalid_0's binary_logloss: 0.446988\n",
      "[23]\tvalid_0's binary_logloss: 0.445514\n",
      "[24]\tvalid_0's binary_logloss: 0.444111\n",
      "[25]\tvalid_0's binary_logloss: 0.442442\n",
      "[26]\tvalid_0's binary_logloss: 0.440852\n",
      "[27]\tvalid_0's binary_logloss: 0.439411\n",
      "[28]\tvalid_0's binary_logloss: 0.437939\n",
      "[29]\tvalid_0's binary_logloss: 0.436739\n",
      "[30]\tvalid_0's binary_logloss: 0.436211\n",
      "[31]\tvalid_0's binary_logloss: 0.435561\n",
      "[32]\tvalid_0's binary_logloss: 0.434343\n",
      "[33]\tvalid_0's binary_logloss: 0.433532\n",
      "[34]\tvalid_0's binary_logloss: 0.432991\n",
      "[35]\tvalid_0's binary_logloss: 0.43269\n",
      "[36]\tvalid_0's binary_logloss: 0.431996\n",
      "[37]\tvalid_0's binary_logloss: 0.431429\n",
      "[38]\tvalid_0's binary_logloss: 0.431506\n",
      "[39]\tvalid_0's binary_logloss: 0.431189\n",
      "[40]\tvalid_0's binary_logloss: 0.430494\n",
      "[41]\tvalid_0's binary_logloss: 0.430416\n",
      "[42]\tvalid_0's binary_logloss: 0.43051\n",
      "[43]\tvalid_0's binary_logloss: 0.430476\n",
      "[44]\tvalid_0's binary_logloss: 0.429695\n",
      "[45]\tvalid_0's binary_logloss: 0.429735\n",
      "[46]\tvalid_0's binary_logloss: 0.430221\n",
      "[47]\tvalid_0's binary_logloss: 0.43002\n",
      "[48]\tvalid_0's binary_logloss: 0.430043\n",
      "[49]\tvalid_0's binary_logloss: 0.429971\n",
      "[50]\tvalid_0's binary_logloss: 0.430001\n",
      "[51]\tvalid_0's binary_logloss: 0.429925\n",
      "[52]\tvalid_0's binary_logloss: 0.429855\n",
      "[53]\tvalid_0's binary_logloss: 0.429448\n",
      "[54]\tvalid_0's binary_logloss: 0.429749\n",
      "[55]\tvalid_0's binary_logloss: 0.429884\n",
      "[56]\tvalid_0's binary_logloss: 0.429273\n",
      "[57]\tvalid_0's binary_logloss: 0.429287\n",
      "[58]\tvalid_0's binary_logloss: 0.429047\n",
      "[59]\tvalid_0's binary_logloss: 0.428684\n",
      "[60]\tvalid_0's binary_logloss: 0.428503\n",
      "[61]\tvalid_0's binary_logloss: 0.428493\n",
      "[62]\tvalid_0's binary_logloss: 0.429012\n",
      "[63]\tvalid_0's binary_logloss: 0.429235\n",
      "[64]\tvalid_0's binary_logloss: 0.429557\n",
      "[65]\tvalid_0's binary_logloss: 0.429544\n",
      "[66]\tvalid_0's binary_logloss: 0.429682\n",
      "[67]\tvalid_0's binary_logloss: 0.429992\n",
      "[68]\tvalid_0's binary_logloss: 0.430034\n",
      "[69]\tvalid_0's binary_logloss: 0.429844\n",
      "[70]\tvalid_0's binary_logloss: 0.43008\n",
      "[71]\tvalid_0's binary_logloss: 0.430533\n",
      "[72]\tvalid_0's binary_logloss: 0.430749\n",
      "[73]\tvalid_0's binary_logloss: 0.430655\n",
      "[74]\tvalid_0's binary_logloss: 0.430714\n",
      "[75]\tvalid_0's binary_logloss: 0.431174\n",
      "[76]\tvalid_0's binary_logloss: 0.431216\n",
      "[77]\tvalid_0's binary_logloss: 0.430942\n",
      "[78]\tvalid_0's binary_logloss: 0.43093\n",
      "[79]\tvalid_0's binary_logloss: 0.431321\n",
      "[80]\tvalid_0's binary_logloss: 0.431999\n",
      "[81]\tvalid_0's binary_logloss: 0.432377\n"
     ]
    },
    {
     "data": {
      "text/plain": [
       "LGBMClassifier(early_stopping_rounds=20)"
      ]
     },
     "execution_count": 4,
     "metadata": {},
     "output_type": "execute_result"
    }
   ],
   "source": [
    "# parameters = {\n",
    "#     'bagging_fraction': 0.5,\n",
    "#     'bagging_freq': 20,\n",
    "#     'boosting': 'gbdt',\n",
    "#     'categorical_feature': 'auto',\n",
    "#     'deterministic': True,\n",
    "#     'feature_fraction': 0.5,\n",
    "#     'feature_name': 'auto',\n",
    "#     'is_unbalance': False,\n",
    "#     'learning_rate': 0.1, # was 0.05,\n",
    "#     'objective': 'binary',\n",
    "#     'metric': 'auc', # was 'auc'\n",
    "#     'num_leaves': 31,\n",
    "#     'verbosity': -2\n",
    "# }\n",
    "# num_boost_round = 200 # was 200\n",
    "# model = train(parameters, train_data, valid_sets=test_data, num_boost_round=num_boost_round,)\n",
    "model = LGBMClassifier(early_stopping_rounds=20,)\n",
    "model.fit(X=x, y=y, eval_set=(x_test, y_test))"
   ]
  },
  {
   "cell_type": "code",
   "execution_count": 5,
   "id": "f7dada17",
   "metadata": {
    "execution": {
     "iopub.execute_input": "2022-12-14T21:54:59.177452Z",
     "iopub.status.busy": "2022-12-14T21:54:59.176310Z",
     "iopub.status.idle": "2022-12-14T21:54:59.412695Z",
     "shell.execute_reply": "2022-12-14T21:54:59.411697Z"
    },
    "papermill": {
     "duration": 0.242266,
     "end_time": "2022-12-14T21:54:59.414782",
     "exception": false,
     "start_time": "2022-12-14T21:54:59.172516",
     "status": "completed"
    },
    "tags": []
   },
   "outputs": [
    {
     "data": {
      "text/plain": [
       "<AxesSubplot:>"
      ]
     },
     "execution_count": 5,
     "metadata": {},
     "output_type": "execute_result"
    },
    {
     "data": {
      "image/png": "[encoded data removed]",
      "text/plain": [
       "<Figure size 576x720 with 1 Axes>"
      ]
     },
     "metadata": {
      "needs_background": "light"
     },
     "output_type": "display_data"
    }
   ],
   "source": [
    "importance = Series(model.feature_importances_, index=out_columns)\n",
    "importance.nlargest(30).plot(kind='barh', figsize=(8,10))"
   ]
  },
  {
   "cell_type": "code",
   "execution_count": 6,
   "id": "e41cf033",
   "metadata": {
    "execution": {
     "iopub.execute_input": "2022-12-14T21:54:59.423979Z",
     "iopub.status.busy": "2022-12-14T21:54:59.422833Z",
     "iopub.status.idle": "2022-12-14T21:54:59.470460Z",
     "shell.execute_reply": "2022-12-14T21:54:59.469436Z"
    },
    "papermill": {
     "duration": 0.054412,
     "end_time": "2022-12-14T21:54:59.472721",
     "exception": false,
     "start_time": "2022-12-14T21:54:59.418309",
     "status": "completed"
    },
    "tags": []
   },
   "outputs": [],
   "source": [
    "submission_df = read_csv('../input/spaceship-titanic/test.csv')\n",
    "ids = submission_df['PassengerId'].values\n",
    "submission_columns, submission_data = prepare(input_df=submission_df)\n",
    "output_df = DataFrame({'PassengerId': ids, 'Transported': model.predict(submission_data) > 0.5})\n",
    "output_df.to_csv('submission.csv', index=False)"
   ]
  },
  {
   "cell_type": "code",
   "execution_count": 7,
   "id": "01c3a5a3",
   "metadata": {
    "execution": {
     "iopub.execute_input": "2022-12-14T21:54:59.481513Z",
     "iopub.status.busy": "2022-12-14T21:54:59.480924Z",
     "iopub.status.idle": "2022-12-14T21:54:59.621935Z",
     "shell.execute_reply": "2022-12-14T21:54:59.621019Z"
    },
    "papermill": {
     "duration": 0.147667,
     "end_time": "2022-12-14T21:54:59.623931",
     "exception": false,
     "start_time": "2022-12-14T21:54:59.476264",
     "status": "completed"
    },
    "tags": []
   },
   "outputs": [
    {
     "data": {
      "text/plain": [
       "[<matplotlib.lines.Line2D at 0x7f78d32ca8d0>]"
      ]
     },
     "execution_count": 7,
     "metadata": {},
     "output_type": "execute_result"
    },
    {
     "data": {
      "image/png": "[encoded data removed]",
      "text/plain": [
       "<Figure size 432x288 with 1 Axes>"
      ]
     },
     "metadata": {
      "needs_background": "light"
     },
     "output_type": "display_data"
    }
   ],
   "source": [
    "y_pred = model.predict(submission_data)\n",
    "plot(sorted(y_pred.tolist()), )"
   ]
  }
 ],
 "metadata": {
  "kernelspec": {
   "display_name": "Python 3",
   "language": "python",
   "name": "python3"
  },
  "language_info": {
   "codemirror_mode": {
    "name": "ipython",
    "version": 3
   },
   "file_extension": ".py",
   "mimetype": "text/x-python",
   "name": "python",
   "nbconvert_exporter": "python",
   "pygments_lexer": "ipython3",
   "version": "3.7.12"
  },
  "papermill": {
   "default_parameters": {},
   "duration": 12.251306,
   "end_time": "2022-12-14T21:55:00.453119",
   "environment_variables": {},
   "exception": null,
   "input_path": "__notebook__.ipynb",
   "output_path": "__notebook__.ipynb",
   "parameters": {},
   "start_time": "2022-12-14T21:54:48.201813",
   "version": "2.3.4"
  }
 },
 "nbformat": 4,
 "nbformat_minor": 5
}
