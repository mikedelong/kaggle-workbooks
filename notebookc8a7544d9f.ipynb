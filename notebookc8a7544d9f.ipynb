{
 "cells": [
  {
   "cell_type": "code",
   "execution_count": 1,
   "id": "e8cfdbf2",
   "metadata": {
    "_cell_guid": "b1076dfc-b9ad-4769-8c92-a6c4dae69d19",
    "_uuid": "8f2839f25d086af736a60e9eeb907d3b93b6e0e5",
    "execution": {
     "iopub.execute_input": "2025-01-10T20:58:43.030208Z",
     "iopub.status.busy": "2025-01-10T20:58:43.029763Z",
     "iopub.status.idle": "2025-01-10T20:58:43.488313Z",
     "shell.execute_reply": "2025-01-10T20:58:43.487181Z"
    },
    "papermill": {
     "duration": 0.463643,
     "end_time": "2025-01-10T20:58:43.490310",
     "exception": false,
     "start_time": "2025-01-10T20:58:43.026667",
     "status": "completed"
    },
    "tags": []
   },
   "outputs": [
    {
     "data": {
      "text/html": [
       "<div>\n",
       "<style scoped>\n",
       "    .dataframe tbody tr th:only-of-type {\n",
       "        vertical-align: middle;\n",
       "    }\n",
       "\n",
       "    .dataframe tbody tr th {\n",
       "        vertical-align: top;\n",
       "    }\n",
       "\n",
       "    .dataframe thead th {\n",
       "        text-align: right;\n",
       "    }\n",
       "</style>\n",
       "<table border=\"1\" class=\"dataframe\">\n",
       "  <thead>\n",
       "    <tr style=\"text-align: right;\">\n",
       "      <th></th>\n",
       "      <th>Unnamed: 0</th>\n",
       "      <th>Date</th>\n",
       "      <th>Open</th>\n",
       "      <th>High</th>\n",
       "      <th>Low</th>\n",
       "      <th>Close</th>\n",
       "      <th>Volume</th>\n",
       "    </tr>\n",
       "  </thead>\n",
       "  <tbody>\n",
       "    <tr>\n",
       "      <th>0</th>\n",
       "      <td>0</td>\n",
       "      <td>2000-01-04 00:00:00+09:00</td>\n",
       "      <td>4325.925736</td>\n",
       "      <td>4405.234375</td>\n",
       "      <td>4080.789945</td>\n",
       "      <td>4405.234375</td>\n",
       "      <td>74195000</td>\n",
       "    </tr>\n",
       "    <tr>\n",
       "      <th>1</th>\n",
       "      <td>1</td>\n",
       "      <td>2000-01-05 00:00:00+09:00</td>\n",
       "      <td>4181.727606</td>\n",
       "      <td>4369.184360</td>\n",
       "      <td>3979.851100</td>\n",
       "      <td>4023.110352</td>\n",
       "      <td>74680000</td>\n",
       "    </tr>\n",
       "    <tr>\n",
       "      <th>2</th>\n",
       "      <td>2</td>\n",
       "      <td>2000-01-06 00:00:00+09:00</td>\n",
       "      <td>4145.679580</td>\n",
       "      <td>4167.309212</td>\n",
       "      <td>4023.111662</td>\n",
       "      <td>4051.951172</td>\n",
       "      <td>54390000</td>\n",
       "    </tr>\n",
       "    <tr>\n",
       "      <th>3</th>\n",
       "      <td>3</td>\n",
       "      <td>2000-01-07 00:00:00+09:00</td>\n",
       "      <td>4008.691972</td>\n",
       "      <td>4088.000626</td>\n",
       "      <td>3864.494419</td>\n",
       "      <td>3994.272217</td>\n",
       "      <td>40305000</td>\n",
       "    </tr>\n",
       "    <tr>\n",
       "      <th>4</th>\n",
       "      <td>4</td>\n",
       "      <td>2000-01-10 00:00:00+09:00</td>\n",
       "      <td>4037.530735</td>\n",
       "      <td>4160.098633</td>\n",
       "      <td>4023.110983</td>\n",
       "      <td>4160.098633</td>\n",
       "      <td>46880000</td>\n",
       "    </tr>\n",
       "  </tbody>\n",
       "</table>\n",
       "</div>"
      ],
      "text/plain": [
       "   Unnamed: 0                       Date         Open         High  \\\n",
       "0           0  2000-01-04 00:00:00+09:00  4325.925736  4405.234375   \n",
       "1           1  2000-01-05 00:00:00+09:00  4181.727606  4369.184360   \n",
       "2           2  2000-01-06 00:00:00+09:00  4145.679580  4167.309212   \n",
       "3           3  2000-01-07 00:00:00+09:00  4008.691972  4088.000626   \n",
       "4           4  2000-01-10 00:00:00+09:00  4037.530735  4160.098633   \n",
       "\n",
       "           Low        Close    Volume  \n",
       "0  4080.789945  4405.234375  74195000  \n",
       "1  3979.851100  4023.110352  74680000  \n",
       "2  4023.111662  4051.951172  54390000  \n",
       "3  3864.494419  3994.272217  40305000  \n",
       "4  4023.110983  4160.098633  46880000  "
      ]
     },
     "execution_count": 1,
     "metadata": {},
     "output_type": "execute_result"
    }
   ],
   "source": [
    "import pandas as pd\n",
    "\n",
    "DATA = '/kaggle/input/samsung-electronics-historical-stock-prices/samsung_electronics_stocks_data.csv'\n",
    "df = pd.read_csv(filepath_or_buffer=DATA)\n",
    "df.head()"
   ]
  }
 ],
 "metadata": {
  "kaggle": {
   "accelerator": "none",
   "dataSources": [
    {
     "datasetId": 6459956,
     "sourceId": 10422445,
     "sourceType": "datasetVersion"
    }
   ],
   "isGpuEnabled": false,
   "isInternetEnabled": true,
   "language": "python",
   "sourceType": "notebook"
  },
  "kernelspec": {
   "display_name": "Python 3",
   "language": "python",
   "name": "python3"
  },
  "language_info": {
   "codemirror_mode": {
    "name": "ipython",
    "version": 3
   },
   "file_extension": ".py",
   "mimetype": "text/x-python",
   "name": "python",
   "nbconvert_exporter": "python",
   "pygments_lexer": "ipython3",
   "version": "3.10.12"
  },
  "papermill": {
   "default_parameters": {},
   "duration": 3.394664,
   "end_time": "2025-01-10T20:58:44.114726",
   "environment_variables": {},
   "exception": null,
   "input_path": "__notebook__.ipynb",
   "output_path": "__notebook__.ipynb",
   "parameters": {},
   "start_time": "2025-01-10T20:58:40.720062",
   "version": "2.6.0"
  }
 },
 "nbformat": 4,
 "nbformat_minor": 5
}
