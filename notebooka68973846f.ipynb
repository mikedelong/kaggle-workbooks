{
 "cells": [
  {
   "cell_type": "code",
   "execution_count": 1,
   "id": "6aeff1eb",
   "metadata": {
    "_cell_guid": "b1076dfc-b9ad-4769-8c92-a6c4dae69d19",
    "_uuid": "8f2839f25d086af736a60e9eeb907d3b93b6e0e5",
    "execution": {
     "iopub.execute_input": "2025-09-11T02:00:58.689000Z",
     "iopub.status.busy": "2025-09-11T02:00:58.688615Z",
     "iopub.status.idle": "2025-09-11T02:00:58.815368Z",
     "shell.execute_reply": "2025-09-11T02:00:58.814024Z"
    },
    "papermill": {
     "duration": 0.131429,
     "end_time": "2025-09-11T02:00:58.817222",
     "exception": false,
     "start_time": "2025-09-11T02:00:58.685793",
     "status": "completed"
    },
    "tags": []
   },
   "outputs": [
    {
     "name": "stdout",
     "output_type": "stream",
     "text": [
      "trading-image\r\n"
     ]
    }
   ],
   "source": [
    "!ls /kaggle/input"
   ]
  }
 ],
 "metadata": {
  "kaggle": {
   "accelerator": "none",
   "dataSources": [
    {
     "datasetId": 8231230,
     "sourceId": 13012945,
     "sourceType": "datasetVersion"
    }
   ],
   "isGpuEnabled": false,
   "isInternetEnabled": true,
   "language": "python",
   "sourceType": "notebook"
  },
  "kernelspec": {
   "display_name": "Python 3",
   "language": "python",
   "name": "python3"
  },
  "language_info": {
   "codemirror_mode": {
    "name": "ipython",
    "version": 3
   },
   "file_extension": ".py",
   "mimetype": "text/x-python",
   "name": "python",
   "nbconvert_exporter": "python",
   "pygments_lexer": "ipython3",
   "version": "3.11.13"
  },
  "papermill": {
   "default_parameters": {},
   "duration": 6.153997,
   "end_time": "2025-09-11T02:00:59.239284",
   "environment_variables": {},
   "exception": null,
   "input_path": "__notebook__.ipynb",
   "output_path": "__notebook__.ipynb",
   "parameters": {},
   "start_time": "2025-09-11T02:00:53.085287",
   "version": "2.6.0"
  }
 },
 "nbformat": 4,
 "nbformat_minor": 5
}
