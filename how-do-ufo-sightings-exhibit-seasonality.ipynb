{
 "cells": [
  {
   "cell_type": "markdown",
   "id": "5daaaa06",
   "metadata": {
    "papermill": {
     "duration": 0.00369,
     "end_time": "2025-02-21T19:13:37.674915",
     "exception": false,
     "start_time": "2025-02-21T19:13:37.671225",
     "status": "completed"
    },
    "tags": []
   },
   "source": [
    "Let's load up our data and do a little data cleansing. We need to clean up some trash that has crept into our data, and we want to cap our durations at an hour. If we don't cap our durations at an hour the outliers will make almost all of them nearly zero."
   ]
  },
  {
   "cell_type": "markdown",
   "id": "8c169d24",
   "metadata": {
    "papermill": {
     "duration": 0.002647,
     "end_time": "2025-02-21T19:13:37.680546",
     "exception": false,
     "start_time": "2025-02-21T19:13:37.677899",
     "status": "completed"
    },
    "tags": []
   },
   "source": [
    "Also it looks like we have pretty solid date/time data, so we're going to look at seasonality in several dimensions. That means we need to parse several fields out of our date/time data."
   ]
  },
  {
   "cell_type": "code",
   "execution_count": 1,
   "id": "ace8566f",
   "metadata": {
    "_cell_guid": "b1076dfc-b9ad-4769-8c92-a6c4dae69d19",
    "_uuid": "8f2839f25d086af736a60e9eeb907d3b93b6e0e5",
    "execution": {
     "iopub.execute_input": "2025-02-21T19:13:37.687324Z",
     "iopub.status.busy": "2025-02-21T19:13:37.687062Z",
     "iopub.status.idle": "2025-02-21T19:13:39.115223Z",
     "shell.execute_reply": "2025-02-21T19:13:39.114415Z"
    },
    "papermill": {
     "duration": 1.433057,
     "end_time": "2025-02-21T19:13:39.116494",
     "exception": false,
     "start_time": "2025-02-21T19:13:37.683437",
     "status": "completed"
    },
    "tags": []
   },
   "outputs": [
    {
     "data": {
      "text/html": [
       "<div>\n",
       "<style scoped>\n",
       "    .dataframe tbody tr th:only-of-type {\n",
       "        vertical-align: middle;\n",
       "    }\n",
       "\n",
       "    .dataframe tbody tr th {\n",
       "        vertical-align: top;\n",
       "    }\n",
       "\n",
       "    .dataframe thead th {\n",
       "        text-align: right;\n",
       "    }\n",
       "</style>\n",
       "<table border=\"1\" class=\"dataframe\">\n",
       "  <thead>\n",
       "    <tr style=\"text-align: right;\">\n",
       "      <th></th>\n",
       "      <th>datetime</th>\n",
       "      <th>city</th>\n",
       "      <th>state</th>\n",
       "      <th>country</th>\n",
       "      <th>shape</th>\n",
       "      <th>duration (seconds)</th>\n",
       "      <th>duration (hours/min)</th>\n",
       "      <th>comments</th>\n",
       "      <th>date posted</th>\n",
       "      <th>latitude</th>\n",
       "      <th>longitude</th>\n",
       "      <th>month</th>\n",
       "      <th>year</th>\n",
       "      <th>day_of_week</th>\n",
       "      <th>hour</th>\n",
       "    </tr>\n",
       "  </thead>\n",
       "  <tbody>\n",
       "    <tr>\n",
       "      <th>0</th>\n",
       "      <td>1949-10-10 20:30:00</td>\n",
       "      <td>san marcos</td>\n",
       "      <td>tx</td>\n",
       "      <td>us</td>\n",
       "      <td>cylinder</td>\n",
       "      <td>2700.0</td>\n",
       "      <td>45 minutes</td>\n",
       "      <td>This event took place in early fall around 194...</td>\n",
       "      <td>2004-04-27</td>\n",
       "      <td>29.883056</td>\n",
       "      <td>-97.941111</td>\n",
       "      <td>10</td>\n",
       "      <td>1949</td>\n",
       "      <td>0</td>\n",
       "      <td>20</td>\n",
       "    </tr>\n",
       "    <tr>\n",
       "      <th>1</th>\n",
       "      <td>1949-10-10 21:00:00</td>\n",
       "      <td>lackland afb</td>\n",
       "      <td>tx</td>\n",
       "      <td>NaN</td>\n",
       "      <td>light</td>\n",
       "      <td>3600.0</td>\n",
       "      <td>1-2 hrs</td>\n",
       "      <td>1949 Lackland AFB&amp;#44 TX.  Lights racing acros...</td>\n",
       "      <td>2005-12-16</td>\n",
       "      <td>29.384210</td>\n",
       "      <td>-98.581082</td>\n",
       "      <td>10</td>\n",
       "      <td>1949</td>\n",
       "      <td>0</td>\n",
       "      <td>21</td>\n",
       "    </tr>\n",
       "    <tr>\n",
       "      <th>2</th>\n",
       "      <td>1955-10-10 17:00:00</td>\n",
       "      <td>chester (uk/england)</td>\n",
       "      <td>NaN</td>\n",
       "      <td>gb</td>\n",
       "      <td>circle</td>\n",
       "      <td>20.0</td>\n",
       "      <td>20 seconds</td>\n",
       "      <td>Green/Orange circular disc over Chester&amp;#44 En...</td>\n",
       "      <td>2008-01-21</td>\n",
       "      <td>53.200000</td>\n",
       "      <td>-2.916667</td>\n",
       "      <td>10</td>\n",
       "      <td>1955</td>\n",
       "      <td>0</td>\n",
       "      <td>17</td>\n",
       "    </tr>\n",
       "    <tr>\n",
       "      <th>3</th>\n",
       "      <td>1956-10-10 21:00:00</td>\n",
       "      <td>edna</td>\n",
       "      <td>tx</td>\n",
       "      <td>us</td>\n",
       "      <td>circle</td>\n",
       "      <td>20.0</td>\n",
       "      <td>1/2 hour</td>\n",
       "      <td>My older brother and twin sister were leaving ...</td>\n",
       "      <td>2004-01-17</td>\n",
       "      <td>28.978333</td>\n",
       "      <td>-96.645833</td>\n",
       "      <td>10</td>\n",
       "      <td>1956</td>\n",
       "      <td>2</td>\n",
       "      <td>21</td>\n",
       "    </tr>\n",
       "    <tr>\n",
       "      <th>4</th>\n",
       "      <td>1960-10-10 20:00:00</td>\n",
       "      <td>kaneohe</td>\n",
       "      <td>hi</td>\n",
       "      <td>us</td>\n",
       "      <td>light</td>\n",
       "      <td>900.0</td>\n",
       "      <td>15 minutes</td>\n",
       "      <td>AS a Marine 1st Lt. flying an FJ4B fighter/att...</td>\n",
       "      <td>2004-01-22</td>\n",
       "      <td>21.418056</td>\n",
       "      <td>-157.803611</td>\n",
       "      <td>10</td>\n",
       "      <td>1960</td>\n",
       "      <td>0</td>\n",
       "      <td>20</td>\n",
       "    </tr>\n",
       "  </tbody>\n",
       "</table>\n",
       "</div>"
      ],
      "text/plain": [
       "             datetime                  city state country     shape  \\\n",
       "0 1949-10-10 20:30:00            san marcos    tx      us  cylinder   \n",
       "1 1949-10-10 21:00:00          lackland afb    tx     NaN     light   \n",
       "2 1955-10-10 17:00:00  chester (uk/england)   NaN      gb    circle   \n",
       "3 1956-10-10 21:00:00                  edna    tx      us    circle   \n",
       "4 1960-10-10 20:00:00               kaneohe    hi      us     light   \n",
       "\n",
       "   duration (seconds) duration (hours/min)  \\\n",
       "0              2700.0           45 minutes   \n",
       "1              3600.0              1-2 hrs   \n",
       "2                20.0           20 seconds   \n",
       "3                20.0             1/2 hour   \n",
       "4               900.0           15 minutes   \n",
       "\n",
       "                                            comments date posted   latitude  \\\n",
       "0  This event took place in early fall around 194...  2004-04-27  29.883056   \n",
       "1  1949 Lackland AFB&#44 TX.  Lights racing acros...  2005-12-16  29.384210   \n",
       "2  Green/Orange circular disc over Chester&#44 En...  2008-01-21  53.200000   \n",
       "3  My older brother and twin sister were leaving ...  2004-01-17  28.978333   \n",
       "4  AS a Marine 1st Lt. flying an FJ4B fighter/att...  2004-01-22  21.418056   \n",
       "\n",
       "    longitude  month  year  day_of_week  hour  \n",
       "0  -97.941111     10  1949            0    20  \n",
       "1  -98.581082     10  1949            0    21  \n",
       "2   -2.916667     10  1955            0    17  \n",
       "3  -96.645833     10  1956            2    21  \n",
       "4 -157.803611     10  1960            0    20  "
      ]
     },
     "execution_count": 1,
     "metadata": {},
     "output_type": "execute_result"
    }
   ],
   "source": [
    "import pandas as pd\n",
    "\n",
    "UFO = '/kaggle/input/ufo-sightings/ufo_sightings_scrubbed.csv'\n",
    "df = pd.read_csv(filepath_or_buffer=UFO, parse_dates=['datetime', 'date posted'], low_memory=False)\n",
    "df.columns = [column.strip() for column in df.columns]\n",
    "df['latitude'] = df['latitude'].apply(func=lambda x: float(x.replace('q', '')) if 'q' in x else float(x))\n",
    "df['duration (seconds)'] = df['duration (seconds)'].apply(func=lambda x: float(x.replace('`', '')))\n",
    "df['duration (seconds)'] = df['duration (seconds)'].apply(func=lambda x: x if x < 3600 else 3600)\n",
    "df['month'] = df['datetime'].dt.month\n",
    "df['year'] = df['datetime'].dt.year\n",
    "df['day_of_week'] = df['datetime'].dt.dayofweek\n",
    "df['hour'] = df['datetime'].dt.hour\n",
    "df.head()"
   ]
  },
  {
   "cell_type": "markdown",
   "id": "cd2f5b69",
   "metadata": {
    "papermill": {
     "duration": 0.003173,
     "end_time": "2025-02-21T19:13:39.123227",
     "exception": false,
     "start_time": "2025-02-21T19:13:39.120054",
     "status": "completed"
    },
    "tags": []
   },
   "source": [
    "Let's make a map. We have global data, but we already suspect sightings are not randomly or evenly distributed around the glob."
   ]
  },
  {
   "cell_type": "code",
   "execution_count": 2,
   "id": "f02ec679",
   "metadata": {
    "execution": {
     "iopub.execute_input": "2025-02-21T19:13:39.130992Z",
     "iopub.status.busy": "2025-02-21T19:13:39.130607Z",
     "iopub.status.idle": "2025-02-21T19:13:41.876136Z",
     "shell.execute_reply": "2025-02-21T19:13:41.874862Z"
    },
    "papermill": {
     "duration": 2.751187,
     "end_time": "2025-02-21T19:13:41.877582",
     "exception": false,
     "start_time": "2025-02-21T19:13:39.126395",
     "status": "completed"
    },
    "tags": []
   },
   "outputs": [
    {
     "data": {
      "text/html": [
       "<iframe\n",
       "    scrolling=\"no\"\n",
       "    width=\"100%\"\n",
       "    height=\"820\"\n",
       "    src=\"iframe_figures/figure_2.html\"\n",
       "    frameborder=\"0\"\n",
       "    allowfullscreen\n",
       "></iframe>\n"
      ]
     },
     "metadata": {},
     "output_type": "display_data"
    }
   ],
   "source": [
    "from plotly import express\n",
    "from plotly import io\n",
    "\n",
    "io.renderers.default = 'iframe'\n",
    "express.scatter_mapbox(data_frame=df, mapbox_style='open-street-map', height=800, zoom=1, lat='latitude', lon='longitude', color='duration (seconds)')"
   ]
  },
  {
   "cell_type": "markdown",
   "id": "3a141200",
   "metadata": {
    "papermill": {
     "duration": 0.003048,
     "end_time": "2025-02-21T19:13:41.884582",
     "exception": false,
     "start_time": "2025-02-21T19:13:41.881534",
     "status": "completed"
    },
    "tags": []
   },
   "source": [
    "This map makes it look like almost all UFO sightings are in the United States."
   ]
  },
  {
   "cell_type": "markdown",
   "id": "31efc53f",
   "metadata": {
    "papermill": {
     "duration": 0.002969,
     "end_time": "2025-02-21T19:13:41.890817",
     "exception": false,
     "start_time": "2025-02-21T19:13:41.887848",
     "status": "completed"
    },
    "tags": []
   },
   "source": [
    "Here's what our durations look like. "
   ]
  },
  {
   "cell_type": "code",
   "execution_count": 3,
   "id": "69953662",
   "metadata": {
    "execution": {
     "iopub.execute_input": "2025-02-21T19:13:41.898235Z",
     "iopub.status.busy": "2025-02-21T19:13:41.897927Z",
     "iopub.status.idle": "2025-02-21T19:13:42.013271Z",
     "shell.execute_reply": "2025-02-21T19:13:42.012349Z"
    },
    "papermill": {
     "duration": 0.120682,
     "end_time": "2025-02-21T19:13:42.014557",
     "exception": false,
     "start_time": "2025-02-21T19:13:41.893875",
     "status": "completed"
    },
    "tags": []
   },
   "outputs": [
    {
     "data": {
      "text/html": [
       "<iframe\n",
       "    scrolling=\"no\"\n",
       "    width=\"100%\"\n",
       "    height=\"545px\"\n",
       "    src=\"iframe_figures/figure_3.html\"\n",
       "    frameborder=\"0\"\n",
       "    allowfullscreen\n",
       "></iframe>\n"
      ]
     },
     "metadata": {},
     "output_type": "display_data"
    }
   ],
   "source": [
    "express.histogram(data_frame=df, x='duration (seconds)', log_y=False)"
   ]
  },
  {
   "cell_type": "markdown",
   "id": "aa49c3e4",
   "metadata": {
    "papermill": {
     "duration": 0.003108,
     "end_time": "2025-02-21T19:13:42.021535",
     "exception": false,
     "start_time": "2025-02-21T19:13:42.018427",
     "status": "completed"
    },
    "tags": []
   },
   "source": [
    "The way those peaks are distributed suggests they've been quantized, maybe to five-minute intervals. "
   ]
  },
  {
   "cell_type": "markdown",
   "id": "0c8916ac",
   "metadata": {
    "papermill": {
     "duration": 0.002944,
     "end_time": "2025-02-21T19:13:42.027710",
     "exception": false,
     "start_time": "2025-02-21T19:13:42.024766",
     "status": "completed"
    },
    "tags": []
   },
   "source": [
    "Let's look at the distribution by country."
   ]
  },
  {
   "cell_type": "code",
   "execution_count": 4,
   "id": "b6be4250",
   "metadata": {
    "execution": {
     "iopub.execute_input": "2025-02-21T19:13:42.035408Z",
     "iopub.status.busy": "2025-02-21T19:13:42.035044Z",
     "iopub.status.idle": "2025-02-21T19:13:42.131862Z",
     "shell.execute_reply": "2025-02-21T19:13:42.130854Z"
    },
    "papermill": {
     "duration": 0.102685,
     "end_time": "2025-02-21T19:13:42.133483",
     "exception": false,
     "start_time": "2025-02-21T19:13:42.030798",
     "status": "completed"
    },
    "tags": []
   },
   "outputs": [
    {
     "data": {
      "text/html": [
       "<iframe\n",
       "    scrolling=\"no\"\n",
       "    width=\"100%\"\n",
       "    height=\"545px\"\n",
       "    src=\"iframe_figures/figure_4.html\"\n",
       "    frameborder=\"0\"\n",
       "    allowfullscreen\n",
       "></iframe>\n"
      ]
     },
     "metadata": {},
     "output_type": "display_data"
    }
   ],
   "source": [
    "express.bar(data_frame=df['country'].value_counts().to_frame().reset_index(), x='country', y='count')"
   ]
  },
  {
   "cell_type": "markdown",
   "id": "c7d89f1f",
   "metadata": {
    "papermill": {
     "duration": 0.004474,
     "end_time": "2025-02-21T19:13:42.141925",
     "exception": false,
     "start_time": "2025-02-21T19:13:42.137451",
     "status": "completed"
    },
    "tags": []
   },
   "source": [
    "This distribution is more an artifact of the completeness of the country field than it is a representation of the actual sighting countries, as is suggested from looking at the sightings not in these five countries shown in the map above."
   ]
  },
  {
   "cell_type": "markdown",
   "id": "54f87250",
   "metadata": {
    "papermill": {
     "duration": 0.003226,
     "end_time": "2025-02-21T19:13:42.148928",
     "exception": false,
     "start_time": "2025-02-21T19:13:42.145702",
     "status": "completed"
    },
    "tags": []
   },
   "source": [
    "We get a smoother histogram if we plot the distribution by year instead of by date."
   ]
  },
  {
   "cell_type": "code",
   "execution_count": 5,
   "id": "07876238",
   "metadata": {
    "execution": {
     "iopub.execute_input": "2025-02-21T19:13:42.156774Z",
     "iopub.status.busy": "2025-02-21T19:13:42.156429Z",
     "iopub.status.idle": "2025-02-21T19:13:42.227906Z",
     "shell.execute_reply": "2025-02-21T19:13:42.227042Z"
    },
    "papermill": {
     "duration": 0.077073,
     "end_time": "2025-02-21T19:13:42.229436",
     "exception": false,
     "start_time": "2025-02-21T19:13:42.152363",
     "status": "completed"
    },
    "tags": []
   },
   "outputs": [
    {
     "data": {
      "text/html": [
       "<iframe\n",
       "    scrolling=\"no\"\n",
       "    width=\"100%\"\n",
       "    height=\"545px\"\n",
       "    src=\"iframe_figures/figure_5.html\"\n",
       "    frameborder=\"0\"\n",
       "    allowfullscreen\n",
       "></iframe>\n"
      ]
     },
     "metadata": {},
     "output_type": "display_data"
    }
   ],
   "source": [
    "express.histogram(data_frame=df, x='year')"
   ]
  },
  {
   "cell_type": "markdown",
   "id": "be006cfc",
   "metadata": {
    "papermill": {
     "duration": 0.003265,
     "end_time": "2025-02-21T19:13:42.237075",
     "exception": false,
     "start_time": "2025-02-21T19:13:42.233810",
     "status": "completed"
    },
    "tags": []
   },
   "source": [
    "It's crazy how sightings accelerate so much after 1990. I wonder what caused that."
   ]
  },
  {
   "cell_type": "markdown",
   "id": "93723603",
   "metadata": {
    "papermill": {
     "duration": 0.003118,
     "end_time": "2025-02-21T19:13:42.243616",
     "exception": false,
     "start_time": "2025-02-21T19:13:42.240498",
     "status": "completed"
    },
    "tags": []
   },
   "source": [
    "Do we see any seasonality from month to month?"
   ]
  },
  {
   "cell_type": "code",
   "execution_count": 6,
   "id": "aad5f042",
   "metadata": {
    "execution": {
     "iopub.execute_input": "2025-02-21T19:13:42.251814Z",
     "iopub.status.busy": "2025-02-21T19:13:42.251415Z",
     "iopub.status.idle": "2025-02-21T19:13:42.322516Z",
     "shell.execute_reply": "2025-02-21T19:13:42.321548Z"
    },
    "papermill": {
     "duration": 0.077335,
     "end_time": "2025-02-21T19:13:42.324270",
     "exception": false,
     "start_time": "2025-02-21T19:13:42.246935",
     "status": "completed"
    },
    "tags": []
   },
   "outputs": [
    {
     "data": {
      "text/html": [
       "<iframe\n",
       "    scrolling=\"no\"\n",
       "    width=\"100%\"\n",
       "    height=\"545px\"\n",
       "    src=\"iframe_figures/figure_6.html\"\n",
       "    frameborder=\"0\"\n",
       "    allowfullscreen\n",
       "></iframe>\n"
      ]
     },
     "metadata": {},
     "output_type": "display_data"
    }
   ],
   "source": [
    "express.histogram(data_frame=df, x='month')"
   ]
  },
  {
   "cell_type": "markdown",
   "id": "87fa1070",
   "metadata": {
    "papermill": {
     "duration": 0.003199,
     "end_time": "2025-02-21T19:13:42.331415",
     "exception": false,
     "start_time": "2025-02-21T19:13:42.328216",
     "status": "completed"
    },
    "tags": []
   },
   "source": [
    "We don't see a lot of seasonality, but it is probably not surprising that we see an increase in sightings during the warmer months in the northern hemisphere."
   ]
  },
  {
   "cell_type": "markdown",
   "id": "66a17155",
   "metadata": {
    "papermill": {
     "duration": 0.003155,
     "end_time": "2025-02-21T19:13:42.337961",
     "exception": false,
     "start_time": "2025-02-21T19:13:42.334806",
     "status": "completed"
    },
    "tags": []
   },
   "source": [
    "How about seasonality relative to the day of the week?"
   ]
  },
  {
   "cell_type": "code",
   "execution_count": 7,
   "id": "5b29c180",
   "metadata": {
    "execution": {
     "iopub.execute_input": "2025-02-21T19:13:42.346200Z",
     "iopub.status.busy": "2025-02-21T19:13:42.345781Z",
     "iopub.status.idle": "2025-02-21T19:13:42.414200Z",
     "shell.execute_reply": "2025-02-21T19:13:42.413048Z"
    },
    "papermill": {
     "duration": 0.074797,
     "end_time": "2025-02-21T19:13:42.416088",
     "exception": false,
     "start_time": "2025-02-21T19:13:42.341291",
     "status": "completed"
    },
    "tags": []
   },
   "outputs": [
    {
     "data": {
      "text/html": [
       "<iframe\n",
       "    scrolling=\"no\"\n",
       "    width=\"100%\"\n",
       "    height=\"545px\"\n",
       "    src=\"iframe_figures/figure_7.html\"\n",
       "    frameborder=\"0\"\n",
       "    allowfullscreen\n",
       "></iframe>\n"
      ]
     },
     "metadata": {},
     "output_type": "display_data"
    }
   ],
   "source": [
    "express.histogram(data_frame=df, x='day_of_week')"
   ]
  },
  {
   "cell_type": "markdown",
   "id": "b11255ff",
   "metadata": {
    "papermill": {
     "duration": 0.00349,
     "end_time": "2025-02-21T19:13:42.423812",
     "exception": false,
     "start_time": "2025-02-21T19:13:42.420322",
     "status": "completed"
    },
    "tags": []
   },
   "source": [
    "There are more sightings on weekends, but not a lot."
   ]
  },
  {
   "cell_type": "markdown",
   "id": "82bf736b",
   "metadata": {
    "papermill": {
     "duration": 0.003509,
     "end_time": "2025-02-21T19:13:42.431024",
     "exception": false,
     "start_time": "2025-02-21T19:13:42.427515",
     "status": "completed"
    },
    "tags": []
   },
   "source": [
    "How about seasonality by hour of the day? "
   ]
  },
  {
   "cell_type": "code",
   "execution_count": 8,
   "id": "b609a68b",
   "metadata": {
    "execution": {
     "iopub.execute_input": "2025-02-21T19:13:42.439289Z",
     "iopub.status.busy": "2025-02-21T19:13:42.438975Z",
     "iopub.status.idle": "2025-02-21T19:13:42.507132Z",
     "shell.execute_reply": "2025-02-21T19:13:42.506057Z"
    },
    "papermill": {
     "duration": 0.073922,
     "end_time": "2025-02-21T19:13:42.508464",
     "exception": false,
     "start_time": "2025-02-21T19:13:42.434542",
     "status": "completed"
    },
    "tags": []
   },
   "outputs": [
    {
     "data": {
      "text/html": [
       "<iframe\n",
       "    scrolling=\"no\"\n",
       "    width=\"100%\"\n",
       "    height=\"545px\"\n",
       "    src=\"iframe_figures/figure_8.html\"\n",
       "    frameborder=\"0\"\n",
       "    allowfullscreen\n",
       "></iframe>\n"
      ]
     },
     "metadata": {},
     "output_type": "display_data"
    }
   ],
   "source": [
    "express.histogram(data_frame=df, x='hour')"
   ]
  },
  {
   "cell_type": "markdown",
   "id": "2617c8eb",
   "metadata": {
    "papermill": {
     "duration": 0.003365,
     "end_time": "2025-02-21T19:13:42.515854",
     "exception": false,
     "start_time": "2025-02-21T19:13:42.512489",
     "status": "completed"
    },
    "tags": []
   },
   "source": [
    "Not surprisingly there are far more sightings at night. "
   ]
  }
 ],
 "metadata": {
  "kaggle": {
   "accelerator": "none",
   "dataSources": [
    {
     "datasetId": 6670893,
     "sourceId": 10755372,
     "sourceType": "datasetVersion"
    }
   ],
   "dockerImageVersionId": 30918,
   "isGpuEnabled": false,
   "isInternetEnabled": true,
   "language": "python",
   "sourceType": "notebook"
  },
  "kernelspec": {
   "display_name": "Python 3",
   "language": "python",
   "name": "python3"
  },
  "language_info": {
   "codemirror_mode": {
    "name": "ipython",
    "version": 3
   },
   "file_extension": ".py",
   "mimetype": "text/x-python",
   "name": "python",
   "nbconvert_exporter": "python",
   "pygments_lexer": "ipython3",
   "version": "3.10.12"
  },
  "papermill": {
   "default_parameters": {},
   "duration": 8.332609,
   "end_time": "2025-02-21T19:13:43.140059",
   "environment_variables": {},
   "exception": null,
   "input_path": "__notebook__.ipynb",
   "output_path": "__notebook__.ipynb",
   "parameters": {},
   "start_time": "2025-02-21T19:13:34.807450",
   "version": "2.6.0"
  }
 },
 "nbformat": 4,
 "nbformat_minor": 5
}
