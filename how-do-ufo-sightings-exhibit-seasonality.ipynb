{
 "cells": [
  {
   "cell_type": "markdown",
   "id": "12c618c8",
   "metadata": {
    "papermill": {
     "duration": 0.005304,
     "end_time": "2025-02-21T19:11:31.745277",
     "exception": false,
     "start_time": "2025-02-21T19:11:31.739973",
     "status": "completed"
    },
    "tags": []
   },
   "source": [
    "Let's load up our data and do a little data cleansing. We need to clean up some trash that has crept into our data, and we want to cap our durations at an hour. If we don't cap our durations at an hour the outliers will make almost all of them nearly zero."
   ]
  },
  {
   "cell_type": "code",
   "execution_count": 1,
   "id": "ce24cf4a",
   "metadata": {
    "_cell_guid": "b1076dfc-b9ad-4769-8c92-a6c4dae69d19",
    "_uuid": "8f2839f25d086af736a60e9eeb907d3b93b6e0e5",
    "execution": {
     "iopub.execute_input": "2025-02-21T19:11:31.755768Z",
     "iopub.status.busy": "2025-02-21T19:11:31.755289Z",
     "iopub.status.idle": "2025-02-21T19:11:33.786738Z",
     "shell.execute_reply": "2025-02-21T19:11:33.785241Z"
    },
    "papermill": {
     "duration": 2.03903,
     "end_time": "2025-02-21T19:11:33.788930",
     "exception": false,
     "start_time": "2025-02-21T19:11:31.749900",
     "status": "completed"
    },
    "tags": []
   },
   "outputs": [
    {
     "data": {
      "text/html": [
       "<div>\n",
       "<style scoped>\n",
       "    .dataframe tbody tr th:only-of-type {\n",
       "        vertical-align: middle;\n",
       "    }\n",
       "\n",
       "    .dataframe tbody tr th {\n",
       "        vertical-align: top;\n",
       "    }\n",
       "\n",
       "    .dataframe thead th {\n",
       "        text-align: right;\n",
       "    }\n",
       "</style>\n",
       "<table border=\"1\" class=\"dataframe\">\n",
       "  <thead>\n",
       "    <tr style=\"text-align: right;\">\n",
       "      <th></th>\n",
       "      <th>datetime</th>\n",
       "      <th>city</th>\n",
       "      <th>state</th>\n",
       "      <th>country</th>\n",
       "      <th>shape</th>\n",
       "      <th>duration (seconds)</th>\n",
       "      <th>duration (hours/min)</th>\n",
       "      <th>comments</th>\n",
       "      <th>date posted</th>\n",
       "      <th>latitude</th>\n",
       "      <th>longitude</th>\n",
       "      <th>month</th>\n",
       "      <th>year</th>\n",
       "      <th>day_of_week</th>\n",
       "      <th>hour</th>\n",
       "    </tr>\n",
       "  </thead>\n",
       "  <tbody>\n",
       "    <tr>\n",
       "      <th>0</th>\n",
       "      <td>1949-10-10 20:30:00</td>\n",
       "      <td>san marcos</td>\n",
       "      <td>tx</td>\n",
       "      <td>us</td>\n",
       "      <td>cylinder</td>\n",
       "      <td>2700.0</td>\n",
       "      <td>45 minutes</td>\n",
       "      <td>This event took place in early fall around 194...</td>\n",
       "      <td>2004-04-27</td>\n",
       "      <td>29.883056</td>\n",
       "      <td>-97.941111</td>\n",
       "      <td>10</td>\n",
       "      <td>1949</td>\n",
       "      <td>0</td>\n",
       "      <td>20</td>\n",
       "    </tr>\n",
       "    <tr>\n",
       "      <th>1</th>\n",
       "      <td>1949-10-10 21:00:00</td>\n",
       "      <td>lackland afb</td>\n",
       "      <td>tx</td>\n",
       "      <td>NaN</td>\n",
       "      <td>light</td>\n",
       "      <td>3600.0</td>\n",
       "      <td>1-2 hrs</td>\n",
       "      <td>1949 Lackland AFB&amp;#44 TX.  Lights racing acros...</td>\n",
       "      <td>2005-12-16</td>\n",
       "      <td>29.384210</td>\n",
       "      <td>-98.581082</td>\n",
       "      <td>10</td>\n",
       "      <td>1949</td>\n",
       "      <td>0</td>\n",
       "      <td>21</td>\n",
       "    </tr>\n",
       "    <tr>\n",
       "      <th>2</th>\n",
       "      <td>1955-10-10 17:00:00</td>\n",
       "      <td>chester (uk/england)</td>\n",
       "      <td>NaN</td>\n",
       "      <td>gb</td>\n",
       "      <td>circle</td>\n",
       "      <td>20.0</td>\n",
       "      <td>20 seconds</td>\n",
       "      <td>Green/Orange circular disc over Chester&amp;#44 En...</td>\n",
       "      <td>2008-01-21</td>\n",
       "      <td>53.200000</td>\n",
       "      <td>-2.916667</td>\n",
       "      <td>10</td>\n",
       "      <td>1955</td>\n",
       "      <td>0</td>\n",
       "      <td>17</td>\n",
       "    </tr>\n",
       "    <tr>\n",
       "      <th>3</th>\n",
       "      <td>1956-10-10 21:00:00</td>\n",
       "      <td>edna</td>\n",
       "      <td>tx</td>\n",
       "      <td>us</td>\n",
       "      <td>circle</td>\n",
       "      <td>20.0</td>\n",
       "      <td>1/2 hour</td>\n",
       "      <td>My older brother and twin sister were leaving ...</td>\n",
       "      <td>2004-01-17</td>\n",
       "      <td>28.978333</td>\n",
       "      <td>-96.645833</td>\n",
       "      <td>10</td>\n",
       "      <td>1956</td>\n",
       "      <td>2</td>\n",
       "      <td>21</td>\n",
       "    </tr>\n",
       "    <tr>\n",
       "      <th>4</th>\n",
       "      <td>1960-10-10 20:00:00</td>\n",
       "      <td>kaneohe</td>\n",
       "      <td>hi</td>\n",
       "      <td>us</td>\n",
       "      <td>light</td>\n",
       "      <td>900.0</td>\n",
       "      <td>15 minutes</td>\n",
       "      <td>AS a Marine 1st Lt. flying an FJ4B fighter/att...</td>\n",
       "      <td>2004-01-22</td>\n",
       "      <td>21.418056</td>\n",
       "      <td>-157.803611</td>\n",
       "      <td>10</td>\n",
       "      <td>1960</td>\n",
       "      <td>0</td>\n",
       "      <td>20</td>\n",
       "    </tr>\n",
       "  </tbody>\n",
       "</table>\n",
       "</div>"
      ],
      "text/plain": [
       "             datetime                  city state country     shape  \\\n",
       "0 1949-10-10 20:30:00            san marcos    tx      us  cylinder   \n",
       "1 1949-10-10 21:00:00          lackland afb    tx     NaN     light   \n",
       "2 1955-10-10 17:00:00  chester (uk/england)   NaN      gb    circle   \n",
       "3 1956-10-10 21:00:00                  edna    tx      us    circle   \n",
       "4 1960-10-10 20:00:00               kaneohe    hi      us     light   \n",
       "\n",
       "   duration (seconds) duration (hours/min)  \\\n",
       "0              2700.0           45 minutes   \n",
       "1              3600.0              1-2 hrs   \n",
       "2                20.0           20 seconds   \n",
       "3                20.0             1/2 hour   \n",
       "4               900.0           15 minutes   \n",
       "\n",
       "                                            comments date posted   latitude  \\\n",
       "0  This event took place in early fall around 194...  2004-04-27  29.883056   \n",
       "1  1949 Lackland AFB&#44 TX.  Lights racing acros...  2005-12-16  29.384210   \n",
       "2  Green/Orange circular disc over Chester&#44 En...  2008-01-21  53.200000   \n",
       "3  My older brother and twin sister were leaving ...  2004-01-17  28.978333   \n",
       "4  AS a Marine 1st Lt. flying an FJ4B fighter/att...  2004-01-22  21.418056   \n",
       "\n",
       "    longitude  month  year  day_of_week  hour  \n",
       "0  -97.941111     10  1949            0    20  \n",
       "1  -98.581082     10  1949            0    21  \n",
       "2   -2.916667     10  1955            0    17  \n",
       "3  -96.645833     10  1956            2    21  \n",
       "4 -157.803611     10  1960            0    20  "
      ]
     },
     "execution_count": 1,
     "metadata": {},
     "output_type": "execute_result"
    }
   ],
   "source": [
    "import pandas as pd\n",
    "\n",
    "UFO = '/kaggle/input/ufo-sightings/ufo_sightings_scrubbed.csv'\n",
    "df = pd.read_csv(filepath_or_buffer=UFO, parse_dates=['datetime', 'date posted'], low_memory=False)\n",
    "df.columns = [column.strip() for column in df.columns]\n",
    "df['latitude'] = df['latitude'].apply(func=lambda x: float(x.replace('q', '')) if 'q' in x else float(x))\n",
    "df['duration (seconds)'] = df['duration (seconds)'].apply(func=lambda x: float(x.replace('`', '')))\n",
    "df['duration (seconds)'] = df['duration (seconds)'].apply(func=lambda x: x if x < 3600 else 3600)\n",
    "df['month'] = df['datetime'].dt.month\n",
    "df['year'] = df['datetime'].dt.year\n",
    "df['day_of_week'] = df['datetime'].dt.dayofweek\n",
    "df['hour'] = df['datetime'].dt.hour\n",
    "df.head()"
   ]
  },
  {
   "cell_type": "code",
   "execution_count": 2,
   "id": "3727178e",
   "metadata": {
    "execution": {
     "iopub.execute_input": "2025-02-21T19:11:33.800638Z",
     "iopub.status.busy": "2025-02-21T19:11:33.800181Z",
     "iopub.status.idle": "2025-02-21T19:11:33.849980Z",
     "shell.execute_reply": "2025-02-21T19:11:33.848614Z"
    },
    "papermill": {
     "duration": 0.058006,
     "end_time": "2025-02-21T19:11:33.851901",
     "exception": false,
     "start_time": "2025-02-21T19:11:33.793895",
     "status": "completed"
    },
    "tags": []
   },
   "outputs": [
    {
     "name": "stdout",
     "output_type": "stream",
     "text": [
      "<class 'pandas.core.frame.DataFrame'>\n",
      "RangeIndex: 80332 entries, 0 to 80331\n",
      "Data columns (total 15 columns):\n",
      " #   Column                Non-Null Count  Dtype         \n",
      "---  ------                --------------  -----         \n",
      " 0   datetime              80332 non-null  datetime64[ns]\n",
      " 1   city                  80332 non-null  object        \n",
      " 2   state                 74535 non-null  object        \n",
      " 3   country               70662 non-null  object        \n",
      " 4   shape                 78400 non-null  object        \n",
      " 5   duration (seconds)    80332 non-null  float64       \n",
      " 6   duration (hours/min)  80332 non-null  object        \n",
      " 7   comments              80317 non-null  object        \n",
      " 8   date posted           80332 non-null  datetime64[ns]\n",
      " 9   latitude              80332 non-null  float64       \n",
      " 10  longitude             80332 non-null  float64       \n",
      " 11  month                 80332 non-null  int32         \n",
      " 12  year                  80332 non-null  int32         \n",
      " 13  day_of_week           80332 non-null  int32         \n",
      " 14  hour                  80332 non-null  int32         \n",
      "dtypes: datetime64[ns](2), float64(3), int32(4), object(6)\n",
      "memory usage: 8.0+ MB\n"
     ]
    }
   ],
   "source": [
    "df.info()"
   ]
  },
  {
   "cell_type": "code",
   "execution_count": 3,
   "id": "3135e55a",
   "metadata": {
    "execution": {
     "iopub.execute_input": "2025-02-21T19:11:33.862977Z",
     "iopub.status.busy": "2025-02-21T19:11:33.862539Z",
     "iopub.status.idle": "2025-02-21T19:11:37.511506Z",
     "shell.execute_reply": "2025-02-21T19:11:37.510428Z"
    },
    "papermill": {
     "duration": 3.656397,
     "end_time": "2025-02-21T19:11:37.513224",
     "exception": false,
     "start_time": "2025-02-21T19:11:33.856827",
     "status": "completed"
    },
    "tags": []
   },
   "outputs": [
    {
     "data": {
      "text/html": [
       "<iframe\n",
       "    scrolling=\"no\"\n",
       "    width=\"100%\"\n",
       "    height=\"820\"\n",
       "    src=\"iframe_figures/figure_3.html\"\n",
       "    frameborder=\"0\"\n",
       "    allowfullscreen\n",
       "></iframe>\n"
      ]
     },
     "metadata": {},
     "output_type": "display_data"
    }
   ],
   "source": [
    "from plotly import express\n",
    "from plotly import io\n",
    "\n",
    "io.renderers.default = 'iframe'\n",
    "express.scatter_mapbox(data_frame=df, mapbox_style='open-street-map', height=800, zoom=1, lat='latitude', lon='longitude', color='duration (seconds)')"
   ]
  },
  {
   "cell_type": "markdown",
   "id": "d0c40137",
   "metadata": {
    "papermill": {
     "duration": 0.004484,
     "end_time": "2025-02-21T19:11:37.522745",
     "exception": false,
     "start_time": "2025-02-21T19:11:37.518261",
     "status": "completed"
    },
    "tags": []
   },
   "source": [
    "This map makes it look like almost all UFO sightings are in the United States."
   ]
  },
  {
   "cell_type": "markdown",
   "id": "a2a5625f",
   "metadata": {
    "papermill": {
     "duration": 0.004425,
     "end_time": "2025-02-21T19:11:37.531943",
     "exception": false,
     "start_time": "2025-02-21T19:11:37.527518",
     "status": "completed"
    },
    "tags": []
   },
   "source": [
    "Here's what our durations look like. "
   ]
  },
  {
   "cell_type": "code",
   "execution_count": 4,
   "id": "41a1a0fe",
   "metadata": {
    "execution": {
     "iopub.execute_input": "2025-02-21T19:11:37.542877Z",
     "iopub.status.busy": "2025-02-21T19:11:37.542447Z",
     "iopub.status.idle": "2025-02-21T19:11:37.700999Z",
     "shell.execute_reply": "2025-02-21T19:11:37.699388Z"
    },
    "papermill": {
     "duration": 0.166736,
     "end_time": "2025-02-21T19:11:37.703400",
     "exception": false,
     "start_time": "2025-02-21T19:11:37.536664",
     "status": "completed"
    },
    "tags": []
   },
   "outputs": [
    {
     "data": {
      "text/html": [
       "<iframe\n",
       "    scrolling=\"no\"\n",
       "    width=\"100%\"\n",
       "    height=\"545px\"\n",
       "    src=\"iframe_figures/figure_4.html\"\n",
       "    frameborder=\"0\"\n",
       "    allowfullscreen\n",
       "></iframe>\n"
      ]
     },
     "metadata": {},
     "output_type": "display_data"
    }
   ],
   "source": [
    "express.histogram(data_frame=df, x='duration (seconds)', log_y=False)"
   ]
  },
  {
   "cell_type": "markdown",
   "id": "5ed2043d",
   "metadata": {
    "papermill": {
     "duration": 0.004621,
     "end_time": "2025-02-21T19:11:37.713366",
     "exception": false,
     "start_time": "2025-02-21T19:11:37.708745",
     "status": "completed"
    },
    "tags": []
   },
   "source": [
    "The way those peaks are distributed suggests they've been quantized, maybe to five-minute intervals. "
   ]
  },
  {
   "cell_type": "markdown",
   "id": "25d1ce1c",
   "metadata": {
    "papermill": {
     "duration": 0.004605,
     "end_time": "2025-02-21T19:11:37.722989",
     "exception": false,
     "start_time": "2025-02-21T19:11:37.718384",
     "status": "completed"
    },
    "tags": []
   },
   "source": [
    "Let's look at the distribution by country."
   ]
  },
  {
   "cell_type": "code",
   "execution_count": 5,
   "id": "026b4f3e",
   "metadata": {
    "execution": {
     "iopub.execute_input": "2025-02-21T19:11:37.734259Z",
     "iopub.status.busy": "2025-02-21T19:11:37.733906Z",
     "iopub.status.idle": "2025-02-21T19:11:37.859132Z",
     "shell.execute_reply": "2025-02-21T19:11:37.857902Z"
    },
    "papermill": {
     "duration": 0.133253,
     "end_time": "2025-02-21T19:11:37.861202",
     "exception": false,
     "start_time": "2025-02-21T19:11:37.727949",
     "status": "completed"
    },
    "tags": []
   },
   "outputs": [
    {
     "data": {
      "text/html": [
       "<iframe\n",
       "    scrolling=\"no\"\n",
       "    width=\"100%\"\n",
       "    height=\"545px\"\n",
       "    src=\"iframe_figures/figure_5.html\"\n",
       "    frameborder=\"0\"\n",
       "    allowfullscreen\n",
       "></iframe>\n"
      ]
     },
     "metadata": {},
     "output_type": "display_data"
    }
   ],
   "source": [
    "express.bar(data_frame=df['country'].value_counts().to_frame().reset_index(), x='country', y='count')"
   ]
  },
  {
   "cell_type": "markdown",
   "id": "a5ecac41",
   "metadata": {
    "papermill": {
     "duration": 0.004791,
     "end_time": "2025-02-21T19:11:37.871393",
     "exception": false,
     "start_time": "2025-02-21T19:11:37.866602",
     "status": "completed"
    },
    "tags": []
   },
   "source": [
    "This distribution is more an artifact of the completeness of the country field than it is a representation of the actual sighting countries, as is suggested from looking at the sightings not in these five countries shown in the map above."
   ]
  },
  {
   "cell_type": "markdown",
   "id": "f0cde0e7",
   "metadata": {
    "papermill": {
     "duration": 0.004803,
     "end_time": "2025-02-21T19:11:37.881208",
     "exception": false,
     "start_time": "2025-02-21T19:11:37.876405",
     "status": "completed"
    },
    "tags": []
   },
   "source": [
    "We get a smoother histogram if we plot the distribution by year instead of by date."
   ]
  },
  {
   "cell_type": "code",
   "execution_count": 6,
   "id": "24b4fa48",
   "metadata": {
    "execution": {
     "iopub.execute_input": "2025-02-21T19:11:37.892563Z",
     "iopub.status.busy": "2025-02-21T19:11:37.892169Z",
     "iopub.status.idle": "2025-02-21T19:11:37.997562Z",
     "shell.execute_reply": "2025-02-21T19:11:37.996446Z"
    },
    "papermill": {
     "duration": 0.113383,
     "end_time": "2025-02-21T19:11:37.999648",
     "exception": false,
     "start_time": "2025-02-21T19:11:37.886265",
     "status": "completed"
    },
    "tags": []
   },
   "outputs": [
    {
     "data": {
      "text/html": [
       "<iframe\n",
       "    scrolling=\"no\"\n",
       "    width=\"100%\"\n",
       "    height=\"545px\"\n",
       "    src=\"iframe_figures/figure_6.html\"\n",
       "    frameborder=\"0\"\n",
       "    allowfullscreen\n",
       "></iframe>\n"
      ]
     },
     "metadata": {},
     "output_type": "display_data"
    }
   ],
   "source": [
    "express.histogram(data_frame=df, x='year')"
   ]
  },
  {
   "cell_type": "markdown",
   "id": "7e555646",
   "metadata": {
    "papermill": {
     "duration": 0.004926,
     "end_time": "2025-02-21T19:11:38.010086",
     "exception": false,
     "start_time": "2025-02-21T19:11:38.005160",
     "status": "completed"
    },
    "tags": []
   },
   "source": [
    "It's crazy how sightings accelerate so much after 1990. I wonder what caused that."
   ]
  },
  {
   "cell_type": "markdown",
   "id": "d953d818",
   "metadata": {
    "papermill": {
     "duration": 0.005541,
     "end_time": "2025-02-21T19:11:38.020819",
     "exception": false,
     "start_time": "2025-02-21T19:11:38.015278",
     "status": "completed"
    },
    "tags": []
   },
   "source": [
    "Do we see any seasonality from month to month?"
   ]
  },
  {
   "cell_type": "code",
   "execution_count": 7,
   "id": "fcfbf05f",
   "metadata": {
    "execution": {
     "iopub.execute_input": "2025-02-21T19:11:38.033676Z",
     "iopub.status.busy": "2025-02-21T19:11:38.033153Z",
     "iopub.status.idle": "2025-02-21T19:11:38.138490Z",
     "shell.execute_reply": "2025-02-21T19:11:38.137130Z"
    },
    "papermill": {
     "duration": 0.113976,
     "end_time": "2025-02-21T19:11:38.140862",
     "exception": false,
     "start_time": "2025-02-21T19:11:38.026886",
     "status": "completed"
    },
    "tags": []
   },
   "outputs": [
    {
     "data": {
      "text/html": [
       "<iframe\n",
       "    scrolling=\"no\"\n",
       "    width=\"100%\"\n",
       "    height=\"545px\"\n",
       "    src=\"iframe_figures/figure_7.html\"\n",
       "    frameborder=\"0\"\n",
       "    allowfullscreen\n",
       "></iframe>\n"
      ]
     },
     "metadata": {},
     "output_type": "display_data"
    }
   ],
   "source": [
    "express.histogram(data_frame=df, x='month')"
   ]
  },
  {
   "cell_type": "markdown",
   "id": "7d748e2f",
   "metadata": {
    "papermill": {
     "duration": 0.005208,
     "end_time": "2025-02-21T19:11:38.151948",
     "exception": false,
     "start_time": "2025-02-21T19:11:38.146740",
     "status": "completed"
    },
    "tags": []
   },
   "source": [
    "We don't see a lot of seasonality, but it is probably not surprising that we see an increase in sightings during the warmer months in the northern hemisphere."
   ]
  },
  {
   "cell_type": "markdown",
   "id": "af01383e",
   "metadata": {
    "papermill": {
     "duration": 0.004895,
     "end_time": "2025-02-21T19:11:38.162109",
     "exception": false,
     "start_time": "2025-02-21T19:11:38.157214",
     "status": "completed"
    },
    "tags": []
   },
   "source": [
    "How about seasonality relative to the day of the week?"
   ]
  },
  {
   "cell_type": "code",
   "execution_count": 8,
   "id": "c9f2a666",
   "metadata": {
    "execution": {
     "iopub.execute_input": "2025-02-21T19:11:38.174805Z",
     "iopub.status.busy": "2025-02-21T19:11:38.174373Z",
     "iopub.status.idle": "2025-02-21T19:11:38.272171Z",
     "shell.execute_reply": "2025-02-21T19:11:38.270982Z"
    },
    "papermill": {
     "duration": 0.106844,
     "end_time": "2025-02-21T19:11:38.274167",
     "exception": false,
     "start_time": "2025-02-21T19:11:38.167323",
     "status": "completed"
    },
    "tags": []
   },
   "outputs": [
    {
     "data": {
      "text/html": [
       "<iframe\n",
       "    scrolling=\"no\"\n",
       "    width=\"100%\"\n",
       "    height=\"545px\"\n",
       "    src=\"iframe_figures/figure_8.html\"\n",
       "    frameborder=\"0\"\n",
       "    allowfullscreen\n",
       "></iframe>\n"
      ]
     },
     "metadata": {},
     "output_type": "display_data"
    }
   ],
   "source": [
    "express.histogram(data_frame=df, x='day_of_week')"
   ]
  },
  {
   "cell_type": "markdown",
   "id": "6de1c1c9",
   "metadata": {
    "papermill": {
     "duration": 0.005505,
     "end_time": "2025-02-21T19:11:38.285345",
     "exception": false,
     "start_time": "2025-02-21T19:11:38.279840",
     "status": "completed"
    },
    "tags": []
   },
   "source": [
    "There are more sightings on weekends, but not a lot."
   ]
  },
  {
   "cell_type": "markdown",
   "id": "3aa1e5eb",
   "metadata": {
    "papermill": {
     "duration": 0.005341,
     "end_time": "2025-02-21T19:11:38.296399",
     "exception": false,
     "start_time": "2025-02-21T19:11:38.291058",
     "status": "completed"
    },
    "tags": []
   },
   "source": [
    "How about seasonality by hour of the day? "
   ]
  },
  {
   "cell_type": "code",
   "execution_count": 9,
   "id": "7f7272b2",
   "metadata": {
    "execution": {
     "iopub.execute_input": "2025-02-21T19:11:38.308887Z",
     "iopub.status.busy": "2025-02-21T19:11:38.308476Z",
     "iopub.status.idle": "2025-02-21T19:11:38.408014Z",
     "shell.execute_reply": "2025-02-21T19:11:38.406721Z"
    },
    "papermill": {
     "duration": 0.108485,
     "end_time": "2025-02-21T19:11:38.410391",
     "exception": false,
     "start_time": "2025-02-21T19:11:38.301906",
     "status": "completed"
    },
    "tags": []
   },
   "outputs": [
    {
     "data": {
      "text/html": [
       "<iframe\n",
       "    scrolling=\"no\"\n",
       "    width=\"100%\"\n",
       "    height=\"545px\"\n",
       "    src=\"iframe_figures/figure_9.html\"\n",
       "    frameborder=\"0\"\n",
       "    allowfullscreen\n",
       "></iframe>\n"
      ]
     },
     "metadata": {},
     "output_type": "display_data"
    }
   ],
   "source": [
    "express.histogram(data_frame=df, x='hour')"
   ]
  },
  {
   "cell_type": "markdown",
   "id": "74bbcf64",
   "metadata": {
    "papermill": {
     "duration": 0.005729,
     "end_time": "2025-02-21T19:11:38.422167",
     "exception": false,
     "start_time": "2025-02-21T19:11:38.416438",
     "status": "completed"
    },
    "tags": []
   },
   "source": [
    "Not surprisingly there are far more sightings at night. "
   ]
  }
 ],
 "metadata": {
  "kaggle": {
   "accelerator": "none",
   "dataSources": [
    {
     "datasetId": 6670893,
     "sourceId": 10755372,
     "sourceType": "datasetVersion"
    }
   ],
   "dockerImageVersionId": 30918,
   "isGpuEnabled": false,
   "isInternetEnabled": true,
   "language": "python",
   "sourceType": "notebook"
  },
  "kernelspec": {
   "display_name": "Python 3",
   "language": "python",
   "name": "python3"
  },
  "language_info": {
   "codemirror_mode": {
    "name": "ipython",
    "version": 3
   },
   "file_extension": ".py",
   "mimetype": "text/x-python",
   "name": "python",
   "nbconvert_exporter": "python",
   "pygments_lexer": "ipython3",
   "version": "3.10.12"
  },
  "papermill": {
   "default_parameters": {},
   "duration": 10.660873,
   "end_time": "2025-02-21T19:11:39.250391",
   "environment_variables": {},
   "exception": null,
   "input_path": "__notebook__.ipynb",
   "output_path": "__notebook__.ipynb",
   "parameters": {},
   "start_time": "2025-02-21T19:11:28.589518",
   "version": "2.6.0"
  }
 },
 "nbformat": 4,
 "nbformat_minor": 5
}
