{
 "cells": [
  {
   "cell_type": "markdown",
   "id": "9443ab80",
   "metadata": {
    "papermill": {
     "duration": 0.00526,
     "end_time": "2025-02-22T03:34:11.723034",
     "exception": false,
     "start_time": "2025-02-22T03:34:11.717774",
     "status": "completed"
    },
    "tags": []
   },
   "source": [
    "Let's load up our data and do a little data cleansing. We need to clean up some trash that has crept into our data, and we want to cap our durations at an hour. If we don't cap our durations at an hour the outliers will make almost all of them nearly zero."
   ]
  },
  {
   "cell_type": "markdown",
   "id": "d93da156",
   "metadata": {
    "papermill": {
     "duration": 0.004836,
     "end_time": "2025-02-22T03:34:11.732735",
     "exception": false,
     "start_time": "2025-02-22T03:34:11.727899",
     "status": "completed"
    },
    "tags": []
   },
   "source": [
    "Also it looks like we have pretty solid date/time data, so we're going to look at seasonality in several dimensions. That means we need to parse several fields out of our date/time data."
   ]
  },
  {
   "cell_type": "code",
   "execution_count": 1,
   "id": "c96cb182",
   "metadata": {
    "_cell_guid": "b1076dfc-b9ad-4769-8c92-a6c4dae69d19",
    "_uuid": "8f2839f25d086af736a60e9eeb907d3b93b6e0e5",
    "execution": {
     "iopub.execute_input": "2025-02-22T03:34:11.743117Z",
     "iopub.status.busy": "2025-02-22T03:34:11.742753Z",
     "iopub.status.idle": "2025-02-22T03:34:13.423254Z",
     "shell.execute_reply": "2025-02-22T03:34:13.422161Z"
    },
    "papermill": {
     "duration": 1.688008,
     "end_time": "2025-02-22T03:34:13.425293",
     "exception": false,
     "start_time": "2025-02-22T03:34:11.737285",
     "status": "completed"
    },
    "tags": []
   },
   "outputs": [
    {
     "data": {
      "text/html": [
       "<div>\n",
       "<style scoped>\n",
       "    .dataframe tbody tr th:only-of-type {\n",
       "        vertical-align: middle;\n",
       "    }\n",
       "\n",
       "    .dataframe tbody tr th {\n",
       "        vertical-align: top;\n",
       "    }\n",
       "\n",
       "    .dataframe thead th {\n",
       "        text-align: right;\n",
       "    }\n",
       "</style>\n",
       "<table border=\"1\" class=\"dataframe\">\n",
       "  <thead>\n",
       "    <tr style=\"text-align: right;\">\n",
       "      <th></th>\n",
       "      <th>datetime</th>\n",
       "      <th>city</th>\n",
       "      <th>state</th>\n",
       "      <th>country</th>\n",
       "      <th>shape</th>\n",
       "      <th>duration (seconds)</th>\n",
       "      <th>duration (hours/min)</th>\n",
       "      <th>comments</th>\n",
       "      <th>date posted</th>\n",
       "      <th>latitude</th>\n",
       "      <th>longitude</th>\n",
       "      <th>month</th>\n",
       "      <th>year</th>\n",
       "      <th>day_of_week</th>\n",
       "      <th>hour</th>\n",
       "    </tr>\n",
       "  </thead>\n",
       "  <tbody>\n",
       "    <tr>\n",
       "      <th>0</th>\n",
       "      <td>1949-10-10 20:30:00</td>\n",
       "      <td>san marcos</td>\n",
       "      <td>tx</td>\n",
       "      <td>us</td>\n",
       "      <td>cylinder</td>\n",
       "      <td>2700.0</td>\n",
       "      <td>45 minutes</td>\n",
       "      <td>This event took place in early fall around 194...</td>\n",
       "      <td>2004-04-27</td>\n",
       "      <td>29.883056</td>\n",
       "      <td>-97.941111</td>\n",
       "      <td>10</td>\n",
       "      <td>1949</td>\n",
       "      <td>0</td>\n",
       "      <td>20</td>\n",
       "    </tr>\n",
       "    <tr>\n",
       "      <th>1</th>\n",
       "      <td>1949-10-10 21:00:00</td>\n",
       "      <td>lackland afb</td>\n",
       "      <td>tx</td>\n",
       "      <td>NaN</td>\n",
       "      <td>light</td>\n",
       "      <td>3600.0</td>\n",
       "      <td>1-2 hrs</td>\n",
       "      <td>1949 Lackland AFB&amp;#44 TX.  Lights racing acros...</td>\n",
       "      <td>2005-12-16</td>\n",
       "      <td>29.384210</td>\n",
       "      <td>-98.581082</td>\n",
       "      <td>10</td>\n",
       "      <td>1949</td>\n",
       "      <td>0</td>\n",
       "      <td>21</td>\n",
       "    </tr>\n",
       "    <tr>\n",
       "      <th>2</th>\n",
       "      <td>1955-10-10 17:00:00</td>\n",
       "      <td>chester (uk/england)</td>\n",
       "      <td>NaN</td>\n",
       "      <td>gb</td>\n",
       "      <td>circle</td>\n",
       "      <td>20.0</td>\n",
       "      <td>20 seconds</td>\n",
       "      <td>Green/Orange circular disc over Chester&amp;#44 En...</td>\n",
       "      <td>2008-01-21</td>\n",
       "      <td>53.200000</td>\n",
       "      <td>-2.916667</td>\n",
       "      <td>10</td>\n",
       "      <td>1955</td>\n",
       "      <td>0</td>\n",
       "      <td>17</td>\n",
       "    </tr>\n",
       "    <tr>\n",
       "      <th>3</th>\n",
       "      <td>1956-10-10 21:00:00</td>\n",
       "      <td>edna</td>\n",
       "      <td>tx</td>\n",
       "      <td>us</td>\n",
       "      <td>circle</td>\n",
       "      <td>20.0</td>\n",
       "      <td>1/2 hour</td>\n",
       "      <td>My older brother and twin sister were leaving ...</td>\n",
       "      <td>2004-01-17</td>\n",
       "      <td>28.978333</td>\n",
       "      <td>-96.645833</td>\n",
       "      <td>10</td>\n",
       "      <td>1956</td>\n",
       "      <td>2</td>\n",
       "      <td>21</td>\n",
       "    </tr>\n",
       "    <tr>\n",
       "      <th>4</th>\n",
       "      <td>1960-10-10 20:00:00</td>\n",
       "      <td>kaneohe</td>\n",
       "      <td>hi</td>\n",
       "      <td>us</td>\n",
       "      <td>light</td>\n",
       "      <td>900.0</td>\n",
       "      <td>15 minutes</td>\n",
       "      <td>AS a Marine 1st Lt. flying an FJ4B fighter/att...</td>\n",
       "      <td>2004-01-22</td>\n",
       "      <td>21.418056</td>\n",
       "      <td>-157.803611</td>\n",
       "      <td>10</td>\n",
       "      <td>1960</td>\n",
       "      <td>0</td>\n",
       "      <td>20</td>\n",
       "    </tr>\n",
       "  </tbody>\n",
       "</table>\n",
       "</div>"
      ],
      "text/plain": [
       "             datetime                  city state country     shape  \\\n",
       "0 1949-10-10 20:30:00            san marcos    tx      us  cylinder   \n",
       "1 1949-10-10 21:00:00          lackland afb    tx     NaN     light   \n",
       "2 1955-10-10 17:00:00  chester (uk/england)   NaN      gb    circle   \n",
       "3 1956-10-10 21:00:00                  edna    tx      us    circle   \n",
       "4 1960-10-10 20:00:00               kaneohe    hi      us     light   \n",
       "\n",
       "   duration (seconds) duration (hours/min)  \\\n",
       "0              2700.0           45 minutes   \n",
       "1              3600.0              1-2 hrs   \n",
       "2                20.0           20 seconds   \n",
       "3                20.0             1/2 hour   \n",
       "4               900.0           15 minutes   \n",
       "\n",
       "                                            comments date posted   latitude  \\\n",
       "0  This event took place in early fall around 194...  2004-04-27  29.883056   \n",
       "1  1949 Lackland AFB&#44 TX.  Lights racing acros...  2005-12-16  29.384210   \n",
       "2  Green/Orange circular disc over Chester&#44 En...  2008-01-21  53.200000   \n",
       "3  My older brother and twin sister were leaving ...  2004-01-17  28.978333   \n",
       "4  AS a Marine 1st Lt. flying an FJ4B fighter/att...  2004-01-22  21.418056   \n",
       "\n",
       "    longitude  month  year  day_of_week  hour  \n",
       "0  -97.941111     10  1949            0    20  \n",
       "1  -98.581082     10  1949            0    21  \n",
       "2   -2.916667     10  1955            0    17  \n",
       "3  -96.645833     10  1956            2    21  \n",
       "4 -157.803611     10  1960            0    20  "
      ]
     },
     "execution_count": 1,
     "metadata": {},
     "output_type": "execute_result"
    }
   ],
   "source": [
    "import pandas as pd\n",
    "\n",
    "UFO = '/kaggle/input/ufo-sightings/ufo_sightings_scrubbed.csv'\n",
    "df = pd.read_csv(filepath_or_buffer=UFO, parse_dates=['datetime', 'date posted'], low_memory=False)\n",
    "df.columns = [column.strip() for column in df.columns]\n",
    "df['latitude'] = df['latitude'].apply(func=lambda x: float(x.replace('q', '')) if 'q' in x else float(x))\n",
    "df['duration (seconds)'] = df['duration (seconds)'].apply(func=lambda x: float(x.replace('`', '')))\n",
    "df['duration (seconds)'] = df['duration (seconds)'].apply(func=lambda x: x if x < 3600 else 3600)\n",
    "df['month'] = df['datetime'].dt.month\n",
    "df['year'] = df['datetime'].dt.year\n",
    "df['day_of_week'] = df['datetime'].dt.dayofweek\n",
    "df['hour'] = df['datetime'].dt.hour\n",
    "df.head()"
   ]
  },
  {
   "cell_type": "markdown",
   "id": "2315cebe",
   "metadata": {
    "papermill": {
     "duration": 0.004731,
     "end_time": "2025-02-22T03:34:13.435395",
     "exception": false,
     "start_time": "2025-02-22T03:34:13.430664",
     "status": "completed"
    },
    "tags": []
   },
   "source": [
    "Let's make a map. We have global data, but we already suspect sightings are not randomly or evenly distributed around the glob."
   ]
  },
  {
   "cell_type": "code",
   "execution_count": 2,
   "id": "825554d1",
   "metadata": {
    "execution": {
     "iopub.execute_input": "2025-02-22T03:34:13.447838Z",
     "iopub.status.busy": "2025-02-22T03:34:13.447477Z",
     "iopub.status.idle": "2025-02-22T03:34:16.589150Z",
     "shell.execute_reply": "2025-02-22T03:34:16.588468Z"
    },
    "papermill": {
     "duration": 3.150593,
     "end_time": "2025-02-22T03:34:16.591072",
     "exception": false,
     "start_time": "2025-02-22T03:34:13.440479",
     "status": "completed"
    },
    "tags": []
   },
   "outputs": [
    {
     "data": {
      "text/html": [
       "<iframe\n",
       "    scrolling=\"no\"\n",
       "    width=\"100%\"\n",
       "    height=\"820\"\n",
       "    src=\"iframe_figures/figure_2.html\"\n",
       "    frameborder=\"0\"\n",
       "    allowfullscreen\n",
       "></iframe>\n"
      ]
     },
     "metadata": {},
     "output_type": "display_data"
    }
   ],
   "source": [
    "from plotly import express\n",
    "from plotly import io\n",
    "\n",
    "io.renderers.default = 'iframe'\n",
    "express.scatter_mapbox(data_frame=df, mapbox_style='open-street-map', height=800, zoom=1, lat='latitude', lon='longitude', color='duration (seconds)')"
   ]
  },
  {
   "cell_type": "markdown",
   "id": "dedfbd02",
   "metadata": {
    "papermill": {
     "duration": 0.008307,
     "end_time": "2025-02-22T03:34:16.604801",
     "exception": false,
     "start_time": "2025-02-22T03:34:16.596494",
     "status": "completed"
    },
    "tags": []
   },
   "source": [
    "This map makes it look like almost all UFO sightings are in the United States."
   ]
  },
  {
   "cell_type": "markdown",
   "id": "26821174",
   "metadata": {
    "papermill": {
     "duration": 0.00824,
     "end_time": "2025-02-22T03:34:16.622122",
     "exception": false,
     "start_time": "2025-02-22T03:34:16.613882",
     "status": "completed"
    },
    "tags": []
   },
   "source": [
    "Here's what our durations look like. "
   ]
  },
  {
   "cell_type": "code",
   "execution_count": 3,
   "id": "a581cc40",
   "metadata": {
    "execution": {
     "iopub.execute_input": "2025-02-22T03:34:16.634515Z",
     "iopub.status.busy": "2025-02-22T03:34:16.634098Z",
     "iopub.status.idle": "2025-02-22T03:34:16.794563Z",
     "shell.execute_reply": "2025-02-22T03:34:16.793476Z"
    },
    "papermill": {
     "duration": 0.168638,
     "end_time": "2025-02-22T03:34:16.796595",
     "exception": false,
     "start_time": "2025-02-22T03:34:16.627957",
     "status": "completed"
    },
    "tags": []
   },
   "outputs": [
    {
     "data": {
      "text/html": [
       "<iframe\n",
       "    scrolling=\"no\"\n",
       "    width=\"100%\"\n",
       "    height=\"545px\"\n",
       "    src=\"iframe_figures/figure_3.html\"\n",
       "    frameborder=\"0\"\n",
       "    allowfullscreen\n",
       "></iframe>\n"
      ]
     },
     "metadata": {},
     "output_type": "display_data"
    }
   ],
   "source": [
    "express.histogram(data_frame=df, x='duration (seconds)', log_y=False)"
   ]
  },
  {
   "cell_type": "markdown",
   "id": "cea2a3d9",
   "metadata": {
    "papermill": {
     "duration": 0.004897,
     "end_time": "2025-02-22T03:34:16.806823",
     "exception": false,
     "start_time": "2025-02-22T03:34:16.801926",
     "status": "completed"
    },
    "tags": []
   },
   "source": [
    "The way those peaks are distributed suggests they've been quantized, maybe to five-minute intervals. "
   ]
  },
  {
   "cell_type": "markdown",
   "id": "32f85043",
   "metadata": {
    "papermill": {
     "duration": 0.004791,
     "end_time": "2025-02-22T03:34:16.816783",
     "exception": false,
     "start_time": "2025-02-22T03:34:16.811992",
     "status": "completed"
    },
    "tags": []
   },
   "source": [
    "Let's look at the distribution by country."
   ]
  },
  {
   "cell_type": "code",
   "execution_count": 4,
   "id": "03fa51ff",
   "metadata": {
    "execution": {
     "iopub.execute_input": "2025-02-22T03:34:16.828257Z",
     "iopub.status.busy": "2025-02-22T03:34:16.827898Z",
     "iopub.status.idle": "2025-02-22T03:34:16.944454Z",
     "shell.execute_reply": "2025-02-22T03:34:16.943429Z"
    },
    "papermill": {
     "duration": 0.124778,
     "end_time": "2025-02-22T03:34:16.946570",
     "exception": false,
     "start_time": "2025-02-22T03:34:16.821792",
     "status": "completed"
    },
    "tags": []
   },
   "outputs": [
    {
     "data": {
      "text/html": [
       "<iframe\n",
       "    scrolling=\"no\"\n",
       "    width=\"100%\"\n",
       "    height=\"545px\"\n",
       "    src=\"iframe_figures/figure_4.html\"\n",
       "    frameborder=\"0\"\n",
       "    allowfullscreen\n",
       "></iframe>\n"
      ]
     },
     "metadata": {},
     "output_type": "display_data"
    }
   ],
   "source": [
    "express.bar(data_frame=df['country'].value_counts().to_frame().reset_index(), x='country', y='count')"
   ]
  },
  {
   "cell_type": "markdown",
   "id": "82c4f56a",
   "metadata": {
    "papermill": {
     "duration": 0.004919,
     "end_time": "2025-02-22T03:34:16.957074",
     "exception": false,
     "start_time": "2025-02-22T03:34:16.952155",
     "status": "completed"
    },
    "tags": []
   },
   "source": [
    "This distribution is more an artifact of the completeness of the country field than it is a representation of the actual sighting countries, as is suggested from looking at the sightings not in these five countries shown in the map above."
   ]
  },
  {
   "cell_type": "markdown",
   "id": "7b89ef09",
   "metadata": {
    "papermill": {
     "duration": 0.004893,
     "end_time": "2025-02-22T03:34:16.967192",
     "exception": false,
     "start_time": "2025-02-22T03:34:16.962299",
     "status": "completed"
    },
    "tags": []
   },
   "source": [
    "We get a smoother histogram if we plot the distribution by year instead of by date."
   ]
  },
  {
   "cell_type": "code",
   "execution_count": 5,
   "id": "503d2655",
   "metadata": {
    "execution": {
     "iopub.execute_input": "2025-02-22T03:34:16.979023Z",
     "iopub.status.busy": "2025-02-22T03:34:16.978692Z",
     "iopub.status.idle": "2025-02-22T03:34:17.070386Z",
     "shell.execute_reply": "2025-02-22T03:34:17.069364Z"
    },
    "papermill": {
     "duration": 0.099594,
     "end_time": "2025-02-22T03:34:17.072059",
     "exception": false,
     "start_time": "2025-02-22T03:34:16.972465",
     "status": "completed"
    },
    "tags": []
   },
   "outputs": [
    {
     "data": {
      "text/html": [
       "<iframe\n",
       "    scrolling=\"no\"\n",
       "    width=\"100%\"\n",
       "    height=\"545px\"\n",
       "    src=\"iframe_figures/figure_5.html\"\n",
       "    frameborder=\"0\"\n",
       "    allowfullscreen\n",
       "></iframe>\n"
      ]
     },
     "metadata": {},
     "output_type": "display_data"
    }
   ],
   "source": [
    "express.histogram(data_frame=df, x='year')"
   ]
  },
  {
   "cell_type": "markdown",
   "id": "c1118fe9",
   "metadata": {
    "papermill": {
     "duration": 0.005198,
     "end_time": "2025-02-22T03:34:17.082856",
     "exception": false,
     "start_time": "2025-02-22T03:34:17.077658",
     "status": "completed"
    },
    "tags": []
   },
   "source": [
    "It's crazy how sightings accelerate so much after 1990. I wonder what caused that."
   ]
  },
  {
   "cell_type": "markdown",
   "id": "679528e7",
   "metadata": {
    "papermill": {
     "duration": 0.004976,
     "end_time": "2025-02-22T03:34:17.093371",
     "exception": false,
     "start_time": "2025-02-22T03:34:17.088395",
     "status": "completed"
    },
    "tags": []
   },
   "source": [
    "Do we see any seasonality from month to month?"
   ]
  },
  {
   "cell_type": "code",
   "execution_count": 6,
   "id": "be3a7b8f",
   "metadata": {
    "execution": {
     "iopub.execute_input": "2025-02-22T03:34:17.105177Z",
     "iopub.status.busy": "2025-02-22T03:34:17.104819Z",
     "iopub.status.idle": "2025-02-22T03:34:17.192654Z",
     "shell.execute_reply": "2025-02-22T03:34:17.191643Z"
    },
    "papermill": {
     "duration": 0.095994,
     "end_time": "2025-02-22T03:34:17.194620",
     "exception": false,
     "start_time": "2025-02-22T03:34:17.098626",
     "status": "completed"
    },
    "tags": []
   },
   "outputs": [
    {
     "data": {
      "text/html": [
       "<iframe\n",
       "    scrolling=\"no\"\n",
       "    width=\"100%\"\n",
       "    height=\"545px\"\n",
       "    src=\"iframe_figures/figure_6.html\"\n",
       "    frameborder=\"0\"\n",
       "    allowfullscreen\n",
       "></iframe>\n"
      ]
     },
     "metadata": {},
     "output_type": "display_data"
    }
   ],
   "source": [
    "express.histogram(data_frame=df, x='month')"
   ]
  },
  {
   "cell_type": "markdown",
   "id": "ba01bfc1",
   "metadata": {
    "papermill": {
     "duration": 0.005113,
     "end_time": "2025-02-22T03:34:17.205574",
     "exception": false,
     "start_time": "2025-02-22T03:34:17.200461",
     "status": "completed"
    },
    "tags": []
   },
   "source": [
    "We don't see a lot of seasonality, but it is probably not surprising that we see an increase in sightings during the warmer months in the northern hemisphere."
   ]
  },
  {
   "cell_type": "markdown",
   "id": "4bb37cb4",
   "metadata": {
    "papermill": {
     "duration": 0.005164,
     "end_time": "2025-02-22T03:34:17.216144",
     "exception": false,
     "start_time": "2025-02-22T03:34:17.210980",
     "status": "completed"
    },
    "tags": []
   },
   "source": [
    "How about seasonality relative to the day of the week?"
   ]
  },
  {
   "cell_type": "code",
   "execution_count": 7,
   "id": "eb4d3112",
   "metadata": {
    "execution": {
     "iopub.execute_input": "2025-02-22T03:34:17.228407Z",
     "iopub.status.busy": "2025-02-22T03:34:17.227937Z",
     "iopub.status.idle": "2025-02-22T03:34:17.317728Z",
     "shell.execute_reply": "2025-02-22T03:34:17.316662Z"
    },
    "papermill": {
     "duration": 0.097972,
     "end_time": "2025-02-22T03:34:17.319719",
     "exception": false,
     "start_time": "2025-02-22T03:34:17.221747",
     "status": "completed"
    },
    "tags": []
   },
   "outputs": [
    {
     "data": {
      "text/html": [
       "<iframe\n",
       "    scrolling=\"no\"\n",
       "    width=\"100%\"\n",
       "    height=\"545px\"\n",
       "    src=\"iframe_figures/figure_7.html\"\n",
       "    frameborder=\"0\"\n",
       "    allowfullscreen\n",
       "></iframe>\n"
      ]
     },
     "metadata": {},
     "output_type": "display_data"
    }
   ],
   "source": [
    "express.histogram(data_frame=df, x='day_of_week')"
   ]
  },
  {
   "cell_type": "markdown",
   "id": "23de1588",
   "metadata": {
    "papermill": {
     "duration": 0.005219,
     "end_time": "2025-02-22T03:34:17.330705",
     "exception": false,
     "start_time": "2025-02-22T03:34:17.325486",
     "status": "completed"
    },
    "tags": []
   },
   "source": [
    "There are more sightings on weekends, but not a lot."
   ]
  },
  {
   "cell_type": "markdown",
   "id": "78da2e8d",
   "metadata": {
    "papermill": {
     "duration": 0.005198,
     "end_time": "2025-02-22T03:34:17.341524",
     "exception": false,
     "start_time": "2025-02-22T03:34:17.336326",
     "status": "completed"
    },
    "tags": []
   },
   "source": [
    "How about seasonality by hour of the day? "
   ]
  },
  {
   "cell_type": "code",
   "execution_count": 8,
   "id": "70975d51",
   "metadata": {
    "execution": {
     "iopub.execute_input": "2025-02-22T03:34:17.353765Z",
     "iopub.status.busy": "2025-02-22T03:34:17.353362Z",
     "iopub.status.idle": "2025-02-22T03:34:17.443701Z",
     "shell.execute_reply": "2025-02-22T03:34:17.442656Z"
    },
    "papermill": {
     "duration": 0.098742,
     "end_time": "2025-02-22T03:34:17.445698",
     "exception": false,
     "start_time": "2025-02-22T03:34:17.346956",
     "status": "completed"
    },
    "tags": []
   },
   "outputs": [
    {
     "data": {
      "text/html": [
       "<iframe\n",
       "    scrolling=\"no\"\n",
       "    width=\"100%\"\n",
       "    height=\"545px\"\n",
       "    src=\"iframe_figures/figure_8.html\"\n",
       "    frameborder=\"0\"\n",
       "    allowfullscreen\n",
       "></iframe>\n"
      ]
     },
     "metadata": {},
     "output_type": "display_data"
    }
   ],
   "source": [
    "express.histogram(data_frame=df, x='hour')"
   ]
  },
  {
   "cell_type": "markdown",
   "id": "627cd8ef",
   "metadata": {
    "papermill": {
     "duration": 0.006316,
     "end_time": "2025-02-22T03:34:17.458400",
     "exception": false,
     "start_time": "2025-02-22T03:34:17.452084",
     "status": "completed"
    },
    "tags": []
   },
   "source": [
    "Not surprisingly there are far more sightings at night. "
   ]
  },
  {
   "cell_type": "markdown",
   "id": "94c48d37",
   "metadata": {
    "papermill": {
     "duration": 0.00585,
     "end_time": "2025-02-22T03:34:17.469981",
     "exception": false,
     "start_time": "2025-02-22T03:34:17.464131",
     "status": "completed"
    },
    "tags": []
   },
   "source": [
    "Let's add a map of just the sightings in the United States. How would we expect them to be concentrated?"
   ]
  },
  {
   "cell_type": "code",
   "execution_count": 9,
   "id": "008c2b5c",
   "metadata": {
    "execution": {
     "iopub.execute_input": "2025-02-22T03:34:17.483990Z",
     "iopub.status.busy": "2025-02-22T03:34:17.483640Z",
     "iopub.status.idle": "2025-02-22T03:34:17.647468Z",
     "shell.execute_reply": "2025-02-22T03:34:17.646508Z"
    },
    "papermill": {
     "duration": 0.173065,
     "end_time": "2025-02-22T03:34:17.649282",
     "exception": false,
     "start_time": "2025-02-22T03:34:17.476217",
     "status": "completed"
    },
    "tags": []
   },
   "outputs": [
    {
     "data": {
      "text/html": [
       "<iframe\n",
       "    scrolling=\"no\"\n",
       "    width=\"100%\"\n",
       "    height=\"820\"\n",
       "    src=\"iframe_figures/figure_9.html\"\n",
       "    frameborder=\"0\"\n",
       "    allowfullscreen\n",
       "></iframe>\n"
      ]
     },
     "metadata": {},
     "output_type": "display_data"
    }
   ],
   "source": [
    "\n",
    "express.scatter_mapbox(data_frame=df[df['country'] == 'us'], mapbox_style='open-street-map', height=800, zoom=3, lat='latitude', lon='longitude', color='duration (seconds)')"
   ]
  },
  {
   "cell_type": "markdown",
   "id": "5df500d6",
   "metadata": {
    "papermill": {
     "duration": 0.005566,
     "end_time": "2025-02-22T03:34:17.661163",
     "exception": false,
     "start_time": "2025-02-22T03:34:17.655597",
     "status": "completed"
    },
    "tags": []
   },
   "source": [
    "This looks a lot like a population density map. Is that surprising? Probably not, because this dataset captures sightings, not UFOs. And because sightings require an observer as well as a phenomenon, we should probably expect them to be distributed like population. Also, to the extent UFOs are real, we don't have any idea how they are distributed."
   ]
  }
 ],
 "metadata": {
  "kaggle": {
   "accelerator": "none",
   "dataSources": [
    {
     "datasetId": 6670893,
     "sourceId": 10755372,
     "sourceType": "datasetVersion"
    }
   ],
   "dockerImageVersionId": 30918,
   "isGpuEnabled": false,
   "isInternetEnabled": true,
   "language": "python",
   "sourceType": "notebook"
  },
  "kernelspec": {
   "display_name": "Python 3",
   "language": "python",
   "name": "python3"
  },
  "language_info": {
   "codemirror_mode": {
    "name": "ipython",
    "version": 3
   },
   "file_extension": ".py",
   "mimetype": "text/x-python",
   "name": "python",
   "nbconvert_exporter": "python",
   "pygments_lexer": "ipython3",
   "version": "3.10.12"
  },
  "papermill": {
   "default_parameters": {},
   "duration": 9.521703,
   "end_time": "2025-02-22T03:34:18.388519",
   "environment_variables": {},
   "exception": null,
   "input_path": "__notebook__.ipynb",
   "output_path": "__notebook__.ipynb",
   "parameters": {},
   "start_time": "2025-02-22T03:34:08.866816",
   "version": "2.6.0"
  }
 },
 "nbformat": 4,
 "nbformat_minor": 5
}
