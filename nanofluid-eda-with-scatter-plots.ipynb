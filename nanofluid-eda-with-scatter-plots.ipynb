{
 "cells": [
  {
   "cell_type": "code",
   "execution_count": 1,
   "id": "86c9b34f",
   "metadata": {
    "_cell_guid": "b1076dfc-b9ad-4769-8c92-a6c4dae69d19",
    "_uuid": "8f2839f25d086af736a60e9eeb907d3b93b6e0e5",
    "execution": {
     "iopub.execute_input": "2025-03-10T22:10:56.189537Z",
     "iopub.status.busy": "2025-03-10T22:10:56.189124Z",
     "iopub.status.idle": "2025-03-10T22:10:56.966158Z",
     "shell.execute_reply": "2025-03-10T22:10:56.965022Z"
    },
    "papermill": {
     "duration": 0.784085,
     "end_time": "2025-03-10T22:10:56.967976",
     "exception": false,
     "start_time": "2025-03-10T22:10:56.183891",
     "status": "completed"
    },
    "tags": []
   },
   "outputs": [
    {
     "data": {
      "text/html": [
       "<div>\n",
       "<style scoped>\n",
       "    .dataframe tbody tr th:only-of-type {\n",
       "        vertical-align: middle;\n",
       "    }\n",
       "\n",
       "    .dataframe tbody tr th {\n",
       "        vertical-align: top;\n",
       "    }\n",
       "\n",
       "    .dataframe thead th {\n",
       "        text-align: right;\n",
       "    }\n",
       "</style>\n",
       "<table border=\"1\" class=\"dataframe\">\n",
       "  <thead>\n",
       "    <tr style=\"text-align: right;\">\n",
       "      <th></th>\n",
       "      <th>Nano Particle</th>\n",
       "      <th>Base Fluid</th>\n",
       "      <th>Temperature (°C)</th>\n",
       "      <th>Volume Concentration (ϕ)</th>\n",
       "      <th>Density of Nano Particle 1 (ρnp)</th>\n",
       "      <th>Density of Nano Particle 2 (ρnp)</th>\n",
       "      <th>Density of Base Fluid (ρbf)</th>\n",
       "      <th>Volume Mixture of Particle 1</th>\n",
       "      <th>Volume Mixture of Particle 2</th>\n",
       "      <th>Density (ρ)</th>\n",
       "    </tr>\n",
       "  </thead>\n",
       "  <tbody>\n",
       "    <tr>\n",
       "      <th>0</th>\n",
       "      <td>Al₂O₃/SiO₂</td>\n",
       "      <td>Water</td>\n",
       "      <td>20</td>\n",
       "      <td>0.05</td>\n",
       "      <td>3890</td>\n",
       "      <td>2220</td>\n",
       "      <td>998.29</td>\n",
       "      <td>20</td>\n",
       "      <td>80</td>\n",
       "      <td>1004.814815</td>\n",
       "    </tr>\n",
       "    <tr>\n",
       "      <th>1</th>\n",
       "      <td>Al₂O₃/SiO₂</td>\n",
       "      <td>Water</td>\n",
       "      <td>30</td>\n",
       "      <td>0.05</td>\n",
       "      <td>3890</td>\n",
       "      <td>2220</td>\n",
       "      <td>995.71</td>\n",
       "      <td>20</td>\n",
       "      <td>80</td>\n",
       "      <td>1002.222222</td>\n",
       "    </tr>\n",
       "    <tr>\n",
       "      <th>2</th>\n",
       "      <td>Al₂O₃/SiO₂</td>\n",
       "      <td>Water</td>\n",
       "      <td>40</td>\n",
       "      <td>0.05</td>\n",
       "      <td>3890</td>\n",
       "      <td>2220</td>\n",
       "      <td>992.25</td>\n",
       "      <td>20</td>\n",
       "      <td>80</td>\n",
       "      <td>997.037037</td>\n",
       "    </tr>\n",
       "    <tr>\n",
       "      <th>3</th>\n",
       "      <td>Al₂O₃/SiO₂</td>\n",
       "      <td>Water</td>\n",
       "      <td>50</td>\n",
       "      <td>0.05</td>\n",
       "      <td>3890</td>\n",
       "      <td>2220</td>\n",
       "      <td>988.02</td>\n",
       "      <td>20</td>\n",
       "      <td>80</td>\n",
       "      <td>994.444444</td>\n",
       "    </tr>\n",
       "    <tr>\n",
       "      <th>4</th>\n",
       "      <td>Al₂O₃/SiO₂</td>\n",
       "      <td>Water</td>\n",
       "      <td>60</td>\n",
       "      <td>0.05</td>\n",
       "      <td>3890</td>\n",
       "      <td>2220</td>\n",
       "      <td>983.13</td>\n",
       "      <td>20</td>\n",
       "      <td>80</td>\n",
       "      <td>990.000000</td>\n",
       "    </tr>\n",
       "  </tbody>\n",
       "</table>\n",
       "</div>"
      ],
      "text/plain": [
       "  Nano Particle Base Fluid  Temperature (°C)  Volume Concentration (ϕ)  \\\n",
       "0   Al₂O₃/SiO₂       Water                20                      0.05   \n",
       "1   Al₂O₃/SiO₂       Water                30                      0.05   \n",
       "2   Al₂O₃/SiO₂       Water                40                      0.05   \n",
       "3   Al₂O₃/SiO₂       Water                50                      0.05   \n",
       "4   Al₂O₃/SiO₂       Water                60                      0.05   \n",
       "\n",
       "   Density of Nano Particle 1 (ρnp)  Density of Nano Particle 2 (ρnp)  \\\n",
       "0                              3890                              2220   \n",
       "1                              3890                              2220   \n",
       "2                              3890                              2220   \n",
       "3                              3890                              2220   \n",
       "4                              3890                              2220   \n",
       "\n",
       "   Density of Base Fluid (ρbf)  Volume Mixture of Particle 1  \\\n",
       "0                       998.29                            20   \n",
       "1                       995.71                            20   \n",
       "2                       992.25                            20   \n",
       "3                       988.02                            20   \n",
       "4                       983.13                            20   \n",
       "\n",
       "   Volume Mixture of Particle 2  Density (ρ)  \n",
       "0                            80  1004.814815  \n",
       "1                            80  1002.222222  \n",
       "2                            80   997.037037  \n",
       "3                            80   994.444444  \n",
       "4                            80   990.000000  "
      ]
     },
     "execution_count": 1,
     "metadata": {},
     "output_type": "execute_result"
    }
   ],
   "source": [
    "import pandas as pd\n",
    "\n",
    "DATA = '/kaggle/input/nanofluid-density-prediction/Density_Prediction_Dataset.csv'\n",
    "df = pd.read_csv(filepath_or_buffer=DATA)\n",
    "df.head()"
   ]
  },
  {
   "cell_type": "code",
   "execution_count": 2,
   "id": "35c321f1",
   "metadata": {
    "execution": {
     "iopub.execute_input": "2025-03-10T22:10:56.976820Z",
     "iopub.status.busy": "2025-03-10T22:10:56.976461Z",
     "iopub.status.idle": "2025-03-10T22:10:56.995136Z",
     "shell.execute_reply": "2025-03-10T22:10:56.994163Z"
    },
    "papermill": {
     "duration": 0.02462,
     "end_time": "2025-03-10T22:10:56.996601",
     "exception": false,
     "start_time": "2025-03-10T22:10:56.971981",
     "status": "completed"
    },
    "tags": []
   },
   "outputs": [
    {
     "data": {
      "text/html": [
       "<div>\n",
       "<style scoped>\n",
       "    .dataframe tbody tr th:only-of-type {\n",
       "        vertical-align: middle;\n",
       "    }\n",
       "\n",
       "    .dataframe tbody tr th {\n",
       "        vertical-align: top;\n",
       "    }\n",
       "\n",
       "    .dataframe thead th {\n",
       "        text-align: right;\n",
       "    }\n",
       "</style>\n",
       "<table border=\"1\" class=\"dataframe\">\n",
       "  <thead>\n",
       "    <tr style=\"text-align: right;\">\n",
       "      <th></th>\n",
       "      <th>0</th>\n",
       "    </tr>\n",
       "  </thead>\n",
       "  <tbody>\n",
       "    <tr>\n",
       "      <th>Nano Particle</th>\n",
       "      <td>14</td>\n",
       "    </tr>\n",
       "    <tr>\n",
       "      <th>Base Fluid</th>\n",
       "      <td>4</td>\n",
       "    </tr>\n",
       "    <tr>\n",
       "      <th>Temperature (°C)</th>\n",
       "      <td>18</td>\n",
       "    </tr>\n",
       "    <tr>\n",
       "      <th>Volume Concentration (ϕ)</th>\n",
       "      <td>23</td>\n",
       "    </tr>\n",
       "    <tr>\n",
       "      <th>Density of Nano Particle 1 (ρnp)</th>\n",
       "      <td>10</td>\n",
       "    </tr>\n",
       "    <tr>\n",
       "      <th>Density of Nano Particle 2 (ρnp)</th>\n",
       "      <td>6</td>\n",
       "    </tr>\n",
       "    <tr>\n",
       "      <th>Density of Base Fluid (ρbf)</th>\n",
       "      <td>30</td>\n",
       "    </tr>\n",
       "    <tr>\n",
       "      <th>Volume Mixture of Particle 1</th>\n",
       "      <td>6</td>\n",
       "    </tr>\n",
       "    <tr>\n",
       "      <th>Volume Mixture of Particle 2</th>\n",
       "      <td>6</td>\n",
       "    </tr>\n",
       "    <tr>\n",
       "      <th>Density (ρ)</th>\n",
       "      <td>413</td>\n",
       "    </tr>\n",
       "  </tbody>\n",
       "</table>\n",
       "</div>"
      ],
      "text/plain": [
       "                                    0\n",
       "Nano Particle                      14\n",
       "Base Fluid                          4\n",
       "Temperature (°C)                   18\n",
       "Volume Concentration (ϕ)           23\n",
       "Density of Nano Particle 1 (ρnp)   10\n",
       "Density of Nano Particle 2 (ρnp)    6\n",
       "Density of Base Fluid (ρbf)        30\n",
       "Volume Mixture of Particle 1        6\n",
       "Volume Mixture of Particle 2        6\n",
       "Density (ρ)                       413"
      ]
     },
     "execution_count": 2,
     "metadata": {},
     "output_type": "execute_result"
    }
   ],
   "source": [
    "df.nunique().to_frame()"
   ]
  },
  {
   "cell_type": "markdown",
   "id": "f421fca9",
   "metadata": {
    "papermill": {
     "duration": 0.003366,
     "end_time": "2025-03-10T22:10:57.003781",
     "exception": false,
     "start_time": "2025-03-10T22:10:57.000415",
     "status": "completed"
    },
    "tags": []
   },
   "source": [
    "Do we have any duplicate rows? We have duplicate densities."
   ]
  },
  {
   "cell_type": "code",
   "execution_count": 3,
   "id": "a2967780",
   "metadata": {
    "execution": {
     "iopub.execute_input": "2025-03-10T22:10:57.012015Z",
     "iopub.status.busy": "2025-03-10T22:10:57.011648Z",
     "iopub.status.idle": "2025-03-10T22:10:57.029098Z",
     "shell.execute_reply": "2025-03-10T22:10:57.028094Z"
    },
    "papermill": {
     "duration": 0.023563,
     "end_time": "2025-03-10T22:10:57.030801",
     "exception": false,
     "start_time": "2025-03-10T22:10:57.007238",
     "status": "completed"
    },
    "tags": []
   },
   "outputs": [
    {
     "data": {
      "text/plain": [
       "(436, 436)"
      ]
     },
     "execution_count": 3,
     "metadata": {},
     "output_type": "execute_result"
    }
   ],
   "source": [
    "len(df), len(df.drop(columns=['Nano Particle']).drop_duplicates())"
   ]
  },
  {
   "cell_type": "markdown",
   "id": "8f63500f",
   "metadata": {
    "papermill": {
     "duration": 0.003415,
     "end_time": "2025-03-10T22:10:57.037984",
     "exception": false,
     "start_time": "2025-03-10T22:10:57.034569",
     "status": "completed"
    },
    "tags": []
   },
   "source": [
    "Will TSNE find any clusters in our data?"
   ]
  },
  {
   "cell_type": "code",
   "execution_count": 4,
   "id": "010b2d62",
   "metadata": {
    "execution": {
     "iopub.execute_input": "2025-03-10T22:10:57.046696Z",
     "iopub.status.busy": "2025-03-10T22:10:57.046244Z",
     "iopub.status.idle": "2025-03-10T22:11:00.186626Z",
     "shell.execute_reply": "2025-03-10T22:11:00.185734Z"
    },
    "papermill": {
     "duration": 3.147077,
     "end_time": "2025-03-10T22:11:00.188723",
     "exception": false,
     "start_time": "2025-03-10T22:10:57.041646",
     "status": "completed"
    },
    "tags": []
   },
   "outputs": [],
   "source": [
    "from sklearn.manifold import TSNE\n",
    "\n",
    "RANDOM_STATE = 2025\n",
    "\n",
    "reducer = TSNE(random_state=RANDOM_STATE)\n",
    "plot_df = pd.DataFrame(columns=['x', 'y'], data=reducer.fit_transform(X=df.drop(columns=['Nano Particle', 'Base Fluid'])))\n",
    "for column in [\n",
    "    'Base Fluid', 'Temperature (°C)',\n",
    "       'Volume Concentration (ϕ)', 'Density of Nano Particle 1 (ρnp)',\n",
    "       'Density of Nano Particle 2 (ρnp)', 'Density of Base Fluid (ρbf)',\n",
    "       'Volume Mixture of Particle 1', 'Volume Mixture of Particle 2',\n",
    "]:\n",
    "    plot_df[column] = df[column].tolist()"
   ]
  },
  {
   "cell_type": "code",
   "execution_count": 5,
   "id": "a7bda543",
   "metadata": {
    "execution": {
     "iopub.execute_input": "2025-03-10T22:11:00.199351Z",
     "iopub.status.busy": "2025-03-10T22:11:00.198851Z",
     "iopub.status.idle": "2025-03-10T22:11:03.210160Z",
     "shell.execute_reply": "2025-03-10T22:11:03.209240Z"
    },
    "papermill": {
     "duration": 3.018229,
     "end_time": "2025-03-10T22:11:03.211830",
     "exception": false,
     "start_time": "2025-03-10T22:11:00.193601",
     "status": "completed"
    },
    "tags": []
   },
   "outputs": [
    {
     "data": {
      "text/html": [
       "<iframe\n",
       "    scrolling=\"no\"\n",
       "    width=\"100%\"\n",
       "    height=\"545px\"\n",
       "    src=\"iframe_figures/figure_5.html\"\n",
       "    frameborder=\"0\"\n",
       "    allowfullscreen\n",
       "></iframe>\n"
      ]
     },
     "metadata": {},
     "output_type": "display_data"
    }
   ],
   "source": [
    "from plotly import express\n",
    "from plotly import io\n",
    "\n",
    "io.renderers.default = 'iframe'\n",
    "express.scatter(data_frame=plot_df, x='x', y='y', color='Base Fluid')"
   ]
  },
  {
   "cell_type": "markdown",
   "id": "654aca31",
   "metadata": {
    "papermill": {
     "duration": 0.00348,
     "end_time": "2025-03-10T22:11:03.219323",
     "exception": false,
     "start_time": "2025-03-10T22:11:03.215843",
     "status": "completed"
    },
    "tags": []
   },
   "source": [
    "We definitely have TSNE clusters, but only some of them can be explained by our base fluid."
   ]
  },
  {
   "cell_type": "code",
   "execution_count": 6,
   "id": "a4dbb099",
   "metadata": {
    "execution": {
     "iopub.execute_input": "2025-03-10T22:11:03.228004Z",
     "iopub.status.busy": "2025-03-10T22:11:03.227655Z",
     "iopub.status.idle": "2025-03-10T22:11:03.354123Z",
     "shell.execute_reply": "2025-03-10T22:11:03.353273Z"
    },
    "papermill": {
     "duration": 0.13302,
     "end_time": "2025-03-10T22:11:03.356001",
     "exception": false,
     "start_time": "2025-03-10T22:11:03.222981",
     "status": "completed"
    },
    "tags": []
   },
   "outputs": [
    {
     "data": {
      "text/html": [
       "<iframe\n",
       "    scrolling=\"no\"\n",
       "    width=\"100%\"\n",
       "    height=\"545px\"\n",
       "    src=\"iframe_figures/figure_6.html\"\n",
       "    frameborder=\"0\"\n",
       "    allowfullscreen\n",
       "></iframe>\n"
      ]
     },
     "metadata": {},
     "output_type": "display_data"
    }
   ],
   "source": [
    "express.scatter(data_frame=plot_df, x='x', y='y', color='Temperature (°C)')"
   ]
  },
  {
   "cell_type": "markdown",
   "id": "f34cfb9c",
   "metadata": {
    "papermill": {
     "duration": 0.003581,
     "end_time": "2025-03-10T22:11:03.363914",
     "exception": false,
     "start_time": "2025-03-10T22:11:03.360333",
     "status": "completed"
    },
    "tags": []
   },
   "source": [
    "Variation within clusters seems to be determined by temperature."
   ]
  },
  {
   "cell_type": "code",
   "execution_count": 7,
   "id": "456b362b",
   "metadata": {
    "execution": {
     "iopub.execute_input": "2025-03-10T22:11:03.373030Z",
     "iopub.status.busy": "2025-03-10T22:11:03.372680Z",
     "iopub.status.idle": "2025-03-10T22:11:03.474389Z",
     "shell.execute_reply": "2025-03-10T22:11:03.473498Z"
    },
    "papermill": {
     "duration": 0.108159,
     "end_time": "2025-03-10T22:11:03.476017",
     "exception": false,
     "start_time": "2025-03-10T22:11:03.367858",
     "status": "completed"
    },
    "tags": []
   },
   "outputs": [
    {
     "data": {
      "text/html": [
       "<iframe\n",
       "    scrolling=\"no\"\n",
       "    width=\"100%\"\n",
       "    height=\"545px\"\n",
       "    src=\"iframe_figures/figure_7.html\"\n",
       "    frameborder=\"0\"\n",
       "    allowfullscreen\n",
       "></iframe>\n"
      ]
     },
     "metadata": {},
     "output_type": "display_data"
    }
   ],
   "source": [
    "express.scatter(data_frame=plot_df, x='x', y='y', color='Density of Nano Particle 1 (ρnp)')"
   ]
  },
  {
   "cell_type": "markdown",
   "id": "10fe604c",
   "metadata": {
    "papermill": {
     "duration": 0.003764,
     "end_time": "2025-03-10T22:11:03.484104",
     "exception": false,
     "start_time": "2025-03-10T22:11:03.480340",
     "status": "completed"
    },
    "tags": []
   },
   "source": [
    "Density explains our water clusters."
   ]
  },
  {
   "cell_type": "code",
   "execution_count": 8,
   "id": "aa12d85c",
   "metadata": {
    "execution": {
     "iopub.execute_input": "2025-03-10T22:11:03.493177Z",
     "iopub.status.busy": "2025-03-10T22:11:03.492836Z",
     "iopub.status.idle": "2025-03-10T22:11:03.593766Z",
     "shell.execute_reply": "2025-03-10T22:11:03.592839Z"
    },
    "papermill": {
     "duration": 0.107364,
     "end_time": "2025-03-10T22:11:03.595388",
     "exception": false,
     "start_time": "2025-03-10T22:11:03.488024",
     "status": "completed"
    },
    "tags": []
   },
   "outputs": [
    {
     "data": {
      "text/html": [
       "<iframe\n",
       "    scrolling=\"no\"\n",
       "    width=\"100%\"\n",
       "    height=\"545px\"\n",
       "    src=\"iframe_figures/figure_8.html\"\n",
       "    frameborder=\"0\"\n",
       "    allowfullscreen\n",
       "></iframe>\n"
      ]
     },
     "metadata": {},
     "output_type": "display_data"
    }
   ],
   "source": [
    "express.scatter(data_frame=plot_df, x='x', y='y', color='Density of Nano Particle 2 (ρnp)')"
   ]
  },
  {
   "cell_type": "code",
   "execution_count": 9,
   "id": "6b8a1300",
   "metadata": {
    "execution": {
     "iopub.execute_input": "2025-03-10T22:11:03.604972Z",
     "iopub.status.busy": "2025-03-10T22:11:03.604661Z",
     "iopub.status.idle": "2025-03-10T22:11:03.704763Z",
     "shell.execute_reply": "2025-03-10T22:11:03.703885Z"
    },
    "papermill": {
     "duration": 0.106609,
     "end_time": "2025-03-10T22:11:03.706371",
     "exception": false,
     "start_time": "2025-03-10T22:11:03.599762",
     "status": "completed"
    },
    "tags": []
   },
   "outputs": [
    {
     "data": {
      "text/html": [
       "<iframe\n",
       "    scrolling=\"no\"\n",
       "    width=\"100%\"\n",
       "    height=\"545px\"\n",
       "    src=\"iframe_figures/figure_9.html\"\n",
       "    frameborder=\"0\"\n",
       "    allowfullscreen\n",
       "></iframe>\n"
      ]
     },
     "metadata": {},
     "output_type": "display_data"
    }
   ],
   "source": [
    "express.scatter(data_frame=plot_df, x='x', y='y', color='Density of Base Fluid (ρbf)')"
   ]
  }
 ],
 "metadata": {
  "kaggle": {
   "accelerator": "none",
   "dataSources": [
    {
     "datasetId": 6826665,
     "sourceId": 10971244,
     "sourceType": "datasetVersion"
    }
   ],
   "dockerImageVersionId": 30918,
   "isGpuEnabled": false,
   "isInternetEnabled": true,
   "language": "python",
   "sourceType": "notebook"
  },
  "kernelspec": {
   "display_name": "Python 3",
   "language": "python",
   "name": "python3"
  },
  "language_info": {
   "codemirror_mode": {
    "name": "ipython",
    "version": 3
   },
   "file_extension": ".py",
   "mimetype": "text/x-python",
   "name": "python",
   "nbconvert_exporter": "python",
   "pygments_lexer": "ipython3",
   "version": "3.10.12"
  },
  "papermill": {
   "default_parameters": {},
   "duration": 11.039541,
   "end_time": "2025-03-10T22:11:04.530829",
   "environment_variables": {},
   "exception": null,
   "input_path": "__notebook__.ipynb",
   "output_path": "__notebook__.ipynb",
   "parameters": {},
   "start_time": "2025-03-10T22:10:53.491288",
   "version": "2.6.0"
  }
 },
 "nbformat": 4,
 "nbformat_minor": 5
}
