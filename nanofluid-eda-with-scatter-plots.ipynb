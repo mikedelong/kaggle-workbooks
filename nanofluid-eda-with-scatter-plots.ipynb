{
 "cells": [
  {
   "cell_type": "code",
   "execution_count": 1,
   "id": "0fc912d9",
   "metadata": {
    "_cell_guid": "b1076dfc-b9ad-4769-8c92-a6c4dae69d19",
    "_uuid": "8f2839f25d086af736a60e9eeb907d3b93b6e0e5",
    "execution": {
     "iopub.execute_input": "2025-03-10T22:10:17.174188Z",
     "iopub.status.busy": "2025-03-10T22:10:17.173790Z",
     "iopub.status.idle": "2025-03-10T22:10:18.106412Z",
     "shell.execute_reply": "2025-03-10T22:10:18.105044Z"
    },
    "papermill": {
     "duration": 0.93957,
     "end_time": "2025-03-10T22:10:18.108330",
     "exception": false,
     "start_time": "2025-03-10T22:10:17.168760",
     "status": "completed"
    },
    "tags": []
   },
   "outputs": [
    {
     "data": {
      "text/html": [
       "<div>\n",
       "<style scoped>\n",
       "    .dataframe tbody tr th:only-of-type {\n",
       "        vertical-align: middle;\n",
       "    }\n",
       "\n",
       "    .dataframe tbody tr th {\n",
       "        vertical-align: top;\n",
       "    }\n",
       "\n",
       "    .dataframe thead th {\n",
       "        text-align: right;\n",
       "    }\n",
       "</style>\n",
       "<table border=\"1\" class=\"dataframe\">\n",
       "  <thead>\n",
       "    <tr style=\"text-align: right;\">\n",
       "      <th></th>\n",
       "      <th>Nano Particle</th>\n",
       "      <th>Base Fluid</th>\n",
       "      <th>Temperature (°C)</th>\n",
       "      <th>Volume Concentration (ϕ)</th>\n",
       "      <th>Density of Nano Particle 1 (ρnp)</th>\n",
       "      <th>Density of Nano Particle 2 (ρnp)</th>\n",
       "      <th>Density of Base Fluid (ρbf)</th>\n",
       "      <th>Volume Mixture of Particle 1</th>\n",
       "      <th>Volume Mixture of Particle 2</th>\n",
       "      <th>Density (ρ)</th>\n",
       "    </tr>\n",
       "  </thead>\n",
       "  <tbody>\n",
       "    <tr>\n",
       "      <th>0</th>\n",
       "      <td>Al₂O₃/SiO₂</td>\n",
       "      <td>Water</td>\n",
       "      <td>20</td>\n",
       "      <td>0.05</td>\n",
       "      <td>3890</td>\n",
       "      <td>2220</td>\n",
       "      <td>998.29</td>\n",
       "      <td>20</td>\n",
       "      <td>80</td>\n",
       "      <td>1004.814815</td>\n",
       "    </tr>\n",
       "    <tr>\n",
       "      <th>1</th>\n",
       "      <td>Al₂O₃/SiO₂</td>\n",
       "      <td>Water</td>\n",
       "      <td>30</td>\n",
       "      <td>0.05</td>\n",
       "      <td>3890</td>\n",
       "      <td>2220</td>\n",
       "      <td>995.71</td>\n",
       "      <td>20</td>\n",
       "      <td>80</td>\n",
       "      <td>1002.222222</td>\n",
       "    </tr>\n",
       "    <tr>\n",
       "      <th>2</th>\n",
       "      <td>Al₂O₃/SiO₂</td>\n",
       "      <td>Water</td>\n",
       "      <td>40</td>\n",
       "      <td>0.05</td>\n",
       "      <td>3890</td>\n",
       "      <td>2220</td>\n",
       "      <td>992.25</td>\n",
       "      <td>20</td>\n",
       "      <td>80</td>\n",
       "      <td>997.037037</td>\n",
       "    </tr>\n",
       "    <tr>\n",
       "      <th>3</th>\n",
       "      <td>Al₂O₃/SiO₂</td>\n",
       "      <td>Water</td>\n",
       "      <td>50</td>\n",
       "      <td>0.05</td>\n",
       "      <td>3890</td>\n",
       "      <td>2220</td>\n",
       "      <td>988.02</td>\n",
       "      <td>20</td>\n",
       "      <td>80</td>\n",
       "      <td>994.444444</td>\n",
       "    </tr>\n",
       "    <tr>\n",
       "      <th>4</th>\n",
       "      <td>Al₂O₃/SiO₂</td>\n",
       "      <td>Water</td>\n",
       "      <td>60</td>\n",
       "      <td>0.05</td>\n",
       "      <td>3890</td>\n",
       "      <td>2220</td>\n",
       "      <td>983.13</td>\n",
       "      <td>20</td>\n",
       "      <td>80</td>\n",
       "      <td>990.000000</td>\n",
       "    </tr>\n",
       "  </tbody>\n",
       "</table>\n",
       "</div>"
      ],
      "text/plain": [
       "  Nano Particle Base Fluid  Temperature (°C)  Volume Concentration (ϕ)  \\\n",
       "0   Al₂O₃/SiO₂       Water                20                      0.05   \n",
       "1   Al₂O₃/SiO₂       Water                30                      0.05   \n",
       "2   Al₂O₃/SiO₂       Water                40                      0.05   \n",
       "3   Al₂O₃/SiO₂       Water                50                      0.05   \n",
       "4   Al₂O₃/SiO₂       Water                60                      0.05   \n",
       "\n",
       "   Density of Nano Particle 1 (ρnp)  Density of Nano Particle 2 (ρnp)  \\\n",
       "0                              3890                              2220   \n",
       "1                              3890                              2220   \n",
       "2                              3890                              2220   \n",
       "3                              3890                              2220   \n",
       "4                              3890                              2220   \n",
       "\n",
       "   Density of Base Fluid (ρbf)  Volume Mixture of Particle 1  \\\n",
       "0                       998.29                            20   \n",
       "1                       995.71                            20   \n",
       "2                       992.25                            20   \n",
       "3                       988.02                            20   \n",
       "4                       983.13                            20   \n",
       "\n",
       "   Volume Mixture of Particle 2  Density (ρ)  \n",
       "0                            80  1004.814815  \n",
       "1                            80  1002.222222  \n",
       "2                            80   997.037037  \n",
       "3                            80   994.444444  \n",
       "4                            80   990.000000  "
      ]
     },
     "execution_count": 1,
     "metadata": {},
     "output_type": "execute_result"
    }
   ],
   "source": [
    "import pandas as pd\n",
    "\n",
    "DATA = '/kaggle/input/nanofluid-density-prediction/Density_Prediction_Dataset.csv'\n",
    "df = pd.read_csv(filepath_or_buffer=DATA)\n",
    "df.head()"
   ]
  },
  {
   "cell_type": "code",
   "execution_count": 2,
   "id": "266aefbf",
   "metadata": {
    "execution": {
     "iopub.execute_input": "2025-03-10T22:10:18.117640Z",
     "iopub.status.busy": "2025-03-10T22:10:18.117294Z",
     "iopub.status.idle": "2025-03-10T22:10:18.133714Z",
     "shell.execute_reply": "2025-03-10T22:10:18.132703Z"
    },
    "papermill": {
     "duration": 0.022774,
     "end_time": "2025-03-10T22:10:18.135342",
     "exception": false,
     "start_time": "2025-03-10T22:10:18.112568",
     "status": "completed"
    },
    "tags": []
   },
   "outputs": [
    {
     "data": {
      "text/html": [
       "<div>\n",
       "<style scoped>\n",
       "    .dataframe tbody tr th:only-of-type {\n",
       "        vertical-align: middle;\n",
       "    }\n",
       "\n",
       "    .dataframe tbody tr th {\n",
       "        vertical-align: top;\n",
       "    }\n",
       "\n",
       "    .dataframe thead th {\n",
       "        text-align: right;\n",
       "    }\n",
       "</style>\n",
       "<table border=\"1\" class=\"dataframe\">\n",
       "  <thead>\n",
       "    <tr style=\"text-align: right;\">\n",
       "      <th></th>\n",
       "      <th>0</th>\n",
       "    </tr>\n",
       "  </thead>\n",
       "  <tbody>\n",
       "    <tr>\n",
       "      <th>Nano Particle</th>\n",
       "      <td>14</td>\n",
       "    </tr>\n",
       "    <tr>\n",
       "      <th>Base Fluid</th>\n",
       "      <td>4</td>\n",
       "    </tr>\n",
       "    <tr>\n",
       "      <th>Temperature (°C)</th>\n",
       "      <td>18</td>\n",
       "    </tr>\n",
       "    <tr>\n",
       "      <th>Volume Concentration (ϕ)</th>\n",
       "      <td>23</td>\n",
       "    </tr>\n",
       "    <tr>\n",
       "      <th>Density of Nano Particle 1 (ρnp)</th>\n",
       "      <td>10</td>\n",
       "    </tr>\n",
       "    <tr>\n",
       "      <th>Density of Nano Particle 2 (ρnp)</th>\n",
       "      <td>6</td>\n",
       "    </tr>\n",
       "    <tr>\n",
       "      <th>Density of Base Fluid (ρbf)</th>\n",
       "      <td>30</td>\n",
       "    </tr>\n",
       "    <tr>\n",
       "      <th>Volume Mixture of Particle 1</th>\n",
       "      <td>6</td>\n",
       "    </tr>\n",
       "    <tr>\n",
       "      <th>Volume Mixture of Particle 2</th>\n",
       "      <td>6</td>\n",
       "    </tr>\n",
       "    <tr>\n",
       "      <th>Density (ρ)</th>\n",
       "      <td>413</td>\n",
       "    </tr>\n",
       "  </tbody>\n",
       "</table>\n",
       "</div>"
      ],
      "text/plain": [
       "                                    0\n",
       "Nano Particle                      14\n",
       "Base Fluid                          4\n",
       "Temperature (°C)                   18\n",
       "Volume Concentration (ϕ)           23\n",
       "Density of Nano Particle 1 (ρnp)   10\n",
       "Density of Nano Particle 2 (ρnp)    6\n",
       "Density of Base Fluid (ρbf)        30\n",
       "Volume Mixture of Particle 1        6\n",
       "Volume Mixture of Particle 2        6\n",
       "Density (ρ)                       413"
      ]
     },
     "execution_count": 2,
     "metadata": {},
     "output_type": "execute_result"
    }
   ],
   "source": [
    "df.nunique().to_frame()"
   ]
  },
  {
   "cell_type": "markdown",
   "id": "9ce4b141",
   "metadata": {
    "papermill": {
     "duration": 0.00366,
     "end_time": "2025-03-10T22:10:18.143233",
     "exception": false,
     "start_time": "2025-03-10T22:10:18.139573",
     "status": "completed"
    },
    "tags": []
   },
   "source": [
    "Do we have any duplicate rows? We have duplicate densities."
   ]
  },
  {
   "cell_type": "code",
   "execution_count": 3,
   "id": "91ac42c8",
   "metadata": {
    "execution": {
     "iopub.execute_input": "2025-03-10T22:10:18.152195Z",
     "iopub.status.busy": "2025-03-10T22:10:18.151829Z",
     "iopub.status.idle": "2025-03-10T22:10:18.167176Z",
     "shell.execute_reply": "2025-03-10T22:10:18.166304Z"
    },
    "papermill": {
     "duration": 0.021672,
     "end_time": "2025-03-10T22:10:18.168835",
     "exception": false,
     "start_time": "2025-03-10T22:10:18.147163",
     "status": "completed"
    },
    "tags": []
   },
   "outputs": [
    {
     "data": {
      "text/plain": [
       "(436, 436)"
      ]
     },
     "execution_count": 3,
     "metadata": {},
     "output_type": "execute_result"
    }
   ],
   "source": [
    "len(df), len(df.drop(columns=['Nano Particle']).drop_duplicates())"
   ]
  },
  {
   "cell_type": "markdown",
   "id": "366d5a28",
   "metadata": {
    "papermill": {
     "duration": 0.00364,
     "end_time": "2025-03-10T22:10:18.176679",
     "exception": false,
     "start_time": "2025-03-10T22:10:18.173039",
     "status": "completed"
    },
    "tags": []
   },
   "source": [
    "Will TSNE find any clusters in our data?"
   ]
  },
  {
   "cell_type": "code",
   "execution_count": 4,
   "id": "8fc5aa1e",
   "metadata": {
    "execution": {
     "iopub.execute_input": "2025-03-10T22:10:18.185972Z",
     "iopub.status.busy": "2025-03-10T22:10:18.185639Z",
     "iopub.status.idle": "2025-03-10T22:10:21.787784Z",
     "shell.execute_reply": "2025-03-10T22:10:21.786912Z"
    },
    "papermill": {
     "duration": 3.609319,
     "end_time": "2025-03-10T22:10:21.789948",
     "exception": false,
     "start_time": "2025-03-10T22:10:18.180629",
     "status": "completed"
    },
    "tags": []
   },
   "outputs": [],
   "source": [
    "from sklearn.manifold import TSNE\n",
    "\n",
    "RANDOM_STATE = 2025\n",
    "\n",
    "reducer = TSNE(random_state=RANDOM_STATE)\n",
    "plot_df = pd.DataFrame(columns=['x', 'y'], data=reducer.fit_transform(X=df.drop(columns=['Nano Particle', 'Base Fluid'])))\n",
    "for column in [\n",
    "    'Base Fluid', 'Temperature (°C)',\n",
    "       'Volume Concentration (ϕ)', 'Density of Nano Particle 1 (ρnp)',\n",
    "       'Density of Nano Particle 2 (ρnp)', 'Density of Base Fluid (ρbf)',\n",
    "       'Volume Mixture of Particle 1', 'Volume Mixture of Particle 2',\n",
    "]:\n",
    "    plot_df[column] = df[column].tolist()"
   ]
  },
  {
   "cell_type": "code",
   "execution_count": 5,
   "id": "e4acbe92",
   "metadata": {
    "execution": {
     "iopub.execute_input": "2025-03-10T22:10:21.803384Z",
     "iopub.status.busy": "2025-03-10T22:10:21.802801Z",
     "iopub.status.idle": "2025-03-10T22:10:24.785514Z",
     "shell.execute_reply": "2025-03-10T22:10:24.784448Z"
    },
    "papermill": {
     "duration": 2.989856,
     "end_time": "2025-03-10T22:10:24.787189",
     "exception": false,
     "start_time": "2025-03-10T22:10:21.797333",
     "status": "completed"
    },
    "tags": []
   },
   "outputs": [
    {
     "data": {
      "text/html": [
       "<iframe\n",
       "    scrolling=\"no\"\n",
       "    width=\"100%\"\n",
       "    height=\"545px\"\n",
       "    src=\"iframe_figures/figure_5.html\"\n",
       "    frameborder=\"0\"\n",
       "    allowfullscreen\n",
       "></iframe>\n"
      ]
     },
     "metadata": {},
     "output_type": "display_data"
    }
   ],
   "source": [
    "from plotly import express\n",
    "from plotly import io\n",
    "\n",
    "io.renderers.default = 'iframe'\n",
    "express.scatter(data_frame=plot_df, x='x', y='y', color='Base Fluid')"
   ]
  },
  {
   "cell_type": "markdown",
   "id": "00b1c09d",
   "metadata": {
    "papermill": {
     "duration": 0.003923,
     "end_time": "2025-03-10T22:10:24.795378",
     "exception": false,
     "start_time": "2025-03-10T22:10:24.791455",
     "status": "completed"
    },
    "tags": []
   },
   "source": [
    "We definitely have TSNE clusters, but only some of them can be explained by our base fluid."
   ]
  },
  {
   "cell_type": "code",
   "execution_count": 6,
   "id": "aa6b387b",
   "metadata": {
    "execution": {
     "iopub.execute_input": "2025-03-10T22:10:24.804939Z",
     "iopub.status.busy": "2025-03-10T22:10:24.804606Z",
     "iopub.status.idle": "2025-03-10T22:10:24.930059Z",
     "shell.execute_reply": "2025-03-10T22:10:24.929202Z"
    },
    "papermill": {
     "duration": 0.13215,
     "end_time": "2025-03-10T22:10:24.931730",
     "exception": false,
     "start_time": "2025-03-10T22:10:24.799580",
     "status": "completed"
    },
    "tags": []
   },
   "outputs": [
    {
     "data": {
      "text/html": [
       "<iframe\n",
       "    scrolling=\"no\"\n",
       "    width=\"100%\"\n",
       "    height=\"545px\"\n",
       "    src=\"iframe_figures/figure_6.html\"\n",
       "    frameborder=\"0\"\n",
       "    allowfullscreen\n",
       "></iframe>\n"
      ]
     },
     "metadata": {},
     "output_type": "display_data"
    }
   ],
   "source": [
    "express.scatter(data_frame=plot_df, x='x', y='y', color='Temperature (°C)')"
   ]
  },
  {
   "cell_type": "markdown",
   "id": "7217bc74",
   "metadata": {
    "papermill": {
     "duration": 0.003764,
     "end_time": "2025-03-10T22:10:24.939789",
     "exception": false,
     "start_time": "2025-03-10T22:10:24.936025",
     "status": "completed"
    },
    "tags": []
   },
   "source": [
    "Variation within clusters seems to be determined by temperature."
   ]
  },
  {
   "cell_type": "code",
   "execution_count": 7,
   "id": "e9ff26b2",
   "metadata": {
    "execution": {
     "iopub.execute_input": "2025-03-10T22:10:24.949856Z",
     "iopub.status.busy": "2025-03-10T22:10:24.949505Z",
     "iopub.status.idle": "2025-03-10T22:10:25.051584Z",
     "shell.execute_reply": "2025-03-10T22:10:25.050463Z"
    },
    "papermill": {
     "duration": 0.108904,
     "end_time": "2025-03-10T22:10:25.053335",
     "exception": false,
     "start_time": "2025-03-10T22:10:24.944431",
     "status": "completed"
    },
    "tags": []
   },
   "outputs": [
    {
     "data": {
      "text/html": [
       "<iframe\n",
       "    scrolling=\"no\"\n",
       "    width=\"100%\"\n",
       "    height=\"545px\"\n",
       "    src=\"iframe_figures/figure_7.html\"\n",
       "    frameborder=\"0\"\n",
       "    allowfullscreen\n",
       "></iframe>\n"
      ]
     },
     "metadata": {},
     "output_type": "display_data"
    }
   ],
   "source": [
    "express.scatter(data_frame=plot_df, x='x', y='y', color='Density of Nano Particle 1 (ρnp)')"
   ]
  },
  {
   "cell_type": "markdown",
   "id": "6290c301",
   "metadata": {
    "papermill": {
     "duration": 0.00417,
     "end_time": "2025-03-10T22:10:25.062358",
     "exception": false,
     "start_time": "2025-03-10T22:10:25.058188",
     "status": "completed"
    },
    "tags": []
   },
   "source": [
    "Density explains our water clusters."
   ]
  },
  {
   "cell_type": "code",
   "execution_count": 8,
   "id": "6ac8bcce",
   "metadata": {
    "execution": {
     "iopub.execute_input": "2025-03-10T22:10:25.072814Z",
     "iopub.status.busy": "2025-03-10T22:10:25.072453Z",
     "iopub.status.idle": "2025-03-10T22:10:25.175865Z",
     "shell.execute_reply": "2025-03-10T22:10:25.174922Z"
    },
    "papermill": {
     "duration": 0.110771,
     "end_time": "2025-03-10T22:10:25.177677",
     "exception": false,
     "start_time": "2025-03-10T22:10:25.066906",
     "status": "completed"
    },
    "tags": []
   },
   "outputs": [
    {
     "data": {
      "text/html": [
       "<iframe\n",
       "    scrolling=\"no\"\n",
       "    width=\"100%\"\n",
       "    height=\"545px\"\n",
       "    src=\"iframe_figures/figure_8.html\"\n",
       "    frameborder=\"0\"\n",
       "    allowfullscreen\n",
       "></iframe>\n"
      ]
     },
     "metadata": {},
     "output_type": "display_data"
    }
   ],
   "source": [
    "express.scatter(data_frame=plot_df, x='x', y='y', color='Density of Nano Particle 2 (ρnp)')"
   ]
  },
  {
   "cell_type": "code",
   "execution_count": 9,
   "id": "59cc9c45",
   "metadata": {
    "execution": {
     "iopub.execute_input": "2025-03-10T22:10:25.187681Z",
     "iopub.status.busy": "2025-03-10T22:10:25.187363Z",
     "iopub.status.idle": "2025-03-10T22:10:25.193182Z",
     "shell.execute_reply": "2025-03-10T22:10:25.192263Z"
    },
    "papermill": {
     "duration": 0.012505,
     "end_time": "2025-03-10T22:10:25.194736",
     "exception": false,
     "start_time": "2025-03-10T22:10:25.182231",
     "status": "completed"
    },
    "tags": []
   },
   "outputs": [
    {
     "data": {
      "text/plain": [
       "Index(['Nano Particle', 'Base Fluid', 'Temperature (°C)',\n",
       "       'Volume Concentration (ϕ)', 'Density of Nano Particle 1 (ρnp)',\n",
       "       'Density of Nano Particle 2 (ρnp)', 'Density of Base Fluid (ρbf)',\n",
       "       'Volume Mixture of Particle 1', 'Volume Mixture of Particle 2',\n",
       "       'Density (ρ)'],\n",
       "      dtype='object')"
      ]
     },
     "execution_count": 9,
     "metadata": {},
     "output_type": "execute_result"
    }
   ],
   "source": [
    "df.columns"
   ]
  },
  {
   "cell_type": "code",
   "execution_count": 10,
   "id": "60b5d1ca",
   "metadata": {
    "execution": {
     "iopub.execute_input": "2025-03-10T22:10:25.205391Z",
     "iopub.status.busy": "2025-03-10T22:10:25.204856Z",
     "iopub.status.idle": "2025-03-10T22:10:25.308478Z",
     "shell.execute_reply": "2025-03-10T22:10:25.307238Z"
    },
    "papermill": {
     "duration": 0.111385,
     "end_time": "2025-03-10T22:10:25.310701",
     "exception": false,
     "start_time": "2025-03-10T22:10:25.199316",
     "status": "completed"
    },
    "tags": []
   },
   "outputs": [
    {
     "data": {
      "text/html": [
       "<iframe\n",
       "    scrolling=\"no\"\n",
       "    width=\"100%\"\n",
       "    height=\"545px\"\n",
       "    src=\"iframe_figures/figure_10.html\"\n",
       "    frameborder=\"0\"\n",
       "    allowfullscreen\n",
       "></iframe>\n"
      ]
     },
     "metadata": {},
     "output_type": "display_data"
    }
   ],
   "source": [
    "express.scatter(data_frame=plot_df, x='x', y='y', color='Density of Base Fluid (ρbf)')"
   ]
  }
 ],
 "metadata": {
  "kaggle": {
   "accelerator": "none",
   "dataSources": [
    {
     "datasetId": 6826665,
     "sourceId": 10971244,
     "sourceType": "datasetVersion"
    }
   ],
   "dockerImageVersionId": 30918,
   "isGpuEnabled": false,
   "isInternetEnabled": true,
   "language": "python",
   "sourceType": "notebook"
  },
  "kernelspec": {
   "display_name": "Python 3",
   "language": "python",
   "name": "python3"
  },
  "language_info": {
   "codemirror_mode": {
    "name": "ipython",
    "version": 3
   },
   "file_extension": ".py",
   "mimetype": "text/x-python",
   "name": "python",
   "nbconvert_exporter": "python",
   "pygments_lexer": "ipython3",
   "version": "3.10.12"
  },
  "papermill": {
   "default_parameters": {},
   "duration": 11.736281,
   "end_time": "2025-03-10T22:10:26.136058",
   "environment_variables": {},
   "exception": null,
   "input_path": "__notebook__.ipynb",
   "output_path": "__notebook__.ipynb",
   "parameters": {},
   "start_time": "2025-03-10T22:10:14.399777",
   "version": "2.6.0"
  }
 },
 "nbformat": 4,
 "nbformat_minor": 5
}
