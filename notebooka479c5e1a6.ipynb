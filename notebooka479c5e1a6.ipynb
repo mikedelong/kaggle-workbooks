{
 "cells": [
  {
   "cell_type": "code",
   "execution_count": 1,
   "id": "b4fead02",
   "metadata": {
    "_cell_guid": "b1076dfc-b9ad-4769-8c92-a6c4dae69d19",
    "_uuid": "8f2839f25d086af736a60e9eeb907d3b93b6e0e5",
    "execution": {
     "iopub.execute_input": "2024-05-22T18:24:02.955722Z",
     "iopub.status.busy": "2024-05-22T18:24:02.955303Z",
     "iopub.status.idle": "2024-05-22T18:24:03.907922Z",
     "shell.execute_reply": "2024-05-22T18:24:03.906818Z"
    },
    "papermill": {
     "duration": 0.960162,
     "end_time": "2024-05-22T18:24:03.910500",
     "exception": false,
     "start_time": "2024-05-22T18:24:02.950338",
     "status": "completed"
    },
    "tags": []
   },
   "outputs": [
    {
     "data": {
      "text/html": [
       "<div>\n",
       "<style scoped>\n",
       "    .dataframe tbody tr th:only-of-type {\n",
       "        vertical-align: middle;\n",
       "    }\n",
       "\n",
       "    .dataframe tbody tr th {\n",
       "        vertical-align: top;\n",
       "    }\n",
       "\n",
       "    .dataframe thead th {\n",
       "        text-align: right;\n",
       "    }\n",
       "</style>\n",
       "<table border=\"1\" class=\"dataframe\">\n",
       "  <thead>\n",
       "    <tr style=\"text-align: right;\">\n",
       "      <th></th>\n",
       "      <th>Country name</th>\n",
       "      <th>year</th>\n",
       "      <th>Life Ladder</th>\n",
       "      <th>Log GDP per capita</th>\n",
       "      <th>Social support</th>\n",
       "      <th>Healthy life expectancy at birth</th>\n",
       "      <th>Freedom to make life choices</th>\n",
       "      <th>Generosity</th>\n",
       "      <th>Perceptions of corruption</th>\n",
       "      <th>Positive affect</th>\n",
       "      <th>Negative affect</th>\n",
       "    </tr>\n",
       "  </thead>\n",
       "  <tbody>\n",
       "    <tr>\n",
       "      <th>0</th>\n",
       "      <td>Afghanistan</td>\n",
       "      <td>2008</td>\n",
       "      <td>3.724</td>\n",
       "      <td>7.350</td>\n",
       "      <td>0.451</td>\n",
       "      <td>50.5</td>\n",
       "      <td>0.718</td>\n",
       "      <td>0.164</td>\n",
       "      <td>0.882</td>\n",
       "      <td>0.414</td>\n",
       "      <td>0.258</td>\n",
       "    </tr>\n",
       "    <tr>\n",
       "      <th>1</th>\n",
       "      <td>Afghanistan</td>\n",
       "      <td>2009</td>\n",
       "      <td>4.402</td>\n",
       "      <td>7.509</td>\n",
       "      <td>0.552</td>\n",
       "      <td>50.8</td>\n",
       "      <td>0.679</td>\n",
       "      <td>0.187</td>\n",
       "      <td>0.850</td>\n",
       "      <td>0.481</td>\n",
       "      <td>0.237</td>\n",
       "    </tr>\n",
       "    <tr>\n",
       "      <th>2</th>\n",
       "      <td>Afghanistan</td>\n",
       "      <td>2010</td>\n",
       "      <td>4.758</td>\n",
       "      <td>7.614</td>\n",
       "      <td>0.539</td>\n",
       "      <td>51.1</td>\n",
       "      <td>0.600</td>\n",
       "      <td>0.118</td>\n",
       "      <td>0.707</td>\n",
       "      <td>0.517</td>\n",
       "      <td>0.275</td>\n",
       "    </tr>\n",
       "    <tr>\n",
       "      <th>3</th>\n",
       "      <td>Afghanistan</td>\n",
       "      <td>2011</td>\n",
       "      <td>3.832</td>\n",
       "      <td>7.581</td>\n",
       "      <td>0.521</td>\n",
       "      <td>51.4</td>\n",
       "      <td>0.496</td>\n",
       "      <td>0.160</td>\n",
       "      <td>0.731</td>\n",
       "      <td>0.480</td>\n",
       "      <td>0.267</td>\n",
       "    </tr>\n",
       "    <tr>\n",
       "      <th>4</th>\n",
       "      <td>Afghanistan</td>\n",
       "      <td>2012</td>\n",
       "      <td>3.783</td>\n",
       "      <td>7.661</td>\n",
       "      <td>0.521</td>\n",
       "      <td>51.7</td>\n",
       "      <td>0.531</td>\n",
       "      <td>0.234</td>\n",
       "      <td>0.776</td>\n",
       "      <td>0.614</td>\n",
       "      <td>0.268</td>\n",
       "    </tr>\n",
       "  </tbody>\n",
       "</table>\n",
       "</div>"
      ],
      "text/plain": [
       "  Country name  year  Life Ladder  Log GDP per capita  Social support  \\\n",
       "0  Afghanistan  2008        3.724               7.350           0.451   \n",
       "1  Afghanistan  2009        4.402               7.509           0.552   \n",
       "2  Afghanistan  2010        4.758               7.614           0.539   \n",
       "3  Afghanistan  2011        3.832               7.581           0.521   \n",
       "4  Afghanistan  2012        3.783               7.661           0.521   \n",
       "\n",
       "   Healthy life expectancy at birth  Freedom to make life choices  Generosity  \\\n",
       "0                              50.5                         0.718       0.164   \n",
       "1                              50.8                         0.679       0.187   \n",
       "2                              51.1                         0.600       0.118   \n",
       "3                              51.4                         0.496       0.160   \n",
       "4                              51.7                         0.531       0.234   \n",
       "\n",
       "   Perceptions of corruption  Positive affect  Negative affect  \n",
       "0                      0.882            0.414            0.258  \n",
       "1                      0.850            0.481            0.237  \n",
       "2                      0.707            0.517            0.275  \n",
       "3                      0.731            0.480            0.267  \n",
       "4                      0.776            0.614            0.268  "
      ]
     },
     "execution_count": 1,
     "metadata": {},
     "output_type": "execute_result"
    }
   ],
   "source": [
    "import pandas as pd\n",
    "\n",
    "HAPPINESS = '/kaggle/input/world-happiness-report-2024/World Happiness Report_Feb24.csv'\n",
    "\n",
    "df = pd.read_csv(filepath_or_buffer=HAPPINESS)\n",
    "\n",
    "df.head()"
   ]
  },
  {
   "cell_type": "code",
   "execution_count": 2,
   "id": "4c42ef3a",
   "metadata": {
    "execution": {
     "iopub.execute_input": "2024-05-22T18:24:03.917880Z",
     "iopub.status.busy": "2024-05-22T18:24:03.917521Z",
     "iopub.status.idle": "2024-05-22T18:24:03.941213Z",
     "shell.execute_reply": "2024-05-22T18:24:03.939924Z"
    },
    "papermill": {
     "duration": 0.030141,
     "end_time": "2024-05-22T18:24:03.943682",
     "exception": false,
     "start_time": "2024-05-22T18:24:03.913541",
     "status": "completed"
    },
    "tags": []
   },
   "outputs": [
    {
     "name": "stdout",
     "output_type": "stream",
     "text": [
      "<class 'pandas.core.frame.DataFrame'>\n",
      "RangeIndex: 2363 entries, 0 to 2362\n",
      "Data columns (total 11 columns):\n",
      " #   Column                            Non-Null Count  Dtype  \n",
      "---  ------                            --------------  -----  \n",
      " 0   Country name                      2363 non-null   object \n",
      " 1   year                              2363 non-null   int64  \n",
      " 2   Life Ladder                       2363 non-null   float64\n",
      " 3   Log GDP per capita                2335 non-null   float64\n",
      " 4   Social support                    2350 non-null   float64\n",
      " 5   Healthy life expectancy at birth  2300 non-null   float64\n",
      " 6   Freedom to make life choices      2327 non-null   float64\n",
      " 7   Generosity                        2282 non-null   float64\n",
      " 8   Perceptions of corruption         2238 non-null   float64\n",
      " 9   Positive affect                   2339 non-null   float64\n",
      " 10  Negative affect                   2347 non-null   float64\n",
      "dtypes: float64(9), int64(1), object(1)\n",
      "memory usage: 203.2+ KB\n"
     ]
    }
   ],
   "source": [
    "df.info()"
   ]
  },
  {
   "cell_type": "markdown",
   "id": "2894911a",
   "metadata": {
    "papermill": {
     "duration": 0.002643,
     "end_time": "2024-05-22T18:24:03.949354",
     "exception": false,
     "start_time": "2024-05-22T18:24:03.946711",
     "status": "completed"
    },
    "tags": []
   },
   "source": [
    "Let's use dimension reduction to build some clusters."
   ]
  },
  {
   "cell_type": "code",
   "execution_count": 3,
   "id": "728cf02d",
   "metadata": {
    "execution": {
     "iopub.execute_input": "2024-05-22T18:24:03.957292Z",
     "iopub.status.busy": "2024-05-22T18:24:03.956401Z",
     "iopub.status.idle": "2024-05-22T18:25:05.950935Z",
     "shell.execute_reply": "2024-05-22T18:25:05.949660Z"
    },
    "papermill": {
     "duration": 62.003791,
     "end_time": "2024-05-22T18:25:05.955976",
     "exception": false,
     "start_time": "2024-05-22T18:24:03.952185",
     "status": "completed"
    },
    "tags": []
   },
   "outputs": [
    {
     "name": "stderr",
     "output_type": "stream",
     "text": [
      "2024-05-22 18:24:29.350566: E external/local_xla/xla/stream_executor/cuda/cuda_dnn.cc:9261] Unable to register cuDNN factory: Attempting to register factory for plugin cuDNN when one has already been registered\n",
      "2024-05-22 18:24:29.350721: E external/local_xla/xla/stream_executor/cuda/cuda_fft.cc:607] Unable to register cuFFT factory: Attempting to register factory for plugin cuFFT when one has already been registered\n",
      "2024-05-22 18:24:29.508090: E external/local_xla/xla/stream_executor/cuda/cuda_blas.cc:1515] Unable to register cuBLAS factory: Attempting to register factory for plugin cuBLAS when one has already been registered\n"
     ]
    },
    {
     "name": "stdout",
     "output_type": "stream",
     "text": [
      "UMAP(n_epochs=1000, n_jobs=1, random_state=2024, transform_seed=2024, verbose=True)\n",
      "Wed May 22 18:24:40 2024 Construct fuzzy simplicial set\n",
      "Wed May 22 18:24:46 2024 Finding Nearest Neighbors\n",
      "Wed May 22 18:24:51 2024 Finished Nearest Neighbor Search\n",
      "Wed May 22 18:24:54 2024 Construct embedding\n"
     ]
    },
    {
     "data": {
      "application/vnd.jupyter.widget-view+json": {
       "model_id": "140c23cf7b9c4027bbd85b3bca66e8db",
       "version_major": 2,
       "version_minor": 0
      },
      "text/plain": [
       "Epochs completed:   0%|            0/1000 [00:00]"
      ]
     },
     "metadata": {},
     "output_type": "display_data"
    },
    {
     "name": "stdout",
     "output_type": "stream",
     "text": [
      "\tcompleted  0  /  1000 epochs\n",
      "\tcompleted  100  /  1000 epochs\n",
      "\tcompleted  200  /  1000 epochs\n",
      "\tcompleted  300  /  1000 epochs\n",
      "\tcompleted  400  /  1000 epochs\n",
      "\tcompleted  500  /  1000 epochs\n",
      "\tcompleted  600  /  1000 epochs\n",
      "\tcompleted  700  /  1000 epochs\n",
      "\tcompleted  800  /  1000 epochs\n",
      "\tcompleted  900  /  1000 epochs\n",
      "Wed May 22 18:25:04 2024 Finished embedding\n"
     ]
    },
    {
     "data": {
      "text/html": [
       "        <script type=\"text/javascript\">\n",
       "        window.PlotlyConfig = {MathJaxConfig: 'local'};\n",
       "        if (window.MathJax && window.MathJax.Hub && window.MathJax.Hub.Config) {window.MathJax.Hub.Config({SVG: {font: \"STIX-Web\"}});}\n",
       "        if (typeof require !== 'undefined') {\n",
       "        require.undef(\"plotly\");\n",
       "        requirejs.config({\n",
       "            paths: {\n",
       "                'plotly': ['https://cdn.plot.ly/plotly-2.27.0.min']\n",
       "            }\n",
       "        });\n",
       "        require(['plotly'], function(Plotly) {\n",
       "            window._Plotly = Plotly;\n",
       "        });\n",
       "        }\n",
       "        </script>\n",
       "        "
      ]
     },
     "metadata": {},
     "output_type": "display_data"
    },
    {
     "data": {
      "text/html": [
       "<div>                            <div id=\"c16cfd42-55b1-436f-9cf5-b20597894ce7\" class=\"plotly-graph-div\" style=\"height:525px; width:100%;\"></div>            <script type=\"text/javascript\">                require([\"plotly\"], function(Plotly) {                    window.PLOTLYENV=window.PLOTLYENV || {};                                    if (document.getElementById(\"c16cfd42-55b1-436f-9cf5-b20597894ce7\")) {                    Plotly.newPlot(                        \"c16cfd42-55b1-436f-9cf5-b20597894ce7\",                        [{\"customdata\":[[2008],[2009],[2010],[2011],[2012],[2013],[2014],[2015],[2016],[2017],[2018],[2019],[2021],[2022],[2023],[2007],[2009],[2010],[2011],[2012],[2013],[2014],[2015],[2016],[2017],[2018],[2019],[2020],[2021],[2022],[2023],[2010],[2011],[2012],[2014],[2016],[2017],[2018],[2019],[2020],[2021],[2022],[2011],[2012],[2013],[2014],[2006],[2007],[2008],[2009],[2010],[2011],[2012],[2013],[2014],[2015],[2016],[2017],[2018],[2019],[2020],[2021],[2022],[2023],[2006],[2007],[2008],[2009],[2010],[2011],[2012],[2013],[2014],[2015],[2016],[2017],[2018],[2019],[2021],[2022],[2023],[2005],[2007],[2008],[2010],[2011],[2012],[2013],[2014],[2015],[2016],[2017],[2018],[2019],[2020],[2021],[2022],[2023],[2006],[2008],[2010],[2011],[2012],[2013],[2014],[2015],[2016],[2017],[2018],[2019],[2020],[2021],[2022],[2023],[2006],[2007],[2008],[2009],[2010],[2011],[2012],[2013],[2014],[2015],[2016],[2017],[2018],[2019],[2022],[2023],[2009],[2010],[2011],[2012],[2013],[2014],[2015],[2016],[2017],[2019],[2020],[2023],[2006],[2007],[2008],[2009],[2010],[2011],[2012],[2013],[2014],[2015],[2016],[2017],[2018],[2019],[2020],[2021],[2022],[2023],[2006],[2007],[2008],[2009],[2010],[2011],[2012],[2013],[2014],[2015],[2016],[2017],[2018],[2019],[2005],[2007],[2008],[2010],[2011],[2012],[2013],[2014],[2015],[2016],[2017],[2018],[2019],[2020],[2021],[2022],[2023],[2007],[2014],[2006],[2008],[2011],[2012],[2013],[2014],[2015],[2016],[2017],[2018],[2019],[2020],[2021],[2022],[2023],[2013],[2014],[2015],[2006],[2007],[2008],[2009],[2010],[2011],[2012],[2013],[2014],[2015],[2016],[2017],[2018],[2019],[2020],[2021],[2022],[2023],[2007],[2009],[2010],[2011],[2012],[2013],[2014],[2015],[2016],[2017],[2018],[2019],[2020],[2021],[2022],[2023],[2006],[2008],[2010],[2011],[2012],[2013],[2014],[2015],[2016],[2017],[2018],[2019],[2022],[2023],[2005],[2007],[2008],[2009],[2010],[2011],[2012],[2013],[2014],[2015],[2016],[2017],[2018],[2019],[2020],[2021],[2022],[2023],[2007],[2010],[2011],[2012],[2013],[2014],[2015],[2016],[2017],[2018],[2019],[2020],[2021],[2022],[2023],[2006],[2007],[2008],[2010],[2011],[2012],[2013],[2014],[2015],[2016],[2017],[2018],[2019],[2020],[2021],[2023],[2008],[2009],[2011],[2014],[2018],[2006],[2007],[2008],[2009],[2010],[2011],[2012],[2013],[2014],[2015],[2016],[2017],[2018],[2019],[2020],[2021],[2022],[2023],[2006],[2007],[2008],[2009],[2010],[2011],[2012],[2013],[2014],[2015],[2016],[2017],[2018],[2019],[2020],[2021],[2022],[2023],[2005],[2007],[2008],[2009],[2010],[2011],[2012],[2013],[2014],[2015],[2016],[2017],[2018],[2019],[2020],[2021],[2022],[2023],[2007],[2010],[2011],[2016],[2017],[2006],[2007],[2008],[2009],[2010],[2011],[2012],[2013],[2014],[2015],[2016],[2017],[2018],[2019],[2022],[2023],[2006],[2007],[2008],[2009],[2010],[2011],[2012],[2013],[2014],[2015],[2016],[2017],[2018],[2019],[2020],[2021],[2022],[2023],[2006],[2007],[2008],[2009],[2010],[2011],[2012],[2013],[2014],[2015],[2016],[2017],[2018],[2019],[2020],[2021],[2023],[2006],[2007],[2008],[2009],[2010],[2011],[2012],[2013],[2014],[2015],[2016],[2017],[2018],[2019],[2020],[2021],[2022],[2023],[2009],[2010],[2011],[2012],[2018],[2019],[2022],[2023],[2008],[2011],[2012],[2013],[2014],[2015],[2016],[2017],[2018],[2019],[2020],[2021],[2022],[2023],[2009],[2011],[2012],[2013],[2014],[2015],[2016],[2017],[2022],[2023],[2006],[2007],[2008],[2009],[2010],[2011],[2012],[2013],[2014],[2015],[2016],[2017],[2018],[2019],[2020],[2021],[2022],[2023],[2007],[2009],[2010],[2011],[2012],[2013],[2014],[2015],[2016],[2017],[2018],[2019],[2020],[2021],[2022],[2023],[2006],[2006],[2009],[2010],[2011],[2012],[2013],[2014],[2015],[2016],[2017],[2018],[2019],[2020],[2021],[2022],[2023],[2005],[2007],[2010],[2011],[2012],[2013],[2014],[2015],[2016],[2017],[2018],[2020],[2021],[2022],[2023],[2005],[2007],[2008],[2009],[2010],[2011],[2012],[2013],[2014],[2015],[2016],[2017],[2018],[2019],[2020],[2021],[2022],[2023],[2008],[2009],[2010],[2011],[2006],[2007],[2008],[2009],[2010],[2011],[2012],[2013],[2014],[2015],[2016],[2017],[2018],[2019],[2020],[2021],[2022],[2023],[2006],[2007],[2008],[2009],[2010],[2011],[2012],[2013],[2014],[2015],[2016],[2017],[2018],[2019],[2020],[2021],[2022],[2023],[2005],[2007],[2008],[2009],[2010],[2011],[2012],[2013],[2014],[2015],[2016],[2017],[2018],[2019],[2020],[2021],[2022],[2023],[2006],[2007],[2008],[2009],[2010],[2011],[2012],[2013],[2014],[2015],[2016],[2017],[2018],[2019],[2020],[2021],[2022],[2023],[2006],[2007],[2008],[2009],[2011],[2012],[2013],[2014],[2015],[2016],[2017],[2018],[2019],[2020],[2021],[2022],[2023],[2011],[2018],[2019],[2022],[2012],[2013],[2014],[2015],[2016],[2017],[2018],[2019],[2020],[2022],[2023],[2006],[2008],[2010],[2011],[2012],[2013],[2014],[2015],[2016],[2017],[2018],[2019],[2020],[2021],[2022],[2023],[2005],[2006],[2008],[2009],[2010],[2011],[2012],[2013],[2014],[2015],[2016],[2017],[2018],[2019],[2020],[2021],[2022],[2023],[2011],[2012],[2013],[2014],[2015],[2016],[2017],[2018],[2019],[2020],[2021],[2022],[2023],[2017],[2018],[2019],[2022],[2023],[2006],[2007],[2008],[2009],[2010],[2011],[2012],[2013],[2014],[2015],[2016],[2017],[2018],[2019],[2020],[2021],[2022],[2023],[2005],[2007],[2008],[2009],[2010],[2011],[2012],[2013],[2014],[2015],[2016],[2017],[2018],[2019],[2020],[2021],[2022],[2023],[2006],[2007],[2008],[2009],[2010],[2011],[2012],[2013],[2014],[2015],[2016],[2017],[2018],[2019],[2020],[2021],[2022],[2023],[2005],[2007],[2009],[2010],[2011],[2012],[2013],[2014],[2015],[2016],[2017],[2018],[2019],[2020],[2021],[2022],[2023],[2006],[2007],[2008],[2009],[2010],[2011],[2012],[2013],[2014],[2015],[2016],[2017],[2018],[2019],[2022],[2023],[2011],[2012],[2013],[2014],[2015],[2016],[2017],[2018],[2019],[2020],[2021],[2022],[2023],[2007],[2006],[2008],[2010],[2011],[2012],[2013],[2014],[2015],[2016],[2017],[2018],[2006],[2007],[2008],[2009],[2010],[2011],[2012],[2013],[2014],[2015],[2016],[2017],[2018],[2019],[2021],[2022],[2023],[2006],[2008],[2009],[2010],[2011],[2012],[2014],[2016],[2017],[2019],[2020],[2021],[2022],[2005],[2007],[2009],[2010],[2011],[2012],[2013],[2014],[2015],[2016],[2017],[2018],[2019],[2020],[2021],[2022],[2023],[2008],[2012],[2013],[2015],[2016],[2017],[2019],[2020],[2021],[2022],[2023],[2006],[2007],[2008],[2009],[2010],[2011],[2012],[2013],[2014],[2015],[2016],[2017],[2018],[2019],[2020],[2021],[2022],[2023],[2006],[2007],[2008],[2009],[2010],[2011],[2012],[2013],[2014],[2015],[2016],[2017],[2018],[2019],[2020],[2021],[2022],[2023],[2005],[2007],[2008],[2011],[2012],[2013],[2014],[2015],[2016],[2017],[2018],[2019],[2020],[2021],[2022],[2023],[2008],[2009],[2010],[2011],[2012],[2013],[2014],[2015],[2016],[2017],[2018],[2020],[2021],[2022],[2023],[2006],[2008],[2009],[2010],[2011],[2012],[2013],[2014],[2015],[2016],[2017],[2018],[2019],[2020],[2021],[2022],[2023],[2006],[2007],[2008],[2009],[2010],[2011],[2012],[2013],[2014],[2015],[2016],[2017],[2018],[2019],[2020],[2021],[2022],[2023],[2005],[2007],[2008],[2009],[2010],[2011],[2012],[2013],[2014],[2015],[2016],[2017],[2018],[2019],[2020],[2021],[2022],[2023],[2009],[2013],[2014],[2015],[2016],[2017],[2018],[2019],[2020],[2021],[2022],[2023],[2006],[2011],[2013],[2014],[2017],[2019],[2020],[2021],[2022],[2005],[2007],[2008],[2009],[2010],[2011],[2012],[2013],[2014],[2015],[2016],[2017],[2018],[2019],[2020],[2021],[2022],[2023],[2005],[2007],[2008],[2009],[2010],[2011],[2012],[2013],[2014],[2015],[2016],[2017],[2018],[2019],[2020],[2021],[2022],[2023],[2006],[2007],[2008],[2009],[2010],[2011],[2012],[2013],[2014],[2015],[2016],[2017],[2018],[2019],[2020],[2021],[2022],[2023],[2006],[2007],[2008],[2009],[2010],[2011],[2012],[2013],[2014],[2015],[2016],[2017],[2018],[2019],[2020],[2021],[2022],[2023],[2007],[2008],[2009],[2010],[2011],[2012],[2013],[2014],[2015],[2016],[2017],[2018],[2019],[2020],[2021],[2022],[2023],[2006],[2009],[2010],[2011],[2012],[2013],[2014],[2015],[2016],[2017],[2019],[2022],[2023],[2006],[2007],[2008],[2009],[2010],[2011],[2012],[2013],[2014],[2015],[2016],[2017],[2018],[2019],[2020],[2021],[2022],[2023],[2006],[2007],[2008],[2011],[2012],[2017],[2018],[2019],[2020],[2021],[2022],[2023],[2006],[2007],[2008],[2009],[2011],[2012],[2013],[2014],[2015],[2016],[2017],[2018],[2019],[2020],[2021],[2022],[2023],[2005],[2006],[2008],[2009],[2010],[2011],[2012],[2013],[2014],[2015],[2016],[2017],[2018],[2019],[2020],[2021],[2022],[2023],[2011],[2016],[2017],[2019],[2022],[2007],[2008],[2010],[2014],[2015],[2016],[2017],[2018],[2019],[2022],[2023],[2012],[2015],[2016],[2017],[2018],[2019],[2022],[2023],[2006],[2007],[2008],[2009],[2010],[2011],[2012],[2013],[2014],[2015],[2016],[2017],[2018],[2019],[2020],[2021],[2022],[2023],[2009],[2010],[2011],[2012],[2013],[2014],[2015],[2016],[2017],[2018],[2019],[2022],[2023],[2006],[2008],[2011],[2012],[2013],[2014],[2015],[2016],[2017],[2018],[2019],[2022],[2023],[2006],[2007],[2009],[2011],[2012],[2013],[2014],[2015],[2016],[2017],[2018],[2019],[2021],[2022],[2023],[2006],[2007],[2008],[2009],[2010],[2011],[2012],[2013],[2014],[2015],[2018],[2019],[2020],[2021],[2022],[2023],[2018],[2006],[2008],[2009],[2010],[2011],[2012],[2013],[2014],[2015],[2016],[2017],[2018],[2019],[2020],[2021],[2022],[2023],[2009],[2010],[2011],[2012],[2013],[2014],[2015],[2016],[2017],[2018],[2019],[2020],[2021],[2022],[2023],[2007],[2008],[2009],[2010],[2011],[2012],[2013],[2014],[2015],[2016],[2017],[2018],[2019],[2022],[2023],[2011],[2014],[2016],[2017],[2018],[2019],[2020],[2021],[2022],[2023],[2005],[2007],[2008],[2009],[2010],[2011],[2012],[2013],[2014],[2015],[2016],[2017],[2018],[2019],[2020],[2021],[2022],[2023],[2006],[2007],[2008],[2009],[2010],[2011],[2012],[2013],[2014],[2015],[2016],[2017],[2018],[2019],[2020],[2021],[2022],[2023],[2007],[2008],[2010],[2011],[2012],[2013],[2014],[2015],[2016],[2017],[2018],[2019],[2020],[2021],[2022],[2023],[2007],[2009],[2010],[2011],[2012],[2013],[2014],[2015],[2016],[2017],[2018],[2019],[2020],[2022],[2023],[2010],[2011],[2012],[2013],[2015],[2016],[2017],[2018],[2019],[2020],[2021],[2022],[2023],[2006],[2007],[2008],[2011],[2015],[2017],[2018],[2019],[2021],[2022],[2023],[2012],[2013],[2014],[2015],[2016],[2017],[2018],[2019],[2020],[2021],[2022],[2023],[2007],[2014],[2017],[2018],[2019],[2020],[2021],[2022],[2023],[2006],[2007],[2008],[2009],[2010],[2011],[2012],[2013],[2014],[2015],[2016],[2017],[2018],[2019],[2020],[2021],[2022],[2023],[2005],[2007],[2008],[2010],[2011],[2012],[2013],[2014],[2015],[2016],[2017],[2018],[2019],[2020],[2021],[2022],[2023],[2006],[2007],[2008],[2010],[2011],[2012],[2013],[2014],[2015],[2016],[2017],[2018],[2019],[2020],[2021],[2022],[2023],[2006],[2007],[2008],[2009],[2010],[2011],[2012],[2013],[2014],[2015],[2016],[2017],[2018],[2019],[2020],[2021],[2022],[2023],[2006],[2007],[2008],[2009],[2010],[2011],[2012],[2013],[2014],[2015],[2016],[2017],[2018],[2019],[2022],[2023],[2006],[2007],[2008],[2009],[2010],[2012],[2013],[2015],[2016],[2017],[2018],[2019],[2020],[2021],[2022],[2023],[2007],[2009],[2010],[2011],[2012],[2013],[2014],[2015],[2016],[2017],[2018],[2019],[2020],[2021],[2022],[2023],[2006],[2008],[2012],[2014],[2015],[2016],[2017],[2018],[2019],[2020],[2021],[2022],[2023],[2011],[2005],[2007],[2008],[2009],[2010],[2011],[2012],[2013],[2014],[2015],[2016],[2017],[2018],[2019],[2020],[2021],[2022],[2023],[2006],[2007],[2008],[2009],[2010],[2011],[2012],[2013],[2014],[2015],[2016],[2017],[2018],[2019],[2021],[2022],[2023],[2006],[2007],[2008],[2009],[2010],[2011],[2012],[2013],[2014],[2015],[2016],[2017],[2019],[2020],[2021],[2022],[2023],[2006],[2007],[2008],[2009],[2010],[2011],[2012],[2013],[2014],[2015],[2016],[2017],[2018],[2019],[2020],[2021],[2022],[2023],[2006],[2007],[2008],[2009],[2010],[2011],[2012],[2013],[2014],[2015],[2016],[2017],[2018],[2019],[2020],[2021],[2022],[2023],[2005],[2007],[2009],[2010],[2011],[2012],[2013],[2014],[2015],[2016],[2017],[2018],[2019],[2020],[2021],[2022],[2023],[2006],[2008],[2010],[2011],[2012],[2013],[2014],[2015],[2016],[2017],[2018],[2019],[2020],[2021],[2022],[2023],[2009],[2010],[2011],[2012],[2015],[2005],[2007],[2009],[2010],[2011],[2012],[2013],[2014],[2015],[2016],[2017],[2018],[2019],[2020],[2021],[2022],[2023],[2006],[2007],[2008],[2009],[2010],[2011],[2012],[2013],[2014],[2015],[2016],[2017],[2018],[2019],[2020],[2021],[2022],[2023],[2006],[2008],[2009],[2011],[2012],[2013],[2014],[2015],[2016],[2017],[2018],[2019],[2005],[2007],[2008],[2009],[2010],[2011],[2012],[2013],[2014],[2015],[2016],[2017],[2018],[2019],[2020],[2021],[2022],[2023],[2006],[2007],[2008],[2009],[2010],[2011],[2012],[2013],[2014],[2015],[2016],[2017],[2018],[2019],[2020],[2021],[2022],[2023],[2007],[2009],[2010],[2011],[2012],[2013],[2014],[2015],[2016],[2017],[2018],[2019],[2020],[2021],[2022],[2023],[2006],[2007],[2008],[2010],[2011],[2013],[2014],[2015],[2016],[2017],[2018],[2019],[2021],[2022],[2023],[2006],[2007],[2008],[2009],[2010],[2011],[2013],[2014],[2015],[2016],[2017],[2018],[2019],[2021],[2022],[2023],[2006],[2010],[2011],[2012],[2013],[2014],[2015],[2016],[2017],[2018],[2019],[2020],[2021],[2022],[2023],[2006],[2009],[2010],[2011],[2012],[2013],[2014],[2015],[2016],[2017],[2018],[2019],[2020],[2021],[2022],[2023],[2014],[2015],[2016],[2009],[2010],[2011],[2012],[2006],[2007],[2008],[2009],[2010],[2011],[2012],[2013],[2014],[2015],[2016],[2017],[2018],[2019],[2020],[2021],[2022],[2023],[2006],[2007],[2008],[2009],[2010],[2011],[2012],[2013],[2014],[2015],[2016],[2017],[2018],[2019],[2020],[2021],[2022],[2023],[2014],[2015],[2016],[2017],[2005],[2007],[2008],[2009],[2010],[2011],[2012],[2013],[2014],[2015],[2016],[2017],[2018],[2019],[2020],[2021],[2022],[2023],[2006],[2007],[2008],[2009],[2010],[2011],[2012],[2013],[2014],[2015],[2017],[2018],[2019],[2020],[2021],[2022],[2023],[2006],[2007],[2008],[2009],[2010],[2011],[2012],[2013],[2014],[2015],[2016],[2017],[2018],[2019],[2022],[2023],[2009],[2010],[2011],[2012],[2014],[2012],[2005],[2007],[2008],[2009],[2010],[2011],[2012],[2013],[2014],[2015],[2016],[2017],[2018],[2019],[2020],[2021],[2022],[2023],[2006],[2009],[2012],[2014],[2015],[2016],[2017],[2018],[2019],[2020],[2021],[2022],[2023],[2008],[2009],[2010],[2011],[2012],[2013],[2015],[2006],[2008],[2010],[2011],[2012],[2013],[2014],[2015],[2016],[2017],[2018],[2019],[2020],[2021],[2022],[2023],[2006],[2007],[2008],[2009],[2010],[2011],[2012],[2013],[2014],[2015],[2016],[2017],[2018],[2019],[2020],[2021],[2022],[2023],[2006],[2007],[2008],[2009],[2010],[2011],[2012],[2013],[2014],[2015],[2016],[2017],[2018],[2019],[2020],[2021],[2022],[2023],[2006],[2007],[2008],[2009],[2010],[2011],[2012],[2013],[2014],[2015],[2016],[2017],[2018],[2019],[2020],[2021],[2022],[2023],[2006],[2008],[2011],[2014],[2015],[2016],[2017],[2018],[2019],[2021],[2022],[2023],[2006],[2008],[2011],[2013],[2017],[2009],[2010],[2011],[2012],[2013],[2014],[2015],[2016],[2017],[2018],[2019],[2020],[2021],[2022],[2023],[2009],[2011],[2012],[2013],[2014],[2015],[2016],[2017],[2018],[2019],[2005],[2007],[2008],[2009],[2010],[2011],[2012],[2013],[2014],[2015],[2016],[2017],[2018],[2019],[2020],[2021],[2022],[2023],[2006],[2007],[2008],[2009],[2010],[2011],[2012],[2013],[2014],[2015],[2016],[2017],[2018],[2019],[2020],[2021],[2022],[2023],[2006],[2007],[2008],[2009],[2010],[2011],[2012],[2013],[2014],[2015],[2016],[2017],[2018],[2019],[2020],[2021],[2022],[2023],[2006],[2009],[2010],[2011],[2012],[2013],[2014],[2015],[2016],[2017],[2018],[2019],[2020],[2021],[2022],[2023],[2005],[2007],[2008],[2009],[2010],[2011],[2012],[2013],[2014],[2015],[2016],[2017],[2018],[2019],[2020],[2021],[2022],[2023],[2006],[2007],[2008],[2009],[2010],[2011],[2012],[2013],[2014],[2015],[2016],[2017],[2018],[2019],[2020],[2021],[2022],[2023],[2006],[2007],[2008],[2009],[2010],[2011],[2012],[2013],[2014],[2015],[2016],[2017],[2018],[2019],[2020],[2021],[2022],[2023],[2006],[2008],[2009],[2010],[2011],[2012],[2013],[2014],[2015],[2016],[2017],[2018],[2019],[2020],[2021],[2022],[2023],[2005],[2006],[2008],[2009],[2010],[2011],[2012],[2013],[2014],[2015],[2016],[2017],[2018],[2019],[2020],[2021],[2022],[2023],[2006],[2007],[2008],[2009],[2010],[2011],[2012],[2013],[2014],[2015],[2016],[2017],[2018],[2019],[2020],[2021],[2022],[2023],[2007],[2009],[2010],[2011],[2012],[2013],[2014],[2015],[2016],[2017],[2018],[2019],[2022],[2023],[2006],[2007],[2008],[2009],[2011],[2012],[2013],[2014],[2015],[2016],[2017],[2018],[2019],[2020],[2021],[2022],[2023],[2006],[2007],[2008],[2009],[2010],[2011],[2012],[2013],[2014],[2015],[2016],[2017],[2018],[2019],[2020],[2021],[2022],[2023]],\"hovertemplate\":\"\\u003cb\\u003e%{hovertext}\\u003c\\u002fb\\u003e\\u003cbr\\u003e\\u003cbr\\u003ex=%{x}\\u003cbr\\u003ey=%{y}\\u003cbr\\u003eyear=%{marker.color}\\u003cextra\\u003e\\u003c\\u002fextra\\u003e\",\"hovertext\":[\"Afghanistan\",\"Afghanistan\",\"Afghanistan\",\"Afghanistan\",\"Afghanistan\",\"Afghanistan\",\"Afghanistan\",\"Afghanistan\",\"Afghanistan\",\"Afghanistan\",\"Afghanistan\",\"Afghanistan\",\"Afghanistan\",\"Afghanistan\",\"Afghanistan\",\"Albania\",\"Albania\",\"Albania\",\"Albania\",\"Albania\",\"Albania\",\"Albania\",\"Albania\",\"Albania\",\"Albania\",\"Albania\",\"Albania\",\"Albania\",\"Albania\",\"Albania\",\"Albania\",\"Algeria\",\"Algeria\",\"Algeria\",\"Algeria\",\"Algeria\",\"Algeria\",\"Algeria\",\"Algeria\",\"Algeria\",\"Algeria\",\"Algeria\",\"Angola\",\"Angola\",\"Angola\",\"Angola\",\"Argentina\",\"Argentina\",\"Argentina\",\"Argentina\",\"Argentina\",\"Argentina\",\"Argentina\",\"Argentina\",\"Argentina\",\"Argentina\",\"Argentina\",\"Argentina\",\"Argentina\",\"Argentina\",\"Argentina\",\"Argentina\",\"Argentina\",\"Argentina\",\"Armenia\",\"Armenia\",\"Armenia\",\"Armenia\",\"Armenia\",\"Armenia\",\"Armenia\",\"Armenia\",\"Armenia\",\"Armenia\",\"Armenia\",\"Armenia\",\"Armenia\",\"Armenia\",\"Armenia\",\"Armenia\",\"Armenia\",\"Australia\",\"Australia\",\"Australia\",\"Australia\",\"Australia\",\"Australia\",\"Australia\",\"Australia\",\"Australia\",\"Australia\",\"Australia\",\"Australia\",\"Australia\",\"Australia\",\"Australia\",\"Australia\",\"Australia\",\"Austria\",\"Austria\",\"Austria\",\"Austria\",\"Austria\",\"Austria\",\"Austria\",\"Austria\",\"Austria\",\"Austria\",\"Austria\",\"Austria\",\"Austria\",\"Austria\",\"Austria\",\"Austria\",\"Azerbaijan\",\"Azerbaijan\",\"Azerbaijan\",\"Azerbaijan\",\"Azerbaijan\",\"Azerbaijan\",\"Azerbaijan\",\"Azerbaijan\",\"Azerbaijan\",\"Azerbaijan\",\"Azerbaijan\",\"Azerbaijan\",\"Azerbaijan\",\"Azerbaijan\",\"Azerbaijan\",\"Azerbaijan\",\"Bahrain\",\"Bahrain\",\"Bahrain\",\"Bahrain\",\"Bahrain\",\"Bahrain\",\"Bahrain\",\"Bahrain\",\"Bahrain\",\"Bahrain\",\"Bahrain\",\"Bahrain\",\"Bangladesh\",\"Bangladesh\",\"Bangladesh\",\"Bangladesh\",\"Bangladesh\",\"Bangladesh\",\"Bangladesh\",\"Bangladesh\",\"Bangladesh\",\"Bangladesh\",\"Bangladesh\",\"Bangladesh\",\"Bangladesh\",\"Bangladesh\",\"Bangladesh\",\"Bangladesh\",\"Bangladesh\",\"Bangladesh\",\"Belarus\",\"Belarus\",\"Belarus\",\"Belarus\",\"Belarus\",\"Belarus\",\"Belarus\",\"Belarus\",\"Belarus\",\"Belarus\",\"Belarus\",\"Belarus\",\"Belarus\",\"Belarus\",\"Belgium\",\"Belgium\",\"Belgium\",\"Belgium\",\"Belgium\",\"Belgium\",\"Belgium\",\"Belgium\",\"Belgium\",\"Belgium\",\"Belgium\",\"Belgium\",\"Belgium\",\"Belgium\",\"Belgium\",\"Belgium\",\"Belgium\",\"Belize\",\"Belize\",\"Benin\",\"Benin\",\"Benin\",\"Benin\",\"Benin\",\"Benin\",\"Benin\",\"Benin\",\"Benin\",\"Benin\",\"Benin\",\"Benin\",\"Benin\",\"Benin\",\"Benin\",\"Bhutan\",\"Bhutan\",\"Bhutan\",\"Bolivia\",\"Bolivia\",\"Bolivia\",\"Bolivia\",\"Bolivia\",\"Bolivia\",\"Bolivia\",\"Bolivia\",\"Bolivia\",\"Bolivia\",\"Bolivia\",\"Bolivia\",\"Bolivia\",\"Bolivia\",\"Bolivia\",\"Bolivia\",\"Bolivia\",\"Bolivia\",\"Bosnia and Herzegovina\",\"Bosnia and Herzegovina\",\"Bosnia and Herzegovina\",\"Bosnia and Herzegovina\",\"Bosnia and Herzegovina\",\"Bosnia and Herzegovina\",\"Bosnia and Herzegovina\",\"Bosnia and Herzegovina\",\"Bosnia and Herzegovina\",\"Bosnia and Herzegovina\",\"Bosnia and Herzegovina\",\"Bosnia and Herzegovina\",\"Bosnia and Herzegovina\",\"Bosnia and Herzegovina\",\"Bosnia and Herzegovina\",\"Bosnia and Herzegovina\",\"Botswana\",\"Botswana\",\"Botswana\",\"Botswana\",\"Botswana\",\"Botswana\",\"Botswana\",\"Botswana\",\"Botswana\",\"Botswana\",\"Botswana\",\"Botswana\",\"Botswana\",\"Botswana\",\"Brazil\",\"Brazil\",\"Brazil\",\"Brazil\",\"Brazil\",\"Brazil\",\"Brazil\",\"Brazil\",\"Brazil\",\"Brazil\",\"Brazil\",\"Brazil\",\"Brazil\",\"Brazil\",\"Brazil\",\"Brazil\",\"Brazil\",\"Brazil\",\"Bulgaria\",\"Bulgaria\",\"Bulgaria\",\"Bulgaria\",\"Bulgaria\",\"Bulgaria\",\"Bulgaria\",\"Bulgaria\",\"Bulgaria\",\"Bulgaria\",\"Bulgaria\",\"Bulgaria\",\"Bulgaria\",\"Bulgaria\",\"Bulgaria\",\"Burkina Faso\",\"Burkina Faso\",\"Burkina Faso\",\"Burkina Faso\",\"Burkina Faso\",\"Burkina Faso\",\"Burkina Faso\",\"Burkina Faso\",\"Burkina Faso\",\"Burkina Faso\",\"Burkina Faso\",\"Burkina Faso\",\"Burkina Faso\",\"Burkina Faso\",\"Burkina Faso\",\"Burkina Faso\",\"Burundi\",\"Burundi\",\"Burundi\",\"Burundi\",\"Burundi\",\"Cambodia\",\"Cambodia\",\"Cambodia\",\"Cambodia\",\"Cambodia\",\"Cambodia\",\"Cambodia\",\"Cambodia\",\"Cambodia\",\"Cambodia\",\"Cambodia\",\"Cambodia\",\"Cambodia\",\"Cambodia\",\"Cambodia\",\"Cambodia\",\"Cambodia\",\"Cambodia\",\"Cameroon\",\"Cameroon\",\"Cameroon\",\"Cameroon\",\"Cameroon\",\"Cameroon\",\"Cameroon\",\"Cameroon\",\"Cameroon\",\"Cameroon\",\"Cameroon\",\"Cameroon\",\"Cameroon\",\"Cameroon\",\"Cameroon\",\"Cameroon\",\"Cameroon\",\"Cameroon\",\"Canada\",\"Canada\",\"Canada\",\"Canada\",\"Canada\",\"Canada\",\"Canada\",\"Canada\",\"Canada\",\"Canada\",\"Canada\",\"Canada\",\"Canada\",\"Canada\",\"Canada\",\"Canada\",\"Canada\",\"Canada\",\"Central African Republic\",\"Central African Republic\",\"Central African Republic\",\"Central African Republic\",\"Central African Republic\",\"Chad\",\"Chad\",\"Chad\",\"Chad\",\"Chad\",\"Chad\",\"Chad\",\"Chad\",\"Chad\",\"Chad\",\"Chad\",\"Chad\",\"Chad\",\"Chad\",\"Chad\",\"Chad\",\"Chile\",\"Chile\",\"Chile\",\"Chile\",\"Chile\",\"Chile\",\"Chile\",\"Chile\",\"Chile\",\"Chile\",\"Chile\",\"Chile\",\"Chile\",\"Chile\",\"Chile\",\"Chile\",\"Chile\",\"Chile\",\"China\",\"China\",\"China\",\"China\",\"China\",\"China\",\"China\",\"China\",\"China\",\"China\",\"China\",\"China\",\"China\",\"China\",\"China\",\"China\",\"China\",\"Colombia\",\"Colombia\",\"Colombia\",\"Colombia\",\"Colombia\",\"Colombia\",\"Colombia\",\"Colombia\",\"Colombia\",\"Colombia\",\"Colombia\",\"Colombia\",\"Colombia\",\"Colombia\",\"Colombia\",\"Colombia\",\"Colombia\",\"Colombia\",\"Comoros\",\"Comoros\",\"Comoros\",\"Comoros\",\"Comoros\",\"Comoros\",\"Comoros\",\"Comoros\",\"Congo (Brazzaville)\",\"Congo (Brazzaville)\",\"Congo (Brazzaville)\",\"Congo (Brazzaville)\",\"Congo (Brazzaville)\",\"Congo (Brazzaville)\",\"Congo (Brazzaville)\",\"Congo (Brazzaville)\",\"Congo (Brazzaville)\",\"Congo (Brazzaville)\",\"Congo (Brazzaville)\",\"Congo (Brazzaville)\",\"Congo (Brazzaville)\",\"Congo (Brazzaville)\",\"Congo (Kinshasa)\",\"Congo (Kinshasa)\",\"Congo (Kinshasa)\",\"Congo (Kinshasa)\",\"Congo (Kinshasa)\",\"Congo (Kinshasa)\",\"Congo (Kinshasa)\",\"Congo (Kinshasa)\",\"Congo (Kinshasa)\",\"Congo (Kinshasa)\",\"Costa Rica\",\"Costa Rica\",\"Costa Rica\",\"Costa Rica\",\"Costa Rica\",\"Costa Rica\",\"Costa Rica\",\"Costa Rica\",\"Costa Rica\",\"Costa Rica\",\"Costa Rica\",\"Costa Rica\",\"Costa Rica\",\"Costa Rica\",\"Costa Rica\",\"Costa Rica\",\"Costa Rica\",\"Costa Rica\",\"Croatia\",\"Croatia\",\"Croatia\",\"Croatia\",\"Croatia\",\"Croatia\",\"Croatia\",\"Croatia\",\"Croatia\",\"Croatia\",\"Croatia\",\"Croatia\",\"Croatia\",\"Croatia\",\"Croatia\",\"Croatia\",\"Cuba\",\"Cyprus\",\"Cyprus\",\"Cyprus\",\"Cyprus\",\"Cyprus\",\"Cyprus\",\"Cyprus\",\"Cyprus\",\"Cyprus\",\"Cyprus\",\"Cyprus\",\"Cyprus\",\"Cyprus\",\"Cyprus\",\"Cyprus\",\"Cyprus\",\"Czechia\",\"Czechia\",\"Czechia\",\"Czechia\",\"Czechia\",\"Czechia\",\"Czechia\",\"Czechia\",\"Czechia\",\"Czechia\",\"Czechia\",\"Czechia\",\"Czechia\",\"Czechia\",\"Czechia\",\"Denmark\",\"Denmark\",\"Denmark\",\"Denmark\",\"Denmark\",\"Denmark\",\"Denmark\",\"Denmark\",\"Denmark\",\"Denmark\",\"Denmark\",\"Denmark\",\"Denmark\",\"Denmark\",\"Denmark\",\"Denmark\",\"Denmark\",\"Denmark\",\"Djibouti\",\"Djibouti\",\"Djibouti\",\"Djibouti\",\"Dominican Republic\",\"Dominican Republic\",\"Dominican Republic\",\"Dominican Republic\",\"Dominican Republic\",\"Dominican Republic\",\"Dominican Republic\",\"Dominican Republic\",\"Dominican Republic\",\"Dominican Republic\",\"Dominican Republic\",\"Dominican Republic\",\"Dominican Republic\",\"Dominican Republic\",\"Dominican Republic\",\"Dominican Republic\",\"Dominican Republic\",\"Dominican Republic\",\"Ecuador\",\"Ecuador\",\"Ecuador\",\"Ecuador\",\"Ecuador\",\"Ecuador\",\"Ecuador\",\"Ecuador\",\"Ecuador\",\"Ecuador\",\"Ecuador\",\"Ecuador\",\"Ecuador\",\"Ecuador\",\"Ecuador\",\"Ecuador\",\"Ecuador\",\"Ecuador\",\"Egypt\",\"Egypt\",\"Egypt\",\"Egypt\",\"Egypt\",\"Egypt\",\"Egypt\",\"Egypt\",\"Egypt\",\"Egypt\",\"Egypt\",\"Egypt\",\"Egypt\",\"Egypt\",\"Egypt\",\"Egypt\",\"Egypt\",\"Egypt\",\"El Salvador\",\"El Salvador\",\"El Salvador\",\"El Salvador\",\"El Salvador\",\"El Salvador\",\"El Salvador\",\"El Salvador\",\"El Salvador\",\"El Salvador\",\"El Salvador\",\"El Salvador\",\"El Salvador\",\"El Salvador\",\"El Salvador\",\"El Salvador\",\"El Salvador\",\"El Salvador\",\"Estonia\",\"Estonia\",\"Estonia\",\"Estonia\",\"Estonia\",\"Estonia\",\"Estonia\",\"Estonia\",\"Estonia\",\"Estonia\",\"Estonia\",\"Estonia\",\"Estonia\",\"Estonia\",\"Estonia\",\"Estonia\",\"Estonia\",\"Eswatini\",\"Eswatini\",\"Eswatini\",\"Eswatini\",\"Ethiopia\",\"Ethiopia\",\"Ethiopia\",\"Ethiopia\",\"Ethiopia\",\"Ethiopia\",\"Ethiopia\",\"Ethiopia\",\"Ethiopia\",\"Ethiopia\",\"Ethiopia\",\"Finland\",\"Finland\",\"Finland\",\"Finland\",\"Finland\",\"Finland\",\"Finland\",\"Finland\",\"Finland\",\"Finland\",\"Finland\",\"Finland\",\"Finland\",\"Finland\",\"Finland\",\"Finland\",\"France\",\"France\",\"France\",\"France\",\"France\",\"France\",\"France\",\"France\",\"France\",\"France\",\"France\",\"France\",\"France\",\"France\",\"France\",\"France\",\"France\",\"France\",\"Gabon\",\"Gabon\",\"Gabon\",\"Gabon\",\"Gabon\",\"Gabon\",\"Gabon\",\"Gabon\",\"Gabon\",\"Gabon\",\"Gabon\",\"Gabon\",\"Gabon\",\"Gambia\",\"Gambia\",\"Gambia\",\"Gambia\",\"Gambia\",\"Georgia\",\"Georgia\",\"Georgia\",\"Georgia\",\"Georgia\",\"Georgia\",\"Georgia\",\"Georgia\",\"Georgia\",\"Georgia\",\"Georgia\",\"Georgia\",\"Georgia\",\"Georgia\",\"Georgia\",\"Georgia\",\"Georgia\",\"Georgia\",\"Germany\",\"Germany\",\"Germany\",\"Germany\",\"Germany\",\"Germany\",\"Germany\",\"Germany\",\"Germany\",\"Germany\",\"Germany\",\"Germany\",\"Germany\",\"Germany\",\"Germany\",\"Germany\",\"Germany\",\"Germany\",\"Ghana\",\"Ghana\",\"Ghana\",\"Ghana\",\"Ghana\",\"Ghana\",\"Ghana\",\"Ghana\",\"Ghana\",\"Ghana\",\"Ghana\",\"Ghana\",\"Ghana\",\"Ghana\",\"Ghana\",\"Ghana\",\"Ghana\",\"Ghana\",\"Greece\",\"Greece\",\"Greece\",\"Greece\",\"Greece\",\"Greece\",\"Greece\",\"Greece\",\"Greece\",\"Greece\",\"Greece\",\"Greece\",\"Greece\",\"Greece\",\"Greece\",\"Greece\",\"Greece\",\"Guatemala\",\"Guatemala\",\"Guatemala\",\"Guatemala\",\"Guatemala\",\"Guatemala\",\"Guatemala\",\"Guatemala\",\"Guatemala\",\"Guatemala\",\"Guatemala\",\"Guatemala\",\"Guatemala\",\"Guatemala\",\"Guatemala\",\"Guatemala\",\"Guinea\",\"Guinea\",\"Guinea\",\"Guinea\",\"Guinea\",\"Guinea\",\"Guinea\",\"Guinea\",\"Guinea\",\"Guinea\",\"Guinea\",\"Guinea\",\"Guinea\",\"Guyana\",\"Haiti\",\"Haiti\",\"Haiti\",\"Haiti\",\"Haiti\",\"Haiti\",\"Haiti\",\"Haiti\",\"Haiti\",\"Haiti\",\"Haiti\",\"Honduras\",\"Honduras\",\"Honduras\",\"Honduras\",\"Honduras\",\"Honduras\",\"Honduras\",\"Honduras\",\"Honduras\",\"Honduras\",\"Honduras\",\"Honduras\",\"Honduras\",\"Honduras\",\"Honduras\",\"Honduras\",\"Honduras\",\"Hong Kong S.A.R. of China\",\"Hong Kong S.A.R. of China\",\"Hong Kong S.A.R. of China\",\"Hong Kong S.A.R. of China\",\"Hong Kong S.A.R. of China\",\"Hong Kong S.A.R. of China\",\"Hong Kong S.A.R. of China\",\"Hong Kong S.A.R. of China\",\"Hong Kong S.A.R. of China\",\"Hong Kong S.A.R. of China\",\"Hong Kong S.A.R. of China\",\"Hong Kong S.A.R. of China\",\"Hong Kong S.A.R. of China\",\"Hungary\",\"Hungary\",\"Hungary\",\"Hungary\",\"Hungary\",\"Hungary\",\"Hungary\",\"Hungary\",\"Hungary\",\"Hungary\",\"Hungary\",\"Hungary\",\"Hungary\",\"Hungary\",\"Hungary\",\"Hungary\",\"Hungary\",\"Iceland\",\"Iceland\",\"Iceland\",\"Iceland\",\"Iceland\",\"Iceland\",\"Iceland\",\"Iceland\",\"Iceland\",\"Iceland\",\"Iceland\",\"India\",\"India\",\"India\",\"India\",\"India\",\"India\",\"India\",\"India\",\"India\",\"India\",\"India\",\"India\",\"India\",\"India\",\"India\",\"India\",\"India\",\"India\",\"Indonesia\",\"Indonesia\",\"Indonesia\",\"Indonesia\",\"Indonesia\",\"Indonesia\",\"Indonesia\",\"Indonesia\",\"Indonesia\",\"Indonesia\",\"Indonesia\",\"Indonesia\",\"Indonesia\",\"Indonesia\",\"Indonesia\",\"Indonesia\",\"Indonesia\",\"Indonesia\",\"Iran\",\"Iran\",\"Iran\",\"Iran\",\"Iran\",\"Iran\",\"Iran\",\"Iran\",\"Iran\",\"Iran\",\"Iran\",\"Iran\",\"Iran\",\"Iran\",\"Iran\",\"Iran\",\"Iraq\",\"Iraq\",\"Iraq\",\"Iraq\",\"Iraq\",\"Iraq\",\"Iraq\",\"Iraq\",\"Iraq\",\"Iraq\",\"Iraq\",\"Iraq\",\"Iraq\",\"Iraq\",\"Iraq\",\"Ireland\",\"Ireland\",\"Ireland\",\"Ireland\",\"Ireland\",\"Ireland\",\"Ireland\",\"Ireland\",\"Ireland\",\"Ireland\",\"Ireland\",\"Ireland\",\"Ireland\",\"Ireland\",\"Ireland\",\"Ireland\",\"Ireland\",\"Israel\",\"Israel\",\"Israel\",\"Israel\",\"Israel\",\"Israel\",\"Israel\",\"Israel\",\"Israel\",\"Israel\",\"Israel\",\"Israel\",\"Israel\",\"Israel\",\"Israel\",\"Israel\",\"Israel\",\"Israel\",\"Italy\",\"Italy\",\"Italy\",\"Italy\",\"Italy\",\"Italy\",\"Italy\",\"Italy\",\"Italy\",\"Italy\",\"Italy\",\"Italy\",\"Italy\",\"Italy\",\"Italy\",\"Italy\",\"Italy\",\"Italy\",\"Ivory Coast\",\"Ivory Coast\",\"Ivory Coast\",\"Ivory Coast\",\"Ivory Coast\",\"Ivory Coast\",\"Ivory Coast\",\"Ivory Coast\",\"Ivory Coast\",\"Ivory Coast\",\"Ivory Coast\",\"Ivory Coast\",\"Jamaica\",\"Jamaica\",\"Jamaica\",\"Jamaica\",\"Jamaica\",\"Jamaica\",\"Jamaica\",\"Jamaica\",\"Jamaica\",\"Japan\",\"Japan\",\"Japan\",\"Japan\",\"Japan\",\"Japan\",\"Japan\",\"Japan\",\"Japan\",\"Japan\",\"Japan\",\"Japan\",\"Japan\",\"Japan\",\"Japan\",\"Japan\",\"Japan\",\"Japan\",\"Jordan\",\"Jordan\",\"Jordan\",\"Jordan\",\"Jordan\",\"Jordan\",\"Jordan\",\"Jordan\",\"Jordan\",\"Jordan\",\"Jordan\",\"Jordan\",\"Jordan\",\"Jordan\",\"Jordan\",\"Jordan\",\"Jordan\",\"Jordan\",\"Kazakhstan\",\"Kazakhstan\",\"Kazakhstan\",\"Kazakhstan\",\"Kazakhstan\",\"Kazakhstan\",\"Kazakhstan\",\"Kazakhstan\",\"Kazakhstan\",\"Kazakhstan\",\"Kazakhstan\",\"Kazakhstan\",\"Kazakhstan\",\"Kazakhstan\",\"Kazakhstan\",\"Kazakhstan\",\"Kazakhstan\",\"Kazakhstan\",\"Kenya\",\"Kenya\",\"Kenya\",\"Kenya\",\"Kenya\",\"Kenya\",\"Kenya\",\"Kenya\",\"Kenya\",\"Kenya\",\"Kenya\",\"Kenya\",\"Kenya\",\"Kenya\",\"Kenya\",\"Kenya\",\"Kenya\",\"Kenya\",\"Kosovo\",\"Kosovo\",\"Kosovo\",\"Kosovo\",\"Kosovo\",\"Kosovo\",\"Kosovo\",\"Kosovo\",\"Kosovo\",\"Kosovo\",\"Kosovo\",\"Kosovo\",\"Kosovo\",\"Kosovo\",\"Kosovo\",\"Kosovo\",\"Kosovo\",\"Kuwait\",\"Kuwait\",\"Kuwait\",\"Kuwait\",\"Kuwait\",\"Kuwait\",\"Kuwait\",\"Kuwait\",\"Kuwait\",\"Kuwait\",\"Kuwait\",\"Kuwait\",\"Kuwait\",\"Kyrgyzstan\",\"Kyrgyzstan\",\"Kyrgyzstan\",\"Kyrgyzstan\",\"Kyrgyzstan\",\"Kyrgyzstan\",\"Kyrgyzstan\",\"Kyrgyzstan\",\"Kyrgyzstan\",\"Kyrgyzstan\",\"Kyrgyzstan\",\"Kyrgyzstan\",\"Kyrgyzstan\",\"Kyrgyzstan\",\"Kyrgyzstan\",\"Kyrgyzstan\",\"Kyrgyzstan\",\"Kyrgyzstan\",\"Laos\",\"Laos\",\"Laos\",\"Laos\",\"Laos\",\"Laos\",\"Laos\",\"Laos\",\"Laos\",\"Laos\",\"Laos\",\"Laos\",\"Latvia\",\"Latvia\",\"Latvia\",\"Latvia\",\"Latvia\",\"Latvia\",\"Latvia\",\"Latvia\",\"Latvia\",\"Latvia\",\"Latvia\",\"Latvia\",\"Latvia\",\"Latvia\",\"Latvia\",\"Latvia\",\"Latvia\",\"Lebanon\",\"Lebanon\",\"Lebanon\",\"Lebanon\",\"Lebanon\",\"Lebanon\",\"Lebanon\",\"Lebanon\",\"Lebanon\",\"Lebanon\",\"Lebanon\",\"Lebanon\",\"Lebanon\",\"Lebanon\",\"Lebanon\",\"Lebanon\",\"Lebanon\",\"Lebanon\",\"Lesotho\",\"Lesotho\",\"Lesotho\",\"Lesotho\",\"Lesotho\",\"Liberia\",\"Liberia\",\"Liberia\",\"Liberia\",\"Liberia\",\"Liberia\",\"Liberia\",\"Liberia\",\"Liberia\",\"Liberia\",\"Liberia\",\"Libya\",\"Libya\",\"Libya\",\"Libya\",\"Libya\",\"Libya\",\"Libya\",\"Libya\",\"Lithuania\",\"Lithuania\",\"Lithuania\",\"Lithuania\",\"Lithuania\",\"Lithuania\",\"Lithuania\",\"Lithuania\",\"Lithuania\",\"Lithuania\",\"Lithuania\",\"Lithuania\",\"Lithuania\",\"Lithuania\",\"Lithuania\",\"Lithuania\",\"Lithuania\",\"Lithuania\",\"Luxembourg\",\"Luxembourg\",\"Luxembourg\",\"Luxembourg\",\"Luxembourg\",\"Luxembourg\",\"Luxembourg\",\"Luxembourg\",\"Luxembourg\",\"Luxembourg\",\"Luxembourg\",\"Luxembourg\",\"Luxembourg\",\"Madagascar\",\"Madagascar\",\"Madagascar\",\"Madagascar\",\"Madagascar\",\"Madagascar\",\"Madagascar\",\"Madagascar\",\"Madagascar\",\"Madagascar\",\"Madagascar\",\"Madagascar\",\"Madagascar\",\"Malawi\",\"Malawi\",\"Malawi\",\"Malawi\",\"Malawi\",\"Malawi\",\"Malawi\",\"Malawi\",\"Malawi\",\"Malawi\",\"Malawi\",\"Malawi\",\"Malawi\",\"Malawi\",\"Malawi\",\"Malaysia\",\"Malaysia\",\"Malaysia\",\"Malaysia\",\"Malaysia\",\"Malaysia\",\"Malaysia\",\"Malaysia\",\"Malaysia\",\"Malaysia\",\"Malaysia\",\"Malaysia\",\"Malaysia\",\"Malaysia\",\"Malaysia\",\"Malaysia\",\"Maldives\",\"Mali\",\"Mali\",\"Mali\",\"Mali\",\"Mali\",\"Mali\",\"Mali\",\"Mali\",\"Mali\",\"Mali\",\"Mali\",\"Mali\",\"Mali\",\"Mali\",\"Mali\",\"Mali\",\"Mali\",\"Malta\",\"Malta\",\"Malta\",\"Malta\",\"Malta\",\"Malta\",\"Malta\",\"Malta\",\"Malta\",\"Malta\",\"Malta\",\"Malta\",\"Malta\",\"Malta\",\"Malta\",\"Mauritania\",\"Mauritania\",\"Mauritania\",\"Mauritania\",\"Mauritania\",\"Mauritania\",\"Mauritania\",\"Mauritania\",\"Mauritania\",\"Mauritania\",\"Mauritania\",\"Mauritania\",\"Mauritania\",\"Mauritania\",\"Mauritania\",\"Mauritius\",\"Mauritius\",\"Mauritius\",\"Mauritius\",\"Mauritius\",\"Mauritius\",\"Mauritius\",\"Mauritius\",\"Mauritius\",\"Mauritius\",\"Mexico\",\"Mexico\",\"Mexico\",\"Mexico\",\"Mexico\",\"Mexico\",\"Mexico\",\"Mexico\",\"Mexico\",\"Mexico\",\"Mexico\",\"Mexico\",\"Mexico\",\"Mexico\",\"Mexico\",\"Mexico\",\"Mexico\",\"Mexico\",\"Moldova\",\"Moldova\",\"Moldova\",\"Moldova\",\"Moldova\",\"Moldova\",\"Moldova\",\"Moldova\",\"Moldova\",\"Moldova\",\"Moldova\",\"Moldova\",\"Moldova\",\"Moldova\",\"Moldova\",\"Moldova\",\"Moldova\",\"Moldova\",\"Mongolia\",\"Mongolia\",\"Mongolia\",\"Mongolia\",\"Mongolia\",\"Mongolia\",\"Mongolia\",\"Mongolia\",\"Mongolia\",\"Mongolia\",\"Mongolia\",\"Mongolia\",\"Mongolia\",\"Mongolia\",\"Mongolia\",\"Mongolia\",\"Montenegro\",\"Montenegro\",\"Montenegro\",\"Montenegro\",\"Montenegro\",\"Montenegro\",\"Montenegro\",\"Montenegro\",\"Montenegro\",\"Montenegro\",\"Montenegro\",\"Montenegro\",\"Montenegro\",\"Montenegro\",\"Montenegro\",\"Morocco\",\"Morocco\",\"Morocco\",\"Morocco\",\"Morocco\",\"Morocco\",\"Morocco\",\"Morocco\",\"Morocco\",\"Morocco\",\"Morocco\",\"Morocco\",\"Morocco\",\"Mozambique\",\"Mozambique\",\"Mozambique\",\"Mozambique\",\"Mozambique\",\"Mozambique\",\"Mozambique\",\"Mozambique\",\"Mozambique\",\"Mozambique\",\"Mozambique\",\"Myanmar\",\"Myanmar\",\"Myanmar\",\"Myanmar\",\"Myanmar\",\"Myanmar\",\"Myanmar\",\"Myanmar\",\"Myanmar\",\"Myanmar\",\"Myanmar\",\"Myanmar\",\"Namibia\",\"Namibia\",\"Namibia\",\"Namibia\",\"Namibia\",\"Namibia\",\"Namibia\",\"Namibia\",\"Namibia\",\"Nepal\",\"Nepal\",\"Nepal\",\"Nepal\",\"Nepal\",\"Nepal\",\"Nepal\",\"Nepal\",\"Nepal\",\"Nepal\",\"Nepal\",\"Nepal\",\"Nepal\",\"Nepal\",\"Nepal\",\"Nepal\",\"Nepal\",\"Nepal\",\"Netherlands\",\"Netherlands\",\"Netherlands\",\"Netherlands\",\"Netherlands\",\"Netherlands\",\"Netherlands\",\"Netherlands\",\"Netherlands\",\"Netherlands\",\"Netherlands\",\"Netherlands\",\"Netherlands\",\"Netherlands\",\"Netherlands\",\"Netherlands\",\"Netherlands\",\"New Zealand\",\"New Zealand\",\"New Zealand\",\"New Zealand\",\"New Zealand\",\"New Zealand\",\"New Zealand\",\"New Zealand\",\"New Zealand\",\"New Zealand\",\"New Zealand\",\"New Zealand\",\"New Zealand\",\"New Zealand\",\"New Zealand\",\"New Zealand\",\"New Zealand\",\"Nicaragua\",\"Nicaragua\",\"Nicaragua\",\"Nicaragua\",\"Nicaragua\",\"Nicaragua\",\"Nicaragua\",\"Nicaragua\",\"Nicaragua\",\"Nicaragua\",\"Nicaragua\",\"Nicaragua\",\"Nicaragua\",\"Nicaragua\",\"Nicaragua\",\"Nicaragua\",\"Nicaragua\",\"Nicaragua\",\"Niger\",\"Niger\",\"Niger\",\"Niger\",\"Niger\",\"Niger\",\"Niger\",\"Niger\",\"Niger\",\"Niger\",\"Niger\",\"Niger\",\"Niger\",\"Niger\",\"Niger\",\"Niger\",\"Nigeria\",\"Nigeria\",\"Nigeria\",\"Nigeria\",\"Nigeria\",\"Nigeria\",\"Nigeria\",\"Nigeria\",\"Nigeria\",\"Nigeria\",\"Nigeria\",\"Nigeria\",\"Nigeria\",\"Nigeria\",\"Nigeria\",\"Nigeria\",\"North Macedonia\",\"North Macedonia\",\"North Macedonia\",\"North Macedonia\",\"North Macedonia\",\"North Macedonia\",\"North Macedonia\",\"North Macedonia\",\"North Macedonia\",\"North Macedonia\",\"North Macedonia\",\"North Macedonia\",\"North Macedonia\",\"North Macedonia\",\"North Macedonia\",\"North Macedonia\",\"Norway\",\"Norway\",\"Norway\",\"Norway\",\"Norway\",\"Norway\",\"Norway\",\"Norway\",\"Norway\",\"Norway\",\"Norway\",\"Norway\",\"Norway\",\"Oman\",\"Pakistan\",\"Pakistan\",\"Pakistan\",\"Pakistan\",\"Pakistan\",\"Pakistan\",\"Pakistan\",\"Pakistan\",\"Pakistan\",\"Pakistan\",\"Pakistan\",\"Pakistan\",\"Pakistan\",\"Pakistan\",\"Pakistan\",\"Pakistan\",\"Pakistan\",\"Pakistan\",\"Panama\",\"Panama\",\"Panama\",\"Panama\",\"Panama\",\"Panama\",\"Panama\",\"Panama\",\"Panama\",\"Panama\",\"Panama\",\"Panama\",\"Panama\",\"Panama\",\"Panama\",\"Panama\",\"Panama\",\"Paraguay\",\"Paraguay\",\"Paraguay\",\"Paraguay\",\"Paraguay\",\"Paraguay\",\"Paraguay\",\"Paraguay\",\"Paraguay\",\"Paraguay\",\"Paraguay\",\"Paraguay\",\"Paraguay\",\"Paraguay\",\"Paraguay\",\"Paraguay\",\"Paraguay\",\"Peru\",\"Peru\",\"Peru\",\"Peru\",\"Peru\",\"Peru\",\"Peru\",\"Peru\",\"Peru\",\"Peru\",\"Peru\",\"Peru\",\"Peru\",\"Peru\",\"Peru\",\"Peru\",\"Peru\",\"Peru\",\"Philippines\",\"Philippines\",\"Philippines\",\"Philippines\",\"Philippines\",\"Philippines\",\"Philippines\",\"Philippines\",\"Philippines\",\"Philippines\",\"Philippines\",\"Philippines\",\"Philippines\",\"Philippines\",\"Philippines\",\"Philippines\",\"Philippines\",\"Philippines\",\"Poland\",\"Poland\",\"Poland\",\"Poland\",\"Poland\",\"Poland\",\"Poland\",\"Poland\",\"Poland\",\"Poland\",\"Poland\",\"Poland\",\"Poland\",\"Poland\",\"Poland\",\"Poland\",\"Poland\",\"Portugal\",\"Portugal\",\"Portugal\",\"Portugal\",\"Portugal\",\"Portugal\",\"Portugal\",\"Portugal\",\"Portugal\",\"Portugal\",\"Portugal\",\"Portugal\",\"Portugal\",\"Portugal\",\"Portugal\",\"Portugal\",\"Qatar\",\"Qatar\",\"Qatar\",\"Qatar\",\"Qatar\",\"Romania\",\"Romania\",\"Romania\",\"Romania\",\"Romania\",\"Romania\",\"Romania\",\"Romania\",\"Romania\",\"Romania\",\"Romania\",\"Romania\",\"Romania\",\"Romania\",\"Romania\",\"Romania\",\"Romania\",\"Russia\",\"Russia\",\"Russia\",\"Russia\",\"Russia\",\"Russia\",\"Russia\",\"Russia\",\"Russia\",\"Russia\",\"Russia\",\"Russia\",\"Russia\",\"Russia\",\"Russia\",\"Russia\",\"Russia\",\"Russia\",\"Rwanda\",\"Rwanda\",\"Rwanda\",\"Rwanda\",\"Rwanda\",\"Rwanda\",\"Rwanda\",\"Rwanda\",\"Rwanda\",\"Rwanda\",\"Rwanda\",\"Rwanda\",\"Saudi Arabia\",\"Saudi Arabia\",\"Saudi Arabia\",\"Saudi Arabia\",\"Saudi Arabia\",\"Saudi Arabia\",\"Saudi Arabia\",\"Saudi Arabia\",\"Saudi Arabia\",\"Saudi Arabia\",\"Saudi Arabia\",\"Saudi Arabia\",\"Saudi Arabia\",\"Saudi Arabia\",\"Saudi Arabia\",\"Saudi Arabia\",\"Saudi Arabia\",\"Saudi Arabia\",\"Senegal\",\"Senegal\",\"Senegal\",\"Senegal\",\"Senegal\",\"Senegal\",\"Senegal\",\"Senegal\",\"Senegal\",\"Senegal\",\"Senegal\",\"Senegal\",\"Senegal\",\"Senegal\",\"Senegal\",\"Senegal\",\"Senegal\",\"Senegal\",\"Serbia\",\"Serbia\",\"Serbia\",\"Serbia\",\"Serbia\",\"Serbia\",\"Serbia\",\"Serbia\",\"Serbia\",\"Serbia\",\"Serbia\",\"Serbia\",\"Serbia\",\"Serbia\",\"Serbia\",\"Serbia\",\"Sierra Leone\",\"Sierra Leone\",\"Sierra Leone\",\"Sierra Leone\",\"Sierra Leone\",\"Sierra Leone\",\"Sierra Leone\",\"Sierra Leone\",\"Sierra Leone\",\"Sierra Leone\",\"Sierra Leone\",\"Sierra Leone\",\"Sierra Leone\",\"Sierra Leone\",\"Sierra Leone\",\"Singapore\",\"Singapore\",\"Singapore\",\"Singapore\",\"Singapore\",\"Singapore\",\"Singapore\",\"Singapore\",\"Singapore\",\"Singapore\",\"Singapore\",\"Singapore\",\"Singapore\",\"Singapore\",\"Singapore\",\"Singapore\",\"Slovakia\",\"Slovakia\",\"Slovakia\",\"Slovakia\",\"Slovakia\",\"Slovakia\",\"Slovakia\",\"Slovakia\",\"Slovakia\",\"Slovakia\",\"Slovakia\",\"Slovakia\",\"Slovakia\",\"Slovakia\",\"Slovakia\",\"Slovenia\",\"Slovenia\",\"Slovenia\",\"Slovenia\",\"Slovenia\",\"Slovenia\",\"Slovenia\",\"Slovenia\",\"Slovenia\",\"Slovenia\",\"Slovenia\",\"Slovenia\",\"Slovenia\",\"Slovenia\",\"Slovenia\",\"Slovenia\",\"Somalia\",\"Somalia\",\"Somalia\",\"Somaliland region\",\"Somaliland region\",\"Somaliland region\",\"Somaliland region\",\"South Africa\",\"South Africa\",\"South Africa\",\"South Africa\",\"South Africa\",\"South Africa\",\"South Africa\",\"South Africa\",\"South Africa\",\"South Africa\",\"South Africa\",\"South Africa\",\"South Africa\",\"South Africa\",\"South Africa\",\"South Africa\",\"South Africa\",\"South Africa\",\"South Korea\",\"South Korea\",\"South Korea\",\"South Korea\",\"South Korea\",\"South Korea\",\"South Korea\",\"South Korea\",\"South Korea\",\"South Korea\",\"South Korea\",\"South Korea\",\"South Korea\",\"South Korea\",\"South Korea\",\"South Korea\",\"South Korea\",\"South Korea\",\"South Sudan\",\"South Sudan\",\"South Sudan\",\"South Sudan\",\"Spain\",\"Spain\",\"Spain\",\"Spain\",\"Spain\",\"Spain\",\"Spain\",\"Spain\",\"Spain\",\"Spain\",\"Spain\",\"Spain\",\"Spain\",\"Spain\",\"Spain\",\"Spain\",\"Spain\",\"Spain\",\"Sri Lanka\",\"Sri Lanka\",\"Sri Lanka\",\"Sri Lanka\",\"Sri Lanka\",\"Sri Lanka\",\"Sri Lanka\",\"Sri Lanka\",\"Sri Lanka\",\"Sri Lanka\",\"Sri Lanka\",\"Sri Lanka\",\"Sri Lanka\",\"Sri Lanka\",\"Sri Lanka\",\"Sri Lanka\",\"Sri Lanka\",\"State of Palestine\",\"State of Palestine\",\"State of Palestine\",\"State of Palestine\",\"State of Palestine\",\"State of Palestine\",\"State of Palestine\",\"State of Palestine\",\"State of Palestine\",\"State of Palestine\",\"State of Palestine\",\"State of Palestine\",\"State of Palestine\",\"State of Palestine\",\"State of Palestine\",\"State of Palestine\",\"Sudan\",\"Sudan\",\"Sudan\",\"Sudan\",\"Sudan\",\"Suriname\",\"Sweden\",\"Sweden\",\"Sweden\",\"Sweden\",\"Sweden\",\"Sweden\",\"Sweden\",\"Sweden\",\"Sweden\",\"Sweden\",\"Sweden\",\"Sweden\",\"Sweden\",\"Sweden\",\"Sweden\",\"Sweden\",\"Sweden\",\"Sweden\",\"Switzerland\",\"Switzerland\",\"Switzerland\",\"Switzerland\",\"Switzerland\",\"Switzerland\",\"Switzerland\",\"Switzerland\",\"Switzerland\",\"Switzerland\",\"Switzerland\",\"Switzerland\",\"Switzerland\",\"Syria\",\"Syria\",\"Syria\",\"Syria\",\"Syria\",\"Syria\",\"Syria\",\"Taiwan Province of China\",\"Taiwan Province of China\",\"Taiwan Province of China\",\"Taiwan Province of China\",\"Taiwan Province of China\",\"Taiwan Province of China\",\"Taiwan Province of China\",\"Taiwan Province of China\",\"Taiwan Province of China\",\"Taiwan Province of China\",\"Taiwan Province of China\",\"Taiwan Province of China\",\"Taiwan Province of China\",\"Taiwan Province of China\",\"Taiwan Province of China\",\"Taiwan Province of China\",\"Tajikistan\",\"Tajikistan\",\"Tajikistan\",\"Tajikistan\",\"Tajikistan\",\"Tajikistan\",\"Tajikistan\",\"Tajikistan\",\"Tajikistan\",\"Tajikistan\",\"Tajikistan\",\"Tajikistan\",\"Tajikistan\",\"Tajikistan\",\"Tajikistan\",\"Tajikistan\",\"Tajikistan\",\"Tajikistan\",\"Tanzania\",\"Tanzania\",\"Tanzania\",\"Tanzania\",\"Tanzania\",\"Tanzania\",\"Tanzania\",\"Tanzania\",\"Tanzania\",\"Tanzania\",\"Tanzania\",\"Tanzania\",\"Tanzania\",\"Tanzania\",\"Tanzania\",\"Tanzania\",\"Tanzania\",\"Tanzania\",\"Thailand\",\"Thailand\",\"Thailand\",\"Thailand\",\"Thailand\",\"Thailand\",\"Thailand\",\"Thailand\",\"Thailand\",\"Thailand\",\"Thailand\",\"Thailand\",\"Thailand\",\"Thailand\",\"Thailand\",\"Thailand\",\"Thailand\",\"Thailand\",\"Togo\",\"Togo\",\"Togo\",\"Togo\",\"Togo\",\"Togo\",\"Togo\",\"Togo\",\"Togo\",\"Togo\",\"Togo\",\"Togo\",\"Trinidad and Tobago\",\"Trinidad and Tobago\",\"Trinidad and Tobago\",\"Trinidad and Tobago\",\"Trinidad and Tobago\",\"Tunisia\",\"Tunisia\",\"Tunisia\",\"Tunisia\",\"Tunisia\",\"Tunisia\",\"Tunisia\",\"Tunisia\",\"Tunisia\",\"Tunisia\",\"Tunisia\",\"Tunisia\",\"Tunisia\",\"Tunisia\",\"Tunisia\",\"Turkmenistan\",\"Turkmenistan\",\"Turkmenistan\",\"Turkmenistan\",\"Turkmenistan\",\"Turkmenistan\",\"Turkmenistan\",\"Turkmenistan\",\"Turkmenistan\",\"Turkmenistan\",\"Türkiye\",\"Türkiye\",\"Türkiye\",\"Türkiye\",\"Türkiye\",\"Türkiye\",\"Türkiye\",\"Türkiye\",\"Türkiye\",\"Türkiye\",\"Türkiye\",\"Türkiye\",\"Türkiye\",\"Türkiye\",\"Türkiye\",\"Türkiye\",\"Türkiye\",\"Türkiye\",\"Uganda\",\"Uganda\",\"Uganda\",\"Uganda\",\"Uganda\",\"Uganda\",\"Uganda\",\"Uganda\",\"Uganda\",\"Uganda\",\"Uganda\",\"Uganda\",\"Uganda\",\"Uganda\",\"Uganda\",\"Uganda\",\"Uganda\",\"Uganda\",\"Ukraine\",\"Ukraine\",\"Ukraine\",\"Ukraine\",\"Ukraine\",\"Ukraine\",\"Ukraine\",\"Ukraine\",\"Ukraine\",\"Ukraine\",\"Ukraine\",\"Ukraine\",\"Ukraine\",\"Ukraine\",\"Ukraine\",\"Ukraine\",\"Ukraine\",\"Ukraine\",\"United Arab Emirates\",\"United Arab Emirates\",\"United Arab Emirates\",\"United Arab Emirates\",\"United Arab Emirates\",\"United Arab Emirates\",\"United Arab Emirates\",\"United Arab Emirates\",\"United Arab Emirates\",\"United Arab Emirates\",\"United Arab Emirates\",\"United Arab Emirates\",\"United Arab Emirates\",\"United Arab Emirates\",\"United Arab Emirates\",\"United Arab Emirates\",\"United Kingdom\",\"United Kingdom\",\"United Kingdom\",\"United Kingdom\",\"United Kingdom\",\"United Kingdom\",\"United Kingdom\",\"United Kingdom\",\"United Kingdom\",\"United Kingdom\",\"United Kingdom\",\"United Kingdom\",\"United Kingdom\",\"United Kingdom\",\"United Kingdom\",\"United Kingdom\",\"United Kingdom\",\"United Kingdom\",\"United States\",\"United States\",\"United States\",\"United States\",\"United States\",\"United States\",\"United States\",\"United States\",\"United States\",\"United States\",\"United States\",\"United States\",\"United States\",\"United States\",\"United States\",\"United States\",\"United States\",\"United States\",\"Uruguay\",\"Uruguay\",\"Uruguay\",\"Uruguay\",\"Uruguay\",\"Uruguay\",\"Uruguay\",\"Uruguay\",\"Uruguay\",\"Uruguay\",\"Uruguay\",\"Uruguay\",\"Uruguay\",\"Uruguay\",\"Uruguay\",\"Uruguay\",\"Uruguay\",\"Uruguay\",\"Uzbekistan\",\"Uzbekistan\",\"Uzbekistan\",\"Uzbekistan\",\"Uzbekistan\",\"Uzbekistan\",\"Uzbekistan\",\"Uzbekistan\",\"Uzbekistan\",\"Uzbekistan\",\"Uzbekistan\",\"Uzbekistan\",\"Uzbekistan\",\"Uzbekistan\",\"Uzbekistan\",\"Uzbekistan\",\"Uzbekistan\",\"Venezuela\",\"Venezuela\",\"Venezuela\",\"Venezuela\",\"Venezuela\",\"Venezuela\",\"Venezuela\",\"Venezuela\",\"Venezuela\",\"Venezuela\",\"Venezuela\",\"Venezuela\",\"Venezuela\",\"Venezuela\",\"Venezuela\",\"Venezuela\",\"Venezuela\",\"Venezuela\",\"Vietnam\",\"Vietnam\",\"Vietnam\",\"Vietnam\",\"Vietnam\",\"Vietnam\",\"Vietnam\",\"Vietnam\",\"Vietnam\",\"Vietnam\",\"Vietnam\",\"Vietnam\",\"Vietnam\",\"Vietnam\",\"Vietnam\",\"Vietnam\",\"Vietnam\",\"Vietnam\",\"Yemen\",\"Yemen\",\"Yemen\",\"Yemen\",\"Yemen\",\"Yemen\",\"Yemen\",\"Yemen\",\"Yemen\",\"Yemen\",\"Yemen\",\"Yemen\",\"Yemen\",\"Yemen\",\"Zambia\",\"Zambia\",\"Zambia\",\"Zambia\",\"Zambia\",\"Zambia\",\"Zambia\",\"Zambia\",\"Zambia\",\"Zambia\",\"Zambia\",\"Zambia\",\"Zambia\",\"Zambia\",\"Zambia\",\"Zambia\",\"Zambia\",\"Zimbabwe\",\"Zimbabwe\",\"Zimbabwe\",\"Zimbabwe\",\"Zimbabwe\",\"Zimbabwe\",\"Zimbabwe\",\"Zimbabwe\",\"Zimbabwe\",\"Zimbabwe\",\"Zimbabwe\",\"Zimbabwe\",\"Zimbabwe\",\"Zimbabwe\",\"Zimbabwe\",\"Zimbabwe\",\"Zimbabwe\",\"Zimbabwe\"],\"legendgroup\":\"\",\"marker\":{\"color\":[2008,2009,2010,2011,2012,2013,2014,2015,2016,2017,2018,2019,2021,2022,2023,2007,2009,2010,2011,2012,2013,2014,2015,2016,2017,2018,2019,2020,2021,2022,2023,2010,2011,2012,2014,2016,2017,2018,2019,2020,2021,2022,2011,2012,2013,2014,2006,2007,2008,2009,2010,2011,2012,2013,2014,2015,2016,2017,2018,2019,2020,2021,2022,2023,2006,2007,2008,2009,2010,2011,2012,2013,2014,2015,2016,2017,2018,2019,2021,2022,2023,2005,2007,2008,2010,2011,2012,2013,2014,2015,2016,2017,2018,2019,2020,2021,2022,2023,2006,2008,2010,2011,2012,2013,2014,2015,2016,2017,2018,2019,2020,2021,2022,2023,2006,2007,2008,2009,2010,2011,2012,2013,2014,2015,2016,2017,2018,2019,2022,2023,2009,2010,2011,2012,2013,2014,2015,2016,2017,2019,2020,2023,2006,2007,2008,2009,2010,2011,2012,2013,2014,2015,2016,2017,2018,2019,2020,2021,2022,2023,2006,2007,2008,2009,2010,2011,2012,2013,2014,2015,2016,2017,2018,2019,2005,2007,2008,2010,2011,2012,2013,2014,2015,2016,2017,2018,2019,2020,2021,2022,2023,2007,2014,2006,2008,2011,2012,2013,2014,2015,2016,2017,2018,2019,2020,2021,2022,2023,2013,2014,2015,2006,2007,2008,2009,2010,2011,2012,2013,2014,2015,2016,2017,2018,2019,2020,2021,2022,2023,2007,2009,2010,2011,2012,2013,2014,2015,2016,2017,2018,2019,2020,2021,2022,2023,2006,2008,2010,2011,2012,2013,2014,2015,2016,2017,2018,2019,2022,2023,2005,2007,2008,2009,2010,2011,2012,2013,2014,2015,2016,2017,2018,2019,2020,2021,2022,2023,2007,2010,2011,2012,2013,2014,2015,2016,2017,2018,2019,2020,2021,2022,2023,2006,2007,2008,2010,2011,2012,2013,2014,2015,2016,2017,2018,2019,2020,2021,2023,2008,2009,2011,2014,2018,2006,2007,2008,2009,2010,2011,2012,2013,2014,2015,2016,2017,2018,2019,2020,2021,2022,2023,2006,2007,2008,2009,2010,2011,2012,2013,2014,2015,2016,2017,2018,2019,2020,2021,2022,2023,2005,2007,2008,2009,2010,2011,2012,2013,2014,2015,2016,2017,2018,2019,2020,2021,2022,2023,2007,2010,2011,2016,2017,2006,2007,2008,2009,2010,2011,2012,2013,2014,2015,2016,2017,2018,2019,2022,2023,2006,2007,2008,2009,2010,2011,2012,2013,2014,2015,2016,2017,2018,2019,2020,2021,2022,2023,2006,2007,2008,2009,2010,2011,2012,2013,2014,2015,2016,2017,2018,2019,2020,2021,2023,2006,2007,2008,2009,2010,2011,2012,2013,2014,2015,2016,2017,2018,2019,2020,2021,2022,2023,2009,2010,2011,2012,2018,2019,2022,2023,2008,2011,2012,2013,2014,2015,2016,2017,2018,2019,2020,2021,2022,2023,2009,2011,2012,2013,2014,2015,2016,2017,2022,2023,2006,2007,2008,2009,2010,2011,2012,2013,2014,2015,2016,2017,2018,2019,2020,2021,2022,2023,2007,2009,2010,2011,2012,2013,2014,2015,2016,2017,2018,2019,2020,2021,2022,2023,2006,2006,2009,2010,2011,2012,2013,2014,2015,2016,2017,2018,2019,2020,2021,2022,2023,2005,2007,2010,2011,2012,2013,2014,2015,2016,2017,2018,2020,2021,2022,2023,2005,2007,2008,2009,2010,2011,2012,2013,2014,2015,2016,2017,2018,2019,2020,2021,2022,2023,2008,2009,2010,2011,2006,2007,2008,2009,2010,2011,2012,2013,2014,2015,2016,2017,2018,2019,2020,2021,2022,2023,2006,2007,2008,2009,2010,2011,2012,2013,2014,2015,2016,2017,2018,2019,2020,2021,2022,2023,2005,2007,2008,2009,2010,2011,2012,2013,2014,2015,2016,2017,2018,2019,2020,2021,2022,2023,2006,2007,2008,2009,2010,2011,2012,2013,2014,2015,2016,2017,2018,2019,2020,2021,2022,2023,2006,2007,2008,2009,2011,2012,2013,2014,2015,2016,2017,2018,2019,2020,2021,2022,2023,2011,2018,2019,2022,2012,2013,2014,2015,2016,2017,2018,2019,2020,2022,2023,2006,2008,2010,2011,2012,2013,2014,2015,2016,2017,2018,2019,2020,2021,2022,2023,2005,2006,2008,2009,2010,2011,2012,2013,2014,2015,2016,2017,2018,2019,2020,2021,2022,2023,2011,2012,2013,2014,2015,2016,2017,2018,2019,2020,2021,2022,2023,2017,2018,2019,2022,2023,2006,2007,2008,2009,2010,2011,2012,2013,2014,2015,2016,2017,2018,2019,2020,2021,2022,2023,2005,2007,2008,2009,2010,2011,2012,2013,2014,2015,2016,2017,2018,2019,2020,2021,2022,2023,2006,2007,2008,2009,2010,2011,2012,2013,2014,2015,2016,2017,2018,2019,2020,2021,2022,2023,2005,2007,2009,2010,2011,2012,2013,2014,2015,2016,2017,2018,2019,2020,2021,2022,2023,2006,2007,2008,2009,2010,2011,2012,2013,2014,2015,2016,2017,2018,2019,2022,2023,2011,2012,2013,2014,2015,2016,2017,2018,2019,2020,2021,2022,2023,2007,2006,2008,2010,2011,2012,2013,2014,2015,2016,2017,2018,2006,2007,2008,2009,2010,2011,2012,2013,2014,2015,2016,2017,2018,2019,2021,2022,2023,2006,2008,2009,2010,2011,2012,2014,2016,2017,2019,2020,2021,2022,2005,2007,2009,2010,2011,2012,2013,2014,2015,2016,2017,2018,2019,2020,2021,2022,2023,2008,2012,2013,2015,2016,2017,2019,2020,2021,2022,2023,2006,2007,2008,2009,2010,2011,2012,2013,2014,2015,2016,2017,2018,2019,2020,2021,2022,2023,2006,2007,2008,2009,2010,2011,2012,2013,2014,2015,2016,2017,2018,2019,2020,2021,2022,2023,2005,2007,2008,2011,2012,2013,2014,2015,2016,2017,2018,2019,2020,2021,2022,2023,2008,2009,2010,2011,2012,2013,2014,2015,2016,2017,2018,2020,2021,2022,2023,2006,2008,2009,2010,2011,2012,2013,2014,2015,2016,2017,2018,2019,2020,2021,2022,2023,2006,2007,2008,2009,2010,2011,2012,2013,2014,2015,2016,2017,2018,2019,2020,2021,2022,2023,2005,2007,2008,2009,2010,2011,2012,2013,2014,2015,2016,2017,2018,2019,2020,2021,2022,2023,2009,2013,2014,2015,2016,2017,2018,2019,2020,2021,2022,2023,2006,2011,2013,2014,2017,2019,2020,2021,2022,2005,2007,2008,2009,2010,2011,2012,2013,2014,2015,2016,2017,2018,2019,2020,2021,2022,2023,2005,2007,2008,2009,2010,2011,2012,2013,2014,2015,2016,2017,2018,2019,2020,2021,2022,2023,2006,2007,2008,2009,2010,2011,2012,2013,2014,2015,2016,2017,2018,2019,2020,2021,2022,2023,2006,2007,2008,2009,2010,2011,2012,2013,2014,2015,2016,2017,2018,2019,2020,2021,2022,2023,2007,2008,2009,2010,2011,2012,2013,2014,2015,2016,2017,2018,2019,2020,2021,2022,2023,2006,2009,2010,2011,2012,2013,2014,2015,2016,2017,2019,2022,2023,2006,2007,2008,2009,2010,2011,2012,2013,2014,2015,2016,2017,2018,2019,2020,2021,2022,2023,2006,2007,2008,2011,2012,2017,2018,2019,2020,2021,2022,2023,2006,2007,2008,2009,2011,2012,2013,2014,2015,2016,2017,2018,2019,2020,2021,2022,2023,2005,2006,2008,2009,2010,2011,2012,2013,2014,2015,2016,2017,2018,2019,2020,2021,2022,2023,2011,2016,2017,2019,2022,2007,2008,2010,2014,2015,2016,2017,2018,2019,2022,2023,2012,2015,2016,2017,2018,2019,2022,2023,2006,2007,2008,2009,2010,2011,2012,2013,2014,2015,2016,2017,2018,2019,2020,2021,2022,2023,2009,2010,2011,2012,2013,2014,2015,2016,2017,2018,2019,2022,2023,2006,2008,2011,2012,2013,2014,2015,2016,2017,2018,2019,2022,2023,2006,2007,2009,2011,2012,2013,2014,2015,2016,2017,2018,2019,2021,2022,2023,2006,2007,2008,2009,2010,2011,2012,2013,2014,2015,2018,2019,2020,2021,2022,2023,2018,2006,2008,2009,2010,2011,2012,2013,2014,2015,2016,2017,2018,2019,2020,2021,2022,2023,2009,2010,2011,2012,2013,2014,2015,2016,2017,2018,2019,2020,2021,2022,2023,2007,2008,2009,2010,2011,2012,2013,2014,2015,2016,2017,2018,2019,2022,2023,2011,2014,2016,2017,2018,2019,2020,2021,2022,2023,2005,2007,2008,2009,2010,2011,2012,2013,2014,2015,2016,2017,2018,2019,2020,2021,2022,2023,2006,2007,2008,2009,2010,2011,2012,2013,2014,2015,2016,2017,2018,2019,2020,2021,2022,2023,2007,2008,2010,2011,2012,2013,2014,2015,2016,2017,2018,2019,2020,2021,2022,2023,2007,2009,2010,2011,2012,2013,2014,2015,2016,2017,2018,2019,2020,2022,2023,2010,2011,2012,2013,2015,2016,2017,2018,2019,2020,2021,2022,2023,2006,2007,2008,2011,2015,2017,2018,2019,2021,2022,2023,2012,2013,2014,2015,2016,2017,2018,2019,2020,2021,2022,2023,2007,2014,2017,2018,2019,2020,2021,2022,2023,2006,2007,2008,2009,2010,2011,2012,2013,2014,2015,2016,2017,2018,2019,2020,2021,2022,2023,2005,2007,2008,2010,2011,2012,2013,2014,2015,2016,2017,2018,2019,2020,2021,2022,2023,2006,2007,2008,2010,2011,2012,2013,2014,2015,2016,2017,2018,2019,2020,2021,2022,2023,2006,2007,2008,2009,2010,2011,2012,2013,2014,2015,2016,2017,2018,2019,2020,2021,2022,2023,2006,2007,2008,2009,2010,2011,2012,2013,2014,2015,2016,2017,2018,2019,2022,2023,2006,2007,2008,2009,2010,2012,2013,2015,2016,2017,2018,2019,2020,2021,2022,2023,2007,2009,2010,2011,2012,2013,2014,2015,2016,2017,2018,2019,2020,2021,2022,2023,2006,2008,2012,2014,2015,2016,2017,2018,2019,2020,2021,2022,2023,2011,2005,2007,2008,2009,2010,2011,2012,2013,2014,2015,2016,2017,2018,2019,2020,2021,2022,2023,2006,2007,2008,2009,2010,2011,2012,2013,2014,2015,2016,2017,2018,2019,2021,2022,2023,2006,2007,2008,2009,2010,2011,2012,2013,2014,2015,2016,2017,2019,2020,2021,2022,2023,2006,2007,2008,2009,2010,2011,2012,2013,2014,2015,2016,2017,2018,2019,2020,2021,2022,2023,2006,2007,2008,2009,2010,2011,2012,2013,2014,2015,2016,2017,2018,2019,2020,2021,2022,2023,2005,2007,2009,2010,2011,2012,2013,2014,2015,2016,2017,2018,2019,2020,2021,2022,2023,2006,2008,2010,2011,2012,2013,2014,2015,2016,2017,2018,2019,2020,2021,2022,2023,2009,2010,2011,2012,2015,2005,2007,2009,2010,2011,2012,2013,2014,2015,2016,2017,2018,2019,2020,2021,2022,2023,2006,2007,2008,2009,2010,2011,2012,2013,2014,2015,2016,2017,2018,2019,2020,2021,2022,2023,2006,2008,2009,2011,2012,2013,2014,2015,2016,2017,2018,2019,2005,2007,2008,2009,2010,2011,2012,2013,2014,2015,2016,2017,2018,2019,2020,2021,2022,2023,2006,2007,2008,2009,2010,2011,2012,2013,2014,2015,2016,2017,2018,2019,2020,2021,2022,2023,2007,2009,2010,2011,2012,2013,2014,2015,2016,2017,2018,2019,2020,2021,2022,2023,2006,2007,2008,2010,2011,2013,2014,2015,2016,2017,2018,2019,2021,2022,2023,2006,2007,2008,2009,2010,2011,2013,2014,2015,2016,2017,2018,2019,2021,2022,2023,2006,2010,2011,2012,2013,2014,2015,2016,2017,2018,2019,2020,2021,2022,2023,2006,2009,2010,2011,2012,2013,2014,2015,2016,2017,2018,2019,2020,2021,2022,2023,2014,2015,2016,2009,2010,2011,2012,2006,2007,2008,2009,2010,2011,2012,2013,2014,2015,2016,2017,2018,2019,2020,2021,2022,2023,2006,2007,2008,2009,2010,2011,2012,2013,2014,2015,2016,2017,2018,2019,2020,2021,2022,2023,2014,2015,2016,2017,2005,2007,2008,2009,2010,2011,2012,2013,2014,2015,2016,2017,2018,2019,2020,2021,2022,2023,2006,2007,2008,2009,2010,2011,2012,2013,2014,2015,2017,2018,2019,2020,2021,2022,2023,2006,2007,2008,2009,2010,2011,2012,2013,2014,2015,2016,2017,2018,2019,2022,2023,2009,2010,2011,2012,2014,2012,2005,2007,2008,2009,2010,2011,2012,2013,2014,2015,2016,2017,2018,2019,2020,2021,2022,2023,2006,2009,2012,2014,2015,2016,2017,2018,2019,2020,2021,2022,2023,2008,2009,2010,2011,2012,2013,2015,2006,2008,2010,2011,2012,2013,2014,2015,2016,2017,2018,2019,2020,2021,2022,2023,2006,2007,2008,2009,2010,2011,2012,2013,2014,2015,2016,2017,2018,2019,2020,2021,2022,2023,2006,2007,2008,2009,2010,2011,2012,2013,2014,2015,2016,2017,2018,2019,2020,2021,2022,2023,2006,2007,2008,2009,2010,2011,2012,2013,2014,2015,2016,2017,2018,2019,2020,2021,2022,2023,2006,2008,2011,2014,2015,2016,2017,2018,2019,2021,2022,2023,2006,2008,2011,2013,2017,2009,2010,2011,2012,2013,2014,2015,2016,2017,2018,2019,2020,2021,2022,2023,2009,2011,2012,2013,2014,2015,2016,2017,2018,2019,2005,2007,2008,2009,2010,2011,2012,2013,2014,2015,2016,2017,2018,2019,2020,2021,2022,2023,2006,2007,2008,2009,2010,2011,2012,2013,2014,2015,2016,2017,2018,2019,2020,2021,2022,2023,2006,2007,2008,2009,2010,2011,2012,2013,2014,2015,2016,2017,2018,2019,2020,2021,2022,2023,2006,2009,2010,2011,2012,2013,2014,2015,2016,2017,2018,2019,2020,2021,2022,2023,2005,2007,2008,2009,2010,2011,2012,2013,2014,2015,2016,2017,2018,2019,2020,2021,2022,2023,2006,2007,2008,2009,2010,2011,2012,2013,2014,2015,2016,2017,2018,2019,2020,2021,2022,2023,2006,2007,2008,2009,2010,2011,2012,2013,2014,2015,2016,2017,2018,2019,2020,2021,2022,2023,2006,2008,2009,2010,2011,2012,2013,2014,2015,2016,2017,2018,2019,2020,2021,2022,2023,2005,2006,2008,2009,2010,2011,2012,2013,2014,2015,2016,2017,2018,2019,2020,2021,2022,2023,2006,2007,2008,2009,2010,2011,2012,2013,2014,2015,2016,2017,2018,2019,2020,2021,2022,2023,2007,2009,2010,2011,2012,2013,2014,2015,2016,2017,2018,2019,2022,2023,2006,2007,2008,2009,2011,2012,2013,2014,2015,2016,2017,2018,2019,2020,2021,2022,2023,2006,2007,2008,2009,2010,2011,2012,2013,2014,2015,2016,2017,2018,2019,2020,2021,2022,2023],\"coloraxis\":\"coloraxis\",\"symbol\":\"circle\"},\"mode\":\"markers\",\"name\":\"\",\"showlegend\":false,\"x\":[5.8059554,6.1115556,6.463324,6.572785,6.816302,7.1939898,7.6097693,7.607111,7.82399,8.372322,8.459242,8.538845,8.845901,9.169358,9.166784,14.017641,12.213009,12.178632,11.811811,11.7561035,11.674861,11.665481,11.647431,11.641338,11.650726,11.620102,11.635719,11.500555,11.550363,11.551627,11.516085,13.753966,13.646947,13.0931015,12.476368,13.579583,13.512534,13.587938,13.730895,13.348873,13.406814,13.245878,6.44181,6.7484775,6.995403,7.0660286,12.169211,12.147582,12.078934,11.555775,11.339478,11.161412,11.280579,11.081531,10.884959,10.794256,10.882421,11.386028,11.444436,11.320876,11.489234,11.415577,10.891944,10.770941,15.370945,15.049313,15.117623,14.999548,14.919625,14.900095,14.834505,14.746219,14.640806,14.538367,14.486339,14.278706,13.443188,12.046368,11.968819,11.693636,11.5879965,6.234461,6.336901,6.282815,5.981005,5.891415,5.9769588,5.665112,5.614807,5.5307474,5.5650563,5.476937,5.609313,5.5394125,5.5410314,5.5156097,5.9147787,5.8964615,7.1138344,6.875777,6.3904805,6.3792243,6.3160844,6.2701917,6.4921627,6.3087115,6.2260528,5.6545563,5.5516024,5.579132,5.529622,5.85029,5.969215,6.1620603,13.666225,13.667846,13.738988,13.864102,13.940793,13.975345,13.996636,13.895919,13.938767,13.941042,13.942025,13.953239,13.944498,13.924599,15.205545,14.358024,13.424729,13.287042,13.667563,13.623346,20.51355,20.27806,20.37398,20.388094,20.388573,20.271492,20.36228,20.331394,12.992556,13.81382,14.022238,14.2027,14.573161,14.706054,14.863551,14.726808,14.8101,14.759422,14.762072,14.798857,14.760284,14.305125,14.24362,15.023243,15.031809,15.007288,13.182825,13.221895,13.546305,13.627971,13.773848,13.920877,13.509172,13.398883,13.590276,13.456624,13.90027,13.481792,13.683548,12.241587,7.7155285,7.705039,7.679562,7.6934404,7.592303,7.581562,7.0661798,7.1054645,6.854037,6.725807,6.514054,6.4453106,6.4672103,6.434878,5.927115,5.925102,5.9787216,13.643892,13.52315,7.2264605,7.467781,8.1730795,8.463974,8.648366,8.828104,9.022031,9.192731,9.140248,9.332739,9.641202,10.141434,10.454657,10.653478,10.653806,14.624359,14.367378,14.366896,13.926573,13.992084,14.406535,14.887993,14.842385,14.846155,14.938875,14.878254,14.842041,14.749542,14.7069,14.672318,14.604834,14.605131,14.612701,14.528536,14.226894,14.203974,13.763827,13.756934,14.010306,13.734454,13.928561,13.630613,13.540422,13.583024,13.504328,13.571852,11.71897,11.6651125,11.91996,11.7056265,11.641724,11.552385,5.211659,5.4428625,6.298146,6.5590405,6.511089,6.8101397,6.9483266,7.0304465,7.104349,7.156618,7.210577,7.326517,8.707837,8.772901,14.103494,13.978813,13.251611,13.07511,13.004513,12.94125,12.911021,12.841211,12.777566,12.715043,12.669685,12.632436,12.66445,12.534814,12.599193,12.528946,12.367496,12.249474,14.873805,14.775867,14.758575,14.669415,14.684523,14.549799,13.694882,13.624201,13.533262,13.507216,13.389479,12.319606,12.486428,12.517636,12.387339,5.2692623,5.474951,5.754585,6.3873057,6.6683555,7.1096272,7.681914,7.8527746,8.193801,8.437066,8.636643,9.022986,9.225931,9.586657,9.876061,10.980945,5.5500183,5.705146,6.8800693,8.304596,9.8393,12.129823,12.182764,12.331745,12.7149315,12.968517,13.2378645,13.523615,13.586212,13.745042,14.143865,14.276394,14.38926,14.581641,14.663249,14.759282,14.821334,14.882248,14.859032,4.5123634,4.7202196,4.866379,5.013517,5.3543735,5.6938744,5.8988647,6.3177166,6.5390644,6.715814,7.3325834,7.850409,8.296652,8.898618,9.373043,9.886724,10.5589695,10.926469,5.6049123,5.3713713,5.2733326,5.2547116,5.1565003,5.212832,5.135806,5.1069436,5.0383115,4.9615016,5.05997,4.613383,5.3273335,5.836752,5.9577327,6.0225086,6.1114817,6.1692743,3.4056525,3.4165866,3.4279847,3.8446796,3.9378655,4.1909733,4.384172,4.4703774,4.6055074,4.794972,4.8995166,5.2203197,5.4755907,5.607739,5.908005,6.1418076,6.5107107,6.7026496,7.0222692,8.027404,8.231076,11.12563,11.10273,11.155374,10.242323,9.916235,9.820771,9.763051,9.69199,9.6279745,9.220429,9.20587,9.159308,9.108124,9.115603,9.0876,8.928549,8.868066,8.764138,13.853402,13.69296,13.654371,13.698802,13.546372,13.1992,13.163694,13.064358,12.907352,12.872665,12.841677,12.626825,12.556504,12.494075,11.638664,11.525954,11.355384,12.665454,12.626106,12.513486,12.254974,11.70733,11.599468,11.538003,11.443968,11.354572,11.3501425,11.379176,11.413982,11.408211,11.302065,11.3351,11.533957,11.219783,11.168172,11.814628,11.896622,11.992961,12.010316,12.62047,12.665798,13.413089,13.428428,7.2439766,7.9863925,8.373158,8.460197,8.637281,9.116454,9.56254,9.676835,9.930772,10.145913,10.41805,10.643941,10.779248,11.064232,5.3456874,5.961417,6.190806,6.597596,6.944764,7.463515,7.7861156,8.099954,10.114351,10.27576,9.917211,9.89969,9.896046,9.9401865,9.901807,9.9213085,9.950851,9.94985,9.969781,9.87919,9.972481,9.968101,9.9768305,9.955407,9.20695,9.159406,9.965063,9.941014,11.497984,11.407054,11.26983,11.279915,10.716456,10.723369,10.670627,10.568048,10.497065,10.36531,10.228985,10.014135,9.499026,9.39649,9.549452,9.247199,12.123001,8.518126,6.5765333,6.9963956,6.6629186,7.274848,7.467767,7.4646163,7.441127,7.324259,6.832586,6.6827507,6.69836,6.587526,6.6424255,6.8014383,12.101709,10.632088,10.570712,10.400945,10.126932,9.979967,9.772098,9.740891,9.656967,9.552829,9.461666,7.919989,7.902319,7.753506,7.771456,7.7487864,6.7113123,6.673622,6.61555,6.6011887,6.5296946,6.4541454,6.21428,6.0429897,5.8370714,5.3014207,5.095651,4.981709,4.643947,4.5387096,4.5052314,4.3653984,4.3298426,4.30977,8.146351,8.625639,9.085701,9.437186,13.963843,14.1223545,14.491294,14.273324,14.963036,14.310698,15.064902,13.979937,13.881264,13.970727,13.914543,13.652549,13.62024,13.392548,14.331123,13.549506,13.715504,13.46114,14.641571,14.411548,13.947099,12.874535,12.944344,12.8236265,12.652481,12.414446,12.101213,11.8709,11.716472,11.725887,11.48127,11.594802,11.533949,11.519755,11.315467,11.288515,14.213924,14.217172,13.905764,13.91892,13.948839,13.944461,13.939618,13.981616,13.951369,14.003895,14.064092,15.658534,15.691974,15.685596,15.678552,15.611085,15.671105,15.619463,13.655765,14.063504,14.262784,13.523164,13.608642,14.937761,14.11248,14.03137,14.286205,14.280398,14.11952,13.779936,13.64157,13.434371,13.814469,12.635309,12.584627,12.491215,13.326848,13.205016,12.601605,12.673146,11.281524,11.19028,10.659246,10.413743,10.233566,10.052381,9.5799885,9.40083,9.275125,7.7936153,7.4996367,7.5080533,7.4740214,3.4368396,5.3094482,5.614954,7.00012,11.130443,11.511242,11.905278,12.328988,12.663695,13.006581,13.709643,13.755814,14.066392,14.308104,14.434157,6.6747828,6.5936475,6.408443,6.253888,6.0211377,5.912536,5.6248503,5.1933756,4.7291293,4.596238,4.5567327,4.5220113,4.5167117,4.4887476,4.4292192,4.439009,6.343108,6.7584944,6.3174334,7.2443137,6.3916726,6.3239713,6.4504757,6.491282,6.638024,6.6740155,6.5881515,6.460257,6.3669004,6.280631,6.2492085,6.2796345,6.27859,6.3291492,8.660955,8.779767,8.845873,9.034185,10.130454,10.3383255,10.559963,10.991963,11.268961,11.485169,11.73024,11.880877,12.002242,11.068982,10.823765,10.803939,12.135131,12.305286,15.575063,15.621484,15.604556,15.611585,15.613748,15.620485,15.617737,15.581738,15.562223,15.532615,15.350566,15.268117,15.042899,14.56186,14.380003,14.429,13.908138,13.80465,7.6048098,7.6326528,7.596247,7.539658,7.502726,7.5292835,7.5036125,6.7761245,6.7281356,6.608241,6.4754224,6.2193766,5.817779,5.759512,5.3340263,6.0856757,6.1598296,6.1524143,7.387055,7.7370315,7.973585,8.413783,8.654582,9.066099,9.399623,9.718689,10.492652,10.610538,10.731874,10.888226,11.367238,11.5632715,11.666934,12.571553,12.824612,12.947307,9.069257,7.745132,9.055487,9.077772,9.207798,9.197028,9.211673,9.19892,9.104833,9.168744,9.166818,9.130633,7.494184,7.542571,7.455857,7.4823337,7.498476,12.950931,13.136348,13.15324,13.188689,13.256732,13.454105,13.593861,13.816662,14.917138,14.955799,15.006856,15.004585,15.016154,14.999301,14.60321,14.383049,6.2429585,6.519782,6.470241,6.657225,6.761391,7.1602583,7.3753967,7.5681777,7.947232,8.283252,8.720535,9.017295,9.309201,10.092899,-3.9716587,-3.976119,3.4071698,3.4055855,3.4165812,3.645686,5.113308,9.304026,9.49402,9.671351,9.827744,14.997597,14.976011,14.991169,14.929262,14.98673,14.854661,14.814482,14.744418,14.597207,14.659661,14.818683,14.953928,14.904876,14.715144,14.133949,13.994085,13.916701,-4.1130304,-4.12985,-4.132735,-4.133268,-4.122264,-4.1186476,-4.105911,-4.121831,-4.0973454,-4.1067023,-4.119698,-4.1197195,-4.0833097,13.72067,13.81595,13.777641,13.783507,13.619305,13.637484,13.523811,12.702764,12.580833,12.490807,11.429982,11.364777,11.17005,10.7823,10.556072,10.551555,10.458355,5.9428225,4.7445993,4.7680087,4.696062,4.724103,4.7237787,4.6944776,4.7125435,4.7187157,4.7497373,4.7142963,9.9246645,10.210104,10.4179,10.759819,11.0493145,11.394616,11.6755295,12.318544,12.564208,12.830875,12.967159,13.103909,13.272508,13.464599,13.987135,14.0264225,14.118726,14.592955,13.522592,13.669334,13.704722,13.891888,14.205098,14.487181,14.628044,14.686875,14.64365,14.427895,14.42078,14.404067,14.384444,14.39781,14.399312,14.380307,14.357813,14.328158,14.333614,14.328691,14.389162,14.530545,14.557309,14.150157,14.401458,14.363505,14.35,14.182325,14.510618,13.555188,13.527924,13.469126,13.362786,13.331601,13.658578,13.662229,13.6612425,13.684208,13.685676,13.672487,13.702476,13.6842575,13.799542,13.962729,14.034838,14.822614,14.757627,14.980113,14.286904,6.9127383,6.3706017,6.5309234,6.4122205,6.452281,6.4340506,6.4367814,6.1535683,5.6923165,5.5752606,5.481558,5.3898554,5.265409,5.264279,5.2265005,5.215299,5.2163353,5.9854984,6.4400277,5.558722,5.5358844,5.507585,5.481915,5.49302,5.439862,5.3850894,5.449404,5.295505,5.170315,5.543468,5.0375085,5.164061,4.979403,4.9710426,6.354315,6.5655346,6.7764473,6.6655455,7.013861,7.215896,7.4060555,7.423231,7.4296517,7.3872304,7.4181767,7.3631477,6.85951,6.6981225,6.6517553,6.640147,6.6558065,6.705047,6.663735,4.9428353,6.6478977,7.058983,7.3220468,7.8019805,8.157192,8.60809,9.088815,9.502191,9.903078,10.458007,10.85216,12.606467,13.243376,12.829706,13.263859,12.705097,12.60772,13.184597,12.784506,12.725247,6.4169407,6.57817,6.7673025,6.7607927,6.830718,6.8093185,6.870149,6.902667,6.9192586,6.977453,7.0095606,7.024417,7.041759,7.0503173,7.074213,7.064569,7.0591497,7.0725117,12.578917,13.3518305,13.628857,12.646562,13.042223,13.065777,13.158497,13.107313,13.088858,13.0546255,13.069469,13.18512,13.347698,13.404767,13.57826,14.190657,14.154238,14.1589155,11.647935,11.919648,12.493749,12.906465,13.076687,13.386487,13.51043,13.621452,13.582051,13.471277,13.4463215,13.377916,13.444046,12.970154,12.7166815,12.369612,11.807379,11.4596405,6.557927,6.9168515,7.3986335,7.7765164,8.207139,8.4994755,8.825875,9.581475,9.746996,10.480243,10.610946,10.743296,11.088102,11.45609,11.81992,12.465979,12.715498,12.865093,-6.988818,-4.207982,-4.270952,-4.1573863,-4.0717697,-4.249322,-4.2911763,-4.1042833,-4.119087,-4.2653284,-4.3079133,-4.2984266,-4.2929587,-4.3004766,-4.3007603,-4.3022227,-4.3082705,9.4547205,7.7507596,7.703833,7.8124366,7.4195833,7.3505816,7.3931966,7.3911924,7.3971267,7.395723,7.3927107,6.7864223,6.1490192,13.940729,14.063641,14.264081,14.61097,14.690518,14.863042,14.980594,14.966438,14.993193,14.715427,14.553464,14.059936,13.902339,13.282626,13.106553,13.039567,12.249248,11.920947,9.885043,10.165007,10.435689,11.4554205,11.829603,13.139255,13.445281,13.676078,13.832746,14.254602,14.480139,14.729452,13.969676,13.975384,13.548689,14.760037,14.117862,13.7770815,13.788609,12.858755,12.2939005,12.150555,12.02609,12.008785,11.863841,11.5952425,11.493276,11.53953,11.482789,13.930642,14.662111,14.591809,14.017052,13.998534,13.92575,14.516077,13.987405,13.796387,13.806241,13.743106,13.736765,13.710013,14.614907,14.624536,14.625713,14.6225605,14.58358,3.4105787,3.4132836,3.4622002,3.7091844,4.030541,7.0458813,6.9840717,7.098275,7.2812314,7.8057384,8.051267,8.352605,8.929862,9.218112,11.343842,11.673341,13.284751,13.821819,13.843513,13.583054,13.618947,13.738658,12.348966,12.117207,13.452165,13.449517,13.473328,13.520096,14.145679,13.698465,13.482978,13.523848,13.106408,13.072207,12.328554,11.850616,11.578224,11.493636,10.6304865,10.509682,10.167363,9.722136,5.554426,5.489745,5.419548,5.343014,5.273896,5.216138,5.2323275,5.205367,5.198553,5.166529,5.123774,5.1714325,5.198607,8.7794,9.109383,9.697972,10.16698,10.249307,10.383251,10.507094,10.72127,11.469038,11.621582,11.701465,12.309985,12.3631315,3.9048789,4.094023,4.6469026,5.933651,6.87408,7.78608,8.384068,9.53594,10.136203,10.370579,10.564726,11.65785,12.548101,12.835716,13.277561,12.974358,12.797285,13.0763855,13.577258,13.1301365,12.794645,12.66828,12.60239,12.541358,12.38604,13.262527,13.030869,12.519674,12.5161,12.543276,12.572324,9.315064,5.534342,5.9733315,6.279188,6.5409536,6.6767793,7.0432897,7.5354333,7.6441936,7.78501,8.26248,8.400459,8.615527,9.031801,9.559561,9.840447,10.092314,10.857988,7.319389,7.397426,7.3405814,7.329603,7.2726135,6.614035,6.476906,6.4819613,6.4205384,6.257947,6.385824,6.8093877,6.6248846,6.687215,12.115732,10.634409,10.694692,10.884518,11.208749,11.432779,11.71522,12.276444,12.403862,12.579874,12.811224,12.893102,13.013291,13.072347,13.866281,13.956785,13.707405,13.428434,13.434353,13.328292,13.3787775,13.320619,13.354794,13.374101,13.422654,13.422595,12.809951,12.645835,12.462518,12.336793,12.335164,12.244471,12.120402,12.131373,12.141811,12.231169,12.091866,12.139043,12.094964,12.145967,12.386279,12.346799,12.071051,12.073461,12.946995,13.059522,13.3613615,13.567135,13.825766,14.578203,14.882294,14.772654,14.699226,14.611868,14.56906,14.467102,14.197903,14.072468,13.610072,12.8616085,13.01948,12.800801,10.44583,10.579045,11.525752,11.711848,11.902759,12.229513,12.896718,13.106416,13.13579,13.216925,13.22754,13.236914,13.330387,13.3286,13.347098,13.320174,13.684166,13.78066,13.16784,13.238208,13.187214,13.181645,13.0866165,13.037107,12.869587,11.994587,11.871506,11.912069,11.6369295,11.271881,11.120773,14.501388,14.845608,14.799231,14.852114,14.786852,14.7231455,14.765963,14.845766,14.832128,14.926023,14.77292,15.050816,15.078786,3.8365443,3.8750536,3.954283,4.169204,4.6905894,5.294694,5.570663,5.899314,6.6559696,6.770946,6.8653316,12.25548,12.6858425,12.941414,13.349908,13.667599,13.727449,14.060052,14.188851,14.364336,14.659529,14.845538,14.8639965,6.69912,8.561401,9.0391445,9.774294,10.034169,10.2988205,10.449864,10.962573,11.304852,13.837106,13.859589,13.829989,13.898251,13.808799,13.66439,13.797617,13.956916,14.015918,14.04144,14.126977,14.277003,14.49584,14.589663,14.971378,14.831577,15.035579,14.99847,5.546206,5.19593,5.126305,5.1059155,5.0713296,5.041518,5.0096245,5.005736,4.9672737,4.526626,4.507503,4.3729215,4.3547325,4.333295,4.374519,4.3901505,4.4171305,6.1332207,6.21267,6.176211,6.141575,6.1079063,6.1258163,6.1251674,6.098663,6.100323,6.1289515,6.064978,6.012578,6.055527,5.938482,6.029294,6.2624583,6.2755957,14.652436,14.464326,14.311015,14.178915,14.003973,14.086263,13.994374,13.759026,13.345281,13.44546,13.366984,13.206584,13.348896,13.206485,13.193126,13.183981,13.090971,13.083465,5.712325,5.9936156,6.281922,6.7139187,6.956166,7.128077,7.822341,8.03221,8.367709,8.941841,9.079942,9.255411,9.294371,9.46468,11.288906,11.279909,5.8512607,5.9900346,6.2160945,6.3901057,6.5657635,6.8377194,7.2291436,7.8552027,8.062169,8.241254,8.424437,8.614674,8.984181,9.259559,9.500064,9.781997,14.884512,14.857056,14.898818,14.521229,14.709327,14.136116,14.079187,14.210124,13.818709,13.761085,13.700431,13.668132,13.542011,12.5100355,13.026768,12.383921,6.6344047,6.3615065,5.0846887,4.758221,4.377726,4.3496346,4.3291097,4.3240647,4.3229737,4.353165,4.345248,4.351202,4.36394,19.234583,7.8876233,8.323389,8.466363,8.707992,8.962518,9.058214,9.245353,9.452562,9.579323,9.835505,10.060519,10.139481,10.299608,10.722674,10.985457,11.278084,11.411212,11.661269,11.435896,10.670397,10.580912,10.562213,10.515114,10.436318,10.327356,10.032557,9.787839,9.694884,9.666464,9.56073,9.560785,9.583344,9.398173,9.393551,9.144656,14.646552,14.025528,13.722332,13.6743145,13.296112,13.394591,13.217697,12.995082,13.856994,13.117249,12.9637985,12.985376,12.977133,13.025828,12.985587,12.50451,12.382309,13.749044,13.369099,13.506922,12.224033,12.076249,11.855327,11.75775,11.65633,11.548512,11.472815,11.408068,11.369959,11.327291,11.267772,11.5710335,11.201602,11.147157,11.086886,14.678559,14.60562,14.688749,14.686545,14.671444,14.667174,14.673126,14.659033,14.74936,14.794722,14.781086,14.757327,14.898206,15.013009,14.724742,14.958761,15.001635,15.010082,12.338239,11.781459,11.527305,11.423511,11.192889,10.883123,10.726178,10.608971,10.298372,9.828881,9.696474,9.62246,9.525391,9.41631,9.360952,7.880423,7.8522897,10.276843,9.68044,9.605958,9.29934,9.284865,9.226486,9.20111,9.175044,9.105563,7.602993,7.489841,7.408379,7.5053463,7.299112,7.4157615,7.3980947,19.874056,20.11761,20.098412,20.145996,20.354641,14.40163,13.747656,13.746248,14.000587,13.873727,13.700193,13.62096,12.126718,12.052844,11.713482,11.579673,11.509229,11.468068,10.728379,10.656694,10.628048,10.589879,11.962422,12.291118,12.783,13.004705,13.073782,13.365314,13.462617,13.538808,13.606257,13.587908,13.505664,13.451699,13.449995,13.500058,13.641603,13.612691,12.904976,12.561914,8.281459,9.17139,9.748421,11.151653,12.099135,12.487877,12.620573,13.0352125,13.29266,13.383408,13.470621,13.4884405,19.15554,19.177265,19.165037,19.144463,19.223888,19.23072,19.285666,19.313587,19.355043,19.457111,19.470207,19.563147,19.581059,19.649519,19.735147,19.7342,19.848553,19.987637,9.8368635,10.018968,10.4047165,10.77392,10.883407,11.908469,11.980124,12.109889,12.112614,12.2422905,12.454215,12.581363,12.764047,13.739225,13.8525,13.937371,14.0536375,14.111455,14.626078,14.637964,14.607676,13.979537,13.724332,13.653667,13.522193,13.19996,12.36735,13.085669,11.833726,11.505377,11.537167,11.352796,10.764452,10.775257,4.06181,4.0975895,4.154257,4.472043,4.5840774,4.9499407,5.1532607,5.4203134,5.92022,6.453761,7.0884647,7.847245,9.179074,10.000575,10.422095,5.8796644,5.7719874,5.8953357,5.9710627,5.9080014,5.7997823,5.3743844,5.2726994,5.338824,5.3560805,5.331943,5.3503985,5.3412185,5.327873,5.3365717,12.099872,13.718586,11.574951,11.582491,11.452367,11.355457,10.735536,10.581737,10.477911,9.871502,9.737739,9.599502,9.468492,9.358773,9.242783,9.083141,9.880317,9.411253,9.261026,9.148533,9.100362,9.0887985,9.115321,9.071957,8.945276,8.747363,8.664681,6.6725287,7.0304456,6.518448,6.4987183,6.4211116,4.4666395,4.5864687,4.6393332,-6.988555,-6.987924,-6.9880905,-7.0001197,4.333532,4.570644,4.7918735,5.1017427,5.4181542,5.75719,6.491401,6.974017,7.954918,8.482248,8.613355,8.874015,9.758617,10.092458,10.406246,11.211852,11.50043,11.743089,9.250743,9.071357,9.158677,9.059039,7.391202,6.3807573,7.4365864,7.419928,7.3497434,7.2200165,6.7752023,6.7360272,6.778579,6.8397307,6.909614,6.9727197,7.0152698,7.05813,9.154905,9.14116,9.145221,9.147321,6.372747,6.4433446,6.1720953,7.320502,7.3045015,7.1255302,7.238716,7.301693,6.7680383,6.755597,6.7504683,6.7699842,6.642732,6.5546074,6.501505,6.4761147,6.4850235,6.465645,14.200694,14.4830065,15.325285,15.42825,15.363921,14.920106,14.873636,14.544803,14.4220085,14.101741,14.218793,14.180382,14.216958,14.028228,14.225586,14.235792,14.287235,-4.003128,-3.9761453,-3.9756021,-3.9468067,-3.9887056,-3.9888597,-3.9894946,-4.0043683,-4.047682,-4.0094633,-4.0240297,-4.0042033,-3.9739876,-3.9918637,-6.9865546,-6.994453,11.301729,11.522198,11.735734,11.9059925,12.5083885,13.6294775,4.6093607,5.0391154,4.5623603,4.891421,4.526251,4.59892,4.4822636,4.5031376,4.634077,4.494096,4.3787007,4.4097304,4.4193974,4.4832926,4.5502214,4.611154,4.6515307,4.7015452,4.533326,4.288052,4.3124895,4.309307,4.3576417,4.503066,4.5846457,4.658485,4.748423,4.845648,5.001862,5.2848983,5.274957,11.563679,13.510884,14.779613,15.578841,14.138271,13.4557905,10.561312,9.495123,9.494536,8.886125,-6.3757415,-6.378551,-6.3755918,-6.37496,-6.3704853,-6.370374,-6.3755975,-6.37532,-6.372095,-6.967513,-6.9787836,-6.9784007,-6.9573574,14.25049,14.267609,14.251557,14.342399,14.366942,14.393961,14.403997,14.578672,14.624016,14.656677,14.659438,14.99124,16.09318,16.1183,16.124569,16.125021,16.120943,16.120039,6.0994606,6.5718555,7.030771,7.82177,8.341682,8.605167,9.354726,9.860259,10.373665,11.708106,12.133962,12.232888,12.496194,12.71515,13.047685,13.37373,13.505639,13.773262,12.648186,12.643339,12.625692,12.617355,11.454799,11.346835,11.401874,11.373089,11.187105,11.21537,11.178283,11.211977,11.181794,11.190142,11.1924515,11.216876,11.207151,11.116566,5.6698017,6.5935616,7.7689867,8.467261,9.001735,9.300937,9.638325,10.008693,10.90197,11.779915,12.056486,12.300078,13.542617,13.602213,13.334657,13.3877,12.43536,13.62063,13.544395,13.731354,14.153228,13.442936,13.898615,13.467971,14.079533,14.223586,13.966639,14.198491,14.027399,14.144306,14.20166,14.140596,13.207984,13.421641,13.688683,14.039189,14.214204,14.231898,14.231954,14.171824,14.168372,14.219653,13.680083,12.698545,13.024605,12.936931,11.971135,11.626909,11.48772,11.393771,11.020693,10.731872,10.577699,10.464343,10.380554,10.357597,10.311855,10.366024,10.031952,9.647511,4.896348,5.311026,5.876129,6.540228,7.1125116,7.7060275,8.426403,9.277988,9.95406,10.95985,11.356448,11.767706,12.045826,12.34159,12.564918,13.038834,13.762467,13.909095,13.666992,13.617721,13.731335,13.88452,13.962678,13.964783,14.00092,14.025495,15.403773,15.4913025,15.457825,15.340819,15.104469,15.070119,14.3767395,14.363709,14.757307,14.7411995,20.058435,20.082409,20.131634,20.09284,20.11153,20.148039,20.177055,20.183907,20.174013,20.223886,20.3045,20.339857,20.347801,20.417542,20.426054,20.46693,7.6241126,7.4877625,7.463456,7.4304423,7.342432,7.372026,7.3372684,7.32248,7.3412,7.445926,7.244934,6.422487,6.328597,6.4343715,6.645721,6.525883,6.511495,6.511611,20.981121,21.014404,20.988613,20.990911,20.982851,20.962479,20.952703,21.00025,20.97057,20.89408,20.814928,20.82438,20.756403,20.702242,20.65475,20.618536,20.579817,20.527225,12.111156,12.033381,12.00073,11.213666,11.292293,10.7474,10.775229,10.677034,10.624936,10.621187,10.694034,10.643376,10.677984,10.58789,10.678085,10.651567,10.558159,10.583414,14.642765,14.586791,16.12442,16.118185,14.885353,14.795078,14.760945,14.61709,14.393184,14.216847,13.833711,13.763528,13.671655,13.56472,13.225175,13.094494,12.897063,12.132095,12.512139,12.576924,12.132321,12.133329,12.416292,12.211386,12.465914,12.774449,13.864984,14.655673,14.34869,14.360431,14.351453,12.127005,12.135163,12.126704,12.135654,14.250663,14.215348,14.1699295,14.203693,14.220645,14.015216,14.154214,14.299871,14.260062,14.326067,14.168207,14.204442,13.917025,13.785304,13.6984415,13.440625,12.5706835,12.537344,12.465813,12.503307,12.469891,12.549852,12.507708,12.473001,12.5173,12.59111,12.568527,12.55508,12.363155,11.809178,9.170115,9.17442,4.2319655,4.3957963,4.6207514,4.828428,5.7893953,6.0886655,6.445441,7.079626,7.486109,7.918649,8.2840395,8.46666,9.057817,9.1192255,9.727173,10.011797,10.435495,3.3760414,3.3807445,3.437044,3.698477,3.8837762,4.1806965,4.447089,4.8728786,5.5446754,6.506338,6.841675,7.369173,7.6277924,8.292563,8.4136715,8.715652,9.165102,9.574039],\"xaxis\":\"x\",\"y\":[14.738334,14.6792,14.760327,14.613557,14.612433,14.632191,14.649178,14.492503,14.170816,14.57927,14.554838,14.541821,14.496626,15.0119915,15.01617,-0.6302974,-1.7039375,-1.8507497,-2.3026912,-2.4268804,-3.5200696,-3.5531383,-3.5910223,-3.5779278,-3.5669181,-3.616856,-3.596571,-3.6260116,-3.622671,-3.6389942,-3.6285121,1.7232287,1.6250186,2.0738432,2.2913609,-0.04371184,-0.14035948,-0.23870689,-0.29214948,-0.41880482,-0.47433683,-0.56735444,13.956259,13.75417,13.560197,13.429235,1.9239461,1.3904691,1.0708005,0.84140635,0.44100302,0.16565943,0.25131786,-0.005260131,-0.30273044,-0.4040239,-0.4978165,-0.83411306,-0.90408343,-0.86809695,-0.94344443,-0.9979095,-0.95466936,-0.98235387,3.8087683,3.608603,3.3854177,2.4139433,2.2238572,2.0411296,1.7121164,1.2553476,1.0174882,0.72329736,0.4022847,-0.22204928,-0.5076214,-1.0228117,-1.9314336,-2.2268744,-2.3972678,-4.6891675,-4.916034,-4.9742703,-5.2628536,-5.4231024,-5.589848,-5.7576632,-5.9209075,-5.9972253,-6.124456,-6.226648,-6.5998073,-6.656733,-6.826256,-6.914222,-7.2683196,-7.328871,-4.4927025,-4.6235986,-4.8459177,-4.857682,-4.9629836,-5.0242243,-5.754348,-5.941024,-6.102991,-6.302823,-6.410415,-6.706561,-6.8027315,-7.2434664,-7.3944526,-7.7872066,8.15204,8.097147,7.93748,7.592185,7.4977083,7.332149,7.111627,6.359005,5.9860325,5.813155,5.755357,5.6945143,5.6283293,5.593663,3.4463243,3.1350274,2.1845012,2.077082,1.7161831,1.6126179,10.695492,10.443932,10.518146,10.528571,10.5289135,10.541948,10.49353,10.496196,11.216553,10.600902,10.247439,9.975728,9.246339,8.803168,8.427237,6.579817,4.1923556,3.9042687,3.8529763,3.826515,3.7729568,3.7047472,3.6761477,2.8386703,2.621522,2.5675392,8.889561,8.651757,7.633261,7.2939672,6.681046,5.9716845,5.384084,4.9559116,2.6391733,1.9547967,1.7752087,1.4667394,1.0568134,1.428274,-3.9357364,-3.9861853,-4.0419455,-4.1477823,-4.220929,-4.2940927,-4.5947857,-5.0089555,-5.3020186,-5.4640484,-5.75202,-6.4565325,-6.7300634,-6.8202767,-6.9982743,-7.2095532,-7.3985977,4.0994716,3.1063623,14.588479,14.555639,14.020886,14.498952,14.318582,14.278476,14.1100235,13.953584,13.205736,12.743939,12.721439,12.924167,12.710233,12.570241,12.302491,7.1043725,6.7739425,6.6845965,8.5855055,8.520319,8.607898,7.370481,7.410594,7.3352146,7.0627694,6.885941,6.4169855,5.9951344,5.864524,5.6358624,5.543883,5.375191,5.1802034,5.0837584,4.6890173,4.637515,-0.8156284,-0.8253989,-0.7262135,-0.83255297,-0.7574012,-0.8741904,-0.854705,-0.823387,-0.8368715,-0.8439048,-1.1792618,-1.1566093,-1.1823792,-1.1454965,-1.1766284,-1.2430478,14.104127,14.066732,14.001892,13.906569,13.79003,13.641824,13.529499,13.443125,13.389499,13.354874,13.322489,13.236678,12.456209,12.409452,5.2905483,5.0625973,4.2912045,4.054867,3.9979584,3.874908,3.802953,3.7146099,3.616354,3.371958,3.0565813,2.847106,2.740676,2.7700772,2.4259381,2.1252527,2.167099,2.195753,1.7466615,1.3015068,1.2127357,1.1652582,1.0711167,1.0915468,0.8442844,0.8028187,0.7904742,0.77291304,0.70218307,0.21591307,0.19575447,0.16835083,0.10995097,14.594372,14.603118,14.713964,14.680957,14.810959,14.833822,14.621564,14.588028,13.968579,13.924345,13.690904,13.397815,13.383613,13.359053,13.190426,12.7377405,14.687271,14.737308,14.888764,14.579694,13.827648,12.492789,11.980504,11.6972475,11.472124,11.350099,11.075208,10.944406,10.875117,10.506611,9.717782,9.644237,9.52152,8.671418,8.698476,8.688825,8.621612,8.596499,8.527741,14.299742,14.329319,14.367267,14.356761,14.353082,14.283508,14.335939,14.257329,14.263,13.956326,13.883039,13.525132,13.22114,13.219916,12.766199,12.513864,12.196616,11.810285,-5.8782654,-6.095489,-6.1517134,-6.1850033,-6.248398,-6.342609,-6.447595,-6.3767543,-6.686041,-6.701271,-6.843678,-6.933022,-7.0500865,-7.386115,-7.489244,-7.6210546,-7.6994224,-7.759079,13.878044,13.882617,13.885948,14.105185,14.156425,14.21925,14.286925,14.3185835,14.378621,14.408839,14.455272,14.52451,14.649558,14.670578,14.656841,14.682705,14.817148,14.867172,14.881413,14.140248,14.0550995,-2.133908,-2.3070822,-2.365641,-2.8071756,-3.2285445,-3.308224,-3.43822,-3.6001575,-3.7307036,-4.0451055,-4.162315,-4.321745,-4.427299,-4.5362606,-4.5493655,-4.6552515,-4.7164555,-4.791072,0.12950695,-0.073837735,-0.6205949,-0.6785037,-0.9996824,-1.5685151,-1.6563607,-1.7477679,-1.8666387,-1.8930516,-1.919653,-2.0753555,-2.1360748,-2.1764927,-2.6911423,-2.7485852,-2.85202,-0.7661005,-0.8636286,-0.95138717,-1.139772,-1.5103068,-1.7189463,-1.8953762,-2.0613165,-2.3997283,-2.5522711,-2.6512303,-2.7656722,-2.9729955,-3.0334601,-3.4732666,-3.6482325,-3.6249654,-3.6494231,12.723672,12.6544,12.578511,12.504668,11.431893,11.182678,11.109173,11.047081,14.33445,13.565856,13.662722,13.605443,13.487473,13.160835,13.443451,12.642077,12.382716,12.291771,12.188822,12.08207,11.872322,11.694607,14.618322,14.761564,14.828244,14.9268265,14.95019,14.743318,14.342429,14.182979,13.814506,13.72075,-3.6985416,-3.8279543,-3.6886425,-3.9312778,-3.9607139,-4.032552,-4.1326222,-4.2315187,-4.27128,-4.3585353,-4.30078,-4.2937555,-4.321513,-4.317059,-4.501912,-4.465324,-4.310862,-4.2619214,-0.62299097,-1.2886353,-1.3780625,-1.4088564,-1.5234458,-1.6771042,-2.296696,-2.44595,-2.5280738,-2.6617625,-2.77106,-2.9370844,-3.2690055,-3.3590722,-3.5247486,-3.7287924,4.6477947,-4.8383,-6.958002,-7.3011646,-7.3515077,-7.5375986,-8.019815,-8.045535,-8.093337,-8.23302,-8.7773695,-9.028118,-9.25939,-9.413659,-9.565057,-9.887923,4.6340456,-0.56362206,-0.6841127,-1.7748494,-2.026863,-2.1571374,-2.2603338,-2.3413248,-2.4134321,-2.54079,-2.641596,-3.8312874,-3.9231179,-4.080267,-4.126473,-4.1319976,-4.2457185,-4.2604284,-4.2986526,-4.3384604,-4.4020734,-4.5137424,-4.741502,-5.01645,-5.343699,-5.884604,-6.0501785,-6.1508203,-6.376651,-6.5149927,-6.847874,-6.993121,-7.3766804,-7.5537906,13.375249,13.365821,13.214999,13.32909,2.3018966,2.3720214,2.3373637,2.9647872,3.1470373,3.0761218,3.4464436,5.5171576,5.5399,5.7419653,5.603809,5.35936,5.235291,4.95945,3.0874753,2.8203194,2.5656862,2.517057,3.0579295,2.6184466,2.5317664,2.571461,2.2168388,1.897408,-0.8329363,-1.0182788,-1.297204,-1.9223199,-2.0845306,-2.3511248,-2.5727422,-2.7243655,-3.341345,-3.3827426,-3.5282018,-3.5740743,8.019532,7.8786,7.4310474,7.455281,7.423823,7.4958405,7.461438,7.5846543,7.35049,7.2869167,7.190691,4.035566,4.0113597,3.9778886,3.9463375,3.869515,3.799512,3.7711442,3.2268028,2.8404396,2.9045637,4.0001736,4.0596085,3.6172886,4.518794,4.483158,4.7906537,4.8914046,4.587819,4.242507,4.0191865,3.7920985,2.4850025,2.7326136,2.6050198,2.3542576,1.1181097,0.85246754,0.2764388,0.16293666,-1.3382146,-1.4986396,-2.217336,-2.5563133,-2.737246,-2.863276,-3.1250255,-3.3525338,-3.587613,-4.4722853,-4.785728,-5.014727,-5.123845,13.898621,14.121174,14.066135,13.505456,12.778991,12.614495,12.314821,11.793387,11.621136,11.315451,10.758226,10.761593,10.32434,9.615062,9.519398,-4.264326,-4.3437047,-4.588641,-4.695313,-5.054522,-5.2938633,-5.6099977,-6.086004,-6.310907,-6.393489,-6.435118,-6.450567,-6.4779973,-6.5434203,-6.7229357,-6.7814417,-6.763243,-7.200238,-7.286133,-7.473366,-7.669456,-7.6635685,-7.9272637,-8.035656,-8.354552,-8.487657,-8.589411,-8.787172,-8.866975,-8.944847,-8.944042,-9.006655,-9.062269,-9.159117,12.515342,12.408106,12.351008,12.233163,11.63374,11.498894,11.335478,11.029936,10.795563,10.599275,10.361768,10.238948,10.128092,12.783799,12.421371,12.136458,12.032836,11.726039,3.8679078,3.851469,3.868498,3.8400803,3.8139384,3.7858076,3.7575233,3.6985166,3.6632264,3.636111,3.4478664,3.290081,3.0116262,2.5025377,2.3996055,2.2875876,1.9421393,1.8320025,-4.907865,-4.9026318,-4.9335504,-4.958882,-4.979013,-4.9855986,-4.9912653,-5.3667984,-5.3858886,-5.304896,-5.727008,-5.9858875,-6.50968,-6.8390894,-6.8755155,-7.623318,-7.847975,-7.887551,13.906862,13.629007,13.48018,13.683072,13.428577,12.8872795,12.765593,12.56201,12.850443,12.527822,12.037679,11.769388,11.427969,11.276595,11.131232,11.094674,10.822963,10.662803,-4.1610594,-4.787624,-4.5334215,-4.690578,-5.0935636,-5.1725483,-5.210438,-5.1890655,-5.230105,-5.2614045,-5.2710743,-5.314027,-7.526627,-7.636112,-7.624853,-7.795351,-7.867154,9.232457,9.034332,9.032323,8.97685,8.93445,8.80754,8.696283,8.55404,7.3262186,7.250975,7.20084,7.1643867,7.132059,7.068805,5.728234,5.462162,14.647472,14.601353,14.620524,14.588598,14.564842,14.612062,13.973315,13.83616,13.722434,13.481605,13.422,13.181598,13.242516,12.226138,3.8582454,3.8740637,13.875749,13.876083,13.887272,14.014562,14.446433,14.00066,13.917076,13.684666,13.651428,6.1186876,6.223267,6.293237,6.4598804,6.666157,8.417354,8.578342,8.631376,8.674605,8.674114,7.4807405,6.8752913,6.332946,5.8151145,4.5386395,4.0605946,3.6860964,-13.778851,-13.774493,-13.761831,-13.759096,-13.769929,-13.771987,-13.783706,-13.765374,-13.792371,-13.76435,-13.770429,-13.769889,-13.806635,1.9817365,1.5669487,1.1686348,0.97292155,0.8536018,0.82430744,0.79970384,0.2198083,0.19215818,0.10076609,-0.3649973,-0.6168828,-0.7988865,-1.3601494,-1.542256,-1.7644892,-1.8142703,-7.3451495,-8.477005,-8.512042,-8.533566,-8.552564,-8.581238,-8.5432825,-8.562237,-8.589512,-8.598676,-8.582114,12.421391,12.314683,12.177474,12.060478,11.703622,11.471793,11.366327,11.252619,11.063519,10.820498,10.634969,10.604864,10.534741,10.563224,9.4986,9.422963,9.25641,8.50206,9.089023,8.767407,8.382658,8.53979,8.286329,8.135866,7.7246633,7.5239687,7.195661,6.8105145,6.7438774,6.6811576,6.6253395,6.595747,6.627107,6.4742937,6.3360868,6.2671294,3.0108418,2.8407063,2.5842931,1.7292714,1.5631467,1.6161268,1.2888232,1.155351,1.0169791,0.7776136,0.5993478,0.091090515,-0.0666524,-0.20996548,-0.32323518,-0.44017658,8.171671,8.168037,8.216305,8.139506,8.13566,8.144943,8.139193,8.1397915,7.8841457,7.4931574,7.1619635,5.085665,4.922731,3.533356,3.0827441,-4.564994,-4.822034,-5.058801,-5.0428557,-5.5710187,-5.772056,-5.8246183,-6.065069,-6.800672,-6.9591026,-7.0729346,-7.2094455,-7.2549706,-7.4089565,-7.544222,-7.584843,-7.6090136,-7.7784843,-7.577491,-8.248293,-8.28268,-8.314085,-8.325763,-8.320729,-8.36852,-8.423356,-8.416165,-8.580449,-8.614036,-8.72839,-8.673645,-8.730889,-8.724554,-8.748248,-9.310881,-6.9291706,-7.2327943,-7.2260947,-7.382549,-7.521071,-7.8333826,-7.948618,-7.9374323,-8.026238,-8.063032,-8.126228,-8.494506,-8.723126,-8.819314,-8.871773,-8.84409,-8.988517,-9.047401,14.3266535,14.397187,14.433494,13.933227,13.630073,13.264127,13.059103,12.891879,12.643817,12.3985195,12.0954895,11.791168,-0.8878643,-0.64468616,-0.7878771,-0.6060811,-0.8245134,-0.88705814,-0.6596342,-0.81642336,-0.81397843,-9.170418,-9.429217,-9.798941,-9.835349,-9.941187,-9.924153,-10.08494,-10.182691,-10.222183,-10.328635,-10.384551,-10.43045,-10.458243,-10.47109,-10.501029,-10.495375,-10.48444,-10.498998,2.374856,-0.04513921,-0.14761291,-0.8282698,-1.4714872,-1.561097,-1.639589,-1.7008245,-1.7223763,-1.7537215,-1.7465878,-1.6441854,-1.5360311,-1.4905816,-1.3420814,-0.7691692,-0.79086465,-0.75480837,10.437087,10.164714,9.52873,9.037318,8.6970415,7.66504,7.2061915,6.680982,6.1316166,5.39653,5.100652,4.8841577,2.610841,2.2773168,1.7822905,1.6257694,0.68870556,0.3080934,14.266432,14.06264,14.130776,13.830387,13.718801,13.5896225,13.330866,13.66229,12.568559,12.603678,12.278134,12.062192,11.706329,11.446683,11.364889,11.178971,10.979405,10.804604,9.37644,3.4362292,3.3021226,3.5346725,3.6838963,3.3427944,3.254628,3.6322963,3.5974083,3.3052454,3.230218,3.2399945,3.2476196,3.2363896,3.2346537,3.234672,3.2218223,-3.0211139,-4.138397,-4.165537,-4.272141,-5.2172313,-5.304438,-5.3649907,-5.3785906,-5.380772,-5.373301,-5.376735,-5.3235035,-5.141437,10.422204,10.140237,9.759928,9.019814,8.82569,8.473094,6.4875817,6.2297873,6.0437427,3.965048,3.7780006,3.609927,3.4591155,3.323577,3.2309828,-0.84823275,-1.783719,-2.1482477,12.471821,12.270057,12.19229,11.443036,11.324196,9.695633,9.183203,8.758514,8.6123295,8.438848,8.417649,7.585997,5.7499914,5.6255183,5.1536827,3.3288326,2.6221905,2.0805173,1.7765334,1.5734609,1.2524084,1.1343611,0.9831413,0.92762977,0.76351845,0.4976739,0.4005725,0.34574404,0.33289313,1.9703017,1.8220869,1.5802133,1.562831,1.4423674,1.4360082,1.3125426,1.3437546,1.316714,1.2013717,1.1549125,0.9922612,0.9000514,0.7314664,0.5912147,0.59667146,0.5804786,0.52221465,13.883058,13.881114,13.9131365,14.048463,14.169405,14.826623,14.924381,14.895349,14.718223,14.643873,14.605589,13.977292,13.9344635,13.432631,12.737423,12.503833,1.9818325,2.8793225,2.7437165,2.4047174,2.104434,1.8649378,1.5741369,4.6520243,5.2910047,5.1687493,5.0818043,4.9575567,2.9160306,2.4687917,2.3295825,2.1605,1.9681405,1.86762,1.2608788,0.81428397,0.47195095,0.1270989,-0.5595665,-0.80227184,-1.4494054,-2.3245552,-7.0101147,-7.0907474,-7.1896186,-7.2872367,-7.401511,-7.5697856,-7.6069202,-7.608753,-7.594431,-7.6336503,-7.6257386,-7.614685,-7.645713,13.912255,13.497333,13.477434,13.703386,13.632199,13.605799,13.553844,13.408194,12.716268,12.646438,12.521328,12.067572,11.825206,14.127772,14.199399,14.3829365,14.704807,14.947632,14.450758,13.95035,13.839786,13.783466,13.643085,13.548111,12.655551,12.115222,11.871454,11.390701,2.3120673,2.4977827,1.8123286,1.6829752,1.659421,1.6574099,1.6519952,1.5546187,1.5782906,1.6314853,1.3486376,1.4107828,1.5820167,1.5688527,1.5736712,1.5471119,-4.972032,14.593202,14.648999,14.60672,14.599342,14.746253,14.877391,14.606703,14.522024,14.018081,13.976366,13.702503,13.75442,13.362575,13.528319,13.517492,13.283681,12.783617,-5.471985,-5.4782357,-5.499765,-5.530929,-5.591492,-7.673576,-7.764085,-7.833019,-7.85658,-7.8094096,-7.9010286,-8.312469,-8.172495,-8.309173,4.645295,12.381234,12.149488,11.873256,11.597458,11.425572,11.342789,11.271618,11.193913,11.196265,10.8086405,10.621602,10.593512,10.5729065,9.403425,9.403404,5.374953,5.0692782,5.0355015,4.93556,5.001226,4.9365044,4.987082,5.011355,5.075826,5.096685,3.5825794,3.290927,3.1792877,3.0821972,3.016702,2.927192,2.8293438,2.8228788,2.4216402,1.9932734,2.478147,2.0710933,2.2330818,2.0828726,1.8602256,1.7821176,2.6334734,2.5842066,9.647167,9.580287,8.836081,8.679841,8.480471,7.62987,7.287006,7.03818,6.2394295,5.779509,5.347683,5.1714196,3.2488625,3.0200045,2.9068074,2.5988152,2.1327147,1.9162029,11.779747,11.676369,11.289964,10.544838,10.316784,10.050284,9.567462,9.297455,9.263719,8.942083,8.877228,8.849654,8.828942,8.767691,8.742939,8.744387,0.6749321,0.6236238,0.055360332,0.043263312,-0.020133886,-0.04330834,-0.14640225,-0.13678463,-0.2385494,-0.75072205,-0.81640387,-0.93031454,-1.0280901,-1.355096,-1.3713346,6.8332443,6.1618524,6.0550065,5.843135,5.094329,5.13477,5.025189,4.768753,4.817618,4.217897,4.8713436,3.7711263,3.7052839,14.098973,14.117407,14.145965,14.220942,14.412491,14.55785,14.62705,14.730611,14.822106,14.864534,14.612755,11.602791,11.350207,10.940186,10.752472,10.391349,10.26692,9.720811,9.537378,9.315157,8.948816,8.729207,8.620051,13.792541,12.6420765,12.275304,11.908048,11.750777,11.664465,11.574763,11.106085,10.8377695,10.641774,10.62278,10.671838,10.456363,10.671788,10.859191,10.679864,10.408454,10.274506,10.247967,10.105591,9.754371,9.373558,8.810607,7.430751,8.641779,6.923755,6.55982,-6.3421016,-6.3152657,-6.3159523,-6.3798294,-6.397289,-6.522067,-6.595117,-6.6953416,-6.751768,-7.0174704,-7.1008697,-7.334251,-7.473392,-7.5085235,-7.7009563,-7.766918,-7.822727,-4.6697106,-4.6418962,-4.695425,-4.675853,-4.6950307,-4.715269,-4.715987,-4.7052526,-4.7267895,-4.7944865,-4.928983,-5.1372466,-5.2346506,-5.3412404,-5.528021,-5.759284,-5.8130517,3.7639241,3.7472332,3.690131,3.648196,3.633137,3.5505288,3.5367696,3.5045536,3.416972,3.4008665,3.3834867,3.3284438,3.3651402,3.3253927,3.3009508,3.285888,3.2462065,3.2293663,14.74791,14.776697,14.830864,14.910665,14.960421,14.895149,14.537786,14.427416,14.038329,13.982128,13.81284,13.590742,13.3981495,13.365441,12.723862,12.742136,14.197869,14.1299,14.072542,14.00015,13.970519,13.889311,13.834029,13.469022,13.309018,13.183251,13.122686,13.464167,12.907972,13.203211,12.669962,12.502049,2.2671378,2.132028,2.0151076,2.032505,1.8846915,1.8759563,1.7854303,1.7297122,1.5054159,1.2919298,0.9840922,0.6021148,0.1679744,-0.18070455,-0.29608363,-0.5852041,-4.450101,-4.750312,-6.059165,-6.8752484,-7.1960206,-7.26946,-7.290816,-7.4412627,-7.5426607,-7.610217,-7.632359,-7.672746,-7.6889296,10.134023,13.485313,13.17736,13.603476,13.063217,12.934464,12.946726,12.824365,12.70227,12.592807,12.522268,12.295116,12.236409,12.150229,12.002323,11.764865,11.544892,11.400621,11.356476,-0.88329524,-0.73681164,-0.89025813,-1.0081838,-1.0743862,-1.1755444,-1.3407863,-1.7760638,-2.2867644,-2.4078474,-2.7590673,-2.6478744,-2.9465265,-3.0608978,-3.312275,-3.4294472,-3.5411115,2.3204753,2.6413214,2.6881628,2.6624181,2.6698096,2.6136398,2.588006,2.5167034,2.161331,2.2121115,2.2304213,2.1833398,2.1278105,2.1392527,2.1186297,2.1375828,2.1663888,-0.48817828,-0.6774939,-0.8178557,-1.6682352,-1.8975589,-2.1666436,-2.3745215,-2.5318365,-2.695192,-3.3052673,-3.3507814,-3.4827287,-3.527555,-3.5840309,-3.634199,-3.6524174,-3.6779354,-3.6998944,8.693455,8.626354,8.6659155,8.613104,8.526953,8.455532,8.406632,8.24593,7.7026963,7.488972,7.551834,7.472344,7.2167706,7.1251597,7.805755,7.130688,7.104483,7.1121044,0.27512386,0.10459723,-0.7538898,-0.8753562,-1.2912099,-1.4909835,-1.7028302,-1.9047859,-2.0730093,-2.4582458,-2.7043774,-2.9205334,-3.011685,-3.3031363,-3.4970648,-4.172136,-4.3212204,-2.7248833,-3.2693605,-3.878445,-4.80609,-4.999261,-5.080905,-5.181039,-5.231855,-5.333467,-7.3831654,-7.473842,-7.5074,-7.644758,-7.6429257,-7.871244,-7.9620023,10.394054,10.429774,10.482306,10.493277,10.484398,2.8310468,2.0721364,1.8811785,1.3985646,1.2617784,1.0750281,0.8660933,0.7143014,0.47963277,0.32015508,0.2787926,0.17915842,-0.011609585,-0.45908773,-0.53011084,-0.5880574,-0.6189581,10.130731,9.735292,9.172605,8.872185,8.657057,7.742898,7.3609138,7.095906,6.5554647,6.1892796,5.903545,5.269257,5.097887,4.867868,2.3855684,2.0951653,1.8432983,1.5078512,14.10844,13.72008,13.698576,12.770634,12.571376,12.312411,12.117474,11.646843,11.372138,11.293887,11.183413,11.135911,10.092848,10.103662,10.097632,10.08424,10.133994,10.133097,10.174671,10.17824,10.188974,10.250018,10.235606,10.273129,10.279872,10.308989,10.343081,10.336696,10.370638,10.43455,13.198489,12.87867,12.690652,12.647118,12.517991,12.64879,12.603562,12.525213,11.856536,11.630585,11.420837,11.23947,11.0701275,10.370777,10.449211,10.336596,10.162199,10.07394,1.7127384,1.1393691,1.0714661,0.78139424,0.6749629,0.49640656,0.2515246,-0.036885384,-0.2615069,-0.22017829,-0.69365215,-0.93134063,-1.0542495,-1.1717775,-1.0335157,-1.0628756,14.187092,14.198162,14.212348,14.310827,14.345096,14.437585,14.484837,14.535953,14.69436,14.717831,14.8722925,14.596222,13.980514,13.883142,13.609639,-8.1796255,-8.217654,-8.446677,-8.796365,-8.824488,-8.945848,-9.238647,-9.214823,-9.292503,-9.355058,-9.352329,-9.342428,-9.358803,-9.367453,-9.360616,4.634707,1.1963598,0.27664563,-0.027505154,-0.6014037,-0.7550423,-1.3726923,-1.6230205,-1.8360382,-2.2455008,-2.5417528,-2.830878,-3.1732402,-3.3888535,-3.6388524,-3.9408517,-2.936435,-3.487187,-3.6312184,-3.8389091,-4.0866723,-4.277508,-4.6348534,-4.6791353,-4.730903,-4.808019,-4.9135494,-7.0143833,-7.284193,-7.4751096,-7.7570233,-7.84067,14.323065,14.36729,14.396584,9.376504,9.377116,9.376976,9.364974,14.192163,14.211975,14.147978,14.124791,14.057353,13.987103,13.856339,13.528619,13.175814,12.740956,12.556664,12.355482,11.875574,11.669707,11.462607,10.83528,10.58193,10.372878,-5.0046268,-4.880568,-5.2282124,-5.325498,-7.424075,-7.543127,-7.920612,-8.065607,-8.1881275,-8.406242,-9.139884,-9.513174,-9.803393,-9.994154,-10.189558,-10.343674,-10.421607,-10.48631,15.031514,15.0385895,15.028756,15.028707,-6.6491404,-6.8125176,-6.7381454,-7.409093,-7.4984694,-7.490616,-7.592338,-7.750959,-8.217796,-8.380947,-8.4784975,-8.61239,-8.868136,-8.959933,-9.02472,-9.140085,-9.268676,-9.330199,7.204964,6.6298223,4.230209,3.8357925,3.570609,2.2910812,1.9732877,1.1351277,0.60816497,-0.4833239,-0.5708646,-0.5833053,-0.6249459,-0.6266819,-0.67359877,-0.6870402,-0.7014941,3.8147743,3.8448458,3.8454857,3.8789413,3.827046,3.8275738,3.820799,3.8055937,3.7573287,3.8010395,3.774961,3.805576,3.8432245,3.8202667,9.378568,9.370654,11.569988,11.461773,11.381006,11.350577,11.284997,6.101221,-6.7866178,-6.8401866,-6.870495,-6.9143667,-6.888617,-6.975014,-6.9254913,-7.0510416,-7.211441,-7.404469,-7.592602,-7.738584,-7.94529,-8.143673,-8.297622,-8.427911,-8.493489,-8.555253,-7.066727,-7.415392,-7.522007,-7.7456756,-7.764617,-8.213873,-8.430791,-8.519544,-8.635916,-8.812388,-8.930857,-9.227956,-9.258689,-3.2645729,-0.7852465,2.2931545,3.9247527,9.192374,10.996939,12.894948,-3.0316005,-3.6068146,-4.1477704,-0.12383031,-0.13090195,-0.12382574,-0.122827314,-0.11771857,-0.11689057,-0.12379852,-0.123275094,-0.118837215,9.397642,9.386324,9.386711,9.407808,10.010194,9.921988,9.957933,9.805857,9.781404,9.733801,9.653156,9.226964,9.122827,8.975593,8.909635,7.377236,7.567736,7.552596,7.5566373,7.557571,7.5588284,7.5448537,14.629497,14.792766,14.865956,14.615177,14.555562,13.862787,13.915244,13.620035,13.575782,12.797327,12.6104965,12.4723215,12.216675,11.80927,11.442683,11.207219,11.042529,10.647439,-0.72429824,-0.71481156,-0.68258184,-0.6872541,-1.468921,-1.5359356,-1.5528737,-1.6601411,-1.5998964,-2.2996068,-2.3813643,-2.4122946,-2.4332461,-2.4542859,-2.4538596,-2.4520822,-2.5050302,-2.533177,14.694201,14.590732,14.664323,14.550104,14.024325,13.931812,13.455386,13.495965,12.8425255,12.598502,12.198384,11.828255,7.0254617,6.1867633,4.945648,2.776462,1.6425008,-0.21989813,-0.3354485,-0.36537272,-0.21389894,-0.44742316,-0.49540803,-0.54137695,-0.56907547,-0.5479745,-0.60640705,-0.6087522,-0.66467047,-0.6429809,-0.6169597,-0.6767846,8.944557,8.676676,8.425388,8.072723,7.8719144,7.78658,7.7603498,7.676057,7.4442196,7.6861587,0.7497213,0.0052278307,-0.10307997,-0.16964573,-0.8279818,-1.171355,-1.2564057,-1.3839875,-1.6809689,-2.1536415,-2.417187,-2.5290763,-2.6951096,-2.806955,-2.8810415,-2.937201,-3.1416352,-3.4826121,14.439857,14.545803,14.651393,14.751508,14.858111,13.941787,13.856896,13.960616,13.607689,12.771929,12.685704,12.582631,12.18628,11.698935,11.494904,11.234103,10.728065,10.527661,8.0332155,7.6143007,7.442305,7.3054214,7.0714993,6.54735,5.9877787,5.7725444,3.8745813,3.7933435,3.7301426,3.5790915,3.3906422,3.2981904,2.9515173,2.9171827,2.2167902,2.1832817,10.485516,10.480353,10.522872,10.508624,10.514372,10.504092,10.428091,10.512243,10.514543,10.538185,10.519956,10.537507,10.513347,10.5709305,10.570619,10.587985,-4.151159,-4.3203883,-4.3321967,-4.3833303,-4.438359,-4.4780736,-4.499975,-4.50643,-4.566302,-4.769116,-4.7852573,-4.9392004,-4.926637,-5.0764713,-5.602116,-5.7065096,-5.746681,-5.785446,10.995933,11.022447,11.001275,11.00211,10.997064,10.979132,10.972882,11.007186,10.985722,10.93218,10.870156,10.882223,10.839835,10.8065,10.779683,10.756072,10.737221,10.717391,-0.96888554,-0.93588865,-0.92426044,-0.90978533,-0.90202534,-1.0109887,-1.0118127,-1.0539654,-1.0397276,-1.0764747,-1.1206778,-1.1215235,-1.0836843,-1.0633508,-1.06216,-1.0763735,-1.037684,-1.0519471,8.884206,8.519442,7.557208,7.5701075,6.2450867,5.963365,5.7767696,5.5452094,4.989114,4.5694337,4.233645,4.0748982,3.8468192,3.4387066,3.3009973,3.204073,3.0229292,2.8253038,2.6905162,2.7293677,2.8721647,2.8550298,2.8964972,2.9250236,2.923868,2.7220366,3.4434414,3.6599782,3.7826762,3.7831237,3.7748795,4.651654,4.664156,4.6542516,4.665896,3.8138,3.665289,3.6832902,3.6228042,3.5940828,3.7079473,3.5648139,2.9502952,2.4027054,2.352341,2.5541341,2.1900458,2.4981651,2.442343,2.4288177,2.3180168,2.5797033,2.5261297,11.224343,11.223907,11.228331,11.454697,11.418576,11.427098,11.471358,12.11779,12.130738,12.223376,12.405092,12.453586,15.028491,15.0232315,14.228094,14.265774,14.301772,14.335674,14.225544,14.128725,14.061653,14.13266,13.819658,13.816027,13.774636,13.683638,14.140894,13.264393,13.810363,13.463288,13.161975,13.858856,13.852099,13.894642,14.0310135,14.115806,14.227617,14.275896,14.3844,14.484952,14.582685,14.577383,14.588379,14.57215,14.586125,14.531738,14.392334,14.12386,13.894353],\"yaxis\":\"y\",\"type\":\"scattergl\"}],                        {\"template\":{\"data\":{\"histogram2dcontour\":[{\"type\":\"histogram2dcontour\",\"colorbar\":{\"outlinewidth\":0,\"ticks\":\"\"},\"colorscale\":[[0.0,\"#0d0887\"],[0.1111111111111111,\"#46039f\"],[0.2222222222222222,\"#7201a8\"],[0.3333333333333333,\"#9c179e\"],[0.4444444444444444,\"#bd3786\"],[0.5555555555555556,\"#d8576b\"],[0.6666666666666666,\"#ed7953\"],[0.7777777777777778,\"#fb9f3a\"],[0.8888888888888888,\"#fdca26\"],[1.0,\"#f0f921\"]]}],\"choropleth\":[{\"type\":\"choropleth\",\"colorbar\":{\"outlinewidth\":0,\"ticks\":\"\"}}],\"histogram2d\":[{\"type\":\"histogram2d\",\"colorbar\":{\"outlinewidth\":0,\"ticks\":\"\"},\"colorscale\":[[0.0,\"#0d0887\"],[0.1111111111111111,\"#46039f\"],[0.2222222222222222,\"#7201a8\"],[0.3333333333333333,\"#9c179e\"],[0.4444444444444444,\"#bd3786\"],[0.5555555555555556,\"#d8576b\"],[0.6666666666666666,\"#ed7953\"],[0.7777777777777778,\"#fb9f3a\"],[0.8888888888888888,\"#fdca26\"],[1.0,\"#f0f921\"]]}],\"heatmap\":[{\"type\":\"heatmap\",\"colorbar\":{\"outlinewidth\":0,\"ticks\":\"\"},\"colorscale\":[[0.0,\"#0d0887\"],[0.1111111111111111,\"#46039f\"],[0.2222222222222222,\"#7201a8\"],[0.3333333333333333,\"#9c179e\"],[0.4444444444444444,\"#bd3786\"],[0.5555555555555556,\"#d8576b\"],[0.6666666666666666,\"#ed7953\"],[0.7777777777777778,\"#fb9f3a\"],[0.8888888888888888,\"#fdca26\"],[1.0,\"#f0f921\"]]}],\"heatmapgl\":[{\"type\":\"heatmapgl\",\"colorbar\":{\"outlinewidth\":0,\"ticks\":\"\"},\"colorscale\":[[0.0,\"#0d0887\"],[0.1111111111111111,\"#46039f\"],[0.2222222222222222,\"#7201a8\"],[0.3333333333333333,\"#9c179e\"],[0.4444444444444444,\"#bd3786\"],[0.5555555555555556,\"#d8576b\"],[0.6666666666666666,\"#ed7953\"],[0.7777777777777778,\"#fb9f3a\"],[0.8888888888888888,\"#fdca26\"],[1.0,\"#f0f921\"]]}],\"contourcarpet\":[{\"type\":\"contourcarpet\",\"colorbar\":{\"outlinewidth\":0,\"ticks\":\"\"}}],\"contour\":[{\"type\":\"contour\",\"colorbar\":{\"outlinewidth\":0,\"ticks\":\"\"},\"colorscale\":[[0.0,\"#0d0887\"],[0.1111111111111111,\"#46039f\"],[0.2222222222222222,\"#7201a8\"],[0.3333333333333333,\"#9c179e\"],[0.4444444444444444,\"#bd3786\"],[0.5555555555555556,\"#d8576b\"],[0.6666666666666666,\"#ed7953\"],[0.7777777777777778,\"#fb9f3a\"],[0.8888888888888888,\"#fdca26\"],[1.0,\"#f0f921\"]]}],\"surface\":[{\"type\":\"surface\",\"colorbar\":{\"outlinewidth\":0,\"ticks\":\"\"},\"colorscale\":[[0.0,\"#0d0887\"],[0.1111111111111111,\"#46039f\"],[0.2222222222222222,\"#7201a8\"],[0.3333333333333333,\"#9c179e\"],[0.4444444444444444,\"#bd3786\"],[0.5555555555555556,\"#d8576b\"],[0.6666666666666666,\"#ed7953\"],[0.7777777777777778,\"#fb9f3a\"],[0.8888888888888888,\"#fdca26\"],[1.0,\"#f0f921\"]]}],\"mesh3d\":[{\"type\":\"mesh3d\",\"colorbar\":{\"outlinewidth\":0,\"ticks\":\"\"}}],\"scatter\":[{\"fillpattern\":{\"fillmode\":\"overlay\",\"size\":10,\"solidity\":0.2},\"type\":\"scatter\"}],\"parcoords\":[{\"type\":\"parcoords\",\"line\":{\"colorbar\":{\"outlinewidth\":0,\"ticks\":\"\"}}}],\"scatterpolargl\":[{\"type\":\"scatterpolargl\",\"marker\":{\"colorbar\":{\"outlinewidth\":0,\"ticks\":\"\"}}}],\"bar\":[{\"error_x\":{\"color\":\"#2a3f5f\"},\"error_y\":{\"color\":\"#2a3f5f\"},\"marker\":{\"line\":{\"color\":\"#E5ECF6\",\"width\":0.5},\"pattern\":{\"fillmode\":\"overlay\",\"size\":10,\"solidity\":0.2}},\"type\":\"bar\"}],\"scattergeo\":[{\"type\":\"scattergeo\",\"marker\":{\"colorbar\":{\"outlinewidth\":0,\"ticks\":\"\"}}}],\"scatterpolar\":[{\"type\":\"scatterpolar\",\"marker\":{\"colorbar\":{\"outlinewidth\":0,\"ticks\":\"\"}}}],\"histogram\":[{\"marker\":{\"pattern\":{\"fillmode\":\"overlay\",\"size\":10,\"solidity\":0.2}},\"type\":\"histogram\"}],\"scattergl\":[{\"type\":\"scattergl\",\"marker\":{\"colorbar\":{\"outlinewidth\":0,\"ticks\":\"\"}}}],\"scatter3d\":[{\"type\":\"scatter3d\",\"line\":{\"colorbar\":{\"outlinewidth\":0,\"ticks\":\"\"}},\"marker\":{\"colorbar\":{\"outlinewidth\":0,\"ticks\":\"\"}}}],\"scattermapbox\":[{\"type\":\"scattermapbox\",\"marker\":{\"colorbar\":{\"outlinewidth\":0,\"ticks\":\"\"}}}],\"scatterternary\":[{\"type\":\"scatterternary\",\"marker\":{\"colorbar\":{\"outlinewidth\":0,\"ticks\":\"\"}}}],\"scattercarpet\":[{\"type\":\"scattercarpet\",\"marker\":{\"colorbar\":{\"outlinewidth\":0,\"ticks\":\"\"}}}],\"carpet\":[{\"aaxis\":{\"endlinecolor\":\"#2a3f5f\",\"gridcolor\":\"white\",\"linecolor\":\"white\",\"minorgridcolor\":\"white\",\"startlinecolor\":\"#2a3f5f\"},\"baxis\":{\"endlinecolor\":\"#2a3f5f\",\"gridcolor\":\"white\",\"linecolor\":\"white\",\"minorgridcolor\":\"white\",\"startlinecolor\":\"#2a3f5f\"},\"type\":\"carpet\"}],\"table\":[{\"cells\":{\"fill\":{\"color\":\"#EBF0F8\"},\"line\":{\"color\":\"white\"}},\"header\":{\"fill\":{\"color\":\"#C8D4E3\"},\"line\":{\"color\":\"white\"}},\"type\":\"table\"}],\"barpolar\":[{\"marker\":{\"line\":{\"color\":\"#E5ECF6\",\"width\":0.5},\"pattern\":{\"fillmode\":\"overlay\",\"size\":10,\"solidity\":0.2}},\"type\":\"barpolar\"}],\"pie\":[{\"automargin\":true,\"type\":\"pie\"}]},\"layout\":{\"autotypenumbers\":\"strict\",\"colorway\":[\"#636efa\",\"#EF553B\",\"#00cc96\",\"#ab63fa\",\"#FFA15A\",\"#19d3f3\",\"#FF6692\",\"#B6E880\",\"#FF97FF\",\"#FECB52\"],\"font\":{\"color\":\"#2a3f5f\"},\"hovermode\":\"closest\",\"hoverlabel\":{\"align\":\"left\"},\"paper_bgcolor\":\"white\",\"plot_bgcolor\":\"#E5ECF6\",\"polar\":{\"bgcolor\":\"#E5ECF6\",\"angularaxis\":{\"gridcolor\":\"white\",\"linecolor\":\"white\",\"ticks\":\"\"},\"radialaxis\":{\"gridcolor\":\"white\",\"linecolor\":\"white\",\"ticks\":\"\"}},\"ternary\":{\"bgcolor\":\"#E5ECF6\",\"aaxis\":{\"gridcolor\":\"white\",\"linecolor\":\"white\",\"ticks\":\"\"},\"baxis\":{\"gridcolor\":\"white\",\"linecolor\":\"white\",\"ticks\":\"\"},\"caxis\":{\"gridcolor\":\"white\",\"linecolor\":\"white\",\"ticks\":\"\"}},\"coloraxis\":{\"colorbar\":{\"outlinewidth\":0,\"ticks\":\"\"}},\"colorscale\":{\"sequential\":[[0.0,\"#0d0887\"],[0.1111111111111111,\"#46039f\"],[0.2222222222222222,\"#7201a8\"],[0.3333333333333333,\"#9c179e\"],[0.4444444444444444,\"#bd3786\"],[0.5555555555555556,\"#d8576b\"],[0.6666666666666666,\"#ed7953\"],[0.7777777777777778,\"#fb9f3a\"],[0.8888888888888888,\"#fdca26\"],[1.0,\"#f0f921\"]],\"sequentialminus\":[[0.0,\"#0d0887\"],[0.1111111111111111,\"#46039f\"],[0.2222222222222222,\"#7201a8\"],[0.3333333333333333,\"#9c179e\"],[0.4444444444444444,\"#bd3786\"],[0.5555555555555556,\"#d8576b\"],[0.6666666666666666,\"#ed7953\"],[0.7777777777777778,\"#fb9f3a\"],[0.8888888888888888,\"#fdca26\"],[1.0,\"#f0f921\"]],\"diverging\":[[0,\"#8e0152\"],[0.1,\"#c51b7d\"],[0.2,\"#de77ae\"],[0.3,\"#f1b6da\"],[0.4,\"#fde0ef\"],[0.5,\"#f7f7f7\"],[0.6,\"#e6f5d0\"],[0.7,\"#b8e186\"],[0.8,\"#7fbc41\"],[0.9,\"#4d9221\"],[1,\"#276419\"]]},\"xaxis\":{\"gridcolor\":\"white\",\"linecolor\":\"white\",\"ticks\":\"\",\"title\":{\"standoff\":15},\"zerolinecolor\":\"white\",\"automargin\":true,\"zerolinewidth\":2},\"yaxis\":{\"gridcolor\":\"white\",\"linecolor\":\"white\",\"ticks\":\"\",\"title\":{\"standoff\":15},\"zerolinecolor\":\"white\",\"automargin\":true,\"zerolinewidth\":2},\"scene\":{\"xaxis\":{\"backgroundcolor\":\"#E5ECF6\",\"gridcolor\":\"white\",\"linecolor\":\"white\",\"showbackground\":true,\"ticks\":\"\",\"zerolinecolor\":\"white\",\"gridwidth\":2},\"yaxis\":{\"backgroundcolor\":\"#E5ECF6\",\"gridcolor\":\"white\",\"linecolor\":\"white\",\"showbackground\":true,\"ticks\":\"\",\"zerolinecolor\":\"white\",\"gridwidth\":2},\"zaxis\":{\"backgroundcolor\":\"#E5ECF6\",\"gridcolor\":\"white\",\"linecolor\":\"white\",\"showbackground\":true,\"ticks\":\"\",\"zerolinecolor\":\"white\",\"gridwidth\":2}},\"shapedefaults\":{\"line\":{\"color\":\"#2a3f5f\"}},\"annotationdefaults\":{\"arrowcolor\":\"#2a3f5f\",\"arrowhead\":0,\"arrowwidth\":1},\"geo\":{\"bgcolor\":\"white\",\"landcolor\":\"#E5ECF6\",\"subunitcolor\":\"white\",\"showland\":true,\"showlakes\":true,\"lakecolor\":\"white\"},\"title\":{\"x\":0.05},\"mapbox\":{\"style\":\"light\"}}},\"xaxis\":{\"anchor\":\"y\",\"domain\":[0.0,1.0],\"title\":{\"text\":\"x\"}},\"yaxis\":{\"anchor\":\"x\",\"domain\":[0.0,1.0],\"title\":{\"text\":\"y\"}},\"coloraxis\":{\"colorbar\":{\"title\":{\"text\":\"year\"}},\"colorscale\":[[0.0,\"#0d0887\"],[0.1111111111111111,\"#46039f\"],[0.2222222222222222,\"#7201a8\"],[0.3333333333333333,\"#9c179e\"],[0.4444444444444444,\"#bd3786\"],[0.5555555555555556,\"#d8576b\"],[0.6666666666666666,\"#ed7953\"],[0.7777777777777778,\"#fb9f3a\"],[0.8888888888888888,\"#fdca26\"],[1.0,\"#f0f921\"]]},\"legend\":{\"tracegroupgap\":0},\"margin\":{\"t\":60}},                        {\"responsive\": true}                    ).then(function(){\n",
       "                            \n",
       "var gd = document.getElementById('c16cfd42-55b1-436f-9cf5-b20597894ce7');\n",
       "var x = new MutationObserver(function (mutations, observer) {{\n",
       "        var display = window.getComputedStyle(gd).display;\n",
       "        if (!display || display === 'none') {{\n",
       "            console.log([gd, 'removed!']);\n",
       "            Plotly.purge(gd);\n",
       "            observer.disconnect();\n",
       "        }}\n",
       "}});\n",
       "\n",
       "// Listen for the removal of the full notebook cells\n",
       "var notebookContainer = gd.closest('#notebook-container');\n",
       "if (notebookContainer) {{\n",
       "    x.observe(notebookContainer, {childList: true});\n",
       "}}\n",
       "\n",
       "// Listen for the clearing of the current output cell\n",
       "var outputEl = gd.closest('.output');\n",
       "if (outputEl) {{\n",
       "    x.observe(outputEl, {childList: true});\n",
       "}}\n",
       "\n",
       "                        })                };                });            </script>        </div>"
      ]
     },
     "metadata": {},
     "output_type": "display_data"
    },
    {
     "name": "stdout",
     "output_type": "stream",
     "text": [
      "UMAP done in 0:00:24.991657\n"
     ]
    }
   ],
   "source": [
    "import arrow\n",
    "from plotly import express\n",
    "from umap import UMAP\n",
    "\n",
    "COLUMNS = ['Life Ladder', 'Log GDP per capita',\n",
    "       'Social support', 'Healthy life expectancy at birth',\n",
    "       'Freedom to make life choices', 'Generosity',\n",
    "       'Perceptions of corruption', 'Positive affect', 'Negative affect']\n",
    "\n",
    "time_start = arrow.now()\n",
    "reducer = UMAP(n_components=2, random_state=2024, transform_seed=2024, verbose=True, n_jobs=1, n_epochs=1000)\n",
    "umap_df = pd.DataFrame(data=reducer.fit_transform(X=df[COLUMNS].fillna(value=0.0)), columns=['x', 'y'])\n",
    "umap_df['year'] = df['year'].tolist()\n",
    "umap_df['Country name'] = df['Country name'].tolist()\n",
    "express.scatter(data_frame=umap_df, x='x', y='y', color='year', hover_name='Country name', hover_data=['year'] ).show()\n",
    "print('UMAP done in {}'.format(arrow.now() - time_start))"
   ]
  }
 ],
 "metadata": {
  "kaggle": {
   "accelerator": "none",
   "dataSources": [
    {
     "datasetId": 5027903,
     "sourceId": 8440191,
     "sourceType": "datasetVersion"
    }
   ],
   "dockerImageVersionId": 30698,
   "isGpuEnabled": false,
   "isInternetEnabled": true,
   "language": "python",
   "sourceType": "notebook"
  },
  "kernelspec": {
   "display_name": "Python 3",
   "language": "python",
   "name": "python3"
  },
  "language_info": {
   "codemirror_mode": {
    "name": "ipython",
    "version": 3
   },
   "file_extension": ".py",
   "mimetype": "text/x-python",
   "name": "python",
   "nbconvert_exporter": "python",
   "pygments_lexer": "ipython3",
   "version": "3.10.13"
  },
  "papermill": {
   "default_parameters": {},
   "duration": 69.151159,
   "end_time": "2024-05-22T18:25:09.040745",
   "environment_variables": {},
   "exception": null,
   "input_path": "__notebook__.ipynb",
   "output_path": "__notebook__.ipynb",
   "parameters": {},
   "start_time": "2024-05-22T18:23:59.889586",
   "version": "2.5.0"
  },
  "widgets": {
   "application/vnd.jupyter.widget-state+json": {
    "state": {
     "140c23cf7b9c4027bbd85b3bca66e8db": {
      "model_module": "@jupyter-widgets/controls",
      "model_module_version": "1.5.0",
      "model_name": "HBoxModel",
      "state": {
       "_dom_classes": [],
       "_model_module": "@jupyter-widgets/controls",
       "_model_module_version": "1.5.0",
       "_model_name": "HBoxModel",
       "_view_count": null,
       "_view_module": "@jupyter-widgets/controls",
       "_view_module_version": "1.5.0",
       "_view_name": "HBoxView",
       "box_style": "",
       "children": [
        "IPY_MODEL_d47ae17338394a93a5d50978b549798a",
        "IPY_MODEL_ccde69cc890e4fc0b7b81fec86896a4b",
        "IPY_MODEL_ec44524ab7a540559d07197bf3d548ed"
       ],
       "layout": "IPY_MODEL_4706ccc86e3347feb7b4936568cd5e94"
      }
     },
     "19c05030746f44e38719cf0543b32f0c": {
      "model_module": "@jupyter-widgets/controls",
      "model_module_version": "1.5.0",
      "model_name": "ProgressStyleModel",
      "state": {
       "_model_module": "@jupyter-widgets/controls",
       "_model_module_version": "1.5.0",
       "_model_name": "ProgressStyleModel",
       "_view_count": null,
       "_view_module": "@jupyter-widgets/base",
       "_view_module_version": "1.2.0",
       "_view_name": "StyleView",
       "bar_color": null,
       "description_width": ""
      }
     },
     "4706ccc86e3347feb7b4936568cd5e94": {
      "model_module": "@jupyter-widgets/base",
      "model_module_version": "1.2.0",
      "model_name": "LayoutModel",
      "state": {
       "_model_module": "@jupyter-widgets/base",
       "_model_module_version": "1.2.0",
       "_model_name": "LayoutModel",
       "_view_count": null,
       "_view_module": "@jupyter-widgets/base",
       "_view_module_version": "1.2.0",
       "_view_name": "LayoutView",
       "align_content": null,
       "align_items": null,
       "align_self": null,
       "border": null,
       "bottom": null,
       "display": null,
       "flex": null,
       "flex_flow": null,
       "grid_area": null,
       "grid_auto_columns": null,
       "grid_auto_flow": null,
       "grid_auto_rows": null,
       "grid_column": null,
       "grid_gap": null,
       "grid_row": null,
       "grid_template_areas": null,
       "grid_template_columns": null,
       "grid_template_rows": null,
       "height": null,
       "justify_content": null,
       "justify_items": null,
       "left": null,
       "margin": null,
       "max_height": null,
       "max_width": null,
       "min_height": null,
       "min_width": null,
       "object_fit": null,
       "object_position": null,
       "order": null,
       "overflow": null,
       "overflow_x": null,
       "overflow_y": null,
       "padding": null,
       "right": null,
       "top": null,
       "visibility": null,
       "width": null
      }
     },
     "4799aa67bf384286a10158e17321afb1": {
      "model_module": "@jupyter-widgets/base",
      "model_module_version": "1.2.0",
      "model_name": "LayoutModel",
      "state": {
       "_model_module": "@jupyter-widgets/base",
       "_model_module_version": "1.2.0",
       "_model_name": "LayoutModel",
       "_view_count": null,
       "_view_module": "@jupyter-widgets/base",
       "_view_module_version": "1.2.0",
       "_view_name": "LayoutView",
       "align_content": null,
       "align_items": null,
       "align_self": null,
       "border": null,
       "bottom": null,
       "display": null,
       "flex": null,
       "flex_flow": null,
       "grid_area": null,
       "grid_auto_columns": null,
       "grid_auto_flow": null,
       "grid_auto_rows": null,
       "grid_column": null,
       "grid_gap": null,
       "grid_row": null,
       "grid_template_areas": null,
       "grid_template_columns": null,
       "grid_template_rows": null,
       "height": null,
       "justify_content": null,
       "justify_items": null,
       "left": null,
       "margin": null,
       "max_height": null,
       "max_width": null,
       "min_height": null,
       "min_width": null,
       "object_fit": null,
       "object_position": null,
       "order": null,
       "overflow": null,
       "overflow_x": null,
       "overflow_y": null,
       "padding": null,
       "right": null,
       "top": null,
       "visibility": null,
       "width": null
      }
     },
     "5a716ebdf26e45d69bd1abaef49a20e9": {
      "model_module": "@jupyter-widgets/base",
      "model_module_version": "1.2.0",
      "model_name": "LayoutModel",
      "state": {
       "_model_module": "@jupyter-widgets/base",
       "_model_module_version": "1.2.0",
       "_model_name": "LayoutModel",
       "_view_count": null,
       "_view_module": "@jupyter-widgets/base",
       "_view_module_version": "1.2.0",
       "_view_name": "LayoutView",
       "align_content": null,
       "align_items": null,
       "align_self": null,
       "border": null,
       "bottom": null,
       "display": null,
       "flex": null,
       "flex_flow": null,
       "grid_area": null,
       "grid_auto_columns": null,
       "grid_auto_flow": null,
       "grid_auto_rows": null,
       "grid_column": null,
       "grid_gap": null,
       "grid_row": null,
       "grid_template_areas": null,
       "grid_template_columns": null,
       "grid_template_rows": null,
       "height": null,
       "justify_content": null,
       "justify_items": null,
       "left": null,
       "margin": null,
       "max_height": null,
       "max_width": null,
       "min_height": null,
       "min_width": null,
       "object_fit": null,
       "object_position": null,
       "order": null,
       "overflow": null,
       "overflow_x": null,
       "overflow_y": null,
       "padding": null,
       "right": null,
       "top": null,
       "visibility": null,
       "width": null
      }
     },
     "a11faeafa56b4c94806a879862bf19c6": {
      "model_module": "@jupyter-widgets/controls",
      "model_module_version": "1.5.0",
      "model_name": "DescriptionStyleModel",
      "state": {
       "_model_module": "@jupyter-widgets/controls",
       "_model_module_version": "1.5.0",
       "_model_name": "DescriptionStyleModel",
       "_view_count": null,
       "_view_module": "@jupyter-widgets/base",
       "_view_module_version": "1.2.0",
       "_view_name": "StyleView",
       "description_width": ""
      }
     },
     "a61f3c054b1c440f9740043ad7a1fdf5": {
      "model_module": "@jupyter-widgets/base",
      "model_module_version": "1.2.0",
      "model_name": "LayoutModel",
      "state": {
       "_model_module": "@jupyter-widgets/base",
       "_model_module_version": "1.2.0",
       "_model_name": "LayoutModel",
       "_view_count": null,
       "_view_module": "@jupyter-widgets/base",
       "_view_module_version": "1.2.0",
       "_view_name": "LayoutView",
       "align_content": null,
       "align_items": null,
       "align_self": null,
       "border": null,
       "bottom": null,
       "display": null,
       "flex": null,
       "flex_flow": null,
       "grid_area": null,
       "grid_auto_columns": null,
       "grid_auto_flow": null,
       "grid_auto_rows": null,
       "grid_column": null,
       "grid_gap": null,
       "grid_row": null,
       "grid_template_areas": null,
       "grid_template_columns": null,
       "grid_template_rows": null,
       "height": null,
       "justify_content": null,
       "justify_items": null,
       "left": null,
       "margin": null,
       "max_height": null,
       "max_width": null,
       "min_height": null,
       "min_width": null,
       "object_fit": null,
       "object_position": null,
       "order": null,
       "overflow": null,
       "overflow_x": null,
       "overflow_y": null,
       "padding": null,
       "right": null,
       "top": null,
       "visibility": null,
       "width": null
      }
     },
     "ccde69cc890e4fc0b7b81fec86896a4b": {
      "model_module": "@jupyter-widgets/controls",
      "model_module_version": "1.5.0",
      "model_name": "FloatProgressModel",
      "state": {
       "_dom_classes": [],
       "_model_module": "@jupyter-widgets/controls",
       "_model_module_version": "1.5.0",
       "_model_name": "FloatProgressModel",
       "_view_count": null,
       "_view_module": "@jupyter-widgets/controls",
       "_view_module_version": "1.5.0",
       "_view_name": "ProgressView",
       "bar_style": "success",
       "description": "",
       "description_tooltip": null,
       "layout": "IPY_MODEL_4799aa67bf384286a10158e17321afb1",
       "max": 1000.0,
       "min": 0.0,
       "orientation": "horizontal",
       "style": "IPY_MODEL_19c05030746f44e38719cf0543b32f0c",
       "value": 1000.0
      }
     },
     "d47ae17338394a93a5d50978b549798a": {
      "model_module": "@jupyter-widgets/controls",
      "model_module_version": "1.5.0",
      "model_name": "HTMLModel",
      "state": {
       "_dom_classes": [],
       "_model_module": "@jupyter-widgets/controls",
       "_model_module_version": "1.5.0",
       "_model_name": "HTMLModel",
       "_view_count": null,
       "_view_module": "@jupyter-widgets/controls",
       "_view_module_version": "1.5.0",
       "_view_name": "HTMLView",
       "description": "",
       "description_tooltip": null,
       "layout": "IPY_MODEL_5a716ebdf26e45d69bd1abaef49a20e9",
       "placeholder": "​",
       "style": "IPY_MODEL_a11faeafa56b4c94806a879862bf19c6",
       "value": "Epochs completed: 100%| "
      }
     },
     "d4c01563de4448af955acbb3172a2f37": {
      "model_module": "@jupyter-widgets/controls",
      "model_module_version": "1.5.0",
      "model_name": "DescriptionStyleModel",
      "state": {
       "_model_module": "@jupyter-widgets/controls",
       "_model_module_version": "1.5.0",
       "_model_name": "DescriptionStyleModel",
       "_view_count": null,
       "_view_module": "@jupyter-widgets/base",
       "_view_module_version": "1.2.0",
       "_view_name": "StyleView",
       "description_width": ""
      }
     },
     "ec44524ab7a540559d07197bf3d548ed": {
      "model_module": "@jupyter-widgets/controls",
      "model_module_version": "1.5.0",
      "model_name": "HTMLModel",
      "state": {
       "_dom_classes": [],
       "_model_module": "@jupyter-widgets/controls",
       "_model_module_version": "1.5.0",
       "_model_name": "HTMLModel",
       "_view_count": null,
       "_view_module": "@jupyter-widgets/controls",
       "_view_module_version": "1.5.0",
       "_view_name": "HTMLView",
       "description": "",
       "description_tooltip": null,
       "layout": "IPY_MODEL_a61f3c054b1c440f9740043ad7a1fdf5",
       "placeholder": "​",
       "style": "IPY_MODEL_d4c01563de4448af955acbb3172a2f37",
       "value": " 1000/1000 [00:09]"
      }
     }
    },
    "version_major": 2,
    "version_minor": 0
   }
  }
 },
 "nbformat": 4,
 "nbformat_minor": 5
}
