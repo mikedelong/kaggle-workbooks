{
 "cells": [
  {
   "cell_type": "markdown",
   "id": "2a165148",
   "metadata": {
    "papermill": {
     "duration": 0.006023,
     "end_time": "2025-02-01T22:33:22.736568",
     "exception": false,
     "start_time": "2025-02-01T22:33:22.730545",
     "status": "completed"
    },
    "tags": []
   },
   "source": [
    "First let's load up our data and do a little feature engineering. We may want to use the year to indicate the passage of time in some of our plots that aren't time series plots, so let's add that."
   ]
  },
  {
   "cell_type": "code",
   "execution_count": 1,
   "id": "a5e0fc5e",
   "metadata": {
    "_cell_guid": "b1076dfc-b9ad-4769-8c92-a6c4dae69d19",
    "_uuid": "8f2839f25d086af736a60e9eeb907d3b93b6e0e5",
    "execution": {
     "iopub.execute_input": "2025-02-01T22:33:22.748174Z",
     "iopub.status.busy": "2025-02-01T22:33:22.747647Z",
     "iopub.status.idle": "2025-02-01T22:33:24.011721Z",
     "shell.execute_reply": "2025-02-01T22:33:24.010421Z"
    },
    "papermill": {
     "duration": 1.272145,
     "end_time": "2025-02-01T22:33:24.013789",
     "exception": false,
     "start_time": "2025-02-01T22:33:22.741644",
     "status": "completed"
    },
    "tags": []
   },
   "outputs": [
    {
     "data": {
      "text/html": [
       "<div>\n",
       "<style scoped>\n",
       "    .dataframe tbody tr th:only-of-type {\n",
       "        vertical-align: middle;\n",
       "    }\n",
       "\n",
       "    .dataframe tbody tr th {\n",
       "        vertical-align: top;\n",
       "    }\n",
       "\n",
       "    .dataframe thead th {\n",
       "        text-align: right;\n",
       "    }\n",
       "</style>\n",
       "<table border=\"1\" class=\"dataframe\">\n",
       "  <thead>\n",
       "    <tr style=\"text-align: right;\">\n",
       "      <th></th>\n",
       "      <th>Date</th>\n",
       "      <th>Open</th>\n",
       "      <th>High</th>\n",
       "      <th>Low</th>\n",
       "      <th>Close</th>\n",
       "      <th>Adj Close</th>\n",
       "      <th>Volume</th>\n",
       "      <th>year</th>\n",
       "    </tr>\n",
       "  </thead>\n",
       "  <tbody>\n",
       "    <tr>\n",
       "      <th>0</th>\n",
       "      <td>1962-01-02</td>\n",
       "      <td>0.263021</td>\n",
       "      <td>0.270182</td>\n",
       "      <td>0.263021</td>\n",
       "      <td>0.263021</td>\n",
       "      <td>0.046381</td>\n",
       "      <td>806400</td>\n",
       "      <td>1962</td>\n",
       "    </tr>\n",
       "    <tr>\n",
       "      <th>1</th>\n",
       "      <td>1962-01-03</td>\n",
       "      <td>0.259115</td>\n",
       "      <td>0.259115</td>\n",
       "      <td>0.253255</td>\n",
       "      <td>0.257161</td>\n",
       "      <td>0.045348</td>\n",
       "      <td>1574400</td>\n",
       "      <td>1962</td>\n",
       "    </tr>\n",
       "    <tr>\n",
       "      <th>2</th>\n",
       "      <td>1962-01-04</td>\n",
       "      <td>0.257813</td>\n",
       "      <td>0.261068</td>\n",
       "      <td>0.257813</td>\n",
       "      <td>0.259115</td>\n",
       "      <td>0.045692</td>\n",
       "      <td>844800</td>\n",
       "      <td>1962</td>\n",
       "    </tr>\n",
       "    <tr>\n",
       "      <th>3</th>\n",
       "      <td>1962-01-05</td>\n",
       "      <td>0.259115</td>\n",
       "      <td>0.262370</td>\n",
       "      <td>0.252604</td>\n",
       "      <td>0.253255</td>\n",
       "      <td>0.044659</td>\n",
       "      <td>1420800</td>\n",
       "      <td>1962</td>\n",
       "    </tr>\n",
       "    <tr>\n",
       "      <th>4</th>\n",
       "      <td>1962-01-08</td>\n",
       "      <td>0.251302</td>\n",
       "      <td>0.251302</td>\n",
       "      <td>0.245768</td>\n",
       "      <td>0.250651</td>\n",
       "      <td>0.044200</td>\n",
       "      <td>2035200</td>\n",
       "      <td>1962</td>\n",
       "    </tr>\n",
       "  </tbody>\n",
       "</table>\n",
       "</div>"
      ],
      "text/plain": [
       "        Date      Open      High       Low     Close  Adj Close   Volume  year\n",
       "0 1962-01-02  0.263021  0.270182  0.263021  0.263021   0.046381   806400  1962\n",
       "1 1962-01-03  0.259115  0.259115  0.253255  0.257161   0.045348  1574400  1962\n",
       "2 1962-01-04  0.257813  0.261068  0.257813  0.259115   0.045692   844800  1962\n",
       "3 1962-01-05  0.259115  0.262370  0.252604  0.253255   0.044659  1420800  1962\n",
       "4 1962-01-08  0.251302  0.251302  0.245768  0.250651   0.044200  2035200  1962"
      ]
     },
     "execution_count": 1,
     "metadata": {},
     "output_type": "execute_result"
    }
   ],
   "source": [
    "import pandas as pd\n",
    "\n",
    "KO = '/kaggle/input/coca-cola-complete-stocks-dataweekly-updated/KO_1919-09-06_2025-01-31.csv'\n",
    "df = pd.read_csv(filepath_or_buffer=KO, parse_dates=['Date'])\n",
    "df['year'] = df['Date'].dt.year\n",
    "df.head()"
   ]
  },
  {
   "cell_type": "markdown",
   "id": "25f603ed",
   "metadata": {
    "papermill": {
     "duration": 0.00535,
     "end_time": "2025-02-01T22:33:24.024787",
     "exception": false,
     "start_time": "2025-02-01T22:33:24.019437",
     "status": "completed"
    },
    "tags": []
   },
   "source": [
    "Next let's look at our daily price and volume correlations. This will tell us if we have any redundant data, and it will tell us a little about how volume behaves as a function of the price."
   ]
  },
  {
   "cell_type": "code",
   "execution_count": 2,
   "id": "892ff6c8",
   "metadata": {
    "execution": {
     "iopub.execute_input": "2025-02-01T22:33:24.036446Z",
     "iopub.status.busy": "2025-02-01T22:33:24.036055Z",
     "iopub.status.idle": "2025-02-01T22:33:24.061528Z",
     "shell.execute_reply": "2025-02-01T22:33:24.060360Z"
    },
    "papermill": {
     "duration": 0.033461,
     "end_time": "2025-02-01T22:33:24.063468",
     "exception": false,
     "start_time": "2025-02-01T22:33:24.030007",
     "status": "completed"
    },
    "tags": []
   },
   "outputs": [
    {
     "data": {
      "text/html": [
       "<div>\n",
       "<style scoped>\n",
       "    .dataframe tbody tr th:only-of-type {\n",
       "        vertical-align: middle;\n",
       "    }\n",
       "\n",
       "    .dataframe tbody tr th {\n",
       "        vertical-align: top;\n",
       "    }\n",
       "\n",
       "    .dataframe thead th {\n",
       "        text-align: right;\n",
       "    }\n",
       "</style>\n",
       "<table border=\"1\" class=\"dataframe\">\n",
       "  <thead>\n",
       "    <tr style=\"text-align: right;\">\n",
       "      <th></th>\n",
       "      <th>Open</th>\n",
       "      <th>High</th>\n",
       "      <th>Low</th>\n",
       "      <th>Close</th>\n",
       "      <th>Adj Close</th>\n",
       "      <th>Volume</th>\n",
       "    </tr>\n",
       "  </thead>\n",
       "  <tbody>\n",
       "    <tr>\n",
       "      <th>Open</th>\n",
       "      <td>1.000000</td>\n",
       "      <td>0.999946</td>\n",
       "      <td>0.999937</td>\n",
       "      <td>0.999894</td>\n",
       "      <td>0.969414</td>\n",
       "      <td>0.471763</td>\n",
       "    </tr>\n",
       "    <tr>\n",
       "      <th>High</th>\n",
       "      <td>0.999946</td>\n",
       "      <td>1.000000</td>\n",
       "      <td>0.999915</td>\n",
       "      <td>0.999947</td>\n",
       "      <td>0.969053</td>\n",
       "      <td>0.473107</td>\n",
       "    </tr>\n",
       "    <tr>\n",
       "      <th>Low</th>\n",
       "      <td>0.999937</td>\n",
       "      <td>0.999915</td>\n",
       "      <td>1.000000</td>\n",
       "      <td>0.999947</td>\n",
       "      <td>0.969846</td>\n",
       "      <td>0.469890</td>\n",
       "    </tr>\n",
       "    <tr>\n",
       "      <th>Close</th>\n",
       "      <td>0.999894</td>\n",
       "      <td>0.999947</td>\n",
       "      <td>0.999947</td>\n",
       "      <td>1.000000</td>\n",
       "      <td>0.969424</td>\n",
       "      <td>0.471387</td>\n",
       "    </tr>\n",
       "    <tr>\n",
       "      <th>Adj Close</th>\n",
       "      <td>0.969414</td>\n",
       "      <td>0.969053</td>\n",
       "      <td>0.969846</td>\n",
       "      <td>0.969424</td>\n",
       "      <td>1.000000</td>\n",
       "      <td>0.434369</td>\n",
       "    </tr>\n",
       "    <tr>\n",
       "      <th>Volume</th>\n",
       "      <td>0.471763</td>\n",
       "      <td>0.473107</td>\n",
       "      <td>0.469890</td>\n",
       "      <td>0.471387</td>\n",
       "      <td>0.434369</td>\n",
       "      <td>1.000000</td>\n",
       "    </tr>\n",
       "  </tbody>\n",
       "</table>\n",
       "</div>"
      ],
      "text/plain": [
       "               Open      High       Low     Close  Adj Close    Volume\n",
       "Open       1.000000  0.999946  0.999937  0.999894   0.969414  0.471763\n",
       "High       0.999946  1.000000  0.999915  0.999947   0.969053  0.473107\n",
       "Low        0.999937  0.999915  1.000000  0.999947   0.969846  0.469890\n",
       "Close      0.999894  0.999947  0.999947  1.000000   0.969424  0.471387\n",
       "Adj Close  0.969414  0.969053  0.969846  0.969424   1.000000  0.434369\n",
       "Volume     0.471763  0.473107  0.469890  0.471387   0.434369  1.000000"
      ]
     },
     "execution_count": 2,
     "metadata": {},
     "output_type": "execute_result"
    }
   ],
   "source": [
    "df[['Open', 'High', 'Low', 'Close', 'Adj Close', 'Volume']].corr()"
   ]
  },
  {
   "cell_type": "markdown",
   "id": "34c9ef78",
   "metadata": {
    "papermill": {
     "duration": 0.005074,
     "end_time": "2025-02-01T22:33:24.074124",
     "exception": false,
     "start_time": "2025-02-01T22:33:24.069050",
     "status": "completed"
    },
    "tags": []
   },
   "source": [
    "What do we see? We see that none of our prices are perfectly correlated, so we know none of the price series are redundant. In particular, the difference between the closing price and the adjusted closing price usually represents dividends, and KO has historically been known as a dividend stock, so it isn't surprising that the lowest price correlations are between the Close and Adj Close prices. Finally, it is a little surprising, but the prices and the volume are somewhat positively correlated, which is unusual."
   ]
  },
  {
   "cell_type": "markdown",
   "id": "dea04195",
   "metadata": {
    "papermill": {
     "duration": 0.005019,
     "end_time": "2025-02-01T22:33:24.084747",
     "exception": false,
     "start_time": "2025-02-01T22:33:24.079728",
     "status": "completed"
    },
    "tags": []
   },
   "source": [
    "Let's look at the price time series. We'll use the adjusted closing price because it best represents the total return (including splits and dividends) over time."
   ]
  },
  {
   "cell_type": "code",
   "execution_count": 3,
   "id": "1790e63d",
   "metadata": {
    "execution": {
     "iopub.execute_input": "2025-02-01T22:33:24.096505Z",
     "iopub.status.busy": "2025-02-01T22:33:24.096129Z",
     "iopub.status.idle": "2025-02-01T22:33:28.028137Z",
     "shell.execute_reply": "2025-02-01T22:33:28.027007Z"
    },
    "papermill": {
     "duration": 3.940172,
     "end_time": "2025-02-01T22:33:28.030227",
     "exception": false,
     "start_time": "2025-02-01T22:33:24.090055",
     "status": "completed"
    },
    "tags": []
   },
   "outputs": [
    {
     "data": {
      "text/html": [
       "        <script type=\"text/javascript\">\n",
       "        window.PlotlyConfig = {MathJaxConfig: 'local'};\n",
       "        if (window.MathJax && window.MathJax.Hub && window.MathJax.Hub.Config) {window.MathJax.Hub.Config({SVG: {font: \"STIX-Web\"}});}\n",
       "        if (typeof require !== 'undefined') {\n",
       "        require.undef(\"plotly\");\n",
       "        requirejs.config({\n",
       "            paths: {\n",
       "                'plotly': ['https://cdn.plot.ly/plotly-2.35.2.min']\n",
       "            }\n",
       "        });\n",
       "        require(['plotly'], function(Plotly) {\n",
       "            window._Plotly = Plotly;\n",
       "        });\n",
       "        }\n",
       "        </script>\n",
       "        "
      ]
     },
     "metadata": {},
     "output_type": "display_data"
    },
    {
     "data": {
      "text/html": [
       "<iframe\n",
       "    scrolling=\"no\"\n",
       "    width=\"100%\"\n",
       "    height=\"545px\"\n",
       "    src=\"iframe_figures/figure_3.html\"\n",
       "    frameborder=\"0\"\n",
       "    allowfullscreen\n",
       "></iframe>\n"
      ]
     },
     "metadata": {},
     "output_type": "display_data"
    }
   ],
   "source": [
    "from plotly import express\n",
    "from plotly.offline import init_notebook_mode\n",
    "\n",
    "init_notebook_mode(connected=True)\n",
    "\n",
    "express.line(data_frame=df, x='Date', y='Adj Close', color='year').show(renderer='iframe_connected')"
   ]
  },
  {
   "cell_type": "markdown",
   "id": "bc5c92df",
   "metadata": {
    "papermill": {
     "duration": 0.005296,
     "end_time": "2025-02-01T22:33:28.041273",
     "exception": false,
     "start_time": "2025-02-01T22:33:28.035977",
     "status": "completed"
    },
    "tags": []
   },
   "source": [
    "Because there has been so much price appreciation the first twenty years of our data looks flat. Let's use a log plot for the price instead, to see if we can see any volatility for prices for those years."
   ]
  },
  {
   "cell_type": "code",
   "execution_count": 4,
   "id": "de32a021",
   "metadata": {
    "execution": {
     "iopub.execute_input": "2025-02-01T22:33:28.053439Z",
     "iopub.status.busy": "2025-02-01T22:33:28.053055Z",
     "iopub.status.idle": "2025-02-01T22:33:28.596419Z",
     "shell.execute_reply": "2025-02-01T22:33:28.595408Z"
    },
    "papermill": {
     "duration": 0.551562,
     "end_time": "2025-02-01T22:33:28.598239",
     "exception": false,
     "start_time": "2025-02-01T22:33:28.046677",
     "status": "completed"
    },
    "tags": []
   },
   "outputs": [
    {
     "data": {
      "text/html": [
       "<iframe\n",
       "    scrolling=\"no\"\n",
       "    width=\"100%\"\n",
       "    height=\"545px\"\n",
       "    src=\"iframe_figures/figure_4.html\"\n",
       "    frameborder=\"0\"\n",
       "    allowfullscreen\n",
       "></iframe>\n"
      ]
     },
     "metadata": {},
     "output_type": "display_data"
    }
   ],
   "source": [
    "express.line(data_frame=df, x='Date', y='Adj Close', color='year', log_y=True).show(renderer='iframe_connected')"
   ]
  },
  {
   "cell_type": "markdown",
   "id": "31cdfff1",
   "metadata": {
    "papermill": {
     "duration": 0.005427,
     "end_time": "2025-02-01T22:33:28.609664",
     "exception": false,
     "start_time": "2025-02-01T22:33:28.604237",
     "status": "completed"
    },
    "tags": []
   },
   "source": [
    "What do we see? KO looks like a steady upward climb with occasional retrenchments, some of them lasting a decade or more. Coloring by the year doesn't really do what we want it to do, so let's try again with a scatter plot."
   ]
  },
  {
   "cell_type": "code",
   "execution_count": 5,
   "id": "5bd746f7",
   "metadata": {
    "execution": {
     "iopub.execute_input": "2025-02-01T22:33:28.622435Z",
     "iopub.status.busy": "2025-02-01T22:33:28.622075Z",
     "iopub.status.idle": "2025-02-01T22:33:28.881123Z",
     "shell.execute_reply": "2025-02-01T22:33:28.879948Z"
    },
    "papermill": {
     "duration": 0.267471,
     "end_time": "2025-02-01T22:33:28.882825",
     "exception": false,
     "start_time": "2025-02-01T22:33:28.615354",
     "status": "completed"
    },
    "tags": []
   },
   "outputs": [
    {
     "data": {
      "text/html": [
       "<iframe\n",
       "    scrolling=\"no\"\n",
       "    width=\"100%\"\n",
       "    height=\"545px\"\n",
       "    src=\"iframe_figures/figure_5.html\"\n",
       "    frameborder=\"0\"\n",
       "    allowfullscreen\n",
       "></iframe>\n"
      ]
     },
     "metadata": {},
     "output_type": "display_data"
    }
   ],
   "source": [
    "express.scatter(data_frame=df, x='Date', y='Adj Close', color='year', log_y=True).show(renderer='iframe_connected')"
   ]
  },
  {
   "cell_type": "markdown",
   "id": "3bcc02e6",
   "metadata": {
    "papermill": {
     "duration": 0.005635,
     "end_time": "2025-02-01T22:33:28.894665",
     "exception": false,
     "start_time": "2025-02-01T22:33:28.889030",
     "status": "completed"
    },
    "tags": []
   },
   "source": [
    "Much better. Now time seems to pass more or less continuously, rather than abruptly at the end of each calendar year."
   ]
  },
  {
   "cell_type": "markdown",
   "id": "7df6e2f1",
   "metadata": {
    "papermill": {
     "duration": 0.005401,
     "end_time": "2025-02-01T22:33:28.905806",
     "exception": false,
     "start_time": "2025-02-01T22:33:28.900405",
     "status": "completed"
    },
    "tags": []
   },
   "source": [
    "Next let's look at the volume time series."
   ]
  },
  {
   "cell_type": "code",
   "execution_count": 6,
   "id": "a94236c6",
   "metadata": {
    "execution": {
     "iopub.execute_input": "2025-02-01T22:33:28.918638Z",
     "iopub.status.busy": "2025-02-01T22:33:28.918305Z",
     "iopub.status.idle": "2025-02-01T22:33:29.146406Z",
     "shell.execute_reply": "2025-02-01T22:33:29.145339Z"
    },
    "papermill": {
     "duration": 0.236983,
     "end_time": "2025-02-01T22:33:29.148500",
     "exception": false,
     "start_time": "2025-02-01T22:33:28.911517",
     "status": "completed"
    },
    "tags": []
   },
   "outputs": [
    {
     "data": {
      "text/html": [
       "<iframe\n",
       "    scrolling=\"no\"\n",
       "    width=\"100%\"\n",
       "    height=\"545px\"\n",
       "    src=\"iframe_figures/figure_6.html\"\n",
       "    frameborder=\"0\"\n",
       "    allowfullscreen\n",
       "></iframe>\n"
      ]
     },
     "metadata": {},
     "output_type": "display_data"
    }
   ],
   "source": [
    "express.scatter(data_frame=df, x='Date', y='Volume', color='year', log_y=False).show(renderer='iframe_connected')"
   ]
  },
  {
   "cell_type": "markdown",
   "id": "dedbeda2",
   "metadata": {
    "papermill": {
     "duration": 0.00607,
     "end_time": "2025-02-01T22:33:29.161577",
     "exception": false,
     "start_time": "2025-02-01T22:33:29.155507",
     "status": "completed"
    },
    "tags": []
   },
   "source": [
    "Volume looks almost flat, but with a slight upward slope over time, but the overall shape of the plot is dominated by outliers. Let's again try again, with a log plot, to see if we can relativize some of our volume volatility."
   ]
  },
  {
   "cell_type": "code",
   "execution_count": 7,
   "id": "79de9b02",
   "metadata": {
    "execution": {
     "iopub.execute_input": "2025-02-01T22:33:29.174727Z",
     "iopub.status.busy": "2025-02-01T22:33:29.174371Z",
     "iopub.status.idle": "2025-02-01T22:33:29.403287Z",
     "shell.execute_reply": "2025-02-01T22:33:29.402171Z"
    },
    "papermill": {
     "duration": 0.237542,
     "end_time": "2025-02-01T22:33:29.405104",
     "exception": false,
     "start_time": "2025-02-01T22:33:29.167562",
     "status": "completed"
    },
    "tags": []
   },
   "outputs": [
    {
     "data": {
      "text/html": [
       "<iframe\n",
       "    scrolling=\"no\"\n",
       "    width=\"100%\"\n",
       "    height=\"545px\"\n",
       "    src=\"iframe_figures/figure_7.html\"\n",
       "    frameborder=\"0\"\n",
       "    allowfullscreen\n",
       "></iframe>\n"
      ]
     },
     "metadata": {},
     "output_type": "display_data"
    }
   ],
   "source": [
    "express.scatter(data_frame=df, x='Date', y='Volume', color='year', log_y=True).show(renderer='iframe_connected')"
   ]
  },
  {
   "cell_type": "markdown",
   "id": "f6fd01cb",
   "metadata": {
    "papermill": {
     "duration": 0.005691,
     "end_time": "2025-02-01T22:33:29.417107",
     "exception": false,
     "start_time": "2025-02-01T22:33:29.411416",
     "status": "completed"
    },
    "tags": []
   },
   "source": [
    "What do we see? Again we see that a log plot shows volume behavior with relative change rather than absolute change being more prominent. And we can clearly see that volume has gradually risen on average over time. Let's go back to our price/volume correlations and take another look, with price and volume in the same plot."
   ]
  },
  {
   "cell_type": "code",
   "execution_count": 8,
   "id": "069d2a10",
   "metadata": {
    "execution": {
     "iopub.execute_input": "2025-02-01T22:33:29.430280Z",
     "iopub.status.busy": "2025-02-01T22:33:29.429822Z",
     "iopub.status.idle": "2025-02-01T22:33:29.488676Z",
     "shell.execute_reply": "2025-02-01T22:33:29.487684Z"
    },
    "papermill": {
     "duration": 0.067385,
     "end_time": "2025-02-01T22:33:29.490390",
     "exception": false,
     "start_time": "2025-02-01T22:33:29.423005",
     "status": "completed"
    },
    "tags": []
   },
   "outputs": [
    {
     "data": {
      "text/html": [
       "<iframe\n",
       "    scrolling=\"no\"\n",
       "    width=\"100%\"\n",
       "    height=\"545px\"\n",
       "    src=\"iframe_figures/figure_8.html\"\n",
       "    frameborder=\"0\"\n",
       "    allowfullscreen\n",
       "></iframe>\n"
      ]
     },
     "metadata": {},
     "output_type": "display_data"
    }
   ],
   "source": [
    "express.scatter(data_frame=df, x='Adj Close', y='Volume', color='year', log_y=True).show(renderer='iframe_connected')"
   ]
  },
  {
   "cell_type": "markdown",
   "id": "fbb2026d",
   "metadata": {
    "papermill": {
     "duration": 0.005864,
     "end_time": "2025-02-01T22:33:29.502380",
     "exception": false,
     "start_time": "2025-02-01T22:33:29.496516",
     "status": "completed"
    },
    "tags": []
   },
   "source": [
    "What do we see? Based on the overall Pearson correlation we calculated above, we might expect to see this plot trending upward over time, but in fact what we see is that the slope is essentially flat, suggesting a weak to negligible correlation between price and the log of the volume, except for the very early years. "
   ]
  },
  {
   "cell_type": "markdown",
   "id": "8f7b9d91",
   "metadata": {
    "papermill": {
     "duration": 0.005987,
     "end_time": "2025-02-01T22:33:29.514426",
     "exception": false,
     "start_time": "2025-02-01T22:33:29.508439",
     "status": "completed"
    },
    "tags": []
   },
   "source": [
    "Let's look at how the correlation behaves if we take the series starting at each year."
   ]
  },
  {
   "cell_type": "code",
   "execution_count": 9,
   "id": "2a17fbf7",
   "metadata": {
    "execution": {
     "iopub.execute_input": "2025-02-01T22:33:29.527843Z",
     "iopub.status.busy": "2025-02-01T22:33:29.527478Z",
     "iopub.status.idle": "2025-02-01T22:33:29.740916Z",
     "shell.execute_reply": "2025-02-01T22:33:29.739671Z"
    },
    "papermill": {
     "duration": 0.222578,
     "end_time": "2025-02-01T22:33:29.743070",
     "exception": false,
     "start_time": "2025-02-01T22:33:29.520492",
     "status": "completed"
    },
    "tags": []
   },
   "outputs": [
    {
     "data": {
      "text/html": [
       "<iframe\n",
       "    scrolling=\"no\"\n",
       "    width=\"100%\"\n",
       "    height=\"545px\"\n",
       "    src=\"iframe_figures/figure_9.html\"\n",
       "    frameborder=\"0\"\n",
       "    allowfullscreen\n",
       "></iframe>\n"
      ]
     },
     "metadata": {},
     "output_type": "display_data"
    }
   ],
   "source": [
    "express.line(\n",
    "y=[df[df['year'] > year][['Adj Close', 'Volume']].corr()[['Adj Close']].T['Volume']['Adj Close'] for year in df['year'].unique().tolist()[:-1]]    \n",
    ").show(renderer='iframe_connected')"
   ]
  },
  {
   "cell_type": "markdown",
   "id": "cca802b2",
   "metadata": {
    "papermill": {
     "duration": 0.005886,
     "end_time": "2025-02-01T22:33:29.755276",
     "exception": false,
     "start_time": "2025-02-01T22:33:29.749390",
     "status": "completed"
    },
    "tags": []
   },
   "source": [
    "What do we see? We see that the positive correlation dies off over time, reaches a minimum, and then oscillates. This suggests that price/volume correlation varies a lot year to year, which is not something we can see from the overall daily Pearson correlation or from the price/volume plot."
   ]
  },
  {
   "cell_type": "markdown",
   "id": "31464872",
   "metadata": {
    "papermill": {
     "duration": 0.005757,
     "end_time": "2025-02-01T22:33:29.767031",
     "exception": false,
     "start_time": "2025-02-01T22:33:29.761274",
     "status": "completed"
    },
    "tags": []
   },
   "source": [
    "Let's look at the same data, but with the annual price/volume correlation."
   ]
  },
  {
   "cell_type": "code",
   "execution_count": 10,
   "id": "d220be69",
   "metadata": {
    "execution": {
     "iopub.execute_input": "2025-02-01T22:33:29.780620Z",
     "iopub.status.busy": "2025-02-01T22:33:29.780229Z",
     "iopub.status.idle": "2025-02-01T22:33:29.943575Z",
     "shell.execute_reply": "2025-02-01T22:33:29.942436Z"
    },
    "papermill": {
     "duration": 0.172585,
     "end_time": "2025-02-01T22:33:29.945714",
     "exception": false,
     "start_time": "2025-02-01T22:33:29.773129",
     "status": "completed"
    },
    "tags": []
   },
   "outputs": [
    {
     "data": {
      "text/html": [
       "<iframe\n",
       "    scrolling=\"no\"\n",
       "    width=\"100%\"\n",
       "    height=\"545px\"\n",
       "    src=\"iframe_figures/figure_10.html\"\n",
       "    frameborder=\"0\"\n",
       "    allowfullscreen\n",
       "></iframe>\n"
      ]
     },
     "metadata": {},
     "output_type": "display_data"
    }
   ],
   "source": [
    "express.scatter(\n",
    "    data_frame=pd.DataFrame(data=[pd.Series(data={'year': year,\n",
    "                          'correlation': df[df['year'] == year][['Adj Close', 'Volume']].corr().to_dict()['Adj Close']['Volume']}) \n",
    "           for year in range(1962, 2025)]),\n",
    "    x='year',\n",
    "    y='correlation').show(renderer='iframe_connected')"
   ]
  },
  {
   "cell_type": "markdown",
   "id": "158e0865",
   "metadata": {
    "papermill": {
     "duration": 0.005947,
     "end_time": "2025-02-01T22:33:29.958237",
     "exception": false,
     "start_time": "2025-02-01T22:33:29.952290",
     "status": "completed"
    },
    "tags": []
   },
   "source": [
    "Interestingly, the annual price/volume correlation looks essentially random."
   ]
  }
 ],
 "metadata": {
  "kaggle": {
   "accelerator": "none",
   "dataSources": [
    {
     "datasetId": 6581076,
     "sourceId": 10629002,
     "sourceType": "datasetVersion"
    }
   ],
   "dockerImageVersionId": 30839,
   "isGpuEnabled": false,
   "isInternetEnabled": true,
   "language": "python",
   "sourceType": "notebook"
  },
  "kernelspec": {
   "display_name": "Python 3",
   "language": "python",
   "name": "python3"
  },
  "language_info": {
   "codemirror_mode": {
    "name": "ipython",
    "version": 3
   },
   "file_extension": ".py",
   "mimetype": "text/x-python",
   "name": "python",
   "nbconvert_exporter": "python",
   "pygments_lexer": "ipython3",
   "version": "3.10.12"
  },
  "papermill": {
   "default_parameters": {},
   "duration": 11.687971,
   "end_time": "2025-02-01T22:33:30.585016",
   "environment_variables": {},
   "exception": null,
   "input_path": "__notebook__.ipynb",
   "output_path": "__notebook__.ipynb",
   "parameters": {},
   "start_time": "2025-02-01T22:33:18.897045",
   "version": "2.6.0"
  }
 },
 "nbformat": 4,
 "nbformat_minor": 5
}
