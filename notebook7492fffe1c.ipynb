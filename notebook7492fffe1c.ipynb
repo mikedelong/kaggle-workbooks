{
 "cells": [
  {
   "cell_type": "markdown",
   "id": "22a07225",
   "metadata": {
    "papermill": {
     "duration": 0.005148,
     "end_time": "2025-02-01T22:20:49.155802",
     "exception": false,
     "start_time": "2025-02-01T22:20:49.150654",
     "status": "completed"
    },
    "tags": []
   },
   "source": [
    "First let's load up our data and do a little feature engineering. We may want to use the year to indicate the passage of time in some of our plots that aren't time series plots, so let's add that."
   ]
  },
  {
   "cell_type": "code",
   "execution_count": 1,
   "id": "cd8e4330",
   "metadata": {
    "_cell_guid": "b1076dfc-b9ad-4769-8c92-a6c4dae69d19",
    "_uuid": "8f2839f25d086af736a60e9eeb907d3b93b6e0e5",
    "execution": {
     "iopub.execute_input": "2025-02-01T22:20:49.166254Z",
     "iopub.status.busy": "2025-02-01T22:20:49.165901Z",
     "iopub.status.idle": "2025-02-01T22:20:50.412820Z",
     "shell.execute_reply": "2025-02-01T22:20:50.411746Z"
    },
    "papermill": {
     "duration": 1.254229,
     "end_time": "2025-02-01T22:20:50.414694",
     "exception": false,
     "start_time": "2025-02-01T22:20:49.160465",
     "status": "completed"
    },
    "tags": []
   },
   "outputs": [
    {
     "data": {
      "text/html": [
       "<div>\n",
       "<style scoped>\n",
       "    .dataframe tbody tr th:only-of-type {\n",
       "        vertical-align: middle;\n",
       "    }\n",
       "\n",
       "    .dataframe tbody tr th {\n",
       "        vertical-align: top;\n",
       "    }\n",
       "\n",
       "    .dataframe thead th {\n",
       "        text-align: right;\n",
       "    }\n",
       "</style>\n",
       "<table border=\"1\" class=\"dataframe\">\n",
       "  <thead>\n",
       "    <tr style=\"text-align: right;\">\n",
       "      <th></th>\n",
       "      <th>Date</th>\n",
       "      <th>Open</th>\n",
       "      <th>High</th>\n",
       "      <th>Low</th>\n",
       "      <th>Close</th>\n",
       "      <th>Adj Close</th>\n",
       "      <th>Volume</th>\n",
       "      <th>year</th>\n",
       "    </tr>\n",
       "  </thead>\n",
       "  <tbody>\n",
       "    <tr>\n",
       "      <th>0</th>\n",
       "      <td>1962-01-02</td>\n",
       "      <td>0.263021</td>\n",
       "      <td>0.270182</td>\n",
       "      <td>0.263021</td>\n",
       "      <td>0.263021</td>\n",
       "      <td>0.046381</td>\n",
       "      <td>806400</td>\n",
       "      <td>1962</td>\n",
       "    </tr>\n",
       "    <tr>\n",
       "      <th>1</th>\n",
       "      <td>1962-01-03</td>\n",
       "      <td>0.259115</td>\n",
       "      <td>0.259115</td>\n",
       "      <td>0.253255</td>\n",
       "      <td>0.257161</td>\n",
       "      <td>0.045348</td>\n",
       "      <td>1574400</td>\n",
       "      <td>1962</td>\n",
       "    </tr>\n",
       "    <tr>\n",
       "      <th>2</th>\n",
       "      <td>1962-01-04</td>\n",
       "      <td>0.257813</td>\n",
       "      <td>0.261068</td>\n",
       "      <td>0.257813</td>\n",
       "      <td>0.259115</td>\n",
       "      <td>0.045692</td>\n",
       "      <td>844800</td>\n",
       "      <td>1962</td>\n",
       "    </tr>\n",
       "    <tr>\n",
       "      <th>3</th>\n",
       "      <td>1962-01-05</td>\n",
       "      <td>0.259115</td>\n",
       "      <td>0.262370</td>\n",
       "      <td>0.252604</td>\n",
       "      <td>0.253255</td>\n",
       "      <td>0.044659</td>\n",
       "      <td>1420800</td>\n",
       "      <td>1962</td>\n",
       "    </tr>\n",
       "    <tr>\n",
       "      <th>4</th>\n",
       "      <td>1962-01-08</td>\n",
       "      <td>0.251302</td>\n",
       "      <td>0.251302</td>\n",
       "      <td>0.245768</td>\n",
       "      <td>0.250651</td>\n",
       "      <td>0.044200</td>\n",
       "      <td>2035200</td>\n",
       "      <td>1962</td>\n",
       "    </tr>\n",
       "  </tbody>\n",
       "</table>\n",
       "</div>"
      ],
      "text/plain": [
       "        Date      Open      High       Low     Close  Adj Close   Volume  year\n",
       "0 1962-01-02  0.263021  0.270182  0.263021  0.263021   0.046381   806400  1962\n",
       "1 1962-01-03  0.259115  0.259115  0.253255  0.257161   0.045348  1574400  1962\n",
       "2 1962-01-04  0.257813  0.261068  0.257813  0.259115   0.045692   844800  1962\n",
       "3 1962-01-05  0.259115  0.262370  0.252604  0.253255   0.044659  1420800  1962\n",
       "4 1962-01-08  0.251302  0.251302  0.245768  0.250651   0.044200  2035200  1962"
      ]
     },
     "execution_count": 1,
     "metadata": {},
     "output_type": "execute_result"
    }
   ],
   "source": [
    "import pandas as pd\n",
    "\n",
    "KO = '/kaggle/input/coca-cola-complete-stocks-dataweekly-updated/KO_1919-09-06_2025-01-31.csv'\n",
    "df = pd.read_csv(filepath_or_buffer=KO, parse_dates=['Date'])\n",
    "df['year'] = df['Date'].dt.year\n",
    "df.head()"
   ]
  },
  {
   "cell_type": "markdown",
   "id": "8a042652",
   "metadata": {
    "papermill": {
     "duration": 0.004338,
     "end_time": "2025-02-01T22:20:50.423915",
     "exception": false,
     "start_time": "2025-02-01T22:20:50.419577",
     "status": "completed"
    },
    "tags": []
   },
   "source": [
    "Next let's look at our daily price and volume correlations. This will tell us if we have any redundant data, and it will tell us a little about how volume behaves as a function of the price."
   ]
  },
  {
   "cell_type": "code",
   "execution_count": 2,
   "id": "53004835",
   "metadata": {
    "execution": {
     "iopub.execute_input": "2025-02-01T22:20:50.434496Z",
     "iopub.status.busy": "2025-02-01T22:20:50.434145Z",
     "iopub.status.idle": "2025-02-01T22:20:50.458578Z",
     "shell.execute_reply": "2025-02-01T22:20:50.457460Z"
    },
    "papermill": {
     "duration": 0.03177,
     "end_time": "2025-02-01T22:20:50.460255",
     "exception": false,
     "start_time": "2025-02-01T22:20:50.428485",
     "status": "completed"
    },
    "tags": []
   },
   "outputs": [
    {
     "data": {
      "text/html": [
       "<div>\n",
       "<style scoped>\n",
       "    .dataframe tbody tr th:only-of-type {\n",
       "        vertical-align: middle;\n",
       "    }\n",
       "\n",
       "    .dataframe tbody tr th {\n",
       "        vertical-align: top;\n",
       "    }\n",
       "\n",
       "    .dataframe thead th {\n",
       "        text-align: right;\n",
       "    }\n",
       "</style>\n",
       "<table border=\"1\" class=\"dataframe\">\n",
       "  <thead>\n",
       "    <tr style=\"text-align: right;\">\n",
       "      <th></th>\n",
       "      <th>Open</th>\n",
       "      <th>High</th>\n",
       "      <th>Low</th>\n",
       "      <th>Close</th>\n",
       "      <th>Adj Close</th>\n",
       "      <th>Volume</th>\n",
       "    </tr>\n",
       "  </thead>\n",
       "  <tbody>\n",
       "    <tr>\n",
       "      <th>Open</th>\n",
       "      <td>1.000000</td>\n",
       "      <td>0.999946</td>\n",
       "      <td>0.999937</td>\n",
       "      <td>0.999894</td>\n",
       "      <td>0.969414</td>\n",
       "      <td>0.471763</td>\n",
       "    </tr>\n",
       "    <tr>\n",
       "      <th>High</th>\n",
       "      <td>0.999946</td>\n",
       "      <td>1.000000</td>\n",
       "      <td>0.999915</td>\n",
       "      <td>0.999947</td>\n",
       "      <td>0.969053</td>\n",
       "      <td>0.473107</td>\n",
       "    </tr>\n",
       "    <tr>\n",
       "      <th>Low</th>\n",
       "      <td>0.999937</td>\n",
       "      <td>0.999915</td>\n",
       "      <td>1.000000</td>\n",
       "      <td>0.999947</td>\n",
       "      <td>0.969846</td>\n",
       "      <td>0.469890</td>\n",
       "    </tr>\n",
       "    <tr>\n",
       "      <th>Close</th>\n",
       "      <td>0.999894</td>\n",
       "      <td>0.999947</td>\n",
       "      <td>0.999947</td>\n",
       "      <td>1.000000</td>\n",
       "      <td>0.969424</td>\n",
       "      <td>0.471387</td>\n",
       "    </tr>\n",
       "    <tr>\n",
       "      <th>Adj Close</th>\n",
       "      <td>0.969414</td>\n",
       "      <td>0.969053</td>\n",
       "      <td>0.969846</td>\n",
       "      <td>0.969424</td>\n",
       "      <td>1.000000</td>\n",
       "      <td>0.434369</td>\n",
       "    </tr>\n",
       "    <tr>\n",
       "      <th>Volume</th>\n",
       "      <td>0.471763</td>\n",
       "      <td>0.473107</td>\n",
       "      <td>0.469890</td>\n",
       "      <td>0.471387</td>\n",
       "      <td>0.434369</td>\n",
       "      <td>1.000000</td>\n",
       "    </tr>\n",
       "  </tbody>\n",
       "</table>\n",
       "</div>"
      ],
      "text/plain": [
       "               Open      High       Low     Close  Adj Close    Volume\n",
       "Open       1.000000  0.999946  0.999937  0.999894   0.969414  0.471763\n",
       "High       0.999946  1.000000  0.999915  0.999947   0.969053  0.473107\n",
       "Low        0.999937  0.999915  1.000000  0.999947   0.969846  0.469890\n",
       "Close      0.999894  0.999947  0.999947  1.000000   0.969424  0.471387\n",
       "Adj Close  0.969414  0.969053  0.969846  0.969424   1.000000  0.434369\n",
       "Volume     0.471763  0.473107  0.469890  0.471387   0.434369  1.000000"
      ]
     },
     "execution_count": 2,
     "metadata": {},
     "output_type": "execute_result"
    }
   ],
   "source": [
    "df[['Open', 'High', 'Low', 'Close', 'Adj Close', 'Volume']].corr()"
   ]
  },
  {
   "cell_type": "markdown",
   "id": "8e1f02fa",
   "metadata": {
    "papermill": {
     "duration": 0.004573,
     "end_time": "2025-02-01T22:20:50.469831",
     "exception": false,
     "start_time": "2025-02-01T22:20:50.465258",
     "status": "completed"
    },
    "tags": []
   },
   "source": [
    "What do we see? We see that none of our prices are perfectly correlated, so we know none of the price series are redundant. In particular, the difference between the closing price and the adjusted closing price usually represents dividends, and KO has historically been known as a dividend stock, so it isn't surprising that the lowest price correlations are between the Close and Adj Close prices. Finally, it is a little surprising, but the prices and the volume are somewhat positively correlated, which is unusual."
   ]
  },
  {
   "cell_type": "markdown",
   "id": "d1d11732",
   "metadata": {
    "papermill": {
     "duration": 0.00451,
     "end_time": "2025-02-01T22:20:50.479368",
     "exception": false,
     "start_time": "2025-02-01T22:20:50.474858",
     "status": "completed"
    },
    "tags": []
   },
   "source": [
    "Let's look at the price time series. We'll use the adjusted closing price because it best represents the total return (including splits and dividends) over time."
   ]
  },
  {
   "cell_type": "code",
   "execution_count": 3,
   "id": "cc5ecb8e",
   "metadata": {
    "execution": {
     "iopub.execute_input": "2025-02-01T22:20:50.490348Z",
     "iopub.status.busy": "2025-02-01T22:20:50.489968Z",
     "iopub.status.idle": "2025-02-01T22:20:54.282898Z",
     "shell.execute_reply": "2025-02-01T22:20:54.281964Z"
    },
    "papermill": {
     "duration": 3.800428,
     "end_time": "2025-02-01T22:20:54.284556",
     "exception": false,
     "start_time": "2025-02-01T22:20:50.484128",
     "status": "completed"
    },
    "tags": []
   },
   "outputs": [
    {
     "data": {
      "text/html": [
       "        <script type=\"text/javascript\">\n",
       "        window.PlotlyConfig = {MathJaxConfig: 'local'};\n",
       "        if (window.MathJax && window.MathJax.Hub && window.MathJax.Hub.Config) {window.MathJax.Hub.Config({SVG: {font: \"STIX-Web\"}});}\n",
       "        if (typeof require !== 'undefined') {\n",
       "        require.undef(\"plotly\");\n",
       "        requirejs.config({\n",
       "            paths: {\n",
       "                'plotly': ['https://cdn.plot.ly/plotly-2.35.2.min']\n",
       "            }\n",
       "        });\n",
       "        require(['plotly'], function(Plotly) {\n",
       "            window._Plotly = Plotly;\n",
       "        });\n",
       "        }\n",
       "        </script>\n",
       "        "
      ]
     },
     "metadata": {},
     "output_type": "display_data"
    },
    {
     "data": {
      "text/html": [
       "<iframe\n",
       "    scrolling=\"no\"\n",
       "    width=\"100%\"\n",
       "    height=\"545px\"\n",
       "    src=\"iframe_figures/figure_3.html\"\n",
       "    frameborder=\"0\"\n",
       "    allowfullscreen\n",
       "></iframe>\n"
      ]
     },
     "metadata": {},
     "output_type": "display_data"
    }
   ],
   "source": [
    "from plotly import express\n",
    "from plotly.offline import init_notebook_mode\n",
    "\n",
    "init_notebook_mode(connected=True)\n",
    "\n",
    "express.line(data_frame=df, x='Date', y='Adj Close', color='year').show(renderer='iframe_connected')"
   ]
  },
  {
   "cell_type": "markdown",
   "id": "0582fad1",
   "metadata": {
    "papermill": {
     "duration": 0.00488,
     "end_time": "2025-02-01T22:20:54.294680",
     "exception": false,
     "start_time": "2025-02-01T22:20:54.289800",
     "status": "completed"
    },
    "tags": []
   },
   "source": [
    "Because there has been so much price appreciation the first twenty years of our data looks flat. Let's use a log plot for the price instead, to see if we can see any volatility for prices for those years."
   ]
  },
  {
   "cell_type": "code",
   "execution_count": 4,
   "id": "0d6354b3",
   "metadata": {
    "execution": {
     "iopub.execute_input": "2025-02-01T22:20:54.306216Z",
     "iopub.status.busy": "2025-02-01T22:20:54.305845Z",
     "iopub.status.idle": "2025-02-01T22:20:54.897204Z",
     "shell.execute_reply": "2025-02-01T22:20:54.896253Z"
    },
    "papermill": {
     "duration": 0.599182,
     "end_time": "2025-02-01T22:20:54.898989",
     "exception": false,
     "start_time": "2025-02-01T22:20:54.299807",
     "status": "completed"
    },
    "tags": []
   },
   "outputs": [
    {
     "data": {
      "text/html": [
       "<iframe\n",
       "    scrolling=\"no\"\n",
       "    width=\"100%\"\n",
       "    height=\"545px\"\n",
       "    src=\"iframe_figures/figure_4.html\"\n",
       "    frameborder=\"0\"\n",
       "    allowfullscreen\n",
       "></iframe>\n"
      ]
     },
     "metadata": {},
     "output_type": "display_data"
    }
   ],
   "source": [
    "express.line(data_frame=df, x='Date', y='Adj Close', color='year', log_y=True).show(renderer='iframe_connected')"
   ]
  },
  {
   "cell_type": "markdown",
   "id": "89a453ef",
   "metadata": {
    "papermill": {
     "duration": 0.004985,
     "end_time": "2025-02-01T22:20:54.909846",
     "exception": false,
     "start_time": "2025-02-01T22:20:54.904861",
     "status": "completed"
    },
    "tags": []
   },
   "source": [
    "What do we see? KO looks like a steady upward climb with occasional retrenchments, some of them lasting a decade or more. Coloring by the year doesn't really do what we want it to do, so let's try again with a scatter plot."
   ]
  },
  {
   "cell_type": "code",
   "execution_count": 5,
   "id": "0fd3cada",
   "metadata": {
    "execution": {
     "iopub.execute_input": "2025-02-01T22:20:54.921319Z",
     "iopub.status.busy": "2025-02-01T22:20:54.920964Z",
     "iopub.status.idle": "2025-02-01T22:20:55.196642Z",
     "shell.execute_reply": "2025-02-01T22:20:55.195481Z"
    },
    "papermill": {
     "duration": 0.28358,
     "end_time": "2025-02-01T22:20:55.198539",
     "exception": false,
     "start_time": "2025-02-01T22:20:54.914959",
     "status": "completed"
    },
    "tags": []
   },
   "outputs": [
    {
     "data": {
      "text/html": [
       "<iframe\n",
       "    scrolling=\"no\"\n",
       "    width=\"100%\"\n",
       "    height=\"545px\"\n",
       "    src=\"iframe_figures/figure_5.html\"\n",
       "    frameborder=\"0\"\n",
       "    allowfullscreen\n",
       "></iframe>\n"
      ]
     },
     "metadata": {},
     "output_type": "display_data"
    }
   ],
   "source": [
    "express.scatter(data_frame=df, x='Date', y='Adj Close', color='year', log_y=True).show(renderer='iframe_connected')"
   ]
  },
  {
   "cell_type": "markdown",
   "id": "c89e8ef6",
   "metadata": {
    "papermill": {
     "duration": 0.005153,
     "end_time": "2025-02-01T22:20:55.209193",
     "exception": false,
     "start_time": "2025-02-01T22:20:55.204040",
     "status": "completed"
    },
    "tags": []
   },
   "source": [
    "Much better. Now time seems to pass more or less continuously, rather than abruptly at the end of each calendar year."
   ]
  },
  {
   "cell_type": "markdown",
   "id": "27757c16",
   "metadata": {
    "papermill": {
     "duration": 0.00487,
     "end_time": "2025-02-01T22:20:55.219239",
     "exception": false,
     "start_time": "2025-02-01T22:20:55.214369",
     "status": "completed"
    },
    "tags": []
   },
   "source": [
    "Next let's look at the volume time series."
   ]
  },
  {
   "cell_type": "code",
   "execution_count": 6,
   "id": "31f8a4f7",
   "metadata": {
    "execution": {
     "iopub.execute_input": "2025-02-01T22:20:55.231008Z",
     "iopub.status.busy": "2025-02-01T22:20:55.230580Z",
     "iopub.status.idle": "2025-02-01T22:20:55.468823Z",
     "shell.execute_reply": "2025-02-01T22:20:55.467752Z"
    },
    "papermill": {
     "duration": 0.246109,
     "end_time": "2025-02-01T22:20:55.470524",
     "exception": false,
     "start_time": "2025-02-01T22:20:55.224415",
     "status": "completed"
    },
    "tags": []
   },
   "outputs": [
    {
     "data": {
      "text/html": [
       "<iframe\n",
       "    scrolling=\"no\"\n",
       "    width=\"100%\"\n",
       "    height=\"545px\"\n",
       "    src=\"iframe_figures/figure_6.html\"\n",
       "    frameborder=\"0\"\n",
       "    allowfullscreen\n",
       "></iframe>\n"
      ]
     },
     "metadata": {},
     "output_type": "display_data"
    }
   ],
   "source": [
    "express.scatter(data_frame=df, x='Date', y='Volume', color='year', log_y=False).show(renderer='iframe_connected')"
   ]
  },
  {
   "cell_type": "markdown",
   "id": "6e9168c3",
   "metadata": {
    "papermill": {
     "duration": 0.005063,
     "end_time": "2025-02-01T22:20:55.481371",
     "exception": false,
     "start_time": "2025-02-01T22:20:55.476308",
     "status": "completed"
    },
    "tags": []
   },
   "source": [
    "Volume looks almost flat, but with a slight upward slope over time, but the overall shape of the plot is dominated by outliers. Let's again try again, with a log plot, to see if we can relativize some of our volume volatility."
   ]
  },
  {
   "cell_type": "code",
   "execution_count": 7,
   "id": "bdd803c7",
   "metadata": {
    "execution": {
     "iopub.execute_input": "2025-02-01T22:20:55.493093Z",
     "iopub.status.busy": "2025-02-01T22:20:55.492729Z",
     "iopub.status.idle": "2025-02-01T22:20:55.729284Z",
     "shell.execute_reply": "2025-02-01T22:20:55.728179Z"
    },
    "papermill": {
     "duration": 0.244428,
     "end_time": "2025-02-01T22:20:55.731036",
     "exception": false,
     "start_time": "2025-02-01T22:20:55.486608",
     "status": "completed"
    },
    "tags": []
   },
   "outputs": [
    {
     "data": {
      "text/html": [
       "<iframe\n",
       "    scrolling=\"no\"\n",
       "    width=\"100%\"\n",
       "    height=\"545px\"\n",
       "    src=\"iframe_figures/figure_7.html\"\n",
       "    frameborder=\"0\"\n",
       "    allowfullscreen\n",
       "></iframe>\n"
      ]
     },
     "metadata": {},
     "output_type": "display_data"
    }
   ],
   "source": [
    "express.scatter(data_frame=df, x='Date', y='Volume', color='year', log_y=True).show(renderer='iframe_connected')"
   ]
  },
  {
   "cell_type": "markdown",
   "id": "2765d923",
   "metadata": {
    "papermill": {
     "duration": 0.005454,
     "end_time": "2025-02-01T22:20:55.742345",
     "exception": false,
     "start_time": "2025-02-01T22:20:55.736891",
     "status": "completed"
    },
    "tags": []
   },
   "source": [
    "What do we see? Again we see that a log plot shows volume behavior with relative change rather than absolute change being more prominent. And we can clearly see that volume has gradually risen on average over time. Let's go back to our price/volume correlations and take another look, with price and volume in the same plot."
   ]
  },
  {
   "cell_type": "code",
   "execution_count": 8,
   "id": "be03102d",
   "metadata": {
    "execution": {
     "iopub.execute_input": "2025-02-01T22:20:55.754684Z",
     "iopub.status.busy": "2025-02-01T22:20:55.754326Z",
     "iopub.status.idle": "2025-02-01T22:20:55.813655Z",
     "shell.execute_reply": "2025-02-01T22:20:55.812807Z"
    },
    "papermill": {
     "duration": 0.067536,
     "end_time": "2025-02-01T22:20:55.815502",
     "exception": false,
     "start_time": "2025-02-01T22:20:55.747966",
     "status": "completed"
    },
    "tags": []
   },
   "outputs": [
    {
     "data": {
      "text/html": [
       "<iframe\n",
       "    scrolling=\"no\"\n",
       "    width=\"100%\"\n",
       "    height=\"545px\"\n",
       "    src=\"iframe_figures/figure_8.html\"\n",
       "    frameborder=\"0\"\n",
       "    allowfullscreen\n",
       "></iframe>\n"
      ]
     },
     "metadata": {},
     "output_type": "display_data"
    }
   ],
   "source": [
    "express.scatter(data_frame=df, x='Adj Close', y='Volume', color='year', log_y=True).show(renderer='iframe_connected')"
   ]
  },
  {
   "cell_type": "markdown",
   "id": "0d6fa157",
   "metadata": {
    "papermill": {
     "duration": 0.005375,
     "end_time": "2025-02-01T22:20:55.826760",
     "exception": false,
     "start_time": "2025-02-01T22:20:55.821385",
     "status": "completed"
    },
    "tags": []
   },
   "source": [
    "What do we see? Based on the overall Pearson correlation we calculated above, we might expect to see this plot trending upward over time, but in fact what we see is that the slope is essentially flat, suggesting a weak to negligible correlation between price and the log of the volume, except for the very early years. "
   ]
  },
  {
   "cell_type": "markdown",
   "id": "a6c64d09",
   "metadata": {
    "papermill": {
     "duration": 0.00528,
     "end_time": "2025-02-01T22:20:55.837756",
     "exception": false,
     "start_time": "2025-02-01T22:20:55.832476",
     "status": "completed"
    },
    "tags": []
   },
   "source": [
    "Let's look at how the correlation behaves if we take the series starting at each year."
   ]
  },
  {
   "cell_type": "code",
   "execution_count": 9,
   "id": "2ae18aea",
   "metadata": {
    "execution": {
     "iopub.execute_input": "2025-02-01T22:20:55.850085Z",
     "iopub.status.busy": "2025-02-01T22:20:55.849727Z",
     "iopub.status.idle": "2025-02-01T22:20:56.060986Z",
     "shell.execute_reply": "2025-02-01T22:20:56.059943Z"
    },
    "papermill": {
     "duration": 0.219553,
     "end_time": "2025-02-01T22:20:56.062897",
     "exception": false,
     "start_time": "2025-02-01T22:20:55.843344",
     "status": "completed"
    },
    "tags": []
   },
   "outputs": [
    {
     "data": {
      "text/html": [
       "<iframe\n",
       "    scrolling=\"no\"\n",
       "    width=\"100%\"\n",
       "    height=\"545px\"\n",
       "    src=\"iframe_figures/figure_9.html\"\n",
       "    frameborder=\"0\"\n",
       "    allowfullscreen\n",
       "></iframe>\n"
      ]
     },
     "metadata": {},
     "output_type": "display_data"
    }
   ],
   "source": [
    "express.line(\n",
    "y=[df[df['year'] > year][['Adj Close', 'Volume']].corr()[['Adj Close']].T['Volume']['Adj Close'] for year in df['year'].unique().tolist()[:-1]]    \n",
    ").show(renderer='iframe_connected')"
   ]
  },
  {
   "cell_type": "markdown",
   "id": "5c0dc80a",
   "metadata": {
    "papermill": {
     "duration": 0.005665,
     "end_time": "2025-02-01T22:20:56.074526",
     "exception": false,
     "start_time": "2025-02-01T22:20:56.068861",
     "status": "completed"
    },
    "tags": []
   },
   "source": [
    "What do we see? We see that the positive correlation dies off over time, reaches a minimum, and then oscillates. This suggests that price/volume correlation varies a lot year to year, which is not something we can see from the overall daily Pearson correlation or from the price/volume plot."
   ]
  }
 ],
 "metadata": {
  "kaggle": {
   "accelerator": "none",
   "dataSources": [
    {
     "datasetId": 6581076,
     "sourceId": 10629002,
     "sourceType": "datasetVersion"
    }
   ],
   "dockerImageVersionId": 30839,
   "isGpuEnabled": false,
   "isInternetEnabled": true,
   "language": "python",
   "sourceType": "notebook"
  },
  "kernelspec": {
   "display_name": "Python 3",
   "language": "python",
   "name": "python3"
  },
  "language_info": {
   "codemirror_mode": {
    "name": "ipython",
    "version": 3
   },
   "file_extension": ".py",
   "mimetype": "text/x-python",
   "name": "python",
   "nbconvert_exporter": "python",
   "pygments_lexer": "ipython3",
   "version": "3.10.12"
  },
  "papermill": {
   "default_parameters": {},
   "duration": 10.529915,
   "end_time": "2025-02-01T22:20:56.700534",
   "environment_variables": {},
   "exception": null,
   "input_path": "__notebook__.ipynb",
   "output_path": "__notebook__.ipynb",
   "parameters": {},
   "start_time": "2025-02-01T22:20:46.170619",
   "version": "2.6.0"
  }
 },
 "nbformat": 4,
 "nbformat_minor": 5
}
