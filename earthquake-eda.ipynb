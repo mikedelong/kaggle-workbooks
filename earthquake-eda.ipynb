{
 "cells": [
  {
   "cell_type": "code",
   "execution_count": 1,
   "id": "f564b4ea",
   "metadata": {
    "_cell_guid": "b1076dfc-b9ad-4769-8c92-a6c4dae69d19",
    "_uuid": "8f2839f25d086af736a60e9eeb907d3b93b6e0e5",
    "execution": {
     "iopub.execute_input": "2025-01-18T22:48:54.720020Z",
     "iopub.status.busy": "2025-01-18T22:48:54.719530Z",
     "iopub.status.idle": "2025-01-18T22:48:55.765660Z",
     "shell.execute_reply": "2025-01-18T22:48:55.764490Z"
    },
    "papermill": {
     "duration": 1.052969,
     "end_time": "2025-01-18T22:48:55.767591",
     "exception": false,
     "start_time": "2025-01-18T22:48:54.714622",
     "status": "completed"
    },
    "tags": []
   },
   "outputs": [
    {
     "data": {
      "text/html": [
       "<div>\n",
       "<style scoped>\n",
       "    .dataframe tbody tr th:only-of-type {\n",
       "        vertical-align: middle;\n",
       "    }\n",
       "\n",
       "    .dataframe tbody tr th {\n",
       "        vertical-align: top;\n",
       "    }\n",
       "\n",
       "    .dataframe thead th {\n",
       "        text-align: right;\n",
       "    }\n",
       "</style>\n",
       "<table border=\"1\" class=\"dataframe\">\n",
       "  <thead>\n",
       "    <tr style=\"text-align: right;\">\n",
       "      <th></th>\n",
       "      <th>year</th>\n",
       "      <th>month</th>\n",
       "      <th>day</th>\n",
       "      <th>richter</th>\n",
       "      <th>area</th>\n",
       "      <th>region</th>\n",
       "      <th>deaths</th>\n",
       "    </tr>\n",
       "  </thead>\n",
       "  <tbody>\n",
       "    <tr>\n",
       "      <th>0</th>\n",
       "      <td>1902</td>\n",
       "      <td>April</td>\n",
       "      <td>19</td>\n",
       "      <td>7.5</td>\n",
       "      <td>Quezaltenango and San Marco</td>\n",
       "      <td>Guatemala</td>\n",
       "      <td>2000.0</td>\n",
       "    </tr>\n",
       "    <tr>\n",
       "      <th>1</th>\n",
       "      <td>1902</td>\n",
       "      <td>December</td>\n",
       "      <td>16</td>\n",
       "      <td>6.4</td>\n",
       "      <td>Uzbekistan</td>\n",
       "      <td>Russia</td>\n",
       "      <td>4700.0</td>\n",
       "    </tr>\n",
       "    <tr>\n",
       "      <th>2</th>\n",
       "      <td>1903</td>\n",
       "      <td>April</td>\n",
       "      <td>28</td>\n",
       "      <td>7.0</td>\n",
       "      <td>Malazgirt</td>\n",
       "      <td>Turkey</td>\n",
       "      <td>3500.0</td>\n",
       "    </tr>\n",
       "    <tr>\n",
       "      <th>3</th>\n",
       "      <td>1903</td>\n",
       "      <td>May</td>\n",
       "      <td>28</td>\n",
       "      <td>5.8</td>\n",
       "      <td>Gole</td>\n",
       "      <td>Turkey</td>\n",
       "      <td>1000.0</td>\n",
       "    </tr>\n",
       "    <tr>\n",
       "      <th>4</th>\n",
       "      <td>1905</td>\n",
       "      <td>April</td>\n",
       "      <td>4</td>\n",
       "      <td>7.5</td>\n",
       "      <td>Kangra</td>\n",
       "      <td>India</td>\n",
       "      <td>19000.0</td>\n",
       "    </tr>\n",
       "  </tbody>\n",
       "</table>\n",
       "</div>"
      ],
      "text/plain": [
       "   year     month  day  richter                         area     region  \\\n",
       "0  1902     April   19      7.5  Quezaltenango and San Marco  Guatemala   \n",
       "1  1902  December   16      6.4                   Uzbekistan     Russia   \n",
       "2  1903     April   28      7.0                    Malazgirt     Turkey   \n",
       "3  1903       May   28      5.8                         Gole     Turkey   \n",
       "4  1905     April    4      7.5                       Kangra      India   \n",
       "\n",
       "    deaths  \n",
       "0   2000.0  \n",
       "1   4700.0  \n",
       "2   3500.0  \n",
       "3   1000.0  \n",
       "4  19000.0  "
      ]
     },
     "execution_count": 1,
     "metadata": {},
     "output_type": "execute_result"
    }
   ],
   "source": [
    "import pandas as pd\n",
    "\n",
    "DATA = '/kaggle/input/big-eartquakes-1900-1999-dataset/earthquakes.csv'\n",
    "df = pd.read_csv(filepath_or_buffer=DATA)\n",
    "df.head()"
   ]
  },
  {
   "cell_type": "markdown",
   "id": "3493dd7f",
   "metadata": {
    "papermill": {
     "duration": 0.002748,
     "end_time": "2025-01-18T22:48:55.773688",
     "exception": false,
     "start_time": "2025-01-18T22:48:55.770940",
     "status": "completed"
    },
    "tags": []
   },
   "source": [
    "The Richter scale is a logarithmic scale; how do we expect our Richter scale values to be distributed?"
   ]
  },
  {
   "cell_type": "code",
   "execution_count": 2,
   "id": "1d1dafd2",
   "metadata": {
    "execution": {
     "iopub.execute_input": "2025-01-18T22:48:55.781205Z",
     "iopub.status.busy": "2025-01-18T22:48:55.780733Z",
     "iopub.status.idle": "2025-01-18T22:48:58.103002Z",
     "shell.execute_reply": "2025-01-18T22:48:58.101740Z"
    },
    "papermill": {
     "duration": 2.328298,
     "end_time": "2025-01-18T22:48:58.104934",
     "exception": false,
     "start_time": "2025-01-18T22:48:55.776636",
     "status": "completed"
    },
    "tags": []
   },
   "outputs": [
    {
     "data": {
      "text/plain": [
       "<Axes: xlabel='richter', ylabel='Count'>"
      ]
     },
     "execution_count": 2,
     "metadata": {},
     "output_type": "execute_result"
    },
    {
     "data": {
      "image/png": "[encoded data removed]",
      "text/plain": [
       "<Figure size 1200x500 with 1 Axes>"
      ]
     },
     "metadata": {},
     "output_type": "display_data"
    }
   ],
   "source": [
    "import matplotlib.pyplot as plt\n",
    "from seaborn import histplot\n",
    "from warnings import filterwarnings\n",
    "\n",
    "filterwarnings(action='ignore', category=FutureWarning)\n",
    "plt.figure(figsize=(12, 5))\n",
    "histplot(data=df, x='richter')"
   ]
  },
  {
   "cell_type": "markdown",
   "id": "049059e8",
   "metadata": {
    "papermill": {
     "duration": 0.003063,
     "end_time": "2025-01-18T22:48:58.111731",
     "exception": false,
     "start_time": "2025-01-18T22:48:58.108668",
     "status": "completed"
    },
    "tags": []
   },
   "source": [
    "That's odd. We would expect lots more small earthquakes and almost no large ones. What we're probably seeing here is that little earthquakes are difficult to detect, or that detection equipment is not evenly distributed over places that have earthquakes, and that's why we see this sort of Gaussian distribution."
   ]
  },
  {
   "cell_type": "markdown",
   "id": "72384e63",
   "metadata": {
    "papermill": {
     "duration": 0.003129,
     "end_time": "2025-01-18T22:48:58.118652",
     "exception": false,
     "start_time": "2025-01-18T22:48:58.115523",
     "status": "completed"
    },
    "tags": []
   },
   "source": [
    "How would we expect death tolls to be distributed? We might expect them to be similarly distributed, but people are not evenly distributed relative to where earthquakes are distributed. So who knows?"
   ]
  },
  {
   "cell_type": "code",
   "execution_count": 3,
   "id": "cfb841f5",
   "metadata": {
    "execution": {
     "iopub.execute_input": "2025-01-18T22:48:58.126896Z",
     "iopub.status.busy": "2025-01-18T22:48:58.126322Z",
     "iopub.status.idle": "2025-01-18T22:48:58.855130Z",
     "shell.execute_reply": "2025-01-18T22:48:58.853837Z"
    },
    "papermill": {
     "duration": 0.735113,
     "end_time": "2025-01-18T22:48:58.857068",
     "exception": false,
     "start_time": "2025-01-18T22:48:58.121955",
     "status": "completed"
    },
    "tags": []
   },
   "outputs": [
    {
     "data": {
      "text/plain": [
       "<Axes: xlabel='deaths', ylabel='Count'>"
      ]
     },
     "execution_count": 3,
     "metadata": {},
     "output_type": "execute_result"
    },
    {
     "data": {
      "image/png": "[encoded data removed]",
      "text/plain": [
       "<Figure size 1200x500 with 1 Axes>"
      ]
     },
     "metadata": {},
     "output_type": "display_data"
    }
   ],
   "source": [
    "plt.figure(figsize=(12, 5))\n",
    "plt.yscale(value='log')\n",
    "histplot(data=df, x='deaths', bins=100)"
   ]
  },
  {
   "cell_type": "markdown",
   "id": "9a51b45e",
   "metadata": {
    "papermill": {
     "duration": 0.003989,
     "end_time": "2025-01-18T22:48:58.865064",
     "exception": false,
     "start_time": "2025-01-18T22:48:58.861075",
     "status": "completed"
    },
    "tags": []
   },
   "source": [
    "What do we see? We see that most earthquakes cause relatively few deaths, but in the right tail there are some events with quite large death tolls. Maybe we should try plotting this data together."
   ]
  },
  {
   "cell_type": "code",
   "execution_count": 4,
   "id": "8492a486",
   "metadata": {
    "execution": {
     "iopub.execute_input": "2025-01-18T22:48:58.874420Z",
     "iopub.status.busy": "2025-01-18T22:48:58.874007Z",
     "iopub.status.idle": "2025-01-18T22:48:59.631793Z",
     "shell.execute_reply": "2025-01-18T22:48:59.630561Z"
    },
    "papermill": {
     "duration": 0.765054,
     "end_time": "2025-01-18T22:48:59.633963",
     "exception": false,
     "start_time": "2025-01-18T22:48:58.868909",
     "status": "completed"
    },
    "tags": []
   },
   "outputs": [
    {
     "data": {
      "text/plain": [
       "<Axes: xlabel='richter', ylabel='deaths'>"
      ]
     },
     "execution_count": 4,
     "metadata": {},
     "output_type": "execute_result"
    },
    {
     "data": {
      "image/png": "[encoded data removed]",
      "text/plain": [
       "<Figure size 1200x500 with 1 Axes>"
      ]
     },
     "metadata": {},
     "output_type": "display_data"
    }
   ],
   "source": [
    "from seaborn import scatterplot\n",
    "\n",
    "\n",
    "plt.figure(figsize=(12, 5))\n",
    "plt.yscale(value='log')\n",
    "scatterplot(data=df, x='richter', y='deaths', hue='year')"
   ]
  },
  {
   "cell_type": "markdown",
   "id": "67f9ec47",
   "metadata": {
    "papermill": {
     "duration": 0.004511,
     "end_time": "2025-01-18T22:48:59.643568",
     "exception": false,
     "start_time": "2025-01-18T22:48:59.639057",
     "status": "completed"
    },
    "tags": []
   },
   "source": [
    "What do we see? There really appears to be no correlation whatsoever between the magnitude of an earthquake and its death toll."
   ]
  },
  {
   "cell_type": "code",
   "execution_count": 5,
   "id": "780f8d6f",
   "metadata": {
    "execution": {
     "iopub.execute_input": "2025-01-18T22:48:59.654674Z",
     "iopub.status.busy": "2025-01-18T22:48:59.654265Z",
     "iopub.status.idle": "2025-01-18T22:48:59.665932Z",
     "shell.execute_reply": "2025-01-18T22:48:59.664915Z"
    },
    "papermill": {
     "duration": 0.019026,
     "end_time": "2025-01-18T22:48:59.667538",
     "exception": false,
     "start_time": "2025-01-18T22:48:59.648512",
     "status": "completed"
    },
    "tags": []
   },
   "outputs": [
    {
     "data": {
      "text/html": [
       "<div>\n",
       "<style scoped>\n",
       "    .dataframe tbody tr th:only-of-type {\n",
       "        vertical-align: middle;\n",
       "    }\n",
       "\n",
       "    .dataframe tbody tr th {\n",
       "        vertical-align: top;\n",
       "    }\n",
       "\n",
       "    .dataframe thead th {\n",
       "        text-align: right;\n",
       "    }\n",
       "</style>\n",
       "<table border=\"1\" class=\"dataframe\">\n",
       "  <thead>\n",
       "    <tr style=\"text-align: right;\">\n",
       "      <th></th>\n",
       "      <th>year</th>\n",
       "      <th>richter</th>\n",
       "      <th>deaths</th>\n",
       "    </tr>\n",
       "  </thead>\n",
       "  <tbody>\n",
       "    <tr>\n",
       "      <th>year</th>\n",
       "      <td>1.000000</td>\n",
       "      <td>-0.225377</td>\n",
       "      <td>-0.012973</td>\n",
       "    </tr>\n",
       "    <tr>\n",
       "      <th>richter</th>\n",
       "      <td>-0.225377</td>\n",
       "      <td>1.000000</td>\n",
       "      <td>0.160688</td>\n",
       "    </tr>\n",
       "    <tr>\n",
       "      <th>deaths</th>\n",
       "      <td>-0.012973</td>\n",
       "      <td>0.160688</td>\n",
       "      <td>1.000000</td>\n",
       "    </tr>\n",
       "  </tbody>\n",
       "</table>\n",
       "</div>"
      ],
      "text/plain": [
       "             year   richter    deaths\n",
       "year     1.000000 -0.225377 -0.012973\n",
       "richter -0.225377  1.000000  0.160688\n",
       "deaths  -0.012973  0.160688  1.000000"
      ]
     },
     "execution_count": 5,
     "metadata": {},
     "output_type": "execute_result"
    }
   ],
   "source": [
    "df[['year', 'richter', 'deaths']].corr()"
   ]
  },
  {
   "cell_type": "markdown",
   "id": "b1e69dcc",
   "metadata": {
    "papermill": {
     "duration": 0.004804,
     "end_time": "2025-01-18T22:48:59.677606",
     "exception": false,
     "start_time": "2025-01-18T22:48:59.672802",
     "status": "completed"
    },
    "tags": []
   },
   "source": [
    "Not surprisingly when we look at the Pearson correlations our three variables (magnitude, death toll, and time) are weakly correlated."
   ]
  }
 ],
 "metadata": {
  "kaggle": {
   "accelerator": "none",
   "dataSources": [
    {
     "datasetId": 6484134,
     "sourceId": 10472081,
     "sourceType": "datasetVersion"
    }
   ],
   "dockerImageVersionId": 30839,
   "isGpuEnabled": false,
   "isInternetEnabled": true,
   "language": "python",
   "sourceType": "notebook"
  },
  "kernelspec": {
   "display_name": "Python 3",
   "language": "python",
   "name": "python3"
  },
  "language_info": {
   "codemirror_mode": {
    "name": "ipython",
    "version": 3
   },
   "file_extension": ".py",
   "mimetype": "text/x-python",
   "name": "python",
   "nbconvert_exporter": "python",
   "pygments_lexer": "ipython3",
   "version": "3.10.12"
  },
  "papermill": {
   "default_parameters": {},
   "duration": 9.16532,
   "end_time": "2025-01-18T22:49:00.402790",
   "environment_variables": {},
   "exception": null,
   "input_path": "__notebook__.ipynb",
   "output_path": "__notebook__.ipynb",
   "parameters": {},
   "start_time": "2025-01-18T22:48:51.237470",
   "version": "2.6.0"
  }
 },
 "nbformat": 4,
 "nbformat_minor": 5
}
