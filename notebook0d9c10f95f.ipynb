{
 "cells": [
  {
   "cell_type": "code",
   "execution_count": 1,
   "id": "11b8bf42",
   "metadata": {
    "execution": {
     "iopub.execute_input": "2025-07-08T21:46:01.585168Z",
     "iopub.status.busy": "2025-07-08T21:46:01.584803Z",
     "iopub.status.idle": "2025-07-08T21:46:04.003483Z",
     "shell.execute_reply": "2025-07-08T21:46:04.001361Z"
    },
    "papermill": {
     "duration": 2.42526,
     "end_time": "2025-07-08T21:46:04.006058",
     "exception": false,
     "start_time": "2025-07-08T21:46:01.580798",
     "status": "completed"
    },
    "tags": []
   },
   "outputs": [
    {
     "data": {
      "text/html": [
       "<div>\n",
       "<style scoped>\n",
       "    .dataframe tbody tr th:only-of-type {\n",
       "        vertical-align: middle;\n",
       "    }\n",
       "\n",
       "    .dataframe tbody tr th {\n",
       "        vertical-align: top;\n",
       "    }\n",
       "\n",
       "    .dataframe thead th {\n",
       "        text-align: right;\n",
       "    }\n",
       "</style>\n",
       "<table border=\"1\" class=\"dataframe\">\n",
       "  <thead>\n",
       "    <tr style=\"text-align: right;\">\n",
       "      <th></th>\n",
       "      <th>Time_spent_Alone</th>\n",
       "      <th>Stage_fear</th>\n",
       "      <th>Social_event_attendance</th>\n",
       "      <th>Going_outside</th>\n",
       "      <th>Drained_after_socializing</th>\n",
       "      <th>Friends_circle_size</th>\n",
       "      <th>Post_frequency</th>\n",
       "      <th>Personality</th>\n",
       "    </tr>\n",
       "  </thead>\n",
       "  <tbody>\n",
       "    <tr>\n",
       "      <th>0</th>\n",
       "      <td>4.0</td>\n",
       "      <td>False</td>\n",
       "      <td>4.0</td>\n",
       "      <td>6.0</td>\n",
       "      <td>False</td>\n",
       "      <td>13.0</td>\n",
       "      <td>5.0</td>\n",
       "      <td>True</td>\n",
       "    </tr>\n",
       "    <tr>\n",
       "      <th>1</th>\n",
       "      <td>9.0</td>\n",
       "      <td>True</td>\n",
       "      <td>0.0</td>\n",
       "      <td>0.0</td>\n",
       "      <td>True</td>\n",
       "      <td>0.0</td>\n",
       "      <td>3.0</td>\n",
       "      <td>False</td>\n",
       "    </tr>\n",
       "    <tr>\n",
       "      <th>2</th>\n",
       "      <td>9.0</td>\n",
       "      <td>True</td>\n",
       "      <td>1.0</td>\n",
       "      <td>2.0</td>\n",
       "      <td>True</td>\n",
       "      <td>5.0</td>\n",
       "      <td>2.0</td>\n",
       "      <td>False</td>\n",
       "    </tr>\n",
       "    <tr>\n",
       "      <th>3</th>\n",
       "      <td>0.0</td>\n",
       "      <td>False</td>\n",
       "      <td>6.0</td>\n",
       "      <td>7.0</td>\n",
       "      <td>False</td>\n",
       "      <td>14.0</td>\n",
       "      <td>8.0</td>\n",
       "      <td>True</td>\n",
       "    </tr>\n",
       "    <tr>\n",
       "      <th>4</th>\n",
       "      <td>3.0</td>\n",
       "      <td>False</td>\n",
       "      <td>9.0</td>\n",
       "      <td>4.0</td>\n",
       "      <td>False</td>\n",
       "      <td>8.0</td>\n",
       "      <td>5.0</td>\n",
       "      <td>True</td>\n",
       "    </tr>\n",
       "  </tbody>\n",
       "</table>\n",
       "</div>"
      ],
      "text/plain": [
       "   Time_spent_Alone  Stage_fear  Social_event_attendance  Going_outside  \\\n",
       "0               4.0       False                      4.0            6.0   \n",
       "1               9.0        True                      0.0            0.0   \n",
       "2               9.0        True                      1.0            2.0   \n",
       "3               0.0       False                      6.0            7.0   \n",
       "4               3.0       False                      9.0            4.0   \n",
       "\n",
       "   Drained_after_socializing  Friends_circle_size  Post_frequency  Personality  \n",
       "0                      False                 13.0             5.0         True  \n",
       "1                       True                  0.0             3.0        False  \n",
       "2                       True                  5.0             2.0        False  \n",
       "3                      False                 14.0             8.0         True  \n",
       "4                      False                  8.0             5.0         True  "
      ]
     },
     "execution_count": 1,
     "metadata": {},
     "output_type": "execute_result"
    }
   ],
   "source": [
    "import pandas as pd\n",
    "\n",
    "DATA = '/kaggle/input/extrovert-vs-introvert-behavior-data/personality_dataset.csv'\n",
    "TARGET = 'Personality'\n",
    "df = pd.read_csv(filepath_or_buffer=DATA)\n",
    "df['Stage_fear'] = df['Stage_fear'] == 'Yes'\n",
    "df['Drained_after_socializing'] = df['Drained_after_socializing'] == 'Yes'\n",
    "df[TARGET] = df[TARGET] == 'Extrovert'\n",
    "df = df.fillna(value=0)\n",
    "df.head()"
   ]
  },
  {
   "cell_type": "code",
   "execution_count": 2,
   "id": "9eb0f80a",
   "metadata": {
    "execution": {
     "iopub.execute_input": "2025-07-08T21:46:04.012324Z",
     "iopub.status.busy": "2025-07-08T21:46:04.012012Z",
     "iopub.status.idle": "2025-07-08T21:46:04.030311Z",
     "shell.execute_reply": "2025-07-08T21:46:04.029526Z"
    },
    "papermill": {
     "duration": 0.022974,
     "end_time": "2025-07-08T21:46:04.031940",
     "exception": false,
     "start_time": "2025-07-08T21:46:04.008966",
     "status": "completed"
    },
    "tags": []
   },
   "outputs": [
    {
     "data": {
      "text/html": [
       "<div>\n",
       "<style scoped>\n",
       "    .dataframe tbody tr th:only-of-type {\n",
       "        vertical-align: middle;\n",
       "    }\n",
       "\n",
       "    .dataframe tbody tr th {\n",
       "        vertical-align: top;\n",
       "    }\n",
       "\n",
       "    .dataframe thead th {\n",
       "        text-align: right;\n",
       "    }\n",
       "</style>\n",
       "<table border=\"1\" class=\"dataframe\">\n",
       "  <thead>\n",
       "    <tr style=\"text-align: right;\">\n",
       "      <th></th>\n",
       "      <th>Time_spent_Alone</th>\n",
       "      <th>Stage_fear</th>\n",
       "      <th>Social_event_attendance</th>\n",
       "      <th>Going_outside</th>\n",
       "      <th>Drained_after_socializing</th>\n",
       "      <th>Friends_circle_size</th>\n",
       "      <th>Post_frequency</th>\n",
       "      <th>Personality</th>\n",
       "    </tr>\n",
       "  </thead>\n",
       "  <tbody>\n",
       "    <tr>\n",
       "      <th>0</th>\n",
       "      <td>12</td>\n",
       "      <td>2</td>\n",
       "      <td>11</td>\n",
       "      <td>8</td>\n",
       "      <td>2</td>\n",
       "      <td>16</td>\n",
       "      <td>11</td>\n",
       "      <td>2</td>\n",
       "    </tr>\n",
       "  </tbody>\n",
       "</table>\n",
       "</div>"
      ],
      "text/plain": [
       "   Time_spent_Alone  Stage_fear  Social_event_attendance  Going_outside  \\\n",
       "0                12           2                       11              8   \n",
       "\n",
       "   Drained_after_socializing  Friends_circle_size  Post_frequency  Personality  \n",
       "0                          2                   16              11            2  "
      ]
     },
     "execution_count": 2,
     "metadata": {},
     "output_type": "execute_result"
    }
   ],
   "source": [
    "df.nunique().to_frame().T"
   ]
  },
  {
   "cell_type": "code",
   "execution_count": 3,
   "id": "235a6dd3",
   "metadata": {
    "execution": {
     "iopub.execute_input": "2025-07-08T21:46:04.037296Z",
     "iopub.status.busy": "2025-07-08T21:46:04.037009Z",
     "iopub.status.idle": "2025-07-08T21:46:04.053261Z",
     "shell.execute_reply": "2025-07-08T21:46:04.052324Z"
    },
    "papermill": {
     "duration": 0.020731,
     "end_time": "2025-07-08T21:46:04.054856",
     "exception": false,
     "start_time": "2025-07-08T21:46:04.034125",
     "status": "completed"
    },
    "tags": []
   },
   "outputs": [
    {
     "data": {
      "text/html": [
       "<div>\n",
       "<style scoped>\n",
       "    .dataframe tbody tr th:only-of-type {\n",
       "        vertical-align: middle;\n",
       "    }\n",
       "\n",
       "    .dataframe tbody tr th {\n",
       "        vertical-align: top;\n",
       "    }\n",
       "\n",
       "    .dataframe thead th {\n",
       "        text-align: right;\n",
       "    }\n",
       "</style>\n",
       "<table border=\"1\" class=\"dataframe\">\n",
       "  <thead>\n",
       "    <tr style=\"text-align: right;\">\n",
       "      <th>Personality</th>\n",
       "      <th>True</th>\n",
       "      <th>False</th>\n",
       "    </tr>\n",
       "  </thead>\n",
       "  <tbody>\n",
       "    <tr>\n",
       "      <th>proportion</th>\n",
       "      <td>0.514138</td>\n",
       "      <td>0.485862</td>\n",
       "    </tr>\n",
       "  </tbody>\n",
       "</table>\n",
       "</div>"
      ],
      "text/plain": [
       "Personality     True      False\n",
       "proportion   0.514138  0.485862"
      ]
     },
     "execution_count": 3,
     "metadata": {},
     "output_type": "execute_result"
    }
   ],
   "source": [
    "df['Personality'].value_counts(normalize=True).to_frame().T"
   ]
  },
  {
   "cell_type": "code",
   "execution_count": 4,
   "id": "997b2e49",
   "metadata": {
    "execution": {
     "iopub.execute_input": "2025-07-08T21:46:04.061035Z",
     "iopub.status.busy": "2025-07-08T21:46:04.060690Z",
     "iopub.status.idle": "2025-07-08T21:46:06.348715Z",
     "shell.execute_reply": "2025-07-08T21:46:06.347647Z"
    },
    "papermill": {
     "duration": 2.29393,
     "end_time": "2025-07-08T21:46:06.351326",
     "exception": false,
     "start_time": "2025-07-08T21:46:04.057396",
     "status": "completed"
    },
    "tags": []
   },
   "outputs": [
    {
     "name": "stdout",
     "output_type": "stream",
     "text": [
      "model fit in 46 iterations\n",
      "accuracy: 0.9117\n",
      "f1: 0.9117\n",
      "              precision    recall  f1-score   support\n",
      "\n",
      "       False       0.90      0.92      0.91       352\n",
      "        True       0.92      0.91      0.91       373\n",
      "\n",
      "    accuracy                           0.91       725\n",
      "   macro avg       0.91      0.91      0.91       725\n",
      "weighted avg       0.91      0.91      0.91       725\n",
      "\n"
     ]
    }
   ],
   "source": [
    "from sklearn.linear_model import LogisticRegression\n",
    "from sklearn.metrics import accuracy_score\n",
    "from sklearn.metrics import classification_report\n",
    "from sklearn.metrics import f1_score\n",
    "from sklearn.model_selection import train_test_split\n",
    "\n",
    "X_train, X_test, y_train, y_test = train_test_split(df.drop(columns=[TARGET]), df[TARGET], test_size=0.25, random_state=2024, stratify=df[TARGET])\n",
    "logreg = LogisticRegression(max_iter=100, tol=1e-12).fit(X_train, y_train)\n",
    "print('model fit in {} iterations'.format(logreg.n_iter_[0]))\n",
    "print('accuracy: {:5.4f}'.format(accuracy_score(y_true=y_test, y_pred=logreg.predict(X=X_test))))\n",
    "print('f1: {:5.4f}'.format(f1_score(average='weighted', y_true=y_test, y_pred=logreg.predict(X=X_test))))\n",
    "print(classification_report(y_true=y_test, y_pred=logreg.predict(X=X_test)))"
   ]
  }
 ],
 "metadata": {
  "kaggle": {
   "accelerator": "none",
   "dataSources": [
    {
     "datasetId": 7474089,
     "sourceId": 12156348,
     "sourceType": "datasetVersion"
    }
   ],
   "dockerImageVersionId": 31089,
   "isGpuEnabled": false,
   "isInternetEnabled": true,
   "language": "python",
   "sourceType": "notebook"
  },
  "kernelspec": {
   "display_name": "Python 3",
   "language": "python",
   "name": "python3"
  },
  "language_info": {
   "codemirror_mode": {
    "name": "ipython",
    "version": 3
   },
   "file_extension": ".py",
   "mimetype": "text/x-python",
   "name": "python",
   "nbconvert_exporter": "python",
   "pygments_lexer": "ipython3",
   "version": "3.11.13"
  },
  "papermill": {
   "default_parameters": {},
   "duration": 10.990036,
   "end_time": "2025-07-08T21:46:07.076754",
   "environment_variables": {},
   "exception": null,
   "input_path": "__notebook__.ipynb",
   "output_path": "__notebook__.ipynb",
   "parameters": {},
   "start_time": "2025-07-08T21:45:56.086718",
   "version": "2.6.0"
  }
 },
 "nbformat": 4,
 "nbformat_minor": 5
}
