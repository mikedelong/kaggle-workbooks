{
 "cells": [
  {
   "cell_type": "code",
   "execution_count": 1,
   "id": "31e4622d",
   "metadata": {
    "execution": {
     "iopub.execute_input": "2023-12-23T01:04:47.422300Z",
     "iopub.status.busy": "2023-12-23T01:04:47.421771Z",
     "iopub.status.idle": "2023-12-23T01:04:48.352934Z",
     "shell.execute_reply": "2023-12-23T01:04:48.351697Z"
    },
    "papermill": {
     "duration": 0.938745,
     "end_time": "2023-12-23T01:04:48.355593",
     "exception": false,
     "start_time": "2023-12-23T01:04:47.416848",
     "status": "completed"
    },
    "tags": []
   },
   "outputs": [
    {
     "data": {
      "text/html": [
       "<div>\n",
       "<style scoped>\n",
       "    .dataframe tbody tr th:only-of-type {\n",
       "        vertical-align: middle;\n",
       "    }\n",
       "\n",
       "    .dataframe tbody tr th {\n",
       "        vertical-align: top;\n",
       "    }\n",
       "\n",
       "    .dataframe thead th {\n",
       "        text-align: right;\n",
       "    }\n",
       "</style>\n",
       "<table border=\"1\" class=\"dataframe\">\n",
       "  <thead>\n",
       "    <tr style=\"text-align: right;\">\n",
       "      <th></th>\n",
       "      <th>FID</th>\n",
       "      <th>CALLSIGN</th>\n",
       "      <th>SERVICE</th>\n",
       "      <th>CHANNEL</th>\n",
       "      <th>CITY</th>\n",
       "      <th>STATE</th>\n",
       "      <th>FILENUM</th>\n",
       "      <th>ERP</th>\n",
       "      <th>HAAT</th>\n",
       "      <th>FACID</th>\n",
       "      <th>LICENSEE</th>\n",
       "      <th>LATDD</th>\n",
       "      <th>LONDD</th>\n",
       "    </tr>\n",
       "    <tr>\n",
       "      <th>index</th>\n",
       "      <th></th>\n",
       "      <th></th>\n",
       "      <th></th>\n",
       "      <th></th>\n",
       "      <th></th>\n",
       "      <th></th>\n",
       "      <th></th>\n",
       "      <th></th>\n",
       "      <th></th>\n",
       "      <th></th>\n",
       "      <th></th>\n",
       "      <th></th>\n",
       "      <th></th>\n",
       "    </tr>\n",
       "  </thead>\n",
       "  <tbody>\n",
       "    <tr>\n",
       "      <th>0</th>\n",
       "      <td>2001</td>\n",
       "      <td>K13XD-D</td>\n",
       "      <td>DC</td>\n",
       "      <td>13</td>\n",
       "      <td>FAIRBANKS</td>\n",
       "      <td>AK</td>\n",
       "      <td>BLDVA  -20111128DAA</td>\n",
       "      <td>3.     kW</td>\n",
       "      <td>0.0</td>\n",
       "      <td>64596</td>\n",
       "      <td>TANANA VALLEY TELEVISION COMPANY</td>\n",
       "      <td>64.9222</td>\n",
       "      <td>147.7153</td>\n",
       "    </tr>\n",
       "    <tr>\n",
       "      <th>1</th>\n",
       "      <td>2002</td>\n",
       "      <td>KATN</td>\n",
       "      <td>DT</td>\n",
       "      <td>18</td>\n",
       "      <td>FAIRBANKS</td>\n",
       "      <td>AK</td>\n",
       "      <td>BLCDT  -20070403AAO</td>\n",
       "      <td>16.    kW</td>\n",
       "      <td>230.0</td>\n",
       "      <td>13813</td>\n",
       "      <td>VISION ALASKA II LLC</td>\n",
       "      <td>64.9222</td>\n",
       "      <td>147.7136</td>\n",
       "    </tr>\n",
       "    <tr>\n",
       "      <th>2</th>\n",
       "      <td>2003</td>\n",
       "      <td>KFXF</td>\n",
       "      <td>DT</td>\n",
       "      <td>7</td>\n",
       "      <td>FAIRBANKS</td>\n",
       "      <td>AK</td>\n",
       "      <td>BLCDT  -20090129AMM</td>\n",
       "      <td>6.1    kW</td>\n",
       "      <td>268.0</td>\n",
       "      <td>64597</td>\n",
       "      <td>TANANA VALLEY TELEVISION COMPANY</td>\n",
       "      <td>64.9222</td>\n",
       "      <td>147.7153</td>\n",
       "    </tr>\n",
       "    <tr>\n",
       "      <th>3</th>\n",
       "      <td>2004</td>\n",
       "      <td>KJNP-TV</td>\n",
       "      <td>DT</td>\n",
       "      <td>20</td>\n",
       "      <td>NORTH POLE</td>\n",
       "      <td>AK</td>\n",
       "      <td>BLCDT  -20100126AEF</td>\n",
       "      <td>30.9   kW</td>\n",
       "      <td>491.6</td>\n",
       "      <td>20015</td>\n",
       "      <td>EVANGELISTIC ALASKA MISSIONARY FELLOWSHIP, INC.</td>\n",
       "      <td>64.8792</td>\n",
       "      <td>148.0539</td>\n",
       "    </tr>\n",
       "    <tr>\n",
       "      <th>4</th>\n",
       "      <td>2005</td>\n",
       "      <td>KTVF</td>\n",
       "      <td>DT</td>\n",
       "      <td>26</td>\n",
       "      <td>FAIRBANKS</td>\n",
       "      <td>AK</td>\n",
       "      <td>BLCDT  -20090720ACS</td>\n",
       "      <td>27.    kW</td>\n",
       "      <td>471.0</td>\n",
       "      <td>49621</td>\n",
       "      <td>CHENA BROADCASTING LLC</td>\n",
       "      <td>64.8792</td>\n",
       "      <td>148.0539</td>\n",
       "    </tr>\n",
       "  </tbody>\n",
       "</table>\n",
       "</div>"
      ],
      "text/plain": [
       "        FID CALLSIGN SERVICE  CHANNEL        CITY STATE              FILENUM  \\\n",
       "index                                                                          \n",
       "0      2001  K13XD-D      DC       13   FAIRBANKS    AK  BLDVA  -20111128DAA   \n",
       "1      2002     KATN      DT       18   FAIRBANKS    AK  BLCDT  -20070403AAO   \n",
       "2      2003     KFXF      DT        7   FAIRBANKS    AK  BLCDT  -20090129AMM   \n",
       "3      2004  KJNP-TV      DT       20  NORTH POLE    AK  BLCDT  -20100126AEF   \n",
       "4      2005     KTVF      DT       26   FAIRBANKS    AK  BLCDT  -20090720ACS   \n",
       "\n",
       "             ERP   HAAT  FACID  \\\n",
       "index                            \n",
       "0      3.     kW    0.0  64596   \n",
       "1      16.    kW  230.0  13813   \n",
       "2      6.1    kW  268.0  64597   \n",
       "3      30.9   kW  491.6  20015   \n",
       "4      27.    kW  471.0  49621   \n",
       "\n",
       "                                              LICENSEE    LATDD     LONDD  \n",
       "index                                                                      \n",
       "0                     TANANA VALLEY TELEVISION COMPANY  64.9222  147.7153  \n",
       "1                                 VISION ALASKA II LLC  64.9222  147.7136  \n",
       "2                     TANANA VALLEY TELEVISION COMPANY  64.9222  147.7153  \n",
       "3      EVANGELISTIC ALASKA MISSIONARY FELLOWSHIP, INC.  64.8792  148.0539  \n",
       "4                               CHENA BROADCASTING LLC  64.8792  148.0539  "
      ]
     },
     "execution_count": 1,
     "metadata": {},
     "output_type": "execute_result"
    }
   ],
   "source": [
    "import pandas as pd\n",
    "df = pd.read_csv(filepath_or_buffer='/kaggle/input/digital-tv-station-transmitter-data/TV_Digital_Station_Transmitters.csv', index_col=[0],).drop(columns=['X', 'Y', 'LAT', 'LON', 'STATUS', 'COUNTRY'])\n",
    "df.head()"
   ]
  },
  {
   "cell_type": "code",
   "execution_count": 2,
   "id": "b331181c",
   "metadata": {
    "execution": {
     "iopub.execute_input": "2023-12-23T01:04:48.362941Z",
     "iopub.status.busy": "2023-12-23T01:04:48.362538Z",
     "iopub.status.idle": "2023-12-23T01:04:48.385155Z",
     "shell.execute_reply": "2023-12-23T01:04:48.383846Z"
    },
    "papermill": {
     "duration": 0.028963,
     "end_time": "2023-12-23T01:04:48.387568",
     "exception": false,
     "start_time": "2023-12-23T01:04:48.358605",
     "status": "completed"
    },
    "tags": []
   },
   "outputs": [
    {
     "name": "stdout",
     "output_type": "stream",
     "text": [
      "<class 'pandas.core.frame.DataFrame'>\n",
      "Index: 2030 entries, 0 to 2029\n",
      "Data columns (total 13 columns):\n",
      " #   Column    Non-Null Count  Dtype  \n",
      "---  ------    --------------  -----  \n",
      " 0   FID       2030 non-null   int64  \n",
      " 1   CALLSIGN  2030 non-null   object \n",
      " 2   SERVICE   2030 non-null   object \n",
      " 3   CHANNEL   2030 non-null   int64  \n",
      " 4   CITY      2030 non-null   object \n",
      " 5   STATE     2030 non-null   object \n",
      " 6   FILENUM   2030 non-null   object \n",
      " 7   ERP       2030 non-null   object \n",
      " 8   HAAT      2030 non-null   float64\n",
      " 9   FACID     2030 non-null   int64  \n",
      " 10  LICENSEE  2030 non-null   object \n",
      " 11  LATDD     2030 non-null   float64\n",
      " 12  LONDD     2030 non-null   float64\n",
      "dtypes: float64(3), int64(3), object(7)\n",
      "memory usage: 222.0+ KB\n"
     ]
    }
   ],
   "source": [
    "df.info()"
   ]
  },
  {
   "cell_type": "code",
   "execution_count": 3,
   "id": "58826181",
   "metadata": {
    "execution": {
     "iopub.execute_input": "2023-12-23T01:04:48.394799Z",
     "iopub.status.busy": "2023-12-23T01:04:48.394446Z",
     "iopub.status.idle": "2023-12-23T01:04:48.408439Z",
     "shell.execute_reply": "2023-12-23T01:04:48.407550Z"
    },
    "papermill": {
     "duration": 0.020091,
     "end_time": "2023-12-23T01:04:48.410712",
     "exception": false,
     "start_time": "2023-12-23T01:04:48.390621",
     "status": "completed"
    },
    "tags": []
   },
   "outputs": [
    {
     "data": {
      "text/plain": [
       "FID         2030\n",
       "CALLSIGN    1949\n",
       "SERVICE        4\n",
       "CHANNEL       53\n",
       "CITY         818\n",
       "STATE         54\n",
       "FILENUM     2028\n",
       "ERP          721\n",
       "HAAT         982\n",
       "FACID       1949\n",
       "LICENSEE    1205\n",
       "LATDD       1438\n",
       "LONDD       1454\n",
       "dtype: int64"
      ]
     },
     "execution_count": 3,
     "metadata": {},
     "output_type": "execute_result"
    }
   ],
   "source": [
    "df.nunique()"
   ]
  }
 ],
 "metadata": {
  "kaggle": {
   "accelerator": "none",
   "dataSources": [
    {
     "datasetId": 4201924,
     "sourceId": 7252185,
     "sourceType": "datasetVersion"
    }
   ],
   "dockerImageVersionId": 30626,
   "isGpuEnabled": false,
   "isInternetEnabled": true,
   "language": "python",
   "sourceType": "notebook"
  },
  "kernelspec": {
   "display_name": "Python 3",
   "language": "python",
   "name": "python3"
  },
  "language_info": {
   "codemirror_mode": {
    "name": "ipython",
    "version": 3
   },
   "file_extension": ".py",
   "mimetype": "text/x-python",
   "name": "python",
   "nbconvert_exporter": "python",
   "pygments_lexer": "ipython3",
   "version": "3.10.12"
  },
  "papermill": {
   "default_parameters": {},
   "duration": 6.207961,
   "end_time": "2023-12-23T01:04:48.934317",
   "environment_variables": {},
   "exception": null,
   "input_path": "__notebook__.ipynb",
   "output_path": "__notebook__.ipynb",
   "parameters": {},
   "start_time": "2023-12-23T01:04:42.726356",
   "version": "2.4.0"
  }
 },
 "nbformat": 4,
 "nbformat_minor": 5
}
