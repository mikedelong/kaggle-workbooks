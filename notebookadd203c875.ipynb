{
 "cells": [
  {
   "cell_type": "code",
   "execution_count": 1,
   "id": "f7d901f2",
   "metadata": {
    "_cell_guid": "b1076dfc-b9ad-4769-8c92-a6c4dae69d19",
    "_uuid": "8f2839f25d086af736a60e9eeb907d3b93b6e0e5",
    "execution": {
     "iopub.execute_input": "2024-07-25T18:41:25.541890Z",
     "iopub.status.busy": "2024-07-25T18:41:25.541193Z",
     "iopub.status.idle": "2024-07-25T18:41:27.024680Z",
     "shell.execute_reply": "2024-07-25T18:41:27.023692Z"
    },
    "papermill": {
     "duration": 1.490361,
     "end_time": "2024-07-25T18:41:27.026991",
     "exception": false,
     "start_time": "2024-07-25T18:41:25.536630",
     "status": "completed"
    },
    "tags": []
   },
   "outputs": [
    {
     "data": {
      "text/html": [
       "<div>\n",
       "<style scoped>\n",
       "    .dataframe tbody tr th:only-of-type {\n",
       "        vertical-align: middle;\n",
       "    }\n",
       "\n",
       "    .dataframe tbody tr th {\n",
       "        vertical-align: top;\n",
       "    }\n",
       "\n",
       "    .dataframe thead th {\n",
       "        text-align: right;\n",
       "    }\n",
       "</style>\n",
       "<table border=\"1\" class=\"dataframe\">\n",
       "  <thead>\n",
       "    <tr style=\"text-align: right;\">\n",
       "      <th></th>\n",
       "      <th>X</th>\n",
       "      <th>Y</th>\n",
       "      <th>R</th>\n",
       "      <th>G</th>\n",
       "      <th>B</th>\n",
       "      <th>Grey</th>\n",
       "    </tr>\n",
       "  </thead>\n",
       "  <tbody>\n",
       "    <tr>\n",
       "      <th>0</th>\n",
       "      <td>105</td>\n",
       "      <td>0</td>\n",
       "      <td>0.909804</td>\n",
       "      <td>0.976471</td>\n",
       "      <td>0.937255</td>\n",
       "      <td>0</td>\n",
       "    </tr>\n",
       "    <tr>\n",
       "      <th>1</th>\n",
       "      <td>106</td>\n",
       "      <td>0</td>\n",
       "      <td>0.792157</td>\n",
       "      <td>0.901961</td>\n",
       "      <td>0.843137</td>\n",
       "      <td>0</td>\n",
       "    </tr>\n",
       "    <tr>\n",
       "      <th>2</th>\n",
       "      <td>107</td>\n",
       "      <td>0</td>\n",
       "      <td>0.631373</td>\n",
       "      <td>0.788235</td>\n",
       "      <td>0.694118</td>\n",
       "      <td>0</td>\n",
       "    </tr>\n",
       "    <tr>\n",
       "      <th>3</th>\n",
       "      <td>108</td>\n",
       "      <td>0</td>\n",
       "      <td>0.474510</td>\n",
       "      <td>0.670588</td>\n",
       "      <td>0.556863</td>\n",
       "      <td>0</td>\n",
       "    </tr>\n",
       "    <tr>\n",
       "      <th>4</th>\n",
       "      <td>109</td>\n",
       "      <td>0</td>\n",
       "      <td>0.341176</td>\n",
       "      <td>0.584314</td>\n",
       "      <td>0.439216</td>\n",
       "      <td>0</td>\n",
       "    </tr>\n",
       "  </tbody>\n",
       "</table>\n",
       "</div>"
      ],
      "text/plain": [
       "     X  Y         R         G         B  Grey\n",
       "0  105  0  0.909804  0.976471  0.937255     0\n",
       "1  106  0  0.792157  0.901961  0.843137     0\n",
       "2  107  0  0.631373  0.788235  0.694118     0\n",
       "3  108  0  0.474510  0.670588  0.556863     0\n",
       "4  109  0  0.341176  0.584314  0.439216     0"
      ]
     },
     "execution_count": 1,
     "metadata": {},
     "output_type": "execute_result"
    }
   ],
   "source": [
    "import pandas as pd\n",
    "\n",
    "DATA = '/kaggle/input/printed-circuit-board-processed-image/TestPad_PCB_XYRGB_V2.csv'\n",
    "TARGET = 'Grey'\n",
    "\n",
    "df = pd.read_csv(filepath_or_buffer=DATA)\n",
    "df.head()"
   ]
  },
  {
   "cell_type": "markdown",
   "id": "7c9e97ac",
   "metadata": {
    "papermill": {
     "duration": 0.002399,
     "end_time": "2024-07-25T18:41:27.032415",
     "exception": false,
     "start_time": "2024-07-25T18:41:27.030016",
     "status": "completed"
    },
    "tags": []
   },
   "source": [
    "Almost no chance our target class is balanced; how unbalanced is it?"
   ]
  },
  {
   "cell_type": "code",
   "execution_count": 2,
   "id": "a2304969",
   "metadata": {
    "execution": {
     "iopub.execute_input": "2024-07-25T18:41:27.039133Z",
     "iopub.status.busy": "2024-07-25T18:41:27.038491Z",
     "iopub.status.idle": "2024-07-25T18:41:27.058153Z",
     "shell.execute_reply": "2024-07-25T18:41:27.057221Z"
    },
    "papermill": {
     "duration": 0.025355,
     "end_time": "2024-07-25T18:41:27.060243",
     "exception": false,
     "start_time": "2024-07-25T18:41:27.034888",
     "status": "completed"
    },
    "tags": []
   },
   "outputs": [
    {
     "data": {
      "text/plain": [
       "{0: 0.9835492127725444, 1: 0.016450787227455663}"
      ]
     },
     "execution_count": 2,
     "metadata": {},
     "output_type": "execute_result"
    }
   ],
   "source": [
    "df['Grey'].value_counts(normalize=True).to_dict()"
   ]
  },
  {
   "cell_type": "code",
   "execution_count": 3,
   "id": "0b21bd18",
   "metadata": {
    "execution": {
     "iopub.execute_input": "2024-07-25T18:41:27.067569Z",
     "iopub.status.busy": "2024-07-25T18:41:27.066790Z",
     "iopub.status.idle": "2024-07-25T18:41:29.328949Z",
     "shell.execute_reply": "2024-07-25T18:41:29.327972Z"
    },
    "papermill": {
     "duration": 2.268011,
     "end_time": "2024-07-25T18:41:29.331147",
     "exception": false,
     "start_time": "2024-07-25T18:41:27.063136",
     "status": "completed"
    },
    "tags": []
   },
   "outputs": [
    {
     "data": {
      "text/html": [
       "        <script type=\"text/javascript\">\n",
       "        window.PlotlyConfig = {MathJaxConfig: 'local'};\n",
       "        if (window.MathJax && window.MathJax.Hub && window.MathJax.Hub.Config) {window.MathJax.Hub.Config({SVG: {font: \"STIX-Web\"}});}\n",
       "        if (typeof require !== 'undefined') {\n",
       "        require.undef(\"plotly\");\n",
       "        requirejs.config({\n",
       "            paths: {\n",
       "                'plotly': ['https://cdn.plot.ly/plotly-2.27.0.min']\n",
       "            }\n",
       "        });\n",
       "        require(['plotly'], function(Plotly) {\n",
       "            window._Plotly = Plotly;\n",
       "        });\n",
       "        }\n",
       "        </script>\n",
       "        "
      ]
     },
     "metadata": {},
     "output_type": "display_data"
    },
    {
     "data": {
      "text/html": [
       "<div>                            <div id=\"5f9adaa7-cf06-402a-bad1-2fd8dfe62d03\" class=\"plotly-graph-div\" style=\"height:525px; width:100%;\"></div>            <script type=\"text/javascript\">                require([\"plotly\"], function(Plotly) {                    window.PLOTLYENV=window.PLOTLYENV || {};                                    if (document.getElementById(\"5f9adaa7-cf06-402a-bad1-2fd8dfe62d03\")) {                    Plotly.newPlot(                        \"5f9adaa7-cf06-402a-bad1-2fd8dfe62d03\",                        [{\"hovertemplate\":\"X=%{x}\\u003cbr\\u003eY=%{y}\\u003cbr\\u003eGrey=%{marker.color}\\u003cextra\\u003e\\u003c\\u002fextra\\u003e\",\"legendgroup\":\"\",\"marker\":{\"color\":[0,0,0,0,0,0,0,0,0,0,0,0,0,0,0,0,0,0,0,0,0,0,0,0,0,0,0,0,0,0,0,0,0,0,0,0,0,0,0,0,0,0,0,0,0,0,0,0,0,0,0,0,0,0,0,0,0,0,0,0,0,0,0,0,0,0,0,0,1,0,0,0,0,0,0,0,0,0,0,0,0,0,0,0,0,0,0,0,0,0,0,0,0,0,0,0,0,0,0,0,0,0,0,0,0,0,0,0,0,0,0,0,0,0,0,0,0,0,0,0,0,0,0,0,0,0,0,0,0,0,0,0,0,0,0,0,0,0,0,0,0,0,0,0,0,0,0,0,0,0,0,0,0,0,0,0,0,0,0,0,0,0,0,0,0,0,0,0,0,0,0,0,0,0,0,0,0,0,0,0,0,0,0,0,0,0,0,0,0,0,0,0,0,0,0,0,0,0,0,0,0,0,0,0,0,0,0,0,0,0,1,0,0,0,0,0,0,0,0,0,0,0,0,0,0,0,0,0,0,0,0,0,0,0,0,0,1,0,0,0,0,0,0,0,0,0,0,0,0,0,0,0,0,0,0,0,0,0,0,0,0,0,0,0,0,0,0,0,0,0,0,0,0,0,0,0,0,0,0,0,0,0,0,0,0,0,0,0,0,0,0,0,0,0,0,0,0,0,0,0,0,0,0,0,0,0,0,0,0,0,0,0,0,0,0,0,0,0,0,0,0,0,0,0,0,0,0,0,0,0,0,0,0,0,0,0,0,0,0,0,0,0,0,0,0,0,0,0,0,0,0,0,0,0,0,0,0,0,0,0,0,0,0,0,0,0,0,0,0,0,0,0,0,0,0,0,0,0,0,0,0,0,0,0,0,0,0,0,0,0,0,0,0,0,0,0,0,0,0,0,0,0,0,0,0,0,0,0,0,0,1,0,1,0,0,1,0,0,0,0,0,0,0,0,1,0,0,0,0,0,0,0,0,0,0,0,0,0,0,0,0,0,0,0,0,0,0,0,0,0,0,0,0,0,0,0,0,0,0,0,0,0,0,0,0,0,0,0,0,0,0,0,0,0,0,0,0,0,0,0,0,0,0,0,0,0,0,0,0,0,0,0,0,0,0,0,0,0,0,0,0,0,0,0,0,0,0,0,0,0,0,0,0,0,0,0,0,0,0,0,0,0,0,0,0,0,0,0,0,0,0,0,0,0,0,0,0,0,0,0,0,0,0,0,0,0,0,0,0,0,0,0,0,0,0,0,0,0,0,0,0,0,0,0,0,0,1,0,0,0,0,0,0,0,0,0,0,0,0,0,0,0,0,0,0,0,0,0,0,0,0,0,0,0,0,0,0,0,0,0,0,0,0,0,0,0,0,0,0,0,0,0,0,0,0,0,0,0,0,0,0,0,0,0,0,0,0,0,0,0,0,0,0,0,0,0,0,0,0,0,0,0,0,0,0,0,0,0,0,0,0,0,0,0,0,0,0,0,0,0,0,0,0,0,0,0,0,0,0,0,0,0,0,0,0,0,0,0,0,0,0,0,0,0,0,0,0,0,0,0,0,1,0,0,0,0,0,0,0,0,0,0,0,0,0,0,0,0,0,0,0,0,0,1,0,0,0,0,0,0,0,0,0,0,0,0,0,0,0,0,0,0,0,0,0,0,0,0,0,0,0,0,0,0,0,0,0,0,0,0,0,0,0,0,0,0,0,0,0,0,0,0,0,0,0,0,0,0,0,0,0,0,0,0,0,0,0,0,1,0,0,0,0,0,0,0,0,0,0,0,0,0,0,0,0,0,0,0,0,0,0,0,0,0,0,0,0,0,0,0,0,0,0,0,0,0,0,0,0,0,0,0,0,0,0,0,0,0,0,0,0,0,0,0,0,0,0,0,0,0,0,0,0,0,0,0,0,0,0,0,0,0,0,0,0,0,0,0,0,0,0,0,0,0,0,0,0,0,0,0,0,0,0,0,0,0,0,0,0,0,0,0,0,0,0,0,0,0,0,0,0,0,0,0,0,0,0,0,0,0,0,0,0,0,0,0,0,0,0,0,0,0,0,0,0,0,0,0,0,0,0,1,0,0,0,0,0,0,0,0,0,0,0,0,0,0,0,0,0,0,0,0,0,0,0,0,0,0,0,0,0,0,0,0,0,0,0,0,0,0,0,0,0,0,0,0,0,0,0,0,0,0,0,0,0,0,0,0,0,0,0,0,0,0,0,0,0,0,0,0,0,0,0,0,0,0,0,0,0,0],\"coloraxis\":\"coloraxis\",\"symbol\":\"circle\"},\"mode\":\"markers\",\"name\":\"\",\"orientation\":\"v\",\"showlegend\":false,\"x\":[241,247,569,886,525,221,648,553,201,412,902,571,662,82,910,800,262,576,818,932,814,772,613,15,302,846,466,297,845,287,215,29,414,778,699,256,646,318,639,448,671,249,325,240,922,914,708,278,318,145,29,837,266,488,948,57,344,202,809,129,132,109,285,784,490,49,734,356,605,849,402,752,485,441,503,184,867,357,334,369,703,450,594,401,268,203,267,299,435,519,846,351,171,200,456,842,647,260,661,569,438,570,127,544,293,947,504,955,338,691,270,814,53,580,718,176,915,95,335,859,775,352,778,381,641,869,814,346,874,710,730,730,258,141,312,283,500,925,325,495,758,324,624,194,878,693,165,698,139,643,147,632,218,622,88,928,756,4,612,532,358,427,865,91,755,2,425,954,127,828,392,400,723,632,168,512,495,29,35,742,142,734,176,391,385,51,554,155,635,425,4,236,456,113,336,15,595,918,432,218,77,445,581,124,150,492,437,944,729,333,924,223,233,630,62,50,283,84,532,528,104,319,546,406,333,294,42,262,179,686,362,278,482,617,79,114,667,739,469,420,524,925,4,933,541,423,71,894,816,572,750,796,452,521,143,198,733,872,16,733,963,922,351,657,474,104,964,21,272,393,400,696,392,523,841,555,351,676,546,786,78,222,852,320,160,602,797,207,552,210,97,111,327,228,30,17,360,843,118,230,953,823,608,192,664,662,535,184,849,941,109,497,421,410,837,334,395,175,281,82,698,938,710,788,286,118,820,278,199,397,343,226,652,869,40,625,347,484,382,631,562,888,876,548,236,54,452,554,28,644,740,965,117,659,514,625,712,790,174,411,454,67,101,49,668,390,455,485,220,756,24,616,435,373,592,820,221,655,474,406,698,707,393,667,751,544,917,96,417,45,195,170,697,192,577,297,654,253,760,496,113,398,324,679,109,520,2,114,17,263,721,95,154,798,748,827,918,17,311,341,4,886,614,42,485,657,240,887,458,391,111,64,463,16,669,538,355,599,626,462,644,381,179,348,676,571,302,129,14,201,765,894,590,726,959,698,381,375,847,784,844,447,285,189,360,809,267,290,598,63,752,889,139,70,94,405,832,607,750,373,765,666,187,227,67,97,837,883,793,922,366,8,627,100,854,719,684,8,434,317,307,961,785,772,902,647,952,963,306,908,677,604,801,404,356,416,623,931,645,793,884,144,410,201,458,868,494,749,188,335,709,239,200,839,590,339,797,280,888,533,204,264,209,117,258,598,162,950,353,409,379,598,856,755,300,841,7,45,560,50,760,878,664,75,614,748,221,867,753,773,295,735,592,641,113,710,307,777,606,595,847,849,855,566,316,606,140,628,151,252,665,910,467,884,135,218,331,583,227,117,153,517,649,470,894,124,620,188,238,129,869,248,331,371,102,275,847,631,898,752,444,44,792,787,864,764,582,419,454,725,286,288,447,895,13,64,224,948,54,228,152,780,769,361,405,772,716,238,294,396,918,583,83,948,251,259,413,422,69,318,300,266,599,426,408,770,925,352,946,130,140,908,151,850,830,669,341,824,556,578,531,839,288,789,309,339,282,600,392,68,773,424,758,886,837,635,900,364,103,200,580,573,735,880,452,820,262,6,139,404,18,900,387,917,252,61,855,861,505,450,848,270,151,274,344,304,849,911,170,752,301,415,257,685,929,489,931,313,440,841,154,516,421,255,651,403,3,514,914,865,287,223,98,779,167,192,175,449,30,899,400,564,456,306,803,74,489,753,159,404,170,298,262,148,555,477,757,946,580,752,138,94,850,764,514,207,570,329,457,506,691,962,103,212,826,215,212,215,608,557,233,324,244,215,358,358,313,453,413,505,768,331,112,320,303,94,387,237,72,159,790,352,190,259,0,577,356,849,800,942,879,846,481,544,212,393,299,311,736,213,921,571,353,148,288,872,582,89,582,856,128,507,565,814,762,780,558,915,856,811,779,959,617,795,926,143,707,824,471,65,713,348,737,583,89,482,318,546,227,512,158,958,951,5,402,954,179,759,65,799,227,409,921,736,108,122,864,845,391,146,673,155,882,946,368,315,100,71,383,329,36,602,401,783,332,846,282,584,865,31,903,158,135,587,104,91,867,921,105,261,704,762,632,548,479,450,469,115,762,759,820,169,165,127,756,771,317,696,792,51,926,131,873,803,938,307,216,420,907,892,1,662,350,268,778,700,391,528,584,824,578,782,303,353,442,700,104,87,535,566,852,22,616,915,778,447,140,629,469,387,570,580,811,602,220,500,148,490,953,466],\"xaxis\":\"x\",\"y\":[136,426,236,412,356,552,743,160,681,372,246,315,445,231,618,29,380,419,45,477,165,479,764,175,111,680,652,749,113,54,600,754,762,554,1,755,446,183,193,126,273,713,172,707,385,555,103,739,574,306,665,19,500,417,157,758,492,682,157,36,655,584,13,419,354,311,43,477,155,50,767,267,428,673,370,53,730,123,348,724,79,701,675,729,526,524,196,627,218,452,731,520,622,188,133,502,305,35,754,678,454,189,198,773,362,543,268,251,616,618,727,566,139,433,221,615,304,468,564,49,284,225,440,328,630,232,612,558,114,602,330,457,686,264,35,27,582,295,574,525,141,4,339,380,285,658,538,627,229,562,528,689,33,128,175,479,229,334,458,553,237,496,461,446,193,185,176,697,425,641,543,304,594,469,486,262,197,246,276,549,761,107,476,597,765,304,774,648,692,364,690,344,747,638,37,548,27,399,557,593,739,379,122,774,236,354,220,151,24,374,158,493,770,335,217,608,757,538,50,464,518,113,757,127,148,152,766,256,207,9,750,329,226,650,702,50,479,137,568,508,185,702,592,411,146,99,638,190,424,587,671,590,188,540,233,286,493,239,392,609,599,524,488,368,16,271,138,557,296,641,404,212,696,315,645,465,514,408,288,585,582,413,405,55,498,66,388,570,368,338,503,0,79,410,624,406,546,543,219,276,655,17,57,263,134,538,377,65,198,475,488,600,583,686,92,533,440,765,489,534,683,546,568,671,194,42,38,550,578,207,385,91,61,269,246,500,234,252,700,181,726,570,429,401,95,510,34,342,505,594,752,375,180,166,182,634,271,275,594,145,522,315,635,130,73,17,110,52,101,576,547,305,493,736,304,301,321,501,407,383,776,256,707,567,311,350,621,224,327,744,555,39,242,138,117,67,364,249,769,307,593,208,289,353,578,109,512,295,154,743,157,613,179,430,211,258,148,113,605,405,147,484,73,482,709,224,114,706,96,607,39,264,358,264,714,589,385,762,318,118,51,124,267,372,754,52,27,404,540,428,736,175,197,764,273,520,245,639,527,777,767,481,417,661,26,23,354,703,325,306,660,585,73,361,648,759,44,319,232,536,257,133,168,226,191,363,499,309,706,732,553,331,266,173,505,759,288,606,326,746,702,457,752,320,414,379,767,718,488,747,475,576,626,632,67,315,696,629,138,4,467,758,587,719,643,591,615,32,628,639,668,286,662,31,50,91,311,469,274,614,53,212,62,562,718,182,6,763,745,708,372,260,746,120,129,489,648,667,505,619,226,368,137,314,49,282,706,184,421,46,278,442,66,695,229,141,532,436,313,669,498,488,186,756,345,16,444,164,250,702,407,305,15,259,636,36,141,771,651,54,68,208,293,217,431,683,228,347,411,664,370,553,174,642,254,67,82,724,526,61,571,377,587,89,479,493,135,721,99,39,94,173,10,174,365,652,493,191,766,755,354,620,703,273,530,519,516,663,322,621,145,603,235,400,653,353,519,34,189,94,654,459,52,257,563,392,772,34,479,441,717,451,389,679,541,598,459,613,402,537,777,182,50,698,639,391,170,70,627,218,636,80,145,580,564,749,301,47,191,36,473,213,763,407,738,214,379,761,584,703,303,404,281,455,24,398,417,316,563,262,396,188,555,481,54,284,660,735,267,615,431,485,336,358,534,378,453,569,630,631,0,308,650,181,234,552,344,200,155,176,244,353,723,204,226,260,668,694,630,472,214,223,776,387,97,489,571,94,382,669,190,749,775,486,518,596,403,173,716,678,140,640,472,674,374,168,497,165,389,59,751,681,424,617,603,390,334,169,543,572,269,572,523,665,304,414,595,205,541,329,232,629,131,544,115,622,386,741,261,111,639,588,98,13,476,314,206,258,362,418,307,135,195,551,364,104,336,305,223,292,259,439,321,394,361,695,276,119,464,499,314,187,414,568,120,78,775,499,112,311,346,578,56,351,349,738,112,688,440,398,13,347,92,0,420,677,423,225,404,176,64,286,313,433,744,543,258,758,674,314,721,285,286,741,53,152,232,6,562,535,454,177,709,469,440,164,133,649,634,283,237,637,546,79,524,461,255,455,630,513,298,122,524,322,662,238,373,342,210,388,293,345,45,330,91,753,255,348,472,96,82,771,489,0,224,42,221,524,634,425,325,334,671,350,335,266,389,511,350,177,263,731,755,393,579,528,6,726,138,643,315,772,215,387,451,662,733,671,294,275,483,142,209,195,437,401,516,177,105,8,281,91,404,161,635,514,187,657,746,248],\"yaxis\":\"y\",\"type\":\"scatter\"}],                        {\"template\":{\"data\":{\"histogram2dcontour\":[{\"type\":\"histogram2dcontour\",\"colorbar\":{\"outlinewidth\":0,\"ticks\":\"\"},\"colorscale\":[[0.0,\"#0d0887\"],[0.1111111111111111,\"#46039f\"],[0.2222222222222222,\"#7201a8\"],[0.3333333333333333,\"#9c179e\"],[0.4444444444444444,\"#bd3786\"],[0.5555555555555556,\"#d8576b\"],[0.6666666666666666,\"#ed7953\"],[0.7777777777777778,\"#fb9f3a\"],[0.8888888888888888,\"#fdca26\"],[1.0,\"#f0f921\"]]}],\"choropleth\":[{\"type\":\"choropleth\",\"colorbar\":{\"outlinewidth\":0,\"ticks\":\"\"}}],\"histogram2d\":[{\"type\":\"histogram2d\",\"colorbar\":{\"outlinewidth\":0,\"ticks\":\"\"},\"colorscale\":[[0.0,\"#0d0887\"],[0.1111111111111111,\"#46039f\"],[0.2222222222222222,\"#7201a8\"],[0.3333333333333333,\"#9c179e\"],[0.4444444444444444,\"#bd3786\"],[0.5555555555555556,\"#d8576b\"],[0.6666666666666666,\"#ed7953\"],[0.7777777777777778,\"#fb9f3a\"],[0.8888888888888888,\"#fdca26\"],[1.0,\"#f0f921\"]]}],\"heatmap\":[{\"type\":\"heatmap\",\"colorbar\":{\"outlinewidth\":0,\"ticks\":\"\"},\"colorscale\":[[0.0,\"#0d0887\"],[0.1111111111111111,\"#46039f\"],[0.2222222222222222,\"#7201a8\"],[0.3333333333333333,\"#9c179e\"],[0.4444444444444444,\"#bd3786\"],[0.5555555555555556,\"#d8576b\"],[0.6666666666666666,\"#ed7953\"],[0.7777777777777778,\"#fb9f3a\"],[0.8888888888888888,\"#fdca26\"],[1.0,\"#f0f921\"]]}],\"heatmapgl\":[{\"type\":\"heatmapgl\",\"colorbar\":{\"outlinewidth\":0,\"ticks\":\"\"},\"colorscale\":[[0.0,\"#0d0887\"],[0.1111111111111111,\"#46039f\"],[0.2222222222222222,\"#7201a8\"],[0.3333333333333333,\"#9c179e\"],[0.4444444444444444,\"#bd3786\"],[0.5555555555555556,\"#d8576b\"],[0.6666666666666666,\"#ed7953\"],[0.7777777777777778,\"#fb9f3a\"],[0.8888888888888888,\"#fdca26\"],[1.0,\"#f0f921\"]]}],\"contourcarpet\":[{\"type\":\"contourcarpet\",\"colorbar\":{\"outlinewidth\":0,\"ticks\":\"\"}}],\"contour\":[{\"type\":\"contour\",\"colorbar\":{\"outlinewidth\":0,\"ticks\":\"\"},\"colorscale\":[[0.0,\"#0d0887\"],[0.1111111111111111,\"#46039f\"],[0.2222222222222222,\"#7201a8\"],[0.3333333333333333,\"#9c179e\"],[0.4444444444444444,\"#bd3786\"],[0.5555555555555556,\"#d8576b\"],[0.6666666666666666,\"#ed7953\"],[0.7777777777777778,\"#fb9f3a\"],[0.8888888888888888,\"#fdca26\"],[1.0,\"#f0f921\"]]}],\"surface\":[{\"type\":\"surface\",\"colorbar\":{\"outlinewidth\":0,\"ticks\":\"\"},\"colorscale\":[[0.0,\"#0d0887\"],[0.1111111111111111,\"#46039f\"],[0.2222222222222222,\"#7201a8\"],[0.3333333333333333,\"#9c179e\"],[0.4444444444444444,\"#bd3786\"],[0.5555555555555556,\"#d8576b\"],[0.6666666666666666,\"#ed7953\"],[0.7777777777777778,\"#fb9f3a\"],[0.8888888888888888,\"#fdca26\"],[1.0,\"#f0f921\"]]}],\"mesh3d\":[{\"type\":\"mesh3d\",\"colorbar\":{\"outlinewidth\":0,\"ticks\":\"\"}}],\"scatter\":[{\"fillpattern\":{\"fillmode\":\"overlay\",\"size\":10,\"solidity\":0.2},\"type\":\"scatter\"}],\"parcoords\":[{\"type\":\"parcoords\",\"line\":{\"colorbar\":{\"outlinewidth\":0,\"ticks\":\"\"}}}],\"scatterpolargl\":[{\"type\":\"scatterpolargl\",\"marker\":{\"colorbar\":{\"outlinewidth\":0,\"ticks\":\"\"}}}],\"bar\":[{\"error_x\":{\"color\":\"#2a3f5f\"},\"error_y\":{\"color\":\"#2a3f5f\"},\"marker\":{\"line\":{\"color\":\"#E5ECF6\",\"width\":0.5},\"pattern\":{\"fillmode\":\"overlay\",\"size\":10,\"solidity\":0.2}},\"type\":\"bar\"}],\"scattergeo\":[{\"type\":\"scattergeo\",\"marker\":{\"colorbar\":{\"outlinewidth\":0,\"ticks\":\"\"}}}],\"scatterpolar\":[{\"type\":\"scatterpolar\",\"marker\":{\"colorbar\":{\"outlinewidth\":0,\"ticks\":\"\"}}}],\"histogram\":[{\"marker\":{\"pattern\":{\"fillmode\":\"overlay\",\"size\":10,\"solidity\":0.2}},\"type\":\"histogram\"}],\"scattergl\":[{\"type\":\"scattergl\",\"marker\":{\"colorbar\":{\"outlinewidth\":0,\"ticks\":\"\"}}}],\"scatter3d\":[{\"type\":\"scatter3d\",\"line\":{\"colorbar\":{\"outlinewidth\":0,\"ticks\":\"\"}},\"marker\":{\"colorbar\":{\"outlinewidth\":0,\"ticks\":\"\"}}}],\"scattermapbox\":[{\"type\":\"scattermapbox\",\"marker\":{\"colorbar\":{\"outlinewidth\":0,\"ticks\":\"\"}}}],\"scatterternary\":[{\"type\":\"scatterternary\",\"marker\":{\"colorbar\":{\"outlinewidth\":0,\"ticks\":\"\"}}}],\"scattercarpet\":[{\"type\":\"scattercarpet\",\"marker\":{\"colorbar\":{\"outlinewidth\":0,\"ticks\":\"\"}}}],\"carpet\":[{\"aaxis\":{\"endlinecolor\":\"#2a3f5f\",\"gridcolor\":\"white\",\"linecolor\":\"white\",\"minorgridcolor\":\"white\",\"startlinecolor\":\"#2a3f5f\"},\"baxis\":{\"endlinecolor\":\"#2a3f5f\",\"gridcolor\":\"white\",\"linecolor\":\"white\",\"minorgridcolor\":\"white\",\"startlinecolor\":\"#2a3f5f\"},\"type\":\"carpet\"}],\"table\":[{\"cells\":{\"fill\":{\"color\":\"#EBF0F8\"},\"line\":{\"color\":\"white\"}},\"header\":{\"fill\":{\"color\":\"#C8D4E3\"},\"line\":{\"color\":\"white\"}},\"type\":\"table\"}],\"barpolar\":[{\"marker\":{\"line\":{\"color\":\"#E5ECF6\",\"width\":0.5},\"pattern\":{\"fillmode\":\"overlay\",\"size\":10,\"solidity\":0.2}},\"type\":\"barpolar\"}],\"pie\":[{\"automargin\":true,\"type\":\"pie\"}]},\"layout\":{\"autotypenumbers\":\"strict\",\"colorway\":[\"#636efa\",\"#EF553B\",\"#00cc96\",\"#ab63fa\",\"#FFA15A\",\"#19d3f3\",\"#FF6692\",\"#B6E880\",\"#FF97FF\",\"#FECB52\"],\"font\":{\"color\":\"#2a3f5f\"},\"hovermode\":\"closest\",\"hoverlabel\":{\"align\":\"left\"},\"paper_bgcolor\":\"white\",\"plot_bgcolor\":\"#E5ECF6\",\"polar\":{\"bgcolor\":\"#E5ECF6\",\"angularaxis\":{\"gridcolor\":\"white\",\"linecolor\":\"white\",\"ticks\":\"\"},\"radialaxis\":{\"gridcolor\":\"white\",\"linecolor\":\"white\",\"ticks\":\"\"}},\"ternary\":{\"bgcolor\":\"#E5ECF6\",\"aaxis\":{\"gridcolor\":\"white\",\"linecolor\":\"white\",\"ticks\":\"\"},\"baxis\":{\"gridcolor\":\"white\",\"linecolor\":\"white\",\"ticks\":\"\"},\"caxis\":{\"gridcolor\":\"white\",\"linecolor\":\"white\",\"ticks\":\"\"}},\"coloraxis\":{\"colorbar\":{\"outlinewidth\":0,\"ticks\":\"\"}},\"colorscale\":{\"sequential\":[[0.0,\"#0d0887\"],[0.1111111111111111,\"#46039f\"],[0.2222222222222222,\"#7201a8\"],[0.3333333333333333,\"#9c179e\"],[0.4444444444444444,\"#bd3786\"],[0.5555555555555556,\"#d8576b\"],[0.6666666666666666,\"#ed7953\"],[0.7777777777777778,\"#fb9f3a\"],[0.8888888888888888,\"#fdca26\"],[1.0,\"#f0f921\"]],\"sequentialminus\":[[0.0,\"#0d0887\"],[0.1111111111111111,\"#46039f\"],[0.2222222222222222,\"#7201a8\"],[0.3333333333333333,\"#9c179e\"],[0.4444444444444444,\"#bd3786\"],[0.5555555555555556,\"#d8576b\"],[0.6666666666666666,\"#ed7953\"],[0.7777777777777778,\"#fb9f3a\"],[0.8888888888888888,\"#fdca26\"],[1.0,\"#f0f921\"]],\"diverging\":[[0,\"#8e0152\"],[0.1,\"#c51b7d\"],[0.2,\"#de77ae\"],[0.3,\"#f1b6da\"],[0.4,\"#fde0ef\"],[0.5,\"#f7f7f7\"],[0.6,\"#e6f5d0\"],[0.7,\"#b8e186\"],[0.8,\"#7fbc41\"],[0.9,\"#4d9221\"],[1,\"#276419\"]]},\"xaxis\":{\"gridcolor\":\"white\",\"linecolor\":\"white\",\"ticks\":\"\",\"title\":{\"standoff\":15},\"zerolinecolor\":\"white\",\"automargin\":true,\"zerolinewidth\":2},\"yaxis\":{\"gridcolor\":\"white\",\"linecolor\":\"white\",\"ticks\":\"\",\"title\":{\"standoff\":15},\"zerolinecolor\":\"white\",\"automargin\":true,\"zerolinewidth\":2},\"scene\":{\"xaxis\":{\"backgroundcolor\":\"#E5ECF6\",\"gridcolor\":\"white\",\"linecolor\":\"white\",\"showbackground\":true,\"ticks\":\"\",\"zerolinecolor\":\"white\",\"gridwidth\":2},\"yaxis\":{\"backgroundcolor\":\"#E5ECF6\",\"gridcolor\":\"white\",\"linecolor\":\"white\",\"showbackground\":true,\"ticks\":\"\",\"zerolinecolor\":\"white\",\"gridwidth\":2},\"zaxis\":{\"backgroundcolor\":\"#E5ECF6\",\"gridcolor\":\"white\",\"linecolor\":\"white\",\"showbackground\":true,\"ticks\":\"\",\"zerolinecolor\":\"white\",\"gridwidth\":2}},\"shapedefaults\":{\"line\":{\"color\":\"#2a3f5f\"}},\"annotationdefaults\":{\"arrowcolor\":\"#2a3f5f\",\"arrowhead\":0,\"arrowwidth\":1},\"geo\":{\"bgcolor\":\"white\",\"landcolor\":\"#E5ECF6\",\"subunitcolor\":\"white\",\"showland\":true,\"showlakes\":true,\"lakecolor\":\"white\"},\"title\":{\"x\":0.05},\"mapbox\":{\"style\":\"light\"}}},\"xaxis\":{\"anchor\":\"y\",\"domain\":[0.0,1.0],\"title\":{\"text\":\"X\"}},\"yaxis\":{\"anchor\":\"x\",\"domain\":[0.0,1.0],\"title\":{\"text\":\"Y\"}},\"coloraxis\":{\"colorbar\":{\"title\":{\"text\":\"Grey\"}},\"colorscale\":[[0.0,\"#0d0887\"],[0.1111111111111111,\"#46039f\"],[0.2222222222222222,\"#7201a8\"],[0.3333333333333333,\"#9c179e\"],[0.4444444444444444,\"#bd3786\"],[0.5555555555555556,\"#d8576b\"],[0.6666666666666666,\"#ed7953\"],[0.7777777777777778,\"#fb9f3a\"],[0.8888888888888888,\"#fdca26\"],[1.0,\"#f0f921\"]]},\"legend\":{\"tracegroupgap\":0},\"margin\":{\"t\":60}},                        {\"responsive\": true}                    ).then(function(){\n",
       "                            \n",
       "var gd = document.getElementById('5f9adaa7-cf06-402a-bad1-2fd8dfe62d03');\n",
       "var x = new MutationObserver(function (mutations, observer) {{\n",
       "        var display = window.getComputedStyle(gd).display;\n",
       "        if (!display || display === 'none') {{\n",
       "            console.log([gd, 'removed!']);\n",
       "            Plotly.purge(gd);\n",
       "            observer.disconnect();\n",
       "        }}\n",
       "}});\n",
       "\n",
       "// Listen for the removal of the full notebook cells\n",
       "var notebookContainer = gd.closest('#notebook-container');\n",
       "if (notebookContainer) {{\n",
       "    x.observe(notebookContainer, {childList: true});\n",
       "}}\n",
       "\n",
       "// Listen for the clearing of the current output cell\n",
       "var outputEl = gd.closest('.output');\n",
       "if (outputEl) {{\n",
       "    x.observe(outputEl, {childList: true});\n",
       "}}\n",
       "\n",
       "                        })                };                });            </script>        </div>"
      ]
     },
     "metadata": {},
     "output_type": "display_data"
    }
   ],
   "source": [
    "from plotly import express\n",
    "\n",
    "express.scatter(data_frame=df.sample(n=1000, random_state=2024), x='X', y='Y', color=TARGET)"
   ]
  },
  {
   "cell_type": "markdown",
   "id": "508462fc",
   "metadata": {
    "papermill": {
     "duration": 0.003461,
     "end_time": "2024-07-25T18:41:29.338012",
     "exception": false,
     "start_time": "2024-07-25T18:41:29.334551",
     "status": "completed"
    },
    "tags": []
   },
   "source": [
    "Is our X-Y data randomly distributed? It's hard to tell."
   ]
  },
  {
   "cell_type": "code",
   "execution_count": 4,
   "id": "f00d43a4",
   "metadata": {
    "execution": {
     "iopub.execute_input": "2024-07-25T18:41:29.346199Z",
     "iopub.status.busy": "2024-07-25T18:41:29.345797Z",
     "iopub.status.idle": "2024-07-25T18:41:29.352157Z",
     "shell.execute_reply": "2024-07-25T18:41:29.351238Z"
    },
    "papermill": {
     "duration": 0.013035,
     "end_time": "2024-07-25T18:41:29.354399",
     "exception": false,
     "start_time": "2024-07-25T18:41:29.341364",
     "status": "completed"
    },
    "tags": []
   },
   "outputs": [
    {
     "data": {
      "text/plain": [
       "Index(['X', 'Y', 'R', 'G', 'B', 'Grey'], dtype='object')"
      ]
     },
     "execution_count": 4,
     "metadata": {},
     "output_type": "execute_result"
    }
   ],
   "source": [
    "df.columns"
   ]
  },
  {
   "cell_type": "code",
   "execution_count": 5,
   "id": "95a27699",
   "metadata": {
    "execution": {
     "iopub.execute_input": "2024-07-25T18:41:29.363453Z",
     "iopub.status.busy": "2024-07-25T18:41:29.362725Z",
     "iopub.status.idle": "2024-07-25T18:42:10.638477Z",
     "shell.execute_reply": "2024-07-25T18:42:10.637441Z"
    },
    "papermill": {
     "duration": 41.282819,
     "end_time": "2024-07-25T18:42:10.640723",
     "exception": false,
     "start_time": "2024-07-25T18:41:29.357904",
     "status": "completed"
    },
    "tags": []
   },
   "outputs": [
    {
     "name": "stderr",
     "output_type": "stream",
     "text": [
      "2024-07-25 18:41:50.259212: E external/local_xla/xla/stream_executor/cuda/cuda_dnn.cc:9261] Unable to register cuDNN factory: Attempting to register factory for plugin cuDNN when one has already been registered\n",
      "2024-07-25 18:41:50.259364: E external/local_xla/xla/stream_executor/cuda/cuda_fft.cc:607] Unable to register cuFFT factory: Attempting to register factory for plugin cuFFT when one has already been registered\n",
      "2024-07-25 18:41:50.394081: E external/local_xla/xla/stream_executor/cuda/cuda_blas.cc:1515] Unable to register cuBLAS factory: Attempting to register factory for plugin cuBLAS when one has already been registered\n"
     ]
    },
    {
     "name": "stdout",
     "output_type": "stream",
     "text": [
      "UMAP(low_memory=False, n_epochs=500, n_jobs=1, random_state=2024, verbose=True)\n",
      "Thu Jul 25 18:42:00 2024 Construct fuzzy simplicial set\n",
      "Thu Jul 25 18:42:01 2024 Finding Nearest Neighbors\n",
      "Thu Jul 25 18:42:05 2024 Finished Nearest Neighbor Search\n",
      "Thu Jul 25 18:42:08 2024 Construct embedding\n"
     ]
    },
    {
     "data": {
      "application/vnd.jupyter.widget-view+json": {
       "model_id": "d6527214ce8a4236a3542aeaa27985f9",
       "version_major": 2,
       "version_minor": 0
      },
      "text/plain": [
       "Epochs completed:   0%|            0/500 [00:00]"
      ]
     },
     "metadata": {},
     "output_type": "display_data"
    },
    {
     "name": "stdout",
     "output_type": "stream",
     "text": [
      "\tcompleted  0  /  500 epochs\n",
      "\tcompleted  50  /  500 epochs\n",
      "\tcompleted  100  /  500 epochs\n",
      "\tcompleted  150  /  500 epochs\n",
      "\tcompleted  200  /  500 epochs\n",
      "\tcompleted  250  /  500 epochs\n",
      "\tcompleted  300  /  500 epochs\n",
      "\tcompleted  350  /  500 epochs\n",
      "\tcompleted  400  /  500 epochs\n",
      "\tcompleted  450  /  500 epochs\n",
      "Thu Jul 25 18:42:10 2024 Finished embedding\n",
      "done with UMAP in 0:00:10.282135\n"
     ]
    }
   ],
   "source": [
    "import arrow\n",
    "from umap import UMAP\n",
    "\n",
    "COLUMNS = ['X', 'Y', 'R', 'G', 'B',]\n",
    "\n",
    "time_start = arrow.now()\n",
    "umap_df = df.sample(n=1000, random_state=2024)\n",
    "umap = UMAP(random_state=2024, verbose=True, n_jobs=1, low_memory=False, n_epochs=500)\n",
    "umap_df[['x', 'y']] = umap.fit_transform(X=umap_df[COLUMNS])\n",
    "print('done with UMAP in {}'.format(arrow.now() - time_start))"
   ]
  }
 ],
 "metadata": {
  "kaggle": {
   "accelerator": "none",
   "dataSources": [
    {
     "datasetId": 5428191,
     "sourceId": 9009665,
     "sourceType": "datasetVersion"
    }
   ],
   "dockerImageVersionId": 30746,
   "isGpuEnabled": false,
   "isInternetEnabled": true,
   "language": "python",
   "sourceType": "notebook"
  },
  "kernelspec": {
   "display_name": "Python 3",
   "language": "python",
   "name": "python3"
  },
  "language_info": {
   "codemirror_mode": {
    "name": "ipython",
    "version": 3
   },
   "file_extension": ".py",
   "mimetype": "text/x-python",
   "name": "python",
   "nbconvert_exporter": "python",
   "pygments_lexer": "ipython3",
   "version": "3.10.13"
  },
  "papermill": {
   "default_parameters": {},
   "duration": 49.804405,
   "end_time": "2024-07-25T18:42:12.770371",
   "environment_variables": {},
   "exception": null,
   "input_path": "__notebook__.ipynb",
   "output_path": "__notebook__.ipynb",
   "parameters": {},
   "start_time": "2024-07-25T18:41:22.965966",
   "version": "2.5.0"
  },
  "widgets": {
   "application/vnd.jupyter.widget-state+json": {
    "state": {
     "00b88429c67244349def4f62d22561e6": {
      "model_module": "@jupyter-widgets/controls",
      "model_module_version": "1.5.0",
      "model_name": "ProgressStyleModel",
      "state": {
       "_model_module": "@jupyter-widgets/controls",
       "_model_module_version": "1.5.0",
       "_model_name": "ProgressStyleModel",
       "_view_count": null,
       "_view_module": "@jupyter-widgets/base",
       "_view_module_version": "1.2.0",
       "_view_name": "StyleView",
       "bar_color": null,
       "description_width": ""
      }
     },
     "10b5a247799e41f4b3071bd53f2d1697": {
      "model_module": "@jupyter-widgets/base",
      "model_module_version": "1.2.0",
      "model_name": "LayoutModel",
      "state": {
       "_model_module": "@jupyter-widgets/base",
       "_model_module_version": "1.2.0",
       "_model_name": "LayoutModel",
       "_view_count": null,
       "_view_module": "@jupyter-widgets/base",
       "_view_module_version": "1.2.0",
       "_view_name": "LayoutView",
       "align_content": null,
       "align_items": null,
       "align_self": null,
       "border": null,
       "bottom": null,
       "display": null,
       "flex": null,
       "flex_flow": null,
       "grid_area": null,
       "grid_auto_columns": null,
       "grid_auto_flow": null,
       "grid_auto_rows": null,
       "grid_column": null,
       "grid_gap": null,
       "grid_row": null,
       "grid_template_areas": null,
       "grid_template_columns": null,
       "grid_template_rows": null,
       "height": null,
       "justify_content": null,
       "justify_items": null,
       "left": null,
       "margin": null,
       "max_height": null,
       "max_width": null,
       "min_height": null,
       "min_width": null,
       "object_fit": null,
       "object_position": null,
       "order": null,
       "overflow": null,
       "overflow_x": null,
       "overflow_y": null,
       "padding": null,
       "right": null,
       "top": null,
       "visibility": null,
       "width": null
      }
     },
     "2003f1d5209445589f26ca744bb0ac81": {
      "model_module": "@jupyter-widgets/controls",
      "model_module_version": "1.5.0",
      "model_name": "HTMLModel",
      "state": {
       "_dom_classes": [],
       "_model_module": "@jupyter-widgets/controls",
       "_model_module_version": "1.5.0",
       "_model_name": "HTMLModel",
       "_view_count": null,
       "_view_module": "@jupyter-widgets/controls",
       "_view_module_version": "1.5.0",
       "_view_name": "HTMLView",
       "description": "",
       "description_tooltip": null,
       "layout": "IPY_MODEL_55ad7a2439004f5b857e5255f72f7dcf",
       "placeholder": "​",
       "style": "IPY_MODEL_46d9a846bb704ea294fb58ea28a5b272",
       "value": " 500/500 [00:02]"
      }
     },
     "410a48d57c2f454a816456f780e58b45": {
      "model_module": "@jupyter-widgets/base",
      "model_module_version": "1.2.0",
      "model_name": "LayoutModel",
      "state": {
       "_model_module": "@jupyter-widgets/base",
       "_model_module_version": "1.2.0",
       "_model_name": "LayoutModel",
       "_view_count": null,
       "_view_module": "@jupyter-widgets/base",
       "_view_module_version": "1.2.0",
       "_view_name": "LayoutView",
       "align_content": null,
       "align_items": null,
       "align_self": null,
       "border": null,
       "bottom": null,
       "display": null,
       "flex": null,
       "flex_flow": null,
       "grid_area": null,
       "grid_auto_columns": null,
       "grid_auto_flow": null,
       "grid_auto_rows": null,
       "grid_column": null,
       "grid_gap": null,
       "grid_row": null,
       "grid_template_areas": null,
       "grid_template_columns": null,
       "grid_template_rows": null,
       "height": null,
       "justify_content": null,
       "justify_items": null,
       "left": null,
       "margin": null,
       "max_height": null,
       "max_width": null,
       "min_height": null,
       "min_width": null,
       "object_fit": null,
       "object_position": null,
       "order": null,
       "overflow": null,
       "overflow_x": null,
       "overflow_y": null,
       "padding": null,
       "right": null,
       "top": null,
       "visibility": null,
       "width": null
      }
     },
     "46d9a846bb704ea294fb58ea28a5b272": {
      "model_module": "@jupyter-widgets/controls",
      "model_module_version": "1.5.0",
      "model_name": "DescriptionStyleModel",
      "state": {
       "_model_module": "@jupyter-widgets/controls",
       "_model_module_version": "1.5.0",
       "_model_name": "DescriptionStyleModel",
       "_view_count": null,
       "_view_module": "@jupyter-widgets/base",
       "_view_module_version": "1.2.0",
       "_view_name": "StyleView",
       "description_width": ""
      }
     },
     "55ad7a2439004f5b857e5255f72f7dcf": {
      "model_module": "@jupyter-widgets/base",
      "model_module_version": "1.2.0",
      "model_name": "LayoutModel",
      "state": {
       "_model_module": "@jupyter-widgets/base",
       "_model_module_version": "1.2.0",
       "_model_name": "LayoutModel",
       "_view_count": null,
       "_view_module": "@jupyter-widgets/base",
       "_view_module_version": "1.2.0",
       "_view_name": "LayoutView",
       "align_content": null,
       "align_items": null,
       "align_self": null,
       "border": null,
       "bottom": null,
       "display": null,
       "flex": null,
       "flex_flow": null,
       "grid_area": null,
       "grid_auto_columns": null,
       "grid_auto_flow": null,
       "grid_auto_rows": null,
       "grid_column": null,
       "grid_gap": null,
       "grid_row": null,
       "grid_template_areas": null,
       "grid_template_columns": null,
       "grid_template_rows": null,
       "height": null,
       "justify_content": null,
       "justify_items": null,
       "left": null,
       "margin": null,
       "max_height": null,
       "max_width": null,
       "min_height": null,
       "min_width": null,
       "object_fit": null,
       "object_position": null,
       "order": null,
       "overflow": null,
       "overflow_x": null,
       "overflow_y": null,
       "padding": null,
       "right": null,
       "top": null,
       "visibility": null,
       "width": null
      }
     },
     "5ffe21dce9364bfd86ac7d7a08951d16": {
      "model_module": "@jupyter-widgets/controls",
      "model_module_version": "1.5.0",
      "model_name": "FloatProgressModel",
      "state": {
       "_dom_classes": [],
       "_model_module": "@jupyter-widgets/controls",
       "_model_module_version": "1.5.0",
       "_model_name": "FloatProgressModel",
       "_view_count": null,
       "_view_module": "@jupyter-widgets/controls",
       "_view_module_version": "1.5.0",
       "_view_name": "ProgressView",
       "bar_style": "success",
       "description": "",
       "description_tooltip": null,
       "layout": "IPY_MODEL_410a48d57c2f454a816456f780e58b45",
       "max": 500.0,
       "min": 0.0,
       "orientation": "horizontal",
       "style": "IPY_MODEL_00b88429c67244349def4f62d22561e6",
       "value": 500.0
      }
     },
     "d61c2777438241be842a941b441f9160": {
      "model_module": "@jupyter-widgets/controls",
      "model_module_version": "1.5.0",
      "model_name": "DescriptionStyleModel",
      "state": {
       "_model_module": "@jupyter-widgets/controls",
       "_model_module_version": "1.5.0",
       "_model_name": "DescriptionStyleModel",
       "_view_count": null,
       "_view_module": "@jupyter-widgets/base",
       "_view_module_version": "1.2.0",
       "_view_name": "StyleView",
       "description_width": ""
      }
     },
     "d6527214ce8a4236a3542aeaa27985f9": {
      "model_module": "@jupyter-widgets/controls",
      "model_module_version": "1.5.0",
      "model_name": "HBoxModel",
      "state": {
       "_dom_classes": [],
       "_model_module": "@jupyter-widgets/controls",
       "_model_module_version": "1.5.0",
       "_model_name": "HBoxModel",
       "_view_count": null,
       "_view_module": "@jupyter-widgets/controls",
       "_view_module_version": "1.5.0",
       "_view_name": "HBoxView",
       "box_style": "",
       "children": [
        "IPY_MODEL_dcff317a05604189ae63cf66b2b62fc6",
        "IPY_MODEL_5ffe21dce9364bfd86ac7d7a08951d16",
        "IPY_MODEL_2003f1d5209445589f26ca744bb0ac81"
       ],
       "layout": "IPY_MODEL_10b5a247799e41f4b3071bd53f2d1697"
      }
     },
     "dcff317a05604189ae63cf66b2b62fc6": {
      "model_module": "@jupyter-widgets/controls",
      "model_module_version": "1.5.0",
      "model_name": "HTMLModel",
      "state": {
       "_dom_classes": [],
       "_model_module": "@jupyter-widgets/controls",
       "_model_module_version": "1.5.0",
       "_model_name": "HTMLModel",
       "_view_count": null,
       "_view_module": "@jupyter-widgets/controls",
       "_view_module_version": "1.5.0",
       "_view_name": "HTMLView",
       "description": "",
       "description_tooltip": null,
       "layout": "IPY_MODEL_fe11156caf9f49a692e0c492b87e0d33",
       "placeholder": "​",
       "style": "IPY_MODEL_d61c2777438241be842a941b441f9160",
       "value": "Epochs completed: 100%| "
      }
     },
     "fe11156caf9f49a692e0c492b87e0d33": {
      "model_module": "@jupyter-widgets/base",
      "model_module_version": "1.2.0",
      "model_name": "LayoutModel",
      "state": {
       "_model_module": "@jupyter-widgets/base",
       "_model_module_version": "1.2.0",
       "_model_name": "LayoutModel",
       "_view_count": null,
       "_view_module": "@jupyter-widgets/base",
       "_view_module_version": "1.2.0",
       "_view_name": "LayoutView",
       "align_content": null,
       "align_items": null,
       "align_self": null,
       "border": null,
       "bottom": null,
       "display": null,
       "flex": null,
       "flex_flow": null,
       "grid_area": null,
       "grid_auto_columns": null,
       "grid_auto_flow": null,
       "grid_auto_rows": null,
       "grid_column": null,
       "grid_gap": null,
       "grid_row": null,
       "grid_template_areas": null,
       "grid_template_columns": null,
       "grid_template_rows": null,
       "height": null,
       "justify_content": null,
       "justify_items": null,
       "left": null,
       "margin": null,
       "max_height": null,
       "max_width": null,
       "min_height": null,
       "min_width": null,
       "object_fit": null,
       "object_position": null,
       "order": null,
       "overflow": null,
       "overflow_x": null,
       "overflow_y": null,
       "padding": null,
       "right": null,
       "top": null,
       "visibility": null,
       "width": null
      }
     }
    },
    "version_major": 2,
    "version_minor": 0
   }
  }
 },
 "nbformat": 4,
 "nbformat_minor": 5
}
