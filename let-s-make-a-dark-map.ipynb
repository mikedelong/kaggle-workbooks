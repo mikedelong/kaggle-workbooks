{
 "cells": [
  {
   "cell_type": "markdown",
   "id": "08a67a20",
   "metadata": {
    "papermill": {
     "duration": 0.003544,
     "end_time": "2024-09-28T13:50:22.230314",
     "exception": false,
     "start_time": "2024-09-28T13:50:22.226770",
     "status": "completed"
    },
    "tags": []
   },
   "source": [
    "Let's load up our data and do a little cleanup; there are fields that need parsing, and a few fields we will definitely not need."
   ]
  },
  {
   "cell_type": "code",
   "execution_count": 1,
   "id": "b37ba85d",
   "metadata": {
    "_cell_guid": "b1076dfc-b9ad-4769-8c92-a6c4dae69d19",
    "_uuid": "8f2839f25d086af736a60e9eeb907d3b93b6e0e5",
    "execution": {
     "iopub.execute_input": "2024-09-28T13:50:22.239625Z",
     "iopub.status.busy": "2024-09-28T13:50:22.239128Z",
     "iopub.status.idle": "2024-09-28T13:50:23.421935Z",
     "shell.execute_reply": "2024-09-28T13:50:23.420345Z"
    },
    "papermill": {
     "duration": 1.191328,
     "end_time": "2024-09-28T13:50:23.424671",
     "exception": false,
     "start_time": "2024-09-28T13:50:22.233343",
     "status": "completed"
    },
    "tags": []
   },
   "outputs": [
    {
     "data": {
      "text/html": [
       "<div>\n",
       "<style scoped>\n",
       "    .dataframe tbody tr th:only-of-type {\n",
       "        vertical-align: middle;\n",
       "    }\n",
       "\n",
       "    .dataframe tbody tr th {\n",
       "        vertical-align: top;\n",
       "    }\n",
       "\n",
       "    .dataframe thead th {\n",
       "        text-align: right;\n",
       "    }\n",
       "</style>\n",
       "<table border=\"1\" class=\"dataframe\">\n",
       "  <thead>\n",
       "    <tr style=\"text-align: right;\">\n",
       "      <th></th>\n",
       "      <th>magnitude</th>\n",
       "      <th>type</th>\n",
       "      <th>title</th>\n",
       "      <th>date</th>\n",
       "      <th>time</th>\n",
       "      <th>updated</th>\n",
       "      <th>felt</th>\n",
       "      <th>cdi</th>\n",
       "      <th>mmi</th>\n",
       "      <th>alert</th>\n",
       "      <th>...</th>\n",
       "      <th>location</th>\n",
       "      <th>continent</th>\n",
       "      <th>country</th>\n",
       "      <th>subnational</th>\n",
       "      <th>city</th>\n",
       "      <th>locality</th>\n",
       "      <th>postcode</th>\n",
       "      <th>what3words</th>\n",
       "      <th>timezone</th>\n",
       "      <th>locationDetails</th>\n",
       "    </tr>\n",
       "    <tr>\n",
       "      <th>id</th>\n",
       "      <th></th>\n",
       "      <th></th>\n",
       "      <th></th>\n",
       "      <th></th>\n",
       "      <th></th>\n",
       "      <th></th>\n",
       "      <th></th>\n",
       "      <th></th>\n",
       "      <th></th>\n",
       "      <th></th>\n",
       "      <th></th>\n",
       "      <th></th>\n",
       "      <th></th>\n",
       "      <th></th>\n",
       "      <th></th>\n",
       "      <th></th>\n",
       "      <th></th>\n",
       "      <th></th>\n",
       "      <th></th>\n",
       "      <th></th>\n",
       "      <th></th>\n",
       "    </tr>\n",
       "  </thead>\n",
       "  <tbody>\n",
       "    <tr>\n",
       "      <th>us7000necw</th>\n",
       "      <td>4.8</td>\n",
       "      <td>earthquake</td>\n",
       "      <td>M 4.8 - 33 km WSW of Ackerly, Texas</td>\n",
       "      <td>2024-09-17 00:49:42</td>\n",
       "      <td>1726534182289</td>\n",
       "      <td>1726583895255</td>\n",
       "      <td>1893</td>\n",
       "      <td>6</td>\n",
       "      <td>5</td>\n",
       "      <td>green</td>\n",
       "      <td>...</td>\n",
       "      <td>Ackerly, Texas</td>\n",
       "      <td>North America</td>\n",
       "      <td>United States of America (the)</td>\n",
       "      <td>Texas</td>\n",
       "      <td>Tarzan-Lenorah</td>\n",
       "      <td>Tarzan-Lenorah</td>\n",
       "      <td>79783.0</td>\n",
       "      <td>landmass.perkily.affords</td>\n",
       "      <td>-300</td>\n",
       "      <td>[{'id': '80684', 'wikidataId': '', 'name': '79...</td>\n",
       "    </tr>\n",
       "    <tr>\n",
       "      <th>tx2024shcj</th>\n",
       "      <td>5.1</td>\n",
       "      <td>earthquake</td>\n",
       "      <td>M 5.1 - 34 km WSW of Ackerly, Texas</td>\n",
       "      <td>2024-09-17 00:49:42</td>\n",
       "      <td>1726534182183</td>\n",
       "      <td>1726672002991</td>\n",
       "      <td>2042</td>\n",
       "      <td>6</td>\n",
       "      <td>5</td>\n",
       "      <td>green</td>\n",
       "      <td>...</td>\n",
       "      <td>Ackerly, Texas</td>\n",
       "      <td>North America</td>\n",
       "      <td>United States of America (the)</td>\n",
       "      <td>Texas</td>\n",
       "      <td>Tarzan-Lenorah</td>\n",
       "      <td>Tarzan-Lenorah</td>\n",
       "      <td>79331.0</td>\n",
       "      <td>escalator.grownups.dwell</td>\n",
       "      <td>-300</td>\n",
       "      <td>[{'id': '89341', 'wikidataId': '', 'name': '48...</td>\n",
       "    </tr>\n",
       "    <tr>\n",
       "      <th>ci40734823</th>\n",
       "      <td>3.7</td>\n",
       "      <td>earthquake</td>\n",
       "      <td>M 3.7 - 6 km N of Malibu, CA</td>\n",
       "      <td>2024-09-16 11:22:08</td>\n",
       "      <td>1726485728190</td>\n",
       "      <td>1726637414586</td>\n",
       "      <td>1580</td>\n",
       "      <td>4</td>\n",
       "      <td>4</td>\n",
       "      <td>NaN</td>\n",
       "      <td>...</td>\n",
       "      <td>Malibu, CA</td>\n",
       "      <td>North America</td>\n",
       "      <td>United States of America (the)</td>\n",
       "      <td>California</td>\n",
       "      <td>Los Angeles</td>\n",
       "      <td>Agoura Hills-Malibu</td>\n",
       "      <td>90265.0</td>\n",
       "      <td>clocking.uploaded.issuer</td>\n",
       "      <td>-420</td>\n",
       "      <td>[{'id': '93478', 'wikidataId': 'Q844837', 'nam...</td>\n",
       "    </tr>\n",
       "    <tr>\n",
       "      <th>tx2024scvz</th>\n",
       "      <td>3.9</td>\n",
       "      <td>earthquake</td>\n",
       "      <td>M 3.9 - 58 km S of Whites City, New Mexico</td>\n",
       "      <td>2024-09-14 17:01:06</td>\n",
       "      <td>1726333266539</td>\n",
       "      <td>1726584426218</td>\n",
       "      <td>5</td>\n",
       "      <td>3</td>\n",
       "      <td>4</td>\n",
       "      <td>green</td>\n",
       "      <td>...</td>\n",
       "      <td>Whites City, New Mexico</td>\n",
       "      <td>North America</td>\n",
       "      <td>United States of America (the)</td>\n",
       "      <td>Texas</td>\n",
       "      <td>Van Horn</td>\n",
       "      <td>Van Horn</td>\n",
       "      <td>NaN</td>\n",
       "      <td>sailboats.sawn.speeding</td>\n",
       "      <td>-300</td>\n",
       "      <td>[{'id': '9', 'wikidataId': 'Q49', 'name': 'Nor...</td>\n",
       "    </tr>\n",
       "    <tr>\n",
       "      <th>us7000ndte</th>\n",
       "      <td>4.1</td>\n",
       "      <td>earthquake</td>\n",
       "      <td>M 4.1 - 60 km S of Whites City, New Mexico</td>\n",
       "      <td>2024-09-14 17:01:06</td>\n",
       "      <td>1726333266382</td>\n",
       "      <td>1726334616179</td>\n",
       "      <td>4</td>\n",
       "      <td>3</td>\n",
       "      <td>4</td>\n",
       "      <td>green</td>\n",
       "      <td>...</td>\n",
       "      <td>Whites City, New Mexico</td>\n",
       "      <td>North America</td>\n",
       "      <td>United States of America (the)</td>\n",
       "      <td>Texas</td>\n",
       "      <td>Van Horn</td>\n",
       "      <td>Van Horn</td>\n",
       "      <td>NaN</td>\n",
       "      <td>spinners.downtime.computes</td>\n",
       "      <td>-300</td>\n",
       "      <td>[{'id': '9', 'wikidataId': 'Q49', 'name': 'Nor...</td>\n",
       "    </tr>\n",
       "  </tbody>\n",
       "</table>\n",
       "<p>5 rows × 40 columns</p>\n",
       "</div>"
      ],
      "text/plain": [
       "            magnitude        type                                       title  \\\n",
       "id                                                                              \n",
       "us7000necw        4.8  earthquake         M 4.8 - 33 km WSW of Ackerly, Texas   \n",
       "tx2024shcj        5.1  earthquake         M 5.1 - 34 km WSW of Ackerly, Texas   \n",
       "ci40734823        3.7  earthquake                M 3.7 - 6 km N of Malibu, CA   \n",
       "tx2024scvz        3.9  earthquake  M 3.9 - 58 km S of Whites City, New Mexico   \n",
       "us7000ndte        4.1  earthquake  M 4.1 - 60 km S of Whites City, New Mexico   \n",
       "\n",
       "                          date           time        updated  felt  cdi  mmi  \\\n",
       "id                                                                             \n",
       "us7000necw 2024-09-17 00:49:42  1726534182289  1726583895255  1893    6    5   \n",
       "tx2024shcj 2024-09-17 00:49:42  1726534182183  1726672002991  2042    6    5   \n",
       "ci40734823 2024-09-16 11:22:08  1726485728190  1726637414586  1580    4    4   \n",
       "tx2024scvz 2024-09-14 17:01:06  1726333266539  1726584426218     5    3    4   \n",
       "us7000ndte 2024-09-14 17:01:06  1726333266382  1726334616179     4    3    4   \n",
       "\n",
       "            alert  ...                 location      continent  \\\n",
       "id                 ...                                           \n",
       "us7000necw  green  ...           Ackerly, Texas  North America   \n",
       "tx2024shcj  green  ...           Ackerly, Texas  North America   \n",
       "ci40734823    NaN  ...               Malibu, CA  North America   \n",
       "tx2024scvz  green  ...  Whites City, New Mexico  North America   \n",
       "us7000ndte  green  ...  Whites City, New Mexico  North America   \n",
       "\n",
       "                                   country subnational            city  \\\n",
       "id                                                                       \n",
       "us7000necw  United States of America (the)       Texas  Tarzan-Lenorah   \n",
       "tx2024shcj  United States of America (the)       Texas  Tarzan-Lenorah   \n",
       "ci40734823  United States of America (the)  California     Los Angeles   \n",
       "tx2024scvz  United States of America (the)       Texas        Van Horn   \n",
       "us7000ndte  United States of America (the)       Texas        Van Horn   \n",
       "\n",
       "                       locality postcode                  what3words  \\\n",
       "id                                                                     \n",
       "us7000necw       Tarzan-Lenorah  79783.0    landmass.perkily.affords   \n",
       "tx2024shcj       Tarzan-Lenorah  79331.0    escalator.grownups.dwell   \n",
       "ci40734823  Agoura Hills-Malibu  90265.0    clocking.uploaded.issuer   \n",
       "tx2024scvz             Van Horn      NaN     sailboats.sawn.speeding   \n",
       "us7000ndte             Van Horn      NaN  spinners.downtime.computes   \n",
       "\n",
       "            timezone                                    locationDetails  \n",
       "id                                                                       \n",
       "us7000necw      -300  [{'id': '80684', 'wikidataId': '', 'name': '79...  \n",
       "tx2024shcj      -300  [{'id': '89341', 'wikidataId': '', 'name': '48...  \n",
       "ci40734823      -420  [{'id': '93478', 'wikidataId': 'Q844837', 'nam...  \n",
       "tx2024scvz      -300  [{'id': '9', 'wikidataId': 'Q49', 'name': 'Nor...  \n",
       "us7000ndte      -300  [{'id': '9', 'wikidataId': 'Q49', 'name': 'Nor...  \n",
       "\n",
       "[5 rows x 40 columns]"
      ]
     },
     "execution_count": 1,
     "metadata": {},
     "output_type": "execute_result"
    }
   ],
   "source": [
    "import pandas as pd\n",
    "\n",
    "QUAKE = '/kaggle/input/recent-earthquakes/earthquakes.csv'\n",
    "\n",
    "df = pd.read_csv(filepath_or_buffer=QUAKE, index_col=['id'], parse_dates=['date']).drop(columns=['url', 'detailUrl'])\n",
    "df.head()"
   ]
  },
  {
   "cell_type": "markdown",
   "id": "bf95ff61",
   "metadata": {
    "papermill": {
     "duration": 0.002937,
     "end_time": "2024-09-28T13:50:23.430837",
     "exception": false,
     "start_time": "2024-09-28T13:50:23.427900",
     "status": "completed"
    },
    "tags": []
   },
   "source": [
    "It's kind of neat to see a dataset with what3words data, but unfortunately we don't have a way to use that data natively. We'll have to get by with good old fashioned latitude and longitude data. Let's make a map."
   ]
  },
  {
   "cell_type": "markdown",
   "id": "92ffd22a",
   "metadata": {
    "papermill": {
     "duration": 0.002801,
     "end_time": "2024-09-28T13:50:23.436742",
     "exception": false,
     "start_time": "2024-09-28T13:50:23.433941",
     "status": "completed"
    },
    "tags": []
   },
   "source": [
    "Let's use a dark on dark map to make our datapoints really pop, especially since earthquakes tend to follow features in tectonic plates more than they do say population centers."
   ]
  },
  {
   "cell_type": "code",
   "execution_count": 2,
   "id": "d448d9bb",
   "metadata": {
    "execution": {
     "iopub.execute_input": "2024-09-28T13:50:23.447430Z",
     "iopub.status.busy": "2024-09-28T13:50:23.444565Z",
     "iopub.status.idle": "2024-09-28T13:50:26.310182Z",
     "shell.execute_reply": "2024-09-28T13:50:26.309057Z"
    },
    "papermill": {
     "duration": 2.872947,
     "end_time": "2024-09-28T13:50:26.312847",
     "exception": false,
     "start_time": "2024-09-28T13:50:23.439900",
     "status": "completed"
    },
    "tags": []
   },
   "outputs": [
    {
     "data": {
      "text/html": [
       "        <script type=\"text/javascript\">\n",
       "        window.PlotlyConfig = {MathJaxConfig: 'local'};\n",
       "        if (window.MathJax && window.MathJax.Hub && window.MathJax.Hub.Config) {window.MathJax.Hub.Config({SVG: {font: \"STIX-Web\"}});}\n",
       "        if (typeof require !== 'undefined') {\n",
       "        require.undef(\"plotly\");\n",
       "        requirejs.config({\n",
       "            paths: {\n",
       "                'plotly': ['https://cdn.plot.ly/plotly-2.32.0.min']\n",
       "            }\n",
       "        });\n",
       "        require(['plotly'], function(Plotly) {\n",
       "            window._Plotly = Plotly;\n",
       "        });\n",
       "        }\n",
       "        </script>\n",
       "        "
      ]
     },
     "metadata": {},
     "output_type": "display_data"
    },
    {
     "data": {
      "text/html": [
       "<div>                            <div id=\"c5b3934e-c9e0-41ca-a89b-63760a6d2058\" class=\"plotly-graph-div\" style=\"height:800px; width:100%;\"></div>            <script type=\"text/javascript\">                require([\"plotly\"], function(Plotly) {                    window.PLOTLYENV=window.PLOTLYENV || {};                                    if (document.getElementById(\"c5b3934e-c9e0-41ca-a89b-63760a6d2058\")) {                    Plotly.newPlot(                        \"c5b3934e-c9e0-41ca-a89b-63760a6d2058\",                        [{\"hovertemplate\":\"\\u003cb\\u003e%{hovertext}\\u003c\\u002fb\\u003e\\u003cbr\\u003e\\u003cbr\\u003elatitude=%{lat}\\u003cbr\\u003elongitude=%{lon}\\u003cbr\\u003emagnitude=%{marker.color}\\u003cextra\\u003e\\u003c\\u002fextra\\u003e\",\"hovertext\":[\"Ackerly, Texas\",\"Ackerly, Texas\",\"Malibu, CA\",\"Whites City, New Mexico\",\"Whites City, New Mexico\",\"Malibu, CA\",\"Malibu, CA\",\"Malibu, CA\",\"Malibu, CA\",\"Hiko, Nevada\",\"Whites City, New Mexico\",\"Whites City, New Mexico\",\"Whites City, New Mexico\",\"Whites City, New Mexico\",\"Thatcher, Utah\",\"Ontario, CA\",\"Ontario, CA\",\"The Geysers, CA\",\"The Geysers, CA\",\"Rancho Palos Verdes, CA\",\"Markleeville, CA\",\"Avenal, CA\",\"Goldfield, Nevada\",\"Goldfield, Nevada\",\"Goldfield, Nevada\",\"Round Valley, CA\",\"Rancho Palos Verdes, CA\",\"Dixon Lane-Meadow Creek, CA\",\"Seeley Lake, Montana\",\"Mentone, Texas\",\"Toyah, Texas\",\"Whites City, New Mexico\",\"Whites City, New Mexico\",\"Whites City, New Mexico\",\"Idyllwild, CA\",\"Walker Lake, Nevada\",\"Walker Lake, Nevada\",\"Walker Lake, Nevada\",\"Walker Lake, Nevada\",\"Walker Lake, Nevada\",\"Walker Lake, Nevada\",\"Walker Lake, Nevada\",\"Walker Lake, Nevada\",\"Walker Lake, Nevada\",\"Whites City, New Mexico\",\"Whites City, New Mexico\",\"Garden City, Texas\",\"Hildale, Utah\",\"Lakeland Village, CA\",\"Indian Springs, Nevada\",\"Indian Springs, Nevada\",\"Highland Park, CA\",\"Little Lake, CA\",\"Garden City, Texas\",\"Garden City, Texas\",\"Grapevine, CA\",\"Grapevine, CA\",\"Lamont, CA\",\"Grapevine, CA\",\"Grapevine, CA\",\"Grapevine, CA\",\"Lamont, CA\",\"Grapevine, CA\",\"Mettler, California\",\"Lamont, CA\",\"Lamont, CA\",\"Malibu, CA\",\"Whites City, New Mexico\",\"Whites City, New Mexico\",\"Whites City, New Mexico\",\"Barstow, CA\",\"Barstow, CA\",\"Brian Head, Utah\",\"Hermleigh, Texas\",\"Ocotillo Wells, CA\",\"Whites City, New Mexico\",\"Port McNeill, Canada\",\"Whites City, New Mexico\",\"Whites City, New Mexico\",\"Palos Verdes Estates, CA\",\"Maneadero, B.C., MX\",\"Borrego Springs, CA\",\"Yucaipa, CA\",\"Morton, Washington\",\"T\",\"T\",\"Hawthorne, Nevada\",\"Hawthorne, Nevada\",\"Mayfield, Utah\",\"San Vicente, Mexico\",\"Hawthorne, Nevada\",\"Seeley Lake, Montana\",\"T\",\"Toyah, Texas\",\"Toyah, Texas\",\"Toyah, Texas\",\"Toyah, Texas\",\"Camarillo, CA\",\"Austin, Nevada\",\"Austin, Nevada\",\"Karor, Pakistan\",\"Ashkāsham, Afghanistan\",\"western Xizang\",\"Mawlaik, Myanmar\",\"Kashgar, China\",\"western Xizang\",\"Kuqa, China\",\"Sarupathar, India\",\"Nagqu, China\",\"Nagqu, China\",\"Kyzyl-Suu, Kyrgyzstan\",\"Aykol, China\",\"Aykol, China\",\"Aykol, China\",\"Aykol, China\",\"Aykol, China\",\"Kyzyl-Suu, Kyrgyzstan\",\"Aykol, China\",\"Jurm, Afghanistan\",\"Padam, India\",\"Rāmganj, Bangladesh\",\"Laojunmiao, China\",\"Kēng Tung, Myanmar\",\"Xinjiang Uygur, China\",\"Dailekh, Nepal\",\"Laojunmiao, China\",\"Bharatpur, Nepal\",\"Dipayal, Nepal\",\"Goālpāra, India\",\"Karīmganj, India\",\"Jurm, Afghanistan\",\"Nichinan, Japan\",\"Koshima, Japan\",\"Hualien City, Taiwan\",\"Yilan, Taiwan\",\"Dolinsk, Russia\",\"Miyazaki, Japan\",\"2024 Hyuganada Sea, Japan Earthquake\",\"Tateyama, Japan\",\"Katsuura, Japan\",\"Anamizu, Japan\",\"Kushimoto, Japan\",\"Bonin Islands, Japan region\",\"Hualien City, Taiwan\",\"Hualien City, Taiwan\",\"Hualien City, Taiwan\",\"Hualien City, Taiwan\",\"Hualien City, Taiwan\",\"Bonin Islands, Japan region\",\"Hualien City, Taiwan\",\"Hualien City, Taiwan\",\"Hualien City, Taiwan\",\"Hualien City, Taiwan\",\"Hualien City, Taiwan\",\"Hualien City, Taiwan\",\"Hualien City, Taiwan\",\"Hualien City, Taiwan\",\"Hualien City, Taiwan\",\"Uwajima, Japan\",\"Koshima, Japan\",\"Honchō, Japan\",\"Minami-Sōma, Japan\",\"Hualien City, Taiwan\",\"Hualien City, Taiwan\",\"Hualien City, Taiwan\",\"Hualien City, Taiwan\",\"Hualien City, Taiwan\",\"Hualien City, Taiwan\",\"Hualien City, Taiwan\",\"Hualien City, Taiwan\",\"Kuji, Japan\",\"Volcano Islands, Japan region\",\"Tatsugō, Japan\",\"Iwaki, Japan\",\"Izu Islands, Japan region\",\"Sado, Japan\",\"Anamizu, Japan\",\"Anamizu, Japan\",\"Anamizu, Japan\",\"Anamizu, Japan\",\"Anamizu, Japan\",\"2024 Noto Peninsula, Japan Earthquake\",\"Anamizu, Japan\",\"Kuril’sk, Russia\",\"Yokohama, Japan\",\"Kuril’sk, Russia\",\"Kuril’sk, Russia\",\"Yonakuni, Japan\",\"Hirara, Japan\",\"Izu Islands, Japan region\",\"Izu Islands, Japan region\",\"Izu Islands, Japan region\",\"Izu Islands, Japan region\",\"Izu Islands, Japan region\",\"Izu Islands, Japan region\",\"Izu Islands, Japan region\",\"Izu Islands, Japan region\",\"Izu Islands, Japan region\",\"Izu Islands, Japan region\",\"Izu Islands, Japan region\",\"Izu Islands, Japan region\",\"Izu Islands, Japan region\",\"Izu Islands, Japan region\",\"Izu Islands, Japan region\",\"Izu Islands, Japan region\",\"Kuril’sk, Russia\",\"Izu Islands, Japan region\",\"Izu Islands, Japan region\",\"Onagawa Chō, Japan\",\"Hirara, Japan\",\"Ōfunato, Japan\",\"Mariana Islands region\",\"Hokkaido, Japan region\",\"Nishinoomote, Japan\",\"Volcano Islands, Japan region\",\"Hengchun, Taiwan\",\"Primor'ye, Russia\",\"Hamatonbetsu, Japan\",\"Vallenar, Chile\",\"Challapata, Bolivia\",\"La Quiaca, Argentina\",\"San Pedro de Atacama, Chile\",\"Vallenar, Chile\",\"Vallenar, Chile\",\"Calama, Chile\",\"Coquimbo, Chile\",\"El Aguilar, Argentina\",\"Ollagüe, Chile\",\"Vinchina, Argentina\",\"Cañete, Chile\",\"Tocopilla, Chile\",\"San Antonio de los Cobres, Argentina\",\"Camiña, Chile\",\"Vallenar, Chile\",\"Vallenar, Chile\",\"Abra Pampa, Argentina\",\"Embarcación, Argentina\",\"Copiapó, Chile\",\"Tarapaca, Chile\",\"Copiapó, Chile\",\"Coquimbo, Chile\",\"El Hoyo, Argentina\",\"Santiago del Estero, Argentina\",\"Loncopué, Argentina\",\"Chicureo Abajo, Chile\",\"San Pedro de Atacama, Chile\",\"Bambanglipuro, Indonesia\",\"Kon Tum, Vietnam\",\"Teluk Dalam, Indonesia\",\"Bengkulu, Indonesia\",\"Teluk Dalam, Indonesia\",\"Bengkulu, Indonesia\",\"Sinabang, Indonesia\",\"Banjar, Indonesia\",\"Paciran, Indonesia\",\"Paciran, Indonesia\",\"Bengkulu, Indonesia\",\"Pelabuhanratu, Indonesia\",\"Pelabuhanratu, Indonesia\",\"Bangkalan, Indonesia\",\"Port Blair, India\",\"Banda Aceh, Indonesia\",\"Bambanglipuro, Indonesia\",\"Port McNeill, Canada\",\"Atka, Alaska\",\"Atka, Alaska\",\"Adak, Alaska\",\"Atka, Alaska\",\"Port McNeill, Canada\",\"Port McNeill, Canada\",\"Tatitlek, Alaska\",\"Adak, Alaska\",\"Perryville, Alaska\",\"Sand Point, Alaska\",\"Adak, Alaska\",\"Adak, Alaska\",\"Pedro Bay, Alaska\",\"Covenant Life, Alaska\",\"Akutan, Alaska\",\"Atka, Alaska\",\"Cordova, Alaska\",\"Perryville, Alaska\",\"Akhiok, Alaska\",\"Atka, Alaska\",\"Cantwell, Alaska\",\"Big Lake, Alaska\",\"Adak, Alaska\",\"Hydaburg, Alaska\",\"Inuvik, Canada\",\"Homer, Alaska\",\"Fritz Creek, Alaska\",\"Unalaska, Alaska\",\"Unalaska, Alaska\",\"Nikolski, Alaska\",\"Nikolski, Alaska\",\"False Pass, Alaska\",\"Sand Point, Alaska\",\"Sand Point, Alaska\",\"Sand Point, Alaska\",\"Sand Point, Alaska\",\"Sand Point, Alaska\",\"Sand Point, Alaska\",\"Sand Point, Alaska\",\"Atka, Alaska\",\"Beluga, Alaska\",\"Atka, Alaska\",\"Valdez, Alaska\",\"Mud Bay, Alaska\",\"Adak, Alaska\",\"Adak, Alaska\",\"Cordova, Alaska\",\"Elmendorf Air Force Base, Alaska\",\"Unalaska, Alaska\",\"Unalaska, Alaska\",\"Valdez, Alaska\",\"Inuvik, Canada\",\"Inuvik, Canada\",\"Atka, Alaska\",\"Atka, Alaska\",\"Chiniak, Alaska\",\"Chignik, Alaska\",\"Akhiok, Alaska\",\"Ouzinkie, Alaska\",\"Susitna, Alaska\",\"Atka, Alaska\",\"Atka, Alaska\",\"Nikolski, Alaska\",\"Nikolski, Alaska\",\"Nikolski, Alaska\",\"Nikolski, Alaska\",\"Unalaska, Alaska\",\"Sand Point, Alaska\",\"Sand Point, Alaska\",\"Sand Point, Alaska\",\"Whittier, Alaska\",\"Yakutat, Alaska\",\"False Pass, Alaska\",\"Atka, Alaska\",\"Atka, Alaska\",\"Atka, Alaska\",\"Atka, Alaska\",\"Akutan, Alaska\",\"Ninilchik, Alaska\",\"Red Dog Mine, Alaska\",\"Nikolski, Alaska\",\"Petersville, Alaska\",\"King Cove, Alaska\",\"Adak, Alaska\",\"Adak, Alaska\",\"Red Dog Mine, Alaska\",\"Port McNeill, Canada\",\"Perryville, Alaska\",\"Perryville, Alaska\",\"Atka, Alaska\",\"Nikolski, Alaska\",\"Nikolski, Alaska\",\"Nikolski, Alaska\",\"Nikolski, Alaska\",\"Adak, Alaska\",\"Sand Point, Alaska\",\"Alaska\",\"Yakutat, Alaska\",\"Nikolski, Alaska\",\"Sulusaray, Turkey\",\"Filiatrá, Greece\",\"Bileća, Bosnia and Herzegovina\",\"Şuraabad, Azerbaijan\",\"?bd?n?n, Iran\",\"Yeşilyurt, Turkey\",\"Kozan, Turkey\",\"Xaçmaz, Azerbaijan\",\"Ackerly, Texas\",\"Ackerly, Texas\",\"Whites City, New Mexico\",\"Whites City, New Mexico\",\"Whites City, New Mexico\",\"Whites City, New Mexico\",\"Whites City, New Mexico\",\"Whites City, New Mexico\",\"Mentone, Texas\",\"Toyah, Texas\",\"Whites City, New Mexico\",\"Whites City, New Mexico\",\"La Libertad, El Salvador\",\"Whites City, New Mexico\",\"Whites City, New Mexico\",\"Whites City, New Mexico\",\"Garden City, Texas\",\"Hermleigh, Texas\",\"Hermleigh, Texas\",\"Garden City, Texas\",\"Garden City, Texas\",\"Emiliano Zapata, Mexico\",\"Whites City, New Mexico\",\"Whites City, New Mexico\",\"Whites City, New Mexico\",\"Hermleigh, Texas\",\"Hermleigh, Texas\",\"Hermleigh, Texas\",\"Hermleigh, Texas\",\"Hermleigh, Texas\",\"Hermleigh, Texas\",\"Hermleigh, Texas\",\"Hermleigh, Texas\",\"Whites City, New Mexico\",\"Hermleigh, Texas\",\"Hermleigh, Texas\",\"Whites City, New Mexico\",\"Whites City, New Mexico\",\"Jalapa, Guatemala\",\"Westbrook, Texas\",\"Westbrook, Texas\",\"Toyah, Texas\",\"Toyah, Texas\",\"Toyah, Texas\",\"Toyah, Texas\",\"Westbrook, Texas\",\"Toyah, Texas\",\"Whites City, New Mexico\",\"Whites City, New Mexico\",\"Toyah, Texas\",\"Whites City, New Mexico\",\"Toyah, Texas\",\"Toyah, Texas\",\"Toyah, Texas\",\"Whites City, New Mexico\",\"Brisas Barra de Suchiate, Mexico\",\"Toyah, Texas\",\"Toyah, Texas\",\"Whites City, New Mexico\",\"Whites City, New Mexico\",\"Whites City, New Mexico\",\"Whites City, New Mexico\",\"Whites City, New Mexico\",\"Jal, New Mexico\",\"Jal, New Mexico\",\"Jal, New Mexico\",\"Emiliano Zapata, Mexico\",\"Loreto, Mexico\",\"Cárdenas, Nicaragua\",\"Whites City, New Mexico\",\"Stanton, Texas\",\"Tenancingo, El Salvador\",\"Whites City, New Mexico\",\"Ascención, Mexico\",\"Jiquilillo, Nicaragua\",\"Tamarindo, Costa Rica\",\"Los Ybanez, Texas\",\"Los Ybanez, Texas\",\"Whites City, New Mexico\",\"Mentone, Texas\",\"Toyah, Texas\",\"Toyah, Texas\",\"Golfo de Santa Clara, Mexico\",\"Atoka, New Mexico\",\"Falls City, Texas\",\"Atoka, New Mexico\",\"Whites City, New Mexico\",\"Toyah, Texas\",\"Falls City, Texas\",\"Mentone, Texas\",\"Falls City, Texas\",\"Falls City, Texas\",\"Falls City, Texas\",\"Falls City, Texas\",\"Falls City, Texas\",\"Falls City, Texas\",\"Falls City, Texas\",\"Golfo de Santa Clara, Mexico\",\"Whites City, New Mexico\",\"Whites City, New Mexico\",\"the Kermadec Islands\",\"Tokoroa, New Zealand\",\"Dannevirke, New Zealand\",\"Kermadec Islands region\",\"Canterbury, New Zealand\",\"Opunake, New Zealand\",\"Karor, Pakistan\",\"Nushki, Pakistan\",\"Nushki, Pakistan\",\"Fannūj, Iran\",\"Jurm, Afghanistan\",\"Şuraabad, Azerbaijan\",\"?bd?n?n, Iran\",\"Bandar Abbas, Iran\",\"Bandar Abbas, Iran\",\"Bandar Abbas, Iran\",\"Herāt, Afghanistan\",\"Herāt, Afghanistan\",\"Herāt, Afghanistan\",\"Herāt, Afghanistan\",\"Zindah Jān, Afghanistan\",\"Zindah Jān, Afghanistan\",\"Zindah Jān, Afghanistan\",\"Yeşilyurt, Turkey\",\"Jurm, Afghanistan\",\"Xaçmaz, Azerbaijan\",\"Nichinan, Japan\",\"Koshima, Japan\",\"Yilan, Taiwan\",\"Dolinsk, Russia\",\"Miyazaki, Japan\",\"2024 Hyuganada Sea, Japan Earthquake\",\"Tateyama, Japan\",\"Katsuura, Japan\",\"Anamizu, Japan\",\"Kushimoto, Japan\",\"Bonin Islands, Japan region\",\"Hualien City, Taiwan\",\"Bonin Islands, Japan region\",\"Uwajima, Japan\",\"Koshima, Japan\",\"Honchō, Japan\",\"Minami-Sōma, Japan\",\"Hualien City, Taiwan\",\"Kuji, Japan\",\"Volcano Islands, Japan region\",\"Tatsugō, Japan\",\"Iwaki, Japan\",\"Izu Islands, Japan region\",\"Sado, Japan\",\"Anamizu, Japan\",\"Anamizu, Japan\",\"Anamizu, Japan\",\"Anamizu, Japan\",\"Anamizu, Japan\",\"2024 Noto Peninsula, Japan Earthquake\",\"Anamizu, Japan\",\"Kuril’sk, Russia\",\"Yokohama, Japan\",\"Kuril’sk, Russia\",\"Kuril’sk, Russia\",\"Yonakuni, Japan\",\"Hirara, Japan\",\"Izu Islands, Japan region\",\"Izu Islands, Japan region\",\"Izu Islands, Japan region\",\"Izu Islands, Japan region\",\"Izu Islands, Japan region\",\"Izu Islands, Japan region\",\"Izu Islands, Japan region\",\"Izu Islands, Japan region\",\"Izu Islands, Japan region\",\"Izu Islands, Japan region\",\"Izu Islands, Japan region\",\"Izu Islands, Japan region\",\"Izu Islands, Japan region\",\"Izu Islands, Japan region\",\"Izu Islands, Japan region\",\"Izu Islands, Japan region\",\"Kuril’sk, Russia\",\"Izu Islands, Japan region\",\"Izu Islands, Japan region\",\"Onagawa Chō, Japan\",\"Hirara, Japan\",\"Ōfunato, Japan\",\"Mariana Islands region\",\"Hokkaido, Japan region\",\"Nishinoomote, Japan\",\"Volcano Islands, Japan region\",\"Primor'ye, Russia\",\"Hamatonbetsu, Japan\",\"Port McNeill, Canada\",\"Malibu, CA\",\"Port McNeill, Canada\",\"Port McNeill, Canada\",\"Whites City, New Mexico\",\"Whites City, New Mexico\",\"Malibu, CA\",\"Malibu, CA\",\"Malibu, CA\",\"Malibu, CA\",\"Hiko, Nevada\",\"Whites City, New Mexico\",\"Whites City, New Mexico\",\"Whites City, New Mexico\",\"Whites City, New Mexico\",\"Thatcher, Utah\",\"Ontario, CA\",\"Ontario, CA\",\"The Geysers, CA\",\"The Geysers, CA\",\"Rancho Palos Verdes, CA\",\"Markleeville, CA\",\"Avenal, CA\",\"Goldfield, Nevada\",\"Goldfield, Nevada\",\"Goldfield, Nevada\",\"Round Valley, CA\",\"Rancho Palos Verdes, CA\",\"Dixon Lane-Meadow Creek, CA\",\"Seeley Lake, Montana\",\"Whites City, New Mexico\",\"Whites City, New Mexico\",\"Whites City, New Mexico\",\"Idyllwild, CA\",\"Walker Lake, Nevada\",\"Walker Lake, Nevada\",\"Walker Lake, Nevada\",\"Walker Lake, Nevada\",\"Walker Lake, Nevada\",\"Walker Lake, Nevada\",\"Walker Lake, Nevada\",\"Walker Lake, Nevada\",\"Walker Lake, Nevada\",\"Whites City, New Mexico\",\"Whites City, New Mexico\",\"Hildale, Utah\",\"Lakeland Village, CA\",\"Indian Springs, Nevada\",\"Indian Springs, Nevada\",\"Highland Park, CA\",\"Little Lake, CA\",\"Grapevine, CA\",\"Grapevine, CA\",\"Lamont, CA\",\"Grapevine, CA\",\"Grapevine, CA\",\"Grapevine, CA\",\"Lamont, CA\",\"Grapevine, CA\",\"Mettler, California\",\"Lamont, CA\",\"Lamont, CA\",\"Malibu, CA\",\"Whites City, New Mexico\",\"Whites City, New Mexico\",\"Whites City, New Mexico\",\"Barstow, CA\",\"Barstow, CA\",\"Brian Head, Utah\",\"Ocotillo Wells, CA\",\"Whites City, New Mexico\",\"Port McNeill, Canada\",\"Whites City, New Mexico\",\"Whites City, New Mexico\",\"Palos Verdes Estates, CA\",\"Maneadero, B.C., MX\",\"Borrego Springs, CA\",\"Yucaipa, CA\",\"Morton, Washington\",\"T\",\"T\",\"Hawthorne, Nevada\",\"Hawthorne, Nevada\",\"Mayfield, Utah\",\"San Vicente, Mexico\",\"Hawthorne, Nevada\",\"Seeley Lake, Montana\",\"T\",\"Toyah, Texas\",\"Toyah, Texas\",\"Toyah, Texas\",\"Toyah, Texas\",\"Camarillo, CA\",\"Austin, Nevada\",\"Austin, Nevada\",\"Barstow, CA\",\"San Ardo, CA\",\"Lamont, CA\",\"Lamont, CA\",\"Salton City, CA\",\"Bontang, Indonesia\",\"Sarangani, Philippines\",\"Bambanglipuro, Indonesia\",\"Bugko, Philippines\",\"Tobelo, Indonesia\",\"Barcelona, Philippines\",\"Barcelona, Philippines\",\"Bitung, Indonesia\",\"Sangay, Philippines\",\"Bengkulu, Indonesia\",\"Tobelo, Indonesia\",\"Sarangani, Philippines\",\"Caramay, Philippines\",\"Bengkulu, Indonesia\",\"Gorontalo, Indonesia\",\"Balangiga, Philippines\",\"Banjar, Indonesia\",\"Tobelo, Indonesia\",\"Ende, Indonesia\",\"Paciran, Indonesia\",\"Paciran, Indonesia\",\"Modisi, Indonesia\",\"Pondaguitan, Philippines\",\"Bengkulu, Indonesia\",\"Aras-asan, Philippines\",\"Aras-asan, Philippines\",\"Aras-asan, Philippines\",\"Suai, Timor Leste\",\"Pelabuhanratu, Indonesia\",\"Union, Philippines\",\"Salvacion, Philippines\",\"Esperanza, Philippines\",\"Ende, Indonesia\",\"Hinatuan, Philippines\",\"Sarangani, Philippines\",\"Gorontalo, Indonesia\",\"Aras-asan, Philippines\",\"Hinatuan, Philippines\",\"Bacolod, Philippines\",\"Bacolod, Philippines\",\"Aras-asan, Philippines\",\"Aras-asan, Philippines\",\"Barcelona, Philippines\",\"Aras-asan, Philippines\",\"Aras-asan, Philippines\",\"Aras-asan, Philippines\",\"Barcelona, Philippines\",\"Marihatag, Philippines\",\"Aras-asan, Philippines\",\"Aras-asan, Philippines\",\"Marihatag, Philippines\",\"Marihatag, Philippines\",\"Aras-asan, Philippines\",\"Hinatuan, Philippines\",\"Barcelona, Philippines\",\"Hinatuan, Philippines\",\"Hinatuan, Philippines\",\"Marihatag, Philippines\",\"Barcelona, Philippines\",\"Barcelona, Philippines\",\"Barcelona, Philippines\",\"Barcelona, Philippines\",\"Hinatuan, Philippines\",\"Barcelona, Philippines\",\"Marihatag, Philippines\",\"Barcelona, Philippines\",\"Barcelona, Philippines\",\"Hinatuan, Philippines\",\"Barcelona, Philippines\",\"Barcelona, Philippines\",\"Hinatuan, Philippines\",\"Barcelona, Philippines\",\"Hinatuan, Philippines\",\"Barcelona, Philippines\",\"Hinatuan, Philippines\",\"Barcelona, Philippines\",\"Barcelona, Philippines\",\"Barcelona, Philippines\",\"Santa Maria, Philippines\",\"Hinatuan, Philippines\",\"Gamut, Philippines\",\"Tobelo, Indonesia\",\"Kablalan, Philippines\",\"Manado, Indonesia\",\"Kupang, Indonesia\",\"Hernani, Philippines\",\"Kupang, Indonesia\",\"Palu, Indonesia\",\"Manatutu, Timor Leste\",\"Batiano, Philippines\",\"Sarangani, Philippines\",\"Pondaguitan, Philippines\",\"Ternate, Indonesia\",\"Palu, Indonesia\",\"Gili Air, Indonesia\",\"Naisano Dua, Indonesia\",\"Pototano, Indonesia\",\"Gili Air, Indonesia\",\"Gili Air, Indonesia\",\"Pulau-Pulau Talaud, Indonesia\",\"Nichinan, Japan\",\"Koshima, Japan\",\"Yilan, Taiwan\",\"Dolinsk, Russia\",\"Miyazaki, Japan\",\"2024 Hyuganada Sea, Japan Earthquake\",\"Tateyama, Japan\",\"Katsuura, Japan\",\"Anamizu, Japan\",\"Kushimoto, Japan\",\"Bonin Islands, Japan region\",\"Hualien City, Taiwan\",\"Bonin Islands, Japan region\",\"Uwajima, Japan\",\"Koshima, Japan\",\"Honchō, Japan\",\"Minami-Sōma, Japan\",\"Hualien City, Taiwan\",\"Kuji, Japan\",\"Volcano Islands, Japan region\",\"Tatsugō, Japan\",\"Iwaki, Japan\",\"Izu Islands, Japan region\",\"Sado, Japan\",\"Anamizu, Japan\",\"Anamizu, Japan\",\"Anamizu, Japan\",\"Anamizu, Japan\",\"Anamizu, Japan\",\"2024 Noto Peninsula, Japan Earthquake\",\"Anamizu, Japan\",\"Kuril’sk, Russia\",\"Yokohama, Japan\",\"Kuril’sk, Russia\",\"Kuril’sk, Russia\",\"Yonakuni, Japan\",\"Hirara, Japan\",\"Izu Islands, Japan region\",\"Izu Islands, Japan region\",\"Izu Islands, Japan region\",\"Izu Islands, Japan region\",\"Izu Islands, Japan region\",\"Izu Islands, Japan region\",\"Izu Islands, Japan region\",\"Izu Islands, Japan region\",\"Izu Islands, Japan region\",\"Izu Islands, Japan region\",\"Izu Islands, Japan region\",\"Izu Islands, Japan region\",\"Izu Islands, Japan region\",\"Izu Islands, Japan region\",\"Izu Islands, Japan region\",\"Izu Islands, Japan region\",\"Kuril’sk, Russia\",\"Izu Islands, Japan region\",\"Izu Islands, Japan region\",\"Onagawa Chō, Japan\",\"Hirara, Japan\",\"Ōfunato, Japan\",\"Mariana Islands region\",\"Hokkaido, Japan region\",\"Nishinoomote, Japan\",\"Volcano Islands, Japan region\",\"Primor'ye, Russia\",\"Hamatonbetsu, Japan\",\"Ackerly, Texas\",\"Ackerly, Texas\",\"Whites City, New Mexico\",\"Whites City, New Mexico\",\"Whites City, New Mexico\",\"Whites City, New Mexico\",\"Whites City, New Mexico\",\"Whites City, New Mexico\",\"Mentone, Texas\",\"Toyah, Texas\",\"Whites City, New Mexico\",\"Whites City, New Mexico\",\"Whites City, New Mexico\",\"Whites City, New Mexico\",\"Whites City, New Mexico\",\"Garden City, Texas\",\"Hermleigh, Texas\",\"Hermleigh, Texas\",\"Garden City, Texas\",\"Garden City, Texas\",\"Dibble, Oklahoma\",\"Emiliano Zapata, Mexico\",\"Whites City, New Mexico\",\"Whites City, New Mexico\",\"Whites City, New Mexico\",\"Hermleigh, Texas\",\"Hermleigh, Texas\",\"Hermleigh, Texas\",\"Hermleigh, Texas\",\"Hermleigh, Texas\",\"Hermleigh, Texas\",\"Hermleigh, Texas\",\"Hermleigh, Texas\",\"Whites City, New Mexico\",\"Hermleigh, Texas\",\"Hermleigh, Texas\",\"Whites City, New Mexico\",\"Whites City, New Mexico\",\"Westbrook, Texas\",\"Westbrook, Texas\",\"Waynoka, Oklahoma\",\"Waynoka, Oklahoma\",\"Mayfield, Utah\",\"Toyah, Texas\",\"Toyah, Texas\",\"Toyah, Texas\",\"Toyah, Texas\",\"Westbrook, Texas\",\"Toyah, Texas\",\"Whites City, New Mexico\",\"Whites City, New Mexico\",\"Toyah, Texas\",\"Whites City, New Mexico\",\"Toyah, Texas\",\"Toyah, Texas\",\"Toyah, Texas\",\"Whites City, New Mexico\",\"Ridgely, Tennessee\",\"Toyah, Texas\",\"Toyah, Texas\",\"Whites City, New Mexico\",\"Whites City, New Mexico\",\"Whites City, New Mexico\",\"Whites City, New Mexico\",\"Whites City, New Mexico\",\"Jal, New Mexico\",\"Jal, New Mexico\",\"Jal, New Mexico\",\"Emiliano Zapata, Mexico\",\"Loreto, Mexico\",\"Whites City, New Mexico\",\"Stanton, Texas\",\"Whites City, New Mexico\",\"Ascención, Mexico\",\"Los Ybanez, Texas\",\"Los Ybanez, Texas\",\"Whites City, New Mexico\",\"Mentone, Texas\",\"Toyah, Texas\",\"Toyah, Texas\",\"Atoka, New Mexico\",\"Falls City, Texas\",\"Atoka, New Mexico\",\"Whites City, New Mexico\",\"Toyah, Texas\",\"Falls City, Texas\",\"Mentone, Texas\",\"Falls City, Texas\",\"Falls City, Texas\",\"Falls City, Texas\",\"Falls City, Texas\",\"Falls City, Texas\",\"Falls City, Texas\",\"Falls City, Texas\",\"Whites City, New Mexico\",\"Whites City, New Mexico\",\"Falls City, Texas\",\"Falls City, Texas\",\"Cape Canaveral, Florida\",\"Prague, Oklahoma\",\"Sines, Portugal\",\"Bileća, Bosnia and Herzegovina\",\"Challapata, Bolivia\",\"La Quiaca, Argentina\",\"San Pedro de Atacama, Chile\",\"Tarata, Peru\",\"Acarí, Peru\",\"Atiquipa, Peru\",\"Atiquipa, Peru\",\"Atiquipa, Peru\",\"Atiquipa, Peru\",\"Alianza Cristiana, Peru\",\"Atiquipa, Peru\",\"Tarauacá, Brazil\",\"Calama, Chile\",\"El Aguilar, Argentina\",\"Tarauacá, Brazil\",\"Ollagüe, Chile\",\"Tocopilla, Chile\",\"Iray, Peru\",\"San Antonio de los Cobres, Argentina\",\"Paracas, Peru\",\"Camiña, Chile\",\"Abra Pampa, Argentina\",\"Embarcación, Argentina\",\"Copiapó, Chile\",\"Tarapaca, Chile\",\"Copiapó, Chile\",\"El Hoyo, Argentina\",\"Machala, Ecuador\",\"San Juan, Peru\",\"San Pedro de Atacama, Chile\",\"Nichinan, Japan\",\"Koshima, Japan\",\"Hualien City, Taiwan\",\"Yilan, Taiwan\",\"Dolinsk, Russia\",\"Miyazaki, Japan\",\"2024 Hyuganada Sea, Japan Earthquake\",\"Tateyama, Japan\",\"Katsuura, Japan\",\"Anamizu, Japan\",\"Kushimoto, Japan\",\"Bonin Islands, Japan region\",\"Hualien City, Taiwan\",\"Hualien City, Taiwan\",\"Hualien City, Taiwan\",\"Hualien City, Taiwan\",\"Hualien City, Taiwan\",\"Bonin Islands, Japan region\",\"Hualien City, Taiwan\",\"Hualien City, Taiwan\",\"Hualien City, Taiwan\",\"Hualien City, Taiwan\",\"Hualien City, Taiwan\",\"Hualien City, Taiwan\",\"Hualien City, Taiwan\",\"Hualien City, Taiwan\",\"Hualien City, Taiwan\",\"Uwajima, Japan\",\"Koshima, Japan\",\"Honchō, Japan\",\"Minami-Sōma, Japan\",\"Hualien City, Taiwan\",\"Hualien City, Taiwan\",\"Hualien City, Taiwan\",\"Hualien City, Taiwan\",\"Hualien City, Taiwan\",\"Hualien City, Taiwan\",\"Hualien City, Taiwan\",\"Hualien City, Taiwan\",\"Kuji, Japan\",\"Volcano Islands, Japan region\",\"Tatsugō, Japan\",\"Iwaki, Japan\",\"Izu Islands, Japan region\",\"Sado, Japan\",\"Anamizu, Japan\",\"Anamizu, Japan\",\"Anamizu, Japan\",\"Anamizu, Japan\",\"Anamizu, Japan\",\"2024 Noto Peninsula, Japan Earthquake\",\"Anamizu, Japan\",\"Yokohama, Japan\",\"Yonakuni, Japan\",\"Hirara, Japan\",\"Izu Islands, Japan region\",\"Izu Islands, Japan region\",\"Izu Islands, Japan region\",\"Izu Islands, Japan region\",\"Izu Islands, Japan region\",\"Izu Islands, Japan region\",\"Izu Islands, Japan region\",\"Izu Islands, Japan region\",\"Izu Islands, Japan region\",\"Izu Islands, Japan region\",\"Izu Islands, Japan region\",\"Izu Islands, Japan region\",\"Izu Islands, Japan region\",\"Izu Islands, Japan region\",\"Izu Islands, Japan region\",\"Izu Islands, Japan region\",\"Izu Islands, Japan region\",\"Izu Islands, Japan region\",\"Onagawa Chō, Japan\",\"Hirara, Japan\",\"Ōfunato, Japan\",\"Hokkaido, Japan region\",\"Nishinoomote, Japan\",\"Dezhou, China\",\"Volcano Islands, Japan region\",\"Primor'ye, Russia\",\"Hamatonbetsu, Japan\",\"Pierreville, Canada\",\"Dibble, Oklahoma\",\"Waynoka, Oklahoma\",\"Waynoka, Oklahoma\",\"Ridgely, Tennessee\",\"Gladstone, New Jersey\",\"2024 Tewksbury, New Jersey Earthquake\",\"Prague, Oklahoma\",\"Prague, Oklahoma\",\"Hall Summit, Louisiana\",\"Edmond, Oklahoma\",\"Edmond, Oklahoma\",\"Arcadia, Oklahoma\",\"Bennington, Kansas\",\"Etowah, Arkansas\",\"Guide Rock, Nebraska\",\"Standard, Illinois\",\"Bennington, Kansas\",\"Velma, Oklahoma\",\"Madison, Ohio\",\"Vallenar, Chile\",\"La Quiaca, Argentina\",\"San Pedro de Atacama, Chile\",\"Vallenar, Chile\",\"Vallenar, Chile\",\"Calama, Chile\",\"Coquimbo, Chile\",\"El Aguilar, Argentina\",\"Ollagüe, Chile\",\"Vinchina, Argentina\",\"Cañete, Chile\",\"Tocopilla, Chile\",\"San Antonio de los Cobres, Argentina\",\"Vallenar, Chile\",\"Vallenar, Chile\",\"Abra Pampa, Argentina\",\"Embarcación, Argentina\",\"Copiapó, Chile\",\"Tarapaca, Chile\",\"Copiapó, Chile\",\"Coquimbo, Chile\",\"El Hoyo, Argentina\",\"Santiago del Estero, Argentina\",\"Loncopué, Argentina\",\"Chicureo Abajo, Chile\",\"San Pedro de Atacama, Chile\",\"Sulusaray, Turkey\",\"Filiatrá, Greece\",\"Bileća, Bosnia and Herzegovina\",\"Şuraabad, Azerbaijan\",\"?bd?n?n, Iran\",\"Yeşilyurt, Turkey\",\"Kozan, Turkey\",\"Xaçmaz, Azerbaijan\",\"Sines, Portugal\",\"Filiatrá, Greece\",\"Bileća, Bosnia and Herzegovina\",\"Obock, Djibouti\",\"Las Khorey, Somalia\",\"Las Khorey, Somalia\",\"Kabalo, Democratic Republic\",\"Ikungi, Tanzania\",\"central Mid-Atlantic Ridge\",\"Karor, Pakistan\",\"Ashkāsham, Afghanistan\",\"Kashgar, China\",\"western Xizang\",\"Kuqa, China\",\"Nushki, Pakistan\",\"Nushki, Pakistan\",\"Fannūj, Iran\",\"Kyzyl-Suu, Kyrgyzstan\",\"Aykol, China\",\"Aykol, China\",\"Aykol, China\",\"Aykol, China\",\"Aykol, China\",\"Kyzyl-Suu, Kyrgyzstan\",\"Aykol, China\",\"Jurm, Afghanistan\",\"Padam, India\",\"Xinjiang Uygur, China\",\"Dailekh, Nepal\",\"Bharatpur, Nepal\",\"Bandar Abbas, Iran\",\"Bandar Abbas, Iran\",\"Bandar Abbas, Iran\",\"Herāt, Afghanistan\",\"Herāt, Afghanistan\",\"Herāt, Afghanistan\",\"Herāt, Afghanistan\",\"Zindah Jān, Afghanistan\",\"Zindah Jān, Afghanistan\",\"Zindah Jān, Afghanistan\",\"Dipayal, Nepal\",\"Jurm, Afghanistan\"],\"lat\":[32.3984,32.414,34.0678,31.647,31.6323,34.0637,34.0588,34.0682,34.0703,37.6127,31.641,31.586,31.663,31.6305,41.5833,34.0297,34.0227,38.7893,38.7765,33.7255,38.6982,36.07,37.741,37.743,37.7769,37.432,33.7102,37.4332,47.3504,31.608,31.6125,31.6465,31.663,31.663,33.6755,38.6738,38.6698,38.6825,38.6833,38.6669,38.6847,38.7101,38.6808,38.6871,31.656,31.6187,31.691,37.0675,33.6777,36.61,36.633,34.0843,35.9492,31.7045,31.704,35.1017,35.111,35.107,35.1037,35.0965,35.097,35.1085,35.0813,35.0708,35.111,35.1108,33.8177,31.673,31.667,31.647,34.9408,34.9498,37.4705,31.475,33.2223,31.676,50.622,31.6529,31.676,33.8105,31.5693,33.197,34.014,46.3818,48.9111,48.8127,38.2302,38.2323,39.0397,31.5604,38.2737,47.2889,48.6926,31.666,31.6677,31.669,31.6757,34.0745,39.3885,39.52,31.1773,36.543,34.1604,23.539,40.14,33.5485,42.0113,26.5566,33.5147,33.5068,41.1648,41.1867,41.2706,41.2186,41.1979,41.3326,41.2946,41.2938,36.5061,33.2109,23.1278,39.2438,21.226,40.5164,28.8879,39.2654,27.8679,29.5163,25.9591,24.9743,36.4512,31.6412,29.7999,23.784,24.3858,47.1777,31.8881,31.7491,33.536,33.4887,37.4574,32.2768,26.1835,24.191,23.7143,23.7257,24.2257,24.1449,28.7699,23.8026,23.808,23.698,23.6512,23.8672,23.7241,23.7288,23.7158,23.7229,33.1621,29.4708,40.9054,37.7196,24.1954,23.7873,23.8555,24.1465,23.9598,24.1609,24.0651,23.819,40.1385,24.3178,28.4231,37.1035,29.1913,37.8706,37.2326,37.5249,37.5575,37.2969,37.1959,37.4976,37.5067,44.5796,41.168,45.9031,44.9541,24.0602,25.1583,29.7869,29.758,30.1289,30.044,30.0809,30.0036,29.9804,29.99,29.959,29.8673,30.786,31.0695,29.9958,30.0215,29.9105,29.905,44.2539,30.9578,31.0125,38.5129,26.4336,38.9566,21.7833,41.1222,30.7637,24.0074,21.895,42.0873,45.8086,-28.6825,-19.1251,-22.2935,-23.1243,-28.9162,-28.229,-22.1579,-30.2226,-23.3523,-21.9201,-28.4553,-38.0756,-21.9025,-24.1126,-19.1959,-28.7457,-28.6909,-22.8844,-23.6067,-27.3252,-20.6514,-27.1542,-30.2775,-26.9212,-28.2143,-38.1911,-33.2122,-23.9264,-8.7179,14.7827,0.0963,-5.3869,0.4081,-3.6267,2.8312,-8.1104,-5.8668,-5.8086,-5.8146,-7.362,-7.435,-6.1198,10.501,5.3539,-8.6741,51.5572,52.0699,51.937,52.4623,52.2566,51.3957,51.6758,60.6032,52.1396,54.9023,54.4632,51.3453,51.2731,59.8159,58.9459,53.6139,51.5965,60.0019,54.7699,56.4818,51.997,63.2208,61.4837,51.4889,53.4211,68.1656,59.6591,59.7974,53.523,53.5158,52.6166,52.6577,54.3454,54.5066,54.4421,54.5449,54.5455,54.514,54.4397,54.3575,52.2687,61.0968,50.5904,61.259,59.0181,49.6314,49.813,60.0304,61.2172,52.8357,52.7645,61.5986,68.1761,68.1507,50.3633,50.2648,57.1827,56.4659,55.7541,58.2943,61.5173,51.6689,51.7246,50.5619,50.4982,52.6053,52.5603,53.5336,54.1094,54.0955,54.038,60.9847,59.1053,53.3838,52.306,52.042,51.8371,51.626,53.68,60.3148,67.8947,54.1392,62.9194,54.2124,50.4551,50.5048,67.8725,50.622,55.0344,55.0747,52.1762,52.0532,52.0045,52.1259,51.777,51.6083,53.0155,52.8906,59.0708,52.1227,39.9972,37.3286,42.9936,41.1549,32.797,38.2787,37.5831,41.746,32.3984,32.414,31.647,31.6323,31.641,31.586,31.663,31.6305,31.608,31.6125,31.6465,31.663,12.998,31.663,31.656,31.6187,31.691,32.7843,32.781,31.7045,31.704,16.9087,31.673,31.667,31.647,32.7522,32.744,32.7758,31.475,32.7457,32.746,32.7632,32.74,31.676,32.769,32.753,31.6529,31.676,14.5566,32.3377,32.33,31.666,31.6677,31.669,31.6757,32.15,31.681,31.68,31.594,31.679,31.69,31.674,31.6733,31.681,31.616,14.4518,31.667,31.67,31.667,31.657,31.588,31.612,31.6125,31.973,31.9487,31.968,18.2141,26.2173,11.1362,31.583,32.318,13.7984,31.585,31.0767,12.3515,9.7781,32.4267,32.427,31.682,31.618,31.613,31.611,31.5075,32.7004,28.973,32.6365,31.656,31.646,29.001,31.639,28.963,28.9405,28.954,28.9866,28.954,28.9777,28.955,31.5352,31.68,31.655,-34.3923,-38.2187,-40.2633,-31.3282,-43.7064,-40.1882,31.1773,29.7252,29.7645,27.1043,36.5061,41.1549,32.797,27.7439,27.6888,27.7363,34.6012,34.6171,34.5798,34.6391,34.5492,34.5414,34.6259,38.2787,36.4512,41.746,31.6412,29.7999,24.3858,47.1777,31.8881,31.7491,33.536,33.4887,37.4574,32.2768,26.1835,24.191,28.7699,33.1621,29.4708,40.9054,37.7196,24.1954,40.1385,24.3178,28.4231,37.1035,29.1913,37.8706,37.2326,37.5249,37.5575,37.2969,37.1959,37.4976,37.5067,44.5796,41.168,45.9031,44.9541,24.0602,25.1583,29.7869,29.758,30.1289,30.044,30.0809,30.0036,29.9804,29.99,29.959,29.8673,30.786,31.0695,29.9958,30.0215,29.9105,29.905,44.2539,30.9578,31.0125,38.5129,26.4336,38.9566,21.7833,41.1222,30.7637,24.0074,42.0873,45.8086,51.5572,34.0678,51.3957,51.6758,31.647,31.6323,34.0637,34.0588,34.0682,34.0703,37.6127,31.641,31.586,31.663,31.6305,41.5833,34.0297,34.0227,38.7893,38.7765,33.7255,38.6982,36.07,37.741,37.743,37.7769,37.432,33.7102,37.4332,47.3504,31.6465,31.663,31.663,33.6755,38.6738,38.6698,38.6825,38.6833,38.6669,38.6847,38.7101,38.6808,38.6871,31.656,31.6187,37.0675,33.6777,36.61,36.633,34.0843,35.9492,35.1017,35.111,35.107,35.1037,35.0965,35.097,35.1085,35.0813,35.0708,35.111,35.1108,33.8177,31.673,31.667,31.647,34.9408,34.9498,37.4705,33.2223,31.676,50.622,31.6529,31.676,33.8105,31.5693,33.197,34.014,46.3818,48.9111,48.8127,38.2302,38.2323,39.0397,31.5604,38.2737,47.2889,48.6926,31.666,31.6677,31.669,31.6757,34.0745,39.3885,39.52,35.0378,36.0742,35.1097,35.112,33.2555,1.3376,4.3537,-8.7179,12.7442,2.3246,8.1704,8.1856,1.246,6.0646,-5.3869,3.1375,4.3844,9.4367,-3.6267,0.2108,10.8748,-8.1104,2.7135,-9.444,-5.8668,-5.8086,-0.1127,5.8202,-5.8146,8.8205,8.8517,8.7891,-9.5467,-7.362,9.7634,8.7286,8.6991,-8.2505,8.5458,4.8602,-0.1653,9.0123,8.4776,9.1263,9.1263,9.0546,8.9514,8.3449,8.8312,8.8795,8.8411,8.441,8.7118,8.9293,8.9571,8.7176,8.65,8.815,8.545,8.2878,8.5597,8.4498,8.6521,8.353,8.4475,8.248,8.4219,8.6178,8.4439,8.7034,8.3044,8.2748,8.4261,8.4118,8.4001,8.6083,8.3159,8.4845,8.415,8.493,8.3678,8.3335,8.315,8.0495,8.5324,8.5266,1.7425,5.5872,1.9752,-9.9023,11.4641,-10.0109,1.7869,-7.6308,7.4373,5.3416,4.7296,1.1251,0.0054,-6.8155,-9.5312,-7.0459,-6.8134,-6.7768,4.2633,31.6412,29.7999,24.3858,47.1777,31.8881,31.7491,33.536,33.4887,37.4574,32.2768,26.1835,24.191,28.7699,33.1621,29.4708,40.9054,37.7196,24.1954,40.1385,24.3178,28.4231,37.1035,29.1913,37.8706,37.2326,37.5249,37.5575,37.2969,37.1959,37.4976,37.5067,44.5796,41.168,45.9031,44.9541,24.0602,25.1583,29.7869,29.758,30.1289,30.044,30.0809,30.0036,29.9804,29.99,29.959,29.8673,30.786,31.0695,29.9958,30.0215,29.9105,29.905,44.2539,30.9578,31.0125,38.5129,26.4336,38.9566,21.7833,41.1222,30.7637,24.0074,42.0873,45.8086,32.3984,32.414,31.647,31.6323,31.641,31.586,31.663,31.6305,31.608,31.6125,31.6465,31.663,31.663,31.656,31.6187,31.691,32.7843,32.781,31.7045,31.704,35.002,16.9087,31.673,31.667,31.647,32.7522,32.744,32.7758,31.475,32.7457,32.746,32.7632,32.74,31.676,32.769,32.753,31.6529,31.676,32.3377,32.33,36.4763,36.4766,39.0397,31.666,31.6677,31.669,31.6757,32.15,31.681,31.68,31.594,31.679,31.69,31.674,31.6733,31.681,31.616,36.2067,31.667,31.67,31.667,31.657,31.588,31.612,31.6125,31.973,31.9487,31.968,18.2141,26.2173,31.583,32.318,31.585,31.0767,32.4267,32.427,31.682,31.618,31.613,31.611,32.7004,28.973,32.6365,31.656,31.646,29.001,31.639,28.963,28.9405,28.954,28.9866,28.954,28.9777,28.955,31.68,31.655,28.9496,28.957,28.5574,35.5343,37.9845,42.9936,-19.1251,-22.2935,-23.1243,-17.4037,-15.5726,-15.9895,-16.1686,-16.1219,-15.8106,-3.8887,-15.9192,-8.2154,-22.1579,-23.3523,-7.3193,-21.9201,-21.9025,-15.9595,-24.1126,-14.3528,-19.1959,-22.8844,-23.6067,-27.3252,-20.6514,-27.1542,-26.9212,-3.2512,-16.1071,-23.9264,31.6412,29.7999,23.784,24.3858,47.1777,31.8881,31.7491,33.536,33.4887,37.4574,32.2768,26.1835,24.191,23.7143,23.7257,24.2257,24.1449,28.7699,23.8026,23.808,23.698,23.6512,23.8672,23.7241,23.7288,23.7158,23.7229,33.1621,29.4708,40.9054,37.7196,24.1954,23.7873,23.8555,24.1465,23.9598,24.1609,24.0651,23.819,40.1385,24.3178,28.4231,37.1035,29.1913,37.8706,37.2326,37.5249,37.5575,37.2969,37.1959,37.4976,37.5067,41.168,24.0602,25.1583,29.7869,29.758,30.1289,30.044,30.0809,30.0036,29.9804,29.99,29.959,29.8673,30.786,31.0695,29.9958,30.0215,29.9105,29.905,30.9578,31.0125,38.5129,26.4336,38.9566,41.1222,30.7637,37.1933,24.0074,42.0873,45.8086,45.9997,35.002,36.4763,36.4766,36.2067,40.6849,40.6834,35.5343,35.5346,32.1319,35.6715,35.6697,35.6658,39.0875,35.7697,40.1656,41.241,39.0497,34.4833,41.7428,-28.6825,-22.2935,-23.1243,-28.9162,-28.229,-22.1579,-30.2226,-23.3523,-21.9201,-28.4553,-38.0756,-21.9025,-24.1126,-28.7457,-28.6909,-22.8844,-23.6067,-27.3252,-20.6514,-27.1542,-30.2775,-26.9212,-28.2143,-38.1911,-33.2122,-23.9264,39.9972,37.3286,42.9936,41.1549,32.797,38.2787,37.5831,41.746,37.9845,37.3286,42.9936,11.7428,12.3388,12.2855,-7.3035,-5.4123,0.9561,31.1773,36.543,40.14,33.5485,42.0113,29.7252,29.7645,27.1043,41.1648,41.1867,41.2706,41.2186,41.1979,41.3326,41.2946,41.2938,36.5061,33.2109,40.5164,28.8879,27.8679,27.7439,27.6888,27.7363,34.6012,34.6171,34.5798,34.6391,34.5492,34.5414,34.6259,29.5163,36.4512],\"legendgroup\":\"\",\"lon\":[-102.044,-102.057,-118.807,-104.45,-104.473,-118.812,-118.799,-118.8,-118.808,-115.303,-104.356,-104.55,-104.452,-104.466,-112.42,-117.586,-117.593,-122.734,-122.746,-118.599,-119.598,-120.167,-117.142,-117.134,-117.067,-118.758,-118.628,-118.469,-113.16,-103.99,-103.986,-104.339,-104.37,-104.363,-116.723,-118.545,-118.546,-118.555,-118.548,-118.556,-118.564,-118.532,-118.55,-118.561,-104.457,-104.443,-101.701,-112.864,-117.391,-115.727,-115.709,-118.185,-117.679,-101.712,-101.708,-119.071,-119.117,-119.119,-119.101,-119.109,-119.116,-119.075,-119.107,-119.065,-119.119,-119.092,-118.757,-104.369,-104.365,-104.386,-116.799,-116.79,-112.848,-103.952,-116.045,-104.41,-129.763,-104.373,-104.407,-118.468,-115.702,-116.39,-117.019,-122.33,-128.445,-128.725,-118.798,-118.798,-111.534,-115.544,-118.765,-113.214,-129.003,-104.192,-104.195,-104.195,-104.202,-119.009,-116.636,-116.533,70.6295,71.2681,86.3895,94.6946,77.0348,81.8909,82.6416,97.0128,92.9795,93.0029,78.4389,78.7155,78.8219,78.724,78.6168,78.7686,78.6076,78.5937,70.5994,76.7733,90.927,97.2769,99.333,77.7055,82.195,97.3075,84.7191,81.2118,90.6152,92.2176,70.7023,131.796,130.855,121.759,121.917,144.763,131.341,131.482,140.175,141.284,137.239,137.61,141.391,121.899,121.588,121.581,121.706,121.674,142.53,121.676,121.634,121.574,121.606,121.538,121.641,121.562,121.63,121.638,132.387,131.736,143.213,141.924,121.932,121.784,121.803,121.743,121.595,121.71,121.673,121.562,141.706,142.875,130.134,141.143,141.553,137.708,136.788,137.408,137.384,136.946,136.87,137.242,137.239,148.99,142.247,151.003,149.755,122.646,125.542,140.026,140.021,140.022,140.005,139.98,139.831,139.887,139.968,139.948,140.048,142.041,141.884,140.146,140.109,140.053,139.967,148.635,141.833,141.989,141.641,125.303,142.101,145.906,142.845,131.39,143.203,121.583,134.055,143.124,-69.3728,-67.3038,-65.9607,-67.8715,-71.5264,-71.3898,-68.682,-72.2289,-66.6742,-67.253,-68.9432,-73.8819,-70.2778,-66.8382,-69.0592,-71.5726,-70.3075,-66.2242,-63.6564,-71.5543,-68.5222,-71.2479,-71.536,-63.3389,-63.1854,-70.3731,-70.3268,-67.9077,110.181,108.243,96.4898,101.059,98.5654,100.699,95.6044,107.272,112.362,112.311,102.185,105.925,105.536,113.147,93.4505,94.5693,110.041,-130.594,-173.813,-173.727,-179.019,-173.869,-130.863,-130.632,-146.917,-179.807,-157.07,-159.639,-178.638,-178.633,-153.249,-136.697,-164.358,-175.165,-146.214,-158.513,-153.762,-173.57,-148.573,-149.943,-179.588,-133.318,-136.376,-151.499,-151.337,-165.902,-165.891,-168.748,-168.78,-162.778,-159.779,-159.647,-159.729,-159.689,-159.567,-160.234,-160.179,-173.565,-150.826,-173.373,-147.016,-134.506,-178.31,-178.305,-143.176,-149.616,-166.776,-166.697,-146.305,-136.343,-136.313,-173.44,-173.472,-151.715,-156.55,-154.19,-151.695,-150.699,-174.864,-174.889,-170.455,-170.471,-166.906,-166.896,-165.752,-159.702,-159.699,-159.522,-148.283,-139.141,-163.613,-174.645,-174.531,-174.491,-175.072,-164.273,-152.365,-160.842,-169.371,-150.38,-162.474,-175.92,-175.929,-160.84,-129.763,-157.609,-157.665,-174.341,-170.775,-170.791,-170.932,-170.741,-178.997,-158.202,-158.04,-137.916,-170.579,35.9796,21.3156,18.6796,49.7415,47.6372,38.2053,35.9568,49.2837,-102.044,-102.057,-104.45,-104.473,-104.356,-104.55,-104.452,-104.466,-103.99,-103.986,-104.339,-104.37,-89.5623,-104.363,-104.457,-104.443,-101.701,-100.667,-100.703,-101.712,-101.708,-93.8167,-104.369,-104.365,-104.386,-100.646,-100.649,-100.685,-103.952,-100.67,-100.692,-100.653,-100.732,-104.41,-100.67,-100.638,-104.373,-104.407,-89.9665,-101.052,-101.08,-104.192,-104.195,-104.195,-104.202,-101.083,-104.183,-104.394,-104.399,-104.194,-104.404,-104.189,-104.215,-104.201,-104.498,-92.363,-104.196,-104.193,-104.312,-104.315,-104.546,-104.382,-104.372,-103.318,-103.325,-103.332,-105.628,-110.508,-85.3425,-104.543,-101.82,-88.995,-104.551,-107.436,-87.6834,-86.3237,-102.098,-102.121,-104.401,-103.986,-103.977,-103.99,-114.403,-104.39,-98.038,-104.384,-104.311,-104.283,-97.965,-104.011,-97.936,-97.9993,-98.001,-98.0212,-98.005,-97.9583,-98.01,-114.289,-104.416,-104.398,179.972,176.033,176.402,179.732,171.118,173.572,70.6295,65.3575,65.3645,59.3301,70.5994,49.7415,47.6372,56.0776,56.0903,56.1369,62.1031,62.0517,62.0717,62.0327,61.884,61.9547,61.926,38.2053,70.7023,49.2837,131.796,130.855,121.917,144.763,131.341,131.482,140.175,141.284,137.239,137.61,141.391,121.899,142.53,132.387,131.736,143.213,141.924,121.932,141.706,142.875,130.134,141.143,141.553,137.708,136.788,137.408,137.384,136.946,136.87,137.242,137.239,148.99,142.247,151.003,149.755,122.646,125.542,140.026,140.021,140.022,140.005,139.98,139.831,139.887,139.968,139.948,140.048,142.041,141.884,140.146,140.109,140.053,139.967,148.635,141.833,141.989,141.641,125.303,142.101,145.906,142.845,131.39,143.203,134.055,143.124,-130.594,-118.807,-130.863,-130.632,-104.45,-104.473,-118.812,-118.799,-118.8,-118.808,-115.303,-104.356,-104.55,-104.452,-104.466,-112.42,-117.586,-117.593,-122.734,-122.746,-118.599,-119.598,-120.167,-117.142,-117.134,-117.067,-118.758,-118.628,-118.469,-113.16,-104.339,-104.37,-104.363,-116.723,-118.545,-118.546,-118.555,-118.548,-118.556,-118.564,-118.532,-118.55,-118.561,-104.457,-104.443,-112.864,-117.391,-115.727,-115.709,-118.185,-117.679,-119.071,-119.117,-119.119,-119.101,-119.109,-119.116,-119.075,-119.107,-119.065,-119.119,-119.092,-118.757,-104.369,-104.365,-104.386,-116.799,-116.79,-112.848,-116.045,-104.41,-129.763,-104.373,-104.407,-118.468,-115.702,-116.39,-117.019,-122.33,-128.445,-128.725,-118.798,-118.798,-111.534,-115.544,-118.765,-113.214,-129.003,-104.192,-104.195,-104.195,-104.202,-119.009,-116.636,-116.533,-116.983,-120.644,-119.094,-119.109,-116.085,118.461,126.74,110.181,124.767,126.572,126.764,126.612,126.089,123.16,101.059,127.319,126.49,119.732,100.699,123.704,125.29,107.272,127.094,122.147,112.362,112.311,125.214,126.88,102.185,126.704,126.782,126.765,125.049,105.925,126.712,125.71,125.544,121.098,126.497,126.189,123.611,126.773,126.735,126.869,126.709,126.666,126.622,126.792,126.691,126.674,126.749,126.873,126.798,126.563,126.628,126.897,127.021,126.868,126.871,127.04,126.617,126.72,126.674,126.93,126.778,126.82,126.838,126.709,126.919,126.768,126.566,126.828,126.521,126.746,126.922,126.699,126.767,126.736,126.776,126.771,126.734,126.583,127.021,126.606,126.505,126.449,127.153,125.051,124.137,123.7,125.922,123.713,120.193,125.855,126.299,126.06,127.501,127.479,119.771,116.552,123.86,117.215,116.618,116.568,126.513,131.796,130.855,121.917,144.763,131.341,131.482,140.175,141.284,137.239,137.61,141.391,121.899,142.53,132.387,131.736,143.213,141.924,121.932,141.706,142.875,130.134,141.143,141.553,137.708,136.788,137.408,137.384,136.946,136.87,137.242,137.239,148.99,142.247,151.003,149.755,122.646,125.542,140.026,140.021,140.022,140.005,139.98,139.831,139.887,139.968,139.948,140.048,142.041,141.884,140.146,140.109,140.053,139.967,148.635,141.833,141.989,141.641,125.303,142.101,145.906,142.845,131.39,143.203,134.055,143.124,-102.044,-102.057,-104.45,-104.473,-104.356,-104.55,-104.452,-104.466,-103.99,-103.986,-104.339,-104.37,-104.363,-104.457,-104.443,-101.701,-100.667,-100.703,-101.712,-101.708,-97.6816,-93.8167,-104.369,-104.365,-104.386,-100.646,-100.649,-100.685,-103.952,-100.67,-100.692,-100.653,-100.732,-104.41,-100.67,-100.638,-104.373,-104.407,-101.052,-101.08,-98.8056,-98.8086,-111.534,-104.192,-104.195,-104.195,-104.202,-101.083,-104.183,-104.394,-104.399,-104.194,-104.404,-104.189,-104.215,-104.201,-104.498,-89.4772,-104.196,-104.193,-104.312,-104.315,-104.546,-104.382,-104.372,-103.318,-103.325,-103.332,-105.628,-110.508,-104.543,-101.82,-104.551,-107.436,-102.098,-102.121,-104.401,-103.986,-103.977,-103.99,-104.39,-98.038,-104.384,-104.311,-104.283,-97.965,-104.011,-97.936,-97.9993,-98.001,-98.0212,-98.005,-97.9583,-98.01,-104.416,-104.398,-97.9596,-98.008,-78.9438,-96.7638,-9.538,18.6796,-67.3038,-65.9607,-67.8715,-69.4991,-74.7689,-74.7421,-74.3463,-74.5791,-74.4447,-76.6968,-74.5392,-71.3672,-68.682,-66.6742,-71.5055,-67.253,-70.2778,-72.6028,-66.8382,-76.474,-69.0592,-66.2242,-63.6564,-71.5543,-68.5222,-71.2479,-63.3389,-79.8994,-75.0833,-67.9077,131.796,130.855,121.759,121.917,144.763,131.341,131.482,140.175,141.284,137.239,137.61,141.391,121.899,121.588,121.581,121.706,121.674,142.53,121.676,121.634,121.574,121.606,121.538,121.641,121.562,121.63,121.638,132.387,131.736,143.213,141.924,121.932,121.784,121.803,121.743,121.595,121.71,121.673,121.562,141.706,142.875,130.134,141.143,141.553,137.708,136.788,137.408,137.384,136.946,136.87,137.242,137.239,142.247,122.646,125.542,140.026,140.021,140.022,140.005,139.98,139.831,139.887,139.968,139.948,140.048,142.041,141.884,140.146,140.109,140.053,139.967,141.833,141.989,141.641,125.303,142.101,142.845,131.39,116.381,143.203,134.055,143.124,-72.8106,-97.6816,-98.8056,-98.8086,-89.4772,-74.7347,-74.7526,-96.7638,-96.7337,-93.3123,-97.41,-97.417,-97.3982,-97.5686,-90.1955,-98.2907,-89.1766,-97.6164,-97.7798,-81.0135,-69.3728,-65.9607,-67.8715,-71.5264,-71.3898,-68.682,-72.2289,-66.6742,-67.253,-68.9432,-73.8819,-70.2778,-66.8382,-71.5726,-70.3075,-66.2242,-63.6564,-71.5543,-68.5222,-71.2479,-71.536,-63.3389,-63.1854,-70.3731,-70.3268,-67.9077,35.9796,21.3156,18.6796,49.7415,47.6372,38.2053,35.9568,49.2837,-9.538,21.3156,18.6796,43.3665,47.4968,47.4426,27.9327,34.9183,-29.0181,70.6295,71.2681,77.0348,81.8909,82.6416,65.3575,65.3645,59.3301,78.4389,78.7155,78.8219,78.724,78.6168,78.7686,78.6076,78.5937,70.5994,76.7733,77.7055,82.195,84.7191,56.0776,56.0903,56.1369,62.1031,62.0517,62.0717,62.0327,61.884,61.9547,61.926,81.2118,70.7023],\"marker\":{\"color\":[4.8,5.1,3.7,3.9,4.1,3.23,3.43,3.44,4.69,3.5,3.8,3.3,3.8,3.9,3.35,3.94,3.45,3.09,4.28,3.17,3.47,3.32,3.1,3.1,3.0,3.46,3.14,3.4,3.5,3.4,3.6,3.6,3.3,3.9,3.31,3.9,3.4,3.3,3.2,3.3,4.3,4.3,3.3,3.0,3.9,4.2,3.8,3.29,3.61,4.4,4.1,4.39,3.66,3.6,3.6,4.44,3.78,3.64,3.5,3.44,3.58,4.06,3.22,3.6,4.6,5.22,3.12,3.3,3.4,3.5,3.51,4.89,4.47,4.5,3.45,3.4,4.4,4.0,4.2,3.56,3.48,3.5,3.01,3.48,5.2,6.4,3.3,3.2,3.44,3.9,3.8,3.8,5.7,3.5,3.5,3.7,3.8,3.01,3.5,4.1,5.4,5.4,5.9,5.4,5.1,5.5,5.4,5.7,5.6,5.4,5.4,5.7,5.3,5.1,5.5,5.4,5.8,7.0,6.4,5.1,5.5,5.2,5.7,5.3,5.7,5.4,5.2,5.7,4.9,5.3,5.8,5.5,5.7,6.1,5.4,6.5,5.3,7.1,5.6,5.4,5.7,5.5,5.4,5.8,5.2,5.6,5.2,5.7,5.3,5.8,5.4,5.4,5.5,6.1,6.1,5.8,5.6,5.0,6.3,5.9,5.4,6.1,5.7,5.7,5.3,5.6,5.3,5.6,6.4,7.4,5.9,5.3,5.6,5.6,5.4,5.9,5.4,5.6,5.5,5.6,6.2,7.5,5.8,6.5,5.8,5.8,5.6,5.9,5.7,5.3,5.4,5.5,6.1,5.7,5.7,5.3,5.4,6.1,5.3,5.5,5.6,5.6,5.5,5.8,6.0,5.8,5.7,5.8,5.5,6.3,5.2,4.9,5.9,5.5,5.4,5.6,5.8,5.6,5.7,5.7,5.5,7.4,5.8,5.4,5.3,5.4,5.3,5.4,5.5,5.8,5.6,5.5,5.8,6.6,5.4,6.0,5.6,5.7,5.3,5.5,6.3,6.2,6.2,6.6,5.7,5.8,5.5,5.1,5.1,5.4,5.1,5.5,5.7,6.1,6.4,5.6,5.2,5.6,5.4,5.5,5.9,5.2,5.9,4.2,3.9,3.6,4.6,4.5,4.7,6.5,4.3,5.0,4.3,3.9,3.9,4.0,3.9,3.5,3.6,4.0,3.5,3.4,3.9,4.3,3.5,3.1,4.3,4.0,3.4,4.6,3.7,3.7,3.5,4.4,4.0,4.8,3.9,4.0,5.0,5.1,5.0,3.6,3.6,3.9,3.1,4.4,3.8,3.3,3.5,4.0,3.6,3.7,3.8,3.6,3.5,3.6,3.7,3.6,4.0,3.6,3.2,3.8,3.5,3.1,3.5,3.7,3.5,3.8,4.0,3.6,3.6,5.6,5.4,5.4,3.8,4.6,4.1,5.1,4.8,5.2,3.9,3.5,4.5,3.5,4.2,3.9,3.7,4.0,4.6,4.2,4.4,4.7,3.5,3.6,3.9,3.6,6.0,5.9,3.7,3.9,4.1,3.6,4.2,5.6,5.8,5.4,5.4,4.8,5.2,5.5,5.3,4.8,5.1,3.9,4.1,3.8,3.3,3.8,3.9,3.4,3.6,3.6,3.3,6.1,3.9,3.9,4.2,3.8,3.6,3.6,3.6,3.6,5.4,3.3,3.4,3.5,3.6,3.8,4.1,4.5,4.8,5.1,4.1,4.0,3.4,4.4,4.9,4.0,4.2,6.2,3.7,3.6,3.5,3.5,3.7,3.8,3.3,3.4,3.7,3.9,3.7,3.5,4.1,3.8,3.9,3.4,6.4,3.8,3.5,3.5,3.3,3.5,3.2,3.5,3.8,3.6,3.9,5.4,5.6,5.5,3.3,4.4,5.0,3.2,3.4,5.6,5.6,3.5,3.8,3.3,3.3,3.5,3.9,3.8,3.5,3.5,4.0,3.3,3.6,3.7,3.7,3.7,4.7,4.7,4.3,4.4,3.9,3.9,3.9,3.9,3.5,5.1,4.9,5.1,5.7,5.5,5.1,5.4,5.3,5.5,5.1,6.4,5.4,4.8,5.3,5.0,5.5,5.4,6.3,6.3,5.9,6.3,5.4,6.3,5.2,5.8,5.3,5.5,5.7,5.4,6.5,5.3,7.1,5.6,5.4,5.7,5.5,5.4,5.8,5.3,6.3,5.9,5.4,6.1,5.7,5.9,5.3,5.6,5.6,5.4,5.9,5.4,5.6,5.5,5.6,6.2,7.5,5.8,6.5,5.8,5.8,5.6,5.9,5.7,5.3,5.4,5.5,6.1,5.7,5.7,5.3,5.4,6.1,5.3,5.5,5.6,5.6,5.5,5.8,6.0,5.8,5.7,5.8,5.5,6.3,5.2,4.9,5.9,5.5,5.4,5.8,5.6,4.2,3.7,4.7,6.5,3.9,4.1,3.23,3.43,3.44,4.69,3.5,3.8,3.3,3.8,3.9,3.35,3.94,3.45,3.09,4.28,3.17,3.47,3.32,3.1,3.1,3.0,3.46,3.14,3.4,3.5,3.6,3.3,3.9,3.31,3.9,3.4,3.3,3.2,3.3,4.3,4.3,3.3,3.0,3.9,4.2,3.29,3.61,4.4,4.1,4.39,3.66,4.44,3.78,3.64,3.5,3.44,3.58,4.06,3.22,3.6,4.6,5.22,3.12,3.3,3.4,3.5,3.51,4.89,4.47,3.45,3.4,4.4,4.0,4.2,3.56,3.48,3.5,3.01,3.48,5.2,6.4,3.3,3.2,3.44,3.9,3.8,3.8,5.7,3.5,3.5,3.7,3.8,3.01,3.5,4.1,3.86,3.24,3.44,4.09,3.59,5.5,5.4,5.5,5.7,5.0,6.3,6.8,5.4,7.1,5.4,5.6,5.8,5.2,5.5,5.0,5.7,6.1,6.4,5.7,6.4,5.6,5.7,6.0,5.2,5.4,5.4,5.1,4.9,5.6,5.3,5.4,5.8,5.6,5.6,6.7,5.3,5.4,4.9,5.8,5.5,5.7,5.2,5.3,5.7,5.3,5.3,5.5,5.4,5.3,6.9,6.0,5.4,5.4,5.6,5.5,5.7,6.6,5.4,5.5,6.0,5.4,5.3,5.4,6.3,5.6,5.4,5.4,5.6,6.1,5.7,5.4,5.7,5.6,6.4,5.5,5.4,5.4,5.8,5.4,5.4,7.6,6.0,6.7,5.8,5.2,5.7,6.1,5.4,5.5,5.9,6.4,5.9,6.0,6.0,5.6,5.4,5.7,5.5,7.1,5.3,5.5,5.7,5.4,6.5,5.3,7.1,5.6,5.4,5.7,5.5,5.4,5.8,5.3,6.3,5.9,5.4,6.1,5.7,5.9,5.3,5.6,5.6,5.4,5.9,5.4,5.6,5.5,5.6,6.2,7.5,5.8,6.5,5.8,5.8,5.6,5.9,5.7,5.3,5.4,5.5,6.1,5.7,5.7,5.3,5.4,6.1,5.3,5.5,5.6,5.6,5.5,5.8,6.0,5.8,5.7,5.8,5.5,6.3,5.2,4.9,5.9,5.5,5.4,5.8,5.6,4.8,5.1,3.9,4.1,3.8,3.3,3.8,3.9,3.4,3.6,3.6,3.3,3.9,3.9,4.2,3.8,3.6,3.6,3.6,3.6,3.17,5.4,3.3,3.4,3.5,3.6,3.8,4.1,4.5,4.8,5.1,4.1,4.0,3.4,4.4,4.9,4.0,4.2,3.7,3.6,3.56,3.46,3.44,3.5,3.5,3.7,3.8,3.3,3.4,3.7,3.9,3.7,3.5,4.1,3.8,3.9,3.4,3.8,3.8,3.5,3.5,3.3,3.5,3.2,3.5,3.8,3.6,3.9,5.4,5.6,3.3,4.4,3.2,3.4,3.5,3.8,3.3,3.3,3.5,3.9,3.5,3.5,4.0,3.3,3.6,3.7,3.7,3.7,4.7,4.7,4.3,4.4,3.9,3.9,3.9,3.5,3.8,3.7,4.0,5.06,5.4,5.4,5.7,5.5,7.4,5.6,5.8,5.4,5.4,6.1,7.2,5.5,6.0,6.5,5.3,5.3,6.6,5.4,5.6,6.2,5.5,5.7,5.8,6.0,5.6,5.7,5.3,5.5,6.2,5.4,5.4,5.8,5.5,5.7,6.1,5.4,6.5,5.3,7.1,5.6,5.4,5.7,5.5,5.4,5.8,5.2,5.6,5.2,5.7,5.3,5.8,5.4,5.4,5.5,6.1,6.1,5.8,5.6,5.0,6.3,5.9,5.4,6.1,5.7,5.7,5.3,5.6,5.3,5.6,6.4,7.4,5.9,5.3,5.6,5.6,5.4,5.9,5.4,5.6,5.5,5.6,6.2,7.5,5.8,5.8,5.9,5.7,5.3,5.4,5.5,6.1,5.7,5.7,5.3,5.4,6.1,5.3,5.5,5.6,5.6,5.5,5.8,6.0,5.7,5.8,5.5,6.3,5.2,5.9,5.5,5.4,5.4,5.8,5.6,3.8,3.17,3.56,3.46,3.8,3.7,4.8,5.06,5.1,3.6,4.1,4.5,4.26,3.4,3.8,3.5,3.6,4.0,3.68,3.6,5.7,5.5,7.4,5.8,5.4,5.3,5.4,5.3,5.4,5.5,5.8,5.6,5.5,6.6,5.4,6.0,5.6,5.7,5.3,5.5,6.3,6.2,6.2,6.6,5.7,5.8,5.6,5.8,5.4,5.4,4.8,5.2,5.5,5.3,5.4,5.8,5.4,5.4,5.4,5.6,5.2,5.5,5.5,5.4,5.4,5.1,5.5,5.4,5.3,5.5,5.1,5.4,5.7,5.3,5.1,5.5,5.4,5.8,7.0,6.4,5.1,5.3,5.7,5.2,5.3,5.0,5.5,5.4,6.3,6.3,5.9,6.3,5.4,6.3,5.7,5.8],\"coloraxis\":\"coloraxis\"},\"mode\":\"markers\",\"name\":\"\",\"showlegend\":false,\"subplot\":\"mapbox\",\"type\":\"scattermapbox\"}],                        {\"template\":{\"data\":{\"histogram2dcontour\":[{\"type\":\"histogram2dcontour\",\"colorbar\":{\"outlinewidth\":0,\"ticks\":\"\"},\"colorscale\":[[0.0,\"#0d0887\"],[0.1111111111111111,\"#46039f\"],[0.2222222222222222,\"#7201a8\"],[0.3333333333333333,\"#9c179e\"],[0.4444444444444444,\"#bd3786\"],[0.5555555555555556,\"#d8576b\"],[0.6666666666666666,\"#ed7953\"],[0.7777777777777778,\"#fb9f3a\"],[0.8888888888888888,\"#fdca26\"],[1.0,\"#f0f921\"]]}],\"choropleth\":[{\"type\":\"choropleth\",\"colorbar\":{\"outlinewidth\":0,\"ticks\":\"\"}}],\"histogram2d\":[{\"type\":\"histogram2d\",\"colorbar\":{\"outlinewidth\":0,\"ticks\":\"\"},\"colorscale\":[[0.0,\"#0d0887\"],[0.1111111111111111,\"#46039f\"],[0.2222222222222222,\"#7201a8\"],[0.3333333333333333,\"#9c179e\"],[0.4444444444444444,\"#bd3786\"],[0.5555555555555556,\"#d8576b\"],[0.6666666666666666,\"#ed7953\"],[0.7777777777777778,\"#fb9f3a\"],[0.8888888888888888,\"#fdca26\"],[1.0,\"#f0f921\"]]}],\"heatmap\":[{\"type\":\"heatmap\",\"colorbar\":{\"outlinewidth\":0,\"ticks\":\"\"},\"colorscale\":[[0.0,\"#0d0887\"],[0.1111111111111111,\"#46039f\"],[0.2222222222222222,\"#7201a8\"],[0.3333333333333333,\"#9c179e\"],[0.4444444444444444,\"#bd3786\"],[0.5555555555555556,\"#d8576b\"],[0.6666666666666666,\"#ed7953\"],[0.7777777777777778,\"#fb9f3a\"],[0.8888888888888888,\"#fdca26\"],[1.0,\"#f0f921\"]]}],\"heatmapgl\":[{\"type\":\"heatmapgl\",\"colorbar\":{\"outlinewidth\":0,\"ticks\":\"\"},\"colorscale\":[[0.0,\"#0d0887\"],[0.1111111111111111,\"#46039f\"],[0.2222222222222222,\"#7201a8\"],[0.3333333333333333,\"#9c179e\"],[0.4444444444444444,\"#bd3786\"],[0.5555555555555556,\"#d8576b\"],[0.6666666666666666,\"#ed7953\"],[0.7777777777777778,\"#fb9f3a\"],[0.8888888888888888,\"#fdca26\"],[1.0,\"#f0f921\"]]}],\"contourcarpet\":[{\"type\":\"contourcarpet\",\"colorbar\":{\"outlinewidth\":0,\"ticks\":\"\"}}],\"contour\":[{\"type\":\"contour\",\"colorbar\":{\"outlinewidth\":0,\"ticks\":\"\"},\"colorscale\":[[0.0,\"#0d0887\"],[0.1111111111111111,\"#46039f\"],[0.2222222222222222,\"#7201a8\"],[0.3333333333333333,\"#9c179e\"],[0.4444444444444444,\"#bd3786\"],[0.5555555555555556,\"#d8576b\"],[0.6666666666666666,\"#ed7953\"],[0.7777777777777778,\"#fb9f3a\"],[0.8888888888888888,\"#fdca26\"],[1.0,\"#f0f921\"]]}],\"surface\":[{\"type\":\"surface\",\"colorbar\":{\"outlinewidth\":0,\"ticks\":\"\"},\"colorscale\":[[0.0,\"#0d0887\"],[0.1111111111111111,\"#46039f\"],[0.2222222222222222,\"#7201a8\"],[0.3333333333333333,\"#9c179e\"],[0.4444444444444444,\"#bd3786\"],[0.5555555555555556,\"#d8576b\"],[0.6666666666666666,\"#ed7953\"],[0.7777777777777778,\"#fb9f3a\"],[0.8888888888888888,\"#fdca26\"],[1.0,\"#f0f921\"]]}],\"mesh3d\":[{\"type\":\"mesh3d\",\"colorbar\":{\"outlinewidth\":0,\"ticks\":\"\"}}],\"scatter\":[{\"fillpattern\":{\"fillmode\":\"overlay\",\"size\":10,\"solidity\":0.2},\"type\":\"scatter\"}],\"parcoords\":[{\"type\":\"parcoords\",\"line\":{\"colorbar\":{\"outlinewidth\":0,\"ticks\":\"\"}}}],\"scatterpolargl\":[{\"type\":\"scatterpolargl\",\"marker\":{\"colorbar\":{\"outlinewidth\":0,\"ticks\":\"\"}}}],\"bar\":[{\"error_x\":{\"color\":\"#2a3f5f\"},\"error_y\":{\"color\":\"#2a3f5f\"},\"marker\":{\"line\":{\"color\":\"#E5ECF6\",\"width\":0.5},\"pattern\":{\"fillmode\":\"overlay\",\"size\":10,\"solidity\":0.2}},\"type\":\"bar\"}],\"scattergeo\":[{\"type\":\"scattergeo\",\"marker\":{\"colorbar\":{\"outlinewidth\":0,\"ticks\":\"\"}}}],\"scatterpolar\":[{\"type\":\"scatterpolar\",\"marker\":{\"colorbar\":{\"outlinewidth\":0,\"ticks\":\"\"}}}],\"histogram\":[{\"marker\":{\"pattern\":{\"fillmode\":\"overlay\",\"size\":10,\"solidity\":0.2}},\"type\":\"histogram\"}],\"scattergl\":[{\"type\":\"scattergl\",\"marker\":{\"colorbar\":{\"outlinewidth\":0,\"ticks\":\"\"}}}],\"scatter3d\":[{\"type\":\"scatter3d\",\"line\":{\"colorbar\":{\"outlinewidth\":0,\"ticks\":\"\"}},\"marker\":{\"colorbar\":{\"outlinewidth\":0,\"ticks\":\"\"}}}],\"scattermapbox\":[{\"type\":\"scattermapbox\",\"marker\":{\"colorbar\":{\"outlinewidth\":0,\"ticks\":\"\"}}}],\"scatterternary\":[{\"type\":\"scatterternary\",\"marker\":{\"colorbar\":{\"outlinewidth\":0,\"ticks\":\"\"}}}],\"scattercarpet\":[{\"type\":\"scattercarpet\",\"marker\":{\"colorbar\":{\"outlinewidth\":0,\"ticks\":\"\"}}}],\"carpet\":[{\"aaxis\":{\"endlinecolor\":\"#2a3f5f\",\"gridcolor\":\"white\",\"linecolor\":\"white\",\"minorgridcolor\":\"white\",\"startlinecolor\":\"#2a3f5f\"},\"baxis\":{\"endlinecolor\":\"#2a3f5f\",\"gridcolor\":\"white\",\"linecolor\":\"white\",\"minorgridcolor\":\"white\",\"startlinecolor\":\"#2a3f5f\"},\"type\":\"carpet\"}],\"table\":[{\"cells\":{\"fill\":{\"color\":\"#EBF0F8\"},\"line\":{\"color\":\"white\"}},\"header\":{\"fill\":{\"color\":\"#C8D4E3\"},\"line\":{\"color\":\"white\"}},\"type\":\"table\"}],\"barpolar\":[{\"marker\":{\"line\":{\"color\":\"#E5ECF6\",\"width\":0.5},\"pattern\":{\"fillmode\":\"overlay\",\"size\":10,\"solidity\":0.2}},\"type\":\"barpolar\"}],\"pie\":[{\"automargin\":true,\"type\":\"pie\"}]},\"layout\":{\"autotypenumbers\":\"strict\",\"colorway\":[\"#636efa\",\"#EF553B\",\"#00cc96\",\"#ab63fa\",\"#FFA15A\",\"#19d3f3\",\"#FF6692\",\"#B6E880\",\"#FF97FF\",\"#FECB52\"],\"font\":{\"color\":\"#2a3f5f\"},\"hovermode\":\"closest\",\"hoverlabel\":{\"align\":\"left\"},\"paper_bgcolor\":\"white\",\"plot_bgcolor\":\"#E5ECF6\",\"polar\":{\"bgcolor\":\"#E5ECF6\",\"angularaxis\":{\"gridcolor\":\"white\",\"linecolor\":\"white\",\"ticks\":\"\"},\"radialaxis\":{\"gridcolor\":\"white\",\"linecolor\":\"white\",\"ticks\":\"\"}},\"ternary\":{\"bgcolor\":\"#E5ECF6\",\"aaxis\":{\"gridcolor\":\"white\",\"linecolor\":\"white\",\"ticks\":\"\"},\"baxis\":{\"gridcolor\":\"white\",\"linecolor\":\"white\",\"ticks\":\"\"},\"caxis\":{\"gridcolor\":\"white\",\"linecolor\":\"white\",\"ticks\":\"\"}},\"coloraxis\":{\"colorbar\":{\"outlinewidth\":0,\"ticks\":\"\"}},\"colorscale\":{\"sequential\":[[0.0,\"#0d0887\"],[0.1111111111111111,\"#46039f\"],[0.2222222222222222,\"#7201a8\"],[0.3333333333333333,\"#9c179e\"],[0.4444444444444444,\"#bd3786\"],[0.5555555555555556,\"#d8576b\"],[0.6666666666666666,\"#ed7953\"],[0.7777777777777778,\"#fb9f3a\"],[0.8888888888888888,\"#fdca26\"],[1.0,\"#f0f921\"]],\"sequentialminus\":[[0.0,\"#0d0887\"],[0.1111111111111111,\"#46039f\"],[0.2222222222222222,\"#7201a8\"],[0.3333333333333333,\"#9c179e\"],[0.4444444444444444,\"#bd3786\"],[0.5555555555555556,\"#d8576b\"],[0.6666666666666666,\"#ed7953\"],[0.7777777777777778,\"#fb9f3a\"],[0.8888888888888888,\"#fdca26\"],[1.0,\"#f0f921\"]],\"diverging\":[[0,\"#8e0152\"],[0.1,\"#c51b7d\"],[0.2,\"#de77ae\"],[0.3,\"#f1b6da\"],[0.4,\"#fde0ef\"],[0.5,\"#f7f7f7\"],[0.6,\"#e6f5d0\"],[0.7,\"#b8e186\"],[0.8,\"#7fbc41\"],[0.9,\"#4d9221\"],[1,\"#276419\"]]},\"xaxis\":{\"gridcolor\":\"white\",\"linecolor\":\"white\",\"ticks\":\"\",\"title\":{\"standoff\":15},\"zerolinecolor\":\"white\",\"automargin\":true,\"zerolinewidth\":2},\"yaxis\":{\"gridcolor\":\"white\",\"linecolor\":\"white\",\"ticks\":\"\",\"title\":{\"standoff\":15},\"zerolinecolor\":\"white\",\"automargin\":true,\"zerolinewidth\":2},\"scene\":{\"xaxis\":{\"backgroundcolor\":\"#E5ECF6\",\"gridcolor\":\"white\",\"linecolor\":\"white\",\"showbackground\":true,\"ticks\":\"\",\"zerolinecolor\":\"white\",\"gridwidth\":2},\"yaxis\":{\"backgroundcolor\":\"#E5ECF6\",\"gridcolor\":\"white\",\"linecolor\":\"white\",\"showbackground\":true,\"ticks\":\"\",\"zerolinecolor\":\"white\",\"gridwidth\":2},\"zaxis\":{\"backgroundcolor\":\"#E5ECF6\",\"gridcolor\":\"white\",\"linecolor\":\"white\",\"showbackground\":true,\"ticks\":\"\",\"zerolinecolor\":\"white\",\"gridwidth\":2}},\"shapedefaults\":{\"line\":{\"color\":\"#2a3f5f\"}},\"annotationdefaults\":{\"arrowcolor\":\"#2a3f5f\",\"arrowhead\":0,\"arrowwidth\":1},\"geo\":{\"bgcolor\":\"white\",\"landcolor\":\"#E5ECF6\",\"subunitcolor\":\"white\",\"showland\":true,\"showlakes\":true,\"lakecolor\":\"white\"},\"title\":{\"x\":0.05},\"mapbox\":{\"style\":\"light\"}}},\"mapbox\":{\"domain\":{\"x\":[0.0,1.0],\"y\":[0.0,1.0]},\"center\":{\"lat\":27.30890949868074,\"lon\":-3.9306346525945477},\"zoom\":1,\"style\":\"carto-darkmatter\"},\"coloraxis\":{\"colorbar\":{\"title\":{\"text\":\"magnitude\"}},\"colorscale\":[[0.0,\"#0d0887\"],[0.1111111111111111,\"#46039f\"],[0.2222222222222222,\"#7201a8\"],[0.3333333333333333,\"#9c179e\"],[0.4444444444444444,\"#bd3786\"],[0.5555555555555556,\"#d8576b\"],[0.6666666666666666,\"#ed7953\"],[0.7777777777777778,\"#fb9f3a\"],[0.8888888888888888,\"#fdca26\"],[1.0,\"#f0f921\"]]},\"legend\":{\"tracegroupgap\":0},\"margin\":{\"t\":60},\"height\":800},                        {\"responsive\": true}                    ).then(function(){\n",
       "                            \n",
       "var gd = document.getElementById('c5b3934e-c9e0-41ca-a89b-63760a6d2058');\n",
       "var x = new MutationObserver(function (mutations, observer) {{\n",
       "        var display = window.getComputedStyle(gd).display;\n",
       "        if (!display || display === 'none') {{\n",
       "            console.log([gd, 'removed!']);\n",
       "            Plotly.purge(gd);\n",
       "            observer.disconnect();\n",
       "        }}\n",
       "}});\n",
       "\n",
       "// Listen for the removal of the full notebook cells\n",
       "var notebookContainer = gd.closest('#notebook-container');\n",
       "if (notebookContainer) {{\n",
       "    x.observe(notebookContainer, {childList: true});\n",
       "}}\n",
       "\n",
       "// Listen for the clearing of the current output cell\n",
       "var outputEl = gd.closest('.output');\n",
       "if (outputEl) {{\n",
       "    x.observe(outputEl, {childList: true});\n",
       "}}\n",
       "\n",
       "                        })                };                });            </script>        </div>"
      ]
     },
     "metadata": {},
     "output_type": "display_data"
    }
   ],
   "source": [
    "from plotly import express\n",
    "\n",
    "express.scatter_mapbox(data_frame=df, lat='latitude', lon='longitude', color='magnitude', hover_name='location', mapbox_style='carto-darkmatter', zoom=1, height=800)"
   ]
  },
  {
   "cell_type": "markdown",
   "id": "0aa4c6ac",
   "metadata": {
    "papermill": {
     "duration": 0.003717,
     "end_time": "2024-09-28T13:50:26.320842",
     "exception": false,
     "start_time": "2024-09-28T13:50:26.317125",
     "status": "completed"
    },
    "tags": []
   },
   "source": [
    "We know that magnitude data is log data, meaning that a magnitude 5 earthquake is ten times bigger than a magnitude 4 earthquake. So we might expect to see lots more low magnitude earthquakes than high magnitude earthquakes."
   ]
  },
  {
   "cell_type": "code",
   "execution_count": 3,
   "id": "8a0450e6",
   "metadata": {
    "execution": {
     "iopub.execute_input": "2024-09-28T13:50:26.330593Z",
     "iopub.status.busy": "2024-09-28T13:50:26.330207Z",
     "iopub.status.idle": "2024-09-28T13:50:26.431208Z",
     "shell.execute_reply": "2024-09-28T13:50:26.429895Z"
    },
    "papermill": {
     "duration": 0.108803,
     "end_time": "2024-09-28T13:50:26.433760",
     "exception": false,
     "start_time": "2024-09-28T13:50:26.324957",
     "status": "completed"
    },
    "tags": []
   },
   "outputs": [
    {
     "data": {
      "text/html": [
       "<div>                            <div id=\"8601513f-1ff5-41ab-81a6-99435ff82ce6\" class=\"plotly-graph-div\" style=\"height:525px; width:100%;\"></div>            <script type=\"text/javascript\">                require([\"plotly\"], function(Plotly) {                    window.PLOTLYENV=window.PLOTLYENV || {};                                    if (document.getElementById(\"8601513f-1ff5-41ab-81a6-99435ff82ce6\")) {                    Plotly.newPlot(                        \"8601513f-1ff5-41ab-81a6-99435ff82ce6\",                        [{\"alignmentgroup\":\"True\",\"bingroup\":\"x\",\"hovertemplate\":\"magnitude=%{x}\\u003cbr\\u003ecount=%{y}\\u003cextra\\u003e\\u003c\\u002fextra\\u003e\",\"legendgroup\":\"\",\"marker\":{\"color\":\"#636efa\",\"pattern\":{\"shape\":\"\"}},\"name\":\"\",\"offsetgroup\":\"\",\"orientation\":\"v\",\"showlegend\":false,\"x\":[4.8,5.1,3.7,3.9,4.1,3.23,3.43,3.44,4.69,3.5,3.8,3.3,3.8,3.9,3.35,3.94,3.45,3.09,4.28,3.17,3.47,3.32,3.1,3.1,3.0,3.46,3.14,3.4,3.5,3.4,3.6,3.6,3.3,3.9,3.31,3.9,3.4,3.3,3.2,3.3,4.3,4.3,3.3,3.0,3.9,4.2,3.8,3.29,3.61,4.4,4.1,4.39,3.66,3.6,3.6,4.44,3.78,3.64,3.5,3.44,3.58,4.06,3.22,3.6,4.6,5.22,3.12,3.3,3.4,3.5,3.51,4.89,4.47,4.5,3.45,3.4,4.4,4.0,4.2,3.56,3.48,3.5,3.01,3.48,5.2,6.4,3.3,3.2,3.44,3.9,3.8,3.8,5.7,3.5,3.5,3.7,3.8,3.01,3.5,4.1,5.4,5.4,5.9,5.4,5.1,5.5,5.4,5.7,5.6,5.4,5.4,5.7,5.3,5.1,5.5,5.4,5.8,7.0,6.4,5.1,5.5,5.2,5.7,5.3,5.7,5.4,5.2,5.7,4.9,5.3,5.8,5.5,5.7,6.1,5.4,6.5,5.3,7.1,5.6,5.4,5.7,5.5,5.4,5.8,5.2,5.6,5.2,5.7,5.3,5.8,5.4,5.4,5.5,6.1,6.1,5.8,5.6,5.0,6.3,5.9,5.4,6.1,5.7,5.7,5.3,5.6,5.3,5.6,6.4,7.4,5.9,5.3,5.6,5.6,5.4,5.9,5.4,5.6,5.5,5.6,6.2,7.5,5.8,6.5,5.8,5.8,5.6,5.9,5.7,5.3,5.4,5.5,6.1,5.7,5.7,5.3,5.4,6.1,5.3,5.5,5.6,5.6,5.5,5.8,6.0,5.8,5.7,5.8,5.5,6.3,5.2,4.9,5.9,5.5,5.4,5.6,5.8,5.6,5.7,5.7,5.5,7.4,5.8,5.4,5.3,5.4,5.3,5.4,5.5,5.8,5.6,5.5,5.8,6.6,5.4,6.0,5.6,5.7,5.3,5.5,6.3,6.2,6.2,6.6,5.7,5.8,5.5,5.1,5.1,5.4,5.1,5.5,5.7,6.1,6.4,5.6,5.2,5.6,5.4,5.5,5.9,5.2,5.9,4.2,3.9,3.6,4.6,4.5,4.7,6.5,4.3,5.0,4.3,3.9,3.9,4.0,3.9,3.5,3.6,4.0,3.5,3.4,3.9,4.3,3.5,3.1,4.3,4.0,3.4,4.6,3.7,3.7,3.5,4.4,4.0,4.8,3.9,4.0,5.0,5.1,5.0,3.6,3.6,3.9,3.1,4.4,3.8,3.3,3.5,4.0,3.6,3.7,3.8,3.6,3.5,3.6,3.7,3.6,4.0,3.6,3.2,3.8,3.5,3.1,3.5,3.7,3.5,3.8,4.0,3.6,3.6,5.6,5.4,5.4,3.8,4.6,4.1,5.1,4.8,5.2,3.9,3.5,4.5,3.5,4.2,3.9,3.7,4.0,4.6,4.2,4.4,4.7,3.5,3.6,3.9,3.6,6.0,5.9,3.7,3.9,4.1,3.6,4.2,5.6,5.8,5.4,5.4,4.8,5.2,5.5,5.3,4.8,5.1,3.9,4.1,3.8,3.3,3.8,3.9,3.4,3.6,3.6,3.3,6.1,3.9,3.9,4.2,3.8,3.6,3.6,3.6,3.6,5.4,3.3,3.4,3.5,3.6,3.8,4.1,4.5,4.8,5.1,4.1,4.0,3.4,4.4,4.9,4.0,4.2,6.2,3.7,3.6,3.5,3.5,3.7,3.8,3.3,3.4,3.7,3.9,3.7,3.5,4.1,3.8,3.9,3.4,6.4,3.8,3.5,3.5,3.3,3.5,3.2,3.5,3.8,3.6,3.9,5.4,5.6,5.5,3.3,4.4,5.0,3.2,3.4,5.6,5.6,3.5,3.8,3.3,3.3,3.5,3.9,3.8,3.5,3.5,4.0,3.3,3.6,3.7,3.7,3.7,4.7,4.7,4.3,4.4,3.9,3.9,3.9,3.9,3.5,5.1,4.9,5.1,5.7,5.5,5.1,5.4,5.3,5.5,5.1,6.4,5.4,4.8,5.3,5.0,5.5,5.4,6.3,6.3,5.9,6.3,5.4,6.3,5.2,5.8,5.3,5.5,5.7,5.4,6.5,5.3,7.1,5.6,5.4,5.7,5.5,5.4,5.8,5.3,6.3,5.9,5.4,6.1,5.7,5.9,5.3,5.6,5.6,5.4,5.9,5.4,5.6,5.5,5.6,6.2,7.5,5.8,6.5,5.8,5.8,5.6,5.9,5.7,5.3,5.4,5.5,6.1,5.7,5.7,5.3,5.4,6.1,5.3,5.5,5.6,5.6,5.5,5.8,6.0,5.8,5.7,5.8,5.5,6.3,5.2,4.9,5.9,5.5,5.4,5.8,5.6,4.2,3.7,4.7,6.5,3.9,4.1,3.23,3.43,3.44,4.69,3.5,3.8,3.3,3.8,3.9,3.35,3.94,3.45,3.09,4.28,3.17,3.47,3.32,3.1,3.1,3.0,3.46,3.14,3.4,3.5,3.6,3.3,3.9,3.31,3.9,3.4,3.3,3.2,3.3,4.3,4.3,3.3,3.0,3.9,4.2,3.29,3.61,4.4,4.1,4.39,3.66,4.44,3.78,3.64,3.5,3.44,3.58,4.06,3.22,3.6,4.6,5.22,3.12,3.3,3.4,3.5,3.51,4.89,4.47,3.45,3.4,4.4,4.0,4.2,3.56,3.48,3.5,3.01,3.48,5.2,6.4,3.3,3.2,3.44,3.9,3.8,3.8,5.7,3.5,3.5,3.7,3.8,3.01,3.5,4.1,3.86,3.24,3.44,4.09,3.59,5.5,5.4,5.5,5.7,5.0,6.3,6.8,5.4,7.1,5.4,5.6,5.8,5.2,5.5,5.0,5.7,6.1,6.4,5.7,6.4,5.6,5.7,6.0,5.2,5.4,5.4,5.1,4.9,5.6,5.3,5.4,5.8,5.6,5.6,6.7,5.3,5.4,4.9,5.8,5.5,5.7,5.2,5.3,5.7,5.3,5.3,5.5,5.4,5.3,6.9,6.0,5.4,5.4,5.6,5.5,5.7,6.6,5.4,5.5,6.0,5.4,5.3,5.4,6.3,5.6,5.4,5.4,5.6,6.1,5.7,5.4,5.7,5.6,6.4,5.5,5.4,5.4,5.8,5.4,5.4,7.6,6.0,6.7,5.8,5.2,5.7,6.1,5.4,5.5,5.9,6.4,5.9,6.0,6.0,5.6,5.4,5.7,5.5,7.1,5.3,5.5,5.7,5.4,6.5,5.3,7.1,5.6,5.4,5.7,5.5,5.4,5.8,5.3,6.3,5.9,5.4,6.1,5.7,5.9,5.3,5.6,5.6,5.4,5.9,5.4,5.6,5.5,5.6,6.2,7.5,5.8,6.5,5.8,5.8,5.6,5.9,5.7,5.3,5.4,5.5,6.1,5.7,5.7,5.3,5.4,6.1,5.3,5.5,5.6,5.6,5.5,5.8,6.0,5.8,5.7,5.8,5.5,6.3,5.2,4.9,5.9,5.5,5.4,5.8,5.6,4.8,5.1,3.9,4.1,3.8,3.3,3.8,3.9,3.4,3.6,3.6,3.3,3.9,3.9,4.2,3.8,3.6,3.6,3.6,3.6,3.17,5.4,3.3,3.4,3.5,3.6,3.8,4.1,4.5,4.8,5.1,4.1,4.0,3.4,4.4,4.9,4.0,4.2,3.7,3.6,3.56,3.46,3.44,3.5,3.5,3.7,3.8,3.3,3.4,3.7,3.9,3.7,3.5,4.1,3.8,3.9,3.4,3.8,3.8,3.5,3.5,3.3,3.5,3.2,3.5,3.8,3.6,3.9,5.4,5.6,3.3,4.4,3.2,3.4,3.5,3.8,3.3,3.3,3.5,3.9,3.5,3.5,4.0,3.3,3.6,3.7,3.7,3.7,4.7,4.7,4.3,4.4,3.9,3.9,3.9,3.5,3.8,3.7,4.0,5.06,5.4,5.4,5.7,5.5,7.4,5.6,5.8,5.4,5.4,6.1,7.2,5.5,6.0,6.5,5.3,5.3,6.6,5.4,5.6,6.2,5.5,5.7,5.8,6.0,5.6,5.7,5.3,5.5,6.2,5.4,5.4,5.8,5.5,5.7,6.1,5.4,6.5,5.3,7.1,5.6,5.4,5.7,5.5,5.4,5.8,5.2,5.6,5.2,5.7,5.3,5.8,5.4,5.4,5.5,6.1,6.1,5.8,5.6,5.0,6.3,5.9,5.4,6.1,5.7,5.7,5.3,5.6,5.3,5.6,6.4,7.4,5.9,5.3,5.6,5.6,5.4,5.9,5.4,5.6,5.5,5.6,6.2,7.5,5.8,5.8,5.9,5.7,5.3,5.4,5.5,6.1,5.7,5.7,5.3,5.4,6.1,5.3,5.5,5.6,5.6,5.5,5.8,6.0,5.7,5.8,5.5,6.3,5.2,5.9,5.5,5.4,5.4,5.8,5.6,3.8,3.17,3.56,3.46,3.8,3.7,4.8,5.06,5.1,3.6,4.1,4.5,4.26,3.4,3.8,3.5,3.6,4.0,3.68,3.6,5.7,5.5,7.4,5.8,5.4,5.3,5.4,5.3,5.4,5.5,5.8,5.6,5.5,6.6,5.4,6.0,5.6,5.7,5.3,5.5,6.3,6.2,6.2,6.6,5.7,5.8,5.6,5.8,5.4,5.4,4.8,5.2,5.5,5.3,5.4,5.8,5.4,5.4,5.4,5.6,5.2,5.5,5.5,5.4,5.4,5.1,5.5,5.4,5.3,5.5,5.1,5.4,5.7,5.3,5.1,5.5,5.4,5.8,7.0,6.4,5.1,5.3,5.7,5.2,5.3,5.0,5.5,5.4,6.3,6.3,5.9,6.3,5.4,6.3,5.7,5.8],\"xaxis\":\"x\",\"yaxis\":\"y\",\"type\":\"histogram\"}],                        {\"template\":{\"data\":{\"histogram2dcontour\":[{\"type\":\"histogram2dcontour\",\"colorbar\":{\"outlinewidth\":0,\"ticks\":\"\"},\"colorscale\":[[0.0,\"#0d0887\"],[0.1111111111111111,\"#46039f\"],[0.2222222222222222,\"#7201a8\"],[0.3333333333333333,\"#9c179e\"],[0.4444444444444444,\"#bd3786\"],[0.5555555555555556,\"#d8576b\"],[0.6666666666666666,\"#ed7953\"],[0.7777777777777778,\"#fb9f3a\"],[0.8888888888888888,\"#fdca26\"],[1.0,\"#f0f921\"]]}],\"choropleth\":[{\"type\":\"choropleth\",\"colorbar\":{\"outlinewidth\":0,\"ticks\":\"\"}}],\"histogram2d\":[{\"type\":\"histogram2d\",\"colorbar\":{\"outlinewidth\":0,\"ticks\":\"\"},\"colorscale\":[[0.0,\"#0d0887\"],[0.1111111111111111,\"#46039f\"],[0.2222222222222222,\"#7201a8\"],[0.3333333333333333,\"#9c179e\"],[0.4444444444444444,\"#bd3786\"],[0.5555555555555556,\"#d8576b\"],[0.6666666666666666,\"#ed7953\"],[0.7777777777777778,\"#fb9f3a\"],[0.8888888888888888,\"#fdca26\"],[1.0,\"#f0f921\"]]}],\"heatmap\":[{\"type\":\"heatmap\",\"colorbar\":{\"outlinewidth\":0,\"ticks\":\"\"},\"colorscale\":[[0.0,\"#0d0887\"],[0.1111111111111111,\"#46039f\"],[0.2222222222222222,\"#7201a8\"],[0.3333333333333333,\"#9c179e\"],[0.4444444444444444,\"#bd3786\"],[0.5555555555555556,\"#d8576b\"],[0.6666666666666666,\"#ed7953\"],[0.7777777777777778,\"#fb9f3a\"],[0.8888888888888888,\"#fdca26\"],[1.0,\"#f0f921\"]]}],\"heatmapgl\":[{\"type\":\"heatmapgl\",\"colorbar\":{\"outlinewidth\":0,\"ticks\":\"\"},\"colorscale\":[[0.0,\"#0d0887\"],[0.1111111111111111,\"#46039f\"],[0.2222222222222222,\"#7201a8\"],[0.3333333333333333,\"#9c179e\"],[0.4444444444444444,\"#bd3786\"],[0.5555555555555556,\"#d8576b\"],[0.6666666666666666,\"#ed7953\"],[0.7777777777777778,\"#fb9f3a\"],[0.8888888888888888,\"#fdca26\"],[1.0,\"#f0f921\"]]}],\"contourcarpet\":[{\"type\":\"contourcarpet\",\"colorbar\":{\"outlinewidth\":0,\"ticks\":\"\"}}],\"contour\":[{\"type\":\"contour\",\"colorbar\":{\"outlinewidth\":0,\"ticks\":\"\"},\"colorscale\":[[0.0,\"#0d0887\"],[0.1111111111111111,\"#46039f\"],[0.2222222222222222,\"#7201a8\"],[0.3333333333333333,\"#9c179e\"],[0.4444444444444444,\"#bd3786\"],[0.5555555555555556,\"#d8576b\"],[0.6666666666666666,\"#ed7953\"],[0.7777777777777778,\"#fb9f3a\"],[0.8888888888888888,\"#fdca26\"],[1.0,\"#f0f921\"]]}],\"surface\":[{\"type\":\"surface\",\"colorbar\":{\"outlinewidth\":0,\"ticks\":\"\"},\"colorscale\":[[0.0,\"#0d0887\"],[0.1111111111111111,\"#46039f\"],[0.2222222222222222,\"#7201a8\"],[0.3333333333333333,\"#9c179e\"],[0.4444444444444444,\"#bd3786\"],[0.5555555555555556,\"#d8576b\"],[0.6666666666666666,\"#ed7953\"],[0.7777777777777778,\"#fb9f3a\"],[0.8888888888888888,\"#fdca26\"],[1.0,\"#f0f921\"]]}],\"mesh3d\":[{\"type\":\"mesh3d\",\"colorbar\":{\"outlinewidth\":0,\"ticks\":\"\"}}],\"scatter\":[{\"fillpattern\":{\"fillmode\":\"overlay\",\"size\":10,\"solidity\":0.2},\"type\":\"scatter\"}],\"parcoords\":[{\"type\":\"parcoords\",\"line\":{\"colorbar\":{\"outlinewidth\":0,\"ticks\":\"\"}}}],\"scatterpolargl\":[{\"type\":\"scatterpolargl\",\"marker\":{\"colorbar\":{\"outlinewidth\":0,\"ticks\":\"\"}}}],\"bar\":[{\"error_x\":{\"color\":\"#2a3f5f\"},\"error_y\":{\"color\":\"#2a3f5f\"},\"marker\":{\"line\":{\"color\":\"#E5ECF6\",\"width\":0.5},\"pattern\":{\"fillmode\":\"overlay\",\"size\":10,\"solidity\":0.2}},\"type\":\"bar\"}],\"scattergeo\":[{\"type\":\"scattergeo\",\"marker\":{\"colorbar\":{\"outlinewidth\":0,\"ticks\":\"\"}}}],\"scatterpolar\":[{\"type\":\"scatterpolar\",\"marker\":{\"colorbar\":{\"outlinewidth\":0,\"ticks\":\"\"}}}],\"histogram\":[{\"marker\":{\"pattern\":{\"fillmode\":\"overlay\",\"size\":10,\"solidity\":0.2}},\"type\":\"histogram\"}],\"scattergl\":[{\"type\":\"scattergl\",\"marker\":{\"colorbar\":{\"outlinewidth\":0,\"ticks\":\"\"}}}],\"scatter3d\":[{\"type\":\"scatter3d\",\"line\":{\"colorbar\":{\"outlinewidth\":0,\"ticks\":\"\"}},\"marker\":{\"colorbar\":{\"outlinewidth\":0,\"ticks\":\"\"}}}],\"scattermapbox\":[{\"type\":\"scattermapbox\",\"marker\":{\"colorbar\":{\"outlinewidth\":0,\"ticks\":\"\"}}}],\"scatterternary\":[{\"type\":\"scatterternary\",\"marker\":{\"colorbar\":{\"outlinewidth\":0,\"ticks\":\"\"}}}],\"scattercarpet\":[{\"type\":\"scattercarpet\",\"marker\":{\"colorbar\":{\"outlinewidth\":0,\"ticks\":\"\"}}}],\"carpet\":[{\"aaxis\":{\"endlinecolor\":\"#2a3f5f\",\"gridcolor\":\"white\",\"linecolor\":\"white\",\"minorgridcolor\":\"white\",\"startlinecolor\":\"#2a3f5f\"},\"baxis\":{\"endlinecolor\":\"#2a3f5f\",\"gridcolor\":\"white\",\"linecolor\":\"white\",\"minorgridcolor\":\"white\",\"startlinecolor\":\"#2a3f5f\"},\"type\":\"carpet\"}],\"table\":[{\"cells\":{\"fill\":{\"color\":\"#EBF0F8\"},\"line\":{\"color\":\"white\"}},\"header\":{\"fill\":{\"color\":\"#C8D4E3\"},\"line\":{\"color\":\"white\"}},\"type\":\"table\"}],\"barpolar\":[{\"marker\":{\"line\":{\"color\":\"#E5ECF6\",\"width\":0.5},\"pattern\":{\"fillmode\":\"overlay\",\"size\":10,\"solidity\":0.2}},\"type\":\"barpolar\"}],\"pie\":[{\"automargin\":true,\"type\":\"pie\"}]},\"layout\":{\"autotypenumbers\":\"strict\",\"colorway\":[\"#636efa\",\"#EF553B\",\"#00cc96\",\"#ab63fa\",\"#FFA15A\",\"#19d3f3\",\"#FF6692\",\"#B6E880\",\"#FF97FF\",\"#FECB52\"],\"font\":{\"color\":\"#2a3f5f\"},\"hovermode\":\"closest\",\"hoverlabel\":{\"align\":\"left\"},\"paper_bgcolor\":\"white\",\"plot_bgcolor\":\"#E5ECF6\",\"polar\":{\"bgcolor\":\"#E5ECF6\",\"angularaxis\":{\"gridcolor\":\"white\",\"linecolor\":\"white\",\"ticks\":\"\"},\"radialaxis\":{\"gridcolor\":\"white\",\"linecolor\":\"white\",\"ticks\":\"\"}},\"ternary\":{\"bgcolor\":\"#E5ECF6\",\"aaxis\":{\"gridcolor\":\"white\",\"linecolor\":\"white\",\"ticks\":\"\"},\"baxis\":{\"gridcolor\":\"white\",\"linecolor\":\"white\",\"ticks\":\"\"},\"caxis\":{\"gridcolor\":\"white\",\"linecolor\":\"white\",\"ticks\":\"\"}},\"coloraxis\":{\"colorbar\":{\"outlinewidth\":0,\"ticks\":\"\"}},\"colorscale\":{\"sequential\":[[0.0,\"#0d0887\"],[0.1111111111111111,\"#46039f\"],[0.2222222222222222,\"#7201a8\"],[0.3333333333333333,\"#9c179e\"],[0.4444444444444444,\"#bd3786\"],[0.5555555555555556,\"#d8576b\"],[0.6666666666666666,\"#ed7953\"],[0.7777777777777778,\"#fb9f3a\"],[0.8888888888888888,\"#fdca26\"],[1.0,\"#f0f921\"]],\"sequentialminus\":[[0.0,\"#0d0887\"],[0.1111111111111111,\"#46039f\"],[0.2222222222222222,\"#7201a8\"],[0.3333333333333333,\"#9c179e\"],[0.4444444444444444,\"#bd3786\"],[0.5555555555555556,\"#d8576b\"],[0.6666666666666666,\"#ed7953\"],[0.7777777777777778,\"#fb9f3a\"],[0.8888888888888888,\"#fdca26\"],[1.0,\"#f0f921\"]],\"diverging\":[[0,\"#8e0152\"],[0.1,\"#c51b7d\"],[0.2,\"#de77ae\"],[0.3,\"#f1b6da\"],[0.4,\"#fde0ef\"],[0.5,\"#f7f7f7\"],[0.6,\"#e6f5d0\"],[0.7,\"#b8e186\"],[0.8,\"#7fbc41\"],[0.9,\"#4d9221\"],[1,\"#276419\"]]},\"xaxis\":{\"gridcolor\":\"white\",\"linecolor\":\"white\",\"ticks\":\"\",\"title\":{\"standoff\":15},\"zerolinecolor\":\"white\",\"automargin\":true,\"zerolinewidth\":2},\"yaxis\":{\"gridcolor\":\"white\",\"linecolor\":\"white\",\"ticks\":\"\",\"title\":{\"standoff\":15},\"zerolinecolor\":\"white\",\"automargin\":true,\"zerolinewidth\":2},\"scene\":{\"xaxis\":{\"backgroundcolor\":\"#E5ECF6\",\"gridcolor\":\"white\",\"linecolor\":\"white\",\"showbackground\":true,\"ticks\":\"\",\"zerolinecolor\":\"white\",\"gridwidth\":2},\"yaxis\":{\"backgroundcolor\":\"#E5ECF6\",\"gridcolor\":\"white\",\"linecolor\":\"white\",\"showbackground\":true,\"ticks\":\"\",\"zerolinecolor\":\"white\",\"gridwidth\":2},\"zaxis\":{\"backgroundcolor\":\"#E5ECF6\",\"gridcolor\":\"white\",\"linecolor\":\"white\",\"showbackground\":true,\"ticks\":\"\",\"zerolinecolor\":\"white\",\"gridwidth\":2}},\"shapedefaults\":{\"line\":{\"color\":\"#2a3f5f\"}},\"annotationdefaults\":{\"arrowcolor\":\"#2a3f5f\",\"arrowhead\":0,\"arrowwidth\":1},\"geo\":{\"bgcolor\":\"white\",\"landcolor\":\"#E5ECF6\",\"subunitcolor\":\"white\",\"showland\":true,\"showlakes\":true,\"lakecolor\":\"white\"},\"title\":{\"x\":0.05},\"mapbox\":{\"style\":\"light\"}}},\"xaxis\":{\"anchor\":\"y\",\"domain\":[0.0,1.0],\"title\":{\"text\":\"magnitude\"}},\"yaxis\":{\"anchor\":\"x\",\"domain\":[0.0,1.0],\"title\":{\"text\":\"count\"}},\"legend\":{\"tracegroupgap\":0},\"margin\":{\"t\":60},\"barmode\":\"relative\"},                        {\"responsive\": true}                    ).then(function(){\n",
       "                            \n",
       "var gd = document.getElementById('8601513f-1ff5-41ab-81a6-99435ff82ce6');\n",
       "var x = new MutationObserver(function (mutations, observer) {{\n",
       "        var display = window.getComputedStyle(gd).display;\n",
       "        if (!display || display === 'none') {{\n",
       "            console.log([gd, 'removed!']);\n",
       "            Plotly.purge(gd);\n",
       "            observer.disconnect();\n",
       "        }}\n",
       "}});\n",
       "\n",
       "// Listen for the removal of the full notebook cells\n",
       "var notebookContainer = gd.closest('#notebook-container');\n",
       "if (notebookContainer) {{\n",
       "    x.observe(notebookContainer, {childList: true});\n",
       "}}\n",
       "\n",
       "// Listen for the clearing of the current output cell\n",
       "var outputEl = gd.closest('.output');\n",
       "if (outputEl) {{\n",
       "    x.observe(outputEl, {childList: true});\n",
       "}}\n",
       "\n",
       "                        })                };                });            </script>        </div>"
      ]
     },
     "metadata": {},
     "output_type": "display_data"
    }
   ],
   "source": [
    "express.histogram(data_frame=df, x='magnitude')"
   ]
  },
  {
   "cell_type": "markdown",
   "id": "cf2d11c3",
   "metadata": {
    "papermill": {
     "duration": 0.004201,
     "end_time": "2024-09-28T13:50:26.442579",
     "exception": false,
     "start_time": "2024-09-28T13:50:26.438378",
     "status": "completed"
    },
    "tags": []
   },
   "source": [
    "Instead we see a bimodal distribution with a mode at 5.5 and another in the 3-4 range. What does this mean? It probably means our dataset is missing a lot of earthquakes that happened in places without especially sensitive sensors that could register a small earthquake."
   ]
  }
 ],
 "metadata": {
  "kaggle": {
   "accelerator": "none",
   "dataSources": [
    {
     "datasetId": 5728017,
     "sourceId": 9436712,
     "sourceType": "datasetVersion"
    }
   ],
   "dockerImageVersionId": 30775,
   "isGpuEnabled": false,
   "isInternetEnabled": true,
   "language": "python",
   "sourceType": "notebook"
  },
  "kernelspec": {
   "display_name": "Python 3",
   "language": "python",
   "name": "python3"
  },
  "language_info": {
   "codemirror_mode": {
    "name": "ipython",
    "version": 3
   },
   "file_extension": ".py",
   "mimetype": "text/x-python",
   "name": "python",
   "nbconvert_exporter": "python",
   "pygments_lexer": "ipython3",
   "version": "3.10.14"
  },
  "papermill": {
   "default_parameters": {},
   "duration": 7.878143,
   "end_time": "2024-09-28T13:50:27.069101",
   "environment_variables": {},
   "exception": null,
   "input_path": "__notebook__.ipynb",
   "output_path": "__notebook__.ipynb",
   "parameters": {},
   "start_time": "2024-09-28T13:50:19.190958",
   "version": "2.6.0"
  }
 },
 "nbformat": 4,
 "nbformat_minor": 5
}
