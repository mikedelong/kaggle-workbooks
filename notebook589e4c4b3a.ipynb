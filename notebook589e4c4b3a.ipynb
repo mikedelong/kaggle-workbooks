{
 "cells": [
  {
   "cell_type": "code",
   "execution_count": 1,
   "id": "16a1d226",
   "metadata": {
    "_cell_guid": "b1076dfc-b9ad-4769-8c92-a6c4dae69d19",
    "_uuid": "8f2839f25d086af736a60e9eeb907d3b93b6e0e5",
    "execution": {
     "iopub.execute_input": "2024-06-06T19:09:29.208942Z",
     "iopub.status.busy": "2024-06-06T19:09:29.208558Z",
     "iopub.status.idle": "2024-06-06T19:09:30.189159Z",
     "shell.execute_reply": "2024-06-06T19:09:30.187891Z"
    },
    "papermill": {
     "duration": 0.98883,
     "end_time": "2024-06-06T19:09:30.191698",
     "exception": false,
     "start_time": "2024-06-06T19:09:29.202868",
     "status": "completed"
    },
    "tags": []
   },
   "outputs": [
    {
     "data": {
      "text/html": [
       "<div>\n",
       "<style scoped>\n",
       "    .dataframe tbody tr th:only-of-type {\n",
       "        vertical-align: middle;\n",
       "    }\n",
       "\n",
       "    .dataframe tbody tr th {\n",
       "        vertical-align: top;\n",
       "    }\n",
       "\n",
       "    .dataframe thead th {\n",
       "        text-align: right;\n",
       "    }\n",
       "</style>\n",
       "<table border=\"1\" class=\"dataframe\">\n",
       "  <thead>\n",
       "    <tr style=\"text-align: right;\">\n",
       "      <th></th>\n",
       "      <th>country</th>\n",
       "      <th>TwoLetterID</th>\n",
       "      <th>unMember</th>\n",
       "      <th>pop1980</th>\n",
       "      <th>pop2000</th>\n",
       "      <th>pop2010</th>\n",
       "      <th>pop2023</th>\n",
       "      <th>pop2024</th>\n",
       "      <th>pop2030</th>\n",
       "      <th>pop2050</th>\n",
       "      <th>landAreaKm</th>\n",
       "      <th>2024YoYChange</th>\n",
       "      <th>2024YoYGrowthRate</th>\n",
       "      <th>2024WorldPercentage</th>\n",
       "      <th>Density_2024</th>\n",
       "    </tr>\n",
       "    <tr>\n",
       "      <th>rank</th>\n",
       "      <th></th>\n",
       "      <th></th>\n",
       "      <th></th>\n",
       "      <th></th>\n",
       "      <th></th>\n",
       "      <th></th>\n",
       "      <th></th>\n",
       "      <th></th>\n",
       "      <th></th>\n",
       "      <th></th>\n",
       "      <th></th>\n",
       "      <th></th>\n",
       "      <th></th>\n",
       "      <th></th>\n",
       "      <th></th>\n",
       "    </tr>\n",
       "  </thead>\n",
       "  <tbody>\n",
       "    <tr>\n",
       "      <th>1</th>\n",
       "      <td>India</td>\n",
       "      <td>IN</td>\n",
       "      <td>True</td>\n",
       "      <td>696828385</td>\n",
       "      <td>1059633675</td>\n",
       "      <td>1240613620</td>\n",
       "      <td>1428627663</td>\n",
       "      <td>1441719852</td>\n",
       "      <td>1514994080</td>\n",
       "      <td>1670490596</td>\n",
       "      <td>2973190.0</td>\n",
       "      <td>13092189</td>\n",
       "      <td>0.009164</td>\n",
       "      <td>0.177614</td>\n",
       "      <td>484.906734</td>\n",
       "    </tr>\n",
       "    <tr>\n",
       "      <th>2</th>\n",
       "      <td>China</td>\n",
       "      <td>CN</td>\n",
       "      <td>True</td>\n",
       "      <td>982372466</td>\n",
       "      <td>1264099069</td>\n",
       "      <td>1348191368</td>\n",
       "      <td>1425671352</td>\n",
       "      <td>1425178782</td>\n",
       "      <td>1415605906</td>\n",
       "      <td>1312636325</td>\n",
       "      <td>9424702.9</td>\n",
       "      <td>-492570</td>\n",
       "      <td>-0.000346</td>\n",
       "      <td>0.175577</td>\n",
       "      <td>151.217370</td>\n",
       "    </tr>\n",
       "    <tr>\n",
       "      <th>3</th>\n",
       "      <td>United States</td>\n",
       "      <td>US</td>\n",
       "      <td>True</td>\n",
       "      <td>223140018</td>\n",
       "      <td>282398554</td>\n",
       "      <td>311182845</td>\n",
       "      <td>339996563</td>\n",
       "      <td>341814420</td>\n",
       "      <td>352162301</td>\n",
       "      <td>375391963</td>\n",
       "      <td>9147420.0</td>\n",
       "      <td>1817857</td>\n",
       "      <td>0.005347</td>\n",
       "      <td>0.042110</td>\n",
       "      <td>37.367304</td>\n",
       "    </tr>\n",
       "    <tr>\n",
       "      <th>4</th>\n",
       "      <td>Indonesia</td>\n",
       "      <td>ID</td>\n",
       "      <td>True</td>\n",
       "      <td>148177096</td>\n",
       "      <td>214072421</td>\n",
       "      <td>244016173</td>\n",
       "      <td>277534122</td>\n",
       "      <td>279798049</td>\n",
       "      <td>292150100</td>\n",
       "      <td>317225213</td>\n",
       "      <td>1877519.0</td>\n",
       "      <td>2263927</td>\n",
       "      <td>0.008157</td>\n",
       "      <td>0.034470</td>\n",
       "      <td>149.025416</td>\n",
       "    </tr>\n",
       "    <tr>\n",
       "      <th>5</th>\n",
       "      <td>Pakistan</td>\n",
       "      <td>PK</td>\n",
       "      <td>True</td>\n",
       "      <td>80624057</td>\n",
       "      <td>154369924</td>\n",
       "      <td>194454498</td>\n",
       "      <td>240485658</td>\n",
       "      <td>245209815</td>\n",
       "      <td>274029836</td>\n",
       "      <td>367808468</td>\n",
       "      <td>770880.0</td>\n",
       "      <td>4724157</td>\n",
       "      <td>0.019644</td>\n",
       "      <td>0.030209</td>\n",
       "      <td>318.090773</td>\n",
       "    </tr>\n",
       "  </tbody>\n",
       "</table>\n",
       "</div>"
      ],
      "text/plain": [
       "            country TwoLetterID  unMember    pop1980     pop2000     pop2010  \\\n",
       "rank                                                                           \n",
       "1             India          IN      True  696828385  1059633675  1240613620   \n",
       "2             China          CN      True  982372466  1264099069  1348191368   \n",
       "3     United States          US      True  223140018   282398554   311182845   \n",
       "4         Indonesia          ID      True  148177096   214072421   244016173   \n",
       "5          Pakistan          PK      True   80624057   154369924   194454498   \n",
       "\n",
       "         pop2023     pop2024     pop2030     pop2050  landAreaKm  \\\n",
       "rank                                                               \n",
       "1     1428627663  1441719852  1514994080  1670490596   2973190.0   \n",
       "2     1425671352  1425178782  1415605906  1312636325   9424702.9   \n",
       "3      339996563   341814420   352162301   375391963   9147420.0   \n",
       "4      277534122   279798049   292150100   317225213   1877519.0   \n",
       "5      240485658   245209815   274029836   367808468    770880.0   \n",
       "\n",
       "      2024YoYChange  2024YoYGrowthRate  2024WorldPercentage  Density_2024  \n",
       "rank                                                                       \n",
       "1          13092189           0.009164             0.177614    484.906734  \n",
       "2           -492570          -0.000346             0.175577    151.217370  \n",
       "3           1817857           0.005347             0.042110     37.367304  \n",
       "4           2263927           0.008157             0.034470    149.025416  \n",
       "5           4724157           0.019644             0.030209    318.090773  "
      ]
     },
     "execution_count": 1,
     "metadata": {},
     "output_type": "execute_result"
    }
   ],
   "source": [
    "import pandas as pd\n",
    "\n",
    "POPULATION = '/kaggle/input/2024-population-projections-by-country/2024Populations.csv'\n",
    "\n",
    "df = pd.read_csv(filepath_or_buffer=POPULATION, index_col=['rank'])\n",
    "df.head()"
   ]
  },
  {
   "cell_type": "markdown",
   "id": "25ba9063",
   "metadata": {
    "papermill": {
     "duration": 0.003191,
     "end_time": "2024-06-06T19:09:30.198768",
     "exception": false,
     "start_time": "2024-06-06T19:09:30.195577",
     "status": "completed"
    },
    "tags": []
   },
   "source": [
    "Almost all of our data has population embedded in it, and population is highly unevenly distributed across countries. Let's try to plot the two variables that are not just proxies for population against each other."
   ]
  },
  {
   "cell_type": "code",
   "execution_count": 2,
   "id": "d11d63b1",
   "metadata": {
    "execution": {
     "iopub.execute_input": "2024-06-06T19:09:30.207792Z",
     "iopub.status.busy": "2024-06-06T19:09:30.207385Z",
     "iopub.status.idle": "2024-06-06T19:09:32.810765Z",
     "shell.execute_reply": "2024-06-06T19:09:32.809572Z"
    },
    "papermill": {
     "duration": 2.610914,
     "end_time": "2024-06-06T19:09:32.813398",
     "exception": false,
     "start_time": "2024-06-06T19:09:30.202484",
     "status": "completed"
    },
    "tags": []
   },
   "outputs": [
    {
     "data": {
      "text/html": [
       "        <script type=\"text/javascript\">\n",
       "        window.PlotlyConfig = {MathJaxConfig: 'local'};\n",
       "        if (window.MathJax && window.MathJax.Hub && window.MathJax.Hub.Config) {window.MathJax.Hub.Config({SVG: {font: \"STIX-Web\"}});}\n",
       "        if (typeof require !== 'undefined') {\n",
       "        require.undef(\"plotly\");\n",
       "        requirejs.config({\n",
       "            paths: {\n",
       "                'plotly': ['https://cdn.plot.ly/plotly-2.27.0.min']\n",
       "            }\n",
       "        });\n",
       "        require(['plotly'], function(Plotly) {\n",
       "            window._Plotly = Plotly;\n",
       "        });\n",
       "        }\n",
       "        </script>\n",
       "        "
      ]
     },
     "metadata": {},
     "output_type": "display_data"
    },
    {
     "data": {
      "text/html": [
       "<div>                            <div id=\"82756aba-bea9-46da-aa22-218529bab6a8\" class=\"plotly-graph-div\" style=\"height:525px; width:100%;\"></div>            <script type=\"text/javascript\">                require([\"plotly\"], function(Plotly) {                    window.PLOTLYENV=window.PLOTLYENV || {};                                    if (document.getElementById(\"82756aba-bea9-46da-aa22-218529bab6a8\")) {                    Plotly.newPlot(                        \"82756aba-bea9-46da-aa22-218529bab6a8\",                        [{\"hovertemplate\":\"\\u003cb\\u003e%{hovertext}\\u003c\\u002fb\\u003e\\u003cbr\\u003e\\u003cbr\\u003eunMember=True\\u003cbr\\u003eDensity_2024=%{x}\\u003cbr\\u003e2024YoYGrowthRate=%{y}\\u003cextra\\u003e\\u003c\\u002fextra\\u003e\",\"hovertext\":[\"India\",\"China\",\"United States\",\"Indonesia\",\"Pakistan\",\"Nigeria\",\"Brazil\",\"Bangladesh\",\"Russia\",\"Ethiopia\",\"Mexico\",\"Japan\",\"Philippines\",\"Egypt\",\"DR Congo\",\"Vietnam\",\"Iran\",\"Turkey\",\"Germany\",\"Thailand\",\"Tanzania\",\"United Kingdom\",\"France\",\"South Africa\",\"Italy\",\"Kenya\",\"Myanmar\",\"Colombia\",\"South Korea\",\"Uganda\",\"Sudan\",\"Spain\",\"Iraq\",\"Algeria\",\"Argentina\",\"Afghanistan\",\"Poland\",\"Canada\",\"Morocco\",\"Ukraine\",\"Angola\",\"Saudi Arabia\",\"Uzbekistan\",\"Yemen\",\"Mozambique\",\"Ghana\",\"Peru\",\"Malaysia\",\"Nepal\",\"Madagascar\",\"Ivory Coast\",\"Venezuela\",\"Cameroon\",\"Niger\",\"Australia\",\"North Korea\",\"Syria\",\"Mali\",\"Burkina Faso\",\"Sri Lanka\",\"Malawi\",\"Zambia\",\"Kazakhstan\",\"Chile\",\"Romania\",\"Chad\",\"Somalia\",\"Ecuador\",\"Guatemala\",\"Senegal\",\"Netherlands\",\"Cambodia\",\"Zimbabwe\",\"Guinea\",\"Rwanda\",\"Benin\",\"Burundi\",\"Bolivia\",\"Tunisia\",\"Haiti\",\"Belgium\",\"Dominican Republic\",\"Jordan\",\"South Sudan\",\"Cuba\",\"Honduras\",\"Sweden\",\"Papua New Guinea\",\"Czech Republic\",\"Azerbaijan\",\"Tajikistan\",\"Greece\",\"Portugal\",\"Hungary\",\"United Arab Emirates\",\"Belarus\",\"Israel\",\"Togo\",\"Sierra Leone\",\"Austria\",\"Switzerland\",\"Laos\",\"Nicaragua\",\"Serbia\",\"Libya\",\"Paraguay\",\"Kyrgyzstan\",\"Bulgaria\",\"Turkmenistan\",\"El Salvador\",\"Republic of the Congo\",\"Singapore\",\"Denmark\",\"Central African Republic\",\"Slovakia\",\"Finland\",\"Liberia\",\"Norway\",\"Palestine\",\"New Zealand\",\"Costa Rica\",\"Lebanon\",\"Ireland\",\"Mauritania\",\"Oman\",\"Panama\",\"Kuwait\",\"Croatia\",\"Eritrea\",\"Georgia\",\"Mongolia\",\"Uruguay\",\"Moldova\",\"Bosnia and Herzegovina\",\"Gambia\",\"Albania\",\"Jamaica\",\"Armenia\",\"Qatar\",\"Botswana\",\"Lithuania\",\"Namibia\",\"Gabon\",\"Lesotho\",\"Guinea-Bissau\",\"Slovenia\",\"North Macedonia\",\"Latvia\",\"Equatorial Guinea\",\"Trinidad and Tobago\",\"Bahrain\",\"Timor-Leste\",\"Estonia\",\"Mauritius\",\"Cyprus\",\"Eswatini\",\"Djibouti\",\"Fiji\",\"Comoros\",\"Guyana\",\"Bhutan\",\"Solomon Islands\",\"Luxembourg\",\"Suriname\",\"Montenegro\",\"Cape Verde\",\"Malta\",\"Maldives\",\"Brunei\",\"Belize\",\"Bahamas\",\"Iceland\",\"Vanuatu\",\"Barbados\",\"Sao Tome and Principe\",\"Samoa\",\"Saint Lucia\",\"Kiribati\",\"Grenada\",\"Micronesia\",\"Tonga\",\"Seychelles\",\"Saint Vincent and the Grenadines\",\"Antigua and Barbuda\",\"Andorra\",\"Dominica\",\"Saint Kitts and Nevis\",\"Marshall Islands\",\"Liechtenstein\",\"Monaco\",\"San Marino\",\"Palau\",\"Nauru\",\"Tuvalu\",\"Vatican City\"],\"legendgroup\":\"True\",\"marker\":{\"color\":\"#636efa\",\"symbol\":\"circle\"},\"mode\":\"markers\",\"name\":\"True\",\"orientation\":\"v\",\"showlegend\":true,\"x\":[484.9067338,151.2173696,37.36730357,149.0254155,318.0907729,251.6027285,26.03896286,1342.100415,8.790268165,114.9415363,66.55956532,336.4373992,399.457437,115.0075363,46.59143557,317.448864,55.35271556,110.0875451,238.2794986,140.7069995,78.36878867,280.9136486,118.4932893,50.30147887,198.4929646,98.75079945,84.21513782,47.1751005,530.1430635,248.9739278,26.42303426,95.03101951,107.1657599,19.4306396,16.829771,66.49947105,131.3877307,4.361904348,85.61832624,65.47777183,30.32376193,17.43224791,80.95723136,66.70805728,44.32768127,152.8460575,27.09644063,105.5300411,217.9303453,53.38021657,93.09214465,33.32615385,62.18280341,22.2933386,3.471062478,217.9601528,132.5930022,19.68200772,87.1354057,354.8216618,227.7891599,28.43015779,7.344580879,26.43980219,85.27032337,14.96755718,29.81943125,73.99487438,171.3179358,94.64274139,524.8329373,96.99664061,43.99721081,59.12734006,584.3092825,124.8676126,529.2701324,11.6009748,80.87467173,430.588897,386.9145971,236.6798799,128.2172444,17.84547656,107.6549807,96.16056842,26.20697622,23.22083646,136.0613742,126.5990369,74.43989481,79.92800621,111.6017907,109.5221674,135.0584765,46.58112622,430.2981516,170.2677698,124.3830978,108.7874333,223.9961282,33.52114818,59.35290843,81.14598674,3.957964582,17.4862069,35.66009385,60.96734525,14.04054008,308.7012066,18.28564275,8429.956825,148.492375,9.495693281,116.3012542,18.25980786,57.48493563,15.13780968,912.7845515,20.01419999,102.7558559,510.170479,73.87832777,4.845175124,15.22957351,61.04018603,244.0729517,71.24065404,31.54019967,53.49582674,2.243090688,19.55957033,101.2591,62.39019531,280.8105731,103.1394161,260.8253001,97.57565859,238.2124456,4.79892365,43.00220377,3.213697482,9.642399193,77.6048419,78.13474395,105.2305775,82.5815226,29.08950667,62.56659537,299.8440546,1909.187261,92.79643578,30.85476023,641.3684729,137.2799784,71.05087209,49.7122088,51.61860974,466.2036539,4.163545847,20.77561615,27.0336906,256.9796077,4.030673077,46.55033457,149.8787503,1677.3125,1726.29,86.50056926,18.2663744,41.48081918,3.745799861,28.08244463,656.5325581,246.2302083,82.3618705,296.4016393,167.608642,373.1970588,166.1428571,150.9486111,235.3543478,265.8538462,215.4909091,170.9382979,97.824,184.0269231,235.6388889,248.8875,18078.5,560.2333333,39.24130435,644.2,382.6,1736.363636],\"xaxis\":\"x\",\"y\":[0.009164171561,-0.0003455003843,0.005346692284,0.008157292457,0.01964423592,0.02389398715,0.005613331808,0.01010030863,-0.003373478919,0.0252330134,0.007262433398,-0.005378025217,0.0150749589,0.01568228665,0.03287906978,0.006461023509,0.007143593514,0.005176388668,-0.0005061430549,0.001177137806,0.02937459424,0.003316321311,0.001934104492,0.01002617004,-0.002938946161,0.02000784529,0.007085217876,0.004907462332,-0.00081291426,0.02762152185,0.02596648952,-0.0009733872496,0.02239549179,0.01474069036,0.006204017994,0.02682528211,-0.01960560831,0.008399797727,0.009815395563,0.03247241488,0.03054262977,0.01426106703,0.0144995112,0.02235215999,0.02835171146,0.01921157283,0.0096273311,0.01059124518,0.01112501412,0.02410091865,0.02529238874,0.01930873725,0.02608064923,0.0380889968,0.009847948367,0.003201772605,0.0482644476,0.03099941452,0.02532147947,0.002543622493,0.02599930603,0.02746549458,0.01129882933,0.001490046404,-0.01376456984,0.03110637551,0.03106058861,0.01027366836,0.01472494015,0.02580643999,0.00299835983,0.01044690574,0.02129632702,0.02382969811,0.02271970217,0.02678105494,0.02667193612,0.01442983214,0.00854584157,0.01213389132,0.00253582449,0.008914960701,0.004222438073,0.01698074345,-0.001774272231,0.01563254274,0.005803100352,0.01799208533,0.0008040745877,0.0048261485,0.01853100046,-0.00372845636,-0.002366992092,-0.01587654643,0.007878850097,-0.004548317277,0.014947049,0.02287050994,0.02125788241,0.002029141775,0.006225310967,0.01347982434,0.01365523231,-0.007280520269,0.01100533245,0.01249664069,0.01547938065,-0.01033267407,0.01257976397,0.0049247888,0.02254477704,0.006315502809,0.004869298533,0.0301815557,-0.01593853809,0.0007954232956,0.02188330565,0.007328162561,0.02303625054,0.008002716092,0.00662698648,-0.02519382958,0.006435321,0.02692438745,0.01489304071,0.01340036575,0.009111604628,-0.005485682469,0.0183387078,-0.002912065128,0.01348125426,0.00006076349329,-0.03086965367,-0.005129176196,0.02474967258,-0.002266244745,-0.000285254804,3.239775808e-6,0.007609361097,0.01657426761,-0.009400548568,0.01598703926,0.01969616255,0.01105643092,0.0215297079,-0.0003349570099,-0.001425435074,-0.01091185661,0.02351588147,0.002125820148,0.008887862679,0.01417540548,-0.00281531489,0.001092608782,0.006609593552,0.009293686438,0.01396799697,0.007152049126,0.01822609512,0.007077610422,0.006296480676,0.02194553391,0.01042506659,0.008903529321,-0.0006113474385,0.009652870806,0.003132335571,-0.006015112635,0.007367565035,0.01419339135,0.006301151414,0.006317309588,0.02337476757,0.00111349492,0.01951642399,0.01455594401,0.003073491964,0.01683705951,0.005579198466,0.009338332292,0.008443673276,0.005600966004,-0.0001446508129,0.00549322361,0.003159025072,0.004490690033,0.001926499843,0.00997714068,0.006012530315,-0.003857068077,-0.0008322929671,-0.0003876398272,0.00813771518,0.007195507196,0.0],\"yaxis\":\"y\",\"type\":\"scatter\"},{\"hovertemplate\":\"\\u003cb\\u003e%{hovertext}\\u003c\\u002fb\\u003e\\u003cbr\\u003e\\u003cbr\\u003eunMember=False\\u003cbr\\u003eDensity_2024=%{x}\\u003cbr\\u003e2024YoYGrowthRate=%{y}\\u003cextra\\u003e\\u003c\\u002fextra\\u003e\",\"hovertext\":[\"Taiwan\",\"Hong Kong\",\"Puerto Rico\",\"Reunion\",\"Macau\",\"Western Sahara\",\"Guadeloupe\",\"Martinique\",\"Mayotte\",\"French Guiana\",\"French Polynesia\",\"New Caledonia\",\"Curacao\",\"Guam\",\"Jersey\",\"Aruba\",\"United States Virgin Islands\",\"Isle of Man\",\"Cayman Islands\",\"Bermuda\",\"Guernsey\",\"Greenland\",\"Faroe Islands\",\"Northern Mariana Islands\",\"Turks and Caicos Islands\",\"Sint Maarten\",\"American Samoa\",\"Gibraltar\",\"Saint Martin\",\"British Virgin Islands\",\"Cook Islands\",\"Anguilla\",\"Wallis and Futuna\",\"Saint Barthelemy\",\"Saint Pierre and Miquelon\",\"Montserrat\",\"Falkland Islands\",\"Niue\",\"Tokelau\"],\"legendgroup\":\"False\",\"marker\":{\"color\":\"#EF553B\",\"symbol\":\"circle\"},\"mode\":\"markers\",\"name\":\"False\",\"orientation\":\"v\",\"showlegend\":true,\"x\":[661.6629555,7139.69619,368.5233371,393.8495223,21674.22492,2.249567669,243.455774,324.8368794,925.1229947,3.828333373,89.70988188,16.19070022,434.6058559,322.4333333,940.3583333,589.8722222,282.5792507,148.954386,291.1875,1183.981481,1012.507937,0.1383578999,39.12445095,108.75,48.9778481,1303.205882,217.72,4811.470588,646.74,211.7533333,71.13333333,175.1208791,41.74817518,440.76,24.02892562,42.8627451,0.3124127167,7.413793103,191.5],\"xaxis\":\"x\",\"y\":[0.001126016353,0.0006770241213,0.002603430222,0.007694062718,0.01268623544,0.01894564409,0.001280823769,-0.001539589243,0.02976532389,0.02447822396,0.008129581186,0.01015389551,0.004623145926,0.006718627134,0.009311103558,-0.0009409373618,-0.007037974684,0.00229016645,0.008296061174,-0.002091495107,0.003839858995,0.002577547093,0.003266378825,0.004598762953,0.008010941774,0.00196734657,-0.008425559047,0.0009177679883,0.00810549615,0.007134250745,0.001642806853,0.002327190389,-0.005477308294,0.002273967619,-0.004280821918,-0.003191974464,0.003165391717,0.0,0.0116217644],\"yaxis\":\"y\",\"type\":\"scatter\"}],                        {\"template\":{\"data\":{\"histogram2dcontour\":[{\"type\":\"histogram2dcontour\",\"colorbar\":{\"outlinewidth\":0,\"ticks\":\"\"},\"colorscale\":[[0.0,\"#0d0887\"],[0.1111111111111111,\"#46039f\"],[0.2222222222222222,\"#7201a8\"],[0.3333333333333333,\"#9c179e\"],[0.4444444444444444,\"#bd3786\"],[0.5555555555555556,\"#d8576b\"],[0.6666666666666666,\"#ed7953\"],[0.7777777777777778,\"#fb9f3a\"],[0.8888888888888888,\"#fdca26\"],[1.0,\"#f0f921\"]]}],\"choropleth\":[{\"type\":\"choropleth\",\"colorbar\":{\"outlinewidth\":0,\"ticks\":\"\"}}],\"histogram2d\":[{\"type\":\"histogram2d\",\"colorbar\":{\"outlinewidth\":0,\"ticks\":\"\"},\"colorscale\":[[0.0,\"#0d0887\"],[0.1111111111111111,\"#46039f\"],[0.2222222222222222,\"#7201a8\"],[0.3333333333333333,\"#9c179e\"],[0.4444444444444444,\"#bd3786\"],[0.5555555555555556,\"#d8576b\"],[0.6666666666666666,\"#ed7953\"],[0.7777777777777778,\"#fb9f3a\"],[0.8888888888888888,\"#fdca26\"],[1.0,\"#f0f921\"]]}],\"heatmap\":[{\"type\":\"heatmap\",\"colorbar\":{\"outlinewidth\":0,\"ticks\":\"\"},\"colorscale\":[[0.0,\"#0d0887\"],[0.1111111111111111,\"#46039f\"],[0.2222222222222222,\"#7201a8\"],[0.3333333333333333,\"#9c179e\"],[0.4444444444444444,\"#bd3786\"],[0.5555555555555556,\"#d8576b\"],[0.6666666666666666,\"#ed7953\"],[0.7777777777777778,\"#fb9f3a\"],[0.8888888888888888,\"#fdca26\"],[1.0,\"#f0f921\"]]}],\"heatmapgl\":[{\"type\":\"heatmapgl\",\"colorbar\":{\"outlinewidth\":0,\"ticks\":\"\"},\"colorscale\":[[0.0,\"#0d0887\"],[0.1111111111111111,\"#46039f\"],[0.2222222222222222,\"#7201a8\"],[0.3333333333333333,\"#9c179e\"],[0.4444444444444444,\"#bd3786\"],[0.5555555555555556,\"#d8576b\"],[0.6666666666666666,\"#ed7953\"],[0.7777777777777778,\"#fb9f3a\"],[0.8888888888888888,\"#fdca26\"],[1.0,\"#f0f921\"]]}],\"contourcarpet\":[{\"type\":\"contourcarpet\",\"colorbar\":{\"outlinewidth\":0,\"ticks\":\"\"}}],\"contour\":[{\"type\":\"contour\",\"colorbar\":{\"outlinewidth\":0,\"ticks\":\"\"},\"colorscale\":[[0.0,\"#0d0887\"],[0.1111111111111111,\"#46039f\"],[0.2222222222222222,\"#7201a8\"],[0.3333333333333333,\"#9c179e\"],[0.4444444444444444,\"#bd3786\"],[0.5555555555555556,\"#d8576b\"],[0.6666666666666666,\"#ed7953\"],[0.7777777777777778,\"#fb9f3a\"],[0.8888888888888888,\"#fdca26\"],[1.0,\"#f0f921\"]]}],\"surface\":[{\"type\":\"surface\",\"colorbar\":{\"outlinewidth\":0,\"ticks\":\"\"},\"colorscale\":[[0.0,\"#0d0887\"],[0.1111111111111111,\"#46039f\"],[0.2222222222222222,\"#7201a8\"],[0.3333333333333333,\"#9c179e\"],[0.4444444444444444,\"#bd3786\"],[0.5555555555555556,\"#d8576b\"],[0.6666666666666666,\"#ed7953\"],[0.7777777777777778,\"#fb9f3a\"],[0.8888888888888888,\"#fdca26\"],[1.0,\"#f0f921\"]]}],\"mesh3d\":[{\"type\":\"mesh3d\",\"colorbar\":{\"outlinewidth\":0,\"ticks\":\"\"}}],\"scatter\":[{\"fillpattern\":{\"fillmode\":\"overlay\",\"size\":10,\"solidity\":0.2},\"type\":\"scatter\"}],\"parcoords\":[{\"type\":\"parcoords\",\"line\":{\"colorbar\":{\"outlinewidth\":0,\"ticks\":\"\"}}}],\"scatterpolargl\":[{\"type\":\"scatterpolargl\",\"marker\":{\"colorbar\":{\"outlinewidth\":0,\"ticks\":\"\"}}}],\"bar\":[{\"error_x\":{\"color\":\"#2a3f5f\"},\"error_y\":{\"color\":\"#2a3f5f\"},\"marker\":{\"line\":{\"color\":\"#E5ECF6\",\"width\":0.5},\"pattern\":{\"fillmode\":\"overlay\",\"size\":10,\"solidity\":0.2}},\"type\":\"bar\"}],\"scattergeo\":[{\"type\":\"scattergeo\",\"marker\":{\"colorbar\":{\"outlinewidth\":0,\"ticks\":\"\"}}}],\"scatterpolar\":[{\"type\":\"scatterpolar\",\"marker\":{\"colorbar\":{\"outlinewidth\":0,\"ticks\":\"\"}}}],\"histogram\":[{\"marker\":{\"pattern\":{\"fillmode\":\"overlay\",\"size\":10,\"solidity\":0.2}},\"type\":\"histogram\"}],\"scattergl\":[{\"type\":\"scattergl\",\"marker\":{\"colorbar\":{\"outlinewidth\":0,\"ticks\":\"\"}}}],\"scatter3d\":[{\"type\":\"scatter3d\",\"line\":{\"colorbar\":{\"outlinewidth\":0,\"ticks\":\"\"}},\"marker\":{\"colorbar\":{\"outlinewidth\":0,\"ticks\":\"\"}}}],\"scattermapbox\":[{\"type\":\"scattermapbox\",\"marker\":{\"colorbar\":{\"outlinewidth\":0,\"ticks\":\"\"}}}],\"scatterternary\":[{\"type\":\"scatterternary\",\"marker\":{\"colorbar\":{\"outlinewidth\":0,\"ticks\":\"\"}}}],\"scattercarpet\":[{\"type\":\"scattercarpet\",\"marker\":{\"colorbar\":{\"outlinewidth\":0,\"ticks\":\"\"}}}],\"carpet\":[{\"aaxis\":{\"endlinecolor\":\"#2a3f5f\",\"gridcolor\":\"white\",\"linecolor\":\"white\",\"minorgridcolor\":\"white\",\"startlinecolor\":\"#2a3f5f\"},\"baxis\":{\"endlinecolor\":\"#2a3f5f\",\"gridcolor\":\"white\",\"linecolor\":\"white\",\"minorgridcolor\":\"white\",\"startlinecolor\":\"#2a3f5f\"},\"type\":\"carpet\"}],\"table\":[{\"cells\":{\"fill\":{\"color\":\"#EBF0F8\"},\"line\":{\"color\":\"white\"}},\"header\":{\"fill\":{\"color\":\"#C8D4E3\"},\"line\":{\"color\":\"white\"}},\"type\":\"table\"}],\"barpolar\":[{\"marker\":{\"line\":{\"color\":\"#E5ECF6\",\"width\":0.5},\"pattern\":{\"fillmode\":\"overlay\",\"size\":10,\"solidity\":0.2}},\"type\":\"barpolar\"}],\"pie\":[{\"automargin\":true,\"type\":\"pie\"}]},\"layout\":{\"autotypenumbers\":\"strict\",\"colorway\":[\"#636efa\",\"#EF553B\",\"#00cc96\",\"#ab63fa\",\"#FFA15A\",\"#19d3f3\",\"#FF6692\",\"#B6E880\",\"#FF97FF\",\"#FECB52\"],\"font\":{\"color\":\"#2a3f5f\"},\"hovermode\":\"closest\",\"hoverlabel\":{\"align\":\"left\"},\"paper_bgcolor\":\"white\",\"plot_bgcolor\":\"#E5ECF6\",\"polar\":{\"bgcolor\":\"#E5ECF6\",\"angularaxis\":{\"gridcolor\":\"white\",\"linecolor\":\"white\",\"ticks\":\"\"},\"radialaxis\":{\"gridcolor\":\"white\",\"linecolor\":\"white\",\"ticks\":\"\"}},\"ternary\":{\"bgcolor\":\"#E5ECF6\",\"aaxis\":{\"gridcolor\":\"white\",\"linecolor\":\"white\",\"ticks\":\"\"},\"baxis\":{\"gridcolor\":\"white\",\"linecolor\":\"white\",\"ticks\":\"\"},\"caxis\":{\"gridcolor\":\"white\",\"linecolor\":\"white\",\"ticks\":\"\"}},\"coloraxis\":{\"colorbar\":{\"outlinewidth\":0,\"ticks\":\"\"}},\"colorscale\":{\"sequential\":[[0.0,\"#0d0887\"],[0.1111111111111111,\"#46039f\"],[0.2222222222222222,\"#7201a8\"],[0.3333333333333333,\"#9c179e\"],[0.4444444444444444,\"#bd3786\"],[0.5555555555555556,\"#d8576b\"],[0.6666666666666666,\"#ed7953\"],[0.7777777777777778,\"#fb9f3a\"],[0.8888888888888888,\"#fdca26\"],[1.0,\"#f0f921\"]],\"sequentialminus\":[[0.0,\"#0d0887\"],[0.1111111111111111,\"#46039f\"],[0.2222222222222222,\"#7201a8\"],[0.3333333333333333,\"#9c179e\"],[0.4444444444444444,\"#bd3786\"],[0.5555555555555556,\"#d8576b\"],[0.6666666666666666,\"#ed7953\"],[0.7777777777777778,\"#fb9f3a\"],[0.8888888888888888,\"#fdca26\"],[1.0,\"#f0f921\"]],\"diverging\":[[0,\"#8e0152\"],[0.1,\"#c51b7d\"],[0.2,\"#de77ae\"],[0.3,\"#f1b6da\"],[0.4,\"#fde0ef\"],[0.5,\"#f7f7f7\"],[0.6,\"#e6f5d0\"],[0.7,\"#b8e186\"],[0.8,\"#7fbc41\"],[0.9,\"#4d9221\"],[1,\"#276419\"]]},\"xaxis\":{\"gridcolor\":\"white\",\"linecolor\":\"white\",\"ticks\":\"\",\"title\":{\"standoff\":15},\"zerolinecolor\":\"white\",\"automargin\":true,\"zerolinewidth\":2},\"yaxis\":{\"gridcolor\":\"white\",\"linecolor\":\"white\",\"ticks\":\"\",\"title\":{\"standoff\":15},\"zerolinecolor\":\"white\",\"automargin\":true,\"zerolinewidth\":2},\"scene\":{\"xaxis\":{\"backgroundcolor\":\"#E5ECF6\",\"gridcolor\":\"white\",\"linecolor\":\"white\",\"showbackground\":true,\"ticks\":\"\",\"zerolinecolor\":\"white\",\"gridwidth\":2},\"yaxis\":{\"backgroundcolor\":\"#E5ECF6\",\"gridcolor\":\"white\",\"linecolor\":\"white\",\"showbackground\":true,\"ticks\":\"\",\"zerolinecolor\":\"white\",\"gridwidth\":2},\"zaxis\":{\"backgroundcolor\":\"#E5ECF6\",\"gridcolor\":\"white\",\"linecolor\":\"white\",\"showbackground\":true,\"ticks\":\"\",\"zerolinecolor\":\"white\",\"gridwidth\":2}},\"shapedefaults\":{\"line\":{\"color\":\"#2a3f5f\"}},\"annotationdefaults\":{\"arrowcolor\":\"#2a3f5f\",\"arrowhead\":0,\"arrowwidth\":1},\"geo\":{\"bgcolor\":\"white\",\"landcolor\":\"#E5ECF6\",\"subunitcolor\":\"white\",\"showland\":true,\"showlakes\":true,\"lakecolor\":\"white\"},\"title\":{\"x\":0.05},\"mapbox\":{\"style\":\"light\"}}},\"xaxis\":{\"anchor\":\"y\",\"domain\":[0.0,1.0],\"title\":{\"text\":\"Density_2024\"},\"type\":\"log\"},\"yaxis\":{\"anchor\":\"x\",\"domain\":[0.0,1.0],\"title\":{\"text\":\"2024YoYGrowthRate\"}},\"legend\":{\"title\":{\"text\":\"unMember\"},\"tracegroupgap\":0},\"margin\":{\"t\":60}},                        {\"responsive\": true}                    ).then(function(){\n",
       "                            \n",
       "var gd = document.getElementById('82756aba-bea9-46da-aa22-218529bab6a8');\n",
       "var x = new MutationObserver(function (mutations, observer) {{\n",
       "        var display = window.getComputedStyle(gd).display;\n",
       "        if (!display || display === 'none') {{\n",
       "            console.log([gd, 'removed!']);\n",
       "            Plotly.purge(gd);\n",
       "            observer.disconnect();\n",
       "        }}\n",
       "}});\n",
       "\n",
       "// Listen for the removal of the full notebook cells\n",
       "var notebookContainer = gd.closest('#notebook-container');\n",
       "if (notebookContainer) {{\n",
       "    x.observe(notebookContainer, {childList: true});\n",
       "}}\n",
       "\n",
       "// Listen for the clearing of the current output cell\n",
       "var outputEl = gd.closest('.output');\n",
       "if (outputEl) {{\n",
       "    x.observe(outputEl, {childList: true});\n",
       "}}\n",
       "\n",
       "                        })                };                });            </script>        </div>"
      ]
     },
     "metadata": {},
     "output_type": "display_data"
    }
   ],
   "source": [
    "import warnings\n",
    "from plotly import express\n",
    "\n",
    "warnings.filterwarnings(action='ignore', category=FutureWarning)\n",
    "express.scatter(data_frame=df, x='Density_2024', y='2024YoYGrowthRate', hover_name='country', log_x=True, color='unMember')"
   ]
  },
  {
   "cell_type": "markdown",
   "id": "92602d54",
   "metadata": {
    "papermill": {
     "duration": 0.003796,
     "end_time": "2024-06-06T19:09:32.821364",
     "exception": false,
     "start_time": "2024-06-06T19:09:32.817568",
     "status": "completed"
    },
    "tags": []
   },
   "source": [
    "We have some outliers in the density direction so we need to use a log plot in the density direction to get a nice-looking plot."
   ]
  },
  {
   "cell_type": "code",
   "execution_count": 3,
   "id": "f460e1fe",
   "metadata": {
    "execution": {
     "iopub.execute_input": "2024-06-06T19:09:32.831769Z",
     "iopub.status.busy": "2024-06-06T19:09:32.830737Z",
     "iopub.status.idle": "2024-06-06T19:09:32.906214Z",
     "shell.execute_reply": "2024-06-06T19:09:32.905117Z"
    },
    "papermill": {
     "duration": 0.083159,
     "end_time": "2024-06-06T19:09:32.908610",
     "exception": false,
     "start_time": "2024-06-06T19:09:32.825451",
     "status": "completed"
    },
    "tags": []
   },
   "outputs": [
    {
     "data": {
      "text/html": [
       "<div>                            <div id=\"23beb1dd-8dea-41d1-a4dc-7ce85c90cd20\" class=\"plotly-graph-div\" style=\"height:525px; width:100%;\"></div>            <script type=\"text/javascript\">                require([\"plotly\"], function(Plotly) {                    window.PLOTLYENV=window.PLOTLYENV || {};                                    if (document.getElementById(\"23beb1dd-8dea-41d1-a4dc-7ce85c90cd20\")) {                    Plotly.newPlot(                        \"23beb1dd-8dea-41d1-a4dc-7ce85c90cd20\",                        [{\"hovertemplate\":\"\\u003cb\\u003e%{hovertext}\\u003c\\u002fb\\u003e\\u003cbr\\u003e\\u003cbr\\u003eunMember=True\\u003cbr\\u003eindex=%{x}\\u003cbr\\u003epop2024=%{y}\\u003cextra\\u003e\\u003c\\u002fextra\\u003e\",\"hovertext\":[\"Vatican City\",\"Tuvalu\",\"Nauru\",\"Palau\",\"San Marino\",\"Monaco\",\"Liechtenstein\",\"Marshall Islands\",\"Saint Kitts and Nevis\",\"Dominica\",\"Andorra\",\"Antigua and Barbuda\",\"Saint Vincent and the Grenadines\",\"Seychelles\",\"Tonga\",\"Micronesia\",\"Grenada\",\"Kiribati\",\"Saint Lucia\",\"Samoa\",\"Sao Tome and Principe\",\"Barbados\",\"Vanuatu\",\"Iceland\",\"Bahamas\",\"Belize\",\"Brunei\",\"Maldives\",\"Malta\",\"Cape Verde\",\"Montenegro\",\"Suriname\",\"Luxembourg\",\"Solomon Islands\",\"Bhutan\",\"Guyana\",\"Comoros\",\"Fiji\",\"Djibouti\",\"Eswatini\",\"Cyprus\",\"Mauritius\",\"Estonia\",\"Timor-Leste\",\"Bahrain\",\"Trinidad and Tobago\",\"Equatorial Guinea\",\"Latvia\",\"North Macedonia\",\"Slovenia\",\"Guinea-Bissau\",\"Lesotho\",\"Gabon\",\"Namibia\",\"Lithuania\",\"Botswana\",\"Qatar\",\"Armenia\",\"Jamaica\",\"Albania\",\"Gambia\",\"Bosnia and Herzegovina\",\"Moldova\",\"Uruguay\",\"Mongolia\",\"Georgia\",\"Eritrea\",\"Croatia\",\"Kuwait\",\"Panama\",\"Oman\",\"Mauritania\",\"Ireland\",\"Lebanon\",\"Costa Rica\",\"New Zealand\",\"Palestine\",\"Norway\",\"Liberia\",\"Finland\",\"Slovakia\",\"Central African Republic\",\"Denmark\",\"Singapore\",\"Republic of the Congo\",\"El Salvador\",\"Turkmenistan\",\"Bulgaria\",\"Kyrgyzstan\",\"Paraguay\",\"Libya\",\"Serbia\",\"Nicaragua\",\"Laos\",\"Switzerland\",\"Austria\",\"Sierra Leone\",\"Togo\",\"Israel\",\"Belarus\",\"United Arab Emirates\",\"Hungary\",\"Portugal\",\"Greece\",\"Tajikistan\",\"Azerbaijan\",\"Czech Republic\",\"Papua New Guinea\",\"Sweden\",\"Honduras\",\"Cuba\",\"South Sudan\",\"Jordan\",\"Dominican Republic\",\"Belgium\",\"Haiti\",\"Tunisia\",\"Bolivia\",\"Burundi\",\"Benin\",\"Rwanda\",\"Guinea\",\"Zimbabwe\",\"Cambodia\",\"Netherlands\",\"Senegal\",\"Guatemala\",\"Ecuador\",\"Somalia\",\"Chad\",\"Romania\",\"Chile\",\"Kazakhstan\",\"Zambia\",\"Malawi\",\"Sri Lanka\",\"Burkina Faso\",\"Mali\",\"Syria\",\"North Korea\",\"Australia\",\"Niger\",\"Cameroon\",\"Venezuela\",\"Ivory Coast\",\"Madagascar\",\"Nepal\",\"Malaysia\",\"Peru\",\"Ghana\",\"Mozambique\",\"Yemen\",\"Uzbekistan\",\"Saudi Arabia\",\"Angola\",\"Ukraine\",\"Morocco\",\"Canada\",\"Poland\",\"Afghanistan\",\"Argentina\",\"Algeria\",\"Iraq\",\"Spain\",\"Sudan\",\"Uganda\",\"South Korea\",\"Colombia\",\"Myanmar\",\"Kenya\",\"Italy\",\"South Africa\",\"France\",\"United Kingdom\",\"Tanzania\",\"Thailand\",\"Germany\",\"Turkey\",\"Iran\",\"Vietnam\",\"DR Congo\",\"Egypt\",\"Philippines\",\"Japan\",\"Mexico\",\"Ethiopia\",\"Russia\",\"Bangladesh\",\"Brazil\",\"Nigeria\",\"Pakistan\",\"Indonesia\",\"United States\",\"China\",\"India\"],\"legendgroup\":\"True\",\"marker\":{\"color\":\"#636efa\",\"symbol\":\"circle\"},\"mode\":\"markers\",\"name\":\"True\",\"orientation\":\"v\",\"showlegend\":true,\"x\":[0,8,9,12,16,17,18,19,23,30,31,33,35,37,38,40,41,42,44,46,47,48,52,55,57,58,59,60,61,63,64,65,66,68,69,70,71,72,74,75,76,77,78,79,80,81,82,83,84,85,86,87,88,89,90,91,92,93,94,95,96,97,99,100,101,102,103,104,105,106,107,108,109,110,111,112,113,114,115,116,117,118,119,120,121,122,123,124,125,126,127,128,129,131,132,133,134,135,136,137,138,139,140,141,142,143,144,145,146,147,148,149,150,151,152,153,154,155,156,157,158,159,160,161,162,163,164,165,166,167,168,169,170,171,172,173,174,176,177,178,179,180,181,182,183,184,185,186,187,188,189,190,191,192,193,194,195,196,197,198,199,200,201,202,203,204,205,206,207,208,209,210,211,212,213,214,215,216,217,218,219,220,221,222,223,224,225,226,227,228,229,230,231,232,233],\"xaxis\":\"x\",\"y\":[764,11478,12884,18051,33614,36157,39822,42415,47847,73368,80341,94816,103683,108263,108683,116300,126887,135763,180805,228966,236381,282309,342325,377689,415223,416656,455858,517887,536740,604461,626102,628785,661594,756673,792382,819594,867605,943072,1152329,1222075,1268467,1301978,1319041,1379883,1498712,1538200,1754993,1810240,2082706,2118965,2197149,2356083,2484557,2645805,2692798,2719694,2737061,2777979,2824738,2826020,2841803,3194378,3329865,3423316,3493629,3717425,3817651,3986627,4349380,4527961,4713553,4993922,5089478,5219044,5246714,5269939,5494963,5514477,5536949,5549886,5702832,5915627,5939695,6052709,6244547,6396289,6598071,6618615,6839606,6947270,6964197,7097028,7142529,7736681,8851431,8977139,8977972,9260864,9311652,9455037,9591853,9994993,10223349,10302720,10331513,10462904,10503734,10515788,10673669,10759406,11174587,11277092,11384922,11434005,11715774,11867030,12564689,12567336,13591657,14080072,14414910,14528770,17020321,17121847,17671125,18221567,18358430,18377367,18706922,18847148,19618996,19658839,19828165,21134695,21475962,21949268,23840247,24015789,24348053,26244582,26699482,28238972,29394433,29395334,29603302,31056610,31240315,34671895,34683444,34777522,34858402,35219853,35673804,37473929,37804634,37937821,38211459,39107046,40221726,43372950,46057866,46278751,46523657,47473373,49358228,49924252,51741963,52340774,54964694,56203030,58697744,61020221,64881830,67961439,69419073,71885799,83252474,86260417,89809781,99497680,105625114,114484252,119106224,122631432,129388467,129719719,143957079,174701211,217637297,229152217,245209815,279798049,341814420,1425178782,1441719852],\"yaxis\":\"y\",\"type\":\"scatter\"},{\"hovertemplate\":\"\\u003cb\\u003e%{hovertext}\\u003c\\u002fb\\u003e\\u003cbr\\u003e\\u003cbr\\u003eunMember=False\\u003cbr\\u003eindex=%{x}\\u003cbr\\u003epop2024=%{y}\\u003cextra\\u003e\\u003c\\u002fextra\\u003e\",\"hovertext\":[\"Tokelau\",\"Niue\",\"Falkland Islands\",\"Montserrat\",\"Saint Pierre and Miquelon\",\"Saint Barthelemy\",\"Wallis and Futuna\",\"Anguilla\",\"Cook Islands\",\"British Virgin Islands\",\"Saint Martin\",\"Gibraltar\",\"American Samoa\",\"Sint Maarten\",\"Turks and Caicos Islands\",\"Northern Mariana Islands\",\"Faroe Islands\",\"Greenland\",\"Guernsey\",\"Bermuda\",\"Cayman Islands\",\"Isle of Man\",\"United States Virgin Islands\",\"Aruba\",\"Jersey\",\"Guam\",\"Curacao\",\"New Caledonia\",\"French Polynesia\",\"French Guiana\",\"Mayotte\",\"Martinique\",\"Guadeloupe\",\"Western Sahara\",\"Macau\",\"Reunion\",\"Puerto Rico\",\"Hong Kong\",\"Taiwan\"],\"legendgroup\":\"False\",\"marker\":{\"color\":\"#EF553B\",\"symbol\":\"circle\"},\"mode\":\"markers\",\"name\":\"False\",\"orientation\":\"v\",\"showlegend\":true,\"x\":[1,2,3,4,5,6,7,10,11,13,14,15,20,21,22,24,25,26,27,28,29,32,34,36,39,43,45,49,50,51,53,54,56,62,67,73,98,130,175],\"xaxis\":\"x\",\"y\":[1915,1935,3803,4372,5815,11019,11439,15936,17072,31763,32337,32718,43544,44309,46431,50025,53444,56789,63788,63935,69885,84904,98055,106177,112843,174114,192965,295966,311383,319796,345996,366416,396346,598385,713082,989350,3268802,7496681,23950214],\"yaxis\":\"y\",\"type\":\"scatter\"}],                        {\"template\":{\"data\":{\"histogram2dcontour\":[{\"type\":\"histogram2dcontour\",\"colorbar\":{\"outlinewidth\":0,\"ticks\":\"\"},\"colorscale\":[[0.0,\"#0d0887\"],[0.1111111111111111,\"#46039f\"],[0.2222222222222222,\"#7201a8\"],[0.3333333333333333,\"#9c179e\"],[0.4444444444444444,\"#bd3786\"],[0.5555555555555556,\"#d8576b\"],[0.6666666666666666,\"#ed7953\"],[0.7777777777777778,\"#fb9f3a\"],[0.8888888888888888,\"#fdca26\"],[1.0,\"#f0f921\"]]}],\"choropleth\":[{\"type\":\"choropleth\",\"colorbar\":{\"outlinewidth\":0,\"ticks\":\"\"}}],\"histogram2d\":[{\"type\":\"histogram2d\",\"colorbar\":{\"outlinewidth\":0,\"ticks\":\"\"},\"colorscale\":[[0.0,\"#0d0887\"],[0.1111111111111111,\"#46039f\"],[0.2222222222222222,\"#7201a8\"],[0.3333333333333333,\"#9c179e\"],[0.4444444444444444,\"#bd3786\"],[0.5555555555555556,\"#d8576b\"],[0.6666666666666666,\"#ed7953\"],[0.7777777777777778,\"#fb9f3a\"],[0.8888888888888888,\"#fdca26\"],[1.0,\"#f0f921\"]]}],\"heatmap\":[{\"type\":\"heatmap\",\"colorbar\":{\"outlinewidth\":0,\"ticks\":\"\"},\"colorscale\":[[0.0,\"#0d0887\"],[0.1111111111111111,\"#46039f\"],[0.2222222222222222,\"#7201a8\"],[0.3333333333333333,\"#9c179e\"],[0.4444444444444444,\"#bd3786\"],[0.5555555555555556,\"#d8576b\"],[0.6666666666666666,\"#ed7953\"],[0.7777777777777778,\"#fb9f3a\"],[0.8888888888888888,\"#fdca26\"],[1.0,\"#f0f921\"]]}],\"heatmapgl\":[{\"type\":\"heatmapgl\",\"colorbar\":{\"outlinewidth\":0,\"ticks\":\"\"},\"colorscale\":[[0.0,\"#0d0887\"],[0.1111111111111111,\"#46039f\"],[0.2222222222222222,\"#7201a8\"],[0.3333333333333333,\"#9c179e\"],[0.4444444444444444,\"#bd3786\"],[0.5555555555555556,\"#d8576b\"],[0.6666666666666666,\"#ed7953\"],[0.7777777777777778,\"#fb9f3a\"],[0.8888888888888888,\"#fdca26\"],[1.0,\"#f0f921\"]]}],\"contourcarpet\":[{\"type\":\"contourcarpet\",\"colorbar\":{\"outlinewidth\":0,\"ticks\":\"\"}}],\"contour\":[{\"type\":\"contour\",\"colorbar\":{\"outlinewidth\":0,\"ticks\":\"\"},\"colorscale\":[[0.0,\"#0d0887\"],[0.1111111111111111,\"#46039f\"],[0.2222222222222222,\"#7201a8\"],[0.3333333333333333,\"#9c179e\"],[0.4444444444444444,\"#bd3786\"],[0.5555555555555556,\"#d8576b\"],[0.6666666666666666,\"#ed7953\"],[0.7777777777777778,\"#fb9f3a\"],[0.8888888888888888,\"#fdca26\"],[1.0,\"#f0f921\"]]}],\"surface\":[{\"type\":\"surface\",\"colorbar\":{\"outlinewidth\":0,\"ticks\":\"\"},\"colorscale\":[[0.0,\"#0d0887\"],[0.1111111111111111,\"#46039f\"],[0.2222222222222222,\"#7201a8\"],[0.3333333333333333,\"#9c179e\"],[0.4444444444444444,\"#bd3786\"],[0.5555555555555556,\"#d8576b\"],[0.6666666666666666,\"#ed7953\"],[0.7777777777777778,\"#fb9f3a\"],[0.8888888888888888,\"#fdca26\"],[1.0,\"#f0f921\"]]}],\"mesh3d\":[{\"type\":\"mesh3d\",\"colorbar\":{\"outlinewidth\":0,\"ticks\":\"\"}}],\"scatter\":[{\"fillpattern\":{\"fillmode\":\"overlay\",\"size\":10,\"solidity\":0.2},\"type\":\"scatter\"}],\"parcoords\":[{\"type\":\"parcoords\",\"line\":{\"colorbar\":{\"outlinewidth\":0,\"ticks\":\"\"}}}],\"scatterpolargl\":[{\"type\":\"scatterpolargl\",\"marker\":{\"colorbar\":{\"outlinewidth\":0,\"ticks\":\"\"}}}],\"bar\":[{\"error_x\":{\"color\":\"#2a3f5f\"},\"error_y\":{\"color\":\"#2a3f5f\"},\"marker\":{\"line\":{\"color\":\"#E5ECF6\",\"width\":0.5},\"pattern\":{\"fillmode\":\"overlay\",\"size\":10,\"solidity\":0.2}},\"type\":\"bar\"}],\"scattergeo\":[{\"type\":\"scattergeo\",\"marker\":{\"colorbar\":{\"outlinewidth\":0,\"ticks\":\"\"}}}],\"scatterpolar\":[{\"type\":\"scatterpolar\",\"marker\":{\"colorbar\":{\"outlinewidth\":0,\"ticks\":\"\"}}}],\"histogram\":[{\"marker\":{\"pattern\":{\"fillmode\":\"overlay\",\"size\":10,\"solidity\":0.2}},\"type\":\"histogram\"}],\"scattergl\":[{\"type\":\"scattergl\",\"marker\":{\"colorbar\":{\"outlinewidth\":0,\"ticks\":\"\"}}}],\"scatter3d\":[{\"type\":\"scatter3d\",\"line\":{\"colorbar\":{\"outlinewidth\":0,\"ticks\":\"\"}},\"marker\":{\"colorbar\":{\"outlinewidth\":0,\"ticks\":\"\"}}}],\"scattermapbox\":[{\"type\":\"scattermapbox\",\"marker\":{\"colorbar\":{\"outlinewidth\":0,\"ticks\":\"\"}}}],\"scatterternary\":[{\"type\":\"scatterternary\",\"marker\":{\"colorbar\":{\"outlinewidth\":0,\"ticks\":\"\"}}}],\"scattercarpet\":[{\"type\":\"scattercarpet\",\"marker\":{\"colorbar\":{\"outlinewidth\":0,\"ticks\":\"\"}}}],\"carpet\":[{\"aaxis\":{\"endlinecolor\":\"#2a3f5f\",\"gridcolor\":\"white\",\"linecolor\":\"white\",\"minorgridcolor\":\"white\",\"startlinecolor\":\"#2a3f5f\"},\"baxis\":{\"endlinecolor\":\"#2a3f5f\",\"gridcolor\":\"white\",\"linecolor\":\"white\",\"minorgridcolor\":\"white\",\"startlinecolor\":\"#2a3f5f\"},\"type\":\"carpet\"}],\"table\":[{\"cells\":{\"fill\":{\"color\":\"#EBF0F8\"},\"line\":{\"color\":\"white\"}},\"header\":{\"fill\":{\"color\":\"#C8D4E3\"},\"line\":{\"color\":\"white\"}},\"type\":\"table\"}],\"barpolar\":[{\"marker\":{\"line\":{\"color\":\"#E5ECF6\",\"width\":0.5},\"pattern\":{\"fillmode\":\"overlay\",\"size\":10,\"solidity\":0.2}},\"type\":\"barpolar\"}],\"pie\":[{\"automargin\":true,\"type\":\"pie\"}]},\"layout\":{\"autotypenumbers\":\"strict\",\"colorway\":[\"#636efa\",\"#EF553B\",\"#00cc96\",\"#ab63fa\",\"#FFA15A\",\"#19d3f3\",\"#FF6692\",\"#B6E880\",\"#FF97FF\",\"#FECB52\"],\"font\":{\"color\":\"#2a3f5f\"},\"hovermode\":\"closest\",\"hoverlabel\":{\"align\":\"left\"},\"paper_bgcolor\":\"white\",\"plot_bgcolor\":\"#E5ECF6\",\"polar\":{\"bgcolor\":\"#E5ECF6\",\"angularaxis\":{\"gridcolor\":\"white\",\"linecolor\":\"white\",\"ticks\":\"\"},\"radialaxis\":{\"gridcolor\":\"white\",\"linecolor\":\"white\",\"ticks\":\"\"}},\"ternary\":{\"bgcolor\":\"#E5ECF6\",\"aaxis\":{\"gridcolor\":\"white\",\"linecolor\":\"white\",\"ticks\":\"\"},\"baxis\":{\"gridcolor\":\"white\",\"linecolor\":\"white\",\"ticks\":\"\"},\"caxis\":{\"gridcolor\":\"white\",\"linecolor\":\"white\",\"ticks\":\"\"}},\"coloraxis\":{\"colorbar\":{\"outlinewidth\":0,\"ticks\":\"\"}},\"colorscale\":{\"sequential\":[[0.0,\"#0d0887\"],[0.1111111111111111,\"#46039f\"],[0.2222222222222222,\"#7201a8\"],[0.3333333333333333,\"#9c179e\"],[0.4444444444444444,\"#bd3786\"],[0.5555555555555556,\"#d8576b\"],[0.6666666666666666,\"#ed7953\"],[0.7777777777777778,\"#fb9f3a\"],[0.8888888888888888,\"#fdca26\"],[1.0,\"#f0f921\"]],\"sequentialminus\":[[0.0,\"#0d0887\"],[0.1111111111111111,\"#46039f\"],[0.2222222222222222,\"#7201a8\"],[0.3333333333333333,\"#9c179e\"],[0.4444444444444444,\"#bd3786\"],[0.5555555555555556,\"#d8576b\"],[0.6666666666666666,\"#ed7953\"],[0.7777777777777778,\"#fb9f3a\"],[0.8888888888888888,\"#fdca26\"],[1.0,\"#f0f921\"]],\"diverging\":[[0,\"#8e0152\"],[0.1,\"#c51b7d\"],[0.2,\"#de77ae\"],[0.3,\"#f1b6da\"],[0.4,\"#fde0ef\"],[0.5,\"#f7f7f7\"],[0.6,\"#e6f5d0\"],[0.7,\"#b8e186\"],[0.8,\"#7fbc41\"],[0.9,\"#4d9221\"],[1,\"#276419\"]]},\"xaxis\":{\"gridcolor\":\"white\",\"linecolor\":\"white\",\"ticks\":\"\",\"title\":{\"standoff\":15},\"zerolinecolor\":\"white\",\"automargin\":true,\"zerolinewidth\":2},\"yaxis\":{\"gridcolor\":\"white\",\"linecolor\":\"white\",\"ticks\":\"\",\"title\":{\"standoff\":15},\"zerolinecolor\":\"white\",\"automargin\":true,\"zerolinewidth\":2},\"scene\":{\"xaxis\":{\"backgroundcolor\":\"#E5ECF6\",\"gridcolor\":\"white\",\"linecolor\":\"white\",\"showbackground\":true,\"ticks\":\"\",\"zerolinecolor\":\"white\",\"gridwidth\":2},\"yaxis\":{\"backgroundcolor\":\"#E5ECF6\",\"gridcolor\":\"white\",\"linecolor\":\"white\",\"showbackground\":true,\"ticks\":\"\",\"zerolinecolor\":\"white\",\"gridwidth\":2},\"zaxis\":{\"backgroundcolor\":\"#E5ECF6\",\"gridcolor\":\"white\",\"linecolor\":\"white\",\"showbackground\":true,\"ticks\":\"\",\"zerolinecolor\":\"white\",\"gridwidth\":2}},\"shapedefaults\":{\"line\":{\"color\":\"#2a3f5f\"}},\"annotationdefaults\":{\"arrowcolor\":\"#2a3f5f\",\"arrowhead\":0,\"arrowwidth\":1},\"geo\":{\"bgcolor\":\"white\",\"landcolor\":\"#E5ECF6\",\"subunitcolor\":\"white\",\"showland\":true,\"showlakes\":true,\"lakecolor\":\"white\"},\"title\":{\"x\":0.05},\"mapbox\":{\"style\":\"light\"}}},\"xaxis\":{\"anchor\":\"y\",\"domain\":[0.0,1.0],\"title\":{\"text\":\"index\"}},\"yaxis\":{\"anchor\":\"x\",\"domain\":[0.0,1.0],\"title\":{\"text\":\"pop2024\"},\"type\":\"log\"},\"legend\":{\"title\":{\"text\":\"unMember\"},\"tracegroupgap\":0},\"margin\":{\"t\":60}},                        {\"responsive\": true}                    ).then(function(){\n",
       "                            \n",
       "var gd = document.getElementById('23beb1dd-8dea-41d1-a4dc-7ce85c90cd20');\n",
       "var x = new MutationObserver(function (mutations, observer) {{\n",
       "        var display = window.getComputedStyle(gd).display;\n",
       "        if (!display || display === 'none') {{\n",
       "            console.log([gd, 'removed!']);\n",
       "            Plotly.purge(gd);\n",
       "            observer.disconnect();\n",
       "        }}\n",
       "}});\n",
       "\n",
       "// Listen for the removal of the full notebook cells\n",
       "var notebookContainer = gd.closest('#notebook-container');\n",
       "if (notebookContainer) {{\n",
       "    x.observe(notebookContainer, {childList: true});\n",
       "}}\n",
       "\n",
       "// Listen for the clearing of the current output cell\n",
       "var outputEl = gd.closest('.output');\n",
       "if (outputEl) {{\n",
       "    x.observe(outputEl, {childList: true});\n",
       "}}\n",
       "\n",
       "                        })                };                });            </script>        </div>"
      ]
     },
     "metadata": {},
     "output_type": "display_data"
    }
   ],
   "source": [
    "express.scatter(data_frame=df.sort_values(by='pop2024').reset_index(), y='pop2024', hover_name='country', log_y=True, color='unMember')"
   ]
  },
  {
   "cell_type": "markdown",
   "id": "44a92191",
   "metadata": {
    "papermill": {
     "duration": 0.003973,
     "end_time": "2024-06-06T19:09:32.916840",
     "exception": false,
     "start_time": "2024-06-06T19:09:32.912867",
     "status": "completed"
    },
    "tags": []
   },
   "source": [
    "If we plot the 2024 population on a log plot in the population direction we see a pretty smooth-looking curve, ignoring the outliers."
   ]
  },
  {
   "cell_type": "code",
   "execution_count": 4,
   "id": "91c25f48",
   "metadata": {
    "execution": {
     "iopub.execute_input": "2024-06-06T19:09:32.926756Z",
     "iopub.status.busy": "2024-06-06T19:09:32.926273Z",
     "iopub.status.idle": "2024-06-06T19:09:32.994108Z",
     "shell.execute_reply": "2024-06-06T19:09:32.992993Z"
    },
    "papermill": {
     "duration": 0.075497,
     "end_time": "2024-06-06T19:09:32.996517",
     "exception": false,
     "start_time": "2024-06-06T19:09:32.921020",
     "status": "completed"
    },
    "tags": []
   },
   "outputs": [
    {
     "data": {
      "text/html": [
       "<div>                            <div id=\"6a484eb5-ed0d-4996-b9d8-1b89a704866a\" class=\"plotly-graph-div\" style=\"height:525px; width:100%;\"></div>            <script type=\"text/javascript\">                require([\"plotly\"], function(Plotly) {                    window.PLOTLYENV=window.PLOTLYENV || {};                                    if (document.getElementById(\"6a484eb5-ed0d-4996-b9d8-1b89a704866a\")) {                    Plotly.newPlot(                        \"6a484eb5-ed0d-4996-b9d8-1b89a704866a\",                        [{\"hovertemplate\":\"\\u003cb\\u003e%{hovertext}\\u003c\\u002fb\\u003e\\u003cbr\\u003e\\u003cbr\\u003eunMember=False\\u003cbr\\u003eindex=%{x}\\u003cbr\\u003eDensity_2024=%{y}\\u003cextra\\u003e\\u003c\\u002fextra\\u003e\",\"hovertext\":[\"Greenland\",\"Falkland Islands\",\"Western Sahara\",\"French Guiana\",\"Niue\",\"New Caledonia\",\"Saint Pierre and Miquelon\",\"Faroe Islands\",\"Wallis and Futuna\",\"Montserrat\",\"Turks and Caicos Islands\",\"Cook Islands\",\"French Polynesia\",\"Northern Mariana Islands\",\"Isle of Man\",\"Anguilla\",\"Tokelau\",\"British Virgin Islands\",\"American Samoa\",\"Guadeloupe\",\"United States Virgin Islands\",\"Cayman Islands\",\"Guam\",\"Martinique\",\"Puerto Rico\",\"Reunion\",\"Curacao\",\"Saint Barthelemy\",\"Aruba\",\"Saint Martin\",\"Taiwan\",\"Mayotte\",\"Jersey\",\"Guernsey\",\"Bermuda\",\"Sint Maarten\",\"Gibraltar\",\"Hong Kong\",\"Macau\"],\"legendgroup\":\"False\",\"marker\":{\"color\":\"#636efa\",\"symbol\":\"circle\"},\"mode\":\"markers\",\"name\":\"False\",\"orientation\":\"v\",\"showlegend\":true,\"x\":[0,1,3,7,15,24,39,57,60,61,69,89,108,125,145,156,158,160,162,172,183,184,190,191,194,198,202,203,212,215,217,219,220,221,222,223,229,230,233],\"xaxis\":\"x\",\"y\":[0.1383578999,0.3124127167,2.249567669,3.828333373,7.413793103,16.19070022,24.02892562,39.12445095,41.74817518,42.8627451,48.9778481,71.13333333,89.70988188,108.75,148.954386,175.1208791,191.5,211.7533333,217.72,243.455774,282.5792507,291.1875,322.4333333,324.8368794,368.5233371,393.8495223,434.6058559,440.76,589.8722222,646.74,661.6629555,925.1229947,940.3583333,1012.507937,1183.981481,1303.205882,4811.470588,7139.69619,21674.22492],\"yaxis\":\"y\",\"type\":\"scatter\"},{\"hovertemplate\":\"\\u003cb\\u003e%{hovertext}\\u003c\\u002fb\\u003e\\u003cbr\\u003e\\u003cbr\\u003eunMember=True\\u003cbr\\u003eindex=%{x}\\u003cbr\\u003eDensity_2024=%{y}\\u003cextra\\u003e\\u003c\\u002fextra\\u003e\",\"hovertext\":[\"Mongolia\",\"Namibia\",\"Australia\",\"Iceland\",\"Libya\",\"Suriname\",\"Guyana\",\"Canada\",\"Botswana\",\"Mauritania\",\"Kazakhstan\",\"Russia\",\"Central African Republic\",\"Gabon\",\"Bolivia\",\"Turkmenistan\",\"Chad\",\"Norway\",\"Oman\",\"Argentina\",\"Saudi Arabia\",\"Paraguay\",\"South Sudan\",\"Finland\",\"Belize\",\"Republic of the Congo\",\"Algeria\",\"Uruguay\",\"Mali\",\"New Zealand\",\"Bhutan\",\"Niger\",\"Papua New Guinea\",\"Brazil\",\"Sweden\",\"Sudan\",\"Chile\",\"Solomon Islands\",\"Peru\",\"Vanuatu\",\"Zambia\",\"Latvia\",\"Somalia\",\"Angola\",\"Estonia\",\"Eritrea\",\"Venezuela\",\"Laos\",\"Kyrgyzstan\",\"United States\",\"Palau\",\"Bahamas\",\"Lithuania\",\"Zimbabwe\",\"Mozambique\",\"Montenegro\",\"Belarus\",\"DR Congo\",\"Colombia\",\"Djibouti\",\"South Africa\",\"Fiji\",\"Madagascar\",\"Georgia\",\"Iran\",\"Liberia\",\"Guinea\",\"Nicaragua\",\"Bulgaria\",\"Panama\",\"Cameroon\",\"Bosnia and Herzegovina\",\"Equatorial Guinea\",\"Ukraine\",\"Afghanistan\",\"Mexico\",\"Yemen\",\"Eswatini\",\"Croatia\",\"Ireland\",\"Ecuador\",\"Tajikistan\",\"Lesotho\",\"Guinea-Bissau\",\"Tanzania\",\"Greece\",\"Tunisia\",\"Uzbekistan\",\"Serbia\",\"Samoa\",\"North Macedonia\",\"Myanmar\",\"Romania\",\"Morocco\",\"Brunei\",\"Burkina Faso\",\"Timor-Leste\",\"Ivory Coast\",\"Senegal\",\"Spain\",\"Honduras\",\"Cambodia\",\"Armenia\",\"Dominica\",\"Kenya\",\"Moldova\",\"Costa Rica\",\"Albania\",\"Slovenia\",\"Malaysia\",\"Iraq\",\"Cuba\",\"Austria\",\"Hungary\",\"Turkey\",\"Portugal\",\"Ethiopia\",\"Egypt\",\"Slovakia\",\"France\",\"Sierra Leone\",\"Benin\",\"Azerbaijan\",\"Jordan\",\"Poland\",\"Syria\",\"United Arab Emirates\",\"Czech Republic\",\"Cyprus\",\"Thailand\",\"Denmark\",\"Indonesia\",\"Cape Verde\",\"Tonga\",\"China\",\"Ghana\",\"Micronesia\",\"Kiribati\",\"Togo\",\"Andorra\",\"Guatemala\",\"Saint Kitts and Nevis\",\"Italy\",\"Antigua and Barbuda\",\"Nepal\",\"North Korea\",\"Switzerland\",\"Malawi\",\"Seychelles\",\"Marshall Islands\",\"Dominican Republic\",\"Qatar\",\"Germany\",\"Kuwait\",\"Sao Tome and Principe\",\"Liechtenstein\",\"Uganda\",\"Nigeria\",\"Luxembourg\",\"Jamaica\",\"Saint Vincent and the Grenadines\",\"Gambia\",\"United Kingdom\",\"Saint Lucia\",\"Trinidad and Tobago\",\"El Salvador\",\"Vietnam\",\"Pakistan\",\"Japan\",\"Sri Lanka\",\"Grenada\",\"Tuvalu\",\"Belgium\",\"Philippines\",\"Israel\",\"Haiti\",\"Comoros\",\"India\",\"Lebanon\",\"Netherlands\",\"Burundi\",\"South Korea\",\"San Marino\",\"Rwanda\",\"Mauritius\",\"Nauru\",\"Barbados\",\"Palestine\",\"Bangladesh\",\"Malta\",\"Maldives\",\"Vatican City\",\"Bahrain\",\"Singapore\",\"Monaco\"],\"legendgroup\":\"True\",\"marker\":{\"color\":\"#EF553B\",\"symbol\":\"circle\"},\"mode\":\"markers\",\"name\":\"True\",\"orientation\":\"v\",\"showlegend\":true,\"x\":[2,4,5,6,8,9,10,11,12,13,14,16,17,18,19,20,21,22,23,25,26,27,28,29,30,31,32,33,34,35,36,37,38,40,41,42,43,44,45,46,47,48,49,50,51,52,53,54,55,56,58,59,62,63,64,65,66,67,68,70,71,72,73,74,75,76,77,78,79,80,81,82,83,84,85,86,87,88,90,91,92,93,94,95,96,97,98,99,100,101,102,103,104,105,106,107,109,110,111,112,113,114,115,116,117,118,119,120,121,122,123,124,126,127,128,129,130,131,132,133,134,135,136,137,138,139,140,141,142,143,144,146,147,148,149,150,151,152,153,154,155,157,159,161,163,164,165,166,167,168,169,170,171,173,174,175,176,177,178,179,180,181,182,185,186,187,188,189,192,193,195,196,197,199,200,201,204,205,206,207,208,209,210,211,213,214,216,218,224,225,226,227,228,231,232],\"xaxis\":\"x\",\"y\":[2.243090688,3.213697482,3.471062478,3.745799861,3.957964582,4.030673077,4.163545847,4.361904348,4.79892365,4.845175124,7.344580879,8.790268165,9.495693281,9.642399193,11.6009748,14.04054008,14.96755718,15.13780968,15.22957351,16.829771,17.43224791,17.4862069,17.84547656,18.25980786,18.2663744,18.28564275,19.4306396,19.55957033,19.68200772,20.01419999,20.77561615,22.2933386,23.22083646,26.03896286,26.20697622,26.42303426,26.43980219,27.0336906,27.09644063,28.08244463,28.43015779,29.08950667,29.81943125,30.32376193,30.85476023,31.54019967,33.32615385,33.52114818,35.66009385,37.36730357,39.24130435,41.48081918,43.00220377,43.99721081,44.32768127,46.55033457,46.58112622,46.59143557,47.1751005,49.7122088,50.30147887,51.61860974,53.38021657,53.49582674,55.35271556,57.48493563,59.12734006,59.35290843,60.96734525,61.04018603,62.18280341,62.39019531,62.56659537,65.47777183,66.49947105,66.55956532,66.70805728,71.05087209,71.24065404,73.87832777,73.99487438,74.43989481,77.6048419,78.13474395,78.36878867,79.92800621,80.87467173,80.95723136,81.14598674,82.3618705,82.5815226,84.21513782,85.27032337,85.61832624,86.50056926,87.1354057,92.79643578,93.09214465,94.64274139,95.03101951,96.16056842,96.99664061,97.57565859,97.824,98.75079945,101.2591,102.7558559,103.1394161,105.2305775,105.5300411,107.1657599,107.6549807,108.7874333,109.5221674,110.0875451,111.6017907,114.9415363,115.0075363,116.3012542,118.4932893,124.3830978,124.8676126,126.5990369,128.2172444,131.3877307,132.5930022,135.0584765,136.0613742,137.2799784,140.7069995,148.492375,149.0254155,149.8787503,150.9486111,151.2173696,152.8460575,166.1428571,167.608642,170.2677698,170.9382979,171.3179358,184.0269231,198.4929646,215.4909091,217.9303453,217.9601528,223.9961282,227.7891599,235.3543478,235.6388889,236.6798799,238.2124456,238.2794986,244.0729517,246.2302083,248.8875,248.9739278,251.6027285,256.9796077,260.8253001,265.8538462,280.8105731,280.9136486,296.4016393,299.8440546,308.7012066,317.448864,318.0907729,336.4373992,354.8216618,373.1970588,382.6,386.9145971,399.457437,430.2981516,430.588897,466.2036539,484.9067338,510.170479,524.8329373,529.2701324,530.1430635,560.2333333,584.3092825,641.3684729,644.2,656.5325581,912.7845515,1342.100415,1677.3125,1726.29,1736.363636,1909.187261,8429.956825,18078.5],\"yaxis\":\"y\",\"type\":\"scatter\"}],                        {\"template\":{\"data\":{\"histogram2dcontour\":[{\"type\":\"histogram2dcontour\",\"colorbar\":{\"outlinewidth\":0,\"ticks\":\"\"},\"colorscale\":[[0.0,\"#0d0887\"],[0.1111111111111111,\"#46039f\"],[0.2222222222222222,\"#7201a8\"],[0.3333333333333333,\"#9c179e\"],[0.4444444444444444,\"#bd3786\"],[0.5555555555555556,\"#d8576b\"],[0.6666666666666666,\"#ed7953\"],[0.7777777777777778,\"#fb9f3a\"],[0.8888888888888888,\"#fdca26\"],[1.0,\"#f0f921\"]]}],\"choropleth\":[{\"type\":\"choropleth\",\"colorbar\":{\"outlinewidth\":0,\"ticks\":\"\"}}],\"histogram2d\":[{\"type\":\"histogram2d\",\"colorbar\":{\"outlinewidth\":0,\"ticks\":\"\"},\"colorscale\":[[0.0,\"#0d0887\"],[0.1111111111111111,\"#46039f\"],[0.2222222222222222,\"#7201a8\"],[0.3333333333333333,\"#9c179e\"],[0.4444444444444444,\"#bd3786\"],[0.5555555555555556,\"#d8576b\"],[0.6666666666666666,\"#ed7953\"],[0.7777777777777778,\"#fb9f3a\"],[0.8888888888888888,\"#fdca26\"],[1.0,\"#f0f921\"]]}],\"heatmap\":[{\"type\":\"heatmap\",\"colorbar\":{\"outlinewidth\":0,\"ticks\":\"\"},\"colorscale\":[[0.0,\"#0d0887\"],[0.1111111111111111,\"#46039f\"],[0.2222222222222222,\"#7201a8\"],[0.3333333333333333,\"#9c179e\"],[0.4444444444444444,\"#bd3786\"],[0.5555555555555556,\"#d8576b\"],[0.6666666666666666,\"#ed7953\"],[0.7777777777777778,\"#fb9f3a\"],[0.8888888888888888,\"#fdca26\"],[1.0,\"#f0f921\"]]}],\"heatmapgl\":[{\"type\":\"heatmapgl\",\"colorbar\":{\"outlinewidth\":0,\"ticks\":\"\"},\"colorscale\":[[0.0,\"#0d0887\"],[0.1111111111111111,\"#46039f\"],[0.2222222222222222,\"#7201a8\"],[0.3333333333333333,\"#9c179e\"],[0.4444444444444444,\"#bd3786\"],[0.5555555555555556,\"#d8576b\"],[0.6666666666666666,\"#ed7953\"],[0.7777777777777778,\"#fb9f3a\"],[0.8888888888888888,\"#fdca26\"],[1.0,\"#f0f921\"]]}],\"contourcarpet\":[{\"type\":\"contourcarpet\",\"colorbar\":{\"outlinewidth\":0,\"ticks\":\"\"}}],\"contour\":[{\"type\":\"contour\",\"colorbar\":{\"outlinewidth\":0,\"ticks\":\"\"},\"colorscale\":[[0.0,\"#0d0887\"],[0.1111111111111111,\"#46039f\"],[0.2222222222222222,\"#7201a8\"],[0.3333333333333333,\"#9c179e\"],[0.4444444444444444,\"#bd3786\"],[0.5555555555555556,\"#d8576b\"],[0.6666666666666666,\"#ed7953\"],[0.7777777777777778,\"#fb9f3a\"],[0.8888888888888888,\"#fdca26\"],[1.0,\"#f0f921\"]]}],\"surface\":[{\"type\":\"surface\",\"colorbar\":{\"outlinewidth\":0,\"ticks\":\"\"},\"colorscale\":[[0.0,\"#0d0887\"],[0.1111111111111111,\"#46039f\"],[0.2222222222222222,\"#7201a8\"],[0.3333333333333333,\"#9c179e\"],[0.4444444444444444,\"#bd3786\"],[0.5555555555555556,\"#d8576b\"],[0.6666666666666666,\"#ed7953\"],[0.7777777777777778,\"#fb9f3a\"],[0.8888888888888888,\"#fdca26\"],[1.0,\"#f0f921\"]]}],\"mesh3d\":[{\"type\":\"mesh3d\",\"colorbar\":{\"outlinewidth\":0,\"ticks\":\"\"}}],\"scatter\":[{\"fillpattern\":{\"fillmode\":\"overlay\",\"size\":10,\"solidity\":0.2},\"type\":\"scatter\"}],\"parcoords\":[{\"type\":\"parcoords\",\"line\":{\"colorbar\":{\"outlinewidth\":0,\"ticks\":\"\"}}}],\"scatterpolargl\":[{\"type\":\"scatterpolargl\",\"marker\":{\"colorbar\":{\"outlinewidth\":0,\"ticks\":\"\"}}}],\"bar\":[{\"error_x\":{\"color\":\"#2a3f5f\"},\"error_y\":{\"color\":\"#2a3f5f\"},\"marker\":{\"line\":{\"color\":\"#E5ECF6\",\"width\":0.5},\"pattern\":{\"fillmode\":\"overlay\",\"size\":10,\"solidity\":0.2}},\"type\":\"bar\"}],\"scattergeo\":[{\"type\":\"scattergeo\",\"marker\":{\"colorbar\":{\"outlinewidth\":0,\"ticks\":\"\"}}}],\"scatterpolar\":[{\"type\":\"scatterpolar\",\"marker\":{\"colorbar\":{\"outlinewidth\":0,\"ticks\":\"\"}}}],\"histogram\":[{\"marker\":{\"pattern\":{\"fillmode\":\"overlay\",\"size\":10,\"solidity\":0.2}},\"type\":\"histogram\"}],\"scattergl\":[{\"type\":\"scattergl\",\"marker\":{\"colorbar\":{\"outlinewidth\":0,\"ticks\":\"\"}}}],\"scatter3d\":[{\"type\":\"scatter3d\",\"line\":{\"colorbar\":{\"outlinewidth\":0,\"ticks\":\"\"}},\"marker\":{\"colorbar\":{\"outlinewidth\":0,\"ticks\":\"\"}}}],\"scattermapbox\":[{\"type\":\"scattermapbox\",\"marker\":{\"colorbar\":{\"outlinewidth\":0,\"ticks\":\"\"}}}],\"scatterternary\":[{\"type\":\"scatterternary\",\"marker\":{\"colorbar\":{\"outlinewidth\":0,\"ticks\":\"\"}}}],\"scattercarpet\":[{\"type\":\"scattercarpet\",\"marker\":{\"colorbar\":{\"outlinewidth\":0,\"ticks\":\"\"}}}],\"carpet\":[{\"aaxis\":{\"endlinecolor\":\"#2a3f5f\",\"gridcolor\":\"white\",\"linecolor\":\"white\",\"minorgridcolor\":\"white\",\"startlinecolor\":\"#2a3f5f\"},\"baxis\":{\"endlinecolor\":\"#2a3f5f\",\"gridcolor\":\"white\",\"linecolor\":\"white\",\"minorgridcolor\":\"white\",\"startlinecolor\":\"#2a3f5f\"},\"type\":\"carpet\"}],\"table\":[{\"cells\":{\"fill\":{\"color\":\"#EBF0F8\"},\"line\":{\"color\":\"white\"}},\"header\":{\"fill\":{\"color\":\"#C8D4E3\"},\"line\":{\"color\":\"white\"}},\"type\":\"table\"}],\"barpolar\":[{\"marker\":{\"line\":{\"color\":\"#E5ECF6\",\"width\":0.5},\"pattern\":{\"fillmode\":\"overlay\",\"size\":10,\"solidity\":0.2}},\"type\":\"barpolar\"}],\"pie\":[{\"automargin\":true,\"type\":\"pie\"}]},\"layout\":{\"autotypenumbers\":\"strict\",\"colorway\":[\"#636efa\",\"#EF553B\",\"#00cc96\",\"#ab63fa\",\"#FFA15A\",\"#19d3f3\",\"#FF6692\",\"#B6E880\",\"#FF97FF\",\"#FECB52\"],\"font\":{\"color\":\"#2a3f5f\"},\"hovermode\":\"closest\",\"hoverlabel\":{\"align\":\"left\"},\"paper_bgcolor\":\"white\",\"plot_bgcolor\":\"#E5ECF6\",\"polar\":{\"bgcolor\":\"#E5ECF6\",\"angularaxis\":{\"gridcolor\":\"white\",\"linecolor\":\"white\",\"ticks\":\"\"},\"radialaxis\":{\"gridcolor\":\"white\",\"linecolor\":\"white\",\"ticks\":\"\"}},\"ternary\":{\"bgcolor\":\"#E5ECF6\",\"aaxis\":{\"gridcolor\":\"white\",\"linecolor\":\"white\",\"ticks\":\"\"},\"baxis\":{\"gridcolor\":\"white\",\"linecolor\":\"white\",\"ticks\":\"\"},\"caxis\":{\"gridcolor\":\"white\",\"linecolor\":\"white\",\"ticks\":\"\"}},\"coloraxis\":{\"colorbar\":{\"outlinewidth\":0,\"ticks\":\"\"}},\"colorscale\":{\"sequential\":[[0.0,\"#0d0887\"],[0.1111111111111111,\"#46039f\"],[0.2222222222222222,\"#7201a8\"],[0.3333333333333333,\"#9c179e\"],[0.4444444444444444,\"#bd3786\"],[0.5555555555555556,\"#d8576b\"],[0.6666666666666666,\"#ed7953\"],[0.7777777777777778,\"#fb9f3a\"],[0.8888888888888888,\"#fdca26\"],[1.0,\"#f0f921\"]],\"sequentialminus\":[[0.0,\"#0d0887\"],[0.1111111111111111,\"#46039f\"],[0.2222222222222222,\"#7201a8\"],[0.3333333333333333,\"#9c179e\"],[0.4444444444444444,\"#bd3786\"],[0.5555555555555556,\"#d8576b\"],[0.6666666666666666,\"#ed7953\"],[0.7777777777777778,\"#fb9f3a\"],[0.8888888888888888,\"#fdca26\"],[1.0,\"#f0f921\"]],\"diverging\":[[0,\"#8e0152\"],[0.1,\"#c51b7d\"],[0.2,\"#de77ae\"],[0.3,\"#f1b6da\"],[0.4,\"#fde0ef\"],[0.5,\"#f7f7f7\"],[0.6,\"#e6f5d0\"],[0.7,\"#b8e186\"],[0.8,\"#7fbc41\"],[0.9,\"#4d9221\"],[1,\"#276419\"]]},\"xaxis\":{\"gridcolor\":\"white\",\"linecolor\":\"white\",\"ticks\":\"\",\"title\":{\"standoff\":15},\"zerolinecolor\":\"white\",\"automargin\":true,\"zerolinewidth\":2},\"yaxis\":{\"gridcolor\":\"white\",\"linecolor\":\"white\",\"ticks\":\"\",\"title\":{\"standoff\":15},\"zerolinecolor\":\"white\",\"automargin\":true,\"zerolinewidth\":2},\"scene\":{\"xaxis\":{\"backgroundcolor\":\"#E5ECF6\",\"gridcolor\":\"white\",\"linecolor\":\"white\",\"showbackground\":true,\"ticks\":\"\",\"zerolinecolor\":\"white\",\"gridwidth\":2},\"yaxis\":{\"backgroundcolor\":\"#E5ECF6\",\"gridcolor\":\"white\",\"linecolor\":\"white\",\"showbackground\":true,\"ticks\":\"\",\"zerolinecolor\":\"white\",\"gridwidth\":2},\"zaxis\":{\"backgroundcolor\":\"#E5ECF6\",\"gridcolor\":\"white\",\"linecolor\":\"white\",\"showbackground\":true,\"ticks\":\"\",\"zerolinecolor\":\"white\",\"gridwidth\":2}},\"shapedefaults\":{\"line\":{\"color\":\"#2a3f5f\"}},\"annotationdefaults\":{\"arrowcolor\":\"#2a3f5f\",\"arrowhead\":0,\"arrowwidth\":1},\"geo\":{\"bgcolor\":\"white\",\"landcolor\":\"#E5ECF6\",\"subunitcolor\":\"white\",\"showland\":true,\"showlakes\":true,\"lakecolor\":\"white\"},\"title\":{\"x\":0.05},\"mapbox\":{\"style\":\"light\"}}},\"xaxis\":{\"anchor\":\"y\",\"domain\":[0.0,1.0],\"title\":{\"text\":\"index\"}},\"yaxis\":{\"anchor\":\"x\",\"domain\":[0.0,1.0],\"title\":{\"text\":\"Density_2024\"},\"type\":\"log\"},\"legend\":{\"title\":{\"text\":\"unMember\"},\"tracegroupgap\":0},\"margin\":{\"t\":60}},                        {\"responsive\": true}                    ).then(function(){\n",
       "                            \n",
       "var gd = document.getElementById('6a484eb5-ed0d-4996-b9d8-1b89a704866a');\n",
       "var x = new MutationObserver(function (mutations, observer) {{\n",
       "        var display = window.getComputedStyle(gd).display;\n",
       "        if (!display || display === 'none') {{\n",
       "            console.log([gd, 'removed!']);\n",
       "            Plotly.purge(gd);\n",
       "            observer.disconnect();\n",
       "        }}\n",
       "}});\n",
       "\n",
       "// Listen for the removal of the full notebook cells\n",
       "var notebookContainer = gd.closest('#notebook-container');\n",
       "if (notebookContainer) {{\n",
       "    x.observe(notebookContainer, {childList: true});\n",
       "}}\n",
       "\n",
       "// Listen for the clearing of the current output cell\n",
       "var outputEl = gd.closest('.output');\n",
       "if (outputEl) {{\n",
       "    x.observe(outputEl, {childList: true});\n",
       "}}\n",
       "\n",
       "                        })                };                });            </script>        </div>"
      ]
     },
     "metadata": {},
     "output_type": "display_data"
    }
   ],
   "source": [
    "express.scatter(data_frame=df.sort_values(by='Density_2024').reset_index(), y='Density_2024', hover_name='country', log_y=True, color='unMember')"
   ]
  },
  {
   "cell_type": "markdown",
   "id": "00fdfd05",
   "metadata": {
    "papermill": {
     "duration": 0.004207,
     "end_time": "2024-06-06T19:09:33.005360",
     "exception": false,
     "start_time": "2024-06-06T19:09:33.001153",
     "status": "completed"
    },
    "tags": []
   },
   "source": [
    "We see something similar with the population density, although the outliers are more pronounced and the overall graph is flatter."
   ]
  },
  {
   "cell_type": "markdown",
   "id": "bcfa7122",
   "metadata": {
    "papermill": {
     "duration": 0.004176,
     "end_time": "2024-06-06T19:09:33.014062",
     "exception": false,
     "start_time": "2024-06-06T19:09:33.009886",
     "status": "completed"
    },
    "tags": []
   },
   "source": [
    "Let's have a look at the population at the two ends of the period of interest: the projected 2050 data as a function of the historical 1980 data."
   ]
  },
  {
   "cell_type": "code",
   "execution_count": 5,
   "id": "55071a52",
   "metadata": {
    "execution": {
     "iopub.execute_input": "2024-06-06T19:09:33.024538Z",
     "iopub.status.busy": "2024-06-06T19:09:33.024114Z",
     "iopub.status.idle": "2024-06-06T19:09:33.116138Z",
     "shell.execute_reply": "2024-06-06T19:09:33.115076Z"
    },
    "papermill": {
     "duration": 0.100038,
     "end_time": "2024-06-06T19:09:33.118556",
     "exception": false,
     "start_time": "2024-06-06T19:09:33.018518",
     "status": "completed"
    },
    "tags": []
   },
   "outputs": [
    {
     "data": {
      "text/html": [
       "<div>                            <div id=\"9e7d0cdc-124a-4345-8324-e51e5f3bf2dd\" class=\"plotly-graph-div\" style=\"height:525px; width:100%;\"></div>            <script type=\"text/javascript\">                require([\"plotly\"], function(Plotly) {                    window.PLOTLYENV=window.PLOTLYENV || {};                                    if (document.getElementById(\"9e7d0cdc-124a-4345-8324-e51e5f3bf2dd\")) {                    Plotly.newPlot(                        \"9e7d0cdc-124a-4345-8324-e51e5f3bf2dd\",                        [{\"hovertemplate\":\"\\u003cb\\u003e%{hovertext}\\u003c\\u002fb\\u003e\\u003cbr\\u003e\\u003cbr\\u003epop1980=%{x}\\u003cbr\\u003epop2050=%{y}\\u003cbr\\u003e2024YoYGrowthRate=%{marker.color}\\u003cextra\\u003e\\u003c\\u002fextra\\u003e\",\"hovertext\":[\"India\",\"China\",\"United States\",\"Indonesia\",\"Pakistan\",\"Nigeria\",\"Brazil\",\"Bangladesh\",\"Russia\",\"Ethiopia\",\"Mexico\",\"Japan\",\"Philippines\",\"Egypt\",\"DR Congo\",\"Vietnam\",\"Iran\",\"Turkey\",\"Germany\",\"Thailand\",\"Tanzania\",\"United Kingdom\",\"France\",\"South Africa\",\"Italy\",\"Kenya\",\"Myanmar\",\"Colombia\",\"South Korea\",\"Uganda\",\"Sudan\",\"Spain\",\"Iraq\",\"Algeria\",\"Argentina\",\"Afghanistan\",\"Poland\",\"Canada\",\"Morocco\",\"Ukraine\",\"Angola\",\"Saudi Arabia\",\"Uzbekistan\",\"Yemen\",\"Mozambique\",\"Ghana\",\"Peru\",\"Malaysia\",\"Nepal\",\"Madagascar\",\"Ivory Coast\",\"Venezuela\",\"Cameroon\",\"Niger\",\"Australia\",\"North Korea\",\"Syria\",\"Mali\",\"Taiwan\",\"Burkina Faso\",\"Sri Lanka\",\"Malawi\",\"Zambia\",\"Kazakhstan\",\"Chile\",\"Romania\",\"Chad\",\"Somalia\",\"Ecuador\",\"Guatemala\",\"Senegal\",\"Netherlands\",\"Cambodia\",\"Zimbabwe\",\"Guinea\",\"Rwanda\",\"Benin\",\"Burundi\",\"Bolivia\",\"Tunisia\",\"Haiti\",\"Belgium\",\"Dominican Republic\",\"Jordan\",\"South Sudan\",\"Cuba\",\"Honduras\",\"Sweden\",\"Papua New Guinea\",\"Czech Republic\",\"Azerbaijan\",\"Tajikistan\",\"Greece\",\"Portugal\",\"Hungary\",\"United Arab Emirates\",\"Belarus\",\"Israel\",\"Togo\",\"Sierra Leone\",\"Austria\",\"Switzerland\",\"Laos\",\"Hong Kong\",\"Nicaragua\",\"Serbia\",\"Libya\",\"Paraguay\",\"Kyrgyzstan\",\"Bulgaria\",\"Turkmenistan\",\"El Salvador\",\"Republic of the Congo\",\"Singapore\",\"Denmark\",\"Central African Republic\",\"Slovakia\",\"Finland\",\"Liberia\",\"Norway\",\"Palestine\",\"New Zealand\",\"Costa Rica\",\"Lebanon\",\"Ireland\",\"Mauritania\",\"Oman\",\"Panama\",\"Kuwait\",\"Croatia\",\"Eritrea\",\"Georgia\",\"Mongolia\",\"Uruguay\",\"Moldova\",\"Puerto Rico\",\"Bosnia and Herzegovina\",\"Gambia\",\"Albania\",\"Jamaica\",\"Armenia\",\"Qatar\",\"Botswana\",\"Lithuania\",\"Namibia\",\"Gabon\",\"Lesotho\",\"Guinea-Bissau\",\"Slovenia\",\"North Macedonia\",\"Latvia\",\"Equatorial Guinea\",\"Trinidad and Tobago\",\"Bahrain\",\"Timor-Leste\",\"Estonia\",\"Mauritius\",\"Cyprus\",\"Eswatini\",\"Djibouti\",\"Reunion\",\"Fiji\",\"Comoros\",\"Guyana\",\"Bhutan\",\"Solomon Islands\",\"Macau\",\"Luxembourg\",\"Suriname\",\"Montenegro\",\"Cape Verde\",\"Western Sahara\",\"Malta\",\"Maldives\",\"Brunei\",\"Belize\",\"Bahamas\",\"Guadeloupe\",\"Iceland\",\"Martinique\",\"Mayotte\",\"Vanuatu\",\"French Guiana\",\"French Polynesia\",\"New Caledonia\",\"Barbados\",\"Sao Tome and Principe\",\"Samoa\",\"Curacao\",\"Saint Lucia\",\"Guam\",\"Kiribati\",\"Grenada\",\"Micronesia\",\"Jersey\",\"Tonga\",\"Seychelles\",\"Aruba\",\"Saint Vincent and the Grenadines\",\"United States Virgin Islands\",\"Antigua and Barbuda\",\"Isle of Man\",\"Andorra\",\"Dominica\",\"Cayman Islands\",\"Bermuda\",\"Guernsey\",\"Greenland\",\"Faroe Islands\",\"Northern Mariana Islands\",\"Saint Kitts and Nevis\",\"Turks and Caicos Islands\",\"Sint Maarten\",\"American Samoa\",\"Marshall Islands\",\"Liechtenstein\",\"Monaco\",\"San Marino\",\"Gibraltar\",\"Saint Martin\",\"British Virgin Islands\",\"Palau\",\"Cook Islands\",\"Anguilla\",\"Nauru\",\"Tuvalu\",\"Wallis and Futuna\",\"Saint Barthelemy\",\"Saint Pierre and Miquelon\",\"Montserrat\",\"Falkland Islands\",\"Niue\",\"Tokelau\",\"Vatican City\"],\"legendgroup\":\"\",\"marker\":{\"color\":[0.009164171561,-0.0003455003843,0.005346692284,0.008157292457,0.01964423592,0.02389398715,0.005613331808,0.01010030863,-0.003373478919,0.0252330134,0.007262433398,-0.005378025217,0.0150749589,0.01568228665,0.03287906978,0.006461023509,0.007143593514,0.005176388668,-0.0005061430549,0.001177137806,0.02937459424,0.003316321311,0.001934104492,0.01002617004,-0.002938946161,0.02000784529,0.007085217876,0.004907462332,-0.00081291426,0.02762152185,0.02596648952,-0.0009733872496,0.02239549179,0.01474069036,0.006204017994,0.02682528211,-0.01960560831,0.008399797727,0.009815395563,0.03247241488,0.03054262977,0.01426106703,0.0144995112,0.02235215999,0.02835171146,0.01921157283,0.0096273311,0.01059124518,0.01112501412,0.02410091865,0.02529238874,0.01930873725,0.02608064923,0.0380889968,0.009847948367,0.003201772605,0.0482644476,0.03099941452,0.001126016353,0.02532147947,0.002543622493,0.02599930603,0.02746549458,0.01129882933,0.001490046404,-0.01376456984,0.03110637551,0.03106058861,0.01027366836,0.01472494015,0.02580643999,0.00299835983,0.01044690574,0.02129632702,0.02382969811,0.02271970217,0.02678105494,0.02667193612,0.01442983214,0.00854584157,0.01213389132,0.00253582449,0.008914960701,0.004222438073,0.01698074345,-0.001774272231,0.01563254274,0.005803100352,0.01799208533,0.0008040745877,0.0048261485,0.01853100046,-0.00372845636,-0.002366992092,-0.01587654643,0.007878850097,-0.004548317277,0.014947049,0.02287050994,0.02125788241,0.002029141775,0.006225310967,0.01347982434,0.0006770241213,0.01365523231,-0.007280520269,0.01100533245,0.01249664069,0.01547938065,-0.01033267407,0.01257976397,0.0049247888,0.02254477704,0.006315502809,0.004869298533,0.0301815557,-0.01593853809,0.0007954232956,0.02188330565,0.007328162561,0.02303625054,0.008002716092,0.00662698648,-0.02519382958,0.006435321,0.02692438745,0.01489304071,0.01340036575,0.009111604628,-0.005485682469,0.0183387078,-0.002912065128,0.01348125426,0.00006076349329,-0.03086965367,0.002603430222,-0.005129176196,0.02474967258,-0.002266244745,-0.000285254804,3.239775808e-6,0.007609361097,0.01657426761,-0.009400548568,0.01598703926,0.01969616255,0.01105643092,0.0215297079,-0.0003349570099,-0.001425435074,-0.01091185661,0.02351588147,0.002125820148,0.008887862679,0.01417540548,-0.00281531489,0.001092608782,0.006609593552,0.009293686438,0.01396799697,0.007694062718,0.007152049126,0.01822609512,0.007077610422,0.006296480676,0.02194553391,0.01268623544,0.01042506659,0.008903529321,-0.0006113474385,0.009652870806,0.01894564409,0.003132335571,-0.006015112635,0.007367565035,0.01419339135,0.006301151414,0.001280823769,0.006317309588,-0.001539589243,0.02976532389,0.02337476757,0.02447822396,0.008129581186,0.01015389551,0.00111349492,0.01951642399,0.01455594401,0.004623145926,0.003073491964,0.006718627134,0.01683705951,0.005579198466,0.009338332292,0.009311103558,0.008443673276,0.005600966004,-0.0009409373618,-0.0001446508129,-0.007037974684,0.00549322361,0.00229016645,0.003159025072,0.004490690033,0.008296061174,-0.002091495107,0.003839858995,0.002577547093,0.003266378825,0.004598762953,0.001926499843,0.008010941774,0.00196734657,-0.008425559047,0.00997714068,0.006012530315,-0.003857068077,-0.0008322929671,0.0009177679883,0.00810549615,0.007134250745,-0.0003876398272,0.001642806853,0.002327190389,0.00813771518,0.007195507196,-0.005477308294,0.002273967619,-0.004280821918,-0.003191974464,0.003165391717,0.0,0.0116217644,0.0],\"coloraxis\":\"coloraxis\",\"symbol\":\"circle\"},\"mode\":\"markers\",\"name\":\"\",\"orientation\":\"v\",\"showlegend\":false,\"x\":[696828385,982372466,223140018,148177096,80624057,72951439,122288383,83929765,138257420,34945469,67705186,117624196,48419546,43748556,26708686,52968270,38520664,44089069,77786703,45737753,19297659,56326328,53713830,29463549,56329482,16187124,33465781,26176195,38170501,13284026,16673586,37491666,13653369,18739378,28024803,12486631,35521429,24511510,19678444,49973920,8330047,10171710,15947129,9204938,11413587,11865246,17492406,13215707,15600442,8948162,8303810,15210443,8519891,6173177,14706322,17973650,8898954,7372581,18100281,6932967,14943645,6267369,5720438,14172710,11469828,22125224,4408230,5892224,8135845,6987767,5703869,14130387,6198959,7049926,4972609,5247532,3833939,4312834,5736088,6578156,5646676,9828986,5755800,2216903,4192012,9809107,3777990,8311763,3104788,10270060,6383060,4045965,9307148,9785252,10698679,1014048,9817257,3744608,2838110,3367477,7547561,6319113,3297519,4978544,3303309,7777010,2962720,3078912,3691209,8980606,2862903,4508992,1829256,2400729,5125392,2415276,4973883,4779418,1932169,4085776,1453620,3147168,2414303,2963702,3391387,1506694,1017462,1956987,1493870,4680144,1657982,5145843,1697780,2953750,4103240,3214568,4199820,718586,2941651,2135546,3135123,277450,938578,3521206,975994,749078,1407672,831462,1901570,1907023,2572037,282509,1127852,362595,642224,1476983,954865,679327,598564,324121,551674,644582,328328,778176,415257,233668,245332,363741,375112,589324,317234,116775,333587,164887,187921,145133,223752,334234,228263,333786,52233,118156,66825,163591,148599,253575,97210,164905,156851,121633,110286,60813,94838,76299,75124,96708,65290,62267,107480,96640,64889,64022,35611,72978,17100,53565,52860,50106,43054,17613,43097,7598,12243,32886,31988,25003,27076,21346,28734,7776,11109,12252,17651,6560,7635,7731,11315,2983,6106,11452,2240,3637,1647,733],\"xaxis\":\"x\",\"y\":[1670490596,1312636325,375391963,317225213,367808468,377459883,230885725,203904900,133133035,214812309,143772364,103784357,157891622,160339889,217494003,107012939,99007204,95829258,78932228,67880083,129931520,71684966,65827072,73529753,52250484,85211739,59929399,56987651,45770874,87622081,84494269,44219565,74515140,60001113,51621175,74075234,34932339,45890819,45044990,32867719,72328068,48374543,45593149,55296331,63044497,52231785,42022554,41032433,37401365,51592965,51358243,35937404,51279560,67043296,32192919,25807197,38306374,47439802,22445526,40541548,21814985,37159300,37460435,25609978,20675378,17457213,36452035,36462830,22269779,24600727,32562869,17897025,20258435,26438589,23711700,23030046,25264035,24208671,16609854,14315779,15087520,12090657,13180541,15005941,17460846,10028085,14258514,11902033,14910369,10577126,10867296,15200989,9144951,9261305,8817396,11449471,8409632,12991790,15478883,13595023,8924190,9753753,9775552,6975391,9094641,5777806,8539976,8591486,9426858,5187392,8263833,6636854,10378912,6337235,6445109,11533423,5186967,5460917,8890700,6367559,8861747,5949002,5702525,4937579,5724686,8914673,6328978,5736121,5155414,3333425,5964021,3384660,4518856,3337143,2997532,2727624,2739014,4673743,2456472,2493823,2573465,3358454,3679340,2187550,3779918,3757053,2898369,3445289,2003258,1909309,1433728,2790533,1485139,1809237,1806869,1171695,1226235,1391785,1655121,1502575,1127252,1094174,1246207,878746,874294,1225407,881666,781910,725519,586385,727457,851067,522737,569909,498373,538838,450625,388861,408783,330121,664141,578567,532459,346933,353191,267788,366663,320016,204084,177856,195673,188570,136253,135457,135441,131225,116644,94185,101691,77519,99030,86680,80504,74167,77633,56041,66496,53997,59444,50050,46882,52865,38947,33557,51211,42287,37664,32044,31356,35453,34768,16689,17674,15294,14695,13211,11349,10210,5165,3781,3779,2096,2430,764],\"yaxis\":\"y\",\"type\":\"scatter\"}],                        {\"template\":{\"data\":{\"histogram2dcontour\":[{\"type\":\"histogram2dcontour\",\"colorbar\":{\"outlinewidth\":0,\"ticks\":\"\"},\"colorscale\":[[0.0,\"#0d0887\"],[0.1111111111111111,\"#46039f\"],[0.2222222222222222,\"#7201a8\"],[0.3333333333333333,\"#9c179e\"],[0.4444444444444444,\"#bd3786\"],[0.5555555555555556,\"#d8576b\"],[0.6666666666666666,\"#ed7953\"],[0.7777777777777778,\"#fb9f3a\"],[0.8888888888888888,\"#fdca26\"],[1.0,\"#f0f921\"]]}],\"choropleth\":[{\"type\":\"choropleth\",\"colorbar\":{\"outlinewidth\":0,\"ticks\":\"\"}}],\"histogram2d\":[{\"type\":\"histogram2d\",\"colorbar\":{\"outlinewidth\":0,\"ticks\":\"\"},\"colorscale\":[[0.0,\"#0d0887\"],[0.1111111111111111,\"#46039f\"],[0.2222222222222222,\"#7201a8\"],[0.3333333333333333,\"#9c179e\"],[0.4444444444444444,\"#bd3786\"],[0.5555555555555556,\"#d8576b\"],[0.6666666666666666,\"#ed7953\"],[0.7777777777777778,\"#fb9f3a\"],[0.8888888888888888,\"#fdca26\"],[1.0,\"#f0f921\"]]}],\"heatmap\":[{\"type\":\"heatmap\",\"colorbar\":{\"outlinewidth\":0,\"ticks\":\"\"},\"colorscale\":[[0.0,\"#0d0887\"],[0.1111111111111111,\"#46039f\"],[0.2222222222222222,\"#7201a8\"],[0.3333333333333333,\"#9c179e\"],[0.4444444444444444,\"#bd3786\"],[0.5555555555555556,\"#d8576b\"],[0.6666666666666666,\"#ed7953\"],[0.7777777777777778,\"#fb9f3a\"],[0.8888888888888888,\"#fdca26\"],[1.0,\"#f0f921\"]]}],\"heatmapgl\":[{\"type\":\"heatmapgl\",\"colorbar\":{\"outlinewidth\":0,\"ticks\":\"\"},\"colorscale\":[[0.0,\"#0d0887\"],[0.1111111111111111,\"#46039f\"],[0.2222222222222222,\"#7201a8\"],[0.3333333333333333,\"#9c179e\"],[0.4444444444444444,\"#bd3786\"],[0.5555555555555556,\"#d8576b\"],[0.6666666666666666,\"#ed7953\"],[0.7777777777777778,\"#fb9f3a\"],[0.8888888888888888,\"#fdca26\"],[1.0,\"#f0f921\"]]}],\"contourcarpet\":[{\"type\":\"contourcarpet\",\"colorbar\":{\"outlinewidth\":0,\"ticks\":\"\"}}],\"contour\":[{\"type\":\"contour\",\"colorbar\":{\"outlinewidth\":0,\"ticks\":\"\"},\"colorscale\":[[0.0,\"#0d0887\"],[0.1111111111111111,\"#46039f\"],[0.2222222222222222,\"#7201a8\"],[0.3333333333333333,\"#9c179e\"],[0.4444444444444444,\"#bd3786\"],[0.5555555555555556,\"#d8576b\"],[0.6666666666666666,\"#ed7953\"],[0.7777777777777778,\"#fb9f3a\"],[0.8888888888888888,\"#fdca26\"],[1.0,\"#f0f921\"]]}],\"surface\":[{\"type\":\"surface\",\"colorbar\":{\"outlinewidth\":0,\"ticks\":\"\"},\"colorscale\":[[0.0,\"#0d0887\"],[0.1111111111111111,\"#46039f\"],[0.2222222222222222,\"#7201a8\"],[0.3333333333333333,\"#9c179e\"],[0.4444444444444444,\"#bd3786\"],[0.5555555555555556,\"#d8576b\"],[0.6666666666666666,\"#ed7953\"],[0.7777777777777778,\"#fb9f3a\"],[0.8888888888888888,\"#fdca26\"],[1.0,\"#f0f921\"]]}],\"mesh3d\":[{\"type\":\"mesh3d\",\"colorbar\":{\"outlinewidth\":0,\"ticks\":\"\"}}],\"scatter\":[{\"fillpattern\":{\"fillmode\":\"overlay\",\"size\":10,\"solidity\":0.2},\"type\":\"scatter\"}],\"parcoords\":[{\"type\":\"parcoords\",\"line\":{\"colorbar\":{\"outlinewidth\":0,\"ticks\":\"\"}}}],\"scatterpolargl\":[{\"type\":\"scatterpolargl\",\"marker\":{\"colorbar\":{\"outlinewidth\":0,\"ticks\":\"\"}}}],\"bar\":[{\"error_x\":{\"color\":\"#2a3f5f\"},\"error_y\":{\"color\":\"#2a3f5f\"},\"marker\":{\"line\":{\"color\":\"#E5ECF6\",\"width\":0.5},\"pattern\":{\"fillmode\":\"overlay\",\"size\":10,\"solidity\":0.2}},\"type\":\"bar\"}],\"scattergeo\":[{\"type\":\"scattergeo\",\"marker\":{\"colorbar\":{\"outlinewidth\":0,\"ticks\":\"\"}}}],\"scatterpolar\":[{\"type\":\"scatterpolar\",\"marker\":{\"colorbar\":{\"outlinewidth\":0,\"ticks\":\"\"}}}],\"histogram\":[{\"marker\":{\"pattern\":{\"fillmode\":\"overlay\",\"size\":10,\"solidity\":0.2}},\"type\":\"histogram\"}],\"scattergl\":[{\"type\":\"scattergl\",\"marker\":{\"colorbar\":{\"outlinewidth\":0,\"ticks\":\"\"}}}],\"scatter3d\":[{\"type\":\"scatter3d\",\"line\":{\"colorbar\":{\"outlinewidth\":0,\"ticks\":\"\"}},\"marker\":{\"colorbar\":{\"outlinewidth\":0,\"ticks\":\"\"}}}],\"scattermapbox\":[{\"type\":\"scattermapbox\",\"marker\":{\"colorbar\":{\"outlinewidth\":0,\"ticks\":\"\"}}}],\"scatterternary\":[{\"type\":\"scatterternary\",\"marker\":{\"colorbar\":{\"outlinewidth\":0,\"ticks\":\"\"}}}],\"scattercarpet\":[{\"type\":\"scattercarpet\",\"marker\":{\"colorbar\":{\"outlinewidth\":0,\"ticks\":\"\"}}}],\"carpet\":[{\"aaxis\":{\"endlinecolor\":\"#2a3f5f\",\"gridcolor\":\"white\",\"linecolor\":\"white\",\"minorgridcolor\":\"white\",\"startlinecolor\":\"#2a3f5f\"},\"baxis\":{\"endlinecolor\":\"#2a3f5f\",\"gridcolor\":\"white\",\"linecolor\":\"white\",\"minorgridcolor\":\"white\",\"startlinecolor\":\"#2a3f5f\"},\"type\":\"carpet\"}],\"table\":[{\"cells\":{\"fill\":{\"color\":\"#EBF0F8\"},\"line\":{\"color\":\"white\"}},\"header\":{\"fill\":{\"color\":\"#C8D4E3\"},\"line\":{\"color\":\"white\"}},\"type\":\"table\"}],\"barpolar\":[{\"marker\":{\"line\":{\"color\":\"#E5ECF6\",\"width\":0.5},\"pattern\":{\"fillmode\":\"overlay\",\"size\":10,\"solidity\":0.2}},\"type\":\"barpolar\"}],\"pie\":[{\"automargin\":true,\"type\":\"pie\"}]},\"layout\":{\"autotypenumbers\":\"strict\",\"colorway\":[\"#636efa\",\"#EF553B\",\"#00cc96\",\"#ab63fa\",\"#FFA15A\",\"#19d3f3\",\"#FF6692\",\"#B6E880\",\"#FF97FF\",\"#FECB52\"],\"font\":{\"color\":\"#2a3f5f\"},\"hovermode\":\"closest\",\"hoverlabel\":{\"align\":\"left\"},\"paper_bgcolor\":\"white\",\"plot_bgcolor\":\"#E5ECF6\",\"polar\":{\"bgcolor\":\"#E5ECF6\",\"angularaxis\":{\"gridcolor\":\"white\",\"linecolor\":\"white\",\"ticks\":\"\"},\"radialaxis\":{\"gridcolor\":\"white\",\"linecolor\":\"white\",\"ticks\":\"\"}},\"ternary\":{\"bgcolor\":\"#E5ECF6\",\"aaxis\":{\"gridcolor\":\"white\",\"linecolor\":\"white\",\"ticks\":\"\"},\"baxis\":{\"gridcolor\":\"white\",\"linecolor\":\"white\",\"ticks\":\"\"},\"caxis\":{\"gridcolor\":\"white\",\"linecolor\":\"white\",\"ticks\":\"\"}},\"coloraxis\":{\"colorbar\":{\"outlinewidth\":0,\"ticks\":\"\"}},\"colorscale\":{\"sequential\":[[0.0,\"#0d0887\"],[0.1111111111111111,\"#46039f\"],[0.2222222222222222,\"#7201a8\"],[0.3333333333333333,\"#9c179e\"],[0.4444444444444444,\"#bd3786\"],[0.5555555555555556,\"#d8576b\"],[0.6666666666666666,\"#ed7953\"],[0.7777777777777778,\"#fb9f3a\"],[0.8888888888888888,\"#fdca26\"],[1.0,\"#f0f921\"]],\"sequentialminus\":[[0.0,\"#0d0887\"],[0.1111111111111111,\"#46039f\"],[0.2222222222222222,\"#7201a8\"],[0.3333333333333333,\"#9c179e\"],[0.4444444444444444,\"#bd3786\"],[0.5555555555555556,\"#d8576b\"],[0.6666666666666666,\"#ed7953\"],[0.7777777777777778,\"#fb9f3a\"],[0.8888888888888888,\"#fdca26\"],[1.0,\"#f0f921\"]],\"diverging\":[[0,\"#8e0152\"],[0.1,\"#c51b7d\"],[0.2,\"#de77ae\"],[0.3,\"#f1b6da\"],[0.4,\"#fde0ef\"],[0.5,\"#f7f7f7\"],[0.6,\"#e6f5d0\"],[0.7,\"#b8e186\"],[0.8,\"#7fbc41\"],[0.9,\"#4d9221\"],[1,\"#276419\"]]},\"xaxis\":{\"gridcolor\":\"white\",\"linecolor\":\"white\",\"ticks\":\"\",\"title\":{\"standoff\":15},\"zerolinecolor\":\"white\",\"automargin\":true,\"zerolinewidth\":2},\"yaxis\":{\"gridcolor\":\"white\",\"linecolor\":\"white\",\"ticks\":\"\",\"title\":{\"standoff\":15},\"zerolinecolor\":\"white\",\"automargin\":true,\"zerolinewidth\":2},\"scene\":{\"xaxis\":{\"backgroundcolor\":\"#E5ECF6\",\"gridcolor\":\"white\",\"linecolor\":\"white\",\"showbackground\":true,\"ticks\":\"\",\"zerolinecolor\":\"white\",\"gridwidth\":2},\"yaxis\":{\"backgroundcolor\":\"#E5ECF6\",\"gridcolor\":\"white\",\"linecolor\":\"white\",\"showbackground\":true,\"ticks\":\"\",\"zerolinecolor\":\"white\",\"gridwidth\":2},\"zaxis\":{\"backgroundcolor\":\"#E5ECF6\",\"gridcolor\":\"white\",\"linecolor\":\"white\",\"showbackground\":true,\"ticks\":\"\",\"zerolinecolor\":\"white\",\"gridwidth\":2}},\"shapedefaults\":{\"line\":{\"color\":\"#2a3f5f\"}},\"annotationdefaults\":{\"arrowcolor\":\"#2a3f5f\",\"arrowhead\":0,\"arrowwidth\":1},\"geo\":{\"bgcolor\":\"white\",\"landcolor\":\"#E5ECF6\",\"subunitcolor\":\"white\",\"showland\":true,\"showlakes\":true,\"lakecolor\":\"white\"},\"title\":{\"x\":0.05},\"mapbox\":{\"style\":\"light\"}}},\"xaxis\":{\"anchor\":\"y\",\"domain\":[0.0,1.0],\"title\":{\"text\":\"pop1980\"},\"type\":\"log\"},\"yaxis\":{\"anchor\":\"x\",\"domain\":[0.0,1.0],\"title\":{\"text\":\"pop2050\"},\"type\":\"log\"},\"coloraxis\":{\"colorbar\":{\"title\":{\"text\":\"2024YoYGrowthRate\"}},\"colorscale\":[[0.0,\"#0d0887\"],[0.1111111111111111,\"#46039f\"],[0.2222222222222222,\"#7201a8\"],[0.3333333333333333,\"#9c179e\"],[0.4444444444444444,\"#bd3786\"],[0.5555555555555556,\"#d8576b\"],[0.6666666666666666,\"#ed7953\"],[0.7777777777777778,\"#fb9f3a\"],[0.8888888888888888,\"#fdca26\"],[1.0,\"#f0f921\"]]},\"legend\":{\"tracegroupgap\":0},\"margin\":{\"t\":60}},                        {\"responsive\": true}                    ).then(function(){\n",
       "                            \n",
       "var gd = document.getElementById('9e7d0cdc-124a-4345-8324-e51e5f3bf2dd');\n",
       "var x = new MutationObserver(function (mutations, observer) {{\n",
       "        var display = window.getComputedStyle(gd).display;\n",
       "        if (!display || display === 'none') {{\n",
       "            console.log([gd, 'removed!']);\n",
       "            Plotly.purge(gd);\n",
       "            observer.disconnect();\n",
       "        }}\n",
       "}});\n",
       "\n",
       "// Listen for the removal of the full notebook cells\n",
       "var notebookContainer = gd.closest('#notebook-container');\n",
       "if (notebookContainer) {{\n",
       "    x.observe(notebookContainer, {childList: true});\n",
       "}}\n",
       "\n",
       "// Listen for the clearing of the current output cell\n",
       "var outputEl = gd.closest('.output');\n",
       "if (outputEl) {{\n",
       "    x.observe(outputEl, {childList: true});\n",
       "}}\n",
       "\n",
       "                        })                };                });            </script>        </div>"
      ]
     },
     "metadata": {},
     "output_type": "display_data"
    }
   ],
   "source": [
    "express.scatter(data_frame=df, x='pop1980', y='pop2050', log_x=True, log_y=True, hover_name='country', color='2024YoYGrowthRate')"
   ]
  },
  {
   "cell_type": "markdown",
   "id": "e18815a1",
   "metadata": {
    "papermill": {
     "duration": 0.004484,
     "end_time": "2024-06-06T19:09:33.127907",
     "exception": false,
     "start_time": "2024-06-06T19:09:33.123423",
     "status": "completed"
    },
    "tags": []
   },
   "source": [
    "The growth rate in the middle of the period (the 2024 growth rate) gives us a good sense of which countries are growing and which are shrinking over the period of interest, although we do see some anomalies (e.g. Ukraine, the UAE)."
   ]
  }
 ],
 "metadata": {
  "kaggle": {
   "accelerator": "none",
   "dataSources": [
    {
     "datasetId": 5157116,
     "sourceId": 8616321,
     "sourceType": "datasetVersion"
    }
   ],
   "dockerImageVersionId": 30732,
   "isGpuEnabled": false,
   "isInternetEnabled": true,
   "language": "python",
   "sourceType": "notebook"
  },
  "kernelspec": {
   "display_name": "Python 3",
   "language": "python",
   "name": "python3"
  },
  "language_info": {
   "codemirror_mode": {
    "name": "ipython",
    "version": 3
   },
   "file_extension": ".py",
   "mimetype": "text/x-python",
   "name": "python",
   "nbconvert_exporter": "python",
   "pygments_lexer": "ipython3",
   "version": "3.10.13"
  },
  "papermill": {
   "default_parameters": {},
   "duration": 7.39962,
   "end_time": "2024-06-06T19:09:33.754282",
   "environment_variables": {},
   "exception": null,
   "input_path": "__notebook__.ipynb",
   "output_path": "__notebook__.ipynb",
   "parameters": {},
   "start_time": "2024-06-06T19:09:26.354662",
   "version": "2.5.0"
  }
 },
 "nbformat": 4,
 "nbformat_minor": 5
}
