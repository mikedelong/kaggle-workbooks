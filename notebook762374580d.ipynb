{
 "cells": [
  {
   "cell_type": "code",
   "execution_count": 1,
   "id": "185cde0d",
   "metadata": {
    "_cell_guid": "b1076dfc-b9ad-4769-8c92-a6c4dae69d19",
    "_uuid": "8f2839f25d086af736a60e9eeb907d3b93b6e0e5",
    "execution": {
     "iopub.execute_input": "2025-01-31T20:09:12.114923Z",
     "iopub.status.busy": "2025-01-31T20:09:12.114420Z",
     "iopub.status.idle": "2025-01-31T20:09:13.394388Z",
     "shell.execute_reply": "2025-01-31T20:09:13.393195Z"
    },
    "papermill": {
     "duration": 1.285905,
     "end_time": "2025-01-31T20:09:13.396200",
     "exception": false,
     "start_time": "2025-01-31T20:09:12.110295",
     "status": "completed"
    },
    "tags": []
   },
   "outputs": [
    {
     "data": {
      "text/html": [
       "<div>\n",
       "<style scoped>\n",
       "    .dataframe tbody tr th:only-of-type {\n",
       "        vertical-align: middle;\n",
       "    }\n",
       "\n",
       "    .dataframe tbody tr th {\n",
       "        vertical-align: top;\n",
       "    }\n",
       "\n",
       "    .dataframe thead th {\n",
       "        text-align: right;\n",
       "    }\n",
       "</style>\n",
       "<table border=\"1\" class=\"dataframe\">\n",
       "  <thead>\n",
       "    <tr style=\"text-align: right;\">\n",
       "      <th></th>\n",
       "      <th>Country</th>\n",
       "      <th>Age</th>\n",
       "      <th>Gender</th>\n",
       "      <th>Smoking_History</th>\n",
       "      <th>Obesity</th>\n",
       "      <th>Diabetes</th>\n",
       "      <th>Chronic_Pancreatitis</th>\n",
       "      <th>Family_History</th>\n",
       "      <th>Hereditary_Condition</th>\n",
       "      <th>Jaundice</th>\n",
       "      <th>...</th>\n",
       "      <th>Stage_at_Diagnosis</th>\n",
       "      <th>Survival_Time_Months</th>\n",
       "      <th>Treatment_Type</th>\n",
       "      <th>Survival_Status</th>\n",
       "      <th>Alcohol_Consumption</th>\n",
       "      <th>Physical_Activity_Level</th>\n",
       "      <th>Diet_Processed_Food</th>\n",
       "      <th>Access_to_Healthcare</th>\n",
       "      <th>Urban_vs_Rural</th>\n",
       "      <th>Economic_Status</th>\n",
       "    </tr>\n",
       "  </thead>\n",
       "  <tbody>\n",
       "    <tr>\n",
       "      <th>47390</th>\n",
       "      <td>United Kingdom</td>\n",
       "      <td>85</td>\n",
       "      <td>Female</td>\n",
       "      <td>0</td>\n",
       "      <td>0</td>\n",
       "      <td>1</td>\n",
       "      <td>0</td>\n",
       "      <td>0</td>\n",
       "      <td>0</td>\n",
       "      <td>0</td>\n",
       "      <td>...</td>\n",
       "      <td>Stage III</td>\n",
       "      <td>16</td>\n",
       "      <td>Chemotherapy</td>\n",
       "      <td>1</td>\n",
       "      <td>0</td>\n",
       "      <td>Low</td>\n",
       "      <td>Low</td>\n",
       "      <td>Low</td>\n",
       "      <td>Urban</td>\n",
       "      <td>High</td>\n",
       "    </tr>\n",
       "    <tr>\n",
       "      <th>38566</th>\n",
       "      <td>India</td>\n",
       "      <td>77</td>\n",
       "      <td>Male</td>\n",
       "      <td>0</td>\n",
       "      <td>0</td>\n",
       "      <td>0</td>\n",
       "      <td>0</td>\n",
       "      <td>0</td>\n",
       "      <td>0</td>\n",
       "      <td>0</td>\n",
       "      <td>...</td>\n",
       "      <td>Stage I</td>\n",
       "      <td>52</td>\n",
       "      <td>Radiation</td>\n",
       "      <td>0</td>\n",
       "      <td>1</td>\n",
       "      <td>Medium</td>\n",
       "      <td>High</td>\n",
       "      <td>Low</td>\n",
       "      <td>Rural</td>\n",
       "      <td>Low</td>\n",
       "    </tr>\n",
       "    <tr>\n",
       "      <th>32814</th>\n",
       "      <td>China</td>\n",
       "      <td>87</td>\n",
       "      <td>Male</td>\n",
       "      <td>1</td>\n",
       "      <td>0</td>\n",
       "      <td>0</td>\n",
       "      <td>0</td>\n",
       "      <td>0</td>\n",
       "      <td>0</td>\n",
       "      <td>0</td>\n",
       "      <td>...</td>\n",
       "      <td>Stage I</td>\n",
       "      <td>52</td>\n",
       "      <td>Chemotherapy</td>\n",
       "      <td>0</td>\n",
       "      <td>1</td>\n",
       "      <td>Medium</td>\n",
       "      <td>Medium</td>\n",
       "      <td>Medium</td>\n",
       "      <td>Urban</td>\n",
       "      <td>Middle</td>\n",
       "    </tr>\n",
       "    <tr>\n",
       "      <th>41393</th>\n",
       "      <td>China</td>\n",
       "      <td>70</td>\n",
       "      <td>Female</td>\n",
       "      <td>0</td>\n",
       "      <td>0</td>\n",
       "      <td>0</td>\n",
       "      <td>0</td>\n",
       "      <td>0</td>\n",
       "      <td>0</td>\n",
       "      <td>0</td>\n",
       "      <td>...</td>\n",
       "      <td>Stage III</td>\n",
       "      <td>15</td>\n",
       "      <td>Radiation</td>\n",
       "      <td>0</td>\n",
       "      <td>0</td>\n",
       "      <td>Low</td>\n",
       "      <td>Medium</td>\n",
       "      <td>Medium</td>\n",
       "      <td>Rural</td>\n",
       "      <td>Low</td>\n",
       "    </tr>\n",
       "    <tr>\n",
       "      <th>12564</th>\n",
       "      <td>Canada</td>\n",
       "      <td>74</td>\n",
       "      <td>Male</td>\n",
       "      <td>0</td>\n",
       "      <td>1</td>\n",
       "      <td>1</td>\n",
       "      <td>0</td>\n",
       "      <td>0</td>\n",
       "      <td>0</td>\n",
       "      <td>0</td>\n",
       "      <td>...</td>\n",
       "      <td>Stage IV</td>\n",
       "      <td>6</td>\n",
       "      <td>Surgery</td>\n",
       "      <td>0</td>\n",
       "      <td>0</td>\n",
       "      <td>Low</td>\n",
       "      <td>High</td>\n",
       "      <td>Medium</td>\n",
       "      <td>Urban</td>\n",
       "      <td>Low</td>\n",
       "    </tr>\n",
       "  </tbody>\n",
       "</table>\n",
       "<p>5 rows × 24 columns</p>\n",
       "</div>"
      ],
      "text/plain": [
       "              Country  Age  Gender  Smoking_History  Obesity  Diabetes  \\\n",
       "47390  United Kingdom   85  Female                0        0         1   \n",
       "38566           India   77    Male                0        0         0   \n",
       "32814           China   87    Male                1        0         0   \n",
       "41393           China   70  Female                0        0         0   \n",
       "12564          Canada   74    Male                0        1         1   \n",
       "\n",
       "       Chronic_Pancreatitis  Family_History  Hereditary_Condition  Jaundice  \\\n",
       "47390                     0               0                     0         0   \n",
       "38566                     0               0                     0         0   \n",
       "32814                     0               0                     0         0   \n",
       "41393                     0               0                     0         0   \n",
       "12564                     0               0                     0         0   \n",
       "\n",
       "       ...  Stage_at_Diagnosis  Survival_Time_Months  Treatment_Type  \\\n",
       "47390  ...           Stage III                    16    Chemotherapy   \n",
       "38566  ...             Stage I                    52       Radiation   \n",
       "32814  ...             Stage I                    52    Chemotherapy   \n",
       "41393  ...           Stage III                    15       Radiation   \n",
       "12564  ...            Stage IV                     6         Surgery   \n",
       "\n",
       "       Survival_Status Alcohol_Consumption  Physical_Activity_Level  \\\n",
       "47390                1                   0                      Low   \n",
       "38566                0                   1                   Medium   \n",
       "32814                0                   1                   Medium   \n",
       "41393                0                   0                      Low   \n",
       "12564                0                   0                      Low   \n",
       "\n",
       "      Diet_Processed_Food  Access_to_Healthcare  Urban_vs_Rural  \\\n",
       "47390                 Low                   Low           Urban   \n",
       "38566                High                   Low           Rural   \n",
       "32814              Medium                Medium           Urban   \n",
       "41393              Medium                Medium           Rural   \n",
       "12564                High                Medium           Urban   \n",
       "\n",
       "      Economic_Status  \n",
       "47390            High  \n",
       "38566             Low  \n",
       "32814          Middle  \n",
       "41393             Low  \n",
       "12564             Low  \n",
       "\n",
       "[5 rows x 24 columns]"
      ]
     },
     "execution_count": 1,
     "metadata": {},
     "output_type": "execute_result"
    }
   ],
   "source": [
    "import pandas as pd\n",
    "\n",
    "DATA = '/kaggle/input/pancreatic-cancer-prediction-dataset/pancreatic_cancer_prediction_sample.csv'\n",
    "RANDOM_STATE = 2025\n",
    "\n",
    "df = pd.read_csv(filepath_or_buffer=DATA)\n",
    "df = df.sample(n=5000, random_state=RANDOM_STATE)\n",
    "df.head()"
   ]
  },
  {
   "cell_type": "code",
   "execution_count": 2,
   "id": "d2b0550c",
   "metadata": {
    "execution": {
     "iopub.execute_input": "2025-01-31T20:09:13.403420Z",
     "iopub.status.busy": "2025-01-31T20:09:13.403100Z",
     "iopub.status.idle": "2025-01-31T20:09:13.427787Z",
     "shell.execute_reply": "2025-01-31T20:09:13.426613Z"
    },
    "papermill": {
     "duration": 0.030338,
     "end_time": "2025-01-31T20:09:13.429709",
     "exception": false,
     "start_time": "2025-01-31T20:09:13.399371",
     "status": "completed"
    },
    "tags": []
   },
   "outputs": [
    {
     "name": "stdout",
     "output_type": "stream",
     "text": [
      "<class 'pandas.core.frame.DataFrame'>\n",
      "Index: 5000 entries, 47390 to 33890\n",
      "Data columns (total 24 columns):\n",
      " #   Column                         Non-Null Count  Dtype \n",
      "---  ------                         --------------  ----- \n",
      " 0   Country                        5000 non-null   object\n",
      " 1   Age                            5000 non-null   int64 \n",
      " 2   Gender                         5000 non-null   object\n",
      " 3   Smoking_History                5000 non-null   int64 \n",
      " 4   Obesity                        5000 non-null   int64 \n",
      " 5   Diabetes                       5000 non-null   int64 \n",
      " 6   Chronic_Pancreatitis           5000 non-null   int64 \n",
      " 7   Family_History                 5000 non-null   int64 \n",
      " 8   Hereditary_Condition           5000 non-null   int64 \n",
      " 9   Jaundice                       5000 non-null   int64 \n",
      " 10  Abdominal_Discomfort           5000 non-null   int64 \n",
      " 11  Back_Pain                      5000 non-null   int64 \n",
      " 12  Weight_Loss                    5000 non-null   int64 \n",
      " 13  Development_of_Type2_Diabetes  5000 non-null   int64 \n",
      " 14  Stage_at_Diagnosis             5000 non-null   object\n",
      " 15  Survival_Time_Months           5000 non-null   int64 \n",
      " 16  Treatment_Type                 5000 non-null   object\n",
      " 17  Survival_Status                5000 non-null   int64 \n",
      " 18  Alcohol_Consumption            5000 non-null   int64 \n",
      " 19  Physical_Activity_Level        5000 non-null   object\n",
      " 20  Diet_Processed_Food            5000 non-null   object\n",
      " 21  Access_to_Healthcare           5000 non-null   object\n",
      " 22  Urban_vs_Rural                 5000 non-null   object\n",
      " 23  Economic_Status                5000 non-null   object\n",
      "dtypes: int64(15), object(9)\n",
      "memory usage: 976.6+ KB\n"
     ]
    }
   ],
   "source": [
    "df.info()"
   ]
  },
  {
   "cell_type": "code",
   "execution_count": 3,
   "id": "9a8e54a4",
   "metadata": {
    "execution": {
     "iopub.execute_input": "2025-01-31T20:09:13.436700Z",
     "iopub.status.busy": "2025-01-31T20:09:13.436310Z",
     "iopub.status.idle": "2025-01-31T20:09:13.441611Z",
     "shell.execute_reply": "2025-01-31T20:09:13.440646Z"
    },
    "papermill": {
     "duration": 0.010652,
     "end_time": "2025-01-31T20:09:13.443392",
     "exception": false,
     "start_time": "2025-01-31T20:09:13.432740",
     "status": "completed"
    },
    "tags": []
   },
   "outputs": [],
   "source": [
    "COLUMNS = [key for key, value in df.dtypes.to_dict().items() if str(value) != 'object' and key != 'Survival_Status']\n",
    "TARGET = 'Survival_Status'"
   ]
  },
  {
   "cell_type": "code",
   "execution_count": 4,
   "id": "f234cc19",
   "metadata": {
    "execution": {
     "iopub.execute_input": "2025-01-31T20:09:13.452011Z",
     "iopub.status.busy": "2025-01-31T20:09:13.451432Z",
     "iopub.status.idle": "2025-01-31T20:09:38.567731Z",
     "shell.execute_reply": "2025-01-31T20:09:38.566640Z"
    },
    "papermill": {
     "duration": 25.123249,
     "end_time": "2025-01-31T20:09:38.569681",
     "exception": false,
     "start_time": "2025-01-31T20:09:13.446432",
     "status": "completed"
    },
    "tags": []
   },
   "outputs": [],
   "source": [
    "from sklearn.manifold import TSNE\n",
    "\n",
    "reducer = TSNE(random_state=RANDOM_STATE)\n",
    "plot_df = pd.DataFrame(columns=['x', 'y'], data=reducer.fit_transform(X=df[COLUMNS]))\n",
    "plot_df[TARGET] = df[TARGET].tolist()"
   ]
  },
  {
   "cell_type": "code",
   "execution_count": 5,
   "id": "0192b08d",
   "metadata": {
    "execution": {
     "iopub.execute_input": "2025-01-31T20:09:38.576938Z",
     "iopub.status.busy": "2025-01-31T20:09:38.576386Z",
     "iopub.status.idle": "2025-01-31T20:09:41.513931Z",
     "shell.execute_reply": "2025-01-31T20:09:41.512935Z"
    },
    "papermill": {
     "duration": 2.942911,
     "end_time": "2025-01-31T20:09:41.515688",
     "exception": false,
     "start_time": "2025-01-31T20:09:38.572777",
     "status": "completed"
    },
    "tags": []
   },
   "outputs": [
    {
     "data": {
      "text/html": [
       "        <script type=\"text/javascript\">\n",
       "        window.PlotlyConfig = {MathJaxConfig: 'local'};\n",
       "        if (window.MathJax && window.MathJax.Hub && window.MathJax.Hub.Config) {window.MathJax.Hub.Config({SVG: {font: \"STIX-Web\"}});}\n",
       "        if (typeof require !== 'undefined') {\n",
       "        require.undef(\"plotly\");\n",
       "        requirejs.config({\n",
       "            paths: {\n",
       "                'plotly': ['https://cdn.plot.ly/plotly-2.35.2.min']\n",
       "            }\n",
       "        });\n",
       "        require(['plotly'], function(Plotly) {\n",
       "            window._Plotly = Plotly;\n",
       "        });\n",
       "        }\n",
       "        </script>\n",
       "        "
      ]
     },
     "metadata": {},
     "output_type": "display_data"
    },
    {
     "data": {
      "text/html": [
       "<iframe\n",
       "    scrolling=\"no\"\n",
       "    width=\"100%\"\n",
       "    height=\"545px\"\n",
       "    src=\"iframe_figures/figure_5.html\"\n",
       "    frameborder=\"0\"\n",
       "    allowfullscreen\n",
       "></iframe>\n"
      ]
     },
     "metadata": {},
     "output_type": "display_data"
    }
   ],
   "source": [
    "from plotly import express\n",
    "from plotly.offline import init_notebook_mode\n",
    "\n",
    "init_notebook_mode(connected=True)\n",
    "\n",
    "express.scatter(data_frame=plot_df, x='x', y='y', color=TARGET).show(renderer='iframe_connected')"
   ]
  },
  {
   "cell_type": "markdown",
   "id": "62b3af88",
   "metadata": {
    "papermill": {
     "duration": 0.002672,
     "end_time": "2025-01-31T20:09:41.521596",
     "exception": false,
     "start_time": "2025-01-31T20:09:41.518924",
     "status": "completed"
    },
    "tags": []
   },
   "source": [
    "The positives look like they're scattered more or less randomly among the negatives. Let's build a model and find out."
   ]
  },
  {
   "cell_type": "code",
   "execution_count": 6,
   "id": "cdcd9a31",
   "metadata": {
    "execution": {
     "iopub.execute_input": "2025-01-31T20:09:41.528481Z",
     "iopub.status.busy": "2025-01-31T20:09:41.528111Z",
     "iopub.status.idle": "2025-01-31T20:09:41.614847Z",
     "shell.execute_reply": "2025-01-31T20:09:41.613602Z"
    },
    "papermill": {
     "duration": 0.092173,
     "end_time": "2025-01-31T20:09:41.616617",
     "exception": false,
     "start_time": "2025-01-31T20:09:41.524444",
     "status": "completed"
    },
    "tags": []
   },
   "outputs": [
    {
     "name": "stdout",
     "output_type": "stream",
     "text": [
      "              precision    recall  f1-score   support\n",
      "\n",
      "           0       0.87      0.98      0.92       874\n",
      "           1       0.11      0.02      0.03       126\n",
      "\n",
      "    accuracy                           0.86      1000\n",
      "   macro avg       0.49      0.50      0.48      1000\n",
      "weighted avg       0.78      0.86      0.81      1000\n",
      "\n"
     ]
    }
   ],
   "source": [
    "from sklearn.model_selection import train_test_split\n",
    "from sklearn.neighbors import KNeighborsClassifier\n",
    "from sklearn.metrics import classification_report\n",
    "\n",
    "X_train, X_test, y_train, y_test = train_test_split(df[COLUMNS], df[TARGET], test_size=0.2, random_state=RANDOM_STATE, stratify=df[TARGET])\n",
    "knn = KNeighborsClassifier(n_neighbors=5)\n",
    "knn.fit(X=X_train, y=y_train)\n",
    "y_pred = knn.predict(X=X_test)\n",
    "\n",
    "print(classification_report(y_true=y_test, y_pred=y_pred))"
   ]
  }
 ],
 "metadata": {
  "kaggle": {
   "accelerator": "none",
   "dataSources": [
    {
     "datasetId": 6579844,
     "sourceId": 10627162,
     "sourceType": "datasetVersion"
    }
   ],
   "dockerImageVersionId": 30839,
   "isGpuEnabled": false,
   "isInternetEnabled": true,
   "language": "python",
   "sourceType": "notebook"
  },
  "kernelspec": {
   "display_name": "Python 3",
   "language": "python",
   "name": "python3"
  },
  "language_info": {
   "codemirror_mode": {
    "name": "ipython",
    "version": 3
   },
   "file_extension": ".py",
   "mimetype": "text/x-python",
   "name": "python",
   "nbconvert_exporter": "python",
   "pygments_lexer": "ipython3",
   "version": "3.10.12"
  },
  "papermill": {
   "default_parameters": {},
   "duration": 33.16015,
   "end_time": "2025-01-31T20:09:42.440726",
   "environment_variables": {},
   "exception": null,
   "input_path": "__notebook__.ipynb",
   "output_path": "__notebook__.ipynb",
   "parameters": {},
   "start_time": "2025-01-31T20:09:09.280576",
   "version": "2.6.0"
  }
 },
 "nbformat": 4,
 "nbformat_minor": 5
}
