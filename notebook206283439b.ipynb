{
 "cells": [
  {
   "cell_type": "code",
   "execution_count": 1,
   "id": "fc1ac5db",
   "metadata": {
    "_cell_guid": "b1076dfc-b9ad-4769-8c92-a6c4dae69d19",
    "_uuid": "8f2839f25d086af736a60e9eeb907d3b93b6e0e5",
    "execution": {
     "iopub.execute_input": "2025-03-18T21:14:46.436035Z",
     "iopub.status.busy": "2025-03-18T21:14:46.435637Z",
     "iopub.status.idle": "2025-03-18T21:14:46.564786Z",
     "shell.execute_reply": "2025-03-18T21:14:46.563422Z"
    },
    "papermill": {
     "duration": 0.135057,
     "end_time": "2025-03-18T21:14:46.566870",
     "exception": false,
     "start_time": "2025-03-18T21:14:46.431813",
     "status": "completed"
    },
    "tags": []
   },
   "outputs": [
    {
     "name": "stdout",
     "output_type": "stream",
     "text": [
      "imgs  masks\r\n"
     ]
    }
   ],
   "source": [
    "!ls /kaggle/input/portraits-with-backgrounds-png/dataset\n"
   ]
  },
  {
   "cell_type": "code",
   "execution_count": 2,
   "id": "e414020a",
   "metadata": {
    "execution": {
     "iopub.execute_input": "2025-03-18T21:14:46.572631Z",
     "iopub.status.busy": "2025-03-18T21:14:46.572165Z",
     "iopub.status.idle": "2025-03-18T21:14:58.381645Z",
     "shell.execute_reply": "2025-03-18T21:14:58.380451Z"
    },
    "papermill": {
     "duration": 11.814155,
     "end_time": "2025-03-18T21:14:58.383424",
     "exception": false,
     "start_time": "2025-03-18T21:14:46.569269",
     "status": "completed"
    },
    "tags": []
   },
   "outputs": [
    {
     "name": "stderr",
     "output_type": "stream",
     "text": [
      "Downloading: \"https://download.pytorch.org/models/resnext50_32x4d-1a0047aa.pth\" to /root/.cache/torch/hub/checkpoints/resnext50_32x4d-1a0047aa.pth\n",
      "100%|██████████| 95.8M/95.8M [00:00<00:00, 163MB/s]\n"
     ]
    }
   ],
   "source": [
    "import torch\n",
    "import torchvision.models as models\n",
    "import torchvision.transforms as transforms\n",
    "import numpy as np\n",
    "\n",
    "\n",
    "DEVICE = torch.device('cpu')\n",
    "OUTPUT_SIZE = 2048\n",
    "\n",
    "model = models.resnext50_32x4d(weights=models.ResNeXt50_32X4D_Weights.IMAGENET1K_V2)\n",
    "\n",
    "extraction_layer = model._modules.get('avgpool')\n",
    "model.to(DEVICE)\n",
    "model.eval()\n",
    "\n",
    "scaler = transforms.Resize((224, 224))\n",
    "normalize = transforms.Normalize(mean=[0.485, 0.456, 0.406], std=[0.229, 0.224, 0.225])\n",
    "to_tensor = transforms.ToTensor()\n",
    "\n",
    "def get_vec(arg, model, extraction_layer):\n",
    "    image = normalize(to_tensor(scaler(arg))).unsqueeze(0).to(DEVICE)\n",
    "    result = torch.zeros(1, OUTPUT_SIZE, 1, 1)\n",
    "    def copy_data(m, i, o):\n",
    "        result.copy_(o.data)\n",
    "    hooked = extraction_layer.register_forward_hook(copy_data)\n",
    "    with torch.no_grad():\n",
    "        model(image)\n",
    "    hooked.remove()\n",
    "    return result"
   ]
  },
  {
   "cell_type": "code",
   "execution_count": 3,
   "id": "cec37f42",
   "metadata": {
    "execution": {
     "iopub.execute_input": "2025-03-18T21:14:58.390016Z",
     "iopub.status.busy": "2025-03-18T21:14:58.389562Z",
     "iopub.status.idle": "2025-03-18T21:19:03.047556Z",
     "shell.execute_reply": "2025-03-18T21:19:03.046365Z"
    },
    "papermill": {
     "duration": 244.665213,
     "end_time": "2025-03-18T21:19:03.051337",
     "exception": false,
     "start_time": "2025-03-18T21:14:58.386124",
     "status": "completed"
    },
    "tags": []
   },
   "outputs": [
    {
     "name": "stdout",
     "output_type": "stream",
     "text": [
      "encoded 1000 rows in 0:04:03.702256\n",
      "done in 0:04:03.781823\n"
     ]
    }
   ],
   "source": [
    "import arrow\n",
    "import base64\n",
    "import pandas as pd\n",
    "from glob import glob\n",
    "from io import BytesIO\n",
    "from os.path import basename\n",
    "from PIL import Image\n",
    "\n",
    "DATA = '/kaggle/input/portraits-with-backgrounds-png/dataset/imgs'\n",
    "STOP = 1000\n",
    "THUMBNAIL_SIZE = (96, 96)\n",
    "\n",
    "\n",
    "def embed(model, filename: str):\n",
    "    with Image.open(fp=filename, mode='r') as image:\n",
    "        return get_vec(arg=image.convert('RGB'), model=model, extraction_layer=extraction_layer).numpy().reshape(OUTPUT_SIZE,)\n",
    "\n",
    "\n",
    "# https://stackoverflow.com/a/952952\n",
    "def flatten(arg):\n",
    "    return [x for xs in arg for x in xs]\n",
    "\n",
    "def png(filename: str) -> str:\n",
    "    with Image.open(fp=filename, mode='r') as image:\n",
    "        buffer = BytesIO()\n",
    "        # our images are pretty big; let's shrink the hover images to thumbnail size\n",
    "        image.resize(size=THUMBNAIL_SIZE).convert('RGB').save(buffer, format='png')\n",
    "        return 'data:image/png;base64,' + base64.b64encode(buffer.getvalue()).decode()\n",
    "\n",
    "def get_picture_from_glob(arg: str, stop: int) -> list:\n",
    "    time_get = arrow.now()\n",
    "    result = [pd.Series(data=[basename(input_file), embed(model=model, filename=input_file), png(filename=input_file)],\n",
    "                        index=['name', 'value', 'png'])\n",
    "        for index, input_file in enumerate(glob(pathname=arg)) if index < stop and input_file.endswith('.png')]\n",
    "    print('encoded {} rows in {}'.format(len(result), arrow.now() - time_get))\n",
    "    return result\n",
    "\n",
    "time_start = arrow.now()\n",
    "df = pd.DataFrame(data=get_picture_from_glob(arg=DATA + '/*', stop=STOP))\n",
    "print('done in {}'.format(arrow.now() - time_start))"
   ]
  }
 ],
 "metadata": {
  "kaggle": {
   "accelerator": "none",
   "dataSources": [
    {
     "datasetId": 6892109,
     "sourceId": 11061410,
     "sourceType": "datasetVersion"
    }
   ],
   "dockerImageVersionId": 30918,
   "isGpuEnabled": false,
   "isInternetEnabled": true,
   "language": "python",
   "sourceType": "notebook"
  },
  "kernelspec": {
   "display_name": "Python 3",
   "language": "python",
   "name": "python3"
  },
  "language_info": {
   "codemirror_mode": {
    "name": "ipython",
    "version": 3
   },
   "file_extension": ".py",
   "mimetype": "text/x-python",
   "name": "python",
   "nbconvert_exporter": "python",
   "pygments_lexer": "ipython3",
   "version": "3.10.12"
  },
  "papermill": {
   "default_parameters": {},
   "duration": 261.287664,
   "end_time": "2025-03-18T21:19:04.879209",
   "environment_variables": {},
   "exception": null,
   "input_path": "__notebook__.ipynb",
   "output_path": "__notebook__.ipynb",
   "parameters": {},
   "start_time": "2025-03-18T21:14:43.591545",
   "version": "2.6.0"
  }
 },
 "nbformat": 4,
 "nbformat_minor": 5
}
