{
 "cells": [
  {
   "cell_type": "markdown",
   "id": "db9ba7a0",
   "metadata": {
    "papermill": {
     "duration": 0.003105,
     "end_time": "2025-03-09T15:16:49.540026",
     "exception": false,
     "start_time": "2025-03-09T15:16:49.536921",
     "status": "completed"
    },
    "tags": []
   },
   "source": [
    "Let's load up our data and do a little cleanup; we have some odd usage of whitespace in our column names."
   ]
  },
  {
   "cell_type": "code",
   "execution_count": 1,
   "id": "345f704e",
   "metadata": {
    "_cell_guid": "b1076dfc-b9ad-4769-8c92-a6c4dae69d19",
    "_uuid": "8f2839f25d086af736a60e9eeb907d3b93b6e0e5",
    "execution": {
     "iopub.execute_input": "2025-03-09T15:16:49.546632Z",
     "iopub.status.busy": "2025-03-09T15:16:49.546260Z",
     "iopub.status.idle": "2025-03-09T15:16:50.567007Z",
     "shell.execute_reply": "2025-03-09T15:16:50.565799Z"
    },
    "papermill": {
     "duration": 1.02616,
     "end_time": "2025-03-09T15:16:50.569011",
     "exception": false,
     "start_time": "2025-03-09T15:16:49.542851",
     "status": "completed"
    },
    "tags": []
   },
   "outputs": [
    {
     "data": {
      "text/html": [
       "<div>\n",
       "<style scoped>\n",
       "    .dataframe tbody tr th:only-of-type {\n",
       "        vertical-align: middle;\n",
       "    }\n",
       "\n",
       "    .dataframe tbody tr th {\n",
       "        vertical-align: top;\n",
       "    }\n",
       "\n",
       "    .dataframe thead th {\n",
       "        text-align: right;\n",
       "    }\n",
       "</style>\n",
       "<table border=\"1\" class=\"dataframe\">\n",
       "  <thead>\n",
       "    <tr style=\"text-align: right;\">\n",
       "      <th></th>\n",
       "      <th>Country</th>\n",
       "      <th>Sum of Females Life Expectancy</th>\n",
       "      <th>Sum of Life Expectancy (both sexes)</th>\n",
       "      <th>Sum of Males Life Expectancy</th>\n",
       "    </tr>\n",
       "  </thead>\n",
       "  <tbody>\n",
       "    <tr>\n",
       "      <th>0</th>\n",
       "      <td>Chad</td>\n",
       "      <td>57.19</td>\n",
       "      <td>55.24</td>\n",
       "      <td>53.36</td>\n",
       "    </tr>\n",
       "    <tr>\n",
       "      <th>1</th>\n",
       "      <td>Nigeria</td>\n",
       "      <td>54.94</td>\n",
       "      <td>54.64</td>\n",
       "      <td>54.33</td>\n",
       "    </tr>\n",
       "    <tr>\n",
       "      <th>2</th>\n",
       "      <td>South Sudan</td>\n",
       "      <td>60.75</td>\n",
       "      <td>57.74</td>\n",
       "      <td>54.76</td>\n",
       "    </tr>\n",
       "    <tr>\n",
       "      <th>3</th>\n",
       "      <td>Lesotho</td>\n",
       "      <td>60.44</td>\n",
       "      <td>57.80</td>\n",
       "      <td>55.03</td>\n",
       "    </tr>\n",
       "    <tr>\n",
       "      <th>4</th>\n",
       "      <td>Central African Republic</td>\n",
       "      <td>59.56</td>\n",
       "      <td>57.67</td>\n",
       "      <td>55.51</td>\n",
       "    </tr>\n",
       "  </tbody>\n",
       "</table>\n",
       "</div>"
      ],
      "text/plain": [
       "                    Country  Sum of Females Life Expectancy  \\\n",
       "0                      Chad                           57.19   \n",
       "1                   Nigeria                           54.94   \n",
       "2               South Sudan                           60.75   \n",
       "3                   Lesotho                           60.44   \n",
       "4  Central African Republic                           59.56   \n",
       "\n",
       "   Sum of Life Expectancy (both sexes)  Sum of Males Life Expectancy  \n",
       "0                                55.24                         53.36  \n",
       "1                                54.64                         54.33  \n",
       "2                                57.74                         54.76  \n",
       "3                                57.80                         55.03  \n",
       "4                                57.67                         55.51  "
      ]
     },
     "execution_count": 1,
     "metadata": {},
     "output_type": "execute_result"
    }
   ],
   "source": [
    "import pandas as pd\n",
    "\n",
    "LIFE = '/kaggle/input/life-expectancy/life_expectancy.csv'\n",
    "df = pd.read_csv(filepath_or_buffer=LIFE)\n",
    "df.columns = [item.strip().replace('  ', ' ') for item in df.columns]\n",
    "df.head()"
   ]
  },
  {
   "cell_type": "markdown",
   "id": "8881b2f1",
   "metadata": {
    "papermill": {
     "duration": 0.002657,
     "end_time": "2025-03-09T15:16:50.574649",
     "exception": false,
     "start_time": "2025-03-09T15:16:50.571992",
     "status": "completed"
    },
    "tags": []
   },
   "source": [
    "The obvious thing to do here is to make a scatter plot, so let's do that."
   ]
  },
  {
   "cell_type": "markdown",
   "id": "ceaaf870",
   "metadata": {
    "papermill": {
     "duration": 0.002552,
     "end_time": "2025-03-09T15:16:50.580106",
     "exception": false,
     "start_time": "2025-03-09T15:16:50.577554",
     "status": "completed"
    },
    "tags": []
   },
   "source": [
    "We have some data quality issues with Micronesia, so we're going to omit Micronesia."
   ]
  },
  {
   "cell_type": "code",
   "execution_count": 2,
   "id": "877caba6",
   "metadata": {
    "execution": {
     "iopub.execute_input": "2025-03-09T15:16:50.586758Z",
     "iopub.status.busy": "2025-03-09T15:16:50.586367Z",
     "iopub.status.idle": "2025-03-09T15:16:57.255104Z",
     "shell.execute_reply": "2025-03-09T15:16:57.254063Z"
    },
    "papermill": {
     "duration": 6.674049,
     "end_time": "2025-03-09T15:16:57.256890",
     "exception": false,
     "start_time": "2025-03-09T15:16:50.582841",
     "status": "completed"
    },
    "tags": []
   },
   "outputs": [
    {
     "data": {
      "text/html": [
       "<iframe\n",
       "    scrolling=\"no\"\n",
       "    width=\"100%\"\n",
       "    height=\"545px\"\n",
       "    src=\"iframe_figures/figure_2.html\"\n",
       "    frameborder=\"0\"\n",
       "    allowfullscreen\n",
       "></iframe>\n"
      ]
     },
     "metadata": {},
     "output_type": "display_data"
    }
   ],
   "source": [
    "from plotly import express\n",
    "from plotly import io\n",
    "\n",
    "io.renderers.default = 'iframe'\n",
    "express.scatter(data_frame=df[df['Country'] != 'Micronesia'], x='Sum of Females Life Expectancy', y='Sum of Males Life Expectancy',\n",
    "                hover_name='Country', color='Sum of Life Expectancy (both sexes)', trendline='ols')"
   ]
  },
  {
   "cell_type": "markdown",
   "id": "e82e5db5",
   "metadata": {
    "papermill": {
     "duration": 0.002908,
     "end_time": "2025-03-09T15:16:57.262928",
     "exception": false,
     "start_time": "2025-03-09T15:16:57.260020",
     "status": "completed"
    },
    "tags": []
   },
   "source": [
    "Are there any countries where men live longer than women?"
   ]
  },
  {
   "cell_type": "code",
   "execution_count": 3,
   "id": "d44cc276",
   "metadata": {
    "execution": {
     "iopub.execute_input": "2025-03-09T15:16:57.269946Z",
     "iopub.status.busy": "2025-03-09T15:16:57.269314Z",
     "iopub.status.idle": "2025-03-09T15:16:57.407840Z",
     "shell.execute_reply": "2025-03-09T15:16:57.406707Z"
    },
    "papermill": {
     "duration": 0.144053,
     "end_time": "2025-03-09T15:16:57.409730",
     "exception": false,
     "start_time": "2025-03-09T15:16:57.265677",
     "status": "completed"
    },
    "tags": []
   },
   "outputs": [
    {
     "data": {
      "text/html": [
       "<iframe\n",
       "    scrolling=\"no\"\n",
       "    width=\"100%\"\n",
       "    height=\"545px\"\n",
       "    src=\"iframe_figures/figure_3.html\"\n",
       "    frameborder=\"0\"\n",
       "    allowfullscreen\n",
       "></iframe>\n"
      ]
     },
     "metadata": {},
     "output_type": "display_data"
    }
   ],
   "source": [
    "df['sex difference'] = df['Sum of Males Life Expectancy'] - df['Sum of Females Life Expectancy']\n",
    "express.histogram(data_frame=df, x='sex difference')"
   ]
  },
  {
   "cell_type": "markdown",
   "id": "efe4f6a6",
   "metadata": {
    "papermill": {
     "duration": 0.002802,
     "end_time": "2025-03-09T15:16:57.415787",
     "exception": false,
     "start_time": "2025-03-09T15:16:57.412985",
     "status": "completed"
    },
    "tags": []
   },
   "source": [
    "The short answer appears to be no; also, it's probably not surprising that the difference is roughly normally distributed. Let's make a scatter plot and see which countries come closest."
   ]
  },
  {
   "cell_type": "code",
   "execution_count": 4,
   "id": "3d697f6e",
   "metadata": {
    "execution": {
     "iopub.execute_input": "2025-03-09T15:16:57.422953Z",
     "iopub.status.busy": "2025-03-09T15:16:57.422601Z",
     "iopub.status.idle": "2025-03-09T15:16:57.528170Z",
     "shell.execute_reply": "2025-03-09T15:16:57.527101Z"
    },
    "papermill": {
     "duration": 0.111333,
     "end_time": "2025-03-09T15:16:57.530041",
     "exception": false,
     "start_time": "2025-03-09T15:16:57.418708",
     "status": "completed"
    },
    "tags": []
   },
   "outputs": [
    {
     "data": {
      "text/html": [
       "<iframe\n",
       "    scrolling=\"no\"\n",
       "    width=\"100%\"\n",
       "    height=\"545px\"\n",
       "    src=\"iframe_figures/figure_4.html\"\n",
       "    frameborder=\"0\"\n",
       "    allowfullscreen\n",
       "></iframe>\n"
      ]
     },
     "metadata": {},
     "output_type": "display_data"
    }
   ],
   "source": [
    "express.scatter(data_frame=df[df['Country'] != 'Micronesia'],  y='sex difference', hover_name='Country', x='Sum of Life Expectancy (both sexes)', color='Sum of Females Life Expectancy')"
   ]
  },
  {
   "cell_type": "markdown",
   "id": "d9fdcfbe",
   "metadata": {
    "papermill": {
     "duration": 0.002854,
     "end_time": "2025-03-09T15:16:57.536194",
     "exception": false,
     "start_time": "2025-03-09T15:16:57.533340",
     "status": "completed"
    },
    "tags": []
   },
   "source": [
    "Is it surprising that the countries with both large life expectancy and low sex differences are Bahrain, Qatar, the UAE, Norway, and Iceland?"
   ]
  }
 ],
 "metadata": {
  "kaggle": {
   "accelerator": "none",
   "dataSources": [
    {
     "datasetId": 6785103,
     "sourceId": 10914799,
     "sourceType": "datasetVersion"
    }
   ],
   "dockerImageVersionId": 30918,
   "isGpuEnabled": false,
   "isInternetEnabled": true,
   "language": "python",
   "sourceType": "notebook"
  },
  "kernelspec": {
   "display_name": "Python 3",
   "language": "python",
   "name": "python3"
  },
  "language_info": {
   "codemirror_mode": {
    "name": "ipython",
    "version": 3
   },
   "file_extension": ".py",
   "mimetype": "text/x-python",
   "name": "python",
   "nbconvert_exporter": "python",
   "pygments_lexer": "ipython3",
   "version": "3.10.12"
  },
  "papermill": {
   "default_parameters": {},
   "duration": 11.717904,
   "end_time": "2025-03-09T15:16:58.461065",
   "environment_variables": {},
   "exception": null,
   "input_path": "__notebook__.ipynb",
   "output_path": "__notebook__.ipynb",
   "parameters": {},
   "start_time": "2025-03-09T15:16:46.743161",
   "version": "2.6.0"
  }
 },
 "nbformat": 4,
 "nbformat_minor": 5
}
