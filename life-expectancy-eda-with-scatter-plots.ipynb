{
 "cells": [
  {
   "cell_type": "code",
   "execution_count": 1,
   "id": "97b93441",
   "metadata": {
    "_cell_guid": "b1076dfc-b9ad-4769-8c92-a6c4dae69d19",
    "_uuid": "8f2839f25d086af736a60e9eeb907d3b93b6e0e5",
    "execution": {
     "iopub.execute_input": "2025-03-09T15:13:15.751322Z",
     "iopub.status.busy": "2025-03-09T15:13:15.750847Z",
     "iopub.status.idle": "2025-03-09T15:13:16.829631Z",
     "shell.execute_reply": "2025-03-09T15:13:16.828385Z"
    },
    "papermill": {
     "duration": 1.084744,
     "end_time": "2025-03-09T15:13:16.831364",
     "exception": false,
     "start_time": "2025-03-09T15:13:15.746620",
     "status": "completed"
    },
    "tags": []
   },
   "outputs": [
    {
     "data": {
      "text/html": [
       "<div>\n",
       "<style scoped>\n",
       "    .dataframe tbody tr th:only-of-type {\n",
       "        vertical-align: middle;\n",
       "    }\n",
       "\n",
       "    .dataframe tbody tr th {\n",
       "        vertical-align: top;\n",
       "    }\n",
       "\n",
       "    .dataframe thead th {\n",
       "        text-align: right;\n",
       "    }\n",
       "</style>\n",
       "<table border=\"1\" class=\"dataframe\">\n",
       "  <thead>\n",
       "    <tr style=\"text-align: right;\">\n",
       "      <th></th>\n",
       "      <th>Country</th>\n",
       "      <th>Sum of Females Life Expectancy</th>\n",
       "      <th>Sum of Life Expectancy (both sexes)</th>\n",
       "      <th>Sum of Males Life Expectancy</th>\n",
       "    </tr>\n",
       "  </thead>\n",
       "  <tbody>\n",
       "    <tr>\n",
       "      <th>0</th>\n",
       "      <td>Chad</td>\n",
       "      <td>57.19</td>\n",
       "      <td>55.24</td>\n",
       "      <td>53.36</td>\n",
       "    </tr>\n",
       "    <tr>\n",
       "      <th>1</th>\n",
       "      <td>Nigeria</td>\n",
       "      <td>54.94</td>\n",
       "      <td>54.64</td>\n",
       "      <td>54.33</td>\n",
       "    </tr>\n",
       "    <tr>\n",
       "      <th>2</th>\n",
       "      <td>South Sudan</td>\n",
       "      <td>60.75</td>\n",
       "      <td>57.74</td>\n",
       "      <td>54.76</td>\n",
       "    </tr>\n",
       "    <tr>\n",
       "      <th>3</th>\n",
       "      <td>Lesotho</td>\n",
       "      <td>60.44</td>\n",
       "      <td>57.80</td>\n",
       "      <td>55.03</td>\n",
       "    </tr>\n",
       "    <tr>\n",
       "      <th>4</th>\n",
       "      <td>Central African Republic</td>\n",
       "      <td>59.56</td>\n",
       "      <td>57.67</td>\n",
       "      <td>55.51</td>\n",
       "    </tr>\n",
       "  </tbody>\n",
       "</table>\n",
       "</div>"
      ],
      "text/plain": [
       "                    Country  Sum of Females Life Expectancy  \\\n",
       "0                      Chad                           57.19   \n",
       "1                   Nigeria                           54.94   \n",
       "2               South Sudan                           60.75   \n",
       "3                   Lesotho                           60.44   \n",
       "4  Central African Republic                           59.56   \n",
       "\n",
       "   Sum of Life Expectancy (both sexes)  Sum of Males Life Expectancy  \n",
       "0                                55.24                         53.36  \n",
       "1                                54.64                         54.33  \n",
       "2                                57.74                         54.76  \n",
       "3                                57.80                         55.03  \n",
       "4                                57.67                         55.51  "
      ]
     },
     "execution_count": 1,
     "metadata": {},
     "output_type": "execute_result"
    }
   ],
   "source": [
    "import pandas as pd\n",
    "\n",
    "LIFE = '/kaggle/input/life-expectancy/life_expectancy.csv'\n",
    "df = pd.read_csv(filepath_or_buffer=LIFE)\n",
    "df.columns = [item.strip().replace('  ', ' ') for item in df.columns]\n",
    "df.head()"
   ]
  },
  {
   "cell_type": "markdown",
   "id": "8016bc8f",
   "metadata": {
    "papermill": {
     "duration": 0.002381,
     "end_time": "2025-03-09T15:13:16.836891",
     "exception": false,
     "start_time": "2025-03-09T15:13:16.834510",
     "status": "completed"
    },
    "tags": []
   },
   "source": [
    "The obvious thing to do here is to make a scatter plot, so let's do that."
   ]
  },
  {
   "cell_type": "markdown",
   "id": "e9844aa6",
   "metadata": {
    "papermill": {
     "duration": 0.002344,
     "end_time": "2025-03-09T15:13:16.841850",
     "exception": false,
     "start_time": "2025-03-09T15:13:16.839506",
     "status": "completed"
    },
    "tags": []
   },
   "source": [
    "We have some data quality issues with Micronesia, so we're going to omit Micronesia."
   ]
  },
  {
   "cell_type": "code",
   "execution_count": 2,
   "id": "bad473ca",
   "metadata": {
    "execution": {
     "iopub.execute_input": "2025-03-09T15:13:16.848296Z",
     "iopub.status.busy": "2025-03-09T15:13:16.847960Z",
     "iopub.status.idle": "2025-03-09T15:13:23.711167Z",
     "shell.execute_reply": "2025-03-09T15:13:23.710140Z"
    },
    "papermill": {
     "duration": 6.868698,
     "end_time": "2025-03-09T15:13:23.713095",
     "exception": false,
     "start_time": "2025-03-09T15:13:16.844397",
     "status": "completed"
    },
    "tags": []
   },
   "outputs": [
    {
     "data": {
      "text/html": [
       "<iframe\n",
       "    scrolling=\"no\"\n",
       "    width=\"100%\"\n",
       "    height=\"545px\"\n",
       "    src=\"iframe_figures/figure_2.html\"\n",
       "    frameborder=\"0\"\n",
       "    allowfullscreen\n",
       "></iframe>\n"
      ]
     },
     "metadata": {},
     "output_type": "display_data"
    }
   ],
   "source": [
    "from plotly import express\n",
    "from plotly import io\n",
    "\n",
    "io.renderers.default = 'iframe'\n",
    "express.scatter(data_frame=df[df['Country'] != 'Micronesia'], x='Sum of Females Life Expectancy', y='Sum of Males Life Expectancy',\n",
    "                hover_name='Country', color='Sum of Life Expectancy (both sexes)', trendline='ols')"
   ]
  },
  {
   "cell_type": "markdown",
   "id": "21d7cbbd",
   "metadata": {
    "papermill": {
     "duration": 0.002618,
     "end_time": "2025-03-09T15:13:23.718794",
     "exception": false,
     "start_time": "2025-03-09T15:13:23.716176",
     "status": "completed"
    },
    "tags": []
   },
   "source": [
    "Are there any countries where men live longer than women?"
   ]
  },
  {
   "cell_type": "code",
   "execution_count": 3,
   "id": "8c35d7fe",
   "metadata": {
    "execution": {
     "iopub.execute_input": "2025-03-09T15:13:23.725964Z",
     "iopub.status.busy": "2025-03-09T15:13:23.725299Z",
     "iopub.status.idle": "2025-03-09T15:13:23.869002Z",
     "shell.execute_reply": "2025-03-09T15:13:23.867734Z"
    },
    "papermill": {
     "duration": 0.149269,
     "end_time": "2025-03-09T15:13:23.870869",
     "exception": false,
     "start_time": "2025-03-09T15:13:23.721600",
     "status": "completed"
    },
    "tags": []
   },
   "outputs": [
    {
     "data": {
      "text/html": [
       "<iframe\n",
       "    scrolling=\"no\"\n",
       "    width=\"100%\"\n",
       "    height=\"545px\"\n",
       "    src=\"iframe_figures/figure_3.html\"\n",
       "    frameborder=\"0\"\n",
       "    allowfullscreen\n",
       "></iframe>\n"
      ]
     },
     "metadata": {},
     "output_type": "display_data"
    }
   ],
   "source": [
    "df['sex difference'] = df['Sum of Males Life Expectancy'] - df['Sum of Females Life Expectancy']\n",
    "express.histogram(data_frame=df, x='sex difference')"
   ]
  },
  {
   "cell_type": "markdown",
   "id": "0c11373a",
   "metadata": {
    "papermill": {
     "duration": 0.002653,
     "end_time": "2025-03-09T15:13:23.876893",
     "exception": false,
     "start_time": "2025-03-09T15:13:23.874240",
     "status": "completed"
    },
    "tags": []
   },
   "source": [
    "The short answer appears to be no; let's make a scatter plot and see which countries come closest."
   ]
  },
  {
   "cell_type": "code",
   "execution_count": 4,
   "id": "38fc66a6",
   "metadata": {
    "execution": {
     "iopub.execute_input": "2025-03-09T15:13:23.884111Z",
     "iopub.status.busy": "2025-03-09T15:13:23.883750Z",
     "iopub.status.idle": "2025-03-09T15:13:23.985679Z",
     "shell.execute_reply": "2025-03-09T15:13:23.984584Z"
    },
    "papermill": {
     "duration": 0.107764,
     "end_time": "2025-03-09T15:13:23.987610",
     "exception": false,
     "start_time": "2025-03-09T15:13:23.879846",
     "status": "completed"
    },
    "tags": []
   },
   "outputs": [
    {
     "data": {
      "text/html": [
       "<iframe\n",
       "    scrolling=\"no\"\n",
       "    width=\"100%\"\n",
       "    height=\"545px\"\n",
       "    src=\"iframe_figures/figure_4.html\"\n",
       "    frameborder=\"0\"\n",
       "    allowfullscreen\n",
       "></iframe>\n"
      ]
     },
     "metadata": {},
     "output_type": "display_data"
    }
   ],
   "source": [
    "express.scatter(data_frame=df[df['Country'] != 'Micronesia'],  y='sex difference',\n",
    "                hover_name='Country', x='Sum of Life Expectancy (both sexes)', )"
   ]
  },
  {
   "cell_type": "markdown",
   "id": "cab121d8",
   "metadata": {
    "papermill": {
     "duration": 0.002668,
     "end_time": "2025-03-09T15:13:23.993419",
     "exception": false,
     "start_time": "2025-03-09T15:13:23.990751",
     "status": "completed"
    },
    "tags": []
   },
   "source": [
    "Is it surprising that the countries with both large life expectancy and low sex differences are Bahrain, Qatar, the UAE, Norway, and Iceland?"
   ]
  }
 ],
 "metadata": {
  "kaggle": {
   "accelerator": "none",
   "dataSources": [
    {
     "datasetId": 6785103,
     "sourceId": 10914799,
     "sourceType": "datasetVersion"
    }
   ],
   "dockerImageVersionId": 30918,
   "isGpuEnabled": false,
   "isInternetEnabled": true,
   "language": "python",
   "sourceType": "notebook"
  },
  "kernelspec": {
   "display_name": "Python 3",
   "language": "python",
   "name": "python3"
  },
  "language_info": {
   "codemirror_mode": {
    "name": "ipython",
    "version": 3
   },
   "file_extension": ".py",
   "mimetype": "text/x-python",
   "name": "python",
   "nbconvert_exporter": "python",
   "pygments_lexer": "ipython3",
   "version": "3.10.12"
  },
  "papermill": {
   "default_parameters": {},
   "duration": 12.072496,
   "end_time": "2025-03-09T15:13:24.918561",
   "environment_variables": {},
   "exception": null,
   "input_path": "__notebook__.ipynb",
   "output_path": "__notebook__.ipynb",
   "parameters": {},
   "start_time": "2025-03-09T15:13:12.846065",
   "version": "2.6.0"
  }
 },
 "nbformat": 4,
 "nbformat_minor": 5
}
