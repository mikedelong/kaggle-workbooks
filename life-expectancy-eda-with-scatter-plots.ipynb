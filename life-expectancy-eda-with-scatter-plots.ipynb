{
 "cells": [
  {
   "cell_type": "markdown",
   "id": "e8850b7b",
   "metadata": {
    "papermill": {
     "duration": 0.003038,
     "end_time": "2025-03-10T21:43:11.170428",
     "exception": false,
     "start_time": "2025-03-10T21:43:11.167390",
     "status": "completed"
    },
    "tags": []
   },
   "source": [
    "Let's load up our data and do a little cleanup; we have some odd usage of whitespace in our column names."
   ]
  },
  {
   "cell_type": "code",
   "execution_count": 1,
   "id": "001dbb8a",
   "metadata": {
    "_cell_guid": "b1076dfc-b9ad-4769-8c92-a6c4dae69d19",
    "_uuid": "8f2839f25d086af736a60e9eeb907d3b93b6e0e5",
    "execution": {
     "iopub.execute_input": "2025-03-10T21:43:11.177389Z",
     "iopub.status.busy": "2025-03-10T21:43:11.176990Z",
     "iopub.status.idle": "2025-03-10T21:43:12.303308Z",
     "shell.execute_reply": "2025-03-10T21:43:12.302227Z"
    },
    "papermill": {
     "duration": 1.131653,
     "end_time": "2025-03-10T21:43:12.305067",
     "exception": false,
     "start_time": "2025-03-10T21:43:11.173414",
     "status": "completed"
    },
    "tags": []
   },
   "outputs": [
    {
     "data": {
      "text/html": [
       "<div>\n",
       "<style scoped>\n",
       "    .dataframe tbody tr th:only-of-type {\n",
       "        vertical-align: middle;\n",
       "    }\n",
       "\n",
       "    .dataframe tbody tr th {\n",
       "        vertical-align: top;\n",
       "    }\n",
       "\n",
       "    .dataframe thead th {\n",
       "        text-align: right;\n",
       "    }\n",
       "</style>\n",
       "<table border=\"1\" class=\"dataframe\">\n",
       "  <thead>\n",
       "    <tr style=\"text-align: right;\">\n",
       "      <th></th>\n",
       "      <th>Country</th>\n",
       "      <th>Sum of Females Life Expectancy</th>\n",
       "      <th>Sum of Life Expectancy (both sexes)</th>\n",
       "      <th>Sum of Males Life Expectancy</th>\n",
       "    </tr>\n",
       "  </thead>\n",
       "  <tbody>\n",
       "    <tr>\n",
       "      <th>0</th>\n",
       "      <td>Chad</td>\n",
       "      <td>57.19</td>\n",
       "      <td>55.24</td>\n",
       "      <td>53.36</td>\n",
       "    </tr>\n",
       "    <tr>\n",
       "      <th>1</th>\n",
       "      <td>Nigeria</td>\n",
       "      <td>54.94</td>\n",
       "      <td>54.64</td>\n",
       "      <td>54.33</td>\n",
       "    </tr>\n",
       "    <tr>\n",
       "      <th>2</th>\n",
       "      <td>South Sudan</td>\n",
       "      <td>60.75</td>\n",
       "      <td>57.74</td>\n",
       "      <td>54.76</td>\n",
       "    </tr>\n",
       "    <tr>\n",
       "      <th>3</th>\n",
       "      <td>Lesotho</td>\n",
       "      <td>60.44</td>\n",
       "      <td>57.80</td>\n",
       "      <td>55.03</td>\n",
       "    </tr>\n",
       "    <tr>\n",
       "      <th>4</th>\n",
       "      <td>Central African Republic</td>\n",
       "      <td>59.56</td>\n",
       "      <td>57.67</td>\n",
       "      <td>55.51</td>\n",
       "    </tr>\n",
       "  </tbody>\n",
       "</table>\n",
       "</div>"
      ],
      "text/plain": [
       "                    Country  Sum of Females Life Expectancy  \\\n",
       "0                      Chad                           57.19   \n",
       "1                   Nigeria                           54.94   \n",
       "2               South Sudan                           60.75   \n",
       "3                   Lesotho                           60.44   \n",
       "4  Central African Republic                           59.56   \n",
       "\n",
       "   Sum of Life Expectancy (both sexes)  Sum of Males Life Expectancy  \n",
       "0                                55.24                         53.36  \n",
       "1                                54.64                         54.33  \n",
       "2                                57.74                         54.76  \n",
       "3                                57.80                         55.03  \n",
       "4                                57.67                         55.51  "
      ]
     },
     "execution_count": 1,
     "metadata": {},
     "output_type": "execute_result"
    }
   ],
   "source": [
    "import pandas as pd\n",
    "\n",
    "LIFE = '/kaggle/input/life-expectancy/life_expectancy.csv'\n",
    "df = pd.read_csv(filepath_or_buffer=LIFE)\n",
    "df.columns = [item.strip().replace('  ', ' ') for item in df.columns]\n",
    "df.head()"
   ]
  },
  {
   "cell_type": "markdown",
   "id": "8feee6f1",
   "metadata": {
    "papermill": {
     "duration": 0.002603,
     "end_time": "2025-03-10T21:43:12.310723",
     "exception": false,
     "start_time": "2025-03-10T21:43:12.308120",
     "status": "completed"
    },
    "tags": []
   },
   "source": [
    "The obvious thing to do here is to make a scatter plot, so let's do that."
   ]
  },
  {
   "cell_type": "markdown",
   "id": "0f76fb3e",
   "metadata": {
    "papermill": {
     "duration": 0.002476,
     "end_time": "2025-03-10T21:43:12.316007",
     "exception": false,
     "start_time": "2025-03-10T21:43:12.313531",
     "status": "completed"
    },
    "tags": []
   },
   "source": [
    "We have some data quality issues with Micronesia, so we're going to omit Micronesia."
   ]
  },
  {
   "cell_type": "code",
   "execution_count": 2,
   "id": "a9f7930b",
   "metadata": {
    "execution": {
     "iopub.execute_input": "2025-03-10T21:43:12.323261Z",
     "iopub.status.busy": "2025-03-10T21:43:12.322880Z",
     "iopub.status.idle": "2025-03-10T21:43:18.994338Z",
     "shell.execute_reply": "2025-03-10T21:43:18.993316Z"
    },
    "papermill": {
     "duration": 6.677017,
     "end_time": "2025-03-10T21:43:18.996110",
     "exception": false,
     "start_time": "2025-03-10T21:43:12.319093",
     "status": "completed"
    },
    "tags": []
   },
   "outputs": [
    {
     "data": {
      "text/html": [
       "<iframe\n",
       "    scrolling=\"no\"\n",
       "    width=\"100%\"\n",
       "    height=\"545px\"\n",
       "    src=\"iframe_figures/figure_2.html\"\n",
       "    frameborder=\"0\"\n",
       "    allowfullscreen\n",
       "></iframe>\n"
      ]
     },
     "metadata": {},
     "output_type": "display_data"
    }
   ],
   "source": [
    "from plotly import express\n",
    "from plotly import io\n",
    "\n",
    "io.renderers.default = 'iframe'\n",
    "express.scatter(data_frame=df[df['Country'] != 'Micronesia'], x='Sum of Females Life Expectancy', y='Sum of Males Life Expectancy',\n",
    "                hover_name='Country', color='Sum of Life Expectancy (both sexes)', trendline='ols')"
   ]
  },
  {
   "cell_type": "markdown",
   "id": "397a0e3c",
   "metadata": {
    "papermill": {
     "duration": 0.002636,
     "end_time": "2025-03-10T21:43:19.002096",
     "exception": false,
     "start_time": "2025-03-10T21:43:18.999460",
     "status": "completed"
    },
    "tags": []
   },
   "source": [
    "The slope of this linear trendline shows that women tend to live longer than men. Are there any countries where men live longer than women?"
   ]
  },
  {
   "cell_type": "code",
   "execution_count": 3,
   "id": "fa5e071b",
   "metadata": {
    "execution": {
     "iopub.execute_input": "2025-03-10T21:43:19.009317Z",
     "iopub.status.busy": "2025-03-10T21:43:19.008691Z",
     "iopub.status.idle": "2025-03-10T21:43:19.143974Z",
     "shell.execute_reply": "2025-03-10T21:43:19.142987Z"
    },
    "papermill": {
     "duration": 0.141104,
     "end_time": "2025-03-10T21:43:19.146001",
     "exception": false,
     "start_time": "2025-03-10T21:43:19.004897",
     "status": "completed"
    },
    "tags": []
   },
   "outputs": [
    {
     "data": {
      "text/html": [
       "<iframe\n",
       "    scrolling=\"no\"\n",
       "    width=\"100%\"\n",
       "    height=\"545px\"\n",
       "    src=\"iframe_figures/figure_3.html\"\n",
       "    frameborder=\"0\"\n",
       "    allowfullscreen\n",
       "></iframe>\n"
      ]
     },
     "metadata": {},
     "output_type": "display_data"
    }
   ],
   "source": [
    "df['sex difference'] = df['Sum of Males Life Expectancy'] - df['Sum of Females Life Expectancy']\n",
    "express.histogram(data_frame=df, x='sex difference')"
   ]
  },
  {
   "cell_type": "markdown",
   "id": "9d3b5543",
   "metadata": {
    "papermill": {
     "duration": 0.002745,
     "end_time": "2025-03-10T21:43:19.152031",
     "exception": false,
     "start_time": "2025-03-10T21:43:19.149286",
     "status": "completed"
    },
    "tags": []
   },
   "source": [
    "The short answer appears to be no; also, it's probably not surprising that the difference is roughly normally distributed. Let's make a scatter plot and see which countries come closest."
   ]
  },
  {
   "cell_type": "code",
   "execution_count": 4,
   "id": "c97b1438",
   "metadata": {
    "execution": {
     "iopub.execute_input": "2025-03-10T21:43:19.159288Z",
     "iopub.status.busy": "2025-03-10T21:43:19.158870Z",
     "iopub.status.idle": "2025-03-10T21:43:19.264579Z",
     "shell.execute_reply": "2025-03-10T21:43:19.263501Z"
    },
    "papermill": {
     "duration": 0.111421,
     "end_time": "2025-03-10T21:43:19.266473",
     "exception": false,
     "start_time": "2025-03-10T21:43:19.155052",
     "status": "completed"
    },
    "tags": []
   },
   "outputs": [
    {
     "data": {
      "text/html": [
       "<iframe\n",
       "    scrolling=\"no\"\n",
       "    width=\"100%\"\n",
       "    height=\"545px\"\n",
       "    src=\"iframe_figures/figure_4.html\"\n",
       "    frameborder=\"0\"\n",
       "    allowfullscreen\n",
       "></iframe>\n"
      ]
     },
     "metadata": {},
     "output_type": "display_data"
    }
   ],
   "source": [
    "express.scatter(data_frame=df[df['Country'] != 'Micronesia'],  y='sex difference', hover_name='Country', x='Sum of Life Expectancy (both sexes)', color='Sum of Females Life Expectancy')"
   ]
  },
  {
   "cell_type": "markdown",
   "id": "ef7f6891",
   "metadata": {
    "papermill": {
     "duration": 0.002925,
     "end_time": "2025-03-10T21:43:19.272658",
     "exception": false,
     "start_time": "2025-03-10T21:43:19.269733",
     "status": "completed"
    },
    "tags": []
   },
   "source": [
    "Is it surprising that the countries with both large life expectancy and low sex differences are Bahrain, Qatar, the UAE, Norway, and Iceland?"
   ]
  }
 ],
 "metadata": {
  "kaggle": {
   "accelerator": "none",
   "dataSources": [
    {
     "datasetId": 6785103,
     "sourceId": 10914799,
     "sourceType": "datasetVersion"
    }
   ],
   "dockerImageVersionId": 30918,
   "isGpuEnabled": false,
   "isInternetEnabled": true,
   "language": "python",
   "sourceType": "notebook"
  },
  "kernelspec": {
   "display_name": "Python 3",
   "language": "python",
   "name": "python3"
  },
  "language_info": {
   "codemirror_mode": {
    "name": "ipython",
    "version": 3
   },
   "file_extension": ".py",
   "mimetype": "text/x-python",
   "name": "python",
   "nbconvert_exporter": "python",
   "pygments_lexer": "ipython3",
   "version": "3.10.12"
  },
  "papermill": {
   "default_parameters": {},
   "duration": 11.925052,
   "end_time": "2025-03-10T21:43:20.197113",
   "environment_variables": {},
   "exception": null,
   "input_path": "__notebook__.ipynb",
   "output_path": "__notebook__.ipynb",
   "parameters": {},
   "start_time": "2025-03-10T21:43:08.272061",
   "version": "2.6.0"
  }
 },
 "nbformat": 4,
 "nbformat_minor": 5
}
