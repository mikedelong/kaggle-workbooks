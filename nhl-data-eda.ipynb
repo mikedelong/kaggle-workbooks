{
 "cells": [
  {
   "cell_type": "code",
   "execution_count": 1,
   "id": "00d27e4f",
   "metadata": {
    "_cell_guid": "b1076dfc-b9ad-4769-8c92-a6c4dae69d19",
    "_uuid": "8f2839f25d086af736a60e9eeb907d3b93b6e0e5",
    "execution": {
     "iopub.execute_input": "2025-02-13T20:33:59.532145Z",
     "iopub.status.busy": "2025-02-13T20:33:59.531840Z",
     "iopub.status.idle": "2025-02-13T20:34:00.434124Z",
     "shell.execute_reply": "2025-02-13T20:34:00.433126Z"
    },
    "papermill": {
     "duration": 0.910229,
     "end_time": "2025-02-13T20:34:00.435679",
     "exception": false,
     "start_time": "2025-02-13T20:33:59.525450",
     "status": "completed"
    },
    "tags": []
   },
   "outputs": [
    {
     "data": {
      "text/html": [
       "<div>\n",
       "<style scoped>\n",
       "    .dataframe tbody tr th:only-of-type {\n",
       "        vertical-align: middle;\n",
       "    }\n",
       "\n",
       "    .dataframe tbody tr th {\n",
       "        vertical-align: top;\n",
       "    }\n",
       "\n",
       "    .dataframe thead th {\n",
       "        text-align: right;\n",
       "    }\n",
       "</style>\n",
       "<table border=\"1\" class=\"dataframe\">\n",
       "  <thead>\n",
       "    <tr style=\"text-align: right;\">\n",
       "      <th></th>\n",
       "      <th>season</th>\n",
       "      <th>date</th>\n",
       "      <th>playoff</th>\n",
       "      <th>neutral</th>\n",
       "      <th>status</th>\n",
       "      <th>ot</th>\n",
       "      <th>home_team</th>\n",
       "      <th>away_team</th>\n",
       "      <th>home_team_abbr</th>\n",
       "      <th>away_team_abbr</th>\n",
       "      <th>...</th>\n",
       "      <th>overtime_prob</th>\n",
       "      <th>home_team_expected_points</th>\n",
       "      <th>away_team_expected_points</th>\n",
       "      <th>home_team_score</th>\n",
       "      <th>away_team_score</th>\n",
       "      <th>home_team_postgame_rating</th>\n",
       "      <th>away_team_postgame_rating</th>\n",
       "      <th>game_quality_rating</th>\n",
       "      <th>game_importance_rating</th>\n",
       "      <th>game_overall_rating</th>\n",
       "    </tr>\n",
       "  </thead>\n",
       "  <tbody>\n",
       "    <tr>\n",
       "      <th>0</th>\n",
       "      <td>2023</td>\n",
       "      <td>2022-10-07</td>\n",
       "      <td>0</td>\n",
       "      <td>1</td>\n",
       "      <td>post</td>\n",
       "      <td>NaN</td>\n",
       "      <td>Nashville Predators</td>\n",
       "      <td>San Jose Sharks</td>\n",
       "      <td>NSH</td>\n",
       "      <td>SJS</td>\n",
       "      <td>...</td>\n",
       "      <td>0.234345</td>\n",
       "      <td>1.258314</td>\n",
       "      <td>0.976030</td>\n",
       "      <td>4</td>\n",
       "      <td>1</td>\n",
       "      <td>1510.044255</td>\n",
       "      <td>1446.464381</td>\n",
       "      <td>15</td>\n",
       "      <td>41</td>\n",
       "      <td>28</td>\n",
       "    </tr>\n",
       "    <tr>\n",
       "      <th>1</th>\n",
       "      <td>2023</td>\n",
       "      <td>2022-10-08</td>\n",
       "      <td>0</td>\n",
       "      <td>1</td>\n",
       "      <td>post</td>\n",
       "      <td>NaN</td>\n",
       "      <td>San Jose Sharks</td>\n",
       "      <td>Nashville Predators</td>\n",
       "      <td>SJS</td>\n",
       "      <td>NSH</td>\n",
       "      <td>...</td>\n",
       "      <td>0.233053</td>\n",
       "      <td>0.956634</td>\n",
       "      <td>1.276419</td>\n",
       "      <td>2</td>\n",
       "      <td>3</td>\n",
       "      <td>1444.546428</td>\n",
       "      <td>1511.962208</td>\n",
       "      <td>15</td>\n",
       "      <td>43</td>\n",
       "      <td>29</td>\n",
       "    </tr>\n",
       "    <tr>\n",
       "      <th>2</th>\n",
       "      <td>2023</td>\n",
       "      <td>2022-10-11</td>\n",
       "      <td>0</td>\n",
       "      <td>0</td>\n",
       "      <td>post</td>\n",
       "      <td>NaN</td>\n",
       "      <td>New York Rangers</td>\n",
       "      <td>Tampa Bay Lightning</td>\n",
       "      <td>NYR</td>\n",
       "      <td>TBL</td>\n",
       "      <td>...</td>\n",
       "      <td>0.238935</td>\n",
       "      <td>1.193826</td>\n",
       "      <td>1.045109</td>\n",
       "      <td>3</td>\n",
       "      <td>1</td>\n",
       "      <td>1554.002969</td>\n",
       "      <td>1567.724755</td>\n",
       "      <td>97</td>\n",
       "      <td>24</td>\n",
       "      <td>60</td>\n",
       "    </tr>\n",
       "    <tr>\n",
       "      <th>3</th>\n",
       "      <td>2023</td>\n",
       "      <td>2022-10-11</td>\n",
       "      <td>0</td>\n",
       "      <td>0</td>\n",
       "      <td>post</td>\n",
       "      <td>NaN</td>\n",
       "      <td>Los Angeles Kings</td>\n",
       "      <td>Vegas Golden Knights</td>\n",
       "      <td>LAK</td>\n",
       "      <td>VEG</td>\n",
       "      <td>...</td>\n",
       "      <td>0.240107</td>\n",
       "      <td>1.177400</td>\n",
       "      <td>1.062707</td>\n",
       "      <td>3</td>\n",
       "      <td>4</td>\n",
       "      <td>1498.528556</td>\n",
       "      <td>1531.054886</td>\n",
       "      <td>60</td>\n",
       "      <td>77</td>\n",
       "      <td>68</td>\n",
       "    </tr>\n",
       "    <tr>\n",
       "      <th>4</th>\n",
       "      <td>2023</td>\n",
       "      <td>2022-10-12</td>\n",
       "      <td>0</td>\n",
       "      <td>0</td>\n",
       "      <td>post</td>\n",
       "      <td>NaN</td>\n",
       "      <td>Carolina Hurricanes</td>\n",
       "      <td>Columbus Blue Jackets</td>\n",
       "      <td>CAR</td>\n",
       "      <td>CBJ</td>\n",
       "      <td>...</td>\n",
       "      <td>0.221824</td>\n",
       "      <td>1.430048</td>\n",
       "      <td>0.791776</td>\n",
       "      <td>4</td>\n",
       "      <td>1</td>\n",
       "      <td>1557.526926</td>\n",
       "      <td>1471.437081</td>\n",
       "      <td>58</td>\n",
       "      <td>36</td>\n",
       "      <td>47</td>\n",
       "    </tr>\n",
       "  </tbody>\n",
       "</table>\n",
       "<p>5 rows × 24 columns</p>\n",
       "</div>"
      ],
      "text/plain": [
       "   season       date  playoff  neutral status   ot            home_team  \\\n",
       "0    2023 2022-10-07        0        1   post  NaN  Nashville Predators   \n",
       "1    2023 2022-10-08        0        1   post  NaN      San Jose Sharks   \n",
       "2    2023 2022-10-11        0        0   post  NaN     New York Rangers   \n",
       "3    2023 2022-10-11        0        0   post  NaN    Los Angeles Kings   \n",
       "4    2023 2022-10-12        0        0   post  NaN  Carolina Hurricanes   \n",
       "\n",
       "               away_team home_team_abbr away_team_abbr  ...  overtime_prob  \\\n",
       "0        San Jose Sharks            NSH            SJS  ...       0.234345   \n",
       "1    Nashville Predators            SJS            NSH  ...       0.233053   \n",
       "2    Tampa Bay Lightning            NYR            TBL  ...       0.238935   \n",
       "3   Vegas Golden Knights            LAK            VEG  ...       0.240107   \n",
       "4  Columbus Blue Jackets            CAR            CBJ  ...       0.221824   \n",
       "\n",
       "   home_team_expected_points  away_team_expected_points  home_team_score  \\\n",
       "0                   1.258314                   0.976030                4   \n",
       "1                   0.956634                   1.276419                2   \n",
       "2                   1.193826                   1.045109                3   \n",
       "3                   1.177400                   1.062707                3   \n",
       "4                   1.430048                   0.791776                4   \n",
       "\n",
       "   away_team_score  home_team_postgame_rating  away_team_postgame_rating  \\\n",
       "0                1                1510.044255                1446.464381   \n",
       "1                3                1444.546428                1511.962208   \n",
       "2                1                1554.002969                1567.724755   \n",
       "3                4                1498.528556                1531.054886   \n",
       "4                1                1557.526926                1471.437081   \n",
       "\n",
       "   game_quality_rating  game_importance_rating  game_overall_rating  \n",
       "0                   15                      41                   28  \n",
       "1                   15                      43                   29  \n",
       "2                   97                      24                   60  \n",
       "3                   60                      77                   68  \n",
       "4                   58                      36                   47  \n",
       "\n",
       "[5 rows x 24 columns]"
      ]
     },
     "execution_count": 1,
     "metadata": {},
     "output_type": "execute_result"
    }
   ],
   "source": [
    "import pandas as pd\n",
    "\n",
    "DATA = '/kaggle/input/puck-elo-archive-1917now/NHL_ELO_Odyssey_latest.csv'\n",
    "df = pd.read_csv(filepath_or_buffer=DATA, parse_dates=['date'])\n",
    "df.head()"
   ]
  },
  {
   "cell_type": "markdown",
   "id": "96dbb61c",
   "metadata": {
    "papermill": {
     "duration": 0.004724,
     "end_time": "2025-02-13T20:34:00.445829",
     "exception": false,
     "start_time": "2025-02-13T20:34:00.441105",
     "status": "completed"
    },
    "tags": []
   },
   "source": [
    "How much data do we have?"
   ]
  },
  {
   "cell_type": "code",
   "execution_count": 2,
   "id": "16b91826",
   "metadata": {
    "execution": {
     "iopub.execute_input": "2025-02-13T20:34:00.456584Z",
     "iopub.status.busy": "2025-02-13T20:34:00.456204Z",
     "iopub.status.idle": "2025-02-13T20:34:00.461285Z",
     "shell.execute_reply": "2025-02-13T20:34:00.460548Z"
    },
    "papermill": {
     "duration": 0.012106,
     "end_time": "2025-02-13T20:34:00.462771",
     "exception": false,
     "start_time": "2025-02-13T20:34:00.450665",
     "status": "completed"
    },
    "tags": []
   },
   "outputs": [
    {
     "data": {
      "text/plain": [
       "(1400, 24)"
      ]
     },
     "execution_count": 2,
     "metadata": {},
     "output_type": "execute_result"
    }
   ],
   "source": [
    "df.shape"
   ]
  },
  {
   "cell_type": "code",
   "execution_count": 3,
   "id": "0e8ba289",
   "metadata": {
    "execution": {
     "iopub.execute_input": "2025-02-13T20:34:00.473827Z",
     "iopub.status.busy": "2025-02-13T20:34:00.473542Z",
     "iopub.status.idle": "2025-02-13T20:34:00.478733Z",
     "shell.execute_reply": "2025-02-13T20:34:00.477848Z"
    },
    "papermill": {
     "duration": 0.012217,
     "end_time": "2025-02-13T20:34:00.480175",
     "exception": false,
     "start_time": "2025-02-13T20:34:00.467958",
     "status": "completed"
    },
    "tags": []
   },
   "outputs": [
    {
     "name": "stdout",
     "output_type": "stream",
     "text": [
      "Object `have` not found.\n"
     ]
    }
   ],
   "source": [
    "Is that a lot of data? How many seasons of data do we have?"
   ]
  },
  {
   "cell_type": "code",
   "execution_count": 4,
   "id": "4010efcf",
   "metadata": {
    "execution": {
     "iopub.execute_input": "2025-02-13T20:34:00.491151Z",
     "iopub.status.busy": "2025-02-13T20:34:00.490871Z",
     "iopub.status.idle": "2025-02-13T20:34:00.498566Z",
     "shell.execute_reply": "2025-02-13T20:34:00.497662Z"
    },
    "papermill": {
     "duration": 0.014848,
     "end_time": "2025-02-13T20:34:00.500090",
     "exception": false,
     "start_time": "2025-02-13T20:34:00.485242",
     "status": "completed"
    },
    "tags": []
   },
   "outputs": [
    {
     "data": {
      "text/plain": [
       "1"
      ]
     },
     "execution_count": 4,
     "metadata": {},
     "output_type": "execute_result"
    }
   ],
   "source": [
    "df['season'].nunique()"
   ]
  },
  {
   "cell_type": "markdown",
   "id": "ca6aeccf",
   "metadata": {
    "papermill": {
     "duration": 0.004848,
     "end_time": "2025-02-13T20:34:00.510039",
     "exception": false,
     "start_time": "2025-02-13T20:34:00.505191",
     "status": "completed"
    },
    "tags": []
   },
   "source": [
    "We only have one season of data, and it is in game format. Let's take a look at the distributions of the ratings and win probabilities."
   ]
  },
  {
   "cell_type": "code",
   "execution_count": 5,
   "id": "886aa63b",
   "metadata": {
    "execution": {
     "iopub.execute_input": "2025-02-13T20:34:00.521707Z",
     "iopub.status.busy": "2025-02-13T20:34:00.521340Z",
     "iopub.status.idle": "2025-02-13T20:34:03.235124Z",
     "shell.execute_reply": "2025-02-13T20:34:03.234272Z"
    },
    "papermill": {
     "duration": 2.721461,
     "end_time": "2025-02-13T20:34:03.236603",
     "exception": false,
     "start_time": "2025-02-13T20:34:00.515142",
     "status": "completed"
    },
    "tags": []
   },
   "outputs": [
    {
     "data": {
      "text/html": [
       "        <script type=\"text/javascript\">\n",
       "        window.PlotlyConfig = {MathJaxConfig: 'local'};\n",
       "        if (window.MathJax && window.MathJax.Hub && window.MathJax.Hub.Config) {window.MathJax.Hub.Config({SVG: {font: \"STIX-Web\"}});}\n",
       "        if (typeof require !== 'undefined') {\n",
       "        require.undef(\"plotly\");\n",
       "        requirejs.config({\n",
       "            paths: {\n",
       "                'plotly': ['https://cdn.plot.ly/plotly-2.35.2.min']\n",
       "            }\n",
       "        });\n",
       "        require(['plotly'], function(Plotly) {\n",
       "            window._Plotly = Plotly;\n",
       "        });\n",
       "        }\n",
       "        </script>\n",
       "        "
      ]
     },
     "metadata": {},
     "output_type": "display_data"
    },
    {
     "data": {
      "text/html": [
       "<iframe\n",
       "    scrolling=\"no\"\n",
       "    width=\"100%\"\n",
       "    height=\"545px\"\n",
       "    src=\"iframe_figures/figure_5.html\"\n",
       "    frameborder=\"0\"\n",
       "    allowfullscreen\n",
       "></iframe>\n"
      ]
     },
     "metadata": {},
     "output_type": "display_data"
    }
   ],
   "source": [
    "from plotly import express\n",
    "from plotly.offline import init_notebook_mode\n",
    "\n",
    "init_notebook_mode(connected=True)\n",
    "express.histogram(data_frame=df, x='home_team_pregame_rating', nbins=100).show(renderer='iframe_connected', )"
   ]
  },
  {
   "cell_type": "markdown",
   "id": "1e4e4b5f",
   "metadata": {
    "papermill": {
     "duration": 0.00511,
     "end_time": "2025-02-13T20:34:03.247258",
     "exception": false,
     "start_time": "2025-02-13T20:34:03.242148",
     "status": "completed"
    },
    "tags": []
   },
   "source": [
    "Our pregame ratings are bimodal. What do visitor ratings look like?"
   ]
  },
  {
   "cell_type": "code",
   "execution_count": 6,
   "id": "775f5574",
   "metadata": {
    "execution": {
     "iopub.execute_input": "2025-02-13T20:34:03.259144Z",
     "iopub.status.busy": "2025-02-13T20:34:03.258819Z",
     "iopub.status.idle": "2025-02-13T20:34:03.307543Z",
     "shell.execute_reply": "2025-02-13T20:34:03.306593Z"
    },
    "papermill": {
     "duration": 0.056549,
     "end_time": "2025-02-13T20:34:03.309138",
     "exception": false,
     "start_time": "2025-02-13T20:34:03.252589",
     "status": "completed"
    },
    "tags": []
   },
   "outputs": [
    {
     "data": {
      "text/html": [
       "<iframe\n",
       "    scrolling=\"no\"\n",
       "    width=\"100%\"\n",
       "    height=\"545px\"\n",
       "    src=\"iframe_figures/figure_6.html\"\n",
       "    frameborder=\"0\"\n",
       "    allowfullscreen\n",
       "></iframe>\n"
      ]
     },
     "metadata": {},
     "output_type": "display_data"
    }
   ],
   "source": [
    "express.histogram(data_frame=df, x='away_team_pregame_rating', nbins=100).show(renderer='iframe_connected', )"
   ]
  },
  {
   "cell_type": "markdown",
   "id": "7c96b0b9",
   "metadata": {
    "papermill": {
     "duration": 0.005205,
     "end_time": "2025-02-13T20:34:03.320094",
     "exception": false,
     "start_time": "2025-02-13T20:34:03.314889",
     "status": "completed"
    },
    "tags": []
   },
   "source": [
    "Away team pregame ratings are also bimodal. Let's see what the two features look like together."
   ]
  },
  {
   "cell_type": "code",
   "execution_count": 7,
   "id": "452b6652",
   "metadata": {
    "execution": {
     "iopub.execute_input": "2025-02-13T20:34:03.332138Z",
     "iopub.status.busy": "2025-02-13T20:34:03.331831Z",
     "iopub.status.idle": "2025-02-13T20:34:03.422577Z",
     "shell.execute_reply": "2025-02-13T20:34:03.421556Z"
    },
    "papermill": {
     "duration": 0.098509,
     "end_time": "2025-02-13T20:34:03.424068",
     "exception": false,
     "start_time": "2025-02-13T20:34:03.325559",
     "status": "completed"
    },
    "tags": []
   },
   "outputs": [
    {
     "data": {
      "text/html": [
       "<iframe\n",
       "    scrolling=\"no\"\n",
       "    width=\"100%\"\n",
       "    height=\"545px\"\n",
       "    src=\"iframe_figures/figure_7.html\"\n",
       "    frameborder=\"0\"\n",
       "    allowfullscreen\n",
       "></iframe>\n"
      ]
     },
     "metadata": {},
     "output_type": "display_data"
    }
   ],
   "source": [
    "express.scatter(data_frame=df, x='home_team_pregame_rating', color='game_overall_rating',\n",
    "                y='away_team_pregame_rating').show(renderer='iframe_connected',)"
   ]
  },
  {
   "cell_type": "markdown",
   "id": "472d5e5b",
   "metadata": {
    "papermill": {
     "duration": 0.005568,
     "end_time": "2025-02-13T20:34:03.435500",
     "exception": false,
     "start_time": "2025-02-13T20:34:03.429932",
     "status": "completed"
    },
    "tags": []
   },
   "source": [
    "Not surprisingly, games between highly rated teams tend to be highly rated games."
   ]
  },
  {
   "cell_type": "markdown",
   "id": "a1ccddd7",
   "metadata": {
    "papermill": {
     "duration": 0.005184,
     "end_time": "2025-02-13T20:34:03.446317",
     "exception": false,
     "start_time": "2025-02-13T20:34:03.441133",
     "status": "completed"
    },
    "tags": []
   },
   "source": [
    "Let's look at score frequencies. "
   ]
  },
  {
   "cell_type": "code",
   "execution_count": 8,
   "id": "8e936e08",
   "metadata": {
    "execution": {
     "iopub.execute_input": "2025-02-13T20:34:03.458824Z",
     "iopub.status.busy": "2025-02-13T20:34:03.458499Z",
     "iopub.status.idle": "2025-02-13T20:34:03.526536Z",
     "shell.execute_reply": "2025-02-13T20:34:03.525544Z"
    },
    "papermill": {
     "duration": 0.07607,
     "end_time": "2025-02-13T20:34:03.528101",
     "exception": false,
     "start_time": "2025-02-13T20:34:03.452031",
     "status": "completed"
    },
    "tags": []
   },
   "outputs": [
    {
     "data": {
      "text/html": [
       "<iframe\n",
       "    scrolling=\"no\"\n",
       "    width=\"100%\"\n",
       "    height=\"545px\"\n",
       "    src=\"iframe_figures/figure_8.html\"\n",
       "    frameborder=\"0\"\n",
       "    allowfullscreen\n",
       "></iframe>\n"
      ]
     },
     "metadata": {},
     "output_type": "display_data"
    }
   ],
   "source": [
    "express.scatter(data_frame=df[['home_team_score', 'away_team_score']].groupby(by=['home_team_score', 'away_team_score']).size().reset_index(), x='home_team_score', y='away_team_score', size=0).show(renderer='iframe_connected',)"
   ]
  },
  {
   "cell_type": "markdown",
   "id": "00fe1095",
   "metadata": {
    "papermill": {
     "duration": 0.005382,
     "end_time": "2025-02-13T20:34:03.539303",
     "exception": false,
     "start_time": "2025-02-13T20:34:03.533921",
     "status": "completed"
    },
    "tags": []
   },
   "source": [
    "Not surprisingly, one-goal games are relatively common, with 3-2 and 2-3 games being the most common. Games where one team scores ten or more goals almost never happen."
   ]
  },
  {
   "cell_type": "markdown",
   "id": "ef3599ff",
   "metadata": {
    "papermill": {
     "duration": 0.005267,
     "end_time": "2025-02-13T20:34:03.550216",
     "exception": false,
     "start_time": "2025-02-13T20:34:03.544949",
     "status": "completed"
    },
    "tags": []
   },
   "source": [
    "Let's look at the relationship between home team expected points, which is a float, and home team score, which is an integer."
   ]
  },
  {
   "cell_type": "code",
   "execution_count": 9,
   "id": "26b2bb8e",
   "metadata": {
    "execution": {
     "iopub.execute_input": "2025-02-13T20:34:03.562625Z",
     "iopub.status.busy": "2025-02-13T20:34:03.562212Z",
     "iopub.status.idle": "2025-02-13T20:34:03.613795Z",
     "shell.execute_reply": "2025-02-13T20:34:03.612817Z"
    },
    "papermill": {
     "duration": 0.059667,
     "end_time": "2025-02-13T20:34:03.615454",
     "exception": false,
     "start_time": "2025-02-13T20:34:03.555787",
     "status": "completed"
    },
    "tags": []
   },
   "outputs": [
    {
     "data": {
      "text/html": [
       "<iframe\n",
       "    scrolling=\"no\"\n",
       "    width=\"100%\"\n",
       "    height=\"545px\"\n",
       "    src=\"iframe_figures/figure_9.html\"\n",
       "    frameborder=\"0\"\n",
       "    allowfullscreen\n",
       "></iframe>\n"
      ]
     },
     "metadata": {},
     "output_type": "display_data"
    }
   ],
   "source": [
    "express.scatter(data_frame=df, x='home_team_expected_points', color='game_overall_rating',\n",
    "                y='home_team_score').show(renderer='iframe_connected',)"
   ]
  },
  {
   "cell_type": "markdown",
   "id": "bf1be40a",
   "metadata": {
    "papermill": {
     "duration": 0.005427,
     "end_time": "2025-02-13T20:34:03.627246",
     "exception": false,
     "start_time": "2025-02-13T20:34:03.621819",
     "status": "completed"
    },
    "tags": []
   },
   "source": [
    "Not surprisingly, games with high overall ratings tend to be relatively low-scoring games."
   ]
  },
  {
   "cell_type": "code",
   "execution_count": 10,
   "id": "f01a6a66",
   "metadata": {
    "execution": {
     "iopub.execute_input": "2025-02-13T20:34:03.639857Z",
     "iopub.status.busy": "2025-02-13T20:34:03.639519Z",
     "iopub.status.idle": "2025-02-13T20:34:03.691575Z",
     "shell.execute_reply": "2025-02-13T20:34:03.690430Z"
    },
    "papermill": {
     "duration": 0.060132,
     "end_time": "2025-02-13T20:34:03.693136",
     "exception": false,
     "start_time": "2025-02-13T20:34:03.633004",
     "status": "completed"
    },
    "tags": []
   },
   "outputs": [
    {
     "data": {
      "text/html": [
       "<iframe\n",
       "    scrolling=\"no\"\n",
       "    width=\"100%\"\n",
       "    height=\"545px\"\n",
       "    src=\"iframe_figures/figure_10.html\"\n",
       "    frameborder=\"0\"\n",
       "    allowfullscreen\n",
       "></iframe>\n"
      ]
     },
     "metadata": {},
     "output_type": "display_data"
    }
   ],
   "source": [
    "express.scatter(data_frame=df, x='home_team_expected_points', color='game_overall_rating',\n",
    "                y='away_team_expected_points').show(renderer='iframe_connected',)"
   ]
  },
  {
   "cell_type": "markdown",
   "id": "8fb73cc0",
   "metadata": {
    "papermill": {
     "duration": 0.005634,
     "end_time": "2025-02-13T20:34:03.704966",
     "exception": false,
     "start_time": "2025-02-13T20:34:03.699332",
     "status": "completed"
    },
    "tags": []
   },
   "source": [
    "Surprisingly, the sum of the expected points is always about 2.2, and overall highly rated games tend to be expected to be close."
   ]
  },
  {
   "cell_type": "code",
   "execution_count": 11,
   "id": "6c1dfc53",
   "metadata": {
    "execution": {
     "iopub.execute_input": "2025-02-13T20:34:03.717902Z",
     "iopub.status.busy": "2025-02-13T20:34:03.717559Z",
     "iopub.status.idle": "2025-02-13T20:34:03.768960Z",
     "shell.execute_reply": "2025-02-13T20:34:03.767976Z"
    },
    "papermill": {
     "duration": 0.059595,
     "end_time": "2025-02-13T20:34:03.770429",
     "exception": false,
     "start_time": "2025-02-13T20:34:03.710834",
     "status": "completed"
    },
    "tags": []
   },
   "outputs": [
    {
     "data": {
      "text/html": [
       "<iframe\n",
       "    scrolling=\"no\"\n",
       "    width=\"100%\"\n",
       "    height=\"545px\"\n",
       "    src=\"iframe_figures/figure_11.html\"\n",
       "    frameborder=\"0\"\n",
       "    allowfullscreen\n",
       "></iframe>\n"
      ]
     },
     "metadata": {},
     "output_type": "display_data"
    }
   ],
   "source": [
    "express.scatter(data_frame=df, x='game_quality_rating', color='game_overall_rating',\n",
    "                y='game_importance_rating').show(renderer='iframe_connected',)"
   ]
  },
  {
   "cell_type": "markdown",
   "id": "101372b3",
   "metadata": {
    "papermill": {
     "duration": 0.005559,
     "end_time": "2025-02-13T20:34:03.782216",
     "exception": false,
     "start_time": "2025-02-13T20:34:03.776657",
     "status": "completed"
    },
    "tags": []
   },
   "source": [
    "Because the overall rating is the sum of the game quality rating and the game importance rating, we see a simple gradient along the line y=x. It's not surprising that there are a lot of games that have a low importance rating; are we surprised that there are a lot of games that are high-quality, low-importance?"
   ]
  },
  {
   "cell_type": "code",
   "execution_count": 12,
   "id": "0ff74629",
   "metadata": {
    "execution": {
     "iopub.execute_input": "2025-02-13T20:34:03.795163Z",
     "iopub.status.busy": "2025-02-13T20:34:03.794850Z",
     "iopub.status.idle": "2025-02-13T20:34:03.868516Z",
     "shell.execute_reply": "2025-02-13T20:34:03.867550Z"
    },
    "papermill": {
     "duration": 0.082101,
     "end_time": "2025-02-13T20:34:03.870172",
     "exception": false,
     "start_time": "2025-02-13T20:34:03.788071",
     "status": "completed"
    },
    "tags": []
   },
   "outputs": [
    {
     "data": {
      "text/html": [
       "<iframe\n",
       "    scrolling=\"no\"\n",
       "    width=\"100%\"\n",
       "    height=\"545px\"\n",
       "    src=\"iframe_figures/figure_12.html\"\n",
       "    frameborder=\"0\"\n",
       "    allowfullscreen\n",
       "></iframe>\n"
      ]
     },
     "metadata": {},
     "output_type": "display_data"
    }
   ],
   "source": [
    "express.density_contour(data_frame=df, x='game_quality_rating', histfunc='count',\n",
    "                y='game_importance_rating').show(renderer='iframe_connected',)"
   ]
  },
  {
   "cell_type": "markdown",
   "id": "a58b2cda",
   "metadata": {
    "papermill": {
     "duration": 0.00581,
     "end_time": "2025-02-13T20:34:03.882263",
     "exception": false,
     "start_time": "2025-02-13T20:34:03.876453",
     "status": "completed"
    },
    "tags": []
   },
   "source": [
    "We have a lot of low-quality, low-importance games, fewer high-quality, low-importance games, essentially no low-quality, high-importance games, and some high-quality, high-importance games. This latter condition is probably due to the presence of playoff and championship games in our dataset."
   ]
  },
  {
   "cell_type": "code",
   "execution_count": 13,
   "id": "faea2e80",
   "metadata": {
    "execution": {
     "iopub.execute_input": "2025-02-13T20:34:03.895053Z",
     "iopub.status.busy": "2025-02-13T20:34:03.894748Z",
     "iopub.status.idle": "2025-02-13T20:34:03.906217Z",
     "shell.execute_reply": "2025-02-13T20:34:03.905404Z"
    },
    "papermill": {
     "duration": 0.019525,
     "end_time": "2025-02-13T20:34:03.907662",
     "exception": false,
     "start_time": "2025-02-13T20:34:03.888137",
     "status": "completed"
    },
    "tags": []
   },
   "outputs": [
    {
     "data": {
      "text/html": [
       "<div>\n",
       "<style scoped>\n",
       "    .dataframe tbody tr th:only-of-type {\n",
       "        vertical-align: middle;\n",
       "    }\n",
       "\n",
       "    .dataframe tbody tr th {\n",
       "        vertical-align: top;\n",
       "    }\n",
       "\n",
       "    .dataframe thead th {\n",
       "        text-align: right;\n",
       "    }\n",
       "</style>\n",
       "<table border=\"1\" class=\"dataframe\">\n",
       "  <thead>\n",
       "    <tr style=\"text-align: right;\">\n",
       "      <th></th>\n",
       "      <th>game_quality_rating</th>\n",
       "      <th>game_importance_rating</th>\n",
       "      <th>game_overall_rating</th>\n",
       "    </tr>\n",
       "  </thead>\n",
       "  <tbody>\n",
       "    <tr>\n",
       "      <th>game_quality_rating</th>\n",
       "      <td>1.000000</td>\n",
       "      <td>0.359439</td>\n",
       "      <td>0.844041</td>\n",
       "    </tr>\n",
       "    <tr>\n",
       "      <th>game_importance_rating</th>\n",
       "      <td>0.359439</td>\n",
       "      <td>1.000000</td>\n",
       "      <td>0.803748</td>\n",
       "    </tr>\n",
       "    <tr>\n",
       "      <th>game_overall_rating</th>\n",
       "      <td>0.844041</td>\n",
       "      <td>0.803748</td>\n",
       "      <td>1.000000</td>\n",
       "    </tr>\n",
       "  </tbody>\n",
       "</table>\n",
       "</div>"
      ],
      "text/plain": [
       "                        game_quality_rating  game_importance_rating  \\\n",
       "game_quality_rating                1.000000                0.359439   \n",
       "game_importance_rating             0.359439                1.000000   \n",
       "game_overall_rating                0.844041                0.803748   \n",
       "\n",
       "                        game_overall_rating  \n",
       "game_quality_rating                0.844041  \n",
       "game_importance_rating             0.803748  \n",
       "game_overall_rating                1.000000  "
      ]
     },
     "execution_count": 13,
     "metadata": {},
     "output_type": "execute_result"
    }
   ],
   "source": [
    "df[['game_quality_rating', 'game_importance_rating', 'game_overall_rating']].corr()"
   ]
  },
  {
   "cell_type": "markdown",
   "id": "39b30770",
   "metadata": {
    "papermill": {
     "duration": 0.005814,
     "end_time": "2025-02-13T20:34:03.919794",
     "exception": false,
     "start_time": "2025-02-13T20:34:03.913980",
     "status": "completed"
    },
    "tags": []
   },
   "source": [
    "If we look at the Pearson correlations, we see that game quality and game importance are not highly correlated, suggesting that overall rating comes mostly from game importance."
   ]
  }
 ],
 "metadata": {
  "kaggle": {
   "accelerator": "none",
   "dataSources": [
    {
     "datasetId": 6660083,
     "sourceId": 10740361,
     "sourceType": "datasetVersion"
    }
   ],
   "dockerImageVersionId": 30886,
   "isGpuEnabled": false,
   "isInternetEnabled": true,
   "language": "python",
   "sourceType": "notebook"
  },
  "kernelspec": {
   "display_name": "Python 3",
   "language": "python",
   "name": "python3"
  },
  "language_info": {
   "codemirror_mode": {
    "name": "ipython",
    "version": 3
   },
   "file_extension": ".py",
   "mimetype": "text/x-python",
   "name": "python",
   "nbconvert_exporter": "python",
   "pygments_lexer": "ipython3",
   "version": "3.10.12"
  },
  "papermill": {
   "default_parameters": {},
   "duration": 7.685241,
   "end_time": "2025-02-13T20:34:04.545031",
   "environment_variables": {},
   "exception": null,
   "input_path": "__notebook__.ipynb",
   "output_path": "__notebook__.ipynb",
   "parameters": {},
   "start_time": "2025-02-13T20:33:56.859790",
   "version": "2.6.0"
  }
 },
 "nbformat": 4,
 "nbformat_minor": 5
}
