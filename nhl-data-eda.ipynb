{
 "cells": [
  {
   "cell_type": "markdown",
   "id": "48d1d2df",
   "metadata": {
    "papermill": {
     "duration": 0.005808,
     "end_time": "2025-02-14T19:42:10.425018",
     "exception": false,
     "start_time": "2025-02-14T19:42:10.419210",
     "status": "completed"
    },
    "tags": []
   },
   "source": [
    "Let's load up our data. We're just going to look at the latest data."
   ]
  },
  {
   "cell_type": "code",
   "execution_count": 1,
   "id": "2cb98693",
   "metadata": {
    "_cell_guid": "b1076dfc-b9ad-4769-8c92-a6c4dae69d19",
    "_uuid": "8f2839f25d086af736a60e9eeb907d3b93b6e0e5",
    "execution": {
     "iopub.execute_input": "2025-02-14T19:42:10.436811Z",
     "iopub.status.busy": "2025-02-14T19:42:10.436299Z",
     "iopub.status.idle": "2025-02-14T19:42:11.516944Z",
     "shell.execute_reply": "2025-02-14T19:42:11.515531Z"
    },
    "papermill": {
     "duration": 1.088758,
     "end_time": "2025-02-14T19:42:11.518868",
     "exception": false,
     "start_time": "2025-02-14T19:42:10.430110",
     "status": "completed"
    },
    "tags": []
   },
   "outputs": [
    {
     "data": {
      "text/html": [
       "<div>\n",
       "<style scoped>\n",
       "    .dataframe tbody tr th:only-of-type {\n",
       "        vertical-align: middle;\n",
       "    }\n",
       "\n",
       "    .dataframe tbody tr th {\n",
       "        vertical-align: top;\n",
       "    }\n",
       "\n",
       "    .dataframe thead th {\n",
       "        text-align: right;\n",
       "    }\n",
       "</style>\n",
       "<table border=\"1\" class=\"dataframe\">\n",
       "  <thead>\n",
       "    <tr style=\"text-align: right;\">\n",
       "      <th></th>\n",
       "      <th>season</th>\n",
       "      <th>date</th>\n",
       "      <th>playoff</th>\n",
       "      <th>neutral</th>\n",
       "      <th>status</th>\n",
       "      <th>ot</th>\n",
       "      <th>home_team</th>\n",
       "      <th>away_team</th>\n",
       "      <th>home_team_abbr</th>\n",
       "      <th>away_team_abbr</th>\n",
       "      <th>...</th>\n",
       "      <th>overtime_prob</th>\n",
       "      <th>home_team_expected_points</th>\n",
       "      <th>away_team_expected_points</th>\n",
       "      <th>home_team_score</th>\n",
       "      <th>away_team_score</th>\n",
       "      <th>home_team_postgame_rating</th>\n",
       "      <th>away_team_postgame_rating</th>\n",
       "      <th>game_quality_rating</th>\n",
       "      <th>game_importance_rating</th>\n",
       "      <th>game_overall_rating</th>\n",
       "    </tr>\n",
       "  </thead>\n",
       "  <tbody>\n",
       "    <tr>\n",
       "      <th>0</th>\n",
       "      <td>2023</td>\n",
       "      <td>2022-10-07</td>\n",
       "      <td>0</td>\n",
       "      <td>1</td>\n",
       "      <td>post</td>\n",
       "      <td>NaN</td>\n",
       "      <td>Nashville Predators</td>\n",
       "      <td>San Jose Sharks</td>\n",
       "      <td>NSH</td>\n",
       "      <td>SJS</td>\n",
       "      <td>...</td>\n",
       "      <td>0.234345</td>\n",
       "      <td>1.258314</td>\n",
       "      <td>0.976030</td>\n",
       "      <td>4</td>\n",
       "      <td>1</td>\n",
       "      <td>1510.044255</td>\n",
       "      <td>1446.464381</td>\n",
       "      <td>15</td>\n",
       "      <td>41</td>\n",
       "      <td>28</td>\n",
       "    </tr>\n",
       "    <tr>\n",
       "      <th>1</th>\n",
       "      <td>2023</td>\n",
       "      <td>2022-10-08</td>\n",
       "      <td>0</td>\n",
       "      <td>1</td>\n",
       "      <td>post</td>\n",
       "      <td>NaN</td>\n",
       "      <td>San Jose Sharks</td>\n",
       "      <td>Nashville Predators</td>\n",
       "      <td>SJS</td>\n",
       "      <td>NSH</td>\n",
       "      <td>...</td>\n",
       "      <td>0.233053</td>\n",
       "      <td>0.956634</td>\n",
       "      <td>1.276419</td>\n",
       "      <td>2</td>\n",
       "      <td>3</td>\n",
       "      <td>1444.546428</td>\n",
       "      <td>1511.962208</td>\n",
       "      <td>15</td>\n",
       "      <td>43</td>\n",
       "      <td>29</td>\n",
       "    </tr>\n",
       "    <tr>\n",
       "      <th>2</th>\n",
       "      <td>2023</td>\n",
       "      <td>2022-10-11</td>\n",
       "      <td>0</td>\n",
       "      <td>0</td>\n",
       "      <td>post</td>\n",
       "      <td>NaN</td>\n",
       "      <td>New York Rangers</td>\n",
       "      <td>Tampa Bay Lightning</td>\n",
       "      <td>NYR</td>\n",
       "      <td>TBL</td>\n",
       "      <td>...</td>\n",
       "      <td>0.238935</td>\n",
       "      <td>1.193826</td>\n",
       "      <td>1.045109</td>\n",
       "      <td>3</td>\n",
       "      <td>1</td>\n",
       "      <td>1554.002969</td>\n",
       "      <td>1567.724755</td>\n",
       "      <td>97</td>\n",
       "      <td>24</td>\n",
       "      <td>60</td>\n",
       "    </tr>\n",
       "    <tr>\n",
       "      <th>3</th>\n",
       "      <td>2023</td>\n",
       "      <td>2022-10-11</td>\n",
       "      <td>0</td>\n",
       "      <td>0</td>\n",
       "      <td>post</td>\n",
       "      <td>NaN</td>\n",
       "      <td>Los Angeles Kings</td>\n",
       "      <td>Vegas Golden Knights</td>\n",
       "      <td>LAK</td>\n",
       "      <td>VEG</td>\n",
       "      <td>...</td>\n",
       "      <td>0.240107</td>\n",
       "      <td>1.177400</td>\n",
       "      <td>1.062707</td>\n",
       "      <td>3</td>\n",
       "      <td>4</td>\n",
       "      <td>1498.528556</td>\n",
       "      <td>1531.054886</td>\n",
       "      <td>60</td>\n",
       "      <td>77</td>\n",
       "      <td>68</td>\n",
       "    </tr>\n",
       "    <tr>\n",
       "      <th>4</th>\n",
       "      <td>2023</td>\n",
       "      <td>2022-10-12</td>\n",
       "      <td>0</td>\n",
       "      <td>0</td>\n",
       "      <td>post</td>\n",
       "      <td>NaN</td>\n",
       "      <td>Carolina Hurricanes</td>\n",
       "      <td>Columbus Blue Jackets</td>\n",
       "      <td>CAR</td>\n",
       "      <td>CBJ</td>\n",
       "      <td>...</td>\n",
       "      <td>0.221824</td>\n",
       "      <td>1.430048</td>\n",
       "      <td>0.791776</td>\n",
       "      <td>4</td>\n",
       "      <td>1</td>\n",
       "      <td>1557.526926</td>\n",
       "      <td>1471.437081</td>\n",
       "      <td>58</td>\n",
       "      <td>36</td>\n",
       "      <td>47</td>\n",
       "    </tr>\n",
       "  </tbody>\n",
       "</table>\n",
       "<p>5 rows × 24 columns</p>\n",
       "</div>"
      ],
      "text/plain": [
       "   season       date  playoff  neutral status   ot            home_team  \\\n",
       "0    2023 2022-10-07        0        1   post  NaN  Nashville Predators   \n",
       "1    2023 2022-10-08        0        1   post  NaN      San Jose Sharks   \n",
       "2    2023 2022-10-11        0        0   post  NaN     New York Rangers   \n",
       "3    2023 2022-10-11        0        0   post  NaN    Los Angeles Kings   \n",
       "4    2023 2022-10-12        0        0   post  NaN  Carolina Hurricanes   \n",
       "\n",
       "               away_team home_team_abbr away_team_abbr  ...  overtime_prob  \\\n",
       "0        San Jose Sharks            NSH            SJS  ...       0.234345   \n",
       "1    Nashville Predators            SJS            NSH  ...       0.233053   \n",
       "2    Tampa Bay Lightning            NYR            TBL  ...       0.238935   \n",
       "3   Vegas Golden Knights            LAK            VEG  ...       0.240107   \n",
       "4  Columbus Blue Jackets            CAR            CBJ  ...       0.221824   \n",
       "\n",
       "   home_team_expected_points  away_team_expected_points  home_team_score  \\\n",
       "0                   1.258314                   0.976030                4   \n",
       "1                   0.956634                   1.276419                2   \n",
       "2                   1.193826                   1.045109                3   \n",
       "3                   1.177400                   1.062707                3   \n",
       "4                   1.430048                   0.791776                4   \n",
       "\n",
       "   away_team_score  home_team_postgame_rating  away_team_postgame_rating  \\\n",
       "0                1                1510.044255                1446.464381   \n",
       "1                3                1444.546428                1511.962208   \n",
       "2                1                1554.002969                1567.724755   \n",
       "3                4                1498.528556                1531.054886   \n",
       "4                1                1557.526926                1471.437081   \n",
       "\n",
       "   game_quality_rating  game_importance_rating  game_overall_rating  \n",
       "0                   15                      41                   28  \n",
       "1                   15                      43                   29  \n",
       "2                   97                      24                   60  \n",
       "3                   60                      77                   68  \n",
       "4                   58                      36                   47  \n",
       "\n",
       "[5 rows x 24 columns]"
      ]
     },
     "execution_count": 1,
     "metadata": {},
     "output_type": "execute_result"
    }
   ],
   "source": [
    "import pandas as pd\n",
    "\n",
    "DATA = '/kaggle/input/puck-elo-archive-1917now/NHL_ELO_Odyssey_latest.csv'\n",
    "df = pd.read_csv(filepath_or_buffer=DATA, parse_dates=['date'])\n",
    "df.head()"
   ]
  },
  {
   "cell_type": "markdown",
   "id": "65837a3e",
   "metadata": {
    "papermill": {
     "duration": 0.005216,
     "end_time": "2025-02-14T19:42:11.529710",
     "exception": false,
     "start_time": "2025-02-14T19:42:11.524494",
     "status": "completed"
    },
    "tags": []
   },
   "source": [
    "How much data do we have?"
   ]
  },
  {
   "cell_type": "code",
   "execution_count": 2,
   "id": "d044e4ef",
   "metadata": {
    "execution": {
     "iopub.execute_input": "2025-02-14T19:42:11.541377Z",
     "iopub.status.busy": "2025-02-14T19:42:11.541003Z",
     "iopub.status.idle": "2025-02-14T19:42:11.546867Z",
     "shell.execute_reply": "2025-02-14T19:42:11.545718Z"
    },
    "papermill": {
     "duration": 0.013539,
     "end_time": "2025-02-14T19:42:11.548396",
     "exception": false,
     "start_time": "2025-02-14T19:42:11.534857",
     "status": "completed"
    },
    "tags": []
   },
   "outputs": [
    {
     "data": {
      "text/plain": [
       "(1400, 24)"
      ]
     },
     "execution_count": 2,
     "metadata": {},
     "output_type": "execute_result"
    }
   ],
   "source": [
    "df.shape"
   ]
  },
  {
   "cell_type": "markdown",
   "id": "d6888d0d",
   "metadata": {
    "execution": {
     "iopub.execute_input": "2025-02-13T20:14:17.153358Z",
     "iopub.status.busy": "2025-02-13T20:14:17.152985Z",
     "iopub.status.idle": "2025-02-13T20:14:17.174626Z",
     "shell.execute_reply": "2025-02-13T20:14:17.173037Z",
     "shell.execute_reply.started": "2025-02-13T20:14:17.153330Z"
    },
    "papermill": {
     "duration": 0.00517,
     "end_time": "2025-02-14T19:42:11.559161",
     "exception": false,
     "start_time": "2025-02-14T19:42:11.553991",
     "status": "completed"
    },
    "tags": []
   },
   "source": [
    "Is that a lot of data? How many seasons of data do we have?"
   ]
  },
  {
   "cell_type": "code",
   "execution_count": 3,
   "id": "275413e6",
   "metadata": {
    "execution": {
     "iopub.execute_input": "2025-02-14T19:42:11.571392Z",
     "iopub.status.busy": "2025-02-14T19:42:11.571047Z",
     "iopub.status.idle": "2025-02-14T19:42:11.580058Z",
     "shell.execute_reply": "2025-02-14T19:42:11.578866Z"
    },
    "papermill": {
     "duration": 0.017596,
     "end_time": "2025-02-14T19:42:11.582104",
     "exception": false,
     "start_time": "2025-02-14T19:42:11.564508",
     "status": "completed"
    },
    "tags": []
   },
   "outputs": [
    {
     "data": {
      "text/plain": [
       "1"
      ]
     },
     "execution_count": 3,
     "metadata": {},
     "output_type": "execute_result"
    }
   ],
   "source": [
    "df['season'].nunique()"
   ]
  },
  {
   "cell_type": "markdown",
   "id": "207f3257",
   "metadata": {
    "papermill": {
     "duration": 0.005223,
     "end_time": "2025-02-14T19:42:11.592980",
     "exception": false,
     "start_time": "2025-02-14T19:42:11.587757",
     "status": "completed"
    },
    "tags": []
   },
   "source": [
    "We only have one season of data, and it is in game format. Let's take a look at the distributions of the ratings and win probabilities."
   ]
  },
  {
   "cell_type": "code",
   "execution_count": 4,
   "id": "7f22b8b5",
   "metadata": {
    "execution": {
     "iopub.execute_input": "2025-02-14T19:42:11.605402Z",
     "iopub.status.busy": "2025-02-14T19:42:11.605031Z",
     "iopub.status.idle": "2025-02-14T19:42:14.814099Z",
     "shell.execute_reply": "2025-02-14T19:42:14.813024Z"
    },
    "papermill": {
     "duration": 3.217454,
     "end_time": "2025-02-14T19:42:14.816007",
     "exception": false,
     "start_time": "2025-02-14T19:42:11.598553",
     "status": "completed"
    },
    "tags": []
   },
   "outputs": [
    {
     "data": {
      "text/html": [
       "        <script type=\"text/javascript\">\n",
       "        window.PlotlyConfig = {MathJaxConfig: 'local'};\n",
       "        if (window.MathJax && window.MathJax.Hub && window.MathJax.Hub.Config) {window.MathJax.Hub.Config({SVG: {font: \"STIX-Web\"}});}\n",
       "        if (typeof require !== 'undefined') {\n",
       "        require.undef(\"plotly\");\n",
       "        requirejs.config({\n",
       "            paths: {\n",
       "                'plotly': ['https://cdn.plot.ly/plotly-2.35.2.min']\n",
       "            }\n",
       "        });\n",
       "        require(['plotly'], function(Plotly) {\n",
       "            window._Plotly = Plotly;\n",
       "        });\n",
       "        }\n",
       "        </script>\n",
       "        "
      ]
     },
     "metadata": {},
     "output_type": "display_data"
    },
    {
     "data": {
      "text/html": [
       "<iframe\n",
       "    scrolling=\"no\"\n",
       "    width=\"100%\"\n",
       "    height=\"545px\"\n",
       "    src=\"iframe_figures/figure_4.html\"\n",
       "    frameborder=\"0\"\n",
       "    allowfullscreen\n",
       "></iframe>\n"
      ]
     },
     "metadata": {},
     "output_type": "display_data"
    }
   ],
   "source": [
    "from plotly import express\n",
    "from plotly.offline import init_notebook_mode\n",
    "\n",
    "init_notebook_mode(connected=True)\n",
    "express.histogram(data_frame=df, x='home_team_pregame_rating', nbins=100).show(renderer='iframe_connected', )"
   ]
  },
  {
   "cell_type": "markdown",
   "id": "e6a537dd",
   "metadata": {
    "papermill": {
     "duration": 0.00553,
     "end_time": "2025-02-14T19:42:14.827582",
     "exception": false,
     "start_time": "2025-02-14T19:42:14.822052",
     "status": "completed"
    },
    "tags": []
   },
   "source": [
    "Our pregame ratings are bimodal. What do visitor ratings look like?"
   ]
  },
  {
   "cell_type": "code",
   "execution_count": 5,
   "id": "8b75940c",
   "metadata": {
    "execution": {
     "iopub.execute_input": "2025-02-14T19:42:14.840310Z",
     "iopub.status.busy": "2025-02-14T19:42:14.839980Z",
     "iopub.status.idle": "2025-02-14T19:42:14.894628Z",
     "shell.execute_reply": "2025-02-14T19:42:14.893509Z"
    },
    "papermill": {
     "duration": 0.06305,
     "end_time": "2025-02-14T19:42:14.896362",
     "exception": false,
     "start_time": "2025-02-14T19:42:14.833312",
     "status": "completed"
    },
    "tags": []
   },
   "outputs": [
    {
     "data": {
      "text/html": [
       "<iframe\n",
       "    scrolling=\"no\"\n",
       "    width=\"100%\"\n",
       "    height=\"545px\"\n",
       "    src=\"iframe_figures/figure_5.html\"\n",
       "    frameborder=\"0\"\n",
       "    allowfullscreen\n",
       "></iframe>\n"
      ]
     },
     "metadata": {},
     "output_type": "display_data"
    }
   ],
   "source": [
    "express.histogram(data_frame=df, x='away_team_pregame_rating', nbins=100).show(renderer='iframe_connected', )"
   ]
  },
  {
   "cell_type": "markdown",
   "id": "99dd3521",
   "metadata": {
    "papermill": {
     "duration": 0.005541,
     "end_time": "2025-02-14T19:42:14.907905",
     "exception": false,
     "start_time": "2025-02-14T19:42:14.902364",
     "status": "completed"
    },
    "tags": []
   },
   "source": [
    "Away team pregame ratings are also bimodal. Let's see what the two features look like together."
   ]
  },
  {
   "cell_type": "code",
   "execution_count": 6,
   "id": "d8411181",
   "metadata": {
    "execution": {
     "iopub.execute_input": "2025-02-14T19:42:14.922265Z",
     "iopub.status.busy": "2025-02-14T19:42:14.921902Z",
     "iopub.status.idle": "2025-02-14T19:42:15.024104Z",
     "shell.execute_reply": "2025-02-14T19:42:15.023188Z"
    },
    "papermill": {
     "duration": 0.112066,
     "end_time": "2025-02-14T19:42:15.025693",
     "exception": false,
     "start_time": "2025-02-14T19:42:14.913627",
     "status": "completed"
    },
    "tags": []
   },
   "outputs": [
    {
     "data": {
      "text/html": [
       "<iframe\n",
       "    scrolling=\"no\"\n",
       "    width=\"100%\"\n",
       "    height=\"545px\"\n",
       "    src=\"iframe_figures/figure_6.html\"\n",
       "    frameborder=\"0\"\n",
       "    allowfullscreen\n",
       "></iframe>\n"
      ]
     },
     "metadata": {},
     "output_type": "display_data"
    }
   ],
   "source": [
    "express.scatter(data_frame=df, x='home_team_pregame_rating', color='game_overall_rating',\n",
    "                y='away_team_pregame_rating').show(renderer='iframe_connected',)"
   ]
  },
  {
   "cell_type": "markdown",
   "id": "bbf1e63f",
   "metadata": {
    "papermill": {
     "duration": 0.005431,
     "end_time": "2025-02-14T19:42:15.037100",
     "exception": false,
     "start_time": "2025-02-14T19:42:15.031669",
     "status": "completed"
    },
    "tags": []
   },
   "source": [
    "Not surprisingly, games between highly rated teams tend to be highly rated games."
   ]
  },
  {
   "cell_type": "markdown",
   "id": "fa80df6a",
   "metadata": {
    "papermill": {
     "duration": 0.005408,
     "end_time": "2025-02-14T19:42:15.048136",
     "exception": false,
     "start_time": "2025-02-14T19:42:15.042728",
     "status": "completed"
    },
    "tags": []
   },
   "source": [
    "Let's look at score frequencies. "
   ]
  },
  {
   "cell_type": "code",
   "execution_count": 7,
   "id": "f4a309c7",
   "metadata": {
    "execution": {
     "iopub.execute_input": "2025-02-14T19:42:15.060624Z",
     "iopub.status.busy": "2025-02-14T19:42:15.060210Z",
     "iopub.status.idle": "2025-02-14T19:42:15.132222Z",
     "shell.execute_reply": "2025-02-14T19:42:15.131082Z"
    },
    "papermill": {
     "duration": 0.080177,
     "end_time": "2025-02-14T19:42:15.133940",
     "exception": false,
     "start_time": "2025-02-14T19:42:15.053763",
     "status": "completed"
    },
    "tags": []
   },
   "outputs": [
    {
     "data": {
      "text/html": [
       "<iframe\n",
       "    scrolling=\"no\"\n",
       "    width=\"100%\"\n",
       "    height=\"545px\"\n",
       "    src=\"iframe_figures/figure_7.html\"\n",
       "    frameborder=\"0\"\n",
       "    allowfullscreen\n",
       "></iframe>\n"
      ]
     },
     "metadata": {},
     "output_type": "display_data"
    }
   ],
   "source": [
    "express.scatter(data_frame=df[['home_team_score', 'away_team_score']].groupby(by=['home_team_score', 'away_team_score']).size().reset_index(), x='home_team_score', y='away_team_score', size=0).show(renderer='iframe_connected',)"
   ]
  },
  {
   "cell_type": "markdown",
   "id": "de72da16",
   "metadata": {
    "papermill": {
     "duration": 0.006196,
     "end_time": "2025-02-14T19:42:15.146288",
     "exception": false,
     "start_time": "2025-02-14T19:42:15.140092",
     "status": "completed"
    },
    "tags": []
   },
   "source": [
    "Not surprisingly, one-goal games are relatively common, with 3-2 and 2-3 games being the most common. Games where one team scores ten or more goals almost never happen."
   ]
  },
  {
   "cell_type": "markdown",
   "id": "1472b61e",
   "metadata": {
    "papermill": {
     "duration": 0.005652,
     "end_time": "2025-02-14T19:42:15.157987",
     "exception": false,
     "start_time": "2025-02-14T19:42:15.152335",
     "status": "completed"
    },
    "tags": []
   },
   "source": [
    "Let's look at the relationship between home team expected points, which is a float, and home team score, which is an integer."
   ]
  },
  {
   "cell_type": "code",
   "execution_count": 8,
   "id": "593b141f",
   "metadata": {
    "execution": {
     "iopub.execute_input": "2025-02-14T19:42:15.171189Z",
     "iopub.status.busy": "2025-02-14T19:42:15.170855Z",
     "iopub.status.idle": "2025-02-14T19:42:15.224025Z",
     "shell.execute_reply": "2025-02-14T19:42:15.223102Z"
    },
    "papermill": {
     "duration": 0.062024,
     "end_time": "2025-02-14T19:42:15.225886",
     "exception": false,
     "start_time": "2025-02-14T19:42:15.163862",
     "status": "completed"
    },
    "tags": []
   },
   "outputs": [
    {
     "data": {
      "text/html": [
       "<iframe\n",
       "    scrolling=\"no\"\n",
       "    width=\"100%\"\n",
       "    height=\"545px\"\n",
       "    src=\"iframe_figures/figure_8.html\"\n",
       "    frameborder=\"0\"\n",
       "    allowfullscreen\n",
       "></iframe>\n"
      ]
     },
     "metadata": {},
     "output_type": "display_data"
    }
   ],
   "source": [
    "express.scatter(data_frame=df, x='home_team_expected_points', color='game_overall_rating',\n",
    "                y='home_team_score').show(renderer='iframe_connected',)"
   ]
  },
  {
   "cell_type": "markdown",
   "id": "9cb8b2c3",
   "metadata": {
    "papermill": {
     "duration": 0.005732,
     "end_time": "2025-02-14T19:42:15.237837",
     "exception": false,
     "start_time": "2025-02-14T19:42:15.232105",
     "status": "completed"
    },
    "tags": []
   },
   "source": [
    "Not surprisingly, games with high overall ratings tend to be relatively low-scoring games."
   ]
  },
  {
   "cell_type": "code",
   "execution_count": 9,
   "id": "8718abc4",
   "metadata": {
    "execution": {
     "iopub.execute_input": "2025-02-14T19:42:15.251180Z",
     "iopub.status.busy": "2025-02-14T19:42:15.250850Z",
     "iopub.status.idle": "2025-02-14T19:42:15.305176Z",
     "shell.execute_reply": "2025-02-14T19:42:15.304049Z"
    },
    "papermill": {
     "duration": 0.06345,
     "end_time": "2025-02-14T19:42:15.307317",
     "exception": false,
     "start_time": "2025-02-14T19:42:15.243867",
     "status": "completed"
    },
    "tags": []
   },
   "outputs": [
    {
     "data": {
      "text/html": [
       "<iframe\n",
       "    scrolling=\"no\"\n",
       "    width=\"100%\"\n",
       "    height=\"545px\"\n",
       "    src=\"iframe_figures/figure_9.html\"\n",
       "    frameborder=\"0\"\n",
       "    allowfullscreen\n",
       "></iframe>\n"
      ]
     },
     "metadata": {},
     "output_type": "display_data"
    }
   ],
   "source": [
    "express.scatter(data_frame=df, x='home_team_expected_points', color='game_overall_rating',\n",
    "                y='away_team_expected_points').show(renderer='iframe_connected',)"
   ]
  },
  {
   "cell_type": "markdown",
   "id": "c7ff40ee",
   "metadata": {
    "papermill": {
     "duration": 0.006102,
     "end_time": "2025-02-14T19:42:15.319914",
     "exception": false,
     "start_time": "2025-02-14T19:42:15.313812",
     "status": "completed"
    },
    "tags": []
   },
   "source": [
    "Surprisingly, the sum of the expected points is always about 2.2, and overall highly rated games tend to be expected to be close."
   ]
  },
  {
   "cell_type": "code",
   "execution_count": 10,
   "id": "6044c3e5",
   "metadata": {
    "execution": {
     "iopub.execute_input": "2025-02-14T19:42:15.334040Z",
     "iopub.status.busy": "2025-02-14T19:42:15.333704Z",
     "iopub.status.idle": "2025-02-14T19:42:15.386423Z",
     "shell.execute_reply": "2025-02-14T19:42:15.385552Z"
    },
    "papermill": {
     "duration": 0.061987,
     "end_time": "2025-02-14T19:42:15.388120",
     "exception": false,
     "start_time": "2025-02-14T19:42:15.326133",
     "status": "completed"
    },
    "tags": []
   },
   "outputs": [
    {
     "data": {
      "text/html": [
       "<iframe\n",
       "    scrolling=\"no\"\n",
       "    width=\"100%\"\n",
       "    height=\"545px\"\n",
       "    src=\"iframe_figures/figure_10.html\"\n",
       "    frameborder=\"0\"\n",
       "    allowfullscreen\n",
       "></iframe>\n"
      ]
     },
     "metadata": {},
     "output_type": "display_data"
    }
   ],
   "source": [
    "express.scatter(data_frame=df, x='game_quality_rating', color='game_overall_rating',\n",
    "                y='game_importance_rating').show(renderer='iframe_connected',)"
   ]
  },
  {
   "cell_type": "markdown",
   "id": "2b7d0d98",
   "metadata": {
    "papermill": {
     "duration": 0.005959,
     "end_time": "2025-02-14T19:42:15.400482",
     "exception": false,
     "start_time": "2025-02-14T19:42:15.394523",
     "status": "completed"
    },
    "tags": []
   },
   "source": [
    "Because the overall rating is the sum of the game quality rating and the game importance rating, we see a simple gradient along the line y=x. It's not surprising that there are a lot of games that have a low importance rating; are we surprised that there are a lot of games that are high-quality, low-importance?"
   ]
  },
  {
   "cell_type": "code",
   "execution_count": 11,
   "id": "8d84a901",
   "metadata": {
    "execution": {
     "iopub.execute_input": "2025-02-14T19:42:15.414164Z",
     "iopub.status.busy": "2025-02-14T19:42:15.413833Z",
     "iopub.status.idle": "2025-02-14T19:42:15.494907Z",
     "shell.execute_reply": "2025-02-14T19:42:15.493796Z"
    },
    "papermill": {
     "duration": 0.090421,
     "end_time": "2025-02-14T19:42:15.497049",
     "exception": false,
     "start_time": "2025-02-14T19:42:15.406628",
     "status": "completed"
    },
    "tags": []
   },
   "outputs": [
    {
     "data": {
      "text/html": [
       "<iframe\n",
       "    scrolling=\"no\"\n",
       "    width=\"100%\"\n",
       "    height=\"545px\"\n",
       "    src=\"iframe_figures/figure_11.html\"\n",
       "    frameborder=\"0\"\n",
       "    allowfullscreen\n",
       "></iframe>\n"
      ]
     },
     "metadata": {},
     "output_type": "display_data"
    }
   ],
   "source": [
    "express.density_contour(data_frame=df, x='game_quality_rating', histfunc='count',\n",
    "                y='game_importance_rating').show(renderer='iframe_connected',)"
   ]
  },
  {
   "cell_type": "markdown",
   "id": "5cda2f52",
   "metadata": {
    "papermill": {
     "duration": 0.006595,
     "end_time": "2025-02-14T19:42:15.510186",
     "exception": false,
     "start_time": "2025-02-14T19:42:15.503591",
     "status": "completed"
    },
    "tags": []
   },
   "source": [
    "We have a lot of low-quality, low-importance games, fewer high-quality, low-importance games, essentially no low-quality, high-importance games, and some high-quality, high-importance games. This latter condition is probably due to the presence of playoff and championship games in our dataset."
   ]
  },
  {
   "cell_type": "code",
   "execution_count": 12,
   "id": "b13e9a65",
   "metadata": {
    "execution": {
     "iopub.execute_input": "2025-02-14T19:42:15.524335Z",
     "iopub.status.busy": "2025-02-14T19:42:15.523977Z",
     "iopub.status.idle": "2025-02-14T19:42:15.536808Z",
     "shell.execute_reply": "2025-02-14T19:42:15.535860Z"
    },
    "papermill": {
     "duration": 0.021847,
     "end_time": "2025-02-14T19:42:15.538458",
     "exception": false,
     "start_time": "2025-02-14T19:42:15.516611",
     "status": "completed"
    },
    "tags": []
   },
   "outputs": [
    {
     "data": {
      "text/html": [
       "<div>\n",
       "<style scoped>\n",
       "    .dataframe tbody tr th:only-of-type {\n",
       "        vertical-align: middle;\n",
       "    }\n",
       "\n",
       "    .dataframe tbody tr th {\n",
       "        vertical-align: top;\n",
       "    }\n",
       "\n",
       "    .dataframe thead th {\n",
       "        text-align: right;\n",
       "    }\n",
       "</style>\n",
       "<table border=\"1\" class=\"dataframe\">\n",
       "  <thead>\n",
       "    <tr style=\"text-align: right;\">\n",
       "      <th></th>\n",
       "      <th>game_quality_rating</th>\n",
       "      <th>game_importance_rating</th>\n",
       "      <th>game_overall_rating</th>\n",
       "    </tr>\n",
       "  </thead>\n",
       "  <tbody>\n",
       "    <tr>\n",
       "      <th>game_quality_rating</th>\n",
       "      <td>1.000000</td>\n",
       "      <td>0.359439</td>\n",
       "      <td>0.844041</td>\n",
       "    </tr>\n",
       "    <tr>\n",
       "      <th>game_importance_rating</th>\n",
       "      <td>0.359439</td>\n",
       "      <td>1.000000</td>\n",
       "      <td>0.803748</td>\n",
       "    </tr>\n",
       "    <tr>\n",
       "      <th>game_overall_rating</th>\n",
       "      <td>0.844041</td>\n",
       "      <td>0.803748</td>\n",
       "      <td>1.000000</td>\n",
       "    </tr>\n",
       "  </tbody>\n",
       "</table>\n",
       "</div>"
      ],
      "text/plain": [
       "                        game_quality_rating  game_importance_rating  \\\n",
       "game_quality_rating                1.000000                0.359439   \n",
       "game_importance_rating             0.359439                1.000000   \n",
       "game_overall_rating                0.844041                0.803748   \n",
       "\n",
       "                        game_overall_rating  \n",
       "game_quality_rating                0.844041  \n",
       "game_importance_rating             0.803748  \n",
       "game_overall_rating                1.000000  "
      ]
     },
     "execution_count": 12,
     "metadata": {},
     "output_type": "execute_result"
    }
   ],
   "source": [
    "df[['game_quality_rating', 'game_importance_rating', 'game_overall_rating']].corr()"
   ]
  },
  {
   "cell_type": "markdown",
   "id": "a7c49f67",
   "metadata": {
    "papermill": {
     "duration": 0.006377,
     "end_time": "2025-02-14T19:42:15.551535",
     "exception": false,
     "start_time": "2025-02-14T19:42:15.545158",
     "status": "completed"
    },
    "tags": []
   },
   "source": [
    "If we look at the Pearson correlations, we see that game quality and game importance are not highly correlated, suggesting that overall rating comes mostly from game importance."
   ]
  }
 ],
 "metadata": {
  "kaggle": {
   "accelerator": "none",
   "dataSources": [
    {
     "datasetId": 6660083,
     "sourceId": 10740361,
     "sourceType": "datasetVersion"
    }
   ],
   "dockerImageVersionId": 30886,
   "isGpuEnabled": false,
   "isInternetEnabled": true,
   "language": "python",
   "sourceType": "notebook"
  },
  "kernelspec": {
   "display_name": "Python 3",
   "language": "python",
   "name": "python3"
  },
  "language_info": {
   "codemirror_mode": {
    "name": "ipython",
    "version": 3
   },
   "file_extension": ".py",
   "mimetype": "text/x-python",
   "name": "python",
   "nbconvert_exporter": "python",
   "pygments_lexer": "ipython3",
   "version": "3.10.12"
  },
  "papermill": {
   "default_parameters": {},
   "duration": 8.838184,
   "end_time": "2025-02-14T19:42:16.280260",
   "environment_variables": {},
   "exception": null,
   "input_path": "__notebook__.ipynb",
   "output_path": "__notebook__.ipynb",
   "parameters": {},
   "start_time": "2025-02-14T19:42:07.442076",
   "version": "2.6.0"
  }
 },
 "nbformat": 4,
 "nbformat_minor": 5
}
