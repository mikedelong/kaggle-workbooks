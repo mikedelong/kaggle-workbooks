{
 "cells": [
  {
   "cell_type": "markdown",
   "id": "b8f1a68d",
   "metadata": {
    "papermill": {
     "duration": 0.005681,
     "end_time": "2025-02-13T20:35:25.531670",
     "exception": false,
     "start_time": "2025-02-13T20:35:25.525989",
     "status": "completed"
    },
    "tags": []
   },
   "source": [
    "Let's load up our data. We're just going to look at the latest data."
   ]
  },
  {
   "cell_type": "code",
   "execution_count": 1,
   "id": "8106ed29",
   "metadata": {
    "_cell_guid": "b1076dfc-b9ad-4769-8c92-a6c4dae69d19",
    "_uuid": "8f2839f25d086af736a60e9eeb907d3b93b6e0e5",
    "execution": {
     "iopub.execute_input": "2025-02-13T20:35:25.543534Z",
     "iopub.status.busy": "2025-02-13T20:35:25.543140Z",
     "iopub.status.idle": "2025-02-13T20:35:26.644168Z",
     "shell.execute_reply": "2025-02-13T20:35:26.643023Z"
    },
    "papermill": {
     "duration": 1.108946,
     "end_time": "2025-02-13T20:35:26.645892",
     "exception": false,
     "start_time": "2025-02-13T20:35:25.536946",
     "status": "completed"
    },
    "tags": []
   },
   "outputs": [
    {
     "data": {
      "text/html": [
       "<div>\n",
       "<style scoped>\n",
       "    .dataframe tbody tr th:only-of-type {\n",
       "        vertical-align: middle;\n",
       "    }\n",
       "\n",
       "    .dataframe tbody tr th {\n",
       "        vertical-align: top;\n",
       "    }\n",
       "\n",
       "    .dataframe thead th {\n",
       "        text-align: right;\n",
       "    }\n",
       "</style>\n",
       "<table border=\"1\" class=\"dataframe\">\n",
       "  <thead>\n",
       "    <tr style=\"text-align: right;\">\n",
       "      <th></th>\n",
       "      <th>season</th>\n",
       "      <th>date</th>\n",
       "      <th>playoff</th>\n",
       "      <th>neutral</th>\n",
       "      <th>status</th>\n",
       "      <th>ot</th>\n",
       "      <th>home_team</th>\n",
       "      <th>away_team</th>\n",
       "      <th>home_team_abbr</th>\n",
       "      <th>away_team_abbr</th>\n",
       "      <th>...</th>\n",
       "      <th>overtime_prob</th>\n",
       "      <th>home_team_expected_points</th>\n",
       "      <th>away_team_expected_points</th>\n",
       "      <th>home_team_score</th>\n",
       "      <th>away_team_score</th>\n",
       "      <th>home_team_postgame_rating</th>\n",
       "      <th>away_team_postgame_rating</th>\n",
       "      <th>game_quality_rating</th>\n",
       "      <th>game_importance_rating</th>\n",
       "      <th>game_overall_rating</th>\n",
       "    </tr>\n",
       "  </thead>\n",
       "  <tbody>\n",
       "    <tr>\n",
       "      <th>0</th>\n",
       "      <td>2023</td>\n",
       "      <td>2022-10-07</td>\n",
       "      <td>0</td>\n",
       "      <td>1</td>\n",
       "      <td>post</td>\n",
       "      <td>NaN</td>\n",
       "      <td>Nashville Predators</td>\n",
       "      <td>San Jose Sharks</td>\n",
       "      <td>NSH</td>\n",
       "      <td>SJS</td>\n",
       "      <td>...</td>\n",
       "      <td>0.234345</td>\n",
       "      <td>1.258314</td>\n",
       "      <td>0.976030</td>\n",
       "      <td>4</td>\n",
       "      <td>1</td>\n",
       "      <td>1510.044255</td>\n",
       "      <td>1446.464381</td>\n",
       "      <td>15</td>\n",
       "      <td>41</td>\n",
       "      <td>28</td>\n",
       "    </tr>\n",
       "    <tr>\n",
       "      <th>1</th>\n",
       "      <td>2023</td>\n",
       "      <td>2022-10-08</td>\n",
       "      <td>0</td>\n",
       "      <td>1</td>\n",
       "      <td>post</td>\n",
       "      <td>NaN</td>\n",
       "      <td>San Jose Sharks</td>\n",
       "      <td>Nashville Predators</td>\n",
       "      <td>SJS</td>\n",
       "      <td>NSH</td>\n",
       "      <td>...</td>\n",
       "      <td>0.233053</td>\n",
       "      <td>0.956634</td>\n",
       "      <td>1.276419</td>\n",
       "      <td>2</td>\n",
       "      <td>3</td>\n",
       "      <td>1444.546428</td>\n",
       "      <td>1511.962208</td>\n",
       "      <td>15</td>\n",
       "      <td>43</td>\n",
       "      <td>29</td>\n",
       "    </tr>\n",
       "    <tr>\n",
       "      <th>2</th>\n",
       "      <td>2023</td>\n",
       "      <td>2022-10-11</td>\n",
       "      <td>0</td>\n",
       "      <td>0</td>\n",
       "      <td>post</td>\n",
       "      <td>NaN</td>\n",
       "      <td>New York Rangers</td>\n",
       "      <td>Tampa Bay Lightning</td>\n",
       "      <td>NYR</td>\n",
       "      <td>TBL</td>\n",
       "      <td>...</td>\n",
       "      <td>0.238935</td>\n",
       "      <td>1.193826</td>\n",
       "      <td>1.045109</td>\n",
       "      <td>3</td>\n",
       "      <td>1</td>\n",
       "      <td>1554.002969</td>\n",
       "      <td>1567.724755</td>\n",
       "      <td>97</td>\n",
       "      <td>24</td>\n",
       "      <td>60</td>\n",
       "    </tr>\n",
       "    <tr>\n",
       "      <th>3</th>\n",
       "      <td>2023</td>\n",
       "      <td>2022-10-11</td>\n",
       "      <td>0</td>\n",
       "      <td>0</td>\n",
       "      <td>post</td>\n",
       "      <td>NaN</td>\n",
       "      <td>Los Angeles Kings</td>\n",
       "      <td>Vegas Golden Knights</td>\n",
       "      <td>LAK</td>\n",
       "      <td>VEG</td>\n",
       "      <td>...</td>\n",
       "      <td>0.240107</td>\n",
       "      <td>1.177400</td>\n",
       "      <td>1.062707</td>\n",
       "      <td>3</td>\n",
       "      <td>4</td>\n",
       "      <td>1498.528556</td>\n",
       "      <td>1531.054886</td>\n",
       "      <td>60</td>\n",
       "      <td>77</td>\n",
       "      <td>68</td>\n",
       "    </tr>\n",
       "    <tr>\n",
       "      <th>4</th>\n",
       "      <td>2023</td>\n",
       "      <td>2022-10-12</td>\n",
       "      <td>0</td>\n",
       "      <td>0</td>\n",
       "      <td>post</td>\n",
       "      <td>NaN</td>\n",
       "      <td>Carolina Hurricanes</td>\n",
       "      <td>Columbus Blue Jackets</td>\n",
       "      <td>CAR</td>\n",
       "      <td>CBJ</td>\n",
       "      <td>...</td>\n",
       "      <td>0.221824</td>\n",
       "      <td>1.430048</td>\n",
       "      <td>0.791776</td>\n",
       "      <td>4</td>\n",
       "      <td>1</td>\n",
       "      <td>1557.526926</td>\n",
       "      <td>1471.437081</td>\n",
       "      <td>58</td>\n",
       "      <td>36</td>\n",
       "      <td>47</td>\n",
       "    </tr>\n",
       "  </tbody>\n",
       "</table>\n",
       "<p>5 rows × 24 columns</p>\n",
       "</div>"
      ],
      "text/plain": [
       "   season       date  playoff  neutral status   ot            home_team  \\\n",
       "0    2023 2022-10-07        0        1   post  NaN  Nashville Predators   \n",
       "1    2023 2022-10-08        0        1   post  NaN      San Jose Sharks   \n",
       "2    2023 2022-10-11        0        0   post  NaN     New York Rangers   \n",
       "3    2023 2022-10-11        0        0   post  NaN    Los Angeles Kings   \n",
       "4    2023 2022-10-12        0        0   post  NaN  Carolina Hurricanes   \n",
       "\n",
       "               away_team home_team_abbr away_team_abbr  ...  overtime_prob  \\\n",
       "0        San Jose Sharks            NSH            SJS  ...       0.234345   \n",
       "1    Nashville Predators            SJS            NSH  ...       0.233053   \n",
       "2    Tampa Bay Lightning            NYR            TBL  ...       0.238935   \n",
       "3   Vegas Golden Knights            LAK            VEG  ...       0.240107   \n",
       "4  Columbus Blue Jackets            CAR            CBJ  ...       0.221824   \n",
       "\n",
       "   home_team_expected_points  away_team_expected_points  home_team_score  \\\n",
       "0                   1.258314                   0.976030                4   \n",
       "1                   0.956634                   1.276419                2   \n",
       "2                   1.193826                   1.045109                3   \n",
       "3                   1.177400                   1.062707                3   \n",
       "4                   1.430048                   0.791776                4   \n",
       "\n",
       "   away_team_score  home_team_postgame_rating  away_team_postgame_rating  \\\n",
       "0                1                1510.044255                1446.464381   \n",
       "1                3                1444.546428                1511.962208   \n",
       "2                1                1554.002969                1567.724755   \n",
       "3                4                1498.528556                1531.054886   \n",
       "4                1                1557.526926                1471.437081   \n",
       "\n",
       "   game_quality_rating  game_importance_rating  game_overall_rating  \n",
       "0                   15                      41                   28  \n",
       "1                   15                      43                   29  \n",
       "2                   97                      24                   60  \n",
       "3                   60                      77                   68  \n",
       "4                   58                      36                   47  \n",
       "\n",
       "[5 rows x 24 columns]"
      ]
     },
     "execution_count": 1,
     "metadata": {},
     "output_type": "execute_result"
    }
   ],
   "source": [
    "import pandas as pd\n",
    "\n",
    "DATA = '/kaggle/input/puck-elo-archive-1917now/NHL_ELO_Odyssey_latest.csv'\n",
    "df = pd.read_csv(filepath_or_buffer=DATA, parse_dates=['date'])\n",
    "df.head()"
   ]
  },
  {
   "cell_type": "markdown",
   "id": "c6b5aa1a",
   "metadata": {
    "papermill": {
     "duration": 0.00511,
     "end_time": "2025-02-13T20:35:26.656638",
     "exception": false,
     "start_time": "2025-02-13T20:35:26.651528",
     "status": "completed"
    },
    "tags": []
   },
   "source": [
    "How much data do we have?"
   ]
  },
  {
   "cell_type": "code",
   "execution_count": 2,
   "id": "0f19c9b7",
   "metadata": {
    "execution": {
     "iopub.execute_input": "2025-02-13T20:35:26.669059Z",
     "iopub.status.busy": "2025-02-13T20:35:26.668718Z",
     "iopub.status.idle": "2025-02-13T20:35:26.674400Z",
     "shell.execute_reply": "2025-02-13T20:35:26.673500Z"
    },
    "papermill": {
     "duration": 0.014071,
     "end_time": "2025-02-13T20:35:26.676016",
     "exception": false,
     "start_time": "2025-02-13T20:35:26.661945",
     "status": "completed"
    },
    "tags": []
   },
   "outputs": [
    {
     "data": {
      "text/plain": [
       "(1400, 24)"
      ]
     },
     "execution_count": 2,
     "metadata": {},
     "output_type": "execute_result"
    }
   ],
   "source": [
    "df.shape"
   ]
  },
  {
   "cell_type": "code",
   "execution_count": 3,
   "id": "89e81485",
   "metadata": {
    "execution": {
     "iopub.execute_input": "2025-02-13T20:35:26.688654Z",
     "iopub.status.busy": "2025-02-13T20:35:26.688251Z",
     "iopub.status.idle": "2025-02-13T20:35:26.694141Z",
     "shell.execute_reply": "2025-02-13T20:35:26.693192Z"
    },
    "papermill": {
     "duration": 0.013836,
     "end_time": "2025-02-13T20:35:26.695720",
     "exception": false,
     "start_time": "2025-02-13T20:35:26.681884",
     "status": "completed"
    },
    "tags": []
   },
   "outputs": [
    {
     "name": "stdout",
     "output_type": "stream",
     "text": [
      "Object `have` not found.\n"
     ]
    }
   ],
   "source": [
    "Is that a lot of data? How many seasons of data do we have?"
   ]
  },
  {
   "cell_type": "code",
   "execution_count": 4,
   "id": "fcacfe67",
   "metadata": {
    "execution": {
     "iopub.execute_input": "2025-02-13T20:35:26.708108Z",
     "iopub.status.busy": "2025-02-13T20:35:26.707739Z",
     "iopub.status.idle": "2025-02-13T20:35:26.717684Z",
     "shell.execute_reply": "2025-02-13T20:35:26.716646Z"
    },
    "papermill": {
     "duration": 0.018131,
     "end_time": "2025-02-13T20:35:26.719462",
     "exception": false,
     "start_time": "2025-02-13T20:35:26.701331",
     "status": "completed"
    },
    "tags": []
   },
   "outputs": [
    {
     "data": {
      "text/plain": [
       "1"
      ]
     },
     "execution_count": 4,
     "metadata": {},
     "output_type": "execute_result"
    }
   ],
   "source": [
    "df['season'].nunique()"
   ]
  },
  {
   "cell_type": "markdown",
   "id": "fbc18802",
   "metadata": {
    "papermill": {
     "duration": 0.005249,
     "end_time": "2025-02-13T20:35:26.730512",
     "exception": false,
     "start_time": "2025-02-13T20:35:26.725263",
     "status": "completed"
    },
    "tags": []
   },
   "source": [
    "We only have one season of data, and it is in game format. Let's take a look at the distributions of the ratings and win probabilities."
   ]
  },
  {
   "cell_type": "code",
   "execution_count": 5,
   "id": "84d4f36e",
   "metadata": {
    "execution": {
     "iopub.execute_input": "2025-02-13T20:35:26.743896Z",
     "iopub.status.busy": "2025-02-13T20:35:26.743543Z",
     "iopub.status.idle": "2025-02-13T20:35:29.850235Z",
     "shell.execute_reply": "2025-02-13T20:35:29.849109Z"
    },
    "papermill": {
     "duration": 3.116424,
     "end_time": "2025-02-13T20:35:29.852935",
     "exception": false,
     "start_time": "2025-02-13T20:35:26.736511",
     "status": "completed"
    },
    "tags": []
   },
   "outputs": [
    {
     "data": {
      "text/html": [
       "        <script type=\"text/javascript\">\n",
       "        window.PlotlyConfig = {MathJaxConfig: 'local'};\n",
       "        if (window.MathJax && window.MathJax.Hub && window.MathJax.Hub.Config) {window.MathJax.Hub.Config({SVG: {font: \"STIX-Web\"}});}\n",
       "        if (typeof require !== 'undefined') {\n",
       "        require.undef(\"plotly\");\n",
       "        requirejs.config({\n",
       "            paths: {\n",
       "                'plotly': ['https://cdn.plot.ly/plotly-2.35.2.min']\n",
       "            }\n",
       "        });\n",
       "        require(['plotly'], function(Plotly) {\n",
       "            window._Plotly = Plotly;\n",
       "        });\n",
       "        }\n",
       "        </script>\n",
       "        "
      ]
     },
     "metadata": {},
     "output_type": "display_data"
    },
    {
     "data": {
      "text/html": [
       "<iframe\n",
       "    scrolling=\"no\"\n",
       "    width=\"100%\"\n",
       "    height=\"545px\"\n",
       "    src=\"iframe_figures/figure_5.html\"\n",
       "    frameborder=\"0\"\n",
       "    allowfullscreen\n",
       "></iframe>\n"
      ]
     },
     "metadata": {},
     "output_type": "display_data"
    }
   ],
   "source": [
    "from plotly import express\n",
    "from plotly.offline import init_notebook_mode\n",
    "\n",
    "init_notebook_mode(connected=True)\n",
    "express.histogram(data_frame=df, x='home_team_pregame_rating', nbins=100).show(renderer='iframe_connected', )"
   ]
  },
  {
   "cell_type": "markdown",
   "id": "f6262062",
   "metadata": {
    "papermill": {
     "duration": 0.009661,
     "end_time": "2025-02-13T20:35:29.870040",
     "exception": false,
     "start_time": "2025-02-13T20:35:29.860379",
     "status": "completed"
    },
    "tags": []
   },
   "source": [
    "Our pregame ratings are bimodal. What do visitor ratings look like?"
   ]
  },
  {
   "cell_type": "code",
   "execution_count": 6,
   "id": "87d01e11",
   "metadata": {
    "execution": {
     "iopub.execute_input": "2025-02-13T20:35:29.884835Z",
     "iopub.status.busy": "2025-02-13T20:35:29.884473Z",
     "iopub.status.idle": "2025-02-13T20:35:29.937906Z",
     "shell.execute_reply": "2025-02-13T20:35:29.936744Z"
    },
    "papermill": {
     "duration": 0.062036,
     "end_time": "2025-02-13T20:35:29.939674",
     "exception": false,
     "start_time": "2025-02-13T20:35:29.877638",
     "status": "completed"
    },
    "tags": []
   },
   "outputs": [
    {
     "data": {
      "text/html": [
       "<iframe\n",
       "    scrolling=\"no\"\n",
       "    width=\"100%\"\n",
       "    height=\"545px\"\n",
       "    src=\"iframe_figures/figure_6.html\"\n",
       "    frameborder=\"0\"\n",
       "    allowfullscreen\n",
       "></iframe>\n"
      ]
     },
     "metadata": {},
     "output_type": "display_data"
    }
   ],
   "source": [
    "express.histogram(data_frame=df, x='away_team_pregame_rating', nbins=100).show(renderer='iframe_connected', )"
   ]
  },
  {
   "cell_type": "markdown",
   "id": "11574ecd",
   "metadata": {
    "papermill": {
     "duration": 0.005559,
     "end_time": "2025-02-13T20:35:29.951266",
     "exception": false,
     "start_time": "2025-02-13T20:35:29.945707",
     "status": "completed"
    },
    "tags": []
   },
   "source": [
    "Away team pregame ratings are also bimodal. Let's see what the two features look like together."
   ]
  },
  {
   "cell_type": "code",
   "execution_count": 7,
   "id": "a956b771",
   "metadata": {
    "execution": {
     "iopub.execute_input": "2025-02-13T20:35:29.971771Z",
     "iopub.status.busy": "2025-02-13T20:35:29.971298Z",
     "iopub.status.idle": "2025-02-13T20:35:30.114837Z",
     "shell.execute_reply": "2025-02-13T20:35:30.113544Z"
    },
    "papermill": {
     "duration": 0.15631,
     "end_time": "2025-02-13T20:35:30.116887",
     "exception": false,
     "start_time": "2025-02-13T20:35:29.960577",
     "status": "completed"
    },
    "tags": []
   },
   "outputs": [
    {
     "data": {
      "text/html": [
       "<iframe\n",
       "    scrolling=\"no\"\n",
       "    width=\"100%\"\n",
       "    height=\"545px\"\n",
       "    src=\"iframe_figures/figure_7.html\"\n",
       "    frameborder=\"0\"\n",
       "    allowfullscreen\n",
       "></iframe>\n"
      ]
     },
     "metadata": {},
     "output_type": "display_data"
    }
   ],
   "source": [
    "express.scatter(data_frame=df, x='home_team_pregame_rating', color='game_overall_rating',\n",
    "                y='away_team_pregame_rating').show(renderer='iframe_connected',)"
   ]
  },
  {
   "cell_type": "markdown",
   "id": "86353298",
   "metadata": {
    "papermill": {
     "duration": 0.005811,
     "end_time": "2025-02-13T20:35:30.131212",
     "exception": false,
     "start_time": "2025-02-13T20:35:30.125401",
     "status": "completed"
    },
    "tags": []
   },
   "source": [
    "Not surprisingly, games between highly rated teams tend to be highly rated games."
   ]
  },
  {
   "cell_type": "markdown",
   "id": "1ce773d2",
   "metadata": {
    "papermill": {
     "duration": 0.005814,
     "end_time": "2025-02-13T20:35:30.145004",
     "exception": false,
     "start_time": "2025-02-13T20:35:30.139190",
     "status": "completed"
    },
    "tags": []
   },
   "source": [
    "Let's look at score frequencies. "
   ]
  },
  {
   "cell_type": "code",
   "execution_count": 8,
   "id": "1c275da5",
   "metadata": {
    "execution": {
     "iopub.execute_input": "2025-02-13T20:35:30.158722Z",
     "iopub.status.busy": "2025-02-13T20:35:30.158384Z",
     "iopub.status.idle": "2025-02-13T20:35:30.234344Z",
     "shell.execute_reply": "2025-02-13T20:35:30.233174Z"
    },
    "papermill": {
     "duration": 0.085107,
     "end_time": "2025-02-13T20:35:30.236235",
     "exception": false,
     "start_time": "2025-02-13T20:35:30.151128",
     "status": "completed"
    },
    "tags": []
   },
   "outputs": [
    {
     "data": {
      "text/html": [
       "<iframe\n",
       "    scrolling=\"no\"\n",
       "    width=\"100%\"\n",
       "    height=\"545px\"\n",
       "    src=\"iframe_figures/figure_8.html\"\n",
       "    frameborder=\"0\"\n",
       "    allowfullscreen\n",
       "></iframe>\n"
      ]
     },
     "metadata": {},
     "output_type": "display_data"
    }
   ],
   "source": [
    "express.scatter(data_frame=df[['home_team_score', 'away_team_score']].groupby(by=['home_team_score', 'away_team_score']).size().reset_index(), x='home_team_score', y='away_team_score', size=0).show(renderer='iframe_connected',)"
   ]
  },
  {
   "cell_type": "markdown",
   "id": "bdba8aeb",
   "metadata": {
    "papermill": {
     "duration": 0.006091,
     "end_time": "2025-02-13T20:35:30.248611",
     "exception": false,
     "start_time": "2025-02-13T20:35:30.242520",
     "status": "completed"
    },
    "tags": []
   },
   "source": [
    "Not surprisingly, one-goal games are relatively common, with 3-2 and 2-3 games being the most common. Games where one team scores ten or more goals almost never happen."
   ]
  },
  {
   "cell_type": "markdown",
   "id": "cc9a4d47",
   "metadata": {
    "papermill": {
     "duration": 0.00563,
     "end_time": "2025-02-13T20:35:30.260224",
     "exception": false,
     "start_time": "2025-02-13T20:35:30.254594",
     "status": "completed"
    },
    "tags": []
   },
   "source": [
    "Let's look at the relationship between home team expected points, which is a float, and home team score, which is an integer."
   ]
  },
  {
   "cell_type": "code",
   "execution_count": 9,
   "id": "eda1be81",
   "metadata": {
    "execution": {
     "iopub.execute_input": "2025-02-13T20:35:30.273399Z",
     "iopub.status.busy": "2025-02-13T20:35:30.273007Z",
     "iopub.status.idle": "2025-02-13T20:35:30.326379Z",
     "shell.execute_reply": "2025-02-13T20:35:30.325216Z"
    },
    "papermill": {
     "duration": 0.062123,
     "end_time": "2025-02-13T20:35:30.328239",
     "exception": false,
     "start_time": "2025-02-13T20:35:30.266116",
     "status": "completed"
    },
    "tags": []
   },
   "outputs": [
    {
     "data": {
      "text/html": [
       "<iframe\n",
       "    scrolling=\"no\"\n",
       "    width=\"100%\"\n",
       "    height=\"545px\"\n",
       "    src=\"iframe_figures/figure_9.html\"\n",
       "    frameborder=\"0\"\n",
       "    allowfullscreen\n",
       "></iframe>\n"
      ]
     },
     "metadata": {},
     "output_type": "display_data"
    }
   ],
   "source": [
    "express.scatter(data_frame=df, x='home_team_expected_points', color='game_overall_rating',\n",
    "                y='home_team_score').show(renderer='iframe_connected',)"
   ]
  },
  {
   "cell_type": "markdown",
   "id": "ef9871f0",
   "metadata": {
    "papermill": {
     "duration": 0.005977,
     "end_time": "2025-02-13T20:35:30.340585",
     "exception": false,
     "start_time": "2025-02-13T20:35:30.334608",
     "status": "completed"
    },
    "tags": []
   },
   "source": [
    "Not surprisingly, games with high overall ratings tend to be relatively low-scoring games."
   ]
  },
  {
   "cell_type": "code",
   "execution_count": 10,
   "id": "0765b106",
   "metadata": {
    "execution": {
     "iopub.execute_input": "2025-02-13T20:35:30.354261Z",
     "iopub.status.busy": "2025-02-13T20:35:30.353866Z",
     "iopub.status.idle": "2025-02-13T20:35:30.407666Z",
     "shell.execute_reply": "2025-02-13T20:35:30.406484Z"
    },
    "papermill": {
     "duration": 0.063134,
     "end_time": "2025-02-13T20:35:30.409768",
     "exception": false,
     "start_time": "2025-02-13T20:35:30.346634",
     "status": "completed"
    },
    "tags": []
   },
   "outputs": [
    {
     "data": {
      "text/html": [
       "<iframe\n",
       "    scrolling=\"no\"\n",
       "    width=\"100%\"\n",
       "    height=\"545px\"\n",
       "    src=\"iframe_figures/figure_10.html\"\n",
       "    frameborder=\"0\"\n",
       "    allowfullscreen\n",
       "></iframe>\n"
      ]
     },
     "metadata": {},
     "output_type": "display_data"
    }
   ],
   "source": [
    "express.scatter(data_frame=df, x='home_team_expected_points', color='game_overall_rating',\n",
    "                y='away_team_expected_points').show(renderer='iframe_connected',)"
   ]
  },
  {
   "cell_type": "markdown",
   "id": "79d3eb31",
   "metadata": {
    "papermill": {
     "duration": 0.005965,
     "end_time": "2025-02-13T20:35:30.422335",
     "exception": false,
     "start_time": "2025-02-13T20:35:30.416370",
     "status": "completed"
    },
    "tags": []
   },
   "source": [
    "Surprisingly, the sum of the expected points is always about 2.2, and overall highly rated games tend to be expected to be close."
   ]
  },
  {
   "cell_type": "code",
   "execution_count": 11,
   "id": "079f83d9",
   "metadata": {
    "execution": {
     "iopub.execute_input": "2025-02-13T20:35:30.436355Z",
     "iopub.status.busy": "2025-02-13T20:35:30.435936Z",
     "iopub.status.idle": "2025-02-13T20:35:30.491389Z",
     "shell.execute_reply": "2025-02-13T20:35:30.490054Z"
    },
    "papermill": {
     "duration": 0.064955,
     "end_time": "2025-02-13T20:35:30.493490",
     "exception": false,
     "start_time": "2025-02-13T20:35:30.428535",
     "status": "completed"
    },
    "tags": []
   },
   "outputs": [
    {
     "data": {
      "text/html": [
       "<iframe\n",
       "    scrolling=\"no\"\n",
       "    width=\"100%\"\n",
       "    height=\"545px\"\n",
       "    src=\"iframe_figures/figure_11.html\"\n",
       "    frameborder=\"0\"\n",
       "    allowfullscreen\n",
       "></iframe>\n"
      ]
     },
     "metadata": {},
     "output_type": "display_data"
    }
   ],
   "source": [
    "express.scatter(data_frame=df, x='game_quality_rating', color='game_overall_rating',\n",
    "                y='game_importance_rating').show(renderer='iframe_connected',)"
   ]
  },
  {
   "cell_type": "markdown",
   "id": "5acc7ed0",
   "metadata": {
    "papermill": {
     "duration": 0.005895,
     "end_time": "2025-02-13T20:35:30.505911",
     "exception": false,
     "start_time": "2025-02-13T20:35:30.500016",
     "status": "completed"
    },
    "tags": []
   },
   "source": [
    "Because the overall rating is the sum of the game quality rating and the game importance rating, we see a simple gradient along the line y=x. It's not surprising that there are a lot of games that have a low importance rating; are we surprised that there are a lot of games that are high-quality, low-importance?"
   ]
  },
  {
   "cell_type": "code",
   "execution_count": 12,
   "id": "b3e22f06",
   "metadata": {
    "execution": {
     "iopub.execute_input": "2025-02-13T20:35:30.519706Z",
     "iopub.status.busy": "2025-02-13T20:35:30.519311Z",
     "iopub.status.idle": "2025-02-13T20:35:30.600631Z",
     "shell.execute_reply": "2025-02-13T20:35:30.599367Z"
    },
    "papermill": {
     "duration": 0.090391,
     "end_time": "2025-02-13T20:35:30.602525",
     "exception": false,
     "start_time": "2025-02-13T20:35:30.512134",
     "status": "completed"
    },
    "tags": []
   },
   "outputs": [
    {
     "data": {
      "text/html": [
       "<iframe\n",
       "    scrolling=\"no\"\n",
       "    width=\"100%\"\n",
       "    height=\"545px\"\n",
       "    src=\"iframe_figures/figure_12.html\"\n",
       "    frameborder=\"0\"\n",
       "    allowfullscreen\n",
       "></iframe>\n"
      ]
     },
     "metadata": {},
     "output_type": "display_data"
    }
   ],
   "source": [
    "express.density_contour(data_frame=df, x='game_quality_rating', histfunc='count',\n",
    "                y='game_importance_rating').show(renderer='iframe_connected',)"
   ]
  },
  {
   "cell_type": "markdown",
   "id": "d1a06bf6",
   "metadata": {
    "papermill": {
     "duration": 0.006179,
     "end_time": "2025-02-13T20:35:30.615472",
     "exception": false,
     "start_time": "2025-02-13T20:35:30.609293",
     "status": "completed"
    },
    "tags": []
   },
   "source": [
    "We have a lot of low-quality, low-importance games, fewer high-quality, low-importance games, essentially no low-quality, high-importance games, and some high-quality, high-importance games. This latter condition is probably due to the presence of playoff and championship games in our dataset."
   ]
  },
  {
   "cell_type": "code",
   "execution_count": 13,
   "id": "28d6b55f",
   "metadata": {
    "execution": {
     "iopub.execute_input": "2025-02-13T20:35:30.630091Z",
     "iopub.status.busy": "2025-02-13T20:35:30.629665Z",
     "iopub.status.idle": "2025-02-13T20:35:30.644037Z",
     "shell.execute_reply": "2025-02-13T20:35:30.642835Z"
    },
    "papermill": {
     "duration": 0.02409,
     "end_time": "2025-02-13T20:35:30.645968",
     "exception": false,
     "start_time": "2025-02-13T20:35:30.621878",
     "status": "completed"
    },
    "tags": []
   },
   "outputs": [
    {
     "data": {
      "text/html": [
       "<div>\n",
       "<style scoped>\n",
       "    .dataframe tbody tr th:only-of-type {\n",
       "        vertical-align: middle;\n",
       "    }\n",
       "\n",
       "    .dataframe tbody tr th {\n",
       "        vertical-align: top;\n",
       "    }\n",
       "\n",
       "    .dataframe thead th {\n",
       "        text-align: right;\n",
       "    }\n",
       "</style>\n",
       "<table border=\"1\" class=\"dataframe\">\n",
       "  <thead>\n",
       "    <tr style=\"text-align: right;\">\n",
       "      <th></th>\n",
       "      <th>game_quality_rating</th>\n",
       "      <th>game_importance_rating</th>\n",
       "      <th>game_overall_rating</th>\n",
       "    </tr>\n",
       "  </thead>\n",
       "  <tbody>\n",
       "    <tr>\n",
       "      <th>game_quality_rating</th>\n",
       "      <td>1.000000</td>\n",
       "      <td>0.359439</td>\n",
       "      <td>0.844041</td>\n",
       "    </tr>\n",
       "    <tr>\n",
       "      <th>game_importance_rating</th>\n",
       "      <td>0.359439</td>\n",
       "      <td>1.000000</td>\n",
       "      <td>0.803748</td>\n",
       "    </tr>\n",
       "    <tr>\n",
       "      <th>game_overall_rating</th>\n",
       "      <td>0.844041</td>\n",
       "      <td>0.803748</td>\n",
       "      <td>1.000000</td>\n",
       "    </tr>\n",
       "  </tbody>\n",
       "</table>\n",
       "</div>"
      ],
      "text/plain": [
       "                        game_quality_rating  game_importance_rating  \\\n",
       "game_quality_rating                1.000000                0.359439   \n",
       "game_importance_rating             0.359439                1.000000   \n",
       "game_overall_rating                0.844041                0.803748   \n",
       "\n",
       "                        game_overall_rating  \n",
       "game_quality_rating                0.844041  \n",
       "game_importance_rating             0.803748  \n",
       "game_overall_rating                1.000000  "
      ]
     },
     "execution_count": 13,
     "metadata": {},
     "output_type": "execute_result"
    }
   ],
   "source": [
    "df[['game_quality_rating', 'game_importance_rating', 'game_overall_rating']].corr()"
   ]
  },
  {
   "cell_type": "markdown",
   "id": "f1e198fa",
   "metadata": {
    "papermill": {
     "duration": 0.007006,
     "end_time": "2025-02-13T20:35:30.659751",
     "exception": false,
     "start_time": "2025-02-13T20:35:30.652745",
     "status": "completed"
    },
    "tags": []
   },
   "source": [
    "If we look at the Pearson correlations, we see that game quality and game importance are not highly correlated, suggesting that overall rating comes mostly from game importance."
   ]
  }
 ],
 "metadata": {
  "kaggle": {
   "accelerator": "none",
   "dataSources": [
    {
     "datasetId": 6660083,
     "sourceId": 10740361,
     "sourceType": "datasetVersion"
    }
   ],
   "dockerImageVersionId": 30886,
   "isGpuEnabled": false,
   "isInternetEnabled": true,
   "language": "python",
   "sourceType": "notebook"
  },
  "kernelspec": {
   "display_name": "Python 3",
   "language": "python",
   "name": "python3"
  },
  "language_info": {
   "codemirror_mode": {
    "name": "ipython",
    "version": 3
   },
   "file_extension": ".py",
   "mimetype": "text/x-python",
   "name": "python",
   "nbconvert_exporter": "python",
   "pygments_lexer": "ipython3",
   "version": "3.10.12"
  },
  "papermill": {
   "default_parameters": {},
   "duration": 8.830994,
   "end_time": "2025-02-13T20:35:31.388209",
   "environment_variables": {},
   "exception": null,
   "input_path": "__notebook__.ipynb",
   "output_path": "__notebook__.ipynb",
   "parameters": {},
   "start_time": "2025-02-13T20:35:22.557215",
   "version": "2.6.0"
  }
 },
 "nbformat": 4,
 "nbformat_minor": 5
}
