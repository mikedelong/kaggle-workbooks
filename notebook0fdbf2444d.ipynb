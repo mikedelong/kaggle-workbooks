{
 "cells": [
  {
   "cell_type": "code",
   "execution_count": 1,
   "id": "2fc2f889",
   "metadata": {
    "_cell_guid": "b1076dfc-b9ad-4769-8c92-a6c4dae69d19",
    "_uuid": "8f2839f25d086af736a60e9eeb907d3b93b6e0e5",
    "execution": {
     "iopub.execute_input": "2024-07-13T00:42:05.427447Z",
     "iopub.status.busy": "2024-07-13T00:42:05.427010Z",
     "iopub.status.idle": "2024-07-13T00:42:23.188626Z",
     "shell.execute_reply": "2024-07-13T00:42:23.187204Z"
    },
    "papermill": {
     "duration": 17.769056,
     "end_time": "2024-07-13T00:42:23.191448",
     "exception": false,
     "start_time": "2024-07-13T00:42:05.422392",
     "status": "completed"
    },
    "tags": []
   },
   "outputs": [
    {
     "name": "stdout",
     "output_type": "stream",
     "text": [
      "pip install img2vec complete\n"
     ]
    }
   ],
   "source": [
    "!pip install --quiet img2vec_pytorch\n",
    "print('pip install img2vec complete')"
   ]
  },
  {
   "cell_type": "code",
   "execution_count": 2,
   "id": "d8092af7",
   "metadata": {
    "execution": {
     "iopub.execute_input": "2024-07-13T00:42:23.198775Z",
     "iopub.status.busy": "2024-07-13T00:42:23.198361Z",
     "iopub.status.idle": "2024-07-13T00:46:10.376195Z",
     "shell.execute_reply": "2024-07-13T00:46:10.374593Z"
    },
    "papermill": {
     "duration": 227.184891,
     "end_time": "2024-07-13T00:46:10.379173",
     "exception": false,
     "start_time": "2024-07-13T00:42:23.194282",
     "status": "completed"
    },
    "tags": []
   },
   "outputs": [
    {
     "name": "stderr",
     "output_type": "stream",
     "text": [
      "/opt/conda/lib/python3.10/site-packages/torchvision/models/_utils.py:208: UserWarning: The parameter 'pretrained' is deprecated since 0.13 and may be removed in the future, please use 'weights' instead.\n",
      "  warnings.warn(\n",
      "/opt/conda/lib/python3.10/site-packages/torchvision/models/_utils.py:223: UserWarning: Arguments other than a weight enum or `None` for 'weights' are deprecated since 0.13 and may be removed in the future. The current behavior is equivalent to passing `weights=ResNet18_Weights.IMAGENET1K_V1`. You can also use `weights=ResNet18_Weights.DEFAULT` to get the most up-to-date weights.\n",
      "  warnings.warn(msg)\n",
      "Downloading: \"https://download.pytorch.org/models/resnet18-f37072fd.pth\" to /root/.cache/torch/hub/checkpoints/resnet18-f37072fd.pth\n",
      "100%|██████████| 44.7M/44.7M [00:00<00:00, 115MB/s]\n"
     ]
    },
    {
     "name": "stdout",
     "output_type": "stream",
     "text": [
      "encoded 1000 rows of snakes  in 0:01:11.195939\n",
      "encoded 1000 rows of dogs  in 0:01:13.847144\n",
      "encoded 1000 rows of cats  in 0:01:12.973576\n",
      "done in 0:03:39.259356\n"
     ]
    }
   ],
   "source": [
    "import base64\n",
    "import pandas as pd\n",
    "from arrow import now\n",
    "from glob import glob\n",
    "from img2vec_pytorch import Img2Vec\n",
    "from io import BytesIO\n",
    "from os.path import basename\n",
    "from PIL import Image\n",
    "\n",
    "DATA = '/kaggle/input/animal-image-classification-dataset/Animals'\n",
    "SIZE = 512\n",
    "STOP = 10000\n",
    "THUMBNAIL_SIZE = (128, 128)\n",
    "\n",
    "\n",
    "def embed(model, filename: str):\n",
    "    with Image.open(fp=filename, mode='r') as image:\n",
    "        return model.get_vec(image.convert('RGB'), tensor=True).numpy().reshape(SIZE,)\n",
    "\n",
    "\n",
    "# https://stackoverflow.com/a/952952\n",
    "def flatten(arg):\n",
    "    return [x for xs in arg for x in xs]\n",
    "\n",
    "def png(filename: str) -> str:\n",
    "    with Image.open(fp=filename, mode='r') as image:\n",
    "        buffer = BytesIO()\n",
    "        # our images are pretty big; let's shrink the hover images to thumbnail size\n",
    "        image.resize(size=THUMBNAIL_SIZE).save(buffer, format='png')\n",
    "        return 'data:image/png;base64,' + base64.b64encode(buffer.getvalue()).decode()\n",
    "\n",
    "def get_picture_from_glob(arg: str, tag: str, stop: int) -> list:\n",
    "    time_get = now()\n",
    "    result = [pd.Series(data=[tag, basename(input_file), embed(model=model, filename=input_file), png(filename=input_file), ],\n",
    "                        index=['tag', 'name', 'value', 'image'])\n",
    "        for index, input_file in enumerate(glob(pathname=arg)) if index < stop]\n",
    "    print('encoded {} rows of {}  in {}'.format(len(result), tag, now() - time_get))\n",
    "    return result\n",
    "\n",
    "time_start = now()\n",
    "model = Img2Vec(cuda=False, model='resnet-18')\n",
    "data_dict = {basename(folder) : folder + '/*.*' for folder in glob(DATA + '/*')}\n",
    "df = pd.DataFrame(data=flatten(arg=[get_picture_from_glob(arg=value, tag=key, stop=STOP) for key, value in data_dict.items()]))\n",
    "print('done in {}'.format(now() - time_start))"
   ]
  },
  {
   "cell_type": "markdown",
   "id": "2a44e524",
   "metadata": {
    "papermill": {
     "duration": 0.003581,
     "end_time": "2024-07-13T00:46:10.386601",
     "exception": false,
     "start_time": "2024-07-13T00:46:10.383020",
     "status": "completed"
    },
    "tags": []
   },
   "source": []
  }
 ],
 "metadata": {
  "kaggle": {
   "accelerator": "none",
   "dataSources": [
    {
     "datasetId": 5353029,
     "sourceId": 8903857,
     "sourceType": "datasetVersion"
    }
   ],
   "dockerImageVersionId": 30746,
   "isGpuEnabled": false,
   "isInternetEnabled": true,
   "language": "python",
   "sourceType": "notebook"
  },
  "kernelspec": {
   "display_name": "Python 3",
   "language": "python",
   "name": "python3"
  },
  "language_info": {
   "codemirror_mode": {
    "name": "ipython",
    "version": 3
   },
   "file_extension": ".py",
   "mimetype": "text/x-python",
   "name": "python",
   "nbconvert_exporter": "python",
   "pygments_lexer": "ipython3",
   "version": "3.10.13"
  },
  "papermill": {
   "default_parameters": {},
   "duration": 249.613319,
   "end_time": "2024-07-13T00:46:11.718232",
   "environment_variables": {},
   "exception": null,
   "input_path": "__notebook__.ipynb",
   "output_path": "__notebook__.ipynb",
   "parameters": {},
   "start_time": "2024-07-13T00:42:02.104913",
   "version": "2.5.0"
  }
 },
 "nbformat": 4,
 "nbformat_minor": 5
}
