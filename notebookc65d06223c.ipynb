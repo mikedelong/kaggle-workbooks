{
 "cells": [
  {
   "cell_type": "markdown",
   "id": "35ce79b4",
   "metadata": {
    "papermill": {
     "duration": 0.002583,
     "end_time": "2024-12-09T22:08:31.064113",
     "exception": false,
     "start_time": "2024-12-09T22:08:31.061530",
     "status": "completed"
    },
    "tags": []
   },
   "source": [
    "Let's load up our data and do a little feature engineering."
   ]
  },
  {
   "cell_type": "code",
   "execution_count": 1,
   "id": "03ec9734",
   "metadata": {
    "_cell_guid": "b1076dfc-b9ad-4769-8c92-a6c4dae69d19",
    "_uuid": "8f2839f25d086af736a60e9eeb907d3b93b6e0e5",
    "execution": {
     "iopub.execute_input": "2024-12-09T22:08:31.070515Z",
     "iopub.status.busy": "2024-12-09T22:08:31.070117Z",
     "iopub.status.idle": "2024-12-09T22:08:32.084969Z",
     "shell.execute_reply": "2024-12-09T22:08:32.083798Z"
    },
    "papermill": {
     "duration": 1.020638,
     "end_time": "2024-12-09T22:08:32.087229",
     "exception": false,
     "start_time": "2024-12-09T22:08:31.066591",
     "status": "completed"
    },
    "tags": []
   },
   "outputs": [
    {
     "data": {
      "text/html": [
       "<div>\n",
       "<style scoped>\n",
       "    .dataframe tbody tr th:only-of-type {\n",
       "        vertical-align: middle;\n",
       "    }\n",
       "\n",
       "    .dataframe tbody tr th {\n",
       "        vertical-align: top;\n",
       "    }\n",
       "\n",
       "    .dataframe thead th {\n",
       "        text-align: right;\n",
       "    }\n",
       "</style>\n",
       "<table border=\"1\" class=\"dataframe\">\n",
       "  <thead>\n",
       "    <tr style=\"text-align: right;\">\n",
       "      <th></th>\n",
       "      <th>Date</th>\n",
       "      <th>Adj Close</th>\n",
       "      <th>Close</th>\n",
       "      <th>High</th>\n",
       "      <th>Low</th>\n",
       "      <th>Open</th>\n",
       "      <th>Volume</th>\n",
       "      <th>date</th>\n",
       "      <th>year</th>\n",
       "    </tr>\n",
       "  </thead>\n",
       "  <tbody>\n",
       "    <tr>\n",
       "      <th>0</th>\n",
       "      <td>29-06-2010</td>\n",
       "      <td>1.592667</td>\n",
       "      <td>1.592667</td>\n",
       "      <td>1.666667</td>\n",
       "      <td>1.169333</td>\n",
       "      <td>1.266667</td>\n",
       "      <td>281494500</td>\n",
       "      <td>2010-06-29</td>\n",
       "      <td>2010</td>\n",
       "    </tr>\n",
       "    <tr>\n",
       "      <th>1</th>\n",
       "      <td>30-06-2010</td>\n",
       "      <td>1.588667</td>\n",
       "      <td>1.588667</td>\n",
       "      <td>2.028000</td>\n",
       "      <td>1.553333</td>\n",
       "      <td>1.719333</td>\n",
       "      <td>257806500</td>\n",
       "      <td>2010-06-30</td>\n",
       "      <td>2010</td>\n",
       "    </tr>\n",
       "    <tr>\n",
       "      <th>2</th>\n",
       "      <td>01-07-2010</td>\n",
       "      <td>1.464000</td>\n",
       "      <td>1.464000</td>\n",
       "      <td>1.728000</td>\n",
       "      <td>1.351333</td>\n",
       "      <td>1.666667</td>\n",
       "      <td>123282000</td>\n",
       "      <td>2010-07-01</td>\n",
       "      <td>2010</td>\n",
       "    </tr>\n",
       "    <tr>\n",
       "      <th>3</th>\n",
       "      <td>02-07-2010</td>\n",
       "      <td>1.280000</td>\n",
       "      <td>1.280000</td>\n",
       "      <td>1.540000</td>\n",
       "      <td>1.247333</td>\n",
       "      <td>1.533333</td>\n",
       "      <td>77097000</td>\n",
       "      <td>2010-07-02</td>\n",
       "      <td>2010</td>\n",
       "    </tr>\n",
       "    <tr>\n",
       "      <th>4</th>\n",
       "      <td>06-07-2010</td>\n",
       "      <td>1.074000</td>\n",
       "      <td>1.074000</td>\n",
       "      <td>1.333333</td>\n",
       "      <td>1.055333</td>\n",
       "      <td>1.333333</td>\n",
       "      <td>103003500</td>\n",
       "      <td>2010-07-06</td>\n",
       "      <td>2010</td>\n",
       "    </tr>\n",
       "  </tbody>\n",
       "</table>\n",
       "</div>"
      ],
      "text/plain": [
       "         Date  Adj Close     Close      High       Low      Open     Volume  \\\n",
       "0  29-06-2010   1.592667  1.592667  1.666667  1.169333  1.266667  281494500   \n",
       "1  30-06-2010   1.588667  1.588667  2.028000  1.553333  1.719333  257806500   \n",
       "2  01-07-2010   1.464000  1.464000  1.728000  1.351333  1.666667  123282000   \n",
       "3  02-07-2010   1.280000  1.280000  1.540000  1.247333  1.533333   77097000   \n",
       "4  06-07-2010   1.074000  1.074000  1.333333  1.055333  1.333333  103003500   \n",
       "\n",
       "        date  year  \n",
       "0 2010-06-29  2010  \n",
       "1 2010-06-30  2010  \n",
       "2 2010-07-01  2010  \n",
       "3 2010-07-02  2010  \n",
       "4 2010-07-06  2010  "
      ]
     },
     "execution_count": 1,
     "metadata": {},
     "output_type": "execute_result"
    }
   ],
   "source": [
    "import pandas as pd\n",
    "\n",
    "TSLA = '/kaggle/input/tesla-stock-price/Tesla_stock_price.csv'\n",
    "df = pd.read_csv(filepath_or_buffer=TSLA, parse_dates=['Date'], date_format='dd-mm-yyyy')\n",
    "df['date'] = pd.to_datetime(df['Date'], dayfirst=True)\n",
    "df['year'] = df['date'].dt.year\n",
    "df.head()"
   ]
  },
  {
   "cell_type": "markdown",
   "id": "70dbc3d0",
   "metadata": {
    "papermill": {
     "duration": 0.00208,
     "end_time": "2024-12-09T22:08:32.092090",
     "exception": false,
     "start_time": "2024-12-09T22:08:32.090010",
     "status": "completed"
    },
    "tags": []
   },
   "source": [
    "Next let's look at the price correlations to see if any of the price series we have are redundant."
   ]
  },
  {
   "cell_type": "code",
   "execution_count": 2,
   "id": "c802dd03",
   "metadata": {
    "execution": {
     "iopub.execute_input": "2024-12-09T22:08:32.099088Z",
     "iopub.status.busy": "2024-12-09T22:08:32.098698Z",
     "iopub.status.idle": "2024-12-09T22:08:32.120080Z",
     "shell.execute_reply": "2024-12-09T22:08:32.118815Z"
    },
    "papermill": {
     "duration": 0.027947,
     "end_time": "2024-12-09T22:08:32.122674",
     "exception": false,
     "start_time": "2024-12-09T22:08:32.094727",
     "status": "completed"
    },
    "tags": []
   },
   "outputs": [
    {
     "data": {
      "text/html": [
       "<div>\n",
       "<style scoped>\n",
       "    .dataframe tbody tr th:only-of-type {\n",
       "        vertical-align: middle;\n",
       "    }\n",
       "\n",
       "    .dataframe tbody tr th {\n",
       "        vertical-align: top;\n",
       "    }\n",
       "\n",
       "    .dataframe thead th {\n",
       "        text-align: right;\n",
       "    }\n",
       "</style>\n",
       "<table border=\"1\" class=\"dataframe\">\n",
       "  <thead>\n",
       "    <tr style=\"text-align: right;\">\n",
       "      <th></th>\n",
       "      <th>Adj Close</th>\n",
       "      <th>Close</th>\n",
       "      <th>High</th>\n",
       "      <th>Low</th>\n",
       "      <th>Open</th>\n",
       "      <th>Volume</th>\n",
       "    </tr>\n",
       "  </thead>\n",
       "  <tbody>\n",
       "    <tr>\n",
       "      <th>Adj Close</th>\n",
       "      <td>1.000000</td>\n",
       "      <td>1.000000</td>\n",
       "      <td>0.999650</td>\n",
       "      <td>0.999689</td>\n",
       "      <td>0.999214</td>\n",
       "      <td>0.097115</td>\n",
       "    </tr>\n",
       "    <tr>\n",
       "      <th>Close</th>\n",
       "      <td>1.000000</td>\n",
       "      <td>1.000000</td>\n",
       "      <td>0.999650</td>\n",
       "      <td>0.999689</td>\n",
       "      <td>0.999214</td>\n",
       "      <td>0.097115</td>\n",
       "    </tr>\n",
       "    <tr>\n",
       "      <th>High</th>\n",
       "      <td>0.999650</td>\n",
       "      <td>0.999650</td>\n",
       "      <td>1.000000</td>\n",
       "      <td>0.999635</td>\n",
       "      <td>0.999719</td>\n",
       "      <td>0.099798</td>\n",
       "    </tr>\n",
       "    <tr>\n",
       "      <th>Low</th>\n",
       "      <td>0.999689</td>\n",
       "      <td>0.999689</td>\n",
       "      <td>0.999635</td>\n",
       "      <td>1.000000</td>\n",
       "      <td>0.999630</td>\n",
       "      <td>0.092812</td>\n",
       "    </tr>\n",
       "    <tr>\n",
       "      <th>Open</th>\n",
       "      <td>0.999214</td>\n",
       "      <td>0.999214</td>\n",
       "      <td>0.999719</td>\n",
       "      <td>0.999630</td>\n",
       "      <td>1.000000</td>\n",
       "      <td>0.096042</td>\n",
       "    </tr>\n",
       "    <tr>\n",
       "      <th>Volume</th>\n",
       "      <td>0.097115</td>\n",
       "      <td>0.097115</td>\n",
       "      <td>0.099798</td>\n",
       "      <td>0.092812</td>\n",
       "      <td>0.096042</td>\n",
       "      <td>1.000000</td>\n",
       "    </tr>\n",
       "  </tbody>\n",
       "</table>\n",
       "</div>"
      ],
      "text/plain": [
       "           Adj Close     Close      High       Low      Open    Volume\n",
       "Adj Close   1.000000  1.000000  0.999650  0.999689  0.999214  0.097115\n",
       "Close       1.000000  1.000000  0.999650  0.999689  0.999214  0.097115\n",
       "High        0.999650  0.999650  1.000000  0.999635  0.999719  0.099798\n",
       "Low         0.999689  0.999689  0.999635  1.000000  0.999630  0.092812\n",
       "Open        0.999214  0.999214  0.999719  0.999630  1.000000  0.096042\n",
       "Volume      0.097115  0.097115  0.099798  0.092812  0.096042  1.000000"
      ]
     },
     "execution_count": 2,
     "metadata": {},
     "output_type": "execute_result"
    }
   ],
   "source": [
    "df[['Adj Close', 'Close', 'High', 'Low', 'Open', 'Volume']].corr()"
   ]
  },
  {
   "cell_type": "markdown",
   "id": "7f19a5ce",
   "metadata": {
    "papermill": {
     "duration": 0.002292,
     "end_time": "2024-12-09T22:08:32.127641",
     "exception": false,
     "start_time": "2024-12-09T22:08:32.125349",
     "status": "completed"
    },
    "tags": []
   },
   "source": [
    "What do we see? We see two things:\n",
    "1. The closing price and the adjusted closing price are perfectly correlated; this means there are no adjustments, and one of them is redundant.\n",
    "2. The prices and volume are weakly positively correlated."
   ]
  },
  {
   "cell_type": "code",
   "execution_count": 3,
   "id": "06eb7d3e",
   "metadata": {
    "execution": {
     "iopub.execute_input": "2024-12-09T22:08:32.134364Z",
     "iopub.status.busy": "2024-12-09T22:08:32.133936Z",
     "iopub.status.idle": "2024-12-09T22:08:32.164199Z",
     "shell.execute_reply": "2024-12-09T22:08:32.161947Z"
    },
    "papermill": {
     "duration": 0.037145,
     "end_time": "2024-12-09T22:08:32.167259",
     "exception": false,
     "start_time": "2024-12-09T22:08:32.130114",
     "status": "completed"
    },
    "tags": []
   },
   "outputs": [
    {
     "name": "stdout",
     "output_type": "stream",
     "text": [
      "<class 'pandas.core.frame.DataFrame'>\n",
      "RangeIndex: 3634 entries, 0 to 3633\n",
      "Data columns (total 9 columns):\n",
      " #   Column     Non-Null Count  Dtype         \n",
      "---  ------     --------------  -----         \n",
      " 0   Date       3634 non-null   object        \n",
      " 1   Adj Close  3634 non-null   float64       \n",
      " 2   Close      3634 non-null   float64       \n",
      " 3   High       3634 non-null   float64       \n",
      " 4   Low        3634 non-null   float64       \n",
      " 5   Open       3634 non-null   float64       \n",
      " 6   Volume     3634 non-null   int64         \n",
      " 7   date       3634 non-null   datetime64[ns]\n",
      " 8   year       3634 non-null   int32         \n",
      "dtypes: datetime64[ns](1), float64(5), int32(1), int64(1), object(1)\n",
      "memory usage: 241.4+ KB\n"
     ]
    }
   ],
   "source": [
    "df.info()"
   ]
  }
 ],
 "metadata": {
  "kaggle": {
   "accelerator": "none",
   "dataSources": [
    {
     "datasetId": 6241561,
     "sourceId": 10116182,
     "sourceType": "datasetVersion"
    }
   ],
   "dockerImageVersionId": 30804,
   "isGpuEnabled": false,
   "isInternetEnabled": true,
   "language": "python",
   "sourceType": "notebook"
  },
  "kernelspec": {
   "display_name": "Python 3",
   "language": "python",
   "name": "python3"
  },
  "language_info": {
   "codemirror_mode": {
    "name": "ipython",
    "version": 3
   },
   "file_extension": ".py",
   "mimetype": "text/x-python",
   "name": "python",
   "nbconvert_exporter": "python",
   "pygments_lexer": "ipython3",
   "version": "3.10.14"
  },
  "papermill": {
   "default_parameters": {},
   "duration": 4.395289,
   "end_time": "2024-12-09T22:08:32.692679",
   "environment_variables": {},
   "exception": null,
   "input_path": "__notebook__.ipynb",
   "output_path": "__notebook__.ipynb",
   "parameters": {},
   "start_time": "2024-12-09T22:08:28.297390",
   "version": "2.6.0"
  }
 },
 "nbformat": 4,
 "nbformat_minor": 5
}
