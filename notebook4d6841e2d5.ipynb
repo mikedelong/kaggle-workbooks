{
 "cells": [
  {
   "cell_type": "code",
   "execution_count": 1,
   "id": "ee487fc3",
   "metadata": {
    "_cell_guid": "b1076dfc-b9ad-4769-8c92-a6c4dae69d19",
    "_uuid": "8f2839f25d086af736a60e9eeb907d3b93b6e0e5",
    "execution": {
     "iopub.execute_input": "2024-03-17T16:15:14.501547Z",
     "iopub.status.busy": "2024-03-17T16:15:14.500947Z",
     "iopub.status.idle": "2024-03-17T16:15:34.281839Z",
     "shell.execute_reply": "2024-03-17T16:15:34.279538Z"
    },
    "papermill": {
     "duration": 19.790103,
     "end_time": "2024-03-17T16:15:34.285093",
     "exception": false,
     "start_time": "2024-03-17T16:15:14.494990",
     "status": "completed"
    },
    "tags": []
   },
   "outputs": [
    {
     "name": "stdout",
     "output_type": "stream",
     "text": [
      "pip install img2vec complete\n"
     ]
    }
   ],
   "source": [
    "!pip install --quiet img2vec_pytorch\n",
    "print('pip install img2vec complete')"
   ]
  },
  {
   "cell_type": "code",
   "execution_count": 2,
   "id": "616f554e",
   "metadata": {
    "execution": {
     "iopub.execute_input": "2024-03-17T16:15:34.295945Z",
     "iopub.status.busy": "2024-03-17T16:15:34.294408Z",
     "iopub.status.idle": "2024-03-17T16:16:46.473935Z",
     "shell.execute_reply": "2024-03-17T16:16:46.472531Z"
    },
    "papermill": {
     "duration": 72.18876,
     "end_time": "2024-03-17T16:16:46.477364",
     "exception": false,
     "start_time": "2024-03-17T16:15:34.288604",
     "status": "completed"
    },
    "tags": []
   },
   "outputs": [
    {
     "name": "stderr",
     "output_type": "stream",
     "text": [
      "/opt/conda/lib/python3.10/site-packages/torchvision/models/_utils.py:208: UserWarning: The parameter 'pretrained' is deprecated since 0.13 and may be removed in the future, please use 'weights' instead.\n",
      "  warnings.warn(\n",
      "/opt/conda/lib/python3.10/site-packages/torchvision/models/_utils.py:223: UserWarning: Arguments other than a weight enum or `None` for 'weights' are deprecated since 0.13 and may be removed in the future. The current behavior is equivalent to passing `weights=ResNet18_Weights.IMAGENET1K_V1`. You can also use `weights=ResNet18_Weights.DEFAULT` to get the most up-to-date weights.\n",
      "  warnings.warn(msg)\n",
      "Downloading: \"https://download.pytorch.org/models/resnet18-f37072fd.pth\" to /root/.cache/torch/hub/checkpoints/resnet18-f37072fd.pth\n",
      "100%|██████████| 44.7M/44.7M [00:00<00:00, 93.7MB/s]\n"
     ]
    },
    {
     "name": "stdout",
     "output_type": "stream",
     "text": [
      "encoded 645 rows in 0:00:58.245227\n",
      "done in 0:01:02.079397\n"
     ]
    }
   ],
   "source": [
    "import base64\n",
    "import pandas as pd\n",
    "import os\n",
    "import csv\n",
    "\n",
    "from arrow import now\n",
    "from glob import glob\n",
    "from img2vec_pytorch import Img2Vec\n",
    "from io import BytesIO\n",
    "from PIL import Image\n",
    "\n",
    "# we're going to use the updated dataset\n",
    "GLOB = '/kaggle/input/tomato-leaf-diseases-detection-computer-vision/'\n",
    "SIZE = 512\n",
    "STOP = 100000\n",
    "\n",
    "def embed(model, filename: str):\n",
    "    with Image.open(fp=filename, mode='r') as image:\n",
    "        return model.get_vec(image, tensor=True).numpy().reshape(SIZE,)\n",
    "\n",
    "\n",
    "# https://stackoverflow.com/a/952952\n",
    "def flatten(arg):\n",
    "    return [x for xs in arg for x in xs]\n",
    "\n",
    "def png(filename: str) -> str:\n",
    "    with Image.open(fp=filename, mode='r') as image:\n",
    "        buffer = BytesIO()\n",
    "        # we need to scale the images down to fit them all into the scatter plot with hover images\n",
    "        # we have 100Mb of space and we can either shrink the images or sample the points\n",
    "        size = (128, 128)\n",
    "        image.resize(size=size).save(buffer, format='png')\n",
    "        return 'data:image/png;base64,' + base64.b64encode(buffer.getvalue()).decode()\n",
    "\n",
    "def get_picture_from_glob(arg: str, stop: int) -> list:\n",
    "    time_get = now()\n",
    "    result = [pd.Series(data=[os.path.basename(input_file), embed(model=model, filename=input_file), png(filename=input_file), ],\n",
    "                        index=['name', 'value', 'image'])\n",
    "        for index, input_file in enumerate(glob(pathname=arg)) if index < stop]\n",
    "    print('encoded {} rows in {}'.format(len(result), now() - time_get))\n",
    "    return result\n",
    "\n",
    "def get_labels(arg: str) -> pd.DataFrame:\n",
    "    labels = []\n",
    "    for index, input_file in enumerate(glob(arg)):\n",
    "        with open(file=input_file, mode='r') as input_fp:\n",
    "            reader = csv.reader(input_fp, delimiter=' ')\n",
    "            for row in reader:\n",
    "                label = row[0]\n",
    "        labels.append(pd.Series(data=[os.path.basename(input_file).replace('.txt', '.jpg'), label], index=['name', 'label']))\n",
    "    return pd.DataFrame(data=labels)\n",
    "\n",
    "    \n",
    "time_start = now()\n",
    "model = Img2Vec(cuda=False, model='resnet-18')\n",
    "train_df = pd.DataFrame(data=get_picture_from_glob(arg=GLOB + 'train/images/*.jpg', stop=STOP)).merge(\n",
    "    right=get_labels(arg=GLOB + 'train/labels/*.txt'), on='name', how='inner')\n",
    "\n",
    "train_df.head()\n",
    "print('done in {}'.format(now() - time_start))"
   ]
  },
  {
   "cell_type": "code",
   "execution_count": 3,
   "id": "f1ae3140",
   "metadata": {
    "execution": {
     "iopub.execute_input": "2024-03-17T16:16:46.489690Z",
     "iopub.status.busy": "2024-03-17T16:16:46.488388Z",
     "iopub.status.idle": "2024-03-17T16:16:54.898290Z",
     "shell.execute_reply": "2024-03-17T16:16:54.896749Z"
    },
    "papermill": {
     "duration": 8.419855,
     "end_time": "2024-03-17T16:16:54.901842",
     "exception": false,
     "start_time": "2024-03-17T16:16:46.481987",
     "status": "completed"
    },
    "tags": []
   },
   "outputs": [
    {
     "name": "stdout",
     "output_type": "stream",
     "text": [
      "encoded 61 rows in 0:00:05.339045\n",
      "encoded 31 rows in 0:00:02.708057\n"
     ]
    }
   ],
   "source": [
    "# now get the validation data and the test data\n",
    "valid_df = pd.DataFrame(data=get_picture_from_glob(arg=GLOB + 'valid/images/*.jpg', stop=STOP)).merge(right=get_labels(arg=GLOB + 'valid/labels/*.txt'), on='name', how='inner')\n",
    "test_df = pd.DataFrame(data=get_picture_from_glob(arg=GLOB + 'test/images/*.jpg', stop=STOP)).merge(right=get_labels(arg=GLOB + 'test/labels/*.txt'), on='name', how='inner')\n"
   ]
  }
 ],
 "metadata": {
  "kaggle": {
   "accelerator": "none",
   "dataSources": [
    {
     "datasetId": 4613749,
     "sourceId": 7864514,
     "sourceType": "datasetVersion"
    }
   ],
   "dockerImageVersionId": 30664,
   "isGpuEnabled": false,
   "isInternetEnabled": true,
   "language": "python",
   "sourceType": "notebook"
  },
  "kernelspec": {
   "display_name": "Python 3",
   "language": "python",
   "name": "python3"
  },
  "language_info": {
   "codemirror_mode": {
    "name": "ipython",
    "version": 3
   },
   "file_extension": ".py",
   "mimetype": "text/x-python",
   "name": "python",
   "nbconvert_exporter": "python",
   "pygments_lexer": "ipython3",
   "version": "3.10.13"
  },
  "papermill": {
   "default_parameters": {},
   "duration": 106.107918,
   "end_time": "2024-03-17T16:16:56.738929",
   "environment_variables": {},
   "exception": null,
   "input_path": "__notebook__.ipynb",
   "output_path": "__notebook__.ipynb",
   "parameters": {},
   "start_time": "2024-03-17T16:15:10.631011",
   "version": "2.5.0"
  }
 },
 "nbformat": 4,
 "nbformat_minor": 5
}
