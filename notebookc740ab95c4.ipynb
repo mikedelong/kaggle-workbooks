{
 "cells": [
  {
   "cell_type": "code",
   "execution_count": 1,
   "id": "31fcfe64",
   "metadata": {
    "_cell_guid": "b1076dfc-b9ad-4769-8c92-a6c4dae69d19",
    "_uuid": "8f2839f25d086af736a60e9eeb907d3b93b6e0e5",
    "execution": {
     "iopub.execute_input": "2025-01-16T20:25:57.823918Z",
     "iopub.status.busy": "2025-01-16T20:25:57.823363Z",
     "iopub.status.idle": "2025-01-16T20:25:58.794016Z",
     "shell.execute_reply": "2025-01-16T20:25:58.792839Z"
    },
    "papermill": {
     "duration": 0.976897,
     "end_time": "2025-01-16T20:25:58.795818",
     "exception": false,
     "start_time": "2025-01-16T20:25:57.818921",
     "status": "completed"
    },
    "tags": []
   },
   "outputs": [
    {
     "data": {
      "text/html": [
       "<div>\n",
       "<style scoped>\n",
       "    .dataframe tbody tr th:only-of-type {\n",
       "        vertical-align: middle;\n",
       "    }\n",
       "\n",
       "    .dataframe tbody tr th {\n",
       "        vertical-align: top;\n",
       "    }\n",
       "\n",
       "    .dataframe thead th {\n",
       "        text-align: right;\n",
       "    }\n",
       "</style>\n",
       "<table border=\"1\" class=\"dataframe\">\n",
       "  <thead>\n",
       "    <tr style=\"text-align: right;\">\n",
       "      <th></th>\n",
       "      <th>name</th>\n",
       "      <th>publisher</th>\n",
       "      <th>description</th>\n",
       "      <th>total_episodes</th>\n",
       "      <th>languages</th>\n",
       "      <th>media_type</th>\n",
       "      <th>explicit</th>\n",
       "    </tr>\n",
       "  </thead>\n",
       "  <tbody>\n",
       "    <tr>\n",
       "      <th>0</th>\n",
       "      <td>[MHA Podfic] Sharper Than a Serpent's Tooth</td>\n",
       "      <td>PurpleStar</td>\n",
       "      <td>This is a My Hero Academia podfic (fanfic audi...</td>\n",
       "      <td>10</td>\n",
       "      <td>['en']</td>\n",
       "      <td>audio</td>\n",
       "      <td>True</td>\n",
       "    </tr>\n",
       "    <tr>\n",
       "      <th>1</th>\n",
       "      <td>#Unfollow: Breaking Social Media Addictions</td>\n",
       "      <td>Unfollow</td>\n",
       "      <td>#Unfollow is a podcast featuring informative t...</td>\n",
       "      <td>22</td>\n",
       "      <td>['en']</td>\n",
       "      <td>mixed</td>\n",
       "      <td>False</td>\n",
       "    </tr>\n",
       "    <tr>\n",
       "      <th>2</th>\n",
       "      <td>Actively Autistic</td>\n",
       "      <td>Actively Autistic</td>\n",
       "      <td>The community that was created on Facebook and...</td>\n",
       "      <td>75</td>\n",
       "      <td>['en']</td>\n",
       "      <td>audio</td>\n",
       "      <td>True</td>\n",
       "    </tr>\n",
       "    <tr>\n",
       "      <th>3</th>\n",
       "      <td>ADHD Awareness: Understanding Girls &amp; Women wi...</td>\n",
       "      <td>ADHD Awareness Month</td>\n",
       "      <td>Our podcast features Ellen B. Littman, a clini...</td>\n",
       "      <td>2</td>\n",
       "      <td>['en-US']</td>\n",
       "      <td>audio</td>\n",
       "      <td>False</td>\n",
       "    </tr>\n",
       "    <tr>\n",
       "      <th>4</th>\n",
       "      <td>ADHD Book Club</td>\n",
       "      <td>Distracted Dialogues</td>\n",
       "      <td>ADHD Book Club is a podcast that celebrates re...</td>\n",
       "      <td>75</td>\n",
       "      <td>['en']</td>\n",
       "      <td>audio</td>\n",
       "      <td>True</td>\n",
       "    </tr>\n",
       "  </tbody>\n",
       "</table>\n",
       "</div>"
      ],
      "text/plain": [
       "                                                name             publisher  \\\n",
       "0        [MHA Podfic] Sharper Than a Serpent's Tooth            PurpleStar   \n",
       "1        #Unfollow: Breaking Social Media Addictions              Unfollow   \n",
       "2                                  Actively Autistic     Actively Autistic   \n",
       "3  ADHD Awareness: Understanding Girls & Women wi...  ADHD Awareness Month   \n",
       "4                                     ADHD Book Club  Distracted Dialogues   \n",
       "\n",
       "                                         description  total_episodes  \\\n",
       "0  This is a My Hero Academia podfic (fanfic audi...              10   \n",
       "1  #Unfollow is a podcast featuring informative t...              22   \n",
       "2  The community that was created on Facebook and...              75   \n",
       "3  Our podcast features Ellen B. Littman, a clini...               2   \n",
       "4  ADHD Book Club is a podcast that celebrates re...              75   \n",
       "\n",
       "   languages media_type  explicit  \n",
       "0     ['en']      audio      True  \n",
       "1     ['en']      mixed     False  \n",
       "2     ['en']      audio      True  \n",
       "3  ['en-US']      audio     False  \n",
       "4     ['en']      audio      True  "
      ]
     },
     "execution_count": 1,
     "metadata": {},
     "output_type": "execute_result"
    }
   ],
   "source": [
    "import pandas as pd\n",
    "\n",
    "DATA = '/kaggle/input/spotify-podcasts-mental-disorders/podcasts.csv'\n",
    "df = pd.read_csv(filepath_or_buffer=DATA).drop(columns=['id'])\n",
    "df.head()"
   ]
  },
  {
   "cell_type": "code",
   "execution_count": 2,
   "id": "09b10467",
   "metadata": {
    "execution": {
     "iopub.execute_input": "2025-01-16T20:25:58.803153Z",
     "iopub.status.busy": "2025-01-16T20:25:58.802812Z",
     "iopub.status.idle": "2025-01-16T20:25:58.808464Z",
     "shell.execute_reply": "2025-01-16T20:25:58.807466Z"
    },
    "papermill": {
     "duration": 0.011105,
     "end_time": "2025-01-16T20:25:58.810168",
     "exception": false,
     "start_time": "2025-01-16T20:25:58.799063",
     "status": "completed"
    },
    "tags": []
   },
   "outputs": [
    {
     "data": {
      "text/plain": [
       "(193, 7)"
      ]
     },
     "execution_count": 2,
     "metadata": {},
     "output_type": "execute_result"
    }
   ],
   "source": [
    "df.shape"
   ]
  },
  {
   "cell_type": "markdown",
   "id": "b873d3bf",
   "metadata": {
    "papermill": {
     "duration": 0.00256,
     "end_time": "2025-01-16T20:25:58.815670",
     "exception": false,
     "start_time": "2025-01-16T20:25:58.813110",
     "status": "completed"
    },
    "tags": []
   },
   "source": [
    "Do we have any publishers that produce multiple podcasts?"
   ]
  },
  {
   "cell_type": "code",
   "execution_count": 3,
   "id": "b5c71387",
   "metadata": {
    "execution": {
     "iopub.execute_input": "2025-01-16T20:25:58.824006Z",
     "iopub.status.busy": "2025-01-16T20:25:58.823602Z",
     "iopub.status.idle": "2025-01-16T20:25:58.835911Z",
     "shell.execute_reply": "2025-01-16T20:25:58.834945Z"
    },
    "papermill": {
     "duration": 0.017663,
     "end_time": "2025-01-16T20:25:58.837475",
     "exception": false,
     "start_time": "2025-01-16T20:25:58.819812",
     "status": "completed"
    },
    "tags": []
   },
   "outputs": [
    {
     "data": {
      "text/plain": [
       "publisher\n",
       "Princess of Suburbia®Network    2\n",
       "Carl Jung                       2\n",
       "Sergio Suárez Benítez           2\n",
       "Liron Cohen                     2\n",
       "PurpleStar                      1\n",
       "Name: count, dtype: int64"
      ]
     },
     "execution_count": 3,
     "metadata": {},
     "output_type": "execute_result"
    }
   ],
   "source": [
    "df['publisher'].value_counts().head(n=5)"
   ]
  },
  {
   "cell_type": "markdown",
   "id": "a07f43cf",
   "metadata": {
    "papermill": {
     "duration": 0.002666,
     "end_time": "2025-01-16T20:25:58.843241",
     "exception": false,
     "start_time": "2025-01-16T20:25:58.840575",
     "status": "completed"
    },
    "tags": []
   },
   "source": [
    "We have literally a handful."
   ]
  },
  {
   "cell_type": "markdown",
   "id": "9742447e",
   "metadata": {
    "papermill": {
     "duration": 0.002468,
     "end_time": "2025-01-16T20:25:58.848548",
     "exception": false,
     "start_time": "2025-01-16T20:25:58.846080",
     "status": "completed"
    },
    "tags": []
   },
   "source": [
    "How many episodes do podcasts in our dataset run?"
   ]
  },
  {
   "cell_type": "code",
   "execution_count": 4,
   "id": "5a64f2ec",
   "metadata": {
    "execution": {
     "iopub.execute_input": "2025-01-16T20:25:58.855557Z",
     "iopub.status.busy": "2025-01-16T20:25:58.855185Z",
     "iopub.status.idle": "2025-01-16T20:25:58.865292Z",
     "shell.execute_reply": "2025-01-16T20:25:58.864352Z"
    },
    "papermill": {
     "duration": 0.015484,
     "end_time": "2025-01-16T20:25:58.866818",
     "exception": false,
     "start_time": "2025-01-16T20:25:58.851334",
     "status": "completed"
    },
    "tags": []
   },
   "outputs": [
    {
     "data": {
      "text/plain": [
       "(79.29533678756476,\n",
       " 30.0,\n",
       " total_episodes\n",
       " 1    17\n",
       " Name: count, dtype: int64)"
      ]
     },
     "execution_count": 4,
     "metadata": {},
     "output_type": "execute_result"
    }
   ],
   "source": [
    "df['total_episodes'].mean(), df['total_episodes'].median(), df['total_episodes'].value_counts().head(n=1)"
   ]
  },
  {
   "cell_type": "markdown",
   "id": "b493d55a",
   "metadata": {
    "papermill": {
     "duration": 0.002843,
     "end_time": "2025-01-16T20:25:58.872738",
     "exception": false,
     "start_time": "2025-01-16T20:25:58.869895",
     "status": "completed"
    },
    "tags": []
   },
   "source": [
    "Interestingly there are several that ran exactly one episode, but there are lots that run only a few. Let's look at the whole distribution."
   ]
  },
  {
   "cell_type": "code",
   "execution_count": 5,
   "id": "5d937031",
   "metadata": {
    "execution": {
     "iopub.execute_input": "2025-01-16T20:25:58.879943Z",
     "iopub.status.busy": "2025-01-16T20:25:58.879603Z",
     "iopub.status.idle": "2025-01-16T20:26:01.215899Z",
     "shell.execute_reply": "2025-01-16T20:26:01.214797Z"
    },
    "papermill": {
     "duration": 2.342371,
     "end_time": "2025-01-16T20:26:01.218149",
     "exception": false,
     "start_time": "2025-01-16T20:25:58.875778",
     "status": "completed"
    },
    "tags": []
   },
   "outputs": [
    {
     "data": {
      "text/plain": [
       "<Axes: xlabel='total_episodes', ylabel='Count'>"
      ]
     },
     "execution_count": 5,
     "metadata": {},
     "output_type": "execute_result"
    },
    {
     "data": {
      "image/png": "[encoded data removed]",
      "text/plain": [
       "<Figure size 640x480 with 1 Axes>"
      ]
     },
     "metadata": {},
     "output_type": "display_data"
    }
   ],
   "source": [
    "from seaborn import histplot\n",
    "from warnings import filterwarnings\n",
    "\n",
    "filterwarnings(action='ignore', category=FutureWarning)\n",
    "histplot(data=df, x='total_episodes', bins=100, kde=True)\n"
   ]
  }
 ],
 "metadata": {
  "kaggle": {
   "accelerator": "none",
   "dataSources": [
    {
     "datasetId": 6245564,
     "sourceId": 10121611,
     "sourceType": "datasetVersion"
    }
   ],
   "dockerImageVersionId": 30839,
   "isGpuEnabled": false,
   "isInternetEnabled": true,
   "language": "python",
   "sourceType": "notebook"
  },
  "kernelspec": {
   "display_name": "Python 3",
   "language": "python",
   "name": "python3"
  },
  "language_info": {
   "codemirror_mode": {
    "name": "ipython",
    "version": 3
   },
   "file_extension": ".py",
   "mimetype": "text/x-python",
   "name": "python",
   "nbconvert_exporter": "python",
   "pygments_lexer": "ipython3",
   "version": "3.10.12"
  },
  "papermill": {
   "default_parameters": {},
   "duration": 7.493874,
   "end_time": "2025-01-16T20:26:01.942527",
   "environment_variables": {},
   "exception": null,
   "input_path": "__notebook__.ipynb",
   "output_path": "__notebook__.ipynb",
   "parameters": {},
   "start_time": "2025-01-16T20:25:54.448653",
   "version": "2.6.0"
  }
 },
 "nbformat": 4,
 "nbformat_minor": 5
}
