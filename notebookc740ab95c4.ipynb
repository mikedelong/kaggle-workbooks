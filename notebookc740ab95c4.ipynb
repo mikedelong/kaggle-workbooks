{
 "cells": [
  {
   "cell_type": "code",
   "execution_count": 1,
   "id": "bd8fe7ce",
   "metadata": {
    "_cell_guid": "b1076dfc-b9ad-4769-8c92-a6c4dae69d19",
    "_uuid": "8f2839f25d086af736a60e9eeb907d3b93b6e0e5",
    "execution": {
     "iopub.execute_input": "2025-01-16T20:32:58.987030Z",
     "iopub.status.busy": "2025-01-16T20:32:58.986503Z",
     "iopub.status.idle": "2025-01-16T20:33:00.533905Z",
     "shell.execute_reply": "2025-01-16T20:33:00.532709Z"
    },
    "papermill": {
     "duration": 1.554486,
     "end_time": "2025-01-16T20:33:00.535867",
     "exception": false,
     "start_time": "2025-01-16T20:32:58.981381",
     "status": "completed"
    },
    "tags": []
   },
   "outputs": [
    {
     "data": {
      "text/html": [
       "<div>\n",
       "<style scoped>\n",
       "    .dataframe tbody tr th:only-of-type {\n",
       "        vertical-align: middle;\n",
       "    }\n",
       "\n",
       "    .dataframe tbody tr th {\n",
       "        vertical-align: top;\n",
       "    }\n",
       "\n",
       "    .dataframe thead th {\n",
       "        text-align: right;\n",
       "    }\n",
       "</style>\n",
       "<table border=\"1\" class=\"dataframe\">\n",
       "  <thead>\n",
       "    <tr style=\"text-align: right;\">\n",
       "      <th></th>\n",
       "      <th>name</th>\n",
       "      <th>publisher</th>\n",
       "      <th>description</th>\n",
       "      <th>total_episodes</th>\n",
       "      <th>languages</th>\n",
       "      <th>media_type</th>\n",
       "      <th>explicit</th>\n",
       "    </tr>\n",
       "  </thead>\n",
       "  <tbody>\n",
       "    <tr>\n",
       "      <th>0</th>\n",
       "      <td>[MHA Podfic] Sharper Than a Serpent's Tooth</td>\n",
       "      <td>PurpleStar</td>\n",
       "      <td>This is a My Hero Academia podfic (fanfic audi...</td>\n",
       "      <td>10</td>\n",
       "      <td>['en']</td>\n",
       "      <td>audio</td>\n",
       "      <td>True</td>\n",
       "    </tr>\n",
       "    <tr>\n",
       "      <th>1</th>\n",
       "      <td>#Unfollow: Breaking Social Media Addictions</td>\n",
       "      <td>Unfollow</td>\n",
       "      <td>#Unfollow is a podcast featuring informative t...</td>\n",
       "      <td>22</td>\n",
       "      <td>['en']</td>\n",
       "      <td>mixed</td>\n",
       "      <td>False</td>\n",
       "    </tr>\n",
       "    <tr>\n",
       "      <th>2</th>\n",
       "      <td>Actively Autistic</td>\n",
       "      <td>Actively Autistic</td>\n",
       "      <td>The community that was created on Facebook and...</td>\n",
       "      <td>75</td>\n",
       "      <td>['en']</td>\n",
       "      <td>audio</td>\n",
       "      <td>True</td>\n",
       "    </tr>\n",
       "    <tr>\n",
       "      <th>3</th>\n",
       "      <td>ADHD Awareness: Understanding Girls &amp; Women wi...</td>\n",
       "      <td>ADHD Awareness Month</td>\n",
       "      <td>Our podcast features Ellen B. Littman, a clini...</td>\n",
       "      <td>2</td>\n",
       "      <td>['en-US']</td>\n",
       "      <td>audio</td>\n",
       "      <td>False</td>\n",
       "    </tr>\n",
       "    <tr>\n",
       "      <th>4</th>\n",
       "      <td>ADHD Book Club</td>\n",
       "      <td>Distracted Dialogues</td>\n",
       "      <td>ADHD Book Club is a podcast that celebrates re...</td>\n",
       "      <td>75</td>\n",
       "      <td>['en']</td>\n",
       "      <td>audio</td>\n",
       "      <td>True</td>\n",
       "    </tr>\n",
       "  </tbody>\n",
       "</table>\n",
       "</div>"
      ],
      "text/plain": [
       "                                                name             publisher  \\\n",
       "0        [MHA Podfic] Sharper Than a Serpent's Tooth            PurpleStar   \n",
       "1        #Unfollow: Breaking Social Media Addictions              Unfollow   \n",
       "2                                  Actively Autistic     Actively Autistic   \n",
       "3  ADHD Awareness: Understanding Girls & Women wi...  ADHD Awareness Month   \n",
       "4                                     ADHD Book Club  Distracted Dialogues   \n",
       "\n",
       "                                         description  total_episodes  \\\n",
       "0  This is a My Hero Academia podfic (fanfic audi...              10   \n",
       "1  #Unfollow is a podcast featuring informative t...              22   \n",
       "2  The community that was created on Facebook and...              75   \n",
       "3  Our podcast features Ellen B. Littman, a clini...               2   \n",
       "4  ADHD Book Club is a podcast that celebrates re...              75   \n",
       "\n",
       "   languages media_type  explicit  \n",
       "0     ['en']      audio      True  \n",
       "1     ['en']      mixed     False  \n",
       "2     ['en']      audio      True  \n",
       "3  ['en-US']      audio     False  \n",
       "4     ['en']      audio      True  "
      ]
     },
     "execution_count": 1,
     "metadata": {},
     "output_type": "execute_result"
    }
   ],
   "source": [
    "import pandas as pd\n",
    "\n",
    "DATA = '/kaggle/input/spotify-podcasts-mental-disorders/podcasts.csv'\n",
    "df = pd.read_csv(filepath_or_buffer=DATA).drop(columns=['id'])\n",
    "df.head()"
   ]
  },
  {
   "cell_type": "code",
   "execution_count": 2,
   "id": "c4fd5c30",
   "metadata": {
    "execution": {
     "iopub.execute_input": "2025-01-16T20:33:00.545301Z",
     "iopub.status.busy": "2025-01-16T20:33:00.544915Z",
     "iopub.status.idle": "2025-01-16T20:33:00.551817Z",
     "shell.execute_reply": "2025-01-16T20:33:00.550143Z"
    },
    "papermill": {
     "duration": 0.013931,
     "end_time": "2025-01-16T20:33:00.554072",
     "exception": false,
     "start_time": "2025-01-16T20:33:00.540141",
     "status": "completed"
    },
    "tags": []
   },
   "outputs": [
    {
     "data": {
      "text/plain": [
       "(193, 7)"
      ]
     },
     "execution_count": 2,
     "metadata": {},
     "output_type": "execute_result"
    }
   ],
   "source": [
    "df.shape"
   ]
  },
  {
   "cell_type": "markdown",
   "id": "674b412e",
   "metadata": {
    "papermill": {
     "duration": 0.003388,
     "end_time": "2025-01-16T20:33:00.561762",
     "exception": false,
     "start_time": "2025-01-16T20:33:00.558374",
     "status": "completed"
    },
    "tags": []
   },
   "source": [
    "Do we have any publishers that produce multiple podcasts?"
   ]
  },
  {
   "cell_type": "code",
   "execution_count": 3,
   "id": "dbcc98b1",
   "metadata": {
    "execution": {
     "iopub.execute_input": "2025-01-16T20:33:00.570013Z",
     "iopub.status.busy": "2025-01-16T20:33:00.569586Z",
     "iopub.status.idle": "2025-01-16T20:33:00.587166Z",
     "shell.execute_reply": "2025-01-16T20:33:00.585944Z"
    },
    "papermill": {
     "duration": 0.023822,
     "end_time": "2025-01-16T20:33:00.589033",
     "exception": false,
     "start_time": "2025-01-16T20:33:00.565211",
     "status": "completed"
    },
    "tags": []
   },
   "outputs": [
    {
     "data": {
      "text/plain": [
       "publisher\n",
       "Princess of Suburbia®Network    2\n",
       "Carl Jung                       2\n",
       "Sergio Suárez Benítez           2\n",
       "Liron Cohen                     2\n",
       "PurpleStar                      1\n",
       "Name: count, dtype: int64"
      ]
     },
     "execution_count": 3,
     "metadata": {},
     "output_type": "execute_result"
    }
   ],
   "source": [
    "df['publisher'].value_counts().head(n=5)"
   ]
  },
  {
   "cell_type": "markdown",
   "id": "c81c23e5",
   "metadata": {
    "papermill": {
     "duration": 0.003397,
     "end_time": "2025-01-16T20:33:00.596219",
     "exception": false,
     "start_time": "2025-01-16T20:33:00.592822",
     "status": "completed"
    },
    "tags": []
   },
   "source": [
    "We have literally a handful."
   ]
  },
  {
   "cell_type": "markdown",
   "id": "e65e56ae",
   "metadata": {
    "papermill": {
     "duration": 0.003512,
     "end_time": "2025-01-16T20:33:00.603686",
     "exception": false,
     "start_time": "2025-01-16T20:33:00.600174",
     "status": "completed"
    },
    "tags": []
   },
   "source": [
    "How many episodes do podcasts in our dataset run?"
   ]
  },
  {
   "cell_type": "code",
   "execution_count": 4,
   "id": "b950d6c9",
   "metadata": {
    "execution": {
     "iopub.execute_input": "2025-01-16T20:33:00.612257Z",
     "iopub.status.busy": "2025-01-16T20:33:00.611825Z",
     "iopub.status.idle": "2025-01-16T20:33:00.625123Z",
     "shell.execute_reply": "2025-01-16T20:33:00.623892Z"
    },
    "papermill": {
     "duration": 0.019682,
     "end_time": "2025-01-16T20:33:00.626996",
     "exception": false,
     "start_time": "2025-01-16T20:33:00.607314",
     "status": "completed"
    },
    "tags": []
   },
   "outputs": [
    {
     "data": {
      "text/plain": [
       "(79.29533678756476,\n",
       " 30.0,\n",
       " total_episodes\n",
       " 1    17\n",
       " Name: count, dtype: int64)"
      ]
     },
     "execution_count": 4,
     "metadata": {},
     "output_type": "execute_result"
    }
   ],
   "source": [
    "df['total_episodes'].mean(), df['total_episodes'].median(), df['total_episodes'].value_counts().head(n=1)"
   ]
  },
  {
   "cell_type": "markdown",
   "id": "502857eb",
   "metadata": {
    "papermill": {
     "duration": 0.003574,
     "end_time": "2025-01-16T20:33:00.634490",
     "exception": false,
     "start_time": "2025-01-16T20:33:00.630916",
     "status": "completed"
    },
    "tags": []
   },
   "source": [
    "Interestingly there are several that ran exactly one episode, but there are lots that run only a few. Let's look at the whole distribution."
   ]
  },
  {
   "cell_type": "code",
   "execution_count": 5,
   "id": "cdccd6cd",
   "metadata": {
    "execution": {
     "iopub.execute_input": "2025-01-16T20:33:00.643434Z",
     "iopub.status.busy": "2025-01-16T20:33:00.643004Z",
     "iopub.status.idle": "2025-01-16T20:33:03.757920Z",
     "shell.execute_reply": "2025-01-16T20:33:03.756433Z"
    },
    "papermill": {
     "duration": 3.121867,
     "end_time": "2025-01-16T20:33:03.760198",
     "exception": false,
     "start_time": "2025-01-16T20:33:00.638331",
     "status": "completed"
    },
    "tags": []
   },
   "outputs": [
    {
     "data": {
      "text/plain": [
       "<Axes: xlabel='total_episodes', ylabel='Count'>"
      ]
     },
     "execution_count": 5,
     "metadata": {},
     "output_type": "execute_result"
    },
    {
     "data": {
      "image/png": "[encoded data removed]",
      "text/plain": [
       "<Figure size 640x480 with 1 Axes>"
      ]
     },
     "metadata": {},
     "output_type": "display_data"
    }
   ],
   "source": [
    "from seaborn import histplot\n",
    "from warnings import filterwarnings\n",
    "\n",
    "filterwarnings(action='ignore', category=FutureWarning)\n",
    "histplot(data=df, x='total_episodes', bins=100, kde=True)\n"
   ]
  },
  {
   "cell_type": "markdown",
   "id": "856ff6f8",
   "metadata": {
    "papermill": {
     "duration": 0.004198,
     "end_time": "2025-01-16T20:33:03.768792",
     "exception": false,
     "start_time": "2025-01-16T20:33:03.764594",
     "status": "completed"
    },
    "tags": []
   },
   "source": [
    "Do we have an expectation for how many episodes in our dataset are audio and how many are not?"
   ]
  },
  {
   "cell_type": "code",
   "execution_count": 6,
   "id": "66b39874",
   "metadata": {
    "execution": {
     "iopub.execute_input": "2025-01-16T20:33:03.779378Z",
     "iopub.status.busy": "2025-01-16T20:33:03.778826Z",
     "iopub.status.idle": "2025-01-16T20:33:03.945077Z",
     "shell.execute_reply": "2025-01-16T20:33:03.943822Z"
    },
    "papermill": {
     "duration": 0.17376,
     "end_time": "2025-01-16T20:33:03.946993",
     "exception": false,
     "start_time": "2025-01-16T20:33:03.773233",
     "status": "completed"
    },
    "tags": []
   },
   "outputs": [
    {
     "data": {
      "text/plain": [
       "<Axes: xlabel='media_type', ylabel='count'>"
      ]
     },
     "execution_count": 6,
     "metadata": {},
     "output_type": "execute_result"
    },
    {
     "data": {
      "image/png": "[encoded data removed]",
      "text/plain": [
       "<Figure size 640x480 with 1 Axes>"
      ]
     },
     "metadata": {},
     "output_type": "display_data"
    }
   ],
   "source": [
    "from seaborn import barplot\n",
    "\n",
    "barplot(data=df['media_type'].value_counts().to_frame().reset_index(), x='media_type', y='count')"
   ]
  },
  {
   "cell_type": "markdown",
   "id": "a9cbf33f",
   "metadata": {
    "papermill": {
     "duration": 0.004457,
     "end_time": "2025-01-16T20:33:03.956344",
     "exception": false,
     "start_time": "2025-01-16T20:33:03.951887",
     "status": "completed"
    },
    "tags": []
   },
   "source": [
    "It is probably not surprising that almost all of our podcasts are audio podcasts. What about explicit language?"
   ]
  },
  {
   "cell_type": "code",
   "execution_count": 7,
   "id": "1f6c2ecd",
   "metadata": {
    "execution": {
     "iopub.execute_input": "2025-01-16T20:33:03.967030Z",
     "iopub.status.busy": "2025-01-16T20:33:03.966575Z",
     "iopub.status.idle": "2025-01-16T20:33:04.128040Z",
     "shell.execute_reply": "2025-01-16T20:33:04.126796Z"
    },
    "papermill": {
     "duration": 0.169114,
     "end_time": "2025-01-16T20:33:04.130080",
     "exception": false,
     "start_time": "2025-01-16T20:33:03.960966",
     "status": "completed"
    },
    "tags": []
   },
   "outputs": [
    {
     "data": {
      "text/plain": [
       "<Axes: xlabel='explicit', ylabel='count'>"
      ]
     },
     "execution_count": 7,
     "metadata": {},
     "output_type": "execute_result"
    },
    {
     "data": {
      "image/png": "[encoded data removed]",
      "text/plain": [
       "<Figure size 640x480 with 1 Axes>"
      ]
     },
     "metadata": {},
     "output_type": "display_data"
    }
   ],
   "source": [
    "barplot(data=df['explicit'].value_counts().to_frame().reset_index(), x='explicit', y='count')"
   ]
  }
 ],
 "metadata": {
  "kaggle": {
   "accelerator": "none",
   "dataSources": [
    {
     "datasetId": 6245564,
     "sourceId": 10121611,
     "sourceType": "datasetVersion"
    }
   ],
   "dockerImageVersionId": 30839,
   "isGpuEnabled": false,
   "isInternetEnabled": true,
   "language": "python",
   "sourceType": "notebook"
  },
  "kernelspec": {
   "display_name": "Python 3",
   "language": "python",
   "name": "python3"
  },
  "language_info": {
   "codemirror_mode": {
    "name": "ipython",
    "version": 3
   },
   "file_extension": ".py",
   "mimetype": "text/x-python",
   "name": "python",
   "nbconvert_exporter": "python",
   "pygments_lexer": "ipython3",
   "version": "3.10.12"
  },
  "papermill": {
   "default_parameters": {},
   "duration": 9.279883,
   "end_time": "2025-01-16T20:33:04.956343",
   "environment_variables": {},
   "exception": null,
   "input_path": "__notebook__.ipynb",
   "output_path": "__notebook__.ipynb",
   "parameters": {},
   "start_time": "2025-01-16T20:32:55.676460",
   "version": "2.6.0"
  }
 },
 "nbformat": 4,
 "nbformat_minor": 5
}
