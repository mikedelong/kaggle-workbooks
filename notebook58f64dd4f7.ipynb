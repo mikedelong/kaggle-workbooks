{
 "cells": [
  {
   "cell_type": "code",
   "execution_count": 1,
   "id": "eb05d902",
   "metadata": {
    "_cell_guid": "b1076dfc-b9ad-4769-8c92-a6c4dae69d19",
    "_uuid": "8f2839f25d086af736a60e9eeb907d3b93b6e0e5",
    "execution": {
     "iopub.execute_input": "2023-10-05T18:38:14.236021Z",
     "iopub.status.busy": "2023-10-05T18:38:14.235459Z",
     "iopub.status.idle": "2023-10-05T18:38:14.654130Z",
     "shell.execute_reply": "2023-10-05T18:38:14.653002Z"
    },
    "papermill": {
     "duration": 0.426653,
     "end_time": "2023-10-05T18:38:14.657302",
     "exception": false,
     "start_time": "2023-10-05T18:38:14.230649",
     "status": "completed"
    },
    "tags": []
   },
   "outputs": [
    {
     "name": "stdout",
     "output_type": "stream",
     "text": [
      "/kaggle/input/multicrop-agricultural-products-dataset/sugar-producing-countries-2023.csv\n",
      "/kaggle/input/multicrop-agricultural-products-dataset/cocoa-producing-countries-2023.csv\n",
      "/kaggle/input/multicrop-agricultural-products-dataset/maple-syrup-production-by-country-2023.csv\n",
      "/kaggle/input/multicrop-agricultural-products-dataset/potato-production-by-country-2023.csv\n",
      "/kaggle/input/multicrop-agricultural-products-dataset/pistachio-production-by-country-2023.csv\n",
      "/kaggle/input/multicrop-agricultural-products-dataset/wheat-production-by-country-2023.csv\n",
      "/kaggle/input/multicrop-agricultural-products-dataset/date-production-by-country-2023.csv\n",
      "/kaggle/input/multicrop-agricultural-products-dataset/wine-producing-countries-2023.csv\n",
      "/kaggle/input/multicrop-agricultural-products-dataset/pineapple-production-by-country-2023.csv\n",
      "/kaggle/input/multicrop-agricultural-products-dataset/mango-production-by-country-2023.csv\n",
      "/kaggle/input/multicrop-agricultural-products-dataset/banana-production-by-country-2023.csv\n",
      "/kaggle/input/multicrop-agricultural-products-dataset/garlic-production-by-country-2023.csv\n",
      "/kaggle/input/multicrop-agricultural-products-dataset/rice-production-by-country-2023.csv\n",
      "/kaggle/input/multicrop-agricultural-products-dataset/apple-production-by-country-2023.csv\n",
      "/kaggle/input/multicrop-agricultural-products-dataset/saffron-exports-by-country-2023.csv\n",
      "/kaggle/input/multicrop-agricultural-products-dataset/avocado-production-by-country-2023.csv\n",
      "/kaggle/input/multicrop-agricultural-products-dataset/oil-production-by-country-2023.csv\n",
      "/kaggle/input/multicrop-agricultural-products-dataset/cashew-production-by-country-2023.csv\n",
      "/kaggle/input/multicrop-agricultural-products-dataset/tomato-production-by-country-2023.csv\n",
      "/kaggle/input/multicrop-agricultural-products-dataset/coconut-production-by-country-2023.csv\n",
      "/kaggle/input/multicrop-agricultural-products-dataset/almond-production-by-country-2023.csv\n",
      "/kaggle/input/multicrop-agricultural-products-dataset/soybean-production-by-country-2023.csv\n"
     ]
    }
   ],
   "source": [
    "# This Python 3 environment comes with many helpful analytics libraries installed\n",
    "# It is defined by the kaggle/python Docker image: https://github.com/kaggle/docker-python\n",
    "# For example, here's several helpful packages to load\n",
    "\n",
    "import numpy as np # linear algebra\n",
    "import pandas as pd # data processing, CSV file I/O (e.g. pd.read_csv)\n",
    "\n",
    "# Input data files are available in the read-only \"../input/\" directory\n",
    "# For example, running this (by clicking run or pressing Shift+Enter) will list all files under the input directory\n",
    "\n",
    "import os\n",
    "for dirname, _, filenames in os.walk('/kaggle/input'):\n",
    "    for filename in filenames:\n",
    "        print(os.path.join(dirname, filename))\n",
    "\n",
    "# You can write up to 20GB to the current directory (/kaggle/working/) that gets preserved as output when you create a version using \"Save & Run All\" \n",
    "# You can also write temporary files to /kaggle/temp/, but they won't be saved outside of the current session"
   ]
  },
  {
   "cell_type": "code",
   "execution_count": 2,
   "id": "8f6c727e",
   "metadata": {
    "execution": {
     "iopub.execute_input": "2023-10-05T18:38:14.665892Z",
     "iopub.status.busy": "2023-10-05T18:38:14.665352Z",
     "iopub.status.idle": "2023-10-05T18:38:14.698682Z",
     "shell.execute_reply": "2023-10-05T18:38:14.697507Z"
    },
    "papermill": {
     "duration": 0.039022,
     "end_time": "2023-10-05T18:38:14.700934",
     "exception": false,
     "start_time": "2023-10-05T18:38:14.661912",
     "status": "completed"
    },
    "tags": []
   },
   "outputs": [
    {
     "data": {
      "text/html": [
       "<div>\n",
       "<style scoped>\n",
       "    .dataframe tbody tr th:only-of-type {\n",
       "        vertical-align: middle;\n",
       "    }\n",
       "\n",
       "    .dataframe tbody tr th {\n",
       "        vertical-align: top;\n",
       "    }\n",
       "\n",
       "    .dataframe thead th {\n",
       "        text-align: right;\n",
       "    }\n",
       "</style>\n",
       "<table border=\"1\" class=\"dataframe\">\n",
       "  <thead>\n",
       "    <tr style=\"text-align: right;\">\n",
       "      <th></th>\n",
       "      <th>country</th>\n",
       "      <th>saffronExportsByCountry_saffKg</th>\n",
       "    </tr>\n",
       "  </thead>\n",
       "  <tbody>\n",
       "    <tr>\n",
       "      <th>0</th>\n",
       "      <td>Iran</td>\n",
       "      <td>279608</td>\n",
       "    </tr>\n",
       "    <tr>\n",
       "      <th>1</th>\n",
       "      <td>China</td>\n",
       "      <td>149584</td>\n",
       "    </tr>\n",
       "    <tr>\n",
       "      <th>2</th>\n",
       "      <td>United Kingdom</td>\n",
       "      <td>119139</td>\n",
       "    </tr>\n",
       "    <tr>\n",
       "      <th>3</th>\n",
       "      <td>Spain</td>\n",
       "      <td>78898</td>\n",
       "    </tr>\n",
       "    <tr>\n",
       "      <th>4</th>\n",
       "      <td>Czech Republic</td>\n",
       "      <td>52029</td>\n",
       "    </tr>\n",
       "  </tbody>\n",
       "</table>\n",
       "</div>"
      ],
      "text/plain": [
       "          country  saffronExportsByCountry_saffKg\n",
       "0            Iran                          279608\n",
       "1           China                          149584\n",
       "2  United Kingdom                          119139\n",
       "3           Spain                           78898\n",
       "4  Czech Republic                           52029"
      ]
     },
     "execution_count": 2,
     "metadata": {},
     "output_type": "execute_result"
    }
   ],
   "source": [
    "import pandas as pd\n",
    "pd.read_csv(filepath_or_buffer='/kaggle/input/multicrop-agricultural-products-dataset/saffron-exports-by-country-2023.csv').head()"
   ]
  },
  {
   "cell_type": "code",
   "execution_count": 3,
   "id": "2548501b",
   "metadata": {
    "execution": {
     "iopub.execute_input": "2023-10-05T18:38:14.707132Z",
     "iopub.status.busy": "2023-10-05T18:38:14.706797Z",
     "iopub.status.idle": "2023-10-05T18:38:14.720247Z",
     "shell.execute_reply": "2023-10-05T18:38:14.719082Z"
    },
    "papermill": {
     "duration": 0.019315,
     "end_time": "2023-10-05T18:38:14.722521",
     "exception": false,
     "start_time": "2023-10-05T18:38:14.703206",
     "status": "completed"
    },
    "tags": []
   },
   "outputs": [
    {
     "data": {
      "text/html": [
       "<div>\n",
       "<style scoped>\n",
       "    .dataframe tbody tr th:only-of-type {\n",
       "        vertical-align: middle;\n",
       "    }\n",
       "\n",
       "    .dataframe tbody tr th {\n",
       "        vertical-align: top;\n",
       "    }\n",
       "\n",
       "    .dataframe thead th {\n",
       "        text-align: right;\n",
       "    }\n",
       "</style>\n",
       "<table border=\"1\" class=\"dataframe\">\n",
       "  <thead>\n",
       "    <tr style=\"text-align: right;\">\n",
       "      <th></th>\n",
       "      <th>country</th>\n",
       "      <th>PineappleProduction2021(tons)</th>\n",
       "    </tr>\n",
       "  </thead>\n",
       "  <tbody>\n",
       "    <tr>\n",
       "      <th>0</th>\n",
       "      <td>Philippines</td>\n",
       "      <td>2702554</td>\n",
       "    </tr>\n",
       "    <tr>\n",
       "      <th>1</th>\n",
       "      <td>Costa Rica</td>\n",
       "      <td>2648138</td>\n",
       "    </tr>\n",
       "    <tr>\n",
       "      <th>2</th>\n",
       "      <td>Brazil</td>\n",
       "      <td>2455689</td>\n",
       "    </tr>\n",
       "    <tr>\n",
       "      <th>3</th>\n",
       "      <td>Indonesia</td>\n",
       "      <td>2447243</td>\n",
       "    </tr>\n",
       "    <tr>\n",
       "      <th>4</th>\n",
       "      <td>China</td>\n",
       "      <td>2266028</td>\n",
       "    </tr>\n",
       "  </tbody>\n",
       "</table>\n",
       "</div>"
      ],
      "text/plain": [
       "       country  PineappleProduction2021(tons)\n",
       "0  Philippines                        2702554\n",
       "1   Costa Rica                        2648138\n",
       "2       Brazil                        2455689\n",
       "3    Indonesia                        2447243\n",
       "4        China                        2266028"
      ]
     },
     "execution_count": 3,
     "metadata": {},
     "output_type": "execute_result"
    }
   ],
   "source": [
    "pd.read_csv(filepath_or_buffer='/kaggle/input/multicrop-agricultural-products-dataset/pineapple-production-by-country-2023.csv').head()"
   ]
  },
  {
   "cell_type": "code",
   "execution_count": 4,
   "id": "c01e5aba",
   "metadata": {
    "execution": {
     "iopub.execute_input": "2023-10-05T18:38:14.728943Z",
     "iopub.status.busy": "2023-10-05T18:38:14.728614Z",
     "iopub.status.idle": "2023-10-05T18:38:14.733842Z",
     "shell.execute_reply": "2023-10-05T18:38:14.732933Z"
    },
    "papermill": {
     "duration": 0.011252,
     "end_time": "2023-10-05T18:38:14.736158",
     "exception": false,
     "start_time": "2023-10-05T18:38:14.724906",
     "status": "completed"
    },
    "tags": []
   },
   "outputs": [],
   "source": [
    "import pandas as pd\n",
    "from glob import glob\n",
    "filenames = list(glob('/kaggle/input/multicrop-agricultural-products-dataset/*-production-by-country-2023.csv'))\n"
   ]
  }
 ],
 "metadata": {
  "kernelspec": {
   "display_name": "Python 3",
   "language": "python",
   "name": "python3"
  },
  "language_info": {
   "codemirror_mode": {
    "name": "ipython",
    "version": 3
   },
   "file_extension": ".py",
   "mimetype": "text/x-python",
   "name": "python",
   "nbconvert_exporter": "python",
   "pygments_lexer": "ipython3",
   "version": "3.10.12"
  },
  "papermill": {
   "default_parameters": {},
   "duration": 4.366153,
   "end_time": "2023-10-05T18:38:15.259804",
   "environment_variables": {},
   "exception": null,
   "input_path": "__notebook__.ipynb",
   "output_path": "__notebook__.ipynb",
   "parameters": {},
   "start_time": "2023-10-05T18:38:10.893651",
   "version": "2.4.0"
  }
 },
 "nbformat": 4,
 "nbformat_minor": 5
}
