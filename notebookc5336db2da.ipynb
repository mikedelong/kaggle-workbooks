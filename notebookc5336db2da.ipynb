{
 "cells": [
  {
   "cell_type": "code",
   "execution_count": 1,
   "id": "c6e06cbb",
   "metadata": {
    "_cell_guid": "b1076dfc-b9ad-4769-8c92-a6c4dae69d19",
    "_uuid": "8f2839f25d086af736a60e9eeb907d3b93b6e0e5",
    "execution": {
     "iopub.execute_input": "2025-02-17T18:49:12.181230Z",
     "iopub.status.busy": "2025-02-17T18:49:12.180711Z",
     "iopub.status.idle": "2025-02-17T18:49:13.559659Z",
     "shell.execute_reply": "2025-02-17T18:49:13.558488Z"
    },
    "papermill": {
     "duration": 1.389126,
     "end_time": "2025-02-17T18:49:13.562017",
     "exception": false,
     "start_time": "2025-02-17T18:49:12.172891",
     "status": "completed"
    },
    "tags": []
   },
   "outputs": [
    {
     "data": {
      "text/html": [
       "<div>\n",
       "<style scoped>\n",
       "    .dataframe tbody tr th:only-of-type {\n",
       "        vertical-align: middle;\n",
       "    }\n",
       "\n",
       "    .dataframe tbody tr th {\n",
       "        vertical-align: top;\n",
       "    }\n",
       "\n",
       "    .dataframe thead th {\n",
       "        text-align: right;\n",
       "    }\n",
       "</style>\n",
       "<table border=\"1\" class=\"dataframe\">\n",
       "  <thead>\n",
       "    <tr style=\"text-align: right;\">\n",
       "      <th></th>\n",
       "      <th>book_number</th>\n",
       "      <th>chapter</th>\n",
       "      <th>verse</th>\n",
       "      <th>text</th>\n",
       "      <th>book</th>\n",
       "      <th>age</th>\n",
       "    </tr>\n",
       "  </thead>\n",
       "  <tbody>\n",
       "    <tr>\n",
       "      <th>0</th>\n",
       "      <td>1</td>\n",
       "      <td>1</td>\n",
       "      <td>1</td>\n",
       "      <td>In the beginning God created the heaven and th...</td>\n",
       "      <td>Genesis</td>\n",
       "      <td>1</td>\n",
       "    </tr>\n",
       "    <tr>\n",
       "      <th>1</th>\n",
       "      <td>1</td>\n",
       "      <td>1</td>\n",
       "      <td>2</td>\n",
       "      <td>And the earth was without form, and void; and ...</td>\n",
       "      <td>Genesis</td>\n",
       "      <td>1</td>\n",
       "    </tr>\n",
       "    <tr>\n",
       "      <th>2</th>\n",
       "      <td>1</td>\n",
       "      <td>1</td>\n",
       "      <td>3</td>\n",
       "      <td>And God said, Let there be light: and there wa...</td>\n",
       "      <td>Genesis</td>\n",
       "      <td>1</td>\n",
       "    </tr>\n",
       "    <tr>\n",
       "      <th>3</th>\n",
       "      <td>1</td>\n",
       "      <td>1</td>\n",
       "      <td>4</td>\n",
       "      <td>And God saw the light, that it was good: and G...</td>\n",
       "      <td>Genesis</td>\n",
       "      <td>1</td>\n",
       "    </tr>\n",
       "    <tr>\n",
       "      <th>4</th>\n",
       "      <td>1</td>\n",
       "      <td>1</td>\n",
       "      <td>5</td>\n",
       "      <td>And God called the light Day, and the darkness...</td>\n",
       "      <td>Genesis</td>\n",
       "      <td>1</td>\n",
       "    </tr>\n",
       "  </tbody>\n",
       "</table>\n",
       "</div>"
      ],
      "text/plain": [
       "   book_number  chapter  verse  \\\n",
       "0            1        1      1   \n",
       "1            1        1      2   \n",
       "2            1        1      3   \n",
       "3            1        1      4   \n",
       "4            1        1      5   \n",
       "\n",
       "                                                text     book  age  \n",
       "0  In the beginning God created the heaven and th...  Genesis    1  \n",
       "1  And the earth was without form, and void; and ...  Genesis    1  \n",
       "2  And God said, Let there be light: and there wa...  Genesis    1  \n",
       "3  And God saw the light, that it was good: and G...  Genesis    1  \n",
       "4  And God called the light Day, and the darkness...  Genesis    1  "
      ]
     },
     "execution_count": 1,
     "metadata": {},
     "output_type": "execute_result"
    }
   ],
   "source": [
    "import pandas as pd\n",
    "\n",
    "KJV = '/kaggle/input/bible-text-by-age/kjv_with_age.csv'\n",
    "df = pd.read_csv(filepath_or_buffer=KJV).drop(columns=['id'])\n",
    "df.columns = ['book_number', 'chapter', 'verse', 'text', 'book', 'age']\n",
    "df.head()"
   ]
  },
  {
   "cell_type": "markdown",
   "id": "93d4eef7",
   "metadata": {
    "papermill": {
     "duration": 0.005951,
     "end_time": "2025-02-17T18:49:13.574847",
     "exception": false,
     "start_time": "2025-02-17T18:49:13.568896",
     "status": "completed"
    },
    "tags": []
   },
   "source": [
    "First let's do some basic counts. "
   ]
  },
  {
   "cell_type": "code",
   "execution_count": 2,
   "id": "14c94943",
   "metadata": {
    "execution": {
     "iopub.execute_input": "2025-02-17T18:49:13.588866Z",
     "iopub.status.busy": "2025-02-17T18:49:13.588466Z",
     "iopub.status.idle": "2025-02-17T18:49:13.628743Z",
     "shell.execute_reply": "2025-02-17T18:49:13.627571Z"
    },
    "papermill": {
     "duration": 0.049818,
     "end_time": "2025-02-17T18:49:13.630548",
     "exception": false,
     "start_time": "2025-02-17T18:49:13.580730",
     "status": "completed"
    },
    "tags": []
   },
   "outputs": [
    {
     "data": {
      "text/html": [
       "<div>\n",
       "<style scoped>\n",
       "    .dataframe tbody tr th:only-of-type {\n",
       "        vertical-align: middle;\n",
       "    }\n",
       "\n",
       "    .dataframe tbody tr th {\n",
       "        vertical-align: top;\n",
       "    }\n",
       "\n",
       "    .dataframe thead th {\n",
       "        text-align: right;\n",
       "    }\n",
       "</style>\n",
       "<table border=\"1\" class=\"dataframe\">\n",
       "  <thead>\n",
       "    <tr style=\"text-align: right;\">\n",
       "      <th></th>\n",
       "      <th>book_number</th>\n",
       "      <th>chapter</th>\n",
       "      <th>verse</th>\n",
       "      <th>text</th>\n",
       "      <th>book</th>\n",
       "      <th>age</th>\n",
       "    </tr>\n",
       "  </thead>\n",
       "  <tbody>\n",
       "    <tr>\n",
       "      <th>0</th>\n",
       "      <td>66</td>\n",
       "      <td>150</td>\n",
       "      <td>176</td>\n",
       "      <td>30834</td>\n",
       "      <td>66</td>\n",
       "      <td>11</td>\n",
       "    </tr>\n",
       "  </tbody>\n",
       "</table>\n",
       "</div>"
      ],
      "text/plain": [
       "   book_number  chapter  verse   text  book  age\n",
       "0           66      150    176  30834    66   11"
      ]
     },
     "execution_count": 2,
     "metadata": {},
     "output_type": "execute_result"
    }
   ],
   "source": [
    "df.nunique().to_frame().T"
   ]
  },
  {
   "cell_type": "markdown",
   "id": "dcbc8638",
   "metadata": {
    "papermill": {
     "duration": 0.005568,
     "end_time": "2025-02-17T18:49:13.642200",
     "exception": false,
     "start_time": "2025-02-17T18:49:13.636632",
     "status": "completed"
    },
    "tags": []
   },
   "source": [
    "We know from the data card that there are eleven ages. How many books are in each age?"
   ]
  },
  {
   "cell_type": "code",
   "execution_count": 3,
   "id": "cd66976d",
   "metadata": {
    "execution": {
     "iopub.execute_input": "2025-02-17T18:49:13.655298Z",
     "iopub.status.busy": "2025-02-17T18:49:13.654912Z",
     "iopub.status.idle": "2025-02-17T18:49:13.681463Z",
     "shell.execute_reply": "2025-02-17T18:49:13.680376Z"
    },
    "papermill": {
     "duration": 0.035209,
     "end_time": "2025-02-17T18:49:13.683310",
     "exception": false,
     "start_time": "2025-02-17T18:49:13.648101",
     "status": "completed"
    },
    "tags": []
   },
   "outputs": [
    {
     "data": {
      "text/html": [
       "<div>\n",
       "<style scoped>\n",
       "    .dataframe tbody tr th:only-of-type {\n",
       "        vertical-align: middle;\n",
       "    }\n",
       "\n",
       "    .dataframe tbody tr th {\n",
       "        vertical-align: top;\n",
       "    }\n",
       "\n",
       "    .dataframe thead th {\n",
       "        text-align: right;\n",
       "    }\n",
       "</style>\n",
       "<table border=\"1\" class=\"dataframe\">\n",
       "  <thead>\n",
       "    <tr style=\"text-align: right;\">\n",
       "      <th></th>\n",
       "      <th>0</th>\n",
       "      <th>1</th>\n",
       "      <th>2</th>\n",
       "      <th>3</th>\n",
       "      <th>4</th>\n",
       "      <th>5</th>\n",
       "      <th>6</th>\n",
       "      <th>7</th>\n",
       "      <th>8</th>\n",
       "      <th>9</th>\n",
       "      <th>...</th>\n",
       "      <th>59</th>\n",
       "      <th>60</th>\n",
       "      <th>61</th>\n",
       "      <th>62</th>\n",
       "      <th>63</th>\n",
       "      <th>64</th>\n",
       "      <th>65</th>\n",
       "      <th>66</th>\n",
       "      <th>67</th>\n",
       "      <th>68</th>\n",
       "    </tr>\n",
       "  </thead>\n",
       "  <tbody>\n",
       "    <tr>\n",
       "      <th>book</th>\n",
       "      <td>Genesis</td>\n",
       "      <td>Genesis</td>\n",
       "      <td>Exodus</td>\n",
       "      <td>Leviticus</td>\n",
       "      <td>Numbers</td>\n",
       "      <td>Deuteronomy</td>\n",
       "      <td>Joshua</td>\n",
       "      <td>Judges</td>\n",
       "      <td>Ruth</td>\n",
       "      <td>1 Samuel</td>\n",
       "      <td>...</td>\n",
       "      <td>Philemon</td>\n",
       "      <td>Hebrews</td>\n",
       "      <td>James</td>\n",
       "      <td>1 Peter</td>\n",
       "      <td>2 Peter</td>\n",
       "      <td>1 John</td>\n",
       "      <td>2 John</td>\n",
       "      <td>3 John</td>\n",
       "      <td>Jude</td>\n",
       "      <td>Revelation</td>\n",
       "    </tr>\n",
       "    <tr>\n",
       "      <th>age</th>\n",
       "      <td>1</td>\n",
       "      <td>2</td>\n",
       "      <td>3</td>\n",
       "      <td>3</td>\n",
       "      <td>3</td>\n",
       "      <td>3</td>\n",
       "      <td>3</td>\n",
       "      <td>4</td>\n",
       "      <td>4</td>\n",
       "      <td>4</td>\n",
       "      <td>...</td>\n",
       "      <td>11</td>\n",
       "      <td>11</td>\n",
       "      <td>11</td>\n",
       "      <td>11</td>\n",
       "      <td>11</td>\n",
       "      <td>11</td>\n",
       "      <td>11</td>\n",
       "      <td>11</td>\n",
       "      <td>11</td>\n",
       "      <td>12</td>\n",
       "    </tr>\n",
       "  </tbody>\n",
       "</table>\n",
       "<p>2 rows × 69 columns</p>\n",
       "</div>"
      ],
      "text/plain": [
       "           0        1       2          3        4            5       6   \\\n",
       "book  Genesis  Genesis  Exodus  Leviticus  Numbers  Deuteronomy  Joshua   \n",
       "age         1        2       3          3        3            3       3   \n",
       "\n",
       "          7     8         9   ...        59       60     61       62       63  \\\n",
       "book  Judges  Ruth  1 Samuel  ...  Philemon  Hebrews  James  1 Peter  2 Peter   \n",
       "age        4     4         4  ...        11       11     11       11       11   \n",
       "\n",
       "          64      65      66    67          68  \n",
       "book  1 John  2 John  3 John  Jude  Revelation  \n",
       "age       11      11      11    11          12  \n",
       "\n",
       "[2 rows x 69 columns]"
      ]
     },
     "execution_count": 3,
     "metadata": {},
     "output_type": "execute_result"
    }
   ],
   "source": [
    "df[['book', 'age']].drop_duplicates(ignore_index=True).T"
   ]
  },
  {
   "cell_type": "markdown",
   "id": "0bf4424a",
   "metadata": {
    "papermill": {
     "duration": 0.006297,
     "end_time": "2025-02-17T18:49:13.696401",
     "exception": false,
     "start_time": "2025-02-17T18:49:13.690104",
     "status": "completed"
    },
    "tags": []
   },
   "source": [
    "It turns out there are some books that fit into more than one age, but we should be able to approximate the answer we want without having to allocate any of those books to one age or the other."
   ]
  },
  {
   "cell_type": "code",
   "execution_count": 4,
   "id": "451aadf3",
   "metadata": {
    "execution": {
     "iopub.execute_input": "2025-02-17T18:49:13.710171Z",
     "iopub.status.busy": "2025-02-17T18:49:13.709780Z",
     "iopub.status.idle": "2025-02-17T18:49:13.732629Z",
     "shell.execute_reply": "2025-02-17T18:49:13.731571Z"
    },
    "papermill": {
     "duration": 0.03168,
     "end_time": "2025-02-17T18:49:13.734378",
     "exception": false,
     "start_time": "2025-02-17T18:49:13.702698",
     "status": "completed"
    },
    "tags": []
   },
   "outputs": [
    {
     "data": {
      "text/html": [
       "<div>\n",
       "<style scoped>\n",
       "    .dataframe tbody tr th:only-of-type {\n",
       "        vertical-align: middle;\n",
       "    }\n",
       "\n",
       "    .dataframe tbody tr th {\n",
       "        vertical-align: top;\n",
       "    }\n",
       "\n",
       "    .dataframe thead th {\n",
       "        text-align: right;\n",
       "    }\n",
       "</style>\n",
       "<table border=\"1\" class=\"dataframe\">\n",
       "  <thead>\n",
       "    <tr style=\"text-align: right;\">\n",
       "      <th>age</th>\n",
       "      <th>1</th>\n",
       "      <th>2</th>\n",
       "      <th>3</th>\n",
       "      <th>4</th>\n",
       "      <th>5</th>\n",
       "      <th>6</th>\n",
       "      <th>7</th>\n",
       "      <th>8</th>\n",
       "      <th>10</th>\n",
       "      <th>11</th>\n",
       "      <th>12</th>\n",
       "    </tr>\n",
       "  </thead>\n",
       "  <tbody>\n",
       "    <tr>\n",
       "      <th>count</th>\n",
       "      <td>1</td>\n",
       "      <td>2</td>\n",
       "      <td>5</td>\n",
       "      <td>3</td>\n",
       "      <td>8</td>\n",
       "      <td>9</td>\n",
       "      <td>8</td>\n",
       "      <td>6</td>\n",
       "      <td>4</td>\n",
       "      <td>22</td>\n",
       "      <td>1</td>\n",
       "    </tr>\n",
       "  </tbody>\n",
       "</table>\n",
       "</div>"
      ],
      "text/plain": [
       "age    1   2   3   4   5   6   7   8   10  11  12\n",
       "count   1   2   5   3   8   9   8   6   4  22   1"
      ]
     },
     "execution_count": 4,
     "metadata": {},
     "output_type": "execute_result"
    }
   ],
   "source": [
    "df[['book', 'age']].drop_duplicates()['age'].value_counts().sort_index().to_frame().T"
   ]
  },
  {
   "cell_type": "markdown",
   "id": "b95f65ac",
   "metadata": {
    "papermill": {
     "duration": 0.00636,
     "end_time": "2025-02-17T18:49:13.747200",
     "exception": false,
     "start_time": "2025-02-17T18:49:13.740840",
     "status": "completed"
    },
    "tags": []
   },
   "source": [
    "This is an interesting results; we have two ages with one book each and one with none. "
   ]
  },
  {
   "cell_type": "code",
   "execution_count": 5,
   "id": "26e226d1",
   "metadata": {
    "execution": {
     "iopub.execute_input": "2025-02-17T18:49:13.761236Z",
     "iopub.status.busy": "2025-02-17T18:49:13.760878Z",
     "iopub.status.idle": "2025-02-17T18:49:13.776127Z",
     "shell.execute_reply": "2025-02-17T18:49:13.774838Z"
    },
    "papermill": {
     "duration": 0.024474,
     "end_time": "2025-02-17T18:49:13.778079",
     "exception": false,
     "start_time": "2025-02-17T18:49:13.753605",
     "status": "completed"
    },
    "tags": []
   },
   "outputs": [
    {
     "data": {
      "text/html": [
       "<div>\n",
       "<style scoped>\n",
       "    .dataframe tbody tr th:only-of-type {\n",
       "        vertical-align: middle;\n",
       "    }\n",
       "\n",
       "    .dataframe tbody tr th {\n",
       "        vertical-align: top;\n",
       "    }\n",
       "\n",
       "    .dataframe thead th {\n",
       "        text-align: right;\n",
       "    }\n",
       "</style>\n",
       "<table border=\"1\" class=\"dataframe\">\n",
       "  <thead>\n",
       "    <tr style=\"text-align: right;\">\n",
       "      <th></th>\n",
       "      <th>book</th>\n",
       "      <th>age</th>\n",
       "    </tr>\n",
       "  </thead>\n",
       "  <tbody>\n",
       "    <tr>\n",
       "      <th>1</th>\n",
       "      <td>Genesis</td>\n",
       "      <td>2</td>\n",
       "    </tr>\n",
       "    <tr>\n",
       "      <th>20</th>\n",
       "      <td>Job</td>\n",
       "      <td>2</td>\n",
       "    </tr>\n",
       "  </tbody>\n",
       "</table>\n",
       "</div>"
      ],
      "text/plain": [
       "       book  age\n",
       "1   Genesis    2\n",
       "20      Job    2"
      ]
     },
     "execution_count": 5,
     "metadata": {},
     "output_type": "execute_result"
    }
   ],
   "source": [
    "ages_df = df[['book', 'age']].drop_duplicates(ignore_index=True)\n",
    "ages_df[ages_df['age'] == 2]"
   ]
  },
  {
   "cell_type": "markdown",
   "id": "9ea0ecb1",
   "metadata": {
    "papermill": {
     "duration": 0.006223,
     "end_time": "2025-02-17T18:49:13.790838",
     "exception": false,
     "start_time": "2025-02-17T18:49:13.784615",
     "status": "completed"
    },
    "tags": []
   },
   "source": [
    "The source of this dataset puts an early date on Job, which is not exactly controversial, but neither is it universally accepted."
   ]
  },
  {
   "cell_type": "markdown",
   "id": "28319e30",
   "metadata": {
    "papermill": {
     "duration": 0.006624,
     "end_time": "2025-02-17T18:49:13.804725",
     "exception": false,
     "start_time": "2025-02-17T18:49:13.798101",
     "status": "completed"
    },
    "tags": []
   },
   "source": [
    "There are multiple interesting judgment calls in putting books into ages, but they're not all interesting enough to dig into here."
   ]
  },
  {
   "cell_type": "markdown",
   "id": "b3966c2a",
   "metadata": {
    "papermill": {
     "duration": 0.006793,
     "end_time": "2025-02-17T18:49:13.819934",
     "exception": false,
     "start_time": "2025-02-17T18:49:13.813141",
     "status": "completed"
    },
    "tags": []
   },
   "source": [
    "Instead let's look at the verses that are identical. How many would we expect to find?"
   ]
  },
  {
   "cell_type": "code",
   "execution_count": 6,
   "id": "4f5cfd80",
   "metadata": {
    "execution": {
     "iopub.execute_input": "2025-02-17T18:49:13.834068Z",
     "iopub.status.busy": "2025-02-17T18:49:13.833699Z",
     "iopub.status.idle": "2025-02-17T18:49:13.868616Z",
     "shell.execute_reply": "2025-02-17T18:49:13.867528Z"
    },
    "papermill": {
     "duration": 0.044207,
     "end_time": "2025-02-17T18:49:13.870463",
     "exception": false,
     "start_time": "2025-02-17T18:49:13.826256",
     "status": "completed"
    },
    "tags": []
   },
   "outputs": [
    {
     "data": {
      "text/html": [
       "<div>\n",
       "<style scoped>\n",
       "    .dataframe tbody tr th:only-of-type {\n",
       "        vertical-align: middle;\n",
       "    }\n",
       "\n",
       "    .dataframe tbody tr th {\n",
       "        vertical-align: top;\n",
       "    }\n",
       "\n",
       "    .dataframe thead th {\n",
       "        text-align: right;\n",
       "    }\n",
       "</style>\n",
       "<table border=\"1\" class=\"dataframe\">\n",
       "  <thead>\n",
       "    <tr style=\"text-align: right;\">\n",
       "      <th></th>\n",
       "      <th>count</th>\n",
       "    </tr>\n",
       "    <tr>\n",
       "      <th>text</th>\n",
       "      <th></th>\n",
       "    </tr>\n",
       "  </thead>\n",
       "  <tbody>\n",
       "    <tr>\n",
       "      <th>And the LORD spake unto Moses, saying,</th>\n",
       "      <td>72</td>\n",
       "    </tr>\n",
       "    <tr>\n",
       "      <th>And the word of the LORD came unto me, saying,</th>\n",
       "      <td>12</td>\n",
       "    </tr>\n",
       "    <tr>\n",
       "      <th>One young bullock, one ram, one lamb of the first year, for a burnt offering:</th>\n",
       "      <td>12</td>\n",
       "    </tr>\n",
       "    <tr>\n",
       "      <th>One kid of the goats for a sin offering:</th>\n",
       "      <td>12</td>\n",
       "    </tr>\n",
       "    <tr>\n",
       "      <th>One golden spoon of ten shekels, full of incense:</th>\n",
       "      <td>10</td>\n",
       "    </tr>\n",
       "    <tr>\n",
       "      <th>...</th>\n",
       "      <td>...</td>\n",
       "    </tr>\n",
       "    <tr>\n",
       "      <th>And Solomon had horses brought out of Egypt, and linen yarn: the king's merchants received the linen yarn at a price.</th>\n",
       "      <td>2</td>\n",
       "    </tr>\n",
       "    <tr>\n",
       "      <th>The men of Anathoth, an hundred twenty and eight.</th>\n",
       "      <td>2</td>\n",
       "    </tr>\n",
       "    <tr>\n",
       "      <th>And there was war between Asa and Baasha king of Israel all their days.</th>\n",
       "      <td>2</td>\n",
       "    </tr>\n",
       "    <tr>\n",
       "      <th>There went up a smoke out of his nostrils, and fire out of his mouth devoured: coals were kindled by it.</th>\n",
       "      <td>2</td>\n",
       "    </tr>\n",
       "    <tr>\n",
       "      <th>Glory ye in his holy name: let the heart of them rejoice that seek the LORD.</th>\n",
       "      <td>2</td>\n",
       "    </tr>\n",
       "  </tbody>\n",
       "</table>\n",
       "<p>120 rows × 1 columns</p>\n",
       "</div>"
      ],
      "text/plain": [
       "                                                    count\n",
       "text                                                     \n",
       "And the LORD spake unto Moses, saying,                 72\n",
       "And the word of the LORD came unto me, saying,         12\n",
       "One young bullock, one ram, one lamb of the fir...     12\n",
       "One kid of the goats for a sin offering:               12\n",
       "One golden spoon of ten shekels, full of incense:      10\n",
       "...                                                   ...\n",
       "And Solomon had horses brought out of Egypt, an...      2\n",
       "The men of Anathoth, an hundred twenty and eight.       2\n",
       "And there was war between Asa and Baasha king o...      2\n",
       "There went up a smoke out of his nostrils, and ...      2\n",
       "Glory ye in his holy name: let the heart of the...      2\n",
       "\n",
       "[120 rows x 1 columns]"
      ]
     },
     "execution_count": 6,
     "metadata": {},
     "output_type": "execute_result"
    }
   ],
   "source": [
    "verse_counts_df = df['text'].value_counts().to_frame()\n",
    "verse_counts_df[verse_counts_df['count'] > 1]"
   ]
  },
  {
   "cell_type": "markdown",
   "id": "baf0e336",
   "metadata": {
    "papermill": {
     "duration": 0.006429,
     "end_time": "2025-02-17T18:49:13.883686",
     "exception": false,
     "start_time": "2025-02-17T18:49:13.877257",
     "status": "completed"
    },
    "tags": []
   },
   "source": [
    "There are 120 unique verses that appear more than once, and the most prevalent one appears 72 times. That seems like a lot."
   ]
  },
  {
   "cell_type": "markdown",
   "id": "bc22b6f9",
   "metadata": {
    "papermill": {
     "duration": 0.006463,
     "end_time": "2025-02-17T18:49:13.897156",
     "exception": false,
     "start_time": "2025-02-17T18:49:13.890693",
     "status": "completed"
    },
    "tags": []
   },
   "source": [
    "Before we proceed, let's note that chapter markings are uncommon in the oldest texts (Psalms being an exception) and verse markings were added much later, and different books are broken up into chapter and verse somewhat unevenly. "
   ]
  },
  {
   "cell_type": "markdown",
   "id": "0e2a5df7",
   "metadata": {
    "papermill": {
     "duration": 0.006366,
     "end_time": "2025-02-17T18:49:13.910175",
     "exception": false,
     "start_time": "2025-02-17T18:49:13.903809",
     "status": "completed"
    },
    "tags": []
   },
   "source": [
    "Which books have only one chapter?"
   ]
  },
  {
   "cell_type": "code",
   "execution_count": 7,
   "id": "7d202c4c",
   "metadata": {
    "execution": {
     "iopub.execute_input": "2025-02-17T18:49:13.924918Z",
     "iopub.status.busy": "2025-02-17T18:49:13.924569Z",
     "iopub.status.idle": "2025-02-17T18:49:13.941679Z",
     "shell.execute_reply": "2025-02-17T18:49:13.940542Z"
    },
    "papermill": {
     "duration": 0.026948,
     "end_time": "2025-02-17T18:49:13.943717",
     "exception": false,
     "start_time": "2025-02-17T18:49:13.916769",
     "status": "completed"
    },
    "tags": []
   },
   "outputs": [
    {
     "data": {
      "text/html": [
       "<div>\n",
       "<style scoped>\n",
       "    .dataframe tbody tr th:only-of-type {\n",
       "        vertical-align: middle;\n",
       "    }\n",
       "\n",
       "    .dataframe tbody tr th {\n",
       "        vertical-align: top;\n",
       "    }\n",
       "\n",
       "    .dataframe thead th {\n",
       "        text-align: right;\n",
       "    }\n",
       "</style>\n",
       "<table border=\"1\" class=\"dataframe\">\n",
       "  <thead>\n",
       "    <tr style=\"text-align: right;\">\n",
       "      <th>book</th>\n",
       "      <th>Philemon</th>\n",
       "      <th>Obadiah</th>\n",
       "      <th>2 John</th>\n",
       "      <th>3 John</th>\n",
       "      <th>Jude</th>\n",
       "    </tr>\n",
       "  </thead>\n",
       "  <tbody>\n",
       "    <tr>\n",
       "      <th>count</th>\n",
       "      <td>1</td>\n",
       "      <td>1</td>\n",
       "      <td>1</td>\n",
       "      <td>1</td>\n",
       "      <td>1</td>\n",
       "    </tr>\n",
       "  </tbody>\n",
       "</table>\n",
       "</div>"
      ],
      "text/plain": [
       "book   Philemon  Obadiah  2 John  3 John  Jude\n",
       "count         1        1       1       1     1"
      ]
     },
     "execution_count": 7,
     "metadata": {},
     "output_type": "execute_result"
    }
   ],
   "source": [
    "chapter_count_df = df[['book', 'chapter']].drop_duplicates(ignore_index=True)['book'].value_counts().to_frame()\n",
    "chapter_count_df[chapter_count_df['count'] == 1].T"
   ]
  },
  {
   "cell_type": "markdown",
   "id": "d794a044",
   "metadata": {
    "papermill": {
     "duration": 0.007354,
     "end_time": "2025-02-17T18:49:13.958171",
     "exception": false,
     "start_time": "2025-02-17T18:49:13.950817",
     "status": "completed"
    },
    "tags": []
   },
   "source": [
    "Which books are the longest when measured by chapters?"
   ]
  },
  {
   "cell_type": "code",
   "execution_count": 8,
   "id": "dc727dac",
   "metadata": {
    "execution": {
     "iopub.execute_input": "2025-02-17T18:49:13.973203Z",
     "iopub.status.busy": "2025-02-17T18:49:13.972838Z",
     "iopub.status.idle": "2025-02-17T18:49:13.985605Z",
     "shell.execute_reply": "2025-02-17T18:49:13.984372Z"
    },
    "papermill": {
     "duration": 0.022627,
     "end_time": "2025-02-17T18:49:13.987627",
     "exception": false,
     "start_time": "2025-02-17T18:49:13.965000",
     "status": "completed"
    },
    "tags": []
   },
   "outputs": [
    {
     "data": {
      "text/html": [
       "<div>\n",
       "<style scoped>\n",
       "    .dataframe tbody tr th:only-of-type {\n",
       "        vertical-align: middle;\n",
       "    }\n",
       "\n",
       "    .dataframe tbody tr th {\n",
       "        vertical-align: top;\n",
       "    }\n",
       "\n",
       "    .dataframe thead th {\n",
       "        text-align: right;\n",
       "    }\n",
       "</style>\n",
       "<table border=\"1\" class=\"dataframe\">\n",
       "  <thead>\n",
       "    <tr style=\"text-align: right;\">\n",
       "      <th>book</th>\n",
       "      <th>Psalms</th>\n",
       "      <th>Isaiah</th>\n",
       "      <th>Jeremiah</th>\n",
       "      <th>Genesis</th>\n",
       "      <th>Ezekiel</th>\n",
       "      <th>Job</th>\n",
       "      <th>Exodus</th>\n",
       "      <th>Numbers</th>\n",
       "      <th>2 Chronicles</th>\n",
       "      <th>Deuteronomy</th>\n",
       "      <th>Proverbs</th>\n",
       "      <th>1 Samuel</th>\n",
       "      <th>1 Chronicles</th>\n",
       "      <th>Acts</th>\n",
       "    </tr>\n",
       "  </thead>\n",
       "  <tbody>\n",
       "    <tr>\n",
       "      <th>count</th>\n",
       "      <td>150</td>\n",
       "      <td>66</td>\n",
       "      <td>52</td>\n",
       "      <td>50</td>\n",
       "      <td>48</td>\n",
       "      <td>42</td>\n",
       "      <td>40</td>\n",
       "      <td>36</td>\n",
       "      <td>36</td>\n",
       "      <td>34</td>\n",
       "      <td>31</td>\n",
       "      <td>31</td>\n",
       "      <td>29</td>\n",
       "      <td>28</td>\n",
       "    </tr>\n",
       "  </tbody>\n",
       "</table>\n",
       "</div>"
      ],
      "text/plain": [
       "book   Psalms  Isaiah  Jeremiah  Genesis  Ezekiel  Job  Exodus  Numbers  \\\n",
       "count     150      66        52       50       48   42      40       36   \n",
       "\n",
       "book   2 Chronicles  Deuteronomy  Proverbs  1 Samuel  1 Chronicles  Acts  \n",
       "count            36           34        31        31            29    28  "
      ]
     },
     "execution_count": 8,
     "metadata": {},
     "output_type": "execute_result"
    }
   ],
   "source": [
    "chapter_count_df.head(n=14).T"
   ]
  },
  {
   "cell_type": "markdown",
   "id": "0739117e",
   "metadata": {
    "papermill": {
     "duration": 0.006407,
     "end_time": "2025-02-17T18:49:14.001184",
     "exception": false,
     "start_time": "2025-02-17T18:49:13.994777",
     "status": "completed"
    },
    "tags": []
   },
   "source": [
    "The fourteenth longest overall in terms of chapters is the longest in the New Testament. "
   ]
  },
  {
   "cell_type": "code",
   "execution_count": 9,
   "id": "8c98e46f",
   "metadata": {
    "execution": {
     "iopub.execute_input": "2025-02-17T18:49:14.016107Z",
     "iopub.status.busy": "2025-02-17T18:49:14.015744Z",
     "iopub.status.idle": "2025-02-17T18:49:14.030126Z",
     "shell.execute_reply": "2025-02-17T18:49:14.028978Z"
    },
    "papermill": {
     "duration": 0.024037,
     "end_time": "2025-02-17T18:49:14.031945",
     "exception": false,
     "start_time": "2025-02-17T18:49:14.007908",
     "status": "completed"
    },
    "tags": []
   },
   "outputs": [
    {
     "data": {
      "text/html": [
       "<div>\n",
       "<style scoped>\n",
       "    .dataframe tbody tr th:only-of-type {\n",
       "        vertical-align: middle;\n",
       "    }\n",
       "\n",
       "    .dataframe tbody tr th {\n",
       "        vertical-align: top;\n",
       "    }\n",
       "\n",
       "    .dataframe thead th {\n",
       "        text-align: right;\n",
       "    }\n",
       "</style>\n",
       "<table border=\"1\" class=\"dataframe\">\n",
       "  <thead>\n",
       "    <tr style=\"text-align: right;\">\n",
       "      <th>book</th>\n",
       "      <th>Psalms</th>\n",
       "      <th>Genesis</th>\n",
       "      <th>Jeremiah</th>\n",
       "      <th>Isaiah</th>\n",
       "      <th>Numbers</th>\n",
       "      <th>Ezekiel</th>\n",
       "      <th>Exodus</th>\n",
       "      <th>Luke</th>\n",
       "      <th>Matthew</th>\n",
       "      <th>Job</th>\n",
       "    </tr>\n",
       "  </thead>\n",
       "  <tbody>\n",
       "    <tr>\n",
       "      <th>count</th>\n",
       "      <td>2461</td>\n",
       "      <td>1533</td>\n",
       "      <td>1364</td>\n",
       "      <td>1292</td>\n",
       "      <td>1288</td>\n",
       "      <td>1273</td>\n",
       "      <td>1213</td>\n",
       "      <td>1151</td>\n",
       "      <td>1071</td>\n",
       "      <td>1070</td>\n",
       "    </tr>\n",
       "  </tbody>\n",
       "</table>\n",
       "</div>"
      ],
      "text/plain": [
       "book   Psalms  Genesis  Jeremiah  Isaiah  Numbers  Ezekiel  Exodus  Luke  \\\n",
       "count    2461     1533      1364    1292     1288     1273    1213  1151   \n",
       "\n",
       "book   Matthew   Job  \n",
       "count     1071  1070  "
      ]
     },
     "execution_count": 9,
     "metadata": {},
     "output_type": "execute_result"
    }
   ],
   "source": [
    "df['book'].value_counts().to_frame().head(n=10).T"
   ]
  },
  {
   "cell_type": "markdown",
   "id": "ac619b44",
   "metadata": {
    "papermill": {
     "duration": 0.006904,
     "end_time": "2025-02-17T18:49:14.046191",
     "exception": false,
     "start_time": "2025-02-17T18:49:14.039287",
     "status": "completed"
    },
    "tags": []
   },
   "source": [
    "If we count verses instead of chapters, two New Testament books make the top ten."
   ]
  },
  {
   "cell_type": "code",
   "execution_count": 10,
   "id": "0fa8754a",
   "metadata": {
    "execution": {
     "iopub.execute_input": "2025-02-17T18:49:14.061627Z",
     "iopub.status.busy": "2025-02-17T18:49:14.061196Z",
     "iopub.status.idle": "2025-02-17T18:49:17.486923Z",
     "shell.execute_reply": "2025-02-17T18:49:17.485917Z"
    },
    "papermill": {
     "duration": 3.435729,
     "end_time": "2025-02-17T18:49:17.488964",
     "exception": false,
     "start_time": "2025-02-17T18:49:14.053235",
     "status": "completed"
    },
    "tags": []
   },
   "outputs": [
    {
     "data": {
      "text/html": [
       "<iframe\n",
       "    scrolling=\"no\"\n",
       "    width=\"100%\"\n",
       "    height=\"545px\"\n",
       "    src=\"iframe_figures/figure_10.html\"\n",
       "    frameborder=\"0\"\n",
       "    allowfullscreen\n",
       "></iframe>\n"
      ]
     },
     "metadata": {},
     "output_type": "display_data"
    }
   ],
   "source": [
    "from plotly import express\n",
    "from plotly import io\n",
    "\n",
    "io.renderers.default = 'iframe'\n",
    "\n",
    "express.bar(\n",
    "    data_frame=df[['book', 'chapter']].groupby(by='book').max().reset_index().sort_values(ascending=False, by='chapter'),\n",
    "    x='book', y='chapter',\n",
    ")\n"
   ]
  },
  {
   "cell_type": "code",
   "execution_count": 11,
   "id": "def6f113",
   "metadata": {
    "execution": {
     "iopub.execute_input": "2025-02-17T18:49:17.505691Z",
     "iopub.status.busy": "2025-02-17T18:49:17.505275Z",
     "iopub.status.idle": "2025-02-17T18:49:17.627823Z",
     "shell.execute_reply": "2025-02-17T18:49:17.626695Z"
    },
    "papermill": {
     "duration": 0.132881,
     "end_time": "2025-02-17T18:49:17.629984",
     "exception": false,
     "start_time": "2025-02-17T18:49:17.497103",
     "status": "completed"
    },
    "tags": []
   },
   "outputs": [
    {
     "data": {
      "text/html": [
       "<iframe\n",
       "    scrolling=\"no\"\n",
       "    width=\"100%\"\n",
       "    height=\"545px\"\n",
       "    src=\"iframe_figures/figure_11.html\"\n",
       "    frameborder=\"0\"\n",
       "    allowfullscreen\n",
       "></iframe>\n"
      ]
     },
     "metadata": {},
     "output_type": "display_data"
    }
   ],
   "source": [
    "express.bar(\n",
    "    data_frame=df[['book', 'verse']].groupby(by='book').size().reset_index().sort_values(ascending=False, by=0),\n",
    "    x='book', y=0,\n",
    ")\n"
   ]
  },
  {
   "cell_type": "markdown",
   "id": "ae2536fd",
   "metadata": {
    "papermill": {
     "duration": 0.006758,
     "end_time": "2025-02-17T18:49:17.644214",
     "exception": false,
     "start_time": "2025-02-17T18:49:17.637456",
     "status": "completed"
    },
    "tags": []
   },
   "source": [
    "Let's plot chapter and verse counts together. "
   ]
  },
  {
   "cell_type": "markdown",
   "id": "c01c4eef",
   "metadata": {
    "papermill": {
     "duration": 0.006636,
     "end_time": "2025-02-17T18:49:17.657966",
     "exception": false,
     "start_time": "2025-02-17T18:49:17.651330",
     "status": "completed"
    },
    "tags": []
   },
   "source": [
    "We sort of expect that the average chapter will have roughly the same number of verses across all books, so we kind of expect to see a linear plot here. But the bigger books are so much bigger than the smallest books we need a log plot to be able to see much at all."
   ]
  },
  {
   "cell_type": "code",
   "execution_count": 12,
   "id": "19806cf9",
   "metadata": {
    "execution": {
     "iopub.execute_input": "2025-02-17T18:49:17.673831Z",
     "iopub.status.busy": "2025-02-17T18:49:17.673411Z",
     "iopub.status.idle": "2025-02-17T18:49:17.831666Z",
     "shell.execute_reply": "2025-02-17T18:49:17.830504Z"
    },
    "papermill": {
     "duration": 0.168131,
     "end_time": "2025-02-17T18:49:17.833419",
     "exception": false,
     "start_time": "2025-02-17T18:49:17.665288",
     "status": "completed"
    },
    "tags": []
   },
   "outputs": [
    {
     "data": {
      "text/html": [
       "<iframe\n",
       "    scrolling=\"no\"\n",
       "    width=\"100%\"\n",
       "    height=\"545px\"\n",
       "    src=\"iframe_figures/figure_12.html\"\n",
       "    frameborder=\"0\"\n",
       "    allowfullscreen\n",
       "></iframe>\n"
      ]
     },
     "metadata": {},
     "output_type": "display_data"
    }
   ],
   "source": [
    "express.scatter(\n",
    "    data_frame=df[['book', 'verse']].groupby(by='book').size().reset_index().sort_values(ascending=False, by=0).merge(\n",
    "    right=df[['book', 'chapter']].groupby(by='book').max().reset_index().sort_values(ascending=False, by='chapter'),\n",
    "    on='book', how='inner').rename(columns={0: 'verse'}),\n",
    "    x='chapter', y='verse', log_x=True, log_y=True, hover_name='book',\n",
    ")\n"
   ]
  },
  {
   "cell_type": "markdown",
   "id": "2a82af87",
   "metadata": {
    "papermill": {
     "duration": 0.007261,
     "end_time": "2025-02-17T18:49:17.848225",
     "exception": false,
     "start_time": "2025-02-17T18:49:17.840964",
     "status": "completed"
    },
    "tags": []
   },
   "source": [
    "Let's take the data from the scatter plot above and put it in a DataFrame and then look at the distribution of average verses per chapter."
   ]
  },
  {
   "cell_type": "code",
   "execution_count": 13,
   "id": "efbb91af",
   "metadata": {
    "execution": {
     "iopub.execute_input": "2025-02-17T18:49:17.869003Z",
     "iopub.status.busy": "2025-02-17T18:49:17.868394Z",
     "iopub.status.idle": "2025-02-17T18:49:18.041475Z",
     "shell.execute_reply": "2025-02-17T18:49:18.040343Z"
    },
    "papermill": {
     "duration": 0.187212,
     "end_time": "2025-02-17T18:49:18.043256",
     "exception": false,
     "start_time": "2025-02-17T18:49:17.856044",
     "status": "completed"
    },
    "tags": []
   },
   "outputs": [
    {
     "data": {
      "text/html": [
       "<iframe\n",
       "    scrolling=\"no\"\n",
       "    width=\"100%\"\n",
       "    height=\"545px\"\n",
       "    src=\"iframe_figures/figure_13.html\"\n",
       "    frameborder=\"0\"\n",
       "    allowfullscreen\n",
       "></iframe>\n"
      ]
     },
     "metadata": {},
     "output_type": "display_data"
    }
   ],
   "source": [
    "book_df = df[['book', 'verse']].groupby(by='book').size().reset_index().sort_values(ascending=False, by=0).merge(\n",
    "    right=df[['book', 'chapter']].groupby(by='book').max().reset_index().sort_values(ascending=False, by='chapter'),\n",
    "    on='book', how='inner').rename(columns={0: 'verse'})\n",
    "book_df['vpc'] = book_df['verse'] / book_df['chapter']\n",
    "express.histogram(data_frame=book_df, x='vpc', nbins=66)"
   ]
  },
  {
   "cell_type": "markdown",
   "id": "52b654fd",
   "metadata": {
    "papermill": {
     "duration": 0.007006,
     "end_time": "2025-02-17T18:49:18.058227",
     "exception": false,
     "start_time": "2025-02-17T18:49:18.051221",
     "status": "completed"
    },
    "tags": []
   },
   "source": [
    "Verses per chapter on average are distributed unevenly. Let's plot them."
   ]
  },
  {
   "cell_type": "code",
   "execution_count": 14,
   "id": "c23adb10",
   "metadata": {
    "execution": {
     "iopub.execute_input": "2025-02-17T18:49:18.074373Z",
     "iopub.status.busy": "2025-02-17T18:49:18.074026Z",
     "iopub.status.idle": "2025-02-17T18:49:18.196885Z",
     "shell.execute_reply": "2025-02-17T18:49:18.195916Z"
    },
    "papermill": {
     "duration": 0.133059,
     "end_time": "2025-02-17T18:49:18.198725",
     "exception": false,
     "start_time": "2025-02-17T18:49:18.065666",
     "status": "completed"
    },
    "tags": []
   },
   "outputs": [
    {
     "data": {
      "text/html": [
       "<iframe\n",
       "    scrolling=\"no\"\n",
       "    width=\"100%\"\n",
       "    height=\"545px\"\n",
       "    src=\"iframe_figures/figure_14.html\"\n",
       "    frameborder=\"0\"\n",
       "    allowfullscreen\n",
       "></iframe>\n"
      ]
     },
     "metadata": {},
     "output_type": "display_data"
    }
   ],
   "source": [
    "express.scatter(data_frame=book_df, x='chapter', y='vpc', color='verse', hover_name='book', log_x=True, log_y=False)"
   ]
  },
  {
   "cell_type": "markdown",
   "id": "2846c139",
   "metadata": {
    "papermill": {
     "duration": 0.00712,
     "end_time": "2025-02-17T18:49:18.213625",
     "exception": false,
     "start_time": "2025-02-17T18:49:18.206505",
     "status": "completed"
    },
    "tags": []
   },
   "source": [
    "Interestingly, almost all of the top verses per chapter books are primarily narrative. The books above 35 verses per chapter include all four Gospels and Acts, along with I Kings and Numbers."
   ]
  }
 ],
 "metadata": {
  "kaggle": {
   "accelerator": "none",
   "dataSources": [
    {
     "datasetId": 6674768,
     "sourceId": 10760568,
     "sourceType": "datasetVersion"
    }
   ],
   "dockerImageVersionId": 30886,
   "isGpuEnabled": false,
   "isInternetEnabled": true,
   "language": "python",
   "sourceType": "notebook"
  },
  "kernelspec": {
   "display_name": "Python 3",
   "language": "python",
   "name": "python3"
  },
  "language_info": {
   "codemirror_mode": {
    "name": "ipython",
    "version": 3
   },
   "file_extension": ".py",
   "mimetype": "text/x-python",
   "name": "python",
   "nbconvert_exporter": "python",
   "pygments_lexer": "ipython3",
   "version": "3.10.12"
  },
  "papermill": {
   "default_parameters": {},
   "duration": 9.746061,
   "end_time": "2025-02-17T18:49:18.942861",
   "environment_variables": {},
   "exception": null,
   "input_path": "__notebook__.ipynb",
   "output_path": "__notebook__.ipynb",
   "parameters": {},
   "start_time": "2025-02-17T18:49:09.196800",
   "version": "2.6.0"
  }
 },
 "nbformat": 4,
 "nbformat_minor": 5
}
