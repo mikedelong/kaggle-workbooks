{
 "cells": [
  {
   "cell_type": "code",
   "execution_count": 1,
   "id": "47de92b0",
   "metadata": {
    "_cell_guid": "b1076dfc-b9ad-4769-8c92-a6c4dae69d19",
    "_uuid": "8f2839f25d086af736a60e9eeb907d3b93b6e0e5",
    "execution": {
     "iopub.execute_input": "2025-02-17T18:10:31.353528Z",
     "iopub.status.busy": "2025-02-17T18:10:31.353113Z",
     "iopub.status.idle": "2025-02-17T18:10:32.664978Z",
     "shell.execute_reply": "2025-02-17T18:10:32.663668Z"
    },
    "papermill": {
     "duration": 1.322585,
     "end_time": "2025-02-17T18:10:32.669651",
     "exception": false,
     "start_time": "2025-02-17T18:10:31.347066",
     "status": "completed"
    },
    "tags": []
   },
   "outputs": [
    {
     "data": {
      "text/html": [
       "<div>\n",
       "<style scoped>\n",
       "    .dataframe tbody tr th:only-of-type {\n",
       "        vertical-align: middle;\n",
       "    }\n",
       "\n",
       "    .dataframe tbody tr th {\n",
       "        vertical-align: top;\n",
       "    }\n",
       "\n",
       "    .dataframe thead th {\n",
       "        text-align: right;\n",
       "    }\n",
       "</style>\n",
       "<table border=\"1\" class=\"dataframe\">\n",
       "  <thead>\n",
       "    <tr style=\"text-align: right;\">\n",
       "      <th></th>\n",
       "      <th>book_number</th>\n",
       "      <th>chapter</th>\n",
       "      <th>verse</th>\n",
       "      <th>text</th>\n",
       "      <th>book</th>\n",
       "      <th>age</th>\n",
       "    </tr>\n",
       "  </thead>\n",
       "  <tbody>\n",
       "    <tr>\n",
       "      <th>0</th>\n",
       "      <td>1</td>\n",
       "      <td>1</td>\n",
       "      <td>1</td>\n",
       "      <td>In the beginning God created the heaven and th...</td>\n",
       "      <td>Genesis</td>\n",
       "      <td>1</td>\n",
       "    </tr>\n",
       "    <tr>\n",
       "      <th>1</th>\n",
       "      <td>1</td>\n",
       "      <td>1</td>\n",
       "      <td>2</td>\n",
       "      <td>And the earth was without form, and void; and ...</td>\n",
       "      <td>Genesis</td>\n",
       "      <td>1</td>\n",
       "    </tr>\n",
       "    <tr>\n",
       "      <th>2</th>\n",
       "      <td>1</td>\n",
       "      <td>1</td>\n",
       "      <td>3</td>\n",
       "      <td>And God said, Let there be light: and there wa...</td>\n",
       "      <td>Genesis</td>\n",
       "      <td>1</td>\n",
       "    </tr>\n",
       "    <tr>\n",
       "      <th>3</th>\n",
       "      <td>1</td>\n",
       "      <td>1</td>\n",
       "      <td>4</td>\n",
       "      <td>And God saw the light, that it was good: and G...</td>\n",
       "      <td>Genesis</td>\n",
       "      <td>1</td>\n",
       "    </tr>\n",
       "    <tr>\n",
       "      <th>4</th>\n",
       "      <td>1</td>\n",
       "      <td>1</td>\n",
       "      <td>5</td>\n",
       "      <td>And God called the light Day, and the darkness...</td>\n",
       "      <td>Genesis</td>\n",
       "      <td>1</td>\n",
       "    </tr>\n",
       "  </tbody>\n",
       "</table>\n",
       "</div>"
      ],
      "text/plain": [
       "   book_number  chapter  verse  \\\n",
       "0            1        1      1   \n",
       "1            1        1      2   \n",
       "2            1        1      3   \n",
       "3            1        1      4   \n",
       "4            1        1      5   \n",
       "\n",
       "                                                text     book  age  \n",
       "0  In the beginning God created the heaven and th...  Genesis    1  \n",
       "1  And the earth was without form, and void; and ...  Genesis    1  \n",
       "2  And God said, Let there be light: and there wa...  Genesis    1  \n",
       "3  And God saw the light, that it was good: and G...  Genesis    1  \n",
       "4  And God called the light Day, and the darkness...  Genesis    1  "
      ]
     },
     "execution_count": 1,
     "metadata": {},
     "output_type": "execute_result"
    }
   ],
   "source": [
    "import pandas as pd\n",
    "\n",
    "KJV = '/kaggle/input/bible-text-by-age/kjv_with_age.csv'\n",
    "df = pd.read_csv(filepath_or_buffer=KJV).drop(columns=['id'])\n",
    "df.columns = ['book_number', 'chapter', 'verse', 'text', 'book', 'age']\n",
    "df.head()"
   ]
  },
  {
   "cell_type": "markdown",
   "id": "57c8c1e3",
   "metadata": {
    "papermill": {
     "duration": 0.003222,
     "end_time": "2025-02-17T18:10:32.676717",
     "exception": false,
     "start_time": "2025-02-17T18:10:32.673495",
     "status": "completed"
    },
    "tags": []
   },
   "source": [
    "First let's do some basic counts. "
   ]
  },
  {
   "cell_type": "code",
   "execution_count": 2,
   "id": "19ff90f8",
   "metadata": {
    "execution": {
     "iopub.execute_input": "2025-02-17T18:10:32.685487Z",
     "iopub.status.busy": "2025-02-17T18:10:32.684968Z",
     "iopub.status.idle": "2025-02-17T18:10:32.728029Z",
     "shell.execute_reply": "2025-02-17T18:10:32.726854Z"
    },
    "papermill": {
     "duration": 0.049409,
     "end_time": "2025-02-17T18:10:32.729845",
     "exception": false,
     "start_time": "2025-02-17T18:10:32.680436",
     "status": "completed"
    },
    "tags": []
   },
   "outputs": [
    {
     "data": {
      "text/html": [
       "<div>\n",
       "<style scoped>\n",
       "    .dataframe tbody tr th:only-of-type {\n",
       "        vertical-align: middle;\n",
       "    }\n",
       "\n",
       "    .dataframe tbody tr th {\n",
       "        vertical-align: top;\n",
       "    }\n",
       "\n",
       "    .dataframe thead th {\n",
       "        text-align: right;\n",
       "    }\n",
       "</style>\n",
       "<table border=\"1\" class=\"dataframe\">\n",
       "  <thead>\n",
       "    <tr style=\"text-align: right;\">\n",
       "      <th></th>\n",
       "      <th>book_number</th>\n",
       "      <th>chapter</th>\n",
       "      <th>verse</th>\n",
       "      <th>text</th>\n",
       "      <th>book</th>\n",
       "      <th>age</th>\n",
       "    </tr>\n",
       "  </thead>\n",
       "  <tbody>\n",
       "    <tr>\n",
       "      <th>0</th>\n",
       "      <td>66</td>\n",
       "      <td>150</td>\n",
       "      <td>176</td>\n",
       "      <td>30834</td>\n",
       "      <td>66</td>\n",
       "      <td>11</td>\n",
       "    </tr>\n",
       "  </tbody>\n",
       "</table>\n",
       "</div>"
      ],
      "text/plain": [
       "   book_number  chapter  verse   text  book  age\n",
       "0           66      150    176  30834    66   11"
      ]
     },
     "execution_count": 2,
     "metadata": {},
     "output_type": "execute_result"
    }
   ],
   "source": [
    "df.nunique().to_frame().T"
   ]
  },
  {
   "cell_type": "markdown",
   "id": "db46db9f",
   "metadata": {
    "papermill": {
     "duration": 0.003454,
     "end_time": "2025-02-17T18:10:32.737149",
     "exception": false,
     "start_time": "2025-02-17T18:10:32.733695",
     "status": "completed"
    },
    "tags": []
   },
   "source": [
    "We know from the data card that there are eleven ages. How many books are in each age?"
   ]
  },
  {
   "cell_type": "code",
   "execution_count": 3,
   "id": "614e4316",
   "metadata": {
    "execution": {
     "iopub.execute_input": "2025-02-17T18:10:32.745808Z",
     "iopub.status.busy": "2025-02-17T18:10:32.745346Z",
     "iopub.status.idle": "2025-02-17T18:10:32.781206Z",
     "shell.execute_reply": "2025-02-17T18:10:32.779927Z"
    },
    "papermill": {
     "duration": 0.042438,
     "end_time": "2025-02-17T18:10:32.783273",
     "exception": false,
     "start_time": "2025-02-17T18:10:32.740835",
     "status": "completed"
    },
    "tags": []
   },
   "outputs": [
    {
     "data": {
      "text/html": [
       "<div>\n",
       "<style scoped>\n",
       "    .dataframe tbody tr th:only-of-type {\n",
       "        vertical-align: middle;\n",
       "    }\n",
       "\n",
       "    .dataframe tbody tr th {\n",
       "        vertical-align: top;\n",
       "    }\n",
       "\n",
       "    .dataframe thead th {\n",
       "        text-align: right;\n",
       "    }\n",
       "</style>\n",
       "<table border=\"1\" class=\"dataframe\">\n",
       "  <thead>\n",
       "    <tr style=\"text-align: right;\">\n",
       "      <th></th>\n",
       "      <th>0</th>\n",
       "      <th>299</th>\n",
       "      <th>1533</th>\n",
       "      <th>2746</th>\n",
       "      <th>3605</th>\n",
       "      <th>4893</th>\n",
       "      <th>5852</th>\n",
       "      <th>6510</th>\n",
       "      <th>7128</th>\n",
       "      <th>7213</th>\n",
       "      <th>...</th>\n",
       "      <th>29939</th>\n",
       "      <th>29964</th>\n",
       "      <th>30267</th>\n",
       "      <th>30375</th>\n",
       "      <th>30480</th>\n",
       "      <th>30541</th>\n",
       "      <th>30646</th>\n",
       "      <th>30659</th>\n",
       "      <th>30674</th>\n",
       "      <th>30699</th>\n",
       "    </tr>\n",
       "  </thead>\n",
       "  <tbody>\n",
       "    <tr>\n",
       "      <th>book</th>\n",
       "      <td>Genesis</td>\n",
       "      <td>Genesis</td>\n",
       "      <td>Exodus</td>\n",
       "      <td>Leviticus</td>\n",
       "      <td>Numbers</td>\n",
       "      <td>Deuteronomy</td>\n",
       "      <td>Joshua</td>\n",
       "      <td>Judges</td>\n",
       "      <td>Ruth</td>\n",
       "      <td>1 Samuel</td>\n",
       "      <td>...</td>\n",
       "      <td>Philemon</td>\n",
       "      <td>Hebrews</td>\n",
       "      <td>James</td>\n",
       "      <td>1 Peter</td>\n",
       "      <td>2 Peter</td>\n",
       "      <td>1 John</td>\n",
       "      <td>2 John</td>\n",
       "      <td>3 John</td>\n",
       "      <td>Jude</td>\n",
       "      <td>Revelation</td>\n",
       "    </tr>\n",
       "    <tr>\n",
       "      <th>age</th>\n",
       "      <td>1</td>\n",
       "      <td>2</td>\n",
       "      <td>3</td>\n",
       "      <td>3</td>\n",
       "      <td>3</td>\n",
       "      <td>3</td>\n",
       "      <td>3</td>\n",
       "      <td>4</td>\n",
       "      <td>4</td>\n",
       "      <td>4</td>\n",
       "      <td>...</td>\n",
       "      <td>11</td>\n",
       "      <td>11</td>\n",
       "      <td>11</td>\n",
       "      <td>11</td>\n",
       "      <td>11</td>\n",
       "      <td>11</td>\n",
       "      <td>11</td>\n",
       "      <td>11</td>\n",
       "      <td>11</td>\n",
       "      <td>12</td>\n",
       "    </tr>\n",
       "  </tbody>\n",
       "</table>\n",
       "<p>2 rows × 69 columns</p>\n",
       "</div>"
      ],
      "text/plain": [
       "        0        299     1533       2746     3605         4893    5852   \\\n",
       "book  Genesis  Genesis  Exodus  Leviticus  Numbers  Deuteronomy  Joshua   \n",
       "age         1        2       3          3        3            3       3   \n",
       "\n",
       "       6510  7128      7213   ...     29939    29964  30267    30375    30480  \\\n",
       "book  Judges  Ruth  1 Samuel  ...  Philemon  Hebrews  James  1 Peter  2 Peter   \n",
       "age        4     4         4  ...        11       11     11       11       11   \n",
       "\n",
       "       30541   30646   30659 30674       30699  \n",
       "book  1 John  2 John  3 John  Jude  Revelation  \n",
       "age       11      11      11    11          12  \n",
       "\n",
       "[2 rows x 69 columns]"
      ]
     },
     "execution_count": 3,
     "metadata": {},
     "output_type": "execute_result"
    }
   ],
   "source": [
    "df[['book', 'age']].drop_duplicates().T"
   ]
  },
  {
   "cell_type": "markdown",
   "id": "db4ad5e9",
   "metadata": {
    "papermill": {
     "duration": 0.00345,
     "end_time": "2025-02-17T18:10:32.790790",
     "exception": false,
     "start_time": "2025-02-17T18:10:32.787340",
     "status": "completed"
    },
    "tags": []
   },
   "source": [
    "It turns out there are some books that fit into more than one age, but we should be able to approximate the answer we want without having to allocate any of those books to one age or the other."
   ]
  },
  {
   "cell_type": "code",
   "execution_count": 4,
   "id": "c3aca297",
   "metadata": {
    "execution": {
     "iopub.execute_input": "2025-02-17T18:10:32.804642Z",
     "iopub.status.busy": "2025-02-17T18:10:32.804130Z",
     "iopub.status.idle": "2025-02-17T18:10:32.834498Z",
     "shell.execute_reply": "2025-02-17T18:10:32.833313Z"
    },
    "papermill": {
     "duration": 0.040167,
     "end_time": "2025-02-17T18:10:32.836865",
     "exception": false,
     "start_time": "2025-02-17T18:10:32.796698",
     "status": "completed"
    },
    "tags": []
   },
   "outputs": [
    {
     "data": {
      "text/html": [
       "<div>\n",
       "<style scoped>\n",
       "    .dataframe tbody tr th:only-of-type {\n",
       "        vertical-align: middle;\n",
       "    }\n",
       "\n",
       "    .dataframe tbody tr th {\n",
       "        vertical-align: top;\n",
       "    }\n",
       "\n",
       "    .dataframe thead th {\n",
       "        text-align: right;\n",
       "    }\n",
       "</style>\n",
       "<table border=\"1\" class=\"dataframe\">\n",
       "  <thead>\n",
       "    <tr style=\"text-align: right;\">\n",
       "      <th>age</th>\n",
       "      <th>1</th>\n",
       "      <th>2</th>\n",
       "      <th>3</th>\n",
       "      <th>4</th>\n",
       "      <th>5</th>\n",
       "      <th>6</th>\n",
       "      <th>7</th>\n",
       "      <th>8</th>\n",
       "      <th>10</th>\n",
       "      <th>11</th>\n",
       "      <th>12</th>\n",
       "    </tr>\n",
       "  </thead>\n",
       "  <tbody>\n",
       "    <tr>\n",
       "      <th>count</th>\n",
       "      <td>1</td>\n",
       "      <td>2</td>\n",
       "      <td>5</td>\n",
       "      <td>3</td>\n",
       "      <td>8</td>\n",
       "      <td>9</td>\n",
       "      <td>8</td>\n",
       "      <td>6</td>\n",
       "      <td>4</td>\n",
       "      <td>22</td>\n",
       "      <td>1</td>\n",
       "    </tr>\n",
       "  </tbody>\n",
       "</table>\n",
       "</div>"
      ],
      "text/plain": [
       "age    1   2   3   4   5   6   7   8   10  11  12\n",
       "count   1   2   5   3   8   9   8   6   4  22   1"
      ]
     },
     "execution_count": 4,
     "metadata": {},
     "output_type": "execute_result"
    }
   ],
   "source": [
    "df[['book', 'age']].drop_duplicates()['age'].value_counts().sort_index().to_frame().T"
   ]
  },
  {
   "cell_type": "markdown",
   "id": "117554e2",
   "metadata": {
    "papermill": {
     "duration": 0.006329,
     "end_time": "2025-02-17T18:10:32.850492",
     "exception": false,
     "start_time": "2025-02-17T18:10:32.844163",
     "status": "completed"
    },
    "tags": []
   },
   "source": [
    "This is an interesting results; we have two ages with one book each and one with none. "
   ]
  },
  {
   "cell_type": "code",
   "execution_count": 5,
   "id": "4e08ff1d",
   "metadata": {
    "execution": {
     "iopub.execute_input": "2025-02-17T18:10:32.860456Z",
     "iopub.status.busy": "2025-02-17T18:10:32.859964Z",
     "iopub.status.idle": "2025-02-17T18:10:32.879351Z",
     "shell.execute_reply": "2025-02-17T18:10:32.878259Z"
    },
    "papermill": {
     "duration": 0.02647,
     "end_time": "2025-02-17T18:10:32.881307",
     "exception": false,
     "start_time": "2025-02-17T18:10:32.854837",
     "status": "completed"
    },
    "tags": []
   },
   "outputs": [
    {
     "data": {
      "text/html": [
       "<div>\n",
       "<style scoped>\n",
       "    .dataframe tbody tr th:only-of-type {\n",
       "        vertical-align: middle;\n",
       "    }\n",
       "\n",
       "    .dataframe tbody tr th {\n",
       "        vertical-align: top;\n",
       "    }\n",
       "\n",
       "    .dataframe thead th {\n",
       "        text-align: right;\n",
       "    }\n",
       "</style>\n",
       "<table border=\"1\" class=\"dataframe\">\n",
       "  <thead>\n",
       "    <tr style=\"text-align: right;\">\n",
       "      <th></th>\n",
       "      <th>book</th>\n",
       "      <th>age</th>\n",
       "    </tr>\n",
       "  </thead>\n",
       "  <tbody>\n",
       "    <tr>\n",
       "      <th>1</th>\n",
       "      <td>Genesis</td>\n",
       "      <td>2</td>\n",
       "    </tr>\n",
       "    <tr>\n",
       "      <th>20</th>\n",
       "      <td>Job</td>\n",
       "      <td>2</td>\n",
       "    </tr>\n",
       "  </tbody>\n",
       "</table>\n",
       "</div>"
      ],
      "text/plain": [
       "       book  age\n",
       "1   Genesis    2\n",
       "20      Job    2"
      ]
     },
     "execution_count": 5,
     "metadata": {},
     "output_type": "execute_result"
    }
   ],
   "source": [
    "ages_df = df[['book', 'age']].drop_duplicates(ignore_index=True)\n",
    "ages_df[ages_df['age'] == 2]"
   ]
  },
  {
   "cell_type": "markdown",
   "id": "a3382890",
   "metadata": {
    "papermill": {
     "duration": 0.004808,
     "end_time": "2025-02-17T18:10:32.890497",
     "exception": false,
     "start_time": "2025-02-17T18:10:32.885689",
     "status": "completed"
    },
    "tags": []
   },
   "source": [
    "The source of this dataset puts an early date on Job, which is not exactly controversial, but neither is it universally accepted."
   ]
  },
  {
   "cell_type": "markdown",
   "id": "1fd7db49",
   "metadata": {
    "papermill": {
     "duration": 0.003782,
     "end_time": "2025-02-17T18:10:32.898344",
     "exception": false,
     "start_time": "2025-02-17T18:10:32.894562",
     "status": "completed"
    },
    "tags": []
   },
   "source": [
    "There are multiple interesting judgment calls in putting books into ages, but they're not all interesting enough to dig into here."
   ]
  },
  {
   "cell_type": "markdown",
   "id": "915b02d7",
   "metadata": {
    "papermill": {
     "duration": 0.003801,
     "end_time": "2025-02-17T18:10:32.906175",
     "exception": false,
     "start_time": "2025-02-17T18:10:32.902374",
     "status": "completed"
    },
    "tags": []
   },
   "source": [
    "Instead let's look at the verses that are identical. How many would we expect to find?"
   ]
  },
  {
   "cell_type": "code",
   "execution_count": 6,
   "id": "3f2f97bb",
   "metadata": {
    "execution": {
     "iopub.execute_input": "2025-02-17T18:10:32.916723Z",
     "iopub.status.busy": "2025-02-17T18:10:32.916205Z",
     "iopub.status.idle": "2025-02-17T18:10:32.968543Z",
     "shell.execute_reply": "2025-02-17T18:10:32.967277Z"
    },
    "papermill": {
     "duration": 0.060481,
     "end_time": "2025-02-17T18:10:32.970798",
     "exception": false,
     "start_time": "2025-02-17T18:10:32.910317",
     "status": "completed"
    },
    "tags": []
   },
   "outputs": [
    {
     "data": {
      "text/html": [
       "<div>\n",
       "<style scoped>\n",
       "    .dataframe tbody tr th:only-of-type {\n",
       "        vertical-align: middle;\n",
       "    }\n",
       "\n",
       "    .dataframe tbody tr th {\n",
       "        vertical-align: top;\n",
       "    }\n",
       "\n",
       "    .dataframe thead th {\n",
       "        text-align: right;\n",
       "    }\n",
       "</style>\n",
       "<table border=\"1\" class=\"dataframe\">\n",
       "  <thead>\n",
       "    <tr style=\"text-align: right;\">\n",
       "      <th></th>\n",
       "      <th>count</th>\n",
       "    </tr>\n",
       "    <tr>\n",
       "      <th>text</th>\n",
       "      <th></th>\n",
       "    </tr>\n",
       "  </thead>\n",
       "  <tbody>\n",
       "    <tr>\n",
       "      <th>And the LORD spake unto Moses, saying,</th>\n",
       "      <td>72</td>\n",
       "    </tr>\n",
       "    <tr>\n",
       "      <th>And the word of the LORD came unto me, saying,</th>\n",
       "      <td>12</td>\n",
       "    </tr>\n",
       "    <tr>\n",
       "      <th>One young bullock, one ram, one lamb of the first year, for a burnt offering:</th>\n",
       "      <td>12</td>\n",
       "    </tr>\n",
       "    <tr>\n",
       "      <th>One kid of the goats for a sin offering:</th>\n",
       "      <td>12</td>\n",
       "    </tr>\n",
       "    <tr>\n",
       "      <th>One golden spoon of ten shekels, full of incense:</th>\n",
       "      <td>10</td>\n",
       "    </tr>\n",
       "    <tr>\n",
       "      <th>...</th>\n",
       "      <td>...</td>\n",
       "    </tr>\n",
       "    <tr>\n",
       "      <th>And Solomon had horses brought out of Egypt, and linen yarn: the king's merchants received the linen yarn at a price.</th>\n",
       "      <td>2</td>\n",
       "    </tr>\n",
       "    <tr>\n",
       "      <th>The men of Anathoth, an hundred twenty and eight.</th>\n",
       "      <td>2</td>\n",
       "    </tr>\n",
       "    <tr>\n",
       "      <th>And there was war between Asa and Baasha king of Israel all their days.</th>\n",
       "      <td>2</td>\n",
       "    </tr>\n",
       "    <tr>\n",
       "      <th>There went up a smoke out of his nostrils, and fire out of his mouth devoured: coals were kindled by it.</th>\n",
       "      <td>2</td>\n",
       "    </tr>\n",
       "    <tr>\n",
       "      <th>Glory ye in his holy name: let the heart of them rejoice that seek the LORD.</th>\n",
       "      <td>2</td>\n",
       "    </tr>\n",
       "  </tbody>\n",
       "</table>\n",
       "<p>120 rows × 1 columns</p>\n",
       "</div>"
      ],
      "text/plain": [
       "                                                    count\n",
       "text                                                     \n",
       "And the LORD spake unto Moses, saying,                 72\n",
       "And the word of the LORD came unto me, saying,         12\n",
       "One young bullock, one ram, one lamb of the fir...     12\n",
       "One kid of the goats for a sin offering:               12\n",
       "One golden spoon of ten shekels, full of incense:      10\n",
       "...                                                   ...\n",
       "And Solomon had horses brought out of Egypt, an...      2\n",
       "The men of Anathoth, an hundred twenty and eight.       2\n",
       "And there was war between Asa and Baasha king o...      2\n",
       "There went up a smoke out of his nostrils, and ...      2\n",
       "Glory ye in his holy name: let the heart of the...      2\n",
       "\n",
       "[120 rows x 1 columns]"
      ]
     },
     "execution_count": 6,
     "metadata": {},
     "output_type": "execute_result"
    }
   ],
   "source": [
    "verse_counts_df = df['text'].value_counts().to_frame()\n",
    "verse_counts_df[verse_counts_df['count'] > 1]"
   ]
  },
  {
   "cell_type": "markdown",
   "id": "fe24ef42",
   "metadata": {
    "papermill": {
     "duration": 0.004124,
     "end_time": "2025-02-17T18:10:32.979562",
     "exception": false,
     "start_time": "2025-02-17T18:10:32.975438",
     "status": "completed"
    },
    "tags": []
   },
   "source": [
    "There are 120 unique verses that appear more than once, and the most prevalent one appears 72 times. That seems like a lot."
   ]
  }
 ],
 "metadata": {
  "kaggle": {
   "accelerator": "none",
   "dataSources": [
    {
     "datasetId": 6674768,
     "sourceId": 10760568,
     "sourceType": "datasetVersion"
    }
   ],
   "dockerImageVersionId": 30886,
   "isGpuEnabled": false,
   "isInternetEnabled": true,
   "language": "python",
   "sourceType": "notebook"
  },
  "kernelspec": {
   "display_name": "Python 3",
   "language": "python",
   "name": "python3"
  },
  "language_info": {
   "codemirror_mode": {
    "name": "ipython",
    "version": 3
   },
   "file_extension": ".py",
   "mimetype": "text/x-python",
   "name": "python",
   "nbconvert_exporter": "python",
   "pygments_lexer": "ipython3",
   "version": "3.10.12"
  },
  "papermill": {
   "default_parameters": {},
   "duration": 5.204351,
   "end_time": "2025-02-17T18:10:33.605618",
   "environment_variables": {},
   "exception": null,
   "input_path": "__notebook__.ipynb",
   "output_path": "__notebook__.ipynb",
   "parameters": {},
   "start_time": "2025-02-17T18:10:28.401267",
   "version": "2.6.0"
  }
 },
 "nbformat": 4,
 "nbformat_minor": 5
}
