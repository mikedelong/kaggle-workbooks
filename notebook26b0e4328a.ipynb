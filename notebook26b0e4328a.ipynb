{
 "cells": [
  {
   "cell_type": "code",
   "execution_count": 1,
   "id": "6618ebab",
   "metadata": {
    "execution": {
     "iopub.execute_input": "2023-06-17T15:11:40.815731Z",
     "iopub.status.busy": "2023-06-17T15:11:40.815309Z",
     "iopub.status.idle": "2023-06-17T15:11:40.828501Z",
     "shell.execute_reply": "2023-06-17T15:11:40.827655Z"
    },
    "papermill": {
     "duration": 0.02062,
     "end_time": "2023-06-17T15:11:40.830849",
     "exception": false,
     "start_time": "2023-06-17T15:11:40.810229",
     "status": "completed"
    },
    "tags": []
   },
   "outputs": [],
   "source": [
    "from logging import Formatter\n",
    "from logging import getLogger\n",
    "from logging import INFO\n",
    "from logging import StreamHandler\n",
    "\n",
    "logger = getLogger(__name__)\n",
    "logger.handlers.clear()\n",
    "handler = StreamHandler()\n",
    "handler.setLevel(INFO)\n",
    "handler.setFormatter(Formatter('%(name)s - %(asctime)s - %(levelname)s - %(message)s'))\n",
    "logger.addHandler(handler)"
   ]
  },
  {
   "cell_type": "code",
   "execution_count": 2,
   "id": "4ba40161",
   "metadata": {
    "execution": {
     "iopub.execute_input": "2023-06-17T15:11:40.838689Z",
     "iopub.status.busy": "2023-06-17T15:11:40.837684Z",
     "iopub.status.idle": "2023-06-17T15:11:40.851129Z",
     "shell.execute_reply": "2023-06-17T15:11:40.850164Z"
    },
    "papermill": {
     "duration": 0.019769,
     "end_time": "2023-06-17T15:11:40.853561",
     "exception": false,
     "start_time": "2023-06-17T15:11:40.833792",
     "status": "completed"
    },
    "tags": []
   },
   "outputs": [
    {
     "name": "stderr",
     "output_type": "stream",
     "text": [
      "__main__ - 2023-06-17 15:11:40,847 - INFO - ../input/chess/games.csv\n"
     ]
    }
   ],
   "source": [
    "from os import walk\n",
    "from os.path import join\n",
    "\n",
    "for dirname, _, filenames in walk('../input/chess/'):\n",
    "    for filename in filenames:\n",
    "        logger.info(msg=join(dirname, filename))"
   ]
  },
  {
   "cell_type": "code",
   "execution_count": 3,
   "id": "8fabd7b8",
   "metadata": {
    "execution": {
     "iopub.execute_input": "2023-06-17T15:11:40.861543Z",
     "iopub.status.busy": "2023-06-17T15:11:40.860517Z",
     "iopub.status.idle": "2023-06-17T15:11:41.150341Z",
     "shell.execute_reply": "2023-06-17T15:11:41.149089Z"
    },
    "papermill": {
     "duration": 0.296434,
     "end_time": "2023-06-17T15:11:41.152902",
     "exception": false,
     "start_time": "2023-06-17T15:11:40.856468",
     "status": "completed"
    },
    "tags": []
   },
   "outputs": [
    {
     "name": "stderr",
     "output_type": "stream",
     "text": [
      "__main__ - 2023-06-17 15:11:41,144 - INFO - (20058, 16)\n",
      "__main__ - 2023-06-17 15:11:41,146 - INFO - ['id', 'rated', 'created_at', 'last_move_at', 'turns', 'victory_status', 'winner', 'increment_code', 'white_id', 'white_rating', 'black_id', 'black_rating', 'moves', 'opening_eco', 'opening_name', 'opening_ply']\n"
     ]
    }
   ],
   "source": [
    "from pandas import read_csv\n",
    "\n",
    "df = read_csv(filepath_or_buffer='../input/chess/games.csv')\n",
    "logger.info(msg=df.shape)\n",
    "logger.info(msg=df.columns.to_list())"
   ]
  },
  {
   "cell_type": "code",
   "execution_count": 4,
   "id": "00085634",
   "metadata": {
    "execution": {
     "iopub.execute_input": "2023-06-17T15:11:41.160550Z",
     "iopub.status.busy": "2023-06-17T15:11:41.160183Z",
     "iopub.status.idle": "2023-06-17T15:11:41.167987Z",
     "shell.execute_reply": "2023-06-17T15:11:41.166800Z"
    },
    "papermill": {
     "duration": 0.014394,
     "end_time": "2023-06-17T15:11:41.170405",
     "exception": false,
     "start_time": "2023-06-17T15:11:41.156011",
     "status": "completed"
    },
    "tags": []
   },
   "outputs": [
    {
     "name": "stderr",
     "output_type": "stream",
     "text": [
      "__main__ - 2023-06-17 15:11:41,162 - INFO - id                 object\n",
      "rated                bool\n",
      "created_at        float64\n",
      "last_move_at      float64\n",
      "turns               int64\n",
      "victory_status     object\n",
      "winner             object\n",
      "increment_code     object\n",
      "white_id           object\n",
      "white_rating        int64\n",
      "black_id           object\n",
      "black_rating        int64\n",
      "moves              object\n",
      "opening_eco        object\n",
      "opening_name       object\n",
      "opening_ply         int64\n",
      "dtype: object\n"
     ]
    }
   ],
   "source": [
    "logger.info(msg=df.dtypes)"
   ]
  },
  {
   "cell_type": "code",
   "execution_count": 5,
   "id": "0bccf098",
   "metadata": {
    "execution": {
     "iopub.execute_input": "2023-06-17T15:11:41.178238Z",
     "iopub.status.busy": "2023-06-17T15:11:41.177853Z",
     "iopub.status.idle": "2023-06-17T15:11:41.204033Z",
     "shell.execute_reply": "2023-06-17T15:11:41.202913Z"
    },
    "papermill": {
     "duration": 0.032848,
     "end_time": "2023-06-17T15:11:41.206515",
     "exception": false,
     "start_time": "2023-06-17T15:11:41.173667",
     "status": "completed"
    },
    "tags": []
   },
   "outputs": [
    {
     "name": "stderr",
     "output_type": "stream",
     "text": [
      "__main__ - 2023-06-17 15:11:41,189 - INFO - rated: {True: 16155, False: 3903}\n",
      "__main__ - 2023-06-17 15:11:41,200 - INFO - unique IDs/rows: 19113/20058\n"
     ]
    }
   ],
   "source": [
    "logger.info(msg='rated: {}'.format(df['rated'].value_counts().to_dict()))\n",
    "logger.info(msg='unique IDs/rows: {}/{}'.format(df['id'].nunique(), len(df)))"
   ]
  }
 ],
 "metadata": {
  "kernelspec": {
   "display_name": "Python 3",
   "language": "python",
   "name": "python3"
  },
  "language_info": {
   "codemirror_mode": {
    "name": "ipython",
    "version": 3
   },
   "file_extension": ".py",
   "mimetype": "text/x-python",
   "name": "python",
   "nbconvert_exporter": "python",
   "pygments_lexer": "ipython3",
   "version": "3.10.10"
  },
  "papermill": {
   "default_parameters": {},
   "duration": 13.524259,
   "end_time": "2023-06-17T15:11:42.131686",
   "environment_variables": {},
   "exception": null,
   "input_path": "__notebook__.ipynb",
   "output_path": "__notebook__.ipynb",
   "parameters": {},
   "start_time": "2023-06-17T15:11:28.607427",
   "version": "2.4.0"
  }
 },
 "nbformat": 4,
 "nbformat_minor": 5
}
