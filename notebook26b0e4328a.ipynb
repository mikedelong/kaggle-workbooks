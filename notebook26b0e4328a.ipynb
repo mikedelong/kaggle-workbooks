{
 "cells": [
  {
   "cell_type": "code",
   "execution_count": 1,
   "id": "fa1ffe59",
   "metadata": {
    "execution": {
     "iopub.execute_input": "2023-06-17T15:25:40.892674Z",
     "iopub.status.busy": "2023-06-17T15:25:40.892251Z",
     "iopub.status.idle": "2023-06-17T15:25:40.905534Z",
     "shell.execute_reply": "2023-06-17T15:25:40.904456Z"
    },
    "papermill": {
     "duration": 0.021528,
     "end_time": "2023-06-17T15:25:40.907989",
     "exception": false,
     "start_time": "2023-06-17T15:25:40.886461",
     "status": "completed"
    },
    "tags": []
   },
   "outputs": [],
   "source": [
    "from logging import Formatter\n",
    "from logging import getLogger\n",
    "from logging import INFO\n",
    "from logging import StreamHandler\n",
    "\n",
    "logger = getLogger(__name__)\n",
    "logger.handlers.clear()\n",
    "handler = StreamHandler()\n",
    "handler.setLevel(INFO)\n",
    "handler.setFormatter(Formatter('%(name)s - %(asctime)s - %(levelname)s - %(message)s'))\n",
    "logger.addHandler(handler)"
   ]
  },
  {
   "cell_type": "code",
   "execution_count": 2,
   "id": "84a97e0a",
   "metadata": {
    "execution": {
     "iopub.execute_input": "2023-06-17T15:25:40.916375Z",
     "iopub.status.busy": "2023-06-17T15:25:40.915965Z",
     "iopub.status.idle": "2023-06-17T15:25:40.928576Z",
     "shell.execute_reply": "2023-06-17T15:25:40.926820Z"
    },
    "papermill": {
     "duration": 0.020125,
     "end_time": "2023-06-17T15:25:40.931717",
     "exception": false,
     "start_time": "2023-06-17T15:25:40.911592",
     "status": "completed"
    },
    "tags": []
   },
   "outputs": [
    {
     "name": "stderr",
     "output_type": "stream",
     "text": [
      "__main__ - 2023-06-17 15:25:40,923 - INFO - ../input/chess/games.csv\n"
     ]
    }
   ],
   "source": [
    "from os import walk\n",
    "from os.path import join\n",
    "\n",
    "for dirname, _, filenames in walk('../input/chess/'):\n",
    "    for filename in filenames:\n",
    "        logger.info(msg=join(dirname, filename))"
   ]
  },
  {
   "cell_type": "code",
   "execution_count": 3,
   "id": "31f331ce",
   "metadata": {
    "execution": {
     "iopub.execute_input": "2023-06-17T15:25:40.940764Z",
     "iopub.status.busy": "2023-06-17T15:25:40.940315Z",
     "iopub.status.idle": "2023-06-17T15:25:41.284793Z",
     "shell.execute_reply": "2023-06-17T15:25:41.283858Z"
    },
    "papermill": {
     "duration": 0.351753,
     "end_time": "2023-06-17T15:25:41.286991",
     "exception": false,
     "start_time": "2023-06-17T15:25:40.935238",
     "status": "completed"
    },
    "tags": []
   },
   "outputs": [
    {
     "name": "stderr",
     "output_type": "stream",
     "text": [
      "__main__ - 2023-06-17 15:25:41,279 - INFO - (20058, 16)\n",
      "__main__ - 2023-06-17 15:25:41,281 - INFO - ['id', 'rated', 'created_at', 'last_move_at', 'turns', 'victory_status', 'winner', 'increment_code', 'white_id', 'white_rating', 'black_id', 'black_rating', 'moves', 'opening_eco', 'opening_name', 'opening_ply']\n"
     ]
    }
   ],
   "source": [
    "from pandas import read_csv\n",
    "\n",
    "df = read_csv(filepath_or_buffer='../input/chess/games.csv')\n",
    "logger.info(msg=df.shape)\n",
    "logger.info(msg=df.columns.to_list())"
   ]
  },
  {
   "cell_type": "code",
   "execution_count": 4,
   "id": "738f744e",
   "metadata": {
    "execution": {
     "iopub.execute_input": "2023-06-17T15:25:41.295613Z",
     "iopub.status.busy": "2023-06-17T15:25:41.295082Z",
     "iopub.status.idle": "2023-06-17T15:25:41.304606Z",
     "shell.execute_reply": "2023-06-17T15:25:41.302936Z"
    },
    "papermill": {
     "duration": 0.016583,
     "end_time": "2023-06-17T15:25:41.306905",
     "exception": false,
     "start_time": "2023-06-17T15:25:41.290322",
     "status": "completed"
    },
    "tags": []
   },
   "outputs": [
    {
     "name": "stderr",
     "output_type": "stream",
     "text": [
      "__main__ - 2023-06-17 15:25:41,297 - INFO - id                 object\n",
      "rated                bool\n",
      "created_at        float64\n",
      "last_move_at      float64\n",
      "turns               int64\n",
      "victory_status     object\n",
      "winner             object\n",
      "increment_code     object\n",
      "white_id           object\n",
      "white_rating        int64\n",
      "black_id           object\n",
      "black_rating        int64\n",
      "moves              object\n",
      "opening_eco        object\n",
      "opening_name       object\n",
      "opening_ply         int64\n",
      "dtype: object\n"
     ]
    }
   ],
   "source": [
    "logger.info(msg=df.dtypes)"
   ]
  },
  {
   "cell_type": "code",
   "execution_count": 5,
   "id": "070977d7",
   "metadata": {
    "execution": {
     "iopub.execute_input": "2023-06-17T15:25:41.315677Z",
     "iopub.status.busy": "2023-06-17T15:25:41.315204Z",
     "iopub.status.idle": "2023-06-17T15:25:41.344870Z",
     "shell.execute_reply": "2023-06-17T15:25:41.343461Z"
    },
    "papermill": {
     "duration": 0.03693,
     "end_time": "2023-06-17T15:25:41.347346",
     "exception": false,
     "start_time": "2023-06-17T15:25:41.310416",
     "status": "completed"
    },
    "tags": []
   },
   "outputs": [
    {
     "name": "stderr",
     "output_type": "stream",
     "text": [
      "__main__ - 2023-06-17 15:25:41,330 - INFO - rated: {True: 16155, False: 3903}\n",
      "__main__ - 2023-06-17 15:25:41,340 - INFO - unique IDs/rows: 19113/20058\n"
     ]
    }
   ],
   "source": [
    "logger.info(msg='rated: {}'.format(df['rated'].value_counts().to_dict()))\n",
    "logger.info(msg='unique IDs/rows: {}/{}'.format(df['id'].nunique(), len(df)))"
   ]
  },
  {
   "cell_type": "code",
   "execution_count": 6,
   "id": "dfa96410",
   "metadata": {
    "execution": {
     "iopub.execute_input": "2023-06-17T15:25:41.356624Z",
     "iopub.status.busy": "2023-06-17T15:25:41.356216Z",
     "iopub.status.idle": "2023-06-17T15:25:41.967090Z",
     "shell.execute_reply": "2023-06-17T15:25:41.965798Z"
    },
    "papermill": {
     "duration": 0.61845,
     "end_time": "2023-06-17T15:25:41.969731",
     "exception": false,
     "start_time": "2023-06-17T15:25:41.351281",
     "status": "completed"
    },
    "tags": []
   },
   "outputs": [
    {
     "data": {
      "text/plain": [
       "Text(0.5, 1.0, 'player rating')"
      ]
     },
     "execution_count": 6,
     "metadata": {},
     "output_type": "execute_result"
    },
    {
     "data": {
      "image/png": "[encoded data removed]",
      "text/plain": [
       "<Figure size 640x480 with 1 Axes>"
      ]
     },
     "metadata": {},
     "output_type": "display_data"
    }
   ],
   "source": [
    "%matplotlib inline\n",
    "from matplotlib.pyplot import hist\n",
    "from matplotlib.pyplot import legend\n",
    "from matplotlib.pyplot import title\n",
    "from numpy import linspace\n",
    "\n",
    "bins = linspace(780, 2730, 50)\n",
    "\n",
    "hist(x=df['black_rating'], bins=bins, alpha=0.5, label='black')\n",
    "hist(x=df['white_rating'], bins=bins, alpha=0.5, label='white')\n",
    "legend(loc='upper right')\n",
    "title('player rating')"
   ]
  }
 ],
 "metadata": {
  "kernelspec": {
   "display_name": "Python 3",
   "language": "python",
   "name": "python3"
  },
  "language_info": {
   "codemirror_mode": {
    "name": "ipython",
    "version": 3
   },
   "file_extension": ".py",
   "mimetype": "text/x-python",
   "name": "python",
   "nbconvert_exporter": "python",
   "pygments_lexer": "ipython3",
   "version": "3.10.10"
  },
  "papermill": {
   "default_parameters": {},
   "duration": 16.251912,
   "end_time": "2023-06-17T15:25:43.299751",
   "environment_variables": {},
   "exception": null,
   "input_path": "__notebook__.ipynb",
   "output_path": "__notebook__.ipynb",
   "parameters": {},
   "start_time": "2023-06-17T15:25:27.047839",
   "version": "2.4.0"
  }
 },
 "nbformat": 4,
 "nbformat_minor": 5
}
