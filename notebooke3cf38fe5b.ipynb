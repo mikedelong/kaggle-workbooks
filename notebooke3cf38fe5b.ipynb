{
 "cells": [
  {
   "cell_type": "code",
   "execution_count": 1,
   "id": "7c1a2412",
   "metadata": {
    "execution": {
     "iopub.execute_input": "2022-12-13T15:14:35.614214Z",
     "iopub.status.busy": "2022-12-13T15:14:35.613220Z",
     "iopub.status.idle": "2022-12-13T15:14:36.803560Z",
     "shell.execute_reply": "2022-12-13T15:14:36.802591Z"
    },
    "papermill": {
     "duration": 1.199161,
     "end_time": "2022-12-13T15:14:36.806199",
     "exception": false,
     "start_time": "2022-12-13T15:14:35.607038",
     "status": "completed"
    },
    "tags": []
   },
   "outputs": [],
   "source": [
    "from arrow import now\n",
    "from pandas import get_dummies\n",
    "from pandas import read_csv\n",
    "from pandas import DataFrame\n",
    "from sklearn.dummy import DummyClassifier\n",
    "from sklearn.ensemble import AdaBoostClassifier\n",
    "from sklearn.ensemble import RandomForestClassifier\n",
    "from sklearn.ensemble import StackingClassifier\n",
    "from sklearn.ensemble import VotingClassifier\n",
    "from sklearn.linear_model import LogisticRegression\n",
    "from sklearn.metrics import accuracy_score\n",
    "from sklearn.naive_bayes import GaussianNB\n",
    "from sklearn.pipeline import make_pipeline\n",
    "from sklearn.preprocessing import StandardScaler\n",
    "from sklearn.tree import DecisionTreeClassifier"
   ]
  },
  {
   "cell_type": "code",
   "execution_count": 2,
   "id": "3ead9833",
   "metadata": {
    "execution": {
     "iopub.execute_input": "2022-12-13T15:14:36.816667Z",
     "iopub.status.busy": "2022-12-13T15:14:36.816254Z",
     "iopub.status.idle": "2022-12-13T15:14:36.871950Z",
     "shell.execute_reply": "2022-12-13T15:14:36.870681Z"
    },
    "papermill": {
     "duration": 0.064442,
     "end_time": "2022-12-13T15:14:36.875306",
     "exception": false,
     "start_time": "2022-12-13T15:14:36.810864",
     "status": "completed"
    },
    "tags": []
   },
   "outputs": [
    {
     "name": "stdout",
     "output_type": "stream",
     "text": [
      "2022-12-13T15:14:36.867764+00:00: train shape: (8693, 14)\n"
     ]
    }
   ],
   "source": [
    "train_fname = '../input/spaceship-titanic/train.csv'\n",
    "train_df = read_csv(filepath_or_buffer=train_fname)\n",
    "print('{}: train shape: {}'.format(now(), train_df.shape))"
   ]
  },
  {
   "cell_type": "code",
   "execution_count": 3,
   "id": "40bc59e1",
   "metadata": {
    "execution": {
     "iopub.execute_input": "2022-12-13T15:14:36.884457Z",
     "iopub.status.busy": "2022-12-13T15:14:36.884036Z",
     "iopub.status.idle": "2022-12-13T15:14:36.939514Z",
     "shell.execute_reply": "2022-12-13T15:14:36.938540Z"
    },
    "papermill": {
     "duration": 0.062493,
     "end_time": "2022-12-13T15:14:36.941971",
     "exception": false,
     "start_time": "2022-12-13T15:14:36.879478",
     "status": "completed"
    },
    "tags": []
   },
   "outputs": [],
   "source": [
    "# use a function to prepare our data so we can apply the same transformation to train and test\n",
    "def prepare(input_df: DataFrame) -> DataFrame:\n",
    "    columns_float = ['Age', 'RoomService', 'FoodCourt', 'ShoppingMall', 'Spa', 'VRDeck',]\n",
    "    columns_dummies = ['CryoSleep', 'Destination', 'HomePlanet', 'VIP',]\n",
    "    columns_other = ['Cabin']\n",
    "    columns = columns_float + columns_dummies + columns_other\n",
    "    result_df = input_df[columns].copy(deep=True)\n",
    "    result_df['Cabin_Deck'] = result_df['Cabin'].apply(func=lambda x: 'Unknown' if isinstance(x, float) else x.split('/')[0])\n",
    "    result_df['Cabin_Side'] = result_df['Cabin'].apply(func=lambda x: 'Unknown' if isinstance(x, float) else x.split('/')[2])\n",
    "    columns_dummies += ['Cabin_Deck', 'Cabin_Side']\n",
    "    # fill in and tag missing values for the float columns\n",
    "    for column in columns_float:\n",
    "        mean_value = result_df[column].dropna().mean()\n",
    "        result_df[column+'_isnull'] = result_df[column].isnull().astype(int)\n",
    "        result_df[column] = result_df[column].fillna(mean_value)\n",
    "    # add dummy values \n",
    "    result_df = get_dummies(data=result_df, columns=columns_dummies).drop(columns=columns_other)\n",
    "    return result_df\n",
    "\n",
    "prepared_df = prepare(input_df=train_df)"
   ]
  },
  {
   "cell_type": "code",
   "execution_count": 4,
   "id": "619a7167",
   "metadata": {
    "execution": {
     "iopub.execute_input": "2022-12-13T15:14:36.950449Z",
     "iopub.status.busy": "2022-12-13T15:14:36.949609Z",
     "iopub.status.idle": "2022-12-13T15:14:36.969650Z",
     "shell.execute_reply": "2022-12-13T15:14:36.968830Z"
    },
    "papermill": {
     "duration": 0.026845,
     "end_time": "2022-12-13T15:14:36.972171",
     "exception": false,
     "start_time": "2022-12-13T15:14:36.945326",
     "status": "completed"
    },
    "tags": []
   },
   "outputs": [
    {
     "name": "stdout",
     "output_type": "stream",
     "text": [
      "<class 'pandas.core.frame.DataFrame'>\n",
      "RangeIndex: 8693 entries, 0 to 8692\n",
      "Data columns (total 14 columns):\n",
      " #   Column        Non-Null Count  Dtype  \n",
      "---  ------        --------------  -----  \n",
      " 0   PassengerId   8693 non-null   object \n",
      " 1   HomePlanet    8492 non-null   object \n",
      " 2   CryoSleep     8476 non-null   object \n",
      " 3   Cabin         8494 non-null   object \n",
      " 4   Destination   8511 non-null   object \n",
      " 5   Age           8514 non-null   float64\n",
      " 6   VIP           8490 non-null   object \n",
      " 7   RoomService   8512 non-null   float64\n",
      " 8   FoodCourt     8510 non-null   float64\n",
      " 9   ShoppingMall  8485 non-null   float64\n",
      " 10  Spa           8510 non-null   float64\n",
      " 11  VRDeck        8505 non-null   float64\n",
      " 12  Name          8493 non-null   object \n",
      " 13  Transported   8693 non-null   bool   \n",
      "dtypes: bool(1), float64(6), object(7)\n",
      "memory usage: 891.5+ KB\n"
     ]
    }
   ],
   "source": [
    "train_df.info()"
   ]
  },
  {
   "cell_type": "code",
   "execution_count": 5,
   "id": "ef0bc2a9",
   "metadata": {
    "execution": {
     "iopub.execute_input": "2022-12-13T15:14:36.979788Z",
     "iopub.status.busy": "2022-12-13T15:14:36.979357Z",
     "iopub.status.idle": "2022-12-13T15:14:36.995599Z",
     "shell.execute_reply": "2022-12-13T15:14:36.994230Z"
    },
    "papermill": {
     "duration": 0.022927,
     "end_time": "2022-12-13T15:14:36.998169",
     "exception": false,
     "start_time": "2022-12-13T15:14:36.975242",
     "status": "completed"
    },
    "tags": []
   },
   "outputs": [
    {
     "name": "stdout",
     "output_type": "stream",
     "text": [
      "<class 'pandas.core.frame.DataFrame'>\n",
      "RangeIndex: 8693 entries, 0 to 8692\n",
      "Data columns (total 34 columns):\n",
      " #   Column                     Non-Null Count  Dtype  \n",
      "---  ------                     --------------  -----  \n",
      " 0   Age                        8693 non-null   float64\n",
      " 1   RoomService                8693 non-null   float64\n",
      " 2   FoodCourt                  8693 non-null   float64\n",
      " 3   ShoppingMall               8693 non-null   float64\n",
      " 4   Spa                        8693 non-null   float64\n",
      " 5   VRDeck                     8693 non-null   float64\n",
      " 6   Age_isnull                 8693 non-null   int64  \n",
      " 7   RoomService_isnull         8693 non-null   int64  \n",
      " 8   FoodCourt_isnull           8693 non-null   int64  \n",
      " 9   ShoppingMall_isnull        8693 non-null   int64  \n",
      " 10  Spa_isnull                 8693 non-null   int64  \n",
      " 11  VRDeck_isnull              8693 non-null   int64  \n",
      " 12  CryoSleep_False            8693 non-null   uint8  \n",
      " 13  CryoSleep_True             8693 non-null   uint8  \n",
      " 14  Destination_55 Cancri e    8693 non-null   uint8  \n",
      " 15  Destination_PSO J318.5-22  8693 non-null   uint8  \n",
      " 16  Destination_TRAPPIST-1e    8693 non-null   uint8  \n",
      " 17  HomePlanet_Earth           8693 non-null   uint8  \n",
      " 18  HomePlanet_Europa          8693 non-null   uint8  \n",
      " 19  HomePlanet_Mars            8693 non-null   uint8  \n",
      " 20  VIP_False                  8693 non-null   uint8  \n",
      " 21  VIP_True                   8693 non-null   uint8  \n",
      " 22  Cabin_Deck_A               8693 non-null   uint8  \n",
      " 23  Cabin_Deck_B               8693 non-null   uint8  \n",
      " 24  Cabin_Deck_C               8693 non-null   uint8  \n",
      " 25  Cabin_Deck_D               8693 non-null   uint8  \n",
      " 26  Cabin_Deck_E               8693 non-null   uint8  \n",
      " 27  Cabin_Deck_F               8693 non-null   uint8  \n",
      " 28  Cabin_Deck_G               8693 non-null   uint8  \n",
      " 29  Cabin_Deck_T               8693 non-null   uint8  \n",
      " 30  Cabin_Deck_Unknown         8693 non-null   uint8  \n",
      " 31  Cabin_Side_P               8693 non-null   uint8  \n",
      " 32  Cabin_Side_S               8693 non-null   uint8  \n",
      " 33  Cabin_Side_Unknown         8693 non-null   uint8  \n",
      "dtypes: float64(6), int64(6), uint8(22)\n",
      "memory usage: 1001.9 KB\n"
     ]
    }
   ],
   "source": [
    "prepared_df.info()"
   ]
  },
  {
   "cell_type": "code",
   "execution_count": 6,
   "id": "9db51f54",
   "metadata": {
    "execution": {
     "iopub.execute_input": "2022-12-13T15:14:37.006574Z",
     "iopub.status.busy": "2022-12-13T15:14:37.006189Z",
     "iopub.status.idle": "2022-12-13T15:14:46.114287Z",
     "shell.execute_reply": "2022-12-13T15:14:46.109838Z"
    },
    "papermill": {
     "duration": 9.119519,
     "end_time": "2022-12-13T15:14:46.121065",
     "exception": false,
     "start_time": "2022-12-13T15:14:37.001546",
     "status": "completed"
    },
    "tags": []
   },
   "outputs": [
    {
     "name": "stdout",
     "output_type": "stream",
     "text": [
      "model: stacking_classifier\n",
      "2022-12-13T15:14:46.106113+00:00: score: 0.9396\n"
     ]
    }
   ],
   "source": [
    "model_choices = ['ada_boost', 'decision_tree', 'dummy_classifier', 'logistic_regression', 'naive_bayes', 'random_forest',\n",
    "                'stacking_classifier', 'voting_classifier']\n",
    "model_choice = model_choices[6]\n",
    "print('model: {}'.format(model_choice))\n",
    "random_state = 1\n",
    "use_scaler = False\n",
    "if model_choice not in model_choices:\n",
    "    raise NotImplementedError()\n",
    "elif model_choice == 'ada_boost':\n",
    "    # train: 0.7935 test: 0.7863\n",
    "    model = AdaBoostClassifier(random_state=random_state)\n",
    "elif model_choice == 'decision_tree':\n",
    "    # train: 0.9580 test: 0.7278 (gini)\n",
    "    # train: 0.9580 test: 0.7447 (entropy)\n",
    "    criterion = ['entropy', 'gini'][0]\n",
    "    model = DecisionTreeClassifier(criterion=criterion, random_state=random_state)\n",
    "elif model_choice == 'dummy_classifier':\n",
    "    # train: 0.5036 test: 5069\n",
    "    model = DummyClassifier(random_state=random_state, strategy = 'most_frequent')\n",
    "elif model_choice == 'logistic_regression': \n",
    "    # train: 0.7921 # test: 0.7912\n",
    "    fit_intercept = True\n",
    "    max_iter = 4000\n",
    "    penalty = ['none', 'l1', 'l2', 'elasticnet'][2]\n",
    "    solver = ['lbfgs', 'liblinear', 'newton-cg', 'newton-cholesky', 'sag', 'saga'][0]\n",
    "    model = LogisticRegression(fit_intercept=fit_intercept, max_iter=max_iter, penalty=penalty, random_state=random_state,\n",
    "                              solver=solver, verbose=0)\n",
    "elif model_choice == 'naive_bayes':\n",
    "    # train: 0.7616 test: 0.7662\n",
    "    model = GaussianNB()\n",
    "elif model_choice == 'random_forest':\n",
    "    # train: 0.9579 test: 0.7870\n",
    "    model = RandomForestClassifier(random_state=random_state)\n",
    "elif model_choice == 'voting_classifier':\n",
    "    # train: 0.8340 test: 0.7849 (3 models, hard voting)\n",
    "    # train: 0.8472 test: 0.7942 (5 models, hard voting)\n",
    "    # train: 0.9156 test: 0.7931 (5 models, soft voting)\n",
    "    estimators = [\n",
    "        ('ada_boost', AdaBoostClassifier(random_state=random_state)),\n",
    "        ('decision_tree', DecisionTreeClassifier(criterion='entropy', random_state=random_state)),\n",
    "        ('logistic_regression', LogisticRegression(random_state=random_state, max_iter=4000)),\n",
    "        ('naive_bayes', GaussianNB()),\n",
    "        ('random_forest', RandomForestClassifier(random_state=random_state)),\n",
    "    ]\n",
    "    voting = 'hard'\n",
    "    model = VotingClassifier(estimators=estimators, voting=voting, n_jobs=len(estimators))\n",
    "elif model_choice == 'stacking_classifier':\n",
    "    # train: 0.9156 test: 0.7931\n",
    "    estimators = [\n",
    "        ('ada_boost', AdaBoostClassifier(random_state=random_state)),\n",
    "        ('decision_tree', DecisionTreeClassifier(criterion='entropy', random_state=random_state)),\n",
    "        ('naive_bayes', GaussianNB()),\n",
    "        ('random_forest', RandomForestClassifier(random_state=random_state)),\n",
    "    ]\n",
    "    model = StackingClassifier(estimators=estimators, final_estimator=LogisticRegression(random_state=random_state, max_iter=4000))\n",
    "if use_scaler:\n",
    "    model = make_pipeline(StandardScaler(), model)\n",
    "\n",
    "model.fit(X=prepared_df, y=train_df['Transported'])\n",
    "# get the accuracy score\n",
    "score = accuracy_score(y_true=train_df['Transported'], y_pred=model.predict(X=prepared_df))\n",
    "print('{}: score: {:0.4f}'.format(now(), score))"
   ]
  },
  {
   "cell_type": "code",
   "execution_count": 7,
   "id": "9d1ec7a0",
   "metadata": {
    "execution": {
     "iopub.execute_input": "2022-12-13T15:14:46.156166Z",
     "iopub.status.busy": "2022-12-13T15:14:46.155452Z",
     "iopub.status.idle": "2022-12-13T15:14:46.423698Z",
     "shell.execute_reply": "2022-12-13T15:14:46.421972Z"
    },
    "papermill": {
     "duration": 0.288633,
     "end_time": "2022-12-13T15:14:46.428171",
     "exception": false,
     "start_time": "2022-12-13T15:14:46.139538",
     "status": "completed"
    },
    "tags": []
   },
   "outputs": [
    {
     "name": "stdout",
     "output_type": "stream",
     "text": [
      "2022-12-13T15:14:46.204929+00:00: test shape: (4277, 13)\n"
     ]
    }
   ],
   "source": [
    "# now predict\n",
    "test_fname = '../input/spaceship-titanic/test.csv'\n",
    "test_df = read_csv(filepath_or_buffer=test_fname)\n",
    "print('{}: test shape: {}'.format(now(), test_df.shape))\n",
    "prepared_test_df = prepare(input_df=test_df)\n",
    "test_df['Transported'] = model.predict(X=prepared_test_df)\n",
    "test_df['Transported'] = test_df['Transported'].apply(lambda x: x == 1)\n"
   ]
  },
  {
   "cell_type": "code",
   "execution_count": 8,
   "id": "e384c6ef",
   "metadata": {
    "execution": {
     "iopub.execute_input": "2022-12-13T15:14:46.448943Z",
     "iopub.status.busy": "2022-12-13T15:14:46.447953Z",
     "iopub.status.idle": "2022-12-13T15:14:46.479829Z",
     "shell.execute_reply": "2022-12-13T15:14:46.478172Z"
    },
    "papermill": {
     "duration": 0.046835,
     "end_time": "2022-12-13T15:14:46.484287",
     "exception": false,
     "start_time": "2022-12-13T15:14:46.437452",
     "status": "completed"
    },
    "tags": []
   },
   "outputs": [
    {
     "name": "stdout",
     "output_type": "stream",
     "text": [
      "2022-12-13T15:14:46.474506+00:00: wrote submission to ./submission.csv\n"
     ]
    }
   ],
   "source": [
    "result_columns = ['PassengerId', 'Transported']\n",
    "result_fname = './submission.csv'\n",
    "test_df[result_columns].to_csv(index=False, path_or_buf=result_fname,)\n",
    "print('{}: wrote submission to {}'.format(now(), result_fname))   "
   ]
  }
 ],
 "metadata": {
  "kernelspec": {
   "display_name": "Python 3",
   "language": "python",
   "name": "python3"
  },
  "language_info": {
   "codemirror_mode": {
    "name": "ipython",
    "version": 3
   },
   "file_extension": ".py",
   "mimetype": "text/x-python",
   "name": "python",
   "nbconvert_exporter": "python",
   "pygments_lexer": "ipython3",
   "version": "3.7.12"
  },
  "papermill": {
   "default_parameters": {},
   "duration": 20.171522,
   "end_time": "2022-12-13T15:14:47.222157",
   "environment_variables": {},
   "exception": null,
   "input_path": "__notebook__.ipynb",
   "output_path": "__notebook__.ipynb",
   "parameters": {},
   "start_time": "2022-12-13T15:14:27.050635",
   "version": "2.3.4"
  }
 },
 "nbformat": 4,
 "nbformat_minor": 5
}
