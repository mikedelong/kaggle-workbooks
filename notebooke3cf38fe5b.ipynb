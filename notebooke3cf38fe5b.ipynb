{
 "cells": [
  {
   "cell_type": "code",
   "execution_count": 1,
   "id": "10e4b297",
   "metadata": {
    "execution": {
     "iopub.execute_input": "2022-12-09T21:57:01.323501Z",
     "iopub.status.busy": "2022-12-09T21:57:01.322385Z",
     "iopub.status.idle": "2022-12-09T21:57:02.300948Z",
     "shell.execute_reply": "2022-12-09T21:57:02.300012Z"
    },
    "papermill": {
     "duration": 0.985444,
     "end_time": "2022-12-09T21:57:02.303360",
     "exception": false,
     "start_time": "2022-12-09T21:57:01.317916",
     "status": "completed"
    },
    "tags": []
   },
   "outputs": [],
   "source": [
    "from arrow import now\n",
    "from pandas import get_dummies\n",
    "from pandas import read_csv\n",
    "from pandas import DataFrame\n",
    "from sklearn.linear_model import LogisticRegression\n",
    "from sklearn.metrics import accuracy_score"
   ]
  },
  {
   "cell_type": "code",
   "execution_count": 2,
   "id": "d17d9a3f",
   "metadata": {
    "execution": {
     "iopub.execute_input": "2022-12-09T21:57:02.309238Z",
     "iopub.status.busy": "2022-12-09T21:57:02.308904Z",
     "iopub.status.idle": "2022-12-09T21:57:02.357503Z",
     "shell.execute_reply": "2022-12-09T21:57:02.356513Z"
    },
    "papermill": {
     "duration": 0.053368,
     "end_time": "2022-12-09T21:57:02.359223",
     "exception": false,
     "start_time": "2022-12-09T21:57:02.305855",
     "status": "completed"
    },
    "tags": []
   },
   "outputs": [
    {
     "name": "stdout",
     "output_type": "stream",
     "text": [
      "2022-12-09T21:57:02.354453+00:00: train shape: (8693, 14)\n"
     ]
    }
   ],
   "source": [
    "train_fname = '../input/spaceship-titanic/train.csv'\n",
    "train_df = read_csv(filepath_or_buffer=train_fname)\n",
    "print('{}: train shape: {}'.format(now(), train_df.shape))"
   ]
  },
  {
   "cell_type": "code",
   "execution_count": 3,
   "id": "c23246d4",
   "metadata": {
    "execution": {
     "iopub.execute_input": "2022-12-09T21:57:02.372831Z",
     "iopub.status.busy": "2022-12-09T21:57:02.371336Z",
     "iopub.status.idle": "2022-12-09T21:57:02.421513Z",
     "shell.execute_reply": "2022-12-09T21:57:02.419938Z"
    },
    "papermill": {
     "duration": 0.062357,
     "end_time": "2022-12-09T21:57:02.424104",
     "exception": false,
     "start_time": "2022-12-09T21:57:02.361747",
     "status": "completed"
    },
    "tags": []
   },
   "outputs": [],
   "source": [
    "# use a function to prepare our data so we can apply the same transformation to train and test\n",
    "def prepare(input_df: DataFrame) -> DataFrame:\n",
    "    columns_float = ['Age', 'RoomService', 'FoodCourt', 'ShoppingMall', 'Spa', 'VRDeck',]\n",
    "    columns_dummies = ['CryoSleep', 'Destination', 'HomePlanet', 'VIP',]\n",
    "    columns_other = ['Cabin']\n",
    "    columns = columns_float + columns_dummies + columns_other\n",
    "    result_df = input_df[columns].copy(deep=True)\n",
    "    result_df['Cabin_Deck'] = result_df['Cabin'].apply(func=lambda x: 'Unknown' if isinstance(x, float) else x.split('/')[0])\n",
    "    result_df['Cabin_Side'] = result_df['Cabin'].apply(func=lambda x: 'Unknown' if isinstance(x, float) else x.split('/')[2])\n",
    "    columns_dummies += ['Cabin_Deck', 'Cabin_Side']\n",
    "    # fill in and tag missing values for the float columns\n",
    "    for column in columns_float:\n",
    "        mean_value = result_df[column].dropna().mean()\n",
    "        result_df[column+'_isnull'] = result_df[column].isnull().astype(int)\n",
    "        result_df[column] = result_df[column].fillna(mean_value)\n",
    "    # add dummy values \n",
    "    result_df = get_dummies(data=result_df, columns=columns_dummies).drop(columns=columns_other)\n",
    "    return result_df\n",
    "\n",
    "prepared_df = prepare(input_df=train_df)"
   ]
  },
  {
   "cell_type": "code",
   "execution_count": 4,
   "id": "04a898a5",
   "metadata": {
    "execution": {
     "iopub.execute_input": "2022-12-09T21:57:02.430567Z",
     "iopub.status.busy": "2022-12-09T21:57:02.430246Z",
     "iopub.status.idle": "2022-12-09T21:57:02.448905Z",
     "shell.execute_reply": "2022-12-09T21:57:02.447673Z"
    },
    "papermill": {
     "duration": 0.02446,
     "end_time": "2022-12-09T21:57:02.451000",
     "exception": false,
     "start_time": "2022-12-09T21:57:02.426540",
     "status": "completed"
    },
    "tags": []
   },
   "outputs": [
    {
     "name": "stdout",
     "output_type": "stream",
     "text": [
      "<class 'pandas.core.frame.DataFrame'>\n",
      "RangeIndex: 8693 entries, 0 to 8692\n",
      "Data columns (total 14 columns):\n",
      " #   Column        Non-Null Count  Dtype  \n",
      "---  ------        --------------  -----  \n",
      " 0   PassengerId   8693 non-null   object \n",
      " 1   HomePlanet    8492 non-null   object \n",
      " 2   CryoSleep     8476 non-null   object \n",
      " 3   Cabin         8494 non-null   object \n",
      " 4   Destination   8511 non-null   object \n",
      " 5   Age           8514 non-null   float64\n",
      " 6   VIP           8490 non-null   object \n",
      " 7   RoomService   8512 non-null   float64\n",
      " 8   FoodCourt     8510 non-null   float64\n",
      " 9   ShoppingMall  8485 non-null   float64\n",
      " 10  Spa           8510 non-null   float64\n",
      " 11  VRDeck        8505 non-null   float64\n",
      " 12  Name          8493 non-null   object \n",
      " 13  Transported   8693 non-null   bool   \n",
      "dtypes: bool(1), float64(6), object(7)\n",
      "memory usage: 891.5+ KB\n"
     ]
    }
   ],
   "source": [
    "train_df.info()"
   ]
  },
  {
   "cell_type": "code",
   "execution_count": 5,
   "id": "f19697a0",
   "metadata": {
    "execution": {
     "iopub.execute_input": "2022-12-09T21:57:02.458831Z",
     "iopub.status.busy": "2022-12-09T21:57:02.457933Z",
     "iopub.status.idle": "2022-12-09T21:57:02.474263Z",
     "shell.execute_reply": "2022-12-09T21:57:02.472405Z"
    },
    "papermill": {
     "duration": 0.022556,
     "end_time": "2022-12-09T21:57:02.476722",
     "exception": false,
     "start_time": "2022-12-09T21:57:02.454166",
     "status": "completed"
    },
    "tags": []
   },
   "outputs": [
    {
     "name": "stdout",
     "output_type": "stream",
     "text": [
      "<class 'pandas.core.frame.DataFrame'>\n",
      "RangeIndex: 8693 entries, 0 to 8692\n",
      "Data columns (total 34 columns):\n",
      " #   Column                     Non-Null Count  Dtype  \n",
      "---  ------                     --------------  -----  \n",
      " 0   Age                        8693 non-null   float64\n",
      " 1   RoomService                8693 non-null   float64\n",
      " 2   FoodCourt                  8693 non-null   float64\n",
      " 3   ShoppingMall               8693 non-null   float64\n",
      " 4   Spa                        8693 non-null   float64\n",
      " 5   VRDeck                     8693 non-null   float64\n",
      " 6   Age_isnull                 8693 non-null   int64  \n",
      " 7   RoomService_isnull         8693 non-null   int64  \n",
      " 8   FoodCourt_isnull           8693 non-null   int64  \n",
      " 9   ShoppingMall_isnull        8693 non-null   int64  \n",
      " 10  Spa_isnull                 8693 non-null   int64  \n",
      " 11  VRDeck_isnull              8693 non-null   int64  \n",
      " 12  CryoSleep_False            8693 non-null   uint8  \n",
      " 13  CryoSleep_True             8693 non-null   uint8  \n",
      " 14  Destination_55 Cancri e    8693 non-null   uint8  \n",
      " 15  Destination_PSO J318.5-22  8693 non-null   uint8  \n",
      " 16  Destination_TRAPPIST-1e    8693 non-null   uint8  \n",
      " 17  HomePlanet_Earth           8693 non-null   uint8  \n",
      " 18  HomePlanet_Europa          8693 non-null   uint8  \n",
      " 19  HomePlanet_Mars            8693 non-null   uint8  \n",
      " 20  VIP_False                  8693 non-null   uint8  \n",
      " 21  VIP_True                   8693 non-null   uint8  \n",
      " 22  Cabin_Deck_A               8693 non-null   uint8  \n",
      " 23  Cabin_Deck_B               8693 non-null   uint8  \n",
      " 24  Cabin_Deck_C               8693 non-null   uint8  \n",
      " 25  Cabin_Deck_D               8693 non-null   uint8  \n",
      " 26  Cabin_Deck_E               8693 non-null   uint8  \n",
      " 27  Cabin_Deck_F               8693 non-null   uint8  \n",
      " 28  Cabin_Deck_G               8693 non-null   uint8  \n",
      " 29  Cabin_Deck_T               8693 non-null   uint8  \n",
      " 30  Cabin_Deck_Unknown         8693 non-null   uint8  \n",
      " 31  Cabin_Side_P               8693 non-null   uint8  \n",
      " 32  Cabin_Side_S               8693 non-null   uint8  \n",
      " 33  Cabin_Side_Unknown         8693 non-null   uint8  \n",
      "dtypes: float64(6), int64(6), uint8(22)\n",
      "memory usage: 1001.9 KB\n"
     ]
    }
   ],
   "source": [
    "prepared_df.info()"
   ]
  },
  {
   "cell_type": "code",
   "execution_count": 6,
   "id": "c433ac63",
   "metadata": {
    "execution": {
     "iopub.execute_input": "2022-12-09T21:57:02.484054Z",
     "iopub.status.busy": "2022-12-09T21:57:02.483284Z",
     "iopub.status.idle": "2022-12-09T21:57:03.136936Z",
     "shell.execute_reply": "2022-12-09T21:57:03.136140Z"
    },
    "papermill": {
     "duration": 0.659434,
     "end_time": "2022-12-09T21:57:03.138874",
     "exception": false,
     "start_time": "2022-12-09T21:57:02.479440",
     "status": "completed"
    },
    "tags": []
   },
   "outputs": [
    {
     "name": "stdout",
     "output_type": "stream",
     "text": [
      "2022-12-09T21:57:03.133935+00:00: score: 0.7921\n"
     ]
    }
   ],
   "source": [
    "fit_intercept = True\n",
    "max_iter = 4000\n",
    "penalty = ['none', 'l1', 'l2', 'elasticnet'][2]\n",
    "random_state = 1\n",
    "solver = ['lbfgs', 'liblinear', 'newton-cg', 'newton-cholesky', 'sag', 'saga'][0]\n",
    "model = LogisticRegression(fit_intercept=fit_intercept, max_iter=max_iter, penalty=penalty, random_state=random_state,\n",
    "                          solver=solver, verbose=0)\n",
    "model.fit(X=prepared_df, y=train_df['Transported'])\n",
    "# get the accuracy score\n",
    "score = accuracy_score(y_true=train_df['Transported'], y_pred=model.predict(X=prepared_df))\n",
    "print('{}: score: {:0.4f}'.format(now(), score))"
   ]
  },
  {
   "cell_type": "code",
   "execution_count": 7,
   "id": "72f9d99e",
   "metadata": {
    "execution": {
     "iopub.execute_input": "2022-12-09T21:57:03.147229Z",
     "iopub.status.busy": "2022-12-09T21:57:03.146434Z",
     "iopub.status.idle": "2022-12-09T21:57:03.216153Z",
     "shell.execute_reply": "2022-12-09T21:57:03.215327Z"
    },
    "papermill": {
     "duration": 0.07633,
     "end_time": "2022-12-09T21:57:03.218467",
     "exception": false,
     "start_time": "2022-12-09T21:57:03.142137",
     "status": "completed"
    },
    "tags": []
   },
   "outputs": [
    {
     "name": "stdout",
     "output_type": "stream",
     "text": [
      "2022-12-09T21:57:03.173003+00:00: test shape: (4277, 13)\n",
      "2022-12-09T21:57:03.211490+00:00: wrote submission to ./submission.csv\n"
     ]
    }
   ],
   "source": [
    "# now predict\n",
    "test_fname = '../input/spaceship-titanic/test.csv'\n",
    "test_df = read_csv(filepath_or_buffer=test_fname)\n",
    "print('{}: test shape: {}'.format(now(), test_df.shape))\n",
    "prepared_test_df = prepare(input_df=test_df)\n",
    "test_df['Transported'] = model.predict(X=prepared_test_df)\n",
    "test_df['Transported'] = test_df['Transported'].apply(lambda x: x == 1)\n",
    "result_columns = ['PassengerId', 'Transported']\n",
    "result_fname = './submission.csv'\n",
    "test_df[result_columns].to_csv(index=False, path_or_buf=result_fname,)\n",
    "print('{}: wrote submission to {}'.format(now(), result_fname))\n",
    "# trivial model is everyone is transported - 0.50688\n",
    "# test_df['Transported'] = True # everyone transported\n"
   ]
  }
 ],
 "metadata": {
  "kernelspec": {
   "display_name": "Python 3",
   "language": "python",
   "name": "python3"
  },
  "language_info": {
   "codemirror_mode": {
    "name": "ipython",
    "version": 3
   },
   "file_extension": ".py",
   "mimetype": "text/x-python",
   "name": "python",
   "nbconvert_exporter": "python",
   "pygments_lexer": "ipython3",
   "version": "3.7.12"
  },
  "papermill": {
   "default_parameters": {},
   "duration": 9.39696,
   "end_time": "2022-12-09T21:57:03.946149",
   "environment_variables": {},
   "exception": null,
   "input_path": "__notebook__.ipynb",
   "output_path": "__notebook__.ipynb",
   "parameters": {},
   "start_time": "2022-12-09T21:56:54.549189",
   "version": "2.3.4"
  }
 },
 "nbformat": 4,
 "nbformat_minor": 5
}
