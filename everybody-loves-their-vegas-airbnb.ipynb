{
 "cells": [
  {
   "cell_type": "code",
   "execution_count": 1,
   "id": "e0322f21",
   "metadata": {
    "_cell_guid": "b1076dfc-b9ad-4769-8c92-a6c4dae69d19",
    "_uuid": "8f2839f25d086af736a60e9eeb907d3b93b6e0e5",
    "execution": {
     "iopub.execute_input": "2024-03-02T00:37:14.780985Z",
     "iopub.status.busy": "2024-03-02T00:37:14.780273Z",
     "iopub.status.idle": "2024-03-02T00:37:15.627632Z",
     "shell.execute_reply": "2024-03-02T00:37:15.626564Z"
    },
    "papermill": {
     "duration": 0.857037,
     "end_time": "2024-03-02T00:37:15.629844",
     "exception": false,
     "start_time": "2024-03-02T00:37:14.772807",
     "status": "completed"
    },
    "tags": []
   },
   "outputs": [
    {
     "data": {
      "text/html": [
       "<div>\n",
       "<style scoped>\n",
       "    .dataframe tbody tr th:only-of-type {\n",
       "        vertical-align: middle;\n",
       "    }\n",
       "\n",
       "    .dataframe tbody tr th {\n",
       "        vertical-align: top;\n",
       "    }\n",
       "\n",
       "    .dataframe thead th {\n",
       "        text-align: right;\n",
       "    }\n",
       "</style>\n",
       "<table border=\"1\" class=\"dataframe\">\n",
       "  <thead>\n",
       "    <tr style=\"text-align: right;\">\n",
       "      <th></th>\n",
       "      <th>roomType</th>\n",
       "      <th>stars</th>\n",
       "      <th>address</th>\n",
       "      <th>numberOfGuests</th>\n",
       "      <th>primaryHost/smartName</th>\n",
       "      <th>firstReviewComments</th>\n",
       "      <th>firstReviewRating</th>\n",
       "    </tr>\n",
       "  </thead>\n",
       "  <tbody>\n",
       "    <tr>\n",
       "      <th>0</th>\n",
       "      <td>Entire condo</td>\n",
       "      <td>4.54</td>\n",
       "      <td>Las Vegas, Nevada, United States</td>\n",
       "      <td>4</td>\n",
       "      <td>Doug</td>\n",
       "      <td>Overall, I had a good experience. The only dow...</td>\n",
       "      <td>4.0</td>\n",
       "    </tr>\n",
       "    <tr>\n",
       "      <th>1</th>\n",
       "      <td>Entire rental unit</td>\n",
       "      <td>4.39</td>\n",
       "      <td>Las Vegas, Nevada, United States</td>\n",
       "      <td>4</td>\n",
       "      <td>Doug</td>\n",
       "      <td>I stayed an extra night. That should sum it up...</td>\n",
       "      <td>5.0</td>\n",
       "    </tr>\n",
       "    <tr>\n",
       "      <th>2</th>\n",
       "      <td>Entire guest suite</td>\n",
       "      <td>NaN</td>\n",
       "      <td>Las Vegas, Nevada, United States</td>\n",
       "      <td>4</td>\n",
       "      <td>Aaron&amp;Tina</td>\n",
       "      <td>These days things are so impersonable but she ...</td>\n",
       "      <td>5.0</td>\n",
       "    </tr>\n",
       "    <tr>\n",
       "      <th>3</th>\n",
       "      <td>Entire condo</td>\n",
       "      <td>NaN</td>\n",
       "      <td>Las Vegas, Nevada, United States</td>\n",
       "      <td>6</td>\n",
       "      <td>Aaron&amp;Tina</td>\n",
       "      <td>Great response time from owner. Could message ...</td>\n",
       "      <td>5.0</td>\n",
       "    </tr>\n",
       "    <tr>\n",
       "      <th>4</th>\n",
       "      <td>Private room in home</td>\n",
       "      <td>4.51</td>\n",
       "      <td>Las Vegas, Nevada, United States</td>\n",
       "      <td>2</td>\n",
       "      <td>Brad</td>\n",
       "      <td>good group of guys in the house. quiet clean a...</td>\n",
       "      <td>5.0</td>\n",
       "    </tr>\n",
       "  </tbody>\n",
       "</table>\n",
       "</div>"
      ],
      "text/plain": [
       "               roomType  stars                           address  \\\n",
       "0          Entire condo   4.54  Las Vegas, Nevada, United States   \n",
       "1    Entire rental unit   4.39  Las Vegas, Nevada, United States   \n",
       "2    Entire guest suite    NaN  Las Vegas, Nevada, United States   \n",
       "3          Entire condo    NaN  Las Vegas, Nevada, United States   \n",
       "4  Private room in home   4.51  Las Vegas, Nevada, United States   \n",
       "\n",
       "   numberOfGuests primaryHost/smartName  \\\n",
       "0               4                  Doug   \n",
       "1               4                  Doug   \n",
       "2               4            Aaron&Tina   \n",
       "3               6            Aaron&Tina   \n",
       "4               2                  Brad   \n",
       "\n",
       "                                 firstReviewComments  firstReviewRating  \n",
       "0  Overall, I had a good experience. The only dow...                4.0  \n",
       "1  I stayed an extra night. That should sum it up...                5.0  \n",
       "2  These days things are so impersonable but she ...                5.0  \n",
       "3  Great response time from owner. Could message ...                5.0  \n",
       "4  good group of guys in the house. quiet clean a...                5.0  "
      ]
     },
     "execution_count": 1,
     "metadata": {},
     "output_type": "execute_result"
    }
   ],
   "source": [
    "import pandas as pd\n",
    "\n",
    "VEGAS = '/kaggle/input/airbnb-las-vegas-listings/las_vegas_airbnb_data.csv'\n",
    "df = pd.read_csv(filepath_or_buffer=VEGAS).drop(columns=['price'])\n",
    "df.head()"
   ]
  },
  {
   "cell_type": "code",
   "execution_count": 2,
   "id": "a0ffde64",
   "metadata": {
    "execution": {
     "iopub.execute_input": "2024-03-02T00:37:15.642542Z",
     "iopub.status.busy": "2024-03-02T00:37:15.641766Z",
     "iopub.status.idle": "2024-03-02T00:37:17.865530Z",
     "shell.execute_reply": "2024-03-02T00:37:17.864491Z"
    },
    "papermill": {
     "duration": 2.232441,
     "end_time": "2024-03-02T00:37:17.867749",
     "exception": false,
     "start_time": "2024-03-02T00:37:15.635308",
     "status": "completed"
    },
    "tags": []
   },
   "outputs": [
    {
     "data": {
      "text/html": [
       "        <script type=\"text/javascript\">\n",
       "        window.PlotlyConfig = {MathJaxConfig: 'local'};\n",
       "        if (window.MathJax && window.MathJax.Hub && window.MathJax.Hub.Config) {window.MathJax.Hub.Config({SVG: {font: \"STIX-Web\"}});}\n",
       "        if (typeof require !== 'undefined') {\n",
       "        require.undef(\"plotly\");\n",
       "        requirejs.config({\n",
       "            paths: {\n",
       "                'plotly': ['https://cdn.plot.ly/plotly-2.27.0.min']\n",
       "            }\n",
       "        });\n",
       "        require(['plotly'], function(Plotly) {\n",
       "            window._Plotly = Plotly;\n",
       "        });\n",
       "        }\n",
       "        </script>\n",
       "        "
      ]
     },
     "metadata": {},
     "output_type": "display_data"
    },
    {
     "data": {
      "text/html": [
       "<div>                            <div id=\"dd0410d7-6c37-46ec-b9c7-f4fc43fc583b\" class=\"plotly-graph-div\" style=\"height:525px; width:100%;\"></div>            <script type=\"text/javascript\">                require([\"plotly\"], function(Plotly) {                    window.PLOTLYENV=window.PLOTLYENV || {};                                    if (document.getElementById(\"dd0410d7-6c37-46ec-b9c7-f4fc43fc583b\")) {                    Plotly.newPlot(                        \"dd0410d7-6c37-46ec-b9c7-f4fc43fc583b\",                        [{\"alignmentgroup\":\"True\",\"bingroup\":\"x\",\"hovertemplate\":\"address=%{x}\\u003cbr\\u003ecount=%{y}\\u003cextra\\u003e\\u003c\\u002fextra\\u003e\",\"legendgroup\":\"\",\"marker\":{\"color\":\"#636efa\",\"pattern\":{\"shape\":\"\"}},\"name\":\"\",\"offsetgroup\":\"\",\"orientation\":\"v\",\"showlegend\":false,\"x\":[\"Las Vegas, Nevada, United States\",\"Las Vegas, Nevada, United States\",\"Las Vegas, Nevada, United States\",\"Las Vegas, Nevada, United States\",\"Las Vegas, Nevada, United States\",\"Las Vegas, Nevada, United States\",\"Las Vegas, Nevada, United States\",\"Las Vegas, Nevada, United States\",\"Las Vegas, Nevada, United States\",\"Las Vegas, Nevada, United States\",\"Las Vegas, Nevada, United States\",\"Las Vegas, Nevada, United States\",\"Las Vegas, Nevada, United States\",\"Las Vegas, Nevada, United States\",\"Las Vegas, Nevada, United States\",\"Las Vegas, Nevada, United States\",\"Las Vegas, Nevada, United States\",\"Las Vegas, Nevada, United States\",\"Las Vegas, Nevada, United States\",\"Las Vegas, Nevada, United States\",\"Las Vegas, Nevada, United States\",\"Las Vegas, Nevada, United States\",\"Las Vegas, Nevada, United States\",\"Las Vegas, Nevada, United States\",\"Las Vegas, Nevada, United States\",\"Las Vegas, Nevada, United States\",\"Las Vegas, Nevada, United States\",\"Las Vegas, Nevada, United States\",\"Las Vegas, Nevada, United States\",\"Las Vegas, Nevada, United States\",\"Las Vegas, Nevada, United States\",\"Las Vegas, Nevada, United States\",\"Las Vegas, Nevada, United States\",\"Las Vegas, Nevada, United States\",\"Las Vegas, Nevada, United States\",\"Las Vegas, Nevada, United States\",\"Las Vegas, Nevada, United States\",\"Las Vegas, Nevada, United States\",\"Las Vegas, Nevada, United States\",\"Las Vegas, Nevada, United States\",\"Las Vegas, Nevada, United States\",\"Las Vegas, Nevada, United States\",\"Las Vegas, Nevada, United States\",\"Las Vegas, Nevada, United States\",\"Las Vegas, Nevada, United States\",\"Las Vegas, Nevada, United States\",\"Las Vegas, Nevada, United States\",\"Las Vegas, Nevada, United States\",\"Las Vegas, Nevada, United States\",\"Las Vegas, Nevada, United States\",\"Las Vegas, Nevada, United States\",\"Las Vegas, Nevada, United States\",\"Las Vegas, Nevada, United States\",\"Las Vegas, Nevada, United States\",\"Las Vegas, Nevada, United States\",\"Las Vegas, Nevada, United States\",\"Las Vegas, Nevada, United States\",\"Las Vegas, Nevada, United States\",\"Las Vegas, Nevada, United States\",\"Las Vegas, Nevada, United States\",\"Las Vegas, Nevada, United States\",\"Las Vegas, Nevada, United States\",\"Las Vegas, Nevada, United States\",\"Las Vegas, Nevada, United States\",\"Las Vegas, Nevada, United States\",\"Las Vegas, Nevada, United States\",\"Las Vegas, Nevada, United States\",\"Las Vegas, Nevada, United States\",\"Las Vegas, Nevada, United States\",\"Las Vegas, Nevada, United States\",\"Las Vegas, Nevada, United States\",\"Las Vegas, Nevada, United States\",\"Las Vegas, Nevada, United States\",\"Las Vegas, Nevada, United States\",\"Las Vegas, Nevada, United States\",\"Las Vegas, Nevada, United States\",\"Las Vegas, Nevada, United States\",\"Las Vegas, Nevada, United States\",\"Las Vegas, Nevada, United States\",\"Las Vegas, Nevada, United States\",\"Las Vegas, Nevada, United States\",\"Las Vegas, Nevada, United States\",\"Las Vegas, Nevada, United States\",\"Las Vegas, Nevada, United States\",\"Las Vegas, Nevada, United States\",\"Las Vegas, Nevada, United States\",\"Las Vegas, Nevada, United States\",\"Las Vegas, Nevada, United States\",\"Las Vegas, Nevada, United States\",\"Las Vegas, Nevada, United States\",\"Las Vegas, Nevada, United States\",\"Las Vegas, Nevada, United States\",\"Las Vegas, Nevada, United States\",\"Las Vegas, Nevada, United States\",\"Las Vegas, Nevada, United States\",\"Las Vegas, Nevada, United States\",\"Las Vegas, Nevada, United States\",\"Las Vegas, Nevada, United States\",\"Las Vegas, Nevada, United States\",\"Las Vegas, Nevada, United States\",\"Las Vegas, Nevada, United States\",\"Las Vegas, Nevada, United States\",\"Las Vegas, Nevada, United States\",\"Las Vegas, Nevada, United States\",\"Las Vegas, Nevada, United States\",\"Las Vegas, Nevada, United States\",\"Las Vegas, Nevada, United States\",\"Las Vegas, Nevada, United States\",\"Las Vegas, Nevada, United States\",\"Las Vegas, Nevada, United States\",\"Las Vegas, Nevada, United States\",\"Las Vegas, Nevada, United States\",\"Las Vegas, Nevada, United States\",\"Las Vegas, Nevada, United States\",\"Las Vegas, Nevada, United States\",\"Las Vegas, Nevada, United States\",\"Las Vegas, Nevada, United States\",\"Las Vegas, Nevada, United States\",\"Las Vegas, Nevada, United States\",\"Las Vegas, Nevada, United States\",\"Las Vegas, Nevada, United States\",\"Las Vegas, Nevada, United States\",\"Las Vegas, Nevada, United States\",\"Las Vegas, Nevada, United States\",\"Las Vegas, Nevada, United States\",\"Las Vegas, Nevada, United States\",\"Las Vegas, Nevada, United States\",\"Las Vegas, Nevada, United States\",\"Las Vegas, Nevada, United States\",\"Las Vegas, Nevada, United States\",\"Las Vegas, Nevada, United States\",\"Las Vegas, Nevada, United States\",\"Las Vegas, Nevada, United States\",\"Las Vegas, Nevada, United States\",\"Las Vegas, Nevada, United States\",\"Las Vegas, Nevada, United States\",\"Las Vegas, Nevada, United States\",\"Las Vegas, Nevada, United States\",\"Las Vegas, Nevada, United States\",\"Las Vegas, Nevada, United States\",\"Las Vegas, Nevada, United States\",\"Las Vegas, Nevada, United States\",\"Las Vegas, Nevada, United States\",\"Las Vegas, Nevada, United States\",\"Las Vegas, Nevada, United States\",\"Las Vegas, Nevada, United States\",\"Las Vegas, Nevada, United States\",\"Las Vegas, Nevada, United States\",\"Las Vegas, Nevada, United States\",\"Las Vegas, Nevada, United States\",\"Las Vegas, Nevada, United States\",\"Las Vegas, Nevada, United States\",\"Las Vegas, Nevada, United States\",\"Las Vegas, Nevada, United States\",\"Las Vegas, Nevada, United States\",\"Las Vegas, Nevada, United States\",\"Las Vegas, Nevada, United States\",\"Las Vegas, Nevada, United States\",\"Las Vegas, Nevada, United States\",\"Las Vegas, Nevada, United States\",\"Las Vegas, Nevada, United States\",\"Las Vegas, Nevada, United States\",\"Las Vegas, Nevada, United States\",\"Las Vegas, Nevada, United States\",\"Las Vegas, Nevada, United States\",\"Las Vegas, Nevada, United States\",\"Las Vegas, Nevada, United States\",\"Las Vegas, Nevada, United States\",\"Las Vegas, Nevada, United States\",\"Las Vegas, Nevada, United States\",\"Las Vegas, Nevada, United States\",\"Las Vegas, Nevada, United States\",\"Las Vegas, Nevada, United States\",\"Las Vegas, Nevada, United States\",\"Las Vegas, Nevada, United States\",\"Las Vegas, Nevada, United States\",\"Las Vegas, Nevada, United States\",\"Las Vegas, Nevada, United States\",\"Las Vegas, Nevada, United States\",\"Las Vegas, Nevada, United States\",\"Las Vegas, Nevada, United States\",\"Las Vegas, Nevada, United States\",\"Las Vegas, Nevada, United States\",\"Las Vegas, Nevada, United States\",\"Las Vegas, Nevada, United States\",\"Las Vegas, Nevada, United States\",\"Las Vegas, Nevada, United States\",\"Las Vegas, Nevada, United States\",\"Las Vegas, Nevada, United States\",\"Las Vegas, Nevada, United States\",\"Las Vegas, Nevada, United States\",\"Las Vegas, Nevada, United States\",\"Las Vegas, Nevada, United States\",\"Las Vegas, Nevada, United States\",\"Las Vegas, Nevada, United States\",\"Las Vegas, Nevada, United States\",\"Las Vegas, Nevada, United States\",\"Las Vegas, Nevada, United States\",\"Las Vegas, Nevada, United States\",\"Las Vegas, Nevada, United States\",\"Las Vegas, Nevada, United States\",\"Las Vegas, Nevada, United States\",\"Las Vegas, Nevada, United States\",\"Las Vegas, Nevada, United States\",\"Las Vegas, Nevada, United States\",\"Las Vegas, Nevada, United States\",\"Las Vegas, Nevada, United States\",\"Las Vegas, Nevada, United States\",\"Las Vegas, Nevada, United States\",\"Las Vegas, Nevada, United States\",\"Las Vegas, Nevada, United States\",\"Las Vegas, Nevada, United States\",\"Las Vegas, Nevada, United States\",\"Las Vegas, Nevada, United States\",\"Las Vegas, Nevada, United States\",\"Las Vegas, Nevada, United States\",\"Las Vegas, Nevada, United States\",\"Las Vegas, Nevada, United States\",\"North Las Vegas, Nevada, United States\",\"Las Vegas, Nevada, United States\",\"Las Vegas, Nevada, United States\",\"Las Vegas, Nevada, United States\",\"Las Vegas, Nevada, United States\",\"Las Vegas, Nevada, United States\",\"Las Vegas, Nevada, United States\",\"Las Vegas, Nevada, United States\",\"Las Vegas, Nevada, United States\",\"Las Vegas, Nevada, United States\",\"Las Vegas, Nevada, United States\",\"Henderson, Nevada, United States\",\"Henderson, Nevada, United States\",\"Las Vegas, Nevada, United States\",\"Las Vegas, Nevada, United States\",\"Las Vegas, Nevada, United States\",\"Las Vegas, Nevada, United States\",\"Las Vegas, Nevada, United States\",\"Las Vegas, Nevada, United States\",\"North Las Vegas, Nevada, United States\",\"Las Vegas, Nevada, United States\",\"Las Vegas, Nevada, United States\",\"Las Vegas, Nevada, United States\",\"Las Vegas, Nevada, United States\",\"Las Vegas, Nevada, United States\",\"Las Vegas, Nevada, United States\",\"Las Vegas, Nevada, United States\",\"Las Vegas, Nevada, United States\",\"Las Vegas, Nevada, United States\",\"Las Vegas, Nevada, United States\",\"Las Vegas, Nevada, United States\",\"Las Vegas, Nevada, United States\",\"Las Vegas, Nevada, United States\",\"Las Vegas, Nevada, United States\",\"Las Vegas, Nevada, United States\",\"Las Vegas, Nevada, United States\",\"Las Vegas, Nevada, United States\",\"Las Vegas, Nevada, United States\",\"Las Vegas, Nevada, United States\",\"Las Vegas, Nevada, United States\",\"Las Vegas, Nevada, United States\",\"Las Vegas, Nevada, United States\",\"Las Vegas, Nevada, United States\",\"Las Vegas, Nevada, United States\",\"Las Vegas, Nevada, United States\",\"Las Vegas, Nevada, United States\",\"Las Vegas, Nevada, United States\",\"Las Vegas, Nevada, United States\",\"Las Vegas, Nevada, United States\",\"Las Vegas, Nevada, United States\",\"Las Vegas, Nevada, United States\",\"Las Vegas, Nevada, United States\",\"Las Vegas, Nevada, United States\",\"Las Vegas, Nevada, United States\",\"Las Vegas, Nevada, United States\",\"North Las Vegas, Nevada, United States\",\"Las Vegas, Nevada, United States\",\"Las Vegas, Nevada, United States\",\"Las Vegas, Nevada, United States\",\"Las Vegas, Nevada, United States\",\"Las Vegas, Nevada, United States\",\"Henderson, Nevada, United States\",\"Las Vegas, Nevada, United States\",\"Las Vegas, Nevada, United States\",\"Las Vegas, Nevada, United States\",\"North Las Vegas, Nevada, United States\",\"Las Vegas, Nevada, United States\",\"Las Vegas, Nevada, United States\",\"Las Vegas, Nevada, United States\",\"Las Vegas, Nevada, United States\",\"North Las Vegas, Nevada, United States\",\"Las Vegas, Nevada, United States\",\"Las Vegas, Nevada, United States\",\"Las Vegas, Nevada, United States\",\"Las Vegas, Nevada, United States\",\"Las Vegas, Nevada, United States\",\"Las Vegas, Nevada, United States\",\"Las Vegas, Nevada, United States\",\"Las Vegas, Nevada, United States\",\"Las Vegas, Nevada, United States\",\"Las Vegas, Nevada, United States\",\"Las Vegas, Nevada, United States\",\"Las Vegas, Nevada, United States\",\"Las Vegas, Nevada, United States\",\"Henderson, Nevada, United States\",\"Las Vegas, Nevada, United States\",\"Las Vegas, Nevada, United States\",\"Las Vegas, Nevada, United States\",\"Las Vegas, Nevada, United States\",\"Las Vegas, Nevada, United States\",\"Las Vegas, Nevada, United States\",\"Las Vegas, Nevada, United States\",\"Las Vegas, Nevada, United States\",\"Las Vegas, Nevada, United States\",\"Las Vegas, Nevada, United States\",\"Henderson, Nevada, United States\",\"Las Vegas, Nevada, United States\",\"Las Vegas, Nevada, United States\",\"Las Vegas, Nevada, United States\",\"Las Vegas, Nevada, United States\",\"Las Vegas, Nevada, United States\",\"Las Vegas, Nevada, United States\",\"Las Vegas, Nevada, United States\",\"Las Vegas, Nevada, United States\",\"Las Vegas, Nevada, United States\",\"Henderson, Nevada, United States\",\"Las Vegas, Nevada, United States\",\"Las Vegas, Nevada, United States\",\"Las Vegas, Nevada, United States\",\"Las Vegas, Nevada, United States\",\"Las Vegas, Nevada, United States\",\"Las Vegas, Nevada, United States\",\"Las Vegas, Nevada, United States\",\"Las Vegas, Nevada, United States\",\"Las Vegas, Nevada, United States\",\"Las Vegas, Nevada, United States\",\"Las Vegas, Nevada, United States\",\"Las Vegas, Nevada, United States\",\"Henderson, Nevada, United States\",\"Las Vegas, Nevada, United States\",\"Las Vegas, Nevada, United States\",\"Las Vegas, Nevada, United States\",\"Henderson, Nevada, United States\",\"Las Vegas, Nevada, United States\",\"Las Vegas, Nevada, United States\",\"Las Vegas, Nevada, United States\",\"Las Vegas, Nevada, United States\",\"Las Vegas, Nevada, United States\",\"Las Vegas, Nevada, United States\",\"Las Vegas, Nevada, United States\",\"Las Vegas, Nevada, United States\",\"Las Vegas, Nevada, United States\",\"Las Vegas, Nevada, United States\",\"Las Vegas, Nevada, United States\",\"Las Vegas, Nevada, United States\",\"Las Vegas, Nevada, United States\",\"Las Vegas, Nevada, United States\",\"Las Vegas, Nevada, United States\",\"Las Vegas, Nevada, United States\",\"Las Vegas, Nevada, United States\",\"Las Vegas, Nevada, United States\",\"Las Vegas, Nevada, United States\",\"Las Vegas, Nevada, United States\",\"Henderson, Nevada, United States\",\"Las Vegas, Nevada, United States\",\"Las Vegas, Nevada, United States\",\"Henderson, Nevada, United States\",\"Las Vegas, Nevada, United States\",\"Las Vegas, Nevada, United States\",\"Las Vegas, Nevada, United States\",\"Las Vegas, Nevada, United States\",\"Las Vegas, Nevada, United States\",\"Las Vegas, Nevada, United States\",\"Las Vegas, Nevada, United States\",\"Las Vegas, Nevada, United States\",\"Henderson, Nevada, United States\",\"Las Vegas, Nevada, United States\",\"Las Vegas, Nevada, United States\",\"Las Vegas, Nevada, United States\",\"Las Vegas, Nevada, United States\",\"Las Vegas, Nevada, United States\",\"Las Vegas, Nevada, United States\",\"Las Vegas, Nevada, United States\",\"Las Vegas, Nevada, United States\",\"Las Vegas, Nevada, United States\",\"Las Vegas, Nevada, United States\",\"Las Vegas, Nevada, United States\",\"Las Vegas, Nevada, United States\",\"Las Vegas, Nevada, United States\",\"Las Vegas, Nevada, United States\",\"Las Vegas, Nevada, United States\",\"Las Vegas, Nevada, United States\",\"Las Vegas, Nevada, United States\",\"Las Vegas, Nevada, United States\",\"Las Vegas, Nevada, United States\",\"Las Vegas, Nevada, United States\",\"Las Vegas, Nevada, United States\",\"Las Vegas, Nevada, United States\",\"Las Vegas, Nevada, United States\",\"Henderson, Nevada, United States\",\"Las Vegas, Nevada, United States\",\"Las Vegas, Nevada, United States\",\"Las Vegas, Nevada, United States\",\"Las Vegas, Nevada, United States\",\"Las Vegas, Nevada, United States\",\"Las Vegas, Nevada, United States\",\"Las Vegas, Nevada, United States\",\"Las Vegas, Nevada, United States\",\"Las Vegas, Nevada, United States\",\"Las Vegas, Nevada, United States\",\"Las Vegas, Nevada, United States\",\"Las Vegas, Nevada, United States\",\"Las Vegas, Nevada, United States\",\"Henderson, Nevada, United States\",\"Las Vegas, Nevada, United States\",\"Las Vegas, Nevada, United States\",\"Las Vegas, Nevada, United States\",\"Las Vegas, Nevada, United States\",\"Las Vegas, Nevada, United States\",\"Las Vegas, Nevada, United States\",\"Las Vegas, Nevada, United States\",\"Las Vegas, Nevada, United States\",\"Las Vegas, Nevada, United States\",\"Las Vegas, Nevada, United States\",\"Las Vegas, Nevada, United States\",\"Las Vegas, Nevada, United States\",\"Las Vegas, Nevada, United States\",\"Las Vegas, Nevada, United States\",\"Las Vegas, Nevada, United States\",\"Las Vegas, Nevada, United States\",\"Henderson, Nevada, United States\",\"Las Vegas, Nevada, United States\",\"Las Vegas, Nevada, United States\",\"Las Vegas, Nevada, United States\",\"Las Vegas, Nevada, United States\",\"Las Vegas, Nevada, United States\",\"Las Vegas, Nevada, United States\",\"Las Vegas, Nevada, United States\",\"Las Vegas, Nevada, United States\",\"Las Vegas, Nevada, United States\",\"Las Vegas, Nevada, United States\",\"Las Vegas, Nevada, United States\",\"Las Vegas, Nevada, United States\",\"Las Vegas, Nevada, United States\",\"Las Vegas, Nevada, United States\",\"Las Vegas, Nevada, United States\",\"Las Vegas, Nevada, United States\",\"Las Vegas, Nevada, United States\",\"North Las Vegas, Nevada, United States\",\"Henderson, Nevada, United States\",\"Las Vegas, Nevada, United States\",\"Las Vegas, Nevada, United States\",\"Las Vegas, Nevada, United States\",\"Las Vegas, Nevada, United States\",\"Las Vegas, Nevada, United States\",\"Las Vegas, Nevada, United States\",\"Las Vegas, Nevada, United States\",\"Las Vegas, Nevada, United States\",\"Las Vegas, Nevada, United States\",\"Las Vegas, Nevada, United States\",\"Las Vegas, Nevada, United States\",\"Las Vegas, Nevada, United States\",\"Las Vegas, Nevada, United States\",\"Henderson, Nevada, United States\",\"Las Vegas, Nevada, United States\",\"Las Vegas, Nevada, United States\",\"Las Vegas, Nevada, United States\",\"Las Vegas, Nevada, United States\",\"Las Vegas, Nevada, United States\",\"Las Vegas, Nevada, United States\",\"North Las Vegas, Nevada, United States\",\"Las Vegas, Nevada, United States\",\"Las Vegas, Nevada, United States\",\"Las Vegas, Nevada, United States\",\"Henderson, Nevada, United States\",\"Henderson, Nevada, United States\",\"Las Vegas, Nevada, United States\",\"Henderson, Nevada, United States\",\"Las Vegas, Nevada, United States\",\"Las Vegas, Nevada, United States\",\"Henderson, Nevada, United States\",\"Las Vegas, Nevada, United States\",\"Las Vegas, Nevada, United States\",\"Las Vegas, Nevada, United States\",\"Las Vegas, Nevada, United States\",\"Henderson, Nevada, United States\",\"Las Vegas, Nevada, United States\",\"Las Vegas, Nevada, United States\",\"Las Vegas, Nevada, United States\",\"Las Vegas, Nevada, United States\",\"Las Vegas, Nevada, United States\",\"Paradise, Nevada, United States\",\"Las Vegas, Nevada, United States\",\"Las Vegas, Nevada, United States\",\"Las Vegas, Nevada, United States\",\"Las Vegas, Nevada, United States\",\"Henderson, Nevada, United States\",\"Las Vegas, Nevada, United States\",\"Las Vegas, Nevada, United States\",\"Las Vegas, Nevada, United States\",\"Las Vegas, Nevada, United States\",\"Las Vegas, Nevada, United States\",\"Las Vegas, Nevada, United States\",\"Las Vegas, Nevada, United States\",\"Las Vegas, Nevada, United States\",\"Las Vegas, Nevada, United States\",\"Las Vegas, Nevada, United States\",\"Henderson, Nevada, United States\",\"Henderson, Nevada, United States\",\"Las Vegas, Nevada, United States\",\"Las Vegas, Nevada, United States\",\"Las Vegas, Nevada, United States\",\"Henderson, Nevada, United States\",\"Las Vegas, Nevada, United States\",\"North Las Vegas, Nevada, United States\",\"Las Vegas, Nevada, United States\",\"Las Vegas, Nevada, United States\",\"Las Vegas, Nevada, United States\",\"Las Vegas, Nevada, United States\",\"Las Vegas, Nevada, United States\",\"Las Vegas, Nevada, United States\",\"Las Vegas, Nevada, United States\",\"Las Vegas, Nevada, United States\",\"Las Vegas, Nevada, United States\",\"North Las Vegas, Nevada, United States\",\"Las Vegas, Nevada, United States\",\"Las Vegas, Nevada, United States\",\"Las Vegas, Nevada, United States\",\"Las Vegas, Nevada, United States\",\"Las Vegas, Nevada, United States\",\"Las Vegas, Nevada, United States\",\"Las Vegas, Nevada, United States\",\"Las Vegas, Nevada, United States\",\"Las Vegas, Nevada, United States\",\"Las Vegas, Nevada, United States\",\"Las Vegas, Nevada, United States\",\"Las Vegas, Nevada, United States\",\"Las Vegas, Nevada, United States\",\"Las Vegas, Nevada, United States\",\"Las Vegas, Nevada, United States\",\"Las Vegas, Nevada, United States\",\"Las Vegas, Nevada, United States\",\"Las Vegas, Nevada, United States\",\"Las Vegas, Nevada, United States\",\"Las Vegas, Nevada, United States\",\"Las Vegas, Nevada, United States\",\"Las Vegas, Nevada, United States\",\"Las Vegas, Nevada, United States\",\"Las Vegas, Nevada, United States\",\"Las Vegas, Nevada, United States\",\"Las Vegas, Nevada, United States\",\"Las Vegas, Nevada, United States\",\"Las Vegas, Nevada, United States\",\"Las Vegas, Nevada, United States\",\"Las Vegas, Nevada, United States\",\"Las Vegas, Nevada, United States\",\"Las Vegas, Nevada, United States\",\"Las Vegas, Nevada, United States\",\"Las Vegas, Nevada, United States\",\"Las Vegas, Nevada, United States\",\"Las Vegas, Nevada, United States\",\"Las Vegas, Nevada, United States\",\"Las Vegas, Nevada, United States\",\"North Las Vegas, Nevada, United States\",\"Henderson, Nevada, United States\",\"Las Vegas, Nevada, United States\",\"Las Vegas, Nevada, United States\",\"Las Vegas, Nevada, United States\",\"Las Vegas, Nevada, United States\",\"Las Vegas, Nevada, United States\",\"Las Vegas, Nevada, United States\",\"Las Vegas, Nevada, United States\",\"Las Vegas, Nevada, United States\",\"Las Vegas, Nevada, United States\",\"Las Vegas, Nevada, United States\",\"North Las Vegas, Nevada, United States\",\"Las Vegas, Nevada, United States\",\"Henderson, Nevada, United States\",\"Las Vegas, Nevada, United States\",\"Las Vegas, Nevada, United States\",\"Las Vegas, Nevada, United States\",\"Las Vegas, Nevada, United States\",\"Las Vegas, Nevada, United States\",\"Las Vegas, Nevada, United States\",\"Las Vegas, Nevada, United States\",\"Las Vegas, Nevada, United States\",\"Las Vegas, Nevada, United States\",\"Las Vegas, Nevada, United States\",\"Las Vegas, Nevada, United States\",\"Las Vegas, Nevada, United States\",\"Las Vegas, Nevada, United States\",\"Las Vegas, Nevada, United States\",\"Las Vegas, Nevada, United States\",\"Las Vegas, Nevada, United States\",\"Las Vegas, Nevada, United States\",\"Las Vegas, Nevada, United States\",\"Las Vegas, Nevada, United States\",\"Las Vegas, Nevada, United States\",\"Las Vegas, Nevada, United States\",\"Las Vegas, Nevada, United States\",\"Las Vegas, Nevada, United States\",\"Las Vegas, Nevada, United States\",\"Las Vegas, Nevada, United States\",\"Las Vegas, Nevada, United States\",\"Las Vegas, Nevada, United States\",\"Las Vegas, Nevada, United States\",\"Las Vegas, Nevada, United States\",\"Las Vegas, Nevada, United States\",\"Las Vegas, Nevada, United States\",\"Las Vegas, Nevada, United States\",\"Las Vegas, Nevada, United States\",\"Las Vegas, Nevada, United States\",\"Henderson, Nevada, United States\",\"Las Vegas, Nevada, United States\",\"Las Vegas, Nevada, United States\",\"Las Vegas, Nevada, United States\",\"Las Vegas, Nevada, United States\",\"Las Vegas, Nevada, United States\",\"Las Vegas, Nevada, United States\",\"North Las Vegas, Nevada, United States\",\"Las Vegas, Nevada, United States\",\"Las Vegas, Nevada, United States\",\"Las Vegas, Nevada, United States\",\"North Las Vegas, Nevada, United States\",\"Las Vegas, Nevada, United States\",\"Las Vegas, Nevada, United States\",\"Las Vegas, Nevada, United States\",\"Las Vegas, Nevada, United States\",\"Las Vegas, Nevada, United States\",\"Las Vegas, Nevada, United States\",\"Las Vegas, Nevada, United States\",\"Las Vegas, Nevada, United States\",\"Las Vegas, Nevada, United States\",\"Las Vegas, Nevada, United States\",\"Las Vegas, Nevada, United States\",\"Las Vegas, Nevada, United States\",\"Las Vegas, Nevada, United States\",\"Las Vegas, Nevada, United States\",\"Las Vegas, Nevada, United States\",\"Las Vegas, Nevada, United States\",\"Las Vegas, Nevada, United States\",\"Las Vegas, Nevada, United States\",\"Las Vegas, Nevada, United States\",\"Las Vegas, Nevada, United States\",\"Las Vegas, Nevada, United States\",\"Las Vegas, Nevada, United States\",\"Las Vegas, Nevada, United States\",\"Las Vegas, Nevada, United States\",\"Las Vegas, Nevada, United States\",\"Las Vegas, Nevada, United States\",\"Las Vegas, Nevada, United States\",\"Las Vegas, Nevada, United States\",\"Henderson, Nevada, United States\",\"North Las Vegas, Nevada, United States\",\"Las Vegas, Nevada, United States\",\"Las Vegas, Nevada, United States\",\"Las Vegas, Nevada, United States\",\"Las Vegas, Nevada, United States\",\"Las Vegas, Nevada, United States\",\"Las Vegas, Nevada, United States\",\"Las Vegas, Nevada, United States\",\"Las Vegas, Nevada, United States\",\"Las Vegas, Nevada, United States\",\"Las Vegas, Nevada, United States\",\"Las Vegas, Nevada, United States\",\"Las Vegas, Nevada, United States\",\"Las Vegas, Nevada, United States\",\"Las Vegas, Nevada, United States\",\"Las vegas , Nevada, United States\",\"Henderson, Nevada, United States\",\"Las Vegas, Nevada, United States\",\"Las Vegas, Nevada, United States\",\"North Las Vegas, Nevada, United States\",\"Las Vegas, Nevada, United States\",\"Las Vegas, Nevada, United States\",\"Las Vegas, Nevada, United States\",\"Las Vegas, Nevada, United States\",\"Las Vegas, Nevada, United States\",\"Las Vegas, Nevada, United States\",\"Henderson, Nevada, United States\",\"Las Vegas, Nevada, United States\",\"Las Vegas, Nevada, United States\",\"Las Vegas, Nevada, United States\",\"Las Vegas, Nevada, United States\",\"Las Vegas, Nevada, United States\",\"Las Vegas, Nevada, United States\",\"Las Vegas, Nevada, United States\",\"Las Vegas, Nevada, United States\",\"Las Vegas, Nevada, United States\",\"Las Vegas, Nevada, United States\",\"Las Vegas, Nevada, United States\",\"Las Vegas, Nevada, United States\",\"Las Vegas, Nevada, United States\",\"Las Vegas, Nevada, United States\",\"Las Vegas, Nevada, United States\",\"Las Vegas, Nevada, United States\",\"Las Vegas, Nevada, United States\",\"Las Vegas, Nevada, United States\",\"Las Vegas, Nevada, United States\",\"Las Vegas, Nevada, United States\",\"Las Vegas, Nevada, United States\",\"Las Vegas, Nevada, United States\",\"Las Vegas, Nevada, United States\",\"Las Vegas, Nevada, United States\",\"Las Vegas, Nevada, United States\",\"Las Vegas, Nevada, United States\",\"Las Vegas, Nevada, United States\",\"Las Vegas, Nevada, United States\",\"North Las Vegas, Nevada, United States\",\"Las Vegas, Nevada, United States\",\"Las Vegas, Nevada, United States\",\"Henderson, Nevada, United States\",\"Las Vegas, Nevada, United States\",\"Las Vegas, Nevada, United States\",\"Las Vegas, Nevada, United States\",\"Las Vegas, Nevada, United States\",\"Las Vegas, Nevada, United States\",\"Las Vegas, Nevada, United States\",\"Las Vegas, Nevada, United States\",\"Las Vegas, Nevada, United States\",\"Las Vegas, Nevada, United States\",\"Las Vegas, Nevada, United States\",\"Las Vegas, Nevada, United States\",\"North Las Vegas, Nevada, United States\",\"Las Vegas, Nevada, United States\",\"Las Vegas, Nevada, United States\",\"Las Vegas, Nevada, United States\",\"Las Vegas, Nevada, United States\",\"Las Vegas, Nevada, United States\",\"Las Vegas, Nevada, United States\",\"Las Vegas, Nevada, United States\",\"Las Vegas, Nevada, United States\",\"Las Vegas, Nevada, United States\",\"Las Vegas, Nevada, United States\",\"Las Vegas, Nevada, United States\",\"Las Vegas, Nevada, United States\",\"Henderson, Nevada, United States\",\"Las Vegas, Nevada, United States\",\"Las Vegas, Nevada, United States\",\"Las Vegas, Nevada, United States\",\"Las Vegas, Nevada, United States\",\"Las Vegas, Nevada, United States\",\"Henderson, Nevada, United States\",\"Las Vegas, Nevada, United States\",\"Las Vegas, Nevada, United States\",\"Las Vegas, Nevada, United States\",\"Las Vegas, Nevada, United States\",\"Las Vegas, Nevada, United States\",\"Las Vegas, Nevada, United States\",\"Las Vegas, Nevada, United States\",\"Las Vegas, Nevada, United States\",\"Las Vegas, Nevada, United States\",\"Henderson, Nevada, United States\",\"Las Vegas, Nevada, United States\",\"Las Vegas, Nevada, United States\",\"Las Vegas, Nevada, United States\",\"Las Vegas, Nevada, United States\",\"Las Vegas, Nevada, United States\",\"Henderson, Nevada, United States\",\"Henderson, Nevada, United States\",\"Las Vegas, Nevada, United States\",\"Las Vegas, Nevada, United States\",\"Las Vegas, Nevada, United States\",\"Las Vegas, Nevada, United States\",\"Las Vegas, Nevada, United States\",\"Henderson, Nevada, United States\",\"Las Vegas, Nevada, United States\",\"Las Vegas, Nevada, United States\",\"Las Vegas, Nevada, United States\",\"Henderson, Nevada, United States\",\"Las Vegas, Nevada, United States\",\"Las Vegas, Nevada, United States\",\"Las Vegas, Nevada, United States\",\"Las Vegas, Nevada, United States\",\"Las Vegas, Nevada, United States\",\"Las Vegas, Nevada, United States\",\"Las Vegas, Nevada, United States\",\"Las Vegas, Nevada, United States\",\"Las Vegas, Nevada, United States\",\"Las Vegas, Nevada, United States\",\"Las Vegas, Nevada, United States\",\"Las Vegas, Nevada, United States\",\"Las Vegas, Nevada, United States\",\"Las Vegas, Nevada, United States\",\"Las Vegas, Nevada, United States\",\"Las Vegas, Nevada, United States\",\"Las Vegas, Nevada, United States\",\"Las Vegas, Nevada, United States\",\"Las Vegas, Nevada, United States\",\"Las Vegas, Nevada, United States\",\"Las Vegas, Nevada, United States\",\"Las Vegas, Nevada, United States\",\"Las Vegas, Nevada, United States\",\"Las Vegas, Nevada, United States\",\"Las Vegas, Nevada, United States\",\"Las Vegas, Nevada, United States\",\"Las Vegas, Nevada, United States\",\"Las Vegas, Nevada, United States\",\"Las Vegas, Nevada, United States\",\"North Las Vegas, Nevada, United States\",\"Las Vegas, Nevada, United States\",\"Las Vegas, Nevada, United States\",\"Las Vegas, Nevada, United States\",\"Las Vegas, Nevada, United States\",\"Las Vegas, Nevada, United States\",\"North Las Vegas, Nevada, United States\",\"North Las Vegas, Nevada, United States\",\"Henderson, Nevada, United States\",\"Las Vegas, Nevada, United States\",\"North Las Vegas, Nevada, United States\",\"Henderson, Nevada, United States\",\"Las Vegas, Nevada, United States\",\"Las Vegas, Nevada, United States\",\"Henderson, Nevada, United States\",\"Las Vegas, Nevada, United States\",\"North Las Vegas, Nevada, United States\",\"Las Vegas, Nevada, United States\",\"Henderson, Nevada, United States\",\"Las Vegas, Nevada, United States\",\"Henderson, Nevada, United States\",\"Las Vegas, Nevada, United States\",\"Las Vegas, Nevada, United States\",\"Las Vegas, Nevada, United States\",\"Las Vegas, Nevada, United States\",\"Las Vegas, Nevada, United States\",\"Las Vegas, Nevada, United States\",\"Las Vegas, Nevada, United States\",\"Las Vegas, Nevada, United States\",\"Las Vegas, Nevada, United States\",\"Las Vegas, Nevada, United States\",\"Las Vegas, Nevada, United States\",\"Las Vegas, Nevada, United States\",\"Las Vegas, Nevada, United States\",\"Las Vegas, Nevada, United States\",\"Las Vegas, Nevada, United States\",\"Las Vegas, Nevada, United States\",\"Las Vegas, Nevada, United States\",\"Las Vegas, Nevada, United States\",\"Las Vegas, Nevada, United States\",\"Henderson, Nevada, United States\",\"Henderson, Nevada, United States\",\"Las Vegas, Nevada, United States\",\"Las Vegas, Nevada, United States\",\"Las Vegas, Nevada, United States\",\"Henderson, Nevada, United States\",\"North Las Vegas, Nevada, United States\",\"Las Vegas, Nevada, United States\",\"Las Vegas, Nevada, United States\",\"Las Vegas, Nevada, United States\",\"Las Vegas, Nevada, United States\",\"Las Vegas, Nevada, United States\",\"Las Vegas, Nevada, United States\",\"Las Vegas, Nevada, United States\",\"Henderson, Nevada, United States\",\"Las Vegas, Nevada, United States\",\"Henderson, Nevada, United States\",\"Las Vegas, Nevada, United States\",\"Las Vegas, Nevada, United States\",\"Las Vegas, Nevada, United States\",\"Las Vegas, Nevada, United States\",\"Las Vegas, Nevada, United States\",\"Las Vegas, Nevada, United States\",\"Las Vegas, Nevada, United States\",\"Las Vegas, Nevada, United States\",\"Las Vegas, Nevada, United States\",\"Las Vegas, Nevada, United States\",\"Henderson, Nevada, United States\",\"Las Vegas, Nevada, United States\",\"Las Vegas, Nevada, United States\",\"Henderson, Nevada, United States\",\"Las Vegas, Nevada, United States\",\"Las Vegas, Nevada, United States\",\"Henderson, Nevada, United States\",\"Henderson, Nevada, United States\",\"Las Vegas, Nevada, United States\",\"Las Vegas, Nevada, United States\",\"Las Vegas, Nevada, United States\",\"Henderson, Nevada, United States\",\"Las Vegas, Nevada, United States\",\"Las Vegas, Nevada, United States\",\"Las Vegas, Nevada, United States\",\"Las Vegas, Nevada, United States\",\"Las Vegas, Nevada, United States\",\"Las Vegas, Nevada, United States\",\"Henderson, Nevada, United States\",\"Las Vegas, Nevada, United States\",\"Las Vegas, Nevada, United States\",\"Las Vegas, Nevada, United States\",\"Las Vegas, Nevada, United States\",\"Henderson, Nevada, United States\",\"Las Vegas, Nevada, United States\",\"Henderson, Nevada, United States\",\"Las Vegas, Nevada, United States\",\"Henderson, Nevada, United States\",\"Las Vegas, Nevada, United States\",\"Las Vegas, Nevada, United States\",\"Las Vegas, Nevada, United States\",\"Las Vegas, Nevada, United States\",\"Las Vegas, Nevada, United States\",\"Henderson, Nevada, United States\",\"Las Vegas, Nevada, United States\",\"Las Vegas, Nevada, United States\",\"Las Vegas, Nevada, United States\",\"Las Vegas, Nevada, United States\",\"Las Vegas, Nevada, United States\",\"Las Vegas, Nevada, United States\",\"Las Vegas, Nevada, United States\",\"Las Vegas, Nevada, United States\",\"Las Vegas, Nevada, United States\",\"Las Vegas, Nevada, United States\",\"Las Vegas, Nevada, United States\",\"Las Vegas, Nevada, United States\",\"Las Vegas, Nevada, United States\",\"Henderson, Nevada, United States\",\"Las Vegas, Nevada, United States\",\"Las Vegas, Nevada, United States\",\"Las Vegas, Nevada, United States\",\"Las Vegas, Nevada, United States\",\"Las Vegas , Nevada, United States\",\"Henderson, Nevada, United States\",\"Las Vegas, Nevada, United States\",\"Henderson, Nevada, United States\",\"Las Vegas, Nevada, United States\",\"North Las Vegas, Nevada, United States\",\"Las Vegas, Nevada, United States\",\"Las Vegas, Nevada, United States\",\"Las Vegas, Nevada, United States\",\"Las Vegas, Nevada, United States\",\"Las Vegas, Nevada, United States\",\"Las Vegas, Nevada, United States\",\"Las Vegas, Nevada, United States\",\"Henderson, Nevada, United States\",\"Las Vegas, Nevada, United States\",\"North Las Vegas, Nevada, United States\",\"Las Vegas, Nevada, United States\",\"Henderson, Nevada, United States\",\"Las Vegas, Nevada, United States\",\"Las Vegas, Nevada, United States\",\"Henderson, Nevada, United States\",\"Las Vegas, Nevada, United States\",\"Las Vegas, Nevada, United States\",\"Las Vegas, Nevada, United States\",\"Las Vegas, Nevada, United States\",\"Las Vegas, Nevada, United States\",\"Las Vegas, Nevada, United States\",\"North Las Vegas, Nevada, United States\",\"Henderson, Nevada, United States\",\"North Las Vegas, Nevada, United States\",\"Henderson, Nevada, United States\",\"Las Vegas, Nevada, United States\",\"Las Vegas, Nevada, United States\",\"Las Vegas, Nevada, United States\",\"Las Vegas, Nevada, United States\",\"Las Vegas, Nevada, United States\",\"Las Vegas, Nevada, United States\",\"Las Vegas, Nevada, United States\",\"Las Vegas, Nevada, United States\",\"Las Vegas, Nevada, United States\",\"North Las Vegas, Nevada, United States\",\"Las Vegas, Nevada, United States\",\"Las Vegas, Nevada, United States\",\"Las Vegas, Nevada, United States\",\"Las Vegas, Nevada, United States\",\"Las Vegas, Nevada, United States\",\"Las Vegas, Nevada, United States\",\"Las Vegas, Nevada, United States\",\"Las Vegas, Nevada, United States\",\"Las Vegas, Nevada, United States\",\"Las Vegas, Nevada, United States\",\"Las Vegas, Nevada, United States\",\"Henderson, Nevada, United States\",\"Henderson, Nevada, United States\",\"Las Vegas, Nevada, United States\",\"Las Vegas, Nevada, United States\",\"Henderson, Nevada, United States\",\"Las Vegas, Nevada, United States\",\"Las Vegas, Nevada, United States\",\"Henderson, Nevada, United States\",\"Henderson, Nevada, United States\",\"Las Vegas, Nevada, United States\",\"Las Vegas, Nevada, United States\",\"Las Vegas, Nevada, United States\",\"Las Vegas, Nevada, United States\",\"Las Vegas, Nevada, United States\",\"North Las Vegas, Nevada, United States\",\"Las Vegas, Nevada, United States\",\"Las Vegas, Nevada, United States\",\"Las Vegas, Nevada, United States\",\"Las Vegas, Nevada, United States\",\"Las Vegas, Nevada, United States\",\"Las Vegas, Nevada, United States\",\"Las Vegas, Nevada, United States\",\"Las Vegas, Nevada, United States\",\"Las Vegas, Nevada, United States\",\"Las Vegas, Nevada, United States\",\"Las Vegas, Nevada, United States\",\"Las Vegas, Nevada, United States\",\"Las Vegas, Nevada, United States\",\"Henderson, Nevada, United States\",\"Lake Las Vegas, Henderson, Nevada, United States\",\"Las Vegas, Nevada, United States\",\"Las Vegas, Nevada, United States\"],\"xaxis\":\"x\",\"yaxis\":\"y\",\"type\":\"histogram\"}],                        {\"template\":{\"data\":{\"histogram2dcontour\":[{\"type\":\"histogram2dcontour\",\"colorbar\":{\"outlinewidth\":0,\"ticks\":\"\"},\"colorscale\":[[0.0,\"#0d0887\"],[0.1111111111111111,\"#46039f\"],[0.2222222222222222,\"#7201a8\"],[0.3333333333333333,\"#9c179e\"],[0.4444444444444444,\"#bd3786\"],[0.5555555555555556,\"#d8576b\"],[0.6666666666666666,\"#ed7953\"],[0.7777777777777778,\"#fb9f3a\"],[0.8888888888888888,\"#fdca26\"],[1.0,\"#f0f921\"]]}],\"choropleth\":[{\"type\":\"choropleth\",\"colorbar\":{\"outlinewidth\":0,\"ticks\":\"\"}}],\"histogram2d\":[{\"type\":\"histogram2d\",\"colorbar\":{\"outlinewidth\":0,\"ticks\":\"\"},\"colorscale\":[[0.0,\"#0d0887\"],[0.1111111111111111,\"#46039f\"],[0.2222222222222222,\"#7201a8\"],[0.3333333333333333,\"#9c179e\"],[0.4444444444444444,\"#bd3786\"],[0.5555555555555556,\"#d8576b\"],[0.6666666666666666,\"#ed7953\"],[0.7777777777777778,\"#fb9f3a\"],[0.8888888888888888,\"#fdca26\"],[1.0,\"#f0f921\"]]}],\"heatmap\":[{\"type\":\"heatmap\",\"colorbar\":{\"outlinewidth\":0,\"ticks\":\"\"},\"colorscale\":[[0.0,\"#0d0887\"],[0.1111111111111111,\"#46039f\"],[0.2222222222222222,\"#7201a8\"],[0.3333333333333333,\"#9c179e\"],[0.4444444444444444,\"#bd3786\"],[0.5555555555555556,\"#d8576b\"],[0.6666666666666666,\"#ed7953\"],[0.7777777777777778,\"#fb9f3a\"],[0.8888888888888888,\"#fdca26\"],[1.0,\"#f0f921\"]]}],\"heatmapgl\":[{\"type\":\"heatmapgl\",\"colorbar\":{\"outlinewidth\":0,\"ticks\":\"\"},\"colorscale\":[[0.0,\"#0d0887\"],[0.1111111111111111,\"#46039f\"],[0.2222222222222222,\"#7201a8\"],[0.3333333333333333,\"#9c179e\"],[0.4444444444444444,\"#bd3786\"],[0.5555555555555556,\"#d8576b\"],[0.6666666666666666,\"#ed7953\"],[0.7777777777777778,\"#fb9f3a\"],[0.8888888888888888,\"#fdca26\"],[1.0,\"#f0f921\"]]}],\"contourcarpet\":[{\"type\":\"contourcarpet\",\"colorbar\":{\"outlinewidth\":0,\"ticks\":\"\"}}],\"contour\":[{\"type\":\"contour\",\"colorbar\":{\"outlinewidth\":0,\"ticks\":\"\"},\"colorscale\":[[0.0,\"#0d0887\"],[0.1111111111111111,\"#46039f\"],[0.2222222222222222,\"#7201a8\"],[0.3333333333333333,\"#9c179e\"],[0.4444444444444444,\"#bd3786\"],[0.5555555555555556,\"#d8576b\"],[0.6666666666666666,\"#ed7953\"],[0.7777777777777778,\"#fb9f3a\"],[0.8888888888888888,\"#fdca26\"],[1.0,\"#f0f921\"]]}],\"surface\":[{\"type\":\"surface\",\"colorbar\":{\"outlinewidth\":0,\"ticks\":\"\"},\"colorscale\":[[0.0,\"#0d0887\"],[0.1111111111111111,\"#46039f\"],[0.2222222222222222,\"#7201a8\"],[0.3333333333333333,\"#9c179e\"],[0.4444444444444444,\"#bd3786\"],[0.5555555555555556,\"#d8576b\"],[0.6666666666666666,\"#ed7953\"],[0.7777777777777778,\"#fb9f3a\"],[0.8888888888888888,\"#fdca26\"],[1.0,\"#f0f921\"]]}],\"mesh3d\":[{\"type\":\"mesh3d\",\"colorbar\":{\"outlinewidth\":0,\"ticks\":\"\"}}],\"scatter\":[{\"fillpattern\":{\"fillmode\":\"overlay\",\"size\":10,\"solidity\":0.2},\"type\":\"scatter\"}],\"parcoords\":[{\"type\":\"parcoords\",\"line\":{\"colorbar\":{\"outlinewidth\":0,\"ticks\":\"\"}}}],\"scatterpolargl\":[{\"type\":\"scatterpolargl\",\"marker\":{\"colorbar\":{\"outlinewidth\":0,\"ticks\":\"\"}}}],\"bar\":[{\"error_x\":{\"color\":\"#2a3f5f\"},\"error_y\":{\"color\":\"#2a3f5f\"},\"marker\":{\"line\":{\"color\":\"#E5ECF6\",\"width\":0.5},\"pattern\":{\"fillmode\":\"overlay\",\"size\":10,\"solidity\":0.2}},\"type\":\"bar\"}],\"scattergeo\":[{\"type\":\"scattergeo\",\"marker\":{\"colorbar\":{\"outlinewidth\":0,\"ticks\":\"\"}}}],\"scatterpolar\":[{\"type\":\"scatterpolar\",\"marker\":{\"colorbar\":{\"outlinewidth\":0,\"ticks\":\"\"}}}],\"histogram\":[{\"marker\":{\"pattern\":{\"fillmode\":\"overlay\",\"size\":10,\"solidity\":0.2}},\"type\":\"histogram\"}],\"scattergl\":[{\"type\":\"scattergl\",\"marker\":{\"colorbar\":{\"outlinewidth\":0,\"ticks\":\"\"}}}],\"scatter3d\":[{\"type\":\"scatter3d\",\"line\":{\"colorbar\":{\"outlinewidth\":0,\"ticks\":\"\"}},\"marker\":{\"colorbar\":{\"outlinewidth\":0,\"ticks\":\"\"}}}],\"scattermapbox\":[{\"type\":\"scattermapbox\",\"marker\":{\"colorbar\":{\"outlinewidth\":0,\"ticks\":\"\"}}}],\"scatterternary\":[{\"type\":\"scatterternary\",\"marker\":{\"colorbar\":{\"outlinewidth\":0,\"ticks\":\"\"}}}],\"scattercarpet\":[{\"type\":\"scattercarpet\",\"marker\":{\"colorbar\":{\"outlinewidth\":0,\"ticks\":\"\"}}}],\"carpet\":[{\"aaxis\":{\"endlinecolor\":\"#2a3f5f\",\"gridcolor\":\"white\",\"linecolor\":\"white\",\"minorgridcolor\":\"white\",\"startlinecolor\":\"#2a3f5f\"},\"baxis\":{\"endlinecolor\":\"#2a3f5f\",\"gridcolor\":\"white\",\"linecolor\":\"white\",\"minorgridcolor\":\"white\",\"startlinecolor\":\"#2a3f5f\"},\"type\":\"carpet\"}],\"table\":[{\"cells\":{\"fill\":{\"color\":\"#EBF0F8\"},\"line\":{\"color\":\"white\"}},\"header\":{\"fill\":{\"color\":\"#C8D4E3\"},\"line\":{\"color\":\"white\"}},\"type\":\"table\"}],\"barpolar\":[{\"marker\":{\"line\":{\"color\":\"#E5ECF6\",\"width\":0.5},\"pattern\":{\"fillmode\":\"overlay\",\"size\":10,\"solidity\":0.2}},\"type\":\"barpolar\"}],\"pie\":[{\"automargin\":true,\"type\":\"pie\"}]},\"layout\":{\"autotypenumbers\":\"strict\",\"colorway\":[\"#636efa\",\"#EF553B\",\"#00cc96\",\"#ab63fa\",\"#FFA15A\",\"#19d3f3\",\"#FF6692\",\"#B6E880\",\"#FF97FF\",\"#FECB52\"],\"font\":{\"color\":\"#2a3f5f\"},\"hovermode\":\"closest\",\"hoverlabel\":{\"align\":\"left\"},\"paper_bgcolor\":\"white\",\"plot_bgcolor\":\"#E5ECF6\",\"polar\":{\"bgcolor\":\"#E5ECF6\",\"angularaxis\":{\"gridcolor\":\"white\",\"linecolor\":\"white\",\"ticks\":\"\"},\"radialaxis\":{\"gridcolor\":\"white\",\"linecolor\":\"white\",\"ticks\":\"\"}},\"ternary\":{\"bgcolor\":\"#E5ECF6\",\"aaxis\":{\"gridcolor\":\"white\",\"linecolor\":\"white\",\"ticks\":\"\"},\"baxis\":{\"gridcolor\":\"white\",\"linecolor\":\"white\",\"ticks\":\"\"},\"caxis\":{\"gridcolor\":\"white\",\"linecolor\":\"white\",\"ticks\":\"\"}},\"coloraxis\":{\"colorbar\":{\"outlinewidth\":0,\"ticks\":\"\"}},\"colorscale\":{\"sequential\":[[0.0,\"#0d0887\"],[0.1111111111111111,\"#46039f\"],[0.2222222222222222,\"#7201a8\"],[0.3333333333333333,\"#9c179e\"],[0.4444444444444444,\"#bd3786\"],[0.5555555555555556,\"#d8576b\"],[0.6666666666666666,\"#ed7953\"],[0.7777777777777778,\"#fb9f3a\"],[0.8888888888888888,\"#fdca26\"],[1.0,\"#f0f921\"]],\"sequentialminus\":[[0.0,\"#0d0887\"],[0.1111111111111111,\"#46039f\"],[0.2222222222222222,\"#7201a8\"],[0.3333333333333333,\"#9c179e\"],[0.4444444444444444,\"#bd3786\"],[0.5555555555555556,\"#d8576b\"],[0.6666666666666666,\"#ed7953\"],[0.7777777777777778,\"#fb9f3a\"],[0.8888888888888888,\"#fdca26\"],[1.0,\"#f0f921\"]],\"diverging\":[[0,\"#8e0152\"],[0.1,\"#c51b7d\"],[0.2,\"#de77ae\"],[0.3,\"#f1b6da\"],[0.4,\"#fde0ef\"],[0.5,\"#f7f7f7\"],[0.6,\"#e6f5d0\"],[0.7,\"#b8e186\"],[0.8,\"#7fbc41\"],[0.9,\"#4d9221\"],[1,\"#276419\"]]},\"xaxis\":{\"gridcolor\":\"white\",\"linecolor\":\"white\",\"ticks\":\"\",\"title\":{\"standoff\":15},\"zerolinecolor\":\"white\",\"automargin\":true,\"zerolinewidth\":2},\"yaxis\":{\"gridcolor\":\"white\",\"linecolor\":\"white\",\"ticks\":\"\",\"title\":{\"standoff\":15},\"zerolinecolor\":\"white\",\"automargin\":true,\"zerolinewidth\":2},\"scene\":{\"xaxis\":{\"backgroundcolor\":\"#E5ECF6\",\"gridcolor\":\"white\",\"linecolor\":\"white\",\"showbackground\":true,\"ticks\":\"\",\"zerolinecolor\":\"white\",\"gridwidth\":2},\"yaxis\":{\"backgroundcolor\":\"#E5ECF6\",\"gridcolor\":\"white\",\"linecolor\":\"white\",\"showbackground\":true,\"ticks\":\"\",\"zerolinecolor\":\"white\",\"gridwidth\":2},\"zaxis\":{\"backgroundcolor\":\"#E5ECF6\",\"gridcolor\":\"white\",\"linecolor\":\"white\",\"showbackground\":true,\"ticks\":\"\",\"zerolinecolor\":\"white\",\"gridwidth\":2}},\"shapedefaults\":{\"line\":{\"color\":\"#2a3f5f\"}},\"annotationdefaults\":{\"arrowcolor\":\"#2a3f5f\",\"arrowhead\":0,\"arrowwidth\":1},\"geo\":{\"bgcolor\":\"white\",\"landcolor\":\"#E5ECF6\",\"subunitcolor\":\"white\",\"showland\":true,\"showlakes\":true,\"lakecolor\":\"white\"},\"title\":{\"x\":0.05},\"mapbox\":{\"style\":\"light\"}}},\"xaxis\":{\"anchor\":\"y\",\"domain\":[0.0,1.0],\"title\":{\"text\":\"address\"}},\"yaxis\":{\"anchor\":\"x\",\"domain\":[0.0,1.0],\"title\":{\"text\":\"count\"}},\"legend\":{\"tracegroupgap\":0},\"margin\":{\"t\":60},\"barmode\":\"relative\"},                        {\"responsive\": true}                    ).then(function(){\n",
       "                            \n",
       "var gd = document.getElementById('dd0410d7-6c37-46ec-b9c7-f4fc43fc583b');\n",
       "var x = new MutationObserver(function (mutations, observer) {{\n",
       "        var display = window.getComputedStyle(gd).display;\n",
       "        if (!display || display === 'none') {{\n",
       "            console.log([gd, 'removed!']);\n",
       "            Plotly.purge(gd);\n",
       "            observer.disconnect();\n",
       "        }}\n",
       "}});\n",
       "\n",
       "// Listen for the removal of the full notebook cells\n",
       "var notebookContainer = gd.closest('#notebook-container');\n",
       "if (notebookContainer) {{\n",
       "    x.observe(notebookContainer, {childList: true});\n",
       "}}\n",
       "\n",
       "// Listen for the clearing of the current output cell\n",
       "var outputEl = gd.closest('.output');\n",
       "if (outputEl) {{\n",
       "    x.observe(outputEl, {childList: true});\n",
       "}}\n",
       "\n",
       "                        })                };                });            </script>        </div>"
      ]
     },
     "metadata": {},
     "output_type": "display_data"
    }
   ],
   "source": [
    "from plotly import express\n",
    "express.histogram(data_frame=df, x='address')"
   ]
  },
  {
   "cell_type": "markdown",
   "id": "8595285e",
   "metadata": {
    "papermill": {
     "duration": 0.006283,
     "end_time": "2024-03-02T00:37:17.880920",
     "exception": false,
     "start_time": "2024-03-02T00:37:17.874637",
     "status": "completed"
    },
    "tags": []
   },
   "source": [
    "Unfortunately we do not have property street addresses; that would have made for a neat map."
   ]
  },
  {
   "cell_type": "code",
   "execution_count": 3,
   "id": "19d34500",
   "metadata": {
    "execution": {
     "iopub.execute_input": "2024-03-02T00:37:17.894640Z",
     "iopub.status.busy": "2024-03-02T00:37:17.894225Z",
     "iopub.status.idle": "2024-03-02T00:37:17.915642Z",
     "shell.execute_reply": "2024-03-02T00:37:17.914876Z"
    },
    "papermill": {
     "duration": 0.031082,
     "end_time": "2024-03-02T00:37:17.918065",
     "exception": false,
     "start_time": "2024-03-02T00:37:17.886983",
     "status": "completed"
    },
    "tags": []
   },
   "outputs": [
    {
     "name": "stdout",
     "output_type": "stream",
     "text": [
      "<class 'pandas.core.frame.DataFrame'>\n",
      "RangeIndex: 1000 entries, 0 to 999\n",
      "Data columns (total 7 columns):\n",
      " #   Column                 Non-Null Count  Dtype  \n",
      "---  ------                 --------------  -----  \n",
      " 0   roomType               1000 non-null   object \n",
      " 1   stars                  723 non-null    float64\n",
      " 2   address                1000 non-null   object \n",
      " 3   numberOfGuests         1000 non-null   int64  \n",
      " 4   primaryHost/smartName  1000 non-null   object \n",
      " 5   firstReviewComments    795 non-null    object \n",
      " 6   firstReviewRating      795 non-null    float64\n",
      "dtypes: float64(2), int64(1), object(4)\n",
      "memory usage: 54.8+ KB\n"
     ]
    }
   ],
   "source": [
    "df.info()"
   ]
  },
  {
   "cell_type": "code",
   "execution_count": 4,
   "id": "e40ca1c3",
   "metadata": {
    "execution": {
     "iopub.execute_input": "2024-03-02T00:37:17.931831Z",
     "iopub.status.busy": "2024-03-02T00:37:17.931467Z",
     "iopub.status.idle": "2024-03-02T00:37:17.941423Z",
     "shell.execute_reply": "2024-03-02T00:37:17.940723Z"
    },
    "papermill": {
     "duration": 0.019085,
     "end_time": "2024-03-02T00:37:17.943180",
     "exception": false,
     "start_time": "2024-03-02T00:37:17.924095",
     "status": "completed"
    },
    "tags": []
   },
   "outputs": [
    {
     "data": {
      "text/plain": [
       "roomType                  32\n",
       "stars                     65\n",
       "address                    7\n",
       "numberOfGuests            16\n",
       "primaryHost/smartName    455\n",
       "firstReviewComments      791\n",
       "firstReviewRating          5\n",
       "dtype: int64"
      ]
     },
     "execution_count": 4,
     "metadata": {},
     "output_type": "execute_result"
    }
   ],
   "source": [
    "df.nunique()"
   ]
  },
  {
   "cell_type": "code",
   "execution_count": 5,
   "id": "b9d2d25c",
   "metadata": {
    "execution": {
     "iopub.execute_input": "2024-03-02T00:37:17.957377Z",
     "iopub.status.busy": "2024-03-02T00:37:17.956765Z",
     "iopub.status.idle": "2024-03-02T00:39:16.269014Z",
     "shell.execute_reply": "2024-03-02T00:39:16.268225Z"
    },
    "papermill": {
     "duration": 118.329202,
     "end_time": "2024-03-02T00:39:16.278626",
     "exception": false,
     "start_time": "2024-03-02T00:37:17.949424",
     "status": "completed"
    },
    "tags": []
   },
   "outputs": [
    {
     "name": "stderr",
     "output_type": "stream",
     "text": [
      "2024-03-02 00:37:25.302328: E external/local_xla/xla/stream_executor/cuda/cuda_dnn.cc:9261] Unable to register cuDNN factory: Attempting to register factory for plugin cuDNN when one has already been registered\n",
      "2024-03-02 00:37:25.302455: E external/local_xla/xla/stream_executor/cuda/cuda_fft.cc:607] Unable to register cuFFT factory: Attempting to register factory for plugin cuFFT when one has already been registered\n",
      "2024-03-02 00:37:25.455251: E external/local_xla/xla/stream_executor/cuda/cuda_blas.cc:1515] Unable to register cuBLAS factory: Attempting to register factory for plugin cuBLAS when one has already been registered\n"
     ]
    },
    {
     "data": {
      "application/vnd.jupyter.widget-view+json": {
       "model_id": "eac06aff9b8642749daef14c8b6a430d",
       "version_major": 2,
       "version_minor": 0
      },
      "text/plain": [
       "config.json:   0%|          | 0.00/747 [00:00<?, ?B/s]"
      ]
     },
     "metadata": {},
     "output_type": "display_data"
    },
    {
     "data": {
      "application/vnd.jupyter.widget-view+json": {
       "model_id": "ab1e72b774684c99b52c24a4f5ed9b9e",
       "version_major": 2,
       "version_minor": 0
      },
      "text/plain": [
       "pytorch_model.bin:   0%|          | 0.00/499M [00:00<?, ?B/s]"
      ]
     },
     "metadata": {},
     "output_type": "display_data"
    },
    {
     "name": "stderr",
     "output_type": "stream",
     "text": [
      "/opt/conda/lib/python3.10/site-packages/torch/_utils.py:831: UserWarning:\n",
      "\n",
      "TypedStorage is deprecated. It will be removed in the future and UntypedStorage will be the only storage class. This should only matter to you if you are using storages directly.  To access UntypedStorage directly, use tensor.untyped_storage() instead of tensor.storage()\n",
      "\n"
     ]
    },
    {
     "data": {
      "application/vnd.jupyter.widget-view+json": {
       "model_id": "6351378758d54398ad3b281f21c4494b",
       "version_major": 2,
       "version_minor": 0
      },
      "text/plain": [
       "vocab.json:   0%|          | 0.00/899k [00:00<?, ?B/s]"
      ]
     },
     "metadata": {},
     "output_type": "display_data"
    },
    {
     "data": {
      "application/vnd.jupyter.widget-view+json": {
       "model_id": "ad866687a91640f7b3221e83858668fc",
       "version_major": 2,
       "version_minor": 0
      },
      "text/plain": [
       "merges.txt:   0%|          | 0.00/456k [00:00<?, ?B/s]"
      ]
     },
     "metadata": {},
     "output_type": "display_data"
    },
    {
     "data": {
      "application/vnd.jupyter.widget-view+json": {
       "model_id": "24e4f4cf972742f982f4707767291f77",
       "version_major": 2,
       "version_minor": 0
      },
      "text/plain": [
       "special_tokens_map.json:   0%|          | 0.00/150 [00:00<?, ?B/s]"
      ]
     },
     "metadata": {},
     "output_type": "display_data"
    },
    {
     "name": "stdout",
     "output_type": "stream",
     "text": [
      "done with sentiment analysis in 0:01:37.656012\n"
     ]
    }
   ],
   "source": [
    "from transformers import pipeline\n",
    "from arrow import now\n",
    "\n",
    "MODELS = [\n",
    "    'bhadresh-savani/distilbert-base-uncased-emotion',\n",
    "    'cardiffnlp/twitter-roberta-base-sentiment',\n",
    "    'nlptown/bert-base-multilingual-uncased-sentiment',\n",
    "]\n",
    "\n",
    "time_start = now()\n",
    "pipe = pipeline(task='sentiment-analysis', model=MODELS[1],)\n",
    "comments = df['firstReviewComments'].fillna(value='').tolist()\n",
    "sentiment = [pipe(comment) for comment in comments]\n",
    "print('done with sentiment analysis in {}'.format(now() - time_start))\n",
    "\n"
   ]
  },
  {
   "cell_type": "markdown",
   "id": "6efde4cf",
   "metadata": {
    "papermill": {
     "duration": 0.006978,
     "end_time": "2024-03-02T00:39:16.292716",
     "exception": false,
     "start_time": "2024-03-02T00:39:16.285738",
     "status": "completed"
    },
    "tags": []
   },
   "source": [
    "Our sentiment values look like this."
   ]
  },
  {
   "cell_type": "code",
   "execution_count": 6,
   "id": "4f1bba76",
   "metadata": {
    "execution": {
     "iopub.execute_input": "2024-03-02T00:39:16.310327Z",
     "iopub.status.busy": "2024-03-02T00:39:16.309304Z",
     "iopub.status.idle": "2024-03-02T00:39:16.316845Z",
     "shell.execute_reply": "2024-03-02T00:39:16.315753Z"
    },
    "papermill": {
     "duration": 0.019302,
     "end_time": "2024-03-02T00:39:16.319160",
     "exception": false,
     "start_time": "2024-03-02T00:39:16.299858",
     "status": "completed"
    },
    "tags": []
   },
   "outputs": [
    {
     "data": {
      "text/plain": [
       "[[{'label': 'LABEL_0', 'score': 0.5212472081184387}],\n",
       " [{'label': 'LABEL_2', 'score': 0.8912457227706909}],\n",
       " [{'label': 'LABEL_2', 'score': 0.8291773200035095}],\n",
       " [{'label': 'LABEL_2', 'score': 0.9279590845108032}],\n",
       " [{'label': 'LABEL_2', 'score': 0.9591630697250366}]]"
      ]
     },
     "execution_count": 6,
     "metadata": {},
     "output_type": "execute_result"
    }
   ],
   "source": [
    "sentiment[:5]"
   ]
  },
  {
   "cell_type": "code",
   "execution_count": 7,
   "id": "5ecafa05",
   "metadata": {
    "execution": {
     "iopub.execute_input": "2024-03-02T00:39:16.336098Z",
     "iopub.status.busy": "2024-03-02T00:39:16.335728Z",
     "iopub.status.idle": "2024-03-02T00:39:16.357622Z",
     "shell.execute_reply": "2024-03-02T00:39:16.356551Z"
    },
    "papermill": {
     "duration": 0.033065,
     "end_time": "2024-03-02T00:39:16.359838",
     "exception": false,
     "start_time": "2024-03-02T00:39:16.326773",
     "status": "completed"
    },
    "tags": []
   },
   "outputs": [
    {
     "data": {
      "text/html": [
       "<div>\n",
       "<style scoped>\n",
       "    .dataframe tbody tr th:only-of-type {\n",
       "        vertical-align: middle;\n",
       "    }\n",
       "\n",
       "    .dataframe tbody tr th {\n",
       "        vertical-align: top;\n",
       "    }\n",
       "\n",
       "    .dataframe thead th {\n",
       "        text-align: right;\n",
       "    }\n",
       "</style>\n",
       "<table border=\"1\" class=\"dataframe\">\n",
       "  <thead>\n",
       "    <tr style=\"text-align: right;\">\n",
       "      <th></th>\n",
       "      <th>roomType</th>\n",
       "      <th>stars</th>\n",
       "      <th>address</th>\n",
       "      <th>numberOfGuests</th>\n",
       "      <th>primaryHost/smartName</th>\n",
       "      <th>firstReviewComments</th>\n",
       "      <th>firstReviewRating</th>\n",
       "      <th>l0</th>\n",
       "      <th>l1</th>\n",
       "      <th>l2</th>\n",
       "    </tr>\n",
       "  </thead>\n",
       "  <tbody>\n",
       "    <tr>\n",
       "      <th>0</th>\n",
       "      <td>Entire condo</td>\n",
       "      <td>4.54</td>\n",
       "      <td>Las Vegas, Nevada, United States</td>\n",
       "      <td>4</td>\n",
       "      <td>Doug</td>\n",
       "      <td>Overall, I had a good experience. The only dow...</td>\n",
       "      <td>4.0</td>\n",
       "      <td>0.521247</td>\n",
       "      <td>0.0</td>\n",
       "      <td>0.000000</td>\n",
       "    </tr>\n",
       "    <tr>\n",
       "      <th>1</th>\n",
       "      <td>Entire rental unit</td>\n",
       "      <td>4.39</td>\n",
       "      <td>Las Vegas, Nevada, United States</td>\n",
       "      <td>4</td>\n",
       "      <td>Doug</td>\n",
       "      <td>I stayed an extra night. That should sum it up...</td>\n",
       "      <td>5.0</td>\n",
       "      <td>0.000000</td>\n",
       "      <td>0.0</td>\n",
       "      <td>0.891246</td>\n",
       "    </tr>\n",
       "    <tr>\n",
       "      <th>2</th>\n",
       "      <td>Entire guest suite</td>\n",
       "      <td>NaN</td>\n",
       "      <td>Las Vegas, Nevada, United States</td>\n",
       "      <td>4</td>\n",
       "      <td>Aaron&amp;Tina</td>\n",
       "      <td>These days things are so impersonable but she ...</td>\n",
       "      <td>5.0</td>\n",
       "      <td>0.000000</td>\n",
       "      <td>0.0</td>\n",
       "      <td>0.829177</td>\n",
       "    </tr>\n",
       "    <tr>\n",
       "      <th>3</th>\n",
       "      <td>Entire condo</td>\n",
       "      <td>NaN</td>\n",
       "      <td>Las Vegas, Nevada, United States</td>\n",
       "      <td>6</td>\n",
       "      <td>Aaron&amp;Tina</td>\n",
       "      <td>Great response time from owner. Could message ...</td>\n",
       "      <td>5.0</td>\n",
       "      <td>0.000000</td>\n",
       "      <td>0.0</td>\n",
       "      <td>0.927959</td>\n",
       "    </tr>\n",
       "    <tr>\n",
       "      <th>4</th>\n",
       "      <td>Private room in home</td>\n",
       "      <td>4.51</td>\n",
       "      <td>Las Vegas, Nevada, United States</td>\n",
       "      <td>2</td>\n",
       "      <td>Brad</td>\n",
       "      <td>good group of guys in the house. quiet clean a...</td>\n",
       "      <td>5.0</td>\n",
       "      <td>0.000000</td>\n",
       "      <td>0.0</td>\n",
       "      <td>0.959163</td>\n",
       "    </tr>\n",
       "  </tbody>\n",
       "</table>\n",
       "</div>"
      ],
      "text/plain": [
       "               roomType  stars                           address  \\\n",
       "0          Entire condo   4.54  Las Vegas, Nevada, United States   \n",
       "1    Entire rental unit   4.39  Las Vegas, Nevada, United States   \n",
       "2    Entire guest suite    NaN  Las Vegas, Nevada, United States   \n",
       "3          Entire condo    NaN  Las Vegas, Nevada, United States   \n",
       "4  Private room in home   4.51  Las Vegas, Nevada, United States   \n",
       "\n",
       "   numberOfGuests primaryHost/smartName  \\\n",
       "0               4                  Doug   \n",
       "1               4                  Doug   \n",
       "2               4            Aaron&Tina   \n",
       "3               6            Aaron&Tina   \n",
       "4               2                  Brad   \n",
       "\n",
       "                                 firstReviewComments  firstReviewRating  \\\n",
       "0  Overall, I had a good experience. The only dow...                4.0   \n",
       "1  I stayed an extra night. That should sum it up...                5.0   \n",
       "2  These days things are so impersonable but she ...                5.0   \n",
       "3  Great response time from owner. Could message ...                5.0   \n",
       "4  good group of guys in the house. quiet clean a...                5.0   \n",
       "\n",
       "         l0   l1        l2  \n",
       "0  0.521247  0.0  0.000000  \n",
       "1  0.000000  0.0  0.891246  \n",
       "2  0.000000  0.0  0.829177  \n",
       "3  0.000000  0.0  0.927959  \n",
       "4  0.000000  0.0  0.959163  "
      ]
     },
     "execution_count": 7,
     "metadata": {},
     "output_type": "execute_result"
    }
   ],
   "source": [
    "if 'LABEL_0' not in df.columns:\n",
    "    label_0 = []\n",
    "    label_1 = []\n",
    "    label_2 = []\n",
    "    for item in sentiment:\n",
    "        inner = item[0]\n",
    "        score = inner['score']\n",
    "        label = inner['label']\n",
    "        if label[-1] == '0':\n",
    "            label_0.append(score)\n",
    "            label_1.append(0)\n",
    "            label_2.append(0)\n",
    "        elif label[-1] == '1':\n",
    "            label_0.append(0)\n",
    "            label_1.append(score)\n",
    "            label_2.append(0)\n",
    "        else:\n",
    "            label_0.append(0)\n",
    "            label_1.append(0)\n",
    "            label_2.append(score)\n",
    "    df['l0'] = label_0\n",
    "    df['l1'] = label_1\n",
    "    df['l2'] = label_2\n",
    "df.head()    "
   ]
  },
  {
   "cell_type": "markdown",
   "id": "14584208",
   "metadata": {
    "papermill": {
     "duration": 0.008496,
     "end_time": "2024-03-02T00:39:16.375949",
     "exception": false,
     "start_time": "2024-03-02T00:39:16.367453",
     "status": "completed"
    },
    "tags": []
   },
   "source": [
    "We have a handful of numerical values: the number of guests, the first review rating, and the sentiment values. Let's build a model."
   ]
  },
  {
   "cell_type": "code",
   "execution_count": 8,
   "id": "6d8ddb21",
   "metadata": {
    "execution": {
     "iopub.execute_input": "2024-03-02T00:39:16.392990Z",
     "iopub.status.busy": "2024-03-02T00:39:16.392611Z",
     "iopub.status.idle": "2024-03-02T00:39:16.527081Z",
     "shell.execute_reply": "2024-03-02T00:39:16.525895Z"
    },
    "papermill": {
     "duration": 0.145336,
     "end_time": "2024-03-02T00:39:16.529280",
     "exception": false,
     "start_time": "2024-03-02T00:39:16.383944",
     "status": "completed"
    },
    "tags": []
   },
   "outputs": [
    {
     "name": "stdout",
     "output_type": "stream",
     "text": [
      "r2: 0.0675\n"
     ]
    }
   ],
   "source": [
    "from sklearn.linear_model import LinearRegression\n",
    "from sklearn.model_selection import train_test_split\n",
    "\n",
    "# we can only build a model where we have the output variable.\n",
    "dropna_df = df.dropna(subset=['stars'])\n",
    "\n",
    "columns = [\n",
    "    'numberOfGuests', \n",
    "           'firstReviewRating', \n",
    "    'l0', 'l1', \n",
    "    'l2']\n",
    "X_train, X_test, y_train, y_test = train_test_split(dropna_df[columns].values, dropna_df['stars'], test_size=0.25, random_state=2024)\n",
    "model = LinearRegression()\n",
    "model.fit(X_train, y_train)\n",
    "y_pred = model.predict(X_test)\n",
    "print('r2: {:5.4f}'.format( model.score(X_test, y_test)))\n"
   ]
  },
  {
   "cell_type": "code",
   "execution_count": 9,
   "id": "83870bbd",
   "metadata": {
    "execution": {
     "iopub.execute_input": "2024-03-02T00:39:16.546631Z",
     "iopub.status.busy": "2024-03-02T00:39:16.546201Z",
     "iopub.status.idle": "2024-03-02T00:39:16.604837Z",
     "shell.execute_reply": "2024-03-02T00:39:16.603938Z"
    },
    "papermill": {
     "duration": 0.070224,
     "end_time": "2024-03-02T00:39:16.607274",
     "exception": false,
     "start_time": "2024-03-02T00:39:16.537050",
     "status": "completed"
    },
    "tags": []
   },
   "outputs": [
    {
     "data": {
      "text/html": [
       "<div>                            <div id=\"2f89ee28-e45a-48a9-82d3-8ab38a39b70f\" class=\"plotly-graph-div\" style=\"height:525px; width:100%;\"></div>            <script type=\"text/javascript\">                require([\"plotly\"], function(Plotly) {                    window.PLOTLYENV=window.PLOTLYENV || {};                                    if (document.getElementById(\"2f89ee28-e45a-48a9-82d3-8ab38a39b70f\")) {                    Plotly.newPlot(                        \"2f89ee28-e45a-48a9-82d3-8ab38a39b70f\",                        [{\"alignmentgroup\":\"True\",\"bingroup\":\"x\",\"histfunc\":\"sum\",\"hovertemplate\":\"x=%{x}\\u003cbr\\u003esum of y=%{y}\\u003cextra\\u003e\\u003c\\u002fextra\\u003e\",\"legendgroup\":\"\",\"marker\":{\"color\":\"#636efa\",\"pattern\":{\"shape\":\"\"}},\"name\":\"\",\"offsetgroup\":\"\",\"orientation\":\"v\",\"showlegend\":false,\"x\":[\"numberOfGuests\",\"firstReviewRating\",\"l0\",\"l1\",\"l2\"],\"xaxis\":\"x\",\"y\":[0.0021873964777561782,0.09274925339805952,-0.2084563908706979,-0.06923144240637145,-0.05744220959375532],\"yaxis\":\"y\",\"type\":\"histogram\"}],                        {\"template\":{\"data\":{\"histogram2dcontour\":[{\"type\":\"histogram2dcontour\",\"colorbar\":{\"outlinewidth\":0,\"ticks\":\"\"},\"colorscale\":[[0.0,\"#0d0887\"],[0.1111111111111111,\"#46039f\"],[0.2222222222222222,\"#7201a8\"],[0.3333333333333333,\"#9c179e\"],[0.4444444444444444,\"#bd3786\"],[0.5555555555555556,\"#d8576b\"],[0.6666666666666666,\"#ed7953\"],[0.7777777777777778,\"#fb9f3a\"],[0.8888888888888888,\"#fdca26\"],[1.0,\"#f0f921\"]]}],\"choropleth\":[{\"type\":\"choropleth\",\"colorbar\":{\"outlinewidth\":0,\"ticks\":\"\"}}],\"histogram2d\":[{\"type\":\"histogram2d\",\"colorbar\":{\"outlinewidth\":0,\"ticks\":\"\"},\"colorscale\":[[0.0,\"#0d0887\"],[0.1111111111111111,\"#46039f\"],[0.2222222222222222,\"#7201a8\"],[0.3333333333333333,\"#9c179e\"],[0.4444444444444444,\"#bd3786\"],[0.5555555555555556,\"#d8576b\"],[0.6666666666666666,\"#ed7953\"],[0.7777777777777778,\"#fb9f3a\"],[0.8888888888888888,\"#fdca26\"],[1.0,\"#f0f921\"]]}],\"heatmap\":[{\"type\":\"heatmap\",\"colorbar\":{\"outlinewidth\":0,\"ticks\":\"\"},\"colorscale\":[[0.0,\"#0d0887\"],[0.1111111111111111,\"#46039f\"],[0.2222222222222222,\"#7201a8\"],[0.3333333333333333,\"#9c179e\"],[0.4444444444444444,\"#bd3786\"],[0.5555555555555556,\"#d8576b\"],[0.6666666666666666,\"#ed7953\"],[0.7777777777777778,\"#fb9f3a\"],[0.8888888888888888,\"#fdca26\"],[1.0,\"#f0f921\"]]}],\"heatmapgl\":[{\"type\":\"heatmapgl\",\"colorbar\":{\"outlinewidth\":0,\"ticks\":\"\"},\"colorscale\":[[0.0,\"#0d0887\"],[0.1111111111111111,\"#46039f\"],[0.2222222222222222,\"#7201a8\"],[0.3333333333333333,\"#9c179e\"],[0.4444444444444444,\"#bd3786\"],[0.5555555555555556,\"#d8576b\"],[0.6666666666666666,\"#ed7953\"],[0.7777777777777778,\"#fb9f3a\"],[0.8888888888888888,\"#fdca26\"],[1.0,\"#f0f921\"]]}],\"contourcarpet\":[{\"type\":\"contourcarpet\",\"colorbar\":{\"outlinewidth\":0,\"ticks\":\"\"}}],\"contour\":[{\"type\":\"contour\",\"colorbar\":{\"outlinewidth\":0,\"ticks\":\"\"},\"colorscale\":[[0.0,\"#0d0887\"],[0.1111111111111111,\"#46039f\"],[0.2222222222222222,\"#7201a8\"],[0.3333333333333333,\"#9c179e\"],[0.4444444444444444,\"#bd3786\"],[0.5555555555555556,\"#d8576b\"],[0.6666666666666666,\"#ed7953\"],[0.7777777777777778,\"#fb9f3a\"],[0.8888888888888888,\"#fdca26\"],[1.0,\"#f0f921\"]]}],\"surface\":[{\"type\":\"surface\",\"colorbar\":{\"outlinewidth\":0,\"ticks\":\"\"},\"colorscale\":[[0.0,\"#0d0887\"],[0.1111111111111111,\"#46039f\"],[0.2222222222222222,\"#7201a8\"],[0.3333333333333333,\"#9c179e\"],[0.4444444444444444,\"#bd3786\"],[0.5555555555555556,\"#d8576b\"],[0.6666666666666666,\"#ed7953\"],[0.7777777777777778,\"#fb9f3a\"],[0.8888888888888888,\"#fdca26\"],[1.0,\"#f0f921\"]]}],\"mesh3d\":[{\"type\":\"mesh3d\",\"colorbar\":{\"outlinewidth\":0,\"ticks\":\"\"}}],\"scatter\":[{\"fillpattern\":{\"fillmode\":\"overlay\",\"size\":10,\"solidity\":0.2},\"type\":\"scatter\"}],\"parcoords\":[{\"type\":\"parcoords\",\"line\":{\"colorbar\":{\"outlinewidth\":0,\"ticks\":\"\"}}}],\"scatterpolargl\":[{\"type\":\"scatterpolargl\",\"marker\":{\"colorbar\":{\"outlinewidth\":0,\"ticks\":\"\"}}}],\"bar\":[{\"error_x\":{\"color\":\"#2a3f5f\"},\"error_y\":{\"color\":\"#2a3f5f\"},\"marker\":{\"line\":{\"color\":\"#E5ECF6\",\"width\":0.5},\"pattern\":{\"fillmode\":\"overlay\",\"size\":10,\"solidity\":0.2}},\"type\":\"bar\"}],\"scattergeo\":[{\"type\":\"scattergeo\",\"marker\":{\"colorbar\":{\"outlinewidth\":0,\"ticks\":\"\"}}}],\"scatterpolar\":[{\"type\":\"scatterpolar\",\"marker\":{\"colorbar\":{\"outlinewidth\":0,\"ticks\":\"\"}}}],\"histogram\":[{\"marker\":{\"pattern\":{\"fillmode\":\"overlay\",\"size\":10,\"solidity\":0.2}},\"type\":\"histogram\"}],\"scattergl\":[{\"type\":\"scattergl\",\"marker\":{\"colorbar\":{\"outlinewidth\":0,\"ticks\":\"\"}}}],\"scatter3d\":[{\"type\":\"scatter3d\",\"line\":{\"colorbar\":{\"outlinewidth\":0,\"ticks\":\"\"}},\"marker\":{\"colorbar\":{\"outlinewidth\":0,\"ticks\":\"\"}}}],\"scattermapbox\":[{\"type\":\"scattermapbox\",\"marker\":{\"colorbar\":{\"outlinewidth\":0,\"ticks\":\"\"}}}],\"scatterternary\":[{\"type\":\"scatterternary\",\"marker\":{\"colorbar\":{\"outlinewidth\":0,\"ticks\":\"\"}}}],\"scattercarpet\":[{\"type\":\"scattercarpet\",\"marker\":{\"colorbar\":{\"outlinewidth\":0,\"ticks\":\"\"}}}],\"carpet\":[{\"aaxis\":{\"endlinecolor\":\"#2a3f5f\",\"gridcolor\":\"white\",\"linecolor\":\"white\",\"minorgridcolor\":\"white\",\"startlinecolor\":\"#2a3f5f\"},\"baxis\":{\"endlinecolor\":\"#2a3f5f\",\"gridcolor\":\"white\",\"linecolor\":\"white\",\"minorgridcolor\":\"white\",\"startlinecolor\":\"#2a3f5f\"},\"type\":\"carpet\"}],\"table\":[{\"cells\":{\"fill\":{\"color\":\"#EBF0F8\"},\"line\":{\"color\":\"white\"}},\"header\":{\"fill\":{\"color\":\"#C8D4E3\"},\"line\":{\"color\":\"white\"}},\"type\":\"table\"}],\"barpolar\":[{\"marker\":{\"line\":{\"color\":\"#E5ECF6\",\"width\":0.5},\"pattern\":{\"fillmode\":\"overlay\",\"size\":10,\"solidity\":0.2}},\"type\":\"barpolar\"}],\"pie\":[{\"automargin\":true,\"type\":\"pie\"}]},\"layout\":{\"autotypenumbers\":\"strict\",\"colorway\":[\"#636efa\",\"#EF553B\",\"#00cc96\",\"#ab63fa\",\"#FFA15A\",\"#19d3f3\",\"#FF6692\",\"#B6E880\",\"#FF97FF\",\"#FECB52\"],\"font\":{\"color\":\"#2a3f5f\"},\"hovermode\":\"closest\",\"hoverlabel\":{\"align\":\"left\"},\"paper_bgcolor\":\"white\",\"plot_bgcolor\":\"#E5ECF6\",\"polar\":{\"bgcolor\":\"#E5ECF6\",\"angularaxis\":{\"gridcolor\":\"white\",\"linecolor\":\"white\",\"ticks\":\"\"},\"radialaxis\":{\"gridcolor\":\"white\",\"linecolor\":\"white\",\"ticks\":\"\"}},\"ternary\":{\"bgcolor\":\"#E5ECF6\",\"aaxis\":{\"gridcolor\":\"white\",\"linecolor\":\"white\",\"ticks\":\"\"},\"baxis\":{\"gridcolor\":\"white\",\"linecolor\":\"white\",\"ticks\":\"\"},\"caxis\":{\"gridcolor\":\"white\",\"linecolor\":\"white\",\"ticks\":\"\"}},\"coloraxis\":{\"colorbar\":{\"outlinewidth\":0,\"ticks\":\"\"}},\"colorscale\":{\"sequential\":[[0.0,\"#0d0887\"],[0.1111111111111111,\"#46039f\"],[0.2222222222222222,\"#7201a8\"],[0.3333333333333333,\"#9c179e\"],[0.4444444444444444,\"#bd3786\"],[0.5555555555555556,\"#d8576b\"],[0.6666666666666666,\"#ed7953\"],[0.7777777777777778,\"#fb9f3a\"],[0.8888888888888888,\"#fdca26\"],[1.0,\"#f0f921\"]],\"sequentialminus\":[[0.0,\"#0d0887\"],[0.1111111111111111,\"#46039f\"],[0.2222222222222222,\"#7201a8\"],[0.3333333333333333,\"#9c179e\"],[0.4444444444444444,\"#bd3786\"],[0.5555555555555556,\"#d8576b\"],[0.6666666666666666,\"#ed7953\"],[0.7777777777777778,\"#fb9f3a\"],[0.8888888888888888,\"#fdca26\"],[1.0,\"#f0f921\"]],\"diverging\":[[0,\"#8e0152\"],[0.1,\"#c51b7d\"],[0.2,\"#de77ae\"],[0.3,\"#f1b6da\"],[0.4,\"#fde0ef\"],[0.5,\"#f7f7f7\"],[0.6,\"#e6f5d0\"],[0.7,\"#b8e186\"],[0.8,\"#7fbc41\"],[0.9,\"#4d9221\"],[1,\"#276419\"]]},\"xaxis\":{\"gridcolor\":\"white\",\"linecolor\":\"white\",\"ticks\":\"\",\"title\":{\"standoff\":15},\"zerolinecolor\":\"white\",\"automargin\":true,\"zerolinewidth\":2},\"yaxis\":{\"gridcolor\":\"white\",\"linecolor\":\"white\",\"ticks\":\"\",\"title\":{\"standoff\":15},\"zerolinecolor\":\"white\",\"automargin\":true,\"zerolinewidth\":2},\"scene\":{\"xaxis\":{\"backgroundcolor\":\"#E5ECF6\",\"gridcolor\":\"white\",\"linecolor\":\"white\",\"showbackground\":true,\"ticks\":\"\",\"zerolinecolor\":\"white\",\"gridwidth\":2},\"yaxis\":{\"backgroundcolor\":\"#E5ECF6\",\"gridcolor\":\"white\",\"linecolor\":\"white\",\"showbackground\":true,\"ticks\":\"\",\"zerolinecolor\":\"white\",\"gridwidth\":2},\"zaxis\":{\"backgroundcolor\":\"#E5ECF6\",\"gridcolor\":\"white\",\"linecolor\":\"white\",\"showbackground\":true,\"ticks\":\"\",\"zerolinecolor\":\"white\",\"gridwidth\":2}},\"shapedefaults\":{\"line\":{\"color\":\"#2a3f5f\"}},\"annotationdefaults\":{\"arrowcolor\":\"#2a3f5f\",\"arrowhead\":0,\"arrowwidth\":1},\"geo\":{\"bgcolor\":\"white\",\"landcolor\":\"#E5ECF6\",\"subunitcolor\":\"white\",\"showland\":true,\"showlakes\":true,\"lakecolor\":\"white\"},\"title\":{\"x\":0.05},\"mapbox\":{\"style\":\"light\"}}},\"xaxis\":{\"anchor\":\"y\",\"domain\":[0.0,1.0],\"title\":{\"text\":\"x\"}},\"yaxis\":{\"anchor\":\"x\",\"domain\":[0.0,1.0],\"title\":{\"text\":\"sum of y\"}},\"legend\":{\"tracegroupgap\":0},\"margin\":{\"t\":60},\"barmode\":\"relative\"},                        {\"responsive\": true}                    ).then(function(){\n",
       "                            \n",
       "var gd = document.getElementById('2f89ee28-e45a-48a9-82d3-8ab38a39b70f');\n",
       "var x = new MutationObserver(function (mutations, observer) {{\n",
       "        var display = window.getComputedStyle(gd).display;\n",
       "        if (!display || display === 'none') {{\n",
       "            console.log([gd, 'removed!']);\n",
       "            Plotly.purge(gd);\n",
       "            observer.disconnect();\n",
       "        }}\n",
       "}});\n",
       "\n",
       "// Listen for the removal of the full notebook cells\n",
       "var notebookContainer = gd.closest('#notebook-container');\n",
       "if (notebookContainer) {{\n",
       "    x.observe(notebookContainer, {childList: true});\n",
       "}}\n",
       "\n",
       "// Listen for the clearing of the current output cell\n",
       "var outputEl = gd.closest('.output');\n",
       "if (outputEl) {{\n",
       "    x.observe(outputEl, {childList: true});\n",
       "}}\n",
       "\n",
       "                        })                };                });            </script>        </div>"
      ]
     },
     "metadata": {},
     "output_type": "display_data"
    }
   ],
   "source": [
    "express.histogram(x=columns, y=model.coef_)"
   ]
  },
  {
   "cell_type": "markdown",
   "id": "0af3830e",
   "metadata": {
    "papermill": {
     "duration": 0.007518,
     "end_time": "2024-03-02T00:39:16.622789",
     "exception": false,
     "start_time": "2024-03-02T00:39:16.615271",
     "status": "completed"
    },
    "tags": []
   },
   "source": [
    "Wow that's bad. Let's look at the correlations."
   ]
  },
  {
   "cell_type": "code",
   "execution_count": 10,
   "id": "c26e37f3",
   "metadata": {
    "execution": {
     "iopub.execute_input": "2024-03-02T00:39:16.640019Z",
     "iopub.status.busy": "2024-03-02T00:39:16.639613Z",
     "iopub.status.idle": "2024-03-02T00:39:16.719682Z",
     "shell.execute_reply": "2024-03-02T00:39:16.718480Z"
    },
    "papermill": {
     "duration": 0.091566,
     "end_time": "2024-03-02T00:39:16.722014",
     "exception": false,
     "start_time": "2024-03-02T00:39:16.630448",
     "status": "completed"
    },
    "tags": []
   },
   "outputs": [
    {
     "data": {
      "text/html": [
       "<div>                            <div id=\"0cc9aedc-d174-46bd-91e3-834eaa69b0f4\" class=\"plotly-graph-div\" style=\"height:525px; width:100%;\"></div>            <script type=\"text/javascript\">                require([\"plotly\"], function(Plotly) {                    window.PLOTLYENV=window.PLOTLYENV || {};                                    if (document.getElementById(\"0cc9aedc-d174-46bd-91e3-834eaa69b0f4\")) {                    Plotly.newPlot(                        \"0cc9aedc-d174-46bd-91e3-834eaa69b0f4\",                        [{\"coloraxis\":\"coloraxis\",\"name\":\"0\",\"x\":[\"numberOfGuests\",\"firstReviewRating\",\"l0\",\"l1\",\"l2\",\"stars\"],\"y\":[\"numberOfGuests\",\"firstReviewRating\",\"l0\",\"l1\",\"l2\",\"stars\"],\"z\":[[1.0,0.045639662397797535,0.001703916191631862,-0.03541756124054811,0.054915694990699836,0.04113022316720009],[0.045639662397797535,1.0,-0.6760366031908984,-0.07010292474343413,0.6411390596918664,0.3606038315240851],[0.001703916191631862,-0.6760366031908984,1.0,-0.027002004537723962,-0.6786135674881824,-0.27858737917382553],[-0.03541756124054811,-0.07010292474343413,-0.027002004537723962,1.0,-0.5891154981415077,-0.013363010742309434],[0.054915694990699836,0.6411390596918664,-0.6786135674881824,-0.5891154981415077,1.0,0.22802223492467585],[0.04113022316720009,0.3606038315240851,-0.27858737917382553,-0.013363010742309434,0.22802223492467585,1.0]],\"type\":\"heatmap\",\"xaxis\":\"x\",\"yaxis\":\"y\",\"hovertemplate\":\"x: %{x}\\u003cbr\\u003ey: %{y}\\u003cbr\\u003ecolor: %{z}\\u003cextra\\u003e\\u003c\\u002fextra\\u003e\"}],                        {\"template\":{\"data\":{\"histogram2dcontour\":[{\"type\":\"histogram2dcontour\",\"colorbar\":{\"outlinewidth\":0,\"ticks\":\"\"},\"colorscale\":[[0.0,\"#0d0887\"],[0.1111111111111111,\"#46039f\"],[0.2222222222222222,\"#7201a8\"],[0.3333333333333333,\"#9c179e\"],[0.4444444444444444,\"#bd3786\"],[0.5555555555555556,\"#d8576b\"],[0.6666666666666666,\"#ed7953\"],[0.7777777777777778,\"#fb9f3a\"],[0.8888888888888888,\"#fdca26\"],[1.0,\"#f0f921\"]]}],\"choropleth\":[{\"type\":\"choropleth\",\"colorbar\":{\"outlinewidth\":0,\"ticks\":\"\"}}],\"histogram2d\":[{\"type\":\"histogram2d\",\"colorbar\":{\"outlinewidth\":0,\"ticks\":\"\"},\"colorscale\":[[0.0,\"#0d0887\"],[0.1111111111111111,\"#46039f\"],[0.2222222222222222,\"#7201a8\"],[0.3333333333333333,\"#9c179e\"],[0.4444444444444444,\"#bd3786\"],[0.5555555555555556,\"#d8576b\"],[0.6666666666666666,\"#ed7953\"],[0.7777777777777778,\"#fb9f3a\"],[0.8888888888888888,\"#fdca26\"],[1.0,\"#f0f921\"]]}],\"heatmap\":[{\"type\":\"heatmap\",\"colorbar\":{\"outlinewidth\":0,\"ticks\":\"\"},\"colorscale\":[[0.0,\"#0d0887\"],[0.1111111111111111,\"#46039f\"],[0.2222222222222222,\"#7201a8\"],[0.3333333333333333,\"#9c179e\"],[0.4444444444444444,\"#bd3786\"],[0.5555555555555556,\"#d8576b\"],[0.6666666666666666,\"#ed7953\"],[0.7777777777777778,\"#fb9f3a\"],[0.8888888888888888,\"#fdca26\"],[1.0,\"#f0f921\"]]}],\"heatmapgl\":[{\"type\":\"heatmapgl\",\"colorbar\":{\"outlinewidth\":0,\"ticks\":\"\"},\"colorscale\":[[0.0,\"#0d0887\"],[0.1111111111111111,\"#46039f\"],[0.2222222222222222,\"#7201a8\"],[0.3333333333333333,\"#9c179e\"],[0.4444444444444444,\"#bd3786\"],[0.5555555555555556,\"#d8576b\"],[0.6666666666666666,\"#ed7953\"],[0.7777777777777778,\"#fb9f3a\"],[0.8888888888888888,\"#fdca26\"],[1.0,\"#f0f921\"]]}],\"contourcarpet\":[{\"type\":\"contourcarpet\",\"colorbar\":{\"outlinewidth\":0,\"ticks\":\"\"}}],\"contour\":[{\"type\":\"contour\",\"colorbar\":{\"outlinewidth\":0,\"ticks\":\"\"},\"colorscale\":[[0.0,\"#0d0887\"],[0.1111111111111111,\"#46039f\"],[0.2222222222222222,\"#7201a8\"],[0.3333333333333333,\"#9c179e\"],[0.4444444444444444,\"#bd3786\"],[0.5555555555555556,\"#d8576b\"],[0.6666666666666666,\"#ed7953\"],[0.7777777777777778,\"#fb9f3a\"],[0.8888888888888888,\"#fdca26\"],[1.0,\"#f0f921\"]]}],\"surface\":[{\"type\":\"surface\",\"colorbar\":{\"outlinewidth\":0,\"ticks\":\"\"},\"colorscale\":[[0.0,\"#0d0887\"],[0.1111111111111111,\"#46039f\"],[0.2222222222222222,\"#7201a8\"],[0.3333333333333333,\"#9c179e\"],[0.4444444444444444,\"#bd3786\"],[0.5555555555555556,\"#d8576b\"],[0.6666666666666666,\"#ed7953\"],[0.7777777777777778,\"#fb9f3a\"],[0.8888888888888888,\"#fdca26\"],[1.0,\"#f0f921\"]]}],\"mesh3d\":[{\"type\":\"mesh3d\",\"colorbar\":{\"outlinewidth\":0,\"ticks\":\"\"}}],\"scatter\":[{\"fillpattern\":{\"fillmode\":\"overlay\",\"size\":10,\"solidity\":0.2},\"type\":\"scatter\"}],\"parcoords\":[{\"type\":\"parcoords\",\"line\":{\"colorbar\":{\"outlinewidth\":0,\"ticks\":\"\"}}}],\"scatterpolargl\":[{\"type\":\"scatterpolargl\",\"marker\":{\"colorbar\":{\"outlinewidth\":0,\"ticks\":\"\"}}}],\"bar\":[{\"error_x\":{\"color\":\"#2a3f5f\"},\"error_y\":{\"color\":\"#2a3f5f\"},\"marker\":{\"line\":{\"color\":\"#E5ECF6\",\"width\":0.5},\"pattern\":{\"fillmode\":\"overlay\",\"size\":10,\"solidity\":0.2}},\"type\":\"bar\"}],\"scattergeo\":[{\"type\":\"scattergeo\",\"marker\":{\"colorbar\":{\"outlinewidth\":0,\"ticks\":\"\"}}}],\"scatterpolar\":[{\"type\":\"scatterpolar\",\"marker\":{\"colorbar\":{\"outlinewidth\":0,\"ticks\":\"\"}}}],\"histogram\":[{\"marker\":{\"pattern\":{\"fillmode\":\"overlay\",\"size\":10,\"solidity\":0.2}},\"type\":\"histogram\"}],\"scattergl\":[{\"type\":\"scattergl\",\"marker\":{\"colorbar\":{\"outlinewidth\":0,\"ticks\":\"\"}}}],\"scatter3d\":[{\"type\":\"scatter3d\",\"line\":{\"colorbar\":{\"outlinewidth\":0,\"ticks\":\"\"}},\"marker\":{\"colorbar\":{\"outlinewidth\":0,\"ticks\":\"\"}}}],\"scattermapbox\":[{\"type\":\"scattermapbox\",\"marker\":{\"colorbar\":{\"outlinewidth\":0,\"ticks\":\"\"}}}],\"scatterternary\":[{\"type\":\"scatterternary\",\"marker\":{\"colorbar\":{\"outlinewidth\":0,\"ticks\":\"\"}}}],\"scattercarpet\":[{\"type\":\"scattercarpet\",\"marker\":{\"colorbar\":{\"outlinewidth\":0,\"ticks\":\"\"}}}],\"carpet\":[{\"aaxis\":{\"endlinecolor\":\"#2a3f5f\",\"gridcolor\":\"white\",\"linecolor\":\"white\",\"minorgridcolor\":\"white\",\"startlinecolor\":\"#2a3f5f\"},\"baxis\":{\"endlinecolor\":\"#2a3f5f\",\"gridcolor\":\"white\",\"linecolor\":\"white\",\"minorgridcolor\":\"white\",\"startlinecolor\":\"#2a3f5f\"},\"type\":\"carpet\"}],\"table\":[{\"cells\":{\"fill\":{\"color\":\"#EBF0F8\"},\"line\":{\"color\":\"white\"}},\"header\":{\"fill\":{\"color\":\"#C8D4E3\"},\"line\":{\"color\":\"white\"}},\"type\":\"table\"}],\"barpolar\":[{\"marker\":{\"line\":{\"color\":\"#E5ECF6\",\"width\":0.5},\"pattern\":{\"fillmode\":\"overlay\",\"size\":10,\"solidity\":0.2}},\"type\":\"barpolar\"}],\"pie\":[{\"automargin\":true,\"type\":\"pie\"}]},\"layout\":{\"autotypenumbers\":\"strict\",\"colorway\":[\"#636efa\",\"#EF553B\",\"#00cc96\",\"#ab63fa\",\"#FFA15A\",\"#19d3f3\",\"#FF6692\",\"#B6E880\",\"#FF97FF\",\"#FECB52\"],\"font\":{\"color\":\"#2a3f5f\"},\"hovermode\":\"closest\",\"hoverlabel\":{\"align\":\"left\"},\"paper_bgcolor\":\"white\",\"plot_bgcolor\":\"#E5ECF6\",\"polar\":{\"bgcolor\":\"#E5ECF6\",\"angularaxis\":{\"gridcolor\":\"white\",\"linecolor\":\"white\",\"ticks\":\"\"},\"radialaxis\":{\"gridcolor\":\"white\",\"linecolor\":\"white\",\"ticks\":\"\"}},\"ternary\":{\"bgcolor\":\"#E5ECF6\",\"aaxis\":{\"gridcolor\":\"white\",\"linecolor\":\"white\",\"ticks\":\"\"},\"baxis\":{\"gridcolor\":\"white\",\"linecolor\":\"white\",\"ticks\":\"\"},\"caxis\":{\"gridcolor\":\"white\",\"linecolor\":\"white\",\"ticks\":\"\"}},\"coloraxis\":{\"colorbar\":{\"outlinewidth\":0,\"ticks\":\"\"}},\"colorscale\":{\"sequential\":[[0.0,\"#0d0887\"],[0.1111111111111111,\"#46039f\"],[0.2222222222222222,\"#7201a8\"],[0.3333333333333333,\"#9c179e\"],[0.4444444444444444,\"#bd3786\"],[0.5555555555555556,\"#d8576b\"],[0.6666666666666666,\"#ed7953\"],[0.7777777777777778,\"#fb9f3a\"],[0.8888888888888888,\"#fdca26\"],[1.0,\"#f0f921\"]],\"sequentialminus\":[[0.0,\"#0d0887\"],[0.1111111111111111,\"#46039f\"],[0.2222222222222222,\"#7201a8\"],[0.3333333333333333,\"#9c179e\"],[0.4444444444444444,\"#bd3786\"],[0.5555555555555556,\"#d8576b\"],[0.6666666666666666,\"#ed7953\"],[0.7777777777777778,\"#fb9f3a\"],[0.8888888888888888,\"#fdca26\"],[1.0,\"#f0f921\"]],\"diverging\":[[0,\"#8e0152\"],[0.1,\"#c51b7d\"],[0.2,\"#de77ae\"],[0.3,\"#f1b6da\"],[0.4,\"#fde0ef\"],[0.5,\"#f7f7f7\"],[0.6,\"#e6f5d0\"],[0.7,\"#b8e186\"],[0.8,\"#7fbc41\"],[0.9,\"#4d9221\"],[1,\"#276419\"]]},\"xaxis\":{\"gridcolor\":\"white\",\"linecolor\":\"white\",\"ticks\":\"\",\"title\":{\"standoff\":15},\"zerolinecolor\":\"white\",\"automargin\":true,\"zerolinewidth\":2},\"yaxis\":{\"gridcolor\":\"white\",\"linecolor\":\"white\",\"ticks\":\"\",\"title\":{\"standoff\":15},\"zerolinecolor\":\"white\",\"automargin\":true,\"zerolinewidth\":2},\"scene\":{\"xaxis\":{\"backgroundcolor\":\"#E5ECF6\",\"gridcolor\":\"white\",\"linecolor\":\"white\",\"showbackground\":true,\"ticks\":\"\",\"zerolinecolor\":\"white\",\"gridwidth\":2},\"yaxis\":{\"backgroundcolor\":\"#E5ECF6\",\"gridcolor\":\"white\",\"linecolor\":\"white\",\"showbackground\":true,\"ticks\":\"\",\"zerolinecolor\":\"white\",\"gridwidth\":2},\"zaxis\":{\"backgroundcolor\":\"#E5ECF6\",\"gridcolor\":\"white\",\"linecolor\":\"white\",\"showbackground\":true,\"ticks\":\"\",\"zerolinecolor\":\"white\",\"gridwidth\":2}},\"shapedefaults\":{\"line\":{\"color\":\"#2a3f5f\"}},\"annotationdefaults\":{\"arrowcolor\":\"#2a3f5f\",\"arrowhead\":0,\"arrowwidth\":1},\"geo\":{\"bgcolor\":\"white\",\"landcolor\":\"#E5ECF6\",\"subunitcolor\":\"white\",\"showland\":true,\"showlakes\":true,\"lakecolor\":\"white\"},\"title\":{\"x\":0.05},\"mapbox\":{\"style\":\"light\"}}},\"xaxis\":{\"anchor\":\"y\",\"domain\":[0.0,1.0],\"scaleanchor\":\"y\",\"constrain\":\"domain\"},\"yaxis\":{\"anchor\":\"x\",\"domain\":[0.0,1.0],\"autorange\":\"reversed\",\"constrain\":\"domain\"},\"coloraxis\":{\"colorscale\":[[0.0,\"#0d0887\"],[0.1111111111111111,\"#46039f\"],[0.2222222222222222,\"#7201a8\"],[0.3333333333333333,\"#9c179e\"],[0.4444444444444444,\"#bd3786\"],[0.5555555555555556,\"#d8576b\"],[0.6666666666666666,\"#ed7953\"],[0.7777777777777778,\"#fb9f3a\"],[0.8888888888888888,\"#fdca26\"],[1.0,\"#f0f921\"]]},\"margin\":{\"t\":60}},                        {\"responsive\": true}                    ).then(function(){\n",
       "                            \n",
       "var gd = document.getElementById('0cc9aedc-d174-46bd-91e3-834eaa69b0f4');\n",
       "var x = new MutationObserver(function (mutations, observer) {{\n",
       "        var display = window.getComputedStyle(gd).display;\n",
       "        if (!display || display === 'none') {{\n",
       "            console.log([gd, 'removed!']);\n",
       "            Plotly.purge(gd);\n",
       "            observer.disconnect();\n",
       "        }}\n",
       "}});\n",
       "\n",
       "// Listen for the removal of the full notebook cells\n",
       "var notebookContainer = gd.closest('#notebook-container');\n",
       "if (notebookContainer) {{\n",
       "    x.observe(notebookContainer, {childList: true});\n",
       "}}\n",
       "\n",
       "// Listen for the clearing of the current output cell\n",
       "var outputEl = gd.closest('.output');\n",
       "if (outputEl) {{\n",
       "    x.observe(outputEl, {childList: true});\n",
       "}}\n",
       "\n",
       "                        })                };                });            </script>        </div>"
      ]
     },
     "metadata": {},
     "output_type": "display_data"
    }
   ],
   "source": [
    "express.imshow(img=dropna_df[columns + ['stars']].corr())"
   ]
  },
  {
   "cell_type": "markdown",
   "id": "8956f97f",
   "metadata": {
    "papermill": {
     "duration": 0.007909,
     "end_time": "2024-03-02T00:39:16.738111",
     "exception": false,
     "start_time": "2024-03-02T00:39:16.730202",
     "status": "completed"
    },
    "tags": []
   },
   "source": [
    "Nothing is strongly correlated with the variable of interest. Let's see what dimension reduction tells us."
   ]
  },
  {
   "cell_type": "code",
   "execution_count": 11,
   "id": "81c84714",
   "metadata": {
    "execution": {
     "iopub.execute_input": "2024-03-02T00:39:16.756119Z",
     "iopub.status.busy": "2024-03-02T00:39:16.755705Z",
     "iopub.status.idle": "2024-03-02T00:39:45.195475Z",
     "shell.execute_reply": "2024-03-02T00:39:45.194396Z"
    },
    "papermill": {
     "duration": 28.451262,
     "end_time": "2024-03-02T00:39:45.197460",
     "exception": false,
     "start_time": "2024-03-02T00:39:16.746198",
     "status": "completed"
    },
    "tags": []
   },
   "outputs": [
    {
     "name": "stdout",
     "output_type": "stream",
     "text": [
      "UMAP(low_memory=False, n_epochs=2000, n_jobs=1, random_state=2024, verbose=True)\n",
      "Sat Mar  2 00:39:32 2024 Construct fuzzy simplicial set\n",
      "Sat Mar  2 00:39:32 2024 Finding Nearest Neighbors\n",
      "Sat Mar  2 00:39:36 2024 Finished Nearest Neighbor Search\n",
      "Sat Mar  2 00:39:39 2024 Construct embedding\n"
     ]
    },
    {
     "data": {
      "application/vnd.jupyter.widget-view+json": {
       "model_id": "2e579b599dae4a5f8a6cb3b18df58d4b",
       "version_major": 2,
       "version_minor": 0
      },
      "text/plain": [
       "Epochs completed:   0%|            0/2000 [00:00]"
      ]
     },
     "metadata": {},
     "output_type": "display_data"
    },
    {
     "name": "stdout",
     "output_type": "stream",
     "text": [
      "\tcompleted  0  /  2000 epochs\n",
      "\tcompleted  200  /  2000 epochs\n",
      "\tcompleted  400  /  2000 epochs\n",
      "\tcompleted  600  /  2000 epochs\n",
      "\tcompleted  800  /  2000 epochs\n",
      "\tcompleted  1000  /  2000 epochs\n",
      "\tcompleted  1200  /  2000 epochs\n",
      "\tcompleted  1400  /  2000 epochs\n",
      "\tcompleted  1600  /  2000 epochs\n",
      "\tcompleted  1800  /  2000 epochs\n",
      "Sat Mar  2 00:39:45 2024 Finished embedding\n",
      "done with UMAP in 0:00:13.040174\n"
     ]
    },
    {
     "data": {
      "text/html": [
       "<div>                            <div id=\"bda69bfc-2c16-4593-bcd7-303d6580df31\" class=\"plotly-graph-div\" style=\"height:525px; width:100%;\"></div>            <script type=\"text/javascript\">                require([\"plotly\"], function(Plotly) {                    window.PLOTLYENV=window.PLOTLYENV || {};                                    if (document.getElementById(\"bda69bfc-2c16-4593-bcd7-303d6580df31\")) {                    Plotly.newPlot(                        \"bda69bfc-2c16-4593-bcd7-303d6580df31\",                        [{\"hovertemplate\":\"x=%{x}\\u003cbr\\u003ey=%{y}\\u003cbr\\u003estars=%{marker.color}\\u003cextra\\u003e\\u003c\\u002fextra\\u003e\",\"legendgroup\":\"\",\"marker\":{\"color\":[4.54,4.39,4.51,4.96,5.0,4.13,4.56,4.18,3.67,4.88,3.8,5.0,4.67,4.84,5.0,4.4,4.86,4.95,5.0,5.0,5.0,5.0,5.0,5.0,4.4,4.7,5.0,5.0,4.5,4.67,4.92,5.0,4.71,4.84,4.9,5.0,4.94,4.92,5.0,4.95,5.0,4.98,4.98,4.64,4.89,4.6,4.86,5.0,4.71,5.0,4.84,4.88,4.63,4.59,4.93,4.45,4.9,4.9,4.88,5.0,5.0,4.86,4.89,4.75,4.85,4.83,4.86,4.88,5.0,4.89,5.0,4.95,4.81,4.85,4.72,4.81,4.82,4.62,4.51,4.81,4.85,4.79,5.0,4.98,4.98,5.0,4.95,4.93,5.0,5.0,5.0,4.91,5.0,4.84,4.81,4.87,4.92,4.97,4.98,4.59,4.97,4.92,4.92,4.95,4.88,4.87,4.84,4.96,4.97,4.91,4.97,4.89,4.93,5.0,4.89,5.0,5.0,4.9,4.84,5.0,4.94,4.96,4.8,4.76,5.0,5.0,4.97,4.91,4.99,4.78,5.0,4.91,4.4,4.99,4.8,4.85,4.87,4.84,4.98,4.94,4.94,4.58,5.0,4.78,5.0,4.5,4.91,4.88,4.83,4.93,4.8,4.87,5.0,4.84,4.87,5.0,5.0,4.66,4.95,5.0,4.96,4.7,4.6,4.77,4.8,4.87,4.99,4.95,4.7,4.7,4.76,4.87,4.84,4.88,4.8,4.98,5.0,4.89,4.62,4.75,4.86,4.9,4.45,4.95,4.96,5.0,4.8,4.72,4.36,5.0,4.92,4.71,4.97,4.91,5.0,4.81,5.0,4.76,5.0,5.0,4.96,5.0,4.78,5.0,4.79,4.9,4.96,4.58,4.98,5.0,4.98,5.0,4.86,4.67,4.97,4.95,4.91,4.83,4.74,5.0,5.0,4.89,4.65,4.98,4.97,4.78,4.84,4.92,5.0,4.62,4.51,5.0,4.94,4.83,5.0,4.57,4.84,4.81,4.98,4.91,4.89,4.71,5.0,5.0,4.9,4.71,4.86,5.0,4.94,4.76,4.9,5.0,4.84,5.0,4.57,4.91,4.75,4.81,5.0,4.96,4.95,5.0,4.98,4.83,4.76,4.89,4.82,5.0,5.0,4.99,4.74,4.71,4.71,5.0,4.98,4.6,4.91,4.77,4.7,4.58,4.96,4.94,5.0,4.96,4.92,4.9,4.96,5.0,4.85,4.86,5.0,4.87,4.91,5.0,4.95,4.69,4.81,4.97,4.89,4.87,4.89,4.89,4.9,4.5,4.86,4.83,4.93,4.92,4.88,4.78,4.77,4.86,4.75,5.0,4.8,4.9,4.93,5.0,5.0,4.89,4.87,4.98,4.95,5.0,4.93,4.97,4.86,5.0,4.98,4.93,4.78,4.79,4.83,5.0,4.96,4.59,4.83,5.0,4.63,4.92,4.77,5.0,4.95,4.68,4.9,4.92,4.87,4.67,4.88,5.0,4.93,5.0,4.75,4.78,4.71,4.78,4.8,4.9,4.8,4.88,4.85,4.55,4.54,4.94,5.0,4.77,4.64,4.65,4.97,4.88,4.96,4.86,4.97,4.97,4.8,4.88,4.83,4.65,4.93,5.0,4.82,4.81,4.93,4.81,4.77,4.77,4.87,4.81,4.95,4.78,4.89,4.9,4.84,4.81,4.81,4.87,4.87,4.61,4.77,4.74,4.86,5.0,4.91,4.78,4.78,4.99,4.68,4.92,4.86,4.21,4.76,4.88,4.88,4.77,5.0,4.64,4.59,4.74,4.89,4.92,4.78,4.94,4.72,3.67,4.69,4.88,4.77,5.0,4.9,4.89,4.85,4.77,4.78,4.6,4.52,4.92,4.6,4.82,4.72,4.74,4.57,4.81,4.88,4.8,4.41,4.73,4.9,4.98,4.84,4.75,4.79,4.81,4.95,4.8,4.93,4.89,4.92,4.59,4.73,4.68,4.77,4.72,4.52,4.85,4.68,4.82,4.81,4.96,4.91,4.93,4.92,4.67,4.76,4.86,4.89,4.87,5.0,4.79,4.73,4.86,4.74,4.86,4.97,4.84,4.88,4.86,5.0,4.52,4.88,4.98,4.81,4.51,4.56,5.0,4.34,4.94,4.84,4.74,4.78,5.0,4.8,4.88,4.84,5.0,4.88,4.62,4.45,4.73,4.9,4.92,5.0,4.97,4.83,4.8,4.84,4.76,4.54,4.36,4.7,4.7,5.0,4.83,5.0,4.83,4.6,4.81,4.6,5.0,4.97,4.67,4.0,5.0,4.8,5.0,4.71,5.0,4.65,4.75,4.75,4.94,4.9,4.72,4.89,4.93,4.77,4.94,5.0,4.62,4.83,4.76,4.96,4.8,4.86,4.8,5.0,4.92,4.9,4.97,4.65,4.05,4.81,4.87,4.79,4.71,4.87,4.88,5.0,4.8,4.83,4.79,4.71,4.89,4.94,4.86,4.8,4.94,5.0,4.95,4.89,4.91,4.94,5.0,4.88,4.69,5.0,4.89,4.64,4.73,4.9,4.83,4.9,4.71,4.87,4.85,4.57,5.0,4.8,4.85,4.9,4.95,4.83,4.82,4.95,4.98,4.9,4.69,4.93,4.71,4.96,4.83,4.84,4.72,4.91,4.78,4.71,4.74,4.66,4.91,4.7,4.69,4.61,4.93,4.77,4.84,4.78,4.89,4.8,5.0,5.0,4.77,4.45,5.0,4.73,4.68,4.68,4.81,4.67,4.93,4.96,4.93,4.75,4.8,4.73,4.91,4.74,4.81,4.77,4.96,4.84,5.0,4.92,4.89,5.0,4.86,4.7,4.84,4.62,4.78,4.76,4.95,4.93,5.0,4.93,4.57,4.86,4.84,5.0,4.71,4.97,4.97,4.96,4.82,4.36,4.69,4.3,5.0,4.5,4.89,4.63,4.89,4.91,4.87,4.89,4.8,5.0,5.0,4.87,4.9,4.82,4.79,4.9,4.66,4.94,5.0,4.97,4.89,4.95,4.53,5.0,4.87,4.88,4.61,4.88,4.9,5.0,4.67,4.77,5.0,4.99,4.89,4.89,5.0,4.94,4.86,4.82,4.88,4.92,4.82,4.86,5.0,4.77,4.93,5.0],\"coloraxis\":\"coloraxis\",\"symbol\":\"circle\"},\"mode\":\"markers\",\"name\":\"\",\"orientation\":\"v\",\"showlegend\":false,\"x\":[14.426216,9.4397955,19.285965,4.9891276,6.8334117,11.139561,3.3465486,3.542343,3.930991,-8.404548,14.800296,11.302514,11.000184,3.4571161,11.338657,5.4404535,6.448271,5.7404175,13.748676,5.800435,21.05969,5.608082,5.7202477,-10.077198,5.798087,11.206003,7.1748476,6.2973104,5.9892535,6.376312,5.796041,11.794906,6.98751,5.7050076,6.3008146,6.281302,5.75484,5.8525457,5.9445233,5.6337495,5.944668,-10.37272,5.658435,14.76975,18.706736,21.940876,-1.26997,5.742672,-0.8096936,5.9129047,5.6550736,-2.4862468,5.6527576,5.6472454,12.077058,6.4823127,-13.328546,5.8715463,13.51853,13.258747,-10.061169,-10.63046,13.294608,5.663815,-1.948642,12.072647,5.4821486,-0.70659894,-10.287514,-2.1494071,6.4180694,11.678663,13.597119,12.410478,3.1949034,-10.327896,-10.265859,-9.311403,5.7841825,-0.60976166,6.971688,5.7225394,-2.570496,-0.028450225,-10.318776,-2.5555816,3.8638756,13.731335,5.6993513,5.8831463,5.844442,5.8327613,5.797569,5.7189116,7.421298,-10.300776,5.0108957,-1.3496332,13.745303,5.9187894,-0.77366894,-10.3755,2.4381673,13.701817,-2.5187914,0.11392997,-10.080855,13.6890955,7.0615273,13.692873,-12.928393,0.13766086,-13.089811,-8.648675,-2.1297364,13.719622,12.525,-1.5133213,13.012955,13.690796,3.8515363,11.771482,-2.304153,-2.6242385,13.611556,11.811662,12.566187,13.704362,-10.086881,-12.693876,-0.105434224,-2.593457,-0.095663935,10.390577,5.6955323,7.4257936,-1.3230691,13.745498,13.640171,-0.55595505,-10.263702,5.302194,13.368849,-0.94308513,5.036148,4.1785536,14.330668,-1.6450292,-12.61748,4.294506,-2.408891,-10.087244,-11.894467,-2.3898418,6.4597344,-10.1608515,-11.530251,-8.271497,5.637145,-8.2594595,-7.8954053,-10.367006,11.335906,-2.715357,6.4950786,5.748037,-10.316733,-10.115249,-1.2872924,7.4668202,3.5306363,6.8574114,-2.2219787,5.7434373,4.9974704,13.348918,-11.040334,-10.024137,5.4478498,-10.187344,-11.786591,-2.441946,2.4113545,-1.3066086,-2.723063,-12.966836,-7.813834,3.217623,5.002927,-10.002694,-2.7550955,-2.6555674,5.5453997,12.126739,11.678588,-8.735551,11.767336,12.369108,-12.961244,-11.004134,-2.3153245,-12.52029,7.074805,12.597779,5.838654,13.578167,7.0368657,5.44968,13.068935,24.708214,12.999187,-9.156944,5.655128,3.183657,-12.128808,10.504224,-2.1230016,-1.2636472,-10.332024,-12.723427,-10.633139,13.192866,-10.158174,11.944684,9.54552,5.565914,-2.1838024,-2.0505092,-10.314418,-2.6902938,2.3553479,-0.06335599,-1.6612338,-2.4981732,-1.5795594,13.594812,13.603475,3.139585,13.21739,-2.015534,-1.5449301,-2.588634,13.731226,-8.059578,-0.04748423,5.928321,-1.525798,12.011839,11.638818,-12.7117195,11.355349,11.809362,4.299109,-10.964426,14.55582,11.658843,12.672135,-9.176436,12.476866,13.77249,7.436381,-8.495258,-2.6972613,13.080814,2.4328556,13.7760105,13.638756,12.909537,13.655835,11.3173685,-11.778975,12.836941,10.057471,-0.7304456,12.033435,5.6330557,-11.926661,13.752843,13.050326,-2.1584346,-1.5196614,3.826196,11.675107,9.360317,3.180651,11.188542,10.451419,10.985702,11.357704,11.272353,17.046366,10.313693,13.779252,-0.55383337,9.8076,11.307238,19.305872,20.209606,-0.7946367,9.867504,9.899425,-8.123942,21.178461,17.082438,9.284713,9.94326,14.208681,11.328713,6.4768634,11.319283,3.163308,10.185322,9.214563,10.789669,7.184159,18.893127,10.712344,17.045902,9.306544,9.255624,10.177577,19.330486,23.829634,11.000493,24.719,-1.6097467,10.225921,-13.290286,-11.84926,16.03766,9.468162,17.055655,18.96439,-10.973565,23.340414,-2.0388496,2.3963604,19.717428,4.337047,22.575985,9.499581,19.100607,10.538944,9.522713,-10.733485,20.651375,9.250026,23.780197,23.238457,22.097664,22.473206,24.851965,13.655808,10.15187,9.842239,-11.2464695,-10.15827,18.940943,9.427078,-8.907755,14.503623,16.153133,14.155826,3.8480992,12.331875,9.634521,11.305802,9.441287,-9.353599,9.315335,-2.6115875,10.081699,23.201935,18.681398,2.3815866,22.277248,10.571589,10.1103735,11.041483,9.887604,0.15708825,9.501455,-1.3010662,9.729503,18.711283,9.904161,24.34961,16.123531,14.680399,10.222922,20.014103,9.660735,10.561939,16.010534,14.528475,11.31189,16.015253,14.982468,10.958649,12.555119,10.9708185,23.363888,10.282793,9.524251,9.91667,-12.942812,4.130808,11.221012,16.091387,9.390083,-10.087271,-8.37968,3.354834,2.518812,18.529224,-9.142496,11.365126,9.511584,13.229637,-0.5932779,-7.85975,13.534558,9.742682,21.096064,11.12861,9.479914,11.294683,-13.101174,9.368127,-8.722082,9.61838,11.11014,-11.852887,4.1464005,10.871847,-10.374559,-10.06905,9.578649,9.797049,18.73629,16.906826,14.704806,-9.981684,9.311551,3.8389316,9.443509,-1.5039351,17.04002,11.326456,14.6993685,-11.978892,9.470478,20.339226,11.349262,-2.2190406,24.842989,19.38017,3.3120852,11.799745,-11.371287,-13.352358,-11.249942,9.505962,19.342407,9.9144335,9.353144,-10.2342415,24.862041,16.017399,14.68729,-9.375084,3.2684827,14.609525,11.253901,10.830779,22.472767,9.421201,24.739649,10.960958,9.870653,14.135879,3.756361,24.348967,9.94561,20.510334,24.348635,21.320036,14.694421,11.831704,23.300058,14.433586,23.751759,-11.738443,10.073691,9.64021,22.105001,24.571255,-11.89079,-8.915113,-13.229366,12.835179,22.071613,-8.158697,23.784086,-7.7999215,3.9110548,-1.9900149,9.403817,-10.051141,-10.736597,-12.394875,20.515362,0.032829843,13.649797,-0.45199814,-13.057117,19.409996,9.265134,9.307298,14.240348,13.766246,21.195045,-10.278871,-13.331242,10.084767,-11.488934,-8.080607,14.686292,18.526865,3.2421477,14.988511,11.322217,10.562704,-1.5903614,-2.0328948,23.76329,12.583776,9.860471,9.8980465,13.764396,11.931408,14.614282,-0.5822385,9.218801,16.061983,4.3718944,-8.202491,19.435007,14.138467,3.320168,24.561275,-2.177271,9.796566,9.892117,24.900658,-1.5320514,22.54696,16.146488,9.751844,11.243821,14.389776,16.09489,-11.150671,9.55377,14.688221,17.069357,21.155943,14.697509,9.902594,11.814305,2.4048777,23.433247,0.19530085,20.669765,19.088085,-1.3921512,24.871464,20.12382,-7.9327974,18.157366,18.732285,9.902754,-8.731349,4.357822,-13.312885,9.963898,20.505749,9.613683,-12.630675,0.14932379,14.673028,10.136178,4.378975,9.295407,4.344786,19.955343,-13.29534,-7.8202724,10.322797,9.270208,-0.37609437,-8.904033,-8.63801,13.030905,24.676329,9.623887,19.929354,-1.5666786,-1.8509469,-0.12129487,-1.2806093,-0.8101732,11.302506,14.308278,11.336492,9.883563,5.817692,-10.951587,13.663042,-1.3468245,9.359399,12.323835,-1.1529149,13.777924,4.3570704,9.585471,9.906619,11.33295,24.65203,19.145372,11.327708,-8.956158,6.307199,9.520826,9.810109,14.241512,9.946406,-2.7422645,9.49098,-9.202386,-8.318787,10.568522,10.357563,-9.111303,-1.5984993,2.4296706,-7.8388534,2.4229035,7.4329834,10.181553,9.279887,7.1292796,13.690501,-2.121026,2.4034684,11.325576,20.318293,10.367774,15.992039,-11.031212,-1.5101368,20.675209,-0.85447043,-2.4924166,14.204952,2.354157,23.279959,-7.8281283,21.293167,-9.233075,13.232991,15.963468,14.616129,11.234817,11.336581,13.691909,20.287876,14.6516695,9.381195,9.424157,9.877463,21.112514,3.145914,-0.60218525,9.611041,22.489052,9.932391,11.26108,-8.451081,9.787,14.175451,5.7022758,14.659402,11.321371,12.789475,24.706968,0.048238833,-2.7290924,-2.3805156,-1.514033,22.329256,11.3382,9.684135,21.204832,11.6511965,4.02391,-9.376724,-7.8095345,0.014481273,0.054197043,0.2075635,9.898913,19.105902,14.621524,23.688578,0.14356893,-9.234784,14.175983,9.50364,9.484194,3.838767,22.439604,13.237183],\"xaxis\":\"x\",\"y\":[6.574532,-1.5529436,8.363554,30.481607,28.335703,-8.161027,11.475509,11.327703,11.269476,2.8363154,6.8356695,-9.276259,-7.7540774,11.366637,-10.062154,31.321398,28.436775,30.174992,22.896004,29.145864,8.687308,29.505898,29.343384,14.735782,29.143452,-8.338601,28.225233,28.558428,30.942085,28.492104,30.384644,18.140055,28.30298,29.422712,28.555332,28.577242,30.247097,29.076164,30.994385,31.228912,30.891811,14.415092,29.551302,6.814039,8.2306595,8.831225,11.484052,31.130833,9.29965,30.816206,31.205053,10.024168,29.563393,29.557999,18.511866,28.422379,0.18642986,31.0287,21.029327,20.367928,14.75328,0.9571872,20.428617,29.968025,11.383795,18.508844,31.238104,10.90118,14.515816,9.592704,28.452053,18.028734,21.184877,18.9682,11.643263,14.474377,14.538432,1.8890489,30.313576,9.391342,28.316229,30.14653,10.846145,9.547853,14.483462,10.134679,12.211032,22.912792,30.040909,30.686518,30.591715,29.09731,31.091587,29.399588,28.109114,14.501118,30.523457,11.469923,22.520044,30.963247,9.320068,14.424992,11.496521,22.227886,10.916676,9.653544,14.731692,22.94694,28.270107,22.197083,0.35878667,9.688072,0.3539222,2.5721066,9.542669,22.491434,19.128315,9.263427,20.015326,22.976479,12.183718,18.13445,9.772567,10.780767,21.141542,18.209414,19.18888,22.303951,14.727217,0.34927166,9.497328,10.819969,9.496099,-6.301314,30.00974,28.100262,11.491144,22.392206,23.023512,9.422479,14.540194,31.10114,20.584368,9.32065,30.456858,11.393043,6.480705,11.445494,0.3590509,11.547112,9.871086,14.724744,0.4634829,9.882316,28.426695,1.2373416,0.5628259,2.977798,29.496616,2.9902325,3.3757074,14.436469,-9.969866,10.583853,28.407911,29.254026,14.485938,14.698098,11.454329,28.120707,11.360509,28.328602,9.616408,31.135311,30.467705,20.55657,0.6955503,1.3392184,31.253578,1.2172956,0.5004236,9.941773,11.50471,11.4814625,10.609132,0.37479973,3.4592924,11.626394,30.45902,1.3600116,10.570353,10.709638,31.258741,18.577305,18.028847,2.4800968,18.132875,18.916376,0.37233296,0.7281976,9.766243,0.36397085,28.262527,19.247633,31.056383,21.159683,28.275738,31.291748,20.103601,9.256383,19.991386,2.037643,31.214756,11.684174,0.4217918,-6.6752753,11.291169,11.412491,14.470182,0.35456797,0.9576304,20.282602,14.650904,18.340557,1.2420297,31.221127,9.601974,11.358284,14.482541,10.512504,11.457171,9.540483,11.431584,10.017938,9.183741,21.188322,21.200684,11.715509,20.298342,11.374485,9.11952,10.196621,22.375051,3.2029643,9.561116,30.976368,9.014555,18.432304,18.008762,0.3387717,-10.365087,18.190844,11.562363,0.75837547,6.676592,18.008343,19.375372,2.0178494,19.062325,22.349098,28.104582,2.7373655,10.524922,20.115011,11.50271,22.58975,21.351627,19.828989,21.540092,-10.399204,0.5147631,19.708044,-5.2742915,9.346602,18.461391,31.235826,0.4362879,22.39162,20.066479,9.54523,9.030156,12.1606245,18.031612,0.08073623,11.66698,-8.292976,-6.5013385,-7.73641,-10.263894,-9.082028,7.6474967,-6.1487174,22.79639,9.369648,-2.9724598,-9.260348,8.380496,8.599503,9.320525,-3.4853923,-3.7469363,3.1342783,8.711159,7.664575,-0.7222106,-4.666847,6.313726,-10.368472,28.41498,-9.226932,11.6918125,-5.770289,-0.8105653,-7.272238,28.215885,8.267842,-7.0953493,7.644634,-0.9269216,-0.806657,-5.7354665,8.405662,9.363171,-7.7538905,9.294069,9.193769,-5.8931303,0.20829856,0.46087885,7.230598,1.1635288,7.6549635,8.271687,0.7533359,9.246784,11.356782,11.499135,8.484605,11.544657,8.977613,-1.7794682,8.350711,-6.7220383,-1.8466915,0.8754621,8.672079,-0.7629282,9.35552,9.198502,8.873709,8.946526,9.369395,21.50751,-5.68783,-3.0517223,0.63109773,1.2360506,8.268118,0.60205346,2.295955,6.617556,7.29731,6.2617884,12.186427,18.86724,-2.0766847,-9.294007,1.135906,1.8497303,-0.97877866,10.251984,-5.3604145,9.175243,8.205459,11.501681,8.893876,-6.779022,-5.451202,-7.820831,-3.871912,9.687733,1.0279737,11.47276,-2.5889342,8.23199,-4.320189,9.335829,7.268977,5.216153,-5.879771,8.555805,-2.212163,-6.7647853,7.1993403,6.6506133,-9.429721,7.19972,6.894087,-7.6570296,19.178368,-7.739063,9.245743,-6.0508103,-1.8335814,-4.4634085,0.38767144,11.322398,-8.379577,7.2902184,-1.4032007,1.2929599,2.8612869,11.393639,11.555592,8.129044,2.051272,-10.281102,1.2173105,20.317558,9.384521,3.4120634,21.016573,-2.650538,8.675526,-8.18033,1.0119852,-9.158196,0.33311677,0.08925527,2.4934661,-2.0671422,-8.119289,0.4450809,11.359819,-7.44826,1.0992322,14.74451,-1.9711403,-2.822631,8.239585,7.5819707,6.776906,1.3810767,-1.0141577,12.223074,1.133716,9.269876,7.6392365,-10.006195,5.2931757,0.45782918,1.1915985,8.605284,-10.19114,9.588177,9.366804,8.403769,11.486661,18.170216,0.5891611,0.16377711,0.631162,1.2033881,8.401092,-4.3031564,0.07034678,1.1888617,9.373337,7.2048054,5.279921,1.8307683,11.33707,5.828118,-8.619219,-7.3592715,8.941355,-1.4551302,9.304714,-7.688931,-3.453929,6.272124,11.934616,9.349531,-4.705353,8.643099,9.340633,8.747775,5.275696,18.169472,9.2226305,6.5784683,9.325644,0.52135324,-5.349229,1.4185423,8.874666,9.320656,0.4535433,2.2881324,0.2623669,19.700172,8.855771,3.0969017,9.320487,3.4735377,11.219089,11.380012,-1.3572189,1.3209784,0.89147806,0.38730565,8.659284,9.580517,21.466902,9.884096,0.36051998,8.425383,-0.73941624,-0.70988715,6.379693,22.581358,8.6977005,1.1542257,0.18313576,-5.375957,0.5640098,3.1797478,5.3227806,8.118903,11.589027,6.8965683,-10.372939,-6.76349,9.235473,11.35775,9.339302,19.212,-3.5830276,-3.4987926,22.866222,18.317669,5.8535943,9.899432,-0.8733078,7.2548723,11.575417,3.0517254,8.4244175,6.290203,11.48201,9.3099785,9.57832,-2.8379924,-3.8961172,9.411693,9.030573,8.995159,7.2999196,-2.635264,-8.406004,6.5412483,7.2870636,0.644597,1.2499586,5.2374177,7.6702504,8.707974,5.2155824,-4.280259,18.166693,11.494224,9.263152,9.745081,8.669675,8.331993,9.307269,9.388736,8.571573,3.3371005,8.023925,8.243931,-3.8177333,2.4840136,11.552283,0.194576,-4.7608323,8.622552,1.3820977,0.35758182,9.681174,5.313461,-5.504192,11.585141,-1.0224,11.540393,8.537378,0.20482324,3.4532254,-6.14248,-0.72447586,9.905751,2.2993364,2.5837443,20.043312,9.268934,1.438407,8.523766,9.181957,9.437248,9.479477,11.464755,10.974011,-9.16218,6.4493194,-9.950096,-3.50452,29.110094,0.76595294,21.618929,11.435474,0.07386153,18.866549,11.235525,22.852201,11.55748,-1.9458305,-3.5383599,-9.749287,9.286027,8.377154,-10.373472,2.2452705,28.546995,1.2147995,-2.866345,6.3548994,-4.639738,10.604615,1.1931785,1.9921607,2.9272804,-6.7763824,-6.1989093,2.0832024,9.152154,11.523744,3.433923,11.519963,28.106043,-5.7574215,-0.7436356,28.236242,22.986637,9.537175,11.482136,-9.546648,8.615402,-6.2418075,7.176885,0.70811373,9.016742,8.675456,9.316457,10.950788,6.329489,11.454283,9.224193,3.4451053,8.726314,1.962035,20.313845,7.154609,5.153755,-8.56117,-10.32729,22.98603,8.620231,5.1834674,0.10191601,1.1636953,-3.5646152,8.680304,11.694179,10.100862,-2.030059,8.947411,-4.68518,-8.675574,2.7842073,-2.8253565,6.2341366,30.202509,5.2021213,-9.413516,19.610624,9.271186,9.599936,10.612185,11.077069,9.008674,8.909769,-9.95043,-2.308071,8.716782,18.000113,11.254102,1.8298048,3.4639535,9.575075,9.609186,9.748886,-3.941743,8.369188,5.949773,9.315395,9.678387,1.960017,6.336048,-1.7808852,-1.728639,12.182982,8.923875,20.320406],\"yaxis\":\"y\",\"type\":\"scatter\"}],                        {\"template\":{\"data\":{\"histogram2dcontour\":[{\"type\":\"histogram2dcontour\",\"colorbar\":{\"outlinewidth\":0,\"ticks\":\"\"},\"colorscale\":[[0.0,\"#0d0887\"],[0.1111111111111111,\"#46039f\"],[0.2222222222222222,\"#7201a8\"],[0.3333333333333333,\"#9c179e\"],[0.4444444444444444,\"#bd3786\"],[0.5555555555555556,\"#d8576b\"],[0.6666666666666666,\"#ed7953\"],[0.7777777777777778,\"#fb9f3a\"],[0.8888888888888888,\"#fdca26\"],[1.0,\"#f0f921\"]]}],\"choropleth\":[{\"type\":\"choropleth\",\"colorbar\":{\"outlinewidth\":0,\"ticks\":\"\"}}],\"histogram2d\":[{\"type\":\"histogram2d\",\"colorbar\":{\"outlinewidth\":0,\"ticks\":\"\"},\"colorscale\":[[0.0,\"#0d0887\"],[0.1111111111111111,\"#46039f\"],[0.2222222222222222,\"#7201a8\"],[0.3333333333333333,\"#9c179e\"],[0.4444444444444444,\"#bd3786\"],[0.5555555555555556,\"#d8576b\"],[0.6666666666666666,\"#ed7953\"],[0.7777777777777778,\"#fb9f3a\"],[0.8888888888888888,\"#fdca26\"],[1.0,\"#f0f921\"]]}],\"heatmap\":[{\"type\":\"heatmap\",\"colorbar\":{\"outlinewidth\":0,\"ticks\":\"\"},\"colorscale\":[[0.0,\"#0d0887\"],[0.1111111111111111,\"#46039f\"],[0.2222222222222222,\"#7201a8\"],[0.3333333333333333,\"#9c179e\"],[0.4444444444444444,\"#bd3786\"],[0.5555555555555556,\"#d8576b\"],[0.6666666666666666,\"#ed7953\"],[0.7777777777777778,\"#fb9f3a\"],[0.8888888888888888,\"#fdca26\"],[1.0,\"#f0f921\"]]}],\"heatmapgl\":[{\"type\":\"heatmapgl\",\"colorbar\":{\"outlinewidth\":0,\"ticks\":\"\"},\"colorscale\":[[0.0,\"#0d0887\"],[0.1111111111111111,\"#46039f\"],[0.2222222222222222,\"#7201a8\"],[0.3333333333333333,\"#9c179e\"],[0.4444444444444444,\"#bd3786\"],[0.5555555555555556,\"#d8576b\"],[0.6666666666666666,\"#ed7953\"],[0.7777777777777778,\"#fb9f3a\"],[0.8888888888888888,\"#fdca26\"],[1.0,\"#f0f921\"]]}],\"contourcarpet\":[{\"type\":\"contourcarpet\",\"colorbar\":{\"outlinewidth\":0,\"ticks\":\"\"}}],\"contour\":[{\"type\":\"contour\",\"colorbar\":{\"outlinewidth\":0,\"ticks\":\"\"},\"colorscale\":[[0.0,\"#0d0887\"],[0.1111111111111111,\"#46039f\"],[0.2222222222222222,\"#7201a8\"],[0.3333333333333333,\"#9c179e\"],[0.4444444444444444,\"#bd3786\"],[0.5555555555555556,\"#d8576b\"],[0.6666666666666666,\"#ed7953\"],[0.7777777777777778,\"#fb9f3a\"],[0.8888888888888888,\"#fdca26\"],[1.0,\"#f0f921\"]]}],\"surface\":[{\"type\":\"surface\",\"colorbar\":{\"outlinewidth\":0,\"ticks\":\"\"},\"colorscale\":[[0.0,\"#0d0887\"],[0.1111111111111111,\"#46039f\"],[0.2222222222222222,\"#7201a8\"],[0.3333333333333333,\"#9c179e\"],[0.4444444444444444,\"#bd3786\"],[0.5555555555555556,\"#d8576b\"],[0.6666666666666666,\"#ed7953\"],[0.7777777777777778,\"#fb9f3a\"],[0.8888888888888888,\"#fdca26\"],[1.0,\"#f0f921\"]]}],\"mesh3d\":[{\"type\":\"mesh3d\",\"colorbar\":{\"outlinewidth\":0,\"ticks\":\"\"}}],\"scatter\":[{\"fillpattern\":{\"fillmode\":\"overlay\",\"size\":10,\"solidity\":0.2},\"type\":\"scatter\"}],\"parcoords\":[{\"type\":\"parcoords\",\"line\":{\"colorbar\":{\"outlinewidth\":0,\"ticks\":\"\"}}}],\"scatterpolargl\":[{\"type\":\"scatterpolargl\",\"marker\":{\"colorbar\":{\"outlinewidth\":0,\"ticks\":\"\"}}}],\"bar\":[{\"error_x\":{\"color\":\"#2a3f5f\"},\"error_y\":{\"color\":\"#2a3f5f\"},\"marker\":{\"line\":{\"color\":\"#E5ECF6\",\"width\":0.5},\"pattern\":{\"fillmode\":\"overlay\",\"size\":10,\"solidity\":0.2}},\"type\":\"bar\"}],\"scattergeo\":[{\"type\":\"scattergeo\",\"marker\":{\"colorbar\":{\"outlinewidth\":0,\"ticks\":\"\"}}}],\"scatterpolar\":[{\"type\":\"scatterpolar\",\"marker\":{\"colorbar\":{\"outlinewidth\":0,\"ticks\":\"\"}}}],\"histogram\":[{\"marker\":{\"pattern\":{\"fillmode\":\"overlay\",\"size\":10,\"solidity\":0.2}},\"type\":\"histogram\"}],\"scattergl\":[{\"type\":\"scattergl\",\"marker\":{\"colorbar\":{\"outlinewidth\":0,\"ticks\":\"\"}}}],\"scatter3d\":[{\"type\":\"scatter3d\",\"line\":{\"colorbar\":{\"outlinewidth\":0,\"ticks\":\"\"}},\"marker\":{\"colorbar\":{\"outlinewidth\":0,\"ticks\":\"\"}}}],\"scattermapbox\":[{\"type\":\"scattermapbox\",\"marker\":{\"colorbar\":{\"outlinewidth\":0,\"ticks\":\"\"}}}],\"scatterternary\":[{\"type\":\"scatterternary\",\"marker\":{\"colorbar\":{\"outlinewidth\":0,\"ticks\":\"\"}}}],\"scattercarpet\":[{\"type\":\"scattercarpet\",\"marker\":{\"colorbar\":{\"outlinewidth\":0,\"ticks\":\"\"}}}],\"carpet\":[{\"aaxis\":{\"endlinecolor\":\"#2a3f5f\",\"gridcolor\":\"white\",\"linecolor\":\"white\",\"minorgridcolor\":\"white\",\"startlinecolor\":\"#2a3f5f\"},\"baxis\":{\"endlinecolor\":\"#2a3f5f\",\"gridcolor\":\"white\",\"linecolor\":\"white\",\"minorgridcolor\":\"white\",\"startlinecolor\":\"#2a3f5f\"},\"type\":\"carpet\"}],\"table\":[{\"cells\":{\"fill\":{\"color\":\"#EBF0F8\"},\"line\":{\"color\":\"white\"}},\"header\":{\"fill\":{\"color\":\"#C8D4E3\"},\"line\":{\"color\":\"white\"}},\"type\":\"table\"}],\"barpolar\":[{\"marker\":{\"line\":{\"color\":\"#E5ECF6\",\"width\":0.5},\"pattern\":{\"fillmode\":\"overlay\",\"size\":10,\"solidity\":0.2}},\"type\":\"barpolar\"}],\"pie\":[{\"automargin\":true,\"type\":\"pie\"}]},\"layout\":{\"autotypenumbers\":\"strict\",\"colorway\":[\"#636efa\",\"#EF553B\",\"#00cc96\",\"#ab63fa\",\"#FFA15A\",\"#19d3f3\",\"#FF6692\",\"#B6E880\",\"#FF97FF\",\"#FECB52\"],\"font\":{\"color\":\"#2a3f5f\"},\"hovermode\":\"closest\",\"hoverlabel\":{\"align\":\"left\"},\"paper_bgcolor\":\"white\",\"plot_bgcolor\":\"#E5ECF6\",\"polar\":{\"bgcolor\":\"#E5ECF6\",\"angularaxis\":{\"gridcolor\":\"white\",\"linecolor\":\"white\",\"ticks\":\"\"},\"radialaxis\":{\"gridcolor\":\"white\",\"linecolor\":\"white\",\"ticks\":\"\"}},\"ternary\":{\"bgcolor\":\"#E5ECF6\",\"aaxis\":{\"gridcolor\":\"white\",\"linecolor\":\"white\",\"ticks\":\"\"},\"baxis\":{\"gridcolor\":\"white\",\"linecolor\":\"white\",\"ticks\":\"\"},\"caxis\":{\"gridcolor\":\"white\",\"linecolor\":\"white\",\"ticks\":\"\"}},\"coloraxis\":{\"colorbar\":{\"outlinewidth\":0,\"ticks\":\"\"}},\"colorscale\":{\"sequential\":[[0.0,\"#0d0887\"],[0.1111111111111111,\"#46039f\"],[0.2222222222222222,\"#7201a8\"],[0.3333333333333333,\"#9c179e\"],[0.4444444444444444,\"#bd3786\"],[0.5555555555555556,\"#d8576b\"],[0.6666666666666666,\"#ed7953\"],[0.7777777777777778,\"#fb9f3a\"],[0.8888888888888888,\"#fdca26\"],[1.0,\"#f0f921\"]],\"sequentialminus\":[[0.0,\"#0d0887\"],[0.1111111111111111,\"#46039f\"],[0.2222222222222222,\"#7201a8\"],[0.3333333333333333,\"#9c179e\"],[0.4444444444444444,\"#bd3786\"],[0.5555555555555556,\"#d8576b\"],[0.6666666666666666,\"#ed7953\"],[0.7777777777777778,\"#fb9f3a\"],[0.8888888888888888,\"#fdca26\"],[1.0,\"#f0f921\"]],\"diverging\":[[0,\"#8e0152\"],[0.1,\"#c51b7d\"],[0.2,\"#de77ae\"],[0.3,\"#f1b6da\"],[0.4,\"#fde0ef\"],[0.5,\"#f7f7f7\"],[0.6,\"#e6f5d0\"],[0.7,\"#b8e186\"],[0.8,\"#7fbc41\"],[0.9,\"#4d9221\"],[1,\"#276419\"]]},\"xaxis\":{\"gridcolor\":\"white\",\"linecolor\":\"white\",\"ticks\":\"\",\"title\":{\"standoff\":15},\"zerolinecolor\":\"white\",\"automargin\":true,\"zerolinewidth\":2},\"yaxis\":{\"gridcolor\":\"white\",\"linecolor\":\"white\",\"ticks\":\"\",\"title\":{\"standoff\":15},\"zerolinecolor\":\"white\",\"automargin\":true,\"zerolinewidth\":2},\"scene\":{\"xaxis\":{\"backgroundcolor\":\"#E5ECF6\",\"gridcolor\":\"white\",\"linecolor\":\"white\",\"showbackground\":true,\"ticks\":\"\",\"zerolinecolor\":\"white\",\"gridwidth\":2},\"yaxis\":{\"backgroundcolor\":\"#E5ECF6\",\"gridcolor\":\"white\",\"linecolor\":\"white\",\"showbackground\":true,\"ticks\":\"\",\"zerolinecolor\":\"white\",\"gridwidth\":2},\"zaxis\":{\"backgroundcolor\":\"#E5ECF6\",\"gridcolor\":\"white\",\"linecolor\":\"white\",\"showbackground\":true,\"ticks\":\"\",\"zerolinecolor\":\"white\",\"gridwidth\":2}},\"shapedefaults\":{\"line\":{\"color\":\"#2a3f5f\"}},\"annotationdefaults\":{\"arrowcolor\":\"#2a3f5f\",\"arrowhead\":0,\"arrowwidth\":1},\"geo\":{\"bgcolor\":\"white\",\"landcolor\":\"#E5ECF6\",\"subunitcolor\":\"white\",\"showland\":true,\"showlakes\":true,\"lakecolor\":\"white\"},\"title\":{\"x\":0.05},\"mapbox\":{\"style\":\"light\"}}},\"xaxis\":{\"anchor\":\"y\",\"domain\":[0.0,1.0],\"title\":{\"text\":\"x\"}},\"yaxis\":{\"anchor\":\"x\",\"domain\":[0.0,1.0],\"title\":{\"text\":\"y\"}},\"coloraxis\":{\"colorbar\":{\"title\":{\"text\":\"stars\"}},\"colorscale\":[[0.0,\"#0d0887\"],[0.1111111111111111,\"#46039f\"],[0.2222222222222222,\"#7201a8\"],[0.3333333333333333,\"#9c179e\"],[0.4444444444444444,\"#bd3786\"],[0.5555555555555556,\"#d8576b\"],[0.6666666666666666,\"#ed7953\"],[0.7777777777777778,\"#fb9f3a\"],[0.8888888888888888,\"#fdca26\"],[1.0,\"#f0f921\"]]},\"legend\":{\"tracegroupgap\":0},\"margin\":{\"t\":60}},                        {\"responsive\": true}                    ).then(function(){\n",
       "                            \n",
       "var gd = document.getElementById('bda69bfc-2c16-4593-bcd7-303d6580df31');\n",
       "var x = new MutationObserver(function (mutations, observer) {{\n",
       "        var display = window.getComputedStyle(gd).display;\n",
       "        if (!display || display === 'none') {{\n",
       "            console.log([gd, 'removed!']);\n",
       "            Plotly.purge(gd);\n",
       "            observer.disconnect();\n",
       "        }}\n",
       "}});\n",
       "\n",
       "// Listen for the removal of the full notebook cells\n",
       "var notebookContainer = gd.closest('#notebook-container');\n",
       "if (notebookContainer) {{\n",
       "    x.observe(notebookContainer, {childList: true});\n",
       "}}\n",
       "\n",
       "// Listen for the clearing of the current output cell\n",
       "var outputEl = gd.closest('.output');\n",
       "if (outputEl) {{\n",
       "    x.observe(outputEl, {childList: true});\n",
       "}}\n",
       "\n",
       "                        })                };                });            </script>        </div>"
      ]
     },
     "metadata": {},
     "output_type": "display_data"
    }
   ],
   "source": [
    "from arrow import now\n",
    "from umap import UMAP\n",
    "\n",
    "time_start = now()\n",
    "plot_df = dropna_df.copy()\n",
    "umap = UMAP(random_state=2024, verbose=True, n_jobs=1, low_memory=False, n_epochs=2000)\n",
    "plot_df[['x', 'y']] = umap.fit_transform(X=plot_df[columns])\n",
    "print('done with UMAP in {}'.format(now() - time_start))\n",
    "express.scatter(data_frame=plot_df, x='x', y='y',  color='stars').show()"
   ]
  },
  {
   "cell_type": "markdown",
   "id": "54019cd8",
   "metadata": {
    "papermill": {
     "duration": 0.009706,
     "end_time": "2024-03-02T00:39:45.216773",
     "exception": false,
     "start_time": "2024-03-02T00:39:45.207067",
     "status": "completed"
    },
    "tags": []
   },
   "source": [
    "UMAP shows us that there is natural clustering in our numerical data, but it doesn't tell us much about rating stars."
   ]
  },
  {
   "cell_type": "code",
   "execution_count": 12,
   "id": "cea17555",
   "metadata": {
    "execution": {
     "iopub.execute_input": "2024-03-02T00:39:45.237592Z",
     "iopub.status.busy": "2024-03-02T00:39:45.236996Z",
     "iopub.status.idle": "2024-03-02T00:39:45.290724Z",
     "shell.execute_reply": "2024-03-02T00:39:45.289823Z"
    },
    "papermill": {
     "duration": 0.066742,
     "end_time": "2024-03-02T00:39:45.292882",
     "exception": false,
     "start_time": "2024-03-02T00:39:45.226140",
     "status": "completed"
    },
    "tags": []
   },
   "outputs": [
    {
     "data": {
      "text/html": [
       "<div>                            <div id=\"d6b7197e-f5dc-4e85-bed9-d0b43f4a8d1a\" class=\"plotly-graph-div\" style=\"height:525px; width:100%;\"></div>            <script type=\"text/javascript\">                require([\"plotly\"], function(Plotly) {                    window.PLOTLYENV=window.PLOTLYENV || {};                                    if (document.getElementById(\"d6b7197e-f5dc-4e85-bed9-d0b43f4a8d1a\")) {                    Plotly.newPlot(                        \"d6b7197e-f5dc-4e85-bed9-d0b43f4a8d1a\",                        [{\"alignmentgroup\":\"True\",\"bingroup\":\"x\",\"hovertemplate\":\"stars=%{x}\\u003cbr\\u003ecount=%{y}\\u003cextra\\u003e\\u003c\\u002fextra\\u003e\",\"legendgroup\":\"\",\"marker\":{\"color\":\"#636efa\",\"pattern\":{\"shape\":\"\"}},\"name\":\"\",\"offsetgroup\":\"\",\"orientation\":\"v\",\"showlegend\":false,\"x\":[4.54,4.39,4.51,4.96,5.0,4.13,4.56,4.18,3.67,4.88,3.8,5.0,4.67,4.84,5.0,4.4,4.86,4.95,5.0,5.0,5.0,5.0,5.0,5.0,4.4,4.7,5.0,5.0,4.5,4.67,4.92,5.0,4.71,4.84,4.9,5.0,4.94,4.92,5.0,4.95,5.0,4.98,4.98,4.64,4.89,4.6,4.86,5.0,4.71,5.0,4.84,4.88,4.63,4.59,4.93,4.45,4.9,4.9,4.88,5.0,5.0,4.86,4.89,4.75,4.85,4.83,4.86,4.88,5.0,4.89,5.0,4.95,4.81,4.85,4.72,4.81,4.82,4.62,4.51,4.81,4.85,4.79,5.0,4.98,4.98,5.0,4.95,4.93,5.0,5.0,5.0,4.91,5.0,4.84,4.81,4.87,4.92,4.97,4.98,4.59,4.97,4.92,4.92,4.95,4.88,4.87,4.84,4.96,4.97,4.91,4.97,4.89,4.93,5.0,4.89,5.0,5.0,4.9,4.84,5.0,4.94,4.96,4.8,4.76,5.0,5.0,4.97,4.91,4.99,4.78,5.0,4.91,4.4,4.99,4.8,4.85,4.87,4.84,4.98,4.94,4.94,4.58,5.0,4.78,5.0,4.5,4.91,4.88,4.83,4.93,4.8,4.87,5.0,4.84,4.87,5.0,5.0,4.66,4.95,5.0,4.96,4.7,4.6,4.77,4.8,4.87,4.99,4.95,4.7,4.7,4.76,4.87,4.84,4.88,4.8,4.98,5.0,4.89,4.62,4.75,4.86,4.9,4.45,4.95,4.96,5.0,4.8,4.72,4.36,5.0,4.92,4.71,4.97,4.91,5.0,4.81,5.0,4.76,5.0,5.0,4.96,5.0,4.78,5.0,4.79,4.9,4.96,4.58,4.98,5.0,4.98,5.0,4.86,4.67,4.97,4.95,4.91,4.83,4.74,5.0,5.0,4.89,4.65,4.98,4.97,4.78,4.84,4.92,5.0,4.62,4.51,5.0,4.94,4.83,5.0,4.57,4.84,4.81,4.98,4.91,4.89,4.71,5.0,5.0,4.9,4.71,4.86,5.0,4.94,4.76,4.9,5.0,4.84,5.0,4.57,4.91,4.75,4.81,5.0,4.96,4.95,5.0,4.98,4.83,4.76,4.89,4.82,5.0,5.0,4.99,4.74,4.71,4.71,5.0,4.98,4.6,4.91,4.77,4.7,4.58,4.96,4.94,5.0,4.96,4.92,4.9,4.96,5.0,4.85,4.86,5.0,4.87,4.91,5.0,4.95,4.69,4.81,4.97,4.89,4.87,4.89,4.89,4.9,4.5,4.86,4.83,4.93,4.92,4.88,4.78,4.77,4.86,4.75,5.0,4.8,4.9,4.93,5.0,5.0,4.89,4.87,4.98,4.95,5.0,4.93,4.97,4.86,5.0,4.98,4.93,4.78,4.79,4.83,5.0,4.96,4.59,4.83,5.0,4.63,4.92,4.77,5.0,4.95,4.68,4.9,4.92,4.87,4.67,4.88,5.0,4.93,5.0,4.75,4.78,4.71,4.78,4.8,4.9,4.8,4.88,4.85,4.55,4.54,4.94,5.0,4.77,4.64,4.65,4.97,4.88,4.96,4.86,4.97,4.97,4.8,4.88,4.83,4.65,4.93,5.0,4.82,4.81,4.93,4.81,4.77,4.77,4.87,4.81,4.95,4.78,4.89,4.9,4.84,4.81,4.81,4.87,4.87,4.61,4.77,4.74,4.86,5.0,4.91,4.78,4.78,4.99,4.68,4.92,4.86,4.21,4.76,4.88,4.88,4.77,5.0,4.64,4.59,4.74,4.89,4.92,4.78,4.94,4.72,3.67,4.69,4.88,4.77,5.0,4.9,4.89,4.85,4.77,4.78,4.6,4.52,4.92,4.6,4.82,4.72,4.74,4.57,4.81,4.88,4.8,4.41,4.73,4.9,4.98,4.84,4.75,4.79,4.81,4.95,4.8,4.93,4.89,4.92,4.59,4.73,4.68,4.77,4.72,4.52,4.85,4.68,4.82,4.81,4.96,4.91,4.93,4.92,4.67,4.76,4.86,4.89,4.87,5.0,4.79,4.73,4.86,4.74,4.86,4.97,4.84,4.88,4.86,5.0,4.52,4.88,4.98,4.81,4.51,4.56,5.0,4.34,4.94,4.84,4.74,4.78,5.0,4.8,4.88,4.84,5.0,4.88,4.62,4.45,4.73,4.9,4.92,5.0,4.97,4.83,4.8,4.84,4.76,4.54,4.36,4.7,4.7,5.0,4.83,5.0,4.83,4.6,4.81,4.6,5.0,4.97,4.67,4.0,5.0,4.8,5.0,4.71,5.0,4.65,4.75,4.75,4.94,4.9,4.72,4.89,4.93,4.77,4.94,5.0,4.62,4.83,4.76,4.96,4.8,4.86,4.8,5.0,4.92,4.9,4.97,4.65,4.05,4.81,4.87,4.79,4.71,4.87,4.88,5.0,4.8,4.83,4.79,4.71,4.89,4.94,4.86,4.8,4.94,5.0,4.95,4.89,4.91,4.94,5.0,4.88,4.69,5.0,4.89,4.64,4.73,4.9,4.83,4.9,4.71,4.87,4.85,4.57,5.0,4.8,4.85,4.9,4.95,4.83,4.82,4.95,4.98,4.9,4.69,4.93,4.71,4.96,4.83,4.84,4.72,4.91,4.78,4.71,4.74,4.66,4.91,4.7,4.69,4.61,4.93,4.77,4.84,4.78,4.89,4.8,5.0,5.0,4.77,4.45,5.0,4.73,4.68,4.68,4.81,4.67,4.93,4.96,4.93,4.75,4.8,4.73,4.91,4.74,4.81,4.77,4.96,4.84,5.0,4.92,4.89,5.0,4.86,4.7,4.84,4.62,4.78,4.76,4.95,4.93,5.0,4.93,4.57,4.86,4.84,5.0,4.71,4.97,4.97,4.96,4.82,4.36,4.69,4.3,5.0,4.5,4.89,4.63,4.89,4.91,4.87,4.89,4.8,5.0,5.0,4.87,4.9,4.82,4.79,4.9,4.66,4.94,5.0,4.97,4.89,4.95,4.53,5.0,4.87,4.88,4.61,4.88,4.9,5.0,4.67,4.77,5.0,4.99,4.89,4.89,5.0,4.94,4.86,4.82,4.88,4.92,4.82,4.86,5.0,4.77,4.93,5.0],\"xaxis\":\"x\",\"yaxis\":\"y\",\"type\":\"histogram\"}],                        {\"template\":{\"data\":{\"histogram2dcontour\":[{\"type\":\"histogram2dcontour\",\"colorbar\":{\"outlinewidth\":0,\"ticks\":\"\"},\"colorscale\":[[0.0,\"#0d0887\"],[0.1111111111111111,\"#46039f\"],[0.2222222222222222,\"#7201a8\"],[0.3333333333333333,\"#9c179e\"],[0.4444444444444444,\"#bd3786\"],[0.5555555555555556,\"#d8576b\"],[0.6666666666666666,\"#ed7953\"],[0.7777777777777778,\"#fb9f3a\"],[0.8888888888888888,\"#fdca26\"],[1.0,\"#f0f921\"]]}],\"choropleth\":[{\"type\":\"choropleth\",\"colorbar\":{\"outlinewidth\":0,\"ticks\":\"\"}}],\"histogram2d\":[{\"type\":\"histogram2d\",\"colorbar\":{\"outlinewidth\":0,\"ticks\":\"\"},\"colorscale\":[[0.0,\"#0d0887\"],[0.1111111111111111,\"#46039f\"],[0.2222222222222222,\"#7201a8\"],[0.3333333333333333,\"#9c179e\"],[0.4444444444444444,\"#bd3786\"],[0.5555555555555556,\"#d8576b\"],[0.6666666666666666,\"#ed7953\"],[0.7777777777777778,\"#fb9f3a\"],[0.8888888888888888,\"#fdca26\"],[1.0,\"#f0f921\"]]}],\"heatmap\":[{\"type\":\"heatmap\",\"colorbar\":{\"outlinewidth\":0,\"ticks\":\"\"},\"colorscale\":[[0.0,\"#0d0887\"],[0.1111111111111111,\"#46039f\"],[0.2222222222222222,\"#7201a8\"],[0.3333333333333333,\"#9c179e\"],[0.4444444444444444,\"#bd3786\"],[0.5555555555555556,\"#d8576b\"],[0.6666666666666666,\"#ed7953\"],[0.7777777777777778,\"#fb9f3a\"],[0.8888888888888888,\"#fdca26\"],[1.0,\"#f0f921\"]]}],\"heatmapgl\":[{\"type\":\"heatmapgl\",\"colorbar\":{\"outlinewidth\":0,\"ticks\":\"\"},\"colorscale\":[[0.0,\"#0d0887\"],[0.1111111111111111,\"#46039f\"],[0.2222222222222222,\"#7201a8\"],[0.3333333333333333,\"#9c179e\"],[0.4444444444444444,\"#bd3786\"],[0.5555555555555556,\"#d8576b\"],[0.6666666666666666,\"#ed7953\"],[0.7777777777777778,\"#fb9f3a\"],[0.8888888888888888,\"#fdca26\"],[1.0,\"#f0f921\"]]}],\"contourcarpet\":[{\"type\":\"contourcarpet\",\"colorbar\":{\"outlinewidth\":0,\"ticks\":\"\"}}],\"contour\":[{\"type\":\"contour\",\"colorbar\":{\"outlinewidth\":0,\"ticks\":\"\"},\"colorscale\":[[0.0,\"#0d0887\"],[0.1111111111111111,\"#46039f\"],[0.2222222222222222,\"#7201a8\"],[0.3333333333333333,\"#9c179e\"],[0.4444444444444444,\"#bd3786\"],[0.5555555555555556,\"#d8576b\"],[0.6666666666666666,\"#ed7953\"],[0.7777777777777778,\"#fb9f3a\"],[0.8888888888888888,\"#fdca26\"],[1.0,\"#f0f921\"]]}],\"surface\":[{\"type\":\"surface\",\"colorbar\":{\"outlinewidth\":0,\"ticks\":\"\"},\"colorscale\":[[0.0,\"#0d0887\"],[0.1111111111111111,\"#46039f\"],[0.2222222222222222,\"#7201a8\"],[0.3333333333333333,\"#9c179e\"],[0.4444444444444444,\"#bd3786\"],[0.5555555555555556,\"#d8576b\"],[0.6666666666666666,\"#ed7953\"],[0.7777777777777778,\"#fb9f3a\"],[0.8888888888888888,\"#fdca26\"],[1.0,\"#f0f921\"]]}],\"mesh3d\":[{\"type\":\"mesh3d\",\"colorbar\":{\"outlinewidth\":0,\"ticks\":\"\"}}],\"scatter\":[{\"fillpattern\":{\"fillmode\":\"overlay\",\"size\":10,\"solidity\":0.2},\"type\":\"scatter\"}],\"parcoords\":[{\"type\":\"parcoords\",\"line\":{\"colorbar\":{\"outlinewidth\":0,\"ticks\":\"\"}}}],\"scatterpolargl\":[{\"type\":\"scatterpolargl\",\"marker\":{\"colorbar\":{\"outlinewidth\":0,\"ticks\":\"\"}}}],\"bar\":[{\"error_x\":{\"color\":\"#2a3f5f\"},\"error_y\":{\"color\":\"#2a3f5f\"},\"marker\":{\"line\":{\"color\":\"#E5ECF6\",\"width\":0.5},\"pattern\":{\"fillmode\":\"overlay\",\"size\":10,\"solidity\":0.2}},\"type\":\"bar\"}],\"scattergeo\":[{\"type\":\"scattergeo\",\"marker\":{\"colorbar\":{\"outlinewidth\":0,\"ticks\":\"\"}}}],\"scatterpolar\":[{\"type\":\"scatterpolar\",\"marker\":{\"colorbar\":{\"outlinewidth\":0,\"ticks\":\"\"}}}],\"histogram\":[{\"marker\":{\"pattern\":{\"fillmode\":\"overlay\",\"size\":10,\"solidity\":0.2}},\"type\":\"histogram\"}],\"scattergl\":[{\"type\":\"scattergl\",\"marker\":{\"colorbar\":{\"outlinewidth\":0,\"ticks\":\"\"}}}],\"scatter3d\":[{\"type\":\"scatter3d\",\"line\":{\"colorbar\":{\"outlinewidth\":0,\"ticks\":\"\"}},\"marker\":{\"colorbar\":{\"outlinewidth\":0,\"ticks\":\"\"}}}],\"scattermapbox\":[{\"type\":\"scattermapbox\",\"marker\":{\"colorbar\":{\"outlinewidth\":0,\"ticks\":\"\"}}}],\"scatterternary\":[{\"type\":\"scatterternary\",\"marker\":{\"colorbar\":{\"outlinewidth\":0,\"ticks\":\"\"}}}],\"scattercarpet\":[{\"type\":\"scattercarpet\",\"marker\":{\"colorbar\":{\"outlinewidth\":0,\"ticks\":\"\"}}}],\"carpet\":[{\"aaxis\":{\"endlinecolor\":\"#2a3f5f\",\"gridcolor\":\"white\",\"linecolor\":\"white\",\"minorgridcolor\":\"white\",\"startlinecolor\":\"#2a3f5f\"},\"baxis\":{\"endlinecolor\":\"#2a3f5f\",\"gridcolor\":\"white\",\"linecolor\":\"white\",\"minorgridcolor\":\"white\",\"startlinecolor\":\"#2a3f5f\"},\"type\":\"carpet\"}],\"table\":[{\"cells\":{\"fill\":{\"color\":\"#EBF0F8\"},\"line\":{\"color\":\"white\"}},\"header\":{\"fill\":{\"color\":\"#C8D4E3\"},\"line\":{\"color\":\"white\"}},\"type\":\"table\"}],\"barpolar\":[{\"marker\":{\"line\":{\"color\":\"#E5ECF6\",\"width\":0.5},\"pattern\":{\"fillmode\":\"overlay\",\"size\":10,\"solidity\":0.2}},\"type\":\"barpolar\"}],\"pie\":[{\"automargin\":true,\"type\":\"pie\"}]},\"layout\":{\"autotypenumbers\":\"strict\",\"colorway\":[\"#636efa\",\"#EF553B\",\"#00cc96\",\"#ab63fa\",\"#FFA15A\",\"#19d3f3\",\"#FF6692\",\"#B6E880\",\"#FF97FF\",\"#FECB52\"],\"font\":{\"color\":\"#2a3f5f\"},\"hovermode\":\"closest\",\"hoverlabel\":{\"align\":\"left\"},\"paper_bgcolor\":\"white\",\"plot_bgcolor\":\"#E5ECF6\",\"polar\":{\"bgcolor\":\"#E5ECF6\",\"angularaxis\":{\"gridcolor\":\"white\",\"linecolor\":\"white\",\"ticks\":\"\"},\"radialaxis\":{\"gridcolor\":\"white\",\"linecolor\":\"white\",\"ticks\":\"\"}},\"ternary\":{\"bgcolor\":\"#E5ECF6\",\"aaxis\":{\"gridcolor\":\"white\",\"linecolor\":\"white\",\"ticks\":\"\"},\"baxis\":{\"gridcolor\":\"white\",\"linecolor\":\"white\",\"ticks\":\"\"},\"caxis\":{\"gridcolor\":\"white\",\"linecolor\":\"white\",\"ticks\":\"\"}},\"coloraxis\":{\"colorbar\":{\"outlinewidth\":0,\"ticks\":\"\"}},\"colorscale\":{\"sequential\":[[0.0,\"#0d0887\"],[0.1111111111111111,\"#46039f\"],[0.2222222222222222,\"#7201a8\"],[0.3333333333333333,\"#9c179e\"],[0.4444444444444444,\"#bd3786\"],[0.5555555555555556,\"#d8576b\"],[0.6666666666666666,\"#ed7953\"],[0.7777777777777778,\"#fb9f3a\"],[0.8888888888888888,\"#fdca26\"],[1.0,\"#f0f921\"]],\"sequentialminus\":[[0.0,\"#0d0887\"],[0.1111111111111111,\"#46039f\"],[0.2222222222222222,\"#7201a8\"],[0.3333333333333333,\"#9c179e\"],[0.4444444444444444,\"#bd3786\"],[0.5555555555555556,\"#d8576b\"],[0.6666666666666666,\"#ed7953\"],[0.7777777777777778,\"#fb9f3a\"],[0.8888888888888888,\"#fdca26\"],[1.0,\"#f0f921\"]],\"diverging\":[[0,\"#8e0152\"],[0.1,\"#c51b7d\"],[0.2,\"#de77ae\"],[0.3,\"#f1b6da\"],[0.4,\"#fde0ef\"],[0.5,\"#f7f7f7\"],[0.6,\"#e6f5d0\"],[0.7,\"#b8e186\"],[0.8,\"#7fbc41\"],[0.9,\"#4d9221\"],[1,\"#276419\"]]},\"xaxis\":{\"gridcolor\":\"white\",\"linecolor\":\"white\",\"ticks\":\"\",\"title\":{\"standoff\":15},\"zerolinecolor\":\"white\",\"automargin\":true,\"zerolinewidth\":2},\"yaxis\":{\"gridcolor\":\"white\",\"linecolor\":\"white\",\"ticks\":\"\",\"title\":{\"standoff\":15},\"zerolinecolor\":\"white\",\"automargin\":true,\"zerolinewidth\":2},\"scene\":{\"xaxis\":{\"backgroundcolor\":\"#E5ECF6\",\"gridcolor\":\"white\",\"linecolor\":\"white\",\"showbackground\":true,\"ticks\":\"\",\"zerolinecolor\":\"white\",\"gridwidth\":2},\"yaxis\":{\"backgroundcolor\":\"#E5ECF6\",\"gridcolor\":\"white\",\"linecolor\":\"white\",\"showbackground\":true,\"ticks\":\"\",\"zerolinecolor\":\"white\",\"gridwidth\":2},\"zaxis\":{\"backgroundcolor\":\"#E5ECF6\",\"gridcolor\":\"white\",\"linecolor\":\"white\",\"showbackground\":true,\"ticks\":\"\",\"zerolinecolor\":\"white\",\"gridwidth\":2}},\"shapedefaults\":{\"line\":{\"color\":\"#2a3f5f\"}},\"annotationdefaults\":{\"arrowcolor\":\"#2a3f5f\",\"arrowhead\":0,\"arrowwidth\":1},\"geo\":{\"bgcolor\":\"white\",\"landcolor\":\"#E5ECF6\",\"subunitcolor\":\"white\",\"showland\":true,\"showlakes\":true,\"lakecolor\":\"white\"},\"title\":{\"x\":0.05},\"mapbox\":{\"style\":\"light\"}}},\"xaxis\":{\"anchor\":\"y\",\"domain\":[0.0,1.0],\"title\":{\"text\":\"stars\"}},\"yaxis\":{\"anchor\":\"x\",\"domain\":[0.0,1.0],\"title\":{\"text\":\"count\"}},\"legend\":{\"tracegroupgap\":0},\"margin\":{\"t\":60},\"barmode\":\"relative\"},                        {\"responsive\": true}                    ).then(function(){\n",
       "                            \n",
       "var gd = document.getElementById('d6b7197e-f5dc-4e85-bed9-d0b43f4a8d1a');\n",
       "var x = new MutationObserver(function (mutations, observer) {{\n",
       "        var display = window.getComputedStyle(gd).display;\n",
       "        if (!display || display === 'none') {{\n",
       "            console.log([gd, 'removed!']);\n",
       "            Plotly.purge(gd);\n",
       "            observer.disconnect();\n",
       "        }}\n",
       "}});\n",
       "\n",
       "// Listen for the removal of the full notebook cells\n",
       "var notebookContainer = gd.closest('#notebook-container');\n",
       "if (notebookContainer) {{\n",
       "    x.observe(notebookContainer, {childList: true});\n",
       "}}\n",
       "\n",
       "// Listen for the clearing of the current output cell\n",
       "var outputEl = gd.closest('.output');\n",
       "if (outputEl) {{\n",
       "    x.observe(outputEl, {childList: true});\n",
       "}}\n",
       "\n",
       "                        })                };                });            </script>        </div>"
      ]
     },
     "metadata": {},
     "output_type": "display_data"
    }
   ],
   "source": [
    "express.histogram(data_frame=dropna_df, x='stars')"
   ]
  },
  {
   "cell_type": "markdown",
   "id": "ef4ac6b3",
   "metadata": {
    "papermill": {
     "duration": 0.009795,
     "end_time": "2024-03-02T00:39:45.312605",
     "exception": false,
     "start_time": "2024-03-02T00:39:45.302810",
     "status": "completed"
    },
    "tags": []
   },
   "source": [
    "This might be part of the problem; there are essentially no values below 4.5 stars."
   ]
  },
  {
   "cell_type": "code",
   "execution_count": 13,
   "id": "0734643d",
   "metadata": {
    "execution": {
     "iopub.execute_input": "2024-03-02T00:39:45.333916Z",
     "iopub.status.busy": "2024-03-02T00:39:45.333153Z",
     "iopub.status.idle": "2024-03-02T00:39:45.391968Z",
     "shell.execute_reply": "2024-03-02T00:39:45.390836Z"
    },
    "papermill": {
     "duration": 0.071688,
     "end_time": "2024-03-02T00:39:45.394127",
     "exception": false,
     "start_time": "2024-03-02T00:39:45.322439",
     "status": "completed"
    },
    "tags": []
   },
   "outputs": [
    {
     "data": {
      "text/html": [
       "<div>                            <div id=\"60d07b79-044b-45b3-b741-2ac4717656c7\" class=\"plotly-graph-div\" style=\"height:525px; width:100%;\"></div>            <script type=\"text/javascript\">                require([\"plotly\"], function(Plotly) {                    window.PLOTLYENV=window.PLOTLYENV || {};                                    if (document.getElementById(\"60d07b79-044b-45b3-b741-2ac4717656c7\")) {                    Plotly.newPlot(                        \"60d07b79-044b-45b3-b741-2ac4717656c7\",                        [{\"hovertemplate\":\"firstReviewRating=%{x}\\u003cbr\\u003estars=%{y}\\u003cbr\\u003el0=%{marker.color}\\u003cextra\\u003e\\u003c\\u002fextra\\u003e\",\"legendgroup\":\"\",\"marker\":{\"color\":[0.5212472081184387,0.0,0.0,0.0,0.0,0.0,0.8418383002281189,0.7502238154411316,0.7881841063499451,0.0,0.9443421363830566,0.0,0.0,0.37425458431243896,0.0,0.0,0.0,0.0,0.0,0.0,0.0,0.0,0.0,0.0,0.0,0.0,0.0,0.0,0.0,0.0,0.0,0.0,0.0,0.0,0.0,0.0,0.0,0.0,0.0,0.0,0.0,0.0,0.0,0.0,0.0,0.0,0.0,0.0,0.0,0.0,0.0,0.0,0.0,0.0,0.0,0.0,0.0,0.0,0.0,0.0,0.0,0.0,0.0,0.0,0.0,0.0,0.8341233134269714,0.9086018800735474,0.0,0.0,0.0,0.0,0.0,0.0,0.0,0.0,0.0,0.0,0.0,0.0,0.0,0.0,0.0,0.0,0.0,0.0,0.0,0.0,0.0,0.0,0.0,0.0,0.0,0.0,0.0,0.0,0.0,0.0,0.0,0.0,0.0,0.0,0.0,0.0,0.0,0.0,0.0,0.0,0.0,0.0,0.0,0.0,0.0,0.0,0.0,0.0,0.0,0.0,0.0,0.0,0.0,0.0,0.0,0.0,0.0,0.0,0.0,0.0,0.0,0.0,0.0,0.0,0.0,0.0,0.0,0.0,0.0,0.0,0.0,0.0,0.0,0.0,0.0,0.0,0.0,0.0,0.0,0.0,0.0,0.0,0.0,0.0,0.0,0.0,0.0,0.0,0.0,0.0,0.0,0.0,0.0,0.0,0.0,0.0,0.0,0.0,0.0,0.0,0.0,0.0,0.6124101281166077,0.0,0.0,0.0,0.0,0.0,0.0,0.0,0.4616810083389282,0.0,0.0,0.0,0.0,0.0,0.0,0.0,0.0,0.0,0.0,0.0,0.0,0.0,0.0,0.0,0.0,0.0,0.0,0.0,0.0,0.0,0.0,0.0,0.0,0.0,0.0,0.0,0.0,0.0,0.0,0.0,0.0,0.0,0.0,0.0,0.0,0.0,0.0,0.0,0.0,0.0,0.0,0.0,0.0,0.0,0.0,0.0,0.0,0.0,0.0,0.0,0.0,0.0,0.0,0.0,0.0,0.0,0.0,0.0,0.0,0.0,0.0,0.0,0.0,0.0,0.0,0.0,0.0,0.0,0.0,0.0,0.0,0.0,0.0,0.0,0.4765242040157318,0.0,0.0,0.0,0.0,0.0,0.0,0.0,0.0,0.0,0.0,0.0,0.0,0.0,0.0,0.0,0.0,0.0,0.0,0.0,0.0,0.0,0.0,0.0,0.0,0.0,0.0,0.0,0.0,0.0,0.0,0.0,0.0,0.0,0.0,0.0,0.0,0.0,0.0,0.0,0.0,0.0,0.0,0.0,0.0,0.0,0.0,0.0,0.0,0.0,0.0,0.0,0.0,0.0,0.0,0.0,0.0,0.0,0.0,0.0,0.0,0.0,0.0,0.0,0.0,0.0,0.0,0.0,0.0,0.0,0.0,0.0,0.0,0.0,0.0,0.5462265610694885,0.0,0.0,0.0,0.0,0.0,0.0,0.0,0.0,0.0,0.0,0.0,0.0,0.0,0.0,0.0,0.0,0.0,0.0,0.0,0.0,0.0,0.0,0.0,0.0,0.0,0.0,0.0,0.0,0.0,0.0,0.9205576181411743,0.0,0.0,0.0,0.0,0.0,0.0,0.0,0.0,0.0,0.0,0.0,0.0,0.0,0.0,0.0,0.0,0.0,0.0,0.0,0.0,0.0,0.0,0.0,0.0,0.0,0.0,0.0,0.0,0.0,0.0,0.0,0.0,0.0,0.9247502088546753,0.0,0.0,0.0,0.0,0.0,0.0,0.0,0.0,0.0,0.0,0.0,0.0,0.0,0.0,0.0,0.0,0.0,0.5639587640762329,0.0,0.0,0.0,0.0,0.0,0.0,0.0,0.0,0.0,0.0,0.0,0.0,0.0,0.0,0.0,0.0,0.0,0.0,0.0,0.0,0.0,0.0,0.0,0.0,0.0,0.0,0.0,0.0,0.0,0.0,0.0,0.0,0.0,0.0,0.0,0.0,0.0,0.0,0.0,0.0,0.0,0.0,0.0,0.0,0.6081628799438477,0.0,0.0,0.0,0.0,0.0,0.0,0.0,0.0,0.0,0.0,0.0,0.0,0.0,0.7399035692214966,0.0,0.0,0.0,0.0,0.0,0.0,0.0,0.0,0.0,0.0,0.0,0.0,0.0,0.0,0.0,0.0,0.0,0.0,0.8297609686851501,0.0,0.0,0.0,0.0,0.0,0.0,0.0,0.0,0.0,0.0,0.0,0.0,0.0,0.0,0.8117039203643799,0.0,0.0,0.0,0.0,0.0,0.0,0.0,0.0,0.0,0.0,0.0,0.0,0.0,0.0,0.0,0.0,0.0,0.0,0.0,0.0,0.0,0.0,0.0,0.6983442902565002,0.8903878331184387,0.0,0.0,0.0,0.0,0.0,0.0,0.0,0.0,0.0,0.0,0.0,0.0,0.0,0.0,0.0,0.0,0.0,0.0,0.0,0.0,0.0,0.0,0.0,0.0,0.0,0.0,0.0,0.0,0.0,0.6411576271057129,0.0,0.0,0.0,0.0,0.0,0.0,0.0,0.0,0.0,0.0,0.0,0.0,0.0,0.0,0.0,0.0,0.0,0.0,0.0,0.0,0.0,0.0,0.0,0.0,0.0,0.0,0.0,0.0,0.0,0.0,0.0,0.0,0.0,0.0,0.0,0.0,0.0,0.0,0.0,0.0,0.0,0.0,0.0,0.0,0.0,0.0,0.0,0.0,0.0,0.0,0.8954190611839294,0.0,0.0,0.0,0.0,0.0,0.0,0.0,0.0,0.0,0.0,0.0,0.0,0.0,0.0,0.0,0.0,0.0,0.0,0.0,0.0,0.0,0.0,0.0,0.0,0.0,0.0,0.0,0.0,0.0,0.0,0.0,0.0,0.0,0.0,0.0,0.0,0.0,0.0,0.0,0.0,0.0,0.0,0.0,0.0,0.0,0.0,0.0,0.0,0.0,0.0,0.0,0.0,0.0,0.0,0.0,0.0,0.0,0.0,0.0,0.0,0.0,0.0,0.0,0.0,0.0,0.0,0.0,0.0,0.0,0.0,0.0,0.0,0.0,0.0,0.0,0.0,0.0,0.0,0.0,0.0,0.0,0.0,0.0,0.0,0.0,0.0,0.0,0.0,0.0,0.0,0.0,0.0,0.0,0.0,0.0,0.0,0.0,0.0,0.0,0.0,0.0,0.0,0.0,0.0,0.0,0.0,0.0,0.0,0.0,0.0,0.0],\"coloraxis\":\"coloraxis\",\"symbol\":\"circle\"},\"mode\":\"markers\",\"name\":\"\",\"orientation\":\"v\",\"showlegend\":false,\"x\":[4.0,5.0,5.0,5.0,5.0,5.0,3.0,1.0,1.0,5.0,1.0,5.0,5.0,2.0,5.0,3.0,5.0,5.0,5.0,5.0,5.0,5.0,5.0,5.0,5.0,5.0,5.0,5.0,5.0,5.0,5.0,5.0,5.0,5.0,5.0,5.0,5.0,5.0,5.0,5.0,5.0,5.0,5.0,1.0,5.0,5.0,5.0,5.0,5.0,5.0,5.0,5.0,5.0,5.0,5.0,5.0,5.0,5.0,5.0,5.0,5.0,5.0,5.0,5.0,5.0,5.0,4.0,1.0,5.0,5.0,5.0,5.0,5.0,5.0,4.0,5.0,5.0,5.0,5.0,5.0,5.0,5.0,5.0,5.0,5.0,5.0,5.0,5.0,5.0,5.0,5.0,5.0,5.0,5.0,5.0,5.0,5.0,5.0,5.0,5.0,5.0,5.0,5.0,5.0,5.0,5.0,5.0,5.0,5.0,5.0,5.0,5.0,5.0,5.0,5.0,5.0,5.0,5.0,5.0,5.0,5.0,5.0,5.0,5.0,5.0,5.0,5.0,5.0,5.0,5.0,5.0,5.0,5.0,5.0,5.0,5.0,5.0,5.0,5.0,5.0,5.0,4.0,5.0,5.0,5.0,3.0,4.0,5.0,5.0,4.0,5.0,5.0,5.0,5.0,5.0,5.0,5.0,5.0,5.0,5.0,5.0,5.0,5.0,5.0,5.0,5.0,5.0,5.0,5.0,5.0,1.0,5.0,5.0,5.0,5.0,5.0,5.0,5.0,4.0,5.0,5.0,5.0,5.0,5.0,5.0,5.0,5.0,4.0,5.0,5.0,5.0,5.0,4.0,5.0,5.0,5.0,5.0,5.0,5.0,5.0,5.0,5.0,5.0,5.0,5.0,5.0,5.0,3.0,5.0,5.0,5.0,5.0,5.0,4.0,5.0,5.0,5.0,5.0,5.0,5.0,5.0,5.0,5.0,5.0,5.0,4.0,5.0,5.0,5.0,5.0,5.0,5.0,5.0,5.0,5.0,5.0,5.0,4.0,5.0,5.0,5.0,5.0,5.0,5.0,5.0,5.0,5.0,5.0,5.0,5.0,5.0,5.0,4.0,5.0,3.0,5.0,5.0,5.0,5.0,5.0,5.0,5.0,5.0,5.0,5.0,5.0,5.0,5.0,5.0,5.0,5.0,5.0,5.0,5.0,5.0,5.0,5.0,5.0,5.0,5.0,5.0,5.0,5.0,5.0,4.0,5.0,5.0,5.0,5.0,5.0,5.0,5.0,5.0,5.0,5.0,5.0,5.0,5.0,5.0,5.0,5.0,5.0,5.0,5.0,5.0,5.0,4.0,5.0,5.0,5.0,4.0,5.0,5.0,5.0,5.0,5.0,5.0,5.0,5.0,5.0,5.0,5.0,5.0,5.0,5.0,5.0,5.0,5.0,5.0,4.0,5.0,5.0,5.0,5.0,5.0,5.0,5.0,5.0,4.0,5.0,5.0,5.0,5.0,5.0,5.0,5.0,5.0,5.0,5.0,5.0,5.0,5.0,5.0,5.0,5.0,5.0,5.0,5.0,5.0,5.0,3.0,4.0,4.0,5.0,5.0,5.0,5.0,5.0,5.0,5.0,5.0,5.0,5.0,5.0,5.0,5.0,5.0,5.0,5.0,5.0,5.0,5.0,5.0,5.0,5.0,5.0,5.0,4.0,5.0,5.0,5.0,5.0,5.0,4.0,3.0,5.0,4.0,1.0,5.0,5.0,5.0,5.0,5.0,5.0,5.0,5.0,3.0,5.0,4.0,5.0,5.0,5.0,3.0,4.0,5.0,5.0,5.0,5.0,5.0,5.0,5.0,5.0,5.0,5.0,5.0,5.0,5.0,5.0,5.0,5.0,5.0,5.0,5.0,3.0,5.0,5.0,5.0,5.0,5.0,5.0,4.0,2.0,5.0,5.0,5.0,5.0,5.0,5.0,5.0,5.0,5.0,5.0,5.0,5.0,5.0,5.0,5.0,3.0,5.0,5.0,5.0,5.0,5.0,5.0,5.0,5.0,5.0,5.0,4.0,5.0,5.0,2.0,4.0,5.0,5.0,5.0,5.0,5.0,5.0,5.0,4.0,4.0,5.0,5.0,5.0,5.0,5.0,5.0,5.0,5.0,4.0,5.0,5.0,5.0,4.0,5.0,5.0,5.0,5.0,5.0,5.0,5.0,5.0,5.0,5.0,2.0,5.0,5.0,5.0,5.0,5.0,5.0,5.0,5.0,4.0,5.0,5.0,5.0,5.0,4.0,5.0,5.0,5.0,5.0,5.0,5.0,5.0,5.0,5.0,4.0,1.0,5.0,5.0,5.0,5.0,5.0,5.0,5.0,5.0,5.0,5.0,4.0,4.0,5.0,4.0,4.0,5.0,5.0,4.0,3.0,5.0,5.0,5.0,5.0,5.0,5.0,5.0,4.0,5.0,5.0,4.0,4.0,5.0,5.0,5.0,5.0,5.0,5.0,5.0,5.0,5.0,5.0,5.0,5.0,5.0,5.0,5.0,5.0,5.0,5.0,5.0,5.0,5.0,4.0,5.0,5.0,5.0,4.0,5.0,5.0,5.0,5.0,4.0,5.0,4.0,5.0,5.0,5.0,5.0,5.0,4.0,5.0,5.0,5.0,5.0,4.0,5.0,5.0,5.0,5.0,5.0,1.0,5.0,4.0,5.0,5.0,5.0,5.0,5.0,5.0,5.0,5.0,4.0,5.0,4.0,5.0,5.0,5.0,5.0,5.0,5.0,5.0,5.0,5.0,5.0,4.0,5.0,5.0,5.0,5.0,5.0,5.0,5.0,5.0,5.0,5.0,5.0,5.0,5.0,5.0,5.0,5.0,5.0,5.0,5.0,5.0,5.0,5.0,4.0,5.0,5.0,5.0,5.0,5.0,4.0,5.0,5.0,5.0,5.0,5.0,5.0,4.0,5.0,5.0,5.0,5.0,5.0,5.0,5.0,5.0,5.0,5.0,4.0,4.0,5.0,5.0,5.0,5.0,5.0,5.0,4.0,5.0,5.0,5.0,5.0,5.0,5.0,5.0,5.0,5.0,5.0,5.0,5.0,5.0,5.0,2.0,5.0,5.0,5.0,5.0,5.0,5.0,5.0,4.0,5.0,5.0,5.0,4.0,5.0,5.0,5.0,5.0,5.0],\"xaxis\":\"x\",\"y\":[4.54,4.39,4.51,4.96,5.0,4.13,4.56,4.18,3.67,4.88,3.8,5.0,4.67,4.84,5.0,4.4,4.86,4.95,5.0,5.0,5.0,5.0,5.0,5.0,4.4,4.7,5.0,5.0,4.5,4.67,4.92,5.0,4.71,4.84,4.9,5.0,4.94,4.92,5.0,4.95,5.0,4.98,4.98,4.64,4.89,4.6,4.86,5.0,4.71,5.0,4.84,4.88,4.63,4.59,4.93,4.45,4.9,4.9,4.88,5.0,5.0,4.86,4.89,4.75,4.85,4.83,4.86,4.88,5.0,4.89,5.0,4.95,4.81,4.85,4.72,4.81,4.82,4.62,4.51,4.81,4.85,4.79,5.0,4.98,4.98,5.0,4.95,4.93,5.0,5.0,5.0,4.91,5.0,4.84,4.81,4.87,4.92,4.97,4.98,4.59,4.97,4.92,4.92,4.95,4.88,4.87,4.84,4.96,4.97,4.91,4.97,4.89,4.93,5.0,4.89,5.0,5.0,4.9,4.84,5.0,4.94,4.96,4.8,4.76,5.0,5.0,4.97,4.91,4.99,4.78,5.0,4.91,4.4,4.99,4.8,4.85,4.87,4.84,4.98,4.94,4.94,4.58,5.0,4.78,5.0,4.5,4.91,4.88,4.83,4.93,4.8,4.87,5.0,4.84,4.87,5.0,5.0,4.66,4.95,5.0,4.96,4.7,4.6,4.77,4.8,4.87,4.99,4.95,4.7,4.7,4.76,4.87,4.84,4.88,4.8,4.98,5.0,4.89,4.62,4.75,4.86,4.9,4.45,4.95,4.96,5.0,4.8,4.72,4.36,5.0,4.92,4.71,4.97,4.91,5.0,4.81,5.0,4.76,5.0,5.0,4.96,5.0,4.78,5.0,4.79,4.9,4.96,4.58,4.98,5.0,4.98,5.0,4.86,4.67,4.97,4.95,4.91,4.83,4.74,5.0,5.0,4.89,4.65,4.98,4.97,4.78,4.84,4.92,5.0,4.62,4.51,5.0,4.94,4.83,5.0,4.57,4.84,4.81,4.98,4.91,4.89,4.71,5.0,5.0,4.9,4.71,4.86,5.0,4.94,4.76,4.9,5.0,4.84,5.0,4.57,4.91,4.75,4.81,5.0,4.96,4.95,5.0,4.98,4.83,4.76,4.89,4.82,5.0,5.0,4.99,4.74,4.71,4.71,5.0,4.98,4.6,4.91,4.77,4.7,4.58,4.96,4.94,5.0,4.96,4.92,4.9,4.96,5.0,4.85,4.86,5.0,4.87,4.91,5.0,4.95,4.69,4.81,4.97,4.89,4.87,4.89,4.89,4.9,4.5,4.86,4.83,4.93,4.92,4.88,4.78,4.77,4.86,4.75,5.0,4.8,4.9,4.93,5.0,5.0,4.89,4.87,4.98,4.95,5.0,4.93,4.97,4.86,5.0,4.98,4.93,4.78,4.79,4.83,5.0,4.96,4.59,4.83,5.0,4.63,4.92,4.77,5.0,4.95,4.68,4.9,4.92,4.87,4.67,4.88,5.0,4.93,5.0,4.75,4.78,4.71,4.78,4.8,4.9,4.8,4.88,4.85,4.55,4.54,4.94,5.0,4.77,4.64,4.65,4.97,4.88,4.96,4.86,4.97,4.97,4.8,4.88,4.83,4.65,4.93,5.0,4.82,4.81,4.93,4.81,4.77,4.77,4.87,4.81,4.95,4.78,4.89,4.9,4.84,4.81,4.81,4.87,4.87,4.61,4.77,4.74,4.86,5.0,4.91,4.78,4.78,4.99,4.68,4.92,4.86,4.21,4.76,4.88,4.88,4.77,5.0,4.64,4.59,4.74,4.89,4.92,4.78,4.94,4.72,3.67,4.69,4.88,4.77,5.0,4.9,4.89,4.85,4.77,4.78,4.6,4.52,4.92,4.6,4.82,4.72,4.74,4.57,4.81,4.88,4.8,4.41,4.73,4.9,4.98,4.84,4.75,4.79,4.81,4.95,4.8,4.93,4.89,4.92,4.59,4.73,4.68,4.77,4.72,4.52,4.85,4.68,4.82,4.81,4.96,4.91,4.93,4.92,4.67,4.76,4.86,4.89,4.87,5.0,4.79,4.73,4.86,4.74,4.86,4.97,4.84,4.88,4.86,5.0,4.52,4.88,4.98,4.81,4.51,4.56,5.0,4.34,4.94,4.84,4.74,4.78,5.0,4.8,4.88,4.84,5.0,4.88,4.62,4.45,4.73,4.9,4.92,5.0,4.97,4.83,4.8,4.84,4.76,4.54,4.36,4.7,4.7,5.0,4.83,5.0,4.83,4.6,4.81,4.6,5.0,4.97,4.67,4.0,5.0,4.8,5.0,4.71,5.0,4.65,4.75,4.75,4.94,4.9,4.72,4.89,4.93,4.77,4.94,5.0,4.62,4.83,4.76,4.96,4.8,4.86,4.8,5.0,4.92,4.9,4.97,4.65,4.05,4.81,4.87,4.79,4.71,4.87,4.88,5.0,4.8,4.83,4.79,4.71,4.89,4.94,4.86,4.8,4.94,5.0,4.95,4.89,4.91,4.94,5.0,4.88,4.69,5.0,4.89,4.64,4.73,4.9,4.83,4.9,4.71,4.87,4.85,4.57,5.0,4.8,4.85,4.9,4.95,4.83,4.82,4.95,4.98,4.9,4.69,4.93,4.71,4.96,4.83,4.84,4.72,4.91,4.78,4.71,4.74,4.66,4.91,4.7,4.69,4.61,4.93,4.77,4.84,4.78,4.89,4.8,5.0,5.0,4.77,4.45,5.0,4.73,4.68,4.68,4.81,4.67,4.93,4.96,4.93,4.75,4.8,4.73,4.91,4.74,4.81,4.77,4.96,4.84,5.0,4.92,4.89,5.0,4.86,4.7,4.84,4.62,4.78,4.76,4.95,4.93,5.0,4.93,4.57,4.86,4.84,5.0,4.71,4.97,4.97,4.96,4.82,4.36,4.69,4.3,5.0,4.5,4.89,4.63,4.89,4.91,4.87,4.89,4.8,5.0,5.0,4.87,4.9,4.82,4.79,4.9,4.66,4.94,5.0,4.97,4.89,4.95,4.53,5.0,4.87,4.88,4.61,4.88,4.9,5.0,4.67,4.77,5.0,4.99,4.89,4.89,5.0,4.94,4.86,4.82,4.88,4.92,4.82,4.86,5.0,4.77,4.93,5.0],\"yaxis\":\"y\",\"type\":\"scatter\"}],                        {\"template\":{\"data\":{\"histogram2dcontour\":[{\"type\":\"histogram2dcontour\",\"colorbar\":{\"outlinewidth\":0,\"ticks\":\"\"},\"colorscale\":[[0.0,\"#0d0887\"],[0.1111111111111111,\"#46039f\"],[0.2222222222222222,\"#7201a8\"],[0.3333333333333333,\"#9c179e\"],[0.4444444444444444,\"#bd3786\"],[0.5555555555555556,\"#d8576b\"],[0.6666666666666666,\"#ed7953\"],[0.7777777777777778,\"#fb9f3a\"],[0.8888888888888888,\"#fdca26\"],[1.0,\"#f0f921\"]]}],\"choropleth\":[{\"type\":\"choropleth\",\"colorbar\":{\"outlinewidth\":0,\"ticks\":\"\"}}],\"histogram2d\":[{\"type\":\"histogram2d\",\"colorbar\":{\"outlinewidth\":0,\"ticks\":\"\"},\"colorscale\":[[0.0,\"#0d0887\"],[0.1111111111111111,\"#46039f\"],[0.2222222222222222,\"#7201a8\"],[0.3333333333333333,\"#9c179e\"],[0.4444444444444444,\"#bd3786\"],[0.5555555555555556,\"#d8576b\"],[0.6666666666666666,\"#ed7953\"],[0.7777777777777778,\"#fb9f3a\"],[0.8888888888888888,\"#fdca26\"],[1.0,\"#f0f921\"]]}],\"heatmap\":[{\"type\":\"heatmap\",\"colorbar\":{\"outlinewidth\":0,\"ticks\":\"\"},\"colorscale\":[[0.0,\"#0d0887\"],[0.1111111111111111,\"#46039f\"],[0.2222222222222222,\"#7201a8\"],[0.3333333333333333,\"#9c179e\"],[0.4444444444444444,\"#bd3786\"],[0.5555555555555556,\"#d8576b\"],[0.6666666666666666,\"#ed7953\"],[0.7777777777777778,\"#fb9f3a\"],[0.8888888888888888,\"#fdca26\"],[1.0,\"#f0f921\"]]}],\"heatmapgl\":[{\"type\":\"heatmapgl\",\"colorbar\":{\"outlinewidth\":0,\"ticks\":\"\"},\"colorscale\":[[0.0,\"#0d0887\"],[0.1111111111111111,\"#46039f\"],[0.2222222222222222,\"#7201a8\"],[0.3333333333333333,\"#9c179e\"],[0.4444444444444444,\"#bd3786\"],[0.5555555555555556,\"#d8576b\"],[0.6666666666666666,\"#ed7953\"],[0.7777777777777778,\"#fb9f3a\"],[0.8888888888888888,\"#fdca26\"],[1.0,\"#f0f921\"]]}],\"contourcarpet\":[{\"type\":\"contourcarpet\",\"colorbar\":{\"outlinewidth\":0,\"ticks\":\"\"}}],\"contour\":[{\"type\":\"contour\",\"colorbar\":{\"outlinewidth\":0,\"ticks\":\"\"},\"colorscale\":[[0.0,\"#0d0887\"],[0.1111111111111111,\"#46039f\"],[0.2222222222222222,\"#7201a8\"],[0.3333333333333333,\"#9c179e\"],[0.4444444444444444,\"#bd3786\"],[0.5555555555555556,\"#d8576b\"],[0.6666666666666666,\"#ed7953\"],[0.7777777777777778,\"#fb9f3a\"],[0.8888888888888888,\"#fdca26\"],[1.0,\"#f0f921\"]]}],\"surface\":[{\"type\":\"surface\",\"colorbar\":{\"outlinewidth\":0,\"ticks\":\"\"},\"colorscale\":[[0.0,\"#0d0887\"],[0.1111111111111111,\"#46039f\"],[0.2222222222222222,\"#7201a8\"],[0.3333333333333333,\"#9c179e\"],[0.4444444444444444,\"#bd3786\"],[0.5555555555555556,\"#d8576b\"],[0.6666666666666666,\"#ed7953\"],[0.7777777777777778,\"#fb9f3a\"],[0.8888888888888888,\"#fdca26\"],[1.0,\"#f0f921\"]]}],\"mesh3d\":[{\"type\":\"mesh3d\",\"colorbar\":{\"outlinewidth\":0,\"ticks\":\"\"}}],\"scatter\":[{\"fillpattern\":{\"fillmode\":\"overlay\",\"size\":10,\"solidity\":0.2},\"type\":\"scatter\"}],\"parcoords\":[{\"type\":\"parcoords\",\"line\":{\"colorbar\":{\"outlinewidth\":0,\"ticks\":\"\"}}}],\"scatterpolargl\":[{\"type\":\"scatterpolargl\",\"marker\":{\"colorbar\":{\"outlinewidth\":0,\"ticks\":\"\"}}}],\"bar\":[{\"error_x\":{\"color\":\"#2a3f5f\"},\"error_y\":{\"color\":\"#2a3f5f\"},\"marker\":{\"line\":{\"color\":\"#E5ECF6\",\"width\":0.5},\"pattern\":{\"fillmode\":\"overlay\",\"size\":10,\"solidity\":0.2}},\"type\":\"bar\"}],\"scattergeo\":[{\"type\":\"scattergeo\",\"marker\":{\"colorbar\":{\"outlinewidth\":0,\"ticks\":\"\"}}}],\"scatterpolar\":[{\"type\":\"scatterpolar\",\"marker\":{\"colorbar\":{\"outlinewidth\":0,\"ticks\":\"\"}}}],\"histogram\":[{\"marker\":{\"pattern\":{\"fillmode\":\"overlay\",\"size\":10,\"solidity\":0.2}},\"type\":\"histogram\"}],\"scattergl\":[{\"type\":\"scattergl\",\"marker\":{\"colorbar\":{\"outlinewidth\":0,\"ticks\":\"\"}}}],\"scatter3d\":[{\"type\":\"scatter3d\",\"line\":{\"colorbar\":{\"outlinewidth\":0,\"ticks\":\"\"}},\"marker\":{\"colorbar\":{\"outlinewidth\":0,\"ticks\":\"\"}}}],\"scattermapbox\":[{\"type\":\"scattermapbox\",\"marker\":{\"colorbar\":{\"outlinewidth\":0,\"ticks\":\"\"}}}],\"scatterternary\":[{\"type\":\"scatterternary\",\"marker\":{\"colorbar\":{\"outlinewidth\":0,\"ticks\":\"\"}}}],\"scattercarpet\":[{\"type\":\"scattercarpet\",\"marker\":{\"colorbar\":{\"outlinewidth\":0,\"ticks\":\"\"}}}],\"carpet\":[{\"aaxis\":{\"endlinecolor\":\"#2a3f5f\",\"gridcolor\":\"white\",\"linecolor\":\"white\",\"minorgridcolor\":\"white\",\"startlinecolor\":\"#2a3f5f\"},\"baxis\":{\"endlinecolor\":\"#2a3f5f\",\"gridcolor\":\"white\",\"linecolor\":\"white\",\"minorgridcolor\":\"white\",\"startlinecolor\":\"#2a3f5f\"},\"type\":\"carpet\"}],\"table\":[{\"cells\":{\"fill\":{\"color\":\"#EBF0F8\"},\"line\":{\"color\":\"white\"}},\"header\":{\"fill\":{\"color\":\"#C8D4E3\"},\"line\":{\"color\":\"white\"}},\"type\":\"table\"}],\"barpolar\":[{\"marker\":{\"line\":{\"color\":\"#E5ECF6\",\"width\":0.5},\"pattern\":{\"fillmode\":\"overlay\",\"size\":10,\"solidity\":0.2}},\"type\":\"barpolar\"}],\"pie\":[{\"automargin\":true,\"type\":\"pie\"}]},\"layout\":{\"autotypenumbers\":\"strict\",\"colorway\":[\"#636efa\",\"#EF553B\",\"#00cc96\",\"#ab63fa\",\"#FFA15A\",\"#19d3f3\",\"#FF6692\",\"#B6E880\",\"#FF97FF\",\"#FECB52\"],\"font\":{\"color\":\"#2a3f5f\"},\"hovermode\":\"closest\",\"hoverlabel\":{\"align\":\"left\"},\"paper_bgcolor\":\"white\",\"plot_bgcolor\":\"#E5ECF6\",\"polar\":{\"bgcolor\":\"#E5ECF6\",\"angularaxis\":{\"gridcolor\":\"white\",\"linecolor\":\"white\",\"ticks\":\"\"},\"radialaxis\":{\"gridcolor\":\"white\",\"linecolor\":\"white\",\"ticks\":\"\"}},\"ternary\":{\"bgcolor\":\"#E5ECF6\",\"aaxis\":{\"gridcolor\":\"white\",\"linecolor\":\"white\",\"ticks\":\"\"},\"baxis\":{\"gridcolor\":\"white\",\"linecolor\":\"white\",\"ticks\":\"\"},\"caxis\":{\"gridcolor\":\"white\",\"linecolor\":\"white\",\"ticks\":\"\"}},\"coloraxis\":{\"colorbar\":{\"outlinewidth\":0,\"ticks\":\"\"}},\"colorscale\":{\"sequential\":[[0.0,\"#0d0887\"],[0.1111111111111111,\"#46039f\"],[0.2222222222222222,\"#7201a8\"],[0.3333333333333333,\"#9c179e\"],[0.4444444444444444,\"#bd3786\"],[0.5555555555555556,\"#d8576b\"],[0.6666666666666666,\"#ed7953\"],[0.7777777777777778,\"#fb9f3a\"],[0.8888888888888888,\"#fdca26\"],[1.0,\"#f0f921\"]],\"sequentialminus\":[[0.0,\"#0d0887\"],[0.1111111111111111,\"#46039f\"],[0.2222222222222222,\"#7201a8\"],[0.3333333333333333,\"#9c179e\"],[0.4444444444444444,\"#bd3786\"],[0.5555555555555556,\"#d8576b\"],[0.6666666666666666,\"#ed7953\"],[0.7777777777777778,\"#fb9f3a\"],[0.8888888888888888,\"#fdca26\"],[1.0,\"#f0f921\"]],\"diverging\":[[0,\"#8e0152\"],[0.1,\"#c51b7d\"],[0.2,\"#de77ae\"],[0.3,\"#f1b6da\"],[0.4,\"#fde0ef\"],[0.5,\"#f7f7f7\"],[0.6,\"#e6f5d0\"],[0.7,\"#b8e186\"],[0.8,\"#7fbc41\"],[0.9,\"#4d9221\"],[1,\"#276419\"]]},\"xaxis\":{\"gridcolor\":\"white\",\"linecolor\":\"white\",\"ticks\":\"\",\"title\":{\"standoff\":15},\"zerolinecolor\":\"white\",\"automargin\":true,\"zerolinewidth\":2},\"yaxis\":{\"gridcolor\":\"white\",\"linecolor\":\"white\",\"ticks\":\"\",\"title\":{\"standoff\":15},\"zerolinecolor\":\"white\",\"automargin\":true,\"zerolinewidth\":2},\"scene\":{\"xaxis\":{\"backgroundcolor\":\"#E5ECF6\",\"gridcolor\":\"white\",\"linecolor\":\"white\",\"showbackground\":true,\"ticks\":\"\",\"zerolinecolor\":\"white\",\"gridwidth\":2},\"yaxis\":{\"backgroundcolor\":\"#E5ECF6\",\"gridcolor\":\"white\",\"linecolor\":\"white\",\"showbackground\":true,\"ticks\":\"\",\"zerolinecolor\":\"white\",\"gridwidth\":2},\"zaxis\":{\"backgroundcolor\":\"#E5ECF6\",\"gridcolor\":\"white\",\"linecolor\":\"white\",\"showbackground\":true,\"ticks\":\"\",\"zerolinecolor\":\"white\",\"gridwidth\":2}},\"shapedefaults\":{\"line\":{\"color\":\"#2a3f5f\"}},\"annotationdefaults\":{\"arrowcolor\":\"#2a3f5f\",\"arrowhead\":0,\"arrowwidth\":1},\"geo\":{\"bgcolor\":\"white\",\"landcolor\":\"#E5ECF6\",\"subunitcolor\":\"white\",\"showland\":true,\"showlakes\":true,\"lakecolor\":\"white\"},\"title\":{\"x\":0.05},\"mapbox\":{\"style\":\"light\"}}},\"xaxis\":{\"anchor\":\"y\",\"domain\":[0.0,1.0],\"title\":{\"text\":\"firstReviewRating\"}},\"yaxis\":{\"anchor\":\"x\",\"domain\":[0.0,1.0],\"title\":{\"text\":\"stars\"}},\"coloraxis\":{\"colorbar\":{\"title\":{\"text\":\"l0\"}},\"colorscale\":[[0.0,\"#0d0887\"],[0.1111111111111111,\"#46039f\"],[0.2222222222222222,\"#7201a8\"],[0.3333333333333333,\"#9c179e\"],[0.4444444444444444,\"#bd3786\"],[0.5555555555555556,\"#d8576b\"],[0.6666666666666666,\"#ed7953\"],[0.7777777777777778,\"#fb9f3a\"],[0.8888888888888888,\"#fdca26\"],[1.0,\"#f0f921\"]]},\"legend\":{\"tracegroupgap\":0},\"margin\":{\"t\":60}},                        {\"responsive\": true}                    ).then(function(){\n",
       "                            \n",
       "var gd = document.getElementById('60d07b79-044b-45b3-b741-2ac4717656c7');\n",
       "var x = new MutationObserver(function (mutations, observer) {{\n",
       "        var display = window.getComputedStyle(gd).display;\n",
       "        if (!display || display === 'none') {{\n",
       "            console.log([gd, 'removed!']);\n",
       "            Plotly.purge(gd);\n",
       "            observer.disconnect();\n",
       "        }}\n",
       "}});\n",
       "\n",
       "// Listen for the removal of the full notebook cells\n",
       "var notebookContainer = gd.closest('#notebook-container');\n",
       "if (notebookContainer) {{\n",
       "    x.observe(notebookContainer, {childList: true});\n",
       "}}\n",
       "\n",
       "// Listen for the clearing of the current output cell\n",
       "var outputEl = gd.closest('.output');\n",
       "if (outputEl) {{\n",
       "    x.observe(outputEl, {childList: true});\n",
       "}}\n",
       "\n",
       "                        })                };                });            </script>        </div>"
      ]
     },
     "metadata": {},
     "output_type": "display_data"
    }
   ],
   "source": [
    "express.scatter(data_frame=dropna_df, x='firstReviewRating', y='stars', color='l0')"
   ]
  },
  {
   "cell_type": "markdown",
   "id": "33b595a8",
   "metadata": {
    "papermill": {
     "duration": 0.009781,
     "end_time": "2024-03-02T00:39:45.414063",
     "exception": false,
     "start_time": "2024-03-02T00:39:45.404282",
     "status": "completed"
    },
    "tags": []
   },
   "source": [
    "Obviously l0 is our negative sentiment; almost nobody gives a five-star review with negative comments."
   ]
  },
  {
   "cell_type": "code",
   "execution_count": 14,
   "id": "3ebfeb47",
   "metadata": {
    "execution": {
     "iopub.execute_input": "2024-03-02T00:39:45.435934Z",
     "iopub.status.busy": "2024-03-02T00:39:45.434897Z",
     "iopub.status.idle": "2024-03-02T00:39:45.495066Z",
     "shell.execute_reply": "2024-03-02T00:39:45.494019Z"
    },
    "papermill": {
     "duration": 0.07321,
     "end_time": "2024-03-02T00:39:45.497074",
     "exception": false,
     "start_time": "2024-03-02T00:39:45.423864",
     "status": "completed"
    },
    "tags": []
   },
   "outputs": [
    {
     "data": {
      "text/html": [
       "<div>                            <div id=\"2aa88c23-6bdf-40d7-9e5a-db316fade4eb\" class=\"plotly-graph-div\" style=\"height:525px; width:100%;\"></div>            <script type=\"text/javascript\">                require([\"plotly\"], function(Plotly) {                    window.PLOTLYENV=window.PLOTLYENV || {};                                    if (document.getElementById(\"2aa88c23-6bdf-40d7-9e5a-db316fade4eb\")) {                    Plotly.newPlot(                        \"2aa88c23-6bdf-40d7-9e5a-db316fade4eb\",                        [{\"hovertemplate\":\"firstReviewRating=%{x}\\u003cbr\\u003estars=%{y}\\u003cbr\\u003el2=%{marker.color}\\u003cextra\\u003e\\u003c\\u002fextra\\u003e\",\"legendgroup\":\"\",\"marker\":{\"color\":[0.0,0.8912457227706909,0.9591630697250366,0.9890678524971008,0.989983320236206,0.9886645078659058,0.0,0.0,0.0,0.9512087106704712,0.0,0.9911017417907715,0.9879308938980103,0.0,0.9921936988830566,0.6673559546470642,0.9888955354690552,0.9738126397132874,0.9922212958335876,0.9854702949523926,0.9821920990943909,0.9815375804901123,0.9837402701377869,0.9907830953598022,0.9856159687042236,0.9891216158866882,0.9915246367454529,0.9882680773735046,0.9548011422157288,0.988578200340271,0.9684700965881348,0.9576737284660339,0.9904905557632446,0.9829371571540833,0.9879788160324097,0.9881525635719299,0.9713270664215088,0.9862581491470337,0.954255998134613,0.8402079343795776,0.958245575428009,0.8872198462486267,0.9815053343772888,0.40125203132629395,0.7239015698432922,0.9848827719688416,0.9364795088768005,0.9246786832809448,0.9877041578292847,0.960844099521637,0.8977954983711243,0.9886456727981567,0.9803013205528259,0.9805765748023987,0.9731503129005432,0.989228367805481,0.9921093583106995,0.94697505235672,0.9890204071998596,0.9882119297981262,0.9923537969589233,0.9843591451644897,0.9882984161376953,0.9771658182144165,0.9671018719673157,0.97316575050354,0.0,0.0,0.9869176745414734,0.9899501800537109,0.988744854927063,0.8657468557357788,0.9893256425857544,0.9766853451728821,0.8294163942337036,0.9775663018226624,0.987059473991394,0.9765335917472839,0.9700284600257874,0.9858054518699646,0.9905101656913757,0.9740971326828003,0.9830495715141296,0.9819332957267761,0.9854291081428528,0.9881496429443359,0.8901501893997192,0.9923104047775269,0.9761636853218079,0.9628905653953552,0.9648606181144714,0.9861103296279907,0.9413022398948669,0.9831793308258057,0.9926910996437073,0.9422147870063782,0.4913201630115509,0.9510154724121094,0.9915720224380493,0.952361524105072,0.9871014356613159,0.9544458389282227,0.992388129234314,0.9908748865127563,0.9806870818138123,0.7206680774688721,0.9909829497337341,0.9929377436637878,0.9908966422080994,0.9907968044281006,0.9899249076843262,0.9442246556282043,0.99058598279953,0.9633969068527222,0.9908933639526367,0.9915589094161987,0.9780905246734619,0.9902017712593079,0.9861002564430237,0.9929552674293518,0.9704493880271912,0.9635797142982483,0.9892246127128601,0.9844153523445129,0.9892547130584717,0.9674047827720642,0.9788524508476257,0.9910949468612671,0.992024302482605,0.9893797039985657,0.981882631778717,0.9831178188323975,0.9815229177474976,0.9851109385490417,0.9767853021621704,0.9926577210426331,0.9434279799461365,0.9913323521614075,0.992615818977356,0.984924852848053,0.9858044385910034,0.0,0.9885756373405457,0.9886871576309204,0.9710409045219421,0.8529907464981079,0.3918609321117401,0.9582096338272095,0.9892435073852539,0.9904167652130127,0.9889105558395386,0.9899287819862366,0.9883328080177307,0.9889862537384033,0.9889339208602905,0.9814726114273071,0.987840473651886,0.943671464920044,0.9818576574325562,0.9442083835601807,0.9105830788612366,0.9713320136070251,0.9920775294303894,0.9868744015693665,0.9892638325691223,0.9845681190490723,0.9856063723564148,0.9917431473731995,0.9430066347122192,0.9931355714797974,0.0,0.9899734258651733,0.9919995665550232,0.9265464544296265,0.9902018904685974,0.9885265827178955,0.9867385625839233,0.9798014163970947,0.0,0.9819632768630981,0.9881687760353088,0.988710343837738,0.9795560836791992,0.9282540678977966,0.9867782592773438,0.9900243282318115,0.8972564935684204,0.4448435604572296,0.9768092036247253,0.9797939658164978,0.9868832230567932,0.9852242469787598,0.7427453994750977,0.9739753603935242,0.9030952453613281,0.9662631750106812,0.9661692380905151,0.976259708404541,0.9900006055831909,0.9865282773971558,0.9916079044342041,0.9890535473823547,0.9910504817962646,0.9800713658332825,0.9439812302589417,0.989188551902771,0.9907307028770447,0.0,0.9872288703918457,0.991789698600769,0.9857805371284485,0.9742662906646729,0.8720186948776245,0.9287201166152954,0.9886668920516968,0.9858428835868835,0.9752079248428345,0.8740304708480835,0.9830233454704285,0.9894982576370239,0.9844523668289185,0.9880159497261047,0.989318311214447,0.9702678918838501,0.9922066330909729,0.7025556564331055,0.9906214475631714,0.9733418822288513,0.8848022222518921,0.9871915578842163,0.9541972875595093,0.98101806640625,0.9603084921836853,0.988473117351532,0.9910650849342346,0.989355206489563,0.989355742931366,0.9924042820930481,0.9879390001296997,0.9712871313095093,0.9913452863693237,0.9878986477851868,0.9912882447242737,0.9251266121864319,0.9820122718811035,0.9539198279380798,0.9921191930770874,0.9718831181526184,0.0,0.9894376993179321,0.9928937554359436,0.9677619338035583,0.9600123167037964,0.9865004420280457,0.0,0.8895989656448364,0.9808889031410217,0.9750708937644958,0.9775240421295166,0.9911175966262817,0.9925151467323303,0.9574534893035889,0.9871866703033447,0.9871879816055298,0.9909775257110596,0.9916675686836243,0.9896606206893921,0.9844965934753418,0.9901357293128967,0.9938433170318604,0.9882072806358337,0.9835793375968933,0.9806262254714966,0.9870370626449585,0.9727522730827332,0.8058367967605591,0.9883989095687866,0.9912800192832947,0.986695408821106,0.9919746518135071,0.9916973114013672,0.9906100630760193,0.0,0.0,0.6475500464439392,0.9890249371528625,0.9854581356048584,0.9878724813461304,0.9925077557563782,0.9906084537506104,0.9828375577926636,0.984606921672821,0.991986870765686,0.9849395751953125,0.9649422764778137,0.9911052584648132,0.9648585915565491,0.9779410362243652,0.9876812696456909,0.9712169766426086,0.9733648300170898,0.9315653443336487,0.9828842878341675,0.9491577744483948,0.5872384309768677,0.9786846041679382,0.9208636283874512,0.9928827285766602,0.9891124367713928,0.9910203814506531,0.9786394834518433,0.9834457039833069,0.7598051428794861,0.9868742823600769,0.9915106892585754,0.8419869542121887,0.9866670966148376,0.9826201796531677,0.8086714744567871,0.7775696516036987,0.9829544425010681,0.9626568555831909,0.990341067314148,0.9879719614982605,0.9917473793029785,0.9909828305244446,0.9838643074035645,0.9929384589195251,0.9882469773292542,0.0,0.9598219990730286,0.9751948714256287,0.9157952070236206,0.9862017035484314,0.9894590377807617,0.9719793796539307,0.9640353918075562,0.9713945984840393,0.9463977813720703,0.9880383014678955,0.9143333435058594,0.9441255927085876,0.9859241843223572,0.9250361323356628,0.9849432706832886,0.9810137152671814,0.7539433240890503,0.9902833700180054,0.9889604449272156,0.9855866432189941,0.987636387348175,0.992557168006897,0.9900252819061279,0.9828938841819763,0.9656309485435486,0.987269401550293,0.9815068244934082,0.8862956762313843,0.0,0.9709495306015015,0.0,0.9887359738349915,0.9682433605194092,0.9935425519943237,0.9755899310112,0.937716543674469,0.991215705871582,0.9324692487716675,0.9769087433815002,0.8229788541793823,0.9878465533256531,0.9812772870063782,0.988890528678894,0.5732433199882507,0.9736843109130859,0.9865295886993408,0.9861606359481812,0.9819110035896301,0.9880719184875488,0.974410355091095,0.8311545848846436,0.7023448944091797,0.9454331398010254,0.9526832103729248,0.6589869260787964,0.9766804575920105,0.9909127950668335,0.9481422305107117,0.9808321595191956,0.9837696552276611,0.9757208824157715,0.9437443017959595,0.9860395193099976,0.8217527270317078,0.0,0.9914217591285706,0.8749478459358215,0.3741527497768402,0.9875516295433044,0.9788928031921387,0.9877817630767822,0.9895018935203552,0.9842573404312134,0.9234431982040405,0.9775713086128235,0.9898909330368042,0.6763445734977722,0.9893208742141724,0.0,0.87265944480896,0.9808791279792786,0.9515491724014282,0.0,0.9863405227661133,0.0,0.9741912484169006,0.9925923347473145,0.9914880990982056,0.9879752993583679,0.9853949546813965,0.9091852903366089,0.9889666438102722,0.9544885158538818,0.9824994802474976,0.9887182712554932,0.7086410522460938,0.9908143877983093,0.9905965328216553,0.0,0.9661692380905151,0.9388651251792908,0.9885557293891907,0.9882366061210632,0.9758399128913879,0.9872242212295532,0.9833658337593079,0.992317795753479,0.9324682950973511,0.9604987502098083,0.7589337229728699,0.9853901863098145,0.0,0.979714572429657,0.8271920084953308,0.9280468225479126,0.9382835626602173,0.9904254078865051,0.9740396738052368,0.9921118021011353,0.9598954319953918,0.9885000586509705,0.9682576656341553,0.9790636897087097,0.9923934936523438,0.9919400811195374,0.9920935034751892,0.9666571021080017,0.0,0.9665945172309875,0.9875301122665405,0.9918402433395386,0.9872777462005615,0.989629328250885,0.9656403064727783,0.9763818383216858,0.0,0.9824604392051697,0.9920856356620789,0.8316513895988464,0.9543894529342651,0.9771298766136169,0.0,0.9187460541725159,0.9898921251296997,0.9870172142982483,0.9875871539115906,0.8788639903068542,0.9918487071990967,0.9876512289047241,0.9698038101196289,0.9897410869598389,0.9836747646331787,0.9909713268280029,0.9789960384368896,0.9802113771438599,0.9909453392028809,0.9836687445640564,0.9631035923957825,0.9574534893035889,0.9892407059669495,0.0,0.9902205467224121,0.9880565404891968,0.9811971783638,0.9796634316444397,0.9855170845985413,0.9912859797477722,0.9883326888084412,0.9708407521247864,0.9910836219787598,0.9832220673561096,0.9854433536529541,0.9344339370727539,0.9902812242507935,0.8718516826629639,0.0,0.9701133370399475,0.8661354184150696,0.980465829372406,0.9850279092788696,0.988900899887085,0.9802004098892212,0.9759882092475891,0.9898910522460938,0.9836539626121521,0.9903458952903748,0.9668998122215271,0.7051933407783508,0.6699023246765137,0.7400116324424744,0.9916924238204956,0.983016312122345,0.9827004075050354,0.9917105436325073,0.9814023375511169,0.9877491593360901,0.9273016452789307,0.9340770840644836,0.0,0.0,0.0,0.9930012226104736,0.9860239028930664,0.9908472299575806,0.973089337348938,0.9901793003082275,0.9788479208946228,0.9725469946861267,0.9714875221252441,0.9921526312828064,0.9697651267051697,0.9132530093193054,0.9892275333404541,0.7816020846366882,0.5297471284866333,0.7394585609436035,0.9388234615325928,0.9689022302627563,0.9922389984130859,0.6093871593475342,0.9914137125015259,0.9909301400184631,0.9616345167160034,0.9744769930839539,0.9923743605613708,0.9917460083961487,0.9879605174064636,0.9788848757743835,0.9544032216072083,0.9892850518226624,0.0,0.4086590111255646,0.9870571494102478,0.9907853603363037,0.9800695180892944,0.9926942586898804,0.9826858043670654,0.9936671853065491,0.9764379858970642,0.9429396390914917,0.982359766960144,0.9896340370178223,0.9504071474075317,0.9811968207359314,0.9381245970726013,0.989541232585907,0.9921650886535645,0.9768919348716736,0.9129748344421387,0.0,0.7021857500076294,0.9738714098930359,0.9664160013198853,0.8340327739715576,0.9917152523994446,0.9794132709503174,0.9802758693695068,0.9849659204483032,0.9892534613609314,0.0,0.9543154239654541,0.982045590877533,0.6788915395736694,0.8273362517356873,0.9135806560516357,0.9740322232246399,0.9931777715682983,0.891884982585907,0.984582781791687,0.7346708178520203,0.9414618015289307,0.9709287881851196,0.9620725512504578,0.9865716695785522,0.9916753768920898,0.9542251825332642,0.9747881889343262,0.9910914301872253,0.9899980425834656,0.9830175638198853,0.9424735307693481,0.0,0.9906788468360901,0.43683508038520813,0.992003321647644,0.970898449420929,0.9859873652458191,0.98618084192276,0.990218460559845,0.9472389817237854,0.0,0.9762188792228699,0.0,0.9921324849128723,0.9175498485565186,0.927664041519165,0.9720261693000793,0.9917711615562439,0.9916127920150757,0.9497113823890686,0.9929613471031189,0.9714692831039429,0.9880218505859375,0.986478328704834,0.9625065326690674,0.9013879895210266,0.978448748588562,0.9865236878395081,0.981977641582489,0.9748024344444275,0.9466734528541565,0.9860775470733643,0.9848019480705261,0.9737163186073303,0.9910370111465454,0.9878445267677307,0.9022910594940186,0.990571916103363,0.9928503036499023,0.9832478165626526,0.48251643776893616,0.9914371371269226,0.9932128190994263,0.9907214641571045,0.9820262789726257,0.991560161113739,0.9789172410964966,0.9849618673324585,0.8554389476776123,0.9867010712623596,0.992367684841156,0.9810203909873962,0.988051176071167,0.9805321097373962,0.8310353755950928,0.819248378276825,0.9891155362129211,0.8907161355018616,0.9836292862892151,0.9755725860595703,0.9879646301269531,0.8519702553749084,0.9805164933204651,0.9897756576538086,0.9926393032073975,0.9924471378326416,0.9782145023345947,0.9885156154632568,0.0,0.9604666233062744,0.9722651839256287,0.9824344515800476,0.9821276664733887,0.6110566258430481,0.9364750385284424,0.9875859022140503,0.9788597822189331,0.9900158047676086,0.9554973244667053,0.9610863924026489,0.9437441825866699,0.9728269577026367,0.9775763154029846,0.9913774728775024,0.9824407696723938,0.9918255805969238,0.9735108017921448,0.9867361187934875,0.9783785343170166,0.9920167922973633,0.9866729974746704,0.9920306205749512,0.9464499354362488,0.983079195022583,0.8833494782447815,0.6356784701347351,0.9774014949798584,0.8838286995887756,0.9746763110160828,0.9714590311050415,0.9567971229553223,0.9749003648757935,0.9431124329566956,0.7576863169670105,0.9899700284004211,0.9636268615722656,0.9754945039749146,0.8242497444152832,0.9143915772438049,0.9070701003074646,0.9414604306221008,0.9874213933944702,0.9879756569862366],\"coloraxis\":\"coloraxis\",\"symbol\":\"circle\"},\"mode\":\"markers\",\"name\":\"\",\"orientation\":\"v\",\"showlegend\":false,\"x\":[4.0,5.0,5.0,5.0,5.0,5.0,3.0,1.0,1.0,5.0,1.0,5.0,5.0,2.0,5.0,3.0,5.0,5.0,5.0,5.0,5.0,5.0,5.0,5.0,5.0,5.0,5.0,5.0,5.0,5.0,5.0,5.0,5.0,5.0,5.0,5.0,5.0,5.0,5.0,5.0,5.0,5.0,5.0,1.0,5.0,5.0,5.0,5.0,5.0,5.0,5.0,5.0,5.0,5.0,5.0,5.0,5.0,5.0,5.0,5.0,5.0,5.0,5.0,5.0,5.0,5.0,4.0,1.0,5.0,5.0,5.0,5.0,5.0,5.0,4.0,5.0,5.0,5.0,5.0,5.0,5.0,5.0,5.0,5.0,5.0,5.0,5.0,5.0,5.0,5.0,5.0,5.0,5.0,5.0,5.0,5.0,5.0,5.0,5.0,5.0,5.0,5.0,5.0,5.0,5.0,5.0,5.0,5.0,5.0,5.0,5.0,5.0,5.0,5.0,5.0,5.0,5.0,5.0,5.0,5.0,5.0,5.0,5.0,5.0,5.0,5.0,5.0,5.0,5.0,5.0,5.0,5.0,5.0,5.0,5.0,5.0,5.0,5.0,5.0,5.0,5.0,4.0,5.0,5.0,5.0,3.0,4.0,5.0,5.0,4.0,5.0,5.0,5.0,5.0,5.0,5.0,5.0,5.0,5.0,5.0,5.0,5.0,5.0,5.0,5.0,5.0,5.0,5.0,5.0,5.0,1.0,5.0,5.0,5.0,5.0,5.0,5.0,5.0,4.0,5.0,5.0,5.0,5.0,5.0,5.0,5.0,5.0,4.0,5.0,5.0,5.0,5.0,4.0,5.0,5.0,5.0,5.0,5.0,5.0,5.0,5.0,5.0,5.0,5.0,5.0,5.0,5.0,3.0,5.0,5.0,5.0,5.0,5.0,4.0,5.0,5.0,5.0,5.0,5.0,5.0,5.0,5.0,5.0,5.0,5.0,4.0,5.0,5.0,5.0,5.0,5.0,5.0,5.0,5.0,5.0,5.0,5.0,4.0,5.0,5.0,5.0,5.0,5.0,5.0,5.0,5.0,5.0,5.0,5.0,5.0,5.0,5.0,4.0,5.0,3.0,5.0,5.0,5.0,5.0,5.0,5.0,5.0,5.0,5.0,5.0,5.0,5.0,5.0,5.0,5.0,5.0,5.0,5.0,5.0,5.0,5.0,5.0,5.0,5.0,5.0,5.0,5.0,5.0,5.0,4.0,5.0,5.0,5.0,5.0,5.0,5.0,5.0,5.0,5.0,5.0,5.0,5.0,5.0,5.0,5.0,5.0,5.0,5.0,5.0,5.0,5.0,4.0,5.0,5.0,5.0,4.0,5.0,5.0,5.0,5.0,5.0,5.0,5.0,5.0,5.0,5.0,5.0,5.0,5.0,5.0,5.0,5.0,5.0,5.0,4.0,5.0,5.0,5.0,5.0,5.0,5.0,5.0,5.0,4.0,5.0,5.0,5.0,5.0,5.0,5.0,5.0,5.0,5.0,5.0,5.0,5.0,5.0,5.0,5.0,5.0,5.0,5.0,5.0,5.0,5.0,3.0,4.0,4.0,5.0,5.0,5.0,5.0,5.0,5.0,5.0,5.0,5.0,5.0,5.0,5.0,5.0,5.0,5.0,5.0,5.0,5.0,5.0,5.0,5.0,5.0,5.0,5.0,4.0,5.0,5.0,5.0,5.0,5.0,4.0,3.0,5.0,4.0,1.0,5.0,5.0,5.0,5.0,5.0,5.0,5.0,5.0,3.0,5.0,4.0,5.0,5.0,5.0,3.0,4.0,5.0,5.0,5.0,5.0,5.0,5.0,5.0,5.0,5.0,5.0,5.0,5.0,5.0,5.0,5.0,5.0,5.0,5.0,5.0,3.0,5.0,5.0,5.0,5.0,5.0,5.0,4.0,2.0,5.0,5.0,5.0,5.0,5.0,5.0,5.0,5.0,5.0,5.0,5.0,5.0,5.0,5.0,5.0,3.0,5.0,5.0,5.0,5.0,5.0,5.0,5.0,5.0,5.0,5.0,4.0,5.0,5.0,2.0,4.0,5.0,5.0,5.0,5.0,5.0,5.0,5.0,4.0,4.0,5.0,5.0,5.0,5.0,5.0,5.0,5.0,5.0,4.0,5.0,5.0,5.0,4.0,5.0,5.0,5.0,5.0,5.0,5.0,5.0,5.0,5.0,5.0,2.0,5.0,5.0,5.0,5.0,5.0,5.0,5.0,5.0,4.0,5.0,5.0,5.0,5.0,4.0,5.0,5.0,5.0,5.0,5.0,5.0,5.0,5.0,5.0,4.0,1.0,5.0,5.0,5.0,5.0,5.0,5.0,5.0,5.0,5.0,5.0,4.0,4.0,5.0,4.0,4.0,5.0,5.0,4.0,3.0,5.0,5.0,5.0,5.0,5.0,5.0,5.0,4.0,5.0,5.0,4.0,4.0,5.0,5.0,5.0,5.0,5.0,5.0,5.0,5.0,5.0,5.0,5.0,5.0,5.0,5.0,5.0,5.0,5.0,5.0,5.0,5.0,5.0,4.0,5.0,5.0,5.0,4.0,5.0,5.0,5.0,5.0,4.0,5.0,4.0,5.0,5.0,5.0,5.0,5.0,4.0,5.0,5.0,5.0,5.0,4.0,5.0,5.0,5.0,5.0,5.0,1.0,5.0,4.0,5.0,5.0,5.0,5.0,5.0,5.0,5.0,5.0,4.0,5.0,4.0,5.0,5.0,5.0,5.0,5.0,5.0,5.0,5.0,5.0,5.0,4.0,5.0,5.0,5.0,5.0,5.0,5.0,5.0,5.0,5.0,5.0,5.0,5.0,5.0,5.0,5.0,5.0,5.0,5.0,5.0,5.0,5.0,5.0,4.0,5.0,5.0,5.0,5.0,5.0,4.0,5.0,5.0,5.0,5.0,5.0,5.0,4.0,5.0,5.0,5.0,5.0,5.0,5.0,5.0,5.0,5.0,5.0,4.0,4.0,5.0,5.0,5.0,5.0,5.0,5.0,4.0,5.0,5.0,5.0,5.0,5.0,5.0,5.0,5.0,5.0,5.0,5.0,5.0,5.0,5.0,2.0,5.0,5.0,5.0,5.0,5.0,5.0,5.0,4.0,5.0,5.0,5.0,4.0,5.0,5.0,5.0,5.0,5.0],\"xaxis\":\"x\",\"y\":[4.54,4.39,4.51,4.96,5.0,4.13,4.56,4.18,3.67,4.88,3.8,5.0,4.67,4.84,5.0,4.4,4.86,4.95,5.0,5.0,5.0,5.0,5.0,5.0,4.4,4.7,5.0,5.0,4.5,4.67,4.92,5.0,4.71,4.84,4.9,5.0,4.94,4.92,5.0,4.95,5.0,4.98,4.98,4.64,4.89,4.6,4.86,5.0,4.71,5.0,4.84,4.88,4.63,4.59,4.93,4.45,4.9,4.9,4.88,5.0,5.0,4.86,4.89,4.75,4.85,4.83,4.86,4.88,5.0,4.89,5.0,4.95,4.81,4.85,4.72,4.81,4.82,4.62,4.51,4.81,4.85,4.79,5.0,4.98,4.98,5.0,4.95,4.93,5.0,5.0,5.0,4.91,5.0,4.84,4.81,4.87,4.92,4.97,4.98,4.59,4.97,4.92,4.92,4.95,4.88,4.87,4.84,4.96,4.97,4.91,4.97,4.89,4.93,5.0,4.89,5.0,5.0,4.9,4.84,5.0,4.94,4.96,4.8,4.76,5.0,5.0,4.97,4.91,4.99,4.78,5.0,4.91,4.4,4.99,4.8,4.85,4.87,4.84,4.98,4.94,4.94,4.58,5.0,4.78,5.0,4.5,4.91,4.88,4.83,4.93,4.8,4.87,5.0,4.84,4.87,5.0,5.0,4.66,4.95,5.0,4.96,4.7,4.6,4.77,4.8,4.87,4.99,4.95,4.7,4.7,4.76,4.87,4.84,4.88,4.8,4.98,5.0,4.89,4.62,4.75,4.86,4.9,4.45,4.95,4.96,5.0,4.8,4.72,4.36,5.0,4.92,4.71,4.97,4.91,5.0,4.81,5.0,4.76,5.0,5.0,4.96,5.0,4.78,5.0,4.79,4.9,4.96,4.58,4.98,5.0,4.98,5.0,4.86,4.67,4.97,4.95,4.91,4.83,4.74,5.0,5.0,4.89,4.65,4.98,4.97,4.78,4.84,4.92,5.0,4.62,4.51,5.0,4.94,4.83,5.0,4.57,4.84,4.81,4.98,4.91,4.89,4.71,5.0,5.0,4.9,4.71,4.86,5.0,4.94,4.76,4.9,5.0,4.84,5.0,4.57,4.91,4.75,4.81,5.0,4.96,4.95,5.0,4.98,4.83,4.76,4.89,4.82,5.0,5.0,4.99,4.74,4.71,4.71,5.0,4.98,4.6,4.91,4.77,4.7,4.58,4.96,4.94,5.0,4.96,4.92,4.9,4.96,5.0,4.85,4.86,5.0,4.87,4.91,5.0,4.95,4.69,4.81,4.97,4.89,4.87,4.89,4.89,4.9,4.5,4.86,4.83,4.93,4.92,4.88,4.78,4.77,4.86,4.75,5.0,4.8,4.9,4.93,5.0,5.0,4.89,4.87,4.98,4.95,5.0,4.93,4.97,4.86,5.0,4.98,4.93,4.78,4.79,4.83,5.0,4.96,4.59,4.83,5.0,4.63,4.92,4.77,5.0,4.95,4.68,4.9,4.92,4.87,4.67,4.88,5.0,4.93,5.0,4.75,4.78,4.71,4.78,4.8,4.9,4.8,4.88,4.85,4.55,4.54,4.94,5.0,4.77,4.64,4.65,4.97,4.88,4.96,4.86,4.97,4.97,4.8,4.88,4.83,4.65,4.93,5.0,4.82,4.81,4.93,4.81,4.77,4.77,4.87,4.81,4.95,4.78,4.89,4.9,4.84,4.81,4.81,4.87,4.87,4.61,4.77,4.74,4.86,5.0,4.91,4.78,4.78,4.99,4.68,4.92,4.86,4.21,4.76,4.88,4.88,4.77,5.0,4.64,4.59,4.74,4.89,4.92,4.78,4.94,4.72,3.67,4.69,4.88,4.77,5.0,4.9,4.89,4.85,4.77,4.78,4.6,4.52,4.92,4.6,4.82,4.72,4.74,4.57,4.81,4.88,4.8,4.41,4.73,4.9,4.98,4.84,4.75,4.79,4.81,4.95,4.8,4.93,4.89,4.92,4.59,4.73,4.68,4.77,4.72,4.52,4.85,4.68,4.82,4.81,4.96,4.91,4.93,4.92,4.67,4.76,4.86,4.89,4.87,5.0,4.79,4.73,4.86,4.74,4.86,4.97,4.84,4.88,4.86,5.0,4.52,4.88,4.98,4.81,4.51,4.56,5.0,4.34,4.94,4.84,4.74,4.78,5.0,4.8,4.88,4.84,5.0,4.88,4.62,4.45,4.73,4.9,4.92,5.0,4.97,4.83,4.8,4.84,4.76,4.54,4.36,4.7,4.7,5.0,4.83,5.0,4.83,4.6,4.81,4.6,5.0,4.97,4.67,4.0,5.0,4.8,5.0,4.71,5.0,4.65,4.75,4.75,4.94,4.9,4.72,4.89,4.93,4.77,4.94,5.0,4.62,4.83,4.76,4.96,4.8,4.86,4.8,5.0,4.92,4.9,4.97,4.65,4.05,4.81,4.87,4.79,4.71,4.87,4.88,5.0,4.8,4.83,4.79,4.71,4.89,4.94,4.86,4.8,4.94,5.0,4.95,4.89,4.91,4.94,5.0,4.88,4.69,5.0,4.89,4.64,4.73,4.9,4.83,4.9,4.71,4.87,4.85,4.57,5.0,4.8,4.85,4.9,4.95,4.83,4.82,4.95,4.98,4.9,4.69,4.93,4.71,4.96,4.83,4.84,4.72,4.91,4.78,4.71,4.74,4.66,4.91,4.7,4.69,4.61,4.93,4.77,4.84,4.78,4.89,4.8,5.0,5.0,4.77,4.45,5.0,4.73,4.68,4.68,4.81,4.67,4.93,4.96,4.93,4.75,4.8,4.73,4.91,4.74,4.81,4.77,4.96,4.84,5.0,4.92,4.89,5.0,4.86,4.7,4.84,4.62,4.78,4.76,4.95,4.93,5.0,4.93,4.57,4.86,4.84,5.0,4.71,4.97,4.97,4.96,4.82,4.36,4.69,4.3,5.0,4.5,4.89,4.63,4.89,4.91,4.87,4.89,4.8,5.0,5.0,4.87,4.9,4.82,4.79,4.9,4.66,4.94,5.0,4.97,4.89,4.95,4.53,5.0,4.87,4.88,4.61,4.88,4.9,5.0,4.67,4.77,5.0,4.99,4.89,4.89,5.0,4.94,4.86,4.82,4.88,4.92,4.82,4.86,5.0,4.77,4.93,5.0],\"yaxis\":\"y\",\"type\":\"scatter\"}],                        {\"template\":{\"data\":{\"histogram2dcontour\":[{\"type\":\"histogram2dcontour\",\"colorbar\":{\"outlinewidth\":0,\"ticks\":\"\"},\"colorscale\":[[0.0,\"#0d0887\"],[0.1111111111111111,\"#46039f\"],[0.2222222222222222,\"#7201a8\"],[0.3333333333333333,\"#9c179e\"],[0.4444444444444444,\"#bd3786\"],[0.5555555555555556,\"#d8576b\"],[0.6666666666666666,\"#ed7953\"],[0.7777777777777778,\"#fb9f3a\"],[0.8888888888888888,\"#fdca26\"],[1.0,\"#f0f921\"]]}],\"choropleth\":[{\"type\":\"choropleth\",\"colorbar\":{\"outlinewidth\":0,\"ticks\":\"\"}}],\"histogram2d\":[{\"type\":\"histogram2d\",\"colorbar\":{\"outlinewidth\":0,\"ticks\":\"\"},\"colorscale\":[[0.0,\"#0d0887\"],[0.1111111111111111,\"#46039f\"],[0.2222222222222222,\"#7201a8\"],[0.3333333333333333,\"#9c179e\"],[0.4444444444444444,\"#bd3786\"],[0.5555555555555556,\"#d8576b\"],[0.6666666666666666,\"#ed7953\"],[0.7777777777777778,\"#fb9f3a\"],[0.8888888888888888,\"#fdca26\"],[1.0,\"#f0f921\"]]}],\"heatmap\":[{\"type\":\"heatmap\",\"colorbar\":{\"outlinewidth\":0,\"ticks\":\"\"},\"colorscale\":[[0.0,\"#0d0887\"],[0.1111111111111111,\"#46039f\"],[0.2222222222222222,\"#7201a8\"],[0.3333333333333333,\"#9c179e\"],[0.4444444444444444,\"#bd3786\"],[0.5555555555555556,\"#d8576b\"],[0.6666666666666666,\"#ed7953\"],[0.7777777777777778,\"#fb9f3a\"],[0.8888888888888888,\"#fdca26\"],[1.0,\"#f0f921\"]]}],\"heatmapgl\":[{\"type\":\"heatmapgl\",\"colorbar\":{\"outlinewidth\":0,\"ticks\":\"\"},\"colorscale\":[[0.0,\"#0d0887\"],[0.1111111111111111,\"#46039f\"],[0.2222222222222222,\"#7201a8\"],[0.3333333333333333,\"#9c179e\"],[0.4444444444444444,\"#bd3786\"],[0.5555555555555556,\"#d8576b\"],[0.6666666666666666,\"#ed7953\"],[0.7777777777777778,\"#fb9f3a\"],[0.8888888888888888,\"#fdca26\"],[1.0,\"#f0f921\"]]}],\"contourcarpet\":[{\"type\":\"contourcarpet\",\"colorbar\":{\"outlinewidth\":0,\"ticks\":\"\"}}],\"contour\":[{\"type\":\"contour\",\"colorbar\":{\"outlinewidth\":0,\"ticks\":\"\"},\"colorscale\":[[0.0,\"#0d0887\"],[0.1111111111111111,\"#46039f\"],[0.2222222222222222,\"#7201a8\"],[0.3333333333333333,\"#9c179e\"],[0.4444444444444444,\"#bd3786\"],[0.5555555555555556,\"#d8576b\"],[0.6666666666666666,\"#ed7953\"],[0.7777777777777778,\"#fb9f3a\"],[0.8888888888888888,\"#fdca26\"],[1.0,\"#f0f921\"]]}],\"surface\":[{\"type\":\"surface\",\"colorbar\":{\"outlinewidth\":0,\"ticks\":\"\"},\"colorscale\":[[0.0,\"#0d0887\"],[0.1111111111111111,\"#46039f\"],[0.2222222222222222,\"#7201a8\"],[0.3333333333333333,\"#9c179e\"],[0.4444444444444444,\"#bd3786\"],[0.5555555555555556,\"#d8576b\"],[0.6666666666666666,\"#ed7953\"],[0.7777777777777778,\"#fb9f3a\"],[0.8888888888888888,\"#fdca26\"],[1.0,\"#f0f921\"]]}],\"mesh3d\":[{\"type\":\"mesh3d\",\"colorbar\":{\"outlinewidth\":0,\"ticks\":\"\"}}],\"scatter\":[{\"fillpattern\":{\"fillmode\":\"overlay\",\"size\":10,\"solidity\":0.2},\"type\":\"scatter\"}],\"parcoords\":[{\"type\":\"parcoords\",\"line\":{\"colorbar\":{\"outlinewidth\":0,\"ticks\":\"\"}}}],\"scatterpolargl\":[{\"type\":\"scatterpolargl\",\"marker\":{\"colorbar\":{\"outlinewidth\":0,\"ticks\":\"\"}}}],\"bar\":[{\"error_x\":{\"color\":\"#2a3f5f\"},\"error_y\":{\"color\":\"#2a3f5f\"},\"marker\":{\"line\":{\"color\":\"#E5ECF6\",\"width\":0.5},\"pattern\":{\"fillmode\":\"overlay\",\"size\":10,\"solidity\":0.2}},\"type\":\"bar\"}],\"scattergeo\":[{\"type\":\"scattergeo\",\"marker\":{\"colorbar\":{\"outlinewidth\":0,\"ticks\":\"\"}}}],\"scatterpolar\":[{\"type\":\"scatterpolar\",\"marker\":{\"colorbar\":{\"outlinewidth\":0,\"ticks\":\"\"}}}],\"histogram\":[{\"marker\":{\"pattern\":{\"fillmode\":\"overlay\",\"size\":10,\"solidity\":0.2}},\"type\":\"histogram\"}],\"scattergl\":[{\"type\":\"scattergl\",\"marker\":{\"colorbar\":{\"outlinewidth\":0,\"ticks\":\"\"}}}],\"scatter3d\":[{\"type\":\"scatter3d\",\"line\":{\"colorbar\":{\"outlinewidth\":0,\"ticks\":\"\"}},\"marker\":{\"colorbar\":{\"outlinewidth\":0,\"ticks\":\"\"}}}],\"scattermapbox\":[{\"type\":\"scattermapbox\",\"marker\":{\"colorbar\":{\"outlinewidth\":0,\"ticks\":\"\"}}}],\"scatterternary\":[{\"type\":\"scatterternary\",\"marker\":{\"colorbar\":{\"outlinewidth\":0,\"ticks\":\"\"}}}],\"scattercarpet\":[{\"type\":\"scattercarpet\",\"marker\":{\"colorbar\":{\"outlinewidth\":0,\"ticks\":\"\"}}}],\"carpet\":[{\"aaxis\":{\"endlinecolor\":\"#2a3f5f\",\"gridcolor\":\"white\",\"linecolor\":\"white\",\"minorgridcolor\":\"white\",\"startlinecolor\":\"#2a3f5f\"},\"baxis\":{\"endlinecolor\":\"#2a3f5f\",\"gridcolor\":\"white\",\"linecolor\":\"white\",\"minorgridcolor\":\"white\",\"startlinecolor\":\"#2a3f5f\"},\"type\":\"carpet\"}],\"table\":[{\"cells\":{\"fill\":{\"color\":\"#EBF0F8\"},\"line\":{\"color\":\"white\"}},\"header\":{\"fill\":{\"color\":\"#C8D4E3\"},\"line\":{\"color\":\"white\"}},\"type\":\"table\"}],\"barpolar\":[{\"marker\":{\"line\":{\"color\":\"#E5ECF6\",\"width\":0.5},\"pattern\":{\"fillmode\":\"overlay\",\"size\":10,\"solidity\":0.2}},\"type\":\"barpolar\"}],\"pie\":[{\"automargin\":true,\"type\":\"pie\"}]},\"layout\":{\"autotypenumbers\":\"strict\",\"colorway\":[\"#636efa\",\"#EF553B\",\"#00cc96\",\"#ab63fa\",\"#FFA15A\",\"#19d3f3\",\"#FF6692\",\"#B6E880\",\"#FF97FF\",\"#FECB52\"],\"font\":{\"color\":\"#2a3f5f\"},\"hovermode\":\"closest\",\"hoverlabel\":{\"align\":\"left\"},\"paper_bgcolor\":\"white\",\"plot_bgcolor\":\"#E5ECF6\",\"polar\":{\"bgcolor\":\"#E5ECF6\",\"angularaxis\":{\"gridcolor\":\"white\",\"linecolor\":\"white\",\"ticks\":\"\"},\"radialaxis\":{\"gridcolor\":\"white\",\"linecolor\":\"white\",\"ticks\":\"\"}},\"ternary\":{\"bgcolor\":\"#E5ECF6\",\"aaxis\":{\"gridcolor\":\"white\",\"linecolor\":\"white\",\"ticks\":\"\"},\"baxis\":{\"gridcolor\":\"white\",\"linecolor\":\"white\",\"ticks\":\"\"},\"caxis\":{\"gridcolor\":\"white\",\"linecolor\":\"white\",\"ticks\":\"\"}},\"coloraxis\":{\"colorbar\":{\"outlinewidth\":0,\"ticks\":\"\"}},\"colorscale\":{\"sequential\":[[0.0,\"#0d0887\"],[0.1111111111111111,\"#46039f\"],[0.2222222222222222,\"#7201a8\"],[0.3333333333333333,\"#9c179e\"],[0.4444444444444444,\"#bd3786\"],[0.5555555555555556,\"#d8576b\"],[0.6666666666666666,\"#ed7953\"],[0.7777777777777778,\"#fb9f3a\"],[0.8888888888888888,\"#fdca26\"],[1.0,\"#f0f921\"]],\"sequentialminus\":[[0.0,\"#0d0887\"],[0.1111111111111111,\"#46039f\"],[0.2222222222222222,\"#7201a8\"],[0.3333333333333333,\"#9c179e\"],[0.4444444444444444,\"#bd3786\"],[0.5555555555555556,\"#d8576b\"],[0.6666666666666666,\"#ed7953\"],[0.7777777777777778,\"#fb9f3a\"],[0.8888888888888888,\"#fdca26\"],[1.0,\"#f0f921\"]],\"diverging\":[[0,\"#8e0152\"],[0.1,\"#c51b7d\"],[0.2,\"#de77ae\"],[0.3,\"#f1b6da\"],[0.4,\"#fde0ef\"],[0.5,\"#f7f7f7\"],[0.6,\"#e6f5d0\"],[0.7,\"#b8e186\"],[0.8,\"#7fbc41\"],[0.9,\"#4d9221\"],[1,\"#276419\"]]},\"xaxis\":{\"gridcolor\":\"white\",\"linecolor\":\"white\",\"ticks\":\"\",\"title\":{\"standoff\":15},\"zerolinecolor\":\"white\",\"automargin\":true,\"zerolinewidth\":2},\"yaxis\":{\"gridcolor\":\"white\",\"linecolor\":\"white\",\"ticks\":\"\",\"title\":{\"standoff\":15},\"zerolinecolor\":\"white\",\"automargin\":true,\"zerolinewidth\":2},\"scene\":{\"xaxis\":{\"backgroundcolor\":\"#E5ECF6\",\"gridcolor\":\"white\",\"linecolor\":\"white\",\"showbackground\":true,\"ticks\":\"\",\"zerolinecolor\":\"white\",\"gridwidth\":2},\"yaxis\":{\"backgroundcolor\":\"#E5ECF6\",\"gridcolor\":\"white\",\"linecolor\":\"white\",\"showbackground\":true,\"ticks\":\"\",\"zerolinecolor\":\"white\",\"gridwidth\":2},\"zaxis\":{\"backgroundcolor\":\"#E5ECF6\",\"gridcolor\":\"white\",\"linecolor\":\"white\",\"showbackground\":true,\"ticks\":\"\",\"zerolinecolor\":\"white\",\"gridwidth\":2}},\"shapedefaults\":{\"line\":{\"color\":\"#2a3f5f\"}},\"annotationdefaults\":{\"arrowcolor\":\"#2a3f5f\",\"arrowhead\":0,\"arrowwidth\":1},\"geo\":{\"bgcolor\":\"white\",\"landcolor\":\"#E5ECF6\",\"subunitcolor\":\"white\",\"showland\":true,\"showlakes\":true,\"lakecolor\":\"white\"},\"title\":{\"x\":0.05},\"mapbox\":{\"style\":\"light\"}}},\"xaxis\":{\"anchor\":\"y\",\"domain\":[0.0,1.0],\"title\":{\"text\":\"firstReviewRating\"}},\"yaxis\":{\"anchor\":\"x\",\"domain\":[0.0,1.0],\"title\":{\"text\":\"stars\"}},\"coloraxis\":{\"colorbar\":{\"title\":{\"text\":\"l2\"}},\"colorscale\":[[0.0,\"#0d0887\"],[0.1111111111111111,\"#46039f\"],[0.2222222222222222,\"#7201a8\"],[0.3333333333333333,\"#9c179e\"],[0.4444444444444444,\"#bd3786\"],[0.5555555555555556,\"#d8576b\"],[0.6666666666666666,\"#ed7953\"],[0.7777777777777778,\"#fb9f3a\"],[0.8888888888888888,\"#fdca26\"],[1.0,\"#f0f921\"]]},\"legend\":{\"tracegroupgap\":0},\"margin\":{\"t\":60}},                        {\"responsive\": true}                    ).then(function(){\n",
       "                            \n",
       "var gd = document.getElementById('2aa88c23-6bdf-40d7-9e5a-db316fade4eb');\n",
       "var x = new MutationObserver(function (mutations, observer) {{\n",
       "        var display = window.getComputedStyle(gd).display;\n",
       "        if (!display || display === 'none') {{\n",
       "            console.log([gd, 'removed!']);\n",
       "            Plotly.purge(gd);\n",
       "            observer.disconnect();\n",
       "        }}\n",
       "}});\n",
       "\n",
       "// Listen for the removal of the full notebook cells\n",
       "var notebookContainer = gd.closest('#notebook-container');\n",
       "if (notebookContainer) {{\n",
       "    x.observe(notebookContainer, {childList: true});\n",
       "}}\n",
       "\n",
       "// Listen for the clearing of the current output cell\n",
       "var outputEl = gd.closest('.output');\n",
       "if (outputEl) {{\n",
       "    x.observe(outputEl, {childList: true});\n",
       "}}\n",
       "\n",
       "                        })                };                });            </script>        </div>"
      ]
     },
     "metadata": {},
     "output_type": "display_data"
    }
   ],
   "source": [
    "express.scatter(data_frame=dropna_df, x='firstReviewRating', y='stars', color='l2')"
   ]
  },
  {
   "cell_type": "markdown",
   "id": "0d8c989a",
   "metadata": {
    "papermill": {
     "duration": 0.010205,
     "end_time": "2024-03-02T00:39:45.517764",
     "exception": false,
     "start_time": "2024-03-02T00:39:45.507559",
     "status": "completed"
    },
    "tags": []
   },
   "source": [
    "And l2 is our positive sentiment."
   ]
  }
 ],
 "metadata": {
  "kaggle": {
   "accelerator": "none",
   "dataSources": [
    {
     "datasetId": 4482993,
     "sourceId": 7683348,
     "sourceType": "datasetVersion"
    }
   ],
   "dockerImageVersionId": 30664,
   "isGpuEnabled": false,
   "isInternetEnabled": true,
   "language": "python",
   "sourceType": "notebook"
  },
  "kernelspec": {
   "display_name": "Python 3",
   "language": "python",
   "name": "python3"
  },
  "language_info": {
   "codemirror_mode": {
    "name": "ipython",
    "version": 3
   },
   "file_extension": ".py",
   "mimetype": "text/x-python",
   "name": "python",
   "nbconvert_exporter": "python",
   "pygments_lexer": "ipython3",
   "version": "3.10.13"
  },
  "papermill": {
   "default_parameters": {},
   "duration": 156.057726,
   "end_time": "2024-03-02T00:39:48.217692",
   "environment_variables": {},
   "exception": null,
   "input_path": "__notebook__.ipynb",
   "output_path": "__notebook__.ipynb",
   "parameters": {},
   "start_time": "2024-03-02T00:37:12.159966",
   "version": "2.5.0"
  },
  "widgets": {
   "application/vnd.jupyter.widget-state+json": {
    "state": {
     "0acaadcf0b3743a5a4743c1cc2a82f2c": {
      "model_module": "@jupyter-widgets/base",
      "model_module_version": "1.2.0",
      "model_name": "LayoutModel",
      "state": {
       "_model_module": "@jupyter-widgets/base",
       "_model_module_version": "1.2.0",
       "_model_name": "LayoutModel",
       "_view_count": null,
       "_view_module": "@jupyter-widgets/base",
       "_view_module_version": "1.2.0",
       "_view_name": "LayoutView",
       "align_content": null,
       "align_items": null,
       "align_self": null,
       "border": null,
       "bottom": null,
       "display": null,
       "flex": null,
       "flex_flow": null,
       "grid_area": null,
       "grid_auto_columns": null,
       "grid_auto_flow": null,
       "grid_auto_rows": null,
       "grid_column": null,
       "grid_gap": null,
       "grid_row": null,
       "grid_template_areas": null,
       "grid_template_columns": null,
       "grid_template_rows": null,
       "height": null,
       "justify_content": null,
       "justify_items": null,
       "left": null,
       "margin": null,
       "max_height": null,
       "max_width": null,
       "min_height": null,
       "min_width": null,
       "object_fit": null,
       "object_position": null,
       "order": null,
       "overflow": null,
       "overflow_x": null,
       "overflow_y": null,
       "padding": null,
       "right": null,
       "top": null,
       "visibility": null,
       "width": null
      }
     },
     "1584f5bafd654e30b9ec6e41bd232401": {
      "model_module": "@jupyter-widgets/controls",
      "model_module_version": "1.5.0",
      "model_name": "DescriptionStyleModel",
      "state": {
       "_model_module": "@jupyter-widgets/controls",
       "_model_module_version": "1.5.0",
       "_model_name": "DescriptionStyleModel",
       "_view_count": null,
       "_view_module": "@jupyter-widgets/base",
       "_view_module_version": "1.2.0",
       "_view_name": "StyleView",
       "description_width": ""
      }
     },
     "174ac8f2f4fe4a10b9f8f344d1fcba62": {
      "model_module": "@jupyter-widgets/controls",
      "model_module_version": "1.5.0",
      "model_name": "DescriptionStyleModel",
      "state": {
       "_model_module": "@jupyter-widgets/controls",
       "_model_module_version": "1.5.0",
       "_model_name": "DescriptionStyleModel",
       "_view_count": null,
       "_view_module": "@jupyter-widgets/base",
       "_view_module_version": "1.2.0",
       "_view_name": "StyleView",
       "description_width": ""
      }
     },
     "22655f8a78a44042af1996c607149577": {
      "model_module": "@jupyter-widgets/controls",
      "model_module_version": "1.5.0",
      "model_name": "ProgressStyleModel",
      "state": {
       "_model_module": "@jupyter-widgets/controls",
       "_model_module_version": "1.5.0",
       "_model_name": "ProgressStyleModel",
       "_view_count": null,
       "_view_module": "@jupyter-widgets/base",
       "_view_module_version": "1.2.0",
       "_view_name": "StyleView",
       "bar_color": null,
       "description_width": ""
      }
     },
     "23e6d412b5c24fccade544a1a5cee64f": {
      "model_module": "@jupyter-widgets/base",
      "model_module_version": "1.2.0",
      "model_name": "LayoutModel",
      "state": {
       "_model_module": "@jupyter-widgets/base",
       "_model_module_version": "1.2.0",
       "_model_name": "LayoutModel",
       "_view_count": null,
       "_view_module": "@jupyter-widgets/base",
       "_view_module_version": "1.2.0",
       "_view_name": "LayoutView",
       "align_content": null,
       "align_items": null,
       "align_self": null,
       "border": null,
       "bottom": null,
       "display": null,
       "flex": null,
       "flex_flow": null,
       "grid_area": null,
       "grid_auto_columns": null,
       "grid_auto_flow": null,
       "grid_auto_rows": null,
       "grid_column": null,
       "grid_gap": null,
       "grid_row": null,
       "grid_template_areas": null,
       "grid_template_columns": null,
       "grid_template_rows": null,
       "height": null,
       "justify_content": null,
       "justify_items": null,
       "left": null,
       "margin": null,
       "max_height": null,
       "max_width": null,
       "min_height": null,
       "min_width": null,
       "object_fit": null,
       "object_position": null,
       "order": null,
       "overflow": null,
       "overflow_x": null,
       "overflow_y": null,
       "padding": null,
       "right": null,
       "top": null,
       "visibility": null,
       "width": null
      }
     },
     "24e4f4cf972742f982f4707767291f77": {
      "model_module": "@jupyter-widgets/controls",
      "model_module_version": "1.5.0",
      "model_name": "HBoxModel",
      "state": {
       "_dom_classes": [],
       "_model_module": "@jupyter-widgets/controls",
       "_model_module_version": "1.5.0",
       "_model_name": "HBoxModel",
       "_view_count": null,
       "_view_module": "@jupyter-widgets/controls",
       "_view_module_version": "1.5.0",
       "_view_name": "HBoxView",
       "box_style": "",
       "children": [
        "IPY_MODEL_ee4c83d3355f4935b7057bfb550875fb",
        "IPY_MODEL_59e9cdcefbf64e5da1194597ffc83e9b",
        "IPY_MODEL_8a81d9fc5e1446dc91451be4c6103f14"
       ],
       "layout": "IPY_MODEL_7d5cb64fd15f4fad9feba4d74ed760b2"
      }
     },
     "24efc81b3314446b8a7039c0e1d65a00": {
      "model_module": "@jupyter-widgets/controls",
      "model_module_version": "1.5.0",
      "model_name": "DescriptionStyleModel",
      "state": {
       "_model_module": "@jupyter-widgets/controls",
       "_model_module_version": "1.5.0",
       "_model_name": "DescriptionStyleModel",
       "_view_count": null,
       "_view_module": "@jupyter-widgets/base",
       "_view_module_version": "1.2.0",
       "_view_name": "StyleView",
       "description_width": ""
      }
     },
     "27b162da4b51480b97ac601f76243fb0": {
      "model_module": "@jupyter-widgets/controls",
      "model_module_version": "1.5.0",
      "model_name": "HTMLModel",
      "state": {
       "_dom_classes": [],
       "_model_module": "@jupyter-widgets/controls",
       "_model_module_version": "1.5.0",
       "_model_name": "HTMLModel",
       "_view_count": null,
       "_view_module": "@jupyter-widgets/controls",
       "_view_module_version": "1.5.0",
       "_view_name": "HTMLView",
       "description": "",
       "description_tooltip": null,
       "layout": "IPY_MODEL_ba07872fe3de43b3bafbc249fb2952f3",
       "placeholder": "​",
       "style": "IPY_MODEL_1584f5bafd654e30b9ec6e41bd232401",
       "value": " 899k/899k [00:00&lt;00:00, 1.13MB/s]"
      }
     },
     "2e579b599dae4a5f8a6cb3b18df58d4b": {
      "model_module": "@jupyter-widgets/controls",
      "model_module_version": "1.5.0",
      "model_name": "HBoxModel",
      "state": {
       "_dom_classes": [],
       "_model_module": "@jupyter-widgets/controls",
       "_model_module_version": "1.5.0",
       "_model_name": "HBoxModel",
       "_view_count": null,
       "_view_module": "@jupyter-widgets/controls",
       "_view_module_version": "1.5.0",
       "_view_name": "HBoxView",
       "box_style": "",
       "children": [
        "IPY_MODEL_f8031baf5568498cafe19d0fd8521a9d",
        "IPY_MODEL_dce2610803734e048b17642911403de7",
        "IPY_MODEL_e1228b5ef99a499596becd37e12f2b3c"
       ],
       "layout": "IPY_MODEL_90ae6702ebc345728c072efce35ede8c"
      }
     },
     "2f78b4a138b744fab5f9399898e0b1ed": {
      "model_module": "@jupyter-widgets/controls",
      "model_module_version": "1.5.0",
      "model_name": "FloatProgressModel",
      "state": {
       "_dom_classes": [],
       "_model_module": "@jupyter-widgets/controls",
       "_model_module_version": "1.5.0",
       "_model_name": "FloatProgressModel",
       "_view_count": null,
       "_view_module": "@jupyter-widgets/controls",
       "_view_module_version": "1.5.0",
       "_view_name": "ProgressView",
       "bar_style": "success",
       "description": "",
       "description_tooltip": null,
       "layout": "IPY_MODEL_b14b5b5bfb0a422c96394422502c68df",
       "max": 498679497.0,
       "min": 0.0,
       "orientation": "horizontal",
       "style": "IPY_MODEL_48256fd3b0984c34b9d26d4c031d8be7",
       "value": 498679497.0
      }
     },
     "315e2df0663e4c939740beb524cbea9a": {
      "model_module": "@jupyter-widgets/controls",
      "model_module_version": "1.5.0",
      "model_name": "HTMLModel",
      "state": {
       "_dom_classes": [],
       "_model_module": "@jupyter-widgets/controls",
       "_model_module_version": "1.5.0",
       "_model_name": "HTMLModel",
       "_view_count": null,
       "_view_module": "@jupyter-widgets/controls",
       "_view_module_version": "1.5.0",
       "_view_name": "HTMLView",
       "description": "",
       "description_tooltip": null,
       "layout": "IPY_MODEL_cbf5ba139d5b4fd88cdbd201624df1de",
       "placeholder": "​",
       "style": "IPY_MODEL_b2ce732cecea46378dd1d2516b1473ac",
       "value": "merges.txt: 100%"
      }
     },
     "31650bb5e204479cb2f04b416f526040": {
      "model_module": "@jupyter-widgets/controls",
      "model_module_version": "1.5.0",
      "model_name": "ProgressStyleModel",
      "state": {
       "_model_module": "@jupyter-widgets/controls",
       "_model_module_version": "1.5.0",
       "_model_name": "ProgressStyleModel",
       "_view_count": null,
       "_view_module": "@jupyter-widgets/base",
       "_view_module_version": "1.2.0",
       "_view_name": "StyleView",
       "bar_color": null,
       "description_width": ""
      }
     },
     "423520b05fea41d9900a7d4fa43905a9": {
      "model_module": "@jupyter-widgets/controls",
      "model_module_version": "1.5.0",
      "model_name": "DescriptionStyleModel",
      "state": {
       "_model_module": "@jupyter-widgets/controls",
       "_model_module_version": "1.5.0",
       "_model_name": "DescriptionStyleModel",
       "_view_count": null,
       "_view_module": "@jupyter-widgets/base",
       "_view_module_version": "1.2.0",
       "_view_name": "StyleView",
       "description_width": ""
      }
     },
     "45ff141d6f8f4b6fbd864960b4d6972d": {
      "model_module": "@jupyter-widgets/controls",
      "model_module_version": "1.5.0",
      "model_name": "FloatProgressModel",
      "state": {
       "_dom_classes": [],
       "_model_module": "@jupyter-widgets/controls",
       "_model_module_version": "1.5.0",
       "_model_name": "FloatProgressModel",
       "_view_count": null,
       "_view_module": "@jupyter-widgets/controls",
       "_view_module_version": "1.5.0",
       "_view_name": "ProgressView",
       "bar_style": "success",
       "description": "",
       "description_tooltip": null,
       "layout": "IPY_MODEL_94e75b4313df4c8dbf50c896c97a4f21",
       "max": 898822.0,
       "min": 0.0,
       "orientation": "horizontal",
       "style": "IPY_MODEL_5baa65cffe004b3b97bd9ca05707f500",
       "value": 898822.0
      }
     },
     "46d32d8d66864303a0c8627104eb1953": {
      "model_module": "@jupyter-widgets/base",
      "model_module_version": "1.2.0",
      "model_name": "LayoutModel",
      "state": {
       "_model_module": "@jupyter-widgets/base",
       "_model_module_version": "1.2.0",
       "_model_name": "LayoutModel",
       "_view_count": null,
       "_view_module": "@jupyter-widgets/base",
       "_view_module_version": "1.2.0",
       "_view_name": "LayoutView",
       "align_content": null,
       "align_items": null,
       "align_self": null,
       "border": null,
       "bottom": null,
       "display": null,
       "flex": null,
       "flex_flow": null,
       "grid_area": null,
       "grid_auto_columns": null,
       "grid_auto_flow": null,
       "grid_auto_rows": null,
       "grid_column": null,
       "grid_gap": null,
       "grid_row": null,
       "grid_template_areas": null,
       "grid_template_columns": null,
       "grid_template_rows": null,
       "height": null,
       "justify_content": null,
       "justify_items": null,
       "left": null,
       "margin": null,
       "max_height": null,
       "max_width": null,
       "min_height": null,
       "min_width": null,
       "object_fit": null,
       "object_position": null,
       "order": null,
       "overflow": null,
       "overflow_x": null,
       "overflow_y": null,
       "padding": null,
       "right": null,
       "top": null,
       "visibility": null,
       "width": null
      }
     },
     "48256fd3b0984c34b9d26d4c031d8be7": {
      "model_module": "@jupyter-widgets/controls",
      "model_module_version": "1.5.0",
      "model_name": "ProgressStyleModel",
      "state": {
       "_model_module": "@jupyter-widgets/controls",
       "_model_module_version": "1.5.0",
       "_model_name": "ProgressStyleModel",
       "_view_count": null,
       "_view_module": "@jupyter-widgets/base",
       "_view_module_version": "1.2.0",
       "_view_name": "StyleView",
       "bar_color": null,
       "description_width": ""
      }
     },
     "4b495dd841be4772bb675cec46815132": {
      "model_module": "@jupyter-widgets/controls",
      "model_module_version": "1.5.0",
      "model_name": "DescriptionStyleModel",
      "state": {
       "_model_module": "@jupyter-widgets/controls",
       "_model_module_version": "1.5.0",
       "_model_name": "DescriptionStyleModel",
       "_view_count": null,
       "_view_module": "@jupyter-widgets/base",
       "_view_module_version": "1.2.0",
       "_view_name": "StyleView",
       "description_width": ""
      }
     },
     "59e9cdcefbf64e5da1194597ffc83e9b": {
      "model_module": "@jupyter-widgets/controls",
      "model_module_version": "1.5.0",
      "model_name": "FloatProgressModel",
      "state": {
       "_dom_classes": [],
       "_model_module": "@jupyter-widgets/controls",
       "_model_module_version": "1.5.0",
       "_model_name": "FloatProgressModel",
       "_view_count": null,
       "_view_module": "@jupyter-widgets/controls",
       "_view_module_version": "1.5.0",
       "_view_name": "ProgressView",
       "bar_style": "success",
       "description": "",
       "description_tooltip": null,
       "layout": "IPY_MODEL_fc5c1221a723427dabca4f925dbfa8aa",
       "max": 150.0,
       "min": 0.0,
       "orientation": "horizontal",
       "style": "IPY_MODEL_22655f8a78a44042af1996c607149577",
       "value": 150.0
      }
     },
     "5baa65cffe004b3b97bd9ca05707f500": {
      "model_module": "@jupyter-widgets/controls",
      "model_module_version": "1.5.0",
      "model_name": "ProgressStyleModel",
      "state": {
       "_model_module": "@jupyter-widgets/controls",
       "_model_module_version": "1.5.0",
       "_model_name": "ProgressStyleModel",
       "_view_count": null,
       "_view_module": "@jupyter-widgets/base",
       "_view_module_version": "1.2.0",
       "_view_name": "StyleView",
       "bar_color": null,
       "description_width": ""
      }
     },
     "5e2c2f191855449899b70064e3f918eb": {
      "model_module": "@jupyter-widgets/base",
      "model_module_version": "1.2.0",
      "model_name": "LayoutModel",
      "state": {
       "_model_module": "@jupyter-widgets/base",
       "_model_module_version": "1.2.0",
       "_model_name": "LayoutModel",
       "_view_count": null,
       "_view_module": "@jupyter-widgets/base",
       "_view_module_version": "1.2.0",
       "_view_name": "LayoutView",
       "align_content": null,
       "align_items": null,
       "align_self": null,
       "border": null,
       "bottom": null,
       "display": null,
       "flex": null,
       "flex_flow": null,
       "grid_area": null,
       "grid_auto_columns": null,
       "grid_auto_flow": null,
       "grid_auto_rows": null,
       "grid_column": null,
       "grid_gap": null,
       "grid_row": null,
       "grid_template_areas": null,
       "grid_template_columns": null,
       "grid_template_rows": null,
       "height": null,
       "justify_content": null,
       "justify_items": null,
       "left": null,
       "margin": null,
       "max_height": null,
       "max_width": null,
       "min_height": null,
       "min_width": null,
       "object_fit": null,
       "object_position": null,
       "order": null,
       "overflow": null,
       "overflow_x": null,
       "overflow_y": null,
       "padding": null,
       "right": null,
       "top": null,
       "visibility": null,
       "width": null
      }
     },
     "6351378758d54398ad3b281f21c4494b": {
      "model_module": "@jupyter-widgets/controls",
      "model_module_version": "1.5.0",
      "model_name": "HBoxModel",
      "state": {
       "_dom_classes": [],
       "_model_module": "@jupyter-widgets/controls",
       "_model_module_version": "1.5.0",
       "_model_name": "HBoxModel",
       "_view_count": null,
       "_view_module": "@jupyter-widgets/controls",
       "_view_module_version": "1.5.0",
       "_view_name": "HBoxView",
       "box_style": "",
       "children": [
        "IPY_MODEL_d2e022018137401aa1ba4d113fa5b6ac",
        "IPY_MODEL_45ff141d6f8f4b6fbd864960b4d6972d",
        "IPY_MODEL_27b162da4b51480b97ac601f76243fb0"
       ],
       "layout": "IPY_MODEL_f40a7c57e7fc4894b1d36b0796a4cc22"
      }
     },
     "65ac4eb4a6e647269813b608c5428809": {
      "model_module": "@jupyter-widgets/controls",
      "model_module_version": "1.5.0",
      "model_name": "DescriptionStyleModel",
      "state": {
       "_model_module": "@jupyter-widgets/controls",
       "_model_module_version": "1.5.0",
       "_model_name": "DescriptionStyleModel",
       "_view_count": null,
       "_view_module": "@jupyter-widgets/base",
       "_view_module_version": "1.2.0",
       "_view_name": "StyleView",
       "description_width": ""
      }
     },
     "66abc685caf043a2ab84507db06b595f": {
      "model_module": "@jupyter-widgets/controls",
      "model_module_version": "1.5.0",
      "model_name": "DescriptionStyleModel",
      "state": {
       "_model_module": "@jupyter-widgets/controls",
       "_model_module_version": "1.5.0",
       "_model_name": "DescriptionStyleModel",
       "_view_count": null,
       "_view_module": "@jupyter-widgets/base",
       "_view_module_version": "1.2.0",
       "_view_name": "StyleView",
       "description_width": ""
      }
     },
     "6cabfcfdaa1d4ae18b79d3f4bb10db00": {
      "model_module": "@jupyter-widgets/controls",
      "model_module_version": "1.5.0",
      "model_name": "FloatProgressModel",
      "state": {
       "_dom_classes": [],
       "_model_module": "@jupyter-widgets/controls",
       "_model_module_version": "1.5.0",
       "_model_name": "FloatProgressModel",
       "_view_count": null,
       "_view_module": "@jupyter-widgets/controls",
       "_view_module_version": "1.5.0",
       "_view_name": "ProgressView",
       "bar_style": "success",
       "description": "",
       "description_tooltip": null,
       "layout": "IPY_MODEL_b7a6c7aa80c34bd686240de949733f32",
       "max": 747.0,
       "min": 0.0,
       "orientation": "horizontal",
       "style": "IPY_MODEL_31650bb5e204479cb2f04b416f526040",
       "value": 747.0
      }
     },
     "6d42ec6da01b4f78ab1ca040ecea640c": {
      "model_module": "@jupyter-widgets/controls",
      "model_module_version": "1.5.0",
      "model_name": "DescriptionStyleModel",
      "state": {
       "_model_module": "@jupyter-widgets/controls",
       "_model_module_version": "1.5.0",
       "_model_name": "DescriptionStyleModel",
       "_view_count": null,
       "_view_module": "@jupyter-widgets/base",
       "_view_module_version": "1.2.0",
       "_view_name": "StyleView",
       "description_width": ""
      }
     },
     "6dc76e3426cc4c5d8a33478ac5ba3148": {
      "model_module": "@jupyter-widgets/base",
      "model_module_version": "1.2.0",
      "model_name": "LayoutModel",
      "state": {
       "_model_module": "@jupyter-widgets/base",
       "_model_module_version": "1.2.0",
       "_model_name": "LayoutModel",
       "_view_count": null,
       "_view_module": "@jupyter-widgets/base",
       "_view_module_version": "1.2.0",
       "_view_name": "LayoutView",
       "align_content": null,
       "align_items": null,
       "align_self": null,
       "border": null,
       "bottom": null,
       "display": null,
       "flex": null,
       "flex_flow": null,
       "grid_area": null,
       "grid_auto_columns": null,
       "grid_auto_flow": null,
       "grid_auto_rows": null,
       "grid_column": null,
       "grid_gap": null,
       "grid_row": null,
       "grid_template_areas": null,
       "grid_template_columns": null,
       "grid_template_rows": null,
       "height": null,
       "justify_content": null,
       "justify_items": null,
       "left": null,
       "margin": null,
       "max_height": null,
       "max_width": null,
       "min_height": null,
       "min_width": null,
       "object_fit": null,
       "object_position": null,
       "order": null,
       "overflow": null,
       "overflow_x": null,
       "overflow_y": null,
       "padding": null,
       "right": null,
       "top": null,
       "visibility": null,
       "width": null
      }
     },
     "7101140735ae48f29d7460d47e691398": {
      "model_module": "@jupyter-widgets/base",
      "model_module_version": "1.2.0",
      "model_name": "LayoutModel",
      "state": {
       "_model_module": "@jupyter-widgets/base",
       "_model_module_version": "1.2.0",
       "_model_name": "LayoutModel",
       "_view_count": null,
       "_view_module": "@jupyter-widgets/base",
       "_view_module_version": "1.2.0",
       "_view_name": "LayoutView",
       "align_content": null,
       "align_items": null,
       "align_self": null,
       "border": null,
       "bottom": null,
       "display": null,
       "flex": null,
       "flex_flow": null,
       "grid_area": null,
       "grid_auto_columns": null,
       "grid_auto_flow": null,
       "grid_auto_rows": null,
       "grid_column": null,
       "grid_gap": null,
       "grid_row": null,
       "grid_template_areas": null,
       "grid_template_columns": null,
       "grid_template_rows": null,
       "height": null,
       "justify_content": null,
       "justify_items": null,
       "left": null,
       "margin": null,
       "max_height": null,
       "max_width": null,
       "min_height": null,
       "min_width": null,
       "object_fit": null,
       "object_position": null,
       "order": null,
       "overflow": null,
       "overflow_x": null,
       "overflow_y": null,
       "padding": null,
       "right": null,
       "top": null,
       "visibility": null,
       "width": null
      }
     },
     "72a32118bfbd423693189174bcbcb7cd": {
      "model_module": "@jupyter-widgets/base",
      "model_module_version": "1.2.0",
      "model_name": "LayoutModel",
      "state": {
       "_model_module": "@jupyter-widgets/base",
       "_model_module_version": "1.2.0",
       "_model_name": "LayoutModel",
       "_view_count": null,
       "_view_module": "@jupyter-widgets/base",
       "_view_module_version": "1.2.0",
       "_view_name": "LayoutView",
       "align_content": null,
       "align_items": null,
       "align_self": null,
       "border": null,
       "bottom": null,
       "display": null,
       "flex": null,
       "flex_flow": null,
       "grid_area": null,
       "grid_auto_columns": null,
       "grid_auto_flow": null,
       "grid_auto_rows": null,
       "grid_column": null,
       "grid_gap": null,
       "grid_row": null,
       "grid_template_areas": null,
       "grid_template_columns": null,
       "grid_template_rows": null,
       "height": null,
       "justify_content": null,
       "justify_items": null,
       "left": null,
       "margin": null,
       "max_height": null,
       "max_width": null,
       "min_height": null,
       "min_width": null,
       "object_fit": null,
       "object_position": null,
       "order": null,
       "overflow": null,
       "overflow_x": null,
       "overflow_y": null,
       "padding": null,
       "right": null,
       "top": null,
       "visibility": null,
       "width": null
      }
     },
     "751376a07bb94446b9db3d0f08f70071": {
      "model_module": "@jupyter-widgets/controls",
      "model_module_version": "1.5.0",
      "model_name": "FloatProgressModel",
      "state": {
       "_dom_classes": [],
       "_model_module": "@jupyter-widgets/controls",
       "_model_module_version": "1.5.0",
       "_model_name": "FloatProgressModel",
       "_view_count": null,
       "_view_module": "@jupyter-widgets/controls",
       "_view_module_version": "1.5.0",
       "_view_name": "ProgressView",
       "bar_style": "success",
       "description": "",
       "description_tooltip": null,
       "layout": "IPY_MODEL_b65b9f7d94d44af1a794c305202f52f3",
       "max": 456318.0,
       "min": 0.0,
       "orientation": "horizontal",
       "style": "IPY_MODEL_bcb6c003e09c4719a3b55f21253abbf3",
       "value": 456318.0
      }
     },
     "7963ffc657b740a8a625d197f60f7dfe": {
      "model_module": "@jupyter-widgets/controls",
      "model_module_version": "1.5.0",
      "model_name": "HTMLModel",
      "state": {
       "_dom_classes": [],
       "_model_module": "@jupyter-widgets/controls",
       "_model_module_version": "1.5.0",
       "_model_name": "HTMLModel",
       "_view_count": null,
       "_view_module": "@jupyter-widgets/controls",
       "_view_module_version": "1.5.0",
       "_view_name": "HTMLView",
       "description": "",
       "description_tooltip": null,
       "layout": "IPY_MODEL_c171a00ddaf44b1fa815b075d2f321af",
       "placeholder": "​",
       "style": "IPY_MODEL_66abc685caf043a2ab84507db06b595f",
       "value": "pytorch_model.bin: 100%"
      }
     },
     "7d5cb64fd15f4fad9feba4d74ed760b2": {
      "model_module": "@jupyter-widgets/base",
      "model_module_version": "1.2.0",
      "model_name": "LayoutModel",
      "state": {
       "_model_module": "@jupyter-widgets/base",
       "_model_module_version": "1.2.0",
       "_model_name": "LayoutModel",
       "_view_count": null,
       "_view_module": "@jupyter-widgets/base",
       "_view_module_version": "1.2.0",
       "_view_name": "LayoutView",
       "align_content": null,
       "align_items": null,
       "align_self": null,
       "border": null,
       "bottom": null,
       "display": null,
       "flex": null,
       "flex_flow": null,
       "grid_area": null,
       "grid_auto_columns": null,
       "grid_auto_flow": null,
       "grid_auto_rows": null,
       "grid_column": null,
       "grid_gap": null,
       "grid_row": null,
       "grid_template_areas": null,
       "grid_template_columns": null,
       "grid_template_rows": null,
       "height": null,
       "justify_content": null,
       "justify_items": null,
       "left": null,
       "margin": null,
       "max_height": null,
       "max_width": null,
       "min_height": null,
       "min_width": null,
       "object_fit": null,
       "object_position": null,
       "order": null,
       "overflow": null,
       "overflow_x": null,
       "overflow_y": null,
       "padding": null,
       "right": null,
       "top": null,
       "visibility": null,
       "width": null
      }
     },
     "8a81d9fc5e1446dc91451be4c6103f14": {
      "model_module": "@jupyter-widgets/controls",
      "model_module_version": "1.5.0",
      "model_name": "HTMLModel",
      "state": {
       "_dom_classes": [],
       "_model_module": "@jupyter-widgets/controls",
       "_model_module_version": "1.5.0",
       "_model_name": "HTMLModel",
       "_view_count": null,
       "_view_module": "@jupyter-widgets/controls",
       "_view_module_version": "1.5.0",
       "_view_name": "HTMLView",
       "description": "",
       "description_tooltip": null,
       "layout": "IPY_MODEL_f4a9f9334e6e4272a7e22dc0ffd85f32",
       "placeholder": "​",
       "style": "IPY_MODEL_f794d2c8e82e4756b79691f2c99da38e",
       "value": " 150/150 [00:00&lt;00:00, 11.3kB/s]"
      }
     },
     "8c1ea8568d5b4135aec9bb0aa5e82646": {
      "model_module": "@jupyter-widgets/controls",
      "model_module_version": "1.5.0",
      "model_name": "ProgressStyleModel",
      "state": {
       "_model_module": "@jupyter-widgets/controls",
       "_model_module_version": "1.5.0",
       "_model_name": "ProgressStyleModel",
       "_view_count": null,
       "_view_module": "@jupyter-widgets/base",
       "_view_module_version": "1.2.0",
       "_view_name": "StyleView",
       "bar_color": null,
       "description_width": ""
      }
     },
     "90ae6702ebc345728c072efce35ede8c": {
      "model_module": "@jupyter-widgets/base",
      "model_module_version": "1.2.0",
      "model_name": "LayoutModel",
      "state": {
       "_model_module": "@jupyter-widgets/base",
       "_model_module_version": "1.2.0",
       "_model_name": "LayoutModel",
       "_view_count": null,
       "_view_module": "@jupyter-widgets/base",
       "_view_module_version": "1.2.0",
       "_view_name": "LayoutView",
       "align_content": null,
       "align_items": null,
       "align_self": null,
       "border": null,
       "bottom": null,
       "display": null,
       "flex": null,
       "flex_flow": null,
       "grid_area": null,
       "grid_auto_columns": null,
       "grid_auto_flow": null,
       "grid_auto_rows": null,
       "grid_column": null,
       "grid_gap": null,
       "grid_row": null,
       "grid_template_areas": null,
       "grid_template_columns": null,
       "grid_template_rows": null,
       "height": null,
       "justify_content": null,
       "justify_items": null,
       "left": null,
       "margin": null,
       "max_height": null,
       "max_width": null,
       "min_height": null,
       "min_width": null,
       "object_fit": null,
       "object_position": null,
       "order": null,
       "overflow": null,
       "overflow_x": null,
       "overflow_y": null,
       "padding": null,
       "right": null,
       "top": null,
       "visibility": null,
       "width": null
      }
     },
     "94e75b4313df4c8dbf50c896c97a4f21": {
      "model_module": "@jupyter-widgets/base",
      "model_module_version": "1.2.0",
      "model_name": "LayoutModel",
      "state": {
       "_model_module": "@jupyter-widgets/base",
       "_model_module_version": "1.2.0",
       "_model_name": "LayoutModel",
       "_view_count": null,
       "_view_module": "@jupyter-widgets/base",
       "_view_module_version": "1.2.0",
       "_view_name": "LayoutView",
       "align_content": null,
       "align_items": null,
       "align_self": null,
       "border": null,
       "bottom": null,
       "display": null,
       "flex": null,
       "flex_flow": null,
       "grid_area": null,
       "grid_auto_columns": null,
       "grid_auto_flow": null,
       "grid_auto_rows": null,
       "grid_column": null,
       "grid_gap": null,
       "grid_row": null,
       "grid_template_areas": null,
       "grid_template_columns": null,
       "grid_template_rows": null,
       "height": null,
       "justify_content": null,
       "justify_items": null,
       "left": null,
       "margin": null,
       "max_height": null,
       "max_width": null,
       "min_height": null,
       "min_width": null,
       "object_fit": null,
       "object_position": null,
       "order": null,
       "overflow": null,
       "overflow_x": null,
       "overflow_y": null,
       "padding": null,
       "right": null,
       "top": null,
       "visibility": null,
       "width": null
      }
     },
     "9b1498b72ae046f78c9c00fa99ad14ec": {
      "model_module": "@jupyter-widgets/controls",
      "model_module_version": "1.5.0",
      "model_name": "HTMLModel",
      "state": {
       "_dom_classes": [],
       "_model_module": "@jupyter-widgets/controls",
       "_model_module_version": "1.5.0",
       "_model_name": "HTMLModel",
       "_view_count": null,
       "_view_module": "@jupyter-widgets/controls",
       "_view_module_version": "1.5.0",
       "_view_name": "HTMLView",
       "description": "",
       "description_tooltip": null,
       "layout": "IPY_MODEL_c6f3b2fe6e86445090d17f1508536861",
       "placeholder": "​",
       "style": "IPY_MODEL_6d42ec6da01b4f78ab1ca040ecea640c",
       "value": " 747/747 [00:00&lt;00:00, 53.6kB/s]"
      }
     },
     "ab1e72b774684c99b52c24a4f5ed9b9e": {
      "model_module": "@jupyter-widgets/controls",
      "model_module_version": "1.5.0",
      "model_name": "HBoxModel",
      "state": {
       "_dom_classes": [],
       "_model_module": "@jupyter-widgets/controls",
       "_model_module_version": "1.5.0",
       "_model_name": "HBoxModel",
       "_view_count": null,
       "_view_module": "@jupyter-widgets/controls",
       "_view_module_version": "1.5.0",
       "_view_name": "HBoxView",
       "box_style": "",
       "children": [
        "IPY_MODEL_7963ffc657b740a8a625d197f60f7dfe",
        "IPY_MODEL_2f78b4a138b744fab5f9399898e0b1ed",
        "IPY_MODEL_c1fc3b585bcc45388883838355161615"
       ],
       "layout": "IPY_MODEL_5e2c2f191855449899b70064e3f918eb"
      }
     },
     "ad866687a91640f7b3221e83858668fc": {
      "model_module": "@jupyter-widgets/controls",
      "model_module_version": "1.5.0",
      "model_name": "HBoxModel",
      "state": {
       "_dom_classes": [],
       "_model_module": "@jupyter-widgets/controls",
       "_model_module_version": "1.5.0",
       "_model_name": "HBoxModel",
       "_view_count": null,
       "_view_module": "@jupyter-widgets/controls",
       "_view_module_version": "1.5.0",
       "_view_name": "HBoxView",
       "box_style": "",
       "children": [
        "IPY_MODEL_315e2df0663e4c939740beb524cbea9a",
        "IPY_MODEL_751376a07bb94446b9db3d0f08f70071",
        "IPY_MODEL_eaad7eb45da542dd8fe979fe4cdefe7d"
       ],
       "layout": "IPY_MODEL_72a32118bfbd423693189174bcbcb7cd"
      }
     },
     "b14b5b5bfb0a422c96394422502c68df": {
      "model_module": "@jupyter-widgets/base",
      "model_module_version": "1.2.0",
      "model_name": "LayoutModel",
      "state": {
       "_model_module": "@jupyter-widgets/base",
       "_model_module_version": "1.2.0",
       "_model_name": "LayoutModel",
       "_view_count": null,
       "_view_module": "@jupyter-widgets/base",
       "_view_module_version": "1.2.0",
       "_view_name": "LayoutView",
       "align_content": null,
       "align_items": null,
       "align_self": null,
       "border": null,
       "bottom": null,
       "display": null,
       "flex": null,
       "flex_flow": null,
       "grid_area": null,
       "grid_auto_columns": null,
       "grid_auto_flow": null,
       "grid_auto_rows": null,
       "grid_column": null,
       "grid_gap": null,
       "grid_row": null,
       "grid_template_areas": null,
       "grid_template_columns": null,
       "grid_template_rows": null,
       "height": null,
       "justify_content": null,
       "justify_items": null,
       "left": null,
       "margin": null,
       "max_height": null,
       "max_width": null,
       "min_height": null,
       "min_width": null,
       "object_fit": null,
       "object_position": null,
       "order": null,
       "overflow": null,
       "overflow_x": null,
       "overflow_y": null,
       "padding": null,
       "right": null,
       "top": null,
       "visibility": null,
       "width": null
      }
     },
     "b2ce732cecea46378dd1d2516b1473ac": {
      "model_module": "@jupyter-widgets/controls",
      "model_module_version": "1.5.0",
      "model_name": "DescriptionStyleModel",
      "state": {
       "_model_module": "@jupyter-widgets/controls",
       "_model_module_version": "1.5.0",
       "_model_name": "DescriptionStyleModel",
       "_view_count": null,
       "_view_module": "@jupyter-widgets/base",
       "_view_module_version": "1.2.0",
       "_view_name": "StyleView",
       "description_width": ""
      }
     },
     "b65b9f7d94d44af1a794c305202f52f3": {
      "model_module": "@jupyter-widgets/base",
      "model_module_version": "1.2.0",
      "model_name": "LayoutModel",
      "state": {
       "_model_module": "@jupyter-widgets/base",
       "_model_module_version": "1.2.0",
       "_model_name": "LayoutModel",
       "_view_count": null,
       "_view_module": "@jupyter-widgets/base",
       "_view_module_version": "1.2.0",
       "_view_name": "LayoutView",
       "align_content": null,
       "align_items": null,
       "align_self": null,
       "border": null,
       "bottom": null,
       "display": null,
       "flex": null,
       "flex_flow": null,
       "grid_area": null,
       "grid_auto_columns": null,
       "grid_auto_flow": null,
       "grid_auto_rows": null,
       "grid_column": null,
       "grid_gap": null,
       "grid_row": null,
       "grid_template_areas": null,
       "grid_template_columns": null,
       "grid_template_rows": null,
       "height": null,
       "justify_content": null,
       "justify_items": null,
       "left": null,
       "margin": null,
       "max_height": null,
       "max_width": null,
       "min_height": null,
       "min_width": null,
       "object_fit": null,
       "object_position": null,
       "order": null,
       "overflow": null,
       "overflow_x": null,
       "overflow_y": null,
       "padding": null,
       "right": null,
       "top": null,
       "visibility": null,
       "width": null
      }
     },
     "b7a6c7aa80c34bd686240de949733f32": {
      "model_module": "@jupyter-widgets/base",
      "model_module_version": "1.2.0",
      "model_name": "LayoutModel",
      "state": {
       "_model_module": "@jupyter-widgets/base",
       "_model_module_version": "1.2.0",
       "_model_name": "LayoutModel",
       "_view_count": null,
       "_view_module": "@jupyter-widgets/base",
       "_view_module_version": "1.2.0",
       "_view_name": "LayoutView",
       "align_content": null,
       "align_items": null,
       "align_self": null,
       "border": null,
       "bottom": null,
       "display": null,
       "flex": null,
       "flex_flow": null,
       "grid_area": null,
       "grid_auto_columns": null,
       "grid_auto_flow": null,
       "grid_auto_rows": null,
       "grid_column": null,
       "grid_gap": null,
       "grid_row": null,
       "grid_template_areas": null,
       "grid_template_columns": null,
       "grid_template_rows": null,
       "height": null,
       "justify_content": null,
       "justify_items": null,
       "left": null,
       "margin": null,
       "max_height": null,
       "max_width": null,
       "min_height": null,
       "min_width": null,
       "object_fit": null,
       "object_position": null,
       "order": null,
       "overflow": null,
       "overflow_x": null,
       "overflow_y": null,
       "padding": null,
       "right": null,
       "top": null,
       "visibility": null,
       "width": null
      }
     },
     "ba07872fe3de43b3bafbc249fb2952f3": {
      "model_module": "@jupyter-widgets/base",
      "model_module_version": "1.2.0",
      "model_name": "LayoutModel",
      "state": {
       "_model_module": "@jupyter-widgets/base",
       "_model_module_version": "1.2.0",
       "_model_name": "LayoutModel",
       "_view_count": null,
       "_view_module": "@jupyter-widgets/base",
       "_view_module_version": "1.2.0",
       "_view_name": "LayoutView",
       "align_content": null,
       "align_items": null,
       "align_self": null,
       "border": null,
       "bottom": null,
       "display": null,
       "flex": null,
       "flex_flow": null,
       "grid_area": null,
       "grid_auto_columns": null,
       "grid_auto_flow": null,
       "grid_auto_rows": null,
       "grid_column": null,
       "grid_gap": null,
       "grid_row": null,
       "grid_template_areas": null,
       "grid_template_columns": null,
       "grid_template_rows": null,
       "height": null,
       "justify_content": null,
       "justify_items": null,
       "left": null,
       "margin": null,
       "max_height": null,
       "max_width": null,
       "min_height": null,
       "min_width": null,
       "object_fit": null,
       "object_position": null,
       "order": null,
       "overflow": null,
       "overflow_x": null,
       "overflow_y": null,
       "padding": null,
       "right": null,
       "top": null,
       "visibility": null,
       "width": null
      }
     },
     "bcb6c003e09c4719a3b55f21253abbf3": {
      "model_module": "@jupyter-widgets/controls",
      "model_module_version": "1.5.0",
      "model_name": "ProgressStyleModel",
      "state": {
       "_model_module": "@jupyter-widgets/controls",
       "_model_module_version": "1.5.0",
       "_model_name": "ProgressStyleModel",
       "_view_count": null,
       "_view_module": "@jupyter-widgets/base",
       "_view_module_version": "1.2.0",
       "_view_name": "StyleView",
       "bar_color": null,
       "description_width": ""
      }
     },
     "c171a00ddaf44b1fa815b075d2f321af": {
      "model_module": "@jupyter-widgets/base",
      "model_module_version": "1.2.0",
      "model_name": "LayoutModel",
      "state": {
       "_model_module": "@jupyter-widgets/base",
       "_model_module_version": "1.2.0",
       "_model_name": "LayoutModel",
       "_view_count": null,
       "_view_module": "@jupyter-widgets/base",
       "_view_module_version": "1.2.0",
       "_view_name": "LayoutView",
       "align_content": null,
       "align_items": null,
       "align_self": null,
       "border": null,
       "bottom": null,
       "display": null,
       "flex": null,
       "flex_flow": null,
       "grid_area": null,
       "grid_auto_columns": null,
       "grid_auto_flow": null,
       "grid_auto_rows": null,
       "grid_column": null,
       "grid_gap": null,
       "grid_row": null,
       "grid_template_areas": null,
       "grid_template_columns": null,
       "grid_template_rows": null,
       "height": null,
       "justify_content": null,
       "justify_items": null,
       "left": null,
       "margin": null,
       "max_height": null,
       "max_width": null,
       "min_height": null,
       "min_width": null,
       "object_fit": null,
       "object_position": null,
       "order": null,
       "overflow": null,
       "overflow_x": null,
       "overflow_y": null,
       "padding": null,
       "right": null,
       "top": null,
       "visibility": null,
       "width": null
      }
     },
     "c1fc3b585bcc45388883838355161615": {
      "model_module": "@jupyter-widgets/controls",
      "model_module_version": "1.5.0",
      "model_name": "HTMLModel",
      "state": {
       "_dom_classes": [],
       "_model_module": "@jupyter-widgets/controls",
       "_model_module_version": "1.5.0",
       "_model_name": "HTMLModel",
       "_view_count": null,
       "_view_module": "@jupyter-widgets/controls",
       "_view_module_version": "1.5.0",
       "_view_name": "HTMLView",
       "description": "",
       "description_tooltip": null,
       "layout": "IPY_MODEL_6dc76e3426cc4c5d8a33478ac5ba3148",
       "placeholder": "​",
       "style": "IPY_MODEL_24efc81b3314446b8a7039c0e1d65a00",
       "value": " 499M/499M [00:01&lt;00:00, 373MB/s]"
      }
     },
     "c3d738a02bc2474a9f0bbb3c64a6e732": {
      "model_module": "@jupyter-widgets/base",
      "model_module_version": "1.2.0",
      "model_name": "LayoutModel",
      "state": {
       "_model_module": "@jupyter-widgets/base",
       "_model_module_version": "1.2.0",
       "_model_name": "LayoutModel",
       "_view_count": null,
       "_view_module": "@jupyter-widgets/base",
       "_view_module_version": "1.2.0",
       "_view_name": "LayoutView",
       "align_content": null,
       "align_items": null,
       "align_self": null,
       "border": null,
       "bottom": null,
       "display": null,
       "flex": null,
       "flex_flow": null,
       "grid_area": null,
       "grid_auto_columns": null,
       "grid_auto_flow": null,
       "grid_auto_rows": null,
       "grid_column": null,
       "grid_gap": null,
       "grid_row": null,
       "grid_template_areas": null,
       "grid_template_columns": null,
       "grid_template_rows": null,
       "height": null,
       "justify_content": null,
       "justify_items": null,
       "left": null,
       "margin": null,
       "max_height": null,
       "max_width": null,
       "min_height": null,
       "min_width": null,
       "object_fit": null,
       "object_position": null,
       "order": null,
       "overflow": null,
       "overflow_x": null,
       "overflow_y": null,
       "padding": null,
       "right": null,
       "top": null,
       "visibility": null,
       "width": null
      }
     },
     "c6f3b2fe6e86445090d17f1508536861": {
      "model_module": "@jupyter-widgets/base",
      "model_module_version": "1.2.0",
      "model_name": "LayoutModel",
      "state": {
       "_model_module": "@jupyter-widgets/base",
       "_model_module_version": "1.2.0",
       "_model_name": "LayoutModel",
       "_view_count": null,
       "_view_module": "@jupyter-widgets/base",
       "_view_module_version": "1.2.0",
       "_view_name": "LayoutView",
       "align_content": null,
       "align_items": null,
       "align_self": null,
       "border": null,
       "bottom": null,
       "display": null,
       "flex": null,
       "flex_flow": null,
       "grid_area": null,
       "grid_auto_columns": null,
       "grid_auto_flow": null,
       "grid_auto_rows": null,
       "grid_column": null,
       "grid_gap": null,
       "grid_row": null,
       "grid_template_areas": null,
       "grid_template_columns": null,
       "grid_template_rows": null,
       "height": null,
       "justify_content": null,
       "justify_items": null,
       "left": null,
       "margin": null,
       "max_height": null,
       "max_width": null,
       "min_height": null,
       "min_width": null,
       "object_fit": null,
       "object_position": null,
       "order": null,
       "overflow": null,
       "overflow_x": null,
       "overflow_y": null,
       "padding": null,
       "right": null,
       "top": null,
       "visibility": null,
       "width": null
      }
     },
     "c8045ceb7e01491d98a880cb4c825b1a": {
      "model_module": "@jupyter-widgets/controls",
      "model_module_version": "1.5.0",
      "model_name": "DescriptionStyleModel",
      "state": {
       "_model_module": "@jupyter-widgets/controls",
       "_model_module_version": "1.5.0",
       "_model_name": "DescriptionStyleModel",
       "_view_count": null,
       "_view_module": "@jupyter-widgets/base",
       "_view_module_version": "1.2.0",
       "_view_name": "StyleView",
       "description_width": ""
      }
     },
     "cbf5ba139d5b4fd88cdbd201624df1de": {
      "model_module": "@jupyter-widgets/base",
      "model_module_version": "1.2.0",
      "model_name": "LayoutModel",
      "state": {
       "_model_module": "@jupyter-widgets/base",
       "_model_module_version": "1.2.0",
       "_model_name": "LayoutModel",
       "_view_count": null,
       "_view_module": "@jupyter-widgets/base",
       "_view_module_version": "1.2.0",
       "_view_name": "LayoutView",
       "align_content": null,
       "align_items": null,
       "align_self": null,
       "border": null,
       "bottom": null,
       "display": null,
       "flex": null,
       "flex_flow": null,
       "grid_area": null,
       "grid_auto_columns": null,
       "grid_auto_flow": null,
       "grid_auto_rows": null,
       "grid_column": null,
       "grid_gap": null,
       "grid_row": null,
       "grid_template_areas": null,
       "grid_template_columns": null,
       "grid_template_rows": null,
       "height": null,
       "justify_content": null,
       "justify_items": null,
       "left": null,
       "margin": null,
       "max_height": null,
       "max_width": null,
       "min_height": null,
       "min_width": null,
       "object_fit": null,
       "object_position": null,
       "order": null,
       "overflow": null,
       "overflow_x": null,
       "overflow_y": null,
       "padding": null,
       "right": null,
       "top": null,
       "visibility": null,
       "width": null
      }
     },
     "d2e022018137401aa1ba4d113fa5b6ac": {
      "model_module": "@jupyter-widgets/controls",
      "model_module_version": "1.5.0",
      "model_name": "HTMLModel",
      "state": {
       "_dom_classes": [],
       "_model_module": "@jupyter-widgets/controls",
       "_model_module_version": "1.5.0",
       "_model_name": "HTMLModel",
       "_view_count": null,
       "_view_module": "@jupyter-widgets/controls",
       "_view_module_version": "1.5.0",
       "_view_name": "HTMLView",
       "description": "",
       "description_tooltip": null,
       "layout": "IPY_MODEL_e3fdb8b1ea044c32a6e12e00f9236560",
       "placeholder": "​",
       "style": "IPY_MODEL_4b495dd841be4772bb675cec46815132",
       "value": "vocab.json: 100%"
      }
     },
     "d337008ce7984fed8b019397df10b156": {
      "model_module": "@jupyter-widgets/base",
      "model_module_version": "1.2.0",
      "model_name": "LayoutModel",
      "state": {
       "_model_module": "@jupyter-widgets/base",
       "_model_module_version": "1.2.0",
       "_model_name": "LayoutModel",
       "_view_count": null,
       "_view_module": "@jupyter-widgets/base",
       "_view_module_version": "1.2.0",
       "_view_name": "LayoutView",
       "align_content": null,
       "align_items": null,
       "align_self": null,
       "border": null,
       "bottom": null,
       "display": null,
       "flex": null,
       "flex_flow": null,
       "grid_area": null,
       "grid_auto_columns": null,
       "grid_auto_flow": null,
       "grid_auto_rows": null,
       "grid_column": null,
       "grid_gap": null,
       "grid_row": null,
       "grid_template_areas": null,
       "grid_template_columns": null,
       "grid_template_rows": null,
       "height": null,
       "justify_content": null,
       "justify_items": null,
       "left": null,
       "margin": null,
       "max_height": null,
       "max_width": null,
       "min_height": null,
       "min_width": null,
       "object_fit": null,
       "object_position": null,
       "order": null,
       "overflow": null,
       "overflow_x": null,
       "overflow_y": null,
       "padding": null,
       "right": null,
       "top": null,
       "visibility": null,
       "width": null
      }
     },
     "dce2610803734e048b17642911403de7": {
      "model_module": "@jupyter-widgets/controls",
      "model_module_version": "1.5.0",
      "model_name": "FloatProgressModel",
      "state": {
       "_dom_classes": [],
       "_model_module": "@jupyter-widgets/controls",
       "_model_module_version": "1.5.0",
       "_model_name": "FloatProgressModel",
       "_view_count": null,
       "_view_module": "@jupyter-widgets/controls",
       "_view_module_version": "1.5.0",
       "_view_name": "ProgressView",
       "bar_style": "success",
       "description": "",
       "description_tooltip": null,
       "layout": "IPY_MODEL_0acaadcf0b3743a5a4743c1cc2a82f2c",
       "max": 2000.0,
       "min": 0.0,
       "orientation": "horizontal",
       "style": "IPY_MODEL_8c1ea8568d5b4135aec9bb0aa5e82646",
       "value": 2000.0
      }
     },
     "e1228b5ef99a499596becd37e12f2b3c": {
      "model_module": "@jupyter-widgets/controls",
      "model_module_version": "1.5.0",
      "model_name": "HTMLModel",
      "state": {
       "_dom_classes": [],
       "_model_module": "@jupyter-widgets/controls",
       "_model_module_version": "1.5.0",
       "_model_name": "HTMLModel",
       "_view_count": null,
       "_view_module": "@jupyter-widgets/controls",
       "_view_module_version": "1.5.0",
       "_view_name": "HTMLView",
       "description": "",
       "description_tooltip": null,
       "layout": "IPY_MODEL_c3d738a02bc2474a9f0bbb3c64a6e732",
       "placeholder": "​",
       "style": "IPY_MODEL_c8045ceb7e01491d98a880cb4c825b1a",
       "value": " 2000/2000 [00:05]"
      }
     },
     "e3fdb8b1ea044c32a6e12e00f9236560": {
      "model_module": "@jupyter-widgets/base",
      "model_module_version": "1.2.0",
      "model_name": "LayoutModel",
      "state": {
       "_model_module": "@jupyter-widgets/base",
       "_model_module_version": "1.2.0",
       "_model_name": "LayoutModel",
       "_view_count": null,
       "_view_module": "@jupyter-widgets/base",
       "_view_module_version": "1.2.0",
       "_view_name": "LayoutView",
       "align_content": null,
       "align_items": null,
       "align_self": null,
       "border": null,
       "bottom": null,
       "display": null,
       "flex": null,
       "flex_flow": null,
       "grid_area": null,
       "grid_auto_columns": null,
       "grid_auto_flow": null,
       "grid_auto_rows": null,
       "grid_column": null,
       "grid_gap": null,
       "grid_row": null,
       "grid_template_areas": null,
       "grid_template_columns": null,
       "grid_template_rows": null,
       "height": null,
       "justify_content": null,
       "justify_items": null,
       "left": null,
       "margin": null,
       "max_height": null,
       "max_width": null,
       "min_height": null,
       "min_width": null,
       "object_fit": null,
       "object_position": null,
       "order": null,
       "overflow": null,
       "overflow_x": null,
       "overflow_y": null,
       "padding": null,
       "right": null,
       "top": null,
       "visibility": null,
       "width": null
      }
     },
     "e752e74597ec4b28af60e13e8ca5bb4c": {
      "model_module": "@jupyter-widgets/controls",
      "model_module_version": "1.5.0",
      "model_name": "DescriptionStyleModel",
      "state": {
       "_model_module": "@jupyter-widgets/controls",
       "_model_module_version": "1.5.0",
       "_model_name": "DescriptionStyleModel",
       "_view_count": null,
       "_view_module": "@jupyter-widgets/base",
       "_view_module_version": "1.2.0",
       "_view_name": "StyleView",
       "description_width": ""
      }
     },
     "e99b609adec44f34af9bb81887470c8e": {
      "model_module": "@jupyter-widgets/controls",
      "model_module_version": "1.5.0",
      "model_name": "HTMLModel",
      "state": {
       "_dom_classes": [],
       "_model_module": "@jupyter-widgets/controls",
       "_model_module_version": "1.5.0",
       "_model_name": "HTMLModel",
       "_view_count": null,
       "_view_module": "@jupyter-widgets/controls",
       "_view_module_version": "1.5.0",
       "_view_name": "HTMLView",
       "description": "",
       "description_tooltip": null,
       "layout": "IPY_MODEL_d337008ce7984fed8b019397df10b156",
       "placeholder": "​",
       "style": "IPY_MODEL_423520b05fea41d9900a7d4fa43905a9",
       "value": "config.json: 100%"
      }
     },
     "eaad7eb45da542dd8fe979fe4cdefe7d": {
      "model_module": "@jupyter-widgets/controls",
      "model_module_version": "1.5.0",
      "model_name": "HTMLModel",
      "state": {
       "_dom_classes": [],
       "_model_module": "@jupyter-widgets/controls",
       "_model_module_version": "1.5.0",
       "_model_name": "HTMLModel",
       "_view_count": null,
       "_view_module": "@jupyter-widgets/controls",
       "_view_module_version": "1.5.0",
       "_view_name": "HTMLView",
       "description": "",
       "description_tooltip": null,
       "layout": "IPY_MODEL_46d32d8d66864303a0c8627104eb1953",
       "placeholder": "​",
       "style": "IPY_MODEL_174ac8f2f4fe4a10b9f8f344d1fcba62",
       "value": " 456k/456k [00:00&lt;00:00, 764kB/s]"
      }
     },
     "eac06aff9b8642749daef14c8b6a430d": {
      "model_module": "@jupyter-widgets/controls",
      "model_module_version": "1.5.0",
      "model_name": "HBoxModel",
      "state": {
       "_dom_classes": [],
       "_model_module": "@jupyter-widgets/controls",
       "_model_module_version": "1.5.0",
       "_model_name": "HBoxModel",
       "_view_count": null,
       "_view_module": "@jupyter-widgets/controls",
       "_view_module_version": "1.5.0",
       "_view_name": "HBoxView",
       "box_style": "",
       "children": [
        "IPY_MODEL_e99b609adec44f34af9bb81887470c8e",
        "IPY_MODEL_6cabfcfdaa1d4ae18b79d3f4bb10db00",
        "IPY_MODEL_9b1498b72ae046f78c9c00fa99ad14ec"
       ],
       "layout": "IPY_MODEL_fd74c780ef0c4469bcfb7a3d5d8822e3"
      }
     },
     "ee4c83d3355f4935b7057bfb550875fb": {
      "model_module": "@jupyter-widgets/controls",
      "model_module_version": "1.5.0",
      "model_name": "HTMLModel",
      "state": {
       "_dom_classes": [],
       "_model_module": "@jupyter-widgets/controls",
       "_model_module_version": "1.5.0",
       "_model_name": "HTMLModel",
       "_view_count": null,
       "_view_module": "@jupyter-widgets/controls",
       "_view_module_version": "1.5.0",
       "_view_name": "HTMLView",
       "description": "",
       "description_tooltip": null,
       "layout": "IPY_MODEL_23e6d412b5c24fccade544a1a5cee64f",
       "placeholder": "​",
       "style": "IPY_MODEL_e752e74597ec4b28af60e13e8ca5bb4c",
       "value": "special_tokens_map.json: 100%"
      }
     },
     "f40a7c57e7fc4894b1d36b0796a4cc22": {
      "model_module": "@jupyter-widgets/base",
      "model_module_version": "1.2.0",
      "model_name": "LayoutModel",
      "state": {
       "_model_module": "@jupyter-widgets/base",
       "_model_module_version": "1.2.0",
       "_model_name": "LayoutModel",
       "_view_count": null,
       "_view_module": "@jupyter-widgets/base",
       "_view_module_version": "1.2.0",
       "_view_name": "LayoutView",
       "align_content": null,
       "align_items": null,
       "align_self": null,
       "border": null,
       "bottom": null,
       "display": null,
       "flex": null,
       "flex_flow": null,
       "grid_area": null,
       "grid_auto_columns": null,
       "grid_auto_flow": null,
       "grid_auto_rows": null,
       "grid_column": null,
       "grid_gap": null,
       "grid_row": null,
       "grid_template_areas": null,
       "grid_template_columns": null,
       "grid_template_rows": null,
       "height": null,
       "justify_content": null,
       "justify_items": null,
       "left": null,
       "margin": null,
       "max_height": null,
       "max_width": null,
       "min_height": null,
       "min_width": null,
       "object_fit": null,
       "object_position": null,
       "order": null,
       "overflow": null,
       "overflow_x": null,
       "overflow_y": null,
       "padding": null,
       "right": null,
       "top": null,
       "visibility": null,
       "width": null
      }
     },
     "f4a9f9334e6e4272a7e22dc0ffd85f32": {
      "model_module": "@jupyter-widgets/base",
      "model_module_version": "1.2.0",
      "model_name": "LayoutModel",
      "state": {
       "_model_module": "@jupyter-widgets/base",
       "_model_module_version": "1.2.0",
       "_model_name": "LayoutModel",
       "_view_count": null,
       "_view_module": "@jupyter-widgets/base",
       "_view_module_version": "1.2.0",
       "_view_name": "LayoutView",
       "align_content": null,
       "align_items": null,
       "align_self": null,
       "border": null,
       "bottom": null,
       "display": null,
       "flex": null,
       "flex_flow": null,
       "grid_area": null,
       "grid_auto_columns": null,
       "grid_auto_flow": null,
       "grid_auto_rows": null,
       "grid_column": null,
       "grid_gap": null,
       "grid_row": null,
       "grid_template_areas": null,
       "grid_template_columns": null,
       "grid_template_rows": null,
       "height": null,
       "justify_content": null,
       "justify_items": null,
       "left": null,
       "margin": null,
       "max_height": null,
       "max_width": null,
       "min_height": null,
       "min_width": null,
       "object_fit": null,
       "object_position": null,
       "order": null,
       "overflow": null,
       "overflow_x": null,
       "overflow_y": null,
       "padding": null,
       "right": null,
       "top": null,
       "visibility": null,
       "width": null
      }
     },
     "f794d2c8e82e4756b79691f2c99da38e": {
      "model_module": "@jupyter-widgets/controls",
      "model_module_version": "1.5.0",
      "model_name": "DescriptionStyleModel",
      "state": {
       "_model_module": "@jupyter-widgets/controls",
       "_model_module_version": "1.5.0",
       "_model_name": "DescriptionStyleModel",
       "_view_count": null,
       "_view_module": "@jupyter-widgets/base",
       "_view_module_version": "1.2.0",
       "_view_name": "StyleView",
       "description_width": ""
      }
     },
     "f8031baf5568498cafe19d0fd8521a9d": {
      "model_module": "@jupyter-widgets/controls",
      "model_module_version": "1.5.0",
      "model_name": "HTMLModel",
      "state": {
       "_dom_classes": [],
       "_model_module": "@jupyter-widgets/controls",
       "_model_module_version": "1.5.0",
       "_model_name": "HTMLModel",
       "_view_count": null,
       "_view_module": "@jupyter-widgets/controls",
       "_view_module_version": "1.5.0",
       "_view_name": "HTMLView",
       "description": "",
       "description_tooltip": null,
       "layout": "IPY_MODEL_7101140735ae48f29d7460d47e691398",
       "placeholder": "​",
       "style": "IPY_MODEL_65ac4eb4a6e647269813b608c5428809",
       "value": "Epochs completed: 100%| "
      }
     },
     "fc5c1221a723427dabca4f925dbfa8aa": {
      "model_module": "@jupyter-widgets/base",
      "model_module_version": "1.2.0",
      "model_name": "LayoutModel",
      "state": {
       "_model_module": "@jupyter-widgets/base",
       "_model_module_version": "1.2.0",
       "_model_name": "LayoutModel",
       "_view_count": null,
       "_view_module": "@jupyter-widgets/base",
       "_view_module_version": "1.2.0",
       "_view_name": "LayoutView",
       "align_content": null,
       "align_items": null,
       "align_self": null,
       "border": null,
       "bottom": null,
       "display": null,
       "flex": null,
       "flex_flow": null,
       "grid_area": null,
       "grid_auto_columns": null,
       "grid_auto_flow": null,
       "grid_auto_rows": null,
       "grid_column": null,
       "grid_gap": null,
       "grid_row": null,
       "grid_template_areas": null,
       "grid_template_columns": null,
       "grid_template_rows": null,
       "height": null,
       "justify_content": null,
       "justify_items": null,
       "left": null,
       "margin": null,
       "max_height": null,
       "max_width": null,
       "min_height": null,
       "min_width": null,
       "object_fit": null,
       "object_position": null,
       "order": null,
       "overflow": null,
       "overflow_x": null,
       "overflow_y": null,
       "padding": null,
       "right": null,
       "top": null,
       "visibility": null,
       "width": null
      }
     },
     "fd74c780ef0c4469bcfb7a3d5d8822e3": {
      "model_module": "@jupyter-widgets/base",
      "model_module_version": "1.2.0",
      "model_name": "LayoutModel",
      "state": {
       "_model_module": "@jupyter-widgets/base",
       "_model_module_version": "1.2.0",
       "_model_name": "LayoutModel",
       "_view_count": null,
       "_view_module": "@jupyter-widgets/base",
       "_view_module_version": "1.2.0",
       "_view_name": "LayoutView",
       "align_content": null,
       "align_items": null,
       "align_self": null,
       "border": null,
       "bottom": null,
       "display": null,
       "flex": null,
       "flex_flow": null,
       "grid_area": null,
       "grid_auto_columns": null,
       "grid_auto_flow": null,
       "grid_auto_rows": null,
       "grid_column": null,
       "grid_gap": null,
       "grid_row": null,
       "grid_template_areas": null,
       "grid_template_columns": null,
       "grid_template_rows": null,
       "height": null,
       "justify_content": null,
       "justify_items": null,
       "left": null,
       "margin": null,
       "max_height": null,
       "max_width": null,
       "min_height": null,
       "min_width": null,
       "object_fit": null,
       "object_position": null,
       "order": null,
       "overflow": null,
       "overflow_x": null,
       "overflow_y": null,
       "padding": null,
       "right": null,
       "top": null,
       "visibility": null,
       "width": null
      }
     }
    },
    "version_major": 2,
    "version_minor": 0
   }
  }
 },
 "nbformat": 4,
 "nbformat_minor": 5
}
