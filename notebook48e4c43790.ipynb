{
 "cells": [
  {
   "cell_type": "code",
   "execution_count": 1,
   "id": "935b2f47",
   "metadata": {
    "execution": {
     "iopub.execute_input": "2023-09-09T18:37:13.084715Z",
     "iopub.status.busy": "2023-09-09T18:37:13.084155Z",
     "iopub.status.idle": "2023-09-09T18:37:13.638440Z",
     "shell.execute_reply": "2023-09-09T18:37:13.637445Z"
    },
    "papermill": {
     "duration": 0.565587,
     "end_time": "2023-09-09T18:37:13.643296",
     "exception": false,
     "start_time": "2023-09-09T18:37:13.077709",
     "status": "completed"
    },
    "tags": []
   },
   "outputs": [
    {
     "data": {
      "text/html": [
       "<div>\n",
       "<style scoped>\n",
       "    .dataframe tbody tr th:only-of-type {\n",
       "        vertical-align: middle;\n",
       "    }\n",
       "\n",
       "    .dataframe tbody tr th {\n",
       "        vertical-align: top;\n",
       "    }\n",
       "\n",
       "    .dataframe thead th {\n",
       "        text-align: right;\n",
       "    }\n",
       "</style>\n",
       "<table border=\"1\" class=\"dataframe\">\n",
       "  <thead>\n",
       "    <tr style=\"text-align: right;\">\n",
       "      <th></th>\n",
       "      <th>Popularity</th>\n",
       "      <th>Title</th>\n",
       "      <th>Genre</th>\n",
       "      <th>User Rating</th>\n",
       "      <th>Number of Votes</th>\n",
       "      <th>Runtime</th>\n",
       "      <th>Year</th>\n",
       "      <th>Summary</th>\n",
       "      <th>Director</th>\n",
       "      <th>Stars</th>\n",
       "      <th>Certificate</th>\n",
       "    </tr>\n",
       "  </thead>\n",
       "  <tbody>\n",
       "    <tr>\n",
       "      <th>0</th>\n",
       "      <td>0</td>\n",
       "      <td>Baldur's Gate III</td>\n",
       "      <td>Action, Adventure, Fantasy</td>\n",
       "      <td>9.8</td>\n",
       "      <td>1,130</td>\n",
       "      <td>NaN</td>\n",
       "      <td>2023.0</td>\n",
       "      <td>Return to the Faerun in a tale of fellowship a...</td>\n",
       "      <td>Swen Vincke,</td>\n",
       "      <td>Amelia Tyler, Neil Newbon, Jennifer English, D...</td>\n",
       "      <td>M</td>\n",
       "    </tr>\n",
       "    <tr>\n",
       "      <th>1</th>\n",
       "      <td>1</td>\n",
       "      <td>Starfield</td>\n",
       "      <td>Action, Adventure, Drama</td>\n",
       "      <td>8.7</td>\n",
       "      <td>524</td>\n",
       "      <td>NaN</td>\n",
       "      <td>2023.0</td>\n",
       "      <td>Set 300 years in the future, the player will a...</td>\n",
       "      <td>Todd Howard,</td>\n",
       "      <td>Sumalee Montano, Damien C. Haas, Barry Wiggins...</td>\n",
       "      <td>M</td>\n",
       "    </tr>\n",
       "    <tr>\n",
       "      <th>2</th>\n",
       "      <td>2</td>\n",
       "      <td>Red Dead Redemption II</td>\n",
       "      <td>Action, Adventure, Crime</td>\n",
       "      <td>9.7</td>\n",
       "      <td>47,844</td>\n",
       "      <td>NaN</td>\n",
       "      <td>2018.0</td>\n",
       "      <td>Amidst the decline of the Wild West at the tur...</td>\n",
       "      <td>NaN</td>\n",
       "      <td>Benjamin Byron Davis, Roger Clark, Rob Wiethof...</td>\n",
       "      <td>M</td>\n",
       "    </tr>\n",
       "    <tr>\n",
       "      <th>3</th>\n",
       "      <td>3</td>\n",
       "      <td>Armored Core VI: Fires of Rubicon</td>\n",
       "      <td>Action, Adventure, Sci-Fi</td>\n",
       "      <td>7.9</td>\n",
       "      <td>114</td>\n",
       "      <td>NaN</td>\n",
       "      <td>2023.0</td>\n",
       "      <td>Fifty years after a cataclysm caused by a subs...</td>\n",
       "      <td>Masaru Yamamura, Kenneth Kin Yue Chan, Hidetak...</td>\n",
       "      <td>Fairouz Ai, Takayuki Sakazume, Megumi Han, Aya...</td>\n",
       "      <td>T</td>\n",
       "    </tr>\n",
       "    <tr>\n",
       "      <th>4</th>\n",
       "      <td>4</td>\n",
       "      <td>The Quarry</td>\n",
       "      <td>Action, Adventure, Drama</td>\n",
       "      <td>8.0</td>\n",
       "      <td>4,625</td>\n",
       "      <td>NaN</td>\n",
       "      <td>2022.0</td>\n",
       "      <td>When the sun goes down on the last night of su...</td>\n",
       "      <td>Will Byles,</td>\n",
       "      <td>Siobhan Williams, Skyler Gisondo, Ted Raimi, G...</td>\n",
       "      <td>M</td>\n",
       "    </tr>\n",
       "  </tbody>\n",
       "</table>\n",
       "</div>"
      ],
      "text/plain": [
       "   Popularity                              Title                       Genre  \\\n",
       "0           0                  Baldur's Gate III  Action, Adventure, Fantasy   \n",
       "1           1                          Starfield    Action, Adventure, Drama   \n",
       "2           2             Red Dead Redemption II    Action, Adventure, Crime   \n",
       "3           3  Armored Core VI: Fires of Rubicon   Action, Adventure, Sci-Fi   \n",
       "4           4                         The Quarry    Action, Adventure, Drama   \n",
       "\n",
       "   User Rating Number of Votes Runtime    Year  \\\n",
       "0          9.8           1,130     NaN  2023.0   \n",
       "1          8.7             524     NaN  2023.0   \n",
       "2          9.7          47,844     NaN  2018.0   \n",
       "3          7.9             114     NaN  2023.0   \n",
       "4          8.0           4,625     NaN  2022.0   \n",
       "\n",
       "                                             Summary  \\\n",
       "0  Return to the Faerun in a tale of fellowship a...   \n",
       "1  Set 300 years in the future, the player will a...   \n",
       "2  Amidst the decline of the Wild West at the tur...   \n",
       "3  Fifty years after a cataclysm caused by a subs...   \n",
       "4  When the sun goes down on the last night of su...   \n",
       "\n",
       "                                            Director  \\\n",
       "0                                       Swen Vincke,   \n",
       "1                                       Todd Howard,   \n",
       "2                                                NaN   \n",
       "3  Masaru Yamamura, Kenneth Kin Yue Chan, Hidetak...   \n",
       "4                                        Will Byles,   \n",
       "\n",
       "                                               Stars Certificate  \n",
       "0  Amelia Tyler, Neil Newbon, Jennifer English, D...           M  \n",
       "1  Sumalee Montano, Damien C. Haas, Barry Wiggins...           M  \n",
       "2  Benjamin Byron Davis, Roger Clark, Rob Wiethof...           M  \n",
       "3  Fairouz Ai, Takayuki Sakazume, Megumi Han, Aya...           T  \n",
       "4  Siobhan Williams, Skyler Gisondo, Ted Raimi, G...           M  "
      ]
     },
     "execution_count": 1,
     "metadata": {},
     "output_type": "execute_result"
    }
   ],
   "source": [
    "import pandas as pd\n",
    "df = pd.read_csv(filepath_or_buffer='/kaggle/input/imdb-video-games-dataset/imdb_video_games.csv')\n",
    "df.head()"
   ]
  },
  {
   "cell_type": "code",
   "execution_count": 2,
   "id": "a8456f27",
   "metadata": {
    "execution": {
     "iopub.execute_input": "2023-09-09T18:37:13.653130Z",
     "iopub.status.busy": "2023-09-09T18:37:13.652773Z",
     "iopub.status.idle": "2023-09-09T18:37:13.690709Z",
     "shell.execute_reply": "2023-09-09T18:37:13.689479Z"
    },
    "papermill": {
     "duration": 0.045441,
     "end_time": "2023-09-09T18:37:13.693047",
     "exception": false,
     "start_time": "2023-09-09T18:37:13.647606",
     "status": "completed"
    },
    "tags": []
   },
   "outputs": [
    {
     "name": "stdout",
     "output_type": "stream",
     "text": [
      "<class 'pandas.core.frame.DataFrame'>\n",
      "RangeIndex: 14682 entries, 0 to 14681\n",
      "Data columns (total 11 columns):\n",
      " #   Column           Non-Null Count  Dtype  \n",
      "---  ------           --------------  -----  \n",
      " 0   Popularity       14682 non-null  int64  \n",
      " 1   Title            14682 non-null  object \n",
      " 2   Genre            14682 non-null  object \n",
      " 3   User Rating      8654 non-null   float64\n",
      " 4   Number of Votes  8654 non-null   object \n",
      " 5   Runtime          101 non-null    object \n",
      " 6   Year             14463 non-null  float64\n",
      " 7   Summary          8480 non-null   object \n",
      " 8   Director         3967 non-null   object \n",
      " 9   Stars            8617 non-null   object \n",
      " 10  Certificate      6704 non-null   object \n",
      "dtypes: float64(2), int64(1), object(8)\n",
      "memory usage: 1.2+ MB\n"
     ]
    }
   ],
   "source": [
    "df.info()"
   ]
  },
  {
   "cell_type": "code",
   "execution_count": null,
   "id": "d18afecd",
   "metadata": {
    "papermill": {
     "duration": 0.003662,
     "end_time": "2023-09-09T18:37:13.700806",
     "exception": false,
     "start_time": "2023-09-09T18:37:13.697144",
     "status": "completed"
    },
    "tags": []
   },
   "outputs": [],
   "source": []
  }
 ],
 "kernelspec": {
  "display_name": "Python 3",
  "language": "python",
  "name": "python3"
 },
 "language_info": {
  "codemirror_mode": {
   "name": "ipython",
   "version": 3
  },
  "file_extension": ".py",
  "mimetype": "text/x-python",
  "name": "python",
  "nbconvert_exporter": "python",
  "pygments_lexer": "ipython3",
  "version": "3.6.4"
 },
 "metadata": {
  "kernelspec": {
   "display_name": "Python 3",
   "language": "python",
   "name": "python3"
  },
  "language_info": {
   "codemirror_mode": {
    "name": "ipython",
    "version": 3
   },
   "file_extension": ".py",
   "mimetype": "text/x-python",
   "name": "python",
   "nbconvert_exporter": "python",
   "pygments_lexer": "ipython3",
   "version": "3.10.12"
  },
  "papermill": {
   "default_parameters": {},
   "duration": 4.510407,
   "end_time": "2023-09-09T18:37:14.124293",
   "environment_variables": {},
   "exception": null,
   "input_path": "__notebook__.ipynb",
   "output_path": "__notebook__.ipynb",
   "parameters": {},
   "start_time": "2023-09-09T18:37:09.613886",
   "version": "2.4.0"
  }
 },
 "nbformat": 4,
 "nbformat_minor": 5
}
