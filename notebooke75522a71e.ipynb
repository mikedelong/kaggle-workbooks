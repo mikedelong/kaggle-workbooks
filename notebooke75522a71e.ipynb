{
 "cells": [
  {
   "cell_type": "code",
   "execution_count": 1,
   "id": "0b8675e4",
   "metadata": {
    "_cell_guid": "b1076dfc-b9ad-4769-8c92-a6c4dae69d19",
    "_uuid": "8f2839f25d086af736a60e9eeb907d3b93b6e0e5",
    "execution": {
     "iopub.execute_input": "2024-01-30T19:37:38.578576Z",
     "iopub.status.busy": "2024-01-30T19:37:38.577585Z",
     "iopub.status.idle": "2024-01-30T19:37:39.710566Z",
     "shell.execute_reply": "2024-01-30T19:37:39.709248Z"
    },
    "papermill": {
     "duration": 1.141978,
     "end_time": "2024-01-30T19:37:39.713311",
     "exception": false,
     "start_time": "2024-01-30T19:37:38.571333",
     "status": "completed"
    },
    "tags": []
   },
   "outputs": [
    {
     "data": {
      "text/html": [
       "<div>\n",
       "<style scoped>\n",
       "    .dataframe tbody tr th:only-of-type {\n",
       "        vertical-align: middle;\n",
       "    }\n",
       "\n",
       "    .dataframe tbody tr th {\n",
       "        vertical-align: top;\n",
       "    }\n",
       "\n",
       "    .dataframe thead th {\n",
       "        text-align: right;\n",
       "    }\n",
       "</style>\n",
       "<table border=\"1\" class=\"dataframe\">\n",
       "  <thead>\n",
       "    <tr style=\"text-align: right;\">\n",
       "      <th></th>\n",
       "      <th>Title</th>\n",
       "      <th>Player</th>\n",
       "      <th>Rating | Ranking</th>\n",
       "      <th>Federation</th>\n",
       "      <th>Rating</th>\n",
       "      <th>Ranking</th>\n",
       "    </tr>\n",
       "  </thead>\n",
       "  <tbody>\n",
       "    <tr>\n",
       "      <th>0</th>\n",
       "      <td>GM</td>\n",
       "      <td>Magnus Carlsen</td>\n",
       "      <td>2830 | #1</td>\n",
       "      <td>Norway</td>\n",
       "      <td>2830</td>\n",
       "      <td>1</td>\n",
       "    </tr>\n",
       "    <tr>\n",
       "      <th>1</th>\n",
       "      <td>GM</td>\n",
       "      <td>Fabiano Caruana</td>\n",
       "      <td>2804 | #2</td>\n",
       "      <td>United States</td>\n",
       "      <td>2804</td>\n",
       "      <td>2</td>\n",
       "    </tr>\n",
       "    <tr>\n",
       "      <th>2</th>\n",
       "      <td>GM</td>\n",
       "      <td>Hikaru Nakamura</td>\n",
       "      <td>2788 | #3</td>\n",
       "      <td>United States</td>\n",
       "      <td>2788</td>\n",
       "      <td>3</td>\n",
       "    </tr>\n",
       "    <tr>\n",
       "      <th>3</th>\n",
       "      <td>GM</td>\n",
       "      <td>Ding Liren</td>\n",
       "      <td>2780 | #4</td>\n",
       "      <td>China</td>\n",
       "      <td>2780</td>\n",
       "      <td>4</td>\n",
       "    </tr>\n",
       "    <tr>\n",
       "      <th>4</th>\n",
       "      <td>GM</td>\n",
       "      <td>Alireza Firouzja</td>\n",
       "      <td>2759 | #5</td>\n",
       "      <td>France</td>\n",
       "      <td>2759</td>\n",
       "      <td>5</td>\n",
       "    </tr>\n",
       "  </tbody>\n",
       "</table>\n",
       "</div>"
      ],
      "text/plain": [
       "  Title            Player Rating | Ranking     Federation  Rating  Ranking\n",
       "0    GM    Magnus Carlsen        2830 | #1         Norway    2830        1\n",
       "1    GM   Fabiano Caruana        2804 | #2  United States    2804        2\n",
       "2    GM   Hikaru Nakamura        2788 | #3  United States    2788        3\n",
       "3    GM        Ding Liren        2780 | #4          China    2780        4\n",
       "4    GM  Alireza Firouzja        2759 | #5         France    2759        5"
      ]
     },
     "execution_count": 1,
     "metadata": {},
     "output_type": "execute_result"
    }
   ],
   "source": [
    "import pandas as pd\n",
    "\n",
    "CHESS = '/kaggle/input/top-chess-players-in-the-world/top_chess_players.csv'\n",
    "\n",
    "# we need to drop some rows with missing values in both Title and Rating/Ranking\n",
    "df = pd.read_csv(filepath_or_buffer=CHESS).dropna()\n",
    "# and we need to split the ratings from the rankings and make them numeric\n",
    "df['Rating'] = df['Rating | Ranking'].apply(func=lambda x: int(x.split('|')[0]))\n",
    "df['Ranking']= df['Rating | Ranking'].apply(func=lambda x: int(x.split('|')[1][2:]))\n",
    "df.head()"
   ]
  },
  {
   "cell_type": "code",
   "execution_count": 2,
   "id": "15c5bbbf",
   "metadata": {
    "execution": {
     "iopub.execute_input": "2024-01-30T19:37:39.723071Z",
     "iopub.status.busy": "2024-01-30T19:37:39.722681Z",
     "iopub.status.idle": "2024-01-30T19:37:42.730669Z",
     "shell.execute_reply": "2024-01-30T19:37:42.729273Z"
    },
    "papermill": {
     "duration": 3.015926,
     "end_time": "2024-01-30T19:37:42.733337",
     "exception": false,
     "start_time": "2024-01-30T19:37:39.717411",
     "status": "completed"
    },
    "tags": []
   },
   "outputs": [
    {
     "name": "stderr",
     "output_type": "stream",
     "text": [
      "/opt/conda/lib/python3.10/site-packages/plotly/express/_core.py:2065: FutureWarning: When grouping with a length-1 list-like, you will need to pass a length-1 tuple to get_group in a future version of pandas. Pass `(name,)` instead of `name` to silence this warning.\n",
      "  sf: grouped.get_group(s if len(s) > 1 else s[0])\n"
     ]
    },
    {
     "data": {
      "text/html": [
       "        <script type=\"text/javascript\">\n",
       "        window.PlotlyConfig = {MathJaxConfig: 'local'};\n",
       "        if (window.MathJax && window.MathJax.Hub && window.MathJax.Hub.Config) {window.MathJax.Hub.Config({SVG: {font: \"STIX-Web\"}});}\n",
       "        if (typeof require !== 'undefined') {\n",
       "        require.undef(\"plotly\");\n",
       "        requirejs.config({\n",
       "            paths: {\n",
       "                'plotly': ['https://cdn.plot.ly/plotly-2.27.0.min']\n",
       "            }\n",
       "        });\n",
       "        require(['plotly'], function(Plotly) {\n",
       "            window._Plotly = Plotly;\n",
       "        });\n",
       "        }\n",
       "        </script>\n",
       "        "
      ]
     },
     "metadata": {},
     "output_type": "display_data"
    },
    {
     "data": {
      "text/html": [
       "<div>                            <div id=\"184e7f3c-f304-4177-857a-b14ab708c019\" class=\"plotly-graph-div\" style=\"height:525px; width:100%;\"></div>            <script type=\"text/javascript\">                require([\"plotly\"], function(Plotly) {                    window.PLOTLYENV=window.PLOTLYENV || {};                                    if (document.getElementById(\"184e7f3c-f304-4177-857a-b14ab708c019\")) {                    Plotly.newPlot(                        \"184e7f3c-f304-4177-857a-b14ab708c019\",                        [{\"hovertemplate\":\"\\u003cb\\u003e%{hovertext}\\u003c\\u002fb\\u003e\\u003cbr\\u003e\\u003cbr\\u003eTitle=GM\\u003cbr\\u003eRanking=%{x}\\u003cbr\\u003eRating=%{y}\\u003cextra\\u003e\\u003c\\u002fextra\\u003e\",\"hovertext\":[\"Magnus Carlsen\",\"Fabiano Caruana\",\"Hikaru Nakamura\",\"Ding Liren\",\"Alireza Firouzja\",\"Ian Nepomniachtchi\",\"Wesley So\",\"Wei Yi\",\"Leinier Dominguez Perez\",\"Sergey Karjakin\",\"Anish Giri\",\"Viswanathan Anand\",\"Teimour Radjabov\",\"Vidit Santosh Gujrathi\",\"Praggnanandhaa Rameshbabu\",\"Vincent Keymer\",\"Parham Maghsoodloo\",\"Arjun Erigaisi\",\"Alexander Grischuk\",\"Maxime Vachier-Lagrave\",\"Jan-Krzysztof Duda\",\"Le Quang Liem\",\"Veselin Topalov\",\"Nodirbek Abdusattorov\",\"Levon Aronian\",\"Levon Aronian\",\"Gukesh Dommaraju\",\"Yu Yangyi\",\"Richard Rapport\",\"Francisco Vallejo Pons\",\"Vladislav Artemiev\",\"Samuel Shankland\",\"Daniil Dubov\",\"Nikita Vitiugov\",\"Pentala Harikrishna\",\"Pavel Eljanov\",\"Jorden van Foreest\",\"Andrey Esipenko\",\"Wang Hao\",\"Sanan Sjugirov\",\"Ray Robson\",\"Sam Sevian\",\"Amin Tabatabaei\",\"David Navara\",\"Evgeny Tomashevsky\",\"Jeffery Xiong\",\"Gabriel Sargissian\",\"Vladimir Fedoseev\",\"Bogdan-Daniel Deac\",\"Rustam Kasimdzhanov\",\"Peter Svidler\",\"Alexey Sarana\",\"Nihal Sarin\",\"Etienne Bacrot\",\"Grigoriy Oparin\",\"Radoslaw Wojtaszek\",\"Haik Martirosyan\",\"Maxim Matlakov\",\"David Howell\",\"Kirill Shevchenko\",\"Michael Adams\",\"Nils Grandelius\",\"Bu Xiangzhi\",\"David Anton Guijarro\",\"Alexei Shirov\",\"Peter Leko\",\"Boris Gelfand\",\"Anton Korobov\",\"Aravindh Chithambaram\",\"Saleh Salem\",\"Bassem Amin\",\"Andrei Volokitin\",\"Jules Moussard\",\"Hans Moke Niemann\",\"Wang Yue\",\"Javokhir Sindarov\",\"Ernesto Inarkiev\",\"Ivan Saric\",\"Mateusz Bartel\",\"Narayanan Sunilduth Lyna\",\"Jaime Santos Latasa\",\"Matthias Bluebaum\",\"Alexandr Predke\",\"Li Chao\",\"Ni Hua\",\"Rauf Mamedov\",\"Arkadij Naiditsch\",\"Ma Qun\",\"Ruslan Ponomariov\",\"Kirill Alekseenko\",\"Yuriy Kryvoruchko\",\"Hrant Melkumyan\",\"Vladimir Malakhov\",\"Evgeniy Najer\",\"Nijat Abasov\",\"Loek van Wely\",\"Karen H Grigoryan\",\"Alexander Donchenko\",\"Maxime Lagarde\",\"Alan Pichot\",\"Jonas Buhl Bjerre\",\"Nguyen Ngoc Truong Son\",\"Dariusz Swiercz\",\"Awonder Liang\",\"Shant Sargsyan\",\"Ante Brkic\",\"Ivan Cheparinov\",\"Laurent Fressinet\",\"Thai Dai Van Nguyen\",\"Gadir Guseinov\",\"Frederik Svane\",\"Mustafa Yilmaz\",\"Max Warmerdam\",\"Benjamin Gledura\",\"Hou Yifan\",\"Dmitrij Kollars\",\"Tamir Nabaty\",\"Rasmus Svane\",\"Volodar Murzin\",\"Nodirbek Yakubboev\",\"Aryan Chopra\",\"Aryan Tari\",\"Georg Meier\",\"Johan-Sebastian Christiansen\",\"Leon Luke Mendonca\",\"Ioannis Papaioannou\",\"Julio E Granda Zuniga\",\"Leon Luke Mendonca\",\"Vasif Durarbayli\",\"Erwin l'Ami\",\"Luka Lenic\",\"Luke McShane\",\"Markus Ragger\",\"Yaroslav Zherebukh\",\"Raunak Sadhwani\",\"Vasyl Ivanchuk\",\"Gata Kamsky\",\"Maksim Chigaev\",\"Illya Nyzhnyk\",\"Tamas Banusz\",\"Benjamin Bok\",\"Daniel Naroditsky\",\"Vladimir Onischuk\",\"Gawain Jones\",\"Jakhongir Vakhidov\",\"Jan Gustafsson\",\"Parimarjan Negi\",\"Imre Balog\",\"Niclas Huschenbeth\",\"Alexander Areshchenko\",\"Alexander Riazantsev\",\"Aram Hakobyan\",\"Mads Andersen\",\"Aleksandr Rakhmanov\",\"Jorge Cori\",\"Ferenc Berkes\",\"Jon Ludvig Hammer\",\"Robert Hovhannisyan\",\"Lu Shanglei\",\"Abhimanyu Puranik\",\"Eric Hansen\",\"Jose Eduardo Martinez Alcantara\",\"Karthikeyan Murali\",\"Manuel Petrosyan\",\"Sergei Movsesian\",\"Karthik Venkataraman\",\"Daniele Vocaturo\",\"Samvel Ter-Sahakyan\",\"Anton Demchenko\",\"Xu Xiangyu\",\"Oleksandr Bortnyk\",\"Ivan Salgado Lopez\",\"Aleksey Dreev\",\"Maxim Rodshtein\",\"Christopher Yoo\",\"Abhijeet Gupta\",\"Yuriy Kuzubov\",\"Mikhail Al Antipov\",\"Krishnan Sasikiran\",\"Vadim Milov\",\"Viktor Laznicka\",\"Carlos Daniel Albornoz Cabrera\",\"Jiangchuan Ye\",\"Vladimir Akopian\",\"Daniel Dardha\",\"Pouya Idani\",\"Alexander Motylev\",\"Jacek Tomczak\",\"Miguel Illescas Cordoba\",\"Liviu-Dieter Nisipeanu\",\"Temur Kuybokarov\",\"Eltaj Safarli\",\"Eduardo Iturrizaga Bonelli\",\"Stepan Zilka\",\"Adam Kozak\",\"David Baramidze\",\"Dragan Solak\",\"Rinat Jumabayev\",\"Kacper Piorun\",\"Ahmed Adly\",\"Bardiya Daneshvar\",\"David Paravyan\",\"Shamsiddin Vokhidov\",\"Lazaro Bruzon Batista\",\"Emil Sutovsky\",\"Sergei Azarov\",\"Robert Markus\",\"Aleksandar Indjic\",\"Arman Pashikian\",\"Daniil Yuffa\",\"Zhou Weiqi\",\"Arik Braun\",\"Valery Kazakouski\",\"Nigel Short\",\"Mikhailo Oleksienko\",\"Vahap Sanal\",\"Baadur Jobava\",\"Cristobal Henriquez Villagra\",\"Ivan Sokolov\",\"Szymon Gumularz\",\"S P Sethuraman\",\"Szymon Gumularz\",\"Tomas Laurusas\",\"Evgenij Miroshnichenko\",\"Constantin Lupulescu\",\"Sandro Mareco\",\"Konstantin Tarlev\",\"Dennis Wagner\",\"Miguel Santos Ruiz\",\"Igor Lysyj\",\"Suri Vaibhav\",\"Tigran Gharamian\",\"Yasser Quesada Perez\",\"Daniel Fridman\",\"Aditya Mittal\",\"V Pranav\",\"Arturs Neiksans\",\"Aydin Suleymanli\",\"Anton Smirnov\",\"Yuri Kruppa\",\"Nikolas Theodorou\",\"Bai Jinshi\",\"Gergely Antal\",\"Boris Grachev\",\"Abhimanyu Mishra\",\"Denis Kadric\",\"Giovanni Vescovi\",\"John M Burke\",\"Pavel Ponkratov\",\"Peter Acs\",\"Peter Michalik\",\"Luis Paulo Supi\",\"Valentin Dragnev\",\"Nidjat Mamedov\",\"Fernando Peralta\",\"Zaven Andriasian\",\"Matthieu Cornette\",\"Peter Prohaszka\",\"Rustem Dautov\",\"Jergus Pechac\",\"Vladislav Kovalev\",\"Alexander Moiseenko\",\"Denis Khismatullin\",\"Dmitry Kokarev\",\"Dimitri Reinderman\",\"Vadim Zvjaginsev\",\"Axel Bachmann\",\"Surya Shekhar Ganguly\",\"Dimitri Reinderman\",\"Dimitrios Mastrovasilis\",\"Wojciech Moranda\",\"Artyom Timofeev\",\"Geetha Narayanan Gopal\",\"Guillermo Vazquez\",\"Michael Roiz\",\"Wen Yang\",\"Yan Liu\",\"Ilya Smirin\",\"Jingyao Tin\",\"Manuel Perez Candelario\",\"Luca Moroni Jr\",\"Marc Andria Maurizzi\",\"Viorel Iordachescu\",\"Varuzhan Akobian\",\"Bobby Cheng\",\"Zhao Jun\",\"Zeng Chongsheng\",\"Martin Kraemer\",\"Alejandro Ramirez\",\"Evgeny Postny\",\"John Nunn\",\"John Nunn\",\"Arseniy Nesterov\",\"Andrey Baryshpolets\",\"Brandon Jacobson\",\"Simen Agdestein\",\"Diptayan Ghosh\",\"Konstantin Sakaev\",\"Velimir Ivic\",\"Pavel V Tregubov\",\"Tuan Minh Le\",\"Yusnel Bacallao Alonso\",\"Viktor Gazik\",\"Antonios Pavlidis\",\"Zahar Efimenko\",\"Aleksandr Shimanov\",\"Denis Lazavik\",\"Vitaliy Bernadskiy\",\"Borki Predojevic\",\"Gregory Kaidanov\",\"Erik van den Doel\",\"Semyon Lomasov\",\"Harsha Bharathakoti\",\"Francesco Sonis\",\"Vladimir Potkin\",\"Levan Pantsulaia\",\"Evgeny Alekseev\",\"Emilio Cordova\",\"Rainer Buhmann\",\"Li Di\",\"Alvar Alonso Rosell\",\"Merab Gagunashvili\",\"Jure Borisek\",\"Hristos Banikas\",\"Tomi Nyback\",\"Vugar Asadli\",\"Evgeny Romanov\",\"Jose Carlos Ibarra Jerez\",\"Liam Vrolijk\",\"Timur Gareyev\",\"Zhou Jianchao\",\"Christian Bauer\",\"Sasa Martinovic\",\"Semen Khanin\",\"Mikhail Gurevich\",\"Leon Livaic\",\"Tomas Sosa\",\"Mircea-Emilian Parligras\",\"Platon Galperin\",\"Luis Engel\",\"Viktor Matviishen\",\"Sergei Ovsejevitsch\",\"Daniel Forcen Esteban\",\"Grzegorz Gajewski\",\"Oliver Mihok\",\"Humpy Koneru\",\"Krikor Sevag Mekhitarian\",\"Zhang Pengxiang\",\"Julio Catalino Sadorra\",\"Mahammad Muradli\",\"Bojan Vuckovic\",\"Viktor Erdos\",\"Csaba Balogh\",\"Aleksandra Goryachkina\",\"Evgeny Agrest\",\"Kamil Dragun\",\"Misratdin Iskandarov\",\"Srinath Narayanan\",\"Maxim Turov\",\"Maksim Vavulin\",\"Klementy Sychev\",\"Bartosz Socko\",\"Nikita Petrov\",\"Alojzije Jankovic\",\"Lei Tingjie\",\"Sergey A Fedorchuk\",\"Ju Wenjun\",\"Helgi Dam Ziska\",\"Alexandr Fier\",\"Iegor Krivoborodov\",\"Vugar Rasulov\",\"Andreas Heimann\",\"Marin Bosiocic\",\"Sebastien Feller\",\"Zbynek Hracek\",\"Hrvoje Stevic\",\"Sebastien Maze\",\"Tigran L Petrosian\",\"Kiril Georgiev\",\"Lorenzo Lodici\",\"Aleksey Sorokin\",\"Ilia Iljiushenok\",\"Robert Kempinski\",\"Nico Georgiadis\",\"Stamatis Kourkoulos-Arditis\",\"Bart Michiels\",\"Bartlomiej Heberla\",\"Koustav Chatterjee\",\"Mikhail Demidov\",\"Jan Smeets\",\"Bence Korpa\",\"Nikita Meshkovs\",\"Grzegorz Nasuta\",\"Imre Jr Hera\",\"Luis Ernesto Quesada Perez\",\"Andrey Rychagov\",\"Sergey Grigoriants\",\"Sergei Tiviakov\",\"Nitzan Steinberg\",\"Kateryna Lagno\",\"Jesper Sondergaard Thybo\",\"Mikhail Kobalia\",\"Adhiban Baskaran\",\"Leandro Krysa\",\"Nikita Afanasiev\",\"Ori Kobo\",\"Tamaz Gelashvili\",\"Zhamsaran Tsydypov\",\"Milos Perunovic\",\"Krikor Sevag Mekhitarian\",\"Daniil Lintchevski\",\"Zhamsaran Tsydypov\",\"Cemil Can Ali Marandi\",\"Liu Qingnan\",\"Visakh N R\",\"Davorin Kuljasevic\",\"Andrew Z Hong\",\"Levan Aroshidze\",\"Sebastian Bogner\",\"Li Min Peng\",\"Roeland Pruijssers\",\"Pavel Smirnov\",\"Robert Fontaine\",\"Jure Skoberne\",\"Nicholas Pert\",\"Dr Florian Handke\",\"Jan-Christian Schroeder\",\"Jonathan Rowson\",\"Sipke Ernst\",\"Vlastimil Babula\",\"Adam Tukhaev\",\"Yuri Vovk\",\"Titas Stremavicius\",\"Alexander Huzman\",\"Gleb Dudin\",\"Matthias Wahls\",\"Patrick Wolff\",\"Mert Yilmazyerli\",\"Michal Krasenkow\",\"Tomasz Warakomski\",\"Felix Blohberger\",\"Vladimir Baklan\",\"Zdenko Kozul\",\"Gergely Kantor\",\"Robert Ruck\",\"Predrag Nikolic\",\"Xu Yinglun\",\"Ivan Rozum\",\"Allan Stig Rasmussen\",\"Josif Dorfman\",\"Zdenko Kozul\",\"Jan Krejci\",\"Hjorvar Steinn Gretarsson\",\"Ioan-Cristian Chirila\",\"Gabor Papp\",\"Alexander Graf\",\"Vadim Moiseenko\",\"Arthur Guo\",\"Anton Shomoev\",\"Hannes Stefansson\",\"Nikola Djukic\",\"Pranav Anand\",\"Pierre Laurent-Paoli\",\"Avital Boruchovsky\",\"Dambasuren Batsuren\",\"Yuri Yakovich\",\"Federico Perez Ponsa\",\"Romain Edouard\",\"Hichem Hamdouchi\",\"Sergey Erenburg\",\"Felipe De Cresce el Debs\",\"Leonardo Tristan\",\"Jaime Alexander Cuartas\",\"Vladimir Zakhartsov\",\"M R Babu Lalith\",\"Jiri Stocek\",\"Paulius Pultinevicius\",\"Kaido Kulaots\",\"Jonas Lampert\",\"Zoran Jovanovic\",\"Daniel Howard Fernandez\",\"Alberto David\",\"Costica-Ciprian Nanu\",\"Elshan Moradiabadi\",\"Jan Bernasek\",\"Jorge Viterbo Ferreira\",\"Tan Zhongyi\",\"Tigran K Harutyunian\",\"Andrew Tang\",\"David Gavrilescu\",\"Cem Kaan Gokerkan\",\"Ido Gorshtein\",\"Christopher Lutz\",\"Hugo Ten Hertog\",\"Tigran K Harutyunian\",\"Matej Sebenik\",\"Jan H Timman\",\"Adham Fawzy\",\"Sankalp Gupta\",\"Casper Schoppen\",\"Twan Burg\",\"Dmitry Gordievsky\",\"Raja Harshit\",\"Arman Mikaelyan\",\"Julen Luis Arizmendi Martinez\",\"Mihail Nikitenko\",\"Aleksandr Lenderman\",\"Vitaly Kunin\",\"Tomas Polak\",\"Ibro Saric\",\"Edvins Kengis\",\"Bartlomiej Macieja\",\"Robin Swinkels\",\"Marcin Krzyzanowski\",\"Lance Henderson de La Fuente\",\"Marcin Krzyzanowski\",\"Ante Saric\",\"Leon Mons\",\"Ulf Andersson\",\"Fidel Corrales Jimenez\",\"Ivan Ivanisevic\",\"Neuris Delgado Ramirez\",\"Dusko Pavasovic\",\"Nicolas D Checa\",\"Aleksander Mista\",\"Denis Makhnyov\",\"Bilel Bellahcene\",\"Roberto Garcia Pantoja\",\"Erik Blomqvist\",\"Bharath Subramaniyam\",\"Bayarsaikhan Gundavaa\",\"Ihor Samunenkov\",\"P Iniyan\",\"Renato R Quintiliano Pinto\",\"Luka Paichadze\",\"Christopher Repka\",\"Zurab Sturua\",\"Maxim Dlugy\",\"Christopher Repka\",\"Jose Fernando Cuenca Jimenez\",\"Maxim Dlugy\",\"Adrien Demuth\",\"Boris Savchenko\",\"Grigor Grigorov\",\"Igor Novikov\",\"Victor Mikhalevski\",\"Alija Muratovic\",\"Renier Vazquez Igarza\",\"Dmitry Bocharov\",\"Kjetil Aleksander Lie\",\"Raymond Song\",\"Yannick Pelletier\",\"Sabino Brunello\",\"Mariya Muzychuk\",\"Ivan Schitco\",\"Sune Berg Hansen\",\"Hipolito Asis Gargatagli\",\"Xiu Deshun\",\"Dawit Schengelia\",\"Youri Solodovnitchenko\",\"Justin Tan\",\"Pavel Vorontsov\",\"Zoltan Medvegy\",\"Alisher Suleymenov\",\"Ioannis Nikolaidis\",\"Andrey Sumets\",\"Arjun Kalyan\",\"Stelios Halkias\",\"Michael Prusikin\",\"Marcin Dziuba\",\"Wan Yunguo\",\"Tornike Sanikidse\",\"Gilberto Hernandez Guerrero\",\"Eugene Perelshteyn\",\"Tanguy Ringoir\",\"Nana Dzagnidze\",\"Namig Guliyev\",\"Andres Carlos Obregon\",\"Omar Almeida Quintana\",\"Igor Janik\",\"Amirreza Pourramezanali\",\"Andrei Shchekachev\",\"Guha Mitrabha\",\"Anna Muzychuk\",\"Mamikon Gharibyan\",\"Emanuel Berg\",\"Artem Iljin\",\"Susanto Megaranto\",\"Abdimalik Abdisalimov\",\"Igor Khenkin\",\"Sahaj Grover\",\"Tomasz Markowski\",\"Frode Olav Olsen Urkedal\",\"M Pranesh\",\"Andrey Orlov\",\"Martijn Dambacher\",\"Thomas Beerdsen\",\"Volodymyr Vetoshko\",\"Sergei Lobanov\",\"Alexandra Kosteniuk\",\"Pawel Czarnota\",\"Ahmad Ahmadzada\",\"Dylan Isidro Berdayes Ason\",\"Vignesh N R\",\"Aleksey Goganov\",\"Dai Changren\",\"Harika Dronavalli\",\"Dusan Popovic\",\"Marcin Tazbir\",\"Jose Angel Guerra Mendez\",\"Elier Miranda Mesa\",\"Philipp Schlosser\",\"Xu Yi\",\"Santiago Avila Pavas\",\"Nikolas Lubbe\",\"Zhao Zong-Yuan\",\"Anthony Wirig\",\"Martin Petrov\",\"A Koushik Girish\",\"Zhu Jin'er\",\"Konstantine Shanava\",\"Alessio Valsecchi\",\"Ravi Haria\",\"Vitali Golod\",\"Aliaksei Charnushevich\",\"Andreas Kelires\",\"Giga Quparadze\",\"Jordi Magem Badals\",\"Alexander Naumann\",\"Cristhian Cruz\",\"Sundar M Shyam\",\"Marcel Kanarek\",\"Arkadiusz Leniart\",\"Dmitry Frolyanov\",\"Daniel Alsina Leal\",\"David Klein\",\"Daniel Sadzikowski\",\"Aleksei Pridorozhni\",\"Oskar Wieczorek\",\"Mikhail Bryakin\",\"Andrei Murariu\",\"Fabien Libiszewski\",\"Rafael Vaganian\",\"Andrey Gorovets\",\"Csaba Horvath\",\"Gergely-Andras-Gyula Szabo\",\"David Brodsky\",\"Seyed Khalil Mousavi\",\"Pierre Bailet\",\"Laszlo Gonda\",\"Evandro Amorim Barbosa\",\"Tiger Hillarp Persson\",\"Hedinn Steingrimsson\",\"Andre Diamant\",\"Vlad-Cristian Jianu\",\"Djurabek Khamrakulov\",\"Jacek Gdanski\",\"Ermes Espinosa Veloz\",\"Joel Benjamin\",\"Vladimir Belous\",\"Lars Oskar Hauge\",\"Eduardas Rozentalis\",\"Sarunas Sulskis\",\"Tal Baron\",\"Slavko Cicak\",\"Akshat Chandra\",\"Miloje Ratkovic\",\"Igor Miladinovic\",\"Viacheslav Tilicheev\",\"Dmitriy Khegay\",\"Lukasz Cyborowski\",\"Abdulla Gadimbayli\",\"Ivan Morovic Fernandez\",\"Manuel Pena Gomez\",\"David C Smerdon\",\"Chen Lin\",\"Marco Baldauf\",\"Jon S Speelman\",\"Axel Delorme\",\"Paul Velten\",\"Eldar Gasanov\",\"Isan Reynaldo Ortiz Suarez\",\"Valeriy Aveskulov\",\"Zoltan Ribli\",\"Radoslav Dimitrov\",\"Vojtech Plat\",\"Gamil Agamaliev\",\"Alexander Stripunsky\",\"Chanda Sandipan\",\"Vasil Spasov\",\"Aleksandr Shneider\",\"Ehsan Ghaem Maghami\",\"Hagen Poetsch\",\"Arnaud Hauchard\",\"Lucian-Costin Miron\",\"Novendra Priasmoro\",\"Praveen Balakrishnan\",\"Hans Tikkanen\",\"Tuan Minh Tran\",\"Mihajlo Stojanovic\",\"Danyyil Dvirnyy\",\"Zbigniew Pakleza\",\"Oliver Barbosa\",\"Manuel Apicella\",\"Ulvi Sadikhov\",\"Mladen Palac\",\"Nikola Nestorovic\",\"Masoud Mosadeghpour\",\"Pier Luigi Basso\",\"Aryan Gholami\",\"Alexander Berelovich\",\"Yu Shaoteng\",\"Gergely Aczel\",\"Vladimir Lazarev\",\"Luka Draskovic\",\"Vladimir Burmakin\",\"Kevin Spraggett\",\"Yu Ruiyuan\",\"Juan Carlos Gonzalez Zamora\",\"Holden Hernandez Carmenate\",\"S Dhopade Swapnil\",\"Stefan Bromberger\",\"Krasimir Rusev\",\"William N Watson\",\"Tamas Jr Fodor\",\"Helgi Ass Gretarsson\",\"Jose Gabriel Cardoso Cardoso\",\"Robert Zelcic\",\"Maciej Klekowski\",\"Clovis Vernay\",\"Eric Lobron\",\"Danny Raznikov\",\"Jonathan Westerberg\",\"Alexander Beliavsky\",\"Emil Mirzoev\",\"Juan Carlos Obregon Rivero\",\"Toms Kantans\",\"Jose Rafael Gascon Del Nogal\",\"Benjamin Arvola Notkevich\",\"Luka Budisavljevic\",\"Razvan Preotu\",\"Andrey Drygalov\",\"Momchil Nikolov\",\"Deep Sengupta\",\"Oleg Korneev\",\"Andrei Sokolov\",\"Jan Votava\",\"Friso Nijboer\",\"Gad Rechlis\",\"Jean-Pierre Le Roux\",\"Vladimir Hamitevici\",\"Pedro Antonio Gines Esteo\",\"G A Stany\",\"Martin Petr\",\"Pawel Jaracz\",\"Samy Shoker\",\"Michael Bezold\",\"Michael Bezold\",\"Lars Schandorff\",\"Dmitry Kryakvin\",\"Laurent Guidarelli\",\"Robert Andrew Hungaski\",\"Milos Roganovic\",\"Rodrigo Vasquez Schroeder\",\"Evgeny Zanan\",\"Salvador Alonso\",\"Xu Jun\",\"Viatcheslav Ikonnikov\",\"Alexander Shabalov\",\"Henrik Danielsen\",\"Dr Jan Michael Sprenger\",\"Zhansaya Abdumalik\",\"Israel Caspi\",\"Robert Rabiega\",\"Luis Galego\",\"Nikolaus Stanec\",\"Moulthun Ly\",\"Bela Khotenashvili\",\"Simon Williams\",\"Viacheslav V Zakhartsov\",\"Krzysztof Jakubowski\",\"Meilis Annaberdiev\",\"Shahin Lorparizangeneh\",\"Shardul Annasaheb Gagare\",\"Yago De Moura Santiago\",\"Sumiya Bilguun\",\"Magesh Chandran Panchanathan\",\"Daan Brandenburg\",\"Semen I Dvoirys\",\"Tiberiu-Marian Georgescu\",\"Baris Esen\",\"Trajko Nedev\",\"Dan Zoler\",\"Sergey Volkov\",\"Kevin Joel Cori Quispe\",\"Boban Bogosavljevic\",\"Pablo Salinas Herrera\",\"Nikita Maiorov\",\"Deivy Vera Siguenas\",\"Josep Manuel Lopez Martinez\",\"Artur Kogan\",\"Bator Sambuev\",\"Sergei Zablotsky\",\"Sergei Yudin\",\"Luis Lazaro Aguero Jimenez\",\"Frank Holzke\",\"Johann Hjartarson\",\"Vitaly Sivuk\",\"Rafal Antoniewski\",\"Michael Feygin\",\"Aleksa Strikovic\",\"Mackenzie Molner\",\"Milos Jirovsky\",\"Tsegmed Batchuluun\",\"Zhao Xue\",\"Asghar Golizadeh\",\"Boris Chatalbashev\",\"Daniel Semcesen\",\"Thomas Roussel-Roozmon\",\"Alexei Fedorov\",\"Mikhail Krylov\",\"Ilja Zaragatski\",\"Henrik Teske\",\"Alon Greenfeld\",\"Uwe Boensch\",\"Zenon Franco Ocampos\",\"Jean-Marc Degraeve\",\"Artem Chernobay\",\"Raven M Sturt\",\"Vladimir Dobrov\",\"Dalibor Stojanovic\",\"Daniel Hausrath\",\"Aleksandr Volodin\",\"Aleksandar Kovacevic\",\"Vasilios Kotronias\",\"Mishra Swayams\",\"Gudmundur Kjartansson\",\"Sergey Kasparov\",\"Pavel Simacek\",\"Murtas Kazhgaleyev\"],\"legendgroup\":\"GM\",\"marker\":{\"color\":\"#636efa\",\"symbol\":\"circle\"},\"mode\":\"markers\",\"name\":\"GM\",\"showlegend\":true,\"x\":[1,2,3,4,5,6,7,8,9,10,11,12,13,13,13,16,17,18,19,19,19,22,23,23,26,26,26,28,29,30,31,32,32,34,34,34,34,34,39,39,41,42,43,44,45,46,47,48,48,50,50,52,53,54,55,56,57,68,58,58,60,61,62,63,64,65,66,67,68,70,70,70,70,74,75,75,77,78,78,80,80,82,83,83,83,83,83,83,89,89,89,89,93,93,95,96,97,97,99,99,101,101,103,103,105,106,106,108,108,110,111,111,113,113,115,115,115,118,118,120,120,122,122,122,125,125,125,125,129,129,129,143,132,132,132,135,135,137,138,138,138,141,141,143,143,143,147,147,147,150,150,150,153,154,155,155,157,159,159,159,162,162,162,162,162,167,167,167,167,171,171,171,174,174,174,177,177,179,179,179,182,182,182,185,185,185,185,189,190,190,190,190,190,190,190,190,198,198,200,200,200,200,200,200,200,207,207,209,210,210,212,212,212,215,215,217,217,217,217,217,217,217,224,225,225,225,225,225,225,225,232,232,232,232,232,232,238,239,239,239,239,239,245,245,245,249,249,249,252,252,252,252,252,252,252,259,259,259,259,263,264,264,264,264,268,268,268,268,268,273,274,274,276,276,276,279,279,279,282,282,282,285,285,287,287,287,287,291,291,291,294,294,294,294,294,299,299,299,302,302,302,302,302,307,307,307,307,307,312,312,312,312,312,317,317,317,320,320,320,320,324,324,324,327,327,329,331,331,333,333,333,333,333,333,333,340,341,341,341,341,345,345,345,345,345,352,352,352,352,352,352,352,352,360,360,360,360,364,364,364,364,368,368,371,371,371,374,374,374,374,374,374,374,374,374,374,384,384,384,384,388,388,388,388,388,388,394,394,394,397,398,398,398,398,398,403,403,403,403,407,407,407,410,410,410,410,410,416,416,352,416,416,416,416,416,424,424,426,426,426,426,426,431,431,434,434,434,434,440,440,443,443,443,443,448,448,448,448,448,448,448,455,456,456,456,456,456,456,456,456,456,466,466,466,466,466,471,471,471,471,471,471,471,479,479,479,482,482,482,482,482,487,487,492,492,492,492,492,492,492,492,492,503,503,503,507,507,507,507,507,507,507,507,507,507,507,518,518,518,518,518,518,518,526,526,526,526,526,532,532,532,532,532,539,539,539,539,539,544,544,546,546,546,546,546,551,551,551,554,554,554,554,554,554,554,562,562,562,562,562,562,562,571,571,571,571,571,571,571,579,579,579,579,583,583,583,583,588,588,588,588,592,592,592,592,592,592,600,600,600,600,600,606,606,606,610,610,610,610,616,616,616,616,620,620,620,620,620,628,628,628,628,628,628,628,636,636,636,636,641,641,641,641,641,641,641,648,648,648,648,648,648,648,648,648,660,660,660,660,667,667,667,667,667,667,667,667,667,667,667,680,683,683,689,689,689,689,694,694,694,694,694,699,699,699,699,705,705,705,713,713,713,713,713,713,713,722,722,722,722,722,722,722,722,722,732,732,732,732,732,732,732,744,744,744,744,744,750,750,750,750,755,755,755,755,755,755,755,755,770,774,774,774,774,783,783,783,783,783,783,791,791,791,791,791,791,791,791,791,803,803,803,803,803,803,813,813,813,813,822,822,826,826,826,833,833,833,833,833,833,842,842,842,845,845,845,845,845,845,845,845,845,845,858,858,864,864,864,864,864,870,870,870,870,870,870,878,878,878,878,878,878,892,892,892,892,892,901,901,901,912,912,912,912,912,912,912,931,931,931,931,931,931,931,942,942,942,942,942,942,955,955,955,963,963,963,963,963,973,973,973,980,986,986,991,991,991,998,998,998,998,1004,1004,1004,1011,1011,1011,1011,1011,1011,1021,1021,1021,1029,1029,1029,1029,1038,1038,1038,1038,1048,1048,1048,1048,1063,1063,1063,1063,1063],\"xaxis\":\"x\",\"y\":[2830,2804,2788,2780,2759,2758,2757,2755,2752,2750,2749,2748,2747,2747,2747,2743,2740,2738,2732,2732,2732,2731,2727,2727,2725,2725,2725,2720,2717,2712,2711,2708,2708,2704,2704,2704,2704,2704,2702,2702,2701,2698,2696,2695,2694,2693,2692,2690,2690,2688,2688,2685,2684,2683,2681,2679,2678,2677,2675,2675,2674,2673,2671,2670,2668,2666,2664,2663,2662,2661,2661,2661,2661,2660,2659,2659,2658,2657,2657,2656,2656,2655,2651,2651,2651,2651,2651,2651,2650,2650,2650,2650,2648,2648,2646,2644,2643,2643,2642,2642,2641,2641,2640,2640,2639,2638,2638,2637,2637,2636,2634,2634,2633,2633,2632,2632,2632,2631,2631,2630,2630,2629,2629,2629,2628,2628,2628,2628,2627,2627,2627,2626,2624,2624,2624,2623,2623,2622,2621,2621,2621,2619,2619,2618,2618,2618,2617,2617,2617,2616,2616,2616,2615,2614,2613,2613,2612,2611,2611,2611,2610,2610,2610,2610,2610,2609,2609,2609,2609,2608,2608,2608,2606,2606,2606,2605,2605,2604,2604,2604,2603,2603,2603,2602,2602,2602,2602,2601,2600,2600,2600,2600,2600,2600,2600,2600,2598,2598,2597,2597,2597,2597,2597,2597,2597,2596,2596,2595,2594,2594,2593,2593,2593,2592,2592,2591,2591,2591,2591,2591,2591,2591,2590,2589,2589,2589,2589,2589,2589,2589,2588,2588,2588,2588,2588,2588,2587,2586,2586,2586,2586,2586,2585,2585,2585,2584,2584,2584,2582,2582,2582,2582,2582,2582,2582,2581,2581,2581,2581,2580,2579,2579,2579,2579,2578,2578,2578,2578,2578,2577,2576,2576,2575,2575,2575,2574,2574,2574,2573,2573,2573,2572,2572,2571,2571,2571,2571,2570,2570,2570,2569,2569,2569,2569,2569,2568,2568,2568,2567,2567,2567,2567,2567,2566,2566,2566,2566,2566,2565,2565,2565,2565,2565,2564,2564,2564,2563,2563,2563,2563,2562,2562,2562,2561,2561,2560,2559,2559,2558,2558,2558,2558,2558,2558,2558,2557,2556,2556,2556,2556,2555,2555,2555,2555,2555,2554,2554,2554,2554,2554,2554,2554,2554,2553,2553,2553,2553,2552,2552,2552,2552,2551,2551,2550,2550,2550,2549,2549,2549,2549,2549,2549,2549,2549,2549,2549,2548,2548,2548,2548,2547,2547,2547,2547,2547,2547,2546,2546,2546,2545,2544,2544,2544,2544,2544,2543,2543,2543,2543,2542,2542,2542,2541,2541,2541,2541,2541,2540,2540,2540,2540,2540,2540,2540,2540,2539,2539,2538,2538,2538,2538,2538,2537,2537,2536,2536,2536,2536,2535,2535,2534,2534,2534,2534,2533,2533,2533,2533,2533,2533,2533,2532,2531,2531,2531,2531,2531,2531,2531,2531,2531,2530,2530,2530,2530,2530,2529,2529,2529,2529,2529,2529,2529,2528,2528,2528,2527,2527,2527,2527,2527,2526,2526,2525,2525,2525,2525,2525,2525,2525,2525,2525,2524,2524,2524,2523,2523,2523,2523,2523,2523,2523,2523,2523,2523,2523,2522,2522,2522,2522,2522,2522,2522,2521,2521,2521,2521,2521,2520,2520,2520,2520,2520,2519,2519,2519,2519,2519,2518,2518,2517,2517,2517,2517,2517,2516,2516,2516,2515,2515,2515,2515,2515,2515,2515,2514,2514,2514,2514,2514,2514,2514,2513,2513,2513,2513,2513,2513,2513,2512,2512,2512,2512,2511,2511,2511,2511,2510,2510,2510,2510,2509,2509,2509,2509,2509,2509,2508,2508,2508,2508,2508,2507,2507,2507,2506,2506,2506,2506,2505,2505,2505,2505,2504,2504,2504,2504,2504,2503,2503,2503,2503,2503,2503,2503,2502,2502,2502,2502,2501,2501,2501,2501,2501,2501,2501,2500,2500,2500,2500,2500,2500,2500,2500,2500,2499,2499,2499,2499,2498,2498,2498,2498,2498,2498,2498,2498,2498,2498,2498,2497,2496,2496,2495,2495,2495,2495,2494,2494,2494,2494,2494,2493,2493,2493,2493,2492,2492,2492,2491,2491,2491,2491,2491,2491,2491,2490,2490,2490,2490,2490,2490,2490,2490,2490,2489,2489,2489,2489,2489,2489,2489,2488,2488,2488,2488,2488,2487,2487,2487,2487,2486,2486,2486,2486,2486,2486,2486,2486,2485,2484,2484,2484,2484,2483,2483,2483,2483,2483,2483,2482,2482,2482,2482,2482,2482,2482,2482,2482,2481,2481,2481,2481,2481,2481,2480,2480,2480,2480,2479,2479,2478,2478,2478,2477,2477,2477,2477,2477,2477,2476,2476,2476,2475,2475,2475,2475,2475,2475,2475,2475,2475,2475,2474,2474,2473,2473,2473,2473,2473,2472,2472,2472,2472,2472,2472,2471,2471,2471,2471,2471,2471,2470,2470,2470,2470,2470,2469,2469,2469,2468,2468,2468,2468,2468,2468,2468,2467,2467,2467,2467,2467,2467,2467,2466,2466,2466,2466,2466,2466,2465,2465,2465,2464,2464,2464,2464,2464,2463,2463,2463,2462,2461,2461,2460,2460,2460,2459,2459,2459,2459,2458,2458,2458,2457,2457,2457,2457,2457,2457,2456,2456,2456,2455,2455,2455,2455,2454,2454,2454,2454,2453,2453,2453,2453,2452,2452,2452,2452,2452],\"yaxis\":\"y\",\"type\":\"scattergl\"},{\"hovertemplate\":\"\\u003cb\\u003e%{hovertext}\\u003c\\u002fb\\u003e\\u003cbr\\u003e\\u003cbr\\u003eTitle=IM\\u003cbr\\u003eRanking=%{x}\\u003cbr\\u003eRating=%{y}\\u003cextra\\u003e\\u003c\\u002fextra\\u003e\",\"hovertext\":[\"Pawel Teclaf\",\"Ediz Gurel\",\"Elham Amar\",\"Dominik Horvath\",\"Aronyak Ghosh\",\"Bjorn Moller Ochsner\",\"Dmitry Obolenskikh\",\"Martin Nayhebaver\",\"Aleksey Grebnev\",\"Christopher Noe\",\"Jan Klimkowski\",\"Anthony He\",\"Rudik Makarian\",\"Yagiz Kaan Erdogmus\",\"Toivo Keinanen\",\"Justin Wang\",\"Renato Terry\",\"Vladislav Nozdrachev\",\"Tadeas Kriebel\",\"Samant Aditya S\",\"Zhihang Xu\",\"Ameet K Ghasi\",\"Jan Subelj\",\"Irakli Beradze\",\"Florian Kaczur\",\"Marko Nenezic\",\"Saparmyrat Atabayev\",\"Sebastian Iermito\",\"Emin Ohanyan\",\"Isik Can\",\"Brian Sebasti Escalante Ramirez\",\"Valentin Baidetskyi\",\"Roman Kezin\",\"Guillaume Lamard\",\"Arsen Kukhmazov\",\"Joris Brenninkmeijer\",\"Bojan Maksimovic\",\"Samir Sahidi\",\"Polina Shuvalova\",\"Ariel Erenberg\",\"Daniel Pulvett Marin\",\"Yevgeniy Roshka\",\"Carles Diaz Camallonga\",\"Shawn Rodrigue-Lemieux\",\"Joseph Girel\",\"Read Samadov\",\"Yeoh Li Tian\",\"Read Samadov\",\"V S Rathanvel\",\"Henry Soto Hernandez\",\"Bryce Tiglon\",\"Yair Parkhov\",\"Alejandro Moreno Trujillo\",\"Mukhiddin Madaminov\",\"Kazybek Nogerbek\",\"Sarasadat Khademalsharieh\",\"Jan Vykouk\",\"David Gorodetzky\",\"Maximilian Berchtenbreiter\",\"Prraneeth Vuppala\",\"Wang Chen\",\"Shay Porat\",\"Vladyslav Larkin\",\"Saveliy Golubov\",\"Tomas Kraus\",\"Kristian Stuvik Holm\",\"Roi Reinaldo Castineira\",\"Hing Ting Lai\",\"Novak Pezelj\",\"Ruben Gideon Koellner\",\"Vignir Vatnar Stefansson\",\"Yuriy Baikovsky\",\"Kristof Juhasz\",\"Nikolaj Mikkelsen\",\"Andy Woodward\",\"Maximilian Neef\",\"Borya Ider\",\"Diego Rafael Di Berardino\",\"Pablo Ismael Acosta\",\"Balazs Csonka\",\"Mariano Ortega Amarelle\",\"Jaroslav Prizant\",\"Nikolay Noritsyn\",\"Ioannis Georgiadis\",\"Artur Davtyan\",\"Dr Christian Seel\",\"Hampus Sorensen\",\"Safal Bora\",\"Milos Stankovic\",\"Sergey Pavlov\",\"Matthias Dann\",\"Robert Baskin\",\"Khazar Babazada\",\"Milosz Szpar\",\"Bibisara Assaubayeva\",\"Geir Sune Tallaksen Ostmoe\",\"Roven Vogel\",\"Miguoel Admiraal\",\"Augustin Droin\",\"Roven Vogel\",\"Eyal Grinberg\",\"Mihnea Costachi\",\"Julian Kramer\",\"Vojtech Zwardon\",\"Mahdi Gholami Orimi\",\"Alexander Krastev\",\"Raja Panjwani\",\"Alejandro Alvarado Diaz\",\"Cyril Ponizil\",\"Ma Zhonghan\",\"Johannes Haug\",\"Alexander Zabotin\",\"Alina Kashlinskaya\",\"Roman Bar\",\"Ilja Schneider\",\"Juraj Druska\",\"Renier Castellanos Rodriguez\",\"Richard Forster\",\"Pierre Petitcunot\",\"Tor Fredrik Kaasen\",\"Harry Grieve\",\"Jorge Roberto Elias Reyes\",\"Aljoscha Feuerstack\",\"Samuel-Timotei Ghimpu\",\"Shyaamnikhil P\",\"Qi Chen b\",\"Meri Arabidze\",\"Pere Garriga Cazorla\",\"Marcos Camacho Collados\",\"Patrick Zelbel\",\"Jung Min Seo\",\"Nderim Saraci\",\"Kaan Kucuksari\",\"Mario Villanueva\",\"Tagir Salemgareev\",\"Sam E Collins\",\"Fy Antenaina Rakotomaharo\",\"Yahli Sokolovsky\",\"Istvan Sipos\",\"Marcus R Harvey\",\"Douglas Root\",\"Boris Markoja\",\"Georg Froewis\",\"Omer Reshef\",\"Radoslaw Gajek\",\"William Hernandez Gonzalez\",\"Mihajlo Radovanovic\",\"Michel Alejandro Diaz Perez\",\"Loic Travadon\",\"Zhandos Agmanov\",\"Arystanbek Urazayev\",\"Dennis Kaczmarczyk\",\"Andrei Macovei\",\"Albert Bokros\",\"Artyom Zubritskiy\",\"Jakub Fus\",\"Ramil Faizrakhmanov\",\"Nikoloz Petriashvili\",\"Muthaiah AL\",\"Himal Gusain\",\"Rishi Sardana\",\"Attila Vertetics\",\"Svyatoslav Bazakutsa\",\"Joan Fluvia Poyatos\",\"Darko Doric\",\"Zhao Yuanhe\",\"Sam A Schmakel\",\"Arnaldo Fernandez De La Vara\",\"Mikael Agopov\",\"Juan Plazuelo Pascual\",\"Daniel Gurevich\",\"A Ra Harikrishnan\",\"Leonid M Sokolin\",\"Tsvetan Stoyanov\",\"Diogo Fernando\",\"David Pardo Simon\",\"James Morris\",\"Vladislav Bakhmatsky\",\"Julio Suarez Gomez\",\"Tobias Koelle\",\"Dmitry V Sklyarov\",\"Alparslan Isik\",\"Vaishali R\",\"Filip Pancevski\",\"Jubin Jimmy\",\"Tigran S Petrosyan\",\"Benoit Lepelletier\",\"Eray Kilic\",\"Xianliang Xu\",\"Martin Lokander\"],\"legendgroup\":\"IM\",\"marker\":{\"color\":\"#EF553B\",\"symbol\":\"circle\"},\"mode\":\"markers\",\"name\":\"IM\",\"showlegend\":true,\"x\":[239,329,345,345,410,431,434,434,440,443,456,471,492,503,518,532,532,554,562,583,592,592,600,606,610,620,620,628,648,648,648,660,660,487,667,667,680,680,683,683,683,689,699,699,705,705,705,705,713,722,732,732,732,744,750,755,755,755,755,770,770,774,774,774,774,774,783,783,791,791,791,803,803,813,813,813,813,813,822,822,826,826,826,826,833,833,845,845,845,858,858,858,858,864,870,870,878,878,878,878,878,878,892,892,892,892,901,901,901,901,901,901,912,912,912,912,912,912,912,912,912,912,931,931,931,931,942,942,942,942,942,942,955,955,955,963,963,963,963,963,973,973,973,973,980,980,980,986,986,986,991,991,991,991,998,998,1004,1004,1004,1011,1011,1011,1021,1021,1021,1021,1029,1029,1038,1038,1038,1038,1038,1038,1048,1048,1048,1048,1048,1048,1048,1063,1063,1063,1063,1063,1063,1063,1063,1063],\"xaxis\":\"x\",\"y\":[2586,2560,2555,2555,2541,2537,2536,2536,2535,2534,2531,2529,2525,2524,2522,2520,2520,2515,2514,2511,2509,2509,2508,2507,2506,2504,2504,2503,2500,2500,2500,2499,2499,2499,2498,2498,2497,2497,2496,2496,2496,2495,2493,2493,2492,2492,2492,2492,2491,2490,2489,2489,2489,2488,2487,2486,2486,2486,2486,2485,2485,2484,2484,2484,2484,2484,2483,2483,2482,2482,2482,2481,2481,2480,2480,2480,2480,2480,2479,2479,2478,2478,2478,2478,2477,2477,2475,2475,2475,2474,2474,2474,2474,2473,2472,2472,2471,2471,2471,2471,2471,2471,2470,2470,2470,2470,2469,2469,2469,2469,2469,2469,2468,2468,2468,2468,2468,2468,2468,2468,2468,2468,2467,2467,2467,2467,2466,2466,2466,2466,2466,2466,2465,2465,2465,2464,2464,2464,2464,2464,2463,2463,2463,2463,2462,2462,2462,2461,2461,2461,2460,2460,2460,2460,2459,2459,2458,2458,2458,2457,2457,2457,2456,2456,2456,2456,2455,2455,2454,2454,2454,2454,2454,2454,2453,2453,2453,2453,2453,2453,2453,2452,2452,2452,2452,2452,2452,2452,2452,2452],\"yaxis\":\"y\",\"type\":\"scattergl\"},{\"hovertemplate\":\"\\u003cb\\u003e%{hovertext}\\u003c\\u002fb\\u003e\\u003cbr\\u003e\\u003cbr\\u003eTitle=FM\\u003cbr\\u003eRanking=%{x}\\u003cbr\\u003eRating=%{y}\\u003cextra\\u003e\\u003c\\u002fextra\\u003e\",\"hovertext\":[\"Ivan Yeletsky\",\"Leonardo Costa\",\"Roman Yanchenko\",\"Diego Macias Pino\",\"Igor Zuyev\",\"Rajat Makkar\"],\"legendgroup\":\"FM\",\"marker\":{\"color\":\"#00cc96\",\"symbol\":\"circle\"},\"mode\":\"markers\",\"name\":\"FM\",\"showlegend\":true,\"x\":[620,770,942,1021,1029,1048],\"xaxis\":\"x\",\"y\":[2504,2485,2466,2456,2455,2453],\"yaxis\":\"y\",\"type\":\"scattergl\"},{\"hovertemplate\":\"\\u003cb\\u003e%{hovertext}\\u003c\\u002fb\\u003e\\u003cbr\\u003e\\u003cbr\\u003eTitle=WGM\\u003cbr\\u003eRanking=%{x}\\u003cbr\\u003eRating=%{y}\\u003cextra\\u003e\\u003c\\u002fextra\\u003e\",\"hovertext\":[\"Dinara Wagner\"],\"legendgroup\":\"WGM\",\"marker\":{\"color\":\"#ab63fa\",\"symbol\":\"circle\"},\"mode\":\"markers\",\"name\":\"WGM\",\"showlegend\":true,\"x\":[912],\"xaxis\":\"x\",\"y\":[2468],\"yaxis\":\"y\",\"type\":\"scattergl\"},{\"hovertemplate\":\"\\u003cb\\u003e%{hovertext}\\u003c\\u002fb\\u003e\\u003cbr\\u003e\\u003cbr\\u003eTitle=CM\\u003cbr\\u003eRanking=%{x}\\u003cbr\\u003eRating=%{y}\\u003cextra\\u003e\\u003c\\u002fextra\\u003e\",\"hovertext\":[\"Aaditya Dhingra\"],\"legendgroup\":\"CM\",\"marker\":{\"color\":\"#FFA15A\",\"symbol\":\"circle\"},\"mode\":\"markers\",\"name\":\"CM\",\"showlegend\":true,\"x\":[1011],\"xaxis\":\"x\",\"y\":[2457],\"yaxis\":\"y\",\"type\":\"scattergl\"}],                        {\"template\":{\"data\":{\"histogram2dcontour\":[{\"type\":\"histogram2dcontour\",\"colorbar\":{\"outlinewidth\":0,\"ticks\":\"\"},\"colorscale\":[[0.0,\"#0d0887\"],[0.1111111111111111,\"#46039f\"],[0.2222222222222222,\"#7201a8\"],[0.3333333333333333,\"#9c179e\"],[0.4444444444444444,\"#bd3786\"],[0.5555555555555556,\"#d8576b\"],[0.6666666666666666,\"#ed7953\"],[0.7777777777777778,\"#fb9f3a\"],[0.8888888888888888,\"#fdca26\"],[1.0,\"#f0f921\"]]}],\"choropleth\":[{\"type\":\"choropleth\",\"colorbar\":{\"outlinewidth\":0,\"ticks\":\"\"}}],\"histogram2d\":[{\"type\":\"histogram2d\",\"colorbar\":{\"outlinewidth\":0,\"ticks\":\"\"},\"colorscale\":[[0.0,\"#0d0887\"],[0.1111111111111111,\"#46039f\"],[0.2222222222222222,\"#7201a8\"],[0.3333333333333333,\"#9c179e\"],[0.4444444444444444,\"#bd3786\"],[0.5555555555555556,\"#d8576b\"],[0.6666666666666666,\"#ed7953\"],[0.7777777777777778,\"#fb9f3a\"],[0.8888888888888888,\"#fdca26\"],[1.0,\"#f0f921\"]]}],\"heatmap\":[{\"type\":\"heatmap\",\"colorbar\":{\"outlinewidth\":0,\"ticks\":\"\"},\"colorscale\":[[0.0,\"#0d0887\"],[0.1111111111111111,\"#46039f\"],[0.2222222222222222,\"#7201a8\"],[0.3333333333333333,\"#9c179e\"],[0.4444444444444444,\"#bd3786\"],[0.5555555555555556,\"#d8576b\"],[0.6666666666666666,\"#ed7953\"],[0.7777777777777778,\"#fb9f3a\"],[0.8888888888888888,\"#fdca26\"],[1.0,\"#f0f921\"]]}],\"heatmapgl\":[{\"type\":\"heatmapgl\",\"colorbar\":{\"outlinewidth\":0,\"ticks\":\"\"},\"colorscale\":[[0.0,\"#0d0887\"],[0.1111111111111111,\"#46039f\"],[0.2222222222222222,\"#7201a8\"],[0.3333333333333333,\"#9c179e\"],[0.4444444444444444,\"#bd3786\"],[0.5555555555555556,\"#d8576b\"],[0.6666666666666666,\"#ed7953\"],[0.7777777777777778,\"#fb9f3a\"],[0.8888888888888888,\"#fdca26\"],[1.0,\"#f0f921\"]]}],\"contourcarpet\":[{\"type\":\"contourcarpet\",\"colorbar\":{\"outlinewidth\":0,\"ticks\":\"\"}}],\"contour\":[{\"type\":\"contour\",\"colorbar\":{\"outlinewidth\":0,\"ticks\":\"\"},\"colorscale\":[[0.0,\"#0d0887\"],[0.1111111111111111,\"#46039f\"],[0.2222222222222222,\"#7201a8\"],[0.3333333333333333,\"#9c179e\"],[0.4444444444444444,\"#bd3786\"],[0.5555555555555556,\"#d8576b\"],[0.6666666666666666,\"#ed7953\"],[0.7777777777777778,\"#fb9f3a\"],[0.8888888888888888,\"#fdca26\"],[1.0,\"#f0f921\"]]}],\"surface\":[{\"type\":\"surface\",\"colorbar\":{\"outlinewidth\":0,\"ticks\":\"\"},\"colorscale\":[[0.0,\"#0d0887\"],[0.1111111111111111,\"#46039f\"],[0.2222222222222222,\"#7201a8\"],[0.3333333333333333,\"#9c179e\"],[0.4444444444444444,\"#bd3786\"],[0.5555555555555556,\"#d8576b\"],[0.6666666666666666,\"#ed7953\"],[0.7777777777777778,\"#fb9f3a\"],[0.8888888888888888,\"#fdca26\"],[1.0,\"#f0f921\"]]}],\"mesh3d\":[{\"type\":\"mesh3d\",\"colorbar\":{\"outlinewidth\":0,\"ticks\":\"\"}}],\"scatter\":[{\"fillpattern\":{\"fillmode\":\"overlay\",\"size\":10,\"solidity\":0.2},\"type\":\"scatter\"}],\"parcoords\":[{\"type\":\"parcoords\",\"line\":{\"colorbar\":{\"outlinewidth\":0,\"ticks\":\"\"}}}],\"scatterpolargl\":[{\"type\":\"scatterpolargl\",\"marker\":{\"colorbar\":{\"outlinewidth\":0,\"ticks\":\"\"}}}],\"bar\":[{\"error_x\":{\"color\":\"#2a3f5f\"},\"error_y\":{\"color\":\"#2a3f5f\"},\"marker\":{\"line\":{\"color\":\"#E5ECF6\",\"width\":0.5},\"pattern\":{\"fillmode\":\"overlay\",\"size\":10,\"solidity\":0.2}},\"type\":\"bar\"}],\"scattergeo\":[{\"type\":\"scattergeo\",\"marker\":{\"colorbar\":{\"outlinewidth\":0,\"ticks\":\"\"}}}],\"scatterpolar\":[{\"type\":\"scatterpolar\",\"marker\":{\"colorbar\":{\"outlinewidth\":0,\"ticks\":\"\"}}}],\"histogram\":[{\"marker\":{\"pattern\":{\"fillmode\":\"overlay\",\"size\":10,\"solidity\":0.2}},\"type\":\"histogram\"}],\"scattergl\":[{\"type\":\"scattergl\",\"marker\":{\"colorbar\":{\"outlinewidth\":0,\"ticks\":\"\"}}}],\"scatter3d\":[{\"type\":\"scatter3d\",\"line\":{\"colorbar\":{\"outlinewidth\":0,\"ticks\":\"\"}},\"marker\":{\"colorbar\":{\"outlinewidth\":0,\"ticks\":\"\"}}}],\"scattermapbox\":[{\"type\":\"scattermapbox\",\"marker\":{\"colorbar\":{\"outlinewidth\":0,\"ticks\":\"\"}}}],\"scatterternary\":[{\"type\":\"scatterternary\",\"marker\":{\"colorbar\":{\"outlinewidth\":0,\"ticks\":\"\"}}}],\"scattercarpet\":[{\"type\":\"scattercarpet\",\"marker\":{\"colorbar\":{\"outlinewidth\":0,\"ticks\":\"\"}}}],\"carpet\":[{\"aaxis\":{\"endlinecolor\":\"#2a3f5f\",\"gridcolor\":\"white\",\"linecolor\":\"white\",\"minorgridcolor\":\"white\",\"startlinecolor\":\"#2a3f5f\"},\"baxis\":{\"endlinecolor\":\"#2a3f5f\",\"gridcolor\":\"white\",\"linecolor\":\"white\",\"minorgridcolor\":\"white\",\"startlinecolor\":\"#2a3f5f\"},\"type\":\"carpet\"}],\"table\":[{\"cells\":{\"fill\":{\"color\":\"#EBF0F8\"},\"line\":{\"color\":\"white\"}},\"header\":{\"fill\":{\"color\":\"#C8D4E3\"},\"line\":{\"color\":\"white\"}},\"type\":\"table\"}],\"barpolar\":[{\"marker\":{\"line\":{\"color\":\"#E5ECF6\",\"width\":0.5},\"pattern\":{\"fillmode\":\"overlay\",\"size\":10,\"solidity\":0.2}},\"type\":\"barpolar\"}],\"pie\":[{\"automargin\":true,\"type\":\"pie\"}]},\"layout\":{\"autotypenumbers\":\"strict\",\"colorway\":[\"#636efa\",\"#EF553B\",\"#00cc96\",\"#ab63fa\",\"#FFA15A\",\"#19d3f3\",\"#FF6692\",\"#B6E880\",\"#FF97FF\",\"#FECB52\"],\"font\":{\"color\":\"#2a3f5f\"},\"hovermode\":\"closest\",\"hoverlabel\":{\"align\":\"left\"},\"paper_bgcolor\":\"white\",\"plot_bgcolor\":\"#E5ECF6\",\"polar\":{\"bgcolor\":\"#E5ECF6\",\"angularaxis\":{\"gridcolor\":\"white\",\"linecolor\":\"white\",\"ticks\":\"\"},\"radialaxis\":{\"gridcolor\":\"white\",\"linecolor\":\"white\",\"ticks\":\"\"}},\"ternary\":{\"bgcolor\":\"#E5ECF6\",\"aaxis\":{\"gridcolor\":\"white\",\"linecolor\":\"white\",\"ticks\":\"\"},\"baxis\":{\"gridcolor\":\"white\",\"linecolor\":\"white\",\"ticks\":\"\"},\"caxis\":{\"gridcolor\":\"white\",\"linecolor\":\"white\",\"ticks\":\"\"}},\"coloraxis\":{\"colorbar\":{\"outlinewidth\":0,\"ticks\":\"\"}},\"colorscale\":{\"sequential\":[[0.0,\"#0d0887\"],[0.1111111111111111,\"#46039f\"],[0.2222222222222222,\"#7201a8\"],[0.3333333333333333,\"#9c179e\"],[0.4444444444444444,\"#bd3786\"],[0.5555555555555556,\"#d8576b\"],[0.6666666666666666,\"#ed7953\"],[0.7777777777777778,\"#fb9f3a\"],[0.8888888888888888,\"#fdca26\"],[1.0,\"#f0f921\"]],\"sequentialminus\":[[0.0,\"#0d0887\"],[0.1111111111111111,\"#46039f\"],[0.2222222222222222,\"#7201a8\"],[0.3333333333333333,\"#9c179e\"],[0.4444444444444444,\"#bd3786\"],[0.5555555555555556,\"#d8576b\"],[0.6666666666666666,\"#ed7953\"],[0.7777777777777778,\"#fb9f3a\"],[0.8888888888888888,\"#fdca26\"],[1.0,\"#f0f921\"]],\"diverging\":[[0,\"#8e0152\"],[0.1,\"#c51b7d\"],[0.2,\"#de77ae\"],[0.3,\"#f1b6da\"],[0.4,\"#fde0ef\"],[0.5,\"#f7f7f7\"],[0.6,\"#e6f5d0\"],[0.7,\"#b8e186\"],[0.8,\"#7fbc41\"],[0.9,\"#4d9221\"],[1,\"#276419\"]]},\"xaxis\":{\"gridcolor\":\"white\",\"linecolor\":\"white\",\"ticks\":\"\",\"title\":{\"standoff\":15},\"zerolinecolor\":\"white\",\"automargin\":true,\"zerolinewidth\":2},\"yaxis\":{\"gridcolor\":\"white\",\"linecolor\":\"white\",\"ticks\":\"\",\"title\":{\"standoff\":15},\"zerolinecolor\":\"white\",\"automargin\":true,\"zerolinewidth\":2},\"scene\":{\"xaxis\":{\"backgroundcolor\":\"#E5ECF6\",\"gridcolor\":\"white\",\"linecolor\":\"white\",\"showbackground\":true,\"ticks\":\"\",\"zerolinecolor\":\"white\",\"gridwidth\":2},\"yaxis\":{\"backgroundcolor\":\"#E5ECF6\",\"gridcolor\":\"white\",\"linecolor\":\"white\",\"showbackground\":true,\"ticks\":\"\",\"zerolinecolor\":\"white\",\"gridwidth\":2},\"zaxis\":{\"backgroundcolor\":\"#E5ECF6\",\"gridcolor\":\"white\",\"linecolor\":\"white\",\"showbackground\":true,\"ticks\":\"\",\"zerolinecolor\":\"white\",\"gridwidth\":2}},\"shapedefaults\":{\"line\":{\"color\":\"#2a3f5f\"}},\"annotationdefaults\":{\"arrowcolor\":\"#2a3f5f\",\"arrowhead\":0,\"arrowwidth\":1},\"geo\":{\"bgcolor\":\"white\",\"landcolor\":\"#E5ECF6\",\"subunitcolor\":\"white\",\"showland\":true,\"showlakes\":true,\"lakecolor\":\"white\"},\"title\":{\"x\":0.05},\"mapbox\":{\"style\":\"light\"}}},\"xaxis\":{\"anchor\":\"y\",\"domain\":[0.0,1.0],\"title\":{\"text\":\"Ranking\"}},\"yaxis\":{\"anchor\":\"x\",\"domain\":[0.0,1.0],\"title\":{\"text\":\"Rating\"}},\"legend\":{\"title\":{\"text\":\"Title\"},\"tracegroupgap\":0},\"margin\":{\"t\":60}},                        {\"responsive\": true}                    ).then(function(){\n",
       "                            \n",
       "var gd = document.getElementById('184e7f3c-f304-4177-857a-b14ab708c019');\n",
       "var x = new MutationObserver(function (mutations, observer) {{\n",
       "        var display = window.getComputedStyle(gd).display;\n",
       "        if (!display || display === 'none') {{\n",
       "            console.log([gd, 'removed!']);\n",
       "            Plotly.purge(gd);\n",
       "            observer.disconnect();\n",
       "        }}\n",
       "}});\n",
       "\n",
       "// Listen for the removal of the full notebook cells\n",
       "var notebookContainer = gd.closest('#notebook-container');\n",
       "if (notebookContainer) {{\n",
       "    x.observe(notebookContainer, {childList: true});\n",
       "}}\n",
       "\n",
       "// Listen for the clearing of the current output cell\n",
       "var outputEl = gd.closest('.output');\n",
       "if (outputEl) {{\n",
       "    x.observe(outputEl, {childList: true});\n",
       "}}\n",
       "\n",
       "                        })                };                });            </script>        </div>"
      ]
     },
     "metadata": {},
     "output_type": "display_data"
    }
   ],
   "source": [
    "from plotly.express import scatter\n",
    "scatter(data_frame=df, y='Rating', x='Ranking', color='Title', hover_name='Player', log_y=False)"
   ]
  },
  {
   "cell_type": "markdown",
   "id": "b7f57743",
   "metadata": {
    "papermill": {
     "duration": 0.004352,
     "end_time": "2024-01-30T19:37:42.742487",
     "exception": false,
     "start_time": "2024-01-30T19:37:42.738135",
     "status": "completed"
    },
    "tags": []
   },
   "source": [
    "It's amazing how much a handful of players stand out at the top of the ratings/rankings; this is a very smooth curve with a little bit of noise."
   ]
  },
  {
   "cell_type": "code",
   "execution_count": 3,
   "id": "dab5c5ee",
   "metadata": {
    "execution": {
     "iopub.execute_input": "2024-01-30T19:37:42.753548Z",
     "iopub.status.busy": "2024-01-30T19:37:42.753174Z",
     "iopub.status.idle": "2024-01-30T19:37:42.900845Z",
     "shell.execute_reply": "2024-01-30T19:37:42.899531Z"
    },
    "papermill": {
     "duration": 0.156757,
     "end_time": "2024-01-30T19:37:42.903851",
     "exception": false,
     "start_time": "2024-01-30T19:37:42.747094",
     "status": "completed"
    },
    "tags": []
   },
   "outputs": [
    {
     "name": "stderr",
     "output_type": "stream",
     "text": [
      "/opt/conda/lib/python3.10/site-packages/plotly/express/_core.py:2065: FutureWarning:\n",
      "\n",
      "When grouping with a length-1 list-like, you will need to pass a length-1 tuple to get_group in a future version of pandas. Pass `(name,)` instead of `name` to silence this warning.\n",
      "\n"
     ]
    },
    {
     "data": {
      "text/html": [
       "<div>                            <div id=\"3c134581-c5c9-46a7-bc92-29511e44509a\" class=\"plotly-graph-div\" style=\"height:525px; width:100%;\"></div>            <script type=\"text/javascript\">                require([\"plotly\"], function(Plotly) {                    window.PLOTLYENV=window.PLOTLYENV || {};                                    if (document.getElementById(\"3c134581-c5c9-46a7-bc92-29511e44509a\")) {                    Plotly.newPlot(                        \"3c134581-c5c9-46a7-bc92-29511e44509a\",                        [{\"alignmentgroup\":\"True\",\"bingroup\":\"x\",\"hovertemplate\":\"Title=GM\\u003cbr\\u003eRating=%{x}\\u003cbr\\u003ecount=%{y}\\u003cextra\\u003e\\u003c\\u002fextra\\u003e\",\"legendgroup\":\"GM\",\"marker\":{\"color\":\"#636efa\",\"pattern\":{\"shape\":\"\"}},\"name\":\"GM\",\"offsetgroup\":\"GM\",\"orientation\":\"v\",\"showlegend\":true,\"x\":[2830,2804,2788,2780,2759,2758,2757,2755,2752,2750,2749,2748,2747,2747,2747,2743,2740,2738,2732,2732,2732,2731,2727,2727,2725,2725,2725,2720,2717,2712,2711,2708,2708,2704,2704,2704,2704,2704,2702,2702,2701,2698,2696,2695,2694,2693,2692,2690,2690,2688,2688,2685,2684,2683,2681,2679,2678,2677,2675,2675,2674,2673,2671,2670,2668,2666,2664,2663,2662,2661,2661,2661,2661,2660,2659,2659,2658,2657,2657,2656,2656,2655,2651,2651,2651,2651,2651,2651,2650,2650,2650,2650,2648,2648,2646,2644,2643,2643,2642,2642,2641,2641,2640,2640,2639,2638,2638,2637,2637,2636,2634,2634,2633,2633,2632,2632,2632,2631,2631,2630,2630,2629,2629,2629,2628,2628,2628,2628,2627,2627,2627,2626,2624,2624,2624,2623,2623,2622,2621,2621,2621,2619,2619,2618,2618,2618,2617,2617,2617,2616,2616,2616,2615,2614,2613,2613,2612,2611,2611,2611,2610,2610,2610,2610,2610,2609,2609,2609,2609,2608,2608,2608,2606,2606,2606,2605,2605,2604,2604,2604,2603,2603,2603,2602,2602,2602,2602,2601,2600,2600,2600,2600,2600,2600,2600,2600,2598,2598,2597,2597,2597,2597,2597,2597,2597,2596,2596,2595,2594,2594,2593,2593,2593,2592,2592,2591,2591,2591,2591,2591,2591,2591,2590,2589,2589,2589,2589,2589,2589,2589,2588,2588,2588,2588,2588,2588,2587,2586,2586,2586,2586,2586,2585,2585,2585,2584,2584,2584,2582,2582,2582,2582,2582,2582,2582,2581,2581,2581,2581,2580,2579,2579,2579,2579,2578,2578,2578,2578,2578,2577,2576,2576,2575,2575,2575,2574,2574,2574,2573,2573,2573,2572,2572,2571,2571,2571,2571,2570,2570,2570,2569,2569,2569,2569,2569,2568,2568,2568,2567,2567,2567,2567,2567,2566,2566,2566,2566,2566,2565,2565,2565,2565,2565,2564,2564,2564,2563,2563,2563,2563,2562,2562,2562,2561,2561,2560,2559,2559,2558,2558,2558,2558,2558,2558,2558,2557,2556,2556,2556,2556,2555,2555,2555,2555,2555,2554,2554,2554,2554,2554,2554,2554,2554,2553,2553,2553,2553,2552,2552,2552,2552,2551,2551,2550,2550,2550,2549,2549,2549,2549,2549,2549,2549,2549,2549,2549,2548,2548,2548,2548,2547,2547,2547,2547,2547,2547,2546,2546,2546,2545,2544,2544,2544,2544,2544,2543,2543,2543,2543,2542,2542,2542,2541,2541,2541,2541,2541,2540,2540,2540,2540,2540,2540,2540,2540,2539,2539,2538,2538,2538,2538,2538,2537,2537,2536,2536,2536,2536,2535,2535,2534,2534,2534,2534,2533,2533,2533,2533,2533,2533,2533,2532,2531,2531,2531,2531,2531,2531,2531,2531,2531,2530,2530,2530,2530,2530,2529,2529,2529,2529,2529,2529,2529,2528,2528,2528,2527,2527,2527,2527,2527,2526,2526,2525,2525,2525,2525,2525,2525,2525,2525,2525,2524,2524,2524,2523,2523,2523,2523,2523,2523,2523,2523,2523,2523,2523,2522,2522,2522,2522,2522,2522,2522,2521,2521,2521,2521,2521,2520,2520,2520,2520,2520,2519,2519,2519,2519,2519,2518,2518,2517,2517,2517,2517,2517,2516,2516,2516,2515,2515,2515,2515,2515,2515,2515,2514,2514,2514,2514,2514,2514,2514,2513,2513,2513,2513,2513,2513,2513,2512,2512,2512,2512,2511,2511,2511,2511,2510,2510,2510,2510,2509,2509,2509,2509,2509,2509,2508,2508,2508,2508,2508,2507,2507,2507,2506,2506,2506,2506,2505,2505,2505,2505,2504,2504,2504,2504,2504,2503,2503,2503,2503,2503,2503,2503,2502,2502,2502,2502,2501,2501,2501,2501,2501,2501,2501,2500,2500,2500,2500,2500,2500,2500,2500,2500,2499,2499,2499,2499,2498,2498,2498,2498,2498,2498,2498,2498,2498,2498,2498,2497,2496,2496,2495,2495,2495,2495,2494,2494,2494,2494,2494,2493,2493,2493,2493,2492,2492,2492,2491,2491,2491,2491,2491,2491,2491,2490,2490,2490,2490,2490,2490,2490,2490,2490,2489,2489,2489,2489,2489,2489,2489,2488,2488,2488,2488,2488,2487,2487,2487,2487,2486,2486,2486,2486,2486,2486,2486,2486,2485,2484,2484,2484,2484,2483,2483,2483,2483,2483,2483,2482,2482,2482,2482,2482,2482,2482,2482,2482,2481,2481,2481,2481,2481,2481,2480,2480,2480,2480,2479,2479,2478,2478,2478,2477,2477,2477,2477,2477,2477,2476,2476,2476,2475,2475,2475,2475,2475,2475,2475,2475,2475,2475,2474,2474,2473,2473,2473,2473,2473,2472,2472,2472,2472,2472,2472,2471,2471,2471,2471,2471,2471,2470,2470,2470,2470,2470,2469,2469,2469,2468,2468,2468,2468,2468,2468,2468,2467,2467,2467,2467,2467,2467,2467,2466,2466,2466,2466,2466,2466,2465,2465,2465,2464,2464,2464,2464,2464,2463,2463,2463,2462,2461,2461,2460,2460,2460,2459,2459,2459,2459,2458,2458,2458,2457,2457,2457,2457,2457,2457,2456,2456,2456,2455,2455,2455,2455,2454,2454,2454,2454,2453,2453,2453,2453,2452,2452,2452,2452,2452],\"xaxis\":\"x\",\"yaxis\":\"y\",\"type\":\"histogram\"},{\"alignmentgroup\":\"True\",\"bingroup\":\"x\",\"hovertemplate\":\"Title=IM\\u003cbr\\u003eRating=%{x}\\u003cbr\\u003ecount=%{y}\\u003cextra\\u003e\\u003c\\u002fextra\\u003e\",\"legendgroup\":\"IM\",\"marker\":{\"color\":\"#EF553B\",\"pattern\":{\"shape\":\"\"}},\"name\":\"IM\",\"offsetgroup\":\"IM\",\"orientation\":\"v\",\"showlegend\":true,\"x\":[2586,2560,2555,2555,2541,2537,2536,2536,2535,2534,2531,2529,2525,2524,2522,2520,2520,2515,2514,2511,2509,2509,2508,2507,2506,2504,2504,2503,2500,2500,2500,2499,2499,2499,2498,2498,2497,2497,2496,2496,2496,2495,2493,2493,2492,2492,2492,2492,2491,2490,2489,2489,2489,2488,2487,2486,2486,2486,2486,2485,2485,2484,2484,2484,2484,2484,2483,2483,2482,2482,2482,2481,2481,2480,2480,2480,2480,2480,2479,2479,2478,2478,2478,2478,2477,2477,2475,2475,2475,2474,2474,2474,2474,2473,2472,2472,2471,2471,2471,2471,2471,2471,2470,2470,2470,2470,2469,2469,2469,2469,2469,2469,2468,2468,2468,2468,2468,2468,2468,2468,2468,2468,2467,2467,2467,2467,2466,2466,2466,2466,2466,2466,2465,2465,2465,2464,2464,2464,2464,2464,2463,2463,2463,2463,2462,2462,2462,2461,2461,2461,2460,2460,2460,2460,2459,2459,2458,2458,2458,2457,2457,2457,2456,2456,2456,2456,2455,2455,2454,2454,2454,2454,2454,2454,2453,2453,2453,2453,2453,2453,2453,2452,2452,2452,2452,2452,2452,2452,2452,2452],\"xaxis\":\"x\",\"yaxis\":\"y\",\"type\":\"histogram\"},{\"alignmentgroup\":\"True\",\"bingroup\":\"x\",\"hovertemplate\":\"Title=FM\\u003cbr\\u003eRating=%{x}\\u003cbr\\u003ecount=%{y}\\u003cextra\\u003e\\u003c\\u002fextra\\u003e\",\"legendgroup\":\"FM\",\"marker\":{\"color\":\"#00cc96\",\"pattern\":{\"shape\":\"\"}},\"name\":\"FM\",\"offsetgroup\":\"FM\",\"orientation\":\"v\",\"showlegend\":true,\"x\":[2504,2485,2466,2456,2455,2453],\"xaxis\":\"x\",\"yaxis\":\"y\",\"type\":\"histogram\"},{\"alignmentgroup\":\"True\",\"bingroup\":\"x\",\"hovertemplate\":\"Title=WGM\\u003cbr\\u003eRating=%{x}\\u003cbr\\u003ecount=%{y}\\u003cextra\\u003e\\u003c\\u002fextra\\u003e\",\"legendgroup\":\"WGM\",\"marker\":{\"color\":\"#ab63fa\",\"pattern\":{\"shape\":\"\"}},\"name\":\"WGM\",\"offsetgroup\":\"WGM\",\"orientation\":\"v\",\"showlegend\":true,\"x\":[2468],\"xaxis\":\"x\",\"yaxis\":\"y\",\"type\":\"histogram\"},{\"alignmentgroup\":\"True\",\"bingroup\":\"x\",\"hovertemplate\":\"Title=CM\\u003cbr\\u003eRating=%{x}\\u003cbr\\u003ecount=%{y}\\u003cextra\\u003e\\u003c\\u002fextra\\u003e\",\"legendgroup\":\"CM\",\"marker\":{\"color\":\"#FFA15A\",\"pattern\":{\"shape\":\"\"}},\"name\":\"CM\",\"offsetgroup\":\"CM\",\"orientation\":\"v\",\"showlegend\":true,\"x\":[2457],\"xaxis\":\"x\",\"yaxis\":\"y\",\"type\":\"histogram\"}],                        {\"template\":{\"data\":{\"histogram2dcontour\":[{\"type\":\"histogram2dcontour\",\"colorbar\":{\"outlinewidth\":0,\"ticks\":\"\"},\"colorscale\":[[0.0,\"#0d0887\"],[0.1111111111111111,\"#46039f\"],[0.2222222222222222,\"#7201a8\"],[0.3333333333333333,\"#9c179e\"],[0.4444444444444444,\"#bd3786\"],[0.5555555555555556,\"#d8576b\"],[0.6666666666666666,\"#ed7953\"],[0.7777777777777778,\"#fb9f3a\"],[0.8888888888888888,\"#fdca26\"],[1.0,\"#f0f921\"]]}],\"choropleth\":[{\"type\":\"choropleth\",\"colorbar\":{\"outlinewidth\":0,\"ticks\":\"\"}}],\"histogram2d\":[{\"type\":\"histogram2d\",\"colorbar\":{\"outlinewidth\":0,\"ticks\":\"\"},\"colorscale\":[[0.0,\"#0d0887\"],[0.1111111111111111,\"#46039f\"],[0.2222222222222222,\"#7201a8\"],[0.3333333333333333,\"#9c179e\"],[0.4444444444444444,\"#bd3786\"],[0.5555555555555556,\"#d8576b\"],[0.6666666666666666,\"#ed7953\"],[0.7777777777777778,\"#fb9f3a\"],[0.8888888888888888,\"#fdca26\"],[1.0,\"#f0f921\"]]}],\"heatmap\":[{\"type\":\"heatmap\",\"colorbar\":{\"outlinewidth\":0,\"ticks\":\"\"},\"colorscale\":[[0.0,\"#0d0887\"],[0.1111111111111111,\"#46039f\"],[0.2222222222222222,\"#7201a8\"],[0.3333333333333333,\"#9c179e\"],[0.4444444444444444,\"#bd3786\"],[0.5555555555555556,\"#d8576b\"],[0.6666666666666666,\"#ed7953\"],[0.7777777777777778,\"#fb9f3a\"],[0.8888888888888888,\"#fdca26\"],[1.0,\"#f0f921\"]]}],\"heatmapgl\":[{\"type\":\"heatmapgl\",\"colorbar\":{\"outlinewidth\":0,\"ticks\":\"\"},\"colorscale\":[[0.0,\"#0d0887\"],[0.1111111111111111,\"#46039f\"],[0.2222222222222222,\"#7201a8\"],[0.3333333333333333,\"#9c179e\"],[0.4444444444444444,\"#bd3786\"],[0.5555555555555556,\"#d8576b\"],[0.6666666666666666,\"#ed7953\"],[0.7777777777777778,\"#fb9f3a\"],[0.8888888888888888,\"#fdca26\"],[1.0,\"#f0f921\"]]}],\"contourcarpet\":[{\"type\":\"contourcarpet\",\"colorbar\":{\"outlinewidth\":0,\"ticks\":\"\"}}],\"contour\":[{\"type\":\"contour\",\"colorbar\":{\"outlinewidth\":0,\"ticks\":\"\"},\"colorscale\":[[0.0,\"#0d0887\"],[0.1111111111111111,\"#46039f\"],[0.2222222222222222,\"#7201a8\"],[0.3333333333333333,\"#9c179e\"],[0.4444444444444444,\"#bd3786\"],[0.5555555555555556,\"#d8576b\"],[0.6666666666666666,\"#ed7953\"],[0.7777777777777778,\"#fb9f3a\"],[0.8888888888888888,\"#fdca26\"],[1.0,\"#f0f921\"]]}],\"surface\":[{\"type\":\"surface\",\"colorbar\":{\"outlinewidth\":0,\"ticks\":\"\"},\"colorscale\":[[0.0,\"#0d0887\"],[0.1111111111111111,\"#46039f\"],[0.2222222222222222,\"#7201a8\"],[0.3333333333333333,\"#9c179e\"],[0.4444444444444444,\"#bd3786\"],[0.5555555555555556,\"#d8576b\"],[0.6666666666666666,\"#ed7953\"],[0.7777777777777778,\"#fb9f3a\"],[0.8888888888888888,\"#fdca26\"],[1.0,\"#f0f921\"]]}],\"mesh3d\":[{\"type\":\"mesh3d\",\"colorbar\":{\"outlinewidth\":0,\"ticks\":\"\"}}],\"scatter\":[{\"fillpattern\":{\"fillmode\":\"overlay\",\"size\":10,\"solidity\":0.2},\"type\":\"scatter\"}],\"parcoords\":[{\"type\":\"parcoords\",\"line\":{\"colorbar\":{\"outlinewidth\":0,\"ticks\":\"\"}}}],\"scatterpolargl\":[{\"type\":\"scatterpolargl\",\"marker\":{\"colorbar\":{\"outlinewidth\":0,\"ticks\":\"\"}}}],\"bar\":[{\"error_x\":{\"color\":\"#2a3f5f\"},\"error_y\":{\"color\":\"#2a3f5f\"},\"marker\":{\"line\":{\"color\":\"#E5ECF6\",\"width\":0.5},\"pattern\":{\"fillmode\":\"overlay\",\"size\":10,\"solidity\":0.2}},\"type\":\"bar\"}],\"scattergeo\":[{\"type\":\"scattergeo\",\"marker\":{\"colorbar\":{\"outlinewidth\":0,\"ticks\":\"\"}}}],\"scatterpolar\":[{\"type\":\"scatterpolar\",\"marker\":{\"colorbar\":{\"outlinewidth\":0,\"ticks\":\"\"}}}],\"histogram\":[{\"marker\":{\"pattern\":{\"fillmode\":\"overlay\",\"size\":10,\"solidity\":0.2}},\"type\":\"histogram\"}],\"scattergl\":[{\"type\":\"scattergl\",\"marker\":{\"colorbar\":{\"outlinewidth\":0,\"ticks\":\"\"}}}],\"scatter3d\":[{\"type\":\"scatter3d\",\"line\":{\"colorbar\":{\"outlinewidth\":0,\"ticks\":\"\"}},\"marker\":{\"colorbar\":{\"outlinewidth\":0,\"ticks\":\"\"}}}],\"scattermapbox\":[{\"type\":\"scattermapbox\",\"marker\":{\"colorbar\":{\"outlinewidth\":0,\"ticks\":\"\"}}}],\"scatterternary\":[{\"type\":\"scatterternary\",\"marker\":{\"colorbar\":{\"outlinewidth\":0,\"ticks\":\"\"}}}],\"scattercarpet\":[{\"type\":\"scattercarpet\",\"marker\":{\"colorbar\":{\"outlinewidth\":0,\"ticks\":\"\"}}}],\"carpet\":[{\"aaxis\":{\"endlinecolor\":\"#2a3f5f\",\"gridcolor\":\"white\",\"linecolor\":\"white\",\"minorgridcolor\":\"white\",\"startlinecolor\":\"#2a3f5f\"},\"baxis\":{\"endlinecolor\":\"#2a3f5f\",\"gridcolor\":\"white\",\"linecolor\":\"white\",\"minorgridcolor\":\"white\",\"startlinecolor\":\"#2a3f5f\"},\"type\":\"carpet\"}],\"table\":[{\"cells\":{\"fill\":{\"color\":\"#EBF0F8\"},\"line\":{\"color\":\"white\"}},\"header\":{\"fill\":{\"color\":\"#C8D4E3\"},\"line\":{\"color\":\"white\"}},\"type\":\"table\"}],\"barpolar\":[{\"marker\":{\"line\":{\"color\":\"#E5ECF6\",\"width\":0.5},\"pattern\":{\"fillmode\":\"overlay\",\"size\":10,\"solidity\":0.2}},\"type\":\"barpolar\"}],\"pie\":[{\"automargin\":true,\"type\":\"pie\"}]},\"layout\":{\"autotypenumbers\":\"strict\",\"colorway\":[\"#636efa\",\"#EF553B\",\"#00cc96\",\"#ab63fa\",\"#FFA15A\",\"#19d3f3\",\"#FF6692\",\"#B6E880\",\"#FF97FF\",\"#FECB52\"],\"font\":{\"color\":\"#2a3f5f\"},\"hovermode\":\"closest\",\"hoverlabel\":{\"align\":\"left\"},\"paper_bgcolor\":\"white\",\"plot_bgcolor\":\"#E5ECF6\",\"polar\":{\"bgcolor\":\"#E5ECF6\",\"angularaxis\":{\"gridcolor\":\"white\",\"linecolor\":\"white\",\"ticks\":\"\"},\"radialaxis\":{\"gridcolor\":\"white\",\"linecolor\":\"white\",\"ticks\":\"\"}},\"ternary\":{\"bgcolor\":\"#E5ECF6\",\"aaxis\":{\"gridcolor\":\"white\",\"linecolor\":\"white\",\"ticks\":\"\"},\"baxis\":{\"gridcolor\":\"white\",\"linecolor\":\"white\",\"ticks\":\"\"},\"caxis\":{\"gridcolor\":\"white\",\"linecolor\":\"white\",\"ticks\":\"\"}},\"coloraxis\":{\"colorbar\":{\"outlinewidth\":0,\"ticks\":\"\"}},\"colorscale\":{\"sequential\":[[0.0,\"#0d0887\"],[0.1111111111111111,\"#46039f\"],[0.2222222222222222,\"#7201a8\"],[0.3333333333333333,\"#9c179e\"],[0.4444444444444444,\"#bd3786\"],[0.5555555555555556,\"#d8576b\"],[0.6666666666666666,\"#ed7953\"],[0.7777777777777778,\"#fb9f3a\"],[0.8888888888888888,\"#fdca26\"],[1.0,\"#f0f921\"]],\"sequentialminus\":[[0.0,\"#0d0887\"],[0.1111111111111111,\"#46039f\"],[0.2222222222222222,\"#7201a8\"],[0.3333333333333333,\"#9c179e\"],[0.4444444444444444,\"#bd3786\"],[0.5555555555555556,\"#d8576b\"],[0.6666666666666666,\"#ed7953\"],[0.7777777777777778,\"#fb9f3a\"],[0.8888888888888888,\"#fdca26\"],[1.0,\"#f0f921\"]],\"diverging\":[[0,\"#8e0152\"],[0.1,\"#c51b7d\"],[0.2,\"#de77ae\"],[0.3,\"#f1b6da\"],[0.4,\"#fde0ef\"],[0.5,\"#f7f7f7\"],[0.6,\"#e6f5d0\"],[0.7,\"#b8e186\"],[0.8,\"#7fbc41\"],[0.9,\"#4d9221\"],[1,\"#276419\"]]},\"xaxis\":{\"gridcolor\":\"white\",\"linecolor\":\"white\",\"ticks\":\"\",\"title\":{\"standoff\":15},\"zerolinecolor\":\"white\",\"automargin\":true,\"zerolinewidth\":2},\"yaxis\":{\"gridcolor\":\"white\",\"linecolor\":\"white\",\"ticks\":\"\",\"title\":{\"standoff\":15},\"zerolinecolor\":\"white\",\"automargin\":true,\"zerolinewidth\":2},\"scene\":{\"xaxis\":{\"backgroundcolor\":\"#E5ECF6\",\"gridcolor\":\"white\",\"linecolor\":\"white\",\"showbackground\":true,\"ticks\":\"\",\"zerolinecolor\":\"white\",\"gridwidth\":2},\"yaxis\":{\"backgroundcolor\":\"#E5ECF6\",\"gridcolor\":\"white\",\"linecolor\":\"white\",\"showbackground\":true,\"ticks\":\"\",\"zerolinecolor\":\"white\",\"gridwidth\":2},\"zaxis\":{\"backgroundcolor\":\"#E5ECF6\",\"gridcolor\":\"white\",\"linecolor\":\"white\",\"showbackground\":true,\"ticks\":\"\",\"zerolinecolor\":\"white\",\"gridwidth\":2}},\"shapedefaults\":{\"line\":{\"color\":\"#2a3f5f\"}},\"annotationdefaults\":{\"arrowcolor\":\"#2a3f5f\",\"arrowhead\":0,\"arrowwidth\":1},\"geo\":{\"bgcolor\":\"white\",\"landcolor\":\"#E5ECF6\",\"subunitcolor\":\"white\",\"showland\":true,\"showlakes\":true,\"lakecolor\":\"white\"},\"title\":{\"x\":0.05},\"mapbox\":{\"style\":\"light\"}}},\"xaxis\":{\"anchor\":\"y\",\"domain\":[0.0,1.0],\"title\":{\"text\":\"Rating\"}},\"yaxis\":{\"anchor\":\"x\",\"domain\":[0.0,1.0],\"title\":{\"text\":\"count\"}},\"legend\":{\"title\":{\"text\":\"Title\"},\"tracegroupgap\":0},\"margin\":{\"t\":60},\"barmode\":\"relative\"},                        {\"responsive\": true}                    ).then(function(){\n",
       "                            \n",
       "var gd = document.getElementById('3c134581-c5c9-46a7-bc92-29511e44509a');\n",
       "var x = new MutationObserver(function (mutations, observer) {{\n",
       "        var display = window.getComputedStyle(gd).display;\n",
       "        if (!display || display === 'none') {{\n",
       "            console.log([gd, 'removed!']);\n",
       "            Plotly.purge(gd);\n",
       "            observer.disconnect();\n",
       "        }}\n",
       "}});\n",
       "\n",
       "// Listen for the removal of the full notebook cells\n",
       "var notebookContainer = gd.closest('#notebook-container');\n",
       "if (notebookContainer) {{\n",
       "    x.observe(notebookContainer, {childList: true});\n",
       "}}\n",
       "\n",
       "// Listen for the clearing of the current output cell\n",
       "var outputEl = gd.closest('.output');\n",
       "if (outputEl) {{\n",
       "    x.observe(outputEl, {childList: true});\n",
       "}}\n",
       "\n",
       "                        })                };                });            </script>        </div>"
      ]
     },
     "metadata": {},
     "output_type": "display_data"
    }
   ],
   "source": [
    "from plotly.express import histogram\n",
    "histogram(data_frame=df, x='Rating', color='Title')"
   ]
  },
  {
   "cell_type": "markdown",
   "id": "85043759",
   "metadata": {
    "papermill": {
     "duration": 0.005199,
     "end_time": "2024-01-30T19:37:42.914428",
     "exception": false,
     "start_time": "2024-01-30T19:37:42.909229",
     "status": "completed"
    },
    "tags": []
   },
   "source": [
    "It is surprising that the right tail would be so thin, isn't it?"
   ]
  },
  {
   "cell_type": "code",
   "execution_count": 4,
   "id": "a2707467",
   "metadata": {
    "execution": {
     "iopub.execute_input": "2024-01-30T19:37:42.926506Z",
     "iopub.status.busy": "2024-01-30T19:37:42.926114Z",
     "iopub.status.idle": "2024-01-30T19:37:43.029668Z",
     "shell.execute_reply": "2024-01-30T19:37:43.028420Z"
    },
    "papermill": {
     "duration": 0.113064,
     "end_time": "2024-01-30T19:37:43.032714",
     "exception": false,
     "start_time": "2024-01-30T19:37:42.919650",
     "status": "completed"
    },
    "tags": []
   },
   "outputs": [
    {
     "name": "stderr",
     "output_type": "stream",
     "text": [
      "/opt/conda/lib/python3.10/site-packages/plotly/express/_core.py:2065: FutureWarning:\n",
      "\n",
      "When grouping with a length-1 list-like, you will need to pass a length-1 tuple to get_group in a future version of pandas. Pass `(name,)` instead of `name` to silence this warning.\n",
      "\n"
     ]
    },
    {
     "data": {
      "text/html": [
       "<div>                            <div id=\"97776083-e78a-4b04-9ff8-cd8f33b4db27\" class=\"plotly-graph-div\" style=\"height:1500px; width:100%;\"></div>            <script type=\"text/javascript\">                require([\"plotly\"], function(Plotly) {                    window.PLOTLYENV=window.PLOTLYENV || {};                                    if (document.getElementById(\"97776083-e78a-4b04-9ff8-cd8f33b4db27\")) {                    Plotly.newPlot(                        \"97776083-e78a-4b04-9ff8-cd8f33b4db27\",                        [{\"alignmentgroup\":\"True\",\"bingroup\":\"y\",\"hovertemplate\":\"Title=GM\\u003cbr\\u003ecount=%{x}\\u003cbr\\u003eFederation=%{y}\\u003cextra\\u003e\\u003c\\u002fextra\\u003e\",\"legendgroup\":\"GM\",\"marker\":{\"color\":\"#636efa\",\"pattern\":{\"shape\":\"\"}},\"name\":\"GM\",\"offsetgroup\":\"GM\",\"orientation\":\"h\",\"showlegend\":true,\"xaxis\":\"x\",\"y\":[\"Norway\",\"United States\",\"United States\",\"China\",\"France\",\"Russia\",\"United States\",\"China\",\"United States\",\"Russia\",\"Netherlands\",\"India\",\"Azerbaijan\",\"India\",\"India\",\"Germany\",\"Iran\",\"India\",\"Russia\",\"France\",\"Poland\",\"Vietnam\",\"Bulgaria\",\"Uzbekistan\",\"United States\",\"United States\",\"India\",\"China\",\"Romania\",\"Spain\",\"Russia\",\"United States\",\"Russia\",\"England\",\"India\",\"Ukraine\",\"Netherlands\",\"FIDE\",\"China\",\"Hungary\",\"United States\",\"United States\",\"Iran\",\"Czech Republic\",\"Russia\",\"United States\",\"Armenia\",\"Slovenia\",\"Romania\",\"Uzbekistan\",\"FIDE\",\"Serbia\",\"India\",\"France\",\"United States\",\"Poland\",\"Armenia\",\"Russia\",\"England\",\"Romania\",\"England\",\"Sweden\",\"China\",\"Spain\",\"Spain\",\"Hungary\",\"Israel\",\"Ukraine\",\"India\",\"United Arab Emirates\",\"Egypt\",\"Ukraine\",\"France\",\"United States\",\"China\",\"Uzbekistan\",\"FIDE\",\"Croatia\",\"Poland\",\"India\",\"Spain\",\"Germany\",\"Serbia\",\"China\",\"China\",\"Azerbaijan\",\"Azerbaijan\",\"China\",\"Ukraine\",\"Austria\",\"Ukraine\",\"Armenia\",\"FIDE\",\"FIDE\",\"Azerbaijan\",\"Netherlands\",\"Armenia\",\"Germany\",\"France\",\"Spain\",\"Denmark\",\"Vietnam\",\"United States\",\"United States\",\"Armenia\",\"Croatia\",\"Bulgaria\",\"France\",\"Czech Republic\",\"Azerbaijan\",\"Germany\",\"Türkiye\",\"Netherlands\",\"Hungary\",\"China\",\"Germany\",\"Israel\",\"Germany\",\"FIDE\",\"Uzbekistan\",\"India\",\"Norway\",\"Uruguay\",\"Norway\",\"India\",\"Greece\",\"Peru\",\"India\",\"Azerbaijan\",\"Netherlands\",\"Slovenia\",\"England\",\"Austria\",\"United States\",\"India\",\"Ukraine\",\"United States\",\"Spain\",\"Ukraine\",\"Hungary\",\"Netherlands\",\"United States\",\"Ukraine\",\"England\",\"Uzbekistan\",\"Germany\",\"India\",\"Hungary\",\"Germany\",\"Ukraine\",\"Russia\",\"Armenia\",\"Denmark\",\"FIDE\",\"Peru\",\"Hungary\",\"Norway\",\"Armenia\",\"China\",\"India\",\"Canada\",\"Peru\",\"India\",\"Armenia\",\"Armenia\",\"India\",\"Italy\",\"Armenia\",\"Slovenia\",\"China\",\"Ukraine\",\"Spain\",\"Russia\",\"Israel\",\"United States\",\"India\",\"Ukraine\",\"FIDE\",\"India\",\"Switzerland\",\"Czech Republic\",\"Cuba\",\"China\",\"United States\",\"Belgium\",\"Iran\",\"Romania\",\"Poland\",\"Spain\",\"Romania\",\"Australia\",\"Azerbaijan\",\"Spain\",\"Czech Republic\",\"Hungary\",\"Germany\",\"Türkiye\",\"Kazakhstan\",\"Poland\",\"Egypt\",\"Iran\",\"FIDE\",\"Uzbekistan\",\"United States\",\"Israel\",\"FIDE\",\"Serbia\",\"Serbia\",\"Armenia\",\"Spain\",\"China\",\"Germany\",\"Lithuania\",\"England\",\"Ukraine\",\"Türkiye\",\"Georgia\",\"Chile\",\"Netherlands\",\"Poland\",\"India\",\"Poland\",\"Lithuania\",\"Ukraine\",\"Romania\",\"Argentina\",\"Ukraine\",\"Germany\",\"Spain\",\"FIDE\",\"India\",\"France\",\"Cuba\",\"Germany\",\"India\",\"India\",\"Latvia\",\"Azerbaijan\",\"Australia\",\"Ukraine\",\"Greece\",\"China\",\"Hungary\",\"Russia\",\"United States\",\"Montenegro\",\"Brazil\",\"United States\",\"Russia\",\"Hungary\",\"Czech Republic\",\"Brazil\",\"Austria\",\"Azerbaijan\",\"Argentina\",\"Armenia\",\"France\",\"Hungary\",\"Germany\",\"Slovakia\",\"FIDE\",\"Ukraine\",\"Russia\",\"Russia\",\"Netherlands\",\"Russia\",\"Paraguay\",\"India\",\"Netherlands\",\"Greece\",\"Poland\",\"Russia\",\"India\",\"Paraguay\",\"Israel\",\"China\",\"China\",\"Israel\",\"Singapore\",\"Spain\",\"Italy\",\"France\",\"Moldova\",\"United States\",\"Australia\",\"China\",\"China\",\"Germany\",\"United States\",\"Israel\",\"England\",\"England\",\"FIDE\",\"Ukraine\",\"United States\",\"Norway\",\"India\",\"Russia\",\"Serbia\",\"France\",\"Vietnam\",\"Cuba\",\"Slovakia\",\"Greece\",\"Ukraine\",\"Russia\",\"Belarus\",\"Ukraine\",\"Bosnia-Herzegovina\",\"United States\",\"Netherlands\",\"Israel\",\"India\",\"Italy\",\"Russia\",\"Georgia\",\"Israel\",\"Peru\",\"Germany\",\"China\",\"Spain\",\"Georgia\",\"Slovenia\",\"Greece\",\"Finland\",\"Azerbaijan\",\"Norway\",\"Spain\",\"Netherlands\",\"United States\",\"China\",\"France\",\"Croatia\",\"Russia\",\"Belgium\",\"Croatia\",\"Argentina\",\"Romania\",\"Sweden\",\"Germany\",\"Ukraine\",\"Ukraine\",\"Spain\",\"Poland\",\"Hungary\",\"India\",\"Brazil\",\"China\",\"Philippines\",\"Azerbaijan\",\"Serbia\",\"Hungary\",\"Hungary\",\"Russia\",\"Sweden\",\"Poland\",\"Azerbaijan\",\"India\",\"Russia\",\"FIDE\",\"FIDE\",\"Poland\",\"Montenegro\",\"Croatia\",\"China\",\"Ukraine\",\"China\",\"Faroe Islands\",\"Brazil\",\"Germany\",\"Azerbaijan\",\"Germany\",\"Croatia\",\"France\",\"Czech Republic\",\"Croatia\",\"France\",\"Armenia\",\"North Macedonia\",\"Italy\",\"Russia\",\"FIDE\",\"Poland\",\"Switzerland\",\"Greece\",\"Belgium\",\"Poland\",\"India\",\"FIDE\",\"Netherlands\",\"Hungary\",\"Latvia\",\"Poland\",\"Hungary\",\"Cuba\",\"Russia\",\"Hungary\",\"Netherlands\",\"Israel\",\"Russia\",\"Denmark\",\"FIDE\",\"India\",\"Argentina\",\"Russia\",\"Israel\",\"Georgia\",\"Russia\",\"Serbia\",\"Brazil\",\"Russia\",\"Russia\",\"Türkiye\",\"China\",\"India\",\"Croatia\",\"United States\",\"Spain\",\"Switzerland\",\"Ukraine\",\"Netherlands\",\"Russia\",\"Switzerland\",\"Slovenia\",\"England\",\"Germany\",\"Germany\",\"Scotland\",\"Netherlands\",\"Czech Republic\",\"Ukraine\",\"Ukraine\",\"Lithuania\",\"Israel\",\"Hungary\",\"Germany\",\"United States\",\"Türkiye\",\"Poland\",\"Poland\",\"Austria\",\"Ukraine\",\"Croatia\",\"Hungary\",\"Hungary\",\"Bosnia-Herzegovina\",\"China\",\"Russia\",\"Denmark\",\"France\",\"Croatia\",\"Czech Republic\",\"Iceland\",\"Romania\",\"Hungary\",\"Germany\",\"Russia\",\"United States\",\"Russia\",\"Iceland\",\"Montenegro\",\"India\",\"France\",\"Israel\",\"Mongolia\",\"Russia\",\"Argentina\",\"France\",\"Morocco\",\"United States\",\"Brazil\",\"Argentina\",\"Colombia\",\"Russia\",\"India\",\"Czech Republic\",\"Lithuania\",\"Estonia\",\"Germany\",\"Croatia\",\"England\",\"Italy\",\"Romania\",\"United States\",\"Czech Republic\",\"Portugal\",\"China\",\"Armenia\",\"United States\",\"Romania\",\"Türkiye\",\"Israel\",\"Germany\",\"Netherlands\",\"Armenia\",\"Slovenia\",\"Netherlands\",\"Egypt\",\"India\",\"Netherlands\",\"Netherlands\",\"Russia\",\"India\",\"Armenia\",\"Spain\",\"Belarus\",\"United States\",\"Germany\",\"Czech Republic\",\"Bosnia-Herzegovina\",\"Latvia\",\"Poland\",\"Netherlands\",\"Poland\",\"Andorra\",\"Poland\",\"Croatia\",\"Germany\",\"Sweden\",\"United States\",\"Serbia\",\"Paraguay\",\"Slovenia\",\"United States\",\"Poland\",\"Kazakhstan\",\"Algeria\",\"Colombia\",\"Sweden\",\"India\",\"Mongolia\",\"Ukraine\",\"India\",\"Brazil\",\"Georgia\",\"Slovakia\",\"Georgia\",\"United States\",\"Slovakia\",\"Spain\",\"United States\",\"France\",\"Russia\",\"Bulgaria\",\"United States\",\"Israel\",\"Serbia\",\"Spain\",\"Russia\",\"Norway\",\"China\",\"Switzerland\",\"Italy\",\"Ukraine\",\"Moldova\",\"Denmark\",\"Spain\",\"China\",\"Austria\",\"Ukraine\",\"Australia\",\"Ukraine\",\"Hungary\",\"Kazakhstan\",\"Greece\",\"Ukraine\",\"India\",\"Greece\",\"Germany\",\"Poland\",\"China\",\"Georgia\",\"Mexico\",\"United States\",\"Belgium\",\"Georgia\",\"Azerbaijan\",\"Argentina\",\"Cuba\",\"Poland\",\"Iran\",\"France\",\"India\",\"Ukraine\",\"Armenia\",\"Sweden\",\"Montenegro\",\"Indonesia\",\"Uzbekistan\",\"Germany\",\"India\",\"Poland\",\"Norway\",\"India\",\"FIDE\",\"Netherlands\",\"Netherlands\",\"Ukraine\",\"FIDE\",\"Switzerland\",\"Poland\",\"Azerbaijan\",\"Cuba\",\"India\",\"Russia\",\"China\",\"India\",\"Serbia\",\"Poland\",\"Spain\",\"Cuba\",\"Germany\",\"China\",\"Colombia\",\"Germany\",\"Australia\",\"France\",\"Bulgaria\",\"India\",\"China\",\"Georgia\",\"Italy\",\"England\",\"Israel\",\"France\",\"Greece\",\"Georgia\",\"Spain\",\"Germany\",\"Peru\",\"India\",\"Poland\",\"Poland\",\"FIDE\",\"Spain\",\"Netherlands\",\"Poland\",\"Russia\",\"Poland\",\"Serbia\",\"Romania\",\"France\",\"Armenia\",\"Belarus\",\"Hungary\",\"Romania\",\"United States\",\"Iran\",\"France\",\"Hungary\",\"Brazil\",\"Sweden\",\"Iceland\",\"Brazil\",\"Romania\",\"Uzbekistan\",\"Poland\",\"Cuba\",\"United States\",\"Russia\",\"Norway\",\"Lithuania\",\"Lithuania\",\"Israel\",\"Sweden\",\"United States\",\"Serbia\",\"Serbia\",\"Serbia\",\"Russia\",\"Poland\",\"Azerbaijan\",\"Chile\",\"Spain\",\"Australia\",\"China\",\"Germany\",\"England\",\"France\",\"France\",\"Ukraine\",\"Cuba\",\"Ukraine\",\"Hungary\",\"Bulgaria\",\"Czech Republic\",\"Türkiye\",\"United States\",\"India\",\"Bulgaria\",\"Ukraine\",\"Iran\",\"Germany\",\"France\",\"Romania\",\"Indonesia\",\"United States\",\"Sweden\",\"Vietnam\",\"Serbia\",\"Italy\",\"Poland\",\"Philippines\",\"France\",\"Azerbaijan\",\"Croatia\",\"Serbia\",\"Iran\",\"Italy\",\"Iran\",\"Germany\",\"China\",\"Hungary\",\"France\",\"Montenegro\",\"Russia\",\"Canada\",\"China\",\"Mexico\",\"United States\",\"India\",\"Germany\",\"Bulgaria\",\"England\",\"Hungary\",\"Iceland\",\"Colombia\",\"Croatia\",\"Poland\",\"Switzerland\",\"Germany\",\"Israel\",\"Sweden\",\"Slovenia\",\"Ukraine\",\"Mexico\",\"Latvia\",\"Venezuela\",\"Norway\",\"Serbia\",\"Canada\",\"Russia\",\"Bulgaria\",\"India\",\"Spain\",\"France\",\"Czech Republic\",\"Netherlands\",\"Israel\",\"France\",\"Moldova\",\"Spain\",\"India\",\"Czech Republic\",\"Poland\",\"Egypt\",\"Germany\",\"Germany\",\"Denmark\",\"Russia\",\"France\",\"United States\",\"Serbia\",\"Chile\",\"Israel\",\"Argentina\",\"China\",\"FIDE\",\"United States\",\"Iceland\",\"Germany\",\"Kazakhstan\",\"Israel\",\"Germany\",\"Portugal\",\"Austria\",\"Australia\",\"Georgia\",\"England\",\"FIDE\",\"Poland\",\"Turkmenistan\",\"Iran\",\"India\",\"Brazil\",\"Mongolia\",\"India\",\"Netherlands\",\"Russia\",\"Romania\",\"Türkiye\",\"North Macedonia\",\"Israel\",\"Russia\",\"Peru\",\"Serbia\",\"Chile\",\"FIDE\",\"Peru\",\"Spain\",\"Israel\",\"Canada\",\"Russia\",\"Russia\",\"Cuba\",\"Germany\",\"Iceland\",\"Sweden\",\"Poland\",\"Germany\",\"Serbia\",\"United States\",\"Czech Republic\",\"Mongolia\",\"China\",\"Iran\",\"Denmark\",\"Sweden\",\"Canada\",\"Belarus\",\"Russia\",\"Germany\",\"Germany\",\"Israel\",\"Germany\",\"Paraguay\",\"France\",\"Russia\",\"United States\",\"Russia\",\"Bosnia-Herzegovina\",\"Germany\",\"Estonia\",\"Serbia\",\"Greece\",\"India\",\"Iceland\",\"FIDE\",\"Czech Republic\",\"Kazakhstan\"],\"yaxis\":\"y\",\"type\":\"histogram\"},{\"alignmentgroup\":\"True\",\"bingroup\":\"y\",\"hovertemplate\":\"Title=IM\\u003cbr\\u003ecount=%{x}\\u003cbr\\u003eFederation=%{y}\\u003cextra\\u003e\\u003c\\u002fextra\\u003e\",\"legendgroup\":\"IM\",\"marker\":{\"color\":\"#EF553B\",\"pattern\":{\"shape\":\"\"}},\"name\":\"IM\",\"offsetgroup\":\"IM\",\"orientation\":\"h\",\"showlegend\":true,\"xaxis\":\"x\",\"y\":[\"Poland\",\"Türkiye\",\"Norway\",\"Austria\",\"India\",\"Denmark\",\"Russia\",\"Slovakia\",\"FIDE\",\"Germany\",\"Poland\",\"United States\",\"FIDE\",\"Türkiye\",\"Finland\",\"United States\",\"Peru\",\"Russia\",\"Czech Republic\",\"India\",\"China\",\"England\",\"Slovenia\",\"Georgia\",\"Hungary\",\"Serbia\",\"Turkmenistan\",\"Italy\",\"Armenia\",\"Türkiye\",\"Peru\",\"Austria\",\"Russia\",\"France\",\"FIDE\",\"Netherlands\",\"Bosnia-Herzegovina\",\"Slovakia\",\"Russia\",\"Israel\",\"Spain\",\"Ukraine\",\"Spain\",\"Canada\",\"France\",\"Azerbaijan\",\"Malaysia\",\"Azerbaijan\",\"India\",\"Cuba\",\"United States\",\"Israel\",\"Spain\",\"Uzbekistan\",\"Kazakhstan\",\"Spain\",\"Czech Republic\",\"Israel\",\"Germany\",\"India\",\"China\",\"Israel\",\"Ukraine\",\"Russia\",\"Czech Republic\",\"Norway\",\"Spain\",\"Netherlands\",\"Serbia\",\"Germany\",\"Iceland\",\"Ukraine\",\"Hungary\",\"Denmark\",\"United States\",\"Germany\",\"France\",\"Brazil\",\"Argentina\",\"Hungary\",\"Cape Verde\",\"Russia\",\"Canada\",\"Switzerland\",\"Armenia\",\"Germany\",\"Sweden\",\"United States\",\"Serbia\",\"Ukraine\",\"Germany\",\"Germany\",\"Azerbaijan\",\"Poland\",\"Kazakhstan\",\"Norway\",\"Germany\",\"Netherlands\",\"France\",\"Germany\",\"Israel\",\"Romania\",\"Germany\",\"Czech Republic\",\"Iran\",\"Germany\",\"Canada\",\"Spain\",\"Czech Republic\",\"China\",\"Norway\",\"Russia\",\"Poland\",\"Israel\",\"Germany\",\"Slovakia\",\"Spain\",\"Switzerland\",\"France\",\"Norway\",\"England\",\"Cuba\",\"Germany\",\"Romania\",\"India\",\"China\",\"Georgia\",\"Spain\",\"Spain\",\"Germany\",\"Sweden\",\"Kosovo\",\"Sweden\",\"Argentina\",\"Russia\",\"Ireland\",\"Madagascar\",\"Israel\",\"Hungary\",\"England\",\"United States\",\"Slovenia\",\"Austria\",\"Israel\",\"Austria\",\"Cuba\",\"Serbia\",\"Cuba\",\"France\",\"Kazakhstan\",\"Kazakhstan\",\"Germany\",\"Moldova\",\"Hungary\",\"FIDE\",\"Poland\",\"Russia\",\"Georgia\",\"India\",\"India\",\"Australia\",\"Hungary\",\"Ukraine\",\"Spain\",\"Croatia\",\"China\",\"United States\",\"Cuba\",\"Finland\",\"Spain\",\"United States\",\"India\",\"United States\",\"Bulgaria\",\"Portugal\",\"Spain\",\"Australia\",\"Ukraine\",\"Spain\",\"Germany\",\"Finland\",\"Türkiye\",\"India\",\"North Macedonia\",\"India\",\"Armenia\",\"France\",\"Türkiye\",\"Germany\",\"Sweden\"],\"yaxis\":\"y\",\"type\":\"histogram\"},{\"alignmentgroup\":\"True\",\"bingroup\":\"y\",\"hovertemplate\":\"Title=FM\\u003cbr\\u003ecount=%{x}\\u003cbr\\u003eFederation=%{y}\\u003cextra\\u003e\\u003c\\u002fextra\\u003e\",\"legendgroup\":\"FM\",\"marker\":{\"color\":\"#00cc96\",\"pattern\":{\"shape\":\"\"}},\"name\":\"FM\",\"offsetgroup\":\"FM\",\"orientation\":\"h\",\"showlegend\":true,\"xaxis\":\"x\",\"y\":[\"Russia\",\"Germany\",\"Russia\",\"Spain\",\"Germany\",\"France\"],\"yaxis\":\"y\",\"type\":\"histogram\"},{\"alignmentgroup\":\"True\",\"bingroup\":\"y\",\"hovertemplate\":\"Title=WGM\\u003cbr\\u003ecount=%{x}\\u003cbr\\u003eFederation=%{y}\\u003cextra\\u003e\\u003c\\u002fextra\\u003e\",\"legendgroup\":\"WGM\",\"marker\":{\"color\":\"#ab63fa\",\"pattern\":{\"shape\":\"\"}},\"name\":\"WGM\",\"offsetgroup\":\"WGM\",\"orientation\":\"h\",\"showlegend\":true,\"xaxis\":\"x\",\"y\":[\"Germany\"],\"yaxis\":\"y\",\"type\":\"histogram\"},{\"alignmentgroup\":\"True\",\"bingroup\":\"y\",\"hovertemplate\":\"Title=CM\\u003cbr\\u003ecount=%{x}\\u003cbr\\u003eFederation=%{y}\\u003cextra\\u003e\\u003c\\u002fextra\\u003e\",\"legendgroup\":\"CM\",\"marker\":{\"color\":\"#FFA15A\",\"pattern\":{\"shape\":\"\"}},\"name\":\"CM\",\"offsetgroup\":\"CM\",\"orientation\":\"h\",\"showlegend\":true,\"xaxis\":\"x\",\"y\":[\"India\"],\"yaxis\":\"y\",\"type\":\"histogram\"}],                        {\"template\":{\"data\":{\"histogram2dcontour\":[{\"type\":\"histogram2dcontour\",\"colorbar\":{\"outlinewidth\":0,\"ticks\":\"\"},\"colorscale\":[[0.0,\"#0d0887\"],[0.1111111111111111,\"#46039f\"],[0.2222222222222222,\"#7201a8\"],[0.3333333333333333,\"#9c179e\"],[0.4444444444444444,\"#bd3786\"],[0.5555555555555556,\"#d8576b\"],[0.6666666666666666,\"#ed7953\"],[0.7777777777777778,\"#fb9f3a\"],[0.8888888888888888,\"#fdca26\"],[1.0,\"#f0f921\"]]}],\"choropleth\":[{\"type\":\"choropleth\",\"colorbar\":{\"outlinewidth\":0,\"ticks\":\"\"}}],\"histogram2d\":[{\"type\":\"histogram2d\",\"colorbar\":{\"outlinewidth\":0,\"ticks\":\"\"},\"colorscale\":[[0.0,\"#0d0887\"],[0.1111111111111111,\"#46039f\"],[0.2222222222222222,\"#7201a8\"],[0.3333333333333333,\"#9c179e\"],[0.4444444444444444,\"#bd3786\"],[0.5555555555555556,\"#d8576b\"],[0.6666666666666666,\"#ed7953\"],[0.7777777777777778,\"#fb9f3a\"],[0.8888888888888888,\"#fdca26\"],[1.0,\"#f0f921\"]]}],\"heatmap\":[{\"type\":\"heatmap\",\"colorbar\":{\"outlinewidth\":0,\"ticks\":\"\"},\"colorscale\":[[0.0,\"#0d0887\"],[0.1111111111111111,\"#46039f\"],[0.2222222222222222,\"#7201a8\"],[0.3333333333333333,\"#9c179e\"],[0.4444444444444444,\"#bd3786\"],[0.5555555555555556,\"#d8576b\"],[0.6666666666666666,\"#ed7953\"],[0.7777777777777778,\"#fb9f3a\"],[0.8888888888888888,\"#fdca26\"],[1.0,\"#f0f921\"]]}],\"heatmapgl\":[{\"type\":\"heatmapgl\",\"colorbar\":{\"outlinewidth\":0,\"ticks\":\"\"},\"colorscale\":[[0.0,\"#0d0887\"],[0.1111111111111111,\"#46039f\"],[0.2222222222222222,\"#7201a8\"],[0.3333333333333333,\"#9c179e\"],[0.4444444444444444,\"#bd3786\"],[0.5555555555555556,\"#d8576b\"],[0.6666666666666666,\"#ed7953\"],[0.7777777777777778,\"#fb9f3a\"],[0.8888888888888888,\"#fdca26\"],[1.0,\"#f0f921\"]]}],\"contourcarpet\":[{\"type\":\"contourcarpet\",\"colorbar\":{\"outlinewidth\":0,\"ticks\":\"\"}}],\"contour\":[{\"type\":\"contour\",\"colorbar\":{\"outlinewidth\":0,\"ticks\":\"\"},\"colorscale\":[[0.0,\"#0d0887\"],[0.1111111111111111,\"#46039f\"],[0.2222222222222222,\"#7201a8\"],[0.3333333333333333,\"#9c179e\"],[0.4444444444444444,\"#bd3786\"],[0.5555555555555556,\"#d8576b\"],[0.6666666666666666,\"#ed7953\"],[0.7777777777777778,\"#fb9f3a\"],[0.8888888888888888,\"#fdca26\"],[1.0,\"#f0f921\"]]}],\"surface\":[{\"type\":\"surface\",\"colorbar\":{\"outlinewidth\":0,\"ticks\":\"\"},\"colorscale\":[[0.0,\"#0d0887\"],[0.1111111111111111,\"#46039f\"],[0.2222222222222222,\"#7201a8\"],[0.3333333333333333,\"#9c179e\"],[0.4444444444444444,\"#bd3786\"],[0.5555555555555556,\"#d8576b\"],[0.6666666666666666,\"#ed7953\"],[0.7777777777777778,\"#fb9f3a\"],[0.8888888888888888,\"#fdca26\"],[1.0,\"#f0f921\"]]}],\"mesh3d\":[{\"type\":\"mesh3d\",\"colorbar\":{\"outlinewidth\":0,\"ticks\":\"\"}}],\"scatter\":[{\"fillpattern\":{\"fillmode\":\"overlay\",\"size\":10,\"solidity\":0.2},\"type\":\"scatter\"}],\"parcoords\":[{\"type\":\"parcoords\",\"line\":{\"colorbar\":{\"outlinewidth\":0,\"ticks\":\"\"}}}],\"scatterpolargl\":[{\"type\":\"scatterpolargl\",\"marker\":{\"colorbar\":{\"outlinewidth\":0,\"ticks\":\"\"}}}],\"bar\":[{\"error_x\":{\"color\":\"#2a3f5f\"},\"error_y\":{\"color\":\"#2a3f5f\"},\"marker\":{\"line\":{\"color\":\"#E5ECF6\",\"width\":0.5},\"pattern\":{\"fillmode\":\"overlay\",\"size\":10,\"solidity\":0.2}},\"type\":\"bar\"}],\"scattergeo\":[{\"type\":\"scattergeo\",\"marker\":{\"colorbar\":{\"outlinewidth\":0,\"ticks\":\"\"}}}],\"scatterpolar\":[{\"type\":\"scatterpolar\",\"marker\":{\"colorbar\":{\"outlinewidth\":0,\"ticks\":\"\"}}}],\"histogram\":[{\"marker\":{\"pattern\":{\"fillmode\":\"overlay\",\"size\":10,\"solidity\":0.2}},\"type\":\"histogram\"}],\"scattergl\":[{\"type\":\"scattergl\",\"marker\":{\"colorbar\":{\"outlinewidth\":0,\"ticks\":\"\"}}}],\"scatter3d\":[{\"type\":\"scatter3d\",\"line\":{\"colorbar\":{\"outlinewidth\":0,\"ticks\":\"\"}},\"marker\":{\"colorbar\":{\"outlinewidth\":0,\"ticks\":\"\"}}}],\"scattermapbox\":[{\"type\":\"scattermapbox\",\"marker\":{\"colorbar\":{\"outlinewidth\":0,\"ticks\":\"\"}}}],\"scatterternary\":[{\"type\":\"scatterternary\",\"marker\":{\"colorbar\":{\"outlinewidth\":0,\"ticks\":\"\"}}}],\"scattercarpet\":[{\"type\":\"scattercarpet\",\"marker\":{\"colorbar\":{\"outlinewidth\":0,\"ticks\":\"\"}}}],\"carpet\":[{\"aaxis\":{\"endlinecolor\":\"#2a3f5f\",\"gridcolor\":\"white\",\"linecolor\":\"white\",\"minorgridcolor\":\"white\",\"startlinecolor\":\"#2a3f5f\"},\"baxis\":{\"endlinecolor\":\"#2a3f5f\",\"gridcolor\":\"white\",\"linecolor\":\"white\",\"minorgridcolor\":\"white\",\"startlinecolor\":\"#2a3f5f\"},\"type\":\"carpet\"}],\"table\":[{\"cells\":{\"fill\":{\"color\":\"#EBF0F8\"},\"line\":{\"color\":\"white\"}},\"header\":{\"fill\":{\"color\":\"#C8D4E3\"},\"line\":{\"color\":\"white\"}},\"type\":\"table\"}],\"barpolar\":[{\"marker\":{\"line\":{\"color\":\"#E5ECF6\",\"width\":0.5},\"pattern\":{\"fillmode\":\"overlay\",\"size\":10,\"solidity\":0.2}},\"type\":\"barpolar\"}],\"pie\":[{\"automargin\":true,\"type\":\"pie\"}]},\"layout\":{\"autotypenumbers\":\"strict\",\"colorway\":[\"#636efa\",\"#EF553B\",\"#00cc96\",\"#ab63fa\",\"#FFA15A\",\"#19d3f3\",\"#FF6692\",\"#B6E880\",\"#FF97FF\",\"#FECB52\"],\"font\":{\"color\":\"#2a3f5f\"},\"hovermode\":\"closest\",\"hoverlabel\":{\"align\":\"left\"},\"paper_bgcolor\":\"white\",\"plot_bgcolor\":\"#E5ECF6\",\"polar\":{\"bgcolor\":\"#E5ECF6\",\"angularaxis\":{\"gridcolor\":\"white\",\"linecolor\":\"white\",\"ticks\":\"\"},\"radialaxis\":{\"gridcolor\":\"white\",\"linecolor\":\"white\",\"ticks\":\"\"}},\"ternary\":{\"bgcolor\":\"#E5ECF6\",\"aaxis\":{\"gridcolor\":\"white\",\"linecolor\":\"white\",\"ticks\":\"\"},\"baxis\":{\"gridcolor\":\"white\",\"linecolor\":\"white\",\"ticks\":\"\"},\"caxis\":{\"gridcolor\":\"white\",\"linecolor\":\"white\",\"ticks\":\"\"}},\"coloraxis\":{\"colorbar\":{\"outlinewidth\":0,\"ticks\":\"\"}},\"colorscale\":{\"sequential\":[[0.0,\"#0d0887\"],[0.1111111111111111,\"#46039f\"],[0.2222222222222222,\"#7201a8\"],[0.3333333333333333,\"#9c179e\"],[0.4444444444444444,\"#bd3786\"],[0.5555555555555556,\"#d8576b\"],[0.6666666666666666,\"#ed7953\"],[0.7777777777777778,\"#fb9f3a\"],[0.8888888888888888,\"#fdca26\"],[1.0,\"#f0f921\"]],\"sequentialminus\":[[0.0,\"#0d0887\"],[0.1111111111111111,\"#46039f\"],[0.2222222222222222,\"#7201a8\"],[0.3333333333333333,\"#9c179e\"],[0.4444444444444444,\"#bd3786\"],[0.5555555555555556,\"#d8576b\"],[0.6666666666666666,\"#ed7953\"],[0.7777777777777778,\"#fb9f3a\"],[0.8888888888888888,\"#fdca26\"],[1.0,\"#f0f921\"]],\"diverging\":[[0,\"#8e0152\"],[0.1,\"#c51b7d\"],[0.2,\"#de77ae\"],[0.3,\"#f1b6da\"],[0.4,\"#fde0ef\"],[0.5,\"#f7f7f7\"],[0.6,\"#e6f5d0\"],[0.7,\"#b8e186\"],[0.8,\"#7fbc41\"],[0.9,\"#4d9221\"],[1,\"#276419\"]]},\"xaxis\":{\"gridcolor\":\"white\",\"linecolor\":\"white\",\"ticks\":\"\",\"title\":{\"standoff\":15},\"zerolinecolor\":\"white\",\"automargin\":true,\"zerolinewidth\":2},\"yaxis\":{\"gridcolor\":\"white\",\"linecolor\":\"white\",\"ticks\":\"\",\"title\":{\"standoff\":15},\"zerolinecolor\":\"white\",\"automargin\":true,\"zerolinewidth\":2},\"scene\":{\"xaxis\":{\"backgroundcolor\":\"#E5ECF6\",\"gridcolor\":\"white\",\"linecolor\":\"white\",\"showbackground\":true,\"ticks\":\"\",\"zerolinecolor\":\"white\",\"gridwidth\":2},\"yaxis\":{\"backgroundcolor\":\"#E5ECF6\",\"gridcolor\":\"white\",\"linecolor\":\"white\",\"showbackground\":true,\"ticks\":\"\",\"zerolinecolor\":\"white\",\"gridwidth\":2},\"zaxis\":{\"backgroundcolor\":\"#E5ECF6\",\"gridcolor\":\"white\",\"linecolor\":\"white\",\"showbackground\":true,\"ticks\":\"\",\"zerolinecolor\":\"white\",\"gridwidth\":2}},\"shapedefaults\":{\"line\":{\"color\":\"#2a3f5f\"}},\"annotationdefaults\":{\"arrowcolor\":\"#2a3f5f\",\"arrowhead\":0,\"arrowwidth\":1},\"geo\":{\"bgcolor\":\"white\",\"landcolor\":\"#E5ECF6\",\"subunitcolor\":\"white\",\"showland\":true,\"showlakes\":true,\"lakecolor\":\"white\"},\"title\":{\"x\":0.05},\"mapbox\":{\"style\":\"light\"}}},\"xaxis\":{\"anchor\":\"y\",\"domain\":[0.0,1.0],\"title\":{\"text\":\"count\"}},\"yaxis\":{\"anchor\":\"x\",\"domain\":[0.0,1.0],\"title\":{\"text\":\"Federation\"}},\"legend\":{\"title\":{\"text\":\"Title\"},\"tracegroupgap\":0},\"margin\":{\"t\":60},\"barmode\":\"relative\",\"height\":1500},                        {\"responsive\": true}                    ).then(function(){\n",
       "                            \n",
       "var gd = document.getElementById('97776083-e78a-4b04-9ff8-cd8f33b4db27');\n",
       "var x = new MutationObserver(function (mutations, observer) {{\n",
       "        var display = window.getComputedStyle(gd).display;\n",
       "        if (!display || display === 'none') {{\n",
       "            console.log([gd, 'removed!']);\n",
       "            Plotly.purge(gd);\n",
       "            observer.disconnect();\n",
       "        }}\n",
       "}});\n",
       "\n",
       "// Listen for the removal of the full notebook cells\n",
       "var notebookContainer = gd.closest('#notebook-container');\n",
       "if (notebookContainer) {{\n",
       "    x.observe(notebookContainer, {childList: true});\n",
       "}}\n",
       "\n",
       "// Listen for the clearing of the current output cell\n",
       "var outputEl = gd.closest('.output');\n",
       "if (outputEl) {{\n",
       "    x.observe(outputEl, {childList: true});\n",
       "}}\n",
       "\n",
       "                        })                };                });            </script>        </div>"
      ]
     },
     "metadata": {},
     "output_type": "display_data"
    }
   ],
   "source": [
    "from plotly.express import histogram\n",
    "histogram(data_frame=df, y='Federation', height=1500, color='Title')"
   ]
  },
  {
   "cell_type": "code",
   "execution_count": 5,
   "id": "80cfd84e",
   "metadata": {
    "execution": {
     "iopub.execute_input": "2024-01-30T19:37:43.046098Z",
     "iopub.status.busy": "2024-01-30T19:37:43.045637Z",
     "iopub.status.idle": "2024-01-30T19:37:43.060473Z",
     "shell.execute_reply": "2024-01-30T19:37:43.059514Z"
    },
    "papermill": {
     "duration": 0.024251,
     "end_time": "2024-01-30T19:37:43.062712",
     "exception": false,
     "start_time": "2024-01-30T19:37:43.038461",
     "status": "completed"
    },
    "tags": []
   },
   "outputs": [
    {
     "data": {
      "text/html": [
       "<div>\n",
       "<style scoped>\n",
       "    .dataframe tbody tr th:only-of-type {\n",
       "        vertical-align: middle;\n",
       "    }\n",
       "\n",
       "    .dataframe tbody tr th {\n",
       "        vertical-align: top;\n",
       "    }\n",
       "\n",
       "    .dataframe thead th {\n",
       "        text-align: right;\n",
       "    }\n",
       "</style>\n",
       "<table border=\"1\" class=\"dataframe\">\n",
       "  <thead>\n",
       "    <tr style=\"text-align: right;\">\n",
       "      <th></th>\n",
       "      <th>Title</th>\n",
       "      <th>Player</th>\n",
       "      <th>Rating | Ranking</th>\n",
       "      <th>Federation</th>\n",
       "      <th>Rating</th>\n",
       "      <th>Ranking</th>\n",
       "    </tr>\n",
       "  </thead>\n",
       "  <tbody>\n",
       "    <tr>\n",
       "      <th>1059</th>\n",
       "      <td>IM</td>\n",
       "      <td>Jubin Jimmy</td>\n",
       "      <td>2452 | #1063</td>\n",
       "      <td>India</td>\n",
       "      <td>2452</td>\n",
       "      <td>1063</td>\n",
       "    </tr>\n",
       "    <tr>\n",
       "      <th>1061</th>\n",
       "      <td>IM</td>\n",
       "      <td>Tigran S Petrosyan</td>\n",
       "      <td>2452 | #1063</td>\n",
       "      <td>Armenia</td>\n",
       "      <td>2452</td>\n",
       "      <td>1063</td>\n",
       "    </tr>\n",
       "    <tr>\n",
       "      <th>1063</th>\n",
       "      <td>IM</td>\n",
       "      <td>Benoit Lepelletier</td>\n",
       "      <td>2452 | #1063</td>\n",
       "      <td>France</td>\n",
       "      <td>2452</td>\n",
       "      <td>1063</td>\n",
       "    </tr>\n",
       "    <tr>\n",
       "      <th>1064</th>\n",
       "      <td>IM</td>\n",
       "      <td>Eray Kilic</td>\n",
       "      <td>2452 | #1063</td>\n",
       "      <td>Türkiye</td>\n",
       "      <td>2452</td>\n",
       "      <td>1063</td>\n",
       "    </tr>\n",
       "    <tr>\n",
       "      <th>1065</th>\n",
       "      <td>GM</td>\n",
       "      <td>Gudmundur Kjartansson</td>\n",
       "      <td>2452 | #1063</td>\n",
       "      <td>Iceland</td>\n",
       "      <td>2452</td>\n",
       "      <td>1063</td>\n",
       "    </tr>\n",
       "    <tr>\n",
       "      <th>1066</th>\n",
       "      <td>GM</td>\n",
       "      <td>Sergey Kasparov</td>\n",
       "      <td>2452 | #1063</td>\n",
       "      <td>FIDE</td>\n",
       "      <td>2452</td>\n",
       "      <td>1063</td>\n",
       "    </tr>\n",
       "    <tr>\n",
       "      <th>1067</th>\n",
       "      <td>IM</td>\n",
       "      <td>Xianliang Xu</td>\n",
       "      <td>2452 | #1063</td>\n",
       "      <td>Germany</td>\n",
       "      <td>2452</td>\n",
       "      <td>1063</td>\n",
       "    </tr>\n",
       "    <tr>\n",
       "      <th>1068</th>\n",
       "      <td>IM</td>\n",
       "      <td>Martin Lokander</td>\n",
       "      <td>2452 | #1063</td>\n",
       "      <td>Sweden</td>\n",
       "      <td>2452</td>\n",
       "      <td>1063</td>\n",
       "    </tr>\n",
       "    <tr>\n",
       "      <th>1069</th>\n",
       "      <td>GM</td>\n",
       "      <td>Pavel Simacek</td>\n",
       "      <td>2452 | #1063</td>\n",
       "      <td>Czech Republic</td>\n",
       "      <td>2452</td>\n",
       "      <td>1063</td>\n",
       "    </tr>\n",
       "    <tr>\n",
       "      <th>1070</th>\n",
       "      <td>GM</td>\n",
       "      <td>Murtas Kazhgaleyev</td>\n",
       "      <td>2452 | #1063</td>\n",
       "      <td>Kazakhstan</td>\n",
       "      <td>2452</td>\n",
       "      <td>1063</td>\n",
       "    </tr>\n",
       "  </tbody>\n",
       "</table>\n",
       "</div>"
      ],
      "text/plain": [
       "     Title                 Player Rating | Ranking      Federation  Rating  \\\n",
       "1059    IM            Jubin Jimmy     2452 | #1063           India    2452   \n",
       "1061    IM     Tigran S Petrosyan     2452 | #1063         Armenia    2452   \n",
       "1063    IM     Benoit Lepelletier     2452 | #1063          France    2452   \n",
       "1064    IM             Eray Kilic     2452 | #1063         Türkiye    2452   \n",
       "1065    GM  Gudmundur Kjartansson     2452 | #1063         Iceland    2452   \n",
       "1066    GM        Sergey Kasparov     2452 | #1063            FIDE    2452   \n",
       "1067    IM           Xianliang Xu     2452 | #1063         Germany    2452   \n",
       "1068    IM        Martin Lokander     2452 | #1063          Sweden    2452   \n",
       "1069    GM          Pavel Simacek     2452 | #1063  Czech Republic    2452   \n",
       "1070    GM     Murtas Kazhgaleyev     2452 | #1063      Kazakhstan    2452   \n",
       "\n",
       "      Ranking  \n",
       "1059     1063  \n",
       "1061     1063  \n",
       "1063     1063  \n",
       "1064     1063  \n",
       "1065     1063  \n",
       "1066     1063  \n",
       "1067     1063  \n",
       "1068     1063  \n",
       "1069     1063  \n",
       "1070     1063  "
      ]
     },
     "execution_count": 5,
     "metadata": {},
     "output_type": "execute_result"
    }
   ],
   "source": [
    "df.tail(n=10)"
   ]
  }
 ],
 "metadata": {
  "kaggle": {
   "accelerator": "none",
   "dataSources": [
    {
     "datasetId": 4374435,
     "sourceId": 7510789,
     "sourceType": "datasetVersion"
    }
   ],
   "dockerImageVersionId": 30646,
   "isGpuEnabled": false,
   "isInternetEnabled": true,
   "language": "python",
   "sourceType": "notebook"
  },
  "kernelspec": {
   "display_name": "Python 3",
   "language": "python",
   "name": "python3"
  },
  "language_info": {
   "codemirror_mode": {
    "name": "ipython",
    "version": 3
   },
   "file_extension": ".py",
   "mimetype": "text/x-python",
   "name": "python",
   "nbconvert_exporter": "python",
   "pygments_lexer": "ipython3",
   "version": "3.10.13"
  },
  "papermill": {
   "default_parameters": {},
   "duration": 8.393845,
   "end_time": "2024-01-30T19:37:43.698736",
   "environment_variables": {},
   "exception": null,
   "input_path": "__notebook__.ipynb",
   "output_path": "__notebook__.ipynb",
   "parameters": {},
   "start_time": "2024-01-30T19:37:35.304891",
   "version": "2.5.0"
  }
 },
 "nbformat": 4,
 "nbformat_minor": 5
}
