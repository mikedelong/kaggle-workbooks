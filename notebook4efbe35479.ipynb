{
 "cells": [
  {
   "cell_type": "code",
   "execution_count": 1,
   "id": "323155c2",
   "metadata": {
    "_cell_guid": "b1076dfc-b9ad-4769-8c92-a6c4dae69d19",
    "_uuid": "8f2839f25d086af736a60e9eeb907d3b93b6e0e5",
    "execution": {
     "iopub.execute_input": "2025-02-18T21:53:33.433026Z",
     "iopub.status.busy": "2025-02-18T21:53:33.432696Z",
     "iopub.status.idle": "2025-02-18T21:53:41.120855Z",
     "shell.execute_reply": "2025-02-18T21:53:41.119743Z"
    },
    "papermill": {
     "duration": 7.695045,
     "end_time": "2025-02-18T21:53:41.122736",
     "exception": false,
     "start_time": "2025-02-18T21:53:33.427691",
     "status": "completed"
    },
    "tags": []
   },
   "outputs": [
    {
     "data": {
      "text/html": [
       "<div>\n",
       "<style scoped>\n",
       "    .dataframe tbody tr th:only-of-type {\n",
       "        vertical-align: middle;\n",
       "    }\n",
       "\n",
       "    .dataframe tbody tr th {\n",
       "        vertical-align: top;\n",
       "    }\n",
       "\n",
       "    .dataframe thead th {\n",
       "        text-align: right;\n",
       "    }\n",
       "</style>\n",
       "<table border=\"1\" class=\"dataframe\">\n",
       "  <thead>\n",
       "    <tr style=\"text-align: right;\">\n",
       "      <th></th>\n",
       "      <th>Entity Name</th>\n",
       "      <th>Fiscal Year</th>\n",
       "      <th>County</th>\n",
       "      <th>Field Name</th>\n",
       "      <th>Category</th>\n",
       "      <th>Subcategory 1</th>\n",
       "      <th>Subcategory 2</th>\n",
       "      <th>Line Description</th>\n",
       "      <th>Value</th>\n",
       "      <th>City, State, Zip</th>\n",
       "      <th>Estimated Population</th>\n",
       "      <th>Row Number</th>\n",
       "    </tr>\n",
       "  </thead>\n",
       "  <tbody>\n",
       "    <tr>\n",
       "      <th>0</th>\n",
       "      <td>Adelanto</td>\n",
       "      <td>2018</td>\n",
       "      <td>San Bernardino</td>\n",
       "      <td>PERS_SERV</td>\n",
       "      <td>Internal Service Fund</td>\n",
       "      <td>Operating Expenses</td>\n",
       "      <td>Personnel Services</td>\n",
       "      <td>Personnel Services</td>\n",
       "      <td>0.0</td>\n",
       "      <td>Adelanto, CA 92301</td>\n",
       "      <td>35293.0</td>\n",
       "      <td>201814821268</td>\n",
       "    </tr>\n",
       "    <tr>\n",
       "      <th>1</th>\n",
       "      <td>Adelanto</td>\n",
       "      <td>2018</td>\n",
       "      <td>San Bernardino</td>\n",
       "      <td>CONTRACT_SERV</td>\n",
       "      <td>Internal Service Fund</td>\n",
       "      <td>Operating Expenses</td>\n",
       "      <td>Contractual Services</td>\n",
       "      <td>Contractual Services</td>\n",
       "      <td>0.0</td>\n",
       "      <td>Adelanto, CA 92301</td>\n",
       "      <td>35293.0</td>\n",
       "      <td>201814821267</td>\n",
       "    </tr>\n",
       "    <tr>\n",
       "      <th>2</th>\n",
       "      <td>Adelanto</td>\n",
       "      <td>2018</td>\n",
       "      <td>San Bernardino</td>\n",
       "      <td>MATERIAL_SUPP</td>\n",
       "      <td>Internal Service Fund</td>\n",
       "      <td>Operating Expenses</td>\n",
       "      <td>Materials and Supplies</td>\n",
       "      <td>Materials and Supplies</td>\n",
       "      <td>0.0</td>\n",
       "      <td>Adelanto, CA 92301</td>\n",
       "      <td>35293.0</td>\n",
       "      <td>201814821266</td>\n",
       "    </tr>\n",
       "    <tr>\n",
       "      <th>3</th>\n",
       "      <td>Sausalito</td>\n",
       "      <td>2017</td>\n",
       "      <td>Marin</td>\n",
       "      <td>ELEC_PURCHASES</td>\n",
       "      <td>Electric Enterprise Fund</td>\n",
       "      <td>Operating Expenses</td>\n",
       "      <td>Electricity Production Expenses</td>\n",
       "      <td>Electricity Purchases_Electric Enterprise Fund</td>\n",
       "      <td>0.0</td>\n",
       "      <td>Sausalito, CA 94965</td>\n",
       "      <td>7327.0</td>\n",
       "      <td>201710831241</td>\n",
       "    </tr>\n",
       "    <tr>\n",
       "      <th>4</th>\n",
       "      <td>Adelanto</td>\n",
       "      <td>2018</td>\n",
       "      <td>San Bernardino</td>\n",
       "      <td>GEN_ADMIN_EXP</td>\n",
       "      <td>Internal Service Fund</td>\n",
       "      <td>Operating Expenses</td>\n",
       "      <td>General and Administrative Expenses</td>\n",
       "      <td>General and Administrative Expenses</td>\n",
       "      <td>0.0</td>\n",
       "      <td>Adelanto, CA 92301</td>\n",
       "      <td>35293.0</td>\n",
       "      <td>201814821265</td>\n",
       "    </tr>\n",
       "  </tbody>\n",
       "</table>\n",
       "</div>"
      ],
      "text/plain": [
       "  Entity Name  Fiscal Year          County      Field Name  \\\n",
       "0    Adelanto         2018  San Bernardino       PERS_SERV   \n",
       "1    Adelanto         2018  San Bernardino   CONTRACT_SERV   \n",
       "2    Adelanto         2018  San Bernardino   MATERIAL_SUPP   \n",
       "3   Sausalito         2017           Marin  ELEC_PURCHASES   \n",
       "4    Adelanto         2018  San Bernardino   GEN_ADMIN_EXP   \n",
       "\n",
       "                   Category       Subcategory 1  \\\n",
       "0     Internal Service Fund  Operating Expenses   \n",
       "1     Internal Service Fund  Operating Expenses   \n",
       "2     Internal Service Fund  Operating Expenses   \n",
       "3  Electric Enterprise Fund  Operating Expenses   \n",
       "4     Internal Service Fund  Operating Expenses   \n",
       "\n",
       "                         Subcategory 2  \\\n",
       "0                   Personnel Services   \n",
       "1                 Contractual Services   \n",
       "2               Materials and Supplies   \n",
       "3      Electricity Production Expenses   \n",
       "4  General and Administrative Expenses   \n",
       "\n",
       "                                 Line Description  Value     City, State, Zip  \\\n",
       "0                              Personnel Services    0.0   Adelanto, CA 92301   \n",
       "1                            Contractual Services    0.0   Adelanto, CA 92301   \n",
       "2                          Materials and Supplies    0.0   Adelanto, CA 92301   \n",
       "3  Electricity Purchases_Electric Enterprise Fund    0.0  Sausalito, CA 94965   \n",
       "4             General and Administrative Expenses    0.0   Adelanto, CA 92301   \n",
       "\n",
       "   Estimated Population   Row Number   \n",
       "0               35293.0  201814821268  \n",
       "1               35293.0  201814821267  \n",
       "2               35293.0  201814821266  \n",
       "3                7327.0  201710831241  \n",
       "4               35293.0  201814821265  "
      ]
     },
     "execution_count": 1,
     "metadata": {},
     "output_type": "execute_result"
    }
   ],
   "source": [
    "import pandas as pd\n",
    "\n",
    "DATA = '/kaggle/input/mnjblj/City_-_Expenditures.csv'\n",
    "df = pd.read_csv(filepath_or_buffer=DATA).drop(columns=['Type'])\n",
    "df.head()"
   ]
  },
  {
   "cell_type": "markdown",
   "id": "975dccb8",
   "metadata": {
    "papermill": {
     "duration": 0.003322,
     "end_time": "2025-02-18T21:53:41.129979",
     "exception": false,
     "start_time": "2025-02-18T21:53:41.126657",
     "status": "completed"
    },
    "tags": []
   },
   "source": [
    "How much data do we have?"
   ]
  },
  {
   "cell_type": "code",
   "execution_count": 2,
   "id": "d43e6e06",
   "metadata": {
    "execution": {
     "iopub.execute_input": "2025-02-18T21:53:41.138109Z",
     "iopub.status.busy": "2025-02-18T21:53:41.137746Z",
     "iopub.status.idle": "2025-02-18T21:53:41.143290Z",
     "shell.execute_reply": "2025-02-18T21:53:41.142236Z"
    },
    "papermill": {
     "duration": 0.011578,
     "end_time": "2025-02-18T21:53:41.144993",
     "exception": false,
     "start_time": "2025-02-18T21:53:41.133415",
     "status": "completed"
    },
    "tags": []
   },
   "outputs": [
    {
     "data": {
      "text/plain": [
       "(1253353, 12)"
      ]
     },
     "execution_count": 2,
     "metadata": {},
     "output_type": "execute_result"
    }
   ],
   "source": [
    "df.shape"
   ]
  },
  {
   "cell_type": "markdown",
   "id": "7917ee93",
   "metadata": {
    "papermill": {
     "duration": 0.003375,
     "end_time": "2025-02-18T21:53:41.152124",
     "exception": false,
     "start_time": "2025-02-18T21:53:41.148749",
     "status": "completed"
    },
    "tags": []
   },
   "source": [
    "We have a lot of data. First let's see if we can plot the total expenditures as a time series."
   ]
  },
  {
   "cell_type": "code",
   "execution_count": 3,
   "id": "caa0c830",
   "metadata": {
    "execution": {
     "iopub.execute_input": "2025-02-18T21:53:41.160267Z",
     "iopub.status.busy": "2025-02-18T21:53:41.159910Z",
     "iopub.status.idle": "2025-02-18T21:53:44.113345Z",
     "shell.execute_reply": "2025-02-18T21:53:44.112525Z"
    },
    "papermill": {
     "duration": 2.959377,
     "end_time": "2025-02-18T21:53:44.114926",
     "exception": false,
     "start_time": "2025-02-18T21:53:41.155549",
     "status": "completed"
    },
    "tags": []
   },
   "outputs": [
    {
     "data": {
      "text/html": [
       "<iframe\n",
       "    scrolling=\"no\"\n",
       "    width=\"100%\"\n",
       "    height=\"545px\"\n",
       "    src=\"iframe_figures/figure_3.html\"\n",
       "    frameborder=\"0\"\n",
       "    allowfullscreen\n",
       "></iframe>\n"
      ]
     },
     "metadata": {},
     "output_type": "display_data"
    }
   ],
   "source": [
    "from plotly import express\n",
    "from plotly import io\n",
    "\n",
    "io.renderers.default = 'iframe'\n",
    "express.line(data_frame=df[['Fiscal Year', 'Value']].groupby(by='Fiscal Year').sum().reset_index(), x='Fiscal Year', y='Value')"
   ]
  },
  {
   "cell_type": "markdown",
   "id": "2138b723",
   "metadata": {
    "papermill": {
     "duration": 0.003611,
     "end_time": "2025-02-18T21:53:44.122460",
     "exception": false,
     "start_time": "2025-02-18T21:53:44.118849",
     "status": "completed"
    },
    "tags": []
   },
   "source": [
    "Total expenditures have more than doubled in twenty years. That seems like a lot, but what does it look like as a year over year change?"
   ]
  },
  {
   "cell_type": "code",
   "execution_count": 4,
   "id": "ad54fc9a",
   "metadata": {
    "execution": {
     "iopub.execute_input": "2025-02-18T21:53:44.131053Z",
     "iopub.status.busy": "2025-02-18T21:53:44.130731Z",
     "iopub.status.idle": "2025-02-18T21:53:44.225864Z",
     "shell.execute_reply": "2025-02-18T21:53:44.225075Z"
    },
    "papermill": {
     "duration": 0.10157,
     "end_time": "2025-02-18T21:53:44.227694",
     "exception": false,
     "start_time": "2025-02-18T21:53:44.126124",
     "status": "completed"
    },
    "tags": []
   },
   "outputs": [
    {
     "data": {
      "text/html": [
       "<iframe\n",
       "    scrolling=\"no\"\n",
       "    width=\"100%\"\n",
       "    height=\"545px\"\n",
       "    src=\"iframe_figures/figure_4.html\"\n",
       "    frameborder=\"0\"\n",
       "    allowfullscreen\n",
       "></iframe>\n"
      ]
     },
     "metadata": {},
     "output_type": "display_data"
    }
   ],
   "source": [
    "annual_df = df[['Fiscal Year', 'Value']].groupby(by='Fiscal Year').sum().reset_index()\n",
    "annual_df['YoY change'] = (annual_df['Value']/annual_df['Value'].shift(1)).fillna(value=1)\n",
    "express.line(data_frame=annual_df, x='Fiscal Year', y='YoY change')"
   ]
  },
  {
   "cell_type": "code",
   "execution_count": 5,
   "id": "8335ea98",
   "metadata": {
    "execution": {
     "iopub.execute_input": "2025-02-18T21:53:44.236737Z",
     "iopub.status.busy": "2025-02-18T21:53:44.236419Z",
     "iopub.status.idle": "2025-02-18T21:53:44.242653Z",
     "shell.execute_reply": "2025-02-18T21:53:44.241653Z"
    },
    "papermill": {
     "duration": 0.012555,
     "end_time": "2025-02-18T21:53:44.244272",
     "exception": false,
     "start_time": "2025-02-18T21:53:44.231717",
     "status": "completed"
    },
    "tags": []
   },
   "outputs": [
    {
     "data": {
      "text/plain": [
       "1.0428068693397772"
      ]
     },
     "execution_count": 5,
     "metadata": {},
     "output_type": "execute_result"
    }
   ],
   "source": [
    "annual_df['YoY change'][1:].mean()"
   ]
  },
  {
   "cell_type": "markdown",
   "id": "a6144198",
   "metadata": {
    "papermill": {
     "duration": 0.004213,
     "end_time": "2025-02-18T21:53:44.252562",
     "exception": false,
     "start_time": "2025-02-18T21:53:44.248349",
     "status": "completed"
    },
    "tags": []
   },
   "source": [
    "What do we see? We see that overall expenditures grow about four percent per year. "
   ]
  },
  {
   "cell_type": "markdown",
   "id": "0466dfe3",
   "metadata": {
    "papermill": {
     "duration": 0.004359,
     "end_time": "2025-02-18T21:53:44.260826",
     "exception": false,
     "start_time": "2025-02-18T21:53:44.256467",
     "status": "completed"
    },
    "tags": []
   },
   "source": [
    "Let's see if we can aggregate budgets to the county level."
   ]
  },
  {
   "cell_type": "code",
   "execution_count": 6,
   "id": "42baa361",
   "metadata": {
    "execution": {
     "iopub.execute_input": "2025-02-18T21:53:44.269739Z",
     "iopub.status.busy": "2025-02-18T21:53:44.269377Z",
     "iopub.status.idle": "2025-02-18T21:53:44.722057Z",
     "shell.execute_reply": "2025-02-18T21:53:44.721155Z"
    },
    "papermill": {
     "duration": 0.459286,
     "end_time": "2025-02-18T21:53:44.723957",
     "exception": false,
     "start_time": "2025-02-18T21:53:44.264671",
     "status": "completed"
    },
    "tags": []
   },
   "outputs": [
    {
     "data": {
      "text/html": [
       "<iframe\n",
       "    scrolling=\"no\"\n",
       "    width=\"100%\"\n",
       "    height=\"920\"\n",
       "    src=\"iframe_figures/figure_6.html\"\n",
       "    frameborder=\"0\"\n",
       "    allowfullscreen\n",
       "></iframe>\n"
      ]
     },
     "metadata": {},
     "output_type": "display_data"
    }
   ],
   "source": [
    "from plotly import colors\n",
    "\n",
    "express.line(log_y=True, height=900, color_discrete_sequence = colors.sample_colorscale('HSV', 55),  data_frame=df[['Fiscal Year', 'County', 'Value']].groupby(by=['Fiscal Year', 'County']).sum().reset_index(), x='Fiscal Year', y='Value', color='County')"
   ]
  },
  {
   "cell_type": "markdown",
   "id": "d84bc9b7",
   "metadata": {
    "papermill": {
     "duration": 0.003703,
     "end_time": "2025-02-18T21:53:44.731988",
     "exception": false,
     "start_time": "2025-02-18T21:53:44.728285",
     "status": "completed"
    },
    "tags": []
   },
   "source": [
    "We need to use a log plot here because expenditures vary so much from rich counties to poor counties. And we need a custom palette if we want each county to have its own color."
   ]
  },
  {
   "cell_type": "code",
   "execution_count": 7,
   "id": "34ee618c",
   "metadata": {
    "execution": {
     "iopub.execute_input": "2025-02-18T21:53:44.741545Z",
     "iopub.status.busy": "2025-02-18T21:53:44.741013Z",
     "iopub.status.idle": "2025-02-18T21:53:45.248257Z",
     "shell.execute_reply": "2025-02-18T21:53:45.247374Z"
    },
    "papermill": {
     "duration": 0.513881,
     "end_time": "2025-02-18T21:53:45.249847",
     "exception": false,
     "start_time": "2025-02-18T21:53:44.735966",
     "status": "completed"
    },
    "tags": []
   },
   "outputs": [
    {
     "data": {
      "text/html": [
       "<iframe\n",
       "    scrolling=\"no\"\n",
       "    width=\"100%\"\n",
       "    height=\"920\"\n",
       "    src=\"iframe_figures/figure_7.html\"\n",
       "    frameborder=\"0\"\n",
       "    allowfullscreen\n",
       "></iframe>\n"
      ]
     },
     "metadata": {},
     "output_type": "display_data"
    }
   ],
   "source": [
    "express.line(log_y=False, height=900, color_discrete_sequence = colors.sample_colorscale('HSV', 55),  data_frame=df[['Fiscal Year', 'County', 'Value']].groupby(by=['Fiscal Year', 'County']).sum().reset_index(), x='Fiscal Year', y='Value', color='County')"
   ]
  },
  {
   "cell_type": "markdown",
   "id": "8d827eef",
   "metadata": {
    "papermill": {
     "duration": 0.004399,
     "end_time": "2025-02-18T21:53:45.258531",
     "exception": false,
     "start_time": "2025-02-18T21:53:45.254132",
     "status": "completed"
    },
    "tags": []
   },
   "source": [
    "If we don't use a lot plot most of our counties disappear into a smear at the bottom of our graph."
   ]
  },
  {
   "cell_type": "code",
   "execution_count": 8,
   "id": "03934d41",
   "metadata": {
    "execution": {
     "iopub.execute_input": "2025-02-18T21:53:45.267777Z",
     "iopub.status.busy": "2025-02-18T21:53:45.267446Z",
     "iopub.status.idle": "2025-02-18T21:53:46.105270Z",
     "shell.execute_reply": "2025-02-18T21:53:46.103986Z"
    },
    "papermill": {
     "duration": 0.844585,
     "end_time": "2025-02-18T21:53:46.107151",
     "exception": false,
     "start_time": "2025-02-18T21:53:45.262566",
     "status": "completed"
    },
    "tags": []
   },
   "outputs": [
    {
     "data": {
      "text/plain": [
       "Entity Name                 482\n",
       "Fiscal Year                  21\n",
       "County                       55\n",
       "Field Name                  241\n",
       "Category                     27\n",
       "Subcategory 1                87\n",
       "Subcategory 2               239\n",
       "Line Description            346\n",
       "Value                    211168\n",
       "City, State, Zip            650\n",
       "Estimated Population       9384\n",
       "Row Number              1253353\n",
       "dtype: int64"
      ]
     },
     "execution_count": 8,
     "metadata": {},
     "output_type": "execute_result"
    }
   ],
   "source": [
    "df.nunique()"
   ]
  }
 ],
 "metadata": {
  "kaggle": {
   "accelerator": "none",
   "dataSources": [
    {
     "datasetId": 6685475,
     "sourceId": 10775520,
     "sourceType": "datasetVersion"
    }
   ],
   "dockerImageVersionId": 30886,
   "isGpuEnabled": false,
   "isInternetEnabled": true,
   "language": "python",
   "sourceType": "notebook"
  },
  "kernelspec": {
   "display_name": "Python 3",
   "language": "python",
   "name": "python3"
  },
  "language_info": {
   "codemirror_mode": {
    "name": "ipython",
    "version": 3
   },
   "file_extension": ".py",
   "mimetype": "text/x-python",
   "name": "python",
   "nbconvert_exporter": "python",
   "pygments_lexer": "ipython3",
   "version": "3.10.12"
  },
  "papermill": {
   "default_parameters": {},
   "duration": 16.1439,
   "end_time": "2025-02-18T21:53:46.834931",
   "environment_variables": {},
   "exception": null,
   "input_path": "__notebook__.ipynb",
   "output_path": "__notebook__.ipynb",
   "parameters": {},
   "start_time": "2025-02-18T21:53:30.691031",
   "version": "2.6.0"
  }
 },
 "nbformat": 4,
 "nbformat_minor": 5
}
