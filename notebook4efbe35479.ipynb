{
 "cells": [
  {
   "cell_type": "code",
   "execution_count": 1,
   "id": "e1e21446",
   "metadata": {
    "_cell_guid": "b1076dfc-b9ad-4769-8c92-a6c4dae69d19",
    "_uuid": "8f2839f25d086af736a60e9eeb907d3b93b6e0e5",
    "execution": {
     "iopub.execute_input": "2025-02-18T21:59:00.471646Z",
     "iopub.status.busy": "2025-02-18T21:59:00.471201Z",
     "iopub.status.idle": "2025-02-18T21:59:08.891501Z",
     "shell.execute_reply": "2025-02-18T21:59:08.890169Z"
    },
    "papermill": {
     "duration": 8.428619,
     "end_time": "2025-02-18T21:59:08.893576",
     "exception": false,
     "start_time": "2025-02-18T21:59:00.464957",
     "status": "completed"
    },
    "tags": []
   },
   "outputs": [
    {
     "data": {
      "text/html": [
       "<div>\n",
       "<style scoped>\n",
       "    .dataframe tbody tr th:only-of-type {\n",
       "        vertical-align: middle;\n",
       "    }\n",
       "\n",
       "    .dataframe tbody tr th {\n",
       "        vertical-align: top;\n",
       "    }\n",
       "\n",
       "    .dataframe thead th {\n",
       "        text-align: right;\n",
       "    }\n",
       "</style>\n",
       "<table border=\"1\" class=\"dataframe\">\n",
       "  <thead>\n",
       "    <tr style=\"text-align: right;\">\n",
       "      <th></th>\n",
       "      <th>Entity Name</th>\n",
       "      <th>Fiscal Year</th>\n",
       "      <th>County</th>\n",
       "      <th>Field Name</th>\n",
       "      <th>Category</th>\n",
       "      <th>Subcategory 1</th>\n",
       "      <th>Subcategory 2</th>\n",
       "      <th>Line Description</th>\n",
       "      <th>Value</th>\n",
       "      <th>City, State, Zip</th>\n",
       "      <th>Estimated Population</th>\n",
       "      <th>Row Number</th>\n",
       "    </tr>\n",
       "  </thead>\n",
       "  <tbody>\n",
       "    <tr>\n",
       "      <th>0</th>\n",
       "      <td>Adelanto</td>\n",
       "      <td>2018</td>\n",
       "      <td>San Bernardino</td>\n",
       "      <td>PERS_SERV</td>\n",
       "      <td>Internal Service Fund</td>\n",
       "      <td>Operating Expenses</td>\n",
       "      <td>Personnel Services</td>\n",
       "      <td>Personnel Services</td>\n",
       "      <td>0.0</td>\n",
       "      <td>Adelanto, CA 92301</td>\n",
       "      <td>35293.0</td>\n",
       "      <td>201814821268</td>\n",
       "    </tr>\n",
       "    <tr>\n",
       "      <th>1</th>\n",
       "      <td>Adelanto</td>\n",
       "      <td>2018</td>\n",
       "      <td>San Bernardino</td>\n",
       "      <td>CONTRACT_SERV</td>\n",
       "      <td>Internal Service Fund</td>\n",
       "      <td>Operating Expenses</td>\n",
       "      <td>Contractual Services</td>\n",
       "      <td>Contractual Services</td>\n",
       "      <td>0.0</td>\n",
       "      <td>Adelanto, CA 92301</td>\n",
       "      <td>35293.0</td>\n",
       "      <td>201814821267</td>\n",
       "    </tr>\n",
       "    <tr>\n",
       "      <th>2</th>\n",
       "      <td>Adelanto</td>\n",
       "      <td>2018</td>\n",
       "      <td>San Bernardino</td>\n",
       "      <td>MATERIAL_SUPP</td>\n",
       "      <td>Internal Service Fund</td>\n",
       "      <td>Operating Expenses</td>\n",
       "      <td>Materials and Supplies</td>\n",
       "      <td>Materials and Supplies</td>\n",
       "      <td>0.0</td>\n",
       "      <td>Adelanto, CA 92301</td>\n",
       "      <td>35293.0</td>\n",
       "      <td>201814821266</td>\n",
       "    </tr>\n",
       "    <tr>\n",
       "      <th>3</th>\n",
       "      <td>Sausalito</td>\n",
       "      <td>2017</td>\n",
       "      <td>Marin</td>\n",
       "      <td>ELEC_PURCHASES</td>\n",
       "      <td>Electric Enterprise Fund</td>\n",
       "      <td>Operating Expenses</td>\n",
       "      <td>Electricity Production Expenses</td>\n",
       "      <td>Electricity Purchases_Electric Enterprise Fund</td>\n",
       "      <td>0.0</td>\n",
       "      <td>Sausalito, CA 94965</td>\n",
       "      <td>7327.0</td>\n",
       "      <td>201710831241</td>\n",
       "    </tr>\n",
       "    <tr>\n",
       "      <th>4</th>\n",
       "      <td>Adelanto</td>\n",
       "      <td>2018</td>\n",
       "      <td>San Bernardino</td>\n",
       "      <td>GEN_ADMIN_EXP</td>\n",
       "      <td>Internal Service Fund</td>\n",
       "      <td>Operating Expenses</td>\n",
       "      <td>General and Administrative Expenses</td>\n",
       "      <td>General and Administrative Expenses</td>\n",
       "      <td>0.0</td>\n",
       "      <td>Adelanto, CA 92301</td>\n",
       "      <td>35293.0</td>\n",
       "      <td>201814821265</td>\n",
       "    </tr>\n",
       "  </tbody>\n",
       "</table>\n",
       "</div>"
      ],
      "text/plain": [
       "  Entity Name  Fiscal Year          County      Field Name  \\\n",
       "0    Adelanto         2018  San Bernardino       PERS_SERV   \n",
       "1    Adelanto         2018  San Bernardino   CONTRACT_SERV   \n",
       "2    Adelanto         2018  San Bernardino   MATERIAL_SUPP   \n",
       "3   Sausalito         2017           Marin  ELEC_PURCHASES   \n",
       "4    Adelanto         2018  San Bernardino   GEN_ADMIN_EXP   \n",
       "\n",
       "                   Category       Subcategory 1  \\\n",
       "0     Internal Service Fund  Operating Expenses   \n",
       "1     Internal Service Fund  Operating Expenses   \n",
       "2     Internal Service Fund  Operating Expenses   \n",
       "3  Electric Enterprise Fund  Operating Expenses   \n",
       "4     Internal Service Fund  Operating Expenses   \n",
       "\n",
       "                         Subcategory 2  \\\n",
       "0                   Personnel Services   \n",
       "1                 Contractual Services   \n",
       "2               Materials and Supplies   \n",
       "3      Electricity Production Expenses   \n",
       "4  General and Administrative Expenses   \n",
       "\n",
       "                                 Line Description  Value     City, State, Zip  \\\n",
       "0                              Personnel Services    0.0   Adelanto, CA 92301   \n",
       "1                            Contractual Services    0.0   Adelanto, CA 92301   \n",
       "2                          Materials and Supplies    0.0   Adelanto, CA 92301   \n",
       "3  Electricity Purchases_Electric Enterprise Fund    0.0  Sausalito, CA 94965   \n",
       "4             General and Administrative Expenses    0.0   Adelanto, CA 92301   \n",
       "\n",
       "   Estimated Population   Row Number   \n",
       "0               35293.0  201814821268  \n",
       "1               35293.0  201814821267  \n",
       "2               35293.0  201814821266  \n",
       "3                7327.0  201710831241  \n",
       "4               35293.0  201814821265  "
      ]
     },
     "execution_count": 1,
     "metadata": {},
     "output_type": "execute_result"
    }
   ],
   "source": [
    "import pandas as pd\n",
    "\n",
    "DATA = '/kaggle/input/mnjblj/City_-_Expenditures.csv'\n",
    "df = pd.read_csv(filepath_or_buffer=DATA).drop(columns=['Type'])\n",
    "df.head()"
   ]
  },
  {
   "cell_type": "markdown",
   "id": "51c26ee4",
   "metadata": {
    "papermill": {
     "duration": 0.003786,
     "end_time": "2025-02-18T21:59:08.901878",
     "exception": false,
     "start_time": "2025-02-18T21:59:08.898092",
     "status": "completed"
    },
    "tags": []
   },
   "source": [
    "How much data do we have?"
   ]
  },
  {
   "cell_type": "code",
   "execution_count": 2,
   "id": "cb58034b",
   "metadata": {
    "execution": {
     "iopub.execute_input": "2025-02-18T21:59:08.911068Z",
     "iopub.status.busy": "2025-02-18T21:59:08.910675Z",
     "iopub.status.idle": "2025-02-18T21:59:08.917003Z",
     "shell.execute_reply": "2025-02-18T21:59:08.915851Z"
    },
    "papermill": {
     "duration": 0.013087,
     "end_time": "2025-02-18T21:59:08.918795",
     "exception": false,
     "start_time": "2025-02-18T21:59:08.905708",
     "status": "completed"
    },
    "tags": []
   },
   "outputs": [
    {
     "data": {
      "text/plain": [
       "(1253353, 12)"
      ]
     },
     "execution_count": 2,
     "metadata": {},
     "output_type": "execute_result"
    }
   ],
   "source": [
    "df.shape"
   ]
  },
  {
   "cell_type": "markdown",
   "id": "910fb478",
   "metadata": {
    "papermill": {
     "duration": 0.00391,
     "end_time": "2025-02-18T21:59:08.927117",
     "exception": false,
     "start_time": "2025-02-18T21:59:08.923207",
     "status": "completed"
    },
    "tags": []
   },
   "source": [
    "We have a lot of data. First let's see if we can plot the total expenditures as a time series."
   ]
  },
  {
   "cell_type": "code",
   "execution_count": 3,
   "id": "ee342ca1",
   "metadata": {
    "execution": {
     "iopub.execute_input": "2025-02-18T21:59:08.936672Z",
     "iopub.status.busy": "2025-02-18T21:59:08.936342Z",
     "iopub.status.idle": "2025-02-18T21:59:12.207331Z",
     "shell.execute_reply": "2025-02-18T21:59:12.206078Z"
    },
    "papermill": {
     "duration": 3.278106,
     "end_time": "2025-02-18T21:59:12.209373",
     "exception": false,
     "start_time": "2025-02-18T21:59:08.931267",
     "status": "completed"
    },
    "tags": []
   },
   "outputs": [
    {
     "data": {
      "text/html": [
       "<iframe\n",
       "    scrolling=\"no\"\n",
       "    width=\"100%\"\n",
       "    height=\"545px\"\n",
       "    src=\"iframe_figures/figure_3.html\"\n",
       "    frameborder=\"0\"\n",
       "    allowfullscreen\n",
       "></iframe>\n"
      ]
     },
     "metadata": {},
     "output_type": "display_data"
    }
   ],
   "source": [
    "from plotly import express\n",
    "from plotly import io\n",
    "\n",
    "io.renderers.default = 'iframe'\n",
    "express.line(data_frame=df[['Fiscal Year', 'Value']].groupby(by='Fiscal Year').sum().reset_index(), x='Fiscal Year', y='Value')"
   ]
  },
  {
   "cell_type": "markdown",
   "id": "26bb07e9",
   "metadata": {
    "papermill": {
     "duration": 0.003908,
     "end_time": "2025-02-18T21:59:12.217843",
     "exception": false,
     "start_time": "2025-02-18T21:59:12.213935",
     "status": "completed"
    },
    "tags": []
   },
   "source": [
    "Total expenditures have more than doubled in twenty years. That seems like a lot, but what does it look like as a year over year change?"
   ]
  },
  {
   "cell_type": "code",
   "execution_count": 4,
   "id": "4159dcae",
   "metadata": {
    "execution": {
     "iopub.execute_input": "2025-02-18T21:59:12.227677Z",
     "iopub.status.busy": "2025-02-18T21:59:12.227244Z",
     "iopub.status.idle": "2025-02-18T21:59:12.361108Z",
     "shell.execute_reply": "2025-02-18T21:59:12.359884Z"
    },
    "papermill": {
     "duration": 0.141293,
     "end_time": "2025-02-18T21:59:12.363176",
     "exception": false,
     "start_time": "2025-02-18T21:59:12.221883",
     "status": "completed"
    },
    "tags": []
   },
   "outputs": [
    {
     "data": {
      "text/html": [
       "<iframe\n",
       "    scrolling=\"no\"\n",
       "    width=\"100%\"\n",
       "    height=\"545px\"\n",
       "    src=\"iframe_figures/figure_4.html\"\n",
       "    frameborder=\"0\"\n",
       "    allowfullscreen\n",
       "></iframe>\n"
      ]
     },
     "metadata": {},
     "output_type": "display_data"
    }
   ],
   "source": [
    "annual_df = df[['Fiscal Year', 'Value']].groupby(by='Fiscal Year').sum().reset_index()\n",
    "annual_df['YoY change'] = (annual_df['Value']/annual_df['Value'].shift(1)).fillna(value=1)\n",
    "express.line(data_frame=annual_df, x='Fiscal Year', y='YoY change')"
   ]
  },
  {
   "cell_type": "code",
   "execution_count": 5,
   "id": "80083b3c",
   "metadata": {
    "execution": {
     "iopub.execute_input": "2025-02-18T21:59:12.373578Z",
     "iopub.status.busy": "2025-02-18T21:59:12.373144Z",
     "iopub.status.idle": "2025-02-18T21:59:12.380020Z",
     "shell.execute_reply": "2025-02-18T21:59:12.378914Z"
    },
    "papermill": {
     "duration": 0.014257,
     "end_time": "2025-02-18T21:59:12.381951",
     "exception": false,
     "start_time": "2025-02-18T21:59:12.367694",
     "status": "completed"
    },
    "tags": []
   },
   "outputs": [
    {
     "data": {
      "text/plain": [
       "1.0428068693397772"
      ]
     },
     "execution_count": 5,
     "metadata": {},
     "output_type": "execute_result"
    }
   ],
   "source": [
    "annual_df['YoY change'][1:].mean()"
   ]
  },
  {
   "cell_type": "markdown",
   "id": "79f8c611",
   "metadata": {
    "papermill": {
     "duration": 0.004078,
     "end_time": "2025-02-18T21:59:12.390582",
     "exception": false,
     "start_time": "2025-02-18T21:59:12.386504",
     "status": "completed"
    },
    "tags": []
   },
   "source": [
    "What do we see? We see that overall expenditures grow about four percent per year. "
   ]
  },
  {
   "cell_type": "markdown",
   "id": "002eb653",
   "metadata": {
    "papermill": {
     "duration": 0.004088,
     "end_time": "2025-02-18T21:59:12.398882",
     "exception": false,
     "start_time": "2025-02-18T21:59:12.394794",
     "status": "completed"
    },
    "tags": []
   },
   "source": [
    "Let's see if we can aggregate budgets to the county level."
   ]
  },
  {
   "cell_type": "code",
   "execution_count": 6,
   "id": "3dcc9864",
   "metadata": {
    "execution": {
     "iopub.execute_input": "2025-02-18T21:59:12.408973Z",
     "iopub.status.busy": "2025-02-18T21:59:12.408578Z",
     "iopub.status.idle": "2025-02-18T21:59:12.953372Z",
     "shell.execute_reply": "2025-02-18T21:59:12.952029Z"
    },
    "papermill": {
     "duration": 0.552253,
     "end_time": "2025-02-18T21:59:12.955463",
     "exception": false,
     "start_time": "2025-02-18T21:59:12.403210",
     "status": "completed"
    },
    "tags": []
   },
   "outputs": [
    {
     "data": {
      "text/html": [
       "<iframe\n",
       "    scrolling=\"no\"\n",
       "    width=\"100%\"\n",
       "    height=\"920\"\n",
       "    src=\"iframe_figures/figure_6.html\"\n",
       "    frameborder=\"0\"\n",
       "    allowfullscreen\n",
       "></iframe>\n"
      ]
     },
     "metadata": {},
     "output_type": "display_data"
    }
   ],
   "source": [
    "from plotly import colors\n",
    "\n",
    "express.line(log_y=True, height=900, color_discrete_sequence = colors.sample_colorscale('HSV', 55),  data_frame=df[['Fiscal Year', 'County', 'Value']].groupby(by=['Fiscal Year', 'County']).sum().reset_index(), x='Fiscal Year', y='Value', color='County')"
   ]
  },
  {
   "cell_type": "markdown",
   "id": "4eb523ec",
   "metadata": {
    "papermill": {
     "duration": 0.004314,
     "end_time": "2025-02-18T21:59:12.964649",
     "exception": false,
     "start_time": "2025-02-18T21:59:12.960335",
     "status": "completed"
    },
    "tags": []
   },
   "source": [
    "We need to use a log plot here because expenditures vary so much from rich counties to poor counties. And we need a custom palette if we want each county to have its own color."
   ]
  },
  {
   "cell_type": "code",
   "execution_count": 7,
   "id": "5e4be93c",
   "metadata": {
    "execution": {
     "iopub.execute_input": "2025-02-18T21:59:12.975455Z",
     "iopub.status.busy": "2025-02-18T21:59:12.975022Z",
     "iopub.status.idle": "2025-02-18T21:59:13.613370Z",
     "shell.execute_reply": "2025-02-18T21:59:13.612063Z"
    },
    "papermill": {
     "duration": 0.646267,
     "end_time": "2025-02-18T21:59:13.615642",
     "exception": false,
     "start_time": "2025-02-18T21:59:12.969375",
     "status": "completed"
    },
    "tags": []
   },
   "outputs": [
    {
     "data": {
      "text/html": [
       "<iframe\n",
       "    scrolling=\"no\"\n",
       "    width=\"100%\"\n",
       "    height=\"920\"\n",
       "    src=\"iframe_figures/figure_7.html\"\n",
       "    frameborder=\"0\"\n",
       "    allowfullscreen\n",
       "></iframe>\n"
      ]
     },
     "metadata": {},
     "output_type": "display_data"
    }
   ],
   "source": [
    "express.line(log_y=False, height=900, color_discrete_sequence = colors.sample_colorscale('HSV', 55),  data_frame=df[['Fiscal Year', 'County', 'Value']].groupby(by=['Fiscal Year', 'County']).sum().reset_index(), x='Fiscal Year', y='Value', color='County')"
   ]
  },
  {
   "cell_type": "markdown",
   "id": "111bd4f8",
   "metadata": {
    "papermill": {
     "duration": 0.004359,
     "end_time": "2025-02-18T21:59:13.625419",
     "exception": false,
     "start_time": "2025-02-18T21:59:13.621060",
     "status": "completed"
    },
    "tags": []
   },
   "source": [
    "If we don't use a lot plot most of our counties disappear into a smear at the bottom of our graph."
   ]
  },
  {
   "cell_type": "markdown",
   "id": "e72034d0",
   "metadata": {
    "papermill": {
     "duration": 0.004278,
     "end_time": "2025-02-18T21:59:13.634567",
     "exception": false,
     "start_time": "2025-02-18T21:59:13.630289",
     "status": "completed"
    },
    "tags": []
   },
   "source": [
    "Compared to counties we have a moderate number of categories. Let's plot those too."
   ]
  },
  {
   "cell_type": "code",
   "execution_count": 8,
   "id": "1cea67e7",
   "metadata": {
    "execution": {
     "iopub.execute_input": "2025-02-18T21:59:13.646373Z",
     "iopub.status.busy": "2025-02-18T21:59:13.645890Z",
     "iopub.status.idle": "2025-02-18T21:59:14.065493Z",
     "shell.execute_reply": "2025-02-18T21:59:14.064283Z"
    },
    "papermill": {
     "duration": 0.427856,
     "end_time": "2025-02-18T21:59:14.067466",
     "exception": false,
     "start_time": "2025-02-18T21:59:13.639610",
     "status": "completed"
    },
    "tags": []
   },
   "outputs": [
    {
     "data": {
      "text/html": [
       "<iframe\n",
       "    scrolling=\"no\"\n",
       "    width=\"100%\"\n",
       "    height=\"920\"\n",
       "    src=\"iframe_figures/figure_8.html\"\n",
       "    frameborder=\"0\"\n",
       "    allowfullscreen\n",
       "></iframe>\n"
      ]
     },
     "metadata": {},
     "output_type": "display_data"
    }
   ],
   "source": [
    "express.scatter(log_y=True, height=900, color_discrete_sequence = colors.sample_colorscale('HSV', 27),  data_frame=df[['Fiscal Year', 'Category', 'Value']].groupby(by=['Fiscal Year', 'Category']).sum().reset_index(), x='Fiscal Year', y='Value', color='Category')"
   ]
  },
  {
   "cell_type": "markdown",
   "id": "2e610010",
   "metadata": {
    "papermill": {
     "duration": 0.004693,
     "end_time": "2025-02-18T21:59:14.077034",
     "exception": false,
     "start_time": "2025-02-18T21:59:14.072341",
     "status": "completed"
    },
    "tags": []
   },
   "source": [
    "What do we see? We see that the categories changed abruptly from 2016 to 2017, so we can't compare category data before and after."
   ]
  }
 ],
 "metadata": {
  "kaggle": {
   "accelerator": "none",
   "dataSources": [
    {
     "datasetId": 6685475,
     "sourceId": 10775520,
     "sourceType": "datasetVersion"
    }
   ],
   "dockerImageVersionId": 30886,
   "isGpuEnabled": false,
   "isInternetEnabled": true,
   "language": "python",
   "sourceType": "notebook"
  },
  "kernelspec": {
   "display_name": "Python 3",
   "language": "python",
   "name": "python3"
  },
  "language_info": {
   "codemirror_mode": {
    "name": "ipython",
    "version": 3
   },
   "file_extension": ".py",
   "mimetype": "text/x-python",
   "name": "python",
   "nbconvert_exporter": "python",
   "pygments_lexer": "ipython3",
   "version": "3.10.12"
  },
  "papermill": {
   "default_parameters": {},
   "duration": 17.527272,
   "end_time": "2025-02-18T21:59:14.905639",
   "environment_variables": {},
   "exception": null,
   "input_path": "__notebook__.ipynb",
   "output_path": "__notebook__.ipynb",
   "parameters": {},
   "start_time": "2025-02-18T21:58:57.378367",
   "version": "2.6.0"
  }
 },
 "nbformat": 4,
 "nbformat_minor": 5
}
