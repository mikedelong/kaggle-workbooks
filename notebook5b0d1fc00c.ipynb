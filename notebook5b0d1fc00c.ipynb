{
 "cells": [
  {
   "cell_type": "code",
   "execution_count": 1,
   "id": "b196c95e",
   "metadata": {
    "_cell_guid": "b1076dfc-b9ad-4769-8c92-a6c4dae69d19",
    "_uuid": "8f2839f25d086af736a60e9eeb907d3b93b6e0e5",
    "execution": {
     "iopub.execute_input": "2024-06-28T17:02:10.121286Z",
     "iopub.status.busy": "2024-06-28T17:02:10.120802Z",
     "iopub.status.idle": "2024-06-28T17:02:12.244289Z",
     "shell.execute_reply": "2024-06-28T17:02:12.242637Z"
    },
    "papermill": {
     "duration": 2.13142,
     "end_time": "2024-06-28T17:02:12.247479",
     "exception": false,
     "start_time": "2024-06-28T17:02:10.116059",
     "status": "completed"
    },
    "tags": []
   },
   "outputs": [
    {
     "data": {
      "text/html": [
       "<div>\n",
       "<style scoped>\n",
       "    .dataframe tbody tr th:only-of-type {\n",
       "        vertical-align: middle;\n",
       "    }\n",
       "\n",
       "    .dataframe tbody tr th {\n",
       "        vertical-align: top;\n",
       "    }\n",
       "\n",
       "    .dataframe thead th {\n",
       "        text-align: right;\n",
       "    }\n",
       "</style>\n",
       "<table border=\"1\" class=\"dataframe\">\n",
       "  <thead>\n",
       "    <tr style=\"text-align: right;\">\n",
       "      <th></th>\n",
       "      <th>pl_name</th>\n",
       "      <th>hostname</th>\n",
       "      <th>pl_letter</th>\n",
       "      <th>hd_name</th>\n",
       "      <th>hip_name</th>\n",
       "      <th>tic_id</th>\n",
       "      <th>gaia_id</th>\n",
       "      <th>sy_snum</th>\n",
       "      <th>sy_pnum</th>\n",
       "      <th>sy_mnum</th>\n",
       "      <th>...</th>\n",
       "      <th>sy_kepmag</th>\n",
       "      <th>sy_kepmagerr1</th>\n",
       "      <th>sy_kepmagerr2</th>\n",
       "      <th>sy_kepmag_reflink</th>\n",
       "      <th>pl_nnotes</th>\n",
       "      <th>st_nphot</th>\n",
       "      <th>st_nrvc</th>\n",
       "      <th>st_nspec</th>\n",
       "      <th>pl_nespec</th>\n",
       "      <th>pl_ntranspec</th>\n",
       "    </tr>\n",
       "    <tr>\n",
       "      <th>rowid</th>\n",
       "      <th></th>\n",
       "      <th></th>\n",
       "      <th></th>\n",
       "      <th></th>\n",
       "      <th></th>\n",
       "      <th></th>\n",
       "      <th></th>\n",
       "      <th></th>\n",
       "      <th></th>\n",
       "      <th></th>\n",
       "      <th></th>\n",
       "      <th></th>\n",
       "      <th></th>\n",
       "      <th></th>\n",
       "      <th></th>\n",
       "      <th></th>\n",
       "      <th></th>\n",
       "      <th></th>\n",
       "      <th></th>\n",
       "      <th></th>\n",
       "      <th></th>\n",
       "    </tr>\n",
       "  </thead>\n",
       "  <tbody>\n",
       "    <tr>\n",
       "      <th>1</th>\n",
       "      <td>11 Com b</td>\n",
       "      <td>11 Com</td>\n",
       "      <td>b</td>\n",
       "      <td>HD 107383</td>\n",
       "      <td>HIP 60202</td>\n",
       "      <td>TIC 72437047</td>\n",
       "      <td>Gaia DR2 3946945413106333696</td>\n",
       "      <td>2</td>\n",
       "      <td>1</td>\n",
       "      <td>0</td>\n",
       "      <td>...</td>\n",
       "      <td>NaN</td>\n",
       "      <td>NaN</td>\n",
       "      <td>NaN</td>\n",
       "      <td>&lt;a refstr=STASSUN_ET_AL__2019 href=https://ui....</td>\n",
       "      <td>2.0</td>\n",
       "      <td>1</td>\n",
       "      <td>2</td>\n",
       "      <td>0</td>\n",
       "      <td>0</td>\n",
       "      <td>0</td>\n",
       "    </tr>\n",
       "    <tr>\n",
       "      <th>2</th>\n",
       "      <td>11 UMi b</td>\n",
       "      <td>11 UMi</td>\n",
       "      <td>b</td>\n",
       "      <td>HD 136726</td>\n",
       "      <td>HIP 74793</td>\n",
       "      <td>TIC 230061010</td>\n",
       "      <td>Gaia DR2 1696798367260229376</td>\n",
       "      <td>1</td>\n",
       "      <td>1</td>\n",
       "      <td>0</td>\n",
       "      <td>...</td>\n",
       "      <td>NaN</td>\n",
       "      <td>NaN</td>\n",
       "      <td>NaN</td>\n",
       "      <td>&lt;a refstr=STASSUN_ET_AL__2019 href=https://ui....</td>\n",
       "      <td>0.0</td>\n",
       "      <td>1</td>\n",
       "      <td>1</td>\n",
       "      <td>0</td>\n",
       "      <td>0</td>\n",
       "      <td>0</td>\n",
       "    </tr>\n",
       "    <tr>\n",
       "      <th>3</th>\n",
       "      <td>14 And b</td>\n",
       "      <td>14 And</td>\n",
       "      <td>b</td>\n",
       "      <td>HD 221345</td>\n",
       "      <td>HIP 116076</td>\n",
       "      <td>TIC 333225860</td>\n",
       "      <td>Gaia DR2 1920113512486282240</td>\n",
       "      <td>1</td>\n",
       "      <td>1</td>\n",
       "      <td>0</td>\n",
       "      <td>...</td>\n",
       "      <td>NaN</td>\n",
       "      <td>NaN</td>\n",
       "      <td>NaN</td>\n",
       "      <td>&lt;a refstr=STASSUN_ET_AL__2019 href=https://ui....</td>\n",
       "      <td>0.0</td>\n",
       "      <td>1</td>\n",
       "      <td>1</td>\n",
       "      <td>0</td>\n",
       "      <td>0</td>\n",
       "      <td>0</td>\n",
       "    </tr>\n",
       "    <tr>\n",
       "      <th>4</th>\n",
       "      <td>14 Her b</td>\n",
       "      <td>14 Her</td>\n",
       "      <td>b</td>\n",
       "      <td>HD 145675</td>\n",
       "      <td>HIP 79248</td>\n",
       "      <td>TIC 219483057</td>\n",
       "      <td>Gaia DR2 1385293808145621504</td>\n",
       "      <td>1</td>\n",
       "      <td>2</td>\n",
       "      <td>0</td>\n",
       "      <td>...</td>\n",
       "      <td>NaN</td>\n",
       "      <td>NaN</td>\n",
       "      <td>NaN</td>\n",
       "      <td>&lt;a refstr=STASSUN_ET_AL__2019 href=https://ui....</td>\n",
       "      <td>0.0</td>\n",
       "      <td>1</td>\n",
       "      <td>4</td>\n",
       "      <td>1</td>\n",
       "      <td>0</td>\n",
       "      <td>0</td>\n",
       "    </tr>\n",
       "    <tr>\n",
       "      <th>5</th>\n",
       "      <td>16 Cyg B b</td>\n",
       "      <td>16 Cyg B</td>\n",
       "      <td>b</td>\n",
       "      <td>HD 186427</td>\n",
       "      <td>HIP 96901</td>\n",
       "      <td>TIC 27533327</td>\n",
       "      <td>Gaia DR2 2135550755683407232</td>\n",
       "      <td>3</td>\n",
       "      <td>1</td>\n",
       "      <td>0</td>\n",
       "      <td>...</td>\n",
       "      <td>6.095</td>\n",
       "      <td>NaN</td>\n",
       "      <td>NaN</td>\n",
       "      <td>&lt;a refstr=STASSUN_ET_AL__2019 href=https://ui....</td>\n",
       "      <td>5.0</td>\n",
       "      <td>1</td>\n",
       "      <td>4</td>\n",
       "      <td>3</td>\n",
       "      <td>0</td>\n",
       "      <td>0</td>\n",
       "    </tr>\n",
       "  </tbody>\n",
       "</table>\n",
       "<p>5 rows × 312 columns</p>\n",
       "</div>"
      ],
      "text/plain": [
       "          pl_name  hostname pl_letter    hd_name    hip_name         tic_id  \\\n",
       "rowid                                                                         \n",
       "1        11 Com b    11 Com         b  HD 107383   HIP 60202   TIC 72437047   \n",
       "2        11 UMi b    11 UMi         b  HD 136726   HIP 74793  TIC 230061010   \n",
       "3        14 And b    14 And         b  HD 221345  HIP 116076  TIC 333225860   \n",
       "4        14 Her b    14 Her         b  HD 145675   HIP 79248  TIC 219483057   \n",
       "5      16 Cyg B b  16 Cyg B         b  HD 186427   HIP 96901   TIC 27533327   \n",
       "\n",
       "                            gaia_id  sy_snum  sy_pnum  sy_mnum  ...  \\\n",
       "rowid                                                           ...   \n",
       "1      Gaia DR2 3946945413106333696        2        1        0  ...   \n",
       "2      Gaia DR2 1696798367260229376        1        1        0  ...   \n",
       "3      Gaia DR2 1920113512486282240        1        1        0  ...   \n",
       "4      Gaia DR2 1385293808145621504        1        2        0  ...   \n",
       "5      Gaia DR2 2135550755683407232        3        1        0  ...   \n",
       "\n",
       "       sy_kepmag sy_kepmagerr1  sy_kepmagerr2  \\\n",
       "rowid                                           \n",
       "1            NaN           NaN            NaN   \n",
       "2            NaN           NaN            NaN   \n",
       "3            NaN           NaN            NaN   \n",
       "4            NaN           NaN            NaN   \n",
       "5          6.095           NaN            NaN   \n",
       "\n",
       "                                       sy_kepmag_reflink pl_nnotes st_nphot  \\\n",
       "rowid                                                                         \n",
       "1      <a refstr=STASSUN_ET_AL__2019 href=https://ui....       2.0        1   \n",
       "2      <a refstr=STASSUN_ET_AL__2019 href=https://ui....       0.0        1   \n",
       "3      <a refstr=STASSUN_ET_AL__2019 href=https://ui....       0.0        1   \n",
       "4      <a refstr=STASSUN_ET_AL__2019 href=https://ui....       0.0        1   \n",
       "5      <a refstr=STASSUN_ET_AL__2019 href=https://ui....       5.0        1   \n",
       "\n",
       "      st_nrvc st_nspec pl_nespec  pl_ntranspec  \n",
       "rowid                                           \n",
       "1           2        0         0             0  \n",
       "2           1        0         0             0  \n",
       "3           1        0         0             0  \n",
       "4           4        1         0             0  \n",
       "5           4        3         0             0  \n",
       "\n",
       "[5 rows x 312 columns]"
      ]
     },
     "execution_count": 1,
     "metadata": {},
     "output_type": "execute_result"
    }
   ],
   "source": [
    "import pandas as pd\n",
    "\n",
    "DATA = '/kaggle/input/exoplanets/exo_v04.tab'\n",
    "\n",
    "df = pd.read_csv(filepath_or_buffer=DATA, sep='\\t', index_col=['rowid'])\n",
    "\n",
    "df.head()"
   ]
  },
  {
   "cell_type": "code",
   "execution_count": 2,
   "id": "042fa748",
   "metadata": {
    "execution": {
     "iopub.execute_input": "2024-06-28T17:02:12.257423Z",
     "iopub.status.busy": "2024-06-28T17:02:12.256934Z",
     "iopub.status.idle": "2024-06-28T17:02:12.265708Z",
     "shell.execute_reply": "2024-06-28T17:02:12.263977Z"
    },
    "papermill": {
     "duration": 0.017533,
     "end_time": "2024-06-28T17:02:12.269310",
     "exception": false,
     "start_time": "2024-06-28T17:02:12.251777",
     "status": "completed"
    },
    "tags": []
   },
   "outputs": [
    {
     "data": {
      "text/plain": [
       "(5312, 312)"
      ]
     },
     "execution_count": 2,
     "metadata": {},
     "output_type": "execute_result"
    }
   ],
   "source": [
    "df.shape"
   ]
  },
  {
   "cell_type": "markdown",
   "id": "8c4dfc2a",
   "metadata": {
    "papermill": {
     "duration": 0.003906,
     "end_time": "2024-06-28T17:02:12.277097",
     "exception": false,
     "start_time": "2024-06-28T17:02:12.273191",
     "status": "completed"
    },
    "tags": []
   },
   "source": [
    "This is a pretty big dataset with a lot of detail; at the moment there are more than 6000 exoplanets and more than 90% of them are in our dataset."
   ]
  },
  {
   "cell_type": "code",
   "execution_count": 3,
   "id": "cd0bb05c",
   "metadata": {
    "execution": {
     "iopub.execute_input": "2024-06-28T17:02:12.286973Z",
     "iopub.status.busy": "2024-06-28T17:02:12.286537Z",
     "iopub.status.idle": "2024-06-28T17:02:12.292829Z",
     "shell.execute_reply": "2024-06-28T17:02:12.291405Z"
    },
    "papermill": {
     "duration": 0.015743,
     "end_time": "2024-06-28T17:02:12.297444",
     "exception": false,
     "start_time": "2024-06-28T17:02:12.281701",
     "status": "completed"
    },
    "tags": []
   },
   "outputs": [
    {
     "name": "stdout",
     "output_type": "stream",
     "text": [
      "['pl_name', 'hostname', 'pl_letter', 'hd_name', 'hip_name', 'tic_id', 'gaia_id', 'sy_snum', 'sy_pnum', 'sy_mnum', 'cb_flag', 'discoverymethod', 'disc_year', 'disc_refname', 'disc_pubdate', 'disc_locale', 'disc_facility', 'disc_telescope', 'disc_instrument', 'rv_flag', 'pul_flag', 'ptv_flag', 'tran_flag', 'ast_flag', 'obm_flag', 'micro_flag', 'etv_flag', 'ima_flag', 'dkin_flag', 'pl_controv_flag', 'pl_orbper', 'pl_orbpererr1', 'pl_orbpererr2', 'pl_orbperlim', 'pl_orbper_reflink', 'pl_orbsmax', 'pl_orbsmaxerr1', 'pl_orbsmaxerr2', 'pl_orbsmaxlim', 'pl_orbsmax_reflink', 'pl_rade', 'pl_radeerr1', 'pl_radeerr2', 'pl_radelim', 'pl_rade_reflink', 'pl_radj', 'pl_radjerr1', 'pl_radjerr2', 'pl_radjlim', 'pl_radj_reflink', 'pl_bmasse', 'pl_bmasseerr1', 'pl_bmasseerr2', 'pl_bmasselim', 'pl_bmasse_reflink', 'pl_bmassj', 'pl_bmassjerr1', 'pl_bmassjerr2', 'pl_bmassjlim', 'pl_bmassj_reflink', 'pl_bmassprov', 'pl_dens', 'pl_denserr1', 'pl_denserr2', 'pl_denslim', 'pl_dens_reflink', 'pl_orbeccen', 'pl_orbeccenerr1', 'pl_orbeccenerr2', 'pl_orbeccenlim', 'pl_orbeccen_reflink', 'pl_insol', 'pl_insolerr1', 'pl_insolerr2', 'pl_insollim', 'pl_insol_reflink', 'pl_eqt', 'pl_eqterr1', 'pl_eqterr2', 'pl_eqtlim', 'pl_eqt_reflink', 'pl_orbincl', 'pl_orbinclerr1', 'pl_orbinclerr2', 'pl_orbincllim', 'pl_orbincl_reflink', 'pl_tranmid', 'pl_tranmiderr1', 'pl_tranmiderr2', 'pl_tranmidlim', 'pl_tranmid_systemref', 'pl_tranmid_reflink', 'ttv_flag', 'pl_imppar', 'pl_impparerr1', 'pl_impparerr2', 'pl_impparlim', 'pl_imppar_reflink', 'pl_trandep', 'pl_trandeperr1', 'pl_trandeperr2', 'pl_trandeplim', 'pl_trandep_reflink', 'pl_trandur', 'pl_trandurerr1', 'pl_trandurerr2', 'pl_trandurlim', 'pl_trandur_reflink', 'pl_ratdor', 'pl_ratdorerr1', 'pl_ratdorerr2', 'pl_ratdorlim', 'pl_ratdor_reflink', 'pl_ratror', 'pl_ratrorerr1', 'pl_ratrorerr2', 'pl_ratrorlim', 'pl_ratror_reflink', 'pl_occdep', 'pl_occdeperr1', 'pl_occdeperr2', 'pl_occdeplim', 'pl_occdep_reflink', 'pl_orbtper', 'pl_orbtpererr1', 'pl_orbtpererr2', 'pl_orbtperlim', 'pl_orbtper_systemref', 'pl_orbtper_reflink', 'pl_orblper', 'pl_orblpererr1', 'pl_orblpererr2', 'pl_orblperlim', 'pl_orblper_reflink', 'pl_rvamp', 'pl_rvamperr1', 'pl_rvamperr2', 'pl_rvamplim', 'pl_rvamp_reflink', 'pl_projobliq', 'pl_projobliqerr1', 'pl_projobliqerr2', 'pl_projobliqlim', 'pl_projobliq_reflink', 'pl_trueobliq', 'pl_trueobliqerr1', 'pl_trueobliqerr2', 'pl_trueobliqlim', 'pl_trueobliq_reflink', 'st_spectype', 'st_spectype_reflink', 'st_teff', 'st_tefferr1', 'st_tefferr2', 'st_tefflim', 'st_teff_reflink', 'st_rad', 'st_raderr1', 'st_raderr2', 'st_radlim', 'st_rad_reflink', 'st_mass', 'st_masserr1', 'st_masserr2', 'st_masslim', 'st_mass_reflink', 'st_met', 'st_meterr1', 'st_meterr2', 'st_metlim', 'st_met_reflink', 'st_metratio', 'st_lum', 'st_lumerr1', 'st_lumerr2', 'st_lumlim', 'st_lum_reflink', 'st_logg', 'st_loggerr1', 'st_loggerr2', 'st_logglim', 'st_logg_reflink', 'st_age', 'st_ageerr1', 'st_ageerr2', 'st_agelim', 'st_age_reflink', 'st_dens', 'st_denserr1', 'st_denserr2', 'st_denslim', 'st_dens_reflink', 'st_vsin', 'st_vsinerr1', 'st_vsinerr2', 'st_vsinlim', 'st_vsin_reflink', 'st_rotp', 'st_rotperr1', 'st_rotperr2', 'st_rotplim', 'st_rotp_reflink', 'st_radv', 'st_radverr1', 'st_radverr2', 'st_radvlim', 'st_radv_reflink', 'rastr', 'ra', 'decstr', 'dec', 'glat', 'glon', 'elat', 'elon', 'ra_reflink', 'sy_pm', 'sy_pmerr1', 'sy_pmerr2', 'sy_pmra', 'sy_pmraerr1', 'sy_pmraerr2', 'sy_pmdec', 'sy_pmdecerr1', 'sy_pmdecerr2', 'sy_pm_reflink', 'sy_dist', 'sy_disterr1', 'sy_disterr2', 'sy_dist_reflink', 'sy_plx', 'sy_plxerr1', 'sy_plxerr2', 'sy_plx_reflink', 'sy_bmag', 'sy_bmagerr1', 'sy_bmagerr2', 'sy_bmag_reflink', 'sy_vmag', 'sy_vmagerr1', 'sy_vmagerr2', 'sy_vmag_reflink', 'sy_jmag', 'sy_jmagerr1', 'sy_jmagerr2', 'sy_jmag_reflink', 'sy_hmag', 'sy_hmagerr1', 'sy_hmagerr2', 'sy_hmag_reflink', 'sy_kmag', 'sy_kmagerr1', 'sy_kmagerr2', 'sy_kmag_reflink', 'sy_umag', 'sy_umagerr1', 'sy_umagerr2', 'sy_umag_reflink', 'sy_gmag', 'sy_gmagerr1', 'sy_gmagerr2', 'sy_gmag_reflink', 'sy_rmag', 'sy_rmagerr1', 'sy_rmagerr2', 'sy_rmag_reflink', 'sy_imag', 'sy_imagerr1', 'sy_imagerr2', 'sy_imag_reflink', 'sy_zmag', 'sy_zmagerr1', 'sy_zmagerr2', 'sy_zmag_reflink', 'sy_w1mag', 'sy_w1magerr1', 'sy_w1magerr2', 'sy_w1mag_reflink', 'sy_w2mag', 'sy_w2magerr1', 'sy_w2magerr2', 'sy_w2mag_reflink', 'sy_w3mag', 'sy_w3magerr1', 'sy_w3magerr2', 'sy_w3mag_reflink', 'sy_w4mag', 'sy_w4magerr1', 'sy_w4magerr2', 'sy_w4mag_reflink', 'sy_gaiamag', 'sy_gaiamagerr1', 'sy_gaiamagerr2', 'sy_gaiamag_reflink', 'sy_icmag', 'sy_icmagerr1', 'sy_icmagerr2', 'sy_icmag_reflink', 'sy_tmag', 'sy_tmagerr1', 'sy_tmagerr2', 'sy_tmag_reflink', 'sy_kepmag', 'sy_kepmagerr1', 'sy_kepmagerr2', 'sy_kepmag_reflink', 'pl_nnotes', 'st_nphot', 'st_nrvc', 'st_nspec', 'pl_nespec', 'pl_ntranspec']\n"
     ]
    }
   ],
   "source": [
    "print(df.columns.tolist())"
   ]
  }
 ],
 "metadata": {
  "kaggle": {
   "accelerator": "none",
   "dataSources": [
    {
     "datasetId": 5214102,
     "sourceId": 8694683,
     "sourceType": "datasetVersion"
    }
   ],
   "dockerImageVersionId": 30732,
   "isGpuEnabled": false,
   "isInternetEnabled": true,
   "language": "python",
   "sourceType": "notebook"
  },
  "kernelspec": {
   "display_name": "Python 3",
   "language": "python",
   "name": "python3"
  },
  "language_info": {
   "codemirror_mode": {
    "name": "ipython",
    "version": 3
   },
   "file_extension": ".py",
   "mimetype": "text/x-python",
   "name": "python",
   "nbconvert_exporter": "python",
   "pygments_lexer": "ipython3",
   "version": "3.10.13"
  },
  "papermill": {
   "default_parameters": {},
   "duration": 6.064204,
   "end_time": "2024-06-28T17:02:12.823074",
   "environment_variables": {},
   "exception": null,
   "input_path": "__notebook__.ipynb",
   "output_path": "__notebook__.ipynb",
   "parameters": {},
   "start_time": "2024-06-28T17:02:06.758870",
   "version": "2.5.0"
  }
 },
 "nbformat": 4,
 "nbformat_minor": 5
}
