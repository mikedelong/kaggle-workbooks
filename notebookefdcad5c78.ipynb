{
 "cells": [
  {
   "cell_type": "code",
   "execution_count": 1,
   "id": "5cae7af5",
   "metadata": {
    "_cell_guid": "b1076dfc-b9ad-4769-8c92-a6c4dae69d19",
    "_uuid": "8f2839f25d086af736a60e9eeb907d3b93b6e0e5",
    "execution": {
     "iopub.execute_input": "2024-07-18T17:02:40.356970Z",
     "iopub.status.busy": "2024-07-18T17:02:40.356558Z",
     "iopub.status.idle": "2024-07-18T17:02:41.981330Z",
     "shell.execute_reply": "2024-07-18T17:02:41.980526Z"
    },
    "papermill": {
     "duration": 1.630724,
     "end_time": "2024-07-18T17:02:41.983174",
     "exception": false,
     "start_time": "2024-07-18T17:02:40.352450",
     "status": "completed"
    },
    "tags": []
   },
   "outputs": [
    {
     "data": {
      "text/html": [
       "<div>\n",
       "<style scoped>\n",
       "    .dataframe tbody tr th:only-of-type {\n",
       "        vertical-align: middle;\n",
       "    }\n",
       "\n",
       "    .dataframe tbody tr th {\n",
       "        vertical-align: top;\n",
       "    }\n",
       "\n",
       "    .dataframe thead th {\n",
       "        text-align: right;\n",
       "    }\n",
       "</style>\n",
       "<table border=\"1\" class=\"dataframe\">\n",
       "  <thead>\n",
       "    <tr style=\"text-align: right;\">\n",
       "      <th></th>\n",
       "      <th>neo_id</th>\n",
       "      <th>name</th>\n",
       "      <th>absolute_magnitude</th>\n",
       "      <th>estimated_diameter_min</th>\n",
       "      <th>estimated_diameter_max</th>\n",
       "      <th>relative_velocity</th>\n",
       "      <th>miss_distance</th>\n",
       "      <th>is_hazardous</th>\n",
       "    </tr>\n",
       "  </thead>\n",
       "  <tbody>\n",
       "    <tr>\n",
       "      <th>0</th>\n",
       "      <td>2162117</td>\n",
       "      <td>162117 (1998 SD15)</td>\n",
       "      <td>19.14</td>\n",
       "      <td>0.394962</td>\n",
       "      <td>0.883161</td>\n",
       "      <td>71745.401048</td>\n",
       "      <td>5.814362e+07</td>\n",
       "      <td>False</td>\n",
       "    </tr>\n",
       "    <tr>\n",
       "      <th>1</th>\n",
       "      <td>2349507</td>\n",
       "      <td>349507 (2008 QY)</td>\n",
       "      <td>18.50</td>\n",
       "      <td>0.530341</td>\n",
       "      <td>1.185878</td>\n",
       "      <td>109949.757148</td>\n",
       "      <td>5.580105e+07</td>\n",
       "      <td>True</td>\n",
       "    </tr>\n",
       "    <tr>\n",
       "      <th>2</th>\n",
       "      <td>2455415</td>\n",
       "      <td>455415 (2003 GA)</td>\n",
       "      <td>21.45</td>\n",
       "      <td>0.136319</td>\n",
       "      <td>0.304818</td>\n",
       "      <td>24865.506798</td>\n",
       "      <td>6.720689e+07</td>\n",
       "      <td>False</td>\n",
       "    </tr>\n",
       "    <tr>\n",
       "      <th>3</th>\n",
       "      <td>3132126</td>\n",
       "      <td>(2002 PB)</td>\n",
       "      <td>20.63</td>\n",
       "      <td>0.198863</td>\n",
       "      <td>0.444672</td>\n",
       "      <td>78890.076805</td>\n",
       "      <td>3.039644e+07</td>\n",
       "      <td>False</td>\n",
       "    </tr>\n",
       "    <tr>\n",
       "      <th>4</th>\n",
       "      <td>3557844</td>\n",
       "      <td>(2011 DW)</td>\n",
       "      <td>22.70</td>\n",
       "      <td>0.076658</td>\n",
       "      <td>0.171412</td>\n",
       "      <td>56036.519484</td>\n",
       "      <td>6.311863e+07</td>\n",
       "      <td>False</td>\n",
       "    </tr>\n",
       "  </tbody>\n",
       "</table>\n",
       "</div>"
      ],
      "text/plain": [
       "    neo_id                name  absolute_magnitude  estimated_diameter_min  \\\n",
       "0  2162117  162117 (1998 SD15)               19.14                0.394962   \n",
       "1  2349507    349507 (2008 QY)               18.50                0.530341   \n",
       "2  2455415    455415 (2003 GA)               21.45                0.136319   \n",
       "3  3132126           (2002 PB)               20.63                0.198863   \n",
       "4  3557844           (2011 DW)               22.70                0.076658   \n",
       "\n",
       "   estimated_diameter_max  relative_velocity  miss_distance  is_hazardous  \n",
       "0                0.883161       71745.401048   5.814362e+07         False  \n",
       "1                1.185878      109949.757148   5.580105e+07          True  \n",
       "2                0.304818       24865.506798   6.720689e+07         False  \n",
       "3                0.444672       78890.076805   3.039644e+07         False  \n",
       "4                0.171412       56036.519484   6.311863e+07         False  "
      ]
     },
     "execution_count": 1,
     "metadata": {},
     "output_type": "execute_result"
    }
   ],
   "source": [
    "import pandas as pd\n",
    "\n",
    "OBJECTS = '/kaggle/input/nasa-nearest-earth-objects-1910-2024/nearest-earth-objects(1910-2024).csv'\n",
    "\n",
    "# the ordbiting body is always Earth so we can drop that column\n",
    "df = pd.read_csv(filepath_or_buffer=OBJECTS).drop(columns=['orbiting_body'])\n",
    "df.head()"
   ]
  },
  {
   "cell_type": "code",
   "execution_count": 2,
   "id": "614dd0da",
   "metadata": {
    "execution": {
     "iopub.execute_input": "2024-07-18T17:02:41.989180Z",
     "iopub.status.busy": "2024-07-18T17:02:41.988815Z",
     "iopub.status.idle": "2024-07-18T17:02:42.025478Z",
     "shell.execute_reply": "2024-07-18T17:02:42.023964Z"
    },
    "papermill": {
     "duration": 0.042563,
     "end_time": "2024-07-18T17:02:42.028185",
     "exception": false,
     "start_time": "2024-07-18T17:02:41.985622",
     "status": "completed"
    },
    "tags": []
   },
   "outputs": [
    {
     "name": "stdout",
     "output_type": "stream",
     "text": [
      "<class 'pandas.core.frame.DataFrame'>\n",
      "RangeIndex: 338199 entries, 0 to 338198\n",
      "Data columns (total 8 columns):\n",
      " #   Column                  Non-Null Count   Dtype  \n",
      "---  ------                  --------------   -----  \n",
      " 0   neo_id                  338199 non-null  int64  \n",
      " 1   name                    338199 non-null  object \n",
      " 2   absolute_magnitude      338171 non-null  float64\n",
      " 3   estimated_diameter_min  338171 non-null  float64\n",
      " 4   estimated_diameter_max  338171 non-null  float64\n",
      " 5   relative_velocity       338199 non-null  float64\n",
      " 6   miss_distance           338199 non-null  float64\n",
      " 7   is_hazardous            338199 non-null  bool   \n",
      "dtypes: bool(1), float64(5), int64(1), object(1)\n",
      "memory usage: 18.4+ MB\n"
     ]
    }
   ],
   "source": [
    "df.info()"
   ]
  },
  {
   "cell_type": "code",
   "execution_count": 3,
   "id": "33171f7b",
   "metadata": {
    "execution": {
     "iopub.execute_input": "2024-07-18T17:02:42.034443Z",
     "iopub.status.busy": "2024-07-18T17:02:42.034086Z",
     "iopub.status.idle": "2024-07-18T17:02:42.129458Z",
     "shell.execute_reply": "2024-07-18T17:02:42.128354Z"
    },
    "papermill": {
     "duration": 0.100835,
     "end_time": "2024-07-18T17:02:42.131516",
     "exception": false,
     "start_time": "2024-07-18T17:02:42.030681",
     "status": "completed"
    },
    "tags": []
   },
   "outputs": [
    {
     "data": {
      "text/plain": [
       "neo_id                     33514\n",
       "name                       33514\n",
       "absolute_magnitude          1778\n",
       "estimated_diameter_min      1778\n",
       "estimated_diameter_max      1778\n",
       "relative_velocity         338189\n",
       "miss_distance             337826\n",
       "is_hazardous                   2\n",
       "dtype: int64"
      ]
     },
     "execution_count": 3,
     "metadata": {},
     "output_type": "execute_result"
    }
   ],
   "source": [
    "df.nunique()"
   ]
  },
  {
   "cell_type": "markdown",
   "id": "2e04e832",
   "metadata": {
    "papermill": {
     "duration": 0.002024,
     "end_time": "2024-07-18T17:02:42.136131",
     "exception": false,
     "start_time": "2024-07-18T17:02:42.134107",
     "status": "completed"
    },
    "tags": []
   },
   "source": [
    "We have a lot of observations relative to the number of objects; are the observations evenly distributed?"
   ]
  },
  {
   "cell_type": "code",
   "execution_count": 4,
   "id": "7ce409aa",
   "metadata": {
    "execution": {
     "iopub.execute_input": "2024-07-18T17:02:42.141912Z",
     "iopub.status.busy": "2024-07-18T17:02:42.141553Z",
     "iopub.status.idle": "2024-07-18T17:02:42.201778Z",
     "shell.execute_reply": "2024-07-18T17:02:42.200675Z"
    },
    "papermill": {
     "duration": 0.066001,
     "end_time": "2024-07-18T17:02:42.204260",
     "exception": false,
     "start_time": "2024-07-18T17:02:42.138259",
     "status": "completed"
    },
    "tags": []
   },
   "outputs": [
    {
     "data": {
      "text/plain": [
       "name\n",
       "277810 (2006 FV35)               211\n",
       "469219 Kamo`oalewa (2016 HO3)    197\n",
       "(2014 OL339)                     192\n",
       "(2017 FZ2)                       186\n",
       "(2023 FW13)                      169\n",
       "(2022 YF4)                       151\n",
       "164207 (2004 GU9)                135\n",
       "85770 (1998 UP1)                 101\n",
       "138852 (2000 WN10)                99\n",
       "(2015 RE36)                       98\n",
       "Name: count, dtype: int64"
      ]
     },
     "execution_count": 4,
     "metadata": {},
     "output_type": "execute_result"
    }
   ],
   "source": [
    "df['name'].value_counts().head(n=10)"
   ]
  }
 ],
 "metadata": {
  "kaggle": {
   "accelerator": "none",
   "dataSources": [
    {
     "datasetId": 5410371,
     "sourceId": 8984243,
     "sourceType": "datasetVersion"
    }
   ],
   "dockerImageVersionId": 30746,
   "isGpuEnabled": false,
   "isInternetEnabled": true,
   "language": "python",
   "sourceType": "notebook"
  },
  "kernelspec": {
   "display_name": "Python 3",
   "language": "python",
   "name": "python3"
  },
  "language_info": {
   "codemirror_mode": {
    "name": "ipython",
    "version": 3
   },
   "file_extension": ".py",
   "mimetype": "text/x-python",
   "name": "python",
   "nbconvert_exporter": "python",
   "pygments_lexer": "ipython3",
   "version": "3.10.13"
  },
  "papermill": {
   "default_parameters": {},
   "duration": 4.717415,
   "end_time": "2024-07-18T17:02:42.627801",
   "environment_variables": {},
   "exception": null,
   "input_path": "__notebook__.ipynb",
   "output_path": "__notebook__.ipynb",
   "parameters": {},
   "start_time": "2024-07-18T17:02:37.910386",
   "version": "2.5.0"
  }
 },
 "nbformat": 4,
 "nbformat_minor": 5
}
