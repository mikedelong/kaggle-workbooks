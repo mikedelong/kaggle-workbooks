{
 "cells": [
  {
   "cell_type": "code",
   "execution_count": 1,
   "id": "f1a39a6b",
   "metadata": {
    "_cell_guid": "b1076dfc-b9ad-4769-8c92-a6c4dae69d19",
    "_uuid": "8f2839f25d086af736a60e9eeb907d3b93b6e0e5",
    "execution": {
     "iopub.execute_input": "2025-05-13T22:29:12.709537Z",
     "iopub.status.busy": "2025-05-13T22:29:12.709049Z",
     "iopub.status.idle": "2025-05-13T22:29:13.044814Z",
     "shell.execute_reply": "2025-05-13T22:29:13.043484Z"
    },
    "papermill": {
     "duration": 0.340831,
     "end_time": "2025-05-13T22:29:13.046831",
     "exception": false,
     "start_time": "2025-05-13T22:29:12.706000",
     "status": "completed"
    },
    "tags": []
   },
   "outputs": [
    {
     "name": "stdout",
     "output_type": "stream",
     "text": [
      "BB  GL\tRR  RSM\r\n"
     ]
    }
   ],
   "source": [
    "!ls /kaggle/input/tealeafnet/5000_tea_leaf_with_blackbg_geotagged"
   ]
  }
 ],
 "metadata": {
  "kaggle": {
   "accelerator": "none",
   "dataSources": [
    {
     "datasetId": 7389766,
     "sourceId": 11770641,
     "sourceType": "datasetVersion"
    }
   ],
   "dockerImageVersionId": 31040,
   "isGpuEnabled": false,
   "isInternetEnabled": true,
   "language": "python",
   "sourceType": "notebook"
  },
  "kernelspec": {
   "display_name": "Python 3",
   "language": "python",
   "name": "python3"
  },
  "language_info": {
   "codemirror_mode": {
    "name": "ipython",
    "version": 3
   },
   "file_extension": ".py",
   "mimetype": "text/x-python",
   "name": "python",
   "nbconvert_exporter": "python",
   "pygments_lexer": "ipython3",
   "version": "3.11.11"
  },
  "papermill": {
   "default_parameters": {},
   "duration": 5.990901,
   "end_time": "2025-05-13T22:29:13.469829",
   "environment_variables": {},
   "exception": null,
   "input_path": "__notebook__.ipynb",
   "output_path": "__notebook__.ipynb",
   "parameters": {},
   "start_time": "2025-05-13T22:29:07.478928",
   "version": "2.6.0"
  }
 },
 "nbformat": 4,
 "nbformat_minor": 5
}
