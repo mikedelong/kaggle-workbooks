{
 "cells": [
  {
   "cell_type": "code",
   "execution_count": 1,
   "id": "77e92244",
   "metadata": {
    "_cell_guid": "b1076dfc-b9ad-4769-8c92-a6c4dae69d19",
    "_uuid": "8f2839f25d086af736a60e9eeb907d3b93b6e0e5",
    "execution": {
     "iopub.execute_input": "2025-01-31T20:13:41.295975Z",
     "iopub.status.busy": "2025-01-31T20:13:41.295553Z",
     "iopub.status.idle": "2025-01-31T20:13:42.208148Z",
     "shell.execute_reply": "2025-01-31T20:13:42.207112Z"
    },
    "papermill": {
     "duration": 0.920587,
     "end_time": "2025-01-31T20:13:42.209965",
     "exception": false,
     "start_time": "2025-01-31T20:13:41.289378",
     "status": "completed"
    },
    "tags": []
   },
   "outputs": [
    {
     "data": {
      "text/html": [
       "<div>\n",
       "<style scoped>\n",
       "    .dataframe tbody tr th:only-of-type {\n",
       "        vertical-align: middle;\n",
       "    }\n",
       "\n",
       "    .dataframe tbody tr th {\n",
       "        vertical-align: top;\n",
       "    }\n",
       "\n",
       "    .dataframe thead th {\n",
       "        text-align: right;\n",
       "    }\n",
       "</style>\n",
       "<table border=\"1\" class=\"dataframe\">\n",
       "  <thead>\n",
       "    <tr style=\"text-align: right;\">\n",
       "      <th></th>\n",
       "      <th>age</th>\n",
       "      <th>sex</th>\n",
       "      <th>total_cholesterol</th>\n",
       "      <th>ldl</th>\n",
       "      <th>hdl</th>\n",
       "      <th>systolic_bp</th>\n",
       "      <th>diastolic_bp</th>\n",
       "      <th>smoking</th>\n",
       "      <th>diabetes</th>\n",
       "      <th>heart_attack</th>\n",
       "    </tr>\n",
       "  </thead>\n",
       "  <tbody>\n",
       "    <tr>\n",
       "      <th>0</th>\n",
       "      <td>57</td>\n",
       "      <td>1</td>\n",
       "      <td>229.463642</td>\n",
       "      <td>175.879129</td>\n",
       "      <td>39.225687</td>\n",
       "      <td>124.070127</td>\n",
       "      <td>91.378780</td>\n",
       "      <td>0</td>\n",
       "      <td>0</td>\n",
       "      <td>0</td>\n",
       "    </tr>\n",
       "    <tr>\n",
       "      <th>1</th>\n",
       "      <td>58</td>\n",
       "      <td>1</td>\n",
       "      <td>186.464120</td>\n",
       "      <td>128.984916</td>\n",
       "      <td>34.950968</td>\n",
       "      <td>95.492552</td>\n",
       "      <td>64.355040</td>\n",
       "      <td>1</td>\n",
       "      <td>0</td>\n",
       "      <td>0</td>\n",
       "    </tr>\n",
       "    <tr>\n",
       "      <th>2</th>\n",
       "      <td>37</td>\n",
       "      <td>1</td>\n",
       "      <td>251.300719</td>\n",
       "      <td>152.347592</td>\n",
       "      <td>45.913288</td>\n",
       "      <td>99.519335</td>\n",
       "      <td>64.953147</td>\n",
       "      <td>0</td>\n",
       "      <td>1</td>\n",
       "      <td>0</td>\n",
       "    </tr>\n",
       "    <tr>\n",
       "      <th>3</th>\n",
       "      <td>55</td>\n",
       "      <td>1</td>\n",
       "      <td>192.058908</td>\n",
       "      <td>116.803684</td>\n",
       "      <td>67.208925</td>\n",
       "      <td>122.460002</td>\n",
       "      <td>73.821382</td>\n",
       "      <td>0</td>\n",
       "      <td>0</td>\n",
       "      <td>0</td>\n",
       "    </tr>\n",
       "    <tr>\n",
       "      <th>4</th>\n",
       "      <td>53</td>\n",
       "      <td>1</td>\n",
       "      <td>151.203448</td>\n",
       "      <td>107.017396</td>\n",
       "      <td>60.693838</td>\n",
       "      <td>123.022257</td>\n",
       "      <td>81.121946</td>\n",
       "      <td>0</td>\n",
       "      <td>1</td>\n",
       "      <td>0</td>\n",
       "    </tr>\n",
       "  </tbody>\n",
       "</table>\n",
       "</div>"
      ],
      "text/plain": [
       "   age  sex  total_cholesterol         ldl        hdl  systolic_bp  \\\n",
       "0   57    1         229.463642  175.879129  39.225687   124.070127   \n",
       "1   58    1         186.464120  128.984916  34.950968    95.492552   \n",
       "2   37    1         251.300719  152.347592  45.913288    99.519335   \n",
       "3   55    1         192.058908  116.803684  67.208925   122.460002   \n",
       "4   53    1         151.203448  107.017396  60.693838   123.022257   \n",
       "\n",
       "   diastolic_bp  smoking  diabetes  heart_attack  \n",
       "0     91.378780        0         0             0  \n",
       "1     64.355040        1         0             0  \n",
       "2     64.953147        0         1             0  \n",
       "3     73.821382        0         0             0  \n",
       "4     81.121946        0         1             0  "
      ]
     },
     "execution_count": 1,
     "metadata": {},
     "output_type": "execute_result"
    }
   ],
   "source": [
    "import pandas as pd\n",
    "\n",
    "DATA = '/kaggle/input/heart-attack-risk-assessment-dataset/updated_version.csv'\n",
    "df = pd.read_csv(filepath_or_buffer=DATA)\n",
    "df.head()"
   ]
  },
  {
   "cell_type": "markdown",
   "id": "c1e548ec",
   "metadata": {
    "papermill": {
     "duration": 0.004333,
     "end_time": "2025-01-31T20:13:42.219176",
     "exception": false,
     "start_time": "2025-01-31T20:13:42.214843",
     "status": "completed"
    },
    "tags": []
   },
   "source": [
    "We know our data is synthetic, so we expect there to be essentially no predictive signal in the data. Let's do some EDA on the features first."
   ]
  },
  {
   "cell_type": "code",
   "execution_count": 2,
   "id": "49bd567e",
   "metadata": {
    "execution": {
     "iopub.execute_input": "2025-01-31T20:13:42.229325Z",
     "iopub.status.busy": "2025-01-31T20:13:42.228953Z",
     "iopub.status.idle": "2025-01-31T20:13:45.099977Z",
     "shell.execute_reply": "2025-01-31T20:13:45.098983Z"
    },
    "papermill": {
     "duration": 2.878065,
     "end_time": "2025-01-31T20:13:45.101647",
     "exception": false,
     "start_time": "2025-01-31T20:13:42.223582",
     "status": "completed"
    },
    "tags": []
   },
   "outputs": [
    {
     "data": {
      "text/html": [
       "        <script type=\"text/javascript\">\n",
       "        window.PlotlyConfig = {MathJaxConfig: 'local'};\n",
       "        if (window.MathJax && window.MathJax.Hub && window.MathJax.Hub.Config) {window.MathJax.Hub.Config({SVG: {font: \"STIX-Web\"}});}\n",
       "        if (typeof require !== 'undefined') {\n",
       "        require.undef(\"plotly\");\n",
       "        requirejs.config({\n",
       "            paths: {\n",
       "                'plotly': ['https://cdn.plot.ly/plotly-2.35.2.min']\n",
       "            }\n",
       "        });\n",
       "        require(['plotly'], function(Plotly) {\n",
       "            window._Plotly = Plotly;\n",
       "        });\n",
       "        }\n",
       "        </script>\n",
       "        "
      ]
     },
     "metadata": {},
     "output_type": "display_data"
    },
    {
     "data": {
      "text/html": [
       "<iframe\n",
       "    scrolling=\"no\"\n",
       "    width=\"100%\"\n",
       "    height=\"545px\"\n",
       "    src=\"iframe_figures/figure_2.html\"\n",
       "    frameborder=\"0\"\n",
       "    allowfullscreen\n",
       "></iframe>\n"
      ]
     },
     "metadata": {},
     "output_type": "display_data"
    }
   ],
   "source": [
    "from plotly import express\n",
    "from plotly.offline import init_notebook_mode\n",
    "\n",
    "init_notebook_mode(connected=True)\n",
    "\n",
    "express.histogram(data_frame=df, x='age', facet_col='sex').show(renderer='iframe_connected')"
   ]
  },
  {
   "cell_type": "markdown",
   "id": "2da99dc6",
   "metadata": {
    "papermill": {
     "duration": 0.004449,
     "end_time": "2025-01-31T20:13:45.111103",
     "exception": false,
     "start_time": "2025-01-31T20:13:45.106654",
     "status": "completed"
    },
    "tags": []
   },
   "source": [
    "Our age data looks normally distributed."
   ]
  },
  {
   "cell_type": "code",
   "execution_count": 3,
   "id": "a3524882",
   "metadata": {
    "execution": {
     "iopub.execute_input": "2025-01-31T20:13:45.121886Z",
     "iopub.status.busy": "2025-01-31T20:13:45.121409Z",
     "iopub.status.idle": "2025-01-31T20:13:45.184268Z",
     "shell.execute_reply": "2025-01-31T20:13:45.183247Z"
    },
    "papermill": {
     "duration": 0.070136,
     "end_time": "2025-01-31T20:13:45.185920",
     "exception": false,
     "start_time": "2025-01-31T20:13:45.115784",
     "status": "completed"
    },
    "tags": []
   },
   "outputs": [
    {
     "data": {
      "text/html": [
       "<iframe\n",
       "    scrolling=\"no\"\n",
       "    width=\"100%\"\n",
       "    height=\"545px\"\n",
       "    src=\"iframe_figures/figure_3.html\"\n",
       "    frameborder=\"0\"\n",
       "    allowfullscreen\n",
       "></iframe>\n"
      ]
     },
     "metadata": {},
     "output_type": "display_data"
    }
   ],
   "source": [
    "express.histogram(data_frame=df, x='total_cholesterol', facet_col='sex').show(renderer='iframe_connected')"
   ]
  },
  {
   "cell_type": "code",
   "execution_count": 4,
   "id": "41fbe3de",
   "metadata": {
    "execution": {
     "iopub.execute_input": "2025-01-31T20:13:45.197038Z",
     "iopub.status.busy": "2025-01-31T20:13:45.196653Z",
     "iopub.status.idle": "2025-01-31T20:13:45.258148Z",
     "shell.execute_reply": "2025-01-31T20:13:45.257111Z"
    },
    "papermill": {
     "duration": 0.068911,
     "end_time": "2025-01-31T20:13:45.259821",
     "exception": false,
     "start_time": "2025-01-31T20:13:45.190910",
     "status": "completed"
    },
    "tags": []
   },
   "outputs": [
    {
     "data": {
      "text/html": [
       "<iframe\n",
       "    scrolling=\"no\"\n",
       "    width=\"100%\"\n",
       "    height=\"545px\"\n",
       "    src=\"iframe_figures/figure_4.html\"\n",
       "    frameborder=\"0\"\n",
       "    allowfullscreen\n",
       "></iframe>\n"
      ]
     },
     "metadata": {},
     "output_type": "display_data"
    }
   ],
   "source": [
    "express.histogram(data_frame=df, x='ldl', facet_col='sex').show(renderer='iframe_connected')"
   ]
  },
  {
   "cell_type": "code",
   "execution_count": 5,
   "id": "f1200560",
   "metadata": {
    "execution": {
     "iopub.execute_input": "2025-01-31T20:13:45.271220Z",
     "iopub.status.busy": "2025-01-31T20:13:45.270858Z",
     "iopub.status.idle": "2025-01-31T20:13:45.331020Z",
     "shell.execute_reply": "2025-01-31T20:13:45.330119Z"
    },
    "papermill": {
     "duration": 0.067681,
     "end_time": "2025-01-31T20:13:45.332695",
     "exception": false,
     "start_time": "2025-01-31T20:13:45.265014",
     "status": "completed"
    },
    "tags": []
   },
   "outputs": [
    {
     "data": {
      "text/html": [
       "<iframe\n",
       "    scrolling=\"no\"\n",
       "    width=\"100%\"\n",
       "    height=\"545px\"\n",
       "    src=\"iframe_figures/figure_5.html\"\n",
       "    frameborder=\"0\"\n",
       "    allowfullscreen\n",
       "></iframe>\n"
      ]
     },
     "metadata": {},
     "output_type": "display_data"
    }
   ],
   "source": [
    "express.histogram(data_frame=df, x='hdl', facet_col='sex').show(renderer='iframe_connected')"
   ]
  },
  {
   "cell_type": "markdown",
   "id": "f256a8c2",
   "metadata": {
    "papermill": {
     "duration": 0.00603,
     "end_time": "2025-01-31T20:13:45.343949",
     "exception": false,
     "start_time": "2025-01-31T20:13:45.337919",
     "status": "completed"
    },
    "tags": []
   },
   "source": [
    "Our cholesterol data is also roughly normally distributed."
   ]
  },
  {
   "cell_type": "code",
   "execution_count": 6,
   "id": "77aaa66d",
   "metadata": {
    "execution": {
     "iopub.execute_input": "2025-01-31T20:13:45.355331Z",
     "iopub.status.busy": "2025-01-31T20:13:45.354970Z",
     "iopub.status.idle": "2025-01-31T20:13:45.417060Z",
     "shell.execute_reply": "2025-01-31T20:13:45.416125Z"
    },
    "papermill": {
     "duration": 0.069783,
     "end_time": "2025-01-31T20:13:45.418818",
     "exception": false,
     "start_time": "2025-01-31T20:13:45.349035",
     "status": "completed"
    },
    "tags": []
   },
   "outputs": [
    {
     "data": {
      "text/html": [
       "<iframe\n",
       "    scrolling=\"no\"\n",
       "    width=\"100%\"\n",
       "    height=\"545px\"\n",
       "    src=\"iframe_figures/figure_6.html\"\n",
       "    frameborder=\"0\"\n",
       "    allowfullscreen\n",
       "></iframe>\n"
      ]
     },
     "metadata": {},
     "output_type": "display_data"
    }
   ],
   "source": [
    "express.histogram(data_frame=df, x='systolic_bp', facet_col='sex').show(renderer='iframe_connected')"
   ]
  },
  {
   "cell_type": "code",
   "execution_count": 7,
   "id": "6c6f7fcf",
   "metadata": {
    "execution": {
     "iopub.execute_input": "2025-01-31T20:13:45.430736Z",
     "iopub.status.busy": "2025-01-31T20:13:45.430340Z",
     "iopub.status.idle": "2025-01-31T20:13:45.491383Z",
     "shell.execute_reply": "2025-01-31T20:13:45.490408Z"
    },
    "papermill": {
     "duration": 0.069016,
     "end_time": "2025-01-31T20:13:45.493259",
     "exception": false,
     "start_time": "2025-01-31T20:13:45.424243",
     "status": "completed"
    },
    "tags": []
   },
   "outputs": [
    {
     "data": {
      "text/html": [
       "<iframe\n",
       "    scrolling=\"no\"\n",
       "    width=\"100%\"\n",
       "    height=\"545px\"\n",
       "    src=\"iframe_figures/figure_7.html\"\n",
       "    frameborder=\"0\"\n",
       "    allowfullscreen\n",
       "></iframe>\n"
      ]
     },
     "metadata": {},
     "output_type": "display_data"
    }
   ],
   "source": [
    "express.histogram(data_frame=df, x='diastolic_bp', facet_col='sex').show(renderer='iframe_connected')"
   ]
  },
  {
   "cell_type": "markdown",
   "id": "78adc3b8",
   "metadata": {
    "papermill": {
     "duration": 0.004965,
     "end_time": "2025-01-31T20:13:45.503609",
     "exception": false,
     "start_time": "2025-01-31T20:13:45.498644",
     "status": "completed"
    },
    "tags": []
   },
   "source": [
    "Our blood pressure data is also rougly normally distributed."
   ]
  },
  {
   "cell_type": "code",
   "execution_count": 8,
   "id": "36a62023",
   "metadata": {
    "execution": {
     "iopub.execute_input": "2025-01-31T20:13:45.515341Z",
     "iopub.status.busy": "2025-01-31T20:13:45.515020Z",
     "iopub.status.idle": "2025-01-31T20:13:45.528298Z",
     "shell.execute_reply": "2025-01-31T20:13:45.527428Z"
    },
    "papermill": {
     "duration": 0.020814,
     "end_time": "2025-01-31T20:13:45.529742",
     "exception": false,
     "start_time": "2025-01-31T20:13:45.508928",
     "status": "completed"
    },
    "tags": []
   },
   "outputs": [
    {
     "data": {
      "text/html": [
       "<div>\n",
       "<style scoped>\n",
       "    .dataframe tbody tr th:only-of-type {\n",
       "        vertical-align: middle;\n",
       "    }\n",
       "\n",
       "    .dataframe tbody tr th {\n",
       "        vertical-align: top;\n",
       "    }\n",
       "\n",
       "    .dataframe thead th {\n",
       "        text-align: right;\n",
       "    }\n",
       "</style>\n",
       "<table border=\"1\" class=\"dataframe\">\n",
       "  <thead>\n",
       "    <tr style=\"text-align: right;\">\n",
       "      <th>smoking</th>\n",
       "      <th>0</th>\n",
       "      <th>1</th>\n",
       "    </tr>\n",
       "  </thead>\n",
       "  <tbody>\n",
       "    <tr>\n",
       "      <th>count</th>\n",
       "      <td>798</td>\n",
       "      <td>202</td>\n",
       "    </tr>\n",
       "  </tbody>\n",
       "</table>\n",
       "</div>"
      ],
      "text/plain": [
       "smoking    0    1\n",
       "count    798  202"
      ]
     },
     "execution_count": 8,
     "metadata": {},
     "output_type": "execute_result"
    }
   ],
   "source": [
    "df['smoking'].value_counts().to_frame().T"
   ]
  },
  {
   "cell_type": "code",
   "execution_count": 9,
   "id": "f5e854f8",
   "metadata": {
    "execution": {
     "iopub.execute_input": "2025-01-31T20:13:45.541779Z",
     "iopub.status.busy": "2025-01-31T20:13:45.541426Z",
     "iopub.status.idle": "2025-01-31T20:13:45.550147Z",
     "shell.execute_reply": "2025-01-31T20:13:45.549202Z"
    },
    "papermill": {
     "duration": 0.01637,
     "end_time": "2025-01-31T20:13:45.551560",
     "exception": false,
     "start_time": "2025-01-31T20:13:45.535190",
     "status": "completed"
    },
    "tags": []
   },
   "outputs": [
    {
     "data": {
      "text/html": [
       "<div>\n",
       "<style scoped>\n",
       "    .dataframe tbody tr th:only-of-type {\n",
       "        vertical-align: middle;\n",
       "    }\n",
       "\n",
       "    .dataframe tbody tr th {\n",
       "        vertical-align: top;\n",
       "    }\n",
       "\n",
       "    .dataframe thead th {\n",
       "        text-align: right;\n",
       "    }\n",
       "</style>\n",
       "<table border=\"1\" class=\"dataframe\">\n",
       "  <thead>\n",
       "    <tr style=\"text-align: right;\">\n",
       "      <th>diabetes</th>\n",
       "      <th>0</th>\n",
       "      <th>1</th>\n",
       "    </tr>\n",
       "  </thead>\n",
       "  <tbody>\n",
       "    <tr>\n",
       "      <th>count</th>\n",
       "      <td>910</td>\n",
       "      <td>90</td>\n",
       "    </tr>\n",
       "  </tbody>\n",
       "</table>\n",
       "</div>"
      ],
      "text/plain": [
       "diabetes    0   1\n",
       "count     910  90"
      ]
     },
     "execution_count": 9,
     "metadata": {},
     "output_type": "execute_result"
    }
   ],
   "source": [
    "df['diabetes'].value_counts().to_frame().T"
   ]
  },
  {
   "cell_type": "markdown",
   "id": "d2267de4",
   "metadata": {
    "papermill": {
     "duration": 0.005372,
     "end_time": "2025-01-31T20:13:45.562611",
     "exception": false,
     "start_time": "2025-01-31T20:13:45.557239",
     "status": "completed"
    },
    "tags": []
   },
   "source": [
    "Our smoking and diabetes data looks like it was meant to be 80/20 and 90/10 or so, respectively."
   ]
  },
  {
   "cell_type": "markdown",
   "id": "13a4bba9",
   "metadata": {
    "papermill": {
     "duration": 0.005136,
     "end_time": "2025-01-31T20:13:45.573222",
     "exception": false,
     "start_time": "2025-01-31T20:13:45.568086",
     "status": "completed"
    },
    "tags": []
   },
   "source": [
    "Let's use dimensionality reduction to see if our data clusters at all, and if so if those clusters align with our target variable."
   ]
  },
  {
   "cell_type": "code",
   "execution_count": 10,
   "id": "6c87c8c6",
   "metadata": {
    "execution": {
     "iopub.execute_input": "2025-01-31T20:13:45.585608Z",
     "iopub.status.busy": "2025-01-31T20:13:45.585286Z",
     "iopub.status.idle": "2025-01-31T20:13:51.970623Z",
     "shell.execute_reply": "2025-01-31T20:13:51.969825Z"
    },
    "papermill": {
     "duration": 6.393325,
     "end_time": "2025-01-31T20:13:51.972259",
     "exception": false,
     "start_time": "2025-01-31T20:13:45.578934",
     "status": "completed"
    },
    "tags": []
   },
   "outputs": [
    {
     "data": {
      "text/html": [
       "<iframe\n",
       "    scrolling=\"no\"\n",
       "    width=\"100%\"\n",
       "    height=\"545px\"\n",
       "    src=\"iframe_figures/figure_10.html\"\n",
       "    frameborder=\"0\"\n",
       "    allowfullscreen\n",
       "></iframe>\n"
      ]
     },
     "metadata": {},
     "output_type": "display_data"
    }
   ],
   "source": [
    "from plotly import express\n",
    "from sklearn.manifold import TSNE\n",
    "\n",
    "COLUMNS = ['age', 'sex', 'total_cholesterol', 'ldl', 'hdl', 'systolic_bp', 'diastolic_bp', 'smoking', 'diabetes',]\n",
    "RANDOM_STATE = 2025\n",
    "TARGET = 'heart_attack'\n",
    "\n",
    "reducer = TSNE(random_state=RANDOM_STATE)\n",
    "reduced_df = pd.DataFrame(columns=['x', 'y'], data=reducer.fit_transform(X=df[COLUMNS]))\n",
    "reduced_df[TARGET] = df[TARGET].tolist()\n",
    "\n",
    "express.scatter(data_frame=reduced_df, x='x', y='y', color=TARGET).show(renderer='iframe_connected')"
   ]
  },
  {
   "cell_type": "markdown",
   "id": "ffcbfd1b",
   "metadata": {
    "papermill": {
     "duration": 0.005238,
     "end_time": "2025-01-31T20:13:51.983310",
     "exception": false,
     "start_time": "2025-01-31T20:13:51.978072",
     "status": "completed"
    },
    "tags": []
   },
   "source": [
    "Our data looks fairly randomly distributed with maybe some local clustering. Let's build a model and see what happens."
   ]
  },
  {
   "cell_type": "code",
   "execution_count": 11,
   "id": "99eebea1",
   "metadata": {
    "execution": {
     "iopub.execute_input": "2025-01-31T20:13:51.995490Z",
     "iopub.status.busy": "2025-01-31T20:13:51.994972Z",
     "iopub.status.idle": "2025-01-31T20:13:52.030102Z",
     "shell.execute_reply": "2025-01-31T20:13:52.028778Z"
    },
    "papermill": {
     "duration": 0.042973,
     "end_time": "2025-01-31T20:13:52.031720",
     "exception": false,
     "start_time": "2025-01-31T20:13:51.988747",
     "status": "completed"
    },
    "tags": []
   },
   "outputs": [
    {
     "name": "stdout",
     "output_type": "stream",
     "text": [
      "              precision    recall  f1-score   support\n",
      "\n",
      "           0       0.90      1.00      0.94       179\n",
      "           1       0.00      0.00      0.00        21\n",
      "\n",
      "    accuracy                           0.90       200\n",
      "   macro avg       0.45      0.50      0.47       200\n",
      "weighted avg       0.80      0.90      0.85       200\n",
      "\n"
     ]
    }
   ],
   "source": [
    "from sklearn.model_selection import train_test_split\n",
    "from sklearn.neighbors import KNeighborsClassifier\n",
    "from sklearn.metrics import classification_report\n",
    "\n",
    "X_train, X_test, y_train, y_test = train_test_split(df[COLUMNS], df[TARGET], test_size=0.2, random_state=RANDOM_STATE, stratify=df[TARGET])\n",
    "knn = KNeighborsClassifier(n_neighbors=10)\n",
    "knn.fit(X=X_train, y=y_train)\n",
    "y_pred = knn.predict(X=X_test)\n",
    "\n",
    "print(classification_report(y_true=y_test, y_pred=y_pred, zero_division=0))"
   ]
  },
  {
   "cell_type": "markdown",
   "id": "9e3e5dbd",
   "metadata": {
    "papermill": {
     "duration": 0.005486,
     "end_time": "2025-01-31T20:13:52.042942",
     "exception": false,
     "start_time": "2025-01-31T20:13:52.037456",
     "status": "completed"
    },
    "tags": []
   },
   "source": [
    "Our model acts like it almost always predicts class 0. What would it look like if we had a model that always predicted class 0?"
   ]
  },
  {
   "cell_type": "code",
   "execution_count": 12,
   "id": "b16bbfee",
   "metadata": {
    "execution": {
     "iopub.execute_input": "2025-01-31T20:13:52.055083Z",
     "iopub.status.busy": "2025-01-31T20:13:52.054733Z",
     "iopub.status.idle": "2025-01-31T20:13:52.063846Z",
     "shell.execute_reply": "2025-01-31T20:13:52.062840Z"
    },
    "papermill": {
     "duration": 0.016928,
     "end_time": "2025-01-31T20:13:52.065376",
     "exception": false,
     "start_time": "2025-01-31T20:13:52.048448",
     "status": "completed"
    },
    "tags": []
   },
   "outputs": [
    {
     "data": {
      "text/html": [
       "<div>\n",
       "<style scoped>\n",
       "    .dataframe tbody tr th:only-of-type {\n",
       "        vertical-align: middle;\n",
       "    }\n",
       "\n",
       "    .dataframe tbody tr th {\n",
       "        vertical-align: top;\n",
       "    }\n",
       "\n",
       "    .dataframe thead th {\n",
       "        text-align: right;\n",
       "    }\n",
       "</style>\n",
       "<table border=\"1\" class=\"dataframe\">\n",
       "  <thead>\n",
       "    <tr style=\"text-align: right;\">\n",
       "      <th>heart_attack</th>\n",
       "      <th>0</th>\n",
       "      <th>1</th>\n",
       "    </tr>\n",
       "  </thead>\n",
       "  <tbody>\n",
       "    <tr>\n",
       "      <th>count</th>\n",
       "      <td>896</td>\n",
       "      <td>104</td>\n",
       "    </tr>\n",
       "  </tbody>\n",
       "</table>\n",
       "</div>"
      ],
      "text/plain": [
       "heart_attack    0    1\n",
       "count         896  104"
      ]
     },
     "execution_count": 12,
     "metadata": {},
     "output_type": "execute_result"
    }
   ],
   "source": [
    "df[TARGET].value_counts().to_frame().T"
   ]
  },
  {
   "cell_type": "code",
   "execution_count": 13,
   "id": "3bd7d640",
   "metadata": {
    "execution": {
     "iopub.execute_input": "2025-01-31T20:13:52.078442Z",
     "iopub.status.busy": "2025-01-31T20:13:52.078083Z",
     "iopub.status.idle": "2025-01-31T20:13:52.092788Z",
     "shell.execute_reply": "2025-01-31T20:13:52.091622Z"
    },
    "papermill": {
     "duration": 0.023247,
     "end_time": "2025-01-31T20:13:52.094485",
     "exception": false,
     "start_time": "2025-01-31T20:13:52.071238",
     "status": "completed"
    },
    "tags": []
   },
   "outputs": [
    {
     "name": "stdout",
     "output_type": "stream",
     "text": [
      "              precision    recall  f1-score   support\n",
      "\n",
      "           0       0.90      1.00      0.94       179\n",
      "           1       0.00      0.00      0.00        21\n",
      "\n",
      "    accuracy                           0.90       200\n",
      "   macro avg       0.45      0.50      0.47       200\n",
      "weighted avg       0.80      0.90      0.85       200\n",
      "\n"
     ]
    }
   ],
   "source": [
    "print(classification_report(zero_division=0, y_true=y_test, y_pred=([0] * len(y_test))))"
   ]
  },
  {
   "cell_type": "markdown",
   "id": "537ce01a",
   "metadata": {
    "papermill": {
     "duration": 0.005581,
     "end_time": "2025-01-31T20:13:52.106066",
     "exception": false,
     "start_time": "2025-01-31T20:13:52.100485",
     "status": "completed"
    },
    "tags": []
   },
   "source": [
    "Our model is, not surprisingly, indistinguishable from a dummy model."
   ]
  }
 ],
 "metadata": {
  "kaggle": {
   "accelerator": "none",
   "dataSources": [
    {
     "databundleVersionId": 10968369,
     "datasetId": 6571332,
     "sourceId": 10628300,
     "sourceType": "datasetVersion"
    }
   ],
   "dockerImageVersionId": 30839,
   "isGpuEnabled": false,
   "isInternetEnabled": true,
   "language": "python",
   "sourceType": "notebook"
  },
  "kernelspec": {
   "display_name": "Python 3",
   "language": "python",
   "name": "python3"
  },
  "language_info": {
   "codemirror_mode": {
    "name": "ipython",
    "version": 3
   },
   "file_extension": ".py",
   "mimetype": "text/x-python",
   "name": "python",
   "nbconvert_exporter": "python",
   "pygments_lexer": "ipython3",
   "version": "3.10.12"
  },
  "papermill": {
   "default_parameters": {},
   "duration": 14.384077,
   "end_time": "2025-01-31T20:13:52.931912",
   "environment_variables": {},
   "exception": null,
   "input_path": "__notebook__.ipynb",
   "output_path": "__notebook__.ipynb",
   "parameters": {},
   "start_time": "2025-01-31T20:13:38.547835",
   "version": "2.6.0"
  }
 },
 "nbformat": 4,
 "nbformat_minor": 5
}
