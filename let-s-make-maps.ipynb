{
 "cells": [
  {
   "cell_type": "code",
   "execution_count": 1,
   "id": "f20307b2",
   "metadata": {
    "_cell_guid": "b1076dfc-b9ad-4769-8c92-a6c4dae69d19",
    "_uuid": "8f2839f25d086af736a60e9eeb907d3b93b6e0e5",
    "execution": {
     "iopub.execute_input": "2024-04-11T18:20:42.377591Z",
     "iopub.status.busy": "2024-04-11T18:20:42.377103Z",
     "iopub.status.idle": "2024-04-11T18:20:43.428463Z",
     "shell.execute_reply": "2024-04-11T18:20:43.427254Z"
    },
    "papermill": {
     "duration": 1.059377,
     "end_time": "2024-04-11T18:20:43.431221",
     "exception": false,
     "start_time": "2024-04-11T18:20:42.371844",
     "status": "completed"
    },
    "tags": []
   },
   "outputs": [
    {
     "data": {
      "text/html": [
       "<div>\n",
       "<style scoped>\n",
       "    .dataframe tbody tr th:only-of-type {\n",
       "        vertical-align: middle;\n",
       "    }\n",
       "\n",
       "    .dataframe tbody tr th {\n",
       "        vertical-align: top;\n",
       "    }\n",
       "\n",
       "    .dataframe thead th {\n",
       "        text-align: right;\n",
       "    }\n",
       "</style>\n",
       "<table border=\"1\" class=\"dataframe\">\n",
       "  <thead>\n",
       "    <tr style=\"text-align: right;\">\n",
       "      <th></th>\n",
       "      <th>Activity Name</th>\n",
       "      <th>Activity Type</th>\n",
       "      <th>Park ID</th>\n",
       "      <th>Park Name</th>\n",
       "      <th>Timings</th>\n",
       "      <th>Height Restrictions</th>\n",
       "      <th>URL</th>\n",
       "      <th>Location Lat</th>\n",
       "      <th>Location Lng</th>\n",
       "    </tr>\n",
       "  </thead>\n",
       "  <tbody>\n",
       "    <tr>\n",
       "      <th>0</th>\n",
       "      <td>Meet Donald Duck in Mexico</td>\n",
       "      <td>Entertainment</td>\n",
       "      <td>80007838</td>\n",
       "      <td>EPCOT</td>\n",
       "      <td>09:30:00 to 09:30:00, 10:00:00 to 10:00:00, 10...</td>\n",
       "      <td>NaN</td>\n",
       "      <td>https://disneyworld.disney.go.com/entertainmen...</td>\n",
       "      <td>28.371185</td>\n",
       "      <td>-81.547297</td>\n",
       "    </tr>\n",
       "    <tr>\n",
       "      <th>1</th>\n",
       "      <td>Raglan Road Live Entertainment</td>\n",
       "      <td>Entertainment</td>\n",
       "      <td>80007798</td>\n",
       "      <td>NaN</td>\n",
       "      <td>NaN</td>\n",
       "      <td>NaN</td>\n",
       "      <td>https://disneyworld.disney.go.com/entertainmen...</td>\n",
       "      <td>28.371143</td>\n",
       "      <td>-81.517783</td>\n",
       "    </tr>\n",
       "    <tr>\n",
       "      <th>2</th>\n",
       "      <td>Atlantic Dance Hall</td>\n",
       "      <td>Entertainment</td>\n",
       "      <td>80008259</td>\n",
       "      <td>Disney's BoardWalk</td>\n",
       "      <td>20:00:00 to 01:00:00</td>\n",
       "      <td>NaN</td>\n",
       "      <td>https://disneyworld.disney.go.com/entertainmen...</td>\n",
       "      <td>28.367668</td>\n",
       "      <td>-81.557900</td>\n",
       "    </tr>\n",
       "    <tr>\n",
       "      <th>3</th>\n",
       "      <td>Meet Moana at Character Landing</td>\n",
       "      <td>Entertainment</td>\n",
       "      <td>80007823</td>\n",
       "      <td>Disney's Animal Kingdom Theme Park</td>\n",
       "      <td>08:30:00 to 11:30:00, 13:30:00 to 15:45:00</td>\n",
       "      <td>NaN</td>\n",
       "      <td>https://disneyworld.disney.go.com/entertainmen...</td>\n",
       "      <td>28.357086</td>\n",
       "      <td>-81.589374</td>\n",
       "    </tr>\n",
       "    <tr>\n",
       "      <th>4</th>\n",
       "      <td>Springs Overlook</td>\n",
       "      <td>Entertainment</td>\n",
       "      <td>10460</td>\n",
       "      <td>Disney Springs</td>\n",
       "      <td>NaN</td>\n",
       "      <td>NaN</td>\n",
       "      <td>https://disneyworld.disney.go.com/entertainmen...</td>\n",
       "      <td>28.370383</td>\n",
       "      <td>-81.517411</td>\n",
       "    </tr>\n",
       "  </tbody>\n",
       "</table>\n",
       "</div>"
      ],
      "text/plain": [
       "                     Activity Name  Activity Type   Park ID  \\\n",
       "0       Meet Donald Duck in Mexico  Entertainment  80007838   \n",
       "1   Raglan Road Live Entertainment  Entertainment  80007798   \n",
       "2              Atlantic Dance Hall  Entertainment  80008259   \n",
       "3  Meet Moana at Character Landing  Entertainment  80007823   \n",
       "4                 Springs Overlook  Entertainment     10460   \n",
       "\n",
       "                            Park Name  \\\n",
       "0                               EPCOT   \n",
       "1                                 NaN   \n",
       "2                  Disney's BoardWalk   \n",
       "3  Disney's Animal Kingdom Theme Park   \n",
       "4                      Disney Springs   \n",
       "\n",
       "                                             Timings Height Restrictions  \\\n",
       "0  09:30:00 to 09:30:00, 10:00:00 to 10:00:00, 10...                 NaN   \n",
       "1                                                NaN                 NaN   \n",
       "2                               20:00:00 to 01:00:00                 NaN   \n",
       "3         08:30:00 to 11:30:00, 13:30:00 to 15:45:00                 NaN   \n",
       "4                                                NaN                 NaN   \n",
       "\n",
       "                                                 URL  Location Lat  \\\n",
       "0  https://disneyworld.disney.go.com/entertainmen...     28.371185   \n",
       "1  https://disneyworld.disney.go.com/entertainmen...     28.371143   \n",
       "2  https://disneyworld.disney.go.com/entertainmen...     28.367668   \n",
       "3  https://disneyworld.disney.go.com/entertainmen...     28.357086   \n",
       "4  https://disneyworld.disney.go.com/entertainmen...     28.370383   \n",
       "\n",
       "   Location Lng  \n",
       "0    -81.547297  \n",
       "1    -81.517783  \n",
       "2    -81.557900  \n",
       "3    -81.589374  \n",
       "4    -81.517411  "
      ]
     },
     "execution_count": 1,
     "metadata": {},
     "output_type": "execute_result"
    }
   ],
   "source": [
    "import pandas as pd\n",
    "\n",
    "DISNEY = '/kaggle/input/disney-world-florida-parks-activities/activities.csv'\n",
    "\n",
    "df = pd.read_csv(filepath_or_buffer=DISNEY)\n",
    "df.head()"
   ]
  },
  {
   "cell_type": "markdown",
   "id": "75f8ffad",
   "metadata": {
    "papermill": {
     "duration": 0.002309,
     "end_time": "2024-04-11T18:20:43.436782",
     "exception": false,
     "start_time": "2024-04-11T18:20:43.434473",
     "status": "completed"
    },
    "tags": []
   },
   "source": [
    "We want to look at these on a map, and it would be nice if we could distinguish our points by both type and park name, but that's not possible with plotly scatter maps, so we'll have to settle for using two maps."
   ]
  },
  {
   "cell_type": "code",
   "execution_count": 2,
   "id": "088890b5",
   "metadata": {
    "execution": {
     "iopub.execute_input": "2024-04-11T18:20:43.443240Z",
     "iopub.status.busy": "2024-04-11T18:20:43.442839Z",
     "iopub.status.idle": "2024-04-11T18:20:46.324215Z",
     "shell.execute_reply": "2024-04-11T18:20:46.322911Z"
    },
    "papermill": {
     "duration": 2.887497,
     "end_time": "2024-04-11T18:20:46.326663",
     "exception": false,
     "start_time": "2024-04-11T18:20:43.439166",
     "status": "completed"
    },
    "tags": []
   },
   "outputs": [
    {
     "data": {
      "text/html": [
       "        <script type=\"text/javascript\">\n",
       "        window.PlotlyConfig = {MathJaxConfig: 'local'};\n",
       "        if (window.MathJax && window.MathJax.Hub && window.MathJax.Hub.Config) {window.MathJax.Hub.Config({SVG: {font: \"STIX-Web\"}});}\n",
       "        if (typeof require !== 'undefined') {\n",
       "        require.undef(\"plotly\");\n",
       "        requirejs.config({\n",
       "            paths: {\n",
       "                'plotly': ['https://cdn.plot.ly/plotly-2.27.0.min']\n",
       "            }\n",
       "        });\n",
       "        require(['plotly'], function(Plotly) {\n",
       "            window._Plotly = Plotly;\n",
       "        });\n",
       "        }\n",
       "        </script>\n",
       "        "
      ]
     },
     "metadata": {},
     "output_type": "display_data"
    },
    {
     "data": {
      "text/html": [
       "<div>                            <div id=\"b8b9406a-06f5-49da-b359-2ef02ce93639\" class=\"plotly-graph-div\" style=\"height:800px; width:100%;\"></div>            <script type=\"text/javascript\">                require([\"plotly\"], function(Plotly) {                    window.PLOTLYENV=window.PLOTLYENV || {};                                    if (document.getElementById(\"b8b9406a-06f5-49da-b359-2ef02ce93639\")) {                    Plotly.newPlot(                        \"b8b9406a-06f5-49da-b359-2ef02ce93639\",                        [{\"hovertemplate\":\"\\u003cb\\u003e%{hovertext}\\u003c\\u002fb\\u003e\\u003cbr\\u003e\\u003cbr\\u003ePark Name=EPCOT\\u003cbr\\u003eLocation Lat=%{lat}\\u003cbr\\u003eLocation Lng=%{lon}\\u003cextra\\u003e\\u003c\\u002fextra\\u003e\",\"hovertext\":[\"Meet Donald Duck in Mexico\",\"Command Performance\",\"Meet Figment Inside ImageWorks\",\"Meet Disney Friends Near EPCOT Main Entrance\",\"Meet Joy Inside ImageWorks\",\"EPCOT International Flower & Garden Festival – Garden Rocks Concert Series\",\"Meet Princess Jasmine in Morocco\",\"Entertainment at Canada Mill Stage\",\"Meet Snow White in Germany\",\"EPCOT International Festival of the Arts: DISNEY ON BROADWAY Concert Series\",\"Meet Alice in the United Kingdom\",\"JAMMitors\",\"Meet Beloved Disney Pals at Disney and Pixar Short Film Festival\",\"Meet Asha Near World Showcase Plaza\",\"Meet a Friend from the Hundred Acre Wood in the United Kingdom\",\"Eat to the Beat Concert Series presented by Florida Blue Medicare\",\"Entertainment at Germany Gazebo\",\"Meet Mulan in China\",\"Sergio\",\"Music of Mexico\",\"Meet Belle in France\",\"Disney® Visa® Cardmember Photo Opportunity at EPCOT\",\"Meet Princess Aurora in France\",\"Voices of Liberty\",\"Meet Anna and Elsa at Royal Sommerhus\",\"Rose & Crown Pub Musician\",\"Matsuriza\",\"Luminous The Symphony of Us – New!\",\"Frozen Ever After\",\"Gran Fiesta Tour Starring The Three Caballeros\",\"Guardians of the Galaxy: Cosmic Rewind\",\"Bruce's Shark World\",\"Awesome Planet\",\"Sharks and Rays - Disney Animals\",\"Stave Church Gallery\",\"Gallery of Arts and History\",\"EPCOT International Flower & Garden Festival - Topiaries\",\"SeaBase\",\"Sea Turtles - Disney Animals\",\"The American Adventure\",\"Turtle Talk With Crush\",\"Bijutsu-kan Gallery\",\"Disney’s DuckTales World Showcase Adventure\",\"Canada Far and Wide in Circle-Vision 360\",\"Advanced Training Lab\",\"Test Track\",\"American Heritage Gallery\",\"Mexico Folk Art Gallery\",\"House of the Whispering Willows\",\"Reflections of China\",\"Soarin' Around the World\",\"Frozen at Walt Disney World Resort\",\"Reef Fish - Disney Animals\",\"Journey Into Imagination With Figment\",\"Beauty and the Beast Sing-Along\",\"Impressions de France\",\"Kidcot Fun Stops\",\"ImageWorks - The \\\"What If\\\" Labs\",\"Manatees - Disney Animals\",\"Remy's Ratatouille Adventure\",\"Spaceship Earth\",\"Coral Reefs - Disney Animals\",\"Living with the Land\",\"Leave A Legacy\",\"The Seas with Nemo & Friends\",\"Dreamers Point – New!\",\"Mission: SPACE\",\"Disney and Pixar Short Film Festival\",\"Journey of Water, Inspired by Moana – New!\",\"Project Tomorrow: Inventing the Wonders of the Future\"],\"lat\":[28.371185,28.370535,28.372769,28.375567,28.372649,28.36831,28.36798002,28.371202,28.368451,28.36831,28.370387,28.373863,28.37263,28.3718773852161,28.3707205104,28.3682261910153,28.368651,28.3698563364835,28.367692,28.370993,28.36876,28.37258,28.36922,28.367595,28.37097,28.370467,28.36786,28.370146,28.370745,28.371649,28.3749021961781,28.375099,28.374301,28.375631,28.370621,28.368236,28.37193949156656,28.375098,28.375631,28.367517,28.375255,28.367309,28.3707609,28.371694,28.374185,28.373228,28.367517,28.371511,28.36999,28.369791,28.373592,null,28.375631,28.372994,28.368864,28.368864,28.3676026,28.372774,28.375631,28.36825,28.375583,28.375631,28.374245,28.37649778,28.374904,28.374369354306555,28.373927,28.37263,28.374691,28.37476],\"legendgroup\":\"EPCOT\",\"lon\":[-81.547297,-81.552498,-81.55128,-81.549695,-81.551259,-81.549428,-81.5518429,-81.551509,-81.546664,-81.549428,-81.551932,-81.549329,-81.55115,-81.5488533162313,-81.5524162352,-81.5493872831897,-81.546584,-81.5461904203374,-81.548249,-81.547431,-81.55212,-81.550904,-81.55286,-81.549387,-81.547134,-81.551677,-81.550389,-81.549394,-81.54653,-81.547368,-81.5478397673417,-81.551245451,-81.552138,-81.550904,-81.546971,-81.551612,-81.54942879960687,-81.551211,-81.550828,-81.549446,-81.551047,-81.550525,-81.552322,-81.55196,-81.547072,-81.547489,-81.549469,-81.54746,-81.546334,-81.546381,-81.552248,null,-81.550795,-81.551401,-81.552978,-81.552978,-81.549739,-81.551121,-81.550828,-81.553097,-81.549401,-81.550866,-81.552301,-81.54940289,-81.550852,-81.54939221991685,-81.547156,-81.55115,-81.550378,-81.549401],\"marker\":{\"color\":\"#636efa\"},\"mode\":\"markers\",\"name\":\"EPCOT\",\"showlegend\":true,\"subplot\":\"mapbox\",\"type\":\"scattermapbox\"},{\"hovertemplate\":\"\\u003cb\\u003e%{hovertext}\\u003c\\u002fb\\u003e\\u003cbr\\u003e\\u003cbr\\u003ePark Name=Disney's BoardWalk\\u003cbr\\u003eLocation Lat=%{lat}\\u003cbr\\u003eLocation Lng=%{lon}\\u003cextra\\u003e\\u003c\\u002fextra\\u003e\",\"hovertext\":[\"Atlantic Dance Hall\",\"Jellyrolls\"],\"lat\":[28.367668,28.3673864],\"legendgroup\":\"Disney's BoardWalk\",\"lon\":[-81.5579,-81.557736],\"marker\":{\"color\":\"#00cc96\"},\"mode\":\"markers\",\"name\":\"Disney's BoardWalk\",\"showlegend\":true,\"subplot\":\"mapbox\",\"type\":\"scattermapbox\"},{\"hovertemplate\":\"\\u003cb\\u003e%{hovertext}\\u003c\\u002fb\\u003e\\u003cbr\\u003e\\u003cbr\\u003ePark Name=Disney's Animal Kingdom Theme Park\\u003cbr\\u003eLocation Lat=%{lat}\\u003cbr\\u003eLocation Lng=%{lon}\\u003cextra\\u003e\\u003c\\u002fextra\\u003e\",\"hovertext\":[\"Meet Moana at Character Landing\",\"Disney's Animal Kingdom Entertainment\",\"Festival of the Lion King\",\"Tam Tam Drummers of Harambe\",\"Finding Nemo: The Big Blue... and Beyond!\",\"Donald's Dino-Bash!\",\"Feathered Friends in Flight!\",\"Animal Encounters: Winged Encounters – The Kingdom Takes Flight\",\"Viva Gaia Street Band!\",\"Harambe Village Acrobats\",\"Meet Favorite Disney Pals at Adventurers Outpost\",\"Discovery Island Trails\",\"Expedition Everest - Legend of the Forbidden Mountain\",\"Butterflies - Disney Animals\",\"Tree of Life\",\"Avatar Flight of Passage\",\"Rhinos - Disney Animals\",\"Migratory Birds - Disney Animals\",\"African Elephants - Disney Animals\",\"The Oasis Exhibits\",\"African Lions - Disney Animals\",\"Babirusas - Disney Animals\",\"Affection Section\",\"Hippopotamuses - Disney Animals\",\"African Birds - Disney Animals\",\"Anteaters - Disney Animals\",\"Fossil Fun Games\",\"Conservation Station\",\"Gibbons - Disney Animals\",\"Flamingos at Discovery Island - Disney Animals\",\"Wilderness Explorers\",\"Wildlife Express Train\",\"DINOSAUR\",\"Bats - Disney Animals\",\"Gorillas - Disney Animals\",\"Maharajah Jungle Trek\",\"Na'vi River Journey\",\"Vultures - Disney Animals\",\"Invertebrates - Disney Animals\",\"Lemurs - Disney Animals\",\"Zebras - Disney Animals\",\"Ankole Cattle - Disney Animals\",\"Kali River Rapids\",\"Disney Animals\",\"African Hogs - Disney Animals\",\"Okapis - Disney Animals\",\"Meerkats - Disney Animals\",\"It's Tough to be a Bug!\",\"Gorilla Falls Exploration Trail\",\"The Animation Experience at Conservation Station\",\"Giraffes - Disney Animals\",\"Asian Birds - Disney Animals\",\"Tigers - Disney Animals\",\"TriceraTop Spin\",\"Kilimanjaro Safaris\",\"The Boneyard\",\"Kangaroos - Disney Animals\",\"Asian Small-Clawed Otters - Disney Animals\",\"Cotton-Top Tamarins - Disney Animals\",\"Komodo Dragons - Disney Animals\",\"Dino-Sue\"],\"lat\":[28.357086,28.357994,28.35811,28.35873,28.357401,28.356385,28.358791,28.357339,28.357122,28.3591486373062,28.357972,28.3581032852655,28.3584769119,28.3649980475451,28.357994,28.355554,28.359414,28.355674,28.359414,28.355965,28.359414,28.3561095970354,28.3653458262,28.359414,28.360227,28.3561578052496,28.35677,28.36533,28.359049,28.357587,28.356682,28.3598097347,28.355307,28.3596505545806,28.360758,28.359379,28.355257,28.357602,28.355478,28.357555,28.355478,28.359414,28.3587834288,28.355384,28.359414,28.359414,28.360758,28.357488,28.359954,28.365188,28.359414,28.3598594408459,28.359943,28.356503,28.359331,28.3566787564,28.357363003526,28.357331,28.357901,28.35944,28.355745],\"legendgroup\":\"Disney's Animal Kingdom Theme Park\",\"lon\":[-81.589374,-81.590597,-81.592643,-81.591928,-81.587455,-81.587919,-81.590061,-81.590462,-81.589667,-81.5915742811563,-81.589796,-81.5911151562868,-81.5873781396,-81.5890323591127,-81.590597,-81.592147,-81.592356,-81.590191,-81.592318,-81.59014,-81.592273,-81.5899304157241,-81.5888520134,-81.592199,-81.59354,-81.5906228511836,-81.587961,-81.58872,-81.58874,-81.591099,-81.590292,-81.5914175464,-81.588444,-81.589561814223,-81.593059,-81.589019,-81.591641,-81.590752,-81.590128,-81.590224,-81.590106,-81.59224,-81.5889412165,-81.590135,-81.592171,-81.592171,-81.593059,-81.590118,-81.592149,-81.588669,-81.59224,-81.5892225147874,-81.589736,-81.588074,-81.59228,-81.5884791864,-81.5906622937138,-81.590983,-81.591501,-81.589237,-81.588646],\"marker\":{\"color\":\"#ab63fa\"},\"mode\":\"markers\",\"name\":\"Disney's Animal Kingdom Theme Park\",\"showlegend\":true,\"subplot\":\"mapbox\",\"type\":\"scattermapbox\"},{\"hovertemplate\":\"\\u003cb\\u003e%{hovertext}\\u003c\\u002fb\\u003e\\u003cbr\\u003e\\u003cbr\\u003ePark Name=Disney Springs\\u003cbr\\u003eLocation Lat=%{lat}\\u003cbr\\u003eLocation Lng=%{lon}\\u003cextra\\u003e\\u003c\\u002fextra\\u003e\",\"hovertext\":[\"Springs Overlook\",\"Drawn to Life Presented by Cirque du Soleil® & Disney\",\"Disney Springs Kids Club\",\"Splitsville Luxury Lanes™\",\"Waterview Park\",\"AdventHealth Waterside Stage\",\"House of Blues\",\"AMC® Disney Springs 24 Dine-In Theatres\",\"Disney Springs Art Walk: A Canvas of Expression\",\"Coca-Cola Polar Bear Photo Op Experience\",\"Marketplace Train Express\",\"Vintage Amphicar Tours\",\"Aerophile – The World Leader in Balloon Flight\",\"Marketplace Carousel\"],\"lat\":[28.370383,28.370719,28.37161,28.370157,28.37161,28.37179,28.370796,28.37011,28.369968,28.369329,28.372459,28.37167,28.370954,28.372854],\"legendgroup\":\"Disney Springs\",\"lon\":[-81.517411,-81.522536,-81.518211,-81.521325,-81.518211,-81.51529,-81.521783,-81.520953,-81.517103,-81.519149,-81.51473,-81.517986,-81.519473,-81.514925],\"marker\":{\"color\":\"#FFA15A\"},\"mode\":\"markers\",\"name\":\"Disney Springs\",\"showlegend\":true,\"subplot\":\"mapbox\",\"type\":\"scattermapbox\"},{\"hovertemplate\":\"\\u003cb\\u003e%{hovertext}\\u003c\\u002fb\\u003e\\u003cbr\\u003e\\u003cbr\\u003ePark Name=Magic Kingdom Park\\u003cbr\\u003eLocation Lat=%{lat}\\u003cbr\\u003eLocation Lng=%{lon}\\u003cextra\\u003e\\u003c\\u002fextra\\u003e\",\"hovertext\":[\"Mickey's Magical Friendship Faire\",\"Meet Cinderella and a Visiting Princess at Princess Fairytale Hall\",\"Let the Magic Begin\",\"Meet Winnie the Pooh and Tigger at The Thotful Spot\",\"Character Greeting near Buzz Lightyear's Star Command\",\"Meet Princess Tiana and a Visiting Princess at Princess Fairytale Hall\",\"Meet Dashing Disney Pals as Circus Stars at Pete's Silly Sideshow\",\"Meet Characters from Aladdin in Adventureland\",\"Meet Mickey at Town Square Theater\",\"Disney Enchantment at Disney After Hours at Magic Kingdom\",\"Disney Festival of Fantasy Parade\",\"Meet Ariel at Her Grotto\",\"Disney Adventure Friends Cavalcade\",\"Meet Daring Disney Pals as Circus Stars at Pete's Silly Sideshow\",\"Meet Mirabel at Fairytale Garden – New!\",\"Casey's Corner Pianist\",\"Happily Ever After\",\"The Dapper Dans\",\"Mickey's PhilharMagic\",\"Disney Fab 50 Character Collection\",\"The Hall of Presidents\",\"Buzz Lightyear's Space Ranger Spin\",\"Liberty Square Riverboat\",\"Dumbo the Flying Elephant\",\"Haunted Mansion\",\"Walt Disney's Enchanted Tiki Room\",\"Big Thunder Mountain Railroad\",\"Cinderella Castle Mural of Memories\",\"Frontierland Shootin' Arcade\",\"Space Mountain\",\"Mad Tea Party\",\"Under the Sea - Journey of The Little Mermaid\",\"Pirates at Walt Disney World Resort\",\"Astro Orbiter\",\"Prince Charming Regal Carrousel\",\"The Magic Carpets of Aladdin\",\"Walt Disney World Railroad - Frontierland\",\"TRON Lightcycle \\u002f Run\",\"Walt Disney's Carousel of Progress\",\"Tom Sawyer Island\",\"Casey Jr. Splash 'N' Soak Station\",\"Horses - Disney Animals\",\"Pirates of the Caribbean\",\"Country Bear Jamboree\",\"Tomorrowland Speedway\",\"Jungle Cruise\",\"Walt Disney World Railroad - Fantasyland\",\"Walt Disney World Railroad - Main Street, U.S.A.\",\"The Barnstormer\",\"Peter Pan's Flight\",\"Seven Dwarfs Mine Train\",\"Enchanted Tales with Belle\",\"A Pirate's Adventure ~ Treasures of the Seven Seas\",\"Cinderella Castle\",\"Tomorrowland Transit Authority PeopleMover\",\"The Many Adventures of Winnie the Pooh\",\"Tiana's Bayou Adventure – Coming Summer 2024\",\"Main Street Vehicles\",\"Monsters Inc. Laugh Floor\",\"Swiss Family Treehouse\",\"\\\"it's a small world\\\"\"],\"lat\":[28.419169,28.420071,28.419169,28.4201575,28.4178699,28.4200458,28.421282,28.418658,28.416727,28.419507,28.4189548,28.4208933,28.419507,28.421282,28.4195985,28.418112,28.419169,28.4174102,28.4200304909,28.4194549043,28.4194484171,28.4182868839,28.4195563399,28.420509033,28.4202,28.4182264646,28.4199638504,28.418608,28.4187637244,28.4188341691,28.4200230397,28.4211203,null,28.4184926179,28.420169,28.41843,28.41969,28.419625,28.4180310951,28.419503,28.4209221723,28.417436,28.4179699,28.4187861348,28.419368,28.41797818,28.420934,28.416543,28.4207661576,28.4202640272,28.42037,28.4209906,28.4183725,28.4194549043,28.418155,28.420212,28.419418,28.4168698711,28.4183977566,28.4184325517,28.4204816402],\"legendgroup\":\"Magic Kingdom Park\",\"lon\":[-81.581204,-81.580893,-81.581204,-81.580128,-81.5792335,-81.580917,-81.578932,-81.583513,-81.580746,-81.581177,-81.581198,-81.579613,-81.581177,-81.578932,-81.580264,-81.581421,-81.581204,-81.581217,-81.5814839853,-81.5811809,-81.5823248578,-81.5794086456,-81.5827982677,-81.5789473057,-81.58288,-81.583738382,-81.5846422864,-81.581198,-81.5832274211,-81.5781962872,-81.5798248916,-81.579975,null,-81.5789887902,-81.581255,-81.583472,-81.585078,-81.577985,-81.5790083064,-81.58428,-81.5786757124,-81.581216,-81.584225,-81.5837222887,-81.579302,-81.5834393157,-81.578368,-81.581204,-81.5783907473,-81.5818916811,-81.58031,-81.58093,-81.584669,-81.5811809,-81.579033,-81.580266,-81.58498,-81.5815081252,-81.5797358751,-81.5827982677,-81.5820392026],\"marker\":{\"color\":\"#19d3f3\"},\"mode\":\"markers\",\"name\":\"Magic Kingdom Park\",\"showlegend\":true,\"subplot\":\"mapbox\",\"type\":\"scattermapbox\"},{\"hovertemplate\":\"\\u003cb\\u003e%{hovertext}\\u003c\\u002fb\\u003e\\u003cbr\\u003e\\u003cbr\\u003ePark Name=Disney's Hollywood Studios\\u003cbr\\u003eLocation Lat=%{lat}\\u003cbr\\u003eLocation Lng=%{lon}\\u003cextra\\u003e\\u003c\\u002fextra\\u003e\",\"hovertext\":[\"Meet Edna Mode at the Edna Mode Experience\",\"Indiana Jones™ Epic Stunt Spectacular!\",\"Disney Movie Magic\",\"For the First Time in Forever: A Frozen Sing-Along Celebration\",\"Disney Junior Play and Dance!\",\"Meet Ariel at Walt Disney Presents\",\"Star Wars Launch Bay: BB-8 Astromech on Duty\",\"Meet Olaf at Celebrity Spotlight\",\"Green Army Drum Corps\",\"Beauty and the Beast – Live on Stage\",\"Meet Disney Stars at Red Carpet Dreams\",\"Disney® Visa® Cardmember Star Wars Photo Opportunity at Disney's Hollywood Studios\",\"Meet Pixar Pals at Pixar Plaza\",\"Star Wars Launch Bay: Encounter Darth Vader\",\"Meet the Toys in Toy Story Land\",\"Meet Disney Junior Pals in Animation Courtyard\",\"Fantasmic!\",\"Wonderful World of Animation\",\"First Order Searches for the Resistance\",\"Star Wars Launch Bay: Meet Chewbacca\",\"Star Wars: Rise of the Resistance\",\"The Twilight Zone Tower of Terror™\",\"Millennium Falcon: Smugglers Run\",\"Rock 'n' Roller Coaster Starring Aerosmith\",\"Star Tours – The Adventures Continue\",\"Star Wars™ at Walt Disney World Resort\",\"Toy Story Mania!\",\"Mickey & Minnie's Runaway Railway\",\"Star Wars Launch Bay Theater - Temporarily Unavailable\",\"Alien Swirling Saucers\",\"Lightning McQueen's Racing Academy\",\"Slinky Dog Dash\",\"Vacation Fun - An Original Animated Short with Mickey & Minnie\",\"Muppet*Vision 3D\",\"Star Wars Launch Bay\",\"Walt Disney Presents\"],\"lat\":[28.356086,28.3566701,28.356965,28.3568243,28.357613,28.356945,28.3580201699138,28.356072,28.355815,28.3589163,28.356068,28.358061,28.3563769305406,28.3581387982894,28.356184,28.357822,28.3612252,28.356965,28.354335,28.3580437948549,28.354884,28.359553,28.353889,28.359712,28.355695,null,28.356404,28.3566783801,28.357821,28.355385,28.360035,28.356245,28.356316,28.3550644708,28.357849,28.35686],\"legendgroup\":\"Disney's Hollywood Studios\",\"lon\":[-81.560742,-81.558611,-81.560425,-81.559694,-81.560567,-81.560998,-81.5610394270006,-81.559158,-81.562344,-81.559599,-81.559479,-81.560933,-81.5609562845992,-81.5608885508893,-81.56207,-81.560658,-81.558233,-81.560425,-81.562562,-81.5609857809673,-81.560457,-81.559772,-81.561689,-81.56059,-81.558891,null,-81.561894,-81.5605667783,-81.561061,-81.562379,-81.560707,-81.562786,-81.559031,-81.5594643904,-81.560996,-81.560982],\"marker\":{\"color\":\"#FF6692\"},\"mode\":\"markers\",\"name\":\"Disney's Hollywood Studios\",\"showlegend\":true,\"subplot\":\"mapbox\",\"type\":\"scattermapbox\"},{\"hovertemplate\":\"\\u003cb\\u003e%{hovertext}\\u003c\\u002fb\\u003e\\u003cbr\\u003e\\u003cbr\\u003ePark Name=Disney's Port Orleans Resort - Riverside\\u003cbr\\u003eLocation Lat=%{lat}\\u003cbr\\u003eLocation Lng=%{lon}\\u003cextra\\u003e\\u003c\\u002fextra\\u003e\",\"hovertext\":[\"Yehaa Bob Jackson at River Roost Lounge\"],\"lat\":[28.3864921],\"legendgroup\":\"Disney's Port Orleans Resort - Riverside\",\"lon\":[-81.5369],\"marker\":{\"color\":\"#B6E880\"},\"mode\":\"markers\",\"name\":\"Disney's Port Orleans Resort - Riverside\",\"showlegend\":true,\"subplot\":\"mapbox\",\"type\":\"scattermapbox\"},{\"hovertemplate\":\"\\u003cb\\u003e%{hovertext}\\u003c\\u002fb\\u003e\\u003cbr\\u003e\\u003cbr\\u003ePark Name=Disney's Grand Floridian Resort & Spa\\u003cbr\\u003eLocation Lat=%{lat}\\u003cbr\\u003eLocation Lng=%{lon}\\u003cextra\\u003e\\u003c\\u002fextra\\u003e\",\"hovertext\":[\"Grand Floridian Lobby Pianist\"],\"lat\":[28.4109537],\"legendgroup\":\"Disney's Grand Floridian Resort & Spa\",\"lon\":[-81.587711],\"marker\":{\"color\":\"#FF97FF\"},\"mode\":\"markers\",\"name\":\"Disney's Grand Floridian Resort & Spa\",\"showlegend\":true,\"subplot\":\"mapbox\",\"type\":\"scattermapbox\"},{\"hovertemplate\":\"\\u003cb\\u003e%{hovertext}\\u003c\\u002fb\\u003e\\u003cbr\\u003e\\u003cbr\\u003ePark Name=The Campsites at Disney's Fort Wilderness Resort\\u003cbr\\u003eLocation Lat=%{lat}\\u003cbr\\u003eLocation Lng=%{lon}\\u003cextra\\u003e\\u003c\\u002fextra\\u003e\",\"hovertext\":[\"Electrical Water Pageant\"],\"lat\":[28.409698],\"legendgroup\":\"The Campsites at Disney's Fort Wilderness Resort\",\"lon\":[-81.571398],\"marker\":{\"color\":\"#FECB52\"},\"mode\":\"markers\",\"name\":\"The Campsites at Disney's Fort Wilderness Resort\",\"showlegend\":true,\"subplot\":\"mapbox\",\"type\":\"scattermapbox\"},{\"hovertemplate\":\"\\u003cb\\u003e%{hovertext}\\u003c\\u002fb\\u003e\\u003cbr\\u003e\\u003cbr\\u003ePark Name=Disney's Blizzard Beach Water Park\\u003cbr\\u003eLocation Lat=%{lat}\\u003cbr\\u003eLocation Lng=%{lon}\\u003cextra\\u003e\\u003c\\u002fextra\\u003e\",\"hovertext\":[\"Summit Plummet\",\"Runoff Rapids\",\"Downhill Double Dipper\",\"Ski Patrol Training Camp\",\"Snow Stormers\",\"Toboggan Racers\",\"Melt-Away Bay\",\"Tike's Peak\",\"Cross Country Creek\",\"Teamboat Springs\",\"Slush Gusher\",\"Chairlift\"],\"lat\":[28.3519232056,28.351462,28.351215713,28.352258,28.3514397089,28.351715,28.3513855054,28.3529402305,28.3513399635,28.351967,28.3518728427,28.3521916073],\"legendgroup\":\"Disney's Blizzard Beach Water Park\",\"lon\":[-81.5758319199,-81.576098,-81.5756836496,-81.575348,-81.5756890923,-81.575773,-81.5745799793,-81.5745699406,-81.5736767258,-81.575911,-81.5757836401,-81.5742527498],\"marker\":{\"color\":\"#636efa\"},\"mode\":\"markers\",\"name\":\"Disney's Blizzard Beach Water Park\",\"showlegend\":true,\"subplot\":\"mapbox\",\"type\":\"scattermapbox\"},{\"hovertemplate\":\"\\u003cb\\u003e%{hovertext}\\u003c\\u002fb\\u003e\\u003cbr\\u003e\\u003cbr\\u003ePark Name=Disney's Typhoon Lagoon Water Park\\u003cbr\\u003eLocation Lat=%{lat}\\u003cbr\\u003eLocation Lng=%{lon}\\u003cextra\\u003e\\u003c\\u002fextra\\u003e\",\"hovertext\":[\"Gangplank Falls\",\"Crush 'n' Gusher\",\"Storm Slides\",\"Ketchakiddee Creek\",\"Castaway Creek\",\"Typhoon Lagoon Surf Pool\",\"Keelhaul Falls\",\"Mayday Falls\",\"Miss Adventure Falls\",\"Humunga Kowabunga\",\"Bay Slides\"],\"lat\":[28.3657380338,28.3666932987,28.366791097,28.36507,28.3660367345,28.3659144638,28.3654943759,28.3656245494,28.366796,28.3665795566,28.365402],\"legendgroup\":\"Disney's Typhoon Lagoon Water Park\",\"lon\":[-81.5305508673,-81.5282974765,-81.5304308189,-81.530505,-81.5287544578,-81.5299641145,-81.5305106342,-81.530521363,-81.528804,-81.5303215741,-81.529838],\"marker\":{\"color\":\"#EF553B\"},\"mode\":\"markers\",\"name\":\"Disney's Typhoon Lagoon Water Park\",\"showlegend\":true,\"subplot\":\"mapbox\",\"type\":\"scattermapbox\"}],                        {\"template\":{\"data\":{\"histogram2dcontour\":[{\"type\":\"histogram2dcontour\",\"colorbar\":{\"outlinewidth\":0,\"ticks\":\"\"},\"colorscale\":[[0.0,\"#0d0887\"],[0.1111111111111111,\"#46039f\"],[0.2222222222222222,\"#7201a8\"],[0.3333333333333333,\"#9c179e\"],[0.4444444444444444,\"#bd3786\"],[0.5555555555555556,\"#d8576b\"],[0.6666666666666666,\"#ed7953\"],[0.7777777777777778,\"#fb9f3a\"],[0.8888888888888888,\"#fdca26\"],[1.0,\"#f0f921\"]]}],\"choropleth\":[{\"type\":\"choropleth\",\"colorbar\":{\"outlinewidth\":0,\"ticks\":\"\"}}],\"histogram2d\":[{\"type\":\"histogram2d\",\"colorbar\":{\"outlinewidth\":0,\"ticks\":\"\"},\"colorscale\":[[0.0,\"#0d0887\"],[0.1111111111111111,\"#46039f\"],[0.2222222222222222,\"#7201a8\"],[0.3333333333333333,\"#9c179e\"],[0.4444444444444444,\"#bd3786\"],[0.5555555555555556,\"#d8576b\"],[0.6666666666666666,\"#ed7953\"],[0.7777777777777778,\"#fb9f3a\"],[0.8888888888888888,\"#fdca26\"],[1.0,\"#f0f921\"]]}],\"heatmap\":[{\"type\":\"heatmap\",\"colorbar\":{\"outlinewidth\":0,\"ticks\":\"\"},\"colorscale\":[[0.0,\"#0d0887\"],[0.1111111111111111,\"#46039f\"],[0.2222222222222222,\"#7201a8\"],[0.3333333333333333,\"#9c179e\"],[0.4444444444444444,\"#bd3786\"],[0.5555555555555556,\"#d8576b\"],[0.6666666666666666,\"#ed7953\"],[0.7777777777777778,\"#fb9f3a\"],[0.8888888888888888,\"#fdca26\"],[1.0,\"#f0f921\"]]}],\"heatmapgl\":[{\"type\":\"heatmapgl\",\"colorbar\":{\"outlinewidth\":0,\"ticks\":\"\"},\"colorscale\":[[0.0,\"#0d0887\"],[0.1111111111111111,\"#46039f\"],[0.2222222222222222,\"#7201a8\"],[0.3333333333333333,\"#9c179e\"],[0.4444444444444444,\"#bd3786\"],[0.5555555555555556,\"#d8576b\"],[0.6666666666666666,\"#ed7953\"],[0.7777777777777778,\"#fb9f3a\"],[0.8888888888888888,\"#fdca26\"],[1.0,\"#f0f921\"]]}],\"contourcarpet\":[{\"type\":\"contourcarpet\",\"colorbar\":{\"outlinewidth\":0,\"ticks\":\"\"}}],\"contour\":[{\"type\":\"contour\",\"colorbar\":{\"outlinewidth\":0,\"ticks\":\"\"},\"colorscale\":[[0.0,\"#0d0887\"],[0.1111111111111111,\"#46039f\"],[0.2222222222222222,\"#7201a8\"],[0.3333333333333333,\"#9c179e\"],[0.4444444444444444,\"#bd3786\"],[0.5555555555555556,\"#d8576b\"],[0.6666666666666666,\"#ed7953\"],[0.7777777777777778,\"#fb9f3a\"],[0.8888888888888888,\"#fdca26\"],[1.0,\"#f0f921\"]]}],\"surface\":[{\"type\":\"surface\",\"colorbar\":{\"outlinewidth\":0,\"ticks\":\"\"},\"colorscale\":[[0.0,\"#0d0887\"],[0.1111111111111111,\"#46039f\"],[0.2222222222222222,\"#7201a8\"],[0.3333333333333333,\"#9c179e\"],[0.4444444444444444,\"#bd3786\"],[0.5555555555555556,\"#d8576b\"],[0.6666666666666666,\"#ed7953\"],[0.7777777777777778,\"#fb9f3a\"],[0.8888888888888888,\"#fdca26\"],[1.0,\"#f0f921\"]]}],\"mesh3d\":[{\"type\":\"mesh3d\",\"colorbar\":{\"outlinewidth\":0,\"ticks\":\"\"}}],\"scatter\":[{\"fillpattern\":{\"fillmode\":\"overlay\",\"size\":10,\"solidity\":0.2},\"type\":\"scatter\"}],\"parcoords\":[{\"type\":\"parcoords\",\"line\":{\"colorbar\":{\"outlinewidth\":0,\"ticks\":\"\"}}}],\"scatterpolargl\":[{\"type\":\"scatterpolargl\",\"marker\":{\"colorbar\":{\"outlinewidth\":0,\"ticks\":\"\"}}}],\"bar\":[{\"error_x\":{\"color\":\"#2a3f5f\"},\"error_y\":{\"color\":\"#2a3f5f\"},\"marker\":{\"line\":{\"color\":\"#E5ECF6\",\"width\":0.5},\"pattern\":{\"fillmode\":\"overlay\",\"size\":10,\"solidity\":0.2}},\"type\":\"bar\"}],\"scattergeo\":[{\"type\":\"scattergeo\",\"marker\":{\"colorbar\":{\"outlinewidth\":0,\"ticks\":\"\"}}}],\"scatterpolar\":[{\"type\":\"scatterpolar\",\"marker\":{\"colorbar\":{\"outlinewidth\":0,\"ticks\":\"\"}}}],\"histogram\":[{\"marker\":{\"pattern\":{\"fillmode\":\"overlay\",\"size\":10,\"solidity\":0.2}},\"type\":\"histogram\"}],\"scattergl\":[{\"type\":\"scattergl\",\"marker\":{\"colorbar\":{\"outlinewidth\":0,\"ticks\":\"\"}}}],\"scatter3d\":[{\"type\":\"scatter3d\",\"line\":{\"colorbar\":{\"outlinewidth\":0,\"ticks\":\"\"}},\"marker\":{\"colorbar\":{\"outlinewidth\":0,\"ticks\":\"\"}}}],\"scattermapbox\":[{\"type\":\"scattermapbox\",\"marker\":{\"colorbar\":{\"outlinewidth\":0,\"ticks\":\"\"}}}],\"scatterternary\":[{\"type\":\"scatterternary\",\"marker\":{\"colorbar\":{\"outlinewidth\":0,\"ticks\":\"\"}}}],\"scattercarpet\":[{\"type\":\"scattercarpet\",\"marker\":{\"colorbar\":{\"outlinewidth\":0,\"ticks\":\"\"}}}],\"carpet\":[{\"aaxis\":{\"endlinecolor\":\"#2a3f5f\",\"gridcolor\":\"white\",\"linecolor\":\"white\",\"minorgridcolor\":\"white\",\"startlinecolor\":\"#2a3f5f\"},\"baxis\":{\"endlinecolor\":\"#2a3f5f\",\"gridcolor\":\"white\",\"linecolor\":\"white\",\"minorgridcolor\":\"white\",\"startlinecolor\":\"#2a3f5f\"},\"type\":\"carpet\"}],\"table\":[{\"cells\":{\"fill\":{\"color\":\"#EBF0F8\"},\"line\":{\"color\":\"white\"}},\"header\":{\"fill\":{\"color\":\"#C8D4E3\"},\"line\":{\"color\":\"white\"}},\"type\":\"table\"}],\"barpolar\":[{\"marker\":{\"line\":{\"color\":\"#E5ECF6\",\"width\":0.5},\"pattern\":{\"fillmode\":\"overlay\",\"size\":10,\"solidity\":0.2}},\"type\":\"barpolar\"}],\"pie\":[{\"automargin\":true,\"type\":\"pie\"}]},\"layout\":{\"autotypenumbers\":\"strict\",\"colorway\":[\"#636efa\",\"#EF553B\",\"#00cc96\",\"#ab63fa\",\"#FFA15A\",\"#19d3f3\",\"#FF6692\",\"#B6E880\",\"#FF97FF\",\"#FECB52\"],\"font\":{\"color\":\"#2a3f5f\"},\"hovermode\":\"closest\",\"hoverlabel\":{\"align\":\"left\"},\"paper_bgcolor\":\"white\",\"plot_bgcolor\":\"#E5ECF6\",\"polar\":{\"bgcolor\":\"#E5ECF6\",\"angularaxis\":{\"gridcolor\":\"white\",\"linecolor\":\"white\",\"ticks\":\"\"},\"radialaxis\":{\"gridcolor\":\"white\",\"linecolor\":\"white\",\"ticks\":\"\"}},\"ternary\":{\"bgcolor\":\"#E5ECF6\",\"aaxis\":{\"gridcolor\":\"white\",\"linecolor\":\"white\",\"ticks\":\"\"},\"baxis\":{\"gridcolor\":\"white\",\"linecolor\":\"white\",\"ticks\":\"\"},\"caxis\":{\"gridcolor\":\"white\",\"linecolor\":\"white\",\"ticks\":\"\"}},\"coloraxis\":{\"colorbar\":{\"outlinewidth\":0,\"ticks\":\"\"}},\"colorscale\":{\"sequential\":[[0.0,\"#0d0887\"],[0.1111111111111111,\"#46039f\"],[0.2222222222222222,\"#7201a8\"],[0.3333333333333333,\"#9c179e\"],[0.4444444444444444,\"#bd3786\"],[0.5555555555555556,\"#d8576b\"],[0.6666666666666666,\"#ed7953\"],[0.7777777777777778,\"#fb9f3a\"],[0.8888888888888888,\"#fdca26\"],[1.0,\"#f0f921\"]],\"sequentialminus\":[[0.0,\"#0d0887\"],[0.1111111111111111,\"#46039f\"],[0.2222222222222222,\"#7201a8\"],[0.3333333333333333,\"#9c179e\"],[0.4444444444444444,\"#bd3786\"],[0.5555555555555556,\"#d8576b\"],[0.6666666666666666,\"#ed7953\"],[0.7777777777777778,\"#fb9f3a\"],[0.8888888888888888,\"#fdca26\"],[1.0,\"#f0f921\"]],\"diverging\":[[0,\"#8e0152\"],[0.1,\"#c51b7d\"],[0.2,\"#de77ae\"],[0.3,\"#f1b6da\"],[0.4,\"#fde0ef\"],[0.5,\"#f7f7f7\"],[0.6,\"#e6f5d0\"],[0.7,\"#b8e186\"],[0.8,\"#7fbc41\"],[0.9,\"#4d9221\"],[1,\"#276419\"]]},\"xaxis\":{\"gridcolor\":\"white\",\"linecolor\":\"white\",\"ticks\":\"\",\"title\":{\"standoff\":15},\"zerolinecolor\":\"white\",\"automargin\":true,\"zerolinewidth\":2},\"yaxis\":{\"gridcolor\":\"white\",\"linecolor\":\"white\",\"ticks\":\"\",\"title\":{\"standoff\":15},\"zerolinecolor\":\"white\",\"automargin\":true,\"zerolinewidth\":2},\"scene\":{\"xaxis\":{\"backgroundcolor\":\"#E5ECF6\",\"gridcolor\":\"white\",\"linecolor\":\"white\",\"showbackground\":true,\"ticks\":\"\",\"zerolinecolor\":\"white\",\"gridwidth\":2},\"yaxis\":{\"backgroundcolor\":\"#E5ECF6\",\"gridcolor\":\"white\",\"linecolor\":\"white\",\"showbackground\":true,\"ticks\":\"\",\"zerolinecolor\":\"white\",\"gridwidth\":2},\"zaxis\":{\"backgroundcolor\":\"#E5ECF6\",\"gridcolor\":\"white\",\"linecolor\":\"white\",\"showbackground\":true,\"ticks\":\"\",\"zerolinecolor\":\"white\",\"gridwidth\":2}},\"shapedefaults\":{\"line\":{\"color\":\"#2a3f5f\"}},\"annotationdefaults\":{\"arrowcolor\":\"#2a3f5f\",\"arrowhead\":0,\"arrowwidth\":1},\"geo\":{\"bgcolor\":\"white\",\"landcolor\":\"#E5ECF6\",\"subunitcolor\":\"white\",\"showland\":true,\"showlakes\":true,\"lakecolor\":\"white\"},\"title\":{\"x\":0.05},\"mapbox\":{\"style\":\"light\"}}},\"mapbox\":{\"domain\":{\"x\":[0.0,1.0],\"y\":[0.0,1.0]},\"center\":{\"lat\":28.376507426117477,\"lon\":-81.56596504899989},\"zoom\":12,\"style\":\"open-street-map\"},\"legend\":{\"title\":{\"text\":\"Park Name\"},\"tracegroupgap\":0},\"margin\":{\"t\":60},\"height\":800},                        {\"responsive\": true}                    ).then(function(){\n",
       "                            \n",
       "var gd = document.getElementById('b8b9406a-06f5-49da-b359-2ef02ce93639');\n",
       "var x = new MutationObserver(function (mutations, observer) {{\n",
       "        var display = window.getComputedStyle(gd).display;\n",
       "        if (!display || display === 'none') {{\n",
       "            console.log([gd, 'removed!']);\n",
       "            Plotly.purge(gd);\n",
       "            observer.disconnect();\n",
       "        }}\n",
       "}});\n",
       "\n",
       "// Listen for the removal of the full notebook cells\n",
       "var notebookContainer = gd.closest('#notebook-container');\n",
       "if (notebookContainer) {{\n",
       "    x.observe(notebookContainer, {childList: true});\n",
       "}}\n",
       "\n",
       "// Listen for the clearing of the current output cell\n",
       "var outputEl = gd.closest('.output');\n",
       "if (outputEl) {{\n",
       "    x.observe(outputEl, {childList: true});\n",
       "}}\n",
       "\n",
       "                        })                };                });            </script>        </div>"
      ]
     },
     "metadata": {},
     "output_type": "display_data"
    },
    {
     "data": {
      "text/html": [
       "<div>                            <div id=\"fa4b9d4c-19da-4b7a-afe4-c27379d9263e\" class=\"plotly-graph-div\" style=\"height:800px; width:100%;\"></div>            <script type=\"text/javascript\">                require([\"plotly\"], function(Plotly) {                    window.PLOTLYENV=window.PLOTLYENV || {};                                    if (document.getElementById(\"fa4b9d4c-19da-4b7a-afe4-c27379d9263e\")) {                    Plotly.newPlot(                        \"fa4b9d4c-19da-4b7a-afe4-c27379d9263e\",                        [{\"hovertemplate\":\"\\u003cb\\u003e%{hovertext}\\u003c\\u002fb\\u003e\\u003cbr\\u003e\\u003cbr\\u003ePark Name=EPCOT\\u003cbr\\u003eLocation Lat=%{lat}\\u003cbr\\u003eLocation Lng=%{lon}\\u003cextra\\u003e\\u003c\\u002fextra\\u003e\",\"hovertext\":[\"Meet Donald Duck in Mexico\",\"Command Performance\",\"Meet Figment Inside ImageWorks\",\"Meet Disney Friends Near EPCOT Main Entrance\",\"Meet Joy Inside ImageWorks\",\"EPCOT International Flower & Garden Festival – Garden Rocks Concert Series\",\"Meet Princess Jasmine in Morocco\",\"Entertainment at Canada Mill Stage\",\"Meet Snow White in Germany\",\"EPCOT International Festival of the Arts: DISNEY ON BROADWAY Concert Series\",\"Meet Alice in the United Kingdom\",\"JAMMitors\",\"Meet Beloved Disney Pals at Disney and Pixar Short Film Festival\",\"Meet Asha Near World Showcase Plaza\",\"Meet a Friend from the Hundred Acre Wood in the United Kingdom\",\"Eat to the Beat Concert Series presented by Florida Blue Medicare\",\"Entertainment at Germany Gazebo\",\"Meet Mulan in China\",\"Sergio\",\"Music of Mexico\",\"Meet Belle in France\",\"Disney® Visa® Cardmember Photo Opportunity at EPCOT\",\"Meet Princess Aurora in France\",\"Voices of Liberty\",\"Meet Anna and Elsa at Royal Sommerhus\",\"Rose & Crown Pub Musician\",\"Matsuriza\",\"Luminous The Symphony of Us – New!\",\"Frozen Ever After\",\"Gran Fiesta Tour Starring The Three Caballeros\",\"Guardians of the Galaxy: Cosmic Rewind\",\"Bruce's Shark World\",\"Awesome Planet\",\"Sharks and Rays - Disney Animals\",\"Stave Church Gallery\",\"Gallery of Arts and History\",\"EPCOT International Flower & Garden Festival - Topiaries\",\"SeaBase\",\"Sea Turtles - Disney Animals\",\"The American Adventure\",\"Turtle Talk With Crush\",\"Bijutsu-kan Gallery\",\"Disney’s DuckTales World Showcase Adventure\",\"Canada Far and Wide in Circle-Vision 360\",\"Advanced Training Lab\",\"Test Track\",\"American Heritage Gallery\",\"Mexico Folk Art Gallery\",\"House of the Whispering Willows\",\"Reflections of China\",\"Soarin' Around the World\",\"Frozen at Walt Disney World Resort\",\"Reef Fish - Disney Animals\",\"Journey Into Imagination With Figment\",\"Beauty and the Beast Sing-Along\",\"Impressions de France\",\"Kidcot Fun Stops\",\"ImageWorks - The \\\"What If\\\" Labs\",\"Manatees - Disney Animals\",\"Remy's Ratatouille Adventure\",\"Spaceship Earth\",\"Coral Reefs - Disney Animals\",\"Living with the Land\",\"Leave A Legacy\",\"The Seas with Nemo & Friends\",\"Dreamers Point – New!\",\"Mission: SPACE\",\"Disney and Pixar Short Film Festival\",\"Journey of Water, Inspired by Moana – New!\",\"Project Tomorrow: Inventing the Wonders of the Future\"],\"lat\":[28.371185,28.370535,28.372769,28.375567,28.372649,28.36831,28.36798002,28.371202,28.368451,28.36831,28.370387,28.373863,28.37263,28.3718773852161,28.3707205104,28.3682261910153,28.368651,28.3698563364835,28.367692,28.370993,28.36876,28.37258,28.36922,28.367595,28.37097,28.370467,28.36786,28.370146,28.370745,28.371649,28.3749021961781,28.375099,28.374301,28.375631,28.370621,28.368236,28.37193949156656,28.375098,28.375631,28.367517,28.375255,28.367309,28.3707609,28.371694,28.374185,28.373228,28.367517,28.371511,28.36999,28.369791,28.373592,null,28.375631,28.372994,28.368864,28.368864,28.3676026,28.372774,28.375631,28.36825,28.375583,28.375631,28.374245,28.37649778,28.374904,28.374369354306555,28.373927,28.37263,28.374691,28.37476],\"legendgroup\":\"EPCOT\",\"lon\":[-81.547297,-81.552498,-81.55128,-81.549695,-81.551259,-81.549428,-81.5518429,-81.551509,-81.546664,-81.549428,-81.551932,-81.549329,-81.55115,-81.5488533162313,-81.5524162352,-81.5493872831897,-81.546584,-81.5461904203374,-81.548249,-81.547431,-81.55212,-81.550904,-81.55286,-81.549387,-81.547134,-81.551677,-81.550389,-81.549394,-81.54653,-81.547368,-81.5478397673417,-81.551245451,-81.552138,-81.550904,-81.546971,-81.551612,-81.54942879960687,-81.551211,-81.550828,-81.549446,-81.551047,-81.550525,-81.552322,-81.55196,-81.547072,-81.547489,-81.549469,-81.54746,-81.546334,-81.546381,-81.552248,null,-81.550795,-81.551401,-81.552978,-81.552978,-81.549739,-81.551121,-81.550828,-81.553097,-81.549401,-81.550866,-81.552301,-81.54940289,-81.550852,-81.54939221991685,-81.547156,-81.55115,-81.550378,-81.549401],\"marker\":{\"color\":\"#636efa\"},\"mode\":\"markers\",\"name\":\"EPCOT\",\"showlegend\":true,\"subplot\":\"mapbox\",\"type\":\"scattermapbox\"},{\"hovertemplate\":\"\\u003cb\\u003e%{hovertext}\\u003c\\u002fb\\u003e\\u003cbr\\u003e\\u003cbr\\u003ePark Name=Disney's BoardWalk\\u003cbr\\u003eLocation Lat=%{lat}\\u003cbr\\u003eLocation Lng=%{lon}\\u003cextra\\u003e\\u003c\\u002fextra\\u003e\",\"hovertext\":[\"Atlantic Dance Hall\",\"Jellyrolls\"],\"lat\":[28.367668,28.3673864],\"legendgroup\":\"Disney's BoardWalk\",\"lon\":[-81.5579,-81.557736],\"marker\":{\"color\":\"#00cc96\"},\"mode\":\"markers\",\"name\":\"Disney's BoardWalk\",\"showlegend\":true,\"subplot\":\"mapbox\",\"type\":\"scattermapbox\"},{\"hovertemplate\":\"\\u003cb\\u003e%{hovertext}\\u003c\\u002fb\\u003e\\u003cbr\\u003e\\u003cbr\\u003ePark Name=Disney's Animal Kingdom Theme Park\\u003cbr\\u003eLocation Lat=%{lat}\\u003cbr\\u003eLocation Lng=%{lon}\\u003cextra\\u003e\\u003c\\u002fextra\\u003e\",\"hovertext\":[\"Meet Moana at Character Landing\",\"Disney's Animal Kingdom Entertainment\",\"Festival of the Lion King\",\"Tam Tam Drummers of Harambe\",\"Finding Nemo: The Big Blue... and Beyond!\",\"Donald's Dino-Bash!\",\"Feathered Friends in Flight!\",\"Animal Encounters: Winged Encounters – The Kingdom Takes Flight\",\"Viva Gaia Street Band!\",\"Harambe Village Acrobats\",\"Meet Favorite Disney Pals at Adventurers Outpost\",\"Discovery Island Trails\",\"Expedition Everest - Legend of the Forbidden Mountain\",\"Butterflies - Disney Animals\",\"Tree of Life\",\"Avatar Flight of Passage\",\"Rhinos - Disney Animals\",\"Migratory Birds - Disney Animals\",\"African Elephants - Disney Animals\",\"The Oasis Exhibits\",\"African Lions - Disney Animals\",\"Babirusas - Disney Animals\",\"Affection Section\",\"Hippopotamuses - Disney Animals\",\"African Birds - Disney Animals\",\"Anteaters - Disney Animals\",\"Fossil Fun Games\",\"Conservation Station\",\"Gibbons - Disney Animals\",\"Flamingos at Discovery Island - Disney Animals\",\"Wilderness Explorers\",\"Wildlife Express Train\",\"DINOSAUR\",\"Bats - Disney Animals\",\"Gorillas - Disney Animals\",\"Maharajah Jungle Trek\",\"Na'vi River Journey\",\"Vultures - Disney Animals\",\"Invertebrates - Disney Animals\",\"Lemurs - Disney Animals\",\"Zebras - Disney Animals\",\"Ankole Cattle - Disney Animals\",\"Kali River Rapids\",\"Disney Animals\",\"African Hogs - Disney Animals\",\"Okapis - Disney Animals\",\"Meerkats - Disney Animals\",\"It's Tough to be a Bug!\",\"Gorilla Falls Exploration Trail\",\"The Animation Experience at Conservation Station\",\"Giraffes - Disney Animals\",\"Asian Birds - Disney Animals\",\"Tigers - Disney Animals\",\"TriceraTop Spin\",\"Kilimanjaro Safaris\",\"The Boneyard\",\"Kangaroos - Disney Animals\",\"Asian Small-Clawed Otters - Disney Animals\",\"Cotton-Top Tamarins - Disney Animals\",\"Komodo Dragons - Disney Animals\",\"Dino-Sue\"],\"lat\":[28.357086,28.357994,28.35811,28.35873,28.357401,28.356385,28.358791,28.357339,28.357122,28.3591486373062,28.357972,28.3581032852655,28.3584769119,28.3649980475451,28.357994,28.355554,28.359414,28.355674,28.359414,28.355965,28.359414,28.3561095970354,28.3653458262,28.359414,28.360227,28.3561578052496,28.35677,28.36533,28.359049,28.357587,28.356682,28.3598097347,28.355307,28.3596505545806,28.360758,28.359379,28.355257,28.357602,28.355478,28.357555,28.355478,28.359414,28.3587834288,28.355384,28.359414,28.359414,28.360758,28.357488,28.359954,28.365188,28.359414,28.3598594408459,28.359943,28.356503,28.359331,28.3566787564,28.357363003526,28.357331,28.357901,28.35944,28.355745],\"legendgroup\":\"Disney's Animal Kingdom Theme Park\",\"lon\":[-81.589374,-81.590597,-81.592643,-81.591928,-81.587455,-81.587919,-81.590061,-81.590462,-81.589667,-81.5915742811563,-81.589796,-81.5911151562868,-81.5873781396,-81.5890323591127,-81.590597,-81.592147,-81.592356,-81.590191,-81.592318,-81.59014,-81.592273,-81.5899304157241,-81.5888520134,-81.592199,-81.59354,-81.5906228511836,-81.587961,-81.58872,-81.58874,-81.591099,-81.590292,-81.5914175464,-81.588444,-81.589561814223,-81.593059,-81.589019,-81.591641,-81.590752,-81.590128,-81.590224,-81.590106,-81.59224,-81.5889412165,-81.590135,-81.592171,-81.592171,-81.593059,-81.590118,-81.592149,-81.588669,-81.59224,-81.5892225147874,-81.589736,-81.588074,-81.59228,-81.5884791864,-81.5906622937138,-81.590983,-81.591501,-81.589237,-81.588646],\"marker\":{\"color\":\"#ab63fa\"},\"mode\":\"markers\",\"name\":\"Disney's Animal Kingdom Theme Park\",\"showlegend\":true,\"subplot\":\"mapbox\",\"type\":\"scattermapbox\"},{\"hovertemplate\":\"\\u003cb\\u003e%{hovertext}\\u003c\\u002fb\\u003e\\u003cbr\\u003e\\u003cbr\\u003ePark Name=Disney Springs\\u003cbr\\u003eLocation Lat=%{lat}\\u003cbr\\u003eLocation Lng=%{lon}\\u003cextra\\u003e\\u003c\\u002fextra\\u003e\",\"hovertext\":[\"Springs Overlook\",\"Drawn to Life Presented by Cirque du Soleil® & Disney\",\"Disney Springs Kids Club\",\"Splitsville Luxury Lanes™\",\"Waterview Park\",\"AdventHealth Waterside Stage\",\"House of Blues\",\"AMC® Disney Springs 24 Dine-In Theatres\",\"Disney Springs Art Walk: A Canvas of Expression\",\"Coca-Cola Polar Bear Photo Op Experience\",\"Marketplace Train Express\",\"Vintage Amphicar Tours\",\"Aerophile – The World Leader in Balloon Flight\",\"Marketplace Carousel\"],\"lat\":[28.370383,28.370719,28.37161,28.370157,28.37161,28.37179,28.370796,28.37011,28.369968,28.369329,28.372459,28.37167,28.370954,28.372854],\"legendgroup\":\"Disney Springs\",\"lon\":[-81.517411,-81.522536,-81.518211,-81.521325,-81.518211,-81.51529,-81.521783,-81.520953,-81.517103,-81.519149,-81.51473,-81.517986,-81.519473,-81.514925],\"marker\":{\"color\":\"#FFA15A\"},\"mode\":\"markers\",\"name\":\"Disney Springs\",\"showlegend\":true,\"subplot\":\"mapbox\",\"type\":\"scattermapbox\"},{\"hovertemplate\":\"\\u003cb\\u003e%{hovertext}\\u003c\\u002fb\\u003e\\u003cbr\\u003e\\u003cbr\\u003ePark Name=Magic Kingdom Park\\u003cbr\\u003eLocation Lat=%{lat}\\u003cbr\\u003eLocation Lng=%{lon}\\u003cextra\\u003e\\u003c\\u002fextra\\u003e\",\"hovertext\":[\"Mickey's Magical Friendship Faire\",\"Meet Cinderella and a Visiting Princess at Princess Fairytale Hall\",\"Let the Magic Begin\",\"Meet Winnie the Pooh and Tigger at The Thotful Spot\",\"Character Greeting near Buzz Lightyear's Star Command\",\"Meet Princess Tiana and a Visiting Princess at Princess Fairytale Hall\",\"Meet Dashing Disney Pals as Circus Stars at Pete's Silly Sideshow\",\"Meet Characters from Aladdin in Adventureland\",\"Meet Mickey at Town Square Theater\",\"Disney Enchantment at Disney After Hours at Magic Kingdom\",\"Disney Festival of Fantasy Parade\",\"Meet Ariel at Her Grotto\",\"Disney Adventure Friends Cavalcade\",\"Meet Daring Disney Pals as Circus Stars at Pete's Silly Sideshow\",\"Meet Mirabel at Fairytale Garden – New!\",\"Casey's Corner Pianist\",\"Happily Ever After\",\"The Dapper Dans\",\"Mickey's PhilharMagic\",\"Disney Fab 50 Character Collection\",\"The Hall of Presidents\",\"Buzz Lightyear's Space Ranger Spin\",\"Liberty Square Riverboat\",\"Dumbo the Flying Elephant\",\"Haunted Mansion\",\"Walt Disney's Enchanted Tiki Room\",\"Big Thunder Mountain Railroad\",\"Cinderella Castle Mural of Memories\",\"Frontierland Shootin' Arcade\",\"Space Mountain\",\"Mad Tea Party\",\"Under the Sea - Journey of The Little Mermaid\",\"Pirates at Walt Disney World Resort\",\"Astro Orbiter\",\"Prince Charming Regal Carrousel\",\"The Magic Carpets of Aladdin\",\"Walt Disney World Railroad - Frontierland\",\"TRON Lightcycle \\u002f Run\",\"Walt Disney's Carousel of Progress\",\"Tom Sawyer Island\",\"Casey Jr. Splash 'N' Soak Station\",\"Horses - Disney Animals\",\"Pirates of the Caribbean\",\"Country Bear Jamboree\",\"Tomorrowland Speedway\",\"Jungle Cruise\",\"Walt Disney World Railroad - Fantasyland\",\"Walt Disney World Railroad - Main Street, U.S.A.\",\"The Barnstormer\",\"Peter Pan's Flight\",\"Seven Dwarfs Mine Train\",\"Enchanted Tales with Belle\",\"A Pirate's Adventure ~ Treasures of the Seven Seas\",\"Cinderella Castle\",\"Tomorrowland Transit Authority PeopleMover\",\"The Many Adventures of Winnie the Pooh\",\"Tiana's Bayou Adventure – Coming Summer 2024\",\"Main Street Vehicles\",\"Monsters Inc. Laugh Floor\",\"Swiss Family Treehouse\",\"\\\"it's a small world\\\"\"],\"lat\":[28.419169,28.420071,28.419169,28.4201575,28.4178699,28.4200458,28.421282,28.418658,28.416727,28.419507,28.4189548,28.4208933,28.419507,28.421282,28.4195985,28.418112,28.419169,28.4174102,28.4200304909,28.4194549043,28.4194484171,28.4182868839,28.4195563399,28.420509033,28.4202,28.4182264646,28.4199638504,28.418608,28.4187637244,28.4188341691,28.4200230397,28.4211203,null,28.4184926179,28.420169,28.41843,28.41969,28.419625,28.4180310951,28.419503,28.4209221723,28.417436,28.4179699,28.4187861348,28.419368,28.41797818,28.420934,28.416543,28.4207661576,28.4202640272,28.42037,28.4209906,28.4183725,28.4194549043,28.418155,28.420212,28.419418,28.4168698711,28.4183977566,28.4184325517,28.4204816402],\"legendgroup\":\"Magic Kingdom Park\",\"lon\":[-81.581204,-81.580893,-81.581204,-81.580128,-81.5792335,-81.580917,-81.578932,-81.583513,-81.580746,-81.581177,-81.581198,-81.579613,-81.581177,-81.578932,-81.580264,-81.581421,-81.581204,-81.581217,-81.5814839853,-81.5811809,-81.5823248578,-81.5794086456,-81.5827982677,-81.5789473057,-81.58288,-81.583738382,-81.5846422864,-81.581198,-81.5832274211,-81.5781962872,-81.5798248916,-81.579975,null,-81.5789887902,-81.581255,-81.583472,-81.585078,-81.577985,-81.5790083064,-81.58428,-81.5786757124,-81.581216,-81.584225,-81.5837222887,-81.579302,-81.5834393157,-81.578368,-81.581204,-81.5783907473,-81.5818916811,-81.58031,-81.58093,-81.584669,-81.5811809,-81.579033,-81.580266,-81.58498,-81.5815081252,-81.5797358751,-81.5827982677,-81.5820392026],\"marker\":{\"color\":\"#19d3f3\"},\"mode\":\"markers\",\"name\":\"Magic Kingdom Park\",\"showlegend\":true,\"subplot\":\"mapbox\",\"type\":\"scattermapbox\"},{\"hovertemplate\":\"\\u003cb\\u003e%{hovertext}\\u003c\\u002fb\\u003e\\u003cbr\\u003e\\u003cbr\\u003ePark Name=Disney's Hollywood Studios\\u003cbr\\u003eLocation Lat=%{lat}\\u003cbr\\u003eLocation Lng=%{lon}\\u003cextra\\u003e\\u003c\\u002fextra\\u003e\",\"hovertext\":[\"Meet Edna Mode at the Edna Mode Experience\",\"Indiana Jones™ Epic Stunt Spectacular!\",\"Disney Movie Magic\",\"For the First Time in Forever: A Frozen Sing-Along Celebration\",\"Disney Junior Play and Dance!\",\"Meet Ariel at Walt Disney Presents\",\"Star Wars Launch Bay: BB-8 Astromech on Duty\",\"Meet Olaf at Celebrity Spotlight\",\"Green Army Drum Corps\",\"Beauty and the Beast – Live on Stage\",\"Meet Disney Stars at Red Carpet Dreams\",\"Disney® Visa® Cardmember Star Wars Photo Opportunity at Disney's Hollywood Studios\",\"Meet Pixar Pals at Pixar Plaza\",\"Star Wars Launch Bay: Encounter Darth Vader\",\"Meet the Toys in Toy Story Land\",\"Meet Disney Junior Pals in Animation Courtyard\",\"Fantasmic!\",\"Wonderful World of Animation\",\"First Order Searches for the Resistance\",\"Star Wars Launch Bay: Meet Chewbacca\",\"Star Wars: Rise of the Resistance\",\"The Twilight Zone Tower of Terror™\",\"Millennium Falcon: Smugglers Run\",\"Rock 'n' Roller Coaster Starring Aerosmith\",\"Star Tours – The Adventures Continue\",\"Star Wars™ at Walt Disney World Resort\",\"Toy Story Mania!\",\"Mickey & Minnie's Runaway Railway\",\"Star Wars Launch Bay Theater - Temporarily Unavailable\",\"Alien Swirling Saucers\",\"Lightning McQueen's Racing Academy\",\"Slinky Dog Dash\",\"Vacation Fun - An Original Animated Short with Mickey & Minnie\",\"Muppet*Vision 3D\",\"Star Wars Launch Bay\",\"Walt Disney Presents\"],\"lat\":[28.356086,28.3566701,28.356965,28.3568243,28.357613,28.356945,28.3580201699138,28.356072,28.355815,28.3589163,28.356068,28.358061,28.3563769305406,28.3581387982894,28.356184,28.357822,28.3612252,28.356965,28.354335,28.3580437948549,28.354884,28.359553,28.353889,28.359712,28.355695,null,28.356404,28.3566783801,28.357821,28.355385,28.360035,28.356245,28.356316,28.3550644708,28.357849,28.35686],\"legendgroup\":\"Disney's Hollywood Studios\",\"lon\":[-81.560742,-81.558611,-81.560425,-81.559694,-81.560567,-81.560998,-81.5610394270006,-81.559158,-81.562344,-81.559599,-81.559479,-81.560933,-81.5609562845992,-81.5608885508893,-81.56207,-81.560658,-81.558233,-81.560425,-81.562562,-81.5609857809673,-81.560457,-81.559772,-81.561689,-81.56059,-81.558891,null,-81.561894,-81.5605667783,-81.561061,-81.562379,-81.560707,-81.562786,-81.559031,-81.5594643904,-81.560996,-81.560982],\"marker\":{\"color\":\"#FF6692\"},\"mode\":\"markers\",\"name\":\"Disney's Hollywood Studios\",\"showlegend\":true,\"subplot\":\"mapbox\",\"type\":\"scattermapbox\"},{\"hovertemplate\":\"\\u003cb\\u003e%{hovertext}\\u003c\\u002fb\\u003e\\u003cbr\\u003e\\u003cbr\\u003ePark Name=Disney's Port Orleans Resort - Riverside\\u003cbr\\u003eLocation Lat=%{lat}\\u003cbr\\u003eLocation Lng=%{lon}\\u003cextra\\u003e\\u003c\\u002fextra\\u003e\",\"hovertext\":[\"Yehaa Bob Jackson at River Roost Lounge\"],\"lat\":[28.3864921],\"legendgroup\":\"Disney's Port Orleans Resort - Riverside\",\"lon\":[-81.5369],\"marker\":{\"color\":\"#B6E880\"},\"mode\":\"markers\",\"name\":\"Disney's Port Orleans Resort - Riverside\",\"showlegend\":true,\"subplot\":\"mapbox\",\"type\":\"scattermapbox\"},{\"hovertemplate\":\"\\u003cb\\u003e%{hovertext}\\u003c\\u002fb\\u003e\\u003cbr\\u003e\\u003cbr\\u003ePark Name=Disney's Grand Floridian Resort & Spa\\u003cbr\\u003eLocation Lat=%{lat}\\u003cbr\\u003eLocation Lng=%{lon}\\u003cextra\\u003e\\u003c\\u002fextra\\u003e\",\"hovertext\":[\"Grand Floridian Lobby Pianist\"],\"lat\":[28.4109537],\"legendgroup\":\"Disney's Grand Floridian Resort & Spa\",\"lon\":[-81.587711],\"marker\":{\"color\":\"#FF97FF\"},\"mode\":\"markers\",\"name\":\"Disney's Grand Floridian Resort & Spa\",\"showlegend\":true,\"subplot\":\"mapbox\",\"type\":\"scattermapbox\"},{\"hovertemplate\":\"\\u003cb\\u003e%{hovertext}\\u003c\\u002fb\\u003e\\u003cbr\\u003e\\u003cbr\\u003ePark Name=The Campsites at Disney's Fort Wilderness Resort\\u003cbr\\u003eLocation Lat=%{lat}\\u003cbr\\u003eLocation Lng=%{lon}\\u003cextra\\u003e\\u003c\\u002fextra\\u003e\",\"hovertext\":[\"Electrical Water Pageant\"],\"lat\":[28.409698],\"legendgroup\":\"The Campsites at Disney's Fort Wilderness Resort\",\"lon\":[-81.571398],\"marker\":{\"color\":\"#FECB52\"},\"mode\":\"markers\",\"name\":\"The Campsites at Disney's Fort Wilderness Resort\",\"showlegend\":true,\"subplot\":\"mapbox\",\"type\":\"scattermapbox\"},{\"hovertemplate\":\"\\u003cb\\u003e%{hovertext}\\u003c\\u002fb\\u003e\\u003cbr\\u003e\\u003cbr\\u003ePark Name=Disney's Blizzard Beach Water Park\\u003cbr\\u003eLocation Lat=%{lat}\\u003cbr\\u003eLocation Lng=%{lon}\\u003cextra\\u003e\\u003c\\u002fextra\\u003e\",\"hovertext\":[\"Summit Plummet\",\"Runoff Rapids\",\"Downhill Double Dipper\",\"Ski Patrol Training Camp\",\"Snow Stormers\",\"Toboggan Racers\",\"Melt-Away Bay\",\"Tike's Peak\",\"Cross Country Creek\",\"Teamboat Springs\",\"Slush Gusher\",\"Chairlift\"],\"lat\":[28.3519232056,28.351462,28.351215713,28.352258,28.3514397089,28.351715,28.3513855054,28.3529402305,28.3513399635,28.351967,28.3518728427,28.3521916073],\"legendgroup\":\"Disney's Blizzard Beach Water Park\",\"lon\":[-81.5758319199,-81.576098,-81.5756836496,-81.575348,-81.5756890923,-81.575773,-81.5745799793,-81.5745699406,-81.5736767258,-81.575911,-81.5757836401,-81.5742527498],\"marker\":{\"color\":\"#636efa\"},\"mode\":\"markers\",\"name\":\"Disney's Blizzard Beach Water Park\",\"showlegend\":true,\"subplot\":\"mapbox\",\"type\":\"scattermapbox\"},{\"hovertemplate\":\"\\u003cb\\u003e%{hovertext}\\u003c\\u002fb\\u003e\\u003cbr\\u003e\\u003cbr\\u003ePark Name=Disney's Typhoon Lagoon Water Park\\u003cbr\\u003eLocation Lat=%{lat}\\u003cbr\\u003eLocation Lng=%{lon}\\u003cextra\\u003e\\u003c\\u002fextra\\u003e\",\"hovertext\":[\"Gangplank Falls\",\"Crush 'n' Gusher\",\"Storm Slides\",\"Ketchakiddee Creek\",\"Castaway Creek\",\"Typhoon Lagoon Surf Pool\",\"Keelhaul Falls\",\"Mayday Falls\",\"Miss Adventure Falls\",\"Humunga Kowabunga\",\"Bay Slides\"],\"lat\":[28.3657380338,28.3666932987,28.366791097,28.36507,28.3660367345,28.3659144638,28.3654943759,28.3656245494,28.366796,28.3665795566,28.365402],\"legendgroup\":\"Disney's Typhoon Lagoon Water Park\",\"lon\":[-81.5305508673,-81.5282974765,-81.5304308189,-81.530505,-81.5287544578,-81.5299641145,-81.5305106342,-81.530521363,-81.528804,-81.5303215741,-81.529838],\"marker\":{\"color\":\"#EF553B\"},\"mode\":\"markers\",\"name\":\"Disney's Typhoon Lagoon Water Park\",\"showlegend\":true,\"subplot\":\"mapbox\",\"type\":\"scattermapbox\"}],                        {\"template\":{\"data\":{\"histogram2dcontour\":[{\"type\":\"histogram2dcontour\",\"colorbar\":{\"outlinewidth\":0,\"ticks\":\"\"},\"colorscale\":[[0.0,\"#0d0887\"],[0.1111111111111111,\"#46039f\"],[0.2222222222222222,\"#7201a8\"],[0.3333333333333333,\"#9c179e\"],[0.4444444444444444,\"#bd3786\"],[0.5555555555555556,\"#d8576b\"],[0.6666666666666666,\"#ed7953\"],[0.7777777777777778,\"#fb9f3a\"],[0.8888888888888888,\"#fdca26\"],[1.0,\"#f0f921\"]]}],\"choropleth\":[{\"type\":\"choropleth\",\"colorbar\":{\"outlinewidth\":0,\"ticks\":\"\"}}],\"histogram2d\":[{\"type\":\"histogram2d\",\"colorbar\":{\"outlinewidth\":0,\"ticks\":\"\"},\"colorscale\":[[0.0,\"#0d0887\"],[0.1111111111111111,\"#46039f\"],[0.2222222222222222,\"#7201a8\"],[0.3333333333333333,\"#9c179e\"],[0.4444444444444444,\"#bd3786\"],[0.5555555555555556,\"#d8576b\"],[0.6666666666666666,\"#ed7953\"],[0.7777777777777778,\"#fb9f3a\"],[0.8888888888888888,\"#fdca26\"],[1.0,\"#f0f921\"]]}],\"heatmap\":[{\"type\":\"heatmap\",\"colorbar\":{\"outlinewidth\":0,\"ticks\":\"\"},\"colorscale\":[[0.0,\"#0d0887\"],[0.1111111111111111,\"#46039f\"],[0.2222222222222222,\"#7201a8\"],[0.3333333333333333,\"#9c179e\"],[0.4444444444444444,\"#bd3786\"],[0.5555555555555556,\"#d8576b\"],[0.6666666666666666,\"#ed7953\"],[0.7777777777777778,\"#fb9f3a\"],[0.8888888888888888,\"#fdca26\"],[1.0,\"#f0f921\"]]}],\"heatmapgl\":[{\"type\":\"heatmapgl\",\"colorbar\":{\"outlinewidth\":0,\"ticks\":\"\"},\"colorscale\":[[0.0,\"#0d0887\"],[0.1111111111111111,\"#46039f\"],[0.2222222222222222,\"#7201a8\"],[0.3333333333333333,\"#9c179e\"],[0.4444444444444444,\"#bd3786\"],[0.5555555555555556,\"#d8576b\"],[0.6666666666666666,\"#ed7953\"],[0.7777777777777778,\"#fb9f3a\"],[0.8888888888888888,\"#fdca26\"],[1.0,\"#f0f921\"]]}],\"contourcarpet\":[{\"type\":\"contourcarpet\",\"colorbar\":{\"outlinewidth\":0,\"ticks\":\"\"}}],\"contour\":[{\"type\":\"contour\",\"colorbar\":{\"outlinewidth\":0,\"ticks\":\"\"},\"colorscale\":[[0.0,\"#0d0887\"],[0.1111111111111111,\"#46039f\"],[0.2222222222222222,\"#7201a8\"],[0.3333333333333333,\"#9c179e\"],[0.4444444444444444,\"#bd3786\"],[0.5555555555555556,\"#d8576b\"],[0.6666666666666666,\"#ed7953\"],[0.7777777777777778,\"#fb9f3a\"],[0.8888888888888888,\"#fdca26\"],[1.0,\"#f0f921\"]]}],\"surface\":[{\"type\":\"surface\",\"colorbar\":{\"outlinewidth\":0,\"ticks\":\"\"},\"colorscale\":[[0.0,\"#0d0887\"],[0.1111111111111111,\"#46039f\"],[0.2222222222222222,\"#7201a8\"],[0.3333333333333333,\"#9c179e\"],[0.4444444444444444,\"#bd3786\"],[0.5555555555555556,\"#d8576b\"],[0.6666666666666666,\"#ed7953\"],[0.7777777777777778,\"#fb9f3a\"],[0.8888888888888888,\"#fdca26\"],[1.0,\"#f0f921\"]]}],\"mesh3d\":[{\"type\":\"mesh3d\",\"colorbar\":{\"outlinewidth\":0,\"ticks\":\"\"}}],\"scatter\":[{\"fillpattern\":{\"fillmode\":\"overlay\",\"size\":10,\"solidity\":0.2},\"type\":\"scatter\"}],\"parcoords\":[{\"type\":\"parcoords\",\"line\":{\"colorbar\":{\"outlinewidth\":0,\"ticks\":\"\"}}}],\"scatterpolargl\":[{\"type\":\"scatterpolargl\",\"marker\":{\"colorbar\":{\"outlinewidth\":0,\"ticks\":\"\"}}}],\"bar\":[{\"error_x\":{\"color\":\"#2a3f5f\"},\"error_y\":{\"color\":\"#2a3f5f\"},\"marker\":{\"line\":{\"color\":\"#E5ECF6\",\"width\":0.5},\"pattern\":{\"fillmode\":\"overlay\",\"size\":10,\"solidity\":0.2}},\"type\":\"bar\"}],\"scattergeo\":[{\"type\":\"scattergeo\",\"marker\":{\"colorbar\":{\"outlinewidth\":0,\"ticks\":\"\"}}}],\"scatterpolar\":[{\"type\":\"scatterpolar\",\"marker\":{\"colorbar\":{\"outlinewidth\":0,\"ticks\":\"\"}}}],\"histogram\":[{\"marker\":{\"pattern\":{\"fillmode\":\"overlay\",\"size\":10,\"solidity\":0.2}},\"type\":\"histogram\"}],\"scattergl\":[{\"type\":\"scattergl\",\"marker\":{\"colorbar\":{\"outlinewidth\":0,\"ticks\":\"\"}}}],\"scatter3d\":[{\"type\":\"scatter3d\",\"line\":{\"colorbar\":{\"outlinewidth\":0,\"ticks\":\"\"}},\"marker\":{\"colorbar\":{\"outlinewidth\":0,\"ticks\":\"\"}}}],\"scattermapbox\":[{\"type\":\"scattermapbox\",\"marker\":{\"colorbar\":{\"outlinewidth\":0,\"ticks\":\"\"}}}],\"scatterternary\":[{\"type\":\"scatterternary\",\"marker\":{\"colorbar\":{\"outlinewidth\":0,\"ticks\":\"\"}}}],\"scattercarpet\":[{\"type\":\"scattercarpet\",\"marker\":{\"colorbar\":{\"outlinewidth\":0,\"ticks\":\"\"}}}],\"carpet\":[{\"aaxis\":{\"endlinecolor\":\"#2a3f5f\",\"gridcolor\":\"white\",\"linecolor\":\"white\",\"minorgridcolor\":\"white\",\"startlinecolor\":\"#2a3f5f\"},\"baxis\":{\"endlinecolor\":\"#2a3f5f\",\"gridcolor\":\"white\",\"linecolor\":\"white\",\"minorgridcolor\":\"white\",\"startlinecolor\":\"#2a3f5f\"},\"type\":\"carpet\"}],\"table\":[{\"cells\":{\"fill\":{\"color\":\"#EBF0F8\"},\"line\":{\"color\":\"white\"}},\"header\":{\"fill\":{\"color\":\"#C8D4E3\"},\"line\":{\"color\":\"white\"}},\"type\":\"table\"}],\"barpolar\":[{\"marker\":{\"line\":{\"color\":\"#E5ECF6\",\"width\":0.5},\"pattern\":{\"fillmode\":\"overlay\",\"size\":10,\"solidity\":0.2}},\"type\":\"barpolar\"}],\"pie\":[{\"automargin\":true,\"type\":\"pie\"}]},\"layout\":{\"autotypenumbers\":\"strict\",\"colorway\":[\"#636efa\",\"#EF553B\",\"#00cc96\",\"#ab63fa\",\"#FFA15A\",\"#19d3f3\",\"#FF6692\",\"#B6E880\",\"#FF97FF\",\"#FECB52\"],\"font\":{\"color\":\"#2a3f5f\"},\"hovermode\":\"closest\",\"hoverlabel\":{\"align\":\"left\"},\"paper_bgcolor\":\"white\",\"plot_bgcolor\":\"#E5ECF6\",\"polar\":{\"bgcolor\":\"#E5ECF6\",\"angularaxis\":{\"gridcolor\":\"white\",\"linecolor\":\"white\",\"ticks\":\"\"},\"radialaxis\":{\"gridcolor\":\"white\",\"linecolor\":\"white\",\"ticks\":\"\"}},\"ternary\":{\"bgcolor\":\"#E5ECF6\",\"aaxis\":{\"gridcolor\":\"white\",\"linecolor\":\"white\",\"ticks\":\"\"},\"baxis\":{\"gridcolor\":\"white\",\"linecolor\":\"white\",\"ticks\":\"\"},\"caxis\":{\"gridcolor\":\"white\",\"linecolor\":\"white\",\"ticks\":\"\"}},\"coloraxis\":{\"colorbar\":{\"outlinewidth\":0,\"ticks\":\"\"}},\"colorscale\":{\"sequential\":[[0.0,\"#0d0887\"],[0.1111111111111111,\"#46039f\"],[0.2222222222222222,\"#7201a8\"],[0.3333333333333333,\"#9c179e\"],[0.4444444444444444,\"#bd3786\"],[0.5555555555555556,\"#d8576b\"],[0.6666666666666666,\"#ed7953\"],[0.7777777777777778,\"#fb9f3a\"],[0.8888888888888888,\"#fdca26\"],[1.0,\"#f0f921\"]],\"sequentialminus\":[[0.0,\"#0d0887\"],[0.1111111111111111,\"#46039f\"],[0.2222222222222222,\"#7201a8\"],[0.3333333333333333,\"#9c179e\"],[0.4444444444444444,\"#bd3786\"],[0.5555555555555556,\"#d8576b\"],[0.6666666666666666,\"#ed7953\"],[0.7777777777777778,\"#fb9f3a\"],[0.8888888888888888,\"#fdca26\"],[1.0,\"#f0f921\"]],\"diverging\":[[0,\"#8e0152\"],[0.1,\"#c51b7d\"],[0.2,\"#de77ae\"],[0.3,\"#f1b6da\"],[0.4,\"#fde0ef\"],[0.5,\"#f7f7f7\"],[0.6,\"#e6f5d0\"],[0.7,\"#b8e186\"],[0.8,\"#7fbc41\"],[0.9,\"#4d9221\"],[1,\"#276419\"]]},\"xaxis\":{\"gridcolor\":\"white\",\"linecolor\":\"white\",\"ticks\":\"\",\"title\":{\"standoff\":15},\"zerolinecolor\":\"white\",\"automargin\":true,\"zerolinewidth\":2},\"yaxis\":{\"gridcolor\":\"white\",\"linecolor\":\"white\",\"ticks\":\"\",\"title\":{\"standoff\":15},\"zerolinecolor\":\"white\",\"automargin\":true,\"zerolinewidth\":2},\"scene\":{\"xaxis\":{\"backgroundcolor\":\"#E5ECF6\",\"gridcolor\":\"white\",\"linecolor\":\"white\",\"showbackground\":true,\"ticks\":\"\",\"zerolinecolor\":\"white\",\"gridwidth\":2},\"yaxis\":{\"backgroundcolor\":\"#E5ECF6\",\"gridcolor\":\"white\",\"linecolor\":\"white\",\"showbackground\":true,\"ticks\":\"\",\"zerolinecolor\":\"white\",\"gridwidth\":2},\"zaxis\":{\"backgroundcolor\":\"#E5ECF6\",\"gridcolor\":\"white\",\"linecolor\":\"white\",\"showbackground\":true,\"ticks\":\"\",\"zerolinecolor\":\"white\",\"gridwidth\":2}},\"shapedefaults\":{\"line\":{\"color\":\"#2a3f5f\"}},\"annotationdefaults\":{\"arrowcolor\":\"#2a3f5f\",\"arrowhead\":0,\"arrowwidth\":1},\"geo\":{\"bgcolor\":\"white\",\"landcolor\":\"#E5ECF6\",\"subunitcolor\":\"white\",\"showland\":true,\"showlakes\":true,\"lakecolor\":\"white\"},\"title\":{\"x\":0.05},\"mapbox\":{\"style\":\"light\"}}},\"mapbox\":{\"domain\":{\"x\":[0.0,1.0],\"y\":[0.0,1.0]},\"center\":{\"lat\":28.376507426117477,\"lon\":-81.56596504899989},\"zoom\":12,\"style\":\"open-street-map\"},\"legend\":{\"title\":{\"text\":\"Park Name\"},\"tracegroupgap\":0},\"margin\":{\"t\":60},\"height\":800},                        {\"responsive\": true}                    ).then(function(){\n",
       "                            \n",
       "var gd = document.getElementById('fa4b9d4c-19da-4b7a-afe4-c27379d9263e');\n",
       "var x = new MutationObserver(function (mutations, observer) {{\n",
       "        var display = window.getComputedStyle(gd).display;\n",
       "        if (!display || display === 'none') {{\n",
       "            console.log([gd, 'removed!']);\n",
       "            Plotly.purge(gd);\n",
       "            observer.disconnect();\n",
       "        }}\n",
       "}});\n",
       "\n",
       "// Listen for the removal of the full notebook cells\n",
       "var notebookContainer = gd.closest('#notebook-container');\n",
       "if (notebookContainer) {{\n",
       "    x.observe(notebookContainer, {childList: true});\n",
       "}}\n",
       "\n",
       "// Listen for the clearing of the current output cell\n",
       "var outputEl = gd.closest('.output');\n",
       "if (outputEl) {{\n",
       "    x.observe(outputEl, {childList: true});\n",
       "}}\n",
       "\n",
       "                        })                };                });            </script>        </div>"
      ]
     },
     "metadata": {},
     "output_type": "display_data"
    }
   ],
   "source": [
    "import warnings\n",
    "from plotly import express\n",
    "\n",
    "warnings.filterwarnings(action='ignore', category=FutureWarning)\n",
    "\n",
    "for color in ['Park Name', 'Activity Type']:\n",
    "    express.scatter_mapbox(mapbox_style='open-street-map', zoom=12, data_frame=df, lat='Location Lat', lon='Location Lng', color='Park Name',\n",
    "                           hover_name='Activity Name',  height=800).show()"
   ]
  }
 ],
 "metadata": {
  "kaggle": {
   "accelerator": "none",
   "dataSources": [
    {
     "datasetId": 4734866,
     "sourceId": 8032726,
     "sourceType": "datasetVersion"
    }
   ],
   "dockerImageVersionId": 30684,
   "isGpuEnabled": false,
   "isInternetEnabled": true,
   "language": "python",
   "sourceType": "notebook"
  },
  "kernelspec": {
   "display_name": "Python 3",
   "language": "python",
   "name": "python3"
  },
  "language_info": {
   "codemirror_mode": {
    "name": "ipython",
    "version": 3
   },
   "file_extension": ".py",
   "mimetype": "text/x-python",
   "name": "python",
   "nbconvert_exporter": "python",
   "pygments_lexer": "ipython3",
   "version": "3.10.13"
  },
  "papermill": {
   "default_parameters": {},
   "duration": 7.656224,
   "end_time": "2024-04-11T18:20:46.951617",
   "environment_variables": {},
   "exception": null,
   "input_path": "__notebook__.ipynb",
   "output_path": "__notebook__.ipynb",
   "parameters": {},
   "start_time": "2024-04-11T18:20:39.295393",
   "version": "2.5.0"
  }
 },
 "nbformat": 4,
 "nbformat_minor": 5
}
