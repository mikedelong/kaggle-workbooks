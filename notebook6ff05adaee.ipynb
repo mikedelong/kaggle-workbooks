{
 "cells": [
  {
   "cell_type": "code",
   "execution_count": 1,
   "id": "4a4b1bba",
   "metadata": {
    "execution": {
     "iopub.execute_input": "2023-11-16T14:36:05.930956Z",
     "iopub.status.busy": "2023-11-16T14:36:05.930454Z",
     "iopub.status.idle": "2023-11-16T14:36:05.986488Z",
     "shell.execute_reply": "2023-11-16T14:36:05.985416Z"
    },
    "papermill": {
     "duration": 0.063865,
     "end_time": "2023-11-16T14:36:05.988932",
     "exception": false,
     "start_time": "2023-11-16T14:36:05.925067",
     "status": "completed"
    },
    "tags": []
   },
   "outputs": [
    {
     "name": "stdout",
     "output_type": "stream",
     "text": [
      "22423\n"
     ]
    }
   ],
   "source": [
    "with open(file='/kaggle/input/melville-moby-dick/melville-moby_dick.txt', mode='r', encoding='utf-8') as input_fp:\n",
    "    lines = input_fp.readlines()\n",
    "print(len(lines))"
   ]
  },
  {
   "cell_type": "code",
   "execution_count": 2,
   "id": "33c4b470",
   "metadata": {
    "execution": {
     "iopub.execute_input": "2023-11-16T14:36:05.998356Z",
     "iopub.status.busy": "2023-11-16T14:36:05.997604Z",
     "iopub.status.idle": "2023-11-16T14:36:06.016443Z",
     "shell.execute_reply": "2023-11-16T14:36:06.013898Z"
    },
    "papermill": {
     "duration": 0.027943,
     "end_time": "2023-11-16T14:36:06.019498",
     "exception": false,
     "start_time": "2023-11-16T14:36:05.991555",
     "status": "completed"
    },
    "tags": []
   },
   "outputs": [
    {
     "name": "stdout",
     "output_type": "stream",
     "text": [
      "12534\n",
      "8143\n",
      "32809\n",
      "9347\n",
      "4302\n",
      "4942\n",
      "5563\n",
      "5534\n",
      "20197\n",
      "8923\n",
      "4043\n",
      "5007\n",
      "9936\n",
      "4445\n",
      "6757\n",
      "31297\n",
      "12978\n",
      "7901\n",
      "6773\n",
      "5281\n",
      "6354\n",
      "9419\n",
      "2238\n",
      "9947\n",
      "1671\n",
      "7187\n",
      "9733\n",
      "8264\n",
      "6737\n",
      "1654\n",
      "4602\n",
      "30622\n",
      "5942\n",
      "12974\n",
      "15051\n",
      "16326\n",
      "2873\n",
      "2167\n",
      "1510\n",
      "9237\n",
      "22428\n",
      "21607\n",
      "1799\n",
      "12225\n",
      "20568\n",
      "6122\n",
      "5501\n",
      "23053\n",
      "4797\n",
      "5869\n",
      "8884\n",
      "4156\n",
      "9582\n",
      "46028\n",
      "11183\n",
      "7747\n",
      "5699\n",
      "5896\n",
      "5478\n",
      "8394\n",
      "11401\n",
      "3224\n",
      "2904\n",
      "16972\n",
      "5618\n",
      "3709\n",
      "4293\n",
      "6942\n",
      "2586\n",
      "5175\n",
      "13508\n",
      "9558\n",
      "11936\n",
      "9314\n",
      "6989\n",
      "5178\n",
      "3903\n",
      "9514\n",
      "5515\n",
      "5289\n",
      "25036\n",
      "6653\n",
      "4648\n",
      "4805\n",
      "11742\n",
      "10678\n",
      "28307\n",
      "7278\n",
      "8382\n",
      "6066\n",
      "14455\n",
      "5651\n",
      "9475\n",
      "7489\n",
      "2892\n",
      "10513\n",
      "1396\n",
      "5956\n",
      "13736\n",
      "15316\n",
      "10167\n",
      "9310\n",
      "5333\n",
      "8573\n",
      "9275\n",
      "5573\n",
      "6370\n",
      "8854\n",
      "5268\n",
      "12855\n",
      "2567\n",
      "5683\n",
      "7066\n",
      "3869\n",
      "5290\n",
      "3079\n",
      "2626\n",
      "5174\n",
      "14387\n",
      "1088\n",
      "3546\n",
      "321\n",
      "7011\n",
      "7149\n",
      "6387\n",
      "7735\n",
      "4097\n",
      "8073\n",
      "3152\n",
      "9839\n",
      "2559\n",
      "9047\n",
      "20904\n",
      "19119\n",
      "27324\n"
     ]
    }
   ],
   "source": [
    "starts = [index for index, line in enumerate(lines) if line.startswith('CHAPTER')]\n",
    "documents = []\n",
    "for index, start in enumerate(starts):\n",
    "    if index != len(starts)-1:\n",
    "        end = starts[index+1]\n",
    "    else:\n",
    "        end = -1\n",
    "    document = ' '.join(lines[start:end])\n",
    "    documents.append(document)\n",
    "for document in documents:\n",
    "    print(len(document))"
   ]
  }
 ],
 "metadata": {
  "kaggle": {
   "accelerator": "none",
   "dataSources": [
    {
     "datasetId": 1173503,
     "sourceId": 1965349,
     "sourceType": "datasetVersion"
    }
   ],
   "dockerImageVersionId": 30587,
   "isGpuEnabled": false,
   "isInternetEnabled": true,
   "language": "python",
   "sourceType": "notebook"
  },
  "kernelspec": {
   "display_name": "Python 3",
   "language": "python",
   "name": "python3"
  },
  "language_info": {
   "codemirror_mode": {
    "name": "ipython",
    "version": 3
   },
   "file_extension": ".py",
   "mimetype": "text/x-python",
   "name": "python",
   "nbconvert_exporter": "python",
   "pygments_lexer": "ipython3",
   "version": "3.10.12"
  },
  "papermill": {
   "default_parameters": {},
   "duration": 4.222123,
   "end_time": "2023-11-16T14:36:06.443838",
   "environment_variables": {},
   "exception": null,
   "input_path": "__notebook__.ipynb",
   "output_path": "__notebook__.ipynb",
   "parameters": {},
   "start_time": "2023-11-16T14:36:02.221715",
   "version": "2.4.0"
  }
 },
 "nbformat": 4,
 "nbformat_minor": 5
}
