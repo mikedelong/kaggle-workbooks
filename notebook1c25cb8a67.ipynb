{
 "cells": [
  {
   "cell_type": "code",
   "execution_count": 1,
   "id": "432d90be",
   "metadata": {
    "_cell_guid": "b1076dfc-b9ad-4769-8c92-a6c4dae69d19",
    "_uuid": "8f2839f25d086af736a60e9eeb907d3b93b6e0e5",
    "execution": {
     "iopub.execute_input": "2025-01-04T00:43:08.704751Z",
     "iopub.status.busy": "2025-01-04T00:43:08.704331Z",
     "iopub.status.idle": "2025-01-04T00:43:09.796685Z",
     "shell.execute_reply": "2025-01-04T00:43:09.795478Z"
    },
    "papermill": {
     "duration": 1.101875,
     "end_time": "2025-01-04T00:43:09.798993",
     "exception": false,
     "start_time": "2025-01-04T00:43:08.697118",
     "status": "completed"
    },
    "tags": []
   },
   "outputs": [
    {
     "data": {
      "text/html": [
       "<div>\n",
       "<style scoped>\n",
       "    .dataframe tbody tr th:only-of-type {\n",
       "        vertical-align: middle;\n",
       "    }\n",
       "\n",
       "    .dataframe tbody tr th {\n",
       "        vertical-align: top;\n",
       "    }\n",
       "\n",
       "    .dataframe thead th {\n",
       "        text-align: right;\n",
       "    }\n",
       "</style>\n",
       "<table border=\"1\" class=\"dataframe\">\n",
       "  <thead>\n",
       "    <tr style=\"text-align: right;\">\n",
       "      <th></th>\n",
       "      <th>season</th>\n",
       "      <th>week</th>\n",
       "      <th>date</th>\n",
       "      <th>time_et</th>\n",
       "      <th>game_type</th>\n",
       "      <th>away</th>\n",
       "      <th>home</th>\n",
       "      <th>rank_away</th>\n",
       "      <th>rank_home</th>\n",
       "      <th>conf_away</th>\n",
       "      <th>...</th>\n",
       "      <th>int_away</th>\n",
       "      <th>int_home</th>\n",
       "      <th>pen_num_away</th>\n",
       "      <th>pen_yards_away</th>\n",
       "      <th>pen_num_home</th>\n",
       "      <th>pen_yards_home</th>\n",
       "      <th>possession_away</th>\n",
       "      <th>possession_home</th>\n",
       "      <th>attendance</th>\n",
       "      <th>tv</th>\n",
       "    </tr>\n",
       "  </thead>\n",
       "  <tbody>\n",
       "    <tr>\n",
       "      <th>0</th>\n",
       "      <td>2002</td>\n",
       "      <td>1.0</td>\n",
       "      <td>2002-08-22</td>\n",
       "      <td>7:30 PM</td>\n",
       "      <td>regular</td>\n",
       "      <td>Colorado State</td>\n",
       "      <td>Virginia</td>\n",
       "      <td>NaN</td>\n",
       "      <td>NaN</td>\n",
       "      <td>mwc</td>\n",
       "      <td>...</td>\n",
       "      <td>NaN</td>\n",
       "      <td>NaN</td>\n",
       "      <td>NaN</td>\n",
       "      <td>NaN</td>\n",
       "      <td>NaN</td>\n",
       "      <td>NaN</td>\n",
       "      <td>NaN</td>\n",
       "      <td>NaN</td>\n",
       "      <td>57120.0</td>\n",
       "      <td>NaN</td>\n",
       "    </tr>\n",
       "    <tr>\n",
       "      <th>1</th>\n",
       "      <td>2002</td>\n",
       "      <td>1.0</td>\n",
       "      <td>2002-08-23</td>\n",
       "      <td>8:00 PM</td>\n",
       "      <td>regular</td>\n",
       "      <td>Fresno State</td>\n",
       "      <td>Wisconsin</td>\n",
       "      <td>NaN</td>\n",
       "      <td>25.0</td>\n",
       "      <td>wac</td>\n",
       "      <td>...</td>\n",
       "      <td>NaN</td>\n",
       "      <td>NaN</td>\n",
       "      <td>NaN</td>\n",
       "      <td>NaN</td>\n",
       "      <td>NaN</td>\n",
       "      <td>NaN</td>\n",
       "      <td>NaN</td>\n",
       "      <td>NaN</td>\n",
       "      <td>75136.0</td>\n",
       "      <td>NaN</td>\n",
       "    </tr>\n",
       "    <tr>\n",
       "      <th>2</th>\n",
       "      <td>2002</td>\n",
       "      <td>1.0</td>\n",
       "      <td>2002-08-24</td>\n",
       "      <td>2:30 PM</td>\n",
       "      <td>regular</td>\n",
       "      <td>Texas Tech</td>\n",
       "      <td>Ohio State</td>\n",
       "      <td>NaN</td>\n",
       "      <td>13.0</td>\n",
       "      <td>big12</td>\n",
       "      <td>...</td>\n",
       "      <td>NaN</td>\n",
       "      <td>NaN</td>\n",
       "      <td>NaN</td>\n",
       "      <td>NaN</td>\n",
       "      <td>NaN</td>\n",
       "      <td>NaN</td>\n",
       "      <td>NaN</td>\n",
       "      <td>NaN</td>\n",
       "      <td>100037.0</td>\n",
       "      <td>NaN</td>\n",
       "    </tr>\n",
       "    <tr>\n",
       "      <th>3</th>\n",
       "      <td>2002</td>\n",
       "      <td>1.0</td>\n",
       "      <td>2002-08-24</td>\n",
       "      <td>4:30 PM</td>\n",
       "      <td>regular</td>\n",
       "      <td>New Mexico</td>\n",
       "      <td>NC State</td>\n",
       "      <td>NaN</td>\n",
       "      <td>NaN</td>\n",
       "      <td>mwc</td>\n",
       "      <td>...</td>\n",
       "      <td>NaN</td>\n",
       "      <td>NaN</td>\n",
       "      <td>NaN</td>\n",
       "      <td>NaN</td>\n",
       "      <td>NaN</td>\n",
       "      <td>NaN</td>\n",
       "      <td>NaN</td>\n",
       "      <td>NaN</td>\n",
       "      <td>47018.0</td>\n",
       "      <td>NaN</td>\n",
       "    </tr>\n",
       "    <tr>\n",
       "      <th>4</th>\n",
       "      <td>2002</td>\n",
       "      <td>1.0</td>\n",
       "      <td>2002-08-24</td>\n",
       "      <td>7:45 PM</td>\n",
       "      <td>regular</td>\n",
       "      <td>Arizona State</td>\n",
       "      <td>Nebraska</td>\n",
       "      <td>NaN</td>\n",
       "      <td>10.0</td>\n",
       "      <td>pac12</td>\n",
       "      <td>...</td>\n",
       "      <td>NaN</td>\n",
       "      <td>NaN</td>\n",
       "      <td>NaN</td>\n",
       "      <td>NaN</td>\n",
       "      <td>NaN</td>\n",
       "      <td>NaN</td>\n",
       "      <td>NaN</td>\n",
       "      <td>NaN</td>\n",
       "      <td>77779.0</td>\n",
       "      <td>NaN</td>\n",
       "    </tr>\n",
       "  </tbody>\n",
       "</table>\n",
       "<p>5 rows × 58 columns</p>\n",
       "</div>"
      ],
      "text/plain": [
       "   season  week        date  time_et game_type            away        home  \\\n",
       "0    2002   1.0  2002-08-22  7:30 PM   regular  Colorado State    Virginia   \n",
       "1    2002   1.0  2002-08-23  8:00 PM   regular    Fresno State   Wisconsin   \n",
       "2    2002   1.0  2002-08-24  2:30 PM   regular      Texas Tech  Ohio State   \n",
       "3    2002   1.0  2002-08-24  4:30 PM   regular      New Mexico    NC State   \n",
       "4    2002   1.0  2002-08-24  7:45 PM   regular   Arizona State    Nebraska   \n",
       "\n",
       "   rank_away  rank_home conf_away  ... int_away  int_home  pen_num_away  \\\n",
       "0        NaN        NaN       mwc  ...      NaN       NaN           NaN   \n",
       "1        NaN       25.0       wac  ...      NaN       NaN           NaN   \n",
       "2        NaN       13.0     big12  ...      NaN       NaN           NaN   \n",
       "3        NaN        NaN       mwc  ...      NaN       NaN           NaN   \n",
       "4        NaN       10.0     pac12  ...      NaN       NaN           NaN   \n",
       "\n",
       "   pen_yards_away  pen_num_home  pen_yards_home  possession_away  \\\n",
       "0             NaN           NaN             NaN              NaN   \n",
       "1             NaN           NaN             NaN              NaN   \n",
       "2             NaN           NaN             NaN              NaN   \n",
       "3             NaN           NaN             NaN              NaN   \n",
       "4             NaN           NaN             NaN              NaN   \n",
       "\n",
       "   possession_home  attendance   tv  \n",
       "0              NaN     57120.0  NaN  \n",
       "1              NaN     75136.0  NaN  \n",
       "2              NaN    100037.0  NaN  \n",
       "3              NaN     47018.0  NaN  \n",
       "4              NaN     77779.0  NaN  \n",
       "\n",
       "[5 rows x 58 columns]"
      ]
     },
     "execution_count": 1,
     "metadata": {},
     "output_type": "execute_result"
    }
   ],
   "source": [
    "import pandas as pd\n",
    "\n",
    "DATA = '/kaggle/input/college-football-team-stats-2002-to-january-2024/cfb_box-scores_2002-2023.csv'\n",
    "df = pd.read_csv(filepath_or_buffer=DATA)\n",
    "df.head()"
   ]
  },
  {
   "cell_type": "markdown",
   "id": "502ba7c7",
   "metadata": {
    "papermill": {
     "duration": 0.004865,
     "end_time": "2025-01-04T00:43:09.809216",
     "exception": false,
     "start_time": "2025-01-04T00:43:09.804351",
     "status": "completed"
    },
    "tags": []
   },
   "source": [
    "How big is our dataset?"
   ]
  },
  {
   "cell_type": "code",
   "execution_count": 2,
   "id": "53db6f47",
   "metadata": {
    "execution": {
     "iopub.execute_input": "2025-01-04T00:43:09.820947Z",
     "iopub.status.busy": "2025-01-04T00:43:09.820573Z",
     "iopub.status.idle": "2025-01-04T00:43:10.143207Z",
     "shell.execute_reply": "2025-01-04T00:43:10.142110Z"
    },
    "papermill": {
     "duration": 0.331422,
     "end_time": "2025-01-04T00:43:10.145586",
     "exception": false,
     "start_time": "2025-01-04T00:43:09.814164",
     "status": "completed"
    },
    "tags": []
   },
   "outputs": [
    {
     "data": {
      "text/plain": [
       "<Axes: xlabel='season'>"
      ]
     },
     "execution_count": 2,
     "metadata": {},
     "output_type": "execute_result"
    },
    {
     "data": {
      "image/png": "[encoded data removed]",
      "text/plain": [
       "<Figure size 640x480 with 1 Axes>"
      ]
     },
     "metadata": {},
     "output_type": "display_data"
    }
   ],
   "source": [
    "df['season'].value_counts().sort_index().plot(kind='bar')"
   ]
  },
  {
   "cell_type": "markdown",
   "id": "843af272",
   "metadata": {
    "papermill": {
     "duration": 0.005339,
     "end_time": "2025-01-04T00:43:10.158062",
     "exception": false,
     "start_time": "2025-01-04T00:43:10.152723",
     "status": "completed"
    },
    "tags": []
   },
   "source": [
    "We have roughly 800 games a year for 21 years; that's a lot of games."
   ]
  },
  {
   "cell_type": "markdown",
   "id": "f235a486",
   "metadata": {
    "papermill": {
     "duration": 0.005283,
     "end_time": "2025-01-04T00:43:10.168753",
     "exception": false,
     "start_time": "2025-01-04T00:43:10.163470",
     "status": "completed"
    },
    "tags": []
   },
   "source": [
    "Let's get just the win/loss figures first, and put them in a separate DataFrame."
   ]
  },
  {
   "cell_type": "code",
   "execution_count": 3,
   "id": "fb87d298",
   "metadata": {
    "execution": {
     "iopub.execute_input": "2025-01-04T00:43:10.181414Z",
     "iopub.status.busy": "2025-01-04T00:43:10.181005Z",
     "iopub.status.idle": "2025-01-04T00:43:10.710589Z",
     "shell.execute_reply": "2025-01-04T00:43:10.709626Z"
    },
    "papermill": {
     "duration": 0.538584,
     "end_time": "2025-01-04T00:43:10.712884",
     "exception": false,
     "start_time": "2025-01-04T00:43:10.174300",
     "status": "completed"
    },
    "tags": []
   },
   "outputs": [],
   "source": [
    "win_loss_df = df[['season', 'home', 'away', 'score_away', 'score_home']].copy()\n",
    "win_loss_df['winner'] = win_loss_df.apply(axis='columns', func=lambda x: 'home' if x['score_home'] > x['score_away'] else 'away')\n",
    "win_loss_df['W'] = win_loss_df.apply(axis='columns', func=lambda x: x['home'] if x['score_home'] > x['score_away'] else x['away'])\n",
    "win_loss_df['L'] = win_loss_df.apply(axis='columns', func=lambda x: x['home'] if x['score_home'] < x['score_away'] else x['away'])"
   ]
  },
  {
   "cell_type": "markdown",
   "id": "cd7afce6",
   "metadata": {
    "papermill": {
     "duration": 0.005311,
     "end_time": "2025-01-04T00:43:10.723847",
     "exception": false,
     "start_time": "2025-01-04T00:43:10.718536",
     "status": "completed"
    },
    "tags": []
   },
   "source": [
    "Which teams have the most losses over the period of interest?"
   ]
  },
  {
   "cell_type": "code",
   "execution_count": 4,
   "id": "4c7f6284",
   "metadata": {
    "execution": {
     "iopub.execute_input": "2025-01-04T00:43:10.736583Z",
     "iopub.status.busy": "2025-01-04T00:43:10.736195Z",
     "iopub.status.idle": "2025-01-04T00:43:10.751006Z",
     "shell.execute_reply": "2025-01-04T00:43:10.749844Z"
    },
    "papermill": {
     "duration": 0.023633,
     "end_time": "2025-01-04T00:43:10.753053",
     "exception": false,
     "start_time": "2025-01-04T00:43:10.729420",
     "status": "completed"
    },
    "tags": []
   },
   "outputs": [
    {
     "data": {
      "text/html": [
       "<div>\n",
       "<style scoped>\n",
       "    .dataframe tbody tr th:only-of-type {\n",
       "        vertical-align: middle;\n",
       "    }\n",
       "\n",
       "    .dataframe tbody tr th {\n",
       "        vertical-align: top;\n",
       "    }\n",
       "\n",
       "    .dataframe thead th {\n",
       "        text-align: right;\n",
       "    }\n",
       "</style>\n",
       "<table border=\"1\" class=\"dataframe\">\n",
       "  <thead>\n",
       "    <tr style=\"text-align: right;\">\n",
       "      <th>L</th>\n",
       "      <th>UNLV</th>\n",
       "      <th>New Mexico State</th>\n",
       "      <th>Kansas</th>\n",
       "      <th>Akron</th>\n",
       "      <th>Eastern Michigan</th>\n",
       "      <th>UTEP</th>\n",
       "      <th>Vanderbilt</th>\n",
       "      <th>UL-Monroe</th>\n",
       "      <th>New Mexico</th>\n",
       "      <th>Illinois</th>\n",
       "    </tr>\n",
       "  </thead>\n",
       "  <tbody>\n",
       "    <tr>\n",
       "      <th>count</th>\n",
       "      <td>182</td>\n",
       "      <td>182</td>\n",
       "      <td>177</td>\n",
       "      <td>176</td>\n",
       "      <td>176</td>\n",
       "      <td>174</td>\n",
       "      <td>174</td>\n",
       "      <td>170</td>\n",
       "      <td>170</td>\n",
       "      <td>168</td>\n",
       "    </tr>\n",
       "  </tbody>\n",
       "</table>\n",
       "</div>"
      ],
      "text/plain": [
       "L      UNLV  New Mexico State  Kansas  Akron  Eastern Michigan  UTEP  \\\n",
       "count   182               182     177    176               176   174   \n",
       "\n",
       "L      Vanderbilt  UL-Monroe  New Mexico  Illinois  \n",
       "count         174        170         170       168  "
      ]
     },
     "execution_count": 4,
     "metadata": {},
     "output_type": "execute_result"
    }
   ],
   "source": [
    "win_loss_df['L'].value_counts().head(n=10).to_frame().T"
   ]
  },
  {
   "cell_type": "markdown",
   "id": "1eb30db9",
   "metadata": {
    "papermill": {
     "duration": 0.005412,
     "end_time": "2025-01-04T00:43:10.764185",
     "exception": false,
     "start_time": "2025-01-04T00:43:10.758773",
     "status": "completed"
    },
    "tags": []
   },
   "source": [
    "Which teams have the most wins over the period of interest?"
   ]
  },
  {
   "cell_type": "code",
   "execution_count": 5,
   "id": "50c88985",
   "metadata": {
    "execution": {
     "iopub.execute_input": "2025-01-04T00:43:10.777514Z",
     "iopub.status.busy": "2025-01-04T00:43:10.776575Z",
     "iopub.status.idle": "2025-01-04T00:43:10.790496Z",
     "shell.execute_reply": "2025-01-04T00:43:10.789485Z"
    },
    "papermill": {
     "duration": 0.022546,
     "end_time": "2025-01-04T00:43:10.792354",
     "exception": false,
     "start_time": "2025-01-04T00:43:10.769808",
     "status": "completed"
    },
    "tags": []
   },
   "outputs": [
    {
     "data": {
      "text/html": [
       "<div>\n",
       "<style scoped>\n",
       "    .dataframe tbody tr th:only-of-type {\n",
       "        vertical-align: middle;\n",
       "    }\n",
       "\n",
       "    .dataframe tbody tr th {\n",
       "        vertical-align: top;\n",
       "    }\n",
       "\n",
       "    .dataframe thead th {\n",
       "        text-align: right;\n",
       "    }\n",
       "</style>\n",
       "<table border=\"1\" class=\"dataframe\">\n",
       "  <thead>\n",
       "    <tr style=\"text-align: right;\">\n",
       "      <th>W</th>\n",
       "      <th>Ohio State</th>\n",
       "      <th>Alabama</th>\n",
       "      <th>Georgia</th>\n",
       "      <th>Oklahoma</th>\n",
       "      <th>Boise State</th>\n",
       "      <th>Clemson</th>\n",
       "      <th>LSU</th>\n",
       "      <th>USC</th>\n",
       "      <th>Oregon</th>\n",
       "      <th>Wisconsin</th>\n",
       "    </tr>\n",
       "  </thead>\n",
       "  <tbody>\n",
       "    <tr>\n",
       "      <th>count</th>\n",
       "      <td>244</td>\n",
       "      <td>243</td>\n",
       "      <td>232</td>\n",
       "      <td>231</td>\n",
       "      <td>231</td>\n",
       "      <td>220</td>\n",
       "      <td>216</td>\n",
       "      <td>205</td>\n",
       "      <td>203</td>\n",
       "      <td>202</td>\n",
       "    </tr>\n",
       "  </tbody>\n",
       "</table>\n",
       "</div>"
      ],
      "text/plain": [
       "W      Ohio State  Alabama  Georgia  Oklahoma  Boise State  Clemson  LSU  USC  \\\n",
       "count         244      243      232       231          231      220  216  205   \n",
       "\n",
       "W      Oregon  Wisconsin  \n",
       "count     203        202  "
      ]
     },
     "execution_count": 5,
     "metadata": {},
     "output_type": "execute_result"
    }
   ],
   "source": [
    "win_loss_df['W'].value_counts().head(n=10).to_frame().T"
   ]
  },
  {
   "cell_type": "code",
   "execution_count": 6,
   "id": "86237d96",
   "metadata": {
    "execution": {
     "iopub.execute_input": "2025-01-04T00:43:10.805732Z",
     "iopub.status.busy": "2025-01-04T00:43:10.805354Z",
     "iopub.status.idle": "2025-01-04T00:43:10.818419Z",
     "shell.execute_reply": "2025-01-04T00:43:10.817519Z"
    },
    "papermill": {
     "duration": 0.022204,
     "end_time": "2025-01-04T00:43:10.820405",
     "exception": false,
     "start_time": "2025-01-04T00:43:10.798201",
     "status": "completed"
    },
    "tags": []
   },
   "outputs": [],
   "source": [
    "win_loss_df['L score'] = win_loss_df[['score_away', 'score_home']].min(axis='columns')\n",
    "win_loss_df['W score'] = win_loss_df[['score_away', 'score_home']].max(axis='columns')"
   ]
  },
  {
   "cell_type": "code",
   "execution_count": 7,
   "id": "395a935a",
   "metadata": {
    "execution": {
     "iopub.execute_input": "2025-01-04T00:43:10.833691Z",
     "iopub.status.busy": "2025-01-04T00:43:10.833246Z",
     "iopub.status.idle": "2025-01-04T00:43:10.846300Z",
     "shell.execute_reply": "2025-01-04T00:43:10.845337Z"
    },
    "papermill": {
     "duration": 0.021995,
     "end_time": "2025-01-04T00:43:10.848224",
     "exception": false,
     "start_time": "2025-01-04T00:43:10.826229",
     "status": "completed"
    },
    "tags": []
   },
   "outputs": [
    {
     "data": {
      "text/html": [
       "<div>\n",
       "<style scoped>\n",
       "    .dataframe tbody tr th:only-of-type {\n",
       "        vertical-align: middle;\n",
       "    }\n",
       "\n",
       "    .dataframe tbody tr th {\n",
       "        vertical-align: top;\n",
       "    }\n",
       "\n",
       "    .dataframe thead th {\n",
       "        text-align: right;\n",
       "    }\n",
       "</style>\n",
       "<table border=\"1\" class=\"dataframe\">\n",
       "  <thead>\n",
       "    <tr style=\"text-align: right;\">\n",
       "      <th></th>\n",
       "      <th>season</th>\n",
       "      <th>home</th>\n",
       "      <th>away</th>\n",
       "      <th>score_away</th>\n",
       "      <th>score_home</th>\n",
       "      <th>winner</th>\n",
       "      <th>W</th>\n",
       "      <th>L</th>\n",
       "      <th>L score</th>\n",
       "      <th>W score</th>\n",
       "    </tr>\n",
       "  </thead>\n",
       "  <tbody>\n",
       "    <tr>\n",
       "      <th>0</th>\n",
       "      <td>2002</td>\n",
       "      <td>Virginia</td>\n",
       "      <td>Colorado State</td>\n",
       "      <td>35</td>\n",
       "      <td>29</td>\n",
       "      <td>away</td>\n",
       "      <td>Colorado State</td>\n",
       "      <td>Virginia</td>\n",
       "      <td>29</td>\n",
       "      <td>35</td>\n",
       "    </tr>\n",
       "    <tr>\n",
       "      <th>1</th>\n",
       "      <td>2002</td>\n",
       "      <td>Wisconsin</td>\n",
       "      <td>Fresno State</td>\n",
       "      <td>21</td>\n",
       "      <td>23</td>\n",
       "      <td>home</td>\n",
       "      <td>Wisconsin</td>\n",
       "      <td>Fresno State</td>\n",
       "      <td>21</td>\n",
       "      <td>23</td>\n",
       "    </tr>\n",
       "    <tr>\n",
       "      <th>2</th>\n",
       "      <td>2002</td>\n",
       "      <td>Ohio State</td>\n",
       "      <td>Texas Tech</td>\n",
       "      <td>21</td>\n",
       "      <td>45</td>\n",
       "      <td>home</td>\n",
       "      <td>Ohio State</td>\n",
       "      <td>Texas Tech</td>\n",
       "      <td>21</td>\n",
       "      <td>45</td>\n",
       "    </tr>\n",
       "    <tr>\n",
       "      <th>3</th>\n",
       "      <td>2002</td>\n",
       "      <td>NC State</td>\n",
       "      <td>New Mexico</td>\n",
       "      <td>14</td>\n",
       "      <td>34</td>\n",
       "      <td>home</td>\n",
       "      <td>NC State</td>\n",
       "      <td>New Mexico</td>\n",
       "      <td>14</td>\n",
       "      <td>34</td>\n",
       "    </tr>\n",
       "    <tr>\n",
       "      <th>4</th>\n",
       "      <td>2002</td>\n",
       "      <td>Nebraska</td>\n",
       "      <td>Arizona State</td>\n",
       "      <td>10</td>\n",
       "      <td>48</td>\n",
       "      <td>home</td>\n",
       "      <td>Nebraska</td>\n",
       "      <td>Arizona State</td>\n",
       "      <td>10</td>\n",
       "      <td>48</td>\n",
       "    </tr>\n",
       "  </tbody>\n",
       "</table>\n",
       "</div>"
      ],
      "text/plain": [
       "   season        home            away  score_away  score_home winner  \\\n",
       "0    2002    Virginia  Colorado State          35          29   away   \n",
       "1    2002   Wisconsin    Fresno State          21          23   home   \n",
       "2    2002  Ohio State      Texas Tech          21          45   home   \n",
       "3    2002    NC State      New Mexico          14          34   home   \n",
       "4    2002    Nebraska   Arizona State          10          48   home   \n",
       "\n",
       "                W              L  L score  W score  \n",
       "0  Colorado State       Virginia       29       35  \n",
       "1       Wisconsin   Fresno State       21       23  \n",
       "2      Ohio State     Texas Tech       21       45  \n",
       "3        NC State     New Mexico       14       34  \n",
       "4        Nebraska  Arizona State       10       48  "
      ]
     },
     "execution_count": 7,
     "metadata": {},
     "output_type": "execute_result"
    }
   ],
   "source": [
    "win_loss_df.head(n=5)"
   ]
  },
  {
   "cell_type": "markdown",
   "id": "acb1be52",
   "metadata": {
    "papermill": {
     "duration": 0.005641,
     "end_time": "2025-01-04T00:43:10.859809",
     "exception": false,
     "start_time": "2025-01-04T00:43:10.854168",
     "status": "completed"
    },
    "tags": []
   },
   "source": [
    "Let's collect each year into its own DataFrame."
   ]
  },
  {
   "cell_type": "code",
   "execution_count": 8,
   "id": "0303a4a7",
   "metadata": {
    "execution": {
     "iopub.execute_input": "2025-01-04T00:43:10.873796Z",
     "iopub.status.busy": "2025-01-04T00:43:10.873408Z",
     "iopub.status.idle": "2025-01-04T00:43:10.893416Z",
     "shell.execute_reply": "2025-01-04T00:43:10.892262Z"
    },
    "papermill": {
     "duration": 0.030163,
     "end_time": "2025-01-04T00:43:10.895907",
     "exception": false,
     "start_time": "2025-01-04T00:43:10.865744",
     "status": "completed"
    },
    "tags": []
   },
   "outputs": [],
   "source": [
    "wl = {season: win_loss_df[win_loss_df['season'] == season] for season in win_loss_df['season'].unique().tolist()}"
   ]
  },
  {
   "cell_type": "code",
   "execution_count": 9,
   "id": "923b8162",
   "metadata": {
    "execution": {
     "iopub.execute_input": "2025-01-04T00:43:10.909566Z",
     "iopub.status.busy": "2025-01-04T00:43:10.909203Z",
     "iopub.status.idle": "2025-01-04T00:43:10.915069Z",
     "shell.execute_reply": "2025-01-04T00:43:10.913977Z"
    },
    "papermill": {
     "duration": 0.015197,
     "end_time": "2025-01-04T00:43:10.917232",
     "exception": false,
     "start_time": "2025-01-04T00:43:10.902035",
     "status": "completed"
    },
    "tags": []
   },
   "outputs": [
    {
     "name": "stdout",
     "output_type": "stream",
     "text": [
      "[2002, 2003, 2004, 2005, 2006, 2007, 2008, 2009, 2010, 2011, 2012, 2013, 2014, 2015, 2016, 2017, 2018, 2019, 2020, 2021, 2022, 2023]\n"
     ]
    }
   ],
   "source": [
    "print(list(wl.keys()))"
   ]
  },
  {
   "cell_type": "markdown",
   "id": "19c1e882",
   "metadata": {
    "papermill": {
     "duration": 0.006228,
     "end_time": "2025-01-04T00:43:10.929748",
     "exception": false,
     "start_time": "2025-01-04T00:43:10.923520",
     "status": "completed"
    },
    "tags": []
   },
   "source": [
    "How many distinct home teams do we have?"
   ]
  },
  {
   "cell_type": "code",
   "execution_count": 10,
   "id": "ff2ba0ba",
   "metadata": {
    "execution": {
     "iopub.execute_input": "2025-01-04T00:43:10.943338Z",
     "iopub.status.busy": "2025-01-04T00:43:10.942944Z",
     "iopub.status.idle": "2025-01-04T00:43:10.953054Z",
     "shell.execute_reply": "2025-01-04T00:43:10.951891Z"
    },
    "papermill": {
     "duration": 0.019458,
     "end_time": "2025-01-04T00:43:10.955192",
     "exception": false,
     "start_time": "2025-01-04T00:43:10.935734",
     "status": "completed"
    },
    "tags": []
   },
   "outputs": [
    {
     "data": {
      "text/plain": [
       "139"
      ]
     },
     "execution_count": 10,
     "metadata": {},
     "output_type": "execute_result"
    }
   ],
   "source": [
    "df['home'].nunique()"
   ]
  },
  {
   "cell_type": "code",
   "execution_count": 11,
   "id": "02cd988c",
   "metadata": {
    "execution": {
     "iopub.execute_input": "2025-01-04T00:43:10.968636Z",
     "iopub.status.busy": "2025-01-04T00:43:10.968281Z",
     "iopub.status.idle": "2025-01-04T00:43:10.983062Z",
     "shell.execute_reply": "2025-01-04T00:43:10.981994Z"
    },
    "papermill": {
     "duration": 0.023748,
     "end_time": "2025-01-04T00:43:10.985066",
     "exception": false,
     "start_time": "2025-01-04T00:43:10.961318",
     "status": "completed"
    },
    "tags": []
   },
   "outputs": [
    {
     "data": {
      "text/html": [
       "<div>\n",
       "<style scoped>\n",
       "    .dataframe tbody tr th:only-of-type {\n",
       "        vertical-align: middle;\n",
       "    }\n",
       "\n",
       "    .dataframe tbody tr th {\n",
       "        vertical-align: top;\n",
       "    }\n",
       "\n",
       "    .dataframe thead th {\n",
       "        text-align: right;\n",
       "    }\n",
       "</style>\n",
       "<table border=\"1\" class=\"dataframe\">\n",
       "  <thead>\n",
       "    <tr style=\"text-align: right;\">\n",
       "      <th></th>\n",
       "      <th>season</th>\n",
       "      <th>home</th>\n",
       "      <th>away</th>\n",
       "      <th>score_away</th>\n",
       "      <th>score_home</th>\n",
       "      <th>winner</th>\n",
       "      <th>W</th>\n",
       "      <th>L</th>\n",
       "      <th>L score</th>\n",
       "      <th>W score</th>\n",
       "    </tr>\n",
       "  </thead>\n",
       "  <tbody>\n",
       "    <tr>\n",
       "      <th>185</th>\n",
       "      <td>2002</td>\n",
       "      <td>Colorado State</td>\n",
       "      <td>Louisville</td>\n",
       "      <td>33</td>\n",
       "      <td>36</td>\n",
       "      <td>home</td>\n",
       "      <td>Colorado State</td>\n",
       "      <td>Louisville</td>\n",
       "      <td>33</td>\n",
       "      <td>36</td>\n",
       "    </tr>\n",
       "    <tr>\n",
       "      <th>369</th>\n",
       "      <td>2002</td>\n",
       "      <td>Colorado State</td>\n",
       "      <td>Wyoming</td>\n",
       "      <td>36</td>\n",
       "      <td>44</td>\n",
       "      <td>home</td>\n",
       "      <td>Colorado State</td>\n",
       "      <td>Wyoming</td>\n",
       "      <td>36</td>\n",
       "      <td>44</td>\n",
       "    </tr>\n",
       "    <tr>\n",
       "      <th>452</th>\n",
       "      <td>2002</td>\n",
       "      <td>Colorado State</td>\n",
       "      <td>BYU</td>\n",
       "      <td>10</td>\n",
       "      <td>37</td>\n",
       "      <td>home</td>\n",
       "      <td>Colorado State</td>\n",
       "      <td>BYU</td>\n",
       "      <td>10</td>\n",
       "      <td>37</td>\n",
       "    </tr>\n",
       "    <tr>\n",
       "      <th>702</th>\n",
       "      <td>2002</td>\n",
       "      <td>Colorado State</td>\n",
       "      <td>New Mexico</td>\n",
       "      <td>14</td>\n",
       "      <td>22</td>\n",
       "      <td>home</td>\n",
       "      <td>Colorado State</td>\n",
       "      <td>New Mexico</td>\n",
       "      <td>14</td>\n",
       "      <td>22</td>\n",
       "    </tr>\n",
       "    <tr>\n",
       "      <th>723</th>\n",
       "      <td>2002</td>\n",
       "      <td>Colorado State</td>\n",
       "      <td>UNLV</td>\n",
       "      <td>36</td>\n",
       "      <td>33</td>\n",
       "      <td>away</td>\n",
       "      <td>UNLV</td>\n",
       "      <td>Colorado State</td>\n",
       "      <td>33</td>\n",
       "      <td>36</td>\n",
       "    </tr>\n",
       "    <tr>\n",
       "      <th>760</th>\n",
       "      <td>2002</td>\n",
       "      <td>Colorado State</td>\n",
       "      <td>TCU</td>\n",
       "      <td>17</td>\n",
       "      <td>3</td>\n",
       "      <td>away</td>\n",
       "      <td>TCU</td>\n",
       "      <td>Colorado State</td>\n",
       "      <td>3</td>\n",
       "      <td>17</td>\n",
       "    </tr>\n",
       "  </tbody>\n",
       "</table>\n",
       "</div>"
      ],
      "text/plain": [
       "     season            home        away  score_away  score_home winner  \\\n",
       "185    2002  Colorado State  Louisville          33          36   home   \n",
       "369    2002  Colorado State     Wyoming          36          44   home   \n",
       "452    2002  Colorado State         BYU          10          37   home   \n",
       "702    2002  Colorado State  New Mexico          14          22   home   \n",
       "723    2002  Colorado State        UNLV          36          33   away   \n",
       "760    2002  Colorado State         TCU          17           3   away   \n",
       "\n",
       "                  W               L  L score  W score  \n",
       "185  Colorado State      Louisville       33       36  \n",
       "369  Colorado State         Wyoming       36       44  \n",
       "452  Colorado State             BYU       10       37  \n",
       "702  Colorado State      New Mexico       14       22  \n",
       "723            UNLV  Colorado State       33       36  \n",
       "760             TCU  Colorado State        3       17  "
      ]
     },
     "execution_count": 11,
     "metadata": {},
     "output_type": "execute_result"
    }
   ],
   "source": [
    "wl[2002][wl[2002]['home'] == 'Colorado State']"
   ]
  },
  {
   "cell_type": "code",
   "execution_count": 12,
   "id": "7e25024a",
   "metadata": {
    "execution": {
     "iopub.execute_input": "2025-01-04T00:43:10.999450Z",
     "iopub.status.busy": "2025-01-04T00:43:10.999082Z",
     "iopub.status.idle": "2025-01-04T00:43:11.013185Z",
     "shell.execute_reply": "2025-01-04T00:43:11.011856Z"
    },
    "papermill": {
     "duration": 0.023905,
     "end_time": "2025-01-04T00:43:11.015390",
     "exception": false,
     "start_time": "2025-01-04T00:43:10.991485",
     "status": "completed"
    },
    "tags": []
   },
   "outputs": [
    {
     "data": {
      "text/html": [
       "<div>\n",
       "<style scoped>\n",
       "    .dataframe tbody tr th:only-of-type {\n",
       "        vertical-align: middle;\n",
       "    }\n",
       "\n",
       "    .dataframe tbody tr th {\n",
       "        vertical-align: top;\n",
       "    }\n",
       "\n",
       "    .dataframe thead th {\n",
       "        text-align: right;\n",
       "    }\n",
       "</style>\n",
       "<table border=\"1\" class=\"dataframe\">\n",
       "  <thead>\n",
       "    <tr style=\"text-align: right;\">\n",
       "      <th></th>\n",
       "      <th>season</th>\n",
       "      <th>home</th>\n",
       "      <th>away</th>\n",
       "      <th>score_away</th>\n",
       "      <th>score_home</th>\n",
       "      <th>winner</th>\n",
       "      <th>W</th>\n",
       "      <th>L</th>\n",
       "      <th>L score</th>\n",
       "      <th>W score</th>\n",
       "    </tr>\n",
       "  </thead>\n",
       "  <tbody>\n",
       "    <tr>\n",
       "      <th>0</th>\n",
       "      <td>2002</td>\n",
       "      <td>Virginia</td>\n",
       "      <td>Colorado State</td>\n",
       "      <td>35</td>\n",
       "      <td>29</td>\n",
       "      <td>away</td>\n",
       "      <td>Colorado State</td>\n",
       "      <td>Virginia</td>\n",
       "      <td>29</td>\n",
       "      <td>35</td>\n",
       "    </tr>\n",
       "    <tr>\n",
       "      <th>27</th>\n",
       "      <td>2002</td>\n",
       "      <td>Colorado</td>\n",
       "      <td>Colorado State</td>\n",
       "      <td>19</td>\n",
       "      <td>14</td>\n",
       "      <td>away</td>\n",
       "      <td>Colorado State</td>\n",
       "      <td>Colorado</td>\n",
       "      <td>14</td>\n",
       "      <td>19</td>\n",
       "    </tr>\n",
       "    <tr>\n",
       "      <th>131</th>\n",
       "      <td>2002</td>\n",
       "      <td>UCLA</td>\n",
       "      <td>Colorado State</td>\n",
       "      <td>19</td>\n",
       "      <td>30</td>\n",
       "      <td>home</td>\n",
       "      <td>UCLA</td>\n",
       "      <td>Colorado State</td>\n",
       "      <td>19</td>\n",
       "      <td>30</td>\n",
       "    </tr>\n",
       "    <tr>\n",
       "      <th>269</th>\n",
       "      <td>2002</td>\n",
       "      <td>Nevada</td>\n",
       "      <td>Colorado State</td>\n",
       "      <td>32</td>\n",
       "      <td>28</td>\n",
       "      <td>away</td>\n",
       "      <td>Colorado State</td>\n",
       "      <td>Nevada</td>\n",
       "      <td>28</td>\n",
       "      <td>32</td>\n",
       "    </tr>\n",
       "    <tr>\n",
       "      <th>296</th>\n",
       "      <td>2002</td>\n",
       "      <td>Fresno State</td>\n",
       "      <td>Colorado State</td>\n",
       "      <td>30</td>\n",
       "      <td>32</td>\n",
       "      <td>home</td>\n",
       "      <td>Fresno State</td>\n",
       "      <td>Colorado State</td>\n",
       "      <td>30</td>\n",
       "      <td>32</td>\n",
       "    </tr>\n",
       "    <tr>\n",
       "      <th>423</th>\n",
       "      <td>2002</td>\n",
       "      <td>Utah</td>\n",
       "      <td>Colorado State</td>\n",
       "      <td>28</td>\n",
       "      <td>20</td>\n",
       "      <td>away</td>\n",
       "      <td>Colorado State</td>\n",
       "      <td>Utah</td>\n",
       "      <td>20</td>\n",
       "      <td>28</td>\n",
       "    </tr>\n",
       "    <tr>\n",
       "      <th>505</th>\n",
       "      <td>2002</td>\n",
       "      <td>Air Force</td>\n",
       "      <td>Colorado State</td>\n",
       "      <td>31</td>\n",
       "      <td>12</td>\n",
       "      <td>away</td>\n",
       "      <td>Colorado State</td>\n",
       "      <td>Air Force</td>\n",
       "      <td>12</td>\n",
       "      <td>31</td>\n",
       "    </tr>\n",
       "    <tr>\n",
       "      <th>657</th>\n",
       "      <td>2002</td>\n",
       "      <td>San Diego State</td>\n",
       "      <td>Colorado State</td>\n",
       "      <td>49</td>\n",
       "      <td>21</td>\n",
       "      <td>away</td>\n",
       "      <td>Colorado State</td>\n",
       "      <td>San Diego State</td>\n",
       "      <td>21</td>\n",
       "      <td>49</td>\n",
       "    </tr>\n",
       "  </tbody>\n",
       "</table>\n",
       "</div>"
      ],
      "text/plain": [
       "     season             home            away  score_away  score_home winner  \\\n",
       "0      2002         Virginia  Colorado State          35          29   away   \n",
       "27     2002         Colorado  Colorado State          19          14   away   \n",
       "131    2002             UCLA  Colorado State          19          30   home   \n",
       "269    2002           Nevada  Colorado State          32          28   away   \n",
       "296    2002     Fresno State  Colorado State          30          32   home   \n",
       "423    2002             Utah  Colorado State          28          20   away   \n",
       "505    2002        Air Force  Colorado State          31          12   away   \n",
       "657    2002  San Diego State  Colorado State          49          21   away   \n",
       "\n",
       "                  W                L  L score  W score  \n",
       "0    Colorado State         Virginia       29       35  \n",
       "27   Colorado State         Colorado       14       19  \n",
       "131            UCLA   Colorado State       19       30  \n",
       "269  Colorado State           Nevada       28       32  \n",
       "296    Fresno State   Colorado State       30       32  \n",
       "423  Colorado State             Utah       20       28  \n",
       "505  Colorado State        Air Force       12       31  \n",
       "657  Colorado State  San Diego State       21       49  "
      ]
     },
     "execution_count": 12,
     "metadata": {},
     "output_type": "execute_result"
    }
   ],
   "source": [
    "wl[2002][wl[2002]['away'] == 'Colorado State']"
   ]
  },
  {
   "cell_type": "code",
   "execution_count": 13,
   "id": "c0e093fd",
   "metadata": {
    "execution": {
     "iopub.execute_input": "2025-01-04T00:43:11.030372Z",
     "iopub.status.busy": "2025-01-04T00:43:11.029924Z",
     "iopub.status.idle": "2025-01-04T00:43:11.048863Z",
     "shell.execute_reply": "2025-01-04T00:43:11.047880Z"
    },
    "papermill": {
     "duration": 0.02855,
     "end_time": "2025-01-04T00:43:11.050803",
     "exception": false,
     "start_time": "2025-01-04T00:43:11.022253",
     "status": "completed"
    },
    "tags": []
   },
   "outputs": [
    {
     "data": {
      "text/html": [
       "<div>\n",
       "<style scoped>\n",
       "    .dataframe tbody tr th:only-of-type {\n",
       "        vertical-align: middle;\n",
       "    }\n",
       "\n",
       "    .dataframe tbody tr th {\n",
       "        vertical-align: top;\n",
       "    }\n",
       "\n",
       "    .dataframe thead th {\n",
       "        text-align: right;\n",
       "    }\n",
       "</style>\n",
       "<table border=\"1\" class=\"dataframe\">\n",
       "  <thead>\n",
       "    <tr style=\"text-align: right;\">\n",
       "      <th>season</th>\n",
       "      <th>2002</th>\n",
       "      <th>2003</th>\n",
       "      <th>2004</th>\n",
       "      <th>2005</th>\n",
       "      <th>2006</th>\n",
       "      <th>2007</th>\n",
       "      <th>2008</th>\n",
       "      <th>2009</th>\n",
       "      <th>2010</th>\n",
       "      <th>2011</th>\n",
       "      <th>...</th>\n",
       "      <th>2014</th>\n",
       "      <th>2015</th>\n",
       "      <th>2016</th>\n",
       "      <th>2017</th>\n",
       "      <th>2018</th>\n",
       "      <th>2019</th>\n",
       "      <th>2020</th>\n",
       "      <th>2021</th>\n",
       "      <th>2022</th>\n",
       "      <th>2023</th>\n",
       "    </tr>\n",
       "  </thead>\n",
       "  <tbody>\n",
       "    <tr>\n",
       "      <th>0</th>\n",
       "      <td>10</td>\n",
       "      <td>11</td>\n",
       "      <td>5</td>\n",
       "      <td>11</td>\n",
       "      <td>11</td>\n",
       "      <td>8</td>\n",
       "      <td>11</td>\n",
       "      <td>12</td>\n",
       "      <td>13</td>\n",
       "      <td>11</td>\n",
       "      <td>...</td>\n",
       "      <td>12</td>\n",
       "      <td>11</td>\n",
       "      <td>6</td>\n",
       "      <td>11</td>\n",
       "      <td>7</td>\n",
       "      <td>5</td>\n",
       "      <td>6</td>\n",
       "      <td>5</td>\n",
       "      <td>13</td>\n",
       "      <td>5</td>\n",
       "    </tr>\n",
       "  </tbody>\n",
       "</table>\n",
       "<p>1 rows × 22 columns</p>\n",
       "</div>"
      ],
      "text/plain": [
       "season  2002  2003  2004  2005  2006  2007  2008  2009  2010  2011  ...  2014  \\\n",
       "0         10    11     5    11    11     8    11    12    13    11  ...    12   \n",
       "\n",
       "season  2015  2016  2017  2018  2019  2020  2021  2022  2023  \n",
       "0         11     6    11     7     5     6     5    13     5  \n",
       "\n",
       "[1 rows x 22 columns]"
      ]
     },
     "execution_count": 13,
     "metadata": {},
     "output_type": "execute_result"
    }
   ],
   "source": [
    "win_loss_df[win_loss_df['W'] == 'TCU'].groupby(by='season').size().to_frame().T"
   ]
  },
  {
   "cell_type": "code",
   "execution_count": 14,
   "id": "8929c6f3",
   "metadata": {
    "execution": {
     "iopub.execute_input": "2025-01-04T00:43:11.065752Z",
     "iopub.status.busy": "2025-01-04T00:43:11.065349Z",
     "iopub.status.idle": "2025-01-04T00:43:17.507481Z",
     "shell.execute_reply": "2025-01-04T00:43:17.506266Z"
    },
    "papermill": {
     "duration": 6.452135,
     "end_time": "2025-01-04T00:43:17.509589",
     "exception": false,
     "start_time": "2025-01-04T00:43:11.057454",
     "status": "completed"
    },
    "tags": []
   },
   "outputs": [
    {
     "data": {
      "text/html": [
       "<div>\n",
       "<style scoped>\n",
       "    .dataframe tbody tr th:only-of-type {\n",
       "        vertical-align: middle;\n",
       "    }\n",
       "\n",
       "    .dataframe tbody tr th {\n",
       "        vertical-align: top;\n",
       "    }\n",
       "\n",
       "    .dataframe thead th {\n",
       "        text-align: right;\n",
       "    }\n",
       "</style>\n",
       "<table border=\"1\" class=\"dataframe\">\n",
       "  <thead>\n",
       "    <tr style=\"text-align: right;\">\n",
       "      <th></th>\n",
       "      <th>season</th>\n",
       "      <th>team</th>\n",
       "      <th>games</th>\n",
       "      <th>wins</th>\n",
       "      <th>losses</th>\n",
       "      <th>points scored</th>\n",
       "      <th>points allowed</th>\n",
       "    </tr>\n",
       "  </thead>\n",
       "  <tbody>\n",
       "    <tr>\n",
       "      <th>0</th>\n",
       "      <td>2002</td>\n",
       "      <td>Virginia</td>\n",
       "      <td>14</td>\n",
       "      <td>9</td>\n",
       "      <td>5</td>\n",
       "      <td>402</td>\n",
       "      <td>348</td>\n",
       "    </tr>\n",
       "    <tr>\n",
       "      <th>1</th>\n",
       "      <td>2003</td>\n",
       "      <td>Virginia</td>\n",
       "      <td>13</td>\n",
       "      <td>8</td>\n",
       "      <td>5</td>\n",
       "      <td>364</td>\n",
       "      <td>265</td>\n",
       "    </tr>\n",
       "    <tr>\n",
       "      <th>2</th>\n",
       "      <td>2004</td>\n",
       "      <td>Virginia</td>\n",
       "      <td>12</td>\n",
       "      <td>8</td>\n",
       "      <td>4</td>\n",
       "      <td>363</td>\n",
       "      <td>212</td>\n",
       "    </tr>\n",
       "    <tr>\n",
       "      <th>3</th>\n",
       "      <td>2005</td>\n",
       "      <td>Virginia</td>\n",
       "      <td>12</td>\n",
       "      <td>7</td>\n",
       "      <td>5</td>\n",
       "      <td>320</td>\n",
       "      <td>279</td>\n",
       "    </tr>\n",
       "    <tr>\n",
       "      <th>4</th>\n",
       "      <td>2006</td>\n",
       "      <td>Virginia</td>\n",
       "      <td>12</td>\n",
       "      <td>5</td>\n",
       "      <td>7</td>\n",
       "      <td>181</td>\n",
       "      <td>214</td>\n",
       "    </tr>\n",
       "  </tbody>\n",
       "</table>\n",
       "</div>"
      ],
      "text/plain": [
       "   season      team  games  wins  losses  points scored  points allowed\n",
       "0    2002  Virginia     14     9       5            402             348\n",
       "1    2003  Virginia     13     8       5            364             265\n",
       "2    2004  Virginia     12     8       4            363             212\n",
       "3    2005  Virginia     12     7       5            320             279\n",
       "4    2006  Virginia     12     5       7            181             214"
      ]
     },
     "execution_count": 14,
     "metadata": {},
     "output_type": "execute_result"
    }
   ],
   "source": [
    "result = []\n",
    "teams = df['home'].unique().tolist()\n",
    "for team in teams:\n",
    "    for season in range(2002, 2023):\n",
    "        wins = 0\n",
    "        games = 0\n",
    "        points_scored = 0\n",
    "        points_allowed = 0\n",
    "        home_df = wl[season][wl[season]['home'] == team]\n",
    "        wins += len(home_df[home_df['winner'] == 'home'])\n",
    "        games += len(home_df)\n",
    "        points_scored += home_df['score_home'].sum()\n",
    "        points_allowed += home_df['score_away'].sum()\n",
    "        away_df = wl[season][wl[season]['away'] == team]\n",
    "        wins += len(away_df[away_df['winner'] == 'away'])\n",
    "        games += len(away_df)\n",
    "        losses = games - wins\n",
    "        points_scored += away_df['score_away'].sum()\n",
    "        points_allowed += away_df['score_home'].sum()\n",
    "        result.append(pd.Series(data={'season': season, 'team': team, 'games': games, 'wins': wins, 'losses': losses, \n",
    "                                      'points scored': points_scored, 'points allowed': points_allowed} ))\n",
    "result_df = pd.DataFrame(data=result)\n",
    "result_df.head()"
   ]
  },
  {
   "cell_type": "markdown",
   "id": "6f88ff5e",
   "metadata": {
    "papermill": {
     "duration": 0.007079,
     "end_time": "2025-01-04T00:43:17.523894",
     "exception": false,
     "start_time": "2025-01-04T00:43:17.516815",
     "status": "completed"
    },
    "tags": []
   },
   "source": [
    "Now let's add our Pythagorean expectation and actual winning percentage."
   ]
  },
  {
   "cell_type": "code",
   "execution_count": 15,
   "id": "7f859d4e",
   "metadata": {
    "execution": {
     "iopub.execute_input": "2025-01-04T00:43:17.539436Z",
     "iopub.status.busy": "2025-01-04T00:43:17.539044Z",
     "iopub.status.idle": "2025-01-04T00:43:17.561821Z",
     "shell.execute_reply": "2025-01-04T00:43:17.560684Z"
    },
    "papermill": {
     "duration": 0.033011,
     "end_time": "2025-01-04T00:43:17.563947",
     "exception": false,
     "start_time": "2025-01-04T00:43:17.530936",
     "status": "completed"
    },
    "tags": []
   },
   "outputs": [
    {
     "data": {
      "text/html": [
       "<div>\n",
       "<style scoped>\n",
       "    .dataframe tbody tr th:only-of-type {\n",
       "        vertical-align: middle;\n",
       "    }\n",
       "\n",
       "    .dataframe tbody tr th {\n",
       "        vertical-align: top;\n",
       "    }\n",
       "\n",
       "    .dataframe thead th {\n",
       "        text-align: right;\n",
       "    }\n",
       "</style>\n",
       "<table border=\"1\" class=\"dataframe\">\n",
       "  <thead>\n",
       "    <tr style=\"text-align: right;\">\n",
       "      <th></th>\n",
       "      <th>season</th>\n",
       "      <th>team</th>\n",
       "      <th>games</th>\n",
       "      <th>wins</th>\n",
       "      <th>losses</th>\n",
       "      <th>points scored</th>\n",
       "      <th>points allowed</th>\n",
       "      <th>actual</th>\n",
       "      <th>numerator</th>\n",
       "      <th>denominator</th>\n",
       "      <th>expected</th>\n",
       "      <th>expected wins</th>\n",
       "    </tr>\n",
       "  </thead>\n",
       "  <tbody>\n",
       "    <tr>\n",
       "      <th>0</th>\n",
       "      <td>2002</td>\n",
       "      <td>Virginia</td>\n",
       "      <td>14</td>\n",
       "      <td>9</td>\n",
       "      <td>5</td>\n",
       "      <td>402</td>\n",
       "      <td>348</td>\n",
       "      <td>0.642857</td>\n",
       "      <td>1.485990e+06</td>\n",
       "      <td>1.055706e+06</td>\n",
       "      <td>0.584645</td>\n",
       "      <td>8.185031</td>\n",
       "    </tr>\n",
       "    <tr>\n",
       "      <th>1</th>\n",
       "      <td>2003</td>\n",
       "      <td>Virginia</td>\n",
       "      <td>13</td>\n",
       "      <td>8</td>\n",
       "      <td>5</td>\n",
       "      <td>364</td>\n",
       "      <td>265</td>\n",
       "      <td>0.615385</td>\n",
       "      <td>1.174384e+06</td>\n",
       "      <td>5.534683e+05</td>\n",
       "      <td>0.679679</td>\n",
       "      <td>8.835821</td>\n",
       "    </tr>\n",
       "    <tr>\n",
       "      <th>2</th>\n",
       "      <td>2004</td>\n",
       "      <td>Virginia</td>\n",
       "      <td>12</td>\n",
       "      <td>8</td>\n",
       "      <td>4</td>\n",
       "      <td>363</td>\n",
       "      <td>212</td>\n",
       "      <td>0.666667</td>\n",
       "      <td>1.166752e+06</td>\n",
       "      <td>3.261490e+05</td>\n",
       "      <td>0.781533</td>\n",
       "      <td>9.378402</td>\n",
       "    </tr>\n",
       "    <tr>\n",
       "      <th>3</th>\n",
       "      <td>2005</td>\n",
       "      <td>Virginia</td>\n",
       "      <td>12</td>\n",
       "      <td>7</td>\n",
       "      <td>5</td>\n",
       "      <td>320</td>\n",
       "      <td>279</td>\n",
       "      <td>0.583333</td>\n",
       "      <td>8.653772e+05</td>\n",
       "      <td>6.252907e+05</td>\n",
       "      <td>0.580530</td>\n",
       "      <td>6.966358</td>\n",
       "    </tr>\n",
       "    <tr>\n",
       "      <th>4</th>\n",
       "      <td>2006</td>\n",
       "      <td>Virginia</td>\n",
       "      <td>12</td>\n",
       "      <td>5</td>\n",
       "      <td>7</td>\n",
       "      <td>181</td>\n",
       "      <td>214</td>\n",
       "      <td>0.416667</td>\n",
       "      <td>2.242323e+05</td>\n",
       "      <td>3.334883e+05</td>\n",
       "      <td>0.402051</td>\n",
       "      <td>4.824616</td>\n",
       "    </tr>\n",
       "  </tbody>\n",
       "</table>\n",
       "</div>"
      ],
      "text/plain": [
       "   season      team  games  wins  losses  points scored  points allowed  \\\n",
       "0    2002  Virginia     14     9       5            402             348   \n",
       "1    2003  Virginia     13     8       5            364             265   \n",
       "2    2004  Virginia     12     8       4            363             212   \n",
       "3    2005  Virginia     12     7       5            320             279   \n",
       "4    2006  Virginia     12     5       7            181             214   \n",
       "\n",
       "     actual     numerator   denominator  expected  expected wins  \n",
       "0  0.642857  1.485990e+06  1.055706e+06  0.584645       8.185031  \n",
       "1  0.615385  1.174384e+06  5.534683e+05  0.679679       8.835821  \n",
       "2  0.666667  1.166752e+06  3.261490e+05  0.781533       9.378402  \n",
       "3  0.583333  8.653772e+05  6.252907e+05  0.580530       6.966358  \n",
       "4  0.416667  2.242323e+05  3.334883e+05  0.402051       4.824616  "
      ]
     },
     "execution_count": 15,
     "metadata": {},
     "output_type": "execute_result"
    }
   ],
   "source": [
    "from math import pow\n",
    "\n",
    "result_df['actual'] = result_df['wins']/result_df['games']\n",
    "result_df['numerator'] = result_df['points scored'].apply(func=lambda x: pow(x, 2.37))\n",
    "result_df['denominator'] = result_df['points allowed'].apply(func=lambda x: pow(x, 2.37))\n",
    "result_df['expected'] = result_df['numerator']/(result_df['numerator'] + result_df['denominator'])\n",
    "result_df['expected wins'] = result_df['expected'] * result_df['games']\n",
    "result_df.head()"
   ]
  },
  {
   "cell_type": "code",
   "execution_count": 16,
   "id": "69f4ea83",
   "metadata": {
    "execution": {
     "iopub.execute_input": "2025-01-04T00:43:17.580695Z",
     "iopub.status.busy": "2025-01-04T00:43:17.579984Z",
     "iopub.status.idle": "2025-01-04T00:43:19.960974Z",
     "shell.execute_reply": "2025-01-04T00:43:19.959682Z"
    },
    "papermill": {
     "duration": 2.392657,
     "end_time": "2025-01-04T00:43:19.964221",
     "exception": false,
     "start_time": "2025-01-04T00:43:17.571564",
     "status": "completed"
    },
    "tags": []
   },
   "outputs": [
    {
     "data": {
      "text/plain": [
       "<Axes: xlabel='expected wins', ylabel='wins'>"
      ]
     },
     "execution_count": 16,
     "metadata": {},
     "output_type": "execute_result"
    },
    {
     "data": {
      "image/png": "[encoded data removed]",
      "text/plain": [
       "<Figure size 1200x700 with 1 Axes>"
      ]
     },
     "metadata": {},
     "output_type": "display_data"
    }
   ],
   "source": [
    "import matplotlib.pyplot as plt\n",
    "from seaborn import scatterplot\n",
    "\n",
    "FIGSIZE = (12, 7)\n",
    "plt.figure(figsize=FIGSIZE)\n",
    "scatterplot(data=result_df[result_df['games'] > 6], x='expected wins', y='wins', hue='season', palette='viridis')"
   ]
  },
  {
   "cell_type": "code",
   "execution_count": 17,
   "id": "4104ccd1",
   "metadata": {
    "execution": {
     "iopub.execute_input": "2025-01-04T00:43:19.984422Z",
     "iopub.status.busy": "2025-01-04T00:43:19.983904Z",
     "iopub.status.idle": "2025-01-04T00:43:22.539670Z",
     "shell.execute_reply": "2025-01-04T00:43:22.538557Z"
    },
    "papermill": {
     "duration": 2.569538,
     "end_time": "2025-01-04T00:43:22.543242",
     "exception": false,
     "start_time": "2025-01-04T00:43:19.973704",
     "status": "completed"
    },
    "tags": []
   },
   "outputs": [
    {
     "data": {
      "text/html": [
       "        <script type=\"text/javascript\">\n",
       "        window.PlotlyConfig = {MathJaxConfig: 'local'};\n",
       "        if (window.MathJax && window.MathJax.Hub && window.MathJax.Hub.Config) {window.MathJax.Hub.Config({SVG: {font: \"STIX-Web\"}});}\n",
       "        if (typeof require !== 'undefined') {\n",
       "        require.undef(\"plotly\");\n",
       "        requirejs.config({\n",
       "            paths: {\n",
       "                'plotly': ['https://cdn.plot.ly/plotly-2.32.0.min']\n",
       "            }\n",
       "        });\n",
       "        require(['plotly'], function(Plotly) {\n",
       "            window._Plotly = Plotly;\n",
       "        });\n",
       "        }\n",
       "        </script>\n",
       "        "
      ]
     },
     "metadata": {},
     "output_type": "display_data"
    },
    {
     "data": {
      "text/html": [
       "<div>                            <div id=\"fed000fd-db2a-4e2c-8861-6fd0f50dec33\" class=\"plotly-graph-div\" style=\"height:525px; width:100%;\"></div>            <script type=\"text/javascript\">                require([\"plotly\"], function(Plotly) {                    window.PLOTLYENV=window.PLOTLYENV || {};                                    if (document.getElementById(\"fed000fd-db2a-4e2c-8861-6fd0f50dec33\")) {                    Plotly.newPlot(                        \"fed000fd-db2a-4e2c-8861-6fd0f50dec33\",                        [{\"alignmentgroup\":\"True\",\"boxpoints\":\"all\",\"customdata\":[[14,402,348],[14,372,322],[14,410,183],[14,460,238],[14,383,335],[14,404,396],[14,429,263],[14,495,378],[12,202,424],[12,242,351],[11,339,204],[12,490,304],[12,272,333],[12,214,416],[12,267,384],[12,303,330],[12,375,298],[13,414,267],[14,378,379],[12,233,417],[13,440,303],[13,392,253],[13,361,265],[13,484,256],[13,446,227],[13,367,200],[14,398,325],[12,223,421],[13,386,288],[13,431,296],[12,427,318],[12,316,398],[13,361,282],[14,428,301],[12,346,307],[12,258,445],[13,296,227],[13,280,267],[13,396,302],[12,227,353],[13,417,362],[13,336,279],[12,345,280],[13,282,238],[13,331,232],[12,167,397],[13,351,331],[13,376,319],[13,527,248],[13,259,361],[13,457,315],[12,225,262],[13,582,154],[14,450,212],[12,207,378],[12,320,426],[13,439,212],[11,253,296],[14,451,228],[12,303,327],[13,593,240],[14,341,358],[12,292,366],[11,305,432],[12,220,511],[14,452,407],[12,227,310],[14,502,389],[13,374,319],[14,409,329],[13,465,240],[12,373,270],[12,290,436],[12,384,325],[12,272,493],[13,290,217],[12,226,491],[13,330,349],[12,385,301],[13,398,342],[14,541,216],[13,388,231],[12,286,566],[13,356,327],[12,202,496],[12,221,368],[12,360,352],[12,268,370],[14,370,277],[13,446,356],[12,203,352],[11,249,226],[12,299,374],[13,323,238],[12,347,406],[12,320,393],[13,249,192],[13,387,326],[12,278,333],[14,537,439],[12,288,432],[12,331,371],[12,325,379],[12,227,339],[12,248,507],[12,236,451],[12,361,222],[12,218,252],[12,335,399],[14,418,332],[11,225,377],[13,309,411],[12,285,428],[12,327,328],[12,391,315],[12,297,332],[13,376,467]],\"fillcolor\":\"rgba(255,255,255,0)\",\"hoveron\":\"points\",\"hovertemplate\":\"\\u003cb\\u003e%{hovertext}\\u003c\\u002fb\\u003e\\u003cbr\\u003e\\u003cbr\\u003eseason=2002\\u003cbr\\u003eexpected wins=%{x}\\u003cbr\\u003ewins=%{y}\\u003cbr\\u003egames=%{customdata[0]}\\u003cbr\\u003epoints scored=%{customdata[1]}\\u003cbr\\u003epoints allowed=%{customdata[2]}\\u003cextra\\u003e\\u003c\\u002fextra\\u003e\",\"hovertext\":[\"Virginia\",\"Wisconsin\",\"Ohio State\",\"NC State\",\"Nebraska\",\"Iowa State\",\"Virginia Tech\",\"Toledo\",\"Kent State\",\"Temple\",\"USF\",\"Bowling Green\",\"BYU\",\"Buffalo\",\"Central Michigan\",\"Western Michigan\",\"Northern Illinois\",\"Oregon State\",\"Fresno State\",\"Tulsa\",\"Air Force\",\"Boston College\",\"Michigan\",\"Iowa\",\"Penn State\",\"Alabama\",\"Colorado\",\"North Carolina\",\"Purdue\",\"Washington State\",\"California\",\"Michigan State\",\"Tulane\",\"Florida State\",\"Illinois\",\"Indiana\",\"Tennessee\",\"Georgia Tech\",\"West Virginia\",\"Duke\",\"Oregon\",\"Florida\",\"Texas A&M\",\"Southern Miss\",\"Pittsburgh\",\"Rutgers\",\"Ole Miss\",\"Minnesota\",\"Miami (FL)\",\"Arkansas State\",\"Marshall\",\"South Carolina\",\"Kansas State\",\"Georgia\",\"SMU\",\"Louisiana Tech\",\"Texas\",\"Rice\",\"Maryland\",\"Memphis\",\"Boise State\",\"New Mexico\",\"UNLV\",\"Utah State\",\"UTEP\",\"Arizona State\",\"Arizona\",\"Hawaii\",\"Louisville\",\"Cincinnati\",\"USC\",\"Connecticut\",\"Navy\",\"Miami (OH)\",\"Northwestern\",\"Notre Dame\",\"Army\",\"Clemson\",\"Kentucky\",\"Washington\",\"Oklahoma\",\"Auburn\",\"Eastern Michigan\",\"Wake Forest\",\"Baylor\",\"Vanderbilt\",\"Missouri\",\"UAB\",\"Arkansas\",\"Oklahoma State\",\"UL-Lafayette\",\"Utah\",\"Ohio\",\"LSU\",\"Syracuse\",\"Houston\",\"North Texas\",\"UCLA\",\"Ball State\",\"Texas Tech\",\"Wyoming\",\"Nevada\",\"Akron\",\"Mississippi State\",\"Kansas\",\"UL-Monroe\",\"TCU\",\"Troy\",\"East Carolina\",\"Colorado State\",\"Stanford\",\"San Diego State\",\"Idaho\",\"New Mexico State\",\"UCF\",\"Middle Tennessee\",\"San Jose State\"],\"legendgroup\":\"2002\",\"line\":{\"color\":\"rgba(255,255,255,0)\"},\"marker\":{\"color\":\"#636efa\"},\"name\":\"2002\",\"offsetgroup\":\"2002\",\"orientation\":\"v\",\"pointpos\":0,\"showlegend\":true,\"x\":[8.185031100786109,8.185777995101713,12.197113425340868,11.572410927702322,8.101508244956765,7.1658744727467285,10.657762079117425,9.163708205162918,1.7655852023466752,3.514948887514443,8.460958600802426,9.073133140056886,4.588309758535599,2.0574419263350983,3.5649552270520806,5.395152921373437,7.594869637627694,9.60385354988063,6.978084603109087,2.4131619703548317,9.199749725672321,9.599422002172215,8.780113417184204,10.646775739850646,10.81737321654617,10.5072831322674,8.649215939281945,2.1783120343761633,8.669471459836016,9.21697856273592,8.014304907701634,4.399335401262603,8.349781022150454,9.76160048523578,6.844645354807682,2.586332380521155,8.479474897827942,6.86579722630889,8.51837429056014,3.119009169001036,7.5793685011934,7.909168644927868,7.4546941690024395,7.7893045839625685,9.086213592332637,1.3658620136590496,6.9511624774036616,7.750496346980323,11.13437199503631,4.066688130801546,9.193811991092643,4.929137275375484,12.466303528371421,11.98632895565298,2.322506945435176,4.040224622145599,11.034289907108683,4.4885862347874985,11.6806147836631,5.459492705792262,11.636139536074976,6.596890522310138,4.431282779514186,3.3516673449207732,1.4338420675843762,7.865437910219431,3.8798692448861205,9.053269913954317,7.710889060745577,8.766469463541487,10.75657671403787,8.191549892885247,3.3071972631035766,7.170859924570438,2.3558387762947666,8.649645668349118,1.6461706922341386,6.069451032760067,7.70201417266736,7.6556052976093305,12.573021203760739,10.057485467588686,1.9861560820594961,7.15228283693866,1.2757303761733798,2.7595755037002756,6.159744244701143,3.81239719849182,9.311322689261894,8.195917490875363,2.5608882392140657,6.128899761516778,4.444985324189664,8.754632239969387,4.896238254934568,4.567183854150164,8.441301488620173,7.803290068781611,4.735719285571861,8.64037467019477,3.3202508138939653,5.193770589422174,4.919042839628558,3.3454385814522136,1.8618342208815775,2.1273412793580593,9.119159102234553,4.9795329706075675,4.774436701052885,8.864642397176475,2.500989790552971,4.382873572092373,3.313601813867575,5.978290154211807,7.503976563423935,5.212495255461603,4.866324232741605],\"x0\":\" \",\"xaxis\":\"x\",\"y\":[9,8,14,11,7,7,10,9,3,4,9,9,5,1,4,4,8,8,9,1,8,9,10,11,9,10,9,3,7,10,7,4,8,9,5,3,8,7,9,2,7,8,6,7,9,1,7,8,12,6,11,5,11,13,3,4,11,4,11,3,12,7,5,4,2,8,4,10,7,7,11,6,2,7,3,10,1,7,7,7,12,9,3,7,3,2,5,5,9,8,3,5,4,8,4,5,8,8,6,9,2,5,4,3,2,3,10,4,4,10,2,4,2,7,7,4,6],\"y0\":\" \",\"yaxis\":\"y\",\"type\":\"box\"},{\"alignmentgroup\":\"True\",\"boxpoints\":\"all\",\"customdata\":[[13,364,265],[13,355,306],[13,322,229],[13,489,385],[13,322,188],[12,173,437],[13,460,299],[12,389,285],[12,321,396],[12,235,393],[11,276,224],[14,470,304],[12,196,310],[12,177,445],[12,277,428],[12,331,370],[12,386,258],[13,433,301],[14,322,317],[13,400,361],[12,322,242],[13,370,331],[13,460,219],[13,373,210],[12,233,255],[13,331,333],[12,319,398],[12,317,459],[13,349,226],[13,394,257],[14,436,309],[13,363,293],[12,337,424],[13,419,217],[12,203,398],[12,177,388],[13,365,239],[13,274,266],[13,376,297],[12,211,343],[13,356,348],[13,390,271],[12,304,465],[13,293,226],[13,389,311],[12,329,354],[13,442,285],[13,503,285],[13,361,196],[12,242,401],[12,350,278],[12,268,314],[15,517,223],[14,371,203],[12,134,386],[12,310,394],[13,533,280],[12,343,378],[13,406,206],[13,393,250],[14,602,239],[13,391,290],[12,256,272],[12,264,315],[13,288,498],[12,298,328],[12,181,429],[14,486,427],[13,450,361],[12,303,319],[13,534,239],[12,408,300],[13,396,283],[14,602,272],[13,263,326],[12,243,315],[13,206,476],[13,365,250],[12,328,321],[12,312,316],[14,601,214],[13,342,212],[12,205,371],[12,335,347],[12,191,455],[12,235,358],[13,399,287],[12,245,287],[13,436,305],[13,467,326],[12,266,415],[12,344,229],[12,263,372],[14,475,154],[12,320,301],[13,448,468],[13,358,285],[13,248,305],[12,261,386],[13,552,442],[12,286,360],[12,282,338],[12,435,353],[12,225,471],[13,384,396],[12,239,467],[13,380,276],[12,185,272],[12,217,428],[13,381,318],[11,186,324],[12,224,207],[12,248,314],[12,262,341],[12,224,373],[12,332,375],[11,259,386]],\"fillcolor\":\"rgba(255,255,255,0)\",\"hoveron\":\"points\",\"hovertemplate\":\"\\u003cb\\u003e%{hovertext}\\u003c\\u002fb\\u003e\\u003cbr\\u003e\\u003cbr\\u003eseason=2003\\u003cbr\\u003eexpected wins=%{x}\\u003cbr\\u003ewins=%{y}\\u003cbr\\u003egames=%{customdata[0]}\\u003cbr\\u003epoints scored=%{customdata[1]}\\u003cbr\\u003epoints allowed=%{customdata[2]}\\u003cextra\\u003e\\u003c\\u002fextra\\u003e\",\"hovertext\":[\"Virginia\",\"Wisconsin\",\"Ohio State\",\"NC State\",\"Nebraska\",\"Iowa State\",\"Virginia Tech\",\"Toledo\",\"Kent State\",\"Temple\",\"USF\",\"Bowling Green\",\"BYU\",\"Buffalo\",\"Central Michigan\",\"Western Michigan\",\"Northern Illinois\",\"Oregon State\",\"Fresno State\",\"Tulsa\",\"Air Force\",\"Boston College\",\"Michigan\",\"Iowa\",\"Penn State\",\"Alabama\",\"Colorado\",\"North Carolina\",\"Purdue\",\"Washington State\",\"California\",\"Michigan State\",\"Tulane\",\"Florida State\",\"Illinois\",\"Indiana\",\"Tennessee\",\"Georgia Tech\",\"West Virginia\",\"Duke\",\"Oregon\",\"Florida\",\"Texas A&M\",\"Southern Miss\",\"Pittsburgh\",\"Rutgers\",\"Ole Miss\",\"Minnesota\",\"Miami (FL)\",\"Arkansas State\",\"Marshall\",\"South Carolina\",\"Kansas State\",\"Georgia\",\"SMU\",\"Louisiana Tech\",\"Texas\",\"Rice\",\"Maryland\",\"Memphis\",\"Boise State\",\"New Mexico\",\"UNLV\",\"Utah State\",\"UTEP\",\"Arizona State\",\"Arizona\",\"Hawaii\",\"Louisville\",\"Cincinnati\",\"USC\",\"Connecticut\",\"Navy\",\"Miami (OH)\",\"Northwestern\",\"Notre Dame\",\"Army\",\"Clemson\",\"Kentucky\",\"Washington\",\"Oklahoma\",\"Auburn\",\"Eastern Michigan\",\"Wake Forest\",\"Baylor\",\"Vanderbilt\",\"Missouri\",\"UAB\",\"Arkansas\",\"Oklahoma State\",\"UL-Lafayette\",\"Utah\",\"Ohio\",\"LSU\",\"Syracuse\",\"Houston\",\"North Texas\",\"UCLA\",\"Ball State\",\"Texas Tech\",\"Wyoming\",\"Nevada\",\"Akron\",\"Mississippi State\",\"Kansas\",\"UL-Monroe\",\"TCU\",\"Troy\",\"East Carolina\",\"Colorado State\",\"Stanford\",\"San Diego State\",\"Idaho\",\"New Mexico State\",\"UCF\",\"Middle Tennessee\",\"San Jose State\"],\"legendgroup\":\"2003\",\"line\":{\"color\":\"rgba(255,255,255,0)\"},\"marker\":{\"color\":\"#EF553B\"},\"name\":\"2003\",\"offsetgroup\":\"2003\",\"orientation\":\"v\",\"pointpos\":0,\"showlegend\":true,\"x\":[8.83582125114739,7.632403173419144,8.991232267440543,8.294055023180174,10.161476449531243,1.2011712103475491,9.55706283558715,8.116819056718235,4.5371559207359615,2.737960206268047,6.833469654918903,10.323931570513398,3.0272341262575067,1.2133095878757545,3.154217178390618,5.212622427612975,8.66500266236926,9.139467749332898,7.129799976212443,7.286303659132885,7.956570244372585,7.352992370085944,11.089944960793531,10.348035495637198,5.360932843971463,6.453600045433967,4.461920005856259,3.524971179382801,9.57953490398477,9.535977675465984,9.707392318425402,8.115551064302144,4.4063331176540474,10.741469179413956,2.0231813272981714,1.6162858655462173,9.512797376047017,6.728145163348159,8.270817800991015,2.882544430989532,6.6750220365017015,9.142043139786754,3.2101664192839463,8.439056890390473,8.184413907492512,5.480573048504929,9.605062779621338,10.316024444267825,10.524992055581727,2.7843125823179404,7.598037529625898,4.886777659107681,13.200687896112305,11.294656219708125,0.9040471139266881,4.339618598778227,10.677785900909813,5.312202442850009,10.830718631311276,9.68486597284674,12.590099386782555,8.710097931941378,5.569698947133816,4.76222805374128,2.7887297209368254,5.320929903278168,1.3744413510240825,8.06523810969199,8.159837651556295,5.634584305761494,11.316401285557466,8.09434123689172,8.959211941592416,12.15114880760126,4.880741316029897,4.210920186801459,1.5702651429095422,9.23404135246482,6.153346968186826,5.909432406178686,12.885099947669687,9.834036327371738,2.362644433406478,5.749913872509845,1.3599022382957533,3.232855129347082,8.916266626145244,4.8880271849970125,9.098840595556135,9.112425681013912,3.101184963568013,8.688021707755107,3.6646482072777604,13.092820031719672,6.43444664895031,6.163892865837444,8.21496399899777,4.937658530277988,3.401378277739755,8.173283945047979,4.403282493560206,4.731524795141134,7.455518336314306,1.7752715762939681,6.263086294199751,2.0366928443365944,8.851544358561242,3.4353913450022944,1.9994545041847198,7.871305355458869,2.3275364326746084,6.559542201965508,4.3646931238652495,4.184872619221681,2.759514409573633,5.140028082144978,3.077360748361109],\"x0\":\" \",\"xaxis\":\"x\",\"y\":[8,7,11,8,10,2,8,8,5,1,7,11,4,1,3,5,10,8,9,8,7,8,10,10,3,4,5,2,9,10,8,8,5,10,1,2,10,7,8,4,8,8,4,9,8,5,10,10,11,5,8,5,11,11,0,5,10,5,10,9,13,8,6,3,2,5,2,9,9,5,12,9,8,13,6,5,0,9,4,6,12,8,3,5,3,2,8,5,9,9,4,10,2,13,6,7,9,6,4,8,4,6,7,2,6,1,11,6,1,7,4,6,3,3,3,4,3],\"y0\":\" \",\"yaxis\":\"y\",\"type\":\"box\"},{\"alignmentgroup\":\"True\",\"boxpoints\":\"all\",\"customdata\":[[12,363,212],[12,249,185],[12,290,219],[11,264,218],[11,275,298],[12,246,259],[13,400,167],[13,432,404],[11,335,264],[11,238,399],[11,271,351],[12,532,282],[11,267,295],[11,197,351],[11,260,378],[11,248,436],[12,421,304],[12,320,294],[12,482,246],[12,345,398],[11,326,342],[12,296,203],[12,370,279],[12,292,211],[11,195,168],[12,295,189],[13,304,332],[12,319,382],[12,381,206],[11,275,307],[12,441,192],[12,353,326],[11,300,361],[12,302,169],[11,240,323],[11,262,343],[13,378,295],[12,264,227],[12,361,246],[11,183,322],[11,282,282],[12,382,253],[12,341,292],[12,309,298],[12,325,288],[11,269,343],[11,215,278],[12,361,273],[12,380,204],[11,215,365],[12,291,266],[11,243,229],[11,326,337],[12,335,198],[11,202,420],[12,308,382],[12,423,215],[11,272,377],[11,195,220],[12,430,375],[12,587,308],[12,244,224],[11,229,357],[11,184,333],[12,429,301],[12,358,294],[11,164,275],[13,467,499],[12,597,236],[12,344,320],[13,496,169],[12,363,260],[12,334,238],[13,407,298],[12,295,342],[12,289,289],[11,260,388],[11,236,229],[11,173,341],[11,154,334],[13,452,219],[13,417,147],[11,328,458],[11,230,253],[11,224,406],[11,212,286],[11,256,215],[12,372,351],[11,328,270],[12,387,301],[11,242,272],[12,544,234],[11,221,271],[12,344,205],[12,287,344],[11,230,354],[12,309,358],[12,361,309],[11,225,405],[12,434,314],[12,318,297],[12,356,413],[11,271,347],[11,173,280],[11,262,235],[11,211,303],[11,362,373],[12,286,200],[11,231,439],[11,261,325],[11,242,233],[11,234,282],[12,245,473],[11,273,355],[11,175,362],[11,269,293],[11,312,469]],\"fillcolor\":\"rgba(255,255,255,0)\",\"hoveron\":\"points\",\"hovertemplate\":\"\\u003cb\\u003e%{hovertext}\\u003c\\u002fb\\u003e\\u003cbr\\u003e\\u003cbr\\u003eseason=2004\\u003cbr\\u003eexpected wins=%{x}\\u003cbr\\u003ewins=%{y}\\u003cbr\\u003egames=%{customdata[0]}\\u003cbr\\u003epoints scored=%{customdata[1]}\\u003cbr\\u003epoints allowed=%{customdata[2]}\\u003cextra\\u003e\\u003c\\u002fextra\\u003e\",\"hovertext\":[\"Virginia\",\"Wisconsin\",\"Ohio State\",\"NC State\",\"Nebraska\",\"Iowa State\",\"Virginia Tech\",\"Toledo\",\"Kent State\",\"Temple\",\"USF\",\"Bowling Green\",\"BYU\",\"Buffalo\",\"Central Michigan\",\"Western Michigan\",\"Northern Illinois\",\"Oregon State\",\"Fresno State\",\"Tulsa\",\"Air Force\",\"Boston College\",\"Michigan\",\"Iowa\",\"Penn State\",\"Alabama\",\"Colorado\",\"North Carolina\",\"Purdue\",\"Washington State\",\"California\",\"Michigan State\",\"Tulane\",\"Florida State\",\"Illinois\",\"Indiana\",\"Tennessee\",\"Georgia Tech\",\"West Virginia\",\"Duke\",\"Oregon\",\"Florida\",\"Texas A&M\",\"Southern Miss\",\"Pittsburgh\",\"Rutgers\",\"Ole Miss\",\"Minnesota\",\"Miami (FL)\",\"Arkansas State\",\"Marshall\",\"South Carolina\",\"Kansas State\",\"Georgia\",\"SMU\",\"Louisiana Tech\",\"Texas\",\"Rice\",\"Maryland\",\"Memphis\",\"Boise State\",\"New Mexico\",\"UNLV\",\"Utah State\",\"UTEP\",\"Arizona State\",\"Arizona\",\"Hawaii\",\"Louisville\",\"Cincinnati\",\"USC\",\"Connecticut\",\"Navy\",\"Miami (OH)\",\"Northwestern\",\"Notre Dame\",\"Army\",\"Clemson\",\"Kentucky\",\"Washington\",\"Oklahoma\",\"Auburn\",\"Eastern Michigan\",\"Wake Forest\",\"Baylor\",\"Vanderbilt\",\"Missouri\",\"UAB\",\"Arkansas\",\"Oklahoma State\",\"UL-Lafayette\",\"Utah\",\"Ohio\",\"LSU\",\"Syracuse\",\"Houston\",\"North Texas\",\"UCLA\",\"Ball State\",\"Texas Tech\",\"Wyoming\",\"Nevada\",\"Akron\",\"Mississippi State\",\"Kansas\",\"UL-Monroe\",\"TCU\",\"Troy\",\"East Carolina\",\"Colorado State\",\"Stanford\",\"San Diego State\",\"Idaho\",\"New Mexico State\",\"UCF\",\"Middle Tennessee\",\"San Jose State\"],\"legendgroup\":\"2004\",\"line\":{\"color\":\"rgba(255,255,255,0)\"},\"marker\":{\"color\":\"#00cc96\"},\"name\":\"2004\",\"offsetgroup\":\"2004\",\"orientation\":\"v\",\"pointpos\":0,\"showlegend\":true,\"x\":[9.378401827306892,8.029207301916363,7.925985498407567,6.726824796605354,4.978074029751345,5.634313510090928,11.543550995503608,7.015067850007989,7.01239878397426,2.4984903552208517,3.8650221235223428,9.818624341995204,4.85304017311503,2.2308263276643165,3.2092865706188842,2.287705229087651,8.206621193595737,6.600493063355996,9.974292162328435,4.993529851968846,5.188059829086634,8.516217693717323,7.935431650298959,8.202257824554774,6.461365087656887,8.901245993344563,5.82380900602927,4.737702489887354,9.733557443783521,4.786616878208006,10.53232852912255,6.564076787821732,4.312620691546638,9.579887992288658,3.640376277039124,3.80158025334635,8.35648914154762,7.062290384973092,8.553558193795386,2.284049125530057,5.5,8.71699105833417,7.090706552937133,6.257563406432634,6.853519826987375,3.9585021789687227,3.875035517188774,7.917033059927183,9.764450959019985,2.44143871060249,6.636268402087096,5.886108635333306,5.283824607511112,9.319897306327704,1.6497080663542787,4.501449281795701,9.990686081954387,3.4725427463530747,4.719118451851766,6.964626461041312,9.86139226770316,6.605989455067715,2.8465938054474464,2.1656970114224405,8.381081073486559,7.375453640465583,2.4975114646608603,5.99054969236209,10.802522252214253,6.512944746218168,12.05996110402886,8.256344131917333,8.287704613492021,8.797464969627294,4.959512828812565,6.0,3.070460994897511,5.696157397415792,1.835133028761161,1.5143073515931424,11.021194423983165,11.987170557237286,3.4309326691373863,4.881443774912252,2.159518878270203,3.626581132573131,6.621612506127303,6.412493534074419,6.746240506361071,7.735829909379259,4.743168630531366,10.568807134800469,4.19600773723003,9.279068916015254,4.731384760264866,2.911048651293858,4.963952290221719,7.093511369084528,2.1881264638027322,8.194599685785395,6.484691358129254,4.954813866973883,3.9333927837209273,2.6632015377621516,6.204938046292629,3.276152344532293,5.304985586978862,8.400984165903095,1.9712701215004538,4.102011673477731,5.746842573778724,4.303362830526869,2.085354553257348,3.841416352375547,1.6668258683442065,4.944902820000943,3.0324393757196844],\"x0\":\" \",\"xaxis\":\"x\",\"y\":[8,9,8,5,5,7,10,9,5,2,4,9,5,2,4,1,9,7,9,4,5,9,9,10,4,6,8,6,7,5,10,5,5,9,3,3,10,7,8,2,5,7,7,7,8,4,4,7,9,3,6,6,4,10,3,6,11,3,5,8,11,7,2,3,8,9,3,8,11,7,13,8,10,8,6,6,2,6,2,1,12,13,4,4,3,2,5,7,5,7,4,12,4,9,6,3,7,6,2,8,7,5,6,3,4,5,5,7,2,4,4,4,3,5,0,5,2],\"y0\":\" \",\"yaxis\":\"y\",\"type\":\"box\"},{\"alignmentgroup\":\"True\",\"boxpoints\":\"all\",\"customdata\":[[12,320,279],[13,446,309],[12,392,183],[12,249,212],[12,296,252],[12,339,230],[13,440,168],[12,429,261],[11,180,331],[11,107,497],[12,276,216],[11,371,304],[12,396,351],[11,110,327],[11,260,260],[11,354,342],[12,389,274],[11,293,365],[13,491,292],[13,430,305],[11,330,349],[12,310,191],[12,345,244],[12,360,240],[12,413,204],[12,263,128],[13,305,307],[11,198,288],[11,330,309],[11,368,346],[12,395,254],[11,372,316],[11,234,348],[13,376,286],[11,187,435],[11,248,361],[11,205,205],[12,222,241],[12,385,214],[11,177,408],[12,414,278],[12,343,226],[11,352,343],[12,355,272],[11,267,243],[12,344,307],[11,148,245],[12,429,348],[12,325,171],[12,294,303],[11,204,285],[12,284,279],[11,289,305],[13,384,213],[11,229,280],[11,316,281],[13,652,213],[11,241,447],[11,270,275],[12,326,276],[13,469,317],[11,326,327],[11,207,381],[11,208,360],[12,382,311],[12,442,359],[11,252,290],[12,368,428],[12,521,285],[11,192,345],[13,638,297],[11,272,211],[12,410,313],[11,371,258],[12,388,407],[12,440,294],[11,220,294],[12,316,211],[11,239,375],[11,237,337],[12,323,277],[12,386,186],[11,240,295],[11,269,316],[11,236,291],[11,299,321],[12,369,350],[11,307,264],[11,283,271],[11,222,344],[11,286,304],[12,360,289],[11,192,336],[13,383,185],[11,152,295],[12,337,324],[11,157,346],[12,469,410],[11,233,416],[12,473,226],[11,271,297],[12,410,383],[13,307,318],[11,153,259],[12,269,264],[11,239,339],[12,398,223],[11,175,255],[11,267,317],[12,321,369],[11,269,337],[12,323,325],[11,243,419],[12,198,465],[13,373,373],[11,210,206],[11,248,357],[11,257,323],[11,148,339]],\"fillcolor\":\"rgba(255,255,255,0)\",\"hoveron\":\"points\",\"hovertemplate\":\"\\u003cb\\u003e%{hovertext}\\u003c\\u002fb\\u003e\\u003cbr\\u003e\\u003cbr\\u003eseason=2005\\u003cbr\\u003eexpected wins=%{x}\\u003cbr\\u003ewins=%{y}\\u003cbr\\u003egames=%{customdata[0]}\\u003cbr\\u003epoints scored=%{customdata[1]}\\u003cbr\\u003epoints allowed=%{customdata[2]}\\u003cextra\\u003e\\u003c\\u002fextra\\u003e\",\"hovertext\":[\"Virginia\",\"Wisconsin\",\"Ohio State\",\"NC State\",\"Nebraska\",\"Iowa State\",\"Virginia Tech\",\"Toledo\",\"Kent State\",\"Temple\",\"USF\",\"Bowling Green\",\"BYU\",\"Buffalo\",\"Central Michigan\",\"Western Michigan\",\"Northern Illinois\",\"Oregon State\",\"Fresno State\",\"Tulsa\",\"Air Force\",\"Boston College\",\"Michigan\",\"Iowa\",\"Penn State\",\"Alabama\",\"Colorado\",\"North Carolina\",\"Purdue\",\"Washington State\",\"California\",\"Michigan State\",\"Tulane\",\"Florida State\",\"Illinois\",\"Indiana\",\"Tennessee\",\"Georgia Tech\",\"West Virginia\",\"Duke\",\"Oregon\",\"Florida\",\"Texas A&M\",\"Southern Miss\",\"Pittsburgh\",\"Rutgers\",\"Ole Miss\",\"Minnesota\",\"Miami (FL)\",\"Arkansas State\",\"Marshall\",\"South Carolina\",\"Kansas State\",\"Georgia\",\"SMU\",\"Louisiana Tech\",\"Texas\",\"Rice\",\"Maryland\",\"Memphis\",\"Boise State\",\"New Mexico\",\"UNLV\",\"Utah State\",\"UTEP\",\"Arizona State\",\"Arizona\",\"Hawaii\",\"Louisville\",\"Cincinnati\",\"USC\",\"Connecticut\",\"Navy\",\"Miami (OH)\",\"Northwestern\",\"Notre Dame\",\"Army\",\"Clemson\",\"Kentucky\",\"Washington\",\"Oklahoma\",\"Auburn\",\"Eastern Michigan\",\"Wake Forest\",\"Baylor\",\"Vanderbilt\",\"Missouri\",\"UAB\",\"Arkansas\",\"Oklahoma State\",\"UL-Lafayette\",\"Utah\",\"Ohio\",\"LSU\",\"Syracuse\",\"Houston\",\"North Texas\",\"UCLA\",\"Ball State\",\"Texas Tech\",\"Wyoming\",\"Nevada\",\"Akron\",\"Mississippi State\",\"Kansas\",\"UL-Monroe\",\"TCU\",\"Troy\",\"East Carolina\",\"Colorado State\",\"Stanford\",\"San Diego State\",\"Idaho\",\"New Mexico State\",\"UCF\",\"Middle Tennessee\",\"San Jose State\",\"FIU\",\"Florida Atlantic\"],\"legendgroup\":\"2005\",\"line\":{\"color\":\"rgba(255,255,255,0)\"},\"marker\":{\"color\":\"#ab63fa\"},\"name\":\"2005\",\"offsetgroup\":\"2005\",\"orientation\":\"v\",\"pointpos\":0,\"showlegend\":true,\"x\":[6.966358151337925,9.16098285647335,10.305672228209971,7.130105894432907,7.130543036578103,8.578970264122464,11.795727207309348,9.174493467619182,2.1006816221035645,0.2814561235444901,7.695404682139234,6.774539736872429,6.851870779798074,0.7733165476109445,5.5,5.724638614666363,8.357703837739647,4.0994516859435475,10.063430555262146,9.008584521750882,5.135689335412364,9.109280554030294,8.333157693441933,8.679749186106035,10.10151052042201,10.156882823956781,6.4496576901517315,3.206696692278089,5.927669520308461,5.901052739686031,8.881173869509158,6.550287325018435,3.088551151692469,8.536522867725191,1.3102592281019851,3.202628904091494,5.5,5.417966031234999,9.610598429032189,1.3354123380272522,8.638496769034752,8.746099055403798,5.6687550106206235,7.833051783359498,6.111328797092349,6.80420620019054,2.5568314726772723,7.458037212822884,9.849857825001227,5.785703090565644,3.428059608425874,6.126272417224644,5.149280470484365,10.421701060581611,4.213789793611758,6.260176497313497,12.143298496873046,2.0662596199246277,5.380428332222999,7.168665358671321,9.317576208729609,5.480038356883404,2.096982293919544,2.3556276466472363,7.433748578923451,7.449558082307603,4.592964920633058,4.937426062337971,9.682307629768655,2.1953539840131198,11.175027311190952,7.106866630220543,7.8564743195660505,7.731300000149637,5.660449399126286,8.666812575647107,3.6812510194139416,8.670742857846522,2.8144656669290806,3.3301167958306777,7.08043291537771,10.193432414896323,4.1813759139324205,4.463037350045643,4.162012413531679,5.038362145790945,6.375368535226189,6.473132067172931,5.7821428571501166,2.8769492803639967,5.102890803752666,7.527555714777735,2.307511816153344,11.033364525201321,1.8919748055993575,6.279500799830863,1.4654529756711623,6.947901858979121,2.2221382529585605,10.224020986385746,4.90524489390523,6.483299283374421,6.229001183617453,2.454380104741191,6.133377809238004,3.343814559603397,9.574168143518579,3.1970987906071695,4.396429156088462,5.018091607376971,4.065094146077047,5.956111754519867,2.3721503101800057,1.4011702812726456,6.5,5.625318707526671,3.262906645245199,4.045648589201638,1.35311328854257],\"x0\":\" \",\"xaxis\":\"x\",\"y\":[7,10,10,7,8,7,11,9,1,0,6,6,6,1,6,7,7,5,8,9,4,9,7,7,11,10,7,5,5,4,8,5,2,8,2,4,5,7,11,1,10,9,5,7,5,7,3,7,9,6,4,7,5,10,5,7,13,1,5,7,9,6,2,3,8,7,3,5,9,4,12,5,8,7,7,9,4,8,3,2,8,9,4,4,5,5,7,5,4,4,6,7,4,11,1,6,2,10,4,9,4,9,7,3,7,5,11,4,5,6,5,5,2,0,8,4,3,5,2],\"y0\":\" \",\"yaxis\":\"y\",\"type\":\"box\"},{\"alignmentgroup\":\"True\",\"boxpoints\":\"all\",\"customdata\":[[12,181,214],[13,380,157],[13,450,166],[12,210,262],[14,428,256],[12,226,369],[13,336,143],[12,281,332],[12,214,241],[12,131,496],[13,299,220],[12,234,340],[13,478,191],[12,220,431],[14,416,312],[13,299,259],[13,331,275],[14,389,311],[12,276,339],[13,360,262],[12,279,302],[13,338,204],[13,380,207],[13,310,269],[13,290,187],[13,298,250],[12,196,267],[12,216,366],[14,364,374],[12,295,277],[13,427,251],[12,302,341],[12,224,400],[13,345,258],[12,235,321],[12,277,394],[13,362,254],[14,349,257],[13,505,282],[12,179,406],[13,383,345],[14,416,189],[13,362,267],[14,356,260],[12,381,274],[13,387,186],[12,188,275],[13,376,338],[13,255,201],[12,182,289],[12,311,351],[13,346,243],[13,296,309],[13,327,229],[12,325,294],[13,242,542],[13,467,238],[13,350,432],[13,284,284],[12,281,365],[13,516,229],[13,284,312],[12,238,382],[12,130,462],[12,328,375],[13,348,326],[12,199,235],[13,612,328],[13,491,212],[13,274,255],[13,396,197],[12,257,324],[13,367,261],[12,222,304],[12,198,314],[13,403,310],[12,232,335],[13,425,210],[13,347,369],[12,262,311],[14,424,242],[13,322,181],[12,167,322],[14,302,215],[12,283,391],[12,264,284],[13,391,254],[12,225,297],[14,404,256],[13,458,333],[12,248,296],[13,363,258],[14,276,253],[13,438,164],[12,209,295],[14,462,329],[12,154,304],[13,299,259],[12,326,309],[13,422,326],[12,258,264],[13,391,249],[12,236,271],[12,221,309],[12,348,306],[12,262,267],[13,380,160],[13,296,289],[13,280,270],[12,202,263],[12,127,377],[12,170,325],[12,203,417],[12,374,369],[12,232,345],[13,296,302],[13,324,270],[12,115,313],[12,181,299]],\"fillcolor\":\"rgba(255,255,255,0)\",\"hoveron\":\"points\",\"hovertemplate\":\"\\u003cb\\u003e%{hovertext}\\u003c\\u002fb\\u003e\\u003cbr\\u003e\\u003cbr\\u003eseason=2006\\u003cbr\\u003eexpected wins=%{x}\\u003cbr\\u003ewins=%{y}\\u003cbr\\u003egames=%{customdata[0]}\\u003cbr\\u003epoints scored=%{customdata[1]}\\u003cbr\\u003epoints allowed=%{customdata[2]}\\u003cextra\\u003e\\u003c\\u002fextra\\u003e\",\"hovertext\":[\"Virginia\",\"Wisconsin\",\"Ohio State\",\"NC State\",\"Nebraska\",\"Iowa State\",\"Virginia Tech\",\"Toledo\",\"Kent State\",\"Temple\",\"USF\",\"Bowling Green\",\"BYU\",\"Buffalo\",\"Central Michigan\",\"Western Michigan\",\"Northern Illinois\",\"Oregon State\",\"Fresno State\",\"Tulsa\",\"Air Force\",\"Boston College\",\"Michigan\",\"Iowa\",\"Penn State\",\"Alabama\",\"Colorado\",\"North Carolina\",\"Purdue\",\"Washington State\",\"California\",\"Michigan State\",\"Tulane\",\"Florida State\",\"Illinois\",\"Indiana\",\"Tennessee\",\"Georgia Tech\",\"West Virginia\",\"Duke\",\"Oregon\",\"Florida\",\"Texas A&M\",\"Southern Miss\",\"Pittsburgh\",\"Rutgers\",\"Ole Miss\",\"Minnesota\",\"Miami (FL)\",\"Arkansas State\",\"Marshall\",\"South Carolina\",\"Kansas State\",\"Georgia\",\"SMU\",\"Louisiana Tech\",\"Texas\",\"Rice\",\"Maryland\",\"Memphis\",\"Boise State\",\"New Mexico\",\"UNLV\",\"Utah State\",\"UTEP\",\"Arizona State\",\"Arizona\",\"Hawaii\",\"Louisville\",\"Cincinnati\",\"USC\",\"Connecticut\",\"Navy\",\"Miami (OH)\",\"Northwestern\",\"Notre Dame\",\"Army\",\"Clemson\",\"Kentucky\",\"Washington\",\"Oklahoma\",\"Auburn\",\"Eastern Michigan\",\"Wake Forest\",\"Baylor\",\"Vanderbilt\",\"Missouri\",\"UAB\",\"Arkansas\",\"Oklahoma State\",\"UL-Lafayette\",\"Utah\",\"Ohio\",\"LSU\",\"Syracuse\",\"Houston\",\"North Texas\",\"UCLA\",\"Ball State\",\"Texas Tech\",\"Wyoming\",\"Nevada\",\"Akron\",\"Mississippi State\",\"Kansas\",\"UL-Monroe\",\"TCU\",\"Troy\",\"East Carolina\",\"Colorado State\",\"Stanford\",\"San Diego State\",\"Idaho\",\"New Mexico State\",\"UCF\",\"Middle Tennessee\",\"San Jose State\",\"FIU\",\"Florida Atlantic\"],\"legendgroup\":\"2006\",\"line\":{\"color\":\"rgba(255,255,255,0)\"},\"marker\":{\"color\":\"#FFA15A\"},\"name\":\"2006\",\"offsetgroup\":\"2006\",\"orientation\":\"v\",\"pointpos\":0,\"showlegend\":true,\"x\":[4.824615831938683,11.575288656399096,11.88202292763817,4.462078965032539,10.804086377610796,2.8598228209454213,11.483641322929948,4.829393613021654,5.160722298690902,0.49056374578301787,8.764345506008864,3.5044967355650867,11.672680255818605,2.026234773814875,9.297984818685086,7.595641261313241,7.905115387685466,8.81398420806886,4.566442183695674,8.83807130890941,5.438428153483455,9.983124413291685,10.50923062396221,7.582505906465417,9.604775069280821,7.833609757523753,3.8953680449631967,2.672752377491163,6.775266752251408,6.446801668814706,10.125671042342166,5.1423652931348665,2.4233637888064417,8.65376939421865,3.8784175562744716,3.6309902385381823,9.079266268415322,9.432546070416118,10.388727595146246,1.5065188514940222,7.300750514114053,12.130065373410044,8.74794797991781,9.492533709055673,8.23157675726413,11.053057520852809,3.4652037521841317,7.316316604496678,8.285793972862487,3.0060270237959443,5.145584285808325,9.073211257643626,6.169218501865897,9.091768452902883,6.709411140977869,1.6752940380666803,10.811727207395288,4.911490336162017,6.5,4.1977699909871795,11.345542659966526,5.778724516350782,2.9490973651140884,0.5662807356035383,5.055794880033634,7.002010793550617,4.832811022089909,10.585933177777376,11.437297610819412,7.052202544184376,10.913931403972962,4.393013087979197,8.99131045430461,3.862914137316987,3.01294204178867,8.45817142776679,3.5412496176438206,10.941883115746615,6.027348676644245,4.797501471786674,11.069651433039624,10.355949573759323,2.0905842346789467,9.6754985478336,3.8078081047133767,5.482083411379372,9.560603175203763,4.09430280533619,10.454313084993363,8.844554355728029,4.760137160504141,8.99526384780735,7.719212441514245,11.845389206650866,3.6773217214904292,9.673501899734038,1.9961029212962569,7.595641261313241,6.380273500167249,8.428317299117213,5.836584950024199,9.678458233434426,5.025486743650955,3.734765108309877,6.907453909252748,5.865613939136557,11.517376743704585,6.6842927250107875,6.779948490564263,4.182622730739772,0.8462645671437337,2.1257190238032133,1.844017734190495,6.0956864672536,3.3697553758629684,6.345458725088183,7.882881709880576,1.0230470434586854,2.799937236330754],\"x0\":\" \",\"xaxis\":\"x\",\"y\":[5,12,12,3,9,4,10,5,6,1,9,4,11,2,10,8,7,10,4,8,4,10,11,6,9,6,2,3,8,6,10,4,4,7,2,5,9,9,11,0,7,13,9,9,6,11,4,6,7,6,5,8,7,9,6,3,10,7,9,2,13,6,2,1,5,7,6,10,12,8,11,4,9,2,4,10,3,8,8,5,11,11,1,11,4,4,8,3,10,7,6,8,9,11,4,10,3,7,5,8,6,8,5,3,6,4,11,8,7,4,1,3,4,4,4,7,9,0,5],\"y0\":\" \",\"yaxis\":\"y\",\"type\":\"box\"},{\"alignmentgroup\":\"True\",\"boxpoints\":\"all\",\"customdata\":[[13,317,256],[13,383,301],[13,408,166],[12,249,339],[12,401,455],[12,218,381],[14,402,225],[12,395,470],[12,259,350],[12,197,315],[13,451,304],[13,392,417],[13,391,241],[12,291,331],[14,487,517],[12,323,347],[12,229,370],[13,362,294],[13,427,351],[14,576,467],[13,389,274],[14,396,285],[13,354,278],[12,222,225],[13,394,228],[13,352,286],[13,355,383],[12,254,294],[13,446,345],[12,308,389],[13,381,348],[13,430,346],[12,293,375],[13,303,298],[13,362,283],[13,412,370],[14,455,382],[13,341,271],[13,515,235],[12,215,398],[13,496,307],[13,552,331],[13,363,337],[13,361,314],[12,274,291],[13,426,292],[12,241,342],[12,315,440],[12,247,312],[12,291,331],[12,298,411],[12,313,282],[12,422,370],[13,424,262],[12,340,477],[12,249,368],[13,484,329],[12,377,515],[13,313,280],[13,380,419],[13,551,281],[13,321,247],[12,218,343],[12,247,406],[12,403,445],[13,420,293],[12,336,322],[13,564,331],[12,422,377],[13,472,244],[13,424,208],[13,344,247],[13,511,473],[13,250,333],[12,310,372],[12,197,345],[12,203,364],[13,430,243],[13,475,385],[13,380,411],[14,592,284],[13,315,220],[12,290,374],[13,362,289],[12,218,444],[12,260,271],[14,558,326],[12,235,421],[13,485,345],[13,450,384],[12,285,430],[13,341,219],[12,366,359],[14,541,279],[12,197,418],[13,449,379],[12,298,541],[13,291,290],[13,409,368],[13,532,337],[12,233,311],[13,435,418],[12,254,350],[13,279,301],[13,556,213],[12,282,332],[13,339,243],[12,408,295],[13,403,395],[12,304,369],[12,235,339],[12,301,413],[12,258,443],[13,312,471],[14,502,372],[12,308,339],[12,245,352],[12,181,469],[13,405,432]],\"fillcolor\":\"rgba(255,255,255,0)\",\"hoveron\":\"points\",\"hovertemplate\":\"\\u003cb\\u003e%{hovertext}\\u003c\\u002fb\\u003e\\u003cbr\\u003e\\u003cbr\\u003eseason=2007\\u003cbr\\u003eexpected wins=%{x}\\u003cbr\\u003ewins=%{y}\\u003cbr\\u003egames=%{customdata[0]}\\u003cbr\\u003epoints scored=%{customdata[1]}\\u003cbr\\u003epoints allowed=%{customdata[2]}\\u003cextra\\u003e\\u003c\\u002fextra\\u003e\",\"hovertext\":[\"Virginia\",\"Wisconsin\",\"Ohio State\",\"NC State\",\"Nebraska\",\"Iowa State\",\"Virginia Tech\",\"Toledo\",\"Kent State\",\"Temple\",\"USF\",\"Bowling Green\",\"BYU\",\"Buffalo\",\"Central Michigan\",\"Western Michigan\",\"Northern Illinois\",\"Oregon State\",\"Fresno State\",\"Tulsa\",\"Air Force\",\"Boston College\",\"Michigan\",\"Iowa\",\"Penn State\",\"Alabama\",\"Colorado\",\"North Carolina\",\"Purdue\",\"Washington State\",\"California\",\"Michigan State\",\"Tulane\",\"Florida State\",\"Illinois\",\"Indiana\",\"Tennessee\",\"Georgia Tech\",\"West Virginia\",\"Duke\",\"Oregon\",\"Florida\",\"Texas A&M\",\"Southern Miss\",\"Pittsburgh\",\"Rutgers\",\"Ole Miss\",\"Minnesota\",\"Miami (FL)\",\"Arkansas State\",\"Marshall\",\"South Carolina\",\"Kansas State\",\"Georgia\",\"SMU\",\"Louisiana Tech\",\"Texas\",\"Rice\",\"Maryland\",\"Memphis\",\"Boise State\",\"New Mexico\",\"UNLV\",\"Utah State\",\"UTEP\",\"Arizona State\",\"Arizona\",\"Hawaii\",\"Louisville\",\"Cincinnati\",\"USC\",\"Connecticut\",\"Navy\",\"Miami (OH)\",\"Northwestern\",\"Notre Dame\",\"Army\",\"Clemson\",\"Kentucky\",\"Washington\",\"Oklahoma\",\"Auburn\",\"Eastern Michigan\",\"Wake Forest\",\"Baylor\",\"Vanderbilt\",\"Missouri\",\"UAB\",\"Arkansas\",\"Oklahoma State\",\"UL-Lafayette\",\"Utah\",\"Ohio\",\"LSU\",\"Syracuse\",\"Houston\",\"North Texas\",\"UCLA\",\"Ball State\",\"Texas Tech\",\"Wyoming\",\"Nevada\",\"Akron\",\"Mississippi State\",\"Kansas\",\"UL-Monroe\",\"TCU\",\"Troy\",\"East Carolina\",\"Colorado State\",\"Stanford\",\"San Diego State\",\"Idaho\",\"New Mexico State\",\"UCF\",\"Middle Tennessee\",\"San Jose State\",\"FIU\",\"Florida Atlantic\"],\"legendgroup\":\"2007\",\"line\":{\"color\":\"rgba(255,255,255,0)\"},\"marker\":{\"color\":\"#19d3f3\"},\"name\":\"2007\",\"offsetgroup\":\"2007\",\"orientation\":\"v\",\"pointpos\":0,\"showlegend\":true,\"x\":[8.111894574540786,8.306895343004939,11.62079897669949,3.8990276665196855,5.108402155836946,2.523474098792904,11.17559237748951,4.781142330514783,3.9455958211982143,2.969075056096248,9.334682867227293,6.024647846743573,9.866199372670478,5.0913113723985965,6.504963011393404,5.491630606096622,2.914280406604838,8.070912696095032,7.983100516362335,8.70513242119984,9.054179157551284,9.598170699177478,8.312232128332521,5.9045703735102535,10.207975824090836,8.067829384863746,5.916820173111503,4.970480506647901,8.418946321316204,4.38105997062926,7.195153948804938,8.138050140412535,4.293930921832356,6.628147747816248,8.344303702401673,7.323722902280785,8.430188900761607,8.227282346265625,11.248038720625466,2.2625640537940197,9.8425636274686,10.018687180117006,7.070973634256927,7.564704463806953,5.572736820772796,9.229279103120287,3.644926611720025,3.7407209310686005,4.380168125422238,5.0913113723985965,3.818665259818741,6.737792706679805,6.927486136972114,9.851963415825256,3.7141151761507407,3.4053475451240853,9.281981969802402,3.8780063312442254,7.353211570181476,5.750812606396857,10.808799368130844,8.455989764003562,3.0553353673087056,2.8253615889075494,5.298355670818401,9.116623729434316,6.302342565674317,10.134177050265698,6.7969868677443355,10.749583132393527,10.971326471794006,8.928034239938665,7.093546492600828,4.3730354674493706,4.723493806264083,2.5138698054556285,2.4044918494433034,10.329239345704014,8.085460472481307,5.89768769624767,11.911115378965075,9.10928116008522,4.244252539117484,8.19469213287845,1.8758671788271952,5.705618137873189,10.939457327187542,2.40859817205183,8.98975318151776,7.707471021275845,3.2871653516239023,9.628729155759414,6.137276857347261,11.587836220887166,1.727347668937412,7.788196739425038,2.3485838472474247,6.526514509066709,7.309409138215941,9.709458874068728,4.023498612602486,6.806828867175082,3.82422582816089,5.91696317888735,11.787063595862858,4.853709600341461,8.939195902503705,8.198541876852138,6.654412207695562,4.6460152454329116,3.5470415917327474,3.85058916534231,2.6080581342607765,3.557672087446147,9.38655614208633,5.3210688606291985,3.571021434284466,1.1374928145717158,6.003858958252897],\"x0\":\" \",\"xaxis\":\"x\",\"y\":[9,9,11,5,5,3,11,5,3,4,9,8,11,5,8,5,2,9,9,10,9,11,9,6,9,7,6,4,8,5,7,7,4,7,9,7,10,7,11,1,9,9,7,7,5,8,3,1,5,5,3,6,5,11,1,5,10,3,6,7,10,9,2,2,4,10,5,12,6,10,11,9,8,6,6,3,3,9,8,4,11,9,4,9,3,5,12,2,8,7,3,9,6,12,2,8,2,6,7,9,5,6,4,8,12,6,8,8,8,3,4,4,1,4,10,5,5,1,8],\"y0\":\" \",\"yaxis\":\"y\",\"type\":\"box\"},{\"alignmentgroup\":\"True\",\"boxpoints\":\"all\",\"customdata\":[[12,193,260],[13,357,345],[13,359,181],[13,305,342],[13,460,371],[12,304,430],[14,309,234],[12,269,377],[12,308,380],[12,281,277],[13,359,260],[12,332,278],[13,445,285],[14,424,395],[13,384,393],[13,372,324],[13,314,234],[13,397,300],[14,414,436],[14,661,391],[13,348,289],[14,346,257],[12,243,347],[13,394,169],[13,506,187],[14,422,200],[12,242,351],[13,360,275],[12,296,301],[13,165,570],[14,448,273],[13,326,287],[12,200,414],[13,434,262],[12,344,319],[12,246,423],[12,208,201],[13,317,264],[13,319,221],[12,241,281],[13,545,367],[14,611,181],[12,300,449],[13,398,313],[13,352,279],[13,377,245],[13,417,247],[13,302,322],[13,352,314],[12,324,285],[12,246,332],[13,270,274],[12,419,430],[13,409,319],[12,256,458],[13,320,308],[13,551,244],[13,537,433],[13,283,292],[13,353,353],[13,489,164],[12,253,273],[12,307,391],[12,288,416],[12,395,444],[13,288,296],[13,476,277],[15,377,433],[12,296,358],[14,362,282],[13,488,117],[13,324,257],[13,353,286],[12,221,392],[13,317,262],[13,321,288],[12,177,284],[13,327,225],[13,294,279],[12,159,463],[14,716,343],[12,208,216],[12,309,427],[13,273,238],[12,336,352],[13,249,255],[14,591,381],[12,273,375],[12,263,374],[13,530,365],[12,397,404],[13,480,224],[12,289,327],[14,443,327],[12,217,392],[13,528,402],[12,240,571],[12,212,348],[14,489,287],[13,569,362],[12,152,333],[13,489,420],[12,360,375],[12,183,296],[13,434,375],[12,284,374],[13,437,147],[13,426,277],[14,328,295],[13,327,393],[12,315,329],[12,231,446],[12,235,513],[12,266,409],[12,199,289],[12,274,299],[12,224,259],[12,296,340],[13,326,373],[12,210,326]],\"fillcolor\":\"rgba(255,255,255,0)\",\"hoveron\":\"points\",\"hovertemplate\":\"\\u003cb\\u003e%{hovertext}\\u003c\\u002fb\\u003e\\u003cbr\\u003e\\u003cbr\\u003eseason=2008\\u003cbr\\u003eexpected wins=%{x}\\u003cbr\\u003ewins=%{y}\\u003cbr\\u003egames=%{customdata[0]}\\u003cbr\\u003epoints scored=%{customdata[1]}\\u003cbr\\u003epoints allowed=%{customdata[2]}\\u003cextra\\u003e\\u003c\\u002fextra\\u003e\",\"hovertext\":[\"Virginia\",\"Wisconsin\",\"Ohio State\",\"NC State\",\"Nebraska\",\"Iowa State\",\"Virginia Tech\",\"Toledo\",\"Kent State\",\"Temple\",\"USF\",\"Bowling Green\",\"BYU\",\"Buffalo\",\"Central Michigan\",\"Western Michigan\",\"Northern Illinois\",\"Oregon State\",\"Fresno State\",\"Tulsa\",\"Air Force\",\"Boston College\",\"Michigan\",\"Iowa\",\"Penn State\",\"Alabama\",\"Colorado\",\"North Carolina\",\"Purdue\",\"Washington State\",\"California\",\"Michigan State\",\"Tulane\",\"Florida State\",\"Illinois\",\"Indiana\",\"Tennessee\",\"Georgia Tech\",\"West Virginia\",\"Duke\",\"Oregon\",\"Florida\",\"Texas A&M\",\"Southern Miss\",\"Pittsburgh\",\"Rutgers\",\"Ole Miss\",\"Minnesota\",\"Miami (FL)\",\"Arkansas State\",\"Marshall\",\"South Carolina\",\"Kansas State\",\"Georgia\",\"SMU\",\"Louisiana Tech\",\"Texas\",\"Rice\",\"Maryland\",\"Memphis\",\"Boise State\",\"New Mexico\",\"UNLV\",\"Utah State\",\"UTEP\",\"Arizona State\",\"Arizona\",\"Hawaii\",\"Louisville\",\"Cincinnati\",\"USC\",\"Connecticut\",\"Navy\",\"Miami (OH)\",\"Northwestern\",\"Notre Dame\",\"Army\",\"Clemson\",\"Kentucky\",\"Washington\",\"Oklahoma\",\"Auburn\",\"Eastern Michigan\",\"Wake Forest\",\"Baylor\",\"Vanderbilt\",\"Missouri\",\"UAB\",\"Arkansas\",\"Oklahoma State\",\"UL-Lafayette\",\"Utah\",\"Ohio\",\"LSU\",\"Syracuse\",\"Houston\",\"North Texas\",\"UCLA\",\"Ball State\",\"Texas Tech\",\"Wyoming\",\"Nevada\",\"Akron\",\"Mississippi State\",\"Kansas\",\"UL-Monroe\",\"TCU\",\"Troy\",\"East Carolina\",\"Colorado State\",\"Stanford\",\"San Diego State\",\"Idaho\",\"New Mexico State\",\"UCF\",\"Middle Tennessee\",\"San Jose State\",\"FIU\",\"Florida Atlantic\",\"Western Kentucky\"],\"legendgroup\":\"2008\",\"line\":{\"color\":\"rgba(255,255,255,0)\"},\"marker\":{\"color\":\"#FF6692\"},\"name\":\"2008\",\"offsetgroup\":\"2008\",\"orientation\":\"v\",\"pointpos\":0,\"showlegend\":true,\"x\":[3.9651630822558306,6.7632149707627685,10.85777444878347,5.623444124900771,8.121289158204663,3.664541515877879,9.226209921011538,3.7204214188607487,4.53649802540187,6.1019274232325955,8.870736024981703,7.2438313992165355,9.64512150791813,7.586304742450144,6.321600541459503,7.554697681583237,8.677646579136875,8.581955197805652,6.57105395380402,10.868507558459637,7.9082614318797395,9.369359604410308,3.607447851035147,11.458657408644093,11.877578936947693,11.961798714950941,3.514948887514443,8.506853959160111,5.880917377423204,0.653945748828893,10.693919111328203,7.474024901273935,1.8158326063314396,9.981884040553243,6.535028538053476,2.601144626079517,6.243264424310295,7.887522095311241,9.161308084740293,4.920097369649579,9.340819445864458,13.25823511433212,3.3329281000070354,8.302090388751742,8.246277717681192,9.558286799863934,10.084965256773389,6.00702927915186,7.374583733924414,6.904931558237735,3.9537699163997373,6.386737365181861,5.815807301622135,8.36076964880686,2.4147891045382184,6.7941977490208725,11.352994575676336,8.122993299672062,6.258969134888067,6.5,12.092135705128767,5.460515720826644,4.325963783867396,3.53928806229405,5.1738464172259695,6.289033526703485,10.178742622459476,6.280080084699303,4.670300019679763,9.013139886063309,12.573896221094184,8.240902488022535,8.088392424714469,2.4543082884549188,7.943318602696867,7.330999766617096,2.9508132571825967,9.204960358917937,6.902847425397463,0.8828326364447139,11.9170780959935,5.73184502162226,3.8066864583924804,7.5475775394724,5.669577328195144,6.316647132885489,10.34516805163813,3.843670382981077,3.6323805845183434,9.199352831707197,5.875744941043053,11.165839081256589,5.127897543612203,9.415125474211804,2.370873938539225,8.529899659741703,1.3635463863727968,2.8322717157002892,10.913412074233646,9.684207600859892,1.6182545804371729,7.6590846727975075,5.709981802707398,2.9085720616040316,7.614363401477687,4.109340147123458,12.086122334627524,9.554896406163682,7.874987007944489,5.1058867797283245,5.691094220926107,2.0850929677435026,1.6301421643662155,3.18122023245527,3.5074530150315812,5.3813930161990395,4.977820884415443,5.023416033118254,5.4713382617075474,3.12847291374627],\"x0\":\" \",\"xaxis\":\"x\",\"y\":[5,7,10,6,9,2,10,3,4,5,8,6,10,8,8,9,6,9,7,11,8,9,3,9,11,12,5,8,4,2,10,9,2,9,5,3,5,9,9,4,10,13,4,7,9,8,9,7,7,6,4,7,5,10,1,8,12,10,8,6,12,4,5,3,5,5,8,8,5,11,12,8,8,2,9,7,3,7,7,0,12,5,3,8,4,7,10,4,5,9,6,13,4,9,3,8,1,4,12,11,4,7,5,4,8,4,11,8,9,7,5,2,2,3,4,5,6,5,7,2],\"y0\":\" \",\"yaxis\":\"y\",\"type\":\"box\"},{\"alignmentgroup\":\"True\",\"boxpoints\":\"all\",\"customdata\":[[12,232,316],[13,413,283],[13,377,163],[12,364,374],[14,352,146],[13,267,284],[13,414,203],[12,356,452],[12,231,269],[13,384,290],[13,344,257],[13,370,357],[13,461,280],[12,289,285],[14,475,265],[12,296,330],[13,372,281],[13,409,325],[13,440,369],[12,351,328],[13,386,204],[13,322,257],[12,354,330],[13,301,200],[13,375,159],[14,449,164],[12,267,346],[13,309,222],[12,334,349],[12,144,462],[13,378,331],[13,386,342],[12,193,440],[13,391,390],[12,290,362],[12,282,354],[13,381,289],[14,473,347],[13,340,282],[12,302,340],[13,469,309],[14,502,174],[13,427,436],[13,428,336],[13,417,257],[13,375,233],[13,384,230],[13,272,309],[13,394,288],[12,272,279],[13,283,316],[13,268,265],[12,276,280],[13,376,337],[13,380,359],[12,350,309],[14,550,234],[12,219,517],[12,256,375],[12,262,418],[14,591,240],[12,196,431],[12,298,389],[12,349,408],[12,358,402],[12,268,253],[13,356,311],[13,296,383],[12,217,315],[13,502,300],[13,344,258],[13,405,307],[14,392,272],[12,187,410],[13,337,318],[12,361,311],[12,184,263],[14,436,286],[13,339,295],[12,313,320],[13,404,189],[13,433,358],[12,197,459],[12,316,315],[12,249,327],[12,196,280],[13,377,330],[12,333,388],[13,468,326],[13,369,282],[12,266,364],[13,388,263],[14,347,298],[13,323,211],[12,254,335],[14,591,421],[12,319,427],[13,286,276],[12,230,338],[13,481,292],[13,238,355],[13,497,371],[12,231,345],[12,307,321],[12,353,341],[12,307,328],[13,498,166],[13,438,387],[14,378,307],[12,260,358],[13,461,345],[12,280,366],[13,425,468],[13,149,411],[13,340,293],[13,416,308],[12,165,414],[12,275,424],[12,329,405],[12,245,475]],\"fillcolor\":\"rgba(255,255,255,0)\",\"hoveron\":\"points\",\"hovertemplate\":\"\\u003cb\\u003e%{hovertext}\\u003c\\u002fb\\u003e\\u003cbr\\u003e\\u003cbr\\u003eseason=2009\\u003cbr\\u003eexpected wins=%{x}\\u003cbr\\u003ewins=%{y}\\u003cbr\\u003egames=%{customdata[0]}\\u003cbr\\u003epoints scored=%{customdata[1]}\\u003cbr\\u003epoints allowed=%{customdata[2]}\\u003cextra\\u003e\\u003c\\u002fextra\\u003e\",\"hovertext\":[\"Virginia\",\"Wisconsin\",\"Ohio State\",\"NC State\",\"Nebraska\",\"Iowa State\",\"Virginia Tech\",\"Toledo\",\"Kent State\",\"Temple\",\"USF\",\"Bowling Green\",\"BYU\",\"Buffalo\",\"Central Michigan\",\"Western Michigan\",\"Northern Illinois\",\"Oregon State\",\"Fresno State\",\"Tulsa\",\"Air Force\",\"Boston College\",\"Michigan\",\"Iowa\",\"Penn State\",\"Alabama\",\"Colorado\",\"North Carolina\",\"Purdue\",\"Washington State\",\"California\",\"Michigan State\",\"Tulane\",\"Florida State\",\"Illinois\",\"Indiana\",\"Tennessee\",\"Georgia Tech\",\"West Virginia\",\"Duke\",\"Oregon\",\"Florida\",\"Texas A&M\",\"Southern Miss\",\"Pittsburgh\",\"Rutgers\",\"Ole Miss\",\"Minnesota\",\"Miami (FL)\",\"Arkansas State\",\"Marshall\",\"South Carolina\",\"Kansas State\",\"Georgia\",\"SMU\",\"Louisiana Tech\",\"Texas\",\"Rice\",\"Maryland\",\"Memphis\",\"Boise State\",\"New Mexico\",\"UNLV\",\"Utah State\",\"UTEP\",\"Arizona State\",\"Arizona\",\"Hawaii\",\"Louisville\",\"Cincinnati\",\"USC\",\"Connecticut\",\"Navy\",\"Miami (OH)\",\"Northwestern\",\"Notre Dame\",\"Army\",\"Clemson\",\"Kentucky\",\"Washington\",\"Oklahoma\",\"Auburn\",\"Eastern Michigan\",\"Wake Forest\",\"Baylor\",\"Vanderbilt\",\"Missouri\",\"UAB\",\"Arkansas\",\"Oklahoma State\",\"UL-Lafayette\",\"Utah\",\"Ohio\",\"LSU\",\"Syracuse\",\"Houston\",\"North Texas\",\"UCLA\",\"Ball State\",\"Texas Tech\",\"Wyoming\",\"Nevada\",\"Akron\",\"Mississippi State\",\"Kansas\",\"UL-Monroe\",\"TCU\",\"Troy\",\"East Carolina\",\"Colorado State\",\"Stanford\",\"San Diego State\",\"Idaho\",\"New Mexico State\",\"UCF\",\"Middle Tennessee\",\"San Jose State\",\"FIU\",\"Florida Atlantic\",\"Western Kentucky\"],\"legendgroup\":\"2009\",\"line\":{\"color\":\"rgba(255,255,255,0)\"},\"marker\":{\"color\":\"#B6E880\"},\"name\":\"2009\",\"offsetgroup\":\"2009\",\"orientation\":\"v\",\"pointpos\":0,\"showlegend\":true,\"x\":[3.8961734067037783,9.231278265961244,11.432851393236536,5.8073715019297785,12.453019548935712,6.025404807453706,10.973211027589816,4.3463647247785016,4.928796080039556,8.586155675056876,8.66049156783428,6.775332191032744,9.948297974059775,6.099086671428028,11.192829689549201,5.231157028450141,8.584618655134893,8.228186563388014,7.836158838110376,6.480829987560584,10.65047282138478,8.196543692784942,6.49800392768747,9.423544767529984,11.495522197211239,12.821586129321501,4.213000320192053,8.92412666517235,5.687932948171892,0.7123927854991514,7.514349238708689,7.425868473588478,1.4906143811146308,6.519724662141363,4.458583275403978,4.421283202856301,8.555781654872552,9.460033656882231,7.9175282387319275,5.162829829414446,9.475342770571388,12.948849072831504,6.339372191959501,8.314620406602142,9.866760250446625,9.82075329596061,10.024855356856204,5.525041117528623,8.808718164537067,5.819391501791889,5.6552549723691605,6.586703089896524,5.897705989658601,7.338768895311457,6.937217188840853,6.879467314279058,12.368128370523987,1.3859881953433537,3.456918624671668,2.980910667351088,12.520667508612835,1.6059132968304664,4.165851535462909,4.901962368166488,5.18096017647237,6.408883439142187,7.5320916785639405,4.574720586536104,3.5100807997947525,10.037095674721929,8.633843045921864,8.56040161234467,9.855185309454797,1.6156464572608895,6.946284730341159,7.049102874892501,3.601740425442055,10.232924726031287,7.561254411565617,5.842778403761305,11.156589363543223,7.940736894938941,1.4245790537419996,6.022535570582045,4.127125075723963,3.6049871445266595,7.517180008523084,4.924878670167719,9.126226126523665,8.503764004592382,3.867216046026546,9.299724761842768,8.249236986084238,9.527053781151695,4.099645439905523,9.671206327145542,4.00552719421966,6.773976828175934,3.438179295027338,9.951092276807712,3.631682012483746,8.666124384774959,3.345000484012817,5.683235888893687,6.24576588395141,5.530522387059554,12.104300516461329,7.446743451701964,8.691611572222229,3.8288433479738524,8.648754202868293,4.157103552407875,5.760850744094305,1.0765819847258855,7.634197975133873,8.722070671167659,1.2184994783019025,3.1660423357485405,4.5515009637892785,2.068181068455598],\"x0\":\" \",\"xaxis\":\"x\",\"y\":[3,10,11,5,10,7,10,5,5,9,8,7,11,5,12,5,7,8,8,5,8,8,5,11,11,14,3,8,5,1,8,6,3,7,3,4,7,11,9,5,10,13,6,7,10,9,9,6,9,4,7,7,6,8,8,4,13,2,2,2,14,1,5,4,4,4,8,6,4,12,9,8,10,1,8,6,5,9,7,5,8,8,0,5,4,2,8,5,8,9,6,10,9,9,4,10,2,7,2,9,7,8,3,5,5,6,12,9,9,3,8,4,8,3,8,10,2,3,5,0],\"y0\":\" \",\"yaxis\":\"y\",\"type\":\"box\"},{\"alignmentgroup\":\"True\",\"boxpoints\":\"all\",\"customdata\":[[12,304,339],[13,539,267],[13,504,186],[13,414,277],[14,432,243],[12,260,346],[14,474,288],[13,363,371],[12,256,275],[12,300,229],[13,313,260],[12,255,403],[13,340,281],[12,170,334],[12,293,312],[12,388,286],[14,532,265],[12,293,322],[13,377,390],[13,538,394],[13,401,274],[13,240,254],[13,426,458],[13,376,221],[13,319,308],[13,464,176],[12,290,369],[13,329,302],[12,236,345],[12,235,430],[12,310,271],[13,383,290],[12,299,446],[14,439,275],[13,423,305],[12,326,408],[13,351,326],[13,338,328],[13,327,176],[12,303,425],[13,611,243],[13,388,277],[13,406,285],[13,479,384],[13,342,247],[12,250,318],[12,367,422],[12,278,396],[13,342,269],[12,360,369],[12,250,345],[14,433,324],[13,437,378],[13,417,287],[14,360,359],[12,321,368],[12,285,284],[12,344,462],[13,419,288],[12,173,478],[13,586,166],[12,190,532],[13,239,516],[12,264,405],[13,338,357],[12,387,300],[13,367,295],[14,554,357],[13,343,252],[12,325,336],[13,403,347],[13,343,286],[13,386,303],[14,302,325],[13,343,377],[13,342,263],[13,346,316],[13,312,244],[13,406,369],[13,284,381],[14,521,305],[14,577,337],[12,228,527],[12,273,430],[13,405,396],[12,203,374],[13,388,209],[12,316,379],[13,474,304],[13,575,343],[12,268,444],[13,430,264],[13,357,309],[13,386,237],[13,288,251],[12,452,386],[12,287,356],[12,242,364],[12,264,365],[13,430,402],[12,230,364],[14,574,300],[12,187,421],[13,377,258],[12,205,413],[12,250,389],[13,541,156],[13,443,393],[13,478,572],[12,198,416],[13,524,226],[13,455,287],[13,346,368],[12,188,474],[14,449,240],[13,344,365],[13,209,451],[13,374,355],[12,202,351],[12,274,398]],\"fillcolor\":\"rgba(255,255,255,0)\",\"hoveron\":\"points\",\"hovertemplate\":\"\\u003cb\\u003e%{hovertext}\\u003c\\u002fb\\u003e\\u003cbr\\u003e\\u003cbr\\u003eseason=2010\\u003cbr\\u003eexpected wins=%{x}\\u003cbr\\u003ewins=%{y}\\u003cbr\\u003egames=%{customdata[0]}\\u003cbr\\u003epoints scored=%{customdata[1]}\\u003cbr\\u003epoints allowed=%{customdata[2]}\\u003cextra\\u003e\\u003c\\u002fextra\\u003e\",\"hovertext\":[\"Virginia\",\"Wisconsin\",\"Ohio State\",\"NC State\",\"Nebraska\",\"Iowa State\",\"Virginia Tech\",\"Toledo\",\"Kent State\",\"Temple\",\"USF\",\"Bowling Green\",\"BYU\",\"Buffalo\",\"Central Michigan\",\"Western Michigan\",\"Northern Illinois\",\"Oregon State\",\"Fresno State\",\"Tulsa\",\"Air Force\",\"Boston College\",\"Michigan\",\"Iowa\",\"Penn State\",\"Alabama\",\"Colorado\",\"North Carolina\",\"Purdue\",\"Washington State\",\"California\",\"Michigan State\",\"Tulane\",\"Florida State\",\"Illinois\",\"Indiana\",\"Tennessee\",\"Georgia Tech\",\"West Virginia\",\"Duke\",\"Oregon\",\"Florida\",\"Texas A&M\",\"Southern Miss\",\"Pittsburgh\",\"Rutgers\",\"Ole Miss\",\"Minnesota\",\"Miami (FL)\",\"Arkansas State\",\"Marshall\",\"South Carolina\",\"Kansas State\",\"Georgia\",\"SMU\",\"Louisiana Tech\",\"Texas\",\"Rice\",\"Maryland\",\"Memphis\",\"Boise State\",\"New Mexico\",\"UNLV\",\"Utah State\",\"UTEP\",\"Arizona State\",\"Arizona\",\"Hawaii\",\"Louisville\",\"Cincinnati\",\"USC\",\"Connecticut\",\"Navy\",\"Miami (OH)\",\"Northwestern\",\"Notre Dame\",\"Army\",\"Clemson\",\"Kentucky\",\"Washington\",\"Oklahoma\",\"Auburn\",\"Eastern Michigan\",\"Wake Forest\",\"Baylor\",\"Vanderbilt\",\"Missouri\",\"UAB\",\"Arkansas\",\"Oklahoma State\",\"UL-Lafayette\",\"Utah\",\"Ohio\",\"LSU\",\"Syracuse\",\"Houston\",\"North Texas\",\"UCLA\",\"Ball State\",\"Texas Tech\",\"Wyoming\",\"Nevada\",\"Akron\",\"Mississippi State\",\"Kansas\",\"UL-Monroe\",\"TCU\",\"Troy\",\"East Carolina\",\"Colorado State\",\"Stanford\",\"San Diego State\",\"Idaho\",\"New Mexico State\",\"UCF\",\"Middle Tennessee\",\"San Jose State\",\"FIU\",\"Florida Atlantic\",\"Western Kentucky\"],\"legendgroup\":\"2010\",\"line\":{\"color\":\"rgba(255,255,255,0)\"},\"marker\":{\"color\":\"#FF97FF\"},\"name\":\"2010\",\"offsetgroup\":\"2010\",\"orientation\":\"v\",\"pointpos\":0,\"showlegend\":true,\"x\":[5.229484262097273,10.931537848111443,11.880980653283162,9.380718590219779,11.148847937276148,4.042519130245989,10.711395878417783,6.332128781997123,5.492186881372203,7.8571590275679295,7.906395005380935,3.031445265631806,7.943565216328025,2.014837226080121,5.554098222693204,8.078896212597883,11.747661863750793,5.331749592977852,6.239013684803801,8.796035592667026,9.249218839921527,6.063959967480087,5.943475083404232,10.12617702956737,6.770135206129588,11.812684807722254,4.332155673922536,7.157316218992055,3.4688059883626834,2.3135342835356596,6.947956403115774,8.568121961476738,3.3521600416690935,10.525933103320872,8.900193256308901,4.441287919826561,7.0676788529421355,6.731226081806017,10.566105307269329,3.7154190953384454,11.685891974866745,8.965944241458356,9.076371489671997,8.164793404060719,8.889289074355357,4.3342897822423145,5.016099259309703,3.62223573997701,8.301027627986521,5.824485612917771,3.8150641511859615,9.315081653328463,7.606291110912976,9.203331306240417,7.0230736448019035,5.036879138813092,6.024991093861066,3.984492732574508,9.21164818287877,0.9901616298585558,12.377182764375284,0.9618997254415085,1.8063251182297522,3.193874096151462,6.079339912057377,7.75748534993056,8.145550089892179,10.347806191952998,8.774391711825823,5.7634593578539155,7.640460828606786,7.878594364121216,8.315277540185889,6.392692869616056,5.775029024523788,8.460219306591082,7.195912837089816,8.341737074627137,7.232894333954239,4.324040743084489,10.927974104480105,10.941144608704583,1.4485297174912768,3.0495203888289915,6.673056265092904,2.28336696620062,10.562328504505054,4.727075490415456,9.636823680736358,10.046962017357576,2.7852558944079835,9.888272853507582,7.601470066976489,9.887942567654541,7.549876296278951,7.1093691244527975,4.500598074323794,3.3046154633201237,3.8035732232980384,7.017535543107676,3.0239257776167046,11.523958711747476,1.529911757751694,9.239422581039214,1.9170841291761773,3.1157257406825956,12.351730503043287,7.416309344239233,5.137674217471364,1.7621887548252704,11.440874507387788,9.734178797308012,6.026028580371056,1.2059863591596731,11.413581689536286,6.044331655079035,1.8082063427725734,6.9010827974558655,2.550908745688327,3.5062645636356002],\"x0\":\" \",\"xaxis\":\"x\",\"y\":[4,11,12,9,10,5,11,8,5,8,8,2,7,2,3,6,11,5,8,10,9,7,7,8,7,10,5,8,4,2,5,11,4,10,7,5,6,6,9,3,12,8,9,8,8,4,4,3,7,4,5,9,7,6,7,5,5,4,9,1,12,1,2,4,6,6,7,10,7,4,8,8,9,10,7,8,7,6,6,7,12,14,2,3,7,2,10,4,10,11,3,10,8,11,8,5,3,4,4,8,3,13,1,9,3,5,13,8,6,3,12,9,6,2,11,6,1,7,4,2],\"y0\":\" \",\"yaxis\":\"y\",\"type\":\"box\"},{\"alignmentgroup\":\"True\",\"boxpoints\":\"all\",\"customdata\":[[13,302,310],[14,618,266],[13,318,273],[13,367,321],[13,379,304],[13,295,382],[14,391,247],[13,549,412],[12,205,291],[13,398,181],[12,351,272],[12,318,346],[13,391,265],[12,266,353],[12,271,400],[13,459,373],[14,536,424],[12,262,370],[13,371,457],[13,430,355],[13,454,369],[12,218,282],[13,433,226],[13,358,310],[13,251,218],[13,453,106],[13,257,475],[13,364,323],[13,350,349],[12,358,381],[13,368,314],[14,434,257],[13,274,487],[13,398,196],[13,294,255],[12,257,448],[12,244,271],[13,446,339],[13,489,348],[12,270,374],[14,645,345],[13,331,264],[13,508,366],[14,516,291],[13,315,297],[13,343,238],[12,193,385],[12,221,380],[12,318,241],[13,422,270],[13,284,372],[13,391,239],[13,413,363],[14,448,288],[13,336,300],[13,391,301],[13,365,289],[12,280,400],[12,277,411],[12,195,421],[13,575,243],[12,144,500],[12,207,485],[13,437,363],[12,319,364],[13,431,372],[12,369,425],[13,409,378],[13,285,261],[13,433,264],[12,429,283],[12,291,292],[12,356,347],[12,256,275],[13,376,360],[13,380,269],[12,298,339],[14,470,410],[12,190,296],[13,434,467],[13,514,287],[13,334,376],[12,255,292],[13,338,356],[13,589,484],[13,347,281],[13,427,306],[12,242,441],[13,478,289],[13,633,348],[13,420,388],[13,325,263],[14,427,310],[14,500,158],[12,290,342],[14,690,314],[12,298,368],[14,323,439],[12,304,416],[12,406,471],[13,339,361],[13,412,327],[12,170,462],[13,329,256],[12,268,525],[12,295,305],[13,531,279],[12,269,404],[12,315,387],[12,257,375],[13,561,285],[13,387,325],[12,243,399],[13,319,478],[12,325,220],[12,267,441],[12,294,364],[13,325,253],[12,155,416],[12,275,298]],\"fillcolor\":\"rgba(255,255,255,0)\",\"hoveron\":\"points\",\"hovertemplate\":\"\\u003cb\\u003e%{hovertext}\\u003c\\u002fb\\u003e\\u003cbr\\u003e\\u003cbr\\u003eseason=2011\\u003cbr\\u003eexpected wins=%{x}\\u003cbr\\u003ewins=%{y}\\u003cbr\\u003egames=%{customdata[0]}\\u003cbr\\u003epoints scored=%{customdata[1]}\\u003cbr\\u003epoints allowed=%{customdata[2]}\\u003cextra\\u003e\\u003c\\u002fextra\\u003e\",\"hovertext\":[\"Virginia\",\"Wisconsin\",\"Ohio State\",\"NC State\",\"Nebraska\",\"Iowa State\",\"Virginia Tech\",\"Toledo\",\"Kent State\",\"Temple\",\"USF\",\"Bowling Green\",\"BYU\",\"Buffalo\",\"Central Michigan\",\"Western Michigan\",\"Northern Illinois\",\"Oregon State\",\"Fresno State\",\"Tulsa\",\"Air Force\",\"Boston College\",\"Michigan\",\"Iowa\",\"Penn State\",\"Alabama\",\"Colorado\",\"North Carolina\",\"Purdue\",\"Washington State\",\"California\",\"Michigan State\",\"Tulane\",\"Florida State\",\"Illinois\",\"Indiana\",\"Tennessee\",\"Georgia Tech\",\"West Virginia\",\"Duke\",\"Oregon\",\"Florida\",\"Texas A&M\",\"Southern Miss\",\"Pittsburgh\",\"Rutgers\",\"Ole Miss\",\"Minnesota\",\"Miami (FL)\",\"Arkansas State\",\"Marshall\",\"South Carolina\",\"Kansas State\",\"Georgia\",\"SMU\",\"Louisiana Tech\",\"Texas\",\"Rice\",\"Maryland\",\"Memphis\",\"Boise State\",\"New Mexico\",\"UNLV\",\"Utah State\",\"UTEP\",\"Arizona State\",\"Arizona\",\"Hawaii\",\"Louisville\",\"Cincinnati\",\"USC\",\"Connecticut\",\"Navy\",\"Miami (OH)\",\"Northwestern\",\"Notre Dame\",\"Army\",\"Clemson\",\"Kentucky\",\"Washington\",\"Oklahoma\",\"Auburn\",\"Eastern Michigan\",\"Wake Forest\",\"Baylor\",\"Vanderbilt\",\"Missouri\",\"UAB\",\"Arkansas\",\"Oklahoma State\",\"UL-Lafayette\",\"Utah\",\"Ohio\",\"LSU\",\"Syracuse\",\"Houston\",\"North Texas\",\"UCLA\",\"Ball State\",\"Texas Tech\",\"Wyoming\",\"Nevada\",\"Akron\",\"Mississippi State\",\"Kansas\",\"UL-Monroe\",\"TCU\",\"Troy\",\"East Carolina\",\"Colorado State\",\"Stanford\",\"San Diego State\",\"Idaho\",\"New Mexico State\",\"UCF\",\"Middle Tennessee\",\"San Jose State\",\"FIU\",\"Florida Atlantic\",\"Western Kentucky\"],\"legendgroup\":\"2011\",\"line\":{\"color\":\"rgba(255,255,255,0)\"},\"marker\":{\"color\":\"#FECB52\"},\"name\":\"2011\",\"offsetgroup\":\"2011\",\"orientation\":\"v\",\"pointpos\":0,\"showlegend\":true,\"x\":[6.29868039103949,12.328057138255556,7.662602875056297,7.522951282524895,8.160837572193884,4.569313444800473,10.473616553228982,8.62967064952421,3.64312558589317,11.260123245977535,7.759707678282704,5.4019976171223,9.300517846211964,4.0602344117025915,3.412776268082891,8.066613679983329,8.895845885291592,3.6741950443262343,4.9260641706607435,7.951445537626458,8.065371287712619,4.224528453607239,10.70689374406478,7.59822426949316,7.575741944420644,12.59701416615938,2.458545205778189,7.414356873380848,6.522038557193707,5.55808765673042,7.7081025493509605,10.86229316790643,2.648638421969765,10.95562259910657,7.585915313781204,2.535714904327588,5.257624767607624,8.541533430273411,8.98683139661517,3.791972784037008,11.410191436549857,8.201522643853624,8.90543149566935,11.134936060228721,6.952485903296275,9.151243501636596,1.9551208588250024,2.6012995831883834,7.903284951538639,9.651006982185415,4.4890587623217035,9.912931776078366,7.486291423170718,10.363164269667344,7.367704108686153,8.452798525227678,8.2537881714359,3.6049871445266586,3.3825862556705397,1.6674108490530983,11.505854307871976,0.5967453176794209,1.408048979246495,7.906459623589033,5.0693185169633095,7.622553353752835,5.004693406828599,7.105359068305671,7.175135766118926,9.927105610435698,8.739431916361646,5.975609029821142,6.182002457761497,5.492186881372203,6.834647927330052,9.021594273292369,5.090536718169132,8.123105371448176,3.109077265725012,5.936939165804701,10.389171145078084,5.593597730284361,5.0448574913840645,6.100859875285317,7.9856082543435445,8.091968745961069,8.940917974651825,2.331701753650276,9.973549795341945,10.465106734908034,7.108630129403876,8.097043565110534,9.53561347055818,13.14305173613501,4.842055149714005,12.123760520432802,4.530361123024471,4.561247676446257,3.8672160460265452,4.954896099661719,6.016577639950857,8.236581271675218,1.0263890725915088,8.37741799070368,2.026511233987637,5.763101268981667,10.676964944115424,3.313206838518421,4.564747419413539,3.479702737425696,10.825379544183845,7.825985673195052,2.830816756750206,3.60338842289315,8.592152428998498,2.800702090931723,4.5130998033455425,8.374278583101674,1.0545530485999226,5.430626214274195],\"x0\":\" \",\"xaxis\":\"x\",\"y\":[8,11,6,8,9,6,11,9,5,9,5,5,10,3,3,7,11,3,4,8,7,4,11,7,9,12,3,7,7,4,7,11,2,9,7,1,5,8,10,3,12,7,7,12,6,9,2,3,6,10,7,11,10,10,8,8,8,4,2,2,12,1,2,7,5,6,4,6,7,10,10,5,5,4,6,8,3,10,5,7,10,8,6,6,10,6,8,3,11,12,9,8,10,13,5,13,5,6,6,5,8,7,1,7,2,4,11,3,5,3,11,8,2,4,5,2,5,8,1,7],\"y0\":\" \",\"yaxis\":\"y\",\"type\":\"box\"},{\"alignmentgroup\":\"True\",\"boxpoints\":\"all\",\"customdata\":[[12,273,347],[15,484,299],[12,446,274],[13,365,333],[15,518,456],[13,319,311],[13,326,297],[13,410,369],[15,500,387],[12,335,375],[12,247,329],[13,298,218],[13,373,182],[12,255,342],[13,375,421],[12,352,356],[15,584,315],[13,423,268],[13,493,310],[15,519,358],[13,356,377],[12,238,356],[13,388,258],[12,232,275],[12,349,229],[15,574,181],[12,214,552],[12,487,308],[13,373,406],[12,245,404],[12,276,397],[13,260,212],[12,257,461],[15,571,221],[12,200,385],[12,369,423],[12,434,428],[15,485,417],[13,513,495],[13,410,468],[13,645,281],[13,344,188],[13,578,283],[12,236,454],[13,346,274],[13,279,184],[13,409,359],[13,287,321],[12,377,366],[13,454,318],[12,491,517],[13,410,237],[13,505,288],[15,557,307],[13,397,334],[12,618,462],[13,464,380],[13,414,390],[12,241,326],[12,293,363],[13,393,205],[13,335,393],[13,286,424],[13,454,200],[12,254,357],[13,499,316],[13,496,459],[12,254,428],[13,405,309],[13,420,240],[13,417,316],[12,213,238],[13,325,334],[12,280,419],[13,412,293],[13,335,166],[13,323,487],[13,533,323],[12,215,372],[13,312,314],[13,496,331],[12,224,340],[12,256,451],[12,222,382],[13,578,484],[13,390,243],[12,309,341],[12,339,450],[12,282,365],[13,594,367],[13,461,365],[12,320,301],[13,412,322],[13,387,228],[13,390,322],[12,389,432],[12,251,334],[15,506,413],[13,437,416],[13,487,413],[12,322,401],[13,492,439],[12,313,428],[13,383,303],[12,219,433],[13,440,379],[13,368,294],[12,367,366],[13,409,411],[12,254,363],[15,417,265],[13,427,317],[12,190,509],[12,224,473],[15,523,342],[12,319,336],[13,452,277],[12,300,380],[12,246,370],[13,366,331],[13,240,383],[12,374,345],[12,152,482],[12,343,402]],\"fillcolor\":\"rgba(255,255,255,0)\",\"hoveron\":\"points\",\"hovertemplate\":\"\\u003cb\\u003e%{hovertext}\\u003c\\u002fb\\u003e\\u003cbr\\u003e\\u003cbr\\u003eseason=2012\\u003cbr\\u003eexpected wins=%{x}\\u003cbr\\u003ewins=%{y}\\u003cbr\\u003egames=%{customdata[0]}\\u003cbr\\u003epoints scored=%{customdata[1]}\\u003cbr\\u003epoints allowed=%{customdata[2]}\\u003cextra\\u003e\\u003c\\u002fextra\\u003e\",\"hovertext\":[\"Virginia\",\"Wisconsin\",\"Ohio State\",\"NC State\",\"Nebraska\",\"Iowa State\",\"Virginia Tech\",\"Toledo\",\"Kent State\",\"Temple\",\"USF\",\"Bowling Green\",\"BYU\",\"Buffalo\",\"Central Michigan\",\"Western Michigan\",\"Northern Illinois\",\"Oregon State\",\"Fresno State\",\"Tulsa\",\"Air Force\",\"Boston College\",\"Michigan\",\"Iowa\",\"Penn State\",\"Alabama\",\"Colorado\",\"North Carolina\",\"Purdue\",\"Washington State\",\"California\",\"Michigan State\",\"Tulane\",\"Florida State\",\"Illinois\",\"Indiana\",\"Tennessee\",\"Georgia Tech\",\"West Virginia\",\"Duke\",\"Oregon\",\"Florida\",\"Texas A&M\",\"Southern Miss\",\"Pittsburgh\",\"Rutgers\",\"Ole Miss\",\"Minnesota\",\"Miami (FL)\",\"Arkansas State\",\"Marshall\",\"South Carolina\",\"Kansas State\",\"Georgia\",\"SMU\",\"Louisiana Tech\",\"Texas\",\"Rice\",\"Maryland\",\"Memphis\",\"Boise State\",\"New Mexico\",\"UNLV\",\"Utah State\",\"UTEP\",\"Arizona State\",\"Arizona\",\"Hawaii\",\"Louisville\",\"Cincinnati\",\"USC\",\"Connecticut\",\"Navy\",\"Miami (OH)\",\"Northwestern\",\"Notre Dame\",\"Army\",\"Clemson\",\"Kentucky\",\"Washington\",\"Oklahoma\",\"Auburn\",\"Eastern Michigan\",\"Wake Forest\",\"Baylor\",\"Vanderbilt\",\"Missouri\",\"UAB\",\"Arkansas\",\"Oklahoma State\",\"UL-Lafayette\",\"Utah\",\"Ohio\",\"LSU\",\"Syracuse\",\"Houston\",\"North Texas\",\"UCLA\",\"Ball State\",\"Texas Tech\",\"Wyoming\",\"Nevada\",\"Akron\",\"Mississippi State\",\"Kansas\",\"UL-Monroe\",\"TCU\",\"Troy\",\"East Carolina\",\"Colorado State\",\"Stanford\",\"San Diego State\",\"Idaho\",\"New Mexico State\",\"UCF\",\"Middle Tennessee\",\"San Jose State\",\"FIU\",\"Florida Atlantic\",\"Western Kentucky\",\"South Alabama\",\"UTSA\",\"Massachusetts\",\"Texas State\"],\"legendgroup\":\"2012\",\"line\":{\"color\":\"rgba(255,255,255,0)\"},\"marker\":{\"color\":\"#636efa\"},\"name\":\"2012\",\"offsetgroup\":\"2012\",\"orientation\":\"v\",\"pointpos\":0,\"showlegend\":true,\"x\":[4.339130313725218,11.369296386175076,9.124293971259757,7.203969885057866,8.624459291358967,6.695570516095936,7.214703952741099,7.307348720830651,9.709372066917854,5.202766107145747,4.036725311375039,8.803385584145442,10.993046449542161,3.9931771430878116,5.614311640966923,5.9196649632135845,12.180022435679364,9.708437361861268,9.75223737647333,10.60279652778292,6.059212944591289,3.336240117089879,9.418952269581276,4.807159086639618,8.769397159169195,14.086161006256471,1.1486047574838332,8.971192167998879,5.849210312163818,2.809053559823845,3.5641148015310673,8.042093913104297,2.402787748491015,13.569326882609385,2.0972690206913818,5.037338253044419,6.098971738843439,8.828410358394366,6.774954358721859,5.489143125609935,11.40785876524631,10.49367119283637,10.979151905910875,2.0999799567202633,8.252645453774878,9.469339456561958,7.496432933905324,5.642660825098623,6.210453911261216,9.090522303817293,5.633589424266873,10.213644239620844,10.283050340540255,12.060864678085627,7.81266118066992,7.990238517104848,8.010201903371899,6.95922106657788,3.939351063435364,4.508722094490329,10.709564279288214,5.284543486679564,3.669672494156132,11.37068404449412,3.70299772584294,9.711225301693219,7.095467580248772,2.700257106741865,8.515301706730968,10.272940580909685,8.562512423765451,5.21546040943011,6.28967342113974,3.3338358411209357,8.991371561573255,10.930201193797297,3.5652902046186905,9.960792321096498,2.5712602272809155,6.450783520730412,9.39684565789759,3.253315768559001,2.4859652196437327,2.597753845313563,7.847300514415223,9.80477535420916,5.302539272229746,4.058479078121869,4.220777704702872,9.852690029574562,8.25400259326847,6.43444664895031,8.346247565043697,10.113704146376511,7.95091694903765,5.258355355887458,4.042958088095061,9.27089680954341,6.878902167027327,7.753600162264193,4.474222820348103,7.372625682444979,3.871798871500951,8.259725096986443,1.9898365607554789,7.637674083013457,8.189562722903037,6.019399671581882,6.462427173249797,3.6026348477847217,11.181647177543114,8.7036622375235,1.0587464619241742,1.7443378530681877,10.985627034617712,5.631313479666786,9.89851868329874,4.361899263938416,3.304868988063417,7.270575790158893,3.2278294880768783,6.572114489628845,0.7311831004328738,4.884610890606233],\"x0\":\" \",\"xaxis\":\"x\",\"y\":[4,9,12,7,10,6,7,9,11,5,3,8,8,4,7,4,13,9,9,12,6,2,8,4,8,14,1,8,6,3,3,7,2,13,2,4,5,7,7,6,12,11,11,0,6,9,7,6,7,10,5,11,11,12,7,9,9,7,4,4,11,4,2,11,3,8,8,3,11,10,7,5,8,4,10,12,2,11,2,7,10,3,2,5,8,9,5,3,4,8,9,5,9,10,8,5,4,9,9,8,4,7,1,8,1,8,7,5,8,4,13,9,1,1,10,8,11,3,3,7,2,8,1,4],\"y0\":\" \",\"yaxis\":\"y\",\"type\":\"box\"},{\"alignmentgroup\":\"True\",\"boxpoints\":\"all\",\"customdata\":[[12,237,399],[13,453,212],[15,661,351],[12,274,362],[14,439,342],[12,298,432],[13,293,251],[12,396,343],[12,249,323],[12,299,358],[12,165,343],[15,534,249],[13,392,287],[13,394,317],[12,279,343],[12,206,425],[15,582,398],[13,452,408],[14,588,411],[12,253,407],[12,296,480],[13,360,376],[13,419,349],[13,342,246],[12,344,314],[13,496,181],[12,305,459],[13,425,318],[12,179,456],[13,403,423],[12,276,551],[15,445,209],[14,343,302],[15,768,177],[12,356,425],[12,461,466],[12,286,348],[13,456,297],[12,316,400],[15,466,418],[13,591,266],[12,226,253],[13,575,419],[12,205,503],[13,342,353],[13,345,387],[13,390,308],[13,334,289],[13,440,348],[13,379,340],[15,614,362],[13,443,264],[13,432,298],[14,496,401],[12,321,400],[12,230,315],[13,381,336],[15,456,366],[13,340,329],[12,234,295],[13,488,323],[12,393,513],[13,389,414],[15,462,263],[12,261,472],[15,570,411],[13,435,315],[12,329,465],[13,457,158],[13,417,273],[14,416,297],[12,247,363],[13,436,317],[12,117,428],[12,314,325],[13,354,291],[12,293,379],[13,522,288],[12,246,374],[13,493,297],[13,427,287],[15,612,388],[12,226,542],[12,220,289],[13,681,306],[13,391,320],[15,590,382],[12,315,525],[12,248,369],[13,508,281],[14,463,365],[12,350,336],[13,356,357],[13,465,286],[13,295,330],[13,431,283],[13,414,231],[13,480,301],[13,501,321],[13,465,397],[12,375,440],[12,323,413],[12,242,343],[13,360,299],[12,184,382],[12,267,362],[12,301,303],[12,409,431],[13,522,322],[14,507,417],[15,490,280],[13,387,412],[12,218,561],[12,251,535],[13,450,277],[13,377,341],[12,389,421],[12,117,444],[12,317,267],[12,370,295],[12,353,302],[12,307,316],[12,140,396],[12,287,328],[12,225,440]],\"fillcolor\":\"rgba(255,255,255,0)\",\"hoveron\":\"points\",\"hovertemplate\":\"\\u003cb\\u003e%{hovertext}\\u003c\\u002fb\\u003e\\u003cbr\\u003e\\u003cbr\\u003eseason=2013\\u003cbr\\u003eexpected wins=%{x}\\u003cbr\\u003ewins=%{y}\\u003cbr\\u003egames=%{customdata[0]}\\u003cbr\\u003epoints scored=%{customdata[1]}\\u003cbr\\u003epoints allowed=%{customdata[2]}\\u003cextra\\u003e\\u003c\\u002fextra\\u003e\",\"hovertext\":[\"Virginia\",\"Wisconsin\",\"Ohio State\",\"NC State\",\"Nebraska\",\"Iowa State\",\"Virginia Tech\",\"Toledo\",\"Kent State\",\"Temple\",\"USF\",\"Bowling Green\",\"BYU\",\"Buffalo\",\"Central Michigan\",\"Western Michigan\",\"Northern Illinois\",\"Oregon State\",\"Fresno State\",\"Tulsa\",\"Air Force\",\"Boston College\",\"Michigan\",\"Iowa\",\"Penn State\",\"Alabama\",\"Colorado\",\"North Carolina\",\"Purdue\",\"Washington State\",\"California\",\"Michigan State\",\"Tulane\",\"Florida State\",\"Illinois\",\"Indiana\",\"Tennessee\",\"Georgia Tech\",\"West Virginia\",\"Duke\",\"Oregon\",\"Florida\",\"Texas A&M\",\"Southern Miss\",\"Pittsburgh\",\"Rutgers\",\"Ole Miss\",\"Minnesota\",\"Miami (FL)\",\"Arkansas State\",\"Marshall\",\"South Carolina\",\"Kansas State\",\"Georgia\",\"SMU\",\"Louisiana Tech\",\"Texas\",\"Rice\",\"Maryland\",\"Memphis\",\"Boise State\",\"New Mexico\",\"UNLV\",\"Utah State\",\"UTEP\",\"Arizona State\",\"Arizona\",\"Hawaii\",\"Louisville\",\"Cincinnati\",\"USC\",\"Connecticut\",\"Navy\",\"Miami (OH)\",\"Northwestern\",\"Notre Dame\",\"Army\",\"Clemson\",\"Kentucky\",\"Washington\",\"Oklahoma\",\"Auburn\",\"Eastern Michigan\",\"Wake Forest\",\"Baylor\",\"Vanderbilt\",\"Missouri\",\"UAB\",\"Arkansas\",\"Oklahoma State\",\"UL-Lafayette\",\"Utah\",\"Ohio\",\"LSU\",\"Syracuse\",\"Houston\",\"North Texas\",\"UCLA\",\"Ball State\",\"Texas Tech\",\"Wyoming\",\"Nevada\",\"Akron\",\"Mississippi State\",\"Kansas\",\"UL-Monroe\",\"TCU\",\"Troy\",\"East Carolina\",\"Colorado State\",\"Stanford\",\"San Diego State\",\"Idaho\",\"New Mexico State\",\"UCF\",\"Middle Tennessee\",\"San Jose State\",\"FIU\",\"Florida Atlantic\",\"Western Kentucky\",\"South Alabama\",\"UTSA\",\"Massachusetts\",\"Texas State\",\"Georgia State\"],\"legendgroup\":\"2013\",\"line\":{\"color\":\"rgba(255,255,255,0)\"},\"marker\":{\"color\":\"#EF553B\"},\"name\":\"2013\",\"offsetgroup\":\"2013\",\"orientation\":\"v\",\"pointpos\":0,\"showlegend\":true,\"x\":[2.7046620207581364,11.155231628368476,12.26391523862746,4.088651146014887,9.012771114114603,3.5179914052253323,7.678552241022543,7.0118326445239285,4.206463019141128,4.738654496440083,1.800414162419043,12.887117016561904,8.797868867627079,8.138790939647865,4.56027986347584,1.8280489103718005,10.666226504629098,7.285001346577582,9.804347231282943,2.937127275183859,2.8952579801733034,6.16535207266995,7.886392321493862,8.916266626145246,6.64626131365671,11.907947400953937,3.3016522058597477,8.650017590313677,1.1796576983213387,6.127333797243147,1.9520942714553144,12.855938416225563,8.048043839515692,14.550962841040946,4.758587228100777,5.923304404703975,4.629549448674235,9.544918289166441,4.3662854362423404,8.460800220668846,11.296810425868294,5.202354059849737,8.829614608702808,1.2776989104886116,6.25627381447748,5.620560631046012,8.272172228376606,7.603862438493763,8.261652632166141,7.331832758674359,11.665184062455804,10.05226517582432,9.188842644339225,8.727243745702896,4.470143384096328,3.8620263838817106,7.461017787859956,9.410958345059301,6.7531906231565,4.393100141447933,9.44727520748288,4.165978023408042,6.021106564145612,11.875699253352046,2.365944748044783,10.269321304274833,8.871621690737237,3.669235798058975,12.029359504811323,9.513889633716921,9.655385761839884,3.437900755294038,8.844646654997113,0.5304274518564374,5.755322849160558,7.982924229292378,4.224842528502277,10.44784132568067,3.2441930206931584,9.993276509985215,9.352509378972886,11.197616552334823,1.3408529321513525,4.125252296153931,11.302616019074105,8.015106877011348,11.054446713660173,2.7550184528467243,3.3665349695251465,10.435274652155206,8.922173898259958,6.290018197292602,6.478394174803416,9.878217812840537,5.641462074666101,9.496003946544413,10.39266654675591,9.768027059555504,9.642642536502713,7.7037232146893135,4.876876350482093,4.300194569768852,3.6522750933848966,7.9074147489117115,1.8051345154730032,3.9249710954604806,5.95291470179618,5.627964135621706,9.861718342779877,8.592678825185944,11.853392977972714,6.018716294124941,1.1543932099454237,1.7115115385238544,9.873630716202333,7.269419557428848,5.439568110165061,0.4880364495882121,7.203895466085315,7.57300947785844,7.096977866104192,5.794640593122276,0.9408244712274507,5.0584370657739175,2.0334541858802195],\"x0\":\" \",\"xaxis\":\"x\",\"y\":[2,9,12,3,10,3,8,7,4,2,2,11,8,8,6,1,12,7,12,3,2,7,7,8,7,11,4,7,1,6,1,14,7,15,4,5,5,7,4,10,11,4,9,1,7,6,8,8,9,8,10,11,8,8,5,4,8,11,7,3,8,3,7,9,2,10,8,1,12,9,10,3,9,0,5,9,3,11,2,9,11,13,2,4,11,9,12,2,3,10,10,5,7,10,7,8,9,10,10,8,5,4,5,7,3,6,4,6,10,8,12,8,1,2,12,8,6,1,6,8,6,7,1,6,0],\"y0\":\" \",\"yaxis\":\"y\",\"type\":\"box\"},{\"alignmentgroup\":\"True\",\"boxpoints\":\"all\",\"customdata\":[[12,310,289],[14,484,291],[15,672,330],[13,392,351],[13,491,343],[12,278,466],[13,313,262],[13,476,396],[11,180,319],[12,277,210],[12,206,324],[14,420,469],[13,482,358],[11,355,347],[13,350,327],[13,439,324],[14,441,359],[12,308,379],[14,371,454],[12,296,471],[13,409,314],[13,341,277],[12,251,269],[13,367,333],[13,268,242],[14,517,258],[12,342,468],[13,432,507],[12,286,380],[12,382,463],[12,459,477],[13,559,280],[12,192,341],[14,472,358],[13,337,442],[12,301,394],[13,376,315],[14,530,360],[13,435,359],[13,421,283],[15,681,354],[12,363,253],[13,458,365],[12,228,425],[13,414,342],[13,347,392],[13,368,208],[13,369,314],[13,380,316],[13,477,396],[14,638,294],[13,424,395],[13,465,301],[13,537,269],[12,133,496],[14,523,346],[13,278,310],[13,374,370],[13,370,392],[13,471,253],[14,556,375],[12,332,431],[13,285,500],[14,377,276],[13,346,365],[13,480,363],[14,483,395],[13,272,349],[13,405,283],[13,442,354],[13,466,327],[12,186,358],[13,414,355],[12,268,382],[12,276,302],[13,427,379],[12,299,395],[13,401,217],[12,350,375],[14,423,347],[13,473,337],[13,461,347],[12,182,491],[12,178,317],[13,627,332],[12,206,399],[14,389,295],[12,398,359],[13,415,250],[13,359,406],[13,383,338],[13,407,324],[12,246,298],[13,359,228],[12,205,292],[13,387,268],[12,326,358],[13,435,365],[12,332,326],[12,366,495],[12,253,394],[13,379,354],[12,271,277],[13,480,282],[12,214,399],[12,241,315],[13,604,247],[12,262,434],[13,466,336],[13,441,326],[13,353,213],[13,325,258],[11,275,410],[12,294,469],[13,365,249],[12,379,378],[12,232,353],[12,276,298],[12,288,413],[13,577,519],[13,293,343],[12,205,311],[12,328,396],[12,406,332],[12,272,520],[12,392,456],[12,469,281],[12,428,328]],\"fillcolor\":\"rgba(255,255,255,0)\",\"hoveron\":\"points\",\"hovertemplate\":\"\\u003cb\\u003e%{hovertext}\\u003c\\u002fb\\u003e\\u003cbr\\u003e\\u003cbr\\u003eseason=2014\\u003cbr\\u003eexpected wins=%{x}\\u003cbr\\u003ewins=%{y}\\u003cbr\\u003egames=%{customdata[0]}\\u003cbr\\u003epoints scored=%{customdata[1]}\\u003cbr\\u003epoints allowed=%{customdata[2]}\\u003cextra\\u003e\\u003c\\u002fextra\\u003e\",\"hovertext\":[\"Virginia\",\"Wisconsin\",\"Ohio State\",\"NC State\",\"Nebraska\",\"Iowa State\",\"Virginia Tech\",\"Toledo\",\"Kent State\",\"Temple\",\"USF\",\"Bowling Green\",\"BYU\",\"Buffalo\",\"Central Michigan\",\"Western Michigan\",\"Northern Illinois\",\"Oregon State\",\"Fresno State\",\"Tulsa\",\"Air Force\",\"Boston College\",\"Michigan\",\"Iowa\",\"Penn State\",\"Alabama\",\"Colorado\",\"North Carolina\",\"Purdue\",\"Washington State\",\"California\",\"Michigan State\",\"Tulane\",\"Florida State\",\"Illinois\",\"Indiana\",\"Tennessee\",\"Georgia Tech\",\"West Virginia\",\"Duke\",\"Oregon\",\"Florida\",\"Texas A&M\",\"Southern Miss\",\"Pittsburgh\",\"Rutgers\",\"Ole Miss\",\"Minnesota\",\"Miami (FL)\",\"Arkansas State\",\"Marshall\",\"South Carolina\",\"Kansas State\",\"Georgia\",\"SMU\",\"Louisiana Tech\",\"Texas\",\"Rice\",\"Maryland\",\"Memphis\",\"Boise State\",\"New Mexico\",\"UNLV\",\"Utah State\",\"UTEP\",\"Arizona State\",\"Arizona\",\"Hawaii\",\"Louisville\",\"Cincinnati\",\"USC\",\"Connecticut\",\"Navy\",\"Miami (OH)\",\"Northwestern\",\"Notre Dame\",\"Army\",\"Clemson\",\"Kentucky\",\"Washington\",\"Oklahoma\",\"Auburn\",\"Eastern Michigan\",\"Wake Forest\",\"Baylor\",\"Vanderbilt\",\"Missouri\",\"UAB\",\"Arkansas\",\"Oklahoma State\",\"UL-Lafayette\",\"Utah\",\"Ohio\",\"LSU\",\"Syracuse\",\"Houston\",\"North Texas\",\"UCLA\",\"Ball State\",\"Texas Tech\",\"Wyoming\",\"Nevada\",\"Akron\",\"Mississippi State\",\"Kansas\",\"UL-Monroe\",\"TCU\",\"Troy\",\"East Carolina\",\"Colorado State\",\"Stanford\",\"San Diego State\",\"Idaho\",\"New Mexico State\",\"UCF\",\"Middle Tennessee\",\"San Jose State\",\"FIU\",\"Florida Atlantic\",\"Western Kentucky\",\"South Alabama\",\"UTSA\",\"Massachusetts\",\"Texas State\",\"Georgia State\",\"Old Dominion\",\"Georgia Southern\",\"Appalachian State\"],\"legendgroup\":\"2014\",\"line\":{\"color\":\"rgba(255,255,255,0)\"},\"marker\":{\"color\":\"#00cc96\"},\"name\":\"2014\",\"offsetgroup\":\"2014\",\"orientation\":\"v\",\"pointpos\":0,\"showlegend\":true,\"x\":[6.497589801464795,10.773682810214881,12.654397878507545,7.346110297440275,9.107785777453902,2.7262560605652366,7.85002571979074,7.895246279259687,2.253453197880432,7.901081908743593,3.057322262283775,6.089844489753109,8.700449971598253,5.6485173256692445,7.022432550836411,8.7436091751542,8.673448045186754,4.55413192802062,5.356517678527599,2.9949415002347077,8.471873925992771,8.069465911330633,5.508675130617628,7.24553672155374,7.2822250933385755,11.739451095449613,3.8672160460265452,5.281523399230777,4.052548745460205,4.655887922502962,5.7266940059346965,10.885340009024675,2.4483541835150597,9.214465984396114,4.479957187973425,4.1481130690791,7.843817357047513,10.001031974690836,7.954052288919287,9.351788782090315,12.375025054099673,8.420890682394448,8.207279313212181,2.2325660081617342,7.946964596030805,5.567262298989973,10.328339455378527,7.728270681676677,7.8983715813627,7.9106579618867325,12.074944297723642,7.0444258322751345,9.581865390600122,10.885032995559294,0.5077409852980612,10.177148275561748,5.665435385909427,6.582818896545151,6.0558059888048765,10.57543275652909,10.048721388741884,4.201454963825846,2.714297104622911,9.475097595876898,6.088785223087626,8.576627477454695,8.637491072092491,4.633957917408022,9.106017924832848,8.171664215917138,9.078717988460255,2.097841921746983,7.671313868209753,3.6183979510628017,5.362331295433095,7.412441062795873,4.089123357001448,10.540629522986062,5.510550712952903,8.613292603347622,8.979282265990399,8.609007145562364,1.0428101282475122,2.4357641363594937,10.641766021652519,2.0721246029810976,9.21564527142634,6.729622895212144,9.993498722971381,5.5590129977058895,7.455749872655311,8.215149343606376,4.659565530653283,9.694386493486428,3.6225310673077926,9.163931778558633,5.336969632292292,7.832252899702774,6.1296490635323995,3.9404550193456545,3.1111193100407943,7.024470488191148,5.844335287407079,10.128577445827572,2.231524551533103,4.157541591700932,11.605845171454384,2.785953193335467,8.900286864194843,8.732689305858942,9.98449681687989,8.235167942978993,3.0753820631622113,2.9815156423295317,9.259400367654102,6.0187846259064965,3.2396708954634716,5.456211748071209,3.5822425107153077,7.3117307050697935,5.30031842108718,3.256220061014539,4.682292005001682,7.404150511777769,2.1257190238032138,4.936112677335082,9.2521305629619,7.83172285242877],\"x0\":\" \",\"xaxis\":\"x\",\"y\":[5,11,14,8,9,2,7,9,2,6,4,8,8,5,7,8,11,5,6,2,10,7,5,7,7,12,2,6,3,3,5,11,3,13,6,4,7,11,7,9,13,7,8,3,6,8,9,8,6,7,13,7,9,10,1,9,6,8,7,10,12,4,2,10,7,10,10,4,9,9,9,2,8,2,5,8,4,10,5,8,8,8,2,3,11,3,11,6,7,7,9,9,6,8,3,8,4,10,5,4,4,7,5,10,3,4,12,3,8,10,8,7,1,2,9,6,3,4,3,8,6,4,3,7,1,6,9,7],\"y0\":\" \",\"yaxis\":\"y\",\"type\":\"box\"},{\"alignmentgroup\":\"True\",\"boxpoints\":\"all\",\"customdata\":[[12,309,386],[13,348,178],[13,464,196],[13,432,336],[13,427,362],[12,300,392],[13,403,342],[12,420,249],[12,157,313],[14,417,281],[13,437,298],[14,591,405],[13,438,297],[12,320,331],[13,336,286],[13,468,368],[14,436,387],[12,228,444],[12,267,457],[13,483,518],[14,473,357],[12,206,183],[13,408,213],[14,433,285],[13,301,284],[15,526,227],[13,320,357],[14,570,343],[12,301,438],[13,409,360],[13,493,399],[14,417,304],[12,236,435],[13,412,227],[12,272,279],[13,475,489],[13,457,260],[12,351,309],[13,442,320],[13,410,330],[13,559,488],[14,325,256],[13,361,286],[14,559,358],[13,367,339],[12,325,419],[13,531,294],[13,292,327],[13,361,366],[13,520,393],[13,407,231],[12,263,330],[13,389,409],[13,342,220],[12,333,548],[13,488,349],[12,317,364],[12,313,430],[12,296,413],[13,522,355],[13,508,263],[13,389,369],[12,343,404],[13,377,347],[12,248,395],[13,450,435],[13,486,465],[13,229,463],[13,373,313],[13,440,405],[14,475,360],[13,223,253],[13,478,284],[12,215,384],[13,254,242],[13,445,313],[12,265,334],[15,577,325],[12,296,329],[13,398,244],[13,566,286],[13,357,338],[12,305,505],[12,209,295],[13,625,368],[12,182,252],[12,163,194],[13,467,356],[13,514,396],[12,317,382],[13,398,290],[13,358,329],[12,394,291],[12,327,372],[14,566,290],[12,182,495],[13,419,338],[12,277,430],[13,586,567],[12,228,408],[13,341,349],[13,311,279],[13,447,302],[12,183,553],[13,273,475],[13,547,354],[12,335,339],[12,329,312],[13,385,354],[14,529,316],[14,450,230],[12,364,505],[12,343,540],[12,167,452],[13,442,346],[13,363,354],[12,306,358],[12,270,345],[14,620,363],[12,300,447],[12,271,405],[12,266,377],[12,323,470],[13,350,368],[12,291,429],[13,474,306],[13,477,248],[12,210,435]],\"fillcolor\":\"rgba(255,255,255,0)\",\"hoveron\":\"points\",\"hovertemplate\":\"\\u003cb\\u003e%{hovertext}\\u003c\\u002fb\\u003e\\u003cbr\\u003e\\u003cbr\\u003eseason=2015\\u003cbr\\u003eexpected wins=%{x}\\u003cbr\\u003ewins=%{y}\\u003cbr\\u003egames=%{customdata[0]}\\u003cbr\\u003epoints scored=%{customdata[1]}\\u003cbr\\u003epoints allowed=%{customdata[2]}\\u003cextra\\u003e\\u003c\\u002fextra\\u003e\",\"hovertext\":[\"Virginia\",\"Wisconsin\",\"Ohio State\",\"NC State\",\"Nebraska\",\"Iowa State\",\"Virginia Tech\",\"Toledo\",\"Kent State\",\"Temple\",\"USF\",\"Bowling Green\",\"BYU\",\"Buffalo\",\"Central Michigan\",\"Western Michigan\",\"Northern Illinois\",\"Oregon State\",\"Fresno State\",\"Tulsa\",\"Air Force\",\"Boston College\",\"Michigan\",\"Iowa\",\"Penn State\",\"Alabama\",\"Colorado\",\"North Carolina\",\"Purdue\",\"Washington State\",\"California\",\"Michigan State\",\"Tulane\",\"Florida State\",\"Illinois\",\"Indiana\",\"Tennessee\",\"Georgia Tech\",\"West Virginia\",\"Duke\",\"Oregon\",\"Florida\",\"Texas A&M\",\"Southern Miss\",\"Pittsburgh\",\"Rutgers\",\"Ole Miss\",\"Minnesota\",\"Miami (FL)\",\"Arkansas State\",\"Marshall\",\"South Carolina\",\"Kansas State\",\"Georgia\",\"SMU\",\"Louisiana Tech\",\"Texas\",\"Rice\",\"Maryland\",\"Memphis\",\"Boise State\",\"New Mexico\",\"UNLV\",\"Utah State\",\"UTEP\",\"Arizona State\",\"Arizona\",\"Hawaii\",\"Louisville\",\"Cincinnati\",\"USC\",\"Connecticut\",\"Navy\",\"Miami (OH)\",\"Northwestern\",\"Notre Dame\",\"Army\",\"Clemson\",\"Kentucky\",\"Washington\",\"Oklahoma\",\"Auburn\",\"Eastern Michigan\",\"Wake Forest\",\"Baylor\",\"Vanderbilt\",\"Missouri\",\"Arkansas\",\"Oklahoma State\",\"UL-Lafayette\",\"Utah\",\"Ohio\",\"LSU\",\"Syracuse\",\"Houston\",\"North Texas\",\"UCLA\",\"Ball State\",\"Texas Tech\",\"Wyoming\",\"Nevada\",\"Akron\",\"Mississippi State\",\"Kansas\",\"UL-Monroe\",\"TCU\",\"Troy\",\"East Carolina\",\"Colorado State\",\"Stanford\",\"San Diego State\",\"Idaho\",\"New Mexico State\",\"UCF\",\"Middle Tennessee\",\"San Jose State\",\"FIU\",\"Florida Atlantic\",\"Western Kentucky\",\"South Alabama\",\"UTSA\",\"Massachusetts\",\"Texas State\",\"Georgia State\",\"Old Dominion\",\"Georgia Southern\",\"Appalachian State\",\"Charlotte\"],\"legendgroup\":\"2015\",\"line\":{\"color\":\"rgba(255,255,255,0)\"},\"marker\":{\"color\":\"#ab63fa\"},\"name\":\"2015\",\"offsetgroup\":\"2015\",\"orientation\":\"v\",\"pointpos\":0,\"showlegend\":true,\"x\":[4.453717998030312,10.795983634921424,11.507299458884228,8.38048240182753,7.755997365193174,4.159450096752048,7.748477083958701,9.304763047312345,1.9574327297132046,10.054696003363805,9.26189562994687,9.940886530049333,9.297437424732356,5.7598290283719535,7.726158853182421,8.30306122744484,7.9823827927500375,2.050302046299823,2.6234527265025935,5.962375027968318,9.251077458860415,6.836273715714482,10.70587428508927,10.210683897537496,6.94708567948783,13.198735851025768,5.661923604842551,10.768644747670422,3.4957762690141436,7.475500330971149,8.09615047429337,9.505629820122774,2.2813326898430253,10.454476219410314,5.819391501791889,6.276348526336278,10.295273634132728,6.899306895721887,8.873060430506328,8.136016326589827,7.537318638593396,8.928446189634412,8.249612903120395,10.387253313862923,7.109488052533958,4.24639256004944,10.430662994011946,5.633221264071373,6.394058606029311,8.58102471360307,10.30740525451338,4.424269688514243,6.114282615062717,9.619088500025066,2.8193864904255763,8.95443314787719,5.0257284913445694,3.8428792084964196,3.747521507125427,9.278977927062929,10.74303374530956,6.90602939355019,4.850582450989212,7.1366467805533365,2.989839597800415,6.760986315196199,6.839918432003831,2.0621294460553115,7.831710919967133,7.136396960298939,9.220173262709562,5.534993245674352,10.06852495360689,2.422511233099087,6.872366206607156,9.063420771052568,4.394704560782208,11.93742044667581,5.252390574252065,9.896386372139872,10.848330911102213,6.920660087942622,2.7882523915844666,3.6773217214904292,10.116840895568018,3.7945023929027477,4.779363118102137,8.52123665560397,8.447273547748052,4.695032279878101,8.830097677999985,7.148505800139338,8.06646151061095,5.090348725547791,11.618464550916144,1.0246450418222333,8.119848731726622,3.128594319920282,6.753749120471825,2.4137387441845966,6.321428246098851,7.331761108135211,9.32026899682568,0.8136522637073565,2.7566600116104705,9.583207185319697,5.915612882686916,6.376721730699506,7.144472899870108,10.811681571816372,11.629942506007671,3.7823239933286708,3.0520801744960777,1.0354971129054182,8.334906805755464,6.693321325078334,4.8967912174199215,4.304595317860766,10.927282862894598,3.358457261749355,3.341333510898367,3.6525390917841403,3.495942281586176,6.114175380476819,3.419796084617567,9.597933216203488,10.724231397340802,1.8133143344543556],\"x0\":\" \",\"xaxis\":\"x\",\"y\":[4,10,12,7,6,3,7,10,3,10,8,10,9,5,7,8,8,2,3,6,8,3,10,12,7,14,4,11,2,9,8,12,3,10,5,6,9,3,8,8,9,10,8,9,8,4,10,6,8,9,10,3,6,10,2,9,5,5,3,9,9,7,3,6,5,6,7,3,8,7,8,6,11,3,10,10,2,14,5,7,11,7,1,3,10,4,5,8,10,4,10,8,9,4,13,1,8,3,7,2,7,8,9,0,2,11,4,5,7,12,11,4,3,0,7,6,5,3,12,5,3,3,3,6,5,9,11,2],\"y0\":\" \",\"yaxis\":\"y\",\"type\":\"box\"},{\"alignmentgroup\":\"True\",\"boxpoints\":\"all\",\"customdata\":[[12,270,405],[14,397,218],[13,512,201],[13,351,296],[13,345,311],[12,332,376],[14,490,319],[13,494,334],[12,247,344],[14,453,258],[13,569,411],[12,298,460],[13,384,254],[12,198,388],[13,342,394],[14,582,277],[12,366,364],[12,314,366],[12,212,371],[13,552,388],[13,457,341],[13,265,325],[13,524,183],[13,324,245],[14,526,356],[15,582,195],[14,435,304],[13,420,324],[12,295,459],[13,496,343],[12,445,511],[12,289,333],[12,289,332],[13,456,325],[12,236,383],[13,335,354],[13,473,375],[13,367,318],[13,405,312],[12,280,338],[12,425,497],[13,311,218],[13,453,319],[13,427,384],[13,532,458],[12,188,450],[12,391,408],[13,381,287],[13,446,241],[13,355,279],[12,317,423],[13,270,344],[13,419,290],[13,319,312],[12,332,435],[14,620,470],[12,383,378],[12,303,448],[13,335,384],[13,505,375],[13,439,303],[13,477,409],[12,379,441],[12,287,352],[12,316,419],[12,400,478],[12,297,460],[14,396,522],[13,553,309],[12,232,323],[13,447,315],[12,178,337],[14,531,434],[13,297,309],[13,338,289],[12,371,334],[13,389,258],[15,588,270],[13,390,407],[14,585,248],[13,571,375],[13,406,222],[13,385,388],[13,265,288],[13,450,377],[13,299,312],[12,377,378],[13,394,404],[13,502,345],[13,307,329],[13,388,311],[14,368,317],[12,340,189],[12,308,463],[13,466,305],[13,322,424],[12,299,330],[12,324,361],[12,524,522],[14,503,477],[12,305,348],[12,329,403],[13,395,413],[12,243,448],[12,280,469],[13,403,364],[13,438,287],[12,324,433],[13,459,395],[13,342,265],[14,493,283],[13,400,407],[12,298,466],[13,374,320],[13,516,465],[12,293,416],[12,288,418],[12,317,477],[14,637,344],[13,330,351],[13,379,363],[12,280,426],[12,223,493],[12,239,319],[13,456,354],[12,319,318],[13,380,232],[12,302,415]],\"fillcolor\":\"rgba(255,255,255,0)\",\"hoveron\":\"points\",\"hovertemplate\":\"\\u003cb\\u003e%{hovertext}\\u003c\\u002fb\\u003e\\u003cbr\\u003e\\u003cbr\\u003eseason=2016\\u003cbr\\u003eexpected wins=%{x}\\u003cbr\\u003ewins=%{y}\\u003cbr\\u003egames=%{customdata[0]}\\u003cbr\\u003epoints scored=%{customdata[1]}\\u003cbr\\u003epoints allowed=%{customdata[2]}\\u003cextra\\u003e\\u003c\\u002fextra\\u003e\",\"hovertext\":[\"Virginia\",\"Wisconsin\",\"Ohio State\",\"NC State\",\"Nebraska\",\"Iowa State\",\"Virginia Tech\",\"Toledo\",\"Kent State\",\"Temple\",\"USF\",\"Bowling Green\",\"BYU\",\"Buffalo\",\"Central Michigan\",\"Western Michigan\",\"Northern Illinois\",\"Oregon State\",\"Fresno State\",\"Tulsa\",\"Air Force\",\"Boston College\",\"Michigan\",\"Iowa\",\"Penn State\",\"Alabama\",\"Colorado\",\"North Carolina\",\"Purdue\",\"Washington State\",\"California\",\"Michigan State\",\"Tulane\",\"Florida State\",\"Illinois\",\"Indiana\",\"Tennessee\",\"Georgia Tech\",\"West Virginia\",\"Duke\",\"Oregon\",\"Florida\",\"Texas A&M\",\"Southern Miss\",\"Pittsburgh\",\"Rutgers\",\"Ole Miss\",\"Minnesota\",\"Miami (FL)\",\"Arkansas State\",\"Marshall\",\"South Carolina\",\"Kansas State\",\"Georgia\",\"SMU\",\"Louisiana Tech\",\"Texas\",\"Rice\",\"Maryland\",\"Memphis\",\"Boise State\",\"New Mexico\",\"UNLV\",\"Utah State\",\"UTEP\",\"Arizona State\",\"Arizona\",\"Hawaii\",\"Louisville\",\"Cincinnati\",\"USC\",\"Connecticut\",\"Navy\",\"Miami (OH)\",\"Northwestern\",\"Notre Dame\",\"Army\",\"Clemson\",\"Kentucky\",\"Washington\",\"Oklahoma\",\"Auburn\",\"Eastern Michigan\",\"Wake Forest\",\"Baylor\",\"Vanderbilt\",\"Missouri\",\"Arkansas\",\"Oklahoma State\",\"UL-Lafayette\",\"Utah\",\"Ohio\",\"LSU\",\"Syracuse\",\"Houston\",\"North Texas\",\"UCLA\",\"Ball State\",\"Texas Tech\",\"Wyoming\",\"Nevada\",\"Akron\",\"Mississippi State\",\"Kansas\",\"UL-Monroe\",\"TCU\",\"Troy\",\"East Carolina\",\"Colorado State\",\"Stanford\",\"San Diego State\",\"Idaho\",\"New Mexico State\",\"UCF\",\"Middle Tennessee\",\"San Jose State\",\"FIU\",\"Florida Atlantic\",\"Western Kentucky\",\"South Alabama\",\"UTSA\",\"Massachusetts\",\"Texas State\",\"Georgia State\",\"Old Dominion\",\"Georgia Southern\",\"Appalachian State\",\"Charlotte\"],\"legendgroup\":\"2016\",\"line\":{\"color\":\"rgba(255,255,255,0)\"},\"marker\":{\"color\":\"#FFA15A\"},\"name\":\"2016\",\"offsetgroup\":\"2016\",\"orientation\":\"v\",\"pointpos\":0,\"showlegend\":true,\"x\":[3.3202508138939653,11.276220492157995,11.721799091239369,7.795151812173845,7.2951436387285185,5.1214907423808445,10.282079075021898,9.315658871325436,3.758737624672002,11.081367988636284,8.888388479302883,3.159580145253445,9.451221768727272,2.025206159912762,5.419896267368946,11.94425741067834,6.038958454076084,4.922281046867446,2.5172856176218295,9.06778794164901,8.668951432248665,4.957906086895703,12.007677269945658,8.577333161089049,10.025343882540415,13.95471319012675,9.80563258723702,8.438169797631751,3.115963954476958,9.172947629697488,5.025429341609214,5.001766965545482,5.022570799408451,8.977012275078108,2.891217100268872,6.075685215009862,8.244490713303803,7.593358260952447,8.447798148436627,4.683268601309676,4.8998624276966325,9.085674470522454,9.055805859866396,7.313270467249679,7.641674085464844,1.3462974199368278,5.6976574343256825,8.603794858778985,10.547512399292334,8.306762316637458,4.025299272129153,4.683904834675862,9.167470280388374,6.670863044087649,4.141872903832494,9.218502036362343,6.093423491162911,3.4028603011833303,5.457593071472107,8.7019588866489,9.185231281189465,7.671709961308133,4.934200415077661,4.5761690316661605,4.065603680527287,4.751866614391089,3.141072023249505,4.78697201725916,10.385587534540507,3.7608080458073774,9.051148050812076,2.166344537706453,8.642089889145598,6.195134460571313,7.692696625775152,6.743148665613286,9.434758601714575,12.952347133804823,6.171641442483654,12.380340672702454,9.494802675830673,10.491158158247975,6.4402148398905705,5.860986554955493,7.843713325244773,6.17246222051949,5.981165613763409,6.307001528443093,9.212572276735736,5.968101979719326,8.165904478827834,8.224726262995404,9.61028676237089,3.3079584343785267,9.51545805970084,4.452476522471443,5.301782616360962,5.235344672375075,6.027189139567787,7.4396666298185385,5.069818554702975,4.58469427148105,6.1570811973237864,2.2803801610722965,2.730009635003517,7.280201572443245,9.508579866173447,4.015644297147031,7.644586195220718,8.407031105803014,11.038043076938461,6.366390935407543,3.0886115881933796,7.687601725338339,7.297555168508022,3.641926942959268,3.510989204205818,3.302353970117055,11.361935677201508,6.02565005651733,6.831945764828746,3.240124609699081,1.5883775429076046,4.02366916801696,8.393752885169421,6.022323306228877,9.919565115994121,3.841211020541972],\"x0\":\" \",\"xaxis\":\"x\",\"y\":[2,11,11,7,9,3,10,9,3,10,11,4,9,2,6,13,5,4,1,10,10,7,10,8,11,14,10,8,3,8,5,3,4,10,3,6,9,9,10,4,4,9,8,7,8,2,5,9,9,8,3,6,9,8,5,9,5,3,6,8,10,9,4,3,4,5,3,7,9,4,10,3,9,6,7,4,8,14,7,12,11,8,7,7,7,6,4,7,10,6,9,8,8,4,9,5,4,4,5,8,5,5,6,2,4,6,10,3,7,10,11,9,3,6,8,4,4,3,11,6,6,2,2,3,10,5,10,4],\"y0\":\" \",\"yaxis\":\"y\",\"type\":\"box\"},{\"alignmentgroup\":\"True\",\"boxpoints\":\"all\",\"customdata\":[[13,293,369],[14,473,195],[14,576,266],[13,419,328],[12,309,437],[13,380,272],[13,366,192],[14,509,367],[12,153,421],[13,326,335],[12,459,282],[12,304,456],[13,222,321],[12,342,298],[13,370,358],[12,407,348],[13,376,286],[12,248,516],[14,380,251],[12,352,450],[12,377,389],[13,334,297],[13,328,245],[13,367,259],[13,534,214],[14,519,167],[12,317,338],[12,312,375],[13,328,267],[13,394,335],[12,333,341],[13,319,260],[12,330,350],[13,362,276],[12,185,378],[12,322,304],[12,238,349],[11,309,292],[13,449,409],[13,345,263],[13,468,377],[11,243,300],[13,425,399],[13,379,318],[12,287,319],[12,216,340],[12,394,415],[12,265,274],[13,378,273],[12,454,309],[13,347,259],[13,315,269],[13,420,327],[15,531,246],[13,492,477],[13,396,330],[13,383,276],[12,195,429],[12,289,445],[13,592,422],[14,455,320],[12,248,382],[12,346,381],[13,392,350],[12,141,441],[13,414,427],[13,537,447],[12,273,407],[13,495,356],[12,251,382],[14,456,366],[12,283,455],[13,396,342],[12,293,289],[13,380,261],[13,445,279],[13,399,286],[14,466,190],[13,332,367],[13,471,209],[14,632,379],[14,474,259],[12,313,280],[13,459,368],[12,292,431],[12,295,376],[13,488,414],[13,361,333],[12,345,434],[13,585,382],[12,338,480],[13,384,301],[13,508,315],[13,354,246],[12,329,386],[12,339,286],[14,497,490],[13,422,476],[12,215,488],[13,446,419],[13,305,228],[12,338,407],[14,310,392],[13,416,272],[12,224,521],[12,407,492],[14,470,266],[13,410,240],[12,299,540],[13,434,361],[14,453,318],[13,400,263],[12,251,309],[13,381,386],[13,627,329],[13,332,321],[13,206,542],[13,333,370],[14,568,318],[13,331,349],[12,238,318],[11,259,187],[12,367,382],[12,207,403],[12,244,297],[12,248,380],[12,250,386],[13,435,263],[12,170,393],[12,284,408]],\"fillcolor\":\"rgba(255,255,255,0)\",\"hoveron\":\"points\",\"hovertemplate\":\"\\u003cb\\u003e%{hovertext}\\u003c\\u002fb\\u003e\\u003cbr\\u003e\\u003cbr\\u003eseason=2017\\u003cbr\\u003eexpected wins=%{x}\\u003cbr\\u003ewins=%{y}\\u003cbr\\u003egames=%{customdata[0]}\\u003cbr\\u003epoints scored=%{customdata[1]}\\u003cbr\\u003epoints allowed=%{customdata[2]}\\u003cextra\\u003e\\u003c\\u002fextra\\u003e\",\"hovertext\":[\"Virginia\",\"Wisconsin\",\"Ohio State\",\"NC State\",\"Nebraska\",\"Iowa State\",\"Virginia Tech\",\"Toledo\",\"Kent State\",\"Temple\",\"USF\",\"Bowling Green\",\"BYU\",\"Buffalo\",\"Central Michigan\",\"Western Michigan\",\"Northern Illinois\",\"Oregon State\",\"Fresno State\",\"Tulsa\",\"Air Force\",\"Boston College\",\"Michigan\",\"Iowa\",\"Penn State\",\"Alabama\",\"Colorado\",\"North Carolina\",\"Purdue\",\"Washington State\",\"California\",\"Michigan State\",\"Tulane\",\"Florida State\",\"Illinois\",\"Indiana\",\"Tennessee\",\"Georgia Tech\",\"West Virginia\",\"Duke\",\"Oregon\",\"Florida\",\"Texas A&M\",\"Southern Miss\",\"Pittsburgh\",\"Rutgers\",\"Ole Miss\",\"Minnesota\",\"Miami (FL)\",\"Arkansas State\",\"Marshall\",\"South Carolina\",\"Kansas State\",\"Georgia\",\"SMU\",\"Louisiana Tech\",\"Texas\",\"Rice\",\"Maryland\",\"Memphis\",\"Boise State\",\"New Mexico\",\"UNLV\",\"Utah State\",\"UTEP\",\"Arizona State\",\"Arizona\",\"Hawaii\",\"Louisville\",\"Cincinnati\",\"USC\",\"Connecticut\",\"Navy\",\"Miami (OH)\",\"Northwestern\",\"Notre Dame\",\"Army\",\"Clemson\",\"Kentucky\",\"Washington\",\"Oklahoma\",\"Auburn\",\"Eastern Michigan\",\"Wake Forest\",\"Baylor\",\"Vanderbilt\",\"Missouri\",\"UAB\",\"Arkansas\",\"Oklahoma State\",\"UL-Lafayette\",\"Utah\",\"Ohio\",\"LSU\",\"Syracuse\",\"Houston\",\"North Texas\",\"UCLA\",\"Ball State\",\"Texas Tech\",\"Wyoming\",\"Nevada\",\"Akron\",\"Mississippi State\",\"Kansas\",\"UL-Monroe\",\"TCU\",\"Troy\",\"East Carolina\",\"Colorado State\",\"Stanford\",\"San Diego State\",\"Idaho\",\"New Mexico State\",\"UCF\",\"Middle Tennessee\",\"San Jose State\",\"FIU\",\"Florida Atlantic\",\"Western Kentucky\",\"South Alabama\",\"UTSA\",\"Massachusetts\",\"Texas State\",\"Georgia State\",\"Old Dominion\",\"Georgia Southern\",\"Appalachian State\",\"Charlotte\",\"Coastal Carolina\"],\"legendgroup\":\"2017\",\"line\":{\"color\":\"rgba(255,255,255,0)\"},\"marker\":{\"color\":\"#19d3f3\"},\"name\":\"2017\",\"offsetgroup\":\"2017\",\"orientation\":\"v\",\"pointpos\":0,\"showlegend\":true,\"x\":[4.76656023129572,12.472708615305745,12.066479532640292,8.33480901339064,3.6655405518082667,8.948656826405784,10.68413558132169,9.585008091437878,0.9990776067535729,6.2903094466188945,9.124046741194324,3.3202508138939653,3.827575514265497,6.970568658884711,6.753822439454879,7.100892319480103,8.536522867725191,1.797177673058946,10.187516830312092,4.301364285959183,5.777316478837624,7.3985514094453055,8.661792066261617,9.041679363054644,11.66441694933582,13.107878885156614,5.544811596046146,4.712628419408526,8.054224417045324,7.7343357222210525,5.831253203497591,8.045103751962436,5.582320704649591,8.52015689296805,1.8638626933397395,6.408362233070742,3.4507819649280838,5.868257071844507,7.215788186138853,8.521180006091367,8.129944510471958,4.154475629206223,6.985336533936179,7.832519607009388,5.252316444375676,3.053005188268489,5.631259975291438,5.7626621303503756,8.889289074355357,8.560595803154243,8.666869006953583,7.701938917077866,8.373281701430486,12.91487375738741,6.73837958555143,7.882881709880576,8.904008826969477,1.6043844898793052,3.1733101886631014,8.975917242780836,9.761344782822203,3.1714060825326214,5.3178384025440915,7.367704108686151,0.7539293451252675,6.261960301559993,7.891100587614453,3.355218147588578,8.91724788013325,3.2383427314593005,8.783561122055348,2.9401416262783653,7.617988703160572,6.097724854712244,9.216356907564528,9.769101259920951,8.939400668724943,12.508029277716451,5.731612040818291,11.346018540075132,10.788906898713108,11.30180375767164,6.787579910936747,8.164140072627195,3.4127267138115687,4.321021562365389,7.750877534176532,7.119974547257619,4.407327118864663,9.529448257000558,3.6405590598341386,8.325412085504114,9.832244332181045,9.141640993719545,4.877350322178598,7.192667255101678,7.117650467322276,5.578766080837864,1.5043034084443194,6.9801298682288095,8.656383616652306,4.700123980436825,5.101934165192313,9.521555888488786,1.4297719031162393,4.673734970783878,11.115731940537923,10.147826523917074,2.371951369514765,7.89644339450477,9.77439144400156,9.487804561075494,4.551105785696785,6.39958283845,10.683011394649085,6.759389024056696,1.1924665058926647,5.692651279169349,11.174087104807786,6.0926598069732805,4.016996378217125,7.523380324932523,5.715395952719212,2.051354487764196,4.627169137181082,3.200519041730576,3.1582373265762023,9.97359356777898,1.4480581096080392,3.5714972048171534],\"x0\":\" \",\"xaxis\":\"x\",\"y\":[6,13,12,9,4,8,9,11,2,7,10,2,4,6,8,6,8,1,10,2,5,7,8,8,11,13,5,3,7,9,5,10,5,7,2,5,4,5,7,7,7,4,7,8,5,4,6,5,10,7,8,9,8,13,7,7,7,1,4,10,11,3,5,6,0,7,7,3,8,4,11,3,7,5,10,10,10,12,7,10,12,10,5,8,1,5,7,8,4,10,5,7,9,9,4,7,9,6,2,6,8,3,7,9,1,4,11,11,3,7,9,10,4,7,13,7,2,8,11,6,4,6,4,2,7,5,2,9,1,3],\"y0\":\" \",\"yaxis\":\"y\",\"type\":\"box\"},{\"alignmentgroup\":\"True\",\"boxpoints\":\"all\",\"customdata\":[[13,370,261],[13,386,294],[14,593,357],[13,440,324],[12,360,375],[14,355,298],[13,388,403],[13,525,397],[12,287,440],[13,454,352],[13,370,416],[12,292,480],[13,354,278],[14,484,363],[12,180,328],[13,416,449],[14,282,317],[12,313,548],[14,485,198],[12,289,355],[12,363,309],[12,384,308],[13,457,252],[13,405,231],[13,439,267],[15,684,271],[12,325,327],[11,301,380],[13,397,390],[13,488,303],[13,280,265],[13,243,223],[13,349,358],[12,263,378],[12,312,473],[12,317,359],[12,273,335],[13,437,381],[12,483,326],[13,382,356],[13,453,330],[13,455,260],[13,468,329],[11,288,218],[14,359,389],[12,162,377],[12,407,434],[13,376,345],[13,374,253],[13,394,333],[13,367,284],[13,391,354],[12,270,305],[14,530,269],[12,365,423],[13,321,299],[14,435,362],[13,246,468],[12,342,344],[14,601,447],[13,460,287],[12,319,434],[12,345,447],[13,618,289],[12,212,393],[13,389,332],[12,376,391],[14,431,491],[12,237,529],[13,454,224],[12,313,324],[12,266,605],[13,325,436],[12,337,306],[14,339,325],[13,408,237],[13,426,230],[15,664,197],[13,346,219],[14,369,229],[14,677,466],[13,402,249],[13,351,287],[13,427,433],[13,384,412],[13,370,346],[13,476,331],[14,418,238],[12,260,417],[13,499,422],[14,447,479],[14,393,272],[13,521,320],[13,421,283],[13,523,351],[13,571,483],[13,450,314],[12,295,409],[12,290,389],[12,448,373],[12,248,264],[13,404,350],[12,227,326],[13,371,171],[12,286,360],[12,319,381],[13,306,300],[13,399,286],[12,273,448],[12,274,441],[13,369,298],[13,268,288],[12,303,496],[13,562,295],[14,392,374],[12,255,439],[13,450,328],[12,373,381],[12,253,334],[12,290,465],[12,170,374],[12,394,515],[12,237,332],[12,287,449],[12,370,431],[13,396,280],[13,485,201],[12,260,319],[12,320,398],[12,399,442]],\"fillcolor\":\"rgba(255,255,255,0)\",\"hoveron\":\"points\",\"hovertemplate\":\"\\u003cb\\u003e%{hovertext}\\u003c\\u002fb\\u003e\\u003cbr\\u003e\\u003cbr\\u003eseason=2018\\u003cbr\\u003eexpected wins=%{x}\\u003cbr\\u003ewins=%{y}\\u003cbr\\u003egames=%{customdata[0]}\\u003cbr\\u003epoints scored=%{customdata[1]}\\u003cbr\\u003epoints allowed=%{customdata[2]}\\u003cextra\\u003e\\u003c\\u002fextra\\u003e\",\"hovertext\":[\"Virginia\",\"Wisconsin\",\"Ohio State\",\"NC State\",\"Nebraska\",\"Iowa State\",\"Virginia Tech\",\"Toledo\",\"Kent State\",\"Temple\",\"USF\",\"Bowling Green\",\"BYU\",\"Buffalo\",\"Central Michigan\",\"Western Michigan\",\"Northern Illinois\",\"Oregon State\",\"Fresno State\",\"Tulsa\",\"Air Force\",\"Boston College\",\"Michigan\",\"Iowa\",\"Penn State\",\"Alabama\",\"Colorado\",\"North Carolina\",\"Purdue\",\"Washington State\",\"California\",\"Michigan State\",\"Tulane\",\"Florida State\",\"Illinois\",\"Indiana\",\"Tennessee\",\"Georgia Tech\",\"West Virginia\",\"Duke\",\"Oregon\",\"Florida\",\"Texas A&M\",\"Southern Miss\",\"Pittsburgh\",\"Rutgers\",\"Ole Miss\",\"Minnesota\",\"Miami (FL)\",\"Arkansas State\",\"Marshall\",\"South Carolina\",\"Kansas State\",\"Georgia\",\"SMU\",\"Louisiana Tech\",\"Texas\",\"Rice\",\"Maryland\",\"Memphis\",\"Boise State\",\"New Mexico\",\"UNLV\",\"Utah State\",\"UTEP\",\"Arizona State\",\"Arizona\",\"Hawaii\",\"Louisville\",\"Cincinnati\",\"USC\",\"Connecticut\",\"Navy\",\"Miami (OH)\",\"Northwestern\",\"Notre Dame\",\"Army\",\"Clemson\",\"Kentucky\",\"Washington\",\"Oklahoma\",\"Auburn\",\"Eastern Michigan\",\"Wake Forest\",\"Baylor\",\"Vanderbilt\",\"Missouri\",\"UAB\",\"Arkansas\",\"Oklahoma State\",\"UL-Lafayette\",\"Utah\",\"Ohio\",\"LSU\",\"Syracuse\",\"Houston\",\"North Texas\",\"UCLA\",\"Ball State\",\"Texas Tech\",\"Wyoming\",\"Nevada\",\"Akron\",\"Mississippi State\",\"Kansas\",\"UL-Monroe\",\"TCU\",\"Troy\",\"East Carolina\",\"Colorado State\",\"Stanford\",\"San Diego State\",\"New Mexico State\",\"UCF\",\"Middle Tennessee\",\"San Jose State\",\"FIU\",\"Florida Atlantic\",\"Western Kentucky\",\"South Alabama\",\"UTSA\",\"Massachusetts\",\"Texas State\",\"Georgia State\",\"Old Dominion\",\"Georgia Southern\",\"Appalachian State\",\"Charlotte\",\"Coastal Carolina\",\"Liberty\"],\"legendgroup\":\"2018\",\"line\":{\"color\":\"rgba(255,255,255,0)\"},\"marker\":{\"color\":\"#FF6692\"},\"name\":\"2018\",\"offsetgroup\":\"2018\",\"orientation\":\"v\",\"pointpos\":0,\"showlegend\":true,\"x\":[9.04460714776684,8.52721195079652,10.76600911172101,8.759032339660749,5.709981802707398,8.431361238855592,6.208031361558974,8.577171860432047,3.1974607509036646,8.402701679097058,5.603160682956316,2.8250161444988424,8.312232128332521,9.297984818685086,2.331926124189965,5.913608039633839,6.035699214253604,2.515135043250575,12.503981688358259,4.565826361253796,7.1314426586039925,7.533308558369218,10.450500279499268,10.28239530798284,9.940777149959612,13.495964193388224,5.956380999737658,4.0185014110135775,6.637003650052913,9.824707813356296,6.923497159065713,7.159290235147043,6.303945639551686,3.568838911683593,3.260105609747349,5.121724238957842,4.572749119160639,7.547072607712893,8.609022796824139,7.041689018602022,8.831630631171082,10.272940580909687,9.066928779550349,7.251772942169048,6.336268472124539,1.428146386567844,5.544194985988213,7.160472233315308,9.312352837595519,7.778734796656501,8.416225413843602,7.2621880807395565,5.139340331248475,11.662414227289652,4.961999468247665,7.045572009519793,8.500184462370928,2.3249053039664087,5.958542816353435,9.359612845089547,9.797110028318459,3.9033568603974986,4.214140354748639,11.158065771514254,2.2564379749606447,7.706276232806949,5.722067105047097,5.927377899291675,1.5573129668493628,10.947909018390936,5.75455533567335,1.4979077557791884,4.324095977159237,6.683124661033199,7.349550024651092,10.188189706059124,10.55146194382956,14.202533531327141,9.714154130238384,10.583467324499619,9.910467796636178,9.838431626012358,8.021787843375387,6.392531306159155,5.959145351549546,7.015477499515653,9.137357689375834,11.082890972207434,2.953028336919883,7.774234969815462,6.427747037148519,9.872781351810952,9.885988863987807,9.351788782090315,9.361790029218598,7.772544528413987,9.115155184163788,3.786405940348227,3.9922222512580072,7.282568408679518,5.5562917776201175,7.594640010077648,3.5735520485975103,11.211644216609855,4.403282493560206,4.755526159663098,6.652501745650118,8.939400668724943,2.8337836188615415,2.9345358610402665,8.111741525848116,5.946964422922016,2.8465172685359725,10.681376060606171,7.3895123541725685,2.595378188851784,8.827834454118497,5.849150802335322,4.093537196059787,2.954337651054032,1.6043844898793052,4.1572821713511745,3.723214290658333,3.0861740592808298,4.926652633060099,9.029211409477616,11.56599773141816,4.573750382803905,4.48273087560773,5.275849577635243],\"x0\":\" \",\"xaxis\":\"x\",\"y\":[8,8,13,9,4,9,6,7,2,8,7,3,7,10,1,7,8,2,12,3,5,7,10,9,9,14,5,2,6,11,7,7,7,5,4,5,5,7,8,8,9,10,9,6,7,1,5,7,7,8,9,7,5,11,5,8,10,2,5,8,10,3,4,11,1,7,5,8,2,11,5,1,3,6,9,12,11,15,10,10,12,8,7,7,7,6,8,11,2,7,7,9,9,10,10,8,9,3,4,5,6,8,4,8,3,6,7,10,3,3,9,7,3,12,8,1,9,5,3,3,3,4,3,2,4,10,11,5,5,6],\"y0\":\" \",\"yaxis\":\"y\",\"type\":\"box\"},{\"alignmentgroup\":\"True\",\"boxpoints\":\"all\",\"customdata\":[[14,449,380],[14,477,237],[14,656,192],[12,265,361],[12,336,333],[13,418,337],[13,401,321],[12,327,386],[13,380,414],[13,342,337],[12,250,347],[12,192,463],[13,370,331],[13,409,277],[14,426,396],[13,430,337],[12,274,338],[12,374,390],[12,360,361],[12,317,376],[13,443,258],[13,377,418],[13,412,269],[13,335,182],[13,465,208],[13,614,242],[12,282,382],[13,430,308],[12,310,367],[13,491,408],[13,276,285],[13,291,293],[13,430,342],[13,363,362],[13,347,340],[13,413,317],[13,314,282],[12,200,389],[12,247,346],[12,303,350],[14,495,231],[13,432,201],[13,384,293],[13,346,341],[13,275,292],[12,159,440],[12,319,318],[13,443,293],[13,334,263],[13,438,444],[13,335,325],[12,269,313],[13,385,278],[14,431,176],[13,544,434],[13,422,284],[13,458,357],[12,215,311],[12,303,416],[14,566,370],[14,486,306],[12,267,446],[12,290,396],[13,380,399],[12,235,431],[13,322,291],[12,323,429],[15,508,478],[13,430,434],[14,415,288],[13,422,382],[12,227,486],[13,483,290],[14,338,394],[12,196,283],[13,478,233],[13,370,299],[15,659,203],[13,353,251],[13,416,252],[14,590,382],[13,432,254],[13,379,398],[13,414,378],[14,471,277],[12,198,381],[12,304,233],[14,324,302],[12,257,442],[13,422,348],[14,531,276],[14,452,210],[13,446,345],[15,726,328],[12,339,368],[12,368,408],[12,367,390],[12,320,417],[12,418,377],[12,366,364],[13,330,231],[13,277,415],[12,126,435],[13,359,375],[12,282,433],[12,379,464],[12,364,317],[12,406,417],[12,321,404],[12,337,374],[12,260,358],[13,276,165],[12,260,492],[13,564,299],[12,316,359],[12,361,383],[13,344,354],[14,510,318],[13,330,261],[12,221,368],[12,244,407],[12,237,632],[12,221,391],[13,406,471],[12,195,358],[13,366,366],[14,543,280],[13,388,421],[12,364,366],[13,427,365]],\"fillcolor\":\"rgba(255,255,255,0)\",\"hoveron\":\"points\",\"hovertemplate\":\"\\u003cb\\u003e%{hovertext}\\u003c\\u002fb\\u003e\\u003cbr\\u003e\\u003cbr\\u003eseason=2019\\u003cbr\\u003eexpected wins=%{x}\\u003cbr\\u003ewins=%{y}\\u003cbr\\u003egames=%{customdata[0]}\\u003cbr\\u003epoints scored=%{customdata[1]}\\u003cbr\\u003epoints allowed=%{customdata[2]}\\u003cextra\\u003e\\u003c\\u002fextra\\u003e\",\"hovertext\":[\"Virginia\",\"Wisconsin\",\"Ohio State\",\"NC State\",\"Nebraska\",\"Iowa State\",\"Virginia Tech\",\"Toledo\",\"Kent State\",\"Temple\",\"USF\",\"Bowling Green\",\"BYU\",\"Buffalo\",\"Central Michigan\",\"Western Michigan\",\"Northern Illinois\",\"Oregon State\",\"Fresno State\",\"Tulsa\",\"Air Force\",\"Boston College\",\"Michigan\",\"Iowa\",\"Penn State\",\"Alabama\",\"Colorado\",\"North Carolina\",\"Purdue\",\"Washington State\",\"California\",\"Michigan State\",\"Tulane\",\"Florida State\",\"Illinois\",\"Indiana\",\"Tennessee\",\"Georgia Tech\",\"West Virginia\",\"Duke\",\"Oregon\",\"Florida\",\"Texas A&M\",\"Southern Miss\",\"Pittsburgh\",\"Rutgers\",\"Ole Miss\",\"Minnesota\",\"Miami (FL)\",\"Arkansas State\",\"Marshall\",\"South Carolina\",\"Kansas State\",\"Georgia\",\"SMU\",\"Louisiana Tech\",\"Texas\",\"Rice\",\"Maryland\",\"Memphis\",\"Boise State\",\"New Mexico\",\"UNLV\",\"Utah State\",\"UTEP\",\"Arizona State\",\"Arizona\",\"Hawaii\",\"Louisville\",\"Cincinnati\",\"USC\",\"Connecticut\",\"Navy\",\"Miami (OH)\",\"Northwestern\",\"Notre Dame\",\"Army\",\"Clemson\",\"Kentucky\",\"Washington\",\"Oklahoma\",\"Auburn\",\"Eastern Michigan\",\"Wake Forest\",\"Baylor\",\"Vanderbilt\",\"Missouri\",\"UAB\",\"Arkansas\",\"Oklahoma State\",\"UL-Lafayette\",\"Utah\",\"Ohio\",\"LSU\",\"Syracuse\",\"Houston\",\"North Texas\",\"UCLA\",\"Ball State\",\"Texas Tech\",\"Wyoming\",\"Nevada\",\"Akron\",\"Mississippi State\",\"Kansas\",\"UL-Monroe\",\"TCU\",\"Troy\",\"East Carolina\",\"Colorado State\",\"Stanford\",\"San Diego State\",\"New Mexico State\",\"UCF\",\"Middle Tennessee\",\"San Jose State\",\"FIU\",\"Florida Atlantic\",\"Western Kentucky\",\"South Alabama\",\"UTSA\",\"Massachusetts\",\"Texas State\",\"Georgia State\",\"Old Dominion\",\"Georgia Southern\",\"Appalachian State\",\"Charlotte\",\"Coastal Carolina\",\"Liberty\"],\"legendgroup\":\"2019\",\"line\":{\"color\":\"rgba(255,255,255,0)\"},\"marker\":{\"color\":\"#B6E880\"},\"name\":\"2019\",\"offsetgroup\":\"2019\",\"orientation\":\"v\",\"pointpos\":0,\"showlegend\":true,\"x\":[8.366276645787169,11.75902793080885,13.278067355832745,3.8952799225991956,6.063764842812949,8.123990913620812,8.175312938124753,4.8355715352724635,5.842195959608649,6.613429415004937,3.7795050632185605,1.3254043629737957,7.352992370085944,9.305031986957927,7.6042360200574,8.326618104458312,4.5375257315611215,5.70239981365178,5.980277450898139,4.802696054171457,10.174603687884158,5.708766049987263,9.530176139959135,10.521953853462708,11.318369844819019,11.710934648588255,3.9304941692441036,8.944136201124572,4.81565802478858,7.903864716433796,6.252958809187976,6.447244102897641,8.221631497909796,6.521248213649873,6.656939990523009,8.473437919423128,7.323461972364926,2.0552097918311,3.7233627309714117,4.9845992599927404,12.024749779814787,11.176939518419108,8.514773642559591,6.612108765053037,6.038759730425047,0.9868265397189446,6.022323306228877,9.451765185321127,8.29311432447917,6.395211544501625,6.7333266590759955,4.9343165036656185,8.890620112376647,12.503165229887578,8.199624356823751,9.344601418377525,8.365077627102323,3.5308361425143167,3.8467778797419223,10.255334847378878,10.494236168236917,2.7437432387621388,3.880422993960817,6.1246119409071325,2.303270666110085,7.275992377749168,4.05493347382359,8.040052175256498,6.42868290797269,9.854205160283978,7.263510300719083,1.696111751832006,10.011635414573352,5.7421421276065825,3.541610042753339,10.997067519267075,8.107087209499042,14.132581508450803,8.992451593521603,9.9629280430788,10.31748359941616,10.124398717774804,6.123647465268952,7.198008321685523,10.901765204904434,2.0988840811441305,7.830946949146453,7.5819291868099885,2.600212114758218,7.959752496334319,11.550482083672648,12.04251348342815,8.418946321316204,13.019418152743533,5.418224660590619,5.269994506223288,5.568565309071992,4.176948919853606,6.730369800011756,6.038958454076084,9.09459726009612,3.6043676192578618,0.6044943602019406,6.164441556146323,3.1889178029401704,4.588256541464758,6.974271508655432,5.809991483825681,4.404197303979233,5.263070383890808,3.8288433479738524,10.03513120937102,2.1684586753461312,10.636266767209367,5.0997532532557965,5.580081135155983,6.279367685459329,10.554521729175214,8.261652632166143,2.7595755037002756,2.7508990735983736,1.069305635317392,2.466148195035205,5.367804107966862,2.2988150859507375,6.5,11.58836717972586,5.873217820838382,5.961041545923916,7.694687200751151],\"x0\":\" \",\"xaxis\":\"x\",\"y\":[9,10,13,4,5,7,8,6,7,8,4,3,7,8,8,7,5,5,4,4,11,6,9,10,11,11,5,7,4,6,8,7,7,6,6,8,8,3,5,5,12,11,8,7,8,2,4,11,6,8,8,4,8,12,10,10,8,3,3,12,12,2,4,7,1,8,4,10,8,11,8,2,11,8,3,11,5,14,8,8,12,9,6,8,11,3,6,9,2,8,11,11,7,15,5,4,4,4,5,4,8,7,0,6,3,5,5,5,4,4,4,10,2,10,4,5,6,11,9,2,4,1,3,7,1,7,13,7,5,8],\"y0\":\" \",\"yaxis\":\"y\",\"type\":\"box\"},{\"alignmentgroup\":\"True\",\"boxpoints\":\"all\",\"customdata\":[[10,307,296],[7,176,122],[8,328,206],[12,363,350],[8,185,235],[12,395,257],[11,342,353],[7,139,260],[9,208,359],[12,522,184],[7,304,153],[7,202,233],[9,244,194],[11,306,312],[8,254,128],[9,268,249],[13,630,252],[12,500,353],[7,126,246],[12,416,337],[9,232,324],[8,161,279],[8,231,162],[10,215,301],[10,239,368],[10,265,205],[11,273,419],[7,219,198],[12,478,370],[10,326,217],[10,253,323],[11,319,270],[9,240,289],[10,392,383],[7,191,211],[11,374,297],[11,362,409],[10,285,130],[10,235,360],[10,266,322],[10,323,200],[10,386,309],[10,267,347],[10,427,285],[11,341,307],[7,237,190],[7,167,228],[8,184,248],[9,236,248],[11,325,293],[10,375,168],[10,166,303],[9,222,143],[12,401,236],[12,321,178],[12,522,242],[11,240,285],[11,473,239],[11,276,272],[9,324,295],[9,210,263],[9,133,336],[10,267,323],[9,256,193],[10,257,349],[11,332,258],[11,370,242],[10,320,349],[11,196,360],[8,240,256],[10,344,428],[7,248,215],[8,274,206],[10,291,367],[9,277,210],[11,235,309],[9,142,414],[10,163,420],[10,308,242],[11,301,283],[9,272,319],[8,197,142],[10,422,332],[9,206,319],[8,229,159],[9,170,157],[12,228,304],[11,219,300],[12,339,308],[12,332,458],[10,333,317],[13,354,270],[12,406,240],[12,446,243],[11,420,226]],\"fillcolor\":\"rgba(255,255,255,0)\",\"hoveron\":\"points\",\"hovertemplate\":\"\\u003cb\\u003e%{hovertext}\\u003c\\u002fb\\u003e\\u003cbr\\u003e\\u003cbr\\u003eseason=2020\\u003cbr\\u003eexpected wins=%{x}\\u003cbr\\u003ewins=%{y}\\u003cbr\\u003egames=%{customdata[0]}\\u003cbr\\u003epoints scored=%{customdata[1]}\\u003cbr\\u003epoints allowed=%{customdata[2]}\\u003cextra\\u003e\\u003c\\u002fextra\\u003e\",\"hovertext\":[\"Virginia\",\"Wisconsin\",\"Ohio State\",\"NC State\",\"Nebraska\",\"Iowa State\",\"Virginia Tech\",\"Temple\",\"USF\",\"BYU\",\"Buffalo\",\"Oregon State\",\"Tulsa\",\"Boston College\",\"Iowa\",\"Penn State\",\"Alabama\",\"North Carolina\",\"Michigan State\",\"Tulane\",\"Florida State\",\"Illinois\",\"Indiana\",\"Tennessee\",\"Georgia Tech\",\"West Virginia\",\"Duke\",\"Oregon\",\"Florida\",\"Texas A&M\",\"Southern Miss\",\"Pittsburgh\",\"Rutgers\",\"Ole Miss\",\"Minnesota\",\"Miami (FL)\",\"Arkansas State\",\"Marshall\",\"South Carolina\",\"Kansas State\",\"Georgia\",\"SMU\",\"Louisiana Tech\",\"Texas\",\"Memphis\",\"Boise State\",\"New Mexico\",\"UTEP\",\"Hawaii\",\"Louisville\",\"Cincinnati\",\"Navy\",\"Northwestern\",\"Notre Dame\",\"Army\",\"Clemson\",\"Kentucky\",\"Oklahoma\",\"Auburn\",\"Wake Forest\",\"Baylor\",\"Vanderbilt\",\"Missouri\",\"UAB\",\"Arkansas\",\"Oklahoma State\",\"UL-Lafayette\",\"LSU\",\"Syracuse\",\"Houston\",\"North Texas\",\"UCLA\",\"Ball State\",\"Texas Tech\",\"Nevada\",\"Mississippi State\",\"Kansas\",\"UL-Monroe\",\"TCU\",\"Troy\",\"East Carolina\",\"San Diego State\",\"UCF\",\"Middle Tennessee\",\"San Jose State\",\"Florida Atlantic\",\"Western Kentucky\",\"South Alabama\",\"UTSA\",\"Texas State\",\"Georgia State\",\"Georgia Southern\",\"Appalachian State\",\"Coastal Carolina\",\"Liberty\"],\"legendgroup\":\"2020\",\"line\":{\"color\":\"rgba(255,255,255,0)\"},\"marker\":{\"color\":\"#FF97FF\"},\"name\":\"2020\",\"offsetgroup\":\"2020\",\"orientation\":\"v\",\"pointpos\":0,\"showlegend\":true,\"x\":[5.216058508219805,4.931059440290673,6.005639851784414,6.259138114998159,2.895482139881143,8.816512153659888,5.2937701507117145,1.2936496472516954,1.937335501515029,11.065240264903931,5.8505170204619805,2.9134439708827835,5.693562567180877,5.373464957228239,6.682955905571823,4.891131049703951,11.669721227670273,8.343793662066377,1.1899798935811714,7.467051284518021,2.806437498427996,1.7092258672564873,5.5892827623198285,3.105735649712973,2.6445551958990983,6.475816762990081,2.9253703298131652,3.9161101895357606,7.767006259758795,7.240398709547788,3.591850713244664,6.572985914232075,3.5249889284530815,5.137584348792443,3.088879068843571,6.966149031662939,4.709905803043762,8.653368886474755,2.6681375526613396,3.8869503107455343,7.569488648164287,6.288568334974739,3.4952667501093977,7.22757013220257,6.181050572538109,4.396342051136531,2.2642388566910503,2.6413385789466446,4.235828407828954,6.172178701695437,8.702329540540708,1.9370150255675207,6.653821680997217,9.340884097481375,9.621420487575612,10.329512763017743,4.395196073507887,9.179463393439182,5.595138184578085,4.997970978530153,3.3276016289886616,0.9006470419551657,3.8906201935934552,5.952510236544043,3.262467092559916,7.096317527559306,8.055076584354108,4.487803755144225,2.1054069221210217,3.6946824358479367,3.7336651958481686,4.086636495410696,5.30284703255854,3.658803163467828,5.925811431557695,3.775857189742826,0.6603587496561587,0.9593627425224032,6.391216923795505,5.901177236009836,3.660022778108993,5.478336529182598,6.3841530498510455,2.356543612919303,5.628996979989741,4.92296222218823,4.030298726841355,3.5389538807890317,6.6789311393708015,3.817218561008101,5.2914205797394045,8.51759309116585,9.319160879208003,9.699969384940028,8.941516597769693],\"x0\":\" \",\"xaxis\":\"x\",\"y\":[5,4,7,8,3,9,5,1,1,11,6,2,6,6,6,4,13,8,2,6,3,2,6,3,3,6,2,4,8,9,3,6,3,5,3,8,4,7,2,4,8,7,5,7,8,5,2,3,5,4,9,3,7,10,9,10,5,9,6,4,2,0,5,6,3,8,10,5,1,3,4,3,7,4,7,4,0,0,6,5,3,4,6,3,7,5,5,4,7,2,6,8,9,11,10],\"y0\":\" \",\"yaxis\":\"y\",\"type\":\"box\"},{\"alignmentgroup\":\"True\",\"boxpoints\":\"all\",\"customdata\":[[12,415,382],[13,330,210],[13,594,296],[12,397,236],[12,335,272],[13,407,267],[13,308,329],[13,434,283],[14,462,508],[12,196,450],[12,278,416],[12,257,368],[13,430,322],[12,351,359],[13,420,335],[13,422,367],[14,451,472],[13,406,335],[13,434,267],[13,343,346],[13,403,257],[12,296,266],[14,501,243],[14,328,269],[13,325,225],[15,598,302],[12,225,320],[13,458,417],[13,378,291],[13,362,315],[12,285,267],[13,414,329],[12,331,408],[12,331,318],[12,242,263],[12,207,399],[13,511,378],[12,288,402],[13,328,310],[12,274,477],[14,440,378],[13,399,348],[12,352,191],[12,212,335],[14,580,331],[13,256,333],[13,438,321],[13,331,225],[12,409,341],[12,303,463],[13,429,309],[13,294,312],[13,358,273],[15,579,153],[12,461,341],[12,336,408],[12,423,373],[12,258,434],[13,381,399],[12,361,351],[12,350,228],[12,146,341],[12,249,394],[14,456,342],[13,326,328],[13,369,271],[12,206,377],[13,374,408],[13,411,355],[14,516,236],[12,344,381],[12,187,462],[12,241,339],[13,376,300],[12,199,348],[13,458,256],[13,427,290],[13,342,193],[13,420,282],[12,258,272],[13,508,335],[13,368,283],[13,392,390],[14,574,404],[14,443,256],[12,189,430],[13,378,440],[13,384,302],[13,402,298],[14,435,253],[14,435,259],[14,506,316],[12,271,364],[13,345,346],[12,299,316],[14,502,286],[13,357,357],[12,438,321],[13,313,369],[13,394,392],[13,330,308],[13,464,345],[12,238,474],[13,378,337],[12,249,506],[12,251,402],[12,344,419],[12,274,313],[12,356,315],[12,284,339],[12,245,389],[14,383,277],[12,271,485],[13,415,319],[13,388,334],[12,240,318],[12,244,476],[12,305,309],[14,619,411],[12,299,317],[14,516,345],[12,196,517],[12,277,396],[13,366,352],[13,359,361],[12,243,377],[14,483,310],[12,326,408],[13,532,281],[13,437,280]],\"fillcolor\":\"rgba(255,255,255,0)\",\"hoveron\":\"points\",\"hovertemplate\":\"\\u003cb\\u003e%{hovertext}\\u003c\\u002fb\\u003e\\u003cbr\\u003e\\u003cbr\\u003eseason=2021\\u003cbr\\u003eexpected wins=%{x}\\u003cbr\\u003ewins=%{y}\\u003cbr\\u003egames=%{customdata[0]}\\u003cbr\\u003epoints scored=%{customdata[1]}\\u003cbr\\u003epoints allowed=%{customdata[2]}\\u003cextra\\u003e\\u003c\\u002fextra\\u003e\",\"hovertext\":[\"Virginia\",\"Wisconsin\",\"Ohio State\",\"NC State\",\"Nebraska\",\"Iowa State\",\"Virginia Tech\",\"Toledo\",\"Kent State\",\"Temple\",\"USF\",\"Bowling Green\",\"BYU\",\"Buffalo\",\"Central Michigan\",\"Western Michigan\",\"Northern Illinois\",\"Oregon State\",\"Fresno State\",\"Tulsa\",\"Air Force\",\"Boston College\",\"Michigan\",\"Iowa\",\"Penn State\",\"Alabama\",\"Colorado\",\"North Carolina\",\"Purdue\",\"Washington State\",\"California\",\"Michigan State\",\"Tulane\",\"Florida State\",\"Illinois\",\"Indiana\",\"Tennessee\",\"Georgia Tech\",\"West Virginia\",\"Duke\",\"Oregon\",\"Florida\",\"Texas A&M\",\"Southern Miss\",\"Pittsburgh\",\"Rutgers\",\"Ole Miss\",\"Minnesota\",\"Miami (FL)\",\"Arkansas State\",\"Marshall\",\"South Carolina\",\"Kansas State\",\"Georgia\",\"SMU\",\"Louisiana Tech\",\"Texas\",\"Rice\",\"Maryland\",\"Memphis\",\"Boise State\",\"New Mexico\",\"UNLV\",\"Utah State\",\"UTEP\",\"Arizona State\",\"Arizona\",\"Hawaii\",\"Louisville\",\"Cincinnati\",\"USC\",\"Connecticut\",\"Navy\",\"Miami (OH)\",\"Northwestern\",\"Notre Dame\",\"Army\",\"Clemson\",\"Kentucky\",\"Washington\",\"Oklahoma\",\"Auburn\",\"Eastern Michigan\",\"Wake Forest\",\"Baylor\",\"Vanderbilt\",\"Missouri\",\"UAB\",\"Arkansas\",\"Oklahoma State\",\"UL-Lafayette\",\"Utah\",\"Ohio\",\"LSU\",\"Syracuse\",\"Houston\",\"North Texas\",\"UCLA\",\"Ball State\",\"Texas Tech\",\"Wyoming\",\"Nevada\",\"Akron\",\"Mississippi State\",\"Kansas\",\"UL-Monroe\",\"TCU\",\"Troy\",\"East Carolina\",\"Colorado State\",\"Stanford\",\"San Diego State\",\"New Mexico State\",\"UCF\",\"Middle Tennessee\",\"San Jose State\",\"FIU\",\"Florida Atlantic\",\"Western Kentucky\",\"South Alabama\",\"UTSA\",\"Massachusetts\",\"Texas State\",\"Georgia State\",\"Old Dominion\",\"Georgia Southern\",\"Appalachian State\",\"Charlotte\",\"Coastal Carolina\",\"Liberty\"],\"legendgroup\":\"2021\",\"line\":{\"color\":\"rgba(255,255,255,0)\"},\"marker\":{\"color\":\"#FECB52\"},\"name\":\"2021\",\"offsetgroup\":\"2021\",\"orientation\":\"v\",\"pointpos\":0,\"showlegend\":true,\"x\":[6.587233865167503,9.682737443134513,10.906904713866899,9.291379578036064,7.451840669679898,9.501480959050445,5.992990775266669,9.537921347721461,6.215970598732568,1.46894374468637,3.3339338165229995,3.5910644284235365,8.64449975487238,5.839805947065585,8.201199112778136,7.565892469081155,6.6228464858996485,7.955508197111207,9.87681369137295,6.432926485268678,9.670280699484204,6.755761511760108,11.864411142714314,8.615293997715623,9.165771265848111,12.52006054651955,3.631667310660341,7.219404036023864,8.452613763923686,7.561605440761356,6.462938175466338,8.22760137594918,4.542669555927979,6.284662445401603,5.410242464749686,2.091873819695011,8.728122005527185,3.7450575749980066,6.93409211118645,2.5420186331610606,8.24641987174065,7.544259801161055,9.717982031739218,3.032136701356512,11.070277384715913,4.537621933457213,8.791113777381803,9.281924195681947,7.273187192911394,3.21582853955681,8.907209718346921,6.0430461257833255,8.51888928383147,14.386078394518718,8.05698005671869,4.643403583166632,6.887827344960781,2.7087174785445387,6.144791101152181,6.199658490636386,8.80973280054206,1.4173664481222792,3.024872292205929,9.297984818685086,6.452890586274484,8.77693600009434,2.312784952609984,5.8321598757367745,7.617031557519837,12.104331236620245,5.277186073043692,1.2592130803631134,3.6981350709196334,8.198920784926804,2.5206729011513067,10.383978470083596,9.287490499397855,10.336257348197915,9.359010038350458,5.624780248567581,9.469795909285505,8.460074613885798,6.539398580379125,9.756006355309,11.000958838976544,1.4969571636360075,5.342610119097968,8.301853753708997,8.713720907668822,10.964857488446835,10.830733434544323,10.544878997636987,3.9837874806038007,6.477706294720129,5.607388469980674,11.079592386056756,6.5,8.114874256044741,5.24805425849446,6.539198082703672,7.030236727634356,8.693142914144708,1.9613988555646138,7.378917538485669,1.8843059274128902,2.9604502816859597,4.622686972071909,5.06160179137404,6.863920333695738,4.759489472199201,3.0065549734732064,9.56299521657727,2.4132428357848443,8.463234687259236,7.642346220944796,4.070168120867181,2.043177805002774,5.907367613767891,10.153189635923233,5.58502576732319,10.107069084754835,1.0947384870870536,3.6006745629406947,6.8002004019643785,6.457208841466913,3.1317964168480747,10.373437235817308,4.441287919826561,10.653078618002379,9.642516314778806],\"x0\":\" \",\"xaxis\":\"x\",\"y\":[6,9,11,9,3,7,6,7,7,3,2,4,10,4,9,8,9,7,10,7,10,6,12,10,7,13,4,6,9,7,5,11,2,5,5,2,7,3,6,3,10,6,8,3,11,5,10,9,7,2,7,7,8,14,8,3,5,4,7,6,7,3,2,11,7,8,1,6,6,13,4,1,4,7,3,11,9,10,10,4,11,6,7,11,12,2,6,9,9,12,13,10,3,6,5,12,6,8,6,7,7,8,2,7,2,4,5,5,7,3,3,12,2,9,7,5,1,5,9,5,12,1,4,8,6,3,10,5,11,8],\"y0\":\" \",\"yaxis\":\"y\",\"type\":\"box\"},{\"alignmentgroup\":\"True\",\"boxpoints\":\"all\",\"customdata\":[[10,170,240],[13,342,263],[13,575,273],[13,316,249],[12,271,331],[12,242,243],[11,212,272],[14,438,351],[12,341,348],[12,263,351],[12,336,494],[13,305,423],[13,407,383],[13,371,347],[12,297,338],[12,228,289],[12,327,393],[13,419,260],[14,428,272],[12,367,397],[13,362,174],[12,213,364],[14,566,225],[13,230,173],[13,465,237],[13,534,236],[12,185,534],[14,482,431],[14,372,383],[13,339,298],[12,287,334],[12,293,329],[14,504,311],[13,469,268],[13,315,166],[12,279,407],[13,599,296],[12,206,341],[12,367,395],[13,427,287],[13,504,356],[13,384,375],[12,273,254],[13,329,306],[13,407,316],[12,209,351],[13,435,332],[13,367,180],[12,283,321],[12,300,377],[13,318,208],[13,418,375],[14,452,306],[15,616,214],[13,484,440],[12,348,455],[13,448,281],[13,328,444],[13,366,301],[13,459,338],[14,413,273],[12,157,312],[12,316,342],[13,289,405],[12,293,324],[12,313,377],[12,370,438],[13,257,451],[13,350,249],[13,380,268],[14,579,409],[13,252,341],[12,263,292],[13,263,294],[12,165,340],[13,413,299],[12,343,270],[14,465,292],[13,265,250],[13,516,336],[13,427,390],[12,297,354],[13,387,370],[13,469,368],[13,418,349],[12,295,432],[13,323,327],[13,391,301],[13,423,398],[13,398,376],[13,340,297],[14,541,300],[14,445,396],[14,483,315],[13,360,300],[13,469,418],[14,473,444],[13,510,377],[12,279,323],[13,445,379],[13,276,311],[12,226,371],[12,261,402],[13,411,300],[13,463,461],[12,268,413],[15,582,435],[14,358,240],[13,423,353],[12,158,323],[12,256,386],[13,279,267],[13,331,311],[14,460,331],[13,375,360],[12,329,264],[12,224,447],[12,357,319],[14,510,328],[13,406,277],[14,515,363],[12,150,373],[12,253,316],[12,360,374],[12,234,319],[13,425,411],[12,419,321],[12,293,473],[13,378,414],[13,358,320],[11,407,230]],\"fillcolor\":\"rgba(255,255,255,0)\",\"hoveron\":\"points\",\"hovertemplate\":\"\\u003cb\\u003e%{hovertext}\\u003c\\u002fb\\u003e\\u003cbr\\u003e\\u003cbr\\u003eseason=2022\\u003cbr\\u003eexpected wins=%{x}\\u003cbr\\u003ewins=%{y}\\u003cbr\\u003egames=%{customdata[0]}\\u003cbr\\u003epoints scored=%{customdata[1]}\\u003cbr\\u003epoints allowed=%{customdata[2]}\\u003cextra\\u003e\\u003c\\u002fextra\\u003e\",\"hovertext\":[\"Virginia\",\"Wisconsin\",\"Ohio State\",\"NC State\",\"Nebraska\",\"Iowa State\",\"Virginia Tech\",\"Toledo\",\"Kent State\",\"Temple\",\"USF\",\"Bowling Green\",\"BYU\",\"Buffalo\",\"Central Michigan\",\"Western Michigan\",\"Northern Illinois\",\"Oregon State\",\"Fresno State\",\"Tulsa\",\"Air Force\",\"Boston College\",\"Michigan\",\"Iowa\",\"Penn State\",\"Alabama\",\"Colorado\",\"North Carolina\",\"Purdue\",\"Washington State\",\"California\",\"Michigan State\",\"Tulane\",\"Florida State\",\"Illinois\",\"Indiana\",\"Tennessee\",\"Georgia Tech\",\"West Virginia\",\"Duke\",\"Oregon\",\"Florida\",\"Texas A&M\",\"Southern Miss\",\"Pittsburgh\",\"Rutgers\",\"Ole Miss\",\"Minnesota\",\"Miami (FL)\",\"Arkansas State\",\"Marshall\",\"South Carolina\",\"Kansas State\",\"Georgia\",\"SMU\",\"Louisiana Tech\",\"Texas\",\"Rice\",\"Maryland\",\"Memphis\",\"Boise State\",\"New Mexico\",\"UNLV\",\"Utah State\",\"UTEP\",\"Arizona State\",\"Arizona\",\"Hawaii\",\"Louisville\",\"Cincinnati\",\"USC\",\"Connecticut\",\"Navy\",\"Miami (OH)\",\"Northwestern\",\"Notre Dame\",\"Army\",\"Clemson\",\"Kentucky\",\"Washington\",\"Oklahoma\",\"Auburn\",\"Eastern Michigan\",\"Wake Forest\",\"Baylor\",\"Vanderbilt\",\"Missouri\",\"UAB\",\"Arkansas\",\"Oklahoma State\",\"UL-Lafayette\",\"Utah\",\"Ohio\",\"LSU\",\"Syracuse\",\"Houston\",\"North Texas\",\"UCLA\",\"Ball State\",\"Texas Tech\",\"Wyoming\",\"Nevada\",\"Akron\",\"Mississippi State\",\"Kansas\",\"UL-Monroe\",\"TCU\",\"Troy\",\"East Carolina\",\"Colorado State\",\"Stanford\",\"San Diego State\",\"New Mexico State\",\"UCF\",\"Middle Tennessee\",\"San Jose State\",\"FIU\",\"Florida Atlantic\",\"Western Kentucky\",\"South Alabama\",\"UTSA\",\"Massachusetts\",\"Texas State\",\"Georgia State\",\"Old Dominion\",\"Georgia Southern\",\"Appalachian State\",\"Charlotte\",\"Coastal Carolina\",\"Liberty\",\"James Madison\"],\"legendgroup\":\"2022\",\"line\":{\"color\":\"rgba(255,255,255,0)\"},\"marker\":{\"color\":\"#636efa\"},\"name\":\"2022\",\"offsetgroup\":\"2022\",\"orientation\":\"v\",\"pointpos\":0,\"showlegend\":true,\"x\":[3.0634305530877146,8.460219306591082,11.100515219387876,8.288148528011186,4.604042219303266,5.9706806041940785,3.9213646438998104,8.795757903312861,5.855552698444628,4.024273635509047,3.4355185142847113,4.099806743691097,6.967336281680036,7.01404656422631,5.087708698060592,4.357345052088757,4.713126258210761,9.82815698170993,10.435981984149988,5.4429446704948035,11.052707911491929,2.6311029789108167,12.586187481892873,8.613929513597748,10.81137643594739,11.359791599002998,0.9000089836120395,7.922286738222035,6.7583703241655755,7.485251888650108,4.933166863884399,5.1811971373548955,10.618290170014244,10.272940580909685,10.663525842223704,3.4811582285282556,10.941556729629289,2.789471777056801,5.478563676469275,9.352509378972886,9.035881359387831,6.682628466406889,6.511652160159262,7.056852249363219,8.392872292955975,2.716842928539978,8.51297102084813,10.97217690103273,5.110778598143955,4.414185579209782,9.519322007425346,7.331566214200861,10.023499356365482,13.868140337207498,7.2310209932855205,4.1554861063629085,9.766661235067646,4.2628045546212086,7.979633896368069,8.75885019042646,10.182632823964713,1.9698881377099906,5.439462155329926,4.030940498438351,5.288307068758316,4.698262618195095,4.816161253508738,2.712911241000906,8.988936739222806,9.04592235252823,9.730539746145475,4.265232785077022,5.260081076999109,5.646696473827924,1.8325075512736753,8.87316145738868,7.657294319909067,10.510777270980201,6.948104346185853,9.546330586858602,7.1954614072790735,4.769437343064904,6.845682842103686,8.318226253874773,7.868814027311989,3.4586590736851353,6.405205524636865,8.452798525227678,6.9684241971439205,6.937324517900868,7.532659749724557,11.224881050857404,7.96157754046963,10.270611581565733,7.882881709880576,7.38126207324859,7.523850280933247,8.73281189202819,4.969134646357069,7.721840367493371,5.586469860213253,2.8320109135342486,3.171738884239356,8.818272224671311,6.533343915429112,3.1688146612087102,9.98938666941128,10.08927142014684,7.87245437483061,1.8619272988144784,3.290764699469033,6.838319943964835,6.9791909223414175,9.599480047827262,6.81418638040032,7.530423147532085,1.9537272668784222,6.795482012179625,10.36038412895764,9.258713304702727,9.74583300445121,1.241990505386825,4.454669682972232,5.728925604517549,3.8907804313893646,6.757867179020518,7.83378711534811,2.9187708039688527,5.801991678314476,7.359254559121168,8.74016862869897],\"x0\":\" \",\"xaxis\":\"x\",\"y\":[3,7,11,8,4,4,3,9,5,3,1,6,8,7,4,5,3,10,10,5,10,3,13,8,11,11,1,9,8,7,4,5,12,10,8,4,11,5,5,9,10,6,5,7,9,4,8,9,5,3,9,8,10,15,7,3,8,5,8,7,10,2,5,6,5,3,5,3,8,9,11,6,4,6,1,9,6,11,7,11,6,5,9,8,6,5,6,7,7,7,6,10,10,10,7,8,7,9,5,8,7,2,2,9,6,4,13,12,8,3,3,7,7,9,8,7,4,5,9,10,11,1,4,4,3,6,6,3,9,8,8],\"y0\":\" \",\"yaxis\":\"y\",\"type\":\"box\"}],                        {\"template\":{\"data\":{\"histogram2dcontour\":[{\"type\":\"histogram2dcontour\",\"colorbar\":{\"outlinewidth\":0,\"ticks\":\"\"},\"colorscale\":[[0.0,\"#0d0887\"],[0.1111111111111111,\"#46039f\"],[0.2222222222222222,\"#7201a8\"],[0.3333333333333333,\"#9c179e\"],[0.4444444444444444,\"#bd3786\"],[0.5555555555555556,\"#d8576b\"],[0.6666666666666666,\"#ed7953\"],[0.7777777777777778,\"#fb9f3a\"],[0.8888888888888888,\"#fdca26\"],[1.0,\"#f0f921\"]]}],\"choropleth\":[{\"type\":\"choropleth\",\"colorbar\":{\"outlinewidth\":0,\"ticks\":\"\"}}],\"histogram2d\":[{\"type\":\"histogram2d\",\"colorbar\":{\"outlinewidth\":0,\"ticks\":\"\"},\"colorscale\":[[0.0,\"#0d0887\"],[0.1111111111111111,\"#46039f\"],[0.2222222222222222,\"#7201a8\"],[0.3333333333333333,\"#9c179e\"],[0.4444444444444444,\"#bd3786\"],[0.5555555555555556,\"#d8576b\"],[0.6666666666666666,\"#ed7953\"],[0.7777777777777778,\"#fb9f3a\"],[0.8888888888888888,\"#fdca26\"],[1.0,\"#f0f921\"]]}],\"heatmap\":[{\"type\":\"heatmap\",\"colorbar\":{\"outlinewidth\":0,\"ticks\":\"\"},\"colorscale\":[[0.0,\"#0d0887\"],[0.1111111111111111,\"#46039f\"],[0.2222222222222222,\"#7201a8\"],[0.3333333333333333,\"#9c179e\"],[0.4444444444444444,\"#bd3786\"],[0.5555555555555556,\"#d8576b\"],[0.6666666666666666,\"#ed7953\"],[0.7777777777777778,\"#fb9f3a\"],[0.8888888888888888,\"#fdca26\"],[1.0,\"#f0f921\"]]}],\"heatmapgl\":[{\"type\":\"heatmapgl\",\"colorbar\":{\"outlinewidth\":0,\"ticks\":\"\"},\"colorscale\":[[0.0,\"#0d0887\"],[0.1111111111111111,\"#46039f\"],[0.2222222222222222,\"#7201a8\"],[0.3333333333333333,\"#9c179e\"],[0.4444444444444444,\"#bd3786\"],[0.5555555555555556,\"#d8576b\"],[0.6666666666666666,\"#ed7953\"],[0.7777777777777778,\"#fb9f3a\"],[0.8888888888888888,\"#fdca26\"],[1.0,\"#f0f921\"]]}],\"contourcarpet\":[{\"type\":\"contourcarpet\",\"colorbar\":{\"outlinewidth\":0,\"ticks\":\"\"}}],\"contour\":[{\"type\":\"contour\",\"colorbar\":{\"outlinewidth\":0,\"ticks\":\"\"},\"colorscale\":[[0.0,\"#0d0887\"],[0.1111111111111111,\"#46039f\"],[0.2222222222222222,\"#7201a8\"],[0.3333333333333333,\"#9c179e\"],[0.4444444444444444,\"#bd3786\"],[0.5555555555555556,\"#d8576b\"],[0.6666666666666666,\"#ed7953\"],[0.7777777777777778,\"#fb9f3a\"],[0.8888888888888888,\"#fdca26\"],[1.0,\"#f0f921\"]]}],\"surface\":[{\"type\":\"surface\",\"colorbar\":{\"outlinewidth\":0,\"ticks\":\"\"},\"colorscale\":[[0.0,\"#0d0887\"],[0.1111111111111111,\"#46039f\"],[0.2222222222222222,\"#7201a8\"],[0.3333333333333333,\"#9c179e\"],[0.4444444444444444,\"#bd3786\"],[0.5555555555555556,\"#d8576b\"],[0.6666666666666666,\"#ed7953\"],[0.7777777777777778,\"#fb9f3a\"],[0.8888888888888888,\"#fdca26\"],[1.0,\"#f0f921\"]]}],\"mesh3d\":[{\"type\":\"mesh3d\",\"colorbar\":{\"outlinewidth\":0,\"ticks\":\"\"}}],\"scatter\":[{\"fillpattern\":{\"fillmode\":\"overlay\",\"size\":10,\"solidity\":0.2},\"type\":\"scatter\"}],\"parcoords\":[{\"type\":\"parcoords\",\"line\":{\"colorbar\":{\"outlinewidth\":0,\"ticks\":\"\"}}}],\"scatterpolargl\":[{\"type\":\"scatterpolargl\",\"marker\":{\"colorbar\":{\"outlinewidth\":0,\"ticks\":\"\"}}}],\"bar\":[{\"error_x\":{\"color\":\"#2a3f5f\"},\"error_y\":{\"color\":\"#2a3f5f\"},\"marker\":{\"line\":{\"color\":\"#E5ECF6\",\"width\":0.5},\"pattern\":{\"fillmode\":\"overlay\",\"size\":10,\"solidity\":0.2}},\"type\":\"bar\"}],\"scattergeo\":[{\"type\":\"scattergeo\",\"marker\":{\"colorbar\":{\"outlinewidth\":0,\"ticks\":\"\"}}}],\"scatterpolar\":[{\"type\":\"scatterpolar\",\"marker\":{\"colorbar\":{\"outlinewidth\":0,\"ticks\":\"\"}}}],\"histogram\":[{\"marker\":{\"pattern\":{\"fillmode\":\"overlay\",\"size\":10,\"solidity\":0.2}},\"type\":\"histogram\"}],\"scattergl\":[{\"type\":\"scattergl\",\"marker\":{\"colorbar\":{\"outlinewidth\":0,\"ticks\":\"\"}}}],\"scatter3d\":[{\"type\":\"scatter3d\",\"line\":{\"colorbar\":{\"outlinewidth\":0,\"ticks\":\"\"}},\"marker\":{\"colorbar\":{\"outlinewidth\":0,\"ticks\":\"\"}}}],\"scattermapbox\":[{\"type\":\"scattermapbox\",\"marker\":{\"colorbar\":{\"outlinewidth\":0,\"ticks\":\"\"}}}],\"scatterternary\":[{\"type\":\"scatterternary\",\"marker\":{\"colorbar\":{\"outlinewidth\":0,\"ticks\":\"\"}}}],\"scattercarpet\":[{\"type\":\"scattercarpet\",\"marker\":{\"colorbar\":{\"outlinewidth\":0,\"ticks\":\"\"}}}],\"carpet\":[{\"aaxis\":{\"endlinecolor\":\"#2a3f5f\",\"gridcolor\":\"white\",\"linecolor\":\"white\",\"minorgridcolor\":\"white\",\"startlinecolor\":\"#2a3f5f\"},\"baxis\":{\"endlinecolor\":\"#2a3f5f\",\"gridcolor\":\"white\",\"linecolor\":\"white\",\"minorgridcolor\":\"white\",\"startlinecolor\":\"#2a3f5f\"},\"type\":\"carpet\"}],\"table\":[{\"cells\":{\"fill\":{\"color\":\"#EBF0F8\"},\"line\":{\"color\":\"white\"}},\"header\":{\"fill\":{\"color\":\"#C8D4E3\"},\"line\":{\"color\":\"white\"}},\"type\":\"table\"}],\"barpolar\":[{\"marker\":{\"line\":{\"color\":\"#E5ECF6\",\"width\":0.5},\"pattern\":{\"fillmode\":\"overlay\",\"size\":10,\"solidity\":0.2}},\"type\":\"barpolar\"}],\"pie\":[{\"automargin\":true,\"type\":\"pie\"}]},\"layout\":{\"autotypenumbers\":\"strict\",\"colorway\":[\"#636efa\",\"#EF553B\",\"#00cc96\",\"#ab63fa\",\"#FFA15A\",\"#19d3f3\",\"#FF6692\",\"#B6E880\",\"#FF97FF\",\"#FECB52\"],\"font\":{\"color\":\"#2a3f5f\"},\"hovermode\":\"closest\",\"hoverlabel\":{\"align\":\"left\"},\"paper_bgcolor\":\"white\",\"plot_bgcolor\":\"#E5ECF6\",\"polar\":{\"bgcolor\":\"#E5ECF6\",\"angularaxis\":{\"gridcolor\":\"white\",\"linecolor\":\"white\",\"ticks\":\"\"},\"radialaxis\":{\"gridcolor\":\"white\",\"linecolor\":\"white\",\"ticks\":\"\"}},\"ternary\":{\"bgcolor\":\"#E5ECF6\",\"aaxis\":{\"gridcolor\":\"white\",\"linecolor\":\"white\",\"ticks\":\"\"},\"baxis\":{\"gridcolor\":\"white\",\"linecolor\":\"white\",\"ticks\":\"\"},\"caxis\":{\"gridcolor\":\"white\",\"linecolor\":\"white\",\"ticks\":\"\"}},\"coloraxis\":{\"colorbar\":{\"outlinewidth\":0,\"ticks\":\"\"}},\"colorscale\":{\"sequential\":[[0.0,\"#0d0887\"],[0.1111111111111111,\"#46039f\"],[0.2222222222222222,\"#7201a8\"],[0.3333333333333333,\"#9c179e\"],[0.4444444444444444,\"#bd3786\"],[0.5555555555555556,\"#d8576b\"],[0.6666666666666666,\"#ed7953\"],[0.7777777777777778,\"#fb9f3a\"],[0.8888888888888888,\"#fdca26\"],[1.0,\"#f0f921\"]],\"sequentialminus\":[[0.0,\"#0d0887\"],[0.1111111111111111,\"#46039f\"],[0.2222222222222222,\"#7201a8\"],[0.3333333333333333,\"#9c179e\"],[0.4444444444444444,\"#bd3786\"],[0.5555555555555556,\"#d8576b\"],[0.6666666666666666,\"#ed7953\"],[0.7777777777777778,\"#fb9f3a\"],[0.8888888888888888,\"#fdca26\"],[1.0,\"#f0f921\"]],\"diverging\":[[0,\"#8e0152\"],[0.1,\"#c51b7d\"],[0.2,\"#de77ae\"],[0.3,\"#f1b6da\"],[0.4,\"#fde0ef\"],[0.5,\"#f7f7f7\"],[0.6,\"#e6f5d0\"],[0.7,\"#b8e186\"],[0.8,\"#7fbc41\"],[0.9,\"#4d9221\"],[1,\"#276419\"]]},\"xaxis\":{\"gridcolor\":\"white\",\"linecolor\":\"white\",\"ticks\":\"\",\"title\":{\"standoff\":15},\"zerolinecolor\":\"white\",\"automargin\":true,\"zerolinewidth\":2},\"yaxis\":{\"gridcolor\":\"white\",\"linecolor\":\"white\",\"ticks\":\"\",\"title\":{\"standoff\":15},\"zerolinecolor\":\"white\",\"automargin\":true,\"zerolinewidth\":2},\"scene\":{\"xaxis\":{\"backgroundcolor\":\"#E5ECF6\",\"gridcolor\":\"white\",\"linecolor\":\"white\",\"showbackground\":true,\"ticks\":\"\",\"zerolinecolor\":\"white\",\"gridwidth\":2},\"yaxis\":{\"backgroundcolor\":\"#E5ECF6\",\"gridcolor\":\"white\",\"linecolor\":\"white\",\"showbackground\":true,\"ticks\":\"\",\"zerolinecolor\":\"white\",\"gridwidth\":2},\"zaxis\":{\"backgroundcolor\":\"#E5ECF6\",\"gridcolor\":\"white\",\"linecolor\":\"white\",\"showbackground\":true,\"ticks\":\"\",\"zerolinecolor\":\"white\",\"gridwidth\":2}},\"shapedefaults\":{\"line\":{\"color\":\"#2a3f5f\"}},\"annotationdefaults\":{\"arrowcolor\":\"#2a3f5f\",\"arrowhead\":0,\"arrowwidth\":1},\"geo\":{\"bgcolor\":\"white\",\"landcolor\":\"#E5ECF6\",\"subunitcolor\":\"white\",\"showland\":true,\"showlakes\":true,\"lakecolor\":\"white\"},\"title\":{\"x\":0.05},\"mapbox\":{\"style\":\"light\"}}},\"xaxis\":{\"anchor\":\"y\",\"domain\":[0.0,1.0],\"title\":{\"text\":\"expected wins\"}},\"yaxis\":{\"anchor\":\"x\",\"domain\":[0.0,1.0],\"title\":{\"text\":\"wins\"}},\"legend\":{\"title\":{\"text\":\"season\"},\"tracegroupgap\":0},\"margin\":{\"t\":60},\"boxmode\":\"group\"},                        {\"responsive\": true}                    ).then(function(){\n",
       "                            \n",
       "var gd = document.getElementById('fed000fd-db2a-4e2c-8861-6fd0f50dec33');\n",
       "var x = new MutationObserver(function (mutations, observer) {{\n",
       "        var display = window.getComputedStyle(gd).display;\n",
       "        if (!display || display === 'none') {{\n",
       "            console.log([gd, 'removed!']);\n",
       "            Plotly.purge(gd);\n",
       "            observer.disconnect();\n",
       "        }}\n",
       "}});\n",
       "\n",
       "// Listen for the removal of the full notebook cells\n",
       "var notebookContainer = gd.closest('#notebook-container');\n",
       "if (notebookContainer) {{\n",
       "    x.observe(notebookContainer, {childList: true});\n",
       "}}\n",
       "\n",
       "// Listen for the clearing of the current output cell\n",
       "var outputEl = gd.closest('.output');\n",
       "if (outputEl) {{\n",
       "    x.observe(outputEl, {childList: true});\n",
       "}}\n",
       "\n",
       "                        })                };                });            </script>        </div>"
      ]
     },
     "metadata": {},
     "output_type": "display_data"
    }
   ],
   "source": [
    "from plotly import express\n",
    "\n",
    "express.strip(data_frame=result_df[result_df['games'] > 6], x='expected wins', y='wins', color='season', hover_name='team', \n",
    "                hover_data=['games', 'points scored', 'points allowed'])"
   ]
  }
 ],
 "metadata": {
  "kaggle": {
   "accelerator": "none",
   "dataSources": [
    {
     "datasetId": 5579581,
     "sourceId": 9245072,
     "sourceType": "datasetVersion"
    }
   ],
   "dockerImageVersionId": 30804,
   "isGpuEnabled": false,
   "isInternetEnabled": true,
   "language": "python",
   "sourceType": "notebook"
  },
  "kernelspec": {
   "display_name": "Python 3",
   "language": "python",
   "name": "python3"
  },
  "language_info": {
   "codemirror_mode": {
    "name": "ipython",
    "version": 3
   },
   "file_extension": ".py",
   "mimetype": "text/x-python",
   "name": "python",
   "nbconvert_exporter": "python",
   "pygments_lexer": "ipython3",
   "version": "3.10.14"
  },
  "papermill": {
   "default_parameters": {},
   "duration": 17.789934,
   "end_time": "2025-01-04T00:43:23.379787",
   "environment_variables": {},
   "exception": null,
   "input_path": "__notebook__.ipynb",
   "output_path": "__notebook__.ipynb",
   "parameters": {},
   "start_time": "2025-01-04T00:43:05.589853",
   "version": "2.6.0"
  }
 },
 "nbformat": 4,
 "nbformat_minor": 5
}
