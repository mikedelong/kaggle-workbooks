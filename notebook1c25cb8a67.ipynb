{
 "cells": [
  {
   "cell_type": "code",
   "execution_count": 1,
   "id": "f6d47407",
   "metadata": {
    "_cell_guid": "b1076dfc-b9ad-4769-8c92-a6c4dae69d19",
    "_uuid": "8f2839f25d086af736a60e9eeb907d3b93b6e0e5",
    "execution": {
     "iopub.execute_input": "2025-01-04T00:17:02.218544Z",
     "iopub.status.busy": "2025-01-04T00:17:02.217998Z",
     "iopub.status.idle": "2025-01-04T00:17:03.473853Z",
     "shell.execute_reply": "2025-01-04T00:17:03.472431Z"
    },
    "papermill": {
     "duration": 1.266911,
     "end_time": "2025-01-04T00:17:03.476782",
     "exception": false,
     "start_time": "2025-01-04T00:17:02.209871",
     "status": "completed"
    },
    "tags": []
   },
   "outputs": [
    {
     "data": {
      "text/html": [
       "<div>\n",
       "<style scoped>\n",
       "    .dataframe tbody tr th:only-of-type {\n",
       "        vertical-align: middle;\n",
       "    }\n",
       "\n",
       "    .dataframe tbody tr th {\n",
       "        vertical-align: top;\n",
       "    }\n",
       "\n",
       "    .dataframe thead th {\n",
       "        text-align: right;\n",
       "    }\n",
       "</style>\n",
       "<table border=\"1\" class=\"dataframe\">\n",
       "  <thead>\n",
       "    <tr style=\"text-align: right;\">\n",
       "      <th></th>\n",
       "      <th>season</th>\n",
       "      <th>week</th>\n",
       "      <th>date</th>\n",
       "      <th>time_et</th>\n",
       "      <th>game_type</th>\n",
       "      <th>away</th>\n",
       "      <th>home</th>\n",
       "      <th>rank_away</th>\n",
       "      <th>rank_home</th>\n",
       "      <th>conf_away</th>\n",
       "      <th>...</th>\n",
       "      <th>int_away</th>\n",
       "      <th>int_home</th>\n",
       "      <th>pen_num_away</th>\n",
       "      <th>pen_yards_away</th>\n",
       "      <th>pen_num_home</th>\n",
       "      <th>pen_yards_home</th>\n",
       "      <th>possession_away</th>\n",
       "      <th>possession_home</th>\n",
       "      <th>attendance</th>\n",
       "      <th>tv</th>\n",
       "    </tr>\n",
       "  </thead>\n",
       "  <tbody>\n",
       "    <tr>\n",
       "      <th>0</th>\n",
       "      <td>2002</td>\n",
       "      <td>1.0</td>\n",
       "      <td>2002-08-22</td>\n",
       "      <td>7:30 PM</td>\n",
       "      <td>regular</td>\n",
       "      <td>Colorado State</td>\n",
       "      <td>Virginia</td>\n",
       "      <td>NaN</td>\n",
       "      <td>NaN</td>\n",
       "      <td>mwc</td>\n",
       "      <td>...</td>\n",
       "      <td>NaN</td>\n",
       "      <td>NaN</td>\n",
       "      <td>NaN</td>\n",
       "      <td>NaN</td>\n",
       "      <td>NaN</td>\n",
       "      <td>NaN</td>\n",
       "      <td>NaN</td>\n",
       "      <td>NaN</td>\n",
       "      <td>57120.0</td>\n",
       "      <td>NaN</td>\n",
       "    </tr>\n",
       "    <tr>\n",
       "      <th>1</th>\n",
       "      <td>2002</td>\n",
       "      <td>1.0</td>\n",
       "      <td>2002-08-23</td>\n",
       "      <td>8:00 PM</td>\n",
       "      <td>regular</td>\n",
       "      <td>Fresno State</td>\n",
       "      <td>Wisconsin</td>\n",
       "      <td>NaN</td>\n",
       "      <td>25.0</td>\n",
       "      <td>wac</td>\n",
       "      <td>...</td>\n",
       "      <td>NaN</td>\n",
       "      <td>NaN</td>\n",
       "      <td>NaN</td>\n",
       "      <td>NaN</td>\n",
       "      <td>NaN</td>\n",
       "      <td>NaN</td>\n",
       "      <td>NaN</td>\n",
       "      <td>NaN</td>\n",
       "      <td>75136.0</td>\n",
       "      <td>NaN</td>\n",
       "    </tr>\n",
       "    <tr>\n",
       "      <th>2</th>\n",
       "      <td>2002</td>\n",
       "      <td>1.0</td>\n",
       "      <td>2002-08-24</td>\n",
       "      <td>2:30 PM</td>\n",
       "      <td>regular</td>\n",
       "      <td>Texas Tech</td>\n",
       "      <td>Ohio State</td>\n",
       "      <td>NaN</td>\n",
       "      <td>13.0</td>\n",
       "      <td>big12</td>\n",
       "      <td>...</td>\n",
       "      <td>NaN</td>\n",
       "      <td>NaN</td>\n",
       "      <td>NaN</td>\n",
       "      <td>NaN</td>\n",
       "      <td>NaN</td>\n",
       "      <td>NaN</td>\n",
       "      <td>NaN</td>\n",
       "      <td>NaN</td>\n",
       "      <td>100037.0</td>\n",
       "      <td>NaN</td>\n",
       "    </tr>\n",
       "    <tr>\n",
       "      <th>3</th>\n",
       "      <td>2002</td>\n",
       "      <td>1.0</td>\n",
       "      <td>2002-08-24</td>\n",
       "      <td>4:30 PM</td>\n",
       "      <td>regular</td>\n",
       "      <td>New Mexico</td>\n",
       "      <td>NC State</td>\n",
       "      <td>NaN</td>\n",
       "      <td>NaN</td>\n",
       "      <td>mwc</td>\n",
       "      <td>...</td>\n",
       "      <td>NaN</td>\n",
       "      <td>NaN</td>\n",
       "      <td>NaN</td>\n",
       "      <td>NaN</td>\n",
       "      <td>NaN</td>\n",
       "      <td>NaN</td>\n",
       "      <td>NaN</td>\n",
       "      <td>NaN</td>\n",
       "      <td>47018.0</td>\n",
       "      <td>NaN</td>\n",
       "    </tr>\n",
       "    <tr>\n",
       "      <th>4</th>\n",
       "      <td>2002</td>\n",
       "      <td>1.0</td>\n",
       "      <td>2002-08-24</td>\n",
       "      <td>7:45 PM</td>\n",
       "      <td>regular</td>\n",
       "      <td>Arizona State</td>\n",
       "      <td>Nebraska</td>\n",
       "      <td>NaN</td>\n",
       "      <td>10.0</td>\n",
       "      <td>pac12</td>\n",
       "      <td>...</td>\n",
       "      <td>NaN</td>\n",
       "      <td>NaN</td>\n",
       "      <td>NaN</td>\n",
       "      <td>NaN</td>\n",
       "      <td>NaN</td>\n",
       "      <td>NaN</td>\n",
       "      <td>NaN</td>\n",
       "      <td>NaN</td>\n",
       "      <td>77779.0</td>\n",
       "      <td>NaN</td>\n",
       "    </tr>\n",
       "  </tbody>\n",
       "</table>\n",
       "<p>5 rows × 58 columns</p>\n",
       "</div>"
      ],
      "text/plain": [
       "   season  week        date  time_et game_type            away        home  \\\n",
       "0    2002   1.0  2002-08-22  7:30 PM   regular  Colorado State    Virginia   \n",
       "1    2002   1.0  2002-08-23  8:00 PM   regular    Fresno State   Wisconsin   \n",
       "2    2002   1.0  2002-08-24  2:30 PM   regular      Texas Tech  Ohio State   \n",
       "3    2002   1.0  2002-08-24  4:30 PM   regular      New Mexico    NC State   \n",
       "4    2002   1.0  2002-08-24  7:45 PM   regular   Arizona State    Nebraska   \n",
       "\n",
       "   rank_away  rank_home conf_away  ... int_away  int_home  pen_num_away  \\\n",
       "0        NaN        NaN       mwc  ...      NaN       NaN           NaN   \n",
       "1        NaN       25.0       wac  ...      NaN       NaN           NaN   \n",
       "2        NaN       13.0     big12  ...      NaN       NaN           NaN   \n",
       "3        NaN        NaN       mwc  ...      NaN       NaN           NaN   \n",
       "4        NaN       10.0     pac12  ...      NaN       NaN           NaN   \n",
       "\n",
       "   pen_yards_away  pen_num_home  pen_yards_home  possession_away  \\\n",
       "0             NaN           NaN             NaN              NaN   \n",
       "1             NaN           NaN             NaN              NaN   \n",
       "2             NaN           NaN             NaN              NaN   \n",
       "3             NaN           NaN             NaN              NaN   \n",
       "4             NaN           NaN             NaN              NaN   \n",
       "\n",
       "   possession_home  attendance   tv  \n",
       "0              NaN     57120.0  NaN  \n",
       "1              NaN     75136.0  NaN  \n",
       "2              NaN    100037.0  NaN  \n",
       "3              NaN     47018.0  NaN  \n",
       "4              NaN     77779.0  NaN  \n",
       "\n",
       "[5 rows x 58 columns]"
      ]
     },
     "execution_count": 1,
     "metadata": {},
     "output_type": "execute_result"
    }
   ],
   "source": [
    "import pandas as pd\n",
    "\n",
    "DATA = '/kaggle/input/college-football-team-stats-2002-to-january-2024/cfb_box-scores_2002-2023.csv'\n",
    "df = pd.read_csv(filepath_or_buffer=DATA)\n",
    "df.head()"
   ]
  },
  {
   "cell_type": "markdown",
   "id": "b694bc4e",
   "metadata": {
    "papermill": {
     "duration": 0.005862,
     "end_time": "2025-01-04T00:17:03.489534",
     "exception": false,
     "start_time": "2025-01-04T00:17:03.483672",
     "status": "completed"
    },
    "tags": []
   },
   "source": [
    "How big is our dataset?"
   ]
  },
  {
   "cell_type": "code",
   "execution_count": 2,
   "id": "a7bd6e25",
   "metadata": {
    "execution": {
     "iopub.execute_input": "2025-01-04T00:17:03.503617Z",
     "iopub.status.busy": "2025-01-04T00:17:03.503169Z",
     "iopub.status.idle": "2025-01-04T00:17:03.921948Z",
     "shell.execute_reply": "2025-01-04T00:17:03.920832Z"
    },
    "papermill": {
     "duration": 0.428496,
     "end_time": "2025-01-04T00:17:03.924258",
     "exception": false,
     "start_time": "2025-01-04T00:17:03.495762",
     "status": "completed"
    },
    "tags": []
   },
   "outputs": [
    {
     "data": {
      "text/plain": [
       "<Axes: xlabel='season'>"
      ]
     },
     "execution_count": 2,
     "metadata": {},
     "output_type": "execute_result"
    },
    {
     "data": {
      "image/png": "[encoded data removed]",
      "text/plain": [
       "<Figure size 640x480 with 1 Axes>"
      ]
     },
     "metadata": {},
     "output_type": "display_data"
    }
   ],
   "source": [
    "df['season'].value_counts().sort_index().plot(kind='bar')"
   ]
  },
  {
   "cell_type": "markdown",
   "id": "81df06a8",
   "metadata": {
    "papermill": {
     "duration": 0.0054,
     "end_time": "2025-01-04T00:17:03.936510",
     "exception": false,
     "start_time": "2025-01-04T00:17:03.931110",
     "status": "completed"
    },
    "tags": []
   },
   "source": [
    "We have roughly 800 games a year for 21 years; that's a lot of games."
   ]
  },
  {
   "cell_type": "markdown",
   "id": "31294271",
   "metadata": {
    "papermill": {
     "duration": 0.0051,
     "end_time": "2025-01-04T00:17:03.947018",
     "exception": false,
     "start_time": "2025-01-04T00:17:03.941918",
     "status": "completed"
    },
    "tags": []
   },
   "source": [
    "Let's get just the win/loss figures first, and put them in a separate DataFrame."
   ]
  },
  {
   "cell_type": "code",
   "execution_count": 3,
   "id": "e4731a60",
   "metadata": {
    "execution": {
     "iopub.execute_input": "2025-01-04T00:17:03.959831Z",
     "iopub.status.busy": "2025-01-04T00:17:03.959442Z",
     "iopub.status.idle": "2025-01-04T00:17:04.498848Z",
     "shell.execute_reply": "2025-01-04T00:17:04.497591Z"
    },
    "papermill": {
     "duration": 0.548521,
     "end_time": "2025-01-04T00:17:04.501254",
     "exception": false,
     "start_time": "2025-01-04T00:17:03.952733",
     "status": "completed"
    },
    "tags": []
   },
   "outputs": [],
   "source": [
    "win_loss_df = df[['season', 'home', 'away', 'score_away', 'score_home']].copy()\n",
    "win_loss_df['winner'] = win_loss_df.apply(axis='columns', func=lambda x: 'home' if x['score_home'] > x['score_away'] else 'away')\n",
    "win_loss_df['W'] = win_loss_df.apply(axis='columns', func=lambda x: x['home'] if x['score_home'] > x['score_away'] else x['away'])\n",
    "win_loss_df['L'] = win_loss_df.apply(axis='columns', func=lambda x: x['home'] if x['score_home'] < x['score_away'] else x['away'])"
   ]
  },
  {
   "cell_type": "markdown",
   "id": "5a40eae0",
   "metadata": {
    "papermill": {
     "duration": 0.005026,
     "end_time": "2025-01-04T00:17:04.511995",
     "exception": false,
     "start_time": "2025-01-04T00:17:04.506969",
     "status": "completed"
    },
    "tags": []
   },
   "source": [
    "Which teams have the most losses over the period of interest?"
   ]
  },
  {
   "cell_type": "code",
   "execution_count": 4,
   "id": "d5dcec9b",
   "metadata": {
    "execution": {
     "iopub.execute_input": "2025-01-04T00:17:04.524154Z",
     "iopub.status.busy": "2025-01-04T00:17:04.523750Z",
     "iopub.status.idle": "2025-01-04T00:17:04.538826Z",
     "shell.execute_reply": "2025-01-04T00:17:04.536881Z"
    },
    "papermill": {
     "duration": 0.023798,
     "end_time": "2025-01-04T00:17:04.541051",
     "exception": false,
     "start_time": "2025-01-04T00:17:04.517253",
     "status": "completed"
    },
    "tags": []
   },
   "outputs": [
    {
     "data": {
      "text/html": [
       "<div>\n",
       "<style scoped>\n",
       "    .dataframe tbody tr th:only-of-type {\n",
       "        vertical-align: middle;\n",
       "    }\n",
       "\n",
       "    .dataframe tbody tr th {\n",
       "        vertical-align: top;\n",
       "    }\n",
       "\n",
       "    .dataframe thead th {\n",
       "        text-align: right;\n",
       "    }\n",
       "</style>\n",
       "<table border=\"1\" class=\"dataframe\">\n",
       "  <thead>\n",
       "    <tr style=\"text-align: right;\">\n",
       "      <th>L</th>\n",
       "      <th>UNLV</th>\n",
       "      <th>New Mexico State</th>\n",
       "      <th>Kansas</th>\n",
       "      <th>Akron</th>\n",
       "      <th>Eastern Michigan</th>\n",
       "      <th>UTEP</th>\n",
       "      <th>Vanderbilt</th>\n",
       "      <th>UL-Monroe</th>\n",
       "      <th>New Mexico</th>\n",
       "      <th>Illinois</th>\n",
       "    </tr>\n",
       "  </thead>\n",
       "  <tbody>\n",
       "    <tr>\n",
       "      <th>count</th>\n",
       "      <td>182</td>\n",
       "      <td>182</td>\n",
       "      <td>177</td>\n",
       "      <td>176</td>\n",
       "      <td>176</td>\n",
       "      <td>174</td>\n",
       "      <td>174</td>\n",
       "      <td>170</td>\n",
       "      <td>170</td>\n",
       "      <td>168</td>\n",
       "    </tr>\n",
       "  </tbody>\n",
       "</table>\n",
       "</div>"
      ],
      "text/plain": [
       "L      UNLV  New Mexico State  Kansas  Akron  Eastern Michigan  UTEP  \\\n",
       "count   182               182     177    176               176   174   \n",
       "\n",
       "L      Vanderbilt  UL-Monroe  New Mexico  Illinois  \n",
       "count         174        170         170       168  "
      ]
     },
     "execution_count": 4,
     "metadata": {},
     "output_type": "execute_result"
    }
   ],
   "source": [
    "win_loss_df['L'].value_counts().head(n=10).to_frame().T"
   ]
  },
  {
   "cell_type": "markdown",
   "id": "6990daa3",
   "metadata": {
    "papermill": {
     "duration": 0.005836,
     "end_time": "2025-01-04T00:17:04.555817",
     "exception": false,
     "start_time": "2025-01-04T00:17:04.549981",
     "status": "completed"
    },
    "tags": []
   },
   "source": [
    "Which teams have the most wins over the period of interest?"
   ]
  },
  {
   "cell_type": "code",
   "execution_count": 5,
   "id": "e67aea34",
   "metadata": {
    "execution": {
     "iopub.execute_input": "2025-01-04T00:17:04.572603Z",
     "iopub.status.busy": "2025-01-04T00:17:04.571031Z",
     "iopub.status.idle": "2025-01-04T00:17:04.590221Z",
     "shell.execute_reply": "2025-01-04T00:17:04.589028Z"
    },
    "papermill": {
     "duration": 0.030932,
     "end_time": "2025-01-04T00:17:04.593862",
     "exception": false,
     "start_time": "2025-01-04T00:17:04.562930",
     "status": "completed"
    },
    "tags": []
   },
   "outputs": [
    {
     "data": {
      "text/html": [
       "<div>\n",
       "<style scoped>\n",
       "    .dataframe tbody tr th:only-of-type {\n",
       "        vertical-align: middle;\n",
       "    }\n",
       "\n",
       "    .dataframe tbody tr th {\n",
       "        vertical-align: top;\n",
       "    }\n",
       "\n",
       "    .dataframe thead th {\n",
       "        text-align: right;\n",
       "    }\n",
       "</style>\n",
       "<table border=\"1\" class=\"dataframe\">\n",
       "  <thead>\n",
       "    <tr style=\"text-align: right;\">\n",
       "      <th>W</th>\n",
       "      <th>Ohio State</th>\n",
       "      <th>Alabama</th>\n",
       "      <th>Georgia</th>\n",
       "      <th>Oklahoma</th>\n",
       "      <th>Boise State</th>\n",
       "      <th>Clemson</th>\n",
       "      <th>LSU</th>\n",
       "      <th>USC</th>\n",
       "      <th>Oregon</th>\n",
       "      <th>Wisconsin</th>\n",
       "    </tr>\n",
       "  </thead>\n",
       "  <tbody>\n",
       "    <tr>\n",
       "      <th>count</th>\n",
       "      <td>244</td>\n",
       "      <td>243</td>\n",
       "      <td>232</td>\n",
       "      <td>231</td>\n",
       "      <td>231</td>\n",
       "      <td>220</td>\n",
       "      <td>216</td>\n",
       "      <td>205</td>\n",
       "      <td>203</td>\n",
       "      <td>202</td>\n",
       "    </tr>\n",
       "  </tbody>\n",
       "</table>\n",
       "</div>"
      ],
      "text/plain": [
       "W      Ohio State  Alabama  Georgia  Oklahoma  Boise State  Clemson  LSU  USC  \\\n",
       "count         244      243      232       231          231      220  216  205   \n",
       "\n",
       "W      Oregon  Wisconsin  \n",
       "count     203        202  "
      ]
     },
     "execution_count": 5,
     "metadata": {},
     "output_type": "execute_result"
    }
   ],
   "source": [
    "win_loss_df['W'].value_counts().head(n=10).to_frame().T"
   ]
  },
  {
   "cell_type": "code",
   "execution_count": 6,
   "id": "9e2dcee3",
   "metadata": {
    "execution": {
     "iopub.execute_input": "2025-01-04T00:17:04.609884Z",
     "iopub.status.busy": "2025-01-04T00:17:04.609378Z",
     "iopub.status.idle": "2025-01-04T00:17:04.625522Z",
     "shell.execute_reply": "2025-01-04T00:17:04.624649Z"
    },
    "papermill": {
     "duration": 0.027284,
     "end_time": "2025-01-04T00:17:04.627975",
     "exception": false,
     "start_time": "2025-01-04T00:17:04.600691",
     "status": "completed"
    },
    "tags": []
   },
   "outputs": [],
   "source": [
    "win_loss_df['L score'] = win_loss_df[['score_away', 'score_home']].min(axis='columns')\n",
    "win_loss_df['W score'] = win_loss_df[['score_away', 'score_home']].max(axis='columns')"
   ]
  },
  {
   "cell_type": "code",
   "execution_count": 7,
   "id": "09627f8e",
   "metadata": {
    "execution": {
     "iopub.execute_input": "2025-01-04T00:17:04.641360Z",
     "iopub.status.busy": "2025-01-04T00:17:04.640996Z",
     "iopub.status.idle": "2025-01-04T00:17:04.654728Z",
     "shell.execute_reply": "2025-01-04T00:17:04.653700Z"
    },
    "papermill": {
     "duration": 0.022769,
     "end_time": "2025-01-04T00:17:04.656675",
     "exception": false,
     "start_time": "2025-01-04T00:17:04.633906",
     "status": "completed"
    },
    "tags": []
   },
   "outputs": [
    {
     "data": {
      "text/html": [
       "<div>\n",
       "<style scoped>\n",
       "    .dataframe tbody tr th:only-of-type {\n",
       "        vertical-align: middle;\n",
       "    }\n",
       "\n",
       "    .dataframe tbody tr th {\n",
       "        vertical-align: top;\n",
       "    }\n",
       "\n",
       "    .dataframe thead th {\n",
       "        text-align: right;\n",
       "    }\n",
       "</style>\n",
       "<table border=\"1\" class=\"dataframe\">\n",
       "  <thead>\n",
       "    <tr style=\"text-align: right;\">\n",
       "      <th></th>\n",
       "      <th>season</th>\n",
       "      <th>home</th>\n",
       "      <th>away</th>\n",
       "      <th>score_away</th>\n",
       "      <th>score_home</th>\n",
       "      <th>winner</th>\n",
       "      <th>W</th>\n",
       "      <th>L</th>\n",
       "      <th>L score</th>\n",
       "      <th>W score</th>\n",
       "    </tr>\n",
       "  </thead>\n",
       "  <tbody>\n",
       "    <tr>\n",
       "      <th>0</th>\n",
       "      <td>2002</td>\n",
       "      <td>Virginia</td>\n",
       "      <td>Colorado State</td>\n",
       "      <td>35</td>\n",
       "      <td>29</td>\n",
       "      <td>away</td>\n",
       "      <td>Colorado State</td>\n",
       "      <td>Virginia</td>\n",
       "      <td>29</td>\n",
       "      <td>35</td>\n",
       "    </tr>\n",
       "    <tr>\n",
       "      <th>1</th>\n",
       "      <td>2002</td>\n",
       "      <td>Wisconsin</td>\n",
       "      <td>Fresno State</td>\n",
       "      <td>21</td>\n",
       "      <td>23</td>\n",
       "      <td>home</td>\n",
       "      <td>Wisconsin</td>\n",
       "      <td>Fresno State</td>\n",
       "      <td>21</td>\n",
       "      <td>23</td>\n",
       "    </tr>\n",
       "    <tr>\n",
       "      <th>2</th>\n",
       "      <td>2002</td>\n",
       "      <td>Ohio State</td>\n",
       "      <td>Texas Tech</td>\n",
       "      <td>21</td>\n",
       "      <td>45</td>\n",
       "      <td>home</td>\n",
       "      <td>Ohio State</td>\n",
       "      <td>Texas Tech</td>\n",
       "      <td>21</td>\n",
       "      <td>45</td>\n",
       "    </tr>\n",
       "    <tr>\n",
       "      <th>3</th>\n",
       "      <td>2002</td>\n",
       "      <td>NC State</td>\n",
       "      <td>New Mexico</td>\n",
       "      <td>14</td>\n",
       "      <td>34</td>\n",
       "      <td>home</td>\n",
       "      <td>NC State</td>\n",
       "      <td>New Mexico</td>\n",
       "      <td>14</td>\n",
       "      <td>34</td>\n",
       "    </tr>\n",
       "    <tr>\n",
       "      <th>4</th>\n",
       "      <td>2002</td>\n",
       "      <td>Nebraska</td>\n",
       "      <td>Arizona State</td>\n",
       "      <td>10</td>\n",
       "      <td>48</td>\n",
       "      <td>home</td>\n",
       "      <td>Nebraska</td>\n",
       "      <td>Arizona State</td>\n",
       "      <td>10</td>\n",
       "      <td>48</td>\n",
       "    </tr>\n",
       "  </tbody>\n",
       "</table>\n",
       "</div>"
      ],
      "text/plain": [
       "   season        home            away  score_away  score_home winner  \\\n",
       "0    2002    Virginia  Colorado State          35          29   away   \n",
       "1    2002   Wisconsin    Fresno State          21          23   home   \n",
       "2    2002  Ohio State      Texas Tech          21          45   home   \n",
       "3    2002    NC State      New Mexico          14          34   home   \n",
       "4    2002    Nebraska   Arizona State          10          48   home   \n",
       "\n",
       "                W              L  L score  W score  \n",
       "0  Colorado State       Virginia       29       35  \n",
       "1       Wisconsin   Fresno State       21       23  \n",
       "2      Ohio State     Texas Tech       21       45  \n",
       "3        NC State     New Mexico       14       34  \n",
       "4        Nebraska  Arizona State       10       48  "
      ]
     },
     "execution_count": 7,
     "metadata": {},
     "output_type": "execute_result"
    }
   ],
   "source": [
    "win_loss_df.head(n=5)"
   ]
  },
  {
   "cell_type": "markdown",
   "id": "8b3faa36",
   "metadata": {
    "papermill": {
     "duration": 0.005625,
     "end_time": "2025-01-04T00:17:04.668204",
     "exception": false,
     "start_time": "2025-01-04T00:17:04.662579",
     "status": "completed"
    },
    "tags": []
   },
   "source": [
    "Let's collect each year into its own DataFrame."
   ]
  },
  {
   "cell_type": "code",
   "execution_count": 8,
   "id": "40b74602",
   "metadata": {
    "execution": {
     "iopub.execute_input": "2025-01-04T00:17:04.681715Z",
     "iopub.status.busy": "2025-01-04T00:17:04.681312Z",
     "iopub.status.idle": "2025-01-04T00:17:04.708871Z",
     "shell.execute_reply": "2025-01-04T00:17:04.707592Z"
    },
    "papermill": {
     "duration": 0.037473,
     "end_time": "2025-01-04T00:17:04.711605",
     "exception": false,
     "start_time": "2025-01-04T00:17:04.674132",
     "status": "completed"
    },
    "tags": []
   },
   "outputs": [],
   "source": [
    "wl = {season: win_loss_df[win_loss_df['season'] == season] for season in win_loss_df['season'].unique().tolist()}"
   ]
  },
  {
   "cell_type": "code",
   "execution_count": 9,
   "id": "71f0f73a",
   "metadata": {
    "execution": {
     "iopub.execute_input": "2025-01-04T00:17:04.729038Z",
     "iopub.status.busy": "2025-01-04T00:17:04.726457Z",
     "iopub.status.idle": "2025-01-04T00:17:04.734967Z",
     "shell.execute_reply": "2025-01-04T00:17:04.733785Z"
    },
    "papermill": {
     "duration": 0.021053,
     "end_time": "2025-01-04T00:17:04.739534",
     "exception": false,
     "start_time": "2025-01-04T00:17:04.718481",
     "status": "completed"
    },
    "tags": []
   },
   "outputs": [
    {
     "name": "stdout",
     "output_type": "stream",
     "text": [
      "[2002, 2003, 2004, 2005, 2006, 2007, 2008, 2009, 2010, 2011, 2012, 2013, 2014, 2015, 2016, 2017, 2018, 2019, 2020, 2021, 2022, 2023]\n"
     ]
    }
   ],
   "source": [
    "print(list(wl.keys()))"
   ]
  },
  {
   "cell_type": "markdown",
   "id": "4c2cb829",
   "metadata": {
    "papermill": {
     "duration": 0.006257,
     "end_time": "2025-01-04T00:17:04.757257",
     "exception": false,
     "start_time": "2025-01-04T00:17:04.751000",
     "status": "completed"
    },
    "tags": []
   },
   "source": [
    "How many distinct home teams do we have?"
   ]
  },
  {
   "cell_type": "code",
   "execution_count": 10,
   "id": "e9aa054c",
   "metadata": {
    "execution": {
     "iopub.execute_input": "2025-01-04T00:17:04.778285Z",
     "iopub.status.busy": "2025-01-04T00:17:04.777722Z",
     "iopub.status.idle": "2025-01-04T00:17:04.789814Z",
     "shell.execute_reply": "2025-01-04T00:17:04.788882Z"
    },
    "papermill": {
     "duration": 0.027138,
     "end_time": "2025-01-04T00:17:04.793467",
     "exception": false,
     "start_time": "2025-01-04T00:17:04.766329",
     "status": "completed"
    },
    "tags": []
   },
   "outputs": [
    {
     "data": {
      "text/plain": [
       "139"
      ]
     },
     "execution_count": 10,
     "metadata": {},
     "output_type": "execute_result"
    }
   ],
   "source": [
    "df['home'].nunique()"
   ]
  },
  {
   "cell_type": "code",
   "execution_count": 11,
   "id": "e6e005d3",
   "metadata": {
    "execution": {
     "iopub.execute_input": "2025-01-04T00:17:04.818061Z",
     "iopub.status.busy": "2025-01-04T00:17:04.817075Z",
     "iopub.status.idle": "2025-01-04T00:17:04.835637Z",
     "shell.execute_reply": "2025-01-04T00:17:04.834395Z"
    },
    "papermill": {
     "duration": 0.032897,
     "end_time": "2025-01-04T00:17:04.838735",
     "exception": false,
     "start_time": "2025-01-04T00:17:04.805838",
     "status": "completed"
    },
    "tags": []
   },
   "outputs": [
    {
     "data": {
      "text/html": [
       "<div>\n",
       "<style scoped>\n",
       "    .dataframe tbody tr th:only-of-type {\n",
       "        vertical-align: middle;\n",
       "    }\n",
       "\n",
       "    .dataframe tbody tr th {\n",
       "        vertical-align: top;\n",
       "    }\n",
       "\n",
       "    .dataframe thead th {\n",
       "        text-align: right;\n",
       "    }\n",
       "</style>\n",
       "<table border=\"1\" class=\"dataframe\">\n",
       "  <thead>\n",
       "    <tr style=\"text-align: right;\">\n",
       "      <th></th>\n",
       "      <th>season</th>\n",
       "      <th>home</th>\n",
       "      <th>away</th>\n",
       "      <th>score_away</th>\n",
       "      <th>score_home</th>\n",
       "      <th>winner</th>\n",
       "      <th>W</th>\n",
       "      <th>L</th>\n",
       "      <th>L score</th>\n",
       "      <th>W score</th>\n",
       "    </tr>\n",
       "  </thead>\n",
       "  <tbody>\n",
       "    <tr>\n",
       "      <th>185</th>\n",
       "      <td>2002</td>\n",
       "      <td>Colorado State</td>\n",
       "      <td>Louisville</td>\n",
       "      <td>33</td>\n",
       "      <td>36</td>\n",
       "      <td>home</td>\n",
       "      <td>Colorado State</td>\n",
       "      <td>Louisville</td>\n",
       "      <td>33</td>\n",
       "      <td>36</td>\n",
       "    </tr>\n",
       "    <tr>\n",
       "      <th>369</th>\n",
       "      <td>2002</td>\n",
       "      <td>Colorado State</td>\n",
       "      <td>Wyoming</td>\n",
       "      <td>36</td>\n",
       "      <td>44</td>\n",
       "      <td>home</td>\n",
       "      <td>Colorado State</td>\n",
       "      <td>Wyoming</td>\n",
       "      <td>36</td>\n",
       "      <td>44</td>\n",
       "    </tr>\n",
       "    <tr>\n",
       "      <th>452</th>\n",
       "      <td>2002</td>\n",
       "      <td>Colorado State</td>\n",
       "      <td>BYU</td>\n",
       "      <td>10</td>\n",
       "      <td>37</td>\n",
       "      <td>home</td>\n",
       "      <td>Colorado State</td>\n",
       "      <td>BYU</td>\n",
       "      <td>10</td>\n",
       "      <td>37</td>\n",
       "    </tr>\n",
       "    <tr>\n",
       "      <th>702</th>\n",
       "      <td>2002</td>\n",
       "      <td>Colorado State</td>\n",
       "      <td>New Mexico</td>\n",
       "      <td>14</td>\n",
       "      <td>22</td>\n",
       "      <td>home</td>\n",
       "      <td>Colorado State</td>\n",
       "      <td>New Mexico</td>\n",
       "      <td>14</td>\n",
       "      <td>22</td>\n",
       "    </tr>\n",
       "    <tr>\n",
       "      <th>723</th>\n",
       "      <td>2002</td>\n",
       "      <td>Colorado State</td>\n",
       "      <td>UNLV</td>\n",
       "      <td>36</td>\n",
       "      <td>33</td>\n",
       "      <td>away</td>\n",
       "      <td>UNLV</td>\n",
       "      <td>Colorado State</td>\n",
       "      <td>33</td>\n",
       "      <td>36</td>\n",
       "    </tr>\n",
       "    <tr>\n",
       "      <th>760</th>\n",
       "      <td>2002</td>\n",
       "      <td>Colorado State</td>\n",
       "      <td>TCU</td>\n",
       "      <td>17</td>\n",
       "      <td>3</td>\n",
       "      <td>away</td>\n",
       "      <td>TCU</td>\n",
       "      <td>Colorado State</td>\n",
       "      <td>3</td>\n",
       "      <td>17</td>\n",
       "    </tr>\n",
       "  </tbody>\n",
       "</table>\n",
       "</div>"
      ],
      "text/plain": [
       "     season            home        away  score_away  score_home winner  \\\n",
       "185    2002  Colorado State  Louisville          33          36   home   \n",
       "369    2002  Colorado State     Wyoming          36          44   home   \n",
       "452    2002  Colorado State         BYU          10          37   home   \n",
       "702    2002  Colorado State  New Mexico          14          22   home   \n",
       "723    2002  Colorado State        UNLV          36          33   away   \n",
       "760    2002  Colorado State         TCU          17           3   away   \n",
       "\n",
       "                  W               L  L score  W score  \n",
       "185  Colorado State      Louisville       33       36  \n",
       "369  Colorado State         Wyoming       36       44  \n",
       "452  Colorado State             BYU       10       37  \n",
       "702  Colorado State      New Mexico       14       22  \n",
       "723            UNLV  Colorado State       33       36  \n",
       "760             TCU  Colorado State        3       17  "
      ]
     },
     "execution_count": 11,
     "metadata": {},
     "output_type": "execute_result"
    }
   ],
   "source": [
    "wl[2002][wl[2002]['home'] == 'Colorado State']"
   ]
  },
  {
   "cell_type": "code",
   "execution_count": 12,
   "id": "2f28cc09",
   "metadata": {
    "execution": {
     "iopub.execute_input": "2025-01-04T00:17:04.853291Z",
     "iopub.status.busy": "2025-01-04T00:17:04.852922Z",
     "iopub.status.idle": "2025-01-04T00:17:04.867418Z",
     "shell.execute_reply": "2025-01-04T00:17:04.866379Z"
    },
    "papermill": {
     "duration": 0.024256,
     "end_time": "2025-01-04T00:17:04.869654",
     "exception": false,
     "start_time": "2025-01-04T00:17:04.845398",
     "status": "completed"
    },
    "tags": []
   },
   "outputs": [
    {
     "data": {
      "text/html": [
       "<div>\n",
       "<style scoped>\n",
       "    .dataframe tbody tr th:only-of-type {\n",
       "        vertical-align: middle;\n",
       "    }\n",
       "\n",
       "    .dataframe tbody tr th {\n",
       "        vertical-align: top;\n",
       "    }\n",
       "\n",
       "    .dataframe thead th {\n",
       "        text-align: right;\n",
       "    }\n",
       "</style>\n",
       "<table border=\"1\" class=\"dataframe\">\n",
       "  <thead>\n",
       "    <tr style=\"text-align: right;\">\n",
       "      <th></th>\n",
       "      <th>season</th>\n",
       "      <th>home</th>\n",
       "      <th>away</th>\n",
       "      <th>score_away</th>\n",
       "      <th>score_home</th>\n",
       "      <th>winner</th>\n",
       "      <th>W</th>\n",
       "      <th>L</th>\n",
       "      <th>L score</th>\n",
       "      <th>W score</th>\n",
       "    </tr>\n",
       "  </thead>\n",
       "  <tbody>\n",
       "    <tr>\n",
       "      <th>0</th>\n",
       "      <td>2002</td>\n",
       "      <td>Virginia</td>\n",
       "      <td>Colorado State</td>\n",
       "      <td>35</td>\n",
       "      <td>29</td>\n",
       "      <td>away</td>\n",
       "      <td>Colorado State</td>\n",
       "      <td>Virginia</td>\n",
       "      <td>29</td>\n",
       "      <td>35</td>\n",
       "    </tr>\n",
       "    <tr>\n",
       "      <th>27</th>\n",
       "      <td>2002</td>\n",
       "      <td>Colorado</td>\n",
       "      <td>Colorado State</td>\n",
       "      <td>19</td>\n",
       "      <td>14</td>\n",
       "      <td>away</td>\n",
       "      <td>Colorado State</td>\n",
       "      <td>Colorado</td>\n",
       "      <td>14</td>\n",
       "      <td>19</td>\n",
       "    </tr>\n",
       "    <tr>\n",
       "      <th>131</th>\n",
       "      <td>2002</td>\n",
       "      <td>UCLA</td>\n",
       "      <td>Colorado State</td>\n",
       "      <td>19</td>\n",
       "      <td>30</td>\n",
       "      <td>home</td>\n",
       "      <td>UCLA</td>\n",
       "      <td>Colorado State</td>\n",
       "      <td>19</td>\n",
       "      <td>30</td>\n",
       "    </tr>\n",
       "    <tr>\n",
       "      <th>269</th>\n",
       "      <td>2002</td>\n",
       "      <td>Nevada</td>\n",
       "      <td>Colorado State</td>\n",
       "      <td>32</td>\n",
       "      <td>28</td>\n",
       "      <td>away</td>\n",
       "      <td>Colorado State</td>\n",
       "      <td>Nevada</td>\n",
       "      <td>28</td>\n",
       "      <td>32</td>\n",
       "    </tr>\n",
       "    <tr>\n",
       "      <th>296</th>\n",
       "      <td>2002</td>\n",
       "      <td>Fresno State</td>\n",
       "      <td>Colorado State</td>\n",
       "      <td>30</td>\n",
       "      <td>32</td>\n",
       "      <td>home</td>\n",
       "      <td>Fresno State</td>\n",
       "      <td>Colorado State</td>\n",
       "      <td>30</td>\n",
       "      <td>32</td>\n",
       "    </tr>\n",
       "    <tr>\n",
       "      <th>423</th>\n",
       "      <td>2002</td>\n",
       "      <td>Utah</td>\n",
       "      <td>Colorado State</td>\n",
       "      <td>28</td>\n",
       "      <td>20</td>\n",
       "      <td>away</td>\n",
       "      <td>Colorado State</td>\n",
       "      <td>Utah</td>\n",
       "      <td>20</td>\n",
       "      <td>28</td>\n",
       "    </tr>\n",
       "    <tr>\n",
       "      <th>505</th>\n",
       "      <td>2002</td>\n",
       "      <td>Air Force</td>\n",
       "      <td>Colorado State</td>\n",
       "      <td>31</td>\n",
       "      <td>12</td>\n",
       "      <td>away</td>\n",
       "      <td>Colorado State</td>\n",
       "      <td>Air Force</td>\n",
       "      <td>12</td>\n",
       "      <td>31</td>\n",
       "    </tr>\n",
       "    <tr>\n",
       "      <th>657</th>\n",
       "      <td>2002</td>\n",
       "      <td>San Diego State</td>\n",
       "      <td>Colorado State</td>\n",
       "      <td>49</td>\n",
       "      <td>21</td>\n",
       "      <td>away</td>\n",
       "      <td>Colorado State</td>\n",
       "      <td>San Diego State</td>\n",
       "      <td>21</td>\n",
       "      <td>49</td>\n",
       "    </tr>\n",
       "  </tbody>\n",
       "</table>\n",
       "</div>"
      ],
      "text/plain": [
       "     season             home            away  score_away  score_home winner  \\\n",
       "0      2002         Virginia  Colorado State          35          29   away   \n",
       "27     2002         Colorado  Colorado State          19          14   away   \n",
       "131    2002             UCLA  Colorado State          19          30   home   \n",
       "269    2002           Nevada  Colorado State          32          28   away   \n",
       "296    2002     Fresno State  Colorado State          30          32   home   \n",
       "423    2002             Utah  Colorado State          28          20   away   \n",
       "505    2002        Air Force  Colorado State          31          12   away   \n",
       "657    2002  San Diego State  Colorado State          49          21   away   \n",
       "\n",
       "                  W                L  L score  W score  \n",
       "0    Colorado State         Virginia       29       35  \n",
       "27   Colorado State         Colorado       14       19  \n",
       "131            UCLA   Colorado State       19       30  \n",
       "269  Colorado State           Nevada       28       32  \n",
       "296    Fresno State   Colorado State       30       32  \n",
       "423  Colorado State             Utah       20       28  \n",
       "505  Colorado State        Air Force       12       31  \n",
       "657  Colorado State  San Diego State       21       49  "
      ]
     },
     "execution_count": 12,
     "metadata": {},
     "output_type": "execute_result"
    }
   ],
   "source": [
    "wl[2002][wl[2002]['away'] == 'Colorado State']"
   ]
  },
  {
   "cell_type": "code",
   "execution_count": 13,
   "id": "dc5594ee",
   "metadata": {
    "execution": {
     "iopub.execute_input": "2025-01-04T00:17:04.884293Z",
     "iopub.status.busy": "2025-01-04T00:17:04.883913Z",
     "iopub.status.idle": "2025-01-04T00:17:04.902941Z",
     "shell.execute_reply": "2025-01-04T00:17:04.901875Z"
    },
    "papermill": {
     "duration": 0.028805,
     "end_time": "2025-01-04T00:17:04.905133",
     "exception": false,
     "start_time": "2025-01-04T00:17:04.876328",
     "status": "completed"
    },
    "tags": []
   },
   "outputs": [
    {
     "data": {
      "text/html": [
       "<div>\n",
       "<style scoped>\n",
       "    .dataframe tbody tr th:only-of-type {\n",
       "        vertical-align: middle;\n",
       "    }\n",
       "\n",
       "    .dataframe tbody tr th {\n",
       "        vertical-align: top;\n",
       "    }\n",
       "\n",
       "    .dataframe thead th {\n",
       "        text-align: right;\n",
       "    }\n",
       "</style>\n",
       "<table border=\"1\" class=\"dataframe\">\n",
       "  <thead>\n",
       "    <tr style=\"text-align: right;\">\n",
       "      <th>season</th>\n",
       "      <th>2002</th>\n",
       "      <th>2003</th>\n",
       "      <th>2004</th>\n",
       "      <th>2005</th>\n",
       "      <th>2006</th>\n",
       "      <th>2007</th>\n",
       "      <th>2008</th>\n",
       "      <th>2009</th>\n",
       "      <th>2010</th>\n",
       "      <th>2011</th>\n",
       "      <th>...</th>\n",
       "      <th>2014</th>\n",
       "      <th>2015</th>\n",
       "      <th>2016</th>\n",
       "      <th>2017</th>\n",
       "      <th>2018</th>\n",
       "      <th>2019</th>\n",
       "      <th>2020</th>\n",
       "      <th>2021</th>\n",
       "      <th>2022</th>\n",
       "      <th>2023</th>\n",
       "    </tr>\n",
       "  </thead>\n",
       "  <tbody>\n",
       "    <tr>\n",
       "      <th>0</th>\n",
       "      <td>10</td>\n",
       "      <td>11</td>\n",
       "      <td>5</td>\n",
       "      <td>11</td>\n",
       "      <td>11</td>\n",
       "      <td>8</td>\n",
       "      <td>11</td>\n",
       "      <td>12</td>\n",
       "      <td>13</td>\n",
       "      <td>11</td>\n",
       "      <td>...</td>\n",
       "      <td>12</td>\n",
       "      <td>11</td>\n",
       "      <td>6</td>\n",
       "      <td>11</td>\n",
       "      <td>7</td>\n",
       "      <td>5</td>\n",
       "      <td>6</td>\n",
       "      <td>5</td>\n",
       "      <td>13</td>\n",
       "      <td>5</td>\n",
       "    </tr>\n",
       "  </tbody>\n",
       "</table>\n",
       "<p>1 rows × 22 columns</p>\n",
       "</div>"
      ],
      "text/plain": [
       "season  2002  2003  2004  2005  2006  2007  2008  2009  2010  2011  ...  2014  \\\n",
       "0         10    11     5    11    11     8    11    12    13    11  ...    12   \n",
       "\n",
       "season  2015  2016  2017  2018  2019  2020  2021  2022  2023  \n",
       "0         11     6    11     7     5     6     5    13     5  \n",
       "\n",
       "[1 rows x 22 columns]"
      ]
     },
     "execution_count": 13,
     "metadata": {},
     "output_type": "execute_result"
    }
   ],
   "source": [
    "win_loss_df[win_loss_df['W'] == 'TCU'].groupby(by='season').size().to_frame().T"
   ]
  },
  {
   "cell_type": "code",
   "execution_count": 14,
   "id": "6329db06",
   "metadata": {
    "execution": {
     "iopub.execute_input": "2025-01-04T00:17:04.920741Z",
     "iopub.status.busy": "2025-01-04T00:17:04.920360Z",
     "iopub.status.idle": "2025-01-04T00:17:11.477805Z",
     "shell.execute_reply": "2025-01-04T00:17:11.476573Z"
    },
    "papermill": {
     "duration": 6.567786,
     "end_time": "2025-01-04T00:17:11.480233",
     "exception": false,
     "start_time": "2025-01-04T00:17:04.912447",
     "status": "completed"
    },
    "tags": []
   },
   "outputs": [
    {
     "data": {
      "text/html": [
       "<div>\n",
       "<style scoped>\n",
       "    .dataframe tbody tr th:only-of-type {\n",
       "        vertical-align: middle;\n",
       "    }\n",
       "\n",
       "    .dataframe tbody tr th {\n",
       "        vertical-align: top;\n",
       "    }\n",
       "\n",
       "    .dataframe thead th {\n",
       "        text-align: right;\n",
       "    }\n",
       "</style>\n",
       "<table border=\"1\" class=\"dataframe\">\n",
       "  <thead>\n",
       "    <tr style=\"text-align: right;\">\n",
       "      <th></th>\n",
       "      <th>season</th>\n",
       "      <th>team</th>\n",
       "      <th>games</th>\n",
       "      <th>wins</th>\n",
       "      <th>losses</th>\n",
       "      <th>points scored</th>\n",
       "      <th>points allowed</th>\n",
       "    </tr>\n",
       "  </thead>\n",
       "  <tbody>\n",
       "    <tr>\n",
       "      <th>0</th>\n",
       "      <td>2002</td>\n",
       "      <td>Virginia</td>\n",
       "      <td>14</td>\n",
       "      <td>9</td>\n",
       "      <td>5</td>\n",
       "      <td>402</td>\n",
       "      <td>348</td>\n",
       "    </tr>\n",
       "    <tr>\n",
       "      <th>1</th>\n",
       "      <td>2003</td>\n",
       "      <td>Virginia</td>\n",
       "      <td>13</td>\n",
       "      <td>8</td>\n",
       "      <td>5</td>\n",
       "      <td>364</td>\n",
       "      <td>265</td>\n",
       "    </tr>\n",
       "    <tr>\n",
       "      <th>2</th>\n",
       "      <td>2004</td>\n",
       "      <td>Virginia</td>\n",
       "      <td>12</td>\n",
       "      <td>8</td>\n",
       "      <td>4</td>\n",
       "      <td>363</td>\n",
       "      <td>212</td>\n",
       "    </tr>\n",
       "    <tr>\n",
       "      <th>3</th>\n",
       "      <td>2005</td>\n",
       "      <td>Virginia</td>\n",
       "      <td>12</td>\n",
       "      <td>7</td>\n",
       "      <td>5</td>\n",
       "      <td>320</td>\n",
       "      <td>279</td>\n",
       "    </tr>\n",
       "    <tr>\n",
       "      <th>4</th>\n",
       "      <td>2006</td>\n",
       "      <td>Virginia</td>\n",
       "      <td>12</td>\n",
       "      <td>5</td>\n",
       "      <td>7</td>\n",
       "      <td>181</td>\n",
       "      <td>214</td>\n",
       "    </tr>\n",
       "  </tbody>\n",
       "</table>\n",
       "</div>"
      ],
      "text/plain": [
       "   season      team  games  wins  losses  points scored  points allowed\n",
       "0    2002  Virginia     14     9       5            402             348\n",
       "1    2003  Virginia     13     8       5            364             265\n",
       "2    2004  Virginia     12     8       4            363             212\n",
       "3    2005  Virginia     12     7       5            320             279\n",
       "4    2006  Virginia     12     5       7            181             214"
      ]
     },
     "execution_count": 14,
     "metadata": {},
     "output_type": "execute_result"
    }
   ],
   "source": [
    "result = []\n",
    "teams = df['home'].unique().tolist()\n",
    "for team in teams:\n",
    "    for season in range(2002, 2023):\n",
    "        wins = 0\n",
    "        games = 0\n",
    "        points_scored = 0\n",
    "        points_allowed = 0\n",
    "        home_df = wl[season][wl[season]['home'] == team]\n",
    "        wins += len(home_df[home_df['winner'] == 'home'])\n",
    "        games += len(home_df)\n",
    "        points_scored += home_df['score_home'].sum()\n",
    "        points_allowed += home_df['score_away'].sum()\n",
    "        away_df = wl[season][wl[season]['away'] == team]\n",
    "        wins += len(away_df[away_df['winner'] == 'away'])\n",
    "        games += len(away_df)\n",
    "        losses = games - wins\n",
    "        points_scored += away_df['score_away'].sum()\n",
    "        points_allowed += away_df['score_home'].sum()\n",
    "        result.append(pd.Series(data={'season': season, 'team': team, 'games': games, 'wins': wins, 'losses': losses, \n",
    "                                      'points scored': points_scored, 'points allowed': points_allowed} ))\n",
    "result_df = pd.DataFrame(data=result)\n",
    "result_df.head()"
   ]
  },
  {
   "cell_type": "markdown",
   "id": "afe200b7",
   "metadata": {
    "papermill": {
     "duration": 0.006512,
     "end_time": "2025-01-04T00:17:11.493955",
     "exception": false,
     "start_time": "2025-01-04T00:17:11.487443",
     "status": "completed"
    },
    "tags": []
   },
   "source": [
    "Now let's add our Pythagorean expectation and actual winning percentage."
   ]
  },
  {
   "cell_type": "code",
   "execution_count": 15,
   "id": "73da2741",
   "metadata": {
    "execution": {
     "iopub.execute_input": "2025-01-04T00:17:11.509169Z",
     "iopub.status.busy": "2025-01-04T00:17:11.508793Z",
     "iopub.status.idle": "2025-01-04T00:17:11.529965Z",
     "shell.execute_reply": "2025-01-04T00:17:11.528866Z"
    },
    "papermill": {
     "duration": 0.031481,
     "end_time": "2025-01-04T00:17:11.532087",
     "exception": false,
     "start_time": "2025-01-04T00:17:11.500606",
     "status": "completed"
    },
    "tags": []
   },
   "outputs": [
    {
     "data": {
      "text/html": [
       "<div>\n",
       "<style scoped>\n",
       "    .dataframe tbody tr th:only-of-type {\n",
       "        vertical-align: middle;\n",
       "    }\n",
       "\n",
       "    .dataframe tbody tr th {\n",
       "        vertical-align: top;\n",
       "    }\n",
       "\n",
       "    .dataframe thead th {\n",
       "        text-align: right;\n",
       "    }\n",
       "</style>\n",
       "<table border=\"1\" class=\"dataframe\">\n",
       "  <thead>\n",
       "    <tr style=\"text-align: right;\">\n",
       "      <th></th>\n",
       "      <th>season</th>\n",
       "      <th>team</th>\n",
       "      <th>games</th>\n",
       "      <th>wins</th>\n",
       "      <th>losses</th>\n",
       "      <th>points scored</th>\n",
       "      <th>points allowed</th>\n",
       "      <th>actual</th>\n",
       "      <th>numerator</th>\n",
       "      <th>denominator</th>\n",
       "      <th>expected</th>\n",
       "    </tr>\n",
       "  </thead>\n",
       "  <tbody>\n",
       "    <tr>\n",
       "      <th>0</th>\n",
       "      <td>2002</td>\n",
       "      <td>Virginia</td>\n",
       "      <td>14</td>\n",
       "      <td>9</td>\n",
       "      <td>5</td>\n",
       "      <td>402</td>\n",
       "      <td>348</td>\n",
       "      <td>0.642857</td>\n",
       "      <td>1.055706e+06</td>\n",
       "      <td>1.485990e+06</td>\n",
       "      <td>0.415355</td>\n",
       "    </tr>\n",
       "    <tr>\n",
       "      <th>1</th>\n",
       "      <td>2003</td>\n",
       "      <td>Virginia</td>\n",
       "      <td>13</td>\n",
       "      <td>8</td>\n",
       "      <td>5</td>\n",
       "      <td>364</td>\n",
       "      <td>265</td>\n",
       "      <td>0.615385</td>\n",
       "      <td>5.534683e+05</td>\n",
       "      <td>1.174384e+06</td>\n",
       "      <td>0.320321</td>\n",
       "    </tr>\n",
       "    <tr>\n",
       "      <th>2</th>\n",
       "      <td>2004</td>\n",
       "      <td>Virginia</td>\n",
       "      <td>12</td>\n",
       "      <td>8</td>\n",
       "      <td>4</td>\n",
       "      <td>363</td>\n",
       "      <td>212</td>\n",
       "      <td>0.666667</td>\n",
       "      <td>3.261490e+05</td>\n",
       "      <td>1.166752e+06</td>\n",
       "      <td>0.218467</td>\n",
       "    </tr>\n",
       "    <tr>\n",
       "      <th>3</th>\n",
       "      <td>2005</td>\n",
       "      <td>Virginia</td>\n",
       "      <td>12</td>\n",
       "      <td>7</td>\n",
       "      <td>5</td>\n",
       "      <td>320</td>\n",
       "      <td>279</td>\n",
       "      <td>0.583333</td>\n",
       "      <td>6.252907e+05</td>\n",
       "      <td>8.653772e+05</td>\n",
       "      <td>0.419470</td>\n",
       "    </tr>\n",
       "    <tr>\n",
       "      <th>4</th>\n",
       "      <td>2006</td>\n",
       "      <td>Virginia</td>\n",
       "      <td>12</td>\n",
       "      <td>5</td>\n",
       "      <td>7</td>\n",
       "      <td>181</td>\n",
       "      <td>214</td>\n",
       "      <td>0.416667</td>\n",
       "      <td>3.334883e+05</td>\n",
       "      <td>2.242323e+05</td>\n",
       "      <td>0.597949</td>\n",
       "    </tr>\n",
       "  </tbody>\n",
       "</table>\n",
       "</div>"
      ],
      "text/plain": [
       "   season      team  games  wins  losses  points scored  points allowed  \\\n",
       "0    2002  Virginia     14     9       5            402             348   \n",
       "1    2003  Virginia     13     8       5            364             265   \n",
       "2    2004  Virginia     12     8       4            363             212   \n",
       "3    2005  Virginia     12     7       5            320             279   \n",
       "4    2006  Virginia     12     5       7            181             214   \n",
       "\n",
       "     actual     numerator   denominator  expected  \n",
       "0  0.642857  1.055706e+06  1.485990e+06  0.415355  \n",
       "1  0.615385  5.534683e+05  1.174384e+06  0.320321  \n",
       "2  0.666667  3.261490e+05  1.166752e+06  0.218467  \n",
       "3  0.583333  6.252907e+05  8.653772e+05  0.419470  \n",
       "4  0.416667  3.334883e+05  2.242323e+05  0.597949  "
      ]
     },
     "execution_count": 15,
     "metadata": {},
     "output_type": "execute_result"
    }
   ],
   "source": [
    "from math import pow\n",
    "\n",
    "result_df['actual'] = result_df['wins']/result_df['games']\n",
    "result_df['numerator'] = result_df['points allowed'].apply(func=lambda x: pow(x, 2.37))\n",
    "result_df['denominator'] = result_df['points scored'].apply(func=lambda x: pow(x, 2.37))\n",
    "result_df['expected'] = result_df['numerator']/(result_df['numerator'] + result_df['denominator'])\n",
    "result_df.head()"
   ]
  },
  {
   "cell_type": "code",
   "execution_count": 16,
   "id": "79919c2a",
   "metadata": {
    "execution": {
     "iopub.execute_input": "2025-01-04T00:17:11.548058Z",
     "iopub.status.busy": "2025-01-04T00:17:11.547686Z",
     "iopub.status.idle": "2025-01-04T00:17:13.643443Z",
     "shell.execute_reply": "2025-01-04T00:17:13.642213Z"
    },
    "papermill": {
     "duration": 2.106648,
     "end_time": "2025-01-04T00:17:13.646100",
     "exception": false,
     "start_time": "2025-01-04T00:17:11.539452",
     "status": "completed"
    },
    "tags": []
   },
   "outputs": [
    {
     "data": {
      "text/plain": [
       "<Axes: xlabel='actual', ylabel='expected'>"
      ]
     },
     "execution_count": 16,
     "metadata": {},
     "output_type": "execute_result"
    },
    {
     "data": {
      "image/png": "[encoded data removed]",
      "text/plain": [
       "<Figure size 1200x700 with 1 Axes>"
      ]
     },
     "metadata": {},
     "output_type": "display_data"
    }
   ],
   "source": [
    "import matplotlib.pyplot as plt\n",
    "from seaborn import scatterplot\n",
    "\n",
    "FIGSIZE = (12, 7)\n",
    "plt.figure(figsize=FIGSIZE)\n",
    "scatterplot(data=result_df, x='actual', y='expected')"
   ]
  }
 ],
 "metadata": {
  "kaggle": {
   "accelerator": "none",
   "dataSources": [
    {
     "datasetId": 5579581,
     "sourceId": 9245072,
     "sourceType": "datasetVersion"
    }
   ],
   "dockerImageVersionId": 30804,
   "isGpuEnabled": false,
   "isInternetEnabled": true,
   "language": "python",
   "sourceType": "notebook"
  },
  "kernelspec": {
   "display_name": "Python 3",
   "language": "python",
   "name": "python3"
  },
  "language_info": {
   "codemirror_mode": {
    "name": "ipython",
    "version": 3
   },
   "file_extension": ".py",
   "mimetype": "text/x-python",
   "name": "python",
   "nbconvert_exporter": "python",
   "pygments_lexer": "ipython3",
   "version": "3.10.14"
  },
  "papermill": {
   "default_parameters": {},
   "duration": 15.455325,
   "end_time": "2025-01-04T00:17:14.276290",
   "environment_variables": {},
   "exception": null,
   "input_path": "__notebook__.ipynb",
   "output_path": "__notebook__.ipynb",
   "parameters": {},
   "start_time": "2025-01-04T00:16:58.820965",
   "version": "2.6.0"
  }
 },
 "nbformat": 4,
 "nbformat_minor": 5
}
