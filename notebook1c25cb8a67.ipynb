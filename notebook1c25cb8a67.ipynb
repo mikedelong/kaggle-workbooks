{
 "cells": [
  {
   "cell_type": "code",
   "execution_count": 1,
   "id": "c2998d91",
   "metadata": {
    "_cell_guid": "b1076dfc-b9ad-4769-8c92-a6c4dae69d19",
    "_uuid": "8f2839f25d086af736a60e9eeb907d3b93b6e0e5",
    "execution": {
     "iopub.execute_input": "2025-01-03T19:47:31.335212Z",
     "iopub.status.busy": "2025-01-03T19:47:31.334770Z",
     "iopub.status.idle": "2025-01-03T19:47:32.560189Z",
     "shell.execute_reply": "2025-01-03T19:47:32.558787Z"
    },
    "papermill": {
     "duration": 1.23458,
     "end_time": "2025-01-03T19:47:32.562831",
     "exception": false,
     "start_time": "2025-01-03T19:47:31.328251",
     "status": "completed"
    },
    "tags": []
   },
   "outputs": [
    {
     "data": {
      "text/html": [
       "<div>\n",
       "<style scoped>\n",
       "    .dataframe tbody tr th:only-of-type {\n",
       "        vertical-align: middle;\n",
       "    }\n",
       "\n",
       "    .dataframe tbody tr th {\n",
       "        vertical-align: top;\n",
       "    }\n",
       "\n",
       "    .dataframe thead th {\n",
       "        text-align: right;\n",
       "    }\n",
       "</style>\n",
       "<table border=\"1\" class=\"dataframe\">\n",
       "  <thead>\n",
       "    <tr style=\"text-align: right;\">\n",
       "      <th></th>\n",
       "      <th>season</th>\n",
       "      <th>week</th>\n",
       "      <th>date</th>\n",
       "      <th>time_et</th>\n",
       "      <th>game_type</th>\n",
       "      <th>away</th>\n",
       "      <th>home</th>\n",
       "      <th>rank_away</th>\n",
       "      <th>rank_home</th>\n",
       "      <th>conf_away</th>\n",
       "      <th>...</th>\n",
       "      <th>int_away</th>\n",
       "      <th>int_home</th>\n",
       "      <th>pen_num_away</th>\n",
       "      <th>pen_yards_away</th>\n",
       "      <th>pen_num_home</th>\n",
       "      <th>pen_yards_home</th>\n",
       "      <th>possession_away</th>\n",
       "      <th>possession_home</th>\n",
       "      <th>attendance</th>\n",
       "      <th>tv</th>\n",
       "    </tr>\n",
       "  </thead>\n",
       "  <tbody>\n",
       "    <tr>\n",
       "      <th>0</th>\n",
       "      <td>2002</td>\n",
       "      <td>1.0</td>\n",
       "      <td>2002-08-22</td>\n",
       "      <td>7:30 PM</td>\n",
       "      <td>regular</td>\n",
       "      <td>Colorado State</td>\n",
       "      <td>Virginia</td>\n",
       "      <td>NaN</td>\n",
       "      <td>NaN</td>\n",
       "      <td>mwc</td>\n",
       "      <td>...</td>\n",
       "      <td>NaN</td>\n",
       "      <td>NaN</td>\n",
       "      <td>NaN</td>\n",
       "      <td>NaN</td>\n",
       "      <td>NaN</td>\n",
       "      <td>NaN</td>\n",
       "      <td>NaN</td>\n",
       "      <td>NaN</td>\n",
       "      <td>57120.0</td>\n",
       "      <td>NaN</td>\n",
       "    </tr>\n",
       "    <tr>\n",
       "      <th>1</th>\n",
       "      <td>2002</td>\n",
       "      <td>1.0</td>\n",
       "      <td>2002-08-23</td>\n",
       "      <td>8:00 PM</td>\n",
       "      <td>regular</td>\n",
       "      <td>Fresno State</td>\n",
       "      <td>Wisconsin</td>\n",
       "      <td>NaN</td>\n",
       "      <td>25.0</td>\n",
       "      <td>wac</td>\n",
       "      <td>...</td>\n",
       "      <td>NaN</td>\n",
       "      <td>NaN</td>\n",
       "      <td>NaN</td>\n",
       "      <td>NaN</td>\n",
       "      <td>NaN</td>\n",
       "      <td>NaN</td>\n",
       "      <td>NaN</td>\n",
       "      <td>NaN</td>\n",
       "      <td>75136.0</td>\n",
       "      <td>NaN</td>\n",
       "    </tr>\n",
       "    <tr>\n",
       "      <th>2</th>\n",
       "      <td>2002</td>\n",
       "      <td>1.0</td>\n",
       "      <td>2002-08-24</td>\n",
       "      <td>2:30 PM</td>\n",
       "      <td>regular</td>\n",
       "      <td>Texas Tech</td>\n",
       "      <td>Ohio State</td>\n",
       "      <td>NaN</td>\n",
       "      <td>13.0</td>\n",
       "      <td>big12</td>\n",
       "      <td>...</td>\n",
       "      <td>NaN</td>\n",
       "      <td>NaN</td>\n",
       "      <td>NaN</td>\n",
       "      <td>NaN</td>\n",
       "      <td>NaN</td>\n",
       "      <td>NaN</td>\n",
       "      <td>NaN</td>\n",
       "      <td>NaN</td>\n",
       "      <td>100037.0</td>\n",
       "      <td>NaN</td>\n",
       "    </tr>\n",
       "    <tr>\n",
       "      <th>3</th>\n",
       "      <td>2002</td>\n",
       "      <td>1.0</td>\n",
       "      <td>2002-08-24</td>\n",
       "      <td>4:30 PM</td>\n",
       "      <td>regular</td>\n",
       "      <td>New Mexico</td>\n",
       "      <td>NC State</td>\n",
       "      <td>NaN</td>\n",
       "      <td>NaN</td>\n",
       "      <td>mwc</td>\n",
       "      <td>...</td>\n",
       "      <td>NaN</td>\n",
       "      <td>NaN</td>\n",
       "      <td>NaN</td>\n",
       "      <td>NaN</td>\n",
       "      <td>NaN</td>\n",
       "      <td>NaN</td>\n",
       "      <td>NaN</td>\n",
       "      <td>NaN</td>\n",
       "      <td>47018.0</td>\n",
       "      <td>NaN</td>\n",
       "    </tr>\n",
       "    <tr>\n",
       "      <th>4</th>\n",
       "      <td>2002</td>\n",
       "      <td>1.0</td>\n",
       "      <td>2002-08-24</td>\n",
       "      <td>7:45 PM</td>\n",
       "      <td>regular</td>\n",
       "      <td>Arizona State</td>\n",
       "      <td>Nebraska</td>\n",
       "      <td>NaN</td>\n",
       "      <td>10.0</td>\n",
       "      <td>pac12</td>\n",
       "      <td>...</td>\n",
       "      <td>NaN</td>\n",
       "      <td>NaN</td>\n",
       "      <td>NaN</td>\n",
       "      <td>NaN</td>\n",
       "      <td>NaN</td>\n",
       "      <td>NaN</td>\n",
       "      <td>NaN</td>\n",
       "      <td>NaN</td>\n",
       "      <td>77779.0</td>\n",
       "      <td>NaN</td>\n",
       "    </tr>\n",
       "  </tbody>\n",
       "</table>\n",
       "<p>5 rows × 58 columns</p>\n",
       "</div>"
      ],
      "text/plain": [
       "   season  week        date  time_et game_type            away        home  \\\n",
       "0    2002   1.0  2002-08-22  7:30 PM   regular  Colorado State    Virginia   \n",
       "1    2002   1.0  2002-08-23  8:00 PM   regular    Fresno State   Wisconsin   \n",
       "2    2002   1.0  2002-08-24  2:30 PM   regular      Texas Tech  Ohio State   \n",
       "3    2002   1.0  2002-08-24  4:30 PM   regular      New Mexico    NC State   \n",
       "4    2002   1.0  2002-08-24  7:45 PM   regular   Arizona State    Nebraska   \n",
       "\n",
       "   rank_away  rank_home conf_away  ... int_away  int_home  pen_num_away  \\\n",
       "0        NaN        NaN       mwc  ...      NaN       NaN           NaN   \n",
       "1        NaN       25.0       wac  ...      NaN       NaN           NaN   \n",
       "2        NaN       13.0     big12  ...      NaN       NaN           NaN   \n",
       "3        NaN        NaN       mwc  ...      NaN       NaN           NaN   \n",
       "4        NaN       10.0     pac12  ...      NaN       NaN           NaN   \n",
       "\n",
       "   pen_yards_away  pen_num_home  pen_yards_home  possession_away  \\\n",
       "0             NaN           NaN             NaN              NaN   \n",
       "1             NaN           NaN             NaN              NaN   \n",
       "2             NaN           NaN             NaN              NaN   \n",
       "3             NaN           NaN             NaN              NaN   \n",
       "4             NaN           NaN             NaN              NaN   \n",
       "\n",
       "   possession_home  attendance   tv  \n",
       "0              NaN     57120.0  NaN  \n",
       "1              NaN     75136.0  NaN  \n",
       "2              NaN    100037.0  NaN  \n",
       "3              NaN     47018.0  NaN  \n",
       "4              NaN     77779.0  NaN  \n",
       "\n",
       "[5 rows x 58 columns]"
      ]
     },
     "execution_count": 1,
     "metadata": {},
     "output_type": "execute_result"
    }
   ],
   "source": [
    "import pandas as pd\n",
    "\n",
    "DATA = '/kaggle/input/college-football-team-stats-2002-to-january-2024/cfb_box-scores_2002-2023.csv'\n",
    "df = pd.read_csv(filepath_or_buffer=DATA)\n",
    "df.head()"
   ]
  },
  {
   "cell_type": "markdown",
   "id": "4cb69269",
   "metadata": {
    "papermill": {
     "duration": 0.00392,
     "end_time": "2025-01-03T19:47:32.571387",
     "exception": false,
     "start_time": "2025-01-03T19:47:32.567467",
     "status": "completed"
    },
    "tags": []
   },
   "source": [
    "How big is our dataset?"
   ]
  },
  {
   "cell_type": "code",
   "execution_count": 2,
   "id": "2145ace4",
   "metadata": {
    "execution": {
     "iopub.execute_input": "2025-01-03T19:47:32.581798Z",
     "iopub.status.busy": "2025-01-03T19:47:32.580878Z",
     "iopub.status.idle": "2025-01-03T19:47:32.965582Z",
     "shell.execute_reply": "2025-01-03T19:47:32.964238Z"
    },
    "papermill": {
     "duration": 0.393073,
     "end_time": "2025-01-03T19:47:32.968565",
     "exception": false,
     "start_time": "2025-01-03T19:47:32.575492",
     "status": "completed"
    },
    "tags": []
   },
   "outputs": [
    {
     "data": {
      "text/plain": [
       "<Axes: xlabel='season'>"
      ]
     },
     "execution_count": 2,
     "metadata": {},
     "output_type": "execute_result"
    },
    {
     "data": {
      "image/png": "[encoded data removed]",
      "text/plain": [
       "<Figure size 640x480 with 1 Axes>"
      ]
     },
     "metadata": {},
     "output_type": "display_data"
    }
   ],
   "source": [
    "df['season'].value_counts().sort_index().plot(kind='bar')"
   ]
  },
  {
   "cell_type": "markdown",
   "id": "a052b07d",
   "metadata": {
    "papermill": {
     "duration": 0.004878,
     "end_time": "2025-01-03T19:47:32.978533",
     "exception": false,
     "start_time": "2025-01-03T19:47:32.973655",
     "status": "completed"
    },
    "tags": []
   },
   "source": [
    "We have roughly 800 games a year for 21 years; that's a lot of games."
   ]
  },
  {
   "cell_type": "markdown",
   "id": "e7bdc630",
   "metadata": {
    "papermill": {
     "duration": 0.004336,
     "end_time": "2025-01-03T19:47:32.987905",
     "exception": false,
     "start_time": "2025-01-03T19:47:32.983569",
     "status": "completed"
    },
    "tags": []
   },
   "source": [
    "Let's get just the win/loss figures first, and put them in a separate DataFrame."
   ]
  },
  {
   "cell_type": "code",
   "execution_count": 3,
   "id": "196cd7ec",
   "metadata": {
    "execution": {
     "iopub.execute_input": "2025-01-03T19:47:33.000144Z",
     "iopub.status.busy": "2025-01-03T19:47:32.999720Z",
     "iopub.status.idle": "2025-01-03T19:47:33.394141Z",
     "shell.execute_reply": "2025-01-03T19:47:33.392534Z"
    },
    "papermill": {
     "duration": 0.40309,
     "end_time": "2025-01-03T19:47:33.396756",
     "exception": false,
     "start_time": "2025-01-03T19:47:32.993666",
     "status": "completed"
    },
    "tags": []
   },
   "outputs": [],
   "source": [
    "win_loss_df = df[['season', 'home', 'away', 'score_away', 'score_home']].copy()\n",
    "win_loss_df['W'] = win_loss_df.apply(axis='columns', func=lambda x: x['home'] if x['score_home'] > x['score_away'] else x['away'])\n",
    "win_loss_df['L'] = win_loss_df.apply(axis='columns', func=lambda x: x['home'] if x['score_home'] < x['score_away'] else x['away'])"
   ]
  },
  {
   "cell_type": "markdown",
   "id": "4513baff",
   "metadata": {
    "papermill": {
     "duration": 0.004966,
     "end_time": "2025-01-03T19:47:33.407227",
     "exception": false,
     "start_time": "2025-01-03T19:47:33.402261",
     "status": "completed"
    },
    "tags": []
   },
   "source": [
    "Which teams have the most losses over the period of interest?"
   ]
  },
  {
   "cell_type": "code",
   "execution_count": 4,
   "id": "a9cdd3fb",
   "metadata": {
    "execution": {
     "iopub.execute_input": "2025-01-03T19:47:33.418755Z",
     "iopub.status.busy": "2025-01-03T19:47:33.418303Z",
     "iopub.status.idle": "2025-01-03T19:47:33.432789Z",
     "shell.execute_reply": "2025-01-03T19:47:33.431748Z"
    },
    "papermill": {
     "duration": 0.022479,
     "end_time": "2025-01-03T19:47:33.434986",
     "exception": false,
     "start_time": "2025-01-03T19:47:33.412507",
     "status": "completed"
    },
    "tags": []
   },
   "outputs": [
    {
     "data": {
      "text/html": [
       "<div>\n",
       "<style scoped>\n",
       "    .dataframe tbody tr th:only-of-type {\n",
       "        vertical-align: middle;\n",
       "    }\n",
       "\n",
       "    .dataframe tbody tr th {\n",
       "        vertical-align: top;\n",
       "    }\n",
       "\n",
       "    .dataframe thead th {\n",
       "        text-align: right;\n",
       "    }\n",
       "</style>\n",
       "<table border=\"1\" class=\"dataframe\">\n",
       "  <thead>\n",
       "    <tr style=\"text-align: right;\">\n",
       "      <th>L</th>\n",
       "      <th>UNLV</th>\n",
       "      <th>New Mexico State</th>\n",
       "      <th>Kansas</th>\n",
       "      <th>Akron</th>\n",
       "      <th>Eastern Michigan</th>\n",
       "      <th>UTEP</th>\n",
       "      <th>Vanderbilt</th>\n",
       "      <th>UL-Monroe</th>\n",
       "      <th>New Mexico</th>\n",
       "      <th>Illinois</th>\n",
       "    </tr>\n",
       "  </thead>\n",
       "  <tbody>\n",
       "    <tr>\n",
       "      <th>count</th>\n",
       "      <td>182</td>\n",
       "      <td>182</td>\n",
       "      <td>177</td>\n",
       "      <td>176</td>\n",
       "      <td>176</td>\n",
       "      <td>174</td>\n",
       "      <td>174</td>\n",
       "      <td>170</td>\n",
       "      <td>170</td>\n",
       "      <td>168</td>\n",
       "    </tr>\n",
       "  </tbody>\n",
       "</table>\n",
       "</div>"
      ],
      "text/plain": [
       "L      UNLV  New Mexico State  Kansas  Akron  Eastern Michigan  UTEP  \\\n",
       "count   182               182     177    176               176   174   \n",
       "\n",
       "L      Vanderbilt  UL-Monroe  New Mexico  Illinois  \n",
       "count         174        170         170       168  "
      ]
     },
     "execution_count": 4,
     "metadata": {},
     "output_type": "execute_result"
    }
   ],
   "source": [
    "win_loss_df['L'].value_counts().head(n=10).to_frame().T"
   ]
  },
  {
   "cell_type": "markdown",
   "id": "68b8dc57",
   "metadata": {
    "papermill": {
     "duration": 0.004583,
     "end_time": "2025-01-03T19:47:33.444428",
     "exception": false,
     "start_time": "2025-01-03T19:47:33.439845",
     "status": "completed"
    },
    "tags": []
   },
   "source": [
    "Which teams have the most wins over the period of interest?"
   ]
  },
  {
   "cell_type": "code",
   "execution_count": 5,
   "id": "19045a78",
   "metadata": {
    "execution": {
     "iopub.execute_input": "2025-01-03T19:47:33.456054Z",
     "iopub.status.busy": "2025-01-03T19:47:33.455618Z",
     "iopub.status.idle": "2025-01-03T19:47:33.469762Z",
     "shell.execute_reply": "2025-01-03T19:47:33.468646Z"
    },
    "papermill": {
     "duration": 0.022267,
     "end_time": "2025-01-03T19:47:33.471990",
     "exception": false,
     "start_time": "2025-01-03T19:47:33.449723",
     "status": "completed"
    },
    "tags": []
   },
   "outputs": [
    {
     "data": {
      "text/html": [
       "<div>\n",
       "<style scoped>\n",
       "    .dataframe tbody tr th:only-of-type {\n",
       "        vertical-align: middle;\n",
       "    }\n",
       "\n",
       "    .dataframe tbody tr th {\n",
       "        vertical-align: top;\n",
       "    }\n",
       "\n",
       "    .dataframe thead th {\n",
       "        text-align: right;\n",
       "    }\n",
       "</style>\n",
       "<table border=\"1\" class=\"dataframe\">\n",
       "  <thead>\n",
       "    <tr style=\"text-align: right;\">\n",
       "      <th>W</th>\n",
       "      <th>Ohio State</th>\n",
       "      <th>Alabama</th>\n",
       "      <th>Georgia</th>\n",
       "      <th>Oklahoma</th>\n",
       "      <th>Boise State</th>\n",
       "      <th>Clemson</th>\n",
       "      <th>LSU</th>\n",
       "      <th>USC</th>\n",
       "      <th>Oregon</th>\n",
       "      <th>Wisconsin</th>\n",
       "    </tr>\n",
       "  </thead>\n",
       "  <tbody>\n",
       "    <tr>\n",
       "      <th>count</th>\n",
       "      <td>244</td>\n",
       "      <td>243</td>\n",
       "      <td>232</td>\n",
       "      <td>231</td>\n",
       "      <td>231</td>\n",
       "      <td>220</td>\n",
       "      <td>216</td>\n",
       "      <td>205</td>\n",
       "      <td>203</td>\n",
       "      <td>202</td>\n",
       "    </tr>\n",
       "  </tbody>\n",
       "</table>\n",
       "</div>"
      ],
      "text/plain": [
       "W      Ohio State  Alabama  Georgia  Oklahoma  Boise State  Clemson  LSU  USC  \\\n",
       "count         244      243      232       231          231      220  216  205   \n",
       "\n",
       "W      Oregon  Wisconsin  \n",
       "count     203        202  "
      ]
     },
     "execution_count": 5,
     "metadata": {},
     "output_type": "execute_result"
    }
   ],
   "source": [
    "win_loss_df['W'].value_counts().head(n=10).to_frame().T"
   ]
  },
  {
   "cell_type": "code",
   "execution_count": 6,
   "id": "823e115e",
   "metadata": {
    "execution": {
     "iopub.execute_input": "2025-01-03T19:47:33.483841Z",
     "iopub.status.busy": "2025-01-03T19:47:33.483471Z",
     "iopub.status.idle": "2025-01-03T19:47:33.498407Z",
     "shell.execute_reply": "2025-01-03T19:47:33.497212Z"
    },
    "papermill": {
     "duration": 0.024152,
     "end_time": "2025-01-03T19:47:33.501242",
     "exception": false,
     "start_time": "2025-01-03T19:47:33.477090",
     "status": "completed"
    },
    "tags": []
   },
   "outputs": [],
   "source": [
    "win_loss_df['L score'] = win_loss_df[['score_away', 'score_home']].min(axis='columns')\n",
    "win_loss_df['W score'] = win_loss_df[['score_away', 'score_home']].max(axis='columns')"
   ]
  },
  {
   "cell_type": "code",
   "execution_count": 7,
   "id": "87f97b92",
   "metadata": {
    "execution": {
     "iopub.execute_input": "2025-01-03T19:47:33.513131Z",
     "iopub.status.busy": "2025-01-03T19:47:33.512421Z",
     "iopub.status.idle": "2025-01-03T19:47:33.526364Z",
     "shell.execute_reply": "2025-01-03T19:47:33.525295Z"
    },
    "papermill": {
     "duration": 0.022008,
     "end_time": "2025-01-03T19:47:33.528347",
     "exception": false,
     "start_time": "2025-01-03T19:47:33.506339",
     "status": "completed"
    },
    "tags": []
   },
   "outputs": [
    {
     "data": {
      "text/html": [
       "<div>\n",
       "<style scoped>\n",
       "    .dataframe tbody tr th:only-of-type {\n",
       "        vertical-align: middle;\n",
       "    }\n",
       "\n",
       "    .dataframe tbody tr th {\n",
       "        vertical-align: top;\n",
       "    }\n",
       "\n",
       "    .dataframe thead th {\n",
       "        text-align: right;\n",
       "    }\n",
       "</style>\n",
       "<table border=\"1\" class=\"dataframe\">\n",
       "  <thead>\n",
       "    <tr style=\"text-align: right;\">\n",
       "      <th></th>\n",
       "      <th>season</th>\n",
       "      <th>home</th>\n",
       "      <th>away</th>\n",
       "      <th>score_away</th>\n",
       "      <th>score_home</th>\n",
       "      <th>W</th>\n",
       "      <th>L</th>\n",
       "      <th>L score</th>\n",
       "      <th>W score</th>\n",
       "    </tr>\n",
       "  </thead>\n",
       "  <tbody>\n",
       "    <tr>\n",
       "      <th>0</th>\n",
       "      <td>2002</td>\n",
       "      <td>Virginia</td>\n",
       "      <td>Colorado State</td>\n",
       "      <td>35</td>\n",
       "      <td>29</td>\n",
       "      <td>Colorado State</td>\n",
       "      <td>Virginia</td>\n",
       "      <td>29</td>\n",
       "      <td>35</td>\n",
       "    </tr>\n",
       "    <tr>\n",
       "      <th>1</th>\n",
       "      <td>2002</td>\n",
       "      <td>Wisconsin</td>\n",
       "      <td>Fresno State</td>\n",
       "      <td>21</td>\n",
       "      <td>23</td>\n",
       "      <td>Wisconsin</td>\n",
       "      <td>Fresno State</td>\n",
       "      <td>21</td>\n",
       "      <td>23</td>\n",
       "    </tr>\n",
       "    <tr>\n",
       "      <th>2</th>\n",
       "      <td>2002</td>\n",
       "      <td>Ohio State</td>\n",
       "      <td>Texas Tech</td>\n",
       "      <td>21</td>\n",
       "      <td>45</td>\n",
       "      <td>Ohio State</td>\n",
       "      <td>Texas Tech</td>\n",
       "      <td>21</td>\n",
       "      <td>45</td>\n",
       "    </tr>\n",
       "    <tr>\n",
       "      <th>3</th>\n",
       "      <td>2002</td>\n",
       "      <td>NC State</td>\n",
       "      <td>New Mexico</td>\n",
       "      <td>14</td>\n",
       "      <td>34</td>\n",
       "      <td>NC State</td>\n",
       "      <td>New Mexico</td>\n",
       "      <td>14</td>\n",
       "      <td>34</td>\n",
       "    </tr>\n",
       "    <tr>\n",
       "      <th>4</th>\n",
       "      <td>2002</td>\n",
       "      <td>Nebraska</td>\n",
       "      <td>Arizona State</td>\n",
       "      <td>10</td>\n",
       "      <td>48</td>\n",
       "      <td>Nebraska</td>\n",
       "      <td>Arizona State</td>\n",
       "      <td>10</td>\n",
       "      <td>48</td>\n",
       "    </tr>\n",
       "  </tbody>\n",
       "</table>\n",
       "</div>"
      ],
      "text/plain": [
       "   season        home            away  score_away  score_home               W  \\\n",
       "0    2002    Virginia  Colorado State          35          29  Colorado State   \n",
       "1    2002   Wisconsin    Fresno State          21          23       Wisconsin   \n",
       "2    2002  Ohio State      Texas Tech          21          45      Ohio State   \n",
       "3    2002    NC State      New Mexico          14          34        NC State   \n",
       "4    2002    Nebraska   Arizona State          10          48        Nebraska   \n",
       "\n",
       "               L  L score  W score  \n",
       "0       Virginia       29       35  \n",
       "1   Fresno State       21       23  \n",
       "2     Texas Tech       21       45  \n",
       "3     New Mexico       14       34  \n",
       "4  Arizona State       10       48  "
      ]
     },
     "execution_count": 7,
     "metadata": {},
     "output_type": "execute_result"
    }
   ],
   "source": [
    "win_loss_df.head(n=5)"
   ]
  },
  {
   "cell_type": "markdown",
   "id": "59f6c455",
   "metadata": {
    "papermill": {
     "duration": 0.004998,
     "end_time": "2025-01-03T19:47:33.538554",
     "exception": false,
     "start_time": "2025-01-03T19:47:33.533556",
     "status": "completed"
    },
    "tags": []
   },
   "source": [
    "Let's collect each year into its own DataFrame."
   ]
  },
  {
   "cell_type": "code",
   "execution_count": 8,
   "id": "be0b2508",
   "metadata": {
    "execution": {
     "iopub.execute_input": "2025-01-03T19:47:33.550397Z",
     "iopub.status.busy": "2025-01-03T19:47:33.549932Z",
     "iopub.status.idle": "2025-01-03T19:47:33.570400Z",
     "shell.execute_reply": "2025-01-03T19:47:33.569222Z"
    },
    "papermill": {
     "duration": 0.029544,
     "end_time": "2025-01-03T19:47:33.573186",
     "exception": false,
     "start_time": "2025-01-03T19:47:33.543642",
     "status": "completed"
    },
    "tags": []
   },
   "outputs": [],
   "source": [
    "wl = {season: win_loss_df[win_loss_df['season'] == season] for season in win_loss_df['season'].unique().tolist()}"
   ]
  },
  {
   "cell_type": "code",
   "execution_count": 9,
   "id": "f7caa351",
   "metadata": {
    "execution": {
     "iopub.execute_input": "2025-01-03T19:47:33.587576Z",
     "iopub.status.busy": "2025-01-03T19:47:33.586349Z",
     "iopub.status.idle": "2025-01-03T19:47:33.594079Z",
     "shell.execute_reply": "2025-01-03T19:47:33.592693Z"
    },
    "papermill": {
     "duration": 0.018426,
     "end_time": "2025-01-03T19:47:33.596880",
     "exception": false,
     "start_time": "2025-01-03T19:47:33.578454",
     "status": "completed"
    },
    "tags": []
   },
   "outputs": [
    {
     "name": "stdout",
     "output_type": "stream",
     "text": [
      "[2002, 2003, 2004, 2005, 2006, 2007, 2008, 2009, 2010, 2011, 2012, 2013, 2014, 2015, 2016, 2017, 2018, 2019, 2020, 2021, 2022, 2023]\n"
     ]
    }
   ],
   "source": [
    "print(list(wl.keys()))"
   ]
  },
  {
   "cell_type": "markdown",
   "id": "75e11ab1",
   "metadata": {
    "papermill": {
     "duration": 0.00509,
     "end_time": "2025-01-03T19:47:33.607247",
     "exception": false,
     "start_time": "2025-01-03T19:47:33.602157",
     "status": "completed"
    },
    "tags": []
   },
   "source": [
    "How many distinct home teams do we have?"
   ]
  },
  {
   "cell_type": "code",
   "execution_count": 10,
   "id": "01f50a3c",
   "metadata": {
    "execution": {
     "iopub.execute_input": "2025-01-03T19:47:33.621797Z",
     "iopub.status.busy": "2025-01-03T19:47:33.621295Z",
     "iopub.status.idle": "2025-01-03T19:47:33.634206Z",
     "shell.execute_reply": "2025-01-03T19:47:33.632771Z"
    },
    "papermill": {
     "duration": 0.024125,
     "end_time": "2025-01-03T19:47:33.636764",
     "exception": false,
     "start_time": "2025-01-03T19:47:33.612639",
     "status": "completed"
    },
    "tags": []
   },
   "outputs": [
    {
     "data": {
      "text/plain": [
       "139"
      ]
     },
     "execution_count": 10,
     "metadata": {},
     "output_type": "execute_result"
    }
   ],
   "source": [
    "df['home'].nunique()"
   ]
  },
  {
   "cell_type": "code",
   "execution_count": 11,
   "id": "08fef405",
   "metadata": {
    "execution": {
     "iopub.execute_input": "2025-01-03T19:47:33.651503Z",
     "iopub.status.busy": "2025-01-03T19:47:33.650046Z",
     "iopub.status.idle": "2025-01-03T19:47:33.669268Z",
     "shell.execute_reply": "2025-01-03T19:47:33.668187Z"
    },
    "papermill": {
     "duration": 0.028401,
     "end_time": "2025-01-03T19:47:33.671539",
     "exception": false,
     "start_time": "2025-01-03T19:47:33.643138",
     "status": "completed"
    },
    "tags": []
   },
   "outputs": [
    {
     "data": {
      "text/html": [
       "<div>\n",
       "<style scoped>\n",
       "    .dataframe tbody tr th:only-of-type {\n",
       "        vertical-align: middle;\n",
       "    }\n",
       "\n",
       "    .dataframe tbody tr th {\n",
       "        vertical-align: top;\n",
       "    }\n",
       "\n",
       "    .dataframe thead th {\n",
       "        text-align: right;\n",
       "    }\n",
       "</style>\n",
       "<table border=\"1\" class=\"dataframe\">\n",
       "  <thead>\n",
       "    <tr style=\"text-align: right;\">\n",
       "      <th></th>\n",
       "      <th>season</th>\n",
       "      <th>home</th>\n",
       "      <th>away</th>\n",
       "      <th>score_away</th>\n",
       "      <th>score_home</th>\n",
       "      <th>W</th>\n",
       "      <th>L</th>\n",
       "      <th>L score</th>\n",
       "      <th>W score</th>\n",
       "    </tr>\n",
       "  </thead>\n",
       "  <tbody>\n",
       "    <tr>\n",
       "      <th>185</th>\n",
       "      <td>2002</td>\n",
       "      <td>Colorado State</td>\n",
       "      <td>Louisville</td>\n",
       "      <td>33</td>\n",
       "      <td>36</td>\n",
       "      <td>Colorado State</td>\n",
       "      <td>Louisville</td>\n",
       "      <td>33</td>\n",
       "      <td>36</td>\n",
       "    </tr>\n",
       "    <tr>\n",
       "      <th>369</th>\n",
       "      <td>2002</td>\n",
       "      <td>Colorado State</td>\n",
       "      <td>Wyoming</td>\n",
       "      <td>36</td>\n",
       "      <td>44</td>\n",
       "      <td>Colorado State</td>\n",
       "      <td>Wyoming</td>\n",
       "      <td>36</td>\n",
       "      <td>44</td>\n",
       "    </tr>\n",
       "    <tr>\n",
       "      <th>452</th>\n",
       "      <td>2002</td>\n",
       "      <td>Colorado State</td>\n",
       "      <td>BYU</td>\n",
       "      <td>10</td>\n",
       "      <td>37</td>\n",
       "      <td>Colorado State</td>\n",
       "      <td>BYU</td>\n",
       "      <td>10</td>\n",
       "      <td>37</td>\n",
       "    </tr>\n",
       "    <tr>\n",
       "      <th>702</th>\n",
       "      <td>2002</td>\n",
       "      <td>Colorado State</td>\n",
       "      <td>New Mexico</td>\n",
       "      <td>14</td>\n",
       "      <td>22</td>\n",
       "      <td>Colorado State</td>\n",
       "      <td>New Mexico</td>\n",
       "      <td>14</td>\n",
       "      <td>22</td>\n",
       "    </tr>\n",
       "    <tr>\n",
       "      <th>723</th>\n",
       "      <td>2002</td>\n",
       "      <td>Colorado State</td>\n",
       "      <td>UNLV</td>\n",
       "      <td>36</td>\n",
       "      <td>33</td>\n",
       "      <td>UNLV</td>\n",
       "      <td>Colorado State</td>\n",
       "      <td>33</td>\n",
       "      <td>36</td>\n",
       "    </tr>\n",
       "    <tr>\n",
       "      <th>760</th>\n",
       "      <td>2002</td>\n",
       "      <td>Colorado State</td>\n",
       "      <td>TCU</td>\n",
       "      <td>17</td>\n",
       "      <td>3</td>\n",
       "      <td>TCU</td>\n",
       "      <td>Colorado State</td>\n",
       "      <td>3</td>\n",
       "      <td>17</td>\n",
       "    </tr>\n",
       "  </tbody>\n",
       "</table>\n",
       "</div>"
      ],
      "text/plain": [
       "     season            home        away  score_away  score_home  \\\n",
       "185    2002  Colorado State  Louisville          33          36   \n",
       "369    2002  Colorado State     Wyoming          36          44   \n",
       "452    2002  Colorado State         BYU          10          37   \n",
       "702    2002  Colorado State  New Mexico          14          22   \n",
       "723    2002  Colorado State        UNLV          36          33   \n",
       "760    2002  Colorado State         TCU          17           3   \n",
       "\n",
       "                  W               L  L score  W score  \n",
       "185  Colorado State      Louisville       33       36  \n",
       "369  Colorado State         Wyoming       36       44  \n",
       "452  Colorado State             BYU       10       37  \n",
       "702  Colorado State      New Mexico       14       22  \n",
       "723            UNLV  Colorado State       33       36  \n",
       "760             TCU  Colorado State        3       17  "
      ]
     },
     "execution_count": 11,
     "metadata": {},
     "output_type": "execute_result"
    }
   ],
   "source": [
    "wl[2002][wl[2002]['home'] == 'Colorado State']"
   ]
  },
  {
   "cell_type": "code",
   "execution_count": 12,
   "id": "1888d124",
   "metadata": {
    "execution": {
     "iopub.execute_input": "2025-01-03T19:47:33.684371Z",
     "iopub.status.busy": "2025-01-03T19:47:33.683975Z",
     "iopub.status.idle": "2025-01-03T19:47:33.702634Z",
     "shell.execute_reply": "2025-01-03T19:47:33.701484Z"
    },
    "papermill": {
     "duration": 0.027915,
     "end_time": "2025-01-03T19:47:33.705231",
     "exception": false,
     "start_time": "2025-01-03T19:47:33.677316",
     "status": "completed"
    },
    "tags": []
   },
   "outputs": [
    {
     "data": {
      "text/html": [
       "<div>\n",
       "<style scoped>\n",
       "    .dataframe tbody tr th:only-of-type {\n",
       "        vertical-align: middle;\n",
       "    }\n",
       "\n",
       "    .dataframe tbody tr th {\n",
       "        vertical-align: top;\n",
       "    }\n",
       "\n",
       "    .dataframe thead th {\n",
       "        text-align: right;\n",
       "    }\n",
       "</style>\n",
       "<table border=\"1\" class=\"dataframe\">\n",
       "  <thead>\n",
       "    <tr style=\"text-align: right;\">\n",
       "      <th>season</th>\n",
       "      <th>2002</th>\n",
       "      <th>2003</th>\n",
       "      <th>2004</th>\n",
       "      <th>2005</th>\n",
       "      <th>2006</th>\n",
       "      <th>2007</th>\n",
       "      <th>2008</th>\n",
       "      <th>2009</th>\n",
       "      <th>2010</th>\n",
       "      <th>2011</th>\n",
       "      <th>...</th>\n",
       "      <th>2014</th>\n",
       "      <th>2015</th>\n",
       "      <th>2016</th>\n",
       "      <th>2017</th>\n",
       "      <th>2018</th>\n",
       "      <th>2019</th>\n",
       "      <th>2020</th>\n",
       "      <th>2021</th>\n",
       "      <th>2022</th>\n",
       "      <th>2023</th>\n",
       "    </tr>\n",
       "  </thead>\n",
       "  <tbody>\n",
       "    <tr>\n",
       "      <th>0</th>\n",
       "      <td>10</td>\n",
       "      <td>11</td>\n",
       "      <td>5</td>\n",
       "      <td>11</td>\n",
       "      <td>11</td>\n",
       "      <td>8</td>\n",
       "      <td>11</td>\n",
       "      <td>12</td>\n",
       "      <td>13</td>\n",
       "      <td>11</td>\n",
       "      <td>...</td>\n",
       "      <td>12</td>\n",
       "      <td>11</td>\n",
       "      <td>6</td>\n",
       "      <td>11</td>\n",
       "      <td>7</td>\n",
       "      <td>5</td>\n",
       "      <td>6</td>\n",
       "      <td>5</td>\n",
       "      <td>13</td>\n",
       "      <td>5</td>\n",
       "    </tr>\n",
       "  </tbody>\n",
       "</table>\n",
       "<p>1 rows × 22 columns</p>\n",
       "</div>"
      ],
      "text/plain": [
       "season  2002  2003  2004  2005  2006  2007  2008  2009  2010  2011  ...  2014  \\\n",
       "0         10    11     5    11    11     8    11    12    13    11  ...    12   \n",
       "\n",
       "season  2015  2016  2017  2018  2019  2020  2021  2022  2023  \n",
       "0         11     6    11     7     5     6     5    13     5  \n",
       "\n",
       "[1 rows x 22 columns]"
      ]
     },
     "execution_count": 12,
     "metadata": {},
     "output_type": "execute_result"
    }
   ],
   "source": [
    "win_loss_df[win_loss_df['W'] == 'TCU'].groupby(by='season').size().to_frame().T"
   ]
  }
 ],
 "metadata": {
  "kaggle": {
   "accelerator": "none",
   "dataSources": [
    {
     "datasetId": 5579581,
     "sourceId": 9245072,
     "sourceType": "datasetVersion"
    }
   ],
   "dockerImageVersionId": 30804,
   "isGpuEnabled": false,
   "isInternetEnabled": true,
   "language": "python",
   "sourceType": "notebook"
  },
  "kernelspec": {
   "display_name": "Python 3",
   "language": "python",
   "name": "python3"
  },
  "language_info": {
   "codemirror_mode": {
    "name": "ipython",
    "version": 3
   },
   "file_extension": ".py",
   "mimetype": "text/x-python",
   "name": "python",
   "nbconvert_exporter": "python",
   "pygments_lexer": "ipython3",
   "version": "3.10.14"
  },
  "papermill": {
   "default_parameters": {},
   "duration": 6.331354,
   "end_time": "2025-01-03T19:47:34.231610",
   "environment_variables": {},
   "exception": null,
   "input_path": "__notebook__.ipynb",
   "output_path": "__notebook__.ipynb",
   "parameters": {},
   "start_time": "2025-01-03T19:47:27.900256",
   "version": "2.6.0"
  }
 },
 "nbformat": 4,
 "nbformat_minor": 5
}
