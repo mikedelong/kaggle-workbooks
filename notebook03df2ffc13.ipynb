{
 "cells": [
  {
   "cell_type": "code",
   "execution_count": 1,
   "id": "200c003c",
   "metadata": {
    "_cell_guid": "b1076dfc-b9ad-4769-8c92-a6c4dae69d19",
    "_uuid": "8f2839f25d086af736a60e9eeb907d3b93b6e0e5",
    "execution": {
     "iopub.execute_input": "2025-02-06T19:12:07.537827Z",
     "iopub.status.busy": "2025-02-06T19:12:07.537461Z",
     "iopub.status.idle": "2025-02-06T19:12:08.755818Z",
     "shell.execute_reply": "2025-02-06T19:12:08.754629Z"
    },
    "papermill": {
     "duration": 1.225868,
     "end_time": "2025-02-06T19:12:08.757692",
     "exception": false,
     "start_time": "2025-02-06T19:12:07.531824",
     "status": "completed"
    },
    "tags": []
   },
   "outputs": [
    {
     "data": {
      "text/html": [
       "<div>\n",
       "<style scoped>\n",
       "    .dataframe tbody tr th:only-of-type {\n",
       "        vertical-align: middle;\n",
       "    }\n",
       "\n",
       "    .dataframe tbody tr th {\n",
       "        vertical-align: top;\n",
       "    }\n",
       "\n",
       "    .dataframe thead th {\n",
       "        text-align: right;\n",
       "    }\n",
       "</style>\n",
       "<table border=\"1\" class=\"dataframe\">\n",
       "  <thead>\n",
       "    <tr style=\"text-align: right;\">\n",
       "      <th></th>\n",
       "      <th>fideid</th>\n",
       "      <th>name</th>\n",
       "      <th>country</th>\n",
       "      <th>sex</th>\n",
       "      <th>title</th>\n",
       "      <th>w_title</th>\n",
       "      <th>o_title</th>\n",
       "      <th>foa_title</th>\n",
       "      <th>standart_rating</th>\n",
       "      <th>rapid_rating</th>\n",
       "      <th>...</th>\n",
       "      <th>WIM</th>\n",
       "      <th>WIM_year</th>\n",
       "      <th>FM</th>\n",
       "      <th>FM_year</th>\n",
       "      <th>CM</th>\n",
       "      <th>CM_year</th>\n",
       "      <th>WGM</th>\n",
       "      <th>WGM_year</th>\n",
       "      <th>WH</th>\n",
       "      <th>WH_year</th>\n",
       "    </tr>\n",
       "  </thead>\n",
       "  <tbody>\n",
       "    <tr>\n",
       "      <th>0</th>\n",
       "      <td>1701991</td>\n",
       "      <td>Aaberg, Anton</td>\n",
       "      <td>SWE</td>\n",
       "      <td>M</td>\n",
       "      <td>IM</td>\n",
       "      <td>NaN</td>\n",
       "      <td>NaN</td>\n",
       "      <td>NaN</td>\n",
       "      <td>2322</td>\n",
       "      <td>2331</td>\n",
       "      <td>...</td>\n",
       "      <td>False</td>\n",
       "      <td>0</td>\n",
       "      <td>False</td>\n",
       "      <td>0</td>\n",
       "      <td>False</td>\n",
       "      <td>0</td>\n",
       "      <td>False</td>\n",
       "      <td>0</td>\n",
       "      <td>False</td>\n",
       "      <td>0</td>\n",
       "    </tr>\n",
       "    <tr>\n",
       "      <th>1</th>\n",
       "      <td>1407589</td>\n",
       "      <td>Aabling-Thomsen, Jakob</td>\n",
       "      <td>DEN</td>\n",
       "      <td>M</td>\n",
       "      <td>IM</td>\n",
       "      <td>NaN</td>\n",
       "      <td>NaN</td>\n",
       "      <td>NaN</td>\n",
       "      <td>2327</td>\n",
       "      <td>0</td>\n",
       "      <td>...</td>\n",
       "      <td>False</td>\n",
       "      <td>0</td>\n",
       "      <td>False</td>\n",
       "      <td>2009</td>\n",
       "      <td>False</td>\n",
       "      <td>0</td>\n",
       "      <td>False</td>\n",
       "      <td>0</td>\n",
       "      <td>False</td>\n",
       "      <td>0</td>\n",
       "    </tr>\n",
       "    <tr>\n",
       "      <th>2</th>\n",
       "      <td>25678191</td>\n",
       "      <td>Aaditya Dhingra</td>\n",
       "      <td>IND</td>\n",
       "      <td>M</td>\n",
       "      <td>IM</td>\n",
       "      <td>NaN</td>\n",
       "      <td>NaN</td>\n",
       "      <td>NaN</td>\n",
       "      <td>2421</td>\n",
       "      <td>2208</td>\n",
       "      <td>...</td>\n",
       "      <td>False</td>\n",
       "      <td>0</td>\n",
       "      <td>False</td>\n",
       "      <td>0</td>\n",
       "      <td>False</td>\n",
       "      <td>2020</td>\n",
       "      <td>False</td>\n",
       "      <td>0</td>\n",
       "      <td>False</td>\n",
       "      <td>0</td>\n",
       "    </tr>\n",
       "    <tr>\n",
       "      <th>3</th>\n",
       "      <td>25778293</td>\n",
       "      <td>Aadya Gupta</td>\n",
       "      <td>IND</td>\n",
       "      <td>F</td>\n",
       "      <td>WFM</td>\n",
       "      <td>WFM</td>\n",
       "      <td>NaN</td>\n",
       "      <td>NaN</td>\n",
       "      <td>1968</td>\n",
       "      <td>1748</td>\n",
       "      <td>...</td>\n",
       "      <td>False</td>\n",
       "      <td>0</td>\n",
       "      <td>False</td>\n",
       "      <td>0</td>\n",
       "      <td>False</td>\n",
       "      <td>0</td>\n",
       "      <td>False</td>\n",
       "      <td>0</td>\n",
       "      <td>False</td>\n",
       "      <td>0</td>\n",
       "    </tr>\n",
       "    <tr>\n",
       "      <th>4</th>\n",
       "      <td>25991426</td>\n",
       "      <td>Aadya Ranganath</td>\n",
       "      <td>IND</td>\n",
       "      <td>F</td>\n",
       "      <td>WCM</td>\n",
       "      <td>WCM</td>\n",
       "      <td>NaN</td>\n",
       "      <td>NaN</td>\n",
       "      <td>1900</td>\n",
       "      <td>1704</td>\n",
       "      <td>...</td>\n",
       "      <td>False</td>\n",
       "      <td>0</td>\n",
       "      <td>False</td>\n",
       "      <td>0</td>\n",
       "      <td>False</td>\n",
       "      <td>0</td>\n",
       "      <td>False</td>\n",
       "      <td>0</td>\n",
       "      <td>False</td>\n",
       "      <td>0</td>\n",
       "    </tr>\n",
       "  </tbody>\n",
       "</table>\n",
       "<p>5 rows × 31 columns</p>\n",
       "</div>"
      ],
      "text/plain": [
       "     fideid                    name country sex title w_title o_title  \\\n",
       "0   1701991           Aaberg, Anton     SWE   M    IM     NaN     NaN   \n",
       "1   1407589  Aabling-Thomsen, Jakob     DEN   M    IM     NaN     NaN   \n",
       "2  25678191         Aaditya Dhingra     IND   M    IM     NaN     NaN   \n",
       "3  25778293             Aadya Gupta     IND   F   WFM     WFM     NaN   \n",
       "4  25991426         Aadya Ranganath     IND   F   WCM     WCM     NaN   \n",
       "\n",
       "  foa_title  standart_rating  rapid_rating  ...    WIM  WIM_year     FM  \\\n",
       "0       NaN             2322          2331  ...  False         0  False   \n",
       "1       NaN             2327             0  ...  False         0  False   \n",
       "2       NaN             2421          2208  ...  False         0  False   \n",
       "3       NaN             1968          1748  ...  False         0  False   \n",
       "4       NaN             1900          1704  ...  False         0  False   \n",
       "\n",
       "   FM_year     CM  CM_year    WGM  WGM_year     WH  WH_year  \n",
       "0        0  False        0  False         0  False        0  \n",
       "1     2009  False        0  False         0  False        0  \n",
       "2        0  False     2020  False         0  False        0  \n",
       "3        0  False        0  False         0  False        0  \n",
       "4        0  False        0  False         0  False        0  \n",
       "\n",
       "[5 rows x 31 columns]"
      ]
     },
     "execution_count": 1,
     "metadata": {},
     "output_type": "execute_result"
    }
   ],
   "source": [
    "import pandas as pd\n",
    "\n",
    "DATA = '/kaggle/input/fide-titled-chess-players/titled_players_otb.csv'\n",
    "df = pd.read_csv(filepath_or_buffer=DATA)\n",
    "df.head()"
   ]
  },
  {
   "cell_type": "markdown",
   "id": "89edc4de",
   "metadata": {
    "papermill": {
     "duration": 0.003975,
     "end_time": "2025-02-06T19:12:08.766111",
     "exception": false,
     "start_time": "2025-02-06T19:12:08.762136",
     "status": "completed"
    },
    "tags": []
   },
   "source": [
    "We expect our three ratings to be pretty highly correlated. Are they?"
   ]
  },
  {
   "cell_type": "code",
   "execution_count": 2,
   "id": "b6a49717",
   "metadata": {
    "execution": {
     "iopub.execute_input": "2025-02-06T19:12:08.775411Z",
     "iopub.status.busy": "2025-02-06T19:12:08.775048Z",
     "iopub.status.idle": "2025-02-06T19:12:08.788872Z",
     "shell.execute_reply": "2025-02-06T19:12:08.787889Z"
    },
    "papermill": {
     "duration": 0.020353,
     "end_time": "2025-02-06T19:12:08.790480",
     "exception": false,
     "start_time": "2025-02-06T19:12:08.770127",
     "status": "completed"
    },
    "tags": []
   },
   "outputs": [
    {
     "data": {
      "text/html": [
       "<div>\n",
       "<style scoped>\n",
       "    .dataframe tbody tr th:only-of-type {\n",
       "        vertical-align: middle;\n",
       "    }\n",
       "\n",
       "    .dataframe tbody tr th {\n",
       "        vertical-align: top;\n",
       "    }\n",
       "\n",
       "    .dataframe thead th {\n",
       "        text-align: right;\n",
       "    }\n",
       "</style>\n",
       "<table border=\"1\" class=\"dataframe\">\n",
       "  <thead>\n",
       "    <tr style=\"text-align: right;\">\n",
       "      <th></th>\n",
       "      <th>standart_rating</th>\n",
       "      <th>rapid_rating</th>\n",
       "      <th>blitz_rating</th>\n",
       "    </tr>\n",
       "  </thead>\n",
       "  <tbody>\n",
       "    <tr>\n",
       "      <th>standart_rating</th>\n",
       "      <td>1.000000</td>\n",
       "      <td>0.148530</td>\n",
       "      <td>0.154276</td>\n",
       "    </tr>\n",
       "    <tr>\n",
       "      <th>rapid_rating</th>\n",
       "      <td>0.148530</td>\n",
       "      <td>1.000000</td>\n",
       "      <td>0.660861</td>\n",
       "    </tr>\n",
       "    <tr>\n",
       "      <th>blitz_rating</th>\n",
       "      <td>0.154276</td>\n",
       "      <td>0.660861</td>\n",
       "      <td>1.000000</td>\n",
       "    </tr>\n",
       "  </tbody>\n",
       "</table>\n",
       "</div>"
      ],
      "text/plain": [
       "                 standart_rating  rapid_rating  blitz_rating\n",
       "standart_rating         1.000000      0.148530      0.154276\n",
       "rapid_rating            0.148530      1.000000      0.660861\n",
       "blitz_rating            0.154276      0.660861      1.000000"
      ]
     },
     "execution_count": 2,
     "metadata": {},
     "output_type": "execute_result"
    }
   ],
   "source": [
    "df[['standart_rating', 'rapid_rating', 'blitz_rating',]].corr()"
   ]
  },
  {
   "cell_type": "markdown",
   "id": "caea4678",
   "metadata": {
    "papermill": {
     "duration": 0.003708,
     "end_time": "2025-02-06T19:12:08.798284",
     "exception": false,
     "start_time": "2025-02-06T19:12:08.794576",
     "status": "completed"
    },
    "tags": []
   },
   "source": [
    "They are not, except for rapid/blitz. "
   ]
  },
  {
   "cell_type": "markdown",
   "id": "c6ab7f0e",
   "metadata": {
    "papermill": {
     "duration": 0.003597,
     "end_time": "2025-02-06T19:12:08.805784",
     "exception": false,
     "start_time": "2025-02-06T19:12:08.802187",
     "status": "completed"
    },
    "tags": []
   },
   "source": [
    "Let's look at the ratings distributions. We probably expect them to be exponential."
   ]
  },
  {
   "cell_type": "code",
   "execution_count": 3,
   "id": "9b93aad2",
   "metadata": {
    "execution": {
     "iopub.execute_input": "2025-02-06T19:12:08.814996Z",
     "iopub.status.busy": "2025-02-06T19:12:08.814654Z",
     "iopub.status.idle": "2025-02-06T19:12:11.925826Z",
     "shell.execute_reply": "2025-02-06T19:12:11.924746Z"
    },
    "papermill": {
     "duration": 3.11818,
     "end_time": "2025-02-06T19:12:11.927860",
     "exception": false,
     "start_time": "2025-02-06T19:12:08.809680",
     "status": "completed"
    },
    "tags": []
   },
   "outputs": [
    {
     "data": {
      "text/html": [
       "        <script type=\"text/javascript\">\n",
       "        window.PlotlyConfig = {MathJaxConfig: 'local'};\n",
       "        if (window.MathJax && window.MathJax.Hub && window.MathJax.Hub.Config) {window.MathJax.Hub.Config({SVG: {font: \"STIX-Web\"}});}\n",
       "        if (typeof require !== 'undefined') {\n",
       "        require.undef(\"plotly\");\n",
       "        requirejs.config({\n",
       "            paths: {\n",
       "                'plotly': ['https://cdn.plot.ly/plotly-2.35.2.min']\n",
       "            }\n",
       "        });\n",
       "        require(['plotly'], function(Plotly) {\n",
       "            window._Plotly = Plotly;\n",
       "        });\n",
       "        }\n",
       "        </script>\n",
       "        "
      ]
     },
     "metadata": {},
     "output_type": "display_data"
    },
    {
     "data": {
      "text/html": [
       "<iframe\n",
       "    scrolling=\"no\"\n",
       "    width=\"100%\"\n",
       "    height=\"545px\"\n",
       "    src=\"iframe_figures/figure_3.html\"\n",
       "    frameborder=\"0\"\n",
       "    allowfullscreen\n",
       "></iframe>\n"
      ]
     },
     "metadata": {},
     "output_type": "display_data"
    }
   ],
   "source": [
    "from plotly import express\n",
    "from plotly.offline import init_notebook_mode\n",
    "\n",
    "init_notebook_mode(connected=True)\n",
    "express.histogram(data_frame=df[df['standart_rating'] > 0], x='standart_rating', facet_col='sex').show(renderer='iframe_connected',)"
   ]
  },
  {
   "cell_type": "code",
   "execution_count": 4,
   "id": "14027869",
   "metadata": {
    "execution": {
     "iopub.execute_input": "2025-02-06T19:12:11.938265Z",
     "iopub.status.busy": "2025-02-06T19:12:11.937921Z",
     "iopub.status.idle": "2025-02-06T19:12:12.004612Z",
     "shell.execute_reply": "2025-02-06T19:12:12.003367Z"
    },
    "papermill": {
     "duration": 0.074204,
     "end_time": "2025-02-06T19:12:12.006767",
     "exception": false,
     "start_time": "2025-02-06T19:12:11.932563",
     "status": "completed"
    },
    "tags": []
   },
   "outputs": [
    {
     "data": {
      "text/html": [
       "<iframe\n",
       "    scrolling=\"no\"\n",
       "    width=\"100%\"\n",
       "    height=\"545px\"\n",
       "    src=\"iframe_figures/figure_4.html\"\n",
       "    frameborder=\"0\"\n",
       "    allowfullscreen\n",
       "></iframe>\n"
      ]
     },
     "metadata": {},
     "output_type": "display_data"
    }
   ],
   "source": [
    "express.histogram(data_frame=df[df['rapid_rating'] > 0], x='rapid_rating', facet_col='sex').show(renderer='iframe_connected',)"
   ]
  },
  {
   "cell_type": "code",
   "execution_count": 5,
   "id": "e5d303fb",
   "metadata": {
    "execution": {
     "iopub.execute_input": "2025-02-06T19:12:12.017062Z",
     "iopub.status.busy": "2025-02-06T19:12:12.016723Z",
     "iopub.status.idle": "2025-02-06T19:12:12.085290Z",
     "shell.execute_reply": "2025-02-06T19:12:12.084309Z"
    },
    "papermill": {
     "duration": 0.075727,
     "end_time": "2025-02-06T19:12:12.087096",
     "exception": false,
     "start_time": "2025-02-06T19:12:12.011369",
     "status": "completed"
    },
    "tags": []
   },
   "outputs": [
    {
     "data": {
      "text/html": [
       "<iframe\n",
       "    scrolling=\"no\"\n",
       "    width=\"100%\"\n",
       "    height=\"545px\"\n",
       "    src=\"iframe_figures/figure_5.html\"\n",
       "    frameborder=\"0\"\n",
       "    allowfullscreen\n",
       "></iframe>\n"
      ]
     },
     "metadata": {},
     "output_type": "display_data"
    }
   ],
   "source": [
    "express.histogram(data_frame=df[df['blitz_rating'] > 0], x='blitz_rating', facet_col='sex').show(renderer='iframe_connected',)"
   ]
  },
  {
   "cell_type": "markdown",
   "id": "155f1982",
   "metadata": {
    "papermill": {
     "duration": 0.004178,
     "end_time": "2025-02-06T19:12:12.095938",
     "exception": false,
     "start_time": "2025-02-06T19:12:12.091760",
     "status": "completed"
    },
    "tags": []
   },
   "source": [
    "They look really Gaussian. Or at least binomial. "
   ]
  },
  {
   "cell_type": "markdown",
   "id": "5111418a",
   "metadata": {
    "papermill": {
     "duration": 0.004218,
     "end_time": "2025-02-06T19:12:12.104952",
     "exception": false,
     "start_time": "2025-02-06T19:12:12.100734",
     "status": "completed"
    },
    "tags": []
   },
   "source": [
    "Let's take our three ratings and project them into two dimensions and make a scatter plot."
   ]
  },
  {
   "cell_type": "code",
   "execution_count": 6,
   "id": "43cc12c9",
   "metadata": {
    "execution": {
     "iopub.execute_input": "2025-02-06T19:12:12.115044Z",
     "iopub.status.busy": "2025-02-06T19:12:12.114709Z",
     "iopub.status.idle": "2025-02-06T19:14:11.107254Z",
     "shell.execute_reply": "2025-02-06T19:14:11.106093Z"
    },
    "papermill": {
     "duration": 119.000048,
     "end_time": "2025-02-06T19:14:11.109424",
     "exception": false,
     "start_time": "2025-02-06T19:12:12.109376",
     "status": "completed"
    },
    "tags": []
   },
   "outputs": [],
   "source": [
    "from sklearn.manifold import TSNE\n",
    "\n",
    "RANDOM_STATE = 2025\n",
    "reducer = TSNE(random_state=RANDOM_STATE)\n",
    "plot_df = pd.DataFrame(columns=['x', 'y'], data=reducer.fit_transform(X=df[['standart_rating', 'rapid_rating', 'blitz_rating',]]))\n",
    "plot_df[['name', 'sex', 'standart_rating', 'rapid_rating', 'blitz_rating', ]] = df[['name', 'sex', 'standart_rating', 'rapid_rating', 'blitz_rating', ]].copy()"
   ]
  },
  {
   "cell_type": "code",
   "execution_count": 7,
   "id": "153cb2f3",
   "metadata": {
    "execution": {
     "iopub.execute_input": "2025-02-06T19:14:11.121607Z",
     "iopub.status.busy": "2025-02-06T19:14:11.120945Z",
     "iopub.status.idle": "2025-02-06T19:14:11.268187Z",
     "shell.execute_reply": "2025-02-06T19:14:11.267178Z"
    },
    "papermill": {
     "duration": 0.154514,
     "end_time": "2025-02-06T19:14:11.269998",
     "exception": false,
     "start_time": "2025-02-06T19:14:11.115484",
     "status": "completed"
    },
    "tags": []
   },
   "outputs": [
    {
     "data": {
      "text/html": [
       "<iframe\n",
       "    scrolling=\"no\"\n",
       "    width=\"100%\"\n",
       "    height=\"545px\"\n",
       "    src=\"iframe_figures/figure_7.html\"\n",
       "    frameborder=\"0\"\n",
       "    allowfullscreen\n",
       "></iframe>\n"
      ]
     },
     "metadata": {},
     "output_type": "display_data"
    }
   ],
   "source": [
    "express.scatter(data_frame=plot_df, x='x', y='y', color='standart_rating', hover_name='name').show(renderer='iframe_connected',)"
   ]
  },
  {
   "cell_type": "markdown",
   "id": "8be4b6e0",
   "metadata": {
    "papermill": {
     "duration": 0.004269,
     "end_time": "2025-02-06T19:14:11.279023",
     "exception": false,
     "start_time": "2025-02-06T19:14:11.274754",
     "status": "completed"
    },
    "tags": []
   },
   "source": [
    "What do we see? We see that we have some dirty data due to zero standard ratings, but generally higher-rated players cluster together."
   ]
  },
  {
   "cell_type": "code",
   "execution_count": 8,
   "id": "2d492bb4",
   "metadata": {
    "execution": {
     "iopub.execute_input": "2025-02-06T19:14:11.289281Z",
     "iopub.status.busy": "2025-02-06T19:14:11.288940Z",
     "iopub.status.idle": "2025-02-06T19:14:11.385409Z",
     "shell.execute_reply": "2025-02-06T19:14:11.384350Z"
    },
    "papermill": {
     "duration": 0.103608,
     "end_time": "2025-02-06T19:14:11.387089",
     "exception": false,
     "start_time": "2025-02-06T19:14:11.283481",
     "status": "completed"
    },
    "tags": []
   },
   "outputs": [
    {
     "data": {
      "text/html": [
       "<iframe\n",
       "    scrolling=\"no\"\n",
       "    width=\"100%\"\n",
       "    height=\"545px\"\n",
       "    src=\"iframe_figures/figure_8.html\"\n",
       "    frameborder=\"0\"\n",
       "    allowfullscreen\n",
       "></iframe>\n"
      ]
     },
     "metadata": {},
     "output_type": "display_data"
    }
   ],
   "source": [
    "express.scatter(data_frame=plot_df, x='x', y='y', color='rapid_rating', hover_name='name').show(renderer='iframe_connected',)"
   ]
  },
  {
   "cell_type": "code",
   "execution_count": 9,
   "id": "35d2dd9e",
   "metadata": {
    "execution": {
     "iopub.execute_input": "2025-02-06T19:14:11.397365Z",
     "iopub.status.busy": "2025-02-06T19:14:11.397058Z",
     "iopub.status.idle": "2025-02-06T19:14:11.490838Z",
     "shell.execute_reply": "2025-02-06T19:14:11.489827Z"
    },
    "papermill": {
     "duration": 0.100649,
     "end_time": "2025-02-06T19:14:11.492454",
     "exception": false,
     "start_time": "2025-02-06T19:14:11.391805",
     "status": "completed"
    },
    "tags": []
   },
   "outputs": [
    {
     "data": {
      "text/html": [
       "<iframe\n",
       "    scrolling=\"no\"\n",
       "    width=\"100%\"\n",
       "    height=\"545px\"\n",
       "    src=\"iframe_figures/figure_9.html\"\n",
       "    frameborder=\"0\"\n",
       "    allowfullscreen\n",
       "></iframe>\n"
      ]
     },
     "metadata": {},
     "output_type": "display_data"
    }
   ],
   "source": [
    "express.scatter(data_frame=plot_df, x='x', y='y', color='blitz_rating', hover_name='name').show(renderer='iframe_connected',)"
   ]
  },
  {
   "cell_type": "code",
   "execution_count": 10,
   "id": "5cf9b346",
   "metadata": {
    "execution": {
     "iopub.execute_input": "2025-02-06T19:14:11.503607Z",
     "iopub.status.busy": "2025-02-06T19:14:11.503198Z",
     "iopub.status.idle": "2025-02-06T19:14:11.615146Z",
     "shell.execute_reply": "2025-02-06T19:14:11.614224Z"
    },
    "papermill": {
     "duration": 0.119167,
     "end_time": "2025-02-06T19:14:11.616755",
     "exception": false,
     "start_time": "2025-02-06T19:14:11.497588",
     "status": "completed"
    },
    "tags": []
   },
   "outputs": [
    {
     "data": {
      "text/html": [
       "<iframe\n",
       "    scrolling=\"no\"\n",
       "    width=\"100%\"\n",
       "    height=\"545px\"\n",
       "    src=\"iframe_figures/figure_10.html\"\n",
       "    frameborder=\"0\"\n",
       "    allowfullscreen\n",
       "></iframe>\n"
      ]
     },
     "metadata": {},
     "output_type": "display_data"
    }
   ],
   "source": [
    "express.scatter(data_frame=plot_df, x='x', y='y', color='sex', hover_name='name').show(renderer='iframe_connected',)"
   ]
  },
  {
   "cell_type": "code",
   "execution_count": 11,
   "id": "1c7b40b2",
   "metadata": {
    "execution": {
     "iopub.execute_input": "2025-02-06T19:14:11.627929Z",
     "iopub.status.busy": "2025-02-06T19:14:11.627583Z",
     "iopub.status.idle": "2025-02-06T19:14:11.654276Z",
     "shell.execute_reply": "2025-02-06T19:14:11.652888Z"
    },
    "papermill": {
     "duration": 0.03426,
     "end_time": "2025-02-06T19:14:11.656034",
     "exception": false,
     "start_time": "2025-02-06T19:14:11.621774",
     "status": "completed"
    },
    "tags": []
   },
   "outputs": [
    {
     "name": "stdout",
     "output_type": "stream",
     "text": [
      "<class 'pandas.core.frame.DataFrame'>\n",
      "RangeIndex: 22557 entries, 0 to 22556\n",
      "Data columns (total 31 columns):\n",
      " #   Column           Non-Null Count  Dtype  \n",
      "---  ------           --------------  -----  \n",
      " 0   fideid           22557 non-null  int64  \n",
      " 1   name             22557 non-null  object \n",
      " 2   country          22557 non-null  object \n",
      " 3   sex              22557 non-null  object \n",
      " 4   title            22557 non-null  object \n",
      " 5   w_title          4668 non-null   object \n",
      " 6   o_title          1134 non-null   object \n",
      " 7   foa_title        6 non-null      object \n",
      " 8   standart_rating  22557 non-null  int64  \n",
      " 9   rapid_rating     22557 non-null  int64  \n",
      " 10  blitz_rating     22557 non-null  int64  \n",
      " 11  birthday         22426 non-null  float64\n",
      " 12  flag             12438 non-null  object \n",
      " 13  IM               22557 non-null  bool   \n",
      " 14  IM_year          22557 non-null  int64  \n",
      " 15  WFM              22557 non-null  bool   \n",
      " 16  WFM_year         22557 non-null  int64  \n",
      " 17  WCM              22557 non-null  bool   \n",
      " 18  WCM_year         22557 non-null  int64  \n",
      " 19  GM               22557 non-null  bool   \n",
      " 20  GM_year          22557 non-null  int64  \n",
      " 21  WIM              22557 non-null  bool   \n",
      " 22  WIM_year         22557 non-null  int64  \n",
      " 23  FM               22557 non-null  bool   \n",
      " 24  FM_year          22557 non-null  int64  \n",
      " 25  CM               22557 non-null  bool   \n",
      " 26  CM_year          22557 non-null  int64  \n",
      " 27  WGM              22557 non-null  bool   \n",
      " 28  WGM_year         22557 non-null  int64  \n",
      " 29  WH               22557 non-null  bool   \n",
      " 30  WH_year          22557 non-null  int64  \n",
      "dtypes: bool(9), float64(1), int64(13), object(8)\n",
      "memory usage: 4.0+ MB\n"
     ]
    }
   ],
   "source": [
    "df.info()"
   ]
  }
 ],
 "metadata": {
  "kaggle": {
   "accelerator": "none",
   "dataSources": [
    {
     "datasetId": 6604785,
     "sourceId": 10664552,
     "sourceType": "datasetVersion"
    }
   ],
   "dockerImageVersionId": 30839,
   "isGpuEnabled": false,
   "isInternetEnabled": true,
   "language": "python",
   "sourceType": "notebook"
  },
  "kernelspec": {
   "display_name": "Python 3",
   "language": "python",
   "name": "python3"
  },
  "language_info": {
   "codemirror_mode": {
    "name": "ipython",
    "version": 3
   },
   "file_extension": ".py",
   "mimetype": "text/x-python",
   "name": "python",
   "nbconvert_exporter": "python",
   "pygments_lexer": "ipython3",
   "version": "3.10.12"
  },
  "papermill": {
   "default_parameters": {},
   "duration": 127.764811,
   "end_time": "2025-02-06T19:14:12.482616",
   "environment_variables": {},
   "exception": null,
   "input_path": "__notebook__.ipynb",
   "output_path": "__notebook__.ipynb",
   "parameters": {},
   "start_time": "2025-02-06T19:12:04.717805",
   "version": "2.6.0"
  }
 },
 "nbformat": 4,
 "nbformat_minor": 5
}
