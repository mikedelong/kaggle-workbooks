{
 "cells": [
  {
   "cell_type": "code",
   "execution_count": 1,
   "id": "0e057be5",
   "metadata": {
    "_cell_guid": "b1076dfc-b9ad-4769-8c92-a6c4dae69d19",
    "_uuid": "8f2839f25d086af736a60e9eeb907d3b93b6e0e5",
    "execution": {
     "iopub.execute_input": "2025-02-06T19:16:46.150392Z",
     "iopub.status.busy": "2025-02-06T19:16:46.150021Z",
     "iopub.status.idle": "2025-02-06T19:16:47.428864Z",
     "shell.execute_reply": "2025-02-06T19:16:47.427664Z"
    },
    "papermill": {
     "duration": 1.28678,
     "end_time": "2025-02-06T19:16:47.430775",
     "exception": false,
     "start_time": "2025-02-06T19:16:46.143995",
     "status": "completed"
    },
    "tags": []
   },
   "outputs": [
    {
     "data": {
      "text/html": [
       "<div>\n",
       "<style scoped>\n",
       "    .dataframe tbody tr th:only-of-type {\n",
       "        vertical-align: middle;\n",
       "    }\n",
       "\n",
       "    .dataframe tbody tr th {\n",
       "        vertical-align: top;\n",
       "    }\n",
       "\n",
       "    .dataframe thead th {\n",
       "        text-align: right;\n",
       "    }\n",
       "</style>\n",
       "<table border=\"1\" class=\"dataframe\">\n",
       "  <thead>\n",
       "    <tr style=\"text-align: right;\">\n",
       "      <th></th>\n",
       "      <th>fideid</th>\n",
       "      <th>name</th>\n",
       "      <th>country</th>\n",
       "      <th>sex</th>\n",
       "      <th>title</th>\n",
       "      <th>w_title</th>\n",
       "      <th>o_title</th>\n",
       "      <th>foa_title</th>\n",
       "      <th>standart_rating</th>\n",
       "      <th>rapid_rating</th>\n",
       "      <th>...</th>\n",
       "      <th>WIM</th>\n",
       "      <th>WIM_year</th>\n",
       "      <th>FM</th>\n",
       "      <th>FM_year</th>\n",
       "      <th>CM</th>\n",
       "      <th>CM_year</th>\n",
       "      <th>WGM</th>\n",
       "      <th>WGM_year</th>\n",
       "      <th>WH</th>\n",
       "      <th>WH_year</th>\n",
       "    </tr>\n",
       "  </thead>\n",
       "  <tbody>\n",
       "    <tr>\n",
       "      <th>0</th>\n",
       "      <td>1701991</td>\n",
       "      <td>Aaberg, Anton</td>\n",
       "      <td>SWE</td>\n",
       "      <td>M</td>\n",
       "      <td>IM</td>\n",
       "      <td>NaN</td>\n",
       "      <td>NaN</td>\n",
       "      <td>NaN</td>\n",
       "      <td>2322</td>\n",
       "      <td>2331</td>\n",
       "      <td>...</td>\n",
       "      <td>False</td>\n",
       "      <td>0</td>\n",
       "      <td>False</td>\n",
       "      <td>0</td>\n",
       "      <td>False</td>\n",
       "      <td>0</td>\n",
       "      <td>False</td>\n",
       "      <td>0</td>\n",
       "      <td>False</td>\n",
       "      <td>0</td>\n",
       "    </tr>\n",
       "    <tr>\n",
       "      <th>1</th>\n",
       "      <td>1407589</td>\n",
       "      <td>Aabling-Thomsen, Jakob</td>\n",
       "      <td>DEN</td>\n",
       "      <td>M</td>\n",
       "      <td>IM</td>\n",
       "      <td>NaN</td>\n",
       "      <td>NaN</td>\n",
       "      <td>NaN</td>\n",
       "      <td>2327</td>\n",
       "      <td>0</td>\n",
       "      <td>...</td>\n",
       "      <td>False</td>\n",
       "      <td>0</td>\n",
       "      <td>False</td>\n",
       "      <td>2009</td>\n",
       "      <td>False</td>\n",
       "      <td>0</td>\n",
       "      <td>False</td>\n",
       "      <td>0</td>\n",
       "      <td>False</td>\n",
       "      <td>0</td>\n",
       "    </tr>\n",
       "    <tr>\n",
       "      <th>2</th>\n",
       "      <td>25678191</td>\n",
       "      <td>Aaditya Dhingra</td>\n",
       "      <td>IND</td>\n",
       "      <td>M</td>\n",
       "      <td>IM</td>\n",
       "      <td>NaN</td>\n",
       "      <td>NaN</td>\n",
       "      <td>NaN</td>\n",
       "      <td>2421</td>\n",
       "      <td>2208</td>\n",
       "      <td>...</td>\n",
       "      <td>False</td>\n",
       "      <td>0</td>\n",
       "      <td>False</td>\n",
       "      <td>0</td>\n",
       "      <td>False</td>\n",
       "      <td>2020</td>\n",
       "      <td>False</td>\n",
       "      <td>0</td>\n",
       "      <td>False</td>\n",
       "      <td>0</td>\n",
       "    </tr>\n",
       "    <tr>\n",
       "      <th>3</th>\n",
       "      <td>25778293</td>\n",
       "      <td>Aadya Gupta</td>\n",
       "      <td>IND</td>\n",
       "      <td>F</td>\n",
       "      <td>WFM</td>\n",
       "      <td>WFM</td>\n",
       "      <td>NaN</td>\n",
       "      <td>NaN</td>\n",
       "      <td>1968</td>\n",
       "      <td>1748</td>\n",
       "      <td>...</td>\n",
       "      <td>False</td>\n",
       "      <td>0</td>\n",
       "      <td>False</td>\n",
       "      <td>0</td>\n",
       "      <td>False</td>\n",
       "      <td>0</td>\n",
       "      <td>False</td>\n",
       "      <td>0</td>\n",
       "      <td>False</td>\n",
       "      <td>0</td>\n",
       "    </tr>\n",
       "    <tr>\n",
       "      <th>4</th>\n",
       "      <td>25991426</td>\n",
       "      <td>Aadya Ranganath</td>\n",
       "      <td>IND</td>\n",
       "      <td>F</td>\n",
       "      <td>WCM</td>\n",
       "      <td>WCM</td>\n",
       "      <td>NaN</td>\n",
       "      <td>NaN</td>\n",
       "      <td>1900</td>\n",
       "      <td>1704</td>\n",
       "      <td>...</td>\n",
       "      <td>False</td>\n",
       "      <td>0</td>\n",
       "      <td>False</td>\n",
       "      <td>0</td>\n",
       "      <td>False</td>\n",
       "      <td>0</td>\n",
       "      <td>False</td>\n",
       "      <td>0</td>\n",
       "      <td>False</td>\n",
       "      <td>0</td>\n",
       "    </tr>\n",
       "  </tbody>\n",
       "</table>\n",
       "<p>5 rows × 31 columns</p>\n",
       "</div>"
      ],
      "text/plain": [
       "     fideid                    name country sex title w_title o_title  \\\n",
       "0   1701991           Aaberg, Anton     SWE   M    IM     NaN     NaN   \n",
       "1   1407589  Aabling-Thomsen, Jakob     DEN   M    IM     NaN     NaN   \n",
       "2  25678191         Aaditya Dhingra     IND   M    IM     NaN     NaN   \n",
       "3  25778293             Aadya Gupta     IND   F   WFM     WFM     NaN   \n",
       "4  25991426         Aadya Ranganath     IND   F   WCM     WCM     NaN   \n",
       "\n",
       "  foa_title  standart_rating  rapid_rating  ...    WIM  WIM_year     FM  \\\n",
       "0       NaN             2322          2331  ...  False         0  False   \n",
       "1       NaN             2327             0  ...  False         0  False   \n",
       "2       NaN             2421          2208  ...  False         0  False   \n",
       "3       NaN             1968          1748  ...  False         0  False   \n",
       "4       NaN             1900          1704  ...  False         0  False   \n",
       "\n",
       "   FM_year     CM  CM_year    WGM  WGM_year     WH  WH_year  \n",
       "0        0  False        0  False         0  False        0  \n",
       "1     2009  False        0  False         0  False        0  \n",
       "2        0  False     2020  False         0  False        0  \n",
       "3        0  False        0  False         0  False        0  \n",
       "4        0  False        0  False         0  False        0  \n",
       "\n",
       "[5 rows x 31 columns]"
      ]
     },
     "execution_count": 1,
     "metadata": {},
     "output_type": "execute_result"
    }
   ],
   "source": [
    "import pandas as pd\n",
    "\n",
    "DATA = '/kaggle/input/fide-titled-chess-players/titled_players_otb.csv'\n",
    "df = pd.read_csv(filepath_or_buffer=DATA)\n",
    "df.head()"
   ]
  },
  {
   "cell_type": "markdown",
   "id": "7f7f05bd",
   "metadata": {
    "papermill": {
     "duration": 0.004305,
     "end_time": "2025-02-06T19:16:47.440108",
     "exception": false,
     "start_time": "2025-02-06T19:16:47.435803",
     "status": "completed"
    },
    "tags": []
   },
   "source": [
    "We expect our three ratings to be pretty highly correlated. Are they?"
   ]
  },
  {
   "cell_type": "code",
   "execution_count": 2,
   "id": "3a9422d1",
   "metadata": {
    "execution": {
     "iopub.execute_input": "2025-02-06T19:16:47.450255Z",
     "iopub.status.busy": "2025-02-06T19:16:47.449878Z",
     "iopub.status.idle": "2025-02-06T19:16:47.464711Z",
     "shell.execute_reply": "2025-02-06T19:16:47.463686Z"
    },
    "papermill": {
     "duration": 0.021806,
     "end_time": "2025-02-06T19:16:47.466501",
     "exception": false,
     "start_time": "2025-02-06T19:16:47.444695",
     "status": "completed"
    },
    "tags": []
   },
   "outputs": [
    {
     "data": {
      "text/html": [
       "<div>\n",
       "<style scoped>\n",
       "    .dataframe tbody tr th:only-of-type {\n",
       "        vertical-align: middle;\n",
       "    }\n",
       "\n",
       "    .dataframe tbody tr th {\n",
       "        vertical-align: top;\n",
       "    }\n",
       "\n",
       "    .dataframe thead th {\n",
       "        text-align: right;\n",
       "    }\n",
       "</style>\n",
       "<table border=\"1\" class=\"dataframe\">\n",
       "  <thead>\n",
       "    <tr style=\"text-align: right;\">\n",
       "      <th></th>\n",
       "      <th>standart_rating</th>\n",
       "      <th>rapid_rating</th>\n",
       "      <th>blitz_rating</th>\n",
       "    </tr>\n",
       "  </thead>\n",
       "  <tbody>\n",
       "    <tr>\n",
       "      <th>standart_rating</th>\n",
       "      <td>1.000000</td>\n",
       "      <td>0.148530</td>\n",
       "      <td>0.154276</td>\n",
       "    </tr>\n",
       "    <tr>\n",
       "      <th>rapid_rating</th>\n",
       "      <td>0.148530</td>\n",
       "      <td>1.000000</td>\n",
       "      <td>0.660861</td>\n",
       "    </tr>\n",
       "    <tr>\n",
       "      <th>blitz_rating</th>\n",
       "      <td>0.154276</td>\n",
       "      <td>0.660861</td>\n",
       "      <td>1.000000</td>\n",
       "    </tr>\n",
       "  </tbody>\n",
       "</table>\n",
       "</div>"
      ],
      "text/plain": [
       "                 standart_rating  rapid_rating  blitz_rating\n",
       "standart_rating         1.000000      0.148530      0.154276\n",
       "rapid_rating            0.148530      1.000000      0.660861\n",
       "blitz_rating            0.154276      0.660861      1.000000"
      ]
     },
     "execution_count": 2,
     "metadata": {},
     "output_type": "execute_result"
    }
   ],
   "source": [
    "df[['standart_rating', 'rapid_rating', 'blitz_rating',]].corr()"
   ]
  },
  {
   "cell_type": "markdown",
   "id": "df80ef6b",
   "metadata": {
    "papermill": {
     "duration": 0.004414,
     "end_time": "2025-02-06T19:16:47.475538",
     "exception": false,
     "start_time": "2025-02-06T19:16:47.471124",
     "status": "completed"
    },
    "tags": []
   },
   "source": [
    "They are not, except for rapid/blitz. "
   ]
  },
  {
   "cell_type": "markdown",
   "id": "185b360c",
   "metadata": {
    "papermill": {
     "duration": 0.004073,
     "end_time": "2025-02-06T19:16:47.484004",
     "exception": false,
     "start_time": "2025-02-06T19:16:47.479931",
     "status": "completed"
    },
    "tags": []
   },
   "source": [
    "Let's look at the ratings distributions. We probably expect them to be exponential."
   ]
  },
  {
   "cell_type": "code",
   "execution_count": 3,
   "id": "488630ba",
   "metadata": {
    "execution": {
     "iopub.execute_input": "2025-02-06T19:16:47.494009Z",
     "iopub.status.busy": "2025-02-06T19:16:47.493673Z",
     "iopub.status.idle": "2025-02-06T19:16:50.787265Z",
     "shell.execute_reply": "2025-02-06T19:16:50.786170Z"
    },
    "papermill": {
     "duration": 3.301343,
     "end_time": "2025-02-06T19:16:50.789655",
     "exception": false,
     "start_time": "2025-02-06T19:16:47.488312",
     "status": "completed"
    },
    "tags": []
   },
   "outputs": [
    {
     "data": {
      "text/html": [
       "        <script type=\"text/javascript\">\n",
       "        window.PlotlyConfig = {MathJaxConfig: 'local'};\n",
       "        if (window.MathJax && window.MathJax.Hub && window.MathJax.Hub.Config) {window.MathJax.Hub.Config({SVG: {font: \"STIX-Web\"}});}\n",
       "        if (typeof require !== 'undefined') {\n",
       "        require.undef(\"plotly\");\n",
       "        requirejs.config({\n",
       "            paths: {\n",
       "                'plotly': ['https://cdn.plot.ly/plotly-2.35.2.min']\n",
       "            }\n",
       "        });\n",
       "        require(['plotly'], function(Plotly) {\n",
       "            window._Plotly = Plotly;\n",
       "        });\n",
       "        }\n",
       "        </script>\n",
       "        "
      ]
     },
     "metadata": {},
     "output_type": "display_data"
    },
    {
     "data": {
      "text/html": [
       "<iframe\n",
       "    scrolling=\"no\"\n",
       "    width=\"100%\"\n",
       "    height=\"545px\"\n",
       "    src=\"iframe_figures/figure_3.html\"\n",
       "    frameborder=\"0\"\n",
       "    allowfullscreen\n",
       "></iframe>\n"
      ]
     },
     "metadata": {},
     "output_type": "display_data"
    }
   ],
   "source": [
    "from plotly import express\n",
    "from plotly.offline import init_notebook_mode\n",
    "\n",
    "init_notebook_mode(connected=True)\n",
    "express.histogram(data_frame=df[df['standart_rating'] > 0], x='standart_rating', facet_col='sex').show(renderer='iframe_connected',)"
   ]
  },
  {
   "cell_type": "code",
   "execution_count": 4,
   "id": "2060bcd6",
   "metadata": {
    "execution": {
     "iopub.execute_input": "2025-02-06T19:16:50.814631Z",
     "iopub.status.busy": "2025-02-06T19:16:50.814117Z",
     "iopub.status.idle": "2025-02-06T19:16:50.890319Z",
     "shell.execute_reply": "2025-02-06T19:16:50.889094Z"
    },
    "papermill": {
     "duration": 0.091234,
     "end_time": "2025-02-06T19:16:50.892090",
     "exception": false,
     "start_time": "2025-02-06T19:16:50.800856",
     "status": "completed"
    },
    "tags": []
   },
   "outputs": [
    {
     "data": {
      "text/html": [
       "<iframe\n",
       "    scrolling=\"no\"\n",
       "    width=\"100%\"\n",
       "    height=\"545px\"\n",
       "    src=\"iframe_figures/figure_4.html\"\n",
       "    frameborder=\"0\"\n",
       "    allowfullscreen\n",
       "></iframe>\n"
      ]
     },
     "metadata": {},
     "output_type": "display_data"
    }
   ],
   "source": [
    "express.histogram(data_frame=df[df['rapid_rating'] > 0], x='rapid_rating', facet_col='sex').show(renderer='iframe_connected',)"
   ]
  },
  {
   "cell_type": "code",
   "execution_count": 5,
   "id": "a1a331ab",
   "metadata": {
    "execution": {
     "iopub.execute_input": "2025-02-06T19:16:50.903027Z",
     "iopub.status.busy": "2025-02-06T19:16:50.902685Z",
     "iopub.status.idle": "2025-02-06T19:16:50.968945Z",
     "shell.execute_reply": "2025-02-06T19:16:50.967704Z"
    },
    "papermill": {
     "duration": 0.073768,
     "end_time": "2025-02-06T19:16:50.970823",
     "exception": false,
     "start_time": "2025-02-06T19:16:50.897055",
     "status": "completed"
    },
    "tags": []
   },
   "outputs": [
    {
     "data": {
      "text/html": [
       "<iframe\n",
       "    scrolling=\"no\"\n",
       "    width=\"100%\"\n",
       "    height=\"545px\"\n",
       "    src=\"iframe_figures/figure_5.html\"\n",
       "    frameborder=\"0\"\n",
       "    allowfullscreen\n",
       "></iframe>\n"
      ]
     },
     "metadata": {},
     "output_type": "display_data"
    }
   ],
   "source": [
    "express.histogram(data_frame=df[df['blitz_rating'] > 0], x='blitz_rating', facet_col='sex').show(renderer='iframe_connected',)"
   ]
  },
  {
   "cell_type": "markdown",
   "id": "9422e1bd",
   "metadata": {
    "papermill": {
     "duration": 0.004556,
     "end_time": "2025-02-06T19:16:50.980668",
     "exception": false,
     "start_time": "2025-02-06T19:16:50.976112",
     "status": "completed"
    },
    "tags": []
   },
   "source": [
    "They look really Gaussian. Or at least binomial. "
   ]
  },
  {
   "cell_type": "markdown",
   "id": "3accc4ba",
   "metadata": {
    "papermill": {
     "duration": 0.004323,
     "end_time": "2025-02-06T19:16:50.989681",
     "exception": false,
     "start_time": "2025-02-06T19:16:50.985358",
     "status": "completed"
    },
    "tags": []
   },
   "source": [
    "Let's take our three ratings and project them into two dimensions and make a scatter plot."
   ]
  },
  {
   "cell_type": "code",
   "execution_count": 6,
   "id": "b1920e16",
   "metadata": {
    "execution": {
     "iopub.execute_input": "2025-02-06T19:16:51.000348Z",
     "iopub.status.busy": "2025-02-06T19:16:50.999998Z",
     "iopub.status.idle": "2025-02-06T19:18:55.232960Z",
     "shell.execute_reply": "2025-02-06T19:18:55.231822Z"
    },
    "papermill": {
     "duration": 124.240665,
     "end_time": "2025-02-06T19:18:55.235007",
     "exception": false,
     "start_time": "2025-02-06T19:16:50.994342",
     "status": "completed"
    },
    "tags": []
   },
   "outputs": [],
   "source": [
    "from sklearn.manifold import TSNE\n",
    "\n",
    "RANDOM_STATE = 2025\n",
    "reducer = TSNE(random_state=RANDOM_STATE)\n",
    "plot_df = pd.DataFrame(columns=['x', 'y'], data=reducer.fit_transform(X=df[['standart_rating', 'rapid_rating', 'blitz_rating',]]))\n",
    "plot_df[['name', 'sex', 'standart_rating', 'rapid_rating', 'blitz_rating', ]] = df[['name', 'sex', 'standart_rating', 'rapid_rating', 'blitz_rating', ]].copy()"
   ]
  },
  {
   "cell_type": "code",
   "execution_count": 7,
   "id": "b555c8dc",
   "metadata": {
    "execution": {
     "iopub.execute_input": "2025-02-06T19:18:55.247059Z",
     "iopub.status.busy": "2025-02-06T19:18:55.246378Z",
     "iopub.status.idle": "2025-02-06T19:18:55.395763Z",
     "shell.execute_reply": "2025-02-06T19:18:55.394703Z"
    },
    "papermill": {
     "duration": 0.157496,
     "end_time": "2025-02-06T19:18:55.397647",
     "exception": false,
     "start_time": "2025-02-06T19:18:55.240151",
     "status": "completed"
    },
    "tags": []
   },
   "outputs": [
    {
     "data": {
      "text/html": [
       "<iframe\n",
       "    scrolling=\"no\"\n",
       "    width=\"100%\"\n",
       "    height=\"545px\"\n",
       "    src=\"iframe_figures/figure_7.html\"\n",
       "    frameborder=\"0\"\n",
       "    allowfullscreen\n",
       "></iframe>\n"
      ]
     },
     "metadata": {},
     "output_type": "display_data"
    }
   ],
   "source": [
    "express.scatter(data_frame=plot_df, x='x', y='y', color='standart_rating', hover_name='name').show(renderer='iframe_connected',)"
   ]
  },
  {
   "cell_type": "markdown",
   "id": "a0d62f6a",
   "metadata": {
    "papermill": {
     "duration": 0.004727,
     "end_time": "2025-02-06T19:18:55.407738",
     "exception": false,
     "start_time": "2025-02-06T19:18:55.403011",
     "status": "completed"
    },
    "tags": []
   },
   "source": [
    "What do we see? We see that we have some dirty data due to zero standard ratings, but generally higher-rated players cluster together."
   ]
  },
  {
   "cell_type": "code",
   "execution_count": 8,
   "id": "1cf7d1c5",
   "metadata": {
    "execution": {
     "iopub.execute_input": "2025-02-06T19:18:55.418728Z",
     "iopub.status.busy": "2025-02-06T19:18:55.418316Z",
     "iopub.status.idle": "2025-02-06T19:18:55.516751Z",
     "shell.execute_reply": "2025-02-06T19:18:55.515603Z"
    },
    "papermill": {
     "duration": 0.105958,
     "end_time": "2025-02-06T19:18:55.518512",
     "exception": false,
     "start_time": "2025-02-06T19:18:55.412554",
     "status": "completed"
    },
    "tags": []
   },
   "outputs": [
    {
     "data": {
      "text/html": [
       "<iframe\n",
       "    scrolling=\"no\"\n",
       "    width=\"100%\"\n",
       "    height=\"545px\"\n",
       "    src=\"iframe_figures/figure_8.html\"\n",
       "    frameborder=\"0\"\n",
       "    allowfullscreen\n",
       "></iframe>\n"
      ]
     },
     "metadata": {},
     "output_type": "display_data"
    }
   ],
   "source": [
    "express.scatter(data_frame=plot_df, x='x', y='y', color='rapid_rating', hover_name='name').show(renderer='iframe_connected',)"
   ]
  },
  {
   "cell_type": "markdown",
   "id": "dccef2e8",
   "metadata": {
    "papermill": {
     "duration": 0.004734,
     "end_time": "2025-02-06T19:18:55.528388",
     "exception": false,
     "start_time": "2025-02-06T19:18:55.523654",
     "status": "completed"
    },
    "tags": []
   },
   "source": [
    "This makes the initial plot easier to understand; we have a lot of players that don't play rapid chess."
   ]
  },
  {
   "cell_type": "code",
   "execution_count": 9,
   "id": "9b07916d",
   "metadata": {
    "execution": {
     "iopub.execute_input": "2025-02-06T19:18:55.539341Z",
     "iopub.status.busy": "2025-02-06T19:18:55.538988Z",
     "iopub.status.idle": "2025-02-06T19:18:55.635089Z",
     "shell.execute_reply": "2025-02-06T19:18:55.633978Z"
    },
    "papermill": {
     "duration": 0.10372,
     "end_time": "2025-02-06T19:18:55.636965",
     "exception": false,
     "start_time": "2025-02-06T19:18:55.533245",
     "status": "completed"
    },
    "tags": []
   },
   "outputs": [
    {
     "data": {
      "text/html": [
       "<iframe\n",
       "    scrolling=\"no\"\n",
       "    width=\"100%\"\n",
       "    height=\"545px\"\n",
       "    src=\"iframe_figures/figure_9.html\"\n",
       "    frameborder=\"0\"\n",
       "    allowfullscreen\n",
       "></iframe>\n"
      ]
     },
     "metadata": {},
     "output_type": "display_data"
    }
   ],
   "source": [
    "express.scatter(data_frame=plot_df, x='x', y='y', color='blitz_rating', hover_name='name').show(renderer='iframe_connected',)"
   ]
  },
  {
   "cell_type": "markdown",
   "id": "b4ff3d84",
   "metadata": {
    "papermill": {
     "duration": 0.004658,
     "end_time": "2025-02-06T19:18:55.646796",
     "exception": false,
     "start_time": "2025-02-06T19:18:55.642138",
     "status": "completed"
    },
    "tags": []
   },
   "source": [
    "And we have a lot of players to don't play blitz. And our model picked out the cohort of players who only play standard chess over the board."
   ]
  },
  {
   "cell_type": "code",
   "execution_count": 10,
   "id": "ec48ccbf",
   "metadata": {
    "execution": {
     "iopub.execute_input": "2025-02-06T19:18:55.657981Z",
     "iopub.status.busy": "2025-02-06T19:18:55.657628Z",
     "iopub.status.idle": "2025-02-06T19:18:55.769615Z",
     "shell.execute_reply": "2025-02-06T19:18:55.768433Z"
    },
    "papermill": {
     "duration": 0.11974,
     "end_time": "2025-02-06T19:18:55.771412",
     "exception": false,
     "start_time": "2025-02-06T19:18:55.651672",
     "status": "completed"
    },
    "tags": []
   },
   "outputs": [
    {
     "data": {
      "text/html": [
       "<iframe\n",
       "    scrolling=\"no\"\n",
       "    width=\"100%\"\n",
       "    height=\"545px\"\n",
       "    src=\"iframe_figures/figure_10.html\"\n",
       "    frameborder=\"0\"\n",
       "    allowfullscreen\n",
       "></iframe>\n"
      ]
     },
     "metadata": {},
     "output_type": "display_data"
    }
   ],
   "source": [
    "express.scatter(data_frame=plot_df, x='x', y='y', color='sex', hover_name='name').show(renderer='iframe_connected',)"
   ]
  },
  {
   "cell_type": "markdown",
   "id": "9dba441d",
   "metadata": {
    "papermill": {
     "duration": 0.004869,
     "end_time": "2025-02-06T19:18:55.781689",
     "exception": false,
     "start_time": "2025-02-06T19:18:55.776820",
     "status": "completed"
    },
    "tags": []
   },
   "source": [
    "Finally, we see that generally women are lower-rated than men, so they tend to be concentrated in the lower-rated parts of each of our distributions."
   ]
  }
 ],
 "metadata": {
  "kaggle": {
   "accelerator": "none",
   "dataSources": [
    {
     "datasetId": 6604785,
     "sourceId": 10664552,
     "sourceType": "datasetVersion"
    }
   ],
   "dockerImageVersionId": 30839,
   "isGpuEnabled": false,
   "isInternetEnabled": true,
   "language": "python",
   "sourceType": "notebook"
  },
  "kernelspec": {
   "display_name": "Python 3",
   "language": "python",
   "name": "python3"
  },
  "language_info": {
   "codemirror_mode": {
    "name": "ipython",
    "version": 3
   },
   "file_extension": ".py",
   "mimetype": "text/x-python",
   "name": "python",
   "nbconvert_exporter": "python",
   "pygments_lexer": "ipython3",
   "version": "3.10.12"
  },
  "papermill": {
   "default_parameters": {},
   "duration": 133.354221,
   "end_time": "2025-02-06T19:18:56.608171",
   "environment_variables": {},
   "exception": null,
   "input_path": "__notebook__.ipynb",
   "output_path": "__notebook__.ipynb",
   "parameters": {},
   "start_time": "2025-02-06T19:16:43.253950",
   "version": "2.6.0"
  }
 },
 "nbformat": 4,
 "nbformat_minor": 5
}
