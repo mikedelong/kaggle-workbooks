{
 "cells": [
  {
   "cell_type": "markdown",
   "id": "6e2d1383",
   "metadata": {
    "papermill": {
     "duration": 0.004721,
     "end_time": "2023-09-06T16:08:44.261899",
     "exception": false,
     "start_time": "2023-09-06T16:08:44.257178",
     "status": "completed"
    },
    "tags": []
   },
   "source": [
    "I do not know this Fort Night of which you speak. Is it the one with the dancing?"
   ]
  },
  {
   "cell_type": "code",
   "execution_count": 1,
   "id": "b0fa2bc6",
   "metadata": {
    "execution": {
     "iopub.execute_input": "2023-09-06T16:08:44.271870Z",
     "iopub.status.busy": "2023-09-06T16:08:44.271323Z",
     "iopub.status.idle": "2023-09-06T16:08:44.700159Z",
     "shell.execute_reply": "2023-09-06T16:08:44.699253Z"
    },
    "papermill": {
     "duration": 0.43615,
     "end_time": "2023-09-06T16:08:44.702215",
     "exception": false,
     "start_time": "2023-09-06T16:08:44.266065",
     "status": "completed"
    },
    "tags": []
   },
   "outputs": [
    {
     "data": {
      "text/html": [
       "<div>\n",
       "<style scoped>\n",
       "    .dataframe tbody tr th:only-of-type {\n",
       "        vertical-align: middle;\n",
       "    }\n",
       "\n",
       "    .dataframe tbody tr th {\n",
       "        vertical-align: top;\n",
       "    }\n",
       "\n",
       "    .dataframe thead th {\n",
       "        text-align: right;\n",
       "    }\n",
       "</style>\n",
       "<table border=\"1\" class=\"dataframe\">\n",
       "  <thead>\n",
       "    <tr style=\"text-align: right;\">\n",
       "      <th></th>\n",
       "      <th>Date</th>\n",
       "      <th>Time of Day</th>\n",
       "      <th>Placed</th>\n",
       "      <th>Mental State</th>\n",
       "      <th>Eliminations</th>\n",
       "      <th>Assists</th>\n",
       "      <th>Revives</th>\n",
       "      <th>Accuracy</th>\n",
       "      <th>Hits</th>\n",
       "      <th>Head Shots</th>\n",
       "      <th>Distance Traveled</th>\n",
       "      <th>Materials Gathered</th>\n",
       "      <th>Materials Used</th>\n",
       "      <th>Damage Taken</th>\n",
       "      <th>Damage to Players</th>\n",
       "      <th>Damage to Structures</th>\n",
       "      <th>Accuracy (pct)</th>\n",
       "    </tr>\n",
       "  </thead>\n",
       "  <tbody>\n",
       "    <tr>\n",
       "      <th>0</th>\n",
       "      <td>4/10</td>\n",
       "      <td>6:00 PM</td>\n",
       "      <td>27</td>\n",
       "      <td>sober</td>\n",
       "      <td>2</td>\n",
       "      <td>0</td>\n",
       "      <td>0</td>\n",
       "      <td>23%</td>\n",
       "      <td>14</td>\n",
       "      <td>2</td>\n",
       "      <td>271.08</td>\n",
       "      <td>20</td>\n",
       "      <td>20</td>\n",
       "      <td>272</td>\n",
       "      <td>331</td>\n",
       "      <td>621</td>\n",
       "      <td>23</td>\n",
       "    </tr>\n",
       "    <tr>\n",
       "      <th>1</th>\n",
       "      <td>4/10</td>\n",
       "      <td>6:00 PM</td>\n",
       "      <td>45</td>\n",
       "      <td>sober</td>\n",
       "      <td>1</td>\n",
       "      <td>2</td>\n",
       "      <td>0</td>\n",
       "      <td>30%</td>\n",
       "      <td>19</td>\n",
       "      <td>1</td>\n",
       "      <td>396.73</td>\n",
       "      <td>123</td>\n",
       "      <td>30</td>\n",
       "      <td>247</td>\n",
       "      <td>444</td>\n",
       "      <td>998</td>\n",
       "      <td>30</td>\n",
       "    </tr>\n",
       "    <tr>\n",
       "      <th>2</th>\n",
       "      <td>4/10</td>\n",
       "      <td>6:00 PM</td>\n",
       "      <td>38</td>\n",
       "      <td>high</td>\n",
       "      <td>3</td>\n",
       "      <td>0</td>\n",
       "      <td>0</td>\n",
       "      <td>30%</td>\n",
       "      <td>32</td>\n",
       "      <td>1</td>\n",
       "      <td>607.80</td>\n",
       "      <td>71</td>\n",
       "      <td>60</td>\n",
       "      <td>176</td>\n",
       "      <td>322</td>\n",
       "      <td>1109</td>\n",
       "      <td>30</td>\n",
       "    </tr>\n",
       "    <tr>\n",
       "      <th>3</th>\n",
       "      <td>4/10</td>\n",
       "      <td>7:00 PM</td>\n",
       "      <td>30</td>\n",
       "      <td>high</td>\n",
       "      <td>1</td>\n",
       "      <td>3</td>\n",
       "      <td>0</td>\n",
       "      <td>18%</td>\n",
       "      <td>19</td>\n",
       "      <td>1</td>\n",
       "      <td>714.16</td>\n",
       "      <td>244</td>\n",
       "      <td>10</td>\n",
       "      <td>238</td>\n",
       "      <td>330</td>\n",
       "      <td>4726</td>\n",
       "      <td>18</td>\n",
       "    </tr>\n",
       "    <tr>\n",
       "      <th>4</th>\n",
       "      <td>4/10</td>\n",
       "      <td>7:00 PM</td>\n",
       "      <td>16</td>\n",
       "      <td>high</td>\n",
       "      <td>3</td>\n",
       "      <td>1</td>\n",
       "      <td>1</td>\n",
       "      <td>58%</td>\n",
       "      <td>42</td>\n",
       "      <td>18</td>\n",
       "      <td>1140.00</td>\n",
       "      <td>584</td>\n",
       "      <td>150</td>\n",
       "      <td>365</td>\n",
       "      <td>668</td>\n",
       "      <td>2070</td>\n",
       "      <td>58</td>\n",
       "    </tr>\n",
       "  </tbody>\n",
       "</table>\n",
       "</div>"
      ],
      "text/plain": [
       "   Date Time of Day  Placed Mental State  Eliminations  Assists  Revives  \\\n",
       "0  4/10     6:00 PM      27        sober             2        0        0   \n",
       "1  4/10     6:00 PM      45        sober             1        2        0   \n",
       "2  4/10     6:00 PM      38         high             3        0        0   \n",
       "3  4/10     7:00 PM      30         high             1        3        0   \n",
       "4  4/10     7:00 PM      16         high             3        1        1   \n",
       "\n",
       "  Accuracy  Hits  Head Shots  Distance Traveled  Materials Gathered  \\\n",
       "0      23%    14           2             271.08                  20   \n",
       "1      30%    19           1             396.73                 123   \n",
       "2      30%    32           1             607.80                  71   \n",
       "3      18%    19           1             714.16                 244   \n",
       "4      58%    42          18            1140.00                 584   \n",
       "\n",
       "   Materials Used  Damage Taken  Damage to Players  Damage to Structures  \\\n",
       "0              20           272                331                   621   \n",
       "1              30           247                444                   998   \n",
       "2              60           176                322                  1109   \n",
       "3              10           238                330                  4726   \n",
       "4             150           365                668                  2070   \n",
       "\n",
       "   Accuracy (pct)  \n",
       "0              23  \n",
       "1              30  \n",
       "2              30  \n",
       "3              18  \n",
       "4              58  "
      ]
     },
     "execution_count": 1,
     "metadata": {},
     "output_type": "execute_result"
    }
   ],
   "source": [
    "import pandas as pd\n",
    "df = pd.read_csv('/kaggle/input/fortnite-statistics/Fortnite Statistics.csv')\n",
    "df['Accuracy (pct)'] = df['Accuracy'].apply(func=lambda x: int(x.replace('%', '')))\n",
    "df.head()"
   ]
  },
  {
   "cell_type": "code",
   "execution_count": 2,
   "id": "433a50e4",
   "metadata": {
    "execution": {
     "iopub.execute_input": "2023-09-06T16:08:44.712314Z",
     "iopub.status.busy": "2023-09-06T16:08:44.711693Z",
     "iopub.status.idle": "2023-09-06T16:08:44.718056Z",
     "shell.execute_reply": "2023-09-06T16:08:44.716953Z"
    },
    "papermill": {
     "duration": 0.014432,
     "end_time": "2023-09-06T16:08:44.720738",
     "exception": false,
     "start_time": "2023-09-06T16:08:44.706306",
     "status": "completed"
    },
    "tags": []
   },
   "outputs": [
    {
     "data": {
      "text/plain": [
       "(87, 17)"
      ]
     },
     "execution_count": 2,
     "metadata": {},
     "output_type": "execute_result"
    }
   ],
   "source": [
    "df.shape"
   ]
  },
  {
   "cell_type": "code",
   "execution_count": 3,
   "id": "184441e2",
   "metadata": {
    "execution": {
     "iopub.execute_input": "2023-09-06T16:08:44.731990Z",
     "iopub.status.busy": "2023-09-06T16:08:44.731615Z",
     "iopub.status.idle": "2023-09-06T16:08:44.763501Z",
     "shell.execute_reply": "2023-09-06T16:08:44.762345Z"
    },
    "papermill": {
     "duration": 0.040158,
     "end_time": "2023-09-06T16:08:44.765876",
     "exception": false,
     "start_time": "2023-09-06T16:08:44.725718",
     "status": "completed"
    },
    "tags": []
   },
   "outputs": [
    {
     "name": "stdout",
     "output_type": "stream",
     "text": [
      "<class 'pandas.core.frame.DataFrame'>\n",
      "RangeIndex: 87 entries, 0 to 86\n",
      "Data columns (total 17 columns):\n",
      " #   Column                Non-Null Count  Dtype  \n",
      "---  ------                --------------  -----  \n",
      " 0   Date                  87 non-null     object \n",
      " 1   Time of Day           87 non-null     object \n",
      " 2   Placed                87 non-null     int64  \n",
      " 3   Mental State          87 non-null     object \n",
      " 4   Eliminations          87 non-null     int64  \n",
      " 5   Assists               87 non-null     int64  \n",
      " 6   Revives               87 non-null     int64  \n",
      " 7   Accuracy              87 non-null     object \n",
      " 8   Hits                  87 non-null     int64  \n",
      " 9   Head Shots            87 non-null     int64  \n",
      " 10  Distance Traveled     87 non-null     float64\n",
      " 11  Materials Gathered    87 non-null     int64  \n",
      " 12  Materials Used        87 non-null     int64  \n",
      " 13  Damage Taken          87 non-null     int64  \n",
      " 14  Damage to Players     87 non-null     int64  \n",
      " 15  Damage to Structures  87 non-null     int64  \n",
      " 16  Accuracy (pct)        87 non-null     int64  \n",
      "dtypes: float64(1), int64(12), object(4)\n",
      "memory usage: 11.7+ KB\n"
     ]
    }
   ],
   "source": [
    "df.info()"
   ]
  },
  {
   "cell_type": "code",
   "execution_count": 4,
   "id": "3a246936",
   "metadata": {
    "execution": {
     "iopub.execute_input": "2023-09-06T16:08:44.776615Z",
     "iopub.status.busy": "2023-09-06T16:08:44.775851Z",
     "iopub.status.idle": "2023-09-06T16:08:44.787802Z",
     "shell.execute_reply": "2023-09-06T16:08:44.786576Z"
    },
    "papermill": {
     "duration": 0.019759,
     "end_time": "2023-09-06T16:08:44.790177",
     "exception": false,
     "start_time": "2023-09-06T16:08:44.770418",
     "status": "completed"
    },
    "tags": []
   },
   "outputs": [
    {
     "data": {
      "text/plain": [
       "Date                     7\n",
       "Time of Day             13\n",
       "Placed                  41\n",
       "Mental State             2\n",
       "Eliminations             9\n",
       "Assists                  7\n",
       "Revives                  5\n",
       "Accuracy                38\n",
       "Hits                    52\n",
       "Head Shots              19\n",
       "Distance Traveled       85\n",
       "Materials Gathered      77\n",
       "Materials Used          30\n",
       "Damage Taken            74\n",
       "Damage to Players       84\n",
       "Damage to Structures    85\n",
       "Accuracy (pct)          38\n",
       "dtype: int64"
      ]
     },
     "execution_count": 4,
     "metadata": {},
     "output_type": "execute_result"
    }
   ],
   "source": [
    "df.nunique()"
   ]
  },
  {
   "cell_type": "code",
   "execution_count": 5,
   "id": "6b562333",
   "metadata": {
    "execution": {
     "iopub.execute_input": "2023-09-06T16:08:44.800678Z",
     "iopub.status.busy": "2023-09-06T16:08:44.800253Z",
     "iopub.status.idle": "2023-09-06T16:08:47.624665Z",
     "shell.execute_reply": "2023-09-06T16:08:47.623551Z"
    },
    "papermill": {
     "duration": 2.832556,
     "end_time": "2023-09-06T16:08:47.627113",
     "exception": false,
     "start_time": "2023-09-06T16:08:44.794557",
     "status": "completed"
    },
    "tags": []
   },
   "outputs": [
    {
     "data": {
      "text/html": [
       "        <script type=\"text/javascript\">\n",
       "        window.PlotlyConfig = {MathJaxConfig: 'local'};\n",
       "        if (window.MathJax && window.MathJax.Hub && window.MathJax.Hub.Config) {window.MathJax.Hub.Config({SVG: {font: \"STIX-Web\"}});}\n",
       "        if (typeof require !== 'undefined') {\n",
       "        require.undef(\"plotly\");\n",
       "        requirejs.config({\n",
       "            paths: {\n",
       "                'plotly': ['https://cdn.plot.ly/plotly-2.24.1.min']\n",
       "            }\n",
       "        });\n",
       "        require(['plotly'], function(Plotly) {\n",
       "            window._Plotly = Plotly;\n",
       "        });\n",
       "        }\n",
       "        </script>\n",
       "        "
      ]
     },
     "metadata": {},
     "output_type": "display_data"
    },
    {
     "data": {
      "text/html": [
       "<div>                            <div id=\"cbba3e34-5018-44fd-9892-5e6c522f00ca\" class=\"plotly-graph-div\" style=\"height:525px; width:100%;\"></div>            <script type=\"text/javascript\">                require([\"plotly\"], function(Plotly) {                    window.PLOTLYENV=window.PLOTLYENV || {};                                    if (document.getElementById(\"cbba3e34-5018-44fd-9892-5e6c522f00ca\")) {                    Plotly.newPlot(                        \"cbba3e34-5018-44fd-9892-5e6c522f00ca\",                        [{\"hovertemplate\":\"Mental State=sober\\u003cbr\\u003eDistance Traveled=%{x}\\u003cbr\\u003eDamage to Players=%{y}\\u003cbr\\u003eAccuracy (pct)=%{marker.size}\\u003cextra\\u003e\\u003c\\u002fextra\\u003e\",\"legendgroup\":\"sober\",\"marker\":{\"color\":\"#636efa\",\"size\":[23,30,22,20,17,23,27,46,25,20,4,28,34,17,6,38,12,29,18,4,17,90,35,10,22,24,38,16,44,21,21,38,43,34,27,13,11,25,36,53,45,42,28,26,31],\"sizemode\":\"area\",\"sizeref\":0.225,\"symbol\":\"circle\"},\"mode\":\"markers\",\"name\":\"sober\",\"orientation\":\"v\",\"showlegend\":true,\"x\":[271.08,396.73,610.18,3230.0,2780.0,1650.0,341.7,346.04,3320.0,562.26,693.1,2560.0,616.55,3790.0,1240.0,89.51,1700.0,570.68,661.55,574.95,1980.0,168.94,709.09,411.05,416.91,970.08,2330.0,3220.0,518.08,17.86,614.77,418.13,448.19,500.6,1650.0,1890.0,3350.0,161.73,336.46,314.1,1170.0,3550.0,267.0,954.43,226.67],\"xaxis\":\"x\",\"y\":[331,444,950,894,787,611,659,294,1399,736,60,1444,768,1166,219,385,416,509,376,157,335,313,548,276,560,668,1507,1081,592,132,680,507,560,442,502,1005,764,250,1014,658,286,724,375,475,338],\"yaxis\":\"y\",\"type\":\"scatter\"},{\"hovertemplate\":\"Mental State=high\\u003cbr\\u003eDistance Traveled=%{x}\\u003cbr\\u003eDamage to Players=%{y}\\u003cbr\\u003eAccuracy (pct)=%{marker.size}\\u003cextra\\u003e\\u003c\\u002fextra\\u003e\",\"legendgroup\":\"high\",\"marker\":{\"color\":\"#EF553B\",\"size\":[30,18,58,10,25,25,39,35,21,23,18,27,25,13,26,26,24,17,20,22,36,17,26,23,27,8,25,17,24,16,39,7,11,28,16,10,16,34,64,33,31,20],\"sizemode\":\"area\",\"sizeref\":0.225,\"symbol\":\"circle\"},\"mode\":\"markers\",\"name\":\"high\",\"orientation\":\"v\",\"showlegend\":true,\"x\":[607.8,714.16,1140.0,575.59,1200.0,292.43,1160.0,559.11,663.13,638.17,197.45,992.29,476.91,216.66,1200.0,338.6,229.59,640.68,399.83,1810.0,1500.0,3830.0,771.01,526.5,4050.0,2810.0,1950.0,2130.0,308.27,475.88,193.54,1450.0,685.75,494.14,498.11,792.0,4460.0,361.31,249.22,752.64,3770.0,222.54],\"xaxis\":\"x\",\"y\":[322,330,668,117,634,412,989,422,420,492,279,817,327,91,766,154,439,302,646,651,1253,1308,600,922,1383,256,481,497,430,157,311,189,80,467,315,471,997,362,468,1222,1492,478],\"yaxis\":\"y\",\"type\":\"scatter\"}],                        {\"template\":{\"data\":{\"histogram2dcontour\":[{\"type\":\"histogram2dcontour\",\"colorbar\":{\"outlinewidth\":0,\"ticks\":\"\"},\"colorscale\":[[0.0,\"#0d0887\"],[0.1111111111111111,\"#46039f\"],[0.2222222222222222,\"#7201a8\"],[0.3333333333333333,\"#9c179e\"],[0.4444444444444444,\"#bd3786\"],[0.5555555555555556,\"#d8576b\"],[0.6666666666666666,\"#ed7953\"],[0.7777777777777778,\"#fb9f3a\"],[0.8888888888888888,\"#fdca26\"],[1.0,\"#f0f921\"]]}],\"choropleth\":[{\"type\":\"choropleth\",\"colorbar\":{\"outlinewidth\":0,\"ticks\":\"\"}}],\"histogram2d\":[{\"type\":\"histogram2d\",\"colorbar\":{\"outlinewidth\":0,\"ticks\":\"\"},\"colorscale\":[[0.0,\"#0d0887\"],[0.1111111111111111,\"#46039f\"],[0.2222222222222222,\"#7201a8\"],[0.3333333333333333,\"#9c179e\"],[0.4444444444444444,\"#bd3786\"],[0.5555555555555556,\"#d8576b\"],[0.6666666666666666,\"#ed7953\"],[0.7777777777777778,\"#fb9f3a\"],[0.8888888888888888,\"#fdca26\"],[1.0,\"#f0f921\"]]}],\"heatmap\":[{\"type\":\"heatmap\",\"colorbar\":{\"outlinewidth\":0,\"ticks\":\"\"},\"colorscale\":[[0.0,\"#0d0887\"],[0.1111111111111111,\"#46039f\"],[0.2222222222222222,\"#7201a8\"],[0.3333333333333333,\"#9c179e\"],[0.4444444444444444,\"#bd3786\"],[0.5555555555555556,\"#d8576b\"],[0.6666666666666666,\"#ed7953\"],[0.7777777777777778,\"#fb9f3a\"],[0.8888888888888888,\"#fdca26\"],[1.0,\"#f0f921\"]]}],\"heatmapgl\":[{\"type\":\"heatmapgl\",\"colorbar\":{\"outlinewidth\":0,\"ticks\":\"\"},\"colorscale\":[[0.0,\"#0d0887\"],[0.1111111111111111,\"#46039f\"],[0.2222222222222222,\"#7201a8\"],[0.3333333333333333,\"#9c179e\"],[0.4444444444444444,\"#bd3786\"],[0.5555555555555556,\"#d8576b\"],[0.6666666666666666,\"#ed7953\"],[0.7777777777777778,\"#fb9f3a\"],[0.8888888888888888,\"#fdca26\"],[1.0,\"#f0f921\"]]}],\"contourcarpet\":[{\"type\":\"contourcarpet\",\"colorbar\":{\"outlinewidth\":0,\"ticks\":\"\"}}],\"contour\":[{\"type\":\"contour\",\"colorbar\":{\"outlinewidth\":0,\"ticks\":\"\"},\"colorscale\":[[0.0,\"#0d0887\"],[0.1111111111111111,\"#46039f\"],[0.2222222222222222,\"#7201a8\"],[0.3333333333333333,\"#9c179e\"],[0.4444444444444444,\"#bd3786\"],[0.5555555555555556,\"#d8576b\"],[0.6666666666666666,\"#ed7953\"],[0.7777777777777778,\"#fb9f3a\"],[0.8888888888888888,\"#fdca26\"],[1.0,\"#f0f921\"]]}],\"surface\":[{\"type\":\"surface\",\"colorbar\":{\"outlinewidth\":0,\"ticks\":\"\"},\"colorscale\":[[0.0,\"#0d0887\"],[0.1111111111111111,\"#46039f\"],[0.2222222222222222,\"#7201a8\"],[0.3333333333333333,\"#9c179e\"],[0.4444444444444444,\"#bd3786\"],[0.5555555555555556,\"#d8576b\"],[0.6666666666666666,\"#ed7953\"],[0.7777777777777778,\"#fb9f3a\"],[0.8888888888888888,\"#fdca26\"],[1.0,\"#f0f921\"]]}],\"mesh3d\":[{\"type\":\"mesh3d\",\"colorbar\":{\"outlinewidth\":0,\"ticks\":\"\"}}],\"scatter\":[{\"fillpattern\":{\"fillmode\":\"overlay\",\"size\":10,\"solidity\":0.2},\"type\":\"scatter\"}],\"parcoords\":[{\"type\":\"parcoords\",\"line\":{\"colorbar\":{\"outlinewidth\":0,\"ticks\":\"\"}}}],\"scatterpolargl\":[{\"type\":\"scatterpolargl\",\"marker\":{\"colorbar\":{\"outlinewidth\":0,\"ticks\":\"\"}}}],\"bar\":[{\"error_x\":{\"color\":\"#2a3f5f\"},\"error_y\":{\"color\":\"#2a3f5f\"},\"marker\":{\"line\":{\"color\":\"#E5ECF6\",\"width\":0.5},\"pattern\":{\"fillmode\":\"overlay\",\"size\":10,\"solidity\":0.2}},\"type\":\"bar\"}],\"scattergeo\":[{\"type\":\"scattergeo\",\"marker\":{\"colorbar\":{\"outlinewidth\":0,\"ticks\":\"\"}}}],\"scatterpolar\":[{\"type\":\"scatterpolar\",\"marker\":{\"colorbar\":{\"outlinewidth\":0,\"ticks\":\"\"}}}],\"histogram\":[{\"marker\":{\"pattern\":{\"fillmode\":\"overlay\",\"size\":10,\"solidity\":0.2}},\"type\":\"histogram\"}],\"scattergl\":[{\"type\":\"scattergl\",\"marker\":{\"colorbar\":{\"outlinewidth\":0,\"ticks\":\"\"}}}],\"scatter3d\":[{\"type\":\"scatter3d\",\"line\":{\"colorbar\":{\"outlinewidth\":0,\"ticks\":\"\"}},\"marker\":{\"colorbar\":{\"outlinewidth\":0,\"ticks\":\"\"}}}],\"scattermapbox\":[{\"type\":\"scattermapbox\",\"marker\":{\"colorbar\":{\"outlinewidth\":0,\"ticks\":\"\"}}}],\"scatterternary\":[{\"type\":\"scatterternary\",\"marker\":{\"colorbar\":{\"outlinewidth\":0,\"ticks\":\"\"}}}],\"scattercarpet\":[{\"type\":\"scattercarpet\",\"marker\":{\"colorbar\":{\"outlinewidth\":0,\"ticks\":\"\"}}}],\"carpet\":[{\"aaxis\":{\"endlinecolor\":\"#2a3f5f\",\"gridcolor\":\"white\",\"linecolor\":\"white\",\"minorgridcolor\":\"white\",\"startlinecolor\":\"#2a3f5f\"},\"baxis\":{\"endlinecolor\":\"#2a3f5f\",\"gridcolor\":\"white\",\"linecolor\":\"white\",\"minorgridcolor\":\"white\",\"startlinecolor\":\"#2a3f5f\"},\"type\":\"carpet\"}],\"table\":[{\"cells\":{\"fill\":{\"color\":\"#EBF0F8\"},\"line\":{\"color\":\"white\"}},\"header\":{\"fill\":{\"color\":\"#C8D4E3\"},\"line\":{\"color\":\"white\"}},\"type\":\"table\"}],\"barpolar\":[{\"marker\":{\"line\":{\"color\":\"#E5ECF6\",\"width\":0.5},\"pattern\":{\"fillmode\":\"overlay\",\"size\":10,\"solidity\":0.2}},\"type\":\"barpolar\"}],\"pie\":[{\"automargin\":true,\"type\":\"pie\"}]},\"layout\":{\"autotypenumbers\":\"strict\",\"colorway\":[\"#636efa\",\"#EF553B\",\"#00cc96\",\"#ab63fa\",\"#FFA15A\",\"#19d3f3\",\"#FF6692\",\"#B6E880\",\"#FF97FF\",\"#FECB52\"],\"font\":{\"color\":\"#2a3f5f\"},\"hovermode\":\"closest\",\"hoverlabel\":{\"align\":\"left\"},\"paper_bgcolor\":\"white\",\"plot_bgcolor\":\"#E5ECF6\",\"polar\":{\"bgcolor\":\"#E5ECF6\",\"angularaxis\":{\"gridcolor\":\"white\",\"linecolor\":\"white\",\"ticks\":\"\"},\"radialaxis\":{\"gridcolor\":\"white\",\"linecolor\":\"white\",\"ticks\":\"\"}},\"ternary\":{\"bgcolor\":\"#E5ECF6\",\"aaxis\":{\"gridcolor\":\"white\",\"linecolor\":\"white\",\"ticks\":\"\"},\"baxis\":{\"gridcolor\":\"white\",\"linecolor\":\"white\",\"ticks\":\"\"},\"caxis\":{\"gridcolor\":\"white\",\"linecolor\":\"white\",\"ticks\":\"\"}},\"coloraxis\":{\"colorbar\":{\"outlinewidth\":0,\"ticks\":\"\"}},\"colorscale\":{\"sequential\":[[0.0,\"#0d0887\"],[0.1111111111111111,\"#46039f\"],[0.2222222222222222,\"#7201a8\"],[0.3333333333333333,\"#9c179e\"],[0.4444444444444444,\"#bd3786\"],[0.5555555555555556,\"#d8576b\"],[0.6666666666666666,\"#ed7953\"],[0.7777777777777778,\"#fb9f3a\"],[0.8888888888888888,\"#fdca26\"],[1.0,\"#f0f921\"]],\"sequentialminus\":[[0.0,\"#0d0887\"],[0.1111111111111111,\"#46039f\"],[0.2222222222222222,\"#7201a8\"],[0.3333333333333333,\"#9c179e\"],[0.4444444444444444,\"#bd3786\"],[0.5555555555555556,\"#d8576b\"],[0.6666666666666666,\"#ed7953\"],[0.7777777777777778,\"#fb9f3a\"],[0.8888888888888888,\"#fdca26\"],[1.0,\"#f0f921\"]],\"diverging\":[[0,\"#8e0152\"],[0.1,\"#c51b7d\"],[0.2,\"#de77ae\"],[0.3,\"#f1b6da\"],[0.4,\"#fde0ef\"],[0.5,\"#f7f7f7\"],[0.6,\"#e6f5d0\"],[0.7,\"#b8e186\"],[0.8,\"#7fbc41\"],[0.9,\"#4d9221\"],[1,\"#276419\"]]},\"xaxis\":{\"gridcolor\":\"white\",\"linecolor\":\"white\",\"ticks\":\"\",\"title\":{\"standoff\":15},\"zerolinecolor\":\"white\",\"automargin\":true,\"zerolinewidth\":2},\"yaxis\":{\"gridcolor\":\"white\",\"linecolor\":\"white\",\"ticks\":\"\",\"title\":{\"standoff\":15},\"zerolinecolor\":\"white\",\"automargin\":true,\"zerolinewidth\":2},\"scene\":{\"xaxis\":{\"backgroundcolor\":\"#E5ECF6\",\"gridcolor\":\"white\",\"linecolor\":\"white\",\"showbackground\":true,\"ticks\":\"\",\"zerolinecolor\":\"white\",\"gridwidth\":2},\"yaxis\":{\"backgroundcolor\":\"#E5ECF6\",\"gridcolor\":\"white\",\"linecolor\":\"white\",\"showbackground\":true,\"ticks\":\"\",\"zerolinecolor\":\"white\",\"gridwidth\":2},\"zaxis\":{\"backgroundcolor\":\"#E5ECF6\",\"gridcolor\":\"white\",\"linecolor\":\"white\",\"showbackground\":true,\"ticks\":\"\",\"zerolinecolor\":\"white\",\"gridwidth\":2}},\"shapedefaults\":{\"line\":{\"color\":\"#2a3f5f\"}},\"annotationdefaults\":{\"arrowcolor\":\"#2a3f5f\",\"arrowhead\":0,\"arrowwidth\":1},\"geo\":{\"bgcolor\":\"white\",\"landcolor\":\"#E5ECF6\",\"subunitcolor\":\"white\",\"showland\":true,\"showlakes\":true,\"lakecolor\":\"white\"},\"title\":{\"x\":0.05},\"mapbox\":{\"style\":\"light\"}}},\"xaxis\":{\"anchor\":\"y\",\"domain\":[0.0,1.0],\"title\":{\"text\":\"Distance Traveled\"}},\"yaxis\":{\"anchor\":\"x\",\"domain\":[0.0,1.0],\"title\":{\"text\":\"Damage to Players\"}},\"legend\":{\"title\":{\"text\":\"Mental State\"},\"tracegroupgap\":0,\"itemsizing\":\"constant\"},\"margin\":{\"t\":60}},                        {\"responsive\": true}                    ).then(function(){\n",
       "                            \n",
       "var gd = document.getElementById('cbba3e34-5018-44fd-9892-5e6c522f00ca');\n",
       "var x = new MutationObserver(function (mutations, observer) {{\n",
       "        var display = window.getComputedStyle(gd).display;\n",
       "        if (!display || display === 'none') {{\n",
       "            console.log([gd, 'removed!']);\n",
       "            Plotly.purge(gd);\n",
       "            observer.disconnect();\n",
       "        }}\n",
       "}});\n",
       "\n",
       "// Listen for the removal of the full notebook cells\n",
       "var notebookContainer = gd.closest('#notebook-container');\n",
       "if (notebookContainer) {{\n",
       "    x.observe(notebookContainer, {childList: true});\n",
       "}}\n",
       "\n",
       "// Listen for the clearing of the current output cell\n",
       "var outputEl = gd.closest('.output');\n",
       "if (outputEl) {{\n",
       "    x.observe(outputEl, {childList: true});\n",
       "}}\n",
       "\n",
       "                        })                };                });            </script>        </div>"
      ]
     },
     "metadata": {},
     "output_type": "display_data"
    }
   ],
   "source": [
    "from plotly.express import scatter\n",
    "scatter(data_frame=df, x='Distance Traveled', y='Damage to Players', color='Mental State', size='Accuracy (pct)',).show()"
   ]
  }
 ],
 "kernelspec": {
  "display_name": "Python 3",
  "language": "python",
  "name": "python3"
 },
 "language_info": {
  "codemirror_mode": {
   "name": "ipython",
   "version": 3
  },
  "file_extension": ".py",
  "mimetype": "text/x-python",
  "name": "python",
  "nbconvert_exporter": "python",
  "pygments_lexer": "ipython3",
  "version": "3.6.4"
 },
 "metadata": {
  "kernelspec": {
   "display_name": "Python 3",
   "language": "python",
   "name": "python3"
  },
  "language_info": {
   "codemirror_mode": {
    "name": "ipython",
    "version": 3
   },
   "file_extension": ".py",
   "mimetype": "text/x-python",
   "name": "python",
   "nbconvert_exporter": "python",
   "pygments_lexer": "ipython3",
   "version": "3.10.12"
  },
  "papermill": {
   "default_parameters": {},
   "duration": 7.3526,
   "end_time": "2023-09-06T16:08:48.253265",
   "environment_variables": {},
   "exception": null,
   "input_path": "__notebook__.ipynb",
   "output_path": "__notebook__.ipynb",
   "parameters": {},
   "start_time": "2023-09-06T16:08:40.900665",
   "version": "2.4.0"
  }
 },
 "nbformat": 4,
 "nbformat_minor": 5
}
