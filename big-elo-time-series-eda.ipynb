{
 "cells": [
  {
   "cell_type": "code",
   "execution_count": 1,
   "id": "8a8d4d2e",
   "metadata": {
    "_cell_guid": "b1076dfc-b9ad-4769-8c92-a6c4dae69d19",
    "_uuid": "8f2839f25d086af736a60e9eeb907d3b93b6e0e5",
    "execution": {
     "iopub.execute_input": "2025-02-15T18:20:15.983859Z",
     "iopub.status.busy": "2025-02-15T18:20:15.983341Z",
     "iopub.status.idle": "2025-02-15T18:20:17.469584Z",
     "shell.execute_reply": "2025-02-15T18:20:17.468431Z"
    },
    "papermill": {
     "duration": 1.494687,
     "end_time": "2025-02-15T18:20:17.471827",
     "exception": false,
     "start_time": "2025-02-15T18:20:15.977140",
     "status": "completed"
    },
    "tags": []
   },
   "outputs": [
    {
     "data": {
      "text/plain": [
       "(66118, 24)"
      ]
     },
     "execution_count": 1,
     "metadata": {},
     "output_type": "execute_result"
    }
   ],
   "source": [
    "import pandas as pd\n",
    "\n",
    "DATA = '/kaggle/input/puck-elo-archive-1917now/NHL_ELO_Odyssey.csv'\n",
    "df = pd.read_csv(filepath_or_buffer=DATA, parse_dates=['date'])\n",
    "df.shape"
   ]
  },
  {
   "cell_type": "code",
   "execution_count": 2,
   "id": "dc91b790",
   "metadata": {
    "execution": {
     "iopub.execute_input": "2025-02-15T18:20:17.482233Z",
     "iopub.status.busy": "2025-02-15T18:20:17.481884Z",
     "iopub.status.idle": "2025-02-15T18:20:17.488150Z",
     "shell.execute_reply": "2025-02-15T18:20:17.487181Z"
    },
    "papermill": {
     "duration": 0.013352,
     "end_time": "2025-02-15T18:20:17.490010",
     "exception": false,
     "start_time": "2025-02-15T18:20:17.476658",
     "status": "completed"
    },
    "tags": []
   },
   "outputs": [
    {
     "data": {
      "text/plain": [
       "Index(['season', 'date', 'playoff', 'neutral', 'status', 'ot', 'home_team',\n",
       "       'away_team', 'home_team_abbr', 'away_team_abbr',\n",
       "       'home_team_pregame_rating', 'away_team_pregame_rating',\n",
       "       'home_team_winprob', 'away_team_winprob', 'overtime_prob',\n",
       "       'home_team_expected_points', 'away_team_expected_points',\n",
       "       'home_team_score', 'away_team_score', 'home_team_postgame_rating',\n",
       "       'away_team_postgame_rating', 'game_quality_rating',\n",
       "       'game_importance_rating', 'game_overall_rating'],\n",
       "      dtype='object')"
      ]
     },
     "execution_count": 2,
     "metadata": {},
     "output_type": "execute_result"
    }
   ],
   "source": [
    "df.columns"
   ]
  },
  {
   "cell_type": "markdown",
   "id": "4e7568e6",
   "metadata": {
    "papermill": {
     "duration": 0.003952,
     "end_time": "2025-02-15T18:20:17.498485",
     "exception": false,
     "start_time": "2025-02-15T18:20:17.494533",
     "status": "completed"
    },
    "tags": []
   },
   "source": [
    "We want to be able to plot the ELO scores for different teams over time, so let's get the team/ELO data together into a single DataFrame."
   ]
  },
  {
   "cell_type": "code",
   "execution_count": 3,
   "id": "ba9ec12d",
   "metadata": {
    "execution": {
     "iopub.execute_input": "2025-02-15T18:20:17.508463Z",
     "iopub.status.busy": "2025-02-15T18:20:17.508080Z",
     "iopub.status.idle": "2025-02-15T18:20:17.546312Z",
     "shell.execute_reply": "2025-02-15T18:20:17.545308Z"
    },
    "papermill": {
     "duration": 0.045441,
     "end_time": "2025-02-15T18:20:17.548276",
     "exception": false,
     "start_time": "2025-02-15T18:20:17.502835",
     "status": "completed"
    },
    "tags": []
   },
   "outputs": [],
   "source": [
    "home_df = df[['season', 'date', 'home_team', 'home_team_postgame_rating']].rename(columns={'home_team': 'team', 'home_team_postgame_rating': 'rating'})\n",
    "away_df = df[['season', 'date', 'away_team', 'away_team_postgame_rating']].rename(columns={'away_team': 'team', 'away_team_postgame_rating': 'rating'})\n",
    "elo_df = pd.concat(axis='index', objs=[home_df, away_df]).sort_values(by=['date'])"
   ]
  },
  {
   "cell_type": "markdown",
   "id": "ac0c3a45",
   "metadata": {
    "papermill": {
     "duration": 0.003892,
     "end_time": "2025-02-15T18:20:17.556701",
     "exception": false,
     "start_time": "2025-02-15T18:20:17.552809",
     "status": "completed"
    },
    "tags": []
   },
   "source": [
    "How many teams do we have in this dataset, and how many games did each team play?"
   ]
  },
  {
   "cell_type": "code",
   "execution_count": 4,
   "id": "7a2125e1",
   "metadata": {
    "execution": {
     "iopub.execute_input": "2025-02-15T18:20:17.566080Z",
     "iopub.status.busy": "2025-02-15T18:20:17.565752Z",
     "iopub.status.idle": "2025-02-15T18:20:20.434766Z",
     "shell.execute_reply": "2025-02-15T18:20:20.433845Z"
    },
    "papermill": {
     "duration": 2.875844,
     "end_time": "2025-02-15T18:20:20.436654",
     "exception": false,
     "start_time": "2025-02-15T18:20:17.560810",
     "status": "completed"
    },
    "tags": []
   },
   "outputs": [
    {
     "data": {
      "text/html": [
       "        <script type=\"text/javascript\">\n",
       "        window.PlotlyConfig = {MathJaxConfig: 'local'};\n",
       "        if (window.MathJax && window.MathJax.Hub && window.MathJax.Hub.Config) {window.MathJax.Hub.Config({SVG: {font: \"STIX-Web\"}});}\n",
       "        if (typeof require !== 'undefined') {\n",
       "        require.undef(\"plotly\");\n",
       "        requirejs.config({\n",
       "            paths: {\n",
       "                'plotly': ['https://cdn.plot.ly/plotly-2.35.2.min']\n",
       "            }\n",
       "        });\n",
       "        require(['plotly'], function(Plotly) {\n",
       "            window._Plotly = Plotly;\n",
       "        });\n",
       "        }\n",
       "        </script>\n",
       "        "
      ]
     },
     "metadata": {},
     "output_type": "display_data"
    },
    {
     "data": {
      "text/html": [
       "<iframe\n",
       "    scrolling=\"no\"\n",
       "    width=\"100%\"\n",
       "    height=\"545px\"\n",
       "    src=\"iframe_figures/figure_4.html\"\n",
       "    frameborder=\"0\"\n",
       "    allowfullscreen\n",
       "></iframe>\n"
      ]
     },
     "metadata": {},
     "output_type": "display_data"
    }
   ],
   "source": [
    "from plotly import express\n",
    "from plotly.offline import init_notebook_mode\n",
    "\n",
    "init_notebook_mode(connected=True)\n",
    "\n",
    "express.bar(data_frame=elo_df['team'].value_counts().to_frame().reset_index(), x='team', y='count').show(renderer='iframe_connected', )\n"
   ]
  },
  {
   "cell_type": "markdown",
   "id": "e05c854e",
   "metadata": {
    "papermill": {
     "duration": 0.004238,
     "end_time": "2025-02-15T18:20:20.445570",
     "exception": false,
     "start_time": "2025-02-15T18:20:20.441332",
     "status": "completed"
    },
    "tags": []
   },
   "source": [
    "We have a lot of variance in the number of games each team has played. Let's try plotting and see how our plot looks."
   ]
  },
  {
   "cell_type": "markdown",
   "id": "12ecd161",
   "metadata": {
    "papermill": {
     "duration": 0.004245,
     "end_time": "2025-02-15T18:20:20.454252",
     "exception": false,
     "start_time": "2025-02-15T18:20:20.450007",
     "status": "completed"
    },
    "tags": []
   },
   "source": [
    "We have a couple of problems we need to solve: one is that we have forty teams, so we need a color palette with forty colors if we don't want to reuse colors. Another is that we have at least one team that ceased operations and was later replaced by a team with the same name, but it doesn't make sense to have a line on our plot suggesting continuity between the two teams. So let's start with a scatter plot."
   ]
  },
  {
   "cell_type": "code",
   "execution_count": 5,
   "id": "eec90cde",
   "metadata": {
    "execution": {
     "iopub.execute_input": "2025-02-15T18:20:20.464194Z",
     "iopub.status.busy": "2025-02-15T18:20:20.463833Z",
     "iopub.status.idle": "2025-02-15T18:20:22.127959Z",
     "shell.execute_reply": "2025-02-15T18:20:22.126839Z"
    },
    "papermill": {
     "duration": 1.67103,
     "end_time": "2025-02-15T18:20:22.129644",
     "exception": false,
     "start_time": "2025-02-15T18:20:20.458614",
     "status": "completed"
    },
    "tags": []
   },
   "outputs": [
    {
     "data": {
      "text/html": [
       "<iframe\n",
       "    scrolling=\"no\"\n",
       "    width=\"100%\"\n",
       "    height=\"920\"\n",
       "    src=\"iframe_figures/figure_5.html\"\n",
       "    frameborder=\"0\"\n",
       "    allowfullscreen\n",
       "></iframe>\n"
      ]
     },
     "metadata": {},
     "output_type": "display_data"
    }
   ],
   "source": [
    "from plotly import colors\n",
    "\n",
    "express.scatter(data_frame=elo_df, x='date', y='rating', color='team', height=900, color_discrete_sequence = colors.sample_colorscale('HSV', 40)).show(renderer='iframe_connected', )\n"
   ]
  },
  {
   "cell_type": "markdown",
   "id": "c1312935",
   "metadata": {
    "papermill": {
     "duration": 0.004297,
     "end_time": "2025-02-15T18:20:22.138765",
     "exception": false,
     "start_time": "2025-02-15T18:20:22.134468",
     "status": "completed"
    },
    "tags": []
   },
   "source": [
    "What do we see? Well, we solved our Ottawa Senators problem, and by using a cyclical palette we get red colors for both very old teams and very young ones, which maybe is preferable to having older teams with very similar colors."
   ]
  },
  {
   "cell_type": "markdown",
   "id": "4f8f4952",
   "metadata": {
    "papermill": {
     "duration": 0.004254,
     "end_time": "2025-02-15T18:20:22.147425",
     "exception": false,
     "start_time": "2025-02-15T18:20:22.143171",
     "status": "completed"
    },
    "tags": []
   },
   "source": [
    "Also we see that our data suggests that the 1977-78 Montreal Canadiens were the very best team of all time, and the 1975 Washington Capitals were the worst."
   ]
  },
  {
   "cell_type": "markdown",
   "id": "c9a1ac91",
   "metadata": {
    "papermill": {
     "duration": 0.004311,
     "end_time": "2025-02-15T18:20:22.156207",
     "exception": false,
     "start_time": "2025-02-15T18:20:22.151896",
     "status": "completed"
    },
    "tags": []
   },
   "source": [
    "Can our data tell us the highest ELO for each team?"
   ]
  },
  {
   "cell_type": "code",
   "execution_count": 6,
   "id": "19b3ef0a",
   "metadata": {
    "execution": {
     "iopub.execute_input": "2025-02-15T18:20:22.166582Z",
     "iopub.status.busy": "2025-02-15T18:20:22.166195Z",
     "iopub.status.idle": "2025-02-15T18:20:22.210282Z",
     "shell.execute_reply": "2025-02-15T18:20:22.209251Z"
    },
    "papermill": {
     "duration": 0.051305,
     "end_time": "2025-02-15T18:20:22.211976",
     "exception": false,
     "start_time": "2025-02-15T18:20:22.160671",
     "status": "completed"
    },
    "tags": []
   },
   "outputs": [
    {
     "data": {
      "text/html": [
       "<div>\n",
       "<style scoped>\n",
       "    .dataframe tbody tr th:only-of-type {\n",
       "        vertical-align: middle;\n",
       "    }\n",
       "\n",
       "    .dataframe tbody tr th {\n",
       "        vertical-align: top;\n",
       "    }\n",
       "\n",
       "    .dataframe thead th {\n",
       "        text-align: right;\n",
       "    }\n",
       "</style>\n",
       "<table border=\"1\" class=\"dataframe\">\n",
       "  <thead>\n",
       "    <tr style=\"text-align: right;\">\n",
       "      <th></th>\n",
       "      <th>team</th>\n",
       "      <th>rating</th>\n",
       "    </tr>\n",
       "  </thead>\n",
       "  <tbody>\n",
       "    <tr>\n",
       "      <th>15</th>\n",
       "      <td>Montreal Canadiens</td>\n",
       "      <td>1715.979078</td>\n",
       "    </tr>\n",
       "    <tr>\n",
       "      <th>10</th>\n",
       "      <td>Detroit Red Wings</td>\n",
       "      <td>1661.199234</td>\n",
       "    </tr>\n",
       "    <tr>\n",
       "      <th>2</th>\n",
       "      <td>Boston Bruins</td>\n",
       "      <td>1659.146958</td>\n",
       "    </tr>\n",
       "    <tr>\n",
       "      <th>21</th>\n",
       "      <td>New York Islanders</td>\n",
       "      <td>1656.094704</td>\n",
       "    </tr>\n",
       "    <tr>\n",
       "      <th>4</th>\n",
       "      <td>Calgary Flames</td>\n",
       "      <td>1647.983237</td>\n",
       "    </tr>\n",
       "    <tr>\n",
       "      <th>11</th>\n",
       "      <td>Edmonton Oilers</td>\n",
       "      <td>1644.384855</td>\n",
       "    </tr>\n",
       "    <tr>\n",
       "      <th>25</th>\n",
       "      <td>Philadelphia Flyers</td>\n",
       "      <td>1638.661924</td>\n",
       "    </tr>\n",
       "    <tr>\n",
       "      <th>7</th>\n",
       "      <td>Colorado Avalanche</td>\n",
       "      <td>1633.950631</td>\n",
       "    </tr>\n",
       "    <tr>\n",
       "      <th>34</th>\n",
       "      <td>Tampa Bay Lightning</td>\n",
       "      <td>1629.655342</td>\n",
       "    </tr>\n",
       "    <tr>\n",
       "      <th>27</th>\n",
       "      <td>Pittsburgh Penguins</td>\n",
       "      <td>1621.853006</td>\n",
       "    </tr>\n",
       "  </tbody>\n",
       "</table>\n",
       "</div>"
      ],
      "text/plain": [
       "                   team       rating\n",
       "15   Montreal Canadiens  1715.979078\n",
       "10    Detroit Red Wings  1661.199234\n",
       "2         Boston Bruins  1659.146958\n",
       "21   New York Islanders  1656.094704\n",
       "4        Calgary Flames  1647.983237\n",
       "11      Edmonton Oilers  1644.384855\n",
       "25  Philadelphia Flyers  1638.661924\n",
       "7    Colorado Avalanche  1633.950631\n",
       "34  Tampa Bay Lightning  1629.655342\n",
       "27  Pittsburgh Penguins  1621.853006"
      ]
     },
     "execution_count": 6,
     "metadata": {},
     "output_type": "execute_result"
    }
   ],
   "source": [
    "elo_df[['team', 'rating']].groupby(by='team').max().reset_index().sort_values(ascending=False, by='rating').head(n=10)"
   ]
  },
  {
   "cell_type": "markdown",
   "id": "2d89068a",
   "metadata": {
    "papermill": {
     "duration": 0.0046,
     "end_time": "2025-02-15T18:20:22.221589",
     "exception": false,
     "start_time": "2025-02-15T18:20:22.216989",
     "status": "completed"
    },
    "tags": []
   },
   "source": [
    "This gives us a sense of which teams have been the most dominant when they were at their best. We can do a similar analysis to see which teams have been the best on average over time."
   ]
  },
  {
   "cell_type": "code",
   "execution_count": 7,
   "id": "0e7e93a6",
   "metadata": {
    "execution": {
     "iopub.execute_input": "2025-02-15T18:20:22.232511Z",
     "iopub.status.busy": "2025-02-15T18:20:22.232152Z",
     "iopub.status.idle": "2025-02-15T18:20:22.258076Z",
     "shell.execute_reply": "2025-02-15T18:20:22.257086Z"
    },
    "papermill": {
     "duration": 0.033253,
     "end_time": "2025-02-15T18:20:22.259771",
     "exception": false,
     "start_time": "2025-02-15T18:20:22.226518",
     "status": "completed"
    },
    "tags": []
   },
   "outputs": [
    {
     "data": {
      "text/html": [
       "<div>\n",
       "<style scoped>\n",
       "    .dataframe tbody tr th:only-of-type {\n",
       "        vertical-align: middle;\n",
       "    }\n",
       "\n",
       "    .dataframe tbody tr th {\n",
       "        vertical-align: top;\n",
       "    }\n",
       "\n",
       "    .dataframe thead th {\n",
       "        text-align: right;\n",
       "    }\n",
       "</style>\n",
       "<table border=\"1\" class=\"dataframe\">\n",
       "  <thead>\n",
       "    <tr style=\"text-align: right;\">\n",
       "      <th></th>\n",
       "      <th>team</th>\n",
       "      <th>rating</th>\n",
       "    </tr>\n",
       "  </thead>\n",
       "  <tbody>\n",
       "    <tr>\n",
       "      <th>37</th>\n",
       "      <td>Vegas Golden Knights</td>\n",
       "      <td>1543.359173</td>\n",
       "    </tr>\n",
       "    <tr>\n",
       "      <th>15</th>\n",
       "      <td>Montreal Canadiens</td>\n",
       "      <td>1538.329685</td>\n",
       "    </tr>\n",
       "    <tr>\n",
       "      <th>2</th>\n",
       "      <td>Boston Bruins</td>\n",
       "      <td>1527.531767</td>\n",
       "    </tr>\n",
       "    <tr>\n",
       "      <th>25</th>\n",
       "      <td>Philadelphia Flyers</td>\n",
       "      <td>1523.310394</td>\n",
       "    </tr>\n",
       "    <tr>\n",
       "      <th>7</th>\n",
       "      <td>Colorado Avalanche</td>\n",
       "      <td>1511.936955</td>\n",
       "    </tr>\n",
       "    <tr>\n",
       "      <th>10</th>\n",
       "      <td>Detroit Red Wings</td>\n",
       "      <td>1509.882833</td>\n",
       "    </tr>\n",
       "    <tr>\n",
       "      <th>4</th>\n",
       "      <td>Calgary Flames</td>\n",
       "      <td>1507.876158</td>\n",
       "    </tr>\n",
       "    <tr>\n",
       "      <th>3</th>\n",
       "      <td>Buffalo Sabres</td>\n",
       "      <td>1506.104804</td>\n",
       "    </tr>\n",
       "    <tr>\n",
       "      <th>11</th>\n",
       "      <td>Edmonton Oilers</td>\n",
       "      <td>1505.590172</td>\n",
       "    </tr>\n",
       "    <tr>\n",
       "      <th>22</th>\n",
       "      <td>New York Rangers</td>\n",
       "      <td>1505.506706</td>\n",
       "    </tr>\n",
       "  </tbody>\n",
       "</table>\n",
       "</div>"
      ],
      "text/plain": [
       "                    team       rating\n",
       "37  Vegas Golden Knights  1543.359173\n",
       "15    Montreal Canadiens  1538.329685\n",
       "2          Boston Bruins  1527.531767\n",
       "25   Philadelphia Flyers  1523.310394\n",
       "7     Colorado Avalanche  1511.936955\n",
       "10     Detroit Red Wings  1509.882833\n",
       "4         Calgary Flames  1507.876158\n",
       "3         Buffalo Sabres  1506.104804\n",
       "11       Edmonton Oilers  1505.590172\n",
       "22      New York Rangers  1505.506706"
      ]
     },
     "execution_count": 7,
     "metadata": {},
     "output_type": "execute_result"
    }
   ],
   "source": [
    "elo_df[['team', 'rating']].groupby(by='team').mean().reset_index().sort_values(ascending=False, by='rating').head(n=10)"
   ]
  },
  {
   "cell_type": "markdown",
   "id": "df187101",
   "metadata": {
    "papermill": {
     "duration": 0.004676,
     "end_time": "2025-02-15T18:20:22.269481",
     "exception": false,
     "start_time": "2025-02-15T18:20:22.264805",
     "status": "completed"
    },
    "tags": []
   },
   "source": [
    "The two teams share a lot of teams. That's probably not surprising."
   ]
  },
  {
   "cell_type": "markdown",
   "id": "b1adf152",
   "metadata": {
    "papermill": {
     "duration": 0.004702,
     "end_time": "2025-02-15T18:20:22.279481",
     "exception": false,
     "start_time": "2025-02-15T18:20:22.274779",
     "status": "completed"
    },
    "tags": []
   },
   "source": [
    "Let's just look at the last few years. We don't have the Ottawa Senators problem any more, so we can make a line plot. But the fact that our time series has the date as its X axis and the season doesn't run year round gives us an odd looking graph, because teams' ELO scores jump toward the mean during the offseason for reasons that aren't entirely clear. "
   ]
  },
  {
   "cell_type": "code",
   "execution_count": 8,
   "id": "3f12240e",
   "metadata": {
    "execution": {
     "iopub.execute_input": "2025-02-15T18:20:22.290541Z",
     "iopub.status.busy": "2025-02-15T18:20:22.290177Z",
     "iopub.status.idle": "2025-02-15T18:20:22.682863Z",
     "shell.execute_reply": "2025-02-15T18:20:22.681774Z"
    },
    "papermill": {
     "duration": 0.399999,
     "end_time": "2025-02-15T18:20:22.684431",
     "exception": false,
     "start_time": "2025-02-15T18:20:22.284432",
     "status": "completed"
    },
    "tags": []
   },
   "outputs": [
    {
     "data": {
      "text/html": [
       "<iframe\n",
       "    scrolling=\"no\"\n",
       "    width=\"100%\"\n",
       "    height=\"820\"\n",
       "    src=\"iframe_figures/figure_8.html\"\n",
       "    frameborder=\"0\"\n",
       "    allowfullscreen\n",
       "></iframe>\n"
      ]
     },
     "metadata": {},
     "output_type": "display_data"
    }
   ],
   "source": [
    "express.line(data_frame=elo_df[elo_df['season'] > 2015].sort_values(by=['date', 'team']).reset_index(), x='date', y='rating', color='team', height=800, color_discrete_sequence = colors.sample_colorscale('HSV', 32)).show(renderer='iframe_connected', )\n"
   ]
  },
  {
   "cell_type": "markdown",
   "id": "184120b9",
   "metadata": {
    "papermill": {
     "duration": 0.004569,
     "end_time": "2025-02-15T18:20:22.694003",
     "exception": false,
     "start_time": "2025-02-15T18:20:22.689434",
     "status": "completed"
    },
    "tags": []
   },
   "source": [
    "Maybe ELO scores make more sense within a season than they do across seasons. "
   ]
  },
  {
   "cell_type": "code",
   "execution_count": 9,
   "id": "b2b8e234",
   "metadata": {
    "execution": {
     "iopub.execute_input": "2025-02-15T18:20:22.705019Z",
     "iopub.status.busy": "2025-02-15T18:20:22.704695Z",
     "iopub.status.idle": "2025-02-15T18:20:22.979505Z",
     "shell.execute_reply": "2025-02-15T18:20:22.978454Z"
    },
    "papermill": {
     "duration": 0.282197,
     "end_time": "2025-02-15T18:20:22.981110",
     "exception": false,
     "start_time": "2025-02-15T18:20:22.698913",
     "status": "completed"
    },
    "tags": []
   },
   "outputs": [
    {
     "data": {
      "text/html": [
       "<iframe\n",
       "    scrolling=\"no\"\n",
       "    width=\"100%\"\n",
       "    height=\"820\"\n",
       "    src=\"iframe_figures/figure_9.html\"\n",
       "    frameborder=\"0\"\n",
       "    allowfullscreen\n",
       "></iframe>\n"
      ]
     },
     "metadata": {},
     "output_type": "display_data"
    }
   ],
   "source": [
    "express.scatter(data_frame=elo_df[elo_df['season'] == 2023].sort_values(by=['date', 'team']).reset_index(), x='date', y='rating', color='team', height=800, color_discrete_sequence = colors.sample_colorscale('HSV', 32)).show(renderer='iframe_connected', )\n"
   ]
  },
  {
   "cell_type": "markdown",
   "id": "05467c49",
   "metadata": {
    "papermill": {
     "duration": 0.004597,
     "end_time": "2025-02-15T18:20:22.990881",
     "exception": false,
     "start_time": "2025-02-15T18:20:22.986284",
     "status": "completed"
    },
    "tags": []
   },
   "source": [
    "What do we see? First of all we see that the 2023 season starts in 2022. Second, we can clearly see the impact of a couple of early games between the Sharks and the Predators and the post-season, which goes on for two solid months. Finally, we see that the highest ELO teams don't always win titles, as the Bruins exit in an early round of the playoffs, but the Golden Knights, which start the year in the middle of the ELO pack end up winning the Stanley Cup. Go figure."
   ]
  }
 ],
 "metadata": {
  "kaggle": {
   "accelerator": "none",
   "dataSources": [
    {
     "datasetId": 6660083,
     "sourceId": 10740361,
     "sourceType": "datasetVersion"
    }
   ],
   "dockerImageVersionId": 30886,
   "isGpuEnabled": false,
   "isInternetEnabled": true,
   "language": "python",
   "sourceType": "notebook"
  },
  "kernelspec": {
   "display_name": "Python 3",
   "language": "python",
   "name": "python3"
  },
  "language_info": {
   "codemirror_mode": {
    "name": "ipython",
    "version": 3
   },
   "file_extension": ".py",
   "mimetype": "text/x-python",
   "name": "python",
   "nbconvert_exporter": "python",
   "pygments_lexer": "ipython3",
   "version": "3.10.12"
  },
  "papermill": {
   "default_parameters": {},
   "duration": 10.550589,
   "end_time": "2025-02-15T18:20:23.716537",
   "environment_variables": {},
   "exception": null,
   "input_path": "__notebook__.ipynb",
   "output_path": "__notebook__.ipynb",
   "parameters": {},
   "start_time": "2025-02-15T18:20:13.165948",
   "version": "2.6.0"
  }
 },
 "nbformat": 4,
 "nbformat_minor": 5
}
