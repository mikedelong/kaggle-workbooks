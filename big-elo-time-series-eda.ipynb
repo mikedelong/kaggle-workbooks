{
 "cells": [
  {
   "cell_type": "code",
   "execution_count": 1,
   "id": "d7254a03",
   "metadata": {
    "_cell_guid": "b1076dfc-b9ad-4769-8c92-a6c4dae69d19",
    "_uuid": "8f2839f25d086af736a60e9eeb907d3b93b6e0e5",
    "execution": {
     "iopub.execute_input": "2025-02-14T20:47:53.096121Z",
     "iopub.status.busy": "2025-02-14T20:47:53.095638Z",
     "iopub.status.idle": "2025-02-14T20:47:54.726682Z",
     "shell.execute_reply": "2025-02-14T20:47:54.725397Z"
    },
    "papermill": {
     "duration": 1.639511,
     "end_time": "2025-02-14T20:47:54.728691",
     "exception": false,
     "start_time": "2025-02-14T20:47:53.089180",
     "status": "completed"
    },
    "tags": []
   },
   "outputs": [
    {
     "data": {
      "text/plain": [
       "(66118, 24)"
      ]
     },
     "execution_count": 1,
     "metadata": {},
     "output_type": "execute_result"
    }
   ],
   "source": [
    "import pandas as pd\n",
    "\n",
    "DATA = '/kaggle/input/puck-elo-archive-1917now/NHL_ELO_Odyssey.csv'\n",
    "df = pd.read_csv(filepath_or_buffer=DATA, parse_dates=['date'])\n",
    "df.shape"
   ]
  },
  {
   "cell_type": "code",
   "execution_count": 2,
   "id": "a7f9a04f",
   "metadata": {
    "execution": {
     "iopub.execute_input": "2025-02-14T20:47:54.738906Z",
     "iopub.status.busy": "2025-02-14T20:47:54.738529Z",
     "iopub.status.idle": "2025-02-14T20:47:54.744814Z",
     "shell.execute_reply": "2025-02-14T20:47:54.743782Z"
    },
    "papermill": {
     "duration": 0.013446,
     "end_time": "2025-02-14T20:47:54.746728",
     "exception": false,
     "start_time": "2025-02-14T20:47:54.733282",
     "status": "completed"
    },
    "tags": []
   },
   "outputs": [
    {
     "data": {
      "text/plain": [
       "Index(['season', 'date', 'playoff', 'neutral', 'status', 'ot', 'home_team',\n",
       "       'away_team', 'home_team_abbr', 'away_team_abbr',\n",
       "       'home_team_pregame_rating', 'away_team_pregame_rating',\n",
       "       'home_team_winprob', 'away_team_winprob', 'overtime_prob',\n",
       "       'home_team_expected_points', 'away_team_expected_points',\n",
       "       'home_team_score', 'away_team_score', 'home_team_postgame_rating',\n",
       "       'away_team_postgame_rating', 'game_quality_rating',\n",
       "       'game_importance_rating', 'game_overall_rating'],\n",
       "      dtype='object')"
      ]
     },
     "execution_count": 2,
     "metadata": {},
     "output_type": "execute_result"
    }
   ],
   "source": [
    "df.columns"
   ]
  },
  {
   "cell_type": "markdown",
   "id": "f97de56f",
   "metadata": {
    "papermill": {
     "duration": 0.004117,
     "end_time": "2025-02-14T20:47:54.755282",
     "exception": false,
     "start_time": "2025-02-14T20:47:54.751165",
     "status": "completed"
    },
    "tags": []
   },
   "source": [
    "We want to be able to plot the ELO scores for different teams over time, so let's get the team/ELO data together into a single DataFrame."
   ]
  },
  {
   "cell_type": "code",
   "execution_count": 3,
   "id": "d3f0bb72",
   "metadata": {
    "execution": {
     "iopub.execute_input": "2025-02-14T20:47:54.765650Z",
     "iopub.status.busy": "2025-02-14T20:47:54.765241Z",
     "iopub.status.idle": "2025-02-14T20:47:54.809227Z",
     "shell.execute_reply": "2025-02-14T20:47:54.807973Z"
    },
    "papermill": {
     "duration": 0.051511,
     "end_time": "2025-02-14T20:47:54.811324",
     "exception": false,
     "start_time": "2025-02-14T20:47:54.759813",
     "status": "completed"
    },
    "tags": []
   },
   "outputs": [],
   "source": [
    "home_df = df[['season', 'date', 'home_team', 'home_team_postgame_rating']].rename(columns={'home_team': 'team', 'home_team_postgame_rating': 'rating'})\n",
    "away_df = df[['season', 'date', 'away_team', 'away_team_postgame_rating']].rename(columns={'away_team': 'team', 'away_team_postgame_rating': 'rating'})\n",
    "elo_df = pd.concat(axis='index', objs=[home_df, away_df]).sort_values(by=['date'])"
   ]
  },
  {
   "cell_type": "markdown",
   "id": "85146d48",
   "metadata": {
    "papermill": {
     "duration": 0.004034,
     "end_time": "2025-02-14T20:47:54.819687",
     "exception": false,
     "start_time": "2025-02-14T20:47:54.815653",
     "status": "completed"
    },
    "tags": []
   },
   "source": [
    "How many teams do we have in this dataset, and how many games did each team play?"
   ]
  },
  {
   "cell_type": "code",
   "execution_count": 4,
   "id": "fd62e81f",
   "metadata": {
    "execution": {
     "iopub.execute_input": "2025-02-14T20:47:54.829828Z",
     "iopub.status.busy": "2025-02-14T20:47:54.829479Z",
     "iopub.status.idle": "2025-02-14T20:47:58.185937Z",
     "shell.execute_reply": "2025-02-14T20:47:58.184580Z"
    },
    "papermill": {
     "duration": 3.364215,
     "end_time": "2025-02-14T20:47:58.188348",
     "exception": false,
     "start_time": "2025-02-14T20:47:54.824133",
     "status": "completed"
    },
    "tags": []
   },
   "outputs": [
    {
     "data": {
      "text/html": [
       "        <script type=\"text/javascript\">\n",
       "        window.PlotlyConfig = {MathJaxConfig: 'local'};\n",
       "        if (window.MathJax && window.MathJax.Hub && window.MathJax.Hub.Config) {window.MathJax.Hub.Config({SVG: {font: \"STIX-Web\"}});}\n",
       "        if (typeof require !== 'undefined') {\n",
       "        require.undef(\"plotly\");\n",
       "        requirejs.config({\n",
       "            paths: {\n",
       "                'plotly': ['https://cdn.plot.ly/plotly-2.35.2.min']\n",
       "            }\n",
       "        });\n",
       "        require(['plotly'], function(Plotly) {\n",
       "            window._Plotly = Plotly;\n",
       "        });\n",
       "        }\n",
       "        </script>\n",
       "        "
      ]
     },
     "metadata": {},
     "output_type": "display_data"
    },
    {
     "data": {
      "text/html": [
       "<iframe\n",
       "    scrolling=\"no\"\n",
       "    width=\"100%\"\n",
       "    height=\"545px\"\n",
       "    src=\"iframe_figures/figure_4.html\"\n",
       "    frameborder=\"0\"\n",
       "    allowfullscreen\n",
       "></iframe>\n"
      ]
     },
     "metadata": {},
     "output_type": "display_data"
    }
   ],
   "source": [
    "from plotly import express\n",
    "from plotly.offline import init_notebook_mode\n",
    "\n",
    "init_notebook_mode(connected=True)\n",
    "\n",
    "express.bar(data_frame=elo_df['team'].value_counts().to_frame().reset_index(), x='team', y='count').show(renderer='iframe_connected', )\n"
   ]
  },
  {
   "cell_type": "markdown",
   "id": "dac3274c",
   "metadata": {
    "papermill": {
     "duration": 0.004402,
     "end_time": "2025-02-14T20:47:58.197617",
     "exception": false,
     "start_time": "2025-02-14T20:47:58.193215",
     "status": "completed"
    },
    "tags": []
   },
   "source": [
    "We have a lot of variance in the number of games each team has played. Let's try plotting and see how our plot looks."
   ]
  },
  {
   "cell_type": "markdown",
   "id": "f3c1a251",
   "metadata": {
    "papermill": {
     "duration": 0.00408,
     "end_time": "2025-02-14T20:47:58.206248",
     "exception": false,
     "start_time": "2025-02-14T20:47:58.202168",
     "status": "completed"
    },
    "tags": []
   },
   "source": [
    "We have a couple of problems we need to solve: one is that we have forty teams, so we need a color palette with forty colors if we don't want to reuse colors. Another is that we have at least one team that ceased operations and was later replaced by a team with the same name, but it doesn't make sense to have a line on our plot suggesting continuity between the two teams. So let's start with a scatter plot."
   ]
  },
  {
   "cell_type": "code",
   "execution_count": 5,
   "id": "98f9c051",
   "metadata": {
    "execution": {
     "iopub.execute_input": "2025-02-14T20:47:58.216788Z",
     "iopub.status.busy": "2025-02-14T20:47:58.216272Z",
     "iopub.status.idle": "2025-02-14T20:47:59.875576Z",
     "shell.execute_reply": "2025-02-14T20:47:59.874050Z"
    },
    "papermill": {
     "duration": 1.667132,
     "end_time": "2025-02-14T20:47:59.877770",
     "exception": false,
     "start_time": "2025-02-14T20:47:58.210638",
     "status": "completed"
    },
    "tags": []
   },
   "outputs": [
    {
     "data": {
      "text/html": [
       "<iframe\n",
       "    scrolling=\"no\"\n",
       "    width=\"100%\"\n",
       "    height=\"920\"\n",
       "    src=\"iframe_figures/figure_5.html\"\n",
       "    frameborder=\"0\"\n",
       "    allowfullscreen\n",
       "></iframe>\n"
      ]
     },
     "metadata": {},
     "output_type": "display_data"
    }
   ],
   "source": [
    "from plotly import colors\n",
    "\n",
    "express.scatter(data_frame=elo_df, x='date', y='rating', color='team', height=900, color_discrete_sequence = colors.sample_colorscale(\"HSV\", 40)).show(renderer='iframe_connected', )\n"
   ]
  },
  {
   "cell_type": "markdown",
   "id": "66d22bc1",
   "metadata": {
    "papermill": {
     "duration": 0.00439,
     "end_time": "2025-02-14T20:47:59.886906",
     "exception": false,
     "start_time": "2025-02-14T20:47:59.882516",
     "status": "completed"
    },
    "tags": []
   },
   "source": [
    "What do we see? Well, we solved our Ottawa Senators problem, and by using a cyclical palette we get red colors for both very old teams and very young ones, which maybe is preferable to having older teams with very similar colors."
   ]
  },
  {
   "cell_type": "markdown",
   "id": "d5bebb88",
   "metadata": {
    "papermill": {
     "duration": 0.004169,
     "end_time": "2025-02-14T20:47:59.895614",
     "exception": false,
     "start_time": "2025-02-14T20:47:59.891445",
     "status": "completed"
    },
    "tags": []
   },
   "source": [
    "Also we see that our data suggests that the 1977-78 Montreal Canadiens were the very best team of all time, and the 1975 Washington Capitals were the worst."
   ]
  },
  {
   "cell_type": "markdown",
   "id": "da9e7bfa",
   "metadata": {
    "papermill": {
     "duration": 0.004078,
     "end_time": "2025-02-14T20:47:59.903990",
     "exception": false,
     "start_time": "2025-02-14T20:47:59.899912",
     "status": "completed"
    },
    "tags": []
   },
   "source": [
    "Can our data tell us the highest ELO for each team?"
   ]
  },
  {
   "cell_type": "code",
   "execution_count": 6,
   "id": "6217af0f",
   "metadata": {
    "execution": {
     "iopub.execute_input": "2025-02-14T20:47:59.914659Z",
     "iopub.status.busy": "2025-02-14T20:47:59.914222Z",
     "iopub.status.idle": "2025-02-14T20:47:59.967118Z",
     "shell.execute_reply": "2025-02-14T20:47:59.965632Z"
    },
    "papermill": {
     "duration": 0.061,
     "end_time": "2025-02-14T20:47:59.969398",
     "exception": false,
     "start_time": "2025-02-14T20:47:59.908398",
     "status": "completed"
    },
    "tags": []
   },
   "outputs": [
    {
     "data": {
      "text/html": [
       "<div>\n",
       "<style scoped>\n",
       "    .dataframe tbody tr th:only-of-type {\n",
       "        vertical-align: middle;\n",
       "    }\n",
       "\n",
       "    .dataframe tbody tr th {\n",
       "        vertical-align: top;\n",
       "    }\n",
       "\n",
       "    .dataframe thead th {\n",
       "        text-align: right;\n",
       "    }\n",
       "</style>\n",
       "<table border=\"1\" class=\"dataframe\">\n",
       "  <thead>\n",
       "    <tr style=\"text-align: right;\">\n",
       "      <th></th>\n",
       "      <th>team</th>\n",
       "      <th>rating</th>\n",
       "    </tr>\n",
       "  </thead>\n",
       "  <tbody>\n",
       "    <tr>\n",
       "      <th>15</th>\n",
       "      <td>Montreal Canadiens</td>\n",
       "      <td>1715.979078</td>\n",
       "    </tr>\n",
       "    <tr>\n",
       "      <th>10</th>\n",
       "      <td>Detroit Red Wings</td>\n",
       "      <td>1661.199234</td>\n",
       "    </tr>\n",
       "    <tr>\n",
       "      <th>2</th>\n",
       "      <td>Boston Bruins</td>\n",
       "      <td>1659.146958</td>\n",
       "    </tr>\n",
       "    <tr>\n",
       "      <th>21</th>\n",
       "      <td>New York Islanders</td>\n",
       "      <td>1656.094704</td>\n",
       "    </tr>\n",
       "    <tr>\n",
       "      <th>4</th>\n",
       "      <td>Calgary Flames</td>\n",
       "      <td>1647.983237</td>\n",
       "    </tr>\n",
       "    <tr>\n",
       "      <th>11</th>\n",
       "      <td>Edmonton Oilers</td>\n",
       "      <td>1644.384855</td>\n",
       "    </tr>\n",
       "    <tr>\n",
       "      <th>25</th>\n",
       "      <td>Philadelphia Flyers</td>\n",
       "      <td>1638.661924</td>\n",
       "    </tr>\n",
       "    <tr>\n",
       "      <th>7</th>\n",
       "      <td>Colorado Avalanche</td>\n",
       "      <td>1633.950631</td>\n",
       "    </tr>\n",
       "    <tr>\n",
       "      <th>34</th>\n",
       "      <td>Tampa Bay Lightning</td>\n",
       "      <td>1629.655342</td>\n",
       "    </tr>\n",
       "    <tr>\n",
       "      <th>27</th>\n",
       "      <td>Pittsburgh Penguins</td>\n",
       "      <td>1621.853006</td>\n",
       "    </tr>\n",
       "  </tbody>\n",
       "</table>\n",
       "</div>"
      ],
      "text/plain": [
       "                   team       rating\n",
       "15   Montreal Canadiens  1715.979078\n",
       "10    Detroit Red Wings  1661.199234\n",
       "2         Boston Bruins  1659.146958\n",
       "21   New York Islanders  1656.094704\n",
       "4        Calgary Flames  1647.983237\n",
       "11      Edmonton Oilers  1644.384855\n",
       "25  Philadelphia Flyers  1638.661924\n",
       "7    Colorado Avalanche  1633.950631\n",
       "34  Tampa Bay Lightning  1629.655342\n",
       "27  Pittsburgh Penguins  1621.853006"
      ]
     },
     "execution_count": 6,
     "metadata": {},
     "output_type": "execute_result"
    }
   ],
   "source": [
    "elo_df[['team', 'rating']].groupby(by='team').max().reset_index().sort_values(ascending=False, by='rating').head(n=10)"
   ]
  },
  {
   "cell_type": "markdown",
   "id": "c7c0eb91",
   "metadata": {
    "papermill": {
     "duration": 0.004783,
     "end_time": "2025-02-14T20:47:59.979752",
     "exception": false,
     "start_time": "2025-02-14T20:47:59.974969",
     "status": "completed"
    },
    "tags": []
   },
   "source": [
    "This gives us a sense of which teams have been the most dominant when they were at their best. We can do a similar analysis to see which teams have been the best on average over time."
   ]
  },
  {
   "cell_type": "code",
   "execution_count": 7,
   "id": "79def485",
   "metadata": {
    "execution": {
     "iopub.execute_input": "2025-02-14T20:47:59.991687Z",
     "iopub.status.busy": "2025-02-14T20:47:59.991278Z",
     "iopub.status.idle": "2025-02-14T20:48:00.024616Z",
     "shell.execute_reply": "2025-02-14T20:48:00.023200Z"
    },
    "papermill": {
     "duration": 0.041772,
     "end_time": "2025-02-14T20:48:00.026824",
     "exception": false,
     "start_time": "2025-02-14T20:47:59.985052",
     "status": "completed"
    },
    "tags": []
   },
   "outputs": [
    {
     "data": {
      "text/html": [
       "<div>\n",
       "<style scoped>\n",
       "    .dataframe tbody tr th:only-of-type {\n",
       "        vertical-align: middle;\n",
       "    }\n",
       "\n",
       "    .dataframe tbody tr th {\n",
       "        vertical-align: top;\n",
       "    }\n",
       "\n",
       "    .dataframe thead th {\n",
       "        text-align: right;\n",
       "    }\n",
       "</style>\n",
       "<table border=\"1\" class=\"dataframe\">\n",
       "  <thead>\n",
       "    <tr style=\"text-align: right;\">\n",
       "      <th></th>\n",
       "      <th>team</th>\n",
       "      <th>rating</th>\n",
       "    </tr>\n",
       "  </thead>\n",
       "  <tbody>\n",
       "    <tr>\n",
       "      <th>37</th>\n",
       "      <td>Vegas Golden Knights</td>\n",
       "      <td>1543.359173</td>\n",
       "    </tr>\n",
       "    <tr>\n",
       "      <th>15</th>\n",
       "      <td>Montreal Canadiens</td>\n",
       "      <td>1538.329685</td>\n",
       "    </tr>\n",
       "    <tr>\n",
       "      <th>2</th>\n",
       "      <td>Boston Bruins</td>\n",
       "      <td>1527.531767</td>\n",
       "    </tr>\n",
       "    <tr>\n",
       "      <th>25</th>\n",
       "      <td>Philadelphia Flyers</td>\n",
       "      <td>1523.310394</td>\n",
       "    </tr>\n",
       "    <tr>\n",
       "      <th>7</th>\n",
       "      <td>Colorado Avalanche</td>\n",
       "      <td>1511.936955</td>\n",
       "    </tr>\n",
       "    <tr>\n",
       "      <th>10</th>\n",
       "      <td>Detroit Red Wings</td>\n",
       "      <td>1509.882833</td>\n",
       "    </tr>\n",
       "    <tr>\n",
       "      <th>4</th>\n",
       "      <td>Calgary Flames</td>\n",
       "      <td>1507.876158</td>\n",
       "    </tr>\n",
       "    <tr>\n",
       "      <th>3</th>\n",
       "      <td>Buffalo Sabres</td>\n",
       "      <td>1506.104804</td>\n",
       "    </tr>\n",
       "    <tr>\n",
       "      <th>11</th>\n",
       "      <td>Edmonton Oilers</td>\n",
       "      <td>1505.590172</td>\n",
       "    </tr>\n",
       "    <tr>\n",
       "      <th>22</th>\n",
       "      <td>New York Rangers</td>\n",
       "      <td>1505.506706</td>\n",
       "    </tr>\n",
       "  </tbody>\n",
       "</table>\n",
       "</div>"
      ],
      "text/plain": [
       "                    team       rating\n",
       "37  Vegas Golden Knights  1543.359173\n",
       "15    Montreal Canadiens  1538.329685\n",
       "2          Boston Bruins  1527.531767\n",
       "25   Philadelphia Flyers  1523.310394\n",
       "7     Colorado Avalanche  1511.936955\n",
       "10     Detroit Red Wings  1509.882833\n",
       "4         Calgary Flames  1507.876158\n",
       "3         Buffalo Sabres  1506.104804\n",
       "11       Edmonton Oilers  1505.590172\n",
       "22      New York Rangers  1505.506706"
      ]
     },
     "execution_count": 7,
     "metadata": {},
     "output_type": "execute_result"
    }
   ],
   "source": [
    "elo_df[['team', 'rating']].groupby(by='team').mean().reset_index().sort_values(ascending=False, by='rating').head(n=10)"
   ]
  },
  {
   "cell_type": "markdown",
   "id": "8b589a33",
   "metadata": {
    "papermill": {
     "duration": 0.004804,
     "end_time": "2025-02-14T20:48:00.036871",
     "exception": false,
     "start_time": "2025-02-14T20:48:00.032067",
     "status": "completed"
    },
    "tags": []
   },
   "source": [
    "The two teams share a lot of teams. That's probably not surprising."
   ]
  },
  {
   "cell_type": "markdown",
   "id": "f48282d4",
   "metadata": {
    "papermill": {
     "duration": 0.0047,
     "end_time": "2025-02-14T20:48:00.046584",
     "exception": false,
     "start_time": "2025-02-14T20:48:00.041884",
     "status": "completed"
    },
    "tags": []
   },
   "source": [
    "Let's just look at the last few years. We don't have the Ottawa Senators problem any more, so we can make a line plot. But the fact that our time series has the date as its X axis and the season doesn't run year round gives us an odd looking graph, because teams' ELO scores jump toward the mean during the offseason for reasons that aren't entirely clear. "
   ]
  },
  {
   "cell_type": "code",
   "execution_count": 8,
   "id": "f95f2485",
   "metadata": {
    "execution": {
     "iopub.execute_input": "2025-02-14T20:48:00.058356Z",
     "iopub.status.busy": "2025-02-14T20:48:00.057867Z",
     "iopub.status.idle": "2025-02-14T20:48:00.480716Z",
     "shell.execute_reply": "2025-02-14T20:48:00.479228Z"
    },
    "papermill": {
     "duration": 0.431348,
     "end_time": "2025-02-14T20:48:00.482859",
     "exception": false,
     "start_time": "2025-02-14T20:48:00.051511",
     "status": "completed"
    },
    "tags": []
   },
   "outputs": [
    {
     "data": {
      "text/html": [
       "<iframe\n",
       "    scrolling=\"no\"\n",
       "    width=\"100%\"\n",
       "    height=\"820\"\n",
       "    src=\"iframe_figures/figure_8.html\"\n",
       "    frameborder=\"0\"\n",
       "    allowfullscreen\n",
       "></iframe>\n"
      ]
     },
     "metadata": {},
     "output_type": "display_data"
    }
   ],
   "source": [
    "express.line(data_frame=elo_df[elo_df['season'] > 2015].sort_values(by=['date', 'team']).reset_index(), x='date', y='rating', color='team', height=800, color_discrete_sequence = colors.sample_colorscale(\"HSV\", 32)).show(renderer='iframe_connected', )\n"
   ]
  },
  {
   "cell_type": "markdown",
   "id": "75d786ff",
   "metadata": {
    "papermill": {
     "duration": 0.005417,
     "end_time": "2025-02-14T20:48:00.493528",
     "exception": false,
     "start_time": "2025-02-14T20:48:00.488111",
     "status": "completed"
    },
    "tags": []
   },
   "source": [
    "Maybe ELO scores make more sense within a season than they do across seasons. "
   ]
  },
  {
   "cell_type": "code",
   "execution_count": 9,
   "id": "ea862cae",
   "metadata": {
    "execution": {
     "iopub.execute_input": "2025-02-14T20:48:00.505669Z",
     "iopub.status.busy": "2025-02-14T20:48:00.505225Z",
     "iopub.status.idle": "2025-02-14T20:48:00.851568Z",
     "shell.execute_reply": "2025-02-14T20:48:00.850239Z"
    },
    "papermill": {
     "duration": 0.354879,
     "end_time": "2025-02-14T20:48:00.853703",
     "exception": false,
     "start_time": "2025-02-14T20:48:00.498824",
     "status": "completed"
    },
    "tags": []
   },
   "outputs": [
    {
     "data": {
      "text/html": [
       "<iframe\n",
       "    scrolling=\"no\"\n",
       "    width=\"100%\"\n",
       "    height=\"820\"\n",
       "    src=\"iframe_figures/figure_9.html\"\n",
       "    frameborder=\"0\"\n",
       "    allowfullscreen\n",
       "></iframe>\n"
      ]
     },
     "metadata": {},
     "output_type": "display_data"
    }
   ],
   "source": [
    "express.scatter(data_frame=elo_df[elo_df['season'] == 2023].sort_values(by=['date', 'team']).reset_index(), x='date', y='rating', color='team', height=800, color_discrete_sequence = colors.sample_colorscale(\"HSV\", 32)).show(renderer='iframe_connected', )\n"
   ]
  },
  {
   "cell_type": "markdown",
   "id": "bf53efd6",
   "metadata": {
    "papermill": {
     "duration": 0.005138,
     "end_time": "2025-02-14T20:48:00.864845",
     "exception": false,
     "start_time": "2025-02-14T20:48:00.859707",
     "status": "completed"
    },
    "tags": []
   },
   "source": [
    "What do we see? First of all we see that the 2023 season starts in 2022. Second, we can clearly see the impact of a couple of early games between the Sharks and the Predators and the post-season, which goes on for two solid months. Finally, we see that the highest ELO teams don't always win titles, as the Bruins exit in an early round of the playoffs, but the Golden Knights, which start the year in the middle of the ELO pack end up winning the Stanley Cup. Go figure."
   ]
  }
 ],
 "metadata": {
  "kaggle": {
   "accelerator": "none",
   "dataSources": [
    {
     "datasetId": 6660083,
     "sourceId": 10740361,
     "sourceType": "datasetVersion"
    }
   ],
   "dockerImageVersionId": 30886,
   "isGpuEnabled": false,
   "isInternetEnabled": true,
   "language": "python",
   "sourceType": "notebook"
  },
  "kernelspec": {
   "display_name": "Python 3",
   "language": "python",
   "name": "python3"
  },
  "language_info": {
   "codemirror_mode": {
    "name": "ipython",
    "version": 3
   },
   "file_extension": ".py",
   "mimetype": "text/x-python",
   "name": "python",
   "nbconvert_exporter": "python",
   "pygments_lexer": "ipython3",
   "version": "3.10.12"
  },
  "papermill": {
   "default_parameters": {},
   "duration": 11.638736,
   "end_time": "2025-02-14T20:48:01.693733",
   "environment_variables": {},
   "exception": null,
   "input_path": "__notebook__.ipynb",
   "output_path": "__notebook__.ipynb",
   "parameters": {},
   "start_time": "2025-02-14T20:47:50.054997",
   "version": "2.6.0"
  }
 },
 "nbformat": 4,
 "nbformat_minor": 5
}
