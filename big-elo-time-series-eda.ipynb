{
 "cells": [
  {
   "cell_type": "code",
   "execution_count": 1,
   "id": "a7d5a33c",
   "metadata": {
    "_cell_guid": "b1076dfc-b9ad-4769-8c92-a6c4dae69d19",
    "_uuid": "8f2839f25d086af736a60e9eeb907d3b93b6e0e5",
    "execution": {
     "iopub.execute_input": "2025-02-14T20:44:39.591254Z",
     "iopub.status.busy": "2025-02-14T20:44:39.590890Z",
     "iopub.status.idle": "2025-02-14T20:44:41.081466Z",
     "shell.execute_reply": "2025-02-14T20:44:41.080421Z"
    },
    "papermill": {
     "duration": 1.498309,
     "end_time": "2025-02-14T20:44:41.083263",
     "exception": false,
     "start_time": "2025-02-14T20:44:39.584954",
     "status": "completed"
    },
    "tags": []
   },
   "outputs": [
    {
     "data": {
      "text/plain": [
       "(66118, 24)"
      ]
     },
     "execution_count": 1,
     "metadata": {},
     "output_type": "execute_result"
    }
   ],
   "source": [
    "import pandas as pd\n",
    "\n",
    "DATA = '/kaggle/input/puck-elo-archive-1917now/NHL_ELO_Odyssey.csv'\n",
    "df = pd.read_csv(filepath_or_buffer=DATA, parse_dates=['date'])\n",
    "df.shape"
   ]
  },
  {
   "cell_type": "code",
   "execution_count": 2,
   "id": "ae725ddb",
   "metadata": {
    "execution": {
     "iopub.execute_input": "2025-02-14T20:44:41.093647Z",
     "iopub.status.busy": "2025-02-14T20:44:41.093213Z",
     "iopub.status.idle": "2025-02-14T20:44:41.099676Z",
     "shell.execute_reply": "2025-02-14T20:44:41.098604Z"
    },
    "papermill": {
     "duration": 0.013315,
     "end_time": "2025-02-14T20:44:41.101359",
     "exception": false,
     "start_time": "2025-02-14T20:44:41.088044",
     "status": "completed"
    },
    "tags": []
   },
   "outputs": [
    {
     "data": {
      "text/plain": [
       "Index(['season', 'date', 'playoff', 'neutral', 'status', 'ot', 'home_team',\n",
       "       'away_team', 'home_team_abbr', 'away_team_abbr',\n",
       "       'home_team_pregame_rating', 'away_team_pregame_rating',\n",
       "       'home_team_winprob', 'away_team_winprob', 'overtime_prob',\n",
       "       'home_team_expected_points', 'away_team_expected_points',\n",
       "       'home_team_score', 'away_team_score', 'home_team_postgame_rating',\n",
       "       'away_team_postgame_rating', 'game_quality_rating',\n",
       "       'game_importance_rating', 'game_overall_rating'],\n",
       "      dtype='object')"
      ]
     },
     "execution_count": 2,
     "metadata": {},
     "output_type": "execute_result"
    }
   ],
   "source": [
    "df.columns"
   ]
  },
  {
   "cell_type": "markdown",
   "id": "779ad782",
   "metadata": {
    "papermill": {
     "duration": 0.004132,
     "end_time": "2025-02-14T20:44:41.110119",
     "exception": false,
     "start_time": "2025-02-14T20:44:41.105987",
     "status": "completed"
    },
    "tags": []
   },
   "source": [
    "We want to be able to plot the ELO scores for different teams over time, so let's get the team/ELO data together into a single DataFrame."
   ]
  },
  {
   "cell_type": "code",
   "execution_count": 3,
   "id": "c5355031",
   "metadata": {
    "execution": {
     "iopub.execute_input": "2025-02-14T20:44:41.120034Z",
     "iopub.status.busy": "2025-02-14T20:44:41.119709Z",
     "iopub.status.idle": "2025-02-14T20:44:41.157056Z",
     "shell.execute_reply": "2025-02-14T20:44:41.156166Z"
    },
    "papermill": {
     "duration": 0.044521,
     "end_time": "2025-02-14T20:44:41.159005",
     "exception": false,
     "start_time": "2025-02-14T20:44:41.114484",
     "status": "completed"
    },
    "tags": []
   },
   "outputs": [],
   "source": [
    "home_df = df[['season', 'date', 'home_team', 'home_team_postgame_rating']].rename(columns={'home_team': 'team', 'home_team_postgame_rating': 'rating'})\n",
    "away_df = df[['season', 'date', 'away_team', 'away_team_postgame_rating']].rename(columns={'away_team': 'team', 'away_team_postgame_rating': 'rating'})\n",
    "elo_df = pd.concat(axis='index', objs=[home_df, away_df]).sort_values(by=['date'])"
   ]
  },
  {
   "cell_type": "markdown",
   "id": "bf1d3205",
   "metadata": {
    "papermill": {
     "duration": 0.003997,
     "end_time": "2025-02-14T20:44:41.167482",
     "exception": false,
     "start_time": "2025-02-14T20:44:41.163485",
     "status": "completed"
    },
    "tags": []
   },
   "source": [
    "How many teams do we have in this dataset, and how many games did each team play?"
   ]
  },
  {
   "cell_type": "code",
   "execution_count": 4,
   "id": "08e0851a",
   "metadata": {
    "execution": {
     "iopub.execute_input": "2025-02-14T20:44:41.177384Z",
     "iopub.status.busy": "2025-02-14T20:44:41.176947Z",
     "iopub.status.idle": "2025-02-14T20:44:44.198354Z",
     "shell.execute_reply": "2025-02-14T20:44:44.197124Z"
    },
    "papermill": {
     "duration": 3.028492,
     "end_time": "2025-02-14T20:44:44.200316",
     "exception": false,
     "start_time": "2025-02-14T20:44:41.171824",
     "status": "completed"
    },
    "tags": []
   },
   "outputs": [
    {
     "data": {
      "text/html": [
       "        <script type=\"text/javascript\">\n",
       "        window.PlotlyConfig = {MathJaxConfig: 'local'};\n",
       "        if (window.MathJax && window.MathJax.Hub && window.MathJax.Hub.Config) {window.MathJax.Hub.Config({SVG: {font: \"STIX-Web\"}});}\n",
       "        if (typeof require !== 'undefined') {\n",
       "        require.undef(\"plotly\");\n",
       "        requirejs.config({\n",
       "            paths: {\n",
       "                'plotly': ['https://cdn.plot.ly/plotly-2.35.2.min']\n",
       "            }\n",
       "        });\n",
       "        require(['plotly'], function(Plotly) {\n",
       "            window._Plotly = Plotly;\n",
       "        });\n",
       "        }\n",
       "        </script>\n",
       "        "
      ]
     },
     "metadata": {},
     "output_type": "display_data"
    },
    {
     "data": {
      "text/html": [
       "<iframe\n",
       "    scrolling=\"no\"\n",
       "    width=\"100%\"\n",
       "    height=\"545px\"\n",
       "    src=\"iframe_figures/figure_4.html\"\n",
       "    frameborder=\"0\"\n",
       "    allowfullscreen\n",
       "></iframe>\n"
      ]
     },
     "metadata": {},
     "output_type": "display_data"
    }
   ],
   "source": [
    "from plotly import express\n",
    "from plotly.offline import init_notebook_mode\n",
    "\n",
    "init_notebook_mode(connected=True)\n",
    "\n",
    "express.bar(data_frame=elo_df['team'].value_counts().to_frame().reset_index(), x='team', y='count').show(renderer='iframe_connected', )\n"
   ]
  },
  {
   "cell_type": "markdown",
   "id": "a99960e6",
   "metadata": {
    "papermill": {
     "duration": 0.004321,
     "end_time": "2025-02-14T20:44:44.209392",
     "exception": false,
     "start_time": "2025-02-14T20:44:44.205071",
     "status": "completed"
    },
    "tags": []
   },
   "source": [
    "We have a lot of variance in the number of games each team has played. Let's try plotting and see how our plot looks."
   ]
  },
  {
   "cell_type": "markdown",
   "id": "403e0189",
   "metadata": {
    "papermill": {
     "duration": 0.004188,
     "end_time": "2025-02-14T20:44:44.218038",
     "exception": false,
     "start_time": "2025-02-14T20:44:44.213850",
     "status": "completed"
    },
    "tags": []
   },
   "source": [
    "We have a couple of problems we need to solve: one is that we have forty teams, so we need a color palette with forty colors if we don't want to reuse colors. Another is that we have at least one team that ceased operations and was later replaced by a team with the same name, but it doesn't make sense to have a line on our plot suggesting continuity between the two teams. So let's start with a scatter plot."
   ]
  },
  {
   "cell_type": "code",
   "execution_count": 5,
   "id": "4a3395db",
   "metadata": {
    "execution": {
     "iopub.execute_input": "2025-02-14T20:44:44.228371Z",
     "iopub.status.busy": "2025-02-14T20:44:44.227967Z",
     "iopub.status.idle": "2025-02-14T20:44:45.936530Z",
     "shell.execute_reply": "2025-02-14T20:44:45.935602Z"
    },
    "papermill": {
     "duration": 1.715453,
     "end_time": "2025-02-14T20:44:45.938028",
     "exception": false,
     "start_time": "2025-02-14T20:44:44.222575",
     "status": "completed"
    },
    "tags": []
   },
   "outputs": [
    {
     "data": {
      "text/html": [
       "<iframe\n",
       "    scrolling=\"no\"\n",
       "    width=\"100%\"\n",
       "    height=\"920\"\n",
       "    src=\"iframe_figures/figure_5.html\"\n",
       "    frameborder=\"0\"\n",
       "    allowfullscreen\n",
       "></iframe>\n"
      ]
     },
     "metadata": {},
     "output_type": "display_data"
    }
   ],
   "source": [
    "from plotly import colors\n",
    "\n",
    "express.scatter(data_frame=elo_df, x='date', y='rating', color='team', height=900, color_discrete_sequence = colors.sample_colorscale(\"HSV\", 40)).show(renderer='iframe_connected', )\n"
   ]
  },
  {
   "cell_type": "markdown",
   "id": "ee2fe86e",
   "metadata": {
    "papermill": {
     "duration": 0.004315,
     "end_time": "2025-02-14T20:44:45.947106",
     "exception": false,
     "start_time": "2025-02-14T20:44:45.942791",
     "status": "completed"
    },
    "tags": []
   },
   "source": [
    "What do we see? Well, we solved our Ottawa Senators problem, and by using a cyclical palette we get red colors for both very old teams and very young ones, which maybe is preferable to having older teams with very similar colors."
   ]
  },
  {
   "cell_type": "markdown",
   "id": "23376970",
   "metadata": {
    "papermill": {
     "duration": 0.004167,
     "end_time": "2025-02-14T20:44:45.955743",
     "exception": false,
     "start_time": "2025-02-14T20:44:45.951576",
     "status": "completed"
    },
    "tags": []
   },
   "source": [
    "Also we see that our data suggests that the 1977-78 Montreal Canadiens were the very best team of all time, and the 1975 Washington Capitals were the worst."
   ]
  },
  {
   "cell_type": "markdown",
   "id": "96744ca0",
   "metadata": {
    "papermill": {
     "duration": 0.004316,
     "end_time": "2025-02-14T20:44:45.964433",
     "exception": false,
     "start_time": "2025-02-14T20:44:45.960117",
     "status": "completed"
    },
    "tags": []
   },
   "source": [
    "Can our data tell us the highest ELO for each team?"
   ]
  },
  {
   "cell_type": "code",
   "execution_count": 6,
   "id": "38f84316",
   "metadata": {
    "execution": {
     "iopub.execute_input": "2025-02-14T20:44:45.974777Z",
     "iopub.status.busy": "2025-02-14T20:44:45.974434Z",
     "iopub.status.idle": "2025-02-14T20:44:46.019741Z",
     "shell.execute_reply": "2025-02-14T20:44:46.018647Z"
    },
    "papermill": {
     "duration": 0.052585,
     "end_time": "2025-02-14T20:44:46.021559",
     "exception": false,
     "start_time": "2025-02-14T20:44:45.968974",
     "status": "completed"
    },
    "tags": []
   },
   "outputs": [
    {
     "data": {
      "text/html": [
       "<div>\n",
       "<style scoped>\n",
       "    .dataframe tbody tr th:only-of-type {\n",
       "        vertical-align: middle;\n",
       "    }\n",
       "\n",
       "    .dataframe tbody tr th {\n",
       "        vertical-align: top;\n",
       "    }\n",
       "\n",
       "    .dataframe thead th {\n",
       "        text-align: right;\n",
       "    }\n",
       "</style>\n",
       "<table border=\"1\" class=\"dataframe\">\n",
       "  <thead>\n",
       "    <tr style=\"text-align: right;\">\n",
       "      <th></th>\n",
       "      <th>team</th>\n",
       "      <th>rating</th>\n",
       "    </tr>\n",
       "  </thead>\n",
       "  <tbody>\n",
       "    <tr>\n",
       "      <th>15</th>\n",
       "      <td>Montreal Canadiens</td>\n",
       "      <td>1715.979078</td>\n",
       "    </tr>\n",
       "    <tr>\n",
       "      <th>10</th>\n",
       "      <td>Detroit Red Wings</td>\n",
       "      <td>1661.199234</td>\n",
       "    </tr>\n",
       "    <tr>\n",
       "      <th>2</th>\n",
       "      <td>Boston Bruins</td>\n",
       "      <td>1659.146958</td>\n",
       "    </tr>\n",
       "    <tr>\n",
       "      <th>21</th>\n",
       "      <td>New York Islanders</td>\n",
       "      <td>1656.094704</td>\n",
       "    </tr>\n",
       "    <tr>\n",
       "      <th>4</th>\n",
       "      <td>Calgary Flames</td>\n",
       "      <td>1647.983237</td>\n",
       "    </tr>\n",
       "    <tr>\n",
       "      <th>11</th>\n",
       "      <td>Edmonton Oilers</td>\n",
       "      <td>1644.384855</td>\n",
       "    </tr>\n",
       "    <tr>\n",
       "      <th>25</th>\n",
       "      <td>Philadelphia Flyers</td>\n",
       "      <td>1638.661924</td>\n",
       "    </tr>\n",
       "    <tr>\n",
       "      <th>7</th>\n",
       "      <td>Colorado Avalanche</td>\n",
       "      <td>1633.950631</td>\n",
       "    </tr>\n",
       "    <tr>\n",
       "      <th>34</th>\n",
       "      <td>Tampa Bay Lightning</td>\n",
       "      <td>1629.655342</td>\n",
       "    </tr>\n",
       "    <tr>\n",
       "      <th>27</th>\n",
       "      <td>Pittsburgh Penguins</td>\n",
       "      <td>1621.853006</td>\n",
       "    </tr>\n",
       "  </tbody>\n",
       "</table>\n",
       "</div>"
      ],
      "text/plain": [
       "                   team       rating\n",
       "15   Montreal Canadiens  1715.979078\n",
       "10    Detroit Red Wings  1661.199234\n",
       "2         Boston Bruins  1659.146958\n",
       "21   New York Islanders  1656.094704\n",
       "4        Calgary Flames  1647.983237\n",
       "11      Edmonton Oilers  1644.384855\n",
       "25  Philadelphia Flyers  1638.661924\n",
       "7    Colorado Avalanche  1633.950631\n",
       "34  Tampa Bay Lightning  1629.655342\n",
       "27  Pittsburgh Penguins  1621.853006"
      ]
     },
     "execution_count": 6,
     "metadata": {},
     "output_type": "execute_result"
    }
   ],
   "source": [
    "elo_df[['team', 'rating']].groupby(by='team').max().reset_index().sort_values(ascending=False, by='rating').head(n=10)"
   ]
  },
  {
   "cell_type": "markdown",
   "id": "579287e0",
   "metadata": {
    "papermill": {
     "duration": 0.004526,
     "end_time": "2025-02-14T20:44:46.031057",
     "exception": false,
     "start_time": "2025-02-14T20:44:46.026531",
     "status": "completed"
    },
    "tags": []
   },
   "source": [
    "This gives us a sense of which teams have been the most dominant when they were at their best. We can do a similar analysis to see which teams have been the best on average over time."
   ]
  },
  {
   "cell_type": "code",
   "execution_count": 7,
   "id": "620fd1dc",
   "metadata": {
    "execution": {
     "iopub.execute_input": "2025-02-14T20:44:46.042006Z",
     "iopub.status.busy": "2025-02-14T20:44:46.041662Z",
     "iopub.status.idle": "2025-02-14T20:44:46.068590Z",
     "shell.execute_reply": "2025-02-14T20:44:46.067564Z"
    },
    "papermill": {
     "duration": 0.034454,
     "end_time": "2025-02-14T20:44:46.070385",
     "exception": false,
     "start_time": "2025-02-14T20:44:46.035931",
     "status": "completed"
    },
    "tags": []
   },
   "outputs": [
    {
     "data": {
      "text/html": [
       "<div>\n",
       "<style scoped>\n",
       "    .dataframe tbody tr th:only-of-type {\n",
       "        vertical-align: middle;\n",
       "    }\n",
       "\n",
       "    .dataframe tbody tr th {\n",
       "        vertical-align: top;\n",
       "    }\n",
       "\n",
       "    .dataframe thead th {\n",
       "        text-align: right;\n",
       "    }\n",
       "</style>\n",
       "<table border=\"1\" class=\"dataframe\">\n",
       "  <thead>\n",
       "    <tr style=\"text-align: right;\">\n",
       "      <th></th>\n",
       "      <th>team</th>\n",
       "      <th>rating</th>\n",
       "    </tr>\n",
       "  </thead>\n",
       "  <tbody>\n",
       "    <tr>\n",
       "      <th>37</th>\n",
       "      <td>Vegas Golden Knights</td>\n",
       "      <td>1543.359173</td>\n",
       "    </tr>\n",
       "    <tr>\n",
       "      <th>15</th>\n",
       "      <td>Montreal Canadiens</td>\n",
       "      <td>1538.329685</td>\n",
       "    </tr>\n",
       "    <tr>\n",
       "      <th>2</th>\n",
       "      <td>Boston Bruins</td>\n",
       "      <td>1527.531767</td>\n",
       "    </tr>\n",
       "    <tr>\n",
       "      <th>25</th>\n",
       "      <td>Philadelphia Flyers</td>\n",
       "      <td>1523.310394</td>\n",
       "    </tr>\n",
       "    <tr>\n",
       "      <th>7</th>\n",
       "      <td>Colorado Avalanche</td>\n",
       "      <td>1511.936955</td>\n",
       "    </tr>\n",
       "    <tr>\n",
       "      <th>10</th>\n",
       "      <td>Detroit Red Wings</td>\n",
       "      <td>1509.882833</td>\n",
       "    </tr>\n",
       "    <tr>\n",
       "      <th>4</th>\n",
       "      <td>Calgary Flames</td>\n",
       "      <td>1507.876158</td>\n",
       "    </tr>\n",
       "    <tr>\n",
       "      <th>3</th>\n",
       "      <td>Buffalo Sabres</td>\n",
       "      <td>1506.104804</td>\n",
       "    </tr>\n",
       "    <tr>\n",
       "      <th>11</th>\n",
       "      <td>Edmonton Oilers</td>\n",
       "      <td>1505.590172</td>\n",
       "    </tr>\n",
       "    <tr>\n",
       "      <th>22</th>\n",
       "      <td>New York Rangers</td>\n",
       "      <td>1505.506706</td>\n",
       "    </tr>\n",
       "  </tbody>\n",
       "</table>\n",
       "</div>"
      ],
      "text/plain": [
       "                    team       rating\n",
       "37  Vegas Golden Knights  1543.359173\n",
       "15    Montreal Canadiens  1538.329685\n",
       "2          Boston Bruins  1527.531767\n",
       "25   Philadelphia Flyers  1523.310394\n",
       "7     Colorado Avalanche  1511.936955\n",
       "10     Detroit Red Wings  1509.882833\n",
       "4         Calgary Flames  1507.876158\n",
       "3         Buffalo Sabres  1506.104804\n",
       "11       Edmonton Oilers  1505.590172\n",
       "22      New York Rangers  1505.506706"
      ]
     },
     "execution_count": 7,
     "metadata": {},
     "output_type": "execute_result"
    }
   ],
   "source": [
    "elo_df[['team', 'rating']].groupby(by='team').mean().reset_index().sort_values(ascending=False, by='rating').head(n=10)"
   ]
  },
  {
   "cell_type": "markdown",
   "id": "ba9c1a47",
   "metadata": {
    "papermill": {
     "duration": 0.00459,
     "end_time": "2025-02-14T20:44:46.080001",
     "exception": false,
     "start_time": "2025-02-14T20:44:46.075411",
     "status": "completed"
    },
    "tags": []
   },
   "source": [
    "The two teams share a lot of teams. That's probably not surprising."
   ]
  },
  {
   "cell_type": "markdown",
   "id": "8f7843d6",
   "metadata": {
    "papermill": {
     "duration": 0.004606,
     "end_time": "2025-02-14T20:44:46.089406",
     "exception": false,
     "start_time": "2025-02-14T20:44:46.084800",
     "status": "completed"
    },
    "tags": []
   },
   "source": [
    "Let's just look at the last few years. We don't have the Ottawa Senators problem any more, so we can make a line plot. But the fact that our time series has the date as its X axis and the season doesn't run year round gives us an odd looking graph, because teams' ELO scores jump toward the mean during the offseason for reasons that aren't entirely clear. "
   ]
  },
  {
   "cell_type": "code",
   "execution_count": 8,
   "id": "e8d0b772",
   "metadata": {
    "execution": {
     "iopub.execute_input": "2025-02-14T20:44:46.100581Z",
     "iopub.status.busy": "2025-02-14T20:44:46.100186Z",
     "iopub.status.idle": "2025-02-14T20:44:46.500223Z",
     "shell.execute_reply": "2025-02-14T20:44:46.499214Z"
    },
    "papermill": {
     "duration": 0.407424,
     "end_time": "2025-02-14T20:44:46.501833",
     "exception": false,
     "start_time": "2025-02-14T20:44:46.094409",
     "status": "completed"
    },
    "tags": []
   },
   "outputs": [
    {
     "data": {
      "text/html": [
       "<iframe\n",
       "    scrolling=\"no\"\n",
       "    width=\"100%\"\n",
       "    height=\"820\"\n",
       "    src=\"iframe_figures/figure_8.html\"\n",
       "    frameborder=\"0\"\n",
       "    allowfullscreen\n",
       "></iframe>\n"
      ]
     },
     "metadata": {},
     "output_type": "display_data"
    }
   ],
   "source": [
    "express.line(data_frame=elo_df[elo_df['season'] > 2015].sort_values(by=['date', 'team']).reset_index(), x='date', y='rating', color='team', height=800, color_discrete_sequence = colors.sample_colorscale(\"HSV\", 32)).show(renderer='iframe_connected', )\n"
   ]
  },
  {
   "cell_type": "markdown",
   "id": "8d3be70e",
   "metadata": {
    "papermill": {
     "duration": 0.004638,
     "end_time": "2025-02-14T20:44:46.511552",
     "exception": false,
     "start_time": "2025-02-14T20:44:46.506914",
     "status": "completed"
    },
    "tags": []
   },
   "source": [
    "Maybe ELO scores make more sense within a season than they do across seasons. "
   ]
  },
  {
   "cell_type": "code",
   "execution_count": 9,
   "id": "e1725ee3",
   "metadata": {
    "execution": {
     "iopub.execute_input": "2025-02-14T20:44:46.522758Z",
     "iopub.status.busy": "2025-02-14T20:44:46.522434Z",
     "iopub.status.idle": "2025-02-14T20:44:46.795988Z",
     "shell.execute_reply": "2025-02-14T20:44:46.795107Z"
    },
    "papermill": {
     "duration": 0.280971,
     "end_time": "2025-02-14T20:44:46.797588",
     "exception": false,
     "start_time": "2025-02-14T20:44:46.516617",
     "status": "completed"
    },
    "tags": []
   },
   "outputs": [
    {
     "data": {
      "text/html": [
       "<iframe\n",
       "    scrolling=\"no\"\n",
       "    width=\"100%\"\n",
       "    height=\"920\"\n",
       "    src=\"iframe_figures/figure_9.html\"\n",
       "    frameborder=\"0\"\n",
       "    allowfullscreen\n",
       "></iframe>\n"
      ]
     },
     "metadata": {},
     "output_type": "display_data"
    }
   ],
   "source": [
    "express.scatter(data_frame=elo_df[elo_df['season'] == 2023].sort_values(by=['date', 'team']).reset_index(), x='date', y='rating', color='team', height=900, color_discrete_sequence = colors.sample_colorscale(\"HSV\", 32)).show(renderer='iframe_connected', )\n"
   ]
  },
  {
   "cell_type": "markdown",
   "id": "af50f5a2",
   "metadata": {
    "papermill": {
     "duration": 0.004754,
     "end_time": "2025-02-14T20:44:46.807730",
     "exception": false,
     "start_time": "2025-02-14T20:44:46.802976",
     "status": "completed"
    },
    "tags": []
   },
   "source": [
    "What do we see? First of all we see that the 2023 season starts in 2022. Second, we can clearly see the impact of a couple of early games between the Sharks and the Predators and the post-season, which goes on for two solid months. Finally, we see that the highest ELO teams don't always win titles, as the Bruins exit in an early round of the playoffs, but the Golden Knights, which start the year in the middle of the ELO pack end up winning the Stanley Cup. Go figure."
   ]
  }
 ],
 "metadata": {
  "kaggle": {
   "accelerator": "none",
   "dataSources": [
    {
     "datasetId": 6660083,
     "sourceId": 10740361,
     "sourceType": "datasetVersion"
    }
   ],
   "dockerImageVersionId": 30886,
   "isGpuEnabled": false,
   "isInternetEnabled": true,
   "language": "python",
   "sourceType": "notebook"
  },
  "kernelspec": {
   "display_name": "Python 3",
   "language": "python",
   "name": "python3"
  },
  "language_info": {
   "codemirror_mode": {
    "name": "ipython",
    "version": 3
   },
   "file_extension": ".py",
   "mimetype": "text/x-python",
   "name": "python",
   "nbconvert_exporter": "python",
   "pygments_lexer": "ipython3",
   "version": "3.10.12"
  },
  "papermill": {
   "default_parameters": {},
   "duration": 10.767756,
   "end_time": "2025-02-14T20:44:47.532612",
   "environment_variables": {},
   "exception": null,
   "input_path": "__notebook__.ipynb",
   "output_path": "__notebook__.ipynb",
   "parameters": {},
   "start_time": "2025-02-14T20:44:36.764856",
   "version": "2.6.0"
  }
 },
 "nbformat": 4,
 "nbformat_minor": 5
}
