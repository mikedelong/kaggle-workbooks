{
 "cells": [
  {
   "cell_type": "code",
   "execution_count": 1,
   "id": "acf46fa4",
   "metadata": {
    "_cell_guid": "b1076dfc-b9ad-4769-8c92-a6c4dae69d19",
    "_uuid": "8f2839f25d086af736a60e9eeb907d3b93b6e0e5",
    "execution": {
     "iopub.execute_input": "2025-02-16T18:50:19.285124Z",
     "iopub.status.busy": "2025-02-16T18:50:19.284721Z",
     "iopub.status.idle": "2025-02-16T18:50:20.587025Z",
     "shell.execute_reply": "2025-02-16T18:50:20.585864Z"
    },
    "papermill": {
     "duration": 1.309254,
     "end_time": "2025-02-16T18:50:20.588823",
     "exception": false,
     "start_time": "2025-02-16T18:50:19.279569",
     "status": "completed"
    },
    "tags": []
   },
   "outputs": [
    {
     "name": "stderr",
     "output_type": "stream",
     "text": [
      "/usr/local/lib/python3.10/dist-packages/pandas/io/formats/format.py:1458: RuntimeWarning: invalid value encountered in greater\n",
      "  has_large_values = (abs_vals > 1e6).any()\n",
      "/usr/local/lib/python3.10/dist-packages/pandas/io/formats/format.py:1459: RuntimeWarning: invalid value encountered in less\n",
      "  has_small_values = ((abs_vals < 10 ** (-self.digits)) & (abs_vals > 0)).any()\n",
      "/usr/local/lib/python3.10/dist-packages/pandas/io/formats/format.py:1459: RuntimeWarning: invalid value encountered in greater\n",
      "  has_small_values = ((abs_vals < 10 ** (-self.digits)) & (abs_vals > 0)).any()\n",
      "/usr/local/lib/python3.10/dist-packages/pandas/io/formats/format.py:1458: RuntimeWarning: invalid value encountered in greater\n",
      "  has_large_values = (abs_vals > 1e6).any()\n",
      "/usr/local/lib/python3.10/dist-packages/pandas/io/formats/format.py:1459: RuntimeWarning: invalid value encountered in less\n",
      "  has_small_values = ((abs_vals < 10 ** (-self.digits)) & (abs_vals > 0)).any()\n",
      "/usr/local/lib/python3.10/dist-packages/pandas/io/formats/format.py:1459: RuntimeWarning: invalid value encountered in greater\n",
      "  has_small_values = ((abs_vals < 10 ** (-self.digits)) & (abs_vals > 0)).any()\n"
     ]
    },
    {
     "data": {
      "text/html": [
       "<div>\n",
       "<style scoped>\n",
       "    .dataframe tbody tr th:only-of-type {\n",
       "        vertical-align: middle;\n",
       "    }\n",
       "\n",
       "    .dataframe tbody tr th {\n",
       "        vertical-align: top;\n",
       "    }\n",
       "\n",
       "    .dataframe thead th {\n",
       "        text-align: right;\n",
       "    }\n",
       "</style>\n",
       "<table border=\"1\" class=\"dataframe\">\n",
       "  <thead>\n",
       "    <tr style=\"text-align: right;\">\n",
       "      <th></th>\n",
       "      <th>playerID</th>\n",
       "      <th>commonName</th>\n",
       "      <th>league</th>\n",
       "      <th>hof</th>\n",
       "      <th>startYear</th>\n",
       "      <th>endYear</th>\n",
       "      <th>totalGames</th>\n",
       "      <th>positionWar</th>\n",
       "      <th>averageHit</th>\n",
       "      <th>patience</th>\n",
       "      <th>...</th>\n",
       "      <th>shortWar</th>\n",
       "      <th>positionCat</th>\n",
       "      <th>position</th>\n",
       "      <th>careerStarts</th>\n",
       "      <th>strikeOuts</th>\n",
       "      <th>control</th>\n",
       "      <th>fip</th>\n",
       "      <th>whip</th>\n",
       "      <th>era</th>\n",
       "      <th>fact</th>\n",
       "    </tr>\n",
       "  </thead>\n",
       "  <tbody>\n",
       "    <tr>\n",
       "      <th>0</th>\n",
       "      <td>culbech01</td>\n",
       "      <td>Charlie Culberson</td>\n",
       "      <td>MLB</td>\n",
       "      <td>0</td>\n",
       "      <td>2012</td>\n",
       "      <td>2020</td>\n",
       "      <td>428</td>\n",
       "      <td>-0.620</td>\n",
       "      <td>41.791451</td>\n",
       "      <td>13.776205</td>\n",
       "      <td>...</td>\n",
       "      <td>-0.234673</td>\n",
       "      <td>Outfielder</td>\n",
       "      <td>Batter</td>\n",
       "      <td>NaN</td>\n",
       "      <td>NaN</td>\n",
       "      <td>NaN</td>\n",
       "      <td>NaN</td>\n",
       "      <td>NaN</td>\n",
       "      <td>NaN</td>\n",
       "      <td>NaN</td>\n",
       "    </tr>\n",
       "    <tr>\n",
       "      <th>1</th>\n",
       "      <td>gosseph01</td>\n",
       "      <td>Phil Gosselin</td>\n",
       "      <td>MLB</td>\n",
       "      <td>0</td>\n",
       "      <td>2013</td>\n",
       "      <td>2020</td>\n",
       "      <td>359</td>\n",
       "      <td>0.895</td>\n",
       "      <td>72.992105</td>\n",
       "      <td>28.641438</td>\n",
       "      <td>...</td>\n",
       "      <td>0.403872</td>\n",
       "      <td>Middle IF</td>\n",
       "      <td>Batter</td>\n",
       "      <td>NaN</td>\n",
       "      <td>NaN</td>\n",
       "      <td>NaN</td>\n",
       "      <td>NaN</td>\n",
       "      <td>NaN</td>\n",
       "      <td>NaN</td>\n",
       "      <td>NaN</td>\n",
       "    </tr>\n",
       "    <tr>\n",
       "      <th>2</th>\n",
       "      <td>herrmch01</td>\n",
       "      <td>Chris Herrmann</td>\n",
       "      <td>MLB</td>\n",
       "      <td>0</td>\n",
       "      <td>2012</td>\n",
       "      <td>2019</td>\n",
       "      <td>370</td>\n",
       "      <td>-1.150</td>\n",
       "      <td>3.648244</td>\n",
       "      <td>70.106180</td>\n",
       "      <td>...</td>\n",
       "      <td>-0.503514</td>\n",
       "      <td>Catcher</td>\n",
       "      <td>Batter</td>\n",
       "      <td>NaN</td>\n",
       "      <td>NaN</td>\n",
       "      <td>NaN</td>\n",
       "      <td>NaN</td>\n",
       "      <td>NaN</td>\n",
       "      <td>NaN</td>\n",
       "      <td>NaN</td>\n",
       "    </tr>\n",
       "    <tr>\n",
       "      <th>3</th>\n",
       "      <td>kratzer01</td>\n",
       "      <td>Erik Kratz</td>\n",
       "      <td>MLB</td>\n",
       "      <td>0</td>\n",
       "      <td>2010</td>\n",
       "      <td>2020</td>\n",
       "      <td>335</td>\n",
       "      <td>1.715</td>\n",
       "      <td>21.236047</td>\n",
       "      <td>19.112442</td>\n",
       "      <td>...</td>\n",
       "      <td>0.829343</td>\n",
       "      <td>Catcher</td>\n",
       "      <td>Batter</td>\n",
       "      <td>NaN</td>\n",
       "      <td>NaN</td>\n",
       "      <td>NaN</td>\n",
       "      <td>NaN</td>\n",
       "      <td>NaN</td>\n",
       "      <td>NaN</td>\n",
       "      <td>NaN</td>\n",
       "    </tr>\n",
       "    <tr>\n",
       "      <th>4</th>\n",
       "      <td>pireljo01</td>\n",
       "      <td>Jose Pirela</td>\n",
       "      <td>MLB</td>\n",
       "      <td>0</td>\n",
       "      <td>2014</td>\n",
       "      <td>2019</td>\n",
       "      <td>302</td>\n",
       "      <td>0.545</td>\n",
       "      <td>67.574190</td>\n",
       "      <td>18.976314</td>\n",
       "      <td>...</td>\n",
       "      <td>0.292351</td>\n",
       "      <td>Middle IF</td>\n",
       "      <td>Batter</td>\n",
       "      <td>NaN</td>\n",
       "      <td>NaN</td>\n",
       "      <td>NaN</td>\n",
       "      <td>NaN</td>\n",
       "      <td>NaN</td>\n",
       "      <td>NaN</td>\n",
       "      <td>NaN</td>\n",
       "    </tr>\n",
       "  </tbody>\n",
       "</table>\n",
       "<p>5 rows × 25 columns</p>\n",
       "</div>"
      ],
      "text/plain": [
       "    playerID         commonName league  hof  startYear  endYear  totalGames  \\\n",
       "0  culbech01  Charlie Culberson    MLB    0       2012     2020         428   \n",
       "1  gosseph01      Phil Gosselin    MLB    0       2013     2020         359   \n",
       "2  herrmch01     Chris Herrmann    MLB    0       2012     2019         370   \n",
       "3  kratzer01         Erik Kratz    MLB    0       2010     2020         335   \n",
       "4  pireljo01        Jose Pirela    MLB    0       2014     2019         302   \n",
       "\n",
       "   positionWar  averageHit   patience  ...  shortWar  positionCat  position  \\\n",
       "0       -0.620   41.791451  13.776205  ... -0.234673   Outfielder    Batter   \n",
       "1        0.895   72.992105  28.641438  ...  0.403872    Middle IF    Batter   \n",
       "2       -1.150    3.648244  70.106180  ... -0.503514      Catcher    Batter   \n",
       "3        1.715   21.236047  19.112442  ...  0.829343      Catcher    Batter   \n",
       "4        0.545   67.574190  18.976314  ...  0.292351    Middle IF    Batter   \n",
       "\n",
       "   careerStarts strikeOuts  control fip whip  era  fact  \n",
       "0           NaN        NaN      NaN NaN  NaN  NaN   NaN  \n",
       "1           NaN        NaN      NaN NaN  NaN  NaN   NaN  \n",
       "2           NaN        NaN      NaN NaN  NaN  NaN   NaN  \n",
       "3           NaN        NaN      NaN NaN  NaN  NaN   NaN  \n",
       "4           NaN        NaN      NaN NaN  NaN  NaN   NaN  \n",
       "\n",
       "[5 rows x 25 columns]"
      ]
     },
     "execution_count": 1,
     "metadata": {},
     "output_type": "execute_result"
    }
   ],
   "source": [
    "import pandas as pd\n",
    "\n",
    "DATA = '/kaggle/input/negro-league-and-mlb-player-ratings/negro-leagues-player-ratings.csv'\n",
    "df = pd.read_csv(filepath_or_buffer=DATA)\n",
    "df.head()"
   ]
  },
  {
   "cell_type": "markdown",
   "id": "2ee414b8",
   "metadata": {
    "papermill": {
     "duration": 0.002677,
     "end_time": "2025-02-16T18:50:20.595114",
     "exception": false,
     "start_time": "2025-02-16T18:50:20.592437",
     "status": "completed"
    },
    "tags": []
   },
   "source": [
    "How much data do we have?"
   ]
  },
  {
   "cell_type": "code",
   "execution_count": 2,
   "id": "e105b279",
   "metadata": {
    "execution": {
     "iopub.execute_input": "2025-02-16T18:50:20.602164Z",
     "iopub.status.busy": "2025-02-16T18:50:20.601761Z",
     "iopub.status.idle": "2025-02-16T18:50:20.606905Z",
     "shell.execute_reply": "2025-02-16T18:50:20.606068Z"
    },
    "papermill": {
     "duration": 0.010056,
     "end_time": "2025-02-16T18:50:20.608047",
     "exception": false,
     "start_time": "2025-02-16T18:50:20.597991",
     "status": "completed"
    },
    "tags": []
   },
   "outputs": [
    {
     "data": {
      "text/plain": [
       "(1117, 25)"
      ]
     },
     "execution_count": 2,
     "metadata": {},
     "output_type": "execute_result"
    }
   ],
   "source": [
    "df.shape"
   ]
  },
  {
   "cell_type": "markdown",
   "id": "77055bd6",
   "metadata": {
    "papermill": {
     "duration": 0.002815,
     "end_time": "2025-02-16T18:50:20.614110",
     "exception": false,
     "start_time": "2025-02-16T18:50:20.611295",
     "status": "completed"
    },
    "tags": []
   },
   "source": [
    "We have position players and pitchers, and they have different stats. We expect that if we build a TSNE scatter plot our plot will separate them into two clusters. Let's find out."
   ]
  },
  {
   "cell_type": "code",
   "execution_count": 3,
   "id": "dd3b8d70",
   "metadata": {
    "execution": {
     "iopub.execute_input": "2025-02-16T18:50:20.621129Z",
     "iopub.status.busy": "2025-02-16T18:50:20.620831Z",
     "iopub.status.idle": "2025-02-16T18:50:26.532963Z",
     "shell.execute_reply": "2025-02-16T18:50:26.532280Z"
    },
    "papermill": {
     "duration": 5.917515,
     "end_time": "2025-02-16T18:50:26.534366",
     "exception": false,
     "start_time": "2025-02-16T18:50:20.616851",
     "status": "completed"
    },
    "tags": []
   },
   "outputs": [],
   "source": [
    "from sklearn.manifold import TSNE\n",
    "\n",
    "RANDOM_STATE = 2025\n",
    "reducer = TSNE(random_state=RANDOM_STATE)\n",
    "plot_df = pd.DataFrame(columns=['x', 'y'], data=reducer.fit_transform(X=df[['positionWar', 'averageHit', 'patience', 'power', 'speed',\n",
    "       'defense', 'careerStarts', 'strikeOuts', 'control', 'fip', 'whip',\n",
    "       'era',]].fillna(value=0)))\n",
    "plot_df['commonName'] = df['commonName'].tolist()\n",
    "plot_df['hof'] = df['hof'].tolist()\n",
    "plot_df['hof'] = df['hof'] == 1\n",
    "plot_df['position'] = df['position'].tolist()\n",
    "plot_df['league'] = df['league'].tolist()\n",
    "plot_df['startYear'] = df['startYear'].tolist()"
   ]
  },
  {
   "cell_type": "markdown",
   "id": "6c50b2cf",
   "metadata": {
    "papermill": {
     "duration": 0.002882,
     "end_time": "2025-02-16T18:50:26.540857",
     "exception": false,
     "start_time": "2025-02-16T18:50:26.537975",
     "status": "completed"
    },
    "tags": []
   },
   "source": [
    "We need to fill in missing values and zeros seem like the most reasonable values to fill in, and of course as a result we see that our plot is neatly bitartite between pitchers and position players."
   ]
  },
  {
   "cell_type": "code",
   "execution_count": 4,
   "id": "ddd9e918",
   "metadata": {
    "execution": {
     "iopub.execute_input": "2025-02-16T18:50:26.548121Z",
     "iopub.status.busy": "2025-02-16T18:50:26.547629Z",
     "iopub.status.idle": "2025-02-16T18:50:29.763125Z",
     "shell.execute_reply": "2025-02-16T18:50:29.762306Z"
    },
    "papermill": {
     "duration": 3.220859,
     "end_time": "2025-02-16T18:50:29.764627",
     "exception": false,
     "start_time": "2025-02-16T18:50:26.543768",
     "status": "completed"
    },
    "tags": []
   },
   "outputs": [
    {
     "data": {
      "text/html": [
       "<iframe\n",
       "    scrolling=\"no\"\n",
       "    width=\"100%\"\n",
       "    height=\"545px\"\n",
       "    src=\"iframe_figures/figure_4.html\"\n",
       "    frameborder=\"0\"\n",
       "    allowfullscreen\n",
       "></iframe>\n"
      ]
     },
     "metadata": {},
     "output_type": "display_data"
    }
   ],
   "source": [
    "from plotly import express\n",
    "from plotly import io\n",
    "\n",
    "io.renderers.default = 'iframe'\n",
    "express.scatter(data_frame=plot_df, x='x', y='y', hover_name='commonName', color='position')"
   ]
  },
  {
   "cell_type": "markdown",
   "id": "3cf7a577",
   "metadata": {
    "papermill": {
     "duration": 0.002859,
     "end_time": "2025-02-16T18:50:29.771036",
     "exception": false,
     "start_time": "2025-02-16T18:50:29.768177",
     "status": "completed"
    },
    "tags": []
   },
   "source": [
    "Now let's look at the same scatter plot and see where the Hall of Famers are."
   ]
  },
  {
   "cell_type": "code",
   "execution_count": 5,
   "id": "06ef7bd8",
   "metadata": {
    "execution": {
     "iopub.execute_input": "2025-02-16T18:50:29.778492Z",
     "iopub.status.busy": "2025-02-16T18:50:29.778110Z",
     "iopub.status.idle": "2025-02-16T18:50:29.867918Z",
     "shell.execute_reply": "2025-02-16T18:50:29.866477Z"
    },
    "papermill": {
     "duration": 0.095978,
     "end_time": "2025-02-16T18:50:29.870016",
     "exception": false,
     "start_time": "2025-02-16T18:50:29.774038",
     "status": "completed"
    },
    "tags": []
   },
   "outputs": [
    {
     "data": {
      "text/html": [
       "<iframe\n",
       "    scrolling=\"no\"\n",
       "    width=\"100%\"\n",
       "    height=\"545px\"\n",
       "    src=\"iframe_figures/figure_5.html\"\n",
       "    frameborder=\"0\"\n",
       "    allowfullscreen\n",
       "></iframe>\n"
      ]
     },
     "metadata": {},
     "output_type": "display_data"
    }
   ],
   "source": [
    "express.scatter(data_frame=plot_df, x='x', y='y', hover_name='commonName', color='hof')"
   ]
  },
  {
   "cell_type": "markdown",
   "id": "6d412731",
   "metadata": {
    "papermill": {
     "duration": 0.003084,
     "end_time": "2025-02-16T18:50:29.876820",
     "exception": false,
     "start_time": "2025-02-16T18:50:29.873736",
     "status": "completed"
    },
    "tags": []
   },
   "source": [
    "What do we see? For the most part the Hall of Famers cluster statistically, whether they are pitchers or position players. We do see some exceptions, who in our plot have more neighbors of the opposite type than of their own type. There are multiple reasons why this might be true: the obvious reason is that the Hall of Fame is not determined by statistics; another is that there are some active players in our dataset, and active players are not eligible for the Hall."
   ]
  },
  {
   "cell_type": "markdown",
   "id": "41324c5c",
   "metadata": {
    "papermill": {
     "duration": 0.002863,
     "end_time": "2025-02-16T18:50:29.883007",
     "exception": false,
     "start_time": "2025-02-16T18:50:29.880144",
     "status": "completed"
    },
    "tags": []
   },
   "source": [
    "Now let's color by league."
   ]
  },
  {
   "cell_type": "code",
   "execution_count": 6,
   "id": "0d80dda0",
   "metadata": {
    "execution": {
     "iopub.execute_input": "2025-02-16T18:50:29.890772Z",
     "iopub.status.busy": "2025-02-16T18:50:29.890362Z",
     "iopub.status.idle": "2025-02-16T18:50:29.976328Z",
     "shell.execute_reply": "2025-02-16T18:50:29.975501Z"
    },
    "papermill": {
     "duration": 0.091622,
     "end_time": "2025-02-16T18:50:29.977746",
     "exception": false,
     "start_time": "2025-02-16T18:50:29.886124",
     "status": "completed"
    },
    "tags": []
   },
   "outputs": [
    {
     "data": {
      "text/html": [
       "<iframe\n",
       "    scrolling=\"no\"\n",
       "    width=\"100%\"\n",
       "    height=\"545px\"\n",
       "    src=\"iframe_figures/figure_6.html\"\n",
       "    frameborder=\"0\"\n",
       "    allowfullscreen\n",
       "></iframe>\n"
      ]
     },
     "metadata": {},
     "output_type": "display_data"
    }
   ],
   "source": [
    "express.scatter(data_frame=plot_df, x='x', y='y', hover_name='commonName', color='league')"
   ]
  },
  {
   "cell_type": "markdown",
   "id": "51e3ad47",
   "metadata": {
    "papermill": {
     "duration": 0.002824,
     "end_time": "2025-02-16T18:50:29.984063",
     "exception": false,
     "start_time": "2025-02-16T18:50:29.981239",
     "status": "completed"
    },
    "tags": []
   },
   "source": [
    "What do we see? We see that for the most part, players in each league tend to have neighbors that are in their league, but this is more true for pitchers than position players. "
   ]
  },
  {
   "cell_type": "markdown",
   "id": "36a61055",
   "metadata": {
    "papermill": {
     "duration": 0.003494,
     "end_time": "2025-02-16T18:50:29.990555",
     "exception": false,
     "start_time": "2025-02-16T18:50:29.987061",
     "status": "completed"
    },
    "tags": []
   },
   "source": [
    "Let's plot our players by start year."
   ]
  },
  {
   "cell_type": "code",
   "execution_count": 7,
   "id": "e32595df",
   "metadata": {
    "execution": {
     "iopub.execute_input": "2025-02-16T18:50:30.000053Z",
     "iopub.status.busy": "2025-02-16T18:50:29.999674Z",
     "iopub.status.idle": "2025-02-16T18:50:30.109428Z",
     "shell.execute_reply": "2025-02-16T18:50:30.108602Z"
    },
    "papermill": {
     "duration": 0.115932,
     "end_time": "2025-02-16T18:50:30.110962",
     "exception": false,
     "start_time": "2025-02-16T18:50:29.995030",
     "status": "completed"
    },
    "tags": []
   },
   "outputs": [
    {
     "data": {
      "text/html": [
       "<iframe\n",
       "    scrolling=\"no\"\n",
       "    width=\"100%\"\n",
       "    height=\"545px\"\n",
       "    src=\"iframe_figures/figure_7.html\"\n",
       "    frameborder=\"0\"\n",
       "    allowfullscreen\n",
       "></iframe>\n"
      ]
     },
     "metadata": {},
     "output_type": "display_data"
    }
   ],
   "source": [
    "express.scatter(data_frame=plot_df, x='x', y='y', hover_name='commonName', color='startYear')"
   ]
  },
  {
   "cell_type": "markdown",
   "id": "17c04787",
   "metadata": {
    "papermill": {
     "duration": 0.003079,
     "end_time": "2025-02-16T18:50:30.118001",
     "exception": false,
     "start_time": "2025-02-16T18:50:30.114922",
     "status": "completed"
    },
    "tags": []
   },
   "source": [
    "Our start year data looks bimodal. How bimodal is it?"
   ]
  },
  {
   "cell_type": "code",
   "execution_count": 8,
   "id": "613ac1d3",
   "metadata": {
    "execution": {
     "iopub.execute_input": "2025-02-16T18:50:30.125675Z",
     "iopub.status.busy": "2025-02-16T18:50:30.125269Z",
     "iopub.status.idle": "2025-02-16T18:50:30.237896Z",
     "shell.execute_reply": "2025-02-16T18:50:30.237147Z"
    },
    "papermill": {
     "duration": 0.118,
     "end_time": "2025-02-16T18:50:30.239211",
     "exception": false,
     "start_time": "2025-02-16T18:50:30.121211",
     "status": "completed"
    },
    "tags": []
   },
   "outputs": [
    {
     "data": {
      "text/html": [
       "<iframe\n",
       "    scrolling=\"no\"\n",
       "    width=\"100%\"\n",
       "    height=\"545px\"\n",
       "    src=\"iframe_figures/figure_8.html\"\n",
       "    frameborder=\"0\"\n",
       "    allowfullscreen\n",
       "></iframe>\n"
      ]
     },
     "metadata": {},
     "output_type": "display_data"
    }
   ],
   "source": [
    "express.histogram(data_frame=df, x='startYear', nbins=120)"
   ]
  },
  {
   "cell_type": "markdown",
   "id": "0c5abfc7",
   "metadata": {
    "papermill": {
     "duration": 0.004029,
     "end_time": "2025-02-16T18:50:30.247338",
     "exception": false,
     "start_time": "2025-02-16T18:50:30.243309",
     "status": "completed"
    },
    "tags": []
   },
   "source": [
    "We've plotted our start years in annual bins, and the results look very bimodal. This is important, because professional baseball in 2018 is very different from professional baseball in 1920."
   ]
  }
 ],
 "metadata": {
  "kaggle": {
   "accelerator": "none",
   "dataSources": [
    {
     "datasetId": 6675109,
     "sourceId": 10761111,
     "sourceType": "datasetVersion"
    }
   ],
   "dockerImageVersionId": 30886,
   "isGpuEnabled": false,
   "isInternetEnabled": true,
   "language": "python",
   "sourceType": "notebook"
  },
  "kernelspec": {
   "display_name": "Python 3",
   "language": "python",
   "name": "python3"
  },
  "language_info": {
   "codemirror_mode": {
    "name": "ipython",
    "version": 3
   },
   "file_extension": ".py",
   "mimetype": "text/x-python",
   "name": "python",
   "nbconvert_exporter": "python",
   "pygments_lexer": "ipython3",
   "version": "3.10.12"
  },
  "papermill": {
   "default_parameters": {},
   "duration": 14.399705,
   "end_time": "2025-02-16T18:50:31.172649",
   "environment_variables": {},
   "exception": null,
   "input_path": "__notebook__.ipynb",
   "output_path": "__notebook__.ipynb",
   "parameters": {},
   "start_time": "2025-02-16T18:50:16.772944",
   "version": "2.6.0"
  }
 },
 "nbformat": 4,
 "nbformat_minor": 5
}
