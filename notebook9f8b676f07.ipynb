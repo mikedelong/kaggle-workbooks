{
 "cells": [
  {
   "cell_type": "code",
   "execution_count": 1,
   "id": "6fbb97bc",
   "metadata": {
    "_cell_guid": "b1076dfc-b9ad-4769-8c92-a6c4dae69d19",
    "_uuid": "8f2839f25d086af736a60e9eeb907d3b93b6e0e5",
    "execution": {
     "iopub.execute_input": "2025-02-04T00:45:46.502269Z",
     "iopub.status.busy": "2025-02-04T00:45:46.501875Z",
     "iopub.status.idle": "2025-02-04T00:45:47.614936Z",
     "shell.execute_reply": "2025-02-04T00:45:47.613881Z"
    },
    "papermill": {
     "duration": 1.119384,
     "end_time": "2025-02-04T00:45:47.616628",
     "exception": false,
     "start_time": "2025-02-04T00:45:46.497244",
     "status": "completed"
    },
    "tags": []
   },
   "outputs": [
    {
     "data": {
      "text/html": [
       "<div>\n",
       "<style scoped>\n",
       "    .dataframe tbody tr th:only-of-type {\n",
       "        vertical-align: middle;\n",
       "    }\n",
       "\n",
       "    .dataframe tbody tr th {\n",
       "        vertical-align: top;\n",
       "    }\n",
       "\n",
       "    .dataframe thead th {\n",
       "        text-align: right;\n",
       "    }\n",
       "</style>\n",
       "<table border=\"1\" class=\"dataframe\">\n",
       "  <thead>\n",
       "    <tr style=\"text-align: right;\">\n",
       "      <th></th>\n",
       "      <th>timestamp</th>\n",
       "      <th>filter_name</th>\n",
       "      <th>location</th>\n",
       "      <th>filter_class</th>\n",
       "      <th>filter_age_days</th>\n",
       "      <th>load_factor</th>\n",
       "      <th>pressure_drop_pa</th>\n",
       "      <th>efficiency</th>\n",
       "      <th>inlet_pm25</th>\n",
       "      <th>outlet_pm25</th>\n",
       "      <th>inlet_pm10</th>\n",
       "      <th>outlet_pm10</th>\n",
       "      <th>replacement_needed</th>\n",
       "      <th>hour</th>\n",
       "    </tr>\n",
       "  </thead>\n",
       "  <tbody>\n",
       "    <tr>\n",
       "      <th>0</th>\n",
       "      <td>2022-08-28 03:00:00</td>\n",
       "      <td>Electrostatic_Filter_Mall</td>\n",
       "      <td>Shopping Mall</td>\n",
       "      <td>Electrostatic</td>\n",
       "      <td>23.54</td>\n",
       "      <td>0.408784</td>\n",
       "      <td>60.7</td>\n",
       "      <td>0.870</td>\n",
       "      <td>47.7</td>\n",
       "      <td>6.2</td>\n",
       "      <td>88.3</td>\n",
       "      <td>11.4</td>\n",
       "      <td>0</td>\n",
       "      <td>3</td>\n",
       "    </tr>\n",
       "    <tr>\n",
       "      <th>1</th>\n",
       "      <td>2023-06-08 17:00:00</td>\n",
       "      <td>HEPA_Filter_Hospital</td>\n",
       "      <td>Hospital Ventilation</td>\n",
       "      <td>HEPA</td>\n",
       "      <td>5.46</td>\n",
       "      <td>0.309243</td>\n",
       "      <td>95.0</td>\n",
       "      <td>0.981</td>\n",
       "      <td>71.3</td>\n",
       "      <td>1.4</td>\n",
       "      <td>75.8</td>\n",
       "      <td>2.0</td>\n",
       "      <td>0</td>\n",
       "      <td>17</td>\n",
       "    </tr>\n",
       "    <tr>\n",
       "      <th>2</th>\n",
       "      <td>2022-09-14 05:00:00</td>\n",
       "      <td>HEPA_Filter_Hospital</td>\n",
       "      <td>Hospital Ventilation</td>\n",
       "      <td>HEPA</td>\n",
       "      <td>23.50</td>\n",
       "      <td>0.312394</td>\n",
       "      <td>114.9</td>\n",
       "      <td>0.962</td>\n",
       "      <td>67.4</td>\n",
       "      <td>2.6</td>\n",
       "      <td>98.9</td>\n",
       "      <td>3.8</td>\n",
       "      <td>0</td>\n",
       "      <td>5</td>\n",
       "    </tr>\n",
       "    <tr>\n",
       "      <th>3</th>\n",
       "      <td>2021-01-16 09:00:00</td>\n",
       "      <td>Electrostatic_Filter_Mall</td>\n",
       "      <td>Shopping Mall</td>\n",
       "      <td>Electrostatic</td>\n",
       "      <td>4.04</td>\n",
       "      <td>0.420890</td>\n",
       "      <td>25.1</td>\n",
       "      <td>0.893</td>\n",
       "      <td>69.2</td>\n",
       "      <td>7.4</td>\n",
       "      <td>57.8</td>\n",
       "      <td>6.2</td>\n",
       "      <td>0</td>\n",
       "      <td>9</td>\n",
       "    </tr>\n",
       "    <tr>\n",
       "      <th>4</th>\n",
       "      <td>2021-06-01 14:00:00</td>\n",
       "      <td>HEPA_Filter_Hospital</td>\n",
       "      <td>Hospital Ventilation</td>\n",
       "      <td>HEPA</td>\n",
       "      <td>1.88</td>\n",
       "      <td>0.200000</td>\n",
       "      <td>83.7</td>\n",
       "      <td>0.992</td>\n",
       "      <td>45.3</td>\n",
       "      <td>1.0</td>\n",
       "      <td>66.4</td>\n",
       "      <td>2.0</td>\n",
       "      <td>0</td>\n",
       "      <td>14</td>\n",
       "    </tr>\n",
       "  </tbody>\n",
       "</table>\n",
       "</div>"
      ],
      "text/plain": [
       "            timestamp                filter_name              location  \\\n",
       "0 2022-08-28 03:00:00  Electrostatic_Filter_Mall         Shopping Mall   \n",
       "1 2023-06-08 17:00:00       HEPA_Filter_Hospital  Hospital Ventilation   \n",
       "2 2022-09-14 05:00:00       HEPA_Filter_Hospital  Hospital Ventilation   \n",
       "3 2021-01-16 09:00:00  Electrostatic_Filter_Mall         Shopping Mall   \n",
       "4 2021-06-01 14:00:00       HEPA_Filter_Hospital  Hospital Ventilation   \n",
       "\n",
       "    filter_class  filter_age_days  load_factor  pressure_drop_pa  efficiency  \\\n",
       "0  Electrostatic            23.54     0.408784              60.7       0.870   \n",
       "1           HEPA             5.46     0.309243              95.0       0.981   \n",
       "2           HEPA            23.50     0.312394             114.9       0.962   \n",
       "3  Electrostatic             4.04     0.420890              25.1       0.893   \n",
       "4           HEPA             1.88     0.200000              83.7       0.992   \n",
       "\n",
       "   inlet_pm25  outlet_pm25  inlet_pm10  outlet_pm10  replacement_needed  hour  \n",
       "0        47.7          6.2        88.3         11.4                   0     3  \n",
       "1        71.3          1.4        75.8          2.0                   0    17  \n",
       "2        67.4          2.6        98.9          3.8                   0     5  \n",
       "3        69.2          7.4        57.8          6.2                   0     9  \n",
       "4        45.3          1.0        66.4          2.0                   0    14  "
      ]
     },
     "execution_count": 1,
     "metadata": {},
     "output_type": "execute_result"
    }
   ],
   "source": [
    "import pandas as pd\n",
    "\n",
    "DATA = '/kaggle/input/air-filter-data/air_filter_data.csv'\n",
    "df = pd.read_csv(filepath_or_buffer=DATA, parse_dates=['timestamp'])\n",
    "df.head()"
   ]
  },
  {
   "cell_type": "code",
   "execution_count": 2,
   "id": "14f7bb46",
   "metadata": {
    "execution": {
     "iopub.execute_input": "2025-02-04T00:45:47.625298Z",
     "iopub.status.busy": "2025-02-04T00:45:47.624770Z",
     "iopub.status.idle": "2025-02-04T00:45:47.652291Z",
     "shell.execute_reply": "2025-02-04T00:45:47.651218Z"
    },
    "papermill": {
     "duration": 0.033771,
     "end_time": "2025-02-04T00:45:47.654180",
     "exception": false,
     "start_time": "2025-02-04T00:45:47.620409",
     "status": "completed"
    },
    "tags": []
   },
   "outputs": [
    {
     "data": {
      "text/html": [
       "<div>\n",
       "<style scoped>\n",
       "    .dataframe tbody tr th:only-of-type {\n",
       "        vertical-align: middle;\n",
       "    }\n",
       "\n",
       "    .dataframe tbody tr th {\n",
       "        vertical-align: top;\n",
       "    }\n",
       "\n",
       "    .dataframe thead th {\n",
       "        text-align: right;\n",
       "    }\n",
       "</style>\n",
       "<table border=\"1\" class=\"dataframe\">\n",
       "  <thead>\n",
       "    <tr style=\"text-align: right;\">\n",
       "      <th></th>\n",
       "      <th>timestamp</th>\n",
       "      <th>filter_name</th>\n",
       "      <th>location</th>\n",
       "      <th>filter_class</th>\n",
       "      <th>filter_age_days</th>\n",
       "      <th>load_factor</th>\n",
       "      <th>pressure_drop_pa</th>\n",
       "      <th>efficiency</th>\n",
       "      <th>inlet_pm25</th>\n",
       "      <th>outlet_pm25</th>\n",
       "      <th>inlet_pm10</th>\n",
       "      <th>outlet_pm10</th>\n",
       "      <th>replacement_needed</th>\n",
       "      <th>hour</th>\n",
       "    </tr>\n",
       "  </thead>\n",
       "  <tbody>\n",
       "    <tr>\n",
       "      <th>0</th>\n",
       "      <td>21915</td>\n",
       "      <td>5</td>\n",
       "      <td>5</td>\n",
       "      <td>4</td>\n",
       "      <td>1656</td>\n",
       "      <td>20191</td>\n",
       "      <td>1598</td>\n",
       "      <td>159</td>\n",
       "      <td>581</td>\n",
       "      <td>146</td>\n",
       "      <td>766</td>\n",
       "      <td>185</td>\n",
       "      <td>2</td>\n",
       "      <td>24</td>\n",
       "    </tr>\n",
       "  </tbody>\n",
       "</table>\n",
       "</div>"
      ],
      "text/plain": [
       "   timestamp  filter_name  location  filter_class  filter_age_days  \\\n",
       "0      21915            5         5             4             1656   \n",
       "\n",
       "   load_factor  pressure_drop_pa  efficiency  inlet_pm25  outlet_pm25  \\\n",
       "0        20191              1598         159         581          146   \n",
       "\n",
       "   inlet_pm10  outlet_pm10  replacement_needed  hour  \n",
       "0         766          185                   2    24  "
      ]
     },
     "execution_count": 2,
     "metadata": {},
     "output_type": "execute_result"
    }
   ],
   "source": [
    "df.nunique().to_frame().T"
   ]
  },
  {
   "cell_type": "code",
   "execution_count": 3,
   "id": "8572f4de",
   "metadata": {
    "execution": {
     "iopub.execute_input": "2025-02-04T00:45:47.662694Z",
     "iopub.status.busy": "2025-02-04T00:45:47.662364Z",
     "iopub.status.idle": "2025-02-04T00:45:47.667554Z",
     "shell.execute_reply": "2025-02-04T00:45:47.666492Z"
    },
    "papermill": {
     "duration": 0.011608,
     "end_time": "2025-02-04T00:45:47.669413",
     "exception": false,
     "start_time": "2025-02-04T00:45:47.657805",
     "status": "completed"
    },
    "tags": []
   },
   "outputs": [],
   "source": [
    "COLUMNS = [column for column, dtype in df.dtypes.to_dict().items() if str(dtype) in {'float64'}]\n",
    "RANDOM_STATE = 2025\n",
    "TARGET = 'replacement_needed'"
   ]
  },
  {
   "cell_type": "markdown",
   "id": "e7bd9b47",
   "metadata": {
    "papermill": {
     "duration": 0.003904,
     "end_time": "2025-02-04T00:45:47.677050",
     "exception": false,
     "start_time": "2025-02-04T00:45:47.673146",
     "status": "completed"
    },
    "tags": []
   },
   "source": [
    "Is our target class balanced?"
   ]
  },
  {
   "cell_type": "code",
   "execution_count": 4,
   "id": "81d4153d",
   "metadata": {
    "execution": {
     "iopub.execute_input": "2025-02-04T00:45:47.685428Z",
     "iopub.status.busy": "2025-02-04T00:45:47.685025Z",
     "iopub.status.idle": "2025-02-04T00:45:47.694942Z",
     "shell.execute_reply": "2025-02-04T00:45:47.693890Z"
    },
    "papermill": {
     "duration": 0.016025,
     "end_time": "2025-02-04T00:45:47.696594",
     "exception": false,
     "start_time": "2025-02-04T00:45:47.680569",
     "status": "completed"
    },
    "tags": []
   },
   "outputs": [
    {
     "data": {
      "text/plain": [
       "{0: 21887, 1: 28}"
      ]
     },
     "execution_count": 4,
     "metadata": {},
     "output_type": "execute_result"
    }
   ],
   "source": [
    "df[TARGET].value_counts().to_dict()"
   ]
  },
  {
   "cell_type": "markdown",
   "id": "c2409e3f",
   "metadata": {
    "papermill": {
     "duration": 0.003175,
     "end_time": "2025-02-04T00:45:47.703473",
     "exception": false,
     "start_time": "2025-02-04T00:45:47.700298",
     "status": "completed"
    },
    "tags": []
   },
   "source": [
    "No. We have almost no filters that need to be replaced. Let's use a small part of our dataset to proceed, so what signal we have in our data doesn't get lost."
   ]
  },
  {
   "cell_type": "code",
   "execution_count": 5,
   "id": "4ff5402d",
   "metadata": {
    "execution": {
     "iopub.execute_input": "2025-02-04T00:45:47.711517Z",
     "iopub.status.busy": "2025-02-04T00:45:47.711174Z",
     "iopub.status.idle": "2025-02-04T00:45:47.726636Z",
     "shell.execute_reply": "2025-02-04T00:45:47.725586Z"
    },
    "papermill": {
     "duration": 0.021724,
     "end_time": "2025-02-04T00:45:47.728572",
     "exception": false,
     "start_time": "2025-02-04T00:45:47.706848",
     "status": "completed"
    },
    "tags": []
   },
   "outputs": [],
   "source": [
    "target_1_df = df[df[TARGET] == 1]\n",
    "target_0_df = df[df[TARGET] == 0].sample(n=40 * len(target_1_df), random_state=RANDOM_STATE)\n",
    "sample_df = pd.concat(axis='index', objs=[target_0_df, target_1_df])"
   ]
  },
  {
   "cell_type": "markdown",
   "id": "31b11b36",
   "metadata": {
    "papermill": {
     "duration": 0.003196,
     "end_time": "2025-02-04T00:45:47.735312",
     "exception": false,
     "start_time": "2025-02-04T00:45:47.732116",
     "status": "completed"
    },
    "tags": []
   },
   "source": [
    "We have a sample that includes all of our positives and a sample of our negatives. Let's use dimensionality reduction and a scatter plot to see if there's a signal in our data."
   ]
  },
  {
   "cell_type": "code",
   "execution_count": 6,
   "id": "9a508841",
   "metadata": {
    "execution": {
     "iopub.execute_input": "2025-02-04T00:45:47.743622Z",
     "iopub.status.busy": "2025-02-04T00:45:47.743277Z",
     "iopub.status.idle": "2025-02-04T00:45:54.589075Z",
     "shell.execute_reply": "2025-02-04T00:45:54.588198Z"
    },
    "papermill": {
     "duration": 6.852028,
     "end_time": "2025-02-04T00:45:54.590886",
     "exception": false,
     "start_time": "2025-02-04T00:45:47.738858",
     "status": "completed"
    },
    "tags": []
   },
   "outputs": [],
   "source": [
    "from sklearn.manifold import TSNE\n",
    "\n",
    "reducer = TSNE(random_state=RANDOM_STATE)\n",
    "plot_df = pd.DataFrame(columns=['x', 'y'], data=reducer.fit_transform(X=sample_df[COLUMNS],))\n",
    "plot_df[TARGET] = sample_df[TARGET].tolist()\n",
    "plot_df[TARGET] = plot_df[TARGET] == 1"
   ]
  },
  {
   "cell_type": "code",
   "execution_count": 7,
   "id": "256b706a",
   "metadata": {
    "execution": {
     "iopub.execute_input": "2025-02-04T00:45:54.599077Z",
     "iopub.status.busy": "2025-02-04T00:45:54.598563Z",
     "iopub.status.idle": "2025-02-04T00:45:57.723027Z",
     "shell.execute_reply": "2025-02-04T00:45:57.721896Z"
    },
    "papermill": {
     "duration": 3.130589,
     "end_time": "2025-02-04T00:45:57.725015",
     "exception": false,
     "start_time": "2025-02-04T00:45:54.594426",
     "status": "completed"
    },
    "tags": []
   },
   "outputs": [
    {
     "data": {
      "text/html": [
       "        <script type=\"text/javascript\">\n",
       "        window.PlotlyConfig = {MathJaxConfig: 'local'};\n",
       "        if (window.MathJax && window.MathJax.Hub && window.MathJax.Hub.Config) {window.MathJax.Hub.Config({SVG: {font: \"STIX-Web\"}});}\n",
       "        if (typeof require !== 'undefined') {\n",
       "        require.undef(\"plotly\");\n",
       "        requirejs.config({\n",
       "            paths: {\n",
       "                'plotly': ['https://cdn.plot.ly/plotly-2.35.2.min']\n",
       "            }\n",
       "        });\n",
       "        require(['plotly'], function(Plotly) {\n",
       "            window._Plotly = Plotly;\n",
       "        });\n",
       "        }\n",
       "        </script>\n",
       "        "
      ]
     },
     "metadata": {},
     "output_type": "display_data"
    },
    {
     "data": {
      "text/html": [
       "<iframe\n",
       "    scrolling=\"no\"\n",
       "    width=\"100%\"\n",
       "    height=\"545px\"\n",
       "    src=\"iframe_figures/figure_7.html\"\n",
       "    frameborder=\"0\"\n",
       "    allowfullscreen\n",
       "></iframe>\n"
      ]
     },
     "metadata": {},
     "output_type": "display_data"
    }
   ],
   "source": [
    "from plotly import express\n",
    "from plotly.offline import init_notebook_mode\n",
    "\n",
    "init_notebook_mode(connected=True)\n",
    "express.scatter(data_frame=plot_df, x='x', y='y', color=TARGET).show(renderer='iframe_connected')"
   ]
  },
  {
   "cell_type": "markdown",
   "id": "b72424e1",
   "metadata": {
    "papermill": {
     "duration": 0.003345,
     "end_time": "2025-02-04T00:45:57.732365",
     "exception": false,
     "start_time": "2025-02-04T00:45:57.729020",
     "status": "completed"
    },
    "tags": []
   },
   "source": [
    "Surprisingly TSNE finds it pretty easy to distinguish filters that need to be replaced from filters that don't. Let's build a model."
   ]
  },
  {
   "cell_type": "code",
   "execution_count": 8,
   "id": "276f09f7",
   "metadata": {
    "execution": {
     "iopub.execute_input": "2025-02-04T00:45:57.740988Z",
     "iopub.status.busy": "2025-02-04T00:45:57.740613Z",
     "iopub.status.idle": "2025-02-04T00:45:57.805550Z",
     "shell.execute_reply": "2025-02-04T00:45:57.804163Z"
    },
    "papermill": {
     "duration": 0.071269,
     "end_time": "2025-02-04T00:45:57.807211",
     "exception": false,
     "start_time": "2025-02-04T00:45:57.735942",
     "status": "completed"
    },
    "tags": []
   },
   "outputs": [
    {
     "name": "stdout",
     "output_type": "stream",
     "text": [
      "              precision    recall  f1-score   support\n",
      "\n",
      "           0       1.00      1.00      1.00       224\n",
      "           1       1.00      1.00      1.00         6\n",
      "\n",
      "    accuracy                           1.00       230\n",
      "   macro avg       1.00      1.00      1.00       230\n",
      "weighted avg       1.00      1.00      1.00       230\n",
      "\n"
     ]
    }
   ],
   "source": [
    "from sklearn.model_selection import train_test_split\n",
    "from sklearn.discriminant_analysis import QuadraticDiscriminantAnalysis\n",
    "from sklearn.metrics import classification_report\n",
    "\n",
    "X_train, X_test, y_train, y_test = train_test_split(sample_df[COLUMNS], sample_df[TARGET], test_size=0.2, random_state=RANDOM_STATE, shuffle=True, stratify=sample_df[TARGET])\n",
    "qda = QuadraticDiscriminantAnalysis()\n",
    "qda.fit(X=X_train, y=y_train)\n",
    "y_pred = qda.predict(X=X_test)\n",
    "print(classification_report(y_true=y_test, y_pred=y_pred))"
   ]
  }
 ],
 "metadata": {
  "kaggle": {
   "accelerator": "none",
   "dataSources": [
    {
     "datasetId": 6594908,
     "sourceId": 10650503,
     "sourceType": "datasetVersion"
    }
   ],
   "dockerImageVersionId": 30839,
   "isGpuEnabled": false,
   "isInternetEnabled": true,
   "language": "python",
   "sourceType": "notebook"
  },
  "kernelspec": {
   "display_name": "Python 3",
   "language": "python",
   "name": "python3"
  },
  "language_info": {
   "codemirror_mode": {
    "name": "ipython",
    "version": 3
   },
   "file_extension": ".py",
   "mimetype": "text/x-python",
   "name": "python",
   "nbconvert_exporter": "python",
   "pygments_lexer": "ipython3",
   "version": "3.10.12"
  },
  "papermill": {
   "default_parameters": {},
   "duration": 14.959855,
   "end_time": "2025-02-04T00:45:58.631678",
   "environment_variables": {},
   "exception": null,
   "input_path": "__notebook__.ipynb",
   "output_path": "__notebook__.ipynb",
   "parameters": {},
   "start_time": "2025-02-04T00:45:43.671823",
   "version": "2.6.0"
  }
 },
 "nbformat": 4,
 "nbformat_minor": 5
}
