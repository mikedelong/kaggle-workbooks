{
 "cells": [
  {
   "cell_type": "code",
   "execution_count": 1,
   "id": "a25b75be",
   "metadata": {
    "_cell_guid": "b1076dfc-b9ad-4769-8c92-a6c4dae69d19",
    "_uuid": "8f2839f25d086af736a60e9eeb907d3b93b6e0e5",
    "execution": {
     "iopub.execute_input": "2025-02-03T19:16:15.600963Z",
     "iopub.status.busy": "2025-02-03T19:16:15.600498Z",
     "iopub.status.idle": "2025-02-03T19:16:16.467757Z",
     "shell.execute_reply": "2025-02-03T19:16:16.466754Z"
    },
    "papermill": {
     "duration": 0.87339,
     "end_time": "2025-02-03T19:16:16.469320",
     "exception": false,
     "start_time": "2025-02-03T19:16:15.595930",
     "status": "completed"
    },
    "tags": []
   },
   "outputs": [
    {
     "data": {
      "text/html": [
       "<div>\n",
       "<style scoped>\n",
       "    .dataframe tbody tr th:only-of-type {\n",
       "        vertical-align: middle;\n",
       "    }\n",
       "\n",
       "    .dataframe tbody tr th {\n",
       "        vertical-align: top;\n",
       "    }\n",
       "\n",
       "    .dataframe thead th {\n",
       "        text-align: right;\n",
       "    }\n",
       "</style>\n",
       "<table border=\"1\" class=\"dataframe\">\n",
       "  <thead>\n",
       "    <tr style=\"text-align: right;\">\n",
       "      <th></th>\n",
       "      <th>timestamp</th>\n",
       "      <th>filter_name</th>\n",
       "      <th>location</th>\n",
       "      <th>filter_class</th>\n",
       "      <th>filter_age_days</th>\n",
       "      <th>load_factor</th>\n",
       "      <th>pressure_drop_pa</th>\n",
       "      <th>efficiency</th>\n",
       "      <th>inlet_pm25</th>\n",
       "      <th>outlet_pm25</th>\n",
       "      <th>inlet_pm10</th>\n",
       "      <th>outlet_pm10</th>\n",
       "      <th>replacement_needed</th>\n",
       "      <th>hour</th>\n",
       "    </tr>\n",
       "  </thead>\n",
       "  <tbody>\n",
       "    <tr>\n",
       "      <th>0</th>\n",
       "      <td>2022-08-28 03:00:00</td>\n",
       "      <td>Electrostatic_Filter_Mall</td>\n",
       "      <td>Shopping Mall</td>\n",
       "      <td>Electrostatic</td>\n",
       "      <td>23.54</td>\n",
       "      <td>0.408784</td>\n",
       "      <td>60.7</td>\n",
       "      <td>0.870</td>\n",
       "      <td>47.7</td>\n",
       "      <td>6.2</td>\n",
       "      <td>88.3</td>\n",
       "      <td>11.4</td>\n",
       "      <td>0</td>\n",
       "      <td>3</td>\n",
       "    </tr>\n",
       "    <tr>\n",
       "      <th>1</th>\n",
       "      <td>2023-06-08 17:00:00</td>\n",
       "      <td>HEPA_Filter_Hospital</td>\n",
       "      <td>Hospital Ventilation</td>\n",
       "      <td>HEPA</td>\n",
       "      <td>5.46</td>\n",
       "      <td>0.309243</td>\n",
       "      <td>95.0</td>\n",
       "      <td>0.981</td>\n",
       "      <td>71.3</td>\n",
       "      <td>1.4</td>\n",
       "      <td>75.8</td>\n",
       "      <td>2.0</td>\n",
       "      <td>0</td>\n",
       "      <td>17</td>\n",
       "    </tr>\n",
       "    <tr>\n",
       "      <th>2</th>\n",
       "      <td>2022-09-14 05:00:00</td>\n",
       "      <td>HEPA_Filter_Hospital</td>\n",
       "      <td>Hospital Ventilation</td>\n",
       "      <td>HEPA</td>\n",
       "      <td>23.50</td>\n",
       "      <td>0.312394</td>\n",
       "      <td>114.9</td>\n",
       "      <td>0.962</td>\n",
       "      <td>67.4</td>\n",
       "      <td>2.6</td>\n",
       "      <td>98.9</td>\n",
       "      <td>3.8</td>\n",
       "      <td>0</td>\n",
       "      <td>5</td>\n",
       "    </tr>\n",
       "    <tr>\n",
       "      <th>3</th>\n",
       "      <td>2021-01-16 09:00:00</td>\n",
       "      <td>Electrostatic_Filter_Mall</td>\n",
       "      <td>Shopping Mall</td>\n",
       "      <td>Electrostatic</td>\n",
       "      <td>4.04</td>\n",
       "      <td>0.420890</td>\n",
       "      <td>25.1</td>\n",
       "      <td>0.893</td>\n",
       "      <td>69.2</td>\n",
       "      <td>7.4</td>\n",
       "      <td>57.8</td>\n",
       "      <td>6.2</td>\n",
       "      <td>0</td>\n",
       "      <td>9</td>\n",
       "    </tr>\n",
       "    <tr>\n",
       "      <th>4</th>\n",
       "      <td>2021-06-01 14:00:00</td>\n",
       "      <td>HEPA_Filter_Hospital</td>\n",
       "      <td>Hospital Ventilation</td>\n",
       "      <td>HEPA</td>\n",
       "      <td>1.88</td>\n",
       "      <td>0.200000</td>\n",
       "      <td>83.7</td>\n",
       "      <td>0.992</td>\n",
       "      <td>45.3</td>\n",
       "      <td>1.0</td>\n",
       "      <td>66.4</td>\n",
       "      <td>2.0</td>\n",
       "      <td>0</td>\n",
       "      <td>14</td>\n",
       "    </tr>\n",
       "  </tbody>\n",
       "</table>\n",
       "</div>"
      ],
      "text/plain": [
       "            timestamp                filter_name              location  \\\n",
       "0 2022-08-28 03:00:00  Electrostatic_Filter_Mall         Shopping Mall   \n",
       "1 2023-06-08 17:00:00       HEPA_Filter_Hospital  Hospital Ventilation   \n",
       "2 2022-09-14 05:00:00       HEPA_Filter_Hospital  Hospital Ventilation   \n",
       "3 2021-01-16 09:00:00  Electrostatic_Filter_Mall         Shopping Mall   \n",
       "4 2021-06-01 14:00:00       HEPA_Filter_Hospital  Hospital Ventilation   \n",
       "\n",
       "    filter_class  filter_age_days  load_factor  pressure_drop_pa  efficiency  \\\n",
       "0  Electrostatic            23.54     0.408784              60.7       0.870   \n",
       "1           HEPA             5.46     0.309243              95.0       0.981   \n",
       "2           HEPA            23.50     0.312394             114.9       0.962   \n",
       "3  Electrostatic             4.04     0.420890              25.1       0.893   \n",
       "4           HEPA             1.88     0.200000              83.7       0.992   \n",
       "\n",
       "   inlet_pm25  outlet_pm25  inlet_pm10  outlet_pm10  replacement_needed  hour  \n",
       "0        47.7          6.2        88.3         11.4                   0     3  \n",
       "1        71.3          1.4        75.8          2.0                   0    17  \n",
       "2        67.4          2.6        98.9          3.8                   0     5  \n",
       "3        69.2          7.4        57.8          6.2                   0     9  \n",
       "4        45.3          1.0        66.4          2.0                   0    14  "
      ]
     },
     "execution_count": 1,
     "metadata": {},
     "output_type": "execute_result"
    }
   ],
   "source": [
    "import pandas as pd\n",
    "\n",
    "DATA = '/kaggle/input/air-filter-data/air_filter_data.csv'\n",
    "df = pd.read_csv(filepath_or_buffer=DATA, parse_dates=['timestamp'])\n",
    "df.head()"
   ]
  },
  {
   "cell_type": "code",
   "execution_count": 2,
   "id": "fad99bbc",
   "metadata": {
    "execution": {
     "iopub.execute_input": "2025-02-03T19:16:16.476890Z",
     "iopub.status.busy": "2025-02-03T19:16:16.476597Z",
     "iopub.status.idle": "2025-02-03T19:16:16.501804Z",
     "shell.execute_reply": "2025-02-03T19:16:16.500828Z"
    },
    "papermill": {
     "duration": 0.030629,
     "end_time": "2025-02-03T19:16:16.503508",
     "exception": false,
     "start_time": "2025-02-03T19:16:16.472879",
     "status": "completed"
    },
    "tags": []
   },
   "outputs": [
    {
     "data": {
      "text/html": [
       "<div>\n",
       "<style scoped>\n",
       "    .dataframe tbody tr th:only-of-type {\n",
       "        vertical-align: middle;\n",
       "    }\n",
       "\n",
       "    .dataframe tbody tr th {\n",
       "        vertical-align: top;\n",
       "    }\n",
       "\n",
       "    .dataframe thead th {\n",
       "        text-align: right;\n",
       "    }\n",
       "</style>\n",
       "<table border=\"1\" class=\"dataframe\">\n",
       "  <thead>\n",
       "    <tr style=\"text-align: right;\">\n",
       "      <th></th>\n",
       "      <th>timestamp</th>\n",
       "      <th>filter_name</th>\n",
       "      <th>location</th>\n",
       "      <th>filter_class</th>\n",
       "      <th>filter_age_days</th>\n",
       "      <th>load_factor</th>\n",
       "      <th>pressure_drop_pa</th>\n",
       "      <th>efficiency</th>\n",
       "      <th>inlet_pm25</th>\n",
       "      <th>outlet_pm25</th>\n",
       "      <th>inlet_pm10</th>\n",
       "      <th>outlet_pm10</th>\n",
       "      <th>replacement_needed</th>\n",
       "      <th>hour</th>\n",
       "    </tr>\n",
       "  </thead>\n",
       "  <tbody>\n",
       "    <tr>\n",
       "      <th>0</th>\n",
       "      <td>21915</td>\n",
       "      <td>5</td>\n",
       "      <td>5</td>\n",
       "      <td>4</td>\n",
       "      <td>1656</td>\n",
       "      <td>20191</td>\n",
       "      <td>1598</td>\n",
       "      <td>159</td>\n",
       "      <td>581</td>\n",
       "      <td>146</td>\n",
       "      <td>766</td>\n",
       "      <td>185</td>\n",
       "      <td>2</td>\n",
       "      <td>24</td>\n",
       "    </tr>\n",
       "  </tbody>\n",
       "</table>\n",
       "</div>"
      ],
      "text/plain": [
       "   timestamp  filter_name  location  filter_class  filter_age_days  \\\n",
       "0      21915            5         5             4             1656   \n",
       "\n",
       "   load_factor  pressure_drop_pa  efficiency  inlet_pm25  outlet_pm25  \\\n",
       "0        20191              1598         159         581          146   \n",
       "\n",
       "   inlet_pm10  outlet_pm10  replacement_needed  hour  \n",
       "0         766          185                   2    24  "
      ]
     },
     "execution_count": 2,
     "metadata": {},
     "output_type": "execute_result"
    }
   ],
   "source": [
    "df.nunique().to_frame().T"
   ]
  },
  {
   "cell_type": "code",
   "execution_count": 3,
   "id": "d51dd70b",
   "metadata": {
    "execution": {
     "iopub.execute_input": "2025-02-03T19:16:16.511094Z",
     "iopub.status.busy": "2025-02-03T19:16:16.510747Z",
     "iopub.status.idle": "2025-02-03T19:16:16.515417Z",
     "shell.execute_reply": "2025-02-03T19:16:16.514567Z"
    },
    "papermill": {
     "duration": 0.010149,
     "end_time": "2025-02-03T19:16:16.516958",
     "exception": false,
     "start_time": "2025-02-03T19:16:16.506809",
     "status": "completed"
    },
    "tags": []
   },
   "outputs": [],
   "source": [
    "COLUMNS = [column for column, dtype in df.dtypes.to_dict().items() if str(dtype) in {'float64'}]\n",
    "RANDOM_STATE = 2025\n",
    "TARGET = 'replacement_needed'"
   ]
  },
  {
   "cell_type": "markdown",
   "id": "08b9feae",
   "metadata": {
    "papermill": {
     "duration": 0.00281,
     "end_time": "2025-02-03T19:16:16.523073",
     "exception": false,
     "start_time": "2025-02-03T19:16:16.520263",
     "status": "completed"
    },
    "tags": []
   },
   "source": [
    "Is our target class balanced?"
   ]
  },
  {
   "cell_type": "code",
   "execution_count": 4,
   "id": "494dca9e",
   "metadata": {
    "execution": {
     "iopub.execute_input": "2025-02-03T19:16:16.530256Z",
     "iopub.status.busy": "2025-02-03T19:16:16.529882Z",
     "iopub.status.idle": "2025-02-03T19:16:16.538567Z",
     "shell.execute_reply": "2025-02-03T19:16:16.537689Z"
    },
    "papermill": {
     "duration": 0.013907,
     "end_time": "2025-02-03T19:16:16.539974",
     "exception": false,
     "start_time": "2025-02-03T19:16:16.526067",
     "status": "completed"
    },
    "tags": []
   },
   "outputs": [
    {
     "data": {
      "text/plain": [
       "{0: 21887, 1: 28}"
      ]
     },
     "execution_count": 4,
     "metadata": {},
     "output_type": "execute_result"
    }
   ],
   "source": [
    "df[TARGET].value_counts().to_dict()"
   ]
  },
  {
   "cell_type": "markdown",
   "id": "5f095d49",
   "metadata": {
    "papermill": {
     "duration": 0.002908,
     "end_time": "2025-02-03T19:16:16.546387",
     "exception": false,
     "start_time": "2025-02-03T19:16:16.543479",
     "status": "completed"
    },
    "tags": []
   },
   "source": [
    "No. We have almost no filters that need to be replaced."
   ]
  },
  {
   "cell_type": "code",
   "execution_count": 5,
   "id": "55e17f23",
   "metadata": {
    "execution": {
     "iopub.execute_input": "2025-02-03T19:16:16.553785Z",
     "iopub.status.busy": "2025-02-03T19:16:16.553465Z",
     "iopub.status.idle": "2025-02-03T19:16:16.567929Z",
     "shell.execute_reply": "2025-02-03T19:16:16.567117Z"
    },
    "papermill": {
     "duration": 0.020028,
     "end_time": "2025-02-03T19:16:16.569535",
     "exception": false,
     "start_time": "2025-02-03T19:16:16.549507",
     "status": "completed"
    },
    "tags": []
   },
   "outputs": [],
   "source": [
    "target_1_df = df[df[TARGET] == 1]\n",
    "target_0_df = df[df[TARGET] == 0].sample(n=len(target_1_df), random_state=RANDOM_STATE)\n",
    "sample_df = pd.concat(axis='index', objs=[target_0_df, target_1_df])"
   ]
  },
  {
   "cell_type": "code",
   "execution_count": 6,
   "id": "6010caf8",
   "metadata": {
    "execution": {
     "iopub.execute_input": "2025-02-03T19:16:16.577555Z",
     "iopub.status.busy": "2025-02-03T19:16:16.577088Z",
     "iopub.status.idle": "2025-02-03T19:16:18.194466Z",
     "shell.execute_reply": "2025-02-03T19:16:18.193617Z"
    },
    "papermill": {
     "duration": 1.623537,
     "end_time": "2025-02-03T19:16:18.196532",
     "exception": false,
     "start_time": "2025-02-03T19:16:16.572995",
     "status": "completed"
    },
    "tags": []
   },
   "outputs": [],
   "source": [
    "from sklearn.manifold import TSNE\n",
    "\n",
    "reducer = TSNE(random_state=RANDOM_STATE)\n",
    "plot_df = pd.DataFrame(columns=['x', 'y'], data=reducer.fit_transform(X=sample_df[COLUMNS],))\n",
    "plot_df[TARGET] = sample_df[TARGET].tolist()\n",
    "plot_df[TARGET] = plot_df[TARGET] == 1"
   ]
  },
  {
   "cell_type": "code",
   "execution_count": 7,
   "id": "5b388069",
   "metadata": {
    "execution": {
     "iopub.execute_input": "2025-02-03T19:16:18.204564Z",
     "iopub.status.busy": "2025-02-03T19:16:18.204077Z",
     "iopub.status.idle": "2025-02-03T19:16:20.892393Z",
     "shell.execute_reply": "2025-02-03T19:16:20.891409Z"
    },
    "papermill": {
     "duration": 2.693912,
     "end_time": "2025-02-03T19:16:20.893927",
     "exception": false,
     "start_time": "2025-02-03T19:16:18.200015",
     "status": "completed"
    },
    "tags": []
   },
   "outputs": [
    {
     "data": {
      "text/html": [
       "        <script type=\"text/javascript\">\n",
       "        window.PlotlyConfig = {MathJaxConfig: 'local'};\n",
       "        if (window.MathJax && window.MathJax.Hub && window.MathJax.Hub.Config) {window.MathJax.Hub.Config({SVG: {font: \"STIX-Web\"}});}\n",
       "        if (typeof require !== 'undefined') {\n",
       "        require.undef(\"plotly\");\n",
       "        requirejs.config({\n",
       "            paths: {\n",
       "                'plotly': ['https://cdn.plot.ly/plotly-2.35.2.min']\n",
       "            }\n",
       "        });\n",
       "        require(['plotly'], function(Plotly) {\n",
       "            window._Plotly = Plotly;\n",
       "        });\n",
       "        }\n",
       "        </script>\n",
       "        "
      ]
     },
     "metadata": {},
     "output_type": "display_data"
    },
    {
     "data": {
      "text/html": [
       "<iframe\n",
       "    scrolling=\"no\"\n",
       "    width=\"100%\"\n",
       "    height=\"545px\"\n",
       "    src=\"iframe_figures/figure_7.html\"\n",
       "    frameborder=\"0\"\n",
       "    allowfullscreen\n",
       "></iframe>\n"
      ]
     },
     "metadata": {},
     "output_type": "display_data"
    }
   ],
   "source": [
    "from plotly import express\n",
    "from plotly.offline import init_notebook_mode\n",
    "\n",
    "init_notebook_mode(connected=True)\n",
    "express.scatter(data_frame=plot_df, x='x', y='y', color=TARGET).show(renderer='iframe_connected')"
   ]
  },
  {
   "cell_type": "markdown",
   "id": "a9a00162",
   "metadata": {
    "papermill": {
     "duration": 0.003163,
     "end_time": "2025-02-03T19:16:20.900715",
     "exception": false,
     "start_time": "2025-02-03T19:16:20.897552",
     "status": "completed"
    },
    "tags": []
   },
   "source": [
    "Surprisingly TSNE finds it pretty easy to distinguish filters that need to be replaced from filters that don't. Let's build a model."
   ]
  },
  {
   "cell_type": "code",
   "execution_count": 8,
   "id": "8005df51",
   "metadata": {
    "execution": {
     "iopub.execute_input": "2025-02-03T19:16:20.908631Z",
     "iopub.status.busy": "2025-02-03T19:16:20.908290Z",
     "iopub.status.idle": "2025-02-03T19:16:20.930642Z",
     "shell.execute_reply": "2025-02-03T19:16:20.929429Z"
    },
    "papermill": {
     "duration": 0.028207,
     "end_time": "2025-02-03T19:16:20.932341",
     "exception": false,
     "start_time": "2025-02-03T19:16:20.904134",
     "status": "completed"
    },
    "tags": []
   },
   "outputs": [
    {
     "name": "stdout",
     "output_type": "stream",
     "text": [
      "              precision    recall  f1-score   support\n",
      "\n",
      "           0       1.00      0.50      0.67         6\n",
      "           1       0.67      1.00      0.80         6\n",
      "\n",
      "    accuracy                           0.75        12\n",
      "   macro avg       0.83      0.75      0.73        12\n",
      "weighted avg       0.83      0.75      0.73        12\n",
      "\n"
     ]
    }
   ],
   "source": [
    "from sklearn.model_selection import train_test_split\n",
    "from sklearn.tree import DecisionTreeClassifier\n",
    "from sklearn.metrics import classification_report\n",
    "\n",
    "X_train, X_test, y_train, y_test = train_test_split(sample_df[COLUMNS], sample_df[TARGET], test_size=0.2, random_state=RANDOM_STATE, shuffle=True, stratify=sample_df[TARGET])\n",
    "tree = DecisionTreeClassifier(random_state=RANDOM_STATE)\n",
    "tree.fit(X=X_train, y=y_train)\n",
    "y_pred = tree.predict(X=X_test)\n",
    "print(classification_report(y_true=y_test, y_pred=y_pred))\n"
   ]
  }
 ],
 "metadata": {
  "kaggle": {
   "accelerator": "none",
   "dataSources": [
    {
     "datasetId": 6594908,
     "sourceId": 10650503,
     "sourceType": "datasetVersion"
    }
   ],
   "dockerImageVersionId": 30839,
   "isGpuEnabled": false,
   "isInternetEnabled": true,
   "language": "python",
   "sourceType": "notebook"
  },
  "kernelspec": {
   "display_name": "Python 3",
   "language": "python",
   "name": "python3"
  },
  "language_info": {
   "codemirror_mode": {
    "name": "ipython",
    "version": 3
   },
   "file_extension": ".py",
   "mimetype": "text/x-python",
   "name": "python",
   "nbconvert_exporter": "python",
   "pygments_lexer": "ipython3",
   "version": "3.10.12"
  },
  "papermill": {
   "default_parameters": {},
   "duration": 9.087118,
   "end_time": "2025-02-03T19:16:21.755481",
   "environment_variables": {},
   "exception": null,
   "input_path": "__notebook__.ipynb",
   "output_path": "__notebook__.ipynb",
   "parameters": {},
   "start_time": "2025-02-03T19:16:12.668363",
   "version": "2.6.0"
  }
 },
 "nbformat": 4,
 "nbformat_minor": 5
}
